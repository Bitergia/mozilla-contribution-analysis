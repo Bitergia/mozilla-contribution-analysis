{
 "cells": [
  {
   "cell_type": "raw",
   "metadata": {},
   "source": [
    "<script>\n",
    "  function code_toggle() {\n",
    "    if (code_shown){\n",
    "      $('div.input').hide('500');\n",
    "      $('div.output_text').hide('500')\n",
    "      $('#toggleButton').val('Show Code')\n",
    "    } else {\n",
    "      $('div.input').show('500');\n",
    "      $('div.output_text').show('500')\n",
    "      $('#toggleButton').val('Hide Code')\n",
    "    }\n",
    "    code_shown = !code_shown\n",
    "  }\n",
    "\n",
    "  $( document ).ready(function(){\n",
    "    code_shown=false;\n",
    "    $('div.input').hide()\n",
    "    $('div.output_text').hide()\n",
    "  });\n",
    "</script>\n",
    "<form action=\"javascript:code_toggle()\"><input type=\"submit\" id=\"toggleButton\" value=\"Show Code\"></form>"
   ]
  },
  {
   "cell_type": "markdown",
   "metadata": {},
   "source": [
    "### Metric Calculations\n",
    "First we need to load a connection against the proper ES instance. We use an external module to load credentials from a file that will not be shared. If you want to run this, please use your own credentials, just put them in a file named '.settings' (in the same directory as this notebook) following the example file 'settings.sample'.\n",
    "\n",
    "To work with **survey results** this notebook expect to find the following files:\n",
    "* **UUID's**: ../data/uuids.csv\n",
    "* **SURVEY**: ../data/survey-fake.csv\n",
    "\n",
    "**If you need to use a different survey file, just modify in the second code cell below this one.**"
   ]
  },
  {
   "cell_type": "code",
   "execution_count": 1,
   "metadata": {
    "collapsed": true
   },
   "outputs": [],
   "source": [
    "import pandas\n",
    "\n",
    "import util as ut\n",
    "\n",
    "from util import ESConnection\n",
    "\n",
    "es_conn = ESConnection()"
   ]
  },
  {
   "cell_type": "code",
   "execution_count": 2,
   "metadata": {
    "collapsed": false,
    "scrolled": false
   },
   "outputs": [
    {
     "name": "stdout",
     "output_type": "stream",
     "text": [
      "Identities with UUID found in survey file:  327\n",
      "Unique identities found:  327\n",
      "\n"
     ]
    }
   ],
   "source": [
    "# Read survey dataframe from survey and (response id, uuid) correspondence files\n",
    "\n",
    "############# MODIFY YOUR SURVEY CSV FILE HERE ######################################\n",
    "survey_df = ut.load_survey_df(survey_filepath='../data/survey-fake.csv',\n",
    "                              uuids_filepath='../data/uuids.csv')\n",
    "#####################################################################################\n",
    "\n",
    "project_name = 'WebVR'\n",
    "\n",
    "print('Identities with UUID found in survey file: ', len(survey_df))\n",
    "print('Unique identities found: ', len(survey_df.uuid.unique()))\n",
    "print()\n",
    "\n",
    "def add_common_filters(source, s):\n",
    "    s = s.filter('terms', author_uuid=survey_df['uuid'].tolist())\n",
    "    # EXCLUDE MOZILLA EMPLOYEES\n",
    "    s = s.exclude('terms', author_org_name=['Mozilla Staff', 'Code Sheriff'])\n",
    "    s = s.filter('term', project=project_name)\n",
    "        \n",
    "    return s\n",
    "\n"
   ]
  },
  {
   "cell_type": "code",
   "execution_count": 3,
   "metadata": {
    "collapsed": false
   },
   "outputs": [
    {
     "name": "stdout",
     "output_type": "stream",
     "text": [
      "AUTHORS FOUND IN GIT:  6\n"
     ]
    }
   ],
   "source": [
    "### GET AUTHORS IN GIT, THEIR PROJECTS AND COMMITS\n",
    "source = 'git'\n",
    "s = ut.create_search(es_conn, source)\n",
    "\n",
    "s = add_common_filters(source, s)\n",
    "\n",
    "# Bucketize by uuid and project\n",
    "s.aggs.bucket('uuid', 'terms', field='author_uuid', size=100000) \\\n",
    "        .bucket('project', 'terms', field='project', size=100000) \\\n",
    "        .metric('commits', 'cardinality', field='hash', precision_threshold=1000000)\n",
    "\n",
    "result = s.execute()\n",
    "\n",
    "author_commits_df = ut.stack_by(result=result, group_field='uuid', subgroup_field='project', value_field='commits',\n",
    "                                group_column='uuid', subgroup_column='git project', value_column='commits')\n",
    "\n",
    "print('AUTHORS FOUND IN GIT: ', len(author_commits_df['uuid'].unique()))"
   ]
  },
  {
   "cell_type": "code",
   "execution_count": 4,
   "metadata": {
    "collapsed": false
   },
   "outputs": [
    {
     "name": "stdout",
     "output_type": "stream",
     "text": [
      "AUTHORS FOUND IN BUGZILLA:  0\n"
     ]
    }
   ],
   "source": [
    "### GET AUTHORS IN BUGZILLA, THEIR PROJECTS AND NUMBER OF BUGS\n",
    "source = 'bugzilla'\n",
    "s = ut.create_search(es_conn, source)\n",
    "\n",
    "s = add_common_filters(source, s)\n",
    "\n",
    "# Bucketize by uuid and project\n",
    "s.aggs.bucket('uuid', 'terms', field='author_uuid', size=100000) \\\n",
    "        .bucket('project', 'terms', field='project', size=100000)\n",
    "\n",
    "result = s.execute()\n",
    "\n",
    "author_bugs_df = ut.stack_by(result=result, group_field='uuid', subgroup_field='project',\n",
    "                                group_column='uuid', subgroup_column='bugzilla project', value_column='bugs')\n",
    "\n",
    "print('AUTHORS FOUND IN BUGZILLA: ', len(author_bugs_df['uuid'].unique()))"
   ]
  },
  {
   "cell_type": "code",
   "execution_count": 5,
   "metadata": {
    "collapsed": false,
    "scrolled": true
   },
   "outputs": [
    {
     "name": "stdout",
     "output_type": "stream",
     "text": [
      "AUTHORS FOUND IN MBOX:  0\n"
     ]
    }
   ],
   "source": [
    "### GET AUTHORS IN MAILING LISTS, THEIR PROJECTS AND NUMBER OF EMAILS\n",
    "source = 'mbox'\n",
    "s = ut.create_search(es_conn, source)\n",
    "\n",
    "s = add_common_filters(source, s)\n",
    "\n",
    "# Bucketize by uuid and project\n",
    "s.aggs.bucket('uuid', 'terms', field='author_uuid', size=100000) \\\n",
    "        .bucket('project', 'terms', field='project', size=100000)\n",
    "\n",
    "result = s.execute()\n",
    "\n",
    "author_emails_df = ut.stack_by(result=result, group_field='uuid', subgroup_field='project',\n",
    "                                group_column='uuid', subgroup_column='mbox project', value_column='emails')\n",
    "\n",
    "print('AUTHORS FOUND IN MBOX: ', len(author_emails_df['uuid'].unique()))"
   ]
  },
  {
   "cell_type": "code",
   "execution_count": 6,
   "metadata": {
    "collapsed": false
   },
   "outputs": [
    {
     "name": "stdout",
     "output_type": "stream",
     "text": [
      "AUTHORS FOUND IN DISCOURSE:  1\n"
     ]
    }
   ],
   "source": [
    "### GET AUTHORS IN DISCOURSE, THEIR PROJECTS AND NUMBER OF MESSAGES\n",
    "source = 'discourse'\n",
    "s = ut.create_search(es_conn, source)\n",
    "\n",
    "s = add_common_filters(source,s)\n",
    "\n",
    "# Bucketize by uuid and project\n",
    "s.aggs.bucket('uuid', 'terms', field='author_uuid', size=100000) \\\n",
    "        .bucket('project', 'terms', field='project', size=100000)\n",
    "\n",
    "result = s.execute()\n",
    "\n",
    "author_discourse_df = ut.stack_by(result=result, group_field='uuid', subgroup_field='project',\n",
    "                                group_column='uuid', subgroup_column='discourse project', value_column='messages')\n",
    "\n",
    "print('AUTHORS FOUND IN DISCOURSE: ', len(author_discourse_df['uuid'].unique()))"
   ]
  },
  {
   "cell_type": "code",
   "execution_count": 7,
   "metadata": {
    "collapsed": false
   },
   "outputs": [
    {
     "name": "stdout",
     "output_type": "stream",
     "text": [
      "AUTHORS FOUND IN GITHUB:  8\n"
     ]
    }
   ],
   "source": [
    "### GET AUTHORS IN GITHUB, THEIR PROJECTS AND NUMBER OF ISSUES AND PR's\n",
    "source = 'github_issues'\n",
    "\n",
    "# PULL REQUESTS\n",
    "s_prs = ut.create_search(es_conn, source)\n",
    "\n",
    "s_prs = add_common_filters(source, s_prs)\n",
    "\n",
    "# Get only PRs\n",
    "s_prs = s_prs.filter('terms', pull_request=['true'])\n",
    "\n",
    "s_prs.aggs.bucket('uuid', 'terms', field='author_uuid', size=100000) \\\n",
    "    .bucket('project', 'terms', field='project', size=100)\n",
    "result_prs = s_prs.execute()\n",
    "\n",
    "\n",
    "# ISSUES\n",
    "s_iss = ut.create_search(es_conn, 'github_issues')\n",
    "\n",
    "s_iss = add_common_filters(source, s_iss)\n",
    "\n",
    "# Get only Issues\n",
    "s_iss = s_iss.filter('terms', pull_request=['false'])\n",
    "s_iss.aggs.bucket('uuid', 'terms', field='author_uuid', size=100000) \\\n",
    "    .bucket('project', 'terms', field='project', size=100)\n",
    "result_iss = s_iss.execute()\n",
    "\n",
    "\n",
    "# MERGE PR's and ISSUES\n",
    "\n",
    "prs_df = ut.stack_by(result=result_prs, group_column='uuid', subgroup_column='github project',\n",
    "                     value_column='pull requests', group_field='uuid', subgroup_field='project')\n",
    "iss_df = ut.stack_by(result=result_iss, group_column='uuid', subgroup_column='github project',\n",
    "                     value_column='issues', group_field='uuid', subgroup_field='project')\n",
    "\n",
    "github_df = pandas.merge(prs_df, iss_df, how='outer', on=['uuid', 'github project'])\n",
    "github_df = github_df.fillna(0)\n",
    "\n",
    "print('AUTHORS FOUND IN GITHUB: ', len(github_df['uuid'].unique()))"
   ]
  },
  {
   "cell_type": "code",
   "execution_count": 8,
   "metadata": {
    "collapsed": false,
    "scrolled": true
   },
   "outputs": [
    {
     "name": "stdout",
     "output_type": "stream",
     "text": [
      "AUTHORS FOUND IN GIT, GITHUB, BUGZILLA, MBOX, DISCOURSE:  9\n"
     ]
    }
   ],
   "source": [
    "authors_global_df = pandas.concat([author_commits_df, \n",
    "                                   author_emails_df, \n",
    "                                   github_df, \n",
    "                                   author_bugs_df,\n",
    "                                   author_discourse_df], \n",
    "                                  keys=['git', 'mbox', 'github', 'bugzilla', 'discourse'])\n",
    "\n",
    "\n",
    "grouped_df = authors_global_df.groupby(['uuid']).agg({'emails': 'sum', \n",
    "                                                     'commits': 'sum',\n",
    "                                                     'pull requests': 'sum',\n",
    "                                                     'issues': 'sum',\n",
    "                                                     'bugs': 'sum',\n",
    "                                                     'messages': 'sum',\n",
    "                                                     'git project': pandas.Series.nunique,\n",
    "                                                     'mbox project': pandas.Series.nunique,\n",
    "                                                     'github project': pandas.Series.nunique,\n",
    "                                                     'bugzilla project': pandas.Series.nunique,\n",
    "                                                     'discourse project': pandas.Series.nunique\n",
    "                                                     })\n",
    "\n",
    "grouped_df = grouped_df.reset_index().sort_values(by=['commits'], ascending=[False])\n",
    "\n",
    "\n",
    "grouped_df = grouped_df[['uuid', 'commits', 'pull requests', 'issues', 'bugs', 'emails', 'messages',\n",
    "                         'git project', 'github project', 'bugzilla project', 'mbox project',\n",
    "                         'discourse project']]\n",
    "\n",
    "print('AUTHORS FOUND IN GIT, GITHUB, BUGZILLA, MBOX, DISCOURSE: ', len(grouped_df['uuid'].unique()))\n",
    "\n",
    "grouped_df = grouped_df.fillna(0)"
   ]
  },
  {
   "cell_type": "code",
   "execution_count": 9,
   "metadata": {
    "collapsed": false
   },
   "outputs": [
    {
     "name": "stdout",
     "output_type": "stream",
     "text": [
      "Authors matched in Survey:  327\n",
      "Authors found in indexes & projects:  9\n"
     ]
    }
   ],
   "source": [
    "### USERS WITH NO ACTIVITY OR COLLABORATING IN UNTRACKED PROJECTS\n",
    "print('Authors matched in Survey: ', len(survey_df.uuid.unique()))\n",
    "print('Authors found in indexes & projects: ', len(grouped_df.uuid.unique()))\n"
   ]
  },
  {
   "cell_type": "markdown",
   "metadata": {},
   "source": [
    "# Compute Experience Dataframe"
   ]
  },
  {
   "cell_type": "code",
   "execution_count": 10,
   "metadata": {
    "collapsed": false
   },
   "outputs": [
    {
     "name": "stdout",
     "output_type": "stream",
     "text": [
      "Before merging: 9 After merging: 9\n"
     ]
    }
   ],
   "source": [
    "## COMPUTE EXPERIENCE\n",
    "###\n",
    "## GET COMMITS BY YEAR AND AUTHOR\n",
    "###\n",
    "\n",
    "min_commits = 1\n",
    "\n",
    "# Buckets by author name, finding first commit for each of them\n",
    "s = ut.create_search(es_conn, 'git')\n",
    "\n",
    "s = add_common_filters('git', s)\n",
    "\n",
    "# Retrieve commits before given year\n",
    "#s = s.filter('range', grimoire_creation_date={'lt': 'now/y'})\n",
    "\n",
    "# Bucketize by time, uuid and organization, then count commits per year\n",
    "s.aggs.bucket('time', 'date_histogram', field='grimoire_creation_date', interval='year') \\\n",
    "    .bucket('uuid', 'terms', field='author_uuid', size=100000, min_doc_count=min_commits) \\\n",
    "    .metric('commits', 'cardinality', field='hash', precision_threshold=1000)\n",
    "\n",
    "r = s.execute()\n",
    "\n",
    "exp_df = ut.to_simple_df_by_time(r, 'uuid', 'time', 'commits', 'uuid', 'time', 'commits')\n",
    "exp_df['last commit'] = exp_df['time'].apply(lambda x: str(pandas.Period(x,'A')))\n",
    "exp_df['first commit'] = exp_df['last commit']\n",
    "\n",
    "## ACTIVE CONDITION #################################\n",
    "## Filter those having less than N commits per year\n",
    "exp_df = exp_df[exp_df['commits'] >= 1]\n",
    "#####################################################\n",
    "\n",
    "## Group by author, get MAX YEAR and NUMBER OF ROWS FOR THE GIVEN AUTHOR\n",
    "exp_df = exp_df.groupby(['uuid']).agg({'last commit': 'max', 'first commit': 'min', 'commits': 'count'})\n",
    "\n",
    "exp_df = exp_df.reset_index()\n",
    "\n",
    "exp_df['exp'] = exp_df['commits']\n",
    "exp_df= exp_df.drop('commits', axis=1)\n",
    "\n",
    "\n",
    "# Merge exp with the rest of information we have splitted by uuid\n",
    "exp_merged_df = grouped_df.merge(exp_df, on=['uuid'], how='left')\n",
    "\n",
    "print('Before merging:', len(grouped_df), 'After merging:', len(exp_merged_df))"
   ]
  },
  {
   "cell_type": "markdown",
   "metadata": {},
   "source": [
    "# Metrics\n",
    "\n",
    "Take survey fields and compare them one to one with activity information from Bitergia's indexes."
   ]
  },
  {
   "cell_type": "code",
   "execution_count": 11,
   "metadata": {
    "collapsed": false
   },
   "outputs": [
    {
     "name": "stdout",
     "output_type": "stream",
     "text": [
      "Authors in Git(Non-employees): 221\n"
     ]
    }
   ],
   "source": [
    "## GET GIT COMMITS DISTRIBUTION\n",
    "source = 'git'\n",
    "s = ut.create_search(es_conn, source)\n",
    "\n",
    "s = s.exclude('terms', author_org_name=['Mozilla Staff', 'Code Sheriff'])\n",
    "# GET ONLY COMMITS FOR THE GIVEN PROJECT\n",
    "s = s.filter('term', project=project_name)\n",
    "\n",
    "# Bucketize by uuid and project\n",
    "s.aggs.bucket('uuid', 'terms', field='author_uuid', size=100000) \\\n",
    "        .metric('commits', 'cardinality', field='hash', precision_threshold=1000000)\n",
    "\n",
    "result = s.execute()\n",
    "\n",
    "nonemp_commits_df = ut.to_simple_df(result, group_field='uuid', value_field='commits',\n",
    "                                 group_column='uuid', value_column='commits')\n",
    "\n",
    "print('Authors in Git(Non-employees):', len(nonemp_commits_df))"
   ]
  },
  {
   "cell_type": "code",
   "execution_count": 13,
   "metadata": {
    "collapsed": false,
    "scrolled": false
   },
   "outputs": [
    {
     "data": {
      "text/html": [
       "<script>requirejs.config({paths: { 'plotly': ['https://cdn.plot.ly/plotly-latest.min']},});if(!window.Plotly) {{require(['plotly'],function(plotly) {window.Plotly=plotly;});}}</script>"
      ],
      "text/vnd.plotly.v1+html": [
       "<script>requirejs.config({paths: { 'plotly': ['https://cdn.plot.ly/plotly-latest.min']},});if(!window.Plotly) {{require(['plotly'],function(plotly) {window.Plotly=plotly;});}}</script>"
      ]
     },
     "metadata": {},
     "output_type": "display_data"
    },
    {
     "data": {
      "application/vnd.plotly.v1+json": {
       "data": [
        {
         "boxpoints": "all",
         "jitter": 0.5,
         "marker": {
          "size": 2
         },
         "name": "30-39(2)",
         "type": "box",
         "y": [
          66,
          0
         ]
        },
        {
         "boxpoints": "all",
         "jitter": 0.5,
         "marker": {
          "size": 2
         },
         "name": "18-29(7)",
         "type": "box",
         "y": [
          13,
          7,
          5,
          3,
          1,
          0,
          0
         ]
        }
       ],
       "layout": {
        "title": "age vs commits",
        "xaxis": {
         "title": "age"
        },
        "yaxis": {
         "title": "commits"
        }
       }
      },
      "text/html": [
       "<div id=\"a3fa9a28-3e57-4f91-9b4e-77b0c8fc1d56\" style=\"height: 525px; width: 100%;\" class=\"plotly-graph-div\"></div><script type=\"text/javascript\">require([\"plotly\"], function(Plotly) { window.PLOTLYENV=window.PLOTLYENV || {};window.PLOTLYENV.BASE_URL=\"https://plot.ly\";Plotly.newPlot(\"a3fa9a28-3e57-4f91-9b4e-77b0c8fc1d56\", [{\"type\": \"box\", \"boxpoints\": \"all\", \"name\": \"30-39(2)\", \"marker\": {\"size\": 2}, \"y\": [66.0, 0.0], \"jitter\": 0.5}, {\"type\": \"box\", \"boxpoints\": \"all\", \"name\": \"18-29(7)\", \"marker\": {\"size\": 2}, \"y\": [13.0, 7.0, 5.0, 3.0, 1.0, 0.0, 0.0], \"jitter\": 0.5}], {\"xaxis\": {\"title\": \"age\"}, \"title\": \"age vs commits\", \"yaxis\": {\"title\": \"commits\"}}, {\"showLink\": true, \"linkText\": \"Export to plot.ly\"})});</script>"
      ],
      "text/vnd.plotly.v1+html": [
       "<div id=\"a3fa9a28-3e57-4f91-9b4e-77b0c8fc1d56\" style=\"height: 525px; width: 100%;\" class=\"plotly-graph-div\"></div><script type=\"text/javascript\">require([\"plotly\"], function(Plotly) { window.PLOTLYENV=window.PLOTLYENV || {};window.PLOTLYENV.BASE_URL=\"https://plot.ly\";Plotly.newPlot(\"a3fa9a28-3e57-4f91-9b4e-77b0c8fc1d56\", [{\"type\": \"box\", \"boxpoints\": \"all\", \"name\": \"30-39(2)\", \"marker\": {\"size\": 2}, \"y\": [66.0, 0.0], \"jitter\": 0.5}, {\"type\": \"box\", \"boxpoints\": \"all\", \"name\": \"18-29(7)\", \"marker\": {\"size\": 2}, \"y\": [13.0, 7.0, 5.0, 3.0, 1.0, 0.0, 0.0], \"jitter\": 0.5}], {\"xaxis\": {\"title\": \"age\"}, \"title\": \"age vs commits\", \"yaxis\": {\"title\": \"commits\"}}, {\"showLink\": true, \"linkText\": \"Export to plot.ly\"})});</script>"
      ]
     },
     "metadata": {},
     "output_type": "display_data"
    },
    {
     "data": {
      "application/vnd.plotly.v1+json": {
       "data": [
        {
         "labels": [
          "30-39",
          "18-29"
         ],
         "type": "pie",
         "values": [
          2,
          7
         ]
        }
       ],
       "layout": {
        "title": "Population Distribution of age"
       }
      },
      "text/html": [
       "<div id=\"f2790cc4-0ec7-4818-8205-aaa9c3a3c6da\" style=\"height: 525px; width: 100%;\" class=\"plotly-graph-div\"></div><script type=\"text/javascript\">require([\"plotly\"], function(Plotly) { window.PLOTLYENV=window.PLOTLYENV || {};window.PLOTLYENV.BASE_URL=\"https://plot.ly\";Plotly.newPlot(\"f2790cc4-0ec7-4818-8205-aaa9c3a3c6da\", [{\"type\": \"pie\", \"values\": [2, 7], \"labels\": [\"30-39\", \"18-29\"]}], {\"title\": \"Population Distribution of age\"}, {\"showLink\": true, \"linkText\": \"Export to plot.ly\"})});</script>"
      ],
      "text/vnd.plotly.v1+html": [
       "<div id=\"f2790cc4-0ec7-4818-8205-aaa9c3a3c6da\" style=\"height: 525px; width: 100%;\" class=\"plotly-graph-div\"></div><script type=\"text/javascript\">require([\"plotly\"], function(Plotly) { window.PLOTLYENV=window.PLOTLYENV || {};window.PLOTLYENV.BASE_URL=\"https://plot.ly\";Plotly.newPlot(\"f2790cc4-0ec7-4818-8205-aaa9c3a3c6da\", [{\"type\": \"pie\", \"values\": [2, 7], \"labels\": [\"30-39\", \"18-29\"]}], {\"title\": \"Population Distribution of age\"}, {\"showLink\": true, \"linkText\": \"Export to plot.ly\"})});</script>"
      ]
     },
     "metadata": {},
     "output_type": "display_data"
    },
    {
     "data": {
      "application/vnd.plotly.v1+json": {
       "data": [
        {
         "boxpoints": false,
         "name": "Non-employees commits",
         "type": "box",
         "y": [
          1312,
          427,
          314,
          66,
          48,
          38,
          32,
          27,
          18,
          16,
          15,
          14,
          13,
          13,
          13,
          12,
          11,
          10,
          10,
          10,
          9,
          8,
          8,
          7,
          7,
          7,
          7,
          6,
          6,
          6,
          6,
          6,
          6,
          5,
          5,
          5,
          5,
          5,
          5,
          5,
          5,
          5,
          4,
          4,
          4,
          4,
          4,
          4,
          4,
          4,
          4,
          4,
          4,
          4,
          4,
          4,
          3,
          3,
          3,
          3,
          3,
          3,
          3,
          3,
          3,
          3,
          3,
          3,
          3,
          3,
          3,
          3,
          3,
          3,
          3,
          3,
          2,
          2,
          2,
          2,
          2,
          2,
          2,
          2,
          2,
          2,
          2,
          2,
          2,
          2,
          2,
          2,
          2,
          2,
          2,
          2,
          2,
          2,
          2,
          2,
          2,
          2,
          2,
          2,
          2,
          2,
          2,
          2,
          2,
          2,
          2,
          2,
          1,
          1,
          1,
          1,
          1,
          1,
          1,
          1,
          1,
          1,
          1,
          1,
          1,
          1,
          1,
          1,
          1,
          1,
          1,
          1,
          1,
          1,
          1,
          1,
          1,
          1,
          1,
          1,
          1,
          1,
          1,
          1,
          1,
          1,
          1,
          1,
          1,
          1,
          1,
          1,
          1,
          1,
          1,
          1,
          1,
          1,
          1,
          1,
          1,
          1,
          1,
          1,
          1,
          1,
          1,
          1,
          1,
          1,
          1,
          1,
          1,
          1,
          1,
          1,
          1,
          1,
          1,
          1,
          1,
          1,
          1,
          1,
          1,
          1,
          1,
          1,
          1,
          1,
          1,
          1,
          1,
          1,
          1,
          1,
          1,
          1,
          1,
          1,
          1,
          1,
          1,
          1,
          1,
          1,
          1,
          1,
          1,
          1,
          1,
          1,
          1,
          1,
          1,
          1,
          1,
          1,
          1,
          1,
          1
         ]
        },
        {
         "boxpoints": false,
         "name": "Survey commits",
         "type": "box",
         "y": [
          66,
          0,
          13,
          7,
          5,
          3,
          1,
          0,
          0
         ]
        }
       ],
       "layout": {
        "title": "age vs commits",
        "xaxis": {
         "title": "age"
        },
        "yaxis": {
         "range": [
          "0",
          "100"
         ],
         "title": "commits"
        }
       }
      },
      "text/html": [
       "<div id=\"82544b01-dad0-4dd3-8912-c31c97b9bbf1\" style=\"height: 525px; width: 100%;\" class=\"plotly-graph-div\"></div><script type=\"text/javascript\">require([\"plotly\"], function(Plotly) { window.PLOTLYENV=window.PLOTLYENV || {};window.PLOTLYENV.BASE_URL=\"https://plot.ly\";Plotly.newPlot(\"82544b01-dad0-4dd3-8912-c31c97b9bbf1\", [{\"type\": \"box\", \"boxpoints\": false, \"name\": \"Non-employees commits\", \"y\": [1312, 427, 314, 66, 48, 38, 32, 27, 18, 16, 15, 14, 13, 13, 13, 12, 11, 10, 10, 10, 9, 8, 8, 7, 7, 7, 7, 6, 6, 6, 6, 6, 6, 5, 5, 5, 5, 5, 5, 5, 5, 5, 4, 4, 4, 4, 4, 4, 4, 4, 4, 4, 4, 4, 4, 4, 3, 3, 3, 3, 3, 3, 3, 3, 3, 3, 3, 3, 3, 3, 3, 3, 3, 3, 3, 3, 2, 2, 2, 2, 2, 2, 2, 2, 2, 2, 2, 2, 2, 2, 2, 2, 2, 2, 2, 2, 2, 2, 2, 2, 2, 2, 2, 2, 2, 2, 2, 2, 2, 2, 2, 2, 1, 1, 1, 1, 1, 1, 1, 1, 1, 1, 1, 1, 1, 1, 1, 1, 1, 1, 1, 1, 1, 1, 1, 1, 1, 1, 1, 1, 1, 1, 1, 1, 1, 1, 1, 1, 1, 1, 1, 1, 1, 1, 1, 1, 1, 1, 1, 1, 1, 1, 1, 1, 1, 1, 1, 1, 1, 1, 1, 1, 1, 1, 1, 1, 1, 1, 1, 1, 1, 1, 1, 1, 1, 1, 1, 1, 1, 1, 1, 1, 1, 1, 1, 1, 1, 1, 1, 1, 1, 1, 1, 1, 1, 1, 1, 1, 1, 1, 1, 1, 1, 1, 1, 1, 1, 1, 1, 1, 1]}, {\"type\": \"box\", \"boxpoints\": false, \"name\": \"Survey commits\", \"y\": [66.0, 0.0, 13.0, 7.0, 5.0, 3.0, 1.0, 0.0, 0.0]}], {\"xaxis\": {\"title\": \"age\"}, \"title\": \"age vs commits\", \"yaxis\": {\"title\": \"commits\", \"range\": [\"0\", \"100\"]}}, {\"showLink\": true, \"linkText\": \"Export to plot.ly\"})});</script>"
      ],
      "text/vnd.plotly.v1+html": [
       "<div id=\"82544b01-dad0-4dd3-8912-c31c97b9bbf1\" style=\"height: 525px; width: 100%;\" class=\"plotly-graph-div\"></div><script type=\"text/javascript\">require([\"plotly\"], function(Plotly) { window.PLOTLYENV=window.PLOTLYENV || {};window.PLOTLYENV.BASE_URL=\"https://plot.ly\";Plotly.newPlot(\"82544b01-dad0-4dd3-8912-c31c97b9bbf1\", [{\"type\": \"box\", \"boxpoints\": false, \"name\": \"Non-employees commits\", \"y\": [1312, 427, 314, 66, 48, 38, 32, 27, 18, 16, 15, 14, 13, 13, 13, 12, 11, 10, 10, 10, 9, 8, 8, 7, 7, 7, 7, 6, 6, 6, 6, 6, 6, 5, 5, 5, 5, 5, 5, 5, 5, 5, 4, 4, 4, 4, 4, 4, 4, 4, 4, 4, 4, 4, 4, 4, 3, 3, 3, 3, 3, 3, 3, 3, 3, 3, 3, 3, 3, 3, 3, 3, 3, 3, 3, 3, 2, 2, 2, 2, 2, 2, 2, 2, 2, 2, 2, 2, 2, 2, 2, 2, 2, 2, 2, 2, 2, 2, 2, 2, 2, 2, 2, 2, 2, 2, 2, 2, 2, 2, 2, 2, 1, 1, 1, 1, 1, 1, 1, 1, 1, 1, 1, 1, 1, 1, 1, 1, 1, 1, 1, 1, 1, 1, 1, 1, 1, 1, 1, 1, 1, 1, 1, 1, 1, 1, 1, 1, 1, 1, 1, 1, 1, 1, 1, 1, 1, 1, 1, 1, 1, 1, 1, 1, 1, 1, 1, 1, 1, 1, 1, 1, 1, 1, 1, 1, 1, 1, 1, 1, 1, 1, 1, 1, 1, 1, 1, 1, 1, 1, 1, 1, 1, 1, 1, 1, 1, 1, 1, 1, 1, 1, 1, 1, 1, 1, 1, 1, 1, 1, 1, 1, 1, 1, 1, 1, 1, 1, 1, 1, 1]}, {\"type\": \"box\", \"boxpoints\": false, \"name\": \"Survey commits\", \"y\": [66.0, 0.0, 13.0, 7.0, 5.0, 3.0, 1.0, 0.0, 0.0]}], {\"xaxis\": {\"title\": \"age\"}, \"title\": \"age vs commits\", \"yaxis\": {\"title\": \"commits\", \"range\": [\"0\", \"100\"]}}, {\"showLink\": true, \"linkText\": \"Export to plot.ly\"})});</script>"
      ]
     },
     "metadata": {},
     "output_type": "display_data"
    },
    {
     "data": {
      "application/vnd.plotly.v1+json": {
       "data": [
        {
         "boxpoints": "all",
         "jitter": 0.5,
         "marker": {
          "size": 2
         },
         "name": "30-39(2)",
         "type": "box",
         "y": [
          54,
          0
         ]
        },
        {
         "boxpoints": "all",
         "jitter": 0.5,
         "marker": {
          "size": 2
         },
         "name": "18-29(7)",
         "type": "box",
         "y": [
          13,
          9,
          3,
          4,
          1,
          1,
          0
         ]
        }
       ],
       "layout": {
        "title": "age vs pull requests",
        "xaxis": {
         "title": "age"
        },
        "yaxis": {
         "title": "pull requests"
        }
       }
      },
      "text/html": [
       "<div id=\"a714dcc4-867b-436c-b338-332002b65184\" style=\"height: 525px; width: 100%;\" class=\"plotly-graph-div\"></div><script type=\"text/javascript\">require([\"plotly\"], function(Plotly) { window.PLOTLYENV=window.PLOTLYENV || {};window.PLOTLYENV.BASE_URL=\"https://plot.ly\";Plotly.newPlot(\"a714dcc4-867b-436c-b338-332002b65184\", [{\"type\": \"box\", \"boxpoints\": \"all\", \"name\": \"30-39(2)\", \"marker\": {\"size\": 2}, \"y\": [54.0, 0.0], \"jitter\": 0.5}, {\"type\": \"box\", \"boxpoints\": \"all\", \"name\": \"18-29(7)\", \"marker\": {\"size\": 2}, \"y\": [13.0, 9.0, 3.0, 4.0, 1.0, 1.0, 0.0], \"jitter\": 0.5}], {\"xaxis\": {\"title\": \"age\"}, \"title\": \"age vs pull requests\", \"yaxis\": {\"title\": \"pull requests\"}}, {\"showLink\": true, \"linkText\": \"Export to plot.ly\"})});</script>"
      ],
      "text/vnd.plotly.v1+html": [
       "<div id=\"a714dcc4-867b-436c-b338-332002b65184\" style=\"height: 525px; width: 100%;\" class=\"plotly-graph-div\"></div><script type=\"text/javascript\">require([\"plotly\"], function(Plotly) { window.PLOTLYENV=window.PLOTLYENV || {};window.PLOTLYENV.BASE_URL=\"https://plot.ly\";Plotly.newPlot(\"a714dcc4-867b-436c-b338-332002b65184\", [{\"type\": \"box\", \"boxpoints\": \"all\", \"name\": \"30-39(2)\", \"marker\": {\"size\": 2}, \"y\": [54.0, 0.0], \"jitter\": 0.5}, {\"type\": \"box\", \"boxpoints\": \"all\", \"name\": \"18-29(7)\", \"marker\": {\"size\": 2}, \"y\": [13.0, 9.0, 3.0, 4.0, 1.0, 1.0, 0.0], \"jitter\": 0.5}], {\"xaxis\": {\"title\": \"age\"}, \"title\": \"age vs pull requests\", \"yaxis\": {\"title\": \"pull requests\"}}, {\"showLink\": true, \"linkText\": \"Export to plot.ly\"})});</script>"
      ]
     },
     "metadata": {},
     "output_type": "display_data"
    },
    {
     "data": {
      "application/vnd.plotly.v1+json": {
       "data": [
        {
         "labels": [
          "30-39",
          "18-29"
         ],
         "type": "pie",
         "values": [
          2,
          7
         ]
        }
       ],
       "layout": {
        "title": "Population Distribution of age"
       }
      },
      "text/html": [
       "<div id=\"79243179-f5cf-4ae3-8e6a-badff88780dc\" style=\"height: 525px; width: 100%;\" class=\"plotly-graph-div\"></div><script type=\"text/javascript\">require([\"plotly\"], function(Plotly) { window.PLOTLYENV=window.PLOTLYENV || {};window.PLOTLYENV.BASE_URL=\"https://plot.ly\";Plotly.newPlot(\"79243179-f5cf-4ae3-8e6a-badff88780dc\", [{\"type\": \"pie\", \"values\": [2, 7], \"labels\": [\"30-39\", \"18-29\"]}], {\"title\": \"Population Distribution of age\"}, {\"showLink\": true, \"linkText\": \"Export to plot.ly\"})});</script>"
      ],
      "text/vnd.plotly.v1+html": [
       "<div id=\"79243179-f5cf-4ae3-8e6a-badff88780dc\" style=\"height: 525px; width: 100%;\" class=\"plotly-graph-div\"></div><script type=\"text/javascript\">require([\"plotly\"], function(Plotly) { window.PLOTLYENV=window.PLOTLYENV || {};window.PLOTLYENV.BASE_URL=\"https://plot.ly\";Plotly.newPlot(\"79243179-f5cf-4ae3-8e6a-badff88780dc\", [{\"type\": \"pie\", \"values\": [2, 7], \"labels\": [\"30-39\", \"18-29\"]}], {\"title\": \"Population Distribution of age\"}, {\"showLink\": true, \"linkText\": \"Export to plot.ly\"})});</script>"
      ]
     },
     "metadata": {},
     "output_type": "display_data"
    },
    {
     "data": {
      "application/vnd.plotly.v1+json": {
       "data": [
        {
         "boxpoints": false,
         "name": "Non-employees pull requests",
         "type": "box",
         "y": [
          1312,
          427,
          314,
          66,
          48,
          38,
          32,
          27,
          18,
          16,
          15,
          14,
          13,
          13,
          13,
          12,
          11,
          10,
          10,
          10,
          9,
          8,
          8,
          7,
          7,
          7,
          7,
          6,
          6,
          6,
          6,
          6,
          6,
          5,
          5,
          5,
          5,
          5,
          5,
          5,
          5,
          5,
          4,
          4,
          4,
          4,
          4,
          4,
          4,
          4,
          4,
          4,
          4,
          4,
          4,
          4,
          3,
          3,
          3,
          3,
          3,
          3,
          3,
          3,
          3,
          3,
          3,
          3,
          3,
          3,
          3,
          3,
          3,
          3,
          3,
          3,
          2,
          2,
          2,
          2,
          2,
          2,
          2,
          2,
          2,
          2,
          2,
          2,
          2,
          2,
          2,
          2,
          2,
          2,
          2,
          2,
          2,
          2,
          2,
          2,
          2,
          2,
          2,
          2,
          2,
          2,
          2,
          2,
          2,
          2,
          2,
          2,
          1,
          1,
          1,
          1,
          1,
          1,
          1,
          1,
          1,
          1,
          1,
          1,
          1,
          1,
          1,
          1,
          1,
          1,
          1,
          1,
          1,
          1,
          1,
          1,
          1,
          1,
          1,
          1,
          1,
          1,
          1,
          1,
          1,
          1,
          1,
          1,
          1,
          1,
          1,
          1,
          1,
          1,
          1,
          1,
          1,
          1,
          1,
          1,
          1,
          1,
          1,
          1,
          1,
          1,
          1,
          1,
          1,
          1,
          1,
          1,
          1,
          1,
          1,
          1,
          1,
          1,
          1,
          1,
          1,
          1,
          1,
          1,
          1,
          1,
          1,
          1,
          1,
          1,
          1,
          1,
          1,
          1,
          1,
          1,
          1,
          1,
          1,
          1,
          1,
          1,
          1,
          1,
          1,
          1,
          1,
          1,
          1,
          1,
          1,
          1,
          1,
          1,
          1,
          1,
          1,
          1,
          1,
          1,
          1
         ]
        },
        {
         "boxpoints": false,
         "name": "Survey pull requests",
         "type": "box",
         "y": [
          54,
          0,
          13,
          9,
          3,
          4,
          1,
          1,
          0
         ]
        }
       ],
       "layout": {
        "title": "age vs pull requests",
        "xaxis": {
         "title": "age"
        },
        "yaxis": {
         "range": [
          "0",
          "100"
         ],
         "title": "pull requests"
        }
       }
      },
      "text/html": [
       "<div id=\"35e1ed15-ffce-4234-a3ca-740b887ef323\" style=\"height: 525px; width: 100%;\" class=\"plotly-graph-div\"></div><script type=\"text/javascript\">require([\"plotly\"], function(Plotly) { window.PLOTLYENV=window.PLOTLYENV || {};window.PLOTLYENV.BASE_URL=\"https://plot.ly\";Plotly.newPlot(\"35e1ed15-ffce-4234-a3ca-740b887ef323\", [{\"type\": \"box\", \"boxpoints\": false, \"name\": \"Non-employees pull requests\", \"y\": [1312, 427, 314, 66, 48, 38, 32, 27, 18, 16, 15, 14, 13, 13, 13, 12, 11, 10, 10, 10, 9, 8, 8, 7, 7, 7, 7, 6, 6, 6, 6, 6, 6, 5, 5, 5, 5, 5, 5, 5, 5, 5, 4, 4, 4, 4, 4, 4, 4, 4, 4, 4, 4, 4, 4, 4, 3, 3, 3, 3, 3, 3, 3, 3, 3, 3, 3, 3, 3, 3, 3, 3, 3, 3, 3, 3, 2, 2, 2, 2, 2, 2, 2, 2, 2, 2, 2, 2, 2, 2, 2, 2, 2, 2, 2, 2, 2, 2, 2, 2, 2, 2, 2, 2, 2, 2, 2, 2, 2, 2, 2, 2, 1, 1, 1, 1, 1, 1, 1, 1, 1, 1, 1, 1, 1, 1, 1, 1, 1, 1, 1, 1, 1, 1, 1, 1, 1, 1, 1, 1, 1, 1, 1, 1, 1, 1, 1, 1, 1, 1, 1, 1, 1, 1, 1, 1, 1, 1, 1, 1, 1, 1, 1, 1, 1, 1, 1, 1, 1, 1, 1, 1, 1, 1, 1, 1, 1, 1, 1, 1, 1, 1, 1, 1, 1, 1, 1, 1, 1, 1, 1, 1, 1, 1, 1, 1, 1, 1, 1, 1, 1, 1, 1, 1, 1, 1, 1, 1, 1, 1, 1, 1, 1, 1, 1, 1, 1, 1, 1, 1, 1]}, {\"type\": \"box\", \"boxpoints\": false, \"name\": \"Survey pull requests\", \"y\": [54.0, 0.0, 13.0, 9.0, 3.0, 4.0, 1.0, 1.0, 0.0]}], {\"xaxis\": {\"title\": \"age\"}, \"title\": \"age vs pull requests\", \"yaxis\": {\"title\": \"pull requests\", \"range\": [\"0\", \"100\"]}}, {\"showLink\": true, \"linkText\": \"Export to plot.ly\"})});</script>"
      ],
      "text/vnd.plotly.v1+html": [
       "<div id=\"35e1ed15-ffce-4234-a3ca-740b887ef323\" style=\"height: 525px; width: 100%;\" class=\"plotly-graph-div\"></div><script type=\"text/javascript\">require([\"plotly\"], function(Plotly) { window.PLOTLYENV=window.PLOTLYENV || {};window.PLOTLYENV.BASE_URL=\"https://plot.ly\";Plotly.newPlot(\"35e1ed15-ffce-4234-a3ca-740b887ef323\", [{\"type\": \"box\", \"boxpoints\": false, \"name\": \"Non-employees pull requests\", \"y\": [1312, 427, 314, 66, 48, 38, 32, 27, 18, 16, 15, 14, 13, 13, 13, 12, 11, 10, 10, 10, 9, 8, 8, 7, 7, 7, 7, 6, 6, 6, 6, 6, 6, 5, 5, 5, 5, 5, 5, 5, 5, 5, 4, 4, 4, 4, 4, 4, 4, 4, 4, 4, 4, 4, 4, 4, 3, 3, 3, 3, 3, 3, 3, 3, 3, 3, 3, 3, 3, 3, 3, 3, 3, 3, 3, 3, 2, 2, 2, 2, 2, 2, 2, 2, 2, 2, 2, 2, 2, 2, 2, 2, 2, 2, 2, 2, 2, 2, 2, 2, 2, 2, 2, 2, 2, 2, 2, 2, 2, 2, 2, 2, 1, 1, 1, 1, 1, 1, 1, 1, 1, 1, 1, 1, 1, 1, 1, 1, 1, 1, 1, 1, 1, 1, 1, 1, 1, 1, 1, 1, 1, 1, 1, 1, 1, 1, 1, 1, 1, 1, 1, 1, 1, 1, 1, 1, 1, 1, 1, 1, 1, 1, 1, 1, 1, 1, 1, 1, 1, 1, 1, 1, 1, 1, 1, 1, 1, 1, 1, 1, 1, 1, 1, 1, 1, 1, 1, 1, 1, 1, 1, 1, 1, 1, 1, 1, 1, 1, 1, 1, 1, 1, 1, 1, 1, 1, 1, 1, 1, 1, 1, 1, 1, 1, 1, 1, 1, 1, 1, 1, 1]}, {\"type\": \"box\", \"boxpoints\": false, \"name\": \"Survey pull requests\", \"y\": [54.0, 0.0, 13.0, 9.0, 3.0, 4.0, 1.0, 1.0, 0.0]}], {\"xaxis\": {\"title\": \"age\"}, \"title\": \"age vs pull requests\", \"yaxis\": {\"title\": \"pull requests\", \"range\": [\"0\", \"100\"]}}, {\"showLink\": true, \"linkText\": \"Export to plot.ly\"})});</script>"
      ]
     },
     "metadata": {},
     "output_type": "display_data"
    },
    {
     "data": {
      "application/vnd.plotly.v1+json": {
       "data": [
        {
         "boxpoints": "all",
         "jitter": 0.5,
         "marker": {
          "size": 2
         },
         "name": "30-39(2)",
         "type": "box",
         "y": [
          38,
          0
         ]
        },
        {
         "boxpoints": "all",
         "jitter": 0.5,
         "marker": {
          "size": 2
         },
         "name": "18-29(7)",
         "type": "box",
         "y": [
          6,
          13,
          0,
          4,
          0,
          0,
          5
         ]
        }
       ],
       "layout": {
        "title": "age vs issues",
        "xaxis": {
         "title": "age"
        },
        "yaxis": {
         "title": "issues"
        }
       }
      },
      "text/html": [
       "<div id=\"e0d75e0e-9381-4406-a18e-e8a4ba6bca12\" style=\"height: 525px; width: 100%;\" class=\"plotly-graph-div\"></div><script type=\"text/javascript\">require([\"plotly\"], function(Plotly) { window.PLOTLYENV=window.PLOTLYENV || {};window.PLOTLYENV.BASE_URL=\"https://plot.ly\";Plotly.newPlot(\"e0d75e0e-9381-4406-a18e-e8a4ba6bca12\", [{\"type\": \"box\", \"boxpoints\": \"all\", \"name\": \"30-39(2)\", \"marker\": {\"size\": 2}, \"y\": [38.0, 0.0], \"jitter\": 0.5}, {\"type\": \"box\", \"boxpoints\": \"all\", \"name\": \"18-29(7)\", \"marker\": {\"size\": 2}, \"y\": [6.0, 13.0, 0.0, 4.0, 0.0, 0.0, 5.0], \"jitter\": 0.5}], {\"xaxis\": {\"title\": \"age\"}, \"title\": \"age vs issues\", \"yaxis\": {\"title\": \"issues\"}}, {\"showLink\": true, \"linkText\": \"Export to plot.ly\"})});</script>"
      ],
      "text/vnd.plotly.v1+html": [
       "<div id=\"e0d75e0e-9381-4406-a18e-e8a4ba6bca12\" style=\"height: 525px; width: 100%;\" class=\"plotly-graph-div\"></div><script type=\"text/javascript\">require([\"plotly\"], function(Plotly) { window.PLOTLYENV=window.PLOTLYENV || {};window.PLOTLYENV.BASE_URL=\"https://plot.ly\";Plotly.newPlot(\"e0d75e0e-9381-4406-a18e-e8a4ba6bca12\", [{\"type\": \"box\", \"boxpoints\": \"all\", \"name\": \"30-39(2)\", \"marker\": {\"size\": 2}, \"y\": [38.0, 0.0], \"jitter\": 0.5}, {\"type\": \"box\", \"boxpoints\": \"all\", \"name\": \"18-29(7)\", \"marker\": {\"size\": 2}, \"y\": [6.0, 13.0, 0.0, 4.0, 0.0, 0.0, 5.0], \"jitter\": 0.5}], {\"xaxis\": {\"title\": \"age\"}, \"title\": \"age vs issues\", \"yaxis\": {\"title\": \"issues\"}}, {\"showLink\": true, \"linkText\": \"Export to plot.ly\"})});</script>"
      ]
     },
     "metadata": {},
     "output_type": "display_data"
    },
    {
     "data": {
      "application/vnd.plotly.v1+json": {
       "data": [
        {
         "labels": [
          "30-39",
          "18-29"
         ],
         "type": "pie",
         "values": [
          2,
          7
         ]
        }
       ],
       "layout": {
        "title": "Population Distribution of age"
       }
      },
      "text/html": [
       "<div id=\"9d974e63-3134-41ca-b924-9ff4496b99c8\" style=\"height: 525px; width: 100%;\" class=\"plotly-graph-div\"></div><script type=\"text/javascript\">require([\"plotly\"], function(Plotly) { window.PLOTLYENV=window.PLOTLYENV || {};window.PLOTLYENV.BASE_URL=\"https://plot.ly\";Plotly.newPlot(\"9d974e63-3134-41ca-b924-9ff4496b99c8\", [{\"type\": \"pie\", \"values\": [2, 7], \"labels\": [\"30-39\", \"18-29\"]}], {\"title\": \"Population Distribution of age\"}, {\"showLink\": true, \"linkText\": \"Export to plot.ly\"})});</script>"
      ],
      "text/vnd.plotly.v1+html": [
       "<div id=\"9d974e63-3134-41ca-b924-9ff4496b99c8\" style=\"height: 525px; width: 100%;\" class=\"plotly-graph-div\"></div><script type=\"text/javascript\">require([\"plotly\"], function(Plotly) { window.PLOTLYENV=window.PLOTLYENV || {};window.PLOTLYENV.BASE_URL=\"https://plot.ly\";Plotly.newPlot(\"9d974e63-3134-41ca-b924-9ff4496b99c8\", [{\"type\": \"pie\", \"values\": [2, 7], \"labels\": [\"30-39\", \"18-29\"]}], {\"title\": \"Population Distribution of age\"}, {\"showLink\": true, \"linkText\": \"Export to plot.ly\"})});</script>"
      ]
     },
     "metadata": {},
     "output_type": "display_data"
    },
    {
     "data": {
      "application/vnd.plotly.v1+json": {
       "data": [
        {
         "boxpoints": false,
         "name": "Non-employees issues",
         "type": "box",
         "y": [
          1312,
          427,
          314,
          66,
          48,
          38,
          32,
          27,
          18,
          16,
          15,
          14,
          13,
          13,
          13,
          12,
          11,
          10,
          10,
          10,
          9,
          8,
          8,
          7,
          7,
          7,
          7,
          6,
          6,
          6,
          6,
          6,
          6,
          5,
          5,
          5,
          5,
          5,
          5,
          5,
          5,
          5,
          4,
          4,
          4,
          4,
          4,
          4,
          4,
          4,
          4,
          4,
          4,
          4,
          4,
          4,
          3,
          3,
          3,
          3,
          3,
          3,
          3,
          3,
          3,
          3,
          3,
          3,
          3,
          3,
          3,
          3,
          3,
          3,
          3,
          3,
          2,
          2,
          2,
          2,
          2,
          2,
          2,
          2,
          2,
          2,
          2,
          2,
          2,
          2,
          2,
          2,
          2,
          2,
          2,
          2,
          2,
          2,
          2,
          2,
          2,
          2,
          2,
          2,
          2,
          2,
          2,
          2,
          2,
          2,
          2,
          2,
          1,
          1,
          1,
          1,
          1,
          1,
          1,
          1,
          1,
          1,
          1,
          1,
          1,
          1,
          1,
          1,
          1,
          1,
          1,
          1,
          1,
          1,
          1,
          1,
          1,
          1,
          1,
          1,
          1,
          1,
          1,
          1,
          1,
          1,
          1,
          1,
          1,
          1,
          1,
          1,
          1,
          1,
          1,
          1,
          1,
          1,
          1,
          1,
          1,
          1,
          1,
          1,
          1,
          1,
          1,
          1,
          1,
          1,
          1,
          1,
          1,
          1,
          1,
          1,
          1,
          1,
          1,
          1,
          1,
          1,
          1,
          1,
          1,
          1,
          1,
          1,
          1,
          1,
          1,
          1,
          1,
          1,
          1,
          1,
          1,
          1,
          1,
          1,
          1,
          1,
          1,
          1,
          1,
          1,
          1,
          1,
          1,
          1,
          1,
          1,
          1,
          1,
          1,
          1,
          1,
          1,
          1,
          1,
          1
         ]
        },
        {
         "boxpoints": false,
         "name": "Survey issues",
         "type": "box",
         "y": [
          38,
          0,
          6,
          13,
          0,
          4,
          0,
          0,
          5
         ]
        }
       ],
       "layout": {
        "title": "age vs issues",
        "xaxis": {
         "title": "age"
        },
        "yaxis": {
         "range": [
          "0",
          "100"
         ],
         "title": "issues"
        }
       }
      },
      "text/html": [
       "<div id=\"28ca721b-3f3b-4a6c-9d8c-940fd5a565d8\" style=\"height: 525px; width: 100%;\" class=\"plotly-graph-div\"></div><script type=\"text/javascript\">require([\"plotly\"], function(Plotly) { window.PLOTLYENV=window.PLOTLYENV || {};window.PLOTLYENV.BASE_URL=\"https://plot.ly\";Plotly.newPlot(\"28ca721b-3f3b-4a6c-9d8c-940fd5a565d8\", [{\"type\": \"box\", \"boxpoints\": false, \"name\": \"Non-employees issues\", \"y\": [1312, 427, 314, 66, 48, 38, 32, 27, 18, 16, 15, 14, 13, 13, 13, 12, 11, 10, 10, 10, 9, 8, 8, 7, 7, 7, 7, 6, 6, 6, 6, 6, 6, 5, 5, 5, 5, 5, 5, 5, 5, 5, 4, 4, 4, 4, 4, 4, 4, 4, 4, 4, 4, 4, 4, 4, 3, 3, 3, 3, 3, 3, 3, 3, 3, 3, 3, 3, 3, 3, 3, 3, 3, 3, 3, 3, 2, 2, 2, 2, 2, 2, 2, 2, 2, 2, 2, 2, 2, 2, 2, 2, 2, 2, 2, 2, 2, 2, 2, 2, 2, 2, 2, 2, 2, 2, 2, 2, 2, 2, 2, 2, 1, 1, 1, 1, 1, 1, 1, 1, 1, 1, 1, 1, 1, 1, 1, 1, 1, 1, 1, 1, 1, 1, 1, 1, 1, 1, 1, 1, 1, 1, 1, 1, 1, 1, 1, 1, 1, 1, 1, 1, 1, 1, 1, 1, 1, 1, 1, 1, 1, 1, 1, 1, 1, 1, 1, 1, 1, 1, 1, 1, 1, 1, 1, 1, 1, 1, 1, 1, 1, 1, 1, 1, 1, 1, 1, 1, 1, 1, 1, 1, 1, 1, 1, 1, 1, 1, 1, 1, 1, 1, 1, 1, 1, 1, 1, 1, 1, 1, 1, 1, 1, 1, 1, 1, 1, 1, 1, 1, 1]}, {\"type\": \"box\", \"boxpoints\": false, \"name\": \"Survey issues\", \"y\": [38.0, 0.0, 6.0, 13.0, 0.0, 4.0, 0.0, 0.0, 5.0]}], {\"xaxis\": {\"title\": \"age\"}, \"title\": \"age vs issues\", \"yaxis\": {\"title\": \"issues\", \"range\": [\"0\", \"100\"]}}, {\"showLink\": true, \"linkText\": \"Export to plot.ly\"})});</script>"
      ],
      "text/vnd.plotly.v1+html": [
       "<div id=\"28ca721b-3f3b-4a6c-9d8c-940fd5a565d8\" style=\"height: 525px; width: 100%;\" class=\"plotly-graph-div\"></div><script type=\"text/javascript\">require([\"plotly\"], function(Plotly) { window.PLOTLYENV=window.PLOTLYENV || {};window.PLOTLYENV.BASE_URL=\"https://plot.ly\";Plotly.newPlot(\"28ca721b-3f3b-4a6c-9d8c-940fd5a565d8\", [{\"type\": \"box\", \"boxpoints\": false, \"name\": \"Non-employees issues\", \"y\": [1312, 427, 314, 66, 48, 38, 32, 27, 18, 16, 15, 14, 13, 13, 13, 12, 11, 10, 10, 10, 9, 8, 8, 7, 7, 7, 7, 6, 6, 6, 6, 6, 6, 5, 5, 5, 5, 5, 5, 5, 5, 5, 4, 4, 4, 4, 4, 4, 4, 4, 4, 4, 4, 4, 4, 4, 3, 3, 3, 3, 3, 3, 3, 3, 3, 3, 3, 3, 3, 3, 3, 3, 3, 3, 3, 3, 2, 2, 2, 2, 2, 2, 2, 2, 2, 2, 2, 2, 2, 2, 2, 2, 2, 2, 2, 2, 2, 2, 2, 2, 2, 2, 2, 2, 2, 2, 2, 2, 2, 2, 2, 2, 1, 1, 1, 1, 1, 1, 1, 1, 1, 1, 1, 1, 1, 1, 1, 1, 1, 1, 1, 1, 1, 1, 1, 1, 1, 1, 1, 1, 1, 1, 1, 1, 1, 1, 1, 1, 1, 1, 1, 1, 1, 1, 1, 1, 1, 1, 1, 1, 1, 1, 1, 1, 1, 1, 1, 1, 1, 1, 1, 1, 1, 1, 1, 1, 1, 1, 1, 1, 1, 1, 1, 1, 1, 1, 1, 1, 1, 1, 1, 1, 1, 1, 1, 1, 1, 1, 1, 1, 1, 1, 1, 1, 1, 1, 1, 1, 1, 1, 1, 1, 1, 1, 1, 1, 1, 1, 1, 1, 1]}, {\"type\": \"box\", \"boxpoints\": false, \"name\": \"Survey issues\", \"y\": [38.0, 0.0, 6.0, 13.0, 0.0, 4.0, 0.0, 0.0, 5.0]}], {\"xaxis\": {\"title\": \"age\"}, \"title\": \"age vs issues\", \"yaxis\": {\"title\": \"issues\", \"range\": [\"0\", \"100\"]}}, {\"showLink\": true, \"linkText\": \"Export to plot.ly\"})});</script>"
      ]
     },
     "metadata": {},
     "output_type": "display_data"
    },
    {
     "data": {
      "application/vnd.plotly.v1+json": {
       "data": [
        {
         "boxpoints": "all",
         "jitter": 0.5,
         "marker": {
          "size": 2
         },
         "name": "30-39(2)",
         "type": "box",
         "y": [
          0,
          0
         ]
        },
        {
         "boxpoints": "all",
         "jitter": 0.5,
         "marker": {
          "size": 2
         },
         "name": "18-29(7)",
         "type": "box",
         "y": [
          0,
          0,
          0,
          0,
          0,
          0,
          0
         ]
        }
       ],
       "layout": {
        "title": "age vs bugs",
        "xaxis": {
         "title": "age"
        },
        "yaxis": {
         "title": "bugs"
        }
       }
      },
      "text/html": [
       "<div id=\"a093bf67-7da8-4377-a3f6-1b81f527bcbe\" style=\"height: 525px; width: 100%;\" class=\"plotly-graph-div\"></div><script type=\"text/javascript\">require([\"plotly\"], function(Plotly) { window.PLOTLYENV=window.PLOTLYENV || {};window.PLOTLYENV.BASE_URL=\"https://plot.ly\";Plotly.newPlot(\"a093bf67-7da8-4377-a3f6-1b81f527bcbe\", [{\"type\": \"box\", \"boxpoints\": \"all\", \"name\": \"30-39(2)\", \"marker\": {\"size\": 2}, \"y\": [0.0, 0.0], \"jitter\": 0.5}, {\"type\": \"box\", \"boxpoints\": \"all\", \"name\": \"18-29(7)\", \"marker\": {\"size\": 2}, \"y\": [0.0, 0.0, 0.0, 0.0, 0.0, 0.0, 0.0], \"jitter\": 0.5}], {\"xaxis\": {\"title\": \"age\"}, \"title\": \"age vs bugs\", \"yaxis\": {\"title\": \"bugs\"}}, {\"showLink\": true, \"linkText\": \"Export to plot.ly\"})});</script>"
      ],
      "text/vnd.plotly.v1+html": [
       "<div id=\"a093bf67-7da8-4377-a3f6-1b81f527bcbe\" style=\"height: 525px; width: 100%;\" class=\"plotly-graph-div\"></div><script type=\"text/javascript\">require([\"plotly\"], function(Plotly) { window.PLOTLYENV=window.PLOTLYENV || {};window.PLOTLYENV.BASE_URL=\"https://plot.ly\";Plotly.newPlot(\"a093bf67-7da8-4377-a3f6-1b81f527bcbe\", [{\"type\": \"box\", \"boxpoints\": \"all\", \"name\": \"30-39(2)\", \"marker\": {\"size\": 2}, \"y\": [0.0, 0.0], \"jitter\": 0.5}, {\"type\": \"box\", \"boxpoints\": \"all\", \"name\": \"18-29(7)\", \"marker\": {\"size\": 2}, \"y\": [0.0, 0.0, 0.0, 0.0, 0.0, 0.0, 0.0], \"jitter\": 0.5}], {\"xaxis\": {\"title\": \"age\"}, \"title\": \"age vs bugs\", \"yaxis\": {\"title\": \"bugs\"}}, {\"showLink\": true, \"linkText\": \"Export to plot.ly\"})});</script>"
      ]
     },
     "metadata": {},
     "output_type": "display_data"
    },
    {
     "data": {
      "application/vnd.plotly.v1+json": {
       "data": [
        {
         "labels": [
          "30-39",
          "18-29"
         ],
         "type": "pie",
         "values": [
          2,
          7
         ]
        }
       ],
       "layout": {
        "title": "Population Distribution of age"
       }
      },
      "text/html": [
       "<div id=\"46f226e1-1e2c-4336-9990-5c7e2cd27c8c\" style=\"height: 525px; width: 100%;\" class=\"plotly-graph-div\"></div><script type=\"text/javascript\">require([\"plotly\"], function(Plotly) { window.PLOTLYENV=window.PLOTLYENV || {};window.PLOTLYENV.BASE_URL=\"https://plot.ly\";Plotly.newPlot(\"46f226e1-1e2c-4336-9990-5c7e2cd27c8c\", [{\"type\": \"pie\", \"values\": [2, 7], \"labels\": [\"30-39\", \"18-29\"]}], {\"title\": \"Population Distribution of age\"}, {\"showLink\": true, \"linkText\": \"Export to plot.ly\"})});</script>"
      ],
      "text/vnd.plotly.v1+html": [
       "<div id=\"46f226e1-1e2c-4336-9990-5c7e2cd27c8c\" style=\"height: 525px; width: 100%;\" class=\"plotly-graph-div\"></div><script type=\"text/javascript\">require([\"plotly\"], function(Plotly) { window.PLOTLYENV=window.PLOTLYENV || {};window.PLOTLYENV.BASE_URL=\"https://plot.ly\";Plotly.newPlot(\"46f226e1-1e2c-4336-9990-5c7e2cd27c8c\", [{\"type\": \"pie\", \"values\": [2, 7], \"labels\": [\"30-39\", \"18-29\"]}], {\"title\": \"Population Distribution of age\"}, {\"showLink\": true, \"linkText\": \"Export to plot.ly\"})});</script>"
      ]
     },
     "metadata": {},
     "output_type": "display_data"
    },
    {
     "data": {
      "application/vnd.plotly.v1+json": {
       "data": [
        {
         "boxpoints": false,
         "name": "Non-employees bugs",
         "type": "box",
         "y": [
          1312,
          427,
          314,
          66,
          48,
          38,
          32,
          27,
          18,
          16,
          15,
          14,
          13,
          13,
          13,
          12,
          11,
          10,
          10,
          10,
          9,
          8,
          8,
          7,
          7,
          7,
          7,
          6,
          6,
          6,
          6,
          6,
          6,
          5,
          5,
          5,
          5,
          5,
          5,
          5,
          5,
          5,
          4,
          4,
          4,
          4,
          4,
          4,
          4,
          4,
          4,
          4,
          4,
          4,
          4,
          4,
          3,
          3,
          3,
          3,
          3,
          3,
          3,
          3,
          3,
          3,
          3,
          3,
          3,
          3,
          3,
          3,
          3,
          3,
          3,
          3,
          2,
          2,
          2,
          2,
          2,
          2,
          2,
          2,
          2,
          2,
          2,
          2,
          2,
          2,
          2,
          2,
          2,
          2,
          2,
          2,
          2,
          2,
          2,
          2,
          2,
          2,
          2,
          2,
          2,
          2,
          2,
          2,
          2,
          2,
          2,
          2,
          1,
          1,
          1,
          1,
          1,
          1,
          1,
          1,
          1,
          1,
          1,
          1,
          1,
          1,
          1,
          1,
          1,
          1,
          1,
          1,
          1,
          1,
          1,
          1,
          1,
          1,
          1,
          1,
          1,
          1,
          1,
          1,
          1,
          1,
          1,
          1,
          1,
          1,
          1,
          1,
          1,
          1,
          1,
          1,
          1,
          1,
          1,
          1,
          1,
          1,
          1,
          1,
          1,
          1,
          1,
          1,
          1,
          1,
          1,
          1,
          1,
          1,
          1,
          1,
          1,
          1,
          1,
          1,
          1,
          1,
          1,
          1,
          1,
          1,
          1,
          1,
          1,
          1,
          1,
          1,
          1,
          1,
          1,
          1,
          1,
          1,
          1,
          1,
          1,
          1,
          1,
          1,
          1,
          1,
          1,
          1,
          1,
          1,
          1,
          1,
          1,
          1,
          1,
          1,
          1,
          1,
          1,
          1,
          1
         ]
        },
        {
         "boxpoints": false,
         "name": "Survey bugs",
         "type": "box",
         "y": [
          0,
          0,
          0,
          0,
          0,
          0,
          0,
          0,
          0
         ]
        }
       ],
       "layout": {
        "title": "age vs bugs",
        "xaxis": {
         "title": "age"
        },
        "yaxis": {
         "range": [
          "0",
          "100"
         ],
         "title": "bugs"
        }
       }
      },
      "text/html": [
       "<div id=\"b68aefbd-5864-4e58-bb45-6a23c2ab4276\" style=\"height: 525px; width: 100%;\" class=\"plotly-graph-div\"></div><script type=\"text/javascript\">require([\"plotly\"], function(Plotly) { window.PLOTLYENV=window.PLOTLYENV || {};window.PLOTLYENV.BASE_URL=\"https://plot.ly\";Plotly.newPlot(\"b68aefbd-5864-4e58-bb45-6a23c2ab4276\", [{\"type\": \"box\", \"boxpoints\": false, \"name\": \"Non-employees bugs\", \"y\": [1312, 427, 314, 66, 48, 38, 32, 27, 18, 16, 15, 14, 13, 13, 13, 12, 11, 10, 10, 10, 9, 8, 8, 7, 7, 7, 7, 6, 6, 6, 6, 6, 6, 5, 5, 5, 5, 5, 5, 5, 5, 5, 4, 4, 4, 4, 4, 4, 4, 4, 4, 4, 4, 4, 4, 4, 3, 3, 3, 3, 3, 3, 3, 3, 3, 3, 3, 3, 3, 3, 3, 3, 3, 3, 3, 3, 2, 2, 2, 2, 2, 2, 2, 2, 2, 2, 2, 2, 2, 2, 2, 2, 2, 2, 2, 2, 2, 2, 2, 2, 2, 2, 2, 2, 2, 2, 2, 2, 2, 2, 2, 2, 1, 1, 1, 1, 1, 1, 1, 1, 1, 1, 1, 1, 1, 1, 1, 1, 1, 1, 1, 1, 1, 1, 1, 1, 1, 1, 1, 1, 1, 1, 1, 1, 1, 1, 1, 1, 1, 1, 1, 1, 1, 1, 1, 1, 1, 1, 1, 1, 1, 1, 1, 1, 1, 1, 1, 1, 1, 1, 1, 1, 1, 1, 1, 1, 1, 1, 1, 1, 1, 1, 1, 1, 1, 1, 1, 1, 1, 1, 1, 1, 1, 1, 1, 1, 1, 1, 1, 1, 1, 1, 1, 1, 1, 1, 1, 1, 1, 1, 1, 1, 1, 1, 1, 1, 1, 1, 1, 1, 1]}, {\"type\": \"box\", \"boxpoints\": false, \"name\": \"Survey bugs\", \"y\": [0.0, 0.0, 0.0, 0.0, 0.0, 0.0, 0.0, 0.0, 0.0]}], {\"xaxis\": {\"title\": \"age\"}, \"title\": \"age vs bugs\", \"yaxis\": {\"title\": \"bugs\", \"range\": [\"0\", \"100\"]}}, {\"showLink\": true, \"linkText\": \"Export to plot.ly\"})});</script>"
      ],
      "text/vnd.plotly.v1+html": [
       "<div id=\"b68aefbd-5864-4e58-bb45-6a23c2ab4276\" style=\"height: 525px; width: 100%;\" class=\"plotly-graph-div\"></div><script type=\"text/javascript\">require([\"plotly\"], function(Plotly) { window.PLOTLYENV=window.PLOTLYENV || {};window.PLOTLYENV.BASE_URL=\"https://plot.ly\";Plotly.newPlot(\"b68aefbd-5864-4e58-bb45-6a23c2ab4276\", [{\"type\": \"box\", \"boxpoints\": false, \"name\": \"Non-employees bugs\", \"y\": [1312, 427, 314, 66, 48, 38, 32, 27, 18, 16, 15, 14, 13, 13, 13, 12, 11, 10, 10, 10, 9, 8, 8, 7, 7, 7, 7, 6, 6, 6, 6, 6, 6, 5, 5, 5, 5, 5, 5, 5, 5, 5, 4, 4, 4, 4, 4, 4, 4, 4, 4, 4, 4, 4, 4, 4, 3, 3, 3, 3, 3, 3, 3, 3, 3, 3, 3, 3, 3, 3, 3, 3, 3, 3, 3, 3, 2, 2, 2, 2, 2, 2, 2, 2, 2, 2, 2, 2, 2, 2, 2, 2, 2, 2, 2, 2, 2, 2, 2, 2, 2, 2, 2, 2, 2, 2, 2, 2, 2, 2, 2, 2, 1, 1, 1, 1, 1, 1, 1, 1, 1, 1, 1, 1, 1, 1, 1, 1, 1, 1, 1, 1, 1, 1, 1, 1, 1, 1, 1, 1, 1, 1, 1, 1, 1, 1, 1, 1, 1, 1, 1, 1, 1, 1, 1, 1, 1, 1, 1, 1, 1, 1, 1, 1, 1, 1, 1, 1, 1, 1, 1, 1, 1, 1, 1, 1, 1, 1, 1, 1, 1, 1, 1, 1, 1, 1, 1, 1, 1, 1, 1, 1, 1, 1, 1, 1, 1, 1, 1, 1, 1, 1, 1, 1, 1, 1, 1, 1, 1, 1, 1, 1, 1, 1, 1, 1, 1, 1, 1, 1, 1]}, {\"type\": \"box\", \"boxpoints\": false, \"name\": \"Survey bugs\", \"y\": [0.0, 0.0, 0.0, 0.0, 0.0, 0.0, 0.0, 0.0, 0.0]}], {\"xaxis\": {\"title\": \"age\"}, \"title\": \"age vs bugs\", \"yaxis\": {\"title\": \"bugs\", \"range\": [\"0\", \"100\"]}}, {\"showLink\": true, \"linkText\": \"Export to plot.ly\"})});</script>"
      ]
     },
     "metadata": {},
     "output_type": "display_data"
    },
    {
     "data": {
      "application/vnd.plotly.v1+json": {
       "data": [
        {
         "boxpoints": "all",
         "jitter": 0.5,
         "marker": {
          "size": 2
         },
         "name": "30-39(2)",
         "type": "box",
         "y": [
          0,
          0
         ]
        },
        {
         "boxpoints": "all",
         "jitter": 0.5,
         "marker": {
          "size": 2
         },
         "name": "18-29(7)",
         "type": "box",
         "y": [
          0,
          0,
          0,
          0,
          0,
          0,
          0
         ]
        }
       ],
       "layout": {
        "title": "age vs emails",
        "xaxis": {
         "title": "age"
        },
        "yaxis": {
         "title": "emails"
        }
       }
      },
      "text/html": [
       "<div id=\"e53580de-8513-441d-821d-8cb9982e7619\" style=\"height: 525px; width: 100%;\" class=\"plotly-graph-div\"></div><script type=\"text/javascript\">require([\"plotly\"], function(Plotly) { window.PLOTLYENV=window.PLOTLYENV || {};window.PLOTLYENV.BASE_URL=\"https://plot.ly\";Plotly.newPlot(\"e53580de-8513-441d-821d-8cb9982e7619\", [{\"type\": \"box\", \"boxpoints\": \"all\", \"name\": \"30-39(2)\", \"marker\": {\"size\": 2}, \"y\": [0.0, 0.0], \"jitter\": 0.5}, {\"type\": \"box\", \"boxpoints\": \"all\", \"name\": \"18-29(7)\", \"marker\": {\"size\": 2}, \"y\": [0.0, 0.0, 0.0, 0.0, 0.0, 0.0, 0.0], \"jitter\": 0.5}], {\"xaxis\": {\"title\": \"age\"}, \"title\": \"age vs emails\", \"yaxis\": {\"title\": \"emails\"}}, {\"showLink\": true, \"linkText\": \"Export to plot.ly\"})});</script>"
      ],
      "text/vnd.plotly.v1+html": [
       "<div id=\"e53580de-8513-441d-821d-8cb9982e7619\" style=\"height: 525px; width: 100%;\" class=\"plotly-graph-div\"></div><script type=\"text/javascript\">require([\"plotly\"], function(Plotly) { window.PLOTLYENV=window.PLOTLYENV || {};window.PLOTLYENV.BASE_URL=\"https://plot.ly\";Plotly.newPlot(\"e53580de-8513-441d-821d-8cb9982e7619\", [{\"type\": \"box\", \"boxpoints\": \"all\", \"name\": \"30-39(2)\", \"marker\": {\"size\": 2}, \"y\": [0.0, 0.0], \"jitter\": 0.5}, {\"type\": \"box\", \"boxpoints\": \"all\", \"name\": \"18-29(7)\", \"marker\": {\"size\": 2}, \"y\": [0.0, 0.0, 0.0, 0.0, 0.0, 0.0, 0.0], \"jitter\": 0.5}], {\"xaxis\": {\"title\": \"age\"}, \"title\": \"age vs emails\", \"yaxis\": {\"title\": \"emails\"}}, {\"showLink\": true, \"linkText\": \"Export to plot.ly\"})});</script>"
      ]
     },
     "metadata": {},
     "output_type": "display_data"
    },
    {
     "data": {
      "application/vnd.plotly.v1+json": {
       "data": [
        {
         "labels": [
          "30-39",
          "18-29"
         ],
         "type": "pie",
         "values": [
          2,
          7
         ]
        }
       ],
       "layout": {
        "title": "Population Distribution of age"
       }
      },
      "text/html": [
       "<div id=\"0fcc8671-b212-483e-8ce0-04e4095eb646\" style=\"height: 525px; width: 100%;\" class=\"plotly-graph-div\"></div><script type=\"text/javascript\">require([\"plotly\"], function(Plotly) { window.PLOTLYENV=window.PLOTLYENV || {};window.PLOTLYENV.BASE_URL=\"https://plot.ly\";Plotly.newPlot(\"0fcc8671-b212-483e-8ce0-04e4095eb646\", [{\"type\": \"pie\", \"values\": [2, 7], \"labels\": [\"30-39\", \"18-29\"]}], {\"title\": \"Population Distribution of age\"}, {\"showLink\": true, \"linkText\": \"Export to plot.ly\"})});</script>"
      ],
      "text/vnd.plotly.v1+html": [
       "<div id=\"0fcc8671-b212-483e-8ce0-04e4095eb646\" style=\"height: 525px; width: 100%;\" class=\"plotly-graph-div\"></div><script type=\"text/javascript\">require([\"plotly\"], function(Plotly) { window.PLOTLYENV=window.PLOTLYENV || {};window.PLOTLYENV.BASE_URL=\"https://plot.ly\";Plotly.newPlot(\"0fcc8671-b212-483e-8ce0-04e4095eb646\", [{\"type\": \"pie\", \"values\": [2, 7], \"labels\": [\"30-39\", \"18-29\"]}], {\"title\": \"Population Distribution of age\"}, {\"showLink\": true, \"linkText\": \"Export to plot.ly\"})});</script>"
      ]
     },
     "metadata": {},
     "output_type": "display_data"
    },
    {
     "data": {
      "application/vnd.plotly.v1+json": {
       "data": [
        {
         "boxpoints": false,
         "name": "Non-employees emails",
         "type": "box",
         "y": [
          1312,
          427,
          314,
          66,
          48,
          38,
          32,
          27,
          18,
          16,
          15,
          14,
          13,
          13,
          13,
          12,
          11,
          10,
          10,
          10,
          9,
          8,
          8,
          7,
          7,
          7,
          7,
          6,
          6,
          6,
          6,
          6,
          6,
          5,
          5,
          5,
          5,
          5,
          5,
          5,
          5,
          5,
          4,
          4,
          4,
          4,
          4,
          4,
          4,
          4,
          4,
          4,
          4,
          4,
          4,
          4,
          3,
          3,
          3,
          3,
          3,
          3,
          3,
          3,
          3,
          3,
          3,
          3,
          3,
          3,
          3,
          3,
          3,
          3,
          3,
          3,
          2,
          2,
          2,
          2,
          2,
          2,
          2,
          2,
          2,
          2,
          2,
          2,
          2,
          2,
          2,
          2,
          2,
          2,
          2,
          2,
          2,
          2,
          2,
          2,
          2,
          2,
          2,
          2,
          2,
          2,
          2,
          2,
          2,
          2,
          2,
          2,
          1,
          1,
          1,
          1,
          1,
          1,
          1,
          1,
          1,
          1,
          1,
          1,
          1,
          1,
          1,
          1,
          1,
          1,
          1,
          1,
          1,
          1,
          1,
          1,
          1,
          1,
          1,
          1,
          1,
          1,
          1,
          1,
          1,
          1,
          1,
          1,
          1,
          1,
          1,
          1,
          1,
          1,
          1,
          1,
          1,
          1,
          1,
          1,
          1,
          1,
          1,
          1,
          1,
          1,
          1,
          1,
          1,
          1,
          1,
          1,
          1,
          1,
          1,
          1,
          1,
          1,
          1,
          1,
          1,
          1,
          1,
          1,
          1,
          1,
          1,
          1,
          1,
          1,
          1,
          1,
          1,
          1,
          1,
          1,
          1,
          1,
          1,
          1,
          1,
          1,
          1,
          1,
          1,
          1,
          1,
          1,
          1,
          1,
          1,
          1,
          1,
          1,
          1,
          1,
          1,
          1,
          1,
          1,
          1
         ]
        },
        {
         "boxpoints": false,
         "name": "Survey emails",
         "type": "box",
         "y": [
          0,
          0,
          0,
          0,
          0,
          0,
          0,
          0,
          0
         ]
        }
       ],
       "layout": {
        "title": "age vs emails",
        "xaxis": {
         "title": "age"
        },
        "yaxis": {
         "range": [
          "0",
          "100"
         ],
         "title": "emails"
        }
       }
      },
      "text/html": [
       "<div id=\"c7573e7a-afe1-47f4-bccc-06b777fcfe9c\" style=\"height: 525px; width: 100%;\" class=\"plotly-graph-div\"></div><script type=\"text/javascript\">require([\"plotly\"], function(Plotly) { window.PLOTLYENV=window.PLOTLYENV || {};window.PLOTLYENV.BASE_URL=\"https://plot.ly\";Plotly.newPlot(\"c7573e7a-afe1-47f4-bccc-06b777fcfe9c\", [{\"type\": \"box\", \"boxpoints\": false, \"name\": \"Non-employees emails\", \"y\": [1312, 427, 314, 66, 48, 38, 32, 27, 18, 16, 15, 14, 13, 13, 13, 12, 11, 10, 10, 10, 9, 8, 8, 7, 7, 7, 7, 6, 6, 6, 6, 6, 6, 5, 5, 5, 5, 5, 5, 5, 5, 5, 4, 4, 4, 4, 4, 4, 4, 4, 4, 4, 4, 4, 4, 4, 3, 3, 3, 3, 3, 3, 3, 3, 3, 3, 3, 3, 3, 3, 3, 3, 3, 3, 3, 3, 2, 2, 2, 2, 2, 2, 2, 2, 2, 2, 2, 2, 2, 2, 2, 2, 2, 2, 2, 2, 2, 2, 2, 2, 2, 2, 2, 2, 2, 2, 2, 2, 2, 2, 2, 2, 1, 1, 1, 1, 1, 1, 1, 1, 1, 1, 1, 1, 1, 1, 1, 1, 1, 1, 1, 1, 1, 1, 1, 1, 1, 1, 1, 1, 1, 1, 1, 1, 1, 1, 1, 1, 1, 1, 1, 1, 1, 1, 1, 1, 1, 1, 1, 1, 1, 1, 1, 1, 1, 1, 1, 1, 1, 1, 1, 1, 1, 1, 1, 1, 1, 1, 1, 1, 1, 1, 1, 1, 1, 1, 1, 1, 1, 1, 1, 1, 1, 1, 1, 1, 1, 1, 1, 1, 1, 1, 1, 1, 1, 1, 1, 1, 1, 1, 1, 1, 1, 1, 1, 1, 1, 1, 1, 1, 1]}, {\"type\": \"box\", \"boxpoints\": false, \"name\": \"Survey emails\", \"y\": [0.0, 0.0, 0.0, 0.0, 0.0, 0.0, 0.0, 0.0, 0.0]}], {\"xaxis\": {\"title\": \"age\"}, \"title\": \"age vs emails\", \"yaxis\": {\"title\": \"emails\", \"range\": [\"0\", \"100\"]}}, {\"showLink\": true, \"linkText\": \"Export to plot.ly\"})});</script>"
      ],
      "text/vnd.plotly.v1+html": [
       "<div id=\"c7573e7a-afe1-47f4-bccc-06b777fcfe9c\" style=\"height: 525px; width: 100%;\" class=\"plotly-graph-div\"></div><script type=\"text/javascript\">require([\"plotly\"], function(Plotly) { window.PLOTLYENV=window.PLOTLYENV || {};window.PLOTLYENV.BASE_URL=\"https://plot.ly\";Plotly.newPlot(\"c7573e7a-afe1-47f4-bccc-06b777fcfe9c\", [{\"type\": \"box\", \"boxpoints\": false, \"name\": \"Non-employees emails\", \"y\": [1312, 427, 314, 66, 48, 38, 32, 27, 18, 16, 15, 14, 13, 13, 13, 12, 11, 10, 10, 10, 9, 8, 8, 7, 7, 7, 7, 6, 6, 6, 6, 6, 6, 5, 5, 5, 5, 5, 5, 5, 5, 5, 4, 4, 4, 4, 4, 4, 4, 4, 4, 4, 4, 4, 4, 4, 3, 3, 3, 3, 3, 3, 3, 3, 3, 3, 3, 3, 3, 3, 3, 3, 3, 3, 3, 3, 2, 2, 2, 2, 2, 2, 2, 2, 2, 2, 2, 2, 2, 2, 2, 2, 2, 2, 2, 2, 2, 2, 2, 2, 2, 2, 2, 2, 2, 2, 2, 2, 2, 2, 2, 2, 1, 1, 1, 1, 1, 1, 1, 1, 1, 1, 1, 1, 1, 1, 1, 1, 1, 1, 1, 1, 1, 1, 1, 1, 1, 1, 1, 1, 1, 1, 1, 1, 1, 1, 1, 1, 1, 1, 1, 1, 1, 1, 1, 1, 1, 1, 1, 1, 1, 1, 1, 1, 1, 1, 1, 1, 1, 1, 1, 1, 1, 1, 1, 1, 1, 1, 1, 1, 1, 1, 1, 1, 1, 1, 1, 1, 1, 1, 1, 1, 1, 1, 1, 1, 1, 1, 1, 1, 1, 1, 1, 1, 1, 1, 1, 1, 1, 1, 1, 1, 1, 1, 1, 1, 1, 1, 1, 1, 1]}, {\"type\": \"box\", \"boxpoints\": false, \"name\": \"Survey emails\", \"y\": [0.0, 0.0, 0.0, 0.0, 0.0, 0.0, 0.0, 0.0, 0.0]}], {\"xaxis\": {\"title\": \"age\"}, \"title\": \"age vs emails\", \"yaxis\": {\"title\": \"emails\", \"range\": [\"0\", \"100\"]}}, {\"showLink\": true, \"linkText\": \"Export to plot.ly\"})});</script>"
      ]
     },
     "metadata": {},
     "output_type": "display_data"
    },
    {
     "data": {
      "application/vnd.plotly.v1+json": {
       "data": [
        {
         "boxpoints": "all",
         "jitter": 0.5,
         "marker": {
          "size": 2
         },
         "name": "30-39(2)",
         "type": "box",
         "y": [
          0,
          1
         ]
        },
        {
         "boxpoints": "all",
         "jitter": 0.5,
         "marker": {
          "size": 2
         },
         "name": "18-29(7)",
         "type": "box",
         "y": [
          0,
          0,
          0,
          0,
          0,
          0,
          0
         ]
        }
       ],
       "layout": {
        "title": "age vs messages",
        "xaxis": {
         "title": "age"
        },
        "yaxis": {
         "title": "messages"
        }
       }
      },
      "text/html": [
       "<div id=\"dc143f8a-c98d-4bbb-b328-749c13d85db5\" style=\"height: 525px; width: 100%;\" class=\"plotly-graph-div\"></div><script type=\"text/javascript\">require([\"plotly\"], function(Plotly) { window.PLOTLYENV=window.PLOTLYENV || {};window.PLOTLYENV.BASE_URL=\"https://plot.ly\";Plotly.newPlot(\"dc143f8a-c98d-4bbb-b328-749c13d85db5\", [{\"type\": \"box\", \"boxpoints\": \"all\", \"name\": \"30-39(2)\", \"marker\": {\"size\": 2}, \"y\": [0.0, 1.0], \"jitter\": 0.5}, {\"type\": \"box\", \"boxpoints\": \"all\", \"name\": \"18-29(7)\", \"marker\": {\"size\": 2}, \"y\": [0.0, 0.0, 0.0, 0.0, 0.0, 0.0, 0.0], \"jitter\": 0.5}], {\"xaxis\": {\"title\": \"age\"}, \"title\": \"age vs messages\", \"yaxis\": {\"title\": \"messages\"}}, {\"showLink\": true, \"linkText\": \"Export to plot.ly\"})});</script>"
      ],
      "text/vnd.plotly.v1+html": [
       "<div id=\"dc143f8a-c98d-4bbb-b328-749c13d85db5\" style=\"height: 525px; width: 100%;\" class=\"plotly-graph-div\"></div><script type=\"text/javascript\">require([\"plotly\"], function(Plotly) { window.PLOTLYENV=window.PLOTLYENV || {};window.PLOTLYENV.BASE_URL=\"https://plot.ly\";Plotly.newPlot(\"dc143f8a-c98d-4bbb-b328-749c13d85db5\", [{\"type\": \"box\", \"boxpoints\": \"all\", \"name\": \"30-39(2)\", \"marker\": {\"size\": 2}, \"y\": [0.0, 1.0], \"jitter\": 0.5}, {\"type\": \"box\", \"boxpoints\": \"all\", \"name\": \"18-29(7)\", \"marker\": {\"size\": 2}, \"y\": [0.0, 0.0, 0.0, 0.0, 0.0, 0.0, 0.0], \"jitter\": 0.5}], {\"xaxis\": {\"title\": \"age\"}, \"title\": \"age vs messages\", \"yaxis\": {\"title\": \"messages\"}}, {\"showLink\": true, \"linkText\": \"Export to plot.ly\"})});</script>"
      ]
     },
     "metadata": {},
     "output_type": "display_data"
    },
    {
     "data": {
      "application/vnd.plotly.v1+json": {
       "data": [
        {
         "labels": [
          "30-39",
          "18-29"
         ],
         "type": "pie",
         "values": [
          2,
          7
         ]
        }
       ],
       "layout": {
        "title": "Population Distribution of age"
       }
      },
      "text/html": [
       "<div id=\"fbcda61b-2dc3-466f-94f0-5a9b9a9a4e85\" style=\"height: 525px; width: 100%;\" class=\"plotly-graph-div\"></div><script type=\"text/javascript\">require([\"plotly\"], function(Plotly) { window.PLOTLYENV=window.PLOTLYENV || {};window.PLOTLYENV.BASE_URL=\"https://plot.ly\";Plotly.newPlot(\"fbcda61b-2dc3-466f-94f0-5a9b9a9a4e85\", [{\"type\": \"pie\", \"values\": [2, 7], \"labels\": [\"30-39\", \"18-29\"]}], {\"title\": \"Population Distribution of age\"}, {\"showLink\": true, \"linkText\": \"Export to plot.ly\"})});</script>"
      ],
      "text/vnd.plotly.v1+html": [
       "<div id=\"fbcda61b-2dc3-466f-94f0-5a9b9a9a4e85\" style=\"height: 525px; width: 100%;\" class=\"plotly-graph-div\"></div><script type=\"text/javascript\">require([\"plotly\"], function(Plotly) { window.PLOTLYENV=window.PLOTLYENV || {};window.PLOTLYENV.BASE_URL=\"https://plot.ly\";Plotly.newPlot(\"fbcda61b-2dc3-466f-94f0-5a9b9a9a4e85\", [{\"type\": \"pie\", \"values\": [2, 7], \"labels\": [\"30-39\", \"18-29\"]}], {\"title\": \"Population Distribution of age\"}, {\"showLink\": true, \"linkText\": \"Export to plot.ly\"})});</script>"
      ]
     },
     "metadata": {},
     "output_type": "display_data"
    },
    {
     "data": {
      "application/vnd.plotly.v1+json": {
       "data": [
        {
         "boxpoints": false,
         "name": "Non-employees messages",
         "type": "box",
         "y": [
          1312,
          427,
          314,
          66,
          48,
          38,
          32,
          27,
          18,
          16,
          15,
          14,
          13,
          13,
          13,
          12,
          11,
          10,
          10,
          10,
          9,
          8,
          8,
          7,
          7,
          7,
          7,
          6,
          6,
          6,
          6,
          6,
          6,
          5,
          5,
          5,
          5,
          5,
          5,
          5,
          5,
          5,
          4,
          4,
          4,
          4,
          4,
          4,
          4,
          4,
          4,
          4,
          4,
          4,
          4,
          4,
          3,
          3,
          3,
          3,
          3,
          3,
          3,
          3,
          3,
          3,
          3,
          3,
          3,
          3,
          3,
          3,
          3,
          3,
          3,
          3,
          2,
          2,
          2,
          2,
          2,
          2,
          2,
          2,
          2,
          2,
          2,
          2,
          2,
          2,
          2,
          2,
          2,
          2,
          2,
          2,
          2,
          2,
          2,
          2,
          2,
          2,
          2,
          2,
          2,
          2,
          2,
          2,
          2,
          2,
          2,
          2,
          1,
          1,
          1,
          1,
          1,
          1,
          1,
          1,
          1,
          1,
          1,
          1,
          1,
          1,
          1,
          1,
          1,
          1,
          1,
          1,
          1,
          1,
          1,
          1,
          1,
          1,
          1,
          1,
          1,
          1,
          1,
          1,
          1,
          1,
          1,
          1,
          1,
          1,
          1,
          1,
          1,
          1,
          1,
          1,
          1,
          1,
          1,
          1,
          1,
          1,
          1,
          1,
          1,
          1,
          1,
          1,
          1,
          1,
          1,
          1,
          1,
          1,
          1,
          1,
          1,
          1,
          1,
          1,
          1,
          1,
          1,
          1,
          1,
          1,
          1,
          1,
          1,
          1,
          1,
          1,
          1,
          1,
          1,
          1,
          1,
          1,
          1,
          1,
          1,
          1,
          1,
          1,
          1,
          1,
          1,
          1,
          1,
          1,
          1,
          1,
          1,
          1,
          1,
          1,
          1,
          1,
          1,
          1,
          1
         ]
        },
        {
         "boxpoints": false,
         "name": "Survey messages",
         "type": "box",
         "y": [
          0,
          1,
          0,
          0,
          0,
          0,
          0,
          0,
          0
         ]
        }
       ],
       "layout": {
        "title": "age vs messages",
        "xaxis": {
         "title": "age"
        },
        "yaxis": {
         "range": [
          "0",
          "100"
         ],
         "title": "messages"
        }
       }
      },
      "text/html": [
       "<div id=\"271a7713-91ab-4f9a-8419-424161ffa455\" style=\"height: 525px; width: 100%;\" class=\"plotly-graph-div\"></div><script type=\"text/javascript\">require([\"plotly\"], function(Plotly) { window.PLOTLYENV=window.PLOTLYENV || {};window.PLOTLYENV.BASE_URL=\"https://plot.ly\";Plotly.newPlot(\"271a7713-91ab-4f9a-8419-424161ffa455\", [{\"type\": \"box\", \"boxpoints\": false, \"name\": \"Non-employees messages\", \"y\": [1312, 427, 314, 66, 48, 38, 32, 27, 18, 16, 15, 14, 13, 13, 13, 12, 11, 10, 10, 10, 9, 8, 8, 7, 7, 7, 7, 6, 6, 6, 6, 6, 6, 5, 5, 5, 5, 5, 5, 5, 5, 5, 4, 4, 4, 4, 4, 4, 4, 4, 4, 4, 4, 4, 4, 4, 3, 3, 3, 3, 3, 3, 3, 3, 3, 3, 3, 3, 3, 3, 3, 3, 3, 3, 3, 3, 2, 2, 2, 2, 2, 2, 2, 2, 2, 2, 2, 2, 2, 2, 2, 2, 2, 2, 2, 2, 2, 2, 2, 2, 2, 2, 2, 2, 2, 2, 2, 2, 2, 2, 2, 2, 1, 1, 1, 1, 1, 1, 1, 1, 1, 1, 1, 1, 1, 1, 1, 1, 1, 1, 1, 1, 1, 1, 1, 1, 1, 1, 1, 1, 1, 1, 1, 1, 1, 1, 1, 1, 1, 1, 1, 1, 1, 1, 1, 1, 1, 1, 1, 1, 1, 1, 1, 1, 1, 1, 1, 1, 1, 1, 1, 1, 1, 1, 1, 1, 1, 1, 1, 1, 1, 1, 1, 1, 1, 1, 1, 1, 1, 1, 1, 1, 1, 1, 1, 1, 1, 1, 1, 1, 1, 1, 1, 1, 1, 1, 1, 1, 1, 1, 1, 1, 1, 1, 1, 1, 1, 1, 1, 1, 1]}, {\"type\": \"box\", \"boxpoints\": false, \"name\": \"Survey messages\", \"y\": [0.0, 1.0, 0.0, 0.0, 0.0, 0.0, 0.0, 0.0, 0.0]}], {\"xaxis\": {\"title\": \"age\"}, \"title\": \"age vs messages\", \"yaxis\": {\"title\": \"messages\", \"range\": [\"0\", \"100\"]}}, {\"showLink\": true, \"linkText\": \"Export to plot.ly\"})});</script>"
      ],
      "text/vnd.plotly.v1+html": [
       "<div id=\"271a7713-91ab-4f9a-8419-424161ffa455\" style=\"height: 525px; width: 100%;\" class=\"plotly-graph-div\"></div><script type=\"text/javascript\">require([\"plotly\"], function(Plotly) { window.PLOTLYENV=window.PLOTLYENV || {};window.PLOTLYENV.BASE_URL=\"https://plot.ly\";Plotly.newPlot(\"271a7713-91ab-4f9a-8419-424161ffa455\", [{\"type\": \"box\", \"boxpoints\": false, \"name\": \"Non-employees messages\", \"y\": [1312, 427, 314, 66, 48, 38, 32, 27, 18, 16, 15, 14, 13, 13, 13, 12, 11, 10, 10, 10, 9, 8, 8, 7, 7, 7, 7, 6, 6, 6, 6, 6, 6, 5, 5, 5, 5, 5, 5, 5, 5, 5, 4, 4, 4, 4, 4, 4, 4, 4, 4, 4, 4, 4, 4, 4, 3, 3, 3, 3, 3, 3, 3, 3, 3, 3, 3, 3, 3, 3, 3, 3, 3, 3, 3, 3, 2, 2, 2, 2, 2, 2, 2, 2, 2, 2, 2, 2, 2, 2, 2, 2, 2, 2, 2, 2, 2, 2, 2, 2, 2, 2, 2, 2, 2, 2, 2, 2, 2, 2, 2, 2, 1, 1, 1, 1, 1, 1, 1, 1, 1, 1, 1, 1, 1, 1, 1, 1, 1, 1, 1, 1, 1, 1, 1, 1, 1, 1, 1, 1, 1, 1, 1, 1, 1, 1, 1, 1, 1, 1, 1, 1, 1, 1, 1, 1, 1, 1, 1, 1, 1, 1, 1, 1, 1, 1, 1, 1, 1, 1, 1, 1, 1, 1, 1, 1, 1, 1, 1, 1, 1, 1, 1, 1, 1, 1, 1, 1, 1, 1, 1, 1, 1, 1, 1, 1, 1, 1, 1, 1, 1, 1, 1, 1, 1, 1, 1, 1, 1, 1, 1, 1, 1, 1, 1, 1, 1, 1, 1, 1, 1]}, {\"type\": \"box\", \"boxpoints\": false, \"name\": \"Survey messages\", \"y\": [0.0, 1.0, 0.0, 0.0, 0.0, 0.0, 0.0, 0.0, 0.0]}], {\"xaxis\": {\"title\": \"age\"}, \"title\": \"age vs messages\", \"yaxis\": {\"title\": \"messages\", \"range\": [\"0\", \"100\"]}}, {\"showLink\": true, \"linkText\": \"Export to plot.ly\"})});</script>"
      ]
     },
     "metadata": {},
     "output_type": "display_data"
    },
    {
     "data": {
      "application/vnd.plotly.v1+json": {
       "data": [
        {
         "boxpoints": "all",
         "jitter": 0.5,
         "marker": {
          "size": 2
         },
         "name": "30-39(2)",
         "type": "box",
         "y": [
          1,
          0
         ]
        },
        {
         "boxpoints": "all",
         "jitter": 0.5,
         "marker": {
          "size": 2
         },
         "name": "18-29(7)",
         "type": "box",
         "y": [
          1,
          1,
          1,
          1,
          1,
          0,
          0
         ]
        }
       ],
       "layout": {
        "title": "age vs git project",
        "xaxis": {
         "title": "age"
        },
        "yaxis": {
         "title": "git project"
        }
       }
      },
      "text/html": [
       "<div id=\"c45c8d1d-9b45-4dc9-b114-0eab8019d2f5\" style=\"height: 525px; width: 100%;\" class=\"plotly-graph-div\"></div><script type=\"text/javascript\">require([\"plotly\"], function(Plotly) { window.PLOTLYENV=window.PLOTLYENV || {};window.PLOTLYENV.BASE_URL=\"https://plot.ly\";Plotly.newPlot(\"c45c8d1d-9b45-4dc9-b114-0eab8019d2f5\", [{\"type\": \"box\", \"boxpoints\": \"all\", \"name\": \"30-39(2)\", \"marker\": {\"size\": 2}, \"y\": [1, 0], \"jitter\": 0.5}, {\"type\": \"box\", \"boxpoints\": \"all\", \"name\": \"18-29(7)\", \"marker\": {\"size\": 2}, \"y\": [1, 1, 1, 1, 1, 0, 0], \"jitter\": 0.5}], {\"xaxis\": {\"title\": \"age\"}, \"title\": \"age vs git project\", \"yaxis\": {\"title\": \"git project\"}}, {\"showLink\": true, \"linkText\": \"Export to plot.ly\"})});</script>"
      ],
      "text/vnd.plotly.v1+html": [
       "<div id=\"c45c8d1d-9b45-4dc9-b114-0eab8019d2f5\" style=\"height: 525px; width: 100%;\" class=\"plotly-graph-div\"></div><script type=\"text/javascript\">require([\"plotly\"], function(Plotly) { window.PLOTLYENV=window.PLOTLYENV || {};window.PLOTLYENV.BASE_URL=\"https://plot.ly\";Plotly.newPlot(\"c45c8d1d-9b45-4dc9-b114-0eab8019d2f5\", [{\"type\": \"box\", \"boxpoints\": \"all\", \"name\": \"30-39(2)\", \"marker\": {\"size\": 2}, \"y\": [1, 0], \"jitter\": 0.5}, {\"type\": \"box\", \"boxpoints\": \"all\", \"name\": \"18-29(7)\", \"marker\": {\"size\": 2}, \"y\": [1, 1, 1, 1, 1, 0, 0], \"jitter\": 0.5}], {\"xaxis\": {\"title\": \"age\"}, \"title\": \"age vs git project\", \"yaxis\": {\"title\": \"git project\"}}, {\"showLink\": true, \"linkText\": \"Export to plot.ly\"})});</script>"
      ]
     },
     "metadata": {},
     "output_type": "display_data"
    },
    {
     "data": {
      "application/vnd.plotly.v1+json": {
       "data": [
        {
         "labels": [
          "30-39",
          "18-29"
         ],
         "type": "pie",
         "values": [
          2,
          7
         ]
        }
       ],
       "layout": {
        "title": "Population Distribution of age"
       }
      },
      "text/html": [
       "<div id=\"2fb30c22-6f0d-4bbf-b845-630284f3dac2\" style=\"height: 525px; width: 100%;\" class=\"plotly-graph-div\"></div><script type=\"text/javascript\">require([\"plotly\"], function(Plotly) { window.PLOTLYENV=window.PLOTLYENV || {};window.PLOTLYENV.BASE_URL=\"https://plot.ly\";Plotly.newPlot(\"2fb30c22-6f0d-4bbf-b845-630284f3dac2\", [{\"type\": \"pie\", \"values\": [2, 7], \"labels\": [\"30-39\", \"18-29\"]}], {\"title\": \"Population Distribution of age\"}, {\"showLink\": true, \"linkText\": \"Export to plot.ly\"})});</script>"
      ],
      "text/vnd.plotly.v1+html": [
       "<div id=\"2fb30c22-6f0d-4bbf-b845-630284f3dac2\" style=\"height: 525px; width: 100%;\" class=\"plotly-graph-div\"></div><script type=\"text/javascript\">require([\"plotly\"], function(Plotly) { window.PLOTLYENV=window.PLOTLYENV || {};window.PLOTLYENV.BASE_URL=\"https://plot.ly\";Plotly.newPlot(\"2fb30c22-6f0d-4bbf-b845-630284f3dac2\", [{\"type\": \"pie\", \"values\": [2, 7], \"labels\": [\"30-39\", \"18-29\"]}], {\"title\": \"Population Distribution of age\"}, {\"showLink\": true, \"linkText\": \"Export to plot.ly\"})});</script>"
      ]
     },
     "metadata": {},
     "output_type": "display_data"
    },
    {
     "data": {
      "application/vnd.plotly.v1+json": {
       "data": [
        {
         "type": "histogram",
         "x": [
          1,
          0,
          1,
          1,
          1,
          1,
          1,
          0,
          0
         ]
        }
       ],
       "layout": {
        "title": "Distribution of git project",
        "xaxis": {
         "title": "git project"
        },
        "yaxis": {
         "title": "Population"
        }
       }
      },
      "text/html": [
       "<div id=\"a1769987-f87e-41a6-9f61-2ff1bc79dcf9\" style=\"height: 525px; width: 100%;\" class=\"plotly-graph-div\"></div><script type=\"text/javascript\">require([\"plotly\"], function(Plotly) { window.PLOTLYENV=window.PLOTLYENV || {};window.PLOTLYENV.BASE_URL=\"https://plot.ly\";Plotly.newPlot(\"a1769987-f87e-41a6-9f61-2ff1bc79dcf9\", [{\"type\": \"histogram\", \"x\": [1, 0, 1, 1, 1, 1, 1, 0, 0]}], {\"xaxis\": {\"title\": \"git project\"}, \"title\": \"Distribution of git project\", \"yaxis\": {\"title\": \"Population\"}}, {\"showLink\": true, \"linkText\": \"Export to plot.ly\"})});</script>"
      ],
      "text/vnd.plotly.v1+html": [
       "<div id=\"a1769987-f87e-41a6-9f61-2ff1bc79dcf9\" style=\"height: 525px; width: 100%;\" class=\"plotly-graph-div\"></div><script type=\"text/javascript\">require([\"plotly\"], function(Plotly) { window.PLOTLYENV=window.PLOTLYENV || {};window.PLOTLYENV.BASE_URL=\"https://plot.ly\";Plotly.newPlot(\"a1769987-f87e-41a6-9f61-2ff1bc79dcf9\", [{\"type\": \"histogram\", \"x\": [1, 0, 1, 1, 1, 1, 1, 0, 0]}], {\"xaxis\": {\"title\": \"git project\"}, \"title\": \"Distribution of git project\", \"yaxis\": {\"title\": \"Population\"}}, {\"showLink\": true, \"linkText\": \"Export to plot.ly\"})});</script>"
      ]
     },
     "metadata": {},
     "output_type": "display_data"
    },
    {
     "data": {
      "application/vnd.plotly.v1+json": {
       "data": [
        {
         "boxpoints": "all",
         "jitter": 0.5,
         "marker": {
          "size": 2
         },
         "name": "30-39(2)",
         "type": "box",
         "y": [
          1,
          0
         ]
        },
        {
         "boxpoints": "all",
         "jitter": 0.5,
         "marker": {
          "size": 2
         },
         "name": "18-29(7)",
         "type": "box",
         "y": [
          1,
          1,
          1,
          1,
          1,
          1,
          1
         ]
        }
       ],
       "layout": {
        "title": "age vs github project",
        "xaxis": {
         "title": "age"
        },
        "yaxis": {
         "title": "github project"
        }
       }
      },
      "text/html": [
       "<div id=\"a0424c83-d743-4711-ace7-5e10d0ff98f0\" style=\"height: 525px; width: 100%;\" class=\"plotly-graph-div\"></div><script type=\"text/javascript\">require([\"plotly\"], function(Plotly) { window.PLOTLYENV=window.PLOTLYENV || {};window.PLOTLYENV.BASE_URL=\"https://plot.ly\";Plotly.newPlot(\"a0424c83-d743-4711-ace7-5e10d0ff98f0\", [{\"type\": \"box\", \"boxpoints\": \"all\", \"name\": \"30-39(2)\", \"marker\": {\"size\": 2}, \"y\": [1, 0], \"jitter\": 0.5}, {\"type\": \"box\", \"boxpoints\": \"all\", \"name\": \"18-29(7)\", \"marker\": {\"size\": 2}, \"y\": [1, 1, 1, 1, 1, 1, 1], \"jitter\": 0.5}], {\"xaxis\": {\"title\": \"age\"}, \"title\": \"age vs github project\", \"yaxis\": {\"title\": \"github project\"}}, {\"showLink\": true, \"linkText\": \"Export to plot.ly\"})});</script>"
      ],
      "text/vnd.plotly.v1+html": [
       "<div id=\"a0424c83-d743-4711-ace7-5e10d0ff98f0\" style=\"height: 525px; width: 100%;\" class=\"plotly-graph-div\"></div><script type=\"text/javascript\">require([\"plotly\"], function(Plotly) { window.PLOTLYENV=window.PLOTLYENV || {};window.PLOTLYENV.BASE_URL=\"https://plot.ly\";Plotly.newPlot(\"a0424c83-d743-4711-ace7-5e10d0ff98f0\", [{\"type\": \"box\", \"boxpoints\": \"all\", \"name\": \"30-39(2)\", \"marker\": {\"size\": 2}, \"y\": [1, 0], \"jitter\": 0.5}, {\"type\": \"box\", \"boxpoints\": \"all\", \"name\": \"18-29(7)\", \"marker\": {\"size\": 2}, \"y\": [1, 1, 1, 1, 1, 1, 1], \"jitter\": 0.5}], {\"xaxis\": {\"title\": \"age\"}, \"title\": \"age vs github project\", \"yaxis\": {\"title\": \"github project\"}}, {\"showLink\": true, \"linkText\": \"Export to plot.ly\"})});</script>"
      ]
     },
     "metadata": {},
     "output_type": "display_data"
    },
    {
     "data": {
      "application/vnd.plotly.v1+json": {
       "data": [
        {
         "labels": [
          "30-39",
          "18-29"
         ],
         "type": "pie",
         "values": [
          2,
          7
         ]
        }
       ],
       "layout": {
        "title": "Population Distribution of age"
       }
      },
      "text/html": [
       "<div id=\"2fca4cf3-4079-49e3-8b0a-759ffb1a664f\" style=\"height: 525px; width: 100%;\" class=\"plotly-graph-div\"></div><script type=\"text/javascript\">require([\"plotly\"], function(Plotly) { window.PLOTLYENV=window.PLOTLYENV || {};window.PLOTLYENV.BASE_URL=\"https://plot.ly\";Plotly.newPlot(\"2fca4cf3-4079-49e3-8b0a-759ffb1a664f\", [{\"type\": \"pie\", \"values\": [2, 7], \"labels\": [\"30-39\", \"18-29\"]}], {\"title\": \"Population Distribution of age\"}, {\"showLink\": true, \"linkText\": \"Export to plot.ly\"})});</script>"
      ],
      "text/vnd.plotly.v1+html": [
       "<div id=\"2fca4cf3-4079-49e3-8b0a-759ffb1a664f\" style=\"height: 525px; width: 100%;\" class=\"plotly-graph-div\"></div><script type=\"text/javascript\">require([\"plotly\"], function(Plotly) { window.PLOTLYENV=window.PLOTLYENV || {};window.PLOTLYENV.BASE_URL=\"https://plot.ly\";Plotly.newPlot(\"2fca4cf3-4079-49e3-8b0a-759ffb1a664f\", [{\"type\": \"pie\", \"values\": [2, 7], \"labels\": [\"30-39\", \"18-29\"]}], {\"title\": \"Population Distribution of age\"}, {\"showLink\": true, \"linkText\": \"Export to plot.ly\"})});</script>"
      ]
     },
     "metadata": {},
     "output_type": "display_data"
    },
    {
     "data": {
      "application/vnd.plotly.v1+json": {
       "data": [
        {
         "type": "histogram",
         "x": [
          1,
          0,
          1,
          1,
          1,
          1,
          1,
          1,
          1
         ]
        }
       ],
       "layout": {
        "title": "Distribution of github project",
        "xaxis": {
         "title": "github project"
        },
        "yaxis": {
         "title": "Population"
        }
       }
      },
      "text/html": [
       "<div id=\"ef0f3a8a-7298-4b76-a7db-5ba1b49e6b74\" style=\"height: 525px; width: 100%;\" class=\"plotly-graph-div\"></div><script type=\"text/javascript\">require([\"plotly\"], function(Plotly) { window.PLOTLYENV=window.PLOTLYENV || {};window.PLOTLYENV.BASE_URL=\"https://plot.ly\";Plotly.newPlot(\"ef0f3a8a-7298-4b76-a7db-5ba1b49e6b74\", [{\"type\": \"histogram\", \"x\": [1, 0, 1, 1, 1, 1, 1, 1, 1]}], {\"xaxis\": {\"title\": \"github project\"}, \"title\": \"Distribution of github project\", \"yaxis\": {\"title\": \"Population\"}}, {\"showLink\": true, \"linkText\": \"Export to plot.ly\"})});</script>"
      ],
      "text/vnd.plotly.v1+html": [
       "<div id=\"ef0f3a8a-7298-4b76-a7db-5ba1b49e6b74\" style=\"height: 525px; width: 100%;\" class=\"plotly-graph-div\"></div><script type=\"text/javascript\">require([\"plotly\"], function(Plotly) { window.PLOTLYENV=window.PLOTLYENV || {};window.PLOTLYENV.BASE_URL=\"https://plot.ly\";Plotly.newPlot(\"ef0f3a8a-7298-4b76-a7db-5ba1b49e6b74\", [{\"type\": \"histogram\", \"x\": [1, 0, 1, 1, 1, 1, 1, 1, 1]}], {\"xaxis\": {\"title\": \"github project\"}, \"title\": \"Distribution of github project\", \"yaxis\": {\"title\": \"Population\"}}, {\"showLink\": true, \"linkText\": \"Export to plot.ly\"})});</script>"
      ]
     },
     "metadata": {},
     "output_type": "display_data"
    },
    {
     "data": {
      "application/vnd.plotly.v1+json": {
       "data": [
        {
         "boxpoints": "all",
         "jitter": 0.5,
         "marker": {
          "size": 2
         },
         "name": "30-39(2)",
         "type": "box",
         "y": [
          0,
          0
         ]
        },
        {
         "boxpoints": "all",
         "jitter": 0.5,
         "marker": {
          "size": 2
         },
         "name": "18-29(7)",
         "type": "box",
         "y": [
          0,
          0,
          0,
          0,
          0,
          0,
          0
         ]
        }
       ],
       "layout": {
        "title": "age vs bugzilla project",
        "xaxis": {
         "title": "age"
        },
        "yaxis": {
         "title": "bugzilla project"
        }
       }
      },
      "text/html": [
       "<div id=\"b30511bf-7434-4900-9521-cbd602469b93\" style=\"height: 525px; width: 100%;\" class=\"plotly-graph-div\"></div><script type=\"text/javascript\">require([\"plotly\"], function(Plotly) { window.PLOTLYENV=window.PLOTLYENV || {};window.PLOTLYENV.BASE_URL=\"https://plot.ly\";Plotly.newPlot(\"b30511bf-7434-4900-9521-cbd602469b93\", [{\"type\": \"box\", \"boxpoints\": \"all\", \"name\": \"30-39(2)\", \"marker\": {\"size\": 2}, \"y\": [0, 0], \"jitter\": 0.5}, {\"type\": \"box\", \"boxpoints\": \"all\", \"name\": \"18-29(7)\", \"marker\": {\"size\": 2}, \"y\": [0, 0, 0, 0, 0, 0, 0], \"jitter\": 0.5}], {\"xaxis\": {\"title\": \"age\"}, \"title\": \"age vs bugzilla project\", \"yaxis\": {\"title\": \"bugzilla project\"}}, {\"showLink\": true, \"linkText\": \"Export to plot.ly\"})});</script>"
      ],
      "text/vnd.plotly.v1+html": [
       "<div id=\"b30511bf-7434-4900-9521-cbd602469b93\" style=\"height: 525px; width: 100%;\" class=\"plotly-graph-div\"></div><script type=\"text/javascript\">require([\"plotly\"], function(Plotly) { window.PLOTLYENV=window.PLOTLYENV || {};window.PLOTLYENV.BASE_URL=\"https://plot.ly\";Plotly.newPlot(\"b30511bf-7434-4900-9521-cbd602469b93\", [{\"type\": \"box\", \"boxpoints\": \"all\", \"name\": \"30-39(2)\", \"marker\": {\"size\": 2}, \"y\": [0, 0], \"jitter\": 0.5}, {\"type\": \"box\", \"boxpoints\": \"all\", \"name\": \"18-29(7)\", \"marker\": {\"size\": 2}, \"y\": [0, 0, 0, 0, 0, 0, 0], \"jitter\": 0.5}], {\"xaxis\": {\"title\": \"age\"}, \"title\": \"age vs bugzilla project\", \"yaxis\": {\"title\": \"bugzilla project\"}}, {\"showLink\": true, \"linkText\": \"Export to plot.ly\"})});</script>"
      ]
     },
     "metadata": {},
     "output_type": "display_data"
    },
    {
     "data": {
      "application/vnd.plotly.v1+json": {
       "data": [
        {
         "labels": [
          "30-39",
          "18-29"
         ],
         "type": "pie",
         "values": [
          2,
          7
         ]
        }
       ],
       "layout": {
        "title": "Population Distribution of age"
       }
      },
      "text/html": [
       "<div id=\"aedccd7c-7cf1-4397-9079-65d48d181d48\" style=\"height: 525px; width: 100%;\" class=\"plotly-graph-div\"></div><script type=\"text/javascript\">require([\"plotly\"], function(Plotly) { window.PLOTLYENV=window.PLOTLYENV || {};window.PLOTLYENV.BASE_URL=\"https://plot.ly\";Plotly.newPlot(\"aedccd7c-7cf1-4397-9079-65d48d181d48\", [{\"type\": \"pie\", \"values\": [2, 7], \"labels\": [\"30-39\", \"18-29\"]}], {\"title\": \"Population Distribution of age\"}, {\"showLink\": true, \"linkText\": \"Export to plot.ly\"})});</script>"
      ],
      "text/vnd.plotly.v1+html": [
       "<div id=\"aedccd7c-7cf1-4397-9079-65d48d181d48\" style=\"height: 525px; width: 100%;\" class=\"plotly-graph-div\"></div><script type=\"text/javascript\">require([\"plotly\"], function(Plotly) { window.PLOTLYENV=window.PLOTLYENV || {};window.PLOTLYENV.BASE_URL=\"https://plot.ly\";Plotly.newPlot(\"aedccd7c-7cf1-4397-9079-65d48d181d48\", [{\"type\": \"pie\", \"values\": [2, 7], \"labels\": [\"30-39\", \"18-29\"]}], {\"title\": \"Population Distribution of age\"}, {\"showLink\": true, \"linkText\": \"Export to plot.ly\"})});</script>"
      ]
     },
     "metadata": {},
     "output_type": "display_data"
    },
    {
     "data": {
      "application/vnd.plotly.v1+json": {
       "data": [
        {
         "type": "histogram",
         "x": [
          0,
          0,
          0,
          0,
          0,
          0,
          0,
          0,
          0
         ]
        }
       ],
       "layout": {
        "title": "Distribution of bugzilla project",
        "xaxis": {
         "title": "bugzilla project"
        },
        "yaxis": {
         "title": "Population"
        }
       }
      },
      "text/html": [
       "<div id=\"f62ac044-31c7-4cd6-8442-77b0707c73cb\" style=\"height: 525px; width: 100%;\" class=\"plotly-graph-div\"></div><script type=\"text/javascript\">require([\"plotly\"], function(Plotly) { window.PLOTLYENV=window.PLOTLYENV || {};window.PLOTLYENV.BASE_URL=\"https://plot.ly\";Plotly.newPlot(\"f62ac044-31c7-4cd6-8442-77b0707c73cb\", [{\"type\": \"histogram\", \"x\": [0, 0, 0, 0, 0, 0, 0, 0, 0]}], {\"xaxis\": {\"title\": \"bugzilla project\"}, \"title\": \"Distribution of bugzilla project\", \"yaxis\": {\"title\": \"Population\"}}, {\"showLink\": true, \"linkText\": \"Export to plot.ly\"})});</script>"
      ],
      "text/vnd.plotly.v1+html": [
       "<div id=\"f62ac044-31c7-4cd6-8442-77b0707c73cb\" style=\"height: 525px; width: 100%;\" class=\"plotly-graph-div\"></div><script type=\"text/javascript\">require([\"plotly\"], function(Plotly) { window.PLOTLYENV=window.PLOTLYENV || {};window.PLOTLYENV.BASE_URL=\"https://plot.ly\";Plotly.newPlot(\"f62ac044-31c7-4cd6-8442-77b0707c73cb\", [{\"type\": \"histogram\", \"x\": [0, 0, 0, 0, 0, 0, 0, 0, 0]}], {\"xaxis\": {\"title\": \"bugzilla project\"}, \"title\": \"Distribution of bugzilla project\", \"yaxis\": {\"title\": \"Population\"}}, {\"showLink\": true, \"linkText\": \"Export to plot.ly\"})});</script>"
      ]
     },
     "metadata": {},
     "output_type": "display_data"
    },
    {
     "data": {
      "application/vnd.plotly.v1+json": {
       "data": [
        {
         "boxpoints": "all",
         "jitter": 0.5,
         "marker": {
          "size": 2
         },
         "name": "30-39(2)",
         "type": "box",
         "y": [
          0,
          0
         ]
        },
        {
         "boxpoints": "all",
         "jitter": 0.5,
         "marker": {
          "size": 2
         },
         "name": "18-29(7)",
         "type": "box",
         "y": [
          0,
          0,
          0,
          0,
          0,
          0,
          0
         ]
        }
       ],
       "layout": {
        "title": "age vs mbox project",
        "xaxis": {
         "title": "age"
        },
        "yaxis": {
         "title": "mbox project"
        }
       }
      },
      "text/html": [
       "<div id=\"407839ae-9bc1-4508-8781-30a4ace69331\" style=\"height: 525px; width: 100%;\" class=\"plotly-graph-div\"></div><script type=\"text/javascript\">require([\"plotly\"], function(Plotly) { window.PLOTLYENV=window.PLOTLYENV || {};window.PLOTLYENV.BASE_URL=\"https://plot.ly\";Plotly.newPlot(\"407839ae-9bc1-4508-8781-30a4ace69331\", [{\"type\": \"box\", \"boxpoints\": \"all\", \"name\": \"30-39(2)\", \"marker\": {\"size\": 2}, \"y\": [0, 0], \"jitter\": 0.5}, {\"type\": \"box\", \"boxpoints\": \"all\", \"name\": \"18-29(7)\", \"marker\": {\"size\": 2}, \"y\": [0, 0, 0, 0, 0, 0, 0], \"jitter\": 0.5}], {\"xaxis\": {\"title\": \"age\"}, \"title\": \"age vs mbox project\", \"yaxis\": {\"title\": \"mbox project\"}}, {\"showLink\": true, \"linkText\": \"Export to plot.ly\"})});</script>"
      ],
      "text/vnd.plotly.v1+html": [
       "<div id=\"407839ae-9bc1-4508-8781-30a4ace69331\" style=\"height: 525px; width: 100%;\" class=\"plotly-graph-div\"></div><script type=\"text/javascript\">require([\"plotly\"], function(Plotly) { window.PLOTLYENV=window.PLOTLYENV || {};window.PLOTLYENV.BASE_URL=\"https://plot.ly\";Plotly.newPlot(\"407839ae-9bc1-4508-8781-30a4ace69331\", [{\"type\": \"box\", \"boxpoints\": \"all\", \"name\": \"30-39(2)\", \"marker\": {\"size\": 2}, \"y\": [0, 0], \"jitter\": 0.5}, {\"type\": \"box\", \"boxpoints\": \"all\", \"name\": \"18-29(7)\", \"marker\": {\"size\": 2}, \"y\": [0, 0, 0, 0, 0, 0, 0], \"jitter\": 0.5}], {\"xaxis\": {\"title\": \"age\"}, \"title\": \"age vs mbox project\", \"yaxis\": {\"title\": \"mbox project\"}}, {\"showLink\": true, \"linkText\": \"Export to plot.ly\"})});</script>"
      ]
     },
     "metadata": {},
     "output_type": "display_data"
    },
    {
     "data": {
      "application/vnd.plotly.v1+json": {
       "data": [
        {
         "labels": [
          "30-39",
          "18-29"
         ],
         "type": "pie",
         "values": [
          2,
          7
         ]
        }
       ],
       "layout": {
        "title": "Population Distribution of age"
       }
      },
      "text/html": [
       "<div id=\"765be042-f3ef-440f-9ef6-3970abd7d966\" style=\"height: 525px; width: 100%;\" class=\"plotly-graph-div\"></div><script type=\"text/javascript\">require([\"plotly\"], function(Plotly) { window.PLOTLYENV=window.PLOTLYENV || {};window.PLOTLYENV.BASE_URL=\"https://plot.ly\";Plotly.newPlot(\"765be042-f3ef-440f-9ef6-3970abd7d966\", [{\"type\": \"pie\", \"values\": [2, 7], \"labels\": [\"30-39\", \"18-29\"]}], {\"title\": \"Population Distribution of age\"}, {\"showLink\": true, \"linkText\": \"Export to plot.ly\"})});</script>"
      ],
      "text/vnd.plotly.v1+html": [
       "<div id=\"765be042-f3ef-440f-9ef6-3970abd7d966\" style=\"height: 525px; width: 100%;\" class=\"plotly-graph-div\"></div><script type=\"text/javascript\">require([\"plotly\"], function(Plotly) { window.PLOTLYENV=window.PLOTLYENV || {};window.PLOTLYENV.BASE_URL=\"https://plot.ly\";Plotly.newPlot(\"765be042-f3ef-440f-9ef6-3970abd7d966\", [{\"type\": \"pie\", \"values\": [2, 7], \"labels\": [\"30-39\", \"18-29\"]}], {\"title\": \"Population Distribution of age\"}, {\"showLink\": true, \"linkText\": \"Export to plot.ly\"})});</script>"
      ]
     },
     "metadata": {},
     "output_type": "display_data"
    },
    {
     "data": {
      "application/vnd.plotly.v1+json": {
       "data": [
        {
         "type": "histogram",
         "x": [
          0,
          0,
          0,
          0,
          0,
          0,
          0,
          0,
          0
         ]
        }
       ],
       "layout": {
        "title": "Distribution of mbox project",
        "xaxis": {
         "title": "mbox project"
        },
        "yaxis": {
         "title": "Population"
        }
       }
      },
      "text/html": [
       "<div id=\"e530baa7-60fe-463d-a5d6-0b628540e5e0\" style=\"height: 525px; width: 100%;\" class=\"plotly-graph-div\"></div><script type=\"text/javascript\">require([\"plotly\"], function(Plotly) { window.PLOTLYENV=window.PLOTLYENV || {};window.PLOTLYENV.BASE_URL=\"https://plot.ly\";Plotly.newPlot(\"e530baa7-60fe-463d-a5d6-0b628540e5e0\", [{\"type\": \"histogram\", \"x\": [0, 0, 0, 0, 0, 0, 0, 0, 0]}], {\"xaxis\": {\"title\": \"mbox project\"}, \"title\": \"Distribution of mbox project\", \"yaxis\": {\"title\": \"Population\"}}, {\"showLink\": true, \"linkText\": \"Export to plot.ly\"})});</script>"
      ],
      "text/vnd.plotly.v1+html": [
       "<div id=\"e530baa7-60fe-463d-a5d6-0b628540e5e0\" style=\"height: 525px; width: 100%;\" class=\"plotly-graph-div\"></div><script type=\"text/javascript\">require([\"plotly\"], function(Plotly) { window.PLOTLYENV=window.PLOTLYENV || {};window.PLOTLYENV.BASE_URL=\"https://plot.ly\";Plotly.newPlot(\"e530baa7-60fe-463d-a5d6-0b628540e5e0\", [{\"type\": \"histogram\", \"x\": [0, 0, 0, 0, 0, 0, 0, 0, 0]}], {\"xaxis\": {\"title\": \"mbox project\"}, \"title\": \"Distribution of mbox project\", \"yaxis\": {\"title\": \"Population\"}}, {\"showLink\": true, \"linkText\": \"Export to plot.ly\"})});</script>"
      ]
     },
     "metadata": {},
     "output_type": "display_data"
    },
    {
     "data": {
      "application/vnd.plotly.v1+json": {
       "data": [
        {
         "boxpoints": "all",
         "jitter": 0.5,
         "marker": {
          "size": 2
         },
         "name": "30-39(2)",
         "type": "box",
         "y": [
          0,
          1
         ]
        },
        {
         "boxpoints": "all",
         "jitter": 0.5,
         "marker": {
          "size": 2
         },
         "name": "18-29(7)",
         "type": "box",
         "y": [
          0,
          0,
          0,
          0,
          0,
          0,
          0
         ]
        }
       ],
       "layout": {
        "title": "age vs discourse project",
        "xaxis": {
         "title": "age"
        },
        "yaxis": {
         "title": "discourse project"
        }
       }
      },
      "text/html": [
       "<div id=\"d101f283-0cc7-4092-ba7f-e00226ccc79e\" style=\"height: 525px; width: 100%;\" class=\"plotly-graph-div\"></div><script type=\"text/javascript\">require([\"plotly\"], function(Plotly) { window.PLOTLYENV=window.PLOTLYENV || {};window.PLOTLYENV.BASE_URL=\"https://plot.ly\";Plotly.newPlot(\"d101f283-0cc7-4092-ba7f-e00226ccc79e\", [{\"type\": \"box\", \"boxpoints\": \"all\", \"name\": \"30-39(2)\", \"marker\": {\"size\": 2}, \"y\": [0, 1], \"jitter\": 0.5}, {\"type\": \"box\", \"boxpoints\": \"all\", \"name\": \"18-29(7)\", \"marker\": {\"size\": 2}, \"y\": [0, 0, 0, 0, 0, 0, 0], \"jitter\": 0.5}], {\"xaxis\": {\"title\": \"age\"}, \"title\": \"age vs discourse project\", \"yaxis\": {\"title\": \"discourse project\"}}, {\"showLink\": true, \"linkText\": \"Export to plot.ly\"})});</script>"
      ],
      "text/vnd.plotly.v1+html": [
       "<div id=\"d101f283-0cc7-4092-ba7f-e00226ccc79e\" style=\"height: 525px; width: 100%;\" class=\"plotly-graph-div\"></div><script type=\"text/javascript\">require([\"plotly\"], function(Plotly) { window.PLOTLYENV=window.PLOTLYENV || {};window.PLOTLYENV.BASE_URL=\"https://plot.ly\";Plotly.newPlot(\"d101f283-0cc7-4092-ba7f-e00226ccc79e\", [{\"type\": \"box\", \"boxpoints\": \"all\", \"name\": \"30-39(2)\", \"marker\": {\"size\": 2}, \"y\": [0, 1], \"jitter\": 0.5}, {\"type\": \"box\", \"boxpoints\": \"all\", \"name\": \"18-29(7)\", \"marker\": {\"size\": 2}, \"y\": [0, 0, 0, 0, 0, 0, 0], \"jitter\": 0.5}], {\"xaxis\": {\"title\": \"age\"}, \"title\": \"age vs discourse project\", \"yaxis\": {\"title\": \"discourse project\"}}, {\"showLink\": true, \"linkText\": \"Export to plot.ly\"})});</script>"
      ]
     },
     "metadata": {},
     "output_type": "display_data"
    },
    {
     "data": {
      "application/vnd.plotly.v1+json": {
       "data": [
        {
         "labels": [
          "30-39",
          "18-29"
         ],
         "type": "pie",
         "values": [
          2,
          7
         ]
        }
       ],
       "layout": {
        "title": "Population Distribution of age"
       }
      },
      "text/html": [
       "<div id=\"b21f0ed5-7164-4b57-a0f9-ab3ad0d689d2\" style=\"height: 525px; width: 100%;\" class=\"plotly-graph-div\"></div><script type=\"text/javascript\">require([\"plotly\"], function(Plotly) { window.PLOTLYENV=window.PLOTLYENV || {};window.PLOTLYENV.BASE_URL=\"https://plot.ly\";Plotly.newPlot(\"b21f0ed5-7164-4b57-a0f9-ab3ad0d689d2\", [{\"type\": \"pie\", \"values\": [2, 7], \"labels\": [\"30-39\", \"18-29\"]}], {\"title\": \"Population Distribution of age\"}, {\"showLink\": true, \"linkText\": \"Export to plot.ly\"})});</script>"
      ],
      "text/vnd.plotly.v1+html": [
       "<div id=\"b21f0ed5-7164-4b57-a0f9-ab3ad0d689d2\" style=\"height: 525px; width: 100%;\" class=\"plotly-graph-div\"></div><script type=\"text/javascript\">require([\"plotly\"], function(Plotly) { window.PLOTLYENV=window.PLOTLYENV || {};window.PLOTLYENV.BASE_URL=\"https://plot.ly\";Plotly.newPlot(\"b21f0ed5-7164-4b57-a0f9-ab3ad0d689d2\", [{\"type\": \"pie\", \"values\": [2, 7], \"labels\": [\"30-39\", \"18-29\"]}], {\"title\": \"Population Distribution of age\"}, {\"showLink\": true, \"linkText\": \"Export to plot.ly\"})});</script>"
      ]
     },
     "metadata": {},
     "output_type": "display_data"
    },
    {
     "data": {
      "application/vnd.plotly.v1+json": {
       "data": [
        {
         "type": "histogram",
         "x": [
          0,
          1,
          0,
          0,
          0,
          0,
          0,
          0,
          0
         ]
        }
       ],
       "layout": {
        "title": "Distribution of discourse project",
        "xaxis": {
         "title": "discourse project"
        },
        "yaxis": {
         "title": "Population"
        }
       }
      },
      "text/html": [
       "<div id=\"f7a14033-e63d-4208-a65f-f1ff73f14f04\" style=\"height: 525px; width: 100%;\" class=\"plotly-graph-div\"></div><script type=\"text/javascript\">require([\"plotly\"], function(Plotly) { window.PLOTLYENV=window.PLOTLYENV || {};window.PLOTLYENV.BASE_URL=\"https://plot.ly\";Plotly.newPlot(\"f7a14033-e63d-4208-a65f-f1ff73f14f04\", [{\"type\": \"histogram\", \"x\": [0, 1, 0, 0, 0, 0, 0, 0, 0]}], {\"xaxis\": {\"title\": \"discourse project\"}, \"title\": \"Distribution of discourse project\", \"yaxis\": {\"title\": \"Population\"}}, {\"showLink\": true, \"linkText\": \"Export to plot.ly\"})});</script>"
      ],
      "text/vnd.plotly.v1+html": [
       "<div id=\"f7a14033-e63d-4208-a65f-f1ff73f14f04\" style=\"height: 525px; width: 100%;\" class=\"plotly-graph-div\"></div><script type=\"text/javascript\">require([\"plotly\"], function(Plotly) { window.PLOTLYENV=window.PLOTLYENV || {};window.PLOTLYENV.BASE_URL=\"https://plot.ly\";Plotly.newPlot(\"f7a14033-e63d-4208-a65f-f1ff73f14f04\", [{\"type\": \"histogram\", \"x\": [0, 1, 0, 0, 0, 0, 0, 0, 0]}], {\"xaxis\": {\"title\": \"discourse project\"}, \"title\": \"Distribution of discourse project\", \"yaxis\": {\"title\": \"Population\"}}, {\"showLink\": true, \"linkText\": \"Export to plot.ly\"})});</script>"
      ]
     },
     "metadata": {},
     "output_type": "display_data"
    },
    {
     "data": {
      "application/vnd.plotly.v1+json": {
       "data": [
        {
         "boxpoints": "all",
         "jitter": 0.5,
         "marker": {
          "size": 2
         },
         "name": "30-39(2)",
         "type": "box",
         "y": [
          3,
          null
         ]
        },
        {
         "boxpoints": "all",
         "jitter": 0.5,
         "marker": {
          "size": 2
         },
         "name": "18-29(7)",
         "type": "box",
         "y": [
          1,
          2,
          2,
          2,
          1,
          null,
          null
         ]
        }
       ],
       "layout": {
        "title": "age vs exp",
        "xaxis": {
         "title": "age"
        },
        "yaxis": {
         "title": "exp"
        }
       }
      },
      "text/html": [
       "<div id=\"6eadcb2e-0c50-409e-b160-50b4be7d2045\" style=\"height: 525px; width: 100%;\" class=\"plotly-graph-div\"></div><script type=\"text/javascript\">require([\"plotly\"], function(Plotly) { window.PLOTLYENV=window.PLOTLYENV || {};window.PLOTLYENV.BASE_URL=\"https://plot.ly\";Plotly.newPlot(\"6eadcb2e-0c50-409e-b160-50b4be7d2045\", [{\"type\": \"box\", \"boxpoints\": \"all\", \"name\": \"30-39(2)\", \"marker\": {\"size\": 2}, \"y\": [3.0, null], \"jitter\": 0.5}, {\"type\": \"box\", \"boxpoints\": \"all\", \"name\": \"18-29(7)\", \"marker\": {\"size\": 2}, \"y\": [1.0, 2.0, 2.0, 2.0, 1.0, null, null], \"jitter\": 0.5}], {\"xaxis\": {\"title\": \"age\"}, \"title\": \"age vs exp\", \"yaxis\": {\"title\": \"exp\"}}, {\"showLink\": true, \"linkText\": \"Export to plot.ly\"})});</script>"
      ],
      "text/vnd.plotly.v1+html": [
       "<div id=\"6eadcb2e-0c50-409e-b160-50b4be7d2045\" style=\"height: 525px; width: 100%;\" class=\"plotly-graph-div\"></div><script type=\"text/javascript\">require([\"plotly\"], function(Plotly) { window.PLOTLYENV=window.PLOTLYENV || {};window.PLOTLYENV.BASE_URL=\"https://plot.ly\";Plotly.newPlot(\"6eadcb2e-0c50-409e-b160-50b4be7d2045\", [{\"type\": \"box\", \"boxpoints\": \"all\", \"name\": \"30-39(2)\", \"marker\": {\"size\": 2}, \"y\": [3.0, null], \"jitter\": 0.5}, {\"type\": \"box\", \"boxpoints\": \"all\", \"name\": \"18-29(7)\", \"marker\": {\"size\": 2}, \"y\": [1.0, 2.0, 2.0, 2.0, 1.0, null, null], \"jitter\": 0.5}], {\"xaxis\": {\"title\": \"age\"}, \"title\": \"age vs exp\", \"yaxis\": {\"title\": \"exp\"}}, {\"showLink\": true, \"linkText\": \"Export to plot.ly\"})});</script>"
      ]
     },
     "metadata": {},
     "output_type": "display_data"
    },
    {
     "data": {
      "application/vnd.plotly.v1+json": {
       "data": [
        {
         "labels": [
          "30-39",
          "18-29"
         ],
         "type": "pie",
         "values": [
          2,
          7
         ]
        }
       ],
       "layout": {
        "title": "Population Distribution of age"
       }
      },
      "text/html": [
       "<div id=\"96b6291f-b854-4f82-896e-2e8f884e3ae3\" style=\"height: 525px; width: 100%;\" class=\"plotly-graph-div\"></div><script type=\"text/javascript\">require([\"plotly\"], function(Plotly) { window.PLOTLYENV=window.PLOTLYENV || {};window.PLOTLYENV.BASE_URL=\"https://plot.ly\";Plotly.newPlot(\"96b6291f-b854-4f82-896e-2e8f884e3ae3\", [{\"type\": \"pie\", \"values\": [2, 7], \"labels\": [\"30-39\", \"18-29\"]}], {\"title\": \"Population Distribution of age\"}, {\"showLink\": true, \"linkText\": \"Export to plot.ly\"})});</script>"
      ],
      "text/vnd.plotly.v1+html": [
       "<div id=\"96b6291f-b854-4f82-896e-2e8f884e3ae3\" style=\"height: 525px; width: 100%;\" class=\"plotly-graph-div\"></div><script type=\"text/javascript\">require([\"plotly\"], function(Plotly) { window.PLOTLYENV=window.PLOTLYENV || {};window.PLOTLYENV.BASE_URL=\"https://plot.ly\";Plotly.newPlot(\"96b6291f-b854-4f82-896e-2e8f884e3ae3\", [{\"type\": \"pie\", \"values\": [2, 7], \"labels\": [\"30-39\", \"18-29\"]}], {\"title\": \"Population Distribution of age\"}, {\"showLink\": true, \"linkText\": \"Export to plot.ly\"})});</script>"
      ]
     },
     "metadata": {},
     "output_type": "display_data"
    },
    {
     "data": {
      "application/vnd.plotly.v1+json": {
       "data": [
        {
         "type": "histogram",
         "x": [
          3,
          null,
          1,
          2,
          2,
          2,
          1,
          null,
          null
         ]
        }
       ],
       "layout": {
        "title": "Distribution of exp",
        "xaxis": {
         "title": "exp"
        },
        "yaxis": {
         "title": "Population"
        }
       }
      },
      "text/html": [
       "<div id=\"252604bb-6174-49a2-9a57-c508ceb3c76c\" style=\"height: 525px; width: 100%;\" class=\"plotly-graph-div\"></div><script type=\"text/javascript\">require([\"plotly\"], function(Plotly) { window.PLOTLYENV=window.PLOTLYENV || {};window.PLOTLYENV.BASE_URL=\"https://plot.ly\";Plotly.newPlot(\"252604bb-6174-49a2-9a57-c508ceb3c76c\", [{\"type\": \"histogram\", \"x\": [3.0, null, 1.0, 2.0, 2.0, 2.0, 1.0, null, null]}], {\"xaxis\": {\"title\": \"exp\"}, \"title\": \"Distribution of exp\", \"yaxis\": {\"title\": \"Population\"}}, {\"showLink\": true, \"linkText\": \"Export to plot.ly\"})});</script>"
      ],
      "text/vnd.plotly.v1+html": [
       "<div id=\"252604bb-6174-49a2-9a57-c508ceb3c76c\" style=\"height: 525px; width: 100%;\" class=\"plotly-graph-div\"></div><script type=\"text/javascript\">require([\"plotly\"], function(Plotly) { window.PLOTLYENV=window.PLOTLYENV || {};window.PLOTLYENV.BASE_URL=\"https://plot.ly\";Plotly.newPlot(\"252604bb-6174-49a2-9a57-c508ceb3c76c\", [{\"type\": \"histogram\", \"x\": [3.0, null, 1.0, 2.0, 2.0, 2.0, 1.0, null, null]}], {\"xaxis\": {\"title\": \"exp\"}, \"title\": \"Distribution of exp\", \"yaxis\": {\"title\": \"Population\"}}, {\"showLink\": true, \"linkText\": \"Export to plot.ly\"})});</script>"
      ]
     },
     "metadata": {},
     "output_type": "display_data"
    },
    {
     "data": {
      "application/vnd.plotly.v1+json": {
       "data": [
        {
         "boxpoints": "all",
         "jitter": 0.5,
         "marker": {
          "size": 2
         },
         "name": "30-39(2)",
         "type": "box",
         "y": [
          "2015",
          null
         ]
        },
        {
         "boxpoints": "all",
         "jitter": 0.5,
         "marker": {
          "size": 2
         },
         "name": "18-29(7)",
         "type": "box",
         "y": [
          "2016",
          "2016",
          "2016",
          "2016",
          "2017",
          null,
          null
         ]
        }
       ],
       "layout": {
        "title": "age vs first commit",
        "xaxis": {
         "title": "age"
        },
        "yaxis": {
         "title": "first commit"
        }
       }
      },
      "text/html": [
       "<div id=\"0c173611-e8e0-4bd1-b1bc-d0e411217a68\" style=\"height: 525px; width: 100%;\" class=\"plotly-graph-div\"></div><script type=\"text/javascript\">require([\"plotly\"], function(Plotly) { window.PLOTLYENV=window.PLOTLYENV || {};window.PLOTLYENV.BASE_URL=\"https://plot.ly\";Plotly.newPlot(\"0c173611-e8e0-4bd1-b1bc-d0e411217a68\", [{\"type\": \"box\", \"boxpoints\": \"all\", \"name\": \"30-39(2)\", \"marker\": {\"size\": 2}, \"y\": [\"2015\", null], \"jitter\": 0.5}, {\"type\": \"box\", \"boxpoints\": \"all\", \"name\": \"18-29(7)\", \"marker\": {\"size\": 2}, \"y\": [\"2016\", \"2016\", \"2016\", \"2016\", \"2017\", null, null], \"jitter\": 0.5}], {\"xaxis\": {\"title\": \"age\"}, \"title\": \"age vs first commit\", \"yaxis\": {\"title\": \"first commit\"}}, {\"showLink\": true, \"linkText\": \"Export to plot.ly\"})});</script>"
      ],
      "text/vnd.plotly.v1+html": [
       "<div id=\"0c173611-e8e0-4bd1-b1bc-d0e411217a68\" style=\"height: 525px; width: 100%;\" class=\"plotly-graph-div\"></div><script type=\"text/javascript\">require([\"plotly\"], function(Plotly) { window.PLOTLYENV=window.PLOTLYENV || {};window.PLOTLYENV.BASE_URL=\"https://plot.ly\";Plotly.newPlot(\"0c173611-e8e0-4bd1-b1bc-d0e411217a68\", [{\"type\": \"box\", \"boxpoints\": \"all\", \"name\": \"30-39(2)\", \"marker\": {\"size\": 2}, \"y\": [\"2015\", null], \"jitter\": 0.5}, {\"type\": \"box\", \"boxpoints\": \"all\", \"name\": \"18-29(7)\", \"marker\": {\"size\": 2}, \"y\": [\"2016\", \"2016\", \"2016\", \"2016\", \"2017\", null, null], \"jitter\": 0.5}], {\"xaxis\": {\"title\": \"age\"}, \"title\": \"age vs first commit\", \"yaxis\": {\"title\": \"first commit\"}}, {\"showLink\": true, \"linkText\": \"Export to plot.ly\"})});</script>"
      ]
     },
     "metadata": {},
     "output_type": "display_data"
    },
    {
     "data": {
      "application/vnd.plotly.v1+json": {
       "data": [
        {
         "labels": [
          "30-39",
          "18-29"
         ],
         "type": "pie",
         "values": [
          2,
          7
         ]
        }
       ],
       "layout": {
        "title": "Population Distribution of age"
       }
      },
      "text/html": [
       "<div id=\"9fb8902a-7299-425b-93f8-7e872503a4de\" style=\"height: 525px; width: 100%;\" class=\"plotly-graph-div\"></div><script type=\"text/javascript\">require([\"plotly\"], function(Plotly) { window.PLOTLYENV=window.PLOTLYENV || {};window.PLOTLYENV.BASE_URL=\"https://plot.ly\";Plotly.newPlot(\"9fb8902a-7299-425b-93f8-7e872503a4de\", [{\"type\": \"pie\", \"values\": [2, 7], \"labels\": [\"30-39\", \"18-29\"]}], {\"title\": \"Population Distribution of age\"}, {\"showLink\": true, \"linkText\": \"Export to plot.ly\"})});</script>"
      ],
      "text/vnd.plotly.v1+html": [
       "<div id=\"9fb8902a-7299-425b-93f8-7e872503a4de\" style=\"height: 525px; width: 100%;\" class=\"plotly-graph-div\"></div><script type=\"text/javascript\">require([\"plotly\"], function(Plotly) { window.PLOTLYENV=window.PLOTLYENV || {};window.PLOTLYENV.BASE_URL=\"https://plot.ly\";Plotly.newPlot(\"9fb8902a-7299-425b-93f8-7e872503a4de\", [{\"type\": \"pie\", \"values\": [2, 7], \"labels\": [\"30-39\", \"18-29\"]}], {\"title\": \"Population Distribution of age\"}, {\"showLink\": true, \"linkText\": \"Export to plot.ly\"})});</script>"
      ]
     },
     "metadata": {},
     "output_type": "display_data"
    },
    {
     "data": {
      "application/vnd.plotly.v1+json": {
       "data": [
        {
         "type": "histogram",
         "x": [
          "2015",
          null,
          "2016",
          "2016",
          "2016",
          "2016",
          "2017",
          null,
          null
         ]
        }
       ],
       "layout": {
        "title": "Distribution of first commit",
        "xaxis": {
         "title": "first commit"
        },
        "yaxis": {
         "title": "Population"
        }
       }
      },
      "text/html": [
       "<div id=\"743fb34e-9415-4d77-9b81-e10d70a7f993\" style=\"height: 525px; width: 100%;\" class=\"plotly-graph-div\"></div><script type=\"text/javascript\">require([\"plotly\"], function(Plotly) { window.PLOTLYENV=window.PLOTLYENV || {};window.PLOTLYENV.BASE_URL=\"https://plot.ly\";Plotly.newPlot(\"743fb34e-9415-4d77-9b81-e10d70a7f993\", [{\"type\": \"histogram\", \"x\": [\"2015\", null, \"2016\", \"2016\", \"2016\", \"2016\", \"2017\", null, null]}], {\"xaxis\": {\"title\": \"first commit\"}, \"title\": \"Distribution of first commit\", \"yaxis\": {\"title\": \"Population\"}}, {\"showLink\": true, \"linkText\": \"Export to plot.ly\"})});</script>"
      ],
      "text/vnd.plotly.v1+html": [
       "<div id=\"743fb34e-9415-4d77-9b81-e10d70a7f993\" style=\"height: 525px; width: 100%;\" class=\"plotly-graph-div\"></div><script type=\"text/javascript\">require([\"plotly\"], function(Plotly) { window.PLOTLYENV=window.PLOTLYENV || {};window.PLOTLYENV.BASE_URL=\"https://plot.ly\";Plotly.newPlot(\"743fb34e-9415-4d77-9b81-e10d70a7f993\", [{\"type\": \"histogram\", \"x\": [\"2015\", null, \"2016\", \"2016\", \"2016\", \"2016\", \"2017\", null, null]}], {\"xaxis\": {\"title\": \"first commit\"}, \"title\": \"Distribution of first commit\", \"yaxis\": {\"title\": \"Population\"}}, {\"showLink\": true, \"linkText\": \"Export to plot.ly\"})});</script>"
      ]
     },
     "metadata": {},
     "output_type": "display_data"
    },
    {
     "data": {
      "application/vnd.plotly.v1+json": {
       "data": [
        {
         "boxpoints": "all",
         "jitter": 0.5,
         "marker": {
          "size": 2
         },
         "name": "30-39(2)",
         "type": "box",
         "y": [
          "2017",
          null
         ]
        },
        {
         "boxpoints": "all",
         "jitter": 0.5,
         "marker": {
          "size": 2
         },
         "name": "18-29(7)",
         "type": "box",
         "y": [
          "2016",
          "2017",
          "2017",
          "2017",
          "2017",
          null,
          null
         ]
        }
       ],
       "layout": {
        "title": "age vs last commit",
        "xaxis": {
         "title": "age"
        },
        "yaxis": {
         "title": "last commit"
        }
       }
      },
      "text/html": [
       "<div id=\"568ca28c-5a17-4508-849b-cee5618631d7\" style=\"height: 525px; width: 100%;\" class=\"plotly-graph-div\"></div><script type=\"text/javascript\">require([\"plotly\"], function(Plotly) { window.PLOTLYENV=window.PLOTLYENV || {};window.PLOTLYENV.BASE_URL=\"https://plot.ly\";Plotly.newPlot(\"568ca28c-5a17-4508-849b-cee5618631d7\", [{\"type\": \"box\", \"boxpoints\": \"all\", \"name\": \"30-39(2)\", \"marker\": {\"size\": 2}, \"y\": [\"2017\", null], \"jitter\": 0.5}, {\"type\": \"box\", \"boxpoints\": \"all\", \"name\": \"18-29(7)\", \"marker\": {\"size\": 2}, \"y\": [\"2016\", \"2017\", \"2017\", \"2017\", \"2017\", null, null], \"jitter\": 0.5}], {\"xaxis\": {\"title\": \"age\"}, \"title\": \"age vs last commit\", \"yaxis\": {\"title\": \"last commit\"}}, {\"showLink\": true, \"linkText\": \"Export to plot.ly\"})});</script>"
      ],
      "text/vnd.plotly.v1+html": [
       "<div id=\"568ca28c-5a17-4508-849b-cee5618631d7\" style=\"height: 525px; width: 100%;\" class=\"plotly-graph-div\"></div><script type=\"text/javascript\">require([\"plotly\"], function(Plotly) { window.PLOTLYENV=window.PLOTLYENV || {};window.PLOTLYENV.BASE_URL=\"https://plot.ly\";Plotly.newPlot(\"568ca28c-5a17-4508-849b-cee5618631d7\", [{\"type\": \"box\", \"boxpoints\": \"all\", \"name\": \"30-39(2)\", \"marker\": {\"size\": 2}, \"y\": [\"2017\", null], \"jitter\": 0.5}, {\"type\": \"box\", \"boxpoints\": \"all\", \"name\": \"18-29(7)\", \"marker\": {\"size\": 2}, \"y\": [\"2016\", \"2017\", \"2017\", \"2017\", \"2017\", null, null], \"jitter\": 0.5}], {\"xaxis\": {\"title\": \"age\"}, \"title\": \"age vs last commit\", \"yaxis\": {\"title\": \"last commit\"}}, {\"showLink\": true, \"linkText\": \"Export to plot.ly\"})});</script>"
      ]
     },
     "metadata": {},
     "output_type": "display_data"
    },
    {
     "data": {
      "application/vnd.plotly.v1+json": {
       "data": [
        {
         "labels": [
          "30-39",
          "18-29"
         ],
         "type": "pie",
         "values": [
          2,
          7
         ]
        }
       ],
       "layout": {
        "title": "Population Distribution of age"
       }
      },
      "text/html": [
       "<div id=\"11c611cf-fb4f-4b6e-bca3-210f97b770df\" style=\"height: 525px; width: 100%;\" class=\"plotly-graph-div\"></div><script type=\"text/javascript\">require([\"plotly\"], function(Plotly) { window.PLOTLYENV=window.PLOTLYENV || {};window.PLOTLYENV.BASE_URL=\"https://plot.ly\";Plotly.newPlot(\"11c611cf-fb4f-4b6e-bca3-210f97b770df\", [{\"type\": \"pie\", \"values\": [2, 7], \"labels\": [\"30-39\", \"18-29\"]}], {\"title\": \"Population Distribution of age\"}, {\"showLink\": true, \"linkText\": \"Export to plot.ly\"})});</script>"
      ],
      "text/vnd.plotly.v1+html": [
       "<div id=\"11c611cf-fb4f-4b6e-bca3-210f97b770df\" style=\"height: 525px; width: 100%;\" class=\"plotly-graph-div\"></div><script type=\"text/javascript\">require([\"plotly\"], function(Plotly) { window.PLOTLYENV=window.PLOTLYENV || {};window.PLOTLYENV.BASE_URL=\"https://plot.ly\";Plotly.newPlot(\"11c611cf-fb4f-4b6e-bca3-210f97b770df\", [{\"type\": \"pie\", \"values\": [2, 7], \"labels\": [\"30-39\", \"18-29\"]}], {\"title\": \"Population Distribution of age\"}, {\"showLink\": true, \"linkText\": \"Export to plot.ly\"})});</script>"
      ]
     },
     "metadata": {},
     "output_type": "display_data"
    },
    {
     "data": {
      "application/vnd.plotly.v1+json": {
       "data": [
        {
         "type": "histogram",
         "x": [
          "2017",
          null,
          "2016",
          "2017",
          "2017",
          "2017",
          "2017",
          null,
          null
         ]
        }
       ],
       "layout": {
        "title": "Distribution of last commit",
        "xaxis": {
         "title": "last commit"
        },
        "yaxis": {
         "title": "Population"
        }
       }
      },
      "text/html": [
       "<div id=\"cfc72e0c-f5fa-4e03-bfd5-3ad20c63c081\" style=\"height: 525px; width: 100%;\" class=\"plotly-graph-div\"></div><script type=\"text/javascript\">require([\"plotly\"], function(Plotly) { window.PLOTLYENV=window.PLOTLYENV || {};window.PLOTLYENV.BASE_URL=\"https://plot.ly\";Plotly.newPlot(\"cfc72e0c-f5fa-4e03-bfd5-3ad20c63c081\", [{\"type\": \"histogram\", \"x\": [\"2017\", null, \"2016\", \"2017\", \"2017\", \"2017\", \"2017\", null, null]}], {\"xaxis\": {\"title\": \"last commit\"}, \"title\": \"Distribution of last commit\", \"yaxis\": {\"title\": \"Population\"}}, {\"showLink\": true, \"linkText\": \"Export to plot.ly\"})});</script>"
      ],
      "text/vnd.plotly.v1+html": [
       "<div id=\"cfc72e0c-f5fa-4e03-bfd5-3ad20c63c081\" style=\"height: 525px; width: 100%;\" class=\"plotly-graph-div\"></div><script type=\"text/javascript\">require([\"plotly\"], function(Plotly) { window.PLOTLYENV=window.PLOTLYENV || {};window.PLOTLYENV.BASE_URL=\"https://plot.ly\";Plotly.newPlot(\"cfc72e0c-f5fa-4e03-bfd5-3ad20c63c081\", [{\"type\": \"histogram\", \"x\": [\"2017\", null, \"2016\", \"2017\", \"2017\", \"2017\", \"2017\", null, null]}], {\"xaxis\": {\"title\": \"last commit\"}, \"title\": \"Distribution of last commit\", \"yaxis\": {\"title\": \"Population\"}}, {\"showLink\": true, \"linkText\": \"Export to plot.ly\"})});</script>"
      ]
     },
     "metadata": {},
     "output_type": "display_data"
    },
    {
     "data": {
      "application/vnd.plotly.v1+json": {
       "data": [
        {
         "boxpoints": "all",
         "jitter": 0.5,
         "marker": {
          "size": 2
         },
         "name": "Italy(1)",
         "type": "box",
         "y": [
          5
         ]
        },
        {
         "boxpoints": "all",
         "jitter": 0.5,
         "marker": {
          "size": 2
         },
         "name": "India(1)",
         "type": "box",
         "y": [
          0
         ]
        },
        {
         "boxpoints": "all",
         "jitter": 0.5,
         "marker": {
          "size": 2
         },
         "name": "United States(1)",
         "type": "box",
         "y": [
          3
         ]
        },
        {
         "boxpoints": "all",
         "jitter": 0.5,
         "marker": {
          "size": 2
         },
         "name": "Serbia(1)",
         "type": "box",
         "y": [
          0
         ]
        },
        {
         "boxpoints": "all",
         "jitter": 0.5,
         "marker": {
          "size": 2
         },
         "name": "Mexico(1)",
         "type": "box",
         "y": [
          0
         ]
        },
        {
         "boxpoints": "all",
         "jitter": 0.5,
         "marker": {
          "size": 2
         },
         "name": "Germany(2)",
         "type": "box",
         "y": [
          7,
          1
         ]
        },
        {
         "boxpoints": "all",
         "jitter": 0.5,
         "marker": {
          "size": 2
         },
         "name": "Canada(1)",
         "type": "box",
         "y": [
          13
         ]
        },
        {
         "boxpoints": "all",
         "jitter": 0.5,
         "marker": {
          "size": 2
         },
         "name": "France(1)",
         "type": "box",
         "y": [
          66
         ]
        }
       ],
       "layout": {
        "title": "country vs commits",
        "xaxis": {
         "title": "country"
        },
        "yaxis": {
         "title": "commits"
        }
       }
      },
      "text/html": [
       "<div id=\"b6952d68-56f4-4b77-be0d-64c50cd6a043\" style=\"height: 525px; width: 100%;\" class=\"plotly-graph-div\"></div><script type=\"text/javascript\">require([\"plotly\"], function(Plotly) { window.PLOTLYENV=window.PLOTLYENV || {};window.PLOTLYENV.BASE_URL=\"https://plot.ly\";Plotly.newPlot(\"b6952d68-56f4-4b77-be0d-64c50cd6a043\", [{\"type\": \"box\", \"boxpoints\": \"all\", \"name\": \"Italy(1)\", \"marker\": {\"size\": 2}, \"y\": [5.0], \"jitter\": 0.5}, {\"type\": \"box\", \"boxpoints\": \"all\", \"name\": \"India(1)\", \"marker\": {\"size\": 2}, \"y\": [0.0], \"jitter\": 0.5}, {\"type\": \"box\", \"boxpoints\": \"all\", \"name\": \"United States(1)\", \"marker\": {\"size\": 2}, \"y\": [3.0], \"jitter\": 0.5}, {\"type\": \"box\", \"boxpoints\": \"all\", \"name\": \"Serbia(1)\", \"marker\": {\"size\": 2}, \"y\": [0.0], \"jitter\": 0.5}, {\"type\": \"box\", \"boxpoints\": \"all\", \"name\": \"Mexico(1)\", \"marker\": {\"size\": 2}, \"y\": [0.0], \"jitter\": 0.5}, {\"type\": \"box\", \"boxpoints\": \"all\", \"name\": \"Germany(2)\", \"marker\": {\"size\": 2}, \"y\": [7.0, 1.0], \"jitter\": 0.5}, {\"type\": \"box\", \"boxpoints\": \"all\", \"name\": \"Canada(1)\", \"marker\": {\"size\": 2}, \"y\": [13.0], \"jitter\": 0.5}, {\"type\": \"box\", \"boxpoints\": \"all\", \"name\": \"France(1)\", \"marker\": {\"size\": 2}, \"y\": [66.0], \"jitter\": 0.5}], {\"xaxis\": {\"title\": \"country\"}, \"title\": \"country vs commits\", \"yaxis\": {\"title\": \"commits\"}}, {\"showLink\": true, \"linkText\": \"Export to plot.ly\"})});</script>"
      ],
      "text/vnd.plotly.v1+html": [
       "<div id=\"b6952d68-56f4-4b77-be0d-64c50cd6a043\" style=\"height: 525px; width: 100%;\" class=\"plotly-graph-div\"></div><script type=\"text/javascript\">require([\"plotly\"], function(Plotly) { window.PLOTLYENV=window.PLOTLYENV || {};window.PLOTLYENV.BASE_URL=\"https://plot.ly\";Plotly.newPlot(\"b6952d68-56f4-4b77-be0d-64c50cd6a043\", [{\"type\": \"box\", \"boxpoints\": \"all\", \"name\": \"Italy(1)\", \"marker\": {\"size\": 2}, \"y\": [5.0], \"jitter\": 0.5}, {\"type\": \"box\", \"boxpoints\": \"all\", \"name\": \"India(1)\", \"marker\": {\"size\": 2}, \"y\": [0.0], \"jitter\": 0.5}, {\"type\": \"box\", \"boxpoints\": \"all\", \"name\": \"United States(1)\", \"marker\": {\"size\": 2}, \"y\": [3.0], \"jitter\": 0.5}, {\"type\": \"box\", \"boxpoints\": \"all\", \"name\": \"Serbia(1)\", \"marker\": {\"size\": 2}, \"y\": [0.0], \"jitter\": 0.5}, {\"type\": \"box\", \"boxpoints\": \"all\", \"name\": \"Mexico(1)\", \"marker\": {\"size\": 2}, \"y\": [0.0], \"jitter\": 0.5}, {\"type\": \"box\", \"boxpoints\": \"all\", \"name\": \"Germany(2)\", \"marker\": {\"size\": 2}, \"y\": [7.0, 1.0], \"jitter\": 0.5}, {\"type\": \"box\", \"boxpoints\": \"all\", \"name\": \"Canada(1)\", \"marker\": {\"size\": 2}, \"y\": [13.0], \"jitter\": 0.5}, {\"type\": \"box\", \"boxpoints\": \"all\", \"name\": \"France(1)\", \"marker\": {\"size\": 2}, \"y\": [66.0], \"jitter\": 0.5}], {\"xaxis\": {\"title\": \"country\"}, \"title\": \"country vs commits\", \"yaxis\": {\"title\": \"commits\"}}, {\"showLink\": true, \"linkText\": \"Export to plot.ly\"})});</script>"
      ]
     },
     "metadata": {},
     "output_type": "display_data"
    },
    {
     "data": {
      "application/vnd.plotly.v1+json": {
       "data": [
        {
         "labels": [
          "Italy",
          "India",
          "United States",
          "Serbia",
          "Mexico",
          "Germany",
          "Canada",
          "France"
         ],
         "type": "pie",
         "values": [
          1,
          1,
          1,
          1,
          1,
          2,
          1,
          1
         ]
        }
       ],
       "layout": {
        "title": "Population Distribution of country"
       }
      },
      "text/html": [
       "<div id=\"e2ae1e4b-a0e8-4821-bc5c-01cdfe39cf32\" style=\"height: 525px; width: 100%;\" class=\"plotly-graph-div\"></div><script type=\"text/javascript\">require([\"plotly\"], function(Plotly) { window.PLOTLYENV=window.PLOTLYENV || {};window.PLOTLYENV.BASE_URL=\"https://plot.ly\";Plotly.newPlot(\"e2ae1e4b-a0e8-4821-bc5c-01cdfe39cf32\", [{\"type\": \"pie\", \"values\": [1, 1, 1, 1, 1, 2, 1, 1], \"labels\": [\"Italy\", \"India\", \"United States\", \"Serbia\", \"Mexico\", \"Germany\", \"Canada\", \"France\"]}], {\"title\": \"Population Distribution of country\"}, {\"showLink\": true, \"linkText\": \"Export to plot.ly\"})});</script>"
      ],
      "text/vnd.plotly.v1+html": [
       "<div id=\"e2ae1e4b-a0e8-4821-bc5c-01cdfe39cf32\" style=\"height: 525px; width: 100%;\" class=\"plotly-graph-div\"></div><script type=\"text/javascript\">require([\"plotly\"], function(Plotly) { window.PLOTLYENV=window.PLOTLYENV || {};window.PLOTLYENV.BASE_URL=\"https://plot.ly\";Plotly.newPlot(\"e2ae1e4b-a0e8-4821-bc5c-01cdfe39cf32\", [{\"type\": \"pie\", \"values\": [1, 1, 1, 1, 1, 2, 1, 1], \"labels\": [\"Italy\", \"India\", \"United States\", \"Serbia\", \"Mexico\", \"Germany\", \"Canada\", \"France\"]}], {\"title\": \"Population Distribution of country\"}, {\"showLink\": true, \"linkText\": \"Export to plot.ly\"})});</script>"
      ]
     },
     "metadata": {},
     "output_type": "display_data"
    },
    {
     "data": {
      "application/vnd.plotly.v1+json": {
       "data": [
        {
         "boxpoints": false,
         "name": "Non-employees commits",
         "type": "box",
         "y": [
          1312,
          427,
          314,
          66,
          48,
          38,
          32,
          27,
          18,
          16,
          15,
          14,
          13,
          13,
          13,
          12,
          11,
          10,
          10,
          10,
          9,
          8,
          8,
          7,
          7,
          7,
          7,
          6,
          6,
          6,
          6,
          6,
          6,
          5,
          5,
          5,
          5,
          5,
          5,
          5,
          5,
          5,
          4,
          4,
          4,
          4,
          4,
          4,
          4,
          4,
          4,
          4,
          4,
          4,
          4,
          4,
          3,
          3,
          3,
          3,
          3,
          3,
          3,
          3,
          3,
          3,
          3,
          3,
          3,
          3,
          3,
          3,
          3,
          3,
          3,
          3,
          2,
          2,
          2,
          2,
          2,
          2,
          2,
          2,
          2,
          2,
          2,
          2,
          2,
          2,
          2,
          2,
          2,
          2,
          2,
          2,
          2,
          2,
          2,
          2,
          2,
          2,
          2,
          2,
          2,
          2,
          2,
          2,
          2,
          2,
          2,
          2,
          1,
          1,
          1,
          1,
          1,
          1,
          1,
          1,
          1,
          1,
          1,
          1,
          1,
          1,
          1,
          1,
          1,
          1,
          1,
          1,
          1,
          1,
          1,
          1,
          1,
          1,
          1,
          1,
          1,
          1,
          1,
          1,
          1,
          1,
          1,
          1,
          1,
          1,
          1,
          1,
          1,
          1,
          1,
          1,
          1,
          1,
          1,
          1,
          1,
          1,
          1,
          1,
          1,
          1,
          1,
          1,
          1,
          1,
          1,
          1,
          1,
          1,
          1,
          1,
          1,
          1,
          1,
          1,
          1,
          1,
          1,
          1,
          1,
          1,
          1,
          1,
          1,
          1,
          1,
          1,
          1,
          1,
          1,
          1,
          1,
          1,
          1,
          1,
          1,
          1,
          1,
          1,
          1,
          1,
          1,
          1,
          1,
          1,
          1,
          1,
          1,
          1,
          1,
          1,
          1,
          1,
          1,
          1,
          1
         ]
        },
        {
         "boxpoints": false,
         "name": "Survey commits",
         "type": "box",
         "y": [
          5,
          0,
          3,
          0,
          0,
          7,
          1,
          13,
          66
         ]
        }
       ],
       "layout": {
        "title": "country vs commits",
        "xaxis": {
         "title": "country"
        },
        "yaxis": {
         "range": [
          "0",
          "100"
         ],
         "title": "commits"
        }
       }
      },
      "text/html": [
       "<div id=\"098ebc4f-6529-4769-b599-6a9e2e30ce23\" style=\"height: 525px; width: 100%;\" class=\"plotly-graph-div\"></div><script type=\"text/javascript\">require([\"plotly\"], function(Plotly) { window.PLOTLYENV=window.PLOTLYENV || {};window.PLOTLYENV.BASE_URL=\"https://plot.ly\";Plotly.newPlot(\"098ebc4f-6529-4769-b599-6a9e2e30ce23\", [{\"type\": \"box\", \"boxpoints\": false, \"name\": \"Non-employees commits\", \"y\": [1312, 427, 314, 66, 48, 38, 32, 27, 18, 16, 15, 14, 13, 13, 13, 12, 11, 10, 10, 10, 9, 8, 8, 7, 7, 7, 7, 6, 6, 6, 6, 6, 6, 5, 5, 5, 5, 5, 5, 5, 5, 5, 4, 4, 4, 4, 4, 4, 4, 4, 4, 4, 4, 4, 4, 4, 3, 3, 3, 3, 3, 3, 3, 3, 3, 3, 3, 3, 3, 3, 3, 3, 3, 3, 3, 3, 2, 2, 2, 2, 2, 2, 2, 2, 2, 2, 2, 2, 2, 2, 2, 2, 2, 2, 2, 2, 2, 2, 2, 2, 2, 2, 2, 2, 2, 2, 2, 2, 2, 2, 2, 2, 1, 1, 1, 1, 1, 1, 1, 1, 1, 1, 1, 1, 1, 1, 1, 1, 1, 1, 1, 1, 1, 1, 1, 1, 1, 1, 1, 1, 1, 1, 1, 1, 1, 1, 1, 1, 1, 1, 1, 1, 1, 1, 1, 1, 1, 1, 1, 1, 1, 1, 1, 1, 1, 1, 1, 1, 1, 1, 1, 1, 1, 1, 1, 1, 1, 1, 1, 1, 1, 1, 1, 1, 1, 1, 1, 1, 1, 1, 1, 1, 1, 1, 1, 1, 1, 1, 1, 1, 1, 1, 1, 1, 1, 1, 1, 1, 1, 1, 1, 1, 1, 1, 1, 1, 1, 1, 1, 1, 1]}, {\"type\": \"box\", \"boxpoints\": false, \"name\": \"Survey commits\", \"y\": [5.0, 0.0, 3.0, 0.0, 0.0, 7.0, 1.0, 13.0, 66.0]}], {\"xaxis\": {\"title\": \"country\"}, \"title\": \"country vs commits\", \"yaxis\": {\"title\": \"commits\", \"range\": [\"0\", \"100\"]}}, {\"showLink\": true, \"linkText\": \"Export to plot.ly\"})});</script>"
      ],
      "text/vnd.plotly.v1+html": [
       "<div id=\"098ebc4f-6529-4769-b599-6a9e2e30ce23\" style=\"height: 525px; width: 100%;\" class=\"plotly-graph-div\"></div><script type=\"text/javascript\">require([\"plotly\"], function(Plotly) { window.PLOTLYENV=window.PLOTLYENV || {};window.PLOTLYENV.BASE_URL=\"https://plot.ly\";Plotly.newPlot(\"098ebc4f-6529-4769-b599-6a9e2e30ce23\", [{\"type\": \"box\", \"boxpoints\": false, \"name\": \"Non-employees commits\", \"y\": [1312, 427, 314, 66, 48, 38, 32, 27, 18, 16, 15, 14, 13, 13, 13, 12, 11, 10, 10, 10, 9, 8, 8, 7, 7, 7, 7, 6, 6, 6, 6, 6, 6, 5, 5, 5, 5, 5, 5, 5, 5, 5, 4, 4, 4, 4, 4, 4, 4, 4, 4, 4, 4, 4, 4, 4, 3, 3, 3, 3, 3, 3, 3, 3, 3, 3, 3, 3, 3, 3, 3, 3, 3, 3, 3, 3, 2, 2, 2, 2, 2, 2, 2, 2, 2, 2, 2, 2, 2, 2, 2, 2, 2, 2, 2, 2, 2, 2, 2, 2, 2, 2, 2, 2, 2, 2, 2, 2, 2, 2, 2, 2, 1, 1, 1, 1, 1, 1, 1, 1, 1, 1, 1, 1, 1, 1, 1, 1, 1, 1, 1, 1, 1, 1, 1, 1, 1, 1, 1, 1, 1, 1, 1, 1, 1, 1, 1, 1, 1, 1, 1, 1, 1, 1, 1, 1, 1, 1, 1, 1, 1, 1, 1, 1, 1, 1, 1, 1, 1, 1, 1, 1, 1, 1, 1, 1, 1, 1, 1, 1, 1, 1, 1, 1, 1, 1, 1, 1, 1, 1, 1, 1, 1, 1, 1, 1, 1, 1, 1, 1, 1, 1, 1, 1, 1, 1, 1, 1, 1, 1, 1, 1, 1, 1, 1, 1, 1, 1, 1, 1, 1]}, {\"type\": \"box\", \"boxpoints\": false, \"name\": \"Survey commits\", \"y\": [5.0, 0.0, 3.0, 0.0, 0.0, 7.0, 1.0, 13.0, 66.0]}], {\"xaxis\": {\"title\": \"country\"}, \"title\": \"country vs commits\", \"yaxis\": {\"title\": \"commits\", \"range\": [\"0\", \"100\"]}}, {\"showLink\": true, \"linkText\": \"Export to plot.ly\"})});</script>"
      ]
     },
     "metadata": {},
     "output_type": "display_data"
    },
    {
     "data": {
      "application/vnd.plotly.v1+json": {
       "data": [
        {
         "boxpoints": "all",
         "jitter": 0.5,
         "marker": {
          "size": 2
         },
         "name": "Italy(1)",
         "type": "box",
         "y": [
          3
         ]
        },
        {
         "boxpoints": "all",
         "jitter": 0.5,
         "marker": {
          "size": 2
         },
         "name": "India(1)",
         "type": "box",
         "y": [
          0
         ]
        },
        {
         "boxpoints": "all",
         "jitter": 0.5,
         "marker": {
          "size": 2
         },
         "name": "United States(1)",
         "type": "box",
         "y": [
          4
         ]
        },
        {
         "boxpoints": "all",
         "jitter": 0.5,
         "marker": {
          "size": 2
         },
         "name": "Serbia(1)",
         "type": "box",
         "y": [
          0
         ]
        },
        {
         "boxpoints": "all",
         "jitter": 0.5,
         "marker": {
          "size": 2
         },
         "name": "Mexico(1)",
         "type": "box",
         "y": [
          1
         ]
        },
        {
         "boxpoints": "all",
         "jitter": 0.5,
         "marker": {
          "size": 2
         },
         "name": "Germany(2)",
         "type": "box",
         "y": [
          9,
          1
         ]
        },
        {
         "boxpoints": "all",
         "jitter": 0.5,
         "marker": {
          "size": 2
         },
         "name": "Canada(1)",
         "type": "box",
         "y": [
          13
         ]
        },
        {
         "boxpoints": "all",
         "jitter": 0.5,
         "marker": {
          "size": 2
         },
         "name": "France(1)",
         "type": "box",
         "y": [
          54
         ]
        }
       ],
       "layout": {
        "title": "country vs pull requests",
        "xaxis": {
         "title": "country"
        },
        "yaxis": {
         "title": "pull requests"
        }
       }
      },
      "text/html": [
       "<div id=\"7364232f-0a67-4940-b51e-656651212e6d\" style=\"height: 525px; width: 100%;\" class=\"plotly-graph-div\"></div><script type=\"text/javascript\">require([\"plotly\"], function(Plotly) { window.PLOTLYENV=window.PLOTLYENV || {};window.PLOTLYENV.BASE_URL=\"https://plot.ly\";Plotly.newPlot(\"7364232f-0a67-4940-b51e-656651212e6d\", [{\"type\": \"box\", \"boxpoints\": \"all\", \"name\": \"Italy(1)\", \"marker\": {\"size\": 2}, \"y\": [3.0], \"jitter\": 0.5}, {\"type\": \"box\", \"boxpoints\": \"all\", \"name\": \"India(1)\", \"marker\": {\"size\": 2}, \"y\": [0.0], \"jitter\": 0.5}, {\"type\": \"box\", \"boxpoints\": \"all\", \"name\": \"United States(1)\", \"marker\": {\"size\": 2}, \"y\": [4.0], \"jitter\": 0.5}, {\"type\": \"box\", \"boxpoints\": \"all\", \"name\": \"Serbia(1)\", \"marker\": {\"size\": 2}, \"y\": [0.0], \"jitter\": 0.5}, {\"type\": \"box\", \"boxpoints\": \"all\", \"name\": \"Mexico(1)\", \"marker\": {\"size\": 2}, \"y\": [1.0], \"jitter\": 0.5}, {\"type\": \"box\", \"boxpoints\": \"all\", \"name\": \"Germany(2)\", \"marker\": {\"size\": 2}, \"y\": [9.0, 1.0], \"jitter\": 0.5}, {\"type\": \"box\", \"boxpoints\": \"all\", \"name\": \"Canada(1)\", \"marker\": {\"size\": 2}, \"y\": [13.0], \"jitter\": 0.5}, {\"type\": \"box\", \"boxpoints\": \"all\", \"name\": \"France(1)\", \"marker\": {\"size\": 2}, \"y\": [54.0], \"jitter\": 0.5}], {\"xaxis\": {\"title\": \"country\"}, \"title\": \"country vs pull requests\", \"yaxis\": {\"title\": \"pull requests\"}}, {\"showLink\": true, \"linkText\": \"Export to plot.ly\"})});</script>"
      ],
      "text/vnd.plotly.v1+html": [
       "<div id=\"7364232f-0a67-4940-b51e-656651212e6d\" style=\"height: 525px; width: 100%;\" class=\"plotly-graph-div\"></div><script type=\"text/javascript\">require([\"plotly\"], function(Plotly) { window.PLOTLYENV=window.PLOTLYENV || {};window.PLOTLYENV.BASE_URL=\"https://plot.ly\";Plotly.newPlot(\"7364232f-0a67-4940-b51e-656651212e6d\", [{\"type\": \"box\", \"boxpoints\": \"all\", \"name\": \"Italy(1)\", \"marker\": {\"size\": 2}, \"y\": [3.0], \"jitter\": 0.5}, {\"type\": \"box\", \"boxpoints\": \"all\", \"name\": \"India(1)\", \"marker\": {\"size\": 2}, \"y\": [0.0], \"jitter\": 0.5}, {\"type\": \"box\", \"boxpoints\": \"all\", \"name\": \"United States(1)\", \"marker\": {\"size\": 2}, \"y\": [4.0], \"jitter\": 0.5}, {\"type\": \"box\", \"boxpoints\": \"all\", \"name\": \"Serbia(1)\", \"marker\": {\"size\": 2}, \"y\": [0.0], \"jitter\": 0.5}, {\"type\": \"box\", \"boxpoints\": \"all\", \"name\": \"Mexico(1)\", \"marker\": {\"size\": 2}, \"y\": [1.0], \"jitter\": 0.5}, {\"type\": \"box\", \"boxpoints\": \"all\", \"name\": \"Germany(2)\", \"marker\": {\"size\": 2}, \"y\": [9.0, 1.0], \"jitter\": 0.5}, {\"type\": \"box\", \"boxpoints\": \"all\", \"name\": \"Canada(1)\", \"marker\": {\"size\": 2}, \"y\": [13.0], \"jitter\": 0.5}, {\"type\": \"box\", \"boxpoints\": \"all\", \"name\": \"France(1)\", \"marker\": {\"size\": 2}, \"y\": [54.0], \"jitter\": 0.5}], {\"xaxis\": {\"title\": \"country\"}, \"title\": \"country vs pull requests\", \"yaxis\": {\"title\": \"pull requests\"}}, {\"showLink\": true, \"linkText\": \"Export to plot.ly\"})});</script>"
      ]
     },
     "metadata": {},
     "output_type": "display_data"
    },
    {
     "data": {
      "application/vnd.plotly.v1+json": {
       "data": [
        {
         "labels": [
          "Italy",
          "India",
          "United States",
          "Serbia",
          "Mexico",
          "Germany",
          "Canada",
          "France"
         ],
         "type": "pie",
         "values": [
          1,
          1,
          1,
          1,
          1,
          2,
          1,
          1
         ]
        }
       ],
       "layout": {
        "title": "Population Distribution of country"
       }
      },
      "text/html": [
       "<div id=\"dd20851a-4195-40dd-9a2c-535675a04fd5\" style=\"height: 525px; width: 100%;\" class=\"plotly-graph-div\"></div><script type=\"text/javascript\">require([\"plotly\"], function(Plotly) { window.PLOTLYENV=window.PLOTLYENV || {};window.PLOTLYENV.BASE_URL=\"https://plot.ly\";Plotly.newPlot(\"dd20851a-4195-40dd-9a2c-535675a04fd5\", [{\"type\": \"pie\", \"values\": [1, 1, 1, 1, 1, 2, 1, 1], \"labels\": [\"Italy\", \"India\", \"United States\", \"Serbia\", \"Mexico\", \"Germany\", \"Canada\", \"France\"]}], {\"title\": \"Population Distribution of country\"}, {\"showLink\": true, \"linkText\": \"Export to plot.ly\"})});</script>"
      ],
      "text/vnd.plotly.v1+html": [
       "<div id=\"dd20851a-4195-40dd-9a2c-535675a04fd5\" style=\"height: 525px; width: 100%;\" class=\"plotly-graph-div\"></div><script type=\"text/javascript\">require([\"plotly\"], function(Plotly) { window.PLOTLYENV=window.PLOTLYENV || {};window.PLOTLYENV.BASE_URL=\"https://plot.ly\";Plotly.newPlot(\"dd20851a-4195-40dd-9a2c-535675a04fd5\", [{\"type\": \"pie\", \"values\": [1, 1, 1, 1, 1, 2, 1, 1], \"labels\": [\"Italy\", \"India\", \"United States\", \"Serbia\", \"Mexico\", \"Germany\", \"Canada\", \"France\"]}], {\"title\": \"Population Distribution of country\"}, {\"showLink\": true, \"linkText\": \"Export to plot.ly\"})});</script>"
      ]
     },
     "metadata": {},
     "output_type": "display_data"
    },
    {
     "data": {
      "application/vnd.plotly.v1+json": {
       "data": [
        {
         "boxpoints": false,
         "name": "Non-employees pull requests",
         "type": "box",
         "y": [
          1312,
          427,
          314,
          66,
          48,
          38,
          32,
          27,
          18,
          16,
          15,
          14,
          13,
          13,
          13,
          12,
          11,
          10,
          10,
          10,
          9,
          8,
          8,
          7,
          7,
          7,
          7,
          6,
          6,
          6,
          6,
          6,
          6,
          5,
          5,
          5,
          5,
          5,
          5,
          5,
          5,
          5,
          4,
          4,
          4,
          4,
          4,
          4,
          4,
          4,
          4,
          4,
          4,
          4,
          4,
          4,
          3,
          3,
          3,
          3,
          3,
          3,
          3,
          3,
          3,
          3,
          3,
          3,
          3,
          3,
          3,
          3,
          3,
          3,
          3,
          3,
          2,
          2,
          2,
          2,
          2,
          2,
          2,
          2,
          2,
          2,
          2,
          2,
          2,
          2,
          2,
          2,
          2,
          2,
          2,
          2,
          2,
          2,
          2,
          2,
          2,
          2,
          2,
          2,
          2,
          2,
          2,
          2,
          2,
          2,
          2,
          2,
          1,
          1,
          1,
          1,
          1,
          1,
          1,
          1,
          1,
          1,
          1,
          1,
          1,
          1,
          1,
          1,
          1,
          1,
          1,
          1,
          1,
          1,
          1,
          1,
          1,
          1,
          1,
          1,
          1,
          1,
          1,
          1,
          1,
          1,
          1,
          1,
          1,
          1,
          1,
          1,
          1,
          1,
          1,
          1,
          1,
          1,
          1,
          1,
          1,
          1,
          1,
          1,
          1,
          1,
          1,
          1,
          1,
          1,
          1,
          1,
          1,
          1,
          1,
          1,
          1,
          1,
          1,
          1,
          1,
          1,
          1,
          1,
          1,
          1,
          1,
          1,
          1,
          1,
          1,
          1,
          1,
          1,
          1,
          1,
          1,
          1,
          1,
          1,
          1,
          1,
          1,
          1,
          1,
          1,
          1,
          1,
          1,
          1,
          1,
          1,
          1,
          1,
          1,
          1,
          1,
          1,
          1,
          1,
          1
         ]
        },
        {
         "boxpoints": false,
         "name": "Survey pull requests",
         "type": "box",
         "y": [
          3,
          0,
          4,
          0,
          1,
          9,
          1,
          13,
          54
         ]
        }
       ],
       "layout": {
        "title": "country vs pull requests",
        "xaxis": {
         "title": "country"
        },
        "yaxis": {
         "range": [
          "0",
          "100"
         ],
         "title": "pull requests"
        }
       }
      },
      "text/html": [
       "<div id=\"06edb3b2-4e21-4134-81bb-beb9e43b146b\" style=\"height: 525px; width: 100%;\" class=\"plotly-graph-div\"></div><script type=\"text/javascript\">require([\"plotly\"], function(Plotly) { window.PLOTLYENV=window.PLOTLYENV || {};window.PLOTLYENV.BASE_URL=\"https://plot.ly\";Plotly.newPlot(\"06edb3b2-4e21-4134-81bb-beb9e43b146b\", [{\"type\": \"box\", \"boxpoints\": false, \"name\": \"Non-employees pull requests\", \"y\": [1312, 427, 314, 66, 48, 38, 32, 27, 18, 16, 15, 14, 13, 13, 13, 12, 11, 10, 10, 10, 9, 8, 8, 7, 7, 7, 7, 6, 6, 6, 6, 6, 6, 5, 5, 5, 5, 5, 5, 5, 5, 5, 4, 4, 4, 4, 4, 4, 4, 4, 4, 4, 4, 4, 4, 4, 3, 3, 3, 3, 3, 3, 3, 3, 3, 3, 3, 3, 3, 3, 3, 3, 3, 3, 3, 3, 2, 2, 2, 2, 2, 2, 2, 2, 2, 2, 2, 2, 2, 2, 2, 2, 2, 2, 2, 2, 2, 2, 2, 2, 2, 2, 2, 2, 2, 2, 2, 2, 2, 2, 2, 2, 1, 1, 1, 1, 1, 1, 1, 1, 1, 1, 1, 1, 1, 1, 1, 1, 1, 1, 1, 1, 1, 1, 1, 1, 1, 1, 1, 1, 1, 1, 1, 1, 1, 1, 1, 1, 1, 1, 1, 1, 1, 1, 1, 1, 1, 1, 1, 1, 1, 1, 1, 1, 1, 1, 1, 1, 1, 1, 1, 1, 1, 1, 1, 1, 1, 1, 1, 1, 1, 1, 1, 1, 1, 1, 1, 1, 1, 1, 1, 1, 1, 1, 1, 1, 1, 1, 1, 1, 1, 1, 1, 1, 1, 1, 1, 1, 1, 1, 1, 1, 1, 1, 1, 1, 1, 1, 1, 1, 1]}, {\"type\": \"box\", \"boxpoints\": false, \"name\": \"Survey pull requests\", \"y\": [3.0, 0.0, 4.0, 0.0, 1.0, 9.0, 1.0, 13.0, 54.0]}], {\"xaxis\": {\"title\": \"country\"}, \"title\": \"country vs pull requests\", \"yaxis\": {\"title\": \"pull requests\", \"range\": [\"0\", \"100\"]}}, {\"showLink\": true, \"linkText\": \"Export to plot.ly\"})});</script>"
      ],
      "text/vnd.plotly.v1+html": [
       "<div id=\"06edb3b2-4e21-4134-81bb-beb9e43b146b\" style=\"height: 525px; width: 100%;\" class=\"plotly-graph-div\"></div><script type=\"text/javascript\">require([\"plotly\"], function(Plotly) { window.PLOTLYENV=window.PLOTLYENV || {};window.PLOTLYENV.BASE_URL=\"https://plot.ly\";Plotly.newPlot(\"06edb3b2-4e21-4134-81bb-beb9e43b146b\", [{\"type\": \"box\", \"boxpoints\": false, \"name\": \"Non-employees pull requests\", \"y\": [1312, 427, 314, 66, 48, 38, 32, 27, 18, 16, 15, 14, 13, 13, 13, 12, 11, 10, 10, 10, 9, 8, 8, 7, 7, 7, 7, 6, 6, 6, 6, 6, 6, 5, 5, 5, 5, 5, 5, 5, 5, 5, 4, 4, 4, 4, 4, 4, 4, 4, 4, 4, 4, 4, 4, 4, 3, 3, 3, 3, 3, 3, 3, 3, 3, 3, 3, 3, 3, 3, 3, 3, 3, 3, 3, 3, 2, 2, 2, 2, 2, 2, 2, 2, 2, 2, 2, 2, 2, 2, 2, 2, 2, 2, 2, 2, 2, 2, 2, 2, 2, 2, 2, 2, 2, 2, 2, 2, 2, 2, 2, 2, 1, 1, 1, 1, 1, 1, 1, 1, 1, 1, 1, 1, 1, 1, 1, 1, 1, 1, 1, 1, 1, 1, 1, 1, 1, 1, 1, 1, 1, 1, 1, 1, 1, 1, 1, 1, 1, 1, 1, 1, 1, 1, 1, 1, 1, 1, 1, 1, 1, 1, 1, 1, 1, 1, 1, 1, 1, 1, 1, 1, 1, 1, 1, 1, 1, 1, 1, 1, 1, 1, 1, 1, 1, 1, 1, 1, 1, 1, 1, 1, 1, 1, 1, 1, 1, 1, 1, 1, 1, 1, 1, 1, 1, 1, 1, 1, 1, 1, 1, 1, 1, 1, 1, 1, 1, 1, 1, 1, 1]}, {\"type\": \"box\", \"boxpoints\": false, \"name\": \"Survey pull requests\", \"y\": [3.0, 0.0, 4.0, 0.0, 1.0, 9.0, 1.0, 13.0, 54.0]}], {\"xaxis\": {\"title\": \"country\"}, \"title\": \"country vs pull requests\", \"yaxis\": {\"title\": \"pull requests\", \"range\": [\"0\", \"100\"]}}, {\"showLink\": true, \"linkText\": \"Export to plot.ly\"})});</script>"
      ]
     },
     "metadata": {},
     "output_type": "display_data"
    },
    {
     "data": {
      "application/vnd.plotly.v1+json": {
       "data": [
        {
         "boxpoints": "all",
         "jitter": 0.5,
         "marker": {
          "size": 2
         },
         "name": "Italy(1)",
         "type": "box",
         "y": [
          0
         ]
        },
        {
         "boxpoints": "all",
         "jitter": 0.5,
         "marker": {
          "size": 2
         },
         "name": "India(1)",
         "type": "box",
         "y": [
          5
         ]
        },
        {
         "boxpoints": "all",
         "jitter": 0.5,
         "marker": {
          "size": 2
         },
         "name": "United States(1)",
         "type": "box",
         "y": [
          4
         ]
        },
        {
         "boxpoints": "all",
         "jitter": 0.5,
         "marker": {
          "size": 2
         },
         "name": "Serbia(1)",
         "type": "box",
         "y": [
          0
         ]
        },
        {
         "boxpoints": "all",
         "jitter": 0.5,
         "marker": {
          "size": 2
         },
         "name": "Mexico(1)",
         "type": "box",
         "y": [
          0
         ]
        },
        {
         "boxpoints": "all",
         "jitter": 0.5,
         "marker": {
          "size": 2
         },
         "name": "Germany(2)",
         "type": "box",
         "y": [
          13,
          0
         ]
        },
        {
         "boxpoints": "all",
         "jitter": 0.5,
         "marker": {
          "size": 2
         },
         "name": "Canada(1)",
         "type": "box",
         "y": [
          6
         ]
        },
        {
         "boxpoints": "all",
         "jitter": 0.5,
         "marker": {
          "size": 2
         },
         "name": "France(1)",
         "type": "box",
         "y": [
          38
         ]
        }
       ],
       "layout": {
        "title": "country vs issues",
        "xaxis": {
         "title": "country"
        },
        "yaxis": {
         "title": "issues"
        }
       }
      },
      "text/html": [
       "<div id=\"c845e78e-a2f2-4d50-93fe-e76a4db78055\" style=\"height: 525px; width: 100%;\" class=\"plotly-graph-div\"></div><script type=\"text/javascript\">require([\"plotly\"], function(Plotly) { window.PLOTLYENV=window.PLOTLYENV || {};window.PLOTLYENV.BASE_URL=\"https://plot.ly\";Plotly.newPlot(\"c845e78e-a2f2-4d50-93fe-e76a4db78055\", [{\"type\": \"box\", \"boxpoints\": \"all\", \"name\": \"Italy(1)\", \"marker\": {\"size\": 2}, \"y\": [0.0], \"jitter\": 0.5}, {\"type\": \"box\", \"boxpoints\": \"all\", \"name\": \"India(1)\", \"marker\": {\"size\": 2}, \"y\": [5.0], \"jitter\": 0.5}, {\"type\": \"box\", \"boxpoints\": \"all\", \"name\": \"United States(1)\", \"marker\": {\"size\": 2}, \"y\": [4.0], \"jitter\": 0.5}, {\"type\": \"box\", \"boxpoints\": \"all\", \"name\": \"Serbia(1)\", \"marker\": {\"size\": 2}, \"y\": [0.0], \"jitter\": 0.5}, {\"type\": \"box\", \"boxpoints\": \"all\", \"name\": \"Mexico(1)\", \"marker\": {\"size\": 2}, \"y\": [0.0], \"jitter\": 0.5}, {\"type\": \"box\", \"boxpoints\": \"all\", \"name\": \"Germany(2)\", \"marker\": {\"size\": 2}, \"y\": [13.0, 0.0], \"jitter\": 0.5}, {\"type\": \"box\", \"boxpoints\": \"all\", \"name\": \"Canada(1)\", \"marker\": {\"size\": 2}, \"y\": [6.0], \"jitter\": 0.5}, {\"type\": \"box\", \"boxpoints\": \"all\", \"name\": \"France(1)\", \"marker\": {\"size\": 2}, \"y\": [38.0], \"jitter\": 0.5}], {\"xaxis\": {\"title\": \"country\"}, \"title\": \"country vs issues\", \"yaxis\": {\"title\": \"issues\"}}, {\"showLink\": true, \"linkText\": \"Export to plot.ly\"})});</script>"
      ],
      "text/vnd.plotly.v1+html": [
       "<div id=\"c845e78e-a2f2-4d50-93fe-e76a4db78055\" style=\"height: 525px; width: 100%;\" class=\"plotly-graph-div\"></div><script type=\"text/javascript\">require([\"plotly\"], function(Plotly) { window.PLOTLYENV=window.PLOTLYENV || {};window.PLOTLYENV.BASE_URL=\"https://plot.ly\";Plotly.newPlot(\"c845e78e-a2f2-4d50-93fe-e76a4db78055\", [{\"type\": \"box\", \"boxpoints\": \"all\", \"name\": \"Italy(1)\", \"marker\": {\"size\": 2}, \"y\": [0.0], \"jitter\": 0.5}, {\"type\": \"box\", \"boxpoints\": \"all\", \"name\": \"India(1)\", \"marker\": {\"size\": 2}, \"y\": [5.0], \"jitter\": 0.5}, {\"type\": \"box\", \"boxpoints\": \"all\", \"name\": \"United States(1)\", \"marker\": {\"size\": 2}, \"y\": [4.0], \"jitter\": 0.5}, {\"type\": \"box\", \"boxpoints\": \"all\", \"name\": \"Serbia(1)\", \"marker\": {\"size\": 2}, \"y\": [0.0], \"jitter\": 0.5}, {\"type\": \"box\", \"boxpoints\": \"all\", \"name\": \"Mexico(1)\", \"marker\": {\"size\": 2}, \"y\": [0.0], \"jitter\": 0.5}, {\"type\": \"box\", \"boxpoints\": \"all\", \"name\": \"Germany(2)\", \"marker\": {\"size\": 2}, \"y\": [13.0, 0.0], \"jitter\": 0.5}, {\"type\": \"box\", \"boxpoints\": \"all\", \"name\": \"Canada(1)\", \"marker\": {\"size\": 2}, \"y\": [6.0], \"jitter\": 0.5}, {\"type\": \"box\", \"boxpoints\": \"all\", \"name\": \"France(1)\", \"marker\": {\"size\": 2}, \"y\": [38.0], \"jitter\": 0.5}], {\"xaxis\": {\"title\": \"country\"}, \"title\": \"country vs issues\", \"yaxis\": {\"title\": \"issues\"}}, {\"showLink\": true, \"linkText\": \"Export to plot.ly\"})});</script>"
      ]
     },
     "metadata": {},
     "output_type": "display_data"
    },
    {
     "data": {
      "application/vnd.plotly.v1+json": {
       "data": [
        {
         "labels": [
          "Italy",
          "India",
          "United States",
          "Serbia",
          "Mexico",
          "Germany",
          "Canada",
          "France"
         ],
         "type": "pie",
         "values": [
          1,
          1,
          1,
          1,
          1,
          2,
          1,
          1
         ]
        }
       ],
       "layout": {
        "title": "Population Distribution of country"
       }
      },
      "text/html": [
       "<div id=\"ff5c1cc5-c17c-4bba-b7ec-a2f76bb65d64\" style=\"height: 525px; width: 100%;\" class=\"plotly-graph-div\"></div><script type=\"text/javascript\">require([\"plotly\"], function(Plotly) { window.PLOTLYENV=window.PLOTLYENV || {};window.PLOTLYENV.BASE_URL=\"https://plot.ly\";Plotly.newPlot(\"ff5c1cc5-c17c-4bba-b7ec-a2f76bb65d64\", [{\"type\": \"pie\", \"values\": [1, 1, 1, 1, 1, 2, 1, 1], \"labels\": [\"Italy\", \"India\", \"United States\", \"Serbia\", \"Mexico\", \"Germany\", \"Canada\", \"France\"]}], {\"title\": \"Population Distribution of country\"}, {\"showLink\": true, \"linkText\": \"Export to plot.ly\"})});</script>"
      ],
      "text/vnd.plotly.v1+html": [
       "<div id=\"ff5c1cc5-c17c-4bba-b7ec-a2f76bb65d64\" style=\"height: 525px; width: 100%;\" class=\"plotly-graph-div\"></div><script type=\"text/javascript\">require([\"plotly\"], function(Plotly) { window.PLOTLYENV=window.PLOTLYENV || {};window.PLOTLYENV.BASE_URL=\"https://plot.ly\";Plotly.newPlot(\"ff5c1cc5-c17c-4bba-b7ec-a2f76bb65d64\", [{\"type\": \"pie\", \"values\": [1, 1, 1, 1, 1, 2, 1, 1], \"labels\": [\"Italy\", \"India\", \"United States\", \"Serbia\", \"Mexico\", \"Germany\", \"Canada\", \"France\"]}], {\"title\": \"Population Distribution of country\"}, {\"showLink\": true, \"linkText\": \"Export to plot.ly\"})});</script>"
      ]
     },
     "metadata": {},
     "output_type": "display_data"
    },
    {
     "data": {
      "application/vnd.plotly.v1+json": {
       "data": [
        {
         "boxpoints": false,
         "name": "Non-employees issues",
         "type": "box",
         "y": [
          1312,
          427,
          314,
          66,
          48,
          38,
          32,
          27,
          18,
          16,
          15,
          14,
          13,
          13,
          13,
          12,
          11,
          10,
          10,
          10,
          9,
          8,
          8,
          7,
          7,
          7,
          7,
          6,
          6,
          6,
          6,
          6,
          6,
          5,
          5,
          5,
          5,
          5,
          5,
          5,
          5,
          5,
          4,
          4,
          4,
          4,
          4,
          4,
          4,
          4,
          4,
          4,
          4,
          4,
          4,
          4,
          3,
          3,
          3,
          3,
          3,
          3,
          3,
          3,
          3,
          3,
          3,
          3,
          3,
          3,
          3,
          3,
          3,
          3,
          3,
          3,
          2,
          2,
          2,
          2,
          2,
          2,
          2,
          2,
          2,
          2,
          2,
          2,
          2,
          2,
          2,
          2,
          2,
          2,
          2,
          2,
          2,
          2,
          2,
          2,
          2,
          2,
          2,
          2,
          2,
          2,
          2,
          2,
          2,
          2,
          2,
          2,
          1,
          1,
          1,
          1,
          1,
          1,
          1,
          1,
          1,
          1,
          1,
          1,
          1,
          1,
          1,
          1,
          1,
          1,
          1,
          1,
          1,
          1,
          1,
          1,
          1,
          1,
          1,
          1,
          1,
          1,
          1,
          1,
          1,
          1,
          1,
          1,
          1,
          1,
          1,
          1,
          1,
          1,
          1,
          1,
          1,
          1,
          1,
          1,
          1,
          1,
          1,
          1,
          1,
          1,
          1,
          1,
          1,
          1,
          1,
          1,
          1,
          1,
          1,
          1,
          1,
          1,
          1,
          1,
          1,
          1,
          1,
          1,
          1,
          1,
          1,
          1,
          1,
          1,
          1,
          1,
          1,
          1,
          1,
          1,
          1,
          1,
          1,
          1,
          1,
          1,
          1,
          1,
          1,
          1,
          1,
          1,
          1,
          1,
          1,
          1,
          1,
          1,
          1,
          1,
          1,
          1,
          1,
          1,
          1
         ]
        },
        {
         "boxpoints": false,
         "name": "Survey issues",
         "type": "box",
         "y": [
          0,
          5,
          4,
          0,
          0,
          13,
          0,
          6,
          38
         ]
        }
       ],
       "layout": {
        "title": "country vs issues",
        "xaxis": {
         "title": "country"
        },
        "yaxis": {
         "range": [
          "0",
          "100"
         ],
         "title": "issues"
        }
       }
      },
      "text/html": [
       "<div id=\"849f57e2-62e1-40c1-9227-0a447ad823b4\" style=\"height: 525px; width: 100%;\" class=\"plotly-graph-div\"></div><script type=\"text/javascript\">require([\"plotly\"], function(Plotly) { window.PLOTLYENV=window.PLOTLYENV || {};window.PLOTLYENV.BASE_URL=\"https://plot.ly\";Plotly.newPlot(\"849f57e2-62e1-40c1-9227-0a447ad823b4\", [{\"type\": \"box\", \"boxpoints\": false, \"name\": \"Non-employees issues\", \"y\": [1312, 427, 314, 66, 48, 38, 32, 27, 18, 16, 15, 14, 13, 13, 13, 12, 11, 10, 10, 10, 9, 8, 8, 7, 7, 7, 7, 6, 6, 6, 6, 6, 6, 5, 5, 5, 5, 5, 5, 5, 5, 5, 4, 4, 4, 4, 4, 4, 4, 4, 4, 4, 4, 4, 4, 4, 3, 3, 3, 3, 3, 3, 3, 3, 3, 3, 3, 3, 3, 3, 3, 3, 3, 3, 3, 3, 2, 2, 2, 2, 2, 2, 2, 2, 2, 2, 2, 2, 2, 2, 2, 2, 2, 2, 2, 2, 2, 2, 2, 2, 2, 2, 2, 2, 2, 2, 2, 2, 2, 2, 2, 2, 1, 1, 1, 1, 1, 1, 1, 1, 1, 1, 1, 1, 1, 1, 1, 1, 1, 1, 1, 1, 1, 1, 1, 1, 1, 1, 1, 1, 1, 1, 1, 1, 1, 1, 1, 1, 1, 1, 1, 1, 1, 1, 1, 1, 1, 1, 1, 1, 1, 1, 1, 1, 1, 1, 1, 1, 1, 1, 1, 1, 1, 1, 1, 1, 1, 1, 1, 1, 1, 1, 1, 1, 1, 1, 1, 1, 1, 1, 1, 1, 1, 1, 1, 1, 1, 1, 1, 1, 1, 1, 1, 1, 1, 1, 1, 1, 1, 1, 1, 1, 1, 1, 1, 1, 1, 1, 1, 1, 1]}, {\"type\": \"box\", \"boxpoints\": false, \"name\": \"Survey issues\", \"y\": [0.0, 5.0, 4.0, 0.0, 0.0, 13.0, 0.0, 6.0, 38.0]}], {\"xaxis\": {\"title\": \"country\"}, \"title\": \"country vs issues\", \"yaxis\": {\"title\": \"issues\", \"range\": [\"0\", \"100\"]}}, {\"showLink\": true, \"linkText\": \"Export to plot.ly\"})});</script>"
      ],
      "text/vnd.plotly.v1+html": [
       "<div id=\"849f57e2-62e1-40c1-9227-0a447ad823b4\" style=\"height: 525px; width: 100%;\" class=\"plotly-graph-div\"></div><script type=\"text/javascript\">require([\"plotly\"], function(Plotly) { window.PLOTLYENV=window.PLOTLYENV || {};window.PLOTLYENV.BASE_URL=\"https://plot.ly\";Plotly.newPlot(\"849f57e2-62e1-40c1-9227-0a447ad823b4\", [{\"type\": \"box\", \"boxpoints\": false, \"name\": \"Non-employees issues\", \"y\": [1312, 427, 314, 66, 48, 38, 32, 27, 18, 16, 15, 14, 13, 13, 13, 12, 11, 10, 10, 10, 9, 8, 8, 7, 7, 7, 7, 6, 6, 6, 6, 6, 6, 5, 5, 5, 5, 5, 5, 5, 5, 5, 4, 4, 4, 4, 4, 4, 4, 4, 4, 4, 4, 4, 4, 4, 3, 3, 3, 3, 3, 3, 3, 3, 3, 3, 3, 3, 3, 3, 3, 3, 3, 3, 3, 3, 2, 2, 2, 2, 2, 2, 2, 2, 2, 2, 2, 2, 2, 2, 2, 2, 2, 2, 2, 2, 2, 2, 2, 2, 2, 2, 2, 2, 2, 2, 2, 2, 2, 2, 2, 2, 1, 1, 1, 1, 1, 1, 1, 1, 1, 1, 1, 1, 1, 1, 1, 1, 1, 1, 1, 1, 1, 1, 1, 1, 1, 1, 1, 1, 1, 1, 1, 1, 1, 1, 1, 1, 1, 1, 1, 1, 1, 1, 1, 1, 1, 1, 1, 1, 1, 1, 1, 1, 1, 1, 1, 1, 1, 1, 1, 1, 1, 1, 1, 1, 1, 1, 1, 1, 1, 1, 1, 1, 1, 1, 1, 1, 1, 1, 1, 1, 1, 1, 1, 1, 1, 1, 1, 1, 1, 1, 1, 1, 1, 1, 1, 1, 1, 1, 1, 1, 1, 1, 1, 1, 1, 1, 1, 1, 1]}, {\"type\": \"box\", \"boxpoints\": false, \"name\": \"Survey issues\", \"y\": [0.0, 5.0, 4.0, 0.0, 0.0, 13.0, 0.0, 6.0, 38.0]}], {\"xaxis\": {\"title\": \"country\"}, \"title\": \"country vs issues\", \"yaxis\": {\"title\": \"issues\", \"range\": [\"0\", \"100\"]}}, {\"showLink\": true, \"linkText\": \"Export to plot.ly\"})});</script>"
      ]
     },
     "metadata": {},
     "output_type": "display_data"
    },
    {
     "data": {
      "application/vnd.plotly.v1+json": {
       "data": [
        {
         "boxpoints": "all",
         "jitter": 0.5,
         "marker": {
          "size": 2
         },
         "name": "Italy(1)",
         "type": "box",
         "y": [
          0
         ]
        },
        {
         "boxpoints": "all",
         "jitter": 0.5,
         "marker": {
          "size": 2
         },
         "name": "India(1)",
         "type": "box",
         "y": [
          0
         ]
        },
        {
         "boxpoints": "all",
         "jitter": 0.5,
         "marker": {
          "size": 2
         },
         "name": "United States(1)",
         "type": "box",
         "y": [
          0
         ]
        },
        {
         "boxpoints": "all",
         "jitter": 0.5,
         "marker": {
          "size": 2
         },
         "name": "Serbia(1)",
         "type": "box",
         "y": [
          0
         ]
        },
        {
         "boxpoints": "all",
         "jitter": 0.5,
         "marker": {
          "size": 2
         },
         "name": "Mexico(1)",
         "type": "box",
         "y": [
          0
         ]
        },
        {
         "boxpoints": "all",
         "jitter": 0.5,
         "marker": {
          "size": 2
         },
         "name": "Germany(2)",
         "type": "box",
         "y": [
          0,
          0
         ]
        },
        {
         "boxpoints": "all",
         "jitter": 0.5,
         "marker": {
          "size": 2
         },
         "name": "Canada(1)",
         "type": "box",
         "y": [
          0
         ]
        },
        {
         "boxpoints": "all",
         "jitter": 0.5,
         "marker": {
          "size": 2
         },
         "name": "France(1)",
         "type": "box",
         "y": [
          0
         ]
        }
       ],
       "layout": {
        "title": "country vs bugs",
        "xaxis": {
         "title": "country"
        },
        "yaxis": {
         "title": "bugs"
        }
       }
      },
      "text/html": [
       "<div id=\"e510df0f-4131-419e-ab3a-7b1df2e86d04\" style=\"height: 525px; width: 100%;\" class=\"plotly-graph-div\"></div><script type=\"text/javascript\">require([\"plotly\"], function(Plotly) { window.PLOTLYENV=window.PLOTLYENV || {};window.PLOTLYENV.BASE_URL=\"https://plot.ly\";Plotly.newPlot(\"e510df0f-4131-419e-ab3a-7b1df2e86d04\", [{\"type\": \"box\", \"boxpoints\": \"all\", \"name\": \"Italy(1)\", \"marker\": {\"size\": 2}, \"y\": [0.0], \"jitter\": 0.5}, {\"type\": \"box\", \"boxpoints\": \"all\", \"name\": \"India(1)\", \"marker\": {\"size\": 2}, \"y\": [0.0], \"jitter\": 0.5}, {\"type\": \"box\", \"boxpoints\": \"all\", \"name\": \"United States(1)\", \"marker\": {\"size\": 2}, \"y\": [0.0], \"jitter\": 0.5}, {\"type\": \"box\", \"boxpoints\": \"all\", \"name\": \"Serbia(1)\", \"marker\": {\"size\": 2}, \"y\": [0.0], \"jitter\": 0.5}, {\"type\": \"box\", \"boxpoints\": \"all\", \"name\": \"Mexico(1)\", \"marker\": {\"size\": 2}, \"y\": [0.0], \"jitter\": 0.5}, {\"type\": \"box\", \"boxpoints\": \"all\", \"name\": \"Germany(2)\", \"marker\": {\"size\": 2}, \"y\": [0.0, 0.0], \"jitter\": 0.5}, {\"type\": \"box\", \"boxpoints\": \"all\", \"name\": \"Canada(1)\", \"marker\": {\"size\": 2}, \"y\": [0.0], \"jitter\": 0.5}, {\"type\": \"box\", \"boxpoints\": \"all\", \"name\": \"France(1)\", \"marker\": {\"size\": 2}, \"y\": [0.0], \"jitter\": 0.5}], {\"xaxis\": {\"title\": \"country\"}, \"title\": \"country vs bugs\", \"yaxis\": {\"title\": \"bugs\"}}, {\"showLink\": true, \"linkText\": \"Export to plot.ly\"})});</script>"
      ],
      "text/vnd.plotly.v1+html": [
       "<div id=\"e510df0f-4131-419e-ab3a-7b1df2e86d04\" style=\"height: 525px; width: 100%;\" class=\"plotly-graph-div\"></div><script type=\"text/javascript\">require([\"plotly\"], function(Plotly) { window.PLOTLYENV=window.PLOTLYENV || {};window.PLOTLYENV.BASE_URL=\"https://plot.ly\";Plotly.newPlot(\"e510df0f-4131-419e-ab3a-7b1df2e86d04\", [{\"type\": \"box\", \"boxpoints\": \"all\", \"name\": \"Italy(1)\", \"marker\": {\"size\": 2}, \"y\": [0.0], \"jitter\": 0.5}, {\"type\": \"box\", \"boxpoints\": \"all\", \"name\": \"India(1)\", \"marker\": {\"size\": 2}, \"y\": [0.0], \"jitter\": 0.5}, {\"type\": \"box\", \"boxpoints\": \"all\", \"name\": \"United States(1)\", \"marker\": {\"size\": 2}, \"y\": [0.0], \"jitter\": 0.5}, {\"type\": \"box\", \"boxpoints\": \"all\", \"name\": \"Serbia(1)\", \"marker\": {\"size\": 2}, \"y\": [0.0], \"jitter\": 0.5}, {\"type\": \"box\", \"boxpoints\": \"all\", \"name\": \"Mexico(1)\", \"marker\": {\"size\": 2}, \"y\": [0.0], \"jitter\": 0.5}, {\"type\": \"box\", \"boxpoints\": \"all\", \"name\": \"Germany(2)\", \"marker\": {\"size\": 2}, \"y\": [0.0, 0.0], \"jitter\": 0.5}, {\"type\": \"box\", \"boxpoints\": \"all\", \"name\": \"Canada(1)\", \"marker\": {\"size\": 2}, \"y\": [0.0], \"jitter\": 0.5}, {\"type\": \"box\", \"boxpoints\": \"all\", \"name\": \"France(1)\", \"marker\": {\"size\": 2}, \"y\": [0.0], \"jitter\": 0.5}], {\"xaxis\": {\"title\": \"country\"}, \"title\": \"country vs bugs\", \"yaxis\": {\"title\": \"bugs\"}}, {\"showLink\": true, \"linkText\": \"Export to plot.ly\"})});</script>"
      ]
     },
     "metadata": {},
     "output_type": "display_data"
    },
    {
     "data": {
      "application/vnd.plotly.v1+json": {
       "data": [
        {
         "labels": [
          "Italy",
          "India",
          "United States",
          "Serbia",
          "Mexico",
          "Germany",
          "Canada",
          "France"
         ],
         "type": "pie",
         "values": [
          1,
          1,
          1,
          1,
          1,
          2,
          1,
          1
         ]
        }
       ],
       "layout": {
        "title": "Population Distribution of country"
       }
      },
      "text/html": [
       "<div id=\"edce981a-d7b6-45e9-9eef-97a1c1c42efd\" style=\"height: 525px; width: 100%;\" class=\"plotly-graph-div\"></div><script type=\"text/javascript\">require([\"plotly\"], function(Plotly) { window.PLOTLYENV=window.PLOTLYENV || {};window.PLOTLYENV.BASE_URL=\"https://plot.ly\";Plotly.newPlot(\"edce981a-d7b6-45e9-9eef-97a1c1c42efd\", [{\"type\": \"pie\", \"values\": [1, 1, 1, 1, 1, 2, 1, 1], \"labels\": [\"Italy\", \"India\", \"United States\", \"Serbia\", \"Mexico\", \"Germany\", \"Canada\", \"France\"]}], {\"title\": \"Population Distribution of country\"}, {\"showLink\": true, \"linkText\": \"Export to plot.ly\"})});</script>"
      ],
      "text/vnd.plotly.v1+html": [
       "<div id=\"edce981a-d7b6-45e9-9eef-97a1c1c42efd\" style=\"height: 525px; width: 100%;\" class=\"plotly-graph-div\"></div><script type=\"text/javascript\">require([\"plotly\"], function(Plotly) { window.PLOTLYENV=window.PLOTLYENV || {};window.PLOTLYENV.BASE_URL=\"https://plot.ly\";Plotly.newPlot(\"edce981a-d7b6-45e9-9eef-97a1c1c42efd\", [{\"type\": \"pie\", \"values\": [1, 1, 1, 1, 1, 2, 1, 1], \"labels\": [\"Italy\", \"India\", \"United States\", \"Serbia\", \"Mexico\", \"Germany\", \"Canada\", \"France\"]}], {\"title\": \"Population Distribution of country\"}, {\"showLink\": true, \"linkText\": \"Export to plot.ly\"})});</script>"
      ]
     },
     "metadata": {},
     "output_type": "display_data"
    },
    {
     "data": {
      "application/vnd.plotly.v1+json": {
       "data": [
        {
         "boxpoints": false,
         "name": "Non-employees bugs",
         "type": "box",
         "y": [
          1312,
          427,
          314,
          66,
          48,
          38,
          32,
          27,
          18,
          16,
          15,
          14,
          13,
          13,
          13,
          12,
          11,
          10,
          10,
          10,
          9,
          8,
          8,
          7,
          7,
          7,
          7,
          6,
          6,
          6,
          6,
          6,
          6,
          5,
          5,
          5,
          5,
          5,
          5,
          5,
          5,
          5,
          4,
          4,
          4,
          4,
          4,
          4,
          4,
          4,
          4,
          4,
          4,
          4,
          4,
          4,
          3,
          3,
          3,
          3,
          3,
          3,
          3,
          3,
          3,
          3,
          3,
          3,
          3,
          3,
          3,
          3,
          3,
          3,
          3,
          3,
          2,
          2,
          2,
          2,
          2,
          2,
          2,
          2,
          2,
          2,
          2,
          2,
          2,
          2,
          2,
          2,
          2,
          2,
          2,
          2,
          2,
          2,
          2,
          2,
          2,
          2,
          2,
          2,
          2,
          2,
          2,
          2,
          2,
          2,
          2,
          2,
          1,
          1,
          1,
          1,
          1,
          1,
          1,
          1,
          1,
          1,
          1,
          1,
          1,
          1,
          1,
          1,
          1,
          1,
          1,
          1,
          1,
          1,
          1,
          1,
          1,
          1,
          1,
          1,
          1,
          1,
          1,
          1,
          1,
          1,
          1,
          1,
          1,
          1,
          1,
          1,
          1,
          1,
          1,
          1,
          1,
          1,
          1,
          1,
          1,
          1,
          1,
          1,
          1,
          1,
          1,
          1,
          1,
          1,
          1,
          1,
          1,
          1,
          1,
          1,
          1,
          1,
          1,
          1,
          1,
          1,
          1,
          1,
          1,
          1,
          1,
          1,
          1,
          1,
          1,
          1,
          1,
          1,
          1,
          1,
          1,
          1,
          1,
          1,
          1,
          1,
          1,
          1,
          1,
          1,
          1,
          1,
          1,
          1,
          1,
          1,
          1,
          1,
          1,
          1,
          1,
          1,
          1,
          1,
          1
         ]
        },
        {
         "boxpoints": false,
         "name": "Survey bugs",
         "type": "box",
         "y": [
          0,
          0,
          0,
          0,
          0,
          0,
          0,
          0,
          0
         ]
        }
       ],
       "layout": {
        "title": "country vs bugs",
        "xaxis": {
         "title": "country"
        },
        "yaxis": {
         "range": [
          "0",
          "100"
         ],
         "title": "bugs"
        }
       }
      },
      "text/html": [
       "<div id=\"18ef233c-3e2c-4e35-9502-609c1e811681\" style=\"height: 525px; width: 100%;\" class=\"plotly-graph-div\"></div><script type=\"text/javascript\">require([\"plotly\"], function(Plotly) { window.PLOTLYENV=window.PLOTLYENV || {};window.PLOTLYENV.BASE_URL=\"https://plot.ly\";Plotly.newPlot(\"18ef233c-3e2c-4e35-9502-609c1e811681\", [{\"type\": \"box\", \"boxpoints\": false, \"name\": \"Non-employees bugs\", \"y\": [1312, 427, 314, 66, 48, 38, 32, 27, 18, 16, 15, 14, 13, 13, 13, 12, 11, 10, 10, 10, 9, 8, 8, 7, 7, 7, 7, 6, 6, 6, 6, 6, 6, 5, 5, 5, 5, 5, 5, 5, 5, 5, 4, 4, 4, 4, 4, 4, 4, 4, 4, 4, 4, 4, 4, 4, 3, 3, 3, 3, 3, 3, 3, 3, 3, 3, 3, 3, 3, 3, 3, 3, 3, 3, 3, 3, 2, 2, 2, 2, 2, 2, 2, 2, 2, 2, 2, 2, 2, 2, 2, 2, 2, 2, 2, 2, 2, 2, 2, 2, 2, 2, 2, 2, 2, 2, 2, 2, 2, 2, 2, 2, 1, 1, 1, 1, 1, 1, 1, 1, 1, 1, 1, 1, 1, 1, 1, 1, 1, 1, 1, 1, 1, 1, 1, 1, 1, 1, 1, 1, 1, 1, 1, 1, 1, 1, 1, 1, 1, 1, 1, 1, 1, 1, 1, 1, 1, 1, 1, 1, 1, 1, 1, 1, 1, 1, 1, 1, 1, 1, 1, 1, 1, 1, 1, 1, 1, 1, 1, 1, 1, 1, 1, 1, 1, 1, 1, 1, 1, 1, 1, 1, 1, 1, 1, 1, 1, 1, 1, 1, 1, 1, 1, 1, 1, 1, 1, 1, 1, 1, 1, 1, 1, 1, 1, 1, 1, 1, 1, 1, 1]}, {\"type\": \"box\", \"boxpoints\": false, \"name\": \"Survey bugs\", \"y\": [0.0, 0.0, 0.0, 0.0, 0.0, 0.0, 0.0, 0.0, 0.0]}], {\"xaxis\": {\"title\": \"country\"}, \"title\": \"country vs bugs\", \"yaxis\": {\"title\": \"bugs\", \"range\": [\"0\", \"100\"]}}, {\"showLink\": true, \"linkText\": \"Export to plot.ly\"})});</script>"
      ],
      "text/vnd.plotly.v1+html": [
       "<div id=\"18ef233c-3e2c-4e35-9502-609c1e811681\" style=\"height: 525px; width: 100%;\" class=\"plotly-graph-div\"></div><script type=\"text/javascript\">require([\"plotly\"], function(Plotly) { window.PLOTLYENV=window.PLOTLYENV || {};window.PLOTLYENV.BASE_URL=\"https://plot.ly\";Plotly.newPlot(\"18ef233c-3e2c-4e35-9502-609c1e811681\", [{\"type\": \"box\", \"boxpoints\": false, \"name\": \"Non-employees bugs\", \"y\": [1312, 427, 314, 66, 48, 38, 32, 27, 18, 16, 15, 14, 13, 13, 13, 12, 11, 10, 10, 10, 9, 8, 8, 7, 7, 7, 7, 6, 6, 6, 6, 6, 6, 5, 5, 5, 5, 5, 5, 5, 5, 5, 4, 4, 4, 4, 4, 4, 4, 4, 4, 4, 4, 4, 4, 4, 3, 3, 3, 3, 3, 3, 3, 3, 3, 3, 3, 3, 3, 3, 3, 3, 3, 3, 3, 3, 2, 2, 2, 2, 2, 2, 2, 2, 2, 2, 2, 2, 2, 2, 2, 2, 2, 2, 2, 2, 2, 2, 2, 2, 2, 2, 2, 2, 2, 2, 2, 2, 2, 2, 2, 2, 1, 1, 1, 1, 1, 1, 1, 1, 1, 1, 1, 1, 1, 1, 1, 1, 1, 1, 1, 1, 1, 1, 1, 1, 1, 1, 1, 1, 1, 1, 1, 1, 1, 1, 1, 1, 1, 1, 1, 1, 1, 1, 1, 1, 1, 1, 1, 1, 1, 1, 1, 1, 1, 1, 1, 1, 1, 1, 1, 1, 1, 1, 1, 1, 1, 1, 1, 1, 1, 1, 1, 1, 1, 1, 1, 1, 1, 1, 1, 1, 1, 1, 1, 1, 1, 1, 1, 1, 1, 1, 1, 1, 1, 1, 1, 1, 1, 1, 1, 1, 1, 1, 1, 1, 1, 1, 1, 1, 1]}, {\"type\": \"box\", \"boxpoints\": false, \"name\": \"Survey bugs\", \"y\": [0.0, 0.0, 0.0, 0.0, 0.0, 0.0, 0.0, 0.0, 0.0]}], {\"xaxis\": {\"title\": \"country\"}, \"title\": \"country vs bugs\", \"yaxis\": {\"title\": \"bugs\", \"range\": [\"0\", \"100\"]}}, {\"showLink\": true, \"linkText\": \"Export to plot.ly\"})});</script>"
      ]
     },
     "metadata": {},
     "output_type": "display_data"
    },
    {
     "data": {
      "application/vnd.plotly.v1+json": {
       "data": [
        {
         "boxpoints": "all",
         "jitter": 0.5,
         "marker": {
          "size": 2
         },
         "name": "Italy(1)",
         "type": "box",
         "y": [
          0
         ]
        },
        {
         "boxpoints": "all",
         "jitter": 0.5,
         "marker": {
          "size": 2
         },
         "name": "India(1)",
         "type": "box",
         "y": [
          0
         ]
        },
        {
         "boxpoints": "all",
         "jitter": 0.5,
         "marker": {
          "size": 2
         },
         "name": "United States(1)",
         "type": "box",
         "y": [
          0
         ]
        },
        {
         "boxpoints": "all",
         "jitter": 0.5,
         "marker": {
          "size": 2
         },
         "name": "Serbia(1)",
         "type": "box",
         "y": [
          0
         ]
        },
        {
         "boxpoints": "all",
         "jitter": 0.5,
         "marker": {
          "size": 2
         },
         "name": "Mexico(1)",
         "type": "box",
         "y": [
          0
         ]
        },
        {
         "boxpoints": "all",
         "jitter": 0.5,
         "marker": {
          "size": 2
         },
         "name": "Germany(2)",
         "type": "box",
         "y": [
          0,
          0
         ]
        },
        {
         "boxpoints": "all",
         "jitter": 0.5,
         "marker": {
          "size": 2
         },
         "name": "Canada(1)",
         "type": "box",
         "y": [
          0
         ]
        },
        {
         "boxpoints": "all",
         "jitter": 0.5,
         "marker": {
          "size": 2
         },
         "name": "France(1)",
         "type": "box",
         "y": [
          0
         ]
        }
       ],
       "layout": {
        "title": "country vs emails",
        "xaxis": {
         "title": "country"
        },
        "yaxis": {
         "title": "emails"
        }
       }
      },
      "text/html": [
       "<div id=\"c39f4604-8ebe-47e6-91d8-893d83ce8791\" style=\"height: 525px; width: 100%;\" class=\"plotly-graph-div\"></div><script type=\"text/javascript\">require([\"plotly\"], function(Plotly) { window.PLOTLYENV=window.PLOTLYENV || {};window.PLOTLYENV.BASE_URL=\"https://plot.ly\";Plotly.newPlot(\"c39f4604-8ebe-47e6-91d8-893d83ce8791\", [{\"type\": \"box\", \"boxpoints\": \"all\", \"name\": \"Italy(1)\", \"marker\": {\"size\": 2}, \"y\": [0.0], \"jitter\": 0.5}, {\"type\": \"box\", \"boxpoints\": \"all\", \"name\": \"India(1)\", \"marker\": {\"size\": 2}, \"y\": [0.0], \"jitter\": 0.5}, {\"type\": \"box\", \"boxpoints\": \"all\", \"name\": \"United States(1)\", \"marker\": {\"size\": 2}, \"y\": [0.0], \"jitter\": 0.5}, {\"type\": \"box\", \"boxpoints\": \"all\", \"name\": \"Serbia(1)\", \"marker\": {\"size\": 2}, \"y\": [0.0], \"jitter\": 0.5}, {\"type\": \"box\", \"boxpoints\": \"all\", \"name\": \"Mexico(1)\", \"marker\": {\"size\": 2}, \"y\": [0.0], \"jitter\": 0.5}, {\"type\": \"box\", \"boxpoints\": \"all\", \"name\": \"Germany(2)\", \"marker\": {\"size\": 2}, \"y\": [0.0, 0.0], \"jitter\": 0.5}, {\"type\": \"box\", \"boxpoints\": \"all\", \"name\": \"Canada(1)\", \"marker\": {\"size\": 2}, \"y\": [0.0], \"jitter\": 0.5}, {\"type\": \"box\", \"boxpoints\": \"all\", \"name\": \"France(1)\", \"marker\": {\"size\": 2}, \"y\": [0.0], \"jitter\": 0.5}], {\"xaxis\": {\"title\": \"country\"}, \"title\": \"country vs emails\", \"yaxis\": {\"title\": \"emails\"}}, {\"showLink\": true, \"linkText\": \"Export to plot.ly\"})});</script>"
      ],
      "text/vnd.plotly.v1+html": [
       "<div id=\"c39f4604-8ebe-47e6-91d8-893d83ce8791\" style=\"height: 525px; width: 100%;\" class=\"plotly-graph-div\"></div><script type=\"text/javascript\">require([\"plotly\"], function(Plotly) { window.PLOTLYENV=window.PLOTLYENV || {};window.PLOTLYENV.BASE_URL=\"https://plot.ly\";Plotly.newPlot(\"c39f4604-8ebe-47e6-91d8-893d83ce8791\", [{\"type\": \"box\", \"boxpoints\": \"all\", \"name\": \"Italy(1)\", \"marker\": {\"size\": 2}, \"y\": [0.0], \"jitter\": 0.5}, {\"type\": \"box\", \"boxpoints\": \"all\", \"name\": \"India(1)\", \"marker\": {\"size\": 2}, \"y\": [0.0], \"jitter\": 0.5}, {\"type\": \"box\", \"boxpoints\": \"all\", \"name\": \"United States(1)\", \"marker\": {\"size\": 2}, \"y\": [0.0], \"jitter\": 0.5}, {\"type\": \"box\", \"boxpoints\": \"all\", \"name\": \"Serbia(1)\", \"marker\": {\"size\": 2}, \"y\": [0.0], \"jitter\": 0.5}, {\"type\": \"box\", \"boxpoints\": \"all\", \"name\": \"Mexico(1)\", \"marker\": {\"size\": 2}, \"y\": [0.0], \"jitter\": 0.5}, {\"type\": \"box\", \"boxpoints\": \"all\", \"name\": \"Germany(2)\", \"marker\": {\"size\": 2}, \"y\": [0.0, 0.0], \"jitter\": 0.5}, {\"type\": \"box\", \"boxpoints\": \"all\", \"name\": \"Canada(1)\", \"marker\": {\"size\": 2}, \"y\": [0.0], \"jitter\": 0.5}, {\"type\": \"box\", \"boxpoints\": \"all\", \"name\": \"France(1)\", \"marker\": {\"size\": 2}, \"y\": [0.0], \"jitter\": 0.5}], {\"xaxis\": {\"title\": \"country\"}, \"title\": \"country vs emails\", \"yaxis\": {\"title\": \"emails\"}}, {\"showLink\": true, \"linkText\": \"Export to plot.ly\"})});</script>"
      ]
     },
     "metadata": {},
     "output_type": "display_data"
    },
    {
     "data": {
      "application/vnd.plotly.v1+json": {
       "data": [
        {
         "labels": [
          "Italy",
          "India",
          "United States",
          "Serbia",
          "Mexico",
          "Germany",
          "Canada",
          "France"
         ],
         "type": "pie",
         "values": [
          1,
          1,
          1,
          1,
          1,
          2,
          1,
          1
         ]
        }
       ],
       "layout": {
        "title": "Population Distribution of country"
       }
      },
      "text/html": [
       "<div id=\"c46c829b-5328-4b91-821a-161a41230321\" style=\"height: 525px; width: 100%;\" class=\"plotly-graph-div\"></div><script type=\"text/javascript\">require([\"plotly\"], function(Plotly) { window.PLOTLYENV=window.PLOTLYENV || {};window.PLOTLYENV.BASE_URL=\"https://plot.ly\";Plotly.newPlot(\"c46c829b-5328-4b91-821a-161a41230321\", [{\"type\": \"pie\", \"values\": [1, 1, 1, 1, 1, 2, 1, 1], \"labels\": [\"Italy\", \"India\", \"United States\", \"Serbia\", \"Mexico\", \"Germany\", \"Canada\", \"France\"]}], {\"title\": \"Population Distribution of country\"}, {\"showLink\": true, \"linkText\": \"Export to plot.ly\"})});</script>"
      ],
      "text/vnd.plotly.v1+html": [
       "<div id=\"c46c829b-5328-4b91-821a-161a41230321\" style=\"height: 525px; width: 100%;\" class=\"plotly-graph-div\"></div><script type=\"text/javascript\">require([\"plotly\"], function(Plotly) { window.PLOTLYENV=window.PLOTLYENV || {};window.PLOTLYENV.BASE_URL=\"https://plot.ly\";Plotly.newPlot(\"c46c829b-5328-4b91-821a-161a41230321\", [{\"type\": \"pie\", \"values\": [1, 1, 1, 1, 1, 2, 1, 1], \"labels\": [\"Italy\", \"India\", \"United States\", \"Serbia\", \"Mexico\", \"Germany\", \"Canada\", \"France\"]}], {\"title\": \"Population Distribution of country\"}, {\"showLink\": true, \"linkText\": \"Export to plot.ly\"})});</script>"
      ]
     },
     "metadata": {},
     "output_type": "display_data"
    },
    {
     "data": {
      "application/vnd.plotly.v1+json": {
       "data": [
        {
         "boxpoints": false,
         "name": "Non-employees emails",
         "type": "box",
         "y": [
          1312,
          427,
          314,
          66,
          48,
          38,
          32,
          27,
          18,
          16,
          15,
          14,
          13,
          13,
          13,
          12,
          11,
          10,
          10,
          10,
          9,
          8,
          8,
          7,
          7,
          7,
          7,
          6,
          6,
          6,
          6,
          6,
          6,
          5,
          5,
          5,
          5,
          5,
          5,
          5,
          5,
          5,
          4,
          4,
          4,
          4,
          4,
          4,
          4,
          4,
          4,
          4,
          4,
          4,
          4,
          4,
          3,
          3,
          3,
          3,
          3,
          3,
          3,
          3,
          3,
          3,
          3,
          3,
          3,
          3,
          3,
          3,
          3,
          3,
          3,
          3,
          2,
          2,
          2,
          2,
          2,
          2,
          2,
          2,
          2,
          2,
          2,
          2,
          2,
          2,
          2,
          2,
          2,
          2,
          2,
          2,
          2,
          2,
          2,
          2,
          2,
          2,
          2,
          2,
          2,
          2,
          2,
          2,
          2,
          2,
          2,
          2,
          1,
          1,
          1,
          1,
          1,
          1,
          1,
          1,
          1,
          1,
          1,
          1,
          1,
          1,
          1,
          1,
          1,
          1,
          1,
          1,
          1,
          1,
          1,
          1,
          1,
          1,
          1,
          1,
          1,
          1,
          1,
          1,
          1,
          1,
          1,
          1,
          1,
          1,
          1,
          1,
          1,
          1,
          1,
          1,
          1,
          1,
          1,
          1,
          1,
          1,
          1,
          1,
          1,
          1,
          1,
          1,
          1,
          1,
          1,
          1,
          1,
          1,
          1,
          1,
          1,
          1,
          1,
          1,
          1,
          1,
          1,
          1,
          1,
          1,
          1,
          1,
          1,
          1,
          1,
          1,
          1,
          1,
          1,
          1,
          1,
          1,
          1,
          1,
          1,
          1,
          1,
          1,
          1,
          1,
          1,
          1,
          1,
          1,
          1,
          1,
          1,
          1,
          1,
          1,
          1,
          1,
          1,
          1,
          1
         ]
        },
        {
         "boxpoints": false,
         "name": "Survey emails",
         "type": "box",
         "y": [
          0,
          0,
          0,
          0,
          0,
          0,
          0,
          0,
          0
         ]
        }
       ],
       "layout": {
        "title": "country vs emails",
        "xaxis": {
         "title": "country"
        },
        "yaxis": {
         "range": [
          "0",
          "100"
         ],
         "title": "emails"
        }
       }
      },
      "text/html": [
       "<div id=\"a487d0a7-7c1c-42e8-8d5b-1571797a6194\" style=\"height: 525px; width: 100%;\" class=\"plotly-graph-div\"></div><script type=\"text/javascript\">require([\"plotly\"], function(Plotly) { window.PLOTLYENV=window.PLOTLYENV || {};window.PLOTLYENV.BASE_URL=\"https://plot.ly\";Plotly.newPlot(\"a487d0a7-7c1c-42e8-8d5b-1571797a6194\", [{\"type\": \"box\", \"boxpoints\": false, \"name\": \"Non-employees emails\", \"y\": [1312, 427, 314, 66, 48, 38, 32, 27, 18, 16, 15, 14, 13, 13, 13, 12, 11, 10, 10, 10, 9, 8, 8, 7, 7, 7, 7, 6, 6, 6, 6, 6, 6, 5, 5, 5, 5, 5, 5, 5, 5, 5, 4, 4, 4, 4, 4, 4, 4, 4, 4, 4, 4, 4, 4, 4, 3, 3, 3, 3, 3, 3, 3, 3, 3, 3, 3, 3, 3, 3, 3, 3, 3, 3, 3, 3, 2, 2, 2, 2, 2, 2, 2, 2, 2, 2, 2, 2, 2, 2, 2, 2, 2, 2, 2, 2, 2, 2, 2, 2, 2, 2, 2, 2, 2, 2, 2, 2, 2, 2, 2, 2, 1, 1, 1, 1, 1, 1, 1, 1, 1, 1, 1, 1, 1, 1, 1, 1, 1, 1, 1, 1, 1, 1, 1, 1, 1, 1, 1, 1, 1, 1, 1, 1, 1, 1, 1, 1, 1, 1, 1, 1, 1, 1, 1, 1, 1, 1, 1, 1, 1, 1, 1, 1, 1, 1, 1, 1, 1, 1, 1, 1, 1, 1, 1, 1, 1, 1, 1, 1, 1, 1, 1, 1, 1, 1, 1, 1, 1, 1, 1, 1, 1, 1, 1, 1, 1, 1, 1, 1, 1, 1, 1, 1, 1, 1, 1, 1, 1, 1, 1, 1, 1, 1, 1, 1, 1, 1, 1, 1, 1]}, {\"type\": \"box\", \"boxpoints\": false, \"name\": \"Survey emails\", \"y\": [0.0, 0.0, 0.0, 0.0, 0.0, 0.0, 0.0, 0.0, 0.0]}], {\"xaxis\": {\"title\": \"country\"}, \"title\": \"country vs emails\", \"yaxis\": {\"title\": \"emails\", \"range\": [\"0\", \"100\"]}}, {\"showLink\": true, \"linkText\": \"Export to plot.ly\"})});</script>"
      ],
      "text/vnd.plotly.v1+html": [
       "<div id=\"a487d0a7-7c1c-42e8-8d5b-1571797a6194\" style=\"height: 525px; width: 100%;\" class=\"plotly-graph-div\"></div><script type=\"text/javascript\">require([\"plotly\"], function(Plotly) { window.PLOTLYENV=window.PLOTLYENV || {};window.PLOTLYENV.BASE_URL=\"https://plot.ly\";Plotly.newPlot(\"a487d0a7-7c1c-42e8-8d5b-1571797a6194\", [{\"type\": \"box\", \"boxpoints\": false, \"name\": \"Non-employees emails\", \"y\": [1312, 427, 314, 66, 48, 38, 32, 27, 18, 16, 15, 14, 13, 13, 13, 12, 11, 10, 10, 10, 9, 8, 8, 7, 7, 7, 7, 6, 6, 6, 6, 6, 6, 5, 5, 5, 5, 5, 5, 5, 5, 5, 4, 4, 4, 4, 4, 4, 4, 4, 4, 4, 4, 4, 4, 4, 3, 3, 3, 3, 3, 3, 3, 3, 3, 3, 3, 3, 3, 3, 3, 3, 3, 3, 3, 3, 2, 2, 2, 2, 2, 2, 2, 2, 2, 2, 2, 2, 2, 2, 2, 2, 2, 2, 2, 2, 2, 2, 2, 2, 2, 2, 2, 2, 2, 2, 2, 2, 2, 2, 2, 2, 1, 1, 1, 1, 1, 1, 1, 1, 1, 1, 1, 1, 1, 1, 1, 1, 1, 1, 1, 1, 1, 1, 1, 1, 1, 1, 1, 1, 1, 1, 1, 1, 1, 1, 1, 1, 1, 1, 1, 1, 1, 1, 1, 1, 1, 1, 1, 1, 1, 1, 1, 1, 1, 1, 1, 1, 1, 1, 1, 1, 1, 1, 1, 1, 1, 1, 1, 1, 1, 1, 1, 1, 1, 1, 1, 1, 1, 1, 1, 1, 1, 1, 1, 1, 1, 1, 1, 1, 1, 1, 1, 1, 1, 1, 1, 1, 1, 1, 1, 1, 1, 1, 1, 1, 1, 1, 1, 1, 1]}, {\"type\": \"box\", \"boxpoints\": false, \"name\": \"Survey emails\", \"y\": [0.0, 0.0, 0.0, 0.0, 0.0, 0.0, 0.0, 0.0, 0.0]}], {\"xaxis\": {\"title\": \"country\"}, \"title\": \"country vs emails\", \"yaxis\": {\"title\": \"emails\", \"range\": [\"0\", \"100\"]}}, {\"showLink\": true, \"linkText\": \"Export to plot.ly\"})});</script>"
      ]
     },
     "metadata": {},
     "output_type": "display_data"
    },
    {
     "data": {
      "application/vnd.plotly.v1+json": {
       "data": [
        {
         "boxpoints": "all",
         "jitter": 0.5,
         "marker": {
          "size": 2
         },
         "name": "Italy(1)",
         "type": "box",
         "y": [
          0
         ]
        },
        {
         "boxpoints": "all",
         "jitter": 0.5,
         "marker": {
          "size": 2
         },
         "name": "India(1)",
         "type": "box",
         "y": [
          0
         ]
        },
        {
         "boxpoints": "all",
         "jitter": 0.5,
         "marker": {
          "size": 2
         },
         "name": "United States(1)",
         "type": "box",
         "y": [
          0
         ]
        },
        {
         "boxpoints": "all",
         "jitter": 0.5,
         "marker": {
          "size": 2
         },
         "name": "Serbia(1)",
         "type": "box",
         "y": [
          1
         ]
        },
        {
         "boxpoints": "all",
         "jitter": 0.5,
         "marker": {
          "size": 2
         },
         "name": "Mexico(1)",
         "type": "box",
         "y": [
          0
         ]
        },
        {
         "boxpoints": "all",
         "jitter": 0.5,
         "marker": {
          "size": 2
         },
         "name": "Germany(2)",
         "type": "box",
         "y": [
          0,
          0
         ]
        },
        {
         "boxpoints": "all",
         "jitter": 0.5,
         "marker": {
          "size": 2
         },
         "name": "Canada(1)",
         "type": "box",
         "y": [
          0
         ]
        },
        {
         "boxpoints": "all",
         "jitter": 0.5,
         "marker": {
          "size": 2
         },
         "name": "France(1)",
         "type": "box",
         "y": [
          0
         ]
        }
       ],
       "layout": {
        "title": "country vs messages",
        "xaxis": {
         "title": "country"
        },
        "yaxis": {
         "title": "messages"
        }
       }
      },
      "text/html": [
       "<div id=\"5ae54abf-db65-4f7a-aacc-254096bc5e1d\" style=\"height: 525px; width: 100%;\" class=\"plotly-graph-div\"></div><script type=\"text/javascript\">require([\"plotly\"], function(Plotly) { window.PLOTLYENV=window.PLOTLYENV || {};window.PLOTLYENV.BASE_URL=\"https://plot.ly\";Plotly.newPlot(\"5ae54abf-db65-4f7a-aacc-254096bc5e1d\", [{\"type\": \"box\", \"boxpoints\": \"all\", \"name\": \"Italy(1)\", \"marker\": {\"size\": 2}, \"y\": [0.0], \"jitter\": 0.5}, {\"type\": \"box\", \"boxpoints\": \"all\", \"name\": \"India(1)\", \"marker\": {\"size\": 2}, \"y\": [0.0], \"jitter\": 0.5}, {\"type\": \"box\", \"boxpoints\": \"all\", \"name\": \"United States(1)\", \"marker\": {\"size\": 2}, \"y\": [0.0], \"jitter\": 0.5}, {\"type\": \"box\", \"boxpoints\": \"all\", \"name\": \"Serbia(1)\", \"marker\": {\"size\": 2}, \"y\": [1.0], \"jitter\": 0.5}, {\"type\": \"box\", \"boxpoints\": \"all\", \"name\": \"Mexico(1)\", \"marker\": {\"size\": 2}, \"y\": [0.0], \"jitter\": 0.5}, {\"type\": \"box\", \"boxpoints\": \"all\", \"name\": \"Germany(2)\", \"marker\": {\"size\": 2}, \"y\": [0.0, 0.0], \"jitter\": 0.5}, {\"type\": \"box\", \"boxpoints\": \"all\", \"name\": \"Canada(1)\", \"marker\": {\"size\": 2}, \"y\": [0.0], \"jitter\": 0.5}, {\"type\": \"box\", \"boxpoints\": \"all\", \"name\": \"France(1)\", \"marker\": {\"size\": 2}, \"y\": [0.0], \"jitter\": 0.5}], {\"xaxis\": {\"title\": \"country\"}, \"title\": \"country vs messages\", \"yaxis\": {\"title\": \"messages\"}}, {\"showLink\": true, \"linkText\": \"Export to plot.ly\"})});</script>"
      ],
      "text/vnd.plotly.v1+html": [
       "<div id=\"5ae54abf-db65-4f7a-aacc-254096bc5e1d\" style=\"height: 525px; width: 100%;\" class=\"plotly-graph-div\"></div><script type=\"text/javascript\">require([\"plotly\"], function(Plotly) { window.PLOTLYENV=window.PLOTLYENV || {};window.PLOTLYENV.BASE_URL=\"https://plot.ly\";Plotly.newPlot(\"5ae54abf-db65-4f7a-aacc-254096bc5e1d\", [{\"type\": \"box\", \"boxpoints\": \"all\", \"name\": \"Italy(1)\", \"marker\": {\"size\": 2}, \"y\": [0.0], \"jitter\": 0.5}, {\"type\": \"box\", \"boxpoints\": \"all\", \"name\": \"India(1)\", \"marker\": {\"size\": 2}, \"y\": [0.0], \"jitter\": 0.5}, {\"type\": \"box\", \"boxpoints\": \"all\", \"name\": \"United States(1)\", \"marker\": {\"size\": 2}, \"y\": [0.0], \"jitter\": 0.5}, {\"type\": \"box\", \"boxpoints\": \"all\", \"name\": \"Serbia(1)\", \"marker\": {\"size\": 2}, \"y\": [1.0], \"jitter\": 0.5}, {\"type\": \"box\", \"boxpoints\": \"all\", \"name\": \"Mexico(1)\", \"marker\": {\"size\": 2}, \"y\": [0.0], \"jitter\": 0.5}, {\"type\": \"box\", \"boxpoints\": \"all\", \"name\": \"Germany(2)\", \"marker\": {\"size\": 2}, \"y\": [0.0, 0.0], \"jitter\": 0.5}, {\"type\": \"box\", \"boxpoints\": \"all\", \"name\": \"Canada(1)\", \"marker\": {\"size\": 2}, \"y\": [0.0], \"jitter\": 0.5}, {\"type\": \"box\", \"boxpoints\": \"all\", \"name\": \"France(1)\", \"marker\": {\"size\": 2}, \"y\": [0.0], \"jitter\": 0.5}], {\"xaxis\": {\"title\": \"country\"}, \"title\": \"country vs messages\", \"yaxis\": {\"title\": \"messages\"}}, {\"showLink\": true, \"linkText\": \"Export to plot.ly\"})});</script>"
      ]
     },
     "metadata": {},
     "output_type": "display_data"
    },
    {
     "data": {
      "application/vnd.plotly.v1+json": {
       "data": [
        {
         "labels": [
          "Italy",
          "India",
          "United States",
          "Serbia",
          "Mexico",
          "Germany",
          "Canada",
          "France"
         ],
         "type": "pie",
         "values": [
          1,
          1,
          1,
          1,
          1,
          2,
          1,
          1
         ]
        }
       ],
       "layout": {
        "title": "Population Distribution of country"
       }
      },
      "text/html": [
       "<div id=\"ca02ec6f-e2bf-4c7a-841b-9b75d94a6a01\" style=\"height: 525px; width: 100%;\" class=\"plotly-graph-div\"></div><script type=\"text/javascript\">require([\"plotly\"], function(Plotly) { window.PLOTLYENV=window.PLOTLYENV || {};window.PLOTLYENV.BASE_URL=\"https://plot.ly\";Plotly.newPlot(\"ca02ec6f-e2bf-4c7a-841b-9b75d94a6a01\", [{\"type\": \"pie\", \"values\": [1, 1, 1, 1, 1, 2, 1, 1], \"labels\": [\"Italy\", \"India\", \"United States\", \"Serbia\", \"Mexico\", \"Germany\", \"Canada\", \"France\"]}], {\"title\": \"Population Distribution of country\"}, {\"showLink\": true, \"linkText\": \"Export to plot.ly\"})});</script>"
      ],
      "text/vnd.plotly.v1+html": [
       "<div id=\"ca02ec6f-e2bf-4c7a-841b-9b75d94a6a01\" style=\"height: 525px; width: 100%;\" class=\"plotly-graph-div\"></div><script type=\"text/javascript\">require([\"plotly\"], function(Plotly) { window.PLOTLYENV=window.PLOTLYENV || {};window.PLOTLYENV.BASE_URL=\"https://plot.ly\";Plotly.newPlot(\"ca02ec6f-e2bf-4c7a-841b-9b75d94a6a01\", [{\"type\": \"pie\", \"values\": [1, 1, 1, 1, 1, 2, 1, 1], \"labels\": [\"Italy\", \"India\", \"United States\", \"Serbia\", \"Mexico\", \"Germany\", \"Canada\", \"France\"]}], {\"title\": \"Population Distribution of country\"}, {\"showLink\": true, \"linkText\": \"Export to plot.ly\"})});</script>"
      ]
     },
     "metadata": {},
     "output_type": "display_data"
    },
    {
     "data": {
      "application/vnd.plotly.v1+json": {
       "data": [
        {
         "boxpoints": false,
         "name": "Non-employees messages",
         "type": "box",
         "y": [
          1312,
          427,
          314,
          66,
          48,
          38,
          32,
          27,
          18,
          16,
          15,
          14,
          13,
          13,
          13,
          12,
          11,
          10,
          10,
          10,
          9,
          8,
          8,
          7,
          7,
          7,
          7,
          6,
          6,
          6,
          6,
          6,
          6,
          5,
          5,
          5,
          5,
          5,
          5,
          5,
          5,
          5,
          4,
          4,
          4,
          4,
          4,
          4,
          4,
          4,
          4,
          4,
          4,
          4,
          4,
          4,
          3,
          3,
          3,
          3,
          3,
          3,
          3,
          3,
          3,
          3,
          3,
          3,
          3,
          3,
          3,
          3,
          3,
          3,
          3,
          3,
          2,
          2,
          2,
          2,
          2,
          2,
          2,
          2,
          2,
          2,
          2,
          2,
          2,
          2,
          2,
          2,
          2,
          2,
          2,
          2,
          2,
          2,
          2,
          2,
          2,
          2,
          2,
          2,
          2,
          2,
          2,
          2,
          2,
          2,
          2,
          2,
          1,
          1,
          1,
          1,
          1,
          1,
          1,
          1,
          1,
          1,
          1,
          1,
          1,
          1,
          1,
          1,
          1,
          1,
          1,
          1,
          1,
          1,
          1,
          1,
          1,
          1,
          1,
          1,
          1,
          1,
          1,
          1,
          1,
          1,
          1,
          1,
          1,
          1,
          1,
          1,
          1,
          1,
          1,
          1,
          1,
          1,
          1,
          1,
          1,
          1,
          1,
          1,
          1,
          1,
          1,
          1,
          1,
          1,
          1,
          1,
          1,
          1,
          1,
          1,
          1,
          1,
          1,
          1,
          1,
          1,
          1,
          1,
          1,
          1,
          1,
          1,
          1,
          1,
          1,
          1,
          1,
          1,
          1,
          1,
          1,
          1,
          1,
          1,
          1,
          1,
          1,
          1,
          1,
          1,
          1,
          1,
          1,
          1,
          1,
          1,
          1,
          1,
          1,
          1,
          1,
          1,
          1,
          1,
          1
         ]
        },
        {
         "boxpoints": false,
         "name": "Survey messages",
         "type": "box",
         "y": [
          0,
          0,
          0,
          1,
          0,
          0,
          0,
          0,
          0
         ]
        }
       ],
       "layout": {
        "title": "country vs messages",
        "xaxis": {
         "title": "country"
        },
        "yaxis": {
         "range": [
          "0",
          "100"
         ],
         "title": "messages"
        }
       }
      },
      "text/html": [
       "<div id=\"0db057de-0aab-4ae0-8b60-ae2defa3f3bc\" style=\"height: 525px; width: 100%;\" class=\"plotly-graph-div\"></div><script type=\"text/javascript\">require([\"plotly\"], function(Plotly) { window.PLOTLYENV=window.PLOTLYENV || {};window.PLOTLYENV.BASE_URL=\"https://plot.ly\";Plotly.newPlot(\"0db057de-0aab-4ae0-8b60-ae2defa3f3bc\", [{\"type\": \"box\", \"boxpoints\": false, \"name\": \"Non-employees messages\", \"y\": [1312, 427, 314, 66, 48, 38, 32, 27, 18, 16, 15, 14, 13, 13, 13, 12, 11, 10, 10, 10, 9, 8, 8, 7, 7, 7, 7, 6, 6, 6, 6, 6, 6, 5, 5, 5, 5, 5, 5, 5, 5, 5, 4, 4, 4, 4, 4, 4, 4, 4, 4, 4, 4, 4, 4, 4, 3, 3, 3, 3, 3, 3, 3, 3, 3, 3, 3, 3, 3, 3, 3, 3, 3, 3, 3, 3, 2, 2, 2, 2, 2, 2, 2, 2, 2, 2, 2, 2, 2, 2, 2, 2, 2, 2, 2, 2, 2, 2, 2, 2, 2, 2, 2, 2, 2, 2, 2, 2, 2, 2, 2, 2, 1, 1, 1, 1, 1, 1, 1, 1, 1, 1, 1, 1, 1, 1, 1, 1, 1, 1, 1, 1, 1, 1, 1, 1, 1, 1, 1, 1, 1, 1, 1, 1, 1, 1, 1, 1, 1, 1, 1, 1, 1, 1, 1, 1, 1, 1, 1, 1, 1, 1, 1, 1, 1, 1, 1, 1, 1, 1, 1, 1, 1, 1, 1, 1, 1, 1, 1, 1, 1, 1, 1, 1, 1, 1, 1, 1, 1, 1, 1, 1, 1, 1, 1, 1, 1, 1, 1, 1, 1, 1, 1, 1, 1, 1, 1, 1, 1, 1, 1, 1, 1, 1, 1, 1, 1, 1, 1, 1, 1]}, {\"type\": \"box\", \"boxpoints\": false, \"name\": \"Survey messages\", \"y\": [0.0, 0.0, 0.0, 1.0, 0.0, 0.0, 0.0, 0.0, 0.0]}], {\"xaxis\": {\"title\": \"country\"}, \"title\": \"country vs messages\", \"yaxis\": {\"title\": \"messages\", \"range\": [\"0\", \"100\"]}}, {\"showLink\": true, \"linkText\": \"Export to plot.ly\"})});</script>"
      ],
      "text/vnd.plotly.v1+html": [
       "<div id=\"0db057de-0aab-4ae0-8b60-ae2defa3f3bc\" style=\"height: 525px; width: 100%;\" class=\"plotly-graph-div\"></div><script type=\"text/javascript\">require([\"plotly\"], function(Plotly) { window.PLOTLYENV=window.PLOTLYENV || {};window.PLOTLYENV.BASE_URL=\"https://plot.ly\";Plotly.newPlot(\"0db057de-0aab-4ae0-8b60-ae2defa3f3bc\", [{\"type\": \"box\", \"boxpoints\": false, \"name\": \"Non-employees messages\", \"y\": [1312, 427, 314, 66, 48, 38, 32, 27, 18, 16, 15, 14, 13, 13, 13, 12, 11, 10, 10, 10, 9, 8, 8, 7, 7, 7, 7, 6, 6, 6, 6, 6, 6, 5, 5, 5, 5, 5, 5, 5, 5, 5, 4, 4, 4, 4, 4, 4, 4, 4, 4, 4, 4, 4, 4, 4, 3, 3, 3, 3, 3, 3, 3, 3, 3, 3, 3, 3, 3, 3, 3, 3, 3, 3, 3, 3, 2, 2, 2, 2, 2, 2, 2, 2, 2, 2, 2, 2, 2, 2, 2, 2, 2, 2, 2, 2, 2, 2, 2, 2, 2, 2, 2, 2, 2, 2, 2, 2, 2, 2, 2, 2, 1, 1, 1, 1, 1, 1, 1, 1, 1, 1, 1, 1, 1, 1, 1, 1, 1, 1, 1, 1, 1, 1, 1, 1, 1, 1, 1, 1, 1, 1, 1, 1, 1, 1, 1, 1, 1, 1, 1, 1, 1, 1, 1, 1, 1, 1, 1, 1, 1, 1, 1, 1, 1, 1, 1, 1, 1, 1, 1, 1, 1, 1, 1, 1, 1, 1, 1, 1, 1, 1, 1, 1, 1, 1, 1, 1, 1, 1, 1, 1, 1, 1, 1, 1, 1, 1, 1, 1, 1, 1, 1, 1, 1, 1, 1, 1, 1, 1, 1, 1, 1, 1, 1, 1, 1, 1, 1, 1, 1]}, {\"type\": \"box\", \"boxpoints\": false, \"name\": \"Survey messages\", \"y\": [0.0, 0.0, 0.0, 1.0, 0.0, 0.0, 0.0, 0.0, 0.0]}], {\"xaxis\": {\"title\": \"country\"}, \"title\": \"country vs messages\", \"yaxis\": {\"title\": \"messages\", \"range\": [\"0\", \"100\"]}}, {\"showLink\": true, \"linkText\": \"Export to plot.ly\"})});</script>"
      ]
     },
     "metadata": {},
     "output_type": "display_data"
    },
    {
     "data": {
      "application/vnd.plotly.v1+json": {
       "data": [
        {
         "boxpoints": "all",
         "jitter": 0.5,
         "marker": {
          "size": 2
         },
         "name": "Italy(1)",
         "type": "box",
         "y": [
          1
         ]
        },
        {
         "boxpoints": "all",
         "jitter": 0.5,
         "marker": {
          "size": 2
         },
         "name": "India(1)",
         "type": "box",
         "y": [
          0
         ]
        },
        {
         "boxpoints": "all",
         "jitter": 0.5,
         "marker": {
          "size": 2
         },
         "name": "United States(1)",
         "type": "box",
         "y": [
          1
         ]
        },
        {
         "boxpoints": "all",
         "jitter": 0.5,
         "marker": {
          "size": 2
         },
         "name": "Serbia(1)",
         "type": "box",
         "y": [
          0
         ]
        },
        {
         "boxpoints": "all",
         "jitter": 0.5,
         "marker": {
          "size": 2
         },
         "name": "Mexico(1)",
         "type": "box",
         "y": [
          0
         ]
        },
        {
         "boxpoints": "all",
         "jitter": 0.5,
         "marker": {
          "size": 2
         },
         "name": "Germany(2)",
         "type": "box",
         "y": [
          1,
          1
         ]
        },
        {
         "boxpoints": "all",
         "jitter": 0.5,
         "marker": {
          "size": 2
         },
         "name": "Canada(1)",
         "type": "box",
         "y": [
          1
         ]
        },
        {
         "boxpoints": "all",
         "jitter": 0.5,
         "marker": {
          "size": 2
         },
         "name": "France(1)",
         "type": "box",
         "y": [
          1
         ]
        }
       ],
       "layout": {
        "title": "country vs git project",
        "xaxis": {
         "title": "country"
        },
        "yaxis": {
         "title": "git project"
        }
       }
      },
      "text/html": [
       "<div id=\"7c51e169-e6eb-43b5-95fa-2b364bacfc9a\" style=\"height: 525px; width: 100%;\" class=\"plotly-graph-div\"></div><script type=\"text/javascript\">require([\"plotly\"], function(Plotly) { window.PLOTLYENV=window.PLOTLYENV || {};window.PLOTLYENV.BASE_URL=\"https://plot.ly\";Plotly.newPlot(\"7c51e169-e6eb-43b5-95fa-2b364bacfc9a\", [{\"type\": \"box\", \"boxpoints\": \"all\", \"name\": \"Italy(1)\", \"marker\": {\"size\": 2}, \"y\": [1], \"jitter\": 0.5}, {\"type\": \"box\", \"boxpoints\": \"all\", \"name\": \"India(1)\", \"marker\": {\"size\": 2}, \"y\": [0], \"jitter\": 0.5}, {\"type\": \"box\", \"boxpoints\": \"all\", \"name\": \"United States(1)\", \"marker\": {\"size\": 2}, \"y\": [1], \"jitter\": 0.5}, {\"type\": \"box\", \"boxpoints\": \"all\", \"name\": \"Serbia(1)\", \"marker\": {\"size\": 2}, \"y\": [0], \"jitter\": 0.5}, {\"type\": \"box\", \"boxpoints\": \"all\", \"name\": \"Mexico(1)\", \"marker\": {\"size\": 2}, \"y\": [0], \"jitter\": 0.5}, {\"type\": \"box\", \"boxpoints\": \"all\", \"name\": \"Germany(2)\", \"marker\": {\"size\": 2}, \"y\": [1, 1], \"jitter\": 0.5}, {\"type\": \"box\", \"boxpoints\": \"all\", \"name\": \"Canada(1)\", \"marker\": {\"size\": 2}, \"y\": [1], \"jitter\": 0.5}, {\"type\": \"box\", \"boxpoints\": \"all\", \"name\": \"France(1)\", \"marker\": {\"size\": 2}, \"y\": [1], \"jitter\": 0.5}], {\"xaxis\": {\"title\": \"country\"}, \"title\": \"country vs git project\", \"yaxis\": {\"title\": \"git project\"}}, {\"showLink\": true, \"linkText\": \"Export to plot.ly\"})});</script>"
      ],
      "text/vnd.plotly.v1+html": [
       "<div id=\"7c51e169-e6eb-43b5-95fa-2b364bacfc9a\" style=\"height: 525px; width: 100%;\" class=\"plotly-graph-div\"></div><script type=\"text/javascript\">require([\"plotly\"], function(Plotly) { window.PLOTLYENV=window.PLOTLYENV || {};window.PLOTLYENV.BASE_URL=\"https://plot.ly\";Plotly.newPlot(\"7c51e169-e6eb-43b5-95fa-2b364bacfc9a\", [{\"type\": \"box\", \"boxpoints\": \"all\", \"name\": \"Italy(1)\", \"marker\": {\"size\": 2}, \"y\": [1], \"jitter\": 0.5}, {\"type\": \"box\", \"boxpoints\": \"all\", \"name\": \"India(1)\", \"marker\": {\"size\": 2}, \"y\": [0], \"jitter\": 0.5}, {\"type\": \"box\", \"boxpoints\": \"all\", \"name\": \"United States(1)\", \"marker\": {\"size\": 2}, \"y\": [1], \"jitter\": 0.5}, {\"type\": \"box\", \"boxpoints\": \"all\", \"name\": \"Serbia(1)\", \"marker\": {\"size\": 2}, \"y\": [0], \"jitter\": 0.5}, {\"type\": \"box\", \"boxpoints\": \"all\", \"name\": \"Mexico(1)\", \"marker\": {\"size\": 2}, \"y\": [0], \"jitter\": 0.5}, {\"type\": \"box\", \"boxpoints\": \"all\", \"name\": \"Germany(2)\", \"marker\": {\"size\": 2}, \"y\": [1, 1], \"jitter\": 0.5}, {\"type\": \"box\", \"boxpoints\": \"all\", \"name\": \"Canada(1)\", \"marker\": {\"size\": 2}, \"y\": [1], \"jitter\": 0.5}, {\"type\": \"box\", \"boxpoints\": \"all\", \"name\": \"France(1)\", \"marker\": {\"size\": 2}, \"y\": [1], \"jitter\": 0.5}], {\"xaxis\": {\"title\": \"country\"}, \"title\": \"country vs git project\", \"yaxis\": {\"title\": \"git project\"}}, {\"showLink\": true, \"linkText\": \"Export to plot.ly\"})});</script>"
      ]
     },
     "metadata": {},
     "output_type": "display_data"
    },
    {
     "data": {
      "application/vnd.plotly.v1+json": {
       "data": [
        {
         "labels": [
          "Italy",
          "India",
          "United States",
          "Serbia",
          "Mexico",
          "Germany",
          "Canada",
          "France"
         ],
         "type": "pie",
         "values": [
          1,
          1,
          1,
          1,
          1,
          2,
          1,
          1
         ]
        }
       ],
       "layout": {
        "title": "Population Distribution of country"
       }
      },
      "text/html": [
       "<div id=\"28cc2776-e6f9-4cf2-ba2c-e381bd7b0034\" style=\"height: 525px; width: 100%;\" class=\"plotly-graph-div\"></div><script type=\"text/javascript\">require([\"plotly\"], function(Plotly) { window.PLOTLYENV=window.PLOTLYENV || {};window.PLOTLYENV.BASE_URL=\"https://plot.ly\";Plotly.newPlot(\"28cc2776-e6f9-4cf2-ba2c-e381bd7b0034\", [{\"type\": \"pie\", \"values\": [1, 1, 1, 1, 1, 2, 1, 1], \"labels\": [\"Italy\", \"India\", \"United States\", \"Serbia\", \"Mexico\", \"Germany\", \"Canada\", \"France\"]}], {\"title\": \"Population Distribution of country\"}, {\"showLink\": true, \"linkText\": \"Export to plot.ly\"})});</script>"
      ],
      "text/vnd.plotly.v1+html": [
       "<div id=\"28cc2776-e6f9-4cf2-ba2c-e381bd7b0034\" style=\"height: 525px; width: 100%;\" class=\"plotly-graph-div\"></div><script type=\"text/javascript\">require([\"plotly\"], function(Plotly) { window.PLOTLYENV=window.PLOTLYENV || {};window.PLOTLYENV.BASE_URL=\"https://plot.ly\";Plotly.newPlot(\"28cc2776-e6f9-4cf2-ba2c-e381bd7b0034\", [{\"type\": \"pie\", \"values\": [1, 1, 1, 1, 1, 2, 1, 1], \"labels\": [\"Italy\", \"India\", \"United States\", \"Serbia\", \"Mexico\", \"Germany\", \"Canada\", \"France\"]}], {\"title\": \"Population Distribution of country\"}, {\"showLink\": true, \"linkText\": \"Export to plot.ly\"})});</script>"
      ]
     },
     "metadata": {},
     "output_type": "display_data"
    },
    {
     "data": {
      "application/vnd.plotly.v1+json": {
       "data": [
        {
         "type": "histogram",
         "x": [
          1,
          0,
          1,
          0,
          0,
          1,
          1,
          1,
          1
         ]
        }
       ],
       "layout": {
        "title": "Distribution of git project",
        "xaxis": {
         "title": "git project"
        },
        "yaxis": {
         "title": "Population"
        }
       }
      },
      "text/html": [
       "<div id=\"1a53eb52-90b4-44a1-ac78-f8711c21f1b7\" style=\"height: 525px; width: 100%;\" class=\"plotly-graph-div\"></div><script type=\"text/javascript\">require([\"plotly\"], function(Plotly) { window.PLOTLYENV=window.PLOTLYENV || {};window.PLOTLYENV.BASE_URL=\"https://plot.ly\";Plotly.newPlot(\"1a53eb52-90b4-44a1-ac78-f8711c21f1b7\", [{\"type\": \"histogram\", \"x\": [1, 0, 1, 0, 0, 1, 1, 1, 1]}], {\"xaxis\": {\"title\": \"git project\"}, \"title\": \"Distribution of git project\", \"yaxis\": {\"title\": \"Population\"}}, {\"showLink\": true, \"linkText\": \"Export to plot.ly\"})});</script>"
      ],
      "text/vnd.plotly.v1+html": [
       "<div id=\"1a53eb52-90b4-44a1-ac78-f8711c21f1b7\" style=\"height: 525px; width: 100%;\" class=\"plotly-graph-div\"></div><script type=\"text/javascript\">require([\"plotly\"], function(Plotly) { window.PLOTLYENV=window.PLOTLYENV || {};window.PLOTLYENV.BASE_URL=\"https://plot.ly\";Plotly.newPlot(\"1a53eb52-90b4-44a1-ac78-f8711c21f1b7\", [{\"type\": \"histogram\", \"x\": [1, 0, 1, 0, 0, 1, 1, 1, 1]}], {\"xaxis\": {\"title\": \"git project\"}, \"title\": \"Distribution of git project\", \"yaxis\": {\"title\": \"Population\"}}, {\"showLink\": true, \"linkText\": \"Export to plot.ly\"})});</script>"
      ]
     },
     "metadata": {},
     "output_type": "display_data"
    },
    {
     "data": {
      "application/vnd.plotly.v1+json": {
       "data": [
        {
         "boxpoints": "all",
         "jitter": 0.5,
         "marker": {
          "size": 2
         },
         "name": "Italy(1)",
         "type": "box",
         "y": [
          1
         ]
        },
        {
         "boxpoints": "all",
         "jitter": 0.5,
         "marker": {
          "size": 2
         },
         "name": "India(1)",
         "type": "box",
         "y": [
          1
         ]
        },
        {
         "boxpoints": "all",
         "jitter": 0.5,
         "marker": {
          "size": 2
         },
         "name": "United States(1)",
         "type": "box",
         "y": [
          1
         ]
        },
        {
         "boxpoints": "all",
         "jitter": 0.5,
         "marker": {
          "size": 2
         },
         "name": "Serbia(1)",
         "type": "box",
         "y": [
          0
         ]
        },
        {
         "boxpoints": "all",
         "jitter": 0.5,
         "marker": {
          "size": 2
         },
         "name": "Mexico(1)",
         "type": "box",
         "y": [
          1
         ]
        },
        {
         "boxpoints": "all",
         "jitter": 0.5,
         "marker": {
          "size": 2
         },
         "name": "Germany(2)",
         "type": "box",
         "y": [
          1,
          1
         ]
        },
        {
         "boxpoints": "all",
         "jitter": 0.5,
         "marker": {
          "size": 2
         },
         "name": "Canada(1)",
         "type": "box",
         "y": [
          1
         ]
        },
        {
         "boxpoints": "all",
         "jitter": 0.5,
         "marker": {
          "size": 2
         },
         "name": "France(1)",
         "type": "box",
         "y": [
          1
         ]
        }
       ],
       "layout": {
        "title": "country vs github project",
        "xaxis": {
         "title": "country"
        },
        "yaxis": {
         "title": "github project"
        }
       }
      },
      "text/html": [
       "<div id=\"7043e491-7e2e-4671-b505-9afc0e6c9646\" style=\"height: 525px; width: 100%;\" class=\"plotly-graph-div\"></div><script type=\"text/javascript\">require([\"plotly\"], function(Plotly) { window.PLOTLYENV=window.PLOTLYENV || {};window.PLOTLYENV.BASE_URL=\"https://plot.ly\";Plotly.newPlot(\"7043e491-7e2e-4671-b505-9afc0e6c9646\", [{\"type\": \"box\", \"boxpoints\": \"all\", \"name\": \"Italy(1)\", \"marker\": {\"size\": 2}, \"y\": [1], \"jitter\": 0.5}, {\"type\": \"box\", \"boxpoints\": \"all\", \"name\": \"India(1)\", \"marker\": {\"size\": 2}, \"y\": [1], \"jitter\": 0.5}, {\"type\": \"box\", \"boxpoints\": \"all\", \"name\": \"United States(1)\", \"marker\": {\"size\": 2}, \"y\": [1], \"jitter\": 0.5}, {\"type\": \"box\", \"boxpoints\": \"all\", \"name\": \"Serbia(1)\", \"marker\": {\"size\": 2}, \"y\": [0], \"jitter\": 0.5}, {\"type\": \"box\", \"boxpoints\": \"all\", \"name\": \"Mexico(1)\", \"marker\": {\"size\": 2}, \"y\": [1], \"jitter\": 0.5}, {\"type\": \"box\", \"boxpoints\": \"all\", \"name\": \"Germany(2)\", \"marker\": {\"size\": 2}, \"y\": [1, 1], \"jitter\": 0.5}, {\"type\": \"box\", \"boxpoints\": \"all\", \"name\": \"Canada(1)\", \"marker\": {\"size\": 2}, \"y\": [1], \"jitter\": 0.5}, {\"type\": \"box\", \"boxpoints\": \"all\", \"name\": \"France(1)\", \"marker\": {\"size\": 2}, \"y\": [1], \"jitter\": 0.5}], {\"xaxis\": {\"title\": \"country\"}, \"title\": \"country vs github project\", \"yaxis\": {\"title\": \"github project\"}}, {\"showLink\": true, \"linkText\": \"Export to plot.ly\"})});</script>"
      ],
      "text/vnd.plotly.v1+html": [
       "<div id=\"7043e491-7e2e-4671-b505-9afc0e6c9646\" style=\"height: 525px; width: 100%;\" class=\"plotly-graph-div\"></div><script type=\"text/javascript\">require([\"plotly\"], function(Plotly) { window.PLOTLYENV=window.PLOTLYENV || {};window.PLOTLYENV.BASE_URL=\"https://plot.ly\";Plotly.newPlot(\"7043e491-7e2e-4671-b505-9afc0e6c9646\", [{\"type\": \"box\", \"boxpoints\": \"all\", \"name\": \"Italy(1)\", \"marker\": {\"size\": 2}, \"y\": [1], \"jitter\": 0.5}, {\"type\": \"box\", \"boxpoints\": \"all\", \"name\": \"India(1)\", \"marker\": {\"size\": 2}, \"y\": [1], \"jitter\": 0.5}, {\"type\": \"box\", \"boxpoints\": \"all\", \"name\": \"United States(1)\", \"marker\": {\"size\": 2}, \"y\": [1], \"jitter\": 0.5}, {\"type\": \"box\", \"boxpoints\": \"all\", \"name\": \"Serbia(1)\", \"marker\": {\"size\": 2}, \"y\": [0], \"jitter\": 0.5}, {\"type\": \"box\", \"boxpoints\": \"all\", \"name\": \"Mexico(1)\", \"marker\": {\"size\": 2}, \"y\": [1], \"jitter\": 0.5}, {\"type\": \"box\", \"boxpoints\": \"all\", \"name\": \"Germany(2)\", \"marker\": {\"size\": 2}, \"y\": [1, 1], \"jitter\": 0.5}, {\"type\": \"box\", \"boxpoints\": \"all\", \"name\": \"Canada(1)\", \"marker\": {\"size\": 2}, \"y\": [1], \"jitter\": 0.5}, {\"type\": \"box\", \"boxpoints\": \"all\", \"name\": \"France(1)\", \"marker\": {\"size\": 2}, \"y\": [1], \"jitter\": 0.5}], {\"xaxis\": {\"title\": \"country\"}, \"title\": \"country vs github project\", \"yaxis\": {\"title\": \"github project\"}}, {\"showLink\": true, \"linkText\": \"Export to plot.ly\"})});</script>"
      ]
     },
     "metadata": {},
     "output_type": "display_data"
    },
    {
     "data": {
      "application/vnd.plotly.v1+json": {
       "data": [
        {
         "labels": [
          "Italy",
          "India",
          "United States",
          "Serbia",
          "Mexico",
          "Germany",
          "Canada",
          "France"
         ],
         "type": "pie",
         "values": [
          1,
          1,
          1,
          1,
          1,
          2,
          1,
          1
         ]
        }
       ],
       "layout": {
        "title": "Population Distribution of country"
       }
      },
      "text/html": [
       "<div id=\"2644eab7-68f6-4596-b38d-2862261f1db8\" style=\"height: 525px; width: 100%;\" class=\"plotly-graph-div\"></div><script type=\"text/javascript\">require([\"plotly\"], function(Plotly) { window.PLOTLYENV=window.PLOTLYENV || {};window.PLOTLYENV.BASE_URL=\"https://plot.ly\";Plotly.newPlot(\"2644eab7-68f6-4596-b38d-2862261f1db8\", [{\"type\": \"pie\", \"values\": [1, 1, 1, 1, 1, 2, 1, 1], \"labels\": [\"Italy\", \"India\", \"United States\", \"Serbia\", \"Mexico\", \"Germany\", \"Canada\", \"France\"]}], {\"title\": \"Population Distribution of country\"}, {\"showLink\": true, \"linkText\": \"Export to plot.ly\"})});</script>"
      ],
      "text/vnd.plotly.v1+html": [
       "<div id=\"2644eab7-68f6-4596-b38d-2862261f1db8\" style=\"height: 525px; width: 100%;\" class=\"plotly-graph-div\"></div><script type=\"text/javascript\">require([\"plotly\"], function(Plotly) { window.PLOTLYENV=window.PLOTLYENV || {};window.PLOTLYENV.BASE_URL=\"https://plot.ly\";Plotly.newPlot(\"2644eab7-68f6-4596-b38d-2862261f1db8\", [{\"type\": \"pie\", \"values\": [1, 1, 1, 1, 1, 2, 1, 1], \"labels\": [\"Italy\", \"India\", \"United States\", \"Serbia\", \"Mexico\", \"Germany\", \"Canada\", \"France\"]}], {\"title\": \"Population Distribution of country\"}, {\"showLink\": true, \"linkText\": \"Export to plot.ly\"})});</script>"
      ]
     },
     "metadata": {},
     "output_type": "display_data"
    },
    {
     "data": {
      "application/vnd.plotly.v1+json": {
       "data": [
        {
         "type": "histogram",
         "x": [
          1,
          1,
          1,
          0,
          1,
          1,
          1,
          1,
          1
         ]
        }
       ],
       "layout": {
        "title": "Distribution of github project",
        "xaxis": {
         "title": "github project"
        },
        "yaxis": {
         "title": "Population"
        }
       }
      },
      "text/html": [
       "<div id=\"c2ad9641-2341-47a4-bcc2-e0c805b7b963\" style=\"height: 525px; width: 100%;\" class=\"plotly-graph-div\"></div><script type=\"text/javascript\">require([\"plotly\"], function(Plotly) { window.PLOTLYENV=window.PLOTLYENV || {};window.PLOTLYENV.BASE_URL=\"https://plot.ly\";Plotly.newPlot(\"c2ad9641-2341-47a4-bcc2-e0c805b7b963\", [{\"type\": \"histogram\", \"x\": [1, 1, 1, 0, 1, 1, 1, 1, 1]}], {\"xaxis\": {\"title\": \"github project\"}, \"title\": \"Distribution of github project\", \"yaxis\": {\"title\": \"Population\"}}, {\"showLink\": true, \"linkText\": \"Export to plot.ly\"})});</script>"
      ],
      "text/vnd.plotly.v1+html": [
       "<div id=\"c2ad9641-2341-47a4-bcc2-e0c805b7b963\" style=\"height: 525px; width: 100%;\" class=\"plotly-graph-div\"></div><script type=\"text/javascript\">require([\"plotly\"], function(Plotly) { window.PLOTLYENV=window.PLOTLYENV || {};window.PLOTLYENV.BASE_URL=\"https://plot.ly\";Plotly.newPlot(\"c2ad9641-2341-47a4-bcc2-e0c805b7b963\", [{\"type\": \"histogram\", \"x\": [1, 1, 1, 0, 1, 1, 1, 1, 1]}], {\"xaxis\": {\"title\": \"github project\"}, \"title\": \"Distribution of github project\", \"yaxis\": {\"title\": \"Population\"}}, {\"showLink\": true, \"linkText\": \"Export to plot.ly\"})});</script>"
      ]
     },
     "metadata": {},
     "output_type": "display_data"
    },
    {
     "data": {
      "application/vnd.plotly.v1+json": {
       "data": [
        {
         "boxpoints": "all",
         "jitter": 0.5,
         "marker": {
          "size": 2
         },
         "name": "Italy(1)",
         "type": "box",
         "y": [
          0
         ]
        },
        {
         "boxpoints": "all",
         "jitter": 0.5,
         "marker": {
          "size": 2
         },
         "name": "India(1)",
         "type": "box",
         "y": [
          0
         ]
        },
        {
         "boxpoints": "all",
         "jitter": 0.5,
         "marker": {
          "size": 2
         },
         "name": "United States(1)",
         "type": "box",
         "y": [
          0
         ]
        },
        {
         "boxpoints": "all",
         "jitter": 0.5,
         "marker": {
          "size": 2
         },
         "name": "Serbia(1)",
         "type": "box",
         "y": [
          0
         ]
        },
        {
         "boxpoints": "all",
         "jitter": 0.5,
         "marker": {
          "size": 2
         },
         "name": "Mexico(1)",
         "type": "box",
         "y": [
          0
         ]
        },
        {
         "boxpoints": "all",
         "jitter": 0.5,
         "marker": {
          "size": 2
         },
         "name": "Germany(2)",
         "type": "box",
         "y": [
          0,
          0
         ]
        },
        {
         "boxpoints": "all",
         "jitter": 0.5,
         "marker": {
          "size": 2
         },
         "name": "Canada(1)",
         "type": "box",
         "y": [
          0
         ]
        },
        {
         "boxpoints": "all",
         "jitter": 0.5,
         "marker": {
          "size": 2
         },
         "name": "France(1)",
         "type": "box",
         "y": [
          0
         ]
        }
       ],
       "layout": {
        "title": "country vs bugzilla project",
        "xaxis": {
         "title": "country"
        },
        "yaxis": {
         "title": "bugzilla project"
        }
       }
      },
      "text/html": [
       "<div id=\"eed03397-e89a-499f-bbe2-df05cacdbfaf\" style=\"height: 525px; width: 100%;\" class=\"plotly-graph-div\"></div><script type=\"text/javascript\">require([\"plotly\"], function(Plotly) { window.PLOTLYENV=window.PLOTLYENV || {};window.PLOTLYENV.BASE_URL=\"https://plot.ly\";Plotly.newPlot(\"eed03397-e89a-499f-bbe2-df05cacdbfaf\", [{\"type\": \"box\", \"boxpoints\": \"all\", \"name\": \"Italy(1)\", \"marker\": {\"size\": 2}, \"y\": [0], \"jitter\": 0.5}, {\"type\": \"box\", \"boxpoints\": \"all\", \"name\": \"India(1)\", \"marker\": {\"size\": 2}, \"y\": [0], \"jitter\": 0.5}, {\"type\": \"box\", \"boxpoints\": \"all\", \"name\": \"United States(1)\", \"marker\": {\"size\": 2}, \"y\": [0], \"jitter\": 0.5}, {\"type\": \"box\", \"boxpoints\": \"all\", \"name\": \"Serbia(1)\", \"marker\": {\"size\": 2}, \"y\": [0], \"jitter\": 0.5}, {\"type\": \"box\", \"boxpoints\": \"all\", \"name\": \"Mexico(1)\", \"marker\": {\"size\": 2}, \"y\": [0], \"jitter\": 0.5}, {\"type\": \"box\", \"boxpoints\": \"all\", \"name\": \"Germany(2)\", \"marker\": {\"size\": 2}, \"y\": [0, 0], \"jitter\": 0.5}, {\"type\": \"box\", \"boxpoints\": \"all\", \"name\": \"Canada(1)\", \"marker\": {\"size\": 2}, \"y\": [0], \"jitter\": 0.5}, {\"type\": \"box\", \"boxpoints\": \"all\", \"name\": \"France(1)\", \"marker\": {\"size\": 2}, \"y\": [0], \"jitter\": 0.5}], {\"xaxis\": {\"title\": \"country\"}, \"title\": \"country vs bugzilla project\", \"yaxis\": {\"title\": \"bugzilla project\"}}, {\"showLink\": true, \"linkText\": \"Export to plot.ly\"})});</script>"
      ],
      "text/vnd.plotly.v1+html": [
       "<div id=\"eed03397-e89a-499f-bbe2-df05cacdbfaf\" style=\"height: 525px; width: 100%;\" class=\"plotly-graph-div\"></div><script type=\"text/javascript\">require([\"plotly\"], function(Plotly) { window.PLOTLYENV=window.PLOTLYENV || {};window.PLOTLYENV.BASE_URL=\"https://plot.ly\";Plotly.newPlot(\"eed03397-e89a-499f-bbe2-df05cacdbfaf\", [{\"type\": \"box\", \"boxpoints\": \"all\", \"name\": \"Italy(1)\", \"marker\": {\"size\": 2}, \"y\": [0], \"jitter\": 0.5}, {\"type\": \"box\", \"boxpoints\": \"all\", \"name\": \"India(1)\", \"marker\": {\"size\": 2}, \"y\": [0], \"jitter\": 0.5}, {\"type\": \"box\", \"boxpoints\": \"all\", \"name\": \"United States(1)\", \"marker\": {\"size\": 2}, \"y\": [0], \"jitter\": 0.5}, {\"type\": \"box\", \"boxpoints\": \"all\", \"name\": \"Serbia(1)\", \"marker\": {\"size\": 2}, \"y\": [0], \"jitter\": 0.5}, {\"type\": \"box\", \"boxpoints\": \"all\", \"name\": \"Mexico(1)\", \"marker\": {\"size\": 2}, \"y\": [0], \"jitter\": 0.5}, {\"type\": \"box\", \"boxpoints\": \"all\", \"name\": \"Germany(2)\", \"marker\": {\"size\": 2}, \"y\": [0, 0], \"jitter\": 0.5}, {\"type\": \"box\", \"boxpoints\": \"all\", \"name\": \"Canada(1)\", \"marker\": {\"size\": 2}, \"y\": [0], \"jitter\": 0.5}, {\"type\": \"box\", \"boxpoints\": \"all\", \"name\": \"France(1)\", \"marker\": {\"size\": 2}, \"y\": [0], \"jitter\": 0.5}], {\"xaxis\": {\"title\": \"country\"}, \"title\": \"country vs bugzilla project\", \"yaxis\": {\"title\": \"bugzilla project\"}}, {\"showLink\": true, \"linkText\": \"Export to plot.ly\"})});</script>"
      ]
     },
     "metadata": {},
     "output_type": "display_data"
    },
    {
     "data": {
      "application/vnd.plotly.v1+json": {
       "data": [
        {
         "labels": [
          "Italy",
          "India",
          "United States",
          "Serbia",
          "Mexico",
          "Germany",
          "Canada",
          "France"
         ],
         "type": "pie",
         "values": [
          1,
          1,
          1,
          1,
          1,
          2,
          1,
          1
         ]
        }
       ],
       "layout": {
        "title": "Population Distribution of country"
       }
      },
      "text/html": [
       "<div id=\"fcf7f217-12e3-48b3-bdc1-ac8bfd06d813\" style=\"height: 525px; width: 100%;\" class=\"plotly-graph-div\"></div><script type=\"text/javascript\">require([\"plotly\"], function(Plotly) { window.PLOTLYENV=window.PLOTLYENV || {};window.PLOTLYENV.BASE_URL=\"https://plot.ly\";Plotly.newPlot(\"fcf7f217-12e3-48b3-bdc1-ac8bfd06d813\", [{\"type\": \"pie\", \"values\": [1, 1, 1, 1, 1, 2, 1, 1], \"labels\": [\"Italy\", \"India\", \"United States\", \"Serbia\", \"Mexico\", \"Germany\", \"Canada\", \"France\"]}], {\"title\": \"Population Distribution of country\"}, {\"showLink\": true, \"linkText\": \"Export to plot.ly\"})});</script>"
      ],
      "text/vnd.plotly.v1+html": [
       "<div id=\"fcf7f217-12e3-48b3-bdc1-ac8bfd06d813\" style=\"height: 525px; width: 100%;\" class=\"plotly-graph-div\"></div><script type=\"text/javascript\">require([\"plotly\"], function(Plotly) { window.PLOTLYENV=window.PLOTLYENV || {};window.PLOTLYENV.BASE_URL=\"https://plot.ly\";Plotly.newPlot(\"fcf7f217-12e3-48b3-bdc1-ac8bfd06d813\", [{\"type\": \"pie\", \"values\": [1, 1, 1, 1, 1, 2, 1, 1], \"labels\": [\"Italy\", \"India\", \"United States\", \"Serbia\", \"Mexico\", \"Germany\", \"Canada\", \"France\"]}], {\"title\": \"Population Distribution of country\"}, {\"showLink\": true, \"linkText\": \"Export to plot.ly\"})});</script>"
      ]
     },
     "metadata": {},
     "output_type": "display_data"
    },
    {
     "data": {
      "application/vnd.plotly.v1+json": {
       "data": [
        {
         "type": "histogram",
         "x": [
          0,
          0,
          0,
          0,
          0,
          0,
          0,
          0,
          0
         ]
        }
       ],
       "layout": {
        "title": "Distribution of bugzilla project",
        "xaxis": {
         "title": "bugzilla project"
        },
        "yaxis": {
         "title": "Population"
        }
       }
      },
      "text/html": [
       "<div id=\"a1499d7c-fd46-4eaa-ab87-53f494e92181\" style=\"height: 525px; width: 100%;\" class=\"plotly-graph-div\"></div><script type=\"text/javascript\">require([\"plotly\"], function(Plotly) { window.PLOTLYENV=window.PLOTLYENV || {};window.PLOTLYENV.BASE_URL=\"https://plot.ly\";Plotly.newPlot(\"a1499d7c-fd46-4eaa-ab87-53f494e92181\", [{\"type\": \"histogram\", \"x\": [0, 0, 0, 0, 0, 0, 0, 0, 0]}], {\"xaxis\": {\"title\": \"bugzilla project\"}, \"title\": \"Distribution of bugzilla project\", \"yaxis\": {\"title\": \"Population\"}}, {\"showLink\": true, \"linkText\": \"Export to plot.ly\"})});</script>"
      ],
      "text/vnd.plotly.v1+html": [
       "<div id=\"a1499d7c-fd46-4eaa-ab87-53f494e92181\" style=\"height: 525px; width: 100%;\" class=\"plotly-graph-div\"></div><script type=\"text/javascript\">require([\"plotly\"], function(Plotly) { window.PLOTLYENV=window.PLOTLYENV || {};window.PLOTLYENV.BASE_URL=\"https://plot.ly\";Plotly.newPlot(\"a1499d7c-fd46-4eaa-ab87-53f494e92181\", [{\"type\": \"histogram\", \"x\": [0, 0, 0, 0, 0, 0, 0, 0, 0]}], {\"xaxis\": {\"title\": \"bugzilla project\"}, \"title\": \"Distribution of bugzilla project\", \"yaxis\": {\"title\": \"Population\"}}, {\"showLink\": true, \"linkText\": \"Export to plot.ly\"})});</script>"
      ]
     },
     "metadata": {},
     "output_type": "display_data"
    },
    {
     "data": {
      "application/vnd.plotly.v1+json": {
       "data": [
        {
         "boxpoints": "all",
         "jitter": 0.5,
         "marker": {
          "size": 2
         },
         "name": "Italy(1)",
         "type": "box",
         "y": [
          0
         ]
        },
        {
         "boxpoints": "all",
         "jitter": 0.5,
         "marker": {
          "size": 2
         },
         "name": "India(1)",
         "type": "box",
         "y": [
          0
         ]
        },
        {
         "boxpoints": "all",
         "jitter": 0.5,
         "marker": {
          "size": 2
         },
         "name": "United States(1)",
         "type": "box",
         "y": [
          0
         ]
        },
        {
         "boxpoints": "all",
         "jitter": 0.5,
         "marker": {
          "size": 2
         },
         "name": "Serbia(1)",
         "type": "box",
         "y": [
          0
         ]
        },
        {
         "boxpoints": "all",
         "jitter": 0.5,
         "marker": {
          "size": 2
         },
         "name": "Mexico(1)",
         "type": "box",
         "y": [
          0
         ]
        },
        {
         "boxpoints": "all",
         "jitter": 0.5,
         "marker": {
          "size": 2
         },
         "name": "Germany(2)",
         "type": "box",
         "y": [
          0,
          0
         ]
        },
        {
         "boxpoints": "all",
         "jitter": 0.5,
         "marker": {
          "size": 2
         },
         "name": "Canada(1)",
         "type": "box",
         "y": [
          0
         ]
        },
        {
         "boxpoints": "all",
         "jitter": 0.5,
         "marker": {
          "size": 2
         },
         "name": "France(1)",
         "type": "box",
         "y": [
          0
         ]
        }
       ],
       "layout": {
        "title": "country vs mbox project",
        "xaxis": {
         "title": "country"
        },
        "yaxis": {
         "title": "mbox project"
        }
       }
      },
      "text/html": [
       "<div id=\"bb22bc11-c057-48ef-8812-1a8f80ec8d6f\" style=\"height: 525px; width: 100%;\" class=\"plotly-graph-div\"></div><script type=\"text/javascript\">require([\"plotly\"], function(Plotly) { window.PLOTLYENV=window.PLOTLYENV || {};window.PLOTLYENV.BASE_URL=\"https://plot.ly\";Plotly.newPlot(\"bb22bc11-c057-48ef-8812-1a8f80ec8d6f\", [{\"type\": \"box\", \"boxpoints\": \"all\", \"name\": \"Italy(1)\", \"marker\": {\"size\": 2}, \"y\": [0], \"jitter\": 0.5}, {\"type\": \"box\", \"boxpoints\": \"all\", \"name\": \"India(1)\", \"marker\": {\"size\": 2}, \"y\": [0], \"jitter\": 0.5}, {\"type\": \"box\", \"boxpoints\": \"all\", \"name\": \"United States(1)\", \"marker\": {\"size\": 2}, \"y\": [0], \"jitter\": 0.5}, {\"type\": \"box\", \"boxpoints\": \"all\", \"name\": \"Serbia(1)\", \"marker\": {\"size\": 2}, \"y\": [0], \"jitter\": 0.5}, {\"type\": \"box\", \"boxpoints\": \"all\", \"name\": \"Mexico(1)\", \"marker\": {\"size\": 2}, \"y\": [0], \"jitter\": 0.5}, {\"type\": \"box\", \"boxpoints\": \"all\", \"name\": \"Germany(2)\", \"marker\": {\"size\": 2}, \"y\": [0, 0], \"jitter\": 0.5}, {\"type\": \"box\", \"boxpoints\": \"all\", \"name\": \"Canada(1)\", \"marker\": {\"size\": 2}, \"y\": [0], \"jitter\": 0.5}, {\"type\": \"box\", \"boxpoints\": \"all\", \"name\": \"France(1)\", \"marker\": {\"size\": 2}, \"y\": [0], \"jitter\": 0.5}], {\"xaxis\": {\"title\": \"country\"}, \"title\": \"country vs mbox project\", \"yaxis\": {\"title\": \"mbox project\"}}, {\"showLink\": true, \"linkText\": \"Export to plot.ly\"})});</script>"
      ],
      "text/vnd.plotly.v1+html": [
       "<div id=\"bb22bc11-c057-48ef-8812-1a8f80ec8d6f\" style=\"height: 525px; width: 100%;\" class=\"plotly-graph-div\"></div><script type=\"text/javascript\">require([\"plotly\"], function(Plotly) { window.PLOTLYENV=window.PLOTLYENV || {};window.PLOTLYENV.BASE_URL=\"https://plot.ly\";Plotly.newPlot(\"bb22bc11-c057-48ef-8812-1a8f80ec8d6f\", [{\"type\": \"box\", \"boxpoints\": \"all\", \"name\": \"Italy(1)\", \"marker\": {\"size\": 2}, \"y\": [0], \"jitter\": 0.5}, {\"type\": \"box\", \"boxpoints\": \"all\", \"name\": \"India(1)\", \"marker\": {\"size\": 2}, \"y\": [0], \"jitter\": 0.5}, {\"type\": \"box\", \"boxpoints\": \"all\", \"name\": \"United States(1)\", \"marker\": {\"size\": 2}, \"y\": [0], \"jitter\": 0.5}, {\"type\": \"box\", \"boxpoints\": \"all\", \"name\": \"Serbia(1)\", \"marker\": {\"size\": 2}, \"y\": [0], \"jitter\": 0.5}, {\"type\": \"box\", \"boxpoints\": \"all\", \"name\": \"Mexico(1)\", \"marker\": {\"size\": 2}, \"y\": [0], \"jitter\": 0.5}, {\"type\": \"box\", \"boxpoints\": \"all\", \"name\": \"Germany(2)\", \"marker\": {\"size\": 2}, \"y\": [0, 0], \"jitter\": 0.5}, {\"type\": \"box\", \"boxpoints\": \"all\", \"name\": \"Canada(1)\", \"marker\": {\"size\": 2}, \"y\": [0], \"jitter\": 0.5}, {\"type\": \"box\", \"boxpoints\": \"all\", \"name\": \"France(1)\", \"marker\": {\"size\": 2}, \"y\": [0], \"jitter\": 0.5}], {\"xaxis\": {\"title\": \"country\"}, \"title\": \"country vs mbox project\", \"yaxis\": {\"title\": \"mbox project\"}}, {\"showLink\": true, \"linkText\": \"Export to plot.ly\"})});</script>"
      ]
     },
     "metadata": {},
     "output_type": "display_data"
    },
    {
     "data": {
      "application/vnd.plotly.v1+json": {
       "data": [
        {
         "labels": [
          "Italy",
          "India",
          "United States",
          "Serbia",
          "Mexico",
          "Germany",
          "Canada",
          "France"
         ],
         "type": "pie",
         "values": [
          1,
          1,
          1,
          1,
          1,
          2,
          1,
          1
         ]
        }
       ],
       "layout": {
        "title": "Population Distribution of country"
       }
      },
      "text/html": [
       "<div id=\"35880d26-b12d-4fb7-9a20-9f8adc764517\" style=\"height: 525px; width: 100%;\" class=\"plotly-graph-div\"></div><script type=\"text/javascript\">require([\"plotly\"], function(Plotly) { window.PLOTLYENV=window.PLOTLYENV || {};window.PLOTLYENV.BASE_URL=\"https://plot.ly\";Plotly.newPlot(\"35880d26-b12d-4fb7-9a20-9f8adc764517\", [{\"type\": \"pie\", \"values\": [1, 1, 1, 1, 1, 2, 1, 1], \"labels\": [\"Italy\", \"India\", \"United States\", \"Serbia\", \"Mexico\", \"Germany\", \"Canada\", \"France\"]}], {\"title\": \"Population Distribution of country\"}, {\"showLink\": true, \"linkText\": \"Export to plot.ly\"})});</script>"
      ],
      "text/vnd.plotly.v1+html": [
       "<div id=\"35880d26-b12d-4fb7-9a20-9f8adc764517\" style=\"height: 525px; width: 100%;\" class=\"plotly-graph-div\"></div><script type=\"text/javascript\">require([\"plotly\"], function(Plotly) { window.PLOTLYENV=window.PLOTLYENV || {};window.PLOTLYENV.BASE_URL=\"https://plot.ly\";Plotly.newPlot(\"35880d26-b12d-4fb7-9a20-9f8adc764517\", [{\"type\": \"pie\", \"values\": [1, 1, 1, 1, 1, 2, 1, 1], \"labels\": [\"Italy\", \"India\", \"United States\", \"Serbia\", \"Mexico\", \"Germany\", \"Canada\", \"France\"]}], {\"title\": \"Population Distribution of country\"}, {\"showLink\": true, \"linkText\": \"Export to plot.ly\"})});</script>"
      ]
     },
     "metadata": {},
     "output_type": "display_data"
    },
    {
     "data": {
      "application/vnd.plotly.v1+json": {
       "data": [
        {
         "type": "histogram",
         "x": [
          0,
          0,
          0,
          0,
          0,
          0,
          0,
          0,
          0
         ]
        }
       ],
       "layout": {
        "title": "Distribution of mbox project",
        "xaxis": {
         "title": "mbox project"
        },
        "yaxis": {
         "title": "Population"
        }
       }
      },
      "text/html": [
       "<div id=\"ab646baa-38cc-463d-8a40-9e6b1f2b2905\" style=\"height: 525px; width: 100%;\" class=\"plotly-graph-div\"></div><script type=\"text/javascript\">require([\"plotly\"], function(Plotly) { window.PLOTLYENV=window.PLOTLYENV || {};window.PLOTLYENV.BASE_URL=\"https://plot.ly\";Plotly.newPlot(\"ab646baa-38cc-463d-8a40-9e6b1f2b2905\", [{\"type\": \"histogram\", \"x\": [0, 0, 0, 0, 0, 0, 0, 0, 0]}], {\"xaxis\": {\"title\": \"mbox project\"}, \"title\": \"Distribution of mbox project\", \"yaxis\": {\"title\": \"Population\"}}, {\"showLink\": true, \"linkText\": \"Export to plot.ly\"})});</script>"
      ],
      "text/vnd.plotly.v1+html": [
       "<div id=\"ab646baa-38cc-463d-8a40-9e6b1f2b2905\" style=\"height: 525px; width: 100%;\" class=\"plotly-graph-div\"></div><script type=\"text/javascript\">require([\"plotly\"], function(Plotly) { window.PLOTLYENV=window.PLOTLYENV || {};window.PLOTLYENV.BASE_URL=\"https://plot.ly\";Plotly.newPlot(\"ab646baa-38cc-463d-8a40-9e6b1f2b2905\", [{\"type\": \"histogram\", \"x\": [0, 0, 0, 0, 0, 0, 0, 0, 0]}], {\"xaxis\": {\"title\": \"mbox project\"}, \"title\": \"Distribution of mbox project\", \"yaxis\": {\"title\": \"Population\"}}, {\"showLink\": true, \"linkText\": \"Export to plot.ly\"})});</script>"
      ]
     },
     "metadata": {},
     "output_type": "display_data"
    },
    {
     "data": {
      "application/vnd.plotly.v1+json": {
       "data": [
        {
         "boxpoints": "all",
         "jitter": 0.5,
         "marker": {
          "size": 2
         },
         "name": "Italy(1)",
         "type": "box",
         "y": [
          0
         ]
        },
        {
         "boxpoints": "all",
         "jitter": 0.5,
         "marker": {
          "size": 2
         },
         "name": "India(1)",
         "type": "box",
         "y": [
          0
         ]
        },
        {
         "boxpoints": "all",
         "jitter": 0.5,
         "marker": {
          "size": 2
         },
         "name": "United States(1)",
         "type": "box",
         "y": [
          0
         ]
        },
        {
         "boxpoints": "all",
         "jitter": 0.5,
         "marker": {
          "size": 2
         },
         "name": "Serbia(1)",
         "type": "box",
         "y": [
          1
         ]
        },
        {
         "boxpoints": "all",
         "jitter": 0.5,
         "marker": {
          "size": 2
         },
         "name": "Mexico(1)",
         "type": "box",
         "y": [
          0
         ]
        },
        {
         "boxpoints": "all",
         "jitter": 0.5,
         "marker": {
          "size": 2
         },
         "name": "Germany(2)",
         "type": "box",
         "y": [
          0,
          0
         ]
        },
        {
         "boxpoints": "all",
         "jitter": 0.5,
         "marker": {
          "size": 2
         },
         "name": "Canada(1)",
         "type": "box",
         "y": [
          0
         ]
        },
        {
         "boxpoints": "all",
         "jitter": 0.5,
         "marker": {
          "size": 2
         },
         "name": "France(1)",
         "type": "box",
         "y": [
          0
         ]
        }
       ],
       "layout": {
        "title": "country vs discourse project",
        "xaxis": {
         "title": "country"
        },
        "yaxis": {
         "title": "discourse project"
        }
       }
      },
      "text/html": [
       "<div id=\"3476847a-cecc-4593-ae34-5ac22ec62f55\" style=\"height: 525px; width: 100%;\" class=\"plotly-graph-div\"></div><script type=\"text/javascript\">require([\"plotly\"], function(Plotly) { window.PLOTLYENV=window.PLOTLYENV || {};window.PLOTLYENV.BASE_URL=\"https://plot.ly\";Plotly.newPlot(\"3476847a-cecc-4593-ae34-5ac22ec62f55\", [{\"type\": \"box\", \"boxpoints\": \"all\", \"name\": \"Italy(1)\", \"marker\": {\"size\": 2}, \"y\": [0], \"jitter\": 0.5}, {\"type\": \"box\", \"boxpoints\": \"all\", \"name\": \"India(1)\", \"marker\": {\"size\": 2}, \"y\": [0], \"jitter\": 0.5}, {\"type\": \"box\", \"boxpoints\": \"all\", \"name\": \"United States(1)\", \"marker\": {\"size\": 2}, \"y\": [0], \"jitter\": 0.5}, {\"type\": \"box\", \"boxpoints\": \"all\", \"name\": \"Serbia(1)\", \"marker\": {\"size\": 2}, \"y\": [1], \"jitter\": 0.5}, {\"type\": \"box\", \"boxpoints\": \"all\", \"name\": \"Mexico(1)\", \"marker\": {\"size\": 2}, \"y\": [0], \"jitter\": 0.5}, {\"type\": \"box\", \"boxpoints\": \"all\", \"name\": \"Germany(2)\", \"marker\": {\"size\": 2}, \"y\": [0, 0], \"jitter\": 0.5}, {\"type\": \"box\", \"boxpoints\": \"all\", \"name\": \"Canada(1)\", \"marker\": {\"size\": 2}, \"y\": [0], \"jitter\": 0.5}, {\"type\": \"box\", \"boxpoints\": \"all\", \"name\": \"France(1)\", \"marker\": {\"size\": 2}, \"y\": [0], \"jitter\": 0.5}], {\"xaxis\": {\"title\": \"country\"}, \"title\": \"country vs discourse project\", \"yaxis\": {\"title\": \"discourse project\"}}, {\"showLink\": true, \"linkText\": \"Export to plot.ly\"})});</script>"
      ],
      "text/vnd.plotly.v1+html": [
       "<div id=\"3476847a-cecc-4593-ae34-5ac22ec62f55\" style=\"height: 525px; width: 100%;\" class=\"plotly-graph-div\"></div><script type=\"text/javascript\">require([\"plotly\"], function(Plotly) { window.PLOTLYENV=window.PLOTLYENV || {};window.PLOTLYENV.BASE_URL=\"https://plot.ly\";Plotly.newPlot(\"3476847a-cecc-4593-ae34-5ac22ec62f55\", [{\"type\": \"box\", \"boxpoints\": \"all\", \"name\": \"Italy(1)\", \"marker\": {\"size\": 2}, \"y\": [0], \"jitter\": 0.5}, {\"type\": \"box\", \"boxpoints\": \"all\", \"name\": \"India(1)\", \"marker\": {\"size\": 2}, \"y\": [0], \"jitter\": 0.5}, {\"type\": \"box\", \"boxpoints\": \"all\", \"name\": \"United States(1)\", \"marker\": {\"size\": 2}, \"y\": [0], \"jitter\": 0.5}, {\"type\": \"box\", \"boxpoints\": \"all\", \"name\": \"Serbia(1)\", \"marker\": {\"size\": 2}, \"y\": [1], \"jitter\": 0.5}, {\"type\": \"box\", \"boxpoints\": \"all\", \"name\": \"Mexico(1)\", \"marker\": {\"size\": 2}, \"y\": [0], \"jitter\": 0.5}, {\"type\": \"box\", \"boxpoints\": \"all\", \"name\": \"Germany(2)\", \"marker\": {\"size\": 2}, \"y\": [0, 0], \"jitter\": 0.5}, {\"type\": \"box\", \"boxpoints\": \"all\", \"name\": \"Canada(1)\", \"marker\": {\"size\": 2}, \"y\": [0], \"jitter\": 0.5}, {\"type\": \"box\", \"boxpoints\": \"all\", \"name\": \"France(1)\", \"marker\": {\"size\": 2}, \"y\": [0], \"jitter\": 0.5}], {\"xaxis\": {\"title\": \"country\"}, \"title\": \"country vs discourse project\", \"yaxis\": {\"title\": \"discourse project\"}}, {\"showLink\": true, \"linkText\": \"Export to plot.ly\"})});</script>"
      ]
     },
     "metadata": {},
     "output_type": "display_data"
    },
    {
     "data": {
      "application/vnd.plotly.v1+json": {
       "data": [
        {
         "labels": [
          "Italy",
          "India",
          "United States",
          "Serbia",
          "Mexico",
          "Germany",
          "Canada",
          "France"
         ],
         "type": "pie",
         "values": [
          1,
          1,
          1,
          1,
          1,
          2,
          1,
          1
         ]
        }
       ],
       "layout": {
        "title": "Population Distribution of country"
       }
      },
      "text/html": [
       "<div id=\"0cd7d0aa-bf32-46ed-abb8-be5d57157f0c\" style=\"height: 525px; width: 100%;\" class=\"plotly-graph-div\"></div><script type=\"text/javascript\">require([\"plotly\"], function(Plotly) { window.PLOTLYENV=window.PLOTLYENV || {};window.PLOTLYENV.BASE_URL=\"https://plot.ly\";Plotly.newPlot(\"0cd7d0aa-bf32-46ed-abb8-be5d57157f0c\", [{\"type\": \"pie\", \"values\": [1, 1, 1, 1, 1, 2, 1, 1], \"labels\": [\"Italy\", \"India\", \"United States\", \"Serbia\", \"Mexico\", \"Germany\", \"Canada\", \"France\"]}], {\"title\": \"Population Distribution of country\"}, {\"showLink\": true, \"linkText\": \"Export to plot.ly\"})});</script>"
      ],
      "text/vnd.plotly.v1+html": [
       "<div id=\"0cd7d0aa-bf32-46ed-abb8-be5d57157f0c\" style=\"height: 525px; width: 100%;\" class=\"plotly-graph-div\"></div><script type=\"text/javascript\">require([\"plotly\"], function(Plotly) { window.PLOTLYENV=window.PLOTLYENV || {};window.PLOTLYENV.BASE_URL=\"https://plot.ly\";Plotly.newPlot(\"0cd7d0aa-bf32-46ed-abb8-be5d57157f0c\", [{\"type\": \"pie\", \"values\": [1, 1, 1, 1, 1, 2, 1, 1], \"labels\": [\"Italy\", \"India\", \"United States\", \"Serbia\", \"Mexico\", \"Germany\", \"Canada\", \"France\"]}], {\"title\": \"Population Distribution of country\"}, {\"showLink\": true, \"linkText\": \"Export to plot.ly\"})});</script>"
      ]
     },
     "metadata": {},
     "output_type": "display_data"
    },
    {
     "data": {
      "application/vnd.plotly.v1+json": {
       "data": [
        {
         "type": "histogram",
         "x": [
          0,
          0,
          0,
          1,
          0,
          0,
          0,
          0,
          0
         ]
        }
       ],
       "layout": {
        "title": "Distribution of discourse project",
        "xaxis": {
         "title": "discourse project"
        },
        "yaxis": {
         "title": "Population"
        }
       }
      },
      "text/html": [
       "<div id=\"7c718927-ea35-4f95-8a9e-25237bc758c2\" style=\"height: 525px; width: 100%;\" class=\"plotly-graph-div\"></div><script type=\"text/javascript\">require([\"plotly\"], function(Plotly) { window.PLOTLYENV=window.PLOTLYENV || {};window.PLOTLYENV.BASE_URL=\"https://plot.ly\";Plotly.newPlot(\"7c718927-ea35-4f95-8a9e-25237bc758c2\", [{\"type\": \"histogram\", \"x\": [0, 0, 0, 1, 0, 0, 0, 0, 0]}], {\"xaxis\": {\"title\": \"discourse project\"}, \"title\": \"Distribution of discourse project\", \"yaxis\": {\"title\": \"Population\"}}, {\"showLink\": true, \"linkText\": \"Export to plot.ly\"})});</script>"
      ],
      "text/vnd.plotly.v1+html": [
       "<div id=\"7c718927-ea35-4f95-8a9e-25237bc758c2\" style=\"height: 525px; width: 100%;\" class=\"plotly-graph-div\"></div><script type=\"text/javascript\">require([\"plotly\"], function(Plotly) { window.PLOTLYENV=window.PLOTLYENV || {};window.PLOTLYENV.BASE_URL=\"https://plot.ly\";Plotly.newPlot(\"7c718927-ea35-4f95-8a9e-25237bc758c2\", [{\"type\": \"histogram\", \"x\": [0, 0, 0, 1, 0, 0, 0, 0, 0]}], {\"xaxis\": {\"title\": \"discourse project\"}, \"title\": \"Distribution of discourse project\", \"yaxis\": {\"title\": \"Population\"}}, {\"showLink\": true, \"linkText\": \"Export to plot.ly\"})});</script>"
      ]
     },
     "metadata": {},
     "output_type": "display_data"
    },
    {
     "data": {
      "application/vnd.plotly.v1+json": {
       "data": [
        {
         "boxpoints": "all",
         "jitter": 0.5,
         "marker": {
          "size": 2
         },
         "name": "Italy(1)",
         "type": "box",
         "y": [
          2
         ]
        },
        {
         "boxpoints": "all",
         "jitter": 0.5,
         "marker": {
          "size": 2
         },
         "name": "India(1)",
         "type": "box",
         "y": [
          null
         ]
        },
        {
         "boxpoints": "all",
         "jitter": 0.5,
         "marker": {
          "size": 2
         },
         "name": "United States(1)",
         "type": "box",
         "y": [
          2
         ]
        },
        {
         "boxpoints": "all",
         "jitter": 0.5,
         "marker": {
          "size": 2
         },
         "name": "Serbia(1)",
         "type": "box",
         "y": [
          null
         ]
        },
        {
         "boxpoints": "all",
         "jitter": 0.5,
         "marker": {
          "size": 2
         },
         "name": "Mexico(1)",
         "type": "box",
         "y": [
          null
         ]
        },
        {
         "boxpoints": "all",
         "jitter": 0.5,
         "marker": {
          "size": 2
         },
         "name": "Germany(2)",
         "type": "box",
         "y": [
          2,
          1
         ]
        },
        {
         "boxpoints": "all",
         "jitter": 0.5,
         "marker": {
          "size": 2
         },
         "name": "Canada(1)",
         "type": "box",
         "y": [
          1
         ]
        },
        {
         "boxpoints": "all",
         "jitter": 0.5,
         "marker": {
          "size": 2
         },
         "name": "France(1)",
         "type": "box",
         "y": [
          3
         ]
        }
       ],
       "layout": {
        "title": "country vs exp",
        "xaxis": {
         "title": "country"
        },
        "yaxis": {
         "title": "exp"
        }
       }
      },
      "text/html": [
       "<div id=\"781d0b0e-1f5b-4252-9de9-3597a656cdd3\" style=\"height: 525px; width: 100%;\" class=\"plotly-graph-div\"></div><script type=\"text/javascript\">require([\"plotly\"], function(Plotly) { window.PLOTLYENV=window.PLOTLYENV || {};window.PLOTLYENV.BASE_URL=\"https://plot.ly\";Plotly.newPlot(\"781d0b0e-1f5b-4252-9de9-3597a656cdd3\", [{\"type\": \"box\", \"boxpoints\": \"all\", \"name\": \"Italy(1)\", \"marker\": {\"size\": 2}, \"y\": [2.0], \"jitter\": 0.5}, {\"type\": \"box\", \"boxpoints\": \"all\", \"name\": \"India(1)\", \"marker\": {\"size\": 2}, \"y\": [null], \"jitter\": 0.5}, {\"type\": \"box\", \"boxpoints\": \"all\", \"name\": \"United States(1)\", \"marker\": {\"size\": 2}, \"y\": [2.0], \"jitter\": 0.5}, {\"type\": \"box\", \"boxpoints\": \"all\", \"name\": \"Serbia(1)\", \"marker\": {\"size\": 2}, \"y\": [null], \"jitter\": 0.5}, {\"type\": \"box\", \"boxpoints\": \"all\", \"name\": \"Mexico(1)\", \"marker\": {\"size\": 2}, \"y\": [null], \"jitter\": 0.5}, {\"type\": \"box\", \"boxpoints\": \"all\", \"name\": \"Germany(2)\", \"marker\": {\"size\": 2}, \"y\": [2.0, 1.0], \"jitter\": 0.5}, {\"type\": \"box\", \"boxpoints\": \"all\", \"name\": \"Canada(1)\", \"marker\": {\"size\": 2}, \"y\": [1.0], \"jitter\": 0.5}, {\"type\": \"box\", \"boxpoints\": \"all\", \"name\": \"France(1)\", \"marker\": {\"size\": 2}, \"y\": [3.0], \"jitter\": 0.5}], {\"xaxis\": {\"title\": \"country\"}, \"title\": \"country vs exp\", \"yaxis\": {\"title\": \"exp\"}}, {\"showLink\": true, \"linkText\": \"Export to plot.ly\"})});</script>"
      ],
      "text/vnd.plotly.v1+html": [
       "<div id=\"781d0b0e-1f5b-4252-9de9-3597a656cdd3\" style=\"height: 525px; width: 100%;\" class=\"plotly-graph-div\"></div><script type=\"text/javascript\">require([\"plotly\"], function(Plotly) { window.PLOTLYENV=window.PLOTLYENV || {};window.PLOTLYENV.BASE_URL=\"https://plot.ly\";Plotly.newPlot(\"781d0b0e-1f5b-4252-9de9-3597a656cdd3\", [{\"type\": \"box\", \"boxpoints\": \"all\", \"name\": \"Italy(1)\", \"marker\": {\"size\": 2}, \"y\": [2.0], \"jitter\": 0.5}, {\"type\": \"box\", \"boxpoints\": \"all\", \"name\": \"India(1)\", \"marker\": {\"size\": 2}, \"y\": [null], \"jitter\": 0.5}, {\"type\": \"box\", \"boxpoints\": \"all\", \"name\": \"United States(1)\", \"marker\": {\"size\": 2}, \"y\": [2.0], \"jitter\": 0.5}, {\"type\": \"box\", \"boxpoints\": \"all\", \"name\": \"Serbia(1)\", \"marker\": {\"size\": 2}, \"y\": [null], \"jitter\": 0.5}, {\"type\": \"box\", \"boxpoints\": \"all\", \"name\": \"Mexico(1)\", \"marker\": {\"size\": 2}, \"y\": [null], \"jitter\": 0.5}, {\"type\": \"box\", \"boxpoints\": \"all\", \"name\": \"Germany(2)\", \"marker\": {\"size\": 2}, \"y\": [2.0, 1.0], \"jitter\": 0.5}, {\"type\": \"box\", \"boxpoints\": \"all\", \"name\": \"Canada(1)\", \"marker\": {\"size\": 2}, \"y\": [1.0], \"jitter\": 0.5}, {\"type\": \"box\", \"boxpoints\": \"all\", \"name\": \"France(1)\", \"marker\": {\"size\": 2}, \"y\": [3.0], \"jitter\": 0.5}], {\"xaxis\": {\"title\": \"country\"}, \"title\": \"country vs exp\", \"yaxis\": {\"title\": \"exp\"}}, {\"showLink\": true, \"linkText\": \"Export to plot.ly\"})});</script>"
      ]
     },
     "metadata": {},
     "output_type": "display_data"
    },
    {
     "data": {
      "application/vnd.plotly.v1+json": {
       "data": [
        {
         "labels": [
          "Italy",
          "India",
          "United States",
          "Serbia",
          "Mexico",
          "Germany",
          "Canada",
          "France"
         ],
         "type": "pie",
         "values": [
          1,
          1,
          1,
          1,
          1,
          2,
          1,
          1
         ]
        }
       ],
       "layout": {
        "title": "Population Distribution of country"
       }
      },
      "text/html": [
       "<div id=\"a6334370-7b0b-473d-927b-370d68b900ec\" style=\"height: 525px; width: 100%;\" class=\"plotly-graph-div\"></div><script type=\"text/javascript\">require([\"plotly\"], function(Plotly) { window.PLOTLYENV=window.PLOTLYENV || {};window.PLOTLYENV.BASE_URL=\"https://plot.ly\";Plotly.newPlot(\"a6334370-7b0b-473d-927b-370d68b900ec\", [{\"type\": \"pie\", \"values\": [1, 1, 1, 1, 1, 2, 1, 1], \"labels\": [\"Italy\", \"India\", \"United States\", \"Serbia\", \"Mexico\", \"Germany\", \"Canada\", \"France\"]}], {\"title\": \"Population Distribution of country\"}, {\"showLink\": true, \"linkText\": \"Export to plot.ly\"})});</script>"
      ],
      "text/vnd.plotly.v1+html": [
       "<div id=\"a6334370-7b0b-473d-927b-370d68b900ec\" style=\"height: 525px; width: 100%;\" class=\"plotly-graph-div\"></div><script type=\"text/javascript\">require([\"plotly\"], function(Plotly) { window.PLOTLYENV=window.PLOTLYENV || {};window.PLOTLYENV.BASE_URL=\"https://plot.ly\";Plotly.newPlot(\"a6334370-7b0b-473d-927b-370d68b900ec\", [{\"type\": \"pie\", \"values\": [1, 1, 1, 1, 1, 2, 1, 1], \"labels\": [\"Italy\", \"India\", \"United States\", \"Serbia\", \"Mexico\", \"Germany\", \"Canada\", \"France\"]}], {\"title\": \"Population Distribution of country\"}, {\"showLink\": true, \"linkText\": \"Export to plot.ly\"})});</script>"
      ]
     },
     "metadata": {},
     "output_type": "display_data"
    },
    {
     "data": {
      "application/vnd.plotly.v1+json": {
       "data": [
        {
         "type": "histogram",
         "x": [
          2,
          null,
          2,
          null,
          null,
          2,
          1,
          1,
          3
         ]
        }
       ],
       "layout": {
        "title": "Distribution of exp",
        "xaxis": {
         "title": "exp"
        },
        "yaxis": {
         "title": "Population"
        }
       }
      },
      "text/html": [
       "<div id=\"6a7839a7-249d-4857-8218-fc24c4d787ef\" style=\"height: 525px; width: 100%;\" class=\"plotly-graph-div\"></div><script type=\"text/javascript\">require([\"plotly\"], function(Plotly) { window.PLOTLYENV=window.PLOTLYENV || {};window.PLOTLYENV.BASE_URL=\"https://plot.ly\";Plotly.newPlot(\"6a7839a7-249d-4857-8218-fc24c4d787ef\", [{\"type\": \"histogram\", \"x\": [2.0, null, 2.0, null, null, 2.0, 1.0, 1.0, 3.0]}], {\"xaxis\": {\"title\": \"exp\"}, \"title\": \"Distribution of exp\", \"yaxis\": {\"title\": \"Population\"}}, {\"showLink\": true, \"linkText\": \"Export to plot.ly\"})});</script>"
      ],
      "text/vnd.plotly.v1+html": [
       "<div id=\"6a7839a7-249d-4857-8218-fc24c4d787ef\" style=\"height: 525px; width: 100%;\" class=\"plotly-graph-div\"></div><script type=\"text/javascript\">require([\"plotly\"], function(Plotly) { window.PLOTLYENV=window.PLOTLYENV || {};window.PLOTLYENV.BASE_URL=\"https://plot.ly\";Plotly.newPlot(\"6a7839a7-249d-4857-8218-fc24c4d787ef\", [{\"type\": \"histogram\", \"x\": [2.0, null, 2.0, null, null, 2.0, 1.0, 1.0, 3.0]}], {\"xaxis\": {\"title\": \"exp\"}, \"title\": \"Distribution of exp\", \"yaxis\": {\"title\": \"Population\"}}, {\"showLink\": true, \"linkText\": \"Export to plot.ly\"})});</script>"
      ]
     },
     "metadata": {},
     "output_type": "display_data"
    },
    {
     "data": {
      "application/vnd.plotly.v1+json": {
       "data": [
        {
         "boxpoints": "all",
         "jitter": 0.5,
         "marker": {
          "size": 2
         },
         "name": "Italy(1)",
         "type": "box",
         "y": [
          "2016"
         ]
        },
        {
         "boxpoints": "all",
         "jitter": 0.5,
         "marker": {
          "size": 2
         },
         "name": "India(1)",
         "type": "box",
         "y": [
          null
         ]
        },
        {
         "boxpoints": "all",
         "jitter": 0.5,
         "marker": {
          "size": 2
         },
         "name": "United States(1)",
         "type": "box",
         "y": [
          "2016"
         ]
        },
        {
         "boxpoints": "all",
         "jitter": 0.5,
         "marker": {
          "size": 2
         },
         "name": "Serbia(1)",
         "type": "box",
         "y": [
          null
         ]
        },
        {
         "boxpoints": "all",
         "jitter": 0.5,
         "marker": {
          "size": 2
         },
         "name": "Mexico(1)",
         "type": "box",
         "y": [
          null
         ]
        },
        {
         "boxpoints": "all",
         "jitter": 0.5,
         "marker": {
          "size": 2
         },
         "name": "Germany(2)",
         "type": "box",
         "y": [
          "2016",
          "2017"
         ]
        },
        {
         "boxpoints": "all",
         "jitter": 0.5,
         "marker": {
          "size": 2
         },
         "name": "Canada(1)",
         "type": "box",
         "y": [
          "2016"
         ]
        },
        {
         "boxpoints": "all",
         "jitter": 0.5,
         "marker": {
          "size": 2
         },
         "name": "France(1)",
         "type": "box",
         "y": [
          "2015"
         ]
        }
       ],
       "layout": {
        "title": "country vs first commit",
        "xaxis": {
         "title": "country"
        },
        "yaxis": {
         "title": "first commit"
        }
       }
      },
      "text/html": [
       "<div id=\"2bcff279-d040-4208-8150-be59c5cd2664\" style=\"height: 525px; width: 100%;\" class=\"plotly-graph-div\"></div><script type=\"text/javascript\">require([\"plotly\"], function(Plotly) { window.PLOTLYENV=window.PLOTLYENV || {};window.PLOTLYENV.BASE_URL=\"https://plot.ly\";Plotly.newPlot(\"2bcff279-d040-4208-8150-be59c5cd2664\", [{\"type\": \"box\", \"boxpoints\": \"all\", \"name\": \"Italy(1)\", \"marker\": {\"size\": 2}, \"y\": [\"2016\"], \"jitter\": 0.5}, {\"type\": \"box\", \"boxpoints\": \"all\", \"name\": \"India(1)\", \"marker\": {\"size\": 2}, \"y\": [null], \"jitter\": 0.5}, {\"type\": \"box\", \"boxpoints\": \"all\", \"name\": \"United States(1)\", \"marker\": {\"size\": 2}, \"y\": [\"2016\"], \"jitter\": 0.5}, {\"type\": \"box\", \"boxpoints\": \"all\", \"name\": \"Serbia(1)\", \"marker\": {\"size\": 2}, \"y\": [null], \"jitter\": 0.5}, {\"type\": \"box\", \"boxpoints\": \"all\", \"name\": \"Mexico(1)\", \"marker\": {\"size\": 2}, \"y\": [null], \"jitter\": 0.5}, {\"type\": \"box\", \"boxpoints\": \"all\", \"name\": \"Germany(2)\", \"marker\": {\"size\": 2}, \"y\": [\"2016\", \"2017\"], \"jitter\": 0.5}, {\"type\": \"box\", \"boxpoints\": \"all\", \"name\": \"Canada(1)\", \"marker\": {\"size\": 2}, \"y\": [\"2016\"], \"jitter\": 0.5}, {\"type\": \"box\", \"boxpoints\": \"all\", \"name\": \"France(1)\", \"marker\": {\"size\": 2}, \"y\": [\"2015\"], \"jitter\": 0.5}], {\"xaxis\": {\"title\": \"country\"}, \"title\": \"country vs first commit\", \"yaxis\": {\"title\": \"first commit\"}}, {\"showLink\": true, \"linkText\": \"Export to plot.ly\"})});</script>"
      ],
      "text/vnd.plotly.v1+html": [
       "<div id=\"2bcff279-d040-4208-8150-be59c5cd2664\" style=\"height: 525px; width: 100%;\" class=\"plotly-graph-div\"></div><script type=\"text/javascript\">require([\"plotly\"], function(Plotly) { window.PLOTLYENV=window.PLOTLYENV || {};window.PLOTLYENV.BASE_URL=\"https://plot.ly\";Plotly.newPlot(\"2bcff279-d040-4208-8150-be59c5cd2664\", [{\"type\": \"box\", \"boxpoints\": \"all\", \"name\": \"Italy(1)\", \"marker\": {\"size\": 2}, \"y\": [\"2016\"], \"jitter\": 0.5}, {\"type\": \"box\", \"boxpoints\": \"all\", \"name\": \"India(1)\", \"marker\": {\"size\": 2}, \"y\": [null], \"jitter\": 0.5}, {\"type\": \"box\", \"boxpoints\": \"all\", \"name\": \"United States(1)\", \"marker\": {\"size\": 2}, \"y\": [\"2016\"], \"jitter\": 0.5}, {\"type\": \"box\", \"boxpoints\": \"all\", \"name\": \"Serbia(1)\", \"marker\": {\"size\": 2}, \"y\": [null], \"jitter\": 0.5}, {\"type\": \"box\", \"boxpoints\": \"all\", \"name\": \"Mexico(1)\", \"marker\": {\"size\": 2}, \"y\": [null], \"jitter\": 0.5}, {\"type\": \"box\", \"boxpoints\": \"all\", \"name\": \"Germany(2)\", \"marker\": {\"size\": 2}, \"y\": [\"2016\", \"2017\"], \"jitter\": 0.5}, {\"type\": \"box\", \"boxpoints\": \"all\", \"name\": \"Canada(1)\", \"marker\": {\"size\": 2}, \"y\": [\"2016\"], \"jitter\": 0.5}, {\"type\": \"box\", \"boxpoints\": \"all\", \"name\": \"France(1)\", \"marker\": {\"size\": 2}, \"y\": [\"2015\"], \"jitter\": 0.5}], {\"xaxis\": {\"title\": \"country\"}, \"title\": \"country vs first commit\", \"yaxis\": {\"title\": \"first commit\"}}, {\"showLink\": true, \"linkText\": \"Export to plot.ly\"})});</script>"
      ]
     },
     "metadata": {},
     "output_type": "display_data"
    },
    {
     "data": {
      "application/vnd.plotly.v1+json": {
       "data": [
        {
         "labels": [
          "Italy",
          "India",
          "United States",
          "Serbia",
          "Mexico",
          "Germany",
          "Canada",
          "France"
         ],
         "type": "pie",
         "values": [
          1,
          1,
          1,
          1,
          1,
          2,
          1,
          1
         ]
        }
       ],
       "layout": {
        "title": "Population Distribution of country"
       }
      },
      "text/html": [
       "<div id=\"b7de993d-44b5-454f-bd8d-0bf6b84cc24d\" style=\"height: 525px; width: 100%;\" class=\"plotly-graph-div\"></div><script type=\"text/javascript\">require([\"plotly\"], function(Plotly) { window.PLOTLYENV=window.PLOTLYENV || {};window.PLOTLYENV.BASE_URL=\"https://plot.ly\";Plotly.newPlot(\"b7de993d-44b5-454f-bd8d-0bf6b84cc24d\", [{\"type\": \"pie\", \"values\": [1, 1, 1, 1, 1, 2, 1, 1], \"labels\": [\"Italy\", \"India\", \"United States\", \"Serbia\", \"Mexico\", \"Germany\", \"Canada\", \"France\"]}], {\"title\": \"Population Distribution of country\"}, {\"showLink\": true, \"linkText\": \"Export to plot.ly\"})});</script>"
      ],
      "text/vnd.plotly.v1+html": [
       "<div id=\"b7de993d-44b5-454f-bd8d-0bf6b84cc24d\" style=\"height: 525px; width: 100%;\" class=\"plotly-graph-div\"></div><script type=\"text/javascript\">require([\"plotly\"], function(Plotly) { window.PLOTLYENV=window.PLOTLYENV || {};window.PLOTLYENV.BASE_URL=\"https://plot.ly\";Plotly.newPlot(\"b7de993d-44b5-454f-bd8d-0bf6b84cc24d\", [{\"type\": \"pie\", \"values\": [1, 1, 1, 1, 1, 2, 1, 1], \"labels\": [\"Italy\", \"India\", \"United States\", \"Serbia\", \"Mexico\", \"Germany\", \"Canada\", \"France\"]}], {\"title\": \"Population Distribution of country\"}, {\"showLink\": true, \"linkText\": \"Export to plot.ly\"})});</script>"
      ]
     },
     "metadata": {},
     "output_type": "display_data"
    },
    {
     "data": {
      "application/vnd.plotly.v1+json": {
       "data": [
        {
         "type": "histogram",
         "x": [
          "2016",
          null,
          "2016",
          null,
          null,
          "2016",
          "2017",
          "2016",
          "2015"
         ]
        }
       ],
       "layout": {
        "title": "Distribution of first commit",
        "xaxis": {
         "title": "first commit"
        },
        "yaxis": {
         "title": "Population"
        }
       }
      },
      "text/html": [
       "<div id=\"d73712e3-7102-4294-8508-5306e78125f3\" style=\"height: 525px; width: 100%;\" class=\"plotly-graph-div\"></div><script type=\"text/javascript\">require([\"plotly\"], function(Plotly) { window.PLOTLYENV=window.PLOTLYENV || {};window.PLOTLYENV.BASE_URL=\"https://plot.ly\";Plotly.newPlot(\"d73712e3-7102-4294-8508-5306e78125f3\", [{\"type\": \"histogram\", \"x\": [\"2016\", null, \"2016\", null, null, \"2016\", \"2017\", \"2016\", \"2015\"]}], {\"xaxis\": {\"title\": \"first commit\"}, \"title\": \"Distribution of first commit\", \"yaxis\": {\"title\": \"Population\"}}, {\"showLink\": true, \"linkText\": \"Export to plot.ly\"})});</script>"
      ],
      "text/vnd.plotly.v1+html": [
       "<div id=\"d73712e3-7102-4294-8508-5306e78125f3\" style=\"height: 525px; width: 100%;\" class=\"plotly-graph-div\"></div><script type=\"text/javascript\">require([\"plotly\"], function(Plotly) { window.PLOTLYENV=window.PLOTLYENV || {};window.PLOTLYENV.BASE_URL=\"https://plot.ly\";Plotly.newPlot(\"d73712e3-7102-4294-8508-5306e78125f3\", [{\"type\": \"histogram\", \"x\": [\"2016\", null, \"2016\", null, null, \"2016\", \"2017\", \"2016\", \"2015\"]}], {\"xaxis\": {\"title\": \"first commit\"}, \"title\": \"Distribution of first commit\", \"yaxis\": {\"title\": \"Population\"}}, {\"showLink\": true, \"linkText\": \"Export to plot.ly\"})});</script>"
      ]
     },
     "metadata": {},
     "output_type": "display_data"
    },
    {
     "data": {
      "application/vnd.plotly.v1+json": {
       "data": [
        {
         "boxpoints": "all",
         "jitter": 0.5,
         "marker": {
          "size": 2
         },
         "name": "Italy(1)",
         "type": "box",
         "y": [
          "2017"
         ]
        },
        {
         "boxpoints": "all",
         "jitter": 0.5,
         "marker": {
          "size": 2
         },
         "name": "India(1)",
         "type": "box",
         "y": [
          null
         ]
        },
        {
         "boxpoints": "all",
         "jitter": 0.5,
         "marker": {
          "size": 2
         },
         "name": "United States(1)",
         "type": "box",
         "y": [
          "2017"
         ]
        },
        {
         "boxpoints": "all",
         "jitter": 0.5,
         "marker": {
          "size": 2
         },
         "name": "Serbia(1)",
         "type": "box",
         "y": [
          null
         ]
        },
        {
         "boxpoints": "all",
         "jitter": 0.5,
         "marker": {
          "size": 2
         },
         "name": "Mexico(1)",
         "type": "box",
         "y": [
          null
         ]
        },
        {
         "boxpoints": "all",
         "jitter": 0.5,
         "marker": {
          "size": 2
         },
         "name": "Germany(2)",
         "type": "box",
         "y": [
          "2017",
          "2017"
         ]
        },
        {
         "boxpoints": "all",
         "jitter": 0.5,
         "marker": {
          "size": 2
         },
         "name": "Canada(1)",
         "type": "box",
         "y": [
          "2016"
         ]
        },
        {
         "boxpoints": "all",
         "jitter": 0.5,
         "marker": {
          "size": 2
         },
         "name": "France(1)",
         "type": "box",
         "y": [
          "2017"
         ]
        }
       ],
       "layout": {
        "title": "country vs last commit",
        "xaxis": {
         "title": "country"
        },
        "yaxis": {
         "title": "last commit"
        }
       }
      },
      "text/html": [
       "<div id=\"aa217dc6-92bd-4310-977e-2b860e871410\" style=\"height: 525px; width: 100%;\" class=\"plotly-graph-div\"></div><script type=\"text/javascript\">require([\"plotly\"], function(Plotly) { window.PLOTLYENV=window.PLOTLYENV || {};window.PLOTLYENV.BASE_URL=\"https://plot.ly\";Plotly.newPlot(\"aa217dc6-92bd-4310-977e-2b860e871410\", [{\"type\": \"box\", \"boxpoints\": \"all\", \"name\": \"Italy(1)\", \"marker\": {\"size\": 2}, \"y\": [\"2017\"], \"jitter\": 0.5}, {\"type\": \"box\", \"boxpoints\": \"all\", \"name\": \"India(1)\", \"marker\": {\"size\": 2}, \"y\": [null], \"jitter\": 0.5}, {\"type\": \"box\", \"boxpoints\": \"all\", \"name\": \"United States(1)\", \"marker\": {\"size\": 2}, \"y\": [\"2017\"], \"jitter\": 0.5}, {\"type\": \"box\", \"boxpoints\": \"all\", \"name\": \"Serbia(1)\", \"marker\": {\"size\": 2}, \"y\": [null], \"jitter\": 0.5}, {\"type\": \"box\", \"boxpoints\": \"all\", \"name\": \"Mexico(1)\", \"marker\": {\"size\": 2}, \"y\": [null], \"jitter\": 0.5}, {\"type\": \"box\", \"boxpoints\": \"all\", \"name\": \"Germany(2)\", \"marker\": {\"size\": 2}, \"y\": [\"2017\", \"2017\"], \"jitter\": 0.5}, {\"type\": \"box\", \"boxpoints\": \"all\", \"name\": \"Canada(1)\", \"marker\": {\"size\": 2}, \"y\": [\"2016\"], \"jitter\": 0.5}, {\"type\": \"box\", \"boxpoints\": \"all\", \"name\": \"France(1)\", \"marker\": {\"size\": 2}, \"y\": [\"2017\"], \"jitter\": 0.5}], {\"xaxis\": {\"title\": \"country\"}, \"title\": \"country vs last commit\", \"yaxis\": {\"title\": \"last commit\"}}, {\"showLink\": true, \"linkText\": \"Export to plot.ly\"})});</script>"
      ],
      "text/vnd.plotly.v1+html": [
       "<div id=\"aa217dc6-92bd-4310-977e-2b860e871410\" style=\"height: 525px; width: 100%;\" class=\"plotly-graph-div\"></div><script type=\"text/javascript\">require([\"plotly\"], function(Plotly) { window.PLOTLYENV=window.PLOTLYENV || {};window.PLOTLYENV.BASE_URL=\"https://plot.ly\";Plotly.newPlot(\"aa217dc6-92bd-4310-977e-2b860e871410\", [{\"type\": \"box\", \"boxpoints\": \"all\", \"name\": \"Italy(1)\", \"marker\": {\"size\": 2}, \"y\": [\"2017\"], \"jitter\": 0.5}, {\"type\": \"box\", \"boxpoints\": \"all\", \"name\": \"India(1)\", \"marker\": {\"size\": 2}, \"y\": [null], \"jitter\": 0.5}, {\"type\": \"box\", \"boxpoints\": \"all\", \"name\": \"United States(1)\", \"marker\": {\"size\": 2}, \"y\": [\"2017\"], \"jitter\": 0.5}, {\"type\": \"box\", \"boxpoints\": \"all\", \"name\": \"Serbia(1)\", \"marker\": {\"size\": 2}, \"y\": [null], \"jitter\": 0.5}, {\"type\": \"box\", \"boxpoints\": \"all\", \"name\": \"Mexico(1)\", \"marker\": {\"size\": 2}, \"y\": [null], \"jitter\": 0.5}, {\"type\": \"box\", \"boxpoints\": \"all\", \"name\": \"Germany(2)\", \"marker\": {\"size\": 2}, \"y\": [\"2017\", \"2017\"], \"jitter\": 0.5}, {\"type\": \"box\", \"boxpoints\": \"all\", \"name\": \"Canada(1)\", \"marker\": {\"size\": 2}, \"y\": [\"2016\"], \"jitter\": 0.5}, {\"type\": \"box\", \"boxpoints\": \"all\", \"name\": \"France(1)\", \"marker\": {\"size\": 2}, \"y\": [\"2017\"], \"jitter\": 0.5}], {\"xaxis\": {\"title\": \"country\"}, \"title\": \"country vs last commit\", \"yaxis\": {\"title\": \"last commit\"}}, {\"showLink\": true, \"linkText\": \"Export to plot.ly\"})});</script>"
      ]
     },
     "metadata": {},
     "output_type": "display_data"
    },
    {
     "data": {
      "application/vnd.plotly.v1+json": {
       "data": [
        {
         "labels": [
          "Italy",
          "India",
          "United States",
          "Serbia",
          "Mexico",
          "Germany",
          "Canada",
          "France"
         ],
         "type": "pie",
         "values": [
          1,
          1,
          1,
          1,
          1,
          2,
          1,
          1
         ]
        }
       ],
       "layout": {
        "title": "Population Distribution of country"
       }
      },
      "text/html": [
       "<div id=\"e9da508f-e946-4845-b833-4c36894cb5fd\" style=\"height: 525px; width: 100%;\" class=\"plotly-graph-div\"></div><script type=\"text/javascript\">require([\"plotly\"], function(Plotly) { window.PLOTLYENV=window.PLOTLYENV || {};window.PLOTLYENV.BASE_URL=\"https://plot.ly\";Plotly.newPlot(\"e9da508f-e946-4845-b833-4c36894cb5fd\", [{\"type\": \"pie\", \"values\": [1, 1, 1, 1, 1, 2, 1, 1], \"labels\": [\"Italy\", \"India\", \"United States\", \"Serbia\", \"Mexico\", \"Germany\", \"Canada\", \"France\"]}], {\"title\": \"Population Distribution of country\"}, {\"showLink\": true, \"linkText\": \"Export to plot.ly\"})});</script>"
      ],
      "text/vnd.plotly.v1+html": [
       "<div id=\"e9da508f-e946-4845-b833-4c36894cb5fd\" style=\"height: 525px; width: 100%;\" class=\"plotly-graph-div\"></div><script type=\"text/javascript\">require([\"plotly\"], function(Plotly) { window.PLOTLYENV=window.PLOTLYENV || {};window.PLOTLYENV.BASE_URL=\"https://plot.ly\";Plotly.newPlot(\"e9da508f-e946-4845-b833-4c36894cb5fd\", [{\"type\": \"pie\", \"values\": [1, 1, 1, 1, 1, 2, 1, 1], \"labels\": [\"Italy\", \"India\", \"United States\", \"Serbia\", \"Mexico\", \"Germany\", \"Canada\", \"France\"]}], {\"title\": \"Population Distribution of country\"}, {\"showLink\": true, \"linkText\": \"Export to plot.ly\"})});</script>"
      ]
     },
     "metadata": {},
     "output_type": "display_data"
    },
    {
     "data": {
      "application/vnd.plotly.v1+json": {
       "data": [
        {
         "type": "histogram",
         "x": [
          "2017",
          null,
          "2017",
          null,
          null,
          "2017",
          "2017",
          "2016",
          "2017"
         ]
        }
       ],
       "layout": {
        "title": "Distribution of last commit",
        "xaxis": {
         "title": "last commit"
        },
        "yaxis": {
         "title": "Population"
        }
       }
      },
      "text/html": [
       "<div id=\"35829bac-d19f-40a7-aab6-c88ac94d29a2\" style=\"height: 525px; width: 100%;\" class=\"plotly-graph-div\"></div><script type=\"text/javascript\">require([\"plotly\"], function(Plotly) { window.PLOTLYENV=window.PLOTLYENV || {};window.PLOTLYENV.BASE_URL=\"https://plot.ly\";Plotly.newPlot(\"35829bac-d19f-40a7-aab6-c88ac94d29a2\", [{\"type\": \"histogram\", \"x\": [\"2017\", null, \"2017\", null, null, \"2017\", \"2017\", \"2016\", \"2017\"]}], {\"xaxis\": {\"title\": \"last commit\"}, \"title\": \"Distribution of last commit\", \"yaxis\": {\"title\": \"Population\"}}, {\"showLink\": true, \"linkText\": \"Export to plot.ly\"})});</script>"
      ],
      "text/vnd.plotly.v1+html": [
       "<div id=\"35829bac-d19f-40a7-aab6-c88ac94d29a2\" style=\"height: 525px; width: 100%;\" class=\"plotly-graph-div\"></div><script type=\"text/javascript\">require([\"plotly\"], function(Plotly) { window.PLOTLYENV=window.PLOTLYENV || {};window.PLOTLYENV.BASE_URL=\"https://plot.ly\";Plotly.newPlot(\"35829bac-d19f-40a7-aab6-c88ac94d29a2\", [{\"type\": \"histogram\", \"x\": [\"2017\", null, \"2017\", null, null, \"2017\", \"2017\", \"2016\", \"2017\"]}], {\"xaxis\": {\"title\": \"last commit\"}, \"title\": \"Distribution of last commit\", \"yaxis\": {\"title\": \"Population\"}}, {\"showLink\": true, \"linkText\": \"Export to plot.ly\"})});</script>"
      ]
     },
     "metadata": {},
     "output_type": "display_data"
    },
    {
     "data": {
      "application/vnd.plotly.v1+json": {
       "data": [
        {
         "boxpoints": "all",
         "jitter": 0.5,
         "marker": {
          "size": 2
         },
         "name": "Male(8)",
         "type": "box",
         "y": [
          66,
          7,
          5,
          3,
          1,
          0,
          0,
          0
         ]
        },
        {
         "boxpoints": "all",
         "jitter": 0.5,
         "marker": {
          "size": 2
         },
         "name": "Female(1)",
         "type": "box",
         "y": [
          13
         ]
        }
       ],
       "layout": {
        "title": "gender vs commits",
        "xaxis": {
         "title": "gender"
        },
        "yaxis": {
         "title": "commits"
        }
       }
      },
      "text/html": [
       "<div id=\"98ef0f5b-0c5e-4320-a59a-649edb763bfd\" style=\"height: 525px; width: 100%;\" class=\"plotly-graph-div\"></div><script type=\"text/javascript\">require([\"plotly\"], function(Plotly) { window.PLOTLYENV=window.PLOTLYENV || {};window.PLOTLYENV.BASE_URL=\"https://plot.ly\";Plotly.newPlot(\"98ef0f5b-0c5e-4320-a59a-649edb763bfd\", [{\"type\": \"box\", \"boxpoints\": \"all\", \"name\": \"Male(8)\", \"marker\": {\"size\": 2}, \"y\": [66.0, 7.0, 5.0, 3.0, 1.0, 0.0, 0.0, 0.0], \"jitter\": 0.5}, {\"type\": \"box\", \"boxpoints\": \"all\", \"name\": \"Female(1)\", \"marker\": {\"size\": 2}, \"y\": [13.0], \"jitter\": 0.5}], {\"xaxis\": {\"title\": \"gender\"}, \"title\": \"gender vs commits\", \"yaxis\": {\"title\": \"commits\"}}, {\"showLink\": true, \"linkText\": \"Export to plot.ly\"})});</script>"
      ],
      "text/vnd.plotly.v1+html": [
       "<div id=\"98ef0f5b-0c5e-4320-a59a-649edb763bfd\" style=\"height: 525px; width: 100%;\" class=\"plotly-graph-div\"></div><script type=\"text/javascript\">require([\"plotly\"], function(Plotly) { window.PLOTLYENV=window.PLOTLYENV || {};window.PLOTLYENV.BASE_URL=\"https://plot.ly\";Plotly.newPlot(\"98ef0f5b-0c5e-4320-a59a-649edb763bfd\", [{\"type\": \"box\", \"boxpoints\": \"all\", \"name\": \"Male(8)\", \"marker\": {\"size\": 2}, \"y\": [66.0, 7.0, 5.0, 3.0, 1.0, 0.0, 0.0, 0.0], \"jitter\": 0.5}, {\"type\": \"box\", \"boxpoints\": \"all\", \"name\": \"Female(1)\", \"marker\": {\"size\": 2}, \"y\": [13.0], \"jitter\": 0.5}], {\"xaxis\": {\"title\": \"gender\"}, \"title\": \"gender vs commits\", \"yaxis\": {\"title\": \"commits\"}}, {\"showLink\": true, \"linkText\": \"Export to plot.ly\"})});</script>"
      ]
     },
     "metadata": {},
     "output_type": "display_data"
    },
    {
     "data": {
      "application/vnd.plotly.v1+json": {
       "data": [
        {
         "labels": [
          "Male",
          "Female"
         ],
         "type": "pie",
         "values": [
          8,
          1
         ]
        }
       ],
       "layout": {
        "title": "Population Distribution of gender"
       }
      },
      "text/html": [
       "<div id=\"474151b3-aa40-410b-8995-1c8b08416d08\" style=\"height: 525px; width: 100%;\" class=\"plotly-graph-div\"></div><script type=\"text/javascript\">require([\"plotly\"], function(Plotly) { window.PLOTLYENV=window.PLOTLYENV || {};window.PLOTLYENV.BASE_URL=\"https://plot.ly\";Plotly.newPlot(\"474151b3-aa40-410b-8995-1c8b08416d08\", [{\"type\": \"pie\", \"values\": [8, 1], \"labels\": [\"Male\", \"Female\"]}], {\"title\": \"Population Distribution of gender\"}, {\"showLink\": true, \"linkText\": \"Export to plot.ly\"})});</script>"
      ],
      "text/vnd.plotly.v1+html": [
       "<div id=\"474151b3-aa40-410b-8995-1c8b08416d08\" style=\"height: 525px; width: 100%;\" class=\"plotly-graph-div\"></div><script type=\"text/javascript\">require([\"plotly\"], function(Plotly) { window.PLOTLYENV=window.PLOTLYENV || {};window.PLOTLYENV.BASE_URL=\"https://plot.ly\";Plotly.newPlot(\"474151b3-aa40-410b-8995-1c8b08416d08\", [{\"type\": \"pie\", \"values\": [8, 1], \"labels\": [\"Male\", \"Female\"]}], {\"title\": \"Population Distribution of gender\"}, {\"showLink\": true, \"linkText\": \"Export to plot.ly\"})});</script>"
      ]
     },
     "metadata": {},
     "output_type": "display_data"
    },
    {
     "data": {
      "application/vnd.plotly.v1+json": {
       "data": [
        {
         "boxpoints": false,
         "name": "Non-employees commits",
         "type": "box",
         "y": [
          1312,
          427,
          314,
          66,
          48,
          38,
          32,
          27,
          18,
          16,
          15,
          14,
          13,
          13,
          13,
          12,
          11,
          10,
          10,
          10,
          9,
          8,
          8,
          7,
          7,
          7,
          7,
          6,
          6,
          6,
          6,
          6,
          6,
          5,
          5,
          5,
          5,
          5,
          5,
          5,
          5,
          5,
          4,
          4,
          4,
          4,
          4,
          4,
          4,
          4,
          4,
          4,
          4,
          4,
          4,
          4,
          3,
          3,
          3,
          3,
          3,
          3,
          3,
          3,
          3,
          3,
          3,
          3,
          3,
          3,
          3,
          3,
          3,
          3,
          3,
          3,
          2,
          2,
          2,
          2,
          2,
          2,
          2,
          2,
          2,
          2,
          2,
          2,
          2,
          2,
          2,
          2,
          2,
          2,
          2,
          2,
          2,
          2,
          2,
          2,
          2,
          2,
          2,
          2,
          2,
          2,
          2,
          2,
          2,
          2,
          2,
          2,
          1,
          1,
          1,
          1,
          1,
          1,
          1,
          1,
          1,
          1,
          1,
          1,
          1,
          1,
          1,
          1,
          1,
          1,
          1,
          1,
          1,
          1,
          1,
          1,
          1,
          1,
          1,
          1,
          1,
          1,
          1,
          1,
          1,
          1,
          1,
          1,
          1,
          1,
          1,
          1,
          1,
          1,
          1,
          1,
          1,
          1,
          1,
          1,
          1,
          1,
          1,
          1,
          1,
          1,
          1,
          1,
          1,
          1,
          1,
          1,
          1,
          1,
          1,
          1,
          1,
          1,
          1,
          1,
          1,
          1,
          1,
          1,
          1,
          1,
          1,
          1,
          1,
          1,
          1,
          1,
          1,
          1,
          1,
          1,
          1,
          1,
          1,
          1,
          1,
          1,
          1,
          1,
          1,
          1,
          1,
          1,
          1,
          1,
          1,
          1,
          1,
          1,
          1,
          1,
          1,
          1,
          1,
          1,
          1
         ]
        },
        {
         "boxpoints": false,
         "name": "Survey commits",
         "type": "box",
         "y": [
          66,
          7,
          5,
          3,
          1,
          0,
          0,
          0,
          13
         ]
        }
       ],
       "layout": {
        "title": "gender vs commits",
        "xaxis": {
         "title": "gender"
        },
        "yaxis": {
         "range": [
          "0",
          "100"
         ],
         "title": "commits"
        }
       }
      },
      "text/html": [
       "<div id=\"c928a223-ee3a-43fd-93e0-440fe3315521\" style=\"height: 525px; width: 100%;\" class=\"plotly-graph-div\"></div><script type=\"text/javascript\">require([\"plotly\"], function(Plotly) { window.PLOTLYENV=window.PLOTLYENV || {};window.PLOTLYENV.BASE_URL=\"https://plot.ly\";Plotly.newPlot(\"c928a223-ee3a-43fd-93e0-440fe3315521\", [{\"type\": \"box\", \"boxpoints\": false, \"name\": \"Non-employees commits\", \"y\": [1312, 427, 314, 66, 48, 38, 32, 27, 18, 16, 15, 14, 13, 13, 13, 12, 11, 10, 10, 10, 9, 8, 8, 7, 7, 7, 7, 6, 6, 6, 6, 6, 6, 5, 5, 5, 5, 5, 5, 5, 5, 5, 4, 4, 4, 4, 4, 4, 4, 4, 4, 4, 4, 4, 4, 4, 3, 3, 3, 3, 3, 3, 3, 3, 3, 3, 3, 3, 3, 3, 3, 3, 3, 3, 3, 3, 2, 2, 2, 2, 2, 2, 2, 2, 2, 2, 2, 2, 2, 2, 2, 2, 2, 2, 2, 2, 2, 2, 2, 2, 2, 2, 2, 2, 2, 2, 2, 2, 2, 2, 2, 2, 1, 1, 1, 1, 1, 1, 1, 1, 1, 1, 1, 1, 1, 1, 1, 1, 1, 1, 1, 1, 1, 1, 1, 1, 1, 1, 1, 1, 1, 1, 1, 1, 1, 1, 1, 1, 1, 1, 1, 1, 1, 1, 1, 1, 1, 1, 1, 1, 1, 1, 1, 1, 1, 1, 1, 1, 1, 1, 1, 1, 1, 1, 1, 1, 1, 1, 1, 1, 1, 1, 1, 1, 1, 1, 1, 1, 1, 1, 1, 1, 1, 1, 1, 1, 1, 1, 1, 1, 1, 1, 1, 1, 1, 1, 1, 1, 1, 1, 1, 1, 1, 1, 1, 1, 1, 1, 1, 1, 1]}, {\"type\": \"box\", \"boxpoints\": false, \"name\": \"Survey commits\", \"y\": [66.0, 7.0, 5.0, 3.0, 1.0, 0.0, 0.0, 0.0, 13.0]}], {\"xaxis\": {\"title\": \"gender\"}, \"title\": \"gender vs commits\", \"yaxis\": {\"title\": \"commits\", \"range\": [\"0\", \"100\"]}}, {\"showLink\": true, \"linkText\": \"Export to plot.ly\"})});</script>"
      ],
      "text/vnd.plotly.v1+html": [
       "<div id=\"c928a223-ee3a-43fd-93e0-440fe3315521\" style=\"height: 525px; width: 100%;\" class=\"plotly-graph-div\"></div><script type=\"text/javascript\">require([\"plotly\"], function(Plotly) { window.PLOTLYENV=window.PLOTLYENV || {};window.PLOTLYENV.BASE_URL=\"https://plot.ly\";Plotly.newPlot(\"c928a223-ee3a-43fd-93e0-440fe3315521\", [{\"type\": \"box\", \"boxpoints\": false, \"name\": \"Non-employees commits\", \"y\": [1312, 427, 314, 66, 48, 38, 32, 27, 18, 16, 15, 14, 13, 13, 13, 12, 11, 10, 10, 10, 9, 8, 8, 7, 7, 7, 7, 6, 6, 6, 6, 6, 6, 5, 5, 5, 5, 5, 5, 5, 5, 5, 4, 4, 4, 4, 4, 4, 4, 4, 4, 4, 4, 4, 4, 4, 3, 3, 3, 3, 3, 3, 3, 3, 3, 3, 3, 3, 3, 3, 3, 3, 3, 3, 3, 3, 2, 2, 2, 2, 2, 2, 2, 2, 2, 2, 2, 2, 2, 2, 2, 2, 2, 2, 2, 2, 2, 2, 2, 2, 2, 2, 2, 2, 2, 2, 2, 2, 2, 2, 2, 2, 1, 1, 1, 1, 1, 1, 1, 1, 1, 1, 1, 1, 1, 1, 1, 1, 1, 1, 1, 1, 1, 1, 1, 1, 1, 1, 1, 1, 1, 1, 1, 1, 1, 1, 1, 1, 1, 1, 1, 1, 1, 1, 1, 1, 1, 1, 1, 1, 1, 1, 1, 1, 1, 1, 1, 1, 1, 1, 1, 1, 1, 1, 1, 1, 1, 1, 1, 1, 1, 1, 1, 1, 1, 1, 1, 1, 1, 1, 1, 1, 1, 1, 1, 1, 1, 1, 1, 1, 1, 1, 1, 1, 1, 1, 1, 1, 1, 1, 1, 1, 1, 1, 1, 1, 1, 1, 1, 1, 1]}, {\"type\": \"box\", \"boxpoints\": false, \"name\": \"Survey commits\", \"y\": [66.0, 7.0, 5.0, 3.0, 1.0, 0.0, 0.0, 0.0, 13.0]}], {\"xaxis\": {\"title\": \"gender\"}, \"title\": \"gender vs commits\", \"yaxis\": {\"title\": \"commits\", \"range\": [\"0\", \"100\"]}}, {\"showLink\": true, \"linkText\": \"Export to plot.ly\"})});</script>"
      ]
     },
     "metadata": {},
     "output_type": "display_data"
    },
    {
     "data": {
      "application/vnd.plotly.v1+json": {
       "data": [
        {
         "boxpoints": "all",
         "jitter": 0.5,
         "marker": {
          "size": 2
         },
         "name": "Male(8)",
         "type": "box",
         "y": [
          54,
          9,
          3,
          4,
          1,
          1,
          0,
          0
         ]
        },
        {
         "boxpoints": "all",
         "jitter": 0.5,
         "marker": {
          "size": 2
         },
         "name": "Female(1)",
         "type": "box",
         "y": [
          13
         ]
        }
       ],
       "layout": {
        "title": "gender vs pull requests",
        "xaxis": {
         "title": "gender"
        },
        "yaxis": {
         "title": "pull requests"
        }
       }
      },
      "text/html": [
       "<div id=\"34dea806-2ec1-422f-ad0e-49033414af20\" style=\"height: 525px; width: 100%;\" class=\"plotly-graph-div\"></div><script type=\"text/javascript\">require([\"plotly\"], function(Plotly) { window.PLOTLYENV=window.PLOTLYENV || {};window.PLOTLYENV.BASE_URL=\"https://plot.ly\";Plotly.newPlot(\"34dea806-2ec1-422f-ad0e-49033414af20\", [{\"type\": \"box\", \"boxpoints\": \"all\", \"name\": \"Male(8)\", \"marker\": {\"size\": 2}, \"y\": [54.0, 9.0, 3.0, 4.0, 1.0, 1.0, 0.0, 0.0], \"jitter\": 0.5}, {\"type\": \"box\", \"boxpoints\": \"all\", \"name\": \"Female(1)\", \"marker\": {\"size\": 2}, \"y\": [13.0], \"jitter\": 0.5}], {\"xaxis\": {\"title\": \"gender\"}, \"title\": \"gender vs pull requests\", \"yaxis\": {\"title\": \"pull requests\"}}, {\"showLink\": true, \"linkText\": \"Export to plot.ly\"})});</script>"
      ],
      "text/vnd.plotly.v1+html": [
       "<div id=\"34dea806-2ec1-422f-ad0e-49033414af20\" style=\"height: 525px; width: 100%;\" class=\"plotly-graph-div\"></div><script type=\"text/javascript\">require([\"plotly\"], function(Plotly) { window.PLOTLYENV=window.PLOTLYENV || {};window.PLOTLYENV.BASE_URL=\"https://plot.ly\";Plotly.newPlot(\"34dea806-2ec1-422f-ad0e-49033414af20\", [{\"type\": \"box\", \"boxpoints\": \"all\", \"name\": \"Male(8)\", \"marker\": {\"size\": 2}, \"y\": [54.0, 9.0, 3.0, 4.0, 1.0, 1.0, 0.0, 0.0], \"jitter\": 0.5}, {\"type\": \"box\", \"boxpoints\": \"all\", \"name\": \"Female(1)\", \"marker\": {\"size\": 2}, \"y\": [13.0], \"jitter\": 0.5}], {\"xaxis\": {\"title\": \"gender\"}, \"title\": \"gender vs pull requests\", \"yaxis\": {\"title\": \"pull requests\"}}, {\"showLink\": true, \"linkText\": \"Export to plot.ly\"})});</script>"
      ]
     },
     "metadata": {},
     "output_type": "display_data"
    },
    {
     "data": {
      "application/vnd.plotly.v1+json": {
       "data": [
        {
         "labels": [
          "Male",
          "Female"
         ],
         "type": "pie",
         "values": [
          8,
          1
         ]
        }
       ],
       "layout": {
        "title": "Population Distribution of gender"
       }
      },
      "text/html": [
       "<div id=\"707c7612-11ad-4162-8644-158db237b01b\" style=\"height: 525px; width: 100%;\" class=\"plotly-graph-div\"></div><script type=\"text/javascript\">require([\"plotly\"], function(Plotly) { window.PLOTLYENV=window.PLOTLYENV || {};window.PLOTLYENV.BASE_URL=\"https://plot.ly\";Plotly.newPlot(\"707c7612-11ad-4162-8644-158db237b01b\", [{\"type\": \"pie\", \"values\": [8, 1], \"labels\": [\"Male\", \"Female\"]}], {\"title\": \"Population Distribution of gender\"}, {\"showLink\": true, \"linkText\": \"Export to plot.ly\"})});</script>"
      ],
      "text/vnd.plotly.v1+html": [
       "<div id=\"707c7612-11ad-4162-8644-158db237b01b\" style=\"height: 525px; width: 100%;\" class=\"plotly-graph-div\"></div><script type=\"text/javascript\">require([\"plotly\"], function(Plotly) { window.PLOTLYENV=window.PLOTLYENV || {};window.PLOTLYENV.BASE_URL=\"https://plot.ly\";Plotly.newPlot(\"707c7612-11ad-4162-8644-158db237b01b\", [{\"type\": \"pie\", \"values\": [8, 1], \"labels\": [\"Male\", \"Female\"]}], {\"title\": \"Population Distribution of gender\"}, {\"showLink\": true, \"linkText\": \"Export to plot.ly\"})});</script>"
      ]
     },
     "metadata": {},
     "output_type": "display_data"
    },
    {
     "data": {
      "application/vnd.plotly.v1+json": {
       "data": [
        {
         "boxpoints": false,
         "name": "Non-employees pull requests",
         "type": "box",
         "y": [
          1312,
          427,
          314,
          66,
          48,
          38,
          32,
          27,
          18,
          16,
          15,
          14,
          13,
          13,
          13,
          12,
          11,
          10,
          10,
          10,
          9,
          8,
          8,
          7,
          7,
          7,
          7,
          6,
          6,
          6,
          6,
          6,
          6,
          5,
          5,
          5,
          5,
          5,
          5,
          5,
          5,
          5,
          4,
          4,
          4,
          4,
          4,
          4,
          4,
          4,
          4,
          4,
          4,
          4,
          4,
          4,
          3,
          3,
          3,
          3,
          3,
          3,
          3,
          3,
          3,
          3,
          3,
          3,
          3,
          3,
          3,
          3,
          3,
          3,
          3,
          3,
          2,
          2,
          2,
          2,
          2,
          2,
          2,
          2,
          2,
          2,
          2,
          2,
          2,
          2,
          2,
          2,
          2,
          2,
          2,
          2,
          2,
          2,
          2,
          2,
          2,
          2,
          2,
          2,
          2,
          2,
          2,
          2,
          2,
          2,
          2,
          2,
          1,
          1,
          1,
          1,
          1,
          1,
          1,
          1,
          1,
          1,
          1,
          1,
          1,
          1,
          1,
          1,
          1,
          1,
          1,
          1,
          1,
          1,
          1,
          1,
          1,
          1,
          1,
          1,
          1,
          1,
          1,
          1,
          1,
          1,
          1,
          1,
          1,
          1,
          1,
          1,
          1,
          1,
          1,
          1,
          1,
          1,
          1,
          1,
          1,
          1,
          1,
          1,
          1,
          1,
          1,
          1,
          1,
          1,
          1,
          1,
          1,
          1,
          1,
          1,
          1,
          1,
          1,
          1,
          1,
          1,
          1,
          1,
          1,
          1,
          1,
          1,
          1,
          1,
          1,
          1,
          1,
          1,
          1,
          1,
          1,
          1,
          1,
          1,
          1,
          1,
          1,
          1,
          1,
          1,
          1,
          1,
          1,
          1,
          1,
          1,
          1,
          1,
          1,
          1,
          1,
          1,
          1,
          1,
          1
         ]
        },
        {
         "boxpoints": false,
         "name": "Survey pull requests",
         "type": "box",
         "y": [
          54,
          9,
          3,
          4,
          1,
          1,
          0,
          0,
          13
         ]
        }
       ],
       "layout": {
        "title": "gender vs pull requests",
        "xaxis": {
         "title": "gender"
        },
        "yaxis": {
         "range": [
          "0",
          "100"
         ],
         "title": "pull requests"
        }
       }
      },
      "text/html": [
       "<div id=\"0531bce2-2272-4236-a607-755a3b135e6e\" style=\"height: 525px; width: 100%;\" class=\"plotly-graph-div\"></div><script type=\"text/javascript\">require([\"plotly\"], function(Plotly) { window.PLOTLYENV=window.PLOTLYENV || {};window.PLOTLYENV.BASE_URL=\"https://plot.ly\";Plotly.newPlot(\"0531bce2-2272-4236-a607-755a3b135e6e\", [{\"type\": \"box\", \"boxpoints\": false, \"name\": \"Non-employees pull requests\", \"y\": [1312, 427, 314, 66, 48, 38, 32, 27, 18, 16, 15, 14, 13, 13, 13, 12, 11, 10, 10, 10, 9, 8, 8, 7, 7, 7, 7, 6, 6, 6, 6, 6, 6, 5, 5, 5, 5, 5, 5, 5, 5, 5, 4, 4, 4, 4, 4, 4, 4, 4, 4, 4, 4, 4, 4, 4, 3, 3, 3, 3, 3, 3, 3, 3, 3, 3, 3, 3, 3, 3, 3, 3, 3, 3, 3, 3, 2, 2, 2, 2, 2, 2, 2, 2, 2, 2, 2, 2, 2, 2, 2, 2, 2, 2, 2, 2, 2, 2, 2, 2, 2, 2, 2, 2, 2, 2, 2, 2, 2, 2, 2, 2, 1, 1, 1, 1, 1, 1, 1, 1, 1, 1, 1, 1, 1, 1, 1, 1, 1, 1, 1, 1, 1, 1, 1, 1, 1, 1, 1, 1, 1, 1, 1, 1, 1, 1, 1, 1, 1, 1, 1, 1, 1, 1, 1, 1, 1, 1, 1, 1, 1, 1, 1, 1, 1, 1, 1, 1, 1, 1, 1, 1, 1, 1, 1, 1, 1, 1, 1, 1, 1, 1, 1, 1, 1, 1, 1, 1, 1, 1, 1, 1, 1, 1, 1, 1, 1, 1, 1, 1, 1, 1, 1, 1, 1, 1, 1, 1, 1, 1, 1, 1, 1, 1, 1, 1, 1, 1, 1, 1, 1]}, {\"type\": \"box\", \"boxpoints\": false, \"name\": \"Survey pull requests\", \"y\": [54.0, 9.0, 3.0, 4.0, 1.0, 1.0, 0.0, 0.0, 13.0]}], {\"xaxis\": {\"title\": \"gender\"}, \"title\": \"gender vs pull requests\", \"yaxis\": {\"title\": \"pull requests\", \"range\": [\"0\", \"100\"]}}, {\"showLink\": true, \"linkText\": \"Export to plot.ly\"})});</script>"
      ],
      "text/vnd.plotly.v1+html": [
       "<div id=\"0531bce2-2272-4236-a607-755a3b135e6e\" style=\"height: 525px; width: 100%;\" class=\"plotly-graph-div\"></div><script type=\"text/javascript\">require([\"plotly\"], function(Plotly) { window.PLOTLYENV=window.PLOTLYENV || {};window.PLOTLYENV.BASE_URL=\"https://plot.ly\";Plotly.newPlot(\"0531bce2-2272-4236-a607-755a3b135e6e\", [{\"type\": \"box\", \"boxpoints\": false, \"name\": \"Non-employees pull requests\", \"y\": [1312, 427, 314, 66, 48, 38, 32, 27, 18, 16, 15, 14, 13, 13, 13, 12, 11, 10, 10, 10, 9, 8, 8, 7, 7, 7, 7, 6, 6, 6, 6, 6, 6, 5, 5, 5, 5, 5, 5, 5, 5, 5, 4, 4, 4, 4, 4, 4, 4, 4, 4, 4, 4, 4, 4, 4, 3, 3, 3, 3, 3, 3, 3, 3, 3, 3, 3, 3, 3, 3, 3, 3, 3, 3, 3, 3, 2, 2, 2, 2, 2, 2, 2, 2, 2, 2, 2, 2, 2, 2, 2, 2, 2, 2, 2, 2, 2, 2, 2, 2, 2, 2, 2, 2, 2, 2, 2, 2, 2, 2, 2, 2, 1, 1, 1, 1, 1, 1, 1, 1, 1, 1, 1, 1, 1, 1, 1, 1, 1, 1, 1, 1, 1, 1, 1, 1, 1, 1, 1, 1, 1, 1, 1, 1, 1, 1, 1, 1, 1, 1, 1, 1, 1, 1, 1, 1, 1, 1, 1, 1, 1, 1, 1, 1, 1, 1, 1, 1, 1, 1, 1, 1, 1, 1, 1, 1, 1, 1, 1, 1, 1, 1, 1, 1, 1, 1, 1, 1, 1, 1, 1, 1, 1, 1, 1, 1, 1, 1, 1, 1, 1, 1, 1, 1, 1, 1, 1, 1, 1, 1, 1, 1, 1, 1, 1, 1, 1, 1, 1, 1, 1]}, {\"type\": \"box\", \"boxpoints\": false, \"name\": \"Survey pull requests\", \"y\": [54.0, 9.0, 3.0, 4.0, 1.0, 1.0, 0.0, 0.0, 13.0]}], {\"xaxis\": {\"title\": \"gender\"}, \"title\": \"gender vs pull requests\", \"yaxis\": {\"title\": \"pull requests\", \"range\": [\"0\", \"100\"]}}, {\"showLink\": true, \"linkText\": \"Export to plot.ly\"})});</script>"
      ]
     },
     "metadata": {},
     "output_type": "display_data"
    },
    {
     "data": {
      "application/vnd.plotly.v1+json": {
       "data": [
        {
         "boxpoints": "all",
         "jitter": 0.5,
         "marker": {
          "size": 2
         },
         "name": "Male(8)",
         "type": "box",
         "y": [
          38,
          13,
          0,
          4,
          0,
          0,
          0,
          5
         ]
        },
        {
         "boxpoints": "all",
         "jitter": 0.5,
         "marker": {
          "size": 2
         },
         "name": "Female(1)",
         "type": "box",
         "y": [
          6
         ]
        }
       ],
       "layout": {
        "title": "gender vs issues",
        "xaxis": {
         "title": "gender"
        },
        "yaxis": {
         "title": "issues"
        }
       }
      },
      "text/html": [
       "<div id=\"12a93eaf-ef8f-4fbb-9419-59676460008b\" style=\"height: 525px; width: 100%;\" class=\"plotly-graph-div\"></div><script type=\"text/javascript\">require([\"plotly\"], function(Plotly) { window.PLOTLYENV=window.PLOTLYENV || {};window.PLOTLYENV.BASE_URL=\"https://plot.ly\";Plotly.newPlot(\"12a93eaf-ef8f-4fbb-9419-59676460008b\", [{\"type\": \"box\", \"boxpoints\": \"all\", \"name\": \"Male(8)\", \"marker\": {\"size\": 2}, \"y\": [38.0, 13.0, 0.0, 4.0, 0.0, 0.0, 0.0, 5.0], \"jitter\": 0.5}, {\"type\": \"box\", \"boxpoints\": \"all\", \"name\": \"Female(1)\", \"marker\": {\"size\": 2}, \"y\": [6.0], \"jitter\": 0.5}], {\"xaxis\": {\"title\": \"gender\"}, \"title\": \"gender vs issues\", \"yaxis\": {\"title\": \"issues\"}}, {\"showLink\": true, \"linkText\": \"Export to plot.ly\"})});</script>"
      ],
      "text/vnd.plotly.v1+html": [
       "<div id=\"12a93eaf-ef8f-4fbb-9419-59676460008b\" style=\"height: 525px; width: 100%;\" class=\"plotly-graph-div\"></div><script type=\"text/javascript\">require([\"plotly\"], function(Plotly) { window.PLOTLYENV=window.PLOTLYENV || {};window.PLOTLYENV.BASE_URL=\"https://plot.ly\";Plotly.newPlot(\"12a93eaf-ef8f-4fbb-9419-59676460008b\", [{\"type\": \"box\", \"boxpoints\": \"all\", \"name\": \"Male(8)\", \"marker\": {\"size\": 2}, \"y\": [38.0, 13.0, 0.0, 4.0, 0.0, 0.0, 0.0, 5.0], \"jitter\": 0.5}, {\"type\": \"box\", \"boxpoints\": \"all\", \"name\": \"Female(1)\", \"marker\": {\"size\": 2}, \"y\": [6.0], \"jitter\": 0.5}], {\"xaxis\": {\"title\": \"gender\"}, \"title\": \"gender vs issues\", \"yaxis\": {\"title\": \"issues\"}}, {\"showLink\": true, \"linkText\": \"Export to plot.ly\"})});</script>"
      ]
     },
     "metadata": {},
     "output_type": "display_data"
    },
    {
     "data": {
      "application/vnd.plotly.v1+json": {
       "data": [
        {
         "labels": [
          "Male",
          "Female"
         ],
         "type": "pie",
         "values": [
          8,
          1
         ]
        }
       ],
       "layout": {
        "title": "Population Distribution of gender"
       }
      },
      "text/html": [
       "<div id=\"089aa695-d102-442d-aed6-dde9584270fe\" style=\"height: 525px; width: 100%;\" class=\"plotly-graph-div\"></div><script type=\"text/javascript\">require([\"plotly\"], function(Plotly) { window.PLOTLYENV=window.PLOTLYENV || {};window.PLOTLYENV.BASE_URL=\"https://plot.ly\";Plotly.newPlot(\"089aa695-d102-442d-aed6-dde9584270fe\", [{\"type\": \"pie\", \"values\": [8, 1], \"labels\": [\"Male\", \"Female\"]}], {\"title\": \"Population Distribution of gender\"}, {\"showLink\": true, \"linkText\": \"Export to plot.ly\"})});</script>"
      ],
      "text/vnd.plotly.v1+html": [
       "<div id=\"089aa695-d102-442d-aed6-dde9584270fe\" style=\"height: 525px; width: 100%;\" class=\"plotly-graph-div\"></div><script type=\"text/javascript\">require([\"plotly\"], function(Plotly) { window.PLOTLYENV=window.PLOTLYENV || {};window.PLOTLYENV.BASE_URL=\"https://plot.ly\";Plotly.newPlot(\"089aa695-d102-442d-aed6-dde9584270fe\", [{\"type\": \"pie\", \"values\": [8, 1], \"labels\": [\"Male\", \"Female\"]}], {\"title\": \"Population Distribution of gender\"}, {\"showLink\": true, \"linkText\": \"Export to plot.ly\"})});</script>"
      ]
     },
     "metadata": {},
     "output_type": "display_data"
    },
    {
     "data": {
      "application/vnd.plotly.v1+json": {
       "data": [
        {
         "boxpoints": false,
         "name": "Non-employees issues",
         "type": "box",
         "y": [
          1312,
          427,
          314,
          66,
          48,
          38,
          32,
          27,
          18,
          16,
          15,
          14,
          13,
          13,
          13,
          12,
          11,
          10,
          10,
          10,
          9,
          8,
          8,
          7,
          7,
          7,
          7,
          6,
          6,
          6,
          6,
          6,
          6,
          5,
          5,
          5,
          5,
          5,
          5,
          5,
          5,
          5,
          4,
          4,
          4,
          4,
          4,
          4,
          4,
          4,
          4,
          4,
          4,
          4,
          4,
          4,
          3,
          3,
          3,
          3,
          3,
          3,
          3,
          3,
          3,
          3,
          3,
          3,
          3,
          3,
          3,
          3,
          3,
          3,
          3,
          3,
          2,
          2,
          2,
          2,
          2,
          2,
          2,
          2,
          2,
          2,
          2,
          2,
          2,
          2,
          2,
          2,
          2,
          2,
          2,
          2,
          2,
          2,
          2,
          2,
          2,
          2,
          2,
          2,
          2,
          2,
          2,
          2,
          2,
          2,
          2,
          2,
          1,
          1,
          1,
          1,
          1,
          1,
          1,
          1,
          1,
          1,
          1,
          1,
          1,
          1,
          1,
          1,
          1,
          1,
          1,
          1,
          1,
          1,
          1,
          1,
          1,
          1,
          1,
          1,
          1,
          1,
          1,
          1,
          1,
          1,
          1,
          1,
          1,
          1,
          1,
          1,
          1,
          1,
          1,
          1,
          1,
          1,
          1,
          1,
          1,
          1,
          1,
          1,
          1,
          1,
          1,
          1,
          1,
          1,
          1,
          1,
          1,
          1,
          1,
          1,
          1,
          1,
          1,
          1,
          1,
          1,
          1,
          1,
          1,
          1,
          1,
          1,
          1,
          1,
          1,
          1,
          1,
          1,
          1,
          1,
          1,
          1,
          1,
          1,
          1,
          1,
          1,
          1,
          1,
          1,
          1,
          1,
          1,
          1,
          1,
          1,
          1,
          1,
          1,
          1,
          1,
          1,
          1,
          1,
          1
         ]
        },
        {
         "boxpoints": false,
         "name": "Survey issues",
         "type": "box",
         "y": [
          38,
          13,
          0,
          4,
          0,
          0,
          0,
          5,
          6
         ]
        }
       ],
       "layout": {
        "title": "gender vs issues",
        "xaxis": {
         "title": "gender"
        },
        "yaxis": {
         "range": [
          "0",
          "100"
         ],
         "title": "issues"
        }
       }
      },
      "text/html": [
       "<div id=\"35f41863-bc1c-4e3d-aa4a-899a4a010be5\" style=\"height: 525px; width: 100%;\" class=\"plotly-graph-div\"></div><script type=\"text/javascript\">require([\"plotly\"], function(Plotly) { window.PLOTLYENV=window.PLOTLYENV || {};window.PLOTLYENV.BASE_URL=\"https://plot.ly\";Plotly.newPlot(\"35f41863-bc1c-4e3d-aa4a-899a4a010be5\", [{\"type\": \"box\", \"boxpoints\": false, \"name\": \"Non-employees issues\", \"y\": [1312, 427, 314, 66, 48, 38, 32, 27, 18, 16, 15, 14, 13, 13, 13, 12, 11, 10, 10, 10, 9, 8, 8, 7, 7, 7, 7, 6, 6, 6, 6, 6, 6, 5, 5, 5, 5, 5, 5, 5, 5, 5, 4, 4, 4, 4, 4, 4, 4, 4, 4, 4, 4, 4, 4, 4, 3, 3, 3, 3, 3, 3, 3, 3, 3, 3, 3, 3, 3, 3, 3, 3, 3, 3, 3, 3, 2, 2, 2, 2, 2, 2, 2, 2, 2, 2, 2, 2, 2, 2, 2, 2, 2, 2, 2, 2, 2, 2, 2, 2, 2, 2, 2, 2, 2, 2, 2, 2, 2, 2, 2, 2, 1, 1, 1, 1, 1, 1, 1, 1, 1, 1, 1, 1, 1, 1, 1, 1, 1, 1, 1, 1, 1, 1, 1, 1, 1, 1, 1, 1, 1, 1, 1, 1, 1, 1, 1, 1, 1, 1, 1, 1, 1, 1, 1, 1, 1, 1, 1, 1, 1, 1, 1, 1, 1, 1, 1, 1, 1, 1, 1, 1, 1, 1, 1, 1, 1, 1, 1, 1, 1, 1, 1, 1, 1, 1, 1, 1, 1, 1, 1, 1, 1, 1, 1, 1, 1, 1, 1, 1, 1, 1, 1, 1, 1, 1, 1, 1, 1, 1, 1, 1, 1, 1, 1, 1, 1, 1, 1, 1, 1]}, {\"type\": \"box\", \"boxpoints\": false, \"name\": \"Survey issues\", \"y\": [38.0, 13.0, 0.0, 4.0, 0.0, 0.0, 0.0, 5.0, 6.0]}], {\"xaxis\": {\"title\": \"gender\"}, \"title\": \"gender vs issues\", \"yaxis\": {\"title\": \"issues\", \"range\": [\"0\", \"100\"]}}, {\"showLink\": true, \"linkText\": \"Export to plot.ly\"})});</script>"
      ],
      "text/vnd.plotly.v1+html": [
       "<div id=\"35f41863-bc1c-4e3d-aa4a-899a4a010be5\" style=\"height: 525px; width: 100%;\" class=\"plotly-graph-div\"></div><script type=\"text/javascript\">require([\"plotly\"], function(Plotly) { window.PLOTLYENV=window.PLOTLYENV || {};window.PLOTLYENV.BASE_URL=\"https://plot.ly\";Plotly.newPlot(\"35f41863-bc1c-4e3d-aa4a-899a4a010be5\", [{\"type\": \"box\", \"boxpoints\": false, \"name\": \"Non-employees issues\", \"y\": [1312, 427, 314, 66, 48, 38, 32, 27, 18, 16, 15, 14, 13, 13, 13, 12, 11, 10, 10, 10, 9, 8, 8, 7, 7, 7, 7, 6, 6, 6, 6, 6, 6, 5, 5, 5, 5, 5, 5, 5, 5, 5, 4, 4, 4, 4, 4, 4, 4, 4, 4, 4, 4, 4, 4, 4, 3, 3, 3, 3, 3, 3, 3, 3, 3, 3, 3, 3, 3, 3, 3, 3, 3, 3, 3, 3, 2, 2, 2, 2, 2, 2, 2, 2, 2, 2, 2, 2, 2, 2, 2, 2, 2, 2, 2, 2, 2, 2, 2, 2, 2, 2, 2, 2, 2, 2, 2, 2, 2, 2, 2, 2, 1, 1, 1, 1, 1, 1, 1, 1, 1, 1, 1, 1, 1, 1, 1, 1, 1, 1, 1, 1, 1, 1, 1, 1, 1, 1, 1, 1, 1, 1, 1, 1, 1, 1, 1, 1, 1, 1, 1, 1, 1, 1, 1, 1, 1, 1, 1, 1, 1, 1, 1, 1, 1, 1, 1, 1, 1, 1, 1, 1, 1, 1, 1, 1, 1, 1, 1, 1, 1, 1, 1, 1, 1, 1, 1, 1, 1, 1, 1, 1, 1, 1, 1, 1, 1, 1, 1, 1, 1, 1, 1, 1, 1, 1, 1, 1, 1, 1, 1, 1, 1, 1, 1, 1, 1, 1, 1, 1, 1]}, {\"type\": \"box\", \"boxpoints\": false, \"name\": \"Survey issues\", \"y\": [38.0, 13.0, 0.0, 4.0, 0.0, 0.0, 0.0, 5.0, 6.0]}], {\"xaxis\": {\"title\": \"gender\"}, \"title\": \"gender vs issues\", \"yaxis\": {\"title\": \"issues\", \"range\": [\"0\", \"100\"]}}, {\"showLink\": true, \"linkText\": \"Export to plot.ly\"})});</script>"
      ]
     },
     "metadata": {},
     "output_type": "display_data"
    },
    {
     "data": {
      "application/vnd.plotly.v1+json": {
       "data": [
        {
         "boxpoints": "all",
         "jitter": 0.5,
         "marker": {
          "size": 2
         },
         "name": "Male(8)",
         "type": "box",
         "y": [
          0,
          0,
          0,
          0,
          0,
          0,
          0,
          0
         ]
        },
        {
         "boxpoints": "all",
         "jitter": 0.5,
         "marker": {
          "size": 2
         },
         "name": "Female(1)",
         "type": "box",
         "y": [
          0
         ]
        }
       ],
       "layout": {
        "title": "gender vs bugs",
        "xaxis": {
         "title": "gender"
        },
        "yaxis": {
         "title": "bugs"
        }
       }
      },
      "text/html": [
       "<div id=\"dac6fc42-648f-45d0-9778-784d9f82a12f\" style=\"height: 525px; width: 100%;\" class=\"plotly-graph-div\"></div><script type=\"text/javascript\">require([\"plotly\"], function(Plotly) { window.PLOTLYENV=window.PLOTLYENV || {};window.PLOTLYENV.BASE_URL=\"https://plot.ly\";Plotly.newPlot(\"dac6fc42-648f-45d0-9778-784d9f82a12f\", [{\"type\": \"box\", \"boxpoints\": \"all\", \"name\": \"Male(8)\", \"marker\": {\"size\": 2}, \"y\": [0.0, 0.0, 0.0, 0.0, 0.0, 0.0, 0.0, 0.0], \"jitter\": 0.5}, {\"type\": \"box\", \"boxpoints\": \"all\", \"name\": \"Female(1)\", \"marker\": {\"size\": 2}, \"y\": [0.0], \"jitter\": 0.5}], {\"xaxis\": {\"title\": \"gender\"}, \"title\": \"gender vs bugs\", \"yaxis\": {\"title\": \"bugs\"}}, {\"showLink\": true, \"linkText\": \"Export to plot.ly\"})});</script>"
      ],
      "text/vnd.plotly.v1+html": [
       "<div id=\"dac6fc42-648f-45d0-9778-784d9f82a12f\" style=\"height: 525px; width: 100%;\" class=\"plotly-graph-div\"></div><script type=\"text/javascript\">require([\"plotly\"], function(Plotly) { window.PLOTLYENV=window.PLOTLYENV || {};window.PLOTLYENV.BASE_URL=\"https://plot.ly\";Plotly.newPlot(\"dac6fc42-648f-45d0-9778-784d9f82a12f\", [{\"type\": \"box\", \"boxpoints\": \"all\", \"name\": \"Male(8)\", \"marker\": {\"size\": 2}, \"y\": [0.0, 0.0, 0.0, 0.0, 0.0, 0.0, 0.0, 0.0], \"jitter\": 0.5}, {\"type\": \"box\", \"boxpoints\": \"all\", \"name\": \"Female(1)\", \"marker\": {\"size\": 2}, \"y\": [0.0], \"jitter\": 0.5}], {\"xaxis\": {\"title\": \"gender\"}, \"title\": \"gender vs bugs\", \"yaxis\": {\"title\": \"bugs\"}}, {\"showLink\": true, \"linkText\": \"Export to plot.ly\"})});</script>"
      ]
     },
     "metadata": {},
     "output_type": "display_data"
    },
    {
     "data": {
      "application/vnd.plotly.v1+json": {
       "data": [
        {
         "labels": [
          "Male",
          "Female"
         ],
         "type": "pie",
         "values": [
          8,
          1
         ]
        }
       ],
       "layout": {
        "title": "Population Distribution of gender"
       }
      },
      "text/html": [
       "<div id=\"c76ff8b1-cd77-4c0b-9dcb-cf526bef3ab5\" style=\"height: 525px; width: 100%;\" class=\"plotly-graph-div\"></div><script type=\"text/javascript\">require([\"plotly\"], function(Plotly) { window.PLOTLYENV=window.PLOTLYENV || {};window.PLOTLYENV.BASE_URL=\"https://plot.ly\";Plotly.newPlot(\"c76ff8b1-cd77-4c0b-9dcb-cf526bef3ab5\", [{\"type\": \"pie\", \"values\": [8, 1], \"labels\": [\"Male\", \"Female\"]}], {\"title\": \"Population Distribution of gender\"}, {\"showLink\": true, \"linkText\": \"Export to plot.ly\"})});</script>"
      ],
      "text/vnd.plotly.v1+html": [
       "<div id=\"c76ff8b1-cd77-4c0b-9dcb-cf526bef3ab5\" style=\"height: 525px; width: 100%;\" class=\"plotly-graph-div\"></div><script type=\"text/javascript\">require([\"plotly\"], function(Plotly) { window.PLOTLYENV=window.PLOTLYENV || {};window.PLOTLYENV.BASE_URL=\"https://plot.ly\";Plotly.newPlot(\"c76ff8b1-cd77-4c0b-9dcb-cf526bef3ab5\", [{\"type\": \"pie\", \"values\": [8, 1], \"labels\": [\"Male\", \"Female\"]}], {\"title\": \"Population Distribution of gender\"}, {\"showLink\": true, \"linkText\": \"Export to plot.ly\"})});</script>"
      ]
     },
     "metadata": {},
     "output_type": "display_data"
    },
    {
     "data": {
      "application/vnd.plotly.v1+json": {
       "data": [
        {
         "boxpoints": false,
         "name": "Non-employees bugs",
         "type": "box",
         "y": [
          1312,
          427,
          314,
          66,
          48,
          38,
          32,
          27,
          18,
          16,
          15,
          14,
          13,
          13,
          13,
          12,
          11,
          10,
          10,
          10,
          9,
          8,
          8,
          7,
          7,
          7,
          7,
          6,
          6,
          6,
          6,
          6,
          6,
          5,
          5,
          5,
          5,
          5,
          5,
          5,
          5,
          5,
          4,
          4,
          4,
          4,
          4,
          4,
          4,
          4,
          4,
          4,
          4,
          4,
          4,
          4,
          3,
          3,
          3,
          3,
          3,
          3,
          3,
          3,
          3,
          3,
          3,
          3,
          3,
          3,
          3,
          3,
          3,
          3,
          3,
          3,
          2,
          2,
          2,
          2,
          2,
          2,
          2,
          2,
          2,
          2,
          2,
          2,
          2,
          2,
          2,
          2,
          2,
          2,
          2,
          2,
          2,
          2,
          2,
          2,
          2,
          2,
          2,
          2,
          2,
          2,
          2,
          2,
          2,
          2,
          2,
          2,
          1,
          1,
          1,
          1,
          1,
          1,
          1,
          1,
          1,
          1,
          1,
          1,
          1,
          1,
          1,
          1,
          1,
          1,
          1,
          1,
          1,
          1,
          1,
          1,
          1,
          1,
          1,
          1,
          1,
          1,
          1,
          1,
          1,
          1,
          1,
          1,
          1,
          1,
          1,
          1,
          1,
          1,
          1,
          1,
          1,
          1,
          1,
          1,
          1,
          1,
          1,
          1,
          1,
          1,
          1,
          1,
          1,
          1,
          1,
          1,
          1,
          1,
          1,
          1,
          1,
          1,
          1,
          1,
          1,
          1,
          1,
          1,
          1,
          1,
          1,
          1,
          1,
          1,
          1,
          1,
          1,
          1,
          1,
          1,
          1,
          1,
          1,
          1,
          1,
          1,
          1,
          1,
          1,
          1,
          1,
          1,
          1,
          1,
          1,
          1,
          1,
          1,
          1,
          1,
          1,
          1,
          1,
          1,
          1
         ]
        },
        {
         "boxpoints": false,
         "name": "Survey bugs",
         "type": "box",
         "y": [
          0,
          0,
          0,
          0,
          0,
          0,
          0,
          0,
          0
         ]
        }
       ],
       "layout": {
        "title": "gender vs bugs",
        "xaxis": {
         "title": "gender"
        },
        "yaxis": {
         "range": [
          "0",
          "100"
         ],
         "title": "bugs"
        }
       }
      },
      "text/html": [
       "<div id=\"d31905af-bf44-412d-8d7c-6a64dd700f7e\" style=\"height: 525px; width: 100%;\" class=\"plotly-graph-div\"></div><script type=\"text/javascript\">require([\"plotly\"], function(Plotly) { window.PLOTLYENV=window.PLOTLYENV || {};window.PLOTLYENV.BASE_URL=\"https://plot.ly\";Plotly.newPlot(\"d31905af-bf44-412d-8d7c-6a64dd700f7e\", [{\"type\": \"box\", \"boxpoints\": false, \"name\": \"Non-employees bugs\", \"y\": [1312, 427, 314, 66, 48, 38, 32, 27, 18, 16, 15, 14, 13, 13, 13, 12, 11, 10, 10, 10, 9, 8, 8, 7, 7, 7, 7, 6, 6, 6, 6, 6, 6, 5, 5, 5, 5, 5, 5, 5, 5, 5, 4, 4, 4, 4, 4, 4, 4, 4, 4, 4, 4, 4, 4, 4, 3, 3, 3, 3, 3, 3, 3, 3, 3, 3, 3, 3, 3, 3, 3, 3, 3, 3, 3, 3, 2, 2, 2, 2, 2, 2, 2, 2, 2, 2, 2, 2, 2, 2, 2, 2, 2, 2, 2, 2, 2, 2, 2, 2, 2, 2, 2, 2, 2, 2, 2, 2, 2, 2, 2, 2, 1, 1, 1, 1, 1, 1, 1, 1, 1, 1, 1, 1, 1, 1, 1, 1, 1, 1, 1, 1, 1, 1, 1, 1, 1, 1, 1, 1, 1, 1, 1, 1, 1, 1, 1, 1, 1, 1, 1, 1, 1, 1, 1, 1, 1, 1, 1, 1, 1, 1, 1, 1, 1, 1, 1, 1, 1, 1, 1, 1, 1, 1, 1, 1, 1, 1, 1, 1, 1, 1, 1, 1, 1, 1, 1, 1, 1, 1, 1, 1, 1, 1, 1, 1, 1, 1, 1, 1, 1, 1, 1, 1, 1, 1, 1, 1, 1, 1, 1, 1, 1, 1, 1, 1, 1, 1, 1, 1, 1]}, {\"type\": \"box\", \"boxpoints\": false, \"name\": \"Survey bugs\", \"y\": [0.0, 0.0, 0.0, 0.0, 0.0, 0.0, 0.0, 0.0, 0.0]}], {\"xaxis\": {\"title\": \"gender\"}, \"title\": \"gender vs bugs\", \"yaxis\": {\"title\": \"bugs\", \"range\": [\"0\", \"100\"]}}, {\"showLink\": true, \"linkText\": \"Export to plot.ly\"})});</script>"
      ],
      "text/vnd.plotly.v1+html": [
       "<div id=\"d31905af-bf44-412d-8d7c-6a64dd700f7e\" style=\"height: 525px; width: 100%;\" class=\"plotly-graph-div\"></div><script type=\"text/javascript\">require([\"plotly\"], function(Plotly) { window.PLOTLYENV=window.PLOTLYENV || {};window.PLOTLYENV.BASE_URL=\"https://plot.ly\";Plotly.newPlot(\"d31905af-bf44-412d-8d7c-6a64dd700f7e\", [{\"type\": \"box\", \"boxpoints\": false, \"name\": \"Non-employees bugs\", \"y\": [1312, 427, 314, 66, 48, 38, 32, 27, 18, 16, 15, 14, 13, 13, 13, 12, 11, 10, 10, 10, 9, 8, 8, 7, 7, 7, 7, 6, 6, 6, 6, 6, 6, 5, 5, 5, 5, 5, 5, 5, 5, 5, 4, 4, 4, 4, 4, 4, 4, 4, 4, 4, 4, 4, 4, 4, 3, 3, 3, 3, 3, 3, 3, 3, 3, 3, 3, 3, 3, 3, 3, 3, 3, 3, 3, 3, 2, 2, 2, 2, 2, 2, 2, 2, 2, 2, 2, 2, 2, 2, 2, 2, 2, 2, 2, 2, 2, 2, 2, 2, 2, 2, 2, 2, 2, 2, 2, 2, 2, 2, 2, 2, 1, 1, 1, 1, 1, 1, 1, 1, 1, 1, 1, 1, 1, 1, 1, 1, 1, 1, 1, 1, 1, 1, 1, 1, 1, 1, 1, 1, 1, 1, 1, 1, 1, 1, 1, 1, 1, 1, 1, 1, 1, 1, 1, 1, 1, 1, 1, 1, 1, 1, 1, 1, 1, 1, 1, 1, 1, 1, 1, 1, 1, 1, 1, 1, 1, 1, 1, 1, 1, 1, 1, 1, 1, 1, 1, 1, 1, 1, 1, 1, 1, 1, 1, 1, 1, 1, 1, 1, 1, 1, 1, 1, 1, 1, 1, 1, 1, 1, 1, 1, 1, 1, 1, 1, 1, 1, 1, 1, 1]}, {\"type\": \"box\", \"boxpoints\": false, \"name\": \"Survey bugs\", \"y\": [0.0, 0.0, 0.0, 0.0, 0.0, 0.0, 0.0, 0.0, 0.0]}], {\"xaxis\": {\"title\": \"gender\"}, \"title\": \"gender vs bugs\", \"yaxis\": {\"title\": \"bugs\", \"range\": [\"0\", \"100\"]}}, {\"showLink\": true, \"linkText\": \"Export to plot.ly\"})});</script>"
      ]
     },
     "metadata": {},
     "output_type": "display_data"
    },
    {
     "data": {
      "application/vnd.plotly.v1+json": {
       "data": [
        {
         "boxpoints": "all",
         "jitter": 0.5,
         "marker": {
          "size": 2
         },
         "name": "Male(8)",
         "type": "box",
         "y": [
          0,
          0,
          0,
          0,
          0,
          0,
          0,
          0
         ]
        },
        {
         "boxpoints": "all",
         "jitter": 0.5,
         "marker": {
          "size": 2
         },
         "name": "Female(1)",
         "type": "box",
         "y": [
          0
         ]
        }
       ],
       "layout": {
        "title": "gender vs emails",
        "xaxis": {
         "title": "gender"
        },
        "yaxis": {
         "title": "emails"
        }
       }
      },
      "text/html": [
       "<div id=\"6af3ef31-8806-4c5f-b6e2-75936da7a2a5\" style=\"height: 525px; width: 100%;\" class=\"plotly-graph-div\"></div><script type=\"text/javascript\">require([\"plotly\"], function(Plotly) { window.PLOTLYENV=window.PLOTLYENV || {};window.PLOTLYENV.BASE_URL=\"https://plot.ly\";Plotly.newPlot(\"6af3ef31-8806-4c5f-b6e2-75936da7a2a5\", [{\"type\": \"box\", \"boxpoints\": \"all\", \"name\": \"Male(8)\", \"marker\": {\"size\": 2}, \"y\": [0.0, 0.0, 0.0, 0.0, 0.0, 0.0, 0.0, 0.0], \"jitter\": 0.5}, {\"type\": \"box\", \"boxpoints\": \"all\", \"name\": \"Female(1)\", \"marker\": {\"size\": 2}, \"y\": [0.0], \"jitter\": 0.5}], {\"xaxis\": {\"title\": \"gender\"}, \"title\": \"gender vs emails\", \"yaxis\": {\"title\": \"emails\"}}, {\"showLink\": true, \"linkText\": \"Export to plot.ly\"})});</script>"
      ],
      "text/vnd.plotly.v1+html": [
       "<div id=\"6af3ef31-8806-4c5f-b6e2-75936da7a2a5\" style=\"height: 525px; width: 100%;\" class=\"plotly-graph-div\"></div><script type=\"text/javascript\">require([\"plotly\"], function(Plotly) { window.PLOTLYENV=window.PLOTLYENV || {};window.PLOTLYENV.BASE_URL=\"https://plot.ly\";Plotly.newPlot(\"6af3ef31-8806-4c5f-b6e2-75936da7a2a5\", [{\"type\": \"box\", \"boxpoints\": \"all\", \"name\": \"Male(8)\", \"marker\": {\"size\": 2}, \"y\": [0.0, 0.0, 0.0, 0.0, 0.0, 0.0, 0.0, 0.0], \"jitter\": 0.5}, {\"type\": \"box\", \"boxpoints\": \"all\", \"name\": \"Female(1)\", \"marker\": {\"size\": 2}, \"y\": [0.0], \"jitter\": 0.5}], {\"xaxis\": {\"title\": \"gender\"}, \"title\": \"gender vs emails\", \"yaxis\": {\"title\": \"emails\"}}, {\"showLink\": true, \"linkText\": \"Export to plot.ly\"})});</script>"
      ]
     },
     "metadata": {},
     "output_type": "display_data"
    },
    {
     "data": {
      "application/vnd.plotly.v1+json": {
       "data": [
        {
         "labels": [
          "Male",
          "Female"
         ],
         "type": "pie",
         "values": [
          8,
          1
         ]
        }
       ],
       "layout": {
        "title": "Population Distribution of gender"
       }
      },
      "text/html": [
       "<div id=\"822f98ff-2102-43cc-a173-1b4ef68b7b0c\" style=\"height: 525px; width: 100%;\" class=\"plotly-graph-div\"></div><script type=\"text/javascript\">require([\"plotly\"], function(Plotly) { window.PLOTLYENV=window.PLOTLYENV || {};window.PLOTLYENV.BASE_URL=\"https://plot.ly\";Plotly.newPlot(\"822f98ff-2102-43cc-a173-1b4ef68b7b0c\", [{\"type\": \"pie\", \"values\": [8, 1], \"labels\": [\"Male\", \"Female\"]}], {\"title\": \"Population Distribution of gender\"}, {\"showLink\": true, \"linkText\": \"Export to plot.ly\"})});</script>"
      ],
      "text/vnd.plotly.v1+html": [
       "<div id=\"822f98ff-2102-43cc-a173-1b4ef68b7b0c\" style=\"height: 525px; width: 100%;\" class=\"plotly-graph-div\"></div><script type=\"text/javascript\">require([\"plotly\"], function(Plotly) { window.PLOTLYENV=window.PLOTLYENV || {};window.PLOTLYENV.BASE_URL=\"https://plot.ly\";Plotly.newPlot(\"822f98ff-2102-43cc-a173-1b4ef68b7b0c\", [{\"type\": \"pie\", \"values\": [8, 1], \"labels\": [\"Male\", \"Female\"]}], {\"title\": \"Population Distribution of gender\"}, {\"showLink\": true, \"linkText\": \"Export to plot.ly\"})});</script>"
      ]
     },
     "metadata": {},
     "output_type": "display_data"
    },
    {
     "data": {
      "application/vnd.plotly.v1+json": {
       "data": [
        {
         "boxpoints": false,
         "name": "Non-employees emails",
         "type": "box",
         "y": [
          1312,
          427,
          314,
          66,
          48,
          38,
          32,
          27,
          18,
          16,
          15,
          14,
          13,
          13,
          13,
          12,
          11,
          10,
          10,
          10,
          9,
          8,
          8,
          7,
          7,
          7,
          7,
          6,
          6,
          6,
          6,
          6,
          6,
          5,
          5,
          5,
          5,
          5,
          5,
          5,
          5,
          5,
          4,
          4,
          4,
          4,
          4,
          4,
          4,
          4,
          4,
          4,
          4,
          4,
          4,
          4,
          3,
          3,
          3,
          3,
          3,
          3,
          3,
          3,
          3,
          3,
          3,
          3,
          3,
          3,
          3,
          3,
          3,
          3,
          3,
          3,
          2,
          2,
          2,
          2,
          2,
          2,
          2,
          2,
          2,
          2,
          2,
          2,
          2,
          2,
          2,
          2,
          2,
          2,
          2,
          2,
          2,
          2,
          2,
          2,
          2,
          2,
          2,
          2,
          2,
          2,
          2,
          2,
          2,
          2,
          2,
          2,
          1,
          1,
          1,
          1,
          1,
          1,
          1,
          1,
          1,
          1,
          1,
          1,
          1,
          1,
          1,
          1,
          1,
          1,
          1,
          1,
          1,
          1,
          1,
          1,
          1,
          1,
          1,
          1,
          1,
          1,
          1,
          1,
          1,
          1,
          1,
          1,
          1,
          1,
          1,
          1,
          1,
          1,
          1,
          1,
          1,
          1,
          1,
          1,
          1,
          1,
          1,
          1,
          1,
          1,
          1,
          1,
          1,
          1,
          1,
          1,
          1,
          1,
          1,
          1,
          1,
          1,
          1,
          1,
          1,
          1,
          1,
          1,
          1,
          1,
          1,
          1,
          1,
          1,
          1,
          1,
          1,
          1,
          1,
          1,
          1,
          1,
          1,
          1,
          1,
          1,
          1,
          1,
          1,
          1,
          1,
          1,
          1,
          1,
          1,
          1,
          1,
          1,
          1,
          1,
          1,
          1,
          1,
          1,
          1
         ]
        },
        {
         "boxpoints": false,
         "name": "Survey emails",
         "type": "box",
         "y": [
          0,
          0,
          0,
          0,
          0,
          0,
          0,
          0,
          0
         ]
        }
       ],
       "layout": {
        "title": "gender vs emails",
        "xaxis": {
         "title": "gender"
        },
        "yaxis": {
         "range": [
          "0",
          "100"
         ],
         "title": "emails"
        }
       }
      },
      "text/html": [
       "<div id=\"93415381-bdb2-41f9-99f4-a40c0993dbc1\" style=\"height: 525px; width: 100%;\" class=\"plotly-graph-div\"></div><script type=\"text/javascript\">require([\"plotly\"], function(Plotly) { window.PLOTLYENV=window.PLOTLYENV || {};window.PLOTLYENV.BASE_URL=\"https://plot.ly\";Plotly.newPlot(\"93415381-bdb2-41f9-99f4-a40c0993dbc1\", [{\"type\": \"box\", \"boxpoints\": false, \"name\": \"Non-employees emails\", \"y\": [1312, 427, 314, 66, 48, 38, 32, 27, 18, 16, 15, 14, 13, 13, 13, 12, 11, 10, 10, 10, 9, 8, 8, 7, 7, 7, 7, 6, 6, 6, 6, 6, 6, 5, 5, 5, 5, 5, 5, 5, 5, 5, 4, 4, 4, 4, 4, 4, 4, 4, 4, 4, 4, 4, 4, 4, 3, 3, 3, 3, 3, 3, 3, 3, 3, 3, 3, 3, 3, 3, 3, 3, 3, 3, 3, 3, 2, 2, 2, 2, 2, 2, 2, 2, 2, 2, 2, 2, 2, 2, 2, 2, 2, 2, 2, 2, 2, 2, 2, 2, 2, 2, 2, 2, 2, 2, 2, 2, 2, 2, 2, 2, 1, 1, 1, 1, 1, 1, 1, 1, 1, 1, 1, 1, 1, 1, 1, 1, 1, 1, 1, 1, 1, 1, 1, 1, 1, 1, 1, 1, 1, 1, 1, 1, 1, 1, 1, 1, 1, 1, 1, 1, 1, 1, 1, 1, 1, 1, 1, 1, 1, 1, 1, 1, 1, 1, 1, 1, 1, 1, 1, 1, 1, 1, 1, 1, 1, 1, 1, 1, 1, 1, 1, 1, 1, 1, 1, 1, 1, 1, 1, 1, 1, 1, 1, 1, 1, 1, 1, 1, 1, 1, 1, 1, 1, 1, 1, 1, 1, 1, 1, 1, 1, 1, 1, 1, 1, 1, 1, 1, 1]}, {\"type\": \"box\", \"boxpoints\": false, \"name\": \"Survey emails\", \"y\": [0.0, 0.0, 0.0, 0.0, 0.0, 0.0, 0.0, 0.0, 0.0]}], {\"xaxis\": {\"title\": \"gender\"}, \"title\": \"gender vs emails\", \"yaxis\": {\"title\": \"emails\", \"range\": [\"0\", \"100\"]}}, {\"showLink\": true, \"linkText\": \"Export to plot.ly\"})});</script>"
      ],
      "text/vnd.plotly.v1+html": [
       "<div id=\"93415381-bdb2-41f9-99f4-a40c0993dbc1\" style=\"height: 525px; width: 100%;\" class=\"plotly-graph-div\"></div><script type=\"text/javascript\">require([\"plotly\"], function(Plotly) { window.PLOTLYENV=window.PLOTLYENV || {};window.PLOTLYENV.BASE_URL=\"https://plot.ly\";Plotly.newPlot(\"93415381-bdb2-41f9-99f4-a40c0993dbc1\", [{\"type\": \"box\", \"boxpoints\": false, \"name\": \"Non-employees emails\", \"y\": [1312, 427, 314, 66, 48, 38, 32, 27, 18, 16, 15, 14, 13, 13, 13, 12, 11, 10, 10, 10, 9, 8, 8, 7, 7, 7, 7, 6, 6, 6, 6, 6, 6, 5, 5, 5, 5, 5, 5, 5, 5, 5, 4, 4, 4, 4, 4, 4, 4, 4, 4, 4, 4, 4, 4, 4, 3, 3, 3, 3, 3, 3, 3, 3, 3, 3, 3, 3, 3, 3, 3, 3, 3, 3, 3, 3, 2, 2, 2, 2, 2, 2, 2, 2, 2, 2, 2, 2, 2, 2, 2, 2, 2, 2, 2, 2, 2, 2, 2, 2, 2, 2, 2, 2, 2, 2, 2, 2, 2, 2, 2, 2, 1, 1, 1, 1, 1, 1, 1, 1, 1, 1, 1, 1, 1, 1, 1, 1, 1, 1, 1, 1, 1, 1, 1, 1, 1, 1, 1, 1, 1, 1, 1, 1, 1, 1, 1, 1, 1, 1, 1, 1, 1, 1, 1, 1, 1, 1, 1, 1, 1, 1, 1, 1, 1, 1, 1, 1, 1, 1, 1, 1, 1, 1, 1, 1, 1, 1, 1, 1, 1, 1, 1, 1, 1, 1, 1, 1, 1, 1, 1, 1, 1, 1, 1, 1, 1, 1, 1, 1, 1, 1, 1, 1, 1, 1, 1, 1, 1, 1, 1, 1, 1, 1, 1, 1, 1, 1, 1, 1, 1]}, {\"type\": \"box\", \"boxpoints\": false, \"name\": \"Survey emails\", \"y\": [0.0, 0.0, 0.0, 0.0, 0.0, 0.0, 0.0, 0.0, 0.0]}], {\"xaxis\": {\"title\": \"gender\"}, \"title\": \"gender vs emails\", \"yaxis\": {\"title\": \"emails\", \"range\": [\"0\", \"100\"]}}, {\"showLink\": true, \"linkText\": \"Export to plot.ly\"})});</script>"
      ]
     },
     "metadata": {},
     "output_type": "display_data"
    },
    {
     "data": {
      "application/vnd.plotly.v1+json": {
       "data": [
        {
         "boxpoints": "all",
         "jitter": 0.5,
         "marker": {
          "size": 2
         },
         "name": "Male(8)",
         "type": "box",
         "y": [
          0,
          0,
          0,
          0,
          0,
          0,
          1,
          0
         ]
        },
        {
         "boxpoints": "all",
         "jitter": 0.5,
         "marker": {
          "size": 2
         },
         "name": "Female(1)",
         "type": "box",
         "y": [
          0
         ]
        }
       ],
       "layout": {
        "title": "gender vs messages",
        "xaxis": {
         "title": "gender"
        },
        "yaxis": {
         "title": "messages"
        }
       }
      },
      "text/html": [
       "<div id=\"12c0e86e-d979-487a-863b-0727fcd7d1d9\" style=\"height: 525px; width: 100%;\" class=\"plotly-graph-div\"></div><script type=\"text/javascript\">require([\"plotly\"], function(Plotly) { window.PLOTLYENV=window.PLOTLYENV || {};window.PLOTLYENV.BASE_URL=\"https://plot.ly\";Plotly.newPlot(\"12c0e86e-d979-487a-863b-0727fcd7d1d9\", [{\"type\": \"box\", \"boxpoints\": \"all\", \"name\": \"Male(8)\", \"marker\": {\"size\": 2}, \"y\": [0.0, 0.0, 0.0, 0.0, 0.0, 0.0, 1.0, 0.0], \"jitter\": 0.5}, {\"type\": \"box\", \"boxpoints\": \"all\", \"name\": \"Female(1)\", \"marker\": {\"size\": 2}, \"y\": [0.0], \"jitter\": 0.5}], {\"xaxis\": {\"title\": \"gender\"}, \"title\": \"gender vs messages\", \"yaxis\": {\"title\": \"messages\"}}, {\"showLink\": true, \"linkText\": \"Export to plot.ly\"})});</script>"
      ],
      "text/vnd.plotly.v1+html": [
       "<div id=\"12c0e86e-d979-487a-863b-0727fcd7d1d9\" style=\"height: 525px; width: 100%;\" class=\"plotly-graph-div\"></div><script type=\"text/javascript\">require([\"plotly\"], function(Plotly) { window.PLOTLYENV=window.PLOTLYENV || {};window.PLOTLYENV.BASE_URL=\"https://plot.ly\";Plotly.newPlot(\"12c0e86e-d979-487a-863b-0727fcd7d1d9\", [{\"type\": \"box\", \"boxpoints\": \"all\", \"name\": \"Male(8)\", \"marker\": {\"size\": 2}, \"y\": [0.0, 0.0, 0.0, 0.0, 0.0, 0.0, 1.0, 0.0], \"jitter\": 0.5}, {\"type\": \"box\", \"boxpoints\": \"all\", \"name\": \"Female(1)\", \"marker\": {\"size\": 2}, \"y\": [0.0], \"jitter\": 0.5}], {\"xaxis\": {\"title\": \"gender\"}, \"title\": \"gender vs messages\", \"yaxis\": {\"title\": \"messages\"}}, {\"showLink\": true, \"linkText\": \"Export to plot.ly\"})});</script>"
      ]
     },
     "metadata": {},
     "output_type": "display_data"
    },
    {
     "data": {
      "application/vnd.plotly.v1+json": {
       "data": [
        {
         "labels": [
          "Male",
          "Female"
         ],
         "type": "pie",
         "values": [
          8,
          1
         ]
        }
       ],
       "layout": {
        "title": "Population Distribution of gender"
       }
      },
      "text/html": [
       "<div id=\"73f44826-20b9-4a35-9bd9-7c23d3a417a3\" style=\"height: 525px; width: 100%;\" class=\"plotly-graph-div\"></div><script type=\"text/javascript\">require([\"plotly\"], function(Plotly) { window.PLOTLYENV=window.PLOTLYENV || {};window.PLOTLYENV.BASE_URL=\"https://plot.ly\";Plotly.newPlot(\"73f44826-20b9-4a35-9bd9-7c23d3a417a3\", [{\"type\": \"pie\", \"values\": [8, 1], \"labels\": [\"Male\", \"Female\"]}], {\"title\": \"Population Distribution of gender\"}, {\"showLink\": true, \"linkText\": \"Export to plot.ly\"})});</script>"
      ],
      "text/vnd.plotly.v1+html": [
       "<div id=\"73f44826-20b9-4a35-9bd9-7c23d3a417a3\" style=\"height: 525px; width: 100%;\" class=\"plotly-graph-div\"></div><script type=\"text/javascript\">require([\"plotly\"], function(Plotly) { window.PLOTLYENV=window.PLOTLYENV || {};window.PLOTLYENV.BASE_URL=\"https://plot.ly\";Plotly.newPlot(\"73f44826-20b9-4a35-9bd9-7c23d3a417a3\", [{\"type\": \"pie\", \"values\": [8, 1], \"labels\": [\"Male\", \"Female\"]}], {\"title\": \"Population Distribution of gender\"}, {\"showLink\": true, \"linkText\": \"Export to plot.ly\"})});</script>"
      ]
     },
     "metadata": {},
     "output_type": "display_data"
    },
    {
     "data": {
      "application/vnd.plotly.v1+json": {
       "data": [
        {
         "boxpoints": false,
         "name": "Non-employees messages",
         "type": "box",
         "y": [
          1312,
          427,
          314,
          66,
          48,
          38,
          32,
          27,
          18,
          16,
          15,
          14,
          13,
          13,
          13,
          12,
          11,
          10,
          10,
          10,
          9,
          8,
          8,
          7,
          7,
          7,
          7,
          6,
          6,
          6,
          6,
          6,
          6,
          5,
          5,
          5,
          5,
          5,
          5,
          5,
          5,
          5,
          4,
          4,
          4,
          4,
          4,
          4,
          4,
          4,
          4,
          4,
          4,
          4,
          4,
          4,
          3,
          3,
          3,
          3,
          3,
          3,
          3,
          3,
          3,
          3,
          3,
          3,
          3,
          3,
          3,
          3,
          3,
          3,
          3,
          3,
          2,
          2,
          2,
          2,
          2,
          2,
          2,
          2,
          2,
          2,
          2,
          2,
          2,
          2,
          2,
          2,
          2,
          2,
          2,
          2,
          2,
          2,
          2,
          2,
          2,
          2,
          2,
          2,
          2,
          2,
          2,
          2,
          2,
          2,
          2,
          2,
          1,
          1,
          1,
          1,
          1,
          1,
          1,
          1,
          1,
          1,
          1,
          1,
          1,
          1,
          1,
          1,
          1,
          1,
          1,
          1,
          1,
          1,
          1,
          1,
          1,
          1,
          1,
          1,
          1,
          1,
          1,
          1,
          1,
          1,
          1,
          1,
          1,
          1,
          1,
          1,
          1,
          1,
          1,
          1,
          1,
          1,
          1,
          1,
          1,
          1,
          1,
          1,
          1,
          1,
          1,
          1,
          1,
          1,
          1,
          1,
          1,
          1,
          1,
          1,
          1,
          1,
          1,
          1,
          1,
          1,
          1,
          1,
          1,
          1,
          1,
          1,
          1,
          1,
          1,
          1,
          1,
          1,
          1,
          1,
          1,
          1,
          1,
          1,
          1,
          1,
          1,
          1,
          1,
          1,
          1,
          1,
          1,
          1,
          1,
          1,
          1,
          1,
          1,
          1,
          1,
          1,
          1,
          1,
          1
         ]
        },
        {
         "boxpoints": false,
         "name": "Survey messages",
         "type": "box",
         "y": [
          0,
          0,
          0,
          0,
          0,
          0,
          1,
          0,
          0
         ]
        }
       ],
       "layout": {
        "title": "gender vs messages",
        "xaxis": {
         "title": "gender"
        },
        "yaxis": {
         "range": [
          "0",
          "100"
         ],
         "title": "messages"
        }
       }
      },
      "text/html": [
       "<div id=\"dcf83ebc-f463-4da5-bbdc-bedd7df1f5b1\" style=\"height: 525px; width: 100%;\" class=\"plotly-graph-div\"></div><script type=\"text/javascript\">require([\"plotly\"], function(Plotly) { window.PLOTLYENV=window.PLOTLYENV || {};window.PLOTLYENV.BASE_URL=\"https://plot.ly\";Plotly.newPlot(\"dcf83ebc-f463-4da5-bbdc-bedd7df1f5b1\", [{\"type\": \"box\", \"boxpoints\": false, \"name\": \"Non-employees messages\", \"y\": [1312, 427, 314, 66, 48, 38, 32, 27, 18, 16, 15, 14, 13, 13, 13, 12, 11, 10, 10, 10, 9, 8, 8, 7, 7, 7, 7, 6, 6, 6, 6, 6, 6, 5, 5, 5, 5, 5, 5, 5, 5, 5, 4, 4, 4, 4, 4, 4, 4, 4, 4, 4, 4, 4, 4, 4, 3, 3, 3, 3, 3, 3, 3, 3, 3, 3, 3, 3, 3, 3, 3, 3, 3, 3, 3, 3, 2, 2, 2, 2, 2, 2, 2, 2, 2, 2, 2, 2, 2, 2, 2, 2, 2, 2, 2, 2, 2, 2, 2, 2, 2, 2, 2, 2, 2, 2, 2, 2, 2, 2, 2, 2, 1, 1, 1, 1, 1, 1, 1, 1, 1, 1, 1, 1, 1, 1, 1, 1, 1, 1, 1, 1, 1, 1, 1, 1, 1, 1, 1, 1, 1, 1, 1, 1, 1, 1, 1, 1, 1, 1, 1, 1, 1, 1, 1, 1, 1, 1, 1, 1, 1, 1, 1, 1, 1, 1, 1, 1, 1, 1, 1, 1, 1, 1, 1, 1, 1, 1, 1, 1, 1, 1, 1, 1, 1, 1, 1, 1, 1, 1, 1, 1, 1, 1, 1, 1, 1, 1, 1, 1, 1, 1, 1, 1, 1, 1, 1, 1, 1, 1, 1, 1, 1, 1, 1, 1, 1, 1, 1, 1, 1]}, {\"type\": \"box\", \"boxpoints\": false, \"name\": \"Survey messages\", \"y\": [0.0, 0.0, 0.0, 0.0, 0.0, 0.0, 1.0, 0.0, 0.0]}], {\"xaxis\": {\"title\": \"gender\"}, \"title\": \"gender vs messages\", \"yaxis\": {\"title\": \"messages\", \"range\": [\"0\", \"100\"]}}, {\"showLink\": true, \"linkText\": \"Export to plot.ly\"})});</script>"
      ],
      "text/vnd.plotly.v1+html": [
       "<div id=\"dcf83ebc-f463-4da5-bbdc-bedd7df1f5b1\" style=\"height: 525px; width: 100%;\" class=\"plotly-graph-div\"></div><script type=\"text/javascript\">require([\"plotly\"], function(Plotly) { window.PLOTLYENV=window.PLOTLYENV || {};window.PLOTLYENV.BASE_URL=\"https://plot.ly\";Plotly.newPlot(\"dcf83ebc-f463-4da5-bbdc-bedd7df1f5b1\", [{\"type\": \"box\", \"boxpoints\": false, \"name\": \"Non-employees messages\", \"y\": [1312, 427, 314, 66, 48, 38, 32, 27, 18, 16, 15, 14, 13, 13, 13, 12, 11, 10, 10, 10, 9, 8, 8, 7, 7, 7, 7, 6, 6, 6, 6, 6, 6, 5, 5, 5, 5, 5, 5, 5, 5, 5, 4, 4, 4, 4, 4, 4, 4, 4, 4, 4, 4, 4, 4, 4, 3, 3, 3, 3, 3, 3, 3, 3, 3, 3, 3, 3, 3, 3, 3, 3, 3, 3, 3, 3, 2, 2, 2, 2, 2, 2, 2, 2, 2, 2, 2, 2, 2, 2, 2, 2, 2, 2, 2, 2, 2, 2, 2, 2, 2, 2, 2, 2, 2, 2, 2, 2, 2, 2, 2, 2, 1, 1, 1, 1, 1, 1, 1, 1, 1, 1, 1, 1, 1, 1, 1, 1, 1, 1, 1, 1, 1, 1, 1, 1, 1, 1, 1, 1, 1, 1, 1, 1, 1, 1, 1, 1, 1, 1, 1, 1, 1, 1, 1, 1, 1, 1, 1, 1, 1, 1, 1, 1, 1, 1, 1, 1, 1, 1, 1, 1, 1, 1, 1, 1, 1, 1, 1, 1, 1, 1, 1, 1, 1, 1, 1, 1, 1, 1, 1, 1, 1, 1, 1, 1, 1, 1, 1, 1, 1, 1, 1, 1, 1, 1, 1, 1, 1, 1, 1, 1, 1, 1, 1, 1, 1, 1, 1, 1, 1]}, {\"type\": \"box\", \"boxpoints\": false, \"name\": \"Survey messages\", \"y\": [0.0, 0.0, 0.0, 0.0, 0.0, 0.0, 1.0, 0.0, 0.0]}], {\"xaxis\": {\"title\": \"gender\"}, \"title\": \"gender vs messages\", \"yaxis\": {\"title\": \"messages\", \"range\": [\"0\", \"100\"]}}, {\"showLink\": true, \"linkText\": \"Export to plot.ly\"})});</script>"
      ]
     },
     "metadata": {},
     "output_type": "display_data"
    },
    {
     "data": {
      "application/vnd.plotly.v1+json": {
       "data": [
        {
         "boxpoints": "all",
         "jitter": 0.5,
         "marker": {
          "size": 2
         },
         "name": "Male(8)",
         "type": "box",
         "y": [
          1,
          1,
          1,
          1,
          1,
          0,
          0,
          0
         ]
        },
        {
         "boxpoints": "all",
         "jitter": 0.5,
         "marker": {
          "size": 2
         },
         "name": "Female(1)",
         "type": "box",
         "y": [
          1
         ]
        }
       ],
       "layout": {
        "title": "gender vs git project",
        "xaxis": {
         "title": "gender"
        },
        "yaxis": {
         "title": "git project"
        }
       }
      },
      "text/html": [
       "<div id=\"1452918f-9294-4f06-9bdd-b13c8c8726f8\" style=\"height: 525px; width: 100%;\" class=\"plotly-graph-div\"></div><script type=\"text/javascript\">require([\"plotly\"], function(Plotly) { window.PLOTLYENV=window.PLOTLYENV || {};window.PLOTLYENV.BASE_URL=\"https://plot.ly\";Plotly.newPlot(\"1452918f-9294-4f06-9bdd-b13c8c8726f8\", [{\"type\": \"box\", \"boxpoints\": \"all\", \"name\": \"Male(8)\", \"marker\": {\"size\": 2}, \"y\": [1, 1, 1, 1, 1, 0, 0, 0], \"jitter\": 0.5}, {\"type\": \"box\", \"boxpoints\": \"all\", \"name\": \"Female(1)\", \"marker\": {\"size\": 2}, \"y\": [1], \"jitter\": 0.5}], {\"xaxis\": {\"title\": \"gender\"}, \"title\": \"gender vs git project\", \"yaxis\": {\"title\": \"git project\"}}, {\"showLink\": true, \"linkText\": \"Export to plot.ly\"})});</script>"
      ],
      "text/vnd.plotly.v1+html": [
       "<div id=\"1452918f-9294-4f06-9bdd-b13c8c8726f8\" style=\"height: 525px; width: 100%;\" class=\"plotly-graph-div\"></div><script type=\"text/javascript\">require([\"plotly\"], function(Plotly) { window.PLOTLYENV=window.PLOTLYENV || {};window.PLOTLYENV.BASE_URL=\"https://plot.ly\";Plotly.newPlot(\"1452918f-9294-4f06-9bdd-b13c8c8726f8\", [{\"type\": \"box\", \"boxpoints\": \"all\", \"name\": \"Male(8)\", \"marker\": {\"size\": 2}, \"y\": [1, 1, 1, 1, 1, 0, 0, 0], \"jitter\": 0.5}, {\"type\": \"box\", \"boxpoints\": \"all\", \"name\": \"Female(1)\", \"marker\": {\"size\": 2}, \"y\": [1], \"jitter\": 0.5}], {\"xaxis\": {\"title\": \"gender\"}, \"title\": \"gender vs git project\", \"yaxis\": {\"title\": \"git project\"}}, {\"showLink\": true, \"linkText\": \"Export to plot.ly\"})});</script>"
      ]
     },
     "metadata": {},
     "output_type": "display_data"
    },
    {
     "data": {
      "application/vnd.plotly.v1+json": {
       "data": [
        {
         "labels": [
          "Male",
          "Female"
         ],
         "type": "pie",
         "values": [
          8,
          1
         ]
        }
       ],
       "layout": {
        "title": "Population Distribution of gender"
       }
      },
      "text/html": [
       "<div id=\"ed47fead-0dc6-43bf-842d-6aedb2475842\" style=\"height: 525px; width: 100%;\" class=\"plotly-graph-div\"></div><script type=\"text/javascript\">require([\"plotly\"], function(Plotly) { window.PLOTLYENV=window.PLOTLYENV || {};window.PLOTLYENV.BASE_URL=\"https://plot.ly\";Plotly.newPlot(\"ed47fead-0dc6-43bf-842d-6aedb2475842\", [{\"type\": \"pie\", \"values\": [8, 1], \"labels\": [\"Male\", \"Female\"]}], {\"title\": \"Population Distribution of gender\"}, {\"showLink\": true, \"linkText\": \"Export to plot.ly\"})});</script>"
      ],
      "text/vnd.plotly.v1+html": [
       "<div id=\"ed47fead-0dc6-43bf-842d-6aedb2475842\" style=\"height: 525px; width: 100%;\" class=\"plotly-graph-div\"></div><script type=\"text/javascript\">require([\"plotly\"], function(Plotly) { window.PLOTLYENV=window.PLOTLYENV || {};window.PLOTLYENV.BASE_URL=\"https://plot.ly\";Plotly.newPlot(\"ed47fead-0dc6-43bf-842d-6aedb2475842\", [{\"type\": \"pie\", \"values\": [8, 1], \"labels\": [\"Male\", \"Female\"]}], {\"title\": \"Population Distribution of gender\"}, {\"showLink\": true, \"linkText\": \"Export to plot.ly\"})});</script>"
      ]
     },
     "metadata": {},
     "output_type": "display_data"
    },
    {
     "data": {
      "application/vnd.plotly.v1+json": {
       "data": [
        {
         "type": "histogram",
         "x": [
          1,
          1,
          1,
          1,
          1,
          0,
          0,
          0,
          1
         ]
        }
       ],
       "layout": {
        "title": "Distribution of git project",
        "xaxis": {
         "title": "git project"
        },
        "yaxis": {
         "title": "Population"
        }
       }
      },
      "text/html": [
       "<div id=\"4400018d-a8d1-428c-b47c-d7311c8b6254\" style=\"height: 525px; width: 100%;\" class=\"plotly-graph-div\"></div><script type=\"text/javascript\">require([\"plotly\"], function(Plotly) { window.PLOTLYENV=window.PLOTLYENV || {};window.PLOTLYENV.BASE_URL=\"https://plot.ly\";Plotly.newPlot(\"4400018d-a8d1-428c-b47c-d7311c8b6254\", [{\"type\": \"histogram\", \"x\": [1, 1, 1, 1, 1, 0, 0, 0, 1]}], {\"xaxis\": {\"title\": \"git project\"}, \"title\": \"Distribution of git project\", \"yaxis\": {\"title\": \"Population\"}}, {\"showLink\": true, \"linkText\": \"Export to plot.ly\"})});</script>"
      ],
      "text/vnd.plotly.v1+html": [
       "<div id=\"4400018d-a8d1-428c-b47c-d7311c8b6254\" style=\"height: 525px; width: 100%;\" class=\"plotly-graph-div\"></div><script type=\"text/javascript\">require([\"plotly\"], function(Plotly) { window.PLOTLYENV=window.PLOTLYENV || {};window.PLOTLYENV.BASE_URL=\"https://plot.ly\";Plotly.newPlot(\"4400018d-a8d1-428c-b47c-d7311c8b6254\", [{\"type\": \"histogram\", \"x\": [1, 1, 1, 1, 1, 0, 0, 0, 1]}], {\"xaxis\": {\"title\": \"git project\"}, \"title\": \"Distribution of git project\", \"yaxis\": {\"title\": \"Population\"}}, {\"showLink\": true, \"linkText\": \"Export to plot.ly\"})});</script>"
      ]
     },
     "metadata": {},
     "output_type": "display_data"
    },
    {
     "data": {
      "application/vnd.plotly.v1+json": {
       "data": [
        {
         "boxpoints": "all",
         "jitter": 0.5,
         "marker": {
          "size": 2
         },
         "name": "Male(8)",
         "type": "box",
         "y": [
          1,
          1,
          1,
          1,
          1,
          1,
          0,
          1
         ]
        },
        {
         "boxpoints": "all",
         "jitter": 0.5,
         "marker": {
          "size": 2
         },
         "name": "Female(1)",
         "type": "box",
         "y": [
          1
         ]
        }
       ],
       "layout": {
        "title": "gender vs github project",
        "xaxis": {
         "title": "gender"
        },
        "yaxis": {
         "title": "github project"
        }
       }
      },
      "text/html": [
       "<div id=\"e7f8c28b-1ced-4962-b81f-4dadb1e76345\" style=\"height: 525px; width: 100%;\" class=\"plotly-graph-div\"></div><script type=\"text/javascript\">require([\"plotly\"], function(Plotly) { window.PLOTLYENV=window.PLOTLYENV || {};window.PLOTLYENV.BASE_URL=\"https://plot.ly\";Plotly.newPlot(\"e7f8c28b-1ced-4962-b81f-4dadb1e76345\", [{\"type\": \"box\", \"boxpoints\": \"all\", \"name\": \"Male(8)\", \"marker\": {\"size\": 2}, \"y\": [1, 1, 1, 1, 1, 1, 0, 1], \"jitter\": 0.5}, {\"type\": \"box\", \"boxpoints\": \"all\", \"name\": \"Female(1)\", \"marker\": {\"size\": 2}, \"y\": [1], \"jitter\": 0.5}], {\"xaxis\": {\"title\": \"gender\"}, \"title\": \"gender vs github project\", \"yaxis\": {\"title\": \"github project\"}}, {\"showLink\": true, \"linkText\": \"Export to plot.ly\"})});</script>"
      ],
      "text/vnd.plotly.v1+html": [
       "<div id=\"e7f8c28b-1ced-4962-b81f-4dadb1e76345\" style=\"height: 525px; width: 100%;\" class=\"plotly-graph-div\"></div><script type=\"text/javascript\">require([\"plotly\"], function(Plotly) { window.PLOTLYENV=window.PLOTLYENV || {};window.PLOTLYENV.BASE_URL=\"https://plot.ly\";Plotly.newPlot(\"e7f8c28b-1ced-4962-b81f-4dadb1e76345\", [{\"type\": \"box\", \"boxpoints\": \"all\", \"name\": \"Male(8)\", \"marker\": {\"size\": 2}, \"y\": [1, 1, 1, 1, 1, 1, 0, 1], \"jitter\": 0.5}, {\"type\": \"box\", \"boxpoints\": \"all\", \"name\": \"Female(1)\", \"marker\": {\"size\": 2}, \"y\": [1], \"jitter\": 0.5}], {\"xaxis\": {\"title\": \"gender\"}, \"title\": \"gender vs github project\", \"yaxis\": {\"title\": \"github project\"}}, {\"showLink\": true, \"linkText\": \"Export to plot.ly\"})});</script>"
      ]
     },
     "metadata": {},
     "output_type": "display_data"
    },
    {
     "data": {
      "application/vnd.plotly.v1+json": {
       "data": [
        {
         "labels": [
          "Male",
          "Female"
         ],
         "type": "pie",
         "values": [
          8,
          1
         ]
        }
       ],
       "layout": {
        "title": "Population Distribution of gender"
       }
      },
      "text/html": [
       "<div id=\"4d83faea-75e7-44d4-8619-2ee541d99f50\" style=\"height: 525px; width: 100%;\" class=\"plotly-graph-div\"></div><script type=\"text/javascript\">require([\"plotly\"], function(Plotly) { window.PLOTLYENV=window.PLOTLYENV || {};window.PLOTLYENV.BASE_URL=\"https://plot.ly\";Plotly.newPlot(\"4d83faea-75e7-44d4-8619-2ee541d99f50\", [{\"type\": \"pie\", \"values\": [8, 1], \"labels\": [\"Male\", \"Female\"]}], {\"title\": \"Population Distribution of gender\"}, {\"showLink\": true, \"linkText\": \"Export to plot.ly\"})});</script>"
      ],
      "text/vnd.plotly.v1+html": [
       "<div id=\"4d83faea-75e7-44d4-8619-2ee541d99f50\" style=\"height: 525px; width: 100%;\" class=\"plotly-graph-div\"></div><script type=\"text/javascript\">require([\"plotly\"], function(Plotly) { window.PLOTLYENV=window.PLOTLYENV || {};window.PLOTLYENV.BASE_URL=\"https://plot.ly\";Plotly.newPlot(\"4d83faea-75e7-44d4-8619-2ee541d99f50\", [{\"type\": \"pie\", \"values\": [8, 1], \"labels\": [\"Male\", \"Female\"]}], {\"title\": \"Population Distribution of gender\"}, {\"showLink\": true, \"linkText\": \"Export to plot.ly\"})});</script>"
      ]
     },
     "metadata": {},
     "output_type": "display_data"
    },
    {
     "data": {
      "application/vnd.plotly.v1+json": {
       "data": [
        {
         "type": "histogram",
         "x": [
          1,
          1,
          1,
          1,
          1,
          1,
          0,
          1,
          1
         ]
        }
       ],
       "layout": {
        "title": "Distribution of github project",
        "xaxis": {
         "title": "github project"
        },
        "yaxis": {
         "title": "Population"
        }
       }
      },
      "text/html": [
       "<div id=\"9c66e2d0-591c-4f62-b2b5-c4be6a238009\" style=\"height: 525px; width: 100%;\" class=\"plotly-graph-div\"></div><script type=\"text/javascript\">require([\"plotly\"], function(Plotly) { window.PLOTLYENV=window.PLOTLYENV || {};window.PLOTLYENV.BASE_URL=\"https://plot.ly\";Plotly.newPlot(\"9c66e2d0-591c-4f62-b2b5-c4be6a238009\", [{\"type\": \"histogram\", \"x\": [1, 1, 1, 1, 1, 1, 0, 1, 1]}], {\"xaxis\": {\"title\": \"github project\"}, \"title\": \"Distribution of github project\", \"yaxis\": {\"title\": \"Population\"}}, {\"showLink\": true, \"linkText\": \"Export to plot.ly\"})});</script>"
      ],
      "text/vnd.plotly.v1+html": [
       "<div id=\"9c66e2d0-591c-4f62-b2b5-c4be6a238009\" style=\"height: 525px; width: 100%;\" class=\"plotly-graph-div\"></div><script type=\"text/javascript\">require([\"plotly\"], function(Plotly) { window.PLOTLYENV=window.PLOTLYENV || {};window.PLOTLYENV.BASE_URL=\"https://plot.ly\";Plotly.newPlot(\"9c66e2d0-591c-4f62-b2b5-c4be6a238009\", [{\"type\": \"histogram\", \"x\": [1, 1, 1, 1, 1, 1, 0, 1, 1]}], {\"xaxis\": {\"title\": \"github project\"}, \"title\": \"Distribution of github project\", \"yaxis\": {\"title\": \"Population\"}}, {\"showLink\": true, \"linkText\": \"Export to plot.ly\"})});</script>"
      ]
     },
     "metadata": {},
     "output_type": "display_data"
    },
    {
     "data": {
      "application/vnd.plotly.v1+json": {
       "data": [
        {
         "boxpoints": "all",
         "jitter": 0.5,
         "marker": {
          "size": 2
         },
         "name": "Male(8)",
         "type": "box",
         "y": [
          0,
          0,
          0,
          0,
          0,
          0,
          0,
          0
         ]
        },
        {
         "boxpoints": "all",
         "jitter": 0.5,
         "marker": {
          "size": 2
         },
         "name": "Female(1)",
         "type": "box",
         "y": [
          0
         ]
        }
       ],
       "layout": {
        "title": "gender vs bugzilla project",
        "xaxis": {
         "title": "gender"
        },
        "yaxis": {
         "title": "bugzilla project"
        }
       }
      },
      "text/html": [
       "<div id=\"24558a22-3418-4c59-a5ff-d10a64bd0e8d\" style=\"height: 525px; width: 100%;\" class=\"plotly-graph-div\"></div><script type=\"text/javascript\">require([\"plotly\"], function(Plotly) { window.PLOTLYENV=window.PLOTLYENV || {};window.PLOTLYENV.BASE_URL=\"https://plot.ly\";Plotly.newPlot(\"24558a22-3418-4c59-a5ff-d10a64bd0e8d\", [{\"type\": \"box\", \"boxpoints\": \"all\", \"name\": \"Male(8)\", \"marker\": {\"size\": 2}, \"y\": [0, 0, 0, 0, 0, 0, 0, 0], \"jitter\": 0.5}, {\"type\": \"box\", \"boxpoints\": \"all\", \"name\": \"Female(1)\", \"marker\": {\"size\": 2}, \"y\": [0], \"jitter\": 0.5}], {\"xaxis\": {\"title\": \"gender\"}, \"title\": \"gender vs bugzilla project\", \"yaxis\": {\"title\": \"bugzilla project\"}}, {\"showLink\": true, \"linkText\": \"Export to plot.ly\"})});</script>"
      ],
      "text/vnd.plotly.v1+html": [
       "<div id=\"24558a22-3418-4c59-a5ff-d10a64bd0e8d\" style=\"height: 525px; width: 100%;\" class=\"plotly-graph-div\"></div><script type=\"text/javascript\">require([\"plotly\"], function(Plotly) { window.PLOTLYENV=window.PLOTLYENV || {};window.PLOTLYENV.BASE_URL=\"https://plot.ly\";Plotly.newPlot(\"24558a22-3418-4c59-a5ff-d10a64bd0e8d\", [{\"type\": \"box\", \"boxpoints\": \"all\", \"name\": \"Male(8)\", \"marker\": {\"size\": 2}, \"y\": [0, 0, 0, 0, 0, 0, 0, 0], \"jitter\": 0.5}, {\"type\": \"box\", \"boxpoints\": \"all\", \"name\": \"Female(1)\", \"marker\": {\"size\": 2}, \"y\": [0], \"jitter\": 0.5}], {\"xaxis\": {\"title\": \"gender\"}, \"title\": \"gender vs bugzilla project\", \"yaxis\": {\"title\": \"bugzilla project\"}}, {\"showLink\": true, \"linkText\": \"Export to plot.ly\"})});</script>"
      ]
     },
     "metadata": {},
     "output_type": "display_data"
    },
    {
     "data": {
      "application/vnd.plotly.v1+json": {
       "data": [
        {
         "labels": [
          "Male",
          "Female"
         ],
         "type": "pie",
         "values": [
          8,
          1
         ]
        }
       ],
       "layout": {
        "title": "Population Distribution of gender"
       }
      },
      "text/html": [
       "<div id=\"e7ccede9-8b7f-4696-a7b6-45d49d08a469\" style=\"height: 525px; width: 100%;\" class=\"plotly-graph-div\"></div><script type=\"text/javascript\">require([\"plotly\"], function(Plotly) { window.PLOTLYENV=window.PLOTLYENV || {};window.PLOTLYENV.BASE_URL=\"https://plot.ly\";Plotly.newPlot(\"e7ccede9-8b7f-4696-a7b6-45d49d08a469\", [{\"type\": \"pie\", \"values\": [8, 1], \"labels\": [\"Male\", \"Female\"]}], {\"title\": \"Population Distribution of gender\"}, {\"showLink\": true, \"linkText\": \"Export to plot.ly\"})});</script>"
      ],
      "text/vnd.plotly.v1+html": [
       "<div id=\"e7ccede9-8b7f-4696-a7b6-45d49d08a469\" style=\"height: 525px; width: 100%;\" class=\"plotly-graph-div\"></div><script type=\"text/javascript\">require([\"plotly\"], function(Plotly) { window.PLOTLYENV=window.PLOTLYENV || {};window.PLOTLYENV.BASE_URL=\"https://plot.ly\";Plotly.newPlot(\"e7ccede9-8b7f-4696-a7b6-45d49d08a469\", [{\"type\": \"pie\", \"values\": [8, 1], \"labels\": [\"Male\", \"Female\"]}], {\"title\": \"Population Distribution of gender\"}, {\"showLink\": true, \"linkText\": \"Export to plot.ly\"})});</script>"
      ]
     },
     "metadata": {},
     "output_type": "display_data"
    },
    {
     "data": {
      "application/vnd.plotly.v1+json": {
       "data": [
        {
         "type": "histogram",
         "x": [
          0,
          0,
          0,
          0,
          0,
          0,
          0,
          0,
          0
         ]
        }
       ],
       "layout": {
        "title": "Distribution of bugzilla project",
        "xaxis": {
         "title": "bugzilla project"
        },
        "yaxis": {
         "title": "Population"
        }
       }
      },
      "text/html": [
       "<div id=\"b889d374-904f-4dca-a059-acfe551eb437\" style=\"height: 525px; width: 100%;\" class=\"plotly-graph-div\"></div><script type=\"text/javascript\">require([\"plotly\"], function(Plotly) { window.PLOTLYENV=window.PLOTLYENV || {};window.PLOTLYENV.BASE_URL=\"https://plot.ly\";Plotly.newPlot(\"b889d374-904f-4dca-a059-acfe551eb437\", [{\"type\": \"histogram\", \"x\": [0, 0, 0, 0, 0, 0, 0, 0, 0]}], {\"xaxis\": {\"title\": \"bugzilla project\"}, \"title\": \"Distribution of bugzilla project\", \"yaxis\": {\"title\": \"Population\"}}, {\"showLink\": true, \"linkText\": \"Export to plot.ly\"})});</script>"
      ],
      "text/vnd.plotly.v1+html": [
       "<div id=\"b889d374-904f-4dca-a059-acfe551eb437\" style=\"height: 525px; width: 100%;\" class=\"plotly-graph-div\"></div><script type=\"text/javascript\">require([\"plotly\"], function(Plotly) { window.PLOTLYENV=window.PLOTLYENV || {};window.PLOTLYENV.BASE_URL=\"https://plot.ly\";Plotly.newPlot(\"b889d374-904f-4dca-a059-acfe551eb437\", [{\"type\": \"histogram\", \"x\": [0, 0, 0, 0, 0, 0, 0, 0, 0]}], {\"xaxis\": {\"title\": \"bugzilla project\"}, \"title\": \"Distribution of bugzilla project\", \"yaxis\": {\"title\": \"Population\"}}, {\"showLink\": true, \"linkText\": \"Export to plot.ly\"})});</script>"
      ]
     },
     "metadata": {},
     "output_type": "display_data"
    },
    {
     "data": {
      "application/vnd.plotly.v1+json": {
       "data": [
        {
         "boxpoints": "all",
         "jitter": 0.5,
         "marker": {
          "size": 2
         },
         "name": "Male(8)",
         "type": "box",
         "y": [
          0,
          0,
          0,
          0,
          0,
          0,
          0,
          0
         ]
        },
        {
         "boxpoints": "all",
         "jitter": 0.5,
         "marker": {
          "size": 2
         },
         "name": "Female(1)",
         "type": "box",
         "y": [
          0
         ]
        }
       ],
       "layout": {
        "title": "gender vs mbox project",
        "xaxis": {
         "title": "gender"
        },
        "yaxis": {
         "title": "mbox project"
        }
       }
      },
      "text/html": [
       "<div id=\"5e6e2c52-3a11-4086-b5dd-5e1bab08a05f\" style=\"height: 525px; width: 100%;\" class=\"plotly-graph-div\"></div><script type=\"text/javascript\">require([\"plotly\"], function(Plotly) { window.PLOTLYENV=window.PLOTLYENV || {};window.PLOTLYENV.BASE_URL=\"https://plot.ly\";Plotly.newPlot(\"5e6e2c52-3a11-4086-b5dd-5e1bab08a05f\", [{\"type\": \"box\", \"boxpoints\": \"all\", \"name\": \"Male(8)\", \"marker\": {\"size\": 2}, \"y\": [0, 0, 0, 0, 0, 0, 0, 0], \"jitter\": 0.5}, {\"type\": \"box\", \"boxpoints\": \"all\", \"name\": \"Female(1)\", \"marker\": {\"size\": 2}, \"y\": [0], \"jitter\": 0.5}], {\"xaxis\": {\"title\": \"gender\"}, \"title\": \"gender vs mbox project\", \"yaxis\": {\"title\": \"mbox project\"}}, {\"showLink\": true, \"linkText\": \"Export to plot.ly\"})});</script>"
      ],
      "text/vnd.plotly.v1+html": [
       "<div id=\"5e6e2c52-3a11-4086-b5dd-5e1bab08a05f\" style=\"height: 525px; width: 100%;\" class=\"plotly-graph-div\"></div><script type=\"text/javascript\">require([\"plotly\"], function(Plotly) { window.PLOTLYENV=window.PLOTLYENV || {};window.PLOTLYENV.BASE_URL=\"https://plot.ly\";Plotly.newPlot(\"5e6e2c52-3a11-4086-b5dd-5e1bab08a05f\", [{\"type\": \"box\", \"boxpoints\": \"all\", \"name\": \"Male(8)\", \"marker\": {\"size\": 2}, \"y\": [0, 0, 0, 0, 0, 0, 0, 0], \"jitter\": 0.5}, {\"type\": \"box\", \"boxpoints\": \"all\", \"name\": \"Female(1)\", \"marker\": {\"size\": 2}, \"y\": [0], \"jitter\": 0.5}], {\"xaxis\": {\"title\": \"gender\"}, \"title\": \"gender vs mbox project\", \"yaxis\": {\"title\": \"mbox project\"}}, {\"showLink\": true, \"linkText\": \"Export to plot.ly\"})});</script>"
      ]
     },
     "metadata": {},
     "output_type": "display_data"
    },
    {
     "data": {
      "application/vnd.plotly.v1+json": {
       "data": [
        {
         "labels": [
          "Male",
          "Female"
         ],
         "type": "pie",
         "values": [
          8,
          1
         ]
        }
       ],
       "layout": {
        "title": "Population Distribution of gender"
       }
      },
      "text/html": [
       "<div id=\"b77c81e7-b6df-4b2b-b151-54116387d92f\" style=\"height: 525px; width: 100%;\" class=\"plotly-graph-div\"></div><script type=\"text/javascript\">require([\"plotly\"], function(Plotly) { window.PLOTLYENV=window.PLOTLYENV || {};window.PLOTLYENV.BASE_URL=\"https://plot.ly\";Plotly.newPlot(\"b77c81e7-b6df-4b2b-b151-54116387d92f\", [{\"type\": \"pie\", \"values\": [8, 1], \"labels\": [\"Male\", \"Female\"]}], {\"title\": \"Population Distribution of gender\"}, {\"showLink\": true, \"linkText\": \"Export to plot.ly\"})});</script>"
      ],
      "text/vnd.plotly.v1+html": [
       "<div id=\"b77c81e7-b6df-4b2b-b151-54116387d92f\" style=\"height: 525px; width: 100%;\" class=\"plotly-graph-div\"></div><script type=\"text/javascript\">require([\"plotly\"], function(Plotly) { window.PLOTLYENV=window.PLOTLYENV || {};window.PLOTLYENV.BASE_URL=\"https://plot.ly\";Plotly.newPlot(\"b77c81e7-b6df-4b2b-b151-54116387d92f\", [{\"type\": \"pie\", \"values\": [8, 1], \"labels\": [\"Male\", \"Female\"]}], {\"title\": \"Population Distribution of gender\"}, {\"showLink\": true, \"linkText\": \"Export to plot.ly\"})});</script>"
      ]
     },
     "metadata": {},
     "output_type": "display_data"
    },
    {
     "data": {
      "application/vnd.plotly.v1+json": {
       "data": [
        {
         "type": "histogram",
         "x": [
          0,
          0,
          0,
          0,
          0,
          0,
          0,
          0,
          0
         ]
        }
       ],
       "layout": {
        "title": "Distribution of mbox project",
        "xaxis": {
         "title": "mbox project"
        },
        "yaxis": {
         "title": "Population"
        }
       }
      },
      "text/html": [
       "<div id=\"aa144341-9a8e-4d65-bba2-1fae41f97bd7\" style=\"height: 525px; width: 100%;\" class=\"plotly-graph-div\"></div><script type=\"text/javascript\">require([\"plotly\"], function(Plotly) { window.PLOTLYENV=window.PLOTLYENV || {};window.PLOTLYENV.BASE_URL=\"https://plot.ly\";Plotly.newPlot(\"aa144341-9a8e-4d65-bba2-1fae41f97bd7\", [{\"type\": \"histogram\", \"x\": [0, 0, 0, 0, 0, 0, 0, 0, 0]}], {\"xaxis\": {\"title\": \"mbox project\"}, \"title\": \"Distribution of mbox project\", \"yaxis\": {\"title\": \"Population\"}}, {\"showLink\": true, \"linkText\": \"Export to plot.ly\"})});</script>"
      ],
      "text/vnd.plotly.v1+html": [
       "<div id=\"aa144341-9a8e-4d65-bba2-1fae41f97bd7\" style=\"height: 525px; width: 100%;\" class=\"plotly-graph-div\"></div><script type=\"text/javascript\">require([\"plotly\"], function(Plotly) { window.PLOTLYENV=window.PLOTLYENV || {};window.PLOTLYENV.BASE_URL=\"https://plot.ly\";Plotly.newPlot(\"aa144341-9a8e-4d65-bba2-1fae41f97bd7\", [{\"type\": \"histogram\", \"x\": [0, 0, 0, 0, 0, 0, 0, 0, 0]}], {\"xaxis\": {\"title\": \"mbox project\"}, \"title\": \"Distribution of mbox project\", \"yaxis\": {\"title\": \"Population\"}}, {\"showLink\": true, \"linkText\": \"Export to plot.ly\"})});</script>"
      ]
     },
     "metadata": {},
     "output_type": "display_data"
    },
    {
     "data": {
      "application/vnd.plotly.v1+json": {
       "data": [
        {
         "boxpoints": "all",
         "jitter": 0.5,
         "marker": {
          "size": 2
         },
         "name": "Male(8)",
         "type": "box",
         "y": [
          0,
          0,
          0,
          0,
          0,
          0,
          1,
          0
         ]
        },
        {
         "boxpoints": "all",
         "jitter": 0.5,
         "marker": {
          "size": 2
         },
         "name": "Female(1)",
         "type": "box",
         "y": [
          0
         ]
        }
       ],
       "layout": {
        "title": "gender vs discourse project",
        "xaxis": {
         "title": "gender"
        },
        "yaxis": {
         "title": "discourse project"
        }
       }
      },
      "text/html": [
       "<div id=\"cc7705de-f963-4e66-93cd-932120e0d9fd\" style=\"height: 525px; width: 100%;\" class=\"plotly-graph-div\"></div><script type=\"text/javascript\">require([\"plotly\"], function(Plotly) { window.PLOTLYENV=window.PLOTLYENV || {};window.PLOTLYENV.BASE_URL=\"https://plot.ly\";Plotly.newPlot(\"cc7705de-f963-4e66-93cd-932120e0d9fd\", [{\"type\": \"box\", \"boxpoints\": \"all\", \"name\": \"Male(8)\", \"marker\": {\"size\": 2}, \"y\": [0, 0, 0, 0, 0, 0, 1, 0], \"jitter\": 0.5}, {\"type\": \"box\", \"boxpoints\": \"all\", \"name\": \"Female(1)\", \"marker\": {\"size\": 2}, \"y\": [0], \"jitter\": 0.5}], {\"xaxis\": {\"title\": \"gender\"}, \"title\": \"gender vs discourse project\", \"yaxis\": {\"title\": \"discourse project\"}}, {\"showLink\": true, \"linkText\": \"Export to plot.ly\"})});</script>"
      ],
      "text/vnd.plotly.v1+html": [
       "<div id=\"cc7705de-f963-4e66-93cd-932120e0d9fd\" style=\"height: 525px; width: 100%;\" class=\"plotly-graph-div\"></div><script type=\"text/javascript\">require([\"plotly\"], function(Plotly) { window.PLOTLYENV=window.PLOTLYENV || {};window.PLOTLYENV.BASE_URL=\"https://plot.ly\";Plotly.newPlot(\"cc7705de-f963-4e66-93cd-932120e0d9fd\", [{\"type\": \"box\", \"boxpoints\": \"all\", \"name\": \"Male(8)\", \"marker\": {\"size\": 2}, \"y\": [0, 0, 0, 0, 0, 0, 1, 0], \"jitter\": 0.5}, {\"type\": \"box\", \"boxpoints\": \"all\", \"name\": \"Female(1)\", \"marker\": {\"size\": 2}, \"y\": [0], \"jitter\": 0.5}], {\"xaxis\": {\"title\": \"gender\"}, \"title\": \"gender vs discourse project\", \"yaxis\": {\"title\": \"discourse project\"}}, {\"showLink\": true, \"linkText\": \"Export to plot.ly\"})});</script>"
      ]
     },
     "metadata": {},
     "output_type": "display_data"
    },
    {
     "data": {
      "application/vnd.plotly.v1+json": {
       "data": [
        {
         "labels": [
          "Male",
          "Female"
         ],
         "type": "pie",
         "values": [
          8,
          1
         ]
        }
       ],
       "layout": {
        "title": "Population Distribution of gender"
       }
      },
      "text/html": [
       "<div id=\"d43a4436-1add-419b-8f83-195eea88bdf4\" style=\"height: 525px; width: 100%;\" class=\"plotly-graph-div\"></div><script type=\"text/javascript\">require([\"plotly\"], function(Plotly) { window.PLOTLYENV=window.PLOTLYENV || {};window.PLOTLYENV.BASE_URL=\"https://plot.ly\";Plotly.newPlot(\"d43a4436-1add-419b-8f83-195eea88bdf4\", [{\"type\": \"pie\", \"values\": [8, 1], \"labels\": [\"Male\", \"Female\"]}], {\"title\": \"Population Distribution of gender\"}, {\"showLink\": true, \"linkText\": \"Export to plot.ly\"})});</script>"
      ],
      "text/vnd.plotly.v1+html": [
       "<div id=\"d43a4436-1add-419b-8f83-195eea88bdf4\" style=\"height: 525px; width: 100%;\" class=\"plotly-graph-div\"></div><script type=\"text/javascript\">require([\"plotly\"], function(Plotly) { window.PLOTLYENV=window.PLOTLYENV || {};window.PLOTLYENV.BASE_URL=\"https://plot.ly\";Plotly.newPlot(\"d43a4436-1add-419b-8f83-195eea88bdf4\", [{\"type\": \"pie\", \"values\": [8, 1], \"labels\": [\"Male\", \"Female\"]}], {\"title\": \"Population Distribution of gender\"}, {\"showLink\": true, \"linkText\": \"Export to plot.ly\"})});</script>"
      ]
     },
     "metadata": {},
     "output_type": "display_data"
    },
    {
     "data": {
      "application/vnd.plotly.v1+json": {
       "data": [
        {
         "type": "histogram",
         "x": [
          0,
          0,
          0,
          0,
          0,
          0,
          1,
          0,
          0
         ]
        }
       ],
       "layout": {
        "title": "Distribution of discourse project",
        "xaxis": {
         "title": "discourse project"
        },
        "yaxis": {
         "title": "Population"
        }
       }
      },
      "text/html": [
       "<div id=\"75604dc1-9ee1-475d-b12c-ed751e3a47d0\" style=\"height: 525px; width: 100%;\" class=\"plotly-graph-div\"></div><script type=\"text/javascript\">require([\"plotly\"], function(Plotly) { window.PLOTLYENV=window.PLOTLYENV || {};window.PLOTLYENV.BASE_URL=\"https://plot.ly\";Plotly.newPlot(\"75604dc1-9ee1-475d-b12c-ed751e3a47d0\", [{\"type\": \"histogram\", \"x\": [0, 0, 0, 0, 0, 0, 1, 0, 0]}], {\"xaxis\": {\"title\": \"discourse project\"}, \"title\": \"Distribution of discourse project\", \"yaxis\": {\"title\": \"Population\"}}, {\"showLink\": true, \"linkText\": \"Export to plot.ly\"})});</script>"
      ],
      "text/vnd.plotly.v1+html": [
       "<div id=\"75604dc1-9ee1-475d-b12c-ed751e3a47d0\" style=\"height: 525px; width: 100%;\" class=\"plotly-graph-div\"></div><script type=\"text/javascript\">require([\"plotly\"], function(Plotly) { window.PLOTLYENV=window.PLOTLYENV || {};window.PLOTLYENV.BASE_URL=\"https://plot.ly\";Plotly.newPlot(\"75604dc1-9ee1-475d-b12c-ed751e3a47d0\", [{\"type\": \"histogram\", \"x\": [0, 0, 0, 0, 0, 0, 1, 0, 0]}], {\"xaxis\": {\"title\": \"discourse project\"}, \"title\": \"Distribution of discourse project\", \"yaxis\": {\"title\": \"Population\"}}, {\"showLink\": true, \"linkText\": \"Export to plot.ly\"})});</script>"
      ]
     },
     "metadata": {},
     "output_type": "display_data"
    },
    {
     "data": {
      "application/vnd.plotly.v1+json": {
       "data": [
        {
         "boxpoints": "all",
         "jitter": 0.5,
         "marker": {
          "size": 2
         },
         "name": "Male(8)",
         "type": "box",
         "y": [
          3,
          2,
          2,
          2,
          1,
          null,
          null,
          null
         ]
        },
        {
         "boxpoints": "all",
         "jitter": 0.5,
         "marker": {
          "size": 2
         },
         "name": "Female(1)",
         "type": "box",
         "y": [
          1
         ]
        }
       ],
       "layout": {
        "title": "gender vs exp",
        "xaxis": {
         "title": "gender"
        },
        "yaxis": {
         "title": "exp"
        }
       }
      },
      "text/html": [
       "<div id=\"ead54f1c-ba3e-47f2-9c60-74a2f3638140\" style=\"height: 525px; width: 100%;\" class=\"plotly-graph-div\"></div><script type=\"text/javascript\">require([\"plotly\"], function(Plotly) { window.PLOTLYENV=window.PLOTLYENV || {};window.PLOTLYENV.BASE_URL=\"https://plot.ly\";Plotly.newPlot(\"ead54f1c-ba3e-47f2-9c60-74a2f3638140\", [{\"type\": \"box\", \"boxpoints\": \"all\", \"name\": \"Male(8)\", \"marker\": {\"size\": 2}, \"y\": [3.0, 2.0, 2.0, 2.0, 1.0, null, null, null], \"jitter\": 0.5}, {\"type\": \"box\", \"boxpoints\": \"all\", \"name\": \"Female(1)\", \"marker\": {\"size\": 2}, \"y\": [1.0], \"jitter\": 0.5}], {\"xaxis\": {\"title\": \"gender\"}, \"title\": \"gender vs exp\", \"yaxis\": {\"title\": \"exp\"}}, {\"showLink\": true, \"linkText\": \"Export to plot.ly\"})});</script>"
      ],
      "text/vnd.plotly.v1+html": [
       "<div id=\"ead54f1c-ba3e-47f2-9c60-74a2f3638140\" style=\"height: 525px; width: 100%;\" class=\"plotly-graph-div\"></div><script type=\"text/javascript\">require([\"plotly\"], function(Plotly) { window.PLOTLYENV=window.PLOTLYENV || {};window.PLOTLYENV.BASE_URL=\"https://plot.ly\";Plotly.newPlot(\"ead54f1c-ba3e-47f2-9c60-74a2f3638140\", [{\"type\": \"box\", \"boxpoints\": \"all\", \"name\": \"Male(8)\", \"marker\": {\"size\": 2}, \"y\": [3.0, 2.0, 2.0, 2.0, 1.0, null, null, null], \"jitter\": 0.5}, {\"type\": \"box\", \"boxpoints\": \"all\", \"name\": \"Female(1)\", \"marker\": {\"size\": 2}, \"y\": [1.0], \"jitter\": 0.5}], {\"xaxis\": {\"title\": \"gender\"}, \"title\": \"gender vs exp\", \"yaxis\": {\"title\": \"exp\"}}, {\"showLink\": true, \"linkText\": \"Export to plot.ly\"})});</script>"
      ]
     },
     "metadata": {},
     "output_type": "display_data"
    },
    {
     "data": {
      "application/vnd.plotly.v1+json": {
       "data": [
        {
         "labels": [
          "Male",
          "Female"
         ],
         "type": "pie",
         "values": [
          8,
          1
         ]
        }
       ],
       "layout": {
        "title": "Population Distribution of gender"
       }
      },
      "text/html": [
       "<div id=\"64872567-c6ab-40b5-912a-cf3127d8d192\" style=\"height: 525px; width: 100%;\" class=\"plotly-graph-div\"></div><script type=\"text/javascript\">require([\"plotly\"], function(Plotly) { window.PLOTLYENV=window.PLOTLYENV || {};window.PLOTLYENV.BASE_URL=\"https://plot.ly\";Plotly.newPlot(\"64872567-c6ab-40b5-912a-cf3127d8d192\", [{\"type\": \"pie\", \"values\": [8, 1], \"labels\": [\"Male\", \"Female\"]}], {\"title\": \"Population Distribution of gender\"}, {\"showLink\": true, \"linkText\": \"Export to plot.ly\"})});</script>"
      ],
      "text/vnd.plotly.v1+html": [
       "<div id=\"64872567-c6ab-40b5-912a-cf3127d8d192\" style=\"height: 525px; width: 100%;\" class=\"plotly-graph-div\"></div><script type=\"text/javascript\">require([\"plotly\"], function(Plotly) { window.PLOTLYENV=window.PLOTLYENV || {};window.PLOTLYENV.BASE_URL=\"https://plot.ly\";Plotly.newPlot(\"64872567-c6ab-40b5-912a-cf3127d8d192\", [{\"type\": \"pie\", \"values\": [8, 1], \"labels\": [\"Male\", \"Female\"]}], {\"title\": \"Population Distribution of gender\"}, {\"showLink\": true, \"linkText\": \"Export to plot.ly\"})});</script>"
      ]
     },
     "metadata": {},
     "output_type": "display_data"
    },
    {
     "data": {
      "application/vnd.plotly.v1+json": {
       "data": [
        {
         "type": "histogram",
         "x": [
          3,
          2,
          2,
          2,
          1,
          null,
          null,
          null,
          1
         ]
        }
       ],
       "layout": {
        "title": "Distribution of exp",
        "xaxis": {
         "title": "exp"
        },
        "yaxis": {
         "title": "Population"
        }
       }
      },
      "text/html": [
       "<div id=\"e1e4c36f-6576-423e-8cb2-356689573607\" style=\"height: 525px; width: 100%;\" class=\"plotly-graph-div\"></div><script type=\"text/javascript\">require([\"plotly\"], function(Plotly) { window.PLOTLYENV=window.PLOTLYENV || {};window.PLOTLYENV.BASE_URL=\"https://plot.ly\";Plotly.newPlot(\"e1e4c36f-6576-423e-8cb2-356689573607\", [{\"type\": \"histogram\", \"x\": [3.0, 2.0, 2.0, 2.0, 1.0, null, null, null, 1.0]}], {\"xaxis\": {\"title\": \"exp\"}, \"title\": \"Distribution of exp\", \"yaxis\": {\"title\": \"Population\"}}, {\"showLink\": true, \"linkText\": \"Export to plot.ly\"})});</script>"
      ],
      "text/vnd.plotly.v1+html": [
       "<div id=\"e1e4c36f-6576-423e-8cb2-356689573607\" style=\"height: 525px; width: 100%;\" class=\"plotly-graph-div\"></div><script type=\"text/javascript\">require([\"plotly\"], function(Plotly) { window.PLOTLYENV=window.PLOTLYENV || {};window.PLOTLYENV.BASE_URL=\"https://plot.ly\";Plotly.newPlot(\"e1e4c36f-6576-423e-8cb2-356689573607\", [{\"type\": \"histogram\", \"x\": [3.0, 2.0, 2.0, 2.0, 1.0, null, null, null, 1.0]}], {\"xaxis\": {\"title\": \"exp\"}, \"title\": \"Distribution of exp\", \"yaxis\": {\"title\": \"Population\"}}, {\"showLink\": true, \"linkText\": \"Export to plot.ly\"})});</script>"
      ]
     },
     "metadata": {},
     "output_type": "display_data"
    },
    {
     "data": {
      "application/vnd.plotly.v1+json": {
       "data": [
        {
         "boxpoints": "all",
         "jitter": 0.5,
         "marker": {
          "size": 2
         },
         "name": "Male(8)",
         "type": "box",
         "y": [
          "2015",
          "2016",
          "2016",
          "2016",
          "2017",
          null,
          null,
          null
         ]
        },
        {
         "boxpoints": "all",
         "jitter": 0.5,
         "marker": {
          "size": 2
         },
         "name": "Female(1)",
         "type": "box",
         "y": [
          "2016"
         ]
        }
       ],
       "layout": {
        "title": "gender vs first commit",
        "xaxis": {
         "title": "gender"
        },
        "yaxis": {
         "title": "first commit"
        }
       }
      },
      "text/html": [
       "<div id=\"a94ae16f-bcea-4c74-9d07-7bbdbf490bfc\" style=\"height: 525px; width: 100%;\" class=\"plotly-graph-div\"></div><script type=\"text/javascript\">require([\"plotly\"], function(Plotly) { window.PLOTLYENV=window.PLOTLYENV || {};window.PLOTLYENV.BASE_URL=\"https://plot.ly\";Plotly.newPlot(\"a94ae16f-bcea-4c74-9d07-7bbdbf490bfc\", [{\"type\": \"box\", \"boxpoints\": \"all\", \"name\": \"Male(8)\", \"marker\": {\"size\": 2}, \"y\": [\"2015\", \"2016\", \"2016\", \"2016\", \"2017\", null, null, null], \"jitter\": 0.5}, {\"type\": \"box\", \"boxpoints\": \"all\", \"name\": \"Female(1)\", \"marker\": {\"size\": 2}, \"y\": [\"2016\"], \"jitter\": 0.5}], {\"xaxis\": {\"title\": \"gender\"}, \"title\": \"gender vs first commit\", \"yaxis\": {\"title\": \"first commit\"}}, {\"showLink\": true, \"linkText\": \"Export to plot.ly\"})});</script>"
      ],
      "text/vnd.plotly.v1+html": [
       "<div id=\"a94ae16f-bcea-4c74-9d07-7bbdbf490bfc\" style=\"height: 525px; width: 100%;\" class=\"plotly-graph-div\"></div><script type=\"text/javascript\">require([\"plotly\"], function(Plotly) { window.PLOTLYENV=window.PLOTLYENV || {};window.PLOTLYENV.BASE_URL=\"https://plot.ly\";Plotly.newPlot(\"a94ae16f-bcea-4c74-9d07-7bbdbf490bfc\", [{\"type\": \"box\", \"boxpoints\": \"all\", \"name\": \"Male(8)\", \"marker\": {\"size\": 2}, \"y\": [\"2015\", \"2016\", \"2016\", \"2016\", \"2017\", null, null, null], \"jitter\": 0.5}, {\"type\": \"box\", \"boxpoints\": \"all\", \"name\": \"Female(1)\", \"marker\": {\"size\": 2}, \"y\": [\"2016\"], \"jitter\": 0.5}], {\"xaxis\": {\"title\": \"gender\"}, \"title\": \"gender vs first commit\", \"yaxis\": {\"title\": \"first commit\"}}, {\"showLink\": true, \"linkText\": \"Export to plot.ly\"})});</script>"
      ]
     },
     "metadata": {},
     "output_type": "display_data"
    },
    {
     "data": {
      "application/vnd.plotly.v1+json": {
       "data": [
        {
         "labels": [
          "Male",
          "Female"
         ],
         "type": "pie",
         "values": [
          8,
          1
         ]
        }
       ],
       "layout": {
        "title": "Population Distribution of gender"
       }
      },
      "text/html": [
       "<div id=\"a2841b03-5b49-46f5-a835-c90179d6b3b0\" style=\"height: 525px; width: 100%;\" class=\"plotly-graph-div\"></div><script type=\"text/javascript\">require([\"plotly\"], function(Plotly) { window.PLOTLYENV=window.PLOTLYENV || {};window.PLOTLYENV.BASE_URL=\"https://plot.ly\";Plotly.newPlot(\"a2841b03-5b49-46f5-a835-c90179d6b3b0\", [{\"type\": \"pie\", \"values\": [8, 1], \"labels\": [\"Male\", \"Female\"]}], {\"title\": \"Population Distribution of gender\"}, {\"showLink\": true, \"linkText\": \"Export to plot.ly\"})});</script>"
      ],
      "text/vnd.plotly.v1+html": [
       "<div id=\"a2841b03-5b49-46f5-a835-c90179d6b3b0\" style=\"height: 525px; width: 100%;\" class=\"plotly-graph-div\"></div><script type=\"text/javascript\">require([\"plotly\"], function(Plotly) { window.PLOTLYENV=window.PLOTLYENV || {};window.PLOTLYENV.BASE_URL=\"https://plot.ly\";Plotly.newPlot(\"a2841b03-5b49-46f5-a835-c90179d6b3b0\", [{\"type\": \"pie\", \"values\": [8, 1], \"labels\": [\"Male\", \"Female\"]}], {\"title\": \"Population Distribution of gender\"}, {\"showLink\": true, \"linkText\": \"Export to plot.ly\"})});</script>"
      ]
     },
     "metadata": {},
     "output_type": "display_data"
    },
    {
     "data": {
      "application/vnd.plotly.v1+json": {
       "data": [
        {
         "type": "histogram",
         "x": [
          "2015",
          "2016",
          "2016",
          "2016",
          "2017",
          null,
          null,
          null,
          "2016"
         ]
        }
       ],
       "layout": {
        "title": "Distribution of first commit",
        "xaxis": {
         "title": "first commit"
        },
        "yaxis": {
         "title": "Population"
        }
       }
      },
      "text/html": [
       "<div id=\"eb5b1474-1a8c-4134-9983-36c99aa234b4\" style=\"height: 525px; width: 100%;\" class=\"plotly-graph-div\"></div><script type=\"text/javascript\">require([\"plotly\"], function(Plotly) { window.PLOTLYENV=window.PLOTLYENV || {};window.PLOTLYENV.BASE_URL=\"https://plot.ly\";Plotly.newPlot(\"eb5b1474-1a8c-4134-9983-36c99aa234b4\", [{\"type\": \"histogram\", \"x\": [\"2015\", \"2016\", \"2016\", \"2016\", \"2017\", null, null, null, \"2016\"]}], {\"xaxis\": {\"title\": \"first commit\"}, \"title\": \"Distribution of first commit\", \"yaxis\": {\"title\": \"Population\"}}, {\"showLink\": true, \"linkText\": \"Export to plot.ly\"})});</script>"
      ],
      "text/vnd.plotly.v1+html": [
       "<div id=\"eb5b1474-1a8c-4134-9983-36c99aa234b4\" style=\"height: 525px; width: 100%;\" class=\"plotly-graph-div\"></div><script type=\"text/javascript\">require([\"plotly\"], function(Plotly) { window.PLOTLYENV=window.PLOTLYENV || {};window.PLOTLYENV.BASE_URL=\"https://plot.ly\";Plotly.newPlot(\"eb5b1474-1a8c-4134-9983-36c99aa234b4\", [{\"type\": \"histogram\", \"x\": [\"2015\", \"2016\", \"2016\", \"2016\", \"2017\", null, null, null, \"2016\"]}], {\"xaxis\": {\"title\": \"first commit\"}, \"title\": \"Distribution of first commit\", \"yaxis\": {\"title\": \"Population\"}}, {\"showLink\": true, \"linkText\": \"Export to plot.ly\"})});</script>"
      ]
     },
     "metadata": {},
     "output_type": "display_data"
    },
    {
     "data": {
      "application/vnd.plotly.v1+json": {
       "data": [
        {
         "boxpoints": "all",
         "jitter": 0.5,
         "marker": {
          "size": 2
         },
         "name": "Male(8)",
         "type": "box",
         "y": [
          "2017",
          "2017",
          "2017",
          "2017",
          "2017",
          null,
          null,
          null
         ]
        },
        {
         "boxpoints": "all",
         "jitter": 0.5,
         "marker": {
          "size": 2
         },
         "name": "Female(1)",
         "type": "box",
         "y": [
          "2016"
         ]
        }
       ],
       "layout": {
        "title": "gender vs last commit",
        "xaxis": {
         "title": "gender"
        },
        "yaxis": {
         "title": "last commit"
        }
       }
      },
      "text/html": [
       "<div id=\"0651924d-a332-4a95-a993-279a2c0b5b88\" style=\"height: 525px; width: 100%;\" class=\"plotly-graph-div\"></div><script type=\"text/javascript\">require([\"plotly\"], function(Plotly) { window.PLOTLYENV=window.PLOTLYENV || {};window.PLOTLYENV.BASE_URL=\"https://plot.ly\";Plotly.newPlot(\"0651924d-a332-4a95-a993-279a2c0b5b88\", [{\"type\": \"box\", \"boxpoints\": \"all\", \"name\": \"Male(8)\", \"marker\": {\"size\": 2}, \"y\": [\"2017\", \"2017\", \"2017\", \"2017\", \"2017\", null, null, null], \"jitter\": 0.5}, {\"type\": \"box\", \"boxpoints\": \"all\", \"name\": \"Female(1)\", \"marker\": {\"size\": 2}, \"y\": [\"2016\"], \"jitter\": 0.5}], {\"xaxis\": {\"title\": \"gender\"}, \"title\": \"gender vs last commit\", \"yaxis\": {\"title\": \"last commit\"}}, {\"showLink\": true, \"linkText\": \"Export to plot.ly\"})});</script>"
      ],
      "text/vnd.plotly.v1+html": [
       "<div id=\"0651924d-a332-4a95-a993-279a2c0b5b88\" style=\"height: 525px; width: 100%;\" class=\"plotly-graph-div\"></div><script type=\"text/javascript\">require([\"plotly\"], function(Plotly) { window.PLOTLYENV=window.PLOTLYENV || {};window.PLOTLYENV.BASE_URL=\"https://plot.ly\";Plotly.newPlot(\"0651924d-a332-4a95-a993-279a2c0b5b88\", [{\"type\": \"box\", \"boxpoints\": \"all\", \"name\": \"Male(8)\", \"marker\": {\"size\": 2}, \"y\": [\"2017\", \"2017\", \"2017\", \"2017\", \"2017\", null, null, null], \"jitter\": 0.5}, {\"type\": \"box\", \"boxpoints\": \"all\", \"name\": \"Female(1)\", \"marker\": {\"size\": 2}, \"y\": [\"2016\"], \"jitter\": 0.5}], {\"xaxis\": {\"title\": \"gender\"}, \"title\": \"gender vs last commit\", \"yaxis\": {\"title\": \"last commit\"}}, {\"showLink\": true, \"linkText\": \"Export to plot.ly\"})});</script>"
      ]
     },
     "metadata": {},
     "output_type": "display_data"
    },
    {
     "data": {
      "application/vnd.plotly.v1+json": {
       "data": [
        {
         "labels": [
          "Male",
          "Female"
         ],
         "type": "pie",
         "values": [
          8,
          1
         ]
        }
       ],
       "layout": {
        "title": "Population Distribution of gender"
       }
      },
      "text/html": [
       "<div id=\"016002e7-5815-4103-8f91-972cd419640a\" style=\"height: 525px; width: 100%;\" class=\"plotly-graph-div\"></div><script type=\"text/javascript\">require([\"plotly\"], function(Plotly) { window.PLOTLYENV=window.PLOTLYENV || {};window.PLOTLYENV.BASE_URL=\"https://plot.ly\";Plotly.newPlot(\"016002e7-5815-4103-8f91-972cd419640a\", [{\"type\": \"pie\", \"values\": [8, 1], \"labels\": [\"Male\", \"Female\"]}], {\"title\": \"Population Distribution of gender\"}, {\"showLink\": true, \"linkText\": \"Export to plot.ly\"})});</script>"
      ],
      "text/vnd.plotly.v1+html": [
       "<div id=\"016002e7-5815-4103-8f91-972cd419640a\" style=\"height: 525px; width: 100%;\" class=\"plotly-graph-div\"></div><script type=\"text/javascript\">require([\"plotly\"], function(Plotly) { window.PLOTLYENV=window.PLOTLYENV || {};window.PLOTLYENV.BASE_URL=\"https://plot.ly\";Plotly.newPlot(\"016002e7-5815-4103-8f91-972cd419640a\", [{\"type\": \"pie\", \"values\": [8, 1], \"labels\": [\"Male\", \"Female\"]}], {\"title\": \"Population Distribution of gender\"}, {\"showLink\": true, \"linkText\": \"Export to plot.ly\"})});</script>"
      ]
     },
     "metadata": {},
     "output_type": "display_data"
    },
    {
     "data": {
      "application/vnd.plotly.v1+json": {
       "data": [
        {
         "type": "histogram",
         "x": [
          "2017",
          "2017",
          "2017",
          "2017",
          "2017",
          null,
          null,
          null,
          "2016"
         ]
        }
       ],
       "layout": {
        "title": "Distribution of last commit",
        "xaxis": {
         "title": "last commit"
        },
        "yaxis": {
         "title": "Population"
        }
       }
      },
      "text/html": [
       "<div id=\"d296da3d-c60a-4219-a0c0-59cdff035565\" style=\"height: 525px; width: 100%;\" class=\"plotly-graph-div\"></div><script type=\"text/javascript\">require([\"plotly\"], function(Plotly) { window.PLOTLYENV=window.PLOTLYENV || {};window.PLOTLYENV.BASE_URL=\"https://plot.ly\";Plotly.newPlot(\"d296da3d-c60a-4219-a0c0-59cdff035565\", [{\"type\": \"histogram\", \"x\": [\"2017\", \"2017\", \"2017\", \"2017\", \"2017\", null, null, null, \"2016\"]}], {\"xaxis\": {\"title\": \"last commit\"}, \"title\": \"Distribution of last commit\", \"yaxis\": {\"title\": \"Population\"}}, {\"showLink\": true, \"linkText\": \"Export to plot.ly\"})});</script>"
      ],
      "text/vnd.plotly.v1+html": [
       "<div id=\"d296da3d-c60a-4219-a0c0-59cdff035565\" style=\"height: 525px; width: 100%;\" class=\"plotly-graph-div\"></div><script type=\"text/javascript\">require([\"plotly\"], function(Plotly) { window.PLOTLYENV=window.PLOTLYENV || {};window.PLOTLYENV.BASE_URL=\"https://plot.ly\";Plotly.newPlot(\"d296da3d-c60a-4219-a0c0-59cdff035565\", [{\"type\": \"histogram\", \"x\": [\"2017\", \"2017\", \"2017\", \"2017\", \"2017\", null, null, null, \"2016\"]}], {\"xaxis\": {\"title\": \"last commit\"}, \"title\": \"Distribution of last commit\", \"yaxis\": {\"title\": \"Population\"}}, {\"showLink\": true, \"linkText\": \"Export to plot.ly\"})});</script>"
      ]
     },
     "metadata": {},
     "output_type": "display_data"
    },
    {
     "data": {
      "application/vnd.plotly.v1+json": {
       "data": [
        {
         "boxpoints": "all",
         "jitter": 0.5,
         "marker": {
          "size": 2
         },
         "name": "I am not a person with a disability(8)",
         "type": "box",
         "y": [
          66,
          13,
          7,
          5,
          3,
          1,
          0,
          0
         ]
        },
        {
         "boxpoints": "all",
         "jitter": 0.5,
         "marker": {
          "size": 2
         },
         "name": "I am a person with a disability(1)",
         "type": "box",
         "y": [
          0
         ]
        }
       ],
       "layout": {
        "title": "disability vs commits",
        "xaxis": {
         "title": "disability"
        },
        "yaxis": {
         "title": "commits"
        }
       }
      },
      "text/html": [
       "<div id=\"bd89fa91-3bd8-4638-b374-13c9a26d8715\" style=\"height: 525px; width: 100%;\" class=\"plotly-graph-div\"></div><script type=\"text/javascript\">require([\"plotly\"], function(Plotly) { window.PLOTLYENV=window.PLOTLYENV || {};window.PLOTLYENV.BASE_URL=\"https://plot.ly\";Plotly.newPlot(\"bd89fa91-3bd8-4638-b374-13c9a26d8715\", [{\"type\": \"box\", \"boxpoints\": \"all\", \"name\": \"I am not a person with a disability(8)\", \"marker\": {\"size\": 2}, \"y\": [66.0, 13.0, 7.0, 5.0, 3.0, 1.0, 0.0, 0.0], \"jitter\": 0.5}, {\"type\": \"box\", \"boxpoints\": \"all\", \"name\": \"I am a person with a disability(1)\", \"marker\": {\"size\": 2}, \"y\": [0.0], \"jitter\": 0.5}], {\"xaxis\": {\"title\": \"disability\"}, \"title\": \"disability vs commits\", \"yaxis\": {\"title\": \"commits\"}}, {\"showLink\": true, \"linkText\": \"Export to plot.ly\"})});</script>"
      ],
      "text/vnd.plotly.v1+html": [
       "<div id=\"bd89fa91-3bd8-4638-b374-13c9a26d8715\" style=\"height: 525px; width: 100%;\" class=\"plotly-graph-div\"></div><script type=\"text/javascript\">require([\"plotly\"], function(Plotly) { window.PLOTLYENV=window.PLOTLYENV || {};window.PLOTLYENV.BASE_URL=\"https://plot.ly\";Plotly.newPlot(\"bd89fa91-3bd8-4638-b374-13c9a26d8715\", [{\"type\": \"box\", \"boxpoints\": \"all\", \"name\": \"I am not a person with a disability(8)\", \"marker\": {\"size\": 2}, \"y\": [66.0, 13.0, 7.0, 5.0, 3.0, 1.0, 0.0, 0.0], \"jitter\": 0.5}, {\"type\": \"box\", \"boxpoints\": \"all\", \"name\": \"I am a person with a disability(1)\", \"marker\": {\"size\": 2}, \"y\": [0.0], \"jitter\": 0.5}], {\"xaxis\": {\"title\": \"disability\"}, \"title\": \"disability vs commits\", \"yaxis\": {\"title\": \"commits\"}}, {\"showLink\": true, \"linkText\": \"Export to plot.ly\"})});</script>"
      ]
     },
     "metadata": {},
     "output_type": "display_data"
    },
    {
     "data": {
      "application/vnd.plotly.v1+json": {
       "data": [
        {
         "labels": [
          "I am not a person with a disability",
          "I am a person with a disability"
         ],
         "type": "pie",
         "values": [
          8,
          1
         ]
        }
       ],
       "layout": {
        "title": "Population Distribution of disability"
       }
      },
      "text/html": [
       "<div id=\"1a5bc876-5412-46be-ae95-e0b2264523d7\" style=\"height: 525px; width: 100%;\" class=\"plotly-graph-div\"></div><script type=\"text/javascript\">require([\"plotly\"], function(Plotly) { window.PLOTLYENV=window.PLOTLYENV || {};window.PLOTLYENV.BASE_URL=\"https://plot.ly\";Plotly.newPlot(\"1a5bc876-5412-46be-ae95-e0b2264523d7\", [{\"type\": \"pie\", \"values\": [8, 1], \"labels\": [\"I am not a person with a disability\", \"I am a person with a disability\"]}], {\"title\": \"Population Distribution of disability\"}, {\"showLink\": true, \"linkText\": \"Export to plot.ly\"})});</script>"
      ],
      "text/vnd.plotly.v1+html": [
       "<div id=\"1a5bc876-5412-46be-ae95-e0b2264523d7\" style=\"height: 525px; width: 100%;\" class=\"plotly-graph-div\"></div><script type=\"text/javascript\">require([\"plotly\"], function(Plotly) { window.PLOTLYENV=window.PLOTLYENV || {};window.PLOTLYENV.BASE_URL=\"https://plot.ly\";Plotly.newPlot(\"1a5bc876-5412-46be-ae95-e0b2264523d7\", [{\"type\": \"pie\", \"values\": [8, 1], \"labels\": [\"I am not a person with a disability\", \"I am a person with a disability\"]}], {\"title\": \"Population Distribution of disability\"}, {\"showLink\": true, \"linkText\": \"Export to plot.ly\"})});</script>"
      ]
     },
     "metadata": {},
     "output_type": "display_data"
    },
    {
     "data": {
      "application/vnd.plotly.v1+json": {
       "data": [
        {
         "boxpoints": false,
         "name": "Non-employees commits",
         "type": "box",
         "y": [
          1312,
          427,
          314,
          66,
          48,
          38,
          32,
          27,
          18,
          16,
          15,
          14,
          13,
          13,
          13,
          12,
          11,
          10,
          10,
          10,
          9,
          8,
          8,
          7,
          7,
          7,
          7,
          6,
          6,
          6,
          6,
          6,
          6,
          5,
          5,
          5,
          5,
          5,
          5,
          5,
          5,
          5,
          4,
          4,
          4,
          4,
          4,
          4,
          4,
          4,
          4,
          4,
          4,
          4,
          4,
          4,
          3,
          3,
          3,
          3,
          3,
          3,
          3,
          3,
          3,
          3,
          3,
          3,
          3,
          3,
          3,
          3,
          3,
          3,
          3,
          3,
          2,
          2,
          2,
          2,
          2,
          2,
          2,
          2,
          2,
          2,
          2,
          2,
          2,
          2,
          2,
          2,
          2,
          2,
          2,
          2,
          2,
          2,
          2,
          2,
          2,
          2,
          2,
          2,
          2,
          2,
          2,
          2,
          2,
          2,
          2,
          2,
          1,
          1,
          1,
          1,
          1,
          1,
          1,
          1,
          1,
          1,
          1,
          1,
          1,
          1,
          1,
          1,
          1,
          1,
          1,
          1,
          1,
          1,
          1,
          1,
          1,
          1,
          1,
          1,
          1,
          1,
          1,
          1,
          1,
          1,
          1,
          1,
          1,
          1,
          1,
          1,
          1,
          1,
          1,
          1,
          1,
          1,
          1,
          1,
          1,
          1,
          1,
          1,
          1,
          1,
          1,
          1,
          1,
          1,
          1,
          1,
          1,
          1,
          1,
          1,
          1,
          1,
          1,
          1,
          1,
          1,
          1,
          1,
          1,
          1,
          1,
          1,
          1,
          1,
          1,
          1,
          1,
          1,
          1,
          1,
          1,
          1,
          1,
          1,
          1,
          1,
          1,
          1,
          1,
          1,
          1,
          1,
          1,
          1,
          1,
          1,
          1,
          1,
          1,
          1,
          1,
          1,
          1,
          1,
          1
         ]
        },
        {
         "boxpoints": false,
         "name": "Survey commits",
         "type": "box",
         "y": [
          66,
          13,
          7,
          5,
          3,
          1,
          0,
          0,
          0
         ]
        }
       ],
       "layout": {
        "title": "disability vs commits",
        "xaxis": {
         "title": "disability"
        },
        "yaxis": {
         "range": [
          "0",
          "100"
         ],
         "title": "commits"
        }
       }
      },
      "text/html": [
       "<div id=\"396c1b48-0e29-41e6-85fd-004b32a44c0b\" style=\"height: 525px; width: 100%;\" class=\"plotly-graph-div\"></div><script type=\"text/javascript\">require([\"plotly\"], function(Plotly) { window.PLOTLYENV=window.PLOTLYENV || {};window.PLOTLYENV.BASE_URL=\"https://plot.ly\";Plotly.newPlot(\"396c1b48-0e29-41e6-85fd-004b32a44c0b\", [{\"type\": \"box\", \"boxpoints\": false, \"name\": \"Non-employees commits\", \"y\": [1312, 427, 314, 66, 48, 38, 32, 27, 18, 16, 15, 14, 13, 13, 13, 12, 11, 10, 10, 10, 9, 8, 8, 7, 7, 7, 7, 6, 6, 6, 6, 6, 6, 5, 5, 5, 5, 5, 5, 5, 5, 5, 4, 4, 4, 4, 4, 4, 4, 4, 4, 4, 4, 4, 4, 4, 3, 3, 3, 3, 3, 3, 3, 3, 3, 3, 3, 3, 3, 3, 3, 3, 3, 3, 3, 3, 2, 2, 2, 2, 2, 2, 2, 2, 2, 2, 2, 2, 2, 2, 2, 2, 2, 2, 2, 2, 2, 2, 2, 2, 2, 2, 2, 2, 2, 2, 2, 2, 2, 2, 2, 2, 1, 1, 1, 1, 1, 1, 1, 1, 1, 1, 1, 1, 1, 1, 1, 1, 1, 1, 1, 1, 1, 1, 1, 1, 1, 1, 1, 1, 1, 1, 1, 1, 1, 1, 1, 1, 1, 1, 1, 1, 1, 1, 1, 1, 1, 1, 1, 1, 1, 1, 1, 1, 1, 1, 1, 1, 1, 1, 1, 1, 1, 1, 1, 1, 1, 1, 1, 1, 1, 1, 1, 1, 1, 1, 1, 1, 1, 1, 1, 1, 1, 1, 1, 1, 1, 1, 1, 1, 1, 1, 1, 1, 1, 1, 1, 1, 1, 1, 1, 1, 1, 1, 1, 1, 1, 1, 1, 1, 1]}, {\"type\": \"box\", \"boxpoints\": false, \"name\": \"Survey commits\", \"y\": [66.0, 13.0, 7.0, 5.0, 3.0, 1.0, 0.0, 0.0, 0.0]}], {\"xaxis\": {\"title\": \"disability\"}, \"title\": \"disability vs commits\", \"yaxis\": {\"title\": \"commits\", \"range\": [\"0\", \"100\"]}}, {\"showLink\": true, \"linkText\": \"Export to plot.ly\"})});</script>"
      ],
      "text/vnd.plotly.v1+html": [
       "<div id=\"396c1b48-0e29-41e6-85fd-004b32a44c0b\" style=\"height: 525px; width: 100%;\" class=\"plotly-graph-div\"></div><script type=\"text/javascript\">require([\"plotly\"], function(Plotly) { window.PLOTLYENV=window.PLOTLYENV || {};window.PLOTLYENV.BASE_URL=\"https://plot.ly\";Plotly.newPlot(\"396c1b48-0e29-41e6-85fd-004b32a44c0b\", [{\"type\": \"box\", \"boxpoints\": false, \"name\": \"Non-employees commits\", \"y\": [1312, 427, 314, 66, 48, 38, 32, 27, 18, 16, 15, 14, 13, 13, 13, 12, 11, 10, 10, 10, 9, 8, 8, 7, 7, 7, 7, 6, 6, 6, 6, 6, 6, 5, 5, 5, 5, 5, 5, 5, 5, 5, 4, 4, 4, 4, 4, 4, 4, 4, 4, 4, 4, 4, 4, 4, 3, 3, 3, 3, 3, 3, 3, 3, 3, 3, 3, 3, 3, 3, 3, 3, 3, 3, 3, 3, 2, 2, 2, 2, 2, 2, 2, 2, 2, 2, 2, 2, 2, 2, 2, 2, 2, 2, 2, 2, 2, 2, 2, 2, 2, 2, 2, 2, 2, 2, 2, 2, 2, 2, 2, 2, 1, 1, 1, 1, 1, 1, 1, 1, 1, 1, 1, 1, 1, 1, 1, 1, 1, 1, 1, 1, 1, 1, 1, 1, 1, 1, 1, 1, 1, 1, 1, 1, 1, 1, 1, 1, 1, 1, 1, 1, 1, 1, 1, 1, 1, 1, 1, 1, 1, 1, 1, 1, 1, 1, 1, 1, 1, 1, 1, 1, 1, 1, 1, 1, 1, 1, 1, 1, 1, 1, 1, 1, 1, 1, 1, 1, 1, 1, 1, 1, 1, 1, 1, 1, 1, 1, 1, 1, 1, 1, 1, 1, 1, 1, 1, 1, 1, 1, 1, 1, 1, 1, 1, 1, 1, 1, 1, 1, 1]}, {\"type\": \"box\", \"boxpoints\": false, \"name\": \"Survey commits\", \"y\": [66.0, 13.0, 7.0, 5.0, 3.0, 1.0, 0.0, 0.0, 0.0]}], {\"xaxis\": {\"title\": \"disability\"}, \"title\": \"disability vs commits\", \"yaxis\": {\"title\": \"commits\", \"range\": [\"0\", \"100\"]}}, {\"showLink\": true, \"linkText\": \"Export to plot.ly\"})});</script>"
      ]
     },
     "metadata": {},
     "output_type": "display_data"
    },
    {
     "data": {
      "application/vnd.plotly.v1+json": {
       "data": [
        {
         "boxpoints": "all",
         "jitter": 0.5,
         "marker": {
          "size": 2
         },
         "name": "I am not a person with a disability(8)",
         "type": "box",
         "y": [
          54,
          13,
          9,
          3,
          4,
          1,
          0,
          0
         ]
        },
        {
         "boxpoints": "all",
         "jitter": 0.5,
         "marker": {
          "size": 2
         },
         "name": "I am a person with a disability(1)",
         "type": "box",
         "y": [
          1
         ]
        }
       ],
       "layout": {
        "title": "disability vs pull requests",
        "xaxis": {
         "title": "disability"
        },
        "yaxis": {
         "title": "pull requests"
        }
       }
      },
      "text/html": [
       "<div id=\"4d218e4d-1749-481e-bb06-d63e79e7eef2\" style=\"height: 525px; width: 100%;\" class=\"plotly-graph-div\"></div><script type=\"text/javascript\">require([\"plotly\"], function(Plotly) { window.PLOTLYENV=window.PLOTLYENV || {};window.PLOTLYENV.BASE_URL=\"https://plot.ly\";Plotly.newPlot(\"4d218e4d-1749-481e-bb06-d63e79e7eef2\", [{\"type\": \"box\", \"boxpoints\": \"all\", \"name\": \"I am not a person with a disability(8)\", \"marker\": {\"size\": 2}, \"y\": [54.0, 13.0, 9.0, 3.0, 4.0, 1.0, 0.0, 0.0], \"jitter\": 0.5}, {\"type\": \"box\", \"boxpoints\": \"all\", \"name\": \"I am a person with a disability(1)\", \"marker\": {\"size\": 2}, \"y\": [1.0], \"jitter\": 0.5}], {\"xaxis\": {\"title\": \"disability\"}, \"title\": \"disability vs pull requests\", \"yaxis\": {\"title\": \"pull requests\"}}, {\"showLink\": true, \"linkText\": \"Export to plot.ly\"})});</script>"
      ],
      "text/vnd.plotly.v1+html": [
       "<div id=\"4d218e4d-1749-481e-bb06-d63e79e7eef2\" style=\"height: 525px; width: 100%;\" class=\"plotly-graph-div\"></div><script type=\"text/javascript\">require([\"plotly\"], function(Plotly) { window.PLOTLYENV=window.PLOTLYENV || {};window.PLOTLYENV.BASE_URL=\"https://plot.ly\";Plotly.newPlot(\"4d218e4d-1749-481e-bb06-d63e79e7eef2\", [{\"type\": \"box\", \"boxpoints\": \"all\", \"name\": \"I am not a person with a disability(8)\", \"marker\": {\"size\": 2}, \"y\": [54.0, 13.0, 9.0, 3.0, 4.0, 1.0, 0.0, 0.0], \"jitter\": 0.5}, {\"type\": \"box\", \"boxpoints\": \"all\", \"name\": \"I am a person with a disability(1)\", \"marker\": {\"size\": 2}, \"y\": [1.0], \"jitter\": 0.5}], {\"xaxis\": {\"title\": \"disability\"}, \"title\": \"disability vs pull requests\", \"yaxis\": {\"title\": \"pull requests\"}}, {\"showLink\": true, \"linkText\": \"Export to plot.ly\"})});</script>"
      ]
     },
     "metadata": {},
     "output_type": "display_data"
    },
    {
     "data": {
      "application/vnd.plotly.v1+json": {
       "data": [
        {
         "labels": [
          "I am not a person with a disability",
          "I am a person with a disability"
         ],
         "type": "pie",
         "values": [
          8,
          1
         ]
        }
       ],
       "layout": {
        "title": "Population Distribution of disability"
       }
      },
      "text/html": [
       "<div id=\"c8d938df-b8b1-4d02-b563-2f1d26597324\" style=\"height: 525px; width: 100%;\" class=\"plotly-graph-div\"></div><script type=\"text/javascript\">require([\"plotly\"], function(Plotly) { window.PLOTLYENV=window.PLOTLYENV || {};window.PLOTLYENV.BASE_URL=\"https://plot.ly\";Plotly.newPlot(\"c8d938df-b8b1-4d02-b563-2f1d26597324\", [{\"type\": \"pie\", \"values\": [8, 1], \"labels\": [\"I am not a person with a disability\", \"I am a person with a disability\"]}], {\"title\": \"Population Distribution of disability\"}, {\"showLink\": true, \"linkText\": \"Export to plot.ly\"})});</script>"
      ],
      "text/vnd.plotly.v1+html": [
       "<div id=\"c8d938df-b8b1-4d02-b563-2f1d26597324\" style=\"height: 525px; width: 100%;\" class=\"plotly-graph-div\"></div><script type=\"text/javascript\">require([\"plotly\"], function(Plotly) { window.PLOTLYENV=window.PLOTLYENV || {};window.PLOTLYENV.BASE_URL=\"https://plot.ly\";Plotly.newPlot(\"c8d938df-b8b1-4d02-b563-2f1d26597324\", [{\"type\": \"pie\", \"values\": [8, 1], \"labels\": [\"I am not a person with a disability\", \"I am a person with a disability\"]}], {\"title\": \"Population Distribution of disability\"}, {\"showLink\": true, \"linkText\": \"Export to plot.ly\"})});</script>"
      ]
     },
     "metadata": {},
     "output_type": "display_data"
    },
    {
     "data": {
      "application/vnd.plotly.v1+json": {
       "data": [
        {
         "boxpoints": false,
         "name": "Non-employees pull requests",
         "type": "box",
         "y": [
          1312,
          427,
          314,
          66,
          48,
          38,
          32,
          27,
          18,
          16,
          15,
          14,
          13,
          13,
          13,
          12,
          11,
          10,
          10,
          10,
          9,
          8,
          8,
          7,
          7,
          7,
          7,
          6,
          6,
          6,
          6,
          6,
          6,
          5,
          5,
          5,
          5,
          5,
          5,
          5,
          5,
          5,
          4,
          4,
          4,
          4,
          4,
          4,
          4,
          4,
          4,
          4,
          4,
          4,
          4,
          4,
          3,
          3,
          3,
          3,
          3,
          3,
          3,
          3,
          3,
          3,
          3,
          3,
          3,
          3,
          3,
          3,
          3,
          3,
          3,
          3,
          2,
          2,
          2,
          2,
          2,
          2,
          2,
          2,
          2,
          2,
          2,
          2,
          2,
          2,
          2,
          2,
          2,
          2,
          2,
          2,
          2,
          2,
          2,
          2,
          2,
          2,
          2,
          2,
          2,
          2,
          2,
          2,
          2,
          2,
          2,
          2,
          1,
          1,
          1,
          1,
          1,
          1,
          1,
          1,
          1,
          1,
          1,
          1,
          1,
          1,
          1,
          1,
          1,
          1,
          1,
          1,
          1,
          1,
          1,
          1,
          1,
          1,
          1,
          1,
          1,
          1,
          1,
          1,
          1,
          1,
          1,
          1,
          1,
          1,
          1,
          1,
          1,
          1,
          1,
          1,
          1,
          1,
          1,
          1,
          1,
          1,
          1,
          1,
          1,
          1,
          1,
          1,
          1,
          1,
          1,
          1,
          1,
          1,
          1,
          1,
          1,
          1,
          1,
          1,
          1,
          1,
          1,
          1,
          1,
          1,
          1,
          1,
          1,
          1,
          1,
          1,
          1,
          1,
          1,
          1,
          1,
          1,
          1,
          1,
          1,
          1,
          1,
          1,
          1,
          1,
          1,
          1,
          1,
          1,
          1,
          1,
          1,
          1,
          1,
          1,
          1,
          1,
          1,
          1,
          1
         ]
        },
        {
         "boxpoints": false,
         "name": "Survey pull requests",
         "type": "box",
         "y": [
          54,
          13,
          9,
          3,
          4,
          1,
          0,
          0,
          1
         ]
        }
       ],
       "layout": {
        "title": "disability vs pull requests",
        "xaxis": {
         "title": "disability"
        },
        "yaxis": {
         "range": [
          "0",
          "100"
         ],
         "title": "pull requests"
        }
       }
      },
      "text/html": [
       "<div id=\"9d2f9286-c556-4df5-9679-3a3e31f56d99\" style=\"height: 525px; width: 100%;\" class=\"plotly-graph-div\"></div><script type=\"text/javascript\">require([\"plotly\"], function(Plotly) { window.PLOTLYENV=window.PLOTLYENV || {};window.PLOTLYENV.BASE_URL=\"https://plot.ly\";Plotly.newPlot(\"9d2f9286-c556-4df5-9679-3a3e31f56d99\", [{\"type\": \"box\", \"boxpoints\": false, \"name\": \"Non-employees pull requests\", \"y\": [1312, 427, 314, 66, 48, 38, 32, 27, 18, 16, 15, 14, 13, 13, 13, 12, 11, 10, 10, 10, 9, 8, 8, 7, 7, 7, 7, 6, 6, 6, 6, 6, 6, 5, 5, 5, 5, 5, 5, 5, 5, 5, 4, 4, 4, 4, 4, 4, 4, 4, 4, 4, 4, 4, 4, 4, 3, 3, 3, 3, 3, 3, 3, 3, 3, 3, 3, 3, 3, 3, 3, 3, 3, 3, 3, 3, 2, 2, 2, 2, 2, 2, 2, 2, 2, 2, 2, 2, 2, 2, 2, 2, 2, 2, 2, 2, 2, 2, 2, 2, 2, 2, 2, 2, 2, 2, 2, 2, 2, 2, 2, 2, 1, 1, 1, 1, 1, 1, 1, 1, 1, 1, 1, 1, 1, 1, 1, 1, 1, 1, 1, 1, 1, 1, 1, 1, 1, 1, 1, 1, 1, 1, 1, 1, 1, 1, 1, 1, 1, 1, 1, 1, 1, 1, 1, 1, 1, 1, 1, 1, 1, 1, 1, 1, 1, 1, 1, 1, 1, 1, 1, 1, 1, 1, 1, 1, 1, 1, 1, 1, 1, 1, 1, 1, 1, 1, 1, 1, 1, 1, 1, 1, 1, 1, 1, 1, 1, 1, 1, 1, 1, 1, 1, 1, 1, 1, 1, 1, 1, 1, 1, 1, 1, 1, 1, 1, 1, 1, 1, 1, 1]}, {\"type\": \"box\", \"boxpoints\": false, \"name\": \"Survey pull requests\", \"y\": [54.0, 13.0, 9.0, 3.0, 4.0, 1.0, 0.0, 0.0, 1.0]}], {\"xaxis\": {\"title\": \"disability\"}, \"title\": \"disability vs pull requests\", \"yaxis\": {\"title\": \"pull requests\", \"range\": [\"0\", \"100\"]}}, {\"showLink\": true, \"linkText\": \"Export to plot.ly\"})});</script>"
      ],
      "text/vnd.plotly.v1+html": [
       "<div id=\"9d2f9286-c556-4df5-9679-3a3e31f56d99\" style=\"height: 525px; width: 100%;\" class=\"plotly-graph-div\"></div><script type=\"text/javascript\">require([\"plotly\"], function(Plotly) { window.PLOTLYENV=window.PLOTLYENV || {};window.PLOTLYENV.BASE_URL=\"https://plot.ly\";Plotly.newPlot(\"9d2f9286-c556-4df5-9679-3a3e31f56d99\", [{\"type\": \"box\", \"boxpoints\": false, \"name\": \"Non-employees pull requests\", \"y\": [1312, 427, 314, 66, 48, 38, 32, 27, 18, 16, 15, 14, 13, 13, 13, 12, 11, 10, 10, 10, 9, 8, 8, 7, 7, 7, 7, 6, 6, 6, 6, 6, 6, 5, 5, 5, 5, 5, 5, 5, 5, 5, 4, 4, 4, 4, 4, 4, 4, 4, 4, 4, 4, 4, 4, 4, 3, 3, 3, 3, 3, 3, 3, 3, 3, 3, 3, 3, 3, 3, 3, 3, 3, 3, 3, 3, 2, 2, 2, 2, 2, 2, 2, 2, 2, 2, 2, 2, 2, 2, 2, 2, 2, 2, 2, 2, 2, 2, 2, 2, 2, 2, 2, 2, 2, 2, 2, 2, 2, 2, 2, 2, 1, 1, 1, 1, 1, 1, 1, 1, 1, 1, 1, 1, 1, 1, 1, 1, 1, 1, 1, 1, 1, 1, 1, 1, 1, 1, 1, 1, 1, 1, 1, 1, 1, 1, 1, 1, 1, 1, 1, 1, 1, 1, 1, 1, 1, 1, 1, 1, 1, 1, 1, 1, 1, 1, 1, 1, 1, 1, 1, 1, 1, 1, 1, 1, 1, 1, 1, 1, 1, 1, 1, 1, 1, 1, 1, 1, 1, 1, 1, 1, 1, 1, 1, 1, 1, 1, 1, 1, 1, 1, 1, 1, 1, 1, 1, 1, 1, 1, 1, 1, 1, 1, 1, 1, 1, 1, 1, 1, 1]}, {\"type\": \"box\", \"boxpoints\": false, \"name\": \"Survey pull requests\", \"y\": [54.0, 13.0, 9.0, 3.0, 4.0, 1.0, 0.0, 0.0, 1.0]}], {\"xaxis\": {\"title\": \"disability\"}, \"title\": \"disability vs pull requests\", \"yaxis\": {\"title\": \"pull requests\", \"range\": [\"0\", \"100\"]}}, {\"showLink\": true, \"linkText\": \"Export to plot.ly\"})});</script>"
      ]
     },
     "metadata": {},
     "output_type": "display_data"
    },
    {
     "data": {
      "application/vnd.plotly.v1+json": {
       "data": [
        {
         "boxpoints": "all",
         "jitter": 0.5,
         "marker": {
          "size": 2
         },
         "name": "I am not a person with a disability(8)",
         "type": "box",
         "y": [
          38,
          6,
          13,
          0,
          4,
          0,
          0,
          5
         ]
        },
        {
         "boxpoints": "all",
         "jitter": 0.5,
         "marker": {
          "size": 2
         },
         "name": "I am a person with a disability(1)",
         "type": "box",
         "y": [
          0
         ]
        }
       ],
       "layout": {
        "title": "disability vs issues",
        "xaxis": {
         "title": "disability"
        },
        "yaxis": {
         "title": "issues"
        }
       }
      },
      "text/html": [
       "<div id=\"27ddf592-15f5-471a-92b9-9e198da6f2f9\" style=\"height: 525px; width: 100%;\" class=\"plotly-graph-div\"></div><script type=\"text/javascript\">require([\"plotly\"], function(Plotly) { window.PLOTLYENV=window.PLOTLYENV || {};window.PLOTLYENV.BASE_URL=\"https://plot.ly\";Plotly.newPlot(\"27ddf592-15f5-471a-92b9-9e198da6f2f9\", [{\"type\": \"box\", \"boxpoints\": \"all\", \"name\": \"I am not a person with a disability(8)\", \"marker\": {\"size\": 2}, \"y\": [38.0, 6.0, 13.0, 0.0, 4.0, 0.0, 0.0, 5.0], \"jitter\": 0.5}, {\"type\": \"box\", \"boxpoints\": \"all\", \"name\": \"I am a person with a disability(1)\", \"marker\": {\"size\": 2}, \"y\": [0.0], \"jitter\": 0.5}], {\"xaxis\": {\"title\": \"disability\"}, \"title\": \"disability vs issues\", \"yaxis\": {\"title\": \"issues\"}}, {\"showLink\": true, \"linkText\": \"Export to plot.ly\"})});</script>"
      ],
      "text/vnd.plotly.v1+html": [
       "<div id=\"27ddf592-15f5-471a-92b9-9e198da6f2f9\" style=\"height: 525px; width: 100%;\" class=\"plotly-graph-div\"></div><script type=\"text/javascript\">require([\"plotly\"], function(Plotly) { window.PLOTLYENV=window.PLOTLYENV || {};window.PLOTLYENV.BASE_URL=\"https://plot.ly\";Plotly.newPlot(\"27ddf592-15f5-471a-92b9-9e198da6f2f9\", [{\"type\": \"box\", \"boxpoints\": \"all\", \"name\": \"I am not a person with a disability(8)\", \"marker\": {\"size\": 2}, \"y\": [38.0, 6.0, 13.0, 0.0, 4.0, 0.0, 0.0, 5.0], \"jitter\": 0.5}, {\"type\": \"box\", \"boxpoints\": \"all\", \"name\": \"I am a person with a disability(1)\", \"marker\": {\"size\": 2}, \"y\": [0.0], \"jitter\": 0.5}], {\"xaxis\": {\"title\": \"disability\"}, \"title\": \"disability vs issues\", \"yaxis\": {\"title\": \"issues\"}}, {\"showLink\": true, \"linkText\": \"Export to plot.ly\"})});</script>"
      ]
     },
     "metadata": {},
     "output_type": "display_data"
    },
    {
     "data": {
      "application/vnd.plotly.v1+json": {
       "data": [
        {
         "labels": [
          "I am not a person with a disability",
          "I am a person with a disability"
         ],
         "type": "pie",
         "values": [
          8,
          1
         ]
        }
       ],
       "layout": {
        "title": "Population Distribution of disability"
       }
      },
      "text/html": [
       "<div id=\"85a07620-6cbc-4f4e-b048-06f87c50f2ee\" style=\"height: 525px; width: 100%;\" class=\"plotly-graph-div\"></div><script type=\"text/javascript\">require([\"plotly\"], function(Plotly) { window.PLOTLYENV=window.PLOTLYENV || {};window.PLOTLYENV.BASE_URL=\"https://plot.ly\";Plotly.newPlot(\"85a07620-6cbc-4f4e-b048-06f87c50f2ee\", [{\"type\": \"pie\", \"values\": [8, 1], \"labels\": [\"I am not a person with a disability\", \"I am a person with a disability\"]}], {\"title\": \"Population Distribution of disability\"}, {\"showLink\": true, \"linkText\": \"Export to plot.ly\"})});</script>"
      ],
      "text/vnd.plotly.v1+html": [
       "<div id=\"85a07620-6cbc-4f4e-b048-06f87c50f2ee\" style=\"height: 525px; width: 100%;\" class=\"plotly-graph-div\"></div><script type=\"text/javascript\">require([\"plotly\"], function(Plotly) { window.PLOTLYENV=window.PLOTLYENV || {};window.PLOTLYENV.BASE_URL=\"https://plot.ly\";Plotly.newPlot(\"85a07620-6cbc-4f4e-b048-06f87c50f2ee\", [{\"type\": \"pie\", \"values\": [8, 1], \"labels\": [\"I am not a person with a disability\", \"I am a person with a disability\"]}], {\"title\": \"Population Distribution of disability\"}, {\"showLink\": true, \"linkText\": \"Export to plot.ly\"})});</script>"
      ]
     },
     "metadata": {},
     "output_type": "display_data"
    },
    {
     "data": {
      "application/vnd.plotly.v1+json": {
       "data": [
        {
         "boxpoints": false,
         "name": "Non-employees issues",
         "type": "box",
         "y": [
          1312,
          427,
          314,
          66,
          48,
          38,
          32,
          27,
          18,
          16,
          15,
          14,
          13,
          13,
          13,
          12,
          11,
          10,
          10,
          10,
          9,
          8,
          8,
          7,
          7,
          7,
          7,
          6,
          6,
          6,
          6,
          6,
          6,
          5,
          5,
          5,
          5,
          5,
          5,
          5,
          5,
          5,
          4,
          4,
          4,
          4,
          4,
          4,
          4,
          4,
          4,
          4,
          4,
          4,
          4,
          4,
          3,
          3,
          3,
          3,
          3,
          3,
          3,
          3,
          3,
          3,
          3,
          3,
          3,
          3,
          3,
          3,
          3,
          3,
          3,
          3,
          2,
          2,
          2,
          2,
          2,
          2,
          2,
          2,
          2,
          2,
          2,
          2,
          2,
          2,
          2,
          2,
          2,
          2,
          2,
          2,
          2,
          2,
          2,
          2,
          2,
          2,
          2,
          2,
          2,
          2,
          2,
          2,
          2,
          2,
          2,
          2,
          1,
          1,
          1,
          1,
          1,
          1,
          1,
          1,
          1,
          1,
          1,
          1,
          1,
          1,
          1,
          1,
          1,
          1,
          1,
          1,
          1,
          1,
          1,
          1,
          1,
          1,
          1,
          1,
          1,
          1,
          1,
          1,
          1,
          1,
          1,
          1,
          1,
          1,
          1,
          1,
          1,
          1,
          1,
          1,
          1,
          1,
          1,
          1,
          1,
          1,
          1,
          1,
          1,
          1,
          1,
          1,
          1,
          1,
          1,
          1,
          1,
          1,
          1,
          1,
          1,
          1,
          1,
          1,
          1,
          1,
          1,
          1,
          1,
          1,
          1,
          1,
          1,
          1,
          1,
          1,
          1,
          1,
          1,
          1,
          1,
          1,
          1,
          1,
          1,
          1,
          1,
          1,
          1,
          1,
          1,
          1,
          1,
          1,
          1,
          1,
          1,
          1,
          1,
          1,
          1,
          1,
          1,
          1,
          1
         ]
        },
        {
         "boxpoints": false,
         "name": "Survey issues",
         "type": "box",
         "y": [
          38,
          6,
          13,
          0,
          4,
          0,
          0,
          5,
          0
         ]
        }
       ],
       "layout": {
        "title": "disability vs issues",
        "xaxis": {
         "title": "disability"
        },
        "yaxis": {
         "range": [
          "0",
          "100"
         ],
         "title": "issues"
        }
       }
      },
      "text/html": [
       "<div id=\"74606aca-a38b-4ede-a6d8-b10ffd57baa6\" style=\"height: 525px; width: 100%;\" class=\"plotly-graph-div\"></div><script type=\"text/javascript\">require([\"plotly\"], function(Plotly) { window.PLOTLYENV=window.PLOTLYENV || {};window.PLOTLYENV.BASE_URL=\"https://plot.ly\";Plotly.newPlot(\"74606aca-a38b-4ede-a6d8-b10ffd57baa6\", [{\"type\": \"box\", \"boxpoints\": false, \"name\": \"Non-employees issues\", \"y\": [1312, 427, 314, 66, 48, 38, 32, 27, 18, 16, 15, 14, 13, 13, 13, 12, 11, 10, 10, 10, 9, 8, 8, 7, 7, 7, 7, 6, 6, 6, 6, 6, 6, 5, 5, 5, 5, 5, 5, 5, 5, 5, 4, 4, 4, 4, 4, 4, 4, 4, 4, 4, 4, 4, 4, 4, 3, 3, 3, 3, 3, 3, 3, 3, 3, 3, 3, 3, 3, 3, 3, 3, 3, 3, 3, 3, 2, 2, 2, 2, 2, 2, 2, 2, 2, 2, 2, 2, 2, 2, 2, 2, 2, 2, 2, 2, 2, 2, 2, 2, 2, 2, 2, 2, 2, 2, 2, 2, 2, 2, 2, 2, 1, 1, 1, 1, 1, 1, 1, 1, 1, 1, 1, 1, 1, 1, 1, 1, 1, 1, 1, 1, 1, 1, 1, 1, 1, 1, 1, 1, 1, 1, 1, 1, 1, 1, 1, 1, 1, 1, 1, 1, 1, 1, 1, 1, 1, 1, 1, 1, 1, 1, 1, 1, 1, 1, 1, 1, 1, 1, 1, 1, 1, 1, 1, 1, 1, 1, 1, 1, 1, 1, 1, 1, 1, 1, 1, 1, 1, 1, 1, 1, 1, 1, 1, 1, 1, 1, 1, 1, 1, 1, 1, 1, 1, 1, 1, 1, 1, 1, 1, 1, 1, 1, 1, 1, 1, 1, 1, 1, 1]}, {\"type\": \"box\", \"boxpoints\": false, \"name\": \"Survey issues\", \"y\": [38.0, 6.0, 13.0, 0.0, 4.0, 0.0, 0.0, 5.0, 0.0]}], {\"xaxis\": {\"title\": \"disability\"}, \"title\": \"disability vs issues\", \"yaxis\": {\"title\": \"issues\", \"range\": [\"0\", \"100\"]}}, {\"showLink\": true, \"linkText\": \"Export to plot.ly\"})});</script>"
      ],
      "text/vnd.plotly.v1+html": [
       "<div id=\"74606aca-a38b-4ede-a6d8-b10ffd57baa6\" style=\"height: 525px; width: 100%;\" class=\"plotly-graph-div\"></div><script type=\"text/javascript\">require([\"plotly\"], function(Plotly) { window.PLOTLYENV=window.PLOTLYENV || {};window.PLOTLYENV.BASE_URL=\"https://plot.ly\";Plotly.newPlot(\"74606aca-a38b-4ede-a6d8-b10ffd57baa6\", [{\"type\": \"box\", \"boxpoints\": false, \"name\": \"Non-employees issues\", \"y\": [1312, 427, 314, 66, 48, 38, 32, 27, 18, 16, 15, 14, 13, 13, 13, 12, 11, 10, 10, 10, 9, 8, 8, 7, 7, 7, 7, 6, 6, 6, 6, 6, 6, 5, 5, 5, 5, 5, 5, 5, 5, 5, 4, 4, 4, 4, 4, 4, 4, 4, 4, 4, 4, 4, 4, 4, 3, 3, 3, 3, 3, 3, 3, 3, 3, 3, 3, 3, 3, 3, 3, 3, 3, 3, 3, 3, 2, 2, 2, 2, 2, 2, 2, 2, 2, 2, 2, 2, 2, 2, 2, 2, 2, 2, 2, 2, 2, 2, 2, 2, 2, 2, 2, 2, 2, 2, 2, 2, 2, 2, 2, 2, 1, 1, 1, 1, 1, 1, 1, 1, 1, 1, 1, 1, 1, 1, 1, 1, 1, 1, 1, 1, 1, 1, 1, 1, 1, 1, 1, 1, 1, 1, 1, 1, 1, 1, 1, 1, 1, 1, 1, 1, 1, 1, 1, 1, 1, 1, 1, 1, 1, 1, 1, 1, 1, 1, 1, 1, 1, 1, 1, 1, 1, 1, 1, 1, 1, 1, 1, 1, 1, 1, 1, 1, 1, 1, 1, 1, 1, 1, 1, 1, 1, 1, 1, 1, 1, 1, 1, 1, 1, 1, 1, 1, 1, 1, 1, 1, 1, 1, 1, 1, 1, 1, 1, 1, 1, 1, 1, 1, 1]}, {\"type\": \"box\", \"boxpoints\": false, \"name\": \"Survey issues\", \"y\": [38.0, 6.0, 13.0, 0.0, 4.0, 0.0, 0.0, 5.0, 0.0]}], {\"xaxis\": {\"title\": \"disability\"}, \"title\": \"disability vs issues\", \"yaxis\": {\"title\": \"issues\", \"range\": [\"0\", \"100\"]}}, {\"showLink\": true, \"linkText\": \"Export to plot.ly\"})});</script>"
      ]
     },
     "metadata": {},
     "output_type": "display_data"
    },
    {
     "data": {
      "application/vnd.plotly.v1+json": {
       "data": [
        {
         "boxpoints": "all",
         "jitter": 0.5,
         "marker": {
          "size": 2
         },
         "name": "I am not a person with a disability(8)",
         "type": "box",
         "y": [
          0,
          0,
          0,
          0,
          0,
          0,
          0,
          0
         ]
        },
        {
         "boxpoints": "all",
         "jitter": 0.5,
         "marker": {
          "size": 2
         },
         "name": "I am a person with a disability(1)",
         "type": "box",
         "y": [
          0
         ]
        }
       ],
       "layout": {
        "title": "disability vs bugs",
        "xaxis": {
         "title": "disability"
        },
        "yaxis": {
         "title": "bugs"
        }
       }
      },
      "text/html": [
       "<div id=\"0aad9618-8021-4e98-87f5-9c3ac2074bd3\" style=\"height: 525px; width: 100%;\" class=\"plotly-graph-div\"></div><script type=\"text/javascript\">require([\"plotly\"], function(Plotly) { window.PLOTLYENV=window.PLOTLYENV || {};window.PLOTLYENV.BASE_URL=\"https://plot.ly\";Plotly.newPlot(\"0aad9618-8021-4e98-87f5-9c3ac2074bd3\", [{\"type\": \"box\", \"boxpoints\": \"all\", \"name\": \"I am not a person with a disability(8)\", \"marker\": {\"size\": 2}, \"y\": [0.0, 0.0, 0.0, 0.0, 0.0, 0.0, 0.0, 0.0], \"jitter\": 0.5}, {\"type\": \"box\", \"boxpoints\": \"all\", \"name\": \"I am a person with a disability(1)\", \"marker\": {\"size\": 2}, \"y\": [0.0], \"jitter\": 0.5}], {\"xaxis\": {\"title\": \"disability\"}, \"title\": \"disability vs bugs\", \"yaxis\": {\"title\": \"bugs\"}}, {\"showLink\": true, \"linkText\": \"Export to plot.ly\"})});</script>"
      ],
      "text/vnd.plotly.v1+html": [
       "<div id=\"0aad9618-8021-4e98-87f5-9c3ac2074bd3\" style=\"height: 525px; width: 100%;\" class=\"plotly-graph-div\"></div><script type=\"text/javascript\">require([\"plotly\"], function(Plotly) { window.PLOTLYENV=window.PLOTLYENV || {};window.PLOTLYENV.BASE_URL=\"https://plot.ly\";Plotly.newPlot(\"0aad9618-8021-4e98-87f5-9c3ac2074bd3\", [{\"type\": \"box\", \"boxpoints\": \"all\", \"name\": \"I am not a person with a disability(8)\", \"marker\": {\"size\": 2}, \"y\": [0.0, 0.0, 0.0, 0.0, 0.0, 0.0, 0.0, 0.0], \"jitter\": 0.5}, {\"type\": \"box\", \"boxpoints\": \"all\", \"name\": \"I am a person with a disability(1)\", \"marker\": {\"size\": 2}, \"y\": [0.0], \"jitter\": 0.5}], {\"xaxis\": {\"title\": \"disability\"}, \"title\": \"disability vs bugs\", \"yaxis\": {\"title\": \"bugs\"}}, {\"showLink\": true, \"linkText\": \"Export to plot.ly\"})});</script>"
      ]
     },
     "metadata": {},
     "output_type": "display_data"
    },
    {
     "data": {
      "application/vnd.plotly.v1+json": {
       "data": [
        {
         "labels": [
          "I am not a person with a disability",
          "I am a person with a disability"
         ],
         "type": "pie",
         "values": [
          8,
          1
         ]
        }
       ],
       "layout": {
        "title": "Population Distribution of disability"
       }
      },
      "text/html": [
       "<div id=\"2863763c-3fb2-4baf-90ad-69956ea3ffd3\" style=\"height: 525px; width: 100%;\" class=\"plotly-graph-div\"></div><script type=\"text/javascript\">require([\"plotly\"], function(Plotly) { window.PLOTLYENV=window.PLOTLYENV || {};window.PLOTLYENV.BASE_URL=\"https://plot.ly\";Plotly.newPlot(\"2863763c-3fb2-4baf-90ad-69956ea3ffd3\", [{\"type\": \"pie\", \"values\": [8, 1], \"labels\": [\"I am not a person with a disability\", \"I am a person with a disability\"]}], {\"title\": \"Population Distribution of disability\"}, {\"showLink\": true, \"linkText\": \"Export to plot.ly\"})});</script>"
      ],
      "text/vnd.plotly.v1+html": [
       "<div id=\"2863763c-3fb2-4baf-90ad-69956ea3ffd3\" style=\"height: 525px; width: 100%;\" class=\"plotly-graph-div\"></div><script type=\"text/javascript\">require([\"plotly\"], function(Plotly) { window.PLOTLYENV=window.PLOTLYENV || {};window.PLOTLYENV.BASE_URL=\"https://plot.ly\";Plotly.newPlot(\"2863763c-3fb2-4baf-90ad-69956ea3ffd3\", [{\"type\": \"pie\", \"values\": [8, 1], \"labels\": [\"I am not a person with a disability\", \"I am a person with a disability\"]}], {\"title\": \"Population Distribution of disability\"}, {\"showLink\": true, \"linkText\": \"Export to plot.ly\"})});</script>"
      ]
     },
     "metadata": {},
     "output_type": "display_data"
    },
    {
     "data": {
      "application/vnd.plotly.v1+json": {
       "data": [
        {
         "boxpoints": false,
         "name": "Non-employees bugs",
         "type": "box",
         "y": [
          1312,
          427,
          314,
          66,
          48,
          38,
          32,
          27,
          18,
          16,
          15,
          14,
          13,
          13,
          13,
          12,
          11,
          10,
          10,
          10,
          9,
          8,
          8,
          7,
          7,
          7,
          7,
          6,
          6,
          6,
          6,
          6,
          6,
          5,
          5,
          5,
          5,
          5,
          5,
          5,
          5,
          5,
          4,
          4,
          4,
          4,
          4,
          4,
          4,
          4,
          4,
          4,
          4,
          4,
          4,
          4,
          3,
          3,
          3,
          3,
          3,
          3,
          3,
          3,
          3,
          3,
          3,
          3,
          3,
          3,
          3,
          3,
          3,
          3,
          3,
          3,
          2,
          2,
          2,
          2,
          2,
          2,
          2,
          2,
          2,
          2,
          2,
          2,
          2,
          2,
          2,
          2,
          2,
          2,
          2,
          2,
          2,
          2,
          2,
          2,
          2,
          2,
          2,
          2,
          2,
          2,
          2,
          2,
          2,
          2,
          2,
          2,
          1,
          1,
          1,
          1,
          1,
          1,
          1,
          1,
          1,
          1,
          1,
          1,
          1,
          1,
          1,
          1,
          1,
          1,
          1,
          1,
          1,
          1,
          1,
          1,
          1,
          1,
          1,
          1,
          1,
          1,
          1,
          1,
          1,
          1,
          1,
          1,
          1,
          1,
          1,
          1,
          1,
          1,
          1,
          1,
          1,
          1,
          1,
          1,
          1,
          1,
          1,
          1,
          1,
          1,
          1,
          1,
          1,
          1,
          1,
          1,
          1,
          1,
          1,
          1,
          1,
          1,
          1,
          1,
          1,
          1,
          1,
          1,
          1,
          1,
          1,
          1,
          1,
          1,
          1,
          1,
          1,
          1,
          1,
          1,
          1,
          1,
          1,
          1,
          1,
          1,
          1,
          1,
          1,
          1,
          1,
          1,
          1,
          1,
          1,
          1,
          1,
          1,
          1,
          1,
          1,
          1,
          1,
          1,
          1
         ]
        },
        {
         "boxpoints": false,
         "name": "Survey bugs",
         "type": "box",
         "y": [
          0,
          0,
          0,
          0,
          0,
          0,
          0,
          0,
          0
         ]
        }
       ],
       "layout": {
        "title": "disability vs bugs",
        "xaxis": {
         "title": "disability"
        },
        "yaxis": {
         "range": [
          "0",
          "100"
         ],
         "title": "bugs"
        }
       }
      },
      "text/html": [
       "<div id=\"7e017018-e72b-4b2e-b23c-5ef9a5276a9c\" style=\"height: 525px; width: 100%;\" class=\"plotly-graph-div\"></div><script type=\"text/javascript\">require([\"plotly\"], function(Plotly) { window.PLOTLYENV=window.PLOTLYENV || {};window.PLOTLYENV.BASE_URL=\"https://plot.ly\";Plotly.newPlot(\"7e017018-e72b-4b2e-b23c-5ef9a5276a9c\", [{\"type\": \"box\", \"boxpoints\": false, \"name\": \"Non-employees bugs\", \"y\": [1312, 427, 314, 66, 48, 38, 32, 27, 18, 16, 15, 14, 13, 13, 13, 12, 11, 10, 10, 10, 9, 8, 8, 7, 7, 7, 7, 6, 6, 6, 6, 6, 6, 5, 5, 5, 5, 5, 5, 5, 5, 5, 4, 4, 4, 4, 4, 4, 4, 4, 4, 4, 4, 4, 4, 4, 3, 3, 3, 3, 3, 3, 3, 3, 3, 3, 3, 3, 3, 3, 3, 3, 3, 3, 3, 3, 2, 2, 2, 2, 2, 2, 2, 2, 2, 2, 2, 2, 2, 2, 2, 2, 2, 2, 2, 2, 2, 2, 2, 2, 2, 2, 2, 2, 2, 2, 2, 2, 2, 2, 2, 2, 1, 1, 1, 1, 1, 1, 1, 1, 1, 1, 1, 1, 1, 1, 1, 1, 1, 1, 1, 1, 1, 1, 1, 1, 1, 1, 1, 1, 1, 1, 1, 1, 1, 1, 1, 1, 1, 1, 1, 1, 1, 1, 1, 1, 1, 1, 1, 1, 1, 1, 1, 1, 1, 1, 1, 1, 1, 1, 1, 1, 1, 1, 1, 1, 1, 1, 1, 1, 1, 1, 1, 1, 1, 1, 1, 1, 1, 1, 1, 1, 1, 1, 1, 1, 1, 1, 1, 1, 1, 1, 1, 1, 1, 1, 1, 1, 1, 1, 1, 1, 1, 1, 1, 1, 1, 1, 1, 1, 1]}, {\"type\": \"box\", \"boxpoints\": false, \"name\": \"Survey bugs\", \"y\": [0.0, 0.0, 0.0, 0.0, 0.0, 0.0, 0.0, 0.0, 0.0]}], {\"xaxis\": {\"title\": \"disability\"}, \"title\": \"disability vs bugs\", \"yaxis\": {\"title\": \"bugs\", \"range\": [\"0\", \"100\"]}}, {\"showLink\": true, \"linkText\": \"Export to plot.ly\"})});</script>"
      ],
      "text/vnd.plotly.v1+html": [
       "<div id=\"7e017018-e72b-4b2e-b23c-5ef9a5276a9c\" style=\"height: 525px; width: 100%;\" class=\"plotly-graph-div\"></div><script type=\"text/javascript\">require([\"plotly\"], function(Plotly) { window.PLOTLYENV=window.PLOTLYENV || {};window.PLOTLYENV.BASE_URL=\"https://plot.ly\";Plotly.newPlot(\"7e017018-e72b-4b2e-b23c-5ef9a5276a9c\", [{\"type\": \"box\", \"boxpoints\": false, \"name\": \"Non-employees bugs\", \"y\": [1312, 427, 314, 66, 48, 38, 32, 27, 18, 16, 15, 14, 13, 13, 13, 12, 11, 10, 10, 10, 9, 8, 8, 7, 7, 7, 7, 6, 6, 6, 6, 6, 6, 5, 5, 5, 5, 5, 5, 5, 5, 5, 4, 4, 4, 4, 4, 4, 4, 4, 4, 4, 4, 4, 4, 4, 3, 3, 3, 3, 3, 3, 3, 3, 3, 3, 3, 3, 3, 3, 3, 3, 3, 3, 3, 3, 2, 2, 2, 2, 2, 2, 2, 2, 2, 2, 2, 2, 2, 2, 2, 2, 2, 2, 2, 2, 2, 2, 2, 2, 2, 2, 2, 2, 2, 2, 2, 2, 2, 2, 2, 2, 1, 1, 1, 1, 1, 1, 1, 1, 1, 1, 1, 1, 1, 1, 1, 1, 1, 1, 1, 1, 1, 1, 1, 1, 1, 1, 1, 1, 1, 1, 1, 1, 1, 1, 1, 1, 1, 1, 1, 1, 1, 1, 1, 1, 1, 1, 1, 1, 1, 1, 1, 1, 1, 1, 1, 1, 1, 1, 1, 1, 1, 1, 1, 1, 1, 1, 1, 1, 1, 1, 1, 1, 1, 1, 1, 1, 1, 1, 1, 1, 1, 1, 1, 1, 1, 1, 1, 1, 1, 1, 1, 1, 1, 1, 1, 1, 1, 1, 1, 1, 1, 1, 1, 1, 1, 1, 1, 1, 1]}, {\"type\": \"box\", \"boxpoints\": false, \"name\": \"Survey bugs\", \"y\": [0.0, 0.0, 0.0, 0.0, 0.0, 0.0, 0.0, 0.0, 0.0]}], {\"xaxis\": {\"title\": \"disability\"}, \"title\": \"disability vs bugs\", \"yaxis\": {\"title\": \"bugs\", \"range\": [\"0\", \"100\"]}}, {\"showLink\": true, \"linkText\": \"Export to plot.ly\"})});</script>"
      ]
     },
     "metadata": {},
     "output_type": "display_data"
    },
    {
     "data": {
      "application/vnd.plotly.v1+json": {
       "data": [
        {
         "boxpoints": "all",
         "jitter": 0.5,
         "marker": {
          "size": 2
         },
         "name": "I am not a person with a disability(8)",
         "type": "box",
         "y": [
          0,
          0,
          0,
          0,
          0,
          0,
          0,
          0
         ]
        },
        {
         "boxpoints": "all",
         "jitter": 0.5,
         "marker": {
          "size": 2
         },
         "name": "I am a person with a disability(1)",
         "type": "box",
         "y": [
          0
         ]
        }
       ],
       "layout": {
        "title": "disability vs emails",
        "xaxis": {
         "title": "disability"
        },
        "yaxis": {
         "title": "emails"
        }
       }
      },
      "text/html": [
       "<div id=\"c1306439-9b5f-42c7-b000-75cca8fc1675\" style=\"height: 525px; width: 100%;\" class=\"plotly-graph-div\"></div><script type=\"text/javascript\">require([\"plotly\"], function(Plotly) { window.PLOTLYENV=window.PLOTLYENV || {};window.PLOTLYENV.BASE_URL=\"https://plot.ly\";Plotly.newPlot(\"c1306439-9b5f-42c7-b000-75cca8fc1675\", [{\"type\": \"box\", \"boxpoints\": \"all\", \"name\": \"I am not a person with a disability(8)\", \"marker\": {\"size\": 2}, \"y\": [0.0, 0.0, 0.0, 0.0, 0.0, 0.0, 0.0, 0.0], \"jitter\": 0.5}, {\"type\": \"box\", \"boxpoints\": \"all\", \"name\": \"I am a person with a disability(1)\", \"marker\": {\"size\": 2}, \"y\": [0.0], \"jitter\": 0.5}], {\"xaxis\": {\"title\": \"disability\"}, \"title\": \"disability vs emails\", \"yaxis\": {\"title\": \"emails\"}}, {\"showLink\": true, \"linkText\": \"Export to plot.ly\"})});</script>"
      ],
      "text/vnd.plotly.v1+html": [
       "<div id=\"c1306439-9b5f-42c7-b000-75cca8fc1675\" style=\"height: 525px; width: 100%;\" class=\"plotly-graph-div\"></div><script type=\"text/javascript\">require([\"plotly\"], function(Plotly) { window.PLOTLYENV=window.PLOTLYENV || {};window.PLOTLYENV.BASE_URL=\"https://plot.ly\";Plotly.newPlot(\"c1306439-9b5f-42c7-b000-75cca8fc1675\", [{\"type\": \"box\", \"boxpoints\": \"all\", \"name\": \"I am not a person with a disability(8)\", \"marker\": {\"size\": 2}, \"y\": [0.0, 0.0, 0.0, 0.0, 0.0, 0.0, 0.0, 0.0], \"jitter\": 0.5}, {\"type\": \"box\", \"boxpoints\": \"all\", \"name\": \"I am a person with a disability(1)\", \"marker\": {\"size\": 2}, \"y\": [0.0], \"jitter\": 0.5}], {\"xaxis\": {\"title\": \"disability\"}, \"title\": \"disability vs emails\", \"yaxis\": {\"title\": \"emails\"}}, {\"showLink\": true, \"linkText\": \"Export to plot.ly\"})});</script>"
      ]
     },
     "metadata": {},
     "output_type": "display_data"
    },
    {
     "data": {
      "application/vnd.plotly.v1+json": {
       "data": [
        {
         "labels": [
          "I am not a person with a disability",
          "I am a person with a disability"
         ],
         "type": "pie",
         "values": [
          8,
          1
         ]
        }
       ],
       "layout": {
        "title": "Population Distribution of disability"
       }
      },
      "text/html": [
       "<div id=\"4e0ee97c-a24d-4f81-9493-1354a43a91a6\" style=\"height: 525px; width: 100%;\" class=\"plotly-graph-div\"></div><script type=\"text/javascript\">require([\"plotly\"], function(Plotly) { window.PLOTLYENV=window.PLOTLYENV || {};window.PLOTLYENV.BASE_URL=\"https://plot.ly\";Plotly.newPlot(\"4e0ee97c-a24d-4f81-9493-1354a43a91a6\", [{\"type\": \"pie\", \"values\": [8, 1], \"labels\": [\"I am not a person with a disability\", \"I am a person with a disability\"]}], {\"title\": \"Population Distribution of disability\"}, {\"showLink\": true, \"linkText\": \"Export to plot.ly\"})});</script>"
      ],
      "text/vnd.plotly.v1+html": [
       "<div id=\"4e0ee97c-a24d-4f81-9493-1354a43a91a6\" style=\"height: 525px; width: 100%;\" class=\"plotly-graph-div\"></div><script type=\"text/javascript\">require([\"plotly\"], function(Plotly) { window.PLOTLYENV=window.PLOTLYENV || {};window.PLOTLYENV.BASE_URL=\"https://plot.ly\";Plotly.newPlot(\"4e0ee97c-a24d-4f81-9493-1354a43a91a6\", [{\"type\": \"pie\", \"values\": [8, 1], \"labels\": [\"I am not a person with a disability\", \"I am a person with a disability\"]}], {\"title\": \"Population Distribution of disability\"}, {\"showLink\": true, \"linkText\": \"Export to plot.ly\"})});</script>"
      ]
     },
     "metadata": {},
     "output_type": "display_data"
    },
    {
     "data": {
      "application/vnd.plotly.v1+json": {
       "data": [
        {
         "boxpoints": false,
         "name": "Non-employees emails",
         "type": "box",
         "y": [
          1312,
          427,
          314,
          66,
          48,
          38,
          32,
          27,
          18,
          16,
          15,
          14,
          13,
          13,
          13,
          12,
          11,
          10,
          10,
          10,
          9,
          8,
          8,
          7,
          7,
          7,
          7,
          6,
          6,
          6,
          6,
          6,
          6,
          5,
          5,
          5,
          5,
          5,
          5,
          5,
          5,
          5,
          4,
          4,
          4,
          4,
          4,
          4,
          4,
          4,
          4,
          4,
          4,
          4,
          4,
          4,
          3,
          3,
          3,
          3,
          3,
          3,
          3,
          3,
          3,
          3,
          3,
          3,
          3,
          3,
          3,
          3,
          3,
          3,
          3,
          3,
          2,
          2,
          2,
          2,
          2,
          2,
          2,
          2,
          2,
          2,
          2,
          2,
          2,
          2,
          2,
          2,
          2,
          2,
          2,
          2,
          2,
          2,
          2,
          2,
          2,
          2,
          2,
          2,
          2,
          2,
          2,
          2,
          2,
          2,
          2,
          2,
          1,
          1,
          1,
          1,
          1,
          1,
          1,
          1,
          1,
          1,
          1,
          1,
          1,
          1,
          1,
          1,
          1,
          1,
          1,
          1,
          1,
          1,
          1,
          1,
          1,
          1,
          1,
          1,
          1,
          1,
          1,
          1,
          1,
          1,
          1,
          1,
          1,
          1,
          1,
          1,
          1,
          1,
          1,
          1,
          1,
          1,
          1,
          1,
          1,
          1,
          1,
          1,
          1,
          1,
          1,
          1,
          1,
          1,
          1,
          1,
          1,
          1,
          1,
          1,
          1,
          1,
          1,
          1,
          1,
          1,
          1,
          1,
          1,
          1,
          1,
          1,
          1,
          1,
          1,
          1,
          1,
          1,
          1,
          1,
          1,
          1,
          1,
          1,
          1,
          1,
          1,
          1,
          1,
          1,
          1,
          1,
          1,
          1,
          1,
          1,
          1,
          1,
          1,
          1,
          1,
          1,
          1,
          1,
          1
         ]
        },
        {
         "boxpoints": false,
         "name": "Survey emails",
         "type": "box",
         "y": [
          0,
          0,
          0,
          0,
          0,
          0,
          0,
          0,
          0
         ]
        }
       ],
       "layout": {
        "title": "disability vs emails",
        "xaxis": {
         "title": "disability"
        },
        "yaxis": {
         "range": [
          "0",
          "100"
         ],
         "title": "emails"
        }
       }
      },
      "text/html": [
       "<div id=\"0ce0e727-bd8a-4507-ac2e-4dade5eb404f\" style=\"height: 525px; width: 100%;\" class=\"plotly-graph-div\"></div><script type=\"text/javascript\">require([\"plotly\"], function(Plotly) { window.PLOTLYENV=window.PLOTLYENV || {};window.PLOTLYENV.BASE_URL=\"https://plot.ly\";Plotly.newPlot(\"0ce0e727-bd8a-4507-ac2e-4dade5eb404f\", [{\"type\": \"box\", \"boxpoints\": false, \"name\": \"Non-employees emails\", \"y\": [1312, 427, 314, 66, 48, 38, 32, 27, 18, 16, 15, 14, 13, 13, 13, 12, 11, 10, 10, 10, 9, 8, 8, 7, 7, 7, 7, 6, 6, 6, 6, 6, 6, 5, 5, 5, 5, 5, 5, 5, 5, 5, 4, 4, 4, 4, 4, 4, 4, 4, 4, 4, 4, 4, 4, 4, 3, 3, 3, 3, 3, 3, 3, 3, 3, 3, 3, 3, 3, 3, 3, 3, 3, 3, 3, 3, 2, 2, 2, 2, 2, 2, 2, 2, 2, 2, 2, 2, 2, 2, 2, 2, 2, 2, 2, 2, 2, 2, 2, 2, 2, 2, 2, 2, 2, 2, 2, 2, 2, 2, 2, 2, 1, 1, 1, 1, 1, 1, 1, 1, 1, 1, 1, 1, 1, 1, 1, 1, 1, 1, 1, 1, 1, 1, 1, 1, 1, 1, 1, 1, 1, 1, 1, 1, 1, 1, 1, 1, 1, 1, 1, 1, 1, 1, 1, 1, 1, 1, 1, 1, 1, 1, 1, 1, 1, 1, 1, 1, 1, 1, 1, 1, 1, 1, 1, 1, 1, 1, 1, 1, 1, 1, 1, 1, 1, 1, 1, 1, 1, 1, 1, 1, 1, 1, 1, 1, 1, 1, 1, 1, 1, 1, 1, 1, 1, 1, 1, 1, 1, 1, 1, 1, 1, 1, 1, 1, 1, 1, 1, 1, 1]}, {\"type\": \"box\", \"boxpoints\": false, \"name\": \"Survey emails\", \"y\": [0.0, 0.0, 0.0, 0.0, 0.0, 0.0, 0.0, 0.0, 0.0]}], {\"xaxis\": {\"title\": \"disability\"}, \"title\": \"disability vs emails\", \"yaxis\": {\"title\": \"emails\", \"range\": [\"0\", \"100\"]}}, {\"showLink\": true, \"linkText\": \"Export to plot.ly\"})});</script>"
      ],
      "text/vnd.plotly.v1+html": [
       "<div id=\"0ce0e727-bd8a-4507-ac2e-4dade5eb404f\" style=\"height: 525px; width: 100%;\" class=\"plotly-graph-div\"></div><script type=\"text/javascript\">require([\"plotly\"], function(Plotly) { window.PLOTLYENV=window.PLOTLYENV || {};window.PLOTLYENV.BASE_URL=\"https://plot.ly\";Plotly.newPlot(\"0ce0e727-bd8a-4507-ac2e-4dade5eb404f\", [{\"type\": \"box\", \"boxpoints\": false, \"name\": \"Non-employees emails\", \"y\": [1312, 427, 314, 66, 48, 38, 32, 27, 18, 16, 15, 14, 13, 13, 13, 12, 11, 10, 10, 10, 9, 8, 8, 7, 7, 7, 7, 6, 6, 6, 6, 6, 6, 5, 5, 5, 5, 5, 5, 5, 5, 5, 4, 4, 4, 4, 4, 4, 4, 4, 4, 4, 4, 4, 4, 4, 3, 3, 3, 3, 3, 3, 3, 3, 3, 3, 3, 3, 3, 3, 3, 3, 3, 3, 3, 3, 2, 2, 2, 2, 2, 2, 2, 2, 2, 2, 2, 2, 2, 2, 2, 2, 2, 2, 2, 2, 2, 2, 2, 2, 2, 2, 2, 2, 2, 2, 2, 2, 2, 2, 2, 2, 1, 1, 1, 1, 1, 1, 1, 1, 1, 1, 1, 1, 1, 1, 1, 1, 1, 1, 1, 1, 1, 1, 1, 1, 1, 1, 1, 1, 1, 1, 1, 1, 1, 1, 1, 1, 1, 1, 1, 1, 1, 1, 1, 1, 1, 1, 1, 1, 1, 1, 1, 1, 1, 1, 1, 1, 1, 1, 1, 1, 1, 1, 1, 1, 1, 1, 1, 1, 1, 1, 1, 1, 1, 1, 1, 1, 1, 1, 1, 1, 1, 1, 1, 1, 1, 1, 1, 1, 1, 1, 1, 1, 1, 1, 1, 1, 1, 1, 1, 1, 1, 1, 1, 1, 1, 1, 1, 1, 1]}, {\"type\": \"box\", \"boxpoints\": false, \"name\": \"Survey emails\", \"y\": [0.0, 0.0, 0.0, 0.0, 0.0, 0.0, 0.0, 0.0, 0.0]}], {\"xaxis\": {\"title\": \"disability\"}, \"title\": \"disability vs emails\", \"yaxis\": {\"title\": \"emails\", \"range\": [\"0\", \"100\"]}}, {\"showLink\": true, \"linkText\": \"Export to plot.ly\"})});</script>"
      ]
     },
     "metadata": {},
     "output_type": "display_data"
    },
    {
     "data": {
      "application/vnd.plotly.v1+json": {
       "data": [
        {
         "boxpoints": "all",
         "jitter": 0.5,
         "marker": {
          "size": 2
         },
         "name": "I am not a person with a disability(8)",
         "type": "box",
         "y": [
          0,
          0,
          0,
          0,
          0,
          0,
          1,
          0
         ]
        },
        {
         "boxpoints": "all",
         "jitter": 0.5,
         "marker": {
          "size": 2
         },
         "name": "I am a person with a disability(1)",
         "type": "box",
         "y": [
          0
         ]
        }
       ],
       "layout": {
        "title": "disability vs messages",
        "xaxis": {
         "title": "disability"
        },
        "yaxis": {
         "title": "messages"
        }
       }
      },
      "text/html": [
       "<div id=\"4f3287a4-bfef-41fd-a67a-2bb484c636ec\" style=\"height: 525px; width: 100%;\" class=\"plotly-graph-div\"></div><script type=\"text/javascript\">require([\"plotly\"], function(Plotly) { window.PLOTLYENV=window.PLOTLYENV || {};window.PLOTLYENV.BASE_URL=\"https://plot.ly\";Plotly.newPlot(\"4f3287a4-bfef-41fd-a67a-2bb484c636ec\", [{\"type\": \"box\", \"boxpoints\": \"all\", \"name\": \"I am not a person with a disability(8)\", \"marker\": {\"size\": 2}, \"y\": [0.0, 0.0, 0.0, 0.0, 0.0, 0.0, 1.0, 0.0], \"jitter\": 0.5}, {\"type\": \"box\", \"boxpoints\": \"all\", \"name\": \"I am a person with a disability(1)\", \"marker\": {\"size\": 2}, \"y\": [0.0], \"jitter\": 0.5}], {\"xaxis\": {\"title\": \"disability\"}, \"title\": \"disability vs messages\", \"yaxis\": {\"title\": \"messages\"}}, {\"showLink\": true, \"linkText\": \"Export to plot.ly\"})});</script>"
      ],
      "text/vnd.plotly.v1+html": [
       "<div id=\"4f3287a4-bfef-41fd-a67a-2bb484c636ec\" style=\"height: 525px; width: 100%;\" class=\"plotly-graph-div\"></div><script type=\"text/javascript\">require([\"plotly\"], function(Plotly) { window.PLOTLYENV=window.PLOTLYENV || {};window.PLOTLYENV.BASE_URL=\"https://plot.ly\";Plotly.newPlot(\"4f3287a4-bfef-41fd-a67a-2bb484c636ec\", [{\"type\": \"box\", \"boxpoints\": \"all\", \"name\": \"I am not a person with a disability(8)\", \"marker\": {\"size\": 2}, \"y\": [0.0, 0.0, 0.0, 0.0, 0.0, 0.0, 1.0, 0.0], \"jitter\": 0.5}, {\"type\": \"box\", \"boxpoints\": \"all\", \"name\": \"I am a person with a disability(1)\", \"marker\": {\"size\": 2}, \"y\": [0.0], \"jitter\": 0.5}], {\"xaxis\": {\"title\": \"disability\"}, \"title\": \"disability vs messages\", \"yaxis\": {\"title\": \"messages\"}}, {\"showLink\": true, \"linkText\": \"Export to plot.ly\"})});</script>"
      ]
     },
     "metadata": {},
     "output_type": "display_data"
    },
    {
     "data": {
      "application/vnd.plotly.v1+json": {
       "data": [
        {
         "labels": [
          "I am not a person with a disability",
          "I am a person with a disability"
         ],
         "type": "pie",
         "values": [
          8,
          1
         ]
        }
       ],
       "layout": {
        "title": "Population Distribution of disability"
       }
      },
      "text/html": [
       "<div id=\"e5ff52f8-dc29-4cdc-b850-89ad2e0c8e59\" style=\"height: 525px; width: 100%;\" class=\"plotly-graph-div\"></div><script type=\"text/javascript\">require([\"plotly\"], function(Plotly) { window.PLOTLYENV=window.PLOTLYENV || {};window.PLOTLYENV.BASE_URL=\"https://plot.ly\";Plotly.newPlot(\"e5ff52f8-dc29-4cdc-b850-89ad2e0c8e59\", [{\"type\": \"pie\", \"values\": [8, 1], \"labels\": [\"I am not a person with a disability\", \"I am a person with a disability\"]}], {\"title\": \"Population Distribution of disability\"}, {\"showLink\": true, \"linkText\": \"Export to plot.ly\"})});</script>"
      ],
      "text/vnd.plotly.v1+html": [
       "<div id=\"e5ff52f8-dc29-4cdc-b850-89ad2e0c8e59\" style=\"height: 525px; width: 100%;\" class=\"plotly-graph-div\"></div><script type=\"text/javascript\">require([\"plotly\"], function(Plotly) { window.PLOTLYENV=window.PLOTLYENV || {};window.PLOTLYENV.BASE_URL=\"https://plot.ly\";Plotly.newPlot(\"e5ff52f8-dc29-4cdc-b850-89ad2e0c8e59\", [{\"type\": \"pie\", \"values\": [8, 1], \"labels\": [\"I am not a person with a disability\", \"I am a person with a disability\"]}], {\"title\": \"Population Distribution of disability\"}, {\"showLink\": true, \"linkText\": \"Export to plot.ly\"})});</script>"
      ]
     },
     "metadata": {},
     "output_type": "display_data"
    },
    {
     "data": {
      "application/vnd.plotly.v1+json": {
       "data": [
        {
         "boxpoints": false,
         "name": "Non-employees messages",
         "type": "box",
         "y": [
          1312,
          427,
          314,
          66,
          48,
          38,
          32,
          27,
          18,
          16,
          15,
          14,
          13,
          13,
          13,
          12,
          11,
          10,
          10,
          10,
          9,
          8,
          8,
          7,
          7,
          7,
          7,
          6,
          6,
          6,
          6,
          6,
          6,
          5,
          5,
          5,
          5,
          5,
          5,
          5,
          5,
          5,
          4,
          4,
          4,
          4,
          4,
          4,
          4,
          4,
          4,
          4,
          4,
          4,
          4,
          4,
          3,
          3,
          3,
          3,
          3,
          3,
          3,
          3,
          3,
          3,
          3,
          3,
          3,
          3,
          3,
          3,
          3,
          3,
          3,
          3,
          2,
          2,
          2,
          2,
          2,
          2,
          2,
          2,
          2,
          2,
          2,
          2,
          2,
          2,
          2,
          2,
          2,
          2,
          2,
          2,
          2,
          2,
          2,
          2,
          2,
          2,
          2,
          2,
          2,
          2,
          2,
          2,
          2,
          2,
          2,
          2,
          1,
          1,
          1,
          1,
          1,
          1,
          1,
          1,
          1,
          1,
          1,
          1,
          1,
          1,
          1,
          1,
          1,
          1,
          1,
          1,
          1,
          1,
          1,
          1,
          1,
          1,
          1,
          1,
          1,
          1,
          1,
          1,
          1,
          1,
          1,
          1,
          1,
          1,
          1,
          1,
          1,
          1,
          1,
          1,
          1,
          1,
          1,
          1,
          1,
          1,
          1,
          1,
          1,
          1,
          1,
          1,
          1,
          1,
          1,
          1,
          1,
          1,
          1,
          1,
          1,
          1,
          1,
          1,
          1,
          1,
          1,
          1,
          1,
          1,
          1,
          1,
          1,
          1,
          1,
          1,
          1,
          1,
          1,
          1,
          1,
          1,
          1,
          1,
          1,
          1,
          1,
          1,
          1,
          1,
          1,
          1,
          1,
          1,
          1,
          1,
          1,
          1,
          1,
          1,
          1,
          1,
          1,
          1,
          1
         ]
        },
        {
         "boxpoints": false,
         "name": "Survey messages",
         "type": "box",
         "y": [
          0,
          0,
          0,
          0,
          0,
          0,
          1,
          0,
          0
         ]
        }
       ],
       "layout": {
        "title": "disability vs messages",
        "xaxis": {
         "title": "disability"
        },
        "yaxis": {
         "range": [
          "0",
          "100"
         ],
         "title": "messages"
        }
       }
      },
      "text/html": [
       "<div id=\"359ecdc3-162b-4ef0-80e9-9a900713d772\" style=\"height: 525px; width: 100%;\" class=\"plotly-graph-div\"></div><script type=\"text/javascript\">require([\"plotly\"], function(Plotly) { window.PLOTLYENV=window.PLOTLYENV || {};window.PLOTLYENV.BASE_URL=\"https://plot.ly\";Plotly.newPlot(\"359ecdc3-162b-4ef0-80e9-9a900713d772\", [{\"type\": \"box\", \"boxpoints\": false, \"name\": \"Non-employees messages\", \"y\": [1312, 427, 314, 66, 48, 38, 32, 27, 18, 16, 15, 14, 13, 13, 13, 12, 11, 10, 10, 10, 9, 8, 8, 7, 7, 7, 7, 6, 6, 6, 6, 6, 6, 5, 5, 5, 5, 5, 5, 5, 5, 5, 4, 4, 4, 4, 4, 4, 4, 4, 4, 4, 4, 4, 4, 4, 3, 3, 3, 3, 3, 3, 3, 3, 3, 3, 3, 3, 3, 3, 3, 3, 3, 3, 3, 3, 2, 2, 2, 2, 2, 2, 2, 2, 2, 2, 2, 2, 2, 2, 2, 2, 2, 2, 2, 2, 2, 2, 2, 2, 2, 2, 2, 2, 2, 2, 2, 2, 2, 2, 2, 2, 1, 1, 1, 1, 1, 1, 1, 1, 1, 1, 1, 1, 1, 1, 1, 1, 1, 1, 1, 1, 1, 1, 1, 1, 1, 1, 1, 1, 1, 1, 1, 1, 1, 1, 1, 1, 1, 1, 1, 1, 1, 1, 1, 1, 1, 1, 1, 1, 1, 1, 1, 1, 1, 1, 1, 1, 1, 1, 1, 1, 1, 1, 1, 1, 1, 1, 1, 1, 1, 1, 1, 1, 1, 1, 1, 1, 1, 1, 1, 1, 1, 1, 1, 1, 1, 1, 1, 1, 1, 1, 1, 1, 1, 1, 1, 1, 1, 1, 1, 1, 1, 1, 1, 1, 1, 1, 1, 1, 1]}, {\"type\": \"box\", \"boxpoints\": false, \"name\": \"Survey messages\", \"y\": [0.0, 0.0, 0.0, 0.0, 0.0, 0.0, 1.0, 0.0, 0.0]}], {\"xaxis\": {\"title\": \"disability\"}, \"title\": \"disability vs messages\", \"yaxis\": {\"title\": \"messages\", \"range\": [\"0\", \"100\"]}}, {\"showLink\": true, \"linkText\": \"Export to plot.ly\"})});</script>"
      ],
      "text/vnd.plotly.v1+html": [
       "<div id=\"359ecdc3-162b-4ef0-80e9-9a900713d772\" style=\"height: 525px; width: 100%;\" class=\"plotly-graph-div\"></div><script type=\"text/javascript\">require([\"plotly\"], function(Plotly) { window.PLOTLYENV=window.PLOTLYENV || {};window.PLOTLYENV.BASE_URL=\"https://plot.ly\";Plotly.newPlot(\"359ecdc3-162b-4ef0-80e9-9a900713d772\", [{\"type\": \"box\", \"boxpoints\": false, \"name\": \"Non-employees messages\", \"y\": [1312, 427, 314, 66, 48, 38, 32, 27, 18, 16, 15, 14, 13, 13, 13, 12, 11, 10, 10, 10, 9, 8, 8, 7, 7, 7, 7, 6, 6, 6, 6, 6, 6, 5, 5, 5, 5, 5, 5, 5, 5, 5, 4, 4, 4, 4, 4, 4, 4, 4, 4, 4, 4, 4, 4, 4, 3, 3, 3, 3, 3, 3, 3, 3, 3, 3, 3, 3, 3, 3, 3, 3, 3, 3, 3, 3, 2, 2, 2, 2, 2, 2, 2, 2, 2, 2, 2, 2, 2, 2, 2, 2, 2, 2, 2, 2, 2, 2, 2, 2, 2, 2, 2, 2, 2, 2, 2, 2, 2, 2, 2, 2, 1, 1, 1, 1, 1, 1, 1, 1, 1, 1, 1, 1, 1, 1, 1, 1, 1, 1, 1, 1, 1, 1, 1, 1, 1, 1, 1, 1, 1, 1, 1, 1, 1, 1, 1, 1, 1, 1, 1, 1, 1, 1, 1, 1, 1, 1, 1, 1, 1, 1, 1, 1, 1, 1, 1, 1, 1, 1, 1, 1, 1, 1, 1, 1, 1, 1, 1, 1, 1, 1, 1, 1, 1, 1, 1, 1, 1, 1, 1, 1, 1, 1, 1, 1, 1, 1, 1, 1, 1, 1, 1, 1, 1, 1, 1, 1, 1, 1, 1, 1, 1, 1, 1, 1, 1, 1, 1, 1, 1]}, {\"type\": \"box\", \"boxpoints\": false, \"name\": \"Survey messages\", \"y\": [0.0, 0.0, 0.0, 0.0, 0.0, 0.0, 1.0, 0.0, 0.0]}], {\"xaxis\": {\"title\": \"disability\"}, \"title\": \"disability vs messages\", \"yaxis\": {\"title\": \"messages\", \"range\": [\"0\", \"100\"]}}, {\"showLink\": true, \"linkText\": \"Export to plot.ly\"})});</script>"
      ]
     },
     "metadata": {},
     "output_type": "display_data"
    },
    {
     "data": {
      "application/vnd.plotly.v1+json": {
       "data": [
        {
         "boxpoints": "all",
         "jitter": 0.5,
         "marker": {
          "size": 2
         },
         "name": "I am not a person with a disability(8)",
         "type": "box",
         "y": [
          1,
          1,
          1,
          1,
          1,
          1,
          0,
          0
         ]
        },
        {
         "boxpoints": "all",
         "jitter": 0.5,
         "marker": {
          "size": 2
         },
         "name": "I am a person with a disability(1)",
         "type": "box",
         "y": [
          0
         ]
        }
       ],
       "layout": {
        "title": "disability vs git project",
        "xaxis": {
         "title": "disability"
        },
        "yaxis": {
         "title": "git project"
        }
       }
      },
      "text/html": [
       "<div id=\"7b456932-bddc-4120-8ed4-e9dd02cd831c\" style=\"height: 525px; width: 100%;\" class=\"plotly-graph-div\"></div><script type=\"text/javascript\">require([\"plotly\"], function(Plotly) { window.PLOTLYENV=window.PLOTLYENV || {};window.PLOTLYENV.BASE_URL=\"https://plot.ly\";Plotly.newPlot(\"7b456932-bddc-4120-8ed4-e9dd02cd831c\", [{\"type\": \"box\", \"boxpoints\": \"all\", \"name\": \"I am not a person with a disability(8)\", \"marker\": {\"size\": 2}, \"y\": [1, 1, 1, 1, 1, 1, 0, 0], \"jitter\": 0.5}, {\"type\": \"box\", \"boxpoints\": \"all\", \"name\": \"I am a person with a disability(1)\", \"marker\": {\"size\": 2}, \"y\": [0], \"jitter\": 0.5}], {\"xaxis\": {\"title\": \"disability\"}, \"title\": \"disability vs git project\", \"yaxis\": {\"title\": \"git project\"}}, {\"showLink\": true, \"linkText\": \"Export to plot.ly\"})});</script>"
      ],
      "text/vnd.plotly.v1+html": [
       "<div id=\"7b456932-bddc-4120-8ed4-e9dd02cd831c\" style=\"height: 525px; width: 100%;\" class=\"plotly-graph-div\"></div><script type=\"text/javascript\">require([\"plotly\"], function(Plotly) { window.PLOTLYENV=window.PLOTLYENV || {};window.PLOTLYENV.BASE_URL=\"https://plot.ly\";Plotly.newPlot(\"7b456932-bddc-4120-8ed4-e9dd02cd831c\", [{\"type\": \"box\", \"boxpoints\": \"all\", \"name\": \"I am not a person with a disability(8)\", \"marker\": {\"size\": 2}, \"y\": [1, 1, 1, 1, 1, 1, 0, 0], \"jitter\": 0.5}, {\"type\": \"box\", \"boxpoints\": \"all\", \"name\": \"I am a person with a disability(1)\", \"marker\": {\"size\": 2}, \"y\": [0], \"jitter\": 0.5}], {\"xaxis\": {\"title\": \"disability\"}, \"title\": \"disability vs git project\", \"yaxis\": {\"title\": \"git project\"}}, {\"showLink\": true, \"linkText\": \"Export to plot.ly\"})});</script>"
      ]
     },
     "metadata": {},
     "output_type": "display_data"
    },
    {
     "data": {
      "application/vnd.plotly.v1+json": {
       "data": [
        {
         "labels": [
          "I am not a person with a disability",
          "I am a person with a disability"
         ],
         "type": "pie",
         "values": [
          8,
          1
         ]
        }
       ],
       "layout": {
        "title": "Population Distribution of disability"
       }
      },
      "text/html": [
       "<div id=\"cd662c42-5fc6-4009-9f44-582324bc7e0d\" style=\"height: 525px; width: 100%;\" class=\"plotly-graph-div\"></div><script type=\"text/javascript\">require([\"plotly\"], function(Plotly) { window.PLOTLYENV=window.PLOTLYENV || {};window.PLOTLYENV.BASE_URL=\"https://plot.ly\";Plotly.newPlot(\"cd662c42-5fc6-4009-9f44-582324bc7e0d\", [{\"type\": \"pie\", \"values\": [8, 1], \"labels\": [\"I am not a person with a disability\", \"I am a person with a disability\"]}], {\"title\": \"Population Distribution of disability\"}, {\"showLink\": true, \"linkText\": \"Export to plot.ly\"})});</script>"
      ],
      "text/vnd.plotly.v1+html": [
       "<div id=\"cd662c42-5fc6-4009-9f44-582324bc7e0d\" style=\"height: 525px; width: 100%;\" class=\"plotly-graph-div\"></div><script type=\"text/javascript\">require([\"plotly\"], function(Plotly) { window.PLOTLYENV=window.PLOTLYENV || {};window.PLOTLYENV.BASE_URL=\"https://plot.ly\";Plotly.newPlot(\"cd662c42-5fc6-4009-9f44-582324bc7e0d\", [{\"type\": \"pie\", \"values\": [8, 1], \"labels\": [\"I am not a person with a disability\", \"I am a person with a disability\"]}], {\"title\": \"Population Distribution of disability\"}, {\"showLink\": true, \"linkText\": \"Export to plot.ly\"})});</script>"
      ]
     },
     "metadata": {},
     "output_type": "display_data"
    },
    {
     "data": {
      "application/vnd.plotly.v1+json": {
       "data": [
        {
         "type": "histogram",
         "x": [
          1,
          1,
          1,
          1,
          1,
          1,
          0,
          0,
          0
         ]
        }
       ],
       "layout": {
        "title": "Distribution of git project",
        "xaxis": {
         "title": "git project"
        },
        "yaxis": {
         "title": "Population"
        }
       }
      },
      "text/html": [
       "<div id=\"9808580c-e222-40ff-b33b-d0f24c80a864\" style=\"height: 525px; width: 100%;\" class=\"plotly-graph-div\"></div><script type=\"text/javascript\">require([\"plotly\"], function(Plotly) { window.PLOTLYENV=window.PLOTLYENV || {};window.PLOTLYENV.BASE_URL=\"https://plot.ly\";Plotly.newPlot(\"9808580c-e222-40ff-b33b-d0f24c80a864\", [{\"type\": \"histogram\", \"x\": [1, 1, 1, 1, 1, 1, 0, 0, 0]}], {\"xaxis\": {\"title\": \"git project\"}, \"title\": \"Distribution of git project\", \"yaxis\": {\"title\": \"Population\"}}, {\"showLink\": true, \"linkText\": \"Export to plot.ly\"})});</script>"
      ],
      "text/vnd.plotly.v1+html": [
       "<div id=\"9808580c-e222-40ff-b33b-d0f24c80a864\" style=\"height: 525px; width: 100%;\" class=\"plotly-graph-div\"></div><script type=\"text/javascript\">require([\"plotly\"], function(Plotly) { window.PLOTLYENV=window.PLOTLYENV || {};window.PLOTLYENV.BASE_URL=\"https://plot.ly\";Plotly.newPlot(\"9808580c-e222-40ff-b33b-d0f24c80a864\", [{\"type\": \"histogram\", \"x\": [1, 1, 1, 1, 1, 1, 0, 0, 0]}], {\"xaxis\": {\"title\": \"git project\"}, \"title\": \"Distribution of git project\", \"yaxis\": {\"title\": \"Population\"}}, {\"showLink\": true, \"linkText\": \"Export to plot.ly\"})});</script>"
      ]
     },
     "metadata": {},
     "output_type": "display_data"
    },
    {
     "data": {
      "application/vnd.plotly.v1+json": {
       "data": [
        {
         "boxpoints": "all",
         "jitter": 0.5,
         "marker": {
          "size": 2
         },
         "name": "I am not a person with a disability(8)",
         "type": "box",
         "y": [
          1,
          1,
          1,
          1,
          1,
          1,
          0,
          1
         ]
        },
        {
         "boxpoints": "all",
         "jitter": 0.5,
         "marker": {
          "size": 2
         },
         "name": "I am a person with a disability(1)",
         "type": "box",
         "y": [
          1
         ]
        }
       ],
       "layout": {
        "title": "disability vs github project",
        "xaxis": {
         "title": "disability"
        },
        "yaxis": {
         "title": "github project"
        }
       }
      },
      "text/html": [
       "<div id=\"e9a1d2db-48b9-45cb-bfb2-48fbe506abaf\" style=\"height: 525px; width: 100%;\" class=\"plotly-graph-div\"></div><script type=\"text/javascript\">require([\"plotly\"], function(Plotly) { window.PLOTLYENV=window.PLOTLYENV || {};window.PLOTLYENV.BASE_URL=\"https://plot.ly\";Plotly.newPlot(\"e9a1d2db-48b9-45cb-bfb2-48fbe506abaf\", [{\"type\": \"box\", \"boxpoints\": \"all\", \"name\": \"I am not a person with a disability(8)\", \"marker\": {\"size\": 2}, \"y\": [1, 1, 1, 1, 1, 1, 0, 1], \"jitter\": 0.5}, {\"type\": \"box\", \"boxpoints\": \"all\", \"name\": \"I am a person with a disability(1)\", \"marker\": {\"size\": 2}, \"y\": [1], \"jitter\": 0.5}], {\"xaxis\": {\"title\": \"disability\"}, \"title\": \"disability vs github project\", \"yaxis\": {\"title\": \"github project\"}}, {\"showLink\": true, \"linkText\": \"Export to plot.ly\"})});</script>"
      ],
      "text/vnd.plotly.v1+html": [
       "<div id=\"e9a1d2db-48b9-45cb-bfb2-48fbe506abaf\" style=\"height: 525px; width: 100%;\" class=\"plotly-graph-div\"></div><script type=\"text/javascript\">require([\"plotly\"], function(Plotly) { window.PLOTLYENV=window.PLOTLYENV || {};window.PLOTLYENV.BASE_URL=\"https://plot.ly\";Plotly.newPlot(\"e9a1d2db-48b9-45cb-bfb2-48fbe506abaf\", [{\"type\": \"box\", \"boxpoints\": \"all\", \"name\": \"I am not a person with a disability(8)\", \"marker\": {\"size\": 2}, \"y\": [1, 1, 1, 1, 1, 1, 0, 1], \"jitter\": 0.5}, {\"type\": \"box\", \"boxpoints\": \"all\", \"name\": \"I am a person with a disability(1)\", \"marker\": {\"size\": 2}, \"y\": [1], \"jitter\": 0.5}], {\"xaxis\": {\"title\": \"disability\"}, \"title\": \"disability vs github project\", \"yaxis\": {\"title\": \"github project\"}}, {\"showLink\": true, \"linkText\": \"Export to plot.ly\"})});</script>"
      ]
     },
     "metadata": {},
     "output_type": "display_data"
    },
    {
     "data": {
      "application/vnd.plotly.v1+json": {
       "data": [
        {
         "labels": [
          "I am not a person with a disability",
          "I am a person with a disability"
         ],
         "type": "pie",
         "values": [
          8,
          1
         ]
        }
       ],
       "layout": {
        "title": "Population Distribution of disability"
       }
      },
      "text/html": [
       "<div id=\"0ff2448a-311f-4606-9bce-e03b87bd6f19\" style=\"height: 525px; width: 100%;\" class=\"plotly-graph-div\"></div><script type=\"text/javascript\">require([\"plotly\"], function(Plotly) { window.PLOTLYENV=window.PLOTLYENV || {};window.PLOTLYENV.BASE_URL=\"https://plot.ly\";Plotly.newPlot(\"0ff2448a-311f-4606-9bce-e03b87bd6f19\", [{\"type\": \"pie\", \"values\": [8, 1], \"labels\": [\"I am not a person with a disability\", \"I am a person with a disability\"]}], {\"title\": \"Population Distribution of disability\"}, {\"showLink\": true, \"linkText\": \"Export to plot.ly\"})});</script>"
      ],
      "text/vnd.plotly.v1+html": [
       "<div id=\"0ff2448a-311f-4606-9bce-e03b87bd6f19\" style=\"height: 525px; width: 100%;\" class=\"plotly-graph-div\"></div><script type=\"text/javascript\">require([\"plotly\"], function(Plotly) { window.PLOTLYENV=window.PLOTLYENV || {};window.PLOTLYENV.BASE_URL=\"https://plot.ly\";Plotly.newPlot(\"0ff2448a-311f-4606-9bce-e03b87bd6f19\", [{\"type\": \"pie\", \"values\": [8, 1], \"labels\": [\"I am not a person with a disability\", \"I am a person with a disability\"]}], {\"title\": \"Population Distribution of disability\"}, {\"showLink\": true, \"linkText\": \"Export to plot.ly\"})});</script>"
      ]
     },
     "metadata": {},
     "output_type": "display_data"
    },
    {
     "data": {
      "application/vnd.plotly.v1+json": {
       "data": [
        {
         "type": "histogram",
         "x": [
          1,
          1,
          1,
          1,
          1,
          1,
          0,
          1,
          1
         ]
        }
       ],
       "layout": {
        "title": "Distribution of github project",
        "xaxis": {
         "title": "github project"
        },
        "yaxis": {
         "title": "Population"
        }
       }
      },
      "text/html": [
       "<div id=\"5ca4414e-4ad2-4e09-9128-cccd51d43d31\" style=\"height: 525px; width: 100%;\" class=\"plotly-graph-div\"></div><script type=\"text/javascript\">require([\"plotly\"], function(Plotly) { window.PLOTLYENV=window.PLOTLYENV || {};window.PLOTLYENV.BASE_URL=\"https://plot.ly\";Plotly.newPlot(\"5ca4414e-4ad2-4e09-9128-cccd51d43d31\", [{\"type\": \"histogram\", \"x\": [1, 1, 1, 1, 1, 1, 0, 1, 1]}], {\"xaxis\": {\"title\": \"github project\"}, \"title\": \"Distribution of github project\", \"yaxis\": {\"title\": \"Population\"}}, {\"showLink\": true, \"linkText\": \"Export to plot.ly\"})});</script>"
      ],
      "text/vnd.plotly.v1+html": [
       "<div id=\"5ca4414e-4ad2-4e09-9128-cccd51d43d31\" style=\"height: 525px; width: 100%;\" class=\"plotly-graph-div\"></div><script type=\"text/javascript\">require([\"plotly\"], function(Plotly) { window.PLOTLYENV=window.PLOTLYENV || {};window.PLOTLYENV.BASE_URL=\"https://plot.ly\";Plotly.newPlot(\"5ca4414e-4ad2-4e09-9128-cccd51d43d31\", [{\"type\": \"histogram\", \"x\": [1, 1, 1, 1, 1, 1, 0, 1, 1]}], {\"xaxis\": {\"title\": \"github project\"}, \"title\": \"Distribution of github project\", \"yaxis\": {\"title\": \"Population\"}}, {\"showLink\": true, \"linkText\": \"Export to plot.ly\"})});</script>"
      ]
     },
     "metadata": {},
     "output_type": "display_data"
    },
    {
     "data": {
      "application/vnd.plotly.v1+json": {
       "data": [
        {
         "boxpoints": "all",
         "jitter": 0.5,
         "marker": {
          "size": 2
         },
         "name": "I am not a person with a disability(8)",
         "type": "box",
         "y": [
          0,
          0,
          0,
          0,
          0,
          0,
          0,
          0
         ]
        },
        {
         "boxpoints": "all",
         "jitter": 0.5,
         "marker": {
          "size": 2
         },
         "name": "I am a person with a disability(1)",
         "type": "box",
         "y": [
          0
         ]
        }
       ],
       "layout": {
        "title": "disability vs bugzilla project",
        "xaxis": {
         "title": "disability"
        },
        "yaxis": {
         "title": "bugzilla project"
        }
       }
      },
      "text/html": [
       "<div id=\"14c86c61-3919-44f5-aa8e-8a76eb888e85\" style=\"height: 525px; width: 100%;\" class=\"plotly-graph-div\"></div><script type=\"text/javascript\">require([\"plotly\"], function(Plotly) { window.PLOTLYENV=window.PLOTLYENV || {};window.PLOTLYENV.BASE_URL=\"https://plot.ly\";Plotly.newPlot(\"14c86c61-3919-44f5-aa8e-8a76eb888e85\", [{\"type\": \"box\", \"boxpoints\": \"all\", \"name\": \"I am not a person with a disability(8)\", \"marker\": {\"size\": 2}, \"y\": [0, 0, 0, 0, 0, 0, 0, 0], \"jitter\": 0.5}, {\"type\": \"box\", \"boxpoints\": \"all\", \"name\": \"I am a person with a disability(1)\", \"marker\": {\"size\": 2}, \"y\": [0], \"jitter\": 0.5}], {\"xaxis\": {\"title\": \"disability\"}, \"title\": \"disability vs bugzilla project\", \"yaxis\": {\"title\": \"bugzilla project\"}}, {\"showLink\": true, \"linkText\": \"Export to plot.ly\"})});</script>"
      ],
      "text/vnd.plotly.v1+html": [
       "<div id=\"14c86c61-3919-44f5-aa8e-8a76eb888e85\" style=\"height: 525px; width: 100%;\" class=\"plotly-graph-div\"></div><script type=\"text/javascript\">require([\"plotly\"], function(Plotly) { window.PLOTLYENV=window.PLOTLYENV || {};window.PLOTLYENV.BASE_URL=\"https://plot.ly\";Plotly.newPlot(\"14c86c61-3919-44f5-aa8e-8a76eb888e85\", [{\"type\": \"box\", \"boxpoints\": \"all\", \"name\": \"I am not a person with a disability(8)\", \"marker\": {\"size\": 2}, \"y\": [0, 0, 0, 0, 0, 0, 0, 0], \"jitter\": 0.5}, {\"type\": \"box\", \"boxpoints\": \"all\", \"name\": \"I am a person with a disability(1)\", \"marker\": {\"size\": 2}, \"y\": [0], \"jitter\": 0.5}], {\"xaxis\": {\"title\": \"disability\"}, \"title\": \"disability vs bugzilla project\", \"yaxis\": {\"title\": \"bugzilla project\"}}, {\"showLink\": true, \"linkText\": \"Export to plot.ly\"})});</script>"
      ]
     },
     "metadata": {},
     "output_type": "display_data"
    },
    {
     "data": {
      "application/vnd.plotly.v1+json": {
       "data": [
        {
         "labels": [
          "I am not a person with a disability",
          "I am a person with a disability"
         ],
         "type": "pie",
         "values": [
          8,
          1
         ]
        }
       ],
       "layout": {
        "title": "Population Distribution of disability"
       }
      },
      "text/html": [
       "<div id=\"d4aed6e5-8abe-41cc-ba8a-b3afb32950d7\" style=\"height: 525px; width: 100%;\" class=\"plotly-graph-div\"></div><script type=\"text/javascript\">require([\"plotly\"], function(Plotly) { window.PLOTLYENV=window.PLOTLYENV || {};window.PLOTLYENV.BASE_URL=\"https://plot.ly\";Plotly.newPlot(\"d4aed6e5-8abe-41cc-ba8a-b3afb32950d7\", [{\"type\": \"pie\", \"values\": [8, 1], \"labels\": [\"I am not a person with a disability\", \"I am a person with a disability\"]}], {\"title\": \"Population Distribution of disability\"}, {\"showLink\": true, \"linkText\": \"Export to plot.ly\"})});</script>"
      ],
      "text/vnd.plotly.v1+html": [
       "<div id=\"d4aed6e5-8abe-41cc-ba8a-b3afb32950d7\" style=\"height: 525px; width: 100%;\" class=\"plotly-graph-div\"></div><script type=\"text/javascript\">require([\"plotly\"], function(Plotly) { window.PLOTLYENV=window.PLOTLYENV || {};window.PLOTLYENV.BASE_URL=\"https://plot.ly\";Plotly.newPlot(\"d4aed6e5-8abe-41cc-ba8a-b3afb32950d7\", [{\"type\": \"pie\", \"values\": [8, 1], \"labels\": [\"I am not a person with a disability\", \"I am a person with a disability\"]}], {\"title\": \"Population Distribution of disability\"}, {\"showLink\": true, \"linkText\": \"Export to plot.ly\"})});</script>"
      ]
     },
     "metadata": {},
     "output_type": "display_data"
    },
    {
     "data": {
      "application/vnd.plotly.v1+json": {
       "data": [
        {
         "type": "histogram",
         "x": [
          0,
          0,
          0,
          0,
          0,
          0,
          0,
          0,
          0
         ]
        }
       ],
       "layout": {
        "title": "Distribution of bugzilla project",
        "xaxis": {
         "title": "bugzilla project"
        },
        "yaxis": {
         "title": "Population"
        }
       }
      },
      "text/html": [
       "<div id=\"abda64e7-ad0d-406f-b4f4-56422dc99a3a\" style=\"height: 525px; width: 100%;\" class=\"plotly-graph-div\"></div><script type=\"text/javascript\">require([\"plotly\"], function(Plotly) { window.PLOTLYENV=window.PLOTLYENV || {};window.PLOTLYENV.BASE_URL=\"https://plot.ly\";Plotly.newPlot(\"abda64e7-ad0d-406f-b4f4-56422dc99a3a\", [{\"type\": \"histogram\", \"x\": [0, 0, 0, 0, 0, 0, 0, 0, 0]}], {\"xaxis\": {\"title\": \"bugzilla project\"}, \"title\": \"Distribution of bugzilla project\", \"yaxis\": {\"title\": \"Population\"}}, {\"showLink\": true, \"linkText\": \"Export to plot.ly\"})});</script>"
      ],
      "text/vnd.plotly.v1+html": [
       "<div id=\"abda64e7-ad0d-406f-b4f4-56422dc99a3a\" style=\"height: 525px; width: 100%;\" class=\"plotly-graph-div\"></div><script type=\"text/javascript\">require([\"plotly\"], function(Plotly) { window.PLOTLYENV=window.PLOTLYENV || {};window.PLOTLYENV.BASE_URL=\"https://plot.ly\";Plotly.newPlot(\"abda64e7-ad0d-406f-b4f4-56422dc99a3a\", [{\"type\": \"histogram\", \"x\": [0, 0, 0, 0, 0, 0, 0, 0, 0]}], {\"xaxis\": {\"title\": \"bugzilla project\"}, \"title\": \"Distribution of bugzilla project\", \"yaxis\": {\"title\": \"Population\"}}, {\"showLink\": true, \"linkText\": \"Export to plot.ly\"})});</script>"
      ]
     },
     "metadata": {},
     "output_type": "display_data"
    },
    {
     "data": {
      "application/vnd.plotly.v1+json": {
       "data": [
        {
         "boxpoints": "all",
         "jitter": 0.5,
         "marker": {
          "size": 2
         },
         "name": "I am not a person with a disability(8)",
         "type": "box",
         "y": [
          0,
          0,
          0,
          0,
          0,
          0,
          0,
          0
         ]
        },
        {
         "boxpoints": "all",
         "jitter": 0.5,
         "marker": {
          "size": 2
         },
         "name": "I am a person with a disability(1)",
         "type": "box",
         "y": [
          0
         ]
        }
       ],
       "layout": {
        "title": "disability vs mbox project",
        "xaxis": {
         "title": "disability"
        },
        "yaxis": {
         "title": "mbox project"
        }
       }
      },
      "text/html": [
       "<div id=\"f4cb3012-0363-40a3-bc07-ba227186c200\" style=\"height: 525px; width: 100%;\" class=\"plotly-graph-div\"></div><script type=\"text/javascript\">require([\"plotly\"], function(Plotly) { window.PLOTLYENV=window.PLOTLYENV || {};window.PLOTLYENV.BASE_URL=\"https://plot.ly\";Plotly.newPlot(\"f4cb3012-0363-40a3-bc07-ba227186c200\", [{\"type\": \"box\", \"boxpoints\": \"all\", \"name\": \"I am not a person with a disability(8)\", \"marker\": {\"size\": 2}, \"y\": [0, 0, 0, 0, 0, 0, 0, 0], \"jitter\": 0.5}, {\"type\": \"box\", \"boxpoints\": \"all\", \"name\": \"I am a person with a disability(1)\", \"marker\": {\"size\": 2}, \"y\": [0], \"jitter\": 0.5}], {\"xaxis\": {\"title\": \"disability\"}, \"title\": \"disability vs mbox project\", \"yaxis\": {\"title\": \"mbox project\"}}, {\"showLink\": true, \"linkText\": \"Export to plot.ly\"})});</script>"
      ],
      "text/vnd.plotly.v1+html": [
       "<div id=\"f4cb3012-0363-40a3-bc07-ba227186c200\" style=\"height: 525px; width: 100%;\" class=\"plotly-graph-div\"></div><script type=\"text/javascript\">require([\"plotly\"], function(Plotly) { window.PLOTLYENV=window.PLOTLYENV || {};window.PLOTLYENV.BASE_URL=\"https://plot.ly\";Plotly.newPlot(\"f4cb3012-0363-40a3-bc07-ba227186c200\", [{\"type\": \"box\", \"boxpoints\": \"all\", \"name\": \"I am not a person with a disability(8)\", \"marker\": {\"size\": 2}, \"y\": [0, 0, 0, 0, 0, 0, 0, 0], \"jitter\": 0.5}, {\"type\": \"box\", \"boxpoints\": \"all\", \"name\": \"I am a person with a disability(1)\", \"marker\": {\"size\": 2}, \"y\": [0], \"jitter\": 0.5}], {\"xaxis\": {\"title\": \"disability\"}, \"title\": \"disability vs mbox project\", \"yaxis\": {\"title\": \"mbox project\"}}, {\"showLink\": true, \"linkText\": \"Export to plot.ly\"})});</script>"
      ]
     },
     "metadata": {},
     "output_type": "display_data"
    },
    {
     "data": {
      "application/vnd.plotly.v1+json": {
       "data": [
        {
         "labels": [
          "I am not a person with a disability",
          "I am a person with a disability"
         ],
         "type": "pie",
         "values": [
          8,
          1
         ]
        }
       ],
       "layout": {
        "title": "Population Distribution of disability"
       }
      },
      "text/html": [
       "<div id=\"425bed27-0c15-49ce-bbb6-2df0a4342446\" style=\"height: 525px; width: 100%;\" class=\"plotly-graph-div\"></div><script type=\"text/javascript\">require([\"plotly\"], function(Plotly) { window.PLOTLYENV=window.PLOTLYENV || {};window.PLOTLYENV.BASE_URL=\"https://plot.ly\";Plotly.newPlot(\"425bed27-0c15-49ce-bbb6-2df0a4342446\", [{\"type\": \"pie\", \"values\": [8, 1], \"labels\": [\"I am not a person with a disability\", \"I am a person with a disability\"]}], {\"title\": \"Population Distribution of disability\"}, {\"showLink\": true, \"linkText\": \"Export to plot.ly\"})});</script>"
      ],
      "text/vnd.plotly.v1+html": [
       "<div id=\"425bed27-0c15-49ce-bbb6-2df0a4342446\" style=\"height: 525px; width: 100%;\" class=\"plotly-graph-div\"></div><script type=\"text/javascript\">require([\"plotly\"], function(Plotly) { window.PLOTLYENV=window.PLOTLYENV || {};window.PLOTLYENV.BASE_URL=\"https://plot.ly\";Plotly.newPlot(\"425bed27-0c15-49ce-bbb6-2df0a4342446\", [{\"type\": \"pie\", \"values\": [8, 1], \"labels\": [\"I am not a person with a disability\", \"I am a person with a disability\"]}], {\"title\": \"Population Distribution of disability\"}, {\"showLink\": true, \"linkText\": \"Export to plot.ly\"})});</script>"
      ]
     },
     "metadata": {},
     "output_type": "display_data"
    },
    {
     "data": {
      "application/vnd.plotly.v1+json": {
       "data": [
        {
         "type": "histogram",
         "x": [
          0,
          0,
          0,
          0,
          0,
          0,
          0,
          0,
          0
         ]
        }
       ],
       "layout": {
        "title": "Distribution of mbox project",
        "xaxis": {
         "title": "mbox project"
        },
        "yaxis": {
         "title": "Population"
        }
       }
      },
      "text/html": [
       "<div id=\"8e942fb5-012a-4615-894d-e4e58f8129c6\" style=\"height: 525px; width: 100%;\" class=\"plotly-graph-div\"></div><script type=\"text/javascript\">require([\"plotly\"], function(Plotly) { window.PLOTLYENV=window.PLOTLYENV || {};window.PLOTLYENV.BASE_URL=\"https://plot.ly\";Plotly.newPlot(\"8e942fb5-012a-4615-894d-e4e58f8129c6\", [{\"type\": \"histogram\", \"x\": [0, 0, 0, 0, 0, 0, 0, 0, 0]}], {\"xaxis\": {\"title\": \"mbox project\"}, \"title\": \"Distribution of mbox project\", \"yaxis\": {\"title\": \"Population\"}}, {\"showLink\": true, \"linkText\": \"Export to plot.ly\"})});</script>"
      ],
      "text/vnd.plotly.v1+html": [
       "<div id=\"8e942fb5-012a-4615-894d-e4e58f8129c6\" style=\"height: 525px; width: 100%;\" class=\"plotly-graph-div\"></div><script type=\"text/javascript\">require([\"plotly\"], function(Plotly) { window.PLOTLYENV=window.PLOTLYENV || {};window.PLOTLYENV.BASE_URL=\"https://plot.ly\";Plotly.newPlot(\"8e942fb5-012a-4615-894d-e4e58f8129c6\", [{\"type\": \"histogram\", \"x\": [0, 0, 0, 0, 0, 0, 0, 0, 0]}], {\"xaxis\": {\"title\": \"mbox project\"}, \"title\": \"Distribution of mbox project\", \"yaxis\": {\"title\": \"Population\"}}, {\"showLink\": true, \"linkText\": \"Export to plot.ly\"})});</script>"
      ]
     },
     "metadata": {},
     "output_type": "display_data"
    },
    {
     "data": {
      "application/vnd.plotly.v1+json": {
       "data": [
        {
         "boxpoints": "all",
         "jitter": 0.5,
         "marker": {
          "size": 2
         },
         "name": "I am not a person with a disability(8)",
         "type": "box",
         "y": [
          0,
          0,
          0,
          0,
          0,
          0,
          1,
          0
         ]
        },
        {
         "boxpoints": "all",
         "jitter": 0.5,
         "marker": {
          "size": 2
         },
         "name": "I am a person with a disability(1)",
         "type": "box",
         "y": [
          0
         ]
        }
       ],
       "layout": {
        "title": "disability vs discourse project",
        "xaxis": {
         "title": "disability"
        },
        "yaxis": {
         "title": "discourse project"
        }
       }
      },
      "text/html": [
       "<div id=\"e7ca3ea4-7779-4cc6-8c6b-5bc28e38be42\" style=\"height: 525px; width: 100%;\" class=\"plotly-graph-div\"></div><script type=\"text/javascript\">require([\"plotly\"], function(Plotly) { window.PLOTLYENV=window.PLOTLYENV || {};window.PLOTLYENV.BASE_URL=\"https://plot.ly\";Plotly.newPlot(\"e7ca3ea4-7779-4cc6-8c6b-5bc28e38be42\", [{\"type\": \"box\", \"boxpoints\": \"all\", \"name\": \"I am not a person with a disability(8)\", \"marker\": {\"size\": 2}, \"y\": [0, 0, 0, 0, 0, 0, 1, 0], \"jitter\": 0.5}, {\"type\": \"box\", \"boxpoints\": \"all\", \"name\": \"I am a person with a disability(1)\", \"marker\": {\"size\": 2}, \"y\": [0], \"jitter\": 0.5}], {\"xaxis\": {\"title\": \"disability\"}, \"title\": \"disability vs discourse project\", \"yaxis\": {\"title\": \"discourse project\"}}, {\"showLink\": true, \"linkText\": \"Export to plot.ly\"})});</script>"
      ],
      "text/vnd.plotly.v1+html": [
       "<div id=\"e7ca3ea4-7779-4cc6-8c6b-5bc28e38be42\" style=\"height: 525px; width: 100%;\" class=\"plotly-graph-div\"></div><script type=\"text/javascript\">require([\"plotly\"], function(Plotly) { window.PLOTLYENV=window.PLOTLYENV || {};window.PLOTLYENV.BASE_URL=\"https://plot.ly\";Plotly.newPlot(\"e7ca3ea4-7779-4cc6-8c6b-5bc28e38be42\", [{\"type\": \"box\", \"boxpoints\": \"all\", \"name\": \"I am not a person with a disability(8)\", \"marker\": {\"size\": 2}, \"y\": [0, 0, 0, 0, 0, 0, 1, 0], \"jitter\": 0.5}, {\"type\": \"box\", \"boxpoints\": \"all\", \"name\": \"I am a person with a disability(1)\", \"marker\": {\"size\": 2}, \"y\": [0], \"jitter\": 0.5}], {\"xaxis\": {\"title\": \"disability\"}, \"title\": \"disability vs discourse project\", \"yaxis\": {\"title\": \"discourse project\"}}, {\"showLink\": true, \"linkText\": \"Export to plot.ly\"})});</script>"
      ]
     },
     "metadata": {},
     "output_type": "display_data"
    },
    {
     "data": {
      "application/vnd.plotly.v1+json": {
       "data": [
        {
         "labels": [
          "I am not a person with a disability",
          "I am a person with a disability"
         ],
         "type": "pie",
         "values": [
          8,
          1
         ]
        }
       ],
       "layout": {
        "title": "Population Distribution of disability"
       }
      },
      "text/html": [
       "<div id=\"d7f4a734-954f-4b1e-aaf8-3bc484679513\" style=\"height: 525px; width: 100%;\" class=\"plotly-graph-div\"></div><script type=\"text/javascript\">require([\"plotly\"], function(Plotly) { window.PLOTLYENV=window.PLOTLYENV || {};window.PLOTLYENV.BASE_URL=\"https://plot.ly\";Plotly.newPlot(\"d7f4a734-954f-4b1e-aaf8-3bc484679513\", [{\"type\": \"pie\", \"values\": [8, 1], \"labels\": [\"I am not a person with a disability\", \"I am a person with a disability\"]}], {\"title\": \"Population Distribution of disability\"}, {\"showLink\": true, \"linkText\": \"Export to plot.ly\"})});</script>"
      ],
      "text/vnd.plotly.v1+html": [
       "<div id=\"d7f4a734-954f-4b1e-aaf8-3bc484679513\" style=\"height: 525px; width: 100%;\" class=\"plotly-graph-div\"></div><script type=\"text/javascript\">require([\"plotly\"], function(Plotly) { window.PLOTLYENV=window.PLOTLYENV || {};window.PLOTLYENV.BASE_URL=\"https://plot.ly\";Plotly.newPlot(\"d7f4a734-954f-4b1e-aaf8-3bc484679513\", [{\"type\": \"pie\", \"values\": [8, 1], \"labels\": [\"I am not a person with a disability\", \"I am a person with a disability\"]}], {\"title\": \"Population Distribution of disability\"}, {\"showLink\": true, \"linkText\": \"Export to plot.ly\"})});</script>"
      ]
     },
     "metadata": {},
     "output_type": "display_data"
    },
    {
     "data": {
      "application/vnd.plotly.v1+json": {
       "data": [
        {
         "type": "histogram",
         "x": [
          0,
          0,
          0,
          0,
          0,
          0,
          1,
          0,
          0
         ]
        }
       ],
       "layout": {
        "title": "Distribution of discourse project",
        "xaxis": {
         "title": "discourse project"
        },
        "yaxis": {
         "title": "Population"
        }
       }
      },
      "text/html": [
       "<div id=\"abed67e2-a274-4bb2-9265-8967eb8adbdd\" style=\"height: 525px; width: 100%;\" class=\"plotly-graph-div\"></div><script type=\"text/javascript\">require([\"plotly\"], function(Plotly) { window.PLOTLYENV=window.PLOTLYENV || {};window.PLOTLYENV.BASE_URL=\"https://plot.ly\";Plotly.newPlot(\"abed67e2-a274-4bb2-9265-8967eb8adbdd\", [{\"type\": \"histogram\", \"x\": [0, 0, 0, 0, 0, 0, 1, 0, 0]}], {\"xaxis\": {\"title\": \"discourse project\"}, \"title\": \"Distribution of discourse project\", \"yaxis\": {\"title\": \"Population\"}}, {\"showLink\": true, \"linkText\": \"Export to plot.ly\"})});</script>"
      ],
      "text/vnd.plotly.v1+html": [
       "<div id=\"abed67e2-a274-4bb2-9265-8967eb8adbdd\" style=\"height: 525px; width: 100%;\" class=\"plotly-graph-div\"></div><script type=\"text/javascript\">require([\"plotly\"], function(Plotly) { window.PLOTLYENV=window.PLOTLYENV || {};window.PLOTLYENV.BASE_URL=\"https://plot.ly\";Plotly.newPlot(\"abed67e2-a274-4bb2-9265-8967eb8adbdd\", [{\"type\": \"histogram\", \"x\": [0, 0, 0, 0, 0, 0, 1, 0, 0]}], {\"xaxis\": {\"title\": \"discourse project\"}, \"title\": \"Distribution of discourse project\", \"yaxis\": {\"title\": \"Population\"}}, {\"showLink\": true, \"linkText\": \"Export to plot.ly\"})});</script>"
      ]
     },
     "metadata": {},
     "output_type": "display_data"
    },
    {
     "data": {
      "application/vnd.plotly.v1+json": {
       "data": [
        {
         "boxpoints": "all",
         "jitter": 0.5,
         "marker": {
          "size": 2
         },
         "name": "I am not a person with a disability(8)",
         "type": "box",
         "y": [
          3,
          1,
          2,
          2,
          2,
          1,
          null,
          null
         ]
        },
        {
         "boxpoints": "all",
         "jitter": 0.5,
         "marker": {
          "size": 2
         },
         "name": "I am a person with a disability(1)",
         "type": "box",
         "y": [
          null
         ]
        }
       ],
       "layout": {
        "title": "disability vs exp",
        "xaxis": {
         "title": "disability"
        },
        "yaxis": {
         "title": "exp"
        }
       }
      },
      "text/html": [
       "<div id=\"5a4bfb6d-e0d9-43d8-85c8-e5b6289c69d2\" style=\"height: 525px; width: 100%;\" class=\"plotly-graph-div\"></div><script type=\"text/javascript\">require([\"plotly\"], function(Plotly) { window.PLOTLYENV=window.PLOTLYENV || {};window.PLOTLYENV.BASE_URL=\"https://plot.ly\";Plotly.newPlot(\"5a4bfb6d-e0d9-43d8-85c8-e5b6289c69d2\", [{\"type\": \"box\", \"boxpoints\": \"all\", \"name\": \"I am not a person with a disability(8)\", \"marker\": {\"size\": 2}, \"y\": [3.0, 1.0, 2.0, 2.0, 2.0, 1.0, null, null], \"jitter\": 0.5}, {\"type\": \"box\", \"boxpoints\": \"all\", \"name\": \"I am a person with a disability(1)\", \"marker\": {\"size\": 2}, \"y\": [null], \"jitter\": 0.5}], {\"xaxis\": {\"title\": \"disability\"}, \"title\": \"disability vs exp\", \"yaxis\": {\"title\": \"exp\"}}, {\"showLink\": true, \"linkText\": \"Export to plot.ly\"})});</script>"
      ],
      "text/vnd.plotly.v1+html": [
       "<div id=\"5a4bfb6d-e0d9-43d8-85c8-e5b6289c69d2\" style=\"height: 525px; width: 100%;\" class=\"plotly-graph-div\"></div><script type=\"text/javascript\">require([\"plotly\"], function(Plotly) { window.PLOTLYENV=window.PLOTLYENV || {};window.PLOTLYENV.BASE_URL=\"https://plot.ly\";Plotly.newPlot(\"5a4bfb6d-e0d9-43d8-85c8-e5b6289c69d2\", [{\"type\": \"box\", \"boxpoints\": \"all\", \"name\": \"I am not a person with a disability(8)\", \"marker\": {\"size\": 2}, \"y\": [3.0, 1.0, 2.0, 2.0, 2.0, 1.0, null, null], \"jitter\": 0.5}, {\"type\": \"box\", \"boxpoints\": \"all\", \"name\": \"I am a person with a disability(1)\", \"marker\": {\"size\": 2}, \"y\": [null], \"jitter\": 0.5}], {\"xaxis\": {\"title\": \"disability\"}, \"title\": \"disability vs exp\", \"yaxis\": {\"title\": \"exp\"}}, {\"showLink\": true, \"linkText\": \"Export to plot.ly\"})});</script>"
      ]
     },
     "metadata": {},
     "output_type": "display_data"
    },
    {
     "data": {
      "application/vnd.plotly.v1+json": {
       "data": [
        {
         "labels": [
          "I am not a person with a disability",
          "I am a person with a disability"
         ],
         "type": "pie",
         "values": [
          8,
          1
         ]
        }
       ],
       "layout": {
        "title": "Population Distribution of disability"
       }
      },
      "text/html": [
       "<div id=\"e25b42eb-f8a3-4080-87c4-4af66834e31d\" style=\"height: 525px; width: 100%;\" class=\"plotly-graph-div\"></div><script type=\"text/javascript\">require([\"plotly\"], function(Plotly) { window.PLOTLYENV=window.PLOTLYENV || {};window.PLOTLYENV.BASE_URL=\"https://plot.ly\";Plotly.newPlot(\"e25b42eb-f8a3-4080-87c4-4af66834e31d\", [{\"type\": \"pie\", \"values\": [8, 1], \"labels\": [\"I am not a person with a disability\", \"I am a person with a disability\"]}], {\"title\": \"Population Distribution of disability\"}, {\"showLink\": true, \"linkText\": \"Export to plot.ly\"})});</script>"
      ],
      "text/vnd.plotly.v1+html": [
       "<div id=\"e25b42eb-f8a3-4080-87c4-4af66834e31d\" style=\"height: 525px; width: 100%;\" class=\"plotly-graph-div\"></div><script type=\"text/javascript\">require([\"plotly\"], function(Plotly) { window.PLOTLYENV=window.PLOTLYENV || {};window.PLOTLYENV.BASE_URL=\"https://plot.ly\";Plotly.newPlot(\"e25b42eb-f8a3-4080-87c4-4af66834e31d\", [{\"type\": \"pie\", \"values\": [8, 1], \"labels\": [\"I am not a person with a disability\", \"I am a person with a disability\"]}], {\"title\": \"Population Distribution of disability\"}, {\"showLink\": true, \"linkText\": \"Export to plot.ly\"})});</script>"
      ]
     },
     "metadata": {},
     "output_type": "display_data"
    },
    {
     "data": {
      "application/vnd.plotly.v1+json": {
       "data": [
        {
         "type": "histogram",
         "x": [
          3,
          1,
          2,
          2,
          2,
          1,
          null,
          null,
          null
         ]
        }
       ],
       "layout": {
        "title": "Distribution of exp",
        "xaxis": {
         "title": "exp"
        },
        "yaxis": {
         "title": "Population"
        }
       }
      },
      "text/html": [
       "<div id=\"39fad967-f3d7-4332-98f1-46f740e3e50b\" style=\"height: 525px; width: 100%;\" class=\"plotly-graph-div\"></div><script type=\"text/javascript\">require([\"plotly\"], function(Plotly) { window.PLOTLYENV=window.PLOTLYENV || {};window.PLOTLYENV.BASE_URL=\"https://plot.ly\";Plotly.newPlot(\"39fad967-f3d7-4332-98f1-46f740e3e50b\", [{\"type\": \"histogram\", \"x\": [3.0, 1.0, 2.0, 2.0, 2.0, 1.0, null, null, null]}], {\"xaxis\": {\"title\": \"exp\"}, \"title\": \"Distribution of exp\", \"yaxis\": {\"title\": \"Population\"}}, {\"showLink\": true, \"linkText\": \"Export to plot.ly\"})});</script>"
      ],
      "text/vnd.plotly.v1+html": [
       "<div id=\"39fad967-f3d7-4332-98f1-46f740e3e50b\" style=\"height: 525px; width: 100%;\" class=\"plotly-graph-div\"></div><script type=\"text/javascript\">require([\"plotly\"], function(Plotly) { window.PLOTLYENV=window.PLOTLYENV || {};window.PLOTLYENV.BASE_URL=\"https://plot.ly\";Plotly.newPlot(\"39fad967-f3d7-4332-98f1-46f740e3e50b\", [{\"type\": \"histogram\", \"x\": [3.0, 1.0, 2.0, 2.0, 2.0, 1.0, null, null, null]}], {\"xaxis\": {\"title\": \"exp\"}, \"title\": \"Distribution of exp\", \"yaxis\": {\"title\": \"Population\"}}, {\"showLink\": true, \"linkText\": \"Export to plot.ly\"})});</script>"
      ]
     },
     "metadata": {},
     "output_type": "display_data"
    },
    {
     "data": {
      "application/vnd.plotly.v1+json": {
       "data": [
        {
         "boxpoints": "all",
         "jitter": 0.5,
         "marker": {
          "size": 2
         },
         "name": "I am not a person with a disability(8)",
         "type": "box",
         "y": [
          "2015",
          "2016",
          "2016",
          "2016",
          "2016",
          "2017",
          null,
          null
         ]
        },
        {
         "boxpoints": "all",
         "jitter": 0.5,
         "marker": {
          "size": 2
         },
         "name": "I am a person with a disability(1)",
         "type": "box",
         "y": [
          null
         ]
        }
       ],
       "layout": {
        "title": "disability vs first commit",
        "xaxis": {
         "title": "disability"
        },
        "yaxis": {
         "title": "first commit"
        }
       }
      },
      "text/html": [
       "<div id=\"5893ed87-fe59-4a01-839a-2545784578bc\" style=\"height: 525px; width: 100%;\" class=\"plotly-graph-div\"></div><script type=\"text/javascript\">require([\"plotly\"], function(Plotly) { window.PLOTLYENV=window.PLOTLYENV || {};window.PLOTLYENV.BASE_URL=\"https://plot.ly\";Plotly.newPlot(\"5893ed87-fe59-4a01-839a-2545784578bc\", [{\"type\": \"box\", \"boxpoints\": \"all\", \"name\": \"I am not a person with a disability(8)\", \"marker\": {\"size\": 2}, \"y\": [\"2015\", \"2016\", \"2016\", \"2016\", \"2016\", \"2017\", null, null], \"jitter\": 0.5}, {\"type\": \"box\", \"boxpoints\": \"all\", \"name\": \"I am a person with a disability(1)\", \"marker\": {\"size\": 2}, \"y\": [null], \"jitter\": 0.5}], {\"xaxis\": {\"title\": \"disability\"}, \"title\": \"disability vs first commit\", \"yaxis\": {\"title\": \"first commit\"}}, {\"showLink\": true, \"linkText\": \"Export to plot.ly\"})});</script>"
      ],
      "text/vnd.plotly.v1+html": [
       "<div id=\"5893ed87-fe59-4a01-839a-2545784578bc\" style=\"height: 525px; width: 100%;\" class=\"plotly-graph-div\"></div><script type=\"text/javascript\">require([\"plotly\"], function(Plotly) { window.PLOTLYENV=window.PLOTLYENV || {};window.PLOTLYENV.BASE_URL=\"https://plot.ly\";Plotly.newPlot(\"5893ed87-fe59-4a01-839a-2545784578bc\", [{\"type\": \"box\", \"boxpoints\": \"all\", \"name\": \"I am not a person with a disability(8)\", \"marker\": {\"size\": 2}, \"y\": [\"2015\", \"2016\", \"2016\", \"2016\", \"2016\", \"2017\", null, null], \"jitter\": 0.5}, {\"type\": \"box\", \"boxpoints\": \"all\", \"name\": \"I am a person with a disability(1)\", \"marker\": {\"size\": 2}, \"y\": [null], \"jitter\": 0.5}], {\"xaxis\": {\"title\": \"disability\"}, \"title\": \"disability vs first commit\", \"yaxis\": {\"title\": \"first commit\"}}, {\"showLink\": true, \"linkText\": \"Export to plot.ly\"})});</script>"
      ]
     },
     "metadata": {},
     "output_type": "display_data"
    },
    {
     "data": {
      "application/vnd.plotly.v1+json": {
       "data": [
        {
         "labels": [
          "I am not a person with a disability",
          "I am a person with a disability"
         ],
         "type": "pie",
         "values": [
          8,
          1
         ]
        }
       ],
       "layout": {
        "title": "Population Distribution of disability"
       }
      },
      "text/html": [
       "<div id=\"803980e0-d705-4a5b-a68c-445357eeea96\" style=\"height: 525px; width: 100%;\" class=\"plotly-graph-div\"></div><script type=\"text/javascript\">require([\"plotly\"], function(Plotly) { window.PLOTLYENV=window.PLOTLYENV || {};window.PLOTLYENV.BASE_URL=\"https://plot.ly\";Plotly.newPlot(\"803980e0-d705-4a5b-a68c-445357eeea96\", [{\"type\": \"pie\", \"values\": [8, 1], \"labels\": [\"I am not a person with a disability\", \"I am a person with a disability\"]}], {\"title\": \"Population Distribution of disability\"}, {\"showLink\": true, \"linkText\": \"Export to plot.ly\"})});</script>"
      ],
      "text/vnd.plotly.v1+html": [
       "<div id=\"803980e0-d705-4a5b-a68c-445357eeea96\" style=\"height: 525px; width: 100%;\" class=\"plotly-graph-div\"></div><script type=\"text/javascript\">require([\"plotly\"], function(Plotly) { window.PLOTLYENV=window.PLOTLYENV || {};window.PLOTLYENV.BASE_URL=\"https://plot.ly\";Plotly.newPlot(\"803980e0-d705-4a5b-a68c-445357eeea96\", [{\"type\": \"pie\", \"values\": [8, 1], \"labels\": [\"I am not a person with a disability\", \"I am a person with a disability\"]}], {\"title\": \"Population Distribution of disability\"}, {\"showLink\": true, \"linkText\": \"Export to plot.ly\"})});</script>"
      ]
     },
     "metadata": {},
     "output_type": "display_data"
    },
    {
     "data": {
      "application/vnd.plotly.v1+json": {
       "data": [
        {
         "type": "histogram",
         "x": [
          "2015",
          "2016",
          "2016",
          "2016",
          "2016",
          "2017",
          null,
          null,
          null
         ]
        }
       ],
       "layout": {
        "title": "Distribution of first commit",
        "xaxis": {
         "title": "first commit"
        },
        "yaxis": {
         "title": "Population"
        }
       }
      },
      "text/html": [
       "<div id=\"f631a14c-51fc-4c7d-a599-bdb33309d249\" style=\"height: 525px; width: 100%;\" class=\"plotly-graph-div\"></div><script type=\"text/javascript\">require([\"plotly\"], function(Plotly) { window.PLOTLYENV=window.PLOTLYENV || {};window.PLOTLYENV.BASE_URL=\"https://plot.ly\";Plotly.newPlot(\"f631a14c-51fc-4c7d-a599-bdb33309d249\", [{\"type\": \"histogram\", \"x\": [\"2015\", \"2016\", \"2016\", \"2016\", \"2016\", \"2017\", null, null, null]}], {\"xaxis\": {\"title\": \"first commit\"}, \"title\": \"Distribution of first commit\", \"yaxis\": {\"title\": \"Population\"}}, {\"showLink\": true, \"linkText\": \"Export to plot.ly\"})});</script>"
      ],
      "text/vnd.plotly.v1+html": [
       "<div id=\"f631a14c-51fc-4c7d-a599-bdb33309d249\" style=\"height: 525px; width: 100%;\" class=\"plotly-graph-div\"></div><script type=\"text/javascript\">require([\"plotly\"], function(Plotly) { window.PLOTLYENV=window.PLOTLYENV || {};window.PLOTLYENV.BASE_URL=\"https://plot.ly\";Plotly.newPlot(\"f631a14c-51fc-4c7d-a599-bdb33309d249\", [{\"type\": \"histogram\", \"x\": [\"2015\", \"2016\", \"2016\", \"2016\", \"2016\", \"2017\", null, null, null]}], {\"xaxis\": {\"title\": \"first commit\"}, \"title\": \"Distribution of first commit\", \"yaxis\": {\"title\": \"Population\"}}, {\"showLink\": true, \"linkText\": \"Export to plot.ly\"})});</script>"
      ]
     },
     "metadata": {},
     "output_type": "display_data"
    },
    {
     "data": {
      "application/vnd.plotly.v1+json": {
       "data": [
        {
         "boxpoints": "all",
         "jitter": 0.5,
         "marker": {
          "size": 2
         },
         "name": "I am not a person with a disability(8)",
         "type": "box",
         "y": [
          "2017",
          "2016",
          "2017",
          "2017",
          "2017",
          "2017",
          null,
          null
         ]
        },
        {
         "boxpoints": "all",
         "jitter": 0.5,
         "marker": {
          "size": 2
         },
         "name": "I am a person with a disability(1)",
         "type": "box",
         "y": [
          null
         ]
        }
       ],
       "layout": {
        "title": "disability vs last commit",
        "xaxis": {
         "title": "disability"
        },
        "yaxis": {
         "title": "last commit"
        }
       }
      },
      "text/html": [
       "<div id=\"9400cb93-baa3-408f-8dc9-60b8cb2c59a1\" style=\"height: 525px; width: 100%;\" class=\"plotly-graph-div\"></div><script type=\"text/javascript\">require([\"plotly\"], function(Plotly) { window.PLOTLYENV=window.PLOTLYENV || {};window.PLOTLYENV.BASE_URL=\"https://plot.ly\";Plotly.newPlot(\"9400cb93-baa3-408f-8dc9-60b8cb2c59a1\", [{\"type\": \"box\", \"boxpoints\": \"all\", \"name\": \"I am not a person with a disability(8)\", \"marker\": {\"size\": 2}, \"y\": [\"2017\", \"2016\", \"2017\", \"2017\", \"2017\", \"2017\", null, null], \"jitter\": 0.5}, {\"type\": \"box\", \"boxpoints\": \"all\", \"name\": \"I am a person with a disability(1)\", \"marker\": {\"size\": 2}, \"y\": [null], \"jitter\": 0.5}], {\"xaxis\": {\"title\": \"disability\"}, \"title\": \"disability vs last commit\", \"yaxis\": {\"title\": \"last commit\"}}, {\"showLink\": true, \"linkText\": \"Export to plot.ly\"})});</script>"
      ],
      "text/vnd.plotly.v1+html": [
       "<div id=\"9400cb93-baa3-408f-8dc9-60b8cb2c59a1\" style=\"height: 525px; width: 100%;\" class=\"plotly-graph-div\"></div><script type=\"text/javascript\">require([\"plotly\"], function(Plotly) { window.PLOTLYENV=window.PLOTLYENV || {};window.PLOTLYENV.BASE_URL=\"https://plot.ly\";Plotly.newPlot(\"9400cb93-baa3-408f-8dc9-60b8cb2c59a1\", [{\"type\": \"box\", \"boxpoints\": \"all\", \"name\": \"I am not a person with a disability(8)\", \"marker\": {\"size\": 2}, \"y\": [\"2017\", \"2016\", \"2017\", \"2017\", \"2017\", \"2017\", null, null], \"jitter\": 0.5}, {\"type\": \"box\", \"boxpoints\": \"all\", \"name\": \"I am a person with a disability(1)\", \"marker\": {\"size\": 2}, \"y\": [null], \"jitter\": 0.5}], {\"xaxis\": {\"title\": \"disability\"}, \"title\": \"disability vs last commit\", \"yaxis\": {\"title\": \"last commit\"}}, {\"showLink\": true, \"linkText\": \"Export to plot.ly\"})});</script>"
      ]
     },
     "metadata": {},
     "output_type": "display_data"
    },
    {
     "data": {
      "application/vnd.plotly.v1+json": {
       "data": [
        {
         "labels": [
          "I am not a person with a disability",
          "I am a person with a disability"
         ],
         "type": "pie",
         "values": [
          8,
          1
         ]
        }
       ],
       "layout": {
        "title": "Population Distribution of disability"
       }
      },
      "text/html": [
       "<div id=\"c9b38de5-fe82-494c-81a9-6d4a0d83f29b\" style=\"height: 525px; width: 100%;\" class=\"plotly-graph-div\"></div><script type=\"text/javascript\">require([\"plotly\"], function(Plotly) { window.PLOTLYENV=window.PLOTLYENV || {};window.PLOTLYENV.BASE_URL=\"https://plot.ly\";Plotly.newPlot(\"c9b38de5-fe82-494c-81a9-6d4a0d83f29b\", [{\"type\": \"pie\", \"values\": [8, 1], \"labels\": [\"I am not a person with a disability\", \"I am a person with a disability\"]}], {\"title\": \"Population Distribution of disability\"}, {\"showLink\": true, \"linkText\": \"Export to plot.ly\"})});</script>"
      ],
      "text/vnd.plotly.v1+html": [
       "<div id=\"c9b38de5-fe82-494c-81a9-6d4a0d83f29b\" style=\"height: 525px; width: 100%;\" class=\"plotly-graph-div\"></div><script type=\"text/javascript\">require([\"plotly\"], function(Plotly) { window.PLOTLYENV=window.PLOTLYENV || {};window.PLOTLYENV.BASE_URL=\"https://plot.ly\";Plotly.newPlot(\"c9b38de5-fe82-494c-81a9-6d4a0d83f29b\", [{\"type\": \"pie\", \"values\": [8, 1], \"labels\": [\"I am not a person with a disability\", \"I am a person with a disability\"]}], {\"title\": \"Population Distribution of disability\"}, {\"showLink\": true, \"linkText\": \"Export to plot.ly\"})});</script>"
      ]
     },
     "metadata": {},
     "output_type": "display_data"
    },
    {
     "data": {
      "application/vnd.plotly.v1+json": {
       "data": [
        {
         "type": "histogram",
         "x": [
          "2017",
          "2016",
          "2017",
          "2017",
          "2017",
          "2017",
          null,
          null,
          null
         ]
        }
       ],
       "layout": {
        "title": "Distribution of last commit",
        "xaxis": {
         "title": "last commit"
        },
        "yaxis": {
         "title": "Population"
        }
       }
      },
      "text/html": [
       "<div id=\"10c371ca-ddad-4610-bd93-9d808ef171ec\" style=\"height: 525px; width: 100%;\" class=\"plotly-graph-div\"></div><script type=\"text/javascript\">require([\"plotly\"], function(Plotly) { window.PLOTLYENV=window.PLOTLYENV || {};window.PLOTLYENV.BASE_URL=\"https://plot.ly\";Plotly.newPlot(\"10c371ca-ddad-4610-bd93-9d808ef171ec\", [{\"type\": \"histogram\", \"x\": [\"2017\", \"2016\", \"2017\", \"2017\", \"2017\", \"2017\", null, null, null]}], {\"xaxis\": {\"title\": \"last commit\"}, \"title\": \"Distribution of last commit\", \"yaxis\": {\"title\": \"Population\"}}, {\"showLink\": true, \"linkText\": \"Export to plot.ly\"})});</script>"
      ],
      "text/vnd.plotly.v1+html": [
       "<div id=\"10c371ca-ddad-4610-bd93-9d808ef171ec\" style=\"height: 525px; width: 100%;\" class=\"plotly-graph-div\"></div><script type=\"text/javascript\">require([\"plotly\"], function(Plotly) { window.PLOTLYENV=window.PLOTLYENV || {};window.PLOTLYENV.BASE_URL=\"https://plot.ly\";Plotly.newPlot(\"10c371ca-ddad-4610-bd93-9d808ef171ec\", [{\"type\": \"histogram\", \"x\": [\"2017\", \"2016\", \"2017\", \"2017\", \"2017\", \"2017\", null, null, null]}], {\"xaxis\": {\"title\": \"last commit\"}, \"title\": \"Distribution of last commit\", \"yaxis\": {\"title\": \"Population\"}}, {\"showLink\": true, \"linkText\": \"Export to plot.ly\"})});</script>"
      ]
     },
     "metadata": {},
     "output_type": "display_data"
    },
    {
     "data": {
      "application/vnd.plotly.v1+json": {
       "data": [
        {
         "boxpoints": "all",
         "jitter": 0.5,
         "marker": {
          "size": 2
         },
         "name": "Bachelor’s Degree(2)",
         "type": "box",
         "y": [
          7,
          0
         ]
        },
        {
         "boxpoints": "all",
         "jitter": 0.5,
         "marker": {
          "size": 2
         },
         "name": "Postgraduate Degree(3)",
         "type": "box",
         "y": [
          66,
          5,
          0
         ]
        },
        {
         "boxpoints": "all",
         "jitter": 0.5,
         "marker": {
          "size": 2
         },
         "name": "Some College / Associate’s Degree(2)",
         "type": "box",
         "y": [
          3,
          1
         ]
        },
        {
         "boxpoints": "all",
         "jitter": 0.5,
         "marker": {
          "size": 2
         },
         "name": "High school diploma(2)",
         "type": "box",
         "y": [
          13,
          0
         ]
        }
       ],
       "layout": {
        "title": "education level vs commits",
        "xaxis": {
         "title": "education level"
        },
        "yaxis": {
         "title": "commits"
        }
       }
      },
      "text/html": [
       "<div id=\"dc25a0a7-2f58-4130-a38d-57cc05252041\" style=\"height: 525px; width: 100%;\" class=\"plotly-graph-div\"></div><script type=\"text/javascript\">require([\"plotly\"], function(Plotly) { window.PLOTLYENV=window.PLOTLYENV || {};window.PLOTLYENV.BASE_URL=\"https://plot.ly\";Plotly.newPlot(\"dc25a0a7-2f58-4130-a38d-57cc05252041\", [{\"type\": \"box\", \"boxpoints\": \"all\", \"name\": \"Bachelor\\u2019s Degree(2)\", \"marker\": {\"size\": 2}, \"y\": [7.0, 0.0], \"jitter\": 0.5}, {\"type\": \"box\", \"boxpoints\": \"all\", \"name\": \"Postgraduate Degree(3)\", \"marker\": {\"size\": 2}, \"y\": [66.0, 5.0, 0.0], \"jitter\": 0.5}, {\"type\": \"box\", \"boxpoints\": \"all\", \"name\": \"Some College / Associate\\u2019s Degree(2)\", \"marker\": {\"size\": 2}, \"y\": [3.0, 1.0], \"jitter\": 0.5}, {\"type\": \"box\", \"boxpoints\": \"all\", \"name\": \"High school diploma(2)\", \"marker\": {\"size\": 2}, \"y\": [13.0, 0.0], \"jitter\": 0.5}], {\"xaxis\": {\"title\": \"education level\"}, \"title\": \"education level vs commits\", \"yaxis\": {\"title\": \"commits\"}}, {\"showLink\": true, \"linkText\": \"Export to plot.ly\"})});</script>"
      ],
      "text/vnd.plotly.v1+html": [
       "<div id=\"dc25a0a7-2f58-4130-a38d-57cc05252041\" style=\"height: 525px; width: 100%;\" class=\"plotly-graph-div\"></div><script type=\"text/javascript\">require([\"plotly\"], function(Plotly) { window.PLOTLYENV=window.PLOTLYENV || {};window.PLOTLYENV.BASE_URL=\"https://plot.ly\";Plotly.newPlot(\"dc25a0a7-2f58-4130-a38d-57cc05252041\", [{\"type\": \"box\", \"boxpoints\": \"all\", \"name\": \"Bachelor\\u2019s Degree(2)\", \"marker\": {\"size\": 2}, \"y\": [7.0, 0.0], \"jitter\": 0.5}, {\"type\": \"box\", \"boxpoints\": \"all\", \"name\": \"Postgraduate Degree(3)\", \"marker\": {\"size\": 2}, \"y\": [66.0, 5.0, 0.0], \"jitter\": 0.5}, {\"type\": \"box\", \"boxpoints\": \"all\", \"name\": \"Some College / Associate\\u2019s Degree(2)\", \"marker\": {\"size\": 2}, \"y\": [3.0, 1.0], \"jitter\": 0.5}, {\"type\": \"box\", \"boxpoints\": \"all\", \"name\": \"High school diploma(2)\", \"marker\": {\"size\": 2}, \"y\": [13.0, 0.0], \"jitter\": 0.5}], {\"xaxis\": {\"title\": \"education level\"}, \"title\": \"education level vs commits\", \"yaxis\": {\"title\": \"commits\"}}, {\"showLink\": true, \"linkText\": \"Export to plot.ly\"})});</script>"
      ]
     },
     "metadata": {},
     "output_type": "display_data"
    },
    {
     "data": {
      "application/vnd.plotly.v1+json": {
       "data": [
        {
         "labels": [
          "Bachelor’s Degree",
          "Postgraduate Degree",
          "Some College / Associate’s Degree",
          "High school diploma"
         ],
         "type": "pie",
         "values": [
          2,
          3,
          2,
          2
         ]
        }
       ],
       "layout": {
        "title": "Population Distribution of education level"
       }
      },
      "text/html": [
       "<div id=\"f2a1cd9c-6127-4fa1-9617-0003f645d744\" style=\"height: 525px; width: 100%;\" class=\"plotly-graph-div\"></div><script type=\"text/javascript\">require([\"plotly\"], function(Plotly) { window.PLOTLYENV=window.PLOTLYENV || {};window.PLOTLYENV.BASE_URL=\"https://plot.ly\";Plotly.newPlot(\"f2a1cd9c-6127-4fa1-9617-0003f645d744\", [{\"type\": \"pie\", \"values\": [2, 3, 2, 2], \"labels\": [\"Bachelor\\u2019s Degree\", \"Postgraduate Degree\", \"Some College / Associate\\u2019s Degree\", \"High school diploma\"]}], {\"title\": \"Population Distribution of education level\"}, {\"showLink\": true, \"linkText\": \"Export to plot.ly\"})});</script>"
      ],
      "text/vnd.plotly.v1+html": [
       "<div id=\"f2a1cd9c-6127-4fa1-9617-0003f645d744\" style=\"height: 525px; width: 100%;\" class=\"plotly-graph-div\"></div><script type=\"text/javascript\">require([\"plotly\"], function(Plotly) { window.PLOTLYENV=window.PLOTLYENV || {};window.PLOTLYENV.BASE_URL=\"https://plot.ly\";Plotly.newPlot(\"f2a1cd9c-6127-4fa1-9617-0003f645d744\", [{\"type\": \"pie\", \"values\": [2, 3, 2, 2], \"labels\": [\"Bachelor\\u2019s Degree\", \"Postgraduate Degree\", \"Some College / Associate\\u2019s Degree\", \"High school diploma\"]}], {\"title\": \"Population Distribution of education level\"}, {\"showLink\": true, \"linkText\": \"Export to plot.ly\"})});</script>"
      ]
     },
     "metadata": {},
     "output_type": "display_data"
    },
    {
     "data": {
      "application/vnd.plotly.v1+json": {
       "data": [
        {
         "boxpoints": false,
         "name": "Non-employees commits",
         "type": "box",
         "y": [
          1312,
          427,
          314,
          66,
          48,
          38,
          32,
          27,
          18,
          16,
          15,
          14,
          13,
          13,
          13,
          12,
          11,
          10,
          10,
          10,
          9,
          8,
          8,
          7,
          7,
          7,
          7,
          6,
          6,
          6,
          6,
          6,
          6,
          5,
          5,
          5,
          5,
          5,
          5,
          5,
          5,
          5,
          4,
          4,
          4,
          4,
          4,
          4,
          4,
          4,
          4,
          4,
          4,
          4,
          4,
          4,
          3,
          3,
          3,
          3,
          3,
          3,
          3,
          3,
          3,
          3,
          3,
          3,
          3,
          3,
          3,
          3,
          3,
          3,
          3,
          3,
          2,
          2,
          2,
          2,
          2,
          2,
          2,
          2,
          2,
          2,
          2,
          2,
          2,
          2,
          2,
          2,
          2,
          2,
          2,
          2,
          2,
          2,
          2,
          2,
          2,
          2,
          2,
          2,
          2,
          2,
          2,
          2,
          2,
          2,
          2,
          2,
          1,
          1,
          1,
          1,
          1,
          1,
          1,
          1,
          1,
          1,
          1,
          1,
          1,
          1,
          1,
          1,
          1,
          1,
          1,
          1,
          1,
          1,
          1,
          1,
          1,
          1,
          1,
          1,
          1,
          1,
          1,
          1,
          1,
          1,
          1,
          1,
          1,
          1,
          1,
          1,
          1,
          1,
          1,
          1,
          1,
          1,
          1,
          1,
          1,
          1,
          1,
          1,
          1,
          1,
          1,
          1,
          1,
          1,
          1,
          1,
          1,
          1,
          1,
          1,
          1,
          1,
          1,
          1,
          1,
          1,
          1,
          1,
          1,
          1,
          1,
          1,
          1,
          1,
          1,
          1,
          1,
          1,
          1,
          1,
          1,
          1,
          1,
          1,
          1,
          1,
          1,
          1,
          1,
          1,
          1,
          1,
          1,
          1,
          1,
          1,
          1,
          1,
          1,
          1,
          1,
          1,
          1,
          1,
          1
         ]
        },
        {
         "boxpoints": false,
         "name": "Survey commits",
         "type": "box",
         "y": [
          7,
          0,
          66,
          5,
          0,
          3,
          1,
          13,
          0
         ]
        }
       ],
       "layout": {
        "title": "education level vs commits",
        "xaxis": {
         "title": "education level"
        },
        "yaxis": {
         "range": [
          "0",
          "100"
         ],
         "title": "commits"
        }
       }
      },
      "text/html": [
       "<div id=\"30d8bd4e-8174-40d1-b53c-25c63b4dbece\" style=\"height: 525px; width: 100%;\" class=\"plotly-graph-div\"></div><script type=\"text/javascript\">require([\"plotly\"], function(Plotly) { window.PLOTLYENV=window.PLOTLYENV || {};window.PLOTLYENV.BASE_URL=\"https://plot.ly\";Plotly.newPlot(\"30d8bd4e-8174-40d1-b53c-25c63b4dbece\", [{\"type\": \"box\", \"boxpoints\": false, \"name\": \"Non-employees commits\", \"y\": [1312, 427, 314, 66, 48, 38, 32, 27, 18, 16, 15, 14, 13, 13, 13, 12, 11, 10, 10, 10, 9, 8, 8, 7, 7, 7, 7, 6, 6, 6, 6, 6, 6, 5, 5, 5, 5, 5, 5, 5, 5, 5, 4, 4, 4, 4, 4, 4, 4, 4, 4, 4, 4, 4, 4, 4, 3, 3, 3, 3, 3, 3, 3, 3, 3, 3, 3, 3, 3, 3, 3, 3, 3, 3, 3, 3, 2, 2, 2, 2, 2, 2, 2, 2, 2, 2, 2, 2, 2, 2, 2, 2, 2, 2, 2, 2, 2, 2, 2, 2, 2, 2, 2, 2, 2, 2, 2, 2, 2, 2, 2, 2, 1, 1, 1, 1, 1, 1, 1, 1, 1, 1, 1, 1, 1, 1, 1, 1, 1, 1, 1, 1, 1, 1, 1, 1, 1, 1, 1, 1, 1, 1, 1, 1, 1, 1, 1, 1, 1, 1, 1, 1, 1, 1, 1, 1, 1, 1, 1, 1, 1, 1, 1, 1, 1, 1, 1, 1, 1, 1, 1, 1, 1, 1, 1, 1, 1, 1, 1, 1, 1, 1, 1, 1, 1, 1, 1, 1, 1, 1, 1, 1, 1, 1, 1, 1, 1, 1, 1, 1, 1, 1, 1, 1, 1, 1, 1, 1, 1, 1, 1, 1, 1, 1, 1, 1, 1, 1, 1, 1, 1]}, {\"type\": \"box\", \"boxpoints\": false, \"name\": \"Survey commits\", \"y\": [7.0, 0.0, 66.0, 5.0, 0.0, 3.0, 1.0, 13.0, 0.0]}], {\"xaxis\": {\"title\": \"education level\"}, \"title\": \"education level vs commits\", \"yaxis\": {\"title\": \"commits\", \"range\": [\"0\", \"100\"]}}, {\"showLink\": true, \"linkText\": \"Export to plot.ly\"})});</script>"
      ],
      "text/vnd.plotly.v1+html": [
       "<div id=\"30d8bd4e-8174-40d1-b53c-25c63b4dbece\" style=\"height: 525px; width: 100%;\" class=\"plotly-graph-div\"></div><script type=\"text/javascript\">require([\"plotly\"], function(Plotly) { window.PLOTLYENV=window.PLOTLYENV || {};window.PLOTLYENV.BASE_URL=\"https://plot.ly\";Plotly.newPlot(\"30d8bd4e-8174-40d1-b53c-25c63b4dbece\", [{\"type\": \"box\", \"boxpoints\": false, \"name\": \"Non-employees commits\", \"y\": [1312, 427, 314, 66, 48, 38, 32, 27, 18, 16, 15, 14, 13, 13, 13, 12, 11, 10, 10, 10, 9, 8, 8, 7, 7, 7, 7, 6, 6, 6, 6, 6, 6, 5, 5, 5, 5, 5, 5, 5, 5, 5, 4, 4, 4, 4, 4, 4, 4, 4, 4, 4, 4, 4, 4, 4, 3, 3, 3, 3, 3, 3, 3, 3, 3, 3, 3, 3, 3, 3, 3, 3, 3, 3, 3, 3, 2, 2, 2, 2, 2, 2, 2, 2, 2, 2, 2, 2, 2, 2, 2, 2, 2, 2, 2, 2, 2, 2, 2, 2, 2, 2, 2, 2, 2, 2, 2, 2, 2, 2, 2, 2, 1, 1, 1, 1, 1, 1, 1, 1, 1, 1, 1, 1, 1, 1, 1, 1, 1, 1, 1, 1, 1, 1, 1, 1, 1, 1, 1, 1, 1, 1, 1, 1, 1, 1, 1, 1, 1, 1, 1, 1, 1, 1, 1, 1, 1, 1, 1, 1, 1, 1, 1, 1, 1, 1, 1, 1, 1, 1, 1, 1, 1, 1, 1, 1, 1, 1, 1, 1, 1, 1, 1, 1, 1, 1, 1, 1, 1, 1, 1, 1, 1, 1, 1, 1, 1, 1, 1, 1, 1, 1, 1, 1, 1, 1, 1, 1, 1, 1, 1, 1, 1, 1, 1, 1, 1, 1, 1, 1, 1]}, {\"type\": \"box\", \"boxpoints\": false, \"name\": \"Survey commits\", \"y\": [7.0, 0.0, 66.0, 5.0, 0.0, 3.0, 1.0, 13.0, 0.0]}], {\"xaxis\": {\"title\": \"education level\"}, \"title\": \"education level vs commits\", \"yaxis\": {\"title\": \"commits\", \"range\": [\"0\", \"100\"]}}, {\"showLink\": true, \"linkText\": \"Export to plot.ly\"})});</script>"
      ]
     },
     "metadata": {},
     "output_type": "display_data"
    },
    {
     "data": {
      "application/vnd.plotly.v1+json": {
       "data": [
        {
         "boxpoints": "all",
         "jitter": 0.5,
         "marker": {
          "size": 2
         },
         "name": "Bachelor’s Degree(2)",
         "type": "box",
         "y": [
          9,
          0
         ]
        },
        {
         "boxpoints": "all",
         "jitter": 0.5,
         "marker": {
          "size": 2
         },
         "name": "Postgraduate Degree(3)",
         "type": "box",
         "y": [
          54,
          3,
          0
         ]
        },
        {
         "boxpoints": "all",
         "jitter": 0.5,
         "marker": {
          "size": 2
         },
         "name": "Some College / Associate’s Degree(2)",
         "type": "box",
         "y": [
          4,
          1
         ]
        },
        {
         "boxpoints": "all",
         "jitter": 0.5,
         "marker": {
          "size": 2
         },
         "name": "High school diploma(2)",
         "type": "box",
         "y": [
          13,
          1
         ]
        }
       ],
       "layout": {
        "title": "education level vs pull requests",
        "xaxis": {
         "title": "education level"
        },
        "yaxis": {
         "title": "pull requests"
        }
       }
      },
      "text/html": [
       "<div id=\"bb7f8867-8d4f-416f-bdb7-29b6e3d21d20\" style=\"height: 525px; width: 100%;\" class=\"plotly-graph-div\"></div><script type=\"text/javascript\">require([\"plotly\"], function(Plotly) { window.PLOTLYENV=window.PLOTLYENV || {};window.PLOTLYENV.BASE_URL=\"https://plot.ly\";Plotly.newPlot(\"bb7f8867-8d4f-416f-bdb7-29b6e3d21d20\", [{\"type\": \"box\", \"boxpoints\": \"all\", \"name\": \"Bachelor\\u2019s Degree(2)\", \"marker\": {\"size\": 2}, \"y\": [9.0, 0.0], \"jitter\": 0.5}, {\"type\": \"box\", \"boxpoints\": \"all\", \"name\": \"Postgraduate Degree(3)\", \"marker\": {\"size\": 2}, \"y\": [54.0, 3.0, 0.0], \"jitter\": 0.5}, {\"type\": \"box\", \"boxpoints\": \"all\", \"name\": \"Some College / Associate\\u2019s Degree(2)\", \"marker\": {\"size\": 2}, \"y\": [4.0, 1.0], \"jitter\": 0.5}, {\"type\": \"box\", \"boxpoints\": \"all\", \"name\": \"High school diploma(2)\", \"marker\": {\"size\": 2}, \"y\": [13.0, 1.0], \"jitter\": 0.5}], {\"xaxis\": {\"title\": \"education level\"}, \"title\": \"education level vs pull requests\", \"yaxis\": {\"title\": \"pull requests\"}}, {\"showLink\": true, \"linkText\": \"Export to plot.ly\"})});</script>"
      ],
      "text/vnd.plotly.v1+html": [
       "<div id=\"bb7f8867-8d4f-416f-bdb7-29b6e3d21d20\" style=\"height: 525px; width: 100%;\" class=\"plotly-graph-div\"></div><script type=\"text/javascript\">require([\"plotly\"], function(Plotly) { window.PLOTLYENV=window.PLOTLYENV || {};window.PLOTLYENV.BASE_URL=\"https://plot.ly\";Plotly.newPlot(\"bb7f8867-8d4f-416f-bdb7-29b6e3d21d20\", [{\"type\": \"box\", \"boxpoints\": \"all\", \"name\": \"Bachelor\\u2019s Degree(2)\", \"marker\": {\"size\": 2}, \"y\": [9.0, 0.0], \"jitter\": 0.5}, {\"type\": \"box\", \"boxpoints\": \"all\", \"name\": \"Postgraduate Degree(3)\", \"marker\": {\"size\": 2}, \"y\": [54.0, 3.0, 0.0], \"jitter\": 0.5}, {\"type\": \"box\", \"boxpoints\": \"all\", \"name\": \"Some College / Associate\\u2019s Degree(2)\", \"marker\": {\"size\": 2}, \"y\": [4.0, 1.0], \"jitter\": 0.5}, {\"type\": \"box\", \"boxpoints\": \"all\", \"name\": \"High school diploma(2)\", \"marker\": {\"size\": 2}, \"y\": [13.0, 1.0], \"jitter\": 0.5}], {\"xaxis\": {\"title\": \"education level\"}, \"title\": \"education level vs pull requests\", \"yaxis\": {\"title\": \"pull requests\"}}, {\"showLink\": true, \"linkText\": \"Export to plot.ly\"})});</script>"
      ]
     },
     "metadata": {},
     "output_type": "display_data"
    },
    {
     "data": {
      "application/vnd.plotly.v1+json": {
       "data": [
        {
         "labels": [
          "Bachelor’s Degree",
          "Postgraduate Degree",
          "Some College / Associate’s Degree",
          "High school diploma"
         ],
         "type": "pie",
         "values": [
          2,
          3,
          2,
          2
         ]
        }
       ],
       "layout": {
        "title": "Population Distribution of education level"
       }
      },
      "text/html": [
       "<div id=\"877d1443-4ab0-4ef6-a75e-965bd14003cf\" style=\"height: 525px; width: 100%;\" class=\"plotly-graph-div\"></div><script type=\"text/javascript\">require([\"plotly\"], function(Plotly) { window.PLOTLYENV=window.PLOTLYENV || {};window.PLOTLYENV.BASE_URL=\"https://plot.ly\";Plotly.newPlot(\"877d1443-4ab0-4ef6-a75e-965bd14003cf\", [{\"type\": \"pie\", \"values\": [2, 3, 2, 2], \"labels\": [\"Bachelor\\u2019s Degree\", \"Postgraduate Degree\", \"Some College / Associate\\u2019s Degree\", \"High school diploma\"]}], {\"title\": \"Population Distribution of education level\"}, {\"showLink\": true, \"linkText\": \"Export to plot.ly\"})});</script>"
      ],
      "text/vnd.plotly.v1+html": [
       "<div id=\"877d1443-4ab0-4ef6-a75e-965bd14003cf\" style=\"height: 525px; width: 100%;\" class=\"plotly-graph-div\"></div><script type=\"text/javascript\">require([\"plotly\"], function(Plotly) { window.PLOTLYENV=window.PLOTLYENV || {};window.PLOTLYENV.BASE_URL=\"https://plot.ly\";Plotly.newPlot(\"877d1443-4ab0-4ef6-a75e-965bd14003cf\", [{\"type\": \"pie\", \"values\": [2, 3, 2, 2], \"labels\": [\"Bachelor\\u2019s Degree\", \"Postgraduate Degree\", \"Some College / Associate\\u2019s Degree\", \"High school diploma\"]}], {\"title\": \"Population Distribution of education level\"}, {\"showLink\": true, \"linkText\": \"Export to plot.ly\"})});</script>"
      ]
     },
     "metadata": {},
     "output_type": "display_data"
    },
    {
     "data": {
      "application/vnd.plotly.v1+json": {
       "data": [
        {
         "boxpoints": false,
         "name": "Non-employees pull requests",
         "type": "box",
         "y": [
          1312,
          427,
          314,
          66,
          48,
          38,
          32,
          27,
          18,
          16,
          15,
          14,
          13,
          13,
          13,
          12,
          11,
          10,
          10,
          10,
          9,
          8,
          8,
          7,
          7,
          7,
          7,
          6,
          6,
          6,
          6,
          6,
          6,
          5,
          5,
          5,
          5,
          5,
          5,
          5,
          5,
          5,
          4,
          4,
          4,
          4,
          4,
          4,
          4,
          4,
          4,
          4,
          4,
          4,
          4,
          4,
          3,
          3,
          3,
          3,
          3,
          3,
          3,
          3,
          3,
          3,
          3,
          3,
          3,
          3,
          3,
          3,
          3,
          3,
          3,
          3,
          2,
          2,
          2,
          2,
          2,
          2,
          2,
          2,
          2,
          2,
          2,
          2,
          2,
          2,
          2,
          2,
          2,
          2,
          2,
          2,
          2,
          2,
          2,
          2,
          2,
          2,
          2,
          2,
          2,
          2,
          2,
          2,
          2,
          2,
          2,
          2,
          1,
          1,
          1,
          1,
          1,
          1,
          1,
          1,
          1,
          1,
          1,
          1,
          1,
          1,
          1,
          1,
          1,
          1,
          1,
          1,
          1,
          1,
          1,
          1,
          1,
          1,
          1,
          1,
          1,
          1,
          1,
          1,
          1,
          1,
          1,
          1,
          1,
          1,
          1,
          1,
          1,
          1,
          1,
          1,
          1,
          1,
          1,
          1,
          1,
          1,
          1,
          1,
          1,
          1,
          1,
          1,
          1,
          1,
          1,
          1,
          1,
          1,
          1,
          1,
          1,
          1,
          1,
          1,
          1,
          1,
          1,
          1,
          1,
          1,
          1,
          1,
          1,
          1,
          1,
          1,
          1,
          1,
          1,
          1,
          1,
          1,
          1,
          1,
          1,
          1,
          1,
          1,
          1,
          1,
          1,
          1,
          1,
          1,
          1,
          1,
          1,
          1,
          1,
          1,
          1,
          1,
          1,
          1,
          1
         ]
        },
        {
         "boxpoints": false,
         "name": "Survey pull requests",
         "type": "box",
         "y": [
          9,
          0,
          54,
          3,
          0,
          4,
          1,
          13,
          1
         ]
        }
       ],
       "layout": {
        "title": "education level vs pull requests",
        "xaxis": {
         "title": "education level"
        },
        "yaxis": {
         "range": [
          "0",
          "100"
         ],
         "title": "pull requests"
        }
       }
      },
      "text/html": [
       "<div id=\"b4b67a22-89b3-49ed-b14d-d0823d17998c\" style=\"height: 525px; width: 100%;\" class=\"plotly-graph-div\"></div><script type=\"text/javascript\">require([\"plotly\"], function(Plotly) { window.PLOTLYENV=window.PLOTLYENV || {};window.PLOTLYENV.BASE_URL=\"https://plot.ly\";Plotly.newPlot(\"b4b67a22-89b3-49ed-b14d-d0823d17998c\", [{\"type\": \"box\", \"boxpoints\": false, \"name\": \"Non-employees pull requests\", \"y\": [1312, 427, 314, 66, 48, 38, 32, 27, 18, 16, 15, 14, 13, 13, 13, 12, 11, 10, 10, 10, 9, 8, 8, 7, 7, 7, 7, 6, 6, 6, 6, 6, 6, 5, 5, 5, 5, 5, 5, 5, 5, 5, 4, 4, 4, 4, 4, 4, 4, 4, 4, 4, 4, 4, 4, 4, 3, 3, 3, 3, 3, 3, 3, 3, 3, 3, 3, 3, 3, 3, 3, 3, 3, 3, 3, 3, 2, 2, 2, 2, 2, 2, 2, 2, 2, 2, 2, 2, 2, 2, 2, 2, 2, 2, 2, 2, 2, 2, 2, 2, 2, 2, 2, 2, 2, 2, 2, 2, 2, 2, 2, 2, 1, 1, 1, 1, 1, 1, 1, 1, 1, 1, 1, 1, 1, 1, 1, 1, 1, 1, 1, 1, 1, 1, 1, 1, 1, 1, 1, 1, 1, 1, 1, 1, 1, 1, 1, 1, 1, 1, 1, 1, 1, 1, 1, 1, 1, 1, 1, 1, 1, 1, 1, 1, 1, 1, 1, 1, 1, 1, 1, 1, 1, 1, 1, 1, 1, 1, 1, 1, 1, 1, 1, 1, 1, 1, 1, 1, 1, 1, 1, 1, 1, 1, 1, 1, 1, 1, 1, 1, 1, 1, 1, 1, 1, 1, 1, 1, 1, 1, 1, 1, 1, 1, 1, 1, 1, 1, 1, 1, 1]}, {\"type\": \"box\", \"boxpoints\": false, \"name\": \"Survey pull requests\", \"y\": [9.0, 0.0, 54.0, 3.0, 0.0, 4.0, 1.0, 13.0, 1.0]}], {\"xaxis\": {\"title\": \"education level\"}, \"title\": \"education level vs pull requests\", \"yaxis\": {\"title\": \"pull requests\", \"range\": [\"0\", \"100\"]}}, {\"showLink\": true, \"linkText\": \"Export to plot.ly\"})});</script>"
      ],
      "text/vnd.plotly.v1+html": [
       "<div id=\"b4b67a22-89b3-49ed-b14d-d0823d17998c\" style=\"height: 525px; width: 100%;\" class=\"plotly-graph-div\"></div><script type=\"text/javascript\">require([\"plotly\"], function(Plotly) { window.PLOTLYENV=window.PLOTLYENV || {};window.PLOTLYENV.BASE_URL=\"https://plot.ly\";Plotly.newPlot(\"b4b67a22-89b3-49ed-b14d-d0823d17998c\", [{\"type\": \"box\", \"boxpoints\": false, \"name\": \"Non-employees pull requests\", \"y\": [1312, 427, 314, 66, 48, 38, 32, 27, 18, 16, 15, 14, 13, 13, 13, 12, 11, 10, 10, 10, 9, 8, 8, 7, 7, 7, 7, 6, 6, 6, 6, 6, 6, 5, 5, 5, 5, 5, 5, 5, 5, 5, 4, 4, 4, 4, 4, 4, 4, 4, 4, 4, 4, 4, 4, 4, 3, 3, 3, 3, 3, 3, 3, 3, 3, 3, 3, 3, 3, 3, 3, 3, 3, 3, 3, 3, 2, 2, 2, 2, 2, 2, 2, 2, 2, 2, 2, 2, 2, 2, 2, 2, 2, 2, 2, 2, 2, 2, 2, 2, 2, 2, 2, 2, 2, 2, 2, 2, 2, 2, 2, 2, 1, 1, 1, 1, 1, 1, 1, 1, 1, 1, 1, 1, 1, 1, 1, 1, 1, 1, 1, 1, 1, 1, 1, 1, 1, 1, 1, 1, 1, 1, 1, 1, 1, 1, 1, 1, 1, 1, 1, 1, 1, 1, 1, 1, 1, 1, 1, 1, 1, 1, 1, 1, 1, 1, 1, 1, 1, 1, 1, 1, 1, 1, 1, 1, 1, 1, 1, 1, 1, 1, 1, 1, 1, 1, 1, 1, 1, 1, 1, 1, 1, 1, 1, 1, 1, 1, 1, 1, 1, 1, 1, 1, 1, 1, 1, 1, 1, 1, 1, 1, 1, 1, 1, 1, 1, 1, 1, 1, 1]}, {\"type\": \"box\", \"boxpoints\": false, \"name\": \"Survey pull requests\", \"y\": [9.0, 0.0, 54.0, 3.0, 0.0, 4.0, 1.0, 13.0, 1.0]}], {\"xaxis\": {\"title\": \"education level\"}, \"title\": \"education level vs pull requests\", \"yaxis\": {\"title\": \"pull requests\", \"range\": [\"0\", \"100\"]}}, {\"showLink\": true, \"linkText\": \"Export to plot.ly\"})});</script>"
      ]
     },
     "metadata": {},
     "output_type": "display_data"
    },
    {
     "data": {
      "application/vnd.plotly.v1+json": {
       "data": [
        {
         "boxpoints": "all",
         "jitter": 0.5,
         "marker": {
          "size": 2
         },
         "name": "Bachelor’s Degree(2)",
         "type": "box",
         "y": [
          13,
          5
         ]
        },
        {
         "boxpoints": "all",
         "jitter": 0.5,
         "marker": {
          "size": 2
         },
         "name": "Postgraduate Degree(3)",
         "type": "box",
         "y": [
          38,
          0,
          0
         ]
        },
        {
         "boxpoints": "all",
         "jitter": 0.5,
         "marker": {
          "size": 2
         },
         "name": "Some College / Associate’s Degree(2)",
         "type": "box",
         "y": [
          4,
          0
         ]
        },
        {
         "boxpoints": "all",
         "jitter": 0.5,
         "marker": {
          "size": 2
         },
         "name": "High school diploma(2)",
         "type": "box",
         "y": [
          6,
          0
         ]
        }
       ],
       "layout": {
        "title": "education level vs issues",
        "xaxis": {
         "title": "education level"
        },
        "yaxis": {
         "title": "issues"
        }
       }
      },
      "text/html": [
       "<div id=\"7f6439ae-3f90-4ca9-a238-e6be6ff591e1\" style=\"height: 525px; width: 100%;\" class=\"plotly-graph-div\"></div><script type=\"text/javascript\">require([\"plotly\"], function(Plotly) { window.PLOTLYENV=window.PLOTLYENV || {};window.PLOTLYENV.BASE_URL=\"https://plot.ly\";Plotly.newPlot(\"7f6439ae-3f90-4ca9-a238-e6be6ff591e1\", [{\"type\": \"box\", \"boxpoints\": \"all\", \"name\": \"Bachelor\\u2019s Degree(2)\", \"marker\": {\"size\": 2}, \"y\": [13.0, 5.0], \"jitter\": 0.5}, {\"type\": \"box\", \"boxpoints\": \"all\", \"name\": \"Postgraduate Degree(3)\", \"marker\": {\"size\": 2}, \"y\": [38.0, 0.0, 0.0], \"jitter\": 0.5}, {\"type\": \"box\", \"boxpoints\": \"all\", \"name\": \"Some College / Associate\\u2019s Degree(2)\", \"marker\": {\"size\": 2}, \"y\": [4.0, 0.0], \"jitter\": 0.5}, {\"type\": \"box\", \"boxpoints\": \"all\", \"name\": \"High school diploma(2)\", \"marker\": {\"size\": 2}, \"y\": [6.0, 0.0], \"jitter\": 0.5}], {\"xaxis\": {\"title\": \"education level\"}, \"title\": \"education level vs issues\", \"yaxis\": {\"title\": \"issues\"}}, {\"showLink\": true, \"linkText\": \"Export to plot.ly\"})});</script>"
      ],
      "text/vnd.plotly.v1+html": [
       "<div id=\"7f6439ae-3f90-4ca9-a238-e6be6ff591e1\" style=\"height: 525px; width: 100%;\" class=\"plotly-graph-div\"></div><script type=\"text/javascript\">require([\"plotly\"], function(Plotly) { window.PLOTLYENV=window.PLOTLYENV || {};window.PLOTLYENV.BASE_URL=\"https://plot.ly\";Plotly.newPlot(\"7f6439ae-3f90-4ca9-a238-e6be6ff591e1\", [{\"type\": \"box\", \"boxpoints\": \"all\", \"name\": \"Bachelor\\u2019s Degree(2)\", \"marker\": {\"size\": 2}, \"y\": [13.0, 5.0], \"jitter\": 0.5}, {\"type\": \"box\", \"boxpoints\": \"all\", \"name\": \"Postgraduate Degree(3)\", \"marker\": {\"size\": 2}, \"y\": [38.0, 0.0, 0.0], \"jitter\": 0.5}, {\"type\": \"box\", \"boxpoints\": \"all\", \"name\": \"Some College / Associate\\u2019s Degree(2)\", \"marker\": {\"size\": 2}, \"y\": [4.0, 0.0], \"jitter\": 0.5}, {\"type\": \"box\", \"boxpoints\": \"all\", \"name\": \"High school diploma(2)\", \"marker\": {\"size\": 2}, \"y\": [6.0, 0.0], \"jitter\": 0.5}], {\"xaxis\": {\"title\": \"education level\"}, \"title\": \"education level vs issues\", \"yaxis\": {\"title\": \"issues\"}}, {\"showLink\": true, \"linkText\": \"Export to plot.ly\"})});</script>"
      ]
     },
     "metadata": {},
     "output_type": "display_data"
    },
    {
     "data": {
      "application/vnd.plotly.v1+json": {
       "data": [
        {
         "labels": [
          "Bachelor’s Degree",
          "Postgraduate Degree",
          "Some College / Associate’s Degree",
          "High school diploma"
         ],
         "type": "pie",
         "values": [
          2,
          3,
          2,
          2
         ]
        }
       ],
       "layout": {
        "title": "Population Distribution of education level"
       }
      },
      "text/html": [
       "<div id=\"c5fa0165-0ccc-4542-92eb-8e4f8369bea8\" style=\"height: 525px; width: 100%;\" class=\"plotly-graph-div\"></div><script type=\"text/javascript\">require([\"plotly\"], function(Plotly) { window.PLOTLYENV=window.PLOTLYENV || {};window.PLOTLYENV.BASE_URL=\"https://plot.ly\";Plotly.newPlot(\"c5fa0165-0ccc-4542-92eb-8e4f8369bea8\", [{\"type\": \"pie\", \"values\": [2, 3, 2, 2], \"labels\": [\"Bachelor\\u2019s Degree\", \"Postgraduate Degree\", \"Some College / Associate\\u2019s Degree\", \"High school diploma\"]}], {\"title\": \"Population Distribution of education level\"}, {\"showLink\": true, \"linkText\": \"Export to plot.ly\"})});</script>"
      ],
      "text/vnd.plotly.v1+html": [
       "<div id=\"c5fa0165-0ccc-4542-92eb-8e4f8369bea8\" style=\"height: 525px; width: 100%;\" class=\"plotly-graph-div\"></div><script type=\"text/javascript\">require([\"plotly\"], function(Plotly) { window.PLOTLYENV=window.PLOTLYENV || {};window.PLOTLYENV.BASE_URL=\"https://plot.ly\";Plotly.newPlot(\"c5fa0165-0ccc-4542-92eb-8e4f8369bea8\", [{\"type\": \"pie\", \"values\": [2, 3, 2, 2], \"labels\": [\"Bachelor\\u2019s Degree\", \"Postgraduate Degree\", \"Some College / Associate\\u2019s Degree\", \"High school diploma\"]}], {\"title\": \"Population Distribution of education level\"}, {\"showLink\": true, \"linkText\": \"Export to plot.ly\"})});</script>"
      ]
     },
     "metadata": {},
     "output_type": "display_data"
    },
    {
     "data": {
      "application/vnd.plotly.v1+json": {
       "data": [
        {
         "boxpoints": false,
         "name": "Non-employees issues",
         "type": "box",
         "y": [
          1312,
          427,
          314,
          66,
          48,
          38,
          32,
          27,
          18,
          16,
          15,
          14,
          13,
          13,
          13,
          12,
          11,
          10,
          10,
          10,
          9,
          8,
          8,
          7,
          7,
          7,
          7,
          6,
          6,
          6,
          6,
          6,
          6,
          5,
          5,
          5,
          5,
          5,
          5,
          5,
          5,
          5,
          4,
          4,
          4,
          4,
          4,
          4,
          4,
          4,
          4,
          4,
          4,
          4,
          4,
          4,
          3,
          3,
          3,
          3,
          3,
          3,
          3,
          3,
          3,
          3,
          3,
          3,
          3,
          3,
          3,
          3,
          3,
          3,
          3,
          3,
          2,
          2,
          2,
          2,
          2,
          2,
          2,
          2,
          2,
          2,
          2,
          2,
          2,
          2,
          2,
          2,
          2,
          2,
          2,
          2,
          2,
          2,
          2,
          2,
          2,
          2,
          2,
          2,
          2,
          2,
          2,
          2,
          2,
          2,
          2,
          2,
          1,
          1,
          1,
          1,
          1,
          1,
          1,
          1,
          1,
          1,
          1,
          1,
          1,
          1,
          1,
          1,
          1,
          1,
          1,
          1,
          1,
          1,
          1,
          1,
          1,
          1,
          1,
          1,
          1,
          1,
          1,
          1,
          1,
          1,
          1,
          1,
          1,
          1,
          1,
          1,
          1,
          1,
          1,
          1,
          1,
          1,
          1,
          1,
          1,
          1,
          1,
          1,
          1,
          1,
          1,
          1,
          1,
          1,
          1,
          1,
          1,
          1,
          1,
          1,
          1,
          1,
          1,
          1,
          1,
          1,
          1,
          1,
          1,
          1,
          1,
          1,
          1,
          1,
          1,
          1,
          1,
          1,
          1,
          1,
          1,
          1,
          1,
          1,
          1,
          1,
          1,
          1,
          1,
          1,
          1,
          1,
          1,
          1,
          1,
          1,
          1,
          1,
          1,
          1,
          1,
          1,
          1,
          1,
          1
         ]
        },
        {
         "boxpoints": false,
         "name": "Survey issues",
         "type": "box",
         "y": [
          13,
          5,
          38,
          0,
          0,
          4,
          0,
          6,
          0
         ]
        }
       ],
       "layout": {
        "title": "education level vs issues",
        "xaxis": {
         "title": "education level"
        },
        "yaxis": {
         "range": [
          "0",
          "100"
         ],
         "title": "issues"
        }
       }
      },
      "text/html": [
       "<div id=\"c3261014-e34e-4d16-b9c5-6392031f3200\" style=\"height: 525px; width: 100%;\" class=\"plotly-graph-div\"></div><script type=\"text/javascript\">require([\"plotly\"], function(Plotly) { window.PLOTLYENV=window.PLOTLYENV || {};window.PLOTLYENV.BASE_URL=\"https://plot.ly\";Plotly.newPlot(\"c3261014-e34e-4d16-b9c5-6392031f3200\", [{\"type\": \"box\", \"boxpoints\": false, \"name\": \"Non-employees issues\", \"y\": [1312, 427, 314, 66, 48, 38, 32, 27, 18, 16, 15, 14, 13, 13, 13, 12, 11, 10, 10, 10, 9, 8, 8, 7, 7, 7, 7, 6, 6, 6, 6, 6, 6, 5, 5, 5, 5, 5, 5, 5, 5, 5, 4, 4, 4, 4, 4, 4, 4, 4, 4, 4, 4, 4, 4, 4, 3, 3, 3, 3, 3, 3, 3, 3, 3, 3, 3, 3, 3, 3, 3, 3, 3, 3, 3, 3, 2, 2, 2, 2, 2, 2, 2, 2, 2, 2, 2, 2, 2, 2, 2, 2, 2, 2, 2, 2, 2, 2, 2, 2, 2, 2, 2, 2, 2, 2, 2, 2, 2, 2, 2, 2, 1, 1, 1, 1, 1, 1, 1, 1, 1, 1, 1, 1, 1, 1, 1, 1, 1, 1, 1, 1, 1, 1, 1, 1, 1, 1, 1, 1, 1, 1, 1, 1, 1, 1, 1, 1, 1, 1, 1, 1, 1, 1, 1, 1, 1, 1, 1, 1, 1, 1, 1, 1, 1, 1, 1, 1, 1, 1, 1, 1, 1, 1, 1, 1, 1, 1, 1, 1, 1, 1, 1, 1, 1, 1, 1, 1, 1, 1, 1, 1, 1, 1, 1, 1, 1, 1, 1, 1, 1, 1, 1, 1, 1, 1, 1, 1, 1, 1, 1, 1, 1, 1, 1, 1, 1, 1, 1, 1, 1]}, {\"type\": \"box\", \"boxpoints\": false, \"name\": \"Survey issues\", \"y\": [13.0, 5.0, 38.0, 0.0, 0.0, 4.0, 0.0, 6.0, 0.0]}], {\"xaxis\": {\"title\": \"education level\"}, \"title\": \"education level vs issues\", \"yaxis\": {\"title\": \"issues\", \"range\": [\"0\", \"100\"]}}, {\"showLink\": true, \"linkText\": \"Export to plot.ly\"})});</script>"
      ],
      "text/vnd.plotly.v1+html": [
       "<div id=\"c3261014-e34e-4d16-b9c5-6392031f3200\" style=\"height: 525px; width: 100%;\" class=\"plotly-graph-div\"></div><script type=\"text/javascript\">require([\"plotly\"], function(Plotly) { window.PLOTLYENV=window.PLOTLYENV || {};window.PLOTLYENV.BASE_URL=\"https://plot.ly\";Plotly.newPlot(\"c3261014-e34e-4d16-b9c5-6392031f3200\", [{\"type\": \"box\", \"boxpoints\": false, \"name\": \"Non-employees issues\", \"y\": [1312, 427, 314, 66, 48, 38, 32, 27, 18, 16, 15, 14, 13, 13, 13, 12, 11, 10, 10, 10, 9, 8, 8, 7, 7, 7, 7, 6, 6, 6, 6, 6, 6, 5, 5, 5, 5, 5, 5, 5, 5, 5, 4, 4, 4, 4, 4, 4, 4, 4, 4, 4, 4, 4, 4, 4, 3, 3, 3, 3, 3, 3, 3, 3, 3, 3, 3, 3, 3, 3, 3, 3, 3, 3, 3, 3, 2, 2, 2, 2, 2, 2, 2, 2, 2, 2, 2, 2, 2, 2, 2, 2, 2, 2, 2, 2, 2, 2, 2, 2, 2, 2, 2, 2, 2, 2, 2, 2, 2, 2, 2, 2, 1, 1, 1, 1, 1, 1, 1, 1, 1, 1, 1, 1, 1, 1, 1, 1, 1, 1, 1, 1, 1, 1, 1, 1, 1, 1, 1, 1, 1, 1, 1, 1, 1, 1, 1, 1, 1, 1, 1, 1, 1, 1, 1, 1, 1, 1, 1, 1, 1, 1, 1, 1, 1, 1, 1, 1, 1, 1, 1, 1, 1, 1, 1, 1, 1, 1, 1, 1, 1, 1, 1, 1, 1, 1, 1, 1, 1, 1, 1, 1, 1, 1, 1, 1, 1, 1, 1, 1, 1, 1, 1, 1, 1, 1, 1, 1, 1, 1, 1, 1, 1, 1, 1, 1, 1, 1, 1, 1, 1]}, {\"type\": \"box\", \"boxpoints\": false, \"name\": \"Survey issues\", \"y\": [13.0, 5.0, 38.0, 0.0, 0.0, 4.0, 0.0, 6.0, 0.0]}], {\"xaxis\": {\"title\": \"education level\"}, \"title\": \"education level vs issues\", \"yaxis\": {\"title\": \"issues\", \"range\": [\"0\", \"100\"]}}, {\"showLink\": true, \"linkText\": \"Export to plot.ly\"})});</script>"
      ]
     },
     "metadata": {},
     "output_type": "display_data"
    },
    {
     "data": {
      "application/vnd.plotly.v1+json": {
       "data": [
        {
         "boxpoints": "all",
         "jitter": 0.5,
         "marker": {
          "size": 2
         },
         "name": "Bachelor’s Degree(2)",
         "type": "box",
         "y": [
          0,
          0
         ]
        },
        {
         "boxpoints": "all",
         "jitter": 0.5,
         "marker": {
          "size": 2
         },
         "name": "Postgraduate Degree(3)",
         "type": "box",
         "y": [
          0,
          0,
          0
         ]
        },
        {
         "boxpoints": "all",
         "jitter": 0.5,
         "marker": {
          "size": 2
         },
         "name": "Some College / Associate’s Degree(2)",
         "type": "box",
         "y": [
          0,
          0
         ]
        },
        {
         "boxpoints": "all",
         "jitter": 0.5,
         "marker": {
          "size": 2
         },
         "name": "High school diploma(2)",
         "type": "box",
         "y": [
          0,
          0
         ]
        }
       ],
       "layout": {
        "title": "education level vs bugs",
        "xaxis": {
         "title": "education level"
        },
        "yaxis": {
         "title": "bugs"
        }
       }
      },
      "text/html": [
       "<div id=\"0eabf7c7-4f91-474e-8e9d-0b66dd7e33fc\" style=\"height: 525px; width: 100%;\" class=\"plotly-graph-div\"></div><script type=\"text/javascript\">require([\"plotly\"], function(Plotly) { window.PLOTLYENV=window.PLOTLYENV || {};window.PLOTLYENV.BASE_URL=\"https://plot.ly\";Plotly.newPlot(\"0eabf7c7-4f91-474e-8e9d-0b66dd7e33fc\", [{\"type\": \"box\", \"boxpoints\": \"all\", \"name\": \"Bachelor\\u2019s Degree(2)\", \"marker\": {\"size\": 2}, \"y\": [0.0, 0.0], \"jitter\": 0.5}, {\"type\": \"box\", \"boxpoints\": \"all\", \"name\": \"Postgraduate Degree(3)\", \"marker\": {\"size\": 2}, \"y\": [0.0, 0.0, 0.0], \"jitter\": 0.5}, {\"type\": \"box\", \"boxpoints\": \"all\", \"name\": \"Some College / Associate\\u2019s Degree(2)\", \"marker\": {\"size\": 2}, \"y\": [0.0, 0.0], \"jitter\": 0.5}, {\"type\": \"box\", \"boxpoints\": \"all\", \"name\": \"High school diploma(2)\", \"marker\": {\"size\": 2}, \"y\": [0.0, 0.0], \"jitter\": 0.5}], {\"xaxis\": {\"title\": \"education level\"}, \"title\": \"education level vs bugs\", \"yaxis\": {\"title\": \"bugs\"}}, {\"showLink\": true, \"linkText\": \"Export to plot.ly\"})});</script>"
      ],
      "text/vnd.plotly.v1+html": [
       "<div id=\"0eabf7c7-4f91-474e-8e9d-0b66dd7e33fc\" style=\"height: 525px; width: 100%;\" class=\"plotly-graph-div\"></div><script type=\"text/javascript\">require([\"plotly\"], function(Plotly) { window.PLOTLYENV=window.PLOTLYENV || {};window.PLOTLYENV.BASE_URL=\"https://plot.ly\";Plotly.newPlot(\"0eabf7c7-4f91-474e-8e9d-0b66dd7e33fc\", [{\"type\": \"box\", \"boxpoints\": \"all\", \"name\": \"Bachelor\\u2019s Degree(2)\", \"marker\": {\"size\": 2}, \"y\": [0.0, 0.0], \"jitter\": 0.5}, {\"type\": \"box\", \"boxpoints\": \"all\", \"name\": \"Postgraduate Degree(3)\", \"marker\": {\"size\": 2}, \"y\": [0.0, 0.0, 0.0], \"jitter\": 0.5}, {\"type\": \"box\", \"boxpoints\": \"all\", \"name\": \"Some College / Associate\\u2019s Degree(2)\", \"marker\": {\"size\": 2}, \"y\": [0.0, 0.0], \"jitter\": 0.5}, {\"type\": \"box\", \"boxpoints\": \"all\", \"name\": \"High school diploma(2)\", \"marker\": {\"size\": 2}, \"y\": [0.0, 0.0], \"jitter\": 0.5}], {\"xaxis\": {\"title\": \"education level\"}, \"title\": \"education level vs bugs\", \"yaxis\": {\"title\": \"bugs\"}}, {\"showLink\": true, \"linkText\": \"Export to plot.ly\"})});</script>"
      ]
     },
     "metadata": {},
     "output_type": "display_data"
    },
    {
     "data": {
      "application/vnd.plotly.v1+json": {
       "data": [
        {
         "labels": [
          "Bachelor’s Degree",
          "Postgraduate Degree",
          "Some College / Associate’s Degree",
          "High school diploma"
         ],
         "type": "pie",
         "values": [
          2,
          3,
          2,
          2
         ]
        }
       ],
       "layout": {
        "title": "Population Distribution of education level"
       }
      },
      "text/html": [
       "<div id=\"416df674-5e98-4f62-bf08-a42fabdc2911\" style=\"height: 525px; width: 100%;\" class=\"plotly-graph-div\"></div><script type=\"text/javascript\">require([\"plotly\"], function(Plotly) { window.PLOTLYENV=window.PLOTLYENV || {};window.PLOTLYENV.BASE_URL=\"https://plot.ly\";Plotly.newPlot(\"416df674-5e98-4f62-bf08-a42fabdc2911\", [{\"type\": \"pie\", \"values\": [2, 3, 2, 2], \"labels\": [\"Bachelor\\u2019s Degree\", \"Postgraduate Degree\", \"Some College / Associate\\u2019s Degree\", \"High school diploma\"]}], {\"title\": \"Population Distribution of education level\"}, {\"showLink\": true, \"linkText\": \"Export to plot.ly\"})});</script>"
      ],
      "text/vnd.plotly.v1+html": [
       "<div id=\"416df674-5e98-4f62-bf08-a42fabdc2911\" style=\"height: 525px; width: 100%;\" class=\"plotly-graph-div\"></div><script type=\"text/javascript\">require([\"plotly\"], function(Plotly) { window.PLOTLYENV=window.PLOTLYENV || {};window.PLOTLYENV.BASE_URL=\"https://plot.ly\";Plotly.newPlot(\"416df674-5e98-4f62-bf08-a42fabdc2911\", [{\"type\": \"pie\", \"values\": [2, 3, 2, 2], \"labels\": [\"Bachelor\\u2019s Degree\", \"Postgraduate Degree\", \"Some College / Associate\\u2019s Degree\", \"High school diploma\"]}], {\"title\": \"Population Distribution of education level\"}, {\"showLink\": true, \"linkText\": \"Export to plot.ly\"})});</script>"
      ]
     },
     "metadata": {},
     "output_type": "display_data"
    },
    {
     "data": {
      "application/vnd.plotly.v1+json": {
       "data": [
        {
         "boxpoints": false,
         "name": "Non-employees bugs",
         "type": "box",
         "y": [
          1312,
          427,
          314,
          66,
          48,
          38,
          32,
          27,
          18,
          16,
          15,
          14,
          13,
          13,
          13,
          12,
          11,
          10,
          10,
          10,
          9,
          8,
          8,
          7,
          7,
          7,
          7,
          6,
          6,
          6,
          6,
          6,
          6,
          5,
          5,
          5,
          5,
          5,
          5,
          5,
          5,
          5,
          4,
          4,
          4,
          4,
          4,
          4,
          4,
          4,
          4,
          4,
          4,
          4,
          4,
          4,
          3,
          3,
          3,
          3,
          3,
          3,
          3,
          3,
          3,
          3,
          3,
          3,
          3,
          3,
          3,
          3,
          3,
          3,
          3,
          3,
          2,
          2,
          2,
          2,
          2,
          2,
          2,
          2,
          2,
          2,
          2,
          2,
          2,
          2,
          2,
          2,
          2,
          2,
          2,
          2,
          2,
          2,
          2,
          2,
          2,
          2,
          2,
          2,
          2,
          2,
          2,
          2,
          2,
          2,
          2,
          2,
          1,
          1,
          1,
          1,
          1,
          1,
          1,
          1,
          1,
          1,
          1,
          1,
          1,
          1,
          1,
          1,
          1,
          1,
          1,
          1,
          1,
          1,
          1,
          1,
          1,
          1,
          1,
          1,
          1,
          1,
          1,
          1,
          1,
          1,
          1,
          1,
          1,
          1,
          1,
          1,
          1,
          1,
          1,
          1,
          1,
          1,
          1,
          1,
          1,
          1,
          1,
          1,
          1,
          1,
          1,
          1,
          1,
          1,
          1,
          1,
          1,
          1,
          1,
          1,
          1,
          1,
          1,
          1,
          1,
          1,
          1,
          1,
          1,
          1,
          1,
          1,
          1,
          1,
          1,
          1,
          1,
          1,
          1,
          1,
          1,
          1,
          1,
          1,
          1,
          1,
          1,
          1,
          1,
          1,
          1,
          1,
          1,
          1,
          1,
          1,
          1,
          1,
          1,
          1,
          1,
          1,
          1,
          1,
          1
         ]
        },
        {
         "boxpoints": false,
         "name": "Survey bugs",
         "type": "box",
         "y": [
          0,
          0,
          0,
          0,
          0,
          0,
          0,
          0,
          0
         ]
        }
       ],
       "layout": {
        "title": "education level vs bugs",
        "xaxis": {
         "title": "education level"
        },
        "yaxis": {
         "range": [
          "0",
          "100"
         ],
         "title": "bugs"
        }
       }
      },
      "text/html": [
       "<div id=\"e9013c1b-8359-4b23-b482-dda9e437f6ce\" style=\"height: 525px; width: 100%;\" class=\"plotly-graph-div\"></div><script type=\"text/javascript\">require([\"plotly\"], function(Plotly) { window.PLOTLYENV=window.PLOTLYENV || {};window.PLOTLYENV.BASE_URL=\"https://plot.ly\";Plotly.newPlot(\"e9013c1b-8359-4b23-b482-dda9e437f6ce\", [{\"type\": \"box\", \"boxpoints\": false, \"name\": \"Non-employees bugs\", \"y\": [1312, 427, 314, 66, 48, 38, 32, 27, 18, 16, 15, 14, 13, 13, 13, 12, 11, 10, 10, 10, 9, 8, 8, 7, 7, 7, 7, 6, 6, 6, 6, 6, 6, 5, 5, 5, 5, 5, 5, 5, 5, 5, 4, 4, 4, 4, 4, 4, 4, 4, 4, 4, 4, 4, 4, 4, 3, 3, 3, 3, 3, 3, 3, 3, 3, 3, 3, 3, 3, 3, 3, 3, 3, 3, 3, 3, 2, 2, 2, 2, 2, 2, 2, 2, 2, 2, 2, 2, 2, 2, 2, 2, 2, 2, 2, 2, 2, 2, 2, 2, 2, 2, 2, 2, 2, 2, 2, 2, 2, 2, 2, 2, 1, 1, 1, 1, 1, 1, 1, 1, 1, 1, 1, 1, 1, 1, 1, 1, 1, 1, 1, 1, 1, 1, 1, 1, 1, 1, 1, 1, 1, 1, 1, 1, 1, 1, 1, 1, 1, 1, 1, 1, 1, 1, 1, 1, 1, 1, 1, 1, 1, 1, 1, 1, 1, 1, 1, 1, 1, 1, 1, 1, 1, 1, 1, 1, 1, 1, 1, 1, 1, 1, 1, 1, 1, 1, 1, 1, 1, 1, 1, 1, 1, 1, 1, 1, 1, 1, 1, 1, 1, 1, 1, 1, 1, 1, 1, 1, 1, 1, 1, 1, 1, 1, 1, 1, 1, 1, 1, 1, 1]}, {\"type\": \"box\", \"boxpoints\": false, \"name\": \"Survey bugs\", \"y\": [0.0, 0.0, 0.0, 0.0, 0.0, 0.0, 0.0, 0.0, 0.0]}], {\"xaxis\": {\"title\": \"education level\"}, \"title\": \"education level vs bugs\", \"yaxis\": {\"title\": \"bugs\", \"range\": [\"0\", \"100\"]}}, {\"showLink\": true, \"linkText\": \"Export to plot.ly\"})});</script>"
      ],
      "text/vnd.plotly.v1+html": [
       "<div id=\"e9013c1b-8359-4b23-b482-dda9e437f6ce\" style=\"height: 525px; width: 100%;\" class=\"plotly-graph-div\"></div><script type=\"text/javascript\">require([\"plotly\"], function(Plotly) { window.PLOTLYENV=window.PLOTLYENV || {};window.PLOTLYENV.BASE_URL=\"https://plot.ly\";Plotly.newPlot(\"e9013c1b-8359-4b23-b482-dda9e437f6ce\", [{\"type\": \"box\", \"boxpoints\": false, \"name\": \"Non-employees bugs\", \"y\": [1312, 427, 314, 66, 48, 38, 32, 27, 18, 16, 15, 14, 13, 13, 13, 12, 11, 10, 10, 10, 9, 8, 8, 7, 7, 7, 7, 6, 6, 6, 6, 6, 6, 5, 5, 5, 5, 5, 5, 5, 5, 5, 4, 4, 4, 4, 4, 4, 4, 4, 4, 4, 4, 4, 4, 4, 3, 3, 3, 3, 3, 3, 3, 3, 3, 3, 3, 3, 3, 3, 3, 3, 3, 3, 3, 3, 2, 2, 2, 2, 2, 2, 2, 2, 2, 2, 2, 2, 2, 2, 2, 2, 2, 2, 2, 2, 2, 2, 2, 2, 2, 2, 2, 2, 2, 2, 2, 2, 2, 2, 2, 2, 1, 1, 1, 1, 1, 1, 1, 1, 1, 1, 1, 1, 1, 1, 1, 1, 1, 1, 1, 1, 1, 1, 1, 1, 1, 1, 1, 1, 1, 1, 1, 1, 1, 1, 1, 1, 1, 1, 1, 1, 1, 1, 1, 1, 1, 1, 1, 1, 1, 1, 1, 1, 1, 1, 1, 1, 1, 1, 1, 1, 1, 1, 1, 1, 1, 1, 1, 1, 1, 1, 1, 1, 1, 1, 1, 1, 1, 1, 1, 1, 1, 1, 1, 1, 1, 1, 1, 1, 1, 1, 1, 1, 1, 1, 1, 1, 1, 1, 1, 1, 1, 1, 1, 1, 1, 1, 1, 1, 1]}, {\"type\": \"box\", \"boxpoints\": false, \"name\": \"Survey bugs\", \"y\": [0.0, 0.0, 0.0, 0.0, 0.0, 0.0, 0.0, 0.0, 0.0]}], {\"xaxis\": {\"title\": \"education level\"}, \"title\": \"education level vs bugs\", \"yaxis\": {\"title\": \"bugs\", \"range\": [\"0\", \"100\"]}}, {\"showLink\": true, \"linkText\": \"Export to plot.ly\"})});</script>"
      ]
     },
     "metadata": {},
     "output_type": "display_data"
    },
    {
     "data": {
      "application/vnd.plotly.v1+json": {
       "data": [
        {
         "boxpoints": "all",
         "jitter": 0.5,
         "marker": {
          "size": 2
         },
         "name": "Bachelor’s Degree(2)",
         "type": "box",
         "y": [
          0,
          0
         ]
        },
        {
         "boxpoints": "all",
         "jitter": 0.5,
         "marker": {
          "size": 2
         },
         "name": "Postgraduate Degree(3)",
         "type": "box",
         "y": [
          0,
          0,
          0
         ]
        },
        {
         "boxpoints": "all",
         "jitter": 0.5,
         "marker": {
          "size": 2
         },
         "name": "Some College / Associate’s Degree(2)",
         "type": "box",
         "y": [
          0,
          0
         ]
        },
        {
         "boxpoints": "all",
         "jitter": 0.5,
         "marker": {
          "size": 2
         },
         "name": "High school diploma(2)",
         "type": "box",
         "y": [
          0,
          0
         ]
        }
       ],
       "layout": {
        "title": "education level vs emails",
        "xaxis": {
         "title": "education level"
        },
        "yaxis": {
         "title": "emails"
        }
       }
      },
      "text/html": [
       "<div id=\"c7d28b2a-46f7-4c73-9621-6e746368923c\" style=\"height: 525px; width: 100%;\" class=\"plotly-graph-div\"></div><script type=\"text/javascript\">require([\"plotly\"], function(Plotly) { window.PLOTLYENV=window.PLOTLYENV || {};window.PLOTLYENV.BASE_URL=\"https://plot.ly\";Plotly.newPlot(\"c7d28b2a-46f7-4c73-9621-6e746368923c\", [{\"type\": \"box\", \"boxpoints\": \"all\", \"name\": \"Bachelor\\u2019s Degree(2)\", \"marker\": {\"size\": 2}, \"y\": [0.0, 0.0], \"jitter\": 0.5}, {\"type\": \"box\", \"boxpoints\": \"all\", \"name\": \"Postgraduate Degree(3)\", \"marker\": {\"size\": 2}, \"y\": [0.0, 0.0, 0.0], \"jitter\": 0.5}, {\"type\": \"box\", \"boxpoints\": \"all\", \"name\": \"Some College / Associate\\u2019s Degree(2)\", \"marker\": {\"size\": 2}, \"y\": [0.0, 0.0], \"jitter\": 0.5}, {\"type\": \"box\", \"boxpoints\": \"all\", \"name\": \"High school diploma(2)\", \"marker\": {\"size\": 2}, \"y\": [0.0, 0.0], \"jitter\": 0.5}], {\"xaxis\": {\"title\": \"education level\"}, \"title\": \"education level vs emails\", \"yaxis\": {\"title\": \"emails\"}}, {\"showLink\": true, \"linkText\": \"Export to plot.ly\"})});</script>"
      ],
      "text/vnd.plotly.v1+html": [
       "<div id=\"c7d28b2a-46f7-4c73-9621-6e746368923c\" style=\"height: 525px; width: 100%;\" class=\"plotly-graph-div\"></div><script type=\"text/javascript\">require([\"plotly\"], function(Plotly) { window.PLOTLYENV=window.PLOTLYENV || {};window.PLOTLYENV.BASE_URL=\"https://plot.ly\";Plotly.newPlot(\"c7d28b2a-46f7-4c73-9621-6e746368923c\", [{\"type\": \"box\", \"boxpoints\": \"all\", \"name\": \"Bachelor\\u2019s Degree(2)\", \"marker\": {\"size\": 2}, \"y\": [0.0, 0.0], \"jitter\": 0.5}, {\"type\": \"box\", \"boxpoints\": \"all\", \"name\": \"Postgraduate Degree(3)\", \"marker\": {\"size\": 2}, \"y\": [0.0, 0.0, 0.0], \"jitter\": 0.5}, {\"type\": \"box\", \"boxpoints\": \"all\", \"name\": \"Some College / Associate\\u2019s Degree(2)\", \"marker\": {\"size\": 2}, \"y\": [0.0, 0.0], \"jitter\": 0.5}, {\"type\": \"box\", \"boxpoints\": \"all\", \"name\": \"High school diploma(2)\", \"marker\": {\"size\": 2}, \"y\": [0.0, 0.0], \"jitter\": 0.5}], {\"xaxis\": {\"title\": \"education level\"}, \"title\": \"education level vs emails\", \"yaxis\": {\"title\": \"emails\"}}, {\"showLink\": true, \"linkText\": \"Export to plot.ly\"})});</script>"
      ]
     },
     "metadata": {},
     "output_type": "display_data"
    },
    {
     "data": {
      "application/vnd.plotly.v1+json": {
       "data": [
        {
         "labels": [
          "Bachelor’s Degree",
          "Postgraduate Degree",
          "Some College / Associate’s Degree",
          "High school diploma"
         ],
         "type": "pie",
         "values": [
          2,
          3,
          2,
          2
         ]
        }
       ],
       "layout": {
        "title": "Population Distribution of education level"
       }
      },
      "text/html": [
       "<div id=\"16156773-20ec-4de4-a50f-a4d846caebf8\" style=\"height: 525px; width: 100%;\" class=\"plotly-graph-div\"></div><script type=\"text/javascript\">require([\"plotly\"], function(Plotly) { window.PLOTLYENV=window.PLOTLYENV || {};window.PLOTLYENV.BASE_URL=\"https://plot.ly\";Plotly.newPlot(\"16156773-20ec-4de4-a50f-a4d846caebf8\", [{\"type\": \"pie\", \"values\": [2, 3, 2, 2], \"labels\": [\"Bachelor\\u2019s Degree\", \"Postgraduate Degree\", \"Some College / Associate\\u2019s Degree\", \"High school diploma\"]}], {\"title\": \"Population Distribution of education level\"}, {\"showLink\": true, \"linkText\": \"Export to plot.ly\"})});</script>"
      ],
      "text/vnd.plotly.v1+html": [
       "<div id=\"16156773-20ec-4de4-a50f-a4d846caebf8\" style=\"height: 525px; width: 100%;\" class=\"plotly-graph-div\"></div><script type=\"text/javascript\">require([\"plotly\"], function(Plotly) { window.PLOTLYENV=window.PLOTLYENV || {};window.PLOTLYENV.BASE_URL=\"https://plot.ly\";Plotly.newPlot(\"16156773-20ec-4de4-a50f-a4d846caebf8\", [{\"type\": \"pie\", \"values\": [2, 3, 2, 2], \"labels\": [\"Bachelor\\u2019s Degree\", \"Postgraduate Degree\", \"Some College / Associate\\u2019s Degree\", \"High school diploma\"]}], {\"title\": \"Population Distribution of education level\"}, {\"showLink\": true, \"linkText\": \"Export to plot.ly\"})});</script>"
      ]
     },
     "metadata": {},
     "output_type": "display_data"
    },
    {
     "data": {
      "application/vnd.plotly.v1+json": {
       "data": [
        {
         "boxpoints": false,
         "name": "Non-employees emails",
         "type": "box",
         "y": [
          1312,
          427,
          314,
          66,
          48,
          38,
          32,
          27,
          18,
          16,
          15,
          14,
          13,
          13,
          13,
          12,
          11,
          10,
          10,
          10,
          9,
          8,
          8,
          7,
          7,
          7,
          7,
          6,
          6,
          6,
          6,
          6,
          6,
          5,
          5,
          5,
          5,
          5,
          5,
          5,
          5,
          5,
          4,
          4,
          4,
          4,
          4,
          4,
          4,
          4,
          4,
          4,
          4,
          4,
          4,
          4,
          3,
          3,
          3,
          3,
          3,
          3,
          3,
          3,
          3,
          3,
          3,
          3,
          3,
          3,
          3,
          3,
          3,
          3,
          3,
          3,
          2,
          2,
          2,
          2,
          2,
          2,
          2,
          2,
          2,
          2,
          2,
          2,
          2,
          2,
          2,
          2,
          2,
          2,
          2,
          2,
          2,
          2,
          2,
          2,
          2,
          2,
          2,
          2,
          2,
          2,
          2,
          2,
          2,
          2,
          2,
          2,
          1,
          1,
          1,
          1,
          1,
          1,
          1,
          1,
          1,
          1,
          1,
          1,
          1,
          1,
          1,
          1,
          1,
          1,
          1,
          1,
          1,
          1,
          1,
          1,
          1,
          1,
          1,
          1,
          1,
          1,
          1,
          1,
          1,
          1,
          1,
          1,
          1,
          1,
          1,
          1,
          1,
          1,
          1,
          1,
          1,
          1,
          1,
          1,
          1,
          1,
          1,
          1,
          1,
          1,
          1,
          1,
          1,
          1,
          1,
          1,
          1,
          1,
          1,
          1,
          1,
          1,
          1,
          1,
          1,
          1,
          1,
          1,
          1,
          1,
          1,
          1,
          1,
          1,
          1,
          1,
          1,
          1,
          1,
          1,
          1,
          1,
          1,
          1,
          1,
          1,
          1,
          1,
          1,
          1,
          1,
          1,
          1,
          1,
          1,
          1,
          1,
          1,
          1,
          1,
          1,
          1,
          1,
          1,
          1
         ]
        },
        {
         "boxpoints": false,
         "name": "Survey emails",
         "type": "box",
         "y": [
          0,
          0,
          0,
          0,
          0,
          0,
          0,
          0,
          0
         ]
        }
       ],
       "layout": {
        "title": "education level vs emails",
        "xaxis": {
         "title": "education level"
        },
        "yaxis": {
         "range": [
          "0",
          "100"
         ],
         "title": "emails"
        }
       }
      },
      "text/html": [
       "<div id=\"078f5683-c929-4a48-b07c-e0c6b8ac684a\" style=\"height: 525px; width: 100%;\" class=\"plotly-graph-div\"></div><script type=\"text/javascript\">require([\"plotly\"], function(Plotly) { window.PLOTLYENV=window.PLOTLYENV || {};window.PLOTLYENV.BASE_URL=\"https://plot.ly\";Plotly.newPlot(\"078f5683-c929-4a48-b07c-e0c6b8ac684a\", [{\"type\": \"box\", \"boxpoints\": false, \"name\": \"Non-employees emails\", \"y\": [1312, 427, 314, 66, 48, 38, 32, 27, 18, 16, 15, 14, 13, 13, 13, 12, 11, 10, 10, 10, 9, 8, 8, 7, 7, 7, 7, 6, 6, 6, 6, 6, 6, 5, 5, 5, 5, 5, 5, 5, 5, 5, 4, 4, 4, 4, 4, 4, 4, 4, 4, 4, 4, 4, 4, 4, 3, 3, 3, 3, 3, 3, 3, 3, 3, 3, 3, 3, 3, 3, 3, 3, 3, 3, 3, 3, 2, 2, 2, 2, 2, 2, 2, 2, 2, 2, 2, 2, 2, 2, 2, 2, 2, 2, 2, 2, 2, 2, 2, 2, 2, 2, 2, 2, 2, 2, 2, 2, 2, 2, 2, 2, 1, 1, 1, 1, 1, 1, 1, 1, 1, 1, 1, 1, 1, 1, 1, 1, 1, 1, 1, 1, 1, 1, 1, 1, 1, 1, 1, 1, 1, 1, 1, 1, 1, 1, 1, 1, 1, 1, 1, 1, 1, 1, 1, 1, 1, 1, 1, 1, 1, 1, 1, 1, 1, 1, 1, 1, 1, 1, 1, 1, 1, 1, 1, 1, 1, 1, 1, 1, 1, 1, 1, 1, 1, 1, 1, 1, 1, 1, 1, 1, 1, 1, 1, 1, 1, 1, 1, 1, 1, 1, 1, 1, 1, 1, 1, 1, 1, 1, 1, 1, 1, 1, 1, 1, 1, 1, 1, 1, 1]}, {\"type\": \"box\", \"boxpoints\": false, \"name\": \"Survey emails\", \"y\": [0.0, 0.0, 0.0, 0.0, 0.0, 0.0, 0.0, 0.0, 0.0]}], {\"xaxis\": {\"title\": \"education level\"}, \"title\": \"education level vs emails\", \"yaxis\": {\"title\": \"emails\", \"range\": [\"0\", \"100\"]}}, {\"showLink\": true, \"linkText\": \"Export to plot.ly\"})});</script>"
      ],
      "text/vnd.plotly.v1+html": [
       "<div id=\"078f5683-c929-4a48-b07c-e0c6b8ac684a\" style=\"height: 525px; width: 100%;\" class=\"plotly-graph-div\"></div><script type=\"text/javascript\">require([\"plotly\"], function(Plotly) { window.PLOTLYENV=window.PLOTLYENV || {};window.PLOTLYENV.BASE_URL=\"https://plot.ly\";Plotly.newPlot(\"078f5683-c929-4a48-b07c-e0c6b8ac684a\", [{\"type\": \"box\", \"boxpoints\": false, \"name\": \"Non-employees emails\", \"y\": [1312, 427, 314, 66, 48, 38, 32, 27, 18, 16, 15, 14, 13, 13, 13, 12, 11, 10, 10, 10, 9, 8, 8, 7, 7, 7, 7, 6, 6, 6, 6, 6, 6, 5, 5, 5, 5, 5, 5, 5, 5, 5, 4, 4, 4, 4, 4, 4, 4, 4, 4, 4, 4, 4, 4, 4, 3, 3, 3, 3, 3, 3, 3, 3, 3, 3, 3, 3, 3, 3, 3, 3, 3, 3, 3, 3, 2, 2, 2, 2, 2, 2, 2, 2, 2, 2, 2, 2, 2, 2, 2, 2, 2, 2, 2, 2, 2, 2, 2, 2, 2, 2, 2, 2, 2, 2, 2, 2, 2, 2, 2, 2, 1, 1, 1, 1, 1, 1, 1, 1, 1, 1, 1, 1, 1, 1, 1, 1, 1, 1, 1, 1, 1, 1, 1, 1, 1, 1, 1, 1, 1, 1, 1, 1, 1, 1, 1, 1, 1, 1, 1, 1, 1, 1, 1, 1, 1, 1, 1, 1, 1, 1, 1, 1, 1, 1, 1, 1, 1, 1, 1, 1, 1, 1, 1, 1, 1, 1, 1, 1, 1, 1, 1, 1, 1, 1, 1, 1, 1, 1, 1, 1, 1, 1, 1, 1, 1, 1, 1, 1, 1, 1, 1, 1, 1, 1, 1, 1, 1, 1, 1, 1, 1, 1, 1, 1, 1, 1, 1, 1, 1]}, {\"type\": \"box\", \"boxpoints\": false, \"name\": \"Survey emails\", \"y\": [0.0, 0.0, 0.0, 0.0, 0.0, 0.0, 0.0, 0.0, 0.0]}], {\"xaxis\": {\"title\": \"education level\"}, \"title\": \"education level vs emails\", \"yaxis\": {\"title\": \"emails\", \"range\": [\"0\", \"100\"]}}, {\"showLink\": true, \"linkText\": \"Export to plot.ly\"})});</script>"
      ]
     },
     "metadata": {},
     "output_type": "display_data"
    },
    {
     "data": {
      "application/vnd.plotly.v1+json": {
       "data": [
        {
         "boxpoints": "all",
         "jitter": 0.5,
         "marker": {
          "size": 2
         },
         "name": "Bachelor’s Degree(2)",
         "type": "box",
         "y": [
          0,
          0
         ]
        },
        {
         "boxpoints": "all",
         "jitter": 0.5,
         "marker": {
          "size": 2
         },
         "name": "Postgraduate Degree(3)",
         "type": "box",
         "y": [
          0,
          0,
          1
         ]
        },
        {
         "boxpoints": "all",
         "jitter": 0.5,
         "marker": {
          "size": 2
         },
         "name": "Some College / Associate’s Degree(2)",
         "type": "box",
         "y": [
          0,
          0
         ]
        },
        {
         "boxpoints": "all",
         "jitter": 0.5,
         "marker": {
          "size": 2
         },
         "name": "High school diploma(2)",
         "type": "box",
         "y": [
          0,
          0
         ]
        }
       ],
       "layout": {
        "title": "education level vs messages",
        "xaxis": {
         "title": "education level"
        },
        "yaxis": {
         "title": "messages"
        }
       }
      },
      "text/html": [
       "<div id=\"1bba43ad-eeeb-4fb9-ae64-68776cb6c4d1\" style=\"height: 525px; width: 100%;\" class=\"plotly-graph-div\"></div><script type=\"text/javascript\">require([\"plotly\"], function(Plotly) { window.PLOTLYENV=window.PLOTLYENV || {};window.PLOTLYENV.BASE_URL=\"https://plot.ly\";Plotly.newPlot(\"1bba43ad-eeeb-4fb9-ae64-68776cb6c4d1\", [{\"type\": \"box\", \"boxpoints\": \"all\", \"name\": \"Bachelor\\u2019s Degree(2)\", \"marker\": {\"size\": 2}, \"y\": [0.0, 0.0], \"jitter\": 0.5}, {\"type\": \"box\", \"boxpoints\": \"all\", \"name\": \"Postgraduate Degree(3)\", \"marker\": {\"size\": 2}, \"y\": [0.0, 0.0, 1.0], \"jitter\": 0.5}, {\"type\": \"box\", \"boxpoints\": \"all\", \"name\": \"Some College / Associate\\u2019s Degree(2)\", \"marker\": {\"size\": 2}, \"y\": [0.0, 0.0], \"jitter\": 0.5}, {\"type\": \"box\", \"boxpoints\": \"all\", \"name\": \"High school diploma(2)\", \"marker\": {\"size\": 2}, \"y\": [0.0, 0.0], \"jitter\": 0.5}], {\"xaxis\": {\"title\": \"education level\"}, \"title\": \"education level vs messages\", \"yaxis\": {\"title\": \"messages\"}}, {\"showLink\": true, \"linkText\": \"Export to plot.ly\"})});</script>"
      ],
      "text/vnd.plotly.v1+html": [
       "<div id=\"1bba43ad-eeeb-4fb9-ae64-68776cb6c4d1\" style=\"height: 525px; width: 100%;\" class=\"plotly-graph-div\"></div><script type=\"text/javascript\">require([\"plotly\"], function(Plotly) { window.PLOTLYENV=window.PLOTLYENV || {};window.PLOTLYENV.BASE_URL=\"https://plot.ly\";Plotly.newPlot(\"1bba43ad-eeeb-4fb9-ae64-68776cb6c4d1\", [{\"type\": \"box\", \"boxpoints\": \"all\", \"name\": \"Bachelor\\u2019s Degree(2)\", \"marker\": {\"size\": 2}, \"y\": [0.0, 0.0], \"jitter\": 0.5}, {\"type\": \"box\", \"boxpoints\": \"all\", \"name\": \"Postgraduate Degree(3)\", \"marker\": {\"size\": 2}, \"y\": [0.0, 0.0, 1.0], \"jitter\": 0.5}, {\"type\": \"box\", \"boxpoints\": \"all\", \"name\": \"Some College / Associate\\u2019s Degree(2)\", \"marker\": {\"size\": 2}, \"y\": [0.0, 0.0], \"jitter\": 0.5}, {\"type\": \"box\", \"boxpoints\": \"all\", \"name\": \"High school diploma(2)\", \"marker\": {\"size\": 2}, \"y\": [0.0, 0.0], \"jitter\": 0.5}], {\"xaxis\": {\"title\": \"education level\"}, \"title\": \"education level vs messages\", \"yaxis\": {\"title\": \"messages\"}}, {\"showLink\": true, \"linkText\": \"Export to plot.ly\"})});</script>"
      ]
     },
     "metadata": {},
     "output_type": "display_data"
    },
    {
     "data": {
      "application/vnd.plotly.v1+json": {
       "data": [
        {
         "labels": [
          "Bachelor’s Degree",
          "Postgraduate Degree",
          "Some College / Associate’s Degree",
          "High school diploma"
         ],
         "type": "pie",
         "values": [
          2,
          3,
          2,
          2
         ]
        }
       ],
       "layout": {
        "title": "Population Distribution of education level"
       }
      },
      "text/html": [
       "<div id=\"fc6de8b2-7208-4196-a0b0-20e331c72c4b\" style=\"height: 525px; width: 100%;\" class=\"plotly-graph-div\"></div><script type=\"text/javascript\">require([\"plotly\"], function(Plotly) { window.PLOTLYENV=window.PLOTLYENV || {};window.PLOTLYENV.BASE_URL=\"https://plot.ly\";Plotly.newPlot(\"fc6de8b2-7208-4196-a0b0-20e331c72c4b\", [{\"type\": \"pie\", \"values\": [2, 3, 2, 2], \"labels\": [\"Bachelor\\u2019s Degree\", \"Postgraduate Degree\", \"Some College / Associate\\u2019s Degree\", \"High school diploma\"]}], {\"title\": \"Population Distribution of education level\"}, {\"showLink\": true, \"linkText\": \"Export to plot.ly\"})});</script>"
      ],
      "text/vnd.plotly.v1+html": [
       "<div id=\"fc6de8b2-7208-4196-a0b0-20e331c72c4b\" style=\"height: 525px; width: 100%;\" class=\"plotly-graph-div\"></div><script type=\"text/javascript\">require([\"plotly\"], function(Plotly) { window.PLOTLYENV=window.PLOTLYENV || {};window.PLOTLYENV.BASE_URL=\"https://plot.ly\";Plotly.newPlot(\"fc6de8b2-7208-4196-a0b0-20e331c72c4b\", [{\"type\": \"pie\", \"values\": [2, 3, 2, 2], \"labels\": [\"Bachelor\\u2019s Degree\", \"Postgraduate Degree\", \"Some College / Associate\\u2019s Degree\", \"High school diploma\"]}], {\"title\": \"Population Distribution of education level\"}, {\"showLink\": true, \"linkText\": \"Export to plot.ly\"})});</script>"
      ]
     },
     "metadata": {},
     "output_type": "display_data"
    },
    {
     "data": {
      "application/vnd.plotly.v1+json": {
       "data": [
        {
         "boxpoints": false,
         "name": "Non-employees messages",
         "type": "box",
         "y": [
          1312,
          427,
          314,
          66,
          48,
          38,
          32,
          27,
          18,
          16,
          15,
          14,
          13,
          13,
          13,
          12,
          11,
          10,
          10,
          10,
          9,
          8,
          8,
          7,
          7,
          7,
          7,
          6,
          6,
          6,
          6,
          6,
          6,
          5,
          5,
          5,
          5,
          5,
          5,
          5,
          5,
          5,
          4,
          4,
          4,
          4,
          4,
          4,
          4,
          4,
          4,
          4,
          4,
          4,
          4,
          4,
          3,
          3,
          3,
          3,
          3,
          3,
          3,
          3,
          3,
          3,
          3,
          3,
          3,
          3,
          3,
          3,
          3,
          3,
          3,
          3,
          2,
          2,
          2,
          2,
          2,
          2,
          2,
          2,
          2,
          2,
          2,
          2,
          2,
          2,
          2,
          2,
          2,
          2,
          2,
          2,
          2,
          2,
          2,
          2,
          2,
          2,
          2,
          2,
          2,
          2,
          2,
          2,
          2,
          2,
          2,
          2,
          1,
          1,
          1,
          1,
          1,
          1,
          1,
          1,
          1,
          1,
          1,
          1,
          1,
          1,
          1,
          1,
          1,
          1,
          1,
          1,
          1,
          1,
          1,
          1,
          1,
          1,
          1,
          1,
          1,
          1,
          1,
          1,
          1,
          1,
          1,
          1,
          1,
          1,
          1,
          1,
          1,
          1,
          1,
          1,
          1,
          1,
          1,
          1,
          1,
          1,
          1,
          1,
          1,
          1,
          1,
          1,
          1,
          1,
          1,
          1,
          1,
          1,
          1,
          1,
          1,
          1,
          1,
          1,
          1,
          1,
          1,
          1,
          1,
          1,
          1,
          1,
          1,
          1,
          1,
          1,
          1,
          1,
          1,
          1,
          1,
          1,
          1,
          1,
          1,
          1,
          1,
          1,
          1,
          1,
          1,
          1,
          1,
          1,
          1,
          1,
          1,
          1,
          1,
          1,
          1,
          1,
          1,
          1,
          1
         ]
        },
        {
         "boxpoints": false,
         "name": "Survey messages",
         "type": "box",
         "y": [
          0,
          0,
          0,
          0,
          1,
          0,
          0,
          0,
          0
         ]
        }
       ],
       "layout": {
        "title": "education level vs messages",
        "xaxis": {
         "title": "education level"
        },
        "yaxis": {
         "range": [
          "0",
          "100"
         ],
         "title": "messages"
        }
       }
      },
      "text/html": [
       "<div id=\"87cca1c3-0c51-4d18-af7a-ee6348deb3c5\" style=\"height: 525px; width: 100%;\" class=\"plotly-graph-div\"></div><script type=\"text/javascript\">require([\"plotly\"], function(Plotly) { window.PLOTLYENV=window.PLOTLYENV || {};window.PLOTLYENV.BASE_URL=\"https://plot.ly\";Plotly.newPlot(\"87cca1c3-0c51-4d18-af7a-ee6348deb3c5\", [{\"type\": \"box\", \"boxpoints\": false, \"name\": \"Non-employees messages\", \"y\": [1312, 427, 314, 66, 48, 38, 32, 27, 18, 16, 15, 14, 13, 13, 13, 12, 11, 10, 10, 10, 9, 8, 8, 7, 7, 7, 7, 6, 6, 6, 6, 6, 6, 5, 5, 5, 5, 5, 5, 5, 5, 5, 4, 4, 4, 4, 4, 4, 4, 4, 4, 4, 4, 4, 4, 4, 3, 3, 3, 3, 3, 3, 3, 3, 3, 3, 3, 3, 3, 3, 3, 3, 3, 3, 3, 3, 2, 2, 2, 2, 2, 2, 2, 2, 2, 2, 2, 2, 2, 2, 2, 2, 2, 2, 2, 2, 2, 2, 2, 2, 2, 2, 2, 2, 2, 2, 2, 2, 2, 2, 2, 2, 1, 1, 1, 1, 1, 1, 1, 1, 1, 1, 1, 1, 1, 1, 1, 1, 1, 1, 1, 1, 1, 1, 1, 1, 1, 1, 1, 1, 1, 1, 1, 1, 1, 1, 1, 1, 1, 1, 1, 1, 1, 1, 1, 1, 1, 1, 1, 1, 1, 1, 1, 1, 1, 1, 1, 1, 1, 1, 1, 1, 1, 1, 1, 1, 1, 1, 1, 1, 1, 1, 1, 1, 1, 1, 1, 1, 1, 1, 1, 1, 1, 1, 1, 1, 1, 1, 1, 1, 1, 1, 1, 1, 1, 1, 1, 1, 1, 1, 1, 1, 1, 1, 1, 1, 1, 1, 1, 1, 1]}, {\"type\": \"box\", \"boxpoints\": false, \"name\": \"Survey messages\", \"y\": [0.0, 0.0, 0.0, 0.0, 1.0, 0.0, 0.0, 0.0, 0.0]}], {\"xaxis\": {\"title\": \"education level\"}, \"title\": \"education level vs messages\", \"yaxis\": {\"title\": \"messages\", \"range\": [\"0\", \"100\"]}}, {\"showLink\": true, \"linkText\": \"Export to plot.ly\"})});</script>"
      ],
      "text/vnd.plotly.v1+html": [
       "<div id=\"87cca1c3-0c51-4d18-af7a-ee6348deb3c5\" style=\"height: 525px; width: 100%;\" class=\"plotly-graph-div\"></div><script type=\"text/javascript\">require([\"plotly\"], function(Plotly) { window.PLOTLYENV=window.PLOTLYENV || {};window.PLOTLYENV.BASE_URL=\"https://plot.ly\";Plotly.newPlot(\"87cca1c3-0c51-4d18-af7a-ee6348deb3c5\", [{\"type\": \"box\", \"boxpoints\": false, \"name\": \"Non-employees messages\", \"y\": [1312, 427, 314, 66, 48, 38, 32, 27, 18, 16, 15, 14, 13, 13, 13, 12, 11, 10, 10, 10, 9, 8, 8, 7, 7, 7, 7, 6, 6, 6, 6, 6, 6, 5, 5, 5, 5, 5, 5, 5, 5, 5, 4, 4, 4, 4, 4, 4, 4, 4, 4, 4, 4, 4, 4, 4, 3, 3, 3, 3, 3, 3, 3, 3, 3, 3, 3, 3, 3, 3, 3, 3, 3, 3, 3, 3, 2, 2, 2, 2, 2, 2, 2, 2, 2, 2, 2, 2, 2, 2, 2, 2, 2, 2, 2, 2, 2, 2, 2, 2, 2, 2, 2, 2, 2, 2, 2, 2, 2, 2, 2, 2, 1, 1, 1, 1, 1, 1, 1, 1, 1, 1, 1, 1, 1, 1, 1, 1, 1, 1, 1, 1, 1, 1, 1, 1, 1, 1, 1, 1, 1, 1, 1, 1, 1, 1, 1, 1, 1, 1, 1, 1, 1, 1, 1, 1, 1, 1, 1, 1, 1, 1, 1, 1, 1, 1, 1, 1, 1, 1, 1, 1, 1, 1, 1, 1, 1, 1, 1, 1, 1, 1, 1, 1, 1, 1, 1, 1, 1, 1, 1, 1, 1, 1, 1, 1, 1, 1, 1, 1, 1, 1, 1, 1, 1, 1, 1, 1, 1, 1, 1, 1, 1, 1, 1, 1, 1, 1, 1, 1, 1]}, {\"type\": \"box\", \"boxpoints\": false, \"name\": \"Survey messages\", \"y\": [0.0, 0.0, 0.0, 0.0, 1.0, 0.0, 0.0, 0.0, 0.0]}], {\"xaxis\": {\"title\": \"education level\"}, \"title\": \"education level vs messages\", \"yaxis\": {\"title\": \"messages\", \"range\": [\"0\", \"100\"]}}, {\"showLink\": true, \"linkText\": \"Export to plot.ly\"})});</script>"
      ]
     },
     "metadata": {},
     "output_type": "display_data"
    },
    {
     "data": {
      "application/vnd.plotly.v1+json": {
       "data": [
        {
         "boxpoints": "all",
         "jitter": 0.5,
         "marker": {
          "size": 2
         },
         "name": "Bachelor’s Degree(2)",
         "type": "box",
         "y": [
          1,
          0
         ]
        },
        {
         "boxpoints": "all",
         "jitter": 0.5,
         "marker": {
          "size": 2
         },
         "name": "Postgraduate Degree(3)",
         "type": "box",
         "y": [
          1,
          1,
          0
         ]
        },
        {
         "boxpoints": "all",
         "jitter": 0.5,
         "marker": {
          "size": 2
         },
         "name": "Some College / Associate’s Degree(2)",
         "type": "box",
         "y": [
          1,
          1
         ]
        },
        {
         "boxpoints": "all",
         "jitter": 0.5,
         "marker": {
          "size": 2
         },
         "name": "High school diploma(2)",
         "type": "box",
         "y": [
          1,
          0
         ]
        }
       ],
       "layout": {
        "title": "education level vs git project",
        "xaxis": {
         "title": "education level"
        },
        "yaxis": {
         "title": "git project"
        }
       }
      },
      "text/html": [
       "<div id=\"03468ec0-953c-4078-a38c-bb6f5ffa063b\" style=\"height: 525px; width: 100%;\" class=\"plotly-graph-div\"></div><script type=\"text/javascript\">require([\"plotly\"], function(Plotly) { window.PLOTLYENV=window.PLOTLYENV || {};window.PLOTLYENV.BASE_URL=\"https://plot.ly\";Plotly.newPlot(\"03468ec0-953c-4078-a38c-bb6f5ffa063b\", [{\"type\": \"box\", \"boxpoints\": \"all\", \"name\": \"Bachelor\\u2019s Degree(2)\", \"marker\": {\"size\": 2}, \"y\": [1, 0], \"jitter\": 0.5}, {\"type\": \"box\", \"boxpoints\": \"all\", \"name\": \"Postgraduate Degree(3)\", \"marker\": {\"size\": 2}, \"y\": [1, 1, 0], \"jitter\": 0.5}, {\"type\": \"box\", \"boxpoints\": \"all\", \"name\": \"Some College / Associate\\u2019s Degree(2)\", \"marker\": {\"size\": 2}, \"y\": [1, 1], \"jitter\": 0.5}, {\"type\": \"box\", \"boxpoints\": \"all\", \"name\": \"High school diploma(2)\", \"marker\": {\"size\": 2}, \"y\": [1, 0], \"jitter\": 0.5}], {\"xaxis\": {\"title\": \"education level\"}, \"title\": \"education level vs git project\", \"yaxis\": {\"title\": \"git project\"}}, {\"showLink\": true, \"linkText\": \"Export to plot.ly\"})});</script>"
      ],
      "text/vnd.plotly.v1+html": [
       "<div id=\"03468ec0-953c-4078-a38c-bb6f5ffa063b\" style=\"height: 525px; width: 100%;\" class=\"plotly-graph-div\"></div><script type=\"text/javascript\">require([\"plotly\"], function(Plotly) { window.PLOTLYENV=window.PLOTLYENV || {};window.PLOTLYENV.BASE_URL=\"https://plot.ly\";Plotly.newPlot(\"03468ec0-953c-4078-a38c-bb6f5ffa063b\", [{\"type\": \"box\", \"boxpoints\": \"all\", \"name\": \"Bachelor\\u2019s Degree(2)\", \"marker\": {\"size\": 2}, \"y\": [1, 0], \"jitter\": 0.5}, {\"type\": \"box\", \"boxpoints\": \"all\", \"name\": \"Postgraduate Degree(3)\", \"marker\": {\"size\": 2}, \"y\": [1, 1, 0], \"jitter\": 0.5}, {\"type\": \"box\", \"boxpoints\": \"all\", \"name\": \"Some College / Associate\\u2019s Degree(2)\", \"marker\": {\"size\": 2}, \"y\": [1, 1], \"jitter\": 0.5}, {\"type\": \"box\", \"boxpoints\": \"all\", \"name\": \"High school diploma(2)\", \"marker\": {\"size\": 2}, \"y\": [1, 0], \"jitter\": 0.5}], {\"xaxis\": {\"title\": \"education level\"}, \"title\": \"education level vs git project\", \"yaxis\": {\"title\": \"git project\"}}, {\"showLink\": true, \"linkText\": \"Export to plot.ly\"})});</script>"
      ]
     },
     "metadata": {},
     "output_type": "display_data"
    },
    {
     "data": {
      "application/vnd.plotly.v1+json": {
       "data": [
        {
         "labels": [
          "Bachelor’s Degree",
          "Postgraduate Degree",
          "Some College / Associate’s Degree",
          "High school diploma"
         ],
         "type": "pie",
         "values": [
          2,
          3,
          2,
          2
         ]
        }
       ],
       "layout": {
        "title": "Population Distribution of education level"
       }
      },
      "text/html": [
       "<div id=\"c90411ab-5829-4e67-98c8-806c90201691\" style=\"height: 525px; width: 100%;\" class=\"plotly-graph-div\"></div><script type=\"text/javascript\">require([\"plotly\"], function(Plotly) { window.PLOTLYENV=window.PLOTLYENV || {};window.PLOTLYENV.BASE_URL=\"https://plot.ly\";Plotly.newPlot(\"c90411ab-5829-4e67-98c8-806c90201691\", [{\"type\": \"pie\", \"values\": [2, 3, 2, 2], \"labels\": [\"Bachelor\\u2019s Degree\", \"Postgraduate Degree\", \"Some College / Associate\\u2019s Degree\", \"High school diploma\"]}], {\"title\": \"Population Distribution of education level\"}, {\"showLink\": true, \"linkText\": \"Export to plot.ly\"})});</script>"
      ],
      "text/vnd.plotly.v1+html": [
       "<div id=\"c90411ab-5829-4e67-98c8-806c90201691\" style=\"height: 525px; width: 100%;\" class=\"plotly-graph-div\"></div><script type=\"text/javascript\">require([\"plotly\"], function(Plotly) { window.PLOTLYENV=window.PLOTLYENV || {};window.PLOTLYENV.BASE_URL=\"https://plot.ly\";Plotly.newPlot(\"c90411ab-5829-4e67-98c8-806c90201691\", [{\"type\": \"pie\", \"values\": [2, 3, 2, 2], \"labels\": [\"Bachelor\\u2019s Degree\", \"Postgraduate Degree\", \"Some College / Associate\\u2019s Degree\", \"High school diploma\"]}], {\"title\": \"Population Distribution of education level\"}, {\"showLink\": true, \"linkText\": \"Export to plot.ly\"})});</script>"
      ]
     },
     "metadata": {},
     "output_type": "display_data"
    },
    {
     "data": {
      "application/vnd.plotly.v1+json": {
       "data": [
        {
         "type": "histogram",
         "x": [
          1,
          0,
          1,
          1,
          0,
          1,
          1,
          1,
          0
         ]
        }
       ],
       "layout": {
        "title": "Distribution of git project",
        "xaxis": {
         "title": "git project"
        },
        "yaxis": {
         "title": "Population"
        }
       }
      },
      "text/html": [
       "<div id=\"1fc61047-e84d-41d4-8354-439be258e100\" style=\"height: 525px; width: 100%;\" class=\"plotly-graph-div\"></div><script type=\"text/javascript\">require([\"plotly\"], function(Plotly) { window.PLOTLYENV=window.PLOTLYENV || {};window.PLOTLYENV.BASE_URL=\"https://plot.ly\";Plotly.newPlot(\"1fc61047-e84d-41d4-8354-439be258e100\", [{\"type\": \"histogram\", \"x\": [1, 0, 1, 1, 0, 1, 1, 1, 0]}], {\"xaxis\": {\"title\": \"git project\"}, \"title\": \"Distribution of git project\", \"yaxis\": {\"title\": \"Population\"}}, {\"showLink\": true, \"linkText\": \"Export to plot.ly\"})});</script>"
      ],
      "text/vnd.plotly.v1+html": [
       "<div id=\"1fc61047-e84d-41d4-8354-439be258e100\" style=\"height: 525px; width: 100%;\" class=\"plotly-graph-div\"></div><script type=\"text/javascript\">require([\"plotly\"], function(Plotly) { window.PLOTLYENV=window.PLOTLYENV || {};window.PLOTLYENV.BASE_URL=\"https://plot.ly\";Plotly.newPlot(\"1fc61047-e84d-41d4-8354-439be258e100\", [{\"type\": \"histogram\", \"x\": [1, 0, 1, 1, 0, 1, 1, 1, 0]}], {\"xaxis\": {\"title\": \"git project\"}, \"title\": \"Distribution of git project\", \"yaxis\": {\"title\": \"Population\"}}, {\"showLink\": true, \"linkText\": \"Export to plot.ly\"})});</script>"
      ]
     },
     "metadata": {},
     "output_type": "display_data"
    },
    {
     "data": {
      "application/vnd.plotly.v1+json": {
       "data": [
        {
         "boxpoints": "all",
         "jitter": 0.5,
         "marker": {
          "size": 2
         },
         "name": "Bachelor’s Degree(2)",
         "type": "box",
         "y": [
          1,
          1
         ]
        },
        {
         "boxpoints": "all",
         "jitter": 0.5,
         "marker": {
          "size": 2
         },
         "name": "Postgraduate Degree(3)",
         "type": "box",
         "y": [
          1,
          1,
          0
         ]
        },
        {
         "boxpoints": "all",
         "jitter": 0.5,
         "marker": {
          "size": 2
         },
         "name": "Some College / Associate’s Degree(2)",
         "type": "box",
         "y": [
          1,
          1
         ]
        },
        {
         "boxpoints": "all",
         "jitter": 0.5,
         "marker": {
          "size": 2
         },
         "name": "High school diploma(2)",
         "type": "box",
         "y": [
          1,
          1
         ]
        }
       ],
       "layout": {
        "title": "education level vs github project",
        "xaxis": {
         "title": "education level"
        },
        "yaxis": {
         "title": "github project"
        }
       }
      },
      "text/html": [
       "<div id=\"30451fff-1297-48fe-b9be-3cfd418a920e\" style=\"height: 525px; width: 100%;\" class=\"plotly-graph-div\"></div><script type=\"text/javascript\">require([\"plotly\"], function(Plotly) { window.PLOTLYENV=window.PLOTLYENV || {};window.PLOTLYENV.BASE_URL=\"https://plot.ly\";Plotly.newPlot(\"30451fff-1297-48fe-b9be-3cfd418a920e\", [{\"type\": \"box\", \"boxpoints\": \"all\", \"name\": \"Bachelor\\u2019s Degree(2)\", \"marker\": {\"size\": 2}, \"y\": [1, 1], \"jitter\": 0.5}, {\"type\": \"box\", \"boxpoints\": \"all\", \"name\": \"Postgraduate Degree(3)\", \"marker\": {\"size\": 2}, \"y\": [1, 1, 0], \"jitter\": 0.5}, {\"type\": \"box\", \"boxpoints\": \"all\", \"name\": \"Some College / Associate\\u2019s Degree(2)\", \"marker\": {\"size\": 2}, \"y\": [1, 1], \"jitter\": 0.5}, {\"type\": \"box\", \"boxpoints\": \"all\", \"name\": \"High school diploma(2)\", \"marker\": {\"size\": 2}, \"y\": [1, 1], \"jitter\": 0.5}], {\"xaxis\": {\"title\": \"education level\"}, \"title\": \"education level vs github project\", \"yaxis\": {\"title\": \"github project\"}}, {\"showLink\": true, \"linkText\": \"Export to plot.ly\"})});</script>"
      ],
      "text/vnd.plotly.v1+html": [
       "<div id=\"30451fff-1297-48fe-b9be-3cfd418a920e\" style=\"height: 525px; width: 100%;\" class=\"plotly-graph-div\"></div><script type=\"text/javascript\">require([\"plotly\"], function(Plotly) { window.PLOTLYENV=window.PLOTLYENV || {};window.PLOTLYENV.BASE_URL=\"https://plot.ly\";Plotly.newPlot(\"30451fff-1297-48fe-b9be-3cfd418a920e\", [{\"type\": \"box\", \"boxpoints\": \"all\", \"name\": \"Bachelor\\u2019s Degree(2)\", \"marker\": {\"size\": 2}, \"y\": [1, 1], \"jitter\": 0.5}, {\"type\": \"box\", \"boxpoints\": \"all\", \"name\": \"Postgraduate Degree(3)\", \"marker\": {\"size\": 2}, \"y\": [1, 1, 0], \"jitter\": 0.5}, {\"type\": \"box\", \"boxpoints\": \"all\", \"name\": \"Some College / Associate\\u2019s Degree(2)\", \"marker\": {\"size\": 2}, \"y\": [1, 1], \"jitter\": 0.5}, {\"type\": \"box\", \"boxpoints\": \"all\", \"name\": \"High school diploma(2)\", \"marker\": {\"size\": 2}, \"y\": [1, 1], \"jitter\": 0.5}], {\"xaxis\": {\"title\": \"education level\"}, \"title\": \"education level vs github project\", \"yaxis\": {\"title\": \"github project\"}}, {\"showLink\": true, \"linkText\": \"Export to plot.ly\"})});</script>"
      ]
     },
     "metadata": {},
     "output_type": "display_data"
    },
    {
     "data": {
      "application/vnd.plotly.v1+json": {
       "data": [
        {
         "labels": [
          "Bachelor’s Degree",
          "Postgraduate Degree",
          "Some College / Associate’s Degree",
          "High school diploma"
         ],
         "type": "pie",
         "values": [
          2,
          3,
          2,
          2
         ]
        }
       ],
       "layout": {
        "title": "Population Distribution of education level"
       }
      },
      "text/html": [
       "<div id=\"297d4f2b-66dc-4996-8dba-d06e3cc8b7e3\" style=\"height: 525px; width: 100%;\" class=\"plotly-graph-div\"></div><script type=\"text/javascript\">require([\"plotly\"], function(Plotly) { window.PLOTLYENV=window.PLOTLYENV || {};window.PLOTLYENV.BASE_URL=\"https://plot.ly\";Plotly.newPlot(\"297d4f2b-66dc-4996-8dba-d06e3cc8b7e3\", [{\"type\": \"pie\", \"values\": [2, 3, 2, 2], \"labels\": [\"Bachelor\\u2019s Degree\", \"Postgraduate Degree\", \"Some College / Associate\\u2019s Degree\", \"High school diploma\"]}], {\"title\": \"Population Distribution of education level\"}, {\"showLink\": true, \"linkText\": \"Export to plot.ly\"})});</script>"
      ],
      "text/vnd.plotly.v1+html": [
       "<div id=\"297d4f2b-66dc-4996-8dba-d06e3cc8b7e3\" style=\"height: 525px; width: 100%;\" class=\"plotly-graph-div\"></div><script type=\"text/javascript\">require([\"plotly\"], function(Plotly) { window.PLOTLYENV=window.PLOTLYENV || {};window.PLOTLYENV.BASE_URL=\"https://plot.ly\";Plotly.newPlot(\"297d4f2b-66dc-4996-8dba-d06e3cc8b7e3\", [{\"type\": \"pie\", \"values\": [2, 3, 2, 2], \"labels\": [\"Bachelor\\u2019s Degree\", \"Postgraduate Degree\", \"Some College / Associate\\u2019s Degree\", \"High school diploma\"]}], {\"title\": \"Population Distribution of education level\"}, {\"showLink\": true, \"linkText\": \"Export to plot.ly\"})});</script>"
      ]
     },
     "metadata": {},
     "output_type": "display_data"
    },
    {
     "data": {
      "application/vnd.plotly.v1+json": {
       "data": [
        {
         "type": "histogram",
         "x": [
          1,
          1,
          1,
          1,
          0,
          1,
          1,
          1,
          1
         ]
        }
       ],
       "layout": {
        "title": "Distribution of github project",
        "xaxis": {
         "title": "github project"
        },
        "yaxis": {
         "title": "Population"
        }
       }
      },
      "text/html": [
       "<div id=\"5e45edb8-927d-4a4d-a77b-23a329679156\" style=\"height: 525px; width: 100%;\" class=\"plotly-graph-div\"></div><script type=\"text/javascript\">require([\"plotly\"], function(Plotly) { window.PLOTLYENV=window.PLOTLYENV || {};window.PLOTLYENV.BASE_URL=\"https://plot.ly\";Plotly.newPlot(\"5e45edb8-927d-4a4d-a77b-23a329679156\", [{\"type\": \"histogram\", \"x\": [1, 1, 1, 1, 0, 1, 1, 1, 1]}], {\"xaxis\": {\"title\": \"github project\"}, \"title\": \"Distribution of github project\", \"yaxis\": {\"title\": \"Population\"}}, {\"showLink\": true, \"linkText\": \"Export to plot.ly\"})});</script>"
      ],
      "text/vnd.plotly.v1+html": [
       "<div id=\"5e45edb8-927d-4a4d-a77b-23a329679156\" style=\"height: 525px; width: 100%;\" class=\"plotly-graph-div\"></div><script type=\"text/javascript\">require([\"plotly\"], function(Plotly) { window.PLOTLYENV=window.PLOTLYENV || {};window.PLOTLYENV.BASE_URL=\"https://plot.ly\";Plotly.newPlot(\"5e45edb8-927d-4a4d-a77b-23a329679156\", [{\"type\": \"histogram\", \"x\": [1, 1, 1, 1, 0, 1, 1, 1, 1]}], {\"xaxis\": {\"title\": \"github project\"}, \"title\": \"Distribution of github project\", \"yaxis\": {\"title\": \"Population\"}}, {\"showLink\": true, \"linkText\": \"Export to plot.ly\"})});</script>"
      ]
     },
     "metadata": {},
     "output_type": "display_data"
    },
    {
     "data": {
      "application/vnd.plotly.v1+json": {
       "data": [
        {
         "boxpoints": "all",
         "jitter": 0.5,
         "marker": {
          "size": 2
         },
         "name": "Bachelor’s Degree(2)",
         "type": "box",
         "y": [
          0,
          0
         ]
        },
        {
         "boxpoints": "all",
         "jitter": 0.5,
         "marker": {
          "size": 2
         },
         "name": "Postgraduate Degree(3)",
         "type": "box",
         "y": [
          0,
          0,
          0
         ]
        },
        {
         "boxpoints": "all",
         "jitter": 0.5,
         "marker": {
          "size": 2
         },
         "name": "Some College / Associate’s Degree(2)",
         "type": "box",
         "y": [
          0,
          0
         ]
        },
        {
         "boxpoints": "all",
         "jitter": 0.5,
         "marker": {
          "size": 2
         },
         "name": "High school diploma(2)",
         "type": "box",
         "y": [
          0,
          0
         ]
        }
       ],
       "layout": {
        "title": "education level vs bugzilla project",
        "xaxis": {
         "title": "education level"
        },
        "yaxis": {
         "title": "bugzilla project"
        }
       }
      },
      "text/html": [
       "<div id=\"89a89126-a551-4e9d-8fd9-cacd03403c84\" style=\"height: 525px; width: 100%;\" class=\"plotly-graph-div\"></div><script type=\"text/javascript\">require([\"plotly\"], function(Plotly) { window.PLOTLYENV=window.PLOTLYENV || {};window.PLOTLYENV.BASE_URL=\"https://plot.ly\";Plotly.newPlot(\"89a89126-a551-4e9d-8fd9-cacd03403c84\", [{\"type\": \"box\", \"boxpoints\": \"all\", \"name\": \"Bachelor\\u2019s Degree(2)\", \"marker\": {\"size\": 2}, \"y\": [0, 0], \"jitter\": 0.5}, {\"type\": \"box\", \"boxpoints\": \"all\", \"name\": \"Postgraduate Degree(3)\", \"marker\": {\"size\": 2}, \"y\": [0, 0, 0], \"jitter\": 0.5}, {\"type\": \"box\", \"boxpoints\": \"all\", \"name\": \"Some College / Associate\\u2019s Degree(2)\", \"marker\": {\"size\": 2}, \"y\": [0, 0], \"jitter\": 0.5}, {\"type\": \"box\", \"boxpoints\": \"all\", \"name\": \"High school diploma(2)\", \"marker\": {\"size\": 2}, \"y\": [0, 0], \"jitter\": 0.5}], {\"xaxis\": {\"title\": \"education level\"}, \"title\": \"education level vs bugzilla project\", \"yaxis\": {\"title\": \"bugzilla project\"}}, {\"showLink\": true, \"linkText\": \"Export to plot.ly\"})});</script>"
      ],
      "text/vnd.plotly.v1+html": [
       "<div id=\"89a89126-a551-4e9d-8fd9-cacd03403c84\" style=\"height: 525px; width: 100%;\" class=\"plotly-graph-div\"></div><script type=\"text/javascript\">require([\"plotly\"], function(Plotly) { window.PLOTLYENV=window.PLOTLYENV || {};window.PLOTLYENV.BASE_URL=\"https://plot.ly\";Plotly.newPlot(\"89a89126-a551-4e9d-8fd9-cacd03403c84\", [{\"type\": \"box\", \"boxpoints\": \"all\", \"name\": \"Bachelor\\u2019s Degree(2)\", \"marker\": {\"size\": 2}, \"y\": [0, 0], \"jitter\": 0.5}, {\"type\": \"box\", \"boxpoints\": \"all\", \"name\": \"Postgraduate Degree(3)\", \"marker\": {\"size\": 2}, \"y\": [0, 0, 0], \"jitter\": 0.5}, {\"type\": \"box\", \"boxpoints\": \"all\", \"name\": \"Some College / Associate\\u2019s Degree(2)\", \"marker\": {\"size\": 2}, \"y\": [0, 0], \"jitter\": 0.5}, {\"type\": \"box\", \"boxpoints\": \"all\", \"name\": \"High school diploma(2)\", \"marker\": {\"size\": 2}, \"y\": [0, 0], \"jitter\": 0.5}], {\"xaxis\": {\"title\": \"education level\"}, \"title\": \"education level vs bugzilla project\", \"yaxis\": {\"title\": \"bugzilla project\"}}, {\"showLink\": true, \"linkText\": \"Export to plot.ly\"})});</script>"
      ]
     },
     "metadata": {},
     "output_type": "display_data"
    },
    {
     "data": {
      "application/vnd.plotly.v1+json": {
       "data": [
        {
         "labels": [
          "Bachelor’s Degree",
          "Postgraduate Degree",
          "Some College / Associate’s Degree",
          "High school diploma"
         ],
         "type": "pie",
         "values": [
          2,
          3,
          2,
          2
         ]
        }
       ],
       "layout": {
        "title": "Population Distribution of education level"
       }
      },
      "text/html": [
       "<div id=\"488b355b-21c9-4e47-a615-381ff9a1f460\" style=\"height: 525px; width: 100%;\" class=\"plotly-graph-div\"></div><script type=\"text/javascript\">require([\"plotly\"], function(Plotly) { window.PLOTLYENV=window.PLOTLYENV || {};window.PLOTLYENV.BASE_URL=\"https://plot.ly\";Plotly.newPlot(\"488b355b-21c9-4e47-a615-381ff9a1f460\", [{\"type\": \"pie\", \"values\": [2, 3, 2, 2], \"labels\": [\"Bachelor\\u2019s Degree\", \"Postgraduate Degree\", \"Some College / Associate\\u2019s Degree\", \"High school diploma\"]}], {\"title\": \"Population Distribution of education level\"}, {\"showLink\": true, \"linkText\": \"Export to plot.ly\"})});</script>"
      ],
      "text/vnd.plotly.v1+html": [
       "<div id=\"488b355b-21c9-4e47-a615-381ff9a1f460\" style=\"height: 525px; width: 100%;\" class=\"plotly-graph-div\"></div><script type=\"text/javascript\">require([\"plotly\"], function(Plotly) { window.PLOTLYENV=window.PLOTLYENV || {};window.PLOTLYENV.BASE_URL=\"https://plot.ly\";Plotly.newPlot(\"488b355b-21c9-4e47-a615-381ff9a1f460\", [{\"type\": \"pie\", \"values\": [2, 3, 2, 2], \"labels\": [\"Bachelor\\u2019s Degree\", \"Postgraduate Degree\", \"Some College / Associate\\u2019s Degree\", \"High school diploma\"]}], {\"title\": \"Population Distribution of education level\"}, {\"showLink\": true, \"linkText\": \"Export to plot.ly\"})});</script>"
      ]
     },
     "metadata": {},
     "output_type": "display_data"
    },
    {
     "data": {
      "application/vnd.plotly.v1+json": {
       "data": [
        {
         "type": "histogram",
         "x": [
          0,
          0,
          0,
          0,
          0,
          0,
          0,
          0,
          0
         ]
        }
       ],
       "layout": {
        "title": "Distribution of bugzilla project",
        "xaxis": {
         "title": "bugzilla project"
        },
        "yaxis": {
         "title": "Population"
        }
       }
      },
      "text/html": [
       "<div id=\"f4fc68e0-6aa3-436a-956e-c58fff26df3d\" style=\"height: 525px; width: 100%;\" class=\"plotly-graph-div\"></div><script type=\"text/javascript\">require([\"plotly\"], function(Plotly) { window.PLOTLYENV=window.PLOTLYENV || {};window.PLOTLYENV.BASE_URL=\"https://plot.ly\";Plotly.newPlot(\"f4fc68e0-6aa3-436a-956e-c58fff26df3d\", [{\"type\": \"histogram\", \"x\": [0, 0, 0, 0, 0, 0, 0, 0, 0]}], {\"xaxis\": {\"title\": \"bugzilla project\"}, \"title\": \"Distribution of bugzilla project\", \"yaxis\": {\"title\": \"Population\"}}, {\"showLink\": true, \"linkText\": \"Export to plot.ly\"})});</script>"
      ],
      "text/vnd.plotly.v1+html": [
       "<div id=\"f4fc68e0-6aa3-436a-956e-c58fff26df3d\" style=\"height: 525px; width: 100%;\" class=\"plotly-graph-div\"></div><script type=\"text/javascript\">require([\"plotly\"], function(Plotly) { window.PLOTLYENV=window.PLOTLYENV || {};window.PLOTLYENV.BASE_URL=\"https://plot.ly\";Plotly.newPlot(\"f4fc68e0-6aa3-436a-956e-c58fff26df3d\", [{\"type\": \"histogram\", \"x\": [0, 0, 0, 0, 0, 0, 0, 0, 0]}], {\"xaxis\": {\"title\": \"bugzilla project\"}, \"title\": \"Distribution of bugzilla project\", \"yaxis\": {\"title\": \"Population\"}}, {\"showLink\": true, \"linkText\": \"Export to plot.ly\"})});</script>"
      ]
     },
     "metadata": {},
     "output_type": "display_data"
    },
    {
     "data": {
      "application/vnd.plotly.v1+json": {
       "data": [
        {
         "boxpoints": "all",
         "jitter": 0.5,
         "marker": {
          "size": 2
         },
         "name": "Bachelor’s Degree(2)",
         "type": "box",
         "y": [
          0,
          0
         ]
        },
        {
         "boxpoints": "all",
         "jitter": 0.5,
         "marker": {
          "size": 2
         },
         "name": "Postgraduate Degree(3)",
         "type": "box",
         "y": [
          0,
          0,
          0
         ]
        },
        {
         "boxpoints": "all",
         "jitter": 0.5,
         "marker": {
          "size": 2
         },
         "name": "Some College / Associate’s Degree(2)",
         "type": "box",
         "y": [
          0,
          0
         ]
        },
        {
         "boxpoints": "all",
         "jitter": 0.5,
         "marker": {
          "size": 2
         },
         "name": "High school diploma(2)",
         "type": "box",
         "y": [
          0,
          0
         ]
        }
       ],
       "layout": {
        "title": "education level vs mbox project",
        "xaxis": {
         "title": "education level"
        },
        "yaxis": {
         "title": "mbox project"
        }
       }
      },
      "text/html": [
       "<div id=\"17c726fa-91c9-4c8d-90ce-c888893e75c9\" style=\"height: 525px; width: 100%;\" class=\"plotly-graph-div\"></div><script type=\"text/javascript\">require([\"plotly\"], function(Plotly) { window.PLOTLYENV=window.PLOTLYENV || {};window.PLOTLYENV.BASE_URL=\"https://plot.ly\";Plotly.newPlot(\"17c726fa-91c9-4c8d-90ce-c888893e75c9\", [{\"type\": \"box\", \"boxpoints\": \"all\", \"name\": \"Bachelor\\u2019s Degree(2)\", \"marker\": {\"size\": 2}, \"y\": [0, 0], \"jitter\": 0.5}, {\"type\": \"box\", \"boxpoints\": \"all\", \"name\": \"Postgraduate Degree(3)\", \"marker\": {\"size\": 2}, \"y\": [0, 0, 0], \"jitter\": 0.5}, {\"type\": \"box\", \"boxpoints\": \"all\", \"name\": \"Some College / Associate\\u2019s Degree(2)\", \"marker\": {\"size\": 2}, \"y\": [0, 0], \"jitter\": 0.5}, {\"type\": \"box\", \"boxpoints\": \"all\", \"name\": \"High school diploma(2)\", \"marker\": {\"size\": 2}, \"y\": [0, 0], \"jitter\": 0.5}], {\"xaxis\": {\"title\": \"education level\"}, \"title\": \"education level vs mbox project\", \"yaxis\": {\"title\": \"mbox project\"}}, {\"showLink\": true, \"linkText\": \"Export to plot.ly\"})});</script>"
      ],
      "text/vnd.plotly.v1+html": [
       "<div id=\"17c726fa-91c9-4c8d-90ce-c888893e75c9\" style=\"height: 525px; width: 100%;\" class=\"plotly-graph-div\"></div><script type=\"text/javascript\">require([\"plotly\"], function(Plotly) { window.PLOTLYENV=window.PLOTLYENV || {};window.PLOTLYENV.BASE_URL=\"https://plot.ly\";Plotly.newPlot(\"17c726fa-91c9-4c8d-90ce-c888893e75c9\", [{\"type\": \"box\", \"boxpoints\": \"all\", \"name\": \"Bachelor\\u2019s Degree(2)\", \"marker\": {\"size\": 2}, \"y\": [0, 0], \"jitter\": 0.5}, {\"type\": \"box\", \"boxpoints\": \"all\", \"name\": \"Postgraduate Degree(3)\", \"marker\": {\"size\": 2}, \"y\": [0, 0, 0], \"jitter\": 0.5}, {\"type\": \"box\", \"boxpoints\": \"all\", \"name\": \"Some College / Associate\\u2019s Degree(2)\", \"marker\": {\"size\": 2}, \"y\": [0, 0], \"jitter\": 0.5}, {\"type\": \"box\", \"boxpoints\": \"all\", \"name\": \"High school diploma(2)\", \"marker\": {\"size\": 2}, \"y\": [0, 0], \"jitter\": 0.5}], {\"xaxis\": {\"title\": \"education level\"}, \"title\": \"education level vs mbox project\", \"yaxis\": {\"title\": \"mbox project\"}}, {\"showLink\": true, \"linkText\": \"Export to plot.ly\"})});</script>"
      ]
     },
     "metadata": {},
     "output_type": "display_data"
    },
    {
     "data": {
      "application/vnd.plotly.v1+json": {
       "data": [
        {
         "labels": [
          "Bachelor’s Degree",
          "Postgraduate Degree",
          "Some College / Associate’s Degree",
          "High school diploma"
         ],
         "type": "pie",
         "values": [
          2,
          3,
          2,
          2
         ]
        }
       ],
       "layout": {
        "title": "Population Distribution of education level"
       }
      },
      "text/html": [
       "<div id=\"0b6c68d5-e6aa-4722-a3c6-e3deaaf9699f\" style=\"height: 525px; width: 100%;\" class=\"plotly-graph-div\"></div><script type=\"text/javascript\">require([\"plotly\"], function(Plotly) { window.PLOTLYENV=window.PLOTLYENV || {};window.PLOTLYENV.BASE_URL=\"https://plot.ly\";Plotly.newPlot(\"0b6c68d5-e6aa-4722-a3c6-e3deaaf9699f\", [{\"type\": \"pie\", \"values\": [2, 3, 2, 2], \"labels\": [\"Bachelor\\u2019s Degree\", \"Postgraduate Degree\", \"Some College / Associate\\u2019s Degree\", \"High school diploma\"]}], {\"title\": \"Population Distribution of education level\"}, {\"showLink\": true, \"linkText\": \"Export to plot.ly\"})});</script>"
      ],
      "text/vnd.plotly.v1+html": [
       "<div id=\"0b6c68d5-e6aa-4722-a3c6-e3deaaf9699f\" style=\"height: 525px; width: 100%;\" class=\"plotly-graph-div\"></div><script type=\"text/javascript\">require([\"plotly\"], function(Plotly) { window.PLOTLYENV=window.PLOTLYENV || {};window.PLOTLYENV.BASE_URL=\"https://plot.ly\";Plotly.newPlot(\"0b6c68d5-e6aa-4722-a3c6-e3deaaf9699f\", [{\"type\": \"pie\", \"values\": [2, 3, 2, 2], \"labels\": [\"Bachelor\\u2019s Degree\", \"Postgraduate Degree\", \"Some College / Associate\\u2019s Degree\", \"High school diploma\"]}], {\"title\": \"Population Distribution of education level\"}, {\"showLink\": true, \"linkText\": \"Export to plot.ly\"})});</script>"
      ]
     },
     "metadata": {},
     "output_type": "display_data"
    },
    {
     "data": {
      "application/vnd.plotly.v1+json": {
       "data": [
        {
         "type": "histogram",
         "x": [
          0,
          0,
          0,
          0,
          0,
          0,
          0,
          0,
          0
         ]
        }
       ],
       "layout": {
        "title": "Distribution of mbox project",
        "xaxis": {
         "title": "mbox project"
        },
        "yaxis": {
         "title": "Population"
        }
       }
      },
      "text/html": [
       "<div id=\"73815dd1-ff82-40bc-a55d-157f0c59cc2c\" style=\"height: 525px; width: 100%;\" class=\"plotly-graph-div\"></div><script type=\"text/javascript\">require([\"plotly\"], function(Plotly) { window.PLOTLYENV=window.PLOTLYENV || {};window.PLOTLYENV.BASE_URL=\"https://plot.ly\";Plotly.newPlot(\"73815dd1-ff82-40bc-a55d-157f0c59cc2c\", [{\"type\": \"histogram\", \"x\": [0, 0, 0, 0, 0, 0, 0, 0, 0]}], {\"xaxis\": {\"title\": \"mbox project\"}, \"title\": \"Distribution of mbox project\", \"yaxis\": {\"title\": \"Population\"}}, {\"showLink\": true, \"linkText\": \"Export to plot.ly\"})});</script>"
      ],
      "text/vnd.plotly.v1+html": [
       "<div id=\"73815dd1-ff82-40bc-a55d-157f0c59cc2c\" style=\"height: 525px; width: 100%;\" class=\"plotly-graph-div\"></div><script type=\"text/javascript\">require([\"plotly\"], function(Plotly) { window.PLOTLYENV=window.PLOTLYENV || {};window.PLOTLYENV.BASE_URL=\"https://plot.ly\";Plotly.newPlot(\"73815dd1-ff82-40bc-a55d-157f0c59cc2c\", [{\"type\": \"histogram\", \"x\": [0, 0, 0, 0, 0, 0, 0, 0, 0]}], {\"xaxis\": {\"title\": \"mbox project\"}, \"title\": \"Distribution of mbox project\", \"yaxis\": {\"title\": \"Population\"}}, {\"showLink\": true, \"linkText\": \"Export to plot.ly\"})});</script>"
      ]
     },
     "metadata": {},
     "output_type": "display_data"
    },
    {
     "data": {
      "application/vnd.plotly.v1+json": {
       "data": [
        {
         "boxpoints": "all",
         "jitter": 0.5,
         "marker": {
          "size": 2
         },
         "name": "Bachelor’s Degree(2)",
         "type": "box",
         "y": [
          0,
          0
         ]
        },
        {
         "boxpoints": "all",
         "jitter": 0.5,
         "marker": {
          "size": 2
         },
         "name": "Postgraduate Degree(3)",
         "type": "box",
         "y": [
          0,
          0,
          1
         ]
        },
        {
         "boxpoints": "all",
         "jitter": 0.5,
         "marker": {
          "size": 2
         },
         "name": "Some College / Associate’s Degree(2)",
         "type": "box",
         "y": [
          0,
          0
         ]
        },
        {
         "boxpoints": "all",
         "jitter": 0.5,
         "marker": {
          "size": 2
         },
         "name": "High school diploma(2)",
         "type": "box",
         "y": [
          0,
          0
         ]
        }
       ],
       "layout": {
        "title": "education level vs discourse project",
        "xaxis": {
         "title": "education level"
        },
        "yaxis": {
         "title": "discourse project"
        }
       }
      },
      "text/html": [
       "<div id=\"15e92bb6-6acc-40fc-bc0d-3914c0a228f6\" style=\"height: 525px; width: 100%;\" class=\"plotly-graph-div\"></div><script type=\"text/javascript\">require([\"plotly\"], function(Plotly) { window.PLOTLYENV=window.PLOTLYENV || {};window.PLOTLYENV.BASE_URL=\"https://plot.ly\";Plotly.newPlot(\"15e92bb6-6acc-40fc-bc0d-3914c0a228f6\", [{\"type\": \"box\", \"boxpoints\": \"all\", \"name\": \"Bachelor\\u2019s Degree(2)\", \"marker\": {\"size\": 2}, \"y\": [0, 0], \"jitter\": 0.5}, {\"type\": \"box\", \"boxpoints\": \"all\", \"name\": \"Postgraduate Degree(3)\", \"marker\": {\"size\": 2}, \"y\": [0, 0, 1], \"jitter\": 0.5}, {\"type\": \"box\", \"boxpoints\": \"all\", \"name\": \"Some College / Associate\\u2019s Degree(2)\", \"marker\": {\"size\": 2}, \"y\": [0, 0], \"jitter\": 0.5}, {\"type\": \"box\", \"boxpoints\": \"all\", \"name\": \"High school diploma(2)\", \"marker\": {\"size\": 2}, \"y\": [0, 0], \"jitter\": 0.5}], {\"xaxis\": {\"title\": \"education level\"}, \"title\": \"education level vs discourse project\", \"yaxis\": {\"title\": \"discourse project\"}}, {\"showLink\": true, \"linkText\": \"Export to plot.ly\"})});</script>"
      ],
      "text/vnd.plotly.v1+html": [
       "<div id=\"15e92bb6-6acc-40fc-bc0d-3914c0a228f6\" style=\"height: 525px; width: 100%;\" class=\"plotly-graph-div\"></div><script type=\"text/javascript\">require([\"plotly\"], function(Plotly) { window.PLOTLYENV=window.PLOTLYENV || {};window.PLOTLYENV.BASE_URL=\"https://plot.ly\";Plotly.newPlot(\"15e92bb6-6acc-40fc-bc0d-3914c0a228f6\", [{\"type\": \"box\", \"boxpoints\": \"all\", \"name\": \"Bachelor\\u2019s Degree(2)\", \"marker\": {\"size\": 2}, \"y\": [0, 0], \"jitter\": 0.5}, {\"type\": \"box\", \"boxpoints\": \"all\", \"name\": \"Postgraduate Degree(3)\", \"marker\": {\"size\": 2}, \"y\": [0, 0, 1], \"jitter\": 0.5}, {\"type\": \"box\", \"boxpoints\": \"all\", \"name\": \"Some College / Associate\\u2019s Degree(2)\", \"marker\": {\"size\": 2}, \"y\": [0, 0], \"jitter\": 0.5}, {\"type\": \"box\", \"boxpoints\": \"all\", \"name\": \"High school diploma(2)\", \"marker\": {\"size\": 2}, \"y\": [0, 0], \"jitter\": 0.5}], {\"xaxis\": {\"title\": \"education level\"}, \"title\": \"education level vs discourse project\", \"yaxis\": {\"title\": \"discourse project\"}}, {\"showLink\": true, \"linkText\": \"Export to plot.ly\"})});</script>"
      ]
     },
     "metadata": {},
     "output_type": "display_data"
    },
    {
     "data": {
      "application/vnd.plotly.v1+json": {
       "data": [
        {
         "labels": [
          "Bachelor’s Degree",
          "Postgraduate Degree",
          "Some College / Associate’s Degree",
          "High school diploma"
         ],
         "type": "pie",
         "values": [
          2,
          3,
          2,
          2
         ]
        }
       ],
       "layout": {
        "title": "Population Distribution of education level"
       }
      },
      "text/html": [
       "<div id=\"30836e52-e5d2-4efd-a7f8-3f08ede8fe9b\" style=\"height: 525px; width: 100%;\" class=\"plotly-graph-div\"></div><script type=\"text/javascript\">require([\"plotly\"], function(Plotly) { window.PLOTLYENV=window.PLOTLYENV || {};window.PLOTLYENV.BASE_URL=\"https://plot.ly\";Plotly.newPlot(\"30836e52-e5d2-4efd-a7f8-3f08ede8fe9b\", [{\"type\": \"pie\", \"values\": [2, 3, 2, 2], \"labels\": [\"Bachelor\\u2019s Degree\", \"Postgraduate Degree\", \"Some College / Associate\\u2019s Degree\", \"High school diploma\"]}], {\"title\": \"Population Distribution of education level\"}, {\"showLink\": true, \"linkText\": \"Export to plot.ly\"})});</script>"
      ],
      "text/vnd.plotly.v1+html": [
       "<div id=\"30836e52-e5d2-4efd-a7f8-3f08ede8fe9b\" style=\"height: 525px; width: 100%;\" class=\"plotly-graph-div\"></div><script type=\"text/javascript\">require([\"plotly\"], function(Plotly) { window.PLOTLYENV=window.PLOTLYENV || {};window.PLOTLYENV.BASE_URL=\"https://plot.ly\";Plotly.newPlot(\"30836e52-e5d2-4efd-a7f8-3f08ede8fe9b\", [{\"type\": \"pie\", \"values\": [2, 3, 2, 2], \"labels\": [\"Bachelor\\u2019s Degree\", \"Postgraduate Degree\", \"Some College / Associate\\u2019s Degree\", \"High school diploma\"]}], {\"title\": \"Population Distribution of education level\"}, {\"showLink\": true, \"linkText\": \"Export to plot.ly\"})});</script>"
      ]
     },
     "metadata": {},
     "output_type": "display_data"
    },
    {
     "data": {
      "application/vnd.plotly.v1+json": {
       "data": [
        {
         "type": "histogram",
         "x": [
          0,
          0,
          0,
          0,
          1,
          0,
          0,
          0,
          0
         ]
        }
       ],
       "layout": {
        "title": "Distribution of discourse project",
        "xaxis": {
         "title": "discourse project"
        },
        "yaxis": {
         "title": "Population"
        }
       }
      },
      "text/html": [
       "<div id=\"02549dd9-1e72-46fc-85a7-f55dd6319073\" style=\"height: 525px; width: 100%;\" class=\"plotly-graph-div\"></div><script type=\"text/javascript\">require([\"plotly\"], function(Plotly) { window.PLOTLYENV=window.PLOTLYENV || {};window.PLOTLYENV.BASE_URL=\"https://plot.ly\";Plotly.newPlot(\"02549dd9-1e72-46fc-85a7-f55dd6319073\", [{\"type\": \"histogram\", \"x\": [0, 0, 0, 0, 1, 0, 0, 0, 0]}], {\"xaxis\": {\"title\": \"discourse project\"}, \"title\": \"Distribution of discourse project\", \"yaxis\": {\"title\": \"Population\"}}, {\"showLink\": true, \"linkText\": \"Export to plot.ly\"})});</script>"
      ],
      "text/vnd.plotly.v1+html": [
       "<div id=\"02549dd9-1e72-46fc-85a7-f55dd6319073\" style=\"height: 525px; width: 100%;\" class=\"plotly-graph-div\"></div><script type=\"text/javascript\">require([\"plotly\"], function(Plotly) { window.PLOTLYENV=window.PLOTLYENV || {};window.PLOTLYENV.BASE_URL=\"https://plot.ly\";Plotly.newPlot(\"02549dd9-1e72-46fc-85a7-f55dd6319073\", [{\"type\": \"histogram\", \"x\": [0, 0, 0, 0, 1, 0, 0, 0, 0]}], {\"xaxis\": {\"title\": \"discourse project\"}, \"title\": \"Distribution of discourse project\", \"yaxis\": {\"title\": \"Population\"}}, {\"showLink\": true, \"linkText\": \"Export to plot.ly\"})});</script>"
      ]
     },
     "metadata": {},
     "output_type": "display_data"
    },
    {
     "data": {
      "application/vnd.plotly.v1+json": {
       "data": [
        {
         "boxpoints": "all",
         "jitter": 0.5,
         "marker": {
          "size": 2
         },
         "name": "Bachelor’s Degree(2)",
         "type": "box",
         "y": [
          2,
          null
         ]
        },
        {
         "boxpoints": "all",
         "jitter": 0.5,
         "marker": {
          "size": 2
         },
         "name": "Postgraduate Degree(3)",
         "type": "box",
         "y": [
          3,
          2,
          null
         ]
        },
        {
         "boxpoints": "all",
         "jitter": 0.5,
         "marker": {
          "size": 2
         },
         "name": "Some College / Associate’s Degree(2)",
         "type": "box",
         "y": [
          2,
          1
         ]
        },
        {
         "boxpoints": "all",
         "jitter": 0.5,
         "marker": {
          "size": 2
         },
         "name": "High school diploma(2)",
         "type": "box",
         "y": [
          1,
          null
         ]
        }
       ],
       "layout": {
        "title": "education level vs exp",
        "xaxis": {
         "title": "education level"
        },
        "yaxis": {
         "title": "exp"
        }
       }
      },
      "text/html": [
       "<div id=\"9e75df1d-2abb-49d0-b9a1-814e16619b15\" style=\"height: 525px; width: 100%;\" class=\"plotly-graph-div\"></div><script type=\"text/javascript\">require([\"plotly\"], function(Plotly) { window.PLOTLYENV=window.PLOTLYENV || {};window.PLOTLYENV.BASE_URL=\"https://plot.ly\";Plotly.newPlot(\"9e75df1d-2abb-49d0-b9a1-814e16619b15\", [{\"type\": \"box\", \"boxpoints\": \"all\", \"name\": \"Bachelor\\u2019s Degree(2)\", \"marker\": {\"size\": 2}, \"y\": [2.0, null], \"jitter\": 0.5}, {\"type\": \"box\", \"boxpoints\": \"all\", \"name\": \"Postgraduate Degree(3)\", \"marker\": {\"size\": 2}, \"y\": [3.0, 2.0, null], \"jitter\": 0.5}, {\"type\": \"box\", \"boxpoints\": \"all\", \"name\": \"Some College / Associate\\u2019s Degree(2)\", \"marker\": {\"size\": 2}, \"y\": [2.0, 1.0], \"jitter\": 0.5}, {\"type\": \"box\", \"boxpoints\": \"all\", \"name\": \"High school diploma(2)\", \"marker\": {\"size\": 2}, \"y\": [1.0, null], \"jitter\": 0.5}], {\"xaxis\": {\"title\": \"education level\"}, \"title\": \"education level vs exp\", \"yaxis\": {\"title\": \"exp\"}}, {\"showLink\": true, \"linkText\": \"Export to plot.ly\"})});</script>"
      ],
      "text/vnd.plotly.v1+html": [
       "<div id=\"9e75df1d-2abb-49d0-b9a1-814e16619b15\" style=\"height: 525px; width: 100%;\" class=\"plotly-graph-div\"></div><script type=\"text/javascript\">require([\"plotly\"], function(Plotly) { window.PLOTLYENV=window.PLOTLYENV || {};window.PLOTLYENV.BASE_URL=\"https://plot.ly\";Plotly.newPlot(\"9e75df1d-2abb-49d0-b9a1-814e16619b15\", [{\"type\": \"box\", \"boxpoints\": \"all\", \"name\": \"Bachelor\\u2019s Degree(2)\", \"marker\": {\"size\": 2}, \"y\": [2.0, null], \"jitter\": 0.5}, {\"type\": \"box\", \"boxpoints\": \"all\", \"name\": \"Postgraduate Degree(3)\", \"marker\": {\"size\": 2}, \"y\": [3.0, 2.0, null], \"jitter\": 0.5}, {\"type\": \"box\", \"boxpoints\": \"all\", \"name\": \"Some College / Associate\\u2019s Degree(2)\", \"marker\": {\"size\": 2}, \"y\": [2.0, 1.0], \"jitter\": 0.5}, {\"type\": \"box\", \"boxpoints\": \"all\", \"name\": \"High school diploma(2)\", \"marker\": {\"size\": 2}, \"y\": [1.0, null], \"jitter\": 0.5}], {\"xaxis\": {\"title\": \"education level\"}, \"title\": \"education level vs exp\", \"yaxis\": {\"title\": \"exp\"}}, {\"showLink\": true, \"linkText\": \"Export to plot.ly\"})});</script>"
      ]
     },
     "metadata": {},
     "output_type": "display_data"
    },
    {
     "data": {
      "application/vnd.plotly.v1+json": {
       "data": [
        {
         "labels": [
          "Bachelor’s Degree",
          "Postgraduate Degree",
          "Some College / Associate’s Degree",
          "High school diploma"
         ],
         "type": "pie",
         "values": [
          2,
          3,
          2,
          2
         ]
        }
       ],
       "layout": {
        "title": "Population Distribution of education level"
       }
      },
      "text/html": [
       "<div id=\"861b141e-440e-42d6-b30d-77368e3527b3\" style=\"height: 525px; width: 100%;\" class=\"plotly-graph-div\"></div><script type=\"text/javascript\">require([\"plotly\"], function(Plotly) { window.PLOTLYENV=window.PLOTLYENV || {};window.PLOTLYENV.BASE_URL=\"https://plot.ly\";Plotly.newPlot(\"861b141e-440e-42d6-b30d-77368e3527b3\", [{\"type\": \"pie\", \"values\": [2, 3, 2, 2], \"labels\": [\"Bachelor\\u2019s Degree\", \"Postgraduate Degree\", \"Some College / Associate\\u2019s Degree\", \"High school diploma\"]}], {\"title\": \"Population Distribution of education level\"}, {\"showLink\": true, \"linkText\": \"Export to plot.ly\"})});</script>"
      ],
      "text/vnd.plotly.v1+html": [
       "<div id=\"861b141e-440e-42d6-b30d-77368e3527b3\" style=\"height: 525px; width: 100%;\" class=\"plotly-graph-div\"></div><script type=\"text/javascript\">require([\"plotly\"], function(Plotly) { window.PLOTLYENV=window.PLOTLYENV || {};window.PLOTLYENV.BASE_URL=\"https://plot.ly\";Plotly.newPlot(\"861b141e-440e-42d6-b30d-77368e3527b3\", [{\"type\": \"pie\", \"values\": [2, 3, 2, 2], \"labels\": [\"Bachelor\\u2019s Degree\", \"Postgraduate Degree\", \"Some College / Associate\\u2019s Degree\", \"High school diploma\"]}], {\"title\": \"Population Distribution of education level\"}, {\"showLink\": true, \"linkText\": \"Export to plot.ly\"})});</script>"
      ]
     },
     "metadata": {},
     "output_type": "display_data"
    },
    {
     "data": {
      "application/vnd.plotly.v1+json": {
       "data": [
        {
         "type": "histogram",
         "x": [
          2,
          null,
          3,
          2,
          null,
          2,
          1,
          1,
          null
         ]
        }
       ],
       "layout": {
        "title": "Distribution of exp",
        "xaxis": {
         "title": "exp"
        },
        "yaxis": {
         "title": "Population"
        }
       }
      },
      "text/html": [
       "<div id=\"2ff60ea4-e92e-4951-9159-40a00dc16108\" style=\"height: 525px; width: 100%;\" class=\"plotly-graph-div\"></div><script type=\"text/javascript\">require([\"plotly\"], function(Plotly) { window.PLOTLYENV=window.PLOTLYENV || {};window.PLOTLYENV.BASE_URL=\"https://plot.ly\";Plotly.newPlot(\"2ff60ea4-e92e-4951-9159-40a00dc16108\", [{\"type\": \"histogram\", \"x\": [2.0, null, 3.0, 2.0, null, 2.0, 1.0, 1.0, null]}], {\"xaxis\": {\"title\": \"exp\"}, \"title\": \"Distribution of exp\", \"yaxis\": {\"title\": \"Population\"}}, {\"showLink\": true, \"linkText\": \"Export to plot.ly\"})});</script>"
      ],
      "text/vnd.plotly.v1+html": [
       "<div id=\"2ff60ea4-e92e-4951-9159-40a00dc16108\" style=\"height: 525px; width: 100%;\" class=\"plotly-graph-div\"></div><script type=\"text/javascript\">require([\"plotly\"], function(Plotly) { window.PLOTLYENV=window.PLOTLYENV || {};window.PLOTLYENV.BASE_URL=\"https://plot.ly\";Plotly.newPlot(\"2ff60ea4-e92e-4951-9159-40a00dc16108\", [{\"type\": \"histogram\", \"x\": [2.0, null, 3.0, 2.0, null, 2.0, 1.0, 1.0, null]}], {\"xaxis\": {\"title\": \"exp\"}, \"title\": \"Distribution of exp\", \"yaxis\": {\"title\": \"Population\"}}, {\"showLink\": true, \"linkText\": \"Export to plot.ly\"})});</script>"
      ]
     },
     "metadata": {},
     "output_type": "display_data"
    },
    {
     "data": {
      "application/vnd.plotly.v1+json": {
       "data": [
        {
         "boxpoints": "all",
         "jitter": 0.5,
         "marker": {
          "size": 2
         },
         "name": "Bachelor’s Degree(2)",
         "type": "box",
         "y": [
          "2016",
          null
         ]
        },
        {
         "boxpoints": "all",
         "jitter": 0.5,
         "marker": {
          "size": 2
         },
         "name": "Postgraduate Degree(3)",
         "type": "box",
         "y": [
          "2015",
          "2016",
          null
         ]
        },
        {
         "boxpoints": "all",
         "jitter": 0.5,
         "marker": {
          "size": 2
         },
         "name": "Some College / Associate’s Degree(2)",
         "type": "box",
         "y": [
          "2016",
          "2017"
         ]
        },
        {
         "boxpoints": "all",
         "jitter": 0.5,
         "marker": {
          "size": 2
         },
         "name": "High school diploma(2)",
         "type": "box",
         "y": [
          "2016",
          null
         ]
        }
       ],
       "layout": {
        "title": "education level vs first commit",
        "xaxis": {
         "title": "education level"
        },
        "yaxis": {
         "title": "first commit"
        }
       }
      },
      "text/html": [
       "<div id=\"3439d424-3802-4018-bfb0-225b620c2455\" style=\"height: 525px; width: 100%;\" class=\"plotly-graph-div\"></div><script type=\"text/javascript\">require([\"plotly\"], function(Plotly) { window.PLOTLYENV=window.PLOTLYENV || {};window.PLOTLYENV.BASE_URL=\"https://plot.ly\";Plotly.newPlot(\"3439d424-3802-4018-bfb0-225b620c2455\", [{\"type\": \"box\", \"boxpoints\": \"all\", \"name\": \"Bachelor\\u2019s Degree(2)\", \"marker\": {\"size\": 2}, \"y\": [\"2016\", null], \"jitter\": 0.5}, {\"type\": \"box\", \"boxpoints\": \"all\", \"name\": \"Postgraduate Degree(3)\", \"marker\": {\"size\": 2}, \"y\": [\"2015\", \"2016\", null], \"jitter\": 0.5}, {\"type\": \"box\", \"boxpoints\": \"all\", \"name\": \"Some College / Associate\\u2019s Degree(2)\", \"marker\": {\"size\": 2}, \"y\": [\"2016\", \"2017\"], \"jitter\": 0.5}, {\"type\": \"box\", \"boxpoints\": \"all\", \"name\": \"High school diploma(2)\", \"marker\": {\"size\": 2}, \"y\": [\"2016\", null], \"jitter\": 0.5}], {\"xaxis\": {\"title\": \"education level\"}, \"title\": \"education level vs first commit\", \"yaxis\": {\"title\": \"first commit\"}}, {\"showLink\": true, \"linkText\": \"Export to plot.ly\"})});</script>"
      ],
      "text/vnd.plotly.v1+html": [
       "<div id=\"3439d424-3802-4018-bfb0-225b620c2455\" style=\"height: 525px; width: 100%;\" class=\"plotly-graph-div\"></div><script type=\"text/javascript\">require([\"plotly\"], function(Plotly) { window.PLOTLYENV=window.PLOTLYENV || {};window.PLOTLYENV.BASE_URL=\"https://plot.ly\";Plotly.newPlot(\"3439d424-3802-4018-bfb0-225b620c2455\", [{\"type\": \"box\", \"boxpoints\": \"all\", \"name\": \"Bachelor\\u2019s Degree(2)\", \"marker\": {\"size\": 2}, \"y\": [\"2016\", null], \"jitter\": 0.5}, {\"type\": \"box\", \"boxpoints\": \"all\", \"name\": \"Postgraduate Degree(3)\", \"marker\": {\"size\": 2}, \"y\": [\"2015\", \"2016\", null], \"jitter\": 0.5}, {\"type\": \"box\", \"boxpoints\": \"all\", \"name\": \"Some College / Associate\\u2019s Degree(2)\", \"marker\": {\"size\": 2}, \"y\": [\"2016\", \"2017\"], \"jitter\": 0.5}, {\"type\": \"box\", \"boxpoints\": \"all\", \"name\": \"High school diploma(2)\", \"marker\": {\"size\": 2}, \"y\": [\"2016\", null], \"jitter\": 0.5}], {\"xaxis\": {\"title\": \"education level\"}, \"title\": \"education level vs first commit\", \"yaxis\": {\"title\": \"first commit\"}}, {\"showLink\": true, \"linkText\": \"Export to plot.ly\"})});</script>"
      ]
     },
     "metadata": {},
     "output_type": "display_data"
    },
    {
     "data": {
      "application/vnd.plotly.v1+json": {
       "data": [
        {
         "labels": [
          "Bachelor’s Degree",
          "Postgraduate Degree",
          "Some College / Associate’s Degree",
          "High school diploma"
         ],
         "type": "pie",
         "values": [
          2,
          3,
          2,
          2
         ]
        }
       ],
       "layout": {
        "title": "Population Distribution of education level"
       }
      },
      "text/html": [
       "<div id=\"bd95c2ff-f360-4e5e-9ecc-1cc4635c270b\" style=\"height: 525px; width: 100%;\" class=\"plotly-graph-div\"></div><script type=\"text/javascript\">require([\"plotly\"], function(Plotly) { window.PLOTLYENV=window.PLOTLYENV || {};window.PLOTLYENV.BASE_URL=\"https://plot.ly\";Plotly.newPlot(\"bd95c2ff-f360-4e5e-9ecc-1cc4635c270b\", [{\"type\": \"pie\", \"values\": [2, 3, 2, 2], \"labels\": [\"Bachelor\\u2019s Degree\", \"Postgraduate Degree\", \"Some College / Associate\\u2019s Degree\", \"High school diploma\"]}], {\"title\": \"Population Distribution of education level\"}, {\"showLink\": true, \"linkText\": \"Export to plot.ly\"})});</script>"
      ],
      "text/vnd.plotly.v1+html": [
       "<div id=\"bd95c2ff-f360-4e5e-9ecc-1cc4635c270b\" style=\"height: 525px; width: 100%;\" class=\"plotly-graph-div\"></div><script type=\"text/javascript\">require([\"plotly\"], function(Plotly) { window.PLOTLYENV=window.PLOTLYENV || {};window.PLOTLYENV.BASE_URL=\"https://plot.ly\";Plotly.newPlot(\"bd95c2ff-f360-4e5e-9ecc-1cc4635c270b\", [{\"type\": \"pie\", \"values\": [2, 3, 2, 2], \"labels\": [\"Bachelor\\u2019s Degree\", \"Postgraduate Degree\", \"Some College / Associate\\u2019s Degree\", \"High school diploma\"]}], {\"title\": \"Population Distribution of education level\"}, {\"showLink\": true, \"linkText\": \"Export to plot.ly\"})});</script>"
      ]
     },
     "metadata": {},
     "output_type": "display_data"
    },
    {
     "data": {
      "application/vnd.plotly.v1+json": {
       "data": [
        {
         "type": "histogram",
         "x": [
          "2016",
          null,
          "2015",
          "2016",
          null,
          "2016",
          "2017",
          "2016",
          null
         ]
        }
       ],
       "layout": {
        "title": "Distribution of first commit",
        "xaxis": {
         "title": "first commit"
        },
        "yaxis": {
         "title": "Population"
        }
       }
      },
      "text/html": [
       "<div id=\"1e1678a7-af2c-4a2a-8da2-a76182440375\" style=\"height: 525px; width: 100%;\" class=\"plotly-graph-div\"></div><script type=\"text/javascript\">require([\"plotly\"], function(Plotly) { window.PLOTLYENV=window.PLOTLYENV || {};window.PLOTLYENV.BASE_URL=\"https://plot.ly\";Plotly.newPlot(\"1e1678a7-af2c-4a2a-8da2-a76182440375\", [{\"type\": \"histogram\", \"x\": [\"2016\", null, \"2015\", \"2016\", null, \"2016\", \"2017\", \"2016\", null]}], {\"xaxis\": {\"title\": \"first commit\"}, \"title\": \"Distribution of first commit\", \"yaxis\": {\"title\": \"Population\"}}, {\"showLink\": true, \"linkText\": \"Export to plot.ly\"})});</script>"
      ],
      "text/vnd.plotly.v1+html": [
       "<div id=\"1e1678a7-af2c-4a2a-8da2-a76182440375\" style=\"height: 525px; width: 100%;\" class=\"plotly-graph-div\"></div><script type=\"text/javascript\">require([\"plotly\"], function(Plotly) { window.PLOTLYENV=window.PLOTLYENV || {};window.PLOTLYENV.BASE_URL=\"https://plot.ly\";Plotly.newPlot(\"1e1678a7-af2c-4a2a-8da2-a76182440375\", [{\"type\": \"histogram\", \"x\": [\"2016\", null, \"2015\", \"2016\", null, \"2016\", \"2017\", \"2016\", null]}], {\"xaxis\": {\"title\": \"first commit\"}, \"title\": \"Distribution of first commit\", \"yaxis\": {\"title\": \"Population\"}}, {\"showLink\": true, \"linkText\": \"Export to plot.ly\"})});</script>"
      ]
     },
     "metadata": {},
     "output_type": "display_data"
    },
    {
     "data": {
      "application/vnd.plotly.v1+json": {
       "data": [
        {
         "boxpoints": "all",
         "jitter": 0.5,
         "marker": {
          "size": 2
         },
         "name": "Bachelor’s Degree(2)",
         "type": "box",
         "y": [
          "2017",
          null
         ]
        },
        {
         "boxpoints": "all",
         "jitter": 0.5,
         "marker": {
          "size": 2
         },
         "name": "Postgraduate Degree(3)",
         "type": "box",
         "y": [
          "2017",
          "2017",
          null
         ]
        },
        {
         "boxpoints": "all",
         "jitter": 0.5,
         "marker": {
          "size": 2
         },
         "name": "Some College / Associate’s Degree(2)",
         "type": "box",
         "y": [
          "2017",
          "2017"
         ]
        },
        {
         "boxpoints": "all",
         "jitter": 0.5,
         "marker": {
          "size": 2
         },
         "name": "High school diploma(2)",
         "type": "box",
         "y": [
          "2016",
          null
         ]
        }
       ],
       "layout": {
        "title": "education level vs last commit",
        "xaxis": {
         "title": "education level"
        },
        "yaxis": {
         "title": "last commit"
        }
       }
      },
      "text/html": [
       "<div id=\"af07d02f-fbde-451f-87e7-9a354f2a4b4e\" style=\"height: 525px; width: 100%;\" class=\"plotly-graph-div\"></div><script type=\"text/javascript\">require([\"plotly\"], function(Plotly) { window.PLOTLYENV=window.PLOTLYENV || {};window.PLOTLYENV.BASE_URL=\"https://plot.ly\";Plotly.newPlot(\"af07d02f-fbde-451f-87e7-9a354f2a4b4e\", [{\"type\": \"box\", \"boxpoints\": \"all\", \"name\": \"Bachelor\\u2019s Degree(2)\", \"marker\": {\"size\": 2}, \"y\": [\"2017\", null], \"jitter\": 0.5}, {\"type\": \"box\", \"boxpoints\": \"all\", \"name\": \"Postgraduate Degree(3)\", \"marker\": {\"size\": 2}, \"y\": [\"2017\", \"2017\", null], \"jitter\": 0.5}, {\"type\": \"box\", \"boxpoints\": \"all\", \"name\": \"Some College / Associate\\u2019s Degree(2)\", \"marker\": {\"size\": 2}, \"y\": [\"2017\", \"2017\"], \"jitter\": 0.5}, {\"type\": \"box\", \"boxpoints\": \"all\", \"name\": \"High school diploma(2)\", \"marker\": {\"size\": 2}, \"y\": [\"2016\", null], \"jitter\": 0.5}], {\"xaxis\": {\"title\": \"education level\"}, \"title\": \"education level vs last commit\", \"yaxis\": {\"title\": \"last commit\"}}, {\"showLink\": true, \"linkText\": \"Export to plot.ly\"})});</script>"
      ],
      "text/vnd.plotly.v1+html": [
       "<div id=\"af07d02f-fbde-451f-87e7-9a354f2a4b4e\" style=\"height: 525px; width: 100%;\" class=\"plotly-graph-div\"></div><script type=\"text/javascript\">require([\"plotly\"], function(Plotly) { window.PLOTLYENV=window.PLOTLYENV || {};window.PLOTLYENV.BASE_URL=\"https://plot.ly\";Plotly.newPlot(\"af07d02f-fbde-451f-87e7-9a354f2a4b4e\", [{\"type\": \"box\", \"boxpoints\": \"all\", \"name\": \"Bachelor\\u2019s Degree(2)\", \"marker\": {\"size\": 2}, \"y\": [\"2017\", null], \"jitter\": 0.5}, {\"type\": \"box\", \"boxpoints\": \"all\", \"name\": \"Postgraduate Degree(3)\", \"marker\": {\"size\": 2}, \"y\": [\"2017\", \"2017\", null], \"jitter\": 0.5}, {\"type\": \"box\", \"boxpoints\": \"all\", \"name\": \"Some College / Associate\\u2019s Degree(2)\", \"marker\": {\"size\": 2}, \"y\": [\"2017\", \"2017\"], \"jitter\": 0.5}, {\"type\": \"box\", \"boxpoints\": \"all\", \"name\": \"High school diploma(2)\", \"marker\": {\"size\": 2}, \"y\": [\"2016\", null], \"jitter\": 0.5}], {\"xaxis\": {\"title\": \"education level\"}, \"title\": \"education level vs last commit\", \"yaxis\": {\"title\": \"last commit\"}}, {\"showLink\": true, \"linkText\": \"Export to plot.ly\"})});</script>"
      ]
     },
     "metadata": {},
     "output_type": "display_data"
    },
    {
     "data": {
      "application/vnd.plotly.v1+json": {
       "data": [
        {
         "labels": [
          "Bachelor’s Degree",
          "Postgraduate Degree",
          "Some College / Associate’s Degree",
          "High school diploma"
         ],
         "type": "pie",
         "values": [
          2,
          3,
          2,
          2
         ]
        }
       ],
       "layout": {
        "title": "Population Distribution of education level"
       }
      },
      "text/html": [
       "<div id=\"41f9840e-ba57-4c29-8251-b199bcce25ab\" style=\"height: 525px; width: 100%;\" class=\"plotly-graph-div\"></div><script type=\"text/javascript\">require([\"plotly\"], function(Plotly) { window.PLOTLYENV=window.PLOTLYENV || {};window.PLOTLYENV.BASE_URL=\"https://plot.ly\";Plotly.newPlot(\"41f9840e-ba57-4c29-8251-b199bcce25ab\", [{\"type\": \"pie\", \"values\": [2, 3, 2, 2], \"labels\": [\"Bachelor\\u2019s Degree\", \"Postgraduate Degree\", \"Some College / Associate\\u2019s Degree\", \"High school diploma\"]}], {\"title\": \"Population Distribution of education level\"}, {\"showLink\": true, \"linkText\": \"Export to plot.ly\"})});</script>"
      ],
      "text/vnd.plotly.v1+html": [
       "<div id=\"41f9840e-ba57-4c29-8251-b199bcce25ab\" style=\"height: 525px; width: 100%;\" class=\"plotly-graph-div\"></div><script type=\"text/javascript\">require([\"plotly\"], function(Plotly) { window.PLOTLYENV=window.PLOTLYENV || {};window.PLOTLYENV.BASE_URL=\"https://plot.ly\";Plotly.newPlot(\"41f9840e-ba57-4c29-8251-b199bcce25ab\", [{\"type\": \"pie\", \"values\": [2, 3, 2, 2], \"labels\": [\"Bachelor\\u2019s Degree\", \"Postgraduate Degree\", \"Some College / Associate\\u2019s Degree\", \"High school diploma\"]}], {\"title\": \"Population Distribution of education level\"}, {\"showLink\": true, \"linkText\": \"Export to plot.ly\"})});</script>"
      ]
     },
     "metadata": {},
     "output_type": "display_data"
    },
    {
     "data": {
      "application/vnd.plotly.v1+json": {
       "data": [
        {
         "type": "histogram",
         "x": [
          "2017",
          null,
          "2017",
          "2017",
          null,
          "2017",
          "2017",
          "2016",
          null
         ]
        }
       ],
       "layout": {
        "title": "Distribution of last commit",
        "xaxis": {
         "title": "last commit"
        },
        "yaxis": {
         "title": "Population"
        }
       }
      },
      "text/html": [
       "<div id=\"180e0d03-f763-4cbe-b56a-412b7af6ab6b\" style=\"height: 525px; width: 100%;\" class=\"plotly-graph-div\"></div><script type=\"text/javascript\">require([\"plotly\"], function(Plotly) { window.PLOTLYENV=window.PLOTLYENV || {};window.PLOTLYENV.BASE_URL=\"https://plot.ly\";Plotly.newPlot(\"180e0d03-f763-4cbe-b56a-412b7af6ab6b\", [{\"type\": \"histogram\", \"x\": [\"2017\", null, \"2017\", \"2017\", null, \"2017\", \"2017\", \"2016\", null]}], {\"xaxis\": {\"title\": \"last commit\"}, \"title\": \"Distribution of last commit\", \"yaxis\": {\"title\": \"Population\"}}, {\"showLink\": true, \"linkText\": \"Export to plot.ly\"})});</script>"
      ],
      "text/vnd.plotly.v1+html": [
       "<div id=\"180e0d03-f763-4cbe-b56a-412b7af6ab6b\" style=\"height: 525px; width: 100%;\" class=\"plotly-graph-div\"></div><script type=\"text/javascript\">require([\"plotly\"], function(Plotly) { window.PLOTLYENV=window.PLOTLYENV || {};window.PLOTLYENV.BASE_URL=\"https://plot.ly\";Plotly.newPlot(\"180e0d03-f763-4cbe-b56a-412b7af6ab6b\", [{\"type\": \"histogram\", \"x\": [\"2017\", null, \"2017\", \"2017\", null, \"2017\", \"2017\", \"2016\", null]}], {\"xaxis\": {\"title\": \"last commit\"}, \"title\": \"Distribution of last commit\", \"yaxis\": {\"title\": \"Population\"}}, {\"showLink\": true, \"linkText\": \"Export to plot.ly\"})});</script>"
      ]
     },
     "metadata": {},
     "output_type": "display_data"
    },
    {
     "data": {
      "application/vnd.plotly.v1+json": {
       "data": [
        {
         "boxpoints": "all",
         "jitter": 0.5,
         "marker": {
          "size": 2
         },
         "name": "Spanish(1)",
         "type": "box",
         "y": [
          1
         ]
        },
        {
         "boxpoints": "all",
         "jitter": 0.5,
         "marker": {
          "size": 2
         },
         "name": "English(5)",
         "type": "box",
         "y": [
          13,
          3,
          0,
          0,
          0
         ]
        },
        {
         "boxpoints": "all",
         "jitter": 0.5,
         "marker": {
          "size": 2
         },
         "name": "Other (please specify)(1)",
         "type": "box",
         "y": [
          7
         ]
        },
        {
         "boxpoints": "all",
         "jitter": 0.5,
         "marker": {
          "size": 2
         },
         "name": "French(1)",
         "type": "box",
         "y": [
          66
         ]
        },
        {
         "boxpoints": "all",
         "jitter": 0.5,
         "marker": {
          "size": 2
         },
         "name": "Hindi(1)",
         "type": "box",
         "y": [
          5
         ]
        }
       ],
       "layout": {
        "title": "language vs commits",
        "xaxis": {
         "title": "language"
        },
        "yaxis": {
         "title": "commits"
        }
       }
      },
      "text/html": [
       "<div id=\"716dd571-39ee-4dd6-a612-316a884a151d\" style=\"height: 525px; width: 100%;\" class=\"plotly-graph-div\"></div><script type=\"text/javascript\">require([\"plotly\"], function(Plotly) { window.PLOTLYENV=window.PLOTLYENV || {};window.PLOTLYENV.BASE_URL=\"https://plot.ly\";Plotly.newPlot(\"716dd571-39ee-4dd6-a612-316a884a151d\", [{\"type\": \"box\", \"boxpoints\": \"all\", \"name\": \"Spanish(1)\", \"marker\": {\"size\": 2}, \"y\": [1.0], \"jitter\": 0.5}, {\"type\": \"box\", \"boxpoints\": \"all\", \"name\": \"English(5)\", \"marker\": {\"size\": 2}, \"y\": [13.0, 3.0, 0.0, 0.0, 0.0], \"jitter\": 0.5}, {\"type\": \"box\", \"boxpoints\": \"all\", \"name\": \"Other (please specify)(1)\", \"marker\": {\"size\": 2}, \"y\": [7.0], \"jitter\": 0.5}, {\"type\": \"box\", \"boxpoints\": \"all\", \"name\": \"French(1)\", \"marker\": {\"size\": 2}, \"y\": [66.0], \"jitter\": 0.5}, {\"type\": \"box\", \"boxpoints\": \"all\", \"name\": \"Hindi(1)\", \"marker\": {\"size\": 2}, \"y\": [5.0], \"jitter\": 0.5}], {\"xaxis\": {\"title\": \"language\"}, \"title\": \"language vs commits\", \"yaxis\": {\"title\": \"commits\"}}, {\"showLink\": true, \"linkText\": \"Export to plot.ly\"})});</script>"
      ],
      "text/vnd.plotly.v1+html": [
       "<div id=\"716dd571-39ee-4dd6-a612-316a884a151d\" style=\"height: 525px; width: 100%;\" class=\"plotly-graph-div\"></div><script type=\"text/javascript\">require([\"plotly\"], function(Plotly) { window.PLOTLYENV=window.PLOTLYENV || {};window.PLOTLYENV.BASE_URL=\"https://plot.ly\";Plotly.newPlot(\"716dd571-39ee-4dd6-a612-316a884a151d\", [{\"type\": \"box\", \"boxpoints\": \"all\", \"name\": \"Spanish(1)\", \"marker\": {\"size\": 2}, \"y\": [1.0], \"jitter\": 0.5}, {\"type\": \"box\", \"boxpoints\": \"all\", \"name\": \"English(5)\", \"marker\": {\"size\": 2}, \"y\": [13.0, 3.0, 0.0, 0.0, 0.0], \"jitter\": 0.5}, {\"type\": \"box\", \"boxpoints\": \"all\", \"name\": \"Other (please specify)(1)\", \"marker\": {\"size\": 2}, \"y\": [7.0], \"jitter\": 0.5}, {\"type\": \"box\", \"boxpoints\": \"all\", \"name\": \"French(1)\", \"marker\": {\"size\": 2}, \"y\": [66.0], \"jitter\": 0.5}, {\"type\": \"box\", \"boxpoints\": \"all\", \"name\": \"Hindi(1)\", \"marker\": {\"size\": 2}, \"y\": [5.0], \"jitter\": 0.5}], {\"xaxis\": {\"title\": \"language\"}, \"title\": \"language vs commits\", \"yaxis\": {\"title\": \"commits\"}}, {\"showLink\": true, \"linkText\": \"Export to plot.ly\"})});</script>"
      ]
     },
     "metadata": {},
     "output_type": "display_data"
    },
    {
     "data": {
      "application/vnd.plotly.v1+json": {
       "data": [
        {
         "labels": [
          "Spanish",
          "English",
          "Other (please specify)",
          "French",
          "Hindi"
         ],
         "type": "pie",
         "values": [
          1,
          5,
          1,
          1,
          1
         ]
        }
       ],
       "layout": {
        "title": "Population Distribution of language"
       }
      },
      "text/html": [
       "<div id=\"a9f6b907-432a-4874-968e-fd50895ab003\" style=\"height: 525px; width: 100%;\" class=\"plotly-graph-div\"></div><script type=\"text/javascript\">require([\"plotly\"], function(Plotly) { window.PLOTLYENV=window.PLOTLYENV || {};window.PLOTLYENV.BASE_URL=\"https://plot.ly\";Plotly.newPlot(\"a9f6b907-432a-4874-968e-fd50895ab003\", [{\"type\": \"pie\", \"values\": [1, 5, 1, 1, 1], \"labels\": [\"Spanish\", \"English\", \"Other (please specify)\", \"French\", \"Hindi\"]}], {\"title\": \"Population Distribution of language\"}, {\"showLink\": true, \"linkText\": \"Export to plot.ly\"})});</script>"
      ],
      "text/vnd.plotly.v1+html": [
       "<div id=\"a9f6b907-432a-4874-968e-fd50895ab003\" style=\"height: 525px; width: 100%;\" class=\"plotly-graph-div\"></div><script type=\"text/javascript\">require([\"plotly\"], function(Plotly) { window.PLOTLYENV=window.PLOTLYENV || {};window.PLOTLYENV.BASE_URL=\"https://plot.ly\";Plotly.newPlot(\"a9f6b907-432a-4874-968e-fd50895ab003\", [{\"type\": \"pie\", \"values\": [1, 5, 1, 1, 1], \"labels\": [\"Spanish\", \"English\", \"Other (please specify)\", \"French\", \"Hindi\"]}], {\"title\": \"Population Distribution of language\"}, {\"showLink\": true, \"linkText\": \"Export to plot.ly\"})});</script>"
      ]
     },
     "metadata": {},
     "output_type": "display_data"
    },
    {
     "data": {
      "application/vnd.plotly.v1+json": {
       "data": [
        {
         "boxpoints": false,
         "name": "Non-employees commits",
         "type": "box",
         "y": [
          1312,
          427,
          314,
          66,
          48,
          38,
          32,
          27,
          18,
          16,
          15,
          14,
          13,
          13,
          13,
          12,
          11,
          10,
          10,
          10,
          9,
          8,
          8,
          7,
          7,
          7,
          7,
          6,
          6,
          6,
          6,
          6,
          6,
          5,
          5,
          5,
          5,
          5,
          5,
          5,
          5,
          5,
          4,
          4,
          4,
          4,
          4,
          4,
          4,
          4,
          4,
          4,
          4,
          4,
          4,
          4,
          3,
          3,
          3,
          3,
          3,
          3,
          3,
          3,
          3,
          3,
          3,
          3,
          3,
          3,
          3,
          3,
          3,
          3,
          3,
          3,
          2,
          2,
          2,
          2,
          2,
          2,
          2,
          2,
          2,
          2,
          2,
          2,
          2,
          2,
          2,
          2,
          2,
          2,
          2,
          2,
          2,
          2,
          2,
          2,
          2,
          2,
          2,
          2,
          2,
          2,
          2,
          2,
          2,
          2,
          2,
          2,
          1,
          1,
          1,
          1,
          1,
          1,
          1,
          1,
          1,
          1,
          1,
          1,
          1,
          1,
          1,
          1,
          1,
          1,
          1,
          1,
          1,
          1,
          1,
          1,
          1,
          1,
          1,
          1,
          1,
          1,
          1,
          1,
          1,
          1,
          1,
          1,
          1,
          1,
          1,
          1,
          1,
          1,
          1,
          1,
          1,
          1,
          1,
          1,
          1,
          1,
          1,
          1,
          1,
          1,
          1,
          1,
          1,
          1,
          1,
          1,
          1,
          1,
          1,
          1,
          1,
          1,
          1,
          1,
          1,
          1,
          1,
          1,
          1,
          1,
          1,
          1,
          1,
          1,
          1,
          1,
          1,
          1,
          1,
          1,
          1,
          1,
          1,
          1,
          1,
          1,
          1,
          1,
          1,
          1,
          1,
          1,
          1,
          1,
          1,
          1,
          1,
          1,
          1,
          1,
          1,
          1,
          1,
          1,
          1
         ]
        },
        {
         "boxpoints": false,
         "name": "Survey commits",
         "type": "box",
         "y": [
          1,
          13,
          3,
          0,
          0,
          0,
          7,
          66,
          5
         ]
        }
       ],
       "layout": {
        "title": "language vs commits",
        "xaxis": {
         "title": "language"
        },
        "yaxis": {
         "range": [
          "0",
          "100"
         ],
         "title": "commits"
        }
       }
      },
      "text/html": [
       "<div id=\"150f6bd3-dafe-4c13-b3b0-604082e17324\" style=\"height: 525px; width: 100%;\" class=\"plotly-graph-div\"></div><script type=\"text/javascript\">require([\"plotly\"], function(Plotly) { window.PLOTLYENV=window.PLOTLYENV || {};window.PLOTLYENV.BASE_URL=\"https://plot.ly\";Plotly.newPlot(\"150f6bd3-dafe-4c13-b3b0-604082e17324\", [{\"type\": \"box\", \"boxpoints\": false, \"name\": \"Non-employees commits\", \"y\": [1312, 427, 314, 66, 48, 38, 32, 27, 18, 16, 15, 14, 13, 13, 13, 12, 11, 10, 10, 10, 9, 8, 8, 7, 7, 7, 7, 6, 6, 6, 6, 6, 6, 5, 5, 5, 5, 5, 5, 5, 5, 5, 4, 4, 4, 4, 4, 4, 4, 4, 4, 4, 4, 4, 4, 4, 3, 3, 3, 3, 3, 3, 3, 3, 3, 3, 3, 3, 3, 3, 3, 3, 3, 3, 3, 3, 2, 2, 2, 2, 2, 2, 2, 2, 2, 2, 2, 2, 2, 2, 2, 2, 2, 2, 2, 2, 2, 2, 2, 2, 2, 2, 2, 2, 2, 2, 2, 2, 2, 2, 2, 2, 1, 1, 1, 1, 1, 1, 1, 1, 1, 1, 1, 1, 1, 1, 1, 1, 1, 1, 1, 1, 1, 1, 1, 1, 1, 1, 1, 1, 1, 1, 1, 1, 1, 1, 1, 1, 1, 1, 1, 1, 1, 1, 1, 1, 1, 1, 1, 1, 1, 1, 1, 1, 1, 1, 1, 1, 1, 1, 1, 1, 1, 1, 1, 1, 1, 1, 1, 1, 1, 1, 1, 1, 1, 1, 1, 1, 1, 1, 1, 1, 1, 1, 1, 1, 1, 1, 1, 1, 1, 1, 1, 1, 1, 1, 1, 1, 1, 1, 1, 1, 1, 1, 1, 1, 1, 1, 1, 1, 1]}, {\"type\": \"box\", \"boxpoints\": false, \"name\": \"Survey commits\", \"y\": [1.0, 13.0, 3.0, 0.0, 0.0, 0.0, 7.0, 66.0, 5.0]}], {\"xaxis\": {\"title\": \"language\"}, \"title\": \"language vs commits\", \"yaxis\": {\"title\": \"commits\", \"range\": [\"0\", \"100\"]}}, {\"showLink\": true, \"linkText\": \"Export to plot.ly\"})});</script>"
      ],
      "text/vnd.plotly.v1+html": [
       "<div id=\"150f6bd3-dafe-4c13-b3b0-604082e17324\" style=\"height: 525px; width: 100%;\" class=\"plotly-graph-div\"></div><script type=\"text/javascript\">require([\"plotly\"], function(Plotly) { window.PLOTLYENV=window.PLOTLYENV || {};window.PLOTLYENV.BASE_URL=\"https://plot.ly\";Plotly.newPlot(\"150f6bd3-dafe-4c13-b3b0-604082e17324\", [{\"type\": \"box\", \"boxpoints\": false, \"name\": \"Non-employees commits\", \"y\": [1312, 427, 314, 66, 48, 38, 32, 27, 18, 16, 15, 14, 13, 13, 13, 12, 11, 10, 10, 10, 9, 8, 8, 7, 7, 7, 7, 6, 6, 6, 6, 6, 6, 5, 5, 5, 5, 5, 5, 5, 5, 5, 4, 4, 4, 4, 4, 4, 4, 4, 4, 4, 4, 4, 4, 4, 3, 3, 3, 3, 3, 3, 3, 3, 3, 3, 3, 3, 3, 3, 3, 3, 3, 3, 3, 3, 2, 2, 2, 2, 2, 2, 2, 2, 2, 2, 2, 2, 2, 2, 2, 2, 2, 2, 2, 2, 2, 2, 2, 2, 2, 2, 2, 2, 2, 2, 2, 2, 2, 2, 2, 2, 1, 1, 1, 1, 1, 1, 1, 1, 1, 1, 1, 1, 1, 1, 1, 1, 1, 1, 1, 1, 1, 1, 1, 1, 1, 1, 1, 1, 1, 1, 1, 1, 1, 1, 1, 1, 1, 1, 1, 1, 1, 1, 1, 1, 1, 1, 1, 1, 1, 1, 1, 1, 1, 1, 1, 1, 1, 1, 1, 1, 1, 1, 1, 1, 1, 1, 1, 1, 1, 1, 1, 1, 1, 1, 1, 1, 1, 1, 1, 1, 1, 1, 1, 1, 1, 1, 1, 1, 1, 1, 1, 1, 1, 1, 1, 1, 1, 1, 1, 1, 1, 1, 1, 1, 1, 1, 1, 1, 1]}, {\"type\": \"box\", \"boxpoints\": false, \"name\": \"Survey commits\", \"y\": [1.0, 13.0, 3.0, 0.0, 0.0, 0.0, 7.0, 66.0, 5.0]}], {\"xaxis\": {\"title\": \"language\"}, \"title\": \"language vs commits\", \"yaxis\": {\"title\": \"commits\", \"range\": [\"0\", \"100\"]}}, {\"showLink\": true, \"linkText\": \"Export to plot.ly\"})});</script>"
      ]
     },
     "metadata": {},
     "output_type": "display_data"
    },
    {
     "data": {
      "application/vnd.plotly.v1+json": {
       "data": [
        {
         "boxpoints": "all",
         "jitter": 0.5,
         "marker": {
          "size": 2
         },
         "name": "Spanish(1)",
         "type": "box",
         "y": [
          1
         ]
        },
        {
         "boxpoints": "all",
         "jitter": 0.5,
         "marker": {
          "size": 2
         },
         "name": "English(5)",
         "type": "box",
         "y": [
          13,
          4,
          1,
          0,
          0
         ]
        },
        {
         "boxpoints": "all",
         "jitter": 0.5,
         "marker": {
          "size": 2
         },
         "name": "Other (please specify)(1)",
         "type": "box",
         "y": [
          9
         ]
        },
        {
         "boxpoints": "all",
         "jitter": 0.5,
         "marker": {
          "size": 2
         },
         "name": "French(1)",
         "type": "box",
         "y": [
          54
         ]
        },
        {
         "boxpoints": "all",
         "jitter": 0.5,
         "marker": {
          "size": 2
         },
         "name": "Hindi(1)",
         "type": "box",
         "y": [
          3
         ]
        }
       ],
       "layout": {
        "title": "language vs pull requests",
        "xaxis": {
         "title": "language"
        },
        "yaxis": {
         "title": "pull requests"
        }
       }
      },
      "text/html": [
       "<div id=\"f51f3421-d976-402e-b7aa-cfc793f48034\" style=\"height: 525px; width: 100%;\" class=\"plotly-graph-div\"></div><script type=\"text/javascript\">require([\"plotly\"], function(Plotly) { window.PLOTLYENV=window.PLOTLYENV || {};window.PLOTLYENV.BASE_URL=\"https://plot.ly\";Plotly.newPlot(\"f51f3421-d976-402e-b7aa-cfc793f48034\", [{\"type\": \"box\", \"boxpoints\": \"all\", \"name\": \"Spanish(1)\", \"marker\": {\"size\": 2}, \"y\": [1.0], \"jitter\": 0.5}, {\"type\": \"box\", \"boxpoints\": \"all\", \"name\": \"English(5)\", \"marker\": {\"size\": 2}, \"y\": [13.0, 4.0, 1.0, 0.0, 0.0], \"jitter\": 0.5}, {\"type\": \"box\", \"boxpoints\": \"all\", \"name\": \"Other (please specify)(1)\", \"marker\": {\"size\": 2}, \"y\": [9.0], \"jitter\": 0.5}, {\"type\": \"box\", \"boxpoints\": \"all\", \"name\": \"French(1)\", \"marker\": {\"size\": 2}, \"y\": [54.0], \"jitter\": 0.5}, {\"type\": \"box\", \"boxpoints\": \"all\", \"name\": \"Hindi(1)\", \"marker\": {\"size\": 2}, \"y\": [3.0], \"jitter\": 0.5}], {\"xaxis\": {\"title\": \"language\"}, \"title\": \"language vs pull requests\", \"yaxis\": {\"title\": \"pull requests\"}}, {\"showLink\": true, \"linkText\": \"Export to plot.ly\"})});</script>"
      ],
      "text/vnd.plotly.v1+html": [
       "<div id=\"f51f3421-d976-402e-b7aa-cfc793f48034\" style=\"height: 525px; width: 100%;\" class=\"plotly-graph-div\"></div><script type=\"text/javascript\">require([\"plotly\"], function(Plotly) { window.PLOTLYENV=window.PLOTLYENV || {};window.PLOTLYENV.BASE_URL=\"https://plot.ly\";Plotly.newPlot(\"f51f3421-d976-402e-b7aa-cfc793f48034\", [{\"type\": \"box\", \"boxpoints\": \"all\", \"name\": \"Spanish(1)\", \"marker\": {\"size\": 2}, \"y\": [1.0], \"jitter\": 0.5}, {\"type\": \"box\", \"boxpoints\": \"all\", \"name\": \"English(5)\", \"marker\": {\"size\": 2}, \"y\": [13.0, 4.0, 1.0, 0.0, 0.0], \"jitter\": 0.5}, {\"type\": \"box\", \"boxpoints\": \"all\", \"name\": \"Other (please specify)(1)\", \"marker\": {\"size\": 2}, \"y\": [9.0], \"jitter\": 0.5}, {\"type\": \"box\", \"boxpoints\": \"all\", \"name\": \"French(1)\", \"marker\": {\"size\": 2}, \"y\": [54.0], \"jitter\": 0.5}, {\"type\": \"box\", \"boxpoints\": \"all\", \"name\": \"Hindi(1)\", \"marker\": {\"size\": 2}, \"y\": [3.0], \"jitter\": 0.5}], {\"xaxis\": {\"title\": \"language\"}, \"title\": \"language vs pull requests\", \"yaxis\": {\"title\": \"pull requests\"}}, {\"showLink\": true, \"linkText\": \"Export to plot.ly\"})});</script>"
      ]
     },
     "metadata": {},
     "output_type": "display_data"
    },
    {
     "data": {
      "application/vnd.plotly.v1+json": {
       "data": [
        {
         "labels": [
          "Spanish",
          "English",
          "Other (please specify)",
          "French",
          "Hindi"
         ],
         "type": "pie",
         "values": [
          1,
          5,
          1,
          1,
          1
         ]
        }
       ],
       "layout": {
        "title": "Population Distribution of language"
       }
      },
      "text/html": [
       "<div id=\"f577d58f-20de-43cc-a327-b0781c53a771\" style=\"height: 525px; width: 100%;\" class=\"plotly-graph-div\"></div><script type=\"text/javascript\">require([\"plotly\"], function(Plotly) { window.PLOTLYENV=window.PLOTLYENV || {};window.PLOTLYENV.BASE_URL=\"https://plot.ly\";Plotly.newPlot(\"f577d58f-20de-43cc-a327-b0781c53a771\", [{\"type\": \"pie\", \"values\": [1, 5, 1, 1, 1], \"labels\": [\"Spanish\", \"English\", \"Other (please specify)\", \"French\", \"Hindi\"]}], {\"title\": \"Population Distribution of language\"}, {\"showLink\": true, \"linkText\": \"Export to plot.ly\"})});</script>"
      ],
      "text/vnd.plotly.v1+html": [
       "<div id=\"f577d58f-20de-43cc-a327-b0781c53a771\" style=\"height: 525px; width: 100%;\" class=\"plotly-graph-div\"></div><script type=\"text/javascript\">require([\"plotly\"], function(Plotly) { window.PLOTLYENV=window.PLOTLYENV || {};window.PLOTLYENV.BASE_URL=\"https://plot.ly\";Plotly.newPlot(\"f577d58f-20de-43cc-a327-b0781c53a771\", [{\"type\": \"pie\", \"values\": [1, 5, 1, 1, 1], \"labels\": [\"Spanish\", \"English\", \"Other (please specify)\", \"French\", \"Hindi\"]}], {\"title\": \"Population Distribution of language\"}, {\"showLink\": true, \"linkText\": \"Export to plot.ly\"})});</script>"
      ]
     },
     "metadata": {},
     "output_type": "display_data"
    },
    {
     "data": {
      "application/vnd.plotly.v1+json": {
       "data": [
        {
         "boxpoints": false,
         "name": "Non-employees pull requests",
         "type": "box",
         "y": [
          1312,
          427,
          314,
          66,
          48,
          38,
          32,
          27,
          18,
          16,
          15,
          14,
          13,
          13,
          13,
          12,
          11,
          10,
          10,
          10,
          9,
          8,
          8,
          7,
          7,
          7,
          7,
          6,
          6,
          6,
          6,
          6,
          6,
          5,
          5,
          5,
          5,
          5,
          5,
          5,
          5,
          5,
          4,
          4,
          4,
          4,
          4,
          4,
          4,
          4,
          4,
          4,
          4,
          4,
          4,
          4,
          3,
          3,
          3,
          3,
          3,
          3,
          3,
          3,
          3,
          3,
          3,
          3,
          3,
          3,
          3,
          3,
          3,
          3,
          3,
          3,
          2,
          2,
          2,
          2,
          2,
          2,
          2,
          2,
          2,
          2,
          2,
          2,
          2,
          2,
          2,
          2,
          2,
          2,
          2,
          2,
          2,
          2,
          2,
          2,
          2,
          2,
          2,
          2,
          2,
          2,
          2,
          2,
          2,
          2,
          2,
          2,
          1,
          1,
          1,
          1,
          1,
          1,
          1,
          1,
          1,
          1,
          1,
          1,
          1,
          1,
          1,
          1,
          1,
          1,
          1,
          1,
          1,
          1,
          1,
          1,
          1,
          1,
          1,
          1,
          1,
          1,
          1,
          1,
          1,
          1,
          1,
          1,
          1,
          1,
          1,
          1,
          1,
          1,
          1,
          1,
          1,
          1,
          1,
          1,
          1,
          1,
          1,
          1,
          1,
          1,
          1,
          1,
          1,
          1,
          1,
          1,
          1,
          1,
          1,
          1,
          1,
          1,
          1,
          1,
          1,
          1,
          1,
          1,
          1,
          1,
          1,
          1,
          1,
          1,
          1,
          1,
          1,
          1,
          1,
          1,
          1,
          1,
          1,
          1,
          1,
          1,
          1,
          1,
          1,
          1,
          1,
          1,
          1,
          1,
          1,
          1,
          1,
          1,
          1,
          1,
          1,
          1,
          1,
          1,
          1
         ]
        },
        {
         "boxpoints": false,
         "name": "Survey pull requests",
         "type": "box",
         "y": [
          1,
          13,
          4,
          1,
          0,
          0,
          9,
          54,
          3
         ]
        }
       ],
       "layout": {
        "title": "language vs pull requests",
        "xaxis": {
         "title": "language"
        },
        "yaxis": {
         "range": [
          "0",
          "100"
         ],
         "title": "pull requests"
        }
       }
      },
      "text/html": [
       "<div id=\"ac3cc64a-e37d-4cfc-b388-efbab3b6494a\" style=\"height: 525px; width: 100%;\" class=\"plotly-graph-div\"></div><script type=\"text/javascript\">require([\"plotly\"], function(Plotly) { window.PLOTLYENV=window.PLOTLYENV || {};window.PLOTLYENV.BASE_URL=\"https://plot.ly\";Plotly.newPlot(\"ac3cc64a-e37d-4cfc-b388-efbab3b6494a\", [{\"type\": \"box\", \"boxpoints\": false, \"name\": \"Non-employees pull requests\", \"y\": [1312, 427, 314, 66, 48, 38, 32, 27, 18, 16, 15, 14, 13, 13, 13, 12, 11, 10, 10, 10, 9, 8, 8, 7, 7, 7, 7, 6, 6, 6, 6, 6, 6, 5, 5, 5, 5, 5, 5, 5, 5, 5, 4, 4, 4, 4, 4, 4, 4, 4, 4, 4, 4, 4, 4, 4, 3, 3, 3, 3, 3, 3, 3, 3, 3, 3, 3, 3, 3, 3, 3, 3, 3, 3, 3, 3, 2, 2, 2, 2, 2, 2, 2, 2, 2, 2, 2, 2, 2, 2, 2, 2, 2, 2, 2, 2, 2, 2, 2, 2, 2, 2, 2, 2, 2, 2, 2, 2, 2, 2, 2, 2, 1, 1, 1, 1, 1, 1, 1, 1, 1, 1, 1, 1, 1, 1, 1, 1, 1, 1, 1, 1, 1, 1, 1, 1, 1, 1, 1, 1, 1, 1, 1, 1, 1, 1, 1, 1, 1, 1, 1, 1, 1, 1, 1, 1, 1, 1, 1, 1, 1, 1, 1, 1, 1, 1, 1, 1, 1, 1, 1, 1, 1, 1, 1, 1, 1, 1, 1, 1, 1, 1, 1, 1, 1, 1, 1, 1, 1, 1, 1, 1, 1, 1, 1, 1, 1, 1, 1, 1, 1, 1, 1, 1, 1, 1, 1, 1, 1, 1, 1, 1, 1, 1, 1, 1, 1, 1, 1, 1, 1]}, {\"type\": \"box\", \"boxpoints\": false, \"name\": \"Survey pull requests\", \"y\": [1.0, 13.0, 4.0, 1.0, 0.0, 0.0, 9.0, 54.0, 3.0]}], {\"xaxis\": {\"title\": \"language\"}, \"title\": \"language vs pull requests\", \"yaxis\": {\"title\": \"pull requests\", \"range\": [\"0\", \"100\"]}}, {\"showLink\": true, \"linkText\": \"Export to plot.ly\"})});</script>"
      ],
      "text/vnd.plotly.v1+html": [
       "<div id=\"ac3cc64a-e37d-4cfc-b388-efbab3b6494a\" style=\"height: 525px; width: 100%;\" class=\"plotly-graph-div\"></div><script type=\"text/javascript\">require([\"plotly\"], function(Plotly) { window.PLOTLYENV=window.PLOTLYENV || {};window.PLOTLYENV.BASE_URL=\"https://plot.ly\";Plotly.newPlot(\"ac3cc64a-e37d-4cfc-b388-efbab3b6494a\", [{\"type\": \"box\", \"boxpoints\": false, \"name\": \"Non-employees pull requests\", \"y\": [1312, 427, 314, 66, 48, 38, 32, 27, 18, 16, 15, 14, 13, 13, 13, 12, 11, 10, 10, 10, 9, 8, 8, 7, 7, 7, 7, 6, 6, 6, 6, 6, 6, 5, 5, 5, 5, 5, 5, 5, 5, 5, 4, 4, 4, 4, 4, 4, 4, 4, 4, 4, 4, 4, 4, 4, 3, 3, 3, 3, 3, 3, 3, 3, 3, 3, 3, 3, 3, 3, 3, 3, 3, 3, 3, 3, 2, 2, 2, 2, 2, 2, 2, 2, 2, 2, 2, 2, 2, 2, 2, 2, 2, 2, 2, 2, 2, 2, 2, 2, 2, 2, 2, 2, 2, 2, 2, 2, 2, 2, 2, 2, 1, 1, 1, 1, 1, 1, 1, 1, 1, 1, 1, 1, 1, 1, 1, 1, 1, 1, 1, 1, 1, 1, 1, 1, 1, 1, 1, 1, 1, 1, 1, 1, 1, 1, 1, 1, 1, 1, 1, 1, 1, 1, 1, 1, 1, 1, 1, 1, 1, 1, 1, 1, 1, 1, 1, 1, 1, 1, 1, 1, 1, 1, 1, 1, 1, 1, 1, 1, 1, 1, 1, 1, 1, 1, 1, 1, 1, 1, 1, 1, 1, 1, 1, 1, 1, 1, 1, 1, 1, 1, 1, 1, 1, 1, 1, 1, 1, 1, 1, 1, 1, 1, 1, 1, 1, 1, 1, 1, 1]}, {\"type\": \"box\", \"boxpoints\": false, \"name\": \"Survey pull requests\", \"y\": [1.0, 13.0, 4.0, 1.0, 0.0, 0.0, 9.0, 54.0, 3.0]}], {\"xaxis\": {\"title\": \"language\"}, \"title\": \"language vs pull requests\", \"yaxis\": {\"title\": \"pull requests\", \"range\": [\"0\", \"100\"]}}, {\"showLink\": true, \"linkText\": \"Export to plot.ly\"})});</script>"
      ]
     },
     "metadata": {},
     "output_type": "display_data"
    },
    {
     "data": {
      "application/vnd.plotly.v1+json": {
       "data": [
        {
         "boxpoints": "all",
         "jitter": 0.5,
         "marker": {
          "size": 2
         },
         "name": "Spanish(1)",
         "type": "box",
         "y": [
          0
         ]
        },
        {
         "boxpoints": "all",
         "jitter": 0.5,
         "marker": {
          "size": 2
         },
         "name": "English(5)",
         "type": "box",
         "y": [
          6,
          4,
          0,
          0,
          5
         ]
        },
        {
         "boxpoints": "all",
         "jitter": 0.5,
         "marker": {
          "size": 2
         },
         "name": "Other (please specify)(1)",
         "type": "box",
         "y": [
          13
         ]
        },
        {
         "boxpoints": "all",
         "jitter": 0.5,
         "marker": {
          "size": 2
         },
         "name": "French(1)",
         "type": "box",
         "y": [
          38
         ]
        },
        {
         "boxpoints": "all",
         "jitter": 0.5,
         "marker": {
          "size": 2
         },
         "name": "Hindi(1)",
         "type": "box",
         "y": [
          0
         ]
        }
       ],
       "layout": {
        "title": "language vs issues",
        "xaxis": {
         "title": "language"
        },
        "yaxis": {
         "title": "issues"
        }
       }
      },
      "text/html": [
       "<div id=\"2e0d939b-0b91-4fb3-a5d2-791b73fa3d20\" style=\"height: 525px; width: 100%;\" class=\"plotly-graph-div\"></div><script type=\"text/javascript\">require([\"plotly\"], function(Plotly) { window.PLOTLYENV=window.PLOTLYENV || {};window.PLOTLYENV.BASE_URL=\"https://plot.ly\";Plotly.newPlot(\"2e0d939b-0b91-4fb3-a5d2-791b73fa3d20\", [{\"type\": \"box\", \"boxpoints\": \"all\", \"name\": \"Spanish(1)\", \"marker\": {\"size\": 2}, \"y\": [0.0], \"jitter\": 0.5}, {\"type\": \"box\", \"boxpoints\": \"all\", \"name\": \"English(5)\", \"marker\": {\"size\": 2}, \"y\": [6.0, 4.0, 0.0, 0.0, 5.0], \"jitter\": 0.5}, {\"type\": \"box\", \"boxpoints\": \"all\", \"name\": \"Other (please specify)(1)\", \"marker\": {\"size\": 2}, \"y\": [13.0], \"jitter\": 0.5}, {\"type\": \"box\", \"boxpoints\": \"all\", \"name\": \"French(1)\", \"marker\": {\"size\": 2}, \"y\": [38.0], \"jitter\": 0.5}, {\"type\": \"box\", \"boxpoints\": \"all\", \"name\": \"Hindi(1)\", \"marker\": {\"size\": 2}, \"y\": [0.0], \"jitter\": 0.5}], {\"xaxis\": {\"title\": \"language\"}, \"title\": \"language vs issues\", \"yaxis\": {\"title\": \"issues\"}}, {\"showLink\": true, \"linkText\": \"Export to plot.ly\"})});</script>"
      ],
      "text/vnd.plotly.v1+html": [
       "<div id=\"2e0d939b-0b91-4fb3-a5d2-791b73fa3d20\" style=\"height: 525px; width: 100%;\" class=\"plotly-graph-div\"></div><script type=\"text/javascript\">require([\"plotly\"], function(Plotly) { window.PLOTLYENV=window.PLOTLYENV || {};window.PLOTLYENV.BASE_URL=\"https://plot.ly\";Plotly.newPlot(\"2e0d939b-0b91-4fb3-a5d2-791b73fa3d20\", [{\"type\": \"box\", \"boxpoints\": \"all\", \"name\": \"Spanish(1)\", \"marker\": {\"size\": 2}, \"y\": [0.0], \"jitter\": 0.5}, {\"type\": \"box\", \"boxpoints\": \"all\", \"name\": \"English(5)\", \"marker\": {\"size\": 2}, \"y\": [6.0, 4.0, 0.0, 0.0, 5.0], \"jitter\": 0.5}, {\"type\": \"box\", \"boxpoints\": \"all\", \"name\": \"Other (please specify)(1)\", \"marker\": {\"size\": 2}, \"y\": [13.0], \"jitter\": 0.5}, {\"type\": \"box\", \"boxpoints\": \"all\", \"name\": \"French(1)\", \"marker\": {\"size\": 2}, \"y\": [38.0], \"jitter\": 0.5}, {\"type\": \"box\", \"boxpoints\": \"all\", \"name\": \"Hindi(1)\", \"marker\": {\"size\": 2}, \"y\": [0.0], \"jitter\": 0.5}], {\"xaxis\": {\"title\": \"language\"}, \"title\": \"language vs issues\", \"yaxis\": {\"title\": \"issues\"}}, {\"showLink\": true, \"linkText\": \"Export to plot.ly\"})});</script>"
      ]
     },
     "metadata": {},
     "output_type": "display_data"
    },
    {
     "data": {
      "application/vnd.plotly.v1+json": {
       "data": [
        {
         "labels": [
          "Spanish",
          "English",
          "Other (please specify)",
          "French",
          "Hindi"
         ],
         "type": "pie",
         "values": [
          1,
          5,
          1,
          1,
          1
         ]
        }
       ],
       "layout": {
        "title": "Population Distribution of language"
       }
      },
      "text/html": [
       "<div id=\"78806368-ab68-4f40-b014-4862f9e175c6\" style=\"height: 525px; width: 100%;\" class=\"plotly-graph-div\"></div><script type=\"text/javascript\">require([\"plotly\"], function(Plotly) { window.PLOTLYENV=window.PLOTLYENV || {};window.PLOTLYENV.BASE_URL=\"https://plot.ly\";Plotly.newPlot(\"78806368-ab68-4f40-b014-4862f9e175c6\", [{\"type\": \"pie\", \"values\": [1, 5, 1, 1, 1], \"labels\": [\"Spanish\", \"English\", \"Other (please specify)\", \"French\", \"Hindi\"]}], {\"title\": \"Population Distribution of language\"}, {\"showLink\": true, \"linkText\": \"Export to plot.ly\"})});</script>"
      ],
      "text/vnd.plotly.v1+html": [
       "<div id=\"78806368-ab68-4f40-b014-4862f9e175c6\" style=\"height: 525px; width: 100%;\" class=\"plotly-graph-div\"></div><script type=\"text/javascript\">require([\"plotly\"], function(Plotly) { window.PLOTLYENV=window.PLOTLYENV || {};window.PLOTLYENV.BASE_URL=\"https://plot.ly\";Plotly.newPlot(\"78806368-ab68-4f40-b014-4862f9e175c6\", [{\"type\": \"pie\", \"values\": [1, 5, 1, 1, 1], \"labels\": [\"Spanish\", \"English\", \"Other (please specify)\", \"French\", \"Hindi\"]}], {\"title\": \"Population Distribution of language\"}, {\"showLink\": true, \"linkText\": \"Export to plot.ly\"})});</script>"
      ]
     },
     "metadata": {},
     "output_type": "display_data"
    },
    {
     "data": {
      "application/vnd.plotly.v1+json": {
       "data": [
        {
         "boxpoints": false,
         "name": "Non-employees issues",
         "type": "box",
         "y": [
          1312,
          427,
          314,
          66,
          48,
          38,
          32,
          27,
          18,
          16,
          15,
          14,
          13,
          13,
          13,
          12,
          11,
          10,
          10,
          10,
          9,
          8,
          8,
          7,
          7,
          7,
          7,
          6,
          6,
          6,
          6,
          6,
          6,
          5,
          5,
          5,
          5,
          5,
          5,
          5,
          5,
          5,
          4,
          4,
          4,
          4,
          4,
          4,
          4,
          4,
          4,
          4,
          4,
          4,
          4,
          4,
          3,
          3,
          3,
          3,
          3,
          3,
          3,
          3,
          3,
          3,
          3,
          3,
          3,
          3,
          3,
          3,
          3,
          3,
          3,
          3,
          2,
          2,
          2,
          2,
          2,
          2,
          2,
          2,
          2,
          2,
          2,
          2,
          2,
          2,
          2,
          2,
          2,
          2,
          2,
          2,
          2,
          2,
          2,
          2,
          2,
          2,
          2,
          2,
          2,
          2,
          2,
          2,
          2,
          2,
          2,
          2,
          1,
          1,
          1,
          1,
          1,
          1,
          1,
          1,
          1,
          1,
          1,
          1,
          1,
          1,
          1,
          1,
          1,
          1,
          1,
          1,
          1,
          1,
          1,
          1,
          1,
          1,
          1,
          1,
          1,
          1,
          1,
          1,
          1,
          1,
          1,
          1,
          1,
          1,
          1,
          1,
          1,
          1,
          1,
          1,
          1,
          1,
          1,
          1,
          1,
          1,
          1,
          1,
          1,
          1,
          1,
          1,
          1,
          1,
          1,
          1,
          1,
          1,
          1,
          1,
          1,
          1,
          1,
          1,
          1,
          1,
          1,
          1,
          1,
          1,
          1,
          1,
          1,
          1,
          1,
          1,
          1,
          1,
          1,
          1,
          1,
          1,
          1,
          1,
          1,
          1,
          1,
          1,
          1,
          1,
          1,
          1,
          1,
          1,
          1,
          1,
          1,
          1,
          1,
          1,
          1,
          1,
          1,
          1,
          1
         ]
        },
        {
         "boxpoints": false,
         "name": "Survey issues",
         "type": "box",
         "y": [
          0,
          6,
          4,
          0,
          0,
          5,
          13,
          38,
          0
         ]
        }
       ],
       "layout": {
        "title": "language vs issues",
        "xaxis": {
         "title": "language"
        },
        "yaxis": {
         "range": [
          "0",
          "100"
         ],
         "title": "issues"
        }
       }
      },
      "text/html": [
       "<div id=\"c5342a91-7c03-4e5b-836b-0cf5b3714fc7\" style=\"height: 525px; width: 100%;\" class=\"plotly-graph-div\"></div><script type=\"text/javascript\">require([\"plotly\"], function(Plotly) { window.PLOTLYENV=window.PLOTLYENV || {};window.PLOTLYENV.BASE_URL=\"https://plot.ly\";Plotly.newPlot(\"c5342a91-7c03-4e5b-836b-0cf5b3714fc7\", [{\"type\": \"box\", \"boxpoints\": false, \"name\": \"Non-employees issues\", \"y\": [1312, 427, 314, 66, 48, 38, 32, 27, 18, 16, 15, 14, 13, 13, 13, 12, 11, 10, 10, 10, 9, 8, 8, 7, 7, 7, 7, 6, 6, 6, 6, 6, 6, 5, 5, 5, 5, 5, 5, 5, 5, 5, 4, 4, 4, 4, 4, 4, 4, 4, 4, 4, 4, 4, 4, 4, 3, 3, 3, 3, 3, 3, 3, 3, 3, 3, 3, 3, 3, 3, 3, 3, 3, 3, 3, 3, 2, 2, 2, 2, 2, 2, 2, 2, 2, 2, 2, 2, 2, 2, 2, 2, 2, 2, 2, 2, 2, 2, 2, 2, 2, 2, 2, 2, 2, 2, 2, 2, 2, 2, 2, 2, 1, 1, 1, 1, 1, 1, 1, 1, 1, 1, 1, 1, 1, 1, 1, 1, 1, 1, 1, 1, 1, 1, 1, 1, 1, 1, 1, 1, 1, 1, 1, 1, 1, 1, 1, 1, 1, 1, 1, 1, 1, 1, 1, 1, 1, 1, 1, 1, 1, 1, 1, 1, 1, 1, 1, 1, 1, 1, 1, 1, 1, 1, 1, 1, 1, 1, 1, 1, 1, 1, 1, 1, 1, 1, 1, 1, 1, 1, 1, 1, 1, 1, 1, 1, 1, 1, 1, 1, 1, 1, 1, 1, 1, 1, 1, 1, 1, 1, 1, 1, 1, 1, 1, 1, 1, 1, 1, 1, 1]}, {\"type\": \"box\", \"boxpoints\": false, \"name\": \"Survey issues\", \"y\": [0.0, 6.0, 4.0, 0.0, 0.0, 5.0, 13.0, 38.0, 0.0]}], {\"xaxis\": {\"title\": \"language\"}, \"title\": \"language vs issues\", \"yaxis\": {\"title\": \"issues\", \"range\": [\"0\", \"100\"]}}, {\"showLink\": true, \"linkText\": \"Export to plot.ly\"})});</script>"
      ],
      "text/vnd.plotly.v1+html": [
       "<div id=\"c5342a91-7c03-4e5b-836b-0cf5b3714fc7\" style=\"height: 525px; width: 100%;\" class=\"plotly-graph-div\"></div><script type=\"text/javascript\">require([\"plotly\"], function(Plotly) { window.PLOTLYENV=window.PLOTLYENV || {};window.PLOTLYENV.BASE_URL=\"https://plot.ly\";Plotly.newPlot(\"c5342a91-7c03-4e5b-836b-0cf5b3714fc7\", [{\"type\": \"box\", \"boxpoints\": false, \"name\": \"Non-employees issues\", \"y\": [1312, 427, 314, 66, 48, 38, 32, 27, 18, 16, 15, 14, 13, 13, 13, 12, 11, 10, 10, 10, 9, 8, 8, 7, 7, 7, 7, 6, 6, 6, 6, 6, 6, 5, 5, 5, 5, 5, 5, 5, 5, 5, 4, 4, 4, 4, 4, 4, 4, 4, 4, 4, 4, 4, 4, 4, 3, 3, 3, 3, 3, 3, 3, 3, 3, 3, 3, 3, 3, 3, 3, 3, 3, 3, 3, 3, 2, 2, 2, 2, 2, 2, 2, 2, 2, 2, 2, 2, 2, 2, 2, 2, 2, 2, 2, 2, 2, 2, 2, 2, 2, 2, 2, 2, 2, 2, 2, 2, 2, 2, 2, 2, 1, 1, 1, 1, 1, 1, 1, 1, 1, 1, 1, 1, 1, 1, 1, 1, 1, 1, 1, 1, 1, 1, 1, 1, 1, 1, 1, 1, 1, 1, 1, 1, 1, 1, 1, 1, 1, 1, 1, 1, 1, 1, 1, 1, 1, 1, 1, 1, 1, 1, 1, 1, 1, 1, 1, 1, 1, 1, 1, 1, 1, 1, 1, 1, 1, 1, 1, 1, 1, 1, 1, 1, 1, 1, 1, 1, 1, 1, 1, 1, 1, 1, 1, 1, 1, 1, 1, 1, 1, 1, 1, 1, 1, 1, 1, 1, 1, 1, 1, 1, 1, 1, 1, 1, 1, 1, 1, 1, 1]}, {\"type\": \"box\", \"boxpoints\": false, \"name\": \"Survey issues\", \"y\": [0.0, 6.0, 4.0, 0.0, 0.0, 5.0, 13.0, 38.0, 0.0]}], {\"xaxis\": {\"title\": \"language\"}, \"title\": \"language vs issues\", \"yaxis\": {\"title\": \"issues\", \"range\": [\"0\", \"100\"]}}, {\"showLink\": true, \"linkText\": \"Export to plot.ly\"})});</script>"
      ]
     },
     "metadata": {},
     "output_type": "display_data"
    },
    {
     "data": {
      "application/vnd.plotly.v1+json": {
       "data": [
        {
         "boxpoints": "all",
         "jitter": 0.5,
         "marker": {
          "size": 2
         },
         "name": "Spanish(1)",
         "type": "box",
         "y": [
          0
         ]
        },
        {
         "boxpoints": "all",
         "jitter": 0.5,
         "marker": {
          "size": 2
         },
         "name": "English(5)",
         "type": "box",
         "y": [
          0,
          0,
          0,
          0,
          0
         ]
        },
        {
         "boxpoints": "all",
         "jitter": 0.5,
         "marker": {
          "size": 2
         },
         "name": "Other (please specify)(1)",
         "type": "box",
         "y": [
          0
         ]
        },
        {
         "boxpoints": "all",
         "jitter": 0.5,
         "marker": {
          "size": 2
         },
         "name": "French(1)",
         "type": "box",
         "y": [
          0
         ]
        },
        {
         "boxpoints": "all",
         "jitter": 0.5,
         "marker": {
          "size": 2
         },
         "name": "Hindi(1)",
         "type": "box",
         "y": [
          0
         ]
        }
       ],
       "layout": {
        "title": "language vs bugs",
        "xaxis": {
         "title": "language"
        },
        "yaxis": {
         "title": "bugs"
        }
       }
      },
      "text/html": [
       "<div id=\"0413897a-e1f2-4a20-b6a5-858303d55f29\" style=\"height: 525px; width: 100%;\" class=\"plotly-graph-div\"></div><script type=\"text/javascript\">require([\"plotly\"], function(Plotly) { window.PLOTLYENV=window.PLOTLYENV || {};window.PLOTLYENV.BASE_URL=\"https://plot.ly\";Plotly.newPlot(\"0413897a-e1f2-4a20-b6a5-858303d55f29\", [{\"type\": \"box\", \"boxpoints\": \"all\", \"name\": \"Spanish(1)\", \"marker\": {\"size\": 2}, \"y\": [0.0], \"jitter\": 0.5}, {\"type\": \"box\", \"boxpoints\": \"all\", \"name\": \"English(5)\", \"marker\": {\"size\": 2}, \"y\": [0.0, 0.0, 0.0, 0.0, 0.0], \"jitter\": 0.5}, {\"type\": \"box\", \"boxpoints\": \"all\", \"name\": \"Other (please specify)(1)\", \"marker\": {\"size\": 2}, \"y\": [0.0], \"jitter\": 0.5}, {\"type\": \"box\", \"boxpoints\": \"all\", \"name\": \"French(1)\", \"marker\": {\"size\": 2}, \"y\": [0.0], \"jitter\": 0.5}, {\"type\": \"box\", \"boxpoints\": \"all\", \"name\": \"Hindi(1)\", \"marker\": {\"size\": 2}, \"y\": [0.0], \"jitter\": 0.5}], {\"xaxis\": {\"title\": \"language\"}, \"title\": \"language vs bugs\", \"yaxis\": {\"title\": \"bugs\"}}, {\"showLink\": true, \"linkText\": \"Export to plot.ly\"})});</script>"
      ],
      "text/vnd.plotly.v1+html": [
       "<div id=\"0413897a-e1f2-4a20-b6a5-858303d55f29\" style=\"height: 525px; width: 100%;\" class=\"plotly-graph-div\"></div><script type=\"text/javascript\">require([\"plotly\"], function(Plotly) { window.PLOTLYENV=window.PLOTLYENV || {};window.PLOTLYENV.BASE_URL=\"https://plot.ly\";Plotly.newPlot(\"0413897a-e1f2-4a20-b6a5-858303d55f29\", [{\"type\": \"box\", \"boxpoints\": \"all\", \"name\": \"Spanish(1)\", \"marker\": {\"size\": 2}, \"y\": [0.0], \"jitter\": 0.5}, {\"type\": \"box\", \"boxpoints\": \"all\", \"name\": \"English(5)\", \"marker\": {\"size\": 2}, \"y\": [0.0, 0.0, 0.0, 0.0, 0.0], \"jitter\": 0.5}, {\"type\": \"box\", \"boxpoints\": \"all\", \"name\": \"Other (please specify)(1)\", \"marker\": {\"size\": 2}, \"y\": [0.0], \"jitter\": 0.5}, {\"type\": \"box\", \"boxpoints\": \"all\", \"name\": \"French(1)\", \"marker\": {\"size\": 2}, \"y\": [0.0], \"jitter\": 0.5}, {\"type\": \"box\", \"boxpoints\": \"all\", \"name\": \"Hindi(1)\", \"marker\": {\"size\": 2}, \"y\": [0.0], \"jitter\": 0.5}], {\"xaxis\": {\"title\": \"language\"}, \"title\": \"language vs bugs\", \"yaxis\": {\"title\": \"bugs\"}}, {\"showLink\": true, \"linkText\": \"Export to plot.ly\"})});</script>"
      ]
     },
     "metadata": {},
     "output_type": "display_data"
    },
    {
     "data": {
      "application/vnd.plotly.v1+json": {
       "data": [
        {
         "labels": [
          "Spanish",
          "English",
          "Other (please specify)",
          "French",
          "Hindi"
         ],
         "type": "pie",
         "values": [
          1,
          5,
          1,
          1,
          1
         ]
        }
       ],
       "layout": {
        "title": "Population Distribution of language"
       }
      },
      "text/html": [
       "<div id=\"4f3fc397-1e70-4ceb-9d7a-ece4851fcc13\" style=\"height: 525px; width: 100%;\" class=\"plotly-graph-div\"></div><script type=\"text/javascript\">require([\"plotly\"], function(Plotly) { window.PLOTLYENV=window.PLOTLYENV || {};window.PLOTLYENV.BASE_URL=\"https://plot.ly\";Plotly.newPlot(\"4f3fc397-1e70-4ceb-9d7a-ece4851fcc13\", [{\"type\": \"pie\", \"values\": [1, 5, 1, 1, 1], \"labels\": [\"Spanish\", \"English\", \"Other (please specify)\", \"French\", \"Hindi\"]}], {\"title\": \"Population Distribution of language\"}, {\"showLink\": true, \"linkText\": \"Export to plot.ly\"})});</script>"
      ],
      "text/vnd.plotly.v1+html": [
       "<div id=\"4f3fc397-1e70-4ceb-9d7a-ece4851fcc13\" style=\"height: 525px; width: 100%;\" class=\"plotly-graph-div\"></div><script type=\"text/javascript\">require([\"plotly\"], function(Plotly) { window.PLOTLYENV=window.PLOTLYENV || {};window.PLOTLYENV.BASE_URL=\"https://plot.ly\";Plotly.newPlot(\"4f3fc397-1e70-4ceb-9d7a-ece4851fcc13\", [{\"type\": \"pie\", \"values\": [1, 5, 1, 1, 1], \"labels\": [\"Spanish\", \"English\", \"Other (please specify)\", \"French\", \"Hindi\"]}], {\"title\": \"Population Distribution of language\"}, {\"showLink\": true, \"linkText\": \"Export to plot.ly\"})});</script>"
      ]
     },
     "metadata": {},
     "output_type": "display_data"
    },
    {
     "data": {
      "application/vnd.plotly.v1+json": {
       "data": [
        {
         "boxpoints": false,
         "name": "Non-employees bugs",
         "type": "box",
         "y": [
          1312,
          427,
          314,
          66,
          48,
          38,
          32,
          27,
          18,
          16,
          15,
          14,
          13,
          13,
          13,
          12,
          11,
          10,
          10,
          10,
          9,
          8,
          8,
          7,
          7,
          7,
          7,
          6,
          6,
          6,
          6,
          6,
          6,
          5,
          5,
          5,
          5,
          5,
          5,
          5,
          5,
          5,
          4,
          4,
          4,
          4,
          4,
          4,
          4,
          4,
          4,
          4,
          4,
          4,
          4,
          4,
          3,
          3,
          3,
          3,
          3,
          3,
          3,
          3,
          3,
          3,
          3,
          3,
          3,
          3,
          3,
          3,
          3,
          3,
          3,
          3,
          2,
          2,
          2,
          2,
          2,
          2,
          2,
          2,
          2,
          2,
          2,
          2,
          2,
          2,
          2,
          2,
          2,
          2,
          2,
          2,
          2,
          2,
          2,
          2,
          2,
          2,
          2,
          2,
          2,
          2,
          2,
          2,
          2,
          2,
          2,
          2,
          1,
          1,
          1,
          1,
          1,
          1,
          1,
          1,
          1,
          1,
          1,
          1,
          1,
          1,
          1,
          1,
          1,
          1,
          1,
          1,
          1,
          1,
          1,
          1,
          1,
          1,
          1,
          1,
          1,
          1,
          1,
          1,
          1,
          1,
          1,
          1,
          1,
          1,
          1,
          1,
          1,
          1,
          1,
          1,
          1,
          1,
          1,
          1,
          1,
          1,
          1,
          1,
          1,
          1,
          1,
          1,
          1,
          1,
          1,
          1,
          1,
          1,
          1,
          1,
          1,
          1,
          1,
          1,
          1,
          1,
          1,
          1,
          1,
          1,
          1,
          1,
          1,
          1,
          1,
          1,
          1,
          1,
          1,
          1,
          1,
          1,
          1,
          1,
          1,
          1,
          1,
          1,
          1,
          1,
          1,
          1,
          1,
          1,
          1,
          1,
          1,
          1,
          1,
          1,
          1,
          1,
          1,
          1,
          1
         ]
        },
        {
         "boxpoints": false,
         "name": "Survey bugs",
         "type": "box",
         "y": [
          0,
          0,
          0,
          0,
          0,
          0,
          0,
          0,
          0
         ]
        }
       ],
       "layout": {
        "title": "language vs bugs",
        "xaxis": {
         "title": "language"
        },
        "yaxis": {
         "range": [
          "0",
          "100"
         ],
         "title": "bugs"
        }
       }
      },
      "text/html": [
       "<div id=\"f85ef4e7-22db-45b0-a556-d4aec0cd1ddf\" style=\"height: 525px; width: 100%;\" class=\"plotly-graph-div\"></div><script type=\"text/javascript\">require([\"plotly\"], function(Plotly) { window.PLOTLYENV=window.PLOTLYENV || {};window.PLOTLYENV.BASE_URL=\"https://plot.ly\";Plotly.newPlot(\"f85ef4e7-22db-45b0-a556-d4aec0cd1ddf\", [{\"type\": \"box\", \"boxpoints\": false, \"name\": \"Non-employees bugs\", \"y\": [1312, 427, 314, 66, 48, 38, 32, 27, 18, 16, 15, 14, 13, 13, 13, 12, 11, 10, 10, 10, 9, 8, 8, 7, 7, 7, 7, 6, 6, 6, 6, 6, 6, 5, 5, 5, 5, 5, 5, 5, 5, 5, 4, 4, 4, 4, 4, 4, 4, 4, 4, 4, 4, 4, 4, 4, 3, 3, 3, 3, 3, 3, 3, 3, 3, 3, 3, 3, 3, 3, 3, 3, 3, 3, 3, 3, 2, 2, 2, 2, 2, 2, 2, 2, 2, 2, 2, 2, 2, 2, 2, 2, 2, 2, 2, 2, 2, 2, 2, 2, 2, 2, 2, 2, 2, 2, 2, 2, 2, 2, 2, 2, 1, 1, 1, 1, 1, 1, 1, 1, 1, 1, 1, 1, 1, 1, 1, 1, 1, 1, 1, 1, 1, 1, 1, 1, 1, 1, 1, 1, 1, 1, 1, 1, 1, 1, 1, 1, 1, 1, 1, 1, 1, 1, 1, 1, 1, 1, 1, 1, 1, 1, 1, 1, 1, 1, 1, 1, 1, 1, 1, 1, 1, 1, 1, 1, 1, 1, 1, 1, 1, 1, 1, 1, 1, 1, 1, 1, 1, 1, 1, 1, 1, 1, 1, 1, 1, 1, 1, 1, 1, 1, 1, 1, 1, 1, 1, 1, 1, 1, 1, 1, 1, 1, 1, 1, 1, 1, 1, 1, 1]}, {\"type\": \"box\", \"boxpoints\": false, \"name\": \"Survey bugs\", \"y\": [0.0, 0.0, 0.0, 0.0, 0.0, 0.0, 0.0, 0.0, 0.0]}], {\"xaxis\": {\"title\": \"language\"}, \"title\": \"language vs bugs\", \"yaxis\": {\"title\": \"bugs\", \"range\": [\"0\", \"100\"]}}, {\"showLink\": true, \"linkText\": \"Export to plot.ly\"})});</script>"
      ],
      "text/vnd.plotly.v1+html": [
       "<div id=\"f85ef4e7-22db-45b0-a556-d4aec0cd1ddf\" style=\"height: 525px; width: 100%;\" class=\"plotly-graph-div\"></div><script type=\"text/javascript\">require([\"plotly\"], function(Plotly) { window.PLOTLYENV=window.PLOTLYENV || {};window.PLOTLYENV.BASE_URL=\"https://plot.ly\";Plotly.newPlot(\"f85ef4e7-22db-45b0-a556-d4aec0cd1ddf\", [{\"type\": \"box\", \"boxpoints\": false, \"name\": \"Non-employees bugs\", \"y\": [1312, 427, 314, 66, 48, 38, 32, 27, 18, 16, 15, 14, 13, 13, 13, 12, 11, 10, 10, 10, 9, 8, 8, 7, 7, 7, 7, 6, 6, 6, 6, 6, 6, 5, 5, 5, 5, 5, 5, 5, 5, 5, 4, 4, 4, 4, 4, 4, 4, 4, 4, 4, 4, 4, 4, 4, 3, 3, 3, 3, 3, 3, 3, 3, 3, 3, 3, 3, 3, 3, 3, 3, 3, 3, 3, 3, 2, 2, 2, 2, 2, 2, 2, 2, 2, 2, 2, 2, 2, 2, 2, 2, 2, 2, 2, 2, 2, 2, 2, 2, 2, 2, 2, 2, 2, 2, 2, 2, 2, 2, 2, 2, 1, 1, 1, 1, 1, 1, 1, 1, 1, 1, 1, 1, 1, 1, 1, 1, 1, 1, 1, 1, 1, 1, 1, 1, 1, 1, 1, 1, 1, 1, 1, 1, 1, 1, 1, 1, 1, 1, 1, 1, 1, 1, 1, 1, 1, 1, 1, 1, 1, 1, 1, 1, 1, 1, 1, 1, 1, 1, 1, 1, 1, 1, 1, 1, 1, 1, 1, 1, 1, 1, 1, 1, 1, 1, 1, 1, 1, 1, 1, 1, 1, 1, 1, 1, 1, 1, 1, 1, 1, 1, 1, 1, 1, 1, 1, 1, 1, 1, 1, 1, 1, 1, 1, 1, 1, 1, 1, 1, 1]}, {\"type\": \"box\", \"boxpoints\": false, \"name\": \"Survey bugs\", \"y\": [0.0, 0.0, 0.0, 0.0, 0.0, 0.0, 0.0, 0.0, 0.0]}], {\"xaxis\": {\"title\": \"language\"}, \"title\": \"language vs bugs\", \"yaxis\": {\"title\": \"bugs\", \"range\": [\"0\", \"100\"]}}, {\"showLink\": true, \"linkText\": \"Export to plot.ly\"})});</script>"
      ]
     },
     "metadata": {},
     "output_type": "display_data"
    },
    {
     "data": {
      "application/vnd.plotly.v1+json": {
       "data": [
        {
         "boxpoints": "all",
         "jitter": 0.5,
         "marker": {
          "size": 2
         },
         "name": "Spanish(1)",
         "type": "box",
         "y": [
          0
         ]
        },
        {
         "boxpoints": "all",
         "jitter": 0.5,
         "marker": {
          "size": 2
         },
         "name": "English(5)",
         "type": "box",
         "y": [
          0,
          0,
          0,
          0,
          0
         ]
        },
        {
         "boxpoints": "all",
         "jitter": 0.5,
         "marker": {
          "size": 2
         },
         "name": "Other (please specify)(1)",
         "type": "box",
         "y": [
          0
         ]
        },
        {
         "boxpoints": "all",
         "jitter": 0.5,
         "marker": {
          "size": 2
         },
         "name": "French(1)",
         "type": "box",
         "y": [
          0
         ]
        },
        {
         "boxpoints": "all",
         "jitter": 0.5,
         "marker": {
          "size": 2
         },
         "name": "Hindi(1)",
         "type": "box",
         "y": [
          0
         ]
        }
       ],
       "layout": {
        "title": "language vs emails",
        "xaxis": {
         "title": "language"
        },
        "yaxis": {
         "title": "emails"
        }
       }
      },
      "text/html": [
       "<div id=\"ebd87f94-03b0-46f4-a270-50b67e305c59\" style=\"height: 525px; width: 100%;\" class=\"plotly-graph-div\"></div><script type=\"text/javascript\">require([\"plotly\"], function(Plotly) { window.PLOTLYENV=window.PLOTLYENV || {};window.PLOTLYENV.BASE_URL=\"https://plot.ly\";Plotly.newPlot(\"ebd87f94-03b0-46f4-a270-50b67e305c59\", [{\"type\": \"box\", \"boxpoints\": \"all\", \"name\": \"Spanish(1)\", \"marker\": {\"size\": 2}, \"y\": [0.0], \"jitter\": 0.5}, {\"type\": \"box\", \"boxpoints\": \"all\", \"name\": \"English(5)\", \"marker\": {\"size\": 2}, \"y\": [0.0, 0.0, 0.0, 0.0, 0.0], \"jitter\": 0.5}, {\"type\": \"box\", \"boxpoints\": \"all\", \"name\": \"Other (please specify)(1)\", \"marker\": {\"size\": 2}, \"y\": [0.0], \"jitter\": 0.5}, {\"type\": \"box\", \"boxpoints\": \"all\", \"name\": \"French(1)\", \"marker\": {\"size\": 2}, \"y\": [0.0], \"jitter\": 0.5}, {\"type\": \"box\", \"boxpoints\": \"all\", \"name\": \"Hindi(1)\", \"marker\": {\"size\": 2}, \"y\": [0.0], \"jitter\": 0.5}], {\"xaxis\": {\"title\": \"language\"}, \"title\": \"language vs emails\", \"yaxis\": {\"title\": \"emails\"}}, {\"showLink\": true, \"linkText\": \"Export to plot.ly\"})});</script>"
      ],
      "text/vnd.plotly.v1+html": [
       "<div id=\"ebd87f94-03b0-46f4-a270-50b67e305c59\" style=\"height: 525px; width: 100%;\" class=\"plotly-graph-div\"></div><script type=\"text/javascript\">require([\"plotly\"], function(Plotly) { window.PLOTLYENV=window.PLOTLYENV || {};window.PLOTLYENV.BASE_URL=\"https://plot.ly\";Plotly.newPlot(\"ebd87f94-03b0-46f4-a270-50b67e305c59\", [{\"type\": \"box\", \"boxpoints\": \"all\", \"name\": \"Spanish(1)\", \"marker\": {\"size\": 2}, \"y\": [0.0], \"jitter\": 0.5}, {\"type\": \"box\", \"boxpoints\": \"all\", \"name\": \"English(5)\", \"marker\": {\"size\": 2}, \"y\": [0.0, 0.0, 0.0, 0.0, 0.0], \"jitter\": 0.5}, {\"type\": \"box\", \"boxpoints\": \"all\", \"name\": \"Other (please specify)(1)\", \"marker\": {\"size\": 2}, \"y\": [0.0], \"jitter\": 0.5}, {\"type\": \"box\", \"boxpoints\": \"all\", \"name\": \"French(1)\", \"marker\": {\"size\": 2}, \"y\": [0.0], \"jitter\": 0.5}, {\"type\": \"box\", \"boxpoints\": \"all\", \"name\": \"Hindi(1)\", \"marker\": {\"size\": 2}, \"y\": [0.0], \"jitter\": 0.5}], {\"xaxis\": {\"title\": \"language\"}, \"title\": \"language vs emails\", \"yaxis\": {\"title\": \"emails\"}}, {\"showLink\": true, \"linkText\": \"Export to plot.ly\"})});</script>"
      ]
     },
     "metadata": {},
     "output_type": "display_data"
    },
    {
     "data": {
      "application/vnd.plotly.v1+json": {
       "data": [
        {
         "labels": [
          "Spanish",
          "English",
          "Other (please specify)",
          "French",
          "Hindi"
         ],
         "type": "pie",
         "values": [
          1,
          5,
          1,
          1,
          1
         ]
        }
       ],
       "layout": {
        "title": "Population Distribution of language"
       }
      },
      "text/html": [
       "<div id=\"a329d76a-4cd3-4b4a-a1a5-4413d5ef883c\" style=\"height: 525px; width: 100%;\" class=\"plotly-graph-div\"></div><script type=\"text/javascript\">require([\"plotly\"], function(Plotly) { window.PLOTLYENV=window.PLOTLYENV || {};window.PLOTLYENV.BASE_URL=\"https://plot.ly\";Plotly.newPlot(\"a329d76a-4cd3-4b4a-a1a5-4413d5ef883c\", [{\"type\": \"pie\", \"values\": [1, 5, 1, 1, 1], \"labels\": [\"Spanish\", \"English\", \"Other (please specify)\", \"French\", \"Hindi\"]}], {\"title\": \"Population Distribution of language\"}, {\"showLink\": true, \"linkText\": \"Export to plot.ly\"})});</script>"
      ],
      "text/vnd.plotly.v1+html": [
       "<div id=\"a329d76a-4cd3-4b4a-a1a5-4413d5ef883c\" style=\"height: 525px; width: 100%;\" class=\"plotly-graph-div\"></div><script type=\"text/javascript\">require([\"plotly\"], function(Plotly) { window.PLOTLYENV=window.PLOTLYENV || {};window.PLOTLYENV.BASE_URL=\"https://plot.ly\";Plotly.newPlot(\"a329d76a-4cd3-4b4a-a1a5-4413d5ef883c\", [{\"type\": \"pie\", \"values\": [1, 5, 1, 1, 1], \"labels\": [\"Spanish\", \"English\", \"Other (please specify)\", \"French\", \"Hindi\"]}], {\"title\": \"Population Distribution of language\"}, {\"showLink\": true, \"linkText\": \"Export to plot.ly\"})});</script>"
      ]
     },
     "metadata": {},
     "output_type": "display_data"
    },
    {
     "data": {
      "application/vnd.plotly.v1+json": {
       "data": [
        {
         "boxpoints": false,
         "name": "Non-employees emails",
         "type": "box",
         "y": [
          1312,
          427,
          314,
          66,
          48,
          38,
          32,
          27,
          18,
          16,
          15,
          14,
          13,
          13,
          13,
          12,
          11,
          10,
          10,
          10,
          9,
          8,
          8,
          7,
          7,
          7,
          7,
          6,
          6,
          6,
          6,
          6,
          6,
          5,
          5,
          5,
          5,
          5,
          5,
          5,
          5,
          5,
          4,
          4,
          4,
          4,
          4,
          4,
          4,
          4,
          4,
          4,
          4,
          4,
          4,
          4,
          3,
          3,
          3,
          3,
          3,
          3,
          3,
          3,
          3,
          3,
          3,
          3,
          3,
          3,
          3,
          3,
          3,
          3,
          3,
          3,
          2,
          2,
          2,
          2,
          2,
          2,
          2,
          2,
          2,
          2,
          2,
          2,
          2,
          2,
          2,
          2,
          2,
          2,
          2,
          2,
          2,
          2,
          2,
          2,
          2,
          2,
          2,
          2,
          2,
          2,
          2,
          2,
          2,
          2,
          2,
          2,
          1,
          1,
          1,
          1,
          1,
          1,
          1,
          1,
          1,
          1,
          1,
          1,
          1,
          1,
          1,
          1,
          1,
          1,
          1,
          1,
          1,
          1,
          1,
          1,
          1,
          1,
          1,
          1,
          1,
          1,
          1,
          1,
          1,
          1,
          1,
          1,
          1,
          1,
          1,
          1,
          1,
          1,
          1,
          1,
          1,
          1,
          1,
          1,
          1,
          1,
          1,
          1,
          1,
          1,
          1,
          1,
          1,
          1,
          1,
          1,
          1,
          1,
          1,
          1,
          1,
          1,
          1,
          1,
          1,
          1,
          1,
          1,
          1,
          1,
          1,
          1,
          1,
          1,
          1,
          1,
          1,
          1,
          1,
          1,
          1,
          1,
          1,
          1,
          1,
          1,
          1,
          1,
          1,
          1,
          1,
          1,
          1,
          1,
          1,
          1,
          1,
          1,
          1,
          1,
          1,
          1,
          1,
          1,
          1
         ]
        },
        {
         "boxpoints": false,
         "name": "Survey emails",
         "type": "box",
         "y": [
          0,
          0,
          0,
          0,
          0,
          0,
          0,
          0,
          0
         ]
        }
       ],
       "layout": {
        "title": "language vs emails",
        "xaxis": {
         "title": "language"
        },
        "yaxis": {
         "range": [
          "0",
          "100"
         ],
         "title": "emails"
        }
       }
      },
      "text/html": [
       "<div id=\"24072b41-4542-4cdc-95e4-94cfa720bf80\" style=\"height: 525px; width: 100%;\" class=\"plotly-graph-div\"></div><script type=\"text/javascript\">require([\"plotly\"], function(Plotly) { window.PLOTLYENV=window.PLOTLYENV || {};window.PLOTLYENV.BASE_URL=\"https://plot.ly\";Plotly.newPlot(\"24072b41-4542-4cdc-95e4-94cfa720bf80\", [{\"type\": \"box\", \"boxpoints\": false, \"name\": \"Non-employees emails\", \"y\": [1312, 427, 314, 66, 48, 38, 32, 27, 18, 16, 15, 14, 13, 13, 13, 12, 11, 10, 10, 10, 9, 8, 8, 7, 7, 7, 7, 6, 6, 6, 6, 6, 6, 5, 5, 5, 5, 5, 5, 5, 5, 5, 4, 4, 4, 4, 4, 4, 4, 4, 4, 4, 4, 4, 4, 4, 3, 3, 3, 3, 3, 3, 3, 3, 3, 3, 3, 3, 3, 3, 3, 3, 3, 3, 3, 3, 2, 2, 2, 2, 2, 2, 2, 2, 2, 2, 2, 2, 2, 2, 2, 2, 2, 2, 2, 2, 2, 2, 2, 2, 2, 2, 2, 2, 2, 2, 2, 2, 2, 2, 2, 2, 1, 1, 1, 1, 1, 1, 1, 1, 1, 1, 1, 1, 1, 1, 1, 1, 1, 1, 1, 1, 1, 1, 1, 1, 1, 1, 1, 1, 1, 1, 1, 1, 1, 1, 1, 1, 1, 1, 1, 1, 1, 1, 1, 1, 1, 1, 1, 1, 1, 1, 1, 1, 1, 1, 1, 1, 1, 1, 1, 1, 1, 1, 1, 1, 1, 1, 1, 1, 1, 1, 1, 1, 1, 1, 1, 1, 1, 1, 1, 1, 1, 1, 1, 1, 1, 1, 1, 1, 1, 1, 1, 1, 1, 1, 1, 1, 1, 1, 1, 1, 1, 1, 1, 1, 1, 1, 1, 1, 1]}, {\"type\": \"box\", \"boxpoints\": false, \"name\": \"Survey emails\", \"y\": [0.0, 0.0, 0.0, 0.0, 0.0, 0.0, 0.0, 0.0, 0.0]}], {\"xaxis\": {\"title\": \"language\"}, \"title\": \"language vs emails\", \"yaxis\": {\"title\": \"emails\", \"range\": [\"0\", \"100\"]}}, {\"showLink\": true, \"linkText\": \"Export to plot.ly\"})});</script>"
      ],
      "text/vnd.plotly.v1+html": [
       "<div id=\"24072b41-4542-4cdc-95e4-94cfa720bf80\" style=\"height: 525px; width: 100%;\" class=\"plotly-graph-div\"></div><script type=\"text/javascript\">require([\"plotly\"], function(Plotly) { window.PLOTLYENV=window.PLOTLYENV || {};window.PLOTLYENV.BASE_URL=\"https://plot.ly\";Plotly.newPlot(\"24072b41-4542-4cdc-95e4-94cfa720bf80\", [{\"type\": \"box\", \"boxpoints\": false, \"name\": \"Non-employees emails\", \"y\": [1312, 427, 314, 66, 48, 38, 32, 27, 18, 16, 15, 14, 13, 13, 13, 12, 11, 10, 10, 10, 9, 8, 8, 7, 7, 7, 7, 6, 6, 6, 6, 6, 6, 5, 5, 5, 5, 5, 5, 5, 5, 5, 4, 4, 4, 4, 4, 4, 4, 4, 4, 4, 4, 4, 4, 4, 3, 3, 3, 3, 3, 3, 3, 3, 3, 3, 3, 3, 3, 3, 3, 3, 3, 3, 3, 3, 2, 2, 2, 2, 2, 2, 2, 2, 2, 2, 2, 2, 2, 2, 2, 2, 2, 2, 2, 2, 2, 2, 2, 2, 2, 2, 2, 2, 2, 2, 2, 2, 2, 2, 2, 2, 1, 1, 1, 1, 1, 1, 1, 1, 1, 1, 1, 1, 1, 1, 1, 1, 1, 1, 1, 1, 1, 1, 1, 1, 1, 1, 1, 1, 1, 1, 1, 1, 1, 1, 1, 1, 1, 1, 1, 1, 1, 1, 1, 1, 1, 1, 1, 1, 1, 1, 1, 1, 1, 1, 1, 1, 1, 1, 1, 1, 1, 1, 1, 1, 1, 1, 1, 1, 1, 1, 1, 1, 1, 1, 1, 1, 1, 1, 1, 1, 1, 1, 1, 1, 1, 1, 1, 1, 1, 1, 1, 1, 1, 1, 1, 1, 1, 1, 1, 1, 1, 1, 1, 1, 1, 1, 1, 1, 1]}, {\"type\": \"box\", \"boxpoints\": false, \"name\": \"Survey emails\", \"y\": [0.0, 0.0, 0.0, 0.0, 0.0, 0.0, 0.0, 0.0, 0.0]}], {\"xaxis\": {\"title\": \"language\"}, \"title\": \"language vs emails\", \"yaxis\": {\"title\": \"emails\", \"range\": [\"0\", \"100\"]}}, {\"showLink\": true, \"linkText\": \"Export to plot.ly\"})});</script>"
      ]
     },
     "metadata": {},
     "output_type": "display_data"
    },
    {
     "data": {
      "application/vnd.plotly.v1+json": {
       "data": [
        {
         "boxpoints": "all",
         "jitter": 0.5,
         "marker": {
          "size": 2
         },
         "name": "Spanish(1)",
         "type": "box",
         "y": [
          0
         ]
        },
        {
         "boxpoints": "all",
         "jitter": 0.5,
         "marker": {
          "size": 2
         },
         "name": "English(5)",
         "type": "box",
         "y": [
          0,
          0,
          0,
          1,
          0
         ]
        },
        {
         "boxpoints": "all",
         "jitter": 0.5,
         "marker": {
          "size": 2
         },
         "name": "Other (please specify)(1)",
         "type": "box",
         "y": [
          0
         ]
        },
        {
         "boxpoints": "all",
         "jitter": 0.5,
         "marker": {
          "size": 2
         },
         "name": "French(1)",
         "type": "box",
         "y": [
          0
         ]
        },
        {
         "boxpoints": "all",
         "jitter": 0.5,
         "marker": {
          "size": 2
         },
         "name": "Hindi(1)",
         "type": "box",
         "y": [
          0
         ]
        }
       ],
       "layout": {
        "title": "language vs messages",
        "xaxis": {
         "title": "language"
        },
        "yaxis": {
         "title": "messages"
        }
       }
      },
      "text/html": [
       "<div id=\"a790b29e-c64b-4f8a-99a1-05b489e3263d\" style=\"height: 525px; width: 100%;\" class=\"plotly-graph-div\"></div><script type=\"text/javascript\">require([\"plotly\"], function(Plotly) { window.PLOTLYENV=window.PLOTLYENV || {};window.PLOTLYENV.BASE_URL=\"https://plot.ly\";Plotly.newPlot(\"a790b29e-c64b-4f8a-99a1-05b489e3263d\", [{\"type\": \"box\", \"boxpoints\": \"all\", \"name\": \"Spanish(1)\", \"marker\": {\"size\": 2}, \"y\": [0.0], \"jitter\": 0.5}, {\"type\": \"box\", \"boxpoints\": \"all\", \"name\": \"English(5)\", \"marker\": {\"size\": 2}, \"y\": [0.0, 0.0, 0.0, 1.0, 0.0], \"jitter\": 0.5}, {\"type\": \"box\", \"boxpoints\": \"all\", \"name\": \"Other (please specify)(1)\", \"marker\": {\"size\": 2}, \"y\": [0.0], \"jitter\": 0.5}, {\"type\": \"box\", \"boxpoints\": \"all\", \"name\": \"French(1)\", \"marker\": {\"size\": 2}, \"y\": [0.0], \"jitter\": 0.5}, {\"type\": \"box\", \"boxpoints\": \"all\", \"name\": \"Hindi(1)\", \"marker\": {\"size\": 2}, \"y\": [0.0], \"jitter\": 0.5}], {\"xaxis\": {\"title\": \"language\"}, \"title\": \"language vs messages\", \"yaxis\": {\"title\": \"messages\"}}, {\"showLink\": true, \"linkText\": \"Export to plot.ly\"})});</script>"
      ],
      "text/vnd.plotly.v1+html": [
       "<div id=\"a790b29e-c64b-4f8a-99a1-05b489e3263d\" style=\"height: 525px; width: 100%;\" class=\"plotly-graph-div\"></div><script type=\"text/javascript\">require([\"plotly\"], function(Plotly) { window.PLOTLYENV=window.PLOTLYENV || {};window.PLOTLYENV.BASE_URL=\"https://plot.ly\";Plotly.newPlot(\"a790b29e-c64b-4f8a-99a1-05b489e3263d\", [{\"type\": \"box\", \"boxpoints\": \"all\", \"name\": \"Spanish(1)\", \"marker\": {\"size\": 2}, \"y\": [0.0], \"jitter\": 0.5}, {\"type\": \"box\", \"boxpoints\": \"all\", \"name\": \"English(5)\", \"marker\": {\"size\": 2}, \"y\": [0.0, 0.0, 0.0, 1.0, 0.0], \"jitter\": 0.5}, {\"type\": \"box\", \"boxpoints\": \"all\", \"name\": \"Other (please specify)(1)\", \"marker\": {\"size\": 2}, \"y\": [0.0], \"jitter\": 0.5}, {\"type\": \"box\", \"boxpoints\": \"all\", \"name\": \"French(1)\", \"marker\": {\"size\": 2}, \"y\": [0.0], \"jitter\": 0.5}, {\"type\": \"box\", \"boxpoints\": \"all\", \"name\": \"Hindi(1)\", \"marker\": {\"size\": 2}, \"y\": [0.0], \"jitter\": 0.5}], {\"xaxis\": {\"title\": \"language\"}, \"title\": \"language vs messages\", \"yaxis\": {\"title\": \"messages\"}}, {\"showLink\": true, \"linkText\": \"Export to plot.ly\"})});</script>"
      ]
     },
     "metadata": {},
     "output_type": "display_data"
    },
    {
     "data": {
      "application/vnd.plotly.v1+json": {
       "data": [
        {
         "labels": [
          "Spanish",
          "English",
          "Other (please specify)",
          "French",
          "Hindi"
         ],
         "type": "pie",
         "values": [
          1,
          5,
          1,
          1,
          1
         ]
        }
       ],
       "layout": {
        "title": "Population Distribution of language"
       }
      },
      "text/html": [
       "<div id=\"6e4b4190-a020-44dd-a018-2bf993ee12fc\" style=\"height: 525px; width: 100%;\" class=\"plotly-graph-div\"></div><script type=\"text/javascript\">require([\"plotly\"], function(Plotly) { window.PLOTLYENV=window.PLOTLYENV || {};window.PLOTLYENV.BASE_URL=\"https://plot.ly\";Plotly.newPlot(\"6e4b4190-a020-44dd-a018-2bf993ee12fc\", [{\"type\": \"pie\", \"values\": [1, 5, 1, 1, 1], \"labels\": [\"Spanish\", \"English\", \"Other (please specify)\", \"French\", \"Hindi\"]}], {\"title\": \"Population Distribution of language\"}, {\"showLink\": true, \"linkText\": \"Export to plot.ly\"})});</script>"
      ],
      "text/vnd.plotly.v1+html": [
       "<div id=\"6e4b4190-a020-44dd-a018-2bf993ee12fc\" style=\"height: 525px; width: 100%;\" class=\"plotly-graph-div\"></div><script type=\"text/javascript\">require([\"plotly\"], function(Plotly) { window.PLOTLYENV=window.PLOTLYENV || {};window.PLOTLYENV.BASE_URL=\"https://plot.ly\";Plotly.newPlot(\"6e4b4190-a020-44dd-a018-2bf993ee12fc\", [{\"type\": \"pie\", \"values\": [1, 5, 1, 1, 1], \"labels\": [\"Spanish\", \"English\", \"Other (please specify)\", \"French\", \"Hindi\"]}], {\"title\": \"Population Distribution of language\"}, {\"showLink\": true, \"linkText\": \"Export to plot.ly\"})});</script>"
      ]
     },
     "metadata": {},
     "output_type": "display_data"
    },
    {
     "data": {
      "application/vnd.plotly.v1+json": {
       "data": [
        {
         "boxpoints": false,
         "name": "Non-employees messages",
         "type": "box",
         "y": [
          1312,
          427,
          314,
          66,
          48,
          38,
          32,
          27,
          18,
          16,
          15,
          14,
          13,
          13,
          13,
          12,
          11,
          10,
          10,
          10,
          9,
          8,
          8,
          7,
          7,
          7,
          7,
          6,
          6,
          6,
          6,
          6,
          6,
          5,
          5,
          5,
          5,
          5,
          5,
          5,
          5,
          5,
          4,
          4,
          4,
          4,
          4,
          4,
          4,
          4,
          4,
          4,
          4,
          4,
          4,
          4,
          3,
          3,
          3,
          3,
          3,
          3,
          3,
          3,
          3,
          3,
          3,
          3,
          3,
          3,
          3,
          3,
          3,
          3,
          3,
          3,
          2,
          2,
          2,
          2,
          2,
          2,
          2,
          2,
          2,
          2,
          2,
          2,
          2,
          2,
          2,
          2,
          2,
          2,
          2,
          2,
          2,
          2,
          2,
          2,
          2,
          2,
          2,
          2,
          2,
          2,
          2,
          2,
          2,
          2,
          2,
          2,
          1,
          1,
          1,
          1,
          1,
          1,
          1,
          1,
          1,
          1,
          1,
          1,
          1,
          1,
          1,
          1,
          1,
          1,
          1,
          1,
          1,
          1,
          1,
          1,
          1,
          1,
          1,
          1,
          1,
          1,
          1,
          1,
          1,
          1,
          1,
          1,
          1,
          1,
          1,
          1,
          1,
          1,
          1,
          1,
          1,
          1,
          1,
          1,
          1,
          1,
          1,
          1,
          1,
          1,
          1,
          1,
          1,
          1,
          1,
          1,
          1,
          1,
          1,
          1,
          1,
          1,
          1,
          1,
          1,
          1,
          1,
          1,
          1,
          1,
          1,
          1,
          1,
          1,
          1,
          1,
          1,
          1,
          1,
          1,
          1,
          1,
          1,
          1,
          1,
          1,
          1,
          1,
          1,
          1,
          1,
          1,
          1,
          1,
          1,
          1,
          1,
          1,
          1,
          1,
          1,
          1,
          1,
          1,
          1
         ]
        },
        {
         "boxpoints": false,
         "name": "Survey messages",
         "type": "box",
         "y": [
          0,
          0,
          0,
          0,
          1,
          0,
          0,
          0,
          0
         ]
        }
       ],
       "layout": {
        "title": "language vs messages",
        "xaxis": {
         "title": "language"
        },
        "yaxis": {
         "range": [
          "0",
          "100"
         ],
         "title": "messages"
        }
       }
      },
      "text/html": [
       "<div id=\"f0d1848b-ee01-44ad-ab73-6cb1087eb61f\" style=\"height: 525px; width: 100%;\" class=\"plotly-graph-div\"></div><script type=\"text/javascript\">require([\"plotly\"], function(Plotly) { window.PLOTLYENV=window.PLOTLYENV || {};window.PLOTLYENV.BASE_URL=\"https://plot.ly\";Plotly.newPlot(\"f0d1848b-ee01-44ad-ab73-6cb1087eb61f\", [{\"type\": \"box\", \"boxpoints\": false, \"name\": \"Non-employees messages\", \"y\": [1312, 427, 314, 66, 48, 38, 32, 27, 18, 16, 15, 14, 13, 13, 13, 12, 11, 10, 10, 10, 9, 8, 8, 7, 7, 7, 7, 6, 6, 6, 6, 6, 6, 5, 5, 5, 5, 5, 5, 5, 5, 5, 4, 4, 4, 4, 4, 4, 4, 4, 4, 4, 4, 4, 4, 4, 3, 3, 3, 3, 3, 3, 3, 3, 3, 3, 3, 3, 3, 3, 3, 3, 3, 3, 3, 3, 2, 2, 2, 2, 2, 2, 2, 2, 2, 2, 2, 2, 2, 2, 2, 2, 2, 2, 2, 2, 2, 2, 2, 2, 2, 2, 2, 2, 2, 2, 2, 2, 2, 2, 2, 2, 1, 1, 1, 1, 1, 1, 1, 1, 1, 1, 1, 1, 1, 1, 1, 1, 1, 1, 1, 1, 1, 1, 1, 1, 1, 1, 1, 1, 1, 1, 1, 1, 1, 1, 1, 1, 1, 1, 1, 1, 1, 1, 1, 1, 1, 1, 1, 1, 1, 1, 1, 1, 1, 1, 1, 1, 1, 1, 1, 1, 1, 1, 1, 1, 1, 1, 1, 1, 1, 1, 1, 1, 1, 1, 1, 1, 1, 1, 1, 1, 1, 1, 1, 1, 1, 1, 1, 1, 1, 1, 1, 1, 1, 1, 1, 1, 1, 1, 1, 1, 1, 1, 1, 1, 1, 1, 1, 1, 1]}, {\"type\": \"box\", \"boxpoints\": false, \"name\": \"Survey messages\", \"y\": [0.0, 0.0, 0.0, 0.0, 1.0, 0.0, 0.0, 0.0, 0.0]}], {\"xaxis\": {\"title\": \"language\"}, \"title\": \"language vs messages\", \"yaxis\": {\"title\": \"messages\", \"range\": [\"0\", \"100\"]}}, {\"showLink\": true, \"linkText\": \"Export to plot.ly\"})});</script>"
      ],
      "text/vnd.plotly.v1+html": [
       "<div id=\"f0d1848b-ee01-44ad-ab73-6cb1087eb61f\" style=\"height: 525px; width: 100%;\" class=\"plotly-graph-div\"></div><script type=\"text/javascript\">require([\"plotly\"], function(Plotly) { window.PLOTLYENV=window.PLOTLYENV || {};window.PLOTLYENV.BASE_URL=\"https://plot.ly\";Plotly.newPlot(\"f0d1848b-ee01-44ad-ab73-6cb1087eb61f\", [{\"type\": \"box\", \"boxpoints\": false, \"name\": \"Non-employees messages\", \"y\": [1312, 427, 314, 66, 48, 38, 32, 27, 18, 16, 15, 14, 13, 13, 13, 12, 11, 10, 10, 10, 9, 8, 8, 7, 7, 7, 7, 6, 6, 6, 6, 6, 6, 5, 5, 5, 5, 5, 5, 5, 5, 5, 4, 4, 4, 4, 4, 4, 4, 4, 4, 4, 4, 4, 4, 4, 3, 3, 3, 3, 3, 3, 3, 3, 3, 3, 3, 3, 3, 3, 3, 3, 3, 3, 3, 3, 2, 2, 2, 2, 2, 2, 2, 2, 2, 2, 2, 2, 2, 2, 2, 2, 2, 2, 2, 2, 2, 2, 2, 2, 2, 2, 2, 2, 2, 2, 2, 2, 2, 2, 2, 2, 1, 1, 1, 1, 1, 1, 1, 1, 1, 1, 1, 1, 1, 1, 1, 1, 1, 1, 1, 1, 1, 1, 1, 1, 1, 1, 1, 1, 1, 1, 1, 1, 1, 1, 1, 1, 1, 1, 1, 1, 1, 1, 1, 1, 1, 1, 1, 1, 1, 1, 1, 1, 1, 1, 1, 1, 1, 1, 1, 1, 1, 1, 1, 1, 1, 1, 1, 1, 1, 1, 1, 1, 1, 1, 1, 1, 1, 1, 1, 1, 1, 1, 1, 1, 1, 1, 1, 1, 1, 1, 1, 1, 1, 1, 1, 1, 1, 1, 1, 1, 1, 1, 1, 1, 1, 1, 1, 1, 1]}, {\"type\": \"box\", \"boxpoints\": false, \"name\": \"Survey messages\", \"y\": [0.0, 0.0, 0.0, 0.0, 1.0, 0.0, 0.0, 0.0, 0.0]}], {\"xaxis\": {\"title\": \"language\"}, \"title\": \"language vs messages\", \"yaxis\": {\"title\": \"messages\", \"range\": [\"0\", \"100\"]}}, {\"showLink\": true, \"linkText\": \"Export to plot.ly\"})});</script>"
      ]
     },
     "metadata": {},
     "output_type": "display_data"
    },
    {
     "data": {
      "application/vnd.plotly.v1+json": {
       "data": [
        {
         "boxpoints": "all",
         "jitter": 0.5,
         "marker": {
          "size": 2
         },
         "name": "Spanish(1)",
         "type": "box",
         "y": [
          1
         ]
        },
        {
         "boxpoints": "all",
         "jitter": 0.5,
         "marker": {
          "size": 2
         },
         "name": "English(5)",
         "type": "box",
         "y": [
          1,
          1,
          0,
          0,
          0
         ]
        },
        {
         "boxpoints": "all",
         "jitter": 0.5,
         "marker": {
          "size": 2
         },
         "name": "Other (please specify)(1)",
         "type": "box",
         "y": [
          1
         ]
        },
        {
         "boxpoints": "all",
         "jitter": 0.5,
         "marker": {
          "size": 2
         },
         "name": "French(1)",
         "type": "box",
         "y": [
          1
         ]
        },
        {
         "boxpoints": "all",
         "jitter": 0.5,
         "marker": {
          "size": 2
         },
         "name": "Hindi(1)",
         "type": "box",
         "y": [
          1
         ]
        }
       ],
       "layout": {
        "title": "language vs git project",
        "xaxis": {
         "title": "language"
        },
        "yaxis": {
         "title": "git project"
        }
       }
      },
      "text/html": [
       "<div id=\"1f16c8eb-7a86-4920-97e5-b250c8b3ae47\" style=\"height: 525px; width: 100%;\" class=\"plotly-graph-div\"></div><script type=\"text/javascript\">require([\"plotly\"], function(Plotly) { window.PLOTLYENV=window.PLOTLYENV || {};window.PLOTLYENV.BASE_URL=\"https://plot.ly\";Plotly.newPlot(\"1f16c8eb-7a86-4920-97e5-b250c8b3ae47\", [{\"type\": \"box\", \"boxpoints\": \"all\", \"name\": \"Spanish(1)\", \"marker\": {\"size\": 2}, \"y\": [1], \"jitter\": 0.5}, {\"type\": \"box\", \"boxpoints\": \"all\", \"name\": \"English(5)\", \"marker\": {\"size\": 2}, \"y\": [1, 1, 0, 0, 0], \"jitter\": 0.5}, {\"type\": \"box\", \"boxpoints\": \"all\", \"name\": \"Other (please specify)(1)\", \"marker\": {\"size\": 2}, \"y\": [1], \"jitter\": 0.5}, {\"type\": \"box\", \"boxpoints\": \"all\", \"name\": \"French(1)\", \"marker\": {\"size\": 2}, \"y\": [1], \"jitter\": 0.5}, {\"type\": \"box\", \"boxpoints\": \"all\", \"name\": \"Hindi(1)\", \"marker\": {\"size\": 2}, \"y\": [1], \"jitter\": 0.5}], {\"xaxis\": {\"title\": \"language\"}, \"title\": \"language vs git project\", \"yaxis\": {\"title\": \"git project\"}}, {\"showLink\": true, \"linkText\": \"Export to plot.ly\"})});</script>"
      ],
      "text/vnd.plotly.v1+html": [
       "<div id=\"1f16c8eb-7a86-4920-97e5-b250c8b3ae47\" style=\"height: 525px; width: 100%;\" class=\"plotly-graph-div\"></div><script type=\"text/javascript\">require([\"plotly\"], function(Plotly) { window.PLOTLYENV=window.PLOTLYENV || {};window.PLOTLYENV.BASE_URL=\"https://plot.ly\";Plotly.newPlot(\"1f16c8eb-7a86-4920-97e5-b250c8b3ae47\", [{\"type\": \"box\", \"boxpoints\": \"all\", \"name\": \"Spanish(1)\", \"marker\": {\"size\": 2}, \"y\": [1], \"jitter\": 0.5}, {\"type\": \"box\", \"boxpoints\": \"all\", \"name\": \"English(5)\", \"marker\": {\"size\": 2}, \"y\": [1, 1, 0, 0, 0], \"jitter\": 0.5}, {\"type\": \"box\", \"boxpoints\": \"all\", \"name\": \"Other (please specify)(1)\", \"marker\": {\"size\": 2}, \"y\": [1], \"jitter\": 0.5}, {\"type\": \"box\", \"boxpoints\": \"all\", \"name\": \"French(1)\", \"marker\": {\"size\": 2}, \"y\": [1], \"jitter\": 0.5}, {\"type\": \"box\", \"boxpoints\": \"all\", \"name\": \"Hindi(1)\", \"marker\": {\"size\": 2}, \"y\": [1], \"jitter\": 0.5}], {\"xaxis\": {\"title\": \"language\"}, \"title\": \"language vs git project\", \"yaxis\": {\"title\": \"git project\"}}, {\"showLink\": true, \"linkText\": \"Export to plot.ly\"})});</script>"
      ]
     },
     "metadata": {},
     "output_type": "display_data"
    },
    {
     "data": {
      "application/vnd.plotly.v1+json": {
       "data": [
        {
         "labels": [
          "Spanish",
          "English",
          "Other (please specify)",
          "French",
          "Hindi"
         ],
         "type": "pie",
         "values": [
          1,
          5,
          1,
          1,
          1
         ]
        }
       ],
       "layout": {
        "title": "Population Distribution of language"
       }
      },
      "text/html": [
       "<div id=\"e3599c6b-9c18-4ae5-ab87-d8ed2fa5cb30\" style=\"height: 525px; width: 100%;\" class=\"plotly-graph-div\"></div><script type=\"text/javascript\">require([\"plotly\"], function(Plotly) { window.PLOTLYENV=window.PLOTLYENV || {};window.PLOTLYENV.BASE_URL=\"https://plot.ly\";Plotly.newPlot(\"e3599c6b-9c18-4ae5-ab87-d8ed2fa5cb30\", [{\"type\": \"pie\", \"values\": [1, 5, 1, 1, 1], \"labels\": [\"Spanish\", \"English\", \"Other (please specify)\", \"French\", \"Hindi\"]}], {\"title\": \"Population Distribution of language\"}, {\"showLink\": true, \"linkText\": \"Export to plot.ly\"})});</script>"
      ],
      "text/vnd.plotly.v1+html": [
       "<div id=\"e3599c6b-9c18-4ae5-ab87-d8ed2fa5cb30\" style=\"height: 525px; width: 100%;\" class=\"plotly-graph-div\"></div><script type=\"text/javascript\">require([\"plotly\"], function(Plotly) { window.PLOTLYENV=window.PLOTLYENV || {};window.PLOTLYENV.BASE_URL=\"https://plot.ly\";Plotly.newPlot(\"e3599c6b-9c18-4ae5-ab87-d8ed2fa5cb30\", [{\"type\": \"pie\", \"values\": [1, 5, 1, 1, 1], \"labels\": [\"Spanish\", \"English\", \"Other (please specify)\", \"French\", \"Hindi\"]}], {\"title\": \"Population Distribution of language\"}, {\"showLink\": true, \"linkText\": \"Export to plot.ly\"})});</script>"
      ]
     },
     "metadata": {},
     "output_type": "display_data"
    },
    {
     "data": {
      "application/vnd.plotly.v1+json": {
       "data": [
        {
         "type": "histogram",
         "x": [
          1,
          1,
          1,
          0,
          0,
          0,
          1,
          1,
          1
         ]
        }
       ],
       "layout": {
        "title": "Distribution of git project",
        "xaxis": {
         "title": "git project"
        },
        "yaxis": {
         "title": "Population"
        }
       }
      },
      "text/html": [
       "<div id=\"3e05d5ec-c24e-43b3-aafa-55f73f272036\" style=\"height: 525px; width: 100%;\" class=\"plotly-graph-div\"></div><script type=\"text/javascript\">require([\"plotly\"], function(Plotly) { window.PLOTLYENV=window.PLOTLYENV || {};window.PLOTLYENV.BASE_URL=\"https://plot.ly\";Plotly.newPlot(\"3e05d5ec-c24e-43b3-aafa-55f73f272036\", [{\"type\": \"histogram\", \"x\": [1, 1, 1, 0, 0, 0, 1, 1, 1]}], {\"xaxis\": {\"title\": \"git project\"}, \"title\": \"Distribution of git project\", \"yaxis\": {\"title\": \"Population\"}}, {\"showLink\": true, \"linkText\": \"Export to plot.ly\"})});</script>"
      ],
      "text/vnd.plotly.v1+html": [
       "<div id=\"3e05d5ec-c24e-43b3-aafa-55f73f272036\" style=\"height: 525px; width: 100%;\" class=\"plotly-graph-div\"></div><script type=\"text/javascript\">require([\"plotly\"], function(Plotly) { window.PLOTLYENV=window.PLOTLYENV || {};window.PLOTLYENV.BASE_URL=\"https://plot.ly\";Plotly.newPlot(\"3e05d5ec-c24e-43b3-aafa-55f73f272036\", [{\"type\": \"histogram\", \"x\": [1, 1, 1, 0, 0, 0, 1, 1, 1]}], {\"xaxis\": {\"title\": \"git project\"}, \"title\": \"Distribution of git project\", \"yaxis\": {\"title\": \"Population\"}}, {\"showLink\": true, \"linkText\": \"Export to plot.ly\"})});</script>"
      ]
     },
     "metadata": {},
     "output_type": "display_data"
    },
    {
     "data": {
      "application/vnd.plotly.v1+json": {
       "data": [
        {
         "boxpoints": "all",
         "jitter": 0.5,
         "marker": {
          "size": 2
         },
         "name": "Spanish(1)",
         "type": "box",
         "y": [
          1
         ]
        },
        {
         "boxpoints": "all",
         "jitter": 0.5,
         "marker": {
          "size": 2
         },
         "name": "English(5)",
         "type": "box",
         "y": [
          1,
          1,
          1,
          0,
          1
         ]
        },
        {
         "boxpoints": "all",
         "jitter": 0.5,
         "marker": {
          "size": 2
         },
         "name": "Other (please specify)(1)",
         "type": "box",
         "y": [
          1
         ]
        },
        {
         "boxpoints": "all",
         "jitter": 0.5,
         "marker": {
          "size": 2
         },
         "name": "French(1)",
         "type": "box",
         "y": [
          1
         ]
        },
        {
         "boxpoints": "all",
         "jitter": 0.5,
         "marker": {
          "size": 2
         },
         "name": "Hindi(1)",
         "type": "box",
         "y": [
          1
         ]
        }
       ],
       "layout": {
        "title": "language vs github project",
        "xaxis": {
         "title": "language"
        },
        "yaxis": {
         "title": "github project"
        }
       }
      },
      "text/html": [
       "<div id=\"ee570e6e-1da8-4df0-af1d-37547034a717\" style=\"height: 525px; width: 100%;\" class=\"plotly-graph-div\"></div><script type=\"text/javascript\">require([\"plotly\"], function(Plotly) { window.PLOTLYENV=window.PLOTLYENV || {};window.PLOTLYENV.BASE_URL=\"https://plot.ly\";Plotly.newPlot(\"ee570e6e-1da8-4df0-af1d-37547034a717\", [{\"type\": \"box\", \"boxpoints\": \"all\", \"name\": \"Spanish(1)\", \"marker\": {\"size\": 2}, \"y\": [1], \"jitter\": 0.5}, {\"type\": \"box\", \"boxpoints\": \"all\", \"name\": \"English(5)\", \"marker\": {\"size\": 2}, \"y\": [1, 1, 1, 0, 1], \"jitter\": 0.5}, {\"type\": \"box\", \"boxpoints\": \"all\", \"name\": \"Other (please specify)(1)\", \"marker\": {\"size\": 2}, \"y\": [1], \"jitter\": 0.5}, {\"type\": \"box\", \"boxpoints\": \"all\", \"name\": \"French(1)\", \"marker\": {\"size\": 2}, \"y\": [1], \"jitter\": 0.5}, {\"type\": \"box\", \"boxpoints\": \"all\", \"name\": \"Hindi(1)\", \"marker\": {\"size\": 2}, \"y\": [1], \"jitter\": 0.5}], {\"xaxis\": {\"title\": \"language\"}, \"title\": \"language vs github project\", \"yaxis\": {\"title\": \"github project\"}}, {\"showLink\": true, \"linkText\": \"Export to plot.ly\"})});</script>"
      ],
      "text/vnd.plotly.v1+html": [
       "<div id=\"ee570e6e-1da8-4df0-af1d-37547034a717\" style=\"height: 525px; width: 100%;\" class=\"plotly-graph-div\"></div><script type=\"text/javascript\">require([\"plotly\"], function(Plotly) { window.PLOTLYENV=window.PLOTLYENV || {};window.PLOTLYENV.BASE_URL=\"https://plot.ly\";Plotly.newPlot(\"ee570e6e-1da8-4df0-af1d-37547034a717\", [{\"type\": \"box\", \"boxpoints\": \"all\", \"name\": \"Spanish(1)\", \"marker\": {\"size\": 2}, \"y\": [1], \"jitter\": 0.5}, {\"type\": \"box\", \"boxpoints\": \"all\", \"name\": \"English(5)\", \"marker\": {\"size\": 2}, \"y\": [1, 1, 1, 0, 1], \"jitter\": 0.5}, {\"type\": \"box\", \"boxpoints\": \"all\", \"name\": \"Other (please specify)(1)\", \"marker\": {\"size\": 2}, \"y\": [1], \"jitter\": 0.5}, {\"type\": \"box\", \"boxpoints\": \"all\", \"name\": \"French(1)\", \"marker\": {\"size\": 2}, \"y\": [1], \"jitter\": 0.5}, {\"type\": \"box\", \"boxpoints\": \"all\", \"name\": \"Hindi(1)\", \"marker\": {\"size\": 2}, \"y\": [1], \"jitter\": 0.5}], {\"xaxis\": {\"title\": \"language\"}, \"title\": \"language vs github project\", \"yaxis\": {\"title\": \"github project\"}}, {\"showLink\": true, \"linkText\": \"Export to plot.ly\"})});</script>"
      ]
     },
     "metadata": {},
     "output_type": "display_data"
    },
    {
     "data": {
      "application/vnd.plotly.v1+json": {
       "data": [
        {
         "labels": [
          "Spanish",
          "English",
          "Other (please specify)",
          "French",
          "Hindi"
         ],
         "type": "pie",
         "values": [
          1,
          5,
          1,
          1,
          1
         ]
        }
       ],
       "layout": {
        "title": "Population Distribution of language"
       }
      },
      "text/html": [
       "<div id=\"24b3a6f9-e3f3-467e-91a6-2180f587d31c\" style=\"height: 525px; width: 100%;\" class=\"plotly-graph-div\"></div><script type=\"text/javascript\">require([\"plotly\"], function(Plotly) { window.PLOTLYENV=window.PLOTLYENV || {};window.PLOTLYENV.BASE_URL=\"https://plot.ly\";Plotly.newPlot(\"24b3a6f9-e3f3-467e-91a6-2180f587d31c\", [{\"type\": \"pie\", \"values\": [1, 5, 1, 1, 1], \"labels\": [\"Spanish\", \"English\", \"Other (please specify)\", \"French\", \"Hindi\"]}], {\"title\": \"Population Distribution of language\"}, {\"showLink\": true, \"linkText\": \"Export to plot.ly\"})});</script>"
      ],
      "text/vnd.plotly.v1+html": [
       "<div id=\"24b3a6f9-e3f3-467e-91a6-2180f587d31c\" style=\"height: 525px; width: 100%;\" class=\"plotly-graph-div\"></div><script type=\"text/javascript\">require([\"plotly\"], function(Plotly) { window.PLOTLYENV=window.PLOTLYENV || {};window.PLOTLYENV.BASE_URL=\"https://plot.ly\";Plotly.newPlot(\"24b3a6f9-e3f3-467e-91a6-2180f587d31c\", [{\"type\": \"pie\", \"values\": [1, 5, 1, 1, 1], \"labels\": [\"Spanish\", \"English\", \"Other (please specify)\", \"French\", \"Hindi\"]}], {\"title\": \"Population Distribution of language\"}, {\"showLink\": true, \"linkText\": \"Export to plot.ly\"})});</script>"
      ]
     },
     "metadata": {},
     "output_type": "display_data"
    },
    {
     "data": {
      "application/vnd.plotly.v1+json": {
       "data": [
        {
         "type": "histogram",
         "x": [
          1,
          1,
          1,
          1,
          0,
          1,
          1,
          1,
          1
         ]
        }
       ],
       "layout": {
        "title": "Distribution of github project",
        "xaxis": {
         "title": "github project"
        },
        "yaxis": {
         "title": "Population"
        }
       }
      },
      "text/html": [
       "<div id=\"d5ed2fa8-4b94-4495-85c9-25ac9f1a3613\" style=\"height: 525px; width: 100%;\" class=\"plotly-graph-div\"></div><script type=\"text/javascript\">require([\"plotly\"], function(Plotly) { window.PLOTLYENV=window.PLOTLYENV || {};window.PLOTLYENV.BASE_URL=\"https://plot.ly\";Plotly.newPlot(\"d5ed2fa8-4b94-4495-85c9-25ac9f1a3613\", [{\"type\": \"histogram\", \"x\": [1, 1, 1, 1, 0, 1, 1, 1, 1]}], {\"xaxis\": {\"title\": \"github project\"}, \"title\": \"Distribution of github project\", \"yaxis\": {\"title\": \"Population\"}}, {\"showLink\": true, \"linkText\": \"Export to plot.ly\"})});</script>"
      ],
      "text/vnd.plotly.v1+html": [
       "<div id=\"d5ed2fa8-4b94-4495-85c9-25ac9f1a3613\" style=\"height: 525px; width: 100%;\" class=\"plotly-graph-div\"></div><script type=\"text/javascript\">require([\"plotly\"], function(Plotly) { window.PLOTLYENV=window.PLOTLYENV || {};window.PLOTLYENV.BASE_URL=\"https://plot.ly\";Plotly.newPlot(\"d5ed2fa8-4b94-4495-85c9-25ac9f1a3613\", [{\"type\": \"histogram\", \"x\": [1, 1, 1, 1, 0, 1, 1, 1, 1]}], {\"xaxis\": {\"title\": \"github project\"}, \"title\": \"Distribution of github project\", \"yaxis\": {\"title\": \"Population\"}}, {\"showLink\": true, \"linkText\": \"Export to plot.ly\"})});</script>"
      ]
     },
     "metadata": {},
     "output_type": "display_data"
    },
    {
     "data": {
      "application/vnd.plotly.v1+json": {
       "data": [
        {
         "boxpoints": "all",
         "jitter": 0.5,
         "marker": {
          "size": 2
         },
         "name": "Spanish(1)",
         "type": "box",
         "y": [
          0
         ]
        },
        {
         "boxpoints": "all",
         "jitter": 0.5,
         "marker": {
          "size": 2
         },
         "name": "English(5)",
         "type": "box",
         "y": [
          0,
          0,
          0,
          0,
          0
         ]
        },
        {
         "boxpoints": "all",
         "jitter": 0.5,
         "marker": {
          "size": 2
         },
         "name": "Other (please specify)(1)",
         "type": "box",
         "y": [
          0
         ]
        },
        {
         "boxpoints": "all",
         "jitter": 0.5,
         "marker": {
          "size": 2
         },
         "name": "French(1)",
         "type": "box",
         "y": [
          0
         ]
        },
        {
         "boxpoints": "all",
         "jitter": 0.5,
         "marker": {
          "size": 2
         },
         "name": "Hindi(1)",
         "type": "box",
         "y": [
          0
         ]
        }
       ],
       "layout": {
        "title": "language vs bugzilla project",
        "xaxis": {
         "title": "language"
        },
        "yaxis": {
         "title": "bugzilla project"
        }
       }
      },
      "text/html": [
       "<div id=\"99305bf7-c582-4c52-8231-431d0dd5bdb5\" style=\"height: 525px; width: 100%;\" class=\"plotly-graph-div\"></div><script type=\"text/javascript\">require([\"plotly\"], function(Plotly) { window.PLOTLYENV=window.PLOTLYENV || {};window.PLOTLYENV.BASE_URL=\"https://plot.ly\";Plotly.newPlot(\"99305bf7-c582-4c52-8231-431d0dd5bdb5\", [{\"type\": \"box\", \"boxpoints\": \"all\", \"name\": \"Spanish(1)\", \"marker\": {\"size\": 2}, \"y\": [0], \"jitter\": 0.5}, {\"type\": \"box\", \"boxpoints\": \"all\", \"name\": \"English(5)\", \"marker\": {\"size\": 2}, \"y\": [0, 0, 0, 0, 0], \"jitter\": 0.5}, {\"type\": \"box\", \"boxpoints\": \"all\", \"name\": \"Other (please specify)(1)\", \"marker\": {\"size\": 2}, \"y\": [0], \"jitter\": 0.5}, {\"type\": \"box\", \"boxpoints\": \"all\", \"name\": \"French(1)\", \"marker\": {\"size\": 2}, \"y\": [0], \"jitter\": 0.5}, {\"type\": \"box\", \"boxpoints\": \"all\", \"name\": \"Hindi(1)\", \"marker\": {\"size\": 2}, \"y\": [0], \"jitter\": 0.5}], {\"xaxis\": {\"title\": \"language\"}, \"title\": \"language vs bugzilla project\", \"yaxis\": {\"title\": \"bugzilla project\"}}, {\"showLink\": true, \"linkText\": \"Export to plot.ly\"})});</script>"
      ],
      "text/vnd.plotly.v1+html": [
       "<div id=\"99305bf7-c582-4c52-8231-431d0dd5bdb5\" style=\"height: 525px; width: 100%;\" class=\"plotly-graph-div\"></div><script type=\"text/javascript\">require([\"plotly\"], function(Plotly) { window.PLOTLYENV=window.PLOTLYENV || {};window.PLOTLYENV.BASE_URL=\"https://plot.ly\";Plotly.newPlot(\"99305bf7-c582-4c52-8231-431d0dd5bdb5\", [{\"type\": \"box\", \"boxpoints\": \"all\", \"name\": \"Spanish(1)\", \"marker\": {\"size\": 2}, \"y\": [0], \"jitter\": 0.5}, {\"type\": \"box\", \"boxpoints\": \"all\", \"name\": \"English(5)\", \"marker\": {\"size\": 2}, \"y\": [0, 0, 0, 0, 0], \"jitter\": 0.5}, {\"type\": \"box\", \"boxpoints\": \"all\", \"name\": \"Other (please specify)(1)\", \"marker\": {\"size\": 2}, \"y\": [0], \"jitter\": 0.5}, {\"type\": \"box\", \"boxpoints\": \"all\", \"name\": \"French(1)\", \"marker\": {\"size\": 2}, \"y\": [0], \"jitter\": 0.5}, {\"type\": \"box\", \"boxpoints\": \"all\", \"name\": \"Hindi(1)\", \"marker\": {\"size\": 2}, \"y\": [0], \"jitter\": 0.5}], {\"xaxis\": {\"title\": \"language\"}, \"title\": \"language vs bugzilla project\", \"yaxis\": {\"title\": \"bugzilla project\"}}, {\"showLink\": true, \"linkText\": \"Export to plot.ly\"})});</script>"
      ]
     },
     "metadata": {},
     "output_type": "display_data"
    },
    {
     "data": {
      "application/vnd.plotly.v1+json": {
       "data": [
        {
         "labels": [
          "Spanish",
          "English",
          "Other (please specify)",
          "French",
          "Hindi"
         ],
         "type": "pie",
         "values": [
          1,
          5,
          1,
          1,
          1
         ]
        }
       ],
       "layout": {
        "title": "Population Distribution of language"
       }
      },
      "text/html": [
       "<div id=\"1ed8dded-a78d-4a1a-b504-4a38b41046e3\" style=\"height: 525px; width: 100%;\" class=\"plotly-graph-div\"></div><script type=\"text/javascript\">require([\"plotly\"], function(Plotly) { window.PLOTLYENV=window.PLOTLYENV || {};window.PLOTLYENV.BASE_URL=\"https://plot.ly\";Plotly.newPlot(\"1ed8dded-a78d-4a1a-b504-4a38b41046e3\", [{\"type\": \"pie\", \"values\": [1, 5, 1, 1, 1], \"labels\": [\"Spanish\", \"English\", \"Other (please specify)\", \"French\", \"Hindi\"]}], {\"title\": \"Population Distribution of language\"}, {\"showLink\": true, \"linkText\": \"Export to plot.ly\"})});</script>"
      ],
      "text/vnd.plotly.v1+html": [
       "<div id=\"1ed8dded-a78d-4a1a-b504-4a38b41046e3\" style=\"height: 525px; width: 100%;\" class=\"plotly-graph-div\"></div><script type=\"text/javascript\">require([\"plotly\"], function(Plotly) { window.PLOTLYENV=window.PLOTLYENV || {};window.PLOTLYENV.BASE_URL=\"https://plot.ly\";Plotly.newPlot(\"1ed8dded-a78d-4a1a-b504-4a38b41046e3\", [{\"type\": \"pie\", \"values\": [1, 5, 1, 1, 1], \"labels\": [\"Spanish\", \"English\", \"Other (please specify)\", \"French\", \"Hindi\"]}], {\"title\": \"Population Distribution of language\"}, {\"showLink\": true, \"linkText\": \"Export to plot.ly\"})});</script>"
      ]
     },
     "metadata": {},
     "output_type": "display_data"
    },
    {
     "data": {
      "application/vnd.plotly.v1+json": {
       "data": [
        {
         "type": "histogram",
         "x": [
          0,
          0,
          0,
          0,
          0,
          0,
          0,
          0,
          0
         ]
        }
       ],
       "layout": {
        "title": "Distribution of bugzilla project",
        "xaxis": {
         "title": "bugzilla project"
        },
        "yaxis": {
         "title": "Population"
        }
       }
      },
      "text/html": [
       "<div id=\"faf33c95-8a47-4988-976e-be2c8c3e8c34\" style=\"height: 525px; width: 100%;\" class=\"plotly-graph-div\"></div><script type=\"text/javascript\">require([\"plotly\"], function(Plotly) { window.PLOTLYENV=window.PLOTLYENV || {};window.PLOTLYENV.BASE_URL=\"https://plot.ly\";Plotly.newPlot(\"faf33c95-8a47-4988-976e-be2c8c3e8c34\", [{\"type\": \"histogram\", \"x\": [0, 0, 0, 0, 0, 0, 0, 0, 0]}], {\"xaxis\": {\"title\": \"bugzilla project\"}, \"title\": \"Distribution of bugzilla project\", \"yaxis\": {\"title\": \"Population\"}}, {\"showLink\": true, \"linkText\": \"Export to plot.ly\"})});</script>"
      ],
      "text/vnd.plotly.v1+html": [
       "<div id=\"faf33c95-8a47-4988-976e-be2c8c3e8c34\" style=\"height: 525px; width: 100%;\" class=\"plotly-graph-div\"></div><script type=\"text/javascript\">require([\"plotly\"], function(Plotly) { window.PLOTLYENV=window.PLOTLYENV || {};window.PLOTLYENV.BASE_URL=\"https://plot.ly\";Plotly.newPlot(\"faf33c95-8a47-4988-976e-be2c8c3e8c34\", [{\"type\": \"histogram\", \"x\": [0, 0, 0, 0, 0, 0, 0, 0, 0]}], {\"xaxis\": {\"title\": \"bugzilla project\"}, \"title\": \"Distribution of bugzilla project\", \"yaxis\": {\"title\": \"Population\"}}, {\"showLink\": true, \"linkText\": \"Export to plot.ly\"})});</script>"
      ]
     },
     "metadata": {},
     "output_type": "display_data"
    },
    {
     "data": {
      "application/vnd.plotly.v1+json": {
       "data": [
        {
         "boxpoints": "all",
         "jitter": 0.5,
         "marker": {
          "size": 2
         },
         "name": "Spanish(1)",
         "type": "box",
         "y": [
          0
         ]
        },
        {
         "boxpoints": "all",
         "jitter": 0.5,
         "marker": {
          "size": 2
         },
         "name": "English(5)",
         "type": "box",
         "y": [
          0,
          0,
          0,
          0,
          0
         ]
        },
        {
         "boxpoints": "all",
         "jitter": 0.5,
         "marker": {
          "size": 2
         },
         "name": "Other (please specify)(1)",
         "type": "box",
         "y": [
          0
         ]
        },
        {
         "boxpoints": "all",
         "jitter": 0.5,
         "marker": {
          "size": 2
         },
         "name": "French(1)",
         "type": "box",
         "y": [
          0
         ]
        },
        {
         "boxpoints": "all",
         "jitter": 0.5,
         "marker": {
          "size": 2
         },
         "name": "Hindi(1)",
         "type": "box",
         "y": [
          0
         ]
        }
       ],
       "layout": {
        "title": "language vs mbox project",
        "xaxis": {
         "title": "language"
        },
        "yaxis": {
         "title": "mbox project"
        }
       }
      },
      "text/html": [
       "<div id=\"df5a32c2-0c63-4d1b-8559-c211e76640be\" style=\"height: 525px; width: 100%;\" class=\"plotly-graph-div\"></div><script type=\"text/javascript\">require([\"plotly\"], function(Plotly) { window.PLOTLYENV=window.PLOTLYENV || {};window.PLOTLYENV.BASE_URL=\"https://plot.ly\";Plotly.newPlot(\"df5a32c2-0c63-4d1b-8559-c211e76640be\", [{\"type\": \"box\", \"boxpoints\": \"all\", \"name\": \"Spanish(1)\", \"marker\": {\"size\": 2}, \"y\": [0], \"jitter\": 0.5}, {\"type\": \"box\", \"boxpoints\": \"all\", \"name\": \"English(5)\", \"marker\": {\"size\": 2}, \"y\": [0, 0, 0, 0, 0], \"jitter\": 0.5}, {\"type\": \"box\", \"boxpoints\": \"all\", \"name\": \"Other (please specify)(1)\", \"marker\": {\"size\": 2}, \"y\": [0], \"jitter\": 0.5}, {\"type\": \"box\", \"boxpoints\": \"all\", \"name\": \"French(1)\", \"marker\": {\"size\": 2}, \"y\": [0], \"jitter\": 0.5}, {\"type\": \"box\", \"boxpoints\": \"all\", \"name\": \"Hindi(1)\", \"marker\": {\"size\": 2}, \"y\": [0], \"jitter\": 0.5}], {\"xaxis\": {\"title\": \"language\"}, \"title\": \"language vs mbox project\", \"yaxis\": {\"title\": \"mbox project\"}}, {\"showLink\": true, \"linkText\": \"Export to plot.ly\"})});</script>"
      ],
      "text/vnd.plotly.v1+html": [
       "<div id=\"df5a32c2-0c63-4d1b-8559-c211e76640be\" style=\"height: 525px; width: 100%;\" class=\"plotly-graph-div\"></div><script type=\"text/javascript\">require([\"plotly\"], function(Plotly) { window.PLOTLYENV=window.PLOTLYENV || {};window.PLOTLYENV.BASE_URL=\"https://plot.ly\";Plotly.newPlot(\"df5a32c2-0c63-4d1b-8559-c211e76640be\", [{\"type\": \"box\", \"boxpoints\": \"all\", \"name\": \"Spanish(1)\", \"marker\": {\"size\": 2}, \"y\": [0], \"jitter\": 0.5}, {\"type\": \"box\", \"boxpoints\": \"all\", \"name\": \"English(5)\", \"marker\": {\"size\": 2}, \"y\": [0, 0, 0, 0, 0], \"jitter\": 0.5}, {\"type\": \"box\", \"boxpoints\": \"all\", \"name\": \"Other (please specify)(1)\", \"marker\": {\"size\": 2}, \"y\": [0], \"jitter\": 0.5}, {\"type\": \"box\", \"boxpoints\": \"all\", \"name\": \"French(1)\", \"marker\": {\"size\": 2}, \"y\": [0], \"jitter\": 0.5}, {\"type\": \"box\", \"boxpoints\": \"all\", \"name\": \"Hindi(1)\", \"marker\": {\"size\": 2}, \"y\": [0], \"jitter\": 0.5}], {\"xaxis\": {\"title\": \"language\"}, \"title\": \"language vs mbox project\", \"yaxis\": {\"title\": \"mbox project\"}}, {\"showLink\": true, \"linkText\": \"Export to plot.ly\"})});</script>"
      ]
     },
     "metadata": {},
     "output_type": "display_data"
    },
    {
     "data": {
      "application/vnd.plotly.v1+json": {
       "data": [
        {
         "labels": [
          "Spanish",
          "English",
          "Other (please specify)",
          "French",
          "Hindi"
         ],
         "type": "pie",
         "values": [
          1,
          5,
          1,
          1,
          1
         ]
        }
       ],
       "layout": {
        "title": "Population Distribution of language"
       }
      },
      "text/html": [
       "<div id=\"6d69daef-d10e-4762-bcbd-c229f97abecc\" style=\"height: 525px; width: 100%;\" class=\"plotly-graph-div\"></div><script type=\"text/javascript\">require([\"plotly\"], function(Plotly) { window.PLOTLYENV=window.PLOTLYENV || {};window.PLOTLYENV.BASE_URL=\"https://plot.ly\";Plotly.newPlot(\"6d69daef-d10e-4762-bcbd-c229f97abecc\", [{\"type\": \"pie\", \"values\": [1, 5, 1, 1, 1], \"labels\": [\"Spanish\", \"English\", \"Other (please specify)\", \"French\", \"Hindi\"]}], {\"title\": \"Population Distribution of language\"}, {\"showLink\": true, \"linkText\": \"Export to plot.ly\"})});</script>"
      ],
      "text/vnd.plotly.v1+html": [
       "<div id=\"6d69daef-d10e-4762-bcbd-c229f97abecc\" style=\"height: 525px; width: 100%;\" class=\"plotly-graph-div\"></div><script type=\"text/javascript\">require([\"plotly\"], function(Plotly) { window.PLOTLYENV=window.PLOTLYENV || {};window.PLOTLYENV.BASE_URL=\"https://plot.ly\";Plotly.newPlot(\"6d69daef-d10e-4762-bcbd-c229f97abecc\", [{\"type\": \"pie\", \"values\": [1, 5, 1, 1, 1], \"labels\": [\"Spanish\", \"English\", \"Other (please specify)\", \"French\", \"Hindi\"]}], {\"title\": \"Population Distribution of language\"}, {\"showLink\": true, \"linkText\": \"Export to plot.ly\"})});</script>"
      ]
     },
     "metadata": {},
     "output_type": "display_data"
    },
    {
     "data": {
      "application/vnd.plotly.v1+json": {
       "data": [
        {
         "type": "histogram",
         "x": [
          0,
          0,
          0,
          0,
          0,
          0,
          0,
          0,
          0
         ]
        }
       ],
       "layout": {
        "title": "Distribution of mbox project",
        "xaxis": {
         "title": "mbox project"
        },
        "yaxis": {
         "title": "Population"
        }
       }
      },
      "text/html": [
       "<div id=\"86006336-1e0f-4c4d-a4c4-25c0531fe225\" style=\"height: 525px; width: 100%;\" class=\"plotly-graph-div\"></div><script type=\"text/javascript\">require([\"plotly\"], function(Plotly) { window.PLOTLYENV=window.PLOTLYENV || {};window.PLOTLYENV.BASE_URL=\"https://plot.ly\";Plotly.newPlot(\"86006336-1e0f-4c4d-a4c4-25c0531fe225\", [{\"type\": \"histogram\", \"x\": [0, 0, 0, 0, 0, 0, 0, 0, 0]}], {\"xaxis\": {\"title\": \"mbox project\"}, \"title\": \"Distribution of mbox project\", \"yaxis\": {\"title\": \"Population\"}}, {\"showLink\": true, \"linkText\": \"Export to plot.ly\"})});</script>"
      ],
      "text/vnd.plotly.v1+html": [
       "<div id=\"86006336-1e0f-4c4d-a4c4-25c0531fe225\" style=\"height: 525px; width: 100%;\" class=\"plotly-graph-div\"></div><script type=\"text/javascript\">require([\"plotly\"], function(Plotly) { window.PLOTLYENV=window.PLOTLYENV || {};window.PLOTLYENV.BASE_URL=\"https://plot.ly\";Plotly.newPlot(\"86006336-1e0f-4c4d-a4c4-25c0531fe225\", [{\"type\": \"histogram\", \"x\": [0, 0, 0, 0, 0, 0, 0, 0, 0]}], {\"xaxis\": {\"title\": \"mbox project\"}, \"title\": \"Distribution of mbox project\", \"yaxis\": {\"title\": \"Population\"}}, {\"showLink\": true, \"linkText\": \"Export to plot.ly\"})});</script>"
      ]
     },
     "metadata": {},
     "output_type": "display_data"
    },
    {
     "data": {
      "application/vnd.plotly.v1+json": {
       "data": [
        {
         "boxpoints": "all",
         "jitter": 0.5,
         "marker": {
          "size": 2
         },
         "name": "Spanish(1)",
         "type": "box",
         "y": [
          0
         ]
        },
        {
         "boxpoints": "all",
         "jitter": 0.5,
         "marker": {
          "size": 2
         },
         "name": "English(5)",
         "type": "box",
         "y": [
          0,
          0,
          0,
          1,
          0
         ]
        },
        {
         "boxpoints": "all",
         "jitter": 0.5,
         "marker": {
          "size": 2
         },
         "name": "Other (please specify)(1)",
         "type": "box",
         "y": [
          0
         ]
        },
        {
         "boxpoints": "all",
         "jitter": 0.5,
         "marker": {
          "size": 2
         },
         "name": "French(1)",
         "type": "box",
         "y": [
          0
         ]
        },
        {
         "boxpoints": "all",
         "jitter": 0.5,
         "marker": {
          "size": 2
         },
         "name": "Hindi(1)",
         "type": "box",
         "y": [
          0
         ]
        }
       ],
       "layout": {
        "title": "language vs discourse project",
        "xaxis": {
         "title": "language"
        },
        "yaxis": {
         "title": "discourse project"
        }
       }
      },
      "text/html": [
       "<div id=\"06856a80-c1e8-4805-89ff-1b52794e358d\" style=\"height: 525px; width: 100%;\" class=\"plotly-graph-div\"></div><script type=\"text/javascript\">require([\"plotly\"], function(Plotly) { window.PLOTLYENV=window.PLOTLYENV || {};window.PLOTLYENV.BASE_URL=\"https://plot.ly\";Plotly.newPlot(\"06856a80-c1e8-4805-89ff-1b52794e358d\", [{\"type\": \"box\", \"boxpoints\": \"all\", \"name\": \"Spanish(1)\", \"marker\": {\"size\": 2}, \"y\": [0], \"jitter\": 0.5}, {\"type\": \"box\", \"boxpoints\": \"all\", \"name\": \"English(5)\", \"marker\": {\"size\": 2}, \"y\": [0, 0, 0, 1, 0], \"jitter\": 0.5}, {\"type\": \"box\", \"boxpoints\": \"all\", \"name\": \"Other (please specify)(1)\", \"marker\": {\"size\": 2}, \"y\": [0], \"jitter\": 0.5}, {\"type\": \"box\", \"boxpoints\": \"all\", \"name\": \"French(1)\", \"marker\": {\"size\": 2}, \"y\": [0], \"jitter\": 0.5}, {\"type\": \"box\", \"boxpoints\": \"all\", \"name\": \"Hindi(1)\", \"marker\": {\"size\": 2}, \"y\": [0], \"jitter\": 0.5}], {\"xaxis\": {\"title\": \"language\"}, \"title\": \"language vs discourse project\", \"yaxis\": {\"title\": \"discourse project\"}}, {\"showLink\": true, \"linkText\": \"Export to plot.ly\"})});</script>"
      ],
      "text/vnd.plotly.v1+html": [
       "<div id=\"06856a80-c1e8-4805-89ff-1b52794e358d\" style=\"height: 525px; width: 100%;\" class=\"plotly-graph-div\"></div><script type=\"text/javascript\">require([\"plotly\"], function(Plotly) { window.PLOTLYENV=window.PLOTLYENV || {};window.PLOTLYENV.BASE_URL=\"https://plot.ly\";Plotly.newPlot(\"06856a80-c1e8-4805-89ff-1b52794e358d\", [{\"type\": \"box\", \"boxpoints\": \"all\", \"name\": \"Spanish(1)\", \"marker\": {\"size\": 2}, \"y\": [0], \"jitter\": 0.5}, {\"type\": \"box\", \"boxpoints\": \"all\", \"name\": \"English(5)\", \"marker\": {\"size\": 2}, \"y\": [0, 0, 0, 1, 0], \"jitter\": 0.5}, {\"type\": \"box\", \"boxpoints\": \"all\", \"name\": \"Other (please specify)(1)\", \"marker\": {\"size\": 2}, \"y\": [0], \"jitter\": 0.5}, {\"type\": \"box\", \"boxpoints\": \"all\", \"name\": \"French(1)\", \"marker\": {\"size\": 2}, \"y\": [0], \"jitter\": 0.5}, {\"type\": \"box\", \"boxpoints\": \"all\", \"name\": \"Hindi(1)\", \"marker\": {\"size\": 2}, \"y\": [0], \"jitter\": 0.5}], {\"xaxis\": {\"title\": \"language\"}, \"title\": \"language vs discourse project\", \"yaxis\": {\"title\": \"discourse project\"}}, {\"showLink\": true, \"linkText\": \"Export to plot.ly\"})});</script>"
      ]
     },
     "metadata": {},
     "output_type": "display_data"
    },
    {
     "data": {
      "application/vnd.plotly.v1+json": {
       "data": [
        {
         "labels": [
          "Spanish",
          "English",
          "Other (please specify)",
          "French",
          "Hindi"
         ],
         "type": "pie",
         "values": [
          1,
          5,
          1,
          1,
          1
         ]
        }
       ],
       "layout": {
        "title": "Population Distribution of language"
       }
      },
      "text/html": [
       "<div id=\"2da15840-ddf9-4f34-bbcb-f2e98052353a\" style=\"height: 525px; width: 100%;\" class=\"plotly-graph-div\"></div><script type=\"text/javascript\">require([\"plotly\"], function(Plotly) { window.PLOTLYENV=window.PLOTLYENV || {};window.PLOTLYENV.BASE_URL=\"https://plot.ly\";Plotly.newPlot(\"2da15840-ddf9-4f34-bbcb-f2e98052353a\", [{\"type\": \"pie\", \"values\": [1, 5, 1, 1, 1], \"labels\": [\"Spanish\", \"English\", \"Other (please specify)\", \"French\", \"Hindi\"]}], {\"title\": \"Population Distribution of language\"}, {\"showLink\": true, \"linkText\": \"Export to plot.ly\"})});</script>"
      ],
      "text/vnd.plotly.v1+html": [
       "<div id=\"2da15840-ddf9-4f34-bbcb-f2e98052353a\" style=\"height: 525px; width: 100%;\" class=\"plotly-graph-div\"></div><script type=\"text/javascript\">require([\"plotly\"], function(Plotly) { window.PLOTLYENV=window.PLOTLYENV || {};window.PLOTLYENV.BASE_URL=\"https://plot.ly\";Plotly.newPlot(\"2da15840-ddf9-4f34-bbcb-f2e98052353a\", [{\"type\": \"pie\", \"values\": [1, 5, 1, 1, 1], \"labels\": [\"Spanish\", \"English\", \"Other (please specify)\", \"French\", \"Hindi\"]}], {\"title\": \"Population Distribution of language\"}, {\"showLink\": true, \"linkText\": \"Export to plot.ly\"})});</script>"
      ]
     },
     "metadata": {},
     "output_type": "display_data"
    },
    {
     "data": {
      "application/vnd.plotly.v1+json": {
       "data": [
        {
         "type": "histogram",
         "x": [
          0,
          0,
          0,
          0,
          1,
          0,
          0,
          0,
          0
         ]
        }
       ],
       "layout": {
        "title": "Distribution of discourse project",
        "xaxis": {
         "title": "discourse project"
        },
        "yaxis": {
         "title": "Population"
        }
       }
      },
      "text/html": [
       "<div id=\"f7a1f284-2d4e-430c-9871-fd11771df9ca\" style=\"height: 525px; width: 100%;\" class=\"plotly-graph-div\"></div><script type=\"text/javascript\">require([\"plotly\"], function(Plotly) { window.PLOTLYENV=window.PLOTLYENV || {};window.PLOTLYENV.BASE_URL=\"https://plot.ly\";Plotly.newPlot(\"f7a1f284-2d4e-430c-9871-fd11771df9ca\", [{\"type\": \"histogram\", \"x\": [0, 0, 0, 0, 1, 0, 0, 0, 0]}], {\"xaxis\": {\"title\": \"discourse project\"}, \"title\": \"Distribution of discourse project\", \"yaxis\": {\"title\": \"Population\"}}, {\"showLink\": true, \"linkText\": \"Export to plot.ly\"})});</script>"
      ],
      "text/vnd.plotly.v1+html": [
       "<div id=\"f7a1f284-2d4e-430c-9871-fd11771df9ca\" style=\"height: 525px; width: 100%;\" class=\"plotly-graph-div\"></div><script type=\"text/javascript\">require([\"plotly\"], function(Plotly) { window.PLOTLYENV=window.PLOTLYENV || {};window.PLOTLYENV.BASE_URL=\"https://plot.ly\";Plotly.newPlot(\"f7a1f284-2d4e-430c-9871-fd11771df9ca\", [{\"type\": \"histogram\", \"x\": [0, 0, 0, 0, 1, 0, 0, 0, 0]}], {\"xaxis\": {\"title\": \"discourse project\"}, \"title\": \"Distribution of discourse project\", \"yaxis\": {\"title\": \"Population\"}}, {\"showLink\": true, \"linkText\": \"Export to plot.ly\"})});</script>"
      ]
     },
     "metadata": {},
     "output_type": "display_data"
    },
    {
     "data": {
      "application/vnd.plotly.v1+json": {
       "data": [
        {
         "boxpoints": "all",
         "jitter": 0.5,
         "marker": {
          "size": 2
         },
         "name": "Spanish(1)",
         "type": "box",
         "y": [
          1
         ]
        },
        {
         "boxpoints": "all",
         "jitter": 0.5,
         "marker": {
          "size": 2
         },
         "name": "English(5)",
         "type": "box",
         "y": [
          1,
          2,
          null,
          null,
          null
         ]
        },
        {
         "boxpoints": "all",
         "jitter": 0.5,
         "marker": {
          "size": 2
         },
         "name": "Other (please specify)(1)",
         "type": "box",
         "y": [
          2
         ]
        },
        {
         "boxpoints": "all",
         "jitter": 0.5,
         "marker": {
          "size": 2
         },
         "name": "French(1)",
         "type": "box",
         "y": [
          3
         ]
        },
        {
         "boxpoints": "all",
         "jitter": 0.5,
         "marker": {
          "size": 2
         },
         "name": "Hindi(1)",
         "type": "box",
         "y": [
          2
         ]
        }
       ],
       "layout": {
        "title": "language vs exp",
        "xaxis": {
         "title": "language"
        },
        "yaxis": {
         "title": "exp"
        }
       }
      },
      "text/html": [
       "<div id=\"785d768e-da06-4b72-9a3e-f15e7f66de27\" style=\"height: 525px; width: 100%;\" class=\"plotly-graph-div\"></div><script type=\"text/javascript\">require([\"plotly\"], function(Plotly) { window.PLOTLYENV=window.PLOTLYENV || {};window.PLOTLYENV.BASE_URL=\"https://plot.ly\";Plotly.newPlot(\"785d768e-da06-4b72-9a3e-f15e7f66de27\", [{\"type\": \"box\", \"boxpoints\": \"all\", \"name\": \"Spanish(1)\", \"marker\": {\"size\": 2}, \"y\": [1.0], \"jitter\": 0.5}, {\"type\": \"box\", \"boxpoints\": \"all\", \"name\": \"English(5)\", \"marker\": {\"size\": 2}, \"y\": [1.0, 2.0, null, null, null], \"jitter\": 0.5}, {\"type\": \"box\", \"boxpoints\": \"all\", \"name\": \"Other (please specify)(1)\", \"marker\": {\"size\": 2}, \"y\": [2.0], \"jitter\": 0.5}, {\"type\": \"box\", \"boxpoints\": \"all\", \"name\": \"French(1)\", \"marker\": {\"size\": 2}, \"y\": [3.0], \"jitter\": 0.5}, {\"type\": \"box\", \"boxpoints\": \"all\", \"name\": \"Hindi(1)\", \"marker\": {\"size\": 2}, \"y\": [2.0], \"jitter\": 0.5}], {\"xaxis\": {\"title\": \"language\"}, \"title\": \"language vs exp\", \"yaxis\": {\"title\": \"exp\"}}, {\"showLink\": true, \"linkText\": \"Export to plot.ly\"})});</script>"
      ],
      "text/vnd.plotly.v1+html": [
       "<div id=\"785d768e-da06-4b72-9a3e-f15e7f66de27\" style=\"height: 525px; width: 100%;\" class=\"plotly-graph-div\"></div><script type=\"text/javascript\">require([\"plotly\"], function(Plotly) { window.PLOTLYENV=window.PLOTLYENV || {};window.PLOTLYENV.BASE_URL=\"https://plot.ly\";Plotly.newPlot(\"785d768e-da06-4b72-9a3e-f15e7f66de27\", [{\"type\": \"box\", \"boxpoints\": \"all\", \"name\": \"Spanish(1)\", \"marker\": {\"size\": 2}, \"y\": [1.0], \"jitter\": 0.5}, {\"type\": \"box\", \"boxpoints\": \"all\", \"name\": \"English(5)\", \"marker\": {\"size\": 2}, \"y\": [1.0, 2.0, null, null, null], \"jitter\": 0.5}, {\"type\": \"box\", \"boxpoints\": \"all\", \"name\": \"Other (please specify)(1)\", \"marker\": {\"size\": 2}, \"y\": [2.0], \"jitter\": 0.5}, {\"type\": \"box\", \"boxpoints\": \"all\", \"name\": \"French(1)\", \"marker\": {\"size\": 2}, \"y\": [3.0], \"jitter\": 0.5}, {\"type\": \"box\", \"boxpoints\": \"all\", \"name\": \"Hindi(1)\", \"marker\": {\"size\": 2}, \"y\": [2.0], \"jitter\": 0.5}], {\"xaxis\": {\"title\": \"language\"}, \"title\": \"language vs exp\", \"yaxis\": {\"title\": \"exp\"}}, {\"showLink\": true, \"linkText\": \"Export to plot.ly\"})});</script>"
      ]
     },
     "metadata": {},
     "output_type": "display_data"
    },
    {
     "data": {
      "application/vnd.plotly.v1+json": {
       "data": [
        {
         "labels": [
          "Spanish",
          "English",
          "Other (please specify)",
          "French",
          "Hindi"
         ],
         "type": "pie",
         "values": [
          1,
          5,
          1,
          1,
          1
         ]
        }
       ],
       "layout": {
        "title": "Population Distribution of language"
       }
      },
      "text/html": [
       "<div id=\"023ba9a2-626a-4a96-8da1-396d78d4712d\" style=\"height: 525px; width: 100%;\" class=\"plotly-graph-div\"></div><script type=\"text/javascript\">require([\"plotly\"], function(Plotly) { window.PLOTLYENV=window.PLOTLYENV || {};window.PLOTLYENV.BASE_URL=\"https://plot.ly\";Plotly.newPlot(\"023ba9a2-626a-4a96-8da1-396d78d4712d\", [{\"type\": \"pie\", \"values\": [1, 5, 1, 1, 1], \"labels\": [\"Spanish\", \"English\", \"Other (please specify)\", \"French\", \"Hindi\"]}], {\"title\": \"Population Distribution of language\"}, {\"showLink\": true, \"linkText\": \"Export to plot.ly\"})});</script>"
      ],
      "text/vnd.plotly.v1+html": [
       "<div id=\"023ba9a2-626a-4a96-8da1-396d78d4712d\" style=\"height: 525px; width: 100%;\" class=\"plotly-graph-div\"></div><script type=\"text/javascript\">require([\"plotly\"], function(Plotly) { window.PLOTLYENV=window.PLOTLYENV || {};window.PLOTLYENV.BASE_URL=\"https://plot.ly\";Plotly.newPlot(\"023ba9a2-626a-4a96-8da1-396d78d4712d\", [{\"type\": \"pie\", \"values\": [1, 5, 1, 1, 1], \"labels\": [\"Spanish\", \"English\", \"Other (please specify)\", \"French\", \"Hindi\"]}], {\"title\": \"Population Distribution of language\"}, {\"showLink\": true, \"linkText\": \"Export to plot.ly\"})});</script>"
      ]
     },
     "metadata": {},
     "output_type": "display_data"
    },
    {
     "data": {
      "application/vnd.plotly.v1+json": {
       "data": [
        {
         "type": "histogram",
         "x": [
          1,
          1,
          2,
          null,
          null,
          null,
          2,
          3,
          2
         ]
        }
       ],
       "layout": {
        "title": "Distribution of exp",
        "xaxis": {
         "title": "exp"
        },
        "yaxis": {
         "title": "Population"
        }
       }
      },
      "text/html": [
       "<div id=\"cdb2bdaa-f55e-4c5e-8d46-5b07f339b3d2\" style=\"height: 525px; width: 100%;\" class=\"plotly-graph-div\"></div><script type=\"text/javascript\">require([\"plotly\"], function(Plotly) { window.PLOTLYENV=window.PLOTLYENV || {};window.PLOTLYENV.BASE_URL=\"https://plot.ly\";Plotly.newPlot(\"cdb2bdaa-f55e-4c5e-8d46-5b07f339b3d2\", [{\"type\": \"histogram\", \"x\": [1.0, 1.0, 2.0, null, null, null, 2.0, 3.0, 2.0]}], {\"xaxis\": {\"title\": \"exp\"}, \"title\": \"Distribution of exp\", \"yaxis\": {\"title\": \"Population\"}}, {\"showLink\": true, \"linkText\": \"Export to plot.ly\"})});</script>"
      ],
      "text/vnd.plotly.v1+html": [
       "<div id=\"cdb2bdaa-f55e-4c5e-8d46-5b07f339b3d2\" style=\"height: 525px; width: 100%;\" class=\"plotly-graph-div\"></div><script type=\"text/javascript\">require([\"plotly\"], function(Plotly) { window.PLOTLYENV=window.PLOTLYENV || {};window.PLOTLYENV.BASE_URL=\"https://plot.ly\";Plotly.newPlot(\"cdb2bdaa-f55e-4c5e-8d46-5b07f339b3d2\", [{\"type\": \"histogram\", \"x\": [1.0, 1.0, 2.0, null, null, null, 2.0, 3.0, 2.0]}], {\"xaxis\": {\"title\": \"exp\"}, \"title\": \"Distribution of exp\", \"yaxis\": {\"title\": \"Population\"}}, {\"showLink\": true, \"linkText\": \"Export to plot.ly\"})});</script>"
      ]
     },
     "metadata": {},
     "output_type": "display_data"
    },
    {
     "data": {
      "application/vnd.plotly.v1+json": {
       "data": [
        {
         "boxpoints": "all",
         "jitter": 0.5,
         "marker": {
          "size": 2
         },
         "name": "Spanish(1)",
         "type": "box",
         "y": [
          "2017"
         ]
        },
        {
         "boxpoints": "all",
         "jitter": 0.5,
         "marker": {
          "size": 2
         },
         "name": "English(5)",
         "type": "box",
         "y": [
          "2016",
          "2016",
          null,
          null,
          null
         ]
        },
        {
         "boxpoints": "all",
         "jitter": 0.5,
         "marker": {
          "size": 2
         },
         "name": "Other (please specify)(1)",
         "type": "box",
         "y": [
          "2016"
         ]
        },
        {
         "boxpoints": "all",
         "jitter": 0.5,
         "marker": {
          "size": 2
         },
         "name": "French(1)",
         "type": "box",
         "y": [
          "2015"
         ]
        },
        {
         "boxpoints": "all",
         "jitter": 0.5,
         "marker": {
          "size": 2
         },
         "name": "Hindi(1)",
         "type": "box",
         "y": [
          "2016"
         ]
        }
       ],
       "layout": {
        "title": "language vs first commit",
        "xaxis": {
         "title": "language"
        },
        "yaxis": {
         "title": "first commit"
        }
       }
      },
      "text/html": [
       "<div id=\"6aa49bd6-174a-483b-b824-60e287fe7a88\" style=\"height: 525px; width: 100%;\" class=\"plotly-graph-div\"></div><script type=\"text/javascript\">require([\"plotly\"], function(Plotly) { window.PLOTLYENV=window.PLOTLYENV || {};window.PLOTLYENV.BASE_URL=\"https://plot.ly\";Plotly.newPlot(\"6aa49bd6-174a-483b-b824-60e287fe7a88\", [{\"type\": \"box\", \"boxpoints\": \"all\", \"name\": \"Spanish(1)\", \"marker\": {\"size\": 2}, \"y\": [\"2017\"], \"jitter\": 0.5}, {\"type\": \"box\", \"boxpoints\": \"all\", \"name\": \"English(5)\", \"marker\": {\"size\": 2}, \"y\": [\"2016\", \"2016\", null, null, null], \"jitter\": 0.5}, {\"type\": \"box\", \"boxpoints\": \"all\", \"name\": \"Other (please specify)(1)\", \"marker\": {\"size\": 2}, \"y\": [\"2016\"], \"jitter\": 0.5}, {\"type\": \"box\", \"boxpoints\": \"all\", \"name\": \"French(1)\", \"marker\": {\"size\": 2}, \"y\": [\"2015\"], \"jitter\": 0.5}, {\"type\": \"box\", \"boxpoints\": \"all\", \"name\": \"Hindi(1)\", \"marker\": {\"size\": 2}, \"y\": [\"2016\"], \"jitter\": 0.5}], {\"xaxis\": {\"title\": \"language\"}, \"title\": \"language vs first commit\", \"yaxis\": {\"title\": \"first commit\"}}, {\"showLink\": true, \"linkText\": \"Export to plot.ly\"})});</script>"
      ],
      "text/vnd.plotly.v1+html": [
       "<div id=\"6aa49bd6-174a-483b-b824-60e287fe7a88\" style=\"height: 525px; width: 100%;\" class=\"plotly-graph-div\"></div><script type=\"text/javascript\">require([\"plotly\"], function(Plotly) { window.PLOTLYENV=window.PLOTLYENV || {};window.PLOTLYENV.BASE_URL=\"https://plot.ly\";Plotly.newPlot(\"6aa49bd6-174a-483b-b824-60e287fe7a88\", [{\"type\": \"box\", \"boxpoints\": \"all\", \"name\": \"Spanish(1)\", \"marker\": {\"size\": 2}, \"y\": [\"2017\"], \"jitter\": 0.5}, {\"type\": \"box\", \"boxpoints\": \"all\", \"name\": \"English(5)\", \"marker\": {\"size\": 2}, \"y\": [\"2016\", \"2016\", null, null, null], \"jitter\": 0.5}, {\"type\": \"box\", \"boxpoints\": \"all\", \"name\": \"Other (please specify)(1)\", \"marker\": {\"size\": 2}, \"y\": [\"2016\"], \"jitter\": 0.5}, {\"type\": \"box\", \"boxpoints\": \"all\", \"name\": \"French(1)\", \"marker\": {\"size\": 2}, \"y\": [\"2015\"], \"jitter\": 0.5}, {\"type\": \"box\", \"boxpoints\": \"all\", \"name\": \"Hindi(1)\", \"marker\": {\"size\": 2}, \"y\": [\"2016\"], \"jitter\": 0.5}], {\"xaxis\": {\"title\": \"language\"}, \"title\": \"language vs first commit\", \"yaxis\": {\"title\": \"first commit\"}}, {\"showLink\": true, \"linkText\": \"Export to plot.ly\"})});</script>"
      ]
     },
     "metadata": {},
     "output_type": "display_data"
    },
    {
     "data": {
      "application/vnd.plotly.v1+json": {
       "data": [
        {
         "labels": [
          "Spanish",
          "English",
          "Other (please specify)",
          "French",
          "Hindi"
         ],
         "type": "pie",
         "values": [
          1,
          5,
          1,
          1,
          1
         ]
        }
       ],
       "layout": {
        "title": "Population Distribution of language"
       }
      },
      "text/html": [
       "<div id=\"60e8c517-b896-4baa-a035-841a793ea41f\" style=\"height: 525px; width: 100%;\" class=\"plotly-graph-div\"></div><script type=\"text/javascript\">require([\"plotly\"], function(Plotly) { window.PLOTLYENV=window.PLOTLYENV || {};window.PLOTLYENV.BASE_URL=\"https://plot.ly\";Plotly.newPlot(\"60e8c517-b896-4baa-a035-841a793ea41f\", [{\"type\": \"pie\", \"values\": [1, 5, 1, 1, 1], \"labels\": [\"Spanish\", \"English\", \"Other (please specify)\", \"French\", \"Hindi\"]}], {\"title\": \"Population Distribution of language\"}, {\"showLink\": true, \"linkText\": \"Export to plot.ly\"})});</script>"
      ],
      "text/vnd.plotly.v1+html": [
       "<div id=\"60e8c517-b896-4baa-a035-841a793ea41f\" style=\"height: 525px; width: 100%;\" class=\"plotly-graph-div\"></div><script type=\"text/javascript\">require([\"plotly\"], function(Plotly) { window.PLOTLYENV=window.PLOTLYENV || {};window.PLOTLYENV.BASE_URL=\"https://plot.ly\";Plotly.newPlot(\"60e8c517-b896-4baa-a035-841a793ea41f\", [{\"type\": \"pie\", \"values\": [1, 5, 1, 1, 1], \"labels\": [\"Spanish\", \"English\", \"Other (please specify)\", \"French\", \"Hindi\"]}], {\"title\": \"Population Distribution of language\"}, {\"showLink\": true, \"linkText\": \"Export to plot.ly\"})});</script>"
      ]
     },
     "metadata": {},
     "output_type": "display_data"
    },
    {
     "data": {
      "application/vnd.plotly.v1+json": {
       "data": [
        {
         "type": "histogram",
         "x": [
          "2017",
          "2016",
          "2016",
          null,
          null,
          null,
          "2016",
          "2015",
          "2016"
         ]
        }
       ],
       "layout": {
        "title": "Distribution of first commit",
        "xaxis": {
         "title": "first commit"
        },
        "yaxis": {
         "title": "Population"
        }
       }
      },
      "text/html": [
       "<div id=\"13ce6b73-a45e-4be0-8814-6bd86af5b021\" style=\"height: 525px; width: 100%;\" class=\"plotly-graph-div\"></div><script type=\"text/javascript\">require([\"plotly\"], function(Plotly) { window.PLOTLYENV=window.PLOTLYENV || {};window.PLOTLYENV.BASE_URL=\"https://plot.ly\";Plotly.newPlot(\"13ce6b73-a45e-4be0-8814-6bd86af5b021\", [{\"type\": \"histogram\", \"x\": [\"2017\", \"2016\", \"2016\", null, null, null, \"2016\", \"2015\", \"2016\"]}], {\"xaxis\": {\"title\": \"first commit\"}, \"title\": \"Distribution of first commit\", \"yaxis\": {\"title\": \"Population\"}}, {\"showLink\": true, \"linkText\": \"Export to plot.ly\"})});</script>"
      ],
      "text/vnd.plotly.v1+html": [
       "<div id=\"13ce6b73-a45e-4be0-8814-6bd86af5b021\" style=\"height: 525px; width: 100%;\" class=\"plotly-graph-div\"></div><script type=\"text/javascript\">require([\"plotly\"], function(Plotly) { window.PLOTLYENV=window.PLOTLYENV || {};window.PLOTLYENV.BASE_URL=\"https://plot.ly\";Plotly.newPlot(\"13ce6b73-a45e-4be0-8814-6bd86af5b021\", [{\"type\": \"histogram\", \"x\": [\"2017\", \"2016\", \"2016\", null, null, null, \"2016\", \"2015\", \"2016\"]}], {\"xaxis\": {\"title\": \"first commit\"}, \"title\": \"Distribution of first commit\", \"yaxis\": {\"title\": \"Population\"}}, {\"showLink\": true, \"linkText\": \"Export to plot.ly\"})});</script>"
      ]
     },
     "metadata": {},
     "output_type": "display_data"
    },
    {
     "data": {
      "application/vnd.plotly.v1+json": {
       "data": [
        {
         "boxpoints": "all",
         "jitter": 0.5,
         "marker": {
          "size": 2
         },
         "name": "Spanish(1)",
         "type": "box",
         "y": [
          "2017"
         ]
        },
        {
         "boxpoints": "all",
         "jitter": 0.5,
         "marker": {
          "size": 2
         },
         "name": "English(5)",
         "type": "box",
         "y": [
          "2016",
          "2017",
          null,
          null,
          null
         ]
        },
        {
         "boxpoints": "all",
         "jitter": 0.5,
         "marker": {
          "size": 2
         },
         "name": "Other (please specify)(1)",
         "type": "box",
         "y": [
          "2017"
         ]
        },
        {
         "boxpoints": "all",
         "jitter": 0.5,
         "marker": {
          "size": 2
         },
         "name": "French(1)",
         "type": "box",
         "y": [
          "2017"
         ]
        },
        {
         "boxpoints": "all",
         "jitter": 0.5,
         "marker": {
          "size": 2
         },
         "name": "Hindi(1)",
         "type": "box",
         "y": [
          "2017"
         ]
        }
       ],
       "layout": {
        "title": "language vs last commit",
        "xaxis": {
         "title": "language"
        },
        "yaxis": {
         "title": "last commit"
        }
       }
      },
      "text/html": [
       "<div id=\"cf42db74-61a1-4154-b183-3020bf2a76a8\" style=\"height: 525px; width: 100%;\" class=\"plotly-graph-div\"></div><script type=\"text/javascript\">require([\"plotly\"], function(Plotly) { window.PLOTLYENV=window.PLOTLYENV || {};window.PLOTLYENV.BASE_URL=\"https://plot.ly\";Plotly.newPlot(\"cf42db74-61a1-4154-b183-3020bf2a76a8\", [{\"type\": \"box\", \"boxpoints\": \"all\", \"name\": \"Spanish(1)\", \"marker\": {\"size\": 2}, \"y\": [\"2017\"], \"jitter\": 0.5}, {\"type\": \"box\", \"boxpoints\": \"all\", \"name\": \"English(5)\", \"marker\": {\"size\": 2}, \"y\": [\"2016\", \"2017\", null, null, null], \"jitter\": 0.5}, {\"type\": \"box\", \"boxpoints\": \"all\", \"name\": \"Other (please specify)(1)\", \"marker\": {\"size\": 2}, \"y\": [\"2017\"], \"jitter\": 0.5}, {\"type\": \"box\", \"boxpoints\": \"all\", \"name\": \"French(1)\", \"marker\": {\"size\": 2}, \"y\": [\"2017\"], \"jitter\": 0.5}, {\"type\": \"box\", \"boxpoints\": \"all\", \"name\": \"Hindi(1)\", \"marker\": {\"size\": 2}, \"y\": [\"2017\"], \"jitter\": 0.5}], {\"xaxis\": {\"title\": \"language\"}, \"title\": \"language vs last commit\", \"yaxis\": {\"title\": \"last commit\"}}, {\"showLink\": true, \"linkText\": \"Export to plot.ly\"})});</script>"
      ],
      "text/vnd.plotly.v1+html": [
       "<div id=\"cf42db74-61a1-4154-b183-3020bf2a76a8\" style=\"height: 525px; width: 100%;\" class=\"plotly-graph-div\"></div><script type=\"text/javascript\">require([\"plotly\"], function(Plotly) { window.PLOTLYENV=window.PLOTLYENV || {};window.PLOTLYENV.BASE_URL=\"https://plot.ly\";Plotly.newPlot(\"cf42db74-61a1-4154-b183-3020bf2a76a8\", [{\"type\": \"box\", \"boxpoints\": \"all\", \"name\": \"Spanish(1)\", \"marker\": {\"size\": 2}, \"y\": [\"2017\"], \"jitter\": 0.5}, {\"type\": \"box\", \"boxpoints\": \"all\", \"name\": \"English(5)\", \"marker\": {\"size\": 2}, \"y\": [\"2016\", \"2017\", null, null, null], \"jitter\": 0.5}, {\"type\": \"box\", \"boxpoints\": \"all\", \"name\": \"Other (please specify)(1)\", \"marker\": {\"size\": 2}, \"y\": [\"2017\"], \"jitter\": 0.5}, {\"type\": \"box\", \"boxpoints\": \"all\", \"name\": \"French(1)\", \"marker\": {\"size\": 2}, \"y\": [\"2017\"], \"jitter\": 0.5}, {\"type\": \"box\", \"boxpoints\": \"all\", \"name\": \"Hindi(1)\", \"marker\": {\"size\": 2}, \"y\": [\"2017\"], \"jitter\": 0.5}], {\"xaxis\": {\"title\": \"language\"}, \"title\": \"language vs last commit\", \"yaxis\": {\"title\": \"last commit\"}}, {\"showLink\": true, \"linkText\": \"Export to plot.ly\"})});</script>"
      ]
     },
     "metadata": {},
     "output_type": "display_data"
    },
    {
     "data": {
      "application/vnd.plotly.v1+json": {
       "data": [
        {
         "labels": [
          "Spanish",
          "English",
          "Other (please specify)",
          "French",
          "Hindi"
         ],
         "type": "pie",
         "values": [
          1,
          5,
          1,
          1,
          1
         ]
        }
       ],
       "layout": {
        "title": "Population Distribution of language"
       }
      },
      "text/html": [
       "<div id=\"5b3e7993-7cac-47ad-89e6-f9b2cf34da4a\" style=\"height: 525px; width: 100%;\" class=\"plotly-graph-div\"></div><script type=\"text/javascript\">require([\"plotly\"], function(Plotly) { window.PLOTLYENV=window.PLOTLYENV || {};window.PLOTLYENV.BASE_URL=\"https://plot.ly\";Plotly.newPlot(\"5b3e7993-7cac-47ad-89e6-f9b2cf34da4a\", [{\"type\": \"pie\", \"values\": [1, 5, 1, 1, 1], \"labels\": [\"Spanish\", \"English\", \"Other (please specify)\", \"French\", \"Hindi\"]}], {\"title\": \"Population Distribution of language\"}, {\"showLink\": true, \"linkText\": \"Export to plot.ly\"})});</script>"
      ],
      "text/vnd.plotly.v1+html": [
       "<div id=\"5b3e7993-7cac-47ad-89e6-f9b2cf34da4a\" style=\"height: 525px; width: 100%;\" class=\"plotly-graph-div\"></div><script type=\"text/javascript\">require([\"plotly\"], function(Plotly) { window.PLOTLYENV=window.PLOTLYENV || {};window.PLOTLYENV.BASE_URL=\"https://plot.ly\";Plotly.newPlot(\"5b3e7993-7cac-47ad-89e6-f9b2cf34da4a\", [{\"type\": \"pie\", \"values\": [1, 5, 1, 1, 1], \"labels\": [\"Spanish\", \"English\", \"Other (please specify)\", \"French\", \"Hindi\"]}], {\"title\": \"Population Distribution of language\"}, {\"showLink\": true, \"linkText\": \"Export to plot.ly\"})});</script>"
      ]
     },
     "metadata": {},
     "output_type": "display_data"
    },
    {
     "data": {
      "application/vnd.plotly.v1+json": {
       "data": [
        {
         "type": "histogram",
         "x": [
          "2017",
          "2016",
          "2017",
          null,
          null,
          null,
          "2017",
          "2017",
          "2017"
         ]
        }
       ],
       "layout": {
        "title": "Distribution of last commit",
        "xaxis": {
         "title": "last commit"
        },
        "yaxis": {
         "title": "Population"
        }
       }
      },
      "text/html": [
       "<div id=\"7c23a7d1-9324-4100-aa9b-a2f01d1348b1\" style=\"height: 525px; width: 100%;\" class=\"plotly-graph-div\"></div><script type=\"text/javascript\">require([\"plotly\"], function(Plotly) { window.PLOTLYENV=window.PLOTLYENV || {};window.PLOTLYENV.BASE_URL=\"https://plot.ly\";Plotly.newPlot(\"7c23a7d1-9324-4100-aa9b-a2f01d1348b1\", [{\"type\": \"histogram\", \"x\": [\"2017\", \"2016\", \"2017\", null, null, null, \"2017\", \"2017\", \"2017\"]}], {\"xaxis\": {\"title\": \"last commit\"}, \"title\": \"Distribution of last commit\", \"yaxis\": {\"title\": \"Population\"}}, {\"showLink\": true, \"linkText\": \"Export to plot.ly\"})});</script>"
      ],
      "text/vnd.plotly.v1+html": [
       "<div id=\"7c23a7d1-9324-4100-aa9b-a2f01d1348b1\" style=\"height: 525px; width: 100%;\" class=\"plotly-graph-div\"></div><script type=\"text/javascript\">require([\"plotly\"], function(Plotly) { window.PLOTLYENV=window.PLOTLYENV || {};window.PLOTLYENV.BASE_URL=\"https://plot.ly\";Plotly.newPlot(\"7c23a7d1-9324-4100-aa9b-a2f01d1348b1\", [{\"type\": \"histogram\", \"x\": [\"2017\", \"2016\", \"2017\", null, null, null, \"2017\", \"2017\", \"2017\"]}], {\"xaxis\": {\"title\": \"last commit\"}, \"title\": \"Distribution of last commit\", \"yaxis\": {\"title\": \"Population\"}}, {\"showLink\": true, \"linkText\": \"Export to plot.ly\"})});</script>"
      ]
     },
     "metadata": {},
     "output_type": "display_data"
    },
    {
     "data": {
      "application/vnd.plotly.v1+json": {
       "data": [
        {
         "boxpoints": "all",
         "jitter": 0.5,
         "marker": {
          "size": 2
         },
         "name": "Extremely strong(1)",
         "type": "box",
         "y": [
          66
         ]
        },
        {
         "boxpoints": "all",
         "jitter": 0.5,
         "marker": {
          "size": 2
         },
         "name": "Strong(8)",
         "type": "box",
         "y": [
          13,
          7,
          5,
          3,
          1,
          0,
          0,
          0
         ]
        }
       ],
       "layout": {
        "title": "english proficiency vs commits",
        "xaxis": {
         "title": "english proficiency"
        },
        "yaxis": {
         "title": "commits"
        }
       }
      },
      "text/html": [
       "<div id=\"e32fbc87-2bd2-4baf-8e3c-d43126ae8612\" style=\"height: 525px; width: 100%;\" class=\"plotly-graph-div\"></div><script type=\"text/javascript\">require([\"plotly\"], function(Plotly) { window.PLOTLYENV=window.PLOTLYENV || {};window.PLOTLYENV.BASE_URL=\"https://plot.ly\";Plotly.newPlot(\"e32fbc87-2bd2-4baf-8e3c-d43126ae8612\", [{\"type\": \"box\", \"boxpoints\": \"all\", \"name\": \"Extremely strong(1)\", \"marker\": {\"size\": 2}, \"y\": [66.0], \"jitter\": 0.5}, {\"type\": \"box\", \"boxpoints\": \"all\", \"name\": \"Strong(8)\", \"marker\": {\"size\": 2}, \"y\": [13.0, 7.0, 5.0, 3.0, 1.0, 0.0, 0.0, 0.0], \"jitter\": 0.5}], {\"xaxis\": {\"title\": \"english proficiency\"}, \"title\": \"english proficiency vs commits\", \"yaxis\": {\"title\": \"commits\"}}, {\"showLink\": true, \"linkText\": \"Export to plot.ly\"})});</script>"
      ],
      "text/vnd.plotly.v1+html": [
       "<div id=\"e32fbc87-2bd2-4baf-8e3c-d43126ae8612\" style=\"height: 525px; width: 100%;\" class=\"plotly-graph-div\"></div><script type=\"text/javascript\">require([\"plotly\"], function(Plotly) { window.PLOTLYENV=window.PLOTLYENV || {};window.PLOTLYENV.BASE_URL=\"https://plot.ly\";Plotly.newPlot(\"e32fbc87-2bd2-4baf-8e3c-d43126ae8612\", [{\"type\": \"box\", \"boxpoints\": \"all\", \"name\": \"Extremely strong(1)\", \"marker\": {\"size\": 2}, \"y\": [66.0], \"jitter\": 0.5}, {\"type\": \"box\", \"boxpoints\": \"all\", \"name\": \"Strong(8)\", \"marker\": {\"size\": 2}, \"y\": [13.0, 7.0, 5.0, 3.0, 1.0, 0.0, 0.0, 0.0], \"jitter\": 0.5}], {\"xaxis\": {\"title\": \"english proficiency\"}, \"title\": \"english proficiency vs commits\", \"yaxis\": {\"title\": \"commits\"}}, {\"showLink\": true, \"linkText\": \"Export to plot.ly\"})});</script>"
      ]
     },
     "metadata": {},
     "output_type": "display_data"
    },
    {
     "data": {
      "application/vnd.plotly.v1+json": {
       "data": [
        {
         "labels": [
          "Extremely strong",
          "Strong"
         ],
         "type": "pie",
         "values": [
          1,
          8
         ]
        }
       ],
       "layout": {
        "title": "Population Distribution of english proficiency"
       }
      },
      "text/html": [
       "<div id=\"8bc5ebfd-25d4-4740-bd1c-a2a9e52451f4\" style=\"height: 525px; width: 100%;\" class=\"plotly-graph-div\"></div><script type=\"text/javascript\">require([\"plotly\"], function(Plotly) { window.PLOTLYENV=window.PLOTLYENV || {};window.PLOTLYENV.BASE_URL=\"https://plot.ly\";Plotly.newPlot(\"8bc5ebfd-25d4-4740-bd1c-a2a9e52451f4\", [{\"type\": \"pie\", \"values\": [1, 8], \"labels\": [\"Extremely strong\", \"Strong\"]}], {\"title\": \"Population Distribution of english proficiency\"}, {\"showLink\": true, \"linkText\": \"Export to plot.ly\"})});</script>"
      ],
      "text/vnd.plotly.v1+html": [
       "<div id=\"8bc5ebfd-25d4-4740-bd1c-a2a9e52451f4\" style=\"height: 525px; width: 100%;\" class=\"plotly-graph-div\"></div><script type=\"text/javascript\">require([\"plotly\"], function(Plotly) { window.PLOTLYENV=window.PLOTLYENV || {};window.PLOTLYENV.BASE_URL=\"https://plot.ly\";Plotly.newPlot(\"8bc5ebfd-25d4-4740-bd1c-a2a9e52451f4\", [{\"type\": \"pie\", \"values\": [1, 8], \"labels\": [\"Extremely strong\", \"Strong\"]}], {\"title\": \"Population Distribution of english proficiency\"}, {\"showLink\": true, \"linkText\": \"Export to plot.ly\"})});</script>"
      ]
     },
     "metadata": {},
     "output_type": "display_data"
    },
    {
     "data": {
      "application/vnd.plotly.v1+json": {
       "data": [
        {
         "boxpoints": false,
         "name": "Non-employees commits",
         "type": "box",
         "y": [
          1312,
          427,
          314,
          66,
          48,
          38,
          32,
          27,
          18,
          16,
          15,
          14,
          13,
          13,
          13,
          12,
          11,
          10,
          10,
          10,
          9,
          8,
          8,
          7,
          7,
          7,
          7,
          6,
          6,
          6,
          6,
          6,
          6,
          5,
          5,
          5,
          5,
          5,
          5,
          5,
          5,
          5,
          4,
          4,
          4,
          4,
          4,
          4,
          4,
          4,
          4,
          4,
          4,
          4,
          4,
          4,
          3,
          3,
          3,
          3,
          3,
          3,
          3,
          3,
          3,
          3,
          3,
          3,
          3,
          3,
          3,
          3,
          3,
          3,
          3,
          3,
          2,
          2,
          2,
          2,
          2,
          2,
          2,
          2,
          2,
          2,
          2,
          2,
          2,
          2,
          2,
          2,
          2,
          2,
          2,
          2,
          2,
          2,
          2,
          2,
          2,
          2,
          2,
          2,
          2,
          2,
          2,
          2,
          2,
          2,
          2,
          2,
          1,
          1,
          1,
          1,
          1,
          1,
          1,
          1,
          1,
          1,
          1,
          1,
          1,
          1,
          1,
          1,
          1,
          1,
          1,
          1,
          1,
          1,
          1,
          1,
          1,
          1,
          1,
          1,
          1,
          1,
          1,
          1,
          1,
          1,
          1,
          1,
          1,
          1,
          1,
          1,
          1,
          1,
          1,
          1,
          1,
          1,
          1,
          1,
          1,
          1,
          1,
          1,
          1,
          1,
          1,
          1,
          1,
          1,
          1,
          1,
          1,
          1,
          1,
          1,
          1,
          1,
          1,
          1,
          1,
          1,
          1,
          1,
          1,
          1,
          1,
          1,
          1,
          1,
          1,
          1,
          1,
          1,
          1,
          1,
          1,
          1,
          1,
          1,
          1,
          1,
          1,
          1,
          1,
          1,
          1,
          1,
          1,
          1,
          1,
          1,
          1,
          1,
          1,
          1,
          1,
          1,
          1,
          1,
          1
         ]
        },
        {
         "boxpoints": false,
         "name": "Survey commits",
         "type": "box",
         "y": [
          66,
          13,
          7,
          5,
          3,
          1,
          0,
          0,
          0
         ]
        }
       ],
       "layout": {
        "title": "english proficiency vs commits",
        "xaxis": {
         "title": "english proficiency"
        },
        "yaxis": {
         "range": [
          "0",
          "100"
         ],
         "title": "commits"
        }
       }
      },
      "text/html": [
       "<div id=\"9c69e07c-a275-4f92-9686-0c39c9cf39c5\" style=\"height: 525px; width: 100%;\" class=\"plotly-graph-div\"></div><script type=\"text/javascript\">require([\"plotly\"], function(Plotly) { window.PLOTLYENV=window.PLOTLYENV || {};window.PLOTLYENV.BASE_URL=\"https://plot.ly\";Plotly.newPlot(\"9c69e07c-a275-4f92-9686-0c39c9cf39c5\", [{\"type\": \"box\", \"boxpoints\": false, \"name\": \"Non-employees commits\", \"y\": [1312, 427, 314, 66, 48, 38, 32, 27, 18, 16, 15, 14, 13, 13, 13, 12, 11, 10, 10, 10, 9, 8, 8, 7, 7, 7, 7, 6, 6, 6, 6, 6, 6, 5, 5, 5, 5, 5, 5, 5, 5, 5, 4, 4, 4, 4, 4, 4, 4, 4, 4, 4, 4, 4, 4, 4, 3, 3, 3, 3, 3, 3, 3, 3, 3, 3, 3, 3, 3, 3, 3, 3, 3, 3, 3, 3, 2, 2, 2, 2, 2, 2, 2, 2, 2, 2, 2, 2, 2, 2, 2, 2, 2, 2, 2, 2, 2, 2, 2, 2, 2, 2, 2, 2, 2, 2, 2, 2, 2, 2, 2, 2, 1, 1, 1, 1, 1, 1, 1, 1, 1, 1, 1, 1, 1, 1, 1, 1, 1, 1, 1, 1, 1, 1, 1, 1, 1, 1, 1, 1, 1, 1, 1, 1, 1, 1, 1, 1, 1, 1, 1, 1, 1, 1, 1, 1, 1, 1, 1, 1, 1, 1, 1, 1, 1, 1, 1, 1, 1, 1, 1, 1, 1, 1, 1, 1, 1, 1, 1, 1, 1, 1, 1, 1, 1, 1, 1, 1, 1, 1, 1, 1, 1, 1, 1, 1, 1, 1, 1, 1, 1, 1, 1, 1, 1, 1, 1, 1, 1, 1, 1, 1, 1, 1, 1, 1, 1, 1, 1, 1, 1]}, {\"type\": \"box\", \"boxpoints\": false, \"name\": \"Survey commits\", \"y\": [66.0, 13.0, 7.0, 5.0, 3.0, 1.0, 0.0, 0.0, 0.0]}], {\"xaxis\": {\"title\": \"english proficiency\"}, \"title\": \"english proficiency vs commits\", \"yaxis\": {\"title\": \"commits\", \"range\": [\"0\", \"100\"]}}, {\"showLink\": true, \"linkText\": \"Export to plot.ly\"})});</script>"
      ],
      "text/vnd.plotly.v1+html": [
       "<div id=\"9c69e07c-a275-4f92-9686-0c39c9cf39c5\" style=\"height: 525px; width: 100%;\" class=\"plotly-graph-div\"></div><script type=\"text/javascript\">require([\"plotly\"], function(Plotly) { window.PLOTLYENV=window.PLOTLYENV || {};window.PLOTLYENV.BASE_URL=\"https://plot.ly\";Plotly.newPlot(\"9c69e07c-a275-4f92-9686-0c39c9cf39c5\", [{\"type\": \"box\", \"boxpoints\": false, \"name\": \"Non-employees commits\", \"y\": [1312, 427, 314, 66, 48, 38, 32, 27, 18, 16, 15, 14, 13, 13, 13, 12, 11, 10, 10, 10, 9, 8, 8, 7, 7, 7, 7, 6, 6, 6, 6, 6, 6, 5, 5, 5, 5, 5, 5, 5, 5, 5, 4, 4, 4, 4, 4, 4, 4, 4, 4, 4, 4, 4, 4, 4, 3, 3, 3, 3, 3, 3, 3, 3, 3, 3, 3, 3, 3, 3, 3, 3, 3, 3, 3, 3, 2, 2, 2, 2, 2, 2, 2, 2, 2, 2, 2, 2, 2, 2, 2, 2, 2, 2, 2, 2, 2, 2, 2, 2, 2, 2, 2, 2, 2, 2, 2, 2, 2, 2, 2, 2, 1, 1, 1, 1, 1, 1, 1, 1, 1, 1, 1, 1, 1, 1, 1, 1, 1, 1, 1, 1, 1, 1, 1, 1, 1, 1, 1, 1, 1, 1, 1, 1, 1, 1, 1, 1, 1, 1, 1, 1, 1, 1, 1, 1, 1, 1, 1, 1, 1, 1, 1, 1, 1, 1, 1, 1, 1, 1, 1, 1, 1, 1, 1, 1, 1, 1, 1, 1, 1, 1, 1, 1, 1, 1, 1, 1, 1, 1, 1, 1, 1, 1, 1, 1, 1, 1, 1, 1, 1, 1, 1, 1, 1, 1, 1, 1, 1, 1, 1, 1, 1, 1, 1, 1, 1, 1, 1, 1, 1]}, {\"type\": \"box\", \"boxpoints\": false, \"name\": \"Survey commits\", \"y\": [66.0, 13.0, 7.0, 5.0, 3.0, 1.0, 0.0, 0.0, 0.0]}], {\"xaxis\": {\"title\": \"english proficiency\"}, \"title\": \"english proficiency vs commits\", \"yaxis\": {\"title\": \"commits\", \"range\": [\"0\", \"100\"]}}, {\"showLink\": true, \"linkText\": \"Export to plot.ly\"})});</script>"
      ]
     },
     "metadata": {},
     "output_type": "display_data"
    },
    {
     "data": {
      "application/vnd.plotly.v1+json": {
       "data": [
        {
         "boxpoints": "all",
         "jitter": 0.5,
         "marker": {
          "size": 2
         },
         "name": "Extremely strong(1)",
         "type": "box",
         "y": [
          54
         ]
        },
        {
         "boxpoints": "all",
         "jitter": 0.5,
         "marker": {
          "size": 2
         },
         "name": "Strong(8)",
         "type": "box",
         "y": [
          13,
          9,
          3,
          4,
          1,
          1,
          0,
          0
         ]
        }
       ],
       "layout": {
        "title": "english proficiency vs pull requests",
        "xaxis": {
         "title": "english proficiency"
        },
        "yaxis": {
         "title": "pull requests"
        }
       }
      },
      "text/html": [
       "<div id=\"c4154656-8488-410a-9898-2aee138069a0\" style=\"height: 525px; width: 100%;\" class=\"plotly-graph-div\"></div><script type=\"text/javascript\">require([\"plotly\"], function(Plotly) { window.PLOTLYENV=window.PLOTLYENV || {};window.PLOTLYENV.BASE_URL=\"https://plot.ly\";Plotly.newPlot(\"c4154656-8488-410a-9898-2aee138069a0\", [{\"type\": \"box\", \"boxpoints\": \"all\", \"name\": \"Extremely strong(1)\", \"marker\": {\"size\": 2}, \"y\": [54.0], \"jitter\": 0.5}, {\"type\": \"box\", \"boxpoints\": \"all\", \"name\": \"Strong(8)\", \"marker\": {\"size\": 2}, \"y\": [13.0, 9.0, 3.0, 4.0, 1.0, 1.0, 0.0, 0.0], \"jitter\": 0.5}], {\"xaxis\": {\"title\": \"english proficiency\"}, \"title\": \"english proficiency vs pull requests\", \"yaxis\": {\"title\": \"pull requests\"}}, {\"showLink\": true, \"linkText\": \"Export to plot.ly\"})});</script>"
      ],
      "text/vnd.plotly.v1+html": [
       "<div id=\"c4154656-8488-410a-9898-2aee138069a0\" style=\"height: 525px; width: 100%;\" class=\"plotly-graph-div\"></div><script type=\"text/javascript\">require([\"plotly\"], function(Plotly) { window.PLOTLYENV=window.PLOTLYENV || {};window.PLOTLYENV.BASE_URL=\"https://plot.ly\";Plotly.newPlot(\"c4154656-8488-410a-9898-2aee138069a0\", [{\"type\": \"box\", \"boxpoints\": \"all\", \"name\": \"Extremely strong(1)\", \"marker\": {\"size\": 2}, \"y\": [54.0], \"jitter\": 0.5}, {\"type\": \"box\", \"boxpoints\": \"all\", \"name\": \"Strong(8)\", \"marker\": {\"size\": 2}, \"y\": [13.0, 9.0, 3.0, 4.0, 1.0, 1.0, 0.0, 0.0], \"jitter\": 0.5}], {\"xaxis\": {\"title\": \"english proficiency\"}, \"title\": \"english proficiency vs pull requests\", \"yaxis\": {\"title\": \"pull requests\"}}, {\"showLink\": true, \"linkText\": \"Export to plot.ly\"})});</script>"
      ]
     },
     "metadata": {},
     "output_type": "display_data"
    },
    {
     "data": {
      "application/vnd.plotly.v1+json": {
       "data": [
        {
         "labels": [
          "Extremely strong",
          "Strong"
         ],
         "type": "pie",
         "values": [
          1,
          8
         ]
        }
       ],
       "layout": {
        "title": "Population Distribution of english proficiency"
       }
      },
      "text/html": [
       "<div id=\"29551eb9-3429-48cf-86f0-c223a13a2fb1\" style=\"height: 525px; width: 100%;\" class=\"plotly-graph-div\"></div><script type=\"text/javascript\">require([\"plotly\"], function(Plotly) { window.PLOTLYENV=window.PLOTLYENV || {};window.PLOTLYENV.BASE_URL=\"https://plot.ly\";Plotly.newPlot(\"29551eb9-3429-48cf-86f0-c223a13a2fb1\", [{\"type\": \"pie\", \"values\": [1, 8], \"labels\": [\"Extremely strong\", \"Strong\"]}], {\"title\": \"Population Distribution of english proficiency\"}, {\"showLink\": true, \"linkText\": \"Export to plot.ly\"})});</script>"
      ],
      "text/vnd.plotly.v1+html": [
       "<div id=\"29551eb9-3429-48cf-86f0-c223a13a2fb1\" style=\"height: 525px; width: 100%;\" class=\"plotly-graph-div\"></div><script type=\"text/javascript\">require([\"plotly\"], function(Plotly) { window.PLOTLYENV=window.PLOTLYENV || {};window.PLOTLYENV.BASE_URL=\"https://plot.ly\";Plotly.newPlot(\"29551eb9-3429-48cf-86f0-c223a13a2fb1\", [{\"type\": \"pie\", \"values\": [1, 8], \"labels\": [\"Extremely strong\", \"Strong\"]}], {\"title\": \"Population Distribution of english proficiency\"}, {\"showLink\": true, \"linkText\": \"Export to plot.ly\"})});</script>"
      ]
     },
     "metadata": {},
     "output_type": "display_data"
    },
    {
     "data": {
      "application/vnd.plotly.v1+json": {
       "data": [
        {
         "boxpoints": false,
         "name": "Non-employees pull requests",
         "type": "box",
         "y": [
          1312,
          427,
          314,
          66,
          48,
          38,
          32,
          27,
          18,
          16,
          15,
          14,
          13,
          13,
          13,
          12,
          11,
          10,
          10,
          10,
          9,
          8,
          8,
          7,
          7,
          7,
          7,
          6,
          6,
          6,
          6,
          6,
          6,
          5,
          5,
          5,
          5,
          5,
          5,
          5,
          5,
          5,
          4,
          4,
          4,
          4,
          4,
          4,
          4,
          4,
          4,
          4,
          4,
          4,
          4,
          4,
          3,
          3,
          3,
          3,
          3,
          3,
          3,
          3,
          3,
          3,
          3,
          3,
          3,
          3,
          3,
          3,
          3,
          3,
          3,
          3,
          2,
          2,
          2,
          2,
          2,
          2,
          2,
          2,
          2,
          2,
          2,
          2,
          2,
          2,
          2,
          2,
          2,
          2,
          2,
          2,
          2,
          2,
          2,
          2,
          2,
          2,
          2,
          2,
          2,
          2,
          2,
          2,
          2,
          2,
          2,
          2,
          1,
          1,
          1,
          1,
          1,
          1,
          1,
          1,
          1,
          1,
          1,
          1,
          1,
          1,
          1,
          1,
          1,
          1,
          1,
          1,
          1,
          1,
          1,
          1,
          1,
          1,
          1,
          1,
          1,
          1,
          1,
          1,
          1,
          1,
          1,
          1,
          1,
          1,
          1,
          1,
          1,
          1,
          1,
          1,
          1,
          1,
          1,
          1,
          1,
          1,
          1,
          1,
          1,
          1,
          1,
          1,
          1,
          1,
          1,
          1,
          1,
          1,
          1,
          1,
          1,
          1,
          1,
          1,
          1,
          1,
          1,
          1,
          1,
          1,
          1,
          1,
          1,
          1,
          1,
          1,
          1,
          1,
          1,
          1,
          1,
          1,
          1,
          1,
          1,
          1,
          1,
          1,
          1,
          1,
          1,
          1,
          1,
          1,
          1,
          1,
          1,
          1,
          1,
          1,
          1,
          1,
          1,
          1,
          1
         ]
        },
        {
         "boxpoints": false,
         "name": "Survey pull requests",
         "type": "box",
         "y": [
          54,
          13,
          9,
          3,
          4,
          1,
          1,
          0,
          0
         ]
        }
       ],
       "layout": {
        "title": "english proficiency vs pull requests",
        "xaxis": {
         "title": "english proficiency"
        },
        "yaxis": {
         "range": [
          "0",
          "100"
         ],
         "title": "pull requests"
        }
       }
      },
      "text/html": [
       "<div id=\"13911333-27f1-4dae-9c36-95fdc461d029\" style=\"height: 525px; width: 100%;\" class=\"plotly-graph-div\"></div><script type=\"text/javascript\">require([\"plotly\"], function(Plotly) { window.PLOTLYENV=window.PLOTLYENV || {};window.PLOTLYENV.BASE_URL=\"https://plot.ly\";Plotly.newPlot(\"13911333-27f1-4dae-9c36-95fdc461d029\", [{\"type\": \"box\", \"boxpoints\": false, \"name\": \"Non-employees pull requests\", \"y\": [1312, 427, 314, 66, 48, 38, 32, 27, 18, 16, 15, 14, 13, 13, 13, 12, 11, 10, 10, 10, 9, 8, 8, 7, 7, 7, 7, 6, 6, 6, 6, 6, 6, 5, 5, 5, 5, 5, 5, 5, 5, 5, 4, 4, 4, 4, 4, 4, 4, 4, 4, 4, 4, 4, 4, 4, 3, 3, 3, 3, 3, 3, 3, 3, 3, 3, 3, 3, 3, 3, 3, 3, 3, 3, 3, 3, 2, 2, 2, 2, 2, 2, 2, 2, 2, 2, 2, 2, 2, 2, 2, 2, 2, 2, 2, 2, 2, 2, 2, 2, 2, 2, 2, 2, 2, 2, 2, 2, 2, 2, 2, 2, 1, 1, 1, 1, 1, 1, 1, 1, 1, 1, 1, 1, 1, 1, 1, 1, 1, 1, 1, 1, 1, 1, 1, 1, 1, 1, 1, 1, 1, 1, 1, 1, 1, 1, 1, 1, 1, 1, 1, 1, 1, 1, 1, 1, 1, 1, 1, 1, 1, 1, 1, 1, 1, 1, 1, 1, 1, 1, 1, 1, 1, 1, 1, 1, 1, 1, 1, 1, 1, 1, 1, 1, 1, 1, 1, 1, 1, 1, 1, 1, 1, 1, 1, 1, 1, 1, 1, 1, 1, 1, 1, 1, 1, 1, 1, 1, 1, 1, 1, 1, 1, 1, 1, 1, 1, 1, 1, 1, 1]}, {\"type\": \"box\", \"boxpoints\": false, \"name\": \"Survey pull requests\", \"y\": [54.0, 13.0, 9.0, 3.0, 4.0, 1.0, 1.0, 0.0, 0.0]}], {\"xaxis\": {\"title\": \"english proficiency\"}, \"title\": \"english proficiency vs pull requests\", \"yaxis\": {\"title\": \"pull requests\", \"range\": [\"0\", \"100\"]}}, {\"showLink\": true, \"linkText\": \"Export to plot.ly\"})});</script>"
      ],
      "text/vnd.plotly.v1+html": [
       "<div id=\"13911333-27f1-4dae-9c36-95fdc461d029\" style=\"height: 525px; width: 100%;\" class=\"plotly-graph-div\"></div><script type=\"text/javascript\">require([\"plotly\"], function(Plotly) { window.PLOTLYENV=window.PLOTLYENV || {};window.PLOTLYENV.BASE_URL=\"https://plot.ly\";Plotly.newPlot(\"13911333-27f1-4dae-9c36-95fdc461d029\", [{\"type\": \"box\", \"boxpoints\": false, \"name\": \"Non-employees pull requests\", \"y\": [1312, 427, 314, 66, 48, 38, 32, 27, 18, 16, 15, 14, 13, 13, 13, 12, 11, 10, 10, 10, 9, 8, 8, 7, 7, 7, 7, 6, 6, 6, 6, 6, 6, 5, 5, 5, 5, 5, 5, 5, 5, 5, 4, 4, 4, 4, 4, 4, 4, 4, 4, 4, 4, 4, 4, 4, 3, 3, 3, 3, 3, 3, 3, 3, 3, 3, 3, 3, 3, 3, 3, 3, 3, 3, 3, 3, 2, 2, 2, 2, 2, 2, 2, 2, 2, 2, 2, 2, 2, 2, 2, 2, 2, 2, 2, 2, 2, 2, 2, 2, 2, 2, 2, 2, 2, 2, 2, 2, 2, 2, 2, 2, 1, 1, 1, 1, 1, 1, 1, 1, 1, 1, 1, 1, 1, 1, 1, 1, 1, 1, 1, 1, 1, 1, 1, 1, 1, 1, 1, 1, 1, 1, 1, 1, 1, 1, 1, 1, 1, 1, 1, 1, 1, 1, 1, 1, 1, 1, 1, 1, 1, 1, 1, 1, 1, 1, 1, 1, 1, 1, 1, 1, 1, 1, 1, 1, 1, 1, 1, 1, 1, 1, 1, 1, 1, 1, 1, 1, 1, 1, 1, 1, 1, 1, 1, 1, 1, 1, 1, 1, 1, 1, 1, 1, 1, 1, 1, 1, 1, 1, 1, 1, 1, 1, 1, 1, 1, 1, 1, 1, 1]}, {\"type\": \"box\", \"boxpoints\": false, \"name\": \"Survey pull requests\", \"y\": [54.0, 13.0, 9.0, 3.0, 4.0, 1.0, 1.0, 0.0, 0.0]}], {\"xaxis\": {\"title\": \"english proficiency\"}, \"title\": \"english proficiency vs pull requests\", \"yaxis\": {\"title\": \"pull requests\", \"range\": [\"0\", \"100\"]}}, {\"showLink\": true, \"linkText\": \"Export to plot.ly\"})});</script>"
      ]
     },
     "metadata": {},
     "output_type": "display_data"
    },
    {
     "data": {
      "application/vnd.plotly.v1+json": {
       "data": [
        {
         "boxpoints": "all",
         "jitter": 0.5,
         "marker": {
          "size": 2
         },
         "name": "Extremely strong(1)",
         "type": "box",
         "y": [
          38
         ]
        },
        {
         "boxpoints": "all",
         "jitter": 0.5,
         "marker": {
          "size": 2
         },
         "name": "Strong(8)",
         "type": "box",
         "y": [
          6,
          13,
          0,
          4,
          0,
          0,
          0,
          5
         ]
        }
       ],
       "layout": {
        "title": "english proficiency vs issues",
        "xaxis": {
         "title": "english proficiency"
        },
        "yaxis": {
         "title": "issues"
        }
       }
      },
      "text/html": [
       "<div id=\"cef87a37-24e8-40ea-8bdf-3d5b9adc2a8f\" style=\"height: 525px; width: 100%;\" class=\"plotly-graph-div\"></div><script type=\"text/javascript\">require([\"plotly\"], function(Plotly) { window.PLOTLYENV=window.PLOTLYENV || {};window.PLOTLYENV.BASE_URL=\"https://plot.ly\";Plotly.newPlot(\"cef87a37-24e8-40ea-8bdf-3d5b9adc2a8f\", [{\"type\": \"box\", \"boxpoints\": \"all\", \"name\": \"Extremely strong(1)\", \"marker\": {\"size\": 2}, \"y\": [38.0], \"jitter\": 0.5}, {\"type\": \"box\", \"boxpoints\": \"all\", \"name\": \"Strong(8)\", \"marker\": {\"size\": 2}, \"y\": [6.0, 13.0, 0.0, 4.0, 0.0, 0.0, 0.0, 5.0], \"jitter\": 0.5}], {\"xaxis\": {\"title\": \"english proficiency\"}, \"title\": \"english proficiency vs issues\", \"yaxis\": {\"title\": \"issues\"}}, {\"showLink\": true, \"linkText\": \"Export to plot.ly\"})});</script>"
      ],
      "text/vnd.plotly.v1+html": [
       "<div id=\"cef87a37-24e8-40ea-8bdf-3d5b9adc2a8f\" style=\"height: 525px; width: 100%;\" class=\"plotly-graph-div\"></div><script type=\"text/javascript\">require([\"plotly\"], function(Plotly) { window.PLOTLYENV=window.PLOTLYENV || {};window.PLOTLYENV.BASE_URL=\"https://plot.ly\";Plotly.newPlot(\"cef87a37-24e8-40ea-8bdf-3d5b9adc2a8f\", [{\"type\": \"box\", \"boxpoints\": \"all\", \"name\": \"Extremely strong(1)\", \"marker\": {\"size\": 2}, \"y\": [38.0], \"jitter\": 0.5}, {\"type\": \"box\", \"boxpoints\": \"all\", \"name\": \"Strong(8)\", \"marker\": {\"size\": 2}, \"y\": [6.0, 13.0, 0.0, 4.0, 0.0, 0.0, 0.0, 5.0], \"jitter\": 0.5}], {\"xaxis\": {\"title\": \"english proficiency\"}, \"title\": \"english proficiency vs issues\", \"yaxis\": {\"title\": \"issues\"}}, {\"showLink\": true, \"linkText\": \"Export to plot.ly\"})});</script>"
      ]
     },
     "metadata": {},
     "output_type": "display_data"
    },
    {
     "data": {
      "application/vnd.plotly.v1+json": {
       "data": [
        {
         "labels": [
          "Extremely strong",
          "Strong"
         ],
         "type": "pie",
         "values": [
          1,
          8
         ]
        }
       ],
       "layout": {
        "title": "Population Distribution of english proficiency"
       }
      },
      "text/html": [
       "<div id=\"cc7fb09f-546d-4ec6-97f8-b10cf8921644\" style=\"height: 525px; width: 100%;\" class=\"plotly-graph-div\"></div><script type=\"text/javascript\">require([\"plotly\"], function(Plotly) { window.PLOTLYENV=window.PLOTLYENV || {};window.PLOTLYENV.BASE_URL=\"https://plot.ly\";Plotly.newPlot(\"cc7fb09f-546d-4ec6-97f8-b10cf8921644\", [{\"type\": \"pie\", \"values\": [1, 8], \"labels\": [\"Extremely strong\", \"Strong\"]}], {\"title\": \"Population Distribution of english proficiency\"}, {\"showLink\": true, \"linkText\": \"Export to plot.ly\"})});</script>"
      ],
      "text/vnd.plotly.v1+html": [
       "<div id=\"cc7fb09f-546d-4ec6-97f8-b10cf8921644\" style=\"height: 525px; width: 100%;\" class=\"plotly-graph-div\"></div><script type=\"text/javascript\">require([\"plotly\"], function(Plotly) { window.PLOTLYENV=window.PLOTLYENV || {};window.PLOTLYENV.BASE_URL=\"https://plot.ly\";Plotly.newPlot(\"cc7fb09f-546d-4ec6-97f8-b10cf8921644\", [{\"type\": \"pie\", \"values\": [1, 8], \"labels\": [\"Extremely strong\", \"Strong\"]}], {\"title\": \"Population Distribution of english proficiency\"}, {\"showLink\": true, \"linkText\": \"Export to plot.ly\"})});</script>"
      ]
     },
     "metadata": {},
     "output_type": "display_data"
    },
    {
     "data": {
      "application/vnd.plotly.v1+json": {
       "data": [
        {
         "boxpoints": false,
         "name": "Non-employees issues",
         "type": "box",
         "y": [
          1312,
          427,
          314,
          66,
          48,
          38,
          32,
          27,
          18,
          16,
          15,
          14,
          13,
          13,
          13,
          12,
          11,
          10,
          10,
          10,
          9,
          8,
          8,
          7,
          7,
          7,
          7,
          6,
          6,
          6,
          6,
          6,
          6,
          5,
          5,
          5,
          5,
          5,
          5,
          5,
          5,
          5,
          4,
          4,
          4,
          4,
          4,
          4,
          4,
          4,
          4,
          4,
          4,
          4,
          4,
          4,
          3,
          3,
          3,
          3,
          3,
          3,
          3,
          3,
          3,
          3,
          3,
          3,
          3,
          3,
          3,
          3,
          3,
          3,
          3,
          3,
          2,
          2,
          2,
          2,
          2,
          2,
          2,
          2,
          2,
          2,
          2,
          2,
          2,
          2,
          2,
          2,
          2,
          2,
          2,
          2,
          2,
          2,
          2,
          2,
          2,
          2,
          2,
          2,
          2,
          2,
          2,
          2,
          2,
          2,
          2,
          2,
          1,
          1,
          1,
          1,
          1,
          1,
          1,
          1,
          1,
          1,
          1,
          1,
          1,
          1,
          1,
          1,
          1,
          1,
          1,
          1,
          1,
          1,
          1,
          1,
          1,
          1,
          1,
          1,
          1,
          1,
          1,
          1,
          1,
          1,
          1,
          1,
          1,
          1,
          1,
          1,
          1,
          1,
          1,
          1,
          1,
          1,
          1,
          1,
          1,
          1,
          1,
          1,
          1,
          1,
          1,
          1,
          1,
          1,
          1,
          1,
          1,
          1,
          1,
          1,
          1,
          1,
          1,
          1,
          1,
          1,
          1,
          1,
          1,
          1,
          1,
          1,
          1,
          1,
          1,
          1,
          1,
          1,
          1,
          1,
          1,
          1,
          1,
          1,
          1,
          1,
          1,
          1,
          1,
          1,
          1,
          1,
          1,
          1,
          1,
          1,
          1,
          1,
          1,
          1,
          1,
          1,
          1,
          1,
          1
         ]
        },
        {
         "boxpoints": false,
         "name": "Survey issues",
         "type": "box",
         "y": [
          38,
          6,
          13,
          0,
          4,
          0,
          0,
          0,
          5
         ]
        }
       ],
       "layout": {
        "title": "english proficiency vs issues",
        "xaxis": {
         "title": "english proficiency"
        },
        "yaxis": {
         "range": [
          "0",
          "100"
         ],
         "title": "issues"
        }
       }
      },
      "text/html": [
       "<div id=\"1f4ae78c-80cd-4998-b97b-40be4fbff39f\" style=\"height: 525px; width: 100%;\" class=\"plotly-graph-div\"></div><script type=\"text/javascript\">require([\"plotly\"], function(Plotly) { window.PLOTLYENV=window.PLOTLYENV || {};window.PLOTLYENV.BASE_URL=\"https://plot.ly\";Plotly.newPlot(\"1f4ae78c-80cd-4998-b97b-40be4fbff39f\", [{\"type\": \"box\", \"boxpoints\": false, \"name\": \"Non-employees issues\", \"y\": [1312, 427, 314, 66, 48, 38, 32, 27, 18, 16, 15, 14, 13, 13, 13, 12, 11, 10, 10, 10, 9, 8, 8, 7, 7, 7, 7, 6, 6, 6, 6, 6, 6, 5, 5, 5, 5, 5, 5, 5, 5, 5, 4, 4, 4, 4, 4, 4, 4, 4, 4, 4, 4, 4, 4, 4, 3, 3, 3, 3, 3, 3, 3, 3, 3, 3, 3, 3, 3, 3, 3, 3, 3, 3, 3, 3, 2, 2, 2, 2, 2, 2, 2, 2, 2, 2, 2, 2, 2, 2, 2, 2, 2, 2, 2, 2, 2, 2, 2, 2, 2, 2, 2, 2, 2, 2, 2, 2, 2, 2, 2, 2, 1, 1, 1, 1, 1, 1, 1, 1, 1, 1, 1, 1, 1, 1, 1, 1, 1, 1, 1, 1, 1, 1, 1, 1, 1, 1, 1, 1, 1, 1, 1, 1, 1, 1, 1, 1, 1, 1, 1, 1, 1, 1, 1, 1, 1, 1, 1, 1, 1, 1, 1, 1, 1, 1, 1, 1, 1, 1, 1, 1, 1, 1, 1, 1, 1, 1, 1, 1, 1, 1, 1, 1, 1, 1, 1, 1, 1, 1, 1, 1, 1, 1, 1, 1, 1, 1, 1, 1, 1, 1, 1, 1, 1, 1, 1, 1, 1, 1, 1, 1, 1, 1, 1, 1, 1, 1, 1, 1, 1]}, {\"type\": \"box\", \"boxpoints\": false, \"name\": \"Survey issues\", \"y\": [38.0, 6.0, 13.0, 0.0, 4.0, 0.0, 0.0, 0.0, 5.0]}], {\"xaxis\": {\"title\": \"english proficiency\"}, \"title\": \"english proficiency vs issues\", \"yaxis\": {\"title\": \"issues\", \"range\": [\"0\", \"100\"]}}, {\"showLink\": true, \"linkText\": \"Export to plot.ly\"})});</script>"
      ],
      "text/vnd.plotly.v1+html": [
       "<div id=\"1f4ae78c-80cd-4998-b97b-40be4fbff39f\" style=\"height: 525px; width: 100%;\" class=\"plotly-graph-div\"></div><script type=\"text/javascript\">require([\"plotly\"], function(Plotly) { window.PLOTLYENV=window.PLOTLYENV || {};window.PLOTLYENV.BASE_URL=\"https://plot.ly\";Plotly.newPlot(\"1f4ae78c-80cd-4998-b97b-40be4fbff39f\", [{\"type\": \"box\", \"boxpoints\": false, \"name\": \"Non-employees issues\", \"y\": [1312, 427, 314, 66, 48, 38, 32, 27, 18, 16, 15, 14, 13, 13, 13, 12, 11, 10, 10, 10, 9, 8, 8, 7, 7, 7, 7, 6, 6, 6, 6, 6, 6, 5, 5, 5, 5, 5, 5, 5, 5, 5, 4, 4, 4, 4, 4, 4, 4, 4, 4, 4, 4, 4, 4, 4, 3, 3, 3, 3, 3, 3, 3, 3, 3, 3, 3, 3, 3, 3, 3, 3, 3, 3, 3, 3, 2, 2, 2, 2, 2, 2, 2, 2, 2, 2, 2, 2, 2, 2, 2, 2, 2, 2, 2, 2, 2, 2, 2, 2, 2, 2, 2, 2, 2, 2, 2, 2, 2, 2, 2, 2, 1, 1, 1, 1, 1, 1, 1, 1, 1, 1, 1, 1, 1, 1, 1, 1, 1, 1, 1, 1, 1, 1, 1, 1, 1, 1, 1, 1, 1, 1, 1, 1, 1, 1, 1, 1, 1, 1, 1, 1, 1, 1, 1, 1, 1, 1, 1, 1, 1, 1, 1, 1, 1, 1, 1, 1, 1, 1, 1, 1, 1, 1, 1, 1, 1, 1, 1, 1, 1, 1, 1, 1, 1, 1, 1, 1, 1, 1, 1, 1, 1, 1, 1, 1, 1, 1, 1, 1, 1, 1, 1, 1, 1, 1, 1, 1, 1, 1, 1, 1, 1, 1, 1, 1, 1, 1, 1, 1, 1]}, {\"type\": \"box\", \"boxpoints\": false, \"name\": \"Survey issues\", \"y\": [38.0, 6.0, 13.0, 0.0, 4.0, 0.0, 0.0, 0.0, 5.0]}], {\"xaxis\": {\"title\": \"english proficiency\"}, \"title\": \"english proficiency vs issues\", \"yaxis\": {\"title\": \"issues\", \"range\": [\"0\", \"100\"]}}, {\"showLink\": true, \"linkText\": \"Export to plot.ly\"})});</script>"
      ]
     },
     "metadata": {},
     "output_type": "display_data"
    },
    {
     "data": {
      "application/vnd.plotly.v1+json": {
       "data": [
        {
         "boxpoints": "all",
         "jitter": 0.5,
         "marker": {
          "size": 2
         },
         "name": "Extremely strong(1)",
         "type": "box",
         "y": [
          0
         ]
        },
        {
         "boxpoints": "all",
         "jitter": 0.5,
         "marker": {
          "size": 2
         },
         "name": "Strong(8)",
         "type": "box",
         "y": [
          0,
          0,
          0,
          0,
          0,
          0,
          0,
          0
         ]
        }
       ],
       "layout": {
        "title": "english proficiency vs bugs",
        "xaxis": {
         "title": "english proficiency"
        },
        "yaxis": {
         "title": "bugs"
        }
       }
      },
      "text/html": [
       "<div id=\"676428e8-80a4-41e4-a8c9-f3d551e4077f\" style=\"height: 525px; width: 100%;\" class=\"plotly-graph-div\"></div><script type=\"text/javascript\">require([\"plotly\"], function(Plotly) { window.PLOTLYENV=window.PLOTLYENV || {};window.PLOTLYENV.BASE_URL=\"https://plot.ly\";Plotly.newPlot(\"676428e8-80a4-41e4-a8c9-f3d551e4077f\", [{\"type\": \"box\", \"boxpoints\": \"all\", \"name\": \"Extremely strong(1)\", \"marker\": {\"size\": 2}, \"y\": [0.0], \"jitter\": 0.5}, {\"type\": \"box\", \"boxpoints\": \"all\", \"name\": \"Strong(8)\", \"marker\": {\"size\": 2}, \"y\": [0.0, 0.0, 0.0, 0.0, 0.0, 0.0, 0.0, 0.0], \"jitter\": 0.5}], {\"xaxis\": {\"title\": \"english proficiency\"}, \"title\": \"english proficiency vs bugs\", \"yaxis\": {\"title\": \"bugs\"}}, {\"showLink\": true, \"linkText\": \"Export to plot.ly\"})});</script>"
      ],
      "text/vnd.plotly.v1+html": [
       "<div id=\"676428e8-80a4-41e4-a8c9-f3d551e4077f\" style=\"height: 525px; width: 100%;\" class=\"plotly-graph-div\"></div><script type=\"text/javascript\">require([\"plotly\"], function(Plotly) { window.PLOTLYENV=window.PLOTLYENV || {};window.PLOTLYENV.BASE_URL=\"https://plot.ly\";Plotly.newPlot(\"676428e8-80a4-41e4-a8c9-f3d551e4077f\", [{\"type\": \"box\", \"boxpoints\": \"all\", \"name\": \"Extremely strong(1)\", \"marker\": {\"size\": 2}, \"y\": [0.0], \"jitter\": 0.5}, {\"type\": \"box\", \"boxpoints\": \"all\", \"name\": \"Strong(8)\", \"marker\": {\"size\": 2}, \"y\": [0.0, 0.0, 0.0, 0.0, 0.0, 0.0, 0.0, 0.0], \"jitter\": 0.5}], {\"xaxis\": {\"title\": \"english proficiency\"}, \"title\": \"english proficiency vs bugs\", \"yaxis\": {\"title\": \"bugs\"}}, {\"showLink\": true, \"linkText\": \"Export to plot.ly\"})});</script>"
      ]
     },
     "metadata": {},
     "output_type": "display_data"
    },
    {
     "data": {
      "application/vnd.plotly.v1+json": {
       "data": [
        {
         "labels": [
          "Extremely strong",
          "Strong"
         ],
         "type": "pie",
         "values": [
          1,
          8
         ]
        }
       ],
       "layout": {
        "title": "Population Distribution of english proficiency"
       }
      },
      "text/html": [
       "<div id=\"3d30d324-dece-4fc8-89ec-ea61c15f9972\" style=\"height: 525px; width: 100%;\" class=\"plotly-graph-div\"></div><script type=\"text/javascript\">require([\"plotly\"], function(Plotly) { window.PLOTLYENV=window.PLOTLYENV || {};window.PLOTLYENV.BASE_URL=\"https://plot.ly\";Plotly.newPlot(\"3d30d324-dece-4fc8-89ec-ea61c15f9972\", [{\"type\": \"pie\", \"values\": [1, 8], \"labels\": [\"Extremely strong\", \"Strong\"]}], {\"title\": \"Population Distribution of english proficiency\"}, {\"showLink\": true, \"linkText\": \"Export to plot.ly\"})});</script>"
      ],
      "text/vnd.plotly.v1+html": [
       "<div id=\"3d30d324-dece-4fc8-89ec-ea61c15f9972\" style=\"height: 525px; width: 100%;\" class=\"plotly-graph-div\"></div><script type=\"text/javascript\">require([\"plotly\"], function(Plotly) { window.PLOTLYENV=window.PLOTLYENV || {};window.PLOTLYENV.BASE_URL=\"https://plot.ly\";Plotly.newPlot(\"3d30d324-dece-4fc8-89ec-ea61c15f9972\", [{\"type\": \"pie\", \"values\": [1, 8], \"labels\": [\"Extremely strong\", \"Strong\"]}], {\"title\": \"Population Distribution of english proficiency\"}, {\"showLink\": true, \"linkText\": \"Export to plot.ly\"})});</script>"
      ]
     },
     "metadata": {},
     "output_type": "display_data"
    },
    {
     "data": {
      "application/vnd.plotly.v1+json": {
       "data": [
        {
         "boxpoints": false,
         "name": "Non-employees bugs",
         "type": "box",
         "y": [
          1312,
          427,
          314,
          66,
          48,
          38,
          32,
          27,
          18,
          16,
          15,
          14,
          13,
          13,
          13,
          12,
          11,
          10,
          10,
          10,
          9,
          8,
          8,
          7,
          7,
          7,
          7,
          6,
          6,
          6,
          6,
          6,
          6,
          5,
          5,
          5,
          5,
          5,
          5,
          5,
          5,
          5,
          4,
          4,
          4,
          4,
          4,
          4,
          4,
          4,
          4,
          4,
          4,
          4,
          4,
          4,
          3,
          3,
          3,
          3,
          3,
          3,
          3,
          3,
          3,
          3,
          3,
          3,
          3,
          3,
          3,
          3,
          3,
          3,
          3,
          3,
          2,
          2,
          2,
          2,
          2,
          2,
          2,
          2,
          2,
          2,
          2,
          2,
          2,
          2,
          2,
          2,
          2,
          2,
          2,
          2,
          2,
          2,
          2,
          2,
          2,
          2,
          2,
          2,
          2,
          2,
          2,
          2,
          2,
          2,
          2,
          2,
          1,
          1,
          1,
          1,
          1,
          1,
          1,
          1,
          1,
          1,
          1,
          1,
          1,
          1,
          1,
          1,
          1,
          1,
          1,
          1,
          1,
          1,
          1,
          1,
          1,
          1,
          1,
          1,
          1,
          1,
          1,
          1,
          1,
          1,
          1,
          1,
          1,
          1,
          1,
          1,
          1,
          1,
          1,
          1,
          1,
          1,
          1,
          1,
          1,
          1,
          1,
          1,
          1,
          1,
          1,
          1,
          1,
          1,
          1,
          1,
          1,
          1,
          1,
          1,
          1,
          1,
          1,
          1,
          1,
          1,
          1,
          1,
          1,
          1,
          1,
          1,
          1,
          1,
          1,
          1,
          1,
          1,
          1,
          1,
          1,
          1,
          1,
          1,
          1,
          1,
          1,
          1,
          1,
          1,
          1,
          1,
          1,
          1,
          1,
          1,
          1,
          1,
          1,
          1,
          1,
          1,
          1,
          1,
          1
         ]
        },
        {
         "boxpoints": false,
         "name": "Survey bugs",
         "type": "box",
         "y": [
          0,
          0,
          0,
          0,
          0,
          0,
          0,
          0,
          0
         ]
        }
       ],
       "layout": {
        "title": "english proficiency vs bugs",
        "xaxis": {
         "title": "english proficiency"
        },
        "yaxis": {
         "range": [
          "0",
          "100"
         ],
         "title": "bugs"
        }
       }
      },
      "text/html": [
       "<div id=\"0e2dabce-b6cd-4177-980a-5d9a5be6e107\" style=\"height: 525px; width: 100%;\" class=\"plotly-graph-div\"></div><script type=\"text/javascript\">require([\"plotly\"], function(Plotly) { window.PLOTLYENV=window.PLOTLYENV || {};window.PLOTLYENV.BASE_URL=\"https://plot.ly\";Plotly.newPlot(\"0e2dabce-b6cd-4177-980a-5d9a5be6e107\", [{\"type\": \"box\", \"boxpoints\": false, \"name\": \"Non-employees bugs\", \"y\": [1312, 427, 314, 66, 48, 38, 32, 27, 18, 16, 15, 14, 13, 13, 13, 12, 11, 10, 10, 10, 9, 8, 8, 7, 7, 7, 7, 6, 6, 6, 6, 6, 6, 5, 5, 5, 5, 5, 5, 5, 5, 5, 4, 4, 4, 4, 4, 4, 4, 4, 4, 4, 4, 4, 4, 4, 3, 3, 3, 3, 3, 3, 3, 3, 3, 3, 3, 3, 3, 3, 3, 3, 3, 3, 3, 3, 2, 2, 2, 2, 2, 2, 2, 2, 2, 2, 2, 2, 2, 2, 2, 2, 2, 2, 2, 2, 2, 2, 2, 2, 2, 2, 2, 2, 2, 2, 2, 2, 2, 2, 2, 2, 1, 1, 1, 1, 1, 1, 1, 1, 1, 1, 1, 1, 1, 1, 1, 1, 1, 1, 1, 1, 1, 1, 1, 1, 1, 1, 1, 1, 1, 1, 1, 1, 1, 1, 1, 1, 1, 1, 1, 1, 1, 1, 1, 1, 1, 1, 1, 1, 1, 1, 1, 1, 1, 1, 1, 1, 1, 1, 1, 1, 1, 1, 1, 1, 1, 1, 1, 1, 1, 1, 1, 1, 1, 1, 1, 1, 1, 1, 1, 1, 1, 1, 1, 1, 1, 1, 1, 1, 1, 1, 1, 1, 1, 1, 1, 1, 1, 1, 1, 1, 1, 1, 1, 1, 1, 1, 1, 1, 1]}, {\"type\": \"box\", \"boxpoints\": false, \"name\": \"Survey bugs\", \"y\": [0.0, 0.0, 0.0, 0.0, 0.0, 0.0, 0.0, 0.0, 0.0]}], {\"xaxis\": {\"title\": \"english proficiency\"}, \"title\": \"english proficiency vs bugs\", \"yaxis\": {\"title\": \"bugs\", \"range\": [\"0\", \"100\"]}}, {\"showLink\": true, \"linkText\": \"Export to plot.ly\"})});</script>"
      ],
      "text/vnd.plotly.v1+html": [
       "<div id=\"0e2dabce-b6cd-4177-980a-5d9a5be6e107\" style=\"height: 525px; width: 100%;\" class=\"plotly-graph-div\"></div><script type=\"text/javascript\">require([\"plotly\"], function(Plotly) { window.PLOTLYENV=window.PLOTLYENV || {};window.PLOTLYENV.BASE_URL=\"https://plot.ly\";Plotly.newPlot(\"0e2dabce-b6cd-4177-980a-5d9a5be6e107\", [{\"type\": \"box\", \"boxpoints\": false, \"name\": \"Non-employees bugs\", \"y\": [1312, 427, 314, 66, 48, 38, 32, 27, 18, 16, 15, 14, 13, 13, 13, 12, 11, 10, 10, 10, 9, 8, 8, 7, 7, 7, 7, 6, 6, 6, 6, 6, 6, 5, 5, 5, 5, 5, 5, 5, 5, 5, 4, 4, 4, 4, 4, 4, 4, 4, 4, 4, 4, 4, 4, 4, 3, 3, 3, 3, 3, 3, 3, 3, 3, 3, 3, 3, 3, 3, 3, 3, 3, 3, 3, 3, 2, 2, 2, 2, 2, 2, 2, 2, 2, 2, 2, 2, 2, 2, 2, 2, 2, 2, 2, 2, 2, 2, 2, 2, 2, 2, 2, 2, 2, 2, 2, 2, 2, 2, 2, 2, 1, 1, 1, 1, 1, 1, 1, 1, 1, 1, 1, 1, 1, 1, 1, 1, 1, 1, 1, 1, 1, 1, 1, 1, 1, 1, 1, 1, 1, 1, 1, 1, 1, 1, 1, 1, 1, 1, 1, 1, 1, 1, 1, 1, 1, 1, 1, 1, 1, 1, 1, 1, 1, 1, 1, 1, 1, 1, 1, 1, 1, 1, 1, 1, 1, 1, 1, 1, 1, 1, 1, 1, 1, 1, 1, 1, 1, 1, 1, 1, 1, 1, 1, 1, 1, 1, 1, 1, 1, 1, 1, 1, 1, 1, 1, 1, 1, 1, 1, 1, 1, 1, 1, 1, 1, 1, 1, 1, 1]}, {\"type\": \"box\", \"boxpoints\": false, \"name\": \"Survey bugs\", \"y\": [0.0, 0.0, 0.0, 0.0, 0.0, 0.0, 0.0, 0.0, 0.0]}], {\"xaxis\": {\"title\": \"english proficiency\"}, \"title\": \"english proficiency vs bugs\", \"yaxis\": {\"title\": \"bugs\", \"range\": [\"0\", \"100\"]}}, {\"showLink\": true, \"linkText\": \"Export to plot.ly\"})});</script>"
      ]
     },
     "metadata": {},
     "output_type": "display_data"
    },
    {
     "data": {
      "application/vnd.plotly.v1+json": {
       "data": [
        {
         "boxpoints": "all",
         "jitter": 0.5,
         "marker": {
          "size": 2
         },
         "name": "Extremely strong(1)",
         "type": "box",
         "y": [
          0
         ]
        },
        {
         "boxpoints": "all",
         "jitter": 0.5,
         "marker": {
          "size": 2
         },
         "name": "Strong(8)",
         "type": "box",
         "y": [
          0,
          0,
          0,
          0,
          0,
          0,
          0,
          0
         ]
        }
       ],
       "layout": {
        "title": "english proficiency vs emails",
        "xaxis": {
         "title": "english proficiency"
        },
        "yaxis": {
         "title": "emails"
        }
       }
      },
      "text/html": [
       "<div id=\"a0f041b0-3bd3-4415-8e62-d35b09d9809a\" style=\"height: 525px; width: 100%;\" class=\"plotly-graph-div\"></div><script type=\"text/javascript\">require([\"plotly\"], function(Plotly) { window.PLOTLYENV=window.PLOTLYENV || {};window.PLOTLYENV.BASE_URL=\"https://plot.ly\";Plotly.newPlot(\"a0f041b0-3bd3-4415-8e62-d35b09d9809a\", [{\"type\": \"box\", \"boxpoints\": \"all\", \"name\": \"Extremely strong(1)\", \"marker\": {\"size\": 2}, \"y\": [0.0], \"jitter\": 0.5}, {\"type\": \"box\", \"boxpoints\": \"all\", \"name\": \"Strong(8)\", \"marker\": {\"size\": 2}, \"y\": [0.0, 0.0, 0.0, 0.0, 0.0, 0.0, 0.0, 0.0], \"jitter\": 0.5}], {\"xaxis\": {\"title\": \"english proficiency\"}, \"title\": \"english proficiency vs emails\", \"yaxis\": {\"title\": \"emails\"}}, {\"showLink\": true, \"linkText\": \"Export to plot.ly\"})});</script>"
      ],
      "text/vnd.plotly.v1+html": [
       "<div id=\"a0f041b0-3bd3-4415-8e62-d35b09d9809a\" style=\"height: 525px; width: 100%;\" class=\"plotly-graph-div\"></div><script type=\"text/javascript\">require([\"plotly\"], function(Plotly) { window.PLOTLYENV=window.PLOTLYENV || {};window.PLOTLYENV.BASE_URL=\"https://plot.ly\";Plotly.newPlot(\"a0f041b0-3bd3-4415-8e62-d35b09d9809a\", [{\"type\": \"box\", \"boxpoints\": \"all\", \"name\": \"Extremely strong(1)\", \"marker\": {\"size\": 2}, \"y\": [0.0], \"jitter\": 0.5}, {\"type\": \"box\", \"boxpoints\": \"all\", \"name\": \"Strong(8)\", \"marker\": {\"size\": 2}, \"y\": [0.0, 0.0, 0.0, 0.0, 0.0, 0.0, 0.0, 0.0], \"jitter\": 0.5}], {\"xaxis\": {\"title\": \"english proficiency\"}, \"title\": \"english proficiency vs emails\", \"yaxis\": {\"title\": \"emails\"}}, {\"showLink\": true, \"linkText\": \"Export to plot.ly\"})});</script>"
      ]
     },
     "metadata": {},
     "output_type": "display_data"
    },
    {
     "data": {
      "application/vnd.plotly.v1+json": {
       "data": [
        {
         "labels": [
          "Extremely strong",
          "Strong"
         ],
         "type": "pie",
         "values": [
          1,
          8
         ]
        }
       ],
       "layout": {
        "title": "Population Distribution of english proficiency"
       }
      },
      "text/html": [
       "<div id=\"08a4555d-4092-4876-9f07-121331d19fe6\" style=\"height: 525px; width: 100%;\" class=\"plotly-graph-div\"></div><script type=\"text/javascript\">require([\"plotly\"], function(Plotly) { window.PLOTLYENV=window.PLOTLYENV || {};window.PLOTLYENV.BASE_URL=\"https://plot.ly\";Plotly.newPlot(\"08a4555d-4092-4876-9f07-121331d19fe6\", [{\"type\": \"pie\", \"values\": [1, 8], \"labels\": [\"Extremely strong\", \"Strong\"]}], {\"title\": \"Population Distribution of english proficiency\"}, {\"showLink\": true, \"linkText\": \"Export to plot.ly\"})});</script>"
      ],
      "text/vnd.plotly.v1+html": [
       "<div id=\"08a4555d-4092-4876-9f07-121331d19fe6\" style=\"height: 525px; width: 100%;\" class=\"plotly-graph-div\"></div><script type=\"text/javascript\">require([\"plotly\"], function(Plotly) { window.PLOTLYENV=window.PLOTLYENV || {};window.PLOTLYENV.BASE_URL=\"https://plot.ly\";Plotly.newPlot(\"08a4555d-4092-4876-9f07-121331d19fe6\", [{\"type\": \"pie\", \"values\": [1, 8], \"labels\": [\"Extremely strong\", \"Strong\"]}], {\"title\": \"Population Distribution of english proficiency\"}, {\"showLink\": true, \"linkText\": \"Export to plot.ly\"})});</script>"
      ]
     },
     "metadata": {},
     "output_type": "display_data"
    },
    {
     "data": {
      "application/vnd.plotly.v1+json": {
       "data": [
        {
         "boxpoints": false,
         "name": "Non-employees emails",
         "type": "box",
         "y": [
          1312,
          427,
          314,
          66,
          48,
          38,
          32,
          27,
          18,
          16,
          15,
          14,
          13,
          13,
          13,
          12,
          11,
          10,
          10,
          10,
          9,
          8,
          8,
          7,
          7,
          7,
          7,
          6,
          6,
          6,
          6,
          6,
          6,
          5,
          5,
          5,
          5,
          5,
          5,
          5,
          5,
          5,
          4,
          4,
          4,
          4,
          4,
          4,
          4,
          4,
          4,
          4,
          4,
          4,
          4,
          4,
          3,
          3,
          3,
          3,
          3,
          3,
          3,
          3,
          3,
          3,
          3,
          3,
          3,
          3,
          3,
          3,
          3,
          3,
          3,
          3,
          2,
          2,
          2,
          2,
          2,
          2,
          2,
          2,
          2,
          2,
          2,
          2,
          2,
          2,
          2,
          2,
          2,
          2,
          2,
          2,
          2,
          2,
          2,
          2,
          2,
          2,
          2,
          2,
          2,
          2,
          2,
          2,
          2,
          2,
          2,
          2,
          1,
          1,
          1,
          1,
          1,
          1,
          1,
          1,
          1,
          1,
          1,
          1,
          1,
          1,
          1,
          1,
          1,
          1,
          1,
          1,
          1,
          1,
          1,
          1,
          1,
          1,
          1,
          1,
          1,
          1,
          1,
          1,
          1,
          1,
          1,
          1,
          1,
          1,
          1,
          1,
          1,
          1,
          1,
          1,
          1,
          1,
          1,
          1,
          1,
          1,
          1,
          1,
          1,
          1,
          1,
          1,
          1,
          1,
          1,
          1,
          1,
          1,
          1,
          1,
          1,
          1,
          1,
          1,
          1,
          1,
          1,
          1,
          1,
          1,
          1,
          1,
          1,
          1,
          1,
          1,
          1,
          1,
          1,
          1,
          1,
          1,
          1,
          1,
          1,
          1,
          1,
          1,
          1,
          1,
          1,
          1,
          1,
          1,
          1,
          1,
          1,
          1,
          1,
          1,
          1,
          1,
          1,
          1,
          1
         ]
        },
        {
         "boxpoints": false,
         "name": "Survey emails",
         "type": "box",
         "y": [
          0,
          0,
          0,
          0,
          0,
          0,
          0,
          0,
          0
         ]
        }
       ],
       "layout": {
        "title": "english proficiency vs emails",
        "xaxis": {
         "title": "english proficiency"
        },
        "yaxis": {
         "range": [
          "0",
          "100"
         ],
         "title": "emails"
        }
       }
      },
      "text/html": [
       "<div id=\"75734776-f719-4a4e-9540-30b6b6aa57ed\" style=\"height: 525px; width: 100%;\" class=\"plotly-graph-div\"></div><script type=\"text/javascript\">require([\"plotly\"], function(Plotly) { window.PLOTLYENV=window.PLOTLYENV || {};window.PLOTLYENV.BASE_URL=\"https://plot.ly\";Plotly.newPlot(\"75734776-f719-4a4e-9540-30b6b6aa57ed\", [{\"type\": \"box\", \"boxpoints\": false, \"name\": \"Non-employees emails\", \"y\": [1312, 427, 314, 66, 48, 38, 32, 27, 18, 16, 15, 14, 13, 13, 13, 12, 11, 10, 10, 10, 9, 8, 8, 7, 7, 7, 7, 6, 6, 6, 6, 6, 6, 5, 5, 5, 5, 5, 5, 5, 5, 5, 4, 4, 4, 4, 4, 4, 4, 4, 4, 4, 4, 4, 4, 4, 3, 3, 3, 3, 3, 3, 3, 3, 3, 3, 3, 3, 3, 3, 3, 3, 3, 3, 3, 3, 2, 2, 2, 2, 2, 2, 2, 2, 2, 2, 2, 2, 2, 2, 2, 2, 2, 2, 2, 2, 2, 2, 2, 2, 2, 2, 2, 2, 2, 2, 2, 2, 2, 2, 2, 2, 1, 1, 1, 1, 1, 1, 1, 1, 1, 1, 1, 1, 1, 1, 1, 1, 1, 1, 1, 1, 1, 1, 1, 1, 1, 1, 1, 1, 1, 1, 1, 1, 1, 1, 1, 1, 1, 1, 1, 1, 1, 1, 1, 1, 1, 1, 1, 1, 1, 1, 1, 1, 1, 1, 1, 1, 1, 1, 1, 1, 1, 1, 1, 1, 1, 1, 1, 1, 1, 1, 1, 1, 1, 1, 1, 1, 1, 1, 1, 1, 1, 1, 1, 1, 1, 1, 1, 1, 1, 1, 1, 1, 1, 1, 1, 1, 1, 1, 1, 1, 1, 1, 1, 1, 1, 1, 1, 1, 1]}, {\"type\": \"box\", \"boxpoints\": false, \"name\": \"Survey emails\", \"y\": [0.0, 0.0, 0.0, 0.0, 0.0, 0.0, 0.0, 0.0, 0.0]}], {\"xaxis\": {\"title\": \"english proficiency\"}, \"title\": \"english proficiency vs emails\", \"yaxis\": {\"title\": \"emails\", \"range\": [\"0\", \"100\"]}}, {\"showLink\": true, \"linkText\": \"Export to plot.ly\"})});</script>"
      ],
      "text/vnd.plotly.v1+html": [
       "<div id=\"75734776-f719-4a4e-9540-30b6b6aa57ed\" style=\"height: 525px; width: 100%;\" class=\"plotly-graph-div\"></div><script type=\"text/javascript\">require([\"plotly\"], function(Plotly) { window.PLOTLYENV=window.PLOTLYENV || {};window.PLOTLYENV.BASE_URL=\"https://plot.ly\";Plotly.newPlot(\"75734776-f719-4a4e-9540-30b6b6aa57ed\", [{\"type\": \"box\", \"boxpoints\": false, \"name\": \"Non-employees emails\", \"y\": [1312, 427, 314, 66, 48, 38, 32, 27, 18, 16, 15, 14, 13, 13, 13, 12, 11, 10, 10, 10, 9, 8, 8, 7, 7, 7, 7, 6, 6, 6, 6, 6, 6, 5, 5, 5, 5, 5, 5, 5, 5, 5, 4, 4, 4, 4, 4, 4, 4, 4, 4, 4, 4, 4, 4, 4, 3, 3, 3, 3, 3, 3, 3, 3, 3, 3, 3, 3, 3, 3, 3, 3, 3, 3, 3, 3, 2, 2, 2, 2, 2, 2, 2, 2, 2, 2, 2, 2, 2, 2, 2, 2, 2, 2, 2, 2, 2, 2, 2, 2, 2, 2, 2, 2, 2, 2, 2, 2, 2, 2, 2, 2, 1, 1, 1, 1, 1, 1, 1, 1, 1, 1, 1, 1, 1, 1, 1, 1, 1, 1, 1, 1, 1, 1, 1, 1, 1, 1, 1, 1, 1, 1, 1, 1, 1, 1, 1, 1, 1, 1, 1, 1, 1, 1, 1, 1, 1, 1, 1, 1, 1, 1, 1, 1, 1, 1, 1, 1, 1, 1, 1, 1, 1, 1, 1, 1, 1, 1, 1, 1, 1, 1, 1, 1, 1, 1, 1, 1, 1, 1, 1, 1, 1, 1, 1, 1, 1, 1, 1, 1, 1, 1, 1, 1, 1, 1, 1, 1, 1, 1, 1, 1, 1, 1, 1, 1, 1, 1, 1, 1, 1]}, {\"type\": \"box\", \"boxpoints\": false, \"name\": \"Survey emails\", \"y\": [0.0, 0.0, 0.0, 0.0, 0.0, 0.0, 0.0, 0.0, 0.0]}], {\"xaxis\": {\"title\": \"english proficiency\"}, \"title\": \"english proficiency vs emails\", \"yaxis\": {\"title\": \"emails\", \"range\": [\"0\", \"100\"]}}, {\"showLink\": true, \"linkText\": \"Export to plot.ly\"})});</script>"
      ]
     },
     "metadata": {},
     "output_type": "display_data"
    },
    {
     "data": {
      "application/vnd.plotly.v1+json": {
       "data": [
        {
         "boxpoints": "all",
         "jitter": 0.5,
         "marker": {
          "size": 2
         },
         "name": "Extremely strong(1)",
         "type": "box",
         "y": [
          0
         ]
        },
        {
         "boxpoints": "all",
         "jitter": 0.5,
         "marker": {
          "size": 2
         },
         "name": "Strong(8)",
         "type": "box",
         "y": [
          0,
          0,
          0,
          0,
          0,
          0,
          1,
          0
         ]
        }
       ],
       "layout": {
        "title": "english proficiency vs messages",
        "xaxis": {
         "title": "english proficiency"
        },
        "yaxis": {
         "title": "messages"
        }
       }
      },
      "text/html": [
       "<div id=\"edb32e8e-72bf-4f76-b829-32ebac31c865\" style=\"height: 525px; width: 100%;\" class=\"plotly-graph-div\"></div><script type=\"text/javascript\">require([\"plotly\"], function(Plotly) { window.PLOTLYENV=window.PLOTLYENV || {};window.PLOTLYENV.BASE_URL=\"https://plot.ly\";Plotly.newPlot(\"edb32e8e-72bf-4f76-b829-32ebac31c865\", [{\"type\": \"box\", \"boxpoints\": \"all\", \"name\": \"Extremely strong(1)\", \"marker\": {\"size\": 2}, \"y\": [0.0], \"jitter\": 0.5}, {\"type\": \"box\", \"boxpoints\": \"all\", \"name\": \"Strong(8)\", \"marker\": {\"size\": 2}, \"y\": [0.0, 0.0, 0.0, 0.0, 0.0, 0.0, 1.0, 0.0], \"jitter\": 0.5}], {\"xaxis\": {\"title\": \"english proficiency\"}, \"title\": \"english proficiency vs messages\", \"yaxis\": {\"title\": \"messages\"}}, {\"showLink\": true, \"linkText\": \"Export to plot.ly\"})});</script>"
      ],
      "text/vnd.plotly.v1+html": [
       "<div id=\"edb32e8e-72bf-4f76-b829-32ebac31c865\" style=\"height: 525px; width: 100%;\" class=\"plotly-graph-div\"></div><script type=\"text/javascript\">require([\"plotly\"], function(Plotly) { window.PLOTLYENV=window.PLOTLYENV || {};window.PLOTLYENV.BASE_URL=\"https://plot.ly\";Plotly.newPlot(\"edb32e8e-72bf-4f76-b829-32ebac31c865\", [{\"type\": \"box\", \"boxpoints\": \"all\", \"name\": \"Extremely strong(1)\", \"marker\": {\"size\": 2}, \"y\": [0.0], \"jitter\": 0.5}, {\"type\": \"box\", \"boxpoints\": \"all\", \"name\": \"Strong(8)\", \"marker\": {\"size\": 2}, \"y\": [0.0, 0.0, 0.0, 0.0, 0.0, 0.0, 1.0, 0.0], \"jitter\": 0.5}], {\"xaxis\": {\"title\": \"english proficiency\"}, \"title\": \"english proficiency vs messages\", \"yaxis\": {\"title\": \"messages\"}}, {\"showLink\": true, \"linkText\": \"Export to plot.ly\"})});</script>"
      ]
     },
     "metadata": {},
     "output_type": "display_data"
    },
    {
     "data": {
      "application/vnd.plotly.v1+json": {
       "data": [
        {
         "labels": [
          "Extremely strong",
          "Strong"
         ],
         "type": "pie",
         "values": [
          1,
          8
         ]
        }
       ],
       "layout": {
        "title": "Population Distribution of english proficiency"
       }
      },
      "text/html": [
       "<div id=\"f4e4e53f-c4a2-4660-b5f1-d14768c47945\" style=\"height: 525px; width: 100%;\" class=\"plotly-graph-div\"></div><script type=\"text/javascript\">require([\"plotly\"], function(Plotly) { window.PLOTLYENV=window.PLOTLYENV || {};window.PLOTLYENV.BASE_URL=\"https://plot.ly\";Plotly.newPlot(\"f4e4e53f-c4a2-4660-b5f1-d14768c47945\", [{\"type\": \"pie\", \"values\": [1, 8], \"labels\": [\"Extremely strong\", \"Strong\"]}], {\"title\": \"Population Distribution of english proficiency\"}, {\"showLink\": true, \"linkText\": \"Export to plot.ly\"})});</script>"
      ],
      "text/vnd.plotly.v1+html": [
       "<div id=\"f4e4e53f-c4a2-4660-b5f1-d14768c47945\" style=\"height: 525px; width: 100%;\" class=\"plotly-graph-div\"></div><script type=\"text/javascript\">require([\"plotly\"], function(Plotly) { window.PLOTLYENV=window.PLOTLYENV || {};window.PLOTLYENV.BASE_URL=\"https://plot.ly\";Plotly.newPlot(\"f4e4e53f-c4a2-4660-b5f1-d14768c47945\", [{\"type\": \"pie\", \"values\": [1, 8], \"labels\": [\"Extremely strong\", \"Strong\"]}], {\"title\": \"Population Distribution of english proficiency\"}, {\"showLink\": true, \"linkText\": \"Export to plot.ly\"})});</script>"
      ]
     },
     "metadata": {},
     "output_type": "display_data"
    },
    {
     "data": {
      "application/vnd.plotly.v1+json": {
       "data": [
        {
         "boxpoints": false,
         "name": "Non-employees messages",
         "type": "box",
         "y": [
          1312,
          427,
          314,
          66,
          48,
          38,
          32,
          27,
          18,
          16,
          15,
          14,
          13,
          13,
          13,
          12,
          11,
          10,
          10,
          10,
          9,
          8,
          8,
          7,
          7,
          7,
          7,
          6,
          6,
          6,
          6,
          6,
          6,
          5,
          5,
          5,
          5,
          5,
          5,
          5,
          5,
          5,
          4,
          4,
          4,
          4,
          4,
          4,
          4,
          4,
          4,
          4,
          4,
          4,
          4,
          4,
          3,
          3,
          3,
          3,
          3,
          3,
          3,
          3,
          3,
          3,
          3,
          3,
          3,
          3,
          3,
          3,
          3,
          3,
          3,
          3,
          2,
          2,
          2,
          2,
          2,
          2,
          2,
          2,
          2,
          2,
          2,
          2,
          2,
          2,
          2,
          2,
          2,
          2,
          2,
          2,
          2,
          2,
          2,
          2,
          2,
          2,
          2,
          2,
          2,
          2,
          2,
          2,
          2,
          2,
          2,
          2,
          1,
          1,
          1,
          1,
          1,
          1,
          1,
          1,
          1,
          1,
          1,
          1,
          1,
          1,
          1,
          1,
          1,
          1,
          1,
          1,
          1,
          1,
          1,
          1,
          1,
          1,
          1,
          1,
          1,
          1,
          1,
          1,
          1,
          1,
          1,
          1,
          1,
          1,
          1,
          1,
          1,
          1,
          1,
          1,
          1,
          1,
          1,
          1,
          1,
          1,
          1,
          1,
          1,
          1,
          1,
          1,
          1,
          1,
          1,
          1,
          1,
          1,
          1,
          1,
          1,
          1,
          1,
          1,
          1,
          1,
          1,
          1,
          1,
          1,
          1,
          1,
          1,
          1,
          1,
          1,
          1,
          1,
          1,
          1,
          1,
          1,
          1,
          1,
          1,
          1,
          1,
          1,
          1,
          1,
          1,
          1,
          1,
          1,
          1,
          1,
          1,
          1,
          1,
          1,
          1,
          1,
          1,
          1,
          1
         ]
        },
        {
         "boxpoints": false,
         "name": "Survey messages",
         "type": "box",
         "y": [
          0,
          0,
          0,
          0,
          0,
          0,
          0,
          1,
          0
         ]
        }
       ],
       "layout": {
        "title": "english proficiency vs messages",
        "xaxis": {
         "title": "english proficiency"
        },
        "yaxis": {
         "range": [
          "0",
          "100"
         ],
         "title": "messages"
        }
       }
      },
      "text/html": [
       "<div id=\"68d5f889-9fbf-4bfd-a754-f2a42526eedc\" style=\"height: 525px; width: 100%;\" class=\"plotly-graph-div\"></div><script type=\"text/javascript\">require([\"plotly\"], function(Plotly) { window.PLOTLYENV=window.PLOTLYENV || {};window.PLOTLYENV.BASE_URL=\"https://plot.ly\";Plotly.newPlot(\"68d5f889-9fbf-4bfd-a754-f2a42526eedc\", [{\"type\": \"box\", \"boxpoints\": false, \"name\": \"Non-employees messages\", \"y\": [1312, 427, 314, 66, 48, 38, 32, 27, 18, 16, 15, 14, 13, 13, 13, 12, 11, 10, 10, 10, 9, 8, 8, 7, 7, 7, 7, 6, 6, 6, 6, 6, 6, 5, 5, 5, 5, 5, 5, 5, 5, 5, 4, 4, 4, 4, 4, 4, 4, 4, 4, 4, 4, 4, 4, 4, 3, 3, 3, 3, 3, 3, 3, 3, 3, 3, 3, 3, 3, 3, 3, 3, 3, 3, 3, 3, 2, 2, 2, 2, 2, 2, 2, 2, 2, 2, 2, 2, 2, 2, 2, 2, 2, 2, 2, 2, 2, 2, 2, 2, 2, 2, 2, 2, 2, 2, 2, 2, 2, 2, 2, 2, 1, 1, 1, 1, 1, 1, 1, 1, 1, 1, 1, 1, 1, 1, 1, 1, 1, 1, 1, 1, 1, 1, 1, 1, 1, 1, 1, 1, 1, 1, 1, 1, 1, 1, 1, 1, 1, 1, 1, 1, 1, 1, 1, 1, 1, 1, 1, 1, 1, 1, 1, 1, 1, 1, 1, 1, 1, 1, 1, 1, 1, 1, 1, 1, 1, 1, 1, 1, 1, 1, 1, 1, 1, 1, 1, 1, 1, 1, 1, 1, 1, 1, 1, 1, 1, 1, 1, 1, 1, 1, 1, 1, 1, 1, 1, 1, 1, 1, 1, 1, 1, 1, 1, 1, 1, 1, 1, 1, 1]}, {\"type\": \"box\", \"boxpoints\": false, \"name\": \"Survey messages\", \"y\": [0.0, 0.0, 0.0, 0.0, 0.0, 0.0, 0.0, 1.0, 0.0]}], {\"xaxis\": {\"title\": \"english proficiency\"}, \"title\": \"english proficiency vs messages\", \"yaxis\": {\"title\": \"messages\", \"range\": [\"0\", \"100\"]}}, {\"showLink\": true, \"linkText\": \"Export to plot.ly\"})});</script>"
      ],
      "text/vnd.plotly.v1+html": [
       "<div id=\"68d5f889-9fbf-4bfd-a754-f2a42526eedc\" style=\"height: 525px; width: 100%;\" class=\"plotly-graph-div\"></div><script type=\"text/javascript\">require([\"plotly\"], function(Plotly) { window.PLOTLYENV=window.PLOTLYENV || {};window.PLOTLYENV.BASE_URL=\"https://plot.ly\";Plotly.newPlot(\"68d5f889-9fbf-4bfd-a754-f2a42526eedc\", [{\"type\": \"box\", \"boxpoints\": false, \"name\": \"Non-employees messages\", \"y\": [1312, 427, 314, 66, 48, 38, 32, 27, 18, 16, 15, 14, 13, 13, 13, 12, 11, 10, 10, 10, 9, 8, 8, 7, 7, 7, 7, 6, 6, 6, 6, 6, 6, 5, 5, 5, 5, 5, 5, 5, 5, 5, 4, 4, 4, 4, 4, 4, 4, 4, 4, 4, 4, 4, 4, 4, 3, 3, 3, 3, 3, 3, 3, 3, 3, 3, 3, 3, 3, 3, 3, 3, 3, 3, 3, 3, 2, 2, 2, 2, 2, 2, 2, 2, 2, 2, 2, 2, 2, 2, 2, 2, 2, 2, 2, 2, 2, 2, 2, 2, 2, 2, 2, 2, 2, 2, 2, 2, 2, 2, 2, 2, 1, 1, 1, 1, 1, 1, 1, 1, 1, 1, 1, 1, 1, 1, 1, 1, 1, 1, 1, 1, 1, 1, 1, 1, 1, 1, 1, 1, 1, 1, 1, 1, 1, 1, 1, 1, 1, 1, 1, 1, 1, 1, 1, 1, 1, 1, 1, 1, 1, 1, 1, 1, 1, 1, 1, 1, 1, 1, 1, 1, 1, 1, 1, 1, 1, 1, 1, 1, 1, 1, 1, 1, 1, 1, 1, 1, 1, 1, 1, 1, 1, 1, 1, 1, 1, 1, 1, 1, 1, 1, 1, 1, 1, 1, 1, 1, 1, 1, 1, 1, 1, 1, 1, 1, 1, 1, 1, 1, 1]}, {\"type\": \"box\", \"boxpoints\": false, \"name\": \"Survey messages\", \"y\": [0.0, 0.0, 0.0, 0.0, 0.0, 0.0, 0.0, 1.0, 0.0]}], {\"xaxis\": {\"title\": \"english proficiency\"}, \"title\": \"english proficiency vs messages\", \"yaxis\": {\"title\": \"messages\", \"range\": [\"0\", \"100\"]}}, {\"showLink\": true, \"linkText\": \"Export to plot.ly\"})});</script>"
      ]
     },
     "metadata": {},
     "output_type": "display_data"
    },
    {
     "data": {
      "application/vnd.plotly.v1+json": {
       "data": [
        {
         "boxpoints": "all",
         "jitter": 0.5,
         "marker": {
          "size": 2
         },
         "name": "Extremely strong(1)",
         "type": "box",
         "y": [
          1
         ]
        },
        {
         "boxpoints": "all",
         "jitter": 0.5,
         "marker": {
          "size": 2
         },
         "name": "Strong(8)",
         "type": "box",
         "y": [
          1,
          1,
          1,
          1,
          1,
          0,
          0,
          0
         ]
        }
       ],
       "layout": {
        "title": "english proficiency vs git project",
        "xaxis": {
         "title": "english proficiency"
        },
        "yaxis": {
         "title": "git project"
        }
       }
      },
      "text/html": [
       "<div id=\"2a5382d4-5afa-41be-aa64-b3fd1a6f7f5a\" style=\"height: 525px; width: 100%;\" class=\"plotly-graph-div\"></div><script type=\"text/javascript\">require([\"plotly\"], function(Plotly) { window.PLOTLYENV=window.PLOTLYENV || {};window.PLOTLYENV.BASE_URL=\"https://plot.ly\";Plotly.newPlot(\"2a5382d4-5afa-41be-aa64-b3fd1a6f7f5a\", [{\"type\": \"box\", \"boxpoints\": \"all\", \"name\": \"Extremely strong(1)\", \"marker\": {\"size\": 2}, \"y\": [1], \"jitter\": 0.5}, {\"type\": \"box\", \"boxpoints\": \"all\", \"name\": \"Strong(8)\", \"marker\": {\"size\": 2}, \"y\": [1, 1, 1, 1, 1, 0, 0, 0], \"jitter\": 0.5}], {\"xaxis\": {\"title\": \"english proficiency\"}, \"title\": \"english proficiency vs git project\", \"yaxis\": {\"title\": \"git project\"}}, {\"showLink\": true, \"linkText\": \"Export to plot.ly\"})});</script>"
      ],
      "text/vnd.plotly.v1+html": [
       "<div id=\"2a5382d4-5afa-41be-aa64-b3fd1a6f7f5a\" style=\"height: 525px; width: 100%;\" class=\"plotly-graph-div\"></div><script type=\"text/javascript\">require([\"plotly\"], function(Plotly) { window.PLOTLYENV=window.PLOTLYENV || {};window.PLOTLYENV.BASE_URL=\"https://plot.ly\";Plotly.newPlot(\"2a5382d4-5afa-41be-aa64-b3fd1a6f7f5a\", [{\"type\": \"box\", \"boxpoints\": \"all\", \"name\": \"Extremely strong(1)\", \"marker\": {\"size\": 2}, \"y\": [1], \"jitter\": 0.5}, {\"type\": \"box\", \"boxpoints\": \"all\", \"name\": \"Strong(8)\", \"marker\": {\"size\": 2}, \"y\": [1, 1, 1, 1, 1, 0, 0, 0], \"jitter\": 0.5}], {\"xaxis\": {\"title\": \"english proficiency\"}, \"title\": \"english proficiency vs git project\", \"yaxis\": {\"title\": \"git project\"}}, {\"showLink\": true, \"linkText\": \"Export to plot.ly\"})});</script>"
      ]
     },
     "metadata": {},
     "output_type": "display_data"
    },
    {
     "data": {
      "application/vnd.plotly.v1+json": {
       "data": [
        {
         "labels": [
          "Extremely strong",
          "Strong"
         ],
         "type": "pie",
         "values": [
          1,
          8
         ]
        }
       ],
       "layout": {
        "title": "Population Distribution of english proficiency"
       }
      },
      "text/html": [
       "<div id=\"83085234-ef81-47e2-b5f7-9fd8f33e8cf8\" style=\"height: 525px; width: 100%;\" class=\"plotly-graph-div\"></div><script type=\"text/javascript\">require([\"plotly\"], function(Plotly) { window.PLOTLYENV=window.PLOTLYENV || {};window.PLOTLYENV.BASE_URL=\"https://plot.ly\";Plotly.newPlot(\"83085234-ef81-47e2-b5f7-9fd8f33e8cf8\", [{\"type\": \"pie\", \"values\": [1, 8], \"labels\": [\"Extremely strong\", \"Strong\"]}], {\"title\": \"Population Distribution of english proficiency\"}, {\"showLink\": true, \"linkText\": \"Export to plot.ly\"})});</script>"
      ],
      "text/vnd.plotly.v1+html": [
       "<div id=\"83085234-ef81-47e2-b5f7-9fd8f33e8cf8\" style=\"height: 525px; width: 100%;\" class=\"plotly-graph-div\"></div><script type=\"text/javascript\">require([\"plotly\"], function(Plotly) { window.PLOTLYENV=window.PLOTLYENV || {};window.PLOTLYENV.BASE_URL=\"https://plot.ly\";Plotly.newPlot(\"83085234-ef81-47e2-b5f7-9fd8f33e8cf8\", [{\"type\": \"pie\", \"values\": [1, 8], \"labels\": [\"Extremely strong\", \"Strong\"]}], {\"title\": \"Population Distribution of english proficiency\"}, {\"showLink\": true, \"linkText\": \"Export to plot.ly\"})});</script>"
      ]
     },
     "metadata": {},
     "output_type": "display_data"
    },
    {
     "data": {
      "application/vnd.plotly.v1+json": {
       "data": [
        {
         "type": "histogram",
         "x": [
          1,
          1,
          1,
          1,
          1,
          1,
          0,
          0,
          0
         ]
        }
       ],
       "layout": {
        "title": "Distribution of git project",
        "xaxis": {
         "title": "git project"
        },
        "yaxis": {
         "title": "Population"
        }
       }
      },
      "text/html": [
       "<div id=\"04c305ee-dd03-4e31-9787-08c33a9ea95b\" style=\"height: 525px; width: 100%;\" class=\"plotly-graph-div\"></div><script type=\"text/javascript\">require([\"plotly\"], function(Plotly) { window.PLOTLYENV=window.PLOTLYENV || {};window.PLOTLYENV.BASE_URL=\"https://plot.ly\";Plotly.newPlot(\"04c305ee-dd03-4e31-9787-08c33a9ea95b\", [{\"type\": \"histogram\", \"x\": [1, 1, 1, 1, 1, 1, 0, 0, 0]}], {\"xaxis\": {\"title\": \"git project\"}, \"title\": \"Distribution of git project\", \"yaxis\": {\"title\": \"Population\"}}, {\"showLink\": true, \"linkText\": \"Export to plot.ly\"})});</script>"
      ],
      "text/vnd.plotly.v1+html": [
       "<div id=\"04c305ee-dd03-4e31-9787-08c33a9ea95b\" style=\"height: 525px; width: 100%;\" class=\"plotly-graph-div\"></div><script type=\"text/javascript\">require([\"plotly\"], function(Plotly) { window.PLOTLYENV=window.PLOTLYENV || {};window.PLOTLYENV.BASE_URL=\"https://plot.ly\";Plotly.newPlot(\"04c305ee-dd03-4e31-9787-08c33a9ea95b\", [{\"type\": \"histogram\", \"x\": [1, 1, 1, 1, 1, 1, 0, 0, 0]}], {\"xaxis\": {\"title\": \"git project\"}, \"title\": \"Distribution of git project\", \"yaxis\": {\"title\": \"Population\"}}, {\"showLink\": true, \"linkText\": \"Export to plot.ly\"})});</script>"
      ]
     },
     "metadata": {},
     "output_type": "display_data"
    },
    {
     "data": {
      "application/vnd.plotly.v1+json": {
       "data": [
        {
         "boxpoints": "all",
         "jitter": 0.5,
         "marker": {
          "size": 2
         },
         "name": "Extremely strong(1)",
         "type": "box",
         "y": [
          1
         ]
        },
        {
         "boxpoints": "all",
         "jitter": 0.5,
         "marker": {
          "size": 2
         },
         "name": "Strong(8)",
         "type": "box",
         "y": [
          1,
          1,
          1,
          1,
          1,
          1,
          0,
          1
         ]
        }
       ],
       "layout": {
        "title": "english proficiency vs github project",
        "xaxis": {
         "title": "english proficiency"
        },
        "yaxis": {
         "title": "github project"
        }
       }
      },
      "text/html": [
       "<div id=\"850647c5-e3d2-489c-a5c7-ac73bba862fa\" style=\"height: 525px; width: 100%;\" class=\"plotly-graph-div\"></div><script type=\"text/javascript\">require([\"plotly\"], function(Plotly) { window.PLOTLYENV=window.PLOTLYENV || {};window.PLOTLYENV.BASE_URL=\"https://plot.ly\";Plotly.newPlot(\"850647c5-e3d2-489c-a5c7-ac73bba862fa\", [{\"type\": \"box\", \"boxpoints\": \"all\", \"name\": \"Extremely strong(1)\", \"marker\": {\"size\": 2}, \"y\": [1], \"jitter\": 0.5}, {\"type\": \"box\", \"boxpoints\": \"all\", \"name\": \"Strong(8)\", \"marker\": {\"size\": 2}, \"y\": [1, 1, 1, 1, 1, 1, 0, 1], \"jitter\": 0.5}], {\"xaxis\": {\"title\": \"english proficiency\"}, \"title\": \"english proficiency vs github project\", \"yaxis\": {\"title\": \"github project\"}}, {\"showLink\": true, \"linkText\": \"Export to plot.ly\"})});</script>"
      ],
      "text/vnd.plotly.v1+html": [
       "<div id=\"850647c5-e3d2-489c-a5c7-ac73bba862fa\" style=\"height: 525px; width: 100%;\" class=\"plotly-graph-div\"></div><script type=\"text/javascript\">require([\"plotly\"], function(Plotly) { window.PLOTLYENV=window.PLOTLYENV || {};window.PLOTLYENV.BASE_URL=\"https://plot.ly\";Plotly.newPlot(\"850647c5-e3d2-489c-a5c7-ac73bba862fa\", [{\"type\": \"box\", \"boxpoints\": \"all\", \"name\": \"Extremely strong(1)\", \"marker\": {\"size\": 2}, \"y\": [1], \"jitter\": 0.5}, {\"type\": \"box\", \"boxpoints\": \"all\", \"name\": \"Strong(8)\", \"marker\": {\"size\": 2}, \"y\": [1, 1, 1, 1, 1, 1, 0, 1], \"jitter\": 0.5}], {\"xaxis\": {\"title\": \"english proficiency\"}, \"title\": \"english proficiency vs github project\", \"yaxis\": {\"title\": \"github project\"}}, {\"showLink\": true, \"linkText\": \"Export to plot.ly\"})});</script>"
      ]
     },
     "metadata": {},
     "output_type": "display_data"
    },
    {
     "data": {
      "application/vnd.plotly.v1+json": {
       "data": [
        {
         "labels": [
          "Extremely strong",
          "Strong"
         ],
         "type": "pie",
         "values": [
          1,
          8
         ]
        }
       ],
       "layout": {
        "title": "Population Distribution of english proficiency"
       }
      },
      "text/html": [
       "<div id=\"862eb4ba-8c7f-413c-a2b1-146b866a0034\" style=\"height: 525px; width: 100%;\" class=\"plotly-graph-div\"></div><script type=\"text/javascript\">require([\"plotly\"], function(Plotly) { window.PLOTLYENV=window.PLOTLYENV || {};window.PLOTLYENV.BASE_URL=\"https://plot.ly\";Plotly.newPlot(\"862eb4ba-8c7f-413c-a2b1-146b866a0034\", [{\"type\": \"pie\", \"values\": [1, 8], \"labels\": [\"Extremely strong\", \"Strong\"]}], {\"title\": \"Population Distribution of english proficiency\"}, {\"showLink\": true, \"linkText\": \"Export to plot.ly\"})});</script>"
      ],
      "text/vnd.plotly.v1+html": [
       "<div id=\"862eb4ba-8c7f-413c-a2b1-146b866a0034\" style=\"height: 525px; width: 100%;\" class=\"plotly-graph-div\"></div><script type=\"text/javascript\">require([\"plotly\"], function(Plotly) { window.PLOTLYENV=window.PLOTLYENV || {};window.PLOTLYENV.BASE_URL=\"https://plot.ly\";Plotly.newPlot(\"862eb4ba-8c7f-413c-a2b1-146b866a0034\", [{\"type\": \"pie\", \"values\": [1, 8], \"labels\": [\"Extremely strong\", \"Strong\"]}], {\"title\": \"Population Distribution of english proficiency\"}, {\"showLink\": true, \"linkText\": \"Export to plot.ly\"})});</script>"
      ]
     },
     "metadata": {},
     "output_type": "display_data"
    },
    {
     "data": {
      "application/vnd.plotly.v1+json": {
       "data": [
        {
         "type": "histogram",
         "x": [
          1,
          1,
          1,
          1,
          1,
          1,
          1,
          0,
          1
         ]
        }
       ],
       "layout": {
        "title": "Distribution of github project",
        "xaxis": {
         "title": "github project"
        },
        "yaxis": {
         "title": "Population"
        }
       }
      },
      "text/html": [
       "<div id=\"d3b7233b-651e-49be-94f5-10b41f03f4fd\" style=\"height: 525px; width: 100%;\" class=\"plotly-graph-div\"></div><script type=\"text/javascript\">require([\"plotly\"], function(Plotly) { window.PLOTLYENV=window.PLOTLYENV || {};window.PLOTLYENV.BASE_URL=\"https://plot.ly\";Plotly.newPlot(\"d3b7233b-651e-49be-94f5-10b41f03f4fd\", [{\"type\": \"histogram\", \"x\": [1, 1, 1, 1, 1, 1, 1, 0, 1]}], {\"xaxis\": {\"title\": \"github project\"}, \"title\": \"Distribution of github project\", \"yaxis\": {\"title\": \"Population\"}}, {\"showLink\": true, \"linkText\": \"Export to plot.ly\"})});</script>"
      ],
      "text/vnd.plotly.v1+html": [
       "<div id=\"d3b7233b-651e-49be-94f5-10b41f03f4fd\" style=\"height: 525px; width: 100%;\" class=\"plotly-graph-div\"></div><script type=\"text/javascript\">require([\"plotly\"], function(Plotly) { window.PLOTLYENV=window.PLOTLYENV || {};window.PLOTLYENV.BASE_URL=\"https://plot.ly\";Plotly.newPlot(\"d3b7233b-651e-49be-94f5-10b41f03f4fd\", [{\"type\": \"histogram\", \"x\": [1, 1, 1, 1, 1, 1, 1, 0, 1]}], {\"xaxis\": {\"title\": \"github project\"}, \"title\": \"Distribution of github project\", \"yaxis\": {\"title\": \"Population\"}}, {\"showLink\": true, \"linkText\": \"Export to plot.ly\"})});</script>"
      ]
     },
     "metadata": {},
     "output_type": "display_data"
    },
    {
     "data": {
      "application/vnd.plotly.v1+json": {
       "data": [
        {
         "boxpoints": "all",
         "jitter": 0.5,
         "marker": {
          "size": 2
         },
         "name": "Extremely strong(1)",
         "type": "box",
         "y": [
          0
         ]
        },
        {
         "boxpoints": "all",
         "jitter": 0.5,
         "marker": {
          "size": 2
         },
         "name": "Strong(8)",
         "type": "box",
         "y": [
          0,
          0,
          0,
          0,
          0,
          0,
          0,
          0
         ]
        }
       ],
       "layout": {
        "title": "english proficiency vs bugzilla project",
        "xaxis": {
         "title": "english proficiency"
        },
        "yaxis": {
         "title": "bugzilla project"
        }
       }
      },
      "text/html": [
       "<div id=\"40846d00-1a02-4553-bc51-086dea1410e1\" style=\"height: 525px; width: 100%;\" class=\"plotly-graph-div\"></div><script type=\"text/javascript\">require([\"plotly\"], function(Plotly) { window.PLOTLYENV=window.PLOTLYENV || {};window.PLOTLYENV.BASE_URL=\"https://plot.ly\";Plotly.newPlot(\"40846d00-1a02-4553-bc51-086dea1410e1\", [{\"type\": \"box\", \"boxpoints\": \"all\", \"name\": \"Extremely strong(1)\", \"marker\": {\"size\": 2}, \"y\": [0], \"jitter\": 0.5}, {\"type\": \"box\", \"boxpoints\": \"all\", \"name\": \"Strong(8)\", \"marker\": {\"size\": 2}, \"y\": [0, 0, 0, 0, 0, 0, 0, 0], \"jitter\": 0.5}], {\"xaxis\": {\"title\": \"english proficiency\"}, \"title\": \"english proficiency vs bugzilla project\", \"yaxis\": {\"title\": \"bugzilla project\"}}, {\"showLink\": true, \"linkText\": \"Export to plot.ly\"})});</script>"
      ],
      "text/vnd.plotly.v1+html": [
       "<div id=\"40846d00-1a02-4553-bc51-086dea1410e1\" style=\"height: 525px; width: 100%;\" class=\"plotly-graph-div\"></div><script type=\"text/javascript\">require([\"plotly\"], function(Plotly) { window.PLOTLYENV=window.PLOTLYENV || {};window.PLOTLYENV.BASE_URL=\"https://plot.ly\";Plotly.newPlot(\"40846d00-1a02-4553-bc51-086dea1410e1\", [{\"type\": \"box\", \"boxpoints\": \"all\", \"name\": \"Extremely strong(1)\", \"marker\": {\"size\": 2}, \"y\": [0], \"jitter\": 0.5}, {\"type\": \"box\", \"boxpoints\": \"all\", \"name\": \"Strong(8)\", \"marker\": {\"size\": 2}, \"y\": [0, 0, 0, 0, 0, 0, 0, 0], \"jitter\": 0.5}], {\"xaxis\": {\"title\": \"english proficiency\"}, \"title\": \"english proficiency vs bugzilla project\", \"yaxis\": {\"title\": \"bugzilla project\"}}, {\"showLink\": true, \"linkText\": \"Export to plot.ly\"})});</script>"
      ]
     },
     "metadata": {},
     "output_type": "display_data"
    },
    {
     "data": {
      "application/vnd.plotly.v1+json": {
       "data": [
        {
         "labels": [
          "Extremely strong",
          "Strong"
         ],
         "type": "pie",
         "values": [
          1,
          8
         ]
        }
       ],
       "layout": {
        "title": "Population Distribution of english proficiency"
       }
      },
      "text/html": [
       "<div id=\"cf7a18b4-145b-49f6-aa2f-f692d2483503\" style=\"height: 525px; width: 100%;\" class=\"plotly-graph-div\"></div><script type=\"text/javascript\">require([\"plotly\"], function(Plotly) { window.PLOTLYENV=window.PLOTLYENV || {};window.PLOTLYENV.BASE_URL=\"https://plot.ly\";Plotly.newPlot(\"cf7a18b4-145b-49f6-aa2f-f692d2483503\", [{\"type\": \"pie\", \"values\": [1, 8], \"labels\": [\"Extremely strong\", \"Strong\"]}], {\"title\": \"Population Distribution of english proficiency\"}, {\"showLink\": true, \"linkText\": \"Export to plot.ly\"})});</script>"
      ],
      "text/vnd.plotly.v1+html": [
       "<div id=\"cf7a18b4-145b-49f6-aa2f-f692d2483503\" style=\"height: 525px; width: 100%;\" class=\"plotly-graph-div\"></div><script type=\"text/javascript\">require([\"plotly\"], function(Plotly) { window.PLOTLYENV=window.PLOTLYENV || {};window.PLOTLYENV.BASE_URL=\"https://plot.ly\";Plotly.newPlot(\"cf7a18b4-145b-49f6-aa2f-f692d2483503\", [{\"type\": \"pie\", \"values\": [1, 8], \"labels\": [\"Extremely strong\", \"Strong\"]}], {\"title\": \"Population Distribution of english proficiency\"}, {\"showLink\": true, \"linkText\": \"Export to plot.ly\"})});</script>"
      ]
     },
     "metadata": {},
     "output_type": "display_data"
    },
    {
     "data": {
      "application/vnd.plotly.v1+json": {
       "data": [
        {
         "type": "histogram",
         "x": [
          0,
          0,
          0,
          0,
          0,
          0,
          0,
          0,
          0
         ]
        }
       ],
       "layout": {
        "title": "Distribution of bugzilla project",
        "xaxis": {
         "title": "bugzilla project"
        },
        "yaxis": {
         "title": "Population"
        }
       }
      },
      "text/html": [
       "<div id=\"71e5bcd6-adc1-41fd-8900-82013129f3e5\" style=\"height: 525px; width: 100%;\" class=\"plotly-graph-div\"></div><script type=\"text/javascript\">require([\"plotly\"], function(Plotly) { window.PLOTLYENV=window.PLOTLYENV || {};window.PLOTLYENV.BASE_URL=\"https://plot.ly\";Plotly.newPlot(\"71e5bcd6-adc1-41fd-8900-82013129f3e5\", [{\"type\": \"histogram\", \"x\": [0, 0, 0, 0, 0, 0, 0, 0, 0]}], {\"xaxis\": {\"title\": \"bugzilla project\"}, \"title\": \"Distribution of bugzilla project\", \"yaxis\": {\"title\": \"Population\"}}, {\"showLink\": true, \"linkText\": \"Export to plot.ly\"})});</script>"
      ],
      "text/vnd.plotly.v1+html": [
       "<div id=\"71e5bcd6-adc1-41fd-8900-82013129f3e5\" style=\"height: 525px; width: 100%;\" class=\"plotly-graph-div\"></div><script type=\"text/javascript\">require([\"plotly\"], function(Plotly) { window.PLOTLYENV=window.PLOTLYENV || {};window.PLOTLYENV.BASE_URL=\"https://plot.ly\";Plotly.newPlot(\"71e5bcd6-adc1-41fd-8900-82013129f3e5\", [{\"type\": \"histogram\", \"x\": [0, 0, 0, 0, 0, 0, 0, 0, 0]}], {\"xaxis\": {\"title\": \"bugzilla project\"}, \"title\": \"Distribution of bugzilla project\", \"yaxis\": {\"title\": \"Population\"}}, {\"showLink\": true, \"linkText\": \"Export to plot.ly\"})});</script>"
      ]
     },
     "metadata": {},
     "output_type": "display_data"
    },
    {
     "data": {
      "application/vnd.plotly.v1+json": {
       "data": [
        {
         "boxpoints": "all",
         "jitter": 0.5,
         "marker": {
          "size": 2
         },
         "name": "Extremely strong(1)",
         "type": "box",
         "y": [
          0
         ]
        },
        {
         "boxpoints": "all",
         "jitter": 0.5,
         "marker": {
          "size": 2
         },
         "name": "Strong(8)",
         "type": "box",
         "y": [
          0,
          0,
          0,
          0,
          0,
          0,
          0,
          0
         ]
        }
       ],
       "layout": {
        "title": "english proficiency vs mbox project",
        "xaxis": {
         "title": "english proficiency"
        },
        "yaxis": {
         "title": "mbox project"
        }
       }
      },
      "text/html": [
       "<div id=\"b6c0d235-d5bf-41e9-a79b-e582905087e9\" style=\"height: 525px; width: 100%;\" class=\"plotly-graph-div\"></div><script type=\"text/javascript\">require([\"plotly\"], function(Plotly) { window.PLOTLYENV=window.PLOTLYENV || {};window.PLOTLYENV.BASE_URL=\"https://plot.ly\";Plotly.newPlot(\"b6c0d235-d5bf-41e9-a79b-e582905087e9\", [{\"type\": \"box\", \"boxpoints\": \"all\", \"name\": \"Extremely strong(1)\", \"marker\": {\"size\": 2}, \"y\": [0], \"jitter\": 0.5}, {\"type\": \"box\", \"boxpoints\": \"all\", \"name\": \"Strong(8)\", \"marker\": {\"size\": 2}, \"y\": [0, 0, 0, 0, 0, 0, 0, 0], \"jitter\": 0.5}], {\"xaxis\": {\"title\": \"english proficiency\"}, \"title\": \"english proficiency vs mbox project\", \"yaxis\": {\"title\": \"mbox project\"}}, {\"showLink\": true, \"linkText\": \"Export to plot.ly\"})});</script>"
      ],
      "text/vnd.plotly.v1+html": [
       "<div id=\"b6c0d235-d5bf-41e9-a79b-e582905087e9\" style=\"height: 525px; width: 100%;\" class=\"plotly-graph-div\"></div><script type=\"text/javascript\">require([\"plotly\"], function(Plotly) { window.PLOTLYENV=window.PLOTLYENV || {};window.PLOTLYENV.BASE_URL=\"https://plot.ly\";Plotly.newPlot(\"b6c0d235-d5bf-41e9-a79b-e582905087e9\", [{\"type\": \"box\", \"boxpoints\": \"all\", \"name\": \"Extremely strong(1)\", \"marker\": {\"size\": 2}, \"y\": [0], \"jitter\": 0.5}, {\"type\": \"box\", \"boxpoints\": \"all\", \"name\": \"Strong(8)\", \"marker\": {\"size\": 2}, \"y\": [0, 0, 0, 0, 0, 0, 0, 0], \"jitter\": 0.5}], {\"xaxis\": {\"title\": \"english proficiency\"}, \"title\": \"english proficiency vs mbox project\", \"yaxis\": {\"title\": \"mbox project\"}}, {\"showLink\": true, \"linkText\": \"Export to plot.ly\"})});</script>"
      ]
     },
     "metadata": {},
     "output_type": "display_data"
    },
    {
     "data": {
      "application/vnd.plotly.v1+json": {
       "data": [
        {
         "labels": [
          "Extremely strong",
          "Strong"
         ],
         "type": "pie",
         "values": [
          1,
          8
         ]
        }
       ],
       "layout": {
        "title": "Population Distribution of english proficiency"
       }
      },
      "text/html": [
       "<div id=\"c8f1064c-664f-46aa-b41a-e58400905960\" style=\"height: 525px; width: 100%;\" class=\"plotly-graph-div\"></div><script type=\"text/javascript\">require([\"plotly\"], function(Plotly) { window.PLOTLYENV=window.PLOTLYENV || {};window.PLOTLYENV.BASE_URL=\"https://plot.ly\";Plotly.newPlot(\"c8f1064c-664f-46aa-b41a-e58400905960\", [{\"type\": \"pie\", \"values\": [1, 8], \"labels\": [\"Extremely strong\", \"Strong\"]}], {\"title\": \"Population Distribution of english proficiency\"}, {\"showLink\": true, \"linkText\": \"Export to plot.ly\"})});</script>"
      ],
      "text/vnd.plotly.v1+html": [
       "<div id=\"c8f1064c-664f-46aa-b41a-e58400905960\" style=\"height: 525px; width: 100%;\" class=\"plotly-graph-div\"></div><script type=\"text/javascript\">require([\"plotly\"], function(Plotly) { window.PLOTLYENV=window.PLOTLYENV || {};window.PLOTLYENV.BASE_URL=\"https://plot.ly\";Plotly.newPlot(\"c8f1064c-664f-46aa-b41a-e58400905960\", [{\"type\": \"pie\", \"values\": [1, 8], \"labels\": [\"Extremely strong\", \"Strong\"]}], {\"title\": \"Population Distribution of english proficiency\"}, {\"showLink\": true, \"linkText\": \"Export to plot.ly\"})});</script>"
      ]
     },
     "metadata": {},
     "output_type": "display_data"
    },
    {
     "data": {
      "application/vnd.plotly.v1+json": {
       "data": [
        {
         "type": "histogram",
         "x": [
          0,
          0,
          0,
          0,
          0,
          0,
          0,
          0,
          0
         ]
        }
       ],
       "layout": {
        "title": "Distribution of mbox project",
        "xaxis": {
         "title": "mbox project"
        },
        "yaxis": {
         "title": "Population"
        }
       }
      },
      "text/html": [
       "<div id=\"ed691e01-798e-4ddc-b945-c206a3c0a0eb\" style=\"height: 525px; width: 100%;\" class=\"plotly-graph-div\"></div><script type=\"text/javascript\">require([\"plotly\"], function(Plotly) { window.PLOTLYENV=window.PLOTLYENV || {};window.PLOTLYENV.BASE_URL=\"https://plot.ly\";Plotly.newPlot(\"ed691e01-798e-4ddc-b945-c206a3c0a0eb\", [{\"type\": \"histogram\", \"x\": [0, 0, 0, 0, 0, 0, 0, 0, 0]}], {\"xaxis\": {\"title\": \"mbox project\"}, \"title\": \"Distribution of mbox project\", \"yaxis\": {\"title\": \"Population\"}}, {\"showLink\": true, \"linkText\": \"Export to plot.ly\"})});</script>"
      ],
      "text/vnd.plotly.v1+html": [
       "<div id=\"ed691e01-798e-4ddc-b945-c206a3c0a0eb\" style=\"height: 525px; width: 100%;\" class=\"plotly-graph-div\"></div><script type=\"text/javascript\">require([\"plotly\"], function(Plotly) { window.PLOTLYENV=window.PLOTLYENV || {};window.PLOTLYENV.BASE_URL=\"https://plot.ly\";Plotly.newPlot(\"ed691e01-798e-4ddc-b945-c206a3c0a0eb\", [{\"type\": \"histogram\", \"x\": [0, 0, 0, 0, 0, 0, 0, 0, 0]}], {\"xaxis\": {\"title\": \"mbox project\"}, \"title\": \"Distribution of mbox project\", \"yaxis\": {\"title\": \"Population\"}}, {\"showLink\": true, \"linkText\": \"Export to plot.ly\"})});</script>"
      ]
     },
     "metadata": {},
     "output_type": "display_data"
    },
    {
     "data": {
      "application/vnd.plotly.v1+json": {
       "data": [
        {
         "boxpoints": "all",
         "jitter": 0.5,
         "marker": {
          "size": 2
         },
         "name": "Extremely strong(1)",
         "type": "box",
         "y": [
          0
         ]
        },
        {
         "boxpoints": "all",
         "jitter": 0.5,
         "marker": {
          "size": 2
         },
         "name": "Strong(8)",
         "type": "box",
         "y": [
          0,
          0,
          0,
          0,
          0,
          0,
          1,
          0
         ]
        }
       ],
       "layout": {
        "title": "english proficiency vs discourse project",
        "xaxis": {
         "title": "english proficiency"
        },
        "yaxis": {
         "title": "discourse project"
        }
       }
      },
      "text/html": [
       "<div id=\"79afa42f-a06d-4240-8cc5-050a70c75e8a\" style=\"height: 525px; width: 100%;\" class=\"plotly-graph-div\"></div><script type=\"text/javascript\">require([\"plotly\"], function(Plotly) { window.PLOTLYENV=window.PLOTLYENV || {};window.PLOTLYENV.BASE_URL=\"https://plot.ly\";Plotly.newPlot(\"79afa42f-a06d-4240-8cc5-050a70c75e8a\", [{\"type\": \"box\", \"boxpoints\": \"all\", \"name\": \"Extremely strong(1)\", \"marker\": {\"size\": 2}, \"y\": [0], \"jitter\": 0.5}, {\"type\": \"box\", \"boxpoints\": \"all\", \"name\": \"Strong(8)\", \"marker\": {\"size\": 2}, \"y\": [0, 0, 0, 0, 0, 0, 1, 0], \"jitter\": 0.5}], {\"xaxis\": {\"title\": \"english proficiency\"}, \"title\": \"english proficiency vs discourse project\", \"yaxis\": {\"title\": \"discourse project\"}}, {\"showLink\": true, \"linkText\": \"Export to plot.ly\"})});</script>"
      ],
      "text/vnd.plotly.v1+html": [
       "<div id=\"79afa42f-a06d-4240-8cc5-050a70c75e8a\" style=\"height: 525px; width: 100%;\" class=\"plotly-graph-div\"></div><script type=\"text/javascript\">require([\"plotly\"], function(Plotly) { window.PLOTLYENV=window.PLOTLYENV || {};window.PLOTLYENV.BASE_URL=\"https://plot.ly\";Plotly.newPlot(\"79afa42f-a06d-4240-8cc5-050a70c75e8a\", [{\"type\": \"box\", \"boxpoints\": \"all\", \"name\": \"Extremely strong(1)\", \"marker\": {\"size\": 2}, \"y\": [0], \"jitter\": 0.5}, {\"type\": \"box\", \"boxpoints\": \"all\", \"name\": \"Strong(8)\", \"marker\": {\"size\": 2}, \"y\": [0, 0, 0, 0, 0, 0, 1, 0], \"jitter\": 0.5}], {\"xaxis\": {\"title\": \"english proficiency\"}, \"title\": \"english proficiency vs discourse project\", \"yaxis\": {\"title\": \"discourse project\"}}, {\"showLink\": true, \"linkText\": \"Export to plot.ly\"})});</script>"
      ]
     },
     "metadata": {},
     "output_type": "display_data"
    },
    {
     "data": {
      "application/vnd.plotly.v1+json": {
       "data": [
        {
         "labels": [
          "Extremely strong",
          "Strong"
         ],
         "type": "pie",
         "values": [
          1,
          8
         ]
        }
       ],
       "layout": {
        "title": "Population Distribution of english proficiency"
       }
      },
      "text/html": [
       "<div id=\"ff910d96-5587-4b63-80e9-1aef4e39aba6\" style=\"height: 525px; width: 100%;\" class=\"plotly-graph-div\"></div><script type=\"text/javascript\">require([\"plotly\"], function(Plotly) { window.PLOTLYENV=window.PLOTLYENV || {};window.PLOTLYENV.BASE_URL=\"https://plot.ly\";Plotly.newPlot(\"ff910d96-5587-4b63-80e9-1aef4e39aba6\", [{\"type\": \"pie\", \"values\": [1, 8], \"labels\": [\"Extremely strong\", \"Strong\"]}], {\"title\": \"Population Distribution of english proficiency\"}, {\"showLink\": true, \"linkText\": \"Export to plot.ly\"})});</script>"
      ],
      "text/vnd.plotly.v1+html": [
       "<div id=\"ff910d96-5587-4b63-80e9-1aef4e39aba6\" style=\"height: 525px; width: 100%;\" class=\"plotly-graph-div\"></div><script type=\"text/javascript\">require([\"plotly\"], function(Plotly) { window.PLOTLYENV=window.PLOTLYENV || {};window.PLOTLYENV.BASE_URL=\"https://plot.ly\";Plotly.newPlot(\"ff910d96-5587-4b63-80e9-1aef4e39aba6\", [{\"type\": \"pie\", \"values\": [1, 8], \"labels\": [\"Extremely strong\", \"Strong\"]}], {\"title\": \"Population Distribution of english proficiency\"}, {\"showLink\": true, \"linkText\": \"Export to plot.ly\"})});</script>"
      ]
     },
     "metadata": {},
     "output_type": "display_data"
    },
    {
     "data": {
      "application/vnd.plotly.v1+json": {
       "data": [
        {
         "type": "histogram",
         "x": [
          0,
          0,
          0,
          0,
          0,
          0,
          0,
          1,
          0
         ]
        }
       ],
       "layout": {
        "title": "Distribution of discourse project",
        "xaxis": {
         "title": "discourse project"
        },
        "yaxis": {
         "title": "Population"
        }
       }
      },
      "text/html": [
       "<div id=\"44acdbc8-2eb2-4115-8405-8533144ff40c\" style=\"height: 525px; width: 100%;\" class=\"plotly-graph-div\"></div><script type=\"text/javascript\">require([\"plotly\"], function(Plotly) { window.PLOTLYENV=window.PLOTLYENV || {};window.PLOTLYENV.BASE_URL=\"https://plot.ly\";Plotly.newPlot(\"44acdbc8-2eb2-4115-8405-8533144ff40c\", [{\"type\": \"histogram\", \"x\": [0, 0, 0, 0, 0, 0, 0, 1, 0]}], {\"xaxis\": {\"title\": \"discourse project\"}, \"title\": \"Distribution of discourse project\", \"yaxis\": {\"title\": \"Population\"}}, {\"showLink\": true, \"linkText\": \"Export to plot.ly\"})});</script>"
      ],
      "text/vnd.plotly.v1+html": [
       "<div id=\"44acdbc8-2eb2-4115-8405-8533144ff40c\" style=\"height: 525px; width: 100%;\" class=\"plotly-graph-div\"></div><script type=\"text/javascript\">require([\"plotly\"], function(Plotly) { window.PLOTLYENV=window.PLOTLYENV || {};window.PLOTLYENV.BASE_URL=\"https://plot.ly\";Plotly.newPlot(\"44acdbc8-2eb2-4115-8405-8533144ff40c\", [{\"type\": \"histogram\", \"x\": [0, 0, 0, 0, 0, 0, 0, 1, 0]}], {\"xaxis\": {\"title\": \"discourse project\"}, \"title\": \"Distribution of discourse project\", \"yaxis\": {\"title\": \"Population\"}}, {\"showLink\": true, \"linkText\": \"Export to plot.ly\"})});</script>"
      ]
     },
     "metadata": {},
     "output_type": "display_data"
    },
    {
     "data": {
      "application/vnd.plotly.v1+json": {
       "data": [
        {
         "boxpoints": "all",
         "jitter": 0.5,
         "marker": {
          "size": 2
         },
         "name": "Extremely strong(1)",
         "type": "box",
         "y": [
          3
         ]
        },
        {
         "boxpoints": "all",
         "jitter": 0.5,
         "marker": {
          "size": 2
         },
         "name": "Strong(8)",
         "type": "box",
         "y": [
          1,
          2,
          2,
          2,
          1,
          null,
          null,
          null
         ]
        }
       ],
       "layout": {
        "title": "english proficiency vs exp",
        "xaxis": {
         "title": "english proficiency"
        },
        "yaxis": {
         "title": "exp"
        }
       }
      },
      "text/html": [
       "<div id=\"ef3bb107-690c-4ddc-bca0-454d0c25feef\" style=\"height: 525px; width: 100%;\" class=\"plotly-graph-div\"></div><script type=\"text/javascript\">require([\"plotly\"], function(Plotly) { window.PLOTLYENV=window.PLOTLYENV || {};window.PLOTLYENV.BASE_URL=\"https://plot.ly\";Plotly.newPlot(\"ef3bb107-690c-4ddc-bca0-454d0c25feef\", [{\"type\": \"box\", \"boxpoints\": \"all\", \"name\": \"Extremely strong(1)\", \"marker\": {\"size\": 2}, \"y\": [3.0], \"jitter\": 0.5}, {\"type\": \"box\", \"boxpoints\": \"all\", \"name\": \"Strong(8)\", \"marker\": {\"size\": 2}, \"y\": [1.0, 2.0, 2.0, 2.0, 1.0, null, null, null], \"jitter\": 0.5}], {\"xaxis\": {\"title\": \"english proficiency\"}, \"title\": \"english proficiency vs exp\", \"yaxis\": {\"title\": \"exp\"}}, {\"showLink\": true, \"linkText\": \"Export to plot.ly\"})});</script>"
      ],
      "text/vnd.plotly.v1+html": [
       "<div id=\"ef3bb107-690c-4ddc-bca0-454d0c25feef\" style=\"height: 525px; width: 100%;\" class=\"plotly-graph-div\"></div><script type=\"text/javascript\">require([\"plotly\"], function(Plotly) { window.PLOTLYENV=window.PLOTLYENV || {};window.PLOTLYENV.BASE_URL=\"https://plot.ly\";Plotly.newPlot(\"ef3bb107-690c-4ddc-bca0-454d0c25feef\", [{\"type\": \"box\", \"boxpoints\": \"all\", \"name\": \"Extremely strong(1)\", \"marker\": {\"size\": 2}, \"y\": [3.0], \"jitter\": 0.5}, {\"type\": \"box\", \"boxpoints\": \"all\", \"name\": \"Strong(8)\", \"marker\": {\"size\": 2}, \"y\": [1.0, 2.0, 2.0, 2.0, 1.0, null, null, null], \"jitter\": 0.5}], {\"xaxis\": {\"title\": \"english proficiency\"}, \"title\": \"english proficiency vs exp\", \"yaxis\": {\"title\": \"exp\"}}, {\"showLink\": true, \"linkText\": \"Export to plot.ly\"})});</script>"
      ]
     },
     "metadata": {},
     "output_type": "display_data"
    },
    {
     "data": {
      "application/vnd.plotly.v1+json": {
       "data": [
        {
         "labels": [
          "Extremely strong",
          "Strong"
         ],
         "type": "pie",
         "values": [
          1,
          8
         ]
        }
       ],
       "layout": {
        "title": "Population Distribution of english proficiency"
       }
      },
      "text/html": [
       "<div id=\"48c81d83-0403-4e55-b3f3-7d1f78ff6784\" style=\"height: 525px; width: 100%;\" class=\"plotly-graph-div\"></div><script type=\"text/javascript\">require([\"plotly\"], function(Plotly) { window.PLOTLYENV=window.PLOTLYENV || {};window.PLOTLYENV.BASE_URL=\"https://plot.ly\";Plotly.newPlot(\"48c81d83-0403-4e55-b3f3-7d1f78ff6784\", [{\"type\": \"pie\", \"values\": [1, 8], \"labels\": [\"Extremely strong\", \"Strong\"]}], {\"title\": \"Population Distribution of english proficiency\"}, {\"showLink\": true, \"linkText\": \"Export to plot.ly\"})});</script>"
      ],
      "text/vnd.plotly.v1+html": [
       "<div id=\"48c81d83-0403-4e55-b3f3-7d1f78ff6784\" style=\"height: 525px; width: 100%;\" class=\"plotly-graph-div\"></div><script type=\"text/javascript\">require([\"plotly\"], function(Plotly) { window.PLOTLYENV=window.PLOTLYENV || {};window.PLOTLYENV.BASE_URL=\"https://plot.ly\";Plotly.newPlot(\"48c81d83-0403-4e55-b3f3-7d1f78ff6784\", [{\"type\": \"pie\", \"values\": [1, 8], \"labels\": [\"Extremely strong\", \"Strong\"]}], {\"title\": \"Population Distribution of english proficiency\"}, {\"showLink\": true, \"linkText\": \"Export to plot.ly\"})});</script>"
      ]
     },
     "metadata": {},
     "output_type": "display_data"
    },
    {
     "data": {
      "application/vnd.plotly.v1+json": {
       "data": [
        {
         "type": "histogram",
         "x": [
          3,
          1,
          2,
          2,
          2,
          1,
          null,
          null,
          null
         ]
        }
       ],
       "layout": {
        "title": "Distribution of exp",
        "xaxis": {
         "title": "exp"
        },
        "yaxis": {
         "title": "Population"
        }
       }
      },
      "text/html": [
       "<div id=\"30231d3c-4728-4040-ada9-eb896c4529ba\" style=\"height: 525px; width: 100%;\" class=\"plotly-graph-div\"></div><script type=\"text/javascript\">require([\"plotly\"], function(Plotly) { window.PLOTLYENV=window.PLOTLYENV || {};window.PLOTLYENV.BASE_URL=\"https://plot.ly\";Plotly.newPlot(\"30231d3c-4728-4040-ada9-eb896c4529ba\", [{\"type\": \"histogram\", \"x\": [3.0, 1.0, 2.0, 2.0, 2.0, 1.0, null, null, null]}], {\"xaxis\": {\"title\": \"exp\"}, \"title\": \"Distribution of exp\", \"yaxis\": {\"title\": \"Population\"}}, {\"showLink\": true, \"linkText\": \"Export to plot.ly\"})});</script>"
      ],
      "text/vnd.plotly.v1+html": [
       "<div id=\"30231d3c-4728-4040-ada9-eb896c4529ba\" style=\"height: 525px; width: 100%;\" class=\"plotly-graph-div\"></div><script type=\"text/javascript\">require([\"plotly\"], function(Plotly) { window.PLOTLYENV=window.PLOTLYENV || {};window.PLOTLYENV.BASE_URL=\"https://plot.ly\";Plotly.newPlot(\"30231d3c-4728-4040-ada9-eb896c4529ba\", [{\"type\": \"histogram\", \"x\": [3.0, 1.0, 2.0, 2.0, 2.0, 1.0, null, null, null]}], {\"xaxis\": {\"title\": \"exp\"}, \"title\": \"Distribution of exp\", \"yaxis\": {\"title\": \"Population\"}}, {\"showLink\": true, \"linkText\": \"Export to plot.ly\"})});</script>"
      ]
     },
     "metadata": {},
     "output_type": "display_data"
    },
    {
     "data": {
      "application/vnd.plotly.v1+json": {
       "data": [
        {
         "boxpoints": "all",
         "jitter": 0.5,
         "marker": {
          "size": 2
         },
         "name": "Extremely strong(1)",
         "type": "box",
         "y": [
          "2015"
         ]
        },
        {
         "boxpoints": "all",
         "jitter": 0.5,
         "marker": {
          "size": 2
         },
         "name": "Strong(8)",
         "type": "box",
         "y": [
          "2016",
          "2016",
          "2016",
          "2016",
          "2017",
          null,
          null,
          null
         ]
        }
       ],
       "layout": {
        "title": "english proficiency vs first commit",
        "xaxis": {
         "title": "english proficiency"
        },
        "yaxis": {
         "title": "first commit"
        }
       }
      },
      "text/html": [
       "<div id=\"40335192-53ae-4bba-ab6f-70f7e95ca099\" style=\"height: 525px; width: 100%;\" class=\"plotly-graph-div\"></div><script type=\"text/javascript\">require([\"plotly\"], function(Plotly) { window.PLOTLYENV=window.PLOTLYENV || {};window.PLOTLYENV.BASE_URL=\"https://plot.ly\";Plotly.newPlot(\"40335192-53ae-4bba-ab6f-70f7e95ca099\", [{\"type\": \"box\", \"boxpoints\": \"all\", \"name\": \"Extremely strong(1)\", \"marker\": {\"size\": 2}, \"y\": [\"2015\"], \"jitter\": 0.5}, {\"type\": \"box\", \"boxpoints\": \"all\", \"name\": \"Strong(8)\", \"marker\": {\"size\": 2}, \"y\": [\"2016\", \"2016\", \"2016\", \"2016\", \"2017\", null, null, null], \"jitter\": 0.5}], {\"xaxis\": {\"title\": \"english proficiency\"}, \"title\": \"english proficiency vs first commit\", \"yaxis\": {\"title\": \"first commit\"}}, {\"showLink\": true, \"linkText\": \"Export to plot.ly\"})});</script>"
      ],
      "text/vnd.plotly.v1+html": [
       "<div id=\"40335192-53ae-4bba-ab6f-70f7e95ca099\" style=\"height: 525px; width: 100%;\" class=\"plotly-graph-div\"></div><script type=\"text/javascript\">require([\"plotly\"], function(Plotly) { window.PLOTLYENV=window.PLOTLYENV || {};window.PLOTLYENV.BASE_URL=\"https://plot.ly\";Plotly.newPlot(\"40335192-53ae-4bba-ab6f-70f7e95ca099\", [{\"type\": \"box\", \"boxpoints\": \"all\", \"name\": \"Extremely strong(1)\", \"marker\": {\"size\": 2}, \"y\": [\"2015\"], \"jitter\": 0.5}, {\"type\": \"box\", \"boxpoints\": \"all\", \"name\": \"Strong(8)\", \"marker\": {\"size\": 2}, \"y\": [\"2016\", \"2016\", \"2016\", \"2016\", \"2017\", null, null, null], \"jitter\": 0.5}], {\"xaxis\": {\"title\": \"english proficiency\"}, \"title\": \"english proficiency vs first commit\", \"yaxis\": {\"title\": \"first commit\"}}, {\"showLink\": true, \"linkText\": \"Export to plot.ly\"})});</script>"
      ]
     },
     "metadata": {},
     "output_type": "display_data"
    },
    {
     "data": {
      "application/vnd.plotly.v1+json": {
       "data": [
        {
         "labels": [
          "Extremely strong",
          "Strong"
         ],
         "type": "pie",
         "values": [
          1,
          8
         ]
        }
       ],
       "layout": {
        "title": "Population Distribution of english proficiency"
       }
      },
      "text/html": [
       "<div id=\"abe8ddd3-3a6b-4f1b-8023-d3ca99c6934c\" style=\"height: 525px; width: 100%;\" class=\"plotly-graph-div\"></div><script type=\"text/javascript\">require([\"plotly\"], function(Plotly) { window.PLOTLYENV=window.PLOTLYENV || {};window.PLOTLYENV.BASE_URL=\"https://plot.ly\";Plotly.newPlot(\"abe8ddd3-3a6b-4f1b-8023-d3ca99c6934c\", [{\"type\": \"pie\", \"values\": [1, 8], \"labels\": [\"Extremely strong\", \"Strong\"]}], {\"title\": \"Population Distribution of english proficiency\"}, {\"showLink\": true, \"linkText\": \"Export to plot.ly\"})});</script>"
      ],
      "text/vnd.plotly.v1+html": [
       "<div id=\"abe8ddd3-3a6b-4f1b-8023-d3ca99c6934c\" style=\"height: 525px; width: 100%;\" class=\"plotly-graph-div\"></div><script type=\"text/javascript\">require([\"plotly\"], function(Plotly) { window.PLOTLYENV=window.PLOTLYENV || {};window.PLOTLYENV.BASE_URL=\"https://plot.ly\";Plotly.newPlot(\"abe8ddd3-3a6b-4f1b-8023-d3ca99c6934c\", [{\"type\": \"pie\", \"values\": [1, 8], \"labels\": [\"Extremely strong\", \"Strong\"]}], {\"title\": \"Population Distribution of english proficiency\"}, {\"showLink\": true, \"linkText\": \"Export to plot.ly\"})});</script>"
      ]
     },
     "metadata": {},
     "output_type": "display_data"
    },
    {
     "data": {
      "application/vnd.plotly.v1+json": {
       "data": [
        {
         "type": "histogram",
         "x": [
          "2015",
          "2016",
          "2016",
          "2016",
          "2016",
          "2017",
          null,
          null,
          null
         ]
        }
       ],
       "layout": {
        "title": "Distribution of first commit",
        "xaxis": {
         "title": "first commit"
        },
        "yaxis": {
         "title": "Population"
        }
       }
      },
      "text/html": [
       "<div id=\"492c9395-f60e-4ccd-9620-d8bd2df2367d\" style=\"height: 525px; width: 100%;\" class=\"plotly-graph-div\"></div><script type=\"text/javascript\">require([\"plotly\"], function(Plotly) { window.PLOTLYENV=window.PLOTLYENV || {};window.PLOTLYENV.BASE_URL=\"https://plot.ly\";Plotly.newPlot(\"492c9395-f60e-4ccd-9620-d8bd2df2367d\", [{\"type\": \"histogram\", \"x\": [\"2015\", \"2016\", \"2016\", \"2016\", \"2016\", \"2017\", null, null, null]}], {\"xaxis\": {\"title\": \"first commit\"}, \"title\": \"Distribution of first commit\", \"yaxis\": {\"title\": \"Population\"}}, {\"showLink\": true, \"linkText\": \"Export to plot.ly\"})});</script>"
      ],
      "text/vnd.plotly.v1+html": [
       "<div id=\"492c9395-f60e-4ccd-9620-d8bd2df2367d\" style=\"height: 525px; width: 100%;\" class=\"plotly-graph-div\"></div><script type=\"text/javascript\">require([\"plotly\"], function(Plotly) { window.PLOTLYENV=window.PLOTLYENV || {};window.PLOTLYENV.BASE_URL=\"https://plot.ly\";Plotly.newPlot(\"492c9395-f60e-4ccd-9620-d8bd2df2367d\", [{\"type\": \"histogram\", \"x\": [\"2015\", \"2016\", \"2016\", \"2016\", \"2016\", \"2017\", null, null, null]}], {\"xaxis\": {\"title\": \"first commit\"}, \"title\": \"Distribution of first commit\", \"yaxis\": {\"title\": \"Population\"}}, {\"showLink\": true, \"linkText\": \"Export to plot.ly\"})});</script>"
      ]
     },
     "metadata": {},
     "output_type": "display_data"
    },
    {
     "data": {
      "application/vnd.plotly.v1+json": {
       "data": [
        {
         "boxpoints": "all",
         "jitter": 0.5,
         "marker": {
          "size": 2
         },
         "name": "Extremely strong(1)",
         "type": "box",
         "y": [
          "2017"
         ]
        },
        {
         "boxpoints": "all",
         "jitter": 0.5,
         "marker": {
          "size": 2
         },
         "name": "Strong(8)",
         "type": "box",
         "y": [
          "2016",
          "2017",
          "2017",
          "2017",
          "2017",
          null,
          null,
          null
         ]
        }
       ],
       "layout": {
        "title": "english proficiency vs last commit",
        "xaxis": {
         "title": "english proficiency"
        },
        "yaxis": {
         "title": "last commit"
        }
       }
      },
      "text/html": [
       "<div id=\"15f81bc4-d0d5-4069-b095-fe9d14e24b54\" style=\"height: 525px; width: 100%;\" class=\"plotly-graph-div\"></div><script type=\"text/javascript\">require([\"plotly\"], function(Plotly) { window.PLOTLYENV=window.PLOTLYENV || {};window.PLOTLYENV.BASE_URL=\"https://plot.ly\";Plotly.newPlot(\"15f81bc4-d0d5-4069-b095-fe9d14e24b54\", [{\"type\": \"box\", \"boxpoints\": \"all\", \"name\": \"Extremely strong(1)\", \"marker\": {\"size\": 2}, \"y\": [\"2017\"], \"jitter\": 0.5}, {\"type\": \"box\", \"boxpoints\": \"all\", \"name\": \"Strong(8)\", \"marker\": {\"size\": 2}, \"y\": [\"2016\", \"2017\", \"2017\", \"2017\", \"2017\", null, null, null], \"jitter\": 0.5}], {\"xaxis\": {\"title\": \"english proficiency\"}, \"title\": \"english proficiency vs last commit\", \"yaxis\": {\"title\": \"last commit\"}}, {\"showLink\": true, \"linkText\": \"Export to plot.ly\"})});</script>"
      ],
      "text/vnd.plotly.v1+html": [
       "<div id=\"15f81bc4-d0d5-4069-b095-fe9d14e24b54\" style=\"height: 525px; width: 100%;\" class=\"plotly-graph-div\"></div><script type=\"text/javascript\">require([\"plotly\"], function(Plotly) { window.PLOTLYENV=window.PLOTLYENV || {};window.PLOTLYENV.BASE_URL=\"https://plot.ly\";Plotly.newPlot(\"15f81bc4-d0d5-4069-b095-fe9d14e24b54\", [{\"type\": \"box\", \"boxpoints\": \"all\", \"name\": \"Extremely strong(1)\", \"marker\": {\"size\": 2}, \"y\": [\"2017\"], \"jitter\": 0.5}, {\"type\": \"box\", \"boxpoints\": \"all\", \"name\": \"Strong(8)\", \"marker\": {\"size\": 2}, \"y\": [\"2016\", \"2017\", \"2017\", \"2017\", \"2017\", null, null, null], \"jitter\": 0.5}], {\"xaxis\": {\"title\": \"english proficiency\"}, \"title\": \"english proficiency vs last commit\", \"yaxis\": {\"title\": \"last commit\"}}, {\"showLink\": true, \"linkText\": \"Export to plot.ly\"})});</script>"
      ]
     },
     "metadata": {},
     "output_type": "display_data"
    },
    {
     "data": {
      "application/vnd.plotly.v1+json": {
       "data": [
        {
         "labels": [
          "Extremely strong",
          "Strong"
         ],
         "type": "pie",
         "values": [
          1,
          8
         ]
        }
       ],
       "layout": {
        "title": "Population Distribution of english proficiency"
       }
      },
      "text/html": [
       "<div id=\"94543738-c148-4ed1-a151-6556f0c8a763\" style=\"height: 525px; width: 100%;\" class=\"plotly-graph-div\"></div><script type=\"text/javascript\">require([\"plotly\"], function(Plotly) { window.PLOTLYENV=window.PLOTLYENV || {};window.PLOTLYENV.BASE_URL=\"https://plot.ly\";Plotly.newPlot(\"94543738-c148-4ed1-a151-6556f0c8a763\", [{\"type\": \"pie\", \"values\": [1, 8], \"labels\": [\"Extremely strong\", \"Strong\"]}], {\"title\": \"Population Distribution of english proficiency\"}, {\"showLink\": true, \"linkText\": \"Export to plot.ly\"})});</script>"
      ],
      "text/vnd.plotly.v1+html": [
       "<div id=\"94543738-c148-4ed1-a151-6556f0c8a763\" style=\"height: 525px; width: 100%;\" class=\"plotly-graph-div\"></div><script type=\"text/javascript\">require([\"plotly\"], function(Plotly) { window.PLOTLYENV=window.PLOTLYENV || {};window.PLOTLYENV.BASE_URL=\"https://plot.ly\";Plotly.newPlot(\"94543738-c148-4ed1-a151-6556f0c8a763\", [{\"type\": \"pie\", \"values\": [1, 8], \"labels\": [\"Extremely strong\", \"Strong\"]}], {\"title\": \"Population Distribution of english proficiency\"}, {\"showLink\": true, \"linkText\": \"Export to plot.ly\"})});</script>"
      ]
     },
     "metadata": {},
     "output_type": "display_data"
    },
    {
     "data": {
      "application/vnd.plotly.v1+json": {
       "data": [
        {
         "type": "histogram",
         "x": [
          "2017",
          "2016",
          "2017",
          "2017",
          "2017",
          "2017",
          null,
          null,
          null
         ]
        }
       ],
       "layout": {
        "title": "Distribution of last commit",
        "xaxis": {
         "title": "last commit"
        },
        "yaxis": {
         "title": "Population"
        }
       }
      },
      "text/html": [
       "<div id=\"1a82c723-2535-4809-b11d-65750913a7fa\" style=\"height: 525px; width: 100%;\" class=\"plotly-graph-div\"></div><script type=\"text/javascript\">require([\"plotly\"], function(Plotly) { window.PLOTLYENV=window.PLOTLYENV || {};window.PLOTLYENV.BASE_URL=\"https://plot.ly\";Plotly.newPlot(\"1a82c723-2535-4809-b11d-65750913a7fa\", [{\"type\": \"histogram\", \"x\": [\"2017\", \"2016\", \"2017\", \"2017\", \"2017\", \"2017\", null, null, null]}], {\"xaxis\": {\"title\": \"last commit\"}, \"title\": \"Distribution of last commit\", \"yaxis\": {\"title\": \"Population\"}}, {\"showLink\": true, \"linkText\": \"Export to plot.ly\"})});</script>"
      ],
      "text/vnd.plotly.v1+html": [
       "<div id=\"1a82c723-2535-4809-b11d-65750913a7fa\" style=\"height: 525px; width: 100%;\" class=\"plotly-graph-div\"></div><script type=\"text/javascript\">require([\"plotly\"], function(Plotly) { window.PLOTLYENV=window.PLOTLYENV || {};window.PLOTLYENV.BASE_URL=\"https://plot.ly\";Plotly.newPlot(\"1a82c723-2535-4809-b11d-65750913a7fa\", [{\"type\": \"histogram\", \"x\": [\"2017\", \"2016\", \"2017\", \"2017\", \"2017\", \"2017\", null, null, null]}], {\"xaxis\": {\"title\": \"last commit\"}, \"title\": \"Distribution of last commit\", \"yaxis\": {\"title\": \"Population\"}}, {\"showLink\": true, \"linkText\": \"Export to plot.ly\"})});</script>"
      ]
     },
     "metadata": {},
     "output_type": "display_data"
    }
   ],
   "source": [
    "import plotly\n",
    "import plotly.graph_objs as go\n",
    "\n",
    "plotly.offline.init_notebook_mode(connected=True)\n",
    "\n",
    "def print_histogram(traces, activity_field):\n",
    "    \n",
    "    values = []\n",
    "    for trace_key in traces:\n",
    "        values.extend(traces[trace_key])\n",
    "        \n",
    "    data = [go.Histogram(x=values)]\n",
    "\n",
    "    layout = {\n",
    "        'xaxis': {\n",
    "            'title': activity_field\n",
    "        },\n",
    "        'yaxis': {\n",
    "            'title': 'Population'\n",
    "        },\n",
    "        'title': 'Distribution of ' + activity_field\n",
    "    }\n",
    "    fig = go.Figure(data=data, layout=layout)\n",
    "    \n",
    "    plotly.offline.iplot(fig, filename='histogram')\n",
    "\n",
    "def print_hammer_plot(traces, activity_field):\n",
    "    \n",
    "    values = []\n",
    "    for trace_key in traces:\n",
    "        values.extend(traces[trace_key])\n",
    "    \n",
    "    trace1 = go.Box(\n",
    "        y = nonemp_commits_df['commits'],\n",
    "        name = 'Non-employees ' +  activity_field,\n",
    "        boxpoints=False\n",
    "    )\n",
    "    trace2 = go.Box(\n",
    "        y = values,\n",
    "        name = 'Survey ' +  activity_field,\n",
    "        boxpoints=False\n",
    "    )\n",
    "    \n",
    "   \n",
    "\n",
    "    data = [trace1, trace2]\n",
    "\n",
    "    layout = {\n",
    "        'xaxis': {\n",
    "            'title': survey_field\n",
    "        },\n",
    "        'yaxis': {\n",
    "            'title': activity_field,\n",
    "            'range': ['0', '100']\n",
    "            \n",
    "        },\n",
    "        'title': survey_field + ' vs ' + activity_field\n",
    "    }\n",
    "    fig = go.Figure(data=data, layout=layout)\n",
    "    \n",
    "    plotly.offline.iplot(fig, filename='scatter-plot-with-colorscale')\n",
    "\n",
    "def print_pie_chart(traces, survey_field):\n",
    "    \n",
    "    labels = []\n",
    "    values = []\n",
    "    for trace_key in traces:\n",
    "        labels.append(trace_key)\n",
    "        values.append(len(traces[trace_key]))\n",
    "       \n",
    "    data = go.Pie(labels=labels, values=values)\n",
    "    \n",
    "    layout = {\n",
    "        'title': 'Population Distribution of ' + survey_field\n",
    "    }\n",
    "    fig = go.Figure(data=[data], layout=layout)\n",
    "    \n",
    "    plotly.offline.iplot(fig, filename='pie-chart')\n",
    "    \n",
    "\n",
    "def print_boxplot(traces, survey_field, activity_field):\n",
    "\n",
    "    trace_list = []\n",
    "    for trace_key in traces:\n",
    "        \n",
    "        #if len(traces) > 10:\n",
    "        #    trace_list.append(\n",
    "        #        go.Box(\n",
    "        #            y = traces[trace_key],\n",
    "        #            name = trace_key + '(' + str(len(traces[trace_key])) + ')' \n",
    "        #        ))\n",
    "        #else:\n",
    "        # Traces with population less than 10 are discarded\n",
    "        if len(traces[trace_key]) > 0:\n",
    "            trace_list.append(\n",
    "                go.Box(\n",
    "                    y = traces[trace_key],\n",
    "                    name = trace_key + '(' + str(len(traces[trace_key])) + ')',\n",
    "                    boxpoints='all',\n",
    "                    jitter=0.5,\n",
    "                    marker=dict(\n",
    "                        size=2\n",
    "                    )\n",
    "                ))\n",
    "\n",
    "    layout = {\n",
    "        'xaxis': {\n",
    "            'title': survey_field\n",
    "        },\n",
    "        'yaxis': {\n",
    "            'title': activity_field\n",
    "        },\n",
    "        'title': survey_field + ' vs ' + activity_field\n",
    "    }\n",
    "    fig = go.Figure(data=trace_list, layout=layout)\n",
    "\n",
    "\n",
    "    plotly.offline.iplot(fig, filename='scatter-plot-with-colorscale')\n",
    "\n",
    "survey_fields = ['age','country', 'gender', 'disability', 'education level', 'language', 'english proficiency']\n",
    "activity_fields = ['commits', 'pull requests', 'issues', 'bugs', 'emails', 'messages', \n",
    "                   'git project', 'github project', 'bugzilla project', 'mbox project', 'discourse project',\n",
    "                   'exp', 'first commit', 'last commit']\n",
    "\n",
    "for survey_field in survey_fields:\n",
    "    for activity_field in activity_fields:\n",
    "        traces = {}\n",
    "        for uuid in exp_merged_df['uuid'].unique():\n",
    "            survey_value = survey_df[survey_df['uuid'] == uuid][survey_field].values[0]\n",
    "            activity_value = exp_merged_df[exp_merged_df['uuid'] == uuid][activity_field].values[0]\n",
    "            \n",
    "            # Skip unanswered entries\n",
    "            if survey_value == None or survey_value == '':\n",
    "                continue\n",
    "\n",
    "            if survey_value not in traces:\n",
    "                traces[survey_value] = []\n",
    "            traces[survey_value].append(activity_value)\n",
    "            \n",
    "        print_boxplot(traces, survey_field, activity_field)\n",
    "        print_pie_chart(traces, survey_field)\n",
    "        if activity_field in ['commits', 'pull requests', 'issues', 'bugs', 'emails', 'messages']:\n",
    "            print_hammer_plot(traces, activity_field)\n",
    "        else:\n",
    "            print_histogram(traces, activity_field)\n",
    "        \n"
   ]
  }
 ],
 "metadata": {
  "kernelspec": {
   "display_name": "Python 3",
   "language": "python",
   "name": "python3"
  },
  "language_info": {
   "codemirror_mode": {
    "name": "ipython",
    "version": 3
   },
   "file_extension": ".py",
   "mimetype": "text/x-python",
   "name": "python",
   "nbconvert_exporter": "python",
   "pygments_lexer": "ipython3",
   "version": "3.5.2+"
  }
 },
 "nbformat": 4,
 "nbformat_minor": 2
}
