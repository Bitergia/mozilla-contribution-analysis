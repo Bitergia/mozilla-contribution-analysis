{
 "cells": [
  {
   "cell_type": "raw",
   "metadata": {},
   "source": [
    "<script>\n",
    "  function code_toggle() {\n",
    "    if (code_shown){\n",
    "      $('div.input').hide('500');\n",
    "      $('div.output_text').hide('500')\n",
    "      $('#toggleButton').val('Show Code')\n",
    "    } else {\n",
    "      $('div.input').show('500');\n",
    "      $('div.output_text').show('500')\n",
    "      $('#toggleButton').val('Hide Code')\n",
    "    }\n",
    "    code_shown = !code_shown\n",
    "  }\n",
    "\n",
    "  $( document ).ready(function(){\n",
    "    code_shown=false;\n",
    "    $('div.input').hide()\n",
    "    $('div.output_text').hide()\n",
    "  });\n",
    "</script>\n",
    "<form action=\"javascript:code_toggle()\"><input type=\"submit\" id=\"toggleButton\" value=\"Show Code\"></form>"
   ]
  },
  {
   "cell_type": "markdown",
   "metadata": {},
   "source": [
    "### Metric Calculations\n",
    "First we need to load a connection against the proper ES instance. We use an external module to load credentials from a file that will not be shared. If you want to run this, please use your own credentials, just put them in a file named '.settings' (in the same directory as this notebook) following the example file 'settings.sample'.\n",
    "\n"
   ]
  },
  {
   "cell_type": "code",
   "execution_count": 1,
   "metadata": {
    "collapsed": false,
    "scrolled": true
   },
   "outputs": [],
   "source": [
    "import pandas\n",
    "\n",
    "import util as ut\n",
    "\n",
    "from util import ESConnection\n",
    "\n",
    "es_conn = ESConnection()"
   ]
  },
  {
   "cell_type": "code",
   "execution_count": 2,
   "metadata": {
    "collapsed": true,
    "scrolled": true
   },
   "outputs": [],
   "source": [
    "initial_date = '2010-01-01'"
   ]
  },
  {
   "cell_type": "markdown",
   "metadata": {},
   "source": [
    "# List of Projects\n",
    "\n",
    "## List of projects: Git"
   ]
  },
  {
   "cell_type": "code",
   "execution_count": 3,
   "metadata": {
    "collapsed": false,
    "scrolled": true
   },
   "outputs": [
    {
     "data": {
      "text/html": [
       "<script>requirejs.config({paths: { 'plotly': ['https://cdn.plot.ly/plotly-latest.min']},});if(!window.Plotly) {{require(['plotly'],function(plotly) {window.Plotly=plotly;});}}</script>"
      ],
      "text/vnd.plotly.v1+html": [
       "<script>requirejs.config({paths: { 'plotly': ['https://cdn.plot.ly/plotly-latest.min']},});if(!window.Plotly) {{require(['plotly'],function(plotly) {window.Plotly=plotly;});}}</script>"
      ]
     },
     "metadata": {},
     "output_type": "display_data"
    },
    {
     "data": {
      "application/vnd.plotly.v1+json": {
       "data": [
        {
         "colorscale": [
          [
           0,
           "#00083e"
          ],
          [
           0.5,
           "#ededee"
          ],
          [
           1,
           "#ffffff"
          ]
         ],
         "hoverinfo": "none",
         "opacity": 0.75,
         "showscale": false,
         "type": "heatmap",
         "z": [
          [
           0,
           0,
           0
          ],
          [
           0.5,
           0.5,
           0.5
          ],
          [
           1,
           1,
           1
          ],
          [
           0.5,
           0.5,
           0.5
          ],
          [
           1,
           1,
           1
          ],
          [
           0.5,
           0.5,
           0.5
          ],
          [
           1,
           1,
           1
          ],
          [
           0.5,
           0.5,
           0.5
          ],
          [
           1,
           1,
           1
          ],
          [
           0.5,
           0.5,
           0.5
          ],
          [
           1,
           1,
           1
          ],
          [
           0.5,
           0.5,
           0.5
          ],
          [
           1,
           1,
           1
          ],
          [
           0.5,
           0.5,
           0.5
          ],
          [
           1,
           1,
           1
          ],
          [
           0.5,
           0.5,
           0.5
          ],
          [
           1,
           1,
           1
          ],
          [
           0.5,
           0.5,
           0.5
          ],
          [
           1,
           1,
           1
          ],
          [
           0.5,
           0.5,
           0.5
          ],
          [
           1,
           1,
           1
          ],
          [
           0.5,
           0.5,
           0.5
          ],
          [
           1,
           1,
           1
          ],
          [
           0.5,
           0.5,
           0.5
          ],
          [
           1,
           1,
           1
          ],
          [
           0.5,
           0.5,
           0.5
          ],
          [
           1,
           1,
           1
          ],
          [
           0.5,
           0.5,
           0.5
          ],
          [
           1,
           1,
           1
          ],
          [
           0.5,
           0.5,
           0.5
          ],
          [
           1,
           1,
           1
          ],
          [
           0.5,
           0.5,
           0.5
          ],
          [
           1,
           1,
           1
          ],
          [
           0.5,
           0.5,
           0.5
          ],
          [
           1,
           1,
           1
          ],
          [
           0.5,
           0.5,
           0.5
          ],
          [
           1,
           1,
           1
          ],
          [
           0.5,
           0.5,
           0.5
          ],
          [
           1,
           1,
           1
          ],
          [
           0.5,
           0.5,
           0.5
          ],
          [
           1,
           1,
           1
          ],
          [
           0.5,
           0.5,
           0.5
          ],
          [
           1,
           1,
           1
          ],
          [
           0.5,
           0.5,
           0.5
          ],
          [
           1,
           1,
           1
          ],
          [
           0.5,
           0.5,
           0.5
          ],
          [
           1,
           1,
           1
          ],
          [
           0.5,
           0.5,
           0.5
          ],
          [
           1,
           1,
           1
          ],
          [
           0.5,
           0.5,
           0.5
          ],
          [
           1,
           1,
           1
          ],
          [
           0.5,
           0.5,
           0.5
          ],
          [
           1,
           1,
           1
          ],
          [
           0.5,
           0.5,
           0.5
          ],
          [
           1,
           1,
           1
          ],
          [
           0.5,
           0.5,
           0.5
          ],
          [
           1,
           1,
           1
          ],
          [
           0.5,
           0.5,
           0.5
          ],
          [
           1,
           1,
           1
          ],
          [
           0.5,
           0.5,
           0.5
          ],
          [
           1,
           1,
           1
          ],
          [
           0.5,
           0.5,
           0.5
          ],
          [
           1,
           1,
           1
          ],
          [
           0.5,
           0.5,
           0.5
          ],
          [
           1,
           1,
           1
          ],
          [
           0.5,
           0.5,
           0.5
          ],
          [
           1,
           1,
           1
          ],
          [
           0.5,
           0.5,
           0.5
          ],
          [
           1,
           1,
           1
          ],
          [
           0.5,
           0.5,
           0.5
          ],
          [
           1,
           1,
           1
          ],
          [
           0.5,
           0.5,
           0.5
          ],
          [
           1,
           1,
           1
          ],
          [
           0.5,
           0.5,
           0.5
          ],
          [
           1,
           1,
           1
          ],
          [
           0.5,
           0.5,
           0.5
          ],
          [
           1,
           1,
           1
          ],
          [
           0.5,
           0.5,
           0.5
          ],
          [
           1,
           1,
           1
          ],
          [
           0.5,
           0.5,
           0.5
          ],
          [
           1,
           1,
           1
          ],
          [
           0.5,
           0.5,
           0.5
          ]
         ]
        }
       ],
       "layout": {
        "annotations": [
         {
          "align": "left",
          "font": {
           "color": "#ffffff"
          },
          "showarrow": false,
          "text": "<b>Project</b>",
          "x": -0.45,
          "xanchor": "left",
          "xref": "x1",
          "y": 0,
          "yref": "y1"
         },
         {
          "align": "left",
          "font": {
           "color": "#ffffff"
          },
          "showarrow": false,
          "text": "<b>Org</b>",
          "x": 0.55,
          "xanchor": "left",
          "xref": "x1",
          "y": 0,
          "yref": "y1"
         },
         {
          "align": "left",
          "font": {
           "color": "#ffffff"
          },
          "showarrow": false,
          "text": "<b># Commits</b>",
          "x": 1.55,
          "xanchor": "left",
          "xref": "x1",
          "y": 0,
          "yref": "y1"
         },
         {
          "align": "left",
          "font": {
           "color": "#000000"
          },
          "showarrow": false,
          "text": "Unknown",
          "x": -0.45,
          "xanchor": "left",
          "xref": "x1",
          "y": 1,
          "yref": "y1"
         },
         {
          "align": "left",
          "font": {
           "color": "#000000"
          },
          "showarrow": false,
          "text": "Mozilla Staff",
          "x": 0.55,
          "xanchor": "left",
          "xref": "x1",
          "y": 1,
          "yref": "y1"
         },
         {
          "align": "left",
          "font": {
           "color": "#000000"
          },
          "showarrow": false,
          "text": "730353.0",
          "x": 1.55,
          "xanchor": "left",
          "xref": "x1",
          "y": 1,
          "yref": "y1"
         },
         {
          "align": "left",
          "font": {
           "color": "#000000"
          },
          "showarrow": false,
          "text": "Unknown",
          "x": -0.45,
          "xanchor": "left",
          "xref": "x1",
          "y": 2,
          "yref": "y1"
         },
         {
          "align": "left",
          "font": {
           "color": "#000000"
          },
          "showarrow": false,
          "text": "Community",
          "x": 0.55,
          "xanchor": "left",
          "xref": "x1",
          "y": 2,
          "yref": "y1"
         },
         {
          "align": "left",
          "font": {
           "color": "#000000"
          },
          "showarrow": false,
          "text": "293915.0",
          "x": 1.55,
          "xanchor": "left",
          "xref": "x1",
          "y": 2,
          "yref": "y1"
         },
         {
          "align": "left",
          "font": {
           "color": "#000000"
          },
          "showarrow": false,
          "text": "Unknown",
          "x": -0.45,
          "xanchor": "left",
          "xref": "x1",
          "y": 3,
          "yref": "y1"
         },
         {
          "align": "left",
          "font": {
           "color": "#000000"
          },
          "showarrow": false,
          "text": "Code Sheriff",
          "x": 0.55,
          "xanchor": "left",
          "xref": "x1",
          "y": 3,
          "yref": "y1"
         },
         {
          "align": "left",
          "font": {
           "color": "#000000"
          },
          "showarrow": false,
          "text": "30157.0",
          "x": 1.55,
          "xanchor": "left",
          "xref": "x1",
          "y": 3,
          "yref": "y1"
         },
         {
          "align": "left",
          "font": {
           "color": "#000000"
          },
          "showarrow": false,
          "text": "Gecko",
          "x": -0.45,
          "xanchor": "left",
          "xref": "x1",
          "y": 4,
          "yref": "y1"
         },
         {
          "align": "left",
          "font": {
           "color": "#000000"
          },
          "showarrow": false,
          "text": "Mozilla Staff",
          "x": 0.55,
          "xanchor": "left",
          "xref": "x1",
          "y": 4,
          "yref": "y1"
         },
         {
          "align": "left",
          "font": {
           "color": "#000000"
          },
          "showarrow": false,
          "text": "347257.0",
          "x": 1.55,
          "xanchor": "left",
          "xref": "x1",
          "y": 4,
          "yref": "y1"
         },
         {
          "align": "left",
          "font": {
           "color": "#000000"
          },
          "showarrow": false,
          "text": "Gecko",
          "x": -0.45,
          "xanchor": "left",
          "xref": "x1",
          "y": 5,
          "yref": "y1"
         },
         {
          "align": "left",
          "font": {
           "color": "#000000"
          },
          "showarrow": false,
          "text": "Community",
          "x": 0.55,
          "xanchor": "left",
          "xref": "x1",
          "y": 5,
          "yref": "y1"
         },
         {
          "align": "left",
          "font": {
           "color": "#000000"
          },
          "showarrow": false,
          "text": "202435.0",
          "x": 1.55,
          "xanchor": "left",
          "xref": "x1",
          "y": 5,
          "yref": "y1"
         },
         {
          "align": "left",
          "font": {
           "color": "#000000"
          },
          "showarrow": false,
          "text": "Gecko",
          "x": -0.45,
          "xanchor": "left",
          "xref": "x1",
          "y": 6,
          "yref": "y1"
         },
         {
          "align": "left",
          "font": {
           "color": "#000000"
          },
          "showarrow": false,
          "text": "Code Sheriff",
          "x": 0.55,
          "xanchor": "left",
          "xref": "x1",
          "y": 6,
          "yref": "y1"
         },
         {
          "align": "left",
          "font": {
           "color": "#000000"
          },
          "showarrow": false,
          "text": "23136.0",
          "x": 1.55,
          "xanchor": "left",
          "xref": "x1",
          "y": 6,
          "yref": "y1"
         },
         {
          "align": "left",
          "font": {
           "color": "#000000"
          },
          "showarrow": false,
          "text": "IT/Ops",
          "x": -0.45,
          "xanchor": "left",
          "xref": "x1",
          "y": 7,
          "yref": "y1"
         },
         {
          "align": "left",
          "font": {
           "color": "#000000"
          },
          "showarrow": false,
          "text": "Mozilla Staff",
          "x": 0.55,
          "xanchor": "left",
          "xref": "x1",
          "y": 7,
          "yref": "y1"
         },
         {
          "align": "left",
          "font": {
           "color": "#000000"
          },
          "showarrow": false,
          "text": "113580.0",
          "x": 1.55,
          "xanchor": "left",
          "xref": "x1",
          "y": 7,
          "yref": "y1"
         },
         {
          "align": "left",
          "font": {
           "color": "#000000"
          },
          "showarrow": false,
          "text": "IT/Ops",
          "x": -0.45,
          "xanchor": "left",
          "xref": "x1",
          "y": 8,
          "yref": "y1"
         },
         {
          "align": "left",
          "font": {
           "color": "#000000"
          },
          "showarrow": false,
          "text": "Community",
          "x": 0.55,
          "xanchor": "left",
          "xref": "x1",
          "y": 8,
          "yref": "y1"
         },
         {
          "align": "left",
          "font": {
           "color": "#000000"
          },
          "showarrow": false,
          "text": "24488.0",
          "x": 1.55,
          "xanchor": "left",
          "xref": "x1",
          "y": 8,
          "yref": "y1"
         },
         {
          "align": "left",
          "font": {
           "color": "#000000"
          },
          "showarrow": false,
          "text": "IT/Ops",
          "x": -0.45,
          "xanchor": "left",
          "xref": "x1",
          "y": 9,
          "yref": "y1"
         },
         {
          "align": "left",
          "font": {
           "color": "#000000"
          },
          "showarrow": false,
          "text": "Code Sheriff",
          "x": 0.55,
          "xanchor": "left",
          "xref": "x1",
          "y": 9,
          "yref": "y1"
         },
         {
          "align": "left",
          "font": {
           "color": "#000000"
          },
          "showarrow": false,
          "text": "1748.0",
          "x": 1.55,
          "xanchor": "left",
          "xref": "x1",
          "y": 9,
          "yref": "y1"
         },
         {
          "align": "left",
          "font": {
           "color": "#000000"
          },
          "showarrow": false,
          "text": "Web Properties",
          "x": -0.45,
          "xanchor": "left",
          "xref": "x1",
          "y": 10,
          "yref": "y1"
         },
         {
          "align": "left",
          "font": {
           "color": "#000000"
          },
          "showarrow": false,
          "text": "Mozilla Staff",
          "x": 0.55,
          "xanchor": "left",
          "xref": "x1",
          "y": 10,
          "yref": "y1"
         },
         {
          "align": "left",
          "font": {
           "color": "#000000"
          },
          "showarrow": false,
          "text": "71832.0",
          "x": 1.55,
          "xanchor": "left",
          "xref": "x1",
          "y": 10,
          "yref": "y1"
         },
         {
          "align": "left",
          "font": {
           "color": "#000000"
          },
          "showarrow": false,
          "text": "Web Properties",
          "x": -0.45,
          "xanchor": "left",
          "xref": "x1",
          "y": 11,
          "yref": "y1"
         },
         {
          "align": "left",
          "font": {
           "color": "#000000"
          },
          "showarrow": false,
          "text": "Community",
          "x": 0.55,
          "xanchor": "left",
          "xref": "x1",
          "y": 11,
          "yref": "y1"
         },
         {
          "align": "left",
          "font": {
           "color": "#000000"
          },
          "showarrow": false,
          "text": "12865.0",
          "x": 1.55,
          "xanchor": "left",
          "xref": "x1",
          "y": 11,
          "yref": "y1"
         },
         {
          "align": "left",
          "font": {
           "color": "#000000"
          },
          "showarrow": false,
          "text": "Web Properties",
          "x": -0.45,
          "xanchor": "left",
          "xref": "x1",
          "y": 12,
          "yref": "y1"
         },
         {
          "align": "left",
          "font": {
           "color": "#000000"
          },
          "showarrow": false,
          "text": "Code Sheriff",
          "x": 0.55,
          "xanchor": "left",
          "xref": "x1",
          "y": 12,
          "yref": "y1"
         },
         {
          "align": "left",
          "font": {
           "color": "#000000"
          },
          "showarrow": false,
          "text": "13.0",
          "x": 1.55,
          "xanchor": "left",
          "xref": "x1",
          "y": 12,
          "yref": "y1"
         },
         {
          "align": "left",
          "font": {
           "color": "#000000"
          },
          "showarrow": false,
          "text": "Rust",
          "x": -0.45,
          "xanchor": "left",
          "xref": "x1",
          "y": 13,
          "yref": "y1"
         },
         {
          "align": "left",
          "font": {
           "color": "#000000"
          },
          "showarrow": false,
          "text": "Mozilla Staff",
          "x": 0.55,
          "xanchor": "left",
          "xref": "x1",
          "y": 13,
          "yref": "y1"
         },
         {
          "align": "left",
          "font": {
           "color": "#000000"
          },
          "showarrow": false,
          "text": "36021.0",
          "x": 1.55,
          "xanchor": "left",
          "xref": "x1",
          "y": 13,
          "yref": "y1"
         },
         {
          "align": "left",
          "font": {
           "color": "#000000"
          },
          "showarrow": false,
          "text": "Rust",
          "x": -0.45,
          "xanchor": "left",
          "xref": "x1",
          "y": 14,
          "yref": "y1"
         },
         {
          "align": "left",
          "font": {
           "color": "#000000"
          },
          "showarrow": false,
          "text": "Community",
          "x": 0.55,
          "xanchor": "left",
          "xref": "x1",
          "y": 14,
          "yref": "y1"
         },
         {
          "align": "left",
          "font": {
           "color": "#000000"
          },
          "showarrow": false,
          "text": "31346.0",
          "x": 1.55,
          "xanchor": "left",
          "xref": "x1",
          "y": 14,
          "yref": "y1"
         },
         {
          "align": "left",
          "font": {
           "color": "#000000"
          },
          "showarrow": false,
          "text": "Rust",
          "x": -0.45,
          "xanchor": "left",
          "xref": "x1",
          "y": 15,
          "yref": "y1"
         },
         {
          "align": "left",
          "font": {
           "color": "#000000"
          },
          "showarrow": false,
          "text": "Code Sheriff",
          "x": 0.55,
          "xanchor": "left",
          "xref": "x1",
          "y": 15,
          "yref": "y1"
         },
         {
          "align": "left",
          "font": {
           "color": "#000000"
          },
          "showarrow": false,
          "text": "67.0",
          "x": 1.55,
          "xanchor": "left",
          "xref": "x1",
          "y": 15,
          "yref": "y1"
         },
         {
          "align": "left",
          "font": {
           "color": "#000000"
          },
          "showarrow": false,
          "text": "Servo",
          "x": -0.45,
          "xanchor": "left",
          "xref": "x1",
          "y": 16,
          "yref": "y1"
         },
         {
          "align": "left",
          "font": {
           "color": "#000000"
          },
          "showarrow": false,
          "text": "Community",
          "x": 0.55,
          "xanchor": "left",
          "xref": "x1",
          "y": 16,
          "yref": "y1"
         },
         {
          "align": "left",
          "font": {
           "color": "#000000"
          },
          "showarrow": false,
          "text": "32597.0",
          "x": 1.55,
          "xanchor": "left",
          "xref": "x1",
          "y": 16,
          "yref": "y1"
         },
         {
          "align": "left",
          "font": {
           "color": "#000000"
          },
          "showarrow": false,
          "text": "Servo",
          "x": -0.45,
          "xanchor": "left",
          "xref": "x1",
          "y": 17,
          "yref": "y1"
         },
         {
          "align": "left",
          "font": {
           "color": "#000000"
          },
          "showarrow": false,
          "text": "Mozilla Staff",
          "x": 0.55,
          "xanchor": "left",
          "xref": "x1",
          "y": 17,
          "yref": "y1"
         },
         {
          "align": "left",
          "font": {
           "color": "#000000"
          },
          "showarrow": false,
          "text": "31094.0",
          "x": 1.55,
          "xanchor": "left",
          "xref": "x1",
          "y": 17,
          "yref": "y1"
         },
         {
          "align": "left",
          "font": {
           "color": "#000000"
          },
          "showarrow": false,
          "text": "Servo",
          "x": -0.45,
          "xanchor": "left",
          "xref": "x1",
          "y": 18,
          "yref": "y1"
         },
         {
          "align": "left",
          "font": {
           "color": "#000000"
          },
          "showarrow": false,
          "text": "Code Sheriff",
          "x": 0.55,
          "xanchor": "left",
          "xref": "x1",
          "y": 18,
          "yref": "y1"
         },
         {
          "align": "left",
          "font": {
           "color": "#000000"
          },
          "showarrow": false,
          "text": "3594.0",
          "x": 1.55,
          "xanchor": "left",
          "xref": "x1",
          "y": 18,
          "yref": "y1"
         },
         {
          "align": "left",
          "font": {
           "color": "#000000"
          },
          "showarrow": false,
          "text": "Addons/Web Extensions",
          "x": -0.45,
          "xanchor": "left",
          "xref": "x1",
          "y": 19,
          "yref": "y1"
         },
         {
          "align": "left",
          "font": {
           "color": "#000000"
          },
          "showarrow": false,
          "text": "Mozilla Staff",
          "x": 0.55,
          "xanchor": "left",
          "xref": "x1",
          "y": 19,
          "yref": "y1"
         },
         {
          "align": "left",
          "font": {
           "color": "#000000"
          },
          "showarrow": false,
          "text": "34876.0",
          "x": 1.55,
          "xanchor": "left",
          "xref": "x1",
          "y": 19,
          "yref": "y1"
         },
         {
          "align": "left",
          "font": {
           "color": "#000000"
          },
          "showarrow": false,
          "text": "Addons/Web Extensions",
          "x": -0.45,
          "xanchor": "left",
          "xref": "x1",
          "y": 20,
          "yref": "y1"
         },
         {
          "align": "left",
          "font": {
           "color": "#000000"
          },
          "showarrow": false,
          "text": "Community",
          "x": 0.55,
          "xanchor": "left",
          "xref": "x1",
          "y": 20,
          "yref": "y1"
         },
         {
          "align": "left",
          "font": {
           "color": "#000000"
          },
          "showarrow": false,
          "text": "6773.0",
          "x": 1.55,
          "xanchor": "left",
          "xref": "x1",
          "y": 20,
          "yref": "y1"
         },
         {
          "align": "left",
          "font": {
           "color": "#000000"
          },
          "showarrow": false,
          "text": "Addons/Web Extensions",
          "x": -0.45,
          "xanchor": "left",
          "xref": "x1",
          "y": 21,
          "yref": "y1"
         },
         {
          "align": "left",
          "font": {
           "color": "#000000"
          },
          "showarrow": false,
          "text": "Code Sheriff",
          "x": 0.55,
          "xanchor": "left",
          "xref": "x1",
          "y": 21,
          "yref": "y1"
         },
         {
          "align": "left",
          "font": {
           "color": "#000000"
          },
          "showarrow": false,
          "text": "183.0",
          "x": 1.55,
          "xanchor": "left",
          "xref": "x1",
          "y": 21,
          "yref": "y1"
         },
         {
          "align": "left",
          "font": {
           "color": "#000000"
          },
          "showarrow": false,
          "text": "Mozilla Local/Regional communities",
          "x": -0.45,
          "xanchor": "left",
          "xref": "x1",
          "y": 22,
          "yref": "y1"
         },
         {
          "align": "left",
          "font": {
           "color": "#000000"
          },
          "showarrow": false,
          "text": "Community",
          "x": 0.55,
          "xanchor": "left",
          "xref": "x1",
          "y": 22,
          "yref": "y1"
         },
         {
          "align": "left",
          "font": {
           "color": "#000000"
          },
          "showarrow": false,
          "text": "9152.0",
          "x": 1.55,
          "xanchor": "left",
          "xref": "x1",
          "y": 22,
          "yref": "y1"
         },
         {
          "align": "left",
          "font": {
           "color": "#000000"
          },
          "showarrow": false,
          "text": "Mozilla Local/Regional communities",
          "x": -0.45,
          "xanchor": "left",
          "xref": "x1",
          "y": 23,
          "yref": "y1"
         },
         {
          "align": "left",
          "font": {
           "color": "#000000"
          },
          "showarrow": false,
          "text": "Mozilla Staff",
          "x": 0.55,
          "xanchor": "left",
          "xref": "x1",
          "y": 23,
          "yref": "y1"
         },
         {
          "align": "left",
          "font": {
           "color": "#000000"
          },
          "showarrow": false,
          "text": "6090.0",
          "x": 1.55,
          "xanchor": "left",
          "xref": "x1",
          "y": 23,
          "yref": "y1"
         },
         {
          "align": "left",
          "font": {
           "color": "#000000"
          },
          "showarrow": false,
          "text": "Mozilla Local/Regional communities",
          "x": -0.45,
          "xanchor": "left",
          "xref": "x1",
          "y": 24,
          "yref": "y1"
         },
         {
          "align": "left",
          "font": {
           "color": "#000000"
          },
          "showarrow": false,
          "text": "Code Sheriff",
          "x": 0.55,
          "xanchor": "left",
          "xref": "x1",
          "y": 24,
          "yref": "y1"
         },
         {
          "align": "left",
          "font": {
           "color": "#000000"
          },
          "showarrow": false,
          "text": "3.0",
          "x": 1.55,
          "xanchor": "left",
          "xref": "x1",
          "y": 24,
          "yref": "y1"
         },
         {
          "align": "left",
          "font": {
           "color": "#000000"
          },
          "showarrow": false,
          "text": "Release engineering",
          "x": -0.45,
          "xanchor": "left",
          "xref": "x1",
          "y": 25,
          "yref": "y1"
         },
         {
          "align": "left",
          "font": {
           "color": "#000000"
          },
          "showarrow": false,
          "text": "Mozilla Staff",
          "x": 0.55,
          "xanchor": "left",
          "xref": "x1",
          "y": 25,
          "yref": "y1"
         },
         {
          "align": "left",
          "font": {
           "color": "#000000"
          },
          "showarrow": false,
          "text": "14486.0",
          "x": 1.55,
          "xanchor": "left",
          "xref": "x1",
          "y": 25,
          "yref": "y1"
         },
         {
          "align": "left",
          "font": {
           "color": "#000000"
          },
          "showarrow": false,
          "text": "Release engineering",
          "x": -0.45,
          "xanchor": "left",
          "xref": "x1",
          "y": 26,
          "yref": "y1"
         },
         {
          "align": "left",
          "font": {
           "color": "#000000"
          },
          "showarrow": false,
          "text": "Community",
          "x": 0.55,
          "xanchor": "left",
          "xref": "x1",
          "y": 26,
          "yref": "y1"
         },
         {
          "align": "left",
          "font": {
           "color": "#000000"
          },
          "showarrow": false,
          "text": "844.0",
          "x": 1.55,
          "xanchor": "left",
          "xref": "x1",
          "y": 26,
          "yref": "y1"
         },
         {
          "align": "left",
          "font": {
           "color": "#000000"
          },
          "showarrow": false,
          "text": "Release engineering",
          "x": -0.45,
          "xanchor": "left",
          "xref": "x1",
          "y": 27,
          "yref": "y1"
         },
         {
          "align": "left",
          "font": {
           "color": "#000000"
          },
          "showarrow": false,
          "text": "Code Sheriff",
          "x": 0.55,
          "xanchor": "left",
          "xref": "x1",
          "y": 27,
          "yref": "y1"
         },
         {
          "align": "left",
          "font": {
           "color": "#000000"
          },
          "showarrow": false,
          "text": "104.0",
          "x": 1.55,
          "xanchor": "left",
          "xref": "x1",
          "y": 27,
          "yref": "y1"
         },
         {
          "align": "left",
          "font": {
           "color": "#000000"
          },
          "showarrow": false,
          "text": "Web Literacy",
          "x": -0.45,
          "xanchor": "left",
          "xref": "x1",
          "y": 28,
          "yref": "y1"
         },
         {
          "align": "left",
          "font": {
           "color": "#000000"
          },
          "showarrow": false,
          "text": "Community",
          "x": 0.55,
          "xanchor": "left",
          "xref": "x1",
          "y": 28,
          "yref": "y1"
         },
         {
          "align": "left",
          "font": {
           "color": "#000000"
          },
          "showarrow": false,
          "text": "7060.0",
          "x": 1.55,
          "xanchor": "left",
          "xref": "x1",
          "y": 28,
          "yref": "y1"
         },
         {
          "align": "left",
          "font": {
           "color": "#000000"
          },
          "showarrow": false,
          "text": "Web Literacy",
          "x": -0.45,
          "xanchor": "left",
          "xref": "x1",
          "y": 29,
          "yref": "y1"
         },
         {
          "align": "left",
          "font": {
           "color": "#000000"
          },
          "showarrow": false,
          "text": "Mozilla Staff",
          "x": 0.55,
          "xanchor": "left",
          "xref": "x1",
          "y": 29,
          "yref": "y1"
         },
         {
          "align": "left",
          "font": {
           "color": "#000000"
          },
          "showarrow": false,
          "text": "6531.0",
          "x": 1.55,
          "xanchor": "left",
          "xref": "x1",
          "y": 29,
          "yref": "y1"
         },
         {
          "align": "left",
          "font": {
           "color": "#000000"
          },
          "showarrow": false,
          "text": "WebVR",
          "x": -0.45,
          "xanchor": "left",
          "xref": "x1",
          "y": 30,
          "yref": "y1"
         },
         {
          "align": "left",
          "font": {
           "color": "#000000"
          },
          "showarrow": false,
          "text": "Mozilla Staff",
          "x": 0.55,
          "xanchor": "left",
          "xref": "x1",
          "y": 30,
          "yref": "y1"
         },
         {
          "align": "left",
          "font": {
           "color": "#000000"
          },
          "showarrow": false,
          "text": "5822.0",
          "x": 1.55,
          "xanchor": "left",
          "xref": "x1",
          "y": 30,
          "yref": "y1"
         },
         {
          "align": "left",
          "font": {
           "color": "#000000"
          },
          "showarrow": false,
          "text": "WebVR",
          "x": -0.45,
          "xanchor": "left",
          "xref": "x1",
          "y": 31,
          "yref": "y1"
         },
         {
          "align": "left",
          "font": {
           "color": "#000000"
          },
          "showarrow": false,
          "text": "Community",
          "x": 0.55,
          "xanchor": "left",
          "xref": "x1",
          "y": 31,
          "yref": "y1"
         },
         {
          "align": "left",
          "font": {
           "color": "#000000"
          },
          "showarrow": false,
          "text": "1175.0",
          "x": 1.55,
          "xanchor": "left",
          "xref": "x1",
          "y": 31,
          "yref": "y1"
         },
         {
          "align": "left",
          "font": {
           "color": "#000000"
          },
          "showarrow": false,
          "text": "Firefox OS (FxOS / B2G)",
          "x": -0.45,
          "xanchor": "left",
          "xref": "x1",
          "y": 32,
          "yref": "y1"
         },
         {
          "align": "left",
          "font": {
           "color": "#000000"
          },
          "showarrow": false,
          "text": "Mozilla Staff",
          "x": 0.55,
          "xanchor": "left",
          "xref": "x1",
          "y": 32,
          "yref": "y1"
         },
         {
          "align": "left",
          "font": {
           "color": "#000000"
          },
          "showarrow": false,
          "text": "5781.0",
          "x": 1.55,
          "xanchor": "left",
          "xref": "x1",
          "y": 32,
          "yref": "y1"
         },
         {
          "align": "left",
          "font": {
           "color": "#000000"
          },
          "showarrow": false,
          "text": "Firefox OS (FxOS / B2G)",
          "x": -0.45,
          "xanchor": "left",
          "xref": "x1",
          "y": 33,
          "yref": "y1"
         },
         {
          "align": "left",
          "font": {
           "color": "#000000"
          },
          "showarrow": false,
          "text": "Community",
          "x": 0.55,
          "xanchor": "left",
          "xref": "x1",
          "y": 33,
          "yref": "y1"
         },
         {
          "align": "left",
          "font": {
           "color": "#000000"
          },
          "showarrow": false,
          "text": "736.0",
          "x": 1.55,
          "xanchor": "left",
          "xref": "x1",
          "y": 33,
          "yref": "y1"
         },
         {
          "align": "left",
          "font": {
           "color": "#000000"
          },
          "showarrow": false,
          "text": "Firefox iOS",
          "x": -0.45,
          "xanchor": "left",
          "xref": "x1",
          "y": 34,
          "yref": "y1"
         },
         {
          "align": "left",
          "font": {
           "color": "#000000"
          },
          "showarrow": false,
          "text": "Mozilla Staff",
          "x": 0.55,
          "xanchor": "left",
          "xref": "x1",
          "y": 34,
          "yref": "y1"
         },
         {
          "align": "left",
          "font": {
           "color": "#000000"
          },
          "showarrow": false,
          "text": "5935.0",
          "x": 1.55,
          "xanchor": "left",
          "xref": "x1",
          "y": 34,
          "yref": "y1"
         },
         {
          "align": "left",
          "font": {
           "color": "#000000"
          },
          "showarrow": false,
          "text": "Firefox iOS",
          "x": -0.45,
          "xanchor": "left",
          "xref": "x1",
          "y": 35,
          "yref": "y1"
         },
         {
          "align": "left",
          "font": {
           "color": "#000000"
          },
          "showarrow": false,
          "text": "Community",
          "x": 0.55,
          "xanchor": "left",
          "xref": "x1",
          "y": 35,
          "yref": "y1"
         },
         {
          "align": "left",
          "font": {
           "color": "#000000"
          },
          "showarrow": false,
          "text": "444.0",
          "x": 1.55,
          "xanchor": "left",
          "xref": "x1",
          "y": 35,
          "yref": "y1"
         },
         {
          "align": "left",
          "font": {
           "color": "#000000"
          },
          "showarrow": false,
          "text": "Quality Assurance",
          "x": -0.45,
          "xanchor": "left",
          "xref": "x1",
          "y": 36,
          "yref": "y1"
         },
         {
          "align": "left",
          "font": {
           "color": "#000000"
          },
          "showarrow": false,
          "text": "Mozilla Staff",
          "x": 0.55,
          "xanchor": "left",
          "xref": "x1",
          "y": 36,
          "yref": "y1"
         },
         {
          "align": "left",
          "font": {
           "color": "#000000"
          },
          "showarrow": false,
          "text": "3811.0",
          "x": 1.55,
          "xanchor": "left",
          "xref": "x1",
          "y": 36,
          "yref": "y1"
         },
         {
          "align": "left",
          "font": {
           "color": "#000000"
          },
          "showarrow": false,
          "text": "Quality Assurance",
          "x": -0.45,
          "xanchor": "left",
          "xref": "x1",
          "y": 37,
          "yref": "y1"
         },
         {
          "align": "left",
          "font": {
           "color": "#000000"
          },
          "showarrow": false,
          "text": "Community",
          "x": 0.55,
          "xanchor": "left",
          "xref": "x1",
          "y": 37,
          "yref": "y1"
         },
         {
          "align": "left",
          "font": {
           "color": "#000000"
          },
          "showarrow": false,
          "text": "1072.0",
          "x": 1.55,
          "xanchor": "left",
          "xref": "x1",
          "y": 37,
          "yref": "y1"
         },
         {
          "align": "left",
          "font": {
           "color": "#000000"
          },
          "showarrow": false,
          "text": "Mozilla Developer Network (MDN)",
          "x": -0.45,
          "xanchor": "left",
          "xref": "x1",
          "y": 38,
          "yref": "y1"
         },
         {
          "align": "left",
          "font": {
           "color": "#000000"
          },
          "showarrow": false,
          "text": "Mozilla Staff",
          "x": 0.55,
          "xanchor": "left",
          "xref": "x1",
          "y": 38,
          "yref": "y1"
         },
         {
          "align": "left",
          "font": {
           "color": "#000000"
          },
          "showarrow": false,
          "text": "3181.0",
          "x": 1.55,
          "xanchor": "left",
          "xref": "x1",
          "y": 38,
          "yref": "y1"
         },
         {
          "align": "left",
          "font": {
           "color": "#000000"
          },
          "showarrow": false,
          "text": "Mozilla Developer Network (MDN)",
          "x": -0.45,
          "xanchor": "left",
          "xref": "x1",
          "y": 39,
          "yref": "y1"
         },
         {
          "align": "left",
          "font": {
           "color": "#000000"
          },
          "showarrow": false,
          "text": "Community",
          "x": 0.55,
          "xanchor": "left",
          "xref": "x1",
          "y": 39,
          "yref": "y1"
         },
         {
          "align": "left",
          "font": {
           "color": "#000000"
          },
          "showarrow": false,
          "text": "497.0",
          "x": 1.55,
          "xanchor": "left",
          "xref": "x1",
          "y": 39,
          "yref": "y1"
         },
         {
          "align": "left",
          "font": {
           "color": "#000000"
          },
          "showarrow": false,
          "text": "Mozilla Science",
          "x": -0.45,
          "xanchor": "left",
          "xref": "x1",
          "y": 40,
          "yref": "y1"
         },
         {
          "align": "left",
          "font": {
           "color": "#000000"
          },
          "showarrow": false,
          "text": "Community",
          "x": 0.55,
          "xanchor": "left",
          "xref": "x1",
          "y": 40,
          "yref": "y1"
         },
         {
          "align": "left",
          "font": {
           "color": "#000000"
          },
          "showarrow": false,
          "text": "2603.0",
          "x": 1.55,
          "xanchor": "left",
          "xref": "x1",
          "y": 40,
          "yref": "y1"
         },
         {
          "align": "left",
          "font": {
           "color": "#000000"
          },
          "showarrow": false,
          "text": "Mozilla Science",
          "x": -0.45,
          "xanchor": "left",
          "xref": "x1",
          "y": 41,
          "yref": "y1"
         },
         {
          "align": "left",
          "font": {
           "color": "#000000"
          },
          "showarrow": false,
          "text": "Mozilla Staff",
          "x": 0.55,
          "xanchor": "left",
          "xref": "x1",
          "y": 41,
          "yref": "y1"
         },
         {
          "align": "left",
          "font": {
           "color": "#000000"
          },
          "showarrow": false,
          "text": "954.0",
          "x": 1.55,
          "xanchor": "left",
          "xref": "x1",
          "y": 41,
          "yref": "y1"
         },
         {
          "align": "left",
          "font": {
           "color": "#000000"
          },
          "showarrow": false,
          "text": "Test Pilot",
          "x": -0.45,
          "xanchor": "left",
          "xref": "x1",
          "y": 42,
          "yref": "y1"
         },
         {
          "align": "left",
          "font": {
           "color": "#000000"
          },
          "showarrow": false,
          "text": "Mozilla Staff",
          "x": 0.55,
          "xanchor": "left",
          "xref": "x1",
          "y": 42,
          "yref": "y1"
         },
         {
          "align": "left",
          "font": {
           "color": "#000000"
          },
          "showarrow": false,
          "text": "1873.0",
          "x": 1.55,
          "xanchor": "left",
          "xref": "x1",
          "y": 42,
          "yref": "y1"
         },
         {
          "align": "left",
          "font": {
           "color": "#000000"
          },
          "showarrow": false,
          "text": "Test Pilot",
          "x": -0.45,
          "xanchor": "left",
          "xref": "x1",
          "y": 43,
          "yref": "y1"
         },
         {
          "align": "left",
          "font": {
           "color": "#000000"
          },
          "showarrow": false,
          "text": "Community",
          "x": 0.55,
          "xanchor": "left",
          "xref": "x1",
          "y": 43,
          "yref": "y1"
         },
         {
          "align": "left",
          "font": {
           "color": "#000000"
          },
          "showarrow": false,
          "text": "1186.0",
          "x": 1.55,
          "xanchor": "left",
          "xref": "x1",
          "y": 43,
          "yref": "y1"
         },
         {
          "align": "left",
          "font": {
           "color": "#000000"
          },
          "showarrow": false,
          "text": "Test Pilot",
          "x": -0.45,
          "xanchor": "left",
          "xref": "x1",
          "y": 44,
          "yref": "y1"
         },
         {
          "align": "left",
          "font": {
           "color": "#000000"
          },
          "showarrow": false,
          "text": "Code Sheriff",
          "x": 0.55,
          "xanchor": "left",
          "xref": "x1",
          "y": 44,
          "yref": "y1"
         },
         {
          "align": "left",
          "font": {
           "color": "#000000"
          },
          "showarrow": false,
          "text": "2.0",
          "x": 1.55,
          "xanchor": "left",
          "xref": "x1",
          "y": 44,
          "yref": "y1"
         },
         {
          "align": "left",
          "font": {
           "color": "#000000"
          },
          "showarrow": false,
          "text": "Marketing / Social Media",
          "x": -0.45,
          "xanchor": "left",
          "xref": "x1",
          "y": 45,
          "yref": "y1"
         },
         {
          "align": "left",
          "font": {
           "color": "#000000"
          },
          "showarrow": false,
          "text": "Mozilla Staff",
          "x": 0.55,
          "xanchor": "left",
          "xref": "x1",
          "y": 45,
          "yref": "y1"
         },
         {
          "align": "left",
          "font": {
           "color": "#000000"
          },
          "showarrow": false,
          "text": "2109.0",
          "x": 1.55,
          "xanchor": "left",
          "xref": "x1",
          "y": 45,
          "yref": "y1"
         },
         {
          "align": "left",
          "font": {
           "color": "#000000"
          },
          "showarrow": false,
          "text": "Marketing / Social Media",
          "x": -0.45,
          "xanchor": "left",
          "xref": "x1",
          "y": 46,
          "yref": "y1"
         },
         {
          "align": "left",
          "font": {
           "color": "#000000"
          },
          "showarrow": false,
          "text": "Community",
          "x": 0.55,
          "xanchor": "left",
          "xref": "x1",
          "y": 46,
          "yref": "y1"
         },
         {
          "align": "left",
          "font": {
           "color": "#000000"
          },
          "showarrow": false,
          "text": "54.0",
          "x": 1.55,
          "xanchor": "left",
          "xref": "x1",
          "y": 46,
          "yref": "y1"
         },
         {
          "align": "left",
          "font": {
           "color": "#000000"
          },
          "showarrow": false,
          "text": "Marketing / Social Media",
          "x": -0.45,
          "xanchor": "left",
          "xref": "x1",
          "y": 47,
          "yref": "y1"
         },
         {
          "align": "left",
          "font": {
           "color": "#000000"
          },
          "showarrow": false,
          "text": "Code Sheriff",
          "x": 0.55,
          "xanchor": "left",
          "xref": "x1",
          "y": 47,
          "yref": "y1"
         },
         {
          "align": "left",
          "font": {
           "color": "#000000"
          },
          "showarrow": false,
          "text": "14.0",
          "x": 1.55,
          "xanchor": "left",
          "xref": "x1",
          "y": 47,
          "yref": "y1"
         },
         {
          "align": "left",
          "font": {
           "color": "#000000"
          },
          "showarrow": false,
          "text": "Localization",
          "x": -0.45,
          "xanchor": "left",
          "xref": "x1",
          "y": 48,
          "yref": "y1"
         },
         {
          "align": "left",
          "font": {
           "color": "#000000"
          },
          "showarrow": false,
          "text": "Mozilla Staff",
          "x": 0.55,
          "xanchor": "left",
          "xref": "x1",
          "y": 48,
          "yref": "y1"
         },
         {
          "align": "left",
          "font": {
           "color": "#000000"
          },
          "showarrow": false,
          "text": "1073.0",
          "x": 1.55,
          "xanchor": "left",
          "xref": "x1",
          "y": 48,
          "yref": "y1"
         },
         {
          "align": "left",
          "font": {
           "color": "#000000"
          },
          "showarrow": false,
          "text": "Localization",
          "x": -0.45,
          "xanchor": "left",
          "xref": "x1",
          "y": 49,
          "yref": "y1"
         },
         {
          "align": "left",
          "font": {
           "color": "#000000"
          },
          "showarrow": false,
          "text": "Community",
          "x": 0.55,
          "xanchor": "left",
          "xref": "x1",
          "y": 49,
          "yref": "y1"
         },
         {
          "align": "left",
          "font": {
           "color": "#000000"
          },
          "showarrow": false,
          "text": "940.0",
          "x": 1.55,
          "xanchor": "left",
          "xref": "x1",
          "y": 49,
          "yref": "y1"
         },
         {
          "align": "left",
          "font": {
           "color": "#000000"
          },
          "showarrow": false,
          "text": "Mozilla Location Service (MLS) / Stumbler",
          "x": -0.45,
          "xanchor": "left",
          "xref": "x1",
          "y": 50,
          "yref": "y1"
         },
         {
          "align": "left",
          "font": {
           "color": "#000000"
          },
          "showarrow": false,
          "text": "Mozilla Staff",
          "x": 0.55,
          "xanchor": "left",
          "xref": "x1",
          "y": 50,
          "yref": "y1"
         },
         {
          "align": "left",
          "font": {
           "color": "#000000"
          },
          "showarrow": false,
          "text": "1375.0",
          "x": 1.55,
          "xanchor": "left",
          "xref": "x1",
          "y": 50,
          "yref": "y1"
         },
         {
          "align": "left",
          "font": {
           "color": "#000000"
          },
          "showarrow": false,
          "text": "Mozilla Location Service (MLS) / Stumbler",
          "x": -0.45,
          "xanchor": "left",
          "xref": "x1",
          "y": 51,
          "yref": "y1"
         },
         {
          "align": "left",
          "font": {
           "color": "#000000"
          },
          "showarrow": false,
          "text": "Community",
          "x": 0.55,
          "xanchor": "left",
          "xref": "x1",
          "y": 51,
          "yref": "y1"
         },
         {
          "align": "left",
          "font": {
           "color": "#000000"
          },
          "showarrow": false,
          "text": "591.0",
          "x": 1.55,
          "xanchor": "left",
          "xref": "x1",
          "y": 51,
          "yref": "y1"
         },
         {
          "align": "left",
          "font": {
           "color": "#000000"
          },
          "showarrow": false,
          "text": "Mozilla Location Service (MLS) / Stumbler",
          "x": -0.45,
          "xanchor": "left",
          "xref": "x1",
          "y": 52,
          "yref": "y1"
         },
         {
          "align": "left",
          "font": {
           "color": "#000000"
          },
          "showarrow": false,
          "text": "Code Sheriff",
          "x": 0.55,
          "xanchor": "left",
          "xref": "x1",
          "y": 52,
          "yref": "y1"
         },
         {
          "align": "left",
          "font": {
           "color": "#000000"
          },
          "showarrow": false,
          "text": "1.0",
          "x": 1.55,
          "xanchor": "left",
          "xref": "x1",
          "y": 52,
          "yref": "y1"
         },
         {
          "align": "left",
          "font": {
           "color": "#000000"
          },
          "showarrow": false,
          "text": "Firefox",
          "x": -0.45,
          "xanchor": "left",
          "xref": "x1",
          "y": 53,
          "yref": "y1"
         },
         {
          "align": "left",
          "font": {
           "color": "#000000"
          },
          "showarrow": false,
          "text": "Mozilla Staff",
          "x": 0.55,
          "xanchor": "left",
          "xref": "x1",
          "y": 53,
          "yref": "y1"
         },
         {
          "align": "left",
          "font": {
           "color": "#000000"
          },
          "showarrow": false,
          "text": "1072.0",
          "x": 1.55,
          "xanchor": "left",
          "xref": "x1",
          "y": 53,
          "yref": "y1"
         },
         {
          "align": "left",
          "font": {
           "color": "#000000"
          },
          "showarrow": false,
          "text": "Firefox",
          "x": -0.45,
          "xanchor": "left",
          "xref": "x1",
          "y": 54,
          "yref": "y1"
         },
         {
          "align": "left",
          "font": {
           "color": "#000000"
          },
          "showarrow": false,
          "text": "Community",
          "x": 0.55,
          "xanchor": "left",
          "xref": "x1",
          "y": 54,
          "yref": "y1"
         },
         {
          "align": "left",
          "font": {
           "color": "#000000"
          },
          "showarrow": false,
          "text": "461.0",
          "x": 1.55,
          "xanchor": "left",
          "xref": "x1",
          "y": 54,
          "yref": "y1"
         },
         {
          "align": "left",
          "font": {
           "color": "#000000"
          },
          "showarrow": false,
          "text": "Advocacy and policy",
          "x": -0.45,
          "xanchor": "left",
          "xref": "x1",
          "y": 55,
          "yref": "y1"
         },
         {
          "align": "left",
          "font": {
           "color": "#000000"
          },
          "showarrow": false,
          "text": "Mozilla Staff",
          "x": 0.55,
          "xanchor": "left",
          "xref": "x1",
          "y": 55,
          "yref": "y1"
         },
         {
          "align": "left",
          "font": {
           "color": "#000000"
          },
          "showarrow": false,
          "text": "1030.0",
          "x": 1.55,
          "xanchor": "left",
          "xref": "x1",
          "y": 55,
          "yref": "y1"
         },
         {
          "align": "left",
          "font": {
           "color": "#000000"
          },
          "showarrow": false,
          "text": "Advocacy and policy",
          "x": -0.45,
          "xanchor": "left",
          "xref": "x1",
          "y": 56,
          "yref": "y1"
         },
         {
          "align": "left",
          "font": {
           "color": "#000000"
          },
          "showarrow": false,
          "text": "Community",
          "x": 0.55,
          "xanchor": "left",
          "xref": "x1",
          "y": 56,
          "yref": "y1"
         },
         {
          "align": "left",
          "font": {
           "color": "#000000"
          },
          "showarrow": false,
          "text": "441.0",
          "x": 1.55,
          "xanchor": "left",
          "xref": "x1",
          "y": 56,
          "yref": "y1"
         },
         {
          "align": "left",
          "font": {
           "color": "#000000"
          },
          "showarrow": false,
          "text": "Advocacy and policy",
          "x": -0.45,
          "xanchor": "left",
          "xref": "x1",
          "y": 57,
          "yref": "y1"
         },
         {
          "align": "left",
          "font": {
           "color": "#000000"
          },
          "showarrow": false,
          "text": "Code Sheriff",
          "x": 0.55,
          "xanchor": "left",
          "xref": "x1",
          "y": 57,
          "yref": "y1"
         },
         {
          "align": "left",
          "font": {
           "color": "#000000"
          },
          "showarrow": false,
          "text": "3.0",
          "x": 1.55,
          "xanchor": "left",
          "xref": "x1",
          "y": 57,
          "yref": "y1"
         },
         {
          "align": "left",
          "font": {
           "color": "#000000"
          },
          "showarrow": false,
          "text": "Mozilla Foundation",
          "x": -0.45,
          "xanchor": "left",
          "xref": "x1",
          "y": 58,
          "yref": "y1"
         },
         {
          "align": "left",
          "font": {
           "color": "#000000"
          },
          "showarrow": false,
          "text": "Mozilla Staff",
          "x": 0.55,
          "xanchor": "left",
          "xref": "x1",
          "y": 58,
          "yref": "y1"
         },
         {
          "align": "left",
          "font": {
           "color": "#000000"
          },
          "showarrow": false,
          "text": "801.0",
          "x": 1.55,
          "xanchor": "left",
          "xref": "x1",
          "y": 58,
          "yref": "y1"
         },
         {
          "align": "left",
          "font": {
           "color": "#000000"
          },
          "showarrow": false,
          "text": "Mozilla Foundation",
          "x": -0.45,
          "xanchor": "left",
          "xref": "x1",
          "y": 59,
          "yref": "y1"
         },
         {
          "align": "left",
          "font": {
           "color": "#000000"
          },
          "showarrow": false,
          "text": "Community",
          "x": 0.55,
          "xanchor": "left",
          "xref": "x1",
          "y": 59,
          "yref": "y1"
         },
         {
          "align": "left",
          "font": {
           "color": "#000000"
          },
          "showarrow": false,
          "text": "581.0",
          "x": 1.55,
          "xanchor": "left",
          "xref": "x1",
          "y": 59,
          "yref": "y1"
         },
         {
          "align": "left",
          "font": {
           "color": "#000000"
          },
          "showarrow": false,
          "text": "Firefox Focus",
          "x": -0.45,
          "xanchor": "left",
          "xref": "x1",
          "y": 60,
          "yref": "y1"
         },
         {
          "align": "left",
          "font": {
           "color": "#000000"
          },
          "showarrow": false,
          "text": "Mozilla Staff",
          "x": 0.55,
          "xanchor": "left",
          "xref": "x1",
          "y": 60,
          "yref": "y1"
         },
         {
          "align": "left",
          "font": {
           "color": "#000000"
          },
          "showarrow": false,
          "text": "1254.0",
          "x": 1.55,
          "xanchor": "left",
          "xref": "x1",
          "y": 60,
          "yref": "y1"
         },
         {
          "align": "left",
          "font": {
           "color": "#000000"
          },
          "showarrow": false,
          "text": "Firefox Focus",
          "x": -0.45,
          "xanchor": "left",
          "xref": "x1",
          "y": 61,
          "yref": "y1"
         },
         {
          "align": "left",
          "font": {
           "color": "#000000"
          },
          "showarrow": false,
          "text": "Community",
          "x": 0.55,
          "xanchor": "left",
          "xref": "x1",
          "y": 61,
          "yref": "y1"
         },
         {
          "align": "left",
          "font": {
           "color": "#000000"
          },
          "showarrow": false,
          "text": "8.0",
          "x": 1.55,
          "xanchor": "left",
          "xref": "x1",
          "y": 61,
          "yref": "y1"
         },
         {
          "align": "left",
          "font": {
           "color": "#000000"
          },
          "showarrow": false,
          "text": "Technical/Developer Evangelism",
          "x": -0.45,
          "xanchor": "left",
          "xref": "x1",
          "y": 62,
          "yref": "y1"
         },
         {
          "align": "left",
          "font": {
           "color": "#000000"
          },
          "showarrow": false,
          "text": "Mozilla Staff",
          "x": 0.55,
          "xanchor": "left",
          "xref": "x1",
          "y": 62,
          "yref": "y1"
         },
         {
          "align": "left",
          "font": {
           "color": "#000000"
          },
          "showarrow": false,
          "text": "813.0",
          "x": 1.55,
          "xanchor": "left",
          "xref": "x1",
          "y": 62,
          "yref": "y1"
         },
         {
          "align": "left",
          "font": {
           "color": "#000000"
          },
          "showarrow": false,
          "text": "Technical/Developer Evangelism",
          "x": -0.45,
          "xanchor": "left",
          "xref": "x1",
          "y": 63,
          "yref": "y1"
         },
         {
          "align": "left",
          "font": {
           "color": "#000000"
          },
          "showarrow": false,
          "text": "Community",
          "x": 0.55,
          "xanchor": "left",
          "xref": "x1",
          "y": 63,
          "yref": "y1"
         },
         {
          "align": "left",
          "font": {
           "color": "#000000"
          },
          "showarrow": false,
          "text": "43.0",
          "x": 1.55,
          "xanchor": "left",
          "xref": "x1",
          "y": 63,
          "yref": "y1"
         },
         {
          "align": "left",
          "font": {
           "color": "#000000"
          },
          "showarrow": false,
          "text": "Not tracked",
          "x": -0.45,
          "xanchor": "left",
          "xref": "x1",
          "y": 64,
          "yref": "y1"
         },
         {
          "align": "left",
          "font": {
           "color": "#000000"
          },
          "showarrow": false,
          "text": "Mozilla Staff",
          "x": 0.55,
          "xanchor": "left",
          "xref": "x1",
          "y": 64,
          "yref": "y1"
         },
         {
          "align": "left",
          "font": {
           "color": "#000000"
          },
          "showarrow": false,
          "text": "621.0",
          "x": 1.55,
          "xanchor": "left",
          "xref": "x1",
          "y": 64,
          "yref": "y1"
         },
         {
          "align": "left",
          "font": {
           "color": "#000000"
          },
          "showarrow": false,
          "text": "Not tracked",
          "x": -0.45,
          "xanchor": "left",
          "xref": "x1",
          "y": 65,
          "yref": "y1"
         },
         {
          "align": "left",
          "font": {
           "color": "#000000"
          },
          "showarrow": false,
          "text": "Community",
          "x": 0.55,
          "xanchor": "left",
          "xref": "x1",
          "y": 65,
          "yref": "y1"
         },
         {
          "align": "left",
          "font": {
           "color": "#000000"
          },
          "showarrow": false,
          "text": "186.0",
          "x": 1.55,
          "xanchor": "left",
          "xref": "x1",
          "y": 65,
          "yref": "y1"
         },
         {
          "align": "left",
          "font": {
           "color": "#000000"
          },
          "showarrow": false,
          "text": "Vaani",
          "x": -0.45,
          "xanchor": "left",
          "xref": "x1",
          "y": 66,
          "yref": "y1"
         },
         {
          "align": "left",
          "font": {
           "color": "#000000"
          },
          "showarrow": false,
          "text": "Mozilla Staff",
          "x": 0.55,
          "xanchor": "left",
          "xref": "x1",
          "y": 66,
          "yref": "y1"
         },
         {
          "align": "left",
          "font": {
           "color": "#000000"
          },
          "showarrow": false,
          "text": "470.0",
          "x": 1.55,
          "xanchor": "left",
          "xref": "x1",
          "y": 66,
          "yref": "y1"
         },
         {
          "align": "left",
          "font": {
           "color": "#000000"
          },
          "showarrow": false,
          "text": "Vaani",
          "x": -0.45,
          "xanchor": "left",
          "xref": "x1",
          "y": 67,
          "yref": "y1"
         },
         {
          "align": "left",
          "font": {
           "color": "#000000"
          },
          "showarrow": false,
          "text": "Community",
          "x": 0.55,
          "xanchor": "left",
          "xref": "x1",
          "y": 67,
          "yref": "y1"
         },
         {
          "align": "left",
          "font": {
           "color": "#000000"
          },
          "showarrow": false,
          "text": "2.0",
          "x": 1.55,
          "xanchor": "left",
          "xref": "x1",
          "y": 67,
          "yref": "y1"
         },
         {
          "align": "left",
          "font": {
           "color": "#000000"
          },
          "showarrow": false,
          "text": "Developer Tools",
          "x": -0.45,
          "xanchor": "left",
          "xref": "x1",
          "y": 68,
          "yref": "y1"
         },
         {
          "align": "left",
          "font": {
           "color": "#000000"
          },
          "showarrow": false,
          "text": "Mozilla Staff",
          "x": 0.55,
          "xanchor": "left",
          "xref": "x1",
          "y": 68,
          "yref": "y1"
         },
         {
          "align": "left",
          "font": {
           "color": "#000000"
          },
          "showarrow": false,
          "text": "293.0",
          "x": 1.55,
          "xanchor": "left",
          "xref": "x1",
          "y": 68,
          "yref": "y1"
         },
         {
          "align": "left",
          "font": {
           "color": "#000000"
          },
          "showarrow": false,
          "text": "Developer Tools",
          "x": -0.45,
          "xanchor": "left",
          "xref": "x1",
          "y": 69,
          "yref": "y1"
         },
         {
          "align": "left",
          "font": {
           "color": "#000000"
          },
          "showarrow": false,
          "text": "Community",
          "x": 0.55,
          "xanchor": "left",
          "xref": "x1",
          "y": 69,
          "yref": "y1"
         },
         {
          "align": "left",
          "font": {
           "color": "#000000"
          },
          "showarrow": false,
          "text": "34.0",
          "x": 1.55,
          "xanchor": "left",
          "xref": "x1",
          "y": 69,
          "yref": "y1"
         },
         {
          "align": "left",
          "font": {
           "color": "#000000"
          },
          "showarrow": false,
          "text": "Deep Speech",
          "x": -0.45,
          "xanchor": "left",
          "xref": "x1",
          "y": 70,
          "yref": "y1"
         },
         {
          "align": "left",
          "font": {
           "color": "#000000"
          },
          "showarrow": false,
          "text": "Mozilla Staff",
          "x": 0.55,
          "xanchor": "left",
          "xref": "x1",
          "y": 70,
          "yref": "y1"
         },
         {
          "align": "left",
          "font": {
           "color": "#000000"
          },
          "showarrow": false,
          "text": "305.0",
          "x": 1.55,
          "xanchor": "left",
          "xref": "x1",
          "y": 70,
          "yref": "y1"
         },
         {
          "align": "left",
          "font": {
           "color": "#000000"
          },
          "showarrow": false,
          "text": "Deep Speech",
          "x": -0.45,
          "xanchor": "left",
          "xref": "x1",
          "y": 71,
          "yref": "y1"
         },
         {
          "align": "left",
          "font": {
           "color": "#000000"
          },
          "showarrow": false,
          "text": "Community",
          "x": 0.55,
          "xanchor": "left",
          "xref": "x1",
          "y": 71,
          "yref": "y1"
         },
         {
          "align": "left",
          "font": {
           "color": "#000000"
          },
          "showarrow": false,
          "text": "20.0",
          "x": 1.55,
          "xanchor": "left",
          "xref": "x1",
          "y": 71,
          "yref": "y1"
         },
         {
          "align": "left",
          "font": {
           "color": "#000000"
          },
          "showarrow": false,
          "text": "Connected devices & IoT",
          "x": -0.45,
          "xanchor": "left",
          "xref": "x1",
          "y": 72,
          "yref": "y1"
         },
         {
          "align": "left",
          "font": {
           "color": "#000000"
          },
          "showarrow": false,
          "text": "Community",
          "x": 0.55,
          "xanchor": "left",
          "xref": "x1",
          "y": 72,
          "yref": "y1"
         },
         {
          "align": "left",
          "font": {
           "color": "#000000"
          },
          "showarrow": false,
          "text": "222.0",
          "x": 1.55,
          "xanchor": "left",
          "xref": "x1",
          "y": 72,
          "yref": "y1"
         },
         {
          "align": "left",
          "font": {
           "color": "#000000"
          },
          "showarrow": false,
          "text": "Connected devices & IoT",
          "x": -0.45,
          "xanchor": "left",
          "xref": "x1",
          "y": 73,
          "yref": "y1"
         },
         {
          "align": "left",
          "font": {
           "color": "#000000"
          },
          "showarrow": false,
          "text": "Mozilla Staff",
          "x": 0.55,
          "xanchor": "left",
          "xref": "x1",
          "y": 73,
          "yref": "y1"
         },
         {
          "align": "left",
          "font": {
           "color": "#000000"
          },
          "showarrow": false,
          "text": "79.0",
          "x": 1.55,
          "xanchor": "left",
          "xref": "x1",
          "y": 73,
          "yref": "y1"
         },
         {
          "align": "left",
          "font": {
           "color": "#000000"
          },
          "showarrow": false,
          "text": "Mozilla Clubs",
          "x": -0.45,
          "xanchor": "left",
          "xref": "x1",
          "y": 74,
          "yref": "y1"
         },
         {
          "align": "left",
          "font": {
           "color": "#000000"
          },
          "showarrow": false,
          "text": "Mozilla Staff",
          "x": 0.55,
          "xanchor": "left",
          "xref": "x1",
          "y": 74,
          "yref": "y1"
         },
         {
          "align": "left",
          "font": {
           "color": "#000000"
          },
          "showarrow": false,
          "text": "198.0",
          "x": 1.55,
          "xanchor": "left",
          "xref": "x1",
          "y": 74,
          "yref": "y1"
         },
         {
          "align": "left",
          "font": {
           "color": "#000000"
          },
          "showarrow": false,
          "text": "Mozilla Clubs",
          "x": -0.45,
          "xanchor": "left",
          "xref": "x1",
          "y": 75,
          "yref": "y1"
         },
         {
          "align": "left",
          "font": {
           "color": "#000000"
          },
          "showarrow": false,
          "text": "Community",
          "x": 0.55,
          "xanchor": "left",
          "xref": "x1",
          "y": 75,
          "yref": "y1"
         },
         {
          "align": "left",
          "font": {
           "color": "#000000"
          },
          "showarrow": false,
          "text": "26.0",
          "x": 1.55,
          "xanchor": "left",
          "xref": "x1",
          "y": 75,
          "yref": "y1"
         },
         {
          "align": "left",
          "font": {
           "color": "#000000"
          },
          "showarrow": false,
          "text": "Mozilla Creative & Design",
          "x": -0.45,
          "xanchor": "left",
          "xref": "x1",
          "y": 76,
          "yref": "y1"
         },
         {
          "align": "left",
          "font": {
           "color": "#000000"
          },
          "showarrow": false,
          "text": "Community",
          "x": 0.55,
          "xanchor": "left",
          "xref": "x1",
          "y": 76,
          "yref": "y1"
         },
         {
          "align": "left",
          "font": {
           "color": "#000000"
          },
          "showarrow": false,
          "text": "106.0",
          "x": 1.55,
          "xanchor": "left",
          "xref": "x1",
          "y": 76,
          "yref": "y1"
         },
         {
          "align": "left",
          "font": {
           "color": "#000000"
          },
          "showarrow": false,
          "text": "Mozilla Creative & Design",
          "x": -0.45,
          "xanchor": "left",
          "xref": "x1",
          "y": 77,
          "yref": "y1"
         },
         {
          "align": "left",
          "font": {
           "color": "#000000"
          },
          "showarrow": false,
          "text": "Mozilla Staff",
          "x": 0.55,
          "xanchor": "left",
          "xref": "x1",
          "y": 77,
          "yref": "y1"
         },
         {
          "align": "left",
          "font": {
           "color": "#000000"
          },
          "showarrow": false,
          "text": "103.0",
          "x": 1.55,
          "xanchor": "left",
          "xref": "x1",
          "y": 77,
          "yref": "y1"
         },
         {
          "align": "left",
          "font": {
           "color": "#000000"
          },
          "showarrow": false,
          "text": "Campus Clubs (previously Student Ambassadors)",
          "x": -0.45,
          "xanchor": "left",
          "xref": "x1",
          "y": 78,
          "yref": "y1"
         },
         {
          "align": "left",
          "font": {
           "color": "#000000"
          },
          "showarrow": false,
          "text": "Mozilla Staff",
          "x": 0.55,
          "xanchor": "left",
          "xref": "x1",
          "y": 78,
          "yref": "y1"
         },
         {
          "align": "left",
          "font": {
           "color": "#000000"
          },
          "showarrow": false,
          "text": "163.0",
          "x": 1.55,
          "xanchor": "left",
          "xref": "x1",
          "y": 78,
          "yref": "y1"
         },
         {
          "align": "left",
          "font": {
           "color": "#000000"
          },
          "showarrow": false,
          "text": "Campus Clubs (previously Student Ambassadors)",
          "x": -0.45,
          "xanchor": "left",
          "xref": "x1",
          "y": 79,
          "yref": "y1"
         },
         {
          "align": "left",
          "font": {
           "color": "#000000"
          },
          "showarrow": false,
          "text": "Community",
          "x": 0.55,
          "xanchor": "left",
          "xref": "x1",
          "y": 79,
          "yref": "y1"
         },
         {
          "align": "left",
          "font": {
           "color": "#000000"
          },
          "showarrow": false,
          "text": "2.0",
          "x": 1.55,
          "xanchor": "left",
          "xref": "x1",
          "y": 79,
          "yref": "y1"
         },
         {
          "align": "left",
          "font": {
           "color": "#000000"
          },
          "showarrow": false,
          "text": "Firefox Android",
          "x": -0.45,
          "xanchor": "left",
          "xref": "x1",
          "y": 80,
          "yref": "y1"
         },
         {
          "align": "left",
          "font": {
           "color": "#000000"
          },
          "showarrow": false,
          "text": "Mozilla Staff",
          "x": 0.55,
          "xanchor": "left",
          "xref": "x1",
          "y": 80,
          "yref": "y1"
         },
         {
          "align": "left",
          "font": {
           "color": "#000000"
          },
          "showarrow": false,
          "text": "53.0",
          "x": 1.55,
          "xanchor": "left",
          "xref": "x1",
          "y": 80,
          "yref": "y1"
         },
         {
          "align": "left",
          "font": {
           "color": "#000000"
          },
          "showarrow": false,
          "text": "Firefox Android",
          "x": -0.45,
          "xanchor": "left",
          "xref": "x1",
          "y": 81,
          "yref": "y1"
         },
         {
          "align": "left",
          "font": {
           "color": "#000000"
          },
          "showarrow": false,
          "text": "Community",
          "x": 0.55,
          "xanchor": "left",
          "xref": "x1",
          "y": 81,
          "yref": "y1"
         },
         {
          "align": "left",
          "font": {
           "color": "#000000"
          },
          "showarrow": false,
          "text": "1.0",
          "x": 1.55,
          "xanchor": "left",
          "xref": "x1",
          "y": 81,
          "yref": "y1"
         }
        ],
        "height": 2510,
        "margin": {
         "b": 0,
         "l": 0,
         "r": 0,
         "t": 0
        },
        "xaxis": {
         "dtick": 1,
         "gridwidth": 2,
         "showticklabels": false,
         "tick0": -0.5,
         "ticks": "",
         "zeroline": false
        },
        "yaxis": {
         "autorange": "reversed",
         "dtick": 1,
         "gridwidth": 2,
         "showticklabels": false,
         "tick0": 0.5,
         "ticks": "",
         "zeroline": false
        }
       }
      },
      "text/html": [
       "<div id=\"e1408188-0469-42cc-8b8e-f55fa6e75e7b\" style=\"height: 2510px; width: 100%;\" class=\"plotly-graph-div\"></div><script type=\"text/javascript\">require([\"plotly\"], function(Plotly) { window.PLOTLYENV=window.PLOTLYENV || {};window.PLOTLYENV.BASE_URL=\"https://plot.ly\";Plotly.newPlot(\"e1408188-0469-42cc-8b8e-f55fa6e75e7b\", [{\"showscale\": false, \"hoverinfo\": \"none\", \"z\": [[0, 0, 0], [0.5, 0.5, 0.5], [1, 1, 1], [0.5, 0.5, 0.5], [1, 1, 1], [0.5, 0.5, 0.5], [1, 1, 1], [0.5, 0.5, 0.5], [1, 1, 1], [0.5, 0.5, 0.5], [1, 1, 1], [0.5, 0.5, 0.5], [1, 1, 1], [0.5, 0.5, 0.5], [1, 1, 1], [0.5, 0.5, 0.5], [1, 1, 1], [0.5, 0.5, 0.5], [1, 1, 1], [0.5, 0.5, 0.5], [1, 1, 1], [0.5, 0.5, 0.5], [1, 1, 1], [0.5, 0.5, 0.5], [1, 1, 1], [0.5, 0.5, 0.5], [1, 1, 1], [0.5, 0.5, 0.5], [1, 1, 1], [0.5, 0.5, 0.5], [1, 1, 1], [0.5, 0.5, 0.5], [1, 1, 1], [0.5, 0.5, 0.5], [1, 1, 1], [0.5, 0.5, 0.5], [1, 1, 1], [0.5, 0.5, 0.5], [1, 1, 1], [0.5, 0.5, 0.5], [1, 1, 1], [0.5, 0.5, 0.5], [1, 1, 1], [0.5, 0.5, 0.5], [1, 1, 1], [0.5, 0.5, 0.5], [1, 1, 1], [0.5, 0.5, 0.5], [1, 1, 1], [0.5, 0.5, 0.5], [1, 1, 1], [0.5, 0.5, 0.5], [1, 1, 1], [0.5, 0.5, 0.5], [1, 1, 1], [0.5, 0.5, 0.5], [1, 1, 1], [0.5, 0.5, 0.5], [1, 1, 1], [0.5, 0.5, 0.5], [1, 1, 1], [0.5, 0.5, 0.5], [1, 1, 1], [0.5, 0.5, 0.5], [1, 1, 1], [0.5, 0.5, 0.5], [1, 1, 1], [0.5, 0.5, 0.5], [1, 1, 1], [0.5, 0.5, 0.5], [1, 1, 1], [0.5, 0.5, 0.5], [1, 1, 1], [0.5, 0.5, 0.5], [1, 1, 1], [0.5, 0.5, 0.5], [1, 1, 1], [0.5, 0.5, 0.5], [1, 1, 1], [0.5, 0.5, 0.5], [1, 1, 1], [0.5, 0.5, 0.5]], \"opacity\": 0.75, \"type\": \"heatmap\", \"colorscale\": [[0, \"#00083e\"], [0.5, \"#ededee\"], [1, \"#ffffff\"]]}], {\"xaxis\": {\"ticks\": \"\", \"gridwidth\": 2, \"zeroline\": false, \"showticklabels\": false, \"dtick\": 1, \"tick0\": -0.5}, \"margin\": {\"r\": 0, \"b\": 0, \"l\": 0, \"t\": 0}, \"height\": 2510, \"yaxis\": {\"autorange\": \"reversed\", \"ticks\": \"\", \"gridwidth\": 2, \"zeroline\": false, \"showticklabels\": false, \"dtick\": 1, \"tick0\": 0.5}, \"annotations\": [{\"x\": -0.45, \"xref\": \"x1\", \"yref\": \"y1\", \"text\": \"<b>Project</b>\", \"showarrow\": false, \"xanchor\": \"left\", \"font\": {\"color\": \"#ffffff\"}, \"y\": 0, \"align\": \"left\"}, {\"x\": 0.55, \"xref\": \"x1\", \"yref\": \"y1\", \"text\": \"<b>Org</b>\", \"showarrow\": false, \"xanchor\": \"left\", \"font\": {\"color\": \"#ffffff\"}, \"y\": 0, \"align\": \"left\"}, {\"x\": 1.55, \"xref\": \"x1\", \"yref\": \"y1\", \"text\": \"<b># Commits</b>\", \"showarrow\": false, \"xanchor\": \"left\", \"font\": {\"color\": \"#ffffff\"}, \"y\": 0, \"align\": \"left\"}, {\"x\": -0.45, \"xref\": \"x1\", \"yref\": \"y1\", \"text\": \"Unknown\", \"showarrow\": false, \"xanchor\": \"left\", \"font\": {\"color\": \"#000000\"}, \"y\": 1, \"align\": \"left\"}, {\"x\": 0.55, \"xref\": \"x1\", \"yref\": \"y1\", \"text\": \"Mozilla Staff\", \"showarrow\": false, \"xanchor\": \"left\", \"font\": {\"color\": \"#000000\"}, \"y\": 1, \"align\": \"left\"}, {\"x\": 1.55, \"xref\": \"x1\", \"yref\": \"y1\", \"text\": \"730353.0\", \"showarrow\": false, \"xanchor\": \"left\", \"font\": {\"color\": \"#000000\"}, \"y\": 1, \"align\": \"left\"}, {\"x\": -0.45, \"xref\": \"x1\", \"yref\": \"y1\", \"text\": \"Unknown\", \"showarrow\": false, \"xanchor\": \"left\", \"font\": {\"color\": \"#000000\"}, \"y\": 2, \"align\": \"left\"}, {\"x\": 0.55, \"xref\": \"x1\", \"yref\": \"y1\", \"text\": \"Community\", \"showarrow\": false, \"xanchor\": \"left\", \"font\": {\"color\": \"#000000\"}, \"y\": 2, \"align\": \"left\"}, {\"x\": 1.55, \"xref\": \"x1\", \"yref\": \"y1\", \"text\": \"293915.0\", \"showarrow\": false, \"xanchor\": \"left\", \"font\": {\"color\": \"#000000\"}, \"y\": 2, \"align\": \"left\"}, {\"x\": -0.45, \"xref\": \"x1\", \"yref\": \"y1\", \"text\": \"Unknown\", \"showarrow\": false, \"xanchor\": \"left\", \"font\": {\"color\": \"#000000\"}, \"y\": 3, \"align\": \"left\"}, {\"x\": 0.55, \"xref\": \"x1\", \"yref\": \"y1\", \"text\": \"Code Sheriff\", \"showarrow\": false, \"xanchor\": \"left\", \"font\": {\"color\": \"#000000\"}, \"y\": 3, \"align\": \"left\"}, {\"x\": 1.55, \"xref\": \"x1\", \"yref\": \"y1\", \"text\": \"30157.0\", \"showarrow\": false, \"xanchor\": \"left\", \"font\": {\"color\": \"#000000\"}, \"y\": 3, \"align\": \"left\"}, {\"x\": -0.45, \"xref\": \"x1\", \"yref\": \"y1\", \"text\": \"Gecko\", \"showarrow\": false, \"xanchor\": \"left\", \"font\": {\"color\": \"#000000\"}, \"y\": 4, \"align\": \"left\"}, {\"x\": 0.55, \"xref\": \"x1\", \"yref\": \"y1\", \"text\": \"Mozilla Staff\", \"showarrow\": false, \"xanchor\": \"left\", \"font\": {\"color\": \"#000000\"}, \"y\": 4, \"align\": \"left\"}, {\"x\": 1.55, \"xref\": \"x1\", \"yref\": \"y1\", \"text\": \"347257.0\", \"showarrow\": false, \"xanchor\": \"left\", \"font\": {\"color\": \"#000000\"}, \"y\": 4, \"align\": \"left\"}, {\"x\": -0.45, \"xref\": \"x1\", \"yref\": \"y1\", \"text\": \"Gecko\", \"showarrow\": false, \"xanchor\": \"left\", \"font\": {\"color\": \"#000000\"}, \"y\": 5, \"align\": \"left\"}, {\"x\": 0.55, \"xref\": \"x1\", \"yref\": \"y1\", \"text\": \"Community\", \"showarrow\": false, \"xanchor\": \"left\", \"font\": {\"color\": \"#000000\"}, \"y\": 5, \"align\": \"left\"}, {\"x\": 1.55, \"xref\": \"x1\", \"yref\": \"y1\", \"text\": \"202435.0\", \"showarrow\": false, \"xanchor\": \"left\", \"font\": {\"color\": \"#000000\"}, \"y\": 5, \"align\": \"left\"}, {\"x\": -0.45, \"xref\": \"x1\", \"yref\": \"y1\", \"text\": \"Gecko\", \"showarrow\": false, \"xanchor\": \"left\", \"font\": {\"color\": \"#000000\"}, \"y\": 6, \"align\": \"left\"}, {\"x\": 0.55, \"xref\": \"x1\", \"yref\": \"y1\", \"text\": \"Code Sheriff\", \"showarrow\": false, \"xanchor\": \"left\", \"font\": {\"color\": \"#000000\"}, \"y\": 6, \"align\": \"left\"}, {\"x\": 1.55, \"xref\": \"x1\", \"yref\": \"y1\", \"text\": \"23136.0\", \"showarrow\": false, \"xanchor\": \"left\", \"font\": {\"color\": \"#000000\"}, \"y\": 6, \"align\": \"left\"}, {\"x\": -0.45, \"xref\": \"x1\", \"yref\": \"y1\", \"text\": \"IT/Ops\", \"showarrow\": false, \"xanchor\": \"left\", \"font\": {\"color\": \"#000000\"}, \"y\": 7, \"align\": \"left\"}, {\"x\": 0.55, \"xref\": \"x1\", \"yref\": \"y1\", \"text\": \"Mozilla Staff\", \"showarrow\": false, \"xanchor\": \"left\", \"font\": {\"color\": \"#000000\"}, \"y\": 7, \"align\": \"left\"}, {\"x\": 1.55, \"xref\": \"x1\", \"yref\": \"y1\", \"text\": \"113580.0\", \"showarrow\": false, \"xanchor\": \"left\", \"font\": {\"color\": \"#000000\"}, \"y\": 7, \"align\": \"left\"}, {\"x\": -0.45, \"xref\": \"x1\", \"yref\": \"y1\", \"text\": \"IT/Ops\", \"showarrow\": false, \"xanchor\": \"left\", \"font\": {\"color\": \"#000000\"}, \"y\": 8, \"align\": \"left\"}, {\"x\": 0.55, \"xref\": \"x1\", \"yref\": \"y1\", \"text\": \"Community\", \"showarrow\": false, \"xanchor\": \"left\", \"font\": {\"color\": \"#000000\"}, \"y\": 8, \"align\": \"left\"}, {\"x\": 1.55, \"xref\": \"x1\", \"yref\": \"y1\", \"text\": \"24488.0\", \"showarrow\": false, \"xanchor\": \"left\", \"font\": {\"color\": \"#000000\"}, \"y\": 8, \"align\": \"left\"}, {\"x\": -0.45, \"xref\": \"x1\", \"yref\": \"y1\", \"text\": \"IT/Ops\", \"showarrow\": false, \"xanchor\": \"left\", \"font\": {\"color\": \"#000000\"}, \"y\": 9, \"align\": \"left\"}, {\"x\": 0.55, \"xref\": \"x1\", \"yref\": \"y1\", \"text\": \"Code Sheriff\", \"showarrow\": false, \"xanchor\": \"left\", \"font\": {\"color\": \"#000000\"}, \"y\": 9, \"align\": \"left\"}, {\"x\": 1.55, \"xref\": \"x1\", \"yref\": \"y1\", \"text\": \"1748.0\", \"showarrow\": false, \"xanchor\": \"left\", \"font\": {\"color\": \"#000000\"}, \"y\": 9, \"align\": \"left\"}, {\"x\": -0.45, \"xref\": \"x1\", \"yref\": \"y1\", \"text\": \"Web Properties\", \"showarrow\": false, \"xanchor\": \"left\", \"font\": {\"color\": \"#000000\"}, \"y\": 10, \"align\": \"left\"}, {\"x\": 0.55, \"xref\": \"x1\", \"yref\": \"y1\", \"text\": \"Mozilla Staff\", \"showarrow\": false, \"xanchor\": \"left\", \"font\": {\"color\": \"#000000\"}, \"y\": 10, \"align\": \"left\"}, {\"x\": 1.55, \"xref\": \"x1\", \"yref\": \"y1\", \"text\": \"71832.0\", \"showarrow\": false, \"xanchor\": \"left\", \"font\": {\"color\": \"#000000\"}, \"y\": 10, \"align\": \"left\"}, {\"x\": -0.45, \"xref\": \"x1\", \"yref\": \"y1\", \"text\": \"Web Properties\", \"showarrow\": false, \"xanchor\": \"left\", \"font\": {\"color\": \"#000000\"}, \"y\": 11, \"align\": \"left\"}, {\"x\": 0.55, \"xref\": \"x1\", \"yref\": \"y1\", \"text\": \"Community\", \"showarrow\": false, \"xanchor\": \"left\", \"font\": {\"color\": \"#000000\"}, \"y\": 11, \"align\": \"left\"}, {\"x\": 1.55, \"xref\": \"x1\", \"yref\": \"y1\", \"text\": \"12865.0\", \"showarrow\": false, \"xanchor\": \"left\", \"font\": {\"color\": \"#000000\"}, \"y\": 11, \"align\": \"left\"}, {\"x\": -0.45, \"xref\": \"x1\", \"yref\": \"y1\", \"text\": \"Web Properties\", \"showarrow\": false, \"xanchor\": \"left\", \"font\": {\"color\": \"#000000\"}, \"y\": 12, \"align\": \"left\"}, {\"x\": 0.55, \"xref\": \"x1\", \"yref\": \"y1\", \"text\": \"Code Sheriff\", \"showarrow\": false, \"xanchor\": \"left\", \"font\": {\"color\": \"#000000\"}, \"y\": 12, \"align\": \"left\"}, {\"x\": 1.55, \"xref\": \"x1\", \"yref\": \"y1\", \"text\": \"13.0\", \"showarrow\": false, \"xanchor\": \"left\", \"font\": {\"color\": \"#000000\"}, \"y\": 12, \"align\": \"left\"}, {\"x\": -0.45, \"xref\": \"x1\", \"yref\": \"y1\", \"text\": \"Rust\", \"showarrow\": false, \"xanchor\": \"left\", \"font\": {\"color\": \"#000000\"}, \"y\": 13, \"align\": \"left\"}, {\"x\": 0.55, \"xref\": \"x1\", \"yref\": \"y1\", \"text\": \"Mozilla Staff\", \"showarrow\": false, \"xanchor\": \"left\", \"font\": {\"color\": \"#000000\"}, \"y\": 13, \"align\": \"left\"}, {\"x\": 1.55, \"xref\": \"x1\", \"yref\": \"y1\", \"text\": \"36021.0\", \"showarrow\": false, \"xanchor\": \"left\", \"font\": {\"color\": \"#000000\"}, \"y\": 13, \"align\": \"left\"}, {\"x\": -0.45, \"xref\": \"x1\", \"yref\": \"y1\", \"text\": \"Rust\", \"showarrow\": false, \"xanchor\": \"left\", \"font\": {\"color\": \"#000000\"}, \"y\": 14, \"align\": \"left\"}, {\"x\": 0.55, \"xref\": \"x1\", \"yref\": \"y1\", \"text\": \"Community\", \"showarrow\": false, \"xanchor\": \"left\", \"font\": {\"color\": \"#000000\"}, \"y\": 14, \"align\": \"left\"}, {\"x\": 1.55, \"xref\": \"x1\", \"yref\": \"y1\", \"text\": \"31346.0\", \"showarrow\": false, \"xanchor\": \"left\", \"font\": {\"color\": \"#000000\"}, \"y\": 14, \"align\": \"left\"}, {\"x\": -0.45, \"xref\": \"x1\", \"yref\": \"y1\", \"text\": \"Rust\", \"showarrow\": false, \"xanchor\": \"left\", \"font\": {\"color\": \"#000000\"}, \"y\": 15, \"align\": \"left\"}, {\"x\": 0.55, \"xref\": \"x1\", \"yref\": \"y1\", \"text\": \"Code Sheriff\", \"showarrow\": false, \"xanchor\": \"left\", \"font\": {\"color\": \"#000000\"}, \"y\": 15, \"align\": \"left\"}, {\"x\": 1.55, \"xref\": \"x1\", \"yref\": \"y1\", \"text\": \"67.0\", \"showarrow\": false, \"xanchor\": \"left\", \"font\": {\"color\": \"#000000\"}, \"y\": 15, \"align\": \"left\"}, {\"x\": -0.45, \"xref\": \"x1\", \"yref\": \"y1\", \"text\": \"Servo\", \"showarrow\": false, \"xanchor\": \"left\", \"font\": {\"color\": \"#000000\"}, \"y\": 16, \"align\": \"left\"}, {\"x\": 0.55, \"xref\": \"x1\", \"yref\": \"y1\", \"text\": \"Community\", \"showarrow\": false, \"xanchor\": \"left\", \"font\": {\"color\": \"#000000\"}, \"y\": 16, \"align\": \"left\"}, {\"x\": 1.55, \"xref\": \"x1\", \"yref\": \"y1\", \"text\": \"32597.0\", \"showarrow\": false, \"xanchor\": \"left\", \"font\": {\"color\": \"#000000\"}, \"y\": 16, \"align\": \"left\"}, {\"x\": -0.45, \"xref\": \"x1\", \"yref\": \"y1\", \"text\": \"Servo\", \"showarrow\": false, \"xanchor\": \"left\", \"font\": {\"color\": \"#000000\"}, \"y\": 17, \"align\": \"left\"}, {\"x\": 0.55, \"xref\": \"x1\", \"yref\": \"y1\", \"text\": \"Mozilla Staff\", \"showarrow\": false, \"xanchor\": \"left\", \"font\": {\"color\": \"#000000\"}, \"y\": 17, \"align\": \"left\"}, {\"x\": 1.55, \"xref\": \"x1\", \"yref\": \"y1\", \"text\": \"31094.0\", \"showarrow\": false, \"xanchor\": \"left\", \"font\": {\"color\": \"#000000\"}, \"y\": 17, \"align\": \"left\"}, {\"x\": -0.45, \"xref\": \"x1\", \"yref\": \"y1\", \"text\": \"Servo\", \"showarrow\": false, \"xanchor\": \"left\", \"font\": {\"color\": \"#000000\"}, \"y\": 18, \"align\": \"left\"}, {\"x\": 0.55, \"xref\": \"x1\", \"yref\": \"y1\", \"text\": \"Code Sheriff\", \"showarrow\": false, \"xanchor\": \"left\", \"font\": {\"color\": \"#000000\"}, \"y\": 18, \"align\": \"left\"}, {\"x\": 1.55, \"xref\": \"x1\", \"yref\": \"y1\", \"text\": \"3594.0\", \"showarrow\": false, \"xanchor\": \"left\", \"font\": {\"color\": \"#000000\"}, \"y\": 18, \"align\": \"left\"}, {\"x\": -0.45, \"xref\": \"x1\", \"yref\": \"y1\", \"text\": \"Addons/Web Extensions\", \"showarrow\": false, \"xanchor\": \"left\", \"font\": {\"color\": \"#000000\"}, \"y\": 19, \"align\": \"left\"}, {\"x\": 0.55, \"xref\": \"x1\", \"yref\": \"y1\", \"text\": \"Mozilla Staff\", \"showarrow\": false, \"xanchor\": \"left\", \"font\": {\"color\": \"#000000\"}, \"y\": 19, \"align\": \"left\"}, {\"x\": 1.55, \"xref\": \"x1\", \"yref\": \"y1\", \"text\": \"34876.0\", \"showarrow\": false, \"xanchor\": \"left\", \"font\": {\"color\": \"#000000\"}, \"y\": 19, \"align\": \"left\"}, {\"x\": -0.45, \"xref\": \"x1\", \"yref\": \"y1\", \"text\": \"Addons/Web Extensions\", \"showarrow\": false, \"xanchor\": \"left\", \"font\": {\"color\": \"#000000\"}, \"y\": 20, \"align\": \"left\"}, {\"x\": 0.55, \"xref\": \"x1\", \"yref\": \"y1\", \"text\": \"Community\", \"showarrow\": false, \"xanchor\": \"left\", \"font\": {\"color\": \"#000000\"}, \"y\": 20, \"align\": \"left\"}, {\"x\": 1.55, \"xref\": \"x1\", \"yref\": \"y1\", \"text\": \"6773.0\", \"showarrow\": false, \"xanchor\": \"left\", \"font\": {\"color\": \"#000000\"}, \"y\": 20, \"align\": \"left\"}, {\"x\": -0.45, \"xref\": \"x1\", \"yref\": \"y1\", \"text\": \"Addons/Web Extensions\", \"showarrow\": false, \"xanchor\": \"left\", \"font\": {\"color\": \"#000000\"}, \"y\": 21, \"align\": \"left\"}, {\"x\": 0.55, \"xref\": \"x1\", \"yref\": \"y1\", \"text\": \"Code Sheriff\", \"showarrow\": false, \"xanchor\": \"left\", \"font\": {\"color\": \"#000000\"}, \"y\": 21, \"align\": \"left\"}, {\"x\": 1.55, \"xref\": \"x1\", \"yref\": \"y1\", \"text\": \"183.0\", \"showarrow\": false, \"xanchor\": \"left\", \"font\": {\"color\": \"#000000\"}, \"y\": 21, \"align\": \"left\"}, {\"x\": -0.45, \"xref\": \"x1\", \"yref\": \"y1\", \"text\": \"Mozilla Local/Regional communities\", \"showarrow\": false, \"xanchor\": \"left\", \"font\": {\"color\": \"#000000\"}, \"y\": 22, \"align\": \"left\"}, {\"x\": 0.55, \"xref\": \"x1\", \"yref\": \"y1\", \"text\": \"Community\", \"showarrow\": false, \"xanchor\": \"left\", \"font\": {\"color\": \"#000000\"}, \"y\": 22, \"align\": \"left\"}, {\"x\": 1.55, \"xref\": \"x1\", \"yref\": \"y1\", \"text\": \"9152.0\", \"showarrow\": false, \"xanchor\": \"left\", \"font\": {\"color\": \"#000000\"}, \"y\": 22, \"align\": \"left\"}, {\"x\": -0.45, \"xref\": \"x1\", \"yref\": \"y1\", \"text\": \"Mozilla Local/Regional communities\", \"showarrow\": false, \"xanchor\": \"left\", \"font\": {\"color\": \"#000000\"}, \"y\": 23, \"align\": \"left\"}, {\"x\": 0.55, \"xref\": \"x1\", \"yref\": \"y1\", \"text\": \"Mozilla Staff\", \"showarrow\": false, \"xanchor\": \"left\", \"font\": {\"color\": \"#000000\"}, \"y\": 23, \"align\": \"left\"}, {\"x\": 1.55, \"xref\": \"x1\", \"yref\": \"y1\", \"text\": \"6090.0\", \"showarrow\": false, \"xanchor\": \"left\", \"font\": {\"color\": \"#000000\"}, \"y\": 23, \"align\": \"left\"}, {\"x\": -0.45, \"xref\": \"x1\", \"yref\": \"y1\", \"text\": \"Mozilla Local/Regional communities\", \"showarrow\": false, \"xanchor\": \"left\", \"font\": {\"color\": \"#000000\"}, \"y\": 24, \"align\": \"left\"}, {\"x\": 0.55, \"xref\": \"x1\", \"yref\": \"y1\", \"text\": \"Code Sheriff\", \"showarrow\": false, \"xanchor\": \"left\", \"font\": {\"color\": \"#000000\"}, \"y\": 24, \"align\": \"left\"}, {\"x\": 1.55, \"xref\": \"x1\", \"yref\": \"y1\", \"text\": \"3.0\", \"showarrow\": false, \"xanchor\": \"left\", \"font\": {\"color\": \"#000000\"}, \"y\": 24, \"align\": \"left\"}, {\"x\": -0.45, \"xref\": \"x1\", \"yref\": \"y1\", \"text\": \"Release engineering\", \"showarrow\": false, \"xanchor\": \"left\", \"font\": {\"color\": \"#000000\"}, \"y\": 25, \"align\": \"left\"}, {\"x\": 0.55, \"xref\": \"x1\", \"yref\": \"y1\", \"text\": \"Mozilla Staff\", \"showarrow\": false, \"xanchor\": \"left\", \"font\": {\"color\": \"#000000\"}, \"y\": 25, \"align\": \"left\"}, {\"x\": 1.55, \"xref\": \"x1\", \"yref\": \"y1\", \"text\": \"14486.0\", \"showarrow\": false, \"xanchor\": \"left\", \"font\": {\"color\": \"#000000\"}, \"y\": 25, \"align\": \"left\"}, {\"x\": -0.45, \"xref\": \"x1\", \"yref\": \"y1\", \"text\": \"Release engineering\", \"showarrow\": false, \"xanchor\": \"left\", \"font\": {\"color\": \"#000000\"}, \"y\": 26, \"align\": \"left\"}, {\"x\": 0.55, \"xref\": \"x1\", \"yref\": \"y1\", \"text\": \"Community\", \"showarrow\": false, \"xanchor\": \"left\", \"font\": {\"color\": \"#000000\"}, \"y\": 26, \"align\": \"left\"}, {\"x\": 1.55, \"xref\": \"x1\", \"yref\": \"y1\", \"text\": \"844.0\", \"showarrow\": false, \"xanchor\": \"left\", \"font\": {\"color\": \"#000000\"}, \"y\": 26, \"align\": \"left\"}, {\"x\": -0.45, \"xref\": \"x1\", \"yref\": \"y1\", \"text\": \"Release engineering\", \"showarrow\": false, \"xanchor\": \"left\", \"font\": {\"color\": \"#000000\"}, \"y\": 27, \"align\": \"left\"}, {\"x\": 0.55, \"xref\": \"x1\", \"yref\": \"y1\", \"text\": \"Code Sheriff\", \"showarrow\": false, \"xanchor\": \"left\", \"font\": {\"color\": \"#000000\"}, \"y\": 27, \"align\": \"left\"}, {\"x\": 1.55, \"xref\": \"x1\", \"yref\": \"y1\", \"text\": \"104.0\", \"showarrow\": false, \"xanchor\": \"left\", \"font\": {\"color\": \"#000000\"}, \"y\": 27, \"align\": \"left\"}, {\"x\": -0.45, \"xref\": \"x1\", \"yref\": \"y1\", \"text\": \"Web Literacy\", \"showarrow\": false, \"xanchor\": \"left\", \"font\": {\"color\": \"#000000\"}, \"y\": 28, \"align\": \"left\"}, {\"x\": 0.55, \"xref\": \"x1\", \"yref\": \"y1\", \"text\": \"Community\", \"showarrow\": false, \"xanchor\": \"left\", \"font\": {\"color\": \"#000000\"}, \"y\": 28, \"align\": \"left\"}, {\"x\": 1.55, \"xref\": \"x1\", \"yref\": \"y1\", \"text\": \"7060.0\", \"showarrow\": false, \"xanchor\": \"left\", \"font\": {\"color\": \"#000000\"}, \"y\": 28, \"align\": \"left\"}, {\"x\": -0.45, \"xref\": \"x1\", \"yref\": \"y1\", \"text\": \"Web Literacy\", \"showarrow\": false, \"xanchor\": \"left\", \"font\": {\"color\": \"#000000\"}, \"y\": 29, \"align\": \"left\"}, {\"x\": 0.55, \"xref\": \"x1\", \"yref\": \"y1\", \"text\": \"Mozilla Staff\", \"showarrow\": false, \"xanchor\": \"left\", \"font\": {\"color\": \"#000000\"}, \"y\": 29, \"align\": \"left\"}, {\"x\": 1.55, \"xref\": \"x1\", \"yref\": \"y1\", \"text\": \"6531.0\", \"showarrow\": false, \"xanchor\": \"left\", \"font\": {\"color\": \"#000000\"}, \"y\": 29, \"align\": \"left\"}, {\"x\": -0.45, \"xref\": \"x1\", \"yref\": \"y1\", \"text\": \"WebVR\", \"showarrow\": false, \"xanchor\": \"left\", \"font\": {\"color\": \"#000000\"}, \"y\": 30, \"align\": \"left\"}, {\"x\": 0.55, \"xref\": \"x1\", \"yref\": \"y1\", \"text\": \"Mozilla Staff\", \"showarrow\": false, \"xanchor\": \"left\", \"font\": {\"color\": \"#000000\"}, \"y\": 30, \"align\": \"left\"}, {\"x\": 1.55, \"xref\": \"x1\", \"yref\": \"y1\", \"text\": \"5822.0\", \"showarrow\": false, \"xanchor\": \"left\", \"font\": {\"color\": \"#000000\"}, \"y\": 30, \"align\": \"left\"}, {\"x\": -0.45, \"xref\": \"x1\", \"yref\": \"y1\", \"text\": \"WebVR\", \"showarrow\": false, \"xanchor\": \"left\", \"font\": {\"color\": \"#000000\"}, \"y\": 31, \"align\": \"left\"}, {\"x\": 0.55, \"xref\": \"x1\", \"yref\": \"y1\", \"text\": \"Community\", \"showarrow\": false, \"xanchor\": \"left\", \"font\": {\"color\": \"#000000\"}, \"y\": 31, \"align\": \"left\"}, {\"x\": 1.55, \"xref\": \"x1\", \"yref\": \"y1\", \"text\": \"1175.0\", \"showarrow\": false, \"xanchor\": \"left\", \"font\": {\"color\": \"#000000\"}, \"y\": 31, \"align\": \"left\"}, {\"x\": -0.45, \"xref\": \"x1\", \"yref\": \"y1\", \"text\": \"Firefox OS (FxOS / B2G)\", \"showarrow\": false, \"xanchor\": \"left\", \"font\": {\"color\": \"#000000\"}, \"y\": 32, \"align\": \"left\"}, {\"x\": 0.55, \"xref\": \"x1\", \"yref\": \"y1\", \"text\": \"Mozilla Staff\", \"showarrow\": false, \"xanchor\": \"left\", \"font\": {\"color\": \"#000000\"}, \"y\": 32, \"align\": \"left\"}, {\"x\": 1.55, \"xref\": \"x1\", \"yref\": \"y1\", \"text\": \"5781.0\", \"showarrow\": false, \"xanchor\": \"left\", \"font\": {\"color\": \"#000000\"}, \"y\": 32, \"align\": \"left\"}, {\"x\": -0.45, \"xref\": \"x1\", \"yref\": \"y1\", \"text\": \"Firefox OS (FxOS / B2G)\", \"showarrow\": false, \"xanchor\": \"left\", \"font\": {\"color\": \"#000000\"}, \"y\": 33, \"align\": \"left\"}, {\"x\": 0.55, \"xref\": \"x1\", \"yref\": \"y1\", \"text\": \"Community\", \"showarrow\": false, \"xanchor\": \"left\", \"font\": {\"color\": \"#000000\"}, \"y\": 33, \"align\": \"left\"}, {\"x\": 1.55, \"xref\": \"x1\", \"yref\": \"y1\", \"text\": \"736.0\", \"showarrow\": false, \"xanchor\": \"left\", \"font\": {\"color\": \"#000000\"}, \"y\": 33, \"align\": \"left\"}, {\"x\": -0.45, \"xref\": \"x1\", \"yref\": \"y1\", \"text\": \"Firefox iOS\", \"showarrow\": false, \"xanchor\": \"left\", \"font\": {\"color\": \"#000000\"}, \"y\": 34, \"align\": \"left\"}, {\"x\": 0.55, \"xref\": \"x1\", \"yref\": \"y1\", \"text\": \"Mozilla Staff\", \"showarrow\": false, \"xanchor\": \"left\", \"font\": {\"color\": \"#000000\"}, \"y\": 34, \"align\": \"left\"}, {\"x\": 1.55, \"xref\": \"x1\", \"yref\": \"y1\", \"text\": \"5935.0\", \"showarrow\": false, \"xanchor\": \"left\", \"font\": {\"color\": \"#000000\"}, \"y\": 34, \"align\": \"left\"}, {\"x\": -0.45, \"xref\": \"x1\", \"yref\": \"y1\", \"text\": \"Firefox iOS\", \"showarrow\": false, \"xanchor\": \"left\", \"font\": {\"color\": \"#000000\"}, \"y\": 35, \"align\": \"left\"}, {\"x\": 0.55, \"xref\": \"x1\", \"yref\": \"y1\", \"text\": \"Community\", \"showarrow\": false, \"xanchor\": \"left\", \"font\": {\"color\": \"#000000\"}, \"y\": 35, \"align\": \"left\"}, {\"x\": 1.55, \"xref\": \"x1\", \"yref\": \"y1\", \"text\": \"444.0\", \"showarrow\": false, \"xanchor\": \"left\", \"font\": {\"color\": \"#000000\"}, \"y\": 35, \"align\": \"left\"}, {\"x\": -0.45, \"xref\": \"x1\", \"yref\": \"y1\", \"text\": \"Quality Assurance\", \"showarrow\": false, \"xanchor\": \"left\", \"font\": {\"color\": \"#000000\"}, \"y\": 36, \"align\": \"left\"}, {\"x\": 0.55, \"xref\": \"x1\", \"yref\": \"y1\", \"text\": \"Mozilla Staff\", \"showarrow\": false, \"xanchor\": \"left\", \"font\": {\"color\": \"#000000\"}, \"y\": 36, \"align\": \"left\"}, {\"x\": 1.55, \"xref\": \"x1\", \"yref\": \"y1\", \"text\": \"3811.0\", \"showarrow\": false, \"xanchor\": \"left\", \"font\": {\"color\": \"#000000\"}, \"y\": 36, \"align\": \"left\"}, {\"x\": -0.45, \"xref\": \"x1\", \"yref\": \"y1\", \"text\": \"Quality Assurance\", \"showarrow\": false, \"xanchor\": \"left\", \"font\": {\"color\": \"#000000\"}, \"y\": 37, \"align\": \"left\"}, {\"x\": 0.55, \"xref\": \"x1\", \"yref\": \"y1\", \"text\": \"Community\", \"showarrow\": false, \"xanchor\": \"left\", \"font\": {\"color\": \"#000000\"}, \"y\": 37, \"align\": \"left\"}, {\"x\": 1.55, \"xref\": \"x1\", \"yref\": \"y1\", \"text\": \"1072.0\", \"showarrow\": false, \"xanchor\": \"left\", \"font\": {\"color\": \"#000000\"}, \"y\": 37, \"align\": \"left\"}, {\"x\": -0.45, \"xref\": \"x1\", \"yref\": \"y1\", \"text\": \"Mozilla Developer Network (MDN)\", \"showarrow\": false, \"xanchor\": \"left\", \"font\": {\"color\": \"#000000\"}, \"y\": 38, \"align\": \"left\"}, {\"x\": 0.55, \"xref\": \"x1\", \"yref\": \"y1\", \"text\": \"Mozilla Staff\", \"showarrow\": false, \"xanchor\": \"left\", \"font\": {\"color\": \"#000000\"}, \"y\": 38, \"align\": \"left\"}, {\"x\": 1.55, \"xref\": \"x1\", \"yref\": \"y1\", \"text\": \"3181.0\", \"showarrow\": false, \"xanchor\": \"left\", \"font\": {\"color\": \"#000000\"}, \"y\": 38, \"align\": \"left\"}, {\"x\": -0.45, \"xref\": \"x1\", \"yref\": \"y1\", \"text\": \"Mozilla Developer Network (MDN)\", \"showarrow\": false, \"xanchor\": \"left\", \"font\": {\"color\": \"#000000\"}, \"y\": 39, \"align\": \"left\"}, {\"x\": 0.55, \"xref\": \"x1\", \"yref\": \"y1\", \"text\": \"Community\", \"showarrow\": false, \"xanchor\": \"left\", \"font\": {\"color\": \"#000000\"}, \"y\": 39, \"align\": \"left\"}, {\"x\": 1.55, \"xref\": \"x1\", \"yref\": \"y1\", \"text\": \"497.0\", \"showarrow\": false, \"xanchor\": \"left\", \"font\": {\"color\": \"#000000\"}, \"y\": 39, \"align\": \"left\"}, {\"x\": -0.45, \"xref\": \"x1\", \"yref\": \"y1\", \"text\": \"Mozilla Science\", \"showarrow\": false, \"xanchor\": \"left\", \"font\": {\"color\": \"#000000\"}, \"y\": 40, \"align\": \"left\"}, {\"x\": 0.55, \"xref\": \"x1\", \"yref\": \"y1\", \"text\": \"Community\", \"showarrow\": false, \"xanchor\": \"left\", \"font\": {\"color\": \"#000000\"}, \"y\": 40, \"align\": \"left\"}, {\"x\": 1.55, \"xref\": \"x1\", \"yref\": \"y1\", \"text\": \"2603.0\", \"showarrow\": false, \"xanchor\": \"left\", \"font\": {\"color\": \"#000000\"}, \"y\": 40, \"align\": \"left\"}, {\"x\": -0.45, \"xref\": \"x1\", \"yref\": \"y1\", \"text\": \"Mozilla Science\", \"showarrow\": false, \"xanchor\": \"left\", \"font\": {\"color\": \"#000000\"}, \"y\": 41, \"align\": \"left\"}, {\"x\": 0.55, \"xref\": \"x1\", \"yref\": \"y1\", \"text\": \"Mozilla Staff\", \"showarrow\": false, \"xanchor\": \"left\", \"font\": {\"color\": \"#000000\"}, \"y\": 41, \"align\": \"left\"}, {\"x\": 1.55, \"xref\": \"x1\", \"yref\": \"y1\", \"text\": \"954.0\", \"showarrow\": false, \"xanchor\": \"left\", \"font\": {\"color\": \"#000000\"}, \"y\": 41, \"align\": \"left\"}, {\"x\": -0.45, \"xref\": \"x1\", \"yref\": \"y1\", \"text\": \"Test Pilot\", \"showarrow\": false, \"xanchor\": \"left\", \"font\": {\"color\": \"#000000\"}, \"y\": 42, \"align\": \"left\"}, {\"x\": 0.55, \"xref\": \"x1\", \"yref\": \"y1\", \"text\": \"Mozilla Staff\", \"showarrow\": false, \"xanchor\": \"left\", \"font\": {\"color\": \"#000000\"}, \"y\": 42, \"align\": \"left\"}, {\"x\": 1.55, \"xref\": \"x1\", \"yref\": \"y1\", \"text\": \"1873.0\", \"showarrow\": false, \"xanchor\": \"left\", \"font\": {\"color\": \"#000000\"}, \"y\": 42, \"align\": \"left\"}, {\"x\": -0.45, \"xref\": \"x1\", \"yref\": \"y1\", \"text\": \"Test Pilot\", \"showarrow\": false, \"xanchor\": \"left\", \"font\": {\"color\": \"#000000\"}, \"y\": 43, \"align\": \"left\"}, {\"x\": 0.55, \"xref\": \"x1\", \"yref\": \"y1\", \"text\": \"Community\", \"showarrow\": false, \"xanchor\": \"left\", \"font\": {\"color\": \"#000000\"}, \"y\": 43, \"align\": \"left\"}, {\"x\": 1.55, \"xref\": \"x1\", \"yref\": \"y1\", \"text\": \"1186.0\", \"showarrow\": false, \"xanchor\": \"left\", \"font\": {\"color\": \"#000000\"}, \"y\": 43, \"align\": \"left\"}, {\"x\": -0.45, \"xref\": \"x1\", \"yref\": \"y1\", \"text\": \"Test Pilot\", \"showarrow\": false, \"xanchor\": \"left\", \"font\": {\"color\": \"#000000\"}, \"y\": 44, \"align\": \"left\"}, {\"x\": 0.55, \"xref\": \"x1\", \"yref\": \"y1\", \"text\": \"Code Sheriff\", \"showarrow\": false, \"xanchor\": \"left\", \"font\": {\"color\": \"#000000\"}, \"y\": 44, \"align\": \"left\"}, {\"x\": 1.55, \"xref\": \"x1\", \"yref\": \"y1\", \"text\": \"2.0\", \"showarrow\": false, \"xanchor\": \"left\", \"font\": {\"color\": \"#000000\"}, \"y\": 44, \"align\": \"left\"}, {\"x\": -0.45, \"xref\": \"x1\", \"yref\": \"y1\", \"text\": \"Marketing / Social Media\", \"showarrow\": false, \"xanchor\": \"left\", \"font\": {\"color\": \"#000000\"}, \"y\": 45, \"align\": \"left\"}, {\"x\": 0.55, \"xref\": \"x1\", \"yref\": \"y1\", \"text\": \"Mozilla Staff\", \"showarrow\": false, \"xanchor\": \"left\", \"font\": {\"color\": \"#000000\"}, \"y\": 45, \"align\": \"left\"}, {\"x\": 1.55, \"xref\": \"x1\", \"yref\": \"y1\", \"text\": \"2109.0\", \"showarrow\": false, \"xanchor\": \"left\", \"font\": {\"color\": \"#000000\"}, \"y\": 45, \"align\": \"left\"}, {\"x\": -0.45, \"xref\": \"x1\", \"yref\": \"y1\", \"text\": \"Marketing / Social Media\", \"showarrow\": false, \"xanchor\": \"left\", \"font\": {\"color\": \"#000000\"}, \"y\": 46, \"align\": \"left\"}, {\"x\": 0.55, \"xref\": \"x1\", \"yref\": \"y1\", \"text\": \"Community\", \"showarrow\": false, \"xanchor\": \"left\", \"font\": {\"color\": \"#000000\"}, \"y\": 46, \"align\": \"left\"}, {\"x\": 1.55, \"xref\": \"x1\", \"yref\": \"y1\", \"text\": \"54.0\", \"showarrow\": false, \"xanchor\": \"left\", \"font\": {\"color\": \"#000000\"}, \"y\": 46, \"align\": \"left\"}, {\"x\": -0.45, \"xref\": \"x1\", \"yref\": \"y1\", \"text\": \"Marketing / Social Media\", \"showarrow\": false, \"xanchor\": \"left\", \"font\": {\"color\": \"#000000\"}, \"y\": 47, \"align\": \"left\"}, {\"x\": 0.55, \"xref\": \"x1\", \"yref\": \"y1\", \"text\": \"Code Sheriff\", \"showarrow\": false, \"xanchor\": \"left\", \"font\": {\"color\": \"#000000\"}, \"y\": 47, \"align\": \"left\"}, {\"x\": 1.55, \"xref\": \"x1\", \"yref\": \"y1\", \"text\": \"14.0\", \"showarrow\": false, \"xanchor\": \"left\", \"font\": {\"color\": \"#000000\"}, \"y\": 47, \"align\": \"left\"}, {\"x\": -0.45, \"xref\": \"x1\", \"yref\": \"y1\", \"text\": \"Localization\", \"showarrow\": false, \"xanchor\": \"left\", \"font\": {\"color\": \"#000000\"}, \"y\": 48, \"align\": \"left\"}, {\"x\": 0.55, \"xref\": \"x1\", \"yref\": \"y1\", \"text\": \"Mozilla Staff\", \"showarrow\": false, \"xanchor\": \"left\", \"font\": {\"color\": \"#000000\"}, \"y\": 48, \"align\": \"left\"}, {\"x\": 1.55, \"xref\": \"x1\", \"yref\": \"y1\", \"text\": \"1073.0\", \"showarrow\": false, \"xanchor\": \"left\", \"font\": {\"color\": \"#000000\"}, \"y\": 48, \"align\": \"left\"}, {\"x\": -0.45, \"xref\": \"x1\", \"yref\": \"y1\", \"text\": \"Localization\", \"showarrow\": false, \"xanchor\": \"left\", \"font\": {\"color\": \"#000000\"}, \"y\": 49, \"align\": \"left\"}, {\"x\": 0.55, \"xref\": \"x1\", \"yref\": \"y1\", \"text\": \"Community\", \"showarrow\": false, \"xanchor\": \"left\", \"font\": {\"color\": \"#000000\"}, \"y\": 49, \"align\": \"left\"}, {\"x\": 1.55, \"xref\": \"x1\", \"yref\": \"y1\", \"text\": \"940.0\", \"showarrow\": false, \"xanchor\": \"left\", \"font\": {\"color\": \"#000000\"}, \"y\": 49, \"align\": \"left\"}, {\"x\": -0.45, \"xref\": \"x1\", \"yref\": \"y1\", \"text\": \"Mozilla Location Service (MLS) / Stumbler\", \"showarrow\": false, \"xanchor\": \"left\", \"font\": {\"color\": \"#000000\"}, \"y\": 50, \"align\": \"left\"}, {\"x\": 0.55, \"xref\": \"x1\", \"yref\": \"y1\", \"text\": \"Mozilla Staff\", \"showarrow\": false, \"xanchor\": \"left\", \"font\": {\"color\": \"#000000\"}, \"y\": 50, \"align\": \"left\"}, {\"x\": 1.55, \"xref\": \"x1\", \"yref\": \"y1\", \"text\": \"1375.0\", \"showarrow\": false, \"xanchor\": \"left\", \"font\": {\"color\": \"#000000\"}, \"y\": 50, \"align\": \"left\"}, {\"x\": -0.45, \"xref\": \"x1\", \"yref\": \"y1\", \"text\": \"Mozilla Location Service (MLS) / Stumbler\", \"showarrow\": false, \"xanchor\": \"left\", \"font\": {\"color\": \"#000000\"}, \"y\": 51, \"align\": \"left\"}, {\"x\": 0.55, \"xref\": \"x1\", \"yref\": \"y1\", \"text\": \"Community\", \"showarrow\": false, \"xanchor\": \"left\", \"font\": {\"color\": \"#000000\"}, \"y\": 51, \"align\": \"left\"}, {\"x\": 1.55, \"xref\": \"x1\", \"yref\": \"y1\", \"text\": \"591.0\", \"showarrow\": false, \"xanchor\": \"left\", \"font\": {\"color\": \"#000000\"}, \"y\": 51, \"align\": \"left\"}, {\"x\": -0.45, \"xref\": \"x1\", \"yref\": \"y1\", \"text\": \"Mozilla Location Service (MLS) / Stumbler\", \"showarrow\": false, \"xanchor\": \"left\", \"font\": {\"color\": \"#000000\"}, \"y\": 52, \"align\": \"left\"}, {\"x\": 0.55, \"xref\": \"x1\", \"yref\": \"y1\", \"text\": \"Code Sheriff\", \"showarrow\": false, \"xanchor\": \"left\", \"font\": {\"color\": \"#000000\"}, \"y\": 52, \"align\": \"left\"}, {\"x\": 1.55, \"xref\": \"x1\", \"yref\": \"y1\", \"text\": \"1.0\", \"showarrow\": false, \"xanchor\": \"left\", \"font\": {\"color\": \"#000000\"}, \"y\": 52, \"align\": \"left\"}, {\"x\": -0.45, \"xref\": \"x1\", \"yref\": \"y1\", \"text\": \"Firefox\", \"showarrow\": false, \"xanchor\": \"left\", \"font\": {\"color\": \"#000000\"}, \"y\": 53, \"align\": \"left\"}, {\"x\": 0.55, \"xref\": \"x1\", \"yref\": \"y1\", \"text\": \"Mozilla Staff\", \"showarrow\": false, \"xanchor\": \"left\", \"font\": {\"color\": \"#000000\"}, \"y\": 53, \"align\": \"left\"}, {\"x\": 1.55, \"xref\": \"x1\", \"yref\": \"y1\", \"text\": \"1072.0\", \"showarrow\": false, \"xanchor\": \"left\", \"font\": {\"color\": \"#000000\"}, \"y\": 53, \"align\": \"left\"}, {\"x\": -0.45, \"xref\": \"x1\", \"yref\": \"y1\", \"text\": \"Firefox\", \"showarrow\": false, \"xanchor\": \"left\", \"font\": {\"color\": \"#000000\"}, \"y\": 54, \"align\": \"left\"}, {\"x\": 0.55, \"xref\": \"x1\", \"yref\": \"y1\", \"text\": \"Community\", \"showarrow\": false, \"xanchor\": \"left\", \"font\": {\"color\": \"#000000\"}, \"y\": 54, \"align\": \"left\"}, {\"x\": 1.55, \"xref\": \"x1\", \"yref\": \"y1\", \"text\": \"461.0\", \"showarrow\": false, \"xanchor\": \"left\", \"font\": {\"color\": \"#000000\"}, \"y\": 54, \"align\": \"left\"}, {\"x\": -0.45, \"xref\": \"x1\", \"yref\": \"y1\", \"text\": \"Advocacy and policy\", \"showarrow\": false, \"xanchor\": \"left\", \"font\": {\"color\": \"#000000\"}, \"y\": 55, \"align\": \"left\"}, {\"x\": 0.55, \"xref\": \"x1\", \"yref\": \"y1\", \"text\": \"Mozilla Staff\", \"showarrow\": false, \"xanchor\": \"left\", \"font\": {\"color\": \"#000000\"}, \"y\": 55, \"align\": \"left\"}, {\"x\": 1.55, \"xref\": \"x1\", \"yref\": \"y1\", \"text\": \"1030.0\", \"showarrow\": false, \"xanchor\": \"left\", \"font\": {\"color\": \"#000000\"}, \"y\": 55, \"align\": \"left\"}, {\"x\": -0.45, \"xref\": \"x1\", \"yref\": \"y1\", \"text\": \"Advocacy and policy\", \"showarrow\": false, \"xanchor\": \"left\", \"font\": {\"color\": \"#000000\"}, \"y\": 56, \"align\": \"left\"}, {\"x\": 0.55, \"xref\": \"x1\", \"yref\": \"y1\", \"text\": \"Community\", \"showarrow\": false, \"xanchor\": \"left\", \"font\": {\"color\": \"#000000\"}, \"y\": 56, \"align\": \"left\"}, {\"x\": 1.55, \"xref\": \"x1\", \"yref\": \"y1\", \"text\": \"441.0\", \"showarrow\": false, \"xanchor\": \"left\", \"font\": {\"color\": \"#000000\"}, \"y\": 56, \"align\": \"left\"}, {\"x\": -0.45, \"xref\": \"x1\", \"yref\": \"y1\", \"text\": \"Advocacy and policy\", \"showarrow\": false, \"xanchor\": \"left\", \"font\": {\"color\": \"#000000\"}, \"y\": 57, \"align\": \"left\"}, {\"x\": 0.55, \"xref\": \"x1\", \"yref\": \"y1\", \"text\": \"Code Sheriff\", \"showarrow\": false, \"xanchor\": \"left\", \"font\": {\"color\": \"#000000\"}, \"y\": 57, \"align\": \"left\"}, {\"x\": 1.55, \"xref\": \"x1\", \"yref\": \"y1\", \"text\": \"3.0\", \"showarrow\": false, \"xanchor\": \"left\", \"font\": {\"color\": \"#000000\"}, \"y\": 57, \"align\": \"left\"}, {\"x\": -0.45, \"xref\": \"x1\", \"yref\": \"y1\", \"text\": \"Mozilla Foundation\", \"showarrow\": false, \"xanchor\": \"left\", \"font\": {\"color\": \"#000000\"}, \"y\": 58, \"align\": \"left\"}, {\"x\": 0.55, \"xref\": \"x1\", \"yref\": \"y1\", \"text\": \"Mozilla Staff\", \"showarrow\": false, \"xanchor\": \"left\", \"font\": {\"color\": \"#000000\"}, \"y\": 58, \"align\": \"left\"}, {\"x\": 1.55, \"xref\": \"x1\", \"yref\": \"y1\", \"text\": \"801.0\", \"showarrow\": false, \"xanchor\": \"left\", \"font\": {\"color\": \"#000000\"}, \"y\": 58, \"align\": \"left\"}, {\"x\": -0.45, \"xref\": \"x1\", \"yref\": \"y1\", \"text\": \"Mozilla Foundation\", \"showarrow\": false, \"xanchor\": \"left\", \"font\": {\"color\": \"#000000\"}, \"y\": 59, \"align\": \"left\"}, {\"x\": 0.55, \"xref\": \"x1\", \"yref\": \"y1\", \"text\": \"Community\", \"showarrow\": false, \"xanchor\": \"left\", \"font\": {\"color\": \"#000000\"}, \"y\": 59, \"align\": \"left\"}, {\"x\": 1.55, \"xref\": \"x1\", \"yref\": \"y1\", \"text\": \"581.0\", \"showarrow\": false, \"xanchor\": \"left\", \"font\": {\"color\": \"#000000\"}, \"y\": 59, \"align\": \"left\"}, {\"x\": -0.45, \"xref\": \"x1\", \"yref\": \"y1\", \"text\": \"Firefox Focus\", \"showarrow\": false, \"xanchor\": \"left\", \"font\": {\"color\": \"#000000\"}, \"y\": 60, \"align\": \"left\"}, {\"x\": 0.55, \"xref\": \"x1\", \"yref\": \"y1\", \"text\": \"Mozilla Staff\", \"showarrow\": false, \"xanchor\": \"left\", \"font\": {\"color\": \"#000000\"}, \"y\": 60, \"align\": \"left\"}, {\"x\": 1.55, \"xref\": \"x1\", \"yref\": \"y1\", \"text\": \"1254.0\", \"showarrow\": false, \"xanchor\": \"left\", \"font\": {\"color\": \"#000000\"}, \"y\": 60, \"align\": \"left\"}, {\"x\": -0.45, \"xref\": \"x1\", \"yref\": \"y1\", \"text\": \"Firefox Focus\", \"showarrow\": false, \"xanchor\": \"left\", \"font\": {\"color\": \"#000000\"}, \"y\": 61, \"align\": \"left\"}, {\"x\": 0.55, \"xref\": \"x1\", \"yref\": \"y1\", \"text\": \"Community\", \"showarrow\": false, \"xanchor\": \"left\", \"font\": {\"color\": \"#000000\"}, \"y\": 61, \"align\": \"left\"}, {\"x\": 1.55, \"xref\": \"x1\", \"yref\": \"y1\", \"text\": \"8.0\", \"showarrow\": false, \"xanchor\": \"left\", \"font\": {\"color\": \"#000000\"}, \"y\": 61, \"align\": \"left\"}, {\"x\": -0.45, \"xref\": \"x1\", \"yref\": \"y1\", \"text\": \"Technical/Developer Evangelism\", \"showarrow\": false, \"xanchor\": \"left\", \"font\": {\"color\": \"#000000\"}, \"y\": 62, \"align\": \"left\"}, {\"x\": 0.55, \"xref\": \"x1\", \"yref\": \"y1\", \"text\": \"Mozilla Staff\", \"showarrow\": false, \"xanchor\": \"left\", \"font\": {\"color\": \"#000000\"}, \"y\": 62, \"align\": \"left\"}, {\"x\": 1.55, \"xref\": \"x1\", \"yref\": \"y1\", \"text\": \"813.0\", \"showarrow\": false, \"xanchor\": \"left\", \"font\": {\"color\": \"#000000\"}, \"y\": 62, \"align\": \"left\"}, {\"x\": -0.45, \"xref\": \"x1\", \"yref\": \"y1\", \"text\": \"Technical/Developer Evangelism\", \"showarrow\": false, \"xanchor\": \"left\", \"font\": {\"color\": \"#000000\"}, \"y\": 63, \"align\": \"left\"}, {\"x\": 0.55, \"xref\": \"x1\", \"yref\": \"y1\", \"text\": \"Community\", \"showarrow\": false, \"xanchor\": \"left\", \"font\": {\"color\": \"#000000\"}, \"y\": 63, \"align\": \"left\"}, {\"x\": 1.55, \"xref\": \"x1\", \"yref\": \"y1\", \"text\": \"43.0\", \"showarrow\": false, \"xanchor\": \"left\", \"font\": {\"color\": \"#000000\"}, \"y\": 63, \"align\": \"left\"}, {\"x\": -0.45, \"xref\": \"x1\", \"yref\": \"y1\", \"text\": \"Not tracked\", \"showarrow\": false, \"xanchor\": \"left\", \"font\": {\"color\": \"#000000\"}, \"y\": 64, \"align\": \"left\"}, {\"x\": 0.55, \"xref\": \"x1\", \"yref\": \"y1\", \"text\": \"Mozilla Staff\", \"showarrow\": false, \"xanchor\": \"left\", \"font\": {\"color\": \"#000000\"}, \"y\": 64, \"align\": \"left\"}, {\"x\": 1.55, \"xref\": \"x1\", \"yref\": \"y1\", \"text\": \"621.0\", \"showarrow\": false, \"xanchor\": \"left\", \"font\": {\"color\": \"#000000\"}, \"y\": 64, \"align\": \"left\"}, {\"x\": -0.45, \"xref\": \"x1\", \"yref\": \"y1\", \"text\": \"Not tracked\", \"showarrow\": false, \"xanchor\": \"left\", \"font\": {\"color\": \"#000000\"}, \"y\": 65, \"align\": \"left\"}, {\"x\": 0.55, \"xref\": \"x1\", \"yref\": \"y1\", \"text\": \"Community\", \"showarrow\": false, \"xanchor\": \"left\", \"font\": {\"color\": \"#000000\"}, \"y\": 65, \"align\": \"left\"}, {\"x\": 1.55, \"xref\": \"x1\", \"yref\": \"y1\", \"text\": \"186.0\", \"showarrow\": false, \"xanchor\": \"left\", \"font\": {\"color\": \"#000000\"}, \"y\": 65, \"align\": \"left\"}, {\"x\": -0.45, \"xref\": \"x1\", \"yref\": \"y1\", \"text\": \"Vaani\", \"showarrow\": false, \"xanchor\": \"left\", \"font\": {\"color\": \"#000000\"}, \"y\": 66, \"align\": \"left\"}, {\"x\": 0.55, \"xref\": \"x1\", \"yref\": \"y1\", \"text\": \"Mozilla Staff\", \"showarrow\": false, \"xanchor\": \"left\", \"font\": {\"color\": \"#000000\"}, \"y\": 66, \"align\": \"left\"}, {\"x\": 1.55, \"xref\": \"x1\", \"yref\": \"y1\", \"text\": \"470.0\", \"showarrow\": false, \"xanchor\": \"left\", \"font\": {\"color\": \"#000000\"}, \"y\": 66, \"align\": \"left\"}, {\"x\": -0.45, \"xref\": \"x1\", \"yref\": \"y1\", \"text\": \"Vaani\", \"showarrow\": false, \"xanchor\": \"left\", \"font\": {\"color\": \"#000000\"}, \"y\": 67, \"align\": \"left\"}, {\"x\": 0.55, \"xref\": \"x1\", \"yref\": \"y1\", \"text\": \"Community\", \"showarrow\": false, \"xanchor\": \"left\", \"font\": {\"color\": \"#000000\"}, \"y\": 67, \"align\": \"left\"}, {\"x\": 1.55, \"xref\": \"x1\", \"yref\": \"y1\", \"text\": \"2.0\", \"showarrow\": false, \"xanchor\": \"left\", \"font\": {\"color\": \"#000000\"}, \"y\": 67, \"align\": \"left\"}, {\"x\": -0.45, \"xref\": \"x1\", \"yref\": \"y1\", \"text\": \"Developer Tools\", \"showarrow\": false, \"xanchor\": \"left\", \"font\": {\"color\": \"#000000\"}, \"y\": 68, \"align\": \"left\"}, {\"x\": 0.55, \"xref\": \"x1\", \"yref\": \"y1\", \"text\": \"Mozilla Staff\", \"showarrow\": false, \"xanchor\": \"left\", \"font\": {\"color\": \"#000000\"}, \"y\": 68, \"align\": \"left\"}, {\"x\": 1.55, \"xref\": \"x1\", \"yref\": \"y1\", \"text\": \"293.0\", \"showarrow\": false, \"xanchor\": \"left\", \"font\": {\"color\": \"#000000\"}, \"y\": 68, \"align\": \"left\"}, {\"x\": -0.45, \"xref\": \"x1\", \"yref\": \"y1\", \"text\": \"Developer Tools\", \"showarrow\": false, \"xanchor\": \"left\", \"font\": {\"color\": \"#000000\"}, \"y\": 69, \"align\": \"left\"}, {\"x\": 0.55, \"xref\": \"x1\", \"yref\": \"y1\", \"text\": \"Community\", \"showarrow\": false, \"xanchor\": \"left\", \"font\": {\"color\": \"#000000\"}, \"y\": 69, \"align\": \"left\"}, {\"x\": 1.55, \"xref\": \"x1\", \"yref\": \"y1\", \"text\": \"34.0\", \"showarrow\": false, \"xanchor\": \"left\", \"font\": {\"color\": \"#000000\"}, \"y\": 69, \"align\": \"left\"}, {\"x\": -0.45, \"xref\": \"x1\", \"yref\": \"y1\", \"text\": \"Deep Speech\", \"showarrow\": false, \"xanchor\": \"left\", \"font\": {\"color\": \"#000000\"}, \"y\": 70, \"align\": \"left\"}, {\"x\": 0.55, \"xref\": \"x1\", \"yref\": \"y1\", \"text\": \"Mozilla Staff\", \"showarrow\": false, \"xanchor\": \"left\", \"font\": {\"color\": \"#000000\"}, \"y\": 70, \"align\": \"left\"}, {\"x\": 1.55, \"xref\": \"x1\", \"yref\": \"y1\", \"text\": \"305.0\", \"showarrow\": false, \"xanchor\": \"left\", \"font\": {\"color\": \"#000000\"}, \"y\": 70, \"align\": \"left\"}, {\"x\": -0.45, \"xref\": \"x1\", \"yref\": \"y1\", \"text\": \"Deep Speech\", \"showarrow\": false, \"xanchor\": \"left\", \"font\": {\"color\": \"#000000\"}, \"y\": 71, \"align\": \"left\"}, {\"x\": 0.55, \"xref\": \"x1\", \"yref\": \"y1\", \"text\": \"Community\", \"showarrow\": false, \"xanchor\": \"left\", \"font\": {\"color\": \"#000000\"}, \"y\": 71, \"align\": \"left\"}, {\"x\": 1.55, \"xref\": \"x1\", \"yref\": \"y1\", \"text\": \"20.0\", \"showarrow\": false, \"xanchor\": \"left\", \"font\": {\"color\": \"#000000\"}, \"y\": 71, \"align\": \"left\"}, {\"x\": -0.45, \"xref\": \"x1\", \"yref\": \"y1\", \"text\": \"Connected devices & IoT\", \"showarrow\": false, \"xanchor\": \"left\", \"font\": {\"color\": \"#000000\"}, \"y\": 72, \"align\": \"left\"}, {\"x\": 0.55, \"xref\": \"x1\", \"yref\": \"y1\", \"text\": \"Community\", \"showarrow\": false, \"xanchor\": \"left\", \"font\": {\"color\": \"#000000\"}, \"y\": 72, \"align\": \"left\"}, {\"x\": 1.55, \"xref\": \"x1\", \"yref\": \"y1\", \"text\": \"222.0\", \"showarrow\": false, \"xanchor\": \"left\", \"font\": {\"color\": \"#000000\"}, \"y\": 72, \"align\": \"left\"}, {\"x\": -0.45, \"xref\": \"x1\", \"yref\": \"y1\", \"text\": \"Connected devices & IoT\", \"showarrow\": false, \"xanchor\": \"left\", \"font\": {\"color\": \"#000000\"}, \"y\": 73, \"align\": \"left\"}, {\"x\": 0.55, \"xref\": \"x1\", \"yref\": \"y1\", \"text\": \"Mozilla Staff\", \"showarrow\": false, \"xanchor\": \"left\", \"font\": {\"color\": \"#000000\"}, \"y\": 73, \"align\": \"left\"}, {\"x\": 1.55, \"xref\": \"x1\", \"yref\": \"y1\", \"text\": \"79.0\", \"showarrow\": false, \"xanchor\": \"left\", \"font\": {\"color\": \"#000000\"}, \"y\": 73, \"align\": \"left\"}, {\"x\": -0.45, \"xref\": \"x1\", \"yref\": \"y1\", \"text\": \"Mozilla Clubs\", \"showarrow\": false, \"xanchor\": \"left\", \"font\": {\"color\": \"#000000\"}, \"y\": 74, \"align\": \"left\"}, {\"x\": 0.55, \"xref\": \"x1\", \"yref\": \"y1\", \"text\": \"Mozilla Staff\", \"showarrow\": false, \"xanchor\": \"left\", \"font\": {\"color\": \"#000000\"}, \"y\": 74, \"align\": \"left\"}, {\"x\": 1.55, \"xref\": \"x1\", \"yref\": \"y1\", \"text\": \"198.0\", \"showarrow\": false, \"xanchor\": \"left\", \"font\": {\"color\": \"#000000\"}, \"y\": 74, \"align\": \"left\"}, {\"x\": -0.45, \"xref\": \"x1\", \"yref\": \"y1\", \"text\": \"Mozilla Clubs\", \"showarrow\": false, \"xanchor\": \"left\", \"font\": {\"color\": \"#000000\"}, \"y\": 75, \"align\": \"left\"}, {\"x\": 0.55, \"xref\": \"x1\", \"yref\": \"y1\", \"text\": \"Community\", \"showarrow\": false, \"xanchor\": \"left\", \"font\": {\"color\": \"#000000\"}, \"y\": 75, \"align\": \"left\"}, {\"x\": 1.55, \"xref\": \"x1\", \"yref\": \"y1\", \"text\": \"26.0\", \"showarrow\": false, \"xanchor\": \"left\", \"font\": {\"color\": \"#000000\"}, \"y\": 75, \"align\": \"left\"}, {\"x\": -0.45, \"xref\": \"x1\", \"yref\": \"y1\", \"text\": \"Mozilla Creative & Design\", \"showarrow\": false, \"xanchor\": \"left\", \"font\": {\"color\": \"#000000\"}, \"y\": 76, \"align\": \"left\"}, {\"x\": 0.55, \"xref\": \"x1\", \"yref\": \"y1\", \"text\": \"Community\", \"showarrow\": false, \"xanchor\": \"left\", \"font\": {\"color\": \"#000000\"}, \"y\": 76, \"align\": \"left\"}, {\"x\": 1.55, \"xref\": \"x1\", \"yref\": \"y1\", \"text\": \"106.0\", \"showarrow\": false, \"xanchor\": \"left\", \"font\": {\"color\": \"#000000\"}, \"y\": 76, \"align\": \"left\"}, {\"x\": -0.45, \"xref\": \"x1\", \"yref\": \"y1\", \"text\": \"Mozilla Creative & Design\", \"showarrow\": false, \"xanchor\": \"left\", \"font\": {\"color\": \"#000000\"}, \"y\": 77, \"align\": \"left\"}, {\"x\": 0.55, \"xref\": \"x1\", \"yref\": \"y1\", \"text\": \"Mozilla Staff\", \"showarrow\": false, \"xanchor\": \"left\", \"font\": {\"color\": \"#000000\"}, \"y\": 77, \"align\": \"left\"}, {\"x\": 1.55, \"xref\": \"x1\", \"yref\": \"y1\", \"text\": \"103.0\", \"showarrow\": false, \"xanchor\": \"left\", \"font\": {\"color\": \"#000000\"}, \"y\": 77, \"align\": \"left\"}, {\"x\": -0.45, \"xref\": \"x1\", \"yref\": \"y1\", \"text\": \"Campus Clubs (previously Student Ambassadors)\", \"showarrow\": false, \"xanchor\": \"left\", \"font\": {\"color\": \"#000000\"}, \"y\": 78, \"align\": \"left\"}, {\"x\": 0.55, \"xref\": \"x1\", \"yref\": \"y1\", \"text\": \"Mozilla Staff\", \"showarrow\": false, \"xanchor\": \"left\", \"font\": {\"color\": \"#000000\"}, \"y\": 78, \"align\": \"left\"}, {\"x\": 1.55, \"xref\": \"x1\", \"yref\": \"y1\", \"text\": \"163.0\", \"showarrow\": false, \"xanchor\": \"left\", \"font\": {\"color\": \"#000000\"}, \"y\": 78, \"align\": \"left\"}, {\"x\": -0.45, \"xref\": \"x1\", \"yref\": \"y1\", \"text\": \"Campus Clubs (previously Student Ambassadors)\", \"showarrow\": false, \"xanchor\": \"left\", \"font\": {\"color\": \"#000000\"}, \"y\": 79, \"align\": \"left\"}, {\"x\": 0.55, \"xref\": \"x1\", \"yref\": \"y1\", \"text\": \"Community\", \"showarrow\": false, \"xanchor\": \"left\", \"font\": {\"color\": \"#000000\"}, \"y\": 79, \"align\": \"left\"}, {\"x\": 1.55, \"xref\": \"x1\", \"yref\": \"y1\", \"text\": \"2.0\", \"showarrow\": false, \"xanchor\": \"left\", \"font\": {\"color\": \"#000000\"}, \"y\": 79, \"align\": \"left\"}, {\"x\": -0.45, \"xref\": \"x1\", \"yref\": \"y1\", \"text\": \"Firefox Android\", \"showarrow\": false, \"xanchor\": \"left\", \"font\": {\"color\": \"#000000\"}, \"y\": 80, \"align\": \"left\"}, {\"x\": 0.55, \"xref\": \"x1\", \"yref\": \"y1\", \"text\": \"Mozilla Staff\", \"showarrow\": false, \"xanchor\": \"left\", \"font\": {\"color\": \"#000000\"}, \"y\": 80, \"align\": \"left\"}, {\"x\": 1.55, \"xref\": \"x1\", \"yref\": \"y1\", \"text\": \"53.0\", \"showarrow\": false, \"xanchor\": \"left\", \"font\": {\"color\": \"#000000\"}, \"y\": 80, \"align\": \"left\"}, {\"x\": -0.45, \"xref\": \"x1\", \"yref\": \"y1\", \"text\": \"Firefox Android\", \"showarrow\": false, \"xanchor\": \"left\", \"font\": {\"color\": \"#000000\"}, \"y\": 81, \"align\": \"left\"}, {\"x\": 0.55, \"xref\": \"x1\", \"yref\": \"y1\", \"text\": \"Community\", \"showarrow\": false, \"xanchor\": \"left\", \"font\": {\"color\": \"#000000\"}, \"y\": 81, \"align\": \"left\"}, {\"x\": 1.55, \"xref\": \"x1\", \"yref\": \"y1\", \"text\": \"1.0\", \"showarrow\": false, \"xanchor\": \"left\", \"font\": {\"color\": \"#000000\"}, \"y\": 81, \"align\": \"left\"}]}, {\"linkText\": \"Export to plot.ly\", \"showLink\": true})});</script>"
      ],
      "text/vnd.plotly.v1+html": [
       "<div id=\"e1408188-0469-42cc-8b8e-f55fa6e75e7b\" style=\"height: 2510px; width: 100%;\" class=\"plotly-graph-div\"></div><script type=\"text/javascript\">require([\"plotly\"], function(Plotly) { window.PLOTLYENV=window.PLOTLYENV || {};window.PLOTLYENV.BASE_URL=\"https://plot.ly\";Plotly.newPlot(\"e1408188-0469-42cc-8b8e-f55fa6e75e7b\", [{\"showscale\": false, \"hoverinfo\": \"none\", \"z\": [[0, 0, 0], [0.5, 0.5, 0.5], [1, 1, 1], [0.5, 0.5, 0.5], [1, 1, 1], [0.5, 0.5, 0.5], [1, 1, 1], [0.5, 0.5, 0.5], [1, 1, 1], [0.5, 0.5, 0.5], [1, 1, 1], [0.5, 0.5, 0.5], [1, 1, 1], [0.5, 0.5, 0.5], [1, 1, 1], [0.5, 0.5, 0.5], [1, 1, 1], [0.5, 0.5, 0.5], [1, 1, 1], [0.5, 0.5, 0.5], [1, 1, 1], [0.5, 0.5, 0.5], [1, 1, 1], [0.5, 0.5, 0.5], [1, 1, 1], [0.5, 0.5, 0.5], [1, 1, 1], [0.5, 0.5, 0.5], [1, 1, 1], [0.5, 0.5, 0.5], [1, 1, 1], [0.5, 0.5, 0.5], [1, 1, 1], [0.5, 0.5, 0.5], [1, 1, 1], [0.5, 0.5, 0.5], [1, 1, 1], [0.5, 0.5, 0.5], [1, 1, 1], [0.5, 0.5, 0.5], [1, 1, 1], [0.5, 0.5, 0.5], [1, 1, 1], [0.5, 0.5, 0.5], [1, 1, 1], [0.5, 0.5, 0.5], [1, 1, 1], [0.5, 0.5, 0.5], [1, 1, 1], [0.5, 0.5, 0.5], [1, 1, 1], [0.5, 0.5, 0.5], [1, 1, 1], [0.5, 0.5, 0.5], [1, 1, 1], [0.5, 0.5, 0.5], [1, 1, 1], [0.5, 0.5, 0.5], [1, 1, 1], [0.5, 0.5, 0.5], [1, 1, 1], [0.5, 0.5, 0.5], [1, 1, 1], [0.5, 0.5, 0.5], [1, 1, 1], [0.5, 0.5, 0.5], [1, 1, 1], [0.5, 0.5, 0.5], [1, 1, 1], [0.5, 0.5, 0.5], [1, 1, 1], [0.5, 0.5, 0.5], [1, 1, 1], [0.5, 0.5, 0.5], [1, 1, 1], [0.5, 0.5, 0.5], [1, 1, 1], [0.5, 0.5, 0.5], [1, 1, 1], [0.5, 0.5, 0.5], [1, 1, 1], [0.5, 0.5, 0.5]], \"opacity\": 0.75, \"type\": \"heatmap\", \"colorscale\": [[0, \"#00083e\"], [0.5, \"#ededee\"], [1, \"#ffffff\"]]}], {\"xaxis\": {\"ticks\": \"\", \"gridwidth\": 2, \"zeroline\": false, \"showticklabels\": false, \"dtick\": 1, \"tick0\": -0.5}, \"margin\": {\"r\": 0, \"b\": 0, \"l\": 0, \"t\": 0}, \"height\": 2510, \"yaxis\": {\"autorange\": \"reversed\", \"ticks\": \"\", \"gridwidth\": 2, \"zeroline\": false, \"showticklabels\": false, \"dtick\": 1, \"tick0\": 0.5}, \"annotations\": [{\"x\": -0.45, \"xref\": \"x1\", \"yref\": \"y1\", \"text\": \"<b>Project</b>\", \"showarrow\": false, \"xanchor\": \"left\", \"font\": {\"color\": \"#ffffff\"}, \"y\": 0, \"align\": \"left\"}, {\"x\": 0.55, \"xref\": \"x1\", \"yref\": \"y1\", \"text\": \"<b>Org</b>\", \"showarrow\": false, \"xanchor\": \"left\", \"font\": {\"color\": \"#ffffff\"}, \"y\": 0, \"align\": \"left\"}, {\"x\": 1.55, \"xref\": \"x1\", \"yref\": \"y1\", \"text\": \"<b># Commits</b>\", \"showarrow\": false, \"xanchor\": \"left\", \"font\": {\"color\": \"#ffffff\"}, \"y\": 0, \"align\": \"left\"}, {\"x\": -0.45, \"xref\": \"x1\", \"yref\": \"y1\", \"text\": \"Unknown\", \"showarrow\": false, \"xanchor\": \"left\", \"font\": {\"color\": \"#000000\"}, \"y\": 1, \"align\": \"left\"}, {\"x\": 0.55, \"xref\": \"x1\", \"yref\": \"y1\", \"text\": \"Mozilla Staff\", \"showarrow\": false, \"xanchor\": \"left\", \"font\": {\"color\": \"#000000\"}, \"y\": 1, \"align\": \"left\"}, {\"x\": 1.55, \"xref\": \"x1\", \"yref\": \"y1\", \"text\": \"730353.0\", \"showarrow\": false, \"xanchor\": \"left\", \"font\": {\"color\": \"#000000\"}, \"y\": 1, \"align\": \"left\"}, {\"x\": -0.45, \"xref\": \"x1\", \"yref\": \"y1\", \"text\": \"Unknown\", \"showarrow\": false, \"xanchor\": \"left\", \"font\": {\"color\": \"#000000\"}, \"y\": 2, \"align\": \"left\"}, {\"x\": 0.55, \"xref\": \"x1\", \"yref\": \"y1\", \"text\": \"Community\", \"showarrow\": false, \"xanchor\": \"left\", \"font\": {\"color\": \"#000000\"}, \"y\": 2, \"align\": \"left\"}, {\"x\": 1.55, \"xref\": \"x1\", \"yref\": \"y1\", \"text\": \"293915.0\", \"showarrow\": false, \"xanchor\": \"left\", \"font\": {\"color\": \"#000000\"}, \"y\": 2, \"align\": \"left\"}, {\"x\": -0.45, \"xref\": \"x1\", \"yref\": \"y1\", \"text\": \"Unknown\", \"showarrow\": false, \"xanchor\": \"left\", \"font\": {\"color\": \"#000000\"}, \"y\": 3, \"align\": \"left\"}, {\"x\": 0.55, \"xref\": \"x1\", \"yref\": \"y1\", \"text\": \"Code Sheriff\", \"showarrow\": false, \"xanchor\": \"left\", \"font\": {\"color\": \"#000000\"}, \"y\": 3, \"align\": \"left\"}, {\"x\": 1.55, \"xref\": \"x1\", \"yref\": \"y1\", \"text\": \"30157.0\", \"showarrow\": false, \"xanchor\": \"left\", \"font\": {\"color\": \"#000000\"}, \"y\": 3, \"align\": \"left\"}, {\"x\": -0.45, \"xref\": \"x1\", \"yref\": \"y1\", \"text\": \"Gecko\", \"showarrow\": false, \"xanchor\": \"left\", \"font\": {\"color\": \"#000000\"}, \"y\": 4, \"align\": \"left\"}, {\"x\": 0.55, \"xref\": \"x1\", \"yref\": \"y1\", \"text\": \"Mozilla Staff\", \"showarrow\": false, \"xanchor\": \"left\", \"font\": {\"color\": \"#000000\"}, \"y\": 4, \"align\": \"left\"}, {\"x\": 1.55, \"xref\": \"x1\", \"yref\": \"y1\", \"text\": \"347257.0\", \"showarrow\": false, \"xanchor\": \"left\", \"font\": {\"color\": \"#000000\"}, \"y\": 4, \"align\": \"left\"}, {\"x\": -0.45, \"xref\": \"x1\", \"yref\": \"y1\", \"text\": \"Gecko\", \"showarrow\": false, \"xanchor\": \"left\", \"font\": {\"color\": \"#000000\"}, \"y\": 5, \"align\": \"left\"}, {\"x\": 0.55, \"xref\": \"x1\", \"yref\": \"y1\", \"text\": \"Community\", \"showarrow\": false, \"xanchor\": \"left\", \"font\": {\"color\": \"#000000\"}, \"y\": 5, \"align\": \"left\"}, {\"x\": 1.55, \"xref\": \"x1\", \"yref\": \"y1\", \"text\": \"202435.0\", \"showarrow\": false, \"xanchor\": \"left\", \"font\": {\"color\": \"#000000\"}, \"y\": 5, \"align\": \"left\"}, {\"x\": -0.45, \"xref\": \"x1\", \"yref\": \"y1\", \"text\": \"Gecko\", \"showarrow\": false, \"xanchor\": \"left\", \"font\": {\"color\": \"#000000\"}, \"y\": 6, \"align\": \"left\"}, {\"x\": 0.55, \"xref\": \"x1\", \"yref\": \"y1\", \"text\": \"Code Sheriff\", \"showarrow\": false, \"xanchor\": \"left\", \"font\": {\"color\": \"#000000\"}, \"y\": 6, \"align\": \"left\"}, {\"x\": 1.55, \"xref\": \"x1\", \"yref\": \"y1\", \"text\": \"23136.0\", \"showarrow\": false, \"xanchor\": \"left\", \"font\": {\"color\": \"#000000\"}, \"y\": 6, \"align\": \"left\"}, {\"x\": -0.45, \"xref\": \"x1\", \"yref\": \"y1\", \"text\": \"IT/Ops\", \"showarrow\": false, \"xanchor\": \"left\", \"font\": {\"color\": \"#000000\"}, \"y\": 7, \"align\": \"left\"}, {\"x\": 0.55, \"xref\": \"x1\", \"yref\": \"y1\", \"text\": \"Mozilla Staff\", \"showarrow\": false, \"xanchor\": \"left\", \"font\": {\"color\": \"#000000\"}, \"y\": 7, \"align\": \"left\"}, {\"x\": 1.55, \"xref\": \"x1\", \"yref\": \"y1\", \"text\": \"113580.0\", \"showarrow\": false, \"xanchor\": \"left\", \"font\": {\"color\": \"#000000\"}, \"y\": 7, \"align\": \"left\"}, {\"x\": -0.45, \"xref\": \"x1\", \"yref\": \"y1\", \"text\": \"IT/Ops\", \"showarrow\": false, \"xanchor\": \"left\", \"font\": {\"color\": \"#000000\"}, \"y\": 8, \"align\": \"left\"}, {\"x\": 0.55, \"xref\": \"x1\", \"yref\": \"y1\", \"text\": \"Community\", \"showarrow\": false, \"xanchor\": \"left\", \"font\": {\"color\": \"#000000\"}, \"y\": 8, \"align\": \"left\"}, {\"x\": 1.55, \"xref\": \"x1\", \"yref\": \"y1\", \"text\": \"24488.0\", \"showarrow\": false, \"xanchor\": \"left\", \"font\": {\"color\": \"#000000\"}, \"y\": 8, \"align\": \"left\"}, {\"x\": -0.45, \"xref\": \"x1\", \"yref\": \"y1\", \"text\": \"IT/Ops\", \"showarrow\": false, \"xanchor\": \"left\", \"font\": {\"color\": \"#000000\"}, \"y\": 9, \"align\": \"left\"}, {\"x\": 0.55, \"xref\": \"x1\", \"yref\": \"y1\", \"text\": \"Code Sheriff\", \"showarrow\": false, \"xanchor\": \"left\", \"font\": {\"color\": \"#000000\"}, \"y\": 9, \"align\": \"left\"}, {\"x\": 1.55, \"xref\": \"x1\", \"yref\": \"y1\", \"text\": \"1748.0\", \"showarrow\": false, \"xanchor\": \"left\", \"font\": {\"color\": \"#000000\"}, \"y\": 9, \"align\": \"left\"}, {\"x\": -0.45, \"xref\": \"x1\", \"yref\": \"y1\", \"text\": \"Web Properties\", \"showarrow\": false, \"xanchor\": \"left\", \"font\": {\"color\": \"#000000\"}, \"y\": 10, \"align\": \"left\"}, {\"x\": 0.55, \"xref\": \"x1\", \"yref\": \"y1\", \"text\": \"Mozilla Staff\", \"showarrow\": false, \"xanchor\": \"left\", \"font\": {\"color\": \"#000000\"}, \"y\": 10, \"align\": \"left\"}, {\"x\": 1.55, \"xref\": \"x1\", \"yref\": \"y1\", \"text\": \"71832.0\", \"showarrow\": false, \"xanchor\": \"left\", \"font\": {\"color\": \"#000000\"}, \"y\": 10, \"align\": \"left\"}, {\"x\": -0.45, \"xref\": \"x1\", \"yref\": \"y1\", \"text\": \"Web Properties\", \"showarrow\": false, \"xanchor\": \"left\", \"font\": {\"color\": \"#000000\"}, \"y\": 11, \"align\": \"left\"}, {\"x\": 0.55, \"xref\": \"x1\", \"yref\": \"y1\", \"text\": \"Community\", \"showarrow\": false, \"xanchor\": \"left\", \"font\": {\"color\": \"#000000\"}, \"y\": 11, \"align\": \"left\"}, {\"x\": 1.55, \"xref\": \"x1\", \"yref\": \"y1\", \"text\": \"12865.0\", \"showarrow\": false, \"xanchor\": \"left\", \"font\": {\"color\": \"#000000\"}, \"y\": 11, \"align\": \"left\"}, {\"x\": -0.45, \"xref\": \"x1\", \"yref\": \"y1\", \"text\": \"Web Properties\", \"showarrow\": false, \"xanchor\": \"left\", \"font\": {\"color\": \"#000000\"}, \"y\": 12, \"align\": \"left\"}, {\"x\": 0.55, \"xref\": \"x1\", \"yref\": \"y1\", \"text\": \"Code Sheriff\", \"showarrow\": false, \"xanchor\": \"left\", \"font\": {\"color\": \"#000000\"}, \"y\": 12, \"align\": \"left\"}, {\"x\": 1.55, \"xref\": \"x1\", \"yref\": \"y1\", \"text\": \"13.0\", \"showarrow\": false, \"xanchor\": \"left\", \"font\": {\"color\": \"#000000\"}, \"y\": 12, \"align\": \"left\"}, {\"x\": -0.45, \"xref\": \"x1\", \"yref\": \"y1\", \"text\": \"Rust\", \"showarrow\": false, \"xanchor\": \"left\", \"font\": {\"color\": \"#000000\"}, \"y\": 13, \"align\": \"left\"}, {\"x\": 0.55, \"xref\": \"x1\", \"yref\": \"y1\", \"text\": \"Mozilla Staff\", \"showarrow\": false, \"xanchor\": \"left\", \"font\": {\"color\": \"#000000\"}, \"y\": 13, \"align\": \"left\"}, {\"x\": 1.55, \"xref\": \"x1\", \"yref\": \"y1\", \"text\": \"36021.0\", \"showarrow\": false, \"xanchor\": \"left\", \"font\": {\"color\": \"#000000\"}, \"y\": 13, \"align\": \"left\"}, {\"x\": -0.45, \"xref\": \"x1\", \"yref\": \"y1\", \"text\": \"Rust\", \"showarrow\": false, \"xanchor\": \"left\", \"font\": {\"color\": \"#000000\"}, \"y\": 14, \"align\": \"left\"}, {\"x\": 0.55, \"xref\": \"x1\", \"yref\": \"y1\", \"text\": \"Community\", \"showarrow\": false, \"xanchor\": \"left\", \"font\": {\"color\": \"#000000\"}, \"y\": 14, \"align\": \"left\"}, {\"x\": 1.55, \"xref\": \"x1\", \"yref\": \"y1\", \"text\": \"31346.0\", \"showarrow\": false, \"xanchor\": \"left\", \"font\": {\"color\": \"#000000\"}, \"y\": 14, \"align\": \"left\"}, {\"x\": -0.45, \"xref\": \"x1\", \"yref\": \"y1\", \"text\": \"Rust\", \"showarrow\": false, \"xanchor\": \"left\", \"font\": {\"color\": \"#000000\"}, \"y\": 15, \"align\": \"left\"}, {\"x\": 0.55, \"xref\": \"x1\", \"yref\": \"y1\", \"text\": \"Code Sheriff\", \"showarrow\": false, \"xanchor\": \"left\", \"font\": {\"color\": \"#000000\"}, \"y\": 15, \"align\": \"left\"}, {\"x\": 1.55, \"xref\": \"x1\", \"yref\": \"y1\", \"text\": \"67.0\", \"showarrow\": false, \"xanchor\": \"left\", \"font\": {\"color\": \"#000000\"}, \"y\": 15, \"align\": \"left\"}, {\"x\": -0.45, \"xref\": \"x1\", \"yref\": \"y1\", \"text\": \"Servo\", \"showarrow\": false, \"xanchor\": \"left\", \"font\": {\"color\": \"#000000\"}, \"y\": 16, \"align\": \"left\"}, {\"x\": 0.55, \"xref\": \"x1\", \"yref\": \"y1\", \"text\": \"Community\", \"showarrow\": false, \"xanchor\": \"left\", \"font\": {\"color\": \"#000000\"}, \"y\": 16, \"align\": \"left\"}, {\"x\": 1.55, \"xref\": \"x1\", \"yref\": \"y1\", \"text\": \"32597.0\", \"showarrow\": false, \"xanchor\": \"left\", \"font\": {\"color\": \"#000000\"}, \"y\": 16, \"align\": \"left\"}, {\"x\": -0.45, \"xref\": \"x1\", \"yref\": \"y1\", \"text\": \"Servo\", \"showarrow\": false, \"xanchor\": \"left\", \"font\": {\"color\": \"#000000\"}, \"y\": 17, \"align\": \"left\"}, {\"x\": 0.55, \"xref\": \"x1\", \"yref\": \"y1\", \"text\": \"Mozilla Staff\", \"showarrow\": false, \"xanchor\": \"left\", \"font\": {\"color\": \"#000000\"}, \"y\": 17, \"align\": \"left\"}, {\"x\": 1.55, \"xref\": \"x1\", \"yref\": \"y1\", \"text\": \"31094.0\", \"showarrow\": false, \"xanchor\": \"left\", \"font\": {\"color\": \"#000000\"}, \"y\": 17, \"align\": \"left\"}, {\"x\": -0.45, \"xref\": \"x1\", \"yref\": \"y1\", \"text\": \"Servo\", \"showarrow\": false, \"xanchor\": \"left\", \"font\": {\"color\": \"#000000\"}, \"y\": 18, \"align\": \"left\"}, {\"x\": 0.55, \"xref\": \"x1\", \"yref\": \"y1\", \"text\": \"Code Sheriff\", \"showarrow\": false, \"xanchor\": \"left\", \"font\": {\"color\": \"#000000\"}, \"y\": 18, \"align\": \"left\"}, {\"x\": 1.55, \"xref\": \"x1\", \"yref\": \"y1\", \"text\": \"3594.0\", \"showarrow\": false, \"xanchor\": \"left\", \"font\": {\"color\": \"#000000\"}, \"y\": 18, \"align\": \"left\"}, {\"x\": -0.45, \"xref\": \"x1\", \"yref\": \"y1\", \"text\": \"Addons/Web Extensions\", \"showarrow\": false, \"xanchor\": \"left\", \"font\": {\"color\": \"#000000\"}, \"y\": 19, \"align\": \"left\"}, {\"x\": 0.55, \"xref\": \"x1\", \"yref\": \"y1\", \"text\": \"Mozilla Staff\", \"showarrow\": false, \"xanchor\": \"left\", \"font\": {\"color\": \"#000000\"}, \"y\": 19, \"align\": \"left\"}, {\"x\": 1.55, \"xref\": \"x1\", \"yref\": \"y1\", \"text\": \"34876.0\", \"showarrow\": false, \"xanchor\": \"left\", \"font\": {\"color\": \"#000000\"}, \"y\": 19, \"align\": \"left\"}, {\"x\": -0.45, \"xref\": \"x1\", \"yref\": \"y1\", \"text\": \"Addons/Web Extensions\", \"showarrow\": false, \"xanchor\": \"left\", \"font\": {\"color\": \"#000000\"}, \"y\": 20, \"align\": \"left\"}, {\"x\": 0.55, \"xref\": \"x1\", \"yref\": \"y1\", \"text\": \"Community\", \"showarrow\": false, \"xanchor\": \"left\", \"font\": {\"color\": \"#000000\"}, \"y\": 20, \"align\": \"left\"}, {\"x\": 1.55, \"xref\": \"x1\", \"yref\": \"y1\", \"text\": \"6773.0\", \"showarrow\": false, \"xanchor\": \"left\", \"font\": {\"color\": \"#000000\"}, \"y\": 20, \"align\": \"left\"}, {\"x\": -0.45, \"xref\": \"x1\", \"yref\": \"y1\", \"text\": \"Addons/Web Extensions\", \"showarrow\": false, \"xanchor\": \"left\", \"font\": {\"color\": \"#000000\"}, \"y\": 21, \"align\": \"left\"}, {\"x\": 0.55, \"xref\": \"x1\", \"yref\": \"y1\", \"text\": \"Code Sheriff\", \"showarrow\": false, \"xanchor\": \"left\", \"font\": {\"color\": \"#000000\"}, \"y\": 21, \"align\": \"left\"}, {\"x\": 1.55, \"xref\": \"x1\", \"yref\": \"y1\", \"text\": \"183.0\", \"showarrow\": false, \"xanchor\": \"left\", \"font\": {\"color\": \"#000000\"}, \"y\": 21, \"align\": \"left\"}, {\"x\": -0.45, \"xref\": \"x1\", \"yref\": \"y1\", \"text\": \"Mozilla Local/Regional communities\", \"showarrow\": false, \"xanchor\": \"left\", \"font\": {\"color\": \"#000000\"}, \"y\": 22, \"align\": \"left\"}, {\"x\": 0.55, \"xref\": \"x1\", \"yref\": \"y1\", \"text\": \"Community\", \"showarrow\": false, \"xanchor\": \"left\", \"font\": {\"color\": \"#000000\"}, \"y\": 22, \"align\": \"left\"}, {\"x\": 1.55, \"xref\": \"x1\", \"yref\": \"y1\", \"text\": \"9152.0\", \"showarrow\": false, \"xanchor\": \"left\", \"font\": {\"color\": \"#000000\"}, \"y\": 22, \"align\": \"left\"}, {\"x\": -0.45, \"xref\": \"x1\", \"yref\": \"y1\", \"text\": \"Mozilla Local/Regional communities\", \"showarrow\": false, \"xanchor\": \"left\", \"font\": {\"color\": \"#000000\"}, \"y\": 23, \"align\": \"left\"}, {\"x\": 0.55, \"xref\": \"x1\", \"yref\": \"y1\", \"text\": \"Mozilla Staff\", \"showarrow\": false, \"xanchor\": \"left\", \"font\": {\"color\": \"#000000\"}, \"y\": 23, \"align\": \"left\"}, {\"x\": 1.55, \"xref\": \"x1\", \"yref\": \"y1\", \"text\": \"6090.0\", \"showarrow\": false, \"xanchor\": \"left\", \"font\": {\"color\": \"#000000\"}, \"y\": 23, \"align\": \"left\"}, {\"x\": -0.45, \"xref\": \"x1\", \"yref\": \"y1\", \"text\": \"Mozilla Local/Regional communities\", \"showarrow\": false, \"xanchor\": \"left\", \"font\": {\"color\": \"#000000\"}, \"y\": 24, \"align\": \"left\"}, {\"x\": 0.55, \"xref\": \"x1\", \"yref\": \"y1\", \"text\": \"Code Sheriff\", \"showarrow\": false, \"xanchor\": \"left\", \"font\": {\"color\": \"#000000\"}, \"y\": 24, \"align\": \"left\"}, {\"x\": 1.55, \"xref\": \"x1\", \"yref\": \"y1\", \"text\": \"3.0\", \"showarrow\": false, \"xanchor\": \"left\", \"font\": {\"color\": \"#000000\"}, \"y\": 24, \"align\": \"left\"}, {\"x\": -0.45, \"xref\": \"x1\", \"yref\": \"y1\", \"text\": \"Release engineering\", \"showarrow\": false, \"xanchor\": \"left\", \"font\": {\"color\": \"#000000\"}, \"y\": 25, \"align\": \"left\"}, {\"x\": 0.55, \"xref\": \"x1\", \"yref\": \"y1\", \"text\": \"Mozilla Staff\", \"showarrow\": false, \"xanchor\": \"left\", \"font\": {\"color\": \"#000000\"}, \"y\": 25, \"align\": \"left\"}, {\"x\": 1.55, \"xref\": \"x1\", \"yref\": \"y1\", \"text\": \"14486.0\", \"showarrow\": false, \"xanchor\": \"left\", \"font\": {\"color\": \"#000000\"}, \"y\": 25, \"align\": \"left\"}, {\"x\": -0.45, \"xref\": \"x1\", \"yref\": \"y1\", \"text\": \"Release engineering\", \"showarrow\": false, \"xanchor\": \"left\", \"font\": {\"color\": \"#000000\"}, \"y\": 26, \"align\": \"left\"}, {\"x\": 0.55, \"xref\": \"x1\", \"yref\": \"y1\", \"text\": \"Community\", \"showarrow\": false, \"xanchor\": \"left\", \"font\": {\"color\": \"#000000\"}, \"y\": 26, \"align\": \"left\"}, {\"x\": 1.55, \"xref\": \"x1\", \"yref\": \"y1\", \"text\": \"844.0\", \"showarrow\": false, \"xanchor\": \"left\", \"font\": {\"color\": \"#000000\"}, \"y\": 26, \"align\": \"left\"}, {\"x\": -0.45, \"xref\": \"x1\", \"yref\": \"y1\", \"text\": \"Release engineering\", \"showarrow\": false, \"xanchor\": \"left\", \"font\": {\"color\": \"#000000\"}, \"y\": 27, \"align\": \"left\"}, {\"x\": 0.55, \"xref\": \"x1\", \"yref\": \"y1\", \"text\": \"Code Sheriff\", \"showarrow\": false, \"xanchor\": \"left\", \"font\": {\"color\": \"#000000\"}, \"y\": 27, \"align\": \"left\"}, {\"x\": 1.55, \"xref\": \"x1\", \"yref\": \"y1\", \"text\": \"104.0\", \"showarrow\": false, \"xanchor\": \"left\", \"font\": {\"color\": \"#000000\"}, \"y\": 27, \"align\": \"left\"}, {\"x\": -0.45, \"xref\": \"x1\", \"yref\": \"y1\", \"text\": \"Web Literacy\", \"showarrow\": false, \"xanchor\": \"left\", \"font\": {\"color\": \"#000000\"}, \"y\": 28, \"align\": \"left\"}, {\"x\": 0.55, \"xref\": \"x1\", \"yref\": \"y1\", \"text\": \"Community\", \"showarrow\": false, \"xanchor\": \"left\", \"font\": {\"color\": \"#000000\"}, \"y\": 28, \"align\": \"left\"}, {\"x\": 1.55, \"xref\": \"x1\", \"yref\": \"y1\", \"text\": \"7060.0\", \"showarrow\": false, \"xanchor\": \"left\", \"font\": {\"color\": \"#000000\"}, \"y\": 28, \"align\": \"left\"}, {\"x\": -0.45, \"xref\": \"x1\", \"yref\": \"y1\", \"text\": \"Web Literacy\", \"showarrow\": false, \"xanchor\": \"left\", \"font\": {\"color\": \"#000000\"}, \"y\": 29, \"align\": \"left\"}, {\"x\": 0.55, \"xref\": \"x1\", \"yref\": \"y1\", \"text\": \"Mozilla Staff\", \"showarrow\": false, \"xanchor\": \"left\", \"font\": {\"color\": \"#000000\"}, \"y\": 29, \"align\": \"left\"}, {\"x\": 1.55, \"xref\": \"x1\", \"yref\": \"y1\", \"text\": \"6531.0\", \"showarrow\": false, \"xanchor\": \"left\", \"font\": {\"color\": \"#000000\"}, \"y\": 29, \"align\": \"left\"}, {\"x\": -0.45, \"xref\": \"x1\", \"yref\": \"y1\", \"text\": \"WebVR\", \"showarrow\": false, \"xanchor\": \"left\", \"font\": {\"color\": \"#000000\"}, \"y\": 30, \"align\": \"left\"}, {\"x\": 0.55, \"xref\": \"x1\", \"yref\": \"y1\", \"text\": \"Mozilla Staff\", \"showarrow\": false, \"xanchor\": \"left\", \"font\": {\"color\": \"#000000\"}, \"y\": 30, \"align\": \"left\"}, {\"x\": 1.55, \"xref\": \"x1\", \"yref\": \"y1\", \"text\": \"5822.0\", \"showarrow\": false, \"xanchor\": \"left\", \"font\": {\"color\": \"#000000\"}, \"y\": 30, \"align\": \"left\"}, {\"x\": -0.45, \"xref\": \"x1\", \"yref\": \"y1\", \"text\": \"WebVR\", \"showarrow\": false, \"xanchor\": \"left\", \"font\": {\"color\": \"#000000\"}, \"y\": 31, \"align\": \"left\"}, {\"x\": 0.55, \"xref\": \"x1\", \"yref\": \"y1\", \"text\": \"Community\", \"showarrow\": false, \"xanchor\": \"left\", \"font\": {\"color\": \"#000000\"}, \"y\": 31, \"align\": \"left\"}, {\"x\": 1.55, \"xref\": \"x1\", \"yref\": \"y1\", \"text\": \"1175.0\", \"showarrow\": false, \"xanchor\": \"left\", \"font\": {\"color\": \"#000000\"}, \"y\": 31, \"align\": \"left\"}, {\"x\": -0.45, \"xref\": \"x1\", \"yref\": \"y1\", \"text\": \"Firefox OS (FxOS / B2G)\", \"showarrow\": false, \"xanchor\": \"left\", \"font\": {\"color\": \"#000000\"}, \"y\": 32, \"align\": \"left\"}, {\"x\": 0.55, \"xref\": \"x1\", \"yref\": \"y1\", \"text\": \"Mozilla Staff\", \"showarrow\": false, \"xanchor\": \"left\", \"font\": {\"color\": \"#000000\"}, \"y\": 32, \"align\": \"left\"}, {\"x\": 1.55, \"xref\": \"x1\", \"yref\": \"y1\", \"text\": \"5781.0\", \"showarrow\": false, \"xanchor\": \"left\", \"font\": {\"color\": \"#000000\"}, \"y\": 32, \"align\": \"left\"}, {\"x\": -0.45, \"xref\": \"x1\", \"yref\": \"y1\", \"text\": \"Firefox OS (FxOS / B2G)\", \"showarrow\": false, \"xanchor\": \"left\", \"font\": {\"color\": \"#000000\"}, \"y\": 33, \"align\": \"left\"}, {\"x\": 0.55, \"xref\": \"x1\", \"yref\": \"y1\", \"text\": \"Community\", \"showarrow\": false, \"xanchor\": \"left\", \"font\": {\"color\": \"#000000\"}, \"y\": 33, \"align\": \"left\"}, {\"x\": 1.55, \"xref\": \"x1\", \"yref\": \"y1\", \"text\": \"736.0\", \"showarrow\": false, \"xanchor\": \"left\", \"font\": {\"color\": \"#000000\"}, \"y\": 33, \"align\": \"left\"}, {\"x\": -0.45, \"xref\": \"x1\", \"yref\": \"y1\", \"text\": \"Firefox iOS\", \"showarrow\": false, \"xanchor\": \"left\", \"font\": {\"color\": \"#000000\"}, \"y\": 34, \"align\": \"left\"}, {\"x\": 0.55, \"xref\": \"x1\", \"yref\": \"y1\", \"text\": \"Mozilla Staff\", \"showarrow\": false, \"xanchor\": \"left\", \"font\": {\"color\": \"#000000\"}, \"y\": 34, \"align\": \"left\"}, {\"x\": 1.55, \"xref\": \"x1\", \"yref\": \"y1\", \"text\": \"5935.0\", \"showarrow\": false, \"xanchor\": \"left\", \"font\": {\"color\": \"#000000\"}, \"y\": 34, \"align\": \"left\"}, {\"x\": -0.45, \"xref\": \"x1\", \"yref\": \"y1\", \"text\": \"Firefox iOS\", \"showarrow\": false, \"xanchor\": \"left\", \"font\": {\"color\": \"#000000\"}, \"y\": 35, \"align\": \"left\"}, {\"x\": 0.55, \"xref\": \"x1\", \"yref\": \"y1\", \"text\": \"Community\", \"showarrow\": false, \"xanchor\": \"left\", \"font\": {\"color\": \"#000000\"}, \"y\": 35, \"align\": \"left\"}, {\"x\": 1.55, \"xref\": \"x1\", \"yref\": \"y1\", \"text\": \"444.0\", \"showarrow\": false, \"xanchor\": \"left\", \"font\": {\"color\": \"#000000\"}, \"y\": 35, \"align\": \"left\"}, {\"x\": -0.45, \"xref\": \"x1\", \"yref\": \"y1\", \"text\": \"Quality Assurance\", \"showarrow\": false, \"xanchor\": \"left\", \"font\": {\"color\": \"#000000\"}, \"y\": 36, \"align\": \"left\"}, {\"x\": 0.55, \"xref\": \"x1\", \"yref\": \"y1\", \"text\": \"Mozilla Staff\", \"showarrow\": false, \"xanchor\": \"left\", \"font\": {\"color\": \"#000000\"}, \"y\": 36, \"align\": \"left\"}, {\"x\": 1.55, \"xref\": \"x1\", \"yref\": \"y1\", \"text\": \"3811.0\", \"showarrow\": false, \"xanchor\": \"left\", \"font\": {\"color\": \"#000000\"}, \"y\": 36, \"align\": \"left\"}, {\"x\": -0.45, \"xref\": \"x1\", \"yref\": \"y1\", \"text\": \"Quality Assurance\", \"showarrow\": false, \"xanchor\": \"left\", \"font\": {\"color\": \"#000000\"}, \"y\": 37, \"align\": \"left\"}, {\"x\": 0.55, \"xref\": \"x1\", \"yref\": \"y1\", \"text\": \"Community\", \"showarrow\": false, \"xanchor\": \"left\", \"font\": {\"color\": \"#000000\"}, \"y\": 37, \"align\": \"left\"}, {\"x\": 1.55, \"xref\": \"x1\", \"yref\": \"y1\", \"text\": \"1072.0\", \"showarrow\": false, \"xanchor\": \"left\", \"font\": {\"color\": \"#000000\"}, \"y\": 37, \"align\": \"left\"}, {\"x\": -0.45, \"xref\": \"x1\", \"yref\": \"y1\", \"text\": \"Mozilla Developer Network (MDN)\", \"showarrow\": false, \"xanchor\": \"left\", \"font\": {\"color\": \"#000000\"}, \"y\": 38, \"align\": \"left\"}, {\"x\": 0.55, \"xref\": \"x1\", \"yref\": \"y1\", \"text\": \"Mozilla Staff\", \"showarrow\": false, \"xanchor\": \"left\", \"font\": {\"color\": \"#000000\"}, \"y\": 38, \"align\": \"left\"}, {\"x\": 1.55, \"xref\": \"x1\", \"yref\": \"y1\", \"text\": \"3181.0\", \"showarrow\": false, \"xanchor\": \"left\", \"font\": {\"color\": \"#000000\"}, \"y\": 38, \"align\": \"left\"}, {\"x\": -0.45, \"xref\": \"x1\", \"yref\": \"y1\", \"text\": \"Mozilla Developer Network (MDN)\", \"showarrow\": false, \"xanchor\": \"left\", \"font\": {\"color\": \"#000000\"}, \"y\": 39, \"align\": \"left\"}, {\"x\": 0.55, \"xref\": \"x1\", \"yref\": \"y1\", \"text\": \"Community\", \"showarrow\": false, \"xanchor\": \"left\", \"font\": {\"color\": \"#000000\"}, \"y\": 39, \"align\": \"left\"}, {\"x\": 1.55, \"xref\": \"x1\", \"yref\": \"y1\", \"text\": \"497.0\", \"showarrow\": false, \"xanchor\": \"left\", \"font\": {\"color\": \"#000000\"}, \"y\": 39, \"align\": \"left\"}, {\"x\": -0.45, \"xref\": \"x1\", \"yref\": \"y1\", \"text\": \"Mozilla Science\", \"showarrow\": false, \"xanchor\": \"left\", \"font\": {\"color\": \"#000000\"}, \"y\": 40, \"align\": \"left\"}, {\"x\": 0.55, \"xref\": \"x1\", \"yref\": \"y1\", \"text\": \"Community\", \"showarrow\": false, \"xanchor\": \"left\", \"font\": {\"color\": \"#000000\"}, \"y\": 40, \"align\": \"left\"}, {\"x\": 1.55, \"xref\": \"x1\", \"yref\": \"y1\", \"text\": \"2603.0\", \"showarrow\": false, \"xanchor\": \"left\", \"font\": {\"color\": \"#000000\"}, \"y\": 40, \"align\": \"left\"}, {\"x\": -0.45, \"xref\": \"x1\", \"yref\": \"y1\", \"text\": \"Mozilla Science\", \"showarrow\": false, \"xanchor\": \"left\", \"font\": {\"color\": \"#000000\"}, \"y\": 41, \"align\": \"left\"}, {\"x\": 0.55, \"xref\": \"x1\", \"yref\": \"y1\", \"text\": \"Mozilla Staff\", \"showarrow\": false, \"xanchor\": \"left\", \"font\": {\"color\": \"#000000\"}, \"y\": 41, \"align\": \"left\"}, {\"x\": 1.55, \"xref\": \"x1\", \"yref\": \"y1\", \"text\": \"954.0\", \"showarrow\": false, \"xanchor\": \"left\", \"font\": {\"color\": \"#000000\"}, \"y\": 41, \"align\": \"left\"}, {\"x\": -0.45, \"xref\": \"x1\", \"yref\": \"y1\", \"text\": \"Test Pilot\", \"showarrow\": false, \"xanchor\": \"left\", \"font\": {\"color\": \"#000000\"}, \"y\": 42, \"align\": \"left\"}, {\"x\": 0.55, \"xref\": \"x1\", \"yref\": \"y1\", \"text\": \"Mozilla Staff\", \"showarrow\": false, \"xanchor\": \"left\", \"font\": {\"color\": \"#000000\"}, \"y\": 42, \"align\": \"left\"}, {\"x\": 1.55, \"xref\": \"x1\", \"yref\": \"y1\", \"text\": \"1873.0\", \"showarrow\": false, \"xanchor\": \"left\", \"font\": {\"color\": \"#000000\"}, \"y\": 42, \"align\": \"left\"}, {\"x\": -0.45, \"xref\": \"x1\", \"yref\": \"y1\", \"text\": \"Test Pilot\", \"showarrow\": false, \"xanchor\": \"left\", \"font\": {\"color\": \"#000000\"}, \"y\": 43, \"align\": \"left\"}, {\"x\": 0.55, \"xref\": \"x1\", \"yref\": \"y1\", \"text\": \"Community\", \"showarrow\": false, \"xanchor\": \"left\", \"font\": {\"color\": \"#000000\"}, \"y\": 43, \"align\": \"left\"}, {\"x\": 1.55, \"xref\": \"x1\", \"yref\": \"y1\", \"text\": \"1186.0\", \"showarrow\": false, \"xanchor\": \"left\", \"font\": {\"color\": \"#000000\"}, \"y\": 43, \"align\": \"left\"}, {\"x\": -0.45, \"xref\": \"x1\", \"yref\": \"y1\", \"text\": \"Test Pilot\", \"showarrow\": false, \"xanchor\": \"left\", \"font\": {\"color\": \"#000000\"}, \"y\": 44, \"align\": \"left\"}, {\"x\": 0.55, \"xref\": \"x1\", \"yref\": \"y1\", \"text\": \"Code Sheriff\", \"showarrow\": false, \"xanchor\": \"left\", \"font\": {\"color\": \"#000000\"}, \"y\": 44, \"align\": \"left\"}, {\"x\": 1.55, \"xref\": \"x1\", \"yref\": \"y1\", \"text\": \"2.0\", \"showarrow\": false, \"xanchor\": \"left\", \"font\": {\"color\": \"#000000\"}, \"y\": 44, \"align\": \"left\"}, {\"x\": -0.45, \"xref\": \"x1\", \"yref\": \"y1\", \"text\": \"Marketing / Social Media\", \"showarrow\": false, \"xanchor\": \"left\", \"font\": {\"color\": \"#000000\"}, \"y\": 45, \"align\": \"left\"}, {\"x\": 0.55, \"xref\": \"x1\", \"yref\": \"y1\", \"text\": \"Mozilla Staff\", \"showarrow\": false, \"xanchor\": \"left\", \"font\": {\"color\": \"#000000\"}, \"y\": 45, \"align\": \"left\"}, {\"x\": 1.55, \"xref\": \"x1\", \"yref\": \"y1\", \"text\": \"2109.0\", \"showarrow\": false, \"xanchor\": \"left\", \"font\": {\"color\": \"#000000\"}, \"y\": 45, \"align\": \"left\"}, {\"x\": -0.45, \"xref\": \"x1\", \"yref\": \"y1\", \"text\": \"Marketing / Social Media\", \"showarrow\": false, \"xanchor\": \"left\", \"font\": {\"color\": \"#000000\"}, \"y\": 46, \"align\": \"left\"}, {\"x\": 0.55, \"xref\": \"x1\", \"yref\": \"y1\", \"text\": \"Community\", \"showarrow\": false, \"xanchor\": \"left\", \"font\": {\"color\": \"#000000\"}, \"y\": 46, \"align\": \"left\"}, {\"x\": 1.55, \"xref\": \"x1\", \"yref\": \"y1\", \"text\": \"54.0\", \"showarrow\": false, \"xanchor\": \"left\", \"font\": {\"color\": \"#000000\"}, \"y\": 46, \"align\": \"left\"}, {\"x\": -0.45, \"xref\": \"x1\", \"yref\": \"y1\", \"text\": \"Marketing / Social Media\", \"showarrow\": false, \"xanchor\": \"left\", \"font\": {\"color\": \"#000000\"}, \"y\": 47, \"align\": \"left\"}, {\"x\": 0.55, \"xref\": \"x1\", \"yref\": \"y1\", \"text\": \"Code Sheriff\", \"showarrow\": false, \"xanchor\": \"left\", \"font\": {\"color\": \"#000000\"}, \"y\": 47, \"align\": \"left\"}, {\"x\": 1.55, \"xref\": \"x1\", \"yref\": \"y1\", \"text\": \"14.0\", \"showarrow\": false, \"xanchor\": \"left\", \"font\": {\"color\": \"#000000\"}, \"y\": 47, \"align\": \"left\"}, {\"x\": -0.45, \"xref\": \"x1\", \"yref\": \"y1\", \"text\": \"Localization\", \"showarrow\": false, \"xanchor\": \"left\", \"font\": {\"color\": \"#000000\"}, \"y\": 48, \"align\": \"left\"}, {\"x\": 0.55, \"xref\": \"x1\", \"yref\": \"y1\", \"text\": \"Mozilla Staff\", \"showarrow\": false, \"xanchor\": \"left\", \"font\": {\"color\": \"#000000\"}, \"y\": 48, \"align\": \"left\"}, {\"x\": 1.55, \"xref\": \"x1\", \"yref\": \"y1\", \"text\": \"1073.0\", \"showarrow\": false, \"xanchor\": \"left\", \"font\": {\"color\": \"#000000\"}, \"y\": 48, \"align\": \"left\"}, {\"x\": -0.45, \"xref\": \"x1\", \"yref\": \"y1\", \"text\": \"Localization\", \"showarrow\": false, \"xanchor\": \"left\", \"font\": {\"color\": \"#000000\"}, \"y\": 49, \"align\": \"left\"}, {\"x\": 0.55, \"xref\": \"x1\", \"yref\": \"y1\", \"text\": \"Community\", \"showarrow\": false, \"xanchor\": \"left\", \"font\": {\"color\": \"#000000\"}, \"y\": 49, \"align\": \"left\"}, {\"x\": 1.55, \"xref\": \"x1\", \"yref\": \"y1\", \"text\": \"940.0\", \"showarrow\": false, \"xanchor\": \"left\", \"font\": {\"color\": \"#000000\"}, \"y\": 49, \"align\": \"left\"}, {\"x\": -0.45, \"xref\": \"x1\", \"yref\": \"y1\", \"text\": \"Mozilla Location Service (MLS) / Stumbler\", \"showarrow\": false, \"xanchor\": \"left\", \"font\": {\"color\": \"#000000\"}, \"y\": 50, \"align\": \"left\"}, {\"x\": 0.55, \"xref\": \"x1\", \"yref\": \"y1\", \"text\": \"Mozilla Staff\", \"showarrow\": false, \"xanchor\": \"left\", \"font\": {\"color\": \"#000000\"}, \"y\": 50, \"align\": \"left\"}, {\"x\": 1.55, \"xref\": \"x1\", \"yref\": \"y1\", \"text\": \"1375.0\", \"showarrow\": false, \"xanchor\": \"left\", \"font\": {\"color\": \"#000000\"}, \"y\": 50, \"align\": \"left\"}, {\"x\": -0.45, \"xref\": \"x1\", \"yref\": \"y1\", \"text\": \"Mozilla Location Service (MLS) / Stumbler\", \"showarrow\": false, \"xanchor\": \"left\", \"font\": {\"color\": \"#000000\"}, \"y\": 51, \"align\": \"left\"}, {\"x\": 0.55, \"xref\": \"x1\", \"yref\": \"y1\", \"text\": \"Community\", \"showarrow\": false, \"xanchor\": \"left\", \"font\": {\"color\": \"#000000\"}, \"y\": 51, \"align\": \"left\"}, {\"x\": 1.55, \"xref\": \"x1\", \"yref\": \"y1\", \"text\": \"591.0\", \"showarrow\": false, \"xanchor\": \"left\", \"font\": {\"color\": \"#000000\"}, \"y\": 51, \"align\": \"left\"}, {\"x\": -0.45, \"xref\": \"x1\", \"yref\": \"y1\", \"text\": \"Mozilla Location Service (MLS) / Stumbler\", \"showarrow\": false, \"xanchor\": \"left\", \"font\": {\"color\": \"#000000\"}, \"y\": 52, \"align\": \"left\"}, {\"x\": 0.55, \"xref\": \"x1\", \"yref\": \"y1\", \"text\": \"Code Sheriff\", \"showarrow\": false, \"xanchor\": \"left\", \"font\": {\"color\": \"#000000\"}, \"y\": 52, \"align\": \"left\"}, {\"x\": 1.55, \"xref\": \"x1\", \"yref\": \"y1\", \"text\": \"1.0\", \"showarrow\": false, \"xanchor\": \"left\", \"font\": {\"color\": \"#000000\"}, \"y\": 52, \"align\": \"left\"}, {\"x\": -0.45, \"xref\": \"x1\", \"yref\": \"y1\", \"text\": \"Firefox\", \"showarrow\": false, \"xanchor\": \"left\", \"font\": {\"color\": \"#000000\"}, \"y\": 53, \"align\": \"left\"}, {\"x\": 0.55, \"xref\": \"x1\", \"yref\": \"y1\", \"text\": \"Mozilla Staff\", \"showarrow\": false, \"xanchor\": \"left\", \"font\": {\"color\": \"#000000\"}, \"y\": 53, \"align\": \"left\"}, {\"x\": 1.55, \"xref\": \"x1\", \"yref\": \"y1\", \"text\": \"1072.0\", \"showarrow\": false, \"xanchor\": \"left\", \"font\": {\"color\": \"#000000\"}, \"y\": 53, \"align\": \"left\"}, {\"x\": -0.45, \"xref\": \"x1\", \"yref\": \"y1\", \"text\": \"Firefox\", \"showarrow\": false, \"xanchor\": \"left\", \"font\": {\"color\": \"#000000\"}, \"y\": 54, \"align\": \"left\"}, {\"x\": 0.55, \"xref\": \"x1\", \"yref\": \"y1\", \"text\": \"Community\", \"showarrow\": false, \"xanchor\": \"left\", \"font\": {\"color\": \"#000000\"}, \"y\": 54, \"align\": \"left\"}, {\"x\": 1.55, \"xref\": \"x1\", \"yref\": \"y1\", \"text\": \"461.0\", \"showarrow\": false, \"xanchor\": \"left\", \"font\": {\"color\": \"#000000\"}, \"y\": 54, \"align\": \"left\"}, {\"x\": -0.45, \"xref\": \"x1\", \"yref\": \"y1\", \"text\": \"Advocacy and policy\", \"showarrow\": false, \"xanchor\": \"left\", \"font\": {\"color\": \"#000000\"}, \"y\": 55, \"align\": \"left\"}, {\"x\": 0.55, \"xref\": \"x1\", \"yref\": \"y1\", \"text\": \"Mozilla Staff\", \"showarrow\": false, \"xanchor\": \"left\", \"font\": {\"color\": \"#000000\"}, \"y\": 55, \"align\": \"left\"}, {\"x\": 1.55, \"xref\": \"x1\", \"yref\": \"y1\", \"text\": \"1030.0\", \"showarrow\": false, \"xanchor\": \"left\", \"font\": {\"color\": \"#000000\"}, \"y\": 55, \"align\": \"left\"}, {\"x\": -0.45, \"xref\": \"x1\", \"yref\": \"y1\", \"text\": \"Advocacy and policy\", \"showarrow\": false, \"xanchor\": \"left\", \"font\": {\"color\": \"#000000\"}, \"y\": 56, \"align\": \"left\"}, {\"x\": 0.55, \"xref\": \"x1\", \"yref\": \"y1\", \"text\": \"Community\", \"showarrow\": false, \"xanchor\": \"left\", \"font\": {\"color\": \"#000000\"}, \"y\": 56, \"align\": \"left\"}, {\"x\": 1.55, \"xref\": \"x1\", \"yref\": \"y1\", \"text\": \"441.0\", \"showarrow\": false, \"xanchor\": \"left\", \"font\": {\"color\": \"#000000\"}, \"y\": 56, \"align\": \"left\"}, {\"x\": -0.45, \"xref\": \"x1\", \"yref\": \"y1\", \"text\": \"Advocacy and policy\", \"showarrow\": false, \"xanchor\": \"left\", \"font\": {\"color\": \"#000000\"}, \"y\": 57, \"align\": \"left\"}, {\"x\": 0.55, \"xref\": \"x1\", \"yref\": \"y1\", \"text\": \"Code Sheriff\", \"showarrow\": false, \"xanchor\": \"left\", \"font\": {\"color\": \"#000000\"}, \"y\": 57, \"align\": \"left\"}, {\"x\": 1.55, \"xref\": \"x1\", \"yref\": \"y1\", \"text\": \"3.0\", \"showarrow\": false, \"xanchor\": \"left\", \"font\": {\"color\": \"#000000\"}, \"y\": 57, \"align\": \"left\"}, {\"x\": -0.45, \"xref\": \"x1\", \"yref\": \"y1\", \"text\": \"Mozilla Foundation\", \"showarrow\": false, \"xanchor\": \"left\", \"font\": {\"color\": \"#000000\"}, \"y\": 58, \"align\": \"left\"}, {\"x\": 0.55, \"xref\": \"x1\", \"yref\": \"y1\", \"text\": \"Mozilla Staff\", \"showarrow\": false, \"xanchor\": \"left\", \"font\": {\"color\": \"#000000\"}, \"y\": 58, \"align\": \"left\"}, {\"x\": 1.55, \"xref\": \"x1\", \"yref\": \"y1\", \"text\": \"801.0\", \"showarrow\": false, \"xanchor\": \"left\", \"font\": {\"color\": \"#000000\"}, \"y\": 58, \"align\": \"left\"}, {\"x\": -0.45, \"xref\": \"x1\", \"yref\": \"y1\", \"text\": \"Mozilla Foundation\", \"showarrow\": false, \"xanchor\": \"left\", \"font\": {\"color\": \"#000000\"}, \"y\": 59, \"align\": \"left\"}, {\"x\": 0.55, \"xref\": \"x1\", \"yref\": \"y1\", \"text\": \"Community\", \"showarrow\": false, \"xanchor\": \"left\", \"font\": {\"color\": \"#000000\"}, \"y\": 59, \"align\": \"left\"}, {\"x\": 1.55, \"xref\": \"x1\", \"yref\": \"y1\", \"text\": \"581.0\", \"showarrow\": false, \"xanchor\": \"left\", \"font\": {\"color\": \"#000000\"}, \"y\": 59, \"align\": \"left\"}, {\"x\": -0.45, \"xref\": \"x1\", \"yref\": \"y1\", \"text\": \"Firefox Focus\", \"showarrow\": false, \"xanchor\": \"left\", \"font\": {\"color\": \"#000000\"}, \"y\": 60, \"align\": \"left\"}, {\"x\": 0.55, \"xref\": \"x1\", \"yref\": \"y1\", \"text\": \"Mozilla Staff\", \"showarrow\": false, \"xanchor\": \"left\", \"font\": {\"color\": \"#000000\"}, \"y\": 60, \"align\": \"left\"}, {\"x\": 1.55, \"xref\": \"x1\", \"yref\": \"y1\", \"text\": \"1254.0\", \"showarrow\": false, \"xanchor\": \"left\", \"font\": {\"color\": \"#000000\"}, \"y\": 60, \"align\": \"left\"}, {\"x\": -0.45, \"xref\": \"x1\", \"yref\": \"y1\", \"text\": \"Firefox Focus\", \"showarrow\": false, \"xanchor\": \"left\", \"font\": {\"color\": \"#000000\"}, \"y\": 61, \"align\": \"left\"}, {\"x\": 0.55, \"xref\": \"x1\", \"yref\": \"y1\", \"text\": \"Community\", \"showarrow\": false, \"xanchor\": \"left\", \"font\": {\"color\": \"#000000\"}, \"y\": 61, \"align\": \"left\"}, {\"x\": 1.55, \"xref\": \"x1\", \"yref\": \"y1\", \"text\": \"8.0\", \"showarrow\": false, \"xanchor\": \"left\", \"font\": {\"color\": \"#000000\"}, \"y\": 61, \"align\": \"left\"}, {\"x\": -0.45, \"xref\": \"x1\", \"yref\": \"y1\", \"text\": \"Technical/Developer Evangelism\", \"showarrow\": false, \"xanchor\": \"left\", \"font\": {\"color\": \"#000000\"}, \"y\": 62, \"align\": \"left\"}, {\"x\": 0.55, \"xref\": \"x1\", \"yref\": \"y1\", \"text\": \"Mozilla Staff\", \"showarrow\": false, \"xanchor\": \"left\", \"font\": {\"color\": \"#000000\"}, \"y\": 62, \"align\": \"left\"}, {\"x\": 1.55, \"xref\": \"x1\", \"yref\": \"y1\", \"text\": \"813.0\", \"showarrow\": false, \"xanchor\": \"left\", \"font\": {\"color\": \"#000000\"}, \"y\": 62, \"align\": \"left\"}, {\"x\": -0.45, \"xref\": \"x1\", \"yref\": \"y1\", \"text\": \"Technical/Developer Evangelism\", \"showarrow\": false, \"xanchor\": \"left\", \"font\": {\"color\": \"#000000\"}, \"y\": 63, \"align\": \"left\"}, {\"x\": 0.55, \"xref\": \"x1\", \"yref\": \"y1\", \"text\": \"Community\", \"showarrow\": false, \"xanchor\": \"left\", \"font\": {\"color\": \"#000000\"}, \"y\": 63, \"align\": \"left\"}, {\"x\": 1.55, \"xref\": \"x1\", \"yref\": \"y1\", \"text\": \"43.0\", \"showarrow\": false, \"xanchor\": \"left\", \"font\": {\"color\": \"#000000\"}, \"y\": 63, \"align\": \"left\"}, {\"x\": -0.45, \"xref\": \"x1\", \"yref\": \"y1\", \"text\": \"Not tracked\", \"showarrow\": false, \"xanchor\": \"left\", \"font\": {\"color\": \"#000000\"}, \"y\": 64, \"align\": \"left\"}, {\"x\": 0.55, \"xref\": \"x1\", \"yref\": \"y1\", \"text\": \"Mozilla Staff\", \"showarrow\": false, \"xanchor\": \"left\", \"font\": {\"color\": \"#000000\"}, \"y\": 64, \"align\": \"left\"}, {\"x\": 1.55, \"xref\": \"x1\", \"yref\": \"y1\", \"text\": \"621.0\", \"showarrow\": false, \"xanchor\": \"left\", \"font\": {\"color\": \"#000000\"}, \"y\": 64, \"align\": \"left\"}, {\"x\": -0.45, \"xref\": \"x1\", \"yref\": \"y1\", \"text\": \"Not tracked\", \"showarrow\": false, \"xanchor\": \"left\", \"font\": {\"color\": \"#000000\"}, \"y\": 65, \"align\": \"left\"}, {\"x\": 0.55, \"xref\": \"x1\", \"yref\": \"y1\", \"text\": \"Community\", \"showarrow\": false, \"xanchor\": \"left\", \"font\": {\"color\": \"#000000\"}, \"y\": 65, \"align\": \"left\"}, {\"x\": 1.55, \"xref\": \"x1\", \"yref\": \"y1\", \"text\": \"186.0\", \"showarrow\": false, \"xanchor\": \"left\", \"font\": {\"color\": \"#000000\"}, \"y\": 65, \"align\": \"left\"}, {\"x\": -0.45, \"xref\": \"x1\", \"yref\": \"y1\", \"text\": \"Vaani\", \"showarrow\": false, \"xanchor\": \"left\", \"font\": {\"color\": \"#000000\"}, \"y\": 66, \"align\": \"left\"}, {\"x\": 0.55, \"xref\": \"x1\", \"yref\": \"y1\", \"text\": \"Mozilla Staff\", \"showarrow\": false, \"xanchor\": \"left\", \"font\": {\"color\": \"#000000\"}, \"y\": 66, \"align\": \"left\"}, {\"x\": 1.55, \"xref\": \"x1\", \"yref\": \"y1\", \"text\": \"470.0\", \"showarrow\": false, \"xanchor\": \"left\", \"font\": {\"color\": \"#000000\"}, \"y\": 66, \"align\": \"left\"}, {\"x\": -0.45, \"xref\": \"x1\", \"yref\": \"y1\", \"text\": \"Vaani\", \"showarrow\": false, \"xanchor\": \"left\", \"font\": {\"color\": \"#000000\"}, \"y\": 67, \"align\": \"left\"}, {\"x\": 0.55, \"xref\": \"x1\", \"yref\": \"y1\", \"text\": \"Community\", \"showarrow\": false, \"xanchor\": \"left\", \"font\": {\"color\": \"#000000\"}, \"y\": 67, \"align\": \"left\"}, {\"x\": 1.55, \"xref\": \"x1\", \"yref\": \"y1\", \"text\": \"2.0\", \"showarrow\": false, \"xanchor\": \"left\", \"font\": {\"color\": \"#000000\"}, \"y\": 67, \"align\": \"left\"}, {\"x\": -0.45, \"xref\": \"x1\", \"yref\": \"y1\", \"text\": \"Developer Tools\", \"showarrow\": false, \"xanchor\": \"left\", \"font\": {\"color\": \"#000000\"}, \"y\": 68, \"align\": \"left\"}, {\"x\": 0.55, \"xref\": \"x1\", \"yref\": \"y1\", \"text\": \"Mozilla Staff\", \"showarrow\": false, \"xanchor\": \"left\", \"font\": {\"color\": \"#000000\"}, \"y\": 68, \"align\": \"left\"}, {\"x\": 1.55, \"xref\": \"x1\", \"yref\": \"y1\", \"text\": \"293.0\", \"showarrow\": false, \"xanchor\": \"left\", \"font\": {\"color\": \"#000000\"}, \"y\": 68, \"align\": \"left\"}, {\"x\": -0.45, \"xref\": \"x1\", \"yref\": \"y1\", \"text\": \"Developer Tools\", \"showarrow\": false, \"xanchor\": \"left\", \"font\": {\"color\": \"#000000\"}, \"y\": 69, \"align\": \"left\"}, {\"x\": 0.55, \"xref\": \"x1\", \"yref\": \"y1\", \"text\": \"Community\", \"showarrow\": false, \"xanchor\": \"left\", \"font\": {\"color\": \"#000000\"}, \"y\": 69, \"align\": \"left\"}, {\"x\": 1.55, \"xref\": \"x1\", \"yref\": \"y1\", \"text\": \"34.0\", \"showarrow\": false, \"xanchor\": \"left\", \"font\": {\"color\": \"#000000\"}, \"y\": 69, \"align\": \"left\"}, {\"x\": -0.45, \"xref\": \"x1\", \"yref\": \"y1\", \"text\": \"Deep Speech\", \"showarrow\": false, \"xanchor\": \"left\", \"font\": {\"color\": \"#000000\"}, \"y\": 70, \"align\": \"left\"}, {\"x\": 0.55, \"xref\": \"x1\", \"yref\": \"y1\", \"text\": \"Mozilla Staff\", \"showarrow\": false, \"xanchor\": \"left\", \"font\": {\"color\": \"#000000\"}, \"y\": 70, \"align\": \"left\"}, {\"x\": 1.55, \"xref\": \"x1\", \"yref\": \"y1\", \"text\": \"305.0\", \"showarrow\": false, \"xanchor\": \"left\", \"font\": {\"color\": \"#000000\"}, \"y\": 70, \"align\": \"left\"}, {\"x\": -0.45, \"xref\": \"x1\", \"yref\": \"y1\", \"text\": \"Deep Speech\", \"showarrow\": false, \"xanchor\": \"left\", \"font\": {\"color\": \"#000000\"}, \"y\": 71, \"align\": \"left\"}, {\"x\": 0.55, \"xref\": \"x1\", \"yref\": \"y1\", \"text\": \"Community\", \"showarrow\": false, \"xanchor\": \"left\", \"font\": {\"color\": \"#000000\"}, \"y\": 71, \"align\": \"left\"}, {\"x\": 1.55, \"xref\": \"x1\", \"yref\": \"y1\", \"text\": \"20.0\", \"showarrow\": false, \"xanchor\": \"left\", \"font\": {\"color\": \"#000000\"}, \"y\": 71, \"align\": \"left\"}, {\"x\": -0.45, \"xref\": \"x1\", \"yref\": \"y1\", \"text\": \"Connected devices & IoT\", \"showarrow\": false, \"xanchor\": \"left\", \"font\": {\"color\": \"#000000\"}, \"y\": 72, \"align\": \"left\"}, {\"x\": 0.55, \"xref\": \"x1\", \"yref\": \"y1\", \"text\": \"Community\", \"showarrow\": false, \"xanchor\": \"left\", \"font\": {\"color\": \"#000000\"}, \"y\": 72, \"align\": \"left\"}, {\"x\": 1.55, \"xref\": \"x1\", \"yref\": \"y1\", \"text\": \"222.0\", \"showarrow\": false, \"xanchor\": \"left\", \"font\": {\"color\": \"#000000\"}, \"y\": 72, \"align\": \"left\"}, {\"x\": -0.45, \"xref\": \"x1\", \"yref\": \"y1\", \"text\": \"Connected devices & IoT\", \"showarrow\": false, \"xanchor\": \"left\", \"font\": {\"color\": \"#000000\"}, \"y\": 73, \"align\": \"left\"}, {\"x\": 0.55, \"xref\": \"x1\", \"yref\": \"y1\", \"text\": \"Mozilla Staff\", \"showarrow\": false, \"xanchor\": \"left\", \"font\": {\"color\": \"#000000\"}, \"y\": 73, \"align\": \"left\"}, {\"x\": 1.55, \"xref\": \"x1\", \"yref\": \"y1\", \"text\": \"79.0\", \"showarrow\": false, \"xanchor\": \"left\", \"font\": {\"color\": \"#000000\"}, \"y\": 73, \"align\": \"left\"}, {\"x\": -0.45, \"xref\": \"x1\", \"yref\": \"y1\", \"text\": \"Mozilla Clubs\", \"showarrow\": false, \"xanchor\": \"left\", \"font\": {\"color\": \"#000000\"}, \"y\": 74, \"align\": \"left\"}, {\"x\": 0.55, \"xref\": \"x1\", \"yref\": \"y1\", \"text\": \"Mozilla Staff\", \"showarrow\": false, \"xanchor\": \"left\", \"font\": {\"color\": \"#000000\"}, \"y\": 74, \"align\": \"left\"}, {\"x\": 1.55, \"xref\": \"x1\", \"yref\": \"y1\", \"text\": \"198.0\", \"showarrow\": false, \"xanchor\": \"left\", \"font\": {\"color\": \"#000000\"}, \"y\": 74, \"align\": \"left\"}, {\"x\": -0.45, \"xref\": \"x1\", \"yref\": \"y1\", \"text\": \"Mozilla Clubs\", \"showarrow\": false, \"xanchor\": \"left\", \"font\": {\"color\": \"#000000\"}, \"y\": 75, \"align\": \"left\"}, {\"x\": 0.55, \"xref\": \"x1\", \"yref\": \"y1\", \"text\": \"Community\", \"showarrow\": false, \"xanchor\": \"left\", \"font\": {\"color\": \"#000000\"}, \"y\": 75, \"align\": \"left\"}, {\"x\": 1.55, \"xref\": \"x1\", \"yref\": \"y1\", \"text\": \"26.0\", \"showarrow\": false, \"xanchor\": \"left\", \"font\": {\"color\": \"#000000\"}, \"y\": 75, \"align\": \"left\"}, {\"x\": -0.45, \"xref\": \"x1\", \"yref\": \"y1\", \"text\": \"Mozilla Creative & Design\", \"showarrow\": false, \"xanchor\": \"left\", \"font\": {\"color\": \"#000000\"}, \"y\": 76, \"align\": \"left\"}, {\"x\": 0.55, \"xref\": \"x1\", \"yref\": \"y1\", \"text\": \"Community\", \"showarrow\": false, \"xanchor\": \"left\", \"font\": {\"color\": \"#000000\"}, \"y\": 76, \"align\": \"left\"}, {\"x\": 1.55, \"xref\": \"x1\", \"yref\": \"y1\", \"text\": \"106.0\", \"showarrow\": false, \"xanchor\": \"left\", \"font\": {\"color\": \"#000000\"}, \"y\": 76, \"align\": \"left\"}, {\"x\": -0.45, \"xref\": \"x1\", \"yref\": \"y1\", \"text\": \"Mozilla Creative & Design\", \"showarrow\": false, \"xanchor\": \"left\", \"font\": {\"color\": \"#000000\"}, \"y\": 77, \"align\": \"left\"}, {\"x\": 0.55, \"xref\": \"x1\", \"yref\": \"y1\", \"text\": \"Mozilla Staff\", \"showarrow\": false, \"xanchor\": \"left\", \"font\": {\"color\": \"#000000\"}, \"y\": 77, \"align\": \"left\"}, {\"x\": 1.55, \"xref\": \"x1\", \"yref\": \"y1\", \"text\": \"103.0\", \"showarrow\": false, \"xanchor\": \"left\", \"font\": {\"color\": \"#000000\"}, \"y\": 77, \"align\": \"left\"}, {\"x\": -0.45, \"xref\": \"x1\", \"yref\": \"y1\", \"text\": \"Campus Clubs (previously Student Ambassadors)\", \"showarrow\": false, \"xanchor\": \"left\", \"font\": {\"color\": \"#000000\"}, \"y\": 78, \"align\": \"left\"}, {\"x\": 0.55, \"xref\": \"x1\", \"yref\": \"y1\", \"text\": \"Mozilla Staff\", \"showarrow\": false, \"xanchor\": \"left\", \"font\": {\"color\": \"#000000\"}, \"y\": 78, \"align\": \"left\"}, {\"x\": 1.55, \"xref\": \"x1\", \"yref\": \"y1\", \"text\": \"163.0\", \"showarrow\": false, \"xanchor\": \"left\", \"font\": {\"color\": \"#000000\"}, \"y\": 78, \"align\": \"left\"}, {\"x\": -0.45, \"xref\": \"x1\", \"yref\": \"y1\", \"text\": \"Campus Clubs (previously Student Ambassadors)\", \"showarrow\": false, \"xanchor\": \"left\", \"font\": {\"color\": \"#000000\"}, \"y\": 79, \"align\": \"left\"}, {\"x\": 0.55, \"xref\": \"x1\", \"yref\": \"y1\", \"text\": \"Community\", \"showarrow\": false, \"xanchor\": \"left\", \"font\": {\"color\": \"#000000\"}, \"y\": 79, \"align\": \"left\"}, {\"x\": 1.55, \"xref\": \"x1\", \"yref\": \"y1\", \"text\": \"2.0\", \"showarrow\": false, \"xanchor\": \"left\", \"font\": {\"color\": \"#000000\"}, \"y\": 79, \"align\": \"left\"}, {\"x\": -0.45, \"xref\": \"x1\", \"yref\": \"y1\", \"text\": \"Firefox Android\", \"showarrow\": false, \"xanchor\": \"left\", \"font\": {\"color\": \"#000000\"}, \"y\": 80, \"align\": \"left\"}, {\"x\": 0.55, \"xref\": \"x1\", \"yref\": \"y1\", \"text\": \"Mozilla Staff\", \"showarrow\": false, \"xanchor\": \"left\", \"font\": {\"color\": \"#000000\"}, \"y\": 80, \"align\": \"left\"}, {\"x\": 1.55, \"xref\": \"x1\", \"yref\": \"y1\", \"text\": \"53.0\", \"showarrow\": false, \"xanchor\": \"left\", \"font\": {\"color\": \"#000000\"}, \"y\": 80, \"align\": \"left\"}, {\"x\": -0.45, \"xref\": \"x1\", \"yref\": \"y1\", \"text\": \"Firefox Android\", \"showarrow\": false, \"xanchor\": \"left\", \"font\": {\"color\": \"#000000\"}, \"y\": 81, \"align\": \"left\"}, {\"x\": 0.55, \"xref\": \"x1\", \"yref\": \"y1\", \"text\": \"Community\", \"showarrow\": false, \"xanchor\": \"left\", \"font\": {\"color\": \"#000000\"}, \"y\": 81, \"align\": \"left\"}, {\"x\": 1.55, \"xref\": \"x1\", \"yref\": \"y1\", \"text\": \"1.0\", \"showarrow\": false, \"xanchor\": \"left\", \"font\": {\"color\": \"#000000\"}, \"y\": 81, \"align\": \"left\"}]}, {\"linkText\": \"Export to plot.ly\", \"showLink\": true})});</script>"
      ]
     },
     "metadata": {},
     "output_type": "display_data"
    }
   ],
   "source": [
    "s = ut.create_search(es_conn, 'git')\n",
    "\n",
    "# Unique count of Commits by Project\n",
    "s.aggs.bucket('projects', 'terms', field='project', size=100000)\\\n",
    "    .bucket('organizations', 'terms', field='author_org_name', size=100)\\\n",
    "    .metric('commits', 'cardinality', field='hash', precision_threshold=1000000)\n",
    "result = s.execute()\n",
    "\n",
    "projects_df = ut.stack_by(result=result, group_column='Project', subgroup_column='Org', value_column='# Commits',\n",
    "                 group_field='projects', subgroup_field='organizations', value_field='commits')\n",
    "\n",
    "#projects_df = projects_df.sort_values(by='# Commits', ascending=0)\n",
    "\n",
    "ut.print_table(projects_df, filename='github-projects-table.html')\n"
   ]
  },
  {
   "cell_type": "markdown",
   "metadata": {},
   "source": [
    "# Authors by Project\n",
    "\n",
    "## Authors by Project: Git"
   ]
  },
  {
   "cell_type": "code",
   "execution_count": 4,
   "metadata": {
    "collapsed": false,
    "scrolled": false
   },
   "outputs": [
    {
     "data": {
      "text/html": [
       "<script>requirejs.config({paths: { 'plotly': ['https://cdn.plot.ly/plotly-latest.min']},});if(!window.Plotly) {{require(['plotly'],function(plotly) {window.Plotly=plotly;});}}</script>"
      ],
      "text/vnd.plotly.v1+html": [
       "<script>requirejs.config({paths: { 'plotly': ['https://cdn.plot.ly/plotly-latest.min']},});if(!window.Plotly) {{require(['plotly'],function(plotly) {window.Plotly=plotly;});}}</script>"
      ]
     },
     "metadata": {},
     "output_type": "display_data"
    },
    {
     "data": {
      "application/vnd.plotly.v1+json": {
       "data": [
        {
         "colorscale": [
          [
           0,
           "#00083e"
          ],
          [
           0.5,
           "#ededee"
          ],
          [
           1,
           "#ffffff"
          ]
         ],
         "hoverinfo": "none",
         "opacity": 0.75,
         "showscale": false,
         "type": "heatmap",
         "z": [
          [
           0,
           0,
           0
          ],
          [
           0.5,
           0.5,
           0.5
          ],
          [
           1,
           1,
           1
          ],
          [
           0.5,
           0.5,
           0.5
          ],
          [
           1,
           1,
           1
          ],
          [
           0.5,
           0.5,
           0.5
          ],
          [
           1,
           1,
           1
          ],
          [
           0.5,
           0.5,
           0.5
          ],
          [
           1,
           1,
           1
          ],
          [
           0.5,
           0.5,
           0.5
          ],
          [
           1,
           1,
           1
          ],
          [
           0.5,
           0.5,
           0.5
          ],
          [
           1,
           1,
           1
          ],
          [
           0.5,
           0.5,
           0.5
          ],
          [
           1,
           1,
           1
          ],
          [
           0.5,
           0.5,
           0.5
          ],
          [
           1,
           1,
           1
          ],
          [
           0.5,
           0.5,
           0.5
          ],
          [
           1,
           1,
           1
          ],
          [
           0.5,
           0.5,
           0.5
          ],
          [
           1,
           1,
           1
          ],
          [
           0.5,
           0.5,
           0.5
          ],
          [
           1,
           1,
           1
          ],
          [
           0.5,
           0.5,
           0.5
          ],
          [
           1,
           1,
           1
          ],
          [
           0.5,
           0.5,
           0.5
          ],
          [
           1,
           1,
           1
          ],
          [
           0.5,
           0.5,
           0.5
          ],
          [
           1,
           1,
           1
          ],
          [
           0.5,
           0.5,
           0.5
          ],
          [
           1,
           1,
           1
          ],
          [
           0.5,
           0.5,
           0.5
          ],
          [
           1,
           1,
           1
          ],
          [
           0.5,
           0.5,
           0.5
          ],
          [
           1,
           1,
           1
          ],
          [
           0.5,
           0.5,
           0.5
          ],
          [
           1,
           1,
           1
          ],
          [
           0.5,
           0.5,
           0.5
          ],
          [
           1,
           1,
           1
          ],
          [
           0.5,
           0.5,
           0.5
          ],
          [
           1,
           1,
           1
          ],
          [
           0.5,
           0.5,
           0.5
          ],
          [
           1,
           1,
           1
          ],
          [
           0.5,
           0.5,
           0.5
          ],
          [
           1,
           1,
           1
          ],
          [
           0.5,
           0.5,
           0.5
          ],
          [
           1,
           1,
           1
          ],
          [
           0.5,
           0.5,
           0.5
          ],
          [
           1,
           1,
           1
          ],
          [
           0.5,
           0.5,
           0.5
          ],
          [
           1,
           1,
           1
          ],
          [
           0.5,
           0.5,
           0.5
          ],
          [
           1,
           1,
           1
          ],
          [
           0.5,
           0.5,
           0.5
          ],
          [
           1,
           1,
           1
          ],
          [
           0.5,
           0.5,
           0.5
          ],
          [
           1,
           1,
           1
          ],
          [
           0.5,
           0.5,
           0.5
          ],
          [
           1,
           1,
           1
          ],
          [
           0.5,
           0.5,
           0.5
          ],
          [
           1,
           1,
           1
          ],
          [
           0.5,
           0.5,
           0.5
          ],
          [
           1,
           1,
           1
          ],
          [
           0.5,
           0.5,
           0.5
          ],
          [
           1,
           1,
           1
          ],
          [
           0.5,
           0.5,
           0.5
          ],
          [
           1,
           1,
           1
          ],
          [
           0.5,
           0.5,
           0.5
          ],
          [
           1,
           1,
           1
          ],
          [
           0.5,
           0.5,
           0.5
          ],
          [
           1,
           1,
           1
          ],
          [
           0.5,
           0.5,
           0.5
          ],
          [
           1,
           1,
           1
          ],
          [
           0.5,
           0.5,
           0.5
          ],
          [
           1,
           1,
           1
          ],
          [
           0.5,
           0.5,
           0.5
          ],
          [
           1,
           1,
           1
          ],
          [
           0.5,
           0.5,
           0.5
          ],
          [
           1,
           1,
           1
          ],
          [
           0.5,
           0.5,
           0.5
          ],
          [
           1,
           1,
           1
          ],
          [
           0.5,
           0.5,
           0.5
          ]
         ]
        }
       ],
       "layout": {
        "annotations": [
         {
          "align": "left",
          "font": {
           "color": "#ffffff"
          },
          "showarrow": false,
          "text": "<b>Project</b>",
          "x": -0.45,
          "xanchor": "left",
          "xref": "x1",
          "y": 0,
          "yref": "y1"
         },
         {
          "align": "left",
          "font": {
           "color": "#ffffff"
          },
          "showarrow": false,
          "text": "<b>Org</b>",
          "x": 0.55,
          "xanchor": "left",
          "xref": "x1",
          "y": 0,
          "yref": "y1"
         },
         {
          "align": "left",
          "font": {
           "color": "#ffffff"
          },
          "showarrow": false,
          "text": "<b>Authors</b>",
          "x": 1.55,
          "xanchor": "left",
          "xref": "x1",
          "y": 0,
          "yref": "y1"
         },
         {
          "align": "left",
          "font": {
           "color": "#000000"
          },
          "showarrow": false,
          "text": "Unknown",
          "x": -0.45,
          "xanchor": "left",
          "xref": "x1",
          "y": 1,
          "yref": "y1"
         },
         {
          "align": "left",
          "font": {
           "color": "#000000"
          },
          "showarrow": false,
          "text": "Mozilla Staff",
          "x": 0.55,
          "xanchor": "left",
          "xref": "x1",
          "y": 1,
          "yref": "y1"
         },
         {
          "align": "left",
          "font": {
           "color": "#000000"
          },
          "showarrow": false,
          "text": "1784.0",
          "x": 1.55,
          "xanchor": "left",
          "xref": "x1",
          "y": 1,
          "yref": "y1"
         },
         {
          "align": "left",
          "font": {
           "color": "#000000"
          },
          "showarrow": false,
          "text": "Unknown",
          "x": -0.45,
          "xanchor": "left",
          "xref": "x1",
          "y": 2,
          "yref": "y1"
         },
         {
          "align": "left",
          "font": {
           "color": "#000000"
          },
          "showarrow": false,
          "text": "Community",
          "x": 0.55,
          "xanchor": "left",
          "xref": "x1",
          "y": 2,
          "yref": "y1"
         },
         {
          "align": "left",
          "font": {
           "color": "#000000"
          },
          "showarrow": false,
          "text": "7237.0",
          "x": 1.55,
          "xanchor": "left",
          "xref": "x1",
          "y": 2,
          "yref": "y1"
         },
         {
          "align": "left",
          "font": {
           "color": "#000000"
          },
          "showarrow": false,
          "text": "Unknown",
          "x": -0.45,
          "xanchor": "left",
          "xref": "x1",
          "y": 3,
          "yref": "y1"
         },
         {
          "align": "left",
          "font": {
           "color": "#000000"
          },
          "showarrow": false,
          "text": "Code Sheriff",
          "x": 0.55,
          "xanchor": "left",
          "xref": "x1",
          "y": 3,
          "yref": "y1"
         },
         {
          "align": "left",
          "font": {
           "color": "#000000"
          },
          "showarrow": false,
          "text": "8.0",
          "x": 1.55,
          "xanchor": "left",
          "xref": "x1",
          "y": 3,
          "yref": "y1"
         },
         {
          "align": "left",
          "font": {
           "color": "#000000"
          },
          "showarrow": false,
          "text": "Gecko",
          "x": -0.45,
          "xanchor": "left",
          "xref": "x1",
          "y": 4,
          "yref": "y1"
         },
         {
          "align": "left",
          "font": {
           "color": "#000000"
          },
          "showarrow": false,
          "text": "Mozilla Staff",
          "x": 0.55,
          "xanchor": "left",
          "xref": "x1",
          "y": 4,
          "yref": "y1"
         },
         {
          "align": "left",
          "font": {
           "color": "#000000"
          },
          "showarrow": false,
          "text": "1378.0",
          "x": 1.55,
          "xanchor": "left",
          "xref": "x1",
          "y": 4,
          "yref": "y1"
         },
         {
          "align": "left",
          "font": {
           "color": "#000000"
          },
          "showarrow": false,
          "text": "Gecko",
          "x": -0.45,
          "xanchor": "left",
          "xref": "x1",
          "y": 5,
          "yref": "y1"
         },
         {
          "align": "left",
          "font": {
           "color": "#000000"
          },
          "showarrow": false,
          "text": "Community",
          "x": 0.55,
          "xanchor": "left",
          "xref": "x1",
          "y": 5,
          "yref": "y1"
         },
         {
          "align": "left",
          "font": {
           "color": "#000000"
          },
          "showarrow": false,
          "text": "3974.0",
          "x": 1.55,
          "xanchor": "left",
          "xref": "x1",
          "y": 5,
          "yref": "y1"
         },
         {
          "align": "left",
          "font": {
           "color": "#000000"
          },
          "showarrow": false,
          "text": "Gecko",
          "x": -0.45,
          "xanchor": "left",
          "xref": "x1",
          "y": 6,
          "yref": "y1"
         },
         {
          "align": "left",
          "font": {
           "color": "#000000"
          },
          "showarrow": false,
          "text": "Code Sheriff",
          "x": 0.55,
          "xanchor": "left",
          "xref": "x1",
          "y": 6,
          "yref": "y1"
         },
         {
          "align": "left",
          "font": {
           "color": "#000000"
          },
          "showarrow": false,
          "text": "8.0",
          "x": 1.55,
          "xanchor": "left",
          "xref": "x1",
          "y": 6,
          "yref": "y1"
         },
         {
          "align": "left",
          "font": {
           "color": "#000000"
          },
          "showarrow": false,
          "text": "IT/Ops",
          "x": -0.45,
          "xanchor": "left",
          "xref": "x1",
          "y": 7,
          "yref": "y1"
         },
         {
          "align": "left",
          "font": {
           "color": "#000000"
          },
          "showarrow": false,
          "text": "Mozilla Staff",
          "x": 0.55,
          "xanchor": "left",
          "xref": "x1",
          "y": 7,
          "yref": "y1"
         },
         {
          "align": "left",
          "font": {
           "color": "#000000"
          },
          "showarrow": false,
          "text": "787.0",
          "x": 1.55,
          "xanchor": "left",
          "xref": "x1",
          "y": 7,
          "yref": "y1"
         },
         {
          "align": "left",
          "font": {
           "color": "#000000"
          },
          "showarrow": false,
          "text": "IT/Ops",
          "x": -0.45,
          "xanchor": "left",
          "xref": "x1",
          "y": 8,
          "yref": "y1"
         },
         {
          "align": "left",
          "font": {
           "color": "#000000"
          },
          "showarrow": false,
          "text": "Community",
          "x": 0.55,
          "xanchor": "left",
          "xref": "x1",
          "y": 8,
          "yref": "y1"
         },
         {
          "align": "left",
          "font": {
           "color": "#000000"
          },
          "showarrow": false,
          "text": "1469.0",
          "x": 1.55,
          "xanchor": "left",
          "xref": "x1",
          "y": 8,
          "yref": "y1"
         },
         {
          "align": "left",
          "font": {
           "color": "#000000"
          },
          "showarrow": false,
          "text": "IT/Ops",
          "x": -0.45,
          "xanchor": "left",
          "xref": "x1",
          "y": 9,
          "yref": "y1"
         },
         {
          "align": "left",
          "font": {
           "color": "#000000"
          },
          "showarrow": false,
          "text": "Code Sheriff",
          "x": 0.55,
          "xanchor": "left",
          "xref": "x1",
          "y": 9,
          "yref": "y1"
         },
         {
          "align": "left",
          "font": {
           "color": "#000000"
          },
          "showarrow": false,
          "text": "6.0",
          "x": 1.55,
          "xanchor": "left",
          "xref": "x1",
          "y": 9,
          "yref": "y1"
         },
         {
          "align": "left",
          "font": {
           "color": "#000000"
          },
          "showarrow": false,
          "text": "Web Properties",
          "x": -0.45,
          "xanchor": "left",
          "xref": "x1",
          "y": 10,
          "yref": "y1"
         },
         {
          "align": "left",
          "font": {
           "color": "#000000"
          },
          "showarrow": false,
          "text": "Mozilla Staff",
          "x": 0.55,
          "xanchor": "left",
          "xref": "x1",
          "y": 10,
          "yref": "y1"
         },
         {
          "align": "left",
          "font": {
           "color": "#000000"
          },
          "showarrow": false,
          "text": "396.0",
          "x": 1.55,
          "xanchor": "left",
          "xref": "x1",
          "y": 10,
          "yref": "y1"
         },
         {
          "align": "left",
          "font": {
           "color": "#000000"
          },
          "showarrow": false,
          "text": "Web Properties",
          "x": -0.45,
          "xanchor": "left",
          "xref": "x1",
          "y": 11,
          "yref": "y1"
         },
         {
          "align": "left",
          "font": {
           "color": "#000000"
          },
          "showarrow": false,
          "text": "Community",
          "x": 0.55,
          "xanchor": "left",
          "xref": "x1",
          "y": 11,
          "yref": "y1"
         },
         {
          "align": "left",
          "font": {
           "color": "#000000"
          },
          "showarrow": false,
          "text": "942.0",
          "x": 1.55,
          "xanchor": "left",
          "xref": "x1",
          "y": 11,
          "yref": "y1"
         },
         {
          "align": "left",
          "font": {
           "color": "#000000"
          },
          "showarrow": false,
          "text": "Web Properties",
          "x": -0.45,
          "xanchor": "left",
          "xref": "x1",
          "y": 12,
          "yref": "y1"
         },
         {
          "align": "left",
          "font": {
           "color": "#000000"
          },
          "showarrow": false,
          "text": "Code Sheriff",
          "x": 0.55,
          "xanchor": "left",
          "xref": "x1",
          "y": 12,
          "yref": "y1"
         },
         {
          "align": "left",
          "font": {
           "color": "#000000"
          },
          "showarrow": false,
          "text": "4.0",
          "x": 1.55,
          "xanchor": "left",
          "xref": "x1",
          "y": 12,
          "yref": "y1"
         },
         {
          "align": "left",
          "font": {
           "color": "#000000"
          },
          "showarrow": false,
          "text": "Rust",
          "x": -0.45,
          "xanchor": "left",
          "xref": "x1",
          "y": 13,
          "yref": "y1"
         },
         {
          "align": "left",
          "font": {
           "color": "#000000"
          },
          "showarrow": false,
          "text": "Mozilla Staff",
          "x": 0.55,
          "xanchor": "left",
          "xref": "x1",
          "y": 13,
          "yref": "y1"
         },
         {
          "align": "left",
          "font": {
           "color": "#000000"
          },
          "showarrow": false,
          "text": "141.0",
          "x": 1.55,
          "xanchor": "left",
          "xref": "x1",
          "y": 13,
          "yref": "y1"
         },
         {
          "align": "left",
          "font": {
           "color": "#000000"
          },
          "showarrow": false,
          "text": "Rust",
          "x": -0.45,
          "xanchor": "left",
          "xref": "x1",
          "y": 14,
          "yref": "y1"
         },
         {
          "align": "left",
          "font": {
           "color": "#000000"
          },
          "showarrow": false,
          "text": "Community",
          "x": 0.55,
          "xanchor": "left",
          "xref": "x1",
          "y": 14,
          "yref": "y1"
         },
         {
          "align": "left",
          "font": {
           "color": "#000000"
          },
          "showarrow": false,
          "text": "2361.0",
          "x": 1.55,
          "xanchor": "left",
          "xref": "x1",
          "y": 14,
          "yref": "y1"
         },
         {
          "align": "left",
          "font": {
           "color": "#000000"
          },
          "showarrow": false,
          "text": "Rust",
          "x": -0.45,
          "xanchor": "left",
          "xref": "x1",
          "y": 15,
          "yref": "y1"
         },
         {
          "align": "left",
          "font": {
           "color": "#000000"
          },
          "showarrow": false,
          "text": "Code Sheriff",
          "x": 0.55,
          "xanchor": "left",
          "xref": "x1",
          "y": 15,
          "yref": "y1"
         },
         {
          "align": "left",
          "font": {
           "color": "#000000"
          },
          "showarrow": false,
          "text": "1.0",
          "x": 1.55,
          "xanchor": "left",
          "xref": "x1",
          "y": 15,
          "yref": "y1"
         },
         {
          "align": "left",
          "font": {
           "color": "#000000"
          },
          "showarrow": false,
          "text": "Servo",
          "x": -0.45,
          "xanchor": "left",
          "xref": "x1",
          "y": 16,
          "yref": "y1"
         },
         {
          "align": "left",
          "font": {
           "color": "#000000"
          },
          "showarrow": false,
          "text": "Community",
          "x": 0.55,
          "xanchor": "left",
          "xref": "x1",
          "y": 16,
          "yref": "y1"
         },
         {
          "align": "left",
          "font": {
           "color": "#000000"
          },
          "showarrow": false,
          "text": "1241.0",
          "x": 1.55,
          "xanchor": "left",
          "xref": "x1",
          "y": 16,
          "yref": "y1"
         },
         {
          "align": "left",
          "font": {
           "color": "#000000"
          },
          "showarrow": false,
          "text": "Servo",
          "x": -0.45,
          "xanchor": "left",
          "xref": "x1",
          "y": 17,
          "yref": "y1"
         },
         {
          "align": "left",
          "font": {
           "color": "#000000"
          },
          "showarrow": false,
          "text": "Mozilla Staff",
          "x": 0.55,
          "xanchor": "left",
          "xref": "x1",
          "y": 17,
          "yref": "y1"
         },
         {
          "align": "left",
          "font": {
           "color": "#000000"
          },
          "showarrow": false,
          "text": "198.0",
          "x": 1.55,
          "xanchor": "left",
          "xref": "x1",
          "y": 17,
          "yref": "y1"
         },
         {
          "align": "left",
          "font": {
           "color": "#000000"
          },
          "showarrow": false,
          "text": "Servo",
          "x": -0.45,
          "xanchor": "left",
          "xref": "x1",
          "y": 18,
          "yref": "y1"
         },
         {
          "align": "left",
          "font": {
           "color": "#000000"
          },
          "showarrow": false,
          "text": "Code Sheriff",
          "x": 0.55,
          "xanchor": "left",
          "xref": "x1",
          "y": 18,
          "yref": "y1"
         },
         {
          "align": "left",
          "font": {
           "color": "#000000"
          },
          "showarrow": false,
          "text": "1.0",
          "x": 1.55,
          "xanchor": "left",
          "xref": "x1",
          "y": 18,
          "yref": "y1"
         },
         {
          "align": "left",
          "font": {
           "color": "#000000"
          },
          "showarrow": false,
          "text": "Addons/Web Extensions",
          "x": -0.45,
          "xanchor": "left",
          "xref": "x1",
          "y": 19,
          "yref": "y1"
         },
         {
          "align": "left",
          "font": {
           "color": "#000000"
          },
          "showarrow": false,
          "text": "Mozilla Staff",
          "x": 0.55,
          "xanchor": "left",
          "xref": "x1",
          "y": 19,
          "yref": "y1"
         },
         {
          "align": "left",
          "font": {
           "color": "#000000"
          },
          "showarrow": false,
          "text": "284.0",
          "x": 1.55,
          "xanchor": "left",
          "xref": "x1",
          "y": 19,
          "yref": "y1"
         },
         {
          "align": "left",
          "font": {
           "color": "#000000"
          },
          "showarrow": false,
          "text": "Addons/Web Extensions",
          "x": -0.45,
          "xanchor": "left",
          "xref": "x1",
          "y": 20,
          "yref": "y1"
         },
         {
          "align": "left",
          "font": {
           "color": "#000000"
          },
          "showarrow": false,
          "text": "Community",
          "x": 0.55,
          "xanchor": "left",
          "xref": "x1",
          "y": 20,
          "yref": "y1"
         },
         {
          "align": "left",
          "font": {
           "color": "#000000"
          },
          "showarrow": false,
          "text": "361.0",
          "x": 1.55,
          "xanchor": "left",
          "xref": "x1",
          "y": 20,
          "yref": "y1"
         },
         {
          "align": "left",
          "font": {
           "color": "#000000"
          },
          "showarrow": false,
          "text": "Addons/Web Extensions",
          "x": -0.45,
          "xanchor": "left",
          "xref": "x1",
          "y": 21,
          "yref": "y1"
         },
         {
          "align": "left",
          "font": {
           "color": "#000000"
          },
          "showarrow": false,
          "text": "Code Sheriff",
          "x": 0.55,
          "xanchor": "left",
          "xref": "x1",
          "y": 21,
          "yref": "y1"
         },
         {
          "align": "left",
          "font": {
           "color": "#000000"
          },
          "showarrow": false,
          "text": "6.0",
          "x": 1.55,
          "xanchor": "left",
          "xref": "x1",
          "y": 21,
          "yref": "y1"
         },
         {
          "align": "left",
          "font": {
           "color": "#000000"
          },
          "showarrow": false,
          "text": "Mozilla Local/Regional communities",
          "x": -0.45,
          "xanchor": "left",
          "xref": "x1",
          "y": 22,
          "yref": "y1"
         },
         {
          "align": "left",
          "font": {
           "color": "#000000"
          },
          "showarrow": false,
          "text": "Community",
          "x": 0.55,
          "xanchor": "left",
          "xref": "x1",
          "y": 22,
          "yref": "y1"
         },
         {
          "align": "left",
          "font": {
           "color": "#000000"
          },
          "showarrow": false,
          "text": "395.0",
          "x": 1.55,
          "xanchor": "left",
          "xref": "x1",
          "y": 22,
          "yref": "y1"
         },
         {
          "align": "left",
          "font": {
           "color": "#000000"
          },
          "showarrow": false,
          "text": "Mozilla Local/Regional communities",
          "x": -0.45,
          "xanchor": "left",
          "xref": "x1",
          "y": 23,
          "yref": "y1"
         },
         {
          "align": "left",
          "font": {
           "color": "#000000"
          },
          "showarrow": false,
          "text": "Mozilla Staff",
          "x": 0.55,
          "xanchor": "left",
          "xref": "x1",
          "y": 23,
          "yref": "y1"
         },
         {
          "align": "left",
          "font": {
           "color": "#000000"
          },
          "showarrow": false,
          "text": "93.0",
          "x": 1.55,
          "xanchor": "left",
          "xref": "x1",
          "y": 23,
          "yref": "y1"
         },
         {
          "align": "left",
          "font": {
           "color": "#000000"
          },
          "showarrow": false,
          "text": "Mozilla Local/Regional communities",
          "x": -0.45,
          "xanchor": "left",
          "xref": "x1",
          "y": 24,
          "yref": "y1"
         },
         {
          "align": "left",
          "font": {
           "color": "#000000"
          },
          "showarrow": false,
          "text": "Code Sheriff",
          "x": 0.55,
          "xanchor": "left",
          "xref": "x1",
          "y": 24,
          "yref": "y1"
         },
         {
          "align": "left",
          "font": {
           "color": "#000000"
          },
          "showarrow": false,
          "text": "1.0",
          "x": 1.55,
          "xanchor": "left",
          "xref": "x1",
          "y": 24,
          "yref": "y1"
         },
         {
          "align": "left",
          "font": {
           "color": "#000000"
          },
          "showarrow": false,
          "text": "Release engineering",
          "x": -0.45,
          "xanchor": "left",
          "xref": "x1",
          "y": 25,
          "yref": "y1"
         },
         {
          "align": "left",
          "font": {
           "color": "#000000"
          },
          "showarrow": false,
          "text": "Mozilla Staff",
          "x": 0.55,
          "xanchor": "left",
          "xref": "x1",
          "y": 25,
          "yref": "y1"
         },
         {
          "align": "left",
          "font": {
           "color": "#000000"
          },
          "showarrow": false,
          "text": "218.0",
          "x": 1.55,
          "xanchor": "left",
          "xref": "x1",
          "y": 25,
          "yref": "y1"
         },
         {
          "align": "left",
          "font": {
           "color": "#000000"
          },
          "showarrow": false,
          "text": "Release engineering",
          "x": -0.45,
          "xanchor": "left",
          "xref": "x1",
          "y": 26,
          "yref": "y1"
         },
         {
          "align": "left",
          "font": {
           "color": "#000000"
          },
          "showarrow": false,
          "text": "Community",
          "x": 0.55,
          "xanchor": "left",
          "xref": "x1",
          "y": 26,
          "yref": "y1"
         },
         {
          "align": "left",
          "font": {
           "color": "#000000"
          },
          "showarrow": false,
          "text": "67.0",
          "x": 1.55,
          "xanchor": "left",
          "xref": "x1",
          "y": 26,
          "yref": "y1"
         },
         {
          "align": "left",
          "font": {
           "color": "#000000"
          },
          "showarrow": false,
          "text": "Release engineering",
          "x": -0.45,
          "xanchor": "left",
          "xref": "x1",
          "y": 27,
          "yref": "y1"
         },
         {
          "align": "left",
          "font": {
           "color": "#000000"
          },
          "showarrow": false,
          "text": "Code Sheriff",
          "x": 0.55,
          "xanchor": "left",
          "xref": "x1",
          "y": 27,
          "yref": "y1"
         },
         {
          "align": "left",
          "font": {
           "color": "#000000"
          },
          "showarrow": false,
          "text": "4.0",
          "x": 1.55,
          "xanchor": "left",
          "xref": "x1",
          "y": 27,
          "yref": "y1"
         },
         {
          "align": "left",
          "font": {
           "color": "#000000"
          },
          "showarrow": false,
          "text": "Web Literacy",
          "x": -0.45,
          "xanchor": "left",
          "xref": "x1",
          "y": 28,
          "yref": "y1"
         },
         {
          "align": "left",
          "font": {
           "color": "#000000"
          },
          "showarrow": false,
          "text": "Community",
          "x": 0.55,
          "xanchor": "left",
          "xref": "x1",
          "y": 28,
          "yref": "y1"
         },
         {
          "align": "left",
          "font": {
           "color": "#000000"
          },
          "showarrow": false,
          "text": "157.0",
          "x": 1.55,
          "xanchor": "left",
          "xref": "x1",
          "y": 28,
          "yref": "y1"
         },
         {
          "align": "left",
          "font": {
           "color": "#000000"
          },
          "showarrow": false,
          "text": "Web Literacy",
          "x": -0.45,
          "xanchor": "left",
          "xref": "x1",
          "y": 29,
          "yref": "y1"
         },
         {
          "align": "left",
          "font": {
           "color": "#000000"
          },
          "showarrow": false,
          "text": "Mozilla Staff",
          "x": 0.55,
          "xanchor": "left",
          "xref": "x1",
          "y": 29,
          "yref": "y1"
         },
         {
          "align": "left",
          "font": {
           "color": "#000000"
          },
          "showarrow": false,
          "text": "53.0",
          "x": 1.55,
          "xanchor": "left",
          "xref": "x1",
          "y": 29,
          "yref": "y1"
         },
         {
          "align": "left",
          "font": {
           "color": "#000000"
          },
          "showarrow": false,
          "text": "WebVR",
          "x": -0.45,
          "xanchor": "left",
          "xref": "x1",
          "y": 30,
          "yref": "y1"
         },
         {
          "align": "left",
          "font": {
           "color": "#000000"
          },
          "showarrow": false,
          "text": "Mozilla Staff",
          "x": 0.55,
          "xanchor": "left",
          "xref": "x1",
          "y": 30,
          "yref": "y1"
         },
         {
          "align": "left",
          "font": {
           "color": "#000000"
          },
          "showarrow": false,
          "text": "26.0",
          "x": 1.55,
          "xanchor": "left",
          "xref": "x1",
          "y": 30,
          "yref": "y1"
         },
         {
          "align": "left",
          "font": {
           "color": "#000000"
          },
          "showarrow": false,
          "text": "WebVR",
          "x": -0.45,
          "xanchor": "left",
          "xref": "x1",
          "y": 31,
          "yref": "y1"
         },
         {
          "align": "left",
          "font": {
           "color": "#000000"
          },
          "showarrow": false,
          "text": "Community",
          "x": 0.55,
          "xanchor": "left",
          "xref": "x1",
          "y": 31,
          "yref": "y1"
         },
         {
          "align": "left",
          "font": {
           "color": "#000000"
          },
          "showarrow": false,
          "text": "215.0",
          "x": 1.55,
          "xanchor": "left",
          "xref": "x1",
          "y": 31,
          "yref": "y1"
         },
         {
          "align": "left",
          "font": {
           "color": "#000000"
          },
          "showarrow": false,
          "text": "Firefox OS (FxOS / B2G)",
          "x": -0.45,
          "xanchor": "left",
          "xref": "x1",
          "y": 32,
          "yref": "y1"
         },
         {
          "align": "left",
          "font": {
           "color": "#000000"
          },
          "showarrow": false,
          "text": "Mozilla Staff",
          "x": 0.55,
          "xanchor": "left",
          "xref": "x1",
          "y": 32,
          "yref": "y1"
         },
         {
          "align": "left",
          "font": {
           "color": "#000000"
          },
          "showarrow": false,
          "text": "110.0",
          "x": 1.55,
          "xanchor": "left",
          "xref": "x1",
          "y": 32,
          "yref": "y1"
         },
         {
          "align": "left",
          "font": {
           "color": "#000000"
          },
          "showarrow": false,
          "text": "Firefox OS (FxOS / B2G)",
          "x": -0.45,
          "xanchor": "left",
          "xref": "x1",
          "y": 33,
          "yref": "y1"
         },
         {
          "align": "left",
          "font": {
           "color": "#000000"
          },
          "showarrow": false,
          "text": "Community",
          "x": 0.55,
          "xanchor": "left",
          "xref": "x1",
          "y": 33,
          "yref": "y1"
         },
         {
          "align": "left",
          "font": {
           "color": "#000000"
          },
          "showarrow": false,
          "text": "84.0",
          "x": 1.55,
          "xanchor": "left",
          "xref": "x1",
          "y": 33,
          "yref": "y1"
         },
         {
          "align": "left",
          "font": {
           "color": "#000000"
          },
          "showarrow": false,
          "text": "Firefox iOS",
          "x": -0.45,
          "xanchor": "left",
          "xref": "x1",
          "y": 34,
          "yref": "y1"
         },
         {
          "align": "left",
          "font": {
           "color": "#000000"
          },
          "showarrow": false,
          "text": "Mozilla Staff",
          "x": 0.55,
          "xanchor": "left",
          "xref": "x1",
          "y": 34,
          "yref": "y1"
         },
         {
          "align": "left",
          "font": {
           "color": "#000000"
          },
          "showarrow": false,
          "text": "32.0",
          "x": 1.55,
          "xanchor": "left",
          "xref": "x1",
          "y": 34,
          "yref": "y1"
         },
         {
          "align": "left",
          "font": {
           "color": "#000000"
          },
          "showarrow": false,
          "text": "Firefox iOS",
          "x": -0.45,
          "xanchor": "left",
          "xref": "x1",
          "y": 35,
          "yref": "y1"
         },
         {
          "align": "left",
          "font": {
           "color": "#000000"
          },
          "showarrow": false,
          "text": "Community",
          "x": 0.55,
          "xanchor": "left",
          "xref": "x1",
          "y": 35,
          "yref": "y1"
         },
         {
          "align": "left",
          "font": {
           "color": "#000000"
          },
          "showarrow": false,
          "text": "66.0",
          "x": 1.55,
          "xanchor": "left",
          "xref": "x1",
          "y": 35,
          "yref": "y1"
         },
         {
          "align": "left",
          "font": {
           "color": "#000000"
          },
          "showarrow": false,
          "text": "Quality Assurance",
          "x": -0.45,
          "xanchor": "left",
          "xref": "x1",
          "y": 36,
          "yref": "y1"
         },
         {
          "align": "left",
          "font": {
           "color": "#000000"
          },
          "showarrow": false,
          "text": "Mozilla Staff",
          "x": 0.55,
          "xanchor": "left",
          "xref": "x1",
          "y": 36,
          "yref": "y1"
         },
         {
          "align": "left",
          "font": {
           "color": "#000000"
          },
          "showarrow": false,
          "text": "45.0",
          "x": 1.55,
          "xanchor": "left",
          "xref": "x1",
          "y": 36,
          "yref": "y1"
         },
         {
          "align": "left",
          "font": {
           "color": "#000000"
          },
          "showarrow": false,
          "text": "Quality Assurance",
          "x": -0.45,
          "xanchor": "left",
          "xref": "x1",
          "y": 37,
          "yref": "y1"
         },
         {
          "align": "left",
          "font": {
           "color": "#000000"
          },
          "showarrow": false,
          "text": "Community",
          "x": 0.55,
          "xanchor": "left",
          "xref": "x1",
          "y": 37,
          "yref": "y1"
         },
         {
          "align": "left",
          "font": {
           "color": "#000000"
          },
          "showarrow": false,
          "text": "40.0",
          "x": 1.55,
          "xanchor": "left",
          "xref": "x1",
          "y": 37,
          "yref": "y1"
         },
         {
          "align": "left",
          "font": {
           "color": "#000000"
          },
          "showarrow": false,
          "text": "Mozilla Developer Network (MDN)",
          "x": -0.45,
          "xanchor": "left",
          "xref": "x1",
          "y": 38,
          "yref": "y1"
         },
         {
          "align": "left",
          "font": {
           "color": "#000000"
          },
          "showarrow": false,
          "text": "Mozilla Staff",
          "x": 0.55,
          "xanchor": "left",
          "xref": "x1",
          "y": 38,
          "yref": "y1"
         },
         {
          "align": "left",
          "font": {
           "color": "#000000"
          },
          "showarrow": false,
          "text": "53.0",
          "x": 1.55,
          "xanchor": "left",
          "xref": "x1",
          "y": 38,
          "yref": "y1"
         },
         {
          "align": "left",
          "font": {
           "color": "#000000"
          },
          "showarrow": false,
          "text": "Mozilla Developer Network (MDN)",
          "x": -0.45,
          "xanchor": "left",
          "xref": "x1",
          "y": 39,
          "yref": "y1"
         },
         {
          "align": "left",
          "font": {
           "color": "#000000"
          },
          "showarrow": false,
          "text": "Community",
          "x": 0.55,
          "xanchor": "left",
          "xref": "x1",
          "y": 39,
          "yref": "y1"
         },
         {
          "align": "left",
          "font": {
           "color": "#000000"
          },
          "showarrow": false,
          "text": "118.0",
          "x": 1.55,
          "xanchor": "left",
          "xref": "x1",
          "y": 39,
          "yref": "y1"
         },
         {
          "align": "left",
          "font": {
           "color": "#000000"
          },
          "showarrow": false,
          "text": "Mozilla Science",
          "x": -0.45,
          "xanchor": "left",
          "xref": "x1",
          "y": 40,
          "yref": "y1"
         },
         {
          "align": "left",
          "font": {
           "color": "#000000"
          },
          "showarrow": false,
          "text": "Community",
          "x": 0.55,
          "xanchor": "left",
          "xref": "x1",
          "y": 40,
          "yref": "y1"
         },
         {
          "align": "left",
          "font": {
           "color": "#000000"
          },
          "showarrow": false,
          "text": "100.0",
          "x": 1.55,
          "xanchor": "left",
          "xref": "x1",
          "y": 40,
          "yref": "y1"
         },
         {
          "align": "left",
          "font": {
           "color": "#000000"
          },
          "showarrow": false,
          "text": "Mozilla Science",
          "x": -0.45,
          "xanchor": "left",
          "xref": "x1",
          "y": 41,
          "yref": "y1"
         },
         {
          "align": "left",
          "font": {
           "color": "#000000"
          },
          "showarrow": false,
          "text": "Mozilla Staff",
          "x": 0.55,
          "xanchor": "left",
          "xref": "x1",
          "y": 41,
          "yref": "y1"
         },
         {
          "align": "left",
          "font": {
           "color": "#000000"
          },
          "showarrow": false,
          "text": "9.0",
          "x": 1.55,
          "xanchor": "left",
          "xref": "x1",
          "y": 41,
          "yref": "y1"
         },
         {
          "align": "left",
          "font": {
           "color": "#000000"
          },
          "showarrow": false,
          "text": "Test Pilot",
          "x": -0.45,
          "xanchor": "left",
          "xref": "x1",
          "y": 42,
          "yref": "y1"
         },
         {
          "align": "left",
          "font": {
           "color": "#000000"
          },
          "showarrow": false,
          "text": "Mozilla Staff",
          "x": 0.55,
          "xanchor": "left",
          "xref": "x1",
          "y": 42,
          "yref": "y1"
         },
         {
          "align": "left",
          "font": {
           "color": "#000000"
          },
          "showarrow": false,
          "text": "46.0",
          "x": 1.55,
          "xanchor": "left",
          "xref": "x1",
          "y": 42,
          "yref": "y1"
         },
         {
          "align": "left",
          "font": {
           "color": "#000000"
          },
          "showarrow": false,
          "text": "Test Pilot",
          "x": -0.45,
          "xanchor": "left",
          "xref": "x1",
          "y": 43,
          "yref": "y1"
         },
         {
          "align": "left",
          "font": {
           "color": "#000000"
          },
          "showarrow": false,
          "text": "Community",
          "x": 0.55,
          "xanchor": "left",
          "xref": "x1",
          "y": 43,
          "yref": "y1"
         },
         {
          "align": "left",
          "font": {
           "color": "#000000"
          },
          "showarrow": false,
          "text": "86.0",
          "x": 1.55,
          "xanchor": "left",
          "xref": "x1",
          "y": 43,
          "yref": "y1"
         },
         {
          "align": "left",
          "font": {
           "color": "#000000"
          },
          "showarrow": false,
          "text": "Test Pilot",
          "x": -0.45,
          "xanchor": "left",
          "xref": "x1",
          "y": 44,
          "yref": "y1"
         },
         {
          "align": "left",
          "font": {
           "color": "#000000"
          },
          "showarrow": false,
          "text": "Code Sheriff",
          "x": 0.55,
          "xanchor": "left",
          "xref": "x1",
          "y": 44,
          "yref": "y1"
         },
         {
          "align": "left",
          "font": {
           "color": "#000000"
          },
          "showarrow": false,
          "text": "1.0",
          "x": 1.55,
          "xanchor": "left",
          "xref": "x1",
          "y": 44,
          "yref": "y1"
         },
         {
          "align": "left",
          "font": {
           "color": "#000000"
          },
          "showarrow": false,
          "text": "Marketing / Social Media",
          "x": -0.45,
          "xanchor": "left",
          "xref": "x1",
          "y": 45,
          "yref": "y1"
         },
         {
          "align": "left",
          "font": {
           "color": "#000000"
          },
          "showarrow": false,
          "text": "Mozilla Staff",
          "x": 0.55,
          "xanchor": "left",
          "xref": "x1",
          "y": 45,
          "yref": "y1"
         },
         {
          "align": "left",
          "font": {
           "color": "#000000"
          },
          "showarrow": false,
          "text": "49.0",
          "x": 1.55,
          "xanchor": "left",
          "xref": "x1",
          "y": 45,
          "yref": "y1"
         },
         {
          "align": "left",
          "font": {
           "color": "#000000"
          },
          "showarrow": false,
          "text": "Marketing / Social Media",
          "x": -0.45,
          "xanchor": "left",
          "xref": "x1",
          "y": 46,
          "yref": "y1"
         },
         {
          "align": "left",
          "font": {
           "color": "#000000"
          },
          "showarrow": false,
          "text": "Community",
          "x": 0.55,
          "xanchor": "left",
          "xref": "x1",
          "y": 46,
          "yref": "y1"
         },
         {
          "align": "left",
          "font": {
           "color": "#000000"
          },
          "showarrow": false,
          "text": "16.0",
          "x": 1.55,
          "xanchor": "left",
          "xref": "x1",
          "y": 46,
          "yref": "y1"
         },
         {
          "align": "left",
          "font": {
           "color": "#000000"
          },
          "showarrow": false,
          "text": "Marketing / Social Media",
          "x": -0.45,
          "xanchor": "left",
          "xref": "x1",
          "y": 47,
          "yref": "y1"
         },
         {
          "align": "left",
          "font": {
           "color": "#000000"
          },
          "showarrow": false,
          "text": "Code Sheriff",
          "x": 0.55,
          "xanchor": "left",
          "xref": "x1",
          "y": 47,
          "yref": "y1"
         },
         {
          "align": "left",
          "font": {
           "color": "#000000"
          },
          "showarrow": false,
          "text": "1.0",
          "x": 1.55,
          "xanchor": "left",
          "xref": "x1",
          "y": 47,
          "yref": "y1"
         },
         {
          "align": "left",
          "font": {
           "color": "#000000"
          },
          "showarrow": false,
          "text": "Localization",
          "x": -0.45,
          "xanchor": "left",
          "xref": "x1",
          "y": 48,
          "yref": "y1"
         },
         {
          "align": "left",
          "font": {
           "color": "#000000"
          },
          "showarrow": false,
          "text": "Mozilla Staff",
          "x": 0.55,
          "xanchor": "left",
          "xref": "x1",
          "y": 48,
          "yref": "y1"
         },
         {
          "align": "left",
          "font": {
           "color": "#000000"
          },
          "showarrow": false,
          "text": "35.0",
          "x": 1.55,
          "xanchor": "left",
          "xref": "x1",
          "y": 48,
          "yref": "y1"
         },
         {
          "align": "left",
          "font": {
           "color": "#000000"
          },
          "showarrow": false,
          "text": "Localization",
          "x": -0.45,
          "xanchor": "left",
          "xref": "x1",
          "y": 49,
          "yref": "y1"
         },
         {
          "align": "left",
          "font": {
           "color": "#000000"
          },
          "showarrow": false,
          "text": "Community",
          "x": 0.55,
          "xanchor": "left",
          "xref": "x1",
          "y": 49,
          "yref": "y1"
         },
         {
          "align": "left",
          "font": {
           "color": "#000000"
          },
          "showarrow": false,
          "text": "86.0",
          "x": 1.55,
          "xanchor": "left",
          "xref": "x1",
          "y": 49,
          "yref": "y1"
         },
         {
          "align": "left",
          "font": {
           "color": "#000000"
          },
          "showarrow": false,
          "text": "Mozilla Location Service (MLS) / Stumbler",
          "x": -0.45,
          "xanchor": "left",
          "xref": "x1",
          "y": 50,
          "yref": "y1"
         },
         {
          "align": "left",
          "font": {
           "color": "#000000"
          },
          "showarrow": false,
          "text": "Mozilla Staff",
          "x": 0.55,
          "xanchor": "left",
          "xref": "x1",
          "y": 50,
          "yref": "y1"
         },
         {
          "align": "left",
          "font": {
           "color": "#000000"
          },
          "showarrow": false,
          "text": "18.0",
          "x": 1.55,
          "xanchor": "left",
          "xref": "x1",
          "y": 50,
          "yref": "y1"
         },
         {
          "align": "left",
          "font": {
           "color": "#000000"
          },
          "showarrow": false,
          "text": "Mozilla Location Service (MLS) / Stumbler",
          "x": -0.45,
          "xanchor": "left",
          "xref": "x1",
          "y": 51,
          "yref": "y1"
         },
         {
          "align": "left",
          "font": {
           "color": "#000000"
          },
          "showarrow": false,
          "text": "Community",
          "x": 0.55,
          "xanchor": "left",
          "xref": "x1",
          "y": 51,
          "yref": "y1"
         },
         {
          "align": "left",
          "font": {
           "color": "#000000"
          },
          "showarrow": false,
          "text": "73.0",
          "x": 1.55,
          "xanchor": "left",
          "xref": "x1",
          "y": 51,
          "yref": "y1"
         },
         {
          "align": "left",
          "font": {
           "color": "#000000"
          },
          "showarrow": false,
          "text": "Mozilla Location Service (MLS) / Stumbler",
          "x": -0.45,
          "xanchor": "left",
          "xref": "x1",
          "y": 52,
          "yref": "y1"
         },
         {
          "align": "left",
          "font": {
           "color": "#000000"
          },
          "showarrow": false,
          "text": "Code Sheriff",
          "x": 0.55,
          "xanchor": "left",
          "xref": "x1",
          "y": 52,
          "yref": "y1"
         },
         {
          "align": "left",
          "font": {
           "color": "#000000"
          },
          "showarrow": false,
          "text": "1.0",
          "x": 1.55,
          "xanchor": "left",
          "xref": "x1",
          "y": 52,
          "yref": "y1"
         },
         {
          "align": "left",
          "font": {
           "color": "#000000"
          },
          "showarrow": false,
          "text": "Firefox",
          "x": -0.45,
          "xanchor": "left",
          "xref": "x1",
          "y": 53,
          "yref": "y1"
         },
         {
          "align": "left",
          "font": {
           "color": "#000000"
          },
          "showarrow": false,
          "text": "Mozilla Staff",
          "x": 0.55,
          "xanchor": "left",
          "xref": "x1",
          "y": 53,
          "yref": "y1"
         },
         {
          "align": "left",
          "font": {
           "color": "#000000"
          },
          "showarrow": false,
          "text": "20.0",
          "x": 1.55,
          "xanchor": "left",
          "xref": "x1",
          "y": 53,
          "yref": "y1"
         },
         {
          "align": "left",
          "font": {
           "color": "#000000"
          },
          "showarrow": false,
          "text": "Firefox",
          "x": -0.45,
          "xanchor": "left",
          "xref": "x1",
          "y": 54,
          "yref": "y1"
         },
         {
          "align": "left",
          "font": {
           "color": "#000000"
          },
          "showarrow": false,
          "text": "Community",
          "x": 0.55,
          "xanchor": "left",
          "xref": "x1",
          "y": 54,
          "yref": "y1"
         },
         {
          "align": "left",
          "font": {
           "color": "#000000"
          },
          "showarrow": false,
          "text": "7.0",
          "x": 1.55,
          "xanchor": "left",
          "xref": "x1",
          "y": 54,
          "yref": "y1"
         },
         {
          "align": "left",
          "font": {
           "color": "#000000"
          },
          "showarrow": false,
          "text": "Advocacy and policy",
          "x": -0.45,
          "xanchor": "left",
          "xref": "x1",
          "y": 55,
          "yref": "y1"
         },
         {
          "align": "left",
          "font": {
           "color": "#000000"
          },
          "showarrow": false,
          "text": "Mozilla Staff",
          "x": 0.55,
          "xanchor": "left",
          "xref": "x1",
          "y": 55,
          "yref": "y1"
         },
         {
          "align": "left",
          "font": {
           "color": "#000000"
          },
          "showarrow": false,
          "text": "33.0",
          "x": 1.55,
          "xanchor": "left",
          "xref": "x1",
          "y": 55,
          "yref": "y1"
         },
         {
          "align": "left",
          "font": {
           "color": "#000000"
          },
          "showarrow": false,
          "text": "Advocacy and policy",
          "x": -0.45,
          "xanchor": "left",
          "xref": "x1",
          "y": 56,
          "yref": "y1"
         },
         {
          "align": "left",
          "font": {
           "color": "#000000"
          },
          "showarrow": false,
          "text": "Community",
          "x": 0.55,
          "xanchor": "left",
          "xref": "x1",
          "y": 56,
          "yref": "y1"
         },
         {
          "align": "left",
          "font": {
           "color": "#000000"
          },
          "showarrow": false,
          "text": "38.0",
          "x": 1.55,
          "xanchor": "left",
          "xref": "x1",
          "y": 56,
          "yref": "y1"
         },
         {
          "align": "left",
          "font": {
           "color": "#000000"
          },
          "showarrow": false,
          "text": "Advocacy and policy",
          "x": -0.45,
          "xanchor": "left",
          "xref": "x1",
          "y": 57,
          "yref": "y1"
         },
         {
          "align": "left",
          "font": {
           "color": "#000000"
          },
          "showarrow": false,
          "text": "Code Sheriff",
          "x": 0.55,
          "xanchor": "left",
          "xref": "x1",
          "y": 57,
          "yref": "y1"
         },
         {
          "align": "left",
          "font": {
           "color": "#000000"
          },
          "showarrow": false,
          "text": "1.0",
          "x": 1.55,
          "xanchor": "left",
          "xref": "x1",
          "y": 57,
          "yref": "y1"
         },
         {
          "align": "left",
          "font": {
           "color": "#000000"
          },
          "showarrow": false,
          "text": "Mozilla Foundation",
          "x": -0.45,
          "xanchor": "left",
          "xref": "x1",
          "y": 58,
          "yref": "y1"
         },
         {
          "align": "left",
          "font": {
           "color": "#000000"
          },
          "showarrow": false,
          "text": "Mozilla Staff",
          "x": 0.55,
          "xanchor": "left",
          "xref": "x1",
          "y": 58,
          "yref": "y1"
         },
         {
          "align": "left",
          "font": {
           "color": "#000000"
          },
          "showarrow": false,
          "text": "30.0",
          "x": 1.55,
          "xanchor": "left",
          "xref": "x1",
          "y": 58,
          "yref": "y1"
         },
         {
          "align": "left",
          "font": {
           "color": "#000000"
          },
          "showarrow": false,
          "text": "Mozilla Foundation",
          "x": -0.45,
          "xanchor": "left",
          "xref": "x1",
          "y": 59,
          "yref": "y1"
         },
         {
          "align": "left",
          "font": {
           "color": "#000000"
          },
          "showarrow": false,
          "text": "Community",
          "x": 0.55,
          "xanchor": "left",
          "xref": "x1",
          "y": 59,
          "yref": "y1"
         },
         {
          "align": "left",
          "font": {
           "color": "#000000"
          },
          "showarrow": false,
          "text": "85.0",
          "x": 1.55,
          "xanchor": "left",
          "xref": "x1",
          "y": 59,
          "yref": "y1"
         },
         {
          "align": "left",
          "font": {
           "color": "#000000"
          },
          "showarrow": false,
          "text": "Firefox Focus",
          "x": -0.45,
          "xanchor": "left",
          "xref": "x1",
          "y": 60,
          "yref": "y1"
         },
         {
          "align": "left",
          "font": {
           "color": "#000000"
          },
          "showarrow": false,
          "text": "Mozilla Staff",
          "x": 0.55,
          "xanchor": "left",
          "xref": "x1",
          "y": 60,
          "yref": "y1"
         },
         {
          "align": "left",
          "font": {
           "color": "#000000"
          },
          "showarrow": false,
          "text": "10.0",
          "x": 1.55,
          "xanchor": "left",
          "xref": "x1",
          "y": 60,
          "yref": "y1"
         },
         {
          "align": "left",
          "font": {
           "color": "#000000"
          },
          "showarrow": false,
          "text": "Firefox Focus",
          "x": -0.45,
          "xanchor": "left",
          "xref": "x1",
          "y": 61,
          "yref": "y1"
         },
         {
          "align": "left",
          "font": {
           "color": "#000000"
          },
          "showarrow": false,
          "text": "Community",
          "x": 0.55,
          "xanchor": "left",
          "xref": "x1",
          "y": 61,
          "yref": "y1"
         },
         {
          "align": "left",
          "font": {
           "color": "#000000"
          },
          "showarrow": false,
          "text": "7.0",
          "x": 1.55,
          "xanchor": "left",
          "xref": "x1",
          "y": 61,
          "yref": "y1"
         },
         {
          "align": "left",
          "font": {
           "color": "#000000"
          },
          "showarrow": false,
          "text": "Technical/Developer Evangelism",
          "x": -0.45,
          "xanchor": "left",
          "xref": "x1",
          "y": 62,
          "yref": "y1"
         },
         {
          "align": "left",
          "font": {
           "color": "#000000"
          },
          "showarrow": false,
          "text": "Mozilla Staff",
          "x": 0.55,
          "xanchor": "left",
          "xref": "x1",
          "y": 62,
          "yref": "y1"
         },
         {
          "align": "left",
          "font": {
           "color": "#000000"
          },
          "showarrow": false,
          "text": "14.0",
          "x": 1.55,
          "xanchor": "left",
          "xref": "x1",
          "y": 62,
          "yref": "y1"
         },
         {
          "align": "left",
          "font": {
           "color": "#000000"
          },
          "showarrow": false,
          "text": "Technical/Developer Evangelism",
          "x": -0.45,
          "xanchor": "left",
          "xref": "x1",
          "y": 63,
          "yref": "y1"
         },
         {
          "align": "left",
          "font": {
           "color": "#000000"
          },
          "showarrow": false,
          "text": "Community",
          "x": 0.55,
          "xanchor": "left",
          "xref": "x1",
          "y": 63,
          "yref": "y1"
         },
         {
          "align": "left",
          "font": {
           "color": "#000000"
          },
          "showarrow": false,
          "text": "16.0",
          "x": 1.55,
          "xanchor": "left",
          "xref": "x1",
          "y": 63,
          "yref": "y1"
         },
         {
          "align": "left",
          "font": {
           "color": "#000000"
          },
          "showarrow": false,
          "text": "Not tracked",
          "x": -0.45,
          "xanchor": "left",
          "xref": "x1",
          "y": 64,
          "yref": "y1"
         },
         {
          "align": "left",
          "font": {
           "color": "#000000"
          },
          "showarrow": false,
          "text": "Mozilla Staff",
          "x": 0.55,
          "xanchor": "left",
          "xref": "x1",
          "y": 64,
          "yref": "y1"
         },
         {
          "align": "left",
          "font": {
           "color": "#000000"
          },
          "showarrow": false,
          "text": "55.0",
          "x": 1.55,
          "xanchor": "left",
          "xref": "x1",
          "y": 64,
          "yref": "y1"
         },
         {
          "align": "left",
          "font": {
           "color": "#000000"
          },
          "showarrow": false,
          "text": "Not tracked",
          "x": -0.45,
          "xanchor": "left",
          "xref": "x1",
          "y": 65,
          "yref": "y1"
         },
         {
          "align": "left",
          "font": {
           "color": "#000000"
          },
          "showarrow": false,
          "text": "Community",
          "x": 0.55,
          "xanchor": "left",
          "xref": "x1",
          "y": 65,
          "yref": "y1"
         },
         {
          "align": "left",
          "font": {
           "color": "#000000"
          },
          "showarrow": false,
          "text": "29.0",
          "x": 1.55,
          "xanchor": "left",
          "xref": "x1",
          "y": 65,
          "yref": "y1"
         },
         {
          "align": "left",
          "font": {
           "color": "#000000"
          },
          "showarrow": false,
          "text": "Vaani",
          "x": -0.45,
          "xanchor": "left",
          "xref": "x1",
          "y": 66,
          "yref": "y1"
         },
         {
          "align": "left",
          "font": {
           "color": "#000000"
          },
          "showarrow": false,
          "text": "Mozilla Staff",
          "x": 0.55,
          "xanchor": "left",
          "xref": "x1",
          "y": 66,
          "yref": "y1"
         },
         {
          "align": "left",
          "font": {
           "color": "#000000"
          },
          "showarrow": false,
          "text": "11.0",
          "x": 1.55,
          "xanchor": "left",
          "xref": "x1",
          "y": 66,
          "yref": "y1"
         },
         {
          "align": "left",
          "font": {
           "color": "#000000"
          },
          "showarrow": false,
          "text": "Vaani",
          "x": -0.45,
          "xanchor": "left",
          "xref": "x1",
          "y": 67,
          "yref": "y1"
         },
         {
          "align": "left",
          "font": {
           "color": "#000000"
          },
          "showarrow": false,
          "text": "Community",
          "x": 0.55,
          "xanchor": "left",
          "xref": "x1",
          "y": 67,
          "yref": "y1"
         },
         {
          "align": "left",
          "font": {
           "color": "#000000"
          },
          "showarrow": false,
          "text": "1.0",
          "x": 1.55,
          "xanchor": "left",
          "xref": "x1",
          "y": 67,
          "yref": "y1"
         },
         {
          "align": "left",
          "font": {
           "color": "#000000"
          },
          "showarrow": false,
          "text": "Developer Tools",
          "x": -0.45,
          "xanchor": "left",
          "xref": "x1",
          "y": 68,
          "yref": "y1"
         },
         {
          "align": "left",
          "font": {
           "color": "#000000"
          },
          "showarrow": false,
          "text": "Mozilla Staff",
          "x": 0.55,
          "xanchor": "left",
          "xref": "x1",
          "y": 68,
          "yref": "y1"
         },
         {
          "align": "left",
          "font": {
           "color": "#000000"
          },
          "showarrow": false,
          "text": "6.0",
          "x": 1.55,
          "xanchor": "left",
          "xref": "x1",
          "y": 68,
          "yref": "y1"
         },
         {
          "align": "left",
          "font": {
           "color": "#000000"
          },
          "showarrow": false,
          "text": "Developer Tools",
          "x": -0.45,
          "xanchor": "left",
          "xref": "x1",
          "y": 69,
          "yref": "y1"
         },
         {
          "align": "left",
          "font": {
           "color": "#000000"
          },
          "showarrow": false,
          "text": "Community",
          "x": 0.55,
          "xanchor": "left",
          "xref": "x1",
          "y": 69,
          "yref": "y1"
         },
         {
          "align": "left",
          "font": {
           "color": "#000000"
          },
          "showarrow": false,
          "text": "3.0",
          "x": 1.55,
          "xanchor": "left",
          "xref": "x1",
          "y": 69,
          "yref": "y1"
         },
         {
          "align": "left",
          "font": {
           "color": "#000000"
          },
          "showarrow": false,
          "text": "Deep Speech",
          "x": -0.45,
          "xanchor": "left",
          "xref": "x1",
          "y": 70,
          "yref": "y1"
         },
         {
          "align": "left",
          "font": {
           "color": "#000000"
          },
          "showarrow": false,
          "text": "Mozilla Staff",
          "x": 0.55,
          "xanchor": "left",
          "xref": "x1",
          "y": 70,
          "yref": "y1"
         },
         {
          "align": "left",
          "font": {
           "color": "#000000"
          },
          "showarrow": false,
          "text": "7.0",
          "x": 1.55,
          "xanchor": "left",
          "xref": "x1",
          "y": 70,
          "yref": "y1"
         },
         {
          "align": "left",
          "font": {
           "color": "#000000"
          },
          "showarrow": false,
          "text": "Deep Speech",
          "x": -0.45,
          "xanchor": "left",
          "xref": "x1",
          "y": 71,
          "yref": "y1"
         },
         {
          "align": "left",
          "font": {
           "color": "#000000"
          },
          "showarrow": false,
          "text": "Community",
          "x": 0.55,
          "xanchor": "left",
          "xref": "x1",
          "y": 71,
          "yref": "y1"
         },
         {
          "align": "left",
          "font": {
           "color": "#000000"
          },
          "showarrow": false,
          "text": "8.0",
          "x": 1.55,
          "xanchor": "left",
          "xref": "x1",
          "y": 71,
          "yref": "y1"
         },
         {
          "align": "left",
          "font": {
           "color": "#000000"
          },
          "showarrow": false,
          "text": "Connected devices & IoT",
          "x": -0.45,
          "xanchor": "left",
          "xref": "x1",
          "y": 72,
          "yref": "y1"
         },
         {
          "align": "left",
          "font": {
           "color": "#000000"
          },
          "showarrow": false,
          "text": "Community",
          "x": 0.55,
          "xanchor": "left",
          "xref": "x1",
          "y": 72,
          "yref": "y1"
         },
         {
          "align": "left",
          "font": {
           "color": "#000000"
          },
          "showarrow": false,
          "text": "6.0",
          "x": 1.55,
          "xanchor": "left",
          "xref": "x1",
          "y": 72,
          "yref": "y1"
         },
         {
          "align": "left",
          "font": {
           "color": "#000000"
          },
          "showarrow": false,
          "text": "Connected devices & IoT",
          "x": -0.45,
          "xanchor": "left",
          "xref": "x1",
          "y": 73,
          "yref": "y1"
         },
         {
          "align": "left",
          "font": {
           "color": "#000000"
          },
          "showarrow": false,
          "text": "Mozilla Staff",
          "x": 0.55,
          "xanchor": "left",
          "xref": "x1",
          "y": 73,
          "yref": "y1"
         },
         {
          "align": "left",
          "font": {
           "color": "#000000"
          },
          "showarrow": false,
          "text": "3.0",
          "x": 1.55,
          "xanchor": "left",
          "xref": "x1",
          "y": 73,
          "yref": "y1"
         },
         {
          "align": "left",
          "font": {
           "color": "#000000"
          },
          "showarrow": false,
          "text": "Mozilla Clubs",
          "x": -0.45,
          "xanchor": "left",
          "xref": "x1",
          "y": 74,
          "yref": "y1"
         },
         {
          "align": "left",
          "font": {
           "color": "#000000"
          },
          "showarrow": false,
          "text": "Mozilla Staff",
          "x": 0.55,
          "xanchor": "left",
          "xref": "x1",
          "y": 74,
          "yref": "y1"
         },
         {
          "align": "left",
          "font": {
           "color": "#000000"
          },
          "showarrow": false,
          "text": "6.0",
          "x": 1.55,
          "xanchor": "left",
          "xref": "x1",
          "y": 74,
          "yref": "y1"
         },
         {
          "align": "left",
          "font": {
           "color": "#000000"
          },
          "showarrow": false,
          "text": "Mozilla Clubs",
          "x": -0.45,
          "xanchor": "left",
          "xref": "x1",
          "y": 75,
          "yref": "y1"
         },
         {
          "align": "left",
          "font": {
           "color": "#000000"
          },
          "showarrow": false,
          "text": "Community",
          "x": 0.55,
          "xanchor": "left",
          "xref": "x1",
          "y": 75,
          "yref": "y1"
         },
         {
          "align": "left",
          "font": {
           "color": "#000000"
          },
          "showarrow": false,
          "text": "4.0",
          "x": 1.55,
          "xanchor": "left",
          "xref": "x1",
          "y": 75,
          "yref": "y1"
         },
         {
          "align": "left",
          "font": {
           "color": "#000000"
          },
          "showarrow": false,
          "text": "Mozilla Creative & Design",
          "x": -0.45,
          "xanchor": "left",
          "xref": "x1",
          "y": 76,
          "yref": "y1"
         },
         {
          "align": "left",
          "font": {
           "color": "#000000"
          },
          "showarrow": false,
          "text": "Community",
          "x": 0.55,
          "xanchor": "left",
          "xref": "x1",
          "y": 76,
          "yref": "y1"
         },
         {
          "align": "left",
          "font": {
           "color": "#000000"
          },
          "showarrow": false,
          "text": "21.0",
          "x": 1.55,
          "xanchor": "left",
          "xref": "x1",
          "y": 76,
          "yref": "y1"
         },
         {
          "align": "left",
          "font": {
           "color": "#000000"
          },
          "showarrow": false,
          "text": "Mozilla Creative & Design",
          "x": -0.45,
          "xanchor": "left",
          "xref": "x1",
          "y": 77,
          "yref": "y1"
         },
         {
          "align": "left",
          "font": {
           "color": "#000000"
          },
          "showarrow": false,
          "text": "Mozilla Staff",
          "x": 0.55,
          "xanchor": "left",
          "xref": "x1",
          "y": 77,
          "yref": "y1"
         },
         {
          "align": "left",
          "font": {
           "color": "#000000"
          },
          "showarrow": false,
          "text": "10.0",
          "x": 1.55,
          "xanchor": "left",
          "xref": "x1",
          "y": 77,
          "yref": "y1"
         },
         {
          "align": "left",
          "font": {
           "color": "#000000"
          },
          "showarrow": false,
          "text": "Campus Clubs (previously Student Ambassadors)",
          "x": -0.45,
          "xanchor": "left",
          "xref": "x1",
          "y": 78,
          "yref": "y1"
         },
         {
          "align": "left",
          "font": {
           "color": "#000000"
          },
          "showarrow": false,
          "text": "Mozilla Staff",
          "x": 0.55,
          "xanchor": "left",
          "xref": "x1",
          "y": 78,
          "yref": "y1"
         },
         {
          "align": "left",
          "font": {
           "color": "#000000"
          },
          "showarrow": false,
          "text": "5.0",
          "x": 1.55,
          "xanchor": "left",
          "xref": "x1",
          "y": 78,
          "yref": "y1"
         },
         {
          "align": "left",
          "font": {
           "color": "#000000"
          },
          "showarrow": false,
          "text": "Campus Clubs (previously Student Ambassadors)",
          "x": -0.45,
          "xanchor": "left",
          "xref": "x1",
          "y": 79,
          "yref": "y1"
         },
         {
          "align": "left",
          "font": {
           "color": "#000000"
          },
          "showarrow": false,
          "text": "Community",
          "x": 0.55,
          "xanchor": "left",
          "xref": "x1",
          "y": 79,
          "yref": "y1"
         },
         {
          "align": "left",
          "font": {
           "color": "#000000"
          },
          "showarrow": false,
          "text": "1.0",
          "x": 1.55,
          "xanchor": "left",
          "xref": "x1",
          "y": 79,
          "yref": "y1"
         },
         {
          "align": "left",
          "font": {
           "color": "#000000"
          },
          "showarrow": false,
          "text": "Firefox Android",
          "x": -0.45,
          "xanchor": "left",
          "xref": "x1",
          "y": 80,
          "yref": "y1"
         },
         {
          "align": "left",
          "font": {
           "color": "#000000"
          },
          "showarrow": false,
          "text": "Mozilla Staff",
          "x": 0.55,
          "xanchor": "left",
          "xref": "x1",
          "y": 80,
          "yref": "y1"
         },
         {
          "align": "left",
          "font": {
           "color": "#000000"
          },
          "showarrow": false,
          "text": "3.0",
          "x": 1.55,
          "xanchor": "left",
          "xref": "x1",
          "y": 80,
          "yref": "y1"
         },
         {
          "align": "left",
          "font": {
           "color": "#000000"
          },
          "showarrow": false,
          "text": "Firefox Android",
          "x": -0.45,
          "xanchor": "left",
          "xref": "x1",
          "y": 81,
          "yref": "y1"
         },
         {
          "align": "left",
          "font": {
           "color": "#000000"
          },
          "showarrow": false,
          "text": "Community",
          "x": 0.55,
          "xanchor": "left",
          "xref": "x1",
          "y": 81,
          "yref": "y1"
         },
         {
          "align": "left",
          "font": {
           "color": "#000000"
          },
          "showarrow": false,
          "text": "1.0",
          "x": 1.55,
          "xanchor": "left",
          "xref": "x1",
          "y": 81,
          "yref": "y1"
         }
        ],
        "height": 2510,
        "margin": {
         "b": 0,
         "l": 0,
         "r": 0,
         "t": 0
        },
        "xaxis": {
         "dtick": 1,
         "gridwidth": 2,
         "showticklabels": false,
         "tick0": -0.5,
         "ticks": "",
         "zeroline": false
        },
        "yaxis": {
         "autorange": "reversed",
         "dtick": 1,
         "gridwidth": 2,
         "showticklabels": false,
         "tick0": 0.5,
         "ticks": "",
         "zeroline": false
        }
       }
      },
      "text/html": [
       "<div id=\"c9f6fa03-baf7-455b-9ba7-1a5f081d2a44\" style=\"height: 2510px; width: 100%;\" class=\"plotly-graph-div\"></div><script type=\"text/javascript\">require([\"plotly\"], function(Plotly) { window.PLOTLYENV=window.PLOTLYENV || {};window.PLOTLYENV.BASE_URL=\"https://plot.ly\";Plotly.newPlot(\"c9f6fa03-baf7-455b-9ba7-1a5f081d2a44\", [{\"showscale\": false, \"hoverinfo\": \"none\", \"z\": [[0, 0, 0], [0.5, 0.5, 0.5], [1, 1, 1], [0.5, 0.5, 0.5], [1, 1, 1], [0.5, 0.5, 0.5], [1, 1, 1], [0.5, 0.5, 0.5], [1, 1, 1], [0.5, 0.5, 0.5], [1, 1, 1], [0.5, 0.5, 0.5], [1, 1, 1], [0.5, 0.5, 0.5], [1, 1, 1], [0.5, 0.5, 0.5], [1, 1, 1], [0.5, 0.5, 0.5], [1, 1, 1], [0.5, 0.5, 0.5], [1, 1, 1], [0.5, 0.5, 0.5], [1, 1, 1], [0.5, 0.5, 0.5], [1, 1, 1], [0.5, 0.5, 0.5], [1, 1, 1], [0.5, 0.5, 0.5], [1, 1, 1], [0.5, 0.5, 0.5], [1, 1, 1], [0.5, 0.5, 0.5], [1, 1, 1], [0.5, 0.5, 0.5], [1, 1, 1], [0.5, 0.5, 0.5], [1, 1, 1], [0.5, 0.5, 0.5], [1, 1, 1], [0.5, 0.5, 0.5], [1, 1, 1], [0.5, 0.5, 0.5], [1, 1, 1], [0.5, 0.5, 0.5], [1, 1, 1], [0.5, 0.5, 0.5], [1, 1, 1], [0.5, 0.5, 0.5], [1, 1, 1], [0.5, 0.5, 0.5], [1, 1, 1], [0.5, 0.5, 0.5], [1, 1, 1], [0.5, 0.5, 0.5], [1, 1, 1], [0.5, 0.5, 0.5], [1, 1, 1], [0.5, 0.5, 0.5], [1, 1, 1], [0.5, 0.5, 0.5], [1, 1, 1], [0.5, 0.5, 0.5], [1, 1, 1], [0.5, 0.5, 0.5], [1, 1, 1], [0.5, 0.5, 0.5], [1, 1, 1], [0.5, 0.5, 0.5], [1, 1, 1], [0.5, 0.5, 0.5], [1, 1, 1], [0.5, 0.5, 0.5], [1, 1, 1], [0.5, 0.5, 0.5], [1, 1, 1], [0.5, 0.5, 0.5], [1, 1, 1], [0.5, 0.5, 0.5], [1, 1, 1], [0.5, 0.5, 0.5], [1, 1, 1], [0.5, 0.5, 0.5]], \"opacity\": 0.75, \"type\": \"heatmap\", \"colorscale\": [[0, \"#00083e\"], [0.5, \"#ededee\"], [1, \"#ffffff\"]]}], {\"xaxis\": {\"ticks\": \"\", \"gridwidth\": 2, \"zeroline\": false, \"showticklabels\": false, \"dtick\": 1, \"tick0\": -0.5}, \"margin\": {\"r\": 0, \"b\": 0, \"l\": 0, \"t\": 0}, \"height\": 2510, \"yaxis\": {\"autorange\": \"reversed\", \"ticks\": \"\", \"gridwidth\": 2, \"zeroline\": false, \"showticklabels\": false, \"dtick\": 1, \"tick0\": 0.5}, \"annotations\": [{\"x\": -0.45, \"xref\": \"x1\", \"yref\": \"y1\", \"text\": \"<b>Project</b>\", \"showarrow\": false, \"xanchor\": \"left\", \"font\": {\"color\": \"#ffffff\"}, \"y\": 0, \"align\": \"left\"}, {\"x\": 0.55, \"xref\": \"x1\", \"yref\": \"y1\", \"text\": \"<b>Org</b>\", \"showarrow\": false, \"xanchor\": \"left\", \"font\": {\"color\": \"#ffffff\"}, \"y\": 0, \"align\": \"left\"}, {\"x\": 1.55, \"xref\": \"x1\", \"yref\": \"y1\", \"text\": \"<b>Authors</b>\", \"showarrow\": false, \"xanchor\": \"left\", \"font\": {\"color\": \"#ffffff\"}, \"y\": 0, \"align\": \"left\"}, {\"x\": -0.45, \"xref\": \"x1\", \"yref\": \"y1\", \"text\": \"Unknown\", \"showarrow\": false, \"xanchor\": \"left\", \"font\": {\"color\": \"#000000\"}, \"y\": 1, \"align\": \"left\"}, {\"x\": 0.55, \"xref\": \"x1\", \"yref\": \"y1\", \"text\": \"Mozilla Staff\", \"showarrow\": false, \"xanchor\": \"left\", \"font\": {\"color\": \"#000000\"}, \"y\": 1, \"align\": \"left\"}, {\"x\": 1.55, \"xref\": \"x1\", \"yref\": \"y1\", \"text\": \"1784.0\", \"showarrow\": false, \"xanchor\": \"left\", \"font\": {\"color\": \"#000000\"}, \"y\": 1, \"align\": \"left\"}, {\"x\": -0.45, \"xref\": \"x1\", \"yref\": \"y1\", \"text\": \"Unknown\", \"showarrow\": false, \"xanchor\": \"left\", \"font\": {\"color\": \"#000000\"}, \"y\": 2, \"align\": \"left\"}, {\"x\": 0.55, \"xref\": \"x1\", \"yref\": \"y1\", \"text\": \"Community\", \"showarrow\": false, \"xanchor\": \"left\", \"font\": {\"color\": \"#000000\"}, \"y\": 2, \"align\": \"left\"}, {\"x\": 1.55, \"xref\": \"x1\", \"yref\": \"y1\", \"text\": \"7237.0\", \"showarrow\": false, \"xanchor\": \"left\", \"font\": {\"color\": \"#000000\"}, \"y\": 2, \"align\": \"left\"}, {\"x\": -0.45, \"xref\": \"x1\", \"yref\": \"y1\", \"text\": \"Unknown\", \"showarrow\": false, \"xanchor\": \"left\", \"font\": {\"color\": \"#000000\"}, \"y\": 3, \"align\": \"left\"}, {\"x\": 0.55, \"xref\": \"x1\", \"yref\": \"y1\", \"text\": \"Code Sheriff\", \"showarrow\": false, \"xanchor\": \"left\", \"font\": {\"color\": \"#000000\"}, \"y\": 3, \"align\": \"left\"}, {\"x\": 1.55, \"xref\": \"x1\", \"yref\": \"y1\", \"text\": \"8.0\", \"showarrow\": false, \"xanchor\": \"left\", \"font\": {\"color\": \"#000000\"}, \"y\": 3, \"align\": \"left\"}, {\"x\": -0.45, \"xref\": \"x1\", \"yref\": \"y1\", \"text\": \"Gecko\", \"showarrow\": false, \"xanchor\": \"left\", \"font\": {\"color\": \"#000000\"}, \"y\": 4, \"align\": \"left\"}, {\"x\": 0.55, \"xref\": \"x1\", \"yref\": \"y1\", \"text\": \"Mozilla Staff\", \"showarrow\": false, \"xanchor\": \"left\", \"font\": {\"color\": \"#000000\"}, \"y\": 4, \"align\": \"left\"}, {\"x\": 1.55, \"xref\": \"x1\", \"yref\": \"y1\", \"text\": \"1378.0\", \"showarrow\": false, \"xanchor\": \"left\", \"font\": {\"color\": \"#000000\"}, \"y\": 4, \"align\": \"left\"}, {\"x\": -0.45, \"xref\": \"x1\", \"yref\": \"y1\", \"text\": \"Gecko\", \"showarrow\": false, \"xanchor\": \"left\", \"font\": {\"color\": \"#000000\"}, \"y\": 5, \"align\": \"left\"}, {\"x\": 0.55, \"xref\": \"x1\", \"yref\": \"y1\", \"text\": \"Community\", \"showarrow\": false, \"xanchor\": \"left\", \"font\": {\"color\": \"#000000\"}, \"y\": 5, \"align\": \"left\"}, {\"x\": 1.55, \"xref\": \"x1\", \"yref\": \"y1\", \"text\": \"3974.0\", \"showarrow\": false, \"xanchor\": \"left\", \"font\": {\"color\": \"#000000\"}, \"y\": 5, \"align\": \"left\"}, {\"x\": -0.45, \"xref\": \"x1\", \"yref\": \"y1\", \"text\": \"Gecko\", \"showarrow\": false, \"xanchor\": \"left\", \"font\": {\"color\": \"#000000\"}, \"y\": 6, \"align\": \"left\"}, {\"x\": 0.55, \"xref\": \"x1\", \"yref\": \"y1\", \"text\": \"Code Sheriff\", \"showarrow\": false, \"xanchor\": \"left\", \"font\": {\"color\": \"#000000\"}, \"y\": 6, \"align\": \"left\"}, {\"x\": 1.55, \"xref\": \"x1\", \"yref\": \"y1\", \"text\": \"8.0\", \"showarrow\": false, \"xanchor\": \"left\", \"font\": {\"color\": \"#000000\"}, \"y\": 6, \"align\": \"left\"}, {\"x\": -0.45, \"xref\": \"x1\", \"yref\": \"y1\", \"text\": \"IT/Ops\", \"showarrow\": false, \"xanchor\": \"left\", \"font\": {\"color\": \"#000000\"}, \"y\": 7, \"align\": \"left\"}, {\"x\": 0.55, \"xref\": \"x1\", \"yref\": \"y1\", \"text\": \"Mozilla Staff\", \"showarrow\": false, \"xanchor\": \"left\", \"font\": {\"color\": \"#000000\"}, \"y\": 7, \"align\": \"left\"}, {\"x\": 1.55, \"xref\": \"x1\", \"yref\": \"y1\", \"text\": \"787.0\", \"showarrow\": false, \"xanchor\": \"left\", \"font\": {\"color\": \"#000000\"}, \"y\": 7, \"align\": \"left\"}, {\"x\": -0.45, \"xref\": \"x1\", \"yref\": \"y1\", \"text\": \"IT/Ops\", \"showarrow\": false, \"xanchor\": \"left\", \"font\": {\"color\": \"#000000\"}, \"y\": 8, \"align\": \"left\"}, {\"x\": 0.55, \"xref\": \"x1\", \"yref\": \"y1\", \"text\": \"Community\", \"showarrow\": false, \"xanchor\": \"left\", \"font\": {\"color\": \"#000000\"}, \"y\": 8, \"align\": \"left\"}, {\"x\": 1.55, \"xref\": \"x1\", \"yref\": \"y1\", \"text\": \"1469.0\", \"showarrow\": false, \"xanchor\": \"left\", \"font\": {\"color\": \"#000000\"}, \"y\": 8, \"align\": \"left\"}, {\"x\": -0.45, \"xref\": \"x1\", \"yref\": \"y1\", \"text\": \"IT/Ops\", \"showarrow\": false, \"xanchor\": \"left\", \"font\": {\"color\": \"#000000\"}, \"y\": 9, \"align\": \"left\"}, {\"x\": 0.55, \"xref\": \"x1\", \"yref\": \"y1\", \"text\": \"Code Sheriff\", \"showarrow\": false, \"xanchor\": \"left\", \"font\": {\"color\": \"#000000\"}, \"y\": 9, \"align\": \"left\"}, {\"x\": 1.55, \"xref\": \"x1\", \"yref\": \"y1\", \"text\": \"6.0\", \"showarrow\": false, \"xanchor\": \"left\", \"font\": {\"color\": \"#000000\"}, \"y\": 9, \"align\": \"left\"}, {\"x\": -0.45, \"xref\": \"x1\", \"yref\": \"y1\", \"text\": \"Web Properties\", \"showarrow\": false, \"xanchor\": \"left\", \"font\": {\"color\": \"#000000\"}, \"y\": 10, \"align\": \"left\"}, {\"x\": 0.55, \"xref\": \"x1\", \"yref\": \"y1\", \"text\": \"Mozilla Staff\", \"showarrow\": false, \"xanchor\": \"left\", \"font\": {\"color\": \"#000000\"}, \"y\": 10, \"align\": \"left\"}, {\"x\": 1.55, \"xref\": \"x1\", \"yref\": \"y1\", \"text\": \"396.0\", \"showarrow\": false, \"xanchor\": \"left\", \"font\": {\"color\": \"#000000\"}, \"y\": 10, \"align\": \"left\"}, {\"x\": -0.45, \"xref\": \"x1\", \"yref\": \"y1\", \"text\": \"Web Properties\", \"showarrow\": false, \"xanchor\": \"left\", \"font\": {\"color\": \"#000000\"}, \"y\": 11, \"align\": \"left\"}, {\"x\": 0.55, \"xref\": \"x1\", \"yref\": \"y1\", \"text\": \"Community\", \"showarrow\": false, \"xanchor\": \"left\", \"font\": {\"color\": \"#000000\"}, \"y\": 11, \"align\": \"left\"}, {\"x\": 1.55, \"xref\": \"x1\", \"yref\": \"y1\", \"text\": \"942.0\", \"showarrow\": false, \"xanchor\": \"left\", \"font\": {\"color\": \"#000000\"}, \"y\": 11, \"align\": \"left\"}, {\"x\": -0.45, \"xref\": \"x1\", \"yref\": \"y1\", \"text\": \"Web Properties\", \"showarrow\": false, \"xanchor\": \"left\", \"font\": {\"color\": \"#000000\"}, \"y\": 12, \"align\": \"left\"}, {\"x\": 0.55, \"xref\": \"x1\", \"yref\": \"y1\", \"text\": \"Code Sheriff\", \"showarrow\": false, \"xanchor\": \"left\", \"font\": {\"color\": \"#000000\"}, \"y\": 12, \"align\": \"left\"}, {\"x\": 1.55, \"xref\": \"x1\", \"yref\": \"y1\", \"text\": \"4.0\", \"showarrow\": false, \"xanchor\": \"left\", \"font\": {\"color\": \"#000000\"}, \"y\": 12, \"align\": \"left\"}, {\"x\": -0.45, \"xref\": \"x1\", \"yref\": \"y1\", \"text\": \"Rust\", \"showarrow\": false, \"xanchor\": \"left\", \"font\": {\"color\": \"#000000\"}, \"y\": 13, \"align\": \"left\"}, {\"x\": 0.55, \"xref\": \"x1\", \"yref\": \"y1\", \"text\": \"Mozilla Staff\", \"showarrow\": false, \"xanchor\": \"left\", \"font\": {\"color\": \"#000000\"}, \"y\": 13, \"align\": \"left\"}, {\"x\": 1.55, \"xref\": \"x1\", \"yref\": \"y1\", \"text\": \"141.0\", \"showarrow\": false, \"xanchor\": \"left\", \"font\": {\"color\": \"#000000\"}, \"y\": 13, \"align\": \"left\"}, {\"x\": -0.45, \"xref\": \"x1\", \"yref\": \"y1\", \"text\": \"Rust\", \"showarrow\": false, \"xanchor\": \"left\", \"font\": {\"color\": \"#000000\"}, \"y\": 14, \"align\": \"left\"}, {\"x\": 0.55, \"xref\": \"x1\", \"yref\": \"y1\", \"text\": \"Community\", \"showarrow\": false, \"xanchor\": \"left\", \"font\": {\"color\": \"#000000\"}, \"y\": 14, \"align\": \"left\"}, {\"x\": 1.55, \"xref\": \"x1\", \"yref\": \"y1\", \"text\": \"2361.0\", \"showarrow\": false, \"xanchor\": \"left\", \"font\": {\"color\": \"#000000\"}, \"y\": 14, \"align\": \"left\"}, {\"x\": -0.45, \"xref\": \"x1\", \"yref\": \"y1\", \"text\": \"Rust\", \"showarrow\": false, \"xanchor\": \"left\", \"font\": {\"color\": \"#000000\"}, \"y\": 15, \"align\": \"left\"}, {\"x\": 0.55, \"xref\": \"x1\", \"yref\": \"y1\", \"text\": \"Code Sheriff\", \"showarrow\": false, \"xanchor\": \"left\", \"font\": {\"color\": \"#000000\"}, \"y\": 15, \"align\": \"left\"}, {\"x\": 1.55, \"xref\": \"x1\", \"yref\": \"y1\", \"text\": \"1.0\", \"showarrow\": false, \"xanchor\": \"left\", \"font\": {\"color\": \"#000000\"}, \"y\": 15, \"align\": \"left\"}, {\"x\": -0.45, \"xref\": \"x1\", \"yref\": \"y1\", \"text\": \"Servo\", \"showarrow\": false, \"xanchor\": \"left\", \"font\": {\"color\": \"#000000\"}, \"y\": 16, \"align\": \"left\"}, {\"x\": 0.55, \"xref\": \"x1\", \"yref\": \"y1\", \"text\": \"Community\", \"showarrow\": false, \"xanchor\": \"left\", \"font\": {\"color\": \"#000000\"}, \"y\": 16, \"align\": \"left\"}, {\"x\": 1.55, \"xref\": \"x1\", \"yref\": \"y1\", \"text\": \"1241.0\", \"showarrow\": false, \"xanchor\": \"left\", \"font\": {\"color\": \"#000000\"}, \"y\": 16, \"align\": \"left\"}, {\"x\": -0.45, \"xref\": \"x1\", \"yref\": \"y1\", \"text\": \"Servo\", \"showarrow\": false, \"xanchor\": \"left\", \"font\": {\"color\": \"#000000\"}, \"y\": 17, \"align\": \"left\"}, {\"x\": 0.55, \"xref\": \"x1\", \"yref\": \"y1\", \"text\": \"Mozilla Staff\", \"showarrow\": false, \"xanchor\": \"left\", \"font\": {\"color\": \"#000000\"}, \"y\": 17, \"align\": \"left\"}, {\"x\": 1.55, \"xref\": \"x1\", \"yref\": \"y1\", \"text\": \"198.0\", \"showarrow\": false, \"xanchor\": \"left\", \"font\": {\"color\": \"#000000\"}, \"y\": 17, \"align\": \"left\"}, {\"x\": -0.45, \"xref\": \"x1\", \"yref\": \"y1\", \"text\": \"Servo\", \"showarrow\": false, \"xanchor\": \"left\", \"font\": {\"color\": \"#000000\"}, \"y\": 18, \"align\": \"left\"}, {\"x\": 0.55, \"xref\": \"x1\", \"yref\": \"y1\", \"text\": \"Code Sheriff\", \"showarrow\": false, \"xanchor\": \"left\", \"font\": {\"color\": \"#000000\"}, \"y\": 18, \"align\": \"left\"}, {\"x\": 1.55, \"xref\": \"x1\", \"yref\": \"y1\", \"text\": \"1.0\", \"showarrow\": false, \"xanchor\": \"left\", \"font\": {\"color\": \"#000000\"}, \"y\": 18, \"align\": \"left\"}, {\"x\": -0.45, \"xref\": \"x1\", \"yref\": \"y1\", \"text\": \"Addons/Web Extensions\", \"showarrow\": false, \"xanchor\": \"left\", \"font\": {\"color\": \"#000000\"}, \"y\": 19, \"align\": \"left\"}, {\"x\": 0.55, \"xref\": \"x1\", \"yref\": \"y1\", \"text\": \"Mozilla Staff\", \"showarrow\": false, \"xanchor\": \"left\", \"font\": {\"color\": \"#000000\"}, \"y\": 19, \"align\": \"left\"}, {\"x\": 1.55, \"xref\": \"x1\", \"yref\": \"y1\", \"text\": \"284.0\", \"showarrow\": false, \"xanchor\": \"left\", \"font\": {\"color\": \"#000000\"}, \"y\": 19, \"align\": \"left\"}, {\"x\": -0.45, \"xref\": \"x1\", \"yref\": \"y1\", \"text\": \"Addons/Web Extensions\", \"showarrow\": false, \"xanchor\": \"left\", \"font\": {\"color\": \"#000000\"}, \"y\": 20, \"align\": \"left\"}, {\"x\": 0.55, \"xref\": \"x1\", \"yref\": \"y1\", \"text\": \"Community\", \"showarrow\": false, \"xanchor\": \"left\", \"font\": {\"color\": \"#000000\"}, \"y\": 20, \"align\": \"left\"}, {\"x\": 1.55, \"xref\": \"x1\", \"yref\": \"y1\", \"text\": \"361.0\", \"showarrow\": false, \"xanchor\": \"left\", \"font\": {\"color\": \"#000000\"}, \"y\": 20, \"align\": \"left\"}, {\"x\": -0.45, \"xref\": \"x1\", \"yref\": \"y1\", \"text\": \"Addons/Web Extensions\", \"showarrow\": false, \"xanchor\": \"left\", \"font\": {\"color\": \"#000000\"}, \"y\": 21, \"align\": \"left\"}, {\"x\": 0.55, \"xref\": \"x1\", \"yref\": \"y1\", \"text\": \"Code Sheriff\", \"showarrow\": false, \"xanchor\": \"left\", \"font\": {\"color\": \"#000000\"}, \"y\": 21, \"align\": \"left\"}, {\"x\": 1.55, \"xref\": \"x1\", \"yref\": \"y1\", \"text\": \"6.0\", \"showarrow\": false, \"xanchor\": \"left\", \"font\": {\"color\": \"#000000\"}, \"y\": 21, \"align\": \"left\"}, {\"x\": -0.45, \"xref\": \"x1\", \"yref\": \"y1\", \"text\": \"Mozilla Local/Regional communities\", \"showarrow\": false, \"xanchor\": \"left\", \"font\": {\"color\": \"#000000\"}, \"y\": 22, \"align\": \"left\"}, {\"x\": 0.55, \"xref\": \"x1\", \"yref\": \"y1\", \"text\": \"Community\", \"showarrow\": false, \"xanchor\": \"left\", \"font\": {\"color\": \"#000000\"}, \"y\": 22, \"align\": \"left\"}, {\"x\": 1.55, \"xref\": \"x1\", \"yref\": \"y1\", \"text\": \"395.0\", \"showarrow\": false, \"xanchor\": \"left\", \"font\": {\"color\": \"#000000\"}, \"y\": 22, \"align\": \"left\"}, {\"x\": -0.45, \"xref\": \"x1\", \"yref\": \"y1\", \"text\": \"Mozilla Local/Regional communities\", \"showarrow\": false, \"xanchor\": \"left\", \"font\": {\"color\": \"#000000\"}, \"y\": 23, \"align\": \"left\"}, {\"x\": 0.55, \"xref\": \"x1\", \"yref\": \"y1\", \"text\": \"Mozilla Staff\", \"showarrow\": false, \"xanchor\": \"left\", \"font\": {\"color\": \"#000000\"}, \"y\": 23, \"align\": \"left\"}, {\"x\": 1.55, \"xref\": \"x1\", \"yref\": \"y1\", \"text\": \"93.0\", \"showarrow\": false, \"xanchor\": \"left\", \"font\": {\"color\": \"#000000\"}, \"y\": 23, \"align\": \"left\"}, {\"x\": -0.45, \"xref\": \"x1\", \"yref\": \"y1\", \"text\": \"Mozilla Local/Regional communities\", \"showarrow\": false, \"xanchor\": \"left\", \"font\": {\"color\": \"#000000\"}, \"y\": 24, \"align\": \"left\"}, {\"x\": 0.55, \"xref\": \"x1\", \"yref\": \"y1\", \"text\": \"Code Sheriff\", \"showarrow\": false, \"xanchor\": \"left\", \"font\": {\"color\": \"#000000\"}, \"y\": 24, \"align\": \"left\"}, {\"x\": 1.55, \"xref\": \"x1\", \"yref\": \"y1\", \"text\": \"1.0\", \"showarrow\": false, \"xanchor\": \"left\", \"font\": {\"color\": \"#000000\"}, \"y\": 24, \"align\": \"left\"}, {\"x\": -0.45, \"xref\": \"x1\", \"yref\": \"y1\", \"text\": \"Release engineering\", \"showarrow\": false, \"xanchor\": \"left\", \"font\": {\"color\": \"#000000\"}, \"y\": 25, \"align\": \"left\"}, {\"x\": 0.55, \"xref\": \"x1\", \"yref\": \"y1\", \"text\": \"Mozilla Staff\", \"showarrow\": false, \"xanchor\": \"left\", \"font\": {\"color\": \"#000000\"}, \"y\": 25, \"align\": \"left\"}, {\"x\": 1.55, \"xref\": \"x1\", \"yref\": \"y1\", \"text\": \"218.0\", \"showarrow\": false, \"xanchor\": \"left\", \"font\": {\"color\": \"#000000\"}, \"y\": 25, \"align\": \"left\"}, {\"x\": -0.45, \"xref\": \"x1\", \"yref\": \"y1\", \"text\": \"Release engineering\", \"showarrow\": false, \"xanchor\": \"left\", \"font\": {\"color\": \"#000000\"}, \"y\": 26, \"align\": \"left\"}, {\"x\": 0.55, \"xref\": \"x1\", \"yref\": \"y1\", \"text\": \"Community\", \"showarrow\": false, \"xanchor\": \"left\", \"font\": {\"color\": \"#000000\"}, \"y\": 26, \"align\": \"left\"}, {\"x\": 1.55, \"xref\": \"x1\", \"yref\": \"y1\", \"text\": \"67.0\", \"showarrow\": false, \"xanchor\": \"left\", \"font\": {\"color\": \"#000000\"}, \"y\": 26, \"align\": \"left\"}, {\"x\": -0.45, \"xref\": \"x1\", \"yref\": \"y1\", \"text\": \"Release engineering\", \"showarrow\": false, \"xanchor\": \"left\", \"font\": {\"color\": \"#000000\"}, \"y\": 27, \"align\": \"left\"}, {\"x\": 0.55, \"xref\": \"x1\", \"yref\": \"y1\", \"text\": \"Code Sheriff\", \"showarrow\": false, \"xanchor\": \"left\", \"font\": {\"color\": \"#000000\"}, \"y\": 27, \"align\": \"left\"}, {\"x\": 1.55, \"xref\": \"x1\", \"yref\": \"y1\", \"text\": \"4.0\", \"showarrow\": false, \"xanchor\": \"left\", \"font\": {\"color\": \"#000000\"}, \"y\": 27, \"align\": \"left\"}, {\"x\": -0.45, \"xref\": \"x1\", \"yref\": \"y1\", \"text\": \"Web Literacy\", \"showarrow\": false, \"xanchor\": \"left\", \"font\": {\"color\": \"#000000\"}, \"y\": 28, \"align\": \"left\"}, {\"x\": 0.55, \"xref\": \"x1\", \"yref\": \"y1\", \"text\": \"Community\", \"showarrow\": false, \"xanchor\": \"left\", \"font\": {\"color\": \"#000000\"}, \"y\": 28, \"align\": \"left\"}, {\"x\": 1.55, \"xref\": \"x1\", \"yref\": \"y1\", \"text\": \"157.0\", \"showarrow\": false, \"xanchor\": \"left\", \"font\": {\"color\": \"#000000\"}, \"y\": 28, \"align\": \"left\"}, {\"x\": -0.45, \"xref\": \"x1\", \"yref\": \"y1\", \"text\": \"Web Literacy\", \"showarrow\": false, \"xanchor\": \"left\", \"font\": {\"color\": \"#000000\"}, \"y\": 29, \"align\": \"left\"}, {\"x\": 0.55, \"xref\": \"x1\", \"yref\": \"y1\", \"text\": \"Mozilla Staff\", \"showarrow\": false, \"xanchor\": \"left\", \"font\": {\"color\": \"#000000\"}, \"y\": 29, \"align\": \"left\"}, {\"x\": 1.55, \"xref\": \"x1\", \"yref\": \"y1\", \"text\": \"53.0\", \"showarrow\": false, \"xanchor\": \"left\", \"font\": {\"color\": \"#000000\"}, \"y\": 29, \"align\": \"left\"}, {\"x\": -0.45, \"xref\": \"x1\", \"yref\": \"y1\", \"text\": \"WebVR\", \"showarrow\": false, \"xanchor\": \"left\", \"font\": {\"color\": \"#000000\"}, \"y\": 30, \"align\": \"left\"}, {\"x\": 0.55, \"xref\": \"x1\", \"yref\": \"y1\", \"text\": \"Mozilla Staff\", \"showarrow\": false, \"xanchor\": \"left\", \"font\": {\"color\": \"#000000\"}, \"y\": 30, \"align\": \"left\"}, {\"x\": 1.55, \"xref\": \"x1\", \"yref\": \"y1\", \"text\": \"26.0\", \"showarrow\": false, \"xanchor\": \"left\", \"font\": {\"color\": \"#000000\"}, \"y\": 30, \"align\": \"left\"}, {\"x\": -0.45, \"xref\": \"x1\", \"yref\": \"y1\", \"text\": \"WebVR\", \"showarrow\": false, \"xanchor\": \"left\", \"font\": {\"color\": \"#000000\"}, \"y\": 31, \"align\": \"left\"}, {\"x\": 0.55, \"xref\": \"x1\", \"yref\": \"y1\", \"text\": \"Community\", \"showarrow\": false, \"xanchor\": \"left\", \"font\": {\"color\": \"#000000\"}, \"y\": 31, \"align\": \"left\"}, {\"x\": 1.55, \"xref\": \"x1\", \"yref\": \"y1\", \"text\": \"215.0\", \"showarrow\": false, \"xanchor\": \"left\", \"font\": {\"color\": \"#000000\"}, \"y\": 31, \"align\": \"left\"}, {\"x\": -0.45, \"xref\": \"x1\", \"yref\": \"y1\", \"text\": \"Firefox OS (FxOS / B2G)\", \"showarrow\": false, \"xanchor\": \"left\", \"font\": {\"color\": \"#000000\"}, \"y\": 32, \"align\": \"left\"}, {\"x\": 0.55, \"xref\": \"x1\", \"yref\": \"y1\", \"text\": \"Mozilla Staff\", \"showarrow\": false, \"xanchor\": \"left\", \"font\": {\"color\": \"#000000\"}, \"y\": 32, \"align\": \"left\"}, {\"x\": 1.55, \"xref\": \"x1\", \"yref\": \"y1\", \"text\": \"110.0\", \"showarrow\": false, \"xanchor\": \"left\", \"font\": {\"color\": \"#000000\"}, \"y\": 32, \"align\": \"left\"}, {\"x\": -0.45, \"xref\": \"x1\", \"yref\": \"y1\", \"text\": \"Firefox OS (FxOS / B2G)\", \"showarrow\": false, \"xanchor\": \"left\", \"font\": {\"color\": \"#000000\"}, \"y\": 33, \"align\": \"left\"}, {\"x\": 0.55, \"xref\": \"x1\", \"yref\": \"y1\", \"text\": \"Community\", \"showarrow\": false, \"xanchor\": \"left\", \"font\": {\"color\": \"#000000\"}, \"y\": 33, \"align\": \"left\"}, {\"x\": 1.55, \"xref\": \"x1\", \"yref\": \"y1\", \"text\": \"84.0\", \"showarrow\": false, \"xanchor\": \"left\", \"font\": {\"color\": \"#000000\"}, \"y\": 33, \"align\": \"left\"}, {\"x\": -0.45, \"xref\": \"x1\", \"yref\": \"y1\", \"text\": \"Firefox iOS\", \"showarrow\": false, \"xanchor\": \"left\", \"font\": {\"color\": \"#000000\"}, \"y\": 34, \"align\": \"left\"}, {\"x\": 0.55, \"xref\": \"x1\", \"yref\": \"y1\", \"text\": \"Mozilla Staff\", \"showarrow\": false, \"xanchor\": \"left\", \"font\": {\"color\": \"#000000\"}, \"y\": 34, \"align\": \"left\"}, {\"x\": 1.55, \"xref\": \"x1\", \"yref\": \"y1\", \"text\": \"32.0\", \"showarrow\": false, \"xanchor\": \"left\", \"font\": {\"color\": \"#000000\"}, \"y\": 34, \"align\": \"left\"}, {\"x\": -0.45, \"xref\": \"x1\", \"yref\": \"y1\", \"text\": \"Firefox iOS\", \"showarrow\": false, \"xanchor\": \"left\", \"font\": {\"color\": \"#000000\"}, \"y\": 35, \"align\": \"left\"}, {\"x\": 0.55, \"xref\": \"x1\", \"yref\": \"y1\", \"text\": \"Community\", \"showarrow\": false, \"xanchor\": \"left\", \"font\": {\"color\": \"#000000\"}, \"y\": 35, \"align\": \"left\"}, {\"x\": 1.55, \"xref\": \"x1\", \"yref\": \"y1\", \"text\": \"66.0\", \"showarrow\": false, \"xanchor\": \"left\", \"font\": {\"color\": \"#000000\"}, \"y\": 35, \"align\": \"left\"}, {\"x\": -0.45, \"xref\": \"x1\", \"yref\": \"y1\", \"text\": \"Quality Assurance\", \"showarrow\": false, \"xanchor\": \"left\", \"font\": {\"color\": \"#000000\"}, \"y\": 36, \"align\": \"left\"}, {\"x\": 0.55, \"xref\": \"x1\", \"yref\": \"y1\", \"text\": \"Mozilla Staff\", \"showarrow\": false, \"xanchor\": \"left\", \"font\": {\"color\": \"#000000\"}, \"y\": 36, \"align\": \"left\"}, {\"x\": 1.55, \"xref\": \"x1\", \"yref\": \"y1\", \"text\": \"45.0\", \"showarrow\": false, \"xanchor\": \"left\", \"font\": {\"color\": \"#000000\"}, \"y\": 36, \"align\": \"left\"}, {\"x\": -0.45, \"xref\": \"x1\", \"yref\": \"y1\", \"text\": \"Quality Assurance\", \"showarrow\": false, \"xanchor\": \"left\", \"font\": {\"color\": \"#000000\"}, \"y\": 37, \"align\": \"left\"}, {\"x\": 0.55, \"xref\": \"x1\", \"yref\": \"y1\", \"text\": \"Community\", \"showarrow\": false, \"xanchor\": \"left\", \"font\": {\"color\": \"#000000\"}, \"y\": 37, \"align\": \"left\"}, {\"x\": 1.55, \"xref\": \"x1\", \"yref\": \"y1\", \"text\": \"40.0\", \"showarrow\": false, \"xanchor\": \"left\", \"font\": {\"color\": \"#000000\"}, \"y\": 37, \"align\": \"left\"}, {\"x\": -0.45, \"xref\": \"x1\", \"yref\": \"y1\", \"text\": \"Mozilla Developer Network (MDN)\", \"showarrow\": false, \"xanchor\": \"left\", \"font\": {\"color\": \"#000000\"}, \"y\": 38, \"align\": \"left\"}, {\"x\": 0.55, \"xref\": \"x1\", \"yref\": \"y1\", \"text\": \"Mozilla Staff\", \"showarrow\": false, \"xanchor\": \"left\", \"font\": {\"color\": \"#000000\"}, \"y\": 38, \"align\": \"left\"}, {\"x\": 1.55, \"xref\": \"x1\", \"yref\": \"y1\", \"text\": \"53.0\", \"showarrow\": false, \"xanchor\": \"left\", \"font\": {\"color\": \"#000000\"}, \"y\": 38, \"align\": \"left\"}, {\"x\": -0.45, \"xref\": \"x1\", \"yref\": \"y1\", \"text\": \"Mozilla Developer Network (MDN)\", \"showarrow\": false, \"xanchor\": \"left\", \"font\": {\"color\": \"#000000\"}, \"y\": 39, \"align\": \"left\"}, {\"x\": 0.55, \"xref\": \"x1\", \"yref\": \"y1\", \"text\": \"Community\", \"showarrow\": false, \"xanchor\": \"left\", \"font\": {\"color\": \"#000000\"}, \"y\": 39, \"align\": \"left\"}, {\"x\": 1.55, \"xref\": \"x1\", \"yref\": \"y1\", \"text\": \"118.0\", \"showarrow\": false, \"xanchor\": \"left\", \"font\": {\"color\": \"#000000\"}, \"y\": 39, \"align\": \"left\"}, {\"x\": -0.45, \"xref\": \"x1\", \"yref\": \"y1\", \"text\": \"Mozilla Science\", \"showarrow\": false, \"xanchor\": \"left\", \"font\": {\"color\": \"#000000\"}, \"y\": 40, \"align\": \"left\"}, {\"x\": 0.55, \"xref\": \"x1\", \"yref\": \"y1\", \"text\": \"Community\", \"showarrow\": false, \"xanchor\": \"left\", \"font\": {\"color\": \"#000000\"}, \"y\": 40, \"align\": \"left\"}, {\"x\": 1.55, \"xref\": \"x1\", \"yref\": \"y1\", \"text\": \"100.0\", \"showarrow\": false, \"xanchor\": \"left\", \"font\": {\"color\": \"#000000\"}, \"y\": 40, \"align\": \"left\"}, {\"x\": -0.45, \"xref\": \"x1\", \"yref\": \"y1\", \"text\": \"Mozilla Science\", \"showarrow\": false, \"xanchor\": \"left\", \"font\": {\"color\": \"#000000\"}, \"y\": 41, \"align\": \"left\"}, {\"x\": 0.55, \"xref\": \"x1\", \"yref\": \"y1\", \"text\": \"Mozilla Staff\", \"showarrow\": false, \"xanchor\": \"left\", \"font\": {\"color\": \"#000000\"}, \"y\": 41, \"align\": \"left\"}, {\"x\": 1.55, \"xref\": \"x1\", \"yref\": \"y1\", \"text\": \"9.0\", \"showarrow\": false, \"xanchor\": \"left\", \"font\": {\"color\": \"#000000\"}, \"y\": 41, \"align\": \"left\"}, {\"x\": -0.45, \"xref\": \"x1\", \"yref\": \"y1\", \"text\": \"Test Pilot\", \"showarrow\": false, \"xanchor\": \"left\", \"font\": {\"color\": \"#000000\"}, \"y\": 42, \"align\": \"left\"}, {\"x\": 0.55, \"xref\": \"x1\", \"yref\": \"y1\", \"text\": \"Mozilla Staff\", \"showarrow\": false, \"xanchor\": \"left\", \"font\": {\"color\": \"#000000\"}, \"y\": 42, \"align\": \"left\"}, {\"x\": 1.55, \"xref\": \"x1\", \"yref\": \"y1\", \"text\": \"46.0\", \"showarrow\": false, \"xanchor\": \"left\", \"font\": {\"color\": \"#000000\"}, \"y\": 42, \"align\": \"left\"}, {\"x\": -0.45, \"xref\": \"x1\", \"yref\": \"y1\", \"text\": \"Test Pilot\", \"showarrow\": false, \"xanchor\": \"left\", \"font\": {\"color\": \"#000000\"}, \"y\": 43, \"align\": \"left\"}, {\"x\": 0.55, \"xref\": \"x1\", \"yref\": \"y1\", \"text\": \"Community\", \"showarrow\": false, \"xanchor\": \"left\", \"font\": {\"color\": \"#000000\"}, \"y\": 43, \"align\": \"left\"}, {\"x\": 1.55, \"xref\": \"x1\", \"yref\": \"y1\", \"text\": \"86.0\", \"showarrow\": false, \"xanchor\": \"left\", \"font\": {\"color\": \"#000000\"}, \"y\": 43, \"align\": \"left\"}, {\"x\": -0.45, \"xref\": \"x1\", \"yref\": \"y1\", \"text\": \"Test Pilot\", \"showarrow\": false, \"xanchor\": \"left\", \"font\": {\"color\": \"#000000\"}, \"y\": 44, \"align\": \"left\"}, {\"x\": 0.55, \"xref\": \"x1\", \"yref\": \"y1\", \"text\": \"Code Sheriff\", \"showarrow\": false, \"xanchor\": \"left\", \"font\": {\"color\": \"#000000\"}, \"y\": 44, \"align\": \"left\"}, {\"x\": 1.55, \"xref\": \"x1\", \"yref\": \"y1\", \"text\": \"1.0\", \"showarrow\": false, \"xanchor\": \"left\", \"font\": {\"color\": \"#000000\"}, \"y\": 44, \"align\": \"left\"}, {\"x\": -0.45, \"xref\": \"x1\", \"yref\": \"y1\", \"text\": \"Marketing / Social Media\", \"showarrow\": false, \"xanchor\": \"left\", \"font\": {\"color\": \"#000000\"}, \"y\": 45, \"align\": \"left\"}, {\"x\": 0.55, \"xref\": \"x1\", \"yref\": \"y1\", \"text\": \"Mozilla Staff\", \"showarrow\": false, \"xanchor\": \"left\", \"font\": {\"color\": \"#000000\"}, \"y\": 45, \"align\": \"left\"}, {\"x\": 1.55, \"xref\": \"x1\", \"yref\": \"y1\", \"text\": \"49.0\", \"showarrow\": false, \"xanchor\": \"left\", \"font\": {\"color\": \"#000000\"}, \"y\": 45, \"align\": \"left\"}, {\"x\": -0.45, \"xref\": \"x1\", \"yref\": \"y1\", \"text\": \"Marketing / Social Media\", \"showarrow\": false, \"xanchor\": \"left\", \"font\": {\"color\": \"#000000\"}, \"y\": 46, \"align\": \"left\"}, {\"x\": 0.55, \"xref\": \"x1\", \"yref\": \"y1\", \"text\": \"Community\", \"showarrow\": false, \"xanchor\": \"left\", \"font\": {\"color\": \"#000000\"}, \"y\": 46, \"align\": \"left\"}, {\"x\": 1.55, \"xref\": \"x1\", \"yref\": \"y1\", \"text\": \"16.0\", \"showarrow\": false, \"xanchor\": \"left\", \"font\": {\"color\": \"#000000\"}, \"y\": 46, \"align\": \"left\"}, {\"x\": -0.45, \"xref\": \"x1\", \"yref\": \"y1\", \"text\": \"Marketing / Social Media\", \"showarrow\": false, \"xanchor\": \"left\", \"font\": {\"color\": \"#000000\"}, \"y\": 47, \"align\": \"left\"}, {\"x\": 0.55, \"xref\": \"x1\", \"yref\": \"y1\", \"text\": \"Code Sheriff\", \"showarrow\": false, \"xanchor\": \"left\", \"font\": {\"color\": \"#000000\"}, \"y\": 47, \"align\": \"left\"}, {\"x\": 1.55, \"xref\": \"x1\", \"yref\": \"y1\", \"text\": \"1.0\", \"showarrow\": false, \"xanchor\": \"left\", \"font\": {\"color\": \"#000000\"}, \"y\": 47, \"align\": \"left\"}, {\"x\": -0.45, \"xref\": \"x1\", \"yref\": \"y1\", \"text\": \"Localization\", \"showarrow\": false, \"xanchor\": \"left\", \"font\": {\"color\": \"#000000\"}, \"y\": 48, \"align\": \"left\"}, {\"x\": 0.55, \"xref\": \"x1\", \"yref\": \"y1\", \"text\": \"Mozilla Staff\", \"showarrow\": false, \"xanchor\": \"left\", \"font\": {\"color\": \"#000000\"}, \"y\": 48, \"align\": \"left\"}, {\"x\": 1.55, \"xref\": \"x1\", \"yref\": \"y1\", \"text\": \"35.0\", \"showarrow\": false, \"xanchor\": \"left\", \"font\": {\"color\": \"#000000\"}, \"y\": 48, \"align\": \"left\"}, {\"x\": -0.45, \"xref\": \"x1\", \"yref\": \"y1\", \"text\": \"Localization\", \"showarrow\": false, \"xanchor\": \"left\", \"font\": {\"color\": \"#000000\"}, \"y\": 49, \"align\": \"left\"}, {\"x\": 0.55, \"xref\": \"x1\", \"yref\": \"y1\", \"text\": \"Community\", \"showarrow\": false, \"xanchor\": \"left\", \"font\": {\"color\": \"#000000\"}, \"y\": 49, \"align\": \"left\"}, {\"x\": 1.55, \"xref\": \"x1\", \"yref\": \"y1\", \"text\": \"86.0\", \"showarrow\": false, \"xanchor\": \"left\", \"font\": {\"color\": \"#000000\"}, \"y\": 49, \"align\": \"left\"}, {\"x\": -0.45, \"xref\": \"x1\", \"yref\": \"y1\", \"text\": \"Mozilla Location Service (MLS) / Stumbler\", \"showarrow\": false, \"xanchor\": \"left\", \"font\": {\"color\": \"#000000\"}, \"y\": 50, \"align\": \"left\"}, {\"x\": 0.55, \"xref\": \"x1\", \"yref\": \"y1\", \"text\": \"Mozilla Staff\", \"showarrow\": false, \"xanchor\": \"left\", \"font\": {\"color\": \"#000000\"}, \"y\": 50, \"align\": \"left\"}, {\"x\": 1.55, \"xref\": \"x1\", \"yref\": \"y1\", \"text\": \"18.0\", \"showarrow\": false, \"xanchor\": \"left\", \"font\": {\"color\": \"#000000\"}, \"y\": 50, \"align\": \"left\"}, {\"x\": -0.45, \"xref\": \"x1\", \"yref\": \"y1\", \"text\": \"Mozilla Location Service (MLS) / Stumbler\", \"showarrow\": false, \"xanchor\": \"left\", \"font\": {\"color\": \"#000000\"}, \"y\": 51, \"align\": \"left\"}, {\"x\": 0.55, \"xref\": \"x1\", \"yref\": \"y1\", \"text\": \"Community\", \"showarrow\": false, \"xanchor\": \"left\", \"font\": {\"color\": \"#000000\"}, \"y\": 51, \"align\": \"left\"}, {\"x\": 1.55, \"xref\": \"x1\", \"yref\": \"y1\", \"text\": \"73.0\", \"showarrow\": false, \"xanchor\": \"left\", \"font\": {\"color\": \"#000000\"}, \"y\": 51, \"align\": \"left\"}, {\"x\": -0.45, \"xref\": \"x1\", \"yref\": \"y1\", \"text\": \"Mozilla Location Service (MLS) / Stumbler\", \"showarrow\": false, \"xanchor\": \"left\", \"font\": {\"color\": \"#000000\"}, \"y\": 52, \"align\": \"left\"}, {\"x\": 0.55, \"xref\": \"x1\", \"yref\": \"y1\", \"text\": \"Code Sheriff\", \"showarrow\": false, \"xanchor\": \"left\", \"font\": {\"color\": \"#000000\"}, \"y\": 52, \"align\": \"left\"}, {\"x\": 1.55, \"xref\": \"x1\", \"yref\": \"y1\", \"text\": \"1.0\", \"showarrow\": false, \"xanchor\": \"left\", \"font\": {\"color\": \"#000000\"}, \"y\": 52, \"align\": \"left\"}, {\"x\": -0.45, \"xref\": \"x1\", \"yref\": \"y1\", \"text\": \"Firefox\", \"showarrow\": false, \"xanchor\": \"left\", \"font\": {\"color\": \"#000000\"}, \"y\": 53, \"align\": \"left\"}, {\"x\": 0.55, \"xref\": \"x1\", \"yref\": \"y1\", \"text\": \"Mozilla Staff\", \"showarrow\": false, \"xanchor\": \"left\", \"font\": {\"color\": \"#000000\"}, \"y\": 53, \"align\": \"left\"}, {\"x\": 1.55, \"xref\": \"x1\", \"yref\": \"y1\", \"text\": \"20.0\", \"showarrow\": false, \"xanchor\": \"left\", \"font\": {\"color\": \"#000000\"}, \"y\": 53, \"align\": \"left\"}, {\"x\": -0.45, \"xref\": \"x1\", \"yref\": \"y1\", \"text\": \"Firefox\", \"showarrow\": false, \"xanchor\": \"left\", \"font\": {\"color\": \"#000000\"}, \"y\": 54, \"align\": \"left\"}, {\"x\": 0.55, \"xref\": \"x1\", \"yref\": \"y1\", \"text\": \"Community\", \"showarrow\": false, \"xanchor\": \"left\", \"font\": {\"color\": \"#000000\"}, \"y\": 54, \"align\": \"left\"}, {\"x\": 1.55, \"xref\": \"x1\", \"yref\": \"y1\", \"text\": \"7.0\", \"showarrow\": false, \"xanchor\": \"left\", \"font\": {\"color\": \"#000000\"}, \"y\": 54, \"align\": \"left\"}, {\"x\": -0.45, \"xref\": \"x1\", \"yref\": \"y1\", \"text\": \"Advocacy and policy\", \"showarrow\": false, \"xanchor\": \"left\", \"font\": {\"color\": \"#000000\"}, \"y\": 55, \"align\": \"left\"}, {\"x\": 0.55, \"xref\": \"x1\", \"yref\": \"y1\", \"text\": \"Mozilla Staff\", \"showarrow\": false, \"xanchor\": \"left\", \"font\": {\"color\": \"#000000\"}, \"y\": 55, \"align\": \"left\"}, {\"x\": 1.55, \"xref\": \"x1\", \"yref\": \"y1\", \"text\": \"33.0\", \"showarrow\": false, \"xanchor\": \"left\", \"font\": {\"color\": \"#000000\"}, \"y\": 55, \"align\": \"left\"}, {\"x\": -0.45, \"xref\": \"x1\", \"yref\": \"y1\", \"text\": \"Advocacy and policy\", \"showarrow\": false, \"xanchor\": \"left\", \"font\": {\"color\": \"#000000\"}, \"y\": 56, \"align\": \"left\"}, {\"x\": 0.55, \"xref\": \"x1\", \"yref\": \"y1\", \"text\": \"Community\", \"showarrow\": false, \"xanchor\": \"left\", \"font\": {\"color\": \"#000000\"}, \"y\": 56, \"align\": \"left\"}, {\"x\": 1.55, \"xref\": \"x1\", \"yref\": \"y1\", \"text\": \"38.0\", \"showarrow\": false, \"xanchor\": \"left\", \"font\": {\"color\": \"#000000\"}, \"y\": 56, \"align\": \"left\"}, {\"x\": -0.45, \"xref\": \"x1\", \"yref\": \"y1\", \"text\": \"Advocacy and policy\", \"showarrow\": false, \"xanchor\": \"left\", \"font\": {\"color\": \"#000000\"}, \"y\": 57, \"align\": \"left\"}, {\"x\": 0.55, \"xref\": \"x1\", \"yref\": \"y1\", \"text\": \"Code Sheriff\", \"showarrow\": false, \"xanchor\": \"left\", \"font\": {\"color\": \"#000000\"}, \"y\": 57, \"align\": \"left\"}, {\"x\": 1.55, \"xref\": \"x1\", \"yref\": \"y1\", \"text\": \"1.0\", \"showarrow\": false, \"xanchor\": \"left\", \"font\": {\"color\": \"#000000\"}, \"y\": 57, \"align\": \"left\"}, {\"x\": -0.45, \"xref\": \"x1\", \"yref\": \"y1\", \"text\": \"Mozilla Foundation\", \"showarrow\": false, \"xanchor\": \"left\", \"font\": {\"color\": \"#000000\"}, \"y\": 58, \"align\": \"left\"}, {\"x\": 0.55, \"xref\": \"x1\", \"yref\": \"y1\", \"text\": \"Mozilla Staff\", \"showarrow\": false, \"xanchor\": \"left\", \"font\": {\"color\": \"#000000\"}, \"y\": 58, \"align\": \"left\"}, {\"x\": 1.55, \"xref\": \"x1\", \"yref\": \"y1\", \"text\": \"30.0\", \"showarrow\": false, \"xanchor\": \"left\", \"font\": {\"color\": \"#000000\"}, \"y\": 58, \"align\": \"left\"}, {\"x\": -0.45, \"xref\": \"x1\", \"yref\": \"y1\", \"text\": \"Mozilla Foundation\", \"showarrow\": false, \"xanchor\": \"left\", \"font\": {\"color\": \"#000000\"}, \"y\": 59, \"align\": \"left\"}, {\"x\": 0.55, \"xref\": \"x1\", \"yref\": \"y1\", \"text\": \"Community\", \"showarrow\": false, \"xanchor\": \"left\", \"font\": {\"color\": \"#000000\"}, \"y\": 59, \"align\": \"left\"}, {\"x\": 1.55, \"xref\": \"x1\", \"yref\": \"y1\", \"text\": \"85.0\", \"showarrow\": false, \"xanchor\": \"left\", \"font\": {\"color\": \"#000000\"}, \"y\": 59, \"align\": \"left\"}, {\"x\": -0.45, \"xref\": \"x1\", \"yref\": \"y1\", \"text\": \"Firefox Focus\", \"showarrow\": false, \"xanchor\": \"left\", \"font\": {\"color\": \"#000000\"}, \"y\": 60, \"align\": \"left\"}, {\"x\": 0.55, \"xref\": \"x1\", \"yref\": \"y1\", \"text\": \"Mozilla Staff\", \"showarrow\": false, \"xanchor\": \"left\", \"font\": {\"color\": \"#000000\"}, \"y\": 60, \"align\": \"left\"}, {\"x\": 1.55, \"xref\": \"x1\", \"yref\": \"y1\", \"text\": \"10.0\", \"showarrow\": false, \"xanchor\": \"left\", \"font\": {\"color\": \"#000000\"}, \"y\": 60, \"align\": \"left\"}, {\"x\": -0.45, \"xref\": \"x1\", \"yref\": \"y1\", \"text\": \"Firefox Focus\", \"showarrow\": false, \"xanchor\": \"left\", \"font\": {\"color\": \"#000000\"}, \"y\": 61, \"align\": \"left\"}, {\"x\": 0.55, \"xref\": \"x1\", \"yref\": \"y1\", \"text\": \"Community\", \"showarrow\": false, \"xanchor\": \"left\", \"font\": {\"color\": \"#000000\"}, \"y\": 61, \"align\": \"left\"}, {\"x\": 1.55, \"xref\": \"x1\", \"yref\": \"y1\", \"text\": \"7.0\", \"showarrow\": false, \"xanchor\": \"left\", \"font\": {\"color\": \"#000000\"}, \"y\": 61, \"align\": \"left\"}, {\"x\": -0.45, \"xref\": \"x1\", \"yref\": \"y1\", \"text\": \"Technical/Developer Evangelism\", \"showarrow\": false, \"xanchor\": \"left\", \"font\": {\"color\": \"#000000\"}, \"y\": 62, \"align\": \"left\"}, {\"x\": 0.55, \"xref\": \"x1\", \"yref\": \"y1\", \"text\": \"Mozilla Staff\", \"showarrow\": false, \"xanchor\": \"left\", \"font\": {\"color\": \"#000000\"}, \"y\": 62, \"align\": \"left\"}, {\"x\": 1.55, \"xref\": \"x1\", \"yref\": \"y1\", \"text\": \"14.0\", \"showarrow\": false, \"xanchor\": \"left\", \"font\": {\"color\": \"#000000\"}, \"y\": 62, \"align\": \"left\"}, {\"x\": -0.45, \"xref\": \"x1\", \"yref\": \"y1\", \"text\": \"Technical/Developer Evangelism\", \"showarrow\": false, \"xanchor\": \"left\", \"font\": {\"color\": \"#000000\"}, \"y\": 63, \"align\": \"left\"}, {\"x\": 0.55, \"xref\": \"x1\", \"yref\": \"y1\", \"text\": \"Community\", \"showarrow\": false, \"xanchor\": \"left\", \"font\": {\"color\": \"#000000\"}, \"y\": 63, \"align\": \"left\"}, {\"x\": 1.55, \"xref\": \"x1\", \"yref\": \"y1\", \"text\": \"16.0\", \"showarrow\": false, \"xanchor\": \"left\", \"font\": {\"color\": \"#000000\"}, \"y\": 63, \"align\": \"left\"}, {\"x\": -0.45, \"xref\": \"x1\", \"yref\": \"y1\", \"text\": \"Not tracked\", \"showarrow\": false, \"xanchor\": \"left\", \"font\": {\"color\": \"#000000\"}, \"y\": 64, \"align\": \"left\"}, {\"x\": 0.55, \"xref\": \"x1\", \"yref\": \"y1\", \"text\": \"Mozilla Staff\", \"showarrow\": false, \"xanchor\": \"left\", \"font\": {\"color\": \"#000000\"}, \"y\": 64, \"align\": \"left\"}, {\"x\": 1.55, \"xref\": \"x1\", \"yref\": \"y1\", \"text\": \"55.0\", \"showarrow\": false, \"xanchor\": \"left\", \"font\": {\"color\": \"#000000\"}, \"y\": 64, \"align\": \"left\"}, {\"x\": -0.45, \"xref\": \"x1\", \"yref\": \"y1\", \"text\": \"Not tracked\", \"showarrow\": false, \"xanchor\": \"left\", \"font\": {\"color\": \"#000000\"}, \"y\": 65, \"align\": \"left\"}, {\"x\": 0.55, \"xref\": \"x1\", \"yref\": \"y1\", \"text\": \"Community\", \"showarrow\": false, \"xanchor\": \"left\", \"font\": {\"color\": \"#000000\"}, \"y\": 65, \"align\": \"left\"}, {\"x\": 1.55, \"xref\": \"x1\", \"yref\": \"y1\", \"text\": \"29.0\", \"showarrow\": false, \"xanchor\": \"left\", \"font\": {\"color\": \"#000000\"}, \"y\": 65, \"align\": \"left\"}, {\"x\": -0.45, \"xref\": \"x1\", \"yref\": \"y1\", \"text\": \"Vaani\", \"showarrow\": false, \"xanchor\": \"left\", \"font\": {\"color\": \"#000000\"}, \"y\": 66, \"align\": \"left\"}, {\"x\": 0.55, \"xref\": \"x1\", \"yref\": \"y1\", \"text\": \"Mozilla Staff\", \"showarrow\": false, \"xanchor\": \"left\", \"font\": {\"color\": \"#000000\"}, \"y\": 66, \"align\": \"left\"}, {\"x\": 1.55, \"xref\": \"x1\", \"yref\": \"y1\", \"text\": \"11.0\", \"showarrow\": false, \"xanchor\": \"left\", \"font\": {\"color\": \"#000000\"}, \"y\": 66, \"align\": \"left\"}, {\"x\": -0.45, \"xref\": \"x1\", \"yref\": \"y1\", \"text\": \"Vaani\", \"showarrow\": false, \"xanchor\": \"left\", \"font\": {\"color\": \"#000000\"}, \"y\": 67, \"align\": \"left\"}, {\"x\": 0.55, \"xref\": \"x1\", \"yref\": \"y1\", \"text\": \"Community\", \"showarrow\": false, \"xanchor\": \"left\", \"font\": {\"color\": \"#000000\"}, \"y\": 67, \"align\": \"left\"}, {\"x\": 1.55, \"xref\": \"x1\", \"yref\": \"y1\", \"text\": \"1.0\", \"showarrow\": false, \"xanchor\": \"left\", \"font\": {\"color\": \"#000000\"}, \"y\": 67, \"align\": \"left\"}, {\"x\": -0.45, \"xref\": \"x1\", \"yref\": \"y1\", \"text\": \"Developer Tools\", \"showarrow\": false, \"xanchor\": \"left\", \"font\": {\"color\": \"#000000\"}, \"y\": 68, \"align\": \"left\"}, {\"x\": 0.55, \"xref\": \"x1\", \"yref\": \"y1\", \"text\": \"Mozilla Staff\", \"showarrow\": false, \"xanchor\": \"left\", \"font\": {\"color\": \"#000000\"}, \"y\": 68, \"align\": \"left\"}, {\"x\": 1.55, \"xref\": \"x1\", \"yref\": \"y1\", \"text\": \"6.0\", \"showarrow\": false, \"xanchor\": \"left\", \"font\": {\"color\": \"#000000\"}, \"y\": 68, \"align\": \"left\"}, {\"x\": -0.45, \"xref\": \"x1\", \"yref\": \"y1\", \"text\": \"Developer Tools\", \"showarrow\": false, \"xanchor\": \"left\", \"font\": {\"color\": \"#000000\"}, \"y\": 69, \"align\": \"left\"}, {\"x\": 0.55, \"xref\": \"x1\", \"yref\": \"y1\", \"text\": \"Community\", \"showarrow\": false, \"xanchor\": \"left\", \"font\": {\"color\": \"#000000\"}, \"y\": 69, \"align\": \"left\"}, {\"x\": 1.55, \"xref\": \"x1\", \"yref\": \"y1\", \"text\": \"3.0\", \"showarrow\": false, \"xanchor\": \"left\", \"font\": {\"color\": \"#000000\"}, \"y\": 69, \"align\": \"left\"}, {\"x\": -0.45, \"xref\": \"x1\", \"yref\": \"y1\", \"text\": \"Deep Speech\", \"showarrow\": false, \"xanchor\": \"left\", \"font\": {\"color\": \"#000000\"}, \"y\": 70, \"align\": \"left\"}, {\"x\": 0.55, \"xref\": \"x1\", \"yref\": \"y1\", \"text\": \"Mozilla Staff\", \"showarrow\": false, \"xanchor\": \"left\", \"font\": {\"color\": \"#000000\"}, \"y\": 70, \"align\": \"left\"}, {\"x\": 1.55, \"xref\": \"x1\", \"yref\": \"y1\", \"text\": \"7.0\", \"showarrow\": false, \"xanchor\": \"left\", \"font\": {\"color\": \"#000000\"}, \"y\": 70, \"align\": \"left\"}, {\"x\": -0.45, \"xref\": \"x1\", \"yref\": \"y1\", \"text\": \"Deep Speech\", \"showarrow\": false, \"xanchor\": \"left\", \"font\": {\"color\": \"#000000\"}, \"y\": 71, \"align\": \"left\"}, {\"x\": 0.55, \"xref\": \"x1\", \"yref\": \"y1\", \"text\": \"Community\", \"showarrow\": false, \"xanchor\": \"left\", \"font\": {\"color\": \"#000000\"}, \"y\": 71, \"align\": \"left\"}, {\"x\": 1.55, \"xref\": \"x1\", \"yref\": \"y1\", \"text\": \"8.0\", \"showarrow\": false, \"xanchor\": \"left\", \"font\": {\"color\": \"#000000\"}, \"y\": 71, \"align\": \"left\"}, {\"x\": -0.45, \"xref\": \"x1\", \"yref\": \"y1\", \"text\": \"Connected devices & IoT\", \"showarrow\": false, \"xanchor\": \"left\", \"font\": {\"color\": \"#000000\"}, \"y\": 72, \"align\": \"left\"}, {\"x\": 0.55, \"xref\": \"x1\", \"yref\": \"y1\", \"text\": \"Community\", \"showarrow\": false, \"xanchor\": \"left\", \"font\": {\"color\": \"#000000\"}, \"y\": 72, \"align\": \"left\"}, {\"x\": 1.55, \"xref\": \"x1\", \"yref\": \"y1\", \"text\": \"6.0\", \"showarrow\": false, \"xanchor\": \"left\", \"font\": {\"color\": \"#000000\"}, \"y\": 72, \"align\": \"left\"}, {\"x\": -0.45, \"xref\": \"x1\", \"yref\": \"y1\", \"text\": \"Connected devices & IoT\", \"showarrow\": false, \"xanchor\": \"left\", \"font\": {\"color\": \"#000000\"}, \"y\": 73, \"align\": \"left\"}, {\"x\": 0.55, \"xref\": \"x1\", \"yref\": \"y1\", \"text\": \"Mozilla Staff\", \"showarrow\": false, \"xanchor\": \"left\", \"font\": {\"color\": \"#000000\"}, \"y\": 73, \"align\": \"left\"}, {\"x\": 1.55, \"xref\": \"x1\", \"yref\": \"y1\", \"text\": \"3.0\", \"showarrow\": false, \"xanchor\": \"left\", \"font\": {\"color\": \"#000000\"}, \"y\": 73, \"align\": \"left\"}, {\"x\": -0.45, \"xref\": \"x1\", \"yref\": \"y1\", \"text\": \"Mozilla Clubs\", \"showarrow\": false, \"xanchor\": \"left\", \"font\": {\"color\": \"#000000\"}, \"y\": 74, \"align\": \"left\"}, {\"x\": 0.55, \"xref\": \"x1\", \"yref\": \"y1\", \"text\": \"Mozilla Staff\", \"showarrow\": false, \"xanchor\": \"left\", \"font\": {\"color\": \"#000000\"}, \"y\": 74, \"align\": \"left\"}, {\"x\": 1.55, \"xref\": \"x1\", \"yref\": \"y1\", \"text\": \"6.0\", \"showarrow\": false, \"xanchor\": \"left\", \"font\": {\"color\": \"#000000\"}, \"y\": 74, \"align\": \"left\"}, {\"x\": -0.45, \"xref\": \"x1\", \"yref\": \"y1\", \"text\": \"Mozilla Clubs\", \"showarrow\": false, \"xanchor\": \"left\", \"font\": {\"color\": \"#000000\"}, \"y\": 75, \"align\": \"left\"}, {\"x\": 0.55, \"xref\": \"x1\", \"yref\": \"y1\", \"text\": \"Community\", \"showarrow\": false, \"xanchor\": \"left\", \"font\": {\"color\": \"#000000\"}, \"y\": 75, \"align\": \"left\"}, {\"x\": 1.55, \"xref\": \"x1\", \"yref\": \"y1\", \"text\": \"4.0\", \"showarrow\": false, \"xanchor\": \"left\", \"font\": {\"color\": \"#000000\"}, \"y\": 75, \"align\": \"left\"}, {\"x\": -0.45, \"xref\": \"x1\", \"yref\": \"y1\", \"text\": \"Mozilla Creative & Design\", \"showarrow\": false, \"xanchor\": \"left\", \"font\": {\"color\": \"#000000\"}, \"y\": 76, \"align\": \"left\"}, {\"x\": 0.55, \"xref\": \"x1\", \"yref\": \"y1\", \"text\": \"Community\", \"showarrow\": false, \"xanchor\": \"left\", \"font\": {\"color\": \"#000000\"}, \"y\": 76, \"align\": \"left\"}, {\"x\": 1.55, \"xref\": \"x1\", \"yref\": \"y1\", \"text\": \"21.0\", \"showarrow\": false, \"xanchor\": \"left\", \"font\": {\"color\": \"#000000\"}, \"y\": 76, \"align\": \"left\"}, {\"x\": -0.45, \"xref\": \"x1\", \"yref\": \"y1\", \"text\": \"Mozilla Creative & Design\", \"showarrow\": false, \"xanchor\": \"left\", \"font\": {\"color\": \"#000000\"}, \"y\": 77, \"align\": \"left\"}, {\"x\": 0.55, \"xref\": \"x1\", \"yref\": \"y1\", \"text\": \"Mozilla Staff\", \"showarrow\": false, \"xanchor\": \"left\", \"font\": {\"color\": \"#000000\"}, \"y\": 77, \"align\": \"left\"}, {\"x\": 1.55, \"xref\": \"x1\", \"yref\": \"y1\", \"text\": \"10.0\", \"showarrow\": false, \"xanchor\": \"left\", \"font\": {\"color\": \"#000000\"}, \"y\": 77, \"align\": \"left\"}, {\"x\": -0.45, \"xref\": \"x1\", \"yref\": \"y1\", \"text\": \"Campus Clubs (previously Student Ambassadors)\", \"showarrow\": false, \"xanchor\": \"left\", \"font\": {\"color\": \"#000000\"}, \"y\": 78, \"align\": \"left\"}, {\"x\": 0.55, \"xref\": \"x1\", \"yref\": \"y1\", \"text\": \"Mozilla Staff\", \"showarrow\": false, \"xanchor\": \"left\", \"font\": {\"color\": \"#000000\"}, \"y\": 78, \"align\": \"left\"}, {\"x\": 1.55, \"xref\": \"x1\", \"yref\": \"y1\", \"text\": \"5.0\", \"showarrow\": false, \"xanchor\": \"left\", \"font\": {\"color\": \"#000000\"}, \"y\": 78, \"align\": \"left\"}, {\"x\": -0.45, \"xref\": \"x1\", \"yref\": \"y1\", \"text\": \"Campus Clubs (previously Student Ambassadors)\", \"showarrow\": false, \"xanchor\": \"left\", \"font\": {\"color\": \"#000000\"}, \"y\": 79, \"align\": \"left\"}, {\"x\": 0.55, \"xref\": \"x1\", \"yref\": \"y1\", \"text\": \"Community\", \"showarrow\": false, \"xanchor\": \"left\", \"font\": {\"color\": \"#000000\"}, \"y\": 79, \"align\": \"left\"}, {\"x\": 1.55, \"xref\": \"x1\", \"yref\": \"y1\", \"text\": \"1.0\", \"showarrow\": false, \"xanchor\": \"left\", \"font\": {\"color\": \"#000000\"}, \"y\": 79, \"align\": \"left\"}, {\"x\": -0.45, \"xref\": \"x1\", \"yref\": \"y1\", \"text\": \"Firefox Android\", \"showarrow\": false, \"xanchor\": \"left\", \"font\": {\"color\": \"#000000\"}, \"y\": 80, \"align\": \"left\"}, {\"x\": 0.55, \"xref\": \"x1\", \"yref\": \"y1\", \"text\": \"Mozilla Staff\", \"showarrow\": false, \"xanchor\": \"left\", \"font\": {\"color\": \"#000000\"}, \"y\": 80, \"align\": \"left\"}, {\"x\": 1.55, \"xref\": \"x1\", \"yref\": \"y1\", \"text\": \"3.0\", \"showarrow\": false, \"xanchor\": \"left\", \"font\": {\"color\": \"#000000\"}, \"y\": 80, \"align\": \"left\"}, {\"x\": -0.45, \"xref\": \"x1\", \"yref\": \"y1\", \"text\": \"Firefox Android\", \"showarrow\": false, \"xanchor\": \"left\", \"font\": {\"color\": \"#000000\"}, \"y\": 81, \"align\": \"left\"}, {\"x\": 0.55, \"xref\": \"x1\", \"yref\": \"y1\", \"text\": \"Community\", \"showarrow\": false, \"xanchor\": \"left\", \"font\": {\"color\": \"#000000\"}, \"y\": 81, \"align\": \"left\"}, {\"x\": 1.55, \"xref\": \"x1\", \"yref\": \"y1\", \"text\": \"1.0\", \"showarrow\": false, \"xanchor\": \"left\", \"font\": {\"color\": \"#000000\"}, \"y\": 81, \"align\": \"left\"}]}, {\"linkText\": \"Export to plot.ly\", \"showLink\": true})});</script>"
      ],
      "text/vnd.plotly.v1+html": [
       "<div id=\"c9f6fa03-baf7-455b-9ba7-1a5f081d2a44\" style=\"height: 2510px; width: 100%;\" class=\"plotly-graph-div\"></div><script type=\"text/javascript\">require([\"plotly\"], function(Plotly) { window.PLOTLYENV=window.PLOTLYENV || {};window.PLOTLYENV.BASE_URL=\"https://plot.ly\";Plotly.newPlot(\"c9f6fa03-baf7-455b-9ba7-1a5f081d2a44\", [{\"showscale\": false, \"hoverinfo\": \"none\", \"z\": [[0, 0, 0], [0.5, 0.5, 0.5], [1, 1, 1], [0.5, 0.5, 0.5], [1, 1, 1], [0.5, 0.5, 0.5], [1, 1, 1], [0.5, 0.5, 0.5], [1, 1, 1], [0.5, 0.5, 0.5], [1, 1, 1], [0.5, 0.5, 0.5], [1, 1, 1], [0.5, 0.5, 0.5], [1, 1, 1], [0.5, 0.5, 0.5], [1, 1, 1], [0.5, 0.5, 0.5], [1, 1, 1], [0.5, 0.5, 0.5], [1, 1, 1], [0.5, 0.5, 0.5], [1, 1, 1], [0.5, 0.5, 0.5], [1, 1, 1], [0.5, 0.5, 0.5], [1, 1, 1], [0.5, 0.5, 0.5], [1, 1, 1], [0.5, 0.5, 0.5], [1, 1, 1], [0.5, 0.5, 0.5], [1, 1, 1], [0.5, 0.5, 0.5], [1, 1, 1], [0.5, 0.5, 0.5], [1, 1, 1], [0.5, 0.5, 0.5], [1, 1, 1], [0.5, 0.5, 0.5], [1, 1, 1], [0.5, 0.5, 0.5], [1, 1, 1], [0.5, 0.5, 0.5], [1, 1, 1], [0.5, 0.5, 0.5], [1, 1, 1], [0.5, 0.5, 0.5], [1, 1, 1], [0.5, 0.5, 0.5], [1, 1, 1], [0.5, 0.5, 0.5], [1, 1, 1], [0.5, 0.5, 0.5], [1, 1, 1], [0.5, 0.5, 0.5], [1, 1, 1], [0.5, 0.5, 0.5], [1, 1, 1], [0.5, 0.5, 0.5], [1, 1, 1], [0.5, 0.5, 0.5], [1, 1, 1], [0.5, 0.5, 0.5], [1, 1, 1], [0.5, 0.5, 0.5], [1, 1, 1], [0.5, 0.5, 0.5], [1, 1, 1], [0.5, 0.5, 0.5], [1, 1, 1], [0.5, 0.5, 0.5], [1, 1, 1], [0.5, 0.5, 0.5], [1, 1, 1], [0.5, 0.5, 0.5], [1, 1, 1], [0.5, 0.5, 0.5], [1, 1, 1], [0.5, 0.5, 0.5], [1, 1, 1], [0.5, 0.5, 0.5]], \"opacity\": 0.75, \"type\": \"heatmap\", \"colorscale\": [[0, \"#00083e\"], [0.5, \"#ededee\"], [1, \"#ffffff\"]]}], {\"xaxis\": {\"ticks\": \"\", \"gridwidth\": 2, \"zeroline\": false, \"showticklabels\": false, \"dtick\": 1, \"tick0\": -0.5}, \"margin\": {\"r\": 0, \"b\": 0, \"l\": 0, \"t\": 0}, \"height\": 2510, \"yaxis\": {\"autorange\": \"reversed\", \"ticks\": \"\", \"gridwidth\": 2, \"zeroline\": false, \"showticklabels\": false, \"dtick\": 1, \"tick0\": 0.5}, \"annotations\": [{\"x\": -0.45, \"xref\": \"x1\", \"yref\": \"y1\", \"text\": \"<b>Project</b>\", \"showarrow\": false, \"xanchor\": \"left\", \"font\": {\"color\": \"#ffffff\"}, \"y\": 0, \"align\": \"left\"}, {\"x\": 0.55, \"xref\": \"x1\", \"yref\": \"y1\", \"text\": \"<b>Org</b>\", \"showarrow\": false, \"xanchor\": \"left\", \"font\": {\"color\": \"#ffffff\"}, \"y\": 0, \"align\": \"left\"}, {\"x\": 1.55, \"xref\": \"x1\", \"yref\": \"y1\", \"text\": \"<b>Authors</b>\", \"showarrow\": false, \"xanchor\": \"left\", \"font\": {\"color\": \"#ffffff\"}, \"y\": 0, \"align\": \"left\"}, {\"x\": -0.45, \"xref\": \"x1\", \"yref\": \"y1\", \"text\": \"Unknown\", \"showarrow\": false, \"xanchor\": \"left\", \"font\": {\"color\": \"#000000\"}, \"y\": 1, \"align\": \"left\"}, {\"x\": 0.55, \"xref\": \"x1\", \"yref\": \"y1\", \"text\": \"Mozilla Staff\", \"showarrow\": false, \"xanchor\": \"left\", \"font\": {\"color\": \"#000000\"}, \"y\": 1, \"align\": \"left\"}, {\"x\": 1.55, \"xref\": \"x1\", \"yref\": \"y1\", \"text\": \"1784.0\", \"showarrow\": false, \"xanchor\": \"left\", \"font\": {\"color\": \"#000000\"}, \"y\": 1, \"align\": \"left\"}, {\"x\": -0.45, \"xref\": \"x1\", \"yref\": \"y1\", \"text\": \"Unknown\", \"showarrow\": false, \"xanchor\": \"left\", \"font\": {\"color\": \"#000000\"}, \"y\": 2, \"align\": \"left\"}, {\"x\": 0.55, \"xref\": \"x1\", \"yref\": \"y1\", \"text\": \"Community\", \"showarrow\": false, \"xanchor\": \"left\", \"font\": {\"color\": \"#000000\"}, \"y\": 2, \"align\": \"left\"}, {\"x\": 1.55, \"xref\": \"x1\", \"yref\": \"y1\", \"text\": \"7237.0\", \"showarrow\": false, \"xanchor\": \"left\", \"font\": {\"color\": \"#000000\"}, \"y\": 2, \"align\": \"left\"}, {\"x\": -0.45, \"xref\": \"x1\", \"yref\": \"y1\", \"text\": \"Unknown\", \"showarrow\": false, \"xanchor\": \"left\", \"font\": {\"color\": \"#000000\"}, \"y\": 3, \"align\": \"left\"}, {\"x\": 0.55, \"xref\": \"x1\", \"yref\": \"y1\", \"text\": \"Code Sheriff\", \"showarrow\": false, \"xanchor\": \"left\", \"font\": {\"color\": \"#000000\"}, \"y\": 3, \"align\": \"left\"}, {\"x\": 1.55, \"xref\": \"x1\", \"yref\": \"y1\", \"text\": \"8.0\", \"showarrow\": false, \"xanchor\": \"left\", \"font\": {\"color\": \"#000000\"}, \"y\": 3, \"align\": \"left\"}, {\"x\": -0.45, \"xref\": \"x1\", \"yref\": \"y1\", \"text\": \"Gecko\", \"showarrow\": false, \"xanchor\": \"left\", \"font\": {\"color\": \"#000000\"}, \"y\": 4, \"align\": \"left\"}, {\"x\": 0.55, \"xref\": \"x1\", \"yref\": \"y1\", \"text\": \"Mozilla Staff\", \"showarrow\": false, \"xanchor\": \"left\", \"font\": {\"color\": \"#000000\"}, \"y\": 4, \"align\": \"left\"}, {\"x\": 1.55, \"xref\": \"x1\", \"yref\": \"y1\", \"text\": \"1378.0\", \"showarrow\": false, \"xanchor\": \"left\", \"font\": {\"color\": \"#000000\"}, \"y\": 4, \"align\": \"left\"}, {\"x\": -0.45, \"xref\": \"x1\", \"yref\": \"y1\", \"text\": \"Gecko\", \"showarrow\": false, \"xanchor\": \"left\", \"font\": {\"color\": \"#000000\"}, \"y\": 5, \"align\": \"left\"}, {\"x\": 0.55, \"xref\": \"x1\", \"yref\": \"y1\", \"text\": \"Community\", \"showarrow\": false, \"xanchor\": \"left\", \"font\": {\"color\": \"#000000\"}, \"y\": 5, \"align\": \"left\"}, {\"x\": 1.55, \"xref\": \"x1\", \"yref\": \"y1\", \"text\": \"3974.0\", \"showarrow\": false, \"xanchor\": \"left\", \"font\": {\"color\": \"#000000\"}, \"y\": 5, \"align\": \"left\"}, {\"x\": -0.45, \"xref\": \"x1\", \"yref\": \"y1\", \"text\": \"Gecko\", \"showarrow\": false, \"xanchor\": \"left\", \"font\": {\"color\": \"#000000\"}, \"y\": 6, \"align\": \"left\"}, {\"x\": 0.55, \"xref\": \"x1\", \"yref\": \"y1\", \"text\": \"Code Sheriff\", \"showarrow\": false, \"xanchor\": \"left\", \"font\": {\"color\": \"#000000\"}, \"y\": 6, \"align\": \"left\"}, {\"x\": 1.55, \"xref\": \"x1\", \"yref\": \"y1\", \"text\": \"8.0\", \"showarrow\": false, \"xanchor\": \"left\", \"font\": {\"color\": \"#000000\"}, \"y\": 6, \"align\": \"left\"}, {\"x\": -0.45, \"xref\": \"x1\", \"yref\": \"y1\", \"text\": \"IT/Ops\", \"showarrow\": false, \"xanchor\": \"left\", \"font\": {\"color\": \"#000000\"}, \"y\": 7, \"align\": \"left\"}, {\"x\": 0.55, \"xref\": \"x1\", \"yref\": \"y1\", \"text\": \"Mozilla Staff\", \"showarrow\": false, \"xanchor\": \"left\", \"font\": {\"color\": \"#000000\"}, \"y\": 7, \"align\": \"left\"}, {\"x\": 1.55, \"xref\": \"x1\", \"yref\": \"y1\", \"text\": \"787.0\", \"showarrow\": false, \"xanchor\": \"left\", \"font\": {\"color\": \"#000000\"}, \"y\": 7, \"align\": \"left\"}, {\"x\": -0.45, \"xref\": \"x1\", \"yref\": \"y1\", \"text\": \"IT/Ops\", \"showarrow\": false, \"xanchor\": \"left\", \"font\": {\"color\": \"#000000\"}, \"y\": 8, \"align\": \"left\"}, {\"x\": 0.55, \"xref\": \"x1\", \"yref\": \"y1\", \"text\": \"Community\", \"showarrow\": false, \"xanchor\": \"left\", \"font\": {\"color\": \"#000000\"}, \"y\": 8, \"align\": \"left\"}, {\"x\": 1.55, \"xref\": \"x1\", \"yref\": \"y1\", \"text\": \"1469.0\", \"showarrow\": false, \"xanchor\": \"left\", \"font\": {\"color\": \"#000000\"}, \"y\": 8, \"align\": \"left\"}, {\"x\": -0.45, \"xref\": \"x1\", \"yref\": \"y1\", \"text\": \"IT/Ops\", \"showarrow\": false, \"xanchor\": \"left\", \"font\": {\"color\": \"#000000\"}, \"y\": 9, \"align\": \"left\"}, {\"x\": 0.55, \"xref\": \"x1\", \"yref\": \"y1\", \"text\": \"Code Sheriff\", \"showarrow\": false, \"xanchor\": \"left\", \"font\": {\"color\": \"#000000\"}, \"y\": 9, \"align\": \"left\"}, {\"x\": 1.55, \"xref\": \"x1\", \"yref\": \"y1\", \"text\": \"6.0\", \"showarrow\": false, \"xanchor\": \"left\", \"font\": {\"color\": \"#000000\"}, \"y\": 9, \"align\": \"left\"}, {\"x\": -0.45, \"xref\": \"x1\", \"yref\": \"y1\", \"text\": \"Web Properties\", \"showarrow\": false, \"xanchor\": \"left\", \"font\": {\"color\": \"#000000\"}, \"y\": 10, \"align\": \"left\"}, {\"x\": 0.55, \"xref\": \"x1\", \"yref\": \"y1\", \"text\": \"Mozilla Staff\", \"showarrow\": false, \"xanchor\": \"left\", \"font\": {\"color\": \"#000000\"}, \"y\": 10, \"align\": \"left\"}, {\"x\": 1.55, \"xref\": \"x1\", \"yref\": \"y1\", \"text\": \"396.0\", \"showarrow\": false, \"xanchor\": \"left\", \"font\": {\"color\": \"#000000\"}, \"y\": 10, \"align\": \"left\"}, {\"x\": -0.45, \"xref\": \"x1\", \"yref\": \"y1\", \"text\": \"Web Properties\", \"showarrow\": false, \"xanchor\": \"left\", \"font\": {\"color\": \"#000000\"}, \"y\": 11, \"align\": \"left\"}, {\"x\": 0.55, \"xref\": \"x1\", \"yref\": \"y1\", \"text\": \"Community\", \"showarrow\": false, \"xanchor\": \"left\", \"font\": {\"color\": \"#000000\"}, \"y\": 11, \"align\": \"left\"}, {\"x\": 1.55, \"xref\": \"x1\", \"yref\": \"y1\", \"text\": \"942.0\", \"showarrow\": false, \"xanchor\": \"left\", \"font\": {\"color\": \"#000000\"}, \"y\": 11, \"align\": \"left\"}, {\"x\": -0.45, \"xref\": \"x1\", \"yref\": \"y1\", \"text\": \"Web Properties\", \"showarrow\": false, \"xanchor\": \"left\", \"font\": {\"color\": \"#000000\"}, \"y\": 12, \"align\": \"left\"}, {\"x\": 0.55, \"xref\": \"x1\", \"yref\": \"y1\", \"text\": \"Code Sheriff\", \"showarrow\": false, \"xanchor\": \"left\", \"font\": {\"color\": \"#000000\"}, \"y\": 12, \"align\": \"left\"}, {\"x\": 1.55, \"xref\": \"x1\", \"yref\": \"y1\", \"text\": \"4.0\", \"showarrow\": false, \"xanchor\": \"left\", \"font\": {\"color\": \"#000000\"}, \"y\": 12, \"align\": \"left\"}, {\"x\": -0.45, \"xref\": \"x1\", \"yref\": \"y1\", \"text\": \"Rust\", \"showarrow\": false, \"xanchor\": \"left\", \"font\": {\"color\": \"#000000\"}, \"y\": 13, \"align\": \"left\"}, {\"x\": 0.55, \"xref\": \"x1\", \"yref\": \"y1\", \"text\": \"Mozilla Staff\", \"showarrow\": false, \"xanchor\": \"left\", \"font\": {\"color\": \"#000000\"}, \"y\": 13, \"align\": \"left\"}, {\"x\": 1.55, \"xref\": \"x1\", \"yref\": \"y1\", \"text\": \"141.0\", \"showarrow\": false, \"xanchor\": \"left\", \"font\": {\"color\": \"#000000\"}, \"y\": 13, \"align\": \"left\"}, {\"x\": -0.45, \"xref\": \"x1\", \"yref\": \"y1\", \"text\": \"Rust\", \"showarrow\": false, \"xanchor\": \"left\", \"font\": {\"color\": \"#000000\"}, \"y\": 14, \"align\": \"left\"}, {\"x\": 0.55, \"xref\": \"x1\", \"yref\": \"y1\", \"text\": \"Community\", \"showarrow\": false, \"xanchor\": \"left\", \"font\": {\"color\": \"#000000\"}, \"y\": 14, \"align\": \"left\"}, {\"x\": 1.55, \"xref\": \"x1\", \"yref\": \"y1\", \"text\": \"2361.0\", \"showarrow\": false, \"xanchor\": \"left\", \"font\": {\"color\": \"#000000\"}, \"y\": 14, \"align\": \"left\"}, {\"x\": -0.45, \"xref\": \"x1\", \"yref\": \"y1\", \"text\": \"Rust\", \"showarrow\": false, \"xanchor\": \"left\", \"font\": {\"color\": \"#000000\"}, \"y\": 15, \"align\": \"left\"}, {\"x\": 0.55, \"xref\": \"x1\", \"yref\": \"y1\", \"text\": \"Code Sheriff\", \"showarrow\": false, \"xanchor\": \"left\", \"font\": {\"color\": \"#000000\"}, \"y\": 15, \"align\": \"left\"}, {\"x\": 1.55, \"xref\": \"x1\", \"yref\": \"y1\", \"text\": \"1.0\", \"showarrow\": false, \"xanchor\": \"left\", \"font\": {\"color\": \"#000000\"}, \"y\": 15, \"align\": \"left\"}, {\"x\": -0.45, \"xref\": \"x1\", \"yref\": \"y1\", \"text\": \"Servo\", \"showarrow\": false, \"xanchor\": \"left\", \"font\": {\"color\": \"#000000\"}, \"y\": 16, \"align\": \"left\"}, {\"x\": 0.55, \"xref\": \"x1\", \"yref\": \"y1\", \"text\": \"Community\", \"showarrow\": false, \"xanchor\": \"left\", \"font\": {\"color\": \"#000000\"}, \"y\": 16, \"align\": \"left\"}, {\"x\": 1.55, \"xref\": \"x1\", \"yref\": \"y1\", \"text\": \"1241.0\", \"showarrow\": false, \"xanchor\": \"left\", \"font\": {\"color\": \"#000000\"}, \"y\": 16, \"align\": \"left\"}, {\"x\": -0.45, \"xref\": \"x1\", \"yref\": \"y1\", \"text\": \"Servo\", \"showarrow\": false, \"xanchor\": \"left\", \"font\": {\"color\": \"#000000\"}, \"y\": 17, \"align\": \"left\"}, {\"x\": 0.55, \"xref\": \"x1\", \"yref\": \"y1\", \"text\": \"Mozilla Staff\", \"showarrow\": false, \"xanchor\": \"left\", \"font\": {\"color\": \"#000000\"}, \"y\": 17, \"align\": \"left\"}, {\"x\": 1.55, \"xref\": \"x1\", \"yref\": \"y1\", \"text\": \"198.0\", \"showarrow\": false, \"xanchor\": \"left\", \"font\": {\"color\": \"#000000\"}, \"y\": 17, \"align\": \"left\"}, {\"x\": -0.45, \"xref\": \"x1\", \"yref\": \"y1\", \"text\": \"Servo\", \"showarrow\": false, \"xanchor\": \"left\", \"font\": {\"color\": \"#000000\"}, \"y\": 18, \"align\": \"left\"}, {\"x\": 0.55, \"xref\": \"x1\", \"yref\": \"y1\", \"text\": \"Code Sheriff\", \"showarrow\": false, \"xanchor\": \"left\", \"font\": {\"color\": \"#000000\"}, \"y\": 18, \"align\": \"left\"}, {\"x\": 1.55, \"xref\": \"x1\", \"yref\": \"y1\", \"text\": \"1.0\", \"showarrow\": false, \"xanchor\": \"left\", \"font\": {\"color\": \"#000000\"}, \"y\": 18, \"align\": \"left\"}, {\"x\": -0.45, \"xref\": \"x1\", \"yref\": \"y1\", \"text\": \"Addons/Web Extensions\", \"showarrow\": false, \"xanchor\": \"left\", \"font\": {\"color\": \"#000000\"}, \"y\": 19, \"align\": \"left\"}, {\"x\": 0.55, \"xref\": \"x1\", \"yref\": \"y1\", \"text\": \"Mozilla Staff\", \"showarrow\": false, \"xanchor\": \"left\", \"font\": {\"color\": \"#000000\"}, \"y\": 19, \"align\": \"left\"}, {\"x\": 1.55, \"xref\": \"x1\", \"yref\": \"y1\", \"text\": \"284.0\", \"showarrow\": false, \"xanchor\": \"left\", \"font\": {\"color\": \"#000000\"}, \"y\": 19, \"align\": \"left\"}, {\"x\": -0.45, \"xref\": \"x1\", \"yref\": \"y1\", \"text\": \"Addons/Web Extensions\", \"showarrow\": false, \"xanchor\": \"left\", \"font\": {\"color\": \"#000000\"}, \"y\": 20, \"align\": \"left\"}, {\"x\": 0.55, \"xref\": \"x1\", \"yref\": \"y1\", \"text\": \"Community\", \"showarrow\": false, \"xanchor\": \"left\", \"font\": {\"color\": \"#000000\"}, \"y\": 20, \"align\": \"left\"}, {\"x\": 1.55, \"xref\": \"x1\", \"yref\": \"y1\", \"text\": \"361.0\", \"showarrow\": false, \"xanchor\": \"left\", \"font\": {\"color\": \"#000000\"}, \"y\": 20, \"align\": \"left\"}, {\"x\": -0.45, \"xref\": \"x1\", \"yref\": \"y1\", \"text\": \"Addons/Web Extensions\", \"showarrow\": false, \"xanchor\": \"left\", \"font\": {\"color\": \"#000000\"}, \"y\": 21, \"align\": \"left\"}, {\"x\": 0.55, \"xref\": \"x1\", \"yref\": \"y1\", \"text\": \"Code Sheriff\", \"showarrow\": false, \"xanchor\": \"left\", \"font\": {\"color\": \"#000000\"}, \"y\": 21, \"align\": \"left\"}, {\"x\": 1.55, \"xref\": \"x1\", \"yref\": \"y1\", \"text\": \"6.0\", \"showarrow\": false, \"xanchor\": \"left\", \"font\": {\"color\": \"#000000\"}, \"y\": 21, \"align\": \"left\"}, {\"x\": -0.45, \"xref\": \"x1\", \"yref\": \"y1\", \"text\": \"Mozilla Local/Regional communities\", \"showarrow\": false, \"xanchor\": \"left\", \"font\": {\"color\": \"#000000\"}, \"y\": 22, \"align\": \"left\"}, {\"x\": 0.55, \"xref\": \"x1\", \"yref\": \"y1\", \"text\": \"Community\", \"showarrow\": false, \"xanchor\": \"left\", \"font\": {\"color\": \"#000000\"}, \"y\": 22, \"align\": \"left\"}, {\"x\": 1.55, \"xref\": \"x1\", \"yref\": \"y1\", \"text\": \"395.0\", \"showarrow\": false, \"xanchor\": \"left\", \"font\": {\"color\": \"#000000\"}, \"y\": 22, \"align\": \"left\"}, {\"x\": -0.45, \"xref\": \"x1\", \"yref\": \"y1\", \"text\": \"Mozilla Local/Regional communities\", \"showarrow\": false, \"xanchor\": \"left\", \"font\": {\"color\": \"#000000\"}, \"y\": 23, \"align\": \"left\"}, {\"x\": 0.55, \"xref\": \"x1\", \"yref\": \"y1\", \"text\": \"Mozilla Staff\", \"showarrow\": false, \"xanchor\": \"left\", \"font\": {\"color\": \"#000000\"}, \"y\": 23, \"align\": \"left\"}, {\"x\": 1.55, \"xref\": \"x1\", \"yref\": \"y1\", \"text\": \"93.0\", \"showarrow\": false, \"xanchor\": \"left\", \"font\": {\"color\": \"#000000\"}, \"y\": 23, \"align\": \"left\"}, {\"x\": -0.45, \"xref\": \"x1\", \"yref\": \"y1\", \"text\": \"Mozilla Local/Regional communities\", \"showarrow\": false, \"xanchor\": \"left\", \"font\": {\"color\": \"#000000\"}, \"y\": 24, \"align\": \"left\"}, {\"x\": 0.55, \"xref\": \"x1\", \"yref\": \"y1\", \"text\": \"Code Sheriff\", \"showarrow\": false, \"xanchor\": \"left\", \"font\": {\"color\": \"#000000\"}, \"y\": 24, \"align\": \"left\"}, {\"x\": 1.55, \"xref\": \"x1\", \"yref\": \"y1\", \"text\": \"1.0\", \"showarrow\": false, \"xanchor\": \"left\", \"font\": {\"color\": \"#000000\"}, \"y\": 24, \"align\": \"left\"}, {\"x\": -0.45, \"xref\": \"x1\", \"yref\": \"y1\", \"text\": \"Release engineering\", \"showarrow\": false, \"xanchor\": \"left\", \"font\": {\"color\": \"#000000\"}, \"y\": 25, \"align\": \"left\"}, {\"x\": 0.55, \"xref\": \"x1\", \"yref\": \"y1\", \"text\": \"Mozilla Staff\", \"showarrow\": false, \"xanchor\": \"left\", \"font\": {\"color\": \"#000000\"}, \"y\": 25, \"align\": \"left\"}, {\"x\": 1.55, \"xref\": \"x1\", \"yref\": \"y1\", \"text\": \"218.0\", \"showarrow\": false, \"xanchor\": \"left\", \"font\": {\"color\": \"#000000\"}, \"y\": 25, \"align\": \"left\"}, {\"x\": -0.45, \"xref\": \"x1\", \"yref\": \"y1\", \"text\": \"Release engineering\", \"showarrow\": false, \"xanchor\": \"left\", \"font\": {\"color\": \"#000000\"}, \"y\": 26, \"align\": \"left\"}, {\"x\": 0.55, \"xref\": \"x1\", \"yref\": \"y1\", \"text\": \"Community\", \"showarrow\": false, \"xanchor\": \"left\", \"font\": {\"color\": \"#000000\"}, \"y\": 26, \"align\": \"left\"}, {\"x\": 1.55, \"xref\": \"x1\", \"yref\": \"y1\", \"text\": \"67.0\", \"showarrow\": false, \"xanchor\": \"left\", \"font\": {\"color\": \"#000000\"}, \"y\": 26, \"align\": \"left\"}, {\"x\": -0.45, \"xref\": \"x1\", \"yref\": \"y1\", \"text\": \"Release engineering\", \"showarrow\": false, \"xanchor\": \"left\", \"font\": {\"color\": \"#000000\"}, \"y\": 27, \"align\": \"left\"}, {\"x\": 0.55, \"xref\": \"x1\", \"yref\": \"y1\", \"text\": \"Code Sheriff\", \"showarrow\": false, \"xanchor\": \"left\", \"font\": {\"color\": \"#000000\"}, \"y\": 27, \"align\": \"left\"}, {\"x\": 1.55, \"xref\": \"x1\", \"yref\": \"y1\", \"text\": \"4.0\", \"showarrow\": false, \"xanchor\": \"left\", \"font\": {\"color\": \"#000000\"}, \"y\": 27, \"align\": \"left\"}, {\"x\": -0.45, \"xref\": \"x1\", \"yref\": \"y1\", \"text\": \"Web Literacy\", \"showarrow\": false, \"xanchor\": \"left\", \"font\": {\"color\": \"#000000\"}, \"y\": 28, \"align\": \"left\"}, {\"x\": 0.55, \"xref\": \"x1\", \"yref\": \"y1\", \"text\": \"Community\", \"showarrow\": false, \"xanchor\": \"left\", \"font\": {\"color\": \"#000000\"}, \"y\": 28, \"align\": \"left\"}, {\"x\": 1.55, \"xref\": \"x1\", \"yref\": \"y1\", \"text\": \"157.0\", \"showarrow\": false, \"xanchor\": \"left\", \"font\": {\"color\": \"#000000\"}, \"y\": 28, \"align\": \"left\"}, {\"x\": -0.45, \"xref\": \"x1\", \"yref\": \"y1\", \"text\": \"Web Literacy\", \"showarrow\": false, \"xanchor\": \"left\", \"font\": {\"color\": \"#000000\"}, \"y\": 29, \"align\": \"left\"}, {\"x\": 0.55, \"xref\": \"x1\", \"yref\": \"y1\", \"text\": \"Mozilla Staff\", \"showarrow\": false, \"xanchor\": \"left\", \"font\": {\"color\": \"#000000\"}, \"y\": 29, \"align\": \"left\"}, {\"x\": 1.55, \"xref\": \"x1\", \"yref\": \"y1\", \"text\": \"53.0\", \"showarrow\": false, \"xanchor\": \"left\", \"font\": {\"color\": \"#000000\"}, \"y\": 29, \"align\": \"left\"}, {\"x\": -0.45, \"xref\": \"x1\", \"yref\": \"y1\", \"text\": \"WebVR\", \"showarrow\": false, \"xanchor\": \"left\", \"font\": {\"color\": \"#000000\"}, \"y\": 30, \"align\": \"left\"}, {\"x\": 0.55, \"xref\": \"x1\", \"yref\": \"y1\", \"text\": \"Mozilla Staff\", \"showarrow\": false, \"xanchor\": \"left\", \"font\": {\"color\": \"#000000\"}, \"y\": 30, \"align\": \"left\"}, {\"x\": 1.55, \"xref\": \"x1\", \"yref\": \"y1\", \"text\": \"26.0\", \"showarrow\": false, \"xanchor\": \"left\", \"font\": {\"color\": \"#000000\"}, \"y\": 30, \"align\": \"left\"}, {\"x\": -0.45, \"xref\": \"x1\", \"yref\": \"y1\", \"text\": \"WebVR\", \"showarrow\": false, \"xanchor\": \"left\", \"font\": {\"color\": \"#000000\"}, \"y\": 31, \"align\": \"left\"}, {\"x\": 0.55, \"xref\": \"x1\", \"yref\": \"y1\", \"text\": \"Community\", \"showarrow\": false, \"xanchor\": \"left\", \"font\": {\"color\": \"#000000\"}, \"y\": 31, \"align\": \"left\"}, {\"x\": 1.55, \"xref\": \"x1\", \"yref\": \"y1\", \"text\": \"215.0\", \"showarrow\": false, \"xanchor\": \"left\", \"font\": {\"color\": \"#000000\"}, \"y\": 31, \"align\": \"left\"}, {\"x\": -0.45, \"xref\": \"x1\", \"yref\": \"y1\", \"text\": \"Firefox OS (FxOS / B2G)\", \"showarrow\": false, \"xanchor\": \"left\", \"font\": {\"color\": \"#000000\"}, \"y\": 32, \"align\": \"left\"}, {\"x\": 0.55, \"xref\": \"x1\", \"yref\": \"y1\", \"text\": \"Mozilla Staff\", \"showarrow\": false, \"xanchor\": \"left\", \"font\": {\"color\": \"#000000\"}, \"y\": 32, \"align\": \"left\"}, {\"x\": 1.55, \"xref\": \"x1\", \"yref\": \"y1\", \"text\": \"110.0\", \"showarrow\": false, \"xanchor\": \"left\", \"font\": {\"color\": \"#000000\"}, \"y\": 32, \"align\": \"left\"}, {\"x\": -0.45, \"xref\": \"x1\", \"yref\": \"y1\", \"text\": \"Firefox OS (FxOS / B2G)\", \"showarrow\": false, \"xanchor\": \"left\", \"font\": {\"color\": \"#000000\"}, \"y\": 33, \"align\": \"left\"}, {\"x\": 0.55, \"xref\": \"x1\", \"yref\": \"y1\", \"text\": \"Community\", \"showarrow\": false, \"xanchor\": \"left\", \"font\": {\"color\": \"#000000\"}, \"y\": 33, \"align\": \"left\"}, {\"x\": 1.55, \"xref\": \"x1\", \"yref\": \"y1\", \"text\": \"84.0\", \"showarrow\": false, \"xanchor\": \"left\", \"font\": {\"color\": \"#000000\"}, \"y\": 33, \"align\": \"left\"}, {\"x\": -0.45, \"xref\": \"x1\", \"yref\": \"y1\", \"text\": \"Firefox iOS\", \"showarrow\": false, \"xanchor\": \"left\", \"font\": {\"color\": \"#000000\"}, \"y\": 34, \"align\": \"left\"}, {\"x\": 0.55, \"xref\": \"x1\", \"yref\": \"y1\", \"text\": \"Mozilla Staff\", \"showarrow\": false, \"xanchor\": \"left\", \"font\": {\"color\": \"#000000\"}, \"y\": 34, \"align\": \"left\"}, {\"x\": 1.55, \"xref\": \"x1\", \"yref\": \"y1\", \"text\": \"32.0\", \"showarrow\": false, \"xanchor\": \"left\", \"font\": {\"color\": \"#000000\"}, \"y\": 34, \"align\": \"left\"}, {\"x\": -0.45, \"xref\": \"x1\", \"yref\": \"y1\", \"text\": \"Firefox iOS\", \"showarrow\": false, \"xanchor\": \"left\", \"font\": {\"color\": \"#000000\"}, \"y\": 35, \"align\": \"left\"}, {\"x\": 0.55, \"xref\": \"x1\", \"yref\": \"y1\", \"text\": \"Community\", \"showarrow\": false, \"xanchor\": \"left\", \"font\": {\"color\": \"#000000\"}, \"y\": 35, \"align\": \"left\"}, {\"x\": 1.55, \"xref\": \"x1\", \"yref\": \"y1\", \"text\": \"66.0\", \"showarrow\": false, \"xanchor\": \"left\", \"font\": {\"color\": \"#000000\"}, \"y\": 35, \"align\": \"left\"}, {\"x\": -0.45, \"xref\": \"x1\", \"yref\": \"y1\", \"text\": \"Quality Assurance\", \"showarrow\": false, \"xanchor\": \"left\", \"font\": {\"color\": \"#000000\"}, \"y\": 36, \"align\": \"left\"}, {\"x\": 0.55, \"xref\": \"x1\", \"yref\": \"y1\", \"text\": \"Mozilla Staff\", \"showarrow\": false, \"xanchor\": \"left\", \"font\": {\"color\": \"#000000\"}, \"y\": 36, \"align\": \"left\"}, {\"x\": 1.55, \"xref\": \"x1\", \"yref\": \"y1\", \"text\": \"45.0\", \"showarrow\": false, \"xanchor\": \"left\", \"font\": {\"color\": \"#000000\"}, \"y\": 36, \"align\": \"left\"}, {\"x\": -0.45, \"xref\": \"x1\", \"yref\": \"y1\", \"text\": \"Quality Assurance\", \"showarrow\": false, \"xanchor\": \"left\", \"font\": {\"color\": \"#000000\"}, \"y\": 37, \"align\": \"left\"}, {\"x\": 0.55, \"xref\": \"x1\", \"yref\": \"y1\", \"text\": \"Community\", \"showarrow\": false, \"xanchor\": \"left\", \"font\": {\"color\": \"#000000\"}, \"y\": 37, \"align\": \"left\"}, {\"x\": 1.55, \"xref\": \"x1\", \"yref\": \"y1\", \"text\": \"40.0\", \"showarrow\": false, \"xanchor\": \"left\", \"font\": {\"color\": \"#000000\"}, \"y\": 37, \"align\": \"left\"}, {\"x\": -0.45, \"xref\": \"x1\", \"yref\": \"y1\", \"text\": \"Mozilla Developer Network (MDN)\", \"showarrow\": false, \"xanchor\": \"left\", \"font\": {\"color\": \"#000000\"}, \"y\": 38, \"align\": \"left\"}, {\"x\": 0.55, \"xref\": \"x1\", \"yref\": \"y1\", \"text\": \"Mozilla Staff\", \"showarrow\": false, \"xanchor\": \"left\", \"font\": {\"color\": \"#000000\"}, \"y\": 38, \"align\": \"left\"}, {\"x\": 1.55, \"xref\": \"x1\", \"yref\": \"y1\", \"text\": \"53.0\", \"showarrow\": false, \"xanchor\": \"left\", \"font\": {\"color\": \"#000000\"}, \"y\": 38, \"align\": \"left\"}, {\"x\": -0.45, \"xref\": \"x1\", \"yref\": \"y1\", \"text\": \"Mozilla Developer Network (MDN)\", \"showarrow\": false, \"xanchor\": \"left\", \"font\": {\"color\": \"#000000\"}, \"y\": 39, \"align\": \"left\"}, {\"x\": 0.55, \"xref\": \"x1\", \"yref\": \"y1\", \"text\": \"Community\", \"showarrow\": false, \"xanchor\": \"left\", \"font\": {\"color\": \"#000000\"}, \"y\": 39, \"align\": \"left\"}, {\"x\": 1.55, \"xref\": \"x1\", \"yref\": \"y1\", \"text\": \"118.0\", \"showarrow\": false, \"xanchor\": \"left\", \"font\": {\"color\": \"#000000\"}, \"y\": 39, \"align\": \"left\"}, {\"x\": -0.45, \"xref\": \"x1\", \"yref\": \"y1\", \"text\": \"Mozilla Science\", \"showarrow\": false, \"xanchor\": \"left\", \"font\": {\"color\": \"#000000\"}, \"y\": 40, \"align\": \"left\"}, {\"x\": 0.55, \"xref\": \"x1\", \"yref\": \"y1\", \"text\": \"Community\", \"showarrow\": false, \"xanchor\": \"left\", \"font\": {\"color\": \"#000000\"}, \"y\": 40, \"align\": \"left\"}, {\"x\": 1.55, \"xref\": \"x1\", \"yref\": \"y1\", \"text\": \"100.0\", \"showarrow\": false, \"xanchor\": \"left\", \"font\": {\"color\": \"#000000\"}, \"y\": 40, \"align\": \"left\"}, {\"x\": -0.45, \"xref\": \"x1\", \"yref\": \"y1\", \"text\": \"Mozilla Science\", \"showarrow\": false, \"xanchor\": \"left\", \"font\": {\"color\": \"#000000\"}, \"y\": 41, \"align\": \"left\"}, {\"x\": 0.55, \"xref\": \"x1\", \"yref\": \"y1\", \"text\": \"Mozilla Staff\", \"showarrow\": false, \"xanchor\": \"left\", \"font\": {\"color\": \"#000000\"}, \"y\": 41, \"align\": \"left\"}, {\"x\": 1.55, \"xref\": \"x1\", \"yref\": \"y1\", \"text\": \"9.0\", \"showarrow\": false, \"xanchor\": \"left\", \"font\": {\"color\": \"#000000\"}, \"y\": 41, \"align\": \"left\"}, {\"x\": -0.45, \"xref\": \"x1\", \"yref\": \"y1\", \"text\": \"Test Pilot\", \"showarrow\": false, \"xanchor\": \"left\", \"font\": {\"color\": \"#000000\"}, \"y\": 42, \"align\": \"left\"}, {\"x\": 0.55, \"xref\": \"x1\", \"yref\": \"y1\", \"text\": \"Mozilla Staff\", \"showarrow\": false, \"xanchor\": \"left\", \"font\": {\"color\": \"#000000\"}, \"y\": 42, \"align\": \"left\"}, {\"x\": 1.55, \"xref\": \"x1\", \"yref\": \"y1\", \"text\": \"46.0\", \"showarrow\": false, \"xanchor\": \"left\", \"font\": {\"color\": \"#000000\"}, \"y\": 42, \"align\": \"left\"}, {\"x\": -0.45, \"xref\": \"x1\", \"yref\": \"y1\", \"text\": \"Test Pilot\", \"showarrow\": false, \"xanchor\": \"left\", \"font\": {\"color\": \"#000000\"}, \"y\": 43, \"align\": \"left\"}, {\"x\": 0.55, \"xref\": \"x1\", \"yref\": \"y1\", \"text\": \"Community\", \"showarrow\": false, \"xanchor\": \"left\", \"font\": {\"color\": \"#000000\"}, \"y\": 43, \"align\": \"left\"}, {\"x\": 1.55, \"xref\": \"x1\", \"yref\": \"y1\", \"text\": \"86.0\", \"showarrow\": false, \"xanchor\": \"left\", \"font\": {\"color\": \"#000000\"}, \"y\": 43, \"align\": \"left\"}, {\"x\": -0.45, \"xref\": \"x1\", \"yref\": \"y1\", \"text\": \"Test Pilot\", \"showarrow\": false, \"xanchor\": \"left\", \"font\": {\"color\": \"#000000\"}, \"y\": 44, \"align\": \"left\"}, {\"x\": 0.55, \"xref\": \"x1\", \"yref\": \"y1\", \"text\": \"Code Sheriff\", \"showarrow\": false, \"xanchor\": \"left\", \"font\": {\"color\": \"#000000\"}, \"y\": 44, \"align\": \"left\"}, {\"x\": 1.55, \"xref\": \"x1\", \"yref\": \"y1\", \"text\": \"1.0\", \"showarrow\": false, \"xanchor\": \"left\", \"font\": {\"color\": \"#000000\"}, \"y\": 44, \"align\": \"left\"}, {\"x\": -0.45, \"xref\": \"x1\", \"yref\": \"y1\", \"text\": \"Marketing / Social Media\", \"showarrow\": false, \"xanchor\": \"left\", \"font\": {\"color\": \"#000000\"}, \"y\": 45, \"align\": \"left\"}, {\"x\": 0.55, \"xref\": \"x1\", \"yref\": \"y1\", \"text\": \"Mozilla Staff\", \"showarrow\": false, \"xanchor\": \"left\", \"font\": {\"color\": \"#000000\"}, \"y\": 45, \"align\": \"left\"}, {\"x\": 1.55, \"xref\": \"x1\", \"yref\": \"y1\", \"text\": \"49.0\", \"showarrow\": false, \"xanchor\": \"left\", \"font\": {\"color\": \"#000000\"}, \"y\": 45, \"align\": \"left\"}, {\"x\": -0.45, \"xref\": \"x1\", \"yref\": \"y1\", \"text\": \"Marketing / Social Media\", \"showarrow\": false, \"xanchor\": \"left\", \"font\": {\"color\": \"#000000\"}, \"y\": 46, \"align\": \"left\"}, {\"x\": 0.55, \"xref\": \"x1\", \"yref\": \"y1\", \"text\": \"Community\", \"showarrow\": false, \"xanchor\": \"left\", \"font\": {\"color\": \"#000000\"}, \"y\": 46, \"align\": \"left\"}, {\"x\": 1.55, \"xref\": \"x1\", \"yref\": \"y1\", \"text\": \"16.0\", \"showarrow\": false, \"xanchor\": \"left\", \"font\": {\"color\": \"#000000\"}, \"y\": 46, \"align\": \"left\"}, {\"x\": -0.45, \"xref\": \"x1\", \"yref\": \"y1\", \"text\": \"Marketing / Social Media\", \"showarrow\": false, \"xanchor\": \"left\", \"font\": {\"color\": \"#000000\"}, \"y\": 47, \"align\": \"left\"}, {\"x\": 0.55, \"xref\": \"x1\", \"yref\": \"y1\", \"text\": \"Code Sheriff\", \"showarrow\": false, \"xanchor\": \"left\", \"font\": {\"color\": \"#000000\"}, \"y\": 47, \"align\": \"left\"}, {\"x\": 1.55, \"xref\": \"x1\", \"yref\": \"y1\", \"text\": \"1.0\", \"showarrow\": false, \"xanchor\": \"left\", \"font\": {\"color\": \"#000000\"}, \"y\": 47, \"align\": \"left\"}, {\"x\": -0.45, \"xref\": \"x1\", \"yref\": \"y1\", \"text\": \"Localization\", \"showarrow\": false, \"xanchor\": \"left\", \"font\": {\"color\": \"#000000\"}, \"y\": 48, \"align\": \"left\"}, {\"x\": 0.55, \"xref\": \"x1\", \"yref\": \"y1\", \"text\": \"Mozilla Staff\", \"showarrow\": false, \"xanchor\": \"left\", \"font\": {\"color\": \"#000000\"}, \"y\": 48, \"align\": \"left\"}, {\"x\": 1.55, \"xref\": \"x1\", \"yref\": \"y1\", \"text\": \"35.0\", \"showarrow\": false, \"xanchor\": \"left\", \"font\": {\"color\": \"#000000\"}, \"y\": 48, \"align\": \"left\"}, {\"x\": -0.45, \"xref\": \"x1\", \"yref\": \"y1\", \"text\": \"Localization\", \"showarrow\": false, \"xanchor\": \"left\", \"font\": {\"color\": \"#000000\"}, \"y\": 49, \"align\": \"left\"}, {\"x\": 0.55, \"xref\": \"x1\", \"yref\": \"y1\", \"text\": \"Community\", \"showarrow\": false, \"xanchor\": \"left\", \"font\": {\"color\": \"#000000\"}, \"y\": 49, \"align\": \"left\"}, {\"x\": 1.55, \"xref\": \"x1\", \"yref\": \"y1\", \"text\": \"86.0\", \"showarrow\": false, \"xanchor\": \"left\", \"font\": {\"color\": \"#000000\"}, \"y\": 49, \"align\": \"left\"}, {\"x\": -0.45, \"xref\": \"x1\", \"yref\": \"y1\", \"text\": \"Mozilla Location Service (MLS) / Stumbler\", \"showarrow\": false, \"xanchor\": \"left\", \"font\": {\"color\": \"#000000\"}, \"y\": 50, \"align\": \"left\"}, {\"x\": 0.55, \"xref\": \"x1\", \"yref\": \"y1\", \"text\": \"Mozilla Staff\", \"showarrow\": false, \"xanchor\": \"left\", \"font\": {\"color\": \"#000000\"}, \"y\": 50, \"align\": \"left\"}, {\"x\": 1.55, \"xref\": \"x1\", \"yref\": \"y1\", \"text\": \"18.0\", \"showarrow\": false, \"xanchor\": \"left\", \"font\": {\"color\": \"#000000\"}, \"y\": 50, \"align\": \"left\"}, {\"x\": -0.45, \"xref\": \"x1\", \"yref\": \"y1\", \"text\": \"Mozilla Location Service (MLS) / Stumbler\", \"showarrow\": false, \"xanchor\": \"left\", \"font\": {\"color\": \"#000000\"}, \"y\": 51, \"align\": \"left\"}, {\"x\": 0.55, \"xref\": \"x1\", \"yref\": \"y1\", \"text\": \"Community\", \"showarrow\": false, \"xanchor\": \"left\", \"font\": {\"color\": \"#000000\"}, \"y\": 51, \"align\": \"left\"}, {\"x\": 1.55, \"xref\": \"x1\", \"yref\": \"y1\", \"text\": \"73.0\", \"showarrow\": false, \"xanchor\": \"left\", \"font\": {\"color\": \"#000000\"}, \"y\": 51, \"align\": \"left\"}, {\"x\": -0.45, \"xref\": \"x1\", \"yref\": \"y1\", \"text\": \"Mozilla Location Service (MLS) / Stumbler\", \"showarrow\": false, \"xanchor\": \"left\", \"font\": {\"color\": \"#000000\"}, \"y\": 52, \"align\": \"left\"}, {\"x\": 0.55, \"xref\": \"x1\", \"yref\": \"y1\", \"text\": \"Code Sheriff\", \"showarrow\": false, \"xanchor\": \"left\", \"font\": {\"color\": \"#000000\"}, \"y\": 52, \"align\": \"left\"}, {\"x\": 1.55, \"xref\": \"x1\", \"yref\": \"y1\", \"text\": \"1.0\", \"showarrow\": false, \"xanchor\": \"left\", \"font\": {\"color\": \"#000000\"}, \"y\": 52, \"align\": \"left\"}, {\"x\": -0.45, \"xref\": \"x1\", \"yref\": \"y1\", \"text\": \"Firefox\", \"showarrow\": false, \"xanchor\": \"left\", \"font\": {\"color\": \"#000000\"}, \"y\": 53, \"align\": \"left\"}, {\"x\": 0.55, \"xref\": \"x1\", \"yref\": \"y1\", \"text\": \"Mozilla Staff\", \"showarrow\": false, \"xanchor\": \"left\", \"font\": {\"color\": \"#000000\"}, \"y\": 53, \"align\": \"left\"}, {\"x\": 1.55, \"xref\": \"x1\", \"yref\": \"y1\", \"text\": \"20.0\", \"showarrow\": false, \"xanchor\": \"left\", \"font\": {\"color\": \"#000000\"}, \"y\": 53, \"align\": \"left\"}, {\"x\": -0.45, \"xref\": \"x1\", \"yref\": \"y1\", \"text\": \"Firefox\", \"showarrow\": false, \"xanchor\": \"left\", \"font\": {\"color\": \"#000000\"}, \"y\": 54, \"align\": \"left\"}, {\"x\": 0.55, \"xref\": \"x1\", \"yref\": \"y1\", \"text\": \"Community\", \"showarrow\": false, \"xanchor\": \"left\", \"font\": {\"color\": \"#000000\"}, \"y\": 54, \"align\": \"left\"}, {\"x\": 1.55, \"xref\": \"x1\", \"yref\": \"y1\", \"text\": \"7.0\", \"showarrow\": false, \"xanchor\": \"left\", \"font\": {\"color\": \"#000000\"}, \"y\": 54, \"align\": \"left\"}, {\"x\": -0.45, \"xref\": \"x1\", \"yref\": \"y1\", \"text\": \"Advocacy and policy\", \"showarrow\": false, \"xanchor\": \"left\", \"font\": {\"color\": \"#000000\"}, \"y\": 55, \"align\": \"left\"}, {\"x\": 0.55, \"xref\": \"x1\", \"yref\": \"y1\", \"text\": \"Mozilla Staff\", \"showarrow\": false, \"xanchor\": \"left\", \"font\": {\"color\": \"#000000\"}, \"y\": 55, \"align\": \"left\"}, {\"x\": 1.55, \"xref\": \"x1\", \"yref\": \"y1\", \"text\": \"33.0\", \"showarrow\": false, \"xanchor\": \"left\", \"font\": {\"color\": \"#000000\"}, \"y\": 55, \"align\": \"left\"}, {\"x\": -0.45, \"xref\": \"x1\", \"yref\": \"y1\", \"text\": \"Advocacy and policy\", \"showarrow\": false, \"xanchor\": \"left\", \"font\": {\"color\": \"#000000\"}, \"y\": 56, \"align\": \"left\"}, {\"x\": 0.55, \"xref\": \"x1\", \"yref\": \"y1\", \"text\": \"Community\", \"showarrow\": false, \"xanchor\": \"left\", \"font\": {\"color\": \"#000000\"}, \"y\": 56, \"align\": \"left\"}, {\"x\": 1.55, \"xref\": \"x1\", \"yref\": \"y1\", \"text\": \"38.0\", \"showarrow\": false, \"xanchor\": \"left\", \"font\": {\"color\": \"#000000\"}, \"y\": 56, \"align\": \"left\"}, {\"x\": -0.45, \"xref\": \"x1\", \"yref\": \"y1\", \"text\": \"Advocacy and policy\", \"showarrow\": false, \"xanchor\": \"left\", \"font\": {\"color\": \"#000000\"}, \"y\": 57, \"align\": \"left\"}, {\"x\": 0.55, \"xref\": \"x1\", \"yref\": \"y1\", \"text\": \"Code Sheriff\", \"showarrow\": false, \"xanchor\": \"left\", \"font\": {\"color\": \"#000000\"}, \"y\": 57, \"align\": \"left\"}, {\"x\": 1.55, \"xref\": \"x1\", \"yref\": \"y1\", \"text\": \"1.0\", \"showarrow\": false, \"xanchor\": \"left\", \"font\": {\"color\": \"#000000\"}, \"y\": 57, \"align\": \"left\"}, {\"x\": -0.45, \"xref\": \"x1\", \"yref\": \"y1\", \"text\": \"Mozilla Foundation\", \"showarrow\": false, \"xanchor\": \"left\", \"font\": {\"color\": \"#000000\"}, \"y\": 58, \"align\": \"left\"}, {\"x\": 0.55, \"xref\": \"x1\", \"yref\": \"y1\", \"text\": \"Mozilla Staff\", \"showarrow\": false, \"xanchor\": \"left\", \"font\": {\"color\": \"#000000\"}, \"y\": 58, \"align\": \"left\"}, {\"x\": 1.55, \"xref\": \"x1\", \"yref\": \"y1\", \"text\": \"30.0\", \"showarrow\": false, \"xanchor\": \"left\", \"font\": {\"color\": \"#000000\"}, \"y\": 58, \"align\": \"left\"}, {\"x\": -0.45, \"xref\": \"x1\", \"yref\": \"y1\", \"text\": \"Mozilla Foundation\", \"showarrow\": false, \"xanchor\": \"left\", \"font\": {\"color\": \"#000000\"}, \"y\": 59, \"align\": \"left\"}, {\"x\": 0.55, \"xref\": \"x1\", \"yref\": \"y1\", \"text\": \"Community\", \"showarrow\": false, \"xanchor\": \"left\", \"font\": {\"color\": \"#000000\"}, \"y\": 59, \"align\": \"left\"}, {\"x\": 1.55, \"xref\": \"x1\", \"yref\": \"y1\", \"text\": \"85.0\", \"showarrow\": false, \"xanchor\": \"left\", \"font\": {\"color\": \"#000000\"}, \"y\": 59, \"align\": \"left\"}, {\"x\": -0.45, \"xref\": \"x1\", \"yref\": \"y1\", \"text\": \"Firefox Focus\", \"showarrow\": false, \"xanchor\": \"left\", \"font\": {\"color\": \"#000000\"}, \"y\": 60, \"align\": \"left\"}, {\"x\": 0.55, \"xref\": \"x1\", \"yref\": \"y1\", \"text\": \"Mozilla Staff\", \"showarrow\": false, \"xanchor\": \"left\", \"font\": {\"color\": \"#000000\"}, \"y\": 60, \"align\": \"left\"}, {\"x\": 1.55, \"xref\": \"x1\", \"yref\": \"y1\", \"text\": \"10.0\", \"showarrow\": false, \"xanchor\": \"left\", \"font\": {\"color\": \"#000000\"}, \"y\": 60, \"align\": \"left\"}, {\"x\": -0.45, \"xref\": \"x1\", \"yref\": \"y1\", \"text\": \"Firefox Focus\", \"showarrow\": false, \"xanchor\": \"left\", \"font\": {\"color\": \"#000000\"}, \"y\": 61, \"align\": \"left\"}, {\"x\": 0.55, \"xref\": \"x1\", \"yref\": \"y1\", \"text\": \"Community\", \"showarrow\": false, \"xanchor\": \"left\", \"font\": {\"color\": \"#000000\"}, \"y\": 61, \"align\": \"left\"}, {\"x\": 1.55, \"xref\": \"x1\", \"yref\": \"y1\", \"text\": \"7.0\", \"showarrow\": false, \"xanchor\": \"left\", \"font\": {\"color\": \"#000000\"}, \"y\": 61, \"align\": \"left\"}, {\"x\": -0.45, \"xref\": \"x1\", \"yref\": \"y1\", \"text\": \"Technical/Developer Evangelism\", \"showarrow\": false, \"xanchor\": \"left\", \"font\": {\"color\": \"#000000\"}, \"y\": 62, \"align\": \"left\"}, {\"x\": 0.55, \"xref\": \"x1\", \"yref\": \"y1\", \"text\": \"Mozilla Staff\", \"showarrow\": false, \"xanchor\": \"left\", \"font\": {\"color\": \"#000000\"}, \"y\": 62, \"align\": \"left\"}, {\"x\": 1.55, \"xref\": \"x1\", \"yref\": \"y1\", \"text\": \"14.0\", \"showarrow\": false, \"xanchor\": \"left\", \"font\": {\"color\": \"#000000\"}, \"y\": 62, \"align\": \"left\"}, {\"x\": -0.45, \"xref\": \"x1\", \"yref\": \"y1\", \"text\": \"Technical/Developer Evangelism\", \"showarrow\": false, \"xanchor\": \"left\", \"font\": {\"color\": \"#000000\"}, \"y\": 63, \"align\": \"left\"}, {\"x\": 0.55, \"xref\": \"x1\", \"yref\": \"y1\", \"text\": \"Community\", \"showarrow\": false, \"xanchor\": \"left\", \"font\": {\"color\": \"#000000\"}, \"y\": 63, \"align\": \"left\"}, {\"x\": 1.55, \"xref\": \"x1\", \"yref\": \"y1\", \"text\": \"16.0\", \"showarrow\": false, \"xanchor\": \"left\", \"font\": {\"color\": \"#000000\"}, \"y\": 63, \"align\": \"left\"}, {\"x\": -0.45, \"xref\": \"x1\", \"yref\": \"y1\", \"text\": \"Not tracked\", \"showarrow\": false, \"xanchor\": \"left\", \"font\": {\"color\": \"#000000\"}, \"y\": 64, \"align\": \"left\"}, {\"x\": 0.55, \"xref\": \"x1\", \"yref\": \"y1\", \"text\": \"Mozilla Staff\", \"showarrow\": false, \"xanchor\": \"left\", \"font\": {\"color\": \"#000000\"}, \"y\": 64, \"align\": \"left\"}, {\"x\": 1.55, \"xref\": \"x1\", \"yref\": \"y1\", \"text\": \"55.0\", \"showarrow\": false, \"xanchor\": \"left\", \"font\": {\"color\": \"#000000\"}, \"y\": 64, \"align\": \"left\"}, {\"x\": -0.45, \"xref\": \"x1\", \"yref\": \"y1\", \"text\": \"Not tracked\", \"showarrow\": false, \"xanchor\": \"left\", \"font\": {\"color\": \"#000000\"}, \"y\": 65, \"align\": \"left\"}, {\"x\": 0.55, \"xref\": \"x1\", \"yref\": \"y1\", \"text\": \"Community\", \"showarrow\": false, \"xanchor\": \"left\", \"font\": {\"color\": \"#000000\"}, \"y\": 65, \"align\": \"left\"}, {\"x\": 1.55, \"xref\": \"x1\", \"yref\": \"y1\", \"text\": \"29.0\", \"showarrow\": false, \"xanchor\": \"left\", \"font\": {\"color\": \"#000000\"}, \"y\": 65, \"align\": \"left\"}, {\"x\": -0.45, \"xref\": \"x1\", \"yref\": \"y1\", \"text\": \"Vaani\", \"showarrow\": false, \"xanchor\": \"left\", \"font\": {\"color\": \"#000000\"}, \"y\": 66, \"align\": \"left\"}, {\"x\": 0.55, \"xref\": \"x1\", \"yref\": \"y1\", \"text\": \"Mozilla Staff\", \"showarrow\": false, \"xanchor\": \"left\", \"font\": {\"color\": \"#000000\"}, \"y\": 66, \"align\": \"left\"}, {\"x\": 1.55, \"xref\": \"x1\", \"yref\": \"y1\", \"text\": \"11.0\", \"showarrow\": false, \"xanchor\": \"left\", \"font\": {\"color\": \"#000000\"}, \"y\": 66, \"align\": \"left\"}, {\"x\": -0.45, \"xref\": \"x1\", \"yref\": \"y1\", \"text\": \"Vaani\", \"showarrow\": false, \"xanchor\": \"left\", \"font\": {\"color\": \"#000000\"}, \"y\": 67, \"align\": \"left\"}, {\"x\": 0.55, \"xref\": \"x1\", \"yref\": \"y1\", \"text\": \"Community\", \"showarrow\": false, \"xanchor\": \"left\", \"font\": {\"color\": \"#000000\"}, \"y\": 67, \"align\": \"left\"}, {\"x\": 1.55, \"xref\": \"x1\", \"yref\": \"y1\", \"text\": \"1.0\", \"showarrow\": false, \"xanchor\": \"left\", \"font\": {\"color\": \"#000000\"}, \"y\": 67, \"align\": \"left\"}, {\"x\": -0.45, \"xref\": \"x1\", \"yref\": \"y1\", \"text\": \"Developer Tools\", \"showarrow\": false, \"xanchor\": \"left\", \"font\": {\"color\": \"#000000\"}, \"y\": 68, \"align\": \"left\"}, {\"x\": 0.55, \"xref\": \"x1\", \"yref\": \"y1\", \"text\": \"Mozilla Staff\", \"showarrow\": false, \"xanchor\": \"left\", \"font\": {\"color\": \"#000000\"}, \"y\": 68, \"align\": \"left\"}, {\"x\": 1.55, \"xref\": \"x1\", \"yref\": \"y1\", \"text\": \"6.0\", \"showarrow\": false, \"xanchor\": \"left\", \"font\": {\"color\": \"#000000\"}, \"y\": 68, \"align\": \"left\"}, {\"x\": -0.45, \"xref\": \"x1\", \"yref\": \"y1\", \"text\": \"Developer Tools\", \"showarrow\": false, \"xanchor\": \"left\", \"font\": {\"color\": \"#000000\"}, \"y\": 69, \"align\": \"left\"}, {\"x\": 0.55, \"xref\": \"x1\", \"yref\": \"y1\", \"text\": \"Community\", \"showarrow\": false, \"xanchor\": \"left\", \"font\": {\"color\": \"#000000\"}, \"y\": 69, \"align\": \"left\"}, {\"x\": 1.55, \"xref\": \"x1\", \"yref\": \"y1\", \"text\": \"3.0\", \"showarrow\": false, \"xanchor\": \"left\", \"font\": {\"color\": \"#000000\"}, \"y\": 69, \"align\": \"left\"}, {\"x\": -0.45, \"xref\": \"x1\", \"yref\": \"y1\", \"text\": \"Deep Speech\", \"showarrow\": false, \"xanchor\": \"left\", \"font\": {\"color\": \"#000000\"}, \"y\": 70, \"align\": \"left\"}, {\"x\": 0.55, \"xref\": \"x1\", \"yref\": \"y1\", \"text\": \"Mozilla Staff\", \"showarrow\": false, \"xanchor\": \"left\", \"font\": {\"color\": \"#000000\"}, \"y\": 70, \"align\": \"left\"}, {\"x\": 1.55, \"xref\": \"x1\", \"yref\": \"y1\", \"text\": \"7.0\", \"showarrow\": false, \"xanchor\": \"left\", \"font\": {\"color\": \"#000000\"}, \"y\": 70, \"align\": \"left\"}, {\"x\": -0.45, \"xref\": \"x1\", \"yref\": \"y1\", \"text\": \"Deep Speech\", \"showarrow\": false, \"xanchor\": \"left\", \"font\": {\"color\": \"#000000\"}, \"y\": 71, \"align\": \"left\"}, {\"x\": 0.55, \"xref\": \"x1\", \"yref\": \"y1\", \"text\": \"Community\", \"showarrow\": false, \"xanchor\": \"left\", \"font\": {\"color\": \"#000000\"}, \"y\": 71, \"align\": \"left\"}, {\"x\": 1.55, \"xref\": \"x1\", \"yref\": \"y1\", \"text\": \"8.0\", \"showarrow\": false, \"xanchor\": \"left\", \"font\": {\"color\": \"#000000\"}, \"y\": 71, \"align\": \"left\"}, {\"x\": -0.45, \"xref\": \"x1\", \"yref\": \"y1\", \"text\": \"Connected devices & IoT\", \"showarrow\": false, \"xanchor\": \"left\", \"font\": {\"color\": \"#000000\"}, \"y\": 72, \"align\": \"left\"}, {\"x\": 0.55, \"xref\": \"x1\", \"yref\": \"y1\", \"text\": \"Community\", \"showarrow\": false, \"xanchor\": \"left\", \"font\": {\"color\": \"#000000\"}, \"y\": 72, \"align\": \"left\"}, {\"x\": 1.55, \"xref\": \"x1\", \"yref\": \"y1\", \"text\": \"6.0\", \"showarrow\": false, \"xanchor\": \"left\", \"font\": {\"color\": \"#000000\"}, \"y\": 72, \"align\": \"left\"}, {\"x\": -0.45, \"xref\": \"x1\", \"yref\": \"y1\", \"text\": \"Connected devices & IoT\", \"showarrow\": false, \"xanchor\": \"left\", \"font\": {\"color\": \"#000000\"}, \"y\": 73, \"align\": \"left\"}, {\"x\": 0.55, \"xref\": \"x1\", \"yref\": \"y1\", \"text\": \"Mozilla Staff\", \"showarrow\": false, \"xanchor\": \"left\", \"font\": {\"color\": \"#000000\"}, \"y\": 73, \"align\": \"left\"}, {\"x\": 1.55, \"xref\": \"x1\", \"yref\": \"y1\", \"text\": \"3.0\", \"showarrow\": false, \"xanchor\": \"left\", \"font\": {\"color\": \"#000000\"}, \"y\": 73, \"align\": \"left\"}, {\"x\": -0.45, \"xref\": \"x1\", \"yref\": \"y1\", \"text\": \"Mozilla Clubs\", \"showarrow\": false, \"xanchor\": \"left\", \"font\": {\"color\": \"#000000\"}, \"y\": 74, \"align\": \"left\"}, {\"x\": 0.55, \"xref\": \"x1\", \"yref\": \"y1\", \"text\": \"Mozilla Staff\", \"showarrow\": false, \"xanchor\": \"left\", \"font\": {\"color\": \"#000000\"}, \"y\": 74, \"align\": \"left\"}, {\"x\": 1.55, \"xref\": \"x1\", \"yref\": \"y1\", \"text\": \"6.0\", \"showarrow\": false, \"xanchor\": \"left\", \"font\": {\"color\": \"#000000\"}, \"y\": 74, \"align\": \"left\"}, {\"x\": -0.45, \"xref\": \"x1\", \"yref\": \"y1\", \"text\": \"Mozilla Clubs\", \"showarrow\": false, \"xanchor\": \"left\", \"font\": {\"color\": \"#000000\"}, \"y\": 75, \"align\": \"left\"}, {\"x\": 0.55, \"xref\": \"x1\", \"yref\": \"y1\", \"text\": \"Community\", \"showarrow\": false, \"xanchor\": \"left\", \"font\": {\"color\": \"#000000\"}, \"y\": 75, \"align\": \"left\"}, {\"x\": 1.55, \"xref\": \"x1\", \"yref\": \"y1\", \"text\": \"4.0\", \"showarrow\": false, \"xanchor\": \"left\", \"font\": {\"color\": \"#000000\"}, \"y\": 75, \"align\": \"left\"}, {\"x\": -0.45, \"xref\": \"x1\", \"yref\": \"y1\", \"text\": \"Mozilla Creative & Design\", \"showarrow\": false, \"xanchor\": \"left\", \"font\": {\"color\": \"#000000\"}, \"y\": 76, \"align\": \"left\"}, {\"x\": 0.55, \"xref\": \"x1\", \"yref\": \"y1\", \"text\": \"Community\", \"showarrow\": false, \"xanchor\": \"left\", \"font\": {\"color\": \"#000000\"}, \"y\": 76, \"align\": \"left\"}, {\"x\": 1.55, \"xref\": \"x1\", \"yref\": \"y1\", \"text\": \"21.0\", \"showarrow\": false, \"xanchor\": \"left\", \"font\": {\"color\": \"#000000\"}, \"y\": 76, \"align\": \"left\"}, {\"x\": -0.45, \"xref\": \"x1\", \"yref\": \"y1\", \"text\": \"Mozilla Creative & Design\", \"showarrow\": false, \"xanchor\": \"left\", \"font\": {\"color\": \"#000000\"}, \"y\": 77, \"align\": \"left\"}, {\"x\": 0.55, \"xref\": \"x1\", \"yref\": \"y1\", \"text\": \"Mozilla Staff\", \"showarrow\": false, \"xanchor\": \"left\", \"font\": {\"color\": \"#000000\"}, \"y\": 77, \"align\": \"left\"}, {\"x\": 1.55, \"xref\": \"x1\", \"yref\": \"y1\", \"text\": \"10.0\", \"showarrow\": false, \"xanchor\": \"left\", \"font\": {\"color\": \"#000000\"}, \"y\": 77, \"align\": \"left\"}, {\"x\": -0.45, \"xref\": \"x1\", \"yref\": \"y1\", \"text\": \"Campus Clubs (previously Student Ambassadors)\", \"showarrow\": false, \"xanchor\": \"left\", \"font\": {\"color\": \"#000000\"}, \"y\": 78, \"align\": \"left\"}, {\"x\": 0.55, \"xref\": \"x1\", \"yref\": \"y1\", \"text\": \"Mozilla Staff\", \"showarrow\": false, \"xanchor\": \"left\", \"font\": {\"color\": \"#000000\"}, \"y\": 78, \"align\": \"left\"}, {\"x\": 1.55, \"xref\": \"x1\", \"yref\": \"y1\", \"text\": \"5.0\", \"showarrow\": false, \"xanchor\": \"left\", \"font\": {\"color\": \"#000000\"}, \"y\": 78, \"align\": \"left\"}, {\"x\": -0.45, \"xref\": \"x1\", \"yref\": \"y1\", \"text\": \"Campus Clubs (previously Student Ambassadors)\", \"showarrow\": false, \"xanchor\": \"left\", \"font\": {\"color\": \"#000000\"}, \"y\": 79, \"align\": \"left\"}, {\"x\": 0.55, \"xref\": \"x1\", \"yref\": \"y1\", \"text\": \"Community\", \"showarrow\": false, \"xanchor\": \"left\", \"font\": {\"color\": \"#000000\"}, \"y\": 79, \"align\": \"left\"}, {\"x\": 1.55, \"xref\": \"x1\", \"yref\": \"y1\", \"text\": \"1.0\", \"showarrow\": false, \"xanchor\": \"left\", \"font\": {\"color\": \"#000000\"}, \"y\": 79, \"align\": \"left\"}, {\"x\": -0.45, \"xref\": \"x1\", \"yref\": \"y1\", \"text\": \"Firefox Android\", \"showarrow\": false, \"xanchor\": \"left\", \"font\": {\"color\": \"#000000\"}, \"y\": 80, \"align\": \"left\"}, {\"x\": 0.55, \"xref\": \"x1\", \"yref\": \"y1\", \"text\": \"Mozilla Staff\", \"showarrow\": false, \"xanchor\": \"left\", \"font\": {\"color\": \"#000000\"}, \"y\": 80, \"align\": \"left\"}, {\"x\": 1.55, \"xref\": \"x1\", \"yref\": \"y1\", \"text\": \"3.0\", \"showarrow\": false, \"xanchor\": \"left\", \"font\": {\"color\": \"#000000\"}, \"y\": 80, \"align\": \"left\"}, {\"x\": -0.45, \"xref\": \"x1\", \"yref\": \"y1\", \"text\": \"Firefox Android\", \"showarrow\": false, \"xanchor\": \"left\", \"font\": {\"color\": \"#000000\"}, \"y\": 81, \"align\": \"left\"}, {\"x\": 0.55, \"xref\": \"x1\", \"yref\": \"y1\", \"text\": \"Community\", \"showarrow\": false, \"xanchor\": \"left\", \"font\": {\"color\": \"#000000\"}, \"y\": 81, \"align\": \"left\"}, {\"x\": 1.55, \"xref\": \"x1\", \"yref\": \"y1\", \"text\": \"1.0\", \"showarrow\": false, \"xanchor\": \"left\", \"font\": {\"color\": \"#000000\"}, \"y\": 81, \"align\": \"left\"}]}, {\"linkText\": \"Export to plot.ly\", \"showLink\": true})});</script>"
      ]
     },
     "metadata": {},
     "output_type": "display_data"
    }
   ],
   "source": [
    "s = ut.create_search(es_conn, 'git')\n",
    "\n",
    "# Unique count of Commits by Project\n",
    "s.aggs.bucket('projects', 'terms', field='project', size=100000)\\\n",
    "    .bucket('organizations', 'terms', field='author_org_name', size=100)\\\n",
    "    .metric('authors', 'cardinality', field='author_uuid', precision_threshold=1000000)\n",
    "result = s.execute()\n",
    "\n",
    "projects_df = ut.stack_by(result=result, group_column='Project', subgroup_column='Org', value_column='Authors',\n",
    "                 group_field='projects', subgroup_field='organizations', value_field='authors')\n",
    "\n",
    "#projects_df = projects_df.sort_values(by='# Commits', ascending=0)\n",
    "\n",
    "ut.print_table(projects_df, 'github-authors-table.html')\n"
   ]
  },
  {
   "cell_type": "markdown",
   "metadata": {},
   "source": [
    "**Table above: Git Authors by Projects using Spreadsheet Data**"
   ]
  },
  {
   "cell_type": "markdown",
   "metadata": {},
   "source": [
    "## Authors by Project: Bugzilla\n",
    "\n",
    "We use Product and Component to assign project name to Bugzilla entries.\n",
    "\n",
    "### TODO: enrich index with project information"
   ]
  },
  {
   "cell_type": "code",
   "execution_count": 11,
   "metadata": {
    "collapsed": false,
    "scrolled": false
   },
   "outputs": [
    {
     "name": "stdout",
     "output_type": "stream",
     "text": [
      "q1\n",
      "10000, 20000, 30000, 40000, 50000, 60000, 70000, 80000, Moz:  86562\n",
      "Moz merged:  86562\n",
      "q2\n",
      "10000, 20000, 30000, 40000, 50000, 60000, 70000, 80000, 90000, 100000, 110000, 120000, 130000, 140000, 150000, 160000, 170000, 180000, 190000, 200000, 210000, 220000, 230000, 240000, 250000, 260000, 270000, 280000, 290000, 300000, 310000, 320000, 330000, 340000, 350000, 360000, Non-moz:  365549\n",
      "Non-moz merged:  365549\n",
      "After concat\n"
     ]
    },
    {
     "data": {
      "text/html": [
       "<script>requirejs.config({paths: { 'plotly': ['https://cdn.plot.ly/plotly-latest.min']},});if(!window.Plotly) {{require(['plotly'],function(plotly) {window.Plotly=plotly;});}}</script>"
      ],
      "text/vnd.plotly.v1+html": [
       "<script>requirejs.config({paths: { 'plotly': ['https://cdn.plot.ly/plotly-latest.min']},});if(!window.Plotly) {{require(['plotly'],function(plotly) {window.Plotly=plotly;});}}</script>"
      ]
     },
     "metadata": {},
     "output_type": "display_data"
    },
    {
     "data": {
      "application/vnd.plotly.v1+json": {
       "data": [
        {
         "colorscale": [
          [
           0,
           "#00083e"
          ],
          [
           0.5,
           "#ededee"
          ],
          [
           1,
           "#ffffff"
          ]
         ],
         "hoverinfo": "none",
         "opacity": 0.75,
         "showscale": false,
         "type": "heatmap",
         "z": [
          [
           0,
           0,
           0,
           0,
           0
          ],
          [
           0.5,
           0.5,
           0.5,
           0.5,
           0.5
          ],
          [
           1,
           1,
           1,
           1,
           1
          ],
          [
           0.5,
           0.5,
           0.5,
           0.5,
           0.5
          ],
          [
           1,
           1,
           1,
           1,
           1
          ],
          [
           0.5,
           0.5,
           0.5,
           0.5,
           0.5
          ],
          [
           1,
           1,
           1,
           1,
           1
          ],
          [
           0.5,
           0.5,
           0.5,
           0.5,
           0.5
          ],
          [
           1,
           1,
           1,
           1,
           1
          ],
          [
           0.5,
           0.5,
           0.5,
           0.5,
           0.5
          ],
          [
           1,
           1,
           1,
           1,
           1
          ],
          [
           0.5,
           0.5,
           0.5,
           0.5,
           0.5
          ],
          [
           1,
           1,
           1,
           1,
           1
          ],
          [
           0.5,
           0.5,
           0.5,
           0.5,
           0.5
          ],
          [
           1,
           1,
           1,
           1,
           1
          ],
          [
           0.5,
           0.5,
           0.5,
           0.5,
           0.5
          ],
          [
           1,
           1,
           1,
           1,
           1
          ],
          [
           0.5,
           0.5,
           0.5,
           0.5,
           0.5
          ],
          [
           1,
           1,
           1,
           1,
           1
          ],
          [
           0.5,
           0.5,
           0.5,
           0.5,
           0.5
          ],
          [
           1,
           1,
           1,
           1,
           1
          ],
          [
           0.5,
           0.5,
           0.5,
           0.5,
           0.5
          ],
          [
           1,
           1,
           1,
           1,
           1
          ],
          [
           0.5,
           0.5,
           0.5,
           0.5,
           0.5
          ],
          [
           1,
           1,
           1,
           1,
           1
          ],
          [
           0.5,
           0.5,
           0.5,
           0.5,
           0.5
          ],
          [
           1,
           1,
           1,
           1,
           1
          ],
          [
           0.5,
           0.5,
           0.5,
           0.5,
           0.5
          ],
          [
           1,
           1,
           1,
           1,
           1
          ],
          [
           0.5,
           0.5,
           0.5,
           0.5,
           0.5
          ],
          [
           1,
           1,
           1,
           1,
           1
          ],
          [
           0.5,
           0.5,
           0.5,
           0.5,
           0.5
          ],
          [
           1,
           1,
           1,
           1,
           1
          ],
          [
           0.5,
           0.5,
           0.5,
           0.5,
           0.5
          ],
          [
           1,
           1,
           1,
           1,
           1
          ],
          [
           0.5,
           0.5,
           0.5,
           0.5,
           0.5
          ],
          [
           1,
           1,
           1,
           1,
           1
          ],
          [
           0.5,
           0.5,
           0.5,
           0.5,
           0.5
          ],
          [
           1,
           1,
           1,
           1,
           1
          ],
          [
           0.5,
           0.5,
           0.5,
           0.5,
           0.5
          ],
          [
           1,
           1,
           1,
           1,
           1
          ],
          [
           0.5,
           0.5,
           0.5,
           0.5,
           0.5
          ],
          [
           1,
           1,
           1,
           1,
           1
          ],
          [
           0.5,
           0.5,
           0.5,
           0.5,
           0.5
          ],
          [
           1,
           1,
           1,
           1,
           1
          ],
          [
           0.5,
           0.5,
           0.5,
           0.5,
           0.5
          ],
          [
           1,
           1,
           1,
           1,
           1
          ],
          [
           0.5,
           0.5,
           0.5,
           0.5,
           0.5
          ],
          [
           1,
           1,
           1,
           1,
           1
          ],
          [
           0.5,
           0.5,
           0.5,
           0.5,
           0.5
          ],
          [
           1,
           1,
           1,
           1,
           1
          ],
          [
           0.5,
           0.5,
           0.5,
           0.5,
           0.5
          ],
          [
           1,
           1,
           1,
           1,
           1
          ]
         ]
        }
       ],
       "layout": {
        "annotations": [
         {
          "align": "left",
          "font": {
           "color": "#ffffff"
          },
          "showarrow": false,
          "text": "<b>Project</b>",
          "x": -0.45,
          "xanchor": "left",
          "xref": "x1",
          "y": 0,
          "yref": "y1"
         },
         {
          "align": "left",
          "font": {
           "color": "#ffffff"
          },
          "showarrow": false,
          "text": "<b>Org</b>",
          "x": 0.55,
          "xanchor": "left",
          "xref": "x1",
          "y": 0,
          "yref": "y1"
         },
         {
          "align": "left",
          "font": {
           "color": "#ffffff"
          },
          "showarrow": false,
          "text": "<b>uuid</b>",
          "x": 1.55,
          "xanchor": "left",
          "xref": "x1",
          "y": 0,
          "yref": "y1"
         },
         {
          "align": "left",
          "font": {
           "color": "#ffffff"
          },
          "showarrow": false,
          "text": "<b>Product</b>",
          "x": 2.55,
          "xanchor": "left",
          "xref": "x1",
          "y": 0,
          "yref": "y1"
         },
         {
          "align": "left",
          "font": {
           "color": "#ffffff"
          },
          "showarrow": false,
          "text": "<b>Component</b>",
          "x": 3.55,
          "xanchor": "left",
          "xref": "x1",
          "y": 0,
          "yref": "y1"
         },
         {
          "align": "left",
          "font": {
           "color": "#000000"
          },
          "showarrow": false,
          "text": "Firefox",
          "x": -0.45,
          "xanchor": "left",
          "xref": "x1",
          "y": 1,
          "yref": "y1"
         },
         {
          "align": "left",
          "font": {
           "color": "#000000"
          },
          "showarrow": false,
          "text": "Non-Employees",
          "x": 0.55,
          "xanchor": "left",
          "xref": "x1",
          "y": 1,
          "yref": "y1"
         },
         {
          "align": "left",
          "font": {
           "color": "#000000"
          },
          "showarrow": false,
          "text": "71348",
          "x": 1.55,
          "xanchor": "left",
          "xref": "x1",
          "y": 1,
          "yref": "y1"
         },
         {
          "align": "left",
          "font": {
           "color": "#000000"
          },
          "showarrow": false,
          "text": "3",
          "x": 2.55,
          "xanchor": "left",
          "xref": "x1",
          "y": 1,
          "yref": "y1"
         },
         {
          "align": "left",
          "font": {
           "color": "#000000"
          },
          "showarrow": false,
          "text": "56",
          "x": 3.55,
          "xanchor": "left",
          "xref": "x1",
          "y": 1,
          "yref": "y1"
         },
         {
          "align": "left",
          "font": {
           "color": "#000000"
          },
          "showarrow": false,
          "text": "Gecko",
          "x": -0.45,
          "xanchor": "left",
          "xref": "x1",
          "y": 2,
          "yref": "y1"
         },
         {
          "align": "left",
          "font": {
           "color": "#000000"
          },
          "showarrow": false,
          "text": "Non-Employees",
          "x": 0.55,
          "xanchor": "left",
          "xref": "x1",
          "y": 2,
          "yref": "y1"
         },
         {
          "align": "left",
          "font": {
           "color": "#000000"
          },
          "showarrow": false,
          "text": "61384",
          "x": 1.55,
          "xanchor": "left",
          "xref": "x1",
          "y": 2,
          "yref": "y1"
         },
         {
          "align": "left",
          "font": {
           "color": "#000000"
          },
          "showarrow": false,
          "text": "5",
          "x": 2.55,
          "xanchor": "left",
          "xref": "x1",
          "y": 2,
          "yref": "y1"
         },
         {
          "align": "left",
          "font": {
           "color": "#000000"
          },
          "showarrow": false,
          "text": "245",
          "x": 3.55,
          "xanchor": "left",
          "xref": "x1",
          "y": 2,
          "yref": "y1"
         },
         {
          "align": "left",
          "font": {
           "color": "#000000"
          },
          "showarrow": false,
          "text": "Thunderbird",
          "x": -0.45,
          "xanchor": "left",
          "xref": "x1",
          "y": 3,
          "yref": "y1"
         },
         {
          "align": "left",
          "font": {
           "color": "#000000"
          },
          "showarrow": false,
          "text": "Non-Employees",
          "x": 0.55,
          "xanchor": "left",
          "xref": "x1",
          "y": 3,
          "yref": "y1"
         },
         {
          "align": "left",
          "font": {
           "color": "#000000"
          },
          "showarrow": false,
          "text": "29644",
          "x": 1.55,
          "xanchor": "left",
          "xref": "x1",
          "y": 3,
          "yref": "y1"
         },
         {
          "align": "left",
          "font": {
           "color": "#000000"
          },
          "showarrow": false,
          "text": "3",
          "x": 2.55,
          "xanchor": "left",
          "xref": "x1",
          "y": 3,
          "yref": "y1"
         },
         {
          "align": "left",
          "font": {
           "color": "#000000"
          },
          "showarrow": false,
          "text": "47",
          "x": 3.55,
          "xanchor": "left",
          "xref": "x1",
          "y": 3,
          "yref": "y1"
         },
         {
          "align": "left",
          "font": {
           "color": "#000000"
          },
          "showarrow": false,
          "text": "Technical/Developer Evangelism",
          "x": -0.45,
          "xanchor": "left",
          "xref": "x1",
          "y": 4,
          "yref": "y1"
         },
         {
          "align": "left",
          "font": {
           "color": "#000000"
          },
          "showarrow": false,
          "text": "Non-Employees",
          "x": 0.55,
          "xanchor": "left",
          "xref": "x1",
          "y": 4,
          "yref": "y1"
         },
         {
          "align": "left",
          "font": {
           "color": "#000000"
          },
          "showarrow": false,
          "text": "5249",
          "x": 1.55,
          "xanchor": "left",
          "xref": "x1",
          "y": 4,
          "yref": "y1"
         },
         {
          "align": "left",
          "font": {
           "color": "#000000"
          },
          "showarrow": false,
          "text": "3",
          "x": 2.55,
          "xanchor": "left",
          "xref": "x1",
          "y": 4,
          "yref": "y1"
         },
         {
          "align": "left",
          "font": {
           "color": "#000000"
          },
          "showarrow": false,
          "text": "44",
          "x": 3.55,
          "xanchor": "left",
          "xref": "x1",
          "y": 4,
          "yref": "y1"
         },
         {
          "align": "left",
          "font": {
           "color": "#000000"
          },
          "showarrow": false,
          "text": "Web Properties",
          "x": -0.45,
          "xanchor": "left",
          "xref": "x1",
          "y": 5,
          "yref": "y1"
         },
         {
          "align": "left",
          "font": {
           "color": "#000000"
          },
          "showarrow": false,
          "text": "Non-Employees",
          "x": 0.55,
          "xanchor": "left",
          "xref": "x1",
          "y": 5,
          "yref": "y1"
         },
         {
          "align": "left",
          "font": {
           "color": "#000000"
          },
          "showarrow": false,
          "text": "4254",
          "x": 1.55,
          "xanchor": "left",
          "xref": "x1",
          "y": 5,
          "yref": "y1"
         },
         {
          "align": "left",
          "font": {
           "color": "#000000"
          },
          "showarrow": false,
          "text": "16",
          "x": 2.55,
          "xanchor": "left",
          "xref": "x1",
          "y": 5,
          "yref": "y1"
         },
         {
          "align": "left",
          "font": {
           "color": "#000000"
          },
          "showarrow": false,
          "text": "166",
          "x": 3.55,
          "xanchor": "left",
          "xref": "x1",
          "y": 5,
          "yref": "y1"
         },
         {
          "align": "left",
          "font": {
           "color": "#000000"
          },
          "showarrow": false,
          "text": "IT/Ops",
          "x": -0.45,
          "xanchor": "left",
          "xref": "x1",
          "y": 6,
          "yref": "y1"
         },
         {
          "align": "left",
          "font": {
           "color": "#000000"
          },
          "showarrow": false,
          "text": "Non-Employees",
          "x": 0.55,
          "xanchor": "left",
          "xref": "x1",
          "y": 6,
          "yref": "y1"
         },
         {
          "align": "left",
          "font": {
           "color": "#000000"
          },
          "showarrow": false,
          "text": "2730",
          "x": 1.55,
          "xanchor": "left",
          "xref": "x1",
          "y": 6,
          "yref": "y1"
         },
         {
          "align": "left",
          "font": {
           "color": "#000000"
          },
          "showarrow": false,
          "text": "11",
          "x": 2.55,
          "xanchor": "left",
          "xref": "x1",
          "y": 6,
          "yref": "y1"
         },
         {
          "align": "left",
          "font": {
           "color": "#000000"
          },
          "showarrow": false,
          "text": "172",
          "x": 3.55,
          "xanchor": "left",
          "xref": "x1",
          "y": 6,
          "yref": "y1"
         },
         {
          "align": "left",
          "font": {
           "color": "#000000"
          },
          "showarrow": false,
          "text": "Firefox Android",
          "x": -0.45,
          "xanchor": "left",
          "xref": "x1",
          "y": 7,
          "yref": "y1"
         },
         {
          "align": "left",
          "font": {
           "color": "#000000"
          },
          "showarrow": false,
          "text": "Non-Employees",
          "x": 0.55,
          "xanchor": "left",
          "xref": "x1",
          "y": 7,
          "yref": "y1"
         },
         {
          "align": "left",
          "font": {
           "color": "#000000"
          },
          "showarrow": false,
          "text": "2484",
          "x": 1.55,
          "xanchor": "left",
          "xref": "x1",
          "y": 7,
          "yref": "y1"
         },
         {
          "align": "left",
          "font": {
           "color": "#000000"
          },
          "showarrow": false,
          "text": "2",
          "x": 2.55,
          "xanchor": "left",
          "xref": "x1",
          "y": 7,
          "yref": "y1"
         },
         {
          "align": "left",
          "font": {
           "color": "#000000"
          },
          "showarrow": false,
          "text": "36",
          "x": 3.55,
          "xanchor": "left",
          "xref": "x1",
          "y": 7,
          "yref": "y1"
         },
         {
          "align": "left",
          "font": {
           "color": "#000000"
          },
          "showarrow": false,
          "text": "IT/Ops",
          "x": -0.45,
          "xanchor": "left",
          "xref": "x1",
          "y": 8,
          "yref": "y1"
         },
         {
          "align": "left",
          "font": {
           "color": "#000000"
          },
          "showarrow": false,
          "text": "Employees",
          "x": 0.55,
          "xanchor": "left",
          "xref": "x1",
          "y": 8,
          "yref": "y1"
         },
         {
          "align": "left",
          "font": {
           "color": "#000000"
          },
          "showarrow": false,
          "text": "2242",
          "x": 1.55,
          "xanchor": "left",
          "xref": "x1",
          "y": 8,
          "yref": "y1"
         },
         {
          "align": "left",
          "font": {
           "color": "#000000"
          },
          "showarrow": false,
          "text": "11",
          "x": 2.55,
          "xanchor": "left",
          "xref": "x1",
          "y": 8,
          "yref": "y1"
         },
         {
          "align": "left",
          "font": {
           "color": "#000000"
          },
          "showarrow": false,
          "text": "213",
          "x": 3.55,
          "xanchor": "left",
          "xref": "x1",
          "y": 8,
          "yref": "y1"
         },
         {
          "align": "left",
          "font": {
           "color": "#000000"
          },
          "showarrow": false,
          "text": "Addons/Web Extensions",
          "x": -0.45,
          "xanchor": "left",
          "xref": "x1",
          "y": 9,
          "yref": "y1"
         },
         {
          "align": "left",
          "font": {
           "color": "#000000"
          },
          "showarrow": false,
          "text": "Non-Employees",
          "x": 0.55,
          "xanchor": "left",
          "xref": "x1",
          "y": 9,
          "yref": "y1"
         },
         {
          "align": "left",
          "font": {
           "color": "#000000"
          },
          "showarrow": false,
          "text": "2176",
          "x": 1.55,
          "xanchor": "left",
          "xref": "x1",
          "y": 9,
          "yref": "y1"
         },
         {
          "align": "left",
          "font": {
           "color": "#000000"
          },
          "showarrow": false,
          "text": "3",
          "x": 2.55,
          "xanchor": "left",
          "xref": "x1",
          "y": 9,
          "yref": "y1"
         },
         {
          "align": "left",
          "font": {
           "color": "#000000"
          },
          "showarrow": false,
          "text": "25",
          "x": 3.55,
          "xanchor": "left",
          "xref": "x1",
          "y": 9,
          "yref": "y1"
         },
         {
          "align": "left",
          "font": {
           "color": "#000000"
          },
          "showarrow": false,
          "text": "Firefox OS (FxOS / B2G)",
          "x": -0.45,
          "xanchor": "left",
          "xref": "x1",
          "y": 10,
          "yref": "y1"
         },
         {
          "align": "left",
          "font": {
           "color": "#000000"
          },
          "showarrow": false,
          "text": "Non-Employees",
          "x": 0.55,
          "xanchor": "left",
          "xref": "x1",
          "y": 10,
          "yref": "y1"
         },
         {
          "align": "left",
          "font": {
           "color": "#000000"
          },
          "showarrow": false,
          "text": "2022",
          "x": 1.55,
          "xanchor": "left",
          "xref": "x1",
          "y": 10,
          "yref": "y1"
         },
         {
          "align": "left",
          "font": {
           "color": "#000000"
          },
          "showarrow": false,
          "text": "4",
          "x": 2.55,
          "xanchor": "left",
          "xref": "x1",
          "y": 10,
          "yref": "y1"
         },
         {
          "align": "left",
          "font": {
           "color": "#000000"
          },
          "showarrow": false,
          "text": "113",
          "x": 3.55,
          "xanchor": "left",
          "xref": "x1",
          "y": 10,
          "yref": "y1"
         },
         {
          "align": "left",
          "font": {
           "color": "#000000"
          },
          "showarrow": false,
          "text": "Localization",
          "x": -0.45,
          "xanchor": "left",
          "xref": "x1",
          "y": 11,
          "yref": "y1"
         },
         {
          "align": "left",
          "font": {
           "color": "#000000"
          },
          "showarrow": false,
          "text": "Non-Employees",
          "x": 0.55,
          "xanchor": "left",
          "xref": "x1",
          "y": 11,
          "yref": "y1"
         },
         {
          "align": "left",
          "font": {
           "color": "#000000"
          },
          "showarrow": false,
          "text": "1935",
          "x": 1.55,
          "xanchor": "left",
          "xref": "x1",
          "y": 11,
          "yref": "y1"
         },
         {
          "align": "left",
          "font": {
           "color": "#000000"
          },
          "showarrow": false,
          "text": "4",
          "x": 2.55,
          "xanchor": "left",
          "xref": "x1",
          "y": 11,
          "yref": "y1"
         },
         {
          "align": "left",
          "font": {
           "color": "#000000"
          },
          "showarrow": false,
          "text": "115",
          "x": 3.55,
          "xanchor": "left",
          "xref": "x1",
          "y": 11,
          "yref": "y1"
         },
         {
          "align": "left",
          "font": {
           "color": "#000000"
          },
          "showarrow": false,
          "text": "Mozilla Developer Network (MDN)",
          "x": -0.45,
          "xanchor": "left",
          "xref": "x1",
          "y": 12,
          "yref": "y1"
         },
         {
          "align": "left",
          "font": {
           "color": "#000000"
          },
          "showarrow": false,
          "text": "Non-Employees",
          "x": 0.55,
          "xanchor": "left",
          "xref": "x1",
          "y": 12,
          "yref": "y1"
         },
         {
          "align": "left",
          "font": {
           "color": "#000000"
          },
          "showarrow": false,
          "text": "1866",
          "x": 1.55,
          "xanchor": "left",
          "xref": "x1",
          "y": 12,
          "yref": "y1"
         },
         {
          "align": "left",
          "font": {
           "color": "#000000"
          },
          "showarrow": false,
          "text": "2",
          "x": 2.55,
          "xanchor": "left",
          "xref": "x1",
          "y": 12,
          "yref": "y1"
         },
         {
          "align": "left",
          "font": {
           "color": "#000000"
          },
          "showarrow": false,
          "text": "53",
          "x": 3.55,
          "xanchor": "left",
          "xref": "x1",
          "y": 12,
          "yref": "y1"
         },
         {
          "align": "left",
          "font": {
           "color": "#000000"
          },
          "showarrow": false,
          "text": "Gecko",
          "x": -0.45,
          "xanchor": "left",
          "xref": "x1",
          "y": 13,
          "yref": "y1"
         },
         {
          "align": "left",
          "font": {
           "color": "#000000"
          },
          "showarrow": false,
          "text": "Employees",
          "x": 0.55,
          "xanchor": "left",
          "xref": "x1",
          "y": 13,
          "yref": "y1"
         },
         {
          "align": "left",
          "font": {
           "color": "#000000"
          },
          "showarrow": false,
          "text": "1679",
          "x": 1.55,
          "xanchor": "left",
          "xref": "x1",
          "y": 13,
          "yref": "y1"
         },
         {
          "align": "left",
          "font": {
           "color": "#000000"
          },
          "showarrow": false,
          "text": "5",
          "x": 2.55,
          "xanchor": "left",
          "xref": "x1",
          "y": 13,
          "yref": "y1"
         },
         {
          "align": "left",
          "font": {
           "color": "#000000"
          },
          "showarrow": false,
          "text": "234",
          "x": 3.55,
          "xanchor": "left",
          "xref": "x1",
          "y": 13,
          "yref": "y1"
         },
         {
          "align": "left",
          "font": {
           "color": "#000000"
          },
          "showarrow": false,
          "text": "Web Properties",
          "x": -0.45,
          "xanchor": "left",
          "xref": "x1",
          "y": 14,
          "yref": "y1"
         },
         {
          "align": "left",
          "font": {
           "color": "#000000"
          },
          "showarrow": false,
          "text": "Employees",
          "x": 0.55,
          "xanchor": "left",
          "xref": "x1",
          "y": 14,
          "yref": "y1"
         },
         {
          "align": "left",
          "font": {
           "color": "#000000"
          },
          "showarrow": false,
          "text": "1547",
          "x": 1.55,
          "xanchor": "left",
          "xref": "x1",
          "y": 14,
          "yref": "y1"
         },
         {
          "align": "left",
          "font": {
           "color": "#000000"
          },
          "showarrow": false,
          "text": "16",
          "x": 2.55,
          "xanchor": "left",
          "xref": "x1",
          "y": 14,
          "yref": "y1"
         },
         {
          "align": "left",
          "font": {
           "color": "#000000"
          },
          "showarrow": false,
          "text": "176",
          "x": 3.55,
          "xanchor": "left",
          "xref": "x1",
          "y": 14,
          "yref": "y1"
         },
         {
          "align": "left",
          "font": {
           "color": "#000000"
          },
          "showarrow": false,
          "text": "Firefox",
          "x": -0.45,
          "xanchor": "left",
          "xref": "x1",
          "y": 15,
          "yref": "y1"
         },
         {
          "align": "left",
          "font": {
           "color": "#000000"
          },
          "showarrow": false,
          "text": "Employees",
          "x": 0.55,
          "xanchor": "left",
          "xref": "x1",
          "y": 15,
          "yref": "y1"
         },
         {
          "align": "left",
          "font": {
           "color": "#000000"
          },
          "showarrow": false,
          "text": "1340",
          "x": 1.55,
          "xanchor": "left",
          "xref": "x1",
          "y": 15,
          "yref": "y1"
         },
         {
          "align": "left",
          "font": {
           "color": "#000000"
          },
          "showarrow": false,
          "text": "3",
          "x": 2.55,
          "xanchor": "left",
          "xref": "x1",
          "y": 15,
          "yref": "y1"
         },
         {
          "align": "left",
          "font": {
           "color": "#000000"
          },
          "showarrow": false,
          "text": "58",
          "x": 3.55,
          "xanchor": "left",
          "xref": "x1",
          "y": 15,
          "yref": "y1"
         },
         {
          "align": "left",
          "font": {
           "color": "#000000"
          },
          "showarrow": false,
          "text": "Developer Tools",
          "x": -0.45,
          "xanchor": "left",
          "xref": "x1",
          "y": 16,
          "yref": "y1"
         },
         {
          "align": "left",
          "font": {
           "color": "#000000"
          },
          "showarrow": false,
          "text": "Non-Employees",
          "x": 0.55,
          "xanchor": "left",
          "xref": "x1",
          "y": 16,
          "yref": "y1"
         },
         {
          "align": "left",
          "font": {
           "color": "#000000"
          },
          "showarrow": false,
          "text": "1186",
          "x": 1.55,
          "xanchor": "left",
          "xref": "x1",
          "y": 16,
          "yref": "y1"
         },
         {
          "align": "left",
          "font": {
           "color": "#000000"
          },
          "showarrow": false,
          "text": "1",
          "x": 2.55,
          "xanchor": "left",
          "xref": "x1",
          "y": 16,
          "yref": "y1"
         },
         {
          "align": "left",
          "font": {
           "color": "#000000"
          },
          "showarrow": false,
          "text": "24",
          "x": 3.55,
          "xanchor": "left",
          "xref": "x1",
          "y": 16,
          "yref": "y1"
         },
         {
          "align": "left",
          "font": {
           "color": "#000000"
          },
          "showarrow": false,
          "text": "Firefox OS (FxOS / B2G)",
          "x": -0.45,
          "xanchor": "left",
          "xref": "x1",
          "y": 17,
          "yref": "y1"
         },
         {
          "align": "left",
          "font": {
           "color": "#000000"
          },
          "showarrow": false,
          "text": "Employees",
          "x": 0.55,
          "xanchor": "left",
          "xref": "x1",
          "y": 17,
          "yref": "y1"
         },
         {
          "align": "left",
          "font": {
           "color": "#000000"
          },
          "showarrow": false,
          "text": "946",
          "x": 1.55,
          "xanchor": "left",
          "xref": "x1",
          "y": 17,
          "yref": "y1"
         },
         {
          "align": "left",
          "font": {
           "color": "#000000"
          },
          "showarrow": false,
          "text": "4",
          "x": 2.55,
          "xanchor": "left",
          "xref": "x1",
          "y": 17,
          "yref": "y1"
         },
         {
          "align": "left",
          "font": {
           "color": "#000000"
          },
          "showarrow": false,
          "text": "115",
          "x": 3.55,
          "xanchor": "left",
          "xref": "x1",
          "y": 17,
          "yref": "y1"
         },
         {
          "align": "left",
          "font": {
           "color": "#000000"
          },
          "showarrow": false,
          "text": "Firefox Android",
          "x": -0.45,
          "xanchor": "left",
          "xref": "x1",
          "y": 18,
          "yref": "y1"
         },
         {
          "align": "left",
          "font": {
           "color": "#000000"
          },
          "showarrow": false,
          "text": "Employees",
          "x": 0.55,
          "xanchor": "left",
          "xref": "x1",
          "y": 18,
          "yref": "y1"
         },
         {
          "align": "left",
          "font": {
           "color": "#000000"
          },
          "showarrow": false,
          "text": "699",
          "x": 1.55,
          "xanchor": "left",
          "xref": "x1",
          "y": 18,
          "yref": "y1"
         },
         {
          "align": "left",
          "font": {
           "color": "#000000"
          },
          "showarrow": false,
          "text": "2",
          "x": 2.55,
          "xanchor": "left",
          "xref": "x1",
          "y": 18,
          "yref": "y1"
         },
         {
          "align": "left",
          "font": {
           "color": "#000000"
          },
          "showarrow": false,
          "text": "36",
          "x": 3.55,
          "xanchor": "left",
          "xref": "x1",
          "y": 18,
          "yref": "y1"
         },
         {
          "align": "left",
          "font": {
           "color": "#000000"
          },
          "showarrow": false,
          "text": "Release engineering",
          "x": -0.45,
          "xanchor": "left",
          "xref": "x1",
          "y": 19,
          "yref": "y1"
         },
         {
          "align": "left",
          "font": {
           "color": "#000000"
          },
          "showarrow": false,
          "text": "Employees",
          "x": 0.55,
          "xanchor": "left",
          "xref": "x1",
          "y": 19,
          "yref": "y1"
         },
         {
          "align": "left",
          "font": {
           "color": "#000000"
          },
          "showarrow": false,
          "text": "636",
          "x": 1.55,
          "xanchor": "left",
          "xref": "x1",
          "y": 19,
          "yref": "y1"
         },
         {
          "align": "left",
          "font": {
           "color": "#000000"
          },
          "showarrow": false,
          "text": "1",
          "x": 2.55,
          "xanchor": "left",
          "xref": "x1",
          "y": 19,
          "yref": "y1"
         },
         {
          "align": "left",
          "font": {
           "color": "#000000"
          },
          "showarrow": false,
          "text": "14",
          "x": 3.55,
          "xanchor": "left",
          "xref": "x1",
          "y": 19,
          "yref": "y1"
         },
         {
          "align": "left",
          "font": {
           "color": "#000000"
          },
          "showarrow": false,
          "text": "Quality Assurance",
          "x": -0.45,
          "xanchor": "left",
          "xref": "x1",
          "y": 20,
          "yref": "y1"
         },
         {
          "align": "left",
          "font": {
           "color": "#000000"
          },
          "showarrow": false,
          "text": "Employees",
          "x": 0.55,
          "xanchor": "left",
          "xref": "x1",
          "y": 20,
          "yref": "y1"
         },
         {
          "align": "left",
          "font": {
           "color": "#000000"
          },
          "showarrow": false,
          "text": "582",
          "x": 1.55,
          "xanchor": "left",
          "xref": "x1",
          "y": 20,
          "yref": "y1"
         },
         {
          "align": "left",
          "font": {
           "color": "#000000"
          },
          "showarrow": false,
          "text": "4",
          "x": 2.55,
          "xanchor": "left",
          "xref": "x1",
          "y": 20,
          "yref": "y1"
         },
         {
          "align": "left",
          "font": {
           "color": "#000000"
          },
          "showarrow": false,
          "text": "42",
          "x": 3.55,
          "xanchor": "left",
          "xref": "x1",
          "y": 20,
          "yref": "y1"
         },
         {
          "align": "left",
          "font": {
           "color": "#000000"
          },
          "showarrow": false,
          "text": "Thunderbird",
          "x": -0.45,
          "xanchor": "left",
          "xref": "x1",
          "y": 21,
          "yref": "y1"
         },
         {
          "align": "left",
          "font": {
           "color": "#000000"
          },
          "showarrow": false,
          "text": "Employees",
          "x": 0.55,
          "xanchor": "left",
          "xref": "x1",
          "y": 21,
          "yref": "y1"
         },
         {
          "align": "left",
          "font": {
           "color": "#000000"
          },
          "showarrow": false,
          "text": "565",
          "x": 1.55,
          "xanchor": "left",
          "xref": "x1",
          "y": 21,
          "yref": "y1"
         },
         {
          "align": "left",
          "font": {
           "color": "#000000"
          },
          "showarrow": false,
          "text": "3",
          "x": 2.55,
          "xanchor": "left",
          "xref": "x1",
          "y": 21,
          "yref": "y1"
         },
         {
          "align": "left",
          "font": {
           "color": "#000000"
          },
          "showarrow": false,
          "text": "48",
          "x": 3.55,
          "xanchor": "left",
          "xref": "x1",
          "y": 21,
          "yref": "y1"
         },
         {
          "align": "left",
          "font": {
           "color": "#000000"
          },
          "showarrow": false,
          "text": "Quality Assurance",
          "x": -0.45,
          "xanchor": "left",
          "xref": "x1",
          "y": 22,
          "yref": "y1"
         },
         {
          "align": "left",
          "font": {
           "color": "#000000"
          },
          "showarrow": false,
          "text": "Non-Employees",
          "x": 0.55,
          "xanchor": "left",
          "xref": "x1",
          "y": 22,
          "yref": "y1"
         },
         {
          "align": "left",
          "font": {
           "color": "#000000"
          },
          "showarrow": false,
          "text": "535",
          "x": 1.55,
          "xanchor": "left",
          "xref": "x1",
          "y": 22,
          "yref": "y1"
         },
         {
          "align": "left",
          "font": {
           "color": "#000000"
          },
          "showarrow": false,
          "text": "4",
          "x": 2.55,
          "xanchor": "left",
          "xref": "x1",
          "y": 22,
          "yref": "y1"
         },
         {
          "align": "left",
          "font": {
           "color": "#000000"
          },
          "showarrow": false,
          "text": "38",
          "x": 3.55,
          "xanchor": "left",
          "xref": "x1",
          "y": 22,
          "yref": "y1"
         },
         {
          "align": "left",
          "font": {
           "color": "#000000"
          },
          "showarrow": false,
          "text": "Addons/Web Extensions",
          "x": -0.45,
          "xanchor": "left",
          "xref": "x1",
          "y": 23,
          "yref": "y1"
         },
         {
          "align": "left",
          "font": {
           "color": "#000000"
          },
          "showarrow": false,
          "text": "Employees",
          "x": 0.55,
          "xanchor": "left",
          "xref": "x1",
          "y": 23,
          "yref": "y1"
         },
         {
          "align": "left",
          "font": {
           "color": "#000000"
          },
          "showarrow": false,
          "text": "498",
          "x": 1.55,
          "xanchor": "left",
          "xref": "x1",
          "y": 23,
          "yref": "y1"
         },
         {
          "align": "left",
          "font": {
           "color": "#000000"
          },
          "showarrow": false,
          "text": "3",
          "x": 2.55,
          "xanchor": "left",
          "xref": "x1",
          "y": 23,
          "yref": "y1"
         },
         {
          "align": "left",
          "font": {
           "color": "#000000"
          },
          "showarrow": false,
          "text": "25",
          "x": 3.55,
          "xanchor": "left",
          "xref": "x1",
          "y": 23,
          "yref": "y1"
         },
         {
          "align": "left",
          "font": {
           "color": "#000000"
          },
          "showarrow": false,
          "text": "Developer Tools",
          "x": -0.45,
          "xanchor": "left",
          "xref": "x1",
          "y": 24,
          "yref": "y1"
         },
         {
          "align": "left",
          "font": {
           "color": "#000000"
          },
          "showarrow": false,
          "text": "Employees",
          "x": 0.55,
          "xanchor": "left",
          "xref": "x1",
          "y": 24,
          "yref": "y1"
         },
         {
          "align": "left",
          "font": {
           "color": "#000000"
          },
          "showarrow": false,
          "text": "461",
          "x": 1.55,
          "xanchor": "left",
          "xref": "x1",
          "y": 24,
          "yref": "y1"
         },
         {
          "align": "left",
          "font": {
           "color": "#000000"
          },
          "showarrow": false,
          "text": "1",
          "x": 2.55,
          "xanchor": "left",
          "xref": "x1",
          "y": 24,
          "yref": "y1"
         },
         {
          "align": "left",
          "font": {
           "color": "#000000"
          },
          "showarrow": false,
          "text": "24",
          "x": 3.55,
          "xanchor": "left",
          "xref": "x1",
          "y": 24,
          "yref": "y1"
         },
         {
          "align": "left",
          "font": {
           "color": "#000000"
          },
          "showarrow": false,
          "text": "Mozilla Developer Network (MDN)",
          "x": -0.45,
          "xanchor": "left",
          "xref": "x1",
          "y": 25,
          "yref": "y1"
         },
         {
          "align": "left",
          "font": {
           "color": "#000000"
          },
          "showarrow": false,
          "text": "Employees",
          "x": 0.55,
          "xanchor": "left",
          "xref": "x1",
          "y": 25,
          "yref": "y1"
         },
         {
          "align": "left",
          "font": {
           "color": "#000000"
          },
          "showarrow": false,
          "text": "457",
          "x": 1.55,
          "xanchor": "left",
          "xref": "x1",
          "y": 25,
          "yref": "y1"
         },
         {
          "align": "left",
          "font": {
           "color": "#000000"
          },
          "showarrow": false,
          "text": "2",
          "x": 2.55,
          "xanchor": "left",
          "xref": "x1",
          "y": 25,
          "yref": "y1"
         },
         {
          "align": "left",
          "font": {
           "color": "#000000"
          },
          "showarrow": false,
          "text": "55",
          "x": 3.55,
          "xanchor": "left",
          "xref": "x1",
          "y": 25,
          "yref": "y1"
         },
         {
          "align": "left",
          "font": {
           "color": "#000000"
          },
          "showarrow": false,
          "text": "Technical/Developer Evangelism",
          "x": -0.45,
          "xanchor": "left",
          "xref": "x1",
          "y": 26,
          "yref": "y1"
         },
         {
          "align": "left",
          "font": {
           "color": "#000000"
          },
          "showarrow": false,
          "text": "Employees",
          "x": 0.55,
          "xanchor": "left",
          "xref": "x1",
          "y": 26,
          "yref": "y1"
         },
         {
          "align": "left",
          "font": {
           "color": "#000000"
          },
          "showarrow": false,
          "text": "436",
          "x": 1.55,
          "xanchor": "left",
          "xref": "x1",
          "y": 26,
          "yref": "y1"
         },
         {
          "align": "left",
          "font": {
           "color": "#000000"
          },
          "showarrow": false,
          "text": "3",
          "x": 2.55,
          "xanchor": "left",
          "xref": "x1",
          "y": 26,
          "yref": "y1"
         },
         {
          "align": "left",
          "font": {
           "color": "#000000"
          },
          "showarrow": false,
          "text": "37",
          "x": 3.55,
          "xanchor": "left",
          "xref": "x1",
          "y": 26,
          "yref": "y1"
         },
         {
          "align": "left",
          "font": {
           "color": "#000000"
          },
          "showarrow": false,
          "text": "Localization",
          "x": -0.45,
          "xanchor": "left",
          "xref": "x1",
          "y": 27,
          "yref": "y1"
         },
         {
          "align": "left",
          "font": {
           "color": "#000000"
          },
          "showarrow": false,
          "text": "Employees",
          "x": 0.55,
          "xanchor": "left",
          "xref": "x1",
          "y": 27,
          "yref": "y1"
         },
         {
          "align": "left",
          "font": {
           "color": "#000000"
          },
          "showarrow": false,
          "text": "424",
          "x": 1.55,
          "xanchor": "left",
          "xref": "x1",
          "y": 27,
          "yref": "y1"
         },
         {
          "align": "left",
          "font": {
           "color": "#000000"
          },
          "showarrow": false,
          "text": "4",
          "x": 2.55,
          "xanchor": "left",
          "xref": "x1",
          "y": 27,
          "yref": "y1"
         },
         {
          "align": "left",
          "font": {
           "color": "#000000"
          },
          "showarrow": false,
          "text": "149",
          "x": 3.55,
          "xanchor": "left",
          "xref": "x1",
          "y": 27,
          "yref": "y1"
         },
         {
          "align": "left",
          "font": {
           "color": "#000000"
          },
          "showarrow": false,
          "text": "Release engineering",
          "x": -0.45,
          "xanchor": "left",
          "xref": "x1",
          "y": 28,
          "yref": "y1"
         },
         {
          "align": "left",
          "font": {
           "color": "#000000"
          },
          "showarrow": false,
          "text": "Non-Employees",
          "x": 0.55,
          "xanchor": "left",
          "xref": "x1",
          "y": 28,
          "yref": "y1"
         },
         {
          "align": "left",
          "font": {
           "color": "#000000"
          },
          "showarrow": false,
          "text": "342",
          "x": 1.55,
          "xanchor": "left",
          "xref": "x1",
          "y": 28,
          "yref": "y1"
         },
         {
          "align": "left",
          "font": {
           "color": "#000000"
          },
          "showarrow": false,
          "text": "1",
          "x": 2.55,
          "xanchor": "left",
          "xref": "x1",
          "y": 28,
          "yref": "y1"
         },
         {
          "align": "left",
          "font": {
           "color": "#000000"
          },
          "showarrow": false,
          "text": "14",
          "x": 3.55,
          "xanchor": "left",
          "xref": "x1",
          "y": 28,
          "yref": "y1"
         },
         {
          "align": "left",
          "font": {
           "color": "#000000"
          },
          "showarrow": false,
          "text": "Web Literacy",
          "x": -0.45,
          "xanchor": "left",
          "xref": "x1",
          "y": 29,
          "yref": "y1"
         },
         {
          "align": "left",
          "font": {
           "color": "#000000"
          },
          "showarrow": false,
          "text": "Non-Employees",
          "x": 0.55,
          "xanchor": "left",
          "xref": "x1",
          "y": 29,
          "yref": "y1"
         },
         {
          "align": "left",
          "font": {
           "color": "#000000"
          },
          "showarrow": false,
          "text": "324",
          "x": 1.55,
          "xanchor": "left",
          "xref": "x1",
          "y": 29,
          "yref": "y1"
         },
         {
          "align": "left",
          "font": {
           "color": "#000000"
          },
          "showarrow": false,
          "text": "1",
          "x": 2.55,
          "xanchor": "left",
          "xref": "x1",
          "y": 29,
          "yref": "y1"
         },
         {
          "align": "left",
          "font": {
           "color": "#000000"
          },
          "showarrow": false,
          "text": "25",
          "x": 3.55,
          "xanchor": "left",
          "xref": "x1",
          "y": 29,
          "yref": "y1"
         },
         {
          "align": "left",
          "font": {
           "color": "#000000"
          },
          "showarrow": false,
          "text": "Marketing / Social Media",
          "x": -0.45,
          "xanchor": "left",
          "xref": "x1",
          "y": 30,
          "yref": "y1"
         },
         {
          "align": "left",
          "font": {
           "color": "#000000"
          },
          "showarrow": false,
          "text": "Employees",
          "x": 0.55,
          "xanchor": "left",
          "xref": "x1",
          "y": 30,
          "yref": "y1"
         },
         {
          "align": "left",
          "font": {
           "color": "#000000"
          },
          "showarrow": false,
          "text": "320",
          "x": 1.55,
          "xanchor": "left",
          "xref": "x1",
          "y": 30,
          "yref": "y1"
         },
         {
          "align": "left",
          "font": {
           "color": "#000000"
          },
          "showarrow": false,
          "text": "4",
          "x": 2.55,
          "xanchor": "left",
          "xref": "x1",
          "y": 30,
          "yref": "y1"
         },
         {
          "align": "left",
          "font": {
           "color": "#000000"
          },
          "showarrow": false,
          "text": "21",
          "x": 3.55,
          "xanchor": "left",
          "xref": "x1",
          "y": 30,
          "yref": "y1"
         },
         {
          "align": "left",
          "font": {
           "color": "#000000"
          },
          "showarrow": false,
          "text": "Mozilla Creative & Design",
          "x": -0.45,
          "xanchor": "left",
          "xref": "x1",
          "y": 31,
          "yref": "y1"
         },
         {
          "align": "left",
          "font": {
           "color": "#000000"
          },
          "showarrow": false,
          "text": "Employees",
          "x": 0.55,
          "xanchor": "left",
          "xref": "x1",
          "y": 31,
          "yref": "y1"
         },
         {
          "align": "left",
          "font": {
           "color": "#000000"
          },
          "showarrow": false,
          "text": "262",
          "x": 1.55,
          "xanchor": "left",
          "xref": "x1",
          "y": 31,
          "yref": "y1"
         },
         {
          "align": "left",
          "font": {
           "color": "#000000"
          },
          "showarrow": false,
          "text": "1",
          "x": 2.55,
          "xanchor": "left",
          "xref": "x1",
          "y": 31,
          "yref": "y1"
         },
         {
          "align": "left",
          "font": {
           "color": "#000000"
          },
          "showarrow": false,
          "text": "1",
          "x": 3.55,
          "xanchor": "left",
          "xref": "x1",
          "y": 31,
          "yref": "y1"
         },
         {
          "align": "left",
          "font": {
           "color": "#000000"
          },
          "showarrow": false,
          "text": "Marketing / Social Media",
          "x": -0.45,
          "xanchor": "left",
          "xref": "x1",
          "y": 32,
          "yref": "y1"
         },
         {
          "align": "left",
          "font": {
           "color": "#000000"
          },
          "showarrow": false,
          "text": "Non-Employees",
          "x": 0.55,
          "xanchor": "left",
          "xref": "x1",
          "y": 32,
          "yref": "y1"
         },
         {
          "align": "left",
          "font": {
           "color": "#000000"
          },
          "showarrow": false,
          "text": "250",
          "x": 1.55,
          "xanchor": "left",
          "xref": "x1",
          "y": 32,
          "yref": "y1"
         },
         {
          "align": "left",
          "font": {
           "color": "#000000"
          },
          "showarrow": false,
          "text": "4",
          "x": 2.55,
          "xanchor": "left",
          "xref": "x1",
          "y": 32,
          "yref": "y1"
         },
         {
          "align": "left",
          "font": {
           "color": "#000000"
          },
          "showarrow": false,
          "text": "18",
          "x": 3.55,
          "xanchor": "left",
          "xref": "x1",
          "y": 32,
          "yref": "y1"
         },
         {
          "align": "left",
          "font": {
           "color": "#000000"
          },
          "showarrow": false,
          "text": "Mozilla Local/Regional communities",
          "x": -0.45,
          "xanchor": "left",
          "xref": "x1",
          "y": 33,
          "yref": "y1"
         },
         {
          "align": "left",
          "font": {
           "color": "#000000"
          },
          "showarrow": false,
          "text": "Non-Employees",
          "x": 0.55,
          "xanchor": "left",
          "xref": "x1",
          "y": 33,
          "yref": "y1"
         },
         {
          "align": "left",
          "font": {
           "color": "#000000"
          },
          "showarrow": false,
          "text": "161",
          "x": 1.55,
          "xanchor": "left",
          "xref": "x1",
          "y": 33,
          "yref": "y1"
         },
         {
          "align": "left",
          "font": {
           "color": "#000000"
          },
          "showarrow": false,
          "text": "2",
          "x": 2.55,
          "xanchor": "left",
          "xref": "x1",
          "y": 33,
          "yref": "y1"
         },
         {
          "align": "left",
          "font": {
           "color": "#000000"
          },
          "showarrow": false,
          "text": "16",
          "x": 3.55,
          "xanchor": "left",
          "xref": "x1",
          "y": 33,
          "yref": "y1"
         },
         {
          "align": "left",
          "font": {
           "color": "#000000"
          },
          "showarrow": false,
          "text": "Firefox iOS",
          "x": -0.45,
          "xanchor": "left",
          "xref": "x1",
          "y": 34,
          "yref": "y1"
         },
         {
          "align": "left",
          "font": {
           "color": "#000000"
          },
          "showarrow": false,
          "text": "Non-Employees",
          "x": 0.55,
          "xanchor": "left",
          "xref": "x1",
          "y": 34,
          "yref": "y1"
         },
         {
          "align": "left",
          "font": {
           "color": "#000000"
          },
          "showarrow": false,
          "text": "151",
          "x": 1.55,
          "xanchor": "left",
          "xref": "x1",
          "y": 34,
          "yref": "y1"
         },
         {
          "align": "left",
          "font": {
           "color": "#000000"
          },
          "showarrow": false,
          "text": "1",
          "x": 2.55,
          "xanchor": "left",
          "xref": "x1",
          "y": 34,
          "yref": "y1"
         },
         {
          "align": "left",
          "font": {
           "color": "#000000"
          },
          "showarrow": false,
          "text": "14",
          "x": 3.55,
          "xanchor": "left",
          "xref": "x1",
          "y": 34,
          "yref": "y1"
         },
         {
          "align": "left",
          "font": {
           "color": "#000000"
          },
          "showarrow": false,
          "text": "Web Literacy",
          "x": -0.45,
          "xanchor": "left",
          "xref": "x1",
          "y": 35,
          "yref": "y1"
         },
         {
          "align": "left",
          "font": {
           "color": "#000000"
          },
          "showarrow": false,
          "text": "Employees",
          "x": 0.55,
          "xanchor": "left",
          "xref": "x1",
          "y": 35,
          "yref": "y1"
         },
         {
          "align": "left",
          "font": {
           "color": "#000000"
          },
          "showarrow": false,
          "text": "140",
          "x": 1.55,
          "xanchor": "left",
          "xref": "x1",
          "y": 35,
          "yref": "y1"
         },
         {
          "align": "left",
          "font": {
           "color": "#000000"
          },
          "showarrow": false,
          "text": "1",
          "x": 2.55,
          "xanchor": "left",
          "xref": "x1",
          "y": 35,
          "yref": "y1"
         },
         {
          "align": "left",
          "font": {
           "color": "#000000"
          },
          "showarrow": false,
          "text": "26",
          "x": 3.55,
          "xanchor": "left",
          "xref": "x1",
          "y": 35,
          "yref": "y1"
         },
         {
          "align": "left",
          "font": {
           "color": "#000000"
          },
          "showarrow": false,
          "text": "Firefox iOS",
          "x": -0.45,
          "xanchor": "left",
          "xref": "x1",
          "y": 36,
          "yref": "y1"
         },
         {
          "align": "left",
          "font": {
           "color": "#000000"
          },
          "showarrow": false,
          "text": "Employees",
          "x": 0.55,
          "xanchor": "left",
          "xref": "x1",
          "y": 36,
          "yref": "y1"
         },
         {
          "align": "left",
          "font": {
           "color": "#000000"
          },
          "showarrow": false,
          "text": "139",
          "x": 1.55,
          "xanchor": "left",
          "xref": "x1",
          "y": 36,
          "yref": "y1"
         },
         {
          "align": "left",
          "font": {
           "color": "#000000"
          },
          "showarrow": false,
          "text": "1",
          "x": 2.55,
          "xanchor": "left",
          "xref": "x1",
          "y": 36,
          "yref": "y1"
         },
         {
          "align": "left",
          "font": {
           "color": "#000000"
          },
          "showarrow": false,
          "text": "15",
          "x": 3.55,
          "xanchor": "left",
          "xref": "x1",
          "y": 36,
          "yref": "y1"
         },
         {
          "align": "left",
          "font": {
           "color": "#000000"
          },
          "showarrow": false,
          "text": "Mozilla Local/Regional communities",
          "x": -0.45,
          "xanchor": "left",
          "xref": "x1",
          "y": 37,
          "yref": "y1"
         },
         {
          "align": "left",
          "font": {
           "color": "#000000"
          },
          "showarrow": false,
          "text": "Employees",
          "x": 0.55,
          "xanchor": "left",
          "xref": "x1",
          "y": 37,
          "yref": "y1"
         },
         {
          "align": "left",
          "font": {
           "color": "#000000"
          },
          "showarrow": false,
          "text": "99",
          "x": 1.55,
          "xanchor": "left",
          "xref": "x1",
          "y": 37,
          "yref": "y1"
         },
         {
          "align": "left",
          "font": {
           "color": "#000000"
          },
          "showarrow": false,
          "text": "2",
          "x": 2.55,
          "xanchor": "left",
          "xref": "x1",
          "y": 37,
          "yref": "y1"
         },
         {
          "align": "left",
          "font": {
           "color": "#000000"
          },
          "showarrow": false,
          "text": "16",
          "x": 3.55,
          "xanchor": "left",
          "xref": "x1",
          "y": 37,
          "yref": "y1"
         },
         {
          "align": "left",
          "font": {
           "color": "#000000"
          },
          "showarrow": false,
          "text": "Mozilla support (SUMO)",
          "x": -0.45,
          "xanchor": "left",
          "xref": "x1",
          "y": 38,
          "yref": "y1"
         },
         {
          "align": "left",
          "font": {
           "color": "#000000"
          },
          "showarrow": false,
          "text": "Non-Employees",
          "x": 0.55,
          "xanchor": "left",
          "xref": "x1",
          "y": 38,
          "yref": "y1"
         },
         {
          "align": "left",
          "font": {
           "color": "#000000"
          },
          "showarrow": false,
          "text": "73",
          "x": 1.55,
          "xanchor": "left",
          "xref": "x1",
          "y": 38,
          "yref": "y1"
         },
         {
          "align": "left",
          "font": {
           "color": "#000000"
          },
          "showarrow": false,
          "text": "3",
          "x": 2.55,
          "xanchor": "left",
          "xref": "x1",
          "y": 38,
          "yref": "y1"
         },
         {
          "align": "left",
          "font": {
           "color": "#000000"
          },
          "showarrow": false,
          "text": "12",
          "x": 3.55,
          "xanchor": "left",
          "xref": "x1",
          "y": 38,
          "yref": "y1"
         },
         {
          "align": "left",
          "font": {
           "color": "#000000"
          },
          "showarrow": false,
          "text": "Mozilla support (SUMO)",
          "x": -0.45,
          "xanchor": "left",
          "xref": "x1",
          "y": 39,
          "yref": "y1"
         },
         {
          "align": "left",
          "font": {
           "color": "#000000"
          },
          "showarrow": false,
          "text": "Employees",
          "x": 0.55,
          "xanchor": "left",
          "xref": "x1",
          "y": 39,
          "yref": "y1"
         },
         {
          "align": "left",
          "font": {
           "color": "#000000"
          },
          "showarrow": false,
          "text": "61",
          "x": 1.55,
          "xanchor": "left",
          "xref": "x1",
          "y": 39,
          "yref": "y1"
         },
         {
          "align": "left",
          "font": {
           "color": "#000000"
          },
          "showarrow": false,
          "text": "3",
          "x": 2.55,
          "xanchor": "left",
          "xref": "x1",
          "y": 39,
          "yref": "y1"
         },
         {
          "align": "left",
          "font": {
           "color": "#000000"
          },
          "showarrow": false,
          "text": "12",
          "x": 3.55,
          "xanchor": "left",
          "xref": "x1",
          "y": 39,
          "yref": "y1"
         },
         {
          "align": "left",
          "font": {
           "color": "#000000"
          },
          "showarrow": false,
          "text": "Mozilla Foundation",
          "x": -0.45,
          "xanchor": "left",
          "xref": "x1",
          "y": 40,
          "yref": "y1"
         },
         {
          "align": "left",
          "font": {
           "color": "#000000"
          },
          "showarrow": false,
          "text": "Employees",
          "x": 0.55,
          "xanchor": "left",
          "xref": "x1",
          "y": 40,
          "yref": "y1"
         },
         {
          "align": "left",
          "font": {
           "color": "#000000"
          },
          "showarrow": false,
          "text": "49",
          "x": 1.55,
          "xanchor": "left",
          "xref": "x1",
          "y": 40,
          "yref": "y1"
         },
         {
          "align": "left",
          "font": {
           "color": "#000000"
          },
          "showarrow": false,
          "text": "2",
          "x": 2.55,
          "xanchor": "left",
          "xref": "x1",
          "y": 40,
          "yref": "y1"
         },
         {
          "align": "left",
          "font": {
           "color": "#000000"
          },
          "showarrow": false,
          "text": "15",
          "x": 3.55,
          "xanchor": "left",
          "xref": "x1",
          "y": 40,
          "yref": "y1"
         },
         {
          "align": "left",
          "font": {
           "color": "#000000"
          },
          "showarrow": false,
          "text": "Mozilla Foundation",
          "x": -0.45,
          "xanchor": "left",
          "xref": "x1",
          "y": 41,
          "yref": "y1"
         },
         {
          "align": "left",
          "font": {
           "color": "#000000"
          },
          "showarrow": false,
          "text": "Non-Employees",
          "x": 0.55,
          "xanchor": "left",
          "xref": "x1",
          "y": 41,
          "yref": "y1"
         },
         {
          "align": "left",
          "font": {
           "color": "#000000"
          },
          "showarrow": false,
          "text": "29",
          "x": 1.55,
          "xanchor": "left",
          "xref": "x1",
          "y": 41,
          "yref": "y1"
         },
         {
          "align": "left",
          "font": {
           "color": "#000000"
          },
          "showarrow": false,
          "text": "2",
          "x": 2.55,
          "xanchor": "left",
          "xref": "x1",
          "y": 41,
          "yref": "y1"
         },
         {
          "align": "left",
          "font": {
           "color": "#000000"
          },
          "showarrow": false,
          "text": "8",
          "x": 3.55,
          "xanchor": "left",
          "xref": "x1",
          "y": 41,
          "yref": "y1"
         },
         {
          "align": "left",
          "font": {
           "color": "#000000"
          },
          "showarrow": false,
          "text": "Mozilla Creative & Design",
          "x": -0.45,
          "xanchor": "left",
          "xref": "x1",
          "y": 42,
          "yref": "y1"
         },
         {
          "align": "left",
          "font": {
           "color": "#000000"
          },
          "showarrow": false,
          "text": "Non-Employees",
          "x": 0.55,
          "xanchor": "left",
          "xref": "x1",
          "y": 42,
          "yref": "y1"
         },
         {
          "align": "left",
          "font": {
           "color": "#000000"
          },
          "showarrow": false,
          "text": "22",
          "x": 1.55,
          "xanchor": "left",
          "xref": "x1",
          "y": 42,
          "yref": "y1"
         },
         {
          "align": "left",
          "font": {
           "color": "#000000"
          },
          "showarrow": false,
          "text": "1",
          "x": 2.55,
          "xanchor": "left",
          "xref": "x1",
          "y": 42,
          "yref": "y1"
         },
         {
          "align": "left",
          "font": {
           "color": "#000000"
          },
          "showarrow": false,
          "text": "1",
          "x": 3.55,
          "xanchor": "left",
          "xref": "x1",
          "y": 42,
          "yref": "y1"
         },
         {
          "align": "left",
          "font": {
           "color": "#000000"
          },
          "showarrow": false,
          "text": "Firefox Focus",
          "x": -0.45,
          "xanchor": "left",
          "xref": "x1",
          "y": 43,
          "yref": "y1"
         },
         {
          "align": "left",
          "font": {
           "color": "#000000"
          },
          "showarrow": false,
          "text": "Employees",
          "x": 0.55,
          "xanchor": "left",
          "xref": "x1",
          "y": 43,
          "yref": "y1"
         },
         {
          "align": "left",
          "font": {
           "color": "#000000"
          },
          "showarrow": false,
          "text": "18",
          "x": 1.55,
          "xanchor": "left",
          "xref": "x1",
          "y": 43,
          "yref": "y1"
         },
         {
          "align": "left",
          "font": {
           "color": "#000000"
          },
          "showarrow": false,
          "text": "1",
          "x": 2.55,
          "xanchor": "left",
          "xref": "x1",
          "y": 43,
          "yref": "y1"
         },
         {
          "align": "left",
          "font": {
           "color": "#000000"
          },
          "showarrow": false,
          "text": "1",
          "x": 3.55,
          "xanchor": "left",
          "xref": "x1",
          "y": 43,
          "yref": "y1"
         },
         {
          "align": "left",
          "font": {
           "color": "#000000"
          },
          "showarrow": false,
          "text": "Advocacy and policy",
          "x": -0.45,
          "xanchor": "left",
          "xref": "x1",
          "y": 44,
          "yref": "y1"
         },
         {
          "align": "left",
          "font": {
           "color": "#000000"
          },
          "showarrow": false,
          "text": "Non-Employees",
          "x": 0.55,
          "xanchor": "left",
          "xref": "x1",
          "y": 44,
          "yref": "y1"
         },
         {
          "align": "left",
          "font": {
           "color": "#000000"
          },
          "showarrow": false,
          "text": "11",
          "x": 1.55,
          "xanchor": "left",
          "xref": "x1",
          "y": 44,
          "yref": "y1"
         },
         {
          "align": "left",
          "font": {
           "color": "#000000"
          },
          "showarrow": false,
          "text": "1",
          "x": 2.55,
          "xanchor": "left",
          "xref": "x1",
          "y": 44,
          "yref": "y1"
         },
         {
          "align": "left",
          "font": {
           "color": "#000000"
          },
          "showarrow": false,
          "text": "4",
          "x": 3.55,
          "xanchor": "left",
          "xref": "x1",
          "y": 44,
          "yref": "y1"
         },
         {
          "align": "left",
          "font": {
           "color": "#000000"
          },
          "showarrow": false,
          "text": "Connected devices & IoT",
          "x": -0.45,
          "xanchor": "left",
          "xref": "x1",
          "y": 45,
          "yref": "y1"
         },
         {
          "align": "left",
          "font": {
           "color": "#000000"
          },
          "showarrow": false,
          "text": "Employees",
          "x": 0.55,
          "xanchor": "left",
          "xref": "x1",
          "y": 45,
          "yref": "y1"
         },
         {
          "align": "left",
          "font": {
           "color": "#000000"
          },
          "showarrow": false,
          "text": "9",
          "x": 1.55,
          "xanchor": "left",
          "xref": "x1",
          "y": 45,
          "yref": "y1"
         },
         {
          "align": "left",
          "font": {
           "color": "#000000"
          },
          "showarrow": false,
          "text": "1",
          "x": 2.55,
          "xanchor": "left",
          "xref": "x1",
          "y": 45,
          "yref": "y1"
         },
         {
          "align": "left",
          "font": {
           "color": "#000000"
          },
          "showarrow": false,
          "text": "3",
          "x": 3.55,
          "xanchor": "left",
          "xref": "x1",
          "y": 45,
          "yref": "y1"
         },
         {
          "align": "left",
          "font": {
           "color": "#000000"
          },
          "showarrow": false,
          "text": "Web Compatibility",
          "x": -0.45,
          "xanchor": "left",
          "xref": "x1",
          "y": 46,
          "yref": "y1"
         },
         {
          "align": "left",
          "font": {
           "color": "#000000"
          },
          "showarrow": false,
          "text": "Employees",
          "x": 0.55,
          "xanchor": "left",
          "xref": "x1",
          "y": 46,
          "yref": "y1"
         },
         {
          "align": "left",
          "font": {
           "color": "#000000"
          },
          "showarrow": false,
          "text": "7",
          "x": 1.55,
          "xanchor": "left",
          "xref": "x1",
          "y": 46,
          "yref": "y1"
         },
         {
          "align": "left",
          "font": {
           "color": "#000000"
          },
          "showarrow": false,
          "text": "1",
          "x": 2.55,
          "xanchor": "left",
          "xref": "x1",
          "y": 46,
          "yref": "y1"
         },
         {
          "align": "left",
          "font": {
           "color": "#000000"
          },
          "showarrow": false,
          "text": "2",
          "x": 3.55,
          "xanchor": "left",
          "xref": "x1",
          "y": 46,
          "yref": "y1"
         },
         {
          "align": "left",
          "font": {
           "color": "#000000"
          },
          "showarrow": false,
          "text": "Web Compatibility",
          "x": -0.45,
          "xanchor": "left",
          "xref": "x1",
          "y": 47,
          "yref": "y1"
         },
         {
          "align": "left",
          "font": {
           "color": "#000000"
          },
          "showarrow": false,
          "text": "Non-Employees",
          "x": 0.55,
          "xanchor": "left",
          "xref": "x1",
          "y": 47,
          "yref": "y1"
         },
         {
          "align": "left",
          "font": {
           "color": "#000000"
          },
          "showarrow": false,
          "text": "6",
          "x": 1.55,
          "xanchor": "left",
          "xref": "x1",
          "y": 47,
          "yref": "y1"
         },
         {
          "align": "left",
          "font": {
           "color": "#000000"
          },
          "showarrow": false,
          "text": "1",
          "x": 2.55,
          "xanchor": "left",
          "xref": "x1",
          "y": 47,
          "yref": "y1"
         },
         {
          "align": "left",
          "font": {
           "color": "#000000"
          },
          "showarrow": false,
          "text": "1",
          "x": 3.55,
          "xanchor": "left",
          "xref": "x1",
          "y": 47,
          "yref": "y1"
         },
         {
          "align": "left",
          "font": {
           "color": "#000000"
          },
          "showarrow": false,
          "text": "Firefox Focus",
          "x": -0.45,
          "xanchor": "left",
          "xref": "x1",
          "y": 48,
          "yref": "y1"
         },
         {
          "align": "left",
          "font": {
           "color": "#000000"
          },
          "showarrow": false,
          "text": "Non-Employees",
          "x": 0.55,
          "xanchor": "left",
          "xref": "x1",
          "y": 48,
          "yref": "y1"
         },
         {
          "align": "left",
          "font": {
           "color": "#000000"
          },
          "showarrow": false,
          "text": "6",
          "x": 1.55,
          "xanchor": "left",
          "xref": "x1",
          "y": 48,
          "yref": "y1"
         },
         {
          "align": "left",
          "font": {
           "color": "#000000"
          },
          "showarrow": false,
          "text": "1",
          "x": 2.55,
          "xanchor": "left",
          "xref": "x1",
          "y": 48,
          "yref": "y1"
         },
         {
          "align": "left",
          "font": {
           "color": "#000000"
          },
          "showarrow": false,
          "text": "1",
          "x": 3.55,
          "xanchor": "left",
          "xref": "x1",
          "y": 48,
          "yref": "y1"
         },
         {
          "align": "left",
          "font": {
           "color": "#000000"
          },
          "showarrow": false,
          "text": "Rust",
          "x": -0.45,
          "xanchor": "left",
          "xref": "x1",
          "y": 49,
          "yref": "y1"
         },
         {
          "align": "left",
          "font": {
           "color": "#000000"
          },
          "showarrow": false,
          "text": "Employees",
          "x": 0.55,
          "xanchor": "left",
          "xref": "x1",
          "y": 49,
          "yref": "y1"
         },
         {
          "align": "left",
          "font": {
           "color": "#000000"
          },
          "showarrow": false,
          "text": "5",
          "x": 1.55,
          "xanchor": "left",
          "xref": "x1",
          "y": 49,
          "yref": "y1"
         },
         {
          "align": "left",
          "font": {
           "color": "#000000"
          },
          "showarrow": false,
          "text": "1",
          "x": 2.55,
          "xanchor": "left",
          "xref": "x1",
          "y": 49,
          "yref": "y1"
         },
         {
          "align": "left",
          "font": {
           "color": "#000000"
          },
          "showarrow": false,
          "text": "1",
          "x": 3.55,
          "xanchor": "left",
          "xref": "x1",
          "y": 49,
          "yref": "y1"
         },
         {
          "align": "left",
          "font": {
           "color": "#000000"
          },
          "showarrow": false,
          "text": "Advocacy and policy",
          "x": -0.45,
          "xanchor": "left",
          "xref": "x1",
          "y": 50,
          "yref": "y1"
         },
         {
          "align": "left",
          "font": {
           "color": "#000000"
          },
          "showarrow": false,
          "text": "Employees",
          "x": 0.55,
          "xanchor": "left",
          "xref": "x1",
          "y": 50,
          "yref": "y1"
         },
         {
          "align": "left",
          "font": {
           "color": "#000000"
          },
          "showarrow": false,
          "text": "3",
          "x": 1.55,
          "xanchor": "left",
          "xref": "x1",
          "y": 50,
          "yref": "y1"
         },
         {
          "align": "left",
          "font": {
           "color": "#000000"
          },
          "showarrow": false,
          "text": "1",
          "x": 2.55,
          "xanchor": "left",
          "xref": "x1",
          "y": 50,
          "yref": "y1"
         },
         {
          "align": "left",
          "font": {
           "color": "#000000"
          },
          "showarrow": false,
          "text": "2",
          "x": 3.55,
          "xanchor": "left",
          "xref": "x1",
          "y": 50,
          "yref": "y1"
         },
         {
          "align": "left",
          "font": {
           "color": "#000000"
          },
          "showarrow": false,
          "text": "Connected devices & IoT",
          "x": -0.45,
          "xanchor": "left",
          "xref": "x1",
          "y": 51,
          "yref": "y1"
         },
         {
          "align": "left",
          "font": {
           "color": "#000000"
          },
          "showarrow": false,
          "text": "Non-Employees",
          "x": 0.55,
          "xanchor": "left",
          "xref": "x1",
          "y": 51,
          "yref": "y1"
         },
         {
          "align": "left",
          "font": {
           "color": "#000000"
          },
          "showarrow": false,
          "text": "1",
          "x": 1.55,
          "xanchor": "left",
          "xref": "x1",
          "y": 51,
          "yref": "y1"
         },
         {
          "align": "left",
          "font": {
           "color": "#000000"
          },
          "showarrow": false,
          "text": "1",
          "x": 2.55,
          "xanchor": "left",
          "xref": "x1",
          "y": 51,
          "yref": "y1"
         },
         {
          "align": "left",
          "font": {
           "color": "#000000"
          },
          "showarrow": false,
          "text": "1",
          "x": 3.55,
          "xanchor": "left",
          "xref": "x1",
          "y": 51,
          "yref": "y1"
         },
         {
          "align": "left",
          "font": {
           "color": "#000000"
          },
          "showarrow": false,
          "text": "Firefox Student Ambassadors",
          "x": -0.45,
          "xanchor": "left",
          "xref": "x1",
          "y": 52,
          "yref": "y1"
         },
         {
          "align": "left",
          "font": {
           "color": "#000000"
          },
          "showarrow": false,
          "text": "Non-Employees",
          "x": 0.55,
          "xanchor": "left",
          "xref": "x1",
          "y": 52,
          "yref": "y1"
         },
         {
          "align": "left",
          "font": {
           "color": "#000000"
          },
          "showarrow": false,
          "text": "1",
          "x": 1.55,
          "xanchor": "left",
          "xref": "x1",
          "y": 52,
          "yref": "y1"
         },
         {
          "align": "left",
          "font": {
           "color": "#000000"
          },
          "showarrow": false,
          "text": "1",
          "x": 2.55,
          "xanchor": "left",
          "xref": "x1",
          "y": 52,
          "yref": "y1"
         },
         {
          "align": "left",
          "font": {
           "color": "#000000"
          },
          "showarrow": false,
          "text": "1",
          "x": 3.55,
          "xanchor": "left",
          "xref": "x1",
          "y": 52,
          "yref": "y1"
         }
        ],
        "height": 1640,
        "margin": {
         "b": 0,
         "l": 0,
         "r": 0,
         "t": 0
        },
        "xaxis": {
         "dtick": 1,
         "gridwidth": 2,
         "showticklabels": false,
         "tick0": -0.5,
         "ticks": "",
         "zeroline": false
        },
        "yaxis": {
         "autorange": "reversed",
         "dtick": 1,
         "gridwidth": 2,
         "showticklabels": false,
         "tick0": 0.5,
         "ticks": "",
         "zeroline": false
        }
       }
      },
      "text/html": [
       "<div id=\"d62f3447-05ab-4000-b188-3a0f0b8f6b0b\" style=\"height: 1640px; width: 100%;\" class=\"plotly-graph-div\"></div><script type=\"text/javascript\">require([\"plotly\"], function(Plotly) { window.PLOTLYENV=window.PLOTLYENV || {};window.PLOTLYENV.BASE_URL=\"https://plot.ly\";Plotly.newPlot(\"d62f3447-05ab-4000-b188-3a0f0b8f6b0b\", [{\"hoverinfo\": \"none\", \"colorscale\": [[0, \"#00083e\"], [0.5, \"#ededee\"], [1, \"#ffffff\"]], \"z\": [[0, 0, 0, 0, 0], [0.5, 0.5, 0.5, 0.5, 0.5], [1, 1, 1, 1, 1], [0.5, 0.5, 0.5, 0.5, 0.5], [1, 1, 1, 1, 1], [0.5, 0.5, 0.5, 0.5, 0.5], [1, 1, 1, 1, 1], [0.5, 0.5, 0.5, 0.5, 0.5], [1, 1, 1, 1, 1], [0.5, 0.5, 0.5, 0.5, 0.5], [1, 1, 1, 1, 1], [0.5, 0.5, 0.5, 0.5, 0.5], [1, 1, 1, 1, 1], [0.5, 0.5, 0.5, 0.5, 0.5], [1, 1, 1, 1, 1], [0.5, 0.5, 0.5, 0.5, 0.5], [1, 1, 1, 1, 1], [0.5, 0.5, 0.5, 0.5, 0.5], [1, 1, 1, 1, 1], [0.5, 0.5, 0.5, 0.5, 0.5], [1, 1, 1, 1, 1], [0.5, 0.5, 0.5, 0.5, 0.5], [1, 1, 1, 1, 1], [0.5, 0.5, 0.5, 0.5, 0.5], [1, 1, 1, 1, 1], [0.5, 0.5, 0.5, 0.5, 0.5], [1, 1, 1, 1, 1], [0.5, 0.5, 0.5, 0.5, 0.5], [1, 1, 1, 1, 1], [0.5, 0.5, 0.5, 0.5, 0.5], [1, 1, 1, 1, 1], [0.5, 0.5, 0.5, 0.5, 0.5], [1, 1, 1, 1, 1], [0.5, 0.5, 0.5, 0.5, 0.5], [1, 1, 1, 1, 1], [0.5, 0.5, 0.5, 0.5, 0.5], [1, 1, 1, 1, 1], [0.5, 0.5, 0.5, 0.5, 0.5], [1, 1, 1, 1, 1], [0.5, 0.5, 0.5, 0.5, 0.5], [1, 1, 1, 1, 1], [0.5, 0.5, 0.5, 0.5, 0.5], [1, 1, 1, 1, 1], [0.5, 0.5, 0.5, 0.5, 0.5], [1, 1, 1, 1, 1], [0.5, 0.5, 0.5, 0.5, 0.5], [1, 1, 1, 1, 1], [0.5, 0.5, 0.5, 0.5, 0.5], [1, 1, 1, 1, 1], [0.5, 0.5, 0.5, 0.5, 0.5], [1, 1, 1, 1, 1], [0.5, 0.5, 0.5, 0.5, 0.5], [1, 1, 1, 1, 1]], \"showscale\": false, \"opacity\": 0.75, \"type\": \"heatmap\"}], {\"height\": 1640, \"yaxis\": {\"gridwidth\": 2, \"dtick\": 1, \"ticks\": \"\", \"tick0\": 0.5, \"showticklabels\": false, \"zeroline\": false, \"autorange\": \"reversed\"}, \"xaxis\": {\"gridwidth\": 2, \"dtick\": 1, \"ticks\": \"\", \"tick0\": -0.5, \"showticklabels\": false, \"zeroline\": false}, \"margin\": {\"r\": 0, \"b\": 0, \"l\": 0, \"t\": 0}, \"annotations\": [{\"font\": {\"color\": \"#ffffff\"}, \"y\": 0, \"text\": \"<b>Project</b>\", \"x\": -0.45, \"xref\": \"x1\", \"align\": \"left\", \"yref\": \"y1\", \"showarrow\": false, \"xanchor\": \"left\"}, {\"font\": {\"color\": \"#ffffff\"}, \"y\": 0, \"text\": \"<b>Org</b>\", \"x\": 0.55, \"xref\": \"x1\", \"align\": \"left\", \"yref\": \"y1\", \"showarrow\": false, \"xanchor\": \"left\"}, {\"font\": {\"color\": \"#ffffff\"}, \"y\": 0, \"text\": \"<b>uuid</b>\", \"x\": 1.55, \"xref\": \"x1\", \"align\": \"left\", \"yref\": \"y1\", \"showarrow\": false, \"xanchor\": \"left\"}, {\"font\": {\"color\": \"#ffffff\"}, \"y\": 0, \"text\": \"<b>Product</b>\", \"x\": 2.55, \"xref\": \"x1\", \"align\": \"left\", \"yref\": \"y1\", \"showarrow\": false, \"xanchor\": \"left\"}, {\"font\": {\"color\": \"#ffffff\"}, \"y\": 0, \"text\": \"<b>Component</b>\", \"x\": 3.55, \"xref\": \"x1\", \"align\": \"left\", \"yref\": \"y1\", \"showarrow\": false, \"xanchor\": \"left\"}, {\"font\": {\"color\": \"#000000\"}, \"y\": 1, \"text\": \"Firefox\", \"x\": -0.45, \"xref\": \"x1\", \"align\": \"left\", \"yref\": \"y1\", \"showarrow\": false, \"xanchor\": \"left\"}, {\"font\": {\"color\": \"#000000\"}, \"y\": 1, \"text\": \"Non-Employees\", \"x\": 0.55, \"xref\": \"x1\", \"align\": \"left\", \"yref\": \"y1\", \"showarrow\": false, \"xanchor\": \"left\"}, {\"font\": {\"color\": \"#000000\"}, \"y\": 1, \"text\": \"71348\", \"x\": 1.55, \"xref\": \"x1\", \"align\": \"left\", \"yref\": \"y1\", \"showarrow\": false, \"xanchor\": \"left\"}, {\"font\": {\"color\": \"#000000\"}, \"y\": 1, \"text\": \"3\", \"x\": 2.55, \"xref\": \"x1\", \"align\": \"left\", \"yref\": \"y1\", \"showarrow\": false, \"xanchor\": \"left\"}, {\"font\": {\"color\": \"#000000\"}, \"y\": 1, \"text\": \"56\", \"x\": 3.55, \"xref\": \"x1\", \"align\": \"left\", \"yref\": \"y1\", \"showarrow\": false, \"xanchor\": \"left\"}, {\"font\": {\"color\": \"#000000\"}, \"y\": 2, \"text\": \"Gecko\", \"x\": -0.45, \"xref\": \"x1\", \"align\": \"left\", \"yref\": \"y1\", \"showarrow\": false, \"xanchor\": \"left\"}, {\"font\": {\"color\": \"#000000\"}, \"y\": 2, \"text\": \"Non-Employees\", \"x\": 0.55, \"xref\": \"x1\", \"align\": \"left\", \"yref\": \"y1\", \"showarrow\": false, \"xanchor\": \"left\"}, {\"font\": {\"color\": \"#000000\"}, \"y\": 2, \"text\": \"61384\", \"x\": 1.55, \"xref\": \"x1\", \"align\": \"left\", \"yref\": \"y1\", \"showarrow\": false, \"xanchor\": \"left\"}, {\"font\": {\"color\": \"#000000\"}, \"y\": 2, \"text\": \"5\", \"x\": 2.55, \"xref\": \"x1\", \"align\": \"left\", \"yref\": \"y1\", \"showarrow\": false, \"xanchor\": \"left\"}, {\"font\": {\"color\": \"#000000\"}, \"y\": 2, \"text\": \"245\", \"x\": 3.55, \"xref\": \"x1\", \"align\": \"left\", \"yref\": \"y1\", \"showarrow\": false, \"xanchor\": \"left\"}, {\"font\": {\"color\": \"#000000\"}, \"y\": 3, \"text\": \"Thunderbird\", \"x\": -0.45, \"xref\": \"x1\", \"align\": \"left\", \"yref\": \"y1\", \"showarrow\": false, \"xanchor\": \"left\"}, {\"font\": {\"color\": \"#000000\"}, \"y\": 3, \"text\": \"Non-Employees\", \"x\": 0.55, \"xref\": \"x1\", \"align\": \"left\", \"yref\": \"y1\", \"showarrow\": false, \"xanchor\": \"left\"}, {\"font\": {\"color\": \"#000000\"}, \"y\": 3, \"text\": \"29644\", \"x\": 1.55, \"xref\": \"x1\", \"align\": \"left\", \"yref\": \"y1\", \"showarrow\": false, \"xanchor\": \"left\"}, {\"font\": {\"color\": \"#000000\"}, \"y\": 3, \"text\": \"3\", \"x\": 2.55, \"xref\": \"x1\", \"align\": \"left\", \"yref\": \"y1\", \"showarrow\": false, \"xanchor\": \"left\"}, {\"font\": {\"color\": \"#000000\"}, \"y\": 3, \"text\": \"47\", \"x\": 3.55, \"xref\": \"x1\", \"align\": \"left\", \"yref\": \"y1\", \"showarrow\": false, \"xanchor\": \"left\"}, {\"font\": {\"color\": \"#000000\"}, \"y\": 4, \"text\": \"Technical/Developer Evangelism\", \"x\": -0.45, \"xref\": \"x1\", \"align\": \"left\", \"yref\": \"y1\", \"showarrow\": false, \"xanchor\": \"left\"}, {\"font\": {\"color\": \"#000000\"}, \"y\": 4, \"text\": \"Non-Employees\", \"x\": 0.55, \"xref\": \"x1\", \"align\": \"left\", \"yref\": \"y1\", \"showarrow\": false, \"xanchor\": \"left\"}, {\"font\": {\"color\": \"#000000\"}, \"y\": 4, \"text\": \"5249\", \"x\": 1.55, \"xref\": \"x1\", \"align\": \"left\", \"yref\": \"y1\", \"showarrow\": false, \"xanchor\": \"left\"}, {\"font\": {\"color\": \"#000000\"}, \"y\": 4, \"text\": \"3\", \"x\": 2.55, \"xref\": \"x1\", \"align\": \"left\", \"yref\": \"y1\", \"showarrow\": false, \"xanchor\": \"left\"}, {\"font\": {\"color\": \"#000000\"}, \"y\": 4, \"text\": \"44\", \"x\": 3.55, \"xref\": \"x1\", \"align\": \"left\", \"yref\": \"y1\", \"showarrow\": false, \"xanchor\": \"left\"}, {\"font\": {\"color\": \"#000000\"}, \"y\": 5, \"text\": \"Web Properties\", \"x\": -0.45, \"xref\": \"x1\", \"align\": \"left\", \"yref\": \"y1\", \"showarrow\": false, \"xanchor\": \"left\"}, {\"font\": {\"color\": \"#000000\"}, \"y\": 5, \"text\": \"Non-Employees\", \"x\": 0.55, \"xref\": \"x1\", \"align\": \"left\", \"yref\": \"y1\", \"showarrow\": false, \"xanchor\": \"left\"}, {\"font\": {\"color\": \"#000000\"}, \"y\": 5, \"text\": \"4254\", \"x\": 1.55, \"xref\": \"x1\", \"align\": \"left\", \"yref\": \"y1\", \"showarrow\": false, \"xanchor\": \"left\"}, {\"font\": {\"color\": \"#000000\"}, \"y\": 5, \"text\": \"16\", \"x\": 2.55, \"xref\": \"x1\", \"align\": \"left\", \"yref\": \"y1\", \"showarrow\": false, \"xanchor\": \"left\"}, {\"font\": {\"color\": \"#000000\"}, \"y\": 5, \"text\": \"166\", \"x\": 3.55, \"xref\": \"x1\", \"align\": \"left\", \"yref\": \"y1\", \"showarrow\": false, \"xanchor\": \"left\"}, {\"font\": {\"color\": \"#000000\"}, \"y\": 6, \"text\": \"IT/Ops\", \"x\": -0.45, \"xref\": \"x1\", \"align\": \"left\", \"yref\": \"y1\", \"showarrow\": false, \"xanchor\": \"left\"}, {\"font\": {\"color\": \"#000000\"}, \"y\": 6, \"text\": \"Non-Employees\", \"x\": 0.55, \"xref\": \"x1\", \"align\": \"left\", \"yref\": \"y1\", \"showarrow\": false, \"xanchor\": \"left\"}, {\"font\": {\"color\": \"#000000\"}, \"y\": 6, \"text\": \"2730\", \"x\": 1.55, \"xref\": \"x1\", \"align\": \"left\", \"yref\": \"y1\", \"showarrow\": false, \"xanchor\": \"left\"}, {\"font\": {\"color\": \"#000000\"}, \"y\": 6, \"text\": \"11\", \"x\": 2.55, \"xref\": \"x1\", \"align\": \"left\", \"yref\": \"y1\", \"showarrow\": false, \"xanchor\": \"left\"}, {\"font\": {\"color\": \"#000000\"}, \"y\": 6, \"text\": \"172\", \"x\": 3.55, \"xref\": \"x1\", \"align\": \"left\", \"yref\": \"y1\", \"showarrow\": false, \"xanchor\": \"left\"}, {\"font\": {\"color\": \"#000000\"}, \"y\": 7, \"text\": \"Firefox Android\", \"x\": -0.45, \"xref\": \"x1\", \"align\": \"left\", \"yref\": \"y1\", \"showarrow\": false, \"xanchor\": \"left\"}, {\"font\": {\"color\": \"#000000\"}, \"y\": 7, \"text\": \"Non-Employees\", \"x\": 0.55, \"xref\": \"x1\", \"align\": \"left\", \"yref\": \"y1\", \"showarrow\": false, \"xanchor\": \"left\"}, {\"font\": {\"color\": \"#000000\"}, \"y\": 7, \"text\": \"2484\", \"x\": 1.55, \"xref\": \"x1\", \"align\": \"left\", \"yref\": \"y1\", \"showarrow\": false, \"xanchor\": \"left\"}, {\"font\": {\"color\": \"#000000\"}, \"y\": 7, \"text\": \"2\", \"x\": 2.55, \"xref\": \"x1\", \"align\": \"left\", \"yref\": \"y1\", \"showarrow\": false, \"xanchor\": \"left\"}, {\"font\": {\"color\": \"#000000\"}, \"y\": 7, \"text\": \"36\", \"x\": 3.55, \"xref\": \"x1\", \"align\": \"left\", \"yref\": \"y1\", \"showarrow\": false, \"xanchor\": \"left\"}, {\"font\": {\"color\": \"#000000\"}, \"y\": 8, \"text\": \"IT/Ops\", \"x\": -0.45, \"xref\": \"x1\", \"align\": \"left\", \"yref\": \"y1\", \"showarrow\": false, \"xanchor\": \"left\"}, {\"font\": {\"color\": \"#000000\"}, \"y\": 8, \"text\": \"Employees\", \"x\": 0.55, \"xref\": \"x1\", \"align\": \"left\", \"yref\": \"y1\", \"showarrow\": false, \"xanchor\": \"left\"}, {\"font\": {\"color\": \"#000000\"}, \"y\": 8, \"text\": \"2242\", \"x\": 1.55, \"xref\": \"x1\", \"align\": \"left\", \"yref\": \"y1\", \"showarrow\": false, \"xanchor\": \"left\"}, {\"font\": {\"color\": \"#000000\"}, \"y\": 8, \"text\": \"11\", \"x\": 2.55, \"xref\": \"x1\", \"align\": \"left\", \"yref\": \"y1\", \"showarrow\": false, \"xanchor\": \"left\"}, {\"font\": {\"color\": \"#000000\"}, \"y\": 8, \"text\": \"213\", \"x\": 3.55, \"xref\": \"x1\", \"align\": \"left\", \"yref\": \"y1\", \"showarrow\": false, \"xanchor\": \"left\"}, {\"font\": {\"color\": \"#000000\"}, \"y\": 9, \"text\": \"Addons/Web Extensions\", \"x\": -0.45, \"xref\": \"x1\", \"align\": \"left\", \"yref\": \"y1\", \"showarrow\": false, \"xanchor\": \"left\"}, {\"font\": {\"color\": \"#000000\"}, \"y\": 9, \"text\": \"Non-Employees\", \"x\": 0.55, \"xref\": \"x1\", \"align\": \"left\", \"yref\": \"y1\", \"showarrow\": false, \"xanchor\": \"left\"}, {\"font\": {\"color\": \"#000000\"}, \"y\": 9, \"text\": \"2176\", \"x\": 1.55, \"xref\": \"x1\", \"align\": \"left\", \"yref\": \"y1\", \"showarrow\": false, \"xanchor\": \"left\"}, {\"font\": {\"color\": \"#000000\"}, \"y\": 9, \"text\": \"3\", \"x\": 2.55, \"xref\": \"x1\", \"align\": \"left\", \"yref\": \"y1\", \"showarrow\": false, \"xanchor\": \"left\"}, {\"font\": {\"color\": \"#000000\"}, \"y\": 9, \"text\": \"25\", \"x\": 3.55, \"xref\": \"x1\", \"align\": \"left\", \"yref\": \"y1\", \"showarrow\": false, \"xanchor\": \"left\"}, {\"font\": {\"color\": \"#000000\"}, \"y\": 10, \"text\": \"Firefox OS (FxOS / B2G)\", \"x\": -0.45, \"xref\": \"x1\", \"align\": \"left\", \"yref\": \"y1\", \"showarrow\": false, \"xanchor\": \"left\"}, {\"font\": {\"color\": \"#000000\"}, \"y\": 10, \"text\": \"Non-Employees\", \"x\": 0.55, \"xref\": \"x1\", \"align\": \"left\", \"yref\": \"y1\", \"showarrow\": false, \"xanchor\": \"left\"}, {\"font\": {\"color\": \"#000000\"}, \"y\": 10, \"text\": \"2022\", \"x\": 1.55, \"xref\": \"x1\", \"align\": \"left\", \"yref\": \"y1\", \"showarrow\": false, \"xanchor\": \"left\"}, {\"font\": {\"color\": \"#000000\"}, \"y\": 10, \"text\": \"4\", \"x\": 2.55, \"xref\": \"x1\", \"align\": \"left\", \"yref\": \"y1\", \"showarrow\": false, \"xanchor\": \"left\"}, {\"font\": {\"color\": \"#000000\"}, \"y\": 10, \"text\": \"113\", \"x\": 3.55, \"xref\": \"x1\", \"align\": \"left\", \"yref\": \"y1\", \"showarrow\": false, \"xanchor\": \"left\"}, {\"font\": {\"color\": \"#000000\"}, \"y\": 11, \"text\": \"Localization\", \"x\": -0.45, \"xref\": \"x1\", \"align\": \"left\", \"yref\": \"y1\", \"showarrow\": false, \"xanchor\": \"left\"}, {\"font\": {\"color\": \"#000000\"}, \"y\": 11, \"text\": \"Non-Employees\", \"x\": 0.55, \"xref\": \"x1\", \"align\": \"left\", \"yref\": \"y1\", \"showarrow\": false, \"xanchor\": \"left\"}, {\"font\": {\"color\": \"#000000\"}, \"y\": 11, \"text\": \"1935\", \"x\": 1.55, \"xref\": \"x1\", \"align\": \"left\", \"yref\": \"y1\", \"showarrow\": false, \"xanchor\": \"left\"}, {\"font\": {\"color\": \"#000000\"}, \"y\": 11, \"text\": \"4\", \"x\": 2.55, \"xref\": \"x1\", \"align\": \"left\", \"yref\": \"y1\", \"showarrow\": false, \"xanchor\": \"left\"}, {\"font\": {\"color\": \"#000000\"}, \"y\": 11, \"text\": \"115\", \"x\": 3.55, \"xref\": \"x1\", \"align\": \"left\", \"yref\": \"y1\", \"showarrow\": false, \"xanchor\": \"left\"}, {\"font\": {\"color\": \"#000000\"}, \"y\": 12, \"text\": \"Mozilla Developer Network (MDN)\", \"x\": -0.45, \"xref\": \"x1\", \"align\": \"left\", \"yref\": \"y1\", \"showarrow\": false, \"xanchor\": \"left\"}, {\"font\": {\"color\": \"#000000\"}, \"y\": 12, \"text\": \"Non-Employees\", \"x\": 0.55, \"xref\": \"x1\", \"align\": \"left\", \"yref\": \"y1\", \"showarrow\": false, \"xanchor\": \"left\"}, {\"font\": {\"color\": \"#000000\"}, \"y\": 12, \"text\": \"1866\", \"x\": 1.55, \"xref\": \"x1\", \"align\": \"left\", \"yref\": \"y1\", \"showarrow\": false, \"xanchor\": \"left\"}, {\"font\": {\"color\": \"#000000\"}, \"y\": 12, \"text\": \"2\", \"x\": 2.55, \"xref\": \"x1\", \"align\": \"left\", \"yref\": \"y1\", \"showarrow\": false, \"xanchor\": \"left\"}, {\"font\": {\"color\": \"#000000\"}, \"y\": 12, \"text\": \"53\", \"x\": 3.55, \"xref\": \"x1\", \"align\": \"left\", \"yref\": \"y1\", \"showarrow\": false, \"xanchor\": \"left\"}, {\"font\": {\"color\": \"#000000\"}, \"y\": 13, \"text\": \"Gecko\", \"x\": -0.45, \"xref\": \"x1\", \"align\": \"left\", \"yref\": \"y1\", \"showarrow\": false, \"xanchor\": \"left\"}, {\"font\": {\"color\": \"#000000\"}, \"y\": 13, \"text\": \"Employees\", \"x\": 0.55, \"xref\": \"x1\", \"align\": \"left\", \"yref\": \"y1\", \"showarrow\": false, \"xanchor\": \"left\"}, {\"font\": {\"color\": \"#000000\"}, \"y\": 13, \"text\": \"1679\", \"x\": 1.55, \"xref\": \"x1\", \"align\": \"left\", \"yref\": \"y1\", \"showarrow\": false, \"xanchor\": \"left\"}, {\"font\": {\"color\": \"#000000\"}, \"y\": 13, \"text\": \"5\", \"x\": 2.55, \"xref\": \"x1\", \"align\": \"left\", \"yref\": \"y1\", \"showarrow\": false, \"xanchor\": \"left\"}, {\"font\": {\"color\": \"#000000\"}, \"y\": 13, \"text\": \"234\", \"x\": 3.55, \"xref\": \"x1\", \"align\": \"left\", \"yref\": \"y1\", \"showarrow\": false, \"xanchor\": \"left\"}, {\"font\": {\"color\": \"#000000\"}, \"y\": 14, \"text\": \"Web Properties\", \"x\": -0.45, \"xref\": \"x1\", \"align\": \"left\", \"yref\": \"y1\", \"showarrow\": false, \"xanchor\": \"left\"}, {\"font\": {\"color\": \"#000000\"}, \"y\": 14, \"text\": \"Employees\", \"x\": 0.55, \"xref\": \"x1\", \"align\": \"left\", \"yref\": \"y1\", \"showarrow\": false, \"xanchor\": \"left\"}, {\"font\": {\"color\": \"#000000\"}, \"y\": 14, \"text\": \"1547\", \"x\": 1.55, \"xref\": \"x1\", \"align\": \"left\", \"yref\": \"y1\", \"showarrow\": false, \"xanchor\": \"left\"}, {\"font\": {\"color\": \"#000000\"}, \"y\": 14, \"text\": \"16\", \"x\": 2.55, \"xref\": \"x1\", \"align\": \"left\", \"yref\": \"y1\", \"showarrow\": false, \"xanchor\": \"left\"}, {\"font\": {\"color\": \"#000000\"}, \"y\": 14, \"text\": \"176\", \"x\": 3.55, \"xref\": \"x1\", \"align\": \"left\", \"yref\": \"y1\", \"showarrow\": false, \"xanchor\": \"left\"}, {\"font\": {\"color\": \"#000000\"}, \"y\": 15, \"text\": \"Firefox\", \"x\": -0.45, \"xref\": \"x1\", \"align\": \"left\", \"yref\": \"y1\", \"showarrow\": false, \"xanchor\": \"left\"}, {\"font\": {\"color\": \"#000000\"}, \"y\": 15, \"text\": \"Employees\", \"x\": 0.55, \"xref\": \"x1\", \"align\": \"left\", \"yref\": \"y1\", \"showarrow\": false, \"xanchor\": \"left\"}, {\"font\": {\"color\": \"#000000\"}, \"y\": 15, \"text\": \"1340\", \"x\": 1.55, \"xref\": \"x1\", \"align\": \"left\", \"yref\": \"y1\", \"showarrow\": false, \"xanchor\": \"left\"}, {\"font\": {\"color\": \"#000000\"}, \"y\": 15, \"text\": \"3\", \"x\": 2.55, \"xref\": \"x1\", \"align\": \"left\", \"yref\": \"y1\", \"showarrow\": false, \"xanchor\": \"left\"}, {\"font\": {\"color\": \"#000000\"}, \"y\": 15, \"text\": \"58\", \"x\": 3.55, \"xref\": \"x1\", \"align\": \"left\", \"yref\": \"y1\", \"showarrow\": false, \"xanchor\": \"left\"}, {\"font\": {\"color\": \"#000000\"}, \"y\": 16, \"text\": \"Developer Tools\", \"x\": -0.45, \"xref\": \"x1\", \"align\": \"left\", \"yref\": \"y1\", \"showarrow\": false, \"xanchor\": \"left\"}, {\"font\": {\"color\": \"#000000\"}, \"y\": 16, \"text\": \"Non-Employees\", \"x\": 0.55, \"xref\": \"x1\", \"align\": \"left\", \"yref\": \"y1\", \"showarrow\": false, \"xanchor\": \"left\"}, {\"font\": {\"color\": \"#000000\"}, \"y\": 16, \"text\": \"1186\", \"x\": 1.55, \"xref\": \"x1\", \"align\": \"left\", \"yref\": \"y1\", \"showarrow\": false, \"xanchor\": \"left\"}, {\"font\": {\"color\": \"#000000\"}, \"y\": 16, \"text\": \"1\", \"x\": 2.55, \"xref\": \"x1\", \"align\": \"left\", \"yref\": \"y1\", \"showarrow\": false, \"xanchor\": \"left\"}, {\"font\": {\"color\": \"#000000\"}, \"y\": 16, \"text\": \"24\", \"x\": 3.55, \"xref\": \"x1\", \"align\": \"left\", \"yref\": \"y1\", \"showarrow\": false, \"xanchor\": \"left\"}, {\"font\": {\"color\": \"#000000\"}, \"y\": 17, \"text\": \"Firefox OS (FxOS / B2G)\", \"x\": -0.45, \"xref\": \"x1\", \"align\": \"left\", \"yref\": \"y1\", \"showarrow\": false, \"xanchor\": \"left\"}, {\"font\": {\"color\": \"#000000\"}, \"y\": 17, \"text\": \"Employees\", \"x\": 0.55, \"xref\": \"x1\", \"align\": \"left\", \"yref\": \"y1\", \"showarrow\": false, \"xanchor\": \"left\"}, {\"font\": {\"color\": \"#000000\"}, \"y\": 17, \"text\": \"946\", \"x\": 1.55, \"xref\": \"x1\", \"align\": \"left\", \"yref\": \"y1\", \"showarrow\": false, \"xanchor\": \"left\"}, {\"font\": {\"color\": \"#000000\"}, \"y\": 17, \"text\": \"4\", \"x\": 2.55, \"xref\": \"x1\", \"align\": \"left\", \"yref\": \"y1\", \"showarrow\": false, \"xanchor\": \"left\"}, {\"font\": {\"color\": \"#000000\"}, \"y\": 17, \"text\": \"115\", \"x\": 3.55, \"xref\": \"x1\", \"align\": \"left\", \"yref\": \"y1\", \"showarrow\": false, \"xanchor\": \"left\"}, {\"font\": {\"color\": \"#000000\"}, \"y\": 18, \"text\": \"Firefox Android\", \"x\": -0.45, \"xref\": \"x1\", \"align\": \"left\", \"yref\": \"y1\", \"showarrow\": false, \"xanchor\": \"left\"}, {\"font\": {\"color\": \"#000000\"}, \"y\": 18, \"text\": \"Employees\", \"x\": 0.55, \"xref\": \"x1\", \"align\": \"left\", \"yref\": \"y1\", \"showarrow\": false, \"xanchor\": \"left\"}, {\"font\": {\"color\": \"#000000\"}, \"y\": 18, \"text\": \"699\", \"x\": 1.55, \"xref\": \"x1\", \"align\": \"left\", \"yref\": \"y1\", \"showarrow\": false, \"xanchor\": \"left\"}, {\"font\": {\"color\": \"#000000\"}, \"y\": 18, \"text\": \"2\", \"x\": 2.55, \"xref\": \"x1\", \"align\": \"left\", \"yref\": \"y1\", \"showarrow\": false, \"xanchor\": \"left\"}, {\"font\": {\"color\": \"#000000\"}, \"y\": 18, \"text\": \"36\", \"x\": 3.55, \"xref\": \"x1\", \"align\": \"left\", \"yref\": \"y1\", \"showarrow\": false, \"xanchor\": \"left\"}, {\"font\": {\"color\": \"#000000\"}, \"y\": 19, \"text\": \"Release engineering\", \"x\": -0.45, \"xref\": \"x1\", \"align\": \"left\", \"yref\": \"y1\", \"showarrow\": false, \"xanchor\": \"left\"}, {\"font\": {\"color\": \"#000000\"}, \"y\": 19, \"text\": \"Employees\", \"x\": 0.55, \"xref\": \"x1\", \"align\": \"left\", \"yref\": \"y1\", \"showarrow\": false, \"xanchor\": \"left\"}, {\"font\": {\"color\": \"#000000\"}, \"y\": 19, \"text\": \"636\", \"x\": 1.55, \"xref\": \"x1\", \"align\": \"left\", \"yref\": \"y1\", \"showarrow\": false, \"xanchor\": \"left\"}, {\"font\": {\"color\": \"#000000\"}, \"y\": 19, \"text\": \"1\", \"x\": 2.55, \"xref\": \"x1\", \"align\": \"left\", \"yref\": \"y1\", \"showarrow\": false, \"xanchor\": \"left\"}, {\"font\": {\"color\": \"#000000\"}, \"y\": 19, \"text\": \"14\", \"x\": 3.55, \"xref\": \"x1\", \"align\": \"left\", \"yref\": \"y1\", \"showarrow\": false, \"xanchor\": \"left\"}, {\"font\": {\"color\": \"#000000\"}, \"y\": 20, \"text\": \"Quality Assurance\", \"x\": -0.45, \"xref\": \"x1\", \"align\": \"left\", \"yref\": \"y1\", \"showarrow\": false, \"xanchor\": \"left\"}, {\"font\": {\"color\": \"#000000\"}, \"y\": 20, \"text\": \"Employees\", \"x\": 0.55, \"xref\": \"x1\", \"align\": \"left\", \"yref\": \"y1\", \"showarrow\": false, \"xanchor\": \"left\"}, {\"font\": {\"color\": \"#000000\"}, \"y\": 20, \"text\": \"582\", \"x\": 1.55, \"xref\": \"x1\", \"align\": \"left\", \"yref\": \"y1\", \"showarrow\": false, \"xanchor\": \"left\"}, {\"font\": {\"color\": \"#000000\"}, \"y\": 20, \"text\": \"4\", \"x\": 2.55, \"xref\": \"x1\", \"align\": \"left\", \"yref\": \"y1\", \"showarrow\": false, \"xanchor\": \"left\"}, {\"font\": {\"color\": \"#000000\"}, \"y\": 20, \"text\": \"42\", \"x\": 3.55, \"xref\": \"x1\", \"align\": \"left\", \"yref\": \"y1\", \"showarrow\": false, \"xanchor\": \"left\"}, {\"font\": {\"color\": \"#000000\"}, \"y\": 21, \"text\": \"Thunderbird\", \"x\": -0.45, \"xref\": \"x1\", \"align\": \"left\", \"yref\": \"y1\", \"showarrow\": false, \"xanchor\": \"left\"}, {\"font\": {\"color\": \"#000000\"}, \"y\": 21, \"text\": \"Employees\", \"x\": 0.55, \"xref\": \"x1\", \"align\": \"left\", \"yref\": \"y1\", \"showarrow\": false, \"xanchor\": \"left\"}, {\"font\": {\"color\": \"#000000\"}, \"y\": 21, \"text\": \"565\", \"x\": 1.55, \"xref\": \"x1\", \"align\": \"left\", \"yref\": \"y1\", \"showarrow\": false, \"xanchor\": \"left\"}, {\"font\": {\"color\": \"#000000\"}, \"y\": 21, \"text\": \"3\", \"x\": 2.55, \"xref\": \"x1\", \"align\": \"left\", \"yref\": \"y1\", \"showarrow\": false, \"xanchor\": \"left\"}, {\"font\": {\"color\": \"#000000\"}, \"y\": 21, \"text\": \"48\", \"x\": 3.55, \"xref\": \"x1\", \"align\": \"left\", \"yref\": \"y1\", \"showarrow\": false, \"xanchor\": \"left\"}, {\"font\": {\"color\": \"#000000\"}, \"y\": 22, \"text\": \"Quality Assurance\", \"x\": -0.45, \"xref\": \"x1\", \"align\": \"left\", \"yref\": \"y1\", \"showarrow\": false, \"xanchor\": \"left\"}, {\"font\": {\"color\": \"#000000\"}, \"y\": 22, \"text\": \"Non-Employees\", \"x\": 0.55, \"xref\": \"x1\", \"align\": \"left\", \"yref\": \"y1\", \"showarrow\": false, \"xanchor\": \"left\"}, {\"font\": {\"color\": \"#000000\"}, \"y\": 22, \"text\": \"535\", \"x\": 1.55, \"xref\": \"x1\", \"align\": \"left\", \"yref\": \"y1\", \"showarrow\": false, \"xanchor\": \"left\"}, {\"font\": {\"color\": \"#000000\"}, \"y\": 22, \"text\": \"4\", \"x\": 2.55, \"xref\": \"x1\", \"align\": \"left\", \"yref\": \"y1\", \"showarrow\": false, \"xanchor\": \"left\"}, {\"font\": {\"color\": \"#000000\"}, \"y\": 22, \"text\": \"38\", \"x\": 3.55, \"xref\": \"x1\", \"align\": \"left\", \"yref\": \"y1\", \"showarrow\": false, \"xanchor\": \"left\"}, {\"font\": {\"color\": \"#000000\"}, \"y\": 23, \"text\": \"Addons/Web Extensions\", \"x\": -0.45, \"xref\": \"x1\", \"align\": \"left\", \"yref\": \"y1\", \"showarrow\": false, \"xanchor\": \"left\"}, {\"font\": {\"color\": \"#000000\"}, \"y\": 23, \"text\": \"Employees\", \"x\": 0.55, \"xref\": \"x1\", \"align\": \"left\", \"yref\": \"y1\", \"showarrow\": false, \"xanchor\": \"left\"}, {\"font\": {\"color\": \"#000000\"}, \"y\": 23, \"text\": \"498\", \"x\": 1.55, \"xref\": \"x1\", \"align\": \"left\", \"yref\": \"y1\", \"showarrow\": false, \"xanchor\": \"left\"}, {\"font\": {\"color\": \"#000000\"}, \"y\": 23, \"text\": \"3\", \"x\": 2.55, \"xref\": \"x1\", \"align\": \"left\", \"yref\": \"y1\", \"showarrow\": false, \"xanchor\": \"left\"}, {\"font\": {\"color\": \"#000000\"}, \"y\": 23, \"text\": \"25\", \"x\": 3.55, \"xref\": \"x1\", \"align\": \"left\", \"yref\": \"y1\", \"showarrow\": false, \"xanchor\": \"left\"}, {\"font\": {\"color\": \"#000000\"}, \"y\": 24, \"text\": \"Developer Tools\", \"x\": -0.45, \"xref\": \"x1\", \"align\": \"left\", \"yref\": \"y1\", \"showarrow\": false, \"xanchor\": \"left\"}, {\"font\": {\"color\": \"#000000\"}, \"y\": 24, \"text\": \"Employees\", \"x\": 0.55, \"xref\": \"x1\", \"align\": \"left\", \"yref\": \"y1\", \"showarrow\": false, \"xanchor\": \"left\"}, {\"font\": {\"color\": \"#000000\"}, \"y\": 24, \"text\": \"461\", \"x\": 1.55, \"xref\": \"x1\", \"align\": \"left\", \"yref\": \"y1\", \"showarrow\": false, \"xanchor\": \"left\"}, {\"font\": {\"color\": \"#000000\"}, \"y\": 24, \"text\": \"1\", \"x\": 2.55, \"xref\": \"x1\", \"align\": \"left\", \"yref\": \"y1\", \"showarrow\": false, \"xanchor\": \"left\"}, {\"font\": {\"color\": \"#000000\"}, \"y\": 24, \"text\": \"24\", \"x\": 3.55, \"xref\": \"x1\", \"align\": \"left\", \"yref\": \"y1\", \"showarrow\": false, \"xanchor\": \"left\"}, {\"font\": {\"color\": \"#000000\"}, \"y\": 25, \"text\": \"Mozilla Developer Network (MDN)\", \"x\": -0.45, \"xref\": \"x1\", \"align\": \"left\", \"yref\": \"y1\", \"showarrow\": false, \"xanchor\": \"left\"}, {\"font\": {\"color\": \"#000000\"}, \"y\": 25, \"text\": \"Employees\", \"x\": 0.55, \"xref\": \"x1\", \"align\": \"left\", \"yref\": \"y1\", \"showarrow\": false, \"xanchor\": \"left\"}, {\"font\": {\"color\": \"#000000\"}, \"y\": 25, \"text\": \"457\", \"x\": 1.55, \"xref\": \"x1\", \"align\": \"left\", \"yref\": \"y1\", \"showarrow\": false, \"xanchor\": \"left\"}, {\"font\": {\"color\": \"#000000\"}, \"y\": 25, \"text\": \"2\", \"x\": 2.55, \"xref\": \"x1\", \"align\": \"left\", \"yref\": \"y1\", \"showarrow\": false, \"xanchor\": \"left\"}, {\"font\": {\"color\": \"#000000\"}, \"y\": 25, \"text\": \"55\", \"x\": 3.55, \"xref\": \"x1\", \"align\": \"left\", \"yref\": \"y1\", \"showarrow\": false, \"xanchor\": \"left\"}, {\"font\": {\"color\": \"#000000\"}, \"y\": 26, \"text\": \"Technical/Developer Evangelism\", \"x\": -0.45, \"xref\": \"x1\", \"align\": \"left\", \"yref\": \"y1\", \"showarrow\": false, \"xanchor\": \"left\"}, {\"font\": {\"color\": \"#000000\"}, \"y\": 26, \"text\": \"Employees\", \"x\": 0.55, \"xref\": \"x1\", \"align\": \"left\", \"yref\": \"y1\", \"showarrow\": false, \"xanchor\": \"left\"}, {\"font\": {\"color\": \"#000000\"}, \"y\": 26, \"text\": \"436\", \"x\": 1.55, \"xref\": \"x1\", \"align\": \"left\", \"yref\": \"y1\", \"showarrow\": false, \"xanchor\": \"left\"}, {\"font\": {\"color\": \"#000000\"}, \"y\": 26, \"text\": \"3\", \"x\": 2.55, \"xref\": \"x1\", \"align\": \"left\", \"yref\": \"y1\", \"showarrow\": false, \"xanchor\": \"left\"}, {\"font\": {\"color\": \"#000000\"}, \"y\": 26, \"text\": \"37\", \"x\": 3.55, \"xref\": \"x1\", \"align\": \"left\", \"yref\": \"y1\", \"showarrow\": false, \"xanchor\": \"left\"}, {\"font\": {\"color\": \"#000000\"}, \"y\": 27, \"text\": \"Localization\", \"x\": -0.45, \"xref\": \"x1\", \"align\": \"left\", \"yref\": \"y1\", \"showarrow\": false, \"xanchor\": \"left\"}, {\"font\": {\"color\": \"#000000\"}, \"y\": 27, \"text\": \"Employees\", \"x\": 0.55, \"xref\": \"x1\", \"align\": \"left\", \"yref\": \"y1\", \"showarrow\": false, \"xanchor\": \"left\"}, {\"font\": {\"color\": \"#000000\"}, \"y\": 27, \"text\": \"424\", \"x\": 1.55, \"xref\": \"x1\", \"align\": \"left\", \"yref\": \"y1\", \"showarrow\": false, \"xanchor\": \"left\"}, {\"font\": {\"color\": \"#000000\"}, \"y\": 27, \"text\": \"4\", \"x\": 2.55, \"xref\": \"x1\", \"align\": \"left\", \"yref\": \"y1\", \"showarrow\": false, \"xanchor\": \"left\"}, {\"font\": {\"color\": \"#000000\"}, \"y\": 27, \"text\": \"149\", \"x\": 3.55, \"xref\": \"x1\", \"align\": \"left\", \"yref\": \"y1\", \"showarrow\": false, \"xanchor\": \"left\"}, {\"font\": {\"color\": \"#000000\"}, \"y\": 28, \"text\": \"Release engineering\", \"x\": -0.45, \"xref\": \"x1\", \"align\": \"left\", \"yref\": \"y1\", \"showarrow\": false, \"xanchor\": \"left\"}, {\"font\": {\"color\": \"#000000\"}, \"y\": 28, \"text\": \"Non-Employees\", \"x\": 0.55, \"xref\": \"x1\", \"align\": \"left\", \"yref\": \"y1\", \"showarrow\": false, \"xanchor\": \"left\"}, {\"font\": {\"color\": \"#000000\"}, \"y\": 28, \"text\": \"342\", \"x\": 1.55, \"xref\": \"x1\", \"align\": \"left\", \"yref\": \"y1\", \"showarrow\": false, \"xanchor\": \"left\"}, {\"font\": {\"color\": \"#000000\"}, \"y\": 28, \"text\": \"1\", \"x\": 2.55, \"xref\": \"x1\", \"align\": \"left\", \"yref\": \"y1\", \"showarrow\": false, \"xanchor\": \"left\"}, {\"font\": {\"color\": \"#000000\"}, \"y\": 28, \"text\": \"14\", \"x\": 3.55, \"xref\": \"x1\", \"align\": \"left\", \"yref\": \"y1\", \"showarrow\": false, \"xanchor\": \"left\"}, {\"font\": {\"color\": \"#000000\"}, \"y\": 29, \"text\": \"Web Literacy\", \"x\": -0.45, \"xref\": \"x1\", \"align\": \"left\", \"yref\": \"y1\", \"showarrow\": false, \"xanchor\": \"left\"}, {\"font\": {\"color\": \"#000000\"}, \"y\": 29, \"text\": \"Non-Employees\", \"x\": 0.55, \"xref\": \"x1\", \"align\": \"left\", \"yref\": \"y1\", \"showarrow\": false, \"xanchor\": \"left\"}, {\"font\": {\"color\": \"#000000\"}, \"y\": 29, \"text\": \"324\", \"x\": 1.55, \"xref\": \"x1\", \"align\": \"left\", \"yref\": \"y1\", \"showarrow\": false, \"xanchor\": \"left\"}, {\"font\": {\"color\": \"#000000\"}, \"y\": 29, \"text\": \"1\", \"x\": 2.55, \"xref\": \"x1\", \"align\": \"left\", \"yref\": \"y1\", \"showarrow\": false, \"xanchor\": \"left\"}, {\"font\": {\"color\": \"#000000\"}, \"y\": 29, \"text\": \"25\", \"x\": 3.55, \"xref\": \"x1\", \"align\": \"left\", \"yref\": \"y1\", \"showarrow\": false, \"xanchor\": \"left\"}, {\"font\": {\"color\": \"#000000\"}, \"y\": 30, \"text\": \"Marketing / Social Media\", \"x\": -0.45, \"xref\": \"x1\", \"align\": \"left\", \"yref\": \"y1\", \"showarrow\": false, \"xanchor\": \"left\"}, {\"font\": {\"color\": \"#000000\"}, \"y\": 30, \"text\": \"Employees\", \"x\": 0.55, \"xref\": \"x1\", \"align\": \"left\", \"yref\": \"y1\", \"showarrow\": false, \"xanchor\": \"left\"}, {\"font\": {\"color\": \"#000000\"}, \"y\": 30, \"text\": \"320\", \"x\": 1.55, \"xref\": \"x1\", \"align\": \"left\", \"yref\": \"y1\", \"showarrow\": false, \"xanchor\": \"left\"}, {\"font\": {\"color\": \"#000000\"}, \"y\": 30, \"text\": \"4\", \"x\": 2.55, \"xref\": \"x1\", \"align\": \"left\", \"yref\": \"y1\", \"showarrow\": false, \"xanchor\": \"left\"}, {\"font\": {\"color\": \"#000000\"}, \"y\": 30, \"text\": \"21\", \"x\": 3.55, \"xref\": \"x1\", \"align\": \"left\", \"yref\": \"y1\", \"showarrow\": false, \"xanchor\": \"left\"}, {\"font\": {\"color\": \"#000000\"}, \"y\": 31, \"text\": \"Mozilla Creative & Design\", \"x\": -0.45, \"xref\": \"x1\", \"align\": \"left\", \"yref\": \"y1\", \"showarrow\": false, \"xanchor\": \"left\"}, {\"font\": {\"color\": \"#000000\"}, \"y\": 31, \"text\": \"Employees\", \"x\": 0.55, \"xref\": \"x1\", \"align\": \"left\", \"yref\": \"y1\", \"showarrow\": false, \"xanchor\": \"left\"}, {\"font\": {\"color\": \"#000000\"}, \"y\": 31, \"text\": \"262\", \"x\": 1.55, \"xref\": \"x1\", \"align\": \"left\", \"yref\": \"y1\", \"showarrow\": false, \"xanchor\": \"left\"}, {\"font\": {\"color\": \"#000000\"}, \"y\": 31, \"text\": \"1\", \"x\": 2.55, \"xref\": \"x1\", \"align\": \"left\", \"yref\": \"y1\", \"showarrow\": false, \"xanchor\": \"left\"}, {\"font\": {\"color\": \"#000000\"}, \"y\": 31, \"text\": \"1\", \"x\": 3.55, \"xref\": \"x1\", \"align\": \"left\", \"yref\": \"y1\", \"showarrow\": false, \"xanchor\": \"left\"}, {\"font\": {\"color\": \"#000000\"}, \"y\": 32, \"text\": \"Marketing / Social Media\", \"x\": -0.45, \"xref\": \"x1\", \"align\": \"left\", \"yref\": \"y1\", \"showarrow\": false, \"xanchor\": \"left\"}, {\"font\": {\"color\": \"#000000\"}, \"y\": 32, \"text\": \"Non-Employees\", \"x\": 0.55, \"xref\": \"x1\", \"align\": \"left\", \"yref\": \"y1\", \"showarrow\": false, \"xanchor\": \"left\"}, {\"font\": {\"color\": \"#000000\"}, \"y\": 32, \"text\": \"250\", \"x\": 1.55, \"xref\": \"x1\", \"align\": \"left\", \"yref\": \"y1\", \"showarrow\": false, \"xanchor\": \"left\"}, {\"font\": {\"color\": \"#000000\"}, \"y\": 32, \"text\": \"4\", \"x\": 2.55, \"xref\": \"x1\", \"align\": \"left\", \"yref\": \"y1\", \"showarrow\": false, \"xanchor\": \"left\"}, {\"font\": {\"color\": \"#000000\"}, \"y\": 32, \"text\": \"18\", \"x\": 3.55, \"xref\": \"x1\", \"align\": \"left\", \"yref\": \"y1\", \"showarrow\": false, \"xanchor\": \"left\"}, {\"font\": {\"color\": \"#000000\"}, \"y\": 33, \"text\": \"Mozilla Local/Regional communities\", \"x\": -0.45, \"xref\": \"x1\", \"align\": \"left\", \"yref\": \"y1\", \"showarrow\": false, \"xanchor\": \"left\"}, {\"font\": {\"color\": \"#000000\"}, \"y\": 33, \"text\": \"Non-Employees\", \"x\": 0.55, \"xref\": \"x1\", \"align\": \"left\", \"yref\": \"y1\", \"showarrow\": false, \"xanchor\": \"left\"}, {\"font\": {\"color\": \"#000000\"}, \"y\": 33, \"text\": \"161\", \"x\": 1.55, \"xref\": \"x1\", \"align\": \"left\", \"yref\": \"y1\", \"showarrow\": false, \"xanchor\": \"left\"}, {\"font\": {\"color\": \"#000000\"}, \"y\": 33, \"text\": \"2\", \"x\": 2.55, \"xref\": \"x1\", \"align\": \"left\", \"yref\": \"y1\", \"showarrow\": false, \"xanchor\": \"left\"}, {\"font\": {\"color\": \"#000000\"}, \"y\": 33, \"text\": \"16\", \"x\": 3.55, \"xref\": \"x1\", \"align\": \"left\", \"yref\": \"y1\", \"showarrow\": false, \"xanchor\": \"left\"}, {\"font\": {\"color\": \"#000000\"}, \"y\": 34, \"text\": \"Firefox iOS\", \"x\": -0.45, \"xref\": \"x1\", \"align\": \"left\", \"yref\": \"y1\", \"showarrow\": false, \"xanchor\": \"left\"}, {\"font\": {\"color\": \"#000000\"}, \"y\": 34, \"text\": \"Non-Employees\", \"x\": 0.55, \"xref\": \"x1\", \"align\": \"left\", \"yref\": \"y1\", \"showarrow\": false, \"xanchor\": \"left\"}, {\"font\": {\"color\": \"#000000\"}, \"y\": 34, \"text\": \"151\", \"x\": 1.55, \"xref\": \"x1\", \"align\": \"left\", \"yref\": \"y1\", \"showarrow\": false, \"xanchor\": \"left\"}, {\"font\": {\"color\": \"#000000\"}, \"y\": 34, \"text\": \"1\", \"x\": 2.55, \"xref\": \"x1\", \"align\": \"left\", \"yref\": \"y1\", \"showarrow\": false, \"xanchor\": \"left\"}, {\"font\": {\"color\": \"#000000\"}, \"y\": 34, \"text\": \"14\", \"x\": 3.55, \"xref\": \"x1\", \"align\": \"left\", \"yref\": \"y1\", \"showarrow\": false, \"xanchor\": \"left\"}, {\"font\": {\"color\": \"#000000\"}, \"y\": 35, \"text\": \"Web Literacy\", \"x\": -0.45, \"xref\": \"x1\", \"align\": \"left\", \"yref\": \"y1\", \"showarrow\": false, \"xanchor\": \"left\"}, {\"font\": {\"color\": \"#000000\"}, \"y\": 35, \"text\": \"Employees\", \"x\": 0.55, \"xref\": \"x1\", \"align\": \"left\", \"yref\": \"y1\", \"showarrow\": false, \"xanchor\": \"left\"}, {\"font\": {\"color\": \"#000000\"}, \"y\": 35, \"text\": \"140\", \"x\": 1.55, \"xref\": \"x1\", \"align\": \"left\", \"yref\": \"y1\", \"showarrow\": false, \"xanchor\": \"left\"}, {\"font\": {\"color\": \"#000000\"}, \"y\": 35, \"text\": \"1\", \"x\": 2.55, \"xref\": \"x1\", \"align\": \"left\", \"yref\": \"y1\", \"showarrow\": false, \"xanchor\": \"left\"}, {\"font\": {\"color\": \"#000000\"}, \"y\": 35, \"text\": \"26\", \"x\": 3.55, \"xref\": \"x1\", \"align\": \"left\", \"yref\": \"y1\", \"showarrow\": false, \"xanchor\": \"left\"}, {\"font\": {\"color\": \"#000000\"}, \"y\": 36, \"text\": \"Firefox iOS\", \"x\": -0.45, \"xref\": \"x1\", \"align\": \"left\", \"yref\": \"y1\", \"showarrow\": false, \"xanchor\": \"left\"}, {\"font\": {\"color\": \"#000000\"}, \"y\": 36, \"text\": \"Employees\", \"x\": 0.55, \"xref\": \"x1\", \"align\": \"left\", \"yref\": \"y1\", \"showarrow\": false, \"xanchor\": \"left\"}, {\"font\": {\"color\": \"#000000\"}, \"y\": 36, \"text\": \"139\", \"x\": 1.55, \"xref\": \"x1\", \"align\": \"left\", \"yref\": \"y1\", \"showarrow\": false, \"xanchor\": \"left\"}, {\"font\": {\"color\": \"#000000\"}, \"y\": 36, \"text\": \"1\", \"x\": 2.55, \"xref\": \"x1\", \"align\": \"left\", \"yref\": \"y1\", \"showarrow\": false, \"xanchor\": \"left\"}, {\"font\": {\"color\": \"#000000\"}, \"y\": 36, \"text\": \"15\", \"x\": 3.55, \"xref\": \"x1\", \"align\": \"left\", \"yref\": \"y1\", \"showarrow\": false, \"xanchor\": \"left\"}, {\"font\": {\"color\": \"#000000\"}, \"y\": 37, \"text\": \"Mozilla Local/Regional communities\", \"x\": -0.45, \"xref\": \"x1\", \"align\": \"left\", \"yref\": \"y1\", \"showarrow\": false, \"xanchor\": \"left\"}, {\"font\": {\"color\": \"#000000\"}, \"y\": 37, \"text\": \"Employees\", \"x\": 0.55, \"xref\": \"x1\", \"align\": \"left\", \"yref\": \"y1\", \"showarrow\": false, \"xanchor\": \"left\"}, {\"font\": {\"color\": \"#000000\"}, \"y\": 37, \"text\": \"99\", \"x\": 1.55, \"xref\": \"x1\", \"align\": \"left\", \"yref\": \"y1\", \"showarrow\": false, \"xanchor\": \"left\"}, {\"font\": {\"color\": \"#000000\"}, \"y\": 37, \"text\": \"2\", \"x\": 2.55, \"xref\": \"x1\", \"align\": \"left\", \"yref\": \"y1\", \"showarrow\": false, \"xanchor\": \"left\"}, {\"font\": {\"color\": \"#000000\"}, \"y\": 37, \"text\": \"16\", \"x\": 3.55, \"xref\": \"x1\", \"align\": \"left\", \"yref\": \"y1\", \"showarrow\": false, \"xanchor\": \"left\"}, {\"font\": {\"color\": \"#000000\"}, \"y\": 38, \"text\": \"Mozilla support (SUMO)\", \"x\": -0.45, \"xref\": \"x1\", \"align\": \"left\", \"yref\": \"y1\", \"showarrow\": false, \"xanchor\": \"left\"}, {\"font\": {\"color\": \"#000000\"}, \"y\": 38, \"text\": \"Non-Employees\", \"x\": 0.55, \"xref\": \"x1\", \"align\": \"left\", \"yref\": \"y1\", \"showarrow\": false, \"xanchor\": \"left\"}, {\"font\": {\"color\": \"#000000\"}, \"y\": 38, \"text\": \"73\", \"x\": 1.55, \"xref\": \"x1\", \"align\": \"left\", \"yref\": \"y1\", \"showarrow\": false, \"xanchor\": \"left\"}, {\"font\": {\"color\": \"#000000\"}, \"y\": 38, \"text\": \"3\", \"x\": 2.55, \"xref\": \"x1\", \"align\": \"left\", \"yref\": \"y1\", \"showarrow\": false, \"xanchor\": \"left\"}, {\"font\": {\"color\": \"#000000\"}, \"y\": 38, \"text\": \"12\", \"x\": 3.55, \"xref\": \"x1\", \"align\": \"left\", \"yref\": \"y1\", \"showarrow\": false, \"xanchor\": \"left\"}, {\"font\": {\"color\": \"#000000\"}, \"y\": 39, \"text\": \"Mozilla support (SUMO)\", \"x\": -0.45, \"xref\": \"x1\", \"align\": \"left\", \"yref\": \"y1\", \"showarrow\": false, \"xanchor\": \"left\"}, {\"font\": {\"color\": \"#000000\"}, \"y\": 39, \"text\": \"Employees\", \"x\": 0.55, \"xref\": \"x1\", \"align\": \"left\", \"yref\": \"y1\", \"showarrow\": false, \"xanchor\": \"left\"}, {\"font\": {\"color\": \"#000000\"}, \"y\": 39, \"text\": \"61\", \"x\": 1.55, \"xref\": \"x1\", \"align\": \"left\", \"yref\": \"y1\", \"showarrow\": false, \"xanchor\": \"left\"}, {\"font\": {\"color\": \"#000000\"}, \"y\": 39, \"text\": \"3\", \"x\": 2.55, \"xref\": \"x1\", \"align\": \"left\", \"yref\": \"y1\", \"showarrow\": false, \"xanchor\": \"left\"}, {\"font\": {\"color\": \"#000000\"}, \"y\": 39, \"text\": \"12\", \"x\": 3.55, \"xref\": \"x1\", \"align\": \"left\", \"yref\": \"y1\", \"showarrow\": false, \"xanchor\": \"left\"}, {\"font\": {\"color\": \"#000000\"}, \"y\": 40, \"text\": \"Mozilla Foundation\", \"x\": -0.45, \"xref\": \"x1\", \"align\": \"left\", \"yref\": \"y1\", \"showarrow\": false, \"xanchor\": \"left\"}, {\"font\": {\"color\": \"#000000\"}, \"y\": 40, \"text\": \"Employees\", \"x\": 0.55, \"xref\": \"x1\", \"align\": \"left\", \"yref\": \"y1\", \"showarrow\": false, \"xanchor\": \"left\"}, {\"font\": {\"color\": \"#000000\"}, \"y\": 40, \"text\": \"49\", \"x\": 1.55, \"xref\": \"x1\", \"align\": \"left\", \"yref\": \"y1\", \"showarrow\": false, \"xanchor\": \"left\"}, {\"font\": {\"color\": \"#000000\"}, \"y\": 40, \"text\": \"2\", \"x\": 2.55, \"xref\": \"x1\", \"align\": \"left\", \"yref\": \"y1\", \"showarrow\": false, \"xanchor\": \"left\"}, {\"font\": {\"color\": \"#000000\"}, \"y\": 40, \"text\": \"15\", \"x\": 3.55, \"xref\": \"x1\", \"align\": \"left\", \"yref\": \"y1\", \"showarrow\": false, \"xanchor\": \"left\"}, {\"font\": {\"color\": \"#000000\"}, \"y\": 41, \"text\": \"Mozilla Foundation\", \"x\": -0.45, \"xref\": \"x1\", \"align\": \"left\", \"yref\": \"y1\", \"showarrow\": false, \"xanchor\": \"left\"}, {\"font\": {\"color\": \"#000000\"}, \"y\": 41, \"text\": \"Non-Employees\", \"x\": 0.55, \"xref\": \"x1\", \"align\": \"left\", \"yref\": \"y1\", \"showarrow\": false, \"xanchor\": \"left\"}, {\"font\": {\"color\": \"#000000\"}, \"y\": 41, \"text\": \"29\", \"x\": 1.55, \"xref\": \"x1\", \"align\": \"left\", \"yref\": \"y1\", \"showarrow\": false, \"xanchor\": \"left\"}, {\"font\": {\"color\": \"#000000\"}, \"y\": 41, \"text\": \"2\", \"x\": 2.55, \"xref\": \"x1\", \"align\": \"left\", \"yref\": \"y1\", \"showarrow\": false, \"xanchor\": \"left\"}, {\"font\": {\"color\": \"#000000\"}, \"y\": 41, \"text\": \"8\", \"x\": 3.55, \"xref\": \"x1\", \"align\": \"left\", \"yref\": \"y1\", \"showarrow\": false, \"xanchor\": \"left\"}, {\"font\": {\"color\": \"#000000\"}, \"y\": 42, \"text\": \"Mozilla Creative & Design\", \"x\": -0.45, \"xref\": \"x1\", \"align\": \"left\", \"yref\": \"y1\", \"showarrow\": false, \"xanchor\": \"left\"}, {\"font\": {\"color\": \"#000000\"}, \"y\": 42, \"text\": \"Non-Employees\", \"x\": 0.55, \"xref\": \"x1\", \"align\": \"left\", \"yref\": \"y1\", \"showarrow\": false, \"xanchor\": \"left\"}, {\"font\": {\"color\": \"#000000\"}, \"y\": 42, \"text\": \"22\", \"x\": 1.55, \"xref\": \"x1\", \"align\": \"left\", \"yref\": \"y1\", \"showarrow\": false, \"xanchor\": \"left\"}, {\"font\": {\"color\": \"#000000\"}, \"y\": 42, \"text\": \"1\", \"x\": 2.55, \"xref\": \"x1\", \"align\": \"left\", \"yref\": \"y1\", \"showarrow\": false, \"xanchor\": \"left\"}, {\"font\": {\"color\": \"#000000\"}, \"y\": 42, \"text\": \"1\", \"x\": 3.55, \"xref\": \"x1\", \"align\": \"left\", \"yref\": \"y1\", \"showarrow\": false, \"xanchor\": \"left\"}, {\"font\": {\"color\": \"#000000\"}, \"y\": 43, \"text\": \"Firefox Focus\", \"x\": -0.45, \"xref\": \"x1\", \"align\": \"left\", \"yref\": \"y1\", \"showarrow\": false, \"xanchor\": \"left\"}, {\"font\": {\"color\": \"#000000\"}, \"y\": 43, \"text\": \"Employees\", \"x\": 0.55, \"xref\": \"x1\", \"align\": \"left\", \"yref\": \"y1\", \"showarrow\": false, \"xanchor\": \"left\"}, {\"font\": {\"color\": \"#000000\"}, \"y\": 43, \"text\": \"18\", \"x\": 1.55, \"xref\": \"x1\", \"align\": \"left\", \"yref\": \"y1\", \"showarrow\": false, \"xanchor\": \"left\"}, {\"font\": {\"color\": \"#000000\"}, \"y\": 43, \"text\": \"1\", \"x\": 2.55, \"xref\": \"x1\", \"align\": \"left\", \"yref\": \"y1\", \"showarrow\": false, \"xanchor\": \"left\"}, {\"font\": {\"color\": \"#000000\"}, \"y\": 43, \"text\": \"1\", \"x\": 3.55, \"xref\": \"x1\", \"align\": \"left\", \"yref\": \"y1\", \"showarrow\": false, \"xanchor\": \"left\"}, {\"font\": {\"color\": \"#000000\"}, \"y\": 44, \"text\": \"Advocacy and policy\", \"x\": -0.45, \"xref\": \"x1\", \"align\": \"left\", \"yref\": \"y1\", \"showarrow\": false, \"xanchor\": \"left\"}, {\"font\": {\"color\": \"#000000\"}, \"y\": 44, \"text\": \"Non-Employees\", \"x\": 0.55, \"xref\": \"x1\", \"align\": \"left\", \"yref\": \"y1\", \"showarrow\": false, \"xanchor\": \"left\"}, {\"font\": {\"color\": \"#000000\"}, \"y\": 44, \"text\": \"11\", \"x\": 1.55, \"xref\": \"x1\", \"align\": \"left\", \"yref\": \"y1\", \"showarrow\": false, \"xanchor\": \"left\"}, {\"font\": {\"color\": \"#000000\"}, \"y\": 44, \"text\": \"1\", \"x\": 2.55, \"xref\": \"x1\", \"align\": \"left\", \"yref\": \"y1\", \"showarrow\": false, \"xanchor\": \"left\"}, {\"font\": {\"color\": \"#000000\"}, \"y\": 44, \"text\": \"4\", \"x\": 3.55, \"xref\": \"x1\", \"align\": \"left\", \"yref\": \"y1\", \"showarrow\": false, \"xanchor\": \"left\"}, {\"font\": {\"color\": \"#000000\"}, \"y\": 45, \"text\": \"Connected devices & IoT\", \"x\": -0.45, \"xref\": \"x1\", \"align\": \"left\", \"yref\": \"y1\", \"showarrow\": false, \"xanchor\": \"left\"}, {\"font\": {\"color\": \"#000000\"}, \"y\": 45, \"text\": \"Employees\", \"x\": 0.55, \"xref\": \"x1\", \"align\": \"left\", \"yref\": \"y1\", \"showarrow\": false, \"xanchor\": \"left\"}, {\"font\": {\"color\": \"#000000\"}, \"y\": 45, \"text\": \"9\", \"x\": 1.55, \"xref\": \"x1\", \"align\": \"left\", \"yref\": \"y1\", \"showarrow\": false, \"xanchor\": \"left\"}, {\"font\": {\"color\": \"#000000\"}, \"y\": 45, \"text\": \"1\", \"x\": 2.55, \"xref\": \"x1\", \"align\": \"left\", \"yref\": \"y1\", \"showarrow\": false, \"xanchor\": \"left\"}, {\"font\": {\"color\": \"#000000\"}, \"y\": 45, \"text\": \"3\", \"x\": 3.55, \"xref\": \"x1\", \"align\": \"left\", \"yref\": \"y1\", \"showarrow\": false, \"xanchor\": \"left\"}, {\"font\": {\"color\": \"#000000\"}, \"y\": 46, \"text\": \"Web Compatibility\", \"x\": -0.45, \"xref\": \"x1\", \"align\": \"left\", \"yref\": \"y1\", \"showarrow\": false, \"xanchor\": \"left\"}, {\"font\": {\"color\": \"#000000\"}, \"y\": 46, \"text\": \"Employees\", \"x\": 0.55, \"xref\": \"x1\", \"align\": \"left\", \"yref\": \"y1\", \"showarrow\": false, \"xanchor\": \"left\"}, {\"font\": {\"color\": \"#000000\"}, \"y\": 46, \"text\": \"7\", \"x\": 1.55, \"xref\": \"x1\", \"align\": \"left\", \"yref\": \"y1\", \"showarrow\": false, \"xanchor\": \"left\"}, {\"font\": {\"color\": \"#000000\"}, \"y\": 46, \"text\": \"1\", \"x\": 2.55, \"xref\": \"x1\", \"align\": \"left\", \"yref\": \"y1\", \"showarrow\": false, \"xanchor\": \"left\"}, {\"font\": {\"color\": \"#000000\"}, \"y\": 46, \"text\": \"2\", \"x\": 3.55, \"xref\": \"x1\", \"align\": \"left\", \"yref\": \"y1\", \"showarrow\": false, \"xanchor\": \"left\"}, {\"font\": {\"color\": \"#000000\"}, \"y\": 47, \"text\": \"Web Compatibility\", \"x\": -0.45, \"xref\": \"x1\", \"align\": \"left\", \"yref\": \"y1\", \"showarrow\": false, \"xanchor\": \"left\"}, {\"font\": {\"color\": \"#000000\"}, \"y\": 47, \"text\": \"Non-Employees\", \"x\": 0.55, \"xref\": \"x1\", \"align\": \"left\", \"yref\": \"y1\", \"showarrow\": false, \"xanchor\": \"left\"}, {\"font\": {\"color\": \"#000000\"}, \"y\": 47, \"text\": \"6\", \"x\": 1.55, \"xref\": \"x1\", \"align\": \"left\", \"yref\": \"y1\", \"showarrow\": false, \"xanchor\": \"left\"}, {\"font\": {\"color\": \"#000000\"}, \"y\": 47, \"text\": \"1\", \"x\": 2.55, \"xref\": \"x1\", \"align\": \"left\", \"yref\": \"y1\", \"showarrow\": false, \"xanchor\": \"left\"}, {\"font\": {\"color\": \"#000000\"}, \"y\": 47, \"text\": \"1\", \"x\": 3.55, \"xref\": \"x1\", \"align\": \"left\", \"yref\": \"y1\", \"showarrow\": false, \"xanchor\": \"left\"}, {\"font\": {\"color\": \"#000000\"}, \"y\": 48, \"text\": \"Firefox Focus\", \"x\": -0.45, \"xref\": \"x1\", \"align\": \"left\", \"yref\": \"y1\", \"showarrow\": false, \"xanchor\": \"left\"}, {\"font\": {\"color\": \"#000000\"}, \"y\": 48, \"text\": \"Non-Employees\", \"x\": 0.55, \"xref\": \"x1\", \"align\": \"left\", \"yref\": \"y1\", \"showarrow\": false, \"xanchor\": \"left\"}, {\"font\": {\"color\": \"#000000\"}, \"y\": 48, \"text\": \"6\", \"x\": 1.55, \"xref\": \"x1\", \"align\": \"left\", \"yref\": \"y1\", \"showarrow\": false, \"xanchor\": \"left\"}, {\"font\": {\"color\": \"#000000\"}, \"y\": 48, \"text\": \"1\", \"x\": 2.55, \"xref\": \"x1\", \"align\": \"left\", \"yref\": \"y1\", \"showarrow\": false, \"xanchor\": \"left\"}, {\"font\": {\"color\": \"#000000\"}, \"y\": 48, \"text\": \"1\", \"x\": 3.55, \"xref\": \"x1\", \"align\": \"left\", \"yref\": \"y1\", \"showarrow\": false, \"xanchor\": \"left\"}, {\"font\": {\"color\": \"#000000\"}, \"y\": 49, \"text\": \"Rust\", \"x\": -0.45, \"xref\": \"x1\", \"align\": \"left\", \"yref\": \"y1\", \"showarrow\": false, \"xanchor\": \"left\"}, {\"font\": {\"color\": \"#000000\"}, \"y\": 49, \"text\": \"Employees\", \"x\": 0.55, \"xref\": \"x1\", \"align\": \"left\", \"yref\": \"y1\", \"showarrow\": false, \"xanchor\": \"left\"}, {\"font\": {\"color\": \"#000000\"}, \"y\": 49, \"text\": \"5\", \"x\": 1.55, \"xref\": \"x1\", \"align\": \"left\", \"yref\": \"y1\", \"showarrow\": false, \"xanchor\": \"left\"}, {\"font\": {\"color\": \"#000000\"}, \"y\": 49, \"text\": \"1\", \"x\": 2.55, \"xref\": \"x1\", \"align\": \"left\", \"yref\": \"y1\", \"showarrow\": false, \"xanchor\": \"left\"}, {\"font\": {\"color\": \"#000000\"}, \"y\": 49, \"text\": \"1\", \"x\": 3.55, \"xref\": \"x1\", \"align\": \"left\", \"yref\": \"y1\", \"showarrow\": false, \"xanchor\": \"left\"}, {\"font\": {\"color\": \"#000000\"}, \"y\": 50, \"text\": \"Advocacy and policy\", \"x\": -0.45, \"xref\": \"x1\", \"align\": \"left\", \"yref\": \"y1\", \"showarrow\": false, \"xanchor\": \"left\"}, {\"font\": {\"color\": \"#000000\"}, \"y\": 50, \"text\": \"Employees\", \"x\": 0.55, \"xref\": \"x1\", \"align\": \"left\", \"yref\": \"y1\", \"showarrow\": false, \"xanchor\": \"left\"}, {\"font\": {\"color\": \"#000000\"}, \"y\": 50, \"text\": \"3\", \"x\": 1.55, \"xref\": \"x1\", \"align\": \"left\", \"yref\": \"y1\", \"showarrow\": false, \"xanchor\": \"left\"}, {\"font\": {\"color\": \"#000000\"}, \"y\": 50, \"text\": \"1\", \"x\": 2.55, \"xref\": \"x1\", \"align\": \"left\", \"yref\": \"y1\", \"showarrow\": false, \"xanchor\": \"left\"}, {\"font\": {\"color\": \"#000000\"}, \"y\": 50, \"text\": \"2\", \"x\": 3.55, \"xref\": \"x1\", \"align\": \"left\", \"yref\": \"y1\", \"showarrow\": false, \"xanchor\": \"left\"}, {\"font\": {\"color\": \"#000000\"}, \"y\": 51, \"text\": \"Connected devices & IoT\", \"x\": -0.45, \"xref\": \"x1\", \"align\": \"left\", \"yref\": \"y1\", \"showarrow\": false, \"xanchor\": \"left\"}, {\"font\": {\"color\": \"#000000\"}, \"y\": 51, \"text\": \"Non-Employees\", \"x\": 0.55, \"xref\": \"x1\", \"align\": \"left\", \"yref\": \"y1\", \"showarrow\": false, \"xanchor\": \"left\"}, {\"font\": {\"color\": \"#000000\"}, \"y\": 51, \"text\": \"1\", \"x\": 1.55, \"xref\": \"x1\", \"align\": \"left\", \"yref\": \"y1\", \"showarrow\": false, \"xanchor\": \"left\"}, {\"font\": {\"color\": \"#000000\"}, \"y\": 51, \"text\": \"1\", \"x\": 2.55, \"xref\": \"x1\", \"align\": \"left\", \"yref\": \"y1\", \"showarrow\": false, \"xanchor\": \"left\"}, {\"font\": {\"color\": \"#000000\"}, \"y\": 51, \"text\": \"1\", \"x\": 3.55, \"xref\": \"x1\", \"align\": \"left\", \"yref\": \"y1\", \"showarrow\": false, \"xanchor\": \"left\"}, {\"font\": {\"color\": \"#000000\"}, \"y\": 52, \"text\": \"Firefox Student Ambassadors\", \"x\": -0.45, \"xref\": \"x1\", \"align\": \"left\", \"yref\": \"y1\", \"showarrow\": false, \"xanchor\": \"left\"}, {\"font\": {\"color\": \"#000000\"}, \"y\": 52, \"text\": \"Non-Employees\", \"x\": 0.55, \"xref\": \"x1\", \"align\": \"left\", \"yref\": \"y1\", \"showarrow\": false, \"xanchor\": \"left\"}, {\"font\": {\"color\": \"#000000\"}, \"y\": 52, \"text\": \"1\", \"x\": 1.55, \"xref\": \"x1\", \"align\": \"left\", \"yref\": \"y1\", \"showarrow\": false, \"xanchor\": \"left\"}, {\"font\": {\"color\": \"#000000\"}, \"y\": 52, \"text\": \"1\", \"x\": 2.55, \"xref\": \"x1\", \"align\": \"left\", \"yref\": \"y1\", \"showarrow\": false, \"xanchor\": \"left\"}, {\"font\": {\"color\": \"#000000\"}, \"y\": 52, \"text\": \"1\", \"x\": 3.55, \"xref\": \"x1\", \"align\": \"left\", \"yref\": \"y1\", \"showarrow\": false, \"xanchor\": \"left\"}]}, {\"showLink\": true, \"linkText\": \"Export to plot.ly\"})});</script>"
      ],
      "text/vnd.plotly.v1+html": [
       "<div id=\"d62f3447-05ab-4000-b188-3a0f0b8f6b0b\" style=\"height: 1640px; width: 100%;\" class=\"plotly-graph-div\"></div><script type=\"text/javascript\">require([\"plotly\"], function(Plotly) { window.PLOTLYENV=window.PLOTLYENV || {};window.PLOTLYENV.BASE_URL=\"https://plot.ly\";Plotly.newPlot(\"d62f3447-05ab-4000-b188-3a0f0b8f6b0b\", [{\"hoverinfo\": \"none\", \"colorscale\": [[0, \"#00083e\"], [0.5, \"#ededee\"], [1, \"#ffffff\"]], \"z\": [[0, 0, 0, 0, 0], [0.5, 0.5, 0.5, 0.5, 0.5], [1, 1, 1, 1, 1], [0.5, 0.5, 0.5, 0.5, 0.5], [1, 1, 1, 1, 1], [0.5, 0.5, 0.5, 0.5, 0.5], [1, 1, 1, 1, 1], [0.5, 0.5, 0.5, 0.5, 0.5], [1, 1, 1, 1, 1], [0.5, 0.5, 0.5, 0.5, 0.5], [1, 1, 1, 1, 1], [0.5, 0.5, 0.5, 0.5, 0.5], [1, 1, 1, 1, 1], [0.5, 0.5, 0.5, 0.5, 0.5], [1, 1, 1, 1, 1], [0.5, 0.5, 0.5, 0.5, 0.5], [1, 1, 1, 1, 1], [0.5, 0.5, 0.5, 0.5, 0.5], [1, 1, 1, 1, 1], [0.5, 0.5, 0.5, 0.5, 0.5], [1, 1, 1, 1, 1], [0.5, 0.5, 0.5, 0.5, 0.5], [1, 1, 1, 1, 1], [0.5, 0.5, 0.5, 0.5, 0.5], [1, 1, 1, 1, 1], [0.5, 0.5, 0.5, 0.5, 0.5], [1, 1, 1, 1, 1], [0.5, 0.5, 0.5, 0.5, 0.5], [1, 1, 1, 1, 1], [0.5, 0.5, 0.5, 0.5, 0.5], [1, 1, 1, 1, 1], [0.5, 0.5, 0.5, 0.5, 0.5], [1, 1, 1, 1, 1], [0.5, 0.5, 0.5, 0.5, 0.5], [1, 1, 1, 1, 1], [0.5, 0.5, 0.5, 0.5, 0.5], [1, 1, 1, 1, 1], [0.5, 0.5, 0.5, 0.5, 0.5], [1, 1, 1, 1, 1], [0.5, 0.5, 0.5, 0.5, 0.5], [1, 1, 1, 1, 1], [0.5, 0.5, 0.5, 0.5, 0.5], [1, 1, 1, 1, 1], [0.5, 0.5, 0.5, 0.5, 0.5], [1, 1, 1, 1, 1], [0.5, 0.5, 0.5, 0.5, 0.5], [1, 1, 1, 1, 1], [0.5, 0.5, 0.5, 0.5, 0.5], [1, 1, 1, 1, 1], [0.5, 0.5, 0.5, 0.5, 0.5], [1, 1, 1, 1, 1], [0.5, 0.5, 0.5, 0.5, 0.5], [1, 1, 1, 1, 1]], \"showscale\": false, \"opacity\": 0.75, \"type\": \"heatmap\"}], {\"height\": 1640, \"yaxis\": {\"gridwidth\": 2, \"dtick\": 1, \"ticks\": \"\", \"tick0\": 0.5, \"showticklabels\": false, \"zeroline\": false, \"autorange\": \"reversed\"}, \"xaxis\": {\"gridwidth\": 2, \"dtick\": 1, \"ticks\": \"\", \"tick0\": -0.5, \"showticklabels\": false, \"zeroline\": false}, \"margin\": {\"r\": 0, \"b\": 0, \"l\": 0, \"t\": 0}, \"annotations\": [{\"font\": {\"color\": \"#ffffff\"}, \"y\": 0, \"text\": \"<b>Project</b>\", \"x\": -0.45, \"xref\": \"x1\", \"align\": \"left\", \"yref\": \"y1\", \"showarrow\": false, \"xanchor\": \"left\"}, {\"font\": {\"color\": \"#ffffff\"}, \"y\": 0, \"text\": \"<b>Org</b>\", \"x\": 0.55, \"xref\": \"x1\", \"align\": \"left\", \"yref\": \"y1\", \"showarrow\": false, \"xanchor\": \"left\"}, {\"font\": {\"color\": \"#ffffff\"}, \"y\": 0, \"text\": \"<b>uuid</b>\", \"x\": 1.55, \"xref\": \"x1\", \"align\": \"left\", \"yref\": \"y1\", \"showarrow\": false, \"xanchor\": \"left\"}, {\"font\": {\"color\": \"#ffffff\"}, \"y\": 0, \"text\": \"<b>Product</b>\", \"x\": 2.55, \"xref\": \"x1\", \"align\": \"left\", \"yref\": \"y1\", \"showarrow\": false, \"xanchor\": \"left\"}, {\"font\": {\"color\": \"#ffffff\"}, \"y\": 0, \"text\": \"<b>Component</b>\", \"x\": 3.55, \"xref\": \"x1\", \"align\": \"left\", \"yref\": \"y1\", \"showarrow\": false, \"xanchor\": \"left\"}, {\"font\": {\"color\": \"#000000\"}, \"y\": 1, \"text\": \"Firefox\", \"x\": -0.45, \"xref\": \"x1\", \"align\": \"left\", \"yref\": \"y1\", \"showarrow\": false, \"xanchor\": \"left\"}, {\"font\": {\"color\": \"#000000\"}, \"y\": 1, \"text\": \"Non-Employees\", \"x\": 0.55, \"xref\": \"x1\", \"align\": \"left\", \"yref\": \"y1\", \"showarrow\": false, \"xanchor\": \"left\"}, {\"font\": {\"color\": \"#000000\"}, \"y\": 1, \"text\": \"71348\", \"x\": 1.55, \"xref\": \"x1\", \"align\": \"left\", \"yref\": \"y1\", \"showarrow\": false, \"xanchor\": \"left\"}, {\"font\": {\"color\": \"#000000\"}, \"y\": 1, \"text\": \"3\", \"x\": 2.55, \"xref\": \"x1\", \"align\": \"left\", \"yref\": \"y1\", \"showarrow\": false, \"xanchor\": \"left\"}, {\"font\": {\"color\": \"#000000\"}, \"y\": 1, \"text\": \"56\", \"x\": 3.55, \"xref\": \"x1\", \"align\": \"left\", \"yref\": \"y1\", \"showarrow\": false, \"xanchor\": \"left\"}, {\"font\": {\"color\": \"#000000\"}, \"y\": 2, \"text\": \"Gecko\", \"x\": -0.45, \"xref\": \"x1\", \"align\": \"left\", \"yref\": \"y1\", \"showarrow\": false, \"xanchor\": \"left\"}, {\"font\": {\"color\": \"#000000\"}, \"y\": 2, \"text\": \"Non-Employees\", \"x\": 0.55, \"xref\": \"x1\", \"align\": \"left\", \"yref\": \"y1\", \"showarrow\": false, \"xanchor\": \"left\"}, {\"font\": {\"color\": \"#000000\"}, \"y\": 2, \"text\": \"61384\", \"x\": 1.55, \"xref\": \"x1\", \"align\": \"left\", \"yref\": \"y1\", \"showarrow\": false, \"xanchor\": \"left\"}, {\"font\": {\"color\": \"#000000\"}, \"y\": 2, \"text\": \"5\", \"x\": 2.55, \"xref\": \"x1\", \"align\": \"left\", \"yref\": \"y1\", \"showarrow\": false, \"xanchor\": \"left\"}, {\"font\": {\"color\": \"#000000\"}, \"y\": 2, \"text\": \"245\", \"x\": 3.55, \"xref\": \"x1\", \"align\": \"left\", \"yref\": \"y1\", \"showarrow\": false, \"xanchor\": \"left\"}, {\"font\": {\"color\": \"#000000\"}, \"y\": 3, \"text\": \"Thunderbird\", \"x\": -0.45, \"xref\": \"x1\", \"align\": \"left\", \"yref\": \"y1\", \"showarrow\": false, \"xanchor\": \"left\"}, {\"font\": {\"color\": \"#000000\"}, \"y\": 3, \"text\": \"Non-Employees\", \"x\": 0.55, \"xref\": \"x1\", \"align\": \"left\", \"yref\": \"y1\", \"showarrow\": false, \"xanchor\": \"left\"}, {\"font\": {\"color\": \"#000000\"}, \"y\": 3, \"text\": \"29644\", \"x\": 1.55, \"xref\": \"x1\", \"align\": \"left\", \"yref\": \"y1\", \"showarrow\": false, \"xanchor\": \"left\"}, {\"font\": {\"color\": \"#000000\"}, \"y\": 3, \"text\": \"3\", \"x\": 2.55, \"xref\": \"x1\", \"align\": \"left\", \"yref\": \"y1\", \"showarrow\": false, \"xanchor\": \"left\"}, {\"font\": {\"color\": \"#000000\"}, \"y\": 3, \"text\": \"47\", \"x\": 3.55, \"xref\": \"x1\", \"align\": \"left\", \"yref\": \"y1\", \"showarrow\": false, \"xanchor\": \"left\"}, {\"font\": {\"color\": \"#000000\"}, \"y\": 4, \"text\": \"Technical/Developer Evangelism\", \"x\": -0.45, \"xref\": \"x1\", \"align\": \"left\", \"yref\": \"y1\", \"showarrow\": false, \"xanchor\": \"left\"}, {\"font\": {\"color\": \"#000000\"}, \"y\": 4, \"text\": \"Non-Employees\", \"x\": 0.55, \"xref\": \"x1\", \"align\": \"left\", \"yref\": \"y1\", \"showarrow\": false, \"xanchor\": \"left\"}, {\"font\": {\"color\": \"#000000\"}, \"y\": 4, \"text\": \"5249\", \"x\": 1.55, \"xref\": \"x1\", \"align\": \"left\", \"yref\": \"y1\", \"showarrow\": false, \"xanchor\": \"left\"}, {\"font\": {\"color\": \"#000000\"}, \"y\": 4, \"text\": \"3\", \"x\": 2.55, \"xref\": \"x1\", \"align\": \"left\", \"yref\": \"y1\", \"showarrow\": false, \"xanchor\": \"left\"}, {\"font\": {\"color\": \"#000000\"}, \"y\": 4, \"text\": \"44\", \"x\": 3.55, \"xref\": \"x1\", \"align\": \"left\", \"yref\": \"y1\", \"showarrow\": false, \"xanchor\": \"left\"}, {\"font\": {\"color\": \"#000000\"}, \"y\": 5, \"text\": \"Web Properties\", \"x\": -0.45, \"xref\": \"x1\", \"align\": \"left\", \"yref\": \"y1\", \"showarrow\": false, \"xanchor\": \"left\"}, {\"font\": {\"color\": \"#000000\"}, \"y\": 5, \"text\": \"Non-Employees\", \"x\": 0.55, \"xref\": \"x1\", \"align\": \"left\", \"yref\": \"y1\", \"showarrow\": false, \"xanchor\": \"left\"}, {\"font\": {\"color\": \"#000000\"}, \"y\": 5, \"text\": \"4254\", \"x\": 1.55, \"xref\": \"x1\", \"align\": \"left\", \"yref\": \"y1\", \"showarrow\": false, \"xanchor\": \"left\"}, {\"font\": {\"color\": \"#000000\"}, \"y\": 5, \"text\": \"16\", \"x\": 2.55, \"xref\": \"x1\", \"align\": \"left\", \"yref\": \"y1\", \"showarrow\": false, \"xanchor\": \"left\"}, {\"font\": {\"color\": \"#000000\"}, \"y\": 5, \"text\": \"166\", \"x\": 3.55, \"xref\": \"x1\", \"align\": \"left\", \"yref\": \"y1\", \"showarrow\": false, \"xanchor\": \"left\"}, {\"font\": {\"color\": \"#000000\"}, \"y\": 6, \"text\": \"IT/Ops\", \"x\": -0.45, \"xref\": \"x1\", \"align\": \"left\", \"yref\": \"y1\", \"showarrow\": false, \"xanchor\": \"left\"}, {\"font\": {\"color\": \"#000000\"}, \"y\": 6, \"text\": \"Non-Employees\", \"x\": 0.55, \"xref\": \"x1\", \"align\": \"left\", \"yref\": \"y1\", \"showarrow\": false, \"xanchor\": \"left\"}, {\"font\": {\"color\": \"#000000\"}, \"y\": 6, \"text\": \"2730\", \"x\": 1.55, \"xref\": \"x1\", \"align\": \"left\", \"yref\": \"y1\", \"showarrow\": false, \"xanchor\": \"left\"}, {\"font\": {\"color\": \"#000000\"}, \"y\": 6, \"text\": \"11\", \"x\": 2.55, \"xref\": \"x1\", \"align\": \"left\", \"yref\": \"y1\", \"showarrow\": false, \"xanchor\": \"left\"}, {\"font\": {\"color\": \"#000000\"}, \"y\": 6, \"text\": \"172\", \"x\": 3.55, \"xref\": \"x1\", \"align\": \"left\", \"yref\": \"y1\", \"showarrow\": false, \"xanchor\": \"left\"}, {\"font\": {\"color\": \"#000000\"}, \"y\": 7, \"text\": \"Firefox Android\", \"x\": -0.45, \"xref\": \"x1\", \"align\": \"left\", \"yref\": \"y1\", \"showarrow\": false, \"xanchor\": \"left\"}, {\"font\": {\"color\": \"#000000\"}, \"y\": 7, \"text\": \"Non-Employees\", \"x\": 0.55, \"xref\": \"x1\", \"align\": \"left\", \"yref\": \"y1\", \"showarrow\": false, \"xanchor\": \"left\"}, {\"font\": {\"color\": \"#000000\"}, \"y\": 7, \"text\": \"2484\", \"x\": 1.55, \"xref\": \"x1\", \"align\": \"left\", \"yref\": \"y1\", \"showarrow\": false, \"xanchor\": \"left\"}, {\"font\": {\"color\": \"#000000\"}, \"y\": 7, \"text\": \"2\", \"x\": 2.55, \"xref\": \"x1\", \"align\": \"left\", \"yref\": \"y1\", \"showarrow\": false, \"xanchor\": \"left\"}, {\"font\": {\"color\": \"#000000\"}, \"y\": 7, \"text\": \"36\", \"x\": 3.55, \"xref\": \"x1\", \"align\": \"left\", \"yref\": \"y1\", \"showarrow\": false, \"xanchor\": \"left\"}, {\"font\": {\"color\": \"#000000\"}, \"y\": 8, \"text\": \"IT/Ops\", \"x\": -0.45, \"xref\": \"x1\", \"align\": \"left\", \"yref\": \"y1\", \"showarrow\": false, \"xanchor\": \"left\"}, {\"font\": {\"color\": \"#000000\"}, \"y\": 8, \"text\": \"Employees\", \"x\": 0.55, \"xref\": \"x1\", \"align\": \"left\", \"yref\": \"y1\", \"showarrow\": false, \"xanchor\": \"left\"}, {\"font\": {\"color\": \"#000000\"}, \"y\": 8, \"text\": \"2242\", \"x\": 1.55, \"xref\": \"x1\", \"align\": \"left\", \"yref\": \"y1\", \"showarrow\": false, \"xanchor\": \"left\"}, {\"font\": {\"color\": \"#000000\"}, \"y\": 8, \"text\": \"11\", \"x\": 2.55, \"xref\": \"x1\", \"align\": \"left\", \"yref\": \"y1\", \"showarrow\": false, \"xanchor\": \"left\"}, {\"font\": {\"color\": \"#000000\"}, \"y\": 8, \"text\": \"213\", \"x\": 3.55, \"xref\": \"x1\", \"align\": \"left\", \"yref\": \"y1\", \"showarrow\": false, \"xanchor\": \"left\"}, {\"font\": {\"color\": \"#000000\"}, \"y\": 9, \"text\": \"Addons/Web Extensions\", \"x\": -0.45, \"xref\": \"x1\", \"align\": \"left\", \"yref\": \"y1\", \"showarrow\": false, \"xanchor\": \"left\"}, {\"font\": {\"color\": \"#000000\"}, \"y\": 9, \"text\": \"Non-Employees\", \"x\": 0.55, \"xref\": \"x1\", \"align\": \"left\", \"yref\": \"y1\", \"showarrow\": false, \"xanchor\": \"left\"}, {\"font\": {\"color\": \"#000000\"}, \"y\": 9, \"text\": \"2176\", \"x\": 1.55, \"xref\": \"x1\", \"align\": \"left\", \"yref\": \"y1\", \"showarrow\": false, \"xanchor\": \"left\"}, {\"font\": {\"color\": \"#000000\"}, \"y\": 9, \"text\": \"3\", \"x\": 2.55, \"xref\": \"x1\", \"align\": \"left\", \"yref\": \"y1\", \"showarrow\": false, \"xanchor\": \"left\"}, {\"font\": {\"color\": \"#000000\"}, \"y\": 9, \"text\": \"25\", \"x\": 3.55, \"xref\": \"x1\", \"align\": \"left\", \"yref\": \"y1\", \"showarrow\": false, \"xanchor\": \"left\"}, {\"font\": {\"color\": \"#000000\"}, \"y\": 10, \"text\": \"Firefox OS (FxOS / B2G)\", \"x\": -0.45, \"xref\": \"x1\", \"align\": \"left\", \"yref\": \"y1\", \"showarrow\": false, \"xanchor\": \"left\"}, {\"font\": {\"color\": \"#000000\"}, \"y\": 10, \"text\": \"Non-Employees\", \"x\": 0.55, \"xref\": \"x1\", \"align\": \"left\", \"yref\": \"y1\", \"showarrow\": false, \"xanchor\": \"left\"}, {\"font\": {\"color\": \"#000000\"}, \"y\": 10, \"text\": \"2022\", \"x\": 1.55, \"xref\": \"x1\", \"align\": \"left\", \"yref\": \"y1\", \"showarrow\": false, \"xanchor\": \"left\"}, {\"font\": {\"color\": \"#000000\"}, \"y\": 10, \"text\": \"4\", \"x\": 2.55, \"xref\": \"x1\", \"align\": \"left\", \"yref\": \"y1\", \"showarrow\": false, \"xanchor\": \"left\"}, {\"font\": {\"color\": \"#000000\"}, \"y\": 10, \"text\": \"113\", \"x\": 3.55, \"xref\": \"x1\", \"align\": \"left\", \"yref\": \"y1\", \"showarrow\": false, \"xanchor\": \"left\"}, {\"font\": {\"color\": \"#000000\"}, \"y\": 11, \"text\": \"Localization\", \"x\": -0.45, \"xref\": \"x1\", \"align\": \"left\", \"yref\": \"y1\", \"showarrow\": false, \"xanchor\": \"left\"}, {\"font\": {\"color\": \"#000000\"}, \"y\": 11, \"text\": \"Non-Employees\", \"x\": 0.55, \"xref\": \"x1\", \"align\": \"left\", \"yref\": \"y1\", \"showarrow\": false, \"xanchor\": \"left\"}, {\"font\": {\"color\": \"#000000\"}, \"y\": 11, \"text\": \"1935\", \"x\": 1.55, \"xref\": \"x1\", \"align\": \"left\", \"yref\": \"y1\", \"showarrow\": false, \"xanchor\": \"left\"}, {\"font\": {\"color\": \"#000000\"}, \"y\": 11, \"text\": \"4\", \"x\": 2.55, \"xref\": \"x1\", \"align\": \"left\", \"yref\": \"y1\", \"showarrow\": false, \"xanchor\": \"left\"}, {\"font\": {\"color\": \"#000000\"}, \"y\": 11, \"text\": \"115\", \"x\": 3.55, \"xref\": \"x1\", \"align\": \"left\", \"yref\": \"y1\", \"showarrow\": false, \"xanchor\": \"left\"}, {\"font\": {\"color\": \"#000000\"}, \"y\": 12, \"text\": \"Mozilla Developer Network (MDN)\", \"x\": -0.45, \"xref\": \"x1\", \"align\": \"left\", \"yref\": \"y1\", \"showarrow\": false, \"xanchor\": \"left\"}, {\"font\": {\"color\": \"#000000\"}, \"y\": 12, \"text\": \"Non-Employees\", \"x\": 0.55, \"xref\": \"x1\", \"align\": \"left\", \"yref\": \"y1\", \"showarrow\": false, \"xanchor\": \"left\"}, {\"font\": {\"color\": \"#000000\"}, \"y\": 12, \"text\": \"1866\", \"x\": 1.55, \"xref\": \"x1\", \"align\": \"left\", \"yref\": \"y1\", \"showarrow\": false, \"xanchor\": \"left\"}, {\"font\": {\"color\": \"#000000\"}, \"y\": 12, \"text\": \"2\", \"x\": 2.55, \"xref\": \"x1\", \"align\": \"left\", \"yref\": \"y1\", \"showarrow\": false, \"xanchor\": \"left\"}, {\"font\": {\"color\": \"#000000\"}, \"y\": 12, \"text\": \"53\", \"x\": 3.55, \"xref\": \"x1\", \"align\": \"left\", \"yref\": \"y1\", \"showarrow\": false, \"xanchor\": \"left\"}, {\"font\": {\"color\": \"#000000\"}, \"y\": 13, \"text\": \"Gecko\", \"x\": -0.45, \"xref\": \"x1\", \"align\": \"left\", \"yref\": \"y1\", \"showarrow\": false, \"xanchor\": \"left\"}, {\"font\": {\"color\": \"#000000\"}, \"y\": 13, \"text\": \"Employees\", \"x\": 0.55, \"xref\": \"x1\", \"align\": \"left\", \"yref\": \"y1\", \"showarrow\": false, \"xanchor\": \"left\"}, {\"font\": {\"color\": \"#000000\"}, \"y\": 13, \"text\": \"1679\", \"x\": 1.55, \"xref\": \"x1\", \"align\": \"left\", \"yref\": \"y1\", \"showarrow\": false, \"xanchor\": \"left\"}, {\"font\": {\"color\": \"#000000\"}, \"y\": 13, \"text\": \"5\", \"x\": 2.55, \"xref\": \"x1\", \"align\": \"left\", \"yref\": \"y1\", \"showarrow\": false, \"xanchor\": \"left\"}, {\"font\": {\"color\": \"#000000\"}, \"y\": 13, \"text\": \"234\", \"x\": 3.55, \"xref\": \"x1\", \"align\": \"left\", \"yref\": \"y1\", \"showarrow\": false, \"xanchor\": \"left\"}, {\"font\": {\"color\": \"#000000\"}, \"y\": 14, \"text\": \"Web Properties\", \"x\": -0.45, \"xref\": \"x1\", \"align\": \"left\", \"yref\": \"y1\", \"showarrow\": false, \"xanchor\": \"left\"}, {\"font\": {\"color\": \"#000000\"}, \"y\": 14, \"text\": \"Employees\", \"x\": 0.55, \"xref\": \"x1\", \"align\": \"left\", \"yref\": \"y1\", \"showarrow\": false, \"xanchor\": \"left\"}, {\"font\": {\"color\": \"#000000\"}, \"y\": 14, \"text\": \"1547\", \"x\": 1.55, \"xref\": \"x1\", \"align\": \"left\", \"yref\": \"y1\", \"showarrow\": false, \"xanchor\": \"left\"}, {\"font\": {\"color\": \"#000000\"}, \"y\": 14, \"text\": \"16\", \"x\": 2.55, \"xref\": \"x1\", \"align\": \"left\", \"yref\": \"y1\", \"showarrow\": false, \"xanchor\": \"left\"}, {\"font\": {\"color\": \"#000000\"}, \"y\": 14, \"text\": \"176\", \"x\": 3.55, \"xref\": \"x1\", \"align\": \"left\", \"yref\": \"y1\", \"showarrow\": false, \"xanchor\": \"left\"}, {\"font\": {\"color\": \"#000000\"}, \"y\": 15, \"text\": \"Firefox\", \"x\": -0.45, \"xref\": \"x1\", \"align\": \"left\", \"yref\": \"y1\", \"showarrow\": false, \"xanchor\": \"left\"}, {\"font\": {\"color\": \"#000000\"}, \"y\": 15, \"text\": \"Employees\", \"x\": 0.55, \"xref\": \"x1\", \"align\": \"left\", \"yref\": \"y1\", \"showarrow\": false, \"xanchor\": \"left\"}, {\"font\": {\"color\": \"#000000\"}, \"y\": 15, \"text\": \"1340\", \"x\": 1.55, \"xref\": \"x1\", \"align\": \"left\", \"yref\": \"y1\", \"showarrow\": false, \"xanchor\": \"left\"}, {\"font\": {\"color\": \"#000000\"}, \"y\": 15, \"text\": \"3\", \"x\": 2.55, \"xref\": \"x1\", \"align\": \"left\", \"yref\": \"y1\", \"showarrow\": false, \"xanchor\": \"left\"}, {\"font\": {\"color\": \"#000000\"}, \"y\": 15, \"text\": \"58\", \"x\": 3.55, \"xref\": \"x1\", \"align\": \"left\", \"yref\": \"y1\", \"showarrow\": false, \"xanchor\": \"left\"}, {\"font\": {\"color\": \"#000000\"}, \"y\": 16, \"text\": \"Developer Tools\", \"x\": -0.45, \"xref\": \"x1\", \"align\": \"left\", \"yref\": \"y1\", \"showarrow\": false, \"xanchor\": \"left\"}, {\"font\": {\"color\": \"#000000\"}, \"y\": 16, \"text\": \"Non-Employees\", \"x\": 0.55, \"xref\": \"x1\", \"align\": \"left\", \"yref\": \"y1\", \"showarrow\": false, \"xanchor\": \"left\"}, {\"font\": {\"color\": \"#000000\"}, \"y\": 16, \"text\": \"1186\", \"x\": 1.55, \"xref\": \"x1\", \"align\": \"left\", \"yref\": \"y1\", \"showarrow\": false, \"xanchor\": \"left\"}, {\"font\": {\"color\": \"#000000\"}, \"y\": 16, \"text\": \"1\", \"x\": 2.55, \"xref\": \"x1\", \"align\": \"left\", \"yref\": \"y1\", \"showarrow\": false, \"xanchor\": \"left\"}, {\"font\": {\"color\": \"#000000\"}, \"y\": 16, \"text\": \"24\", \"x\": 3.55, \"xref\": \"x1\", \"align\": \"left\", \"yref\": \"y1\", \"showarrow\": false, \"xanchor\": \"left\"}, {\"font\": {\"color\": \"#000000\"}, \"y\": 17, \"text\": \"Firefox OS (FxOS / B2G)\", \"x\": -0.45, \"xref\": \"x1\", \"align\": \"left\", \"yref\": \"y1\", \"showarrow\": false, \"xanchor\": \"left\"}, {\"font\": {\"color\": \"#000000\"}, \"y\": 17, \"text\": \"Employees\", \"x\": 0.55, \"xref\": \"x1\", \"align\": \"left\", \"yref\": \"y1\", \"showarrow\": false, \"xanchor\": \"left\"}, {\"font\": {\"color\": \"#000000\"}, \"y\": 17, \"text\": \"946\", \"x\": 1.55, \"xref\": \"x1\", \"align\": \"left\", \"yref\": \"y1\", \"showarrow\": false, \"xanchor\": \"left\"}, {\"font\": {\"color\": \"#000000\"}, \"y\": 17, \"text\": \"4\", \"x\": 2.55, \"xref\": \"x1\", \"align\": \"left\", \"yref\": \"y1\", \"showarrow\": false, \"xanchor\": \"left\"}, {\"font\": {\"color\": \"#000000\"}, \"y\": 17, \"text\": \"115\", \"x\": 3.55, \"xref\": \"x1\", \"align\": \"left\", \"yref\": \"y1\", \"showarrow\": false, \"xanchor\": \"left\"}, {\"font\": {\"color\": \"#000000\"}, \"y\": 18, \"text\": \"Firefox Android\", \"x\": -0.45, \"xref\": \"x1\", \"align\": \"left\", \"yref\": \"y1\", \"showarrow\": false, \"xanchor\": \"left\"}, {\"font\": {\"color\": \"#000000\"}, \"y\": 18, \"text\": \"Employees\", \"x\": 0.55, \"xref\": \"x1\", \"align\": \"left\", \"yref\": \"y1\", \"showarrow\": false, \"xanchor\": \"left\"}, {\"font\": {\"color\": \"#000000\"}, \"y\": 18, \"text\": \"699\", \"x\": 1.55, \"xref\": \"x1\", \"align\": \"left\", \"yref\": \"y1\", \"showarrow\": false, \"xanchor\": \"left\"}, {\"font\": {\"color\": \"#000000\"}, \"y\": 18, \"text\": \"2\", \"x\": 2.55, \"xref\": \"x1\", \"align\": \"left\", \"yref\": \"y1\", \"showarrow\": false, \"xanchor\": \"left\"}, {\"font\": {\"color\": \"#000000\"}, \"y\": 18, \"text\": \"36\", \"x\": 3.55, \"xref\": \"x1\", \"align\": \"left\", \"yref\": \"y1\", \"showarrow\": false, \"xanchor\": \"left\"}, {\"font\": {\"color\": \"#000000\"}, \"y\": 19, \"text\": \"Release engineering\", \"x\": -0.45, \"xref\": \"x1\", \"align\": \"left\", \"yref\": \"y1\", \"showarrow\": false, \"xanchor\": \"left\"}, {\"font\": {\"color\": \"#000000\"}, \"y\": 19, \"text\": \"Employees\", \"x\": 0.55, \"xref\": \"x1\", \"align\": \"left\", \"yref\": \"y1\", \"showarrow\": false, \"xanchor\": \"left\"}, {\"font\": {\"color\": \"#000000\"}, \"y\": 19, \"text\": \"636\", \"x\": 1.55, \"xref\": \"x1\", \"align\": \"left\", \"yref\": \"y1\", \"showarrow\": false, \"xanchor\": \"left\"}, {\"font\": {\"color\": \"#000000\"}, \"y\": 19, \"text\": \"1\", \"x\": 2.55, \"xref\": \"x1\", \"align\": \"left\", \"yref\": \"y1\", \"showarrow\": false, \"xanchor\": \"left\"}, {\"font\": {\"color\": \"#000000\"}, \"y\": 19, \"text\": \"14\", \"x\": 3.55, \"xref\": \"x1\", \"align\": \"left\", \"yref\": \"y1\", \"showarrow\": false, \"xanchor\": \"left\"}, {\"font\": {\"color\": \"#000000\"}, \"y\": 20, \"text\": \"Quality Assurance\", \"x\": -0.45, \"xref\": \"x1\", \"align\": \"left\", \"yref\": \"y1\", \"showarrow\": false, \"xanchor\": \"left\"}, {\"font\": {\"color\": \"#000000\"}, \"y\": 20, \"text\": \"Employees\", \"x\": 0.55, \"xref\": \"x1\", \"align\": \"left\", \"yref\": \"y1\", \"showarrow\": false, \"xanchor\": \"left\"}, {\"font\": {\"color\": \"#000000\"}, \"y\": 20, \"text\": \"582\", \"x\": 1.55, \"xref\": \"x1\", \"align\": \"left\", \"yref\": \"y1\", \"showarrow\": false, \"xanchor\": \"left\"}, {\"font\": {\"color\": \"#000000\"}, \"y\": 20, \"text\": \"4\", \"x\": 2.55, \"xref\": \"x1\", \"align\": \"left\", \"yref\": \"y1\", \"showarrow\": false, \"xanchor\": \"left\"}, {\"font\": {\"color\": \"#000000\"}, \"y\": 20, \"text\": \"42\", \"x\": 3.55, \"xref\": \"x1\", \"align\": \"left\", \"yref\": \"y1\", \"showarrow\": false, \"xanchor\": \"left\"}, {\"font\": {\"color\": \"#000000\"}, \"y\": 21, \"text\": \"Thunderbird\", \"x\": -0.45, \"xref\": \"x1\", \"align\": \"left\", \"yref\": \"y1\", \"showarrow\": false, \"xanchor\": \"left\"}, {\"font\": {\"color\": \"#000000\"}, \"y\": 21, \"text\": \"Employees\", \"x\": 0.55, \"xref\": \"x1\", \"align\": \"left\", \"yref\": \"y1\", \"showarrow\": false, \"xanchor\": \"left\"}, {\"font\": {\"color\": \"#000000\"}, \"y\": 21, \"text\": \"565\", \"x\": 1.55, \"xref\": \"x1\", \"align\": \"left\", \"yref\": \"y1\", \"showarrow\": false, \"xanchor\": \"left\"}, {\"font\": {\"color\": \"#000000\"}, \"y\": 21, \"text\": \"3\", \"x\": 2.55, \"xref\": \"x1\", \"align\": \"left\", \"yref\": \"y1\", \"showarrow\": false, \"xanchor\": \"left\"}, {\"font\": {\"color\": \"#000000\"}, \"y\": 21, \"text\": \"48\", \"x\": 3.55, \"xref\": \"x1\", \"align\": \"left\", \"yref\": \"y1\", \"showarrow\": false, \"xanchor\": \"left\"}, {\"font\": {\"color\": \"#000000\"}, \"y\": 22, \"text\": \"Quality Assurance\", \"x\": -0.45, \"xref\": \"x1\", \"align\": \"left\", \"yref\": \"y1\", \"showarrow\": false, \"xanchor\": \"left\"}, {\"font\": {\"color\": \"#000000\"}, \"y\": 22, \"text\": \"Non-Employees\", \"x\": 0.55, \"xref\": \"x1\", \"align\": \"left\", \"yref\": \"y1\", \"showarrow\": false, \"xanchor\": \"left\"}, {\"font\": {\"color\": \"#000000\"}, \"y\": 22, \"text\": \"535\", \"x\": 1.55, \"xref\": \"x1\", \"align\": \"left\", \"yref\": \"y1\", \"showarrow\": false, \"xanchor\": \"left\"}, {\"font\": {\"color\": \"#000000\"}, \"y\": 22, \"text\": \"4\", \"x\": 2.55, \"xref\": \"x1\", \"align\": \"left\", \"yref\": \"y1\", \"showarrow\": false, \"xanchor\": \"left\"}, {\"font\": {\"color\": \"#000000\"}, \"y\": 22, \"text\": \"38\", \"x\": 3.55, \"xref\": \"x1\", \"align\": \"left\", \"yref\": \"y1\", \"showarrow\": false, \"xanchor\": \"left\"}, {\"font\": {\"color\": \"#000000\"}, \"y\": 23, \"text\": \"Addons/Web Extensions\", \"x\": -0.45, \"xref\": \"x1\", \"align\": \"left\", \"yref\": \"y1\", \"showarrow\": false, \"xanchor\": \"left\"}, {\"font\": {\"color\": \"#000000\"}, \"y\": 23, \"text\": \"Employees\", \"x\": 0.55, \"xref\": \"x1\", \"align\": \"left\", \"yref\": \"y1\", \"showarrow\": false, \"xanchor\": \"left\"}, {\"font\": {\"color\": \"#000000\"}, \"y\": 23, \"text\": \"498\", \"x\": 1.55, \"xref\": \"x1\", \"align\": \"left\", \"yref\": \"y1\", \"showarrow\": false, \"xanchor\": \"left\"}, {\"font\": {\"color\": \"#000000\"}, \"y\": 23, \"text\": \"3\", \"x\": 2.55, \"xref\": \"x1\", \"align\": \"left\", \"yref\": \"y1\", \"showarrow\": false, \"xanchor\": \"left\"}, {\"font\": {\"color\": \"#000000\"}, \"y\": 23, \"text\": \"25\", \"x\": 3.55, \"xref\": \"x1\", \"align\": \"left\", \"yref\": \"y1\", \"showarrow\": false, \"xanchor\": \"left\"}, {\"font\": {\"color\": \"#000000\"}, \"y\": 24, \"text\": \"Developer Tools\", \"x\": -0.45, \"xref\": \"x1\", \"align\": \"left\", \"yref\": \"y1\", \"showarrow\": false, \"xanchor\": \"left\"}, {\"font\": {\"color\": \"#000000\"}, \"y\": 24, \"text\": \"Employees\", \"x\": 0.55, \"xref\": \"x1\", \"align\": \"left\", \"yref\": \"y1\", \"showarrow\": false, \"xanchor\": \"left\"}, {\"font\": {\"color\": \"#000000\"}, \"y\": 24, \"text\": \"461\", \"x\": 1.55, \"xref\": \"x1\", \"align\": \"left\", \"yref\": \"y1\", \"showarrow\": false, \"xanchor\": \"left\"}, {\"font\": {\"color\": \"#000000\"}, \"y\": 24, \"text\": \"1\", \"x\": 2.55, \"xref\": \"x1\", \"align\": \"left\", \"yref\": \"y1\", \"showarrow\": false, \"xanchor\": \"left\"}, {\"font\": {\"color\": \"#000000\"}, \"y\": 24, \"text\": \"24\", \"x\": 3.55, \"xref\": \"x1\", \"align\": \"left\", \"yref\": \"y1\", \"showarrow\": false, \"xanchor\": \"left\"}, {\"font\": {\"color\": \"#000000\"}, \"y\": 25, \"text\": \"Mozilla Developer Network (MDN)\", \"x\": -0.45, \"xref\": \"x1\", \"align\": \"left\", \"yref\": \"y1\", \"showarrow\": false, \"xanchor\": \"left\"}, {\"font\": {\"color\": \"#000000\"}, \"y\": 25, \"text\": \"Employees\", \"x\": 0.55, \"xref\": \"x1\", \"align\": \"left\", \"yref\": \"y1\", \"showarrow\": false, \"xanchor\": \"left\"}, {\"font\": {\"color\": \"#000000\"}, \"y\": 25, \"text\": \"457\", \"x\": 1.55, \"xref\": \"x1\", \"align\": \"left\", \"yref\": \"y1\", \"showarrow\": false, \"xanchor\": \"left\"}, {\"font\": {\"color\": \"#000000\"}, \"y\": 25, \"text\": \"2\", \"x\": 2.55, \"xref\": \"x1\", \"align\": \"left\", \"yref\": \"y1\", \"showarrow\": false, \"xanchor\": \"left\"}, {\"font\": {\"color\": \"#000000\"}, \"y\": 25, \"text\": \"55\", \"x\": 3.55, \"xref\": \"x1\", \"align\": \"left\", \"yref\": \"y1\", \"showarrow\": false, \"xanchor\": \"left\"}, {\"font\": {\"color\": \"#000000\"}, \"y\": 26, \"text\": \"Technical/Developer Evangelism\", \"x\": -0.45, \"xref\": \"x1\", \"align\": \"left\", \"yref\": \"y1\", \"showarrow\": false, \"xanchor\": \"left\"}, {\"font\": {\"color\": \"#000000\"}, \"y\": 26, \"text\": \"Employees\", \"x\": 0.55, \"xref\": \"x1\", \"align\": \"left\", \"yref\": \"y1\", \"showarrow\": false, \"xanchor\": \"left\"}, {\"font\": {\"color\": \"#000000\"}, \"y\": 26, \"text\": \"436\", \"x\": 1.55, \"xref\": \"x1\", \"align\": \"left\", \"yref\": \"y1\", \"showarrow\": false, \"xanchor\": \"left\"}, {\"font\": {\"color\": \"#000000\"}, \"y\": 26, \"text\": \"3\", \"x\": 2.55, \"xref\": \"x1\", \"align\": \"left\", \"yref\": \"y1\", \"showarrow\": false, \"xanchor\": \"left\"}, {\"font\": {\"color\": \"#000000\"}, \"y\": 26, \"text\": \"37\", \"x\": 3.55, \"xref\": \"x1\", \"align\": \"left\", \"yref\": \"y1\", \"showarrow\": false, \"xanchor\": \"left\"}, {\"font\": {\"color\": \"#000000\"}, \"y\": 27, \"text\": \"Localization\", \"x\": -0.45, \"xref\": \"x1\", \"align\": \"left\", \"yref\": \"y1\", \"showarrow\": false, \"xanchor\": \"left\"}, {\"font\": {\"color\": \"#000000\"}, \"y\": 27, \"text\": \"Employees\", \"x\": 0.55, \"xref\": \"x1\", \"align\": \"left\", \"yref\": \"y1\", \"showarrow\": false, \"xanchor\": \"left\"}, {\"font\": {\"color\": \"#000000\"}, \"y\": 27, \"text\": \"424\", \"x\": 1.55, \"xref\": \"x1\", \"align\": \"left\", \"yref\": \"y1\", \"showarrow\": false, \"xanchor\": \"left\"}, {\"font\": {\"color\": \"#000000\"}, \"y\": 27, \"text\": \"4\", \"x\": 2.55, \"xref\": \"x1\", \"align\": \"left\", \"yref\": \"y1\", \"showarrow\": false, \"xanchor\": \"left\"}, {\"font\": {\"color\": \"#000000\"}, \"y\": 27, \"text\": \"149\", \"x\": 3.55, \"xref\": \"x1\", \"align\": \"left\", \"yref\": \"y1\", \"showarrow\": false, \"xanchor\": \"left\"}, {\"font\": {\"color\": \"#000000\"}, \"y\": 28, \"text\": \"Release engineering\", \"x\": -0.45, \"xref\": \"x1\", \"align\": \"left\", \"yref\": \"y1\", \"showarrow\": false, \"xanchor\": \"left\"}, {\"font\": {\"color\": \"#000000\"}, \"y\": 28, \"text\": \"Non-Employees\", \"x\": 0.55, \"xref\": \"x1\", \"align\": \"left\", \"yref\": \"y1\", \"showarrow\": false, \"xanchor\": \"left\"}, {\"font\": {\"color\": \"#000000\"}, \"y\": 28, \"text\": \"342\", \"x\": 1.55, \"xref\": \"x1\", \"align\": \"left\", \"yref\": \"y1\", \"showarrow\": false, \"xanchor\": \"left\"}, {\"font\": {\"color\": \"#000000\"}, \"y\": 28, \"text\": \"1\", \"x\": 2.55, \"xref\": \"x1\", \"align\": \"left\", \"yref\": \"y1\", \"showarrow\": false, \"xanchor\": \"left\"}, {\"font\": {\"color\": \"#000000\"}, \"y\": 28, \"text\": \"14\", \"x\": 3.55, \"xref\": \"x1\", \"align\": \"left\", \"yref\": \"y1\", \"showarrow\": false, \"xanchor\": \"left\"}, {\"font\": {\"color\": \"#000000\"}, \"y\": 29, \"text\": \"Web Literacy\", \"x\": -0.45, \"xref\": \"x1\", \"align\": \"left\", \"yref\": \"y1\", \"showarrow\": false, \"xanchor\": \"left\"}, {\"font\": {\"color\": \"#000000\"}, \"y\": 29, \"text\": \"Non-Employees\", \"x\": 0.55, \"xref\": \"x1\", \"align\": \"left\", \"yref\": \"y1\", \"showarrow\": false, \"xanchor\": \"left\"}, {\"font\": {\"color\": \"#000000\"}, \"y\": 29, \"text\": \"324\", \"x\": 1.55, \"xref\": \"x1\", \"align\": \"left\", \"yref\": \"y1\", \"showarrow\": false, \"xanchor\": \"left\"}, {\"font\": {\"color\": \"#000000\"}, \"y\": 29, \"text\": \"1\", \"x\": 2.55, \"xref\": \"x1\", \"align\": \"left\", \"yref\": \"y1\", \"showarrow\": false, \"xanchor\": \"left\"}, {\"font\": {\"color\": \"#000000\"}, \"y\": 29, \"text\": \"25\", \"x\": 3.55, \"xref\": \"x1\", \"align\": \"left\", \"yref\": \"y1\", \"showarrow\": false, \"xanchor\": \"left\"}, {\"font\": {\"color\": \"#000000\"}, \"y\": 30, \"text\": \"Marketing / Social Media\", \"x\": -0.45, \"xref\": \"x1\", \"align\": \"left\", \"yref\": \"y1\", \"showarrow\": false, \"xanchor\": \"left\"}, {\"font\": {\"color\": \"#000000\"}, \"y\": 30, \"text\": \"Employees\", \"x\": 0.55, \"xref\": \"x1\", \"align\": \"left\", \"yref\": \"y1\", \"showarrow\": false, \"xanchor\": \"left\"}, {\"font\": {\"color\": \"#000000\"}, \"y\": 30, \"text\": \"320\", \"x\": 1.55, \"xref\": \"x1\", \"align\": \"left\", \"yref\": \"y1\", \"showarrow\": false, \"xanchor\": \"left\"}, {\"font\": {\"color\": \"#000000\"}, \"y\": 30, \"text\": \"4\", \"x\": 2.55, \"xref\": \"x1\", \"align\": \"left\", \"yref\": \"y1\", \"showarrow\": false, \"xanchor\": \"left\"}, {\"font\": {\"color\": \"#000000\"}, \"y\": 30, \"text\": \"21\", \"x\": 3.55, \"xref\": \"x1\", \"align\": \"left\", \"yref\": \"y1\", \"showarrow\": false, \"xanchor\": \"left\"}, {\"font\": {\"color\": \"#000000\"}, \"y\": 31, \"text\": \"Mozilla Creative & Design\", \"x\": -0.45, \"xref\": \"x1\", \"align\": \"left\", \"yref\": \"y1\", \"showarrow\": false, \"xanchor\": \"left\"}, {\"font\": {\"color\": \"#000000\"}, \"y\": 31, \"text\": \"Employees\", \"x\": 0.55, \"xref\": \"x1\", \"align\": \"left\", \"yref\": \"y1\", \"showarrow\": false, \"xanchor\": \"left\"}, {\"font\": {\"color\": \"#000000\"}, \"y\": 31, \"text\": \"262\", \"x\": 1.55, \"xref\": \"x1\", \"align\": \"left\", \"yref\": \"y1\", \"showarrow\": false, \"xanchor\": \"left\"}, {\"font\": {\"color\": \"#000000\"}, \"y\": 31, \"text\": \"1\", \"x\": 2.55, \"xref\": \"x1\", \"align\": \"left\", \"yref\": \"y1\", \"showarrow\": false, \"xanchor\": \"left\"}, {\"font\": {\"color\": \"#000000\"}, \"y\": 31, \"text\": \"1\", \"x\": 3.55, \"xref\": \"x1\", \"align\": \"left\", \"yref\": \"y1\", \"showarrow\": false, \"xanchor\": \"left\"}, {\"font\": {\"color\": \"#000000\"}, \"y\": 32, \"text\": \"Marketing / Social Media\", \"x\": -0.45, \"xref\": \"x1\", \"align\": \"left\", \"yref\": \"y1\", \"showarrow\": false, \"xanchor\": \"left\"}, {\"font\": {\"color\": \"#000000\"}, \"y\": 32, \"text\": \"Non-Employees\", \"x\": 0.55, \"xref\": \"x1\", \"align\": \"left\", \"yref\": \"y1\", \"showarrow\": false, \"xanchor\": \"left\"}, {\"font\": {\"color\": \"#000000\"}, \"y\": 32, \"text\": \"250\", \"x\": 1.55, \"xref\": \"x1\", \"align\": \"left\", \"yref\": \"y1\", \"showarrow\": false, \"xanchor\": \"left\"}, {\"font\": {\"color\": \"#000000\"}, \"y\": 32, \"text\": \"4\", \"x\": 2.55, \"xref\": \"x1\", \"align\": \"left\", \"yref\": \"y1\", \"showarrow\": false, \"xanchor\": \"left\"}, {\"font\": {\"color\": \"#000000\"}, \"y\": 32, \"text\": \"18\", \"x\": 3.55, \"xref\": \"x1\", \"align\": \"left\", \"yref\": \"y1\", \"showarrow\": false, \"xanchor\": \"left\"}, {\"font\": {\"color\": \"#000000\"}, \"y\": 33, \"text\": \"Mozilla Local/Regional communities\", \"x\": -0.45, \"xref\": \"x1\", \"align\": \"left\", \"yref\": \"y1\", \"showarrow\": false, \"xanchor\": \"left\"}, {\"font\": {\"color\": \"#000000\"}, \"y\": 33, \"text\": \"Non-Employees\", \"x\": 0.55, \"xref\": \"x1\", \"align\": \"left\", \"yref\": \"y1\", \"showarrow\": false, \"xanchor\": \"left\"}, {\"font\": {\"color\": \"#000000\"}, \"y\": 33, \"text\": \"161\", \"x\": 1.55, \"xref\": \"x1\", \"align\": \"left\", \"yref\": \"y1\", \"showarrow\": false, \"xanchor\": \"left\"}, {\"font\": {\"color\": \"#000000\"}, \"y\": 33, \"text\": \"2\", \"x\": 2.55, \"xref\": \"x1\", \"align\": \"left\", \"yref\": \"y1\", \"showarrow\": false, \"xanchor\": \"left\"}, {\"font\": {\"color\": \"#000000\"}, \"y\": 33, \"text\": \"16\", \"x\": 3.55, \"xref\": \"x1\", \"align\": \"left\", \"yref\": \"y1\", \"showarrow\": false, \"xanchor\": \"left\"}, {\"font\": {\"color\": \"#000000\"}, \"y\": 34, \"text\": \"Firefox iOS\", \"x\": -0.45, \"xref\": \"x1\", \"align\": \"left\", \"yref\": \"y1\", \"showarrow\": false, \"xanchor\": \"left\"}, {\"font\": {\"color\": \"#000000\"}, \"y\": 34, \"text\": \"Non-Employees\", \"x\": 0.55, \"xref\": \"x1\", \"align\": \"left\", \"yref\": \"y1\", \"showarrow\": false, \"xanchor\": \"left\"}, {\"font\": {\"color\": \"#000000\"}, \"y\": 34, \"text\": \"151\", \"x\": 1.55, \"xref\": \"x1\", \"align\": \"left\", \"yref\": \"y1\", \"showarrow\": false, \"xanchor\": \"left\"}, {\"font\": {\"color\": \"#000000\"}, \"y\": 34, \"text\": \"1\", \"x\": 2.55, \"xref\": \"x1\", \"align\": \"left\", \"yref\": \"y1\", \"showarrow\": false, \"xanchor\": \"left\"}, {\"font\": {\"color\": \"#000000\"}, \"y\": 34, \"text\": \"14\", \"x\": 3.55, \"xref\": \"x1\", \"align\": \"left\", \"yref\": \"y1\", \"showarrow\": false, \"xanchor\": \"left\"}, {\"font\": {\"color\": \"#000000\"}, \"y\": 35, \"text\": \"Web Literacy\", \"x\": -0.45, \"xref\": \"x1\", \"align\": \"left\", \"yref\": \"y1\", \"showarrow\": false, \"xanchor\": \"left\"}, {\"font\": {\"color\": \"#000000\"}, \"y\": 35, \"text\": \"Employees\", \"x\": 0.55, \"xref\": \"x1\", \"align\": \"left\", \"yref\": \"y1\", \"showarrow\": false, \"xanchor\": \"left\"}, {\"font\": {\"color\": \"#000000\"}, \"y\": 35, \"text\": \"140\", \"x\": 1.55, \"xref\": \"x1\", \"align\": \"left\", \"yref\": \"y1\", \"showarrow\": false, \"xanchor\": \"left\"}, {\"font\": {\"color\": \"#000000\"}, \"y\": 35, \"text\": \"1\", \"x\": 2.55, \"xref\": \"x1\", \"align\": \"left\", \"yref\": \"y1\", \"showarrow\": false, \"xanchor\": \"left\"}, {\"font\": {\"color\": \"#000000\"}, \"y\": 35, \"text\": \"26\", \"x\": 3.55, \"xref\": \"x1\", \"align\": \"left\", \"yref\": \"y1\", \"showarrow\": false, \"xanchor\": \"left\"}, {\"font\": {\"color\": \"#000000\"}, \"y\": 36, \"text\": \"Firefox iOS\", \"x\": -0.45, \"xref\": \"x1\", \"align\": \"left\", \"yref\": \"y1\", \"showarrow\": false, \"xanchor\": \"left\"}, {\"font\": {\"color\": \"#000000\"}, \"y\": 36, \"text\": \"Employees\", \"x\": 0.55, \"xref\": \"x1\", \"align\": \"left\", \"yref\": \"y1\", \"showarrow\": false, \"xanchor\": \"left\"}, {\"font\": {\"color\": \"#000000\"}, \"y\": 36, \"text\": \"139\", \"x\": 1.55, \"xref\": \"x1\", \"align\": \"left\", \"yref\": \"y1\", \"showarrow\": false, \"xanchor\": \"left\"}, {\"font\": {\"color\": \"#000000\"}, \"y\": 36, \"text\": \"1\", \"x\": 2.55, \"xref\": \"x1\", \"align\": \"left\", \"yref\": \"y1\", \"showarrow\": false, \"xanchor\": \"left\"}, {\"font\": {\"color\": \"#000000\"}, \"y\": 36, \"text\": \"15\", \"x\": 3.55, \"xref\": \"x1\", \"align\": \"left\", \"yref\": \"y1\", \"showarrow\": false, \"xanchor\": \"left\"}, {\"font\": {\"color\": \"#000000\"}, \"y\": 37, \"text\": \"Mozilla Local/Regional communities\", \"x\": -0.45, \"xref\": \"x1\", \"align\": \"left\", \"yref\": \"y1\", \"showarrow\": false, \"xanchor\": \"left\"}, {\"font\": {\"color\": \"#000000\"}, \"y\": 37, \"text\": \"Employees\", \"x\": 0.55, \"xref\": \"x1\", \"align\": \"left\", \"yref\": \"y1\", \"showarrow\": false, \"xanchor\": \"left\"}, {\"font\": {\"color\": \"#000000\"}, \"y\": 37, \"text\": \"99\", \"x\": 1.55, \"xref\": \"x1\", \"align\": \"left\", \"yref\": \"y1\", \"showarrow\": false, \"xanchor\": \"left\"}, {\"font\": {\"color\": \"#000000\"}, \"y\": 37, \"text\": \"2\", \"x\": 2.55, \"xref\": \"x1\", \"align\": \"left\", \"yref\": \"y1\", \"showarrow\": false, \"xanchor\": \"left\"}, {\"font\": {\"color\": \"#000000\"}, \"y\": 37, \"text\": \"16\", \"x\": 3.55, \"xref\": \"x1\", \"align\": \"left\", \"yref\": \"y1\", \"showarrow\": false, \"xanchor\": \"left\"}, {\"font\": {\"color\": \"#000000\"}, \"y\": 38, \"text\": \"Mozilla support (SUMO)\", \"x\": -0.45, \"xref\": \"x1\", \"align\": \"left\", \"yref\": \"y1\", \"showarrow\": false, \"xanchor\": \"left\"}, {\"font\": {\"color\": \"#000000\"}, \"y\": 38, \"text\": \"Non-Employees\", \"x\": 0.55, \"xref\": \"x1\", \"align\": \"left\", \"yref\": \"y1\", \"showarrow\": false, \"xanchor\": \"left\"}, {\"font\": {\"color\": \"#000000\"}, \"y\": 38, \"text\": \"73\", \"x\": 1.55, \"xref\": \"x1\", \"align\": \"left\", \"yref\": \"y1\", \"showarrow\": false, \"xanchor\": \"left\"}, {\"font\": {\"color\": \"#000000\"}, \"y\": 38, \"text\": \"3\", \"x\": 2.55, \"xref\": \"x1\", \"align\": \"left\", \"yref\": \"y1\", \"showarrow\": false, \"xanchor\": \"left\"}, {\"font\": {\"color\": \"#000000\"}, \"y\": 38, \"text\": \"12\", \"x\": 3.55, \"xref\": \"x1\", \"align\": \"left\", \"yref\": \"y1\", \"showarrow\": false, \"xanchor\": \"left\"}, {\"font\": {\"color\": \"#000000\"}, \"y\": 39, \"text\": \"Mozilla support (SUMO)\", \"x\": -0.45, \"xref\": \"x1\", \"align\": \"left\", \"yref\": \"y1\", \"showarrow\": false, \"xanchor\": \"left\"}, {\"font\": {\"color\": \"#000000\"}, \"y\": 39, \"text\": \"Employees\", \"x\": 0.55, \"xref\": \"x1\", \"align\": \"left\", \"yref\": \"y1\", \"showarrow\": false, \"xanchor\": \"left\"}, {\"font\": {\"color\": \"#000000\"}, \"y\": 39, \"text\": \"61\", \"x\": 1.55, \"xref\": \"x1\", \"align\": \"left\", \"yref\": \"y1\", \"showarrow\": false, \"xanchor\": \"left\"}, {\"font\": {\"color\": \"#000000\"}, \"y\": 39, \"text\": \"3\", \"x\": 2.55, \"xref\": \"x1\", \"align\": \"left\", \"yref\": \"y1\", \"showarrow\": false, \"xanchor\": \"left\"}, {\"font\": {\"color\": \"#000000\"}, \"y\": 39, \"text\": \"12\", \"x\": 3.55, \"xref\": \"x1\", \"align\": \"left\", \"yref\": \"y1\", \"showarrow\": false, \"xanchor\": \"left\"}, {\"font\": {\"color\": \"#000000\"}, \"y\": 40, \"text\": \"Mozilla Foundation\", \"x\": -0.45, \"xref\": \"x1\", \"align\": \"left\", \"yref\": \"y1\", \"showarrow\": false, \"xanchor\": \"left\"}, {\"font\": {\"color\": \"#000000\"}, \"y\": 40, \"text\": \"Employees\", \"x\": 0.55, \"xref\": \"x1\", \"align\": \"left\", \"yref\": \"y1\", \"showarrow\": false, \"xanchor\": \"left\"}, {\"font\": {\"color\": \"#000000\"}, \"y\": 40, \"text\": \"49\", \"x\": 1.55, \"xref\": \"x1\", \"align\": \"left\", \"yref\": \"y1\", \"showarrow\": false, \"xanchor\": \"left\"}, {\"font\": {\"color\": \"#000000\"}, \"y\": 40, \"text\": \"2\", \"x\": 2.55, \"xref\": \"x1\", \"align\": \"left\", \"yref\": \"y1\", \"showarrow\": false, \"xanchor\": \"left\"}, {\"font\": {\"color\": \"#000000\"}, \"y\": 40, \"text\": \"15\", \"x\": 3.55, \"xref\": \"x1\", \"align\": \"left\", \"yref\": \"y1\", \"showarrow\": false, \"xanchor\": \"left\"}, {\"font\": {\"color\": \"#000000\"}, \"y\": 41, \"text\": \"Mozilla Foundation\", \"x\": -0.45, \"xref\": \"x1\", \"align\": \"left\", \"yref\": \"y1\", \"showarrow\": false, \"xanchor\": \"left\"}, {\"font\": {\"color\": \"#000000\"}, \"y\": 41, \"text\": \"Non-Employees\", \"x\": 0.55, \"xref\": \"x1\", \"align\": \"left\", \"yref\": \"y1\", \"showarrow\": false, \"xanchor\": \"left\"}, {\"font\": {\"color\": \"#000000\"}, \"y\": 41, \"text\": \"29\", \"x\": 1.55, \"xref\": \"x1\", \"align\": \"left\", \"yref\": \"y1\", \"showarrow\": false, \"xanchor\": \"left\"}, {\"font\": {\"color\": \"#000000\"}, \"y\": 41, \"text\": \"2\", \"x\": 2.55, \"xref\": \"x1\", \"align\": \"left\", \"yref\": \"y1\", \"showarrow\": false, \"xanchor\": \"left\"}, {\"font\": {\"color\": \"#000000\"}, \"y\": 41, \"text\": \"8\", \"x\": 3.55, \"xref\": \"x1\", \"align\": \"left\", \"yref\": \"y1\", \"showarrow\": false, \"xanchor\": \"left\"}, {\"font\": {\"color\": \"#000000\"}, \"y\": 42, \"text\": \"Mozilla Creative & Design\", \"x\": -0.45, \"xref\": \"x1\", \"align\": \"left\", \"yref\": \"y1\", \"showarrow\": false, \"xanchor\": \"left\"}, {\"font\": {\"color\": \"#000000\"}, \"y\": 42, \"text\": \"Non-Employees\", \"x\": 0.55, \"xref\": \"x1\", \"align\": \"left\", \"yref\": \"y1\", \"showarrow\": false, \"xanchor\": \"left\"}, {\"font\": {\"color\": \"#000000\"}, \"y\": 42, \"text\": \"22\", \"x\": 1.55, \"xref\": \"x1\", \"align\": \"left\", \"yref\": \"y1\", \"showarrow\": false, \"xanchor\": \"left\"}, {\"font\": {\"color\": \"#000000\"}, \"y\": 42, \"text\": \"1\", \"x\": 2.55, \"xref\": \"x1\", \"align\": \"left\", \"yref\": \"y1\", \"showarrow\": false, \"xanchor\": \"left\"}, {\"font\": {\"color\": \"#000000\"}, \"y\": 42, \"text\": \"1\", \"x\": 3.55, \"xref\": \"x1\", \"align\": \"left\", \"yref\": \"y1\", \"showarrow\": false, \"xanchor\": \"left\"}, {\"font\": {\"color\": \"#000000\"}, \"y\": 43, \"text\": \"Firefox Focus\", \"x\": -0.45, \"xref\": \"x1\", \"align\": \"left\", \"yref\": \"y1\", \"showarrow\": false, \"xanchor\": \"left\"}, {\"font\": {\"color\": \"#000000\"}, \"y\": 43, \"text\": \"Employees\", \"x\": 0.55, \"xref\": \"x1\", \"align\": \"left\", \"yref\": \"y1\", \"showarrow\": false, \"xanchor\": \"left\"}, {\"font\": {\"color\": \"#000000\"}, \"y\": 43, \"text\": \"18\", \"x\": 1.55, \"xref\": \"x1\", \"align\": \"left\", \"yref\": \"y1\", \"showarrow\": false, \"xanchor\": \"left\"}, {\"font\": {\"color\": \"#000000\"}, \"y\": 43, \"text\": \"1\", \"x\": 2.55, \"xref\": \"x1\", \"align\": \"left\", \"yref\": \"y1\", \"showarrow\": false, \"xanchor\": \"left\"}, {\"font\": {\"color\": \"#000000\"}, \"y\": 43, \"text\": \"1\", \"x\": 3.55, \"xref\": \"x1\", \"align\": \"left\", \"yref\": \"y1\", \"showarrow\": false, \"xanchor\": \"left\"}, {\"font\": {\"color\": \"#000000\"}, \"y\": 44, \"text\": \"Advocacy and policy\", \"x\": -0.45, \"xref\": \"x1\", \"align\": \"left\", \"yref\": \"y1\", \"showarrow\": false, \"xanchor\": \"left\"}, {\"font\": {\"color\": \"#000000\"}, \"y\": 44, \"text\": \"Non-Employees\", \"x\": 0.55, \"xref\": \"x1\", \"align\": \"left\", \"yref\": \"y1\", \"showarrow\": false, \"xanchor\": \"left\"}, {\"font\": {\"color\": \"#000000\"}, \"y\": 44, \"text\": \"11\", \"x\": 1.55, \"xref\": \"x1\", \"align\": \"left\", \"yref\": \"y1\", \"showarrow\": false, \"xanchor\": \"left\"}, {\"font\": {\"color\": \"#000000\"}, \"y\": 44, \"text\": \"1\", \"x\": 2.55, \"xref\": \"x1\", \"align\": \"left\", \"yref\": \"y1\", \"showarrow\": false, \"xanchor\": \"left\"}, {\"font\": {\"color\": \"#000000\"}, \"y\": 44, \"text\": \"4\", \"x\": 3.55, \"xref\": \"x1\", \"align\": \"left\", \"yref\": \"y1\", \"showarrow\": false, \"xanchor\": \"left\"}, {\"font\": {\"color\": \"#000000\"}, \"y\": 45, \"text\": \"Connected devices & IoT\", \"x\": -0.45, \"xref\": \"x1\", \"align\": \"left\", \"yref\": \"y1\", \"showarrow\": false, \"xanchor\": \"left\"}, {\"font\": {\"color\": \"#000000\"}, \"y\": 45, \"text\": \"Employees\", \"x\": 0.55, \"xref\": \"x1\", \"align\": \"left\", \"yref\": \"y1\", \"showarrow\": false, \"xanchor\": \"left\"}, {\"font\": {\"color\": \"#000000\"}, \"y\": 45, \"text\": \"9\", \"x\": 1.55, \"xref\": \"x1\", \"align\": \"left\", \"yref\": \"y1\", \"showarrow\": false, \"xanchor\": \"left\"}, {\"font\": {\"color\": \"#000000\"}, \"y\": 45, \"text\": \"1\", \"x\": 2.55, \"xref\": \"x1\", \"align\": \"left\", \"yref\": \"y1\", \"showarrow\": false, \"xanchor\": \"left\"}, {\"font\": {\"color\": \"#000000\"}, \"y\": 45, \"text\": \"3\", \"x\": 3.55, \"xref\": \"x1\", \"align\": \"left\", \"yref\": \"y1\", \"showarrow\": false, \"xanchor\": \"left\"}, {\"font\": {\"color\": \"#000000\"}, \"y\": 46, \"text\": \"Web Compatibility\", \"x\": -0.45, \"xref\": \"x1\", \"align\": \"left\", \"yref\": \"y1\", \"showarrow\": false, \"xanchor\": \"left\"}, {\"font\": {\"color\": \"#000000\"}, \"y\": 46, \"text\": \"Employees\", \"x\": 0.55, \"xref\": \"x1\", \"align\": \"left\", \"yref\": \"y1\", \"showarrow\": false, \"xanchor\": \"left\"}, {\"font\": {\"color\": \"#000000\"}, \"y\": 46, \"text\": \"7\", \"x\": 1.55, \"xref\": \"x1\", \"align\": \"left\", \"yref\": \"y1\", \"showarrow\": false, \"xanchor\": \"left\"}, {\"font\": {\"color\": \"#000000\"}, \"y\": 46, \"text\": \"1\", \"x\": 2.55, \"xref\": \"x1\", \"align\": \"left\", \"yref\": \"y1\", \"showarrow\": false, \"xanchor\": \"left\"}, {\"font\": {\"color\": \"#000000\"}, \"y\": 46, \"text\": \"2\", \"x\": 3.55, \"xref\": \"x1\", \"align\": \"left\", \"yref\": \"y1\", \"showarrow\": false, \"xanchor\": \"left\"}, {\"font\": {\"color\": \"#000000\"}, \"y\": 47, \"text\": \"Web Compatibility\", \"x\": -0.45, \"xref\": \"x1\", \"align\": \"left\", \"yref\": \"y1\", \"showarrow\": false, \"xanchor\": \"left\"}, {\"font\": {\"color\": \"#000000\"}, \"y\": 47, \"text\": \"Non-Employees\", \"x\": 0.55, \"xref\": \"x1\", \"align\": \"left\", \"yref\": \"y1\", \"showarrow\": false, \"xanchor\": \"left\"}, {\"font\": {\"color\": \"#000000\"}, \"y\": 47, \"text\": \"6\", \"x\": 1.55, \"xref\": \"x1\", \"align\": \"left\", \"yref\": \"y1\", \"showarrow\": false, \"xanchor\": \"left\"}, {\"font\": {\"color\": \"#000000\"}, \"y\": 47, \"text\": \"1\", \"x\": 2.55, \"xref\": \"x1\", \"align\": \"left\", \"yref\": \"y1\", \"showarrow\": false, \"xanchor\": \"left\"}, {\"font\": {\"color\": \"#000000\"}, \"y\": 47, \"text\": \"1\", \"x\": 3.55, \"xref\": \"x1\", \"align\": \"left\", \"yref\": \"y1\", \"showarrow\": false, \"xanchor\": \"left\"}, {\"font\": {\"color\": \"#000000\"}, \"y\": 48, \"text\": \"Firefox Focus\", \"x\": -0.45, \"xref\": \"x1\", \"align\": \"left\", \"yref\": \"y1\", \"showarrow\": false, \"xanchor\": \"left\"}, {\"font\": {\"color\": \"#000000\"}, \"y\": 48, \"text\": \"Non-Employees\", \"x\": 0.55, \"xref\": \"x1\", \"align\": \"left\", \"yref\": \"y1\", \"showarrow\": false, \"xanchor\": \"left\"}, {\"font\": {\"color\": \"#000000\"}, \"y\": 48, \"text\": \"6\", \"x\": 1.55, \"xref\": \"x1\", \"align\": \"left\", \"yref\": \"y1\", \"showarrow\": false, \"xanchor\": \"left\"}, {\"font\": {\"color\": \"#000000\"}, \"y\": 48, \"text\": \"1\", \"x\": 2.55, \"xref\": \"x1\", \"align\": \"left\", \"yref\": \"y1\", \"showarrow\": false, \"xanchor\": \"left\"}, {\"font\": {\"color\": \"#000000\"}, \"y\": 48, \"text\": \"1\", \"x\": 3.55, \"xref\": \"x1\", \"align\": \"left\", \"yref\": \"y1\", \"showarrow\": false, \"xanchor\": \"left\"}, {\"font\": {\"color\": \"#000000\"}, \"y\": 49, \"text\": \"Rust\", \"x\": -0.45, \"xref\": \"x1\", \"align\": \"left\", \"yref\": \"y1\", \"showarrow\": false, \"xanchor\": \"left\"}, {\"font\": {\"color\": \"#000000\"}, \"y\": 49, \"text\": \"Employees\", \"x\": 0.55, \"xref\": \"x1\", \"align\": \"left\", \"yref\": \"y1\", \"showarrow\": false, \"xanchor\": \"left\"}, {\"font\": {\"color\": \"#000000\"}, \"y\": 49, \"text\": \"5\", \"x\": 1.55, \"xref\": \"x1\", \"align\": \"left\", \"yref\": \"y1\", \"showarrow\": false, \"xanchor\": \"left\"}, {\"font\": {\"color\": \"#000000\"}, \"y\": 49, \"text\": \"1\", \"x\": 2.55, \"xref\": \"x1\", \"align\": \"left\", \"yref\": \"y1\", \"showarrow\": false, \"xanchor\": \"left\"}, {\"font\": {\"color\": \"#000000\"}, \"y\": 49, \"text\": \"1\", \"x\": 3.55, \"xref\": \"x1\", \"align\": \"left\", \"yref\": \"y1\", \"showarrow\": false, \"xanchor\": \"left\"}, {\"font\": {\"color\": \"#000000\"}, \"y\": 50, \"text\": \"Advocacy and policy\", \"x\": -0.45, \"xref\": \"x1\", \"align\": \"left\", \"yref\": \"y1\", \"showarrow\": false, \"xanchor\": \"left\"}, {\"font\": {\"color\": \"#000000\"}, \"y\": 50, \"text\": \"Employees\", \"x\": 0.55, \"xref\": \"x1\", \"align\": \"left\", \"yref\": \"y1\", \"showarrow\": false, \"xanchor\": \"left\"}, {\"font\": {\"color\": \"#000000\"}, \"y\": 50, \"text\": \"3\", \"x\": 1.55, \"xref\": \"x1\", \"align\": \"left\", \"yref\": \"y1\", \"showarrow\": false, \"xanchor\": \"left\"}, {\"font\": {\"color\": \"#000000\"}, \"y\": 50, \"text\": \"1\", \"x\": 2.55, \"xref\": \"x1\", \"align\": \"left\", \"yref\": \"y1\", \"showarrow\": false, \"xanchor\": \"left\"}, {\"font\": {\"color\": \"#000000\"}, \"y\": 50, \"text\": \"2\", \"x\": 3.55, \"xref\": \"x1\", \"align\": \"left\", \"yref\": \"y1\", \"showarrow\": false, \"xanchor\": \"left\"}, {\"font\": {\"color\": \"#000000\"}, \"y\": 51, \"text\": \"Connected devices & IoT\", \"x\": -0.45, \"xref\": \"x1\", \"align\": \"left\", \"yref\": \"y1\", \"showarrow\": false, \"xanchor\": \"left\"}, {\"font\": {\"color\": \"#000000\"}, \"y\": 51, \"text\": \"Non-Employees\", \"x\": 0.55, \"xref\": \"x1\", \"align\": \"left\", \"yref\": \"y1\", \"showarrow\": false, \"xanchor\": \"left\"}, {\"font\": {\"color\": \"#000000\"}, \"y\": 51, \"text\": \"1\", \"x\": 1.55, \"xref\": \"x1\", \"align\": \"left\", \"yref\": \"y1\", \"showarrow\": false, \"xanchor\": \"left\"}, {\"font\": {\"color\": \"#000000\"}, \"y\": 51, \"text\": \"1\", \"x\": 2.55, \"xref\": \"x1\", \"align\": \"left\", \"yref\": \"y1\", \"showarrow\": false, \"xanchor\": \"left\"}, {\"font\": {\"color\": \"#000000\"}, \"y\": 51, \"text\": \"1\", \"x\": 3.55, \"xref\": \"x1\", \"align\": \"left\", \"yref\": \"y1\", \"showarrow\": false, \"xanchor\": \"left\"}, {\"font\": {\"color\": \"#000000\"}, \"y\": 52, \"text\": \"Firefox Student Ambassadors\", \"x\": -0.45, \"xref\": \"x1\", \"align\": \"left\", \"yref\": \"y1\", \"showarrow\": false, \"xanchor\": \"left\"}, {\"font\": {\"color\": \"#000000\"}, \"y\": 52, \"text\": \"Non-Employees\", \"x\": 0.55, \"xref\": \"x1\", \"align\": \"left\", \"yref\": \"y1\", \"showarrow\": false, \"xanchor\": \"left\"}, {\"font\": {\"color\": \"#000000\"}, \"y\": 52, \"text\": \"1\", \"x\": 1.55, \"xref\": \"x1\", \"align\": \"left\", \"yref\": \"y1\", \"showarrow\": false, \"xanchor\": \"left\"}, {\"font\": {\"color\": \"#000000\"}, \"y\": 52, \"text\": \"1\", \"x\": 2.55, \"xref\": \"x1\", \"align\": \"left\", \"yref\": \"y1\", \"showarrow\": false, \"xanchor\": \"left\"}, {\"font\": {\"color\": \"#000000\"}, \"y\": 52, \"text\": \"1\", \"x\": 3.55, \"xref\": \"x1\", \"align\": \"left\", \"yref\": \"y1\", \"showarrow\": false, \"xanchor\": \"left\"}]}, {\"showLink\": true, \"linkText\": \"Export to plot.ly\"})});</script>"
      ]
     },
     "metadata": {},
     "output_type": "display_data"
    }
   ],
   "source": [
    "######\n",
    "# First retrieve Mozilla employees (triying to get everything together results in 502 error)\n",
    "# so let's take partial results and merge them\n",
    "######\n",
    "s = ut.create_search(es_conn, 'bugzilla')\n",
    "\n",
    "s = s.filter('terms', author_org_name=['Mozilla Staff'])\n",
    "\n",
    "# Unique count of Authors by Project\n",
    "s.aggs.bucket('product', 'terms', field='product', size=100000)\\\n",
    "    .bucket('component', 'terms', field='component', size=100000)\\\n",
    "    .bucket('contributors', 'terms', field='author_uuid', size=100000)\n",
    "result = s.execute()\n",
    "\n",
    "print('q1')\n",
    "\n",
    "# Process results to build a DataFrame\n",
    "i = 0\n",
    "moz_df = pandas.DataFrame(columns=['Product', 'Component', 'uuid'])\n",
    "for product in result.to_dict()['aggregations']['product']['buckets']:\n",
    "    for component in product['component']['buckets']:\n",
    "        for author in component['contributors']['buckets']:\n",
    "            moz_df.loc[len(moz_df)] = [product['key'], component['key'], author['key']]\n",
    "            i += 1\n",
    "            if i % 10000 == 0:\n",
    "                print(i, end=', ')\n",
    "\n",
    "print('Moz: ', len(moz_df))\n",
    "            \n",
    "# Merge projects by product & components DFs\n",
    "moz_merged_df = moz_df.merge(projects['Bugzilla'], on=['Product', 'Component'], how='left')\n",
    "moz_merged_df['Org'] = 'Employees'\n",
    "\n",
    "print('Moz merged: ', len(moz_merged_df))\n",
    "\n",
    "\n",
    "####\n",
    "# Second get results for non-employees\n",
    "###\n",
    "s = ut.create_search(es_conn, 'bugzilla')\n",
    "\n",
    "s = s.exclude('terms', author_org_name=['Mozilla Staff'])\n",
    "\n",
    "# Unique count of Authors by Project \n",
    "s.aggs.bucket('product', 'terms', field='product', size=100000)\\\n",
    "    .bucket('component', 'terms', field='component', size=100000)\\\n",
    "    .bucket('contributors', 'terms', field='author_uuid', size=100000)\n",
    "result = s.execute()\n",
    "\n",
    "print('q2')\n",
    "\n",
    "# Process results to build a DataFrame\n",
    "non_moz_df = pandas.DataFrame(columns=['Product', 'Component', 'uuid'])\n",
    "i = 0\n",
    "for product in result.to_dict()['aggregations']['product']['buckets']:\n",
    "    for component in product['component']['buckets']:\n",
    "        for author in component['contributors']['buckets']:\n",
    "            non_moz_df.loc[len(non_moz_df)] = [product['key'], component['key'], author['key']]\n",
    "            i += 1\n",
    "            if i % 10000 == 0:\n",
    "                print(i, end=', ')\n",
    "\n",
    "print('Non-moz: ', len(non_moz_df))\n",
    "            \n",
    "# Merge projects by product & components DFs\n",
    "non_moz_merged_df = non_moz_df.merge(projects['Bugzilla'], on=['Product', 'Component'], how='left')\n",
    "non_moz_merged_df['Org'] = 'Non-Employees'\n",
    "\n",
    "print('Non-moz merged: ', len(non_moz_merged_df))\n",
    "\n",
    "###\n",
    "# Concat both data frames into a single one\n",
    "###\n",
    "merged_df = pandas.concat([moz_merged_df, non_moz_merged_df])\n",
    "\n",
    "print('After concat')\n",
    "\n",
    "\n",
    "# Group By project\n",
    "projects_df = merged_df.groupby(['Project', 'Org']).agg({'uuid': pandas.Series.nunique,\n",
    "                                                         'Product': pandas.Series.nunique,\n",
    "                                                         'Component': pandas.Series.nunique})\n",
    "projects_df = projects_df.sort_values(by='uuid', ascending=0)\n",
    "\n",
    "ut.print_table(projects_df.reset_index(), filename='bugzilla-projects-contributors-table.html')"
   ]
  },
  {
   "cell_type": "markdown",
   "metadata": {},
   "source": [
    "**Table above: Bugzilla Authors by Project using Spreadsheet Data**"
   ]
  },
  {
   "cell_type": "markdown",
   "metadata": {},
   "source": [
    "# Number of Authors by project over time\n",
    "## Authors by project over time: Git\n"
   ]
  },
  {
   "cell_type": "code",
   "execution_count": 7,
   "metadata": {
    "collapsed": false
   },
   "outputs": [
    {
     "data": {
      "text/html": [
       "<script>requirejs.config({paths: { 'plotly': ['https://cdn.plot.ly/plotly-latest.min']},});if(!window.Plotly) {{require(['plotly'],function(plotly) {window.Plotly=plotly;});}}</script>"
      ],
      "text/vnd.plotly.v1+html": [
       "<script>requirejs.config({paths: { 'plotly': ['https://cdn.plot.ly/plotly-latest.min']},});if(!window.Plotly) {{require(['plotly'],function(plotly) {window.Plotly=plotly;});}}</script>"
      ]
     },
     "metadata": {},
     "output_type": "display_data"
    },
    {
     "data": {
      "application/vnd.plotly.v1+json": {
       "data": [
        {
         "name": "Gecko",
         "type": "bar",
         "x": [
          "2010-01-01T00:00:00.000Z",
          "2010-04-01T00:00:00.000Z",
          "2010-07-01T00:00:00.000Z",
          "2010-10-01T00:00:00.000Z",
          "2011-01-01T00:00:00.000Z",
          "2011-04-01T00:00:00.000Z",
          "2011-07-01T00:00:00.000Z",
          "2011-10-01T00:00:00.000Z",
          "2012-01-01T00:00:00.000Z",
          "2012-04-01T00:00:00.000Z",
          "2012-07-01T00:00:00.000Z",
          "2012-10-01T00:00:00.000Z",
          "2013-01-01T00:00:00.000Z",
          "2013-04-01T00:00:00.000Z",
          "2013-07-01T00:00:00.000Z",
          "2013-10-01T00:00:00.000Z",
          "2014-01-01T00:00:00.000Z",
          "2014-04-01T00:00:00.000Z",
          "2014-07-01T00:00:00.000Z",
          "2014-10-01T00:00:00.000Z",
          "2015-01-01T00:00:00.000Z",
          "2015-04-01T00:00:00.000Z",
          "2015-07-01T00:00:00.000Z",
          "2015-10-01T00:00:00.000Z",
          "2016-01-01T00:00:00.000Z",
          "2016-04-01T00:00:00.000Z",
          "2016-07-01T00:00:00.000Z",
          "2016-10-01T00:00:00.000Z"
         ],
         "y": [
          304,
          325,
          348,
          311,
          330,
          357,
          380,
          392,
          440,
          457,
          502,
          499,
          529,
          609,
          592,
          626,
          684,
          693,
          696,
          699,
          717,
          696,
          667,
          687,
          739,
          713,
          703,
          625
         ]
        },
        {
         "name": "IT/Ops",
         "type": "bar",
         "x": [
          "2010-01-01T00:00:00.000Z",
          "2010-04-01T00:00:00.000Z",
          "2010-07-01T00:00:00.000Z",
          "2010-10-01T00:00:00.000Z",
          "2011-01-01T00:00:00.000Z",
          "2011-04-01T00:00:00.000Z",
          "2011-07-01T00:00:00.000Z",
          "2011-10-01T00:00:00.000Z",
          "2012-01-01T00:00:00.000Z",
          "2012-04-01T00:00:00.000Z",
          "2012-07-01T00:00:00.000Z",
          "2012-10-01T00:00:00.000Z",
          "2013-01-01T00:00:00.000Z",
          "2013-04-01T00:00:00.000Z",
          "2013-07-01T00:00:00.000Z",
          "2013-10-01T00:00:00.000Z",
          "2014-01-01T00:00:00.000Z",
          "2014-04-01T00:00:00.000Z",
          "2014-07-01T00:00:00.000Z",
          "2014-10-01T00:00:00.000Z",
          "2015-01-01T00:00:00.000Z",
          "2015-04-01T00:00:00.000Z",
          "2015-07-01T00:00:00.000Z",
          "2015-10-01T00:00:00.000Z",
          "2016-01-01T00:00:00.000Z",
          "2016-04-01T00:00:00.000Z",
          "2016-07-01T00:00:00.000Z",
          "2016-10-01T00:00:00.000Z"
         ],
         "y": [
          258,
          281,
          315,
          262,
          299,
          313,
          326,
          349,
          401,
          414,
          387,
          19,
          23,
          43,
          47,
          35,
          61,
          75,
          62,
          93,
          92,
          82,
          92,
          109,
          122,
          98,
          89,
          107
         ]
        },
        {
         "name": "Web Properties",
         "type": "bar",
         "x": [
          "2010-01-01T00:00:00.000Z",
          "2010-04-01T00:00:00.000Z",
          "2010-07-01T00:00:00.000Z",
          "2010-10-01T00:00:00.000Z",
          "2011-01-01T00:00:00.000Z",
          "2011-04-01T00:00:00.000Z",
          "2011-07-01T00:00:00.000Z",
          "2011-10-01T00:00:00.000Z",
          "2012-01-01T00:00:00.000Z",
          "2012-04-01T00:00:00.000Z",
          "2012-07-01T00:00:00.000Z",
          "2012-10-01T00:00:00.000Z",
          "2013-01-01T00:00:00.000Z",
          "2013-04-01T00:00:00.000Z",
          "2013-07-01T00:00:00.000Z",
          "2013-10-01T00:00:00.000Z",
          "2014-01-01T00:00:00.000Z",
          "2014-04-01T00:00:00.000Z",
          "2014-07-01T00:00:00.000Z",
          "2014-10-01T00:00:00.000Z",
          "2015-01-01T00:00:00.000Z",
          "2015-04-01T00:00:00.000Z",
          "2015-07-01T00:00:00.000Z",
          "2015-10-01T00:00:00.000Z",
          "2016-01-01T00:00:00.000Z",
          "2016-04-01T00:00:00.000Z",
          "2016-07-01T00:00:00.000Z",
          "2016-10-01T00:00:00.000Z"
         ],
         "y": [
          16,
          28,
          25,
          27,
          33,
          46,
          64,
          70,
          93,
          108,
          105,
          109,
          131,
          147,
          149,
          191,
          167,
          176,
          147,
          181,
          182,
          172,
          184,
          221,
          206,
          177,
          181,
          193
         ]
        },
        {
         "name": "Rust",
         "type": "bar",
         "x": [
          "2010-04-01T00:00:00.000Z",
          "2010-07-01T00:00:00.000Z",
          "2010-10-01T00:00:00.000Z",
          "2011-01-01T00:00:00.000Z",
          "2011-04-01T00:00:00.000Z",
          "2011-07-01T00:00:00.000Z",
          "2011-10-01T00:00:00.000Z",
          "2012-01-01T00:00:00.000Z",
          "2012-04-01T00:00:00.000Z",
          "2012-07-01T00:00:00.000Z",
          "2012-10-01T00:00:00.000Z",
          "2013-01-01T00:00:00.000Z",
          "2013-04-01T00:00:00.000Z",
          "2013-07-01T00:00:00.000Z",
          "2013-10-01T00:00:00.000Z",
          "2014-01-01T00:00:00.000Z",
          "2014-04-01T00:00:00.000Z",
          "2014-07-01T00:00:00.000Z",
          "2014-10-01T00:00:00.000Z",
          "2015-01-01T00:00:00.000Z",
          "2015-04-01T00:00:00.000Z",
          "2015-07-01T00:00:00.000Z",
          "2015-10-01T00:00:00.000Z",
          "2016-01-01T00:00:00.000Z",
          "2016-04-01T00:00:00.000Z",
          "2016-07-01T00:00:00.000Z",
          "2016-10-01T00:00:00.000Z"
         ],
         "y": [
          3,
          17,
          7,
          10,
          17,
          19,
          22,
          52,
          38,
          47,
          69,
          87,
          125,
          154,
          154,
          201,
          243,
          275,
          331,
          419,
          409,
          273,
          304,
          336,
          298,
          360,
          210
         ]
        },
        {
         "name": "Addons/Web Extensions",
         "type": "bar",
         "x": [
          "2010-01-01T00:00:00.000Z",
          "2010-04-01T00:00:00.000Z",
          "2010-07-01T00:00:00.000Z",
          "2010-10-01T00:00:00.000Z",
          "2011-01-01T00:00:00.000Z",
          "2011-04-01T00:00:00.000Z",
          "2011-07-01T00:00:00.000Z",
          "2011-10-01T00:00:00.000Z",
          "2012-01-01T00:00:00.000Z",
          "2012-04-01T00:00:00.000Z",
          "2012-07-01T00:00:00.000Z",
          "2012-10-01T00:00:00.000Z",
          "2013-01-01T00:00:00.000Z",
          "2013-04-01T00:00:00.000Z",
          "2013-07-01T00:00:00.000Z",
          "2013-10-01T00:00:00.000Z",
          "2014-01-01T00:00:00.000Z",
          "2014-04-01T00:00:00.000Z",
          "2014-07-01T00:00:00.000Z",
          "2014-10-01T00:00:00.000Z",
          "2015-01-01T00:00:00.000Z",
          "2015-04-01T00:00:00.000Z",
          "2015-07-01T00:00:00.000Z",
          "2015-10-01T00:00:00.000Z",
          "2016-01-01T00:00:00.000Z",
          "2016-04-01T00:00:00.000Z",
          "2016-07-01T00:00:00.000Z",
          "2016-10-01T00:00:00.000Z"
         ],
         "y": [
          15,
          35,
          32,
          30,
          38,
          50,
          51,
          47,
          57,
          56,
          50,
          52,
          59,
          64,
          80,
          90,
          75,
          75,
          81,
          60,
          64,
          58,
          84,
          90,
          114,
          90,
          115,
          117
         ]
        },
        {
         "name": "Servo",
         "type": "bar",
         "x": [
          "2010-01-01T00:00:00.000Z",
          "2010-04-01T00:00:00.000Z",
          "2010-07-01T00:00:00.000Z",
          "2010-10-01T00:00:00.000Z",
          "2011-01-01T00:00:00.000Z",
          "2011-04-01T00:00:00.000Z",
          "2011-07-01T00:00:00.000Z",
          "2011-10-01T00:00:00.000Z",
          "2012-01-01T00:00:00.000Z",
          "2012-04-01T00:00:00.000Z",
          "2012-07-01T00:00:00.000Z",
          "2012-10-01T00:00:00.000Z",
          "2013-01-01T00:00:00.000Z",
          "2013-04-01T00:00:00.000Z",
          "2013-07-01T00:00:00.000Z",
          "2013-10-01T00:00:00.000Z",
          "2014-01-01T00:00:00.000Z",
          "2014-04-01T00:00:00.000Z",
          "2014-07-01T00:00:00.000Z",
          "2014-10-01T00:00:00.000Z",
          "2015-01-01T00:00:00.000Z",
          "2015-04-01T00:00:00.000Z",
          "2015-07-01T00:00:00.000Z",
          "2015-10-01T00:00:00.000Z",
          "2016-01-01T00:00:00.000Z",
          "2016-04-01T00:00:00.000Z",
          "2016-07-01T00:00:00.000Z",
          "2016-10-01T00:00:00.000Z"
         ],
         "y": [
          31,
          28,
          35,
          36,
          38,
          41,
          39,
          39,
          56,
          58,
          58,
          47,
          55,
          74,
          73,
          75,
          70,
          105,
          65,
          145,
          150,
          135,
          123,
          150,
          171,
          177,
          173,
          162
         ]
        },
        {
         "name": "Release engineering",
         "type": "bar",
         "x": [
          "2010-01-01T00:00:00.000Z",
          "2010-04-01T00:00:00.000Z",
          "2010-07-01T00:00:00.000Z",
          "2010-10-01T00:00:00.000Z",
          "2011-01-01T00:00:00.000Z",
          "2011-04-01T00:00:00.000Z",
          "2011-07-01T00:00:00.000Z",
          "2011-10-01T00:00:00.000Z",
          "2012-01-01T00:00:00.000Z",
          "2012-04-01T00:00:00.000Z",
          "2012-07-01T00:00:00.000Z",
          "2012-10-01T00:00:00.000Z",
          "2013-01-01T00:00:00.000Z",
          "2013-04-01T00:00:00.000Z",
          "2013-07-01T00:00:00.000Z",
          "2013-10-01T00:00:00.000Z",
          "2014-01-01T00:00:00.000Z",
          "2014-04-01T00:00:00.000Z",
          "2014-07-01T00:00:00.000Z",
          "2014-10-01T00:00:00.000Z",
          "2015-01-01T00:00:00.000Z",
          "2015-04-01T00:00:00.000Z",
          "2015-07-01T00:00:00.000Z",
          "2015-10-01T00:00:00.000Z",
          "2016-01-01T00:00:00.000Z",
          "2016-04-01T00:00:00.000Z",
          "2016-07-01T00:00:00.000Z",
          "2016-10-01T00:00:00.000Z"
         ],
         "y": [
          29,
          30,
          36,
          32,
          21,
          26,
          19,
          30,
          34,
          33,
          34,
          29,
          34,
          35,
          41,
          41,
          47,
          46,
          56,
          58,
          62,
          56,
          48,
          24,
          37,
          24,
          26,
          21
         ]
        },
        {
         "name": "Web Literacy",
         "type": "bar",
         "x": [
          "2010-04-01T00:00:00.000Z",
          "2010-07-01T00:00:00.000Z",
          "2010-10-01T00:00:00.000Z",
          "2011-01-01T00:00:00.000Z",
          "2011-04-01T00:00:00.000Z",
          "2011-07-01T00:00:00.000Z",
          "2011-10-01T00:00:00.000Z",
          "2012-01-01T00:00:00.000Z",
          "2012-04-01T00:00:00.000Z",
          "2012-07-01T00:00:00.000Z",
          "2012-10-01T00:00:00.000Z",
          "2013-01-01T00:00:00.000Z",
          "2013-04-01T00:00:00.000Z",
          "2013-07-01T00:00:00.000Z",
          "2013-10-01T00:00:00.000Z",
          "2014-01-01T00:00:00.000Z",
          "2014-04-01T00:00:00.000Z",
          "2014-07-01T00:00:00.000Z",
          "2014-10-01T00:00:00.000Z",
          "2015-01-01T00:00:00.000Z",
          "2015-04-01T00:00:00.000Z",
          "2015-07-01T00:00:00.000Z",
          "2015-10-01T00:00:00.000Z",
          "2016-01-01T00:00:00.000Z",
          "2016-04-01T00:00:00.000Z",
          "2016-07-01T00:00:00.000Z",
          "2016-10-01T00:00:00.000Z"
         ],
         "y": [
          5,
          10,
          6,
          17,
          19,
          8,
          13,
          11,
          17,
          10,
          15,
          17,
          22,
          21,
          28,
          32,
          35,
          43,
          54,
          34,
          32,
          24,
          12,
          11,
          10,
          8,
          4
         ]
        },
        {
         "name": "Mozilla Local/Regional communities",
         "type": "bar",
         "x": [
          "2010-01-01T00:00:00.000Z",
          "2010-04-01T00:00:00.000Z",
          "2010-07-01T00:00:00.000Z",
          "2010-10-01T00:00:00.000Z",
          "2011-01-01T00:00:00.000Z",
          "2011-04-01T00:00:00.000Z",
          "2011-07-01T00:00:00.000Z",
          "2011-10-01T00:00:00.000Z",
          "2012-01-01T00:00:00.000Z",
          "2012-04-01T00:00:00.000Z",
          "2012-07-01T00:00:00.000Z",
          "2012-10-01T00:00:00.000Z",
          "2013-01-01T00:00:00.000Z",
          "2013-04-01T00:00:00.000Z",
          "2013-07-01T00:00:00.000Z",
          "2013-10-01T00:00:00.000Z",
          "2014-01-01T00:00:00.000Z",
          "2014-04-01T00:00:00.000Z",
          "2014-07-01T00:00:00.000Z",
          "2014-10-01T00:00:00.000Z",
          "2015-01-01T00:00:00.000Z",
          "2015-04-01T00:00:00.000Z",
          "2015-07-01T00:00:00.000Z",
          "2015-10-01T00:00:00.000Z",
          "2016-01-01T00:00:00.000Z",
          "2016-04-01T00:00:00.000Z",
          "2016-07-01T00:00:00.000Z",
          "2016-10-01T00:00:00.000Z"
         ],
         "y": [
          5,
          5,
          8,
          5,
          8,
          11,
          5,
          13,
          12,
          37,
          24,
          42,
          41,
          56,
          45,
          38,
          61,
          52,
          69,
          75,
          89,
          50,
          43,
          49,
          55,
          53,
          48,
          57
         ]
        },
        {
         "name": "Firefox OS (FxOS / B2G)",
         "type": "bar",
         "x": [
          "2012-01-01T00:00:00.000Z",
          "2012-04-01T00:00:00.000Z",
          "2012-07-01T00:00:00.000Z",
          "2012-10-01T00:00:00.000Z",
          "2013-01-01T00:00:00.000Z",
          "2013-04-01T00:00:00.000Z",
          "2013-07-01T00:00:00.000Z",
          "2013-10-01T00:00:00.000Z",
          "2014-01-01T00:00:00.000Z",
          "2014-04-01T00:00:00.000Z",
          "2014-07-01T00:00:00.000Z",
          "2014-10-01T00:00:00.000Z",
          "2015-01-01T00:00:00.000Z",
          "2015-04-01T00:00:00.000Z",
          "2015-07-01T00:00:00.000Z",
          "2015-10-01T00:00:00.000Z",
          "2016-01-01T00:00:00.000Z",
          "2016-04-01T00:00:00.000Z",
          "2016-07-01T00:00:00.000Z",
          "2016-10-01T00:00:00.000Z"
         ],
         "y": [
          1,
          9,
          15,
          15,
          19,
          15,
          21,
          33,
          54,
          51,
          55,
          63,
          79,
          52,
          47,
          36,
          12,
          5,
          4,
          1
         ]
        },
        {
         "name": "WebVR",
         "type": "bar",
         "x": [
          "2014-07-01T00:00:00.000Z",
          "2014-10-01T00:00:00.000Z",
          "2015-01-01T00:00:00.000Z",
          "2015-04-01T00:00:00.000Z",
          "2015-07-01T00:00:00.000Z",
          "2015-10-01T00:00:00.000Z",
          "2016-01-01T00:00:00.000Z",
          "2016-04-01T00:00:00.000Z",
          "2016-07-01T00:00:00.000Z",
          "2016-10-01T00:00:00.000Z"
         ],
         "y": [
          4,
          5,
          9,
          5,
          12,
          21,
          45,
          41,
          45,
          54
         ]
        },
        {
         "name": "Firefox iOS",
         "type": "bar",
         "x": [
          "2012-04-01T00:00:00.000Z",
          "2012-07-01T00:00:00.000Z",
          "2012-10-01T00:00:00.000Z",
          "2013-01-01T00:00:00.000Z",
          "2013-04-01T00:00:00.000Z",
          "2013-07-01T00:00:00.000Z",
          "2013-10-01T00:00:00.000Z",
          "2014-01-01T00:00:00.000Z",
          "2014-04-01T00:00:00.000Z",
          "2014-07-01T00:00:00.000Z",
          "2014-10-01T00:00:00.000Z",
          "2015-01-01T00:00:00.000Z",
          "2015-04-01T00:00:00.000Z",
          "2015-07-01T00:00:00.000Z",
          "2015-10-01T00:00:00.000Z",
          "2016-01-01T00:00:00.000Z",
          "2016-04-01T00:00:00.000Z",
          "2016-07-01T00:00:00.000Z",
          "2016-10-01T00:00:00.000Z"
         ],
         "y": [
          1,
          1,
          0,
          1,
          1,
          0,
          0,
          0,
          0,
          0,
          10,
          23,
          23,
          26,
          26,
          22,
          20,
          16,
          15
         ]
        },
        {
         "name": "Quality Assurance",
         "type": "bar",
         "x": [
          "2010-01-01T00:00:00.000Z",
          "2010-04-01T00:00:00.000Z",
          "2010-07-01T00:00:00.000Z",
          "2010-10-01T00:00:00.000Z",
          "2011-01-01T00:00:00.000Z",
          "2011-04-01T00:00:00.000Z",
          "2011-07-01T00:00:00.000Z",
          "2011-10-01T00:00:00.000Z",
          "2012-01-01T00:00:00.000Z",
          "2012-04-01T00:00:00.000Z",
          "2012-07-01T00:00:00.000Z",
          "2012-10-01T00:00:00.000Z",
          "2013-01-01T00:00:00.000Z",
          "2013-04-01T00:00:00.000Z",
          "2013-07-01T00:00:00.000Z",
          "2013-10-01T00:00:00.000Z",
          "2014-01-01T00:00:00.000Z",
          "2014-04-01T00:00:00.000Z",
          "2014-07-01T00:00:00.000Z",
          "2014-10-01T00:00:00.000Z",
          "2015-01-01T00:00:00.000Z",
          "2015-04-01T00:00:00.000Z",
          "2015-07-01T00:00:00.000Z",
          "2015-10-01T00:00:00.000Z"
         ],
         "y": [
          7,
          11,
          11,
          9,
          9,
          6,
          9,
          8,
          9,
          13,
          10,
          14,
          14,
          15,
          18,
          11,
          8,
          13,
          14,
          12,
          6,
          2,
          2,
          1
         ]
        },
        {
         "name": "Mozilla Science",
         "type": "bar",
         "x": [
          "2013-10-01T00:00:00.000Z",
          "2014-01-01T00:00:00.000Z",
          "2014-04-01T00:00:00.000Z",
          "2014-07-01T00:00:00.000Z",
          "2014-10-01T00:00:00.000Z",
          "2015-01-01T00:00:00.000Z",
          "2015-04-01T00:00:00.000Z",
          "2015-07-01T00:00:00.000Z",
          "2015-10-01T00:00:00.000Z",
          "2016-01-01T00:00:00.000Z",
          "2016-04-01T00:00:00.000Z",
          "2016-07-01T00:00:00.000Z",
          "2016-10-01T00:00:00.000Z"
         ],
         "y": [
          2,
          3,
          2,
          4,
          12,
          3,
          15,
          24,
          25,
          33,
          25,
          12,
          17
         ]
        },
        {
         "name": "Mozilla Developer Network (MDN)",
         "type": "bar",
         "x": [
          "2011-04-01T00:00:00.000Z",
          "2011-07-01T00:00:00.000Z",
          "2011-10-01T00:00:00.000Z",
          "2012-01-01T00:00:00.000Z",
          "2012-04-01T00:00:00.000Z",
          "2012-07-01T00:00:00.000Z",
          "2012-10-01T00:00:00.000Z",
          "2013-01-01T00:00:00.000Z",
          "2013-04-01T00:00:00.000Z",
          "2013-07-01T00:00:00.000Z",
          "2013-10-01T00:00:00.000Z",
          "2014-01-01T00:00:00.000Z",
          "2014-04-01T00:00:00.000Z",
          "2014-07-01T00:00:00.000Z",
          "2014-10-01T00:00:00.000Z",
          "2015-01-01T00:00:00.000Z",
          "2015-04-01T00:00:00.000Z",
          "2015-07-01T00:00:00.000Z",
          "2015-10-01T00:00:00.000Z",
          "2016-01-01T00:00:00.000Z",
          "2016-04-01T00:00:00.000Z",
          "2016-07-01T00:00:00.000Z",
          "2016-10-01T00:00:00.000Z"
         ],
         "y": [
          1,
          3,
          1,
          5,
          2,
          6,
          3,
          4,
          7,
          8,
          6,
          8,
          8,
          15,
          8,
          17,
          14,
          20,
          24,
          25,
          21,
          26,
          43
         ]
        },
        {
         "name": "Mozilla Location Service (MLS) / Stumbler",
         "type": "bar",
         "x": [
          "2013-07-01T00:00:00.000Z",
          "2013-10-01T00:00:00.000Z",
          "2014-01-01T00:00:00.000Z",
          "2014-04-01T00:00:00.000Z",
          "2014-07-01T00:00:00.000Z",
          "2014-10-01T00:00:00.000Z",
          "2015-01-01T00:00:00.000Z",
          "2015-04-01T00:00:00.000Z",
          "2015-07-01T00:00:00.000Z",
          "2015-10-01T00:00:00.000Z",
          "2016-01-01T00:00:00.000Z",
          "2016-04-01T00:00:00.000Z",
          "2016-07-01T00:00:00.000Z",
          "2016-10-01T00:00:00.000Z"
         ],
         "y": [
          4,
          28,
          42,
          24,
          19,
          22,
          13,
          7,
          6,
          2,
          1,
          2,
          1,
          1
         ]
        },
        {
         "name": "Marketing / Social Media",
         "type": "bar",
         "x": [
          "2010-04-01T00:00:00.000Z",
          "2010-07-01T00:00:00.000Z",
          "2010-10-01T00:00:00.000Z",
          "2011-01-01T00:00:00.000Z",
          "2011-04-01T00:00:00.000Z",
          "2011-07-01T00:00:00.000Z",
          "2011-10-01T00:00:00.000Z",
          "2012-01-01T00:00:00.000Z",
          "2012-04-01T00:00:00.000Z",
          "2012-07-01T00:00:00.000Z",
          "2012-10-01T00:00:00.000Z",
          "2013-01-01T00:00:00.000Z",
          "2013-04-01T00:00:00.000Z",
          "2013-07-01T00:00:00.000Z",
          "2013-10-01T00:00:00.000Z",
          "2014-01-01T00:00:00.000Z",
          "2014-04-01T00:00:00.000Z",
          "2014-07-01T00:00:00.000Z",
          "2014-10-01T00:00:00.000Z",
          "2015-01-01T00:00:00.000Z",
          "2015-04-01T00:00:00.000Z",
          "2015-07-01T00:00:00.000Z",
          "2015-10-01T00:00:00.000Z",
          "2016-01-01T00:00:00.000Z",
          "2016-04-01T00:00:00.000Z",
          "2016-07-01T00:00:00.000Z",
          "2016-10-01T00:00:00.000Z"
         ],
         "y": [
          3,
          2,
          3,
          3,
          7,
          8,
          7,
          13,
          9,
          10,
          6,
          9,
          6,
          8,
          8,
          8,
          8,
          7,
          9,
          6,
          7,
          7,
          6,
          9,
          6,
          7,
          9
         ]
        },
        {
         "name": "Test Pilot",
         "type": "bar",
         "x": [
          "2012-01-01T00:00:00.000Z",
          "2012-04-01T00:00:00.000Z",
          "2012-07-01T00:00:00.000Z",
          "2012-10-01T00:00:00.000Z",
          "2013-01-01T00:00:00.000Z",
          "2013-04-01T00:00:00.000Z",
          "2013-07-01T00:00:00.000Z",
          "2013-10-01T00:00:00.000Z",
          "2014-01-01T00:00:00.000Z",
          "2014-04-01T00:00:00.000Z",
          "2014-07-01T00:00:00.000Z",
          "2014-10-01T00:00:00.000Z",
          "2015-01-01T00:00:00.000Z",
          "2015-04-01T00:00:00.000Z",
          "2015-07-01T00:00:00.000Z",
          "2015-10-01T00:00:00.000Z",
          "2016-01-01T00:00:00.000Z",
          "2016-04-01T00:00:00.000Z",
          "2016-07-01T00:00:00.000Z",
          "2016-10-01T00:00:00.000Z"
         ],
         "y": [
          1,
          1,
          2,
          0,
          0,
          0,
          0,
          0,
          0,
          0,
          0,
          0,
          0,
          0,
          4,
          4,
          7,
          14,
          12,
          73
         ]
        },
        {
         "name": "Advocacy and policy",
         "type": "bar",
         "x": [
          "2014-01-01T00:00:00.000Z",
          "2014-04-01T00:00:00.000Z",
          "2014-07-01T00:00:00.000Z",
          "2014-10-01T00:00:00.000Z",
          "2015-01-01T00:00:00.000Z",
          "2015-04-01T00:00:00.000Z",
          "2015-07-01T00:00:00.000Z",
          "2015-10-01T00:00:00.000Z",
          "2016-01-01T00:00:00.000Z",
          "2016-04-01T00:00:00.000Z",
          "2016-07-01T00:00:00.000Z",
          "2016-10-01T00:00:00.000Z"
         ],
         "y": [
          4,
          2,
          2,
          1,
          7,
          6,
          7,
          3,
          5,
          18,
          32,
          19
         ]
        },
        {
         "name": "Localization",
         "type": "bar",
         "x": [
          "2010-01-01T00:00:00.000Z",
          "2010-04-01T00:00:00.000Z",
          "2010-07-01T00:00:00.000Z",
          "2010-10-01T00:00:00.000Z",
          "2011-01-01T00:00:00.000Z",
          "2011-04-01T00:00:00.000Z",
          "2011-07-01T00:00:00.000Z",
          "2011-10-01T00:00:00.000Z",
          "2012-01-01T00:00:00.000Z",
          "2012-04-01T00:00:00.000Z",
          "2012-07-01T00:00:00.000Z",
          "2012-10-01T00:00:00.000Z",
          "2013-01-01T00:00:00.000Z",
          "2013-04-01T00:00:00.000Z",
          "2013-07-01T00:00:00.000Z",
          "2013-10-01T00:00:00.000Z",
          "2014-01-01T00:00:00.000Z",
          "2014-04-01T00:00:00.000Z",
          "2014-07-01T00:00:00.000Z",
          "2014-10-01T00:00:00.000Z",
          "2015-01-01T00:00:00.000Z",
          "2015-04-01T00:00:00.000Z",
          "2015-07-01T00:00:00.000Z",
          "2015-10-01T00:00:00.000Z",
          "2016-01-01T00:00:00.000Z",
          "2016-04-01T00:00:00.000Z",
          "2016-07-01T00:00:00.000Z",
          "2016-10-01T00:00:00.000Z"
         ],
         "y": [
          1,
          2,
          2,
          2,
          4,
          4,
          5,
          5,
          5,
          5,
          6,
          5,
          5,
          4,
          5,
          5,
          5,
          4,
          7,
          5,
          5,
          5,
          5,
          3,
          5,
          5,
          3,
          5
         ]
        },
        {
         "name": "Mozilla Foundation",
         "type": "bar",
         "x": [
          "2012-10-01T00:00:00.000Z",
          "2013-01-01T00:00:00.000Z",
          "2013-04-01T00:00:00.000Z",
          "2013-07-01T00:00:00.000Z",
          "2013-10-01T00:00:00.000Z",
          "2014-01-01T00:00:00.000Z",
          "2014-04-01T00:00:00.000Z",
          "2014-07-01T00:00:00.000Z",
          "2014-10-01T00:00:00.000Z",
          "2015-01-01T00:00:00.000Z",
          "2015-04-01T00:00:00.000Z",
          "2015-07-01T00:00:00.000Z",
          "2015-10-01T00:00:00.000Z",
          "2016-01-01T00:00:00.000Z",
          "2016-04-01T00:00:00.000Z",
          "2016-07-01T00:00:00.000Z",
          "2016-10-01T00:00:00.000Z"
         ],
         "y": [
          14,
          10,
          4,
          4,
          20,
          9,
          9,
          2,
          10,
          10,
          6,
          7,
          11,
          17,
          15,
          16,
          8
         ]
        },
        {
         "name": "Firefox",
         "type": "bar",
         "x": [
          "2016-01-01T00:00:00.000Z",
          "2016-04-01T00:00:00.000Z",
          "2016-07-01T00:00:00.000Z",
          "2016-10-01T00:00:00.000Z"
         ],
         "y": [
          10,
          15,
          15,
          10
         ]
        },
        {
         "name": "Technical/Developer Evangelism",
         "type": "bar",
         "x": [
          "2012-07-01T00:00:00.000Z",
          "2012-10-01T00:00:00.000Z",
          "2013-01-01T00:00:00.000Z",
          "2013-04-01T00:00:00.000Z",
          "2013-07-01T00:00:00.000Z",
          "2013-10-01T00:00:00.000Z",
          "2014-01-01T00:00:00.000Z",
          "2014-04-01T00:00:00.000Z",
          "2014-07-01T00:00:00.000Z",
          "2014-10-01T00:00:00.000Z",
          "2015-01-01T00:00:00.000Z",
          "2015-04-01T00:00:00.000Z",
          "2015-07-01T00:00:00.000Z",
          "2015-10-01T00:00:00.000Z",
          "2016-01-01T00:00:00.000Z",
          "2016-04-01T00:00:00.000Z",
          "2016-07-01T00:00:00.000Z",
          "2016-10-01T00:00:00.000Z"
         ],
         "y": [
          2,
          1,
          1,
          6,
          0,
          2,
          1,
          5,
          3,
          1,
          2,
          4,
          3,
          4,
          3,
          7,
          5,
          4
         ]
        },
        {
         "name": "Not tracked",
         "type": "bar",
         "x": [
          "2011-04-01T00:00:00.000Z",
          "2011-07-01T00:00:00.000Z",
          "2011-10-01T00:00:00.000Z",
          "2012-01-01T00:00:00.000Z",
          "2012-04-01T00:00:00.000Z",
          "2012-07-01T00:00:00.000Z",
          "2012-10-01T00:00:00.000Z",
          "2013-01-01T00:00:00.000Z",
          "2013-04-01T00:00:00.000Z",
          "2013-07-01T00:00:00.000Z",
          "2013-10-01T00:00:00.000Z",
          "2014-01-01T00:00:00.000Z",
          "2014-04-01T00:00:00.000Z",
          "2014-07-01T00:00:00.000Z",
          "2014-10-01T00:00:00.000Z",
          "2015-01-01T00:00:00.000Z",
          "2015-04-01T00:00:00.000Z",
          "2015-07-01T00:00:00.000Z",
          "2015-10-01T00:00:00.000Z",
          "2016-01-01T00:00:00.000Z",
          "2016-04-01T00:00:00.000Z",
          "2016-07-01T00:00:00.000Z",
          "2016-10-01T00:00:00.000Z"
         ],
         "y": [
          2,
          2,
          3,
          2,
          2,
          3,
          3,
          2,
          5,
          4,
          6,
          8,
          7,
          7,
          6,
          9,
          6,
          2,
          5,
          9,
          18,
          22,
          22
         ]
        },
        {
         "name": "Vaani",
         "type": "bar",
         "x": [
          "2015-07-01T00:00:00.000Z",
          "2015-10-01T00:00:00.000Z",
          "2016-01-01T00:00:00.000Z",
          "2016-04-01T00:00:00.000Z",
          "2016-07-01T00:00:00.000Z"
         ],
         "y": [
          6,
          3,
          2,
          5,
          6
         ]
        },
        {
         "name": "Developer Tools",
         "type": "bar",
         "x": [
          "2010-10-01T00:00:00.000Z",
          "2011-01-01T00:00:00.000Z",
          "2011-04-01T00:00:00.000Z",
          "2011-07-01T00:00:00.000Z",
          "2011-10-01T00:00:00.000Z",
          "2012-01-01T00:00:00.000Z",
          "2012-04-01T00:00:00.000Z",
          "2012-07-01T00:00:00.000Z",
          "2012-10-01T00:00:00.000Z",
          "2013-01-01T00:00:00.000Z",
          "2013-04-01T00:00:00.000Z",
          "2013-07-01T00:00:00.000Z",
          "2013-10-01T00:00:00.000Z",
          "2014-01-01T00:00:00.000Z",
          "2014-04-01T00:00:00.000Z",
          "2014-07-01T00:00:00.000Z",
          "2014-10-01T00:00:00.000Z",
          "2015-01-01T00:00:00.000Z",
          "2015-04-01T00:00:00.000Z",
          "2015-07-01T00:00:00.000Z",
          "2015-10-01T00:00:00.000Z",
          "2016-01-01T00:00:00.000Z"
         ],
         "y": [
          1,
          2,
          3,
          2,
          0,
          0,
          0,
          0,
          0,
          0,
          0,
          1,
          1,
          0,
          0,
          0,
          0,
          0,
          3,
          0,
          0,
          1
         ]
        },
        {
         "name": "Firefox Focus",
         "type": "bar",
         "x": [
          "2015-10-01T00:00:00.000Z",
          "2016-01-01T00:00:00.000Z",
          "2016-04-01T00:00:00.000Z",
          "2016-07-01T00:00:00.000Z",
          "2016-10-01T00:00:00.000Z"
         ],
         "y": [
          3,
          4,
          0,
          2,
          8
         ]
        },
        {
         "name": "Mozilla Clubs",
         "type": "bar",
         "x": [
          "2014-10-01T00:00:00.000Z",
          "2015-01-01T00:00:00.000Z",
          "2015-04-01T00:00:00.000Z",
          "2015-07-01T00:00:00.000Z",
          "2015-10-01T00:00:00.000Z",
          "2016-01-01T00:00:00.000Z",
          "2016-04-01T00:00:00.000Z"
         ],
         "y": [
          1,
          0,
          0,
          1,
          5,
          3,
          4
         ]
        },
        {
         "name": "Mozilla Creative & Design",
         "type": "bar",
         "x": [
          "2012-10-01T00:00:00.000Z",
          "2013-01-01T00:00:00.000Z",
          "2013-04-01T00:00:00.000Z",
          "2013-07-01T00:00:00.000Z",
          "2013-10-01T00:00:00.000Z",
          "2014-01-01T00:00:00.000Z",
          "2014-04-01T00:00:00.000Z",
          "2014-07-01T00:00:00.000Z",
          "2014-10-01T00:00:00.000Z",
          "2015-01-01T00:00:00.000Z",
          "2015-04-01T00:00:00.000Z",
          "2015-07-01T00:00:00.000Z",
          "2015-10-01T00:00:00.000Z",
          "2016-01-01T00:00:00.000Z",
          "2016-04-01T00:00:00.000Z",
          "2016-07-01T00:00:00.000Z",
          "2016-10-01T00:00:00.000Z"
         ],
         "y": [
          1,
          4,
          0,
          3,
          0,
          0,
          4,
          2,
          0,
          2,
          2,
          1,
          4,
          10,
          5,
          2,
          2
         ]
        },
        {
         "name": "Deep Speech",
         "type": "bar",
         "x": [
          "2016-07-01T00:00:00.000Z",
          "2016-10-01T00:00:00.000Z"
         ],
         "y": [
          3,
          7
         ]
        },
        {
         "name": "Campus Clubs (previously Student Ambassadors)",
         "type": "bar",
         "x": [
          "2016-01-01T00:00:00.000Z",
          "2016-04-01T00:00:00.000Z",
          "2016-07-01T00:00:00.000Z",
          "2016-10-01T00:00:00.000Z"
         ],
         "y": [
          1,
          0,
          4,
          6
         ]
        },
        {
         "name": "Connected devices & IoT",
         "type": "bar",
         "x": [
          "2010-07-01T00:00:00.000Z",
          "2010-10-01T00:00:00.000Z",
          "2011-01-01T00:00:00.000Z",
          "2011-04-01T00:00:00.000Z",
          "2011-07-01T00:00:00.000Z",
          "2011-10-01T00:00:00.000Z",
          "2012-01-01T00:00:00.000Z",
          "2012-04-01T00:00:00.000Z",
          "2012-07-01T00:00:00.000Z",
          "2012-10-01T00:00:00.000Z",
          "2013-01-01T00:00:00.000Z",
          "2013-04-01T00:00:00.000Z",
          "2013-07-01T00:00:00.000Z",
          "2013-10-01T00:00:00.000Z",
          "2014-01-01T00:00:00.000Z",
          "2014-04-01T00:00:00.000Z",
          "2014-07-01T00:00:00.000Z",
          "2014-10-01T00:00:00.000Z",
          "2015-01-01T00:00:00.000Z",
          "2015-04-01T00:00:00.000Z",
          "2015-07-01T00:00:00.000Z",
          "2015-10-01T00:00:00.000Z",
          "2016-01-01T00:00:00.000Z",
          "2016-04-01T00:00:00.000Z",
          "2016-07-01T00:00:00.000Z",
          "2016-10-01T00:00:00.000Z"
         ],
         "y": [
          2,
          1,
          1,
          3,
          2,
          3,
          3,
          2,
          2,
          2,
          2,
          2,
          2,
          2,
          2,
          2,
          1,
          2,
          1,
          1,
          1,
          2,
          3,
          2,
          1,
          2
         ]
        },
        {
         "name": "Firefox Android",
         "type": "bar",
         "x": [
          "2014-07-01T00:00:00.000Z",
          "2014-10-01T00:00:00.000Z",
          "2015-01-01T00:00:00.000Z",
          "2015-04-01T00:00:00.000Z",
          "2015-07-01T00:00:00.000Z",
          "2015-10-01T00:00:00.000Z"
         ],
         "y": [
          2,
          1,
          0,
          1,
          0,
          1
         ]
        }
       ],
       "layout": {
        "barmode": "stack"
       }
      },
      "text/html": [
       "<div id=\"c1d2199d-d54c-4676-bc7f-9570800346c1\" style=\"height: 525px; width: 100%;\" class=\"plotly-graph-div\"></div><script type=\"text/javascript\">require([\"plotly\"], function(Plotly) { window.PLOTLYENV=window.PLOTLYENV || {};window.PLOTLYENV.BASE_URL=\"https://plot.ly\";Plotly.newPlot(\"c1d2199d-d54c-4676-bc7f-9570800346c1\", [{\"y\": [304.0, 325.0, 348.0, 311.0, 330.0, 357.0, 380.0, 392.0, 440.0, 457.0, 502.0, 499.0, 529.0, 609.0, 592.0, 626.0, 684.0, 693.0, 696.0, 699.0, 717.0, 696.0, 667.0, 687.0, 739.0, 713.0, 703.0, 625.0], \"type\": \"bar\", \"name\": \"Gecko\", \"x\": [\"2010-01-01T00:00:00.000Z\", \"2010-04-01T00:00:00.000Z\", \"2010-07-01T00:00:00.000Z\", \"2010-10-01T00:00:00.000Z\", \"2011-01-01T00:00:00.000Z\", \"2011-04-01T00:00:00.000Z\", \"2011-07-01T00:00:00.000Z\", \"2011-10-01T00:00:00.000Z\", \"2012-01-01T00:00:00.000Z\", \"2012-04-01T00:00:00.000Z\", \"2012-07-01T00:00:00.000Z\", \"2012-10-01T00:00:00.000Z\", \"2013-01-01T00:00:00.000Z\", \"2013-04-01T00:00:00.000Z\", \"2013-07-01T00:00:00.000Z\", \"2013-10-01T00:00:00.000Z\", \"2014-01-01T00:00:00.000Z\", \"2014-04-01T00:00:00.000Z\", \"2014-07-01T00:00:00.000Z\", \"2014-10-01T00:00:00.000Z\", \"2015-01-01T00:00:00.000Z\", \"2015-04-01T00:00:00.000Z\", \"2015-07-01T00:00:00.000Z\", \"2015-10-01T00:00:00.000Z\", \"2016-01-01T00:00:00.000Z\", \"2016-04-01T00:00:00.000Z\", \"2016-07-01T00:00:00.000Z\", \"2016-10-01T00:00:00.000Z\"]}, {\"y\": [258.0, 281.0, 315.0, 262.0, 299.0, 313.0, 326.0, 349.0, 401.0, 414.0, 387.0, 19.0, 23.0, 43.0, 47.0, 35.0, 61.0, 75.0, 62.0, 93.0, 92.0, 82.0, 92.0, 109.0, 122.0, 98.0, 89.0, 107.0], \"type\": \"bar\", \"name\": \"IT/Ops\", \"x\": [\"2010-01-01T00:00:00.000Z\", \"2010-04-01T00:00:00.000Z\", \"2010-07-01T00:00:00.000Z\", \"2010-10-01T00:00:00.000Z\", \"2011-01-01T00:00:00.000Z\", \"2011-04-01T00:00:00.000Z\", \"2011-07-01T00:00:00.000Z\", \"2011-10-01T00:00:00.000Z\", \"2012-01-01T00:00:00.000Z\", \"2012-04-01T00:00:00.000Z\", \"2012-07-01T00:00:00.000Z\", \"2012-10-01T00:00:00.000Z\", \"2013-01-01T00:00:00.000Z\", \"2013-04-01T00:00:00.000Z\", \"2013-07-01T00:00:00.000Z\", \"2013-10-01T00:00:00.000Z\", \"2014-01-01T00:00:00.000Z\", \"2014-04-01T00:00:00.000Z\", \"2014-07-01T00:00:00.000Z\", \"2014-10-01T00:00:00.000Z\", \"2015-01-01T00:00:00.000Z\", \"2015-04-01T00:00:00.000Z\", \"2015-07-01T00:00:00.000Z\", \"2015-10-01T00:00:00.000Z\", \"2016-01-01T00:00:00.000Z\", \"2016-04-01T00:00:00.000Z\", \"2016-07-01T00:00:00.000Z\", \"2016-10-01T00:00:00.000Z\"]}, {\"y\": [16.0, 28.0, 25.0, 27.0, 33.0, 46.0, 64.0, 70.0, 93.0, 108.0, 105.0, 109.0, 131.0, 147.0, 149.0, 191.0, 167.0, 176.0, 147.0, 181.0, 182.0, 172.0, 184.0, 221.0, 206.0, 177.0, 181.0, 193.0], \"type\": \"bar\", \"name\": \"Web Properties\", \"x\": [\"2010-01-01T00:00:00.000Z\", \"2010-04-01T00:00:00.000Z\", \"2010-07-01T00:00:00.000Z\", \"2010-10-01T00:00:00.000Z\", \"2011-01-01T00:00:00.000Z\", \"2011-04-01T00:00:00.000Z\", \"2011-07-01T00:00:00.000Z\", \"2011-10-01T00:00:00.000Z\", \"2012-01-01T00:00:00.000Z\", \"2012-04-01T00:00:00.000Z\", \"2012-07-01T00:00:00.000Z\", \"2012-10-01T00:00:00.000Z\", \"2013-01-01T00:00:00.000Z\", \"2013-04-01T00:00:00.000Z\", \"2013-07-01T00:00:00.000Z\", \"2013-10-01T00:00:00.000Z\", \"2014-01-01T00:00:00.000Z\", \"2014-04-01T00:00:00.000Z\", \"2014-07-01T00:00:00.000Z\", \"2014-10-01T00:00:00.000Z\", \"2015-01-01T00:00:00.000Z\", \"2015-04-01T00:00:00.000Z\", \"2015-07-01T00:00:00.000Z\", \"2015-10-01T00:00:00.000Z\", \"2016-01-01T00:00:00.000Z\", \"2016-04-01T00:00:00.000Z\", \"2016-07-01T00:00:00.000Z\", \"2016-10-01T00:00:00.000Z\"]}, {\"y\": [3.0, 17.0, 7.0, 10.0, 17.0, 19.0, 22.0, 52.0, 38.0, 47.0, 69.0, 87.0, 125.0, 154.0, 154.0, 201.0, 243.0, 275.0, 331.0, 419.0, 409.0, 273.0, 304.0, 336.0, 298.0, 360.0, 210.0], \"type\": \"bar\", \"name\": \"Rust\", \"x\": [\"2010-04-01T00:00:00.000Z\", \"2010-07-01T00:00:00.000Z\", \"2010-10-01T00:00:00.000Z\", \"2011-01-01T00:00:00.000Z\", \"2011-04-01T00:00:00.000Z\", \"2011-07-01T00:00:00.000Z\", \"2011-10-01T00:00:00.000Z\", \"2012-01-01T00:00:00.000Z\", \"2012-04-01T00:00:00.000Z\", \"2012-07-01T00:00:00.000Z\", \"2012-10-01T00:00:00.000Z\", \"2013-01-01T00:00:00.000Z\", \"2013-04-01T00:00:00.000Z\", \"2013-07-01T00:00:00.000Z\", \"2013-10-01T00:00:00.000Z\", \"2014-01-01T00:00:00.000Z\", \"2014-04-01T00:00:00.000Z\", \"2014-07-01T00:00:00.000Z\", \"2014-10-01T00:00:00.000Z\", \"2015-01-01T00:00:00.000Z\", \"2015-04-01T00:00:00.000Z\", \"2015-07-01T00:00:00.000Z\", \"2015-10-01T00:00:00.000Z\", \"2016-01-01T00:00:00.000Z\", \"2016-04-01T00:00:00.000Z\", \"2016-07-01T00:00:00.000Z\", \"2016-10-01T00:00:00.000Z\"]}, {\"y\": [15.0, 35.0, 32.0, 30.0, 38.0, 50.0, 51.0, 47.0, 57.0, 56.0, 50.0, 52.0, 59.0, 64.0, 80.0, 90.0, 75.0, 75.0, 81.0, 60.0, 64.0, 58.0, 84.0, 90.0, 114.0, 90.0, 115.0, 117.0], \"type\": \"bar\", \"name\": \"Addons/Web Extensions\", \"x\": [\"2010-01-01T00:00:00.000Z\", \"2010-04-01T00:00:00.000Z\", \"2010-07-01T00:00:00.000Z\", \"2010-10-01T00:00:00.000Z\", \"2011-01-01T00:00:00.000Z\", \"2011-04-01T00:00:00.000Z\", \"2011-07-01T00:00:00.000Z\", \"2011-10-01T00:00:00.000Z\", \"2012-01-01T00:00:00.000Z\", \"2012-04-01T00:00:00.000Z\", \"2012-07-01T00:00:00.000Z\", \"2012-10-01T00:00:00.000Z\", \"2013-01-01T00:00:00.000Z\", \"2013-04-01T00:00:00.000Z\", \"2013-07-01T00:00:00.000Z\", \"2013-10-01T00:00:00.000Z\", \"2014-01-01T00:00:00.000Z\", \"2014-04-01T00:00:00.000Z\", \"2014-07-01T00:00:00.000Z\", \"2014-10-01T00:00:00.000Z\", \"2015-01-01T00:00:00.000Z\", \"2015-04-01T00:00:00.000Z\", \"2015-07-01T00:00:00.000Z\", \"2015-10-01T00:00:00.000Z\", \"2016-01-01T00:00:00.000Z\", \"2016-04-01T00:00:00.000Z\", \"2016-07-01T00:00:00.000Z\", \"2016-10-01T00:00:00.000Z\"]}, {\"y\": [31.0, 28.0, 35.0, 36.0, 38.0, 41.0, 39.0, 39.0, 56.0, 58.0, 58.0, 47.0, 55.0, 74.0, 73.0, 75.0, 70.0, 105.0, 65.0, 145.0, 150.0, 135.0, 123.0, 150.0, 171.0, 177.0, 173.0, 162.0], \"type\": \"bar\", \"name\": \"Servo\", \"x\": [\"2010-01-01T00:00:00.000Z\", \"2010-04-01T00:00:00.000Z\", \"2010-07-01T00:00:00.000Z\", \"2010-10-01T00:00:00.000Z\", \"2011-01-01T00:00:00.000Z\", \"2011-04-01T00:00:00.000Z\", \"2011-07-01T00:00:00.000Z\", \"2011-10-01T00:00:00.000Z\", \"2012-01-01T00:00:00.000Z\", \"2012-04-01T00:00:00.000Z\", \"2012-07-01T00:00:00.000Z\", \"2012-10-01T00:00:00.000Z\", \"2013-01-01T00:00:00.000Z\", \"2013-04-01T00:00:00.000Z\", \"2013-07-01T00:00:00.000Z\", \"2013-10-01T00:00:00.000Z\", \"2014-01-01T00:00:00.000Z\", \"2014-04-01T00:00:00.000Z\", \"2014-07-01T00:00:00.000Z\", \"2014-10-01T00:00:00.000Z\", \"2015-01-01T00:00:00.000Z\", \"2015-04-01T00:00:00.000Z\", \"2015-07-01T00:00:00.000Z\", \"2015-10-01T00:00:00.000Z\", \"2016-01-01T00:00:00.000Z\", \"2016-04-01T00:00:00.000Z\", \"2016-07-01T00:00:00.000Z\", \"2016-10-01T00:00:00.000Z\"]}, {\"y\": [29.0, 30.0, 36.0, 32.0, 21.0, 26.0, 19.0, 30.0, 34.0, 33.0, 34.0, 29.0, 34.0, 35.0, 41.0, 41.0, 47.0, 46.0, 56.0, 58.0, 62.0, 56.0, 48.0, 24.0, 37.0, 24.0, 26.0, 21.0], \"type\": \"bar\", \"name\": \"Release engineering\", \"x\": [\"2010-01-01T00:00:00.000Z\", \"2010-04-01T00:00:00.000Z\", \"2010-07-01T00:00:00.000Z\", \"2010-10-01T00:00:00.000Z\", \"2011-01-01T00:00:00.000Z\", \"2011-04-01T00:00:00.000Z\", \"2011-07-01T00:00:00.000Z\", \"2011-10-01T00:00:00.000Z\", \"2012-01-01T00:00:00.000Z\", \"2012-04-01T00:00:00.000Z\", \"2012-07-01T00:00:00.000Z\", \"2012-10-01T00:00:00.000Z\", \"2013-01-01T00:00:00.000Z\", \"2013-04-01T00:00:00.000Z\", \"2013-07-01T00:00:00.000Z\", \"2013-10-01T00:00:00.000Z\", \"2014-01-01T00:00:00.000Z\", \"2014-04-01T00:00:00.000Z\", \"2014-07-01T00:00:00.000Z\", \"2014-10-01T00:00:00.000Z\", \"2015-01-01T00:00:00.000Z\", \"2015-04-01T00:00:00.000Z\", \"2015-07-01T00:00:00.000Z\", \"2015-10-01T00:00:00.000Z\", \"2016-01-01T00:00:00.000Z\", \"2016-04-01T00:00:00.000Z\", \"2016-07-01T00:00:00.000Z\", \"2016-10-01T00:00:00.000Z\"]}, {\"y\": [5.0, 10.0, 6.0, 17.0, 19.0, 8.0, 13.0, 11.0, 17.0, 10.0, 15.0, 17.0, 22.0, 21.0, 28.0, 32.0, 35.0, 43.0, 54.0, 34.0, 32.0, 24.0, 12.0, 11.0, 10.0, 8.0, 4.0], \"type\": \"bar\", \"name\": \"Web Literacy\", \"x\": [\"2010-04-01T00:00:00.000Z\", \"2010-07-01T00:00:00.000Z\", \"2010-10-01T00:00:00.000Z\", \"2011-01-01T00:00:00.000Z\", \"2011-04-01T00:00:00.000Z\", \"2011-07-01T00:00:00.000Z\", \"2011-10-01T00:00:00.000Z\", \"2012-01-01T00:00:00.000Z\", \"2012-04-01T00:00:00.000Z\", \"2012-07-01T00:00:00.000Z\", \"2012-10-01T00:00:00.000Z\", \"2013-01-01T00:00:00.000Z\", \"2013-04-01T00:00:00.000Z\", \"2013-07-01T00:00:00.000Z\", \"2013-10-01T00:00:00.000Z\", \"2014-01-01T00:00:00.000Z\", \"2014-04-01T00:00:00.000Z\", \"2014-07-01T00:00:00.000Z\", \"2014-10-01T00:00:00.000Z\", \"2015-01-01T00:00:00.000Z\", \"2015-04-01T00:00:00.000Z\", \"2015-07-01T00:00:00.000Z\", \"2015-10-01T00:00:00.000Z\", \"2016-01-01T00:00:00.000Z\", \"2016-04-01T00:00:00.000Z\", \"2016-07-01T00:00:00.000Z\", \"2016-10-01T00:00:00.000Z\"]}, {\"y\": [5.0, 5.0, 8.0, 5.0, 8.0, 11.0, 5.0, 13.0, 12.0, 37.0, 24.0, 42.0, 41.0, 56.0, 45.0, 38.0, 61.0, 52.0, 69.0, 75.0, 89.0, 50.0, 43.0, 49.0, 55.0, 53.0, 48.0, 57.0], \"type\": \"bar\", \"name\": \"Mozilla Local/Regional communities\", \"x\": [\"2010-01-01T00:00:00.000Z\", \"2010-04-01T00:00:00.000Z\", \"2010-07-01T00:00:00.000Z\", \"2010-10-01T00:00:00.000Z\", \"2011-01-01T00:00:00.000Z\", \"2011-04-01T00:00:00.000Z\", \"2011-07-01T00:00:00.000Z\", \"2011-10-01T00:00:00.000Z\", \"2012-01-01T00:00:00.000Z\", \"2012-04-01T00:00:00.000Z\", \"2012-07-01T00:00:00.000Z\", \"2012-10-01T00:00:00.000Z\", \"2013-01-01T00:00:00.000Z\", \"2013-04-01T00:00:00.000Z\", \"2013-07-01T00:00:00.000Z\", \"2013-10-01T00:00:00.000Z\", \"2014-01-01T00:00:00.000Z\", \"2014-04-01T00:00:00.000Z\", \"2014-07-01T00:00:00.000Z\", \"2014-10-01T00:00:00.000Z\", \"2015-01-01T00:00:00.000Z\", \"2015-04-01T00:00:00.000Z\", \"2015-07-01T00:00:00.000Z\", \"2015-10-01T00:00:00.000Z\", \"2016-01-01T00:00:00.000Z\", \"2016-04-01T00:00:00.000Z\", \"2016-07-01T00:00:00.000Z\", \"2016-10-01T00:00:00.000Z\"]}, {\"y\": [1.0, 9.0, 15.0, 15.0, 19.0, 15.0, 21.0, 33.0, 54.0, 51.0, 55.0, 63.0, 79.0, 52.0, 47.0, 36.0, 12.0, 5.0, 4.0, 1.0], \"type\": \"bar\", \"name\": \"Firefox OS (FxOS / B2G)\", \"x\": [\"2012-01-01T00:00:00.000Z\", \"2012-04-01T00:00:00.000Z\", \"2012-07-01T00:00:00.000Z\", \"2012-10-01T00:00:00.000Z\", \"2013-01-01T00:00:00.000Z\", \"2013-04-01T00:00:00.000Z\", \"2013-07-01T00:00:00.000Z\", \"2013-10-01T00:00:00.000Z\", \"2014-01-01T00:00:00.000Z\", \"2014-04-01T00:00:00.000Z\", \"2014-07-01T00:00:00.000Z\", \"2014-10-01T00:00:00.000Z\", \"2015-01-01T00:00:00.000Z\", \"2015-04-01T00:00:00.000Z\", \"2015-07-01T00:00:00.000Z\", \"2015-10-01T00:00:00.000Z\", \"2016-01-01T00:00:00.000Z\", \"2016-04-01T00:00:00.000Z\", \"2016-07-01T00:00:00.000Z\", \"2016-10-01T00:00:00.000Z\"]}, {\"y\": [4.0, 5.0, 9.0, 5.0, 12.0, 21.0, 45.0, 41.0, 45.0, 54.0], \"type\": \"bar\", \"name\": \"WebVR\", \"x\": [\"2014-07-01T00:00:00.000Z\", \"2014-10-01T00:00:00.000Z\", \"2015-01-01T00:00:00.000Z\", \"2015-04-01T00:00:00.000Z\", \"2015-07-01T00:00:00.000Z\", \"2015-10-01T00:00:00.000Z\", \"2016-01-01T00:00:00.000Z\", \"2016-04-01T00:00:00.000Z\", \"2016-07-01T00:00:00.000Z\", \"2016-10-01T00:00:00.000Z\"]}, {\"y\": [1.0, 1.0, 0.0, 1.0, 1.0, 0.0, 0.0, 0.0, 0.0, 0.0, 10.0, 23.0, 23.0, 26.0, 26.0, 22.0, 20.0, 16.0, 15.0], \"type\": \"bar\", \"name\": \"Firefox iOS\", \"x\": [\"2012-04-01T00:00:00.000Z\", \"2012-07-01T00:00:00.000Z\", \"2012-10-01T00:00:00.000Z\", \"2013-01-01T00:00:00.000Z\", \"2013-04-01T00:00:00.000Z\", \"2013-07-01T00:00:00.000Z\", \"2013-10-01T00:00:00.000Z\", \"2014-01-01T00:00:00.000Z\", \"2014-04-01T00:00:00.000Z\", \"2014-07-01T00:00:00.000Z\", \"2014-10-01T00:00:00.000Z\", \"2015-01-01T00:00:00.000Z\", \"2015-04-01T00:00:00.000Z\", \"2015-07-01T00:00:00.000Z\", \"2015-10-01T00:00:00.000Z\", \"2016-01-01T00:00:00.000Z\", \"2016-04-01T00:00:00.000Z\", \"2016-07-01T00:00:00.000Z\", \"2016-10-01T00:00:00.000Z\"]}, {\"y\": [7.0, 11.0, 11.0, 9.0, 9.0, 6.0, 9.0, 8.0, 9.0, 13.0, 10.0, 14.0, 14.0, 15.0, 18.0, 11.0, 8.0, 13.0, 14.0, 12.0, 6.0, 2.0, 2.0, 1.0], \"type\": \"bar\", \"name\": \"Quality Assurance\", \"x\": [\"2010-01-01T00:00:00.000Z\", \"2010-04-01T00:00:00.000Z\", \"2010-07-01T00:00:00.000Z\", \"2010-10-01T00:00:00.000Z\", \"2011-01-01T00:00:00.000Z\", \"2011-04-01T00:00:00.000Z\", \"2011-07-01T00:00:00.000Z\", \"2011-10-01T00:00:00.000Z\", \"2012-01-01T00:00:00.000Z\", \"2012-04-01T00:00:00.000Z\", \"2012-07-01T00:00:00.000Z\", \"2012-10-01T00:00:00.000Z\", \"2013-01-01T00:00:00.000Z\", \"2013-04-01T00:00:00.000Z\", \"2013-07-01T00:00:00.000Z\", \"2013-10-01T00:00:00.000Z\", \"2014-01-01T00:00:00.000Z\", \"2014-04-01T00:00:00.000Z\", \"2014-07-01T00:00:00.000Z\", \"2014-10-01T00:00:00.000Z\", \"2015-01-01T00:00:00.000Z\", \"2015-04-01T00:00:00.000Z\", \"2015-07-01T00:00:00.000Z\", \"2015-10-01T00:00:00.000Z\"]}, {\"y\": [2.0, 3.0, 2.0, 4.0, 12.0, 3.0, 15.0, 24.0, 25.0, 33.0, 25.0, 12.0, 17.0], \"type\": \"bar\", \"name\": \"Mozilla Science\", \"x\": [\"2013-10-01T00:00:00.000Z\", \"2014-01-01T00:00:00.000Z\", \"2014-04-01T00:00:00.000Z\", \"2014-07-01T00:00:00.000Z\", \"2014-10-01T00:00:00.000Z\", \"2015-01-01T00:00:00.000Z\", \"2015-04-01T00:00:00.000Z\", \"2015-07-01T00:00:00.000Z\", \"2015-10-01T00:00:00.000Z\", \"2016-01-01T00:00:00.000Z\", \"2016-04-01T00:00:00.000Z\", \"2016-07-01T00:00:00.000Z\", \"2016-10-01T00:00:00.000Z\"]}, {\"y\": [1.0, 3.0, 1.0, 5.0, 2.0, 6.0, 3.0, 4.0, 7.0, 8.0, 6.0, 8.0, 8.0, 15.0, 8.0, 17.0, 14.0, 20.0, 24.0, 25.0, 21.0, 26.0, 43.0], \"type\": \"bar\", \"name\": \"Mozilla Developer Network (MDN)\", \"x\": [\"2011-04-01T00:00:00.000Z\", \"2011-07-01T00:00:00.000Z\", \"2011-10-01T00:00:00.000Z\", \"2012-01-01T00:00:00.000Z\", \"2012-04-01T00:00:00.000Z\", \"2012-07-01T00:00:00.000Z\", \"2012-10-01T00:00:00.000Z\", \"2013-01-01T00:00:00.000Z\", \"2013-04-01T00:00:00.000Z\", \"2013-07-01T00:00:00.000Z\", \"2013-10-01T00:00:00.000Z\", \"2014-01-01T00:00:00.000Z\", \"2014-04-01T00:00:00.000Z\", \"2014-07-01T00:00:00.000Z\", \"2014-10-01T00:00:00.000Z\", \"2015-01-01T00:00:00.000Z\", \"2015-04-01T00:00:00.000Z\", \"2015-07-01T00:00:00.000Z\", \"2015-10-01T00:00:00.000Z\", \"2016-01-01T00:00:00.000Z\", \"2016-04-01T00:00:00.000Z\", \"2016-07-01T00:00:00.000Z\", \"2016-10-01T00:00:00.000Z\"]}, {\"y\": [4.0, 28.0, 42.0, 24.0, 19.0, 22.0, 13.0, 7.0, 6.0, 2.0, 1.0, 2.0, 1.0, 1.0], \"type\": \"bar\", \"name\": \"Mozilla Location Service (MLS) / Stumbler\", \"x\": [\"2013-07-01T00:00:00.000Z\", \"2013-10-01T00:00:00.000Z\", \"2014-01-01T00:00:00.000Z\", \"2014-04-01T00:00:00.000Z\", \"2014-07-01T00:00:00.000Z\", \"2014-10-01T00:00:00.000Z\", \"2015-01-01T00:00:00.000Z\", \"2015-04-01T00:00:00.000Z\", \"2015-07-01T00:00:00.000Z\", \"2015-10-01T00:00:00.000Z\", \"2016-01-01T00:00:00.000Z\", \"2016-04-01T00:00:00.000Z\", \"2016-07-01T00:00:00.000Z\", \"2016-10-01T00:00:00.000Z\"]}, {\"y\": [3.0, 2.0, 3.0, 3.0, 7.0, 8.0, 7.0, 13.0, 9.0, 10.0, 6.0, 9.0, 6.0, 8.0, 8.0, 8.0, 8.0, 7.0, 9.0, 6.0, 7.0, 7.0, 6.0, 9.0, 6.0, 7.0, 9.0], \"type\": \"bar\", \"name\": \"Marketing / Social Media\", \"x\": [\"2010-04-01T00:00:00.000Z\", \"2010-07-01T00:00:00.000Z\", \"2010-10-01T00:00:00.000Z\", \"2011-01-01T00:00:00.000Z\", \"2011-04-01T00:00:00.000Z\", \"2011-07-01T00:00:00.000Z\", \"2011-10-01T00:00:00.000Z\", \"2012-01-01T00:00:00.000Z\", \"2012-04-01T00:00:00.000Z\", \"2012-07-01T00:00:00.000Z\", \"2012-10-01T00:00:00.000Z\", \"2013-01-01T00:00:00.000Z\", \"2013-04-01T00:00:00.000Z\", \"2013-07-01T00:00:00.000Z\", \"2013-10-01T00:00:00.000Z\", \"2014-01-01T00:00:00.000Z\", \"2014-04-01T00:00:00.000Z\", \"2014-07-01T00:00:00.000Z\", \"2014-10-01T00:00:00.000Z\", \"2015-01-01T00:00:00.000Z\", \"2015-04-01T00:00:00.000Z\", \"2015-07-01T00:00:00.000Z\", \"2015-10-01T00:00:00.000Z\", \"2016-01-01T00:00:00.000Z\", \"2016-04-01T00:00:00.000Z\", \"2016-07-01T00:00:00.000Z\", \"2016-10-01T00:00:00.000Z\"]}, {\"y\": [1.0, 1.0, 2.0, 0.0, 0.0, 0.0, 0.0, 0.0, 0.0, 0.0, 0.0, 0.0, 0.0, 0.0, 4.0, 4.0, 7.0, 14.0, 12.0, 73.0], \"type\": \"bar\", \"name\": \"Test Pilot\", \"x\": [\"2012-01-01T00:00:00.000Z\", \"2012-04-01T00:00:00.000Z\", \"2012-07-01T00:00:00.000Z\", \"2012-10-01T00:00:00.000Z\", \"2013-01-01T00:00:00.000Z\", \"2013-04-01T00:00:00.000Z\", \"2013-07-01T00:00:00.000Z\", \"2013-10-01T00:00:00.000Z\", \"2014-01-01T00:00:00.000Z\", \"2014-04-01T00:00:00.000Z\", \"2014-07-01T00:00:00.000Z\", \"2014-10-01T00:00:00.000Z\", \"2015-01-01T00:00:00.000Z\", \"2015-04-01T00:00:00.000Z\", \"2015-07-01T00:00:00.000Z\", \"2015-10-01T00:00:00.000Z\", \"2016-01-01T00:00:00.000Z\", \"2016-04-01T00:00:00.000Z\", \"2016-07-01T00:00:00.000Z\", \"2016-10-01T00:00:00.000Z\"]}, {\"y\": [4.0, 2.0, 2.0, 1.0, 7.0, 6.0, 7.0, 3.0, 5.0, 18.0, 32.0, 19.0], \"type\": \"bar\", \"name\": \"Advocacy and policy\", \"x\": [\"2014-01-01T00:00:00.000Z\", \"2014-04-01T00:00:00.000Z\", \"2014-07-01T00:00:00.000Z\", \"2014-10-01T00:00:00.000Z\", \"2015-01-01T00:00:00.000Z\", \"2015-04-01T00:00:00.000Z\", \"2015-07-01T00:00:00.000Z\", \"2015-10-01T00:00:00.000Z\", \"2016-01-01T00:00:00.000Z\", \"2016-04-01T00:00:00.000Z\", \"2016-07-01T00:00:00.000Z\", \"2016-10-01T00:00:00.000Z\"]}, {\"y\": [1.0, 2.0, 2.0, 2.0, 4.0, 4.0, 5.0, 5.0, 5.0, 5.0, 6.0, 5.0, 5.0, 4.0, 5.0, 5.0, 5.0, 4.0, 7.0, 5.0, 5.0, 5.0, 5.0, 3.0, 5.0, 5.0, 3.0, 5.0], \"type\": \"bar\", \"name\": \"Localization\", \"x\": [\"2010-01-01T00:00:00.000Z\", \"2010-04-01T00:00:00.000Z\", \"2010-07-01T00:00:00.000Z\", \"2010-10-01T00:00:00.000Z\", \"2011-01-01T00:00:00.000Z\", \"2011-04-01T00:00:00.000Z\", \"2011-07-01T00:00:00.000Z\", \"2011-10-01T00:00:00.000Z\", \"2012-01-01T00:00:00.000Z\", \"2012-04-01T00:00:00.000Z\", \"2012-07-01T00:00:00.000Z\", \"2012-10-01T00:00:00.000Z\", \"2013-01-01T00:00:00.000Z\", \"2013-04-01T00:00:00.000Z\", \"2013-07-01T00:00:00.000Z\", \"2013-10-01T00:00:00.000Z\", \"2014-01-01T00:00:00.000Z\", \"2014-04-01T00:00:00.000Z\", \"2014-07-01T00:00:00.000Z\", \"2014-10-01T00:00:00.000Z\", \"2015-01-01T00:00:00.000Z\", \"2015-04-01T00:00:00.000Z\", \"2015-07-01T00:00:00.000Z\", \"2015-10-01T00:00:00.000Z\", \"2016-01-01T00:00:00.000Z\", \"2016-04-01T00:00:00.000Z\", \"2016-07-01T00:00:00.000Z\", \"2016-10-01T00:00:00.000Z\"]}, {\"y\": [14.0, 10.0, 4.0, 4.0, 20.0, 9.0, 9.0, 2.0, 10.0, 10.0, 6.0, 7.0, 11.0, 17.0, 15.0, 16.0, 8.0], \"type\": \"bar\", \"name\": \"Mozilla Foundation\", \"x\": [\"2012-10-01T00:00:00.000Z\", \"2013-01-01T00:00:00.000Z\", \"2013-04-01T00:00:00.000Z\", \"2013-07-01T00:00:00.000Z\", \"2013-10-01T00:00:00.000Z\", \"2014-01-01T00:00:00.000Z\", \"2014-04-01T00:00:00.000Z\", \"2014-07-01T00:00:00.000Z\", \"2014-10-01T00:00:00.000Z\", \"2015-01-01T00:00:00.000Z\", \"2015-04-01T00:00:00.000Z\", \"2015-07-01T00:00:00.000Z\", \"2015-10-01T00:00:00.000Z\", \"2016-01-01T00:00:00.000Z\", \"2016-04-01T00:00:00.000Z\", \"2016-07-01T00:00:00.000Z\", \"2016-10-01T00:00:00.000Z\"]}, {\"y\": [10.0, 15.0, 15.0, 10.0], \"type\": \"bar\", \"name\": \"Firefox\", \"x\": [\"2016-01-01T00:00:00.000Z\", \"2016-04-01T00:00:00.000Z\", \"2016-07-01T00:00:00.000Z\", \"2016-10-01T00:00:00.000Z\"]}, {\"y\": [2.0, 1.0, 1.0, 6.0, 0.0, 2.0, 1.0, 5.0, 3.0, 1.0, 2.0, 4.0, 3.0, 4.0, 3.0, 7.0, 5.0, 4.0], \"type\": \"bar\", \"name\": \"Technical/Developer Evangelism\", \"x\": [\"2012-07-01T00:00:00.000Z\", \"2012-10-01T00:00:00.000Z\", \"2013-01-01T00:00:00.000Z\", \"2013-04-01T00:00:00.000Z\", \"2013-07-01T00:00:00.000Z\", \"2013-10-01T00:00:00.000Z\", \"2014-01-01T00:00:00.000Z\", \"2014-04-01T00:00:00.000Z\", \"2014-07-01T00:00:00.000Z\", \"2014-10-01T00:00:00.000Z\", \"2015-01-01T00:00:00.000Z\", \"2015-04-01T00:00:00.000Z\", \"2015-07-01T00:00:00.000Z\", \"2015-10-01T00:00:00.000Z\", \"2016-01-01T00:00:00.000Z\", \"2016-04-01T00:00:00.000Z\", \"2016-07-01T00:00:00.000Z\", \"2016-10-01T00:00:00.000Z\"]}, {\"y\": [2.0, 2.0, 3.0, 2.0, 2.0, 3.0, 3.0, 2.0, 5.0, 4.0, 6.0, 8.0, 7.0, 7.0, 6.0, 9.0, 6.0, 2.0, 5.0, 9.0, 18.0, 22.0, 22.0], \"type\": \"bar\", \"name\": \"Not tracked\", \"x\": [\"2011-04-01T00:00:00.000Z\", \"2011-07-01T00:00:00.000Z\", \"2011-10-01T00:00:00.000Z\", \"2012-01-01T00:00:00.000Z\", \"2012-04-01T00:00:00.000Z\", \"2012-07-01T00:00:00.000Z\", \"2012-10-01T00:00:00.000Z\", \"2013-01-01T00:00:00.000Z\", \"2013-04-01T00:00:00.000Z\", \"2013-07-01T00:00:00.000Z\", \"2013-10-01T00:00:00.000Z\", \"2014-01-01T00:00:00.000Z\", \"2014-04-01T00:00:00.000Z\", \"2014-07-01T00:00:00.000Z\", \"2014-10-01T00:00:00.000Z\", \"2015-01-01T00:00:00.000Z\", \"2015-04-01T00:00:00.000Z\", \"2015-07-01T00:00:00.000Z\", \"2015-10-01T00:00:00.000Z\", \"2016-01-01T00:00:00.000Z\", \"2016-04-01T00:00:00.000Z\", \"2016-07-01T00:00:00.000Z\", \"2016-10-01T00:00:00.000Z\"]}, {\"y\": [6.0, 3.0, 2.0, 5.0, 6.0], \"type\": \"bar\", \"name\": \"Vaani\", \"x\": [\"2015-07-01T00:00:00.000Z\", \"2015-10-01T00:00:00.000Z\", \"2016-01-01T00:00:00.000Z\", \"2016-04-01T00:00:00.000Z\", \"2016-07-01T00:00:00.000Z\"]}, {\"y\": [1.0, 2.0, 3.0, 2.0, 0.0, 0.0, 0.0, 0.0, 0.0, 0.0, 0.0, 1.0, 1.0, 0.0, 0.0, 0.0, 0.0, 0.0, 3.0, 0.0, 0.0, 1.0], \"type\": \"bar\", \"name\": \"Developer Tools\", \"x\": [\"2010-10-01T00:00:00.000Z\", \"2011-01-01T00:00:00.000Z\", \"2011-04-01T00:00:00.000Z\", \"2011-07-01T00:00:00.000Z\", \"2011-10-01T00:00:00.000Z\", \"2012-01-01T00:00:00.000Z\", \"2012-04-01T00:00:00.000Z\", \"2012-07-01T00:00:00.000Z\", \"2012-10-01T00:00:00.000Z\", \"2013-01-01T00:00:00.000Z\", \"2013-04-01T00:00:00.000Z\", \"2013-07-01T00:00:00.000Z\", \"2013-10-01T00:00:00.000Z\", \"2014-01-01T00:00:00.000Z\", \"2014-04-01T00:00:00.000Z\", \"2014-07-01T00:00:00.000Z\", \"2014-10-01T00:00:00.000Z\", \"2015-01-01T00:00:00.000Z\", \"2015-04-01T00:00:00.000Z\", \"2015-07-01T00:00:00.000Z\", \"2015-10-01T00:00:00.000Z\", \"2016-01-01T00:00:00.000Z\"]}, {\"y\": [3.0, 4.0, 0.0, 2.0, 8.0], \"type\": \"bar\", \"name\": \"Firefox Focus\", \"x\": [\"2015-10-01T00:00:00.000Z\", \"2016-01-01T00:00:00.000Z\", \"2016-04-01T00:00:00.000Z\", \"2016-07-01T00:00:00.000Z\", \"2016-10-01T00:00:00.000Z\"]}, {\"y\": [1.0, 0.0, 0.0, 1.0, 5.0, 3.0, 4.0], \"type\": \"bar\", \"name\": \"Mozilla Clubs\", \"x\": [\"2014-10-01T00:00:00.000Z\", \"2015-01-01T00:00:00.000Z\", \"2015-04-01T00:00:00.000Z\", \"2015-07-01T00:00:00.000Z\", \"2015-10-01T00:00:00.000Z\", \"2016-01-01T00:00:00.000Z\", \"2016-04-01T00:00:00.000Z\"]}, {\"y\": [1.0, 4.0, 0.0, 3.0, 0.0, 0.0, 4.0, 2.0, 0.0, 2.0, 2.0, 1.0, 4.0, 10.0, 5.0, 2.0, 2.0], \"type\": \"bar\", \"name\": \"Mozilla Creative & Design\", \"x\": [\"2012-10-01T00:00:00.000Z\", \"2013-01-01T00:00:00.000Z\", \"2013-04-01T00:00:00.000Z\", \"2013-07-01T00:00:00.000Z\", \"2013-10-01T00:00:00.000Z\", \"2014-01-01T00:00:00.000Z\", \"2014-04-01T00:00:00.000Z\", \"2014-07-01T00:00:00.000Z\", \"2014-10-01T00:00:00.000Z\", \"2015-01-01T00:00:00.000Z\", \"2015-04-01T00:00:00.000Z\", \"2015-07-01T00:00:00.000Z\", \"2015-10-01T00:00:00.000Z\", \"2016-01-01T00:00:00.000Z\", \"2016-04-01T00:00:00.000Z\", \"2016-07-01T00:00:00.000Z\", \"2016-10-01T00:00:00.000Z\"]}, {\"y\": [3.0, 7.0], \"type\": \"bar\", \"name\": \"Deep Speech\", \"x\": [\"2016-07-01T00:00:00.000Z\", \"2016-10-01T00:00:00.000Z\"]}, {\"y\": [1.0, 0.0, 4.0, 6.0], \"type\": \"bar\", \"name\": \"Campus Clubs (previously Student Ambassadors)\", \"x\": [\"2016-01-01T00:00:00.000Z\", \"2016-04-01T00:00:00.000Z\", \"2016-07-01T00:00:00.000Z\", \"2016-10-01T00:00:00.000Z\"]}, {\"y\": [2.0, 1.0, 1.0, 3.0, 2.0, 3.0, 3.0, 2.0, 2.0, 2.0, 2.0, 2.0, 2.0, 2.0, 2.0, 2.0, 1.0, 2.0, 1.0, 1.0, 1.0, 2.0, 3.0, 2.0, 1.0, 2.0], \"type\": \"bar\", \"name\": \"Connected devices & IoT\", \"x\": [\"2010-07-01T00:00:00.000Z\", \"2010-10-01T00:00:00.000Z\", \"2011-01-01T00:00:00.000Z\", \"2011-04-01T00:00:00.000Z\", \"2011-07-01T00:00:00.000Z\", \"2011-10-01T00:00:00.000Z\", \"2012-01-01T00:00:00.000Z\", \"2012-04-01T00:00:00.000Z\", \"2012-07-01T00:00:00.000Z\", \"2012-10-01T00:00:00.000Z\", \"2013-01-01T00:00:00.000Z\", \"2013-04-01T00:00:00.000Z\", \"2013-07-01T00:00:00.000Z\", \"2013-10-01T00:00:00.000Z\", \"2014-01-01T00:00:00.000Z\", \"2014-04-01T00:00:00.000Z\", \"2014-07-01T00:00:00.000Z\", \"2014-10-01T00:00:00.000Z\", \"2015-01-01T00:00:00.000Z\", \"2015-04-01T00:00:00.000Z\", \"2015-07-01T00:00:00.000Z\", \"2015-10-01T00:00:00.000Z\", \"2016-01-01T00:00:00.000Z\", \"2016-04-01T00:00:00.000Z\", \"2016-07-01T00:00:00.000Z\", \"2016-10-01T00:00:00.000Z\"]}, {\"y\": [2.0, 1.0, 0.0, 1.0, 0.0, 1.0], \"type\": \"bar\", \"name\": \"Firefox Android\", \"x\": [\"2014-07-01T00:00:00.000Z\", \"2014-10-01T00:00:00.000Z\", \"2015-01-01T00:00:00.000Z\", \"2015-04-01T00:00:00.000Z\", \"2015-07-01T00:00:00.000Z\", \"2015-10-01T00:00:00.000Z\"]}], {\"barmode\": \"stack\"}, {\"linkText\": \"Export to plot.ly\", \"showLink\": true})});</script>"
      ],
      "text/vnd.plotly.v1+html": [
       "<div id=\"c1d2199d-d54c-4676-bc7f-9570800346c1\" style=\"height: 525px; width: 100%;\" class=\"plotly-graph-div\"></div><script type=\"text/javascript\">require([\"plotly\"], function(Plotly) { window.PLOTLYENV=window.PLOTLYENV || {};window.PLOTLYENV.BASE_URL=\"https://plot.ly\";Plotly.newPlot(\"c1d2199d-d54c-4676-bc7f-9570800346c1\", [{\"y\": [304.0, 325.0, 348.0, 311.0, 330.0, 357.0, 380.0, 392.0, 440.0, 457.0, 502.0, 499.0, 529.0, 609.0, 592.0, 626.0, 684.0, 693.0, 696.0, 699.0, 717.0, 696.0, 667.0, 687.0, 739.0, 713.0, 703.0, 625.0], \"type\": \"bar\", \"name\": \"Gecko\", \"x\": [\"2010-01-01T00:00:00.000Z\", \"2010-04-01T00:00:00.000Z\", \"2010-07-01T00:00:00.000Z\", \"2010-10-01T00:00:00.000Z\", \"2011-01-01T00:00:00.000Z\", \"2011-04-01T00:00:00.000Z\", \"2011-07-01T00:00:00.000Z\", \"2011-10-01T00:00:00.000Z\", \"2012-01-01T00:00:00.000Z\", \"2012-04-01T00:00:00.000Z\", \"2012-07-01T00:00:00.000Z\", \"2012-10-01T00:00:00.000Z\", \"2013-01-01T00:00:00.000Z\", \"2013-04-01T00:00:00.000Z\", \"2013-07-01T00:00:00.000Z\", \"2013-10-01T00:00:00.000Z\", \"2014-01-01T00:00:00.000Z\", \"2014-04-01T00:00:00.000Z\", \"2014-07-01T00:00:00.000Z\", \"2014-10-01T00:00:00.000Z\", \"2015-01-01T00:00:00.000Z\", \"2015-04-01T00:00:00.000Z\", \"2015-07-01T00:00:00.000Z\", \"2015-10-01T00:00:00.000Z\", \"2016-01-01T00:00:00.000Z\", \"2016-04-01T00:00:00.000Z\", \"2016-07-01T00:00:00.000Z\", \"2016-10-01T00:00:00.000Z\"]}, {\"y\": [258.0, 281.0, 315.0, 262.0, 299.0, 313.0, 326.0, 349.0, 401.0, 414.0, 387.0, 19.0, 23.0, 43.0, 47.0, 35.0, 61.0, 75.0, 62.0, 93.0, 92.0, 82.0, 92.0, 109.0, 122.0, 98.0, 89.0, 107.0], \"type\": \"bar\", \"name\": \"IT/Ops\", \"x\": [\"2010-01-01T00:00:00.000Z\", \"2010-04-01T00:00:00.000Z\", \"2010-07-01T00:00:00.000Z\", \"2010-10-01T00:00:00.000Z\", \"2011-01-01T00:00:00.000Z\", \"2011-04-01T00:00:00.000Z\", \"2011-07-01T00:00:00.000Z\", \"2011-10-01T00:00:00.000Z\", \"2012-01-01T00:00:00.000Z\", \"2012-04-01T00:00:00.000Z\", \"2012-07-01T00:00:00.000Z\", \"2012-10-01T00:00:00.000Z\", \"2013-01-01T00:00:00.000Z\", \"2013-04-01T00:00:00.000Z\", \"2013-07-01T00:00:00.000Z\", \"2013-10-01T00:00:00.000Z\", \"2014-01-01T00:00:00.000Z\", \"2014-04-01T00:00:00.000Z\", \"2014-07-01T00:00:00.000Z\", \"2014-10-01T00:00:00.000Z\", \"2015-01-01T00:00:00.000Z\", \"2015-04-01T00:00:00.000Z\", \"2015-07-01T00:00:00.000Z\", \"2015-10-01T00:00:00.000Z\", \"2016-01-01T00:00:00.000Z\", \"2016-04-01T00:00:00.000Z\", \"2016-07-01T00:00:00.000Z\", \"2016-10-01T00:00:00.000Z\"]}, {\"y\": [16.0, 28.0, 25.0, 27.0, 33.0, 46.0, 64.0, 70.0, 93.0, 108.0, 105.0, 109.0, 131.0, 147.0, 149.0, 191.0, 167.0, 176.0, 147.0, 181.0, 182.0, 172.0, 184.0, 221.0, 206.0, 177.0, 181.0, 193.0], \"type\": \"bar\", \"name\": \"Web Properties\", \"x\": [\"2010-01-01T00:00:00.000Z\", \"2010-04-01T00:00:00.000Z\", \"2010-07-01T00:00:00.000Z\", \"2010-10-01T00:00:00.000Z\", \"2011-01-01T00:00:00.000Z\", \"2011-04-01T00:00:00.000Z\", \"2011-07-01T00:00:00.000Z\", \"2011-10-01T00:00:00.000Z\", \"2012-01-01T00:00:00.000Z\", \"2012-04-01T00:00:00.000Z\", \"2012-07-01T00:00:00.000Z\", \"2012-10-01T00:00:00.000Z\", \"2013-01-01T00:00:00.000Z\", \"2013-04-01T00:00:00.000Z\", \"2013-07-01T00:00:00.000Z\", \"2013-10-01T00:00:00.000Z\", \"2014-01-01T00:00:00.000Z\", \"2014-04-01T00:00:00.000Z\", \"2014-07-01T00:00:00.000Z\", \"2014-10-01T00:00:00.000Z\", \"2015-01-01T00:00:00.000Z\", \"2015-04-01T00:00:00.000Z\", \"2015-07-01T00:00:00.000Z\", \"2015-10-01T00:00:00.000Z\", \"2016-01-01T00:00:00.000Z\", \"2016-04-01T00:00:00.000Z\", \"2016-07-01T00:00:00.000Z\", \"2016-10-01T00:00:00.000Z\"]}, {\"y\": [3.0, 17.0, 7.0, 10.0, 17.0, 19.0, 22.0, 52.0, 38.0, 47.0, 69.0, 87.0, 125.0, 154.0, 154.0, 201.0, 243.0, 275.0, 331.0, 419.0, 409.0, 273.0, 304.0, 336.0, 298.0, 360.0, 210.0], \"type\": \"bar\", \"name\": \"Rust\", \"x\": [\"2010-04-01T00:00:00.000Z\", \"2010-07-01T00:00:00.000Z\", \"2010-10-01T00:00:00.000Z\", \"2011-01-01T00:00:00.000Z\", \"2011-04-01T00:00:00.000Z\", \"2011-07-01T00:00:00.000Z\", \"2011-10-01T00:00:00.000Z\", \"2012-01-01T00:00:00.000Z\", \"2012-04-01T00:00:00.000Z\", \"2012-07-01T00:00:00.000Z\", \"2012-10-01T00:00:00.000Z\", \"2013-01-01T00:00:00.000Z\", \"2013-04-01T00:00:00.000Z\", \"2013-07-01T00:00:00.000Z\", \"2013-10-01T00:00:00.000Z\", \"2014-01-01T00:00:00.000Z\", \"2014-04-01T00:00:00.000Z\", \"2014-07-01T00:00:00.000Z\", \"2014-10-01T00:00:00.000Z\", \"2015-01-01T00:00:00.000Z\", \"2015-04-01T00:00:00.000Z\", \"2015-07-01T00:00:00.000Z\", \"2015-10-01T00:00:00.000Z\", \"2016-01-01T00:00:00.000Z\", \"2016-04-01T00:00:00.000Z\", \"2016-07-01T00:00:00.000Z\", \"2016-10-01T00:00:00.000Z\"]}, {\"y\": [15.0, 35.0, 32.0, 30.0, 38.0, 50.0, 51.0, 47.0, 57.0, 56.0, 50.0, 52.0, 59.0, 64.0, 80.0, 90.0, 75.0, 75.0, 81.0, 60.0, 64.0, 58.0, 84.0, 90.0, 114.0, 90.0, 115.0, 117.0], \"type\": \"bar\", \"name\": \"Addons/Web Extensions\", \"x\": [\"2010-01-01T00:00:00.000Z\", \"2010-04-01T00:00:00.000Z\", \"2010-07-01T00:00:00.000Z\", \"2010-10-01T00:00:00.000Z\", \"2011-01-01T00:00:00.000Z\", \"2011-04-01T00:00:00.000Z\", \"2011-07-01T00:00:00.000Z\", \"2011-10-01T00:00:00.000Z\", \"2012-01-01T00:00:00.000Z\", \"2012-04-01T00:00:00.000Z\", \"2012-07-01T00:00:00.000Z\", \"2012-10-01T00:00:00.000Z\", \"2013-01-01T00:00:00.000Z\", \"2013-04-01T00:00:00.000Z\", \"2013-07-01T00:00:00.000Z\", \"2013-10-01T00:00:00.000Z\", \"2014-01-01T00:00:00.000Z\", \"2014-04-01T00:00:00.000Z\", \"2014-07-01T00:00:00.000Z\", \"2014-10-01T00:00:00.000Z\", \"2015-01-01T00:00:00.000Z\", \"2015-04-01T00:00:00.000Z\", \"2015-07-01T00:00:00.000Z\", \"2015-10-01T00:00:00.000Z\", \"2016-01-01T00:00:00.000Z\", \"2016-04-01T00:00:00.000Z\", \"2016-07-01T00:00:00.000Z\", \"2016-10-01T00:00:00.000Z\"]}, {\"y\": [31.0, 28.0, 35.0, 36.0, 38.0, 41.0, 39.0, 39.0, 56.0, 58.0, 58.0, 47.0, 55.0, 74.0, 73.0, 75.0, 70.0, 105.0, 65.0, 145.0, 150.0, 135.0, 123.0, 150.0, 171.0, 177.0, 173.0, 162.0], \"type\": \"bar\", \"name\": \"Servo\", \"x\": [\"2010-01-01T00:00:00.000Z\", \"2010-04-01T00:00:00.000Z\", \"2010-07-01T00:00:00.000Z\", \"2010-10-01T00:00:00.000Z\", \"2011-01-01T00:00:00.000Z\", \"2011-04-01T00:00:00.000Z\", \"2011-07-01T00:00:00.000Z\", \"2011-10-01T00:00:00.000Z\", \"2012-01-01T00:00:00.000Z\", \"2012-04-01T00:00:00.000Z\", \"2012-07-01T00:00:00.000Z\", \"2012-10-01T00:00:00.000Z\", \"2013-01-01T00:00:00.000Z\", \"2013-04-01T00:00:00.000Z\", \"2013-07-01T00:00:00.000Z\", \"2013-10-01T00:00:00.000Z\", \"2014-01-01T00:00:00.000Z\", \"2014-04-01T00:00:00.000Z\", \"2014-07-01T00:00:00.000Z\", \"2014-10-01T00:00:00.000Z\", \"2015-01-01T00:00:00.000Z\", \"2015-04-01T00:00:00.000Z\", \"2015-07-01T00:00:00.000Z\", \"2015-10-01T00:00:00.000Z\", \"2016-01-01T00:00:00.000Z\", \"2016-04-01T00:00:00.000Z\", \"2016-07-01T00:00:00.000Z\", \"2016-10-01T00:00:00.000Z\"]}, {\"y\": [29.0, 30.0, 36.0, 32.0, 21.0, 26.0, 19.0, 30.0, 34.0, 33.0, 34.0, 29.0, 34.0, 35.0, 41.0, 41.0, 47.0, 46.0, 56.0, 58.0, 62.0, 56.0, 48.0, 24.0, 37.0, 24.0, 26.0, 21.0], \"type\": \"bar\", \"name\": \"Release engineering\", \"x\": [\"2010-01-01T00:00:00.000Z\", \"2010-04-01T00:00:00.000Z\", \"2010-07-01T00:00:00.000Z\", \"2010-10-01T00:00:00.000Z\", \"2011-01-01T00:00:00.000Z\", \"2011-04-01T00:00:00.000Z\", \"2011-07-01T00:00:00.000Z\", \"2011-10-01T00:00:00.000Z\", \"2012-01-01T00:00:00.000Z\", \"2012-04-01T00:00:00.000Z\", \"2012-07-01T00:00:00.000Z\", \"2012-10-01T00:00:00.000Z\", \"2013-01-01T00:00:00.000Z\", \"2013-04-01T00:00:00.000Z\", \"2013-07-01T00:00:00.000Z\", \"2013-10-01T00:00:00.000Z\", \"2014-01-01T00:00:00.000Z\", \"2014-04-01T00:00:00.000Z\", \"2014-07-01T00:00:00.000Z\", \"2014-10-01T00:00:00.000Z\", \"2015-01-01T00:00:00.000Z\", \"2015-04-01T00:00:00.000Z\", \"2015-07-01T00:00:00.000Z\", \"2015-10-01T00:00:00.000Z\", \"2016-01-01T00:00:00.000Z\", \"2016-04-01T00:00:00.000Z\", \"2016-07-01T00:00:00.000Z\", \"2016-10-01T00:00:00.000Z\"]}, {\"y\": [5.0, 10.0, 6.0, 17.0, 19.0, 8.0, 13.0, 11.0, 17.0, 10.0, 15.0, 17.0, 22.0, 21.0, 28.0, 32.0, 35.0, 43.0, 54.0, 34.0, 32.0, 24.0, 12.0, 11.0, 10.0, 8.0, 4.0], \"type\": \"bar\", \"name\": \"Web Literacy\", \"x\": [\"2010-04-01T00:00:00.000Z\", \"2010-07-01T00:00:00.000Z\", \"2010-10-01T00:00:00.000Z\", \"2011-01-01T00:00:00.000Z\", \"2011-04-01T00:00:00.000Z\", \"2011-07-01T00:00:00.000Z\", \"2011-10-01T00:00:00.000Z\", \"2012-01-01T00:00:00.000Z\", \"2012-04-01T00:00:00.000Z\", \"2012-07-01T00:00:00.000Z\", \"2012-10-01T00:00:00.000Z\", \"2013-01-01T00:00:00.000Z\", \"2013-04-01T00:00:00.000Z\", \"2013-07-01T00:00:00.000Z\", \"2013-10-01T00:00:00.000Z\", \"2014-01-01T00:00:00.000Z\", \"2014-04-01T00:00:00.000Z\", \"2014-07-01T00:00:00.000Z\", \"2014-10-01T00:00:00.000Z\", \"2015-01-01T00:00:00.000Z\", \"2015-04-01T00:00:00.000Z\", \"2015-07-01T00:00:00.000Z\", \"2015-10-01T00:00:00.000Z\", \"2016-01-01T00:00:00.000Z\", \"2016-04-01T00:00:00.000Z\", \"2016-07-01T00:00:00.000Z\", \"2016-10-01T00:00:00.000Z\"]}, {\"y\": [5.0, 5.0, 8.0, 5.0, 8.0, 11.0, 5.0, 13.0, 12.0, 37.0, 24.0, 42.0, 41.0, 56.0, 45.0, 38.0, 61.0, 52.0, 69.0, 75.0, 89.0, 50.0, 43.0, 49.0, 55.0, 53.0, 48.0, 57.0], \"type\": \"bar\", \"name\": \"Mozilla Local/Regional communities\", \"x\": [\"2010-01-01T00:00:00.000Z\", \"2010-04-01T00:00:00.000Z\", \"2010-07-01T00:00:00.000Z\", \"2010-10-01T00:00:00.000Z\", \"2011-01-01T00:00:00.000Z\", \"2011-04-01T00:00:00.000Z\", \"2011-07-01T00:00:00.000Z\", \"2011-10-01T00:00:00.000Z\", \"2012-01-01T00:00:00.000Z\", \"2012-04-01T00:00:00.000Z\", \"2012-07-01T00:00:00.000Z\", \"2012-10-01T00:00:00.000Z\", \"2013-01-01T00:00:00.000Z\", \"2013-04-01T00:00:00.000Z\", \"2013-07-01T00:00:00.000Z\", \"2013-10-01T00:00:00.000Z\", \"2014-01-01T00:00:00.000Z\", \"2014-04-01T00:00:00.000Z\", \"2014-07-01T00:00:00.000Z\", \"2014-10-01T00:00:00.000Z\", \"2015-01-01T00:00:00.000Z\", \"2015-04-01T00:00:00.000Z\", \"2015-07-01T00:00:00.000Z\", \"2015-10-01T00:00:00.000Z\", \"2016-01-01T00:00:00.000Z\", \"2016-04-01T00:00:00.000Z\", \"2016-07-01T00:00:00.000Z\", \"2016-10-01T00:00:00.000Z\"]}, {\"y\": [1.0, 9.0, 15.0, 15.0, 19.0, 15.0, 21.0, 33.0, 54.0, 51.0, 55.0, 63.0, 79.0, 52.0, 47.0, 36.0, 12.0, 5.0, 4.0, 1.0], \"type\": \"bar\", \"name\": \"Firefox OS (FxOS / B2G)\", \"x\": [\"2012-01-01T00:00:00.000Z\", \"2012-04-01T00:00:00.000Z\", \"2012-07-01T00:00:00.000Z\", \"2012-10-01T00:00:00.000Z\", \"2013-01-01T00:00:00.000Z\", \"2013-04-01T00:00:00.000Z\", \"2013-07-01T00:00:00.000Z\", \"2013-10-01T00:00:00.000Z\", \"2014-01-01T00:00:00.000Z\", \"2014-04-01T00:00:00.000Z\", \"2014-07-01T00:00:00.000Z\", \"2014-10-01T00:00:00.000Z\", \"2015-01-01T00:00:00.000Z\", \"2015-04-01T00:00:00.000Z\", \"2015-07-01T00:00:00.000Z\", \"2015-10-01T00:00:00.000Z\", \"2016-01-01T00:00:00.000Z\", \"2016-04-01T00:00:00.000Z\", \"2016-07-01T00:00:00.000Z\", \"2016-10-01T00:00:00.000Z\"]}, {\"y\": [4.0, 5.0, 9.0, 5.0, 12.0, 21.0, 45.0, 41.0, 45.0, 54.0], \"type\": \"bar\", \"name\": \"WebVR\", \"x\": [\"2014-07-01T00:00:00.000Z\", \"2014-10-01T00:00:00.000Z\", \"2015-01-01T00:00:00.000Z\", \"2015-04-01T00:00:00.000Z\", \"2015-07-01T00:00:00.000Z\", \"2015-10-01T00:00:00.000Z\", \"2016-01-01T00:00:00.000Z\", \"2016-04-01T00:00:00.000Z\", \"2016-07-01T00:00:00.000Z\", \"2016-10-01T00:00:00.000Z\"]}, {\"y\": [1.0, 1.0, 0.0, 1.0, 1.0, 0.0, 0.0, 0.0, 0.0, 0.0, 10.0, 23.0, 23.0, 26.0, 26.0, 22.0, 20.0, 16.0, 15.0], \"type\": \"bar\", \"name\": \"Firefox iOS\", \"x\": [\"2012-04-01T00:00:00.000Z\", \"2012-07-01T00:00:00.000Z\", \"2012-10-01T00:00:00.000Z\", \"2013-01-01T00:00:00.000Z\", \"2013-04-01T00:00:00.000Z\", \"2013-07-01T00:00:00.000Z\", \"2013-10-01T00:00:00.000Z\", \"2014-01-01T00:00:00.000Z\", \"2014-04-01T00:00:00.000Z\", \"2014-07-01T00:00:00.000Z\", \"2014-10-01T00:00:00.000Z\", \"2015-01-01T00:00:00.000Z\", \"2015-04-01T00:00:00.000Z\", \"2015-07-01T00:00:00.000Z\", \"2015-10-01T00:00:00.000Z\", \"2016-01-01T00:00:00.000Z\", \"2016-04-01T00:00:00.000Z\", \"2016-07-01T00:00:00.000Z\", \"2016-10-01T00:00:00.000Z\"]}, {\"y\": [7.0, 11.0, 11.0, 9.0, 9.0, 6.0, 9.0, 8.0, 9.0, 13.0, 10.0, 14.0, 14.0, 15.0, 18.0, 11.0, 8.0, 13.0, 14.0, 12.0, 6.0, 2.0, 2.0, 1.0], \"type\": \"bar\", \"name\": \"Quality Assurance\", \"x\": [\"2010-01-01T00:00:00.000Z\", \"2010-04-01T00:00:00.000Z\", \"2010-07-01T00:00:00.000Z\", \"2010-10-01T00:00:00.000Z\", \"2011-01-01T00:00:00.000Z\", \"2011-04-01T00:00:00.000Z\", \"2011-07-01T00:00:00.000Z\", \"2011-10-01T00:00:00.000Z\", \"2012-01-01T00:00:00.000Z\", \"2012-04-01T00:00:00.000Z\", \"2012-07-01T00:00:00.000Z\", \"2012-10-01T00:00:00.000Z\", \"2013-01-01T00:00:00.000Z\", \"2013-04-01T00:00:00.000Z\", \"2013-07-01T00:00:00.000Z\", \"2013-10-01T00:00:00.000Z\", \"2014-01-01T00:00:00.000Z\", \"2014-04-01T00:00:00.000Z\", \"2014-07-01T00:00:00.000Z\", \"2014-10-01T00:00:00.000Z\", \"2015-01-01T00:00:00.000Z\", \"2015-04-01T00:00:00.000Z\", \"2015-07-01T00:00:00.000Z\", \"2015-10-01T00:00:00.000Z\"]}, {\"y\": [2.0, 3.0, 2.0, 4.0, 12.0, 3.0, 15.0, 24.0, 25.0, 33.0, 25.0, 12.0, 17.0], \"type\": \"bar\", \"name\": \"Mozilla Science\", \"x\": [\"2013-10-01T00:00:00.000Z\", \"2014-01-01T00:00:00.000Z\", \"2014-04-01T00:00:00.000Z\", \"2014-07-01T00:00:00.000Z\", \"2014-10-01T00:00:00.000Z\", \"2015-01-01T00:00:00.000Z\", \"2015-04-01T00:00:00.000Z\", \"2015-07-01T00:00:00.000Z\", \"2015-10-01T00:00:00.000Z\", \"2016-01-01T00:00:00.000Z\", \"2016-04-01T00:00:00.000Z\", \"2016-07-01T00:00:00.000Z\", \"2016-10-01T00:00:00.000Z\"]}, {\"y\": [1.0, 3.0, 1.0, 5.0, 2.0, 6.0, 3.0, 4.0, 7.0, 8.0, 6.0, 8.0, 8.0, 15.0, 8.0, 17.0, 14.0, 20.0, 24.0, 25.0, 21.0, 26.0, 43.0], \"type\": \"bar\", \"name\": \"Mozilla Developer Network (MDN)\", \"x\": [\"2011-04-01T00:00:00.000Z\", \"2011-07-01T00:00:00.000Z\", \"2011-10-01T00:00:00.000Z\", \"2012-01-01T00:00:00.000Z\", \"2012-04-01T00:00:00.000Z\", \"2012-07-01T00:00:00.000Z\", \"2012-10-01T00:00:00.000Z\", \"2013-01-01T00:00:00.000Z\", \"2013-04-01T00:00:00.000Z\", \"2013-07-01T00:00:00.000Z\", \"2013-10-01T00:00:00.000Z\", \"2014-01-01T00:00:00.000Z\", \"2014-04-01T00:00:00.000Z\", \"2014-07-01T00:00:00.000Z\", \"2014-10-01T00:00:00.000Z\", \"2015-01-01T00:00:00.000Z\", \"2015-04-01T00:00:00.000Z\", \"2015-07-01T00:00:00.000Z\", \"2015-10-01T00:00:00.000Z\", \"2016-01-01T00:00:00.000Z\", \"2016-04-01T00:00:00.000Z\", \"2016-07-01T00:00:00.000Z\", \"2016-10-01T00:00:00.000Z\"]}, {\"y\": [4.0, 28.0, 42.0, 24.0, 19.0, 22.0, 13.0, 7.0, 6.0, 2.0, 1.0, 2.0, 1.0, 1.0], \"type\": \"bar\", \"name\": \"Mozilla Location Service (MLS) / Stumbler\", \"x\": [\"2013-07-01T00:00:00.000Z\", \"2013-10-01T00:00:00.000Z\", \"2014-01-01T00:00:00.000Z\", \"2014-04-01T00:00:00.000Z\", \"2014-07-01T00:00:00.000Z\", \"2014-10-01T00:00:00.000Z\", \"2015-01-01T00:00:00.000Z\", \"2015-04-01T00:00:00.000Z\", \"2015-07-01T00:00:00.000Z\", \"2015-10-01T00:00:00.000Z\", \"2016-01-01T00:00:00.000Z\", \"2016-04-01T00:00:00.000Z\", \"2016-07-01T00:00:00.000Z\", \"2016-10-01T00:00:00.000Z\"]}, {\"y\": [3.0, 2.0, 3.0, 3.0, 7.0, 8.0, 7.0, 13.0, 9.0, 10.0, 6.0, 9.0, 6.0, 8.0, 8.0, 8.0, 8.0, 7.0, 9.0, 6.0, 7.0, 7.0, 6.0, 9.0, 6.0, 7.0, 9.0], \"type\": \"bar\", \"name\": \"Marketing / Social Media\", \"x\": [\"2010-04-01T00:00:00.000Z\", \"2010-07-01T00:00:00.000Z\", \"2010-10-01T00:00:00.000Z\", \"2011-01-01T00:00:00.000Z\", \"2011-04-01T00:00:00.000Z\", \"2011-07-01T00:00:00.000Z\", \"2011-10-01T00:00:00.000Z\", \"2012-01-01T00:00:00.000Z\", \"2012-04-01T00:00:00.000Z\", \"2012-07-01T00:00:00.000Z\", \"2012-10-01T00:00:00.000Z\", \"2013-01-01T00:00:00.000Z\", \"2013-04-01T00:00:00.000Z\", \"2013-07-01T00:00:00.000Z\", \"2013-10-01T00:00:00.000Z\", \"2014-01-01T00:00:00.000Z\", \"2014-04-01T00:00:00.000Z\", \"2014-07-01T00:00:00.000Z\", \"2014-10-01T00:00:00.000Z\", \"2015-01-01T00:00:00.000Z\", \"2015-04-01T00:00:00.000Z\", \"2015-07-01T00:00:00.000Z\", \"2015-10-01T00:00:00.000Z\", \"2016-01-01T00:00:00.000Z\", \"2016-04-01T00:00:00.000Z\", \"2016-07-01T00:00:00.000Z\", \"2016-10-01T00:00:00.000Z\"]}, {\"y\": [1.0, 1.0, 2.0, 0.0, 0.0, 0.0, 0.0, 0.0, 0.0, 0.0, 0.0, 0.0, 0.0, 0.0, 4.0, 4.0, 7.0, 14.0, 12.0, 73.0], \"type\": \"bar\", \"name\": \"Test Pilot\", \"x\": [\"2012-01-01T00:00:00.000Z\", \"2012-04-01T00:00:00.000Z\", \"2012-07-01T00:00:00.000Z\", \"2012-10-01T00:00:00.000Z\", \"2013-01-01T00:00:00.000Z\", \"2013-04-01T00:00:00.000Z\", \"2013-07-01T00:00:00.000Z\", \"2013-10-01T00:00:00.000Z\", \"2014-01-01T00:00:00.000Z\", \"2014-04-01T00:00:00.000Z\", \"2014-07-01T00:00:00.000Z\", \"2014-10-01T00:00:00.000Z\", \"2015-01-01T00:00:00.000Z\", \"2015-04-01T00:00:00.000Z\", \"2015-07-01T00:00:00.000Z\", \"2015-10-01T00:00:00.000Z\", \"2016-01-01T00:00:00.000Z\", \"2016-04-01T00:00:00.000Z\", \"2016-07-01T00:00:00.000Z\", \"2016-10-01T00:00:00.000Z\"]}, {\"y\": [4.0, 2.0, 2.0, 1.0, 7.0, 6.0, 7.0, 3.0, 5.0, 18.0, 32.0, 19.0], \"type\": \"bar\", \"name\": \"Advocacy and policy\", \"x\": [\"2014-01-01T00:00:00.000Z\", \"2014-04-01T00:00:00.000Z\", \"2014-07-01T00:00:00.000Z\", \"2014-10-01T00:00:00.000Z\", \"2015-01-01T00:00:00.000Z\", \"2015-04-01T00:00:00.000Z\", \"2015-07-01T00:00:00.000Z\", \"2015-10-01T00:00:00.000Z\", \"2016-01-01T00:00:00.000Z\", \"2016-04-01T00:00:00.000Z\", \"2016-07-01T00:00:00.000Z\", \"2016-10-01T00:00:00.000Z\"]}, {\"y\": [1.0, 2.0, 2.0, 2.0, 4.0, 4.0, 5.0, 5.0, 5.0, 5.0, 6.0, 5.0, 5.0, 4.0, 5.0, 5.0, 5.0, 4.0, 7.0, 5.0, 5.0, 5.0, 5.0, 3.0, 5.0, 5.0, 3.0, 5.0], \"type\": \"bar\", \"name\": \"Localization\", \"x\": [\"2010-01-01T00:00:00.000Z\", \"2010-04-01T00:00:00.000Z\", \"2010-07-01T00:00:00.000Z\", \"2010-10-01T00:00:00.000Z\", \"2011-01-01T00:00:00.000Z\", \"2011-04-01T00:00:00.000Z\", \"2011-07-01T00:00:00.000Z\", \"2011-10-01T00:00:00.000Z\", \"2012-01-01T00:00:00.000Z\", \"2012-04-01T00:00:00.000Z\", \"2012-07-01T00:00:00.000Z\", \"2012-10-01T00:00:00.000Z\", \"2013-01-01T00:00:00.000Z\", \"2013-04-01T00:00:00.000Z\", \"2013-07-01T00:00:00.000Z\", \"2013-10-01T00:00:00.000Z\", \"2014-01-01T00:00:00.000Z\", \"2014-04-01T00:00:00.000Z\", \"2014-07-01T00:00:00.000Z\", \"2014-10-01T00:00:00.000Z\", \"2015-01-01T00:00:00.000Z\", \"2015-04-01T00:00:00.000Z\", \"2015-07-01T00:00:00.000Z\", \"2015-10-01T00:00:00.000Z\", \"2016-01-01T00:00:00.000Z\", \"2016-04-01T00:00:00.000Z\", \"2016-07-01T00:00:00.000Z\", \"2016-10-01T00:00:00.000Z\"]}, {\"y\": [14.0, 10.0, 4.0, 4.0, 20.0, 9.0, 9.0, 2.0, 10.0, 10.0, 6.0, 7.0, 11.0, 17.0, 15.0, 16.0, 8.0], \"type\": \"bar\", \"name\": \"Mozilla Foundation\", \"x\": [\"2012-10-01T00:00:00.000Z\", \"2013-01-01T00:00:00.000Z\", \"2013-04-01T00:00:00.000Z\", \"2013-07-01T00:00:00.000Z\", \"2013-10-01T00:00:00.000Z\", \"2014-01-01T00:00:00.000Z\", \"2014-04-01T00:00:00.000Z\", \"2014-07-01T00:00:00.000Z\", \"2014-10-01T00:00:00.000Z\", \"2015-01-01T00:00:00.000Z\", \"2015-04-01T00:00:00.000Z\", \"2015-07-01T00:00:00.000Z\", \"2015-10-01T00:00:00.000Z\", \"2016-01-01T00:00:00.000Z\", \"2016-04-01T00:00:00.000Z\", \"2016-07-01T00:00:00.000Z\", \"2016-10-01T00:00:00.000Z\"]}, {\"y\": [10.0, 15.0, 15.0, 10.0], \"type\": \"bar\", \"name\": \"Firefox\", \"x\": [\"2016-01-01T00:00:00.000Z\", \"2016-04-01T00:00:00.000Z\", \"2016-07-01T00:00:00.000Z\", \"2016-10-01T00:00:00.000Z\"]}, {\"y\": [2.0, 1.0, 1.0, 6.0, 0.0, 2.0, 1.0, 5.0, 3.0, 1.0, 2.0, 4.0, 3.0, 4.0, 3.0, 7.0, 5.0, 4.0], \"type\": \"bar\", \"name\": \"Technical/Developer Evangelism\", \"x\": [\"2012-07-01T00:00:00.000Z\", \"2012-10-01T00:00:00.000Z\", \"2013-01-01T00:00:00.000Z\", \"2013-04-01T00:00:00.000Z\", \"2013-07-01T00:00:00.000Z\", \"2013-10-01T00:00:00.000Z\", \"2014-01-01T00:00:00.000Z\", \"2014-04-01T00:00:00.000Z\", \"2014-07-01T00:00:00.000Z\", \"2014-10-01T00:00:00.000Z\", \"2015-01-01T00:00:00.000Z\", \"2015-04-01T00:00:00.000Z\", \"2015-07-01T00:00:00.000Z\", \"2015-10-01T00:00:00.000Z\", \"2016-01-01T00:00:00.000Z\", \"2016-04-01T00:00:00.000Z\", \"2016-07-01T00:00:00.000Z\", \"2016-10-01T00:00:00.000Z\"]}, {\"y\": [2.0, 2.0, 3.0, 2.0, 2.0, 3.0, 3.0, 2.0, 5.0, 4.0, 6.0, 8.0, 7.0, 7.0, 6.0, 9.0, 6.0, 2.0, 5.0, 9.0, 18.0, 22.0, 22.0], \"type\": \"bar\", \"name\": \"Not tracked\", \"x\": [\"2011-04-01T00:00:00.000Z\", \"2011-07-01T00:00:00.000Z\", \"2011-10-01T00:00:00.000Z\", \"2012-01-01T00:00:00.000Z\", \"2012-04-01T00:00:00.000Z\", \"2012-07-01T00:00:00.000Z\", \"2012-10-01T00:00:00.000Z\", \"2013-01-01T00:00:00.000Z\", \"2013-04-01T00:00:00.000Z\", \"2013-07-01T00:00:00.000Z\", \"2013-10-01T00:00:00.000Z\", \"2014-01-01T00:00:00.000Z\", \"2014-04-01T00:00:00.000Z\", \"2014-07-01T00:00:00.000Z\", \"2014-10-01T00:00:00.000Z\", \"2015-01-01T00:00:00.000Z\", \"2015-04-01T00:00:00.000Z\", \"2015-07-01T00:00:00.000Z\", \"2015-10-01T00:00:00.000Z\", \"2016-01-01T00:00:00.000Z\", \"2016-04-01T00:00:00.000Z\", \"2016-07-01T00:00:00.000Z\", \"2016-10-01T00:00:00.000Z\"]}, {\"y\": [6.0, 3.0, 2.0, 5.0, 6.0], \"type\": \"bar\", \"name\": \"Vaani\", \"x\": [\"2015-07-01T00:00:00.000Z\", \"2015-10-01T00:00:00.000Z\", \"2016-01-01T00:00:00.000Z\", \"2016-04-01T00:00:00.000Z\", \"2016-07-01T00:00:00.000Z\"]}, {\"y\": [1.0, 2.0, 3.0, 2.0, 0.0, 0.0, 0.0, 0.0, 0.0, 0.0, 0.0, 1.0, 1.0, 0.0, 0.0, 0.0, 0.0, 0.0, 3.0, 0.0, 0.0, 1.0], \"type\": \"bar\", \"name\": \"Developer Tools\", \"x\": [\"2010-10-01T00:00:00.000Z\", \"2011-01-01T00:00:00.000Z\", \"2011-04-01T00:00:00.000Z\", \"2011-07-01T00:00:00.000Z\", \"2011-10-01T00:00:00.000Z\", \"2012-01-01T00:00:00.000Z\", \"2012-04-01T00:00:00.000Z\", \"2012-07-01T00:00:00.000Z\", \"2012-10-01T00:00:00.000Z\", \"2013-01-01T00:00:00.000Z\", \"2013-04-01T00:00:00.000Z\", \"2013-07-01T00:00:00.000Z\", \"2013-10-01T00:00:00.000Z\", \"2014-01-01T00:00:00.000Z\", \"2014-04-01T00:00:00.000Z\", \"2014-07-01T00:00:00.000Z\", \"2014-10-01T00:00:00.000Z\", \"2015-01-01T00:00:00.000Z\", \"2015-04-01T00:00:00.000Z\", \"2015-07-01T00:00:00.000Z\", \"2015-10-01T00:00:00.000Z\", \"2016-01-01T00:00:00.000Z\"]}, {\"y\": [3.0, 4.0, 0.0, 2.0, 8.0], \"type\": \"bar\", \"name\": \"Firefox Focus\", \"x\": [\"2015-10-01T00:00:00.000Z\", \"2016-01-01T00:00:00.000Z\", \"2016-04-01T00:00:00.000Z\", \"2016-07-01T00:00:00.000Z\", \"2016-10-01T00:00:00.000Z\"]}, {\"y\": [1.0, 0.0, 0.0, 1.0, 5.0, 3.0, 4.0], \"type\": \"bar\", \"name\": \"Mozilla Clubs\", \"x\": [\"2014-10-01T00:00:00.000Z\", \"2015-01-01T00:00:00.000Z\", \"2015-04-01T00:00:00.000Z\", \"2015-07-01T00:00:00.000Z\", \"2015-10-01T00:00:00.000Z\", \"2016-01-01T00:00:00.000Z\", \"2016-04-01T00:00:00.000Z\"]}, {\"y\": [1.0, 4.0, 0.0, 3.0, 0.0, 0.0, 4.0, 2.0, 0.0, 2.0, 2.0, 1.0, 4.0, 10.0, 5.0, 2.0, 2.0], \"type\": \"bar\", \"name\": \"Mozilla Creative & Design\", \"x\": [\"2012-10-01T00:00:00.000Z\", \"2013-01-01T00:00:00.000Z\", \"2013-04-01T00:00:00.000Z\", \"2013-07-01T00:00:00.000Z\", \"2013-10-01T00:00:00.000Z\", \"2014-01-01T00:00:00.000Z\", \"2014-04-01T00:00:00.000Z\", \"2014-07-01T00:00:00.000Z\", \"2014-10-01T00:00:00.000Z\", \"2015-01-01T00:00:00.000Z\", \"2015-04-01T00:00:00.000Z\", \"2015-07-01T00:00:00.000Z\", \"2015-10-01T00:00:00.000Z\", \"2016-01-01T00:00:00.000Z\", \"2016-04-01T00:00:00.000Z\", \"2016-07-01T00:00:00.000Z\", \"2016-10-01T00:00:00.000Z\"]}, {\"y\": [3.0, 7.0], \"type\": \"bar\", \"name\": \"Deep Speech\", \"x\": [\"2016-07-01T00:00:00.000Z\", \"2016-10-01T00:00:00.000Z\"]}, {\"y\": [1.0, 0.0, 4.0, 6.0], \"type\": \"bar\", \"name\": \"Campus Clubs (previously Student Ambassadors)\", \"x\": [\"2016-01-01T00:00:00.000Z\", \"2016-04-01T00:00:00.000Z\", \"2016-07-01T00:00:00.000Z\", \"2016-10-01T00:00:00.000Z\"]}, {\"y\": [2.0, 1.0, 1.0, 3.0, 2.0, 3.0, 3.0, 2.0, 2.0, 2.0, 2.0, 2.0, 2.0, 2.0, 2.0, 2.0, 1.0, 2.0, 1.0, 1.0, 1.0, 2.0, 3.0, 2.0, 1.0, 2.0], \"type\": \"bar\", \"name\": \"Connected devices & IoT\", \"x\": [\"2010-07-01T00:00:00.000Z\", \"2010-10-01T00:00:00.000Z\", \"2011-01-01T00:00:00.000Z\", \"2011-04-01T00:00:00.000Z\", \"2011-07-01T00:00:00.000Z\", \"2011-10-01T00:00:00.000Z\", \"2012-01-01T00:00:00.000Z\", \"2012-04-01T00:00:00.000Z\", \"2012-07-01T00:00:00.000Z\", \"2012-10-01T00:00:00.000Z\", \"2013-01-01T00:00:00.000Z\", \"2013-04-01T00:00:00.000Z\", \"2013-07-01T00:00:00.000Z\", \"2013-10-01T00:00:00.000Z\", \"2014-01-01T00:00:00.000Z\", \"2014-04-01T00:00:00.000Z\", \"2014-07-01T00:00:00.000Z\", \"2014-10-01T00:00:00.000Z\", \"2015-01-01T00:00:00.000Z\", \"2015-04-01T00:00:00.000Z\", \"2015-07-01T00:00:00.000Z\", \"2015-10-01T00:00:00.000Z\", \"2016-01-01T00:00:00.000Z\", \"2016-04-01T00:00:00.000Z\", \"2016-07-01T00:00:00.000Z\", \"2016-10-01T00:00:00.000Z\"]}, {\"y\": [2.0, 1.0, 0.0, 1.0, 0.0, 1.0], \"type\": \"bar\", \"name\": \"Firefox Android\", \"x\": [\"2014-07-01T00:00:00.000Z\", \"2014-10-01T00:00:00.000Z\", \"2015-01-01T00:00:00.000Z\", \"2015-04-01T00:00:00.000Z\", \"2015-07-01T00:00:00.000Z\", \"2015-10-01T00:00:00.000Z\"]}], {\"barmode\": \"stack\"}, {\"linkText\": \"Export to plot.ly\", \"showLink\": true})});</script>"
      ]
     },
     "metadata": {},
     "output_type": "display_data"
    }
   ],
   "source": [
    "s = ut.create_search(es_conn, 'git')\n",
    "\n",
    "# Unique count of Commits by Project (max 100 projects)\n",
    "s = s.filter('range', grimoire_creation_date={'gte': initial_date, 'lt': 'now/y'})\n",
    "s.aggs.bucket('projects', 'terms', field='project', size=100000)\\\n",
    "    .bucket('time', 'date_histogram', field='grimoire_creation_date', interval='quarter')\\\n",
    "    .metric('authors', 'cardinality', field='author_uuid', precision_threshold=1000000)\n",
    "\n",
    "result = s.execute()\n",
    "\n",
    "projects_evo_df = ut.stack_by(result=result, group_column='Project', subgroup_column='Time', value_column='Authors',\n",
    "                 group_field='projects', subgroup_field='time', value_field='authors')\n",
    "\n",
    "# Remove 'Unknown' project entries\n",
    "projects_evo_df = projects_evo_df.loc[projects_evo_df['Project'] != 'Unknown']\n",
    "\n",
    "# Plot it\n",
    "ut.print_stacked_bar(df=projects_evo_df, time_column='Time', value_column='Authors', group_column='Project')"
   ]
  },
  {
   "cell_type": "markdown",
   "metadata": {},
   "source": [
    "**Git authors over time using Spreadsheet Data**"
   ]
  },
  {
   "cell_type": "markdown",
   "metadata": {},
   "source": [
    "## Authors by Project over Time: Bugzilla\n",
    "\n",
    "### TODO: enrich index with project information"
   ]
  },
  {
   "cell_type": "code",
   "execution_count": 23,
   "metadata": {
    "collapsed": false
   },
   "outputs": [
    {
     "name": "stdout",
     "output_type": "stream",
     "text": [
      "q1\n",
      "10000, 20000, 30000, 40000, 50000, 60000, 70000, 80000, 90000, 100000, 110000, 120000, 130000, 140000, 150000, 160000, 170000, 180000, 190000, 200000, 210000, 220000, 230000, 240000, 250000, 260000, 270000, 280000, 290000, 300000, 310000, "
     ]
    },
    {
     "data": {
      "text/html": [
       "<script>requirejs.config({paths: { 'plotly': ['https://cdn.plot.ly/plotly-latest.min']},});if(!window.Plotly) {{require(['plotly'],function(plotly) {window.Plotly=plotly;});}}</script>"
      ],
      "text/vnd.plotly.v1+html": [
       "<script>requirejs.config({paths: { 'plotly': ['https://cdn.plot.ly/plotly-latest.min']},});if(!window.Plotly) {{require(['plotly'],function(plotly) {window.Plotly=plotly;});}}</script>"
      ]
     },
     "metadata": {},
     "output_type": "display_data"
    },
    {
     "data": {
      "application/vnd.plotly.v1+json": {
       "data": [
        {
         "name": "Firefox",
         "type": "bar",
         "x": [
          "2011-01-01T00:00:00.000Z",
          "2010-07-01T00:00:00.000Z",
          "2010-01-01T00:00:00.000Z",
          "2010-10-01T00:00:00.000Z",
          "2011-04-01T00:00:00.000Z",
          "2010-04-01T00:00:00.000Z",
          "2012-01-01T00:00:00.000Z",
          "2014-10-01T00:00:00.000Z",
          "2014-04-01T00:00:00.000Z",
          "2011-07-01T00:00:00.000Z",
          "2012-04-01T00:00:00.000Z",
          "2011-10-01T00:00:00.000Z",
          "2015-01-01T00:00:00.000Z",
          "2013-04-01T00:00:00.000Z",
          "2013-01-01T00:00:00.000Z",
          "2014-07-01T00:00:00.000Z",
          "2012-10-01T00:00:00.000Z",
          "2015-07-01T00:00:00.000Z",
          "2012-07-01T00:00:00.000Z",
          "2013-10-01T00:00:00.000Z",
          "2014-01-01T00:00:00.000Z",
          "2013-07-01T00:00:00.000Z",
          "2015-04-01T00:00:00.000Z",
          "2015-10-01T00:00:00.000Z",
          "2016-01-01T00:00:00.000Z",
          "2016-04-01T00:00:00.000Z",
          "2016-07-01T00:00:00.000Z",
          "2016-10-01T00:00:00.000Z"
         ],
         "y": [
          2878,
          2795,
          2683,
          2070,
          1995,
          1961,
          1583,
          1554,
          1553,
          1544,
          1512,
          1469,
          1443,
          1431,
          1421,
          1402,
          1334,
          1332,
          1308,
          1267,
          1259,
          1250,
          1244,
          1021,
          1010,
          928,
          895,
          854
         ]
        },
        {
         "name": "Gecko",
         "type": "bar",
         "x": [
          "2014-10-01T00:00:00.000Z",
          "2015-07-01T00:00:00.000Z",
          "2016-01-01T00:00:00.000Z",
          "2015-10-01T00:00:00.000Z",
          "2015-04-01T00:00:00.000Z",
          "2014-07-01T00:00:00.000Z",
          "2016-04-01T00:00:00.000Z",
          "2014-04-01T00:00:00.000Z",
          "2015-01-01T00:00:00.000Z",
          "2011-01-01T00:00:00.000Z",
          "2013-07-01T00:00:00.000Z",
          "2013-10-01T00:00:00.000Z",
          "2013-04-01T00:00:00.000Z",
          "2016-07-01T00:00:00.000Z",
          "2010-07-01T00:00:00.000Z",
          "2013-01-01T00:00:00.000Z",
          "2014-01-01T00:00:00.000Z",
          "2016-10-01T00:00:00.000Z",
          "2012-07-01T00:00:00.000Z",
          "2011-04-01T00:00:00.000Z",
          "2012-10-01T00:00:00.000Z",
          "2010-10-01T00:00:00.000Z",
          "2012-01-01T00:00:00.000Z",
          "2012-04-01T00:00:00.000Z",
          "2010-01-01T00:00:00.000Z",
          "2011-07-01T00:00:00.000Z",
          "2011-10-01T00:00:00.000Z",
          "2010-04-01T00:00:00.000Z"
         ],
         "y": [
          1832,
          1813,
          1794,
          1699,
          1683,
          1677,
          1671,
          1668,
          1621,
          1613,
          1580,
          1568,
          1555,
          1548,
          1546,
          1522,
          1516,
          1507,
          1443,
          1387,
          1384,
          1383,
          1377,
          1366,
          1300,
          1241,
          1185,
          1165
         ]
        },
        {
         "name": "Thunderbird",
         "type": "bar",
         "x": [
          "2010-01-01T00:00:00.000Z",
          "2010-07-01T00:00:00.000Z",
          "2010-04-01T00:00:00.000Z",
          "2010-10-01T00:00:00.000Z",
          "2011-07-01T00:00:00.000Z",
          "2012-04-01T00:00:00.000Z",
          "2012-01-01T00:00:00.000Z",
          "2012-10-01T00:00:00.000Z",
          "2011-10-01T00:00:00.000Z",
          "2012-07-01T00:00:00.000Z",
          "2011-01-01T00:00:00.000Z",
          "2015-07-01T00:00:00.000Z",
          "2011-04-01T00:00:00.000Z",
          "2014-07-01T00:00:00.000Z",
          "2016-04-01T00:00:00.000Z",
          "2013-10-01T00:00:00.000Z",
          "2013-01-01T00:00:00.000Z",
          "2015-04-01T00:00:00.000Z",
          "2014-10-01T00:00:00.000Z",
          "2013-07-01T00:00:00.000Z",
          "2015-01-01T00:00:00.000Z",
          "2013-04-01T00:00:00.000Z",
          "2014-01-01T00:00:00.000Z",
          "2015-10-01T00:00:00.000Z",
          "2014-04-01T00:00:00.000Z",
          "2016-01-01T00:00:00.000Z",
          "2016-07-01T00:00:00.000Z",
          "2016-10-01T00:00:00.000Z"
         ],
         "y": [
          1303,
          999,
          918,
          733,
          677,
          636,
          624,
          577,
          569,
          562,
          560,
          545,
          526,
          497,
          475,
          465,
          414,
          411,
          408,
          401,
          394,
          393,
          356,
          345,
          344,
          338,
          330,
          262
         ]
        },
        {
         "name": "Firefox OS (FxOS / B2G)",
         "type": "bar",
         "x": [
          "2014-07-01T00:00:00.000Z",
          "2014-04-01T00:00:00.000Z",
          "2014-10-01T00:00:00.000Z",
          "2014-01-01T00:00:00.000Z",
          "2013-10-01T00:00:00.000Z",
          "2013-07-01T00:00:00.000Z",
          "2015-01-01T00:00:00.000Z",
          "2013-04-01T00:00:00.000Z",
          "2015-04-01T00:00:00.000Z",
          "2015-07-01T00:00:00.000Z",
          "2015-10-01T00:00:00.000Z",
          "2013-01-01T00:00:00.000Z",
          "2012-10-01T00:00:00.000Z",
          "2016-01-01T00:00:00.000Z",
          "2012-07-01T00:00:00.000Z",
          "2012-04-01T00:00:00.000Z",
          "2016-04-01T00:00:00.000Z",
          "2012-01-01T00:00:00.000Z",
          "2016-07-01T00:00:00.000Z",
          "2011-10-01T00:00:00.000Z",
          "2016-10-01T00:00:00.000Z",
          "2011-07-01T00:00:00.000Z"
         ],
         "y": [
          834,
          789,
          728,
          668,
          667,
          626,
          578,
          558,
          524,
          494,
          484,
          452,
          415,
          234,
          191,
          129,
          67,
          42,
          39,
          11,
          11,
          2
         ]
        },
        {
         "name": "IT/Ops",
         "type": "bar",
         "x": [
          "2015-07-01T00:00:00.000Z",
          "2014-04-01T00:00:00.000Z",
          "2014-01-01T00:00:00.000Z",
          "2013-07-01T00:00:00.000Z",
          "2014-07-01T00:00:00.000Z",
          "2015-01-01T00:00:00.000Z",
          "2012-04-01T00:00:00.000Z",
          "2013-10-01T00:00:00.000Z",
          "2016-04-01T00:00:00.000Z",
          "2015-04-01T00:00:00.000Z",
          "2013-04-01T00:00:00.000Z",
          "2014-10-01T00:00:00.000Z",
          "2012-07-01T00:00:00.000Z",
          "2012-10-01T00:00:00.000Z",
          "2013-01-01T00:00:00.000Z",
          "2015-10-01T00:00:00.000Z",
          "2016-01-01T00:00:00.000Z",
          "2012-01-01T00:00:00.000Z",
          "2016-07-01T00:00:00.000Z",
          "2016-10-01T00:00:00.000Z",
          "2011-10-01T00:00:00.000Z",
          "2011-07-01T00:00:00.000Z",
          "2011-04-01T00:00:00.000Z",
          "2010-07-01T00:00:00.000Z",
          "2011-01-01T00:00:00.000Z",
          "2010-04-01T00:00:00.000Z",
          "2010-10-01T00:00:00.000Z",
          "2010-01-01T00:00:00.000Z"
         ],
         "y": [
          522,
          506,
          494,
          491,
          478,
          478,
          464,
          460,
          452,
          447,
          446,
          445,
          436,
          435,
          434,
          426,
          415,
          392,
          376,
          346,
          332,
          329,
          327,
          264,
          253,
          224,
          203,
          182
         ]
        },
        {
         "name": "Web Properties",
         "type": "bar",
         "x": [
          "2014-04-01T00:00:00.000Z",
          "2014-01-01T00:00:00.000Z",
          "2013-04-01T00:00:00.000Z",
          "2012-01-01T00:00:00.000Z",
          "2011-07-01T00:00:00.000Z",
          "2011-04-01T00:00:00.000Z",
          "2011-01-01T00:00:00.000Z",
          "2011-10-01T00:00:00.000Z",
          "2014-10-01T00:00:00.000Z",
          "2013-07-01T00:00:00.000Z",
          "2012-04-01T00:00:00.000Z",
          "2014-07-01T00:00:00.000Z",
          "2013-10-01T00:00:00.000Z",
          "2013-01-01T00:00:00.000Z",
          "2012-07-01T00:00:00.000Z",
          "2010-07-01T00:00:00.000Z",
          "2010-04-01T00:00:00.000Z",
          "2010-01-01T00:00:00.000Z",
          "2010-10-01T00:00:00.000Z",
          "2012-10-01T00:00:00.000Z",
          "2015-01-01T00:00:00.000Z",
          "2015-07-01T00:00:00.000Z",
          "2015-10-01T00:00:00.000Z",
          "2015-04-01T00:00:00.000Z",
          "2016-01-01T00:00:00.000Z",
          "2016-04-01T00:00:00.000Z",
          "2016-07-01T00:00:00.000Z",
          "2016-10-01T00:00:00.000Z"
         ],
         "y": [
          481,
          456,
          440,
          440,
          437,
          419,
          416,
          413,
          411,
          409,
          408,
          407,
          406,
          382,
          380,
          369,
          355,
          337,
          334,
          333,
          331,
          312,
          300,
          298,
          275,
          242,
          223,
          186
         ]
        },
        {
         "name": "Firefox Android",
         "type": "bar",
         "x": [
          "2012-04-01T00:00:00.000Z",
          "2012-07-01T00:00:00.000Z",
          "2013-01-01T00:00:00.000Z",
          "2012-10-01T00:00:00.000Z",
          "2013-07-01T00:00:00.000Z",
          "2013-10-01T00:00:00.000Z",
          "2013-04-01T00:00:00.000Z",
          "2014-10-01T00:00:00.000Z",
          "2014-07-01T00:00:00.000Z",
          "2014-04-01T00:00:00.000Z",
          "2014-01-01T00:00:00.000Z",
          "2015-01-01T00:00:00.000Z",
          "2011-10-01T00:00:00.000Z",
          "2012-01-01T00:00:00.000Z",
          "2015-10-01T00:00:00.000Z",
          "2015-07-01T00:00:00.000Z",
          "2016-01-01T00:00:00.000Z",
          "2016-07-01T00:00:00.000Z",
          "2016-10-01T00:00:00.000Z",
          "2016-04-01T00:00:00.000Z",
          "2011-07-01T00:00:00.000Z",
          "2015-04-01T00:00:00.000Z",
          "2010-10-01T00:00:00.000Z",
          "2011-01-01T00:00:00.000Z",
          "2010-07-01T00:00:00.000Z",
          "2011-04-01T00:00:00.000Z",
          "2010-04-01T00:00:00.000Z",
          "2010-01-01T00:00:00.000Z"
         ],
         "y": [
          338,
          292,
          271,
          264,
          255,
          254,
          251,
          248,
          243,
          232,
          224,
          220,
          218,
          217,
          210,
          209,
          202,
          200,
          196,
          193,
          186,
          177,
          143,
          131,
          101,
          97,
          86,
          74
         ]
        },
        {
         "name": "Mozilla Developer Network (MDN)",
         "type": "bar",
         "x": [
          "2013-10-01T00:00:00.000Z",
          "2016-01-01T00:00:00.000Z",
          "2016-07-01T00:00:00.000Z",
          "2012-07-01T00:00:00.000Z",
          "2016-04-01T00:00:00.000Z",
          "2015-10-01T00:00:00.000Z",
          "2016-10-01T00:00:00.000Z",
          "2013-04-01T00:00:00.000Z",
          "2014-01-01T00:00:00.000Z",
          "2015-07-01T00:00:00.000Z",
          "2012-10-01T00:00:00.000Z",
          "2014-04-01T00:00:00.000Z",
          "2013-01-01T00:00:00.000Z",
          "2014-07-01T00:00:00.000Z",
          "2015-01-01T00:00:00.000Z",
          "2013-07-01T00:00:00.000Z",
          "2015-04-01T00:00:00.000Z",
          "2014-10-01T00:00:00.000Z",
          "2012-01-01T00:00:00.000Z",
          "2012-04-01T00:00:00.000Z",
          "2011-10-01T00:00:00.000Z",
          "2011-04-01T00:00:00.000Z",
          "2011-07-01T00:00:00.000Z",
          "2010-10-01T00:00:00.000Z",
          "2011-01-01T00:00:00.000Z",
          "2010-07-01T00:00:00.000Z",
          "2010-04-01T00:00:00.000Z",
          "2010-01-01T00:00:00.000Z"
         ],
         "y": [
          208,
          194,
          173,
          169,
          168,
          138,
          134,
          126,
          126,
          121,
          115,
          113,
          109,
          107,
          107,
          105,
          99,
          79,
          72,
          61,
          60,
          57,
          45,
          43,
          41,
          32,
          18,
          18
         ]
        },
        {
         "name": "Developer Tools",
         "type": "bar",
         "x": [
          "2015-01-01T00:00:00.000Z",
          "2014-10-01T00:00:00.000Z",
          "2014-07-01T00:00:00.000Z",
          "2015-04-01T00:00:00.000Z",
          "2016-01-01T00:00:00.000Z",
          "2014-04-01T00:00:00.000Z",
          "2016-10-01T00:00:00.000Z",
          "2014-01-01T00:00:00.000Z",
          "2015-07-01T00:00:00.000Z",
          "2013-10-01T00:00:00.000Z",
          "2016-04-01T00:00:00.000Z",
          "2016-07-01T00:00:00.000Z",
          "2015-10-01T00:00:00.000Z",
          "2013-07-01T00:00:00.000Z",
          "2013-04-01T00:00:00.000Z",
          "2013-01-01T00:00:00.000Z",
          "2012-04-01T00:00:00.000Z",
          "2012-07-01T00:00:00.000Z",
          "2012-10-01T00:00:00.000Z",
          "2012-01-01T00:00:00.000Z",
          "2011-10-01T00:00:00.000Z",
          "2011-07-01T00:00:00.000Z",
          "2011-01-01T00:00:00.000Z",
          "2011-04-01T00:00:00.000Z",
          "2010-07-01T00:00:00.000Z",
          "2010-10-01T00:00:00.000Z",
          "2010-04-01T00:00:00.000Z",
          "2010-01-01T00:00:00.000Z"
         ],
         "y": [
          206,
          199,
          199,
          195,
          185,
          180,
          179,
          179,
          165,
          164,
          156,
          151,
          144,
          138,
          131,
          106,
          85,
          81,
          78,
          77,
          49,
          22,
          20,
          19,
          15,
          11,
          2,
          1
         ]
        },
        {
         "name": "Quality Assurance",
         "type": "bar",
         "x": [
          "2014-07-01T00:00:00.000Z",
          "2014-04-01T00:00:00.000Z",
          "2014-10-01T00:00:00.000Z",
          "2014-01-01T00:00:00.000Z",
          "2016-01-01T00:00:00.000Z",
          "2013-10-01T00:00:00.000Z",
          "2013-07-01T00:00:00.000Z",
          "2015-07-01T00:00:00.000Z",
          "2015-10-01T00:00:00.000Z",
          "2015-04-01T00:00:00.000Z",
          "2015-01-01T00:00:00.000Z",
          "2016-04-01T00:00:00.000Z",
          "2013-04-01T00:00:00.000Z",
          "2013-01-01T00:00:00.000Z",
          "2016-07-01T00:00:00.000Z",
          "2012-10-01T00:00:00.000Z",
          "2012-04-01T00:00:00.000Z",
          "2012-07-01T00:00:00.000Z",
          "2016-10-01T00:00:00.000Z",
          "2012-01-01T00:00:00.000Z",
          "2011-07-01T00:00:00.000Z",
          "2011-04-01T00:00:00.000Z",
          "2010-07-01T00:00:00.000Z",
          "2011-10-01T00:00:00.000Z",
          "2011-01-01T00:00:00.000Z",
          "2010-10-01T00:00:00.000Z",
          "2010-04-01T00:00:00.000Z",
          "2010-01-01T00:00:00.000Z"
         ],
         "y": [
          183,
          175,
          157,
          150,
          148,
          146,
          146,
          145,
          145,
          134,
          134,
          132,
          127,
          122,
          118,
          110,
          105,
          104,
          98,
          95,
          89,
          86,
          86,
          75,
          72,
          70,
          69,
          63
         ]
        },
        {
         "name": "Addons/Web Extensions",
         "type": "bar",
         "x": [
          "2011-07-01T00:00:00.000Z",
          "2011-01-01T00:00:00.000Z",
          "2012-01-01T00:00:00.000Z",
          "2015-07-01T00:00:00.000Z",
          "2011-10-01T00:00:00.000Z",
          "2014-04-01T00:00:00.000Z",
          "2011-04-01T00:00:00.000Z",
          "2013-04-01T00:00:00.000Z",
          "2010-01-01T00:00:00.000Z",
          "2013-07-01T00:00:00.000Z",
          "2010-04-01T00:00:00.000Z",
          "2012-07-01T00:00:00.000Z",
          "2012-10-01T00:00:00.000Z",
          "2013-10-01T00:00:00.000Z",
          "2015-04-01T00:00:00.000Z",
          "2014-01-01T00:00:00.000Z",
          "2012-04-01T00:00:00.000Z",
          "2014-07-01T00:00:00.000Z",
          "2013-01-01T00:00:00.000Z",
          "2010-10-01T00:00:00.000Z",
          "2015-10-01T00:00:00.000Z",
          "2010-07-01T00:00:00.000Z",
          "2014-10-01T00:00:00.000Z",
          "2015-01-01T00:00:00.000Z",
          "2016-01-01T00:00:00.000Z",
          "2016-04-01T00:00:00.000Z",
          "2016-07-01T00:00:00.000Z",
          "2016-10-01T00:00:00.000Z"
         ],
         "y": [
          178,
          165,
          159,
          157,
          141,
          139,
          138,
          136,
          133,
          131,
          131,
          128,
          127,
          123,
          122,
          119,
          117,
          117,
          115,
          114,
          113,
          113,
          103,
          100,
          62,
          36,
          33,
          21
         ]
        },
        {
         "name": "Release engineering",
         "type": "bar",
         "x": [
          "2014-10-01T00:00:00.000Z",
          "2014-07-01T00:00:00.000Z",
          "2013-07-01T00:00:00.000Z",
          "2014-01-01T00:00:00.000Z",
          "2014-04-01T00:00:00.000Z",
          "2015-01-01T00:00:00.000Z",
          "2015-07-01T00:00:00.000Z",
          "2016-01-01T00:00:00.000Z",
          "2016-04-01T00:00:00.000Z",
          "2013-01-01T00:00:00.000Z",
          "2015-10-01T00:00:00.000Z",
          "2016-07-01T00:00:00.000Z",
          "2013-10-01T00:00:00.000Z",
          "2015-04-01T00:00:00.000Z",
          "2013-04-01T00:00:00.000Z",
          "2012-04-01T00:00:00.000Z",
          "2012-10-01T00:00:00.000Z",
          "2010-07-01T00:00:00.000Z",
          "2012-01-01T00:00:00.000Z",
          "2011-07-01T00:00:00.000Z",
          "2016-10-01T00:00:00.000Z",
          "2011-10-01T00:00:00.000Z",
          "2011-04-01T00:00:00.000Z",
          "2011-01-01T00:00:00.000Z",
          "2012-07-01T00:00:00.000Z",
          "2010-10-01T00:00:00.000Z",
          "2010-04-01T00:00:00.000Z",
          "2010-01-01T00:00:00.000Z"
         ],
         "y": [
          152,
          137,
          136,
          136,
          131,
          128,
          128,
          127,
          127,
          123,
          120,
          118,
          118,
          116,
          111,
          110,
          108,
          105,
          104,
          101,
          100,
          99,
          98,
          95,
          91,
          91,
          77,
          65
         ]
        },
        {
         "name": "Technical/Developer Evangelism",
         "type": "bar",
         "x": [
          "2015-01-01T00:00:00.000Z",
          "2014-04-01T00:00:00.000Z",
          "2015-04-01T00:00:00.000Z",
          "2014-01-01T00:00:00.000Z",
          "2014-10-01T00:00:00.000Z",
          "2014-07-01T00:00:00.000Z",
          "2015-07-01T00:00:00.000Z",
          "2013-04-01T00:00:00.000Z",
          "2011-01-01T00:00:00.000Z",
          "2012-04-01T00:00:00.000Z",
          "2012-10-01T00:00:00.000Z",
          "2013-10-01T00:00:00.000Z",
          "2013-07-01T00:00:00.000Z",
          "2012-01-01T00:00:00.000Z",
          "2013-01-01T00:00:00.000Z",
          "2015-10-01T00:00:00.000Z",
          "2012-07-01T00:00:00.000Z",
          "2011-10-01T00:00:00.000Z",
          "2016-07-01T00:00:00.000Z",
          "2016-04-01T00:00:00.000Z",
          "2011-04-01T00:00:00.000Z",
          "2016-01-01T00:00:00.000Z",
          "2011-07-01T00:00:00.000Z",
          "2016-10-01T00:00:00.000Z",
          "2010-07-01T00:00:00.000Z",
          "2010-10-01T00:00:00.000Z",
          "2010-01-01T00:00:00.000Z",
          "2010-04-01T00:00:00.000Z"
         ],
         "y": [
          128,
          117,
          115,
          114,
          107,
          106,
          101,
          96,
          96,
          94,
          93,
          85,
          84,
          80,
          79,
          75,
          72,
          59,
          54,
          52,
          49,
          48,
          46,
          44,
          43,
          41,
          37,
          27
         ]
        },
        {
         "name": "Localization",
         "type": "bar",
         "x": [
          "2014-04-01T00:00:00.000Z",
          "2014-07-01T00:00:00.000Z",
          "2013-10-01T00:00:00.000Z",
          "2013-07-01T00:00:00.000Z",
          "2015-01-01T00:00:00.000Z",
          "2014-01-01T00:00:00.000Z",
          "2011-01-01T00:00:00.000Z",
          "2014-10-01T00:00:00.000Z",
          "2015-04-01T00:00:00.000Z",
          "2015-10-01T00:00:00.000Z",
          "2011-10-01T00:00:00.000Z",
          "2010-10-01T00:00:00.000Z",
          "2015-07-01T00:00:00.000Z",
          "2012-01-01T00:00:00.000Z",
          "2016-04-01T00:00:00.000Z",
          "2013-04-01T00:00:00.000Z",
          "2010-07-01T00:00:00.000Z",
          "2010-01-01T00:00:00.000Z",
          "2011-04-01T00:00:00.000Z",
          "2011-07-01T00:00:00.000Z",
          "2010-04-01T00:00:00.000Z",
          "2016-01-01T00:00:00.000Z",
          "2013-01-01T00:00:00.000Z",
          "2012-04-01T00:00:00.000Z",
          "2012-10-01T00:00:00.000Z",
          "2012-07-01T00:00:00.000Z",
          "2016-07-01T00:00:00.000Z",
          "2016-10-01T00:00:00.000Z"
         ],
         "y": [
          127,
          120,
          116,
          109,
          104,
          96,
          93,
          89,
          86,
          86,
          83,
          83,
          80,
          79,
          72,
          71,
          69,
          69,
          69,
          67,
          67,
          67,
          66,
          65,
          64,
          60,
          50,
          47
         ]
        },
        {
         "name": "Web Literacy",
         "type": "bar",
         "x": [
          "2014-07-01T00:00:00.000Z",
          "2014-04-01T00:00:00.000Z",
          "2013-10-01T00:00:00.000Z",
          "2013-07-01T00:00:00.000Z",
          "2014-01-01T00:00:00.000Z",
          "2014-10-01T00:00:00.000Z",
          "2013-04-01T00:00:00.000Z",
          "2015-01-01T00:00:00.000Z",
          "2015-04-01T00:00:00.000Z",
          "2015-07-01T00:00:00.000Z",
          "2012-04-01T00:00:00.000Z",
          "2013-01-01T00:00:00.000Z",
          "2016-04-01T00:00:00.000Z",
          "2016-10-01T00:00:00.000Z",
          "2012-07-01T00:00:00.000Z",
          "2016-07-01T00:00:00.000Z",
          "2015-10-01T00:00:00.000Z",
          "2012-10-01T00:00:00.000Z",
          "2016-01-01T00:00:00.000Z"
         ],
         "y": [
          111,
          98,
          85,
          75,
          74,
          73,
          68,
          29,
          24,
          21,
          19,
          18,
          8,
          8,
          6,
          6,
          6,
          5,
          5
         ]
        },
        {
         "name": "Firefox iOS",
         "type": "bar",
         "x": [
          "2016-01-01T00:00:00.000Z",
          "2015-10-01T00:00:00.000Z",
          "2015-07-01T00:00:00.000Z",
          "2016-07-01T00:00:00.000Z",
          "2016-04-01T00:00:00.000Z",
          "2015-04-01T00:00:00.000Z",
          "2016-10-01T00:00:00.000Z",
          "2015-01-01T00:00:00.000Z",
          "2014-10-01T00:00:00.000Z"
         ],
         "y": [
          72,
          72,
          60,
          51,
          48,
          48,
          42,
          36,
          11
         ]
        },
        {
         "name": "Marketing / Social Media",
         "type": "bar",
         "x": [
          "2012-01-01T00:00:00.000Z",
          "2011-10-01T00:00:00.000Z",
          "2014-04-01T00:00:00.000Z",
          "2012-07-01T00:00:00.000Z",
          "2014-07-01T00:00:00.000Z",
          "2012-04-01T00:00:00.000Z",
          "2011-07-01T00:00:00.000Z",
          "2012-10-01T00:00:00.000Z",
          "2015-01-01T00:00:00.000Z",
          "2011-04-01T00:00:00.000Z",
          "2014-10-01T00:00:00.000Z",
          "2013-10-01T00:00:00.000Z",
          "2014-01-01T00:00:00.000Z",
          "2013-07-01T00:00:00.000Z",
          "2015-07-01T00:00:00.000Z",
          "2015-10-01T00:00:00.000Z",
          "2013-04-01T00:00:00.000Z",
          "2016-10-01T00:00:00.000Z",
          "2013-01-01T00:00:00.000Z",
          "2011-01-01T00:00:00.000Z",
          "2015-04-01T00:00:00.000Z",
          "2016-01-01T00:00:00.000Z",
          "2016-04-01T00:00:00.000Z",
          "2016-07-01T00:00:00.000Z",
          "2010-10-01T00:00:00.000Z",
          "2010-01-01T00:00:00.000Z",
          "2010-07-01T00:00:00.000Z",
          "2010-04-01T00:00:00.000Z"
         ],
         "y": [
          55,
          50,
          42,
          41,
          40,
          37,
          36,
          36,
          34,
          33,
          32,
          32,
          30,
          29,
          29,
          27,
          27,
          24,
          23,
          23,
          23,
          20,
          9,
          9,
          8,
          5,
          4,
          3
         ]
        },
        {
         "name": "Mozilla Local/Regional communities",
         "type": "bar",
         "x": [
          "2014-10-01T00:00:00.000Z",
          "2014-07-01T00:00:00.000Z",
          "2015-01-01T00:00:00.000Z",
          "2014-01-01T00:00:00.000Z",
          "2014-04-01T00:00:00.000Z",
          "2012-07-01T00:00:00.000Z",
          "2013-10-01T00:00:00.000Z",
          "2013-07-01T00:00:00.000Z",
          "2013-04-01T00:00:00.000Z",
          "2013-01-01T00:00:00.000Z",
          "2012-04-01T00:00:00.000Z",
          "2012-01-01T00:00:00.000Z",
          "2015-04-01T00:00:00.000Z",
          "2012-10-01T00:00:00.000Z",
          "2015-07-01T00:00:00.000Z",
          "2016-07-01T00:00:00.000Z",
          "2015-10-01T00:00:00.000Z",
          "2016-04-01T00:00:00.000Z",
          "2016-01-01T00:00:00.000Z",
          "2016-10-01T00:00:00.000Z",
          "2010-01-01T00:00:00.000Z",
          "2011-04-01T00:00:00.000Z",
          "2011-07-01T00:00:00.000Z",
          "2011-10-01T00:00:00.000Z",
          "2011-01-01T00:00:00.000Z",
          "2010-07-01T00:00:00.000Z",
          "2010-10-01T00:00:00.000Z",
          "2010-04-01T00:00:00.000Z"
         ],
         "y": [
          51,
          44,
          43,
          42,
          40,
          35,
          31,
          31,
          28,
          25,
          25,
          24,
          21,
          21,
          15,
          11,
          9,
          9,
          8,
          8,
          5,
          4,
          3,
          2,
          2,
          2,
          1,
          1
         ]
        },
        {
         "name": "Mozilla Creative & Design",
         "type": "bar",
         "x": [
          "2014-04-01T00:00:00.000Z",
          "2014-07-01T00:00:00.000Z",
          "2014-01-01T00:00:00.000Z",
          "2012-01-01T00:00:00.000Z",
          "2013-10-01T00:00:00.000Z",
          "2013-07-01T00:00:00.000Z",
          "2011-10-01T00:00:00.000Z",
          "2012-04-01T00:00:00.000Z",
          "2015-01-01T00:00:00.000Z",
          "2015-04-01T00:00:00.000Z",
          "2014-10-01T00:00:00.000Z",
          "2012-10-01T00:00:00.000Z",
          "2011-07-01T00:00:00.000Z",
          "2015-07-01T00:00:00.000Z",
          "2012-07-01T00:00:00.000Z",
          "2013-01-01T00:00:00.000Z",
          "2011-01-01T00:00:00.000Z",
          "2015-10-01T00:00:00.000Z",
          "2011-04-01T00:00:00.000Z",
          "2013-04-01T00:00:00.000Z",
          "2010-10-01T00:00:00.000Z",
          "2010-07-01T00:00:00.000Z",
          "2016-01-01T00:00:00.000Z",
          "2016-04-01T00:00:00.000Z",
          "2016-07-01T00:00:00.000Z",
          "2010-04-01T00:00:00.000Z",
          "2016-10-01T00:00:00.000Z"
         ],
         "y": [
          50,
          45,
          43,
          41,
          39,
          39,
          37,
          35,
          33,
          33,
          32,
          32,
          30,
          30,
          29,
          29,
          29,
          26,
          26,
          23,
          15,
          14,
          8,
          6,
          5,
          3,
          3
         ]
        },
        {
         "name": "Mozilla Foundation",
         "type": "bar",
         "x": [
          "2014-10-01T00:00:00.000Z",
          "2014-04-01T00:00:00.000Z",
          "2014-07-01T00:00:00.000Z",
          "2015-01-01T00:00:00.000Z",
          "2016-07-01T00:00:00.000Z",
          "2014-01-01T00:00:00.000Z",
          "2013-04-01T00:00:00.000Z",
          "2013-10-01T00:00:00.000Z",
          "2013-07-01T00:00:00.000Z",
          "2016-01-01T00:00:00.000Z",
          "2015-10-01T00:00:00.000Z",
          "2016-10-01T00:00:00.000Z",
          "2015-04-01T00:00:00.000Z",
          "2015-07-01T00:00:00.000Z"
         ],
         "y": [
          27,
          15,
          14,
          11,
          6,
          6,
          5,
          4,
          4,
          3,
          3,
          2,
          2,
          1
         ]
        },
        {
         "name": "Firefox Focus",
         "type": "bar",
         "x": [
          "2016-10-01T00:00:00.000Z",
          "2016-01-01T00:00:00.000Z",
          "2016-07-01T00:00:00.000Z",
          "2015-10-01T00:00:00.000Z",
          "2016-04-01T00:00:00.000Z"
         ],
         "y": [
          14,
          3,
          3,
          1,
          1
         ]
        },
        {
         "name": "Mozilla support (SUMO)",
         "type": "bar",
         "x": [
          "2010-07-01T00:00:00.000Z",
          "2011-01-01T00:00:00.000Z",
          "2011-07-01T00:00:00.000Z",
          "2010-10-01T00:00:00.000Z",
          "2010-01-01T00:00:00.000Z",
          "2011-04-01T00:00:00.000Z",
          "2012-04-01T00:00:00.000Z",
          "2011-10-01T00:00:00.000Z",
          "2010-04-01T00:00:00.000Z",
          "2014-01-01T00:00:00.000Z",
          "2016-10-01T00:00:00.000Z",
          "2012-07-01T00:00:00.000Z",
          "2012-01-01T00:00:00.000Z",
          "2012-10-01T00:00:00.000Z",
          "2015-10-01T00:00:00.000Z",
          "2013-04-01T00:00:00.000Z",
          "2014-10-01T00:00:00.000Z",
          "2014-07-01T00:00:00.000Z",
          "2014-04-01T00:00:00.000Z",
          "2013-07-01T00:00:00.000Z",
          "2013-01-01T00:00:00.000Z",
          "2016-04-01T00:00:00.000Z"
         ],
         "y": [
          14,
          13,
          12,
          12,
          12,
          10,
          9,
          9,
          8,
          7,
          5,
          5,
          3,
          2,
          2,
          1,
          1,
          1,
          1,
          1,
          1,
          1
         ]
        },
        {
         "name": "Connected devices & IoT",
         "type": "bar",
         "x": [
          "2016-04-01T00:00:00.000Z",
          "2016-07-01T00:00:00.000Z",
          "2016-01-01T00:00:00.000Z",
          "2016-10-01T00:00:00.000Z"
         ],
         "y": [
          8,
          4,
          2,
          2
         ]
        },
        {
         "name": "Web Compatibility",
         "type": "bar",
         "x": [
          "2016-10-01T00:00:00.000Z",
          "2016-07-01T00:00:00.000Z",
          "2014-04-01T00:00:00.000Z"
         ],
         "y": [
          6,
          4,
          1
         ]
        },
        {
         "name": "Advocacy and policy",
         "type": "bar",
         "x": [
          "2013-10-01T00:00:00.000Z",
          "2014-10-01T00:00:00.000Z",
          "2013-04-01T00:00:00.000Z",
          "2014-04-01T00:00:00.000Z",
          "2016-04-01T00:00:00.000Z",
          "2015-04-01T00:00:00.000Z"
         ],
         "y": [
          4,
          2,
          2,
          2,
          2,
          1
         ]
        },
        {
         "name": "Rust",
         "type": "bar",
         "x": [
          "2010-01-01T00:00:00.000Z",
          "2010-04-01T00:00:00.000Z"
         ],
         "y": [
          4,
          2
         ]
        },
        {
         "name": "Firefox Student Ambassadors",
         "type": "bar",
         "x": [
          "2015-07-01T00:00:00.000Z"
         ],
         "y": [
          1
         ]
        }
       ],
       "layout": {
        "barmode": "stack"
       }
      },
      "text/html": [
       "<div id=\"e0dbc640-ce8b-4593-938a-4f8272b3025f\" style=\"height: 525px; width: 100%;\" class=\"plotly-graph-div\"></div><script type=\"text/javascript\">require([\"plotly\"], function(Plotly) { window.PLOTLYENV=window.PLOTLYENV || {};window.PLOTLYENV.BASE_URL=\"https://plot.ly\";Plotly.newPlot(\"e0dbc640-ce8b-4593-938a-4f8272b3025f\", [{\"type\": \"bar\", \"name\": \"Firefox\", \"y\": [2878, 2795, 2683, 2070, 1995, 1961, 1583, 1554, 1553, 1544, 1512, 1469, 1443, 1431, 1421, 1402, 1334, 1332, 1308, 1267, 1259, 1250, 1244, 1021, 1010, 928, 895, 854], \"x\": [\"2011-01-01T00:00:00.000Z\", \"2010-07-01T00:00:00.000Z\", \"2010-01-01T00:00:00.000Z\", \"2010-10-01T00:00:00.000Z\", \"2011-04-01T00:00:00.000Z\", \"2010-04-01T00:00:00.000Z\", \"2012-01-01T00:00:00.000Z\", \"2014-10-01T00:00:00.000Z\", \"2014-04-01T00:00:00.000Z\", \"2011-07-01T00:00:00.000Z\", \"2012-04-01T00:00:00.000Z\", \"2011-10-01T00:00:00.000Z\", \"2015-01-01T00:00:00.000Z\", \"2013-04-01T00:00:00.000Z\", \"2013-01-01T00:00:00.000Z\", \"2014-07-01T00:00:00.000Z\", \"2012-10-01T00:00:00.000Z\", \"2015-07-01T00:00:00.000Z\", \"2012-07-01T00:00:00.000Z\", \"2013-10-01T00:00:00.000Z\", \"2014-01-01T00:00:00.000Z\", \"2013-07-01T00:00:00.000Z\", \"2015-04-01T00:00:00.000Z\", \"2015-10-01T00:00:00.000Z\", \"2016-01-01T00:00:00.000Z\", \"2016-04-01T00:00:00.000Z\", \"2016-07-01T00:00:00.000Z\", \"2016-10-01T00:00:00.000Z\"]}, {\"type\": \"bar\", \"name\": \"Gecko\", \"y\": [1832, 1813, 1794, 1699, 1683, 1677, 1671, 1668, 1621, 1613, 1580, 1568, 1555, 1548, 1546, 1522, 1516, 1507, 1443, 1387, 1384, 1383, 1377, 1366, 1300, 1241, 1185, 1165], \"x\": [\"2014-10-01T00:00:00.000Z\", \"2015-07-01T00:00:00.000Z\", \"2016-01-01T00:00:00.000Z\", \"2015-10-01T00:00:00.000Z\", \"2015-04-01T00:00:00.000Z\", \"2014-07-01T00:00:00.000Z\", \"2016-04-01T00:00:00.000Z\", \"2014-04-01T00:00:00.000Z\", \"2015-01-01T00:00:00.000Z\", \"2011-01-01T00:00:00.000Z\", \"2013-07-01T00:00:00.000Z\", \"2013-10-01T00:00:00.000Z\", \"2013-04-01T00:00:00.000Z\", \"2016-07-01T00:00:00.000Z\", \"2010-07-01T00:00:00.000Z\", \"2013-01-01T00:00:00.000Z\", \"2014-01-01T00:00:00.000Z\", \"2016-10-01T00:00:00.000Z\", \"2012-07-01T00:00:00.000Z\", \"2011-04-01T00:00:00.000Z\", \"2012-10-01T00:00:00.000Z\", \"2010-10-01T00:00:00.000Z\", \"2012-01-01T00:00:00.000Z\", \"2012-04-01T00:00:00.000Z\", \"2010-01-01T00:00:00.000Z\", \"2011-07-01T00:00:00.000Z\", \"2011-10-01T00:00:00.000Z\", \"2010-04-01T00:00:00.000Z\"]}, {\"type\": \"bar\", \"name\": \"Thunderbird\", \"y\": [1303, 999, 918, 733, 677, 636, 624, 577, 569, 562, 560, 545, 526, 497, 475, 465, 414, 411, 408, 401, 394, 393, 356, 345, 344, 338, 330, 262], \"x\": [\"2010-01-01T00:00:00.000Z\", \"2010-07-01T00:00:00.000Z\", \"2010-04-01T00:00:00.000Z\", \"2010-10-01T00:00:00.000Z\", \"2011-07-01T00:00:00.000Z\", \"2012-04-01T00:00:00.000Z\", \"2012-01-01T00:00:00.000Z\", \"2012-10-01T00:00:00.000Z\", \"2011-10-01T00:00:00.000Z\", \"2012-07-01T00:00:00.000Z\", \"2011-01-01T00:00:00.000Z\", \"2015-07-01T00:00:00.000Z\", \"2011-04-01T00:00:00.000Z\", \"2014-07-01T00:00:00.000Z\", \"2016-04-01T00:00:00.000Z\", \"2013-10-01T00:00:00.000Z\", \"2013-01-01T00:00:00.000Z\", \"2015-04-01T00:00:00.000Z\", \"2014-10-01T00:00:00.000Z\", \"2013-07-01T00:00:00.000Z\", \"2015-01-01T00:00:00.000Z\", \"2013-04-01T00:00:00.000Z\", \"2014-01-01T00:00:00.000Z\", \"2015-10-01T00:00:00.000Z\", \"2014-04-01T00:00:00.000Z\", \"2016-01-01T00:00:00.000Z\", \"2016-07-01T00:00:00.000Z\", \"2016-10-01T00:00:00.000Z\"]}, {\"type\": \"bar\", \"name\": \"Firefox OS (FxOS / B2G)\", \"y\": [834, 789, 728, 668, 667, 626, 578, 558, 524, 494, 484, 452, 415, 234, 191, 129, 67, 42, 39, 11, 11, 2], \"x\": [\"2014-07-01T00:00:00.000Z\", \"2014-04-01T00:00:00.000Z\", \"2014-10-01T00:00:00.000Z\", \"2014-01-01T00:00:00.000Z\", \"2013-10-01T00:00:00.000Z\", \"2013-07-01T00:00:00.000Z\", \"2015-01-01T00:00:00.000Z\", \"2013-04-01T00:00:00.000Z\", \"2015-04-01T00:00:00.000Z\", \"2015-07-01T00:00:00.000Z\", \"2015-10-01T00:00:00.000Z\", \"2013-01-01T00:00:00.000Z\", \"2012-10-01T00:00:00.000Z\", \"2016-01-01T00:00:00.000Z\", \"2012-07-01T00:00:00.000Z\", \"2012-04-01T00:00:00.000Z\", \"2016-04-01T00:00:00.000Z\", \"2012-01-01T00:00:00.000Z\", \"2016-07-01T00:00:00.000Z\", \"2011-10-01T00:00:00.000Z\", \"2016-10-01T00:00:00.000Z\", \"2011-07-01T00:00:00.000Z\"]}, {\"type\": \"bar\", \"name\": \"IT/Ops\", \"y\": [522, 506, 494, 491, 478, 478, 464, 460, 452, 447, 446, 445, 436, 435, 434, 426, 415, 392, 376, 346, 332, 329, 327, 264, 253, 224, 203, 182], \"x\": [\"2015-07-01T00:00:00.000Z\", \"2014-04-01T00:00:00.000Z\", \"2014-01-01T00:00:00.000Z\", \"2013-07-01T00:00:00.000Z\", \"2014-07-01T00:00:00.000Z\", \"2015-01-01T00:00:00.000Z\", \"2012-04-01T00:00:00.000Z\", \"2013-10-01T00:00:00.000Z\", \"2016-04-01T00:00:00.000Z\", \"2015-04-01T00:00:00.000Z\", \"2013-04-01T00:00:00.000Z\", \"2014-10-01T00:00:00.000Z\", \"2012-07-01T00:00:00.000Z\", \"2012-10-01T00:00:00.000Z\", \"2013-01-01T00:00:00.000Z\", \"2015-10-01T00:00:00.000Z\", \"2016-01-01T00:00:00.000Z\", \"2012-01-01T00:00:00.000Z\", \"2016-07-01T00:00:00.000Z\", \"2016-10-01T00:00:00.000Z\", \"2011-10-01T00:00:00.000Z\", \"2011-07-01T00:00:00.000Z\", \"2011-04-01T00:00:00.000Z\", \"2010-07-01T00:00:00.000Z\", \"2011-01-01T00:00:00.000Z\", \"2010-04-01T00:00:00.000Z\", \"2010-10-01T00:00:00.000Z\", \"2010-01-01T00:00:00.000Z\"]}, {\"type\": \"bar\", \"name\": \"Web Properties\", \"y\": [481, 456, 440, 440, 437, 419, 416, 413, 411, 409, 408, 407, 406, 382, 380, 369, 355, 337, 334, 333, 331, 312, 300, 298, 275, 242, 223, 186], \"x\": [\"2014-04-01T00:00:00.000Z\", \"2014-01-01T00:00:00.000Z\", \"2013-04-01T00:00:00.000Z\", \"2012-01-01T00:00:00.000Z\", \"2011-07-01T00:00:00.000Z\", \"2011-04-01T00:00:00.000Z\", \"2011-01-01T00:00:00.000Z\", \"2011-10-01T00:00:00.000Z\", \"2014-10-01T00:00:00.000Z\", \"2013-07-01T00:00:00.000Z\", \"2012-04-01T00:00:00.000Z\", \"2014-07-01T00:00:00.000Z\", \"2013-10-01T00:00:00.000Z\", \"2013-01-01T00:00:00.000Z\", \"2012-07-01T00:00:00.000Z\", \"2010-07-01T00:00:00.000Z\", \"2010-04-01T00:00:00.000Z\", \"2010-01-01T00:00:00.000Z\", \"2010-10-01T00:00:00.000Z\", \"2012-10-01T00:00:00.000Z\", \"2015-01-01T00:00:00.000Z\", \"2015-07-01T00:00:00.000Z\", \"2015-10-01T00:00:00.000Z\", \"2015-04-01T00:00:00.000Z\", \"2016-01-01T00:00:00.000Z\", \"2016-04-01T00:00:00.000Z\", \"2016-07-01T00:00:00.000Z\", \"2016-10-01T00:00:00.000Z\"]}, {\"type\": \"bar\", \"name\": \"Firefox Android\", \"y\": [338, 292, 271, 264, 255, 254, 251, 248, 243, 232, 224, 220, 218, 217, 210, 209, 202, 200, 196, 193, 186, 177, 143, 131, 101, 97, 86, 74], \"x\": [\"2012-04-01T00:00:00.000Z\", \"2012-07-01T00:00:00.000Z\", \"2013-01-01T00:00:00.000Z\", \"2012-10-01T00:00:00.000Z\", \"2013-07-01T00:00:00.000Z\", \"2013-10-01T00:00:00.000Z\", \"2013-04-01T00:00:00.000Z\", \"2014-10-01T00:00:00.000Z\", \"2014-07-01T00:00:00.000Z\", \"2014-04-01T00:00:00.000Z\", \"2014-01-01T00:00:00.000Z\", \"2015-01-01T00:00:00.000Z\", \"2011-10-01T00:00:00.000Z\", \"2012-01-01T00:00:00.000Z\", \"2015-10-01T00:00:00.000Z\", \"2015-07-01T00:00:00.000Z\", \"2016-01-01T00:00:00.000Z\", \"2016-07-01T00:00:00.000Z\", \"2016-10-01T00:00:00.000Z\", \"2016-04-01T00:00:00.000Z\", \"2011-07-01T00:00:00.000Z\", \"2015-04-01T00:00:00.000Z\", \"2010-10-01T00:00:00.000Z\", \"2011-01-01T00:00:00.000Z\", \"2010-07-01T00:00:00.000Z\", \"2011-04-01T00:00:00.000Z\", \"2010-04-01T00:00:00.000Z\", \"2010-01-01T00:00:00.000Z\"]}, {\"type\": \"bar\", \"name\": \"Mozilla Developer Network (MDN)\", \"y\": [208, 194, 173, 169, 168, 138, 134, 126, 126, 121, 115, 113, 109, 107, 107, 105, 99, 79, 72, 61, 60, 57, 45, 43, 41, 32, 18, 18], \"x\": [\"2013-10-01T00:00:00.000Z\", \"2016-01-01T00:00:00.000Z\", \"2016-07-01T00:00:00.000Z\", \"2012-07-01T00:00:00.000Z\", \"2016-04-01T00:00:00.000Z\", \"2015-10-01T00:00:00.000Z\", \"2016-10-01T00:00:00.000Z\", \"2013-04-01T00:00:00.000Z\", \"2014-01-01T00:00:00.000Z\", \"2015-07-01T00:00:00.000Z\", \"2012-10-01T00:00:00.000Z\", \"2014-04-01T00:00:00.000Z\", \"2013-01-01T00:00:00.000Z\", \"2014-07-01T00:00:00.000Z\", \"2015-01-01T00:00:00.000Z\", \"2013-07-01T00:00:00.000Z\", \"2015-04-01T00:00:00.000Z\", \"2014-10-01T00:00:00.000Z\", \"2012-01-01T00:00:00.000Z\", \"2012-04-01T00:00:00.000Z\", \"2011-10-01T00:00:00.000Z\", \"2011-04-01T00:00:00.000Z\", \"2011-07-01T00:00:00.000Z\", \"2010-10-01T00:00:00.000Z\", \"2011-01-01T00:00:00.000Z\", \"2010-07-01T00:00:00.000Z\", \"2010-04-01T00:00:00.000Z\", \"2010-01-01T00:00:00.000Z\"]}, {\"type\": \"bar\", \"name\": \"Developer Tools\", \"y\": [206, 199, 199, 195, 185, 180, 179, 179, 165, 164, 156, 151, 144, 138, 131, 106, 85, 81, 78, 77, 49, 22, 20, 19, 15, 11, 2, 1], \"x\": [\"2015-01-01T00:00:00.000Z\", \"2014-10-01T00:00:00.000Z\", \"2014-07-01T00:00:00.000Z\", \"2015-04-01T00:00:00.000Z\", \"2016-01-01T00:00:00.000Z\", \"2014-04-01T00:00:00.000Z\", \"2016-10-01T00:00:00.000Z\", \"2014-01-01T00:00:00.000Z\", \"2015-07-01T00:00:00.000Z\", \"2013-10-01T00:00:00.000Z\", \"2016-04-01T00:00:00.000Z\", \"2016-07-01T00:00:00.000Z\", \"2015-10-01T00:00:00.000Z\", \"2013-07-01T00:00:00.000Z\", \"2013-04-01T00:00:00.000Z\", \"2013-01-01T00:00:00.000Z\", \"2012-04-01T00:00:00.000Z\", \"2012-07-01T00:00:00.000Z\", \"2012-10-01T00:00:00.000Z\", \"2012-01-01T00:00:00.000Z\", \"2011-10-01T00:00:00.000Z\", \"2011-07-01T00:00:00.000Z\", \"2011-01-01T00:00:00.000Z\", \"2011-04-01T00:00:00.000Z\", \"2010-07-01T00:00:00.000Z\", \"2010-10-01T00:00:00.000Z\", \"2010-04-01T00:00:00.000Z\", \"2010-01-01T00:00:00.000Z\"]}, {\"type\": \"bar\", \"name\": \"Quality Assurance\", \"y\": [183, 175, 157, 150, 148, 146, 146, 145, 145, 134, 134, 132, 127, 122, 118, 110, 105, 104, 98, 95, 89, 86, 86, 75, 72, 70, 69, 63], \"x\": [\"2014-07-01T00:00:00.000Z\", \"2014-04-01T00:00:00.000Z\", \"2014-10-01T00:00:00.000Z\", \"2014-01-01T00:00:00.000Z\", \"2016-01-01T00:00:00.000Z\", \"2013-10-01T00:00:00.000Z\", \"2013-07-01T00:00:00.000Z\", \"2015-07-01T00:00:00.000Z\", \"2015-10-01T00:00:00.000Z\", \"2015-04-01T00:00:00.000Z\", \"2015-01-01T00:00:00.000Z\", \"2016-04-01T00:00:00.000Z\", \"2013-04-01T00:00:00.000Z\", \"2013-01-01T00:00:00.000Z\", \"2016-07-01T00:00:00.000Z\", \"2012-10-01T00:00:00.000Z\", \"2012-04-01T00:00:00.000Z\", \"2012-07-01T00:00:00.000Z\", \"2016-10-01T00:00:00.000Z\", \"2012-01-01T00:00:00.000Z\", \"2011-07-01T00:00:00.000Z\", \"2011-04-01T00:00:00.000Z\", \"2010-07-01T00:00:00.000Z\", \"2011-10-01T00:00:00.000Z\", \"2011-01-01T00:00:00.000Z\", \"2010-10-01T00:00:00.000Z\", \"2010-04-01T00:00:00.000Z\", \"2010-01-01T00:00:00.000Z\"]}, {\"type\": \"bar\", \"name\": \"Addons/Web Extensions\", \"y\": [178, 165, 159, 157, 141, 139, 138, 136, 133, 131, 131, 128, 127, 123, 122, 119, 117, 117, 115, 114, 113, 113, 103, 100, 62, 36, 33, 21], \"x\": [\"2011-07-01T00:00:00.000Z\", \"2011-01-01T00:00:00.000Z\", \"2012-01-01T00:00:00.000Z\", \"2015-07-01T00:00:00.000Z\", \"2011-10-01T00:00:00.000Z\", \"2014-04-01T00:00:00.000Z\", \"2011-04-01T00:00:00.000Z\", \"2013-04-01T00:00:00.000Z\", \"2010-01-01T00:00:00.000Z\", \"2013-07-01T00:00:00.000Z\", \"2010-04-01T00:00:00.000Z\", \"2012-07-01T00:00:00.000Z\", \"2012-10-01T00:00:00.000Z\", \"2013-10-01T00:00:00.000Z\", \"2015-04-01T00:00:00.000Z\", \"2014-01-01T00:00:00.000Z\", \"2012-04-01T00:00:00.000Z\", \"2014-07-01T00:00:00.000Z\", \"2013-01-01T00:00:00.000Z\", \"2010-10-01T00:00:00.000Z\", \"2015-10-01T00:00:00.000Z\", \"2010-07-01T00:00:00.000Z\", \"2014-10-01T00:00:00.000Z\", \"2015-01-01T00:00:00.000Z\", \"2016-01-01T00:00:00.000Z\", \"2016-04-01T00:00:00.000Z\", \"2016-07-01T00:00:00.000Z\", \"2016-10-01T00:00:00.000Z\"]}, {\"type\": \"bar\", \"name\": \"Release engineering\", \"y\": [152, 137, 136, 136, 131, 128, 128, 127, 127, 123, 120, 118, 118, 116, 111, 110, 108, 105, 104, 101, 100, 99, 98, 95, 91, 91, 77, 65], \"x\": [\"2014-10-01T00:00:00.000Z\", \"2014-07-01T00:00:00.000Z\", \"2013-07-01T00:00:00.000Z\", \"2014-01-01T00:00:00.000Z\", \"2014-04-01T00:00:00.000Z\", \"2015-01-01T00:00:00.000Z\", \"2015-07-01T00:00:00.000Z\", \"2016-01-01T00:00:00.000Z\", \"2016-04-01T00:00:00.000Z\", \"2013-01-01T00:00:00.000Z\", \"2015-10-01T00:00:00.000Z\", \"2016-07-01T00:00:00.000Z\", \"2013-10-01T00:00:00.000Z\", \"2015-04-01T00:00:00.000Z\", \"2013-04-01T00:00:00.000Z\", \"2012-04-01T00:00:00.000Z\", \"2012-10-01T00:00:00.000Z\", \"2010-07-01T00:00:00.000Z\", \"2012-01-01T00:00:00.000Z\", \"2011-07-01T00:00:00.000Z\", \"2016-10-01T00:00:00.000Z\", \"2011-10-01T00:00:00.000Z\", \"2011-04-01T00:00:00.000Z\", \"2011-01-01T00:00:00.000Z\", \"2012-07-01T00:00:00.000Z\", \"2010-10-01T00:00:00.000Z\", \"2010-04-01T00:00:00.000Z\", \"2010-01-01T00:00:00.000Z\"]}, {\"type\": \"bar\", \"name\": \"Technical/Developer Evangelism\", \"y\": [128, 117, 115, 114, 107, 106, 101, 96, 96, 94, 93, 85, 84, 80, 79, 75, 72, 59, 54, 52, 49, 48, 46, 44, 43, 41, 37, 27], \"x\": [\"2015-01-01T00:00:00.000Z\", \"2014-04-01T00:00:00.000Z\", \"2015-04-01T00:00:00.000Z\", \"2014-01-01T00:00:00.000Z\", \"2014-10-01T00:00:00.000Z\", \"2014-07-01T00:00:00.000Z\", \"2015-07-01T00:00:00.000Z\", \"2013-04-01T00:00:00.000Z\", \"2011-01-01T00:00:00.000Z\", \"2012-04-01T00:00:00.000Z\", \"2012-10-01T00:00:00.000Z\", \"2013-10-01T00:00:00.000Z\", \"2013-07-01T00:00:00.000Z\", \"2012-01-01T00:00:00.000Z\", \"2013-01-01T00:00:00.000Z\", \"2015-10-01T00:00:00.000Z\", \"2012-07-01T00:00:00.000Z\", \"2011-10-01T00:00:00.000Z\", \"2016-07-01T00:00:00.000Z\", \"2016-04-01T00:00:00.000Z\", \"2011-04-01T00:00:00.000Z\", \"2016-01-01T00:00:00.000Z\", \"2011-07-01T00:00:00.000Z\", \"2016-10-01T00:00:00.000Z\", \"2010-07-01T00:00:00.000Z\", \"2010-10-01T00:00:00.000Z\", \"2010-01-01T00:00:00.000Z\", \"2010-04-01T00:00:00.000Z\"]}, {\"type\": \"bar\", \"name\": \"Localization\", \"y\": [127, 120, 116, 109, 104, 96, 93, 89, 86, 86, 83, 83, 80, 79, 72, 71, 69, 69, 69, 67, 67, 67, 66, 65, 64, 60, 50, 47], \"x\": [\"2014-04-01T00:00:00.000Z\", \"2014-07-01T00:00:00.000Z\", \"2013-10-01T00:00:00.000Z\", \"2013-07-01T00:00:00.000Z\", \"2015-01-01T00:00:00.000Z\", \"2014-01-01T00:00:00.000Z\", \"2011-01-01T00:00:00.000Z\", \"2014-10-01T00:00:00.000Z\", \"2015-04-01T00:00:00.000Z\", \"2015-10-01T00:00:00.000Z\", \"2011-10-01T00:00:00.000Z\", \"2010-10-01T00:00:00.000Z\", \"2015-07-01T00:00:00.000Z\", \"2012-01-01T00:00:00.000Z\", \"2016-04-01T00:00:00.000Z\", \"2013-04-01T00:00:00.000Z\", \"2010-07-01T00:00:00.000Z\", \"2010-01-01T00:00:00.000Z\", \"2011-04-01T00:00:00.000Z\", \"2011-07-01T00:00:00.000Z\", \"2010-04-01T00:00:00.000Z\", \"2016-01-01T00:00:00.000Z\", \"2013-01-01T00:00:00.000Z\", \"2012-04-01T00:00:00.000Z\", \"2012-10-01T00:00:00.000Z\", \"2012-07-01T00:00:00.000Z\", \"2016-07-01T00:00:00.000Z\", \"2016-10-01T00:00:00.000Z\"]}, {\"type\": \"bar\", \"name\": \"Web Literacy\", \"y\": [111, 98, 85, 75, 74, 73, 68, 29, 24, 21, 19, 18, 8, 8, 6, 6, 6, 5, 5], \"x\": [\"2014-07-01T00:00:00.000Z\", \"2014-04-01T00:00:00.000Z\", \"2013-10-01T00:00:00.000Z\", \"2013-07-01T00:00:00.000Z\", \"2014-01-01T00:00:00.000Z\", \"2014-10-01T00:00:00.000Z\", \"2013-04-01T00:00:00.000Z\", \"2015-01-01T00:00:00.000Z\", \"2015-04-01T00:00:00.000Z\", \"2015-07-01T00:00:00.000Z\", \"2012-04-01T00:00:00.000Z\", \"2013-01-01T00:00:00.000Z\", \"2016-04-01T00:00:00.000Z\", \"2016-10-01T00:00:00.000Z\", \"2012-07-01T00:00:00.000Z\", \"2016-07-01T00:00:00.000Z\", \"2015-10-01T00:00:00.000Z\", \"2012-10-01T00:00:00.000Z\", \"2016-01-01T00:00:00.000Z\"]}, {\"type\": \"bar\", \"name\": \"Firefox iOS\", \"y\": [72, 72, 60, 51, 48, 48, 42, 36, 11], \"x\": [\"2016-01-01T00:00:00.000Z\", \"2015-10-01T00:00:00.000Z\", \"2015-07-01T00:00:00.000Z\", \"2016-07-01T00:00:00.000Z\", \"2016-04-01T00:00:00.000Z\", \"2015-04-01T00:00:00.000Z\", \"2016-10-01T00:00:00.000Z\", \"2015-01-01T00:00:00.000Z\", \"2014-10-01T00:00:00.000Z\"]}, {\"type\": \"bar\", \"name\": \"Marketing / Social Media\", \"y\": [55, 50, 42, 41, 40, 37, 36, 36, 34, 33, 32, 32, 30, 29, 29, 27, 27, 24, 23, 23, 23, 20, 9, 9, 8, 5, 4, 3], \"x\": [\"2012-01-01T00:00:00.000Z\", \"2011-10-01T00:00:00.000Z\", \"2014-04-01T00:00:00.000Z\", \"2012-07-01T00:00:00.000Z\", \"2014-07-01T00:00:00.000Z\", \"2012-04-01T00:00:00.000Z\", \"2011-07-01T00:00:00.000Z\", \"2012-10-01T00:00:00.000Z\", \"2015-01-01T00:00:00.000Z\", \"2011-04-01T00:00:00.000Z\", \"2014-10-01T00:00:00.000Z\", \"2013-10-01T00:00:00.000Z\", \"2014-01-01T00:00:00.000Z\", \"2013-07-01T00:00:00.000Z\", \"2015-07-01T00:00:00.000Z\", \"2015-10-01T00:00:00.000Z\", \"2013-04-01T00:00:00.000Z\", \"2016-10-01T00:00:00.000Z\", \"2013-01-01T00:00:00.000Z\", \"2011-01-01T00:00:00.000Z\", \"2015-04-01T00:00:00.000Z\", \"2016-01-01T00:00:00.000Z\", \"2016-04-01T00:00:00.000Z\", \"2016-07-01T00:00:00.000Z\", \"2010-10-01T00:00:00.000Z\", \"2010-01-01T00:00:00.000Z\", \"2010-07-01T00:00:00.000Z\", \"2010-04-01T00:00:00.000Z\"]}, {\"type\": \"bar\", \"name\": \"Mozilla Local/Regional communities\", \"y\": [51, 44, 43, 42, 40, 35, 31, 31, 28, 25, 25, 24, 21, 21, 15, 11, 9, 9, 8, 8, 5, 4, 3, 2, 2, 2, 1, 1], \"x\": [\"2014-10-01T00:00:00.000Z\", \"2014-07-01T00:00:00.000Z\", \"2015-01-01T00:00:00.000Z\", \"2014-01-01T00:00:00.000Z\", \"2014-04-01T00:00:00.000Z\", \"2012-07-01T00:00:00.000Z\", \"2013-10-01T00:00:00.000Z\", \"2013-07-01T00:00:00.000Z\", \"2013-04-01T00:00:00.000Z\", \"2013-01-01T00:00:00.000Z\", \"2012-04-01T00:00:00.000Z\", \"2012-01-01T00:00:00.000Z\", \"2015-04-01T00:00:00.000Z\", \"2012-10-01T00:00:00.000Z\", \"2015-07-01T00:00:00.000Z\", \"2016-07-01T00:00:00.000Z\", \"2015-10-01T00:00:00.000Z\", \"2016-04-01T00:00:00.000Z\", \"2016-01-01T00:00:00.000Z\", \"2016-10-01T00:00:00.000Z\", \"2010-01-01T00:00:00.000Z\", \"2011-04-01T00:00:00.000Z\", \"2011-07-01T00:00:00.000Z\", \"2011-10-01T00:00:00.000Z\", \"2011-01-01T00:00:00.000Z\", \"2010-07-01T00:00:00.000Z\", \"2010-10-01T00:00:00.000Z\", \"2010-04-01T00:00:00.000Z\"]}, {\"type\": \"bar\", \"name\": \"Mozilla Creative & Design\", \"y\": [50, 45, 43, 41, 39, 39, 37, 35, 33, 33, 32, 32, 30, 30, 29, 29, 29, 26, 26, 23, 15, 14, 8, 6, 5, 3, 3], \"x\": [\"2014-04-01T00:00:00.000Z\", \"2014-07-01T00:00:00.000Z\", \"2014-01-01T00:00:00.000Z\", \"2012-01-01T00:00:00.000Z\", \"2013-10-01T00:00:00.000Z\", \"2013-07-01T00:00:00.000Z\", \"2011-10-01T00:00:00.000Z\", \"2012-04-01T00:00:00.000Z\", \"2015-01-01T00:00:00.000Z\", \"2015-04-01T00:00:00.000Z\", \"2014-10-01T00:00:00.000Z\", \"2012-10-01T00:00:00.000Z\", \"2011-07-01T00:00:00.000Z\", \"2015-07-01T00:00:00.000Z\", \"2012-07-01T00:00:00.000Z\", \"2013-01-01T00:00:00.000Z\", \"2011-01-01T00:00:00.000Z\", \"2015-10-01T00:00:00.000Z\", \"2011-04-01T00:00:00.000Z\", \"2013-04-01T00:00:00.000Z\", \"2010-10-01T00:00:00.000Z\", \"2010-07-01T00:00:00.000Z\", \"2016-01-01T00:00:00.000Z\", \"2016-04-01T00:00:00.000Z\", \"2016-07-01T00:00:00.000Z\", \"2010-04-01T00:00:00.000Z\", \"2016-10-01T00:00:00.000Z\"]}, {\"type\": \"bar\", \"name\": \"Mozilla Foundation\", \"y\": [27, 15, 14, 11, 6, 6, 5, 4, 4, 3, 3, 2, 2, 1], \"x\": [\"2014-10-01T00:00:00.000Z\", \"2014-04-01T00:00:00.000Z\", \"2014-07-01T00:00:00.000Z\", \"2015-01-01T00:00:00.000Z\", \"2016-07-01T00:00:00.000Z\", \"2014-01-01T00:00:00.000Z\", \"2013-04-01T00:00:00.000Z\", \"2013-10-01T00:00:00.000Z\", \"2013-07-01T00:00:00.000Z\", \"2016-01-01T00:00:00.000Z\", \"2015-10-01T00:00:00.000Z\", \"2016-10-01T00:00:00.000Z\", \"2015-04-01T00:00:00.000Z\", \"2015-07-01T00:00:00.000Z\"]}, {\"type\": \"bar\", \"name\": \"Firefox Focus\", \"y\": [14, 3, 3, 1, 1], \"x\": [\"2016-10-01T00:00:00.000Z\", \"2016-01-01T00:00:00.000Z\", \"2016-07-01T00:00:00.000Z\", \"2015-10-01T00:00:00.000Z\", \"2016-04-01T00:00:00.000Z\"]}, {\"type\": \"bar\", \"name\": \"Mozilla support (SUMO)\", \"y\": [14, 13, 12, 12, 12, 10, 9, 9, 8, 7, 5, 5, 3, 2, 2, 1, 1, 1, 1, 1, 1, 1], \"x\": [\"2010-07-01T00:00:00.000Z\", \"2011-01-01T00:00:00.000Z\", \"2011-07-01T00:00:00.000Z\", \"2010-10-01T00:00:00.000Z\", \"2010-01-01T00:00:00.000Z\", \"2011-04-01T00:00:00.000Z\", \"2012-04-01T00:00:00.000Z\", \"2011-10-01T00:00:00.000Z\", \"2010-04-01T00:00:00.000Z\", \"2014-01-01T00:00:00.000Z\", \"2016-10-01T00:00:00.000Z\", \"2012-07-01T00:00:00.000Z\", \"2012-01-01T00:00:00.000Z\", \"2012-10-01T00:00:00.000Z\", \"2015-10-01T00:00:00.000Z\", \"2013-04-01T00:00:00.000Z\", \"2014-10-01T00:00:00.000Z\", \"2014-07-01T00:00:00.000Z\", \"2014-04-01T00:00:00.000Z\", \"2013-07-01T00:00:00.000Z\", \"2013-01-01T00:00:00.000Z\", \"2016-04-01T00:00:00.000Z\"]}, {\"type\": \"bar\", \"name\": \"Connected devices & IoT\", \"y\": [8, 4, 2, 2], \"x\": [\"2016-04-01T00:00:00.000Z\", \"2016-07-01T00:00:00.000Z\", \"2016-01-01T00:00:00.000Z\", \"2016-10-01T00:00:00.000Z\"]}, {\"type\": \"bar\", \"name\": \"Web Compatibility\", \"y\": [6, 4, 1], \"x\": [\"2016-10-01T00:00:00.000Z\", \"2016-07-01T00:00:00.000Z\", \"2014-04-01T00:00:00.000Z\"]}, {\"type\": \"bar\", \"name\": \"Advocacy and policy\", \"y\": [4, 2, 2, 2, 2, 1], \"x\": [\"2013-10-01T00:00:00.000Z\", \"2014-10-01T00:00:00.000Z\", \"2013-04-01T00:00:00.000Z\", \"2014-04-01T00:00:00.000Z\", \"2016-04-01T00:00:00.000Z\", \"2015-04-01T00:00:00.000Z\"]}, {\"type\": \"bar\", \"name\": \"Rust\", \"y\": [4, 2], \"x\": [\"2010-01-01T00:00:00.000Z\", \"2010-04-01T00:00:00.000Z\"]}, {\"type\": \"bar\", \"name\": \"Firefox Student Ambassadors\", \"y\": [1], \"x\": [\"2015-07-01T00:00:00.000Z\"]}], {\"barmode\": \"stack\"}, {\"showLink\": true, \"linkText\": \"Export to plot.ly\"})});</script>"
      ],
      "text/vnd.plotly.v1+html": [
       "<div id=\"e0dbc640-ce8b-4593-938a-4f8272b3025f\" style=\"height: 525px; width: 100%;\" class=\"plotly-graph-div\"></div><script type=\"text/javascript\">require([\"plotly\"], function(Plotly) { window.PLOTLYENV=window.PLOTLYENV || {};window.PLOTLYENV.BASE_URL=\"https://plot.ly\";Plotly.newPlot(\"e0dbc640-ce8b-4593-938a-4f8272b3025f\", [{\"type\": \"bar\", \"name\": \"Firefox\", \"y\": [2878, 2795, 2683, 2070, 1995, 1961, 1583, 1554, 1553, 1544, 1512, 1469, 1443, 1431, 1421, 1402, 1334, 1332, 1308, 1267, 1259, 1250, 1244, 1021, 1010, 928, 895, 854], \"x\": [\"2011-01-01T00:00:00.000Z\", \"2010-07-01T00:00:00.000Z\", \"2010-01-01T00:00:00.000Z\", \"2010-10-01T00:00:00.000Z\", \"2011-04-01T00:00:00.000Z\", \"2010-04-01T00:00:00.000Z\", \"2012-01-01T00:00:00.000Z\", \"2014-10-01T00:00:00.000Z\", \"2014-04-01T00:00:00.000Z\", \"2011-07-01T00:00:00.000Z\", \"2012-04-01T00:00:00.000Z\", \"2011-10-01T00:00:00.000Z\", \"2015-01-01T00:00:00.000Z\", \"2013-04-01T00:00:00.000Z\", \"2013-01-01T00:00:00.000Z\", \"2014-07-01T00:00:00.000Z\", \"2012-10-01T00:00:00.000Z\", \"2015-07-01T00:00:00.000Z\", \"2012-07-01T00:00:00.000Z\", \"2013-10-01T00:00:00.000Z\", \"2014-01-01T00:00:00.000Z\", \"2013-07-01T00:00:00.000Z\", \"2015-04-01T00:00:00.000Z\", \"2015-10-01T00:00:00.000Z\", \"2016-01-01T00:00:00.000Z\", \"2016-04-01T00:00:00.000Z\", \"2016-07-01T00:00:00.000Z\", \"2016-10-01T00:00:00.000Z\"]}, {\"type\": \"bar\", \"name\": \"Gecko\", \"y\": [1832, 1813, 1794, 1699, 1683, 1677, 1671, 1668, 1621, 1613, 1580, 1568, 1555, 1548, 1546, 1522, 1516, 1507, 1443, 1387, 1384, 1383, 1377, 1366, 1300, 1241, 1185, 1165], \"x\": [\"2014-10-01T00:00:00.000Z\", \"2015-07-01T00:00:00.000Z\", \"2016-01-01T00:00:00.000Z\", \"2015-10-01T00:00:00.000Z\", \"2015-04-01T00:00:00.000Z\", \"2014-07-01T00:00:00.000Z\", \"2016-04-01T00:00:00.000Z\", \"2014-04-01T00:00:00.000Z\", \"2015-01-01T00:00:00.000Z\", \"2011-01-01T00:00:00.000Z\", \"2013-07-01T00:00:00.000Z\", \"2013-10-01T00:00:00.000Z\", \"2013-04-01T00:00:00.000Z\", \"2016-07-01T00:00:00.000Z\", \"2010-07-01T00:00:00.000Z\", \"2013-01-01T00:00:00.000Z\", \"2014-01-01T00:00:00.000Z\", \"2016-10-01T00:00:00.000Z\", \"2012-07-01T00:00:00.000Z\", \"2011-04-01T00:00:00.000Z\", \"2012-10-01T00:00:00.000Z\", \"2010-10-01T00:00:00.000Z\", \"2012-01-01T00:00:00.000Z\", \"2012-04-01T00:00:00.000Z\", \"2010-01-01T00:00:00.000Z\", \"2011-07-01T00:00:00.000Z\", \"2011-10-01T00:00:00.000Z\", \"2010-04-01T00:00:00.000Z\"]}, {\"type\": \"bar\", \"name\": \"Thunderbird\", \"y\": [1303, 999, 918, 733, 677, 636, 624, 577, 569, 562, 560, 545, 526, 497, 475, 465, 414, 411, 408, 401, 394, 393, 356, 345, 344, 338, 330, 262], \"x\": [\"2010-01-01T00:00:00.000Z\", \"2010-07-01T00:00:00.000Z\", \"2010-04-01T00:00:00.000Z\", \"2010-10-01T00:00:00.000Z\", \"2011-07-01T00:00:00.000Z\", \"2012-04-01T00:00:00.000Z\", \"2012-01-01T00:00:00.000Z\", \"2012-10-01T00:00:00.000Z\", \"2011-10-01T00:00:00.000Z\", \"2012-07-01T00:00:00.000Z\", \"2011-01-01T00:00:00.000Z\", \"2015-07-01T00:00:00.000Z\", \"2011-04-01T00:00:00.000Z\", \"2014-07-01T00:00:00.000Z\", \"2016-04-01T00:00:00.000Z\", \"2013-10-01T00:00:00.000Z\", \"2013-01-01T00:00:00.000Z\", \"2015-04-01T00:00:00.000Z\", \"2014-10-01T00:00:00.000Z\", \"2013-07-01T00:00:00.000Z\", \"2015-01-01T00:00:00.000Z\", \"2013-04-01T00:00:00.000Z\", \"2014-01-01T00:00:00.000Z\", \"2015-10-01T00:00:00.000Z\", \"2014-04-01T00:00:00.000Z\", \"2016-01-01T00:00:00.000Z\", \"2016-07-01T00:00:00.000Z\", \"2016-10-01T00:00:00.000Z\"]}, {\"type\": \"bar\", \"name\": \"Firefox OS (FxOS / B2G)\", \"y\": [834, 789, 728, 668, 667, 626, 578, 558, 524, 494, 484, 452, 415, 234, 191, 129, 67, 42, 39, 11, 11, 2], \"x\": [\"2014-07-01T00:00:00.000Z\", \"2014-04-01T00:00:00.000Z\", \"2014-10-01T00:00:00.000Z\", \"2014-01-01T00:00:00.000Z\", \"2013-10-01T00:00:00.000Z\", \"2013-07-01T00:00:00.000Z\", \"2015-01-01T00:00:00.000Z\", \"2013-04-01T00:00:00.000Z\", \"2015-04-01T00:00:00.000Z\", \"2015-07-01T00:00:00.000Z\", \"2015-10-01T00:00:00.000Z\", \"2013-01-01T00:00:00.000Z\", \"2012-10-01T00:00:00.000Z\", \"2016-01-01T00:00:00.000Z\", \"2012-07-01T00:00:00.000Z\", \"2012-04-01T00:00:00.000Z\", \"2016-04-01T00:00:00.000Z\", \"2012-01-01T00:00:00.000Z\", \"2016-07-01T00:00:00.000Z\", \"2011-10-01T00:00:00.000Z\", \"2016-10-01T00:00:00.000Z\", \"2011-07-01T00:00:00.000Z\"]}, {\"type\": \"bar\", \"name\": \"IT/Ops\", \"y\": [522, 506, 494, 491, 478, 478, 464, 460, 452, 447, 446, 445, 436, 435, 434, 426, 415, 392, 376, 346, 332, 329, 327, 264, 253, 224, 203, 182], \"x\": [\"2015-07-01T00:00:00.000Z\", \"2014-04-01T00:00:00.000Z\", \"2014-01-01T00:00:00.000Z\", \"2013-07-01T00:00:00.000Z\", \"2014-07-01T00:00:00.000Z\", \"2015-01-01T00:00:00.000Z\", \"2012-04-01T00:00:00.000Z\", \"2013-10-01T00:00:00.000Z\", \"2016-04-01T00:00:00.000Z\", \"2015-04-01T00:00:00.000Z\", \"2013-04-01T00:00:00.000Z\", \"2014-10-01T00:00:00.000Z\", \"2012-07-01T00:00:00.000Z\", \"2012-10-01T00:00:00.000Z\", \"2013-01-01T00:00:00.000Z\", \"2015-10-01T00:00:00.000Z\", \"2016-01-01T00:00:00.000Z\", \"2012-01-01T00:00:00.000Z\", \"2016-07-01T00:00:00.000Z\", \"2016-10-01T00:00:00.000Z\", \"2011-10-01T00:00:00.000Z\", \"2011-07-01T00:00:00.000Z\", \"2011-04-01T00:00:00.000Z\", \"2010-07-01T00:00:00.000Z\", \"2011-01-01T00:00:00.000Z\", \"2010-04-01T00:00:00.000Z\", \"2010-10-01T00:00:00.000Z\", \"2010-01-01T00:00:00.000Z\"]}, {\"type\": \"bar\", \"name\": \"Web Properties\", \"y\": [481, 456, 440, 440, 437, 419, 416, 413, 411, 409, 408, 407, 406, 382, 380, 369, 355, 337, 334, 333, 331, 312, 300, 298, 275, 242, 223, 186], \"x\": [\"2014-04-01T00:00:00.000Z\", \"2014-01-01T00:00:00.000Z\", \"2013-04-01T00:00:00.000Z\", \"2012-01-01T00:00:00.000Z\", \"2011-07-01T00:00:00.000Z\", \"2011-04-01T00:00:00.000Z\", \"2011-01-01T00:00:00.000Z\", \"2011-10-01T00:00:00.000Z\", \"2014-10-01T00:00:00.000Z\", \"2013-07-01T00:00:00.000Z\", \"2012-04-01T00:00:00.000Z\", \"2014-07-01T00:00:00.000Z\", \"2013-10-01T00:00:00.000Z\", \"2013-01-01T00:00:00.000Z\", \"2012-07-01T00:00:00.000Z\", \"2010-07-01T00:00:00.000Z\", \"2010-04-01T00:00:00.000Z\", \"2010-01-01T00:00:00.000Z\", \"2010-10-01T00:00:00.000Z\", \"2012-10-01T00:00:00.000Z\", \"2015-01-01T00:00:00.000Z\", \"2015-07-01T00:00:00.000Z\", \"2015-10-01T00:00:00.000Z\", \"2015-04-01T00:00:00.000Z\", \"2016-01-01T00:00:00.000Z\", \"2016-04-01T00:00:00.000Z\", \"2016-07-01T00:00:00.000Z\", \"2016-10-01T00:00:00.000Z\"]}, {\"type\": \"bar\", \"name\": \"Firefox Android\", \"y\": [338, 292, 271, 264, 255, 254, 251, 248, 243, 232, 224, 220, 218, 217, 210, 209, 202, 200, 196, 193, 186, 177, 143, 131, 101, 97, 86, 74], \"x\": [\"2012-04-01T00:00:00.000Z\", \"2012-07-01T00:00:00.000Z\", \"2013-01-01T00:00:00.000Z\", \"2012-10-01T00:00:00.000Z\", \"2013-07-01T00:00:00.000Z\", \"2013-10-01T00:00:00.000Z\", \"2013-04-01T00:00:00.000Z\", \"2014-10-01T00:00:00.000Z\", \"2014-07-01T00:00:00.000Z\", \"2014-04-01T00:00:00.000Z\", \"2014-01-01T00:00:00.000Z\", \"2015-01-01T00:00:00.000Z\", \"2011-10-01T00:00:00.000Z\", \"2012-01-01T00:00:00.000Z\", \"2015-10-01T00:00:00.000Z\", \"2015-07-01T00:00:00.000Z\", \"2016-01-01T00:00:00.000Z\", \"2016-07-01T00:00:00.000Z\", \"2016-10-01T00:00:00.000Z\", \"2016-04-01T00:00:00.000Z\", \"2011-07-01T00:00:00.000Z\", \"2015-04-01T00:00:00.000Z\", \"2010-10-01T00:00:00.000Z\", \"2011-01-01T00:00:00.000Z\", \"2010-07-01T00:00:00.000Z\", \"2011-04-01T00:00:00.000Z\", \"2010-04-01T00:00:00.000Z\", \"2010-01-01T00:00:00.000Z\"]}, {\"type\": \"bar\", \"name\": \"Mozilla Developer Network (MDN)\", \"y\": [208, 194, 173, 169, 168, 138, 134, 126, 126, 121, 115, 113, 109, 107, 107, 105, 99, 79, 72, 61, 60, 57, 45, 43, 41, 32, 18, 18], \"x\": [\"2013-10-01T00:00:00.000Z\", \"2016-01-01T00:00:00.000Z\", \"2016-07-01T00:00:00.000Z\", \"2012-07-01T00:00:00.000Z\", \"2016-04-01T00:00:00.000Z\", \"2015-10-01T00:00:00.000Z\", \"2016-10-01T00:00:00.000Z\", \"2013-04-01T00:00:00.000Z\", \"2014-01-01T00:00:00.000Z\", \"2015-07-01T00:00:00.000Z\", \"2012-10-01T00:00:00.000Z\", \"2014-04-01T00:00:00.000Z\", \"2013-01-01T00:00:00.000Z\", \"2014-07-01T00:00:00.000Z\", \"2015-01-01T00:00:00.000Z\", \"2013-07-01T00:00:00.000Z\", \"2015-04-01T00:00:00.000Z\", \"2014-10-01T00:00:00.000Z\", \"2012-01-01T00:00:00.000Z\", \"2012-04-01T00:00:00.000Z\", \"2011-10-01T00:00:00.000Z\", \"2011-04-01T00:00:00.000Z\", \"2011-07-01T00:00:00.000Z\", \"2010-10-01T00:00:00.000Z\", \"2011-01-01T00:00:00.000Z\", \"2010-07-01T00:00:00.000Z\", \"2010-04-01T00:00:00.000Z\", \"2010-01-01T00:00:00.000Z\"]}, {\"type\": \"bar\", \"name\": \"Developer Tools\", \"y\": [206, 199, 199, 195, 185, 180, 179, 179, 165, 164, 156, 151, 144, 138, 131, 106, 85, 81, 78, 77, 49, 22, 20, 19, 15, 11, 2, 1], \"x\": [\"2015-01-01T00:00:00.000Z\", \"2014-10-01T00:00:00.000Z\", \"2014-07-01T00:00:00.000Z\", \"2015-04-01T00:00:00.000Z\", \"2016-01-01T00:00:00.000Z\", \"2014-04-01T00:00:00.000Z\", \"2016-10-01T00:00:00.000Z\", \"2014-01-01T00:00:00.000Z\", \"2015-07-01T00:00:00.000Z\", \"2013-10-01T00:00:00.000Z\", \"2016-04-01T00:00:00.000Z\", \"2016-07-01T00:00:00.000Z\", \"2015-10-01T00:00:00.000Z\", \"2013-07-01T00:00:00.000Z\", \"2013-04-01T00:00:00.000Z\", \"2013-01-01T00:00:00.000Z\", \"2012-04-01T00:00:00.000Z\", \"2012-07-01T00:00:00.000Z\", \"2012-10-01T00:00:00.000Z\", \"2012-01-01T00:00:00.000Z\", \"2011-10-01T00:00:00.000Z\", \"2011-07-01T00:00:00.000Z\", \"2011-01-01T00:00:00.000Z\", \"2011-04-01T00:00:00.000Z\", \"2010-07-01T00:00:00.000Z\", \"2010-10-01T00:00:00.000Z\", \"2010-04-01T00:00:00.000Z\", \"2010-01-01T00:00:00.000Z\"]}, {\"type\": \"bar\", \"name\": \"Quality Assurance\", \"y\": [183, 175, 157, 150, 148, 146, 146, 145, 145, 134, 134, 132, 127, 122, 118, 110, 105, 104, 98, 95, 89, 86, 86, 75, 72, 70, 69, 63], \"x\": [\"2014-07-01T00:00:00.000Z\", \"2014-04-01T00:00:00.000Z\", \"2014-10-01T00:00:00.000Z\", \"2014-01-01T00:00:00.000Z\", \"2016-01-01T00:00:00.000Z\", \"2013-10-01T00:00:00.000Z\", \"2013-07-01T00:00:00.000Z\", \"2015-07-01T00:00:00.000Z\", \"2015-10-01T00:00:00.000Z\", \"2015-04-01T00:00:00.000Z\", \"2015-01-01T00:00:00.000Z\", \"2016-04-01T00:00:00.000Z\", \"2013-04-01T00:00:00.000Z\", \"2013-01-01T00:00:00.000Z\", \"2016-07-01T00:00:00.000Z\", \"2012-10-01T00:00:00.000Z\", \"2012-04-01T00:00:00.000Z\", \"2012-07-01T00:00:00.000Z\", \"2016-10-01T00:00:00.000Z\", \"2012-01-01T00:00:00.000Z\", \"2011-07-01T00:00:00.000Z\", \"2011-04-01T00:00:00.000Z\", \"2010-07-01T00:00:00.000Z\", \"2011-10-01T00:00:00.000Z\", \"2011-01-01T00:00:00.000Z\", \"2010-10-01T00:00:00.000Z\", \"2010-04-01T00:00:00.000Z\", \"2010-01-01T00:00:00.000Z\"]}, {\"type\": \"bar\", \"name\": \"Addons/Web Extensions\", \"y\": [178, 165, 159, 157, 141, 139, 138, 136, 133, 131, 131, 128, 127, 123, 122, 119, 117, 117, 115, 114, 113, 113, 103, 100, 62, 36, 33, 21], \"x\": [\"2011-07-01T00:00:00.000Z\", \"2011-01-01T00:00:00.000Z\", \"2012-01-01T00:00:00.000Z\", \"2015-07-01T00:00:00.000Z\", \"2011-10-01T00:00:00.000Z\", \"2014-04-01T00:00:00.000Z\", \"2011-04-01T00:00:00.000Z\", \"2013-04-01T00:00:00.000Z\", \"2010-01-01T00:00:00.000Z\", \"2013-07-01T00:00:00.000Z\", \"2010-04-01T00:00:00.000Z\", \"2012-07-01T00:00:00.000Z\", \"2012-10-01T00:00:00.000Z\", \"2013-10-01T00:00:00.000Z\", \"2015-04-01T00:00:00.000Z\", \"2014-01-01T00:00:00.000Z\", \"2012-04-01T00:00:00.000Z\", \"2014-07-01T00:00:00.000Z\", \"2013-01-01T00:00:00.000Z\", \"2010-10-01T00:00:00.000Z\", \"2015-10-01T00:00:00.000Z\", \"2010-07-01T00:00:00.000Z\", \"2014-10-01T00:00:00.000Z\", \"2015-01-01T00:00:00.000Z\", \"2016-01-01T00:00:00.000Z\", \"2016-04-01T00:00:00.000Z\", \"2016-07-01T00:00:00.000Z\", \"2016-10-01T00:00:00.000Z\"]}, {\"type\": \"bar\", \"name\": \"Release engineering\", \"y\": [152, 137, 136, 136, 131, 128, 128, 127, 127, 123, 120, 118, 118, 116, 111, 110, 108, 105, 104, 101, 100, 99, 98, 95, 91, 91, 77, 65], \"x\": [\"2014-10-01T00:00:00.000Z\", \"2014-07-01T00:00:00.000Z\", \"2013-07-01T00:00:00.000Z\", \"2014-01-01T00:00:00.000Z\", \"2014-04-01T00:00:00.000Z\", \"2015-01-01T00:00:00.000Z\", \"2015-07-01T00:00:00.000Z\", \"2016-01-01T00:00:00.000Z\", \"2016-04-01T00:00:00.000Z\", \"2013-01-01T00:00:00.000Z\", \"2015-10-01T00:00:00.000Z\", \"2016-07-01T00:00:00.000Z\", \"2013-10-01T00:00:00.000Z\", \"2015-04-01T00:00:00.000Z\", \"2013-04-01T00:00:00.000Z\", \"2012-04-01T00:00:00.000Z\", \"2012-10-01T00:00:00.000Z\", \"2010-07-01T00:00:00.000Z\", \"2012-01-01T00:00:00.000Z\", \"2011-07-01T00:00:00.000Z\", \"2016-10-01T00:00:00.000Z\", \"2011-10-01T00:00:00.000Z\", \"2011-04-01T00:00:00.000Z\", \"2011-01-01T00:00:00.000Z\", \"2012-07-01T00:00:00.000Z\", \"2010-10-01T00:00:00.000Z\", \"2010-04-01T00:00:00.000Z\", \"2010-01-01T00:00:00.000Z\"]}, {\"type\": \"bar\", \"name\": \"Technical/Developer Evangelism\", \"y\": [128, 117, 115, 114, 107, 106, 101, 96, 96, 94, 93, 85, 84, 80, 79, 75, 72, 59, 54, 52, 49, 48, 46, 44, 43, 41, 37, 27], \"x\": [\"2015-01-01T00:00:00.000Z\", \"2014-04-01T00:00:00.000Z\", \"2015-04-01T00:00:00.000Z\", \"2014-01-01T00:00:00.000Z\", \"2014-10-01T00:00:00.000Z\", \"2014-07-01T00:00:00.000Z\", \"2015-07-01T00:00:00.000Z\", \"2013-04-01T00:00:00.000Z\", \"2011-01-01T00:00:00.000Z\", \"2012-04-01T00:00:00.000Z\", \"2012-10-01T00:00:00.000Z\", \"2013-10-01T00:00:00.000Z\", \"2013-07-01T00:00:00.000Z\", \"2012-01-01T00:00:00.000Z\", \"2013-01-01T00:00:00.000Z\", \"2015-10-01T00:00:00.000Z\", \"2012-07-01T00:00:00.000Z\", \"2011-10-01T00:00:00.000Z\", \"2016-07-01T00:00:00.000Z\", \"2016-04-01T00:00:00.000Z\", \"2011-04-01T00:00:00.000Z\", \"2016-01-01T00:00:00.000Z\", \"2011-07-01T00:00:00.000Z\", \"2016-10-01T00:00:00.000Z\", \"2010-07-01T00:00:00.000Z\", \"2010-10-01T00:00:00.000Z\", \"2010-01-01T00:00:00.000Z\", \"2010-04-01T00:00:00.000Z\"]}, {\"type\": \"bar\", \"name\": \"Localization\", \"y\": [127, 120, 116, 109, 104, 96, 93, 89, 86, 86, 83, 83, 80, 79, 72, 71, 69, 69, 69, 67, 67, 67, 66, 65, 64, 60, 50, 47], \"x\": [\"2014-04-01T00:00:00.000Z\", \"2014-07-01T00:00:00.000Z\", \"2013-10-01T00:00:00.000Z\", \"2013-07-01T00:00:00.000Z\", \"2015-01-01T00:00:00.000Z\", \"2014-01-01T00:00:00.000Z\", \"2011-01-01T00:00:00.000Z\", \"2014-10-01T00:00:00.000Z\", \"2015-04-01T00:00:00.000Z\", \"2015-10-01T00:00:00.000Z\", \"2011-10-01T00:00:00.000Z\", \"2010-10-01T00:00:00.000Z\", \"2015-07-01T00:00:00.000Z\", \"2012-01-01T00:00:00.000Z\", \"2016-04-01T00:00:00.000Z\", \"2013-04-01T00:00:00.000Z\", \"2010-07-01T00:00:00.000Z\", \"2010-01-01T00:00:00.000Z\", \"2011-04-01T00:00:00.000Z\", \"2011-07-01T00:00:00.000Z\", \"2010-04-01T00:00:00.000Z\", \"2016-01-01T00:00:00.000Z\", \"2013-01-01T00:00:00.000Z\", \"2012-04-01T00:00:00.000Z\", \"2012-10-01T00:00:00.000Z\", \"2012-07-01T00:00:00.000Z\", \"2016-07-01T00:00:00.000Z\", \"2016-10-01T00:00:00.000Z\"]}, {\"type\": \"bar\", \"name\": \"Web Literacy\", \"y\": [111, 98, 85, 75, 74, 73, 68, 29, 24, 21, 19, 18, 8, 8, 6, 6, 6, 5, 5], \"x\": [\"2014-07-01T00:00:00.000Z\", \"2014-04-01T00:00:00.000Z\", \"2013-10-01T00:00:00.000Z\", \"2013-07-01T00:00:00.000Z\", \"2014-01-01T00:00:00.000Z\", \"2014-10-01T00:00:00.000Z\", \"2013-04-01T00:00:00.000Z\", \"2015-01-01T00:00:00.000Z\", \"2015-04-01T00:00:00.000Z\", \"2015-07-01T00:00:00.000Z\", \"2012-04-01T00:00:00.000Z\", \"2013-01-01T00:00:00.000Z\", \"2016-04-01T00:00:00.000Z\", \"2016-10-01T00:00:00.000Z\", \"2012-07-01T00:00:00.000Z\", \"2016-07-01T00:00:00.000Z\", \"2015-10-01T00:00:00.000Z\", \"2012-10-01T00:00:00.000Z\", \"2016-01-01T00:00:00.000Z\"]}, {\"type\": \"bar\", \"name\": \"Firefox iOS\", \"y\": [72, 72, 60, 51, 48, 48, 42, 36, 11], \"x\": [\"2016-01-01T00:00:00.000Z\", \"2015-10-01T00:00:00.000Z\", \"2015-07-01T00:00:00.000Z\", \"2016-07-01T00:00:00.000Z\", \"2016-04-01T00:00:00.000Z\", \"2015-04-01T00:00:00.000Z\", \"2016-10-01T00:00:00.000Z\", \"2015-01-01T00:00:00.000Z\", \"2014-10-01T00:00:00.000Z\"]}, {\"type\": \"bar\", \"name\": \"Marketing / Social Media\", \"y\": [55, 50, 42, 41, 40, 37, 36, 36, 34, 33, 32, 32, 30, 29, 29, 27, 27, 24, 23, 23, 23, 20, 9, 9, 8, 5, 4, 3], \"x\": [\"2012-01-01T00:00:00.000Z\", \"2011-10-01T00:00:00.000Z\", \"2014-04-01T00:00:00.000Z\", \"2012-07-01T00:00:00.000Z\", \"2014-07-01T00:00:00.000Z\", \"2012-04-01T00:00:00.000Z\", \"2011-07-01T00:00:00.000Z\", \"2012-10-01T00:00:00.000Z\", \"2015-01-01T00:00:00.000Z\", \"2011-04-01T00:00:00.000Z\", \"2014-10-01T00:00:00.000Z\", \"2013-10-01T00:00:00.000Z\", \"2014-01-01T00:00:00.000Z\", \"2013-07-01T00:00:00.000Z\", \"2015-07-01T00:00:00.000Z\", \"2015-10-01T00:00:00.000Z\", \"2013-04-01T00:00:00.000Z\", \"2016-10-01T00:00:00.000Z\", \"2013-01-01T00:00:00.000Z\", \"2011-01-01T00:00:00.000Z\", \"2015-04-01T00:00:00.000Z\", \"2016-01-01T00:00:00.000Z\", \"2016-04-01T00:00:00.000Z\", \"2016-07-01T00:00:00.000Z\", \"2010-10-01T00:00:00.000Z\", \"2010-01-01T00:00:00.000Z\", \"2010-07-01T00:00:00.000Z\", \"2010-04-01T00:00:00.000Z\"]}, {\"type\": \"bar\", \"name\": \"Mozilla Local/Regional communities\", \"y\": [51, 44, 43, 42, 40, 35, 31, 31, 28, 25, 25, 24, 21, 21, 15, 11, 9, 9, 8, 8, 5, 4, 3, 2, 2, 2, 1, 1], \"x\": [\"2014-10-01T00:00:00.000Z\", \"2014-07-01T00:00:00.000Z\", \"2015-01-01T00:00:00.000Z\", \"2014-01-01T00:00:00.000Z\", \"2014-04-01T00:00:00.000Z\", \"2012-07-01T00:00:00.000Z\", \"2013-10-01T00:00:00.000Z\", \"2013-07-01T00:00:00.000Z\", \"2013-04-01T00:00:00.000Z\", \"2013-01-01T00:00:00.000Z\", \"2012-04-01T00:00:00.000Z\", \"2012-01-01T00:00:00.000Z\", \"2015-04-01T00:00:00.000Z\", \"2012-10-01T00:00:00.000Z\", \"2015-07-01T00:00:00.000Z\", \"2016-07-01T00:00:00.000Z\", \"2015-10-01T00:00:00.000Z\", \"2016-04-01T00:00:00.000Z\", \"2016-01-01T00:00:00.000Z\", \"2016-10-01T00:00:00.000Z\", \"2010-01-01T00:00:00.000Z\", \"2011-04-01T00:00:00.000Z\", \"2011-07-01T00:00:00.000Z\", \"2011-10-01T00:00:00.000Z\", \"2011-01-01T00:00:00.000Z\", \"2010-07-01T00:00:00.000Z\", \"2010-10-01T00:00:00.000Z\", \"2010-04-01T00:00:00.000Z\"]}, {\"type\": \"bar\", \"name\": \"Mozilla Creative & Design\", \"y\": [50, 45, 43, 41, 39, 39, 37, 35, 33, 33, 32, 32, 30, 30, 29, 29, 29, 26, 26, 23, 15, 14, 8, 6, 5, 3, 3], \"x\": [\"2014-04-01T00:00:00.000Z\", \"2014-07-01T00:00:00.000Z\", \"2014-01-01T00:00:00.000Z\", \"2012-01-01T00:00:00.000Z\", \"2013-10-01T00:00:00.000Z\", \"2013-07-01T00:00:00.000Z\", \"2011-10-01T00:00:00.000Z\", \"2012-04-01T00:00:00.000Z\", \"2015-01-01T00:00:00.000Z\", \"2015-04-01T00:00:00.000Z\", \"2014-10-01T00:00:00.000Z\", \"2012-10-01T00:00:00.000Z\", \"2011-07-01T00:00:00.000Z\", \"2015-07-01T00:00:00.000Z\", \"2012-07-01T00:00:00.000Z\", \"2013-01-01T00:00:00.000Z\", \"2011-01-01T00:00:00.000Z\", \"2015-10-01T00:00:00.000Z\", \"2011-04-01T00:00:00.000Z\", \"2013-04-01T00:00:00.000Z\", \"2010-10-01T00:00:00.000Z\", \"2010-07-01T00:00:00.000Z\", \"2016-01-01T00:00:00.000Z\", \"2016-04-01T00:00:00.000Z\", \"2016-07-01T00:00:00.000Z\", \"2010-04-01T00:00:00.000Z\", \"2016-10-01T00:00:00.000Z\"]}, {\"type\": \"bar\", \"name\": \"Mozilla Foundation\", \"y\": [27, 15, 14, 11, 6, 6, 5, 4, 4, 3, 3, 2, 2, 1], \"x\": [\"2014-10-01T00:00:00.000Z\", \"2014-04-01T00:00:00.000Z\", \"2014-07-01T00:00:00.000Z\", \"2015-01-01T00:00:00.000Z\", \"2016-07-01T00:00:00.000Z\", \"2014-01-01T00:00:00.000Z\", \"2013-04-01T00:00:00.000Z\", \"2013-10-01T00:00:00.000Z\", \"2013-07-01T00:00:00.000Z\", \"2016-01-01T00:00:00.000Z\", \"2015-10-01T00:00:00.000Z\", \"2016-10-01T00:00:00.000Z\", \"2015-04-01T00:00:00.000Z\", \"2015-07-01T00:00:00.000Z\"]}, {\"type\": \"bar\", \"name\": \"Firefox Focus\", \"y\": [14, 3, 3, 1, 1], \"x\": [\"2016-10-01T00:00:00.000Z\", \"2016-01-01T00:00:00.000Z\", \"2016-07-01T00:00:00.000Z\", \"2015-10-01T00:00:00.000Z\", \"2016-04-01T00:00:00.000Z\"]}, {\"type\": \"bar\", \"name\": \"Mozilla support (SUMO)\", \"y\": [14, 13, 12, 12, 12, 10, 9, 9, 8, 7, 5, 5, 3, 2, 2, 1, 1, 1, 1, 1, 1, 1], \"x\": [\"2010-07-01T00:00:00.000Z\", \"2011-01-01T00:00:00.000Z\", \"2011-07-01T00:00:00.000Z\", \"2010-10-01T00:00:00.000Z\", \"2010-01-01T00:00:00.000Z\", \"2011-04-01T00:00:00.000Z\", \"2012-04-01T00:00:00.000Z\", \"2011-10-01T00:00:00.000Z\", \"2010-04-01T00:00:00.000Z\", \"2014-01-01T00:00:00.000Z\", \"2016-10-01T00:00:00.000Z\", \"2012-07-01T00:00:00.000Z\", \"2012-01-01T00:00:00.000Z\", \"2012-10-01T00:00:00.000Z\", \"2015-10-01T00:00:00.000Z\", \"2013-04-01T00:00:00.000Z\", \"2014-10-01T00:00:00.000Z\", \"2014-07-01T00:00:00.000Z\", \"2014-04-01T00:00:00.000Z\", \"2013-07-01T00:00:00.000Z\", \"2013-01-01T00:00:00.000Z\", \"2016-04-01T00:00:00.000Z\"]}, {\"type\": \"bar\", \"name\": \"Connected devices & IoT\", \"y\": [8, 4, 2, 2], \"x\": [\"2016-04-01T00:00:00.000Z\", \"2016-07-01T00:00:00.000Z\", \"2016-01-01T00:00:00.000Z\", \"2016-10-01T00:00:00.000Z\"]}, {\"type\": \"bar\", \"name\": \"Web Compatibility\", \"y\": [6, 4, 1], \"x\": [\"2016-10-01T00:00:00.000Z\", \"2016-07-01T00:00:00.000Z\", \"2014-04-01T00:00:00.000Z\"]}, {\"type\": \"bar\", \"name\": \"Advocacy and policy\", \"y\": [4, 2, 2, 2, 2, 1], \"x\": [\"2013-10-01T00:00:00.000Z\", \"2014-10-01T00:00:00.000Z\", \"2013-04-01T00:00:00.000Z\", \"2014-04-01T00:00:00.000Z\", \"2016-04-01T00:00:00.000Z\", \"2015-04-01T00:00:00.000Z\"]}, {\"type\": \"bar\", \"name\": \"Rust\", \"y\": [4, 2], \"x\": [\"2010-01-01T00:00:00.000Z\", \"2010-04-01T00:00:00.000Z\"]}, {\"type\": \"bar\", \"name\": \"Firefox Student Ambassadors\", \"y\": [1], \"x\": [\"2015-07-01T00:00:00.000Z\"]}], {\"barmode\": \"stack\"}, {\"showLink\": true, \"linkText\": \"Export to plot.ly\"})});</script>"
      ]
     },
     "metadata": {},
     "output_type": "display_data"
    }
   ],
   "source": [
    "s = ut.create_search(es_conn, 'bugzilla')\n",
    "\n",
    "s = s.filter('range', creation_ts={'gte': initial_date, 'lt': 'now/y'})\n",
    "\n",
    "# Unique count of Authors by Project\n",
    "s.aggs.bucket('product', 'terms', field='product', size=100000)\\\n",
    "    .bucket('component', 'terms', field='component', size=100000)\\\n",
    "    .bucket('time', 'date_histogram', field='creation_ts', interval='quarter')\\\n",
    "    .bucket('contributors', 'terms', field='author_uuid', size=100000)\n",
    "result = s.execute()\n",
    "\n",
    "print('q1')\n",
    "\n",
    "# Process results to build a DataFrame\n",
    "i = 0\n",
    "repos_evo_df = pandas.DataFrame(columns=['Product', 'Component', 'Time', 'uuid'])\n",
    "for product in result.to_dict()['aggregations']['product']['buckets']:\n",
    "    for component in product['component']['buckets']:\n",
    "        for time in component['time']['buckets']:\n",
    "            for author in time['contributors']['buckets']:\n",
    "                repos_evo_df.loc[len(repos_evo_df)] = [product['key'], component['key'], \n",
    "                                                       time['key_as_string'], author['key']]\n",
    "                i += 1\n",
    "                if i % 10000 == 0:\n",
    "                    print(i, end=', ')\n",
    "\n",
    "merged_evo_df = repos_evo_df.merge(projects['Bugzilla'], on=['Product', 'Component'], how='left')\n",
    "\n",
    "# Group By project\n",
    "projects_evo_df = merged_evo_df.groupby(['Project', 'Time']).agg({'uuid': pandas.Series.nunique,\n",
    "                                                                  'Product': pandas.Series.nunique,\n",
    "                                                                  'Component': pandas.Series.nunique})\n",
    "projects_evo_df = projects_evo_df.sort_values(by='uuid', ascending=0)    \n",
    "\n",
    "# Plot it\n",
    "ut.print_stacked_bar(df=projects_evo_df.reset_index(), time_column='Time', value_column='uuid',\n",
    "                  group_column='Project')"
   ]
  },
  {
   "cell_type": "markdown",
   "metadata": {},
   "source": [
    "# List of organizations\n",
    "## List of Organizations: Git\n"
   ]
  },
  {
   "cell_type": "code",
   "execution_count": 12,
   "metadata": {
    "collapsed": false,
    "scrolled": true
   },
   "outputs": [],
   "source": [
    "s = ut.create_search(es_conn, 'git')\n",
    "\n",
    "# Unique count of Commits by Project\n",
    "s.aggs.bucket('organizations', 'terms', field='author_org_name', size=100)\\\n",
    "    .metric('commits', 'cardinality', field='hash', precision_threshold=100000)\n",
    "result = s.execute()"
   ]
  },
  {
   "cell_type": "code",
   "execution_count": 13,
   "metadata": {
    "collapsed": false,
    "scrolled": true
   },
   "outputs": [
    {
     "data": {
      "text/html": [
       "<div>\n",
       "<table border=\"1\" class=\"dataframe\">\n",
       "  <thead>\n",
       "    <tr style=\"text-align: right;\">\n",
       "      <th></th>\n",
       "      <th>Organization</th>\n",
       "      <th># Commits</th>\n",
       "    </tr>\n",
       "  </thead>\n",
       "  <tbody>\n",
       "    <tr>\n",
       "      <th>0</th>\n",
       "      <td>Mozilla Staff</td>\n",
       "      <td>1140468</td>\n",
       "    </tr>\n",
       "    <tr>\n",
       "      <th>1</th>\n",
       "      <td>Community</td>\n",
       "      <td>438800</td>\n",
       "    </tr>\n",
       "    <tr>\n",
       "      <th>2</th>\n",
       "      <td>Code Sheriff</td>\n",
       "      <td>45219</td>\n",
       "    </tr>\n",
       "  </tbody>\n",
       "</table>\n",
       "</div>"
      ],
      "text/plain": [
       "    Organization  # Commits\n",
       "0  Mozilla Staff    1140468\n",
       "1      Community     438800\n",
       "2   Code Sheriff      45219"
      ]
     },
     "execution_count": 13,
     "metadata": {},
     "output_type": "execute_result"
    }
   ],
   "source": [
    "ut.to_simple_df(result=result, group_field='organizations', value_field='commits', \\\n",
    "         group_column='Organization', value_column='# Commits')"
   ]
  },
  {
   "cell_type": "markdown",
   "metadata": {},
   "source": [
    "# Contributors by organization\n",
    "## Contributors by Organization: Git"
   ]
  },
  {
   "cell_type": "code",
   "execution_count": 14,
   "metadata": {
    "collapsed": false,
    "scrolled": true
   },
   "outputs": [],
   "source": [
    "s = ut.create_search(es_conn, 'git')\n",
    "\n",
    "# Unique count of Commits by Project\n",
    "s.aggs.bucket('organizations', 'terms', field='author_org_name', size=100).\\\n",
    "    metric('contributors', 'cardinality', field='author_uuid', precision_threshold=100000)\n",
    "result = s.execute()"
   ]
  },
  {
   "cell_type": "code",
   "execution_count": 15,
   "metadata": {
    "collapsed": false,
    "scrolled": true
   },
   "outputs": [
    {
     "data": {
      "text/html": [
       "<div>\n",
       "<table border=\"1\" class=\"dataframe\">\n",
       "  <thead>\n",
       "    <tr style=\"text-align: right;\">\n",
       "      <th></th>\n",
       "      <th>Organization</th>\n",
       "      <th># Contributors</th>\n",
       "    </tr>\n",
       "  </thead>\n",
       "  <tbody>\n",
       "    <tr>\n",
       "      <th>0</th>\n",
       "      <td>Mozilla Staff</td>\n",
       "      <td>2010</td>\n",
       "    </tr>\n",
       "    <tr>\n",
       "      <th>1</th>\n",
       "      <td>Community</td>\n",
       "      <td>13027</td>\n",
       "    </tr>\n",
       "    <tr>\n",
       "      <th>2</th>\n",
       "      <td>Code Sheriff</td>\n",
       "      <td>8</td>\n",
       "    </tr>\n",
       "  </tbody>\n",
       "</table>\n",
       "</div>"
      ],
      "text/plain": [
       "    Organization  # Contributors\n",
       "0  Mozilla Staff            2010\n",
       "1      Community           13027\n",
       "2   Code Sheriff               8"
      ]
     },
     "execution_count": 15,
     "metadata": {},
     "output_type": "execute_result"
    }
   ],
   "source": [
    "ut.to_simple_df(result=result, group_field='organizations', value_field='contributors', \\\n",
    "         group_column='Organization', value_column='# Contributors')"
   ]
  },
  {
   "cell_type": "markdown",
   "metadata": {},
   "source": [
    "## Contributors by Organization: Bugzilla"
   ]
  },
  {
   "cell_type": "code",
   "execution_count": 16,
   "metadata": {
    "collapsed": false,
    "scrolled": true
   },
   "outputs": [],
   "source": [
    "s = ut.create_search(es_conn, 'bugzilla')\n",
    "\n",
    "s = ut.add_bot_filter(s)\n",
    "\n",
    "# Unique count of Commits by Project (max 100 projects)\n",
    "s.aggs.bucket('organizations', 'terms', field='author_org_name', size=100).\\\n",
    "    metric('contributors', 'cardinality', field='author_uuid', precision_threshold=100000)\n",
    "result = s.execute()"
   ]
  },
  {
   "cell_type": "code",
   "execution_count": 17,
   "metadata": {
    "collapsed": false,
    "scrolled": true
   },
   "outputs": [
    {
     "data": {
      "text/html": [
       "<div>\n",
       "<table border=\"1\" class=\"dataframe\">\n",
       "  <thead>\n",
       "    <tr style=\"text-align: right;\">\n",
       "      <th></th>\n",
       "      <th>Organization</th>\n",
       "      <th># Contributors</th>\n",
       "    </tr>\n",
       "  </thead>\n",
       "  <tbody>\n",
       "    <tr>\n",
       "      <th>0</th>\n",
       "      <td>Community</td>\n",
       "      <td>182365</td>\n",
       "    </tr>\n",
       "    <tr>\n",
       "      <th>1</th>\n",
       "      <td>Mozilla Staff</td>\n",
       "      <td>2801</td>\n",
       "    </tr>\n",
       "    <tr>\n",
       "      <th>2</th>\n",
       "      <td>Code Sheriff</td>\n",
       "      <td>8</td>\n",
       "    </tr>\n",
       "    <tr>\n",
       "      <th>3</th>\n",
       "      <td>Mozilla Reps</td>\n",
       "      <td>3</td>\n",
       "    </tr>\n",
       "  </tbody>\n",
       "</table>\n",
       "</div>"
      ],
      "text/plain": [
       "    Organization  # Contributors\n",
       "0      Community          182365\n",
       "1  Mozilla Staff            2801\n",
       "2   Code Sheriff               8\n",
       "3   Mozilla Reps               3"
      ]
     },
     "execution_count": 17,
     "metadata": {},
     "output_type": "execute_result"
    }
   ],
   "source": [
    "ut.to_simple_df(result=result, group_field='organizations', value_field='contributors', \\\n",
    "         group_column='Organization', value_column='# Contributors')"
   ]
  },
  {
   "cell_type": "markdown",
   "metadata": {},
   "source": [
    "# Number of contributors by organization over time\n",
    "## Contributors by Org over Time: Git"
   ]
  },
  {
   "cell_type": "code",
   "execution_count": 7,
   "metadata": {
    "collapsed": false,
    "scrolled": true
   },
   "outputs": [
    {
     "name": "stdout",
     "output_type": "stream",
     "text": [
      "Mozilla Staff -> Employees\n",
      "Community -> Non-Employees\n",
      "Code Sheriff -> Employees\n"
     ]
    }
   ],
   "source": [
    "s = ut.create_search(es_conn, 'git')\n",
    "\n",
    "# Unique count of Commits by Project\n",
    "s = s.filter('range', grimoire_creation_date={'gte': initial_date, 'lt': 'now/y'})\n",
    "s.aggs.bucket('org', 'terms', field='author_org_name', size=10)\\\n",
    "    .bucket('time', 'date_histogram', field='grimoire_creation_date', interval='quarter')\\\n",
    "    .metric('contributors', 'cardinality', field='author_uuid', precision_threshold=100000)\n",
    "\n",
    "result = s.execute()\n",
    "\n",
    "#authors_org_df = ut.stack_by(result=result, group_column='Organization', subgroup_column='Time', \n",
    "#                             value_column='# Contributors', group_field='org', subgroup_field='time',\n",
    "#                             value_field='contributors')\n",
    "authors_org_df = ut.stack_by_cusum(result=result, group_column='Organization', subgroup_column='Time',\\\n",
    "                                value_column='# Contributors', group_field='org', subgroup_field='time',\\\n",
    "                                metric_field='contributors', staff_org_names=['Mozilla Staff', 'Code Sheriff'],\\\n",
    "                                staff_org='Employees')\n"
   ]
  },
  {
   "cell_type": "code",
   "execution_count": 8,
   "metadata": {
    "collapsed": false,
    "scrolled": false
   },
   "outputs": [
    {
     "data": {
      "text/html": [
       "<script>requirejs.config({paths: { 'plotly': ['https://cdn.plot.ly/plotly-latest.min']},});if(!window.Plotly) {{require(['plotly'],function(plotly) {window.Plotly=plotly;});}}</script>"
      ],
      "text/vnd.plotly.v1+html": [
       "<script>requirejs.config({paths: { 'plotly': ['https://cdn.plot.ly/plotly-latest.min']},});if(!window.Plotly) {{require(['plotly'],function(plotly) {window.Plotly=plotly;});}}</script>"
      ]
     },
     "metadata": {},
     "output_type": "display_data"
    },
    {
     "data": {
      "application/vnd.plotly.v1+json": {
       "data": [
        {
         "name": "Employees",
         "type": "bar",
         "x": [
          "2010-01-01T00:00:00.000Z",
          "2010-04-01T00:00:00.000Z",
          "2010-07-01T00:00:00.000Z",
          "2010-10-01T00:00:00.000Z",
          "2011-01-01T00:00:00.000Z",
          "2011-04-01T00:00:00.000Z",
          "2011-07-01T00:00:00.000Z",
          "2011-10-01T00:00:00.000Z",
          "2012-01-01T00:00:00.000Z",
          "2012-04-01T00:00:00.000Z",
          "2012-07-01T00:00:00.000Z",
          "2012-10-01T00:00:00.000Z",
          "2013-01-01T00:00:00.000Z",
          "2013-04-01T00:00:00.000Z",
          "2013-07-01T00:00:00.000Z",
          "2013-10-01T00:00:00.000Z",
          "2014-01-01T00:00:00.000Z",
          "2014-04-01T00:00:00.000Z",
          "2014-07-01T00:00:00.000Z",
          "2014-10-01T00:00:00.000Z",
          "2015-01-01T00:00:00.000Z",
          "2015-04-01T00:00:00.000Z",
          "2015-07-01T00:00:00.000Z",
          "2015-10-01T00:00:00.000Z",
          "2016-01-01T00:00:00.000Z",
          "2016-04-01T00:00:00.000Z",
          "2016-07-01T00:00:00.000Z",
          "2016-10-01T00:00:00.000Z"
         ],
         "y": [
          270,
          297,
          335,
          313,
          359,
          392,
          443,
          441,
          491,
          554,
          569,
          579,
          613,
          696,
          708,
          733,
          763,
          802,
          794,
          753,
          755,
          737,
          744,
          727,
          737,
          743,
          733,
          656
         ]
        },
        {
         "name": "Non-Employees",
         "type": "bar",
         "x": [
          "2010-01-01T00:00:00.000Z",
          "2010-04-01T00:00:00.000Z",
          "2010-07-01T00:00:00.000Z",
          "2010-10-01T00:00:00.000Z",
          "2011-01-01T00:00:00.000Z",
          "2011-04-01T00:00:00.000Z",
          "2011-07-01T00:00:00.000Z",
          "2011-10-01T00:00:00.000Z",
          "2012-01-01T00:00:00.000Z",
          "2012-04-01T00:00:00.000Z",
          "2012-07-01T00:00:00.000Z",
          "2012-10-01T00:00:00.000Z",
          "2013-01-01T00:00:00.000Z",
          "2013-04-01T00:00:00.000Z",
          "2013-07-01T00:00:00.000Z",
          "2013-10-01T00:00:00.000Z",
          "2014-01-01T00:00:00.000Z",
          "2014-04-01T00:00:00.000Z",
          "2014-07-01T00:00:00.000Z",
          "2014-10-01T00:00:00.000Z",
          "2015-01-01T00:00:00.000Z",
          "2015-04-01T00:00:00.000Z",
          "2015-07-01T00:00:00.000Z",
          "2015-10-01T00:00:00.000Z",
          "2016-01-01T00:00:00.000Z",
          "2016-04-01T00:00:00.000Z",
          "2016-07-01T00:00:00.000Z",
          "2016-10-01T00:00:00.000Z"
         ],
         "y": [
          227,
          263,
          305,
          266,
          311,
          346,
          351,
          375,
          436,
          440,
          408,
          459,
          529,
          612,
          589,
          688,
          804,
          879,
          931,
          1071,
          1223,
          1145,
          990,
          1202,
          1313,
          1196,
          1241,
          1034
         ]
        }
       ],
       "layout": {
        "barmode": "stack"
       }
      },
      "text/html": [
       "<div id=\"afc4c7a7-397d-4d0f-b2c1-e740aa997099\" style=\"height: 525px; width: 100%;\" class=\"plotly-graph-div\"></div><script type=\"text/javascript\">require([\"plotly\"], function(Plotly) { window.PLOTLYENV=window.PLOTLYENV || {};window.PLOTLYENV.BASE_URL=\"https://plot.ly\";Plotly.newPlot(\"afc4c7a7-397d-4d0f-b2c1-e740aa997099\", [{\"name\": \"Employees\", \"type\": \"bar\", \"x\": [\"2010-01-01T00:00:00.000Z\", \"2010-04-01T00:00:00.000Z\", \"2010-07-01T00:00:00.000Z\", \"2010-10-01T00:00:00.000Z\", \"2011-01-01T00:00:00.000Z\", \"2011-04-01T00:00:00.000Z\", \"2011-07-01T00:00:00.000Z\", \"2011-10-01T00:00:00.000Z\", \"2012-01-01T00:00:00.000Z\", \"2012-04-01T00:00:00.000Z\", \"2012-07-01T00:00:00.000Z\", \"2012-10-01T00:00:00.000Z\", \"2013-01-01T00:00:00.000Z\", \"2013-04-01T00:00:00.000Z\", \"2013-07-01T00:00:00.000Z\", \"2013-10-01T00:00:00.000Z\", \"2014-01-01T00:00:00.000Z\", \"2014-04-01T00:00:00.000Z\", \"2014-07-01T00:00:00.000Z\", \"2014-10-01T00:00:00.000Z\", \"2015-01-01T00:00:00.000Z\", \"2015-04-01T00:00:00.000Z\", \"2015-07-01T00:00:00.000Z\", \"2015-10-01T00:00:00.000Z\", \"2016-01-01T00:00:00.000Z\", \"2016-04-01T00:00:00.000Z\", \"2016-07-01T00:00:00.000Z\", \"2016-10-01T00:00:00.000Z\"], \"y\": [270.0, 297.0, 335.0, 313.0, 359.0, 392.0, 443.0, 441.0, 491.0, 554.0, 569.0, 579.0, 613.0, 696.0, 708.0, 733.0, 763.0, 802.0, 794.0, 753.0, 755.0, 737.0, 744.0, 727.0, 737.0, 743.0, 733.0, 656.0]}, {\"name\": \"Non-Employees\", \"type\": \"bar\", \"x\": [\"2010-01-01T00:00:00.000Z\", \"2010-04-01T00:00:00.000Z\", \"2010-07-01T00:00:00.000Z\", \"2010-10-01T00:00:00.000Z\", \"2011-01-01T00:00:00.000Z\", \"2011-04-01T00:00:00.000Z\", \"2011-07-01T00:00:00.000Z\", \"2011-10-01T00:00:00.000Z\", \"2012-01-01T00:00:00.000Z\", \"2012-04-01T00:00:00.000Z\", \"2012-07-01T00:00:00.000Z\", \"2012-10-01T00:00:00.000Z\", \"2013-01-01T00:00:00.000Z\", \"2013-04-01T00:00:00.000Z\", \"2013-07-01T00:00:00.000Z\", \"2013-10-01T00:00:00.000Z\", \"2014-01-01T00:00:00.000Z\", \"2014-04-01T00:00:00.000Z\", \"2014-07-01T00:00:00.000Z\", \"2014-10-01T00:00:00.000Z\", \"2015-01-01T00:00:00.000Z\", \"2015-04-01T00:00:00.000Z\", \"2015-07-01T00:00:00.000Z\", \"2015-10-01T00:00:00.000Z\", \"2016-01-01T00:00:00.000Z\", \"2016-04-01T00:00:00.000Z\", \"2016-07-01T00:00:00.000Z\", \"2016-10-01T00:00:00.000Z\"], \"y\": [227.0, 263.0, 305.0, 266.0, 311.0, 346.0, 351.0, 375.0, 436.0, 440.0, 408.0, 459.0, 529.0, 612.0, 589.0, 688.0, 804.0, 879.0, 931.0, 1071.0, 1223.0, 1145.0, 990.0, 1202.0, 1313.0, 1196.0, 1241.0, 1034.0]}], {\"barmode\": \"stack\"}, {\"linkText\": \"Export to plot.ly\", \"showLink\": true})});</script>"
      ],
      "text/vnd.plotly.v1+html": [
       "<div id=\"afc4c7a7-397d-4d0f-b2c1-e740aa997099\" style=\"height: 525px; width: 100%;\" class=\"plotly-graph-div\"></div><script type=\"text/javascript\">require([\"plotly\"], function(Plotly) { window.PLOTLYENV=window.PLOTLYENV || {};window.PLOTLYENV.BASE_URL=\"https://plot.ly\";Plotly.newPlot(\"afc4c7a7-397d-4d0f-b2c1-e740aa997099\", [{\"name\": \"Employees\", \"type\": \"bar\", \"x\": [\"2010-01-01T00:00:00.000Z\", \"2010-04-01T00:00:00.000Z\", \"2010-07-01T00:00:00.000Z\", \"2010-10-01T00:00:00.000Z\", \"2011-01-01T00:00:00.000Z\", \"2011-04-01T00:00:00.000Z\", \"2011-07-01T00:00:00.000Z\", \"2011-10-01T00:00:00.000Z\", \"2012-01-01T00:00:00.000Z\", \"2012-04-01T00:00:00.000Z\", \"2012-07-01T00:00:00.000Z\", \"2012-10-01T00:00:00.000Z\", \"2013-01-01T00:00:00.000Z\", \"2013-04-01T00:00:00.000Z\", \"2013-07-01T00:00:00.000Z\", \"2013-10-01T00:00:00.000Z\", \"2014-01-01T00:00:00.000Z\", \"2014-04-01T00:00:00.000Z\", \"2014-07-01T00:00:00.000Z\", \"2014-10-01T00:00:00.000Z\", \"2015-01-01T00:00:00.000Z\", \"2015-04-01T00:00:00.000Z\", \"2015-07-01T00:00:00.000Z\", \"2015-10-01T00:00:00.000Z\", \"2016-01-01T00:00:00.000Z\", \"2016-04-01T00:00:00.000Z\", \"2016-07-01T00:00:00.000Z\", \"2016-10-01T00:00:00.000Z\"], \"y\": [270.0, 297.0, 335.0, 313.0, 359.0, 392.0, 443.0, 441.0, 491.0, 554.0, 569.0, 579.0, 613.0, 696.0, 708.0, 733.0, 763.0, 802.0, 794.0, 753.0, 755.0, 737.0, 744.0, 727.0, 737.0, 743.0, 733.0, 656.0]}, {\"name\": \"Non-Employees\", \"type\": \"bar\", \"x\": [\"2010-01-01T00:00:00.000Z\", \"2010-04-01T00:00:00.000Z\", \"2010-07-01T00:00:00.000Z\", \"2010-10-01T00:00:00.000Z\", \"2011-01-01T00:00:00.000Z\", \"2011-04-01T00:00:00.000Z\", \"2011-07-01T00:00:00.000Z\", \"2011-10-01T00:00:00.000Z\", \"2012-01-01T00:00:00.000Z\", \"2012-04-01T00:00:00.000Z\", \"2012-07-01T00:00:00.000Z\", \"2012-10-01T00:00:00.000Z\", \"2013-01-01T00:00:00.000Z\", \"2013-04-01T00:00:00.000Z\", \"2013-07-01T00:00:00.000Z\", \"2013-10-01T00:00:00.000Z\", \"2014-01-01T00:00:00.000Z\", \"2014-04-01T00:00:00.000Z\", \"2014-07-01T00:00:00.000Z\", \"2014-10-01T00:00:00.000Z\", \"2015-01-01T00:00:00.000Z\", \"2015-04-01T00:00:00.000Z\", \"2015-07-01T00:00:00.000Z\", \"2015-10-01T00:00:00.000Z\", \"2016-01-01T00:00:00.000Z\", \"2016-04-01T00:00:00.000Z\", \"2016-07-01T00:00:00.000Z\", \"2016-10-01T00:00:00.000Z\"], \"y\": [227.0, 263.0, 305.0, 266.0, 311.0, 346.0, 351.0, 375.0, 436.0, 440.0, 408.0, 459.0, 529.0, 612.0, 589.0, 688.0, 804.0, 879.0, 931.0, 1071.0, 1223.0, 1145.0, 990.0, 1202.0, 1313.0, 1196.0, 1241.0, 1034.0]}], {\"barmode\": \"stack\"}, {\"linkText\": \"Export to plot.ly\", \"showLink\": true})});</script>"
      ]
     },
     "metadata": {},
     "output_type": "display_data"
    }
   ],
   "source": [
    "ut.print_stacked_bar(df=authors_org_df, time_column='Time', value_column='# Contributors',\n",
    "                     group_column='Organization')"
   ]
  },
  {
   "cell_type": "code",
   "execution_count": 9,
   "metadata": {
    "collapsed": false,
    "scrolled": false
   },
   "outputs": [
    {
     "data": {
      "text/html": [
       "<script>requirejs.config({paths: { 'plotly': ['https://cdn.plot.ly/plotly-latest.min']},});if(!window.Plotly) {{require(['plotly'],function(plotly) {window.Plotly=plotly;});}}</script>"
      ],
      "text/vnd.plotly.v1+html": [
       "<script>requirejs.config({paths: { 'plotly': ['https://cdn.plot.ly/plotly-latest.min']},});if(!window.Plotly) {{require(['plotly'],function(plotly) {window.Plotly=plotly;});}}</script>"
      ]
     },
     "metadata": {},
     "output_type": "display_data"
    },
    {
     "data": {
      "application/vnd.plotly.v1+json": {
       "data": [
        {
         "name": "Employees",
         "type": "bar",
         "x": [
          "2010-01-01T00:00:00.000Z",
          "2010-04-01T00:00:00.000Z",
          "2010-07-01T00:00:00.000Z",
          "2010-10-01T00:00:00.000Z",
          "2011-01-01T00:00:00.000Z",
          "2011-04-01T00:00:00.000Z",
          "2011-07-01T00:00:00.000Z",
          "2011-10-01T00:00:00.000Z",
          "2012-01-01T00:00:00.000Z",
          "2012-04-01T00:00:00.000Z",
          "2012-07-01T00:00:00.000Z",
          "2012-10-01T00:00:00.000Z",
          "2013-01-01T00:00:00.000Z",
          "2013-04-01T00:00:00.000Z",
          "2013-07-01T00:00:00.000Z",
          "2013-10-01T00:00:00.000Z",
          "2014-01-01T00:00:00.000Z",
          "2014-04-01T00:00:00.000Z",
          "2014-07-01T00:00:00.000Z",
          "2014-10-01T00:00:00.000Z",
          "2015-01-01T00:00:00.000Z",
          "2015-04-01T00:00:00.000Z",
          "2015-07-01T00:00:00.000Z",
          "2015-10-01T00:00:00.000Z",
          "2016-01-01T00:00:00.000Z",
          "2016-04-01T00:00:00.000Z",
          "2016-07-01T00:00:00.000Z",
          "2016-10-01T00:00:00.000Z"
         ],
         "y": [
          270,
          297,
          335,
          313,
          359,
          392,
          443,
          441,
          491,
          554,
          569,
          579,
          613,
          696,
          708,
          733,
          763,
          802,
          794,
          753,
          755,
          737,
          744,
          727,
          737,
          743,
          733,
          656
         ]
        },
        {
         "name": "Non-Employees",
         "type": "bar",
         "x": [
          "2010-01-01T00:00:00.000Z",
          "2010-04-01T00:00:00.000Z",
          "2010-07-01T00:00:00.000Z",
          "2010-10-01T00:00:00.000Z",
          "2011-01-01T00:00:00.000Z",
          "2011-04-01T00:00:00.000Z",
          "2011-07-01T00:00:00.000Z",
          "2011-10-01T00:00:00.000Z",
          "2012-01-01T00:00:00.000Z",
          "2012-04-01T00:00:00.000Z",
          "2012-07-01T00:00:00.000Z",
          "2012-10-01T00:00:00.000Z",
          "2013-01-01T00:00:00.000Z",
          "2013-04-01T00:00:00.000Z",
          "2013-07-01T00:00:00.000Z",
          "2013-10-01T00:00:00.000Z",
          "2014-01-01T00:00:00.000Z",
          "2014-04-01T00:00:00.000Z",
          "2014-07-01T00:00:00.000Z",
          "2014-10-01T00:00:00.000Z",
          "2015-01-01T00:00:00.000Z",
          "2015-04-01T00:00:00.000Z",
          "2015-07-01T00:00:00.000Z",
          "2015-10-01T00:00:00.000Z",
          "2016-01-01T00:00:00.000Z",
          "2016-04-01T00:00:00.000Z",
          "2016-07-01T00:00:00.000Z",
          "2016-10-01T00:00:00.000Z"
         ],
         "y": [
          227,
          263,
          305,
          266,
          311,
          346,
          351,
          375,
          436,
          440,
          408,
          459,
          529,
          612,
          589,
          688,
          804,
          879,
          931,
          1071,
          1223,
          1145,
          990,
          1202,
          1313,
          1196,
          1241,
          1034
         ]
        }
       ],
       "layout": {
        "barmode": "group"
       }
      },
      "text/html": [
       "<div id=\"79a031f6-325c-4a75-803f-2cac0e925e31\" style=\"height: 525px; width: 100%;\" class=\"plotly-graph-div\"></div><script type=\"text/javascript\">require([\"plotly\"], function(Plotly) { window.PLOTLYENV=window.PLOTLYENV || {};window.PLOTLYENV.BASE_URL=\"https://plot.ly\";Plotly.newPlot(\"79a031f6-325c-4a75-803f-2cac0e925e31\", [{\"name\": \"Employees\", \"type\": \"bar\", \"x\": [\"2010-01-01T00:00:00.000Z\", \"2010-04-01T00:00:00.000Z\", \"2010-07-01T00:00:00.000Z\", \"2010-10-01T00:00:00.000Z\", \"2011-01-01T00:00:00.000Z\", \"2011-04-01T00:00:00.000Z\", \"2011-07-01T00:00:00.000Z\", \"2011-10-01T00:00:00.000Z\", \"2012-01-01T00:00:00.000Z\", \"2012-04-01T00:00:00.000Z\", \"2012-07-01T00:00:00.000Z\", \"2012-10-01T00:00:00.000Z\", \"2013-01-01T00:00:00.000Z\", \"2013-04-01T00:00:00.000Z\", \"2013-07-01T00:00:00.000Z\", \"2013-10-01T00:00:00.000Z\", \"2014-01-01T00:00:00.000Z\", \"2014-04-01T00:00:00.000Z\", \"2014-07-01T00:00:00.000Z\", \"2014-10-01T00:00:00.000Z\", \"2015-01-01T00:00:00.000Z\", \"2015-04-01T00:00:00.000Z\", \"2015-07-01T00:00:00.000Z\", \"2015-10-01T00:00:00.000Z\", \"2016-01-01T00:00:00.000Z\", \"2016-04-01T00:00:00.000Z\", \"2016-07-01T00:00:00.000Z\", \"2016-10-01T00:00:00.000Z\"], \"y\": [270.0, 297.0, 335.0, 313.0, 359.0, 392.0, 443.0, 441.0, 491.0, 554.0, 569.0, 579.0, 613.0, 696.0, 708.0, 733.0, 763.0, 802.0, 794.0, 753.0, 755.0, 737.0, 744.0, 727.0, 737.0, 743.0, 733.0, 656.0]}, {\"name\": \"Non-Employees\", \"type\": \"bar\", \"x\": [\"2010-01-01T00:00:00.000Z\", \"2010-04-01T00:00:00.000Z\", \"2010-07-01T00:00:00.000Z\", \"2010-10-01T00:00:00.000Z\", \"2011-01-01T00:00:00.000Z\", \"2011-04-01T00:00:00.000Z\", \"2011-07-01T00:00:00.000Z\", \"2011-10-01T00:00:00.000Z\", \"2012-01-01T00:00:00.000Z\", \"2012-04-01T00:00:00.000Z\", \"2012-07-01T00:00:00.000Z\", \"2012-10-01T00:00:00.000Z\", \"2013-01-01T00:00:00.000Z\", \"2013-04-01T00:00:00.000Z\", \"2013-07-01T00:00:00.000Z\", \"2013-10-01T00:00:00.000Z\", \"2014-01-01T00:00:00.000Z\", \"2014-04-01T00:00:00.000Z\", \"2014-07-01T00:00:00.000Z\", \"2014-10-01T00:00:00.000Z\", \"2015-01-01T00:00:00.000Z\", \"2015-04-01T00:00:00.000Z\", \"2015-07-01T00:00:00.000Z\", \"2015-10-01T00:00:00.000Z\", \"2016-01-01T00:00:00.000Z\", \"2016-04-01T00:00:00.000Z\", \"2016-07-01T00:00:00.000Z\", \"2016-10-01T00:00:00.000Z\"], \"y\": [227.0, 263.0, 305.0, 266.0, 311.0, 346.0, 351.0, 375.0, 436.0, 440.0, 408.0, 459.0, 529.0, 612.0, 589.0, 688.0, 804.0, 879.0, 931.0, 1071.0, 1223.0, 1145.0, 990.0, 1202.0, 1313.0, 1196.0, 1241.0, 1034.0]}], {\"barmode\": \"group\"}, {\"linkText\": \"Export to plot.ly\", \"showLink\": true})});</script>"
      ],
      "text/vnd.plotly.v1+html": [
       "<div id=\"79a031f6-325c-4a75-803f-2cac0e925e31\" style=\"height: 525px; width: 100%;\" class=\"plotly-graph-div\"></div><script type=\"text/javascript\">require([\"plotly\"], function(Plotly) { window.PLOTLYENV=window.PLOTLYENV || {};window.PLOTLYENV.BASE_URL=\"https://plot.ly\";Plotly.newPlot(\"79a031f6-325c-4a75-803f-2cac0e925e31\", [{\"name\": \"Employees\", \"type\": \"bar\", \"x\": [\"2010-01-01T00:00:00.000Z\", \"2010-04-01T00:00:00.000Z\", \"2010-07-01T00:00:00.000Z\", \"2010-10-01T00:00:00.000Z\", \"2011-01-01T00:00:00.000Z\", \"2011-04-01T00:00:00.000Z\", \"2011-07-01T00:00:00.000Z\", \"2011-10-01T00:00:00.000Z\", \"2012-01-01T00:00:00.000Z\", \"2012-04-01T00:00:00.000Z\", \"2012-07-01T00:00:00.000Z\", \"2012-10-01T00:00:00.000Z\", \"2013-01-01T00:00:00.000Z\", \"2013-04-01T00:00:00.000Z\", \"2013-07-01T00:00:00.000Z\", \"2013-10-01T00:00:00.000Z\", \"2014-01-01T00:00:00.000Z\", \"2014-04-01T00:00:00.000Z\", \"2014-07-01T00:00:00.000Z\", \"2014-10-01T00:00:00.000Z\", \"2015-01-01T00:00:00.000Z\", \"2015-04-01T00:00:00.000Z\", \"2015-07-01T00:00:00.000Z\", \"2015-10-01T00:00:00.000Z\", \"2016-01-01T00:00:00.000Z\", \"2016-04-01T00:00:00.000Z\", \"2016-07-01T00:00:00.000Z\", \"2016-10-01T00:00:00.000Z\"], \"y\": [270.0, 297.0, 335.0, 313.0, 359.0, 392.0, 443.0, 441.0, 491.0, 554.0, 569.0, 579.0, 613.0, 696.0, 708.0, 733.0, 763.0, 802.0, 794.0, 753.0, 755.0, 737.0, 744.0, 727.0, 737.0, 743.0, 733.0, 656.0]}, {\"name\": \"Non-Employees\", \"type\": \"bar\", \"x\": [\"2010-01-01T00:00:00.000Z\", \"2010-04-01T00:00:00.000Z\", \"2010-07-01T00:00:00.000Z\", \"2010-10-01T00:00:00.000Z\", \"2011-01-01T00:00:00.000Z\", \"2011-04-01T00:00:00.000Z\", \"2011-07-01T00:00:00.000Z\", \"2011-10-01T00:00:00.000Z\", \"2012-01-01T00:00:00.000Z\", \"2012-04-01T00:00:00.000Z\", \"2012-07-01T00:00:00.000Z\", \"2012-10-01T00:00:00.000Z\", \"2013-01-01T00:00:00.000Z\", \"2013-04-01T00:00:00.000Z\", \"2013-07-01T00:00:00.000Z\", \"2013-10-01T00:00:00.000Z\", \"2014-01-01T00:00:00.000Z\", \"2014-04-01T00:00:00.000Z\", \"2014-07-01T00:00:00.000Z\", \"2014-10-01T00:00:00.000Z\", \"2015-01-01T00:00:00.000Z\", \"2015-04-01T00:00:00.000Z\", \"2015-07-01T00:00:00.000Z\", \"2015-10-01T00:00:00.000Z\", \"2016-01-01T00:00:00.000Z\", \"2016-04-01T00:00:00.000Z\", \"2016-07-01T00:00:00.000Z\", \"2016-10-01T00:00:00.000Z\"], \"y\": [227.0, 263.0, 305.0, 266.0, 311.0, 346.0, 351.0, 375.0, 436.0, 440.0, 408.0, 459.0, 529.0, 612.0, 589.0, 688.0, 804.0, 879.0, 931.0, 1071.0, 1223.0, 1145.0, 990.0, 1202.0, 1313.0, 1196.0, 1241.0, 1034.0]}], {\"barmode\": \"group\"}, {\"linkText\": \"Export to plot.ly\", \"showLink\": true})});</script>"
      ]
     },
     "metadata": {},
     "output_type": "display_data"
    }
   ],
   "source": [
    "ut.print_grouped_bar(df=authors_org_df, time_column='Time', value_column='# Contributors',\n",
    "                     group_column='Organization')"
   ]
  },
  {
   "cell_type": "markdown",
   "metadata": {},
   "source": [
    "## Contributors by Org over Time: Bugzilla"
   ]
  },
  {
   "cell_type": "code",
   "execution_count": 10,
   "metadata": {
    "collapsed": false,
    "scrolled": true
   },
   "outputs": [
    {
     "name": "stdout",
     "output_type": "stream",
     "text": [
      "Mozilla Staff -> Employees\n",
      "Community -> Non-Employees\n",
      "Code Sheriff -> Employees\n",
      "Mozilla Reps -> Non-Employees\n"
     ]
    }
   ],
   "source": [
    "s = ut.create_search(es_conn, 'bugzilla')\n",
    "\n",
    "s = ut.add_bot_filter(s)\n",
    "\n",
    "# Unique count of Commits by Project (max 100 projects)\n",
    "s = s.filter('range', creation_ts={'gte': initial_date, 'lt': 'now/y'})\n",
    "s.aggs.bucket('org', 'terms', field='author_org_name', size=10)\\\n",
    "    .bucket('time', 'date_histogram', field='creation_ts', interval='quarter')\\\n",
    "    .metric('contributors', 'cardinality', field='author_uuid', precision_threshold=100000)\n",
    "\n",
    "result = s.execute()\n",
    "\n",
    "authors_org_df = ut.stack_by_cusum(result=result, group_column='Organization', subgroup_column='Time',\\\n",
    "                                value_column='# Contributors', group_field='org', subgroup_field='time',\\\n",
    "                                metric_field='contributors', staff_org_names=['Mozilla Staff', 'Code Sheriff'],\\\n",
    "                                staff_org='Employees')"
   ]
  },
  {
   "cell_type": "code",
   "execution_count": 11,
   "metadata": {
    "collapsed": false,
    "scrolled": false
   },
   "outputs": [
    {
     "data": {
      "text/html": [
       "<script>requirejs.config({paths: { 'plotly': ['https://cdn.plot.ly/plotly-latest.min']},});if(!window.Plotly) {{require(['plotly'],function(plotly) {window.Plotly=plotly;});}}</script>"
      ],
      "text/vnd.plotly.v1+html": [
       "<script>requirejs.config({paths: { 'plotly': ['https://cdn.plot.ly/plotly-latest.min']},});if(!window.Plotly) {{require(['plotly'],function(plotly) {window.Plotly=plotly;});}}</script>"
      ]
     },
     "metadata": {},
     "output_type": "display_data"
    },
    {
     "data": {
      "application/vnd.plotly.v1+json": {
       "data": [
        {
         "name": "Employees",
         "type": "bar",
         "x": [
          "2010-01-01T00:00:00.000Z",
          "2010-04-01T00:00:00.000Z",
          "2010-07-01T00:00:00.000Z",
          "2010-10-01T00:00:00.000Z",
          "2011-01-01T00:00:00.000Z",
          "2011-04-01T00:00:00.000Z",
          "2011-07-01T00:00:00.000Z",
          "2011-10-01T00:00:00.000Z",
          "2012-01-01T00:00:00.000Z",
          "2012-04-01T00:00:00.000Z",
          "2012-07-01T00:00:00.000Z",
          "2012-10-01T00:00:00.000Z",
          "2013-01-01T00:00:00.000Z",
          "2013-04-01T00:00:00.000Z",
          "2013-07-01T00:00:00.000Z",
          "2013-10-01T00:00:00.000Z",
          "2014-01-01T00:00:00.000Z",
          "2014-04-01T00:00:00.000Z",
          "2014-07-01T00:00:00.000Z",
          "2014-10-01T00:00:00.000Z",
          "2015-01-01T00:00:00.000Z",
          "2015-04-01T00:00:00.000Z",
          "2015-07-01T00:00:00.000Z",
          "2015-10-01T00:00:00.000Z",
          "2016-01-01T00:00:00.000Z",
          "2016-04-01T00:00:00.000Z",
          "2016-07-01T00:00:00.000Z",
          "2016-10-01T00:00:00.000Z"
         ],
         "y": [
          500,
          526,
          594,
          580,
          637,
          638,
          701,
          726,
          768,
          849,
          834,
          864,
          901,
          1003,
          1020,
          1057,
          1086,
          1177,
          1148,
          1070,
          982,
          979,
          1001,
          925,
          874,
          850,
          814,
          756
         ]
        },
        {
         "name": "Non-Employees",
         "type": "bar",
         "x": [
          "2010-01-01T00:00:00.000Z",
          "2010-04-01T00:00:00.000Z",
          "2010-07-01T00:00:00.000Z",
          "2010-10-01T00:00:00.000Z",
          "2011-01-01T00:00:00.000Z",
          "2011-04-01T00:00:00.000Z",
          "2011-07-01T00:00:00.000Z",
          "2011-10-01T00:00:00.000Z",
          "2012-01-01T00:00:00.000Z",
          "2012-04-01T00:00:00.000Z",
          "2012-07-01T00:00:00.000Z",
          "2012-10-01T00:00:00.000Z",
          "2013-01-01T00:00:00.000Z",
          "2013-04-01T00:00:00.000Z",
          "2013-07-01T00:00:00.000Z",
          "2013-10-01T00:00:00.000Z",
          "2014-01-01T00:00:00.000Z",
          "2014-04-01T00:00:00.000Z",
          "2014-07-01T00:00:00.000Z",
          "2014-10-01T00:00:00.000Z",
          "2015-01-01T00:00:00.000Z",
          "2015-04-01T00:00:00.000Z",
          "2015-07-01T00:00:00.000Z",
          "2015-10-01T00:00:00.000Z",
          "2016-01-01T00:00:00.000Z",
          "2016-04-01T00:00:00.000Z",
          "2016-07-01T00:00:00.000Z",
          "2016-10-01T00:00:00.000Z"
         ],
         "y": [
          5433,
          4044,
          5104,
          4156,
          4995,
          3835,
          3485,
          3104,
          3375,
          3303,
          3377,
          3413,
          3339,
          3434,
          3340,
          3515,
          3253,
          3711,
          3804,
          3944,
          3553,
          3359,
          3727,
          3354,
          3198,
          3040,
          2747,
          2568
         ]
        }
       ],
       "layout": {
        "barmode": "stack"
       }
      },
      "text/html": [
       "<div id=\"71a35291-8373-46ce-a01e-882a7a0c1fda\" style=\"height: 525px; width: 100%;\" class=\"plotly-graph-div\"></div><script type=\"text/javascript\">require([\"plotly\"], function(Plotly) { window.PLOTLYENV=window.PLOTLYENV || {};window.PLOTLYENV.BASE_URL=\"https://plot.ly\";Plotly.newPlot(\"71a35291-8373-46ce-a01e-882a7a0c1fda\", [{\"name\": \"Employees\", \"type\": \"bar\", \"x\": [\"2010-01-01T00:00:00.000Z\", \"2010-04-01T00:00:00.000Z\", \"2010-07-01T00:00:00.000Z\", \"2010-10-01T00:00:00.000Z\", \"2011-01-01T00:00:00.000Z\", \"2011-04-01T00:00:00.000Z\", \"2011-07-01T00:00:00.000Z\", \"2011-10-01T00:00:00.000Z\", \"2012-01-01T00:00:00.000Z\", \"2012-04-01T00:00:00.000Z\", \"2012-07-01T00:00:00.000Z\", \"2012-10-01T00:00:00.000Z\", \"2013-01-01T00:00:00.000Z\", \"2013-04-01T00:00:00.000Z\", \"2013-07-01T00:00:00.000Z\", \"2013-10-01T00:00:00.000Z\", \"2014-01-01T00:00:00.000Z\", \"2014-04-01T00:00:00.000Z\", \"2014-07-01T00:00:00.000Z\", \"2014-10-01T00:00:00.000Z\", \"2015-01-01T00:00:00.000Z\", \"2015-04-01T00:00:00.000Z\", \"2015-07-01T00:00:00.000Z\", \"2015-10-01T00:00:00.000Z\", \"2016-01-01T00:00:00.000Z\", \"2016-04-01T00:00:00.000Z\", \"2016-07-01T00:00:00.000Z\", \"2016-10-01T00:00:00.000Z\"], \"y\": [500.0, 526.0, 594.0, 580.0, 637.0, 638.0, 701.0, 726.0, 768.0, 849.0, 834.0, 864.0, 901.0, 1003.0, 1020.0, 1057.0, 1086.0, 1177.0, 1148.0, 1070.0, 982.0, 979.0, 1001.0, 925.0, 874.0, 850.0, 814.0, 756.0]}, {\"name\": \"Non-Employees\", \"type\": \"bar\", \"x\": [\"2010-01-01T00:00:00.000Z\", \"2010-04-01T00:00:00.000Z\", \"2010-07-01T00:00:00.000Z\", \"2010-10-01T00:00:00.000Z\", \"2011-01-01T00:00:00.000Z\", \"2011-04-01T00:00:00.000Z\", \"2011-07-01T00:00:00.000Z\", \"2011-10-01T00:00:00.000Z\", \"2012-01-01T00:00:00.000Z\", \"2012-04-01T00:00:00.000Z\", \"2012-07-01T00:00:00.000Z\", \"2012-10-01T00:00:00.000Z\", \"2013-01-01T00:00:00.000Z\", \"2013-04-01T00:00:00.000Z\", \"2013-07-01T00:00:00.000Z\", \"2013-10-01T00:00:00.000Z\", \"2014-01-01T00:00:00.000Z\", \"2014-04-01T00:00:00.000Z\", \"2014-07-01T00:00:00.000Z\", \"2014-10-01T00:00:00.000Z\", \"2015-01-01T00:00:00.000Z\", \"2015-04-01T00:00:00.000Z\", \"2015-07-01T00:00:00.000Z\", \"2015-10-01T00:00:00.000Z\", \"2016-01-01T00:00:00.000Z\", \"2016-04-01T00:00:00.000Z\", \"2016-07-01T00:00:00.000Z\", \"2016-10-01T00:00:00.000Z\"], \"y\": [5433.0, 4044.0, 5104.0, 4156.0, 4995.0, 3835.0, 3485.0, 3104.0, 3375.0, 3303.0, 3377.0, 3413.0, 3339.0, 3434.0, 3340.0, 3515.0, 3253.0, 3711.0, 3804.0, 3944.0, 3553.0, 3359.0, 3727.0, 3354.0, 3198.0, 3040.0, 2747.0, 2568.0]}], {\"barmode\": \"stack\"}, {\"linkText\": \"Export to plot.ly\", \"showLink\": true})});</script>"
      ],
      "text/vnd.plotly.v1+html": [
       "<div id=\"71a35291-8373-46ce-a01e-882a7a0c1fda\" style=\"height: 525px; width: 100%;\" class=\"plotly-graph-div\"></div><script type=\"text/javascript\">require([\"plotly\"], function(Plotly) { window.PLOTLYENV=window.PLOTLYENV || {};window.PLOTLYENV.BASE_URL=\"https://plot.ly\";Plotly.newPlot(\"71a35291-8373-46ce-a01e-882a7a0c1fda\", [{\"name\": \"Employees\", \"type\": \"bar\", \"x\": [\"2010-01-01T00:00:00.000Z\", \"2010-04-01T00:00:00.000Z\", \"2010-07-01T00:00:00.000Z\", \"2010-10-01T00:00:00.000Z\", \"2011-01-01T00:00:00.000Z\", \"2011-04-01T00:00:00.000Z\", \"2011-07-01T00:00:00.000Z\", \"2011-10-01T00:00:00.000Z\", \"2012-01-01T00:00:00.000Z\", \"2012-04-01T00:00:00.000Z\", \"2012-07-01T00:00:00.000Z\", \"2012-10-01T00:00:00.000Z\", \"2013-01-01T00:00:00.000Z\", \"2013-04-01T00:00:00.000Z\", \"2013-07-01T00:00:00.000Z\", \"2013-10-01T00:00:00.000Z\", \"2014-01-01T00:00:00.000Z\", \"2014-04-01T00:00:00.000Z\", \"2014-07-01T00:00:00.000Z\", \"2014-10-01T00:00:00.000Z\", \"2015-01-01T00:00:00.000Z\", \"2015-04-01T00:00:00.000Z\", \"2015-07-01T00:00:00.000Z\", \"2015-10-01T00:00:00.000Z\", \"2016-01-01T00:00:00.000Z\", \"2016-04-01T00:00:00.000Z\", \"2016-07-01T00:00:00.000Z\", \"2016-10-01T00:00:00.000Z\"], \"y\": [500.0, 526.0, 594.0, 580.0, 637.0, 638.0, 701.0, 726.0, 768.0, 849.0, 834.0, 864.0, 901.0, 1003.0, 1020.0, 1057.0, 1086.0, 1177.0, 1148.0, 1070.0, 982.0, 979.0, 1001.0, 925.0, 874.0, 850.0, 814.0, 756.0]}, {\"name\": \"Non-Employees\", \"type\": \"bar\", \"x\": [\"2010-01-01T00:00:00.000Z\", \"2010-04-01T00:00:00.000Z\", \"2010-07-01T00:00:00.000Z\", \"2010-10-01T00:00:00.000Z\", \"2011-01-01T00:00:00.000Z\", \"2011-04-01T00:00:00.000Z\", \"2011-07-01T00:00:00.000Z\", \"2011-10-01T00:00:00.000Z\", \"2012-01-01T00:00:00.000Z\", \"2012-04-01T00:00:00.000Z\", \"2012-07-01T00:00:00.000Z\", \"2012-10-01T00:00:00.000Z\", \"2013-01-01T00:00:00.000Z\", \"2013-04-01T00:00:00.000Z\", \"2013-07-01T00:00:00.000Z\", \"2013-10-01T00:00:00.000Z\", \"2014-01-01T00:00:00.000Z\", \"2014-04-01T00:00:00.000Z\", \"2014-07-01T00:00:00.000Z\", \"2014-10-01T00:00:00.000Z\", \"2015-01-01T00:00:00.000Z\", \"2015-04-01T00:00:00.000Z\", \"2015-07-01T00:00:00.000Z\", \"2015-10-01T00:00:00.000Z\", \"2016-01-01T00:00:00.000Z\", \"2016-04-01T00:00:00.000Z\", \"2016-07-01T00:00:00.000Z\", \"2016-10-01T00:00:00.000Z\"], \"y\": [5433.0, 4044.0, 5104.0, 4156.0, 4995.0, 3835.0, 3485.0, 3104.0, 3375.0, 3303.0, 3377.0, 3413.0, 3339.0, 3434.0, 3340.0, 3515.0, 3253.0, 3711.0, 3804.0, 3944.0, 3553.0, 3359.0, 3727.0, 3354.0, 3198.0, 3040.0, 2747.0, 2568.0]}], {\"barmode\": \"stack\"}, {\"linkText\": \"Export to plot.ly\", \"showLink\": true})});</script>"
      ]
     },
     "metadata": {},
     "output_type": "display_data"
    }
   ],
   "source": [
    "ut.print_stacked_bar(df=authors_org_df, time_column='Time', value_column='# Contributors', group_column='Organization')"
   ]
  }
 ],
 "metadata": {
  "kernelspec": {
   "display_name": "Python 3",
   "language": "python",
   "name": "python3"
  },
  "language_info": {
   "codemirror_mode": {
    "name": "ipython",
    "version": 3
   },
   "file_extension": ".py",
   "mimetype": "text/x-python",
   "name": "python",
   "nbconvert_exporter": "python",
   "pygments_lexer": "ipython3",
   "version": "3.5.2+"
  }
 },
 "nbformat": 4,
 "nbformat_minor": 1
}
