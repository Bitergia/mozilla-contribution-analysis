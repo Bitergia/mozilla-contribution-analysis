{
 "cells": [
  {
   "cell_type": "raw",
   "metadata": {},
   "source": [
    "<script>\n",
    "  function code_toggle() {\n",
    "    if (code_shown){\n",
    "      $('div.input').hide('500');\n",
    "      $('div.output_text').hide('500')\n",
    "      $('#toggleButton').val('Show Code')\n",
    "    } else {\n",
    "      $('div.input').show('500');\n",
    "      $('div.output_text').show('500')\n",
    "      $('#toggleButton').val('Hide Code')\n",
    "    }\n",
    "    code_shown = !code_shown\n",
    "  }\n",
    "\n",
    "  $( document ).ready(function(){\n",
    "    code_shown=false;\n",
    "    $('div.input').hide()\n",
    "    $('div.output_text').hide()\n",
    "  });\n",
    "</script>\n",
    "<form action=\"javascript:code_toggle()\"><input type=\"submit\" id=\"toggleButton\" value=\"Show Code\"></form>"
   ]
  },
  {
   "cell_type": "markdown",
   "metadata": {},
   "source": [
    "### Metric Calculations\n",
    "First we need to load a connection against the proper ES instance. We use an external module to load credentials from a file that will not be shared. If you want to run this, please use your own credentials, just put them in a file named '.settings' (in the same directory as this notebook) following the example file 'settings.sample'.\n",
    "\n",
    "To work with **survey results** this notebook expect to find the following files:\n",
    "* **UUID's**: ../data/uuids.csv\n",
    "* **SURVEY**: ../data/survey-fake.csv\n",
    "\n",
    "**If you need to use a different survey file, just modify in the second code cell below this one.**"
   ]
  },
  {
   "cell_type": "code",
   "execution_count": 1,
   "metadata": {
    "collapsed": true
   },
   "outputs": [],
   "source": [
    "import pandas\n",
    "\n",
    "import util as ut\n",
    "\n",
    "from util import ESConnection\n",
    "\n",
    "es_conn = ESConnection()"
   ]
  },
  {
   "cell_type": "code",
   "execution_count": 2,
   "metadata": {
    "collapsed": false,
    "scrolled": false
   },
   "outputs": [
    {
     "name": "stdout",
     "output_type": "stream",
     "text": [
      "Identities with UUID found in survey file:  327\n",
      "Unique identities found:  327\n",
      "\n",
      "[ git ] 1 YEAR Gecko : ( 22 / 797 ) 2.76\n",
      "[ git ] TOTAL  Gecko : ( 41 / 4245 ) 0.97\n",
      "[ git ] 1 YEAR Rust : ( 18 / 729 ) 2.47\n",
      "[ git ] TOTAL  Rust : ( 25 / 2400 ) 1.04\n",
      "[ git ] 1 YEAR Servo : ( 15 / 353 ) 4.25\n",
      "[ git ] TOTAL  Servo : ( 22 / 1282 ) 1.72\n",
      "[ git ] 1 YEAR Firefox : ( 5 / 209 ) 2.39\n",
      "[ git ] TOTAL  Firefox : ( 16 / 1133 ) 1.41\n",
      "[ git ] 1 YEAR WebVR : ( 6 / 162 ) 3.7\n",
      "[ git ] TOTAL  WebVR : ( 6 / 221 ) 2.71\n",
      "[ git ] 1 YEAR Firefox OS (FxOS / B2G) : ( 0 / 1 ) 0.0\n",
      "[ git ] TOTAL  Firefox OS (FxOS / B2G) : ( 9 / 92 ) 9.78\n",
      "[ git ] 1 YEAR All : ( 110 / 3142 ) 3.5\n",
      "[ git ] TOTAL  All : ( 159 / 13351 ) 1.19\n",
      "\n",
      "[ bugzilla ] 1 YEAR Gecko : ( 30 / 3721 ) 0.81\n",
      "[ bugzilla ] TOTAL  Gecko : ( 97 / 62212 ) 0.16\n",
      "[ bugzilla ] No authors found for Rust\n",
      "[ bugzilla ] No authors found for Rust\n",
      "[ bugzilla ] No authors found for Servo\n",
      "[ bugzilla ] No authors found for Servo\n",
      "[ bugzilla ] 1 YEAR Firefox : ( 24 / 2384 ) 1.01\n",
      "[ bugzilla ] TOTAL  Firefox : ( 90 / 71782 ) 0.13\n",
      "[ bugzilla ] No authors found for WebVR\n",
      "[ bugzilla ] No authors found for WebVR\n",
      "[ bugzilla ] 1 YEAR Firefox OS (FxOS / B2G) : ( 2 / 46 ) 4.35\n",
      "[ bugzilla ] TOTAL  Firefox OS (FxOS / B2G) : ( 62 / 2206 ) 2.81\n",
      "[ bugzilla ] 1 YEAR All : ( 75 / 8909 ) 0.84\n",
      "[ bugzilla ] TOTAL  All : ( 190 / 183219 ) 0.1\n",
      "\n",
      "[ github_issues ] 1 YEAR Gecko : ( 0 / 373 ) 0.0\n",
      "[ github_issues ] TOTAL  Gecko : ( 0 / 409 ) 0.0\n",
      "[ github_issues ] 1 YEAR Rust : ( 23 / 2077 ) 1.11\n",
      "[ github_issues ] TOTAL  Rust : ( 28 / 5235 ) 0.53\n",
      "[ github_issues ] 1 YEAR Servo : ( 23 / 845 ) 2.72\n",
      "[ github_issues ] TOTAL  Servo : ( 29 / 1619 ) 1.79\n",
      "[ github_issues ] 1 YEAR Firefox : ( 1 / 53 ) 1.89\n",
      "[ github_issues ] TOTAL  Firefox : ( 2 / 69 ) 2.9\n",
      "[ github_issues ] 1 YEAR WebVR : ( 8 / 374 ) 2.14\n",
      "[ github_issues ] TOTAL  WebVR : ( 8 / 530 ) 1.51\n",
      "[ github_issues ] 1 YEAR Firefox OS (FxOS / B2G) : ( 0 / 3 ) 0.0\n",
      "[ github_issues ] TOTAL  Firefox OS (FxOS / B2G) : ( 6 / 69 ) 8.7\n",
      "[ github_issues ] 1 YEAR All : ( 101 / 6677 ) 1.51\n",
      "[ github_issues ] TOTAL  All : ( 165 / 17657 ) 0.93\n",
      "\n",
      "[ discourse ] No authors found for Gecko\n",
      "[ discourse ] No authors found for Gecko\n",
      "[ discourse ] No authors found for Rust\n",
      "[ discourse ] No authors found for Rust\n",
      "[ discourse ] No authors found for Servo\n",
      "[ discourse ] No authors found for Servo\n",
      "[ discourse ] No authors found for Firefox\n",
      "[ discourse ] No authors found for Firefox\n",
      "[ discourse ] 1 YEAR WebVR : ( 1 / 37 ) 2.7\n",
      "[ discourse ] TOTAL  WebVR : ( 1 / 37 ) 2.7\n",
      "[ discourse ] 1 YEAR Firefox OS (FxOS / B2G) : ( 7 / 106 ) 6.6\n",
      "[ discourse ] TOTAL  Firefox OS (FxOS / B2G) : ( 24 / 335 ) 7.16\n",
      "[ discourse ] 1 YEAR All : ( 66 / 1649 ) 4.0\n",
      "[ discourse ] TOTAL  All : ( 85 / 3100 ) 2.74\n",
      "\n",
      "[ mbox ] No authors found for Gecko\n",
      "[ mbox ] No authors found for Gecko\n",
      "[ mbox ] No authors found for Rust\n",
      "[ mbox ] No authors found for Rust\n",
      "[ mbox ] 1 YEAR Servo : ( 1 / 44 ) 2.27\n",
      "[ mbox ] TOTAL  Servo : ( 1 / 121 ) 0.83\n",
      "[ mbox ] No authors found for Firefox\n",
      "[ mbox ] No authors found for Firefox\n",
      "[ mbox ] No authors found for WebVR\n",
      "[ mbox ] No authors found for WebVR\n",
      "[ mbox ] 1 YEAR Firefox OS (FxOS / B2G) : ( 2 / 31 ) 6.45\n",
      "[ mbox ] TOTAL  Firefox OS (FxOS / B2G) : ( 28 / 1485 ) 1.89\n",
      "[ mbox ] 1 YEAR All : ( 49 / 1954 ) 2.51\n",
      "[ mbox ] TOTAL  All : ( 122 / 62092 ) 0.2\n",
      "\n"
     ]
    },
    {
     "data": {
      "text/html": [
       "<script>requirejs.config({paths: { 'plotly': ['https://cdn.plot.ly/plotly-latest.min']},});if(!window.Plotly) {{require(['plotly'],function(plotly) {window.Plotly=plotly;});}}</script>"
      ],
      "text/vnd.plotly.v1+html": [
       "<script>requirejs.config({paths: { 'plotly': ['https://cdn.plot.ly/plotly-latest.min']},});if(!window.Plotly) {{require(['plotly'],function(plotly) {window.Plotly=plotly;});}}</script>"
      ]
     },
     "metadata": {},
     "output_type": "display_data"
    },
    {
     "data": {
      "application/vnd.plotly.v1+json": {
       "data": [
        {
         "colorscale": [
          [
           0,
           "#00083e"
          ],
          [
           0.5,
           "#ededee"
          ],
          [
           1,
           "#ffffff"
          ]
         ],
         "hoverinfo": "none",
         "opacity": 0.75,
         "showscale": false,
         "type": "heatmap",
         "z": [
          [
           0,
           0,
           0,
           0,
           0,
           0
          ],
          [
           0.5,
           0.5,
           0.5,
           0.5,
           0.5,
           0.5
          ],
          [
           1,
           1,
           1,
           1,
           1,
           1
          ],
          [
           0.5,
           0.5,
           0.5,
           0.5,
           0.5,
           0.5
          ],
          [
           1,
           1,
           1,
           1,
           1,
           1
          ],
          [
           0.5,
           0.5,
           0.5,
           0.5,
           0.5,
           0.5
          ],
          [
           1,
           1,
           1,
           1,
           1,
           1
          ],
          [
           0.5,
           0.5,
           0.5,
           0.5,
           0.5,
           0.5
          ],
          [
           1,
           1,
           1,
           1,
           1,
           1
          ],
          [
           0.5,
           0.5,
           0.5,
           0.5,
           0.5,
           0.5
          ],
          [
           1,
           1,
           1,
           1,
           1,
           1
          ],
          [
           0.5,
           0.5,
           0.5,
           0.5,
           0.5,
           0.5
          ],
          [
           1,
           1,
           1,
           1,
           1,
           1
          ],
          [
           0.5,
           0.5,
           0.5,
           0.5,
           0.5,
           0.5
          ],
          [
           1,
           1,
           1,
           1,
           1,
           1
          ],
          [
           0.5,
           0.5,
           0.5,
           0.5,
           0.5,
           0.5
          ],
          [
           1,
           1,
           1,
           1,
           1,
           1
          ],
          [
           0.5,
           0.5,
           0.5,
           0.5,
           0.5,
           0.5
          ],
          [
           1,
           1,
           1,
           1,
           1,
           1
          ],
          [
           0.5,
           0.5,
           0.5,
           0.5,
           0.5,
           0.5
          ],
          [
           1,
           1,
           1,
           1,
           1,
           1
          ],
          [
           0.5,
           0.5,
           0.5,
           0.5,
           0.5,
           0.5
          ],
          [
           1,
           1,
           1,
           1,
           1,
           1
          ],
          [
           0.5,
           0.5,
           0.5,
           0.5,
           0.5,
           0.5
          ],
          [
           1,
           1,
           1,
           1,
           1,
           1
          ],
          [
           0.5,
           0.5,
           0.5,
           0.5,
           0.5,
           0.5
          ],
          [
           1,
           1,
           1,
           1,
           1,
           1
          ],
          [
           0.5,
           0.5,
           0.5,
           0.5,
           0.5,
           0.5
          ],
          [
           1,
           1,
           1,
           1,
           1,
           1
          ],
          [
           0.5,
           0.5,
           0.5,
           0.5,
           0.5,
           0.5
          ],
          [
           1,
           1,
           1,
           1,
           1,
           1
          ],
          [
           0.5,
           0.5,
           0.5,
           0.5,
           0.5,
           0.5
          ],
          [
           1,
           1,
           1,
           1,
           1,
           1
          ],
          [
           0.5,
           0.5,
           0.5,
           0.5,
           0.5,
           0.5
          ],
          [
           1,
           1,
           1,
           1,
           1,
           1
          ],
          [
           0.5,
           0.5,
           0.5,
           0.5,
           0.5,
           0.5
          ]
         ]
        }
       ],
       "layout": {
        "annotations": [
         {
          "align": "left",
          "font": {
           "color": "#ffffff"
          },
          "showarrow": false,
          "text": "<b>source</b>",
          "x": -0.45,
          "xanchor": "left",
          "xref": "x1",
          "y": 0,
          "yref": "y1"
         },
         {
          "align": "left",
          "font": {
           "color": "#ffffff"
          },
          "showarrow": false,
          "text": "<b>project</b>",
          "x": 0.55,
          "xanchor": "left",
          "xref": "x1",
          "y": 0,
          "yref": "y1"
         },
         {
          "align": "left",
          "font": {
           "color": "#ffffff"
          },
          "showarrow": false,
          "text": "<b>authors(last year)</b>",
          "x": 1.55,
          "xanchor": "left",
          "xref": "x1",
          "y": 0,
          "yref": "y1"
         },
         {
          "align": "left",
          "font": {
           "color": "#ffffff"
          },
          "showarrow": false,
          "text": "<b>coverage(last year)</b>",
          "x": 2.55,
          "xanchor": "left",
          "xref": "x1",
          "y": 0,
          "yref": "y1"
         },
         {
          "align": "left",
          "font": {
           "color": "#ffffff"
          },
          "showarrow": false,
          "text": "<b>authors</b>",
          "x": 3.55,
          "xanchor": "left",
          "xref": "x1",
          "y": 0,
          "yref": "y1"
         },
         {
          "align": "left",
          "font": {
           "color": "#ffffff"
          },
          "showarrow": false,
          "text": "<b>coverage</b>",
          "x": 4.55,
          "xanchor": "left",
          "xref": "x1",
          "y": 0,
          "yref": "y1"
         },
         {
          "align": "left",
          "font": {
           "color": "#000000"
          },
          "showarrow": false,
          "text": "git",
          "x": -0.45,
          "xanchor": "left",
          "xref": "x1",
          "y": 1,
          "yref": "y1"
         },
         {
          "align": "left",
          "font": {
           "color": "#000000"
          },
          "showarrow": false,
          "text": "Gecko",
          "x": 0.55,
          "xanchor": "left",
          "xref": "x1",
          "y": 1,
          "yref": "y1"
         },
         {
          "align": "left",
          "font": {
           "color": "#000000"
          },
          "showarrow": false,
          "text": "( 22 / 797 )",
          "x": 1.55,
          "xanchor": "left",
          "xref": "x1",
          "y": 1,
          "yref": "y1"
         },
         {
          "align": "left",
          "font": {
           "color": "#000000"
          },
          "showarrow": false,
          "text": "2.76",
          "x": 2.55,
          "xanchor": "left",
          "xref": "x1",
          "y": 1,
          "yref": "y1"
         },
         {
          "align": "left",
          "font": {
           "color": "#000000"
          },
          "showarrow": false,
          "text": "( 41 / 4245 )",
          "x": 3.55,
          "xanchor": "left",
          "xref": "x1",
          "y": 1,
          "yref": "y1"
         },
         {
          "align": "left",
          "font": {
           "color": "#000000"
          },
          "showarrow": false,
          "text": "0.97",
          "x": 4.55,
          "xanchor": "left",
          "xref": "x1",
          "y": 1,
          "yref": "y1"
         },
         {
          "align": "left",
          "font": {
           "color": "#000000"
          },
          "showarrow": false,
          "text": "git",
          "x": -0.45,
          "xanchor": "left",
          "xref": "x1",
          "y": 2,
          "yref": "y1"
         },
         {
          "align": "left",
          "font": {
           "color": "#000000"
          },
          "showarrow": false,
          "text": "Rust",
          "x": 0.55,
          "xanchor": "left",
          "xref": "x1",
          "y": 2,
          "yref": "y1"
         },
         {
          "align": "left",
          "font": {
           "color": "#000000"
          },
          "showarrow": false,
          "text": "( 18 / 729 )",
          "x": 1.55,
          "xanchor": "left",
          "xref": "x1",
          "y": 2,
          "yref": "y1"
         },
         {
          "align": "left",
          "font": {
           "color": "#000000"
          },
          "showarrow": false,
          "text": "2.47",
          "x": 2.55,
          "xanchor": "left",
          "xref": "x1",
          "y": 2,
          "yref": "y1"
         },
         {
          "align": "left",
          "font": {
           "color": "#000000"
          },
          "showarrow": false,
          "text": "( 25 / 2400 )",
          "x": 3.55,
          "xanchor": "left",
          "xref": "x1",
          "y": 2,
          "yref": "y1"
         },
         {
          "align": "left",
          "font": {
           "color": "#000000"
          },
          "showarrow": false,
          "text": "1.04",
          "x": 4.55,
          "xanchor": "left",
          "xref": "x1",
          "y": 2,
          "yref": "y1"
         },
         {
          "align": "left",
          "font": {
           "color": "#000000"
          },
          "showarrow": false,
          "text": "git",
          "x": -0.45,
          "xanchor": "left",
          "xref": "x1",
          "y": 3,
          "yref": "y1"
         },
         {
          "align": "left",
          "font": {
           "color": "#000000"
          },
          "showarrow": false,
          "text": "Servo",
          "x": 0.55,
          "xanchor": "left",
          "xref": "x1",
          "y": 3,
          "yref": "y1"
         },
         {
          "align": "left",
          "font": {
           "color": "#000000"
          },
          "showarrow": false,
          "text": "( 15 / 353 )",
          "x": 1.55,
          "xanchor": "left",
          "xref": "x1",
          "y": 3,
          "yref": "y1"
         },
         {
          "align": "left",
          "font": {
           "color": "#000000"
          },
          "showarrow": false,
          "text": "4.25",
          "x": 2.55,
          "xanchor": "left",
          "xref": "x1",
          "y": 3,
          "yref": "y1"
         },
         {
          "align": "left",
          "font": {
           "color": "#000000"
          },
          "showarrow": false,
          "text": "( 22 / 1282 )",
          "x": 3.55,
          "xanchor": "left",
          "xref": "x1",
          "y": 3,
          "yref": "y1"
         },
         {
          "align": "left",
          "font": {
           "color": "#000000"
          },
          "showarrow": false,
          "text": "1.72",
          "x": 4.55,
          "xanchor": "left",
          "xref": "x1",
          "y": 3,
          "yref": "y1"
         },
         {
          "align": "left",
          "font": {
           "color": "#000000"
          },
          "showarrow": false,
          "text": "git",
          "x": -0.45,
          "xanchor": "left",
          "xref": "x1",
          "y": 4,
          "yref": "y1"
         },
         {
          "align": "left",
          "font": {
           "color": "#000000"
          },
          "showarrow": false,
          "text": "Firefox",
          "x": 0.55,
          "xanchor": "left",
          "xref": "x1",
          "y": 4,
          "yref": "y1"
         },
         {
          "align": "left",
          "font": {
           "color": "#000000"
          },
          "showarrow": false,
          "text": "( 5 / 209 )",
          "x": 1.55,
          "xanchor": "left",
          "xref": "x1",
          "y": 4,
          "yref": "y1"
         },
         {
          "align": "left",
          "font": {
           "color": "#000000"
          },
          "showarrow": false,
          "text": "2.39",
          "x": 2.55,
          "xanchor": "left",
          "xref": "x1",
          "y": 4,
          "yref": "y1"
         },
         {
          "align": "left",
          "font": {
           "color": "#000000"
          },
          "showarrow": false,
          "text": "( 16 / 1133 )",
          "x": 3.55,
          "xanchor": "left",
          "xref": "x1",
          "y": 4,
          "yref": "y1"
         },
         {
          "align": "left",
          "font": {
           "color": "#000000"
          },
          "showarrow": false,
          "text": "1.41",
          "x": 4.55,
          "xanchor": "left",
          "xref": "x1",
          "y": 4,
          "yref": "y1"
         },
         {
          "align": "left",
          "font": {
           "color": "#000000"
          },
          "showarrow": false,
          "text": "git",
          "x": -0.45,
          "xanchor": "left",
          "xref": "x1",
          "y": 5,
          "yref": "y1"
         },
         {
          "align": "left",
          "font": {
           "color": "#000000"
          },
          "showarrow": false,
          "text": "WebVR",
          "x": 0.55,
          "xanchor": "left",
          "xref": "x1",
          "y": 5,
          "yref": "y1"
         },
         {
          "align": "left",
          "font": {
           "color": "#000000"
          },
          "showarrow": false,
          "text": "( 6 / 162 )",
          "x": 1.55,
          "xanchor": "left",
          "xref": "x1",
          "y": 5,
          "yref": "y1"
         },
         {
          "align": "left",
          "font": {
           "color": "#000000"
          },
          "showarrow": false,
          "text": "3.7",
          "x": 2.55,
          "xanchor": "left",
          "xref": "x1",
          "y": 5,
          "yref": "y1"
         },
         {
          "align": "left",
          "font": {
           "color": "#000000"
          },
          "showarrow": false,
          "text": "( 6 / 221 )",
          "x": 3.55,
          "xanchor": "left",
          "xref": "x1",
          "y": 5,
          "yref": "y1"
         },
         {
          "align": "left",
          "font": {
           "color": "#000000"
          },
          "showarrow": false,
          "text": "2.71",
          "x": 4.55,
          "xanchor": "left",
          "xref": "x1",
          "y": 5,
          "yref": "y1"
         },
         {
          "align": "left",
          "font": {
           "color": "#000000"
          },
          "showarrow": false,
          "text": "git",
          "x": -0.45,
          "xanchor": "left",
          "xref": "x1",
          "y": 6,
          "yref": "y1"
         },
         {
          "align": "left",
          "font": {
           "color": "#000000"
          },
          "showarrow": false,
          "text": "Firefox OS (FxOS / B2G)",
          "x": 0.55,
          "xanchor": "left",
          "xref": "x1",
          "y": 6,
          "yref": "y1"
         },
         {
          "align": "left",
          "font": {
           "color": "#000000"
          },
          "showarrow": false,
          "text": "( 0 / 1 )",
          "x": 1.55,
          "xanchor": "left",
          "xref": "x1",
          "y": 6,
          "yref": "y1"
         },
         {
          "align": "left",
          "font": {
           "color": "#000000"
          },
          "showarrow": false,
          "text": "0.0",
          "x": 2.55,
          "xanchor": "left",
          "xref": "x1",
          "y": 6,
          "yref": "y1"
         },
         {
          "align": "left",
          "font": {
           "color": "#000000"
          },
          "showarrow": false,
          "text": "( 9 / 92 )",
          "x": 3.55,
          "xanchor": "left",
          "xref": "x1",
          "y": 6,
          "yref": "y1"
         },
         {
          "align": "left",
          "font": {
           "color": "#000000"
          },
          "showarrow": false,
          "text": "9.78",
          "x": 4.55,
          "xanchor": "left",
          "xref": "x1",
          "y": 6,
          "yref": "y1"
         },
         {
          "align": "left",
          "font": {
           "color": "#000000"
          },
          "showarrow": false,
          "text": "git",
          "x": -0.45,
          "xanchor": "left",
          "xref": "x1",
          "y": 7,
          "yref": "y1"
         },
         {
          "align": "left",
          "font": {
           "color": "#000000"
          },
          "showarrow": false,
          "text": "All",
          "x": 0.55,
          "xanchor": "left",
          "xref": "x1",
          "y": 7,
          "yref": "y1"
         },
         {
          "align": "left",
          "font": {
           "color": "#000000"
          },
          "showarrow": false,
          "text": "( 110 / 3142 )",
          "x": 1.55,
          "xanchor": "left",
          "xref": "x1",
          "y": 7,
          "yref": "y1"
         },
         {
          "align": "left",
          "font": {
           "color": "#000000"
          },
          "showarrow": false,
          "text": "3.5",
          "x": 2.55,
          "xanchor": "left",
          "xref": "x1",
          "y": 7,
          "yref": "y1"
         },
         {
          "align": "left",
          "font": {
           "color": "#000000"
          },
          "showarrow": false,
          "text": "( 159 / 13351 )",
          "x": 3.55,
          "xanchor": "left",
          "xref": "x1",
          "y": 7,
          "yref": "y1"
         },
         {
          "align": "left",
          "font": {
           "color": "#000000"
          },
          "showarrow": false,
          "text": "1.19",
          "x": 4.55,
          "xanchor": "left",
          "xref": "x1",
          "y": 7,
          "yref": "y1"
         },
         {
          "align": "left",
          "font": {
           "color": "#000000"
          },
          "showarrow": false,
          "text": "bugzilla",
          "x": -0.45,
          "xanchor": "left",
          "xref": "x1",
          "y": 8,
          "yref": "y1"
         },
         {
          "align": "left",
          "font": {
           "color": "#000000"
          },
          "showarrow": false,
          "text": "Gecko",
          "x": 0.55,
          "xanchor": "left",
          "xref": "x1",
          "y": 8,
          "yref": "y1"
         },
         {
          "align": "left",
          "font": {
           "color": "#000000"
          },
          "showarrow": false,
          "text": "( 30 / 3721 )",
          "x": 1.55,
          "xanchor": "left",
          "xref": "x1",
          "y": 8,
          "yref": "y1"
         },
         {
          "align": "left",
          "font": {
           "color": "#000000"
          },
          "showarrow": false,
          "text": "0.81",
          "x": 2.55,
          "xanchor": "left",
          "xref": "x1",
          "y": 8,
          "yref": "y1"
         },
         {
          "align": "left",
          "font": {
           "color": "#000000"
          },
          "showarrow": false,
          "text": "( 97 / 62212 )",
          "x": 3.55,
          "xanchor": "left",
          "xref": "x1",
          "y": 8,
          "yref": "y1"
         },
         {
          "align": "left",
          "font": {
           "color": "#000000"
          },
          "showarrow": false,
          "text": "0.16",
          "x": 4.55,
          "xanchor": "left",
          "xref": "x1",
          "y": 8,
          "yref": "y1"
         },
         {
          "align": "left",
          "font": {
           "color": "#000000"
          },
          "showarrow": false,
          "text": "bugzilla",
          "x": -0.45,
          "xanchor": "left",
          "xref": "x1",
          "y": 9,
          "yref": "y1"
         },
         {
          "align": "left",
          "font": {
           "color": "#000000"
          },
          "showarrow": false,
          "text": "Rust",
          "x": 0.55,
          "xanchor": "left",
          "xref": "x1",
          "y": 9,
          "yref": "y1"
         },
         {
          "align": "left",
          "font": {
           "color": "#000000"
          },
          "showarrow": false,
          "text": "( 0 / 0 )",
          "x": 1.55,
          "xanchor": "left",
          "xref": "x1",
          "y": 9,
          "yref": "y1"
         },
         {
          "align": "left",
          "font": {
           "color": "#000000"
          },
          "showarrow": false,
          "text": "0.0",
          "x": 2.55,
          "xanchor": "left",
          "xref": "x1",
          "y": 9,
          "yref": "y1"
         },
         {
          "align": "left",
          "font": {
           "color": "#000000"
          },
          "showarrow": false,
          "text": "( 0 / 0 )",
          "x": 3.55,
          "xanchor": "left",
          "xref": "x1",
          "y": 9,
          "yref": "y1"
         },
         {
          "align": "left",
          "font": {
           "color": "#000000"
          },
          "showarrow": false,
          "text": "0.0",
          "x": 4.55,
          "xanchor": "left",
          "xref": "x1",
          "y": 9,
          "yref": "y1"
         },
         {
          "align": "left",
          "font": {
           "color": "#000000"
          },
          "showarrow": false,
          "text": "bugzilla",
          "x": -0.45,
          "xanchor": "left",
          "xref": "x1",
          "y": 10,
          "yref": "y1"
         },
         {
          "align": "left",
          "font": {
           "color": "#000000"
          },
          "showarrow": false,
          "text": "Servo",
          "x": 0.55,
          "xanchor": "left",
          "xref": "x1",
          "y": 10,
          "yref": "y1"
         },
         {
          "align": "left",
          "font": {
           "color": "#000000"
          },
          "showarrow": false,
          "text": "( 0 / 0 )",
          "x": 1.55,
          "xanchor": "left",
          "xref": "x1",
          "y": 10,
          "yref": "y1"
         },
         {
          "align": "left",
          "font": {
           "color": "#000000"
          },
          "showarrow": false,
          "text": "0.0",
          "x": 2.55,
          "xanchor": "left",
          "xref": "x1",
          "y": 10,
          "yref": "y1"
         },
         {
          "align": "left",
          "font": {
           "color": "#000000"
          },
          "showarrow": false,
          "text": "( 0 / 0 )",
          "x": 3.55,
          "xanchor": "left",
          "xref": "x1",
          "y": 10,
          "yref": "y1"
         },
         {
          "align": "left",
          "font": {
           "color": "#000000"
          },
          "showarrow": false,
          "text": "0.0",
          "x": 4.55,
          "xanchor": "left",
          "xref": "x1",
          "y": 10,
          "yref": "y1"
         },
         {
          "align": "left",
          "font": {
           "color": "#000000"
          },
          "showarrow": false,
          "text": "bugzilla",
          "x": -0.45,
          "xanchor": "left",
          "xref": "x1",
          "y": 11,
          "yref": "y1"
         },
         {
          "align": "left",
          "font": {
           "color": "#000000"
          },
          "showarrow": false,
          "text": "Firefox",
          "x": 0.55,
          "xanchor": "left",
          "xref": "x1",
          "y": 11,
          "yref": "y1"
         },
         {
          "align": "left",
          "font": {
           "color": "#000000"
          },
          "showarrow": false,
          "text": "( 24 / 2384 )",
          "x": 1.55,
          "xanchor": "left",
          "xref": "x1",
          "y": 11,
          "yref": "y1"
         },
         {
          "align": "left",
          "font": {
           "color": "#000000"
          },
          "showarrow": false,
          "text": "1.01",
          "x": 2.55,
          "xanchor": "left",
          "xref": "x1",
          "y": 11,
          "yref": "y1"
         },
         {
          "align": "left",
          "font": {
           "color": "#000000"
          },
          "showarrow": false,
          "text": "( 90 / 71782 )",
          "x": 3.55,
          "xanchor": "left",
          "xref": "x1",
          "y": 11,
          "yref": "y1"
         },
         {
          "align": "left",
          "font": {
           "color": "#000000"
          },
          "showarrow": false,
          "text": "0.13",
          "x": 4.55,
          "xanchor": "left",
          "xref": "x1",
          "y": 11,
          "yref": "y1"
         },
         {
          "align": "left",
          "font": {
           "color": "#000000"
          },
          "showarrow": false,
          "text": "bugzilla",
          "x": -0.45,
          "xanchor": "left",
          "xref": "x1",
          "y": 12,
          "yref": "y1"
         },
         {
          "align": "left",
          "font": {
           "color": "#000000"
          },
          "showarrow": false,
          "text": "WebVR",
          "x": 0.55,
          "xanchor": "left",
          "xref": "x1",
          "y": 12,
          "yref": "y1"
         },
         {
          "align": "left",
          "font": {
           "color": "#000000"
          },
          "showarrow": false,
          "text": "( 0 / 0 )",
          "x": 1.55,
          "xanchor": "left",
          "xref": "x1",
          "y": 12,
          "yref": "y1"
         },
         {
          "align": "left",
          "font": {
           "color": "#000000"
          },
          "showarrow": false,
          "text": "0.0",
          "x": 2.55,
          "xanchor": "left",
          "xref": "x1",
          "y": 12,
          "yref": "y1"
         },
         {
          "align": "left",
          "font": {
           "color": "#000000"
          },
          "showarrow": false,
          "text": "( 0 / 0 )",
          "x": 3.55,
          "xanchor": "left",
          "xref": "x1",
          "y": 12,
          "yref": "y1"
         },
         {
          "align": "left",
          "font": {
           "color": "#000000"
          },
          "showarrow": false,
          "text": "0.0",
          "x": 4.55,
          "xanchor": "left",
          "xref": "x1",
          "y": 12,
          "yref": "y1"
         },
         {
          "align": "left",
          "font": {
           "color": "#000000"
          },
          "showarrow": false,
          "text": "bugzilla",
          "x": -0.45,
          "xanchor": "left",
          "xref": "x1",
          "y": 13,
          "yref": "y1"
         },
         {
          "align": "left",
          "font": {
           "color": "#000000"
          },
          "showarrow": false,
          "text": "Firefox OS (FxOS / B2G)",
          "x": 0.55,
          "xanchor": "left",
          "xref": "x1",
          "y": 13,
          "yref": "y1"
         },
         {
          "align": "left",
          "font": {
           "color": "#000000"
          },
          "showarrow": false,
          "text": "( 2 / 46 )",
          "x": 1.55,
          "xanchor": "left",
          "xref": "x1",
          "y": 13,
          "yref": "y1"
         },
         {
          "align": "left",
          "font": {
           "color": "#000000"
          },
          "showarrow": false,
          "text": "4.35",
          "x": 2.55,
          "xanchor": "left",
          "xref": "x1",
          "y": 13,
          "yref": "y1"
         },
         {
          "align": "left",
          "font": {
           "color": "#000000"
          },
          "showarrow": false,
          "text": "( 62 / 2206 )",
          "x": 3.55,
          "xanchor": "left",
          "xref": "x1",
          "y": 13,
          "yref": "y1"
         },
         {
          "align": "left",
          "font": {
           "color": "#000000"
          },
          "showarrow": false,
          "text": "2.81",
          "x": 4.55,
          "xanchor": "left",
          "xref": "x1",
          "y": 13,
          "yref": "y1"
         },
         {
          "align": "left",
          "font": {
           "color": "#000000"
          },
          "showarrow": false,
          "text": "bugzilla",
          "x": -0.45,
          "xanchor": "left",
          "xref": "x1",
          "y": 14,
          "yref": "y1"
         },
         {
          "align": "left",
          "font": {
           "color": "#000000"
          },
          "showarrow": false,
          "text": "All",
          "x": 0.55,
          "xanchor": "left",
          "xref": "x1",
          "y": 14,
          "yref": "y1"
         },
         {
          "align": "left",
          "font": {
           "color": "#000000"
          },
          "showarrow": false,
          "text": "( 75 / 8909 )",
          "x": 1.55,
          "xanchor": "left",
          "xref": "x1",
          "y": 14,
          "yref": "y1"
         },
         {
          "align": "left",
          "font": {
           "color": "#000000"
          },
          "showarrow": false,
          "text": "0.84",
          "x": 2.55,
          "xanchor": "left",
          "xref": "x1",
          "y": 14,
          "yref": "y1"
         },
         {
          "align": "left",
          "font": {
           "color": "#000000"
          },
          "showarrow": false,
          "text": "( 190 / 183219 )",
          "x": 3.55,
          "xanchor": "left",
          "xref": "x1",
          "y": 14,
          "yref": "y1"
         },
         {
          "align": "left",
          "font": {
           "color": "#000000"
          },
          "showarrow": false,
          "text": "0.1",
          "x": 4.55,
          "xanchor": "left",
          "xref": "x1",
          "y": 14,
          "yref": "y1"
         },
         {
          "align": "left",
          "font": {
           "color": "#000000"
          },
          "showarrow": false,
          "text": "github_issues",
          "x": -0.45,
          "xanchor": "left",
          "xref": "x1",
          "y": 15,
          "yref": "y1"
         },
         {
          "align": "left",
          "font": {
           "color": "#000000"
          },
          "showarrow": false,
          "text": "Gecko",
          "x": 0.55,
          "xanchor": "left",
          "xref": "x1",
          "y": 15,
          "yref": "y1"
         },
         {
          "align": "left",
          "font": {
           "color": "#000000"
          },
          "showarrow": false,
          "text": "( 0 / 373 )",
          "x": 1.55,
          "xanchor": "left",
          "xref": "x1",
          "y": 15,
          "yref": "y1"
         },
         {
          "align": "left",
          "font": {
           "color": "#000000"
          },
          "showarrow": false,
          "text": "0.0",
          "x": 2.55,
          "xanchor": "left",
          "xref": "x1",
          "y": 15,
          "yref": "y1"
         },
         {
          "align": "left",
          "font": {
           "color": "#000000"
          },
          "showarrow": false,
          "text": "( 0 / 409 )",
          "x": 3.55,
          "xanchor": "left",
          "xref": "x1",
          "y": 15,
          "yref": "y1"
         },
         {
          "align": "left",
          "font": {
           "color": "#000000"
          },
          "showarrow": false,
          "text": "0.0",
          "x": 4.55,
          "xanchor": "left",
          "xref": "x1",
          "y": 15,
          "yref": "y1"
         },
         {
          "align": "left",
          "font": {
           "color": "#000000"
          },
          "showarrow": false,
          "text": "github_issues",
          "x": -0.45,
          "xanchor": "left",
          "xref": "x1",
          "y": 16,
          "yref": "y1"
         },
         {
          "align": "left",
          "font": {
           "color": "#000000"
          },
          "showarrow": false,
          "text": "Rust",
          "x": 0.55,
          "xanchor": "left",
          "xref": "x1",
          "y": 16,
          "yref": "y1"
         },
         {
          "align": "left",
          "font": {
           "color": "#000000"
          },
          "showarrow": false,
          "text": "( 23 / 2077 )",
          "x": 1.55,
          "xanchor": "left",
          "xref": "x1",
          "y": 16,
          "yref": "y1"
         },
         {
          "align": "left",
          "font": {
           "color": "#000000"
          },
          "showarrow": false,
          "text": "1.11",
          "x": 2.55,
          "xanchor": "left",
          "xref": "x1",
          "y": 16,
          "yref": "y1"
         },
         {
          "align": "left",
          "font": {
           "color": "#000000"
          },
          "showarrow": false,
          "text": "( 28 / 5235 )",
          "x": 3.55,
          "xanchor": "left",
          "xref": "x1",
          "y": 16,
          "yref": "y1"
         },
         {
          "align": "left",
          "font": {
           "color": "#000000"
          },
          "showarrow": false,
          "text": "0.53",
          "x": 4.55,
          "xanchor": "left",
          "xref": "x1",
          "y": 16,
          "yref": "y1"
         },
         {
          "align": "left",
          "font": {
           "color": "#000000"
          },
          "showarrow": false,
          "text": "github_issues",
          "x": -0.45,
          "xanchor": "left",
          "xref": "x1",
          "y": 17,
          "yref": "y1"
         },
         {
          "align": "left",
          "font": {
           "color": "#000000"
          },
          "showarrow": false,
          "text": "Servo",
          "x": 0.55,
          "xanchor": "left",
          "xref": "x1",
          "y": 17,
          "yref": "y1"
         },
         {
          "align": "left",
          "font": {
           "color": "#000000"
          },
          "showarrow": false,
          "text": "( 23 / 845 )",
          "x": 1.55,
          "xanchor": "left",
          "xref": "x1",
          "y": 17,
          "yref": "y1"
         },
         {
          "align": "left",
          "font": {
           "color": "#000000"
          },
          "showarrow": false,
          "text": "2.72",
          "x": 2.55,
          "xanchor": "left",
          "xref": "x1",
          "y": 17,
          "yref": "y1"
         },
         {
          "align": "left",
          "font": {
           "color": "#000000"
          },
          "showarrow": false,
          "text": "( 29 / 1619 )",
          "x": 3.55,
          "xanchor": "left",
          "xref": "x1",
          "y": 17,
          "yref": "y1"
         },
         {
          "align": "left",
          "font": {
           "color": "#000000"
          },
          "showarrow": false,
          "text": "1.79",
          "x": 4.55,
          "xanchor": "left",
          "xref": "x1",
          "y": 17,
          "yref": "y1"
         },
         {
          "align": "left",
          "font": {
           "color": "#000000"
          },
          "showarrow": false,
          "text": "github_issues",
          "x": -0.45,
          "xanchor": "left",
          "xref": "x1",
          "y": 18,
          "yref": "y1"
         },
         {
          "align": "left",
          "font": {
           "color": "#000000"
          },
          "showarrow": false,
          "text": "Firefox",
          "x": 0.55,
          "xanchor": "left",
          "xref": "x1",
          "y": 18,
          "yref": "y1"
         },
         {
          "align": "left",
          "font": {
           "color": "#000000"
          },
          "showarrow": false,
          "text": "( 1 / 53 )",
          "x": 1.55,
          "xanchor": "left",
          "xref": "x1",
          "y": 18,
          "yref": "y1"
         },
         {
          "align": "left",
          "font": {
           "color": "#000000"
          },
          "showarrow": false,
          "text": "1.89",
          "x": 2.55,
          "xanchor": "left",
          "xref": "x1",
          "y": 18,
          "yref": "y1"
         },
         {
          "align": "left",
          "font": {
           "color": "#000000"
          },
          "showarrow": false,
          "text": "( 2 / 69 )",
          "x": 3.55,
          "xanchor": "left",
          "xref": "x1",
          "y": 18,
          "yref": "y1"
         },
         {
          "align": "left",
          "font": {
           "color": "#000000"
          },
          "showarrow": false,
          "text": "2.9",
          "x": 4.55,
          "xanchor": "left",
          "xref": "x1",
          "y": 18,
          "yref": "y1"
         },
         {
          "align": "left",
          "font": {
           "color": "#000000"
          },
          "showarrow": false,
          "text": "github_issues",
          "x": -0.45,
          "xanchor": "left",
          "xref": "x1",
          "y": 19,
          "yref": "y1"
         },
         {
          "align": "left",
          "font": {
           "color": "#000000"
          },
          "showarrow": false,
          "text": "WebVR",
          "x": 0.55,
          "xanchor": "left",
          "xref": "x1",
          "y": 19,
          "yref": "y1"
         },
         {
          "align": "left",
          "font": {
           "color": "#000000"
          },
          "showarrow": false,
          "text": "( 8 / 374 )",
          "x": 1.55,
          "xanchor": "left",
          "xref": "x1",
          "y": 19,
          "yref": "y1"
         },
         {
          "align": "left",
          "font": {
           "color": "#000000"
          },
          "showarrow": false,
          "text": "2.14",
          "x": 2.55,
          "xanchor": "left",
          "xref": "x1",
          "y": 19,
          "yref": "y1"
         },
         {
          "align": "left",
          "font": {
           "color": "#000000"
          },
          "showarrow": false,
          "text": "( 8 / 530 )",
          "x": 3.55,
          "xanchor": "left",
          "xref": "x1",
          "y": 19,
          "yref": "y1"
         },
         {
          "align": "left",
          "font": {
           "color": "#000000"
          },
          "showarrow": false,
          "text": "1.51",
          "x": 4.55,
          "xanchor": "left",
          "xref": "x1",
          "y": 19,
          "yref": "y1"
         },
         {
          "align": "left",
          "font": {
           "color": "#000000"
          },
          "showarrow": false,
          "text": "github_issues",
          "x": -0.45,
          "xanchor": "left",
          "xref": "x1",
          "y": 20,
          "yref": "y1"
         },
         {
          "align": "left",
          "font": {
           "color": "#000000"
          },
          "showarrow": false,
          "text": "Firefox OS (FxOS / B2G)",
          "x": 0.55,
          "xanchor": "left",
          "xref": "x1",
          "y": 20,
          "yref": "y1"
         },
         {
          "align": "left",
          "font": {
           "color": "#000000"
          },
          "showarrow": false,
          "text": "( 0 / 3 )",
          "x": 1.55,
          "xanchor": "left",
          "xref": "x1",
          "y": 20,
          "yref": "y1"
         },
         {
          "align": "left",
          "font": {
           "color": "#000000"
          },
          "showarrow": false,
          "text": "0.0",
          "x": 2.55,
          "xanchor": "left",
          "xref": "x1",
          "y": 20,
          "yref": "y1"
         },
         {
          "align": "left",
          "font": {
           "color": "#000000"
          },
          "showarrow": false,
          "text": "( 6 / 69 )",
          "x": 3.55,
          "xanchor": "left",
          "xref": "x1",
          "y": 20,
          "yref": "y1"
         },
         {
          "align": "left",
          "font": {
           "color": "#000000"
          },
          "showarrow": false,
          "text": "8.7",
          "x": 4.55,
          "xanchor": "left",
          "xref": "x1",
          "y": 20,
          "yref": "y1"
         },
         {
          "align": "left",
          "font": {
           "color": "#000000"
          },
          "showarrow": false,
          "text": "github_issues",
          "x": -0.45,
          "xanchor": "left",
          "xref": "x1",
          "y": 21,
          "yref": "y1"
         },
         {
          "align": "left",
          "font": {
           "color": "#000000"
          },
          "showarrow": false,
          "text": "All",
          "x": 0.55,
          "xanchor": "left",
          "xref": "x1",
          "y": 21,
          "yref": "y1"
         },
         {
          "align": "left",
          "font": {
           "color": "#000000"
          },
          "showarrow": false,
          "text": "( 101 / 6677 )",
          "x": 1.55,
          "xanchor": "left",
          "xref": "x1",
          "y": 21,
          "yref": "y1"
         },
         {
          "align": "left",
          "font": {
           "color": "#000000"
          },
          "showarrow": false,
          "text": "1.51",
          "x": 2.55,
          "xanchor": "left",
          "xref": "x1",
          "y": 21,
          "yref": "y1"
         },
         {
          "align": "left",
          "font": {
           "color": "#000000"
          },
          "showarrow": false,
          "text": "( 165 / 17657 )",
          "x": 3.55,
          "xanchor": "left",
          "xref": "x1",
          "y": 21,
          "yref": "y1"
         },
         {
          "align": "left",
          "font": {
           "color": "#000000"
          },
          "showarrow": false,
          "text": "0.93",
          "x": 4.55,
          "xanchor": "left",
          "xref": "x1",
          "y": 21,
          "yref": "y1"
         },
         {
          "align": "left",
          "font": {
           "color": "#000000"
          },
          "showarrow": false,
          "text": "discourse",
          "x": -0.45,
          "xanchor": "left",
          "xref": "x1",
          "y": 22,
          "yref": "y1"
         },
         {
          "align": "left",
          "font": {
           "color": "#000000"
          },
          "showarrow": false,
          "text": "Gecko",
          "x": 0.55,
          "xanchor": "left",
          "xref": "x1",
          "y": 22,
          "yref": "y1"
         },
         {
          "align": "left",
          "font": {
           "color": "#000000"
          },
          "showarrow": false,
          "text": "( 0 / 0 )",
          "x": 1.55,
          "xanchor": "left",
          "xref": "x1",
          "y": 22,
          "yref": "y1"
         },
         {
          "align": "left",
          "font": {
           "color": "#000000"
          },
          "showarrow": false,
          "text": "0.0",
          "x": 2.55,
          "xanchor": "left",
          "xref": "x1",
          "y": 22,
          "yref": "y1"
         },
         {
          "align": "left",
          "font": {
           "color": "#000000"
          },
          "showarrow": false,
          "text": "( 0 / 0 )",
          "x": 3.55,
          "xanchor": "left",
          "xref": "x1",
          "y": 22,
          "yref": "y1"
         },
         {
          "align": "left",
          "font": {
           "color": "#000000"
          },
          "showarrow": false,
          "text": "0.0",
          "x": 4.55,
          "xanchor": "left",
          "xref": "x1",
          "y": 22,
          "yref": "y1"
         },
         {
          "align": "left",
          "font": {
           "color": "#000000"
          },
          "showarrow": false,
          "text": "discourse",
          "x": -0.45,
          "xanchor": "left",
          "xref": "x1",
          "y": 23,
          "yref": "y1"
         },
         {
          "align": "left",
          "font": {
           "color": "#000000"
          },
          "showarrow": false,
          "text": "Rust",
          "x": 0.55,
          "xanchor": "left",
          "xref": "x1",
          "y": 23,
          "yref": "y1"
         },
         {
          "align": "left",
          "font": {
           "color": "#000000"
          },
          "showarrow": false,
          "text": "( 0 / 0 )",
          "x": 1.55,
          "xanchor": "left",
          "xref": "x1",
          "y": 23,
          "yref": "y1"
         },
         {
          "align": "left",
          "font": {
           "color": "#000000"
          },
          "showarrow": false,
          "text": "0.0",
          "x": 2.55,
          "xanchor": "left",
          "xref": "x1",
          "y": 23,
          "yref": "y1"
         },
         {
          "align": "left",
          "font": {
           "color": "#000000"
          },
          "showarrow": false,
          "text": "( 0 / 0 )",
          "x": 3.55,
          "xanchor": "left",
          "xref": "x1",
          "y": 23,
          "yref": "y1"
         },
         {
          "align": "left",
          "font": {
           "color": "#000000"
          },
          "showarrow": false,
          "text": "0.0",
          "x": 4.55,
          "xanchor": "left",
          "xref": "x1",
          "y": 23,
          "yref": "y1"
         },
         {
          "align": "left",
          "font": {
           "color": "#000000"
          },
          "showarrow": false,
          "text": "discourse",
          "x": -0.45,
          "xanchor": "left",
          "xref": "x1",
          "y": 24,
          "yref": "y1"
         },
         {
          "align": "left",
          "font": {
           "color": "#000000"
          },
          "showarrow": false,
          "text": "Servo",
          "x": 0.55,
          "xanchor": "left",
          "xref": "x1",
          "y": 24,
          "yref": "y1"
         },
         {
          "align": "left",
          "font": {
           "color": "#000000"
          },
          "showarrow": false,
          "text": "( 0 / 0 )",
          "x": 1.55,
          "xanchor": "left",
          "xref": "x1",
          "y": 24,
          "yref": "y1"
         },
         {
          "align": "left",
          "font": {
           "color": "#000000"
          },
          "showarrow": false,
          "text": "0.0",
          "x": 2.55,
          "xanchor": "left",
          "xref": "x1",
          "y": 24,
          "yref": "y1"
         },
         {
          "align": "left",
          "font": {
           "color": "#000000"
          },
          "showarrow": false,
          "text": "( 0 / 0 )",
          "x": 3.55,
          "xanchor": "left",
          "xref": "x1",
          "y": 24,
          "yref": "y1"
         },
         {
          "align": "left",
          "font": {
           "color": "#000000"
          },
          "showarrow": false,
          "text": "0.0",
          "x": 4.55,
          "xanchor": "left",
          "xref": "x1",
          "y": 24,
          "yref": "y1"
         },
         {
          "align": "left",
          "font": {
           "color": "#000000"
          },
          "showarrow": false,
          "text": "discourse",
          "x": -0.45,
          "xanchor": "left",
          "xref": "x1",
          "y": 25,
          "yref": "y1"
         },
         {
          "align": "left",
          "font": {
           "color": "#000000"
          },
          "showarrow": false,
          "text": "Firefox",
          "x": 0.55,
          "xanchor": "left",
          "xref": "x1",
          "y": 25,
          "yref": "y1"
         },
         {
          "align": "left",
          "font": {
           "color": "#000000"
          },
          "showarrow": false,
          "text": "( 0 / 0 )",
          "x": 1.55,
          "xanchor": "left",
          "xref": "x1",
          "y": 25,
          "yref": "y1"
         },
         {
          "align": "left",
          "font": {
           "color": "#000000"
          },
          "showarrow": false,
          "text": "0.0",
          "x": 2.55,
          "xanchor": "left",
          "xref": "x1",
          "y": 25,
          "yref": "y1"
         },
         {
          "align": "left",
          "font": {
           "color": "#000000"
          },
          "showarrow": false,
          "text": "( 0 / 0 )",
          "x": 3.55,
          "xanchor": "left",
          "xref": "x1",
          "y": 25,
          "yref": "y1"
         },
         {
          "align": "left",
          "font": {
           "color": "#000000"
          },
          "showarrow": false,
          "text": "0.0",
          "x": 4.55,
          "xanchor": "left",
          "xref": "x1",
          "y": 25,
          "yref": "y1"
         },
         {
          "align": "left",
          "font": {
           "color": "#000000"
          },
          "showarrow": false,
          "text": "discourse",
          "x": -0.45,
          "xanchor": "left",
          "xref": "x1",
          "y": 26,
          "yref": "y1"
         },
         {
          "align": "left",
          "font": {
           "color": "#000000"
          },
          "showarrow": false,
          "text": "WebVR",
          "x": 0.55,
          "xanchor": "left",
          "xref": "x1",
          "y": 26,
          "yref": "y1"
         },
         {
          "align": "left",
          "font": {
           "color": "#000000"
          },
          "showarrow": false,
          "text": "( 1 / 37 )",
          "x": 1.55,
          "xanchor": "left",
          "xref": "x1",
          "y": 26,
          "yref": "y1"
         },
         {
          "align": "left",
          "font": {
           "color": "#000000"
          },
          "showarrow": false,
          "text": "2.7",
          "x": 2.55,
          "xanchor": "left",
          "xref": "x1",
          "y": 26,
          "yref": "y1"
         },
         {
          "align": "left",
          "font": {
           "color": "#000000"
          },
          "showarrow": false,
          "text": "( 1 / 37 )",
          "x": 3.55,
          "xanchor": "left",
          "xref": "x1",
          "y": 26,
          "yref": "y1"
         },
         {
          "align": "left",
          "font": {
           "color": "#000000"
          },
          "showarrow": false,
          "text": "2.7",
          "x": 4.55,
          "xanchor": "left",
          "xref": "x1",
          "y": 26,
          "yref": "y1"
         },
         {
          "align": "left",
          "font": {
           "color": "#000000"
          },
          "showarrow": false,
          "text": "discourse",
          "x": -0.45,
          "xanchor": "left",
          "xref": "x1",
          "y": 27,
          "yref": "y1"
         },
         {
          "align": "left",
          "font": {
           "color": "#000000"
          },
          "showarrow": false,
          "text": "Firefox OS (FxOS / B2G)",
          "x": 0.55,
          "xanchor": "left",
          "xref": "x1",
          "y": 27,
          "yref": "y1"
         },
         {
          "align": "left",
          "font": {
           "color": "#000000"
          },
          "showarrow": false,
          "text": "( 7 / 106 )",
          "x": 1.55,
          "xanchor": "left",
          "xref": "x1",
          "y": 27,
          "yref": "y1"
         },
         {
          "align": "left",
          "font": {
           "color": "#000000"
          },
          "showarrow": false,
          "text": "6.6",
          "x": 2.55,
          "xanchor": "left",
          "xref": "x1",
          "y": 27,
          "yref": "y1"
         },
         {
          "align": "left",
          "font": {
           "color": "#000000"
          },
          "showarrow": false,
          "text": "( 24 / 335 )",
          "x": 3.55,
          "xanchor": "left",
          "xref": "x1",
          "y": 27,
          "yref": "y1"
         },
         {
          "align": "left",
          "font": {
           "color": "#000000"
          },
          "showarrow": false,
          "text": "7.16",
          "x": 4.55,
          "xanchor": "left",
          "xref": "x1",
          "y": 27,
          "yref": "y1"
         },
         {
          "align": "left",
          "font": {
           "color": "#000000"
          },
          "showarrow": false,
          "text": "discourse",
          "x": -0.45,
          "xanchor": "left",
          "xref": "x1",
          "y": 28,
          "yref": "y1"
         },
         {
          "align": "left",
          "font": {
           "color": "#000000"
          },
          "showarrow": false,
          "text": "All",
          "x": 0.55,
          "xanchor": "left",
          "xref": "x1",
          "y": 28,
          "yref": "y1"
         },
         {
          "align": "left",
          "font": {
           "color": "#000000"
          },
          "showarrow": false,
          "text": "( 66 / 1649 )",
          "x": 1.55,
          "xanchor": "left",
          "xref": "x1",
          "y": 28,
          "yref": "y1"
         },
         {
          "align": "left",
          "font": {
           "color": "#000000"
          },
          "showarrow": false,
          "text": "4.0",
          "x": 2.55,
          "xanchor": "left",
          "xref": "x1",
          "y": 28,
          "yref": "y1"
         },
         {
          "align": "left",
          "font": {
           "color": "#000000"
          },
          "showarrow": false,
          "text": "( 85 / 3100 )",
          "x": 3.55,
          "xanchor": "left",
          "xref": "x1",
          "y": 28,
          "yref": "y1"
         },
         {
          "align": "left",
          "font": {
           "color": "#000000"
          },
          "showarrow": false,
          "text": "2.74",
          "x": 4.55,
          "xanchor": "left",
          "xref": "x1",
          "y": 28,
          "yref": "y1"
         },
         {
          "align": "left",
          "font": {
           "color": "#000000"
          },
          "showarrow": false,
          "text": "mbox",
          "x": -0.45,
          "xanchor": "left",
          "xref": "x1",
          "y": 29,
          "yref": "y1"
         },
         {
          "align": "left",
          "font": {
           "color": "#000000"
          },
          "showarrow": false,
          "text": "Gecko",
          "x": 0.55,
          "xanchor": "left",
          "xref": "x1",
          "y": 29,
          "yref": "y1"
         },
         {
          "align": "left",
          "font": {
           "color": "#000000"
          },
          "showarrow": false,
          "text": "( 0 / 0 )",
          "x": 1.55,
          "xanchor": "left",
          "xref": "x1",
          "y": 29,
          "yref": "y1"
         },
         {
          "align": "left",
          "font": {
           "color": "#000000"
          },
          "showarrow": false,
          "text": "0.0",
          "x": 2.55,
          "xanchor": "left",
          "xref": "x1",
          "y": 29,
          "yref": "y1"
         },
         {
          "align": "left",
          "font": {
           "color": "#000000"
          },
          "showarrow": false,
          "text": "( 0 / 0 )",
          "x": 3.55,
          "xanchor": "left",
          "xref": "x1",
          "y": 29,
          "yref": "y1"
         },
         {
          "align": "left",
          "font": {
           "color": "#000000"
          },
          "showarrow": false,
          "text": "0.0",
          "x": 4.55,
          "xanchor": "left",
          "xref": "x1",
          "y": 29,
          "yref": "y1"
         },
         {
          "align": "left",
          "font": {
           "color": "#000000"
          },
          "showarrow": false,
          "text": "mbox",
          "x": -0.45,
          "xanchor": "left",
          "xref": "x1",
          "y": 30,
          "yref": "y1"
         },
         {
          "align": "left",
          "font": {
           "color": "#000000"
          },
          "showarrow": false,
          "text": "Rust",
          "x": 0.55,
          "xanchor": "left",
          "xref": "x1",
          "y": 30,
          "yref": "y1"
         },
         {
          "align": "left",
          "font": {
           "color": "#000000"
          },
          "showarrow": false,
          "text": "( 0 / 0 )",
          "x": 1.55,
          "xanchor": "left",
          "xref": "x1",
          "y": 30,
          "yref": "y1"
         },
         {
          "align": "left",
          "font": {
           "color": "#000000"
          },
          "showarrow": false,
          "text": "0.0",
          "x": 2.55,
          "xanchor": "left",
          "xref": "x1",
          "y": 30,
          "yref": "y1"
         },
         {
          "align": "left",
          "font": {
           "color": "#000000"
          },
          "showarrow": false,
          "text": "( 0 / 0 )",
          "x": 3.55,
          "xanchor": "left",
          "xref": "x1",
          "y": 30,
          "yref": "y1"
         },
         {
          "align": "left",
          "font": {
           "color": "#000000"
          },
          "showarrow": false,
          "text": "0.0",
          "x": 4.55,
          "xanchor": "left",
          "xref": "x1",
          "y": 30,
          "yref": "y1"
         },
         {
          "align": "left",
          "font": {
           "color": "#000000"
          },
          "showarrow": false,
          "text": "mbox",
          "x": -0.45,
          "xanchor": "left",
          "xref": "x1",
          "y": 31,
          "yref": "y1"
         },
         {
          "align": "left",
          "font": {
           "color": "#000000"
          },
          "showarrow": false,
          "text": "Servo",
          "x": 0.55,
          "xanchor": "left",
          "xref": "x1",
          "y": 31,
          "yref": "y1"
         },
         {
          "align": "left",
          "font": {
           "color": "#000000"
          },
          "showarrow": false,
          "text": "( 1 / 44 )",
          "x": 1.55,
          "xanchor": "left",
          "xref": "x1",
          "y": 31,
          "yref": "y1"
         },
         {
          "align": "left",
          "font": {
           "color": "#000000"
          },
          "showarrow": false,
          "text": "2.27",
          "x": 2.55,
          "xanchor": "left",
          "xref": "x1",
          "y": 31,
          "yref": "y1"
         },
         {
          "align": "left",
          "font": {
           "color": "#000000"
          },
          "showarrow": false,
          "text": "( 1 / 121 )",
          "x": 3.55,
          "xanchor": "left",
          "xref": "x1",
          "y": 31,
          "yref": "y1"
         },
         {
          "align": "left",
          "font": {
           "color": "#000000"
          },
          "showarrow": false,
          "text": "0.83",
          "x": 4.55,
          "xanchor": "left",
          "xref": "x1",
          "y": 31,
          "yref": "y1"
         },
         {
          "align": "left",
          "font": {
           "color": "#000000"
          },
          "showarrow": false,
          "text": "mbox",
          "x": -0.45,
          "xanchor": "left",
          "xref": "x1",
          "y": 32,
          "yref": "y1"
         },
         {
          "align": "left",
          "font": {
           "color": "#000000"
          },
          "showarrow": false,
          "text": "Firefox",
          "x": 0.55,
          "xanchor": "left",
          "xref": "x1",
          "y": 32,
          "yref": "y1"
         },
         {
          "align": "left",
          "font": {
           "color": "#000000"
          },
          "showarrow": false,
          "text": "( 0 / 0 )",
          "x": 1.55,
          "xanchor": "left",
          "xref": "x1",
          "y": 32,
          "yref": "y1"
         },
         {
          "align": "left",
          "font": {
           "color": "#000000"
          },
          "showarrow": false,
          "text": "0.0",
          "x": 2.55,
          "xanchor": "left",
          "xref": "x1",
          "y": 32,
          "yref": "y1"
         },
         {
          "align": "left",
          "font": {
           "color": "#000000"
          },
          "showarrow": false,
          "text": "( 0 / 0 )",
          "x": 3.55,
          "xanchor": "left",
          "xref": "x1",
          "y": 32,
          "yref": "y1"
         },
         {
          "align": "left",
          "font": {
           "color": "#000000"
          },
          "showarrow": false,
          "text": "0.0",
          "x": 4.55,
          "xanchor": "left",
          "xref": "x1",
          "y": 32,
          "yref": "y1"
         },
         {
          "align": "left",
          "font": {
           "color": "#000000"
          },
          "showarrow": false,
          "text": "mbox",
          "x": -0.45,
          "xanchor": "left",
          "xref": "x1",
          "y": 33,
          "yref": "y1"
         },
         {
          "align": "left",
          "font": {
           "color": "#000000"
          },
          "showarrow": false,
          "text": "WebVR",
          "x": 0.55,
          "xanchor": "left",
          "xref": "x1",
          "y": 33,
          "yref": "y1"
         },
         {
          "align": "left",
          "font": {
           "color": "#000000"
          },
          "showarrow": false,
          "text": "( 0 / 0 )",
          "x": 1.55,
          "xanchor": "left",
          "xref": "x1",
          "y": 33,
          "yref": "y1"
         },
         {
          "align": "left",
          "font": {
           "color": "#000000"
          },
          "showarrow": false,
          "text": "0.0",
          "x": 2.55,
          "xanchor": "left",
          "xref": "x1",
          "y": 33,
          "yref": "y1"
         },
         {
          "align": "left",
          "font": {
           "color": "#000000"
          },
          "showarrow": false,
          "text": "( 0 / 0 )",
          "x": 3.55,
          "xanchor": "left",
          "xref": "x1",
          "y": 33,
          "yref": "y1"
         },
         {
          "align": "left",
          "font": {
           "color": "#000000"
          },
          "showarrow": false,
          "text": "0.0",
          "x": 4.55,
          "xanchor": "left",
          "xref": "x1",
          "y": 33,
          "yref": "y1"
         },
         {
          "align": "left",
          "font": {
           "color": "#000000"
          },
          "showarrow": false,
          "text": "mbox",
          "x": -0.45,
          "xanchor": "left",
          "xref": "x1",
          "y": 34,
          "yref": "y1"
         },
         {
          "align": "left",
          "font": {
           "color": "#000000"
          },
          "showarrow": false,
          "text": "Firefox OS (FxOS / B2G)",
          "x": 0.55,
          "xanchor": "left",
          "xref": "x1",
          "y": 34,
          "yref": "y1"
         },
         {
          "align": "left",
          "font": {
           "color": "#000000"
          },
          "showarrow": false,
          "text": "( 2 / 31 )",
          "x": 1.55,
          "xanchor": "left",
          "xref": "x1",
          "y": 34,
          "yref": "y1"
         },
         {
          "align": "left",
          "font": {
           "color": "#000000"
          },
          "showarrow": false,
          "text": "6.45",
          "x": 2.55,
          "xanchor": "left",
          "xref": "x1",
          "y": 34,
          "yref": "y1"
         },
         {
          "align": "left",
          "font": {
           "color": "#000000"
          },
          "showarrow": false,
          "text": "( 28 / 1485 )",
          "x": 3.55,
          "xanchor": "left",
          "xref": "x1",
          "y": 34,
          "yref": "y1"
         },
         {
          "align": "left",
          "font": {
           "color": "#000000"
          },
          "showarrow": false,
          "text": "1.89",
          "x": 4.55,
          "xanchor": "left",
          "xref": "x1",
          "y": 34,
          "yref": "y1"
         },
         {
          "align": "left",
          "font": {
           "color": "#000000"
          },
          "showarrow": false,
          "text": "mbox",
          "x": -0.45,
          "xanchor": "left",
          "xref": "x1",
          "y": 35,
          "yref": "y1"
         },
         {
          "align": "left",
          "font": {
           "color": "#000000"
          },
          "showarrow": false,
          "text": "All",
          "x": 0.55,
          "xanchor": "left",
          "xref": "x1",
          "y": 35,
          "yref": "y1"
         },
         {
          "align": "left",
          "font": {
           "color": "#000000"
          },
          "showarrow": false,
          "text": "( 49 / 1954 )",
          "x": 1.55,
          "xanchor": "left",
          "xref": "x1",
          "y": 35,
          "yref": "y1"
         },
         {
          "align": "left",
          "font": {
           "color": "#000000"
          },
          "showarrow": false,
          "text": "2.51",
          "x": 2.55,
          "xanchor": "left",
          "xref": "x1",
          "y": 35,
          "yref": "y1"
         },
         {
          "align": "left",
          "font": {
           "color": "#000000"
          },
          "showarrow": false,
          "text": "( 122 / 62092 )",
          "x": 3.55,
          "xanchor": "left",
          "xref": "x1",
          "y": 35,
          "yref": "y1"
         },
         {
          "align": "left",
          "font": {
           "color": "#000000"
          },
          "showarrow": false,
          "text": "0.2",
          "x": 4.55,
          "xanchor": "left",
          "xref": "x1",
          "y": 35,
          "yref": "y1"
         }
        ],
        "height": 1130,
        "margin": {
         "b": 0,
         "l": 0,
         "r": 0,
         "t": 0
        },
        "xaxis": {
         "dtick": 1,
         "gridwidth": 2,
         "showticklabels": false,
         "tick0": -0.5,
         "ticks": "",
         "zeroline": false
        },
        "yaxis": {
         "autorange": "reversed",
         "dtick": 1,
         "gridwidth": 2,
         "showticklabels": false,
         "tick0": 0.5,
         "ticks": "",
         "zeroline": false
        }
       }
      },
      "text/html": [
       "<div id=\"fd7339a3-d17f-4bec-bba2-236c99e6d46c\" style=\"height: 1130px; width: 100%;\" class=\"plotly-graph-div\"></div><script type=\"text/javascript\">require([\"plotly\"], function(Plotly) { window.PLOTLYENV=window.PLOTLYENV || {};window.PLOTLYENV.BASE_URL=\"https://plot.ly\";Plotly.newPlot(\"fd7339a3-d17f-4bec-bba2-236c99e6d46c\", [{\"type\": \"heatmap\", \"colorscale\": [[0, \"#00083e\"], [0.5, \"#ededee\"], [1, \"#ffffff\"]], \"showscale\": false, \"z\": [[0, 0, 0, 0, 0, 0], [0.5, 0.5, 0.5, 0.5, 0.5, 0.5], [1, 1, 1, 1, 1, 1], [0.5, 0.5, 0.5, 0.5, 0.5, 0.5], [1, 1, 1, 1, 1, 1], [0.5, 0.5, 0.5, 0.5, 0.5, 0.5], [1, 1, 1, 1, 1, 1], [0.5, 0.5, 0.5, 0.5, 0.5, 0.5], [1, 1, 1, 1, 1, 1], [0.5, 0.5, 0.5, 0.5, 0.5, 0.5], [1, 1, 1, 1, 1, 1], [0.5, 0.5, 0.5, 0.5, 0.5, 0.5], [1, 1, 1, 1, 1, 1], [0.5, 0.5, 0.5, 0.5, 0.5, 0.5], [1, 1, 1, 1, 1, 1], [0.5, 0.5, 0.5, 0.5, 0.5, 0.5], [1, 1, 1, 1, 1, 1], [0.5, 0.5, 0.5, 0.5, 0.5, 0.5], [1, 1, 1, 1, 1, 1], [0.5, 0.5, 0.5, 0.5, 0.5, 0.5], [1, 1, 1, 1, 1, 1], [0.5, 0.5, 0.5, 0.5, 0.5, 0.5], [1, 1, 1, 1, 1, 1], [0.5, 0.5, 0.5, 0.5, 0.5, 0.5], [1, 1, 1, 1, 1, 1], [0.5, 0.5, 0.5, 0.5, 0.5, 0.5], [1, 1, 1, 1, 1, 1], [0.5, 0.5, 0.5, 0.5, 0.5, 0.5], [1, 1, 1, 1, 1, 1], [0.5, 0.5, 0.5, 0.5, 0.5, 0.5], [1, 1, 1, 1, 1, 1], [0.5, 0.5, 0.5, 0.5, 0.5, 0.5], [1, 1, 1, 1, 1, 1], [0.5, 0.5, 0.5, 0.5, 0.5, 0.5], [1, 1, 1, 1, 1, 1], [0.5, 0.5, 0.5, 0.5, 0.5, 0.5]], \"hoverinfo\": \"none\", \"opacity\": 0.75}], {\"height\": 1130, \"xaxis\": {\"showticklabels\": false, \"ticks\": \"\", \"dtick\": 1, \"tick0\": -0.5, \"gridwidth\": 2, \"zeroline\": false}, \"annotations\": [{\"font\": {\"color\": \"#ffffff\"}, \"yref\": \"y1\", \"xref\": \"x1\", \"align\": \"left\", \"text\": \"<b>source</b>\", \"y\": 0, \"x\": -0.45, \"xanchor\": \"left\", \"showarrow\": false}, {\"font\": {\"color\": \"#ffffff\"}, \"yref\": \"y1\", \"xref\": \"x1\", \"align\": \"left\", \"text\": \"<b>project</b>\", \"y\": 0, \"x\": 0.55, \"xanchor\": \"left\", \"showarrow\": false}, {\"font\": {\"color\": \"#ffffff\"}, \"yref\": \"y1\", \"xref\": \"x1\", \"align\": \"left\", \"text\": \"<b>authors(last year)</b>\", \"y\": 0, \"x\": 1.55, \"xanchor\": \"left\", \"showarrow\": false}, {\"font\": {\"color\": \"#ffffff\"}, \"yref\": \"y1\", \"xref\": \"x1\", \"align\": \"left\", \"text\": \"<b>coverage(last year)</b>\", \"y\": 0, \"x\": 2.55, \"xanchor\": \"left\", \"showarrow\": false}, {\"font\": {\"color\": \"#ffffff\"}, \"yref\": \"y1\", \"xref\": \"x1\", \"align\": \"left\", \"text\": \"<b>authors</b>\", \"y\": 0, \"x\": 3.55, \"xanchor\": \"left\", \"showarrow\": false}, {\"font\": {\"color\": \"#ffffff\"}, \"yref\": \"y1\", \"xref\": \"x1\", \"align\": \"left\", \"text\": \"<b>coverage</b>\", \"y\": 0, \"x\": 4.55, \"xanchor\": \"left\", \"showarrow\": false}, {\"font\": {\"color\": \"#000000\"}, \"yref\": \"y1\", \"xref\": \"x1\", \"align\": \"left\", \"text\": \"git\", \"y\": 1, \"x\": -0.45, \"xanchor\": \"left\", \"showarrow\": false}, {\"font\": {\"color\": \"#000000\"}, \"yref\": \"y1\", \"xref\": \"x1\", \"align\": \"left\", \"text\": \"Gecko\", \"y\": 1, \"x\": 0.55, \"xanchor\": \"left\", \"showarrow\": false}, {\"font\": {\"color\": \"#000000\"}, \"yref\": \"y1\", \"xref\": \"x1\", \"align\": \"left\", \"text\": \"( 22 / 797 )\", \"y\": 1, \"x\": 1.55, \"xanchor\": \"left\", \"showarrow\": false}, {\"font\": {\"color\": \"#000000\"}, \"yref\": \"y1\", \"xref\": \"x1\", \"align\": \"left\", \"text\": \"2.76\", \"y\": 1, \"x\": 2.55, \"xanchor\": \"left\", \"showarrow\": false}, {\"font\": {\"color\": \"#000000\"}, \"yref\": \"y1\", \"xref\": \"x1\", \"align\": \"left\", \"text\": \"( 41 / 4245 )\", \"y\": 1, \"x\": 3.55, \"xanchor\": \"left\", \"showarrow\": false}, {\"font\": {\"color\": \"#000000\"}, \"yref\": \"y1\", \"xref\": \"x1\", \"align\": \"left\", \"text\": \"0.97\", \"y\": 1, \"x\": 4.55, \"xanchor\": \"left\", \"showarrow\": false}, {\"font\": {\"color\": \"#000000\"}, \"yref\": \"y1\", \"xref\": \"x1\", \"align\": \"left\", \"text\": \"git\", \"y\": 2, \"x\": -0.45, \"xanchor\": \"left\", \"showarrow\": false}, {\"font\": {\"color\": \"#000000\"}, \"yref\": \"y1\", \"xref\": \"x1\", \"align\": \"left\", \"text\": \"Rust\", \"y\": 2, \"x\": 0.55, \"xanchor\": \"left\", \"showarrow\": false}, {\"font\": {\"color\": \"#000000\"}, \"yref\": \"y1\", \"xref\": \"x1\", \"align\": \"left\", \"text\": \"( 18 / 729 )\", \"y\": 2, \"x\": 1.55, \"xanchor\": \"left\", \"showarrow\": false}, {\"font\": {\"color\": \"#000000\"}, \"yref\": \"y1\", \"xref\": \"x1\", \"align\": \"left\", \"text\": \"2.47\", \"y\": 2, \"x\": 2.55, \"xanchor\": \"left\", \"showarrow\": false}, {\"font\": {\"color\": \"#000000\"}, \"yref\": \"y1\", \"xref\": \"x1\", \"align\": \"left\", \"text\": \"( 25 / 2400 )\", \"y\": 2, \"x\": 3.55, \"xanchor\": \"left\", \"showarrow\": false}, {\"font\": {\"color\": \"#000000\"}, \"yref\": \"y1\", \"xref\": \"x1\", \"align\": \"left\", \"text\": \"1.04\", \"y\": 2, \"x\": 4.55, \"xanchor\": \"left\", \"showarrow\": false}, {\"font\": {\"color\": \"#000000\"}, \"yref\": \"y1\", \"xref\": \"x1\", \"align\": \"left\", \"text\": \"git\", \"y\": 3, \"x\": -0.45, \"xanchor\": \"left\", \"showarrow\": false}, {\"font\": {\"color\": \"#000000\"}, \"yref\": \"y1\", \"xref\": \"x1\", \"align\": \"left\", \"text\": \"Servo\", \"y\": 3, \"x\": 0.55, \"xanchor\": \"left\", \"showarrow\": false}, {\"font\": {\"color\": \"#000000\"}, \"yref\": \"y1\", \"xref\": \"x1\", \"align\": \"left\", \"text\": \"( 15 / 353 )\", \"y\": 3, \"x\": 1.55, \"xanchor\": \"left\", \"showarrow\": false}, {\"font\": {\"color\": \"#000000\"}, \"yref\": \"y1\", \"xref\": \"x1\", \"align\": \"left\", \"text\": \"4.25\", \"y\": 3, \"x\": 2.55, \"xanchor\": \"left\", \"showarrow\": false}, {\"font\": {\"color\": \"#000000\"}, \"yref\": \"y1\", \"xref\": \"x1\", \"align\": \"left\", \"text\": \"( 22 / 1282 )\", \"y\": 3, \"x\": 3.55, \"xanchor\": \"left\", \"showarrow\": false}, {\"font\": {\"color\": \"#000000\"}, \"yref\": \"y1\", \"xref\": \"x1\", \"align\": \"left\", \"text\": \"1.72\", \"y\": 3, \"x\": 4.55, \"xanchor\": \"left\", \"showarrow\": false}, {\"font\": {\"color\": \"#000000\"}, \"yref\": \"y1\", \"xref\": \"x1\", \"align\": \"left\", \"text\": \"git\", \"y\": 4, \"x\": -0.45, \"xanchor\": \"left\", \"showarrow\": false}, {\"font\": {\"color\": \"#000000\"}, \"yref\": \"y1\", \"xref\": \"x1\", \"align\": \"left\", \"text\": \"Firefox\", \"y\": 4, \"x\": 0.55, \"xanchor\": \"left\", \"showarrow\": false}, {\"font\": {\"color\": \"#000000\"}, \"yref\": \"y1\", \"xref\": \"x1\", \"align\": \"left\", \"text\": \"( 5 / 209 )\", \"y\": 4, \"x\": 1.55, \"xanchor\": \"left\", \"showarrow\": false}, {\"font\": {\"color\": \"#000000\"}, \"yref\": \"y1\", \"xref\": \"x1\", \"align\": \"left\", \"text\": \"2.39\", \"y\": 4, \"x\": 2.55, \"xanchor\": \"left\", \"showarrow\": false}, {\"font\": {\"color\": \"#000000\"}, \"yref\": \"y1\", \"xref\": \"x1\", \"align\": \"left\", \"text\": \"( 16 / 1133 )\", \"y\": 4, \"x\": 3.55, \"xanchor\": \"left\", \"showarrow\": false}, {\"font\": {\"color\": \"#000000\"}, \"yref\": \"y1\", \"xref\": \"x1\", \"align\": \"left\", \"text\": \"1.41\", \"y\": 4, \"x\": 4.55, \"xanchor\": \"left\", \"showarrow\": false}, {\"font\": {\"color\": \"#000000\"}, \"yref\": \"y1\", \"xref\": \"x1\", \"align\": \"left\", \"text\": \"git\", \"y\": 5, \"x\": -0.45, \"xanchor\": \"left\", \"showarrow\": false}, {\"font\": {\"color\": \"#000000\"}, \"yref\": \"y1\", \"xref\": \"x1\", \"align\": \"left\", \"text\": \"WebVR\", \"y\": 5, \"x\": 0.55, \"xanchor\": \"left\", \"showarrow\": false}, {\"font\": {\"color\": \"#000000\"}, \"yref\": \"y1\", \"xref\": \"x1\", \"align\": \"left\", \"text\": \"( 6 / 162 )\", \"y\": 5, \"x\": 1.55, \"xanchor\": \"left\", \"showarrow\": false}, {\"font\": {\"color\": \"#000000\"}, \"yref\": \"y1\", \"xref\": \"x1\", \"align\": \"left\", \"text\": \"3.7\", \"y\": 5, \"x\": 2.55, \"xanchor\": \"left\", \"showarrow\": false}, {\"font\": {\"color\": \"#000000\"}, \"yref\": \"y1\", \"xref\": \"x1\", \"align\": \"left\", \"text\": \"( 6 / 221 )\", \"y\": 5, \"x\": 3.55, \"xanchor\": \"left\", \"showarrow\": false}, {\"font\": {\"color\": \"#000000\"}, \"yref\": \"y1\", \"xref\": \"x1\", \"align\": \"left\", \"text\": \"2.71\", \"y\": 5, \"x\": 4.55, \"xanchor\": \"left\", \"showarrow\": false}, {\"font\": {\"color\": \"#000000\"}, \"yref\": \"y1\", \"xref\": \"x1\", \"align\": \"left\", \"text\": \"git\", \"y\": 6, \"x\": -0.45, \"xanchor\": \"left\", \"showarrow\": false}, {\"font\": {\"color\": \"#000000\"}, \"yref\": \"y1\", \"xref\": \"x1\", \"align\": \"left\", \"text\": \"Firefox OS (FxOS / B2G)\", \"y\": 6, \"x\": 0.55, \"xanchor\": \"left\", \"showarrow\": false}, {\"font\": {\"color\": \"#000000\"}, \"yref\": \"y1\", \"xref\": \"x1\", \"align\": \"left\", \"text\": \"( 0 / 1 )\", \"y\": 6, \"x\": 1.55, \"xanchor\": \"left\", \"showarrow\": false}, {\"font\": {\"color\": \"#000000\"}, \"yref\": \"y1\", \"xref\": \"x1\", \"align\": \"left\", \"text\": \"0.0\", \"y\": 6, \"x\": 2.55, \"xanchor\": \"left\", \"showarrow\": false}, {\"font\": {\"color\": \"#000000\"}, \"yref\": \"y1\", \"xref\": \"x1\", \"align\": \"left\", \"text\": \"( 9 / 92 )\", \"y\": 6, \"x\": 3.55, \"xanchor\": \"left\", \"showarrow\": false}, {\"font\": {\"color\": \"#000000\"}, \"yref\": \"y1\", \"xref\": \"x1\", \"align\": \"left\", \"text\": \"9.78\", \"y\": 6, \"x\": 4.55, \"xanchor\": \"left\", \"showarrow\": false}, {\"font\": {\"color\": \"#000000\"}, \"yref\": \"y1\", \"xref\": \"x1\", \"align\": \"left\", \"text\": \"git\", \"y\": 7, \"x\": -0.45, \"xanchor\": \"left\", \"showarrow\": false}, {\"font\": {\"color\": \"#000000\"}, \"yref\": \"y1\", \"xref\": \"x1\", \"align\": \"left\", \"text\": \"All\", \"y\": 7, \"x\": 0.55, \"xanchor\": \"left\", \"showarrow\": false}, {\"font\": {\"color\": \"#000000\"}, \"yref\": \"y1\", \"xref\": \"x1\", \"align\": \"left\", \"text\": \"( 110 / 3142 )\", \"y\": 7, \"x\": 1.55, \"xanchor\": \"left\", \"showarrow\": false}, {\"font\": {\"color\": \"#000000\"}, \"yref\": \"y1\", \"xref\": \"x1\", \"align\": \"left\", \"text\": \"3.5\", \"y\": 7, \"x\": 2.55, \"xanchor\": \"left\", \"showarrow\": false}, {\"font\": {\"color\": \"#000000\"}, \"yref\": \"y1\", \"xref\": \"x1\", \"align\": \"left\", \"text\": \"( 159 / 13351 )\", \"y\": 7, \"x\": 3.55, \"xanchor\": \"left\", \"showarrow\": false}, {\"font\": {\"color\": \"#000000\"}, \"yref\": \"y1\", \"xref\": \"x1\", \"align\": \"left\", \"text\": \"1.19\", \"y\": 7, \"x\": 4.55, \"xanchor\": \"left\", \"showarrow\": false}, {\"font\": {\"color\": \"#000000\"}, \"yref\": \"y1\", \"xref\": \"x1\", \"align\": \"left\", \"text\": \"bugzilla\", \"y\": 8, \"x\": -0.45, \"xanchor\": \"left\", \"showarrow\": false}, {\"font\": {\"color\": \"#000000\"}, \"yref\": \"y1\", \"xref\": \"x1\", \"align\": \"left\", \"text\": \"Gecko\", \"y\": 8, \"x\": 0.55, \"xanchor\": \"left\", \"showarrow\": false}, {\"font\": {\"color\": \"#000000\"}, \"yref\": \"y1\", \"xref\": \"x1\", \"align\": \"left\", \"text\": \"( 30 / 3721 )\", \"y\": 8, \"x\": 1.55, \"xanchor\": \"left\", \"showarrow\": false}, {\"font\": {\"color\": \"#000000\"}, \"yref\": \"y1\", \"xref\": \"x1\", \"align\": \"left\", \"text\": \"0.81\", \"y\": 8, \"x\": 2.55, \"xanchor\": \"left\", \"showarrow\": false}, {\"font\": {\"color\": \"#000000\"}, \"yref\": \"y1\", \"xref\": \"x1\", \"align\": \"left\", \"text\": \"( 97 / 62212 )\", \"y\": 8, \"x\": 3.55, \"xanchor\": \"left\", \"showarrow\": false}, {\"font\": {\"color\": \"#000000\"}, \"yref\": \"y1\", \"xref\": \"x1\", \"align\": \"left\", \"text\": \"0.16\", \"y\": 8, \"x\": 4.55, \"xanchor\": \"left\", \"showarrow\": false}, {\"font\": {\"color\": \"#000000\"}, \"yref\": \"y1\", \"xref\": \"x1\", \"align\": \"left\", \"text\": \"bugzilla\", \"y\": 9, \"x\": -0.45, \"xanchor\": \"left\", \"showarrow\": false}, {\"font\": {\"color\": \"#000000\"}, \"yref\": \"y1\", \"xref\": \"x1\", \"align\": \"left\", \"text\": \"Rust\", \"y\": 9, \"x\": 0.55, \"xanchor\": \"left\", \"showarrow\": false}, {\"font\": {\"color\": \"#000000\"}, \"yref\": \"y1\", \"xref\": \"x1\", \"align\": \"left\", \"text\": \"( 0 / 0 )\", \"y\": 9, \"x\": 1.55, \"xanchor\": \"left\", \"showarrow\": false}, {\"font\": {\"color\": \"#000000\"}, \"yref\": \"y1\", \"xref\": \"x1\", \"align\": \"left\", \"text\": \"0.0\", \"y\": 9, \"x\": 2.55, \"xanchor\": \"left\", \"showarrow\": false}, {\"font\": {\"color\": \"#000000\"}, \"yref\": \"y1\", \"xref\": \"x1\", \"align\": \"left\", \"text\": \"( 0 / 0 )\", \"y\": 9, \"x\": 3.55, \"xanchor\": \"left\", \"showarrow\": false}, {\"font\": {\"color\": \"#000000\"}, \"yref\": \"y1\", \"xref\": \"x1\", \"align\": \"left\", \"text\": \"0.0\", \"y\": 9, \"x\": 4.55, \"xanchor\": \"left\", \"showarrow\": false}, {\"font\": {\"color\": \"#000000\"}, \"yref\": \"y1\", \"xref\": \"x1\", \"align\": \"left\", \"text\": \"bugzilla\", \"y\": 10, \"x\": -0.45, \"xanchor\": \"left\", \"showarrow\": false}, {\"font\": {\"color\": \"#000000\"}, \"yref\": \"y1\", \"xref\": \"x1\", \"align\": \"left\", \"text\": \"Servo\", \"y\": 10, \"x\": 0.55, \"xanchor\": \"left\", \"showarrow\": false}, {\"font\": {\"color\": \"#000000\"}, \"yref\": \"y1\", \"xref\": \"x1\", \"align\": \"left\", \"text\": \"( 0 / 0 )\", \"y\": 10, \"x\": 1.55, \"xanchor\": \"left\", \"showarrow\": false}, {\"font\": {\"color\": \"#000000\"}, \"yref\": \"y1\", \"xref\": \"x1\", \"align\": \"left\", \"text\": \"0.0\", \"y\": 10, \"x\": 2.55, \"xanchor\": \"left\", \"showarrow\": false}, {\"font\": {\"color\": \"#000000\"}, \"yref\": \"y1\", \"xref\": \"x1\", \"align\": \"left\", \"text\": \"( 0 / 0 )\", \"y\": 10, \"x\": 3.55, \"xanchor\": \"left\", \"showarrow\": false}, {\"font\": {\"color\": \"#000000\"}, \"yref\": \"y1\", \"xref\": \"x1\", \"align\": \"left\", \"text\": \"0.0\", \"y\": 10, \"x\": 4.55, \"xanchor\": \"left\", \"showarrow\": false}, {\"font\": {\"color\": \"#000000\"}, \"yref\": \"y1\", \"xref\": \"x1\", \"align\": \"left\", \"text\": \"bugzilla\", \"y\": 11, \"x\": -0.45, \"xanchor\": \"left\", \"showarrow\": false}, {\"font\": {\"color\": \"#000000\"}, \"yref\": \"y1\", \"xref\": \"x1\", \"align\": \"left\", \"text\": \"Firefox\", \"y\": 11, \"x\": 0.55, \"xanchor\": \"left\", \"showarrow\": false}, {\"font\": {\"color\": \"#000000\"}, \"yref\": \"y1\", \"xref\": \"x1\", \"align\": \"left\", \"text\": \"( 24 / 2384 )\", \"y\": 11, \"x\": 1.55, \"xanchor\": \"left\", \"showarrow\": false}, {\"font\": {\"color\": \"#000000\"}, \"yref\": \"y1\", \"xref\": \"x1\", \"align\": \"left\", \"text\": \"1.01\", \"y\": 11, \"x\": 2.55, \"xanchor\": \"left\", \"showarrow\": false}, {\"font\": {\"color\": \"#000000\"}, \"yref\": \"y1\", \"xref\": \"x1\", \"align\": \"left\", \"text\": \"( 90 / 71782 )\", \"y\": 11, \"x\": 3.55, \"xanchor\": \"left\", \"showarrow\": false}, {\"font\": {\"color\": \"#000000\"}, \"yref\": \"y1\", \"xref\": \"x1\", \"align\": \"left\", \"text\": \"0.13\", \"y\": 11, \"x\": 4.55, \"xanchor\": \"left\", \"showarrow\": false}, {\"font\": {\"color\": \"#000000\"}, \"yref\": \"y1\", \"xref\": \"x1\", \"align\": \"left\", \"text\": \"bugzilla\", \"y\": 12, \"x\": -0.45, \"xanchor\": \"left\", \"showarrow\": false}, {\"font\": {\"color\": \"#000000\"}, \"yref\": \"y1\", \"xref\": \"x1\", \"align\": \"left\", \"text\": \"WebVR\", \"y\": 12, \"x\": 0.55, \"xanchor\": \"left\", \"showarrow\": false}, {\"font\": {\"color\": \"#000000\"}, \"yref\": \"y1\", \"xref\": \"x1\", \"align\": \"left\", \"text\": \"( 0 / 0 )\", \"y\": 12, \"x\": 1.55, \"xanchor\": \"left\", \"showarrow\": false}, {\"font\": {\"color\": \"#000000\"}, \"yref\": \"y1\", \"xref\": \"x1\", \"align\": \"left\", \"text\": \"0.0\", \"y\": 12, \"x\": 2.55, \"xanchor\": \"left\", \"showarrow\": false}, {\"font\": {\"color\": \"#000000\"}, \"yref\": \"y1\", \"xref\": \"x1\", \"align\": \"left\", \"text\": \"( 0 / 0 )\", \"y\": 12, \"x\": 3.55, \"xanchor\": \"left\", \"showarrow\": false}, {\"font\": {\"color\": \"#000000\"}, \"yref\": \"y1\", \"xref\": \"x1\", \"align\": \"left\", \"text\": \"0.0\", \"y\": 12, \"x\": 4.55, \"xanchor\": \"left\", \"showarrow\": false}, {\"font\": {\"color\": \"#000000\"}, \"yref\": \"y1\", \"xref\": \"x1\", \"align\": \"left\", \"text\": \"bugzilla\", \"y\": 13, \"x\": -0.45, \"xanchor\": \"left\", \"showarrow\": false}, {\"font\": {\"color\": \"#000000\"}, \"yref\": \"y1\", \"xref\": \"x1\", \"align\": \"left\", \"text\": \"Firefox OS (FxOS / B2G)\", \"y\": 13, \"x\": 0.55, \"xanchor\": \"left\", \"showarrow\": false}, {\"font\": {\"color\": \"#000000\"}, \"yref\": \"y1\", \"xref\": \"x1\", \"align\": \"left\", \"text\": \"( 2 / 46 )\", \"y\": 13, \"x\": 1.55, \"xanchor\": \"left\", \"showarrow\": false}, {\"font\": {\"color\": \"#000000\"}, \"yref\": \"y1\", \"xref\": \"x1\", \"align\": \"left\", \"text\": \"4.35\", \"y\": 13, \"x\": 2.55, \"xanchor\": \"left\", \"showarrow\": false}, {\"font\": {\"color\": \"#000000\"}, \"yref\": \"y1\", \"xref\": \"x1\", \"align\": \"left\", \"text\": \"( 62 / 2206 )\", \"y\": 13, \"x\": 3.55, \"xanchor\": \"left\", \"showarrow\": false}, {\"font\": {\"color\": \"#000000\"}, \"yref\": \"y1\", \"xref\": \"x1\", \"align\": \"left\", \"text\": \"2.81\", \"y\": 13, \"x\": 4.55, \"xanchor\": \"left\", \"showarrow\": false}, {\"font\": {\"color\": \"#000000\"}, \"yref\": \"y1\", \"xref\": \"x1\", \"align\": \"left\", \"text\": \"bugzilla\", \"y\": 14, \"x\": -0.45, \"xanchor\": \"left\", \"showarrow\": false}, {\"font\": {\"color\": \"#000000\"}, \"yref\": \"y1\", \"xref\": \"x1\", \"align\": \"left\", \"text\": \"All\", \"y\": 14, \"x\": 0.55, \"xanchor\": \"left\", \"showarrow\": false}, {\"font\": {\"color\": \"#000000\"}, \"yref\": \"y1\", \"xref\": \"x1\", \"align\": \"left\", \"text\": \"( 75 / 8909 )\", \"y\": 14, \"x\": 1.55, \"xanchor\": \"left\", \"showarrow\": false}, {\"font\": {\"color\": \"#000000\"}, \"yref\": \"y1\", \"xref\": \"x1\", \"align\": \"left\", \"text\": \"0.84\", \"y\": 14, \"x\": 2.55, \"xanchor\": \"left\", \"showarrow\": false}, {\"font\": {\"color\": \"#000000\"}, \"yref\": \"y1\", \"xref\": \"x1\", \"align\": \"left\", \"text\": \"( 190 / 183219 )\", \"y\": 14, \"x\": 3.55, \"xanchor\": \"left\", \"showarrow\": false}, {\"font\": {\"color\": \"#000000\"}, \"yref\": \"y1\", \"xref\": \"x1\", \"align\": \"left\", \"text\": \"0.1\", \"y\": 14, \"x\": 4.55, \"xanchor\": \"left\", \"showarrow\": false}, {\"font\": {\"color\": \"#000000\"}, \"yref\": \"y1\", \"xref\": \"x1\", \"align\": \"left\", \"text\": \"github_issues\", \"y\": 15, \"x\": -0.45, \"xanchor\": \"left\", \"showarrow\": false}, {\"font\": {\"color\": \"#000000\"}, \"yref\": \"y1\", \"xref\": \"x1\", \"align\": \"left\", \"text\": \"Gecko\", \"y\": 15, \"x\": 0.55, \"xanchor\": \"left\", \"showarrow\": false}, {\"font\": {\"color\": \"#000000\"}, \"yref\": \"y1\", \"xref\": \"x1\", \"align\": \"left\", \"text\": \"( 0 / 373 )\", \"y\": 15, \"x\": 1.55, \"xanchor\": \"left\", \"showarrow\": false}, {\"font\": {\"color\": \"#000000\"}, \"yref\": \"y1\", \"xref\": \"x1\", \"align\": \"left\", \"text\": \"0.0\", \"y\": 15, \"x\": 2.55, \"xanchor\": \"left\", \"showarrow\": false}, {\"font\": {\"color\": \"#000000\"}, \"yref\": \"y1\", \"xref\": \"x1\", \"align\": \"left\", \"text\": \"( 0 / 409 )\", \"y\": 15, \"x\": 3.55, \"xanchor\": \"left\", \"showarrow\": false}, {\"font\": {\"color\": \"#000000\"}, \"yref\": \"y1\", \"xref\": \"x1\", \"align\": \"left\", \"text\": \"0.0\", \"y\": 15, \"x\": 4.55, \"xanchor\": \"left\", \"showarrow\": false}, {\"font\": {\"color\": \"#000000\"}, \"yref\": \"y1\", \"xref\": \"x1\", \"align\": \"left\", \"text\": \"github_issues\", \"y\": 16, \"x\": -0.45, \"xanchor\": \"left\", \"showarrow\": false}, {\"font\": {\"color\": \"#000000\"}, \"yref\": \"y1\", \"xref\": \"x1\", \"align\": \"left\", \"text\": \"Rust\", \"y\": 16, \"x\": 0.55, \"xanchor\": \"left\", \"showarrow\": false}, {\"font\": {\"color\": \"#000000\"}, \"yref\": \"y1\", \"xref\": \"x1\", \"align\": \"left\", \"text\": \"( 23 / 2077 )\", \"y\": 16, \"x\": 1.55, \"xanchor\": \"left\", \"showarrow\": false}, {\"font\": {\"color\": \"#000000\"}, \"yref\": \"y1\", \"xref\": \"x1\", \"align\": \"left\", \"text\": \"1.11\", \"y\": 16, \"x\": 2.55, \"xanchor\": \"left\", \"showarrow\": false}, {\"font\": {\"color\": \"#000000\"}, \"yref\": \"y1\", \"xref\": \"x1\", \"align\": \"left\", \"text\": \"( 28 / 5235 )\", \"y\": 16, \"x\": 3.55, \"xanchor\": \"left\", \"showarrow\": false}, {\"font\": {\"color\": \"#000000\"}, \"yref\": \"y1\", \"xref\": \"x1\", \"align\": \"left\", \"text\": \"0.53\", \"y\": 16, \"x\": 4.55, \"xanchor\": \"left\", \"showarrow\": false}, {\"font\": {\"color\": \"#000000\"}, \"yref\": \"y1\", \"xref\": \"x1\", \"align\": \"left\", \"text\": \"github_issues\", \"y\": 17, \"x\": -0.45, \"xanchor\": \"left\", \"showarrow\": false}, {\"font\": {\"color\": \"#000000\"}, \"yref\": \"y1\", \"xref\": \"x1\", \"align\": \"left\", \"text\": \"Servo\", \"y\": 17, \"x\": 0.55, \"xanchor\": \"left\", \"showarrow\": false}, {\"font\": {\"color\": \"#000000\"}, \"yref\": \"y1\", \"xref\": \"x1\", \"align\": \"left\", \"text\": \"( 23 / 845 )\", \"y\": 17, \"x\": 1.55, \"xanchor\": \"left\", \"showarrow\": false}, {\"font\": {\"color\": \"#000000\"}, \"yref\": \"y1\", \"xref\": \"x1\", \"align\": \"left\", \"text\": \"2.72\", \"y\": 17, \"x\": 2.55, \"xanchor\": \"left\", \"showarrow\": false}, {\"font\": {\"color\": \"#000000\"}, \"yref\": \"y1\", \"xref\": \"x1\", \"align\": \"left\", \"text\": \"( 29 / 1619 )\", \"y\": 17, \"x\": 3.55, \"xanchor\": \"left\", \"showarrow\": false}, {\"font\": {\"color\": \"#000000\"}, \"yref\": \"y1\", \"xref\": \"x1\", \"align\": \"left\", \"text\": \"1.79\", \"y\": 17, \"x\": 4.55, \"xanchor\": \"left\", \"showarrow\": false}, {\"font\": {\"color\": \"#000000\"}, \"yref\": \"y1\", \"xref\": \"x1\", \"align\": \"left\", \"text\": \"github_issues\", \"y\": 18, \"x\": -0.45, \"xanchor\": \"left\", \"showarrow\": false}, {\"font\": {\"color\": \"#000000\"}, \"yref\": \"y1\", \"xref\": \"x1\", \"align\": \"left\", \"text\": \"Firefox\", \"y\": 18, \"x\": 0.55, \"xanchor\": \"left\", \"showarrow\": false}, {\"font\": {\"color\": \"#000000\"}, \"yref\": \"y1\", \"xref\": \"x1\", \"align\": \"left\", \"text\": \"( 1 / 53 )\", \"y\": 18, \"x\": 1.55, \"xanchor\": \"left\", \"showarrow\": false}, {\"font\": {\"color\": \"#000000\"}, \"yref\": \"y1\", \"xref\": \"x1\", \"align\": \"left\", \"text\": \"1.89\", \"y\": 18, \"x\": 2.55, \"xanchor\": \"left\", \"showarrow\": false}, {\"font\": {\"color\": \"#000000\"}, \"yref\": \"y1\", \"xref\": \"x1\", \"align\": \"left\", \"text\": \"( 2 / 69 )\", \"y\": 18, \"x\": 3.55, \"xanchor\": \"left\", \"showarrow\": false}, {\"font\": {\"color\": \"#000000\"}, \"yref\": \"y1\", \"xref\": \"x1\", \"align\": \"left\", \"text\": \"2.9\", \"y\": 18, \"x\": 4.55, \"xanchor\": \"left\", \"showarrow\": false}, {\"font\": {\"color\": \"#000000\"}, \"yref\": \"y1\", \"xref\": \"x1\", \"align\": \"left\", \"text\": \"github_issues\", \"y\": 19, \"x\": -0.45, \"xanchor\": \"left\", \"showarrow\": false}, {\"font\": {\"color\": \"#000000\"}, \"yref\": \"y1\", \"xref\": \"x1\", \"align\": \"left\", \"text\": \"WebVR\", \"y\": 19, \"x\": 0.55, \"xanchor\": \"left\", \"showarrow\": false}, {\"font\": {\"color\": \"#000000\"}, \"yref\": \"y1\", \"xref\": \"x1\", \"align\": \"left\", \"text\": \"( 8 / 374 )\", \"y\": 19, \"x\": 1.55, \"xanchor\": \"left\", \"showarrow\": false}, {\"font\": {\"color\": \"#000000\"}, \"yref\": \"y1\", \"xref\": \"x1\", \"align\": \"left\", \"text\": \"2.14\", \"y\": 19, \"x\": 2.55, \"xanchor\": \"left\", \"showarrow\": false}, {\"font\": {\"color\": \"#000000\"}, \"yref\": \"y1\", \"xref\": \"x1\", \"align\": \"left\", \"text\": \"( 8 / 530 )\", \"y\": 19, \"x\": 3.55, \"xanchor\": \"left\", \"showarrow\": false}, {\"font\": {\"color\": \"#000000\"}, \"yref\": \"y1\", \"xref\": \"x1\", \"align\": \"left\", \"text\": \"1.51\", \"y\": 19, \"x\": 4.55, \"xanchor\": \"left\", \"showarrow\": false}, {\"font\": {\"color\": \"#000000\"}, \"yref\": \"y1\", \"xref\": \"x1\", \"align\": \"left\", \"text\": \"github_issues\", \"y\": 20, \"x\": -0.45, \"xanchor\": \"left\", \"showarrow\": false}, {\"font\": {\"color\": \"#000000\"}, \"yref\": \"y1\", \"xref\": \"x1\", \"align\": \"left\", \"text\": \"Firefox OS (FxOS / B2G)\", \"y\": 20, \"x\": 0.55, \"xanchor\": \"left\", \"showarrow\": false}, {\"font\": {\"color\": \"#000000\"}, \"yref\": \"y1\", \"xref\": \"x1\", \"align\": \"left\", \"text\": \"( 0 / 3 )\", \"y\": 20, \"x\": 1.55, \"xanchor\": \"left\", \"showarrow\": false}, {\"font\": {\"color\": \"#000000\"}, \"yref\": \"y1\", \"xref\": \"x1\", \"align\": \"left\", \"text\": \"0.0\", \"y\": 20, \"x\": 2.55, \"xanchor\": \"left\", \"showarrow\": false}, {\"font\": {\"color\": \"#000000\"}, \"yref\": \"y1\", \"xref\": \"x1\", \"align\": \"left\", \"text\": \"( 6 / 69 )\", \"y\": 20, \"x\": 3.55, \"xanchor\": \"left\", \"showarrow\": false}, {\"font\": {\"color\": \"#000000\"}, \"yref\": \"y1\", \"xref\": \"x1\", \"align\": \"left\", \"text\": \"8.7\", \"y\": 20, \"x\": 4.55, \"xanchor\": \"left\", \"showarrow\": false}, {\"font\": {\"color\": \"#000000\"}, \"yref\": \"y1\", \"xref\": \"x1\", \"align\": \"left\", \"text\": \"github_issues\", \"y\": 21, \"x\": -0.45, \"xanchor\": \"left\", \"showarrow\": false}, {\"font\": {\"color\": \"#000000\"}, \"yref\": \"y1\", \"xref\": \"x1\", \"align\": \"left\", \"text\": \"All\", \"y\": 21, \"x\": 0.55, \"xanchor\": \"left\", \"showarrow\": false}, {\"font\": {\"color\": \"#000000\"}, \"yref\": \"y1\", \"xref\": \"x1\", \"align\": \"left\", \"text\": \"( 101 / 6677 )\", \"y\": 21, \"x\": 1.55, \"xanchor\": \"left\", \"showarrow\": false}, {\"font\": {\"color\": \"#000000\"}, \"yref\": \"y1\", \"xref\": \"x1\", \"align\": \"left\", \"text\": \"1.51\", \"y\": 21, \"x\": 2.55, \"xanchor\": \"left\", \"showarrow\": false}, {\"font\": {\"color\": \"#000000\"}, \"yref\": \"y1\", \"xref\": \"x1\", \"align\": \"left\", \"text\": \"( 165 / 17657 )\", \"y\": 21, \"x\": 3.55, \"xanchor\": \"left\", \"showarrow\": false}, {\"font\": {\"color\": \"#000000\"}, \"yref\": \"y1\", \"xref\": \"x1\", \"align\": \"left\", \"text\": \"0.93\", \"y\": 21, \"x\": 4.55, \"xanchor\": \"left\", \"showarrow\": false}, {\"font\": {\"color\": \"#000000\"}, \"yref\": \"y1\", \"xref\": \"x1\", \"align\": \"left\", \"text\": \"discourse\", \"y\": 22, \"x\": -0.45, \"xanchor\": \"left\", \"showarrow\": false}, {\"font\": {\"color\": \"#000000\"}, \"yref\": \"y1\", \"xref\": \"x1\", \"align\": \"left\", \"text\": \"Gecko\", \"y\": 22, \"x\": 0.55, \"xanchor\": \"left\", \"showarrow\": false}, {\"font\": {\"color\": \"#000000\"}, \"yref\": \"y1\", \"xref\": \"x1\", \"align\": \"left\", \"text\": \"( 0 / 0 )\", \"y\": 22, \"x\": 1.55, \"xanchor\": \"left\", \"showarrow\": false}, {\"font\": {\"color\": \"#000000\"}, \"yref\": \"y1\", \"xref\": \"x1\", \"align\": \"left\", \"text\": \"0.0\", \"y\": 22, \"x\": 2.55, \"xanchor\": \"left\", \"showarrow\": false}, {\"font\": {\"color\": \"#000000\"}, \"yref\": \"y1\", \"xref\": \"x1\", \"align\": \"left\", \"text\": \"( 0 / 0 )\", \"y\": 22, \"x\": 3.55, \"xanchor\": \"left\", \"showarrow\": false}, {\"font\": {\"color\": \"#000000\"}, \"yref\": \"y1\", \"xref\": \"x1\", \"align\": \"left\", \"text\": \"0.0\", \"y\": 22, \"x\": 4.55, \"xanchor\": \"left\", \"showarrow\": false}, {\"font\": {\"color\": \"#000000\"}, \"yref\": \"y1\", \"xref\": \"x1\", \"align\": \"left\", \"text\": \"discourse\", \"y\": 23, \"x\": -0.45, \"xanchor\": \"left\", \"showarrow\": false}, {\"font\": {\"color\": \"#000000\"}, \"yref\": \"y1\", \"xref\": \"x1\", \"align\": \"left\", \"text\": \"Rust\", \"y\": 23, \"x\": 0.55, \"xanchor\": \"left\", \"showarrow\": false}, {\"font\": {\"color\": \"#000000\"}, \"yref\": \"y1\", \"xref\": \"x1\", \"align\": \"left\", \"text\": \"( 0 / 0 )\", \"y\": 23, \"x\": 1.55, \"xanchor\": \"left\", \"showarrow\": false}, {\"font\": {\"color\": \"#000000\"}, \"yref\": \"y1\", \"xref\": \"x1\", \"align\": \"left\", \"text\": \"0.0\", \"y\": 23, \"x\": 2.55, \"xanchor\": \"left\", \"showarrow\": false}, {\"font\": {\"color\": \"#000000\"}, \"yref\": \"y1\", \"xref\": \"x1\", \"align\": \"left\", \"text\": \"( 0 / 0 )\", \"y\": 23, \"x\": 3.55, \"xanchor\": \"left\", \"showarrow\": false}, {\"font\": {\"color\": \"#000000\"}, \"yref\": \"y1\", \"xref\": \"x1\", \"align\": \"left\", \"text\": \"0.0\", \"y\": 23, \"x\": 4.55, \"xanchor\": \"left\", \"showarrow\": false}, {\"font\": {\"color\": \"#000000\"}, \"yref\": \"y1\", \"xref\": \"x1\", \"align\": \"left\", \"text\": \"discourse\", \"y\": 24, \"x\": -0.45, \"xanchor\": \"left\", \"showarrow\": false}, {\"font\": {\"color\": \"#000000\"}, \"yref\": \"y1\", \"xref\": \"x1\", \"align\": \"left\", \"text\": \"Servo\", \"y\": 24, \"x\": 0.55, \"xanchor\": \"left\", \"showarrow\": false}, {\"font\": {\"color\": \"#000000\"}, \"yref\": \"y1\", \"xref\": \"x1\", \"align\": \"left\", \"text\": \"( 0 / 0 )\", \"y\": 24, \"x\": 1.55, \"xanchor\": \"left\", \"showarrow\": false}, {\"font\": {\"color\": \"#000000\"}, \"yref\": \"y1\", \"xref\": \"x1\", \"align\": \"left\", \"text\": \"0.0\", \"y\": 24, \"x\": 2.55, \"xanchor\": \"left\", \"showarrow\": false}, {\"font\": {\"color\": \"#000000\"}, \"yref\": \"y1\", \"xref\": \"x1\", \"align\": \"left\", \"text\": \"( 0 / 0 )\", \"y\": 24, \"x\": 3.55, \"xanchor\": \"left\", \"showarrow\": false}, {\"font\": {\"color\": \"#000000\"}, \"yref\": \"y1\", \"xref\": \"x1\", \"align\": \"left\", \"text\": \"0.0\", \"y\": 24, \"x\": 4.55, \"xanchor\": \"left\", \"showarrow\": false}, {\"font\": {\"color\": \"#000000\"}, \"yref\": \"y1\", \"xref\": \"x1\", \"align\": \"left\", \"text\": \"discourse\", \"y\": 25, \"x\": -0.45, \"xanchor\": \"left\", \"showarrow\": false}, {\"font\": {\"color\": \"#000000\"}, \"yref\": \"y1\", \"xref\": \"x1\", \"align\": \"left\", \"text\": \"Firefox\", \"y\": 25, \"x\": 0.55, \"xanchor\": \"left\", \"showarrow\": false}, {\"font\": {\"color\": \"#000000\"}, \"yref\": \"y1\", \"xref\": \"x1\", \"align\": \"left\", \"text\": \"( 0 / 0 )\", \"y\": 25, \"x\": 1.55, \"xanchor\": \"left\", \"showarrow\": false}, {\"font\": {\"color\": \"#000000\"}, \"yref\": \"y1\", \"xref\": \"x1\", \"align\": \"left\", \"text\": \"0.0\", \"y\": 25, \"x\": 2.55, \"xanchor\": \"left\", \"showarrow\": false}, {\"font\": {\"color\": \"#000000\"}, \"yref\": \"y1\", \"xref\": \"x1\", \"align\": \"left\", \"text\": \"( 0 / 0 )\", \"y\": 25, \"x\": 3.55, \"xanchor\": \"left\", \"showarrow\": false}, {\"font\": {\"color\": \"#000000\"}, \"yref\": \"y1\", \"xref\": \"x1\", \"align\": \"left\", \"text\": \"0.0\", \"y\": 25, \"x\": 4.55, \"xanchor\": \"left\", \"showarrow\": false}, {\"font\": {\"color\": \"#000000\"}, \"yref\": \"y1\", \"xref\": \"x1\", \"align\": \"left\", \"text\": \"discourse\", \"y\": 26, \"x\": -0.45, \"xanchor\": \"left\", \"showarrow\": false}, {\"font\": {\"color\": \"#000000\"}, \"yref\": \"y1\", \"xref\": \"x1\", \"align\": \"left\", \"text\": \"WebVR\", \"y\": 26, \"x\": 0.55, \"xanchor\": \"left\", \"showarrow\": false}, {\"font\": {\"color\": \"#000000\"}, \"yref\": \"y1\", \"xref\": \"x1\", \"align\": \"left\", \"text\": \"( 1 / 37 )\", \"y\": 26, \"x\": 1.55, \"xanchor\": \"left\", \"showarrow\": false}, {\"font\": {\"color\": \"#000000\"}, \"yref\": \"y1\", \"xref\": \"x1\", \"align\": \"left\", \"text\": \"2.7\", \"y\": 26, \"x\": 2.55, \"xanchor\": \"left\", \"showarrow\": false}, {\"font\": {\"color\": \"#000000\"}, \"yref\": \"y1\", \"xref\": \"x1\", \"align\": \"left\", \"text\": \"( 1 / 37 )\", \"y\": 26, \"x\": 3.55, \"xanchor\": \"left\", \"showarrow\": false}, {\"font\": {\"color\": \"#000000\"}, \"yref\": \"y1\", \"xref\": \"x1\", \"align\": \"left\", \"text\": \"2.7\", \"y\": 26, \"x\": 4.55, \"xanchor\": \"left\", \"showarrow\": false}, {\"font\": {\"color\": \"#000000\"}, \"yref\": \"y1\", \"xref\": \"x1\", \"align\": \"left\", \"text\": \"discourse\", \"y\": 27, \"x\": -0.45, \"xanchor\": \"left\", \"showarrow\": false}, {\"font\": {\"color\": \"#000000\"}, \"yref\": \"y1\", \"xref\": \"x1\", \"align\": \"left\", \"text\": \"Firefox OS (FxOS / B2G)\", \"y\": 27, \"x\": 0.55, \"xanchor\": \"left\", \"showarrow\": false}, {\"font\": {\"color\": \"#000000\"}, \"yref\": \"y1\", \"xref\": \"x1\", \"align\": \"left\", \"text\": \"( 7 / 106 )\", \"y\": 27, \"x\": 1.55, \"xanchor\": \"left\", \"showarrow\": false}, {\"font\": {\"color\": \"#000000\"}, \"yref\": \"y1\", \"xref\": \"x1\", \"align\": \"left\", \"text\": \"6.6\", \"y\": 27, \"x\": 2.55, \"xanchor\": \"left\", \"showarrow\": false}, {\"font\": {\"color\": \"#000000\"}, \"yref\": \"y1\", \"xref\": \"x1\", \"align\": \"left\", \"text\": \"( 24 / 335 )\", \"y\": 27, \"x\": 3.55, \"xanchor\": \"left\", \"showarrow\": false}, {\"font\": {\"color\": \"#000000\"}, \"yref\": \"y1\", \"xref\": \"x1\", \"align\": \"left\", \"text\": \"7.16\", \"y\": 27, \"x\": 4.55, \"xanchor\": \"left\", \"showarrow\": false}, {\"font\": {\"color\": \"#000000\"}, \"yref\": \"y1\", \"xref\": \"x1\", \"align\": \"left\", \"text\": \"discourse\", \"y\": 28, \"x\": -0.45, \"xanchor\": \"left\", \"showarrow\": false}, {\"font\": {\"color\": \"#000000\"}, \"yref\": \"y1\", \"xref\": \"x1\", \"align\": \"left\", \"text\": \"All\", \"y\": 28, \"x\": 0.55, \"xanchor\": \"left\", \"showarrow\": false}, {\"font\": {\"color\": \"#000000\"}, \"yref\": \"y1\", \"xref\": \"x1\", \"align\": \"left\", \"text\": \"( 66 / 1649 )\", \"y\": 28, \"x\": 1.55, \"xanchor\": \"left\", \"showarrow\": false}, {\"font\": {\"color\": \"#000000\"}, \"yref\": \"y1\", \"xref\": \"x1\", \"align\": \"left\", \"text\": \"4.0\", \"y\": 28, \"x\": 2.55, \"xanchor\": \"left\", \"showarrow\": false}, {\"font\": {\"color\": \"#000000\"}, \"yref\": \"y1\", \"xref\": \"x1\", \"align\": \"left\", \"text\": \"( 85 / 3100 )\", \"y\": 28, \"x\": 3.55, \"xanchor\": \"left\", \"showarrow\": false}, {\"font\": {\"color\": \"#000000\"}, \"yref\": \"y1\", \"xref\": \"x1\", \"align\": \"left\", \"text\": \"2.74\", \"y\": 28, \"x\": 4.55, \"xanchor\": \"left\", \"showarrow\": false}, {\"font\": {\"color\": \"#000000\"}, \"yref\": \"y1\", \"xref\": \"x1\", \"align\": \"left\", \"text\": \"mbox\", \"y\": 29, \"x\": -0.45, \"xanchor\": \"left\", \"showarrow\": false}, {\"font\": {\"color\": \"#000000\"}, \"yref\": \"y1\", \"xref\": \"x1\", \"align\": \"left\", \"text\": \"Gecko\", \"y\": 29, \"x\": 0.55, \"xanchor\": \"left\", \"showarrow\": false}, {\"font\": {\"color\": \"#000000\"}, \"yref\": \"y1\", \"xref\": \"x1\", \"align\": \"left\", \"text\": \"( 0 / 0 )\", \"y\": 29, \"x\": 1.55, \"xanchor\": \"left\", \"showarrow\": false}, {\"font\": {\"color\": \"#000000\"}, \"yref\": \"y1\", \"xref\": \"x1\", \"align\": \"left\", \"text\": \"0.0\", \"y\": 29, \"x\": 2.55, \"xanchor\": \"left\", \"showarrow\": false}, {\"font\": {\"color\": \"#000000\"}, \"yref\": \"y1\", \"xref\": \"x1\", \"align\": \"left\", \"text\": \"( 0 / 0 )\", \"y\": 29, \"x\": 3.55, \"xanchor\": \"left\", \"showarrow\": false}, {\"font\": {\"color\": \"#000000\"}, \"yref\": \"y1\", \"xref\": \"x1\", \"align\": \"left\", \"text\": \"0.0\", \"y\": 29, \"x\": 4.55, \"xanchor\": \"left\", \"showarrow\": false}, {\"font\": {\"color\": \"#000000\"}, \"yref\": \"y1\", \"xref\": \"x1\", \"align\": \"left\", \"text\": \"mbox\", \"y\": 30, \"x\": -0.45, \"xanchor\": \"left\", \"showarrow\": false}, {\"font\": {\"color\": \"#000000\"}, \"yref\": \"y1\", \"xref\": \"x1\", \"align\": \"left\", \"text\": \"Rust\", \"y\": 30, \"x\": 0.55, \"xanchor\": \"left\", \"showarrow\": false}, {\"font\": {\"color\": \"#000000\"}, \"yref\": \"y1\", \"xref\": \"x1\", \"align\": \"left\", \"text\": \"( 0 / 0 )\", \"y\": 30, \"x\": 1.55, \"xanchor\": \"left\", \"showarrow\": false}, {\"font\": {\"color\": \"#000000\"}, \"yref\": \"y1\", \"xref\": \"x1\", \"align\": \"left\", \"text\": \"0.0\", \"y\": 30, \"x\": 2.55, \"xanchor\": \"left\", \"showarrow\": false}, {\"font\": {\"color\": \"#000000\"}, \"yref\": \"y1\", \"xref\": \"x1\", \"align\": \"left\", \"text\": \"( 0 / 0 )\", \"y\": 30, \"x\": 3.55, \"xanchor\": \"left\", \"showarrow\": false}, {\"font\": {\"color\": \"#000000\"}, \"yref\": \"y1\", \"xref\": \"x1\", \"align\": \"left\", \"text\": \"0.0\", \"y\": 30, \"x\": 4.55, \"xanchor\": \"left\", \"showarrow\": false}, {\"font\": {\"color\": \"#000000\"}, \"yref\": \"y1\", \"xref\": \"x1\", \"align\": \"left\", \"text\": \"mbox\", \"y\": 31, \"x\": -0.45, \"xanchor\": \"left\", \"showarrow\": false}, {\"font\": {\"color\": \"#000000\"}, \"yref\": \"y1\", \"xref\": \"x1\", \"align\": \"left\", \"text\": \"Servo\", \"y\": 31, \"x\": 0.55, \"xanchor\": \"left\", \"showarrow\": false}, {\"font\": {\"color\": \"#000000\"}, \"yref\": \"y1\", \"xref\": \"x1\", \"align\": \"left\", \"text\": \"( 1 / 44 )\", \"y\": 31, \"x\": 1.55, \"xanchor\": \"left\", \"showarrow\": false}, {\"font\": {\"color\": \"#000000\"}, \"yref\": \"y1\", \"xref\": \"x1\", \"align\": \"left\", \"text\": \"2.27\", \"y\": 31, \"x\": 2.55, \"xanchor\": \"left\", \"showarrow\": false}, {\"font\": {\"color\": \"#000000\"}, \"yref\": \"y1\", \"xref\": \"x1\", \"align\": \"left\", \"text\": \"( 1 / 121 )\", \"y\": 31, \"x\": 3.55, \"xanchor\": \"left\", \"showarrow\": false}, {\"font\": {\"color\": \"#000000\"}, \"yref\": \"y1\", \"xref\": \"x1\", \"align\": \"left\", \"text\": \"0.83\", \"y\": 31, \"x\": 4.55, \"xanchor\": \"left\", \"showarrow\": false}, {\"font\": {\"color\": \"#000000\"}, \"yref\": \"y1\", \"xref\": \"x1\", \"align\": \"left\", \"text\": \"mbox\", \"y\": 32, \"x\": -0.45, \"xanchor\": \"left\", \"showarrow\": false}, {\"font\": {\"color\": \"#000000\"}, \"yref\": \"y1\", \"xref\": \"x1\", \"align\": \"left\", \"text\": \"Firefox\", \"y\": 32, \"x\": 0.55, \"xanchor\": \"left\", \"showarrow\": false}, {\"font\": {\"color\": \"#000000\"}, \"yref\": \"y1\", \"xref\": \"x1\", \"align\": \"left\", \"text\": \"( 0 / 0 )\", \"y\": 32, \"x\": 1.55, \"xanchor\": \"left\", \"showarrow\": false}, {\"font\": {\"color\": \"#000000\"}, \"yref\": \"y1\", \"xref\": \"x1\", \"align\": \"left\", \"text\": \"0.0\", \"y\": 32, \"x\": 2.55, \"xanchor\": \"left\", \"showarrow\": false}, {\"font\": {\"color\": \"#000000\"}, \"yref\": \"y1\", \"xref\": \"x1\", \"align\": \"left\", \"text\": \"( 0 / 0 )\", \"y\": 32, \"x\": 3.55, \"xanchor\": \"left\", \"showarrow\": false}, {\"font\": {\"color\": \"#000000\"}, \"yref\": \"y1\", \"xref\": \"x1\", \"align\": \"left\", \"text\": \"0.0\", \"y\": 32, \"x\": 4.55, \"xanchor\": \"left\", \"showarrow\": false}, {\"font\": {\"color\": \"#000000\"}, \"yref\": \"y1\", \"xref\": \"x1\", \"align\": \"left\", \"text\": \"mbox\", \"y\": 33, \"x\": -0.45, \"xanchor\": \"left\", \"showarrow\": false}, {\"font\": {\"color\": \"#000000\"}, \"yref\": \"y1\", \"xref\": \"x1\", \"align\": \"left\", \"text\": \"WebVR\", \"y\": 33, \"x\": 0.55, \"xanchor\": \"left\", \"showarrow\": false}, {\"font\": {\"color\": \"#000000\"}, \"yref\": \"y1\", \"xref\": \"x1\", \"align\": \"left\", \"text\": \"( 0 / 0 )\", \"y\": 33, \"x\": 1.55, \"xanchor\": \"left\", \"showarrow\": false}, {\"font\": {\"color\": \"#000000\"}, \"yref\": \"y1\", \"xref\": \"x1\", \"align\": \"left\", \"text\": \"0.0\", \"y\": 33, \"x\": 2.55, \"xanchor\": \"left\", \"showarrow\": false}, {\"font\": {\"color\": \"#000000\"}, \"yref\": \"y1\", \"xref\": \"x1\", \"align\": \"left\", \"text\": \"( 0 / 0 )\", \"y\": 33, \"x\": 3.55, \"xanchor\": \"left\", \"showarrow\": false}, {\"font\": {\"color\": \"#000000\"}, \"yref\": \"y1\", \"xref\": \"x1\", \"align\": \"left\", \"text\": \"0.0\", \"y\": 33, \"x\": 4.55, \"xanchor\": \"left\", \"showarrow\": false}, {\"font\": {\"color\": \"#000000\"}, \"yref\": \"y1\", \"xref\": \"x1\", \"align\": \"left\", \"text\": \"mbox\", \"y\": 34, \"x\": -0.45, \"xanchor\": \"left\", \"showarrow\": false}, {\"font\": {\"color\": \"#000000\"}, \"yref\": \"y1\", \"xref\": \"x1\", \"align\": \"left\", \"text\": \"Firefox OS (FxOS / B2G)\", \"y\": 34, \"x\": 0.55, \"xanchor\": \"left\", \"showarrow\": false}, {\"font\": {\"color\": \"#000000\"}, \"yref\": \"y1\", \"xref\": \"x1\", \"align\": \"left\", \"text\": \"( 2 / 31 )\", \"y\": 34, \"x\": 1.55, \"xanchor\": \"left\", \"showarrow\": false}, {\"font\": {\"color\": \"#000000\"}, \"yref\": \"y1\", \"xref\": \"x1\", \"align\": \"left\", \"text\": \"6.45\", \"y\": 34, \"x\": 2.55, \"xanchor\": \"left\", \"showarrow\": false}, {\"font\": {\"color\": \"#000000\"}, \"yref\": \"y1\", \"xref\": \"x1\", \"align\": \"left\", \"text\": \"( 28 / 1485 )\", \"y\": 34, \"x\": 3.55, \"xanchor\": \"left\", \"showarrow\": false}, {\"font\": {\"color\": \"#000000\"}, \"yref\": \"y1\", \"xref\": \"x1\", \"align\": \"left\", \"text\": \"1.89\", \"y\": 34, \"x\": 4.55, \"xanchor\": \"left\", \"showarrow\": false}, {\"font\": {\"color\": \"#000000\"}, \"yref\": \"y1\", \"xref\": \"x1\", \"align\": \"left\", \"text\": \"mbox\", \"y\": 35, \"x\": -0.45, \"xanchor\": \"left\", \"showarrow\": false}, {\"font\": {\"color\": \"#000000\"}, \"yref\": \"y1\", \"xref\": \"x1\", \"align\": \"left\", \"text\": \"All\", \"y\": 35, \"x\": 0.55, \"xanchor\": \"left\", \"showarrow\": false}, {\"font\": {\"color\": \"#000000\"}, \"yref\": \"y1\", \"xref\": \"x1\", \"align\": \"left\", \"text\": \"( 49 / 1954 )\", \"y\": 35, \"x\": 1.55, \"xanchor\": \"left\", \"showarrow\": false}, {\"font\": {\"color\": \"#000000\"}, \"yref\": \"y1\", \"xref\": \"x1\", \"align\": \"left\", \"text\": \"2.51\", \"y\": 35, \"x\": 2.55, \"xanchor\": \"left\", \"showarrow\": false}, {\"font\": {\"color\": \"#000000\"}, \"yref\": \"y1\", \"xref\": \"x1\", \"align\": \"left\", \"text\": \"( 122 / 62092 )\", \"y\": 35, \"x\": 3.55, \"xanchor\": \"left\", \"showarrow\": false}, {\"font\": {\"color\": \"#000000\"}, \"yref\": \"y1\", \"xref\": \"x1\", \"align\": \"left\", \"text\": \"0.2\", \"y\": 35, \"x\": 4.55, \"xanchor\": \"left\", \"showarrow\": false}], \"yaxis\": {\"showticklabels\": false, \"autorange\": \"reversed\", \"ticks\": \"\", \"dtick\": 1, \"tick0\": 0.5, \"gridwidth\": 2, \"zeroline\": false}, \"margin\": {\"b\": 0, \"l\": 0, \"r\": 0, \"t\": 0}}, {\"showLink\": true, \"linkText\": \"Export to plot.ly\"})});</script>"
      ],
      "text/vnd.plotly.v1+html": [
       "<div id=\"fd7339a3-d17f-4bec-bba2-236c99e6d46c\" style=\"height: 1130px; width: 100%;\" class=\"plotly-graph-div\"></div><script type=\"text/javascript\">require([\"plotly\"], function(Plotly) { window.PLOTLYENV=window.PLOTLYENV || {};window.PLOTLYENV.BASE_URL=\"https://plot.ly\";Plotly.newPlot(\"fd7339a3-d17f-4bec-bba2-236c99e6d46c\", [{\"type\": \"heatmap\", \"colorscale\": [[0, \"#00083e\"], [0.5, \"#ededee\"], [1, \"#ffffff\"]], \"showscale\": false, \"z\": [[0, 0, 0, 0, 0, 0], [0.5, 0.5, 0.5, 0.5, 0.5, 0.5], [1, 1, 1, 1, 1, 1], [0.5, 0.5, 0.5, 0.5, 0.5, 0.5], [1, 1, 1, 1, 1, 1], [0.5, 0.5, 0.5, 0.5, 0.5, 0.5], [1, 1, 1, 1, 1, 1], [0.5, 0.5, 0.5, 0.5, 0.5, 0.5], [1, 1, 1, 1, 1, 1], [0.5, 0.5, 0.5, 0.5, 0.5, 0.5], [1, 1, 1, 1, 1, 1], [0.5, 0.5, 0.5, 0.5, 0.5, 0.5], [1, 1, 1, 1, 1, 1], [0.5, 0.5, 0.5, 0.5, 0.5, 0.5], [1, 1, 1, 1, 1, 1], [0.5, 0.5, 0.5, 0.5, 0.5, 0.5], [1, 1, 1, 1, 1, 1], [0.5, 0.5, 0.5, 0.5, 0.5, 0.5], [1, 1, 1, 1, 1, 1], [0.5, 0.5, 0.5, 0.5, 0.5, 0.5], [1, 1, 1, 1, 1, 1], [0.5, 0.5, 0.5, 0.5, 0.5, 0.5], [1, 1, 1, 1, 1, 1], [0.5, 0.5, 0.5, 0.5, 0.5, 0.5], [1, 1, 1, 1, 1, 1], [0.5, 0.5, 0.5, 0.5, 0.5, 0.5], [1, 1, 1, 1, 1, 1], [0.5, 0.5, 0.5, 0.5, 0.5, 0.5], [1, 1, 1, 1, 1, 1], [0.5, 0.5, 0.5, 0.5, 0.5, 0.5], [1, 1, 1, 1, 1, 1], [0.5, 0.5, 0.5, 0.5, 0.5, 0.5], [1, 1, 1, 1, 1, 1], [0.5, 0.5, 0.5, 0.5, 0.5, 0.5], [1, 1, 1, 1, 1, 1], [0.5, 0.5, 0.5, 0.5, 0.5, 0.5]], \"hoverinfo\": \"none\", \"opacity\": 0.75}], {\"height\": 1130, \"xaxis\": {\"showticklabels\": false, \"ticks\": \"\", \"dtick\": 1, \"tick0\": -0.5, \"gridwidth\": 2, \"zeroline\": false}, \"annotations\": [{\"font\": {\"color\": \"#ffffff\"}, \"yref\": \"y1\", \"xref\": \"x1\", \"align\": \"left\", \"text\": \"<b>source</b>\", \"y\": 0, \"x\": -0.45, \"xanchor\": \"left\", \"showarrow\": false}, {\"font\": {\"color\": \"#ffffff\"}, \"yref\": \"y1\", \"xref\": \"x1\", \"align\": \"left\", \"text\": \"<b>project</b>\", \"y\": 0, \"x\": 0.55, \"xanchor\": \"left\", \"showarrow\": false}, {\"font\": {\"color\": \"#ffffff\"}, \"yref\": \"y1\", \"xref\": \"x1\", \"align\": \"left\", \"text\": \"<b>authors(last year)</b>\", \"y\": 0, \"x\": 1.55, \"xanchor\": \"left\", \"showarrow\": false}, {\"font\": {\"color\": \"#ffffff\"}, \"yref\": \"y1\", \"xref\": \"x1\", \"align\": \"left\", \"text\": \"<b>coverage(last year)</b>\", \"y\": 0, \"x\": 2.55, \"xanchor\": \"left\", \"showarrow\": false}, {\"font\": {\"color\": \"#ffffff\"}, \"yref\": \"y1\", \"xref\": \"x1\", \"align\": \"left\", \"text\": \"<b>authors</b>\", \"y\": 0, \"x\": 3.55, \"xanchor\": \"left\", \"showarrow\": false}, {\"font\": {\"color\": \"#ffffff\"}, \"yref\": \"y1\", \"xref\": \"x1\", \"align\": \"left\", \"text\": \"<b>coverage</b>\", \"y\": 0, \"x\": 4.55, \"xanchor\": \"left\", \"showarrow\": false}, {\"font\": {\"color\": \"#000000\"}, \"yref\": \"y1\", \"xref\": \"x1\", \"align\": \"left\", \"text\": \"git\", \"y\": 1, \"x\": -0.45, \"xanchor\": \"left\", \"showarrow\": false}, {\"font\": {\"color\": \"#000000\"}, \"yref\": \"y1\", \"xref\": \"x1\", \"align\": \"left\", \"text\": \"Gecko\", \"y\": 1, \"x\": 0.55, \"xanchor\": \"left\", \"showarrow\": false}, {\"font\": {\"color\": \"#000000\"}, \"yref\": \"y1\", \"xref\": \"x1\", \"align\": \"left\", \"text\": \"( 22 / 797 )\", \"y\": 1, \"x\": 1.55, \"xanchor\": \"left\", \"showarrow\": false}, {\"font\": {\"color\": \"#000000\"}, \"yref\": \"y1\", \"xref\": \"x1\", \"align\": \"left\", \"text\": \"2.76\", \"y\": 1, \"x\": 2.55, \"xanchor\": \"left\", \"showarrow\": false}, {\"font\": {\"color\": \"#000000\"}, \"yref\": \"y1\", \"xref\": \"x1\", \"align\": \"left\", \"text\": \"( 41 / 4245 )\", \"y\": 1, \"x\": 3.55, \"xanchor\": \"left\", \"showarrow\": false}, {\"font\": {\"color\": \"#000000\"}, \"yref\": \"y1\", \"xref\": \"x1\", \"align\": \"left\", \"text\": \"0.97\", \"y\": 1, \"x\": 4.55, \"xanchor\": \"left\", \"showarrow\": false}, {\"font\": {\"color\": \"#000000\"}, \"yref\": \"y1\", \"xref\": \"x1\", \"align\": \"left\", \"text\": \"git\", \"y\": 2, \"x\": -0.45, \"xanchor\": \"left\", \"showarrow\": false}, {\"font\": {\"color\": \"#000000\"}, \"yref\": \"y1\", \"xref\": \"x1\", \"align\": \"left\", \"text\": \"Rust\", \"y\": 2, \"x\": 0.55, \"xanchor\": \"left\", \"showarrow\": false}, {\"font\": {\"color\": \"#000000\"}, \"yref\": \"y1\", \"xref\": \"x1\", \"align\": \"left\", \"text\": \"( 18 / 729 )\", \"y\": 2, \"x\": 1.55, \"xanchor\": \"left\", \"showarrow\": false}, {\"font\": {\"color\": \"#000000\"}, \"yref\": \"y1\", \"xref\": \"x1\", \"align\": \"left\", \"text\": \"2.47\", \"y\": 2, \"x\": 2.55, \"xanchor\": \"left\", \"showarrow\": false}, {\"font\": {\"color\": \"#000000\"}, \"yref\": \"y1\", \"xref\": \"x1\", \"align\": \"left\", \"text\": \"( 25 / 2400 )\", \"y\": 2, \"x\": 3.55, \"xanchor\": \"left\", \"showarrow\": false}, {\"font\": {\"color\": \"#000000\"}, \"yref\": \"y1\", \"xref\": \"x1\", \"align\": \"left\", \"text\": \"1.04\", \"y\": 2, \"x\": 4.55, \"xanchor\": \"left\", \"showarrow\": false}, {\"font\": {\"color\": \"#000000\"}, \"yref\": \"y1\", \"xref\": \"x1\", \"align\": \"left\", \"text\": \"git\", \"y\": 3, \"x\": -0.45, \"xanchor\": \"left\", \"showarrow\": false}, {\"font\": {\"color\": \"#000000\"}, \"yref\": \"y1\", \"xref\": \"x1\", \"align\": \"left\", \"text\": \"Servo\", \"y\": 3, \"x\": 0.55, \"xanchor\": \"left\", \"showarrow\": false}, {\"font\": {\"color\": \"#000000\"}, \"yref\": \"y1\", \"xref\": \"x1\", \"align\": \"left\", \"text\": \"( 15 / 353 )\", \"y\": 3, \"x\": 1.55, \"xanchor\": \"left\", \"showarrow\": false}, {\"font\": {\"color\": \"#000000\"}, \"yref\": \"y1\", \"xref\": \"x1\", \"align\": \"left\", \"text\": \"4.25\", \"y\": 3, \"x\": 2.55, \"xanchor\": \"left\", \"showarrow\": false}, {\"font\": {\"color\": \"#000000\"}, \"yref\": \"y1\", \"xref\": \"x1\", \"align\": \"left\", \"text\": \"( 22 / 1282 )\", \"y\": 3, \"x\": 3.55, \"xanchor\": \"left\", \"showarrow\": false}, {\"font\": {\"color\": \"#000000\"}, \"yref\": \"y1\", \"xref\": \"x1\", \"align\": \"left\", \"text\": \"1.72\", \"y\": 3, \"x\": 4.55, \"xanchor\": \"left\", \"showarrow\": false}, {\"font\": {\"color\": \"#000000\"}, \"yref\": \"y1\", \"xref\": \"x1\", \"align\": \"left\", \"text\": \"git\", \"y\": 4, \"x\": -0.45, \"xanchor\": \"left\", \"showarrow\": false}, {\"font\": {\"color\": \"#000000\"}, \"yref\": \"y1\", \"xref\": \"x1\", \"align\": \"left\", \"text\": \"Firefox\", \"y\": 4, \"x\": 0.55, \"xanchor\": \"left\", \"showarrow\": false}, {\"font\": {\"color\": \"#000000\"}, \"yref\": \"y1\", \"xref\": \"x1\", \"align\": \"left\", \"text\": \"( 5 / 209 )\", \"y\": 4, \"x\": 1.55, \"xanchor\": \"left\", \"showarrow\": false}, {\"font\": {\"color\": \"#000000\"}, \"yref\": \"y1\", \"xref\": \"x1\", \"align\": \"left\", \"text\": \"2.39\", \"y\": 4, \"x\": 2.55, \"xanchor\": \"left\", \"showarrow\": false}, {\"font\": {\"color\": \"#000000\"}, \"yref\": \"y1\", \"xref\": \"x1\", \"align\": \"left\", \"text\": \"( 16 / 1133 )\", \"y\": 4, \"x\": 3.55, \"xanchor\": \"left\", \"showarrow\": false}, {\"font\": {\"color\": \"#000000\"}, \"yref\": \"y1\", \"xref\": \"x1\", \"align\": \"left\", \"text\": \"1.41\", \"y\": 4, \"x\": 4.55, \"xanchor\": \"left\", \"showarrow\": false}, {\"font\": {\"color\": \"#000000\"}, \"yref\": \"y1\", \"xref\": \"x1\", \"align\": \"left\", \"text\": \"git\", \"y\": 5, \"x\": -0.45, \"xanchor\": \"left\", \"showarrow\": false}, {\"font\": {\"color\": \"#000000\"}, \"yref\": \"y1\", \"xref\": \"x1\", \"align\": \"left\", \"text\": \"WebVR\", \"y\": 5, \"x\": 0.55, \"xanchor\": \"left\", \"showarrow\": false}, {\"font\": {\"color\": \"#000000\"}, \"yref\": \"y1\", \"xref\": \"x1\", \"align\": \"left\", \"text\": \"( 6 / 162 )\", \"y\": 5, \"x\": 1.55, \"xanchor\": \"left\", \"showarrow\": false}, {\"font\": {\"color\": \"#000000\"}, \"yref\": \"y1\", \"xref\": \"x1\", \"align\": \"left\", \"text\": \"3.7\", \"y\": 5, \"x\": 2.55, \"xanchor\": \"left\", \"showarrow\": false}, {\"font\": {\"color\": \"#000000\"}, \"yref\": \"y1\", \"xref\": \"x1\", \"align\": \"left\", \"text\": \"( 6 / 221 )\", \"y\": 5, \"x\": 3.55, \"xanchor\": \"left\", \"showarrow\": false}, {\"font\": {\"color\": \"#000000\"}, \"yref\": \"y1\", \"xref\": \"x1\", \"align\": \"left\", \"text\": \"2.71\", \"y\": 5, \"x\": 4.55, \"xanchor\": \"left\", \"showarrow\": false}, {\"font\": {\"color\": \"#000000\"}, \"yref\": \"y1\", \"xref\": \"x1\", \"align\": \"left\", \"text\": \"git\", \"y\": 6, \"x\": -0.45, \"xanchor\": \"left\", \"showarrow\": false}, {\"font\": {\"color\": \"#000000\"}, \"yref\": \"y1\", \"xref\": \"x1\", \"align\": \"left\", \"text\": \"Firefox OS (FxOS / B2G)\", \"y\": 6, \"x\": 0.55, \"xanchor\": \"left\", \"showarrow\": false}, {\"font\": {\"color\": \"#000000\"}, \"yref\": \"y1\", \"xref\": \"x1\", \"align\": \"left\", \"text\": \"( 0 / 1 )\", \"y\": 6, \"x\": 1.55, \"xanchor\": \"left\", \"showarrow\": false}, {\"font\": {\"color\": \"#000000\"}, \"yref\": \"y1\", \"xref\": \"x1\", \"align\": \"left\", \"text\": \"0.0\", \"y\": 6, \"x\": 2.55, \"xanchor\": \"left\", \"showarrow\": false}, {\"font\": {\"color\": \"#000000\"}, \"yref\": \"y1\", \"xref\": \"x1\", \"align\": \"left\", \"text\": \"( 9 / 92 )\", \"y\": 6, \"x\": 3.55, \"xanchor\": \"left\", \"showarrow\": false}, {\"font\": {\"color\": \"#000000\"}, \"yref\": \"y1\", \"xref\": \"x1\", \"align\": \"left\", \"text\": \"9.78\", \"y\": 6, \"x\": 4.55, \"xanchor\": \"left\", \"showarrow\": false}, {\"font\": {\"color\": \"#000000\"}, \"yref\": \"y1\", \"xref\": \"x1\", \"align\": \"left\", \"text\": \"git\", \"y\": 7, \"x\": -0.45, \"xanchor\": \"left\", \"showarrow\": false}, {\"font\": {\"color\": \"#000000\"}, \"yref\": \"y1\", \"xref\": \"x1\", \"align\": \"left\", \"text\": \"All\", \"y\": 7, \"x\": 0.55, \"xanchor\": \"left\", \"showarrow\": false}, {\"font\": {\"color\": \"#000000\"}, \"yref\": \"y1\", \"xref\": \"x1\", \"align\": \"left\", \"text\": \"( 110 / 3142 )\", \"y\": 7, \"x\": 1.55, \"xanchor\": \"left\", \"showarrow\": false}, {\"font\": {\"color\": \"#000000\"}, \"yref\": \"y1\", \"xref\": \"x1\", \"align\": \"left\", \"text\": \"3.5\", \"y\": 7, \"x\": 2.55, \"xanchor\": \"left\", \"showarrow\": false}, {\"font\": {\"color\": \"#000000\"}, \"yref\": \"y1\", \"xref\": \"x1\", \"align\": \"left\", \"text\": \"( 159 / 13351 )\", \"y\": 7, \"x\": 3.55, \"xanchor\": \"left\", \"showarrow\": false}, {\"font\": {\"color\": \"#000000\"}, \"yref\": \"y1\", \"xref\": \"x1\", \"align\": \"left\", \"text\": \"1.19\", \"y\": 7, \"x\": 4.55, \"xanchor\": \"left\", \"showarrow\": false}, {\"font\": {\"color\": \"#000000\"}, \"yref\": \"y1\", \"xref\": \"x1\", \"align\": \"left\", \"text\": \"bugzilla\", \"y\": 8, \"x\": -0.45, \"xanchor\": \"left\", \"showarrow\": false}, {\"font\": {\"color\": \"#000000\"}, \"yref\": \"y1\", \"xref\": \"x1\", \"align\": \"left\", \"text\": \"Gecko\", \"y\": 8, \"x\": 0.55, \"xanchor\": \"left\", \"showarrow\": false}, {\"font\": {\"color\": \"#000000\"}, \"yref\": \"y1\", \"xref\": \"x1\", \"align\": \"left\", \"text\": \"( 30 / 3721 )\", \"y\": 8, \"x\": 1.55, \"xanchor\": \"left\", \"showarrow\": false}, {\"font\": {\"color\": \"#000000\"}, \"yref\": \"y1\", \"xref\": \"x1\", \"align\": \"left\", \"text\": \"0.81\", \"y\": 8, \"x\": 2.55, \"xanchor\": \"left\", \"showarrow\": false}, {\"font\": {\"color\": \"#000000\"}, \"yref\": \"y1\", \"xref\": \"x1\", \"align\": \"left\", \"text\": \"( 97 / 62212 )\", \"y\": 8, \"x\": 3.55, \"xanchor\": \"left\", \"showarrow\": false}, {\"font\": {\"color\": \"#000000\"}, \"yref\": \"y1\", \"xref\": \"x1\", \"align\": \"left\", \"text\": \"0.16\", \"y\": 8, \"x\": 4.55, \"xanchor\": \"left\", \"showarrow\": false}, {\"font\": {\"color\": \"#000000\"}, \"yref\": \"y1\", \"xref\": \"x1\", \"align\": \"left\", \"text\": \"bugzilla\", \"y\": 9, \"x\": -0.45, \"xanchor\": \"left\", \"showarrow\": false}, {\"font\": {\"color\": \"#000000\"}, \"yref\": \"y1\", \"xref\": \"x1\", \"align\": \"left\", \"text\": \"Rust\", \"y\": 9, \"x\": 0.55, \"xanchor\": \"left\", \"showarrow\": false}, {\"font\": {\"color\": \"#000000\"}, \"yref\": \"y1\", \"xref\": \"x1\", \"align\": \"left\", \"text\": \"( 0 / 0 )\", \"y\": 9, \"x\": 1.55, \"xanchor\": \"left\", \"showarrow\": false}, {\"font\": {\"color\": \"#000000\"}, \"yref\": \"y1\", \"xref\": \"x1\", \"align\": \"left\", \"text\": \"0.0\", \"y\": 9, \"x\": 2.55, \"xanchor\": \"left\", \"showarrow\": false}, {\"font\": {\"color\": \"#000000\"}, \"yref\": \"y1\", \"xref\": \"x1\", \"align\": \"left\", \"text\": \"( 0 / 0 )\", \"y\": 9, \"x\": 3.55, \"xanchor\": \"left\", \"showarrow\": false}, {\"font\": {\"color\": \"#000000\"}, \"yref\": \"y1\", \"xref\": \"x1\", \"align\": \"left\", \"text\": \"0.0\", \"y\": 9, \"x\": 4.55, \"xanchor\": \"left\", \"showarrow\": false}, {\"font\": {\"color\": \"#000000\"}, \"yref\": \"y1\", \"xref\": \"x1\", \"align\": \"left\", \"text\": \"bugzilla\", \"y\": 10, \"x\": -0.45, \"xanchor\": \"left\", \"showarrow\": false}, {\"font\": {\"color\": \"#000000\"}, \"yref\": \"y1\", \"xref\": \"x1\", \"align\": \"left\", \"text\": \"Servo\", \"y\": 10, \"x\": 0.55, \"xanchor\": \"left\", \"showarrow\": false}, {\"font\": {\"color\": \"#000000\"}, \"yref\": \"y1\", \"xref\": \"x1\", \"align\": \"left\", \"text\": \"( 0 / 0 )\", \"y\": 10, \"x\": 1.55, \"xanchor\": \"left\", \"showarrow\": false}, {\"font\": {\"color\": \"#000000\"}, \"yref\": \"y1\", \"xref\": \"x1\", \"align\": \"left\", \"text\": \"0.0\", \"y\": 10, \"x\": 2.55, \"xanchor\": \"left\", \"showarrow\": false}, {\"font\": {\"color\": \"#000000\"}, \"yref\": \"y1\", \"xref\": \"x1\", \"align\": \"left\", \"text\": \"( 0 / 0 )\", \"y\": 10, \"x\": 3.55, \"xanchor\": \"left\", \"showarrow\": false}, {\"font\": {\"color\": \"#000000\"}, \"yref\": \"y1\", \"xref\": \"x1\", \"align\": \"left\", \"text\": \"0.0\", \"y\": 10, \"x\": 4.55, \"xanchor\": \"left\", \"showarrow\": false}, {\"font\": {\"color\": \"#000000\"}, \"yref\": \"y1\", \"xref\": \"x1\", \"align\": \"left\", \"text\": \"bugzilla\", \"y\": 11, \"x\": -0.45, \"xanchor\": \"left\", \"showarrow\": false}, {\"font\": {\"color\": \"#000000\"}, \"yref\": \"y1\", \"xref\": \"x1\", \"align\": \"left\", \"text\": \"Firefox\", \"y\": 11, \"x\": 0.55, \"xanchor\": \"left\", \"showarrow\": false}, {\"font\": {\"color\": \"#000000\"}, \"yref\": \"y1\", \"xref\": \"x1\", \"align\": \"left\", \"text\": \"( 24 / 2384 )\", \"y\": 11, \"x\": 1.55, \"xanchor\": \"left\", \"showarrow\": false}, {\"font\": {\"color\": \"#000000\"}, \"yref\": \"y1\", \"xref\": \"x1\", \"align\": \"left\", \"text\": \"1.01\", \"y\": 11, \"x\": 2.55, \"xanchor\": \"left\", \"showarrow\": false}, {\"font\": {\"color\": \"#000000\"}, \"yref\": \"y1\", \"xref\": \"x1\", \"align\": \"left\", \"text\": \"( 90 / 71782 )\", \"y\": 11, \"x\": 3.55, \"xanchor\": \"left\", \"showarrow\": false}, {\"font\": {\"color\": \"#000000\"}, \"yref\": \"y1\", \"xref\": \"x1\", \"align\": \"left\", \"text\": \"0.13\", \"y\": 11, \"x\": 4.55, \"xanchor\": \"left\", \"showarrow\": false}, {\"font\": {\"color\": \"#000000\"}, \"yref\": \"y1\", \"xref\": \"x1\", \"align\": \"left\", \"text\": \"bugzilla\", \"y\": 12, \"x\": -0.45, \"xanchor\": \"left\", \"showarrow\": false}, {\"font\": {\"color\": \"#000000\"}, \"yref\": \"y1\", \"xref\": \"x1\", \"align\": \"left\", \"text\": \"WebVR\", \"y\": 12, \"x\": 0.55, \"xanchor\": \"left\", \"showarrow\": false}, {\"font\": {\"color\": \"#000000\"}, \"yref\": \"y1\", \"xref\": \"x1\", \"align\": \"left\", \"text\": \"( 0 / 0 )\", \"y\": 12, \"x\": 1.55, \"xanchor\": \"left\", \"showarrow\": false}, {\"font\": {\"color\": \"#000000\"}, \"yref\": \"y1\", \"xref\": \"x1\", \"align\": \"left\", \"text\": \"0.0\", \"y\": 12, \"x\": 2.55, \"xanchor\": \"left\", \"showarrow\": false}, {\"font\": {\"color\": \"#000000\"}, \"yref\": \"y1\", \"xref\": \"x1\", \"align\": \"left\", \"text\": \"( 0 / 0 )\", \"y\": 12, \"x\": 3.55, \"xanchor\": \"left\", \"showarrow\": false}, {\"font\": {\"color\": \"#000000\"}, \"yref\": \"y1\", \"xref\": \"x1\", \"align\": \"left\", \"text\": \"0.0\", \"y\": 12, \"x\": 4.55, \"xanchor\": \"left\", \"showarrow\": false}, {\"font\": {\"color\": \"#000000\"}, \"yref\": \"y1\", \"xref\": \"x1\", \"align\": \"left\", \"text\": \"bugzilla\", \"y\": 13, \"x\": -0.45, \"xanchor\": \"left\", \"showarrow\": false}, {\"font\": {\"color\": \"#000000\"}, \"yref\": \"y1\", \"xref\": \"x1\", \"align\": \"left\", \"text\": \"Firefox OS (FxOS / B2G)\", \"y\": 13, \"x\": 0.55, \"xanchor\": \"left\", \"showarrow\": false}, {\"font\": {\"color\": \"#000000\"}, \"yref\": \"y1\", \"xref\": \"x1\", \"align\": \"left\", \"text\": \"( 2 / 46 )\", \"y\": 13, \"x\": 1.55, \"xanchor\": \"left\", \"showarrow\": false}, {\"font\": {\"color\": \"#000000\"}, \"yref\": \"y1\", \"xref\": \"x1\", \"align\": \"left\", \"text\": \"4.35\", \"y\": 13, \"x\": 2.55, \"xanchor\": \"left\", \"showarrow\": false}, {\"font\": {\"color\": \"#000000\"}, \"yref\": \"y1\", \"xref\": \"x1\", \"align\": \"left\", \"text\": \"( 62 / 2206 )\", \"y\": 13, \"x\": 3.55, \"xanchor\": \"left\", \"showarrow\": false}, {\"font\": {\"color\": \"#000000\"}, \"yref\": \"y1\", \"xref\": \"x1\", \"align\": \"left\", \"text\": \"2.81\", \"y\": 13, \"x\": 4.55, \"xanchor\": \"left\", \"showarrow\": false}, {\"font\": {\"color\": \"#000000\"}, \"yref\": \"y1\", \"xref\": \"x1\", \"align\": \"left\", \"text\": \"bugzilla\", \"y\": 14, \"x\": -0.45, \"xanchor\": \"left\", \"showarrow\": false}, {\"font\": {\"color\": \"#000000\"}, \"yref\": \"y1\", \"xref\": \"x1\", \"align\": \"left\", \"text\": \"All\", \"y\": 14, \"x\": 0.55, \"xanchor\": \"left\", \"showarrow\": false}, {\"font\": {\"color\": \"#000000\"}, \"yref\": \"y1\", \"xref\": \"x1\", \"align\": \"left\", \"text\": \"( 75 / 8909 )\", \"y\": 14, \"x\": 1.55, \"xanchor\": \"left\", \"showarrow\": false}, {\"font\": {\"color\": \"#000000\"}, \"yref\": \"y1\", \"xref\": \"x1\", \"align\": \"left\", \"text\": \"0.84\", \"y\": 14, \"x\": 2.55, \"xanchor\": \"left\", \"showarrow\": false}, {\"font\": {\"color\": \"#000000\"}, \"yref\": \"y1\", \"xref\": \"x1\", \"align\": \"left\", \"text\": \"( 190 / 183219 )\", \"y\": 14, \"x\": 3.55, \"xanchor\": \"left\", \"showarrow\": false}, {\"font\": {\"color\": \"#000000\"}, \"yref\": \"y1\", \"xref\": \"x1\", \"align\": \"left\", \"text\": \"0.1\", \"y\": 14, \"x\": 4.55, \"xanchor\": \"left\", \"showarrow\": false}, {\"font\": {\"color\": \"#000000\"}, \"yref\": \"y1\", \"xref\": \"x1\", \"align\": \"left\", \"text\": \"github_issues\", \"y\": 15, \"x\": -0.45, \"xanchor\": \"left\", \"showarrow\": false}, {\"font\": {\"color\": \"#000000\"}, \"yref\": \"y1\", \"xref\": \"x1\", \"align\": \"left\", \"text\": \"Gecko\", \"y\": 15, \"x\": 0.55, \"xanchor\": \"left\", \"showarrow\": false}, {\"font\": {\"color\": \"#000000\"}, \"yref\": \"y1\", \"xref\": \"x1\", \"align\": \"left\", \"text\": \"( 0 / 373 )\", \"y\": 15, \"x\": 1.55, \"xanchor\": \"left\", \"showarrow\": false}, {\"font\": {\"color\": \"#000000\"}, \"yref\": \"y1\", \"xref\": \"x1\", \"align\": \"left\", \"text\": \"0.0\", \"y\": 15, \"x\": 2.55, \"xanchor\": \"left\", \"showarrow\": false}, {\"font\": {\"color\": \"#000000\"}, \"yref\": \"y1\", \"xref\": \"x1\", \"align\": \"left\", \"text\": \"( 0 / 409 )\", \"y\": 15, \"x\": 3.55, \"xanchor\": \"left\", \"showarrow\": false}, {\"font\": {\"color\": \"#000000\"}, \"yref\": \"y1\", \"xref\": \"x1\", \"align\": \"left\", \"text\": \"0.0\", \"y\": 15, \"x\": 4.55, \"xanchor\": \"left\", \"showarrow\": false}, {\"font\": {\"color\": \"#000000\"}, \"yref\": \"y1\", \"xref\": \"x1\", \"align\": \"left\", \"text\": \"github_issues\", \"y\": 16, \"x\": -0.45, \"xanchor\": \"left\", \"showarrow\": false}, {\"font\": {\"color\": \"#000000\"}, \"yref\": \"y1\", \"xref\": \"x1\", \"align\": \"left\", \"text\": \"Rust\", \"y\": 16, \"x\": 0.55, \"xanchor\": \"left\", \"showarrow\": false}, {\"font\": {\"color\": \"#000000\"}, \"yref\": \"y1\", \"xref\": \"x1\", \"align\": \"left\", \"text\": \"( 23 / 2077 )\", \"y\": 16, \"x\": 1.55, \"xanchor\": \"left\", \"showarrow\": false}, {\"font\": {\"color\": \"#000000\"}, \"yref\": \"y1\", \"xref\": \"x1\", \"align\": \"left\", \"text\": \"1.11\", \"y\": 16, \"x\": 2.55, \"xanchor\": \"left\", \"showarrow\": false}, {\"font\": {\"color\": \"#000000\"}, \"yref\": \"y1\", \"xref\": \"x1\", \"align\": \"left\", \"text\": \"( 28 / 5235 )\", \"y\": 16, \"x\": 3.55, \"xanchor\": \"left\", \"showarrow\": false}, {\"font\": {\"color\": \"#000000\"}, \"yref\": \"y1\", \"xref\": \"x1\", \"align\": \"left\", \"text\": \"0.53\", \"y\": 16, \"x\": 4.55, \"xanchor\": \"left\", \"showarrow\": false}, {\"font\": {\"color\": \"#000000\"}, \"yref\": \"y1\", \"xref\": \"x1\", \"align\": \"left\", \"text\": \"github_issues\", \"y\": 17, \"x\": -0.45, \"xanchor\": \"left\", \"showarrow\": false}, {\"font\": {\"color\": \"#000000\"}, \"yref\": \"y1\", \"xref\": \"x1\", \"align\": \"left\", \"text\": \"Servo\", \"y\": 17, \"x\": 0.55, \"xanchor\": \"left\", \"showarrow\": false}, {\"font\": {\"color\": \"#000000\"}, \"yref\": \"y1\", \"xref\": \"x1\", \"align\": \"left\", \"text\": \"( 23 / 845 )\", \"y\": 17, \"x\": 1.55, \"xanchor\": \"left\", \"showarrow\": false}, {\"font\": {\"color\": \"#000000\"}, \"yref\": \"y1\", \"xref\": \"x1\", \"align\": \"left\", \"text\": \"2.72\", \"y\": 17, \"x\": 2.55, \"xanchor\": \"left\", \"showarrow\": false}, {\"font\": {\"color\": \"#000000\"}, \"yref\": \"y1\", \"xref\": \"x1\", \"align\": \"left\", \"text\": \"( 29 / 1619 )\", \"y\": 17, \"x\": 3.55, \"xanchor\": \"left\", \"showarrow\": false}, {\"font\": {\"color\": \"#000000\"}, \"yref\": \"y1\", \"xref\": \"x1\", \"align\": \"left\", \"text\": \"1.79\", \"y\": 17, \"x\": 4.55, \"xanchor\": \"left\", \"showarrow\": false}, {\"font\": {\"color\": \"#000000\"}, \"yref\": \"y1\", \"xref\": \"x1\", \"align\": \"left\", \"text\": \"github_issues\", \"y\": 18, \"x\": -0.45, \"xanchor\": \"left\", \"showarrow\": false}, {\"font\": {\"color\": \"#000000\"}, \"yref\": \"y1\", \"xref\": \"x1\", \"align\": \"left\", \"text\": \"Firefox\", \"y\": 18, \"x\": 0.55, \"xanchor\": \"left\", \"showarrow\": false}, {\"font\": {\"color\": \"#000000\"}, \"yref\": \"y1\", \"xref\": \"x1\", \"align\": \"left\", \"text\": \"( 1 / 53 )\", \"y\": 18, \"x\": 1.55, \"xanchor\": \"left\", \"showarrow\": false}, {\"font\": {\"color\": \"#000000\"}, \"yref\": \"y1\", \"xref\": \"x1\", \"align\": \"left\", \"text\": \"1.89\", \"y\": 18, \"x\": 2.55, \"xanchor\": \"left\", \"showarrow\": false}, {\"font\": {\"color\": \"#000000\"}, \"yref\": \"y1\", \"xref\": \"x1\", \"align\": \"left\", \"text\": \"( 2 / 69 )\", \"y\": 18, \"x\": 3.55, \"xanchor\": \"left\", \"showarrow\": false}, {\"font\": {\"color\": \"#000000\"}, \"yref\": \"y1\", \"xref\": \"x1\", \"align\": \"left\", \"text\": \"2.9\", \"y\": 18, \"x\": 4.55, \"xanchor\": \"left\", \"showarrow\": false}, {\"font\": {\"color\": \"#000000\"}, \"yref\": \"y1\", \"xref\": \"x1\", \"align\": \"left\", \"text\": \"github_issues\", \"y\": 19, \"x\": -0.45, \"xanchor\": \"left\", \"showarrow\": false}, {\"font\": {\"color\": \"#000000\"}, \"yref\": \"y1\", \"xref\": \"x1\", \"align\": \"left\", \"text\": \"WebVR\", \"y\": 19, \"x\": 0.55, \"xanchor\": \"left\", \"showarrow\": false}, {\"font\": {\"color\": \"#000000\"}, \"yref\": \"y1\", \"xref\": \"x1\", \"align\": \"left\", \"text\": \"( 8 / 374 )\", \"y\": 19, \"x\": 1.55, \"xanchor\": \"left\", \"showarrow\": false}, {\"font\": {\"color\": \"#000000\"}, \"yref\": \"y1\", \"xref\": \"x1\", \"align\": \"left\", \"text\": \"2.14\", \"y\": 19, \"x\": 2.55, \"xanchor\": \"left\", \"showarrow\": false}, {\"font\": {\"color\": \"#000000\"}, \"yref\": \"y1\", \"xref\": \"x1\", \"align\": \"left\", \"text\": \"( 8 / 530 )\", \"y\": 19, \"x\": 3.55, \"xanchor\": \"left\", \"showarrow\": false}, {\"font\": {\"color\": \"#000000\"}, \"yref\": \"y1\", \"xref\": \"x1\", \"align\": \"left\", \"text\": \"1.51\", \"y\": 19, \"x\": 4.55, \"xanchor\": \"left\", \"showarrow\": false}, {\"font\": {\"color\": \"#000000\"}, \"yref\": \"y1\", \"xref\": \"x1\", \"align\": \"left\", \"text\": \"github_issues\", \"y\": 20, \"x\": -0.45, \"xanchor\": \"left\", \"showarrow\": false}, {\"font\": {\"color\": \"#000000\"}, \"yref\": \"y1\", \"xref\": \"x1\", \"align\": \"left\", \"text\": \"Firefox OS (FxOS / B2G)\", \"y\": 20, \"x\": 0.55, \"xanchor\": \"left\", \"showarrow\": false}, {\"font\": {\"color\": \"#000000\"}, \"yref\": \"y1\", \"xref\": \"x1\", \"align\": \"left\", \"text\": \"( 0 / 3 )\", \"y\": 20, \"x\": 1.55, \"xanchor\": \"left\", \"showarrow\": false}, {\"font\": {\"color\": \"#000000\"}, \"yref\": \"y1\", \"xref\": \"x1\", \"align\": \"left\", \"text\": \"0.0\", \"y\": 20, \"x\": 2.55, \"xanchor\": \"left\", \"showarrow\": false}, {\"font\": {\"color\": \"#000000\"}, \"yref\": \"y1\", \"xref\": \"x1\", \"align\": \"left\", \"text\": \"( 6 / 69 )\", \"y\": 20, \"x\": 3.55, \"xanchor\": \"left\", \"showarrow\": false}, {\"font\": {\"color\": \"#000000\"}, \"yref\": \"y1\", \"xref\": \"x1\", \"align\": \"left\", \"text\": \"8.7\", \"y\": 20, \"x\": 4.55, \"xanchor\": \"left\", \"showarrow\": false}, {\"font\": {\"color\": \"#000000\"}, \"yref\": \"y1\", \"xref\": \"x1\", \"align\": \"left\", \"text\": \"github_issues\", \"y\": 21, \"x\": -0.45, \"xanchor\": \"left\", \"showarrow\": false}, {\"font\": {\"color\": \"#000000\"}, \"yref\": \"y1\", \"xref\": \"x1\", \"align\": \"left\", \"text\": \"All\", \"y\": 21, \"x\": 0.55, \"xanchor\": \"left\", \"showarrow\": false}, {\"font\": {\"color\": \"#000000\"}, \"yref\": \"y1\", \"xref\": \"x1\", \"align\": \"left\", \"text\": \"( 101 / 6677 )\", \"y\": 21, \"x\": 1.55, \"xanchor\": \"left\", \"showarrow\": false}, {\"font\": {\"color\": \"#000000\"}, \"yref\": \"y1\", \"xref\": \"x1\", \"align\": \"left\", \"text\": \"1.51\", \"y\": 21, \"x\": 2.55, \"xanchor\": \"left\", \"showarrow\": false}, {\"font\": {\"color\": \"#000000\"}, \"yref\": \"y1\", \"xref\": \"x1\", \"align\": \"left\", \"text\": \"( 165 / 17657 )\", \"y\": 21, \"x\": 3.55, \"xanchor\": \"left\", \"showarrow\": false}, {\"font\": {\"color\": \"#000000\"}, \"yref\": \"y1\", \"xref\": \"x1\", \"align\": \"left\", \"text\": \"0.93\", \"y\": 21, \"x\": 4.55, \"xanchor\": \"left\", \"showarrow\": false}, {\"font\": {\"color\": \"#000000\"}, \"yref\": \"y1\", \"xref\": \"x1\", \"align\": \"left\", \"text\": \"discourse\", \"y\": 22, \"x\": -0.45, \"xanchor\": \"left\", \"showarrow\": false}, {\"font\": {\"color\": \"#000000\"}, \"yref\": \"y1\", \"xref\": \"x1\", \"align\": \"left\", \"text\": \"Gecko\", \"y\": 22, \"x\": 0.55, \"xanchor\": \"left\", \"showarrow\": false}, {\"font\": {\"color\": \"#000000\"}, \"yref\": \"y1\", \"xref\": \"x1\", \"align\": \"left\", \"text\": \"( 0 / 0 )\", \"y\": 22, \"x\": 1.55, \"xanchor\": \"left\", \"showarrow\": false}, {\"font\": {\"color\": \"#000000\"}, \"yref\": \"y1\", \"xref\": \"x1\", \"align\": \"left\", \"text\": \"0.0\", \"y\": 22, \"x\": 2.55, \"xanchor\": \"left\", \"showarrow\": false}, {\"font\": {\"color\": \"#000000\"}, \"yref\": \"y1\", \"xref\": \"x1\", \"align\": \"left\", \"text\": \"( 0 / 0 )\", \"y\": 22, \"x\": 3.55, \"xanchor\": \"left\", \"showarrow\": false}, {\"font\": {\"color\": \"#000000\"}, \"yref\": \"y1\", \"xref\": \"x1\", \"align\": \"left\", \"text\": \"0.0\", \"y\": 22, \"x\": 4.55, \"xanchor\": \"left\", \"showarrow\": false}, {\"font\": {\"color\": \"#000000\"}, \"yref\": \"y1\", \"xref\": \"x1\", \"align\": \"left\", \"text\": \"discourse\", \"y\": 23, \"x\": -0.45, \"xanchor\": \"left\", \"showarrow\": false}, {\"font\": {\"color\": \"#000000\"}, \"yref\": \"y1\", \"xref\": \"x1\", \"align\": \"left\", \"text\": \"Rust\", \"y\": 23, \"x\": 0.55, \"xanchor\": \"left\", \"showarrow\": false}, {\"font\": {\"color\": \"#000000\"}, \"yref\": \"y1\", \"xref\": \"x1\", \"align\": \"left\", \"text\": \"( 0 / 0 )\", \"y\": 23, \"x\": 1.55, \"xanchor\": \"left\", \"showarrow\": false}, {\"font\": {\"color\": \"#000000\"}, \"yref\": \"y1\", \"xref\": \"x1\", \"align\": \"left\", \"text\": \"0.0\", \"y\": 23, \"x\": 2.55, \"xanchor\": \"left\", \"showarrow\": false}, {\"font\": {\"color\": \"#000000\"}, \"yref\": \"y1\", \"xref\": \"x1\", \"align\": \"left\", \"text\": \"( 0 / 0 )\", \"y\": 23, \"x\": 3.55, \"xanchor\": \"left\", \"showarrow\": false}, {\"font\": {\"color\": \"#000000\"}, \"yref\": \"y1\", \"xref\": \"x1\", \"align\": \"left\", \"text\": \"0.0\", \"y\": 23, \"x\": 4.55, \"xanchor\": \"left\", \"showarrow\": false}, {\"font\": {\"color\": \"#000000\"}, \"yref\": \"y1\", \"xref\": \"x1\", \"align\": \"left\", \"text\": \"discourse\", \"y\": 24, \"x\": -0.45, \"xanchor\": \"left\", \"showarrow\": false}, {\"font\": {\"color\": \"#000000\"}, \"yref\": \"y1\", \"xref\": \"x1\", \"align\": \"left\", \"text\": \"Servo\", \"y\": 24, \"x\": 0.55, \"xanchor\": \"left\", \"showarrow\": false}, {\"font\": {\"color\": \"#000000\"}, \"yref\": \"y1\", \"xref\": \"x1\", \"align\": \"left\", \"text\": \"( 0 / 0 )\", \"y\": 24, \"x\": 1.55, \"xanchor\": \"left\", \"showarrow\": false}, {\"font\": {\"color\": \"#000000\"}, \"yref\": \"y1\", \"xref\": \"x1\", \"align\": \"left\", \"text\": \"0.0\", \"y\": 24, \"x\": 2.55, \"xanchor\": \"left\", \"showarrow\": false}, {\"font\": {\"color\": \"#000000\"}, \"yref\": \"y1\", \"xref\": \"x1\", \"align\": \"left\", \"text\": \"( 0 / 0 )\", \"y\": 24, \"x\": 3.55, \"xanchor\": \"left\", \"showarrow\": false}, {\"font\": {\"color\": \"#000000\"}, \"yref\": \"y1\", \"xref\": \"x1\", \"align\": \"left\", \"text\": \"0.0\", \"y\": 24, \"x\": 4.55, \"xanchor\": \"left\", \"showarrow\": false}, {\"font\": {\"color\": \"#000000\"}, \"yref\": \"y1\", \"xref\": \"x1\", \"align\": \"left\", \"text\": \"discourse\", \"y\": 25, \"x\": -0.45, \"xanchor\": \"left\", \"showarrow\": false}, {\"font\": {\"color\": \"#000000\"}, \"yref\": \"y1\", \"xref\": \"x1\", \"align\": \"left\", \"text\": \"Firefox\", \"y\": 25, \"x\": 0.55, \"xanchor\": \"left\", \"showarrow\": false}, {\"font\": {\"color\": \"#000000\"}, \"yref\": \"y1\", \"xref\": \"x1\", \"align\": \"left\", \"text\": \"( 0 / 0 )\", \"y\": 25, \"x\": 1.55, \"xanchor\": \"left\", \"showarrow\": false}, {\"font\": {\"color\": \"#000000\"}, \"yref\": \"y1\", \"xref\": \"x1\", \"align\": \"left\", \"text\": \"0.0\", \"y\": 25, \"x\": 2.55, \"xanchor\": \"left\", \"showarrow\": false}, {\"font\": {\"color\": \"#000000\"}, \"yref\": \"y1\", \"xref\": \"x1\", \"align\": \"left\", \"text\": \"( 0 / 0 )\", \"y\": 25, \"x\": 3.55, \"xanchor\": \"left\", \"showarrow\": false}, {\"font\": {\"color\": \"#000000\"}, \"yref\": \"y1\", \"xref\": \"x1\", \"align\": \"left\", \"text\": \"0.0\", \"y\": 25, \"x\": 4.55, \"xanchor\": \"left\", \"showarrow\": false}, {\"font\": {\"color\": \"#000000\"}, \"yref\": \"y1\", \"xref\": \"x1\", \"align\": \"left\", \"text\": \"discourse\", \"y\": 26, \"x\": -0.45, \"xanchor\": \"left\", \"showarrow\": false}, {\"font\": {\"color\": \"#000000\"}, \"yref\": \"y1\", \"xref\": \"x1\", \"align\": \"left\", \"text\": \"WebVR\", \"y\": 26, \"x\": 0.55, \"xanchor\": \"left\", \"showarrow\": false}, {\"font\": {\"color\": \"#000000\"}, \"yref\": \"y1\", \"xref\": \"x1\", \"align\": \"left\", \"text\": \"( 1 / 37 )\", \"y\": 26, \"x\": 1.55, \"xanchor\": \"left\", \"showarrow\": false}, {\"font\": {\"color\": \"#000000\"}, \"yref\": \"y1\", \"xref\": \"x1\", \"align\": \"left\", \"text\": \"2.7\", \"y\": 26, \"x\": 2.55, \"xanchor\": \"left\", \"showarrow\": false}, {\"font\": {\"color\": \"#000000\"}, \"yref\": \"y1\", \"xref\": \"x1\", \"align\": \"left\", \"text\": \"( 1 / 37 )\", \"y\": 26, \"x\": 3.55, \"xanchor\": \"left\", \"showarrow\": false}, {\"font\": {\"color\": \"#000000\"}, \"yref\": \"y1\", \"xref\": \"x1\", \"align\": \"left\", \"text\": \"2.7\", \"y\": 26, \"x\": 4.55, \"xanchor\": \"left\", \"showarrow\": false}, {\"font\": {\"color\": \"#000000\"}, \"yref\": \"y1\", \"xref\": \"x1\", \"align\": \"left\", \"text\": \"discourse\", \"y\": 27, \"x\": -0.45, \"xanchor\": \"left\", \"showarrow\": false}, {\"font\": {\"color\": \"#000000\"}, \"yref\": \"y1\", \"xref\": \"x1\", \"align\": \"left\", \"text\": \"Firefox OS (FxOS / B2G)\", \"y\": 27, \"x\": 0.55, \"xanchor\": \"left\", \"showarrow\": false}, {\"font\": {\"color\": \"#000000\"}, \"yref\": \"y1\", \"xref\": \"x1\", \"align\": \"left\", \"text\": \"( 7 / 106 )\", \"y\": 27, \"x\": 1.55, \"xanchor\": \"left\", \"showarrow\": false}, {\"font\": {\"color\": \"#000000\"}, \"yref\": \"y1\", \"xref\": \"x1\", \"align\": \"left\", \"text\": \"6.6\", \"y\": 27, \"x\": 2.55, \"xanchor\": \"left\", \"showarrow\": false}, {\"font\": {\"color\": \"#000000\"}, \"yref\": \"y1\", \"xref\": \"x1\", \"align\": \"left\", \"text\": \"( 24 / 335 )\", \"y\": 27, \"x\": 3.55, \"xanchor\": \"left\", \"showarrow\": false}, {\"font\": {\"color\": \"#000000\"}, \"yref\": \"y1\", \"xref\": \"x1\", \"align\": \"left\", \"text\": \"7.16\", \"y\": 27, \"x\": 4.55, \"xanchor\": \"left\", \"showarrow\": false}, {\"font\": {\"color\": \"#000000\"}, \"yref\": \"y1\", \"xref\": \"x1\", \"align\": \"left\", \"text\": \"discourse\", \"y\": 28, \"x\": -0.45, \"xanchor\": \"left\", \"showarrow\": false}, {\"font\": {\"color\": \"#000000\"}, \"yref\": \"y1\", \"xref\": \"x1\", \"align\": \"left\", \"text\": \"All\", \"y\": 28, \"x\": 0.55, \"xanchor\": \"left\", \"showarrow\": false}, {\"font\": {\"color\": \"#000000\"}, \"yref\": \"y1\", \"xref\": \"x1\", \"align\": \"left\", \"text\": \"( 66 / 1649 )\", \"y\": 28, \"x\": 1.55, \"xanchor\": \"left\", \"showarrow\": false}, {\"font\": {\"color\": \"#000000\"}, \"yref\": \"y1\", \"xref\": \"x1\", \"align\": \"left\", \"text\": \"4.0\", \"y\": 28, \"x\": 2.55, \"xanchor\": \"left\", \"showarrow\": false}, {\"font\": {\"color\": \"#000000\"}, \"yref\": \"y1\", \"xref\": \"x1\", \"align\": \"left\", \"text\": \"( 85 / 3100 )\", \"y\": 28, \"x\": 3.55, \"xanchor\": \"left\", \"showarrow\": false}, {\"font\": {\"color\": \"#000000\"}, \"yref\": \"y1\", \"xref\": \"x1\", \"align\": \"left\", \"text\": \"2.74\", \"y\": 28, \"x\": 4.55, \"xanchor\": \"left\", \"showarrow\": false}, {\"font\": {\"color\": \"#000000\"}, \"yref\": \"y1\", \"xref\": \"x1\", \"align\": \"left\", \"text\": \"mbox\", \"y\": 29, \"x\": -0.45, \"xanchor\": \"left\", \"showarrow\": false}, {\"font\": {\"color\": \"#000000\"}, \"yref\": \"y1\", \"xref\": \"x1\", \"align\": \"left\", \"text\": \"Gecko\", \"y\": 29, \"x\": 0.55, \"xanchor\": \"left\", \"showarrow\": false}, {\"font\": {\"color\": \"#000000\"}, \"yref\": \"y1\", \"xref\": \"x1\", \"align\": \"left\", \"text\": \"( 0 / 0 )\", \"y\": 29, \"x\": 1.55, \"xanchor\": \"left\", \"showarrow\": false}, {\"font\": {\"color\": \"#000000\"}, \"yref\": \"y1\", \"xref\": \"x1\", \"align\": \"left\", \"text\": \"0.0\", \"y\": 29, \"x\": 2.55, \"xanchor\": \"left\", \"showarrow\": false}, {\"font\": {\"color\": \"#000000\"}, \"yref\": \"y1\", \"xref\": \"x1\", \"align\": \"left\", \"text\": \"( 0 / 0 )\", \"y\": 29, \"x\": 3.55, \"xanchor\": \"left\", \"showarrow\": false}, {\"font\": {\"color\": \"#000000\"}, \"yref\": \"y1\", \"xref\": \"x1\", \"align\": \"left\", \"text\": \"0.0\", \"y\": 29, \"x\": 4.55, \"xanchor\": \"left\", \"showarrow\": false}, {\"font\": {\"color\": \"#000000\"}, \"yref\": \"y1\", \"xref\": \"x1\", \"align\": \"left\", \"text\": \"mbox\", \"y\": 30, \"x\": -0.45, \"xanchor\": \"left\", \"showarrow\": false}, {\"font\": {\"color\": \"#000000\"}, \"yref\": \"y1\", \"xref\": \"x1\", \"align\": \"left\", \"text\": \"Rust\", \"y\": 30, \"x\": 0.55, \"xanchor\": \"left\", \"showarrow\": false}, {\"font\": {\"color\": \"#000000\"}, \"yref\": \"y1\", \"xref\": \"x1\", \"align\": \"left\", \"text\": \"( 0 / 0 )\", \"y\": 30, \"x\": 1.55, \"xanchor\": \"left\", \"showarrow\": false}, {\"font\": {\"color\": \"#000000\"}, \"yref\": \"y1\", \"xref\": \"x1\", \"align\": \"left\", \"text\": \"0.0\", \"y\": 30, \"x\": 2.55, \"xanchor\": \"left\", \"showarrow\": false}, {\"font\": {\"color\": \"#000000\"}, \"yref\": \"y1\", \"xref\": \"x1\", \"align\": \"left\", \"text\": \"( 0 / 0 )\", \"y\": 30, \"x\": 3.55, \"xanchor\": \"left\", \"showarrow\": false}, {\"font\": {\"color\": \"#000000\"}, \"yref\": \"y1\", \"xref\": \"x1\", \"align\": \"left\", \"text\": \"0.0\", \"y\": 30, \"x\": 4.55, \"xanchor\": \"left\", \"showarrow\": false}, {\"font\": {\"color\": \"#000000\"}, \"yref\": \"y1\", \"xref\": \"x1\", \"align\": \"left\", \"text\": \"mbox\", \"y\": 31, \"x\": -0.45, \"xanchor\": \"left\", \"showarrow\": false}, {\"font\": {\"color\": \"#000000\"}, \"yref\": \"y1\", \"xref\": \"x1\", \"align\": \"left\", \"text\": \"Servo\", \"y\": 31, \"x\": 0.55, \"xanchor\": \"left\", \"showarrow\": false}, {\"font\": {\"color\": \"#000000\"}, \"yref\": \"y1\", \"xref\": \"x1\", \"align\": \"left\", \"text\": \"( 1 / 44 )\", \"y\": 31, \"x\": 1.55, \"xanchor\": \"left\", \"showarrow\": false}, {\"font\": {\"color\": \"#000000\"}, \"yref\": \"y1\", \"xref\": \"x1\", \"align\": \"left\", \"text\": \"2.27\", \"y\": 31, \"x\": 2.55, \"xanchor\": \"left\", \"showarrow\": false}, {\"font\": {\"color\": \"#000000\"}, \"yref\": \"y1\", \"xref\": \"x1\", \"align\": \"left\", \"text\": \"( 1 / 121 )\", \"y\": 31, \"x\": 3.55, \"xanchor\": \"left\", \"showarrow\": false}, {\"font\": {\"color\": \"#000000\"}, \"yref\": \"y1\", \"xref\": \"x1\", \"align\": \"left\", \"text\": \"0.83\", \"y\": 31, \"x\": 4.55, \"xanchor\": \"left\", \"showarrow\": false}, {\"font\": {\"color\": \"#000000\"}, \"yref\": \"y1\", \"xref\": \"x1\", \"align\": \"left\", \"text\": \"mbox\", \"y\": 32, \"x\": -0.45, \"xanchor\": \"left\", \"showarrow\": false}, {\"font\": {\"color\": \"#000000\"}, \"yref\": \"y1\", \"xref\": \"x1\", \"align\": \"left\", \"text\": \"Firefox\", \"y\": 32, \"x\": 0.55, \"xanchor\": \"left\", \"showarrow\": false}, {\"font\": {\"color\": \"#000000\"}, \"yref\": \"y1\", \"xref\": \"x1\", \"align\": \"left\", \"text\": \"( 0 / 0 )\", \"y\": 32, \"x\": 1.55, \"xanchor\": \"left\", \"showarrow\": false}, {\"font\": {\"color\": \"#000000\"}, \"yref\": \"y1\", \"xref\": \"x1\", \"align\": \"left\", \"text\": \"0.0\", \"y\": 32, \"x\": 2.55, \"xanchor\": \"left\", \"showarrow\": false}, {\"font\": {\"color\": \"#000000\"}, \"yref\": \"y1\", \"xref\": \"x1\", \"align\": \"left\", \"text\": \"( 0 / 0 )\", \"y\": 32, \"x\": 3.55, \"xanchor\": \"left\", \"showarrow\": false}, {\"font\": {\"color\": \"#000000\"}, \"yref\": \"y1\", \"xref\": \"x1\", \"align\": \"left\", \"text\": \"0.0\", \"y\": 32, \"x\": 4.55, \"xanchor\": \"left\", \"showarrow\": false}, {\"font\": {\"color\": \"#000000\"}, \"yref\": \"y1\", \"xref\": \"x1\", \"align\": \"left\", \"text\": \"mbox\", \"y\": 33, \"x\": -0.45, \"xanchor\": \"left\", \"showarrow\": false}, {\"font\": {\"color\": \"#000000\"}, \"yref\": \"y1\", \"xref\": \"x1\", \"align\": \"left\", \"text\": \"WebVR\", \"y\": 33, \"x\": 0.55, \"xanchor\": \"left\", \"showarrow\": false}, {\"font\": {\"color\": \"#000000\"}, \"yref\": \"y1\", \"xref\": \"x1\", \"align\": \"left\", \"text\": \"( 0 / 0 )\", \"y\": 33, \"x\": 1.55, \"xanchor\": \"left\", \"showarrow\": false}, {\"font\": {\"color\": \"#000000\"}, \"yref\": \"y1\", \"xref\": \"x1\", \"align\": \"left\", \"text\": \"0.0\", \"y\": 33, \"x\": 2.55, \"xanchor\": \"left\", \"showarrow\": false}, {\"font\": {\"color\": \"#000000\"}, \"yref\": \"y1\", \"xref\": \"x1\", \"align\": \"left\", \"text\": \"( 0 / 0 )\", \"y\": 33, \"x\": 3.55, \"xanchor\": \"left\", \"showarrow\": false}, {\"font\": {\"color\": \"#000000\"}, \"yref\": \"y1\", \"xref\": \"x1\", \"align\": \"left\", \"text\": \"0.0\", \"y\": 33, \"x\": 4.55, \"xanchor\": \"left\", \"showarrow\": false}, {\"font\": {\"color\": \"#000000\"}, \"yref\": \"y1\", \"xref\": \"x1\", \"align\": \"left\", \"text\": \"mbox\", \"y\": 34, \"x\": -0.45, \"xanchor\": \"left\", \"showarrow\": false}, {\"font\": {\"color\": \"#000000\"}, \"yref\": \"y1\", \"xref\": \"x1\", \"align\": \"left\", \"text\": \"Firefox OS (FxOS / B2G)\", \"y\": 34, \"x\": 0.55, \"xanchor\": \"left\", \"showarrow\": false}, {\"font\": {\"color\": \"#000000\"}, \"yref\": \"y1\", \"xref\": \"x1\", \"align\": \"left\", \"text\": \"( 2 / 31 )\", \"y\": 34, \"x\": 1.55, \"xanchor\": \"left\", \"showarrow\": false}, {\"font\": {\"color\": \"#000000\"}, \"yref\": \"y1\", \"xref\": \"x1\", \"align\": \"left\", \"text\": \"6.45\", \"y\": 34, \"x\": 2.55, \"xanchor\": \"left\", \"showarrow\": false}, {\"font\": {\"color\": \"#000000\"}, \"yref\": \"y1\", \"xref\": \"x1\", \"align\": \"left\", \"text\": \"( 28 / 1485 )\", \"y\": 34, \"x\": 3.55, \"xanchor\": \"left\", \"showarrow\": false}, {\"font\": {\"color\": \"#000000\"}, \"yref\": \"y1\", \"xref\": \"x1\", \"align\": \"left\", \"text\": \"1.89\", \"y\": 34, \"x\": 4.55, \"xanchor\": \"left\", \"showarrow\": false}, {\"font\": {\"color\": \"#000000\"}, \"yref\": \"y1\", \"xref\": \"x1\", \"align\": \"left\", \"text\": \"mbox\", \"y\": 35, \"x\": -0.45, \"xanchor\": \"left\", \"showarrow\": false}, {\"font\": {\"color\": \"#000000\"}, \"yref\": \"y1\", \"xref\": \"x1\", \"align\": \"left\", \"text\": \"All\", \"y\": 35, \"x\": 0.55, \"xanchor\": \"left\", \"showarrow\": false}, {\"font\": {\"color\": \"#000000\"}, \"yref\": \"y1\", \"xref\": \"x1\", \"align\": \"left\", \"text\": \"( 49 / 1954 )\", \"y\": 35, \"x\": 1.55, \"xanchor\": \"left\", \"showarrow\": false}, {\"font\": {\"color\": \"#000000\"}, \"yref\": \"y1\", \"xref\": \"x1\", \"align\": \"left\", \"text\": \"2.51\", \"y\": 35, \"x\": 2.55, \"xanchor\": \"left\", \"showarrow\": false}, {\"font\": {\"color\": \"#000000\"}, \"yref\": \"y1\", \"xref\": \"x1\", \"align\": \"left\", \"text\": \"( 122 / 62092 )\", \"y\": 35, \"x\": 3.55, \"xanchor\": \"left\", \"showarrow\": false}, {\"font\": {\"color\": \"#000000\"}, \"yref\": \"y1\", \"xref\": \"x1\", \"align\": \"left\", \"text\": \"0.2\", \"y\": 35, \"x\": 4.55, \"xanchor\": \"left\", \"showarrow\": false}], \"yaxis\": {\"showticklabels\": false, \"autorange\": \"reversed\", \"ticks\": \"\", \"dtick\": 1, \"tick0\": 0.5, \"gridwidth\": 2, \"zeroline\": false}, \"margin\": {\"b\": 0, \"l\": 0, \"r\": 0, \"t\": 0}}, {\"showLink\": true, \"linkText\": \"Export to plot.ly\"})});</script>"
      ]
     },
     "metadata": {},
     "output_type": "display_data"
    }
   ],
   "source": [
    "# Read survey dataframe from survey and (response id, uuid) correspondence files\n",
    "\n",
    "############# MODIFY YOUR SURVEY CSV FILE HERE ######################################\n",
    "survey_df = ut.load_survey_df(survey_filepath='../data/survey-fake.csv',\n",
    "                              uuids_filepath='../data/uuids.csv')\n",
    "#####################################################################################\n",
    "\n",
    "print('Identities with UUID found in survey file: ', len(survey_df))\n",
    "print('Unique identities found: ', len(survey_df.uuid.unique()))\n",
    "print()\n",
    "\n",
    "def add_common_filters(source, s):\n",
    "    return ut.add_survey_filters(s, survey_df)\n",
    "\n",
    "def add_project_filter(s, project_name):\n",
    "    if project_name != 'All':\n",
    "        s = s.filter('term', project=project_name)\n",
    "    \n",
    "    return s\n",
    "\n",
    "def get_active_authors(source, project_name, date_field, date_filter=None):\n",
    "    # AUTHORS ACTIVE LAST YEAR\n",
    "    s = ut.create_search(es_conn, source)\n",
    "    s = add_project_filter(s, project_name)\n",
    "    ## Filter out EMPLOYEES\n",
    "    s = s.exclude('terms', author_org_name=['Mozilla Staff', 'Code Sheriff'])\n",
    "    if date_filter is not None:\n",
    "        s = s.filter('range', ** date_filter)\n",
    "    # Count authors by uuid\n",
    "    s.aggs.metric('uuid', 'cardinality', field='author_uuid', precision_threshold=1000000)\n",
    "    result = s.execute()\n",
    "    return result.to_dict()['aggregations']['uuid']['value']\n",
    "\n",
    "def get_active_survey(source, project_name, date_field, date_filter=None):\n",
    "    \n",
    "    # AUTHORS ACTIVE LAST YEAR AND IN SURVEY\n",
    "    s = ut.create_search(es_conn, source)\n",
    "    s = add_project_filter(s, project_name)\n",
    "    s = add_common_filters(source, s)\n",
    "    if date_filter is not None:\n",
    "        s = s.filter('range', ** date_filter)\n",
    "    # Count authors by uuid\n",
    "    s.aggs.metric('uuid', 'cardinality', field='author_uuid', precision_threshold=1000000)\n",
    "    result = s.execute()\n",
    "    return result.to_dict()['aggregations']['uuid']['value']\n",
    "\n",
    "sources = ['git', 'bugzilla', 'github_issues', 'discourse', 'mbox']\n",
    "projects = ['Gecko', 'Rust', 'Servo', 'Firefox', 'WebVR', 'Firefox OS (FxOS / B2G)', 'All']\n",
    "\n",
    "coverage_df = pandas.DataFrame(columns=['source', 'project', 'authors(last year)', 'coverage(last year)',\n",
    "                                        'authors', 'coverage'])\n",
    "\n",
    "for source in sources:\n",
    "    if source == 'bugzilla':\n",
    "        date_field = 'creation_ts'\n",
    "    else:\n",
    "        date_field = 'grimoire_creation_date'\n",
    "    date_filter = {date_field: {'gte': 'now-1y', 'lt': 'now'}}\n",
    "    \n",
    "    for project_name in projects:\n",
    "        \n",
    "        all_last_year = get_active_authors(source, project_name, date_field, date_filter)\n",
    "        survey_last_year = get_active_survey(source, project_name, date_field, date_filter)\n",
    "        \n",
    "        coverage_last_year = 0\n",
    "        if all_last_year > 0:\n",
    "            coverage_last_year = (survey_last_year/all_last_year)*100\n",
    "            print('[', source ,'] 1 YEAR', project_name, ': (', survey_last_year,'/', all_last_year,')',\n",
    "                  round(coverage_last_year, 2))\n",
    "        else:\n",
    "            print('[', source ,'] No authors found for', project_name)\n",
    "                           \n",
    "        #last_year_coverage_df.loc[len(last_year_coverage_df)] = [source, project_name, coverage_last_year]\n",
    "        \n",
    "        # Compute the same for the whole history\n",
    "        all_nonemp = get_active_authors(source, project_name, date_field)\n",
    "        survey = get_active_survey(source, project_name, date_field)\n",
    "\n",
    "        coverage_total = 0\n",
    "        if all_nonemp > 0:\n",
    "            coverage_total = (survey/all_nonemp)*100\n",
    "            print('[', source ,'] TOTAL ', project_name, ': (', survey,'/', all_nonemp,')',\n",
    "                  round(coverage_total, 2))\n",
    "        else:\n",
    "            print('[', source ,'] No authors found for', project_name)\n",
    "                           \n",
    "        coverage_df.loc[len(coverage_df)] = [source, project_name, \n",
    "                                             '( ' + str(survey_last_year) + ' / ' + str(all_last_year) + ' )',\n",
    "                                             round(coverage_last_year, 2), \n",
    "                                             '( ' + str(survey) + ' / ' + str(all_nonemp) + ' )',\n",
    "                                             round(coverage_total, 2)]\n",
    "    \n",
    "    print()\n",
    "\n",
    "ut.print_table(coverage_df)"
   ]
  }
 ],
 "metadata": {
  "kernelspec": {
   "display_name": "Python 3",
   "language": "python",
   "name": "python3"
  },
  "language_info": {
   "codemirror_mode": {
    "name": "ipython",
    "version": 3
   },
   "file_extension": ".py",
   "mimetype": "text/x-python",
   "name": "python",
   "nbconvert_exporter": "python",
   "pygments_lexer": "ipython3",
   "version": "3.5.2+"
  }
 },
 "nbformat": 4,
 "nbformat_minor": 2
}
