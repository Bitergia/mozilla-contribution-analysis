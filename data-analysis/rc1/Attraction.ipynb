{
 "cells": [
  {
   "cell_type": "raw",
   "metadata": {},
   "source": [
    "<script>\n",
    "  function code_toggle() {\n",
    "    if (code_shown){\n",
    "      $('div.input').hide('500');\n",
    "      $('div.output_text').hide('500')\n",
    "      $('#toggleButton').val('Show Code')\n",
    "    } else {\n",
    "      $('div.input').show('500');\n",
    "      $('div.output_text').show('500')\n",
    "      $('#toggleButton').val('Hide Code')\n",
    "    }\n",
    "    code_shown = !code_shown\n",
    "  }\n",
    "\n",
    "  $( document ).ready(function(){\n",
    "    code_shown=false;\n",
    "    $('div.input').hide()\n",
    "    $('div.output_text').hide()\n",
    "  });\n",
    "</script>\n",
    "<form action=\"javascript:code_toggle()\"><input type=\"submit\" id=\"toggleButton\" value=\"Show Code\"></form>"
   ]
  },
  {
   "cell_type": "code",
   "execution_count": 1,
   "metadata": {
    "collapsed": false
   },
   "outputs": [],
   "source": [
    "import pandas\n",
    "\n",
    "import os\n",
    "\n",
    "import plotly as plotly\n",
    "import plotly.figure_factory as ff\n",
    "import plotly.graph_objs as go\n",
    "\n",
    "import util as ut\n",
    "\n",
    "from util import ESConnection\n",
    "from elasticsearch_dsl import Search\n",
    "\n",
    "es_conn = ESConnection()\n",
    "\n",
    "project_name = os.environ.get('PROJECT', 'All')\n",
    "max_time = os.environ.get('MAX_TIME', '10')\n",
    "\n",
    "# Range of years from 2017 to the past to be used in all metrics\n",
    "# Use 0 as starting point together with lt in queries to exclude 2017\n",
    "analyzed_range = range(0,int(max_time))"
   ]
  },
  {
   "cell_type": "markdown",
   "metadata": {},
   "source": [
    "## First project\n",
    "Get the project in which auhtors made their first contribution to Mozilla. Show a ranking of top 5 projects in number of newcomers to Mozilla per year."
   ]
  },
  {
   "cell_type": "code",
   "execution_count": 2,
   "metadata": {
    "collapsed": false,
    "scrolled": false
   },
   "outputs": [
    {
     "data": {
      "text/html": [
       "<script>requirejs.config({paths: { 'plotly': ['https://cdn.plot.ly/plotly-latest.min']},});if(!window.Plotly) {{require(['plotly'],function(plotly) {window.Plotly=plotly;});}}</script>"
      ],
      "text/vnd.plotly.v1+html": [
       "<script>requirejs.config({paths: { 'plotly': ['https://cdn.plot.ly/plotly-latest.min']},});if(!window.Plotly) {{require(['plotly'],function(plotly) {window.Plotly=plotly;});}}</script>"
      ]
     },
     "metadata": {},
     "output_type": "display_data"
    },
    {
     "data": {
      "application/vnd.plotly.v1+json": {
       "data": [
        {
         "colorscale": [
          [
           0,
           "#00083e"
          ],
          [
           0.5,
           "#ededee"
          ],
          [
           1,
           "#ffffff"
          ]
         ],
         "hoverinfo": "none",
         "opacity": 0.75,
         "showscale": false,
         "type": "heatmap",
         "z": [
          [
           0,
           0,
           0
          ],
          [
           0.5,
           0.5,
           0.5
          ],
          [
           1,
           1,
           1
          ],
          [
           0.5,
           0.5,
           0.5
          ],
          [
           1,
           1,
           1
          ],
          [
           0.5,
           0.5,
           0.5
          ],
          [
           1,
           1,
           1
          ],
          [
           0.5,
           0.5,
           0.5
          ],
          [
           1,
           1,
           1
          ],
          [
           0.5,
           0.5,
           0.5
          ],
          [
           1,
           1,
           1
          ],
          [
           0.5,
           0.5,
           0.5
          ],
          [
           1,
           1,
           1
          ],
          [
           0.5,
           0.5,
           0.5
          ],
          [
           1,
           1,
           1
          ],
          [
           0.5,
           0.5,
           0.5
          ],
          [
           1,
           1,
           1
          ],
          [
           0.5,
           0.5,
           0.5
          ],
          [
           1,
           1,
           1
          ],
          [
           0.5,
           0.5,
           0.5
          ],
          [
           1,
           1,
           1
          ],
          [
           0.5,
           0.5,
           0.5
          ],
          [
           1,
           1,
           1
          ],
          [
           0.5,
           0.5,
           0.5
          ],
          [
           1,
           1,
           1
          ],
          [
           0.5,
           0.5,
           0.5
          ],
          [
           1,
           1,
           1
          ],
          [
           0.5,
           0.5,
           0.5
          ],
          [
           1,
           1,
           1
          ],
          [
           0.5,
           0.5,
           0.5
          ],
          [
           1,
           1,
           1
          ],
          [
           0.5,
           0.5,
           0.5
          ],
          [
           1,
           1,
           1
          ],
          [
           0.5,
           0.5,
           0.5
          ],
          [
           1,
           1,
           1
          ],
          [
           0.5,
           0.5,
           0.5
          ],
          [
           1,
           1,
           1
          ],
          [
           0.5,
           0.5,
           0.5
          ],
          [
           1,
           1,
           1
          ],
          [
           0.5,
           0.5,
           0.5
          ],
          [
           1,
           1,
           1
          ],
          [
           0.5,
           0.5,
           0.5
          ],
          [
           1,
           1,
           1
          ],
          [
           0.5,
           0.5,
           0.5
          ],
          [
           1,
           1,
           1
          ],
          [
           0.5,
           0.5,
           0.5
          ],
          [
           1,
           1,
           1
          ],
          [
           0.5,
           0.5,
           0.5
          ],
          [
           1,
           1,
           1
          ],
          [
           0.5,
           0.5,
           0.5
          ],
          [
           1,
           1,
           1
          ],
          [
           0.5,
           0.5,
           0.5
          ],
          [
           1,
           1,
           1
          ],
          [
           0.5,
           0.5,
           0.5
          ],
          [
           1,
           1,
           1
          ],
          [
           0.5,
           0.5,
           0.5
          ],
          [
           1,
           1,
           1
          ],
          [
           0.5,
           0.5,
           0.5
          ],
          [
           1,
           1,
           1
          ],
          [
           0.5,
           0.5,
           0.5
          ],
          [
           1,
           1,
           1
          ],
          [
           0.5,
           0.5,
           0.5
          ],
          [
           1,
           1,
           1
          ],
          [
           0.5,
           0.5,
           0.5
          ],
          [
           1,
           1,
           1
          ],
          [
           0.5,
           0.5,
           0.5
          ],
          [
           1,
           1,
           1
          ],
          [
           0.5,
           0.5,
           0.5
          ],
          [
           1,
           1,
           1
          ],
          [
           0.5,
           0.5,
           0.5
          ],
          [
           1,
           1,
           1
          ],
          [
           0.5,
           0.5,
           0.5
          ],
          [
           1,
           1,
           1
          ],
          [
           0.5,
           0.5,
           0.5
          ],
          [
           1,
           1,
           1
          ],
          [
           0.5,
           0.5,
           0.5
          ],
          [
           1,
           1,
           1
          ],
          [
           0.5,
           0.5,
           0.5
          ],
          [
           1,
           1,
           1
          ],
          [
           0.5,
           0.5,
           0.5
          ],
          [
           1,
           1,
           1
          ],
          [
           0.5,
           0.5,
           0.5
          ],
          [
           1,
           1,
           1
          ],
          [
           0.5,
           0.5,
           0.5
          ],
          [
           1,
           1,
           1
          ],
          [
           0.5,
           0.5,
           0.5
          ],
          [
           1,
           1,
           1
          ],
          [
           0.5,
           0.5,
           0.5
          ],
          [
           1,
           1,
           1
          ],
          [
           0.5,
           0.5,
           0.5
          ],
          [
           1,
           1,
           1
          ],
          [
           0.5,
           0.5,
           0.5
          ],
          [
           1,
           1,
           1
          ],
          [
           0.5,
           0.5,
           0.5
          ],
          [
           1,
           1,
           1
          ],
          [
           0.5,
           0.5,
           0.5
          ],
          [
           1,
           1,
           1
          ]
         ]
        }
       ],
       "layout": {
        "annotations": [
         {
          "align": "left",
          "font": {
           "color": "#ffffff"
          },
          "showarrow": false,
          "text": "<b>first_commit</b>",
          "x": -0.45,
          "xanchor": "left",
          "xref": "x1",
          "y": 0,
          "yref": "y1"
         },
         {
          "align": "left",
          "font": {
           "color": "#ffffff"
          },
          "showarrow": false,
          "text": "<b>project</b>",
          "x": 0.55,
          "xanchor": "left",
          "xref": "x1",
          "y": 0,
          "yref": "y1"
         },
         {
          "align": "left",
          "font": {
           "color": "#ffffff"
          },
          "showarrow": false,
          "text": "<b># authors</b>",
          "x": 1.55,
          "xanchor": "left",
          "xref": "x1",
          "y": 0,
          "yref": "y1"
         },
         {
          "align": "left",
          "font": {
           "color": "#000000"
          },
          "showarrow": false,
          "text": "2016",
          "x": -0.45,
          "xanchor": "left",
          "xref": "x1",
          "y": 1,
          "yref": "y1"
         },
         {
          "align": "left",
          "font": {
           "color": "#000000"
          },
          "showarrow": false,
          "text": "Unknown",
          "x": 0.55,
          "xanchor": "left",
          "xref": "x1",
          "y": 1,
          "yref": "y1"
         },
         {
          "align": "left",
          "font": {
           "color": "#000000"
          },
          "showarrow": false,
          "text": "896",
          "x": 1.55,
          "xanchor": "left",
          "xref": "x1",
          "y": 1,
          "yref": "y1"
         },
         {
          "align": "left",
          "font": {
           "color": "#000000"
          },
          "showarrow": false,
          "text": "2016",
          "x": -0.45,
          "xanchor": "left",
          "xref": "x1",
          "y": 2,
          "yref": "y1"
         },
         {
          "align": "left",
          "font": {
           "color": "#000000"
          },
          "showarrow": false,
          "text": "Rust",
          "x": 0.55,
          "xanchor": "left",
          "xref": "x1",
          "y": 2,
          "yref": "y1"
         },
         {
          "align": "left",
          "font": {
           "color": "#000000"
          },
          "showarrow": false,
          "text": "493",
          "x": 1.55,
          "xanchor": "left",
          "xref": "x1",
          "y": 2,
          "yref": "y1"
         },
         {
          "align": "left",
          "font": {
           "color": "#000000"
          },
          "showarrow": false,
          "text": "2016",
          "x": -0.45,
          "xanchor": "left",
          "xref": "x1",
          "y": 3,
          "yref": "y1"
         },
         {
          "align": "left",
          "font": {
           "color": "#000000"
          },
          "showarrow": false,
          "text": "Gecko",
          "x": 0.55,
          "xanchor": "left",
          "xref": "x1",
          "y": 3,
          "yref": "y1"
         },
         {
          "align": "left",
          "font": {
           "color": "#000000"
          },
          "showarrow": false,
          "text": "286",
          "x": 1.55,
          "xanchor": "left",
          "xref": "x1",
          "y": 3,
          "yref": "y1"
         },
         {
          "align": "left",
          "font": {
           "color": "#000000"
          },
          "showarrow": false,
          "text": "2016",
          "x": -0.45,
          "xanchor": "left",
          "xref": "x1",
          "y": 4,
          "yref": "y1"
         },
         {
          "align": "left",
          "font": {
           "color": "#000000"
          },
          "showarrow": false,
          "text": "Servo",
          "x": 0.55,
          "xanchor": "left",
          "xref": "x1",
          "y": 4,
          "yref": "y1"
         },
         {
          "align": "left",
          "font": {
           "color": "#000000"
          },
          "showarrow": false,
          "text": "194",
          "x": 1.55,
          "xanchor": "left",
          "xref": "x1",
          "y": 4,
          "yref": "y1"
         },
         {
          "align": "left",
          "font": {
           "color": "#000000"
          },
          "showarrow": false,
          "text": "2016",
          "x": -0.45,
          "xanchor": "left",
          "xref": "x1",
          "y": 5,
          "yref": "y1"
         },
         {
          "align": "left",
          "font": {
           "color": "#000000"
          },
          "showarrow": false,
          "text": "Web Properties",
          "x": 0.55,
          "xanchor": "left",
          "xref": "x1",
          "y": 5,
          "yref": "y1"
         },
         {
          "align": "left",
          "font": {
           "color": "#000000"
          },
          "showarrow": false,
          "text": "132",
          "x": 1.55,
          "xanchor": "left",
          "xref": "x1",
          "y": 5,
          "yref": "y1"
         },
         {
          "align": "left",
          "font": {
           "color": "#000000"
          },
          "showarrow": false,
          "text": "2016",
          "x": -0.45,
          "xanchor": "left",
          "xref": "x1",
          "y": 6,
          "yref": "y1"
         },
         {
          "align": "left",
          "font": {
           "color": "#000000"
          },
          "showarrow": false,
          "text": "WebVR",
          "x": 0.55,
          "xanchor": "left",
          "xref": "x1",
          "y": 6,
          "yref": "y1"
         },
         {
          "align": "left",
          "font": {
           "color": "#000000"
          },
          "showarrow": false,
          "text": "113",
          "x": 1.55,
          "xanchor": "left",
          "xref": "x1",
          "y": 6,
          "yref": "y1"
         },
         {
          "align": "left",
          "font": {
           "color": "#000000"
          },
          "showarrow": false,
          "text": "2016",
          "x": -0.45,
          "xanchor": "left",
          "xref": "x1",
          "y": 7,
          "yref": "y1"
         },
         {
          "align": "left",
          "font": {
           "color": "#000000"
          },
          "showarrow": false,
          "text": "IT/Ops",
          "x": 0.55,
          "xanchor": "left",
          "xref": "x1",
          "y": 7,
          "yref": "y1"
         },
         {
          "align": "left",
          "font": {
           "color": "#000000"
          },
          "showarrow": false,
          "text": "100",
          "x": 1.55,
          "xanchor": "left",
          "xref": "x1",
          "y": 7,
          "yref": "y1"
         },
         {
          "align": "left",
          "font": {
           "color": "#000000"
          },
          "showarrow": false,
          "text": "2016",
          "x": -0.45,
          "xanchor": "left",
          "xref": "x1",
          "y": 8,
          "yref": "y1"
         },
         {
          "align": "left",
          "font": {
           "color": "#000000"
          },
          "showarrow": false,
          "text": "Mozilla Local/Regional communities",
          "x": 0.55,
          "xanchor": "left",
          "xref": "x1",
          "y": 8,
          "yref": "y1"
         },
         {
          "align": "left",
          "font": {
           "color": "#000000"
          },
          "showarrow": false,
          "text": "57",
          "x": 1.55,
          "xanchor": "left",
          "xref": "x1",
          "y": 8,
          "yref": "y1"
         },
         {
          "align": "left",
          "font": {
           "color": "#000000"
          },
          "showarrow": false,
          "text": "2016",
          "x": -0.45,
          "xanchor": "left",
          "xref": "x1",
          "y": 9,
          "yref": "y1"
         },
         {
          "align": "left",
          "font": {
           "color": "#000000"
          },
          "showarrow": false,
          "text": "Addons/Web Extensions",
          "x": 0.55,
          "xanchor": "left",
          "xref": "x1",
          "y": 9,
          "yref": "y1"
         },
         {
          "align": "left",
          "font": {
           "color": "#000000"
          },
          "showarrow": false,
          "text": "40",
          "x": 1.55,
          "xanchor": "left",
          "xref": "x1",
          "y": 9,
          "yref": "y1"
         },
         {
          "align": "left",
          "font": {
           "color": "#000000"
          },
          "showarrow": false,
          "text": "2016",
          "x": -0.45,
          "xanchor": "left",
          "xref": "x1",
          "y": 10,
          "yref": "y1"
         },
         {
          "align": "left",
          "font": {
           "color": "#000000"
          },
          "showarrow": false,
          "text": "Mozilla Developer Network (MDN)",
          "x": 0.55,
          "xanchor": "left",
          "xref": "x1",
          "y": 10,
          "yref": "y1"
         },
         {
          "align": "left",
          "font": {
           "color": "#000000"
          },
          "showarrow": false,
          "text": "40",
          "x": 1.55,
          "xanchor": "left",
          "xref": "x1",
          "y": 10,
          "yref": "y1"
         },
         {
          "align": "left",
          "font": {
           "color": "#000000"
          },
          "showarrow": false,
          "text": "2016",
          "x": -0.45,
          "xanchor": "left",
          "xref": "x1",
          "y": 11,
          "yref": "y1"
         },
         {
          "align": "left",
          "font": {
           "color": "#000000"
          },
          "showarrow": false,
          "text": "Mozilla Science",
          "x": 0.55,
          "xanchor": "left",
          "xref": "x1",
          "y": 11,
          "yref": "y1"
         },
         {
          "align": "left",
          "font": {
           "color": "#000000"
          },
          "showarrow": false,
          "text": "32",
          "x": 1.55,
          "xanchor": "left",
          "xref": "x1",
          "y": 11,
          "yref": "y1"
         },
         {
          "align": "left",
          "font": {
           "color": "#000000"
          },
          "showarrow": false,
          "text": "2016",
          "x": -0.45,
          "xanchor": "left",
          "xref": "x1",
          "y": 12,
          "yref": "y1"
         },
         {
          "align": "left",
          "font": {
           "color": "#000000"
          },
          "showarrow": false,
          "text": "Firefox iOS",
          "x": 0.55,
          "xanchor": "left",
          "xref": "x1",
          "y": 12,
          "yref": "y1"
         },
         {
          "align": "left",
          "font": {
           "color": "#000000"
          },
          "showarrow": false,
          "text": "16",
          "x": 1.55,
          "xanchor": "left",
          "xref": "x1",
          "y": 12,
          "yref": "y1"
         },
         {
          "align": "left",
          "font": {
           "color": "#000000"
          },
          "showarrow": false,
          "text": "2016",
          "x": -0.45,
          "xanchor": "left",
          "xref": "x1",
          "y": 13,
          "yref": "y1"
         },
         {
          "align": "left",
          "font": {
           "color": "#000000"
          },
          "showarrow": false,
          "text": "Test Pilot",
          "x": 0.55,
          "xanchor": "left",
          "xref": "x1",
          "y": 13,
          "yref": "y1"
         },
         {
          "align": "left",
          "font": {
           "color": "#000000"
          },
          "showarrow": false,
          "text": "11",
          "x": 1.55,
          "xanchor": "left",
          "xref": "x1",
          "y": 13,
          "yref": "y1"
         },
         {
          "align": "left",
          "font": {
           "color": "#000000"
          },
          "showarrow": false,
          "text": "2016",
          "x": -0.45,
          "xanchor": "left",
          "xref": "x1",
          "y": 14,
          "yref": "y1"
         },
         {
          "align": "left",
          "font": {
           "color": "#000000"
          },
          "showarrow": false,
          "text": "Mozilla Foundation",
          "x": 0.55,
          "xanchor": "left",
          "xref": "x1",
          "y": 14,
          "yref": "y1"
         },
         {
          "align": "left",
          "font": {
           "color": "#000000"
          },
          "showarrow": false,
          "text": "8",
          "x": 1.55,
          "xanchor": "left",
          "xref": "x1",
          "y": 14,
          "yref": "y1"
         },
         {
          "align": "left",
          "font": {
           "color": "#000000"
          },
          "showarrow": false,
          "text": "2016",
          "x": -0.45,
          "xanchor": "left",
          "xref": "x1",
          "y": 15,
          "yref": "y1"
         },
         {
          "align": "left",
          "font": {
           "color": "#000000"
          },
          "showarrow": false,
          "text": "Mozilla Creative & Design",
          "x": 0.55,
          "xanchor": "left",
          "xref": "x1",
          "y": 15,
          "yref": "y1"
         },
         {
          "align": "left",
          "font": {
           "color": "#000000"
          },
          "showarrow": false,
          "text": "7",
          "x": 1.55,
          "xanchor": "left",
          "xref": "x1",
          "y": 15,
          "yref": "y1"
         },
         {
          "align": "left",
          "font": {
           "color": "#000000"
          },
          "showarrow": false,
          "text": "2016",
          "x": -0.45,
          "xanchor": "left",
          "xref": "x1",
          "y": 16,
          "yref": "y1"
         },
         {
          "align": "left",
          "font": {
           "color": "#000000"
          },
          "showarrow": false,
          "text": "Advocacy and policy",
          "x": 0.55,
          "xanchor": "left",
          "xref": "x1",
          "y": 16,
          "yref": "y1"
         },
         {
          "align": "left",
          "font": {
           "color": "#000000"
          },
          "showarrow": false,
          "text": "6",
          "x": 1.55,
          "xanchor": "left",
          "xref": "x1",
          "y": 16,
          "yref": "y1"
         },
         {
          "align": "left",
          "font": {
           "color": "#000000"
          },
          "showarrow": false,
          "text": "2016",
          "x": -0.45,
          "xanchor": "left",
          "xref": "x1",
          "y": 17,
          "yref": "y1"
         },
         {
          "align": "left",
          "font": {
           "color": "#000000"
          },
          "showarrow": false,
          "text": "Localization",
          "x": 0.55,
          "xanchor": "left",
          "xref": "x1",
          "y": 17,
          "yref": "y1"
         },
         {
          "align": "left",
          "font": {
           "color": "#000000"
          },
          "showarrow": false,
          "text": "4",
          "x": 1.55,
          "xanchor": "left",
          "xref": "x1",
          "y": 17,
          "yref": "y1"
         },
         {
          "align": "left",
          "font": {
           "color": "#000000"
          },
          "showarrow": false,
          "text": "2016",
          "x": -0.45,
          "xanchor": "left",
          "xref": "x1",
          "y": 18,
          "yref": "y1"
         },
         {
          "align": "left",
          "font": {
           "color": "#000000"
          },
          "showarrow": false,
          "text": "Release engineering",
          "x": 0.55,
          "xanchor": "left",
          "xref": "x1",
          "y": 18,
          "yref": "y1"
         },
         {
          "align": "left",
          "font": {
           "color": "#000000"
          },
          "showarrow": false,
          "text": "3",
          "x": 1.55,
          "xanchor": "left",
          "xref": "x1",
          "y": 18,
          "yref": "y1"
         },
         {
          "align": "left",
          "font": {
           "color": "#000000"
          },
          "showarrow": false,
          "text": "2016",
          "x": -0.45,
          "xanchor": "left",
          "xref": "x1",
          "y": 19,
          "yref": "y1"
         },
         {
          "align": "left",
          "font": {
           "color": "#000000"
          },
          "showarrow": false,
          "text": "Technical/Developer Evangelism",
          "x": 0.55,
          "xanchor": "left",
          "xref": "x1",
          "y": 19,
          "yref": "y1"
         },
         {
          "align": "left",
          "font": {
           "color": "#000000"
          },
          "showarrow": false,
          "text": "3",
          "x": 1.55,
          "xanchor": "left",
          "xref": "x1",
          "y": 19,
          "yref": "y1"
         },
         {
          "align": "left",
          "font": {
           "color": "#000000"
          },
          "showarrow": false,
          "text": "2016",
          "x": -0.45,
          "xanchor": "left",
          "xref": "x1",
          "y": 20,
          "yref": "y1"
         },
         {
          "align": "left",
          "font": {
           "color": "#000000"
          },
          "showarrow": false,
          "text": "Campus Clubs (previously Student Ambassadors)",
          "x": 0.55,
          "xanchor": "left",
          "xref": "x1",
          "y": 20,
          "yref": "y1"
         },
         {
          "align": "left",
          "font": {
           "color": "#000000"
          },
          "showarrow": false,
          "text": "2",
          "x": 1.55,
          "xanchor": "left",
          "xref": "x1",
          "y": 20,
          "yref": "y1"
         },
         {
          "align": "left",
          "font": {
           "color": "#000000"
          },
          "showarrow": false,
          "text": "2015",
          "x": -0.45,
          "xanchor": "left",
          "xref": "x1",
          "y": 21,
          "yref": "y1"
         },
         {
          "align": "left",
          "font": {
           "color": "#000000"
          },
          "showarrow": false,
          "text": "Unknown",
          "x": 0.55,
          "xanchor": "left",
          "xref": "x1",
          "y": 21,
          "yref": "y1"
         },
         {
          "align": "left",
          "font": {
           "color": "#000000"
          },
          "showarrow": false,
          "text": "1005",
          "x": 1.55,
          "xanchor": "left",
          "xref": "x1",
          "y": 21,
          "yref": "y1"
         },
         {
          "align": "left",
          "font": {
           "color": "#000000"
          },
          "showarrow": false,
          "text": "2015",
          "x": -0.45,
          "xanchor": "left",
          "xref": "x1",
          "y": 22,
          "yref": "y1"
         },
         {
          "align": "left",
          "font": {
           "color": "#000000"
          },
          "showarrow": false,
          "text": "Rust",
          "x": 0.55,
          "xanchor": "left",
          "xref": "x1",
          "y": 22,
          "yref": "y1"
         },
         {
          "align": "left",
          "font": {
           "color": "#000000"
          },
          "showarrow": false,
          "text": "642",
          "x": 1.55,
          "xanchor": "left",
          "xref": "x1",
          "y": 22,
          "yref": "y1"
         },
         {
          "align": "left",
          "font": {
           "color": "#000000"
          },
          "showarrow": false,
          "text": "2015",
          "x": -0.45,
          "xanchor": "left",
          "xref": "x1",
          "y": 23,
          "yref": "y1"
         },
         {
          "align": "left",
          "font": {
           "color": "#000000"
          },
          "showarrow": false,
          "text": "Gecko",
          "x": 0.55,
          "xanchor": "left",
          "xref": "x1",
          "y": 23,
          "yref": "y1"
         },
         {
          "align": "left",
          "font": {
           "color": "#000000"
          },
          "showarrow": false,
          "text": "242",
          "x": 1.55,
          "xanchor": "left",
          "xref": "x1",
          "y": 23,
          "yref": "y1"
         },
         {
          "align": "left",
          "font": {
           "color": "#000000"
          },
          "showarrow": false,
          "text": "2015",
          "x": -0.45,
          "xanchor": "left",
          "xref": "x1",
          "y": 24,
          "yref": "y1"
         },
         {
          "align": "left",
          "font": {
           "color": "#000000"
          },
          "showarrow": false,
          "text": "Servo",
          "x": 0.55,
          "xanchor": "left",
          "xref": "x1",
          "y": 24,
          "yref": "y1"
         },
         {
          "align": "left",
          "font": {
           "color": "#000000"
          },
          "showarrow": false,
          "text": "168",
          "x": 1.55,
          "xanchor": "left",
          "xref": "x1",
          "y": 24,
          "yref": "y1"
         },
         {
          "align": "left",
          "font": {
           "color": "#000000"
          },
          "showarrow": false,
          "text": "2015",
          "x": -0.45,
          "xanchor": "left",
          "xref": "x1",
          "y": 25,
          "yref": "y1"
         },
         {
          "align": "left",
          "font": {
           "color": "#000000"
          },
          "showarrow": false,
          "text": "Web Properties",
          "x": 0.55,
          "xanchor": "left",
          "xref": "x1",
          "y": 25,
          "yref": "y1"
         },
         {
          "align": "left",
          "font": {
           "color": "#000000"
          },
          "showarrow": false,
          "text": "160",
          "x": 1.55,
          "xanchor": "left",
          "xref": "x1",
          "y": 25,
          "yref": "y1"
         },
         {
          "align": "left",
          "font": {
           "color": "#000000"
          },
          "showarrow": false,
          "text": "2015",
          "x": -0.45,
          "xanchor": "left",
          "xref": "x1",
          "y": 26,
          "yref": "y1"
         },
         {
          "align": "left",
          "font": {
           "color": "#000000"
          },
          "showarrow": false,
          "text": "IT/Ops",
          "x": 0.55,
          "xanchor": "left",
          "xref": "x1",
          "y": 26,
          "yref": "y1"
         },
         {
          "align": "left",
          "font": {
           "color": "#000000"
          },
          "showarrow": false,
          "text": "86",
          "x": 1.55,
          "xanchor": "left",
          "xref": "x1",
          "y": 26,
          "yref": "y1"
         },
         {
          "align": "left",
          "font": {
           "color": "#000000"
          },
          "showarrow": false,
          "text": "2015",
          "x": -0.45,
          "xanchor": "left",
          "xref": "x1",
          "y": 27,
          "yref": "y1"
         },
         {
          "align": "left",
          "font": {
           "color": "#000000"
          },
          "showarrow": false,
          "text": "Mozilla Local/Regional communities",
          "x": 0.55,
          "xanchor": "left",
          "xref": "x1",
          "y": 27,
          "yref": "y1"
         },
         {
          "align": "left",
          "font": {
           "color": "#000000"
          },
          "showarrow": false,
          "text": "60",
          "x": 1.55,
          "xanchor": "left",
          "xref": "x1",
          "y": 27,
          "yref": "y1"
         },
         {
          "align": "left",
          "font": {
           "color": "#000000"
          },
          "showarrow": false,
          "text": "2015",
          "x": -0.45,
          "xanchor": "left",
          "xref": "x1",
          "y": 28,
          "yref": "y1"
         },
         {
          "align": "left",
          "font": {
           "color": "#000000"
          },
          "showarrow": false,
          "text": "Mozilla Science",
          "x": 0.55,
          "xanchor": "left",
          "xref": "x1",
          "y": 28,
          "yref": "y1"
         },
         {
          "align": "left",
          "font": {
           "color": "#000000"
          },
          "showarrow": false,
          "text": "41",
          "x": 1.55,
          "xanchor": "left",
          "xref": "x1",
          "y": 28,
          "yref": "y1"
         },
         {
          "align": "left",
          "font": {
           "color": "#000000"
          },
          "showarrow": false,
          "text": "2015",
          "x": -0.45,
          "xanchor": "left",
          "xref": "x1",
          "y": 29,
          "yref": "y1"
         },
         {
          "align": "left",
          "font": {
           "color": "#000000"
          },
          "showarrow": false,
          "text": "Firefox iOS",
          "x": 0.55,
          "xanchor": "left",
          "xref": "x1",
          "y": 29,
          "yref": "y1"
         },
         {
          "align": "left",
          "font": {
           "color": "#000000"
          },
          "showarrow": false,
          "text": "30",
          "x": 1.55,
          "xanchor": "left",
          "xref": "x1",
          "y": 29,
          "yref": "y1"
         },
         {
          "align": "left",
          "font": {
           "color": "#000000"
          },
          "showarrow": false,
          "text": "2015",
          "x": -0.45,
          "xanchor": "left",
          "xref": "x1",
          "y": 30,
          "yref": "y1"
         },
         {
          "align": "left",
          "font": {
           "color": "#000000"
          },
          "showarrow": false,
          "text": "Mozilla Developer Network (MDN)",
          "x": 0.55,
          "xanchor": "left",
          "xref": "x1",
          "y": 30,
          "yref": "y1"
         },
         {
          "align": "left",
          "font": {
           "color": "#000000"
          },
          "showarrow": false,
          "text": "25",
          "x": 1.55,
          "xanchor": "left",
          "xref": "x1",
          "y": 30,
          "yref": "y1"
         },
         {
          "align": "left",
          "font": {
           "color": "#000000"
          },
          "showarrow": false,
          "text": "2015",
          "x": -0.45,
          "xanchor": "left",
          "xref": "x1",
          "y": 31,
          "yref": "y1"
         },
         {
          "align": "left",
          "font": {
           "color": "#000000"
          },
          "showarrow": false,
          "text": "Addons/Web Extensions",
          "x": 0.55,
          "xanchor": "left",
          "xref": "x1",
          "y": 31,
          "yref": "y1"
         },
         {
          "align": "left",
          "font": {
           "color": "#000000"
          },
          "showarrow": false,
          "text": "24",
          "x": 1.55,
          "xanchor": "left",
          "xref": "x1",
          "y": 31,
          "yref": "y1"
         },
         {
          "align": "left",
          "font": {
           "color": "#000000"
          },
          "showarrow": false,
          "text": "2015",
          "x": -0.45,
          "xanchor": "left",
          "xref": "x1",
          "y": 32,
          "yref": "y1"
         },
         {
          "align": "left",
          "font": {
           "color": "#000000"
          },
          "showarrow": false,
          "text": "Firefox OS (FxOS / B2G)",
          "x": 0.55,
          "xanchor": "left",
          "xref": "x1",
          "y": 32,
          "yref": "y1"
         },
         {
          "align": "left",
          "font": {
           "color": "#000000"
          },
          "showarrow": false,
          "text": "22",
          "x": 1.55,
          "xanchor": "left",
          "xref": "x1",
          "y": 32,
          "yref": "y1"
         },
         {
          "align": "left",
          "font": {
           "color": "#000000"
          },
          "showarrow": false,
          "text": "2015",
          "x": -0.45,
          "xanchor": "left",
          "xref": "x1",
          "y": 33,
          "yref": "y1"
         },
         {
          "align": "left",
          "font": {
           "color": "#000000"
          },
          "showarrow": false,
          "text": "WebVR",
          "x": 0.55,
          "xanchor": "left",
          "xref": "x1",
          "y": 33,
          "yref": "y1"
         },
         {
          "align": "left",
          "font": {
           "color": "#000000"
          },
          "showarrow": false,
          "text": "16",
          "x": 1.55,
          "xanchor": "left",
          "xref": "x1",
          "y": 33,
          "yref": "y1"
         },
         {
          "align": "left",
          "font": {
           "color": "#000000"
          },
          "showarrow": false,
          "text": "2015",
          "x": -0.45,
          "xanchor": "left",
          "xref": "x1",
          "y": 34,
          "yref": "y1"
         },
         {
          "align": "left",
          "font": {
           "color": "#000000"
          },
          "showarrow": false,
          "text": "Release engineering",
          "x": 0.55,
          "xanchor": "left",
          "xref": "x1",
          "y": 34,
          "yref": "y1"
         },
         {
          "align": "left",
          "font": {
           "color": "#000000"
          },
          "showarrow": false,
          "text": "11",
          "x": 1.55,
          "xanchor": "left",
          "xref": "x1",
          "y": 34,
          "yref": "y1"
         },
         {
          "align": "left",
          "font": {
           "color": "#000000"
          },
          "showarrow": false,
          "text": "2015",
          "x": -0.45,
          "xanchor": "left",
          "xref": "x1",
          "y": 35,
          "yref": "y1"
         },
         {
          "align": "left",
          "font": {
           "color": "#000000"
          },
          "showarrow": false,
          "text": "Web Literacy",
          "x": 0.55,
          "xanchor": "left",
          "xref": "x1",
          "y": 35,
          "yref": "y1"
         },
         {
          "align": "left",
          "font": {
           "color": "#000000"
          },
          "showarrow": false,
          "text": "11",
          "x": 1.55,
          "xanchor": "left",
          "xref": "x1",
          "y": 35,
          "yref": "y1"
         },
         {
          "align": "left",
          "font": {
           "color": "#000000"
          },
          "showarrow": false,
          "text": "2015",
          "x": -0.45,
          "xanchor": "left",
          "xref": "x1",
          "y": 36,
          "yref": "y1"
         },
         {
          "align": "left",
          "font": {
           "color": "#000000"
          },
          "showarrow": false,
          "text": "Mozilla Location Service (MLS) / Stumbler",
          "x": 0.55,
          "xanchor": "left",
          "xref": "x1",
          "y": 36,
          "yref": "y1"
         },
         {
          "align": "left",
          "font": {
           "color": "#000000"
          },
          "showarrow": false,
          "text": "4",
          "x": 1.55,
          "xanchor": "left",
          "xref": "x1",
          "y": 36,
          "yref": "y1"
         },
         {
          "align": "left",
          "font": {
           "color": "#000000"
          },
          "showarrow": false,
          "text": "2015",
          "x": -0.45,
          "xanchor": "left",
          "xref": "x1",
          "y": 37,
          "yref": "y1"
         },
         {
          "align": "left",
          "font": {
           "color": "#000000"
          },
          "showarrow": false,
          "text": "Advocacy and policy",
          "x": 0.55,
          "xanchor": "left",
          "xref": "x1",
          "y": 37,
          "yref": "y1"
         },
         {
          "align": "left",
          "font": {
           "color": "#000000"
          },
          "showarrow": false,
          "text": "3",
          "x": 1.55,
          "xanchor": "left",
          "xref": "x1",
          "y": 37,
          "yref": "y1"
         },
         {
          "align": "left",
          "font": {
           "color": "#000000"
          },
          "showarrow": false,
          "text": "2015",
          "x": -0.45,
          "xanchor": "left",
          "xref": "x1",
          "y": 38,
          "yref": "y1"
         },
         {
          "align": "left",
          "font": {
           "color": "#000000"
          },
          "showarrow": false,
          "text": "Mozilla Clubs",
          "x": 0.55,
          "xanchor": "left",
          "xref": "x1",
          "y": 38,
          "yref": "y1"
         },
         {
          "align": "left",
          "font": {
           "color": "#000000"
          },
          "showarrow": false,
          "text": "3",
          "x": 1.55,
          "xanchor": "left",
          "xref": "x1",
          "y": 38,
          "yref": "y1"
         },
         {
          "align": "left",
          "font": {
           "color": "#000000"
          },
          "showarrow": false,
          "text": "2015",
          "x": -0.45,
          "xanchor": "left",
          "xref": "x1",
          "y": 39,
          "yref": "y1"
         },
         {
          "align": "left",
          "font": {
           "color": "#000000"
          },
          "showarrow": false,
          "text": "Developer Tools",
          "x": 0.55,
          "xanchor": "left",
          "xref": "x1",
          "y": 39,
          "yref": "y1"
         },
         {
          "align": "left",
          "font": {
           "color": "#000000"
          },
          "showarrow": false,
          "text": "2",
          "x": 1.55,
          "xanchor": "left",
          "xref": "x1",
          "y": 39,
          "yref": "y1"
         },
         {
          "align": "left",
          "font": {
           "color": "#000000"
          },
          "showarrow": false,
          "text": "2015",
          "x": -0.45,
          "xanchor": "left",
          "xref": "x1",
          "y": 40,
          "yref": "y1"
         },
         {
          "align": "left",
          "font": {
           "color": "#000000"
          },
          "showarrow": false,
          "text": "Mozilla Creative & Design",
          "x": 0.55,
          "xanchor": "left",
          "xref": "x1",
          "y": 40,
          "yref": "y1"
         },
         {
          "align": "left",
          "font": {
           "color": "#000000"
          },
          "showarrow": false,
          "text": "2",
          "x": 1.55,
          "xanchor": "left",
          "xref": "x1",
          "y": 40,
          "yref": "y1"
         },
         {
          "align": "left",
          "font": {
           "color": "#000000"
          },
          "showarrow": false,
          "text": "2014",
          "x": -0.45,
          "xanchor": "left",
          "xref": "x1",
          "y": 41,
          "yref": "y1"
         },
         {
          "align": "left",
          "font": {
           "color": "#000000"
          },
          "showarrow": false,
          "text": "Unknown",
          "x": 0.55,
          "xanchor": "left",
          "xref": "x1",
          "y": 41,
          "yref": "y1"
         },
         {
          "align": "left",
          "font": {
           "color": "#000000"
          },
          "showarrow": false,
          "text": "886",
          "x": 1.55,
          "xanchor": "left",
          "xref": "x1",
          "y": 41,
          "yref": "y1"
         },
         {
          "align": "left",
          "font": {
           "color": "#000000"
          },
          "showarrow": false,
          "text": "2014",
          "x": -0.45,
          "xanchor": "left",
          "xref": "x1",
          "y": 42,
          "yref": "y1"
         },
         {
          "align": "left",
          "font": {
           "color": "#000000"
          },
          "showarrow": false,
          "text": "Rust",
          "x": 0.55,
          "xanchor": "left",
          "xref": "x1",
          "y": 42,
          "yref": "y1"
         },
         {
          "align": "left",
          "font": {
           "color": "#000000"
          },
          "showarrow": false,
          "text": "523",
          "x": 1.55,
          "xanchor": "left",
          "xref": "x1",
          "y": 42,
          "yref": "y1"
         },
         {
          "align": "left",
          "font": {
           "color": "#000000"
          },
          "showarrow": false,
          "text": "2014",
          "x": -0.45,
          "xanchor": "left",
          "xref": "x1",
          "y": 43,
          "yref": "y1"
         },
         {
          "align": "left",
          "font": {
           "color": "#000000"
          },
          "showarrow": false,
          "text": "Gecko",
          "x": 0.55,
          "xanchor": "left",
          "xref": "x1",
          "y": 43,
          "yref": "y1"
         },
         {
          "align": "left",
          "font": {
           "color": "#000000"
          },
          "showarrow": false,
          "text": "299",
          "x": 1.55,
          "xanchor": "left",
          "xref": "x1",
          "y": 43,
          "yref": "y1"
         },
         {
          "align": "left",
          "font": {
           "color": "#000000"
          },
          "showarrow": false,
          "text": "2014",
          "x": -0.45,
          "xanchor": "left",
          "xref": "x1",
          "y": 44,
          "yref": "y1"
         },
         {
          "align": "left",
          "font": {
           "color": "#000000"
          },
          "showarrow": false,
          "text": "Web Properties",
          "x": 0.55,
          "xanchor": "left",
          "xref": "x1",
          "y": 44,
          "yref": "y1"
         },
         {
          "align": "left",
          "font": {
           "color": "#000000"
          },
          "showarrow": false,
          "text": "131",
          "x": 1.55,
          "xanchor": "left",
          "xref": "x1",
          "y": 44,
          "yref": "y1"
         },
         {
          "align": "left",
          "font": {
           "color": "#000000"
          },
          "showarrow": false,
          "text": "2014",
          "x": -0.45,
          "xanchor": "left",
          "xref": "x1",
          "y": 45,
          "yref": "y1"
         },
         {
          "align": "left",
          "font": {
           "color": "#000000"
          },
          "showarrow": false,
          "text": "Servo",
          "x": 0.55,
          "xanchor": "left",
          "xref": "x1",
          "y": 45,
          "yref": "y1"
         },
         {
          "align": "left",
          "font": {
           "color": "#000000"
          },
          "showarrow": false,
          "text": "124",
          "x": 1.55,
          "xanchor": "left",
          "xref": "x1",
          "y": 45,
          "yref": "y1"
         },
         {
          "align": "left",
          "font": {
           "color": "#000000"
          },
          "showarrow": false,
          "text": "2014",
          "x": -0.45,
          "xanchor": "left",
          "xref": "x1",
          "y": 46,
          "yref": "y1"
         },
         {
          "align": "left",
          "font": {
           "color": "#000000"
          },
          "showarrow": false,
          "text": "Mozilla Local/Regional communities",
          "x": 0.55,
          "xanchor": "left",
          "xref": "x1",
          "y": 46,
          "yref": "y1"
         },
         {
          "align": "left",
          "font": {
           "color": "#000000"
          },
          "showarrow": false,
          "text": "104",
          "x": 1.55,
          "xanchor": "left",
          "xref": "x1",
          "y": 46,
          "yref": "y1"
         },
         {
          "align": "left",
          "font": {
           "color": "#000000"
          },
          "showarrow": false,
          "text": "2014",
          "x": -0.45,
          "xanchor": "left",
          "xref": "x1",
          "y": 47,
          "yref": "y1"
         },
         {
          "align": "left",
          "font": {
           "color": "#000000"
          },
          "showarrow": false,
          "text": "IT/Ops",
          "x": 0.55,
          "xanchor": "left",
          "xref": "x1",
          "y": 47,
          "yref": "y1"
         },
         {
          "align": "left",
          "font": {
           "color": "#000000"
          },
          "showarrow": false,
          "text": "91",
          "x": 1.55,
          "xanchor": "left",
          "xref": "x1",
          "y": 47,
          "yref": "y1"
         },
         {
          "align": "left",
          "font": {
           "color": "#000000"
          },
          "showarrow": false,
          "text": "2014",
          "x": -0.45,
          "xanchor": "left",
          "xref": "x1",
          "y": 48,
          "yref": "y1"
         },
         {
          "align": "left",
          "font": {
           "color": "#000000"
          },
          "showarrow": false,
          "text": "Web Literacy",
          "x": 0.55,
          "xanchor": "left",
          "xref": "x1",
          "y": 48,
          "yref": "y1"
         },
         {
          "align": "left",
          "font": {
           "color": "#000000"
          },
          "showarrow": false,
          "text": "45",
          "x": 1.55,
          "xanchor": "left",
          "xref": "x1",
          "y": 48,
          "yref": "y1"
         },
         {
          "align": "left",
          "font": {
           "color": "#000000"
          },
          "showarrow": false,
          "text": "2014",
          "x": -0.45,
          "xanchor": "left",
          "xref": "x1",
          "y": 49,
          "yref": "y1"
         },
         {
          "align": "left",
          "font": {
           "color": "#000000"
          },
          "showarrow": false,
          "text": "Mozilla Location Service (MLS) / Stumbler",
          "x": 0.55,
          "xanchor": "left",
          "xref": "x1",
          "y": 49,
          "yref": "y1"
         },
         {
          "align": "left",
          "font": {
           "color": "#000000"
          },
          "showarrow": false,
          "text": "41",
          "x": 1.55,
          "xanchor": "left",
          "xref": "x1",
          "y": 49,
          "yref": "y1"
         },
         {
          "align": "left",
          "font": {
           "color": "#000000"
          },
          "showarrow": false,
          "text": "2014",
          "x": -0.45,
          "xanchor": "left",
          "xref": "x1",
          "y": 50,
          "yref": "y1"
         },
         {
          "align": "left",
          "font": {
           "color": "#000000"
          },
          "showarrow": false,
          "text": "Addons/Web Extensions",
          "x": 0.55,
          "xanchor": "left",
          "xref": "x1",
          "y": 50,
          "yref": "y1"
         },
         {
          "align": "left",
          "font": {
           "color": "#000000"
          },
          "showarrow": false,
          "text": "32",
          "x": 1.55,
          "xanchor": "left",
          "xref": "x1",
          "y": 50,
          "yref": "y1"
         },
         {
          "align": "left",
          "font": {
           "color": "#000000"
          },
          "showarrow": false,
          "text": "2014",
          "x": -0.45,
          "xanchor": "left",
          "xref": "x1",
          "y": 51,
          "yref": "y1"
         },
         {
          "align": "left",
          "font": {
           "color": "#000000"
          },
          "showarrow": false,
          "text": "Mozilla Foundation",
          "x": 0.55,
          "xanchor": "left",
          "xref": "x1",
          "y": 51,
          "yref": "y1"
         },
         {
          "align": "left",
          "font": {
           "color": "#000000"
          },
          "showarrow": false,
          "text": "14",
          "x": 1.55,
          "xanchor": "left",
          "xref": "x1",
          "y": 51,
          "yref": "y1"
         },
         {
          "align": "left",
          "font": {
           "color": "#000000"
          },
          "showarrow": false,
          "text": "2014",
          "x": -0.45,
          "xanchor": "left",
          "xref": "x1",
          "y": 52,
          "yref": "y1"
         },
         {
          "align": "left",
          "font": {
           "color": "#000000"
          },
          "showarrow": false,
          "text": "Firefox OS (FxOS / B2G)",
          "x": 0.55,
          "xanchor": "left",
          "xref": "x1",
          "y": 52,
          "yref": "y1"
         },
         {
          "align": "left",
          "font": {
           "color": "#000000"
          },
          "showarrow": false,
          "text": "12",
          "x": 1.55,
          "xanchor": "left",
          "xref": "x1",
          "y": 52,
          "yref": "y1"
         },
         {
          "align": "left",
          "font": {
           "color": "#000000"
          },
          "showarrow": false,
          "text": "2014",
          "x": -0.45,
          "xanchor": "left",
          "xref": "x1",
          "y": 53,
          "yref": "y1"
         },
         {
          "align": "left",
          "font": {
           "color": "#000000"
          },
          "showarrow": false,
          "text": "Mozilla Science",
          "x": 0.55,
          "xanchor": "left",
          "xref": "x1",
          "y": 53,
          "yref": "y1"
         },
         {
          "align": "left",
          "font": {
           "color": "#000000"
          },
          "showarrow": false,
          "text": "11",
          "x": 1.55,
          "xanchor": "left",
          "xref": "x1",
          "y": 53,
          "yref": "y1"
         },
         {
          "align": "left",
          "font": {
           "color": "#000000"
          },
          "showarrow": false,
          "text": "2014",
          "x": -0.45,
          "xanchor": "left",
          "xref": "x1",
          "y": 54,
          "yref": "y1"
         },
         {
          "align": "left",
          "font": {
           "color": "#000000"
          },
          "showarrow": false,
          "text": "Release engineering",
          "x": 0.55,
          "xanchor": "left",
          "xref": "x1",
          "y": 54,
          "yref": "y1"
         },
         {
          "align": "left",
          "font": {
           "color": "#000000"
          },
          "showarrow": false,
          "text": "11",
          "x": 1.55,
          "xanchor": "left",
          "xref": "x1",
          "y": 54,
          "yref": "y1"
         },
         {
          "align": "left",
          "font": {
           "color": "#000000"
          },
          "showarrow": false,
          "text": "2014",
          "x": -0.45,
          "xanchor": "left",
          "xref": "x1",
          "y": 55,
          "yref": "y1"
         },
         {
          "align": "left",
          "font": {
           "color": "#000000"
          },
          "showarrow": false,
          "text": "Quality Assurance",
          "x": 0.55,
          "xanchor": "left",
          "xref": "x1",
          "y": 55,
          "yref": "y1"
         },
         {
          "align": "left",
          "font": {
           "color": "#000000"
          },
          "showarrow": false,
          "text": "8",
          "x": 1.55,
          "xanchor": "left",
          "xref": "x1",
          "y": 55,
          "yref": "y1"
         },
         {
          "align": "left",
          "font": {
           "color": "#000000"
          },
          "showarrow": false,
          "text": "2014",
          "x": -0.45,
          "xanchor": "left",
          "xref": "x1",
          "y": 56,
          "yref": "y1"
         },
         {
          "align": "left",
          "font": {
           "color": "#000000"
          },
          "showarrow": false,
          "text": "Marketing / Social Media",
          "x": 0.55,
          "xanchor": "left",
          "xref": "x1",
          "y": 56,
          "yref": "y1"
         },
         {
          "align": "left",
          "font": {
           "color": "#000000"
          },
          "showarrow": false,
          "text": "6",
          "x": 1.55,
          "xanchor": "left",
          "xref": "x1",
          "y": 56,
          "yref": "y1"
         },
         {
          "align": "left",
          "font": {
           "color": "#000000"
          },
          "showarrow": false,
          "text": "2014",
          "x": -0.45,
          "xanchor": "left",
          "xref": "x1",
          "y": 57,
          "yref": "y1"
         },
         {
          "align": "left",
          "font": {
           "color": "#000000"
          },
          "showarrow": false,
          "text": "Firefox iOS",
          "x": 0.55,
          "xanchor": "left",
          "xref": "x1",
          "y": 57,
          "yref": "y1"
         },
         {
          "align": "left",
          "font": {
           "color": "#000000"
          },
          "showarrow": false,
          "text": "5",
          "x": 1.55,
          "xanchor": "left",
          "xref": "x1",
          "y": 57,
          "yref": "y1"
         },
         {
          "align": "left",
          "font": {
           "color": "#000000"
          },
          "showarrow": false,
          "text": "2014",
          "x": -0.45,
          "xanchor": "left",
          "xref": "x1",
          "y": 58,
          "yref": "y1"
         },
         {
          "align": "left",
          "font": {
           "color": "#000000"
          },
          "showarrow": false,
          "text": "Advocacy and policy",
          "x": 0.55,
          "xanchor": "left",
          "xref": "x1",
          "y": 58,
          "yref": "y1"
         },
         {
          "align": "left",
          "font": {
           "color": "#000000"
          },
          "showarrow": false,
          "text": "4",
          "x": 1.55,
          "xanchor": "left",
          "xref": "x1",
          "y": 58,
          "yref": "y1"
         },
         {
          "align": "left",
          "font": {
           "color": "#000000"
          },
          "showarrow": false,
          "text": "2014",
          "x": -0.45,
          "xanchor": "left",
          "xref": "x1",
          "y": 59,
          "yref": "y1"
         },
         {
          "align": "left",
          "font": {
           "color": "#000000"
          },
          "showarrow": false,
          "text": "WebVR",
          "x": 0.55,
          "xanchor": "left",
          "xref": "x1",
          "y": 59,
          "yref": "y1"
         },
         {
          "align": "left",
          "font": {
           "color": "#000000"
          },
          "showarrow": false,
          "text": "4",
          "x": 1.55,
          "xanchor": "left",
          "xref": "x1",
          "y": 59,
          "yref": "y1"
         },
         {
          "align": "left",
          "font": {
           "color": "#000000"
          },
          "showarrow": false,
          "text": "2014",
          "x": -0.45,
          "xanchor": "left",
          "xref": "x1",
          "y": 60,
          "yref": "y1"
         },
         {
          "align": "left",
          "font": {
           "color": "#000000"
          },
          "showarrow": false,
          "text": "Mozilla Developer Network (MDN)",
          "x": 0.55,
          "xanchor": "left",
          "xref": "x1",
          "y": 60,
          "yref": "y1"
         },
         {
          "align": "left",
          "font": {
           "color": "#000000"
          },
          "showarrow": false,
          "text": "3",
          "x": 1.55,
          "xanchor": "left",
          "xref": "x1",
          "y": 60,
          "yref": "y1"
         },
         {
          "align": "left",
          "font": {
           "color": "#000000"
          },
          "showarrow": false,
          "text": "2013",
          "x": -0.45,
          "xanchor": "left",
          "xref": "x1",
          "y": 61,
          "yref": "y1"
         },
         {
          "align": "left",
          "font": {
           "color": "#000000"
          },
          "showarrow": false,
          "text": "Unknown",
          "x": 0.55,
          "xanchor": "left",
          "xref": "x1",
          "y": 61,
          "yref": "y1"
         },
         {
          "align": "left",
          "font": {
           "color": "#000000"
          },
          "showarrow": false,
          "text": "713",
          "x": 1.55,
          "xanchor": "left",
          "xref": "x1",
          "y": 61,
          "yref": "y1"
         },
         {
          "align": "left",
          "font": {
           "color": "#000000"
          },
          "showarrow": false,
          "text": "2013",
          "x": -0.45,
          "xanchor": "left",
          "xref": "x1",
          "y": 62,
          "yref": "y1"
         },
         {
          "align": "left",
          "font": {
           "color": "#000000"
          },
          "showarrow": false,
          "text": "Gecko",
          "x": 0.55,
          "xanchor": "left",
          "xref": "x1",
          "y": 62,
          "yref": "y1"
         },
         {
          "align": "left",
          "font": {
           "color": "#000000"
          },
          "showarrow": false,
          "text": "260",
          "x": 1.55,
          "xanchor": "left",
          "xref": "x1",
          "y": 62,
          "yref": "y1"
         },
         {
          "align": "left",
          "font": {
           "color": "#000000"
          },
          "showarrow": false,
          "text": "2013",
          "x": -0.45,
          "xanchor": "left",
          "xref": "x1",
          "y": 63,
          "yref": "y1"
         },
         {
          "align": "left",
          "font": {
           "color": "#000000"
          },
          "showarrow": false,
          "text": "Rust",
          "x": 0.55,
          "xanchor": "left",
          "xref": "x1",
          "y": 63,
          "yref": "y1"
         },
         {
          "align": "left",
          "font": {
           "color": "#000000"
          },
          "showarrow": false,
          "text": "233",
          "x": 1.55,
          "xanchor": "left",
          "xref": "x1",
          "y": 63,
          "yref": "y1"
         },
         {
          "align": "left",
          "font": {
           "color": "#000000"
          },
          "showarrow": false,
          "text": "2013",
          "x": -0.45,
          "xanchor": "left",
          "xref": "x1",
          "y": 64,
          "yref": "y1"
         },
         {
          "align": "left",
          "font": {
           "color": "#000000"
          },
          "showarrow": false,
          "text": "Web Properties",
          "x": 0.55,
          "xanchor": "left",
          "xref": "x1",
          "y": 64,
          "yref": "y1"
         },
         {
          "align": "left",
          "font": {
           "color": "#000000"
          },
          "showarrow": false,
          "text": "121",
          "x": 1.55,
          "xanchor": "left",
          "xref": "x1",
          "y": 64,
          "yref": "y1"
         },
         {
          "align": "left",
          "font": {
           "color": "#000000"
          },
          "showarrow": false,
          "text": "2013",
          "x": -0.45,
          "xanchor": "left",
          "xref": "x1",
          "y": 65,
          "yref": "y1"
         },
         {
          "align": "left",
          "font": {
           "color": "#000000"
          },
          "showarrow": false,
          "text": "Mozilla Local/Regional communities",
          "x": 0.55,
          "xanchor": "left",
          "xref": "x1",
          "y": 65,
          "yref": "y1"
         },
         {
          "align": "left",
          "font": {
           "color": "#000000"
          },
          "showarrow": false,
          "text": "54",
          "x": 1.55,
          "xanchor": "left",
          "xref": "x1",
          "y": 65,
          "yref": "y1"
         },
         {
          "align": "left",
          "font": {
           "color": "#000000"
          },
          "showarrow": false,
          "text": "2013",
          "x": -0.45,
          "xanchor": "left",
          "xref": "x1",
          "y": 66,
          "yref": "y1"
         },
         {
          "align": "left",
          "font": {
           "color": "#000000"
          },
          "showarrow": false,
          "text": "Servo",
          "x": 0.55,
          "xanchor": "left",
          "xref": "x1",
          "y": 66,
          "yref": "y1"
         },
         {
          "align": "left",
          "font": {
           "color": "#000000"
          },
          "showarrow": false,
          "text": "51",
          "x": 1.55,
          "xanchor": "left",
          "xref": "x1",
          "y": 66,
          "yref": "y1"
         },
         {
          "align": "left",
          "font": {
           "color": "#000000"
          },
          "showarrow": false,
          "text": "2013",
          "x": -0.45,
          "xanchor": "left",
          "xref": "x1",
          "y": 67,
          "yref": "y1"
         },
         {
          "align": "left",
          "font": {
           "color": "#000000"
          },
          "showarrow": false,
          "text": "IT/Ops",
          "x": 0.55,
          "xanchor": "left",
          "xref": "x1",
          "y": 67,
          "yref": "y1"
         },
         {
          "align": "left",
          "font": {
           "color": "#000000"
          },
          "showarrow": false,
          "text": "48",
          "x": 1.55,
          "xanchor": "left",
          "xref": "x1",
          "y": 67,
          "yref": "y1"
         },
         {
          "align": "left",
          "font": {
           "color": "#000000"
          },
          "showarrow": false,
          "text": "2013",
          "x": -0.45,
          "xanchor": "left",
          "xref": "x1",
          "y": 68,
          "yref": "y1"
         },
         {
          "align": "left",
          "font": {
           "color": "#000000"
          },
          "showarrow": false,
          "text": "Addons/Web Extensions",
          "x": 0.55,
          "xanchor": "left",
          "xref": "x1",
          "y": 68,
          "yref": "y1"
         },
         {
          "align": "left",
          "font": {
           "color": "#000000"
          },
          "showarrow": false,
          "text": "35",
          "x": 1.55,
          "xanchor": "left",
          "xref": "x1",
          "y": 68,
          "yref": "y1"
         },
         {
          "align": "left",
          "font": {
           "color": "#000000"
          },
          "showarrow": false,
          "text": "2013",
          "x": -0.45,
          "xanchor": "left",
          "xref": "x1",
          "y": 69,
          "yref": "y1"
         },
         {
          "align": "left",
          "font": {
           "color": "#000000"
          },
          "showarrow": false,
          "text": "Mozilla Foundation",
          "x": 0.55,
          "xanchor": "left",
          "xref": "x1",
          "y": 69,
          "yref": "y1"
         },
         {
          "align": "left",
          "font": {
           "color": "#000000"
          },
          "showarrow": false,
          "text": "30",
          "x": 1.55,
          "xanchor": "left",
          "xref": "x1",
          "y": 69,
          "yref": "y1"
         },
         {
          "align": "left",
          "font": {
           "color": "#000000"
          },
          "showarrow": false,
          "text": "2013",
          "x": -0.45,
          "xanchor": "left",
          "xref": "x1",
          "y": 70,
          "yref": "y1"
         },
         {
          "align": "left",
          "font": {
           "color": "#000000"
          },
          "showarrow": false,
          "text": "Web Literacy",
          "x": 0.55,
          "xanchor": "left",
          "xref": "x1",
          "y": 70,
          "yref": "y1"
         },
         {
          "align": "left",
          "font": {
           "color": "#000000"
          },
          "showarrow": false,
          "text": "21",
          "x": 1.55,
          "xanchor": "left",
          "xref": "x1",
          "y": 70,
          "yref": "y1"
         },
         {
          "align": "left",
          "font": {
           "color": "#000000"
          },
          "showarrow": false,
          "text": "2013",
          "x": -0.45,
          "xanchor": "left",
          "xref": "x1",
          "y": 71,
          "yref": "y1"
         },
         {
          "align": "left",
          "font": {
           "color": "#000000"
          },
          "showarrow": false,
          "text": "Mozilla Location Service (MLS) / Stumbler",
          "x": 0.55,
          "xanchor": "left",
          "xref": "x1",
          "y": 71,
          "yref": "y1"
         },
         {
          "align": "left",
          "font": {
           "color": "#000000"
          },
          "showarrow": false,
          "text": "17",
          "x": 1.55,
          "xanchor": "left",
          "xref": "x1",
          "y": 71,
          "yref": "y1"
         },
         {
          "align": "left",
          "font": {
           "color": "#000000"
          },
          "showarrow": false,
          "text": "2013",
          "x": -0.45,
          "xanchor": "left",
          "xref": "x1",
          "y": 72,
          "yref": "y1"
         },
         {
          "align": "left",
          "font": {
           "color": "#000000"
          },
          "showarrow": false,
          "text": "Release engineering",
          "x": 0.55,
          "xanchor": "left",
          "xref": "x1",
          "y": 72,
          "yref": "y1"
         },
         {
          "align": "left",
          "font": {
           "color": "#000000"
          },
          "showarrow": false,
          "text": "13",
          "x": 1.55,
          "xanchor": "left",
          "xref": "x1",
          "y": 72,
          "yref": "y1"
         },
         {
          "align": "left",
          "font": {
           "color": "#000000"
          },
          "showarrow": false,
          "text": "2013",
          "x": -0.45,
          "xanchor": "left",
          "xref": "x1",
          "y": 73,
          "yref": "y1"
         },
         {
          "align": "left",
          "font": {
           "color": "#000000"
          },
          "showarrow": false,
          "text": "Firefox OS (FxOS / B2G)",
          "x": 0.55,
          "xanchor": "left",
          "xref": "x1",
          "y": 73,
          "yref": "y1"
         },
         {
          "align": "left",
          "font": {
           "color": "#000000"
          },
          "showarrow": false,
          "text": "8",
          "x": 1.55,
          "xanchor": "left",
          "xref": "x1",
          "y": 73,
          "yref": "y1"
         },
         {
          "align": "left",
          "font": {
           "color": "#000000"
          },
          "showarrow": false,
          "text": "2013",
          "x": -0.45,
          "xanchor": "left",
          "xref": "x1",
          "y": 74,
          "yref": "y1"
         },
         {
          "align": "left",
          "font": {
           "color": "#000000"
          },
          "showarrow": false,
          "text": "Quality Assurance",
          "x": 0.55,
          "xanchor": "left",
          "xref": "x1",
          "y": 74,
          "yref": "y1"
         },
         {
          "align": "left",
          "font": {
           "color": "#000000"
          },
          "showarrow": false,
          "text": "6",
          "x": 1.55,
          "xanchor": "left",
          "xref": "x1",
          "y": 74,
          "yref": "y1"
         },
         {
          "align": "left",
          "font": {
           "color": "#000000"
          },
          "showarrow": false,
          "text": "2013",
          "x": -0.45,
          "xanchor": "left",
          "xref": "x1",
          "y": 75,
          "yref": "y1"
         },
         {
          "align": "left",
          "font": {
           "color": "#000000"
          },
          "showarrow": false,
          "text": "Marketing / Social Media",
          "x": 0.55,
          "xanchor": "left",
          "xref": "x1",
          "y": 75,
          "yref": "y1"
         },
         {
          "align": "left",
          "font": {
           "color": "#000000"
          },
          "showarrow": false,
          "text": "2",
          "x": 1.55,
          "xanchor": "left",
          "xref": "x1",
          "y": 75,
          "yref": "y1"
         },
         {
          "align": "left",
          "font": {
           "color": "#000000"
          },
          "showarrow": false,
          "text": "2013",
          "x": -0.45,
          "xanchor": "left",
          "xref": "x1",
          "y": 76,
          "yref": "y1"
         },
         {
          "align": "left",
          "font": {
           "color": "#000000"
          },
          "showarrow": false,
          "text": "Mozilla Creative & Design",
          "x": 0.55,
          "xanchor": "left",
          "xref": "x1",
          "y": 76,
          "yref": "y1"
         },
         {
          "align": "left",
          "font": {
           "color": "#000000"
          },
          "showarrow": false,
          "text": "2",
          "x": 1.55,
          "xanchor": "left",
          "xref": "x1",
          "y": 76,
          "yref": "y1"
         },
         {
          "align": "left",
          "font": {
           "color": "#000000"
          },
          "showarrow": false,
          "text": "2013",
          "x": -0.45,
          "xanchor": "left",
          "xref": "x1",
          "y": 77,
          "yref": "y1"
         },
         {
          "align": "left",
          "font": {
           "color": "#000000"
          },
          "showarrow": false,
          "text": "Mozilla Developer Network (MDN)",
          "x": 0.55,
          "xanchor": "left",
          "xref": "x1",
          "y": 77,
          "yref": "y1"
         },
         {
          "align": "left",
          "font": {
           "color": "#000000"
          },
          "showarrow": false,
          "text": "2",
          "x": 1.55,
          "xanchor": "left",
          "xref": "x1",
          "y": 77,
          "yref": "y1"
         },
         {
          "align": "left",
          "font": {
           "color": "#000000"
          },
          "showarrow": false,
          "text": "2013",
          "x": -0.45,
          "xanchor": "left",
          "xref": "x1",
          "y": 78,
          "yref": "y1"
         },
         {
          "align": "left",
          "font": {
           "color": "#000000"
          },
          "showarrow": false,
          "text": "Mozilla Science",
          "x": 0.55,
          "xanchor": "left",
          "xref": "x1",
          "y": 78,
          "yref": "y1"
         },
         {
          "align": "left",
          "font": {
           "color": "#000000"
          },
          "showarrow": false,
          "text": "2",
          "x": 1.55,
          "xanchor": "left",
          "xref": "x1",
          "y": 78,
          "yref": "y1"
         },
         {
          "align": "left",
          "font": {
           "color": "#000000"
          },
          "showarrow": false,
          "text": "2013",
          "x": -0.45,
          "xanchor": "left",
          "xref": "x1",
          "y": 79,
          "yref": "y1"
         },
         {
          "align": "left",
          "font": {
           "color": "#000000"
          },
          "showarrow": false,
          "text": "Firefox iOS",
          "x": 0.55,
          "xanchor": "left",
          "xref": "x1",
          "y": 79,
          "yref": "y1"
         },
         {
          "align": "left",
          "font": {
           "color": "#000000"
          },
          "showarrow": false,
          "text": "1",
          "x": 1.55,
          "xanchor": "left",
          "xref": "x1",
          "y": 79,
          "yref": "y1"
         },
         {
          "align": "left",
          "font": {
           "color": "#000000"
          },
          "showarrow": false,
          "text": "2013",
          "x": -0.45,
          "xanchor": "left",
          "xref": "x1",
          "y": 80,
          "yref": "y1"
         },
         {
          "align": "left",
          "font": {
           "color": "#000000"
          },
          "showarrow": false,
          "text": "Not tracked",
          "x": 0.55,
          "xanchor": "left",
          "xref": "x1",
          "y": 80,
          "yref": "y1"
         },
         {
          "align": "left",
          "font": {
           "color": "#000000"
          },
          "showarrow": false,
          "text": "1",
          "x": 1.55,
          "xanchor": "left",
          "xref": "x1",
          "y": 80,
          "yref": "y1"
         },
         {
          "align": "left",
          "font": {
           "color": "#000000"
          },
          "showarrow": false,
          "text": "2012",
          "x": -0.45,
          "xanchor": "left",
          "xref": "x1",
          "y": 81,
          "yref": "y1"
         },
         {
          "align": "left",
          "font": {
           "color": "#000000"
          },
          "showarrow": false,
          "text": "Unknown",
          "x": 0.55,
          "xanchor": "left",
          "xref": "x1",
          "y": 81,
          "yref": "y1"
         },
         {
          "align": "left",
          "font": {
           "color": "#000000"
          },
          "showarrow": false,
          "text": "553",
          "x": 1.55,
          "xanchor": "left",
          "xref": "x1",
          "y": 81,
          "yref": "y1"
         },
         {
          "align": "left",
          "font": {
           "color": "#000000"
          },
          "showarrow": false,
          "text": "2012",
          "x": -0.45,
          "xanchor": "left",
          "xref": "x1",
          "y": 82,
          "yref": "y1"
         },
         {
          "align": "left",
          "font": {
           "color": "#000000"
          },
          "showarrow": false,
          "text": "Gecko",
          "x": 0.55,
          "xanchor": "left",
          "xref": "x1",
          "y": 82,
          "yref": "y1"
         },
         {
          "align": "left",
          "font": {
           "color": "#000000"
          },
          "showarrow": false,
          "text": "226",
          "x": 1.55,
          "xanchor": "left",
          "xref": "x1",
          "y": 82,
          "yref": "y1"
         },
         {
          "align": "left",
          "font": {
           "color": "#000000"
          },
          "showarrow": false,
          "text": "2012",
          "x": -0.45,
          "xanchor": "left",
          "xref": "x1",
          "y": 83,
          "yref": "y1"
         },
         {
          "align": "left",
          "font": {
           "color": "#000000"
          },
          "showarrow": false,
          "text": "Rust",
          "x": 0.55,
          "xanchor": "left",
          "xref": "x1",
          "y": 83,
          "yref": "y1"
         },
         {
          "align": "left",
          "font": {
           "color": "#000000"
          },
          "showarrow": false,
          "text": "89",
          "x": 1.55,
          "xanchor": "left",
          "xref": "x1",
          "y": 83,
          "yref": "y1"
         },
         {
          "align": "left",
          "font": {
           "color": "#000000"
          },
          "showarrow": false,
          "text": "2012",
          "x": -0.45,
          "xanchor": "left",
          "xref": "x1",
          "y": 84,
          "yref": "y1"
         },
         {
          "align": "left",
          "font": {
           "color": "#000000"
          },
          "showarrow": false,
          "text": "Web Properties",
          "x": 0.55,
          "xanchor": "left",
          "xref": "x1",
          "y": 84,
          "yref": "y1"
         },
         {
          "align": "left",
          "font": {
           "color": "#000000"
          },
          "showarrow": false,
          "text": "67",
          "x": 1.55,
          "xanchor": "left",
          "xref": "x1",
          "y": 84,
          "yref": "y1"
         },
         {
          "align": "left",
          "font": {
           "color": "#000000"
          },
          "showarrow": false,
          "text": "2012",
          "x": -0.45,
          "xanchor": "left",
          "xref": "x1",
          "y": 85,
          "yref": "y1"
         },
         {
          "align": "left",
          "font": {
           "color": "#000000"
          },
          "showarrow": false,
          "text": "Servo",
          "x": 0.55,
          "xanchor": "left",
          "xref": "x1",
          "y": 85,
          "yref": "y1"
         },
         {
          "align": "left",
          "font": {
           "color": "#000000"
          },
          "showarrow": false,
          "text": "47",
          "x": 1.55,
          "xanchor": "left",
          "xref": "x1",
          "y": 85,
          "yref": "y1"
         },
         {
          "align": "left",
          "font": {
           "color": "#000000"
          },
          "showarrow": false,
          "text": "2012",
          "x": -0.45,
          "xanchor": "left",
          "xref": "x1",
          "y": 86,
          "yref": "y1"
         },
         {
          "align": "left",
          "font": {
           "color": "#000000"
          },
          "showarrow": false,
          "text": "IT/Ops",
          "x": 0.55,
          "xanchor": "left",
          "xref": "x1",
          "y": 86,
          "yref": "y1"
         },
         {
          "align": "left",
          "font": {
           "color": "#000000"
          },
          "showarrow": false,
          "text": "45",
          "x": 1.55,
          "xanchor": "left",
          "xref": "x1",
          "y": 86,
          "yref": "y1"
         },
         {
          "align": "left",
          "font": {
           "color": "#000000"
          },
          "showarrow": false,
          "text": "2012",
          "x": -0.45,
          "xanchor": "left",
          "xref": "x1",
          "y": 87,
          "yref": "y1"
         },
         {
          "align": "left",
          "font": {
           "color": "#000000"
          },
          "showarrow": false,
          "text": "Mozilla Local/Regional communities",
          "x": 0.55,
          "xanchor": "left",
          "xref": "x1",
          "y": 87,
          "yref": "y1"
         },
         {
          "align": "left",
          "font": {
           "color": "#000000"
          },
          "showarrow": false,
          "text": "38",
          "x": 1.55,
          "xanchor": "left",
          "xref": "x1",
          "y": 87,
          "yref": "y1"
         },
         {
          "align": "left",
          "font": {
           "color": "#000000"
          },
          "showarrow": false,
          "text": "2012",
          "x": -0.45,
          "xanchor": "left",
          "xref": "x1",
          "y": 88,
          "yref": "y1"
         },
         {
          "align": "left",
          "font": {
           "color": "#000000"
          },
          "showarrow": false,
          "text": "Addons/Web Extensions",
          "x": 0.55,
          "xanchor": "left",
          "xref": "x1",
          "y": 88,
          "yref": "y1"
         },
         {
          "align": "left",
          "font": {
           "color": "#000000"
          },
          "showarrow": false,
          "text": "23",
          "x": 1.55,
          "xanchor": "left",
          "xref": "x1",
          "y": 88,
          "yref": "y1"
         },
         {
          "align": "left",
          "font": {
           "color": "#000000"
          },
          "showarrow": false,
          "text": "2012",
          "x": -0.45,
          "xanchor": "left",
          "xref": "x1",
          "y": 89,
          "yref": "y1"
         },
         {
          "align": "left",
          "font": {
           "color": "#000000"
          },
          "showarrow": false,
          "text": "Mozilla Foundation",
          "x": 0.55,
          "xanchor": "left",
          "xref": "x1",
          "y": 89,
          "yref": "y1"
         },
         {
          "align": "left",
          "font": {
           "color": "#000000"
          },
          "showarrow": false,
          "text": "14",
          "x": 1.55,
          "xanchor": "left",
          "xref": "x1",
          "y": 89,
          "yref": "y1"
         },
         {
          "align": "left",
          "font": {
           "color": "#000000"
          },
          "showarrow": false,
          "text": "2012",
          "x": -0.45,
          "xanchor": "left",
          "xref": "x1",
          "y": 90,
          "yref": "y1"
         },
         {
          "align": "left",
          "font": {
           "color": "#000000"
          },
          "showarrow": false,
          "text": "Release engineering",
          "x": 0.55,
          "xanchor": "left",
          "xref": "x1",
          "y": 90,
          "yref": "y1"
         },
         {
          "align": "left",
          "font": {
           "color": "#000000"
          },
          "showarrow": false,
          "text": "13",
          "x": 1.55,
          "xanchor": "left",
          "xref": "x1",
          "y": 90,
          "yref": "y1"
         },
         {
          "align": "left",
          "font": {
           "color": "#000000"
          },
          "showarrow": false,
          "text": "2012",
          "x": -0.45,
          "xanchor": "left",
          "xref": "x1",
          "y": 91,
          "yref": "y1"
         },
         {
          "align": "left",
          "font": {
           "color": "#000000"
          },
          "showarrow": false,
          "text": "Web Literacy",
          "x": 0.55,
          "xanchor": "left",
          "xref": "x1",
          "y": 91,
          "yref": "y1"
         },
         {
          "align": "left",
          "font": {
           "color": "#000000"
          },
          "showarrow": false,
          "text": "9",
          "x": 1.55,
          "xanchor": "left",
          "xref": "x1",
          "y": 91,
          "yref": "y1"
         },
         {
          "align": "left",
          "font": {
           "color": "#000000"
          },
          "showarrow": false,
          "text": "2012",
          "x": -0.45,
          "xanchor": "left",
          "xref": "x1",
          "y": 92,
          "yref": "y1"
         },
         {
          "align": "left",
          "font": {
           "color": "#000000"
          },
          "showarrow": false,
          "text": "Firefox OS (FxOS / B2G)",
          "x": 0.55,
          "xanchor": "left",
          "xref": "x1",
          "y": 92,
          "yref": "y1"
         },
         {
          "align": "left",
          "font": {
           "color": "#000000"
          },
          "showarrow": false,
          "text": "5",
          "x": 1.55,
          "xanchor": "left",
          "xref": "x1",
          "y": 92,
          "yref": "y1"
         },
         {
          "align": "left",
          "font": {
           "color": "#000000"
          },
          "showarrow": false,
          "text": "2012",
          "x": -0.45,
          "xanchor": "left",
          "xref": "x1",
          "y": 93,
          "yref": "y1"
         },
         {
          "align": "left",
          "font": {
           "color": "#000000"
          },
          "showarrow": false,
          "text": "Localization",
          "x": 0.55,
          "xanchor": "left",
          "xref": "x1",
          "y": 93,
          "yref": "y1"
         },
         {
          "align": "left",
          "font": {
           "color": "#000000"
          },
          "showarrow": false,
          "text": "4",
          "x": 1.55,
          "xanchor": "left",
          "xref": "x1",
          "y": 93,
          "yref": "y1"
         },
         {
          "align": "left",
          "font": {
           "color": "#000000"
          },
          "showarrow": false,
          "text": "2012",
          "x": -0.45,
          "xanchor": "left",
          "xref": "x1",
          "y": 94,
          "yref": "y1"
         },
         {
          "align": "left",
          "font": {
           "color": "#000000"
          },
          "showarrow": false,
          "text": "Quality Assurance",
          "x": 0.55,
          "xanchor": "left",
          "xref": "x1",
          "y": 94,
          "yref": "y1"
         },
         {
          "align": "left",
          "font": {
           "color": "#000000"
          },
          "showarrow": false,
          "text": "4",
          "x": 1.55,
          "xanchor": "left",
          "xref": "x1",
          "y": 94,
          "yref": "y1"
         },
         {
          "align": "left",
          "font": {
           "color": "#000000"
          },
          "showarrow": false,
          "text": "2012",
          "x": -0.45,
          "xanchor": "left",
          "xref": "x1",
          "y": 95,
          "yref": "y1"
         },
         {
          "align": "left",
          "font": {
           "color": "#000000"
          },
          "showarrow": false,
          "text": "Firefox iOS",
          "x": 0.55,
          "xanchor": "left",
          "xref": "x1",
          "y": 95,
          "yref": "y1"
         },
         {
          "align": "left",
          "font": {
           "color": "#000000"
          },
          "showarrow": false,
          "text": "1",
          "x": 1.55,
          "xanchor": "left",
          "xref": "x1",
          "y": 95,
          "yref": "y1"
         },
         {
          "align": "left",
          "font": {
           "color": "#000000"
          },
          "showarrow": false,
          "text": "2012",
          "x": -0.45,
          "xanchor": "left",
          "xref": "x1",
          "y": 96,
          "yref": "y1"
         },
         {
          "align": "left",
          "font": {
           "color": "#000000"
          },
          "showarrow": false,
          "text": "Technical/Developer Evangelism",
          "x": 0.55,
          "xanchor": "left",
          "xref": "x1",
          "y": 96,
          "yref": "y1"
         },
         {
          "align": "left",
          "font": {
           "color": "#000000"
          },
          "showarrow": false,
          "text": "1",
          "x": 1.55,
          "xanchor": "left",
          "xref": "x1",
          "y": 96,
          "yref": "y1"
         }
        ],
        "height": 2960,
        "margin": {
         "b": 0,
         "l": 0,
         "r": 0,
         "t": 0
        },
        "xaxis": {
         "dtick": 1,
         "gridwidth": 2,
         "showticklabels": false,
         "tick0": -0.5,
         "ticks": "",
         "zeroline": false
        },
        "yaxis": {
         "autorange": "reversed",
         "dtick": 1,
         "gridwidth": 2,
         "showticklabels": false,
         "tick0": 0.5,
         "ticks": "",
         "zeroline": false
        }
       }
      },
      "text/html": [
       "<div id=\"aed08056-7c42-40eb-bbaa-5a3c17927de7\" style=\"height: 2960px; width: 100%;\" class=\"plotly-graph-div\"></div><script type=\"text/javascript\">require([\"plotly\"], function(Plotly) { window.PLOTLYENV=window.PLOTLYENV || {};window.PLOTLYENV.BASE_URL=\"https://plot.ly\";Plotly.newPlot(\"aed08056-7c42-40eb-bbaa-5a3c17927de7\", [{\"colorscale\": [[0, \"#00083e\"], [0.5, \"#ededee\"], [1, \"#ffffff\"]], \"showscale\": false, \"hoverinfo\": \"none\", \"type\": \"heatmap\", \"z\": [[0, 0, 0], [0.5, 0.5, 0.5], [1, 1, 1], [0.5, 0.5, 0.5], [1, 1, 1], [0.5, 0.5, 0.5], [1, 1, 1], [0.5, 0.5, 0.5], [1, 1, 1], [0.5, 0.5, 0.5], [1, 1, 1], [0.5, 0.5, 0.5], [1, 1, 1], [0.5, 0.5, 0.5], [1, 1, 1], [0.5, 0.5, 0.5], [1, 1, 1], [0.5, 0.5, 0.5], [1, 1, 1], [0.5, 0.5, 0.5], [1, 1, 1], [0.5, 0.5, 0.5], [1, 1, 1], [0.5, 0.5, 0.5], [1, 1, 1], [0.5, 0.5, 0.5], [1, 1, 1], [0.5, 0.5, 0.5], [1, 1, 1], [0.5, 0.5, 0.5], [1, 1, 1], [0.5, 0.5, 0.5], [1, 1, 1], [0.5, 0.5, 0.5], [1, 1, 1], [0.5, 0.5, 0.5], [1, 1, 1], [0.5, 0.5, 0.5], [1, 1, 1], [0.5, 0.5, 0.5], [1, 1, 1], [0.5, 0.5, 0.5], [1, 1, 1], [0.5, 0.5, 0.5], [1, 1, 1], [0.5, 0.5, 0.5], [1, 1, 1], [0.5, 0.5, 0.5], [1, 1, 1], [0.5, 0.5, 0.5], [1, 1, 1], [0.5, 0.5, 0.5], [1, 1, 1], [0.5, 0.5, 0.5], [1, 1, 1], [0.5, 0.5, 0.5], [1, 1, 1], [0.5, 0.5, 0.5], [1, 1, 1], [0.5, 0.5, 0.5], [1, 1, 1], [0.5, 0.5, 0.5], [1, 1, 1], [0.5, 0.5, 0.5], [1, 1, 1], [0.5, 0.5, 0.5], [1, 1, 1], [0.5, 0.5, 0.5], [1, 1, 1], [0.5, 0.5, 0.5], [1, 1, 1], [0.5, 0.5, 0.5], [1, 1, 1], [0.5, 0.5, 0.5], [1, 1, 1], [0.5, 0.5, 0.5], [1, 1, 1], [0.5, 0.5, 0.5], [1, 1, 1], [0.5, 0.5, 0.5], [1, 1, 1], [0.5, 0.5, 0.5], [1, 1, 1], [0.5, 0.5, 0.5], [1, 1, 1], [0.5, 0.5, 0.5], [1, 1, 1], [0.5, 0.5, 0.5], [1, 1, 1], [0.5, 0.5, 0.5], [1, 1, 1], [0.5, 0.5, 0.5], [1, 1, 1], [0.5, 0.5, 0.5], [1, 1, 1], [0.5, 0.5, 0.5], [1, 1, 1]], \"opacity\": 0.75}], {\"annotations\": [{\"xanchor\": \"left\", \"y\": 0, \"showarrow\": false, \"font\": {\"color\": \"#ffffff\"}, \"text\": \"<b>first_commit</b>\", \"align\": \"left\", \"xref\": \"x1\", \"yref\": \"y1\", \"x\": -0.45}, {\"xanchor\": \"left\", \"y\": 0, \"showarrow\": false, \"font\": {\"color\": \"#ffffff\"}, \"text\": \"<b>project</b>\", \"align\": \"left\", \"xref\": \"x1\", \"yref\": \"y1\", \"x\": 0.55}, {\"xanchor\": \"left\", \"y\": 0, \"showarrow\": false, \"font\": {\"color\": \"#ffffff\"}, \"text\": \"<b># authors</b>\", \"align\": \"left\", \"xref\": \"x1\", \"yref\": \"y1\", \"x\": 1.55}, {\"xanchor\": \"left\", \"y\": 1, \"showarrow\": false, \"font\": {\"color\": \"#000000\"}, \"text\": \"2016\", \"align\": \"left\", \"xref\": \"x1\", \"yref\": \"y1\", \"x\": -0.45}, {\"xanchor\": \"left\", \"y\": 1, \"showarrow\": false, \"font\": {\"color\": \"#000000\"}, \"text\": \"Unknown\", \"align\": \"left\", \"xref\": \"x1\", \"yref\": \"y1\", \"x\": 0.55}, {\"xanchor\": \"left\", \"y\": 1, \"showarrow\": false, \"font\": {\"color\": \"#000000\"}, \"text\": \"896\", \"align\": \"left\", \"xref\": \"x1\", \"yref\": \"y1\", \"x\": 1.55}, {\"xanchor\": \"left\", \"y\": 2, \"showarrow\": false, \"font\": {\"color\": \"#000000\"}, \"text\": \"2016\", \"align\": \"left\", \"xref\": \"x1\", \"yref\": \"y1\", \"x\": -0.45}, {\"xanchor\": \"left\", \"y\": 2, \"showarrow\": false, \"font\": {\"color\": \"#000000\"}, \"text\": \"Rust\", \"align\": \"left\", \"xref\": \"x1\", \"yref\": \"y1\", \"x\": 0.55}, {\"xanchor\": \"left\", \"y\": 2, \"showarrow\": false, \"font\": {\"color\": \"#000000\"}, \"text\": \"493\", \"align\": \"left\", \"xref\": \"x1\", \"yref\": \"y1\", \"x\": 1.55}, {\"xanchor\": \"left\", \"y\": 3, \"showarrow\": false, \"font\": {\"color\": \"#000000\"}, \"text\": \"2016\", \"align\": \"left\", \"xref\": \"x1\", \"yref\": \"y1\", \"x\": -0.45}, {\"xanchor\": \"left\", \"y\": 3, \"showarrow\": false, \"font\": {\"color\": \"#000000\"}, \"text\": \"Gecko\", \"align\": \"left\", \"xref\": \"x1\", \"yref\": \"y1\", \"x\": 0.55}, {\"xanchor\": \"left\", \"y\": 3, \"showarrow\": false, \"font\": {\"color\": \"#000000\"}, \"text\": \"286\", \"align\": \"left\", \"xref\": \"x1\", \"yref\": \"y1\", \"x\": 1.55}, {\"xanchor\": \"left\", \"y\": 4, \"showarrow\": false, \"font\": {\"color\": \"#000000\"}, \"text\": \"2016\", \"align\": \"left\", \"xref\": \"x1\", \"yref\": \"y1\", \"x\": -0.45}, {\"xanchor\": \"left\", \"y\": 4, \"showarrow\": false, \"font\": {\"color\": \"#000000\"}, \"text\": \"Servo\", \"align\": \"left\", \"xref\": \"x1\", \"yref\": \"y1\", \"x\": 0.55}, {\"xanchor\": \"left\", \"y\": 4, \"showarrow\": false, \"font\": {\"color\": \"#000000\"}, \"text\": \"194\", \"align\": \"left\", \"xref\": \"x1\", \"yref\": \"y1\", \"x\": 1.55}, {\"xanchor\": \"left\", \"y\": 5, \"showarrow\": false, \"font\": {\"color\": \"#000000\"}, \"text\": \"2016\", \"align\": \"left\", \"xref\": \"x1\", \"yref\": \"y1\", \"x\": -0.45}, {\"xanchor\": \"left\", \"y\": 5, \"showarrow\": false, \"font\": {\"color\": \"#000000\"}, \"text\": \"Web Properties\", \"align\": \"left\", \"xref\": \"x1\", \"yref\": \"y1\", \"x\": 0.55}, {\"xanchor\": \"left\", \"y\": 5, \"showarrow\": false, \"font\": {\"color\": \"#000000\"}, \"text\": \"132\", \"align\": \"left\", \"xref\": \"x1\", \"yref\": \"y1\", \"x\": 1.55}, {\"xanchor\": \"left\", \"y\": 6, \"showarrow\": false, \"font\": {\"color\": \"#000000\"}, \"text\": \"2016\", \"align\": \"left\", \"xref\": \"x1\", \"yref\": \"y1\", \"x\": -0.45}, {\"xanchor\": \"left\", \"y\": 6, \"showarrow\": false, \"font\": {\"color\": \"#000000\"}, \"text\": \"WebVR\", \"align\": \"left\", \"xref\": \"x1\", \"yref\": \"y1\", \"x\": 0.55}, {\"xanchor\": \"left\", \"y\": 6, \"showarrow\": false, \"font\": {\"color\": \"#000000\"}, \"text\": \"113\", \"align\": \"left\", \"xref\": \"x1\", \"yref\": \"y1\", \"x\": 1.55}, {\"xanchor\": \"left\", \"y\": 7, \"showarrow\": false, \"font\": {\"color\": \"#000000\"}, \"text\": \"2016\", \"align\": \"left\", \"xref\": \"x1\", \"yref\": \"y1\", \"x\": -0.45}, {\"xanchor\": \"left\", \"y\": 7, \"showarrow\": false, \"font\": {\"color\": \"#000000\"}, \"text\": \"IT/Ops\", \"align\": \"left\", \"xref\": \"x1\", \"yref\": \"y1\", \"x\": 0.55}, {\"xanchor\": \"left\", \"y\": 7, \"showarrow\": false, \"font\": {\"color\": \"#000000\"}, \"text\": \"100\", \"align\": \"left\", \"xref\": \"x1\", \"yref\": \"y1\", \"x\": 1.55}, {\"xanchor\": \"left\", \"y\": 8, \"showarrow\": false, \"font\": {\"color\": \"#000000\"}, \"text\": \"2016\", \"align\": \"left\", \"xref\": \"x1\", \"yref\": \"y1\", \"x\": -0.45}, {\"xanchor\": \"left\", \"y\": 8, \"showarrow\": false, \"font\": {\"color\": \"#000000\"}, \"text\": \"Mozilla Local/Regional communities\", \"align\": \"left\", \"xref\": \"x1\", \"yref\": \"y1\", \"x\": 0.55}, {\"xanchor\": \"left\", \"y\": 8, \"showarrow\": false, \"font\": {\"color\": \"#000000\"}, \"text\": \"57\", \"align\": \"left\", \"xref\": \"x1\", \"yref\": \"y1\", \"x\": 1.55}, {\"xanchor\": \"left\", \"y\": 9, \"showarrow\": false, \"font\": {\"color\": \"#000000\"}, \"text\": \"2016\", \"align\": \"left\", \"xref\": \"x1\", \"yref\": \"y1\", \"x\": -0.45}, {\"xanchor\": \"left\", \"y\": 9, \"showarrow\": false, \"font\": {\"color\": \"#000000\"}, \"text\": \"Addons/Web Extensions\", \"align\": \"left\", \"xref\": \"x1\", \"yref\": \"y1\", \"x\": 0.55}, {\"xanchor\": \"left\", \"y\": 9, \"showarrow\": false, \"font\": {\"color\": \"#000000\"}, \"text\": \"40\", \"align\": \"left\", \"xref\": \"x1\", \"yref\": \"y1\", \"x\": 1.55}, {\"xanchor\": \"left\", \"y\": 10, \"showarrow\": false, \"font\": {\"color\": \"#000000\"}, \"text\": \"2016\", \"align\": \"left\", \"xref\": \"x1\", \"yref\": \"y1\", \"x\": -0.45}, {\"xanchor\": \"left\", \"y\": 10, \"showarrow\": false, \"font\": {\"color\": \"#000000\"}, \"text\": \"Mozilla Developer Network (MDN)\", \"align\": \"left\", \"xref\": \"x1\", \"yref\": \"y1\", \"x\": 0.55}, {\"xanchor\": \"left\", \"y\": 10, \"showarrow\": false, \"font\": {\"color\": \"#000000\"}, \"text\": \"40\", \"align\": \"left\", \"xref\": \"x1\", \"yref\": \"y1\", \"x\": 1.55}, {\"xanchor\": \"left\", \"y\": 11, \"showarrow\": false, \"font\": {\"color\": \"#000000\"}, \"text\": \"2016\", \"align\": \"left\", \"xref\": \"x1\", \"yref\": \"y1\", \"x\": -0.45}, {\"xanchor\": \"left\", \"y\": 11, \"showarrow\": false, \"font\": {\"color\": \"#000000\"}, \"text\": \"Mozilla Science\", \"align\": \"left\", \"xref\": \"x1\", \"yref\": \"y1\", \"x\": 0.55}, {\"xanchor\": \"left\", \"y\": 11, \"showarrow\": false, \"font\": {\"color\": \"#000000\"}, \"text\": \"32\", \"align\": \"left\", \"xref\": \"x1\", \"yref\": \"y1\", \"x\": 1.55}, {\"xanchor\": \"left\", \"y\": 12, \"showarrow\": false, \"font\": {\"color\": \"#000000\"}, \"text\": \"2016\", \"align\": \"left\", \"xref\": \"x1\", \"yref\": \"y1\", \"x\": -0.45}, {\"xanchor\": \"left\", \"y\": 12, \"showarrow\": false, \"font\": {\"color\": \"#000000\"}, \"text\": \"Firefox iOS\", \"align\": \"left\", \"xref\": \"x1\", \"yref\": \"y1\", \"x\": 0.55}, {\"xanchor\": \"left\", \"y\": 12, \"showarrow\": false, \"font\": {\"color\": \"#000000\"}, \"text\": \"16\", \"align\": \"left\", \"xref\": \"x1\", \"yref\": \"y1\", \"x\": 1.55}, {\"xanchor\": \"left\", \"y\": 13, \"showarrow\": false, \"font\": {\"color\": \"#000000\"}, \"text\": \"2016\", \"align\": \"left\", \"xref\": \"x1\", \"yref\": \"y1\", \"x\": -0.45}, {\"xanchor\": \"left\", \"y\": 13, \"showarrow\": false, \"font\": {\"color\": \"#000000\"}, \"text\": \"Test Pilot\", \"align\": \"left\", \"xref\": \"x1\", \"yref\": \"y1\", \"x\": 0.55}, {\"xanchor\": \"left\", \"y\": 13, \"showarrow\": false, \"font\": {\"color\": \"#000000\"}, \"text\": \"11\", \"align\": \"left\", \"xref\": \"x1\", \"yref\": \"y1\", \"x\": 1.55}, {\"xanchor\": \"left\", \"y\": 14, \"showarrow\": false, \"font\": {\"color\": \"#000000\"}, \"text\": \"2016\", \"align\": \"left\", \"xref\": \"x1\", \"yref\": \"y1\", \"x\": -0.45}, {\"xanchor\": \"left\", \"y\": 14, \"showarrow\": false, \"font\": {\"color\": \"#000000\"}, \"text\": \"Mozilla Foundation\", \"align\": \"left\", \"xref\": \"x1\", \"yref\": \"y1\", \"x\": 0.55}, {\"xanchor\": \"left\", \"y\": 14, \"showarrow\": false, \"font\": {\"color\": \"#000000\"}, \"text\": \"8\", \"align\": \"left\", \"xref\": \"x1\", \"yref\": \"y1\", \"x\": 1.55}, {\"xanchor\": \"left\", \"y\": 15, \"showarrow\": false, \"font\": {\"color\": \"#000000\"}, \"text\": \"2016\", \"align\": \"left\", \"xref\": \"x1\", \"yref\": \"y1\", \"x\": -0.45}, {\"xanchor\": \"left\", \"y\": 15, \"showarrow\": false, \"font\": {\"color\": \"#000000\"}, \"text\": \"Mozilla Creative & Design\", \"align\": \"left\", \"xref\": \"x1\", \"yref\": \"y1\", \"x\": 0.55}, {\"xanchor\": \"left\", \"y\": 15, \"showarrow\": false, \"font\": {\"color\": \"#000000\"}, \"text\": \"7\", \"align\": \"left\", \"xref\": \"x1\", \"yref\": \"y1\", \"x\": 1.55}, {\"xanchor\": \"left\", \"y\": 16, \"showarrow\": false, \"font\": {\"color\": \"#000000\"}, \"text\": \"2016\", \"align\": \"left\", \"xref\": \"x1\", \"yref\": \"y1\", \"x\": -0.45}, {\"xanchor\": \"left\", \"y\": 16, \"showarrow\": false, \"font\": {\"color\": \"#000000\"}, \"text\": \"Advocacy and policy\", \"align\": \"left\", \"xref\": \"x1\", \"yref\": \"y1\", \"x\": 0.55}, {\"xanchor\": \"left\", \"y\": 16, \"showarrow\": false, \"font\": {\"color\": \"#000000\"}, \"text\": \"6\", \"align\": \"left\", \"xref\": \"x1\", \"yref\": \"y1\", \"x\": 1.55}, {\"xanchor\": \"left\", \"y\": 17, \"showarrow\": false, \"font\": {\"color\": \"#000000\"}, \"text\": \"2016\", \"align\": \"left\", \"xref\": \"x1\", \"yref\": \"y1\", \"x\": -0.45}, {\"xanchor\": \"left\", \"y\": 17, \"showarrow\": false, \"font\": {\"color\": \"#000000\"}, \"text\": \"Localization\", \"align\": \"left\", \"xref\": \"x1\", \"yref\": \"y1\", \"x\": 0.55}, {\"xanchor\": \"left\", \"y\": 17, \"showarrow\": false, \"font\": {\"color\": \"#000000\"}, \"text\": \"4\", \"align\": \"left\", \"xref\": \"x1\", \"yref\": \"y1\", \"x\": 1.55}, {\"xanchor\": \"left\", \"y\": 18, \"showarrow\": false, \"font\": {\"color\": \"#000000\"}, \"text\": \"2016\", \"align\": \"left\", \"xref\": \"x1\", \"yref\": \"y1\", \"x\": -0.45}, {\"xanchor\": \"left\", \"y\": 18, \"showarrow\": false, \"font\": {\"color\": \"#000000\"}, \"text\": \"Release engineering\", \"align\": \"left\", \"xref\": \"x1\", \"yref\": \"y1\", \"x\": 0.55}, {\"xanchor\": \"left\", \"y\": 18, \"showarrow\": false, \"font\": {\"color\": \"#000000\"}, \"text\": \"3\", \"align\": \"left\", \"xref\": \"x1\", \"yref\": \"y1\", \"x\": 1.55}, {\"xanchor\": \"left\", \"y\": 19, \"showarrow\": false, \"font\": {\"color\": \"#000000\"}, \"text\": \"2016\", \"align\": \"left\", \"xref\": \"x1\", \"yref\": \"y1\", \"x\": -0.45}, {\"xanchor\": \"left\", \"y\": 19, \"showarrow\": false, \"font\": {\"color\": \"#000000\"}, \"text\": \"Technical/Developer Evangelism\", \"align\": \"left\", \"xref\": \"x1\", \"yref\": \"y1\", \"x\": 0.55}, {\"xanchor\": \"left\", \"y\": 19, \"showarrow\": false, \"font\": {\"color\": \"#000000\"}, \"text\": \"3\", \"align\": \"left\", \"xref\": \"x1\", \"yref\": \"y1\", \"x\": 1.55}, {\"xanchor\": \"left\", \"y\": 20, \"showarrow\": false, \"font\": {\"color\": \"#000000\"}, \"text\": \"2016\", \"align\": \"left\", \"xref\": \"x1\", \"yref\": \"y1\", \"x\": -0.45}, {\"xanchor\": \"left\", \"y\": 20, \"showarrow\": false, \"font\": {\"color\": \"#000000\"}, \"text\": \"Campus Clubs (previously Student Ambassadors)\", \"align\": \"left\", \"xref\": \"x1\", \"yref\": \"y1\", \"x\": 0.55}, {\"xanchor\": \"left\", \"y\": 20, \"showarrow\": false, \"font\": {\"color\": \"#000000\"}, \"text\": \"2\", \"align\": \"left\", \"xref\": \"x1\", \"yref\": \"y1\", \"x\": 1.55}, {\"xanchor\": \"left\", \"y\": 21, \"showarrow\": false, \"font\": {\"color\": \"#000000\"}, \"text\": \"2015\", \"align\": \"left\", \"xref\": \"x1\", \"yref\": \"y1\", \"x\": -0.45}, {\"xanchor\": \"left\", \"y\": 21, \"showarrow\": false, \"font\": {\"color\": \"#000000\"}, \"text\": \"Unknown\", \"align\": \"left\", \"xref\": \"x1\", \"yref\": \"y1\", \"x\": 0.55}, {\"xanchor\": \"left\", \"y\": 21, \"showarrow\": false, \"font\": {\"color\": \"#000000\"}, \"text\": \"1005\", \"align\": \"left\", \"xref\": \"x1\", \"yref\": \"y1\", \"x\": 1.55}, {\"xanchor\": \"left\", \"y\": 22, \"showarrow\": false, \"font\": {\"color\": \"#000000\"}, \"text\": \"2015\", \"align\": \"left\", \"xref\": \"x1\", \"yref\": \"y1\", \"x\": -0.45}, {\"xanchor\": \"left\", \"y\": 22, \"showarrow\": false, \"font\": {\"color\": \"#000000\"}, \"text\": \"Rust\", \"align\": \"left\", \"xref\": \"x1\", \"yref\": \"y1\", \"x\": 0.55}, {\"xanchor\": \"left\", \"y\": 22, \"showarrow\": false, \"font\": {\"color\": \"#000000\"}, \"text\": \"642\", \"align\": \"left\", \"xref\": \"x1\", \"yref\": \"y1\", \"x\": 1.55}, {\"xanchor\": \"left\", \"y\": 23, \"showarrow\": false, \"font\": {\"color\": \"#000000\"}, \"text\": \"2015\", \"align\": \"left\", \"xref\": \"x1\", \"yref\": \"y1\", \"x\": -0.45}, {\"xanchor\": \"left\", \"y\": 23, \"showarrow\": false, \"font\": {\"color\": \"#000000\"}, \"text\": \"Gecko\", \"align\": \"left\", \"xref\": \"x1\", \"yref\": \"y1\", \"x\": 0.55}, {\"xanchor\": \"left\", \"y\": 23, \"showarrow\": false, \"font\": {\"color\": \"#000000\"}, \"text\": \"242\", \"align\": \"left\", \"xref\": \"x1\", \"yref\": \"y1\", \"x\": 1.55}, {\"xanchor\": \"left\", \"y\": 24, \"showarrow\": false, \"font\": {\"color\": \"#000000\"}, \"text\": \"2015\", \"align\": \"left\", \"xref\": \"x1\", \"yref\": \"y1\", \"x\": -0.45}, {\"xanchor\": \"left\", \"y\": 24, \"showarrow\": false, \"font\": {\"color\": \"#000000\"}, \"text\": \"Servo\", \"align\": \"left\", \"xref\": \"x1\", \"yref\": \"y1\", \"x\": 0.55}, {\"xanchor\": \"left\", \"y\": 24, \"showarrow\": false, \"font\": {\"color\": \"#000000\"}, \"text\": \"168\", \"align\": \"left\", \"xref\": \"x1\", \"yref\": \"y1\", \"x\": 1.55}, {\"xanchor\": \"left\", \"y\": 25, \"showarrow\": false, \"font\": {\"color\": \"#000000\"}, \"text\": \"2015\", \"align\": \"left\", \"xref\": \"x1\", \"yref\": \"y1\", \"x\": -0.45}, {\"xanchor\": \"left\", \"y\": 25, \"showarrow\": false, \"font\": {\"color\": \"#000000\"}, \"text\": \"Web Properties\", \"align\": \"left\", \"xref\": \"x1\", \"yref\": \"y1\", \"x\": 0.55}, {\"xanchor\": \"left\", \"y\": 25, \"showarrow\": false, \"font\": {\"color\": \"#000000\"}, \"text\": \"160\", \"align\": \"left\", \"xref\": \"x1\", \"yref\": \"y1\", \"x\": 1.55}, {\"xanchor\": \"left\", \"y\": 26, \"showarrow\": false, \"font\": {\"color\": \"#000000\"}, \"text\": \"2015\", \"align\": \"left\", \"xref\": \"x1\", \"yref\": \"y1\", \"x\": -0.45}, {\"xanchor\": \"left\", \"y\": 26, \"showarrow\": false, \"font\": {\"color\": \"#000000\"}, \"text\": \"IT/Ops\", \"align\": \"left\", \"xref\": \"x1\", \"yref\": \"y1\", \"x\": 0.55}, {\"xanchor\": \"left\", \"y\": 26, \"showarrow\": false, \"font\": {\"color\": \"#000000\"}, \"text\": \"86\", \"align\": \"left\", \"xref\": \"x1\", \"yref\": \"y1\", \"x\": 1.55}, {\"xanchor\": \"left\", \"y\": 27, \"showarrow\": false, \"font\": {\"color\": \"#000000\"}, \"text\": \"2015\", \"align\": \"left\", \"xref\": \"x1\", \"yref\": \"y1\", \"x\": -0.45}, {\"xanchor\": \"left\", \"y\": 27, \"showarrow\": false, \"font\": {\"color\": \"#000000\"}, \"text\": \"Mozilla Local/Regional communities\", \"align\": \"left\", \"xref\": \"x1\", \"yref\": \"y1\", \"x\": 0.55}, {\"xanchor\": \"left\", \"y\": 27, \"showarrow\": false, \"font\": {\"color\": \"#000000\"}, \"text\": \"60\", \"align\": \"left\", \"xref\": \"x1\", \"yref\": \"y1\", \"x\": 1.55}, {\"xanchor\": \"left\", \"y\": 28, \"showarrow\": false, \"font\": {\"color\": \"#000000\"}, \"text\": \"2015\", \"align\": \"left\", \"xref\": \"x1\", \"yref\": \"y1\", \"x\": -0.45}, {\"xanchor\": \"left\", \"y\": 28, \"showarrow\": false, \"font\": {\"color\": \"#000000\"}, \"text\": \"Mozilla Science\", \"align\": \"left\", \"xref\": \"x1\", \"yref\": \"y1\", \"x\": 0.55}, {\"xanchor\": \"left\", \"y\": 28, \"showarrow\": false, \"font\": {\"color\": \"#000000\"}, \"text\": \"41\", \"align\": \"left\", \"xref\": \"x1\", \"yref\": \"y1\", \"x\": 1.55}, {\"xanchor\": \"left\", \"y\": 29, \"showarrow\": false, \"font\": {\"color\": \"#000000\"}, \"text\": \"2015\", \"align\": \"left\", \"xref\": \"x1\", \"yref\": \"y1\", \"x\": -0.45}, {\"xanchor\": \"left\", \"y\": 29, \"showarrow\": false, \"font\": {\"color\": \"#000000\"}, \"text\": \"Firefox iOS\", \"align\": \"left\", \"xref\": \"x1\", \"yref\": \"y1\", \"x\": 0.55}, {\"xanchor\": \"left\", \"y\": 29, \"showarrow\": false, \"font\": {\"color\": \"#000000\"}, \"text\": \"30\", \"align\": \"left\", \"xref\": \"x1\", \"yref\": \"y1\", \"x\": 1.55}, {\"xanchor\": \"left\", \"y\": 30, \"showarrow\": false, \"font\": {\"color\": \"#000000\"}, \"text\": \"2015\", \"align\": \"left\", \"xref\": \"x1\", \"yref\": \"y1\", \"x\": -0.45}, {\"xanchor\": \"left\", \"y\": 30, \"showarrow\": false, \"font\": {\"color\": \"#000000\"}, \"text\": \"Mozilla Developer Network (MDN)\", \"align\": \"left\", \"xref\": \"x1\", \"yref\": \"y1\", \"x\": 0.55}, {\"xanchor\": \"left\", \"y\": 30, \"showarrow\": false, \"font\": {\"color\": \"#000000\"}, \"text\": \"25\", \"align\": \"left\", \"xref\": \"x1\", \"yref\": \"y1\", \"x\": 1.55}, {\"xanchor\": \"left\", \"y\": 31, \"showarrow\": false, \"font\": {\"color\": \"#000000\"}, \"text\": \"2015\", \"align\": \"left\", \"xref\": \"x1\", \"yref\": \"y1\", \"x\": -0.45}, {\"xanchor\": \"left\", \"y\": 31, \"showarrow\": false, \"font\": {\"color\": \"#000000\"}, \"text\": \"Addons/Web Extensions\", \"align\": \"left\", \"xref\": \"x1\", \"yref\": \"y1\", \"x\": 0.55}, {\"xanchor\": \"left\", \"y\": 31, \"showarrow\": false, \"font\": {\"color\": \"#000000\"}, \"text\": \"24\", \"align\": \"left\", \"xref\": \"x1\", \"yref\": \"y1\", \"x\": 1.55}, {\"xanchor\": \"left\", \"y\": 32, \"showarrow\": false, \"font\": {\"color\": \"#000000\"}, \"text\": \"2015\", \"align\": \"left\", \"xref\": \"x1\", \"yref\": \"y1\", \"x\": -0.45}, {\"xanchor\": \"left\", \"y\": 32, \"showarrow\": false, \"font\": {\"color\": \"#000000\"}, \"text\": \"Firefox OS (FxOS / B2G)\", \"align\": \"left\", \"xref\": \"x1\", \"yref\": \"y1\", \"x\": 0.55}, {\"xanchor\": \"left\", \"y\": 32, \"showarrow\": false, \"font\": {\"color\": \"#000000\"}, \"text\": \"22\", \"align\": \"left\", \"xref\": \"x1\", \"yref\": \"y1\", \"x\": 1.55}, {\"xanchor\": \"left\", \"y\": 33, \"showarrow\": false, \"font\": {\"color\": \"#000000\"}, \"text\": \"2015\", \"align\": \"left\", \"xref\": \"x1\", \"yref\": \"y1\", \"x\": -0.45}, {\"xanchor\": \"left\", \"y\": 33, \"showarrow\": false, \"font\": {\"color\": \"#000000\"}, \"text\": \"WebVR\", \"align\": \"left\", \"xref\": \"x1\", \"yref\": \"y1\", \"x\": 0.55}, {\"xanchor\": \"left\", \"y\": 33, \"showarrow\": false, \"font\": {\"color\": \"#000000\"}, \"text\": \"16\", \"align\": \"left\", \"xref\": \"x1\", \"yref\": \"y1\", \"x\": 1.55}, {\"xanchor\": \"left\", \"y\": 34, \"showarrow\": false, \"font\": {\"color\": \"#000000\"}, \"text\": \"2015\", \"align\": \"left\", \"xref\": \"x1\", \"yref\": \"y1\", \"x\": -0.45}, {\"xanchor\": \"left\", \"y\": 34, \"showarrow\": false, \"font\": {\"color\": \"#000000\"}, \"text\": \"Release engineering\", \"align\": \"left\", \"xref\": \"x1\", \"yref\": \"y1\", \"x\": 0.55}, {\"xanchor\": \"left\", \"y\": 34, \"showarrow\": false, \"font\": {\"color\": \"#000000\"}, \"text\": \"11\", \"align\": \"left\", \"xref\": \"x1\", \"yref\": \"y1\", \"x\": 1.55}, {\"xanchor\": \"left\", \"y\": 35, \"showarrow\": false, \"font\": {\"color\": \"#000000\"}, \"text\": \"2015\", \"align\": \"left\", \"xref\": \"x1\", \"yref\": \"y1\", \"x\": -0.45}, {\"xanchor\": \"left\", \"y\": 35, \"showarrow\": false, \"font\": {\"color\": \"#000000\"}, \"text\": \"Web Literacy\", \"align\": \"left\", \"xref\": \"x1\", \"yref\": \"y1\", \"x\": 0.55}, {\"xanchor\": \"left\", \"y\": 35, \"showarrow\": false, \"font\": {\"color\": \"#000000\"}, \"text\": \"11\", \"align\": \"left\", \"xref\": \"x1\", \"yref\": \"y1\", \"x\": 1.55}, {\"xanchor\": \"left\", \"y\": 36, \"showarrow\": false, \"font\": {\"color\": \"#000000\"}, \"text\": \"2015\", \"align\": \"left\", \"xref\": \"x1\", \"yref\": \"y1\", \"x\": -0.45}, {\"xanchor\": \"left\", \"y\": 36, \"showarrow\": false, \"font\": {\"color\": \"#000000\"}, \"text\": \"Mozilla Location Service (MLS) / Stumbler\", \"align\": \"left\", \"xref\": \"x1\", \"yref\": \"y1\", \"x\": 0.55}, {\"xanchor\": \"left\", \"y\": 36, \"showarrow\": false, \"font\": {\"color\": \"#000000\"}, \"text\": \"4\", \"align\": \"left\", \"xref\": \"x1\", \"yref\": \"y1\", \"x\": 1.55}, {\"xanchor\": \"left\", \"y\": 37, \"showarrow\": false, \"font\": {\"color\": \"#000000\"}, \"text\": \"2015\", \"align\": \"left\", \"xref\": \"x1\", \"yref\": \"y1\", \"x\": -0.45}, {\"xanchor\": \"left\", \"y\": 37, \"showarrow\": false, \"font\": {\"color\": \"#000000\"}, \"text\": \"Advocacy and policy\", \"align\": \"left\", \"xref\": \"x1\", \"yref\": \"y1\", \"x\": 0.55}, {\"xanchor\": \"left\", \"y\": 37, \"showarrow\": false, \"font\": {\"color\": \"#000000\"}, \"text\": \"3\", \"align\": \"left\", \"xref\": \"x1\", \"yref\": \"y1\", \"x\": 1.55}, {\"xanchor\": \"left\", \"y\": 38, \"showarrow\": false, \"font\": {\"color\": \"#000000\"}, \"text\": \"2015\", \"align\": \"left\", \"xref\": \"x1\", \"yref\": \"y1\", \"x\": -0.45}, {\"xanchor\": \"left\", \"y\": 38, \"showarrow\": false, \"font\": {\"color\": \"#000000\"}, \"text\": \"Mozilla Clubs\", \"align\": \"left\", \"xref\": \"x1\", \"yref\": \"y1\", \"x\": 0.55}, {\"xanchor\": \"left\", \"y\": 38, \"showarrow\": false, \"font\": {\"color\": \"#000000\"}, \"text\": \"3\", \"align\": \"left\", \"xref\": \"x1\", \"yref\": \"y1\", \"x\": 1.55}, {\"xanchor\": \"left\", \"y\": 39, \"showarrow\": false, \"font\": {\"color\": \"#000000\"}, \"text\": \"2015\", \"align\": \"left\", \"xref\": \"x1\", \"yref\": \"y1\", \"x\": -0.45}, {\"xanchor\": \"left\", \"y\": 39, \"showarrow\": false, \"font\": {\"color\": \"#000000\"}, \"text\": \"Developer Tools\", \"align\": \"left\", \"xref\": \"x1\", \"yref\": \"y1\", \"x\": 0.55}, {\"xanchor\": \"left\", \"y\": 39, \"showarrow\": false, \"font\": {\"color\": \"#000000\"}, \"text\": \"2\", \"align\": \"left\", \"xref\": \"x1\", \"yref\": \"y1\", \"x\": 1.55}, {\"xanchor\": \"left\", \"y\": 40, \"showarrow\": false, \"font\": {\"color\": \"#000000\"}, \"text\": \"2015\", \"align\": \"left\", \"xref\": \"x1\", \"yref\": \"y1\", \"x\": -0.45}, {\"xanchor\": \"left\", \"y\": 40, \"showarrow\": false, \"font\": {\"color\": \"#000000\"}, \"text\": \"Mozilla Creative & Design\", \"align\": \"left\", \"xref\": \"x1\", \"yref\": \"y1\", \"x\": 0.55}, {\"xanchor\": \"left\", \"y\": 40, \"showarrow\": false, \"font\": {\"color\": \"#000000\"}, \"text\": \"2\", \"align\": \"left\", \"xref\": \"x1\", \"yref\": \"y1\", \"x\": 1.55}, {\"xanchor\": \"left\", \"y\": 41, \"showarrow\": false, \"font\": {\"color\": \"#000000\"}, \"text\": \"2014\", \"align\": \"left\", \"xref\": \"x1\", \"yref\": \"y1\", \"x\": -0.45}, {\"xanchor\": \"left\", \"y\": 41, \"showarrow\": false, \"font\": {\"color\": \"#000000\"}, \"text\": \"Unknown\", \"align\": \"left\", \"xref\": \"x1\", \"yref\": \"y1\", \"x\": 0.55}, {\"xanchor\": \"left\", \"y\": 41, \"showarrow\": false, \"font\": {\"color\": \"#000000\"}, \"text\": \"886\", \"align\": \"left\", \"xref\": \"x1\", \"yref\": \"y1\", \"x\": 1.55}, {\"xanchor\": \"left\", \"y\": 42, \"showarrow\": false, \"font\": {\"color\": \"#000000\"}, \"text\": \"2014\", \"align\": \"left\", \"xref\": \"x1\", \"yref\": \"y1\", \"x\": -0.45}, {\"xanchor\": \"left\", \"y\": 42, \"showarrow\": false, \"font\": {\"color\": \"#000000\"}, \"text\": \"Rust\", \"align\": \"left\", \"xref\": \"x1\", \"yref\": \"y1\", \"x\": 0.55}, {\"xanchor\": \"left\", \"y\": 42, \"showarrow\": false, \"font\": {\"color\": \"#000000\"}, \"text\": \"523\", \"align\": \"left\", \"xref\": \"x1\", \"yref\": \"y1\", \"x\": 1.55}, {\"xanchor\": \"left\", \"y\": 43, \"showarrow\": false, \"font\": {\"color\": \"#000000\"}, \"text\": \"2014\", \"align\": \"left\", \"xref\": \"x1\", \"yref\": \"y1\", \"x\": -0.45}, {\"xanchor\": \"left\", \"y\": 43, \"showarrow\": false, \"font\": {\"color\": \"#000000\"}, \"text\": \"Gecko\", \"align\": \"left\", \"xref\": \"x1\", \"yref\": \"y1\", \"x\": 0.55}, {\"xanchor\": \"left\", \"y\": 43, \"showarrow\": false, \"font\": {\"color\": \"#000000\"}, \"text\": \"299\", \"align\": \"left\", \"xref\": \"x1\", \"yref\": \"y1\", \"x\": 1.55}, {\"xanchor\": \"left\", \"y\": 44, \"showarrow\": false, \"font\": {\"color\": \"#000000\"}, \"text\": \"2014\", \"align\": \"left\", \"xref\": \"x1\", \"yref\": \"y1\", \"x\": -0.45}, {\"xanchor\": \"left\", \"y\": 44, \"showarrow\": false, \"font\": {\"color\": \"#000000\"}, \"text\": \"Web Properties\", \"align\": \"left\", \"xref\": \"x1\", \"yref\": \"y1\", \"x\": 0.55}, {\"xanchor\": \"left\", \"y\": 44, \"showarrow\": false, \"font\": {\"color\": \"#000000\"}, \"text\": \"131\", \"align\": \"left\", \"xref\": \"x1\", \"yref\": \"y1\", \"x\": 1.55}, {\"xanchor\": \"left\", \"y\": 45, \"showarrow\": false, \"font\": {\"color\": \"#000000\"}, \"text\": \"2014\", \"align\": \"left\", \"xref\": \"x1\", \"yref\": \"y1\", \"x\": -0.45}, {\"xanchor\": \"left\", \"y\": 45, \"showarrow\": false, \"font\": {\"color\": \"#000000\"}, \"text\": \"Servo\", \"align\": \"left\", \"xref\": \"x1\", \"yref\": \"y1\", \"x\": 0.55}, {\"xanchor\": \"left\", \"y\": 45, \"showarrow\": false, \"font\": {\"color\": \"#000000\"}, \"text\": \"124\", \"align\": \"left\", \"xref\": \"x1\", \"yref\": \"y1\", \"x\": 1.55}, {\"xanchor\": \"left\", \"y\": 46, \"showarrow\": false, \"font\": {\"color\": \"#000000\"}, \"text\": \"2014\", \"align\": \"left\", \"xref\": \"x1\", \"yref\": \"y1\", \"x\": -0.45}, {\"xanchor\": \"left\", \"y\": 46, \"showarrow\": false, \"font\": {\"color\": \"#000000\"}, \"text\": \"Mozilla Local/Regional communities\", \"align\": \"left\", \"xref\": \"x1\", \"yref\": \"y1\", \"x\": 0.55}, {\"xanchor\": \"left\", \"y\": 46, \"showarrow\": false, \"font\": {\"color\": \"#000000\"}, \"text\": \"104\", \"align\": \"left\", \"xref\": \"x1\", \"yref\": \"y1\", \"x\": 1.55}, {\"xanchor\": \"left\", \"y\": 47, \"showarrow\": false, \"font\": {\"color\": \"#000000\"}, \"text\": \"2014\", \"align\": \"left\", \"xref\": \"x1\", \"yref\": \"y1\", \"x\": -0.45}, {\"xanchor\": \"left\", \"y\": 47, \"showarrow\": false, \"font\": {\"color\": \"#000000\"}, \"text\": \"IT/Ops\", \"align\": \"left\", \"xref\": \"x1\", \"yref\": \"y1\", \"x\": 0.55}, {\"xanchor\": \"left\", \"y\": 47, \"showarrow\": false, \"font\": {\"color\": \"#000000\"}, \"text\": \"91\", \"align\": \"left\", \"xref\": \"x1\", \"yref\": \"y1\", \"x\": 1.55}, {\"xanchor\": \"left\", \"y\": 48, \"showarrow\": false, \"font\": {\"color\": \"#000000\"}, \"text\": \"2014\", \"align\": \"left\", \"xref\": \"x1\", \"yref\": \"y1\", \"x\": -0.45}, {\"xanchor\": \"left\", \"y\": 48, \"showarrow\": false, \"font\": {\"color\": \"#000000\"}, \"text\": \"Web Literacy\", \"align\": \"left\", \"xref\": \"x1\", \"yref\": \"y1\", \"x\": 0.55}, {\"xanchor\": \"left\", \"y\": 48, \"showarrow\": false, \"font\": {\"color\": \"#000000\"}, \"text\": \"45\", \"align\": \"left\", \"xref\": \"x1\", \"yref\": \"y1\", \"x\": 1.55}, {\"xanchor\": \"left\", \"y\": 49, \"showarrow\": false, \"font\": {\"color\": \"#000000\"}, \"text\": \"2014\", \"align\": \"left\", \"xref\": \"x1\", \"yref\": \"y1\", \"x\": -0.45}, {\"xanchor\": \"left\", \"y\": 49, \"showarrow\": false, \"font\": {\"color\": \"#000000\"}, \"text\": \"Mozilla Location Service (MLS) / Stumbler\", \"align\": \"left\", \"xref\": \"x1\", \"yref\": \"y1\", \"x\": 0.55}, {\"xanchor\": \"left\", \"y\": 49, \"showarrow\": false, \"font\": {\"color\": \"#000000\"}, \"text\": \"41\", \"align\": \"left\", \"xref\": \"x1\", \"yref\": \"y1\", \"x\": 1.55}, {\"xanchor\": \"left\", \"y\": 50, \"showarrow\": false, \"font\": {\"color\": \"#000000\"}, \"text\": \"2014\", \"align\": \"left\", \"xref\": \"x1\", \"yref\": \"y1\", \"x\": -0.45}, {\"xanchor\": \"left\", \"y\": 50, \"showarrow\": false, \"font\": {\"color\": \"#000000\"}, \"text\": \"Addons/Web Extensions\", \"align\": \"left\", \"xref\": \"x1\", \"yref\": \"y1\", \"x\": 0.55}, {\"xanchor\": \"left\", \"y\": 50, \"showarrow\": false, \"font\": {\"color\": \"#000000\"}, \"text\": \"32\", \"align\": \"left\", \"xref\": \"x1\", \"yref\": \"y1\", \"x\": 1.55}, {\"xanchor\": \"left\", \"y\": 51, \"showarrow\": false, \"font\": {\"color\": \"#000000\"}, \"text\": \"2014\", \"align\": \"left\", \"xref\": \"x1\", \"yref\": \"y1\", \"x\": -0.45}, {\"xanchor\": \"left\", \"y\": 51, \"showarrow\": false, \"font\": {\"color\": \"#000000\"}, \"text\": \"Mozilla Foundation\", \"align\": \"left\", \"xref\": \"x1\", \"yref\": \"y1\", \"x\": 0.55}, {\"xanchor\": \"left\", \"y\": 51, \"showarrow\": false, \"font\": {\"color\": \"#000000\"}, \"text\": \"14\", \"align\": \"left\", \"xref\": \"x1\", \"yref\": \"y1\", \"x\": 1.55}, {\"xanchor\": \"left\", \"y\": 52, \"showarrow\": false, \"font\": {\"color\": \"#000000\"}, \"text\": \"2014\", \"align\": \"left\", \"xref\": \"x1\", \"yref\": \"y1\", \"x\": -0.45}, {\"xanchor\": \"left\", \"y\": 52, \"showarrow\": false, \"font\": {\"color\": \"#000000\"}, \"text\": \"Firefox OS (FxOS / B2G)\", \"align\": \"left\", \"xref\": \"x1\", \"yref\": \"y1\", \"x\": 0.55}, {\"xanchor\": \"left\", \"y\": 52, \"showarrow\": false, \"font\": {\"color\": \"#000000\"}, \"text\": \"12\", \"align\": \"left\", \"xref\": \"x1\", \"yref\": \"y1\", \"x\": 1.55}, {\"xanchor\": \"left\", \"y\": 53, \"showarrow\": false, \"font\": {\"color\": \"#000000\"}, \"text\": \"2014\", \"align\": \"left\", \"xref\": \"x1\", \"yref\": \"y1\", \"x\": -0.45}, {\"xanchor\": \"left\", \"y\": 53, \"showarrow\": false, \"font\": {\"color\": \"#000000\"}, \"text\": \"Mozilla Science\", \"align\": \"left\", \"xref\": \"x1\", \"yref\": \"y1\", \"x\": 0.55}, {\"xanchor\": \"left\", \"y\": 53, \"showarrow\": false, \"font\": {\"color\": \"#000000\"}, \"text\": \"11\", \"align\": \"left\", \"xref\": \"x1\", \"yref\": \"y1\", \"x\": 1.55}, {\"xanchor\": \"left\", \"y\": 54, \"showarrow\": false, \"font\": {\"color\": \"#000000\"}, \"text\": \"2014\", \"align\": \"left\", \"xref\": \"x1\", \"yref\": \"y1\", \"x\": -0.45}, {\"xanchor\": \"left\", \"y\": 54, \"showarrow\": false, \"font\": {\"color\": \"#000000\"}, \"text\": \"Release engineering\", \"align\": \"left\", \"xref\": \"x1\", \"yref\": \"y1\", \"x\": 0.55}, {\"xanchor\": \"left\", \"y\": 54, \"showarrow\": false, \"font\": {\"color\": \"#000000\"}, \"text\": \"11\", \"align\": \"left\", \"xref\": \"x1\", \"yref\": \"y1\", \"x\": 1.55}, {\"xanchor\": \"left\", \"y\": 55, \"showarrow\": false, \"font\": {\"color\": \"#000000\"}, \"text\": \"2014\", \"align\": \"left\", \"xref\": \"x1\", \"yref\": \"y1\", \"x\": -0.45}, {\"xanchor\": \"left\", \"y\": 55, \"showarrow\": false, \"font\": {\"color\": \"#000000\"}, \"text\": \"Quality Assurance\", \"align\": \"left\", \"xref\": \"x1\", \"yref\": \"y1\", \"x\": 0.55}, {\"xanchor\": \"left\", \"y\": 55, \"showarrow\": false, \"font\": {\"color\": \"#000000\"}, \"text\": \"8\", \"align\": \"left\", \"xref\": \"x1\", \"yref\": \"y1\", \"x\": 1.55}, {\"xanchor\": \"left\", \"y\": 56, \"showarrow\": false, \"font\": {\"color\": \"#000000\"}, \"text\": \"2014\", \"align\": \"left\", \"xref\": \"x1\", \"yref\": \"y1\", \"x\": -0.45}, {\"xanchor\": \"left\", \"y\": 56, \"showarrow\": false, \"font\": {\"color\": \"#000000\"}, \"text\": \"Marketing / Social Media\", \"align\": \"left\", \"xref\": \"x1\", \"yref\": \"y1\", \"x\": 0.55}, {\"xanchor\": \"left\", \"y\": 56, \"showarrow\": false, \"font\": {\"color\": \"#000000\"}, \"text\": \"6\", \"align\": \"left\", \"xref\": \"x1\", \"yref\": \"y1\", \"x\": 1.55}, {\"xanchor\": \"left\", \"y\": 57, \"showarrow\": false, \"font\": {\"color\": \"#000000\"}, \"text\": \"2014\", \"align\": \"left\", \"xref\": \"x1\", \"yref\": \"y1\", \"x\": -0.45}, {\"xanchor\": \"left\", \"y\": 57, \"showarrow\": false, \"font\": {\"color\": \"#000000\"}, \"text\": \"Firefox iOS\", \"align\": \"left\", \"xref\": \"x1\", \"yref\": \"y1\", \"x\": 0.55}, {\"xanchor\": \"left\", \"y\": 57, \"showarrow\": false, \"font\": {\"color\": \"#000000\"}, \"text\": \"5\", \"align\": \"left\", \"xref\": \"x1\", \"yref\": \"y1\", \"x\": 1.55}, {\"xanchor\": \"left\", \"y\": 58, \"showarrow\": false, \"font\": {\"color\": \"#000000\"}, \"text\": \"2014\", \"align\": \"left\", \"xref\": \"x1\", \"yref\": \"y1\", \"x\": -0.45}, {\"xanchor\": \"left\", \"y\": 58, \"showarrow\": false, \"font\": {\"color\": \"#000000\"}, \"text\": \"Advocacy and policy\", \"align\": \"left\", \"xref\": \"x1\", \"yref\": \"y1\", \"x\": 0.55}, {\"xanchor\": \"left\", \"y\": 58, \"showarrow\": false, \"font\": {\"color\": \"#000000\"}, \"text\": \"4\", \"align\": \"left\", \"xref\": \"x1\", \"yref\": \"y1\", \"x\": 1.55}, {\"xanchor\": \"left\", \"y\": 59, \"showarrow\": false, \"font\": {\"color\": \"#000000\"}, \"text\": \"2014\", \"align\": \"left\", \"xref\": \"x1\", \"yref\": \"y1\", \"x\": -0.45}, {\"xanchor\": \"left\", \"y\": 59, \"showarrow\": false, \"font\": {\"color\": \"#000000\"}, \"text\": \"WebVR\", \"align\": \"left\", \"xref\": \"x1\", \"yref\": \"y1\", \"x\": 0.55}, {\"xanchor\": \"left\", \"y\": 59, \"showarrow\": false, \"font\": {\"color\": \"#000000\"}, \"text\": \"4\", \"align\": \"left\", \"xref\": \"x1\", \"yref\": \"y1\", \"x\": 1.55}, {\"xanchor\": \"left\", \"y\": 60, \"showarrow\": false, \"font\": {\"color\": \"#000000\"}, \"text\": \"2014\", \"align\": \"left\", \"xref\": \"x1\", \"yref\": \"y1\", \"x\": -0.45}, {\"xanchor\": \"left\", \"y\": 60, \"showarrow\": false, \"font\": {\"color\": \"#000000\"}, \"text\": \"Mozilla Developer Network (MDN)\", \"align\": \"left\", \"xref\": \"x1\", \"yref\": \"y1\", \"x\": 0.55}, {\"xanchor\": \"left\", \"y\": 60, \"showarrow\": false, \"font\": {\"color\": \"#000000\"}, \"text\": \"3\", \"align\": \"left\", \"xref\": \"x1\", \"yref\": \"y1\", \"x\": 1.55}, {\"xanchor\": \"left\", \"y\": 61, \"showarrow\": false, \"font\": {\"color\": \"#000000\"}, \"text\": \"2013\", \"align\": \"left\", \"xref\": \"x1\", \"yref\": \"y1\", \"x\": -0.45}, {\"xanchor\": \"left\", \"y\": 61, \"showarrow\": false, \"font\": {\"color\": \"#000000\"}, \"text\": \"Unknown\", \"align\": \"left\", \"xref\": \"x1\", \"yref\": \"y1\", \"x\": 0.55}, {\"xanchor\": \"left\", \"y\": 61, \"showarrow\": false, \"font\": {\"color\": \"#000000\"}, \"text\": \"713\", \"align\": \"left\", \"xref\": \"x1\", \"yref\": \"y1\", \"x\": 1.55}, {\"xanchor\": \"left\", \"y\": 62, \"showarrow\": false, \"font\": {\"color\": \"#000000\"}, \"text\": \"2013\", \"align\": \"left\", \"xref\": \"x1\", \"yref\": \"y1\", \"x\": -0.45}, {\"xanchor\": \"left\", \"y\": 62, \"showarrow\": false, \"font\": {\"color\": \"#000000\"}, \"text\": \"Gecko\", \"align\": \"left\", \"xref\": \"x1\", \"yref\": \"y1\", \"x\": 0.55}, {\"xanchor\": \"left\", \"y\": 62, \"showarrow\": false, \"font\": {\"color\": \"#000000\"}, \"text\": \"260\", \"align\": \"left\", \"xref\": \"x1\", \"yref\": \"y1\", \"x\": 1.55}, {\"xanchor\": \"left\", \"y\": 63, \"showarrow\": false, \"font\": {\"color\": \"#000000\"}, \"text\": \"2013\", \"align\": \"left\", \"xref\": \"x1\", \"yref\": \"y1\", \"x\": -0.45}, {\"xanchor\": \"left\", \"y\": 63, \"showarrow\": false, \"font\": {\"color\": \"#000000\"}, \"text\": \"Rust\", \"align\": \"left\", \"xref\": \"x1\", \"yref\": \"y1\", \"x\": 0.55}, {\"xanchor\": \"left\", \"y\": 63, \"showarrow\": false, \"font\": {\"color\": \"#000000\"}, \"text\": \"233\", \"align\": \"left\", \"xref\": \"x1\", \"yref\": \"y1\", \"x\": 1.55}, {\"xanchor\": \"left\", \"y\": 64, \"showarrow\": false, \"font\": {\"color\": \"#000000\"}, \"text\": \"2013\", \"align\": \"left\", \"xref\": \"x1\", \"yref\": \"y1\", \"x\": -0.45}, {\"xanchor\": \"left\", \"y\": 64, \"showarrow\": false, \"font\": {\"color\": \"#000000\"}, \"text\": \"Web Properties\", \"align\": \"left\", \"xref\": \"x1\", \"yref\": \"y1\", \"x\": 0.55}, {\"xanchor\": \"left\", \"y\": 64, \"showarrow\": false, \"font\": {\"color\": \"#000000\"}, \"text\": \"121\", \"align\": \"left\", \"xref\": \"x1\", \"yref\": \"y1\", \"x\": 1.55}, {\"xanchor\": \"left\", \"y\": 65, \"showarrow\": false, \"font\": {\"color\": \"#000000\"}, \"text\": \"2013\", \"align\": \"left\", \"xref\": \"x1\", \"yref\": \"y1\", \"x\": -0.45}, {\"xanchor\": \"left\", \"y\": 65, \"showarrow\": false, \"font\": {\"color\": \"#000000\"}, \"text\": \"Mozilla Local/Regional communities\", \"align\": \"left\", \"xref\": \"x1\", \"yref\": \"y1\", \"x\": 0.55}, {\"xanchor\": \"left\", \"y\": 65, \"showarrow\": false, \"font\": {\"color\": \"#000000\"}, \"text\": \"54\", \"align\": \"left\", \"xref\": \"x1\", \"yref\": \"y1\", \"x\": 1.55}, {\"xanchor\": \"left\", \"y\": 66, \"showarrow\": false, \"font\": {\"color\": \"#000000\"}, \"text\": \"2013\", \"align\": \"left\", \"xref\": \"x1\", \"yref\": \"y1\", \"x\": -0.45}, {\"xanchor\": \"left\", \"y\": 66, \"showarrow\": false, \"font\": {\"color\": \"#000000\"}, \"text\": \"Servo\", \"align\": \"left\", \"xref\": \"x1\", \"yref\": \"y1\", \"x\": 0.55}, {\"xanchor\": \"left\", \"y\": 66, \"showarrow\": false, \"font\": {\"color\": \"#000000\"}, \"text\": \"51\", \"align\": \"left\", \"xref\": \"x1\", \"yref\": \"y1\", \"x\": 1.55}, {\"xanchor\": \"left\", \"y\": 67, \"showarrow\": false, \"font\": {\"color\": \"#000000\"}, \"text\": \"2013\", \"align\": \"left\", \"xref\": \"x1\", \"yref\": \"y1\", \"x\": -0.45}, {\"xanchor\": \"left\", \"y\": 67, \"showarrow\": false, \"font\": {\"color\": \"#000000\"}, \"text\": \"IT/Ops\", \"align\": \"left\", \"xref\": \"x1\", \"yref\": \"y1\", \"x\": 0.55}, {\"xanchor\": \"left\", \"y\": 67, \"showarrow\": false, \"font\": {\"color\": \"#000000\"}, \"text\": \"48\", \"align\": \"left\", \"xref\": \"x1\", \"yref\": \"y1\", \"x\": 1.55}, {\"xanchor\": \"left\", \"y\": 68, \"showarrow\": false, \"font\": {\"color\": \"#000000\"}, \"text\": \"2013\", \"align\": \"left\", \"xref\": \"x1\", \"yref\": \"y1\", \"x\": -0.45}, {\"xanchor\": \"left\", \"y\": 68, \"showarrow\": false, \"font\": {\"color\": \"#000000\"}, \"text\": \"Addons/Web Extensions\", \"align\": \"left\", \"xref\": \"x1\", \"yref\": \"y1\", \"x\": 0.55}, {\"xanchor\": \"left\", \"y\": 68, \"showarrow\": false, \"font\": {\"color\": \"#000000\"}, \"text\": \"35\", \"align\": \"left\", \"xref\": \"x1\", \"yref\": \"y1\", \"x\": 1.55}, {\"xanchor\": \"left\", \"y\": 69, \"showarrow\": false, \"font\": {\"color\": \"#000000\"}, \"text\": \"2013\", \"align\": \"left\", \"xref\": \"x1\", \"yref\": \"y1\", \"x\": -0.45}, {\"xanchor\": \"left\", \"y\": 69, \"showarrow\": false, \"font\": {\"color\": \"#000000\"}, \"text\": \"Mozilla Foundation\", \"align\": \"left\", \"xref\": \"x1\", \"yref\": \"y1\", \"x\": 0.55}, {\"xanchor\": \"left\", \"y\": 69, \"showarrow\": false, \"font\": {\"color\": \"#000000\"}, \"text\": \"30\", \"align\": \"left\", \"xref\": \"x1\", \"yref\": \"y1\", \"x\": 1.55}, {\"xanchor\": \"left\", \"y\": 70, \"showarrow\": false, \"font\": {\"color\": \"#000000\"}, \"text\": \"2013\", \"align\": \"left\", \"xref\": \"x1\", \"yref\": \"y1\", \"x\": -0.45}, {\"xanchor\": \"left\", \"y\": 70, \"showarrow\": false, \"font\": {\"color\": \"#000000\"}, \"text\": \"Web Literacy\", \"align\": \"left\", \"xref\": \"x1\", \"yref\": \"y1\", \"x\": 0.55}, {\"xanchor\": \"left\", \"y\": 70, \"showarrow\": false, \"font\": {\"color\": \"#000000\"}, \"text\": \"21\", \"align\": \"left\", \"xref\": \"x1\", \"yref\": \"y1\", \"x\": 1.55}, {\"xanchor\": \"left\", \"y\": 71, \"showarrow\": false, \"font\": {\"color\": \"#000000\"}, \"text\": \"2013\", \"align\": \"left\", \"xref\": \"x1\", \"yref\": \"y1\", \"x\": -0.45}, {\"xanchor\": \"left\", \"y\": 71, \"showarrow\": false, \"font\": {\"color\": \"#000000\"}, \"text\": \"Mozilla Location Service (MLS) / Stumbler\", \"align\": \"left\", \"xref\": \"x1\", \"yref\": \"y1\", \"x\": 0.55}, {\"xanchor\": \"left\", \"y\": 71, \"showarrow\": false, \"font\": {\"color\": \"#000000\"}, \"text\": \"17\", \"align\": \"left\", \"xref\": \"x1\", \"yref\": \"y1\", \"x\": 1.55}, {\"xanchor\": \"left\", \"y\": 72, \"showarrow\": false, \"font\": {\"color\": \"#000000\"}, \"text\": \"2013\", \"align\": \"left\", \"xref\": \"x1\", \"yref\": \"y1\", \"x\": -0.45}, {\"xanchor\": \"left\", \"y\": 72, \"showarrow\": false, \"font\": {\"color\": \"#000000\"}, \"text\": \"Release engineering\", \"align\": \"left\", \"xref\": \"x1\", \"yref\": \"y1\", \"x\": 0.55}, {\"xanchor\": \"left\", \"y\": 72, \"showarrow\": false, \"font\": {\"color\": \"#000000\"}, \"text\": \"13\", \"align\": \"left\", \"xref\": \"x1\", \"yref\": \"y1\", \"x\": 1.55}, {\"xanchor\": \"left\", \"y\": 73, \"showarrow\": false, \"font\": {\"color\": \"#000000\"}, \"text\": \"2013\", \"align\": \"left\", \"xref\": \"x1\", \"yref\": \"y1\", \"x\": -0.45}, {\"xanchor\": \"left\", \"y\": 73, \"showarrow\": false, \"font\": {\"color\": \"#000000\"}, \"text\": \"Firefox OS (FxOS / B2G)\", \"align\": \"left\", \"xref\": \"x1\", \"yref\": \"y1\", \"x\": 0.55}, {\"xanchor\": \"left\", \"y\": 73, \"showarrow\": false, \"font\": {\"color\": \"#000000\"}, \"text\": \"8\", \"align\": \"left\", \"xref\": \"x1\", \"yref\": \"y1\", \"x\": 1.55}, {\"xanchor\": \"left\", \"y\": 74, \"showarrow\": false, \"font\": {\"color\": \"#000000\"}, \"text\": \"2013\", \"align\": \"left\", \"xref\": \"x1\", \"yref\": \"y1\", \"x\": -0.45}, {\"xanchor\": \"left\", \"y\": 74, \"showarrow\": false, \"font\": {\"color\": \"#000000\"}, \"text\": \"Quality Assurance\", \"align\": \"left\", \"xref\": \"x1\", \"yref\": \"y1\", \"x\": 0.55}, {\"xanchor\": \"left\", \"y\": 74, \"showarrow\": false, \"font\": {\"color\": \"#000000\"}, \"text\": \"6\", \"align\": \"left\", \"xref\": \"x1\", \"yref\": \"y1\", \"x\": 1.55}, {\"xanchor\": \"left\", \"y\": 75, \"showarrow\": false, \"font\": {\"color\": \"#000000\"}, \"text\": \"2013\", \"align\": \"left\", \"xref\": \"x1\", \"yref\": \"y1\", \"x\": -0.45}, {\"xanchor\": \"left\", \"y\": 75, \"showarrow\": false, \"font\": {\"color\": \"#000000\"}, \"text\": \"Marketing / Social Media\", \"align\": \"left\", \"xref\": \"x1\", \"yref\": \"y1\", \"x\": 0.55}, {\"xanchor\": \"left\", \"y\": 75, \"showarrow\": false, \"font\": {\"color\": \"#000000\"}, \"text\": \"2\", \"align\": \"left\", \"xref\": \"x1\", \"yref\": \"y1\", \"x\": 1.55}, {\"xanchor\": \"left\", \"y\": 76, \"showarrow\": false, \"font\": {\"color\": \"#000000\"}, \"text\": \"2013\", \"align\": \"left\", \"xref\": \"x1\", \"yref\": \"y1\", \"x\": -0.45}, {\"xanchor\": \"left\", \"y\": 76, \"showarrow\": false, \"font\": {\"color\": \"#000000\"}, \"text\": \"Mozilla Creative & Design\", \"align\": \"left\", \"xref\": \"x1\", \"yref\": \"y1\", \"x\": 0.55}, {\"xanchor\": \"left\", \"y\": 76, \"showarrow\": false, \"font\": {\"color\": \"#000000\"}, \"text\": \"2\", \"align\": \"left\", \"xref\": \"x1\", \"yref\": \"y1\", \"x\": 1.55}, {\"xanchor\": \"left\", \"y\": 77, \"showarrow\": false, \"font\": {\"color\": \"#000000\"}, \"text\": \"2013\", \"align\": \"left\", \"xref\": \"x1\", \"yref\": \"y1\", \"x\": -0.45}, {\"xanchor\": \"left\", \"y\": 77, \"showarrow\": false, \"font\": {\"color\": \"#000000\"}, \"text\": \"Mozilla Developer Network (MDN)\", \"align\": \"left\", \"xref\": \"x1\", \"yref\": \"y1\", \"x\": 0.55}, {\"xanchor\": \"left\", \"y\": 77, \"showarrow\": false, \"font\": {\"color\": \"#000000\"}, \"text\": \"2\", \"align\": \"left\", \"xref\": \"x1\", \"yref\": \"y1\", \"x\": 1.55}, {\"xanchor\": \"left\", \"y\": 78, \"showarrow\": false, \"font\": {\"color\": \"#000000\"}, \"text\": \"2013\", \"align\": \"left\", \"xref\": \"x1\", \"yref\": \"y1\", \"x\": -0.45}, {\"xanchor\": \"left\", \"y\": 78, \"showarrow\": false, \"font\": {\"color\": \"#000000\"}, \"text\": \"Mozilla Science\", \"align\": \"left\", \"xref\": \"x1\", \"yref\": \"y1\", \"x\": 0.55}, {\"xanchor\": \"left\", \"y\": 78, \"showarrow\": false, \"font\": {\"color\": \"#000000\"}, \"text\": \"2\", \"align\": \"left\", \"xref\": \"x1\", \"yref\": \"y1\", \"x\": 1.55}, {\"xanchor\": \"left\", \"y\": 79, \"showarrow\": false, \"font\": {\"color\": \"#000000\"}, \"text\": \"2013\", \"align\": \"left\", \"xref\": \"x1\", \"yref\": \"y1\", \"x\": -0.45}, {\"xanchor\": \"left\", \"y\": 79, \"showarrow\": false, \"font\": {\"color\": \"#000000\"}, \"text\": \"Firefox iOS\", \"align\": \"left\", \"xref\": \"x1\", \"yref\": \"y1\", \"x\": 0.55}, {\"xanchor\": \"left\", \"y\": 79, \"showarrow\": false, \"font\": {\"color\": \"#000000\"}, \"text\": \"1\", \"align\": \"left\", \"xref\": \"x1\", \"yref\": \"y1\", \"x\": 1.55}, {\"xanchor\": \"left\", \"y\": 80, \"showarrow\": false, \"font\": {\"color\": \"#000000\"}, \"text\": \"2013\", \"align\": \"left\", \"xref\": \"x1\", \"yref\": \"y1\", \"x\": -0.45}, {\"xanchor\": \"left\", \"y\": 80, \"showarrow\": false, \"font\": {\"color\": \"#000000\"}, \"text\": \"Not tracked\", \"align\": \"left\", \"xref\": \"x1\", \"yref\": \"y1\", \"x\": 0.55}, {\"xanchor\": \"left\", \"y\": 80, \"showarrow\": false, \"font\": {\"color\": \"#000000\"}, \"text\": \"1\", \"align\": \"left\", \"xref\": \"x1\", \"yref\": \"y1\", \"x\": 1.55}, {\"xanchor\": \"left\", \"y\": 81, \"showarrow\": false, \"font\": {\"color\": \"#000000\"}, \"text\": \"2012\", \"align\": \"left\", \"xref\": \"x1\", \"yref\": \"y1\", \"x\": -0.45}, {\"xanchor\": \"left\", \"y\": 81, \"showarrow\": false, \"font\": {\"color\": \"#000000\"}, \"text\": \"Unknown\", \"align\": \"left\", \"xref\": \"x1\", \"yref\": \"y1\", \"x\": 0.55}, {\"xanchor\": \"left\", \"y\": 81, \"showarrow\": false, \"font\": {\"color\": \"#000000\"}, \"text\": \"553\", \"align\": \"left\", \"xref\": \"x1\", \"yref\": \"y1\", \"x\": 1.55}, {\"xanchor\": \"left\", \"y\": 82, \"showarrow\": false, \"font\": {\"color\": \"#000000\"}, \"text\": \"2012\", \"align\": \"left\", \"xref\": \"x1\", \"yref\": \"y1\", \"x\": -0.45}, {\"xanchor\": \"left\", \"y\": 82, \"showarrow\": false, \"font\": {\"color\": \"#000000\"}, \"text\": \"Gecko\", \"align\": \"left\", \"xref\": \"x1\", \"yref\": \"y1\", \"x\": 0.55}, {\"xanchor\": \"left\", \"y\": 82, \"showarrow\": false, \"font\": {\"color\": \"#000000\"}, \"text\": \"226\", \"align\": \"left\", \"xref\": \"x1\", \"yref\": \"y1\", \"x\": 1.55}, {\"xanchor\": \"left\", \"y\": 83, \"showarrow\": false, \"font\": {\"color\": \"#000000\"}, \"text\": \"2012\", \"align\": \"left\", \"xref\": \"x1\", \"yref\": \"y1\", \"x\": -0.45}, {\"xanchor\": \"left\", \"y\": 83, \"showarrow\": false, \"font\": {\"color\": \"#000000\"}, \"text\": \"Rust\", \"align\": \"left\", \"xref\": \"x1\", \"yref\": \"y1\", \"x\": 0.55}, {\"xanchor\": \"left\", \"y\": 83, \"showarrow\": false, \"font\": {\"color\": \"#000000\"}, \"text\": \"89\", \"align\": \"left\", \"xref\": \"x1\", \"yref\": \"y1\", \"x\": 1.55}, {\"xanchor\": \"left\", \"y\": 84, \"showarrow\": false, \"font\": {\"color\": \"#000000\"}, \"text\": \"2012\", \"align\": \"left\", \"xref\": \"x1\", \"yref\": \"y1\", \"x\": -0.45}, {\"xanchor\": \"left\", \"y\": 84, \"showarrow\": false, \"font\": {\"color\": \"#000000\"}, \"text\": \"Web Properties\", \"align\": \"left\", \"xref\": \"x1\", \"yref\": \"y1\", \"x\": 0.55}, {\"xanchor\": \"left\", \"y\": 84, \"showarrow\": false, \"font\": {\"color\": \"#000000\"}, \"text\": \"67\", \"align\": \"left\", \"xref\": \"x1\", \"yref\": \"y1\", \"x\": 1.55}, {\"xanchor\": \"left\", \"y\": 85, \"showarrow\": false, \"font\": {\"color\": \"#000000\"}, \"text\": \"2012\", \"align\": \"left\", \"xref\": \"x1\", \"yref\": \"y1\", \"x\": -0.45}, {\"xanchor\": \"left\", \"y\": 85, \"showarrow\": false, \"font\": {\"color\": \"#000000\"}, \"text\": \"Servo\", \"align\": \"left\", \"xref\": \"x1\", \"yref\": \"y1\", \"x\": 0.55}, {\"xanchor\": \"left\", \"y\": 85, \"showarrow\": false, \"font\": {\"color\": \"#000000\"}, \"text\": \"47\", \"align\": \"left\", \"xref\": \"x1\", \"yref\": \"y1\", \"x\": 1.55}, {\"xanchor\": \"left\", \"y\": 86, \"showarrow\": false, \"font\": {\"color\": \"#000000\"}, \"text\": \"2012\", \"align\": \"left\", \"xref\": \"x1\", \"yref\": \"y1\", \"x\": -0.45}, {\"xanchor\": \"left\", \"y\": 86, \"showarrow\": false, \"font\": {\"color\": \"#000000\"}, \"text\": \"IT/Ops\", \"align\": \"left\", \"xref\": \"x1\", \"yref\": \"y1\", \"x\": 0.55}, {\"xanchor\": \"left\", \"y\": 86, \"showarrow\": false, \"font\": {\"color\": \"#000000\"}, \"text\": \"45\", \"align\": \"left\", \"xref\": \"x1\", \"yref\": \"y1\", \"x\": 1.55}, {\"xanchor\": \"left\", \"y\": 87, \"showarrow\": false, \"font\": {\"color\": \"#000000\"}, \"text\": \"2012\", \"align\": \"left\", \"xref\": \"x1\", \"yref\": \"y1\", \"x\": -0.45}, {\"xanchor\": \"left\", \"y\": 87, \"showarrow\": false, \"font\": {\"color\": \"#000000\"}, \"text\": \"Mozilla Local/Regional communities\", \"align\": \"left\", \"xref\": \"x1\", \"yref\": \"y1\", \"x\": 0.55}, {\"xanchor\": \"left\", \"y\": 87, \"showarrow\": false, \"font\": {\"color\": \"#000000\"}, \"text\": \"38\", \"align\": \"left\", \"xref\": \"x1\", \"yref\": \"y1\", \"x\": 1.55}, {\"xanchor\": \"left\", \"y\": 88, \"showarrow\": false, \"font\": {\"color\": \"#000000\"}, \"text\": \"2012\", \"align\": \"left\", \"xref\": \"x1\", \"yref\": \"y1\", \"x\": -0.45}, {\"xanchor\": \"left\", \"y\": 88, \"showarrow\": false, \"font\": {\"color\": \"#000000\"}, \"text\": \"Addons/Web Extensions\", \"align\": \"left\", \"xref\": \"x1\", \"yref\": \"y1\", \"x\": 0.55}, {\"xanchor\": \"left\", \"y\": 88, \"showarrow\": false, \"font\": {\"color\": \"#000000\"}, \"text\": \"23\", \"align\": \"left\", \"xref\": \"x1\", \"yref\": \"y1\", \"x\": 1.55}, {\"xanchor\": \"left\", \"y\": 89, \"showarrow\": false, \"font\": {\"color\": \"#000000\"}, \"text\": \"2012\", \"align\": \"left\", \"xref\": \"x1\", \"yref\": \"y1\", \"x\": -0.45}, {\"xanchor\": \"left\", \"y\": 89, \"showarrow\": false, \"font\": {\"color\": \"#000000\"}, \"text\": \"Mozilla Foundation\", \"align\": \"left\", \"xref\": \"x1\", \"yref\": \"y1\", \"x\": 0.55}, {\"xanchor\": \"left\", \"y\": 89, \"showarrow\": false, \"font\": {\"color\": \"#000000\"}, \"text\": \"14\", \"align\": \"left\", \"xref\": \"x1\", \"yref\": \"y1\", \"x\": 1.55}, {\"xanchor\": \"left\", \"y\": 90, \"showarrow\": false, \"font\": {\"color\": \"#000000\"}, \"text\": \"2012\", \"align\": \"left\", \"xref\": \"x1\", \"yref\": \"y1\", \"x\": -0.45}, {\"xanchor\": \"left\", \"y\": 90, \"showarrow\": false, \"font\": {\"color\": \"#000000\"}, \"text\": \"Release engineering\", \"align\": \"left\", \"xref\": \"x1\", \"yref\": \"y1\", \"x\": 0.55}, {\"xanchor\": \"left\", \"y\": 90, \"showarrow\": false, \"font\": {\"color\": \"#000000\"}, \"text\": \"13\", \"align\": \"left\", \"xref\": \"x1\", \"yref\": \"y1\", \"x\": 1.55}, {\"xanchor\": \"left\", \"y\": 91, \"showarrow\": false, \"font\": {\"color\": \"#000000\"}, \"text\": \"2012\", \"align\": \"left\", \"xref\": \"x1\", \"yref\": \"y1\", \"x\": -0.45}, {\"xanchor\": \"left\", \"y\": 91, \"showarrow\": false, \"font\": {\"color\": \"#000000\"}, \"text\": \"Web Literacy\", \"align\": \"left\", \"xref\": \"x1\", \"yref\": \"y1\", \"x\": 0.55}, {\"xanchor\": \"left\", \"y\": 91, \"showarrow\": false, \"font\": {\"color\": \"#000000\"}, \"text\": \"9\", \"align\": \"left\", \"xref\": \"x1\", \"yref\": \"y1\", \"x\": 1.55}, {\"xanchor\": \"left\", \"y\": 92, \"showarrow\": false, \"font\": {\"color\": \"#000000\"}, \"text\": \"2012\", \"align\": \"left\", \"xref\": \"x1\", \"yref\": \"y1\", \"x\": -0.45}, {\"xanchor\": \"left\", \"y\": 92, \"showarrow\": false, \"font\": {\"color\": \"#000000\"}, \"text\": \"Firefox OS (FxOS / B2G)\", \"align\": \"left\", \"xref\": \"x1\", \"yref\": \"y1\", \"x\": 0.55}, {\"xanchor\": \"left\", \"y\": 92, \"showarrow\": false, \"font\": {\"color\": \"#000000\"}, \"text\": \"5\", \"align\": \"left\", \"xref\": \"x1\", \"yref\": \"y1\", \"x\": 1.55}, {\"xanchor\": \"left\", \"y\": 93, \"showarrow\": false, \"font\": {\"color\": \"#000000\"}, \"text\": \"2012\", \"align\": \"left\", \"xref\": \"x1\", \"yref\": \"y1\", \"x\": -0.45}, {\"xanchor\": \"left\", \"y\": 93, \"showarrow\": false, \"font\": {\"color\": \"#000000\"}, \"text\": \"Localization\", \"align\": \"left\", \"xref\": \"x1\", \"yref\": \"y1\", \"x\": 0.55}, {\"xanchor\": \"left\", \"y\": 93, \"showarrow\": false, \"font\": {\"color\": \"#000000\"}, \"text\": \"4\", \"align\": \"left\", \"xref\": \"x1\", \"yref\": \"y1\", \"x\": 1.55}, {\"xanchor\": \"left\", \"y\": 94, \"showarrow\": false, \"font\": {\"color\": \"#000000\"}, \"text\": \"2012\", \"align\": \"left\", \"xref\": \"x1\", \"yref\": \"y1\", \"x\": -0.45}, {\"xanchor\": \"left\", \"y\": 94, \"showarrow\": false, \"font\": {\"color\": \"#000000\"}, \"text\": \"Quality Assurance\", \"align\": \"left\", \"xref\": \"x1\", \"yref\": \"y1\", \"x\": 0.55}, {\"xanchor\": \"left\", \"y\": 94, \"showarrow\": false, \"font\": {\"color\": \"#000000\"}, \"text\": \"4\", \"align\": \"left\", \"xref\": \"x1\", \"yref\": \"y1\", \"x\": 1.55}, {\"xanchor\": \"left\", \"y\": 95, \"showarrow\": false, \"font\": {\"color\": \"#000000\"}, \"text\": \"2012\", \"align\": \"left\", \"xref\": \"x1\", \"yref\": \"y1\", \"x\": -0.45}, {\"xanchor\": \"left\", \"y\": 95, \"showarrow\": false, \"font\": {\"color\": \"#000000\"}, \"text\": \"Firefox iOS\", \"align\": \"left\", \"xref\": \"x1\", \"yref\": \"y1\", \"x\": 0.55}, {\"xanchor\": \"left\", \"y\": 95, \"showarrow\": false, \"font\": {\"color\": \"#000000\"}, \"text\": \"1\", \"align\": \"left\", \"xref\": \"x1\", \"yref\": \"y1\", \"x\": 1.55}, {\"xanchor\": \"left\", \"y\": 96, \"showarrow\": false, \"font\": {\"color\": \"#000000\"}, \"text\": \"2012\", \"align\": \"left\", \"xref\": \"x1\", \"yref\": \"y1\", \"x\": -0.45}, {\"xanchor\": \"left\", \"y\": 96, \"showarrow\": false, \"font\": {\"color\": \"#000000\"}, \"text\": \"Technical/Developer Evangelism\", \"align\": \"left\", \"xref\": \"x1\", \"yref\": \"y1\", \"x\": 0.55}, {\"xanchor\": \"left\", \"y\": 96, \"showarrow\": false, \"font\": {\"color\": \"#000000\"}, \"text\": \"1\", \"align\": \"left\", \"xref\": \"x1\", \"yref\": \"y1\", \"x\": 1.55}], \"yaxis\": {\"dtick\": 1, \"tick0\": 0.5, \"zeroline\": false, \"autorange\": \"reversed\", \"gridwidth\": 2, \"ticks\": \"\", \"showticklabels\": false}, \"xaxis\": {\"dtick\": 1, \"tick0\": -0.5, \"showticklabels\": false, \"zeroline\": false, \"gridwidth\": 2, \"ticks\": \"\"}, \"margin\": {\"r\": 0, \"l\": 0, \"b\": 0, \"t\": 0}, \"height\": 2960}, {\"linkText\": \"Export to plot.ly\", \"showLink\": true})});</script>"
      ],
      "text/vnd.plotly.v1+html": [
       "<div id=\"aed08056-7c42-40eb-bbaa-5a3c17927de7\" style=\"height: 2960px; width: 100%;\" class=\"plotly-graph-div\"></div><script type=\"text/javascript\">require([\"plotly\"], function(Plotly) { window.PLOTLYENV=window.PLOTLYENV || {};window.PLOTLYENV.BASE_URL=\"https://plot.ly\";Plotly.newPlot(\"aed08056-7c42-40eb-bbaa-5a3c17927de7\", [{\"colorscale\": [[0, \"#00083e\"], [0.5, \"#ededee\"], [1, \"#ffffff\"]], \"showscale\": false, \"hoverinfo\": \"none\", \"type\": \"heatmap\", \"z\": [[0, 0, 0], [0.5, 0.5, 0.5], [1, 1, 1], [0.5, 0.5, 0.5], [1, 1, 1], [0.5, 0.5, 0.5], [1, 1, 1], [0.5, 0.5, 0.5], [1, 1, 1], [0.5, 0.5, 0.5], [1, 1, 1], [0.5, 0.5, 0.5], [1, 1, 1], [0.5, 0.5, 0.5], [1, 1, 1], [0.5, 0.5, 0.5], [1, 1, 1], [0.5, 0.5, 0.5], [1, 1, 1], [0.5, 0.5, 0.5], [1, 1, 1], [0.5, 0.5, 0.5], [1, 1, 1], [0.5, 0.5, 0.5], [1, 1, 1], [0.5, 0.5, 0.5], [1, 1, 1], [0.5, 0.5, 0.5], [1, 1, 1], [0.5, 0.5, 0.5], [1, 1, 1], [0.5, 0.5, 0.5], [1, 1, 1], [0.5, 0.5, 0.5], [1, 1, 1], [0.5, 0.5, 0.5], [1, 1, 1], [0.5, 0.5, 0.5], [1, 1, 1], [0.5, 0.5, 0.5], [1, 1, 1], [0.5, 0.5, 0.5], [1, 1, 1], [0.5, 0.5, 0.5], [1, 1, 1], [0.5, 0.5, 0.5], [1, 1, 1], [0.5, 0.5, 0.5], [1, 1, 1], [0.5, 0.5, 0.5], [1, 1, 1], [0.5, 0.5, 0.5], [1, 1, 1], [0.5, 0.5, 0.5], [1, 1, 1], [0.5, 0.5, 0.5], [1, 1, 1], [0.5, 0.5, 0.5], [1, 1, 1], [0.5, 0.5, 0.5], [1, 1, 1], [0.5, 0.5, 0.5], [1, 1, 1], [0.5, 0.5, 0.5], [1, 1, 1], [0.5, 0.5, 0.5], [1, 1, 1], [0.5, 0.5, 0.5], [1, 1, 1], [0.5, 0.5, 0.5], [1, 1, 1], [0.5, 0.5, 0.5], [1, 1, 1], [0.5, 0.5, 0.5], [1, 1, 1], [0.5, 0.5, 0.5], [1, 1, 1], [0.5, 0.5, 0.5], [1, 1, 1], [0.5, 0.5, 0.5], [1, 1, 1], [0.5, 0.5, 0.5], [1, 1, 1], [0.5, 0.5, 0.5], [1, 1, 1], [0.5, 0.5, 0.5], [1, 1, 1], [0.5, 0.5, 0.5], [1, 1, 1], [0.5, 0.5, 0.5], [1, 1, 1], [0.5, 0.5, 0.5], [1, 1, 1], [0.5, 0.5, 0.5], [1, 1, 1], [0.5, 0.5, 0.5], [1, 1, 1]], \"opacity\": 0.75}], {\"annotations\": [{\"xanchor\": \"left\", \"y\": 0, \"showarrow\": false, \"font\": {\"color\": \"#ffffff\"}, \"text\": \"<b>first_commit</b>\", \"align\": \"left\", \"xref\": \"x1\", \"yref\": \"y1\", \"x\": -0.45}, {\"xanchor\": \"left\", \"y\": 0, \"showarrow\": false, \"font\": {\"color\": \"#ffffff\"}, \"text\": \"<b>project</b>\", \"align\": \"left\", \"xref\": \"x1\", \"yref\": \"y1\", \"x\": 0.55}, {\"xanchor\": \"left\", \"y\": 0, \"showarrow\": false, \"font\": {\"color\": \"#ffffff\"}, \"text\": \"<b># authors</b>\", \"align\": \"left\", \"xref\": \"x1\", \"yref\": \"y1\", \"x\": 1.55}, {\"xanchor\": \"left\", \"y\": 1, \"showarrow\": false, \"font\": {\"color\": \"#000000\"}, \"text\": \"2016\", \"align\": \"left\", \"xref\": \"x1\", \"yref\": \"y1\", \"x\": -0.45}, {\"xanchor\": \"left\", \"y\": 1, \"showarrow\": false, \"font\": {\"color\": \"#000000\"}, \"text\": \"Unknown\", \"align\": \"left\", \"xref\": \"x1\", \"yref\": \"y1\", \"x\": 0.55}, {\"xanchor\": \"left\", \"y\": 1, \"showarrow\": false, \"font\": {\"color\": \"#000000\"}, \"text\": \"896\", \"align\": \"left\", \"xref\": \"x1\", \"yref\": \"y1\", \"x\": 1.55}, {\"xanchor\": \"left\", \"y\": 2, \"showarrow\": false, \"font\": {\"color\": \"#000000\"}, \"text\": \"2016\", \"align\": \"left\", \"xref\": \"x1\", \"yref\": \"y1\", \"x\": -0.45}, {\"xanchor\": \"left\", \"y\": 2, \"showarrow\": false, \"font\": {\"color\": \"#000000\"}, \"text\": \"Rust\", \"align\": \"left\", \"xref\": \"x1\", \"yref\": \"y1\", \"x\": 0.55}, {\"xanchor\": \"left\", \"y\": 2, \"showarrow\": false, \"font\": {\"color\": \"#000000\"}, \"text\": \"493\", \"align\": \"left\", \"xref\": \"x1\", \"yref\": \"y1\", \"x\": 1.55}, {\"xanchor\": \"left\", \"y\": 3, \"showarrow\": false, \"font\": {\"color\": \"#000000\"}, \"text\": \"2016\", \"align\": \"left\", \"xref\": \"x1\", \"yref\": \"y1\", \"x\": -0.45}, {\"xanchor\": \"left\", \"y\": 3, \"showarrow\": false, \"font\": {\"color\": \"#000000\"}, \"text\": \"Gecko\", \"align\": \"left\", \"xref\": \"x1\", \"yref\": \"y1\", \"x\": 0.55}, {\"xanchor\": \"left\", \"y\": 3, \"showarrow\": false, \"font\": {\"color\": \"#000000\"}, \"text\": \"286\", \"align\": \"left\", \"xref\": \"x1\", \"yref\": \"y1\", \"x\": 1.55}, {\"xanchor\": \"left\", \"y\": 4, \"showarrow\": false, \"font\": {\"color\": \"#000000\"}, \"text\": \"2016\", \"align\": \"left\", \"xref\": \"x1\", \"yref\": \"y1\", \"x\": -0.45}, {\"xanchor\": \"left\", \"y\": 4, \"showarrow\": false, \"font\": {\"color\": \"#000000\"}, \"text\": \"Servo\", \"align\": \"left\", \"xref\": \"x1\", \"yref\": \"y1\", \"x\": 0.55}, {\"xanchor\": \"left\", \"y\": 4, \"showarrow\": false, \"font\": {\"color\": \"#000000\"}, \"text\": \"194\", \"align\": \"left\", \"xref\": \"x1\", \"yref\": \"y1\", \"x\": 1.55}, {\"xanchor\": \"left\", \"y\": 5, \"showarrow\": false, \"font\": {\"color\": \"#000000\"}, \"text\": \"2016\", \"align\": \"left\", \"xref\": \"x1\", \"yref\": \"y1\", \"x\": -0.45}, {\"xanchor\": \"left\", \"y\": 5, \"showarrow\": false, \"font\": {\"color\": \"#000000\"}, \"text\": \"Web Properties\", \"align\": \"left\", \"xref\": \"x1\", \"yref\": \"y1\", \"x\": 0.55}, {\"xanchor\": \"left\", \"y\": 5, \"showarrow\": false, \"font\": {\"color\": \"#000000\"}, \"text\": \"132\", \"align\": \"left\", \"xref\": \"x1\", \"yref\": \"y1\", \"x\": 1.55}, {\"xanchor\": \"left\", \"y\": 6, \"showarrow\": false, \"font\": {\"color\": \"#000000\"}, \"text\": \"2016\", \"align\": \"left\", \"xref\": \"x1\", \"yref\": \"y1\", \"x\": -0.45}, {\"xanchor\": \"left\", \"y\": 6, \"showarrow\": false, \"font\": {\"color\": \"#000000\"}, \"text\": \"WebVR\", \"align\": \"left\", \"xref\": \"x1\", \"yref\": \"y1\", \"x\": 0.55}, {\"xanchor\": \"left\", \"y\": 6, \"showarrow\": false, \"font\": {\"color\": \"#000000\"}, \"text\": \"113\", \"align\": \"left\", \"xref\": \"x1\", \"yref\": \"y1\", \"x\": 1.55}, {\"xanchor\": \"left\", \"y\": 7, \"showarrow\": false, \"font\": {\"color\": \"#000000\"}, \"text\": \"2016\", \"align\": \"left\", \"xref\": \"x1\", \"yref\": \"y1\", \"x\": -0.45}, {\"xanchor\": \"left\", \"y\": 7, \"showarrow\": false, \"font\": {\"color\": \"#000000\"}, \"text\": \"IT/Ops\", \"align\": \"left\", \"xref\": \"x1\", \"yref\": \"y1\", \"x\": 0.55}, {\"xanchor\": \"left\", \"y\": 7, \"showarrow\": false, \"font\": {\"color\": \"#000000\"}, \"text\": \"100\", \"align\": \"left\", \"xref\": \"x1\", \"yref\": \"y1\", \"x\": 1.55}, {\"xanchor\": \"left\", \"y\": 8, \"showarrow\": false, \"font\": {\"color\": \"#000000\"}, \"text\": \"2016\", \"align\": \"left\", \"xref\": \"x1\", \"yref\": \"y1\", \"x\": -0.45}, {\"xanchor\": \"left\", \"y\": 8, \"showarrow\": false, \"font\": {\"color\": \"#000000\"}, \"text\": \"Mozilla Local/Regional communities\", \"align\": \"left\", \"xref\": \"x1\", \"yref\": \"y1\", \"x\": 0.55}, {\"xanchor\": \"left\", \"y\": 8, \"showarrow\": false, \"font\": {\"color\": \"#000000\"}, \"text\": \"57\", \"align\": \"left\", \"xref\": \"x1\", \"yref\": \"y1\", \"x\": 1.55}, {\"xanchor\": \"left\", \"y\": 9, \"showarrow\": false, \"font\": {\"color\": \"#000000\"}, \"text\": \"2016\", \"align\": \"left\", \"xref\": \"x1\", \"yref\": \"y1\", \"x\": -0.45}, {\"xanchor\": \"left\", \"y\": 9, \"showarrow\": false, \"font\": {\"color\": \"#000000\"}, \"text\": \"Addons/Web Extensions\", \"align\": \"left\", \"xref\": \"x1\", \"yref\": \"y1\", \"x\": 0.55}, {\"xanchor\": \"left\", \"y\": 9, \"showarrow\": false, \"font\": {\"color\": \"#000000\"}, \"text\": \"40\", \"align\": \"left\", \"xref\": \"x1\", \"yref\": \"y1\", \"x\": 1.55}, {\"xanchor\": \"left\", \"y\": 10, \"showarrow\": false, \"font\": {\"color\": \"#000000\"}, \"text\": \"2016\", \"align\": \"left\", \"xref\": \"x1\", \"yref\": \"y1\", \"x\": -0.45}, {\"xanchor\": \"left\", \"y\": 10, \"showarrow\": false, \"font\": {\"color\": \"#000000\"}, \"text\": \"Mozilla Developer Network (MDN)\", \"align\": \"left\", \"xref\": \"x1\", \"yref\": \"y1\", \"x\": 0.55}, {\"xanchor\": \"left\", \"y\": 10, \"showarrow\": false, \"font\": {\"color\": \"#000000\"}, \"text\": \"40\", \"align\": \"left\", \"xref\": \"x1\", \"yref\": \"y1\", \"x\": 1.55}, {\"xanchor\": \"left\", \"y\": 11, \"showarrow\": false, \"font\": {\"color\": \"#000000\"}, \"text\": \"2016\", \"align\": \"left\", \"xref\": \"x1\", \"yref\": \"y1\", \"x\": -0.45}, {\"xanchor\": \"left\", \"y\": 11, \"showarrow\": false, \"font\": {\"color\": \"#000000\"}, \"text\": \"Mozilla Science\", \"align\": \"left\", \"xref\": \"x1\", \"yref\": \"y1\", \"x\": 0.55}, {\"xanchor\": \"left\", \"y\": 11, \"showarrow\": false, \"font\": {\"color\": \"#000000\"}, \"text\": \"32\", \"align\": \"left\", \"xref\": \"x1\", \"yref\": \"y1\", \"x\": 1.55}, {\"xanchor\": \"left\", \"y\": 12, \"showarrow\": false, \"font\": {\"color\": \"#000000\"}, \"text\": \"2016\", \"align\": \"left\", \"xref\": \"x1\", \"yref\": \"y1\", \"x\": -0.45}, {\"xanchor\": \"left\", \"y\": 12, \"showarrow\": false, \"font\": {\"color\": \"#000000\"}, \"text\": \"Firefox iOS\", \"align\": \"left\", \"xref\": \"x1\", \"yref\": \"y1\", \"x\": 0.55}, {\"xanchor\": \"left\", \"y\": 12, \"showarrow\": false, \"font\": {\"color\": \"#000000\"}, \"text\": \"16\", \"align\": \"left\", \"xref\": \"x1\", \"yref\": \"y1\", \"x\": 1.55}, {\"xanchor\": \"left\", \"y\": 13, \"showarrow\": false, \"font\": {\"color\": \"#000000\"}, \"text\": \"2016\", \"align\": \"left\", \"xref\": \"x1\", \"yref\": \"y1\", \"x\": -0.45}, {\"xanchor\": \"left\", \"y\": 13, \"showarrow\": false, \"font\": {\"color\": \"#000000\"}, \"text\": \"Test Pilot\", \"align\": \"left\", \"xref\": \"x1\", \"yref\": \"y1\", \"x\": 0.55}, {\"xanchor\": \"left\", \"y\": 13, \"showarrow\": false, \"font\": {\"color\": \"#000000\"}, \"text\": \"11\", \"align\": \"left\", \"xref\": \"x1\", \"yref\": \"y1\", \"x\": 1.55}, {\"xanchor\": \"left\", \"y\": 14, \"showarrow\": false, \"font\": {\"color\": \"#000000\"}, \"text\": \"2016\", \"align\": \"left\", \"xref\": \"x1\", \"yref\": \"y1\", \"x\": -0.45}, {\"xanchor\": \"left\", \"y\": 14, \"showarrow\": false, \"font\": {\"color\": \"#000000\"}, \"text\": \"Mozilla Foundation\", \"align\": \"left\", \"xref\": \"x1\", \"yref\": \"y1\", \"x\": 0.55}, {\"xanchor\": \"left\", \"y\": 14, \"showarrow\": false, \"font\": {\"color\": \"#000000\"}, \"text\": \"8\", \"align\": \"left\", \"xref\": \"x1\", \"yref\": \"y1\", \"x\": 1.55}, {\"xanchor\": \"left\", \"y\": 15, \"showarrow\": false, \"font\": {\"color\": \"#000000\"}, \"text\": \"2016\", \"align\": \"left\", \"xref\": \"x1\", \"yref\": \"y1\", \"x\": -0.45}, {\"xanchor\": \"left\", \"y\": 15, \"showarrow\": false, \"font\": {\"color\": \"#000000\"}, \"text\": \"Mozilla Creative & Design\", \"align\": \"left\", \"xref\": \"x1\", \"yref\": \"y1\", \"x\": 0.55}, {\"xanchor\": \"left\", \"y\": 15, \"showarrow\": false, \"font\": {\"color\": \"#000000\"}, \"text\": \"7\", \"align\": \"left\", \"xref\": \"x1\", \"yref\": \"y1\", \"x\": 1.55}, {\"xanchor\": \"left\", \"y\": 16, \"showarrow\": false, \"font\": {\"color\": \"#000000\"}, \"text\": \"2016\", \"align\": \"left\", \"xref\": \"x1\", \"yref\": \"y1\", \"x\": -0.45}, {\"xanchor\": \"left\", \"y\": 16, \"showarrow\": false, \"font\": {\"color\": \"#000000\"}, \"text\": \"Advocacy and policy\", \"align\": \"left\", \"xref\": \"x1\", \"yref\": \"y1\", \"x\": 0.55}, {\"xanchor\": \"left\", \"y\": 16, \"showarrow\": false, \"font\": {\"color\": \"#000000\"}, \"text\": \"6\", \"align\": \"left\", \"xref\": \"x1\", \"yref\": \"y1\", \"x\": 1.55}, {\"xanchor\": \"left\", \"y\": 17, \"showarrow\": false, \"font\": {\"color\": \"#000000\"}, \"text\": \"2016\", \"align\": \"left\", \"xref\": \"x1\", \"yref\": \"y1\", \"x\": -0.45}, {\"xanchor\": \"left\", \"y\": 17, \"showarrow\": false, \"font\": {\"color\": \"#000000\"}, \"text\": \"Localization\", \"align\": \"left\", \"xref\": \"x1\", \"yref\": \"y1\", \"x\": 0.55}, {\"xanchor\": \"left\", \"y\": 17, \"showarrow\": false, \"font\": {\"color\": \"#000000\"}, \"text\": \"4\", \"align\": \"left\", \"xref\": \"x1\", \"yref\": \"y1\", \"x\": 1.55}, {\"xanchor\": \"left\", \"y\": 18, \"showarrow\": false, \"font\": {\"color\": \"#000000\"}, \"text\": \"2016\", \"align\": \"left\", \"xref\": \"x1\", \"yref\": \"y1\", \"x\": -0.45}, {\"xanchor\": \"left\", \"y\": 18, \"showarrow\": false, \"font\": {\"color\": \"#000000\"}, \"text\": \"Release engineering\", \"align\": \"left\", \"xref\": \"x1\", \"yref\": \"y1\", \"x\": 0.55}, {\"xanchor\": \"left\", \"y\": 18, \"showarrow\": false, \"font\": {\"color\": \"#000000\"}, \"text\": \"3\", \"align\": \"left\", \"xref\": \"x1\", \"yref\": \"y1\", \"x\": 1.55}, {\"xanchor\": \"left\", \"y\": 19, \"showarrow\": false, \"font\": {\"color\": \"#000000\"}, \"text\": \"2016\", \"align\": \"left\", \"xref\": \"x1\", \"yref\": \"y1\", \"x\": -0.45}, {\"xanchor\": \"left\", \"y\": 19, \"showarrow\": false, \"font\": {\"color\": \"#000000\"}, \"text\": \"Technical/Developer Evangelism\", \"align\": \"left\", \"xref\": \"x1\", \"yref\": \"y1\", \"x\": 0.55}, {\"xanchor\": \"left\", \"y\": 19, \"showarrow\": false, \"font\": {\"color\": \"#000000\"}, \"text\": \"3\", \"align\": \"left\", \"xref\": \"x1\", \"yref\": \"y1\", \"x\": 1.55}, {\"xanchor\": \"left\", \"y\": 20, \"showarrow\": false, \"font\": {\"color\": \"#000000\"}, \"text\": \"2016\", \"align\": \"left\", \"xref\": \"x1\", \"yref\": \"y1\", \"x\": -0.45}, {\"xanchor\": \"left\", \"y\": 20, \"showarrow\": false, \"font\": {\"color\": \"#000000\"}, \"text\": \"Campus Clubs (previously Student Ambassadors)\", \"align\": \"left\", \"xref\": \"x1\", \"yref\": \"y1\", \"x\": 0.55}, {\"xanchor\": \"left\", \"y\": 20, \"showarrow\": false, \"font\": {\"color\": \"#000000\"}, \"text\": \"2\", \"align\": \"left\", \"xref\": \"x1\", \"yref\": \"y1\", \"x\": 1.55}, {\"xanchor\": \"left\", \"y\": 21, \"showarrow\": false, \"font\": {\"color\": \"#000000\"}, \"text\": \"2015\", \"align\": \"left\", \"xref\": \"x1\", \"yref\": \"y1\", \"x\": -0.45}, {\"xanchor\": \"left\", \"y\": 21, \"showarrow\": false, \"font\": {\"color\": \"#000000\"}, \"text\": \"Unknown\", \"align\": \"left\", \"xref\": \"x1\", \"yref\": \"y1\", \"x\": 0.55}, {\"xanchor\": \"left\", \"y\": 21, \"showarrow\": false, \"font\": {\"color\": \"#000000\"}, \"text\": \"1005\", \"align\": \"left\", \"xref\": \"x1\", \"yref\": \"y1\", \"x\": 1.55}, {\"xanchor\": \"left\", \"y\": 22, \"showarrow\": false, \"font\": {\"color\": \"#000000\"}, \"text\": \"2015\", \"align\": \"left\", \"xref\": \"x1\", \"yref\": \"y1\", \"x\": -0.45}, {\"xanchor\": \"left\", \"y\": 22, \"showarrow\": false, \"font\": {\"color\": \"#000000\"}, \"text\": \"Rust\", \"align\": \"left\", \"xref\": \"x1\", \"yref\": \"y1\", \"x\": 0.55}, {\"xanchor\": \"left\", \"y\": 22, \"showarrow\": false, \"font\": {\"color\": \"#000000\"}, \"text\": \"642\", \"align\": \"left\", \"xref\": \"x1\", \"yref\": \"y1\", \"x\": 1.55}, {\"xanchor\": \"left\", \"y\": 23, \"showarrow\": false, \"font\": {\"color\": \"#000000\"}, \"text\": \"2015\", \"align\": \"left\", \"xref\": \"x1\", \"yref\": \"y1\", \"x\": -0.45}, {\"xanchor\": \"left\", \"y\": 23, \"showarrow\": false, \"font\": {\"color\": \"#000000\"}, \"text\": \"Gecko\", \"align\": \"left\", \"xref\": \"x1\", \"yref\": \"y1\", \"x\": 0.55}, {\"xanchor\": \"left\", \"y\": 23, \"showarrow\": false, \"font\": {\"color\": \"#000000\"}, \"text\": \"242\", \"align\": \"left\", \"xref\": \"x1\", \"yref\": \"y1\", \"x\": 1.55}, {\"xanchor\": \"left\", \"y\": 24, \"showarrow\": false, \"font\": {\"color\": \"#000000\"}, \"text\": \"2015\", \"align\": \"left\", \"xref\": \"x1\", \"yref\": \"y1\", \"x\": -0.45}, {\"xanchor\": \"left\", \"y\": 24, \"showarrow\": false, \"font\": {\"color\": \"#000000\"}, \"text\": \"Servo\", \"align\": \"left\", \"xref\": \"x1\", \"yref\": \"y1\", \"x\": 0.55}, {\"xanchor\": \"left\", \"y\": 24, \"showarrow\": false, \"font\": {\"color\": \"#000000\"}, \"text\": \"168\", \"align\": \"left\", \"xref\": \"x1\", \"yref\": \"y1\", \"x\": 1.55}, {\"xanchor\": \"left\", \"y\": 25, \"showarrow\": false, \"font\": {\"color\": \"#000000\"}, \"text\": \"2015\", \"align\": \"left\", \"xref\": \"x1\", \"yref\": \"y1\", \"x\": -0.45}, {\"xanchor\": \"left\", \"y\": 25, \"showarrow\": false, \"font\": {\"color\": \"#000000\"}, \"text\": \"Web Properties\", \"align\": \"left\", \"xref\": \"x1\", \"yref\": \"y1\", \"x\": 0.55}, {\"xanchor\": \"left\", \"y\": 25, \"showarrow\": false, \"font\": {\"color\": \"#000000\"}, \"text\": \"160\", \"align\": \"left\", \"xref\": \"x1\", \"yref\": \"y1\", \"x\": 1.55}, {\"xanchor\": \"left\", \"y\": 26, \"showarrow\": false, \"font\": {\"color\": \"#000000\"}, \"text\": \"2015\", \"align\": \"left\", \"xref\": \"x1\", \"yref\": \"y1\", \"x\": -0.45}, {\"xanchor\": \"left\", \"y\": 26, \"showarrow\": false, \"font\": {\"color\": \"#000000\"}, \"text\": \"IT/Ops\", \"align\": \"left\", \"xref\": \"x1\", \"yref\": \"y1\", \"x\": 0.55}, {\"xanchor\": \"left\", \"y\": 26, \"showarrow\": false, \"font\": {\"color\": \"#000000\"}, \"text\": \"86\", \"align\": \"left\", \"xref\": \"x1\", \"yref\": \"y1\", \"x\": 1.55}, {\"xanchor\": \"left\", \"y\": 27, \"showarrow\": false, \"font\": {\"color\": \"#000000\"}, \"text\": \"2015\", \"align\": \"left\", \"xref\": \"x1\", \"yref\": \"y1\", \"x\": -0.45}, {\"xanchor\": \"left\", \"y\": 27, \"showarrow\": false, \"font\": {\"color\": \"#000000\"}, \"text\": \"Mozilla Local/Regional communities\", \"align\": \"left\", \"xref\": \"x1\", \"yref\": \"y1\", \"x\": 0.55}, {\"xanchor\": \"left\", \"y\": 27, \"showarrow\": false, \"font\": {\"color\": \"#000000\"}, \"text\": \"60\", \"align\": \"left\", \"xref\": \"x1\", \"yref\": \"y1\", \"x\": 1.55}, {\"xanchor\": \"left\", \"y\": 28, \"showarrow\": false, \"font\": {\"color\": \"#000000\"}, \"text\": \"2015\", \"align\": \"left\", \"xref\": \"x1\", \"yref\": \"y1\", \"x\": -0.45}, {\"xanchor\": \"left\", \"y\": 28, \"showarrow\": false, \"font\": {\"color\": \"#000000\"}, \"text\": \"Mozilla Science\", \"align\": \"left\", \"xref\": \"x1\", \"yref\": \"y1\", \"x\": 0.55}, {\"xanchor\": \"left\", \"y\": 28, \"showarrow\": false, \"font\": {\"color\": \"#000000\"}, \"text\": \"41\", \"align\": \"left\", \"xref\": \"x1\", \"yref\": \"y1\", \"x\": 1.55}, {\"xanchor\": \"left\", \"y\": 29, \"showarrow\": false, \"font\": {\"color\": \"#000000\"}, \"text\": \"2015\", \"align\": \"left\", \"xref\": \"x1\", \"yref\": \"y1\", \"x\": -0.45}, {\"xanchor\": \"left\", \"y\": 29, \"showarrow\": false, \"font\": {\"color\": \"#000000\"}, \"text\": \"Firefox iOS\", \"align\": \"left\", \"xref\": \"x1\", \"yref\": \"y1\", \"x\": 0.55}, {\"xanchor\": \"left\", \"y\": 29, \"showarrow\": false, \"font\": {\"color\": \"#000000\"}, \"text\": \"30\", \"align\": \"left\", \"xref\": \"x1\", \"yref\": \"y1\", \"x\": 1.55}, {\"xanchor\": \"left\", \"y\": 30, \"showarrow\": false, \"font\": {\"color\": \"#000000\"}, \"text\": \"2015\", \"align\": \"left\", \"xref\": \"x1\", \"yref\": \"y1\", \"x\": -0.45}, {\"xanchor\": \"left\", \"y\": 30, \"showarrow\": false, \"font\": {\"color\": \"#000000\"}, \"text\": \"Mozilla Developer Network (MDN)\", \"align\": \"left\", \"xref\": \"x1\", \"yref\": \"y1\", \"x\": 0.55}, {\"xanchor\": \"left\", \"y\": 30, \"showarrow\": false, \"font\": {\"color\": \"#000000\"}, \"text\": \"25\", \"align\": \"left\", \"xref\": \"x1\", \"yref\": \"y1\", \"x\": 1.55}, {\"xanchor\": \"left\", \"y\": 31, \"showarrow\": false, \"font\": {\"color\": \"#000000\"}, \"text\": \"2015\", \"align\": \"left\", \"xref\": \"x1\", \"yref\": \"y1\", \"x\": -0.45}, {\"xanchor\": \"left\", \"y\": 31, \"showarrow\": false, \"font\": {\"color\": \"#000000\"}, \"text\": \"Addons/Web Extensions\", \"align\": \"left\", \"xref\": \"x1\", \"yref\": \"y1\", \"x\": 0.55}, {\"xanchor\": \"left\", \"y\": 31, \"showarrow\": false, \"font\": {\"color\": \"#000000\"}, \"text\": \"24\", \"align\": \"left\", \"xref\": \"x1\", \"yref\": \"y1\", \"x\": 1.55}, {\"xanchor\": \"left\", \"y\": 32, \"showarrow\": false, \"font\": {\"color\": \"#000000\"}, \"text\": \"2015\", \"align\": \"left\", \"xref\": \"x1\", \"yref\": \"y1\", \"x\": -0.45}, {\"xanchor\": \"left\", \"y\": 32, \"showarrow\": false, \"font\": {\"color\": \"#000000\"}, \"text\": \"Firefox OS (FxOS / B2G)\", \"align\": \"left\", \"xref\": \"x1\", \"yref\": \"y1\", \"x\": 0.55}, {\"xanchor\": \"left\", \"y\": 32, \"showarrow\": false, \"font\": {\"color\": \"#000000\"}, \"text\": \"22\", \"align\": \"left\", \"xref\": \"x1\", \"yref\": \"y1\", \"x\": 1.55}, {\"xanchor\": \"left\", \"y\": 33, \"showarrow\": false, \"font\": {\"color\": \"#000000\"}, \"text\": \"2015\", \"align\": \"left\", \"xref\": \"x1\", \"yref\": \"y1\", \"x\": -0.45}, {\"xanchor\": \"left\", \"y\": 33, \"showarrow\": false, \"font\": {\"color\": \"#000000\"}, \"text\": \"WebVR\", \"align\": \"left\", \"xref\": \"x1\", \"yref\": \"y1\", \"x\": 0.55}, {\"xanchor\": \"left\", \"y\": 33, \"showarrow\": false, \"font\": {\"color\": \"#000000\"}, \"text\": \"16\", \"align\": \"left\", \"xref\": \"x1\", \"yref\": \"y1\", \"x\": 1.55}, {\"xanchor\": \"left\", \"y\": 34, \"showarrow\": false, \"font\": {\"color\": \"#000000\"}, \"text\": \"2015\", \"align\": \"left\", \"xref\": \"x1\", \"yref\": \"y1\", \"x\": -0.45}, {\"xanchor\": \"left\", \"y\": 34, \"showarrow\": false, \"font\": {\"color\": \"#000000\"}, \"text\": \"Release engineering\", \"align\": \"left\", \"xref\": \"x1\", \"yref\": \"y1\", \"x\": 0.55}, {\"xanchor\": \"left\", \"y\": 34, \"showarrow\": false, \"font\": {\"color\": \"#000000\"}, \"text\": \"11\", \"align\": \"left\", \"xref\": \"x1\", \"yref\": \"y1\", \"x\": 1.55}, {\"xanchor\": \"left\", \"y\": 35, \"showarrow\": false, \"font\": {\"color\": \"#000000\"}, \"text\": \"2015\", \"align\": \"left\", \"xref\": \"x1\", \"yref\": \"y1\", \"x\": -0.45}, {\"xanchor\": \"left\", \"y\": 35, \"showarrow\": false, \"font\": {\"color\": \"#000000\"}, \"text\": \"Web Literacy\", \"align\": \"left\", \"xref\": \"x1\", \"yref\": \"y1\", \"x\": 0.55}, {\"xanchor\": \"left\", \"y\": 35, \"showarrow\": false, \"font\": {\"color\": \"#000000\"}, \"text\": \"11\", \"align\": \"left\", \"xref\": \"x1\", \"yref\": \"y1\", \"x\": 1.55}, {\"xanchor\": \"left\", \"y\": 36, \"showarrow\": false, \"font\": {\"color\": \"#000000\"}, \"text\": \"2015\", \"align\": \"left\", \"xref\": \"x1\", \"yref\": \"y1\", \"x\": -0.45}, {\"xanchor\": \"left\", \"y\": 36, \"showarrow\": false, \"font\": {\"color\": \"#000000\"}, \"text\": \"Mozilla Location Service (MLS) / Stumbler\", \"align\": \"left\", \"xref\": \"x1\", \"yref\": \"y1\", \"x\": 0.55}, {\"xanchor\": \"left\", \"y\": 36, \"showarrow\": false, \"font\": {\"color\": \"#000000\"}, \"text\": \"4\", \"align\": \"left\", \"xref\": \"x1\", \"yref\": \"y1\", \"x\": 1.55}, {\"xanchor\": \"left\", \"y\": 37, \"showarrow\": false, \"font\": {\"color\": \"#000000\"}, \"text\": \"2015\", \"align\": \"left\", \"xref\": \"x1\", \"yref\": \"y1\", \"x\": -0.45}, {\"xanchor\": \"left\", \"y\": 37, \"showarrow\": false, \"font\": {\"color\": \"#000000\"}, \"text\": \"Advocacy and policy\", \"align\": \"left\", \"xref\": \"x1\", \"yref\": \"y1\", \"x\": 0.55}, {\"xanchor\": \"left\", \"y\": 37, \"showarrow\": false, \"font\": {\"color\": \"#000000\"}, \"text\": \"3\", \"align\": \"left\", \"xref\": \"x1\", \"yref\": \"y1\", \"x\": 1.55}, {\"xanchor\": \"left\", \"y\": 38, \"showarrow\": false, \"font\": {\"color\": \"#000000\"}, \"text\": \"2015\", \"align\": \"left\", \"xref\": \"x1\", \"yref\": \"y1\", \"x\": -0.45}, {\"xanchor\": \"left\", \"y\": 38, \"showarrow\": false, \"font\": {\"color\": \"#000000\"}, \"text\": \"Mozilla Clubs\", \"align\": \"left\", \"xref\": \"x1\", \"yref\": \"y1\", \"x\": 0.55}, {\"xanchor\": \"left\", \"y\": 38, \"showarrow\": false, \"font\": {\"color\": \"#000000\"}, \"text\": \"3\", \"align\": \"left\", \"xref\": \"x1\", \"yref\": \"y1\", \"x\": 1.55}, {\"xanchor\": \"left\", \"y\": 39, \"showarrow\": false, \"font\": {\"color\": \"#000000\"}, \"text\": \"2015\", \"align\": \"left\", \"xref\": \"x1\", \"yref\": \"y1\", \"x\": -0.45}, {\"xanchor\": \"left\", \"y\": 39, \"showarrow\": false, \"font\": {\"color\": \"#000000\"}, \"text\": \"Developer Tools\", \"align\": \"left\", \"xref\": \"x1\", \"yref\": \"y1\", \"x\": 0.55}, {\"xanchor\": \"left\", \"y\": 39, \"showarrow\": false, \"font\": {\"color\": \"#000000\"}, \"text\": \"2\", \"align\": \"left\", \"xref\": \"x1\", \"yref\": \"y1\", \"x\": 1.55}, {\"xanchor\": \"left\", \"y\": 40, \"showarrow\": false, \"font\": {\"color\": \"#000000\"}, \"text\": \"2015\", \"align\": \"left\", \"xref\": \"x1\", \"yref\": \"y1\", \"x\": -0.45}, {\"xanchor\": \"left\", \"y\": 40, \"showarrow\": false, \"font\": {\"color\": \"#000000\"}, \"text\": \"Mozilla Creative & Design\", \"align\": \"left\", \"xref\": \"x1\", \"yref\": \"y1\", \"x\": 0.55}, {\"xanchor\": \"left\", \"y\": 40, \"showarrow\": false, \"font\": {\"color\": \"#000000\"}, \"text\": \"2\", \"align\": \"left\", \"xref\": \"x1\", \"yref\": \"y1\", \"x\": 1.55}, {\"xanchor\": \"left\", \"y\": 41, \"showarrow\": false, \"font\": {\"color\": \"#000000\"}, \"text\": \"2014\", \"align\": \"left\", \"xref\": \"x1\", \"yref\": \"y1\", \"x\": -0.45}, {\"xanchor\": \"left\", \"y\": 41, \"showarrow\": false, \"font\": {\"color\": \"#000000\"}, \"text\": \"Unknown\", \"align\": \"left\", \"xref\": \"x1\", \"yref\": \"y1\", \"x\": 0.55}, {\"xanchor\": \"left\", \"y\": 41, \"showarrow\": false, \"font\": {\"color\": \"#000000\"}, \"text\": \"886\", \"align\": \"left\", \"xref\": \"x1\", \"yref\": \"y1\", \"x\": 1.55}, {\"xanchor\": \"left\", \"y\": 42, \"showarrow\": false, \"font\": {\"color\": \"#000000\"}, \"text\": \"2014\", \"align\": \"left\", \"xref\": \"x1\", \"yref\": \"y1\", \"x\": -0.45}, {\"xanchor\": \"left\", \"y\": 42, \"showarrow\": false, \"font\": {\"color\": \"#000000\"}, \"text\": \"Rust\", \"align\": \"left\", \"xref\": \"x1\", \"yref\": \"y1\", \"x\": 0.55}, {\"xanchor\": \"left\", \"y\": 42, \"showarrow\": false, \"font\": {\"color\": \"#000000\"}, \"text\": \"523\", \"align\": \"left\", \"xref\": \"x1\", \"yref\": \"y1\", \"x\": 1.55}, {\"xanchor\": \"left\", \"y\": 43, \"showarrow\": false, \"font\": {\"color\": \"#000000\"}, \"text\": \"2014\", \"align\": \"left\", \"xref\": \"x1\", \"yref\": \"y1\", \"x\": -0.45}, {\"xanchor\": \"left\", \"y\": 43, \"showarrow\": false, \"font\": {\"color\": \"#000000\"}, \"text\": \"Gecko\", \"align\": \"left\", \"xref\": \"x1\", \"yref\": \"y1\", \"x\": 0.55}, {\"xanchor\": \"left\", \"y\": 43, \"showarrow\": false, \"font\": {\"color\": \"#000000\"}, \"text\": \"299\", \"align\": \"left\", \"xref\": \"x1\", \"yref\": \"y1\", \"x\": 1.55}, {\"xanchor\": \"left\", \"y\": 44, \"showarrow\": false, \"font\": {\"color\": \"#000000\"}, \"text\": \"2014\", \"align\": \"left\", \"xref\": \"x1\", \"yref\": \"y1\", \"x\": -0.45}, {\"xanchor\": \"left\", \"y\": 44, \"showarrow\": false, \"font\": {\"color\": \"#000000\"}, \"text\": \"Web Properties\", \"align\": \"left\", \"xref\": \"x1\", \"yref\": \"y1\", \"x\": 0.55}, {\"xanchor\": \"left\", \"y\": 44, \"showarrow\": false, \"font\": {\"color\": \"#000000\"}, \"text\": \"131\", \"align\": \"left\", \"xref\": \"x1\", \"yref\": \"y1\", \"x\": 1.55}, {\"xanchor\": \"left\", \"y\": 45, \"showarrow\": false, \"font\": {\"color\": \"#000000\"}, \"text\": \"2014\", \"align\": \"left\", \"xref\": \"x1\", \"yref\": \"y1\", \"x\": -0.45}, {\"xanchor\": \"left\", \"y\": 45, \"showarrow\": false, \"font\": {\"color\": \"#000000\"}, \"text\": \"Servo\", \"align\": \"left\", \"xref\": \"x1\", \"yref\": \"y1\", \"x\": 0.55}, {\"xanchor\": \"left\", \"y\": 45, \"showarrow\": false, \"font\": {\"color\": \"#000000\"}, \"text\": \"124\", \"align\": \"left\", \"xref\": \"x1\", \"yref\": \"y1\", \"x\": 1.55}, {\"xanchor\": \"left\", \"y\": 46, \"showarrow\": false, \"font\": {\"color\": \"#000000\"}, \"text\": \"2014\", \"align\": \"left\", \"xref\": \"x1\", \"yref\": \"y1\", \"x\": -0.45}, {\"xanchor\": \"left\", \"y\": 46, \"showarrow\": false, \"font\": {\"color\": \"#000000\"}, \"text\": \"Mozilla Local/Regional communities\", \"align\": \"left\", \"xref\": \"x1\", \"yref\": \"y1\", \"x\": 0.55}, {\"xanchor\": \"left\", \"y\": 46, \"showarrow\": false, \"font\": {\"color\": \"#000000\"}, \"text\": \"104\", \"align\": \"left\", \"xref\": \"x1\", \"yref\": \"y1\", \"x\": 1.55}, {\"xanchor\": \"left\", \"y\": 47, \"showarrow\": false, \"font\": {\"color\": \"#000000\"}, \"text\": \"2014\", \"align\": \"left\", \"xref\": \"x1\", \"yref\": \"y1\", \"x\": -0.45}, {\"xanchor\": \"left\", \"y\": 47, \"showarrow\": false, \"font\": {\"color\": \"#000000\"}, \"text\": \"IT/Ops\", \"align\": \"left\", \"xref\": \"x1\", \"yref\": \"y1\", \"x\": 0.55}, {\"xanchor\": \"left\", \"y\": 47, \"showarrow\": false, \"font\": {\"color\": \"#000000\"}, \"text\": \"91\", \"align\": \"left\", \"xref\": \"x1\", \"yref\": \"y1\", \"x\": 1.55}, {\"xanchor\": \"left\", \"y\": 48, \"showarrow\": false, \"font\": {\"color\": \"#000000\"}, \"text\": \"2014\", \"align\": \"left\", \"xref\": \"x1\", \"yref\": \"y1\", \"x\": -0.45}, {\"xanchor\": \"left\", \"y\": 48, \"showarrow\": false, \"font\": {\"color\": \"#000000\"}, \"text\": \"Web Literacy\", \"align\": \"left\", \"xref\": \"x1\", \"yref\": \"y1\", \"x\": 0.55}, {\"xanchor\": \"left\", \"y\": 48, \"showarrow\": false, \"font\": {\"color\": \"#000000\"}, \"text\": \"45\", \"align\": \"left\", \"xref\": \"x1\", \"yref\": \"y1\", \"x\": 1.55}, {\"xanchor\": \"left\", \"y\": 49, \"showarrow\": false, \"font\": {\"color\": \"#000000\"}, \"text\": \"2014\", \"align\": \"left\", \"xref\": \"x1\", \"yref\": \"y1\", \"x\": -0.45}, {\"xanchor\": \"left\", \"y\": 49, \"showarrow\": false, \"font\": {\"color\": \"#000000\"}, \"text\": \"Mozilla Location Service (MLS) / Stumbler\", \"align\": \"left\", \"xref\": \"x1\", \"yref\": \"y1\", \"x\": 0.55}, {\"xanchor\": \"left\", \"y\": 49, \"showarrow\": false, \"font\": {\"color\": \"#000000\"}, \"text\": \"41\", \"align\": \"left\", \"xref\": \"x1\", \"yref\": \"y1\", \"x\": 1.55}, {\"xanchor\": \"left\", \"y\": 50, \"showarrow\": false, \"font\": {\"color\": \"#000000\"}, \"text\": \"2014\", \"align\": \"left\", \"xref\": \"x1\", \"yref\": \"y1\", \"x\": -0.45}, {\"xanchor\": \"left\", \"y\": 50, \"showarrow\": false, \"font\": {\"color\": \"#000000\"}, \"text\": \"Addons/Web Extensions\", \"align\": \"left\", \"xref\": \"x1\", \"yref\": \"y1\", \"x\": 0.55}, {\"xanchor\": \"left\", \"y\": 50, \"showarrow\": false, \"font\": {\"color\": \"#000000\"}, \"text\": \"32\", \"align\": \"left\", \"xref\": \"x1\", \"yref\": \"y1\", \"x\": 1.55}, {\"xanchor\": \"left\", \"y\": 51, \"showarrow\": false, \"font\": {\"color\": \"#000000\"}, \"text\": \"2014\", \"align\": \"left\", \"xref\": \"x1\", \"yref\": \"y1\", \"x\": -0.45}, {\"xanchor\": \"left\", \"y\": 51, \"showarrow\": false, \"font\": {\"color\": \"#000000\"}, \"text\": \"Mozilla Foundation\", \"align\": \"left\", \"xref\": \"x1\", \"yref\": \"y1\", \"x\": 0.55}, {\"xanchor\": \"left\", \"y\": 51, \"showarrow\": false, \"font\": {\"color\": \"#000000\"}, \"text\": \"14\", \"align\": \"left\", \"xref\": \"x1\", \"yref\": \"y1\", \"x\": 1.55}, {\"xanchor\": \"left\", \"y\": 52, \"showarrow\": false, \"font\": {\"color\": \"#000000\"}, \"text\": \"2014\", \"align\": \"left\", \"xref\": \"x1\", \"yref\": \"y1\", \"x\": -0.45}, {\"xanchor\": \"left\", \"y\": 52, \"showarrow\": false, \"font\": {\"color\": \"#000000\"}, \"text\": \"Firefox OS (FxOS / B2G)\", \"align\": \"left\", \"xref\": \"x1\", \"yref\": \"y1\", \"x\": 0.55}, {\"xanchor\": \"left\", \"y\": 52, \"showarrow\": false, \"font\": {\"color\": \"#000000\"}, \"text\": \"12\", \"align\": \"left\", \"xref\": \"x1\", \"yref\": \"y1\", \"x\": 1.55}, {\"xanchor\": \"left\", \"y\": 53, \"showarrow\": false, \"font\": {\"color\": \"#000000\"}, \"text\": \"2014\", \"align\": \"left\", \"xref\": \"x1\", \"yref\": \"y1\", \"x\": -0.45}, {\"xanchor\": \"left\", \"y\": 53, \"showarrow\": false, \"font\": {\"color\": \"#000000\"}, \"text\": \"Mozilla Science\", \"align\": \"left\", \"xref\": \"x1\", \"yref\": \"y1\", \"x\": 0.55}, {\"xanchor\": \"left\", \"y\": 53, \"showarrow\": false, \"font\": {\"color\": \"#000000\"}, \"text\": \"11\", \"align\": \"left\", \"xref\": \"x1\", \"yref\": \"y1\", \"x\": 1.55}, {\"xanchor\": \"left\", \"y\": 54, \"showarrow\": false, \"font\": {\"color\": \"#000000\"}, \"text\": \"2014\", \"align\": \"left\", \"xref\": \"x1\", \"yref\": \"y1\", \"x\": -0.45}, {\"xanchor\": \"left\", \"y\": 54, \"showarrow\": false, \"font\": {\"color\": \"#000000\"}, \"text\": \"Release engineering\", \"align\": \"left\", \"xref\": \"x1\", \"yref\": \"y1\", \"x\": 0.55}, {\"xanchor\": \"left\", \"y\": 54, \"showarrow\": false, \"font\": {\"color\": \"#000000\"}, \"text\": \"11\", \"align\": \"left\", \"xref\": \"x1\", \"yref\": \"y1\", \"x\": 1.55}, {\"xanchor\": \"left\", \"y\": 55, \"showarrow\": false, \"font\": {\"color\": \"#000000\"}, \"text\": \"2014\", \"align\": \"left\", \"xref\": \"x1\", \"yref\": \"y1\", \"x\": -0.45}, {\"xanchor\": \"left\", \"y\": 55, \"showarrow\": false, \"font\": {\"color\": \"#000000\"}, \"text\": \"Quality Assurance\", \"align\": \"left\", \"xref\": \"x1\", \"yref\": \"y1\", \"x\": 0.55}, {\"xanchor\": \"left\", \"y\": 55, \"showarrow\": false, \"font\": {\"color\": \"#000000\"}, \"text\": \"8\", \"align\": \"left\", \"xref\": \"x1\", \"yref\": \"y1\", \"x\": 1.55}, {\"xanchor\": \"left\", \"y\": 56, \"showarrow\": false, \"font\": {\"color\": \"#000000\"}, \"text\": \"2014\", \"align\": \"left\", \"xref\": \"x1\", \"yref\": \"y1\", \"x\": -0.45}, {\"xanchor\": \"left\", \"y\": 56, \"showarrow\": false, \"font\": {\"color\": \"#000000\"}, \"text\": \"Marketing / Social Media\", \"align\": \"left\", \"xref\": \"x1\", \"yref\": \"y1\", \"x\": 0.55}, {\"xanchor\": \"left\", \"y\": 56, \"showarrow\": false, \"font\": {\"color\": \"#000000\"}, \"text\": \"6\", \"align\": \"left\", \"xref\": \"x1\", \"yref\": \"y1\", \"x\": 1.55}, {\"xanchor\": \"left\", \"y\": 57, \"showarrow\": false, \"font\": {\"color\": \"#000000\"}, \"text\": \"2014\", \"align\": \"left\", \"xref\": \"x1\", \"yref\": \"y1\", \"x\": -0.45}, {\"xanchor\": \"left\", \"y\": 57, \"showarrow\": false, \"font\": {\"color\": \"#000000\"}, \"text\": \"Firefox iOS\", \"align\": \"left\", \"xref\": \"x1\", \"yref\": \"y1\", \"x\": 0.55}, {\"xanchor\": \"left\", \"y\": 57, \"showarrow\": false, \"font\": {\"color\": \"#000000\"}, \"text\": \"5\", \"align\": \"left\", \"xref\": \"x1\", \"yref\": \"y1\", \"x\": 1.55}, {\"xanchor\": \"left\", \"y\": 58, \"showarrow\": false, \"font\": {\"color\": \"#000000\"}, \"text\": \"2014\", \"align\": \"left\", \"xref\": \"x1\", \"yref\": \"y1\", \"x\": -0.45}, {\"xanchor\": \"left\", \"y\": 58, \"showarrow\": false, \"font\": {\"color\": \"#000000\"}, \"text\": \"Advocacy and policy\", \"align\": \"left\", \"xref\": \"x1\", \"yref\": \"y1\", \"x\": 0.55}, {\"xanchor\": \"left\", \"y\": 58, \"showarrow\": false, \"font\": {\"color\": \"#000000\"}, \"text\": \"4\", \"align\": \"left\", \"xref\": \"x1\", \"yref\": \"y1\", \"x\": 1.55}, {\"xanchor\": \"left\", \"y\": 59, \"showarrow\": false, \"font\": {\"color\": \"#000000\"}, \"text\": \"2014\", \"align\": \"left\", \"xref\": \"x1\", \"yref\": \"y1\", \"x\": -0.45}, {\"xanchor\": \"left\", \"y\": 59, \"showarrow\": false, \"font\": {\"color\": \"#000000\"}, \"text\": \"WebVR\", \"align\": \"left\", \"xref\": \"x1\", \"yref\": \"y1\", \"x\": 0.55}, {\"xanchor\": \"left\", \"y\": 59, \"showarrow\": false, \"font\": {\"color\": \"#000000\"}, \"text\": \"4\", \"align\": \"left\", \"xref\": \"x1\", \"yref\": \"y1\", \"x\": 1.55}, {\"xanchor\": \"left\", \"y\": 60, \"showarrow\": false, \"font\": {\"color\": \"#000000\"}, \"text\": \"2014\", \"align\": \"left\", \"xref\": \"x1\", \"yref\": \"y1\", \"x\": -0.45}, {\"xanchor\": \"left\", \"y\": 60, \"showarrow\": false, \"font\": {\"color\": \"#000000\"}, \"text\": \"Mozilla Developer Network (MDN)\", \"align\": \"left\", \"xref\": \"x1\", \"yref\": \"y1\", \"x\": 0.55}, {\"xanchor\": \"left\", \"y\": 60, \"showarrow\": false, \"font\": {\"color\": \"#000000\"}, \"text\": \"3\", \"align\": \"left\", \"xref\": \"x1\", \"yref\": \"y1\", \"x\": 1.55}, {\"xanchor\": \"left\", \"y\": 61, \"showarrow\": false, \"font\": {\"color\": \"#000000\"}, \"text\": \"2013\", \"align\": \"left\", \"xref\": \"x1\", \"yref\": \"y1\", \"x\": -0.45}, {\"xanchor\": \"left\", \"y\": 61, \"showarrow\": false, \"font\": {\"color\": \"#000000\"}, \"text\": \"Unknown\", \"align\": \"left\", \"xref\": \"x1\", \"yref\": \"y1\", \"x\": 0.55}, {\"xanchor\": \"left\", \"y\": 61, \"showarrow\": false, \"font\": {\"color\": \"#000000\"}, \"text\": \"713\", \"align\": \"left\", \"xref\": \"x1\", \"yref\": \"y1\", \"x\": 1.55}, {\"xanchor\": \"left\", \"y\": 62, \"showarrow\": false, \"font\": {\"color\": \"#000000\"}, \"text\": \"2013\", \"align\": \"left\", \"xref\": \"x1\", \"yref\": \"y1\", \"x\": -0.45}, {\"xanchor\": \"left\", \"y\": 62, \"showarrow\": false, \"font\": {\"color\": \"#000000\"}, \"text\": \"Gecko\", \"align\": \"left\", \"xref\": \"x1\", \"yref\": \"y1\", \"x\": 0.55}, {\"xanchor\": \"left\", \"y\": 62, \"showarrow\": false, \"font\": {\"color\": \"#000000\"}, \"text\": \"260\", \"align\": \"left\", \"xref\": \"x1\", \"yref\": \"y1\", \"x\": 1.55}, {\"xanchor\": \"left\", \"y\": 63, \"showarrow\": false, \"font\": {\"color\": \"#000000\"}, \"text\": \"2013\", \"align\": \"left\", \"xref\": \"x1\", \"yref\": \"y1\", \"x\": -0.45}, {\"xanchor\": \"left\", \"y\": 63, \"showarrow\": false, \"font\": {\"color\": \"#000000\"}, \"text\": \"Rust\", \"align\": \"left\", \"xref\": \"x1\", \"yref\": \"y1\", \"x\": 0.55}, {\"xanchor\": \"left\", \"y\": 63, \"showarrow\": false, \"font\": {\"color\": \"#000000\"}, \"text\": \"233\", \"align\": \"left\", \"xref\": \"x1\", \"yref\": \"y1\", \"x\": 1.55}, {\"xanchor\": \"left\", \"y\": 64, \"showarrow\": false, \"font\": {\"color\": \"#000000\"}, \"text\": \"2013\", \"align\": \"left\", \"xref\": \"x1\", \"yref\": \"y1\", \"x\": -0.45}, {\"xanchor\": \"left\", \"y\": 64, \"showarrow\": false, \"font\": {\"color\": \"#000000\"}, \"text\": \"Web Properties\", \"align\": \"left\", \"xref\": \"x1\", \"yref\": \"y1\", \"x\": 0.55}, {\"xanchor\": \"left\", \"y\": 64, \"showarrow\": false, \"font\": {\"color\": \"#000000\"}, \"text\": \"121\", \"align\": \"left\", \"xref\": \"x1\", \"yref\": \"y1\", \"x\": 1.55}, {\"xanchor\": \"left\", \"y\": 65, \"showarrow\": false, \"font\": {\"color\": \"#000000\"}, \"text\": \"2013\", \"align\": \"left\", \"xref\": \"x1\", \"yref\": \"y1\", \"x\": -0.45}, {\"xanchor\": \"left\", \"y\": 65, \"showarrow\": false, \"font\": {\"color\": \"#000000\"}, \"text\": \"Mozilla Local/Regional communities\", \"align\": \"left\", \"xref\": \"x1\", \"yref\": \"y1\", \"x\": 0.55}, {\"xanchor\": \"left\", \"y\": 65, \"showarrow\": false, \"font\": {\"color\": \"#000000\"}, \"text\": \"54\", \"align\": \"left\", \"xref\": \"x1\", \"yref\": \"y1\", \"x\": 1.55}, {\"xanchor\": \"left\", \"y\": 66, \"showarrow\": false, \"font\": {\"color\": \"#000000\"}, \"text\": \"2013\", \"align\": \"left\", \"xref\": \"x1\", \"yref\": \"y1\", \"x\": -0.45}, {\"xanchor\": \"left\", \"y\": 66, \"showarrow\": false, \"font\": {\"color\": \"#000000\"}, \"text\": \"Servo\", \"align\": \"left\", \"xref\": \"x1\", \"yref\": \"y1\", \"x\": 0.55}, {\"xanchor\": \"left\", \"y\": 66, \"showarrow\": false, \"font\": {\"color\": \"#000000\"}, \"text\": \"51\", \"align\": \"left\", \"xref\": \"x1\", \"yref\": \"y1\", \"x\": 1.55}, {\"xanchor\": \"left\", \"y\": 67, \"showarrow\": false, \"font\": {\"color\": \"#000000\"}, \"text\": \"2013\", \"align\": \"left\", \"xref\": \"x1\", \"yref\": \"y1\", \"x\": -0.45}, {\"xanchor\": \"left\", \"y\": 67, \"showarrow\": false, \"font\": {\"color\": \"#000000\"}, \"text\": \"IT/Ops\", \"align\": \"left\", \"xref\": \"x1\", \"yref\": \"y1\", \"x\": 0.55}, {\"xanchor\": \"left\", \"y\": 67, \"showarrow\": false, \"font\": {\"color\": \"#000000\"}, \"text\": \"48\", \"align\": \"left\", \"xref\": \"x1\", \"yref\": \"y1\", \"x\": 1.55}, {\"xanchor\": \"left\", \"y\": 68, \"showarrow\": false, \"font\": {\"color\": \"#000000\"}, \"text\": \"2013\", \"align\": \"left\", \"xref\": \"x1\", \"yref\": \"y1\", \"x\": -0.45}, {\"xanchor\": \"left\", \"y\": 68, \"showarrow\": false, \"font\": {\"color\": \"#000000\"}, \"text\": \"Addons/Web Extensions\", \"align\": \"left\", \"xref\": \"x1\", \"yref\": \"y1\", \"x\": 0.55}, {\"xanchor\": \"left\", \"y\": 68, \"showarrow\": false, \"font\": {\"color\": \"#000000\"}, \"text\": \"35\", \"align\": \"left\", \"xref\": \"x1\", \"yref\": \"y1\", \"x\": 1.55}, {\"xanchor\": \"left\", \"y\": 69, \"showarrow\": false, \"font\": {\"color\": \"#000000\"}, \"text\": \"2013\", \"align\": \"left\", \"xref\": \"x1\", \"yref\": \"y1\", \"x\": -0.45}, {\"xanchor\": \"left\", \"y\": 69, \"showarrow\": false, \"font\": {\"color\": \"#000000\"}, \"text\": \"Mozilla Foundation\", \"align\": \"left\", \"xref\": \"x1\", \"yref\": \"y1\", \"x\": 0.55}, {\"xanchor\": \"left\", \"y\": 69, \"showarrow\": false, \"font\": {\"color\": \"#000000\"}, \"text\": \"30\", \"align\": \"left\", \"xref\": \"x1\", \"yref\": \"y1\", \"x\": 1.55}, {\"xanchor\": \"left\", \"y\": 70, \"showarrow\": false, \"font\": {\"color\": \"#000000\"}, \"text\": \"2013\", \"align\": \"left\", \"xref\": \"x1\", \"yref\": \"y1\", \"x\": -0.45}, {\"xanchor\": \"left\", \"y\": 70, \"showarrow\": false, \"font\": {\"color\": \"#000000\"}, \"text\": \"Web Literacy\", \"align\": \"left\", \"xref\": \"x1\", \"yref\": \"y1\", \"x\": 0.55}, {\"xanchor\": \"left\", \"y\": 70, \"showarrow\": false, \"font\": {\"color\": \"#000000\"}, \"text\": \"21\", \"align\": \"left\", \"xref\": \"x1\", \"yref\": \"y1\", \"x\": 1.55}, {\"xanchor\": \"left\", \"y\": 71, \"showarrow\": false, \"font\": {\"color\": \"#000000\"}, \"text\": \"2013\", \"align\": \"left\", \"xref\": \"x1\", \"yref\": \"y1\", \"x\": -0.45}, {\"xanchor\": \"left\", \"y\": 71, \"showarrow\": false, \"font\": {\"color\": \"#000000\"}, \"text\": \"Mozilla Location Service (MLS) / Stumbler\", \"align\": \"left\", \"xref\": \"x1\", \"yref\": \"y1\", \"x\": 0.55}, {\"xanchor\": \"left\", \"y\": 71, \"showarrow\": false, \"font\": {\"color\": \"#000000\"}, \"text\": \"17\", \"align\": \"left\", \"xref\": \"x1\", \"yref\": \"y1\", \"x\": 1.55}, {\"xanchor\": \"left\", \"y\": 72, \"showarrow\": false, \"font\": {\"color\": \"#000000\"}, \"text\": \"2013\", \"align\": \"left\", \"xref\": \"x1\", \"yref\": \"y1\", \"x\": -0.45}, {\"xanchor\": \"left\", \"y\": 72, \"showarrow\": false, \"font\": {\"color\": \"#000000\"}, \"text\": \"Release engineering\", \"align\": \"left\", \"xref\": \"x1\", \"yref\": \"y1\", \"x\": 0.55}, {\"xanchor\": \"left\", \"y\": 72, \"showarrow\": false, \"font\": {\"color\": \"#000000\"}, \"text\": \"13\", \"align\": \"left\", \"xref\": \"x1\", \"yref\": \"y1\", \"x\": 1.55}, {\"xanchor\": \"left\", \"y\": 73, \"showarrow\": false, \"font\": {\"color\": \"#000000\"}, \"text\": \"2013\", \"align\": \"left\", \"xref\": \"x1\", \"yref\": \"y1\", \"x\": -0.45}, {\"xanchor\": \"left\", \"y\": 73, \"showarrow\": false, \"font\": {\"color\": \"#000000\"}, \"text\": \"Firefox OS (FxOS / B2G)\", \"align\": \"left\", \"xref\": \"x1\", \"yref\": \"y1\", \"x\": 0.55}, {\"xanchor\": \"left\", \"y\": 73, \"showarrow\": false, \"font\": {\"color\": \"#000000\"}, \"text\": \"8\", \"align\": \"left\", \"xref\": \"x1\", \"yref\": \"y1\", \"x\": 1.55}, {\"xanchor\": \"left\", \"y\": 74, \"showarrow\": false, \"font\": {\"color\": \"#000000\"}, \"text\": \"2013\", \"align\": \"left\", \"xref\": \"x1\", \"yref\": \"y1\", \"x\": -0.45}, {\"xanchor\": \"left\", \"y\": 74, \"showarrow\": false, \"font\": {\"color\": \"#000000\"}, \"text\": \"Quality Assurance\", \"align\": \"left\", \"xref\": \"x1\", \"yref\": \"y1\", \"x\": 0.55}, {\"xanchor\": \"left\", \"y\": 74, \"showarrow\": false, \"font\": {\"color\": \"#000000\"}, \"text\": \"6\", \"align\": \"left\", \"xref\": \"x1\", \"yref\": \"y1\", \"x\": 1.55}, {\"xanchor\": \"left\", \"y\": 75, \"showarrow\": false, \"font\": {\"color\": \"#000000\"}, \"text\": \"2013\", \"align\": \"left\", \"xref\": \"x1\", \"yref\": \"y1\", \"x\": -0.45}, {\"xanchor\": \"left\", \"y\": 75, \"showarrow\": false, \"font\": {\"color\": \"#000000\"}, \"text\": \"Marketing / Social Media\", \"align\": \"left\", \"xref\": \"x1\", \"yref\": \"y1\", \"x\": 0.55}, {\"xanchor\": \"left\", \"y\": 75, \"showarrow\": false, \"font\": {\"color\": \"#000000\"}, \"text\": \"2\", \"align\": \"left\", \"xref\": \"x1\", \"yref\": \"y1\", \"x\": 1.55}, {\"xanchor\": \"left\", \"y\": 76, \"showarrow\": false, \"font\": {\"color\": \"#000000\"}, \"text\": \"2013\", \"align\": \"left\", \"xref\": \"x1\", \"yref\": \"y1\", \"x\": -0.45}, {\"xanchor\": \"left\", \"y\": 76, \"showarrow\": false, \"font\": {\"color\": \"#000000\"}, \"text\": \"Mozilla Creative & Design\", \"align\": \"left\", \"xref\": \"x1\", \"yref\": \"y1\", \"x\": 0.55}, {\"xanchor\": \"left\", \"y\": 76, \"showarrow\": false, \"font\": {\"color\": \"#000000\"}, \"text\": \"2\", \"align\": \"left\", \"xref\": \"x1\", \"yref\": \"y1\", \"x\": 1.55}, {\"xanchor\": \"left\", \"y\": 77, \"showarrow\": false, \"font\": {\"color\": \"#000000\"}, \"text\": \"2013\", \"align\": \"left\", \"xref\": \"x1\", \"yref\": \"y1\", \"x\": -0.45}, {\"xanchor\": \"left\", \"y\": 77, \"showarrow\": false, \"font\": {\"color\": \"#000000\"}, \"text\": \"Mozilla Developer Network (MDN)\", \"align\": \"left\", \"xref\": \"x1\", \"yref\": \"y1\", \"x\": 0.55}, {\"xanchor\": \"left\", \"y\": 77, \"showarrow\": false, \"font\": {\"color\": \"#000000\"}, \"text\": \"2\", \"align\": \"left\", \"xref\": \"x1\", \"yref\": \"y1\", \"x\": 1.55}, {\"xanchor\": \"left\", \"y\": 78, \"showarrow\": false, \"font\": {\"color\": \"#000000\"}, \"text\": \"2013\", \"align\": \"left\", \"xref\": \"x1\", \"yref\": \"y1\", \"x\": -0.45}, {\"xanchor\": \"left\", \"y\": 78, \"showarrow\": false, \"font\": {\"color\": \"#000000\"}, \"text\": \"Mozilla Science\", \"align\": \"left\", \"xref\": \"x1\", \"yref\": \"y1\", \"x\": 0.55}, {\"xanchor\": \"left\", \"y\": 78, \"showarrow\": false, \"font\": {\"color\": \"#000000\"}, \"text\": \"2\", \"align\": \"left\", \"xref\": \"x1\", \"yref\": \"y1\", \"x\": 1.55}, {\"xanchor\": \"left\", \"y\": 79, \"showarrow\": false, \"font\": {\"color\": \"#000000\"}, \"text\": \"2013\", \"align\": \"left\", \"xref\": \"x1\", \"yref\": \"y1\", \"x\": -0.45}, {\"xanchor\": \"left\", \"y\": 79, \"showarrow\": false, \"font\": {\"color\": \"#000000\"}, \"text\": \"Firefox iOS\", \"align\": \"left\", \"xref\": \"x1\", \"yref\": \"y1\", \"x\": 0.55}, {\"xanchor\": \"left\", \"y\": 79, \"showarrow\": false, \"font\": {\"color\": \"#000000\"}, \"text\": \"1\", \"align\": \"left\", \"xref\": \"x1\", \"yref\": \"y1\", \"x\": 1.55}, {\"xanchor\": \"left\", \"y\": 80, \"showarrow\": false, \"font\": {\"color\": \"#000000\"}, \"text\": \"2013\", \"align\": \"left\", \"xref\": \"x1\", \"yref\": \"y1\", \"x\": -0.45}, {\"xanchor\": \"left\", \"y\": 80, \"showarrow\": false, \"font\": {\"color\": \"#000000\"}, \"text\": \"Not tracked\", \"align\": \"left\", \"xref\": \"x1\", \"yref\": \"y1\", \"x\": 0.55}, {\"xanchor\": \"left\", \"y\": 80, \"showarrow\": false, \"font\": {\"color\": \"#000000\"}, \"text\": \"1\", \"align\": \"left\", \"xref\": \"x1\", \"yref\": \"y1\", \"x\": 1.55}, {\"xanchor\": \"left\", \"y\": 81, \"showarrow\": false, \"font\": {\"color\": \"#000000\"}, \"text\": \"2012\", \"align\": \"left\", \"xref\": \"x1\", \"yref\": \"y1\", \"x\": -0.45}, {\"xanchor\": \"left\", \"y\": 81, \"showarrow\": false, \"font\": {\"color\": \"#000000\"}, \"text\": \"Unknown\", \"align\": \"left\", \"xref\": \"x1\", \"yref\": \"y1\", \"x\": 0.55}, {\"xanchor\": \"left\", \"y\": 81, \"showarrow\": false, \"font\": {\"color\": \"#000000\"}, \"text\": \"553\", \"align\": \"left\", \"xref\": \"x1\", \"yref\": \"y1\", \"x\": 1.55}, {\"xanchor\": \"left\", \"y\": 82, \"showarrow\": false, \"font\": {\"color\": \"#000000\"}, \"text\": \"2012\", \"align\": \"left\", \"xref\": \"x1\", \"yref\": \"y1\", \"x\": -0.45}, {\"xanchor\": \"left\", \"y\": 82, \"showarrow\": false, \"font\": {\"color\": \"#000000\"}, \"text\": \"Gecko\", \"align\": \"left\", \"xref\": \"x1\", \"yref\": \"y1\", \"x\": 0.55}, {\"xanchor\": \"left\", \"y\": 82, \"showarrow\": false, \"font\": {\"color\": \"#000000\"}, \"text\": \"226\", \"align\": \"left\", \"xref\": \"x1\", \"yref\": \"y1\", \"x\": 1.55}, {\"xanchor\": \"left\", \"y\": 83, \"showarrow\": false, \"font\": {\"color\": \"#000000\"}, \"text\": \"2012\", \"align\": \"left\", \"xref\": \"x1\", \"yref\": \"y1\", \"x\": -0.45}, {\"xanchor\": \"left\", \"y\": 83, \"showarrow\": false, \"font\": {\"color\": \"#000000\"}, \"text\": \"Rust\", \"align\": \"left\", \"xref\": \"x1\", \"yref\": \"y1\", \"x\": 0.55}, {\"xanchor\": \"left\", \"y\": 83, \"showarrow\": false, \"font\": {\"color\": \"#000000\"}, \"text\": \"89\", \"align\": \"left\", \"xref\": \"x1\", \"yref\": \"y1\", \"x\": 1.55}, {\"xanchor\": \"left\", \"y\": 84, \"showarrow\": false, \"font\": {\"color\": \"#000000\"}, \"text\": \"2012\", \"align\": \"left\", \"xref\": \"x1\", \"yref\": \"y1\", \"x\": -0.45}, {\"xanchor\": \"left\", \"y\": 84, \"showarrow\": false, \"font\": {\"color\": \"#000000\"}, \"text\": \"Web Properties\", \"align\": \"left\", \"xref\": \"x1\", \"yref\": \"y1\", \"x\": 0.55}, {\"xanchor\": \"left\", \"y\": 84, \"showarrow\": false, \"font\": {\"color\": \"#000000\"}, \"text\": \"67\", \"align\": \"left\", \"xref\": \"x1\", \"yref\": \"y1\", \"x\": 1.55}, {\"xanchor\": \"left\", \"y\": 85, \"showarrow\": false, \"font\": {\"color\": \"#000000\"}, \"text\": \"2012\", \"align\": \"left\", \"xref\": \"x1\", \"yref\": \"y1\", \"x\": -0.45}, {\"xanchor\": \"left\", \"y\": 85, \"showarrow\": false, \"font\": {\"color\": \"#000000\"}, \"text\": \"Servo\", \"align\": \"left\", \"xref\": \"x1\", \"yref\": \"y1\", \"x\": 0.55}, {\"xanchor\": \"left\", \"y\": 85, \"showarrow\": false, \"font\": {\"color\": \"#000000\"}, \"text\": \"47\", \"align\": \"left\", \"xref\": \"x1\", \"yref\": \"y1\", \"x\": 1.55}, {\"xanchor\": \"left\", \"y\": 86, \"showarrow\": false, \"font\": {\"color\": \"#000000\"}, \"text\": \"2012\", \"align\": \"left\", \"xref\": \"x1\", \"yref\": \"y1\", \"x\": -0.45}, {\"xanchor\": \"left\", \"y\": 86, \"showarrow\": false, \"font\": {\"color\": \"#000000\"}, \"text\": \"IT/Ops\", \"align\": \"left\", \"xref\": \"x1\", \"yref\": \"y1\", \"x\": 0.55}, {\"xanchor\": \"left\", \"y\": 86, \"showarrow\": false, \"font\": {\"color\": \"#000000\"}, \"text\": \"45\", \"align\": \"left\", \"xref\": \"x1\", \"yref\": \"y1\", \"x\": 1.55}, {\"xanchor\": \"left\", \"y\": 87, \"showarrow\": false, \"font\": {\"color\": \"#000000\"}, \"text\": \"2012\", \"align\": \"left\", \"xref\": \"x1\", \"yref\": \"y1\", \"x\": -0.45}, {\"xanchor\": \"left\", \"y\": 87, \"showarrow\": false, \"font\": {\"color\": \"#000000\"}, \"text\": \"Mozilla Local/Regional communities\", \"align\": \"left\", \"xref\": \"x1\", \"yref\": \"y1\", \"x\": 0.55}, {\"xanchor\": \"left\", \"y\": 87, \"showarrow\": false, \"font\": {\"color\": \"#000000\"}, \"text\": \"38\", \"align\": \"left\", \"xref\": \"x1\", \"yref\": \"y1\", \"x\": 1.55}, {\"xanchor\": \"left\", \"y\": 88, \"showarrow\": false, \"font\": {\"color\": \"#000000\"}, \"text\": \"2012\", \"align\": \"left\", \"xref\": \"x1\", \"yref\": \"y1\", \"x\": -0.45}, {\"xanchor\": \"left\", \"y\": 88, \"showarrow\": false, \"font\": {\"color\": \"#000000\"}, \"text\": \"Addons/Web Extensions\", \"align\": \"left\", \"xref\": \"x1\", \"yref\": \"y1\", \"x\": 0.55}, {\"xanchor\": \"left\", \"y\": 88, \"showarrow\": false, \"font\": {\"color\": \"#000000\"}, \"text\": \"23\", \"align\": \"left\", \"xref\": \"x1\", \"yref\": \"y1\", \"x\": 1.55}, {\"xanchor\": \"left\", \"y\": 89, \"showarrow\": false, \"font\": {\"color\": \"#000000\"}, \"text\": \"2012\", \"align\": \"left\", \"xref\": \"x1\", \"yref\": \"y1\", \"x\": -0.45}, {\"xanchor\": \"left\", \"y\": 89, \"showarrow\": false, \"font\": {\"color\": \"#000000\"}, \"text\": \"Mozilla Foundation\", \"align\": \"left\", \"xref\": \"x1\", \"yref\": \"y1\", \"x\": 0.55}, {\"xanchor\": \"left\", \"y\": 89, \"showarrow\": false, \"font\": {\"color\": \"#000000\"}, \"text\": \"14\", \"align\": \"left\", \"xref\": \"x1\", \"yref\": \"y1\", \"x\": 1.55}, {\"xanchor\": \"left\", \"y\": 90, \"showarrow\": false, \"font\": {\"color\": \"#000000\"}, \"text\": \"2012\", \"align\": \"left\", \"xref\": \"x1\", \"yref\": \"y1\", \"x\": -0.45}, {\"xanchor\": \"left\", \"y\": 90, \"showarrow\": false, \"font\": {\"color\": \"#000000\"}, \"text\": \"Release engineering\", \"align\": \"left\", \"xref\": \"x1\", \"yref\": \"y1\", \"x\": 0.55}, {\"xanchor\": \"left\", \"y\": 90, \"showarrow\": false, \"font\": {\"color\": \"#000000\"}, \"text\": \"13\", \"align\": \"left\", \"xref\": \"x1\", \"yref\": \"y1\", \"x\": 1.55}, {\"xanchor\": \"left\", \"y\": 91, \"showarrow\": false, \"font\": {\"color\": \"#000000\"}, \"text\": \"2012\", \"align\": \"left\", \"xref\": \"x1\", \"yref\": \"y1\", \"x\": -0.45}, {\"xanchor\": \"left\", \"y\": 91, \"showarrow\": false, \"font\": {\"color\": \"#000000\"}, \"text\": \"Web Literacy\", \"align\": \"left\", \"xref\": \"x1\", \"yref\": \"y1\", \"x\": 0.55}, {\"xanchor\": \"left\", \"y\": 91, \"showarrow\": false, \"font\": {\"color\": \"#000000\"}, \"text\": \"9\", \"align\": \"left\", \"xref\": \"x1\", \"yref\": \"y1\", \"x\": 1.55}, {\"xanchor\": \"left\", \"y\": 92, \"showarrow\": false, \"font\": {\"color\": \"#000000\"}, \"text\": \"2012\", \"align\": \"left\", \"xref\": \"x1\", \"yref\": \"y1\", \"x\": -0.45}, {\"xanchor\": \"left\", \"y\": 92, \"showarrow\": false, \"font\": {\"color\": \"#000000\"}, \"text\": \"Firefox OS (FxOS / B2G)\", \"align\": \"left\", \"xref\": \"x1\", \"yref\": \"y1\", \"x\": 0.55}, {\"xanchor\": \"left\", \"y\": 92, \"showarrow\": false, \"font\": {\"color\": \"#000000\"}, \"text\": \"5\", \"align\": \"left\", \"xref\": \"x1\", \"yref\": \"y1\", \"x\": 1.55}, {\"xanchor\": \"left\", \"y\": 93, \"showarrow\": false, \"font\": {\"color\": \"#000000\"}, \"text\": \"2012\", \"align\": \"left\", \"xref\": \"x1\", \"yref\": \"y1\", \"x\": -0.45}, {\"xanchor\": \"left\", \"y\": 93, \"showarrow\": false, \"font\": {\"color\": \"#000000\"}, \"text\": \"Localization\", \"align\": \"left\", \"xref\": \"x1\", \"yref\": \"y1\", \"x\": 0.55}, {\"xanchor\": \"left\", \"y\": 93, \"showarrow\": false, \"font\": {\"color\": \"#000000\"}, \"text\": \"4\", \"align\": \"left\", \"xref\": \"x1\", \"yref\": \"y1\", \"x\": 1.55}, {\"xanchor\": \"left\", \"y\": 94, \"showarrow\": false, \"font\": {\"color\": \"#000000\"}, \"text\": \"2012\", \"align\": \"left\", \"xref\": \"x1\", \"yref\": \"y1\", \"x\": -0.45}, {\"xanchor\": \"left\", \"y\": 94, \"showarrow\": false, \"font\": {\"color\": \"#000000\"}, \"text\": \"Quality Assurance\", \"align\": \"left\", \"xref\": \"x1\", \"yref\": \"y1\", \"x\": 0.55}, {\"xanchor\": \"left\", \"y\": 94, \"showarrow\": false, \"font\": {\"color\": \"#000000\"}, \"text\": \"4\", \"align\": \"left\", \"xref\": \"x1\", \"yref\": \"y1\", \"x\": 1.55}, {\"xanchor\": \"left\", \"y\": 95, \"showarrow\": false, \"font\": {\"color\": \"#000000\"}, \"text\": \"2012\", \"align\": \"left\", \"xref\": \"x1\", \"yref\": \"y1\", \"x\": -0.45}, {\"xanchor\": \"left\", \"y\": 95, \"showarrow\": false, \"font\": {\"color\": \"#000000\"}, \"text\": \"Firefox iOS\", \"align\": \"left\", \"xref\": \"x1\", \"yref\": \"y1\", \"x\": 0.55}, {\"xanchor\": \"left\", \"y\": 95, \"showarrow\": false, \"font\": {\"color\": \"#000000\"}, \"text\": \"1\", \"align\": \"left\", \"xref\": \"x1\", \"yref\": \"y1\", \"x\": 1.55}, {\"xanchor\": \"left\", \"y\": 96, \"showarrow\": false, \"font\": {\"color\": \"#000000\"}, \"text\": \"2012\", \"align\": \"left\", \"xref\": \"x1\", \"yref\": \"y1\", \"x\": -0.45}, {\"xanchor\": \"left\", \"y\": 96, \"showarrow\": false, \"font\": {\"color\": \"#000000\"}, \"text\": \"Technical/Developer Evangelism\", \"align\": \"left\", \"xref\": \"x1\", \"yref\": \"y1\", \"x\": 0.55}, {\"xanchor\": \"left\", \"y\": 96, \"showarrow\": false, \"font\": {\"color\": \"#000000\"}, \"text\": \"1\", \"align\": \"left\", \"xref\": \"x1\", \"yref\": \"y1\", \"x\": 1.55}], \"yaxis\": {\"dtick\": 1, \"tick0\": 0.5, \"zeroline\": false, \"autorange\": \"reversed\", \"gridwidth\": 2, \"ticks\": \"\", \"showticklabels\": false}, \"xaxis\": {\"dtick\": 1, \"tick0\": -0.5, \"showticklabels\": false, \"zeroline\": false, \"gridwidth\": 2, \"ticks\": \"\"}, \"margin\": {\"r\": 0, \"l\": 0, \"b\": 0, \"t\": 0}, \"height\": 2960}, {\"linkText\": \"Export to plot.ly\", \"showLink\": true})});</script>"
      ]
     },
     "metadata": {},
     "output_type": "display_data"
    }
   ],
   "source": [
    "#results = []\n",
    "#for i in analyzed_range:\n",
    "\n",
    "# Buckets by author name, finding first commit for each of them\n",
    "s = ut.create_search(es_conn, 'git')\n",
    "\n",
    "# Filter commits to the Project Repos\n",
    "s = ut.add_project_filter(s, project_name)\n",
    "\n",
    "\n",
    "# Retrieve commits before given year\n",
    "s = s.filter('range', grimoire_creation_date={'lt': 'now/y'})\n",
    "\n",
    "# Bucketize by uuid and get first and last commit\n",
    "s.aggs.bucket('authors', 'terms', field='author_uuid', size=100000) \\\n",
    "    .metric('first', 'top_hits', _source=['author_date', 'author_org_name', 'author_uuid', 'project'],\n",
    "            size=1, sort=[{\"author_date\": {\"order\": \"asc\"}}]) \\\n",
    "    .metric('last_commit', 'max', field='author_date')\n",
    "s = s.sort(\"author_date\")\n",
    "#print(s.to_dict())\n",
    "result = s.execute()\n",
    "\n",
    "authors_df = ut.get_authors_df(result, author_bucket_field='authors')\n",
    "#authors_df['active_years'] = (authors_df.last_commit-authors_df.first_commit).astype('timedelta64[Y]')\n",
    "\n",
    "# Get year of First Commit\n",
    "authors_df['first_commit'] = authors_df['first_commit'].map(lambda t: t.to_pydatetime().year)\n",
    "\n",
    "# Group by year of first commit and project, counting number of authors\n",
    "projects_df = authors_df.groupby(['first_commit', 'project']).agg({'author': pandas.Series.nunique})\n",
    "projects_df.rename(columns={\"author\": \"# authors\"}, inplace=True)\n",
    "projects_df = projects_df.reset_index().sort_values(by=['first_commit', '# authors'], ascending=[False, False])\n",
    "\n",
    "# Get top 20 projects based on newcomers from 2011\n",
    "rankings_df = pandas.DataFrame()\n",
    "for year in projects_df['first_commit'].unique():\n",
    "    if year > 2011:\n",
    "        year_df = projects_df.loc[projects_df['first_commit'] == year].head(20)\n",
    "        rankings_df = pandas.concat([rankings_df, year_df]) \n",
    "\n",
    "ut.print_table(rankings_df, filename='git-top-projects-newcomers-table')\n"
   ]
  },
  {
   "cell_type": "code",
   "execution_count": 4,
   "metadata": {
    "collapsed": false
   },
   "outputs": [
    {
     "data": {
      "text/html": [
       "<script>requirejs.config({paths: { 'plotly': ['https://cdn.plot.ly/plotly-latest.min']},});if(!window.Plotly) {{require(['plotly'],function(plotly) {window.Plotly=plotly;});}}</script>"
      ],
      "text/vnd.plotly.v1+html": [
       "<script>requirejs.config({paths: { 'plotly': ['https://cdn.plot.ly/plotly-latest.min']},});if(!window.Plotly) {{require(['plotly'],function(plotly) {window.Plotly=plotly;});}}</script>"
      ]
     },
     "metadata": {},
     "output_type": "display_data"
    },
    {
     "data": {
      "application/vnd.plotly.v1+json": {
       "data": [
        {
         "mode": "lines+markers",
         "name": "Unknown",
         "type": "scatter",
         "x": [
          2016,
          2015,
          2014,
          2013,
          2012
         ],
         "y": [
          896,
          1005,
          886,
          713,
          553
         ]
        },
        {
         "mode": "lines+markers",
         "name": "Rust",
         "type": "scatter",
         "x": [
          2016,
          2015,
          2014,
          2013,
          2012
         ],
         "y": [
          493,
          642,
          523,
          233,
          89
         ]
        },
        {
         "mode": "lines+markers",
         "name": "Gecko",
         "type": "scatter",
         "x": [
          2016,
          2015,
          2014,
          2013,
          2012
         ],
         "y": [
          286,
          242,
          299,
          260,
          226
         ]
        },
        {
         "mode": "lines+markers",
         "name": "Servo",
         "type": "scatter",
         "x": [
          2016,
          2015,
          2014,
          2013,
          2012
         ],
         "y": [
          194,
          168,
          124,
          51,
          47
         ]
        },
        {
         "mode": "lines+markers",
         "name": "Web Properties",
         "type": "scatter",
         "x": [
          2016,
          2015,
          2014,
          2013,
          2012
         ],
         "y": [
          132,
          160,
          131,
          121,
          67
         ]
        },
        {
         "mode": "lines+markers",
         "name": "WebVR",
         "type": "scatter",
         "x": [
          2016,
          2015,
          2014,
          2013,
          2012
         ],
         "y": [
          113,
          16,
          4
         ]
        },
        {
         "mode": "lines+markers",
         "name": "IT/Ops",
         "type": "scatter",
         "x": [
          2016,
          2015,
          2014,
          2013,
          2012
         ],
         "y": [
          100,
          86,
          91,
          48,
          45
         ]
        },
        {
         "mode": "lines+markers",
         "name": "Mozilla Local/Regional communities",
         "type": "scatter",
         "x": [
          2016,
          2015,
          2014,
          2013,
          2012
         ],
         "y": [
          57,
          60,
          104,
          54,
          38
         ]
        },
        {
         "mode": "lines+markers",
         "name": "Addons/Web Extensions",
         "type": "scatter",
         "x": [
          2016,
          2015,
          2014,
          2013,
          2012
         ],
         "y": [
          40,
          24,
          32,
          35,
          23
         ]
        },
        {
         "mode": "lines+markers",
         "name": "Mozilla Developer Network (MDN)",
         "type": "scatter",
         "x": [
          2016,
          2015,
          2014,
          2013,
          2012
         ],
         "y": [
          40,
          25,
          3,
          2
         ]
        },
        {
         "mode": "lines+markers",
         "name": "Mozilla Science",
         "type": "scatter",
         "x": [
          2016,
          2015,
          2014,
          2013,
          2012
         ],
         "y": [
          32,
          41,
          11,
          2
         ]
        },
        {
         "mode": "lines+markers",
         "name": "Firefox iOS",
         "type": "scatter",
         "x": [
          2016,
          2015,
          2014,
          2013,
          2012
         ],
         "y": [
          16,
          30,
          5,
          1,
          1
         ]
        },
        {
         "mode": "lines+markers",
         "name": "Test Pilot",
         "type": "scatter",
         "x": [
          2016,
          2015,
          2014,
          2013,
          2012
         ],
         "y": [
          11
         ]
        },
        {
         "mode": "lines+markers",
         "name": "Mozilla Foundation",
         "type": "scatter",
         "x": [
          2016,
          2015,
          2014,
          2013,
          2012
         ],
         "y": [
          8,
          14,
          30,
          14
         ]
        },
        {
         "mode": "lines+markers",
         "name": "Mozilla Creative & Design",
         "type": "scatter",
         "x": [
          2016,
          2015,
          2014,
          2013,
          2012
         ],
         "y": [
          7,
          2,
          2
         ]
        },
        {
         "mode": "lines+markers",
         "name": "Advocacy and policy",
         "type": "scatter",
         "x": [
          2016,
          2015,
          2014,
          2013,
          2012
         ],
         "y": [
          6,
          3,
          4
         ]
        },
        {
         "mode": "lines+markers",
         "name": "Localization",
         "type": "scatter",
         "x": [
          2016,
          2015,
          2014,
          2013,
          2012
         ],
         "y": [
          4,
          4
         ]
        },
        {
         "mode": "lines+markers",
         "name": "Release engineering",
         "type": "scatter",
         "x": [
          2016,
          2015,
          2014,
          2013,
          2012
         ],
         "y": [
          3,
          11,
          11,
          13,
          13
         ]
        },
        {
         "mode": "lines+markers",
         "name": "Technical/Developer Evangelism",
         "type": "scatter",
         "x": [
          2016,
          2015,
          2014,
          2013,
          2012
         ],
         "y": [
          3,
          1
         ]
        },
        {
         "mode": "lines+markers",
         "name": "Campus Clubs (previously Student Ambassadors)",
         "type": "scatter",
         "x": [
          2016,
          2015,
          2014,
          2013,
          2012
         ],
         "y": [
          2
         ]
        },
        {
         "mode": "lines+markers",
         "name": "Firefox OS (FxOS / B2G)",
         "type": "scatter",
         "x": [
          2016,
          2015,
          2014,
          2013,
          2012
         ],
         "y": [
          22,
          12,
          8,
          5
         ]
        },
        {
         "mode": "lines+markers",
         "name": "Web Literacy",
         "type": "scatter",
         "x": [
          2016,
          2015,
          2014,
          2013,
          2012
         ],
         "y": [
          11,
          45,
          21,
          9
         ]
        },
        {
         "mode": "lines+markers",
         "name": "Mozilla Location Service (MLS) / Stumbler",
         "type": "scatter",
         "x": [
          2016,
          2015,
          2014,
          2013,
          2012
         ],
         "y": [
          4,
          41,
          17
         ]
        },
        {
         "mode": "lines+markers",
         "name": "Mozilla Clubs",
         "type": "scatter",
         "x": [
          2016,
          2015,
          2014,
          2013,
          2012
         ],
         "y": [
          3
         ]
        },
        {
         "mode": "lines+markers",
         "name": "Developer Tools",
         "type": "scatter",
         "x": [
          2016,
          2015,
          2014,
          2013,
          2012
         ],
         "y": [
          2
         ]
        },
        {
         "mode": "lines+markers",
         "name": "Quality Assurance",
         "type": "scatter",
         "x": [
          2016,
          2015,
          2014,
          2013,
          2012
         ],
         "y": [
          8,
          6,
          4
         ]
        },
        {
         "mode": "lines+markers",
         "name": "Marketing / Social Media",
         "type": "scatter",
         "x": [
          2016,
          2015,
          2014,
          2013,
          2012
         ],
         "y": [
          6,
          2
         ]
        },
        {
         "mode": "lines+markers",
         "name": "Not tracked",
         "type": "scatter",
         "x": [
          2016,
          2015,
          2014,
          2013,
          2012
         ],
         "y": [
          1
         ]
        }
       ],
       "layout": {}
      },
      "text/html": [
       "<div id=\"b3859eba-d690-4160-977f-47d04ac7d8d1\" style=\"height: 525px; width: 100%;\" class=\"plotly-graph-div\"></div><script type=\"text/javascript\">require([\"plotly\"], function(Plotly) { window.PLOTLYENV=window.PLOTLYENV || {};window.PLOTLYENV.BASE_URL=\"https://plot.ly\";Plotly.newPlot(\"b3859eba-d690-4160-977f-47d04ac7d8d1\", [{\"mode\": \"lines+markers\", \"type\": \"scatter\", \"y\": [896, 1005, 886, 713, 553], \"name\": \"Unknown\", \"x\": [2016, 2015, 2014, 2013, 2012]}, {\"mode\": \"lines+markers\", \"type\": \"scatter\", \"y\": [493, 642, 523, 233, 89], \"name\": \"Rust\", \"x\": [2016, 2015, 2014, 2013, 2012]}, {\"mode\": \"lines+markers\", \"type\": \"scatter\", \"y\": [286, 242, 299, 260, 226], \"name\": \"Gecko\", \"x\": [2016, 2015, 2014, 2013, 2012]}, {\"mode\": \"lines+markers\", \"type\": \"scatter\", \"y\": [194, 168, 124, 51, 47], \"name\": \"Servo\", \"x\": [2016, 2015, 2014, 2013, 2012]}, {\"mode\": \"lines+markers\", \"type\": \"scatter\", \"y\": [132, 160, 131, 121, 67], \"name\": \"Web Properties\", \"x\": [2016, 2015, 2014, 2013, 2012]}, {\"mode\": \"lines+markers\", \"type\": \"scatter\", \"y\": [113, 16, 4], \"name\": \"WebVR\", \"x\": [2016, 2015, 2014, 2013, 2012]}, {\"mode\": \"lines+markers\", \"type\": \"scatter\", \"y\": [100, 86, 91, 48, 45], \"name\": \"IT/Ops\", \"x\": [2016, 2015, 2014, 2013, 2012]}, {\"mode\": \"lines+markers\", \"type\": \"scatter\", \"y\": [57, 60, 104, 54, 38], \"name\": \"Mozilla Local/Regional communities\", \"x\": [2016, 2015, 2014, 2013, 2012]}, {\"mode\": \"lines+markers\", \"type\": \"scatter\", \"y\": [40, 24, 32, 35, 23], \"name\": \"Addons/Web Extensions\", \"x\": [2016, 2015, 2014, 2013, 2012]}, {\"mode\": \"lines+markers\", \"type\": \"scatter\", \"y\": [40, 25, 3, 2], \"name\": \"Mozilla Developer Network (MDN)\", \"x\": [2016, 2015, 2014, 2013, 2012]}, {\"mode\": \"lines+markers\", \"type\": \"scatter\", \"y\": [32, 41, 11, 2], \"name\": \"Mozilla Science\", \"x\": [2016, 2015, 2014, 2013, 2012]}, {\"mode\": \"lines+markers\", \"type\": \"scatter\", \"y\": [16, 30, 5, 1, 1], \"name\": \"Firefox iOS\", \"x\": [2016, 2015, 2014, 2013, 2012]}, {\"mode\": \"lines+markers\", \"type\": \"scatter\", \"y\": [11], \"name\": \"Test Pilot\", \"x\": [2016, 2015, 2014, 2013, 2012]}, {\"mode\": \"lines+markers\", \"type\": \"scatter\", \"y\": [8, 14, 30, 14], \"name\": \"Mozilla Foundation\", \"x\": [2016, 2015, 2014, 2013, 2012]}, {\"mode\": \"lines+markers\", \"type\": \"scatter\", \"y\": [7, 2, 2], \"name\": \"Mozilla Creative & Design\", \"x\": [2016, 2015, 2014, 2013, 2012]}, {\"mode\": \"lines+markers\", \"type\": \"scatter\", \"y\": [6, 3, 4], \"name\": \"Advocacy and policy\", \"x\": [2016, 2015, 2014, 2013, 2012]}, {\"mode\": \"lines+markers\", \"type\": \"scatter\", \"y\": [4, 4], \"name\": \"Localization\", \"x\": [2016, 2015, 2014, 2013, 2012]}, {\"mode\": \"lines+markers\", \"type\": \"scatter\", \"y\": [3, 11, 11, 13, 13], \"name\": \"Release engineering\", \"x\": [2016, 2015, 2014, 2013, 2012]}, {\"mode\": \"lines+markers\", \"type\": \"scatter\", \"y\": [3, 1], \"name\": \"Technical/Developer Evangelism\", \"x\": [2016, 2015, 2014, 2013, 2012]}, {\"mode\": \"lines+markers\", \"type\": \"scatter\", \"y\": [2], \"name\": \"Campus Clubs (previously Student Ambassadors)\", \"x\": [2016, 2015, 2014, 2013, 2012]}, {\"mode\": \"lines+markers\", \"type\": \"scatter\", \"y\": [22, 12, 8, 5], \"name\": \"Firefox OS (FxOS / B2G)\", \"x\": [2016, 2015, 2014, 2013, 2012]}, {\"mode\": \"lines+markers\", \"type\": \"scatter\", \"y\": [11, 45, 21, 9], \"name\": \"Web Literacy\", \"x\": [2016, 2015, 2014, 2013, 2012]}, {\"mode\": \"lines+markers\", \"type\": \"scatter\", \"y\": [4, 41, 17], \"name\": \"Mozilla Location Service (MLS) / Stumbler\", \"x\": [2016, 2015, 2014, 2013, 2012]}, {\"mode\": \"lines+markers\", \"type\": \"scatter\", \"y\": [3], \"name\": \"Mozilla Clubs\", \"x\": [2016, 2015, 2014, 2013, 2012]}, {\"mode\": \"lines+markers\", \"type\": \"scatter\", \"y\": [2], \"name\": \"Developer Tools\", \"x\": [2016, 2015, 2014, 2013, 2012]}, {\"mode\": \"lines+markers\", \"type\": \"scatter\", \"y\": [8, 6, 4], \"name\": \"Quality Assurance\", \"x\": [2016, 2015, 2014, 2013, 2012]}, {\"mode\": \"lines+markers\", \"type\": \"scatter\", \"y\": [6, 2], \"name\": \"Marketing / Social Media\", \"x\": [2016, 2015, 2014, 2013, 2012]}, {\"mode\": \"lines+markers\", \"type\": \"scatter\", \"y\": [1], \"name\": \"Not tracked\", \"x\": [2016, 2015, 2014, 2013, 2012]}], {}, {\"linkText\": \"Export to plot.ly\", \"showLink\": true})});</script>"
      ],
      "text/vnd.plotly.v1+html": [
       "<div id=\"b3859eba-d690-4160-977f-47d04ac7d8d1\" style=\"height: 525px; width: 100%;\" class=\"plotly-graph-div\"></div><script type=\"text/javascript\">require([\"plotly\"], function(Plotly) { window.PLOTLYENV=window.PLOTLYENV || {};window.PLOTLYENV.BASE_URL=\"https://plot.ly\";Plotly.newPlot(\"b3859eba-d690-4160-977f-47d04ac7d8d1\", [{\"mode\": \"lines+markers\", \"type\": \"scatter\", \"y\": [896, 1005, 886, 713, 553], \"name\": \"Unknown\", \"x\": [2016, 2015, 2014, 2013, 2012]}, {\"mode\": \"lines+markers\", \"type\": \"scatter\", \"y\": [493, 642, 523, 233, 89], \"name\": \"Rust\", \"x\": [2016, 2015, 2014, 2013, 2012]}, {\"mode\": \"lines+markers\", \"type\": \"scatter\", \"y\": [286, 242, 299, 260, 226], \"name\": \"Gecko\", \"x\": [2016, 2015, 2014, 2013, 2012]}, {\"mode\": \"lines+markers\", \"type\": \"scatter\", \"y\": [194, 168, 124, 51, 47], \"name\": \"Servo\", \"x\": [2016, 2015, 2014, 2013, 2012]}, {\"mode\": \"lines+markers\", \"type\": \"scatter\", \"y\": [132, 160, 131, 121, 67], \"name\": \"Web Properties\", \"x\": [2016, 2015, 2014, 2013, 2012]}, {\"mode\": \"lines+markers\", \"type\": \"scatter\", \"y\": [113, 16, 4], \"name\": \"WebVR\", \"x\": [2016, 2015, 2014, 2013, 2012]}, {\"mode\": \"lines+markers\", \"type\": \"scatter\", \"y\": [100, 86, 91, 48, 45], \"name\": \"IT/Ops\", \"x\": [2016, 2015, 2014, 2013, 2012]}, {\"mode\": \"lines+markers\", \"type\": \"scatter\", \"y\": [57, 60, 104, 54, 38], \"name\": \"Mozilla Local/Regional communities\", \"x\": [2016, 2015, 2014, 2013, 2012]}, {\"mode\": \"lines+markers\", \"type\": \"scatter\", \"y\": [40, 24, 32, 35, 23], \"name\": \"Addons/Web Extensions\", \"x\": [2016, 2015, 2014, 2013, 2012]}, {\"mode\": \"lines+markers\", \"type\": \"scatter\", \"y\": [40, 25, 3, 2], \"name\": \"Mozilla Developer Network (MDN)\", \"x\": [2016, 2015, 2014, 2013, 2012]}, {\"mode\": \"lines+markers\", \"type\": \"scatter\", \"y\": [32, 41, 11, 2], \"name\": \"Mozilla Science\", \"x\": [2016, 2015, 2014, 2013, 2012]}, {\"mode\": \"lines+markers\", \"type\": \"scatter\", \"y\": [16, 30, 5, 1, 1], \"name\": \"Firefox iOS\", \"x\": [2016, 2015, 2014, 2013, 2012]}, {\"mode\": \"lines+markers\", \"type\": \"scatter\", \"y\": [11], \"name\": \"Test Pilot\", \"x\": [2016, 2015, 2014, 2013, 2012]}, {\"mode\": \"lines+markers\", \"type\": \"scatter\", \"y\": [8, 14, 30, 14], \"name\": \"Mozilla Foundation\", \"x\": [2016, 2015, 2014, 2013, 2012]}, {\"mode\": \"lines+markers\", \"type\": \"scatter\", \"y\": [7, 2, 2], \"name\": \"Mozilla Creative & Design\", \"x\": [2016, 2015, 2014, 2013, 2012]}, {\"mode\": \"lines+markers\", \"type\": \"scatter\", \"y\": [6, 3, 4], \"name\": \"Advocacy and policy\", \"x\": [2016, 2015, 2014, 2013, 2012]}, {\"mode\": \"lines+markers\", \"type\": \"scatter\", \"y\": [4, 4], \"name\": \"Localization\", \"x\": [2016, 2015, 2014, 2013, 2012]}, {\"mode\": \"lines+markers\", \"type\": \"scatter\", \"y\": [3, 11, 11, 13, 13], \"name\": \"Release engineering\", \"x\": [2016, 2015, 2014, 2013, 2012]}, {\"mode\": \"lines+markers\", \"type\": \"scatter\", \"y\": [3, 1], \"name\": \"Technical/Developer Evangelism\", \"x\": [2016, 2015, 2014, 2013, 2012]}, {\"mode\": \"lines+markers\", \"type\": \"scatter\", \"y\": [2], \"name\": \"Campus Clubs (previously Student Ambassadors)\", \"x\": [2016, 2015, 2014, 2013, 2012]}, {\"mode\": \"lines+markers\", \"type\": \"scatter\", \"y\": [22, 12, 8, 5], \"name\": \"Firefox OS (FxOS / B2G)\", \"x\": [2016, 2015, 2014, 2013, 2012]}, {\"mode\": \"lines+markers\", \"type\": \"scatter\", \"y\": [11, 45, 21, 9], \"name\": \"Web Literacy\", \"x\": [2016, 2015, 2014, 2013, 2012]}, {\"mode\": \"lines+markers\", \"type\": \"scatter\", \"y\": [4, 41, 17], \"name\": \"Mozilla Location Service (MLS) / Stumbler\", \"x\": [2016, 2015, 2014, 2013, 2012]}, {\"mode\": \"lines+markers\", \"type\": \"scatter\", \"y\": [3], \"name\": \"Mozilla Clubs\", \"x\": [2016, 2015, 2014, 2013, 2012]}, {\"mode\": \"lines+markers\", \"type\": \"scatter\", \"y\": [2], \"name\": \"Developer Tools\", \"x\": [2016, 2015, 2014, 2013, 2012]}, {\"mode\": \"lines+markers\", \"type\": \"scatter\", \"y\": [8, 6, 4], \"name\": \"Quality Assurance\", \"x\": [2016, 2015, 2014, 2013, 2012]}, {\"mode\": \"lines+markers\", \"type\": \"scatter\", \"y\": [6, 2], \"name\": \"Marketing / Social Media\", \"x\": [2016, 2015, 2014, 2013, 2012]}, {\"mode\": \"lines+markers\", \"type\": \"scatter\", \"y\": [1], \"name\": \"Not tracked\", \"x\": [2016, 2015, 2014, 2013, 2012]}], {}, {\"linkText\": \"Export to plot.ly\", \"showLink\": true})});</script>"
      ]
     },
     "metadata": {},
     "output_type": "display_data"
    }
   ],
   "source": [
    "plotly.offline.init_notebook_mode(connected=True)\n",
    "\n",
    "data = []\n",
    "for project in rankings_df['project'].unique():\n",
    "    #print(exp, '\\n', exp_groups_evo_df.loc[exp].tolist(), '\\n', exp_groups_evo_df.loc[exp].index.values)\n",
    "    data.append(\n",
    "        go.Scatter(\n",
    "            x = rankings_df['first_commit'].unique(),\n",
    "            y = rankings_df.loc[(rankings_df['project'] == project), '# authors'],\n",
    "            mode = 'lines+markers',\n",
    "            name = project\n",
    "        )\n",
    "    )\n",
    "    \n",
    "\n",
    "\n",
    "plotly.offline.iplot(data, filename='line-mode')"
   ]
  },
  {
   "cell_type": "markdown",
   "metadata": {},
   "source": [
    "# Authors DataFrame\n",
    "Get a dataframes of Authors from a given year to the past. Each dataframe includes first commit date, last commit date, org, uuid and project."
   ]
  },
  {
   "cell_type": "code",
   "execution_count": 8,
   "metadata": {
    "collapsed": false
   },
   "outputs": [
    {
     "data": {
      "text/plain": [
       "[                                         author        first_commit  \\\n",
       " 11232  149ad981c7f8acd65b9cb9a3f306833fc4b6ec8e 2016-12-31 12:01:23   \n",
       " 10338  778f8adac79c8593c8413792e9d838e0620797c1 2016-12-31 08:34:00   \n",
       " 13981  f0a27b3276baf429f51f6afed8ece01f1a09e7d0 2016-12-31 05:11:58   \n",
       " 10180  5c6bef06c5d1fa2e83f13db2046ec3d9d27bd00d 2016-12-30 23:09:23   \n",
       " 13060  977b2b48ece5125093c2cfdedb56be00bdba4f13 2016-12-30 22:21:03   \n",
       " 12247  57a1cf0d7a35c3f77475953873212148d3c01e1b 2016-12-30 21:55:02   \n",
       " 10439  8c536fb5c49a281f793cb47e933fd71403891960 2016-12-30 17:26:13   \n",
       " 13186  a1e6b9aca42df46460c5fed6a73cde615b2b04a3 2016-12-30 16:45:19   \n",
       " 11529  26e5b20e7ccff92ec895b5f4af3f5f0b9a5b0f0a 2016-12-30 14:34:47   \n",
       " 9636   09a899922407e40e04fa6ab865da040f06c0d904 2016-12-30 12:22:11   \n",
       " 9338   c91f349eb811f5870fe7b4e987bd34decfbf72cb 2016-12-30 11:34:16   \n",
       " 12809  829a9b7eae96736b2408c62c4b2843721116fe41 2016-12-29 23:33:52   \n",
       " 13513  c19b5436d45eb06bb0d9a16accd4a16da1ad9765 2016-12-29 14:21:07   \n",
       " 11553  286f050fe75f8123df329c88b74f3dd61b73bda4 2016-12-28 18:43:08   \n",
       " 13463  bd1da52b37734708ba675cb93b8ab3ab5ac5446c 2016-12-28 18:09:59   \n",
       " 9772   1c9ccec2047e42eb37053a6e93cb10781c56ec82 2016-12-28 16:53:00   \n",
       " 13160  a067de6a2df3134c3a54484d2c6c591e33292310 2016-12-28 14:40:00   \n",
       " 8415   1acb847ed91053f596e5d2a0fc8fe76fb4fba4af 2016-12-28 13:49:02   \n",
       " 10097  4d0114c7876b3d23637a32f6e203ab41d3f44c29 2016-12-28 07:37:45   \n",
       " 13478  be7f54d1d9bdb9670d03199e686f1879c83c0676 2016-12-27 18:40:18   \n",
       " 11100  0c0e7a91ec6c5fccdc12908ec0bce098eba1e6d2 2016-12-27 18:33:38   \n",
       " 10128  52502839f4fbdf5ace2fbdb762d45dbcc823b872 2016-12-27 11:23:01   \n",
       " 14065  f9c29c898de1dd801116553fd199756e8578cb16 2016-12-27 02:26:30   \n",
       " 12781  8029b8cbba702813f9db5fee076cd51cba88ea6b 2016-12-26 11:57:01   \n",
       " 12382  60f4fe71470b196031f56fc50d9baa62660a2ca9 2016-12-25 23:43:29   \n",
       " 10576  a70d6a435ee2abdde02c69ee51bf7295c83d1aed 2016-12-25 20:26:47   \n",
       " 5255   af14482946c22b366fa5dce339353678b9878f20 2016-12-25 03:23:16   \n",
       " 13887  e6a4f7d00dfd76c6953ddc69f277d6525c974c10 2016-12-24 21:15:34   \n",
       " 12125  4ec03c3a988487c297943fbc52c059aecb51246c 2016-12-24 17:06:15   \n",
       " 11049  08c839ef9eb306147e00a308b4aa00388d8e5e50 2016-12-24 00:25:16   \n",
       " ...                                         ...                 ...   \n",
       " 896    5e8873da77bfc73b744c8ef257eede9cce53c04f 1998-04-14 19:26:42   \n",
       " 2633   069d7fbce4c27ff1d7866e0732fff1ccbd6a6476 1998-04-14 18:14:55   \n",
       " 2419   6565db00622ee1261c295d44f8b883a2f363df1c 1998-04-14 17:29:44   \n",
       " 1601   47ac23f0868d747b6d9d61c596c226fbee59919e 1998-04-14 16:53:16   \n",
       " 911    8426e77b1adabfc17cf61da651a0194683856612 1998-04-14 01:49:20   \n",
       " 1603   97546fd53af5fa01ce7090030f41a94f7157a22b 1998-04-14 01:24:06   \n",
       " 1028   a2522930974eb40699e11ecf43ff2d51799161d4 1998-04-14 00:31:59   \n",
       " 1644   fe5fd18b94c889e8934bfbabbd976f5ea6686443 1998-04-13 23:58:48   \n",
       " 1642   9861a7175cf51bf91a8c627eead1ccee3081dabd 1998-04-13 23:56:35   \n",
       " 2219   c939ef8317b162b4daaad54fdfd77ceaad6fd4ce 1998-04-13 21:07:10   \n",
       " 291    4782bfeacd4153cda87b5f1111afee53ac1187ee 1998-04-13 20:24:54   \n",
       " 2568   e7e12cca5bb66ad7d4a40d7f1f8f66f0082e7324 1998-04-09 03:54:33   \n",
       " 2643   38a3bfe8ad27c5843eb55868ae23422db0b971c8 1998-04-09 00:07:08   \n",
       " 1479   887002ff63d3f1b7a54ed99ca39aa8422e660f15 1998-04-08 21:23:19   \n",
       " 934    d2d0ee7863d5a2400c69c490942ce407385d185b 1998-04-08 04:20:39   \n",
       " 1684   3320ad91ab9ba8156863b4e8d3ca0b7ddcf11dde 1998-04-08 04:04:58   \n",
       " 3320   7e6e1bd0112ae67da0fb5256daec2ef7adad9778 1998-04-08 01:47:23   \n",
       " 1664   52d75e285d275e0b47723fedf669281f00ddde2e 1998-04-07 23:30:24   \n",
       " 749    431b3b9443363d840dc45885370dce1ebf0bb6df 1998-04-07 20:41:06   \n",
       " 1188   856e9a14c44a9e771c6f940145b26575c81e2228 1998-04-07 20:36:46   \n",
       " 1041   2ca3b7c9678c67a58174dbc2e5e91f2a04b019e6 1998-04-06 23:54:42   \n",
       " 2263   d95d6e15648451cfc45885ee0de13b85f412403a 1998-03-30 23:59:41   \n",
       " 1599   2a205325afe7a7ba7f2e44ab0b0f7a0dc5a9de00 1998-03-30 23:30:00   \n",
       " 1952   c612c17daa0436547fdf8dde7038b13ddc77f0d9 1998-03-30 23:15:36   \n",
       " 7664   fee82d83c32b57da8be70bb1a60fdd18945a4d89 1998-03-30 01:59:34   \n",
       " 1806   360bda5d687dec2cadfb804f08c53e32c9a00a27 1998-03-29 21:51:40   \n",
       " 3333   be4def1ae593ac3e9a3e6a7d3eb847e93bb21bb2 1998-03-28 02:44:41   \n",
       " 5281   ea866ddbc4b20d4f191bcdecd514b76e22341c39 1998-03-28 00:00:00   \n",
       " 9874   290509554a8d2cd7f0c6f5cfb1c1048e86615fb2 1998-03-27 00:00:00   \n",
       " 249    5ab67497e1980994af3ffe34e602401ea09237e2 1998-01-01 07:13:13   \n",
       " \n",
       "               last_commit            org         project  active_years  \n",
       " 11232 2016-12-31 12:01:23      Community            Rust           0.0  \n",
       " 10338 2016-12-31 08:34:00      Community           Gecko           0.0  \n",
       " 13981 2016-12-31 05:11:58      Community  Web Properties           0.0  \n",
       " 10180 2016-12-30 23:09:23      Community           Gecko           0.0  \n",
       " 13060 2016-12-30 22:21:03      Community           Servo           0.0  \n",
       " 12247 2016-12-30 21:55:02      Community            Rust           0.0  \n",
       " 10439 2016-12-30 17:26:13      Community           WebVR           0.0  \n",
       " 13186 2016-12-30 16:45:19      Community           WebVR           0.0  \n",
       " 11529 2016-12-30 14:34:47      Community            Rust           0.0  \n",
       " 9636  2016-12-30 13:21:21      Community            Rust           0.0  \n",
       " 9338  2016-12-30 11:40:34      Community         Unknown           0.0  \n",
       " 12809 2016-12-29 23:33:52      Community          IT/Ops           0.0  \n",
       " 13513 2016-12-29 14:21:07      Community            Rust           0.0  \n",
       " 11553 2016-12-28 18:43:08      Community           Servo           0.0  \n",
       " 13463 2016-12-28 18:09:59      Community  Web Properties           0.0  \n",
       " 9772  2016-12-28 16:53:00      Community           Gecko           0.0  \n",
       " 13160 2016-12-28 14:40:00      Community            Rust           0.0  \n",
       " 8415  2016-12-28 22:43:51      Community           Gecko           0.0  \n",
       " 10097 2016-12-28 07:37:45      Community           Gecko           0.0  \n",
       " 13478 2016-12-27 18:40:18      Community            Rust           0.0  \n",
       " 11100 2016-12-27 18:33:38      Community  Web Properties           0.0  \n",
       " 10128 2016-12-27 11:23:01      Community           Gecko           0.0  \n",
       " 14065 2016-12-27 02:26:30      Community            Rust           0.0  \n",
       " 12781 2016-12-26 11:57:01      Community            Rust           0.0  \n",
       " 12382 2016-12-25 23:43:29      Community  Web Properties           0.0  \n",
       " 10576 2016-12-25 20:26:47      Community           WebVR           0.0  \n",
       " 5255  2016-12-27 06:56:15      Community           Gecko           0.0  \n",
       " 13887 2016-12-24 21:15:34      Community         Unknown           0.0  \n",
       " 12125 2016-12-24 17:06:15      Community            Rust           0.0  \n",
       " 11049 2016-12-24 00:25:16      Community          IT/Ops           0.0  \n",
       " ...                   ...            ...             ...           ...  \n",
       " 896   1998-07-10 17:29:03      Community           Gecko           0.0  \n",
       " 2633  1998-05-15 18:49:17      Community           Gecko           0.0  \n",
       " 2419  1998-06-09 22:41:49      Community           Gecko           0.0  \n",
       " 1601  1998-07-14 22:52:07      Community           Gecko           0.0  \n",
       " 911   1998-07-14 18:43:47      Community           Gecko           0.0  \n",
       " 1603  1998-07-09 23:00:29      Community           Gecko           0.0  \n",
       " 1028  1998-07-15 17:04:56      Community           Gecko           0.0  \n",
       " 1644  1998-07-15 16:33:40      Community           Gecko           0.0  \n",
       " 1642  1998-07-15 00:37:11      Community           Gecko           0.0  \n",
       " 2219  1998-05-27 07:33:12      Community           Gecko           0.0  \n",
       " 291   1998-07-15 18:55:53      Community           Gecko           0.0  \n",
       " 2568  1998-05-28 18:20:00      Community         Unknown           0.0  \n",
       " 2643  1998-07-01 22:36:44      Community         Unknown           0.0  \n",
       " 1479  1998-07-02 02:39:54      Community           Gecko           0.0  \n",
       " 934   1998-07-15 10:34:34      Community         Unknown           0.0  \n",
       " 1684  1998-07-09 02:19:37      Community           Gecko           0.0  \n",
       " 3320  1998-06-23 02:32:45      Community           Gecko           0.0  \n",
       " 1664  1998-07-09 16:42:08      Community         Unknown           0.0  \n",
       " 749   1998-07-15 17:03:53      Community           Gecko           0.0  \n",
       " 1188  1998-07-01 05:13:10      Community           Gecko           0.0  \n",
       " 1041  1998-07-10 22:19:56      Community         Unknown           0.0  \n",
       " 2263  1998-07-15 17:26:32      Community           Gecko           0.0  \n",
       " 1599  1998-07-10 17:22:06      Community         Unknown           0.0  \n",
       " 1952  1998-07-02 20:03:03      Community         Unknown           0.0  \n",
       " 7664  1998-03-30 01:59:34      Community           Gecko           0.0  \n",
       " 1806  1998-07-14 21:13:23      Community         Unknown           0.0  \n",
       " 3333  1998-06-22 21:28:47      Community         Unknown           0.0  \n",
       " 5281  2016-01-17 00:00:00      Community         Unknown          17.0  \n",
       " 9874  1998-03-27 00:00:00      Community         Unknown           0.0  \n",
       " 249   2016-12-31 07:05:00  Mozilla Staff           Servo          18.0  \n",
       " \n",
       " [14120 rows x 6 columns],\n",
       "                                          author        first_commit  \\\n",
       " 10391  6810552de52be12521e220fbb5a86a69eb1d3122 2015-12-30 21:31:39   \n",
       " 7847   aaec64ab47fbfde7f0c6b700ca4b0650f6e6a741 2015-12-30 21:31:25   \n",
       " 7978   cfe3f91cd9bb3a540bf1fdff50d1b29d884de306 2015-12-30 16:27:56   \n",
       " 9875   3975871ceff73b48d4c04038e622dade54b0738a 2015-12-30 15:25:59   \n",
       " 10583  7af9f9d4c6ab916e93a243efa5e98637433bb8a7 2015-12-30 15:20:22   \n",
       " 9028   d41bc4392da7134abfe4a92d25dc5f6f64637820 2015-12-30 14:40:10   \n",
       " 6437   4e579d223d31f8a59efa4c547f27d5b140ac17ec 2015-12-30 12:59:00   \n",
       " 8566   541f076752af67ece7817f2e364f791a21b0d2f5 2015-12-30 12:33:57   \n",
       " 8086   ef42ed936fac6fd9a0fedc453fda43f3a0727b92 2015-12-30 11:41:59   \n",
       " 10503  726452e69a6dcc3da2c36ac10770893a6ca4c475 2015-12-30 01:57:45   \n",
       " 9265   07e12ae2822d12245e8af2951b144b54632c1f36 2015-12-29 15:42:48   \n",
       " 9049   dba4d7b301d655f6f33322f08a9894695d3a4430 2015-12-29 09:43:45   \n",
       " 5982   6f8b5b1dbc17b3ba3d021d7550f716f46ae42a29 2015-12-29 00:10:21   \n",
       " 11323  d2f08563c9977f012c7ab84b33d1568e22665d12 2015-12-28 23:53:38   \n",
       " 8001   d553d3d76b2cd08e328f22c8f6cb25c9af793dce 2015-12-28 21:19:59   \n",
       " 8797   8f602223673aa977acd96d971237474160ca5b8b 2015-12-28 21:09:06   \n",
       " 9779   30cf313e836b78365bd1fb4e2082eb2bec800a13 2015-12-28 13:39:18   \n",
       " 6146   b59fe152320598a7a97bd77dcc9dafd4ecc0130d 2015-12-28 13:06:31   \n",
       " 9669   27c447c04dd10cef822d76e4d0fbb7915fe5a14d 2015-12-28 09:23:09   \n",
       " 6293   08d97959a6b1dd1b680245d086a5d78175c2be17 2015-12-28 05:31:11   \n",
       " 9613   22eea86ee547929564f7b35c52ebd6aef14fdae4 2015-12-26 21:29:28   \n",
       " 6418   433dd4e34715fd55412646619616153dcbf9aa1f 2015-12-26 13:39:42   \n",
       " 8870   a20e8a1552cd761e40d9bd0bc97e4c623125fad8 2015-12-26 07:44:57   \n",
       " 9803   32ed1029b92527ae80f45e722ca9c4ca15b8d265 2015-12-26 06:24:11   \n",
       " 9369   0fdbe84f63e8e9559064752216155d4ec2c37767 2015-12-26 06:13:31   \n",
       " 7163   071d9dc6d6c0853ee28f73788e08880d5f24dd89 2015-12-26 01:10:12   \n",
       " 9388   119086ab427771fe20ac7f8d42c540d4d8071709 2015-12-25 13:36:15   \n",
       " 9535   1d8267f4e06b5fab1c6e04717cb7450222d383c0 2015-12-25 03:52:14   \n",
       " 11259  ca5fe236cee86c1e5f2af4e58488a1a1767f4f9c 2015-12-24 23:04:44   \n",
       " 11523  ec0483fce611e649ad644afa81a7b92bf560c02d 2015-12-24 20:22:22   \n",
       " ...                                         ...                 ...   \n",
       " 835    5e8873da77bfc73b744c8ef257eede9cce53c04f 1998-04-14 19:26:42   \n",
       " 2396   069d7fbce4c27ff1d7866e0732fff1ccbd6a6476 1998-04-14 18:14:55   \n",
       " 2210   6565db00622ee1261c295d44f8b883a2f363df1c 1998-04-14 17:29:44   \n",
       " 1480   47ac23f0868d747b6d9d61c596c226fbee59919e 1998-04-14 16:53:16   \n",
       " 848    8426e77b1adabfc17cf61da651a0194683856612 1998-04-14 01:49:20   \n",
       " 1483   97546fd53af5fa01ce7090030f41a94f7157a22b 1998-04-14 01:24:06   \n",
       " 951    a2522930974eb40699e11ecf43ff2d51799161d4 1998-04-14 00:31:59   \n",
       " 1516   fe5fd18b94c889e8934bfbabbd976f5ea6686443 1998-04-13 23:58:48   \n",
       " 1514   9861a7175cf51bf91a8c627eead1ccee3081dabd 1998-04-13 23:56:35   \n",
       " 2037   c939ef8317b162b4daaad54fdfd77ceaad6fd4ce 1998-04-13 21:07:10   \n",
       " 275    4782bfeacd4153cda87b5f1111afee53ac1187ee 1998-04-13 20:24:54   \n",
       " 2339   e7e12cca5bb66ad7d4a40d7f1f8f66f0082e7324 1998-04-09 03:54:33   \n",
       " 2405   38a3bfe8ad27c5843eb55868ae23422db0b971c8 1998-04-09 00:07:08   \n",
       " 1370   887002ff63d3f1b7a54ed99ca39aa8422e660f15 1998-04-08 21:23:19   \n",
       " 865    d2d0ee7863d5a2400c69c490942ce407385d185b 1998-04-08 04:20:39   \n",
       " 1555   3320ad91ab9ba8156863b4e8d3ca0b7ddcf11dde 1998-04-08 04:04:58   \n",
       " 2985   7e6e1bd0112ae67da0fb5256daec2ef7adad9778 1998-04-08 01:47:23   \n",
       " 1533   52d75e285d275e0b47723fedf669281f00ddde2e 1998-04-07 23:30:24   \n",
       " 703    431b3b9443363d840dc45885370dce1ebf0bb6df 1998-04-07 20:41:06   \n",
       " 1098   856e9a14c44a9e771c6f940145b26575c81e2228 1998-04-07 20:36:46   \n",
       " 968    2ca3b7c9678c67a58174dbc2e5e91f2a04b019e6 1998-04-06 23:54:42   \n",
       " 2079   d95d6e15648451cfc45885ee0de13b85f412403a 1998-03-30 23:59:41   \n",
       " 1477   2a205325afe7a7ba7f2e44ab0b0f7a0dc5a9de00 1998-03-30 23:30:00   \n",
       " 1782   c612c17daa0436547fdf8dde7038b13ddc77f0d9 1998-03-30 23:15:36   \n",
       " 6669   fee82d83c32b57da8be70bb1a60fdd18945a4d89 1998-03-30 01:59:34   \n",
       " 1668   360bda5d687dec2cadfb804f08c53e32c9a00a27 1998-03-29 21:51:40   \n",
       " 3002   be4def1ae593ac3e9a3e6a7d3eb847e93bb21bb2 1998-03-28 02:44:41   \n",
       " 4849   ea866ddbc4b20d4f191bcdecd514b76e22341c39 1998-03-28 00:00:00   \n",
       " 8362   290509554a8d2cd7f0c6f5cfb1c1048e86615fb2 1998-03-27 00:00:00   \n",
       " 233    5ab67497e1980994af3ffe34e602401ea09237e2 1998-01-01 07:13:13   \n",
       " \n",
       "               last_commit            org                             project  \\\n",
       " 10391 2015-12-30 21:31:39      Community                      Web Properties   \n",
       " 7847  2015-12-30 21:31:25      Community                             Unknown   \n",
       " 7978  2015-12-30 16:27:56      Community                             Unknown   \n",
       " 9875  2015-12-30 15:25:59      Community                                Rust   \n",
       " 10583 2015-12-30 15:20:22      Community                             Unknown   \n",
       " 9028  2015-12-30 22:18:09      Community                              IT/Ops   \n",
       " 6437  2015-12-30 12:59:00      Community                               Gecko   \n",
       " 8566  2015-12-30 13:04:00      Community                              IT/Ops   \n",
       " 8086  2015-12-31 11:41:21      Community  Mozilla Local/Regional communities   \n",
       " 10503 2015-12-30 01:57:45      Community                               WebVR   \n",
       " 9265  2015-12-29 15:42:48      Community                             Unknown   \n",
       " 9049  2015-12-29 09:52:22      Community                                Rust   \n",
       " 5982  2015-12-29 11:54:35      Community                             Unknown   \n",
       " 11323 2015-12-28 23:53:38      Community                                Rust   \n",
       " 8001  2015-12-28 21:19:59      Community                             Unknown   \n",
       " 8797  2015-12-29 06:37:06      Community                                Rust   \n",
       " 9779  2015-12-28 13:39:18      Community  Mozilla Local/Regional communities   \n",
       " 6146  2015-12-31 11:14:58      Community                             Unknown   \n",
       " 9669  2015-12-28 09:23:09      Community                         Firefox iOS   \n",
       " 6293  2015-12-30 16:27:55      Community                                Rust   \n",
       " 9613  2015-12-26 21:29:28      Community                                Rust   \n",
       " 6418  2015-12-26 13:39:42  Mozilla Staff                             Unknown   \n",
       " 8870  2015-12-26 07:44:57      Community                               WebVR   \n",
       " 9803  2015-12-26 06:24:11      Community                               Servo   \n",
       " 9369  2015-12-26 06:13:31      Community                                Rust   \n",
       " 7163  2015-12-30 19:36:02      Community                             Unknown   \n",
       " 9388  2015-12-25 13:36:15      Community  Mozilla Local/Regional communities   \n",
       " 9535  2015-12-25 03:52:14      Community                      Web Properties   \n",
       " 11259 2015-12-24 23:04:44      Community                             Unknown   \n",
       " 11523 2015-12-24 20:22:22      Community                             Unknown   \n",
       " ...                   ...            ...                                 ...   \n",
       " 835   1998-07-10 17:29:03      Community                               Gecko   \n",
       " 2396  1998-05-15 18:49:17      Community                               Gecko   \n",
       " 2210  1998-06-09 22:41:49      Community                               Gecko   \n",
       " 1480  1998-07-14 22:52:07      Community                               Gecko   \n",
       " 848   1998-07-14 18:43:47      Community                               Gecko   \n",
       " 1483  1998-07-09 23:00:29      Community                               Gecko   \n",
       " 951   1998-07-15 17:04:56      Community                               Gecko   \n",
       " 1516  1998-07-15 16:33:40      Community                               Gecko   \n",
       " 1514  1998-07-15 00:37:11      Community                               Gecko   \n",
       " 2037  1998-05-27 07:33:12      Community                               Gecko   \n",
       " 275   1998-07-15 18:55:53      Community                               Gecko   \n",
       " 2339  1998-05-28 18:20:00      Community                             Unknown   \n",
       " 2405  1998-07-01 22:36:44      Community                             Unknown   \n",
       " 1370  1998-07-02 02:39:54      Community                               Gecko   \n",
       " 865   1998-07-15 10:34:34      Community                             Unknown   \n",
       " 1555  1998-07-09 02:19:37      Community                               Gecko   \n",
       " 2985  1998-06-23 02:32:45      Community                               Gecko   \n",
       " 1533  1998-07-09 16:42:08      Community                             Unknown   \n",
       " 703   1998-07-15 17:03:53      Community                               Gecko   \n",
       " 1098  1998-07-01 05:13:10      Community                               Gecko   \n",
       " 968   1998-07-10 22:19:56      Community                             Unknown   \n",
       " 2079  1998-07-15 17:26:32      Community                               Gecko   \n",
       " 1477  1998-07-10 17:22:06      Community                             Unknown   \n",
       " 1782  1998-07-02 20:03:03      Community                             Unknown   \n",
       " 6669  1998-03-30 01:59:34      Community                               Gecko   \n",
       " 1668  1998-07-14 21:13:23      Community                             Unknown   \n",
       " 3002  1998-06-22 21:28:47      Community                             Unknown   \n",
       " 4849  2014-01-19 00:00:00      Community                             Unknown   \n",
       " 8362  1998-03-27 00:00:00      Community                             Unknown   \n",
       " 233   2015-11-23 20:20:00  Mozilla Staff                               Servo   \n",
       " \n",
       "        active_years  \n",
       " 10391           0.0  \n",
       " 7847            0.0  \n",
       " 7978            0.0  \n",
       " 9875            0.0  \n",
       " 10583           0.0  \n",
       " 9028            0.0  \n",
       " 6437            0.0  \n",
       " 8566            0.0  \n",
       " 8086            0.0  \n",
       " 10503           0.0  \n",
       " 9265            0.0  \n",
       " 9049            0.0  \n",
       " 5982            0.0  \n",
       " 11323           0.0  \n",
       " 8001            0.0  \n",
       " 8797            0.0  \n",
       " 9779            0.0  \n",
       " 6146            0.0  \n",
       " 9669            0.0  \n",
       " 6293            0.0  \n",
       " 9613            0.0  \n",
       " 6418            0.0  \n",
       " 8870            0.0  \n",
       " 9803            0.0  \n",
       " 9369            0.0  \n",
       " 7163            0.0  \n",
       " 9388            0.0  \n",
       " 9535            0.0  \n",
       " 11259           0.0  \n",
       " 11523           0.0  \n",
       " ...             ...  \n",
       " 835             0.0  \n",
       " 2396            0.0  \n",
       " 2210            0.0  \n",
       " 1480            0.0  \n",
       " 848             0.0  \n",
       " 1483            0.0  \n",
       " 951             0.0  \n",
       " 1516            0.0  \n",
       " 1514            0.0  \n",
       " 2037            0.0  \n",
       " 275             0.0  \n",
       " 2339            0.0  \n",
       " 2405            0.0  \n",
       " 1370            0.0  \n",
       " 865             0.0  \n",
       " 1555            0.0  \n",
       " 2985            0.0  \n",
       " 1533            0.0  \n",
       " 703             0.0  \n",
       " 1098            0.0  \n",
       " 968             0.0  \n",
       " 2079            0.0  \n",
       " 1477            0.0  \n",
       " 1782            0.0  \n",
       " 6669            0.0  \n",
       " 1668            0.0  \n",
       " 3002            0.0  \n",
       " 4849           15.0  \n",
       " 8362            0.0  \n",
       " 233            17.0  \n",
       " \n",
       " [11666 rows x 6 columns],\n",
       "                                         author        first_commit  \\\n",
       " 8919  dceffa60fbb651451613323e2a8942541ac97d02 2014-12-31 18:52:27   \n",
       " 7486  10945e2e1f3fb1a970a6057b668705373c1a989d 2014-12-30 22:10:30   \n",
       " 8198  66c6ea4e1cc405cd50d805889fca98bd884a835d 2014-12-30 19:43:16   \n",
       " 7407  07e9a0923824f7ab7a297fcb038eb18cdefe4739 2014-12-30 19:23:16   \n",
       " 6697  1ef99d36c018734d3d4403a9f476dc1752448dd2 2014-12-30 17:16:56   \n",
       " 8406  84a16d2ce4135a7b9d4351ed59a190d38c232243 2014-12-30 16:54:39   \n",
       " 8069  54d322fc336de09a54a339e8da2b1caf4453c948 2014-12-30 14:13:41   \n",
       " 7944  45c5e6f5a788500c8255fe29941166d92385b7ad 2014-12-30 14:13:36   \n",
       " 5067  6eaa0089721c8cc519705f3ea8215d45d3a456c7 2014-12-30 14:07:57   \n",
       " 8130  5cc9abc7867e75e9b4d9c725a1ea31252d5032ca 2014-12-30 13:32:25   \n",
       " 6731  25f7b54a555c5030886849b2231441053962ef0e 2014-12-30 07:38:23   \n",
       " 8312  76c8c69b7c495eda7da05a9dd5ac1cb204d62a61 2014-12-30 04:20:24   \n",
       " 4130  4143e69cc78d974a66082d3fa781241d67c80a13 2014-12-30 00:54:46   \n",
       " 8089  57aba44900a7bdde45d2581fb39b45feeb5bdf23 2014-12-29 22:16:53   \n",
       " 8096  589eff5a6d27688c6aafb76071d2218bd225d31d 2014-12-29 16:20:17   \n",
       " 7929  438fc533df9d206246480d1e6ac985b2ba1d8e21 2014-12-29 12:36:46   \n",
       " 8062  53c58b0856c591dc68001ac568c4b7f4fe674dcb 2014-12-29 07:12:45   \n",
       " 8053  52c5a6b49c6408004f269085de8ec1556c103ba0 2014-12-29 04:44:18   \n",
       " 8813  cc571f404440232eede9441acdfa091824b1ef70 2014-12-28 22:37:09   \n",
       " 4209  f8bdb372b32076065652bc8027e8a66cf4301878 2014-12-28 22:22:48   \n",
       " 5129  8dc36cda40161df51bc5a6c39862c991c53bf542 2014-12-28 19:33:37   \n",
       " 6965  670cdbfb2d8cb76a1937c7124a3c29ae5e3c4608 2014-12-28 16:51:00   \n",
       " 6700  1fc515e8a96011f3d999e6300a418939c94a8054 2014-12-28 15:44:03   \n",
       " 5170  a344b1a1c109c233087034445600984f85db855e 2014-12-28 00:38:00   \n",
       " 8770  c2a63314b7c89fc8ac2fbc92b8e9dc68e7ad001b 2014-12-27 23:47:16   \n",
       " 7134  a10268e2f071f802198dbdd37d2d91fec053937a 2014-12-27 22:45:13   \n",
       " 8061  539a4dc0ca84b0f6c2d49fbff7b104fa3fe543c7 2014-12-27 21:08:47   \n",
       " 7311  f366a5b9693b0592d36934a6d23b033ade3b0dd9 2014-12-27 19:48:16   \n",
       " 5071  70a29817be00a273ef2ae084ebc568c56a0620f4 2014-12-27 12:48:27   \n",
       " 6233  745171b8dfabd09a0ae3ae876f354ab9f4a96ddb 2014-12-26 21:30:11   \n",
       " ...                                        ...                 ...   \n",
       " 755   5e8873da77bfc73b744c8ef257eede9cce53c04f 1998-04-14 19:26:42   \n",
       " 2150  069d7fbce4c27ff1d7866e0732fff1ccbd6a6476 1998-04-14 18:14:55   \n",
       " 1995  6565db00622ee1261c295d44f8b883a2f363df1c 1998-04-14 17:29:44   \n",
       " 1365  47ac23f0868d747b6d9d61c596c226fbee59919e 1998-04-14 16:53:16   \n",
       " 767   8426e77b1adabfc17cf61da651a0194683856612 1998-04-14 01:49:20   \n",
       " 1368  97546fd53af5fa01ce7090030f41a94f7157a22b 1998-04-14 01:24:06   \n",
       " 867   a2522930974eb40699e11ecf43ff2d51799161d4 1998-04-14 00:31:59   \n",
       " 1407  fe5fd18b94c889e8934bfbabbd976f5ea6686443 1998-04-13 23:58:48   \n",
       " 1404  9861a7175cf51bf91a8c627eead1ccee3081dabd 1998-04-13 23:56:35   \n",
       " 1844  c939ef8317b162b4daaad54fdfd77ceaad6fd4ce 1998-04-13 21:07:10   \n",
       " 245   4782bfeacd4153cda87b5f1111afee53ac1187ee 1998-04-13 20:24:54   \n",
       " 2105  e7e12cca5bb66ad7d4a40d7f1f8f66f0082e7324 1998-04-09 03:54:33   \n",
       " 2158  38a3bfe8ad27c5843eb55868ae23422db0b971c8 1998-04-09 00:07:08   \n",
       " 1266  887002ff63d3f1b7a54ed99ca39aa8422e660f15 1998-04-08 21:23:19   \n",
       " 787   d2d0ee7863d5a2400c69c490942ce407385d185b 1998-04-08 04:20:39   \n",
       " 1437  3320ad91ab9ba8156863b4e8d3ca0b7ddcf11dde 1998-04-08 04:04:58   \n",
       " 2635  7e6e1bd0112ae67da0fb5256daec2ef7adad9778 1998-04-08 01:47:23   \n",
       " 1422  52d75e285d275e0b47723fedf669281f00ddde2e 1998-04-07 23:30:24   \n",
       " 636   431b3b9443363d840dc45885370dce1ebf0bb6df 1998-04-07 20:41:06   \n",
       " 1004  856e9a14c44a9e771c6f940145b26575c81e2228 1998-04-07 20:36:46   \n",
       " 881   2ca3b7c9678c67a58174dbc2e5e91f2a04b019e6 1998-04-06 23:54:42   \n",
       " 1883  d95d6e15648451cfc45885ee0de13b85f412403a 1998-03-30 23:59:41   \n",
       " 1363  2a205325afe7a7ba7f2e44ab0b0f7a0dc5a9de00 1998-03-30 23:30:00   \n",
       " 1634  c612c17daa0436547fdf8dde7038b13ddc77f0d9 1998-03-30 23:15:36   \n",
       " 5533  fee82d83c32b57da8be70bb1a60fdd18945a4d89 1998-03-30 01:59:34   \n",
       " 1526  360bda5d687dec2cadfb804f08c53e32c9a00a27 1998-03-29 21:51:40   \n",
       " 2652  be4def1ae593ac3e9a3e6a7d3eb847e93bb21bb2 1998-03-28 02:44:41   \n",
       " 4072  ea866ddbc4b20d4f191bcdecd514b76e22341c39 1998-03-28 00:00:00   \n",
       " 6745  290509554a8d2cd7f0c6f5cfb1c1048e86615fb2 1998-03-27 00:00:00   \n",
       " 219   5ab67497e1980994af3ffe34e602401ea09237e2 1998-01-01 07:13:13   \n",
       " \n",
       "              last_commit            org                             project  \\\n",
       " 8919 2014-12-31 18:52:27      Community                             Unknown   \n",
       " 7486 2014-12-30 22:10:30      Community               Addons/Web Extensions   \n",
       " 8198 2014-12-30 19:43:16      Community                      Web Properties   \n",
       " 7407 2014-12-30 19:23:16      Community                                Rust   \n",
       " 6697 2014-12-30 17:36:23      Community  Mozilla Local/Regional communities   \n",
       " 8406 2014-12-30 16:54:39      Community                             Unknown   \n",
       " 8069 2014-12-30 14:13:41      Community  Mozilla Local/Regional communities   \n",
       " 7944 2014-12-30 14:13:36      Community                                Rust   \n",
       " 5067 2014-12-30 14:07:57      Community                             Unknown   \n",
       " 8130 2014-12-30 13:32:25      Community                             Unknown   \n",
       " 6731 2014-12-30 08:22:31      Community  Mozilla Local/Regional communities   \n",
       " 8312 2014-12-30 04:20:24      Community                                Rust   \n",
       " 4130 2014-12-31 15:02:54      Community  Mozilla Local/Regional communities   \n",
       " 8089 2014-12-29 22:16:53      Community                                Rust   \n",
       " 8096 2014-12-29 16:20:17      Community                             Unknown   \n",
       " 7929 2014-12-29 12:36:46      Community                               Servo   \n",
       " 8062 2014-12-29 07:12:45      Community                 Release engineering   \n",
       " 8053 2014-12-29 04:44:18      Community                      Web Properties   \n",
       " 8813 2014-12-28 22:37:09      Community                                Rust   \n",
       " 4209 2014-12-30 22:49:58      Community                                Rust   \n",
       " 5129 2014-12-28 19:33:37      Community                               Gecko   \n",
       " 6965 2014-12-28 17:44:33      Community                                Rust   \n",
       " 6700 2014-12-30 19:49:02      Community                               Servo   \n",
       " 5170 2014-12-30 08:34:23      Community                               Servo   \n",
       " 8770 2014-12-27 23:47:16      Community                               Servo   \n",
       " 7134 2014-12-28 12:24:27      Community                                Rust   \n",
       " 8061 2014-12-27 21:08:47      Community                                Rust   \n",
       " 7311 2014-12-27 22:03:03      Community                      Web Properties   \n",
       " 5071 2014-12-27 12:48:27      Community                             Unknown   \n",
       " 6233 2014-12-28 12:15:28      Community                                Rust   \n",
       " ...                  ...            ...                                 ...   \n",
       " 755  1998-07-10 17:29:03      Community                               Gecko   \n",
       " 2150 1998-05-15 18:49:17      Community                               Gecko   \n",
       " 1995 1998-06-09 22:41:49      Community                               Gecko   \n",
       " 1365 1998-07-14 22:52:07      Community                               Gecko   \n",
       " 767  1998-07-14 18:43:47      Community                               Gecko   \n",
       " 1368 1998-07-09 23:00:29      Community                               Gecko   \n",
       " 867  1998-07-15 17:04:56      Community                               Gecko   \n",
       " 1407 1998-07-15 16:33:40      Community                               Gecko   \n",
       " 1404 1998-07-15 00:37:11      Community                               Gecko   \n",
       " 1844 1998-05-27 07:33:12      Community                               Gecko   \n",
       " 245  1998-07-15 18:55:53      Community                               Gecko   \n",
       " 2105 1998-05-28 18:20:00      Community                             Unknown   \n",
       " 2158 1998-07-01 22:36:44      Community                             Unknown   \n",
       " 1266 1998-07-02 02:39:54      Community                               Gecko   \n",
       " 787  1998-07-15 10:34:34      Community                             Unknown   \n",
       " 1437 1998-07-09 02:19:37      Community                               Gecko   \n",
       " 2635 1998-06-23 02:32:45      Community                               Gecko   \n",
       " 1422 1998-07-09 16:42:08      Community                             Unknown   \n",
       " 636  1998-07-15 17:03:53      Community                               Gecko   \n",
       " 1004 1998-07-01 05:13:10      Community                               Gecko   \n",
       " 881  1998-07-10 22:19:56      Community                             Unknown   \n",
       " 1883 1998-07-15 17:26:32      Community                               Gecko   \n",
       " 1363 1998-07-10 17:22:06      Community                             Unknown   \n",
       " 1634 1998-07-02 20:03:03      Community                             Unknown   \n",
       " 5533 1998-03-30 01:59:34      Community                               Gecko   \n",
       " 1526 1998-07-14 21:13:23      Community                             Unknown   \n",
       " 2652 1998-06-22 21:28:47      Community                             Unknown   \n",
       " 4072 2014-01-19 00:00:00      Community                             Unknown   \n",
       " 6745 1998-03-27 00:00:00      Community                             Unknown   \n",
       " 219  2014-12-23 06:44:00  Mozilla Staff                               Servo   \n",
       " \n",
       "       active_years  \n",
       " 8919           0.0  \n",
       " 7486           0.0  \n",
       " 8198           0.0  \n",
       " 7407           0.0  \n",
       " 6697           0.0  \n",
       " 8406           0.0  \n",
       " 8069           0.0  \n",
       " 7944           0.0  \n",
       " 5067           0.0  \n",
       " 8130           0.0  \n",
       " 6731           0.0  \n",
       " 8312           0.0  \n",
       " 4130           0.0  \n",
       " 8089           0.0  \n",
       " 8096           0.0  \n",
       " 7929           0.0  \n",
       " 8062           0.0  \n",
       " 8053           0.0  \n",
       " 8813           0.0  \n",
       " 4209           0.0  \n",
       " 5129           0.0  \n",
       " 6965           0.0  \n",
       " 6700           0.0  \n",
       " 5170           0.0  \n",
       " 8770           0.0  \n",
       " 7134           0.0  \n",
       " 8061           0.0  \n",
       " 7311           0.0  \n",
       " 5071           0.0  \n",
       " 6233           0.0  \n",
       " ...            ...  \n",
       " 755            0.0  \n",
       " 2150           0.0  \n",
       " 1995           0.0  \n",
       " 1365           0.0  \n",
       " 767            0.0  \n",
       " 1368           0.0  \n",
       " 867            0.0  \n",
       " 1407           0.0  \n",
       " 1404           0.0  \n",
       " 1844           0.0  \n",
       " 245            0.0  \n",
       " 2105           0.0  \n",
       " 2158           0.0  \n",
       " 1266           0.0  \n",
       " 787            0.0  \n",
       " 1437           0.0  \n",
       " 2635           0.0  \n",
       " 1422           0.0  \n",
       " 636            0.0  \n",
       " 1004           0.0  \n",
       " 881            0.0  \n",
       " 1883           0.0  \n",
       " 1363           0.0  \n",
       " 1634           0.0  \n",
       " 5533           0.0  \n",
       " 1526           0.0  \n",
       " 2652           0.0  \n",
       " 4072          15.0  \n",
       " 6745           0.0  \n",
       " 219           16.0  \n",
       " \n",
       " [9102 rows x 6 columns],\n",
       "                                         author        first_commit  \\\n",
       " 5717  0df32f19b2489045f5c72f8fb0f5ee3a400466e7 2014-01-01 02:41:20   \n",
       " 5626  f402fc16c829a0e6ebc2ff573ff502afa2319cae 2013-12-31 14:19:36   \n",
       " 6148  64823319f47f5cd56e745dcaf62c994cb359b624 2013-12-29 16:06:55   \n",
       " 6526  bda7f1150b666c54a24d07b0ecfed3ae603e7856 2013-12-29 12:21:26   \n",
       " 6443  a63a6380dd8b65e979bb20b491a9cb67dc9833ed 2013-12-28 18:01:53   \n",
       " 4138  a8de1e705c699e14daaba6d6363437dc9a979bca 2013-12-27 17:44:07   \n",
       " 4924  91f24077b2d91747d2d889effdc05560fcffdc91 2013-12-27 14:39:55   \n",
       " 3120  e790e644835b1ce52978b5992649e3609079d089 2013-12-26 23:11:57   \n",
       " 5989  43dae66d39a18d653ea6c51bef0d274cc811c560 2013-12-26 12:49:03   \n",
       " 3766  0176e58840fb0703b3bdcee384c48ce2d4e19868 2013-12-25 22:08:10   \n",
       " 5695  089b5d58eb831dcf20b006f34953312773a82615 2013-12-25 11:55:25   \n",
       " 3944  411db8535623ff1bd1d8d3e2043033a8b8a94af6 2013-12-24 17:31:00   \n",
       " 6596  d51e0b353d82deff44fc31cffe7d15423acc0253 2013-12-24 12:38:52   \n",
       " 3901  2cce78080e5a1c79a93e2f735bdc5caede3de067 2013-12-23 16:51:56   \n",
       " 3870  215b458de1a8b5e993c6155883a41bbdff36a278 2013-12-23 09:03:25   \n",
       " 5144  0798b6a186d5128d6342c651410d51a2c783f9a9 2013-12-22 21:37:33   \n",
       " 5676  05b20cfbedcc8419f1503d708324400bd38bacfa 2013-12-22 18:50:37   \n",
       " 5231  25229a2aa213a6c077b73e688a25fe4dc3bd0fee 2013-12-22 03:09:36   \n",
       " 5283  35bfd98065637afded284e543b8c5224cd823427 2013-12-22 00:58:55   \n",
       " 4242  118f5e2f45c160dd636efbf1b8ada9a26d134d03 2013-12-21 17:29:48   \n",
       " 3229  1e32cbaaba1960122dff0fb89ea07a128de7ef1d 2013-12-20 23:46:27   \n",
       " 5526  ac26cb54c0ccf27fadc63f15d07e3246fe4d2642 2013-12-20 17:02:29   \n",
       " 5827  231cd21a611a2f4ba4d2fd782e5b579e71a05df2 2013-12-20 13:06:42   \n",
       " 6642  e10760af5625b39a5bf77e1af9b02ad553e1acab 2013-12-19 16:18:44   \n",
       " 2676  b163343ce270d4ed1b079c7b71aca3c05a080406 2013-12-19 11:42:19   \n",
       " 6703  f342191712bc72d0f171dacaf97021eb40607701 2013-12-19 09:51:53   \n",
       " 5624  f0a4c38a01eaf846ace6ab48a426b4cd45b2756f 2013-12-19 08:18:47   \n",
       " 3974  4a3942f8e42f3644e17e8b459d11253ebf1a8029 2013-12-18 16:28:32   \n",
       " 3006  2a96fc44848fa13f545753b166e8a28879898943 2013-12-18 15:57:48   \n",
       " 6031  4b02cb285fa031a66ba3893802c2e5df6a41b54b 2013-12-17 22:07:28   \n",
       " ...                                        ...                 ...   \n",
       " 685   5e8873da77bfc73b744c8ef257eede9cce53c04f 1998-04-14 19:26:42   \n",
       " 1849  069d7fbce4c27ff1d7866e0732fff1ccbd6a6476 1998-04-14 18:14:55   \n",
       " 1732  6565db00622ee1261c295d44f8b883a2f363df1c 1998-04-14 17:29:44   \n",
       " 1193  47ac23f0868d747b6d9d61c596c226fbee59919e 1998-04-14 16:53:16   \n",
       " 694   8426e77b1adabfc17cf61da651a0194683856612 1998-04-14 01:49:20   \n",
       " 1194  97546fd53af5fa01ce7090030f41a94f7157a22b 1998-04-14 01:24:06   \n",
       " 774   a2522930974eb40699e11ecf43ff2d51799161d4 1998-04-14 00:31:59   \n",
       " 1226  fe5fd18b94c889e8934bfbabbd976f5ea6686443 1998-04-13 23:58:48   \n",
       " 1224  9861a7175cf51bf91a8c627eead1ccee3081dabd 1998-04-13 23:56:35   \n",
       " 1611  c939ef8317b162b4daaad54fdfd77ceaad6fd4ce 1998-04-13 21:07:10   \n",
       " 209   4782bfeacd4153cda87b5f1111afee53ac1187ee 1998-04-13 20:24:54   \n",
       " 1814  e7e12cca5bb66ad7d4a40d7f1f8f66f0082e7324 1998-04-09 03:54:33   \n",
       " 1855  38a3bfe8ad27c5843eb55868ae23422db0b971c8 1998-04-09 00:07:08   \n",
       " 1102  887002ff63d3f1b7a54ed99ca39aa8422e660f15 1998-04-08 21:23:19   \n",
       " 704   d2d0ee7863d5a2400c69c490942ce407385d185b 1998-04-08 04:20:39   \n",
       " 1255  3320ad91ab9ba8156863b4e8d3ca0b7ddcf11dde 1998-04-08 04:04:58   \n",
       " 2250  7e6e1bd0112ae67da0fb5256daec2ef7adad9778 1998-04-08 01:47:23   \n",
       " 1240  52d75e285d275e0b47723fedf669281f00ddde2e 1998-04-07 23:30:24   \n",
       " 556   431b3b9443363d840dc45885370dce1ebf0bb6df 1998-04-07 20:41:06   \n",
       " 895   856e9a14c44a9e771c6f940145b26575c81e2228 1998-04-07 20:36:46   \n",
       " 782   2ca3b7c9678c67a58174dbc2e5e91f2a04b019e6 1998-04-06 23:54:42   \n",
       " 1643  d95d6e15648451cfc45885ee0de13b85f412403a 1998-03-30 23:59:41   \n",
       " 1192  2a205325afe7a7ba7f2e44ab0b0f7a0dc5a9de00 1998-03-30 23:30:00   \n",
       " 1433  c612c17daa0436547fdf8dde7038b13ddc77f0d9 1998-03-30 23:15:36   \n",
       " 4399  fee82d83c32b57da8be70bb1a60fdd18945a4d89 1998-03-30 01:59:34   \n",
       " 1339  360bda5d687dec2cadfb804f08c53e32c9a00a27 1998-03-29 21:51:40   \n",
       " 2260  be4def1ae593ac3e9a3e6a7d3eb847e93bb21bb2 1998-03-28 02:44:41   \n",
       " 3377  ea866ddbc4b20d4f191bcdecd514b76e22341c39 1998-03-28 00:00:00   \n",
       " 5241  290509554a8d2cd7f0c6f5cfb1c1048e86615fb2 1998-03-27 00:00:00   \n",
       " 199   5ab67497e1980994af3ffe34e602401ea09237e2 1998-01-01 07:13:13   \n",
       " \n",
       "              last_commit            org                             project  \\\n",
       " 5717 2014-01-01 02:41:20      Community  Mozilla Local/Regional communities   \n",
       " 5626 2013-12-31 14:19:36      Community                                Rust   \n",
       " 6148 2013-12-29 16:06:55  Mozilla Staff                             Unknown   \n",
       " 6526 2013-12-29 12:21:26      Community                      Web Properties   \n",
       " 6443 2013-12-28 18:01:53      Community                                Rust   \n",
       " 4138 2013-12-27 17:44:07  Mozilla Staff                               Gecko   \n",
       " 4924 2013-12-27 14:39:55      Community                             Unknown   \n",
       " 3120 2013-12-30 22:14:54      Community                         Not tracked   \n",
       " 5989 2013-12-26 12:49:03      Community                             Unknown   \n",
       " 3766 2013-12-30 19:51:51      Community                             Unknown   \n",
       " 5695 2013-12-25 11:55:25      Community                      Web Properties   \n",
       " 3944 2013-12-24 17:31:00      Community                               Gecko   \n",
       " 6596 2013-12-24 12:38:52      Community                             Unknown   \n",
       " 3901 2013-12-23 16:51:56      Community                             Unknown   \n",
       " 3870 2013-12-23 09:03:25      Community                               Gecko   \n",
       " 5144 2013-12-22 21:38:55      Community                                Rust   \n",
       " 5676 2013-12-22 18:50:37      Community  Mozilla Local/Regional communities   \n",
       " 5231 2013-12-26 17:23:17      Community                        Web Literacy   \n",
       " 5283 2013-12-29 00:14:43      Community                             Unknown   \n",
       " 4242 2013-12-31 00:51:11      Community                                Rust   \n",
       " 3229 2013-12-22 05:16:38      Community                      Web Properties   \n",
       " 5526 2013-12-31 08:22:53      Community                             Unknown   \n",
       " 5827 2013-12-20 13:06:42      Community                             Unknown   \n",
       " 6642 2013-12-19 16:18:44      Community                             Unknown   \n",
       " 2676 2013-12-20 14:00:00  Mozilla Staff                               Gecko   \n",
       " 6703 2013-12-19 09:51:53      Community                      Web Properties   \n",
       " 5624 2013-12-28 22:33:29      Community                             Unknown   \n",
       " 3974 2013-12-18 16:28:32      Community                               Gecko   \n",
       " 3006 2013-12-23 11:27:16      Community                               Gecko   \n",
       " 6031 2013-12-17 22:07:28      Community                        Web Literacy   \n",
       " ...                  ...            ...                                 ...   \n",
       " 685  1998-07-10 17:29:03      Community                               Gecko   \n",
       " 1849 1998-05-15 18:49:17      Community                               Gecko   \n",
       " 1732 1998-06-09 22:41:49      Community                               Gecko   \n",
       " 1193 1998-07-14 22:52:07      Community                               Gecko   \n",
       " 694  1998-07-14 18:43:47      Community                               Gecko   \n",
       " 1194 1998-07-09 23:00:29      Community                               Gecko   \n",
       " 774  1998-07-15 17:04:56      Community                               Gecko   \n",
       " 1226 1998-07-15 16:33:40      Community                               Gecko   \n",
       " 1224 1998-07-15 00:37:11      Community                               Gecko   \n",
       " 1611 1998-05-27 07:33:12      Community                               Gecko   \n",
       " 209  1998-07-15 18:55:53      Community                               Gecko   \n",
       " 1814 1998-05-28 18:20:00      Community                             Unknown   \n",
       " 1855 1998-07-01 22:36:44      Community                             Unknown   \n",
       " 1102 1998-07-02 02:39:54      Community                               Gecko   \n",
       " 704  1998-07-15 10:34:34      Community                             Unknown   \n",
       " 1255 1998-07-09 02:19:37      Community                               Gecko   \n",
       " 2250 1998-06-23 02:32:45      Community                               Gecko   \n",
       " 1240 1998-07-09 16:42:08      Community                             Unknown   \n",
       " 556  1998-07-15 17:03:53      Community                               Gecko   \n",
       " 895  1998-07-01 05:13:10      Community                               Gecko   \n",
       " 782  1998-07-10 22:19:56      Community                             Unknown   \n",
       " 1643 1998-07-15 17:26:32      Community                               Gecko   \n",
       " 1192 1998-07-10 17:22:06      Community                             Unknown   \n",
       " 1433 1998-07-02 20:03:03      Community                             Unknown   \n",
       " 4399 1998-03-30 01:59:34      Community                               Gecko   \n",
       " 1339 1998-07-14 21:13:23      Community                             Unknown   \n",
       " 2260 1998-06-22 21:28:47      Community                             Unknown   \n",
       " 3377 2013-01-13 00:00:00      Community                             Unknown   \n",
       " 5241 1998-03-27 00:00:00      Community                             Unknown   \n",
       " 199  2013-12-20 11:37:47  Mozilla Staff                               Servo   \n",
       " \n",
       "       active_years  \n",
       " 5717           0.0  \n",
       " 5626           0.0  \n",
       " 6148           0.0  \n",
       " 6526           0.0  \n",
       " 6443           0.0  \n",
       " 4138           0.0  \n",
       " 4924           0.0  \n",
       " 3120           0.0  \n",
       " 5989           0.0  \n",
       " 3766           0.0  \n",
       " 5695           0.0  \n",
       " 3944           0.0  \n",
       " 6596           0.0  \n",
       " 3901           0.0  \n",
       " 3870           0.0  \n",
       " 5144           0.0  \n",
       " 5676           0.0  \n",
       " 5231           0.0  \n",
       " 5283           0.0  \n",
       " 4242           0.0  \n",
       " 3229           0.0  \n",
       " 5526           0.0  \n",
       " 5827           0.0  \n",
       " 6642           0.0  \n",
       " 2676           0.0  \n",
       " 6703           0.0  \n",
       " 5624           0.0  \n",
       " 3974           0.0  \n",
       " 3006           0.0  \n",
       " 6031           0.0  \n",
       " ...            ...  \n",
       " 685            0.0  \n",
       " 1849           0.0  \n",
       " 1732           0.0  \n",
       " 1193           0.0  \n",
       " 694            0.0  \n",
       " 1194           0.0  \n",
       " 774            0.0  \n",
       " 1226           0.0  \n",
       " 1224           0.0  \n",
       " 1611           0.0  \n",
       " 209            0.0  \n",
       " 1814           0.0  \n",
       " 1855           0.0  \n",
       " 1102           0.0  \n",
       " 704            0.0  \n",
       " 1255           0.0  \n",
       " 2250           0.0  \n",
       " 1240           0.0  \n",
       " 556            0.0  \n",
       " 895            0.0  \n",
       " 782            0.0  \n",
       " 1643           0.0  \n",
       " 1192           0.0  \n",
       " 1433           0.0  \n",
       " 4399           0.0  \n",
       " 1339           0.0  \n",
       " 2260           0.0  \n",
       " 3377          14.0  \n",
       " 5241           0.0  \n",
       " 199           15.0  \n",
       " \n",
       " [6744 rows x 6 columns],\n",
       "                                         author        first_commit  \\\n",
       " 4518  24e10253bff84bb4d642ea7026d30c953bc79088 2012-12-31 14:05:14   \n",
       " 4638  49c388a464c649a9b37512d9307b7b5b34119677 2012-12-31 09:59:45   \n",
       " 4805  81479cb76cef65e867fd7a6200a1c4a6a102c5c7 2012-12-30 11:49:08   \n",
       " 5060  e2d2202611433dc0f84eca191d01504d671a1848 2012-12-28 14:57:42   \n",
       " 3121  0c717f8c3633e3644afe133b78869d500687d011 2012-12-28 13:07:52   \n",
       " 4794  7dfcfddc8601e4632d5600cb6b7e177962f9562d 2012-12-28 09:24:47   \n",
       " 4772  75fdabe6c84a92b979d62026543c1c545941d5fa 2012-12-28 09:08:12   \n",
       " 4938  b19d3a8953ed73b84b918b1c8b40bd2e3282f3c2 2012-12-28 06:09:13   \n",
       " 4400  0183bd06d487bf71fd39a568ae892e3ec3079d82 2012-12-27 22:15:17   \n",
       " 3974  e80ab681dde25dcce80f487f1c0e1f65b7051a1f 2012-12-27 20:32:53   \n",
       " 3632  01a14606592290bfe66f59142ecba9c1aa592c11 2012-12-27 12:08:23   \n",
       " 2201  8335dcac02a61d62427b153b7904f0dea49f4413 2012-12-27 11:12:05   \n",
       " 5069  e885659e1ba02886b3188babaa0f478c85769f68 2012-12-27 06:16:16   \n",
       " 2182  217784d5087e55475cc9549412fdb7a7c7c52056 2012-12-26 20:38:11   \n",
       " 4085  23e3f2d89f795deea516f720f4e5205a737d5370 2012-12-24 19:05:39   \n",
       " 3476  e10953f7e8962a0eb0a62cddf8b0c066e684b82b 2012-12-24 18:52:53   \n",
       " 3314  b7d0be16dd93d359792a5281cb6712184fcfdb6f 2012-12-24 18:35:52   \n",
       " 4497  1fb5c5062864926e4ecd27d0257bfaea88d2fe21 2012-12-23 16:51:17   \n",
       " 2760  033011d52b8712ae6f0bc2b3ea12373066fac378 2012-12-23 10:59:43   \n",
       " 4995  cb11e49e6ce330c5ab42627a82c3bdd698051138 2012-12-23 10:59:43   \n",
       " 3071  c8cc26b44a5fd485dbd5b051cb7c676f7bb28948 2012-12-23 10:52:35   \n",
       " 4015  040d9150581ebbebea345e88387cc2158f994510 2012-12-23 03:01:00   \n",
       " 3564  69be7684d1380c8f7b89aba642c3e70fbf461ae4 2012-12-22 23:51:49   \n",
       " 4514  23972bef1602f2bf12135e9932b54cdef7963e6c 2012-12-22 16:46:51   \n",
       " 4703  61bdb2e0d0dfe71dc8a21b293ef115c5366228de 2012-12-22 12:40:27   \n",
       " 4670  548cc8159002e2c92c622c76c3b4de3798a43009 2012-12-21 23:43:12   \n",
       " 4685  5a4a4200a4b893b2b3b3ea1496314284b88f298b 2012-12-21 23:13:06   \n",
       " 4172  4c591730c63d12af7e7076297430ce9af8546206 2012-12-21 19:30:33   \n",
       " 3126  0dd673348d8356e128a25364e43d8cbe7e06d58d 2012-12-20 22:29:45   \n",
       " 3911  b7b465949002f62d2478f9f07ac0ccf59aa5c132 2012-12-20 18:27:57   \n",
       " ...                                        ...                 ...   \n",
       " 579   5e8873da77bfc73b744c8ef257eede9cce53c04f 1998-04-14 19:26:42   \n",
       " 1571  069d7fbce4c27ff1d7866e0732fff1ccbd6a6476 1998-04-14 18:14:55   \n",
       " 1487  6565db00622ee1261c295d44f8b883a2f363df1c 1998-04-14 17:29:44   \n",
       " 1035  47ac23f0868d747b6d9d61c596c226fbee59919e 1998-04-14 16:53:16   \n",
       " 589   8426e77b1adabfc17cf61da651a0194683856612 1998-04-14 01:49:20   \n",
       " 1036  97546fd53af5fa01ce7090030f41a94f7157a22b 1998-04-14 01:24:06   \n",
       " 672   a2522930974eb40699e11ecf43ff2d51799161d4 1998-04-14 00:31:59   \n",
       " 1061  fe5fd18b94c889e8934bfbabbd976f5ea6686443 1998-04-13 23:58:48   \n",
       " 1059  9861a7175cf51bf91a8c627eead1ccee3081dabd 1998-04-13 23:56:35   \n",
       " 1381  c939ef8317b162b4daaad54fdfd77ceaad6fd4ce 1998-04-13 21:07:10   \n",
       " 185   4782bfeacd4153cda87b5f1111afee53ac1187ee 1998-04-13 20:24:54   \n",
       " 1541  e7e12cca5bb66ad7d4a40d7f1f8f66f0082e7324 1998-04-09 03:54:33   \n",
       " 1574  38a3bfe8ad27c5843eb55868ae23422db0b971c8 1998-04-09 00:07:08   \n",
       " 960   887002ff63d3f1b7a54ed99ca39aa8422e660f15 1998-04-08 21:23:19   \n",
       " 603   d2d0ee7863d5a2400c69c490942ce407385d185b 1998-04-08 04:20:39   \n",
       " 1089  3320ad91ab9ba8156863b4e8d3ca0b7ddcf11dde 1998-04-08 04:04:58   \n",
       " 1883  7e6e1bd0112ae67da0fb5256daec2ef7adad9778 1998-04-08 01:47:23   \n",
       " 1074  52d75e285d275e0b47723fedf669281f00ddde2e 1998-04-07 23:30:24   \n",
       " 480   431b3b9443363d840dc45885370dce1ebf0bb6df 1998-04-07 20:41:06   \n",
       " 767   856e9a14c44a9e771c6f940145b26575c81e2228 1998-04-07 20:36:46   \n",
       " 682   2ca3b7c9678c67a58174dbc2e5e91f2a04b019e6 1998-04-06 23:54:42   \n",
       " 1408  d95d6e15648451cfc45885ee0de13b85f412403a 1998-03-30 23:59:41   \n",
       " 1034  2a205325afe7a7ba7f2e44ab0b0f7a0dc5a9de00 1998-03-30 23:30:00   \n",
       " 1230  c612c17daa0436547fdf8dde7038b13ddc77f0d9 1998-03-30 23:15:36   \n",
       " 3487  fee82d83c32b57da8be70bb1a60fdd18945a4d89 1998-03-30 01:59:34   \n",
       " 1152  360bda5d687dec2cadfb804f08c53e32c9a00a27 1998-03-29 21:51:40   \n",
       " 1891  be4def1ae593ac3e9a3e6a7d3eb847e93bb21bb2 1998-03-28 02:44:41   \n",
       " 3091  ea866ddbc4b20d4f191bcdecd514b76e22341c39 1998-03-28 00:00:00   \n",
       " 4098  290509554a8d2cd7f0c6f5cfb1c1048e86615fb2 1998-03-27 00:00:00   \n",
       " 208   5ab67497e1980994af3ffe34e602401ea09237e2 1998-01-01 07:13:13   \n",
       " \n",
       "              last_commit            org                  project  active_years  \n",
       " 4518 2012-12-31 14:05:14      Community             Web Literacy           0.0  \n",
       " 4638 2012-12-31 09:59:45      Community           Web Properties           0.0  \n",
       " 4805 2012-12-30 11:49:08      Community                     Rust           0.0  \n",
       " 5060 2012-12-28 14:57:42      Community                     Rust           0.0  \n",
       " 3121 2012-12-28 13:07:52      Community                    Gecko           0.0  \n",
       " 4794 2012-12-28 09:24:47      Community    Addons/Web Extensions           0.0  \n",
       " 4772 2012-12-28 09:08:12      Community      Release engineering           0.0  \n",
       " 4938 2012-12-28 06:09:13      Community                     Rust           0.0  \n",
       " 4400 2012-12-27 22:15:17  Mozilla Staff                     Rust           0.0  \n",
       " 3974 2012-12-27 20:32:53      Community                  Unknown           0.0  \n",
       " 3632 2012-12-27 12:08:23      Community                  Unknown           0.0  \n",
       " 2201 2012-12-27 11:12:06      Community                  Unknown           0.0  \n",
       " 5069 2012-12-27 06:16:16      Community                     Rust           0.0  \n",
       " 2182 2012-12-31 00:32:14  Mozilla Staff                  Unknown           0.0  \n",
       " 4085 2012-12-24 19:05:39      Community           Web Properties           0.0  \n",
       " 3476 2012-12-29 18:25:09      Community                     Rust           0.0  \n",
       " 3314 2012-12-27 07:57:19      Community                  Unknown           0.0  \n",
       " 4497 2012-12-23 16:51:17  Mozilla Staff                    Gecko           0.0  \n",
       " 2760 2012-12-23 10:59:43      Community                    Gecko           0.0  \n",
       " 4995 2012-12-23 10:59:43      Community                  Unknown           0.0  \n",
       " 3071 2012-12-23 10:52:35      Community                    Gecko           0.0  \n",
       " 4015 2012-12-23 03:01:00      Community                  Unknown           0.0  \n",
       " 3564 2012-12-22 23:58:27      Community                     Rust           0.0  \n",
       " 4514 2012-12-22 16:46:51  Mozilla Staff                  Unknown           0.0  \n",
       " 4703 2012-12-22 12:40:27      Community    Addons/Web Extensions           0.0  \n",
       " 4670 2012-12-21 23:43:12      Community  Firefox OS (FxOS / B2G)           0.0  \n",
       " 4685 2012-12-21 23:13:06      Community                     Rust           0.0  \n",
       " 4172 2012-12-27 19:07:05      Community                     Rust           0.0  \n",
       " 3126 2012-12-31 18:44:51      Community                  Unknown           0.0  \n",
       " 3911 2012-12-28 18:27:59      Community                  Unknown           0.0  \n",
       " ...                  ...            ...                      ...           ...  \n",
       " 579  1998-07-10 17:29:03      Community                    Gecko           0.0  \n",
       " 1571 1998-05-15 18:49:17      Community                    Gecko           0.0  \n",
       " 1487 1998-06-09 22:41:49      Community                    Gecko           0.0  \n",
       " 1035 1998-07-14 22:52:07      Community                    Gecko           0.0  \n",
       " 589  1998-07-14 18:43:47      Community                    Gecko           0.0  \n",
       " 1036 1998-07-09 23:00:29      Community                    Gecko           0.0  \n",
       " 672  1998-07-15 17:04:56      Community                    Gecko           0.0  \n",
       " 1061 1998-07-15 16:33:40      Community                    Gecko           0.0  \n",
       " 1059 1998-07-15 00:37:11      Community                    Gecko           0.0  \n",
       " 1381 1998-05-27 07:33:12      Community                    Gecko           0.0  \n",
       " 185  1998-07-15 18:55:53      Community                    Gecko           0.0  \n",
       " 1541 1998-05-28 18:20:00      Community                  Unknown           0.0  \n",
       " 1574 1998-07-01 22:36:44      Community                  Unknown           0.0  \n",
       " 960  1998-07-02 02:39:54      Community                    Gecko           0.0  \n",
       " 603  1998-07-15 10:34:34      Community                  Unknown           0.0  \n",
       " 1089 1998-07-09 02:19:37      Community                    Gecko           0.0  \n",
       " 1883 1998-06-23 02:32:45      Community                    Gecko           0.0  \n",
       " 1074 1998-07-09 16:42:08      Community                  Unknown           0.0  \n",
       " 480  1998-07-15 17:03:53      Community                    Gecko           0.0  \n",
       " 767  1998-07-01 05:13:10      Community                    Gecko           0.0  \n",
       " 682  1998-07-10 22:19:56      Community                  Unknown           0.0  \n",
       " 1408 1998-07-15 17:26:32      Community                    Gecko           0.0  \n",
       " 1034 1998-07-10 17:22:06      Community                  Unknown           0.0  \n",
       " 1230 1998-07-02 20:03:03      Community                  Unknown           0.0  \n",
       " 3487 1998-03-30 01:59:34      Community                    Gecko           0.0  \n",
       " 1152 1998-07-14 21:13:23      Community                  Unknown           0.0  \n",
       " 1891 1998-06-22 21:28:47      Community                  Unknown           0.0  \n",
       " 3091 2012-01-15 00:00:00      Community                  Unknown          13.0  \n",
       " 4098 1998-03-27 00:00:00      Community                  Unknown           0.0  \n",
       " 208  2012-12-23 22:19:43  Mozilla Staff                    Servo          14.0  \n",
       " \n",
       " [5121 rows x 6 columns],\n",
       "                                         author        first_commit  \\\n",
       " 2923  06ef90ab84fbec3bbd1582fab64095e17dc61287 2011-12-31 00:30:42   \n",
       " 2436  7b9cc206f9b4b15ad1ad04e2824b66fc5616c09a 2011-12-30 20:14:37   \n",
       " 3827  a79cbe9e952134580b1716fbaa734d278f8d5e6c 2011-12-30 16:50:15   \n",
       " 3455  0191967e28320c8827e762ac0ccaf1847abffcc8 2011-12-30 16:18:55   \n",
       " 3067  9d7508f3c12c437f6975e6c011ad526b77243867 2011-12-29 12:15:49   \n",
       " 2307  214fa17554176d270e0e58002384801014eec051 2011-12-28 16:25:54   \n",
       " 3534  2311941cbfb20e4589a88f8ff5122c026d1e9d1c 2011-12-28 13:01:53   \n",
       " 1919  1a7d90f20ee36b17ef6486fc9615a4431d18fd20 2011-12-28 09:13:37   \n",
       " 3536  232b64d4d1e97c4579deaa0cdedcaec16e7f0764 2011-12-27 22:12:19   \n",
       " 2594  4c72cb8f3face449ae18e672913d0f09c3091a82 2011-12-27 11:49:11   \n",
       " 2840  42be52d7cb476ada956744e63c87d40f12b00080 2011-12-27 10:39:21   \n",
       " 3918  d801317c150aac4e923139c49dd0a7e3b4141c7a 2011-12-25 23:16:03   \n",
       " 2640  886ff170a02f429e6fcb88bff08e82f62129daec 2011-12-23 16:02:47   \n",
       " 3023  6190ff9adbbd1332a838c2dbd784262ed482398b 2011-12-22 14:39:53   \n",
       " 3145  f3a4bcdcbf4739300077c5cbbf3f7adf38de0410 2011-12-22 11:32:27   \n",
       " 2004  9cc53a813d62cbe2ea124afd80b1f8294c9c3d87 2011-12-21 23:30:58   \n",
       " 3115  cdfcd0a9550e76172362db8985c9348b40be9cfe 2011-12-21 17:38:12   \n",
       " 2989  3778003a18e3b1a0c18b4baea3a648d2242a4f39 2011-12-21 13:25:56   \n",
       " 2820  1722607bca8033bfe5db1b4943c739f849d476e5 2011-12-21 12:57:15   \n",
       " 3909  d49c9db87b921e843f5d241b0cfec0c9007ddf76 2011-12-21 12:17:57   \n",
       " 2485  b75f3d6a9b1648d401be26ec9fd8e7fd8ccca19b 2011-12-21 01:42:00   \n",
       " 2316  258cd5e246d1804cddaa1c6e6dffa8602d1bac5d 2011-12-20 20:03:16   \n",
       " 3395  bd2d639611fd5a6c567e3be6ce9fca70bf7d132c 2011-12-20 16:45:24   \n",
       " 3116  d1e07ca837397419f979b2146eaec6e2b2693a3a 2011-12-20 15:57:45   \n",
       " 1858  fc0b2608dc70214afc0cd041404fa4850f562ba9 2011-12-20 15:14:18   \n",
       " 2932  0e3dc8aa67adb8e8a245510c4881653b4bda27af 2011-12-20 12:32:14   \n",
       " 2432  76e591ca9b40a176ab3f90007a1a32f7c9d024de 2011-12-20 09:25:13   \n",
       " 1775  9aeda4e1df73d5b838b1c14cd8a881624f34bb9a 2011-12-19 22:11:45   \n",
       " 2447  80c202e06e816fc4c2337af8e3fb2ea09e690b08 2011-12-19 16:43:12   \n",
       " 3309  682bc3d2b3eb929ff0d188714631e147b797f72f 2011-12-19 15:08:43   \n",
       " ...                                        ...                 ...   \n",
       " 489   5e8873da77bfc73b744c8ef257eede9cce53c04f 1998-04-14 19:26:42   \n",
       " 1341  069d7fbce4c27ff1d7866e0732fff1ccbd6a6476 1998-04-14 18:14:55   \n",
       " 1275  6565db00622ee1261c295d44f8b883a2f363df1c 1998-04-14 17:29:44   \n",
       " 864   47ac23f0868d747b6d9d61c596c226fbee59919e 1998-04-14 16:53:16   \n",
       " 499   8426e77b1adabfc17cf61da651a0194683856612 1998-04-14 01:49:20   \n",
       " 865   97546fd53af5fa01ce7090030f41a94f7157a22b 1998-04-14 01:24:06   \n",
       " 560   a2522930974eb40699e11ecf43ff2d51799161d4 1998-04-14 00:31:59   \n",
       " 890   fe5fd18b94c889e8934bfbabbd976f5ea6686443 1998-04-13 23:58:48   \n",
       " 888   9861a7175cf51bf91a8c627eead1ccee3081dabd 1998-04-13 23:56:35   \n",
       " 1186  c939ef8317b162b4daaad54fdfd77ceaad6fd4ce 1998-04-13 21:07:10   \n",
       " 155   4782bfeacd4153cda87b5f1111afee53ac1187ee 1998-04-13 20:24:54   \n",
       " 1323  e7e12cca5bb66ad7d4a40d7f1f8f66f0082e7324 1998-04-09 03:54:33   \n",
       " 1344  38a3bfe8ad27c5843eb55868ae23422db0b971c8 1998-04-09 00:07:08   \n",
       " 797   887002ff63d3f1b7a54ed99ca39aa8422e660f15 1998-04-08 21:23:19   \n",
       " 509   d2d0ee7863d5a2400c69c490942ce407385d185b 1998-04-08 04:20:39   \n",
       " 914   3320ad91ab9ba8156863b4e8d3ca0b7ddcf11dde 1998-04-08 04:04:58   \n",
       " 1582  7e6e1bd0112ae67da0fb5256daec2ef7adad9778 1998-04-08 01:47:23   \n",
       " 902   52d75e285d275e0b47723fedf669281f00ddde2e 1998-04-07 23:30:24   \n",
       " 405   431b3b9443363d840dc45885370dce1ebf0bb6df 1998-04-07 20:41:06   \n",
       " 627   856e9a14c44a9e771c6f940145b26575c81e2228 1998-04-07 20:36:46   \n",
       " 565   2ca3b7c9678c67a58174dbc2e5e91f2a04b019e6 1998-04-06 23:54:42   \n",
       " 1207  d95d6e15648451cfc45885ee0de13b85f412403a 1998-03-30 23:59:41   \n",
       " 862   2a205325afe7a7ba7f2e44ab0b0f7a0dc5a9de00 1998-03-30 23:30:00   \n",
       " 1048  c612c17daa0436547fdf8dde7038b13ddc77f0d9 1998-03-30 23:15:36   \n",
       " 2801  fee82d83c32b57da8be70bb1a60fdd18945a4d89 1998-03-30 01:59:34   \n",
       " 972   360bda5d687dec2cadfb804f08c53e32c9a00a27 1998-03-29 21:51:40   \n",
       " 1590  be4def1ae593ac3e9a3e6a7d3eb847e93bb21bb2 1998-03-28 02:44:41   \n",
       " 2694  ea866ddbc4b20d4f191bcdecd514b76e22341c39 1998-03-28 00:00:00   \n",
       " 3224  290509554a8d2cd7f0c6f5cfb1c1048e86615fb2 1998-03-27 00:00:00   \n",
       " 200   5ab67497e1980994af3ffe34e602401ea09237e2 1998-01-01 07:13:13   \n",
       " \n",
       "              last_commit            org              project  active_years  \n",
       " 2923 2011-12-31 00:30:42      Community              Unknown           0.0  \n",
       " 2436 2011-12-30 20:14:37      Community              Unknown           0.0  \n",
       " 3827 2011-12-30 16:50:15      Community                 Rust           0.0  \n",
       " 3455 2011-12-30 16:18:55      Community                 Rust           0.0  \n",
       " 3067 2011-12-29 12:15:49      Community              Unknown           0.0  \n",
       " 2307 2011-12-28 16:25:54      Community              Unknown           0.0  \n",
       " 3534 2011-12-28 13:01:53      Community  Release engineering           0.0  \n",
       " 1919 2011-12-28 10:52:22      Community                Gecko           0.0  \n",
       " 3536 2011-12-27 22:12:19  Mozilla Staff       Web Properties           0.0  \n",
       " 2594 2011-12-28 19:57:12      Community              Unknown           0.0  \n",
       " 2840 2011-12-30 15:10:43  Mozilla Staff  Release engineering           0.0  \n",
       " 3918 2011-12-25 23:16:03      Community              Unknown           0.0  \n",
       " 2640 2011-12-23 18:28:31      Community         Web Literacy           0.0  \n",
       " 3023 2011-12-22 14:39:53      Community              Unknown           0.0  \n",
       " 3145 2011-12-22 11:32:27      Community              Unknown           0.0  \n",
       " 2004 2011-12-22 00:48:24      Community              Unknown           0.0  \n",
       " 3115 2011-12-21 17:38:12      Community              Unknown           0.0  \n",
       " 2989 2011-12-21 13:25:56      Community              Unknown           0.0  \n",
       " 2820 2011-12-21 14:30:36      Community              Unknown           0.0  \n",
       " 3909 2011-12-21 12:17:57      Community  Release engineering           0.0  \n",
       " 2485 2011-12-21 01:42:00  Mozilla Staff              Unknown           0.0  \n",
       " 2316 2011-12-20 20:03:16      Community                Gecko           0.0  \n",
       " 3395 2011-12-20 16:45:24      Community                Gecko           0.0  \n",
       " 3116 2011-12-20 15:57:45      Community              Unknown           0.0  \n",
       " 1858 2011-12-29 21:03:28      Community                Servo           0.0  \n",
       " 2932 2011-12-22 10:58:44      Community       Web Properties           0.0  \n",
       " 2432 2011-12-20 09:25:13      Community                Gecko           0.0  \n",
       " 1775 2011-12-28 23:39:02  Mozilla Staff              Unknown           0.0  \n",
       " 2447 2011-12-19 16:43:12  Mozilla Staff              Unknown           0.0  \n",
       " 3309 2011-12-29 18:05:35      Community              Unknown           0.0  \n",
       " ...                  ...            ...                  ...           ...  \n",
       " 489  1998-07-10 17:29:03      Community                Gecko           0.0  \n",
       " 1341 1998-05-15 18:49:17      Community                Gecko           0.0  \n",
       " 1275 1998-06-09 22:41:49      Community                Gecko           0.0  \n",
       " 864  1998-07-14 22:52:07      Community                Gecko           0.0  \n",
       " 499  1998-07-14 18:43:47      Community                Gecko           0.0  \n",
       " 865  1998-07-09 23:00:29      Community                Gecko           0.0  \n",
       " 560  1998-07-15 17:04:56      Community                Gecko           0.0  \n",
       " 890  1998-07-15 16:33:40      Community                Gecko           0.0  \n",
       " 888  1998-07-15 00:37:11      Community                Gecko           0.0  \n",
       " 1186 1998-05-27 07:33:12      Community                Gecko           0.0  \n",
       " 155  1998-07-15 18:55:53      Community                Gecko           0.0  \n",
       " 1323 1998-05-28 18:20:00      Community              Unknown           0.0  \n",
       " 1344 1998-07-01 22:36:44      Community              Unknown           0.0  \n",
       " 797  1998-07-02 02:39:54      Community                Gecko           0.0  \n",
       " 509  1998-07-15 10:34:34      Community              Unknown           0.0  \n",
       " 914  1998-07-09 02:19:37      Community                Gecko           0.0  \n",
       " 1582 1998-06-23 02:32:45      Community                Gecko           0.0  \n",
       " 902  1998-07-09 16:42:08      Community              Unknown           0.0  \n",
       " 405  1998-07-15 17:03:53      Community                Gecko           0.0  \n",
       " 627  1998-07-01 05:13:10      Community                Gecko           0.0  \n",
       " 565  1998-07-10 22:19:56      Community              Unknown           0.0  \n",
       " 1207 1998-07-15 17:26:32      Community                Gecko           0.0  \n",
       " 862  1998-07-10 17:22:06      Community              Unknown           0.0  \n",
       " 1048 1998-07-02 20:03:03      Community              Unknown           0.0  \n",
       " 2801 1998-03-30 01:59:34      Community                Gecko           0.0  \n",
       " 972  1998-07-14 21:13:23      Community              Unknown           0.0  \n",
       " 1590 1998-06-22 21:28:47      Community              Unknown           0.0  \n",
       " 2694 2011-01-16 00:00:00      Community              Unknown          12.0  \n",
       " 3224 1998-03-27 00:00:00      Community              Unknown           0.0  \n",
       " 200  2011-12-29 21:08:46  Mozilla Staff                Servo          13.0  \n",
       " \n",
       " [3982 rows x 6 columns],\n",
       "                                         author        first_commit  \\\n",
       " 2447  0754289bb29f666ea8069bbca0b33e6abb0c858a 2010-12-30 10:05:58   \n",
       " 2052  390b6d4e952298de7508833e379a875c9a806b1a 2010-12-29 19:22:18   \n",
       " 2981  e96c06e845d30cd59b0292192c2842cef50f7661 2010-12-29 19:22:18   \n",
       " 2430  eaa496a5813263a0d2ac862eeff4b4974f306f40 2010-12-26 17:32:04   \n",
       " 2306  13194e3518106adf2e9c8a763f30228be5a79f2d 2010-12-25 00:40:48   \n",
       " 2157  392ff5add13daee372f439faae454b04c831381a 2010-12-24 16:56:08   \n",
       " 2749  346a5c3e08d4542f3d94c63db153a690d6368bf5 2010-12-23 22:21:27   \n",
       " 1809  c990ba205bc76633db3cf19fa53ae175db1e13e8 2010-12-22 22:13:51   \n",
       " 1941  6f2862a44b9dd3fb46c418cd1d2f5699de7bb1da 2010-12-22 06:10:00   \n",
       " 2913  ad1e1bd9d9f9b6a1202f331a7ea983e363006a43 2010-12-21 18:27:33   \n",
       " 2809  5f1a3f90b9282bfb124b71ee3b5053f328fde3b8 2010-12-21 16:15:05   \n",
       " 2314  19803f14becb2b6b311ca00f67b1b38a6cb4932d 2010-12-21 12:35:40   \n",
       " 2920  b1cd9afb29fbfe13fcd76cca62fe499e9b64c1a6 2010-12-21 11:36:39   \n",
       " 1303  d61a0273230104344af3820498da86a536a91e2a 2010-12-20 18:48:46   \n",
       " 2812  62198af526ebdf34a0b4fcc63c3e123aed82c55c 2010-12-20 16:14:25   \n",
       " 2609  a27a2c06aceaf99a93e509c9078f201ec2539f11 2010-12-17 10:26:04   \n",
       " 1867  205a8664e499dd92153696c0316aafcb793144c7 2010-12-16 15:28:35   \n",
       " 2891  98bcbb46dbe314cf46eb31699910a7cc73adc393 2010-12-14 16:48:45   \n",
       " 2675  05fb5aa05f47f6bf010c30d653c5958ceb605a74 2010-12-13 14:14:34   \n",
       " 2637  d49be663ba3d92a065667e99d78831b8e90e249a 2010-12-13 00:14:39   \n",
       " 1882  2d62d91a2febd1cef19579bb498a1009c3b0a7d9 2010-12-12 08:09:00   \n",
       " 1657  b1de93ea380fdce4639c2e6d4fdbb88b6b5899fa 2010-12-10 18:41:28   \n",
       " 2262  71e7fa7214e34dbda79f4c73797375b3ef42ee16 2010-12-10 15:05:45   \n",
       " 1583  08aa81812b7c23b069ae60b527a273f3840abff0 2010-12-09 17:28:15   \n",
       " 1683  7228de2288571ea41d3ed69f0a29b6e986abfa6a 2010-12-09 12:39:15   \n",
       " 2001  e356029152a72b090c8411100b11c7307cd1541d 2010-12-09 11:52:03   \n",
       " 1590  14fce993c62c4e86cd8850c2493c7a9712c6c793 2010-12-08 17:02:58   \n",
       " 1952  7b9863d848c5afa0a188f55bdd44e9fe2ed7fec9 2010-12-08 16:26:21   \n",
       " 2432  f264f3d643675d86031cac719196c59cbe4f6ad0 2010-12-08 13:39:50   \n",
       " 1656  87c3783c0af5db5f11017a12693e3663f4084708 2010-12-08 11:20:40   \n",
       " ...                                        ...                 ...   \n",
       " 426   5e8873da77bfc73b744c8ef257eede9cce53c04f 1998-04-14 19:26:42   \n",
       " 1130  069d7fbce4c27ff1d7866e0732fff1ccbd6a6476 1998-04-14 18:14:55   \n",
       " 1072  6565db00622ee1261c295d44f8b883a2f363df1c 1998-04-14 17:29:44   \n",
       " 740   47ac23f0868d747b6d9d61c596c226fbee59919e 1998-04-14 16:53:16   \n",
       " 433   8426e77b1adabfc17cf61da651a0194683856612 1998-04-14 01:49:20   \n",
       " 741   97546fd53af5fa01ce7090030f41a94f7157a22b 1998-04-14 01:24:06   \n",
       " 493   a2522930974eb40699e11ecf43ff2d51799161d4 1998-04-14 00:31:59   \n",
       " 764   fe5fd18b94c889e8934bfbabbd976f5ea6686443 1998-04-13 23:58:48   \n",
       " 762   9861a7175cf51bf91a8c627eead1ccee3081dabd 1998-04-13 23:56:35   \n",
       " 1009  c939ef8317b162b4daaad54fdfd77ceaad6fd4ce 1998-04-13 21:07:10   \n",
       " 128   4782bfeacd4153cda87b5f1111afee53ac1187ee 1998-04-13 20:24:54   \n",
       " 1113  e7e12cca5bb66ad7d4a40d7f1f8f66f0082e7324 1998-04-09 03:54:33   \n",
       " 1133  38a3bfe8ad27c5843eb55868ae23422db0b971c8 1998-04-09 00:07:08   \n",
       " 689   887002ff63d3f1b7a54ed99ca39aa8422e660f15 1998-04-08 21:23:19   \n",
       " 442   d2d0ee7863d5a2400c69c490942ce407385d185b 1998-04-08 04:20:39   \n",
       " 780   3320ad91ab9ba8156863b4e8d3ca0b7ddcf11dde 1998-04-08 04:04:58   \n",
       " 1332  7e6e1bd0112ae67da0fb5256daec2ef7adad9778 1998-04-08 01:47:23   \n",
       " 769   52d75e285d275e0b47723fedf669281f00ddde2e 1998-04-07 23:30:24   \n",
       " 355   431b3b9443363d840dc45885370dce1ebf0bb6df 1998-04-07 20:41:06   \n",
       " 557   856e9a14c44a9e771c6f940145b26575c81e2228 1998-04-07 20:36:46   \n",
       " 500   2ca3b7c9678c67a58174dbc2e5e91f2a04b019e6 1998-04-06 23:54:42   \n",
       " 1026  d95d6e15648451cfc45885ee0de13b85f412403a 1998-03-30 23:59:41   \n",
       " 739   2a205325afe7a7ba7f2e44ab0b0f7a0dc5a9de00 1998-03-30 23:30:00   \n",
       " 887   c612c17daa0436547fdf8dde7038b13ddc77f0d9 1998-03-30 23:15:36   \n",
       " 2218  fee82d83c32b57da8be70bb1a60fdd18945a4d89 1998-03-30 01:59:34   \n",
       " 829   360bda5d687dec2cadfb804f08c53e32c9a00a27 1998-03-29 21:51:40   \n",
       " 1340  be4def1ae593ac3e9a3e6a7d3eb847e93bb21bb2 1998-03-28 02:44:41   \n",
       " 2215  ea866ddbc4b20d4f191bcdecd514b76e22341c39 1998-03-28 00:00:00   \n",
       " 2490  290509554a8d2cd7f0c6f5cfb1c1048e86615fb2 1998-03-27 00:00:00   \n",
       " 221   5ab67497e1980994af3ffe34e602401ea09237e2 1998-01-01 07:13:13   \n",
       " \n",
       "              last_commit            org                project  active_years  \n",
       " 2447 2010-12-30 10:05:58      Community         Web Properties           0.0  \n",
       " 2052 2010-12-29 19:22:18      Community                  Gecko           0.0  \n",
       " 2981 2010-12-29 19:22:18      Community                Unknown           0.0  \n",
       " 2430 2010-12-26 17:32:04      Community                Unknown           0.0  \n",
       " 2306 2010-12-25 00:40:48      Community                Unknown           0.0  \n",
       " 2157 2010-12-30 11:21:37  Mozilla Staff                   Rust           0.0  \n",
       " 2749 2010-12-23 22:21:27      Community                Unknown           0.0  \n",
       " 1809 2010-12-23 20:59:40      Community                  Servo           0.0  \n",
       " 1941 2010-12-22 06:10:00      Community                Unknown           0.0  \n",
       " 2913 2010-12-21 18:27:33      Community                Unknown           0.0  \n",
       " 2809 2010-12-21 16:15:05  Mozilla Staff                Unknown           0.0  \n",
       " 2314 2010-12-21 12:35:40      Community                Unknown           0.0  \n",
       " 2920 2010-12-21 11:36:39      Community  Addons/Web Extensions           0.0  \n",
       " 1303 2010-12-31 18:11:59      Community                  Servo           0.0  \n",
       " 2812 2010-12-20 16:14:25      Community    Release engineering           0.0  \n",
       " 2609 2010-12-17 10:26:04      Community                  Gecko           0.0  \n",
       " 1867 2010-12-16 15:28:35  Mozilla Staff                  Gecko           0.0  \n",
       " 2891 2010-12-14 16:48:45  Mozilla Staff                Unknown           0.0  \n",
       " 2675 2010-12-13 14:14:34  Mozilla Staff                Unknown           0.0  \n",
       " 2637 2010-12-13 00:14:39      Community                Unknown           0.0  \n",
       " 1882 2010-12-12 08:09:00      Community                  Gecko           0.0  \n",
       " 1657 2010-12-17 15:38:15      Community                Unknown           0.0  \n",
       " 2262 2010-12-15 12:28:38  Mozilla Staff                Unknown           0.0  \n",
       " 1583 2010-12-09 18:27:48  Mozilla Staff                Unknown           0.0  \n",
       " 1683 2010-12-16 18:31:55      Community                Unknown           0.0  \n",
       " 2001 2010-12-09 11:52:03      Community                 IT/Ops           0.0  \n",
       " 1590 2010-12-12 15:20:34      Community                Unknown           0.0  \n",
       " 1952 2010-12-27 22:10:19      Community                  Servo           0.0  \n",
       " 2432 2010-12-08 13:39:50      Community                Unknown           0.0  \n",
       " 1656 2010-12-09 18:51:03  Mozilla Staff                Unknown           0.0  \n",
       " ...                  ...            ...                    ...           ...  \n",
       " 426  1998-07-10 17:29:03      Community                  Gecko           0.0  \n",
       " 1130 1998-05-15 18:49:17      Community                  Gecko           0.0  \n",
       " 1072 1998-06-09 22:41:49      Community                  Gecko           0.0  \n",
       " 740  1998-07-14 22:52:07      Community                  Gecko           0.0  \n",
       " 433  1998-07-14 18:43:47      Community                  Gecko           0.0  \n",
       " 741  1998-07-09 23:00:29      Community                  Gecko           0.0  \n",
       " 493  1998-07-15 17:04:56      Community                  Gecko           0.0  \n",
       " 764  1998-07-15 16:33:40      Community                  Gecko           0.0  \n",
       " 762  1998-07-15 00:37:11      Community                  Gecko           0.0  \n",
       " 1009 1998-05-27 07:33:12      Community                  Gecko           0.0  \n",
       " 128  1998-07-15 18:55:53      Community                  Gecko           0.0  \n",
       " 1113 1998-05-28 18:20:00      Community                Unknown           0.0  \n",
       " 1133 1998-07-01 22:36:44      Community                Unknown           0.0  \n",
       " 689  1998-07-02 02:39:54      Community                  Gecko           0.0  \n",
       " 442  1998-07-15 10:34:34      Community                Unknown           0.0  \n",
       " 780  1998-07-09 02:19:37      Community                  Gecko           0.0  \n",
       " 1332 1998-06-23 02:32:45      Community                  Gecko           0.0  \n",
       " 769  1998-07-09 16:42:08      Community                Unknown           0.0  \n",
       " 355  1998-07-15 17:03:53      Community                  Gecko           0.0  \n",
       " 557  1998-07-01 05:13:10      Community                  Gecko           0.0  \n",
       " 500  1998-07-10 22:19:56      Community                Unknown           0.0  \n",
       " 1026 1998-07-15 17:26:32      Community                  Gecko           0.0  \n",
       " 739  1998-07-10 17:22:06      Community                Unknown           0.0  \n",
       " 887  1998-07-02 20:03:03      Community                Unknown           0.0  \n",
       " 2218 1998-03-30 01:59:34      Community                  Gecko           0.0  \n",
       " 829  1998-07-14 21:13:23      Community                Unknown           0.0  \n",
       " 1340 1998-06-22 21:28:47      Community                Unknown           0.0  \n",
       " 2215 2010-05-16 00:00:00      Community                Unknown          12.0  \n",
       " 2490 1998-03-27 00:00:00      Community                Unknown           0.0  \n",
       " 221  2010-12-31 09:14:01  Mozilla Staff                  Servo          12.0  \n",
       " \n",
       " [3009 rows x 6 columns],\n",
       "                                         author        first_commit  \\\n",
       " 2111  283975961b195a8203bd20d62a137f05cafe2159 2009-12-30 20:56:55   \n",
       " 1664  08eb9b61296fefe0642d3245f6a83c5ff20e10d5 2009-12-30 20:56:55   \n",
       " 1892  b8783dbae657fdaa4473c7dfd59cc00ea6efbe2c 2009-12-30 10:06:40   \n",
       " 2248  be0691bd69e2dfa886e570aa6cf6d0fa41724e24 2009-12-29 10:41:57   \n",
       " 1658  021a997f0f8e7df25fd4cc441c5a5f047bee90af 2009-12-29 10:41:57   \n",
       " 2205  875d7e421058eb01d63020cf0b25882284b82cee 2009-12-29 08:47:09   \n",
       " 2115  2b35eb58e1ab3de2c248fb55eef7af356ebfb5c6 2009-12-29 01:54:02   \n",
       " 2004  796175d21c3af4f088eecd27d0e9e7d1702ee711 2009-12-28 15:40:00   \n",
       " 2139  426de298a8ffe146412e8ab69e6c610a5fccc306 2009-12-28 13:34:43   \n",
       " 1637  b1b12d2a256b0af293af6f3f4a185b7abe5cfdf0 2009-12-23 18:48:53   \n",
       " 1593  4bf291f78e90db21d7573cb6904c5d63c9592bcf 2009-12-22 19:52:13   \n",
       " 1877  71e1e2511e8da7febefee5fd089b5d05c99a47f8 2009-12-22 14:52:40   \n",
       " 2214  93a024244e21492d7fdab124823cbfc005b88b89 2009-12-22 11:02:11   \n",
       " 1646  ca0ad47c719b5a63d1ebbc0da428a4c62c541aaf 2009-12-21 21:50:30   \n",
       " 2291  f6eb98ee9c12bb79466551e87ee725f2b2badd5d 2009-12-18 21:34:20   \n",
       " 1859  2d3383d171ceb6c9504bd7a0a9634f768cb675b2 2009-12-18 16:17:10   \n",
       " 1992  5e8dab4b2f582831ac60c47c746ed05ab156b97a 2009-12-18 07:55:31   \n",
       " 1905  cb971dcafc5babbeca5893cb84e000f4f2d5605e 2009-12-18 01:08:10   \n",
       " 811   03235853357afeecb6105855d2415d307bd945c4 2009-12-17 15:19:25   \n",
       " 1441  0d6eafbcdfb2edff23dfd5db2c58b410dde1acf3 2009-12-17 14:09:17   \n",
       " 1918  024a4278b098530475fbcca7dd01ac2f3cce814a 2009-12-17 08:41:12   \n",
       " 2020  91efd58f90080b32b3baac0bdcbb602e4ac2bd2a 2009-12-16 21:02:17   \n",
       " 1149  06f974f5a0690c837680dbd81d7d619ada51af10 2009-12-16 08:46:51   \n",
       " 1500  ad3a588802928ad496cf63d8f200779db1559586 2009-12-15 22:32:50   \n",
       " 1362  1b1cc00327b1b072091764b6cde284838e35812e 2009-12-15 18:16:12   \n",
       " 1668  13a26044d251999a8964c859096203f4c7d09efc 2009-12-11 23:17:27   \n",
       " 2102  2326a6cb66f303be2b6416eef4d6c4cb40bc92b3 2009-12-11 23:17:27   \n",
       " 1920  0483c9b83507a749513926f8ba85e5d89966010e 2009-12-11 21:03:00   \n",
       " 2019  8ff5b04524db1134a70e41fa3674a2bf40a5790d 2009-12-11 16:56:00   \n",
       " 1897  c0fba4c93cb1757c30abe258eb7954f72c70fdfd 2009-12-09 20:36:12   \n",
       " ...                                        ...                 ...   \n",
       " 375   5e8873da77bfc73b744c8ef257eede9cce53c04f 1998-04-14 19:26:42   \n",
       " 989   069d7fbce4c27ff1d7866e0732fff1ccbd6a6476 1998-04-14 18:14:55   \n",
       " 938   6565db00622ee1261c295d44f8b883a2f363df1c 1998-04-14 17:29:44   \n",
       " 642   47ac23f0868d747b6d9d61c596c226fbee59919e 1998-04-14 16:53:16   \n",
       " 382   8426e77b1adabfc17cf61da651a0194683856612 1998-04-14 01:49:20   \n",
       " 644   97546fd53af5fa01ce7090030f41a94f7157a22b 1998-04-14 01:24:06   \n",
       " 430   a2522930974eb40699e11ecf43ff2d51799161d4 1998-04-14 00:31:59   \n",
       " 663   fe5fd18b94c889e8934bfbabbd976f5ea6686443 1998-04-13 23:58:48   \n",
       " 661   9861a7175cf51bf91a8c627eead1ccee3081dabd 1998-04-13 23:56:35   \n",
       " 875   c939ef8317b162b4daaad54fdfd77ceaad6fd4ce 1998-04-13 21:07:10   \n",
       " 103   4782bfeacd4153cda87b5f1111afee53ac1187ee 1998-04-13 20:24:54   \n",
       " 975   e7e12cca5bb66ad7d4a40d7f1f8f66f0082e7324 1998-04-09 03:54:33   \n",
       " 993   38a3bfe8ad27c5843eb55868ae23422db0b971c8 1998-04-09 00:07:08   \n",
       " 595   887002ff63d3f1b7a54ed99ca39aa8422e660f15 1998-04-08 21:23:19   \n",
       " 389   d2d0ee7863d5a2400c69c490942ce407385d185b 1998-04-08 04:20:39   \n",
       " 676   3320ad91ab9ba8156863b4e8d3ca0b7ddcf11dde 1998-04-08 04:04:58   \n",
       " 1160  7e6e1bd0112ae67da0fb5256daec2ef7adad9778 1998-04-08 01:47:23   \n",
       " 668   52d75e285d275e0b47723fedf669281f00ddde2e 1998-04-07 23:30:24   \n",
       " 313   431b3b9443363d840dc45885370dce1ebf0bb6df 1998-04-07 20:41:06   \n",
       " 487   856e9a14c44a9e771c6f940145b26575c81e2228 1998-04-07 20:36:46   \n",
       " 433   2ca3b7c9678c67a58174dbc2e5e91f2a04b019e6 1998-04-06 23:54:42   \n",
       " 892   d95d6e15648451cfc45885ee0de13b85f412403a 1998-03-30 23:59:41   \n",
       " 641   2a205325afe7a7ba7f2e44ab0b0f7a0dc5a9de00 1998-03-30 23:30:00   \n",
       " 775   c612c17daa0436547fdf8dde7038b13ddc77f0d9 1998-03-30 23:15:36   \n",
       " 1806  fee82d83c32b57da8be70bb1a60fdd18945a4d89 1998-03-30 01:59:34   \n",
       " 722   360bda5d687dec2cadfb804f08c53e32c9a00a27 1998-03-29 21:51:40   \n",
       " 1168  be4def1ae593ac3e9a3e6a7d3eb847e93bb21bb2 1998-03-28 02:44:41   \n",
       " 2052  ea866ddbc4b20d4f191bcdecd514b76e22341c39 1998-03-28 00:00:00   \n",
       " 1952  290509554a8d2cd7f0c6f5cfb1c1048e86615fb2 1998-03-27 00:00:00   \n",
       " 274   5ab67497e1980994af3ffe34e602401ea09237e2 1998-01-01 07:13:13   \n",
       " \n",
       "              last_commit            org              project  active_years  \n",
       " 2111 2009-12-30 20:56:55      Community               IT/Ops           0.0  \n",
       " 1664 2009-12-30 20:56:55      Community                Gecko           0.0  \n",
       " 1892 2009-12-30 10:06:40      Community              Unknown           0.0  \n",
       " 2248 2009-12-29 10:41:57      Community               IT/Ops           0.0  \n",
       " 1658 2009-12-29 10:41:57      Community                Gecko           0.0  \n",
       " 2205 2009-12-29 08:47:09      Community                Servo           0.0  \n",
       " 2115 2009-12-29 01:54:02      Community       Web Properties           0.0  \n",
       " 2004 2009-12-28 15:40:00      Community              Unknown           0.0  \n",
       " 2139 2009-12-28 13:34:43      Community                Servo           0.0  \n",
       " 1637 2009-12-23 18:48:53      Community                Gecko           0.0  \n",
       " 1593 2009-12-22 19:52:13  Mozilla Staff              Unknown           0.0  \n",
       " 1877 2009-12-22 14:52:40      Community              Unknown           0.0  \n",
       " 2214 2009-12-22 11:02:11  Mozilla Staff  Release engineering           0.0  \n",
       " 1646 2009-12-21 21:50:30      Community                Gecko           0.0  \n",
       " 2291 2009-12-18 21:34:20      Community               IT/Ops           0.0  \n",
       " 1859 2009-12-18 16:17:10      Community              Unknown           0.0  \n",
       " 1992 2009-12-18 07:55:31      Community              Unknown           0.0  \n",
       " 1905 2009-12-18 01:08:10      Community              Unknown           0.0  \n",
       " 811  2009-12-31 10:22:23  Mozilla Staff              Unknown           0.0  \n",
       " 1441 2009-12-22 19:51:52      Community                Gecko           0.0  \n",
       " 1918 2009-12-17 08:41:12      Community              Unknown           0.0  \n",
       " 2020 2009-12-16 21:02:17      Community              Unknown           0.0  \n",
       " 1149 2009-12-31 08:39:41  Mozilla Staff              Unknown           0.0  \n",
       " 1500 2009-12-15 23:37:49      Community              Unknown           0.0  \n",
       " 1362 2009-12-15 18:16:12      Community                Gecko           0.0  \n",
       " 1668 2009-12-11 23:17:27  Mozilla Staff              Unknown           0.0  \n",
       " 2102 2009-12-11 23:17:27      Community               IT/Ops           0.0  \n",
       " 1920 2009-12-11 21:03:00      Community                Gecko           0.0  \n",
       " 2019 2009-12-11 16:56:00      Community                Gecko           0.0  \n",
       " 1897 2009-12-09 20:36:12      Community              Unknown           0.0  \n",
       " ...                  ...            ...                  ...           ...  \n",
       " 375  1998-07-10 17:29:03      Community                Gecko           0.0  \n",
       " 989  1998-05-15 18:49:17      Community                Gecko           0.0  \n",
       " 938  1998-06-09 22:41:49      Community                Gecko           0.0  \n",
       " 642  1998-07-14 22:52:07      Community                Gecko           0.0  \n",
       " 382  1998-07-14 18:43:47      Community                Gecko           0.0  \n",
       " 644  1998-07-09 23:00:29      Community                Gecko           0.0  \n",
       " 430  1998-07-15 17:04:56      Community                Gecko           0.0  \n",
       " 663  1998-07-15 16:33:40      Community                Gecko           0.0  \n",
       " 661  1998-07-15 00:37:11      Community                Gecko           0.0  \n",
       " 875  1998-05-27 07:33:12      Community                Gecko           0.0  \n",
       " 103  1998-07-15 18:55:53      Community                Gecko           0.0  \n",
       " 975  1998-05-28 18:20:00      Community              Unknown           0.0  \n",
       " 993  1998-07-01 22:36:44      Community              Unknown           0.0  \n",
       " 595  1998-07-02 02:39:54      Community                Gecko           0.0  \n",
       " 389  1998-07-15 10:34:34      Community              Unknown           0.0  \n",
       " 676  1998-07-09 02:19:37      Community                Gecko           0.0  \n",
       " 1160 1998-06-23 02:32:45      Community                Gecko           0.0  \n",
       " 668  1998-07-09 16:42:08      Community              Unknown           0.0  \n",
       " 313  1998-07-15 17:03:53      Community                Gecko           0.0  \n",
       " 487  1998-07-01 05:13:10      Community                Gecko           0.0  \n",
       " 433  1998-07-10 22:19:56      Community              Unknown           0.0  \n",
       " 892  1998-07-15 17:26:32      Community                Gecko           0.0  \n",
       " 641  1998-07-10 17:22:06      Community              Unknown           0.0  \n",
       " 775  1998-07-02 20:03:03      Community              Unknown           0.0  \n",
       " 1806 1998-03-30 01:59:34      Community                Gecko           0.0  \n",
       " 722  1998-07-14 21:13:23      Community              Unknown           0.0  \n",
       " 1168 1998-06-22 21:28:47      Community              Unknown           0.0  \n",
       " 2052 2009-06-27 00:00:00      Community              Unknown          11.0  \n",
       " 1952 1998-03-27 00:00:00      Community              Unknown           0.0  \n",
       " 274  2009-12-30 08:37:29  Mozilla Staff                Servo          11.0  \n",
       " \n",
       " [2300 rows x 6 columns],\n",
       "                                         author        first_commit  \\\n",
       " 1698  772125018edfc4f7ce5da5fdf6656a38dbb66fd7 2008-12-31 04:44:37   \n",
       " 1284  093a64b646c83221b173e8ef465251bb1d65cbef 2008-12-30 20:45:05   \n",
       " 1174  10f82a2f5ebf3da5bc68037e4bad3a669b528f2c 2008-12-27 23:52:30   \n",
       " 1178  20e7f23e9576c36f1a455fb48d13abd525cb334e 2008-12-25 00:07:41   \n",
       " 1585  6ae0b5a896488b86514fc8d6d4a765b8eda43874 2008-12-23 01:04:06   \n",
       " 1316  363753cef9bfa0b99417f3ccf0dc4b5f1e2d9e1f 2008-12-22 13:08:38   \n",
       " 1578  50abe4649b259555ade5172f7ef779e477afbb7f 2008-12-21 14:41:17   \n",
       " 1206  200969715491172c61642f71dda830cf35287303 2008-12-21 14:41:17   \n",
       " 1340  8a6ff6c68fcc470517ade35e1bc955847894ef7b 2008-12-19 11:04:50   \n",
       " 1665  515e476cbd7d875455dc0543aef02111a0f29593 2008-12-18 19:36:34   \n",
       " 1054  80a442754713059d35f4dd8922be5b7d5c8f6003 2008-12-17 14:42:41   \n",
       " 1180  3a78b16f04acf84b7ba14cb07e1040a23dd47bdb 2008-12-17 13:44:32   \n",
       " 1509  d2f1e835934fc26e01227c1ebf2314a8ba96d7d3 2008-12-16 12:31:51   \n",
       " 1330  5688482be0044b8e88e4bf423328adad3698f043 2008-12-15 11:35:40   \n",
       " 1755  ef87869f72cd5bc5fd858ba8c4ebecd47876ee3e 2008-12-15 10:53:21   \n",
       " 1343  8d830c20b159d0b9dcea66f0f3573b5d9924a32f 2008-12-14 22:32:48   \n",
       " 1278  035e2f63ad1b509135c24467230c73d1484bd87c 2008-12-14 21:58:24   \n",
       " 1687  6c43d4e7f75fd8282ff3e6df9f1b3e32aeb468ba 2008-12-14 05:57:51   \n",
       " 1346  91d3d63c928a5ba4fb31b2541ea391fc9620f558 2008-12-13 12:21:50   \n",
       " 1280  045251ae5d4f5c1dd672b65f3b6dd6d856ea8457 2008-12-12 15:10:39   \n",
       " 1652  35a4cd5990163491db35654411f9c552d827e0ee 2008-12-11 17:42:11   \n",
       " 1310  2ac3364387abda3d8f49531cde54eada2a79a689 2008-12-11 13:02:01   \n",
       " 1181  4450fa9299dd44edc6fd59ee4ce24f20e04f0cd2 2008-12-10 20:57:34   \n",
       " 1561  23110365c278b644d07e88d73e567363eac34adf 2008-12-10 12:12:00   \n",
       " 1612  dd8f6925c590e9878519b6710226c575d2a10491 2008-12-10 11:07:45   \n",
       " 1566  2c8c9658ab114031e4eeea6531250ebc764bab76 2008-12-10 08:51:06   \n",
       " 1546  03a7a01d6f752b3ab95354a54b1a121abec6552c 2008-12-08 09:49:01   \n",
       " 1634  177b60d1081f3bfe157c72870c91fe70cacf4bc0 2008-12-07 14:34:53   \n",
       " 1299  1a4ed8f8488a22bc072ad9c2659bf6f4ec55578e 2008-12-06 19:39:47   \n",
       " 1336  62c4da6eb04fb4c5a16b9b6067f96d934eeec0da 2008-12-06 17:27:53   \n",
       " ...                                        ...                 ...   \n",
       " 343   5e8873da77bfc73b744c8ef257eede9cce53c04f 1998-04-14 19:26:42   \n",
       " 873   069d7fbce4c27ff1d7866e0732fff1ccbd6a6476 1998-04-14 18:14:55   \n",
       " 833   6565db00622ee1261c295d44f8b883a2f363df1c 1998-04-14 17:29:44   \n",
       " 582   47ac23f0868d747b6d9d61c596c226fbee59919e 1998-04-14 16:53:16   \n",
       " 349   8426e77b1adabfc17cf61da651a0194683856612 1998-04-14 01:49:20   \n",
       " 583   97546fd53af5fa01ce7090030f41a94f7157a22b 1998-04-14 01:24:06   \n",
       " 389   a2522930974eb40699e11ecf43ff2d51799161d4 1998-04-14 00:31:59   \n",
       " 600   fe5fd18b94c889e8934bfbabbd976f5ea6686443 1998-04-13 23:58:48   \n",
       " 598   9861a7175cf51bf91a8c627eead1ccee3081dabd 1998-04-13 23:56:35   \n",
       " 786   c939ef8317b162b4daaad54fdfd77ceaad6fd4ce 1998-04-13 21:07:10   \n",
       " 94    4782bfeacd4153cda87b5f1111afee53ac1187ee 1998-04-13 20:24:54   \n",
       " 867   e7e12cca5bb66ad7d4a40d7f1f8f66f0082e7324 1998-04-09 03:54:33   \n",
       " 876   38a3bfe8ad27c5843eb55868ae23422db0b971c8 1998-04-09 00:07:08   \n",
       " 545   887002ff63d3f1b7a54ed99ca39aa8422e660f15 1998-04-08 21:23:19   \n",
       " 355   d2d0ee7863d5a2400c69c490942ce407385d185b 1998-04-08 04:20:39   \n",
       " 612   3320ad91ab9ba8156863b4e8d3ca0b7ddcf11dde 1998-04-08 04:04:58   \n",
       " 1019  7e6e1bd0112ae67da0fb5256daec2ef7adad9778 1998-04-08 01:47:23   \n",
       " 606   52d75e285d275e0b47723fedf669281f00ddde2e 1998-04-07 23:30:24   \n",
       " 280   431b3b9443363d840dc45885370dce1ebf0bb6df 1998-04-07 20:41:06   \n",
       " 444   856e9a14c44a9e771c6f940145b26575c81e2228 1998-04-07 20:36:46   \n",
       " 394   2ca3b7c9678c67a58174dbc2e5e91f2a04b019e6 1998-04-06 23:54:42   \n",
       " 799   d95d6e15648451cfc45885ee0de13b85f412403a 1998-03-30 23:59:41   \n",
       " 581   2a205325afe7a7ba7f2e44ab0b0f7a0dc5a9de00 1998-03-30 23:30:00   \n",
       " 701   c612c17daa0436547fdf8dde7038b13ddc77f0d9 1998-03-30 23:15:36   \n",
       " 1484  fee82d83c32b57da8be70bb1a60fdd18945a4d89 1998-03-30 01:59:34   \n",
       " 652   360bda5d687dec2cadfb804f08c53e32c9a00a27 1998-03-29 21:51:40   \n",
       " 1026  be4def1ae593ac3e9a3e6a7d3eb847e93bb21bb2 1998-03-28 02:44:41   \n",
       " 1750  ea866ddbc4b20d4f191bcdecd514b76e22341c39 1998-03-28 00:00:00   \n",
       " 1564  290509554a8d2cd7f0c6f5cfb1c1048e86615fb2 1998-03-27 00:00:00   \n",
       " 371   5ab67497e1980994af3ffe34e602401ea09237e2 1998-01-01 07:13:13   \n",
       " \n",
       "              last_commit            org              project  active_years  \n",
       " 1698 2008-12-31 04:44:37      Community              Unknown           0.0  \n",
       " 1284 2008-12-30 20:45:05      Community              Unknown           0.0  \n",
       " 1174 2008-12-28 07:58:37      Community              Unknown           0.0  \n",
       " 1178 2008-12-30 06:29:45  Mozilla Staff                Gecko           0.0  \n",
       " 1585 2008-12-23 01:04:06      Community              Unknown           0.0  \n",
       " 1316 2008-12-22 13:08:38      Community              Unknown           0.0  \n",
       " 1578 2008-12-21 14:59:33      Community               IT/Ops           0.0  \n",
       " 1206 2008-12-21 14:59:33      Community                Gecko           0.0  \n",
       " 1340 2008-12-19 11:04:50      Community              Unknown           0.0  \n",
       " 1665 2008-12-18 19:36:34      Community                Servo           0.0  \n",
       " 1054 2008-12-23 20:10:57      Community                Servo           0.0  \n",
       " 1180 2008-12-17 16:17:50  Mozilla Staff                Gecko           0.0  \n",
       " 1509 2008-12-16 17:58:33      Community              Unknown           0.0  \n",
       " 1330 2008-12-15 11:35:40      Community              Unknown           0.0  \n",
       " 1755 2008-12-15 10:53:21      Community              Unknown           0.0  \n",
       " 1343 2008-12-14 22:32:48      Community                Gecko           0.0  \n",
       " 1278 2008-12-14 21:58:24      Community              Unknown           0.0  \n",
       " 1687 2008-12-14 05:57:51      Community         Localization           0.0  \n",
       " 1346 2008-12-13 12:21:50      Community              Unknown           0.0  \n",
       " 1280 2008-12-12 15:10:39  Mozilla Staff                Gecko           0.0  \n",
       " 1652 2008-12-11 17:42:11  Mozilla Staff  Release engineering           0.0  \n",
       " 1310 2008-12-11 13:02:01  Mozilla Staff              Unknown           0.0  \n",
       " 1181 2008-12-10 21:33:13  Mozilla Staff                Gecko           0.0  \n",
       " 1561 2008-12-10 12:12:00  Mozilla Staff              Unknown           0.0  \n",
       " 1612 2008-12-10 11:07:45      Community              Unknown           0.0  \n",
       " 1566 2008-12-10 08:51:06      Community              Unknown           0.0  \n",
       " 1546 2008-12-08 09:49:01  Mozilla Staff                Gecko           0.0  \n",
       " 1634 2008-12-07 14:34:53      Community               IT/Ops           0.0  \n",
       " 1299 2008-12-06 19:39:47      Community                Gecko           0.0  \n",
       " 1336 2008-12-06 17:27:53      Community              Unknown           0.0  \n",
       " ...                  ...            ...                  ...           ...  \n",
       " 343  1998-07-10 17:29:03      Community                Gecko           0.0  \n",
       " 873  1998-05-15 18:49:17      Community                Gecko           0.0  \n",
       " 833  1998-06-09 22:41:49      Community                Gecko           0.0  \n",
       " 582  1998-07-14 22:52:07      Community                Gecko           0.0  \n",
       " 349  1998-07-14 18:43:47      Community                Gecko           0.0  \n",
       " 583  1998-07-09 23:00:29      Community                Gecko           0.0  \n",
       " 389  1998-07-15 17:04:56      Community                Gecko           0.0  \n",
       " 600  1998-07-15 16:33:40      Community                Gecko           0.0  \n",
       " 598  1998-07-15 00:37:11      Community                Gecko           0.0  \n",
       " 786  1998-05-27 07:33:12      Community                Gecko           0.0  \n",
       " 94   1998-07-15 18:55:53      Community                Gecko           0.0  \n",
       " 867  1998-05-28 18:20:00      Community              Unknown           0.0  \n",
       " 876  1998-07-01 22:36:44      Community              Unknown           0.0  \n",
       " 545  1998-07-02 02:39:54      Community                Gecko           0.0  \n",
       " 355  1998-07-15 10:34:34      Community              Unknown           0.0  \n",
       " 612  1998-07-09 02:19:37      Community                Gecko           0.0  \n",
       " 1019 1998-06-23 02:32:45      Community                Gecko           0.0  \n",
       " 606  1998-07-09 16:42:08      Community              Unknown           0.0  \n",
       " 280  1998-07-15 17:03:53      Community                Gecko           0.0  \n",
       " 444  1998-07-01 05:13:10      Community                Gecko           0.0  \n",
       " 394  1998-07-10 22:19:56      Community              Unknown           0.0  \n",
       " 799  1998-07-15 17:26:32      Community                Gecko           0.0  \n",
       " 581  1998-07-10 17:22:06      Community              Unknown           0.0  \n",
       " 701  1998-07-02 20:03:03      Community              Unknown           0.0  \n",
       " 1484 1998-03-30 01:59:34      Community                Gecko           0.0  \n",
       " 652  1998-07-14 21:13:23      Community              Unknown           0.0  \n",
       " 1026 1998-06-22 21:28:47      Community              Unknown           0.0  \n",
       " 1750 1998-03-28 00:00:00      Community              Unknown           0.0  \n",
       " 1564 1998-03-27 00:00:00      Community              Unknown           0.0  \n",
       " 371  2008-12-22 18:40:01  Mozilla Staff                Servo          10.0  \n",
       " \n",
       " [1764 rows x 6 columns],\n",
       "                                         author        first_commit  \\\n",
       " 923   8aba608506008f5a48a03a5b328e0e309edbade1 2007-12-20 15:43:18   \n",
       " 1147  57426dae137438b1e7dbc55c72ce31fd9de828ef 2007-12-20 15:43:18   \n",
       " 1210  3447591ca286aae504e08bae7d9bfa79aa0b4008 2007-12-15 16:42:25   \n",
       " 1249  afa2d6fe25319006e73e5d525421c87a07ded304 2007-12-12 21:05:57   \n",
       " 1103  2d58daeb9485bf5527e85809253c45e0d2b3889c 2007-12-12 13:57:57   \n",
       " 1201  e926e84cea95a53e114f438cc223e23e839a9d04 2007-12-10 18:54:01   \n",
       " 1216  4aad72f4a1c2790784b06ce5fae9d74e37bc374d 2007-12-05 07:04:09   \n",
       " 748   1de5cffb2502bfeed240be042278503134762f4c 2007-11-27 15:51:44   \n",
       " 1011  49c938a20e7591e217b6fea288c8899fa4457b5c 2007-11-27 15:51:44   \n",
       " 768   1c1116a481122e01b9d69575242e2a4fc661f7ec 2007-11-27 09:58:52   \n",
       " 1030  709f077a5a7ca9b1a2cf6b72d97e16911b23270c 2007-11-27 09:58:52   \n",
       " 1092  9a6e40f62e1063a220f7c8783d1b368dd68bc5ce 2007-11-26 17:47:04   \n",
       " 1237  78b27f65157c5484f2719d579bb2a680db6aad80 2007-11-26 17:47:04   \n",
       " 747   106191e67f703a24e3c34ac948460fa36c23a8ae 2007-11-19 06:02:17   \n",
       " 1009  102d6eaecf589a1ee10516bd063dc42382ca680f 2007-11-19 06:02:17   \n",
       " 957   407f3a38f6b61b885e53915187b49ad1282696db 2007-11-14 16:20:16   \n",
       " 1170  e8a627c6f20825cc03b21d729dc371fff00d3b26 2007-11-14 16:20:16   \n",
       " 1149  726942bc7d977469ac4af0a19a1b12420b877b8b 2007-11-12 21:23:07   \n",
       " 918   043192d627c4947ded041efd8401b1321856903f 2007-11-12 21:23:07   \n",
       " 950   0036ec0ef2dcc61a838336a7844df2341f52b934 2007-11-06 21:09:35   \n",
       " 1162  8710b9265e67ff8d7f8a21dd2b6f76789fffebed 2007-11-06 21:09:35   \n",
       " 1214  3bcb0e641e6c783bbd1be3f0662c04f8237e6fdc 2007-11-06 21:09:07   \n",
       " 1073  036af4099c6d358fb994d99422c40f98665758cf 2007-11-06 21:09:07   \n",
       " 1255  dee1e26813820960484f66bb81a28dacfb49cac8 2007-11-06 21:08:35   \n",
       " 1074  08e353791d805c63bc818cf010e93d9906ebe422 2007-11-06 21:08:35   \n",
       " 805   1a9f1acbe8bae3034be95a4928c36b8990410458 2007-11-06 21:08:08   \n",
       " 1058  c06d510a456eb5b40317d314c125023dce76c93a 2007-11-06 21:08:08   \n",
       " 917   000e81efa082c7857d6f0cf3c749722188ac7868 2007-11-06 21:08:04   \n",
       " 1150  a80c3cbf1a5c8d2255a3932006d779379ca588de 2007-11-06 21:08:04   \n",
       " 1161  7faa294b5bd3d0264d86c6839a38a3aae56dbf5d 2007-11-06 21:07:56   \n",
       " ...                                        ...                 ...   \n",
       " 304   5e8873da77bfc73b744c8ef257eede9cce53c04f 1998-04-14 19:26:42   \n",
       " 774   069d7fbce4c27ff1d7866e0732fff1ccbd6a6476 1998-04-14 18:14:55   \n",
       " 739   6565db00622ee1261c295d44f8b883a2f363df1c 1998-04-14 17:29:44   \n",
       " 516   47ac23f0868d747b6d9d61c596c226fbee59919e 1998-04-14 16:53:16   \n",
       " 309   8426e77b1adabfc17cf61da651a0194683856612 1998-04-14 01:49:20   \n",
       " 517   97546fd53af5fa01ce7090030f41a94f7157a22b 1998-04-14 01:24:06   \n",
       " 349   a2522930974eb40699e11ecf43ff2d51799161d4 1998-04-14 00:31:59   \n",
       " 535   fe5fd18b94c889e8934bfbabbd976f5ea6686443 1998-04-13 23:58:48   \n",
       " 533   9861a7175cf51bf91a8c627eead1ccee3081dabd 1998-04-13 23:56:35   \n",
       " 688   c939ef8317b162b4daaad54fdfd77ceaad6fd4ce 1998-04-13 21:07:10   \n",
       " 88    4782bfeacd4153cda87b5f1111afee53ac1187ee 1998-04-13 20:24:54   \n",
       " 771   e7e12cca5bb66ad7d4a40d7f1f8f66f0082e7324 1998-04-09 03:54:33   \n",
       " 777   38a3bfe8ad27c5843eb55868ae23422db0b971c8 1998-04-09 00:07:08   \n",
       " 487   887002ff63d3f1b7a54ed99ca39aa8422e660f15 1998-04-08 21:23:19   \n",
       " 316   d2d0ee7863d5a2400c69c490942ce407385d185b 1998-04-08 04:20:39   \n",
       " 545   3320ad91ab9ba8156863b4e8d3ca0b7ddcf11dde 1998-04-08 04:04:58   \n",
       " 884   7e6e1bd0112ae67da0fb5256daec2ef7adad9778 1998-04-08 01:47:23   \n",
       " 539   52d75e285d275e0b47723fedf669281f00ddde2e 1998-04-07 23:30:24   \n",
       " 243   431b3b9443363d840dc45885370dce1ebf0bb6df 1998-04-07 20:41:06   \n",
       " 402   856e9a14c44a9e771c6f940145b26575c81e2228 1998-04-07 20:36:46   \n",
       " 353   2ca3b7c9678c67a58174dbc2e5e91f2a04b019e6 1998-04-06 23:54:42   \n",
       " 705   d95d6e15648451cfc45885ee0de13b85f412403a 1998-03-30 23:59:41   \n",
       " 515   2a205325afe7a7ba7f2e44ab0b0f7a0dc5a9de00 1998-03-30 23:30:00   \n",
       " 624   c612c17daa0436547fdf8dde7038b13ddc77f0d9 1998-03-30 23:15:36   \n",
       " 1144  fee82d83c32b57da8be70bb1a60fdd18945a4d89 1998-03-30 01:59:34   \n",
       " 580   360bda5d687dec2cadfb804f08c53e32c9a00a27 1998-03-29 21:51:40   \n",
       " 891   be4def1ae593ac3e9a3e6a7d3eb847e93bb21bb2 1998-03-28 02:44:41   \n",
       " 1259  ea866ddbc4b20d4f191bcdecd514b76e22341c39 1998-03-28 00:00:00   \n",
       " 1180  290509554a8d2cd7f0c6f5cfb1c1048e86615fb2 1998-03-27 00:00:00   \n",
       " 410   5ab67497e1980994af3ffe34e602401ea09237e2 1998-01-01 07:13:13   \n",
       " \n",
       "              last_commit            org  project  active_years  \n",
       " 923  2007-12-21 15:08:47      Community    Gecko           0.0  \n",
       " 1147 2007-12-21 15:08:47      Community   IT/Ops           0.0  \n",
       " 1210 2007-12-15 16:42:25      Community    Servo           0.0  \n",
       " 1249 2007-12-12 21:05:57  Mozilla Staff    Servo           0.0  \n",
       " 1103 2007-12-14 16:20:48      Community   IT/Ops           0.0  \n",
       " 1201 2007-12-11 15:50:05      Community    Servo           0.0  \n",
       " 1216 2007-12-05 07:04:09      Community    Servo           0.0  \n",
       " 748  2007-12-20 14:05:00  Mozilla Staff    Gecko           0.0  \n",
       " 1011 2007-12-20 14:05:00      Community   IT/Ops           0.0  \n",
       " 768  2007-12-28 09:18:12      Community    Gecko           0.0  \n",
       " 1030 2007-12-28 09:18:12      Community   IT/Ops           0.0  \n",
       " 1092 2007-11-26 17:47:04  Mozilla Staff    Gecko           0.0  \n",
       " 1237 2007-11-26 17:47:04      Community   IT/Ops           0.0  \n",
       " 747  2007-12-14 13:34:06  Mozilla Staff    Gecko           0.0  \n",
       " 1009 2007-12-14 13:34:06      Community   IT/Ops           0.0  \n",
       " 957  2007-11-26 13:45:46  Mozilla Staff    Gecko           0.0  \n",
       " 1170 2007-11-26 13:45:46      Community   IT/Ops           0.0  \n",
       " 1149 2007-12-24 14:47:37      Community   IT/Ops           0.0  \n",
       " 918  2007-12-24 14:47:37      Community    Gecko           0.0  \n",
       " 950  2007-11-06 21:09:39  Mozilla Staff  Unknown           0.0  \n",
       " 1162 2007-11-06 21:09:39      Community   IT/Ops           0.0  \n",
       " 1214 2007-11-06 21:09:07      Community   IT/Ops           0.0  \n",
       " 1073 2007-11-06 21:09:07  Mozilla Staff  Unknown           0.0  \n",
       " 1255 2007-11-06 21:08:35      Community   IT/Ops           0.0  \n",
       " 1074 2007-11-06 21:08:35  Mozilla Staff  Unknown           0.0  \n",
       " 805  2007-11-06 21:09:41  Mozilla Staff    Gecko           0.0  \n",
       " 1058 2007-11-06 21:09:41      Community   IT/Ops           0.0  \n",
       " 917  2007-11-06 21:09:48  Mozilla Staff    Gecko           0.0  \n",
       " 1150 2007-11-06 21:09:48      Community   IT/Ops           0.0  \n",
       " 1161 2007-11-06 21:09:45      Community   IT/Ops           0.0  \n",
       " ...                  ...            ...      ...           ...  \n",
       " 304  1998-07-10 17:29:03      Community    Gecko           0.0  \n",
       " 774  1998-05-15 18:49:17      Community    Gecko           0.0  \n",
       " 739  1998-06-09 22:41:49      Community    Gecko           0.0  \n",
       " 516  1998-07-14 22:52:07      Community    Gecko           0.0  \n",
       " 309  1998-07-14 18:43:47      Community    Gecko           0.0  \n",
       " 517  1998-07-09 23:00:29      Community    Gecko           0.0  \n",
       " 349  1998-07-15 17:04:56      Community    Gecko           0.0  \n",
       " 535  1998-07-15 16:33:40      Community    Gecko           0.0  \n",
       " 533  1998-07-15 00:37:11      Community    Gecko           0.0  \n",
       " 688  1998-05-27 07:33:12      Community    Gecko           0.0  \n",
       " 88   1998-07-15 18:55:53      Community    Gecko           0.0  \n",
       " 771  1998-05-28 18:20:00      Community  Unknown           0.0  \n",
       " 777  1998-07-01 22:36:44      Community  Unknown           0.0  \n",
       " 487  1998-07-02 02:39:54      Community    Gecko           0.0  \n",
       " 316  1998-07-15 10:34:34      Community  Unknown           0.0  \n",
       " 545  1998-07-09 02:19:37      Community    Gecko           0.0  \n",
       " 884  1998-06-23 02:32:45      Community    Gecko           0.0  \n",
       " 539  1998-07-09 16:42:08      Community  Unknown           0.0  \n",
       " 243  1998-07-15 17:03:53      Community    Gecko           0.0  \n",
       " 402  1998-07-01 05:13:10      Community    Gecko           0.0  \n",
       " 353  1998-07-10 22:19:56      Community  Unknown           0.0  \n",
       " 705  1998-07-15 17:26:32      Community    Gecko           0.0  \n",
       " 515  1998-07-10 17:22:06      Community  Unknown           0.0  \n",
       " 624  1998-07-02 20:03:03      Community  Unknown           0.0  \n",
       " 1144 1998-03-30 01:59:34      Community    Gecko           0.0  \n",
       " 580  1998-07-14 21:13:23      Community  Unknown           0.0  \n",
       " 891  1998-06-22 21:28:47      Community  Unknown           0.0  \n",
       " 1259 1998-03-28 00:00:00      Community  Unknown           0.0  \n",
       " 1180 1998-03-27 00:00:00      Community  Unknown           0.0  \n",
       " 410  2007-12-14 10:23:00  Mozilla Staff    Servo           9.0  \n",
       " \n",
       " [1266 rows x 6 columns]]"
      ]
     },
     "execution_count": 8,
     "metadata": {},
     "output_type": "execute_result"
    }
   ],
   "source": [
    "### DIFFERENCE BETWEEN FIRST AND LAST CONTRIBUTION\n",
    "### GET SNAPSHOTS FOR DIFFERENT YEARS\n",
    "\n",
    "results = []\n",
    "for i in analyzed_range:\n",
    "\n",
    "    # Buckets by author name, finding first commit for each of them\n",
    "    s = ut.create_search(es_conn, 'git')\n",
    "    \n",
    "    # Filter commits to the Project Repos\n",
    "    s = ut.add_project_filter(s, project_name)\n",
    "    \n",
    "    # Retrieve commits before given year\n",
    "    s = s.filter('range', grimoire_creation_date={'lt': 'now-' + str(i) + 'y/y'})\n",
    "\n",
    "    # Bucketize by uuid and get first and last commit\n",
    "    s.aggs.bucket('authors', 'terms', field='author_uuid', size=100000) \\\n",
    "        .metric('first', 'top_hits', _source=['author_date', 'author_org_name', 'author_uuid', 'project'],\n",
    "                size=1, sort=[{\"author_date\": {\"order\": \"asc\"}}]) \\\n",
    "        .metric('last_commit', 'max', field='author_date')\n",
    "    s = s.sort(\"author_date\")\n",
    "    #print(s.to_dict())\n",
    "    results.append(s.execute())\n",
    "\n",
    "\n",
    "authors_dfs = []\n",
    "for result in results:\n",
    "    authors_df = ut.get_authors_df(result, author_bucket_field='authors')\n",
    "    authors_df['active_years'] = (authors_df.last_commit-authors_df.first_commit).astype('timedelta64[Y]')\n",
    "    authors_dfs.append(authors_df)\n",
    "\n",
    "authors_dfs"
   ]
  },
  {
   "cell_type": "markdown",
   "metadata": {},
   "source": [
    "\n",
    "# Git: Newcomers by year"
   ]
  },
  {
   "cell_type": "code",
   "execution_count": 9,
   "metadata": {
    "collapsed": false
   },
   "outputs": [
    {
     "data": {
      "text/plain": [
       "[    first_commit  author\n",
       " 0          -2016    2454\n",
       " 1          -2015    2564\n",
       " 2          -2014    2359\n",
       " 3          -2013    1621\n",
       " 4          -2012    1139\n",
       " 5          -2011     974\n",
       " 6          -2010     709\n",
       " 7          -2009     536\n",
       " 8          -2008     498\n",
       " 9          -2007     390\n",
       " 10         -2006     105\n",
       " 11         -2005      73\n",
       " 12         -2004      53\n",
       " 13         -2003      58\n",
       " 14         -2002      53\n",
       " 15         -2001      93\n",
       " 16         -2000     115\n",
       " 17         -1999      91\n",
       " 18         -1998     235,     first_commit  author\n",
       " 0          -2015    2564\n",
       " 1          -2014    2359\n",
       " 2          -2013    1621\n",
       " 3          -2012    1139\n",
       " 4          -2011     974\n",
       " 5          -2010     709\n",
       " 6          -2009     536\n",
       " 7          -2008     498\n",
       " 8          -2007     390\n",
       " 9          -2006     105\n",
       " 10         -2005      73\n",
       " 11         -2004      53\n",
       " 12         -2003      58\n",
       " 13         -2002      53\n",
       " 14         -2001      93\n",
       " 15         -2000     115\n",
       " 16         -1999      91\n",
       " 17         -1998     235,     first_commit  author\n",
       " 0          -2014    2359\n",
       " 1          -2013    1621\n",
       " 2          -2012    1139\n",
       " 3          -2011     974\n",
       " 4          -2010     709\n",
       " 5          -2009     536\n",
       " 6          -2008     498\n",
       " 7          -2007     390\n",
       " 8          -2006     105\n",
       " 9          -2005      73\n",
       " 10         -2004      53\n",
       " 11         -2003      58\n",
       " 12         -2002      53\n",
       " 13         -2001      93\n",
       " 14         -2000     115\n",
       " 15         -1999      91\n",
       " 16         -1998     235,     first_commit  author\n",
       " 0          -2014       1\n",
       " 1          -2013    1621\n",
       " 2          -2012    1139\n",
       " 3          -2011     974\n",
       " 4          -2010     709\n",
       " 5          -2009     536\n",
       " 6          -2008     498\n",
       " 7          -2007     390\n",
       " 8          -2006     105\n",
       " 9          -2005      73\n",
       " 10         -2004      53\n",
       " 11         -2003      58\n",
       " 12         -2002      53\n",
       " 13         -2001      93\n",
       " 14         -2000     115\n",
       " 15         -1999      91\n",
       " 16         -1998     235,     first_commit  author\n",
       " 0          -2012    1138\n",
       " 1          -2011     974\n",
       " 2          -2010     709\n",
       " 3          -2009     536\n",
       " 4          -2008     498\n",
       " 5          -2007     390\n",
       " 6          -2006     105\n",
       " 7          -2005      73\n",
       " 8          -2004      53\n",
       " 9          -2003      58\n",
       " 10         -2002      53\n",
       " 11         -2001      93\n",
       " 12         -2000     115\n",
       " 13         -1999      91\n",
       " 14         -1998     235,     first_commit  author\n",
       " 0          -2011     973\n",
       " 1          -2010     709\n",
       " 2          -2009     536\n",
       " 3          -2008     498\n",
       " 4          -2007     390\n",
       " 5          -2006     105\n",
       " 6          -2005      73\n",
       " 7          -2004      53\n",
       " 8          -2003      58\n",
       " 9          -2002      53\n",
       " 10         -2001      93\n",
       " 11         -2000     115\n",
       " 12         -1999      91\n",
       " 13         -1998     235,     first_commit  author\n",
       " 0          -2010     709\n",
       " 1          -2009     536\n",
       " 2          -2008     498\n",
       " 3          -2007     390\n",
       " 4          -2006     105\n",
       " 5          -2005      73\n",
       " 6          -2004      53\n",
       " 7          -2003      58\n",
       " 8          -2002      53\n",
       " 9          -2001      93\n",
       " 10         -2000     115\n",
       " 11         -1999      91\n",
       " 12         -1998     235,     first_commit  author\n",
       " 0          -2009     536\n",
       " 1          -2008     498\n",
       " 2          -2007     390\n",
       " 3          -2006     105\n",
       " 4          -2005      73\n",
       " 5          -2004      53\n",
       " 6          -2003      58\n",
       " 7          -2002      53\n",
       " 8          -2001      93\n",
       " 9          -2000     115\n",
       " 10         -1999      91\n",
       " 11         -1998     235,     first_commit  author\n",
       " 0          -2008     498\n",
       " 1          -2007     390\n",
       " 2          -2006     105\n",
       " 3          -2005      73\n",
       " 4          -2004      53\n",
       " 5          -2003      58\n",
       " 6          -2002      53\n",
       " 7          -2001      93\n",
       " 8          -2000     115\n",
       " 9          -1999      91\n",
       " 10         -1998     235,    first_commit  author\n",
       " 0         -2007     390\n",
       " 1         -2006     105\n",
       " 2         -2005      73\n",
       " 3         -2004      53\n",
       " 4         -2003      58\n",
       " 5         -2002      53\n",
       " 6         -2001      93\n",
       " 7         -2000     115\n",
       " 8         -1999      91\n",
       " 9         -1998     235]"
      ]
     },
     "execution_count": 9,
     "metadata": {},
     "output_type": "execute_result"
    }
   ],
   "source": [
    "# AUTHORS GROUPED BY FIRST COMMIT DATE\n",
    "\n",
    "attraction_dfs = []\n",
    "for authors_df in authors_dfs:\n",
    "    attraction_df = authors_df.copy()\n",
    "    attraction_df['first_commit'] = attraction_df['first_commit'].apply(lambda x: str(pandas.Period(x,'A')))\n",
    "    attraction_df['first_commit'] = attraction_df['first_commit'].apply(lambda x: int(x) * -1)\n",
    "    attraction_df = attraction_df.groupby(['first_commit']).agg({'author': pandas.Series.nunique})\n",
    "    attraction_df = attraction_df.reset_index()  \n",
    "    attraction_dfs.append(attraction_df)  \n",
    "\n",
    "attraction_dfs"
   ]
  },
  {
   "cell_type": "code",
   "execution_count": 10,
   "metadata": {
    "collapsed": false,
    "scrolled": false
   },
   "outputs": [
    {
     "data": {
      "text/html": [
       "<script>requirejs.config({paths: { 'plotly': ['https://cdn.plot.ly/plotly-latest.min']},});if(!window.Plotly) {{require(['plotly'],function(plotly) {window.Plotly=plotly;});}}</script>"
      ],
      "text/vnd.plotly.v1+html": [
       "<script>requirejs.config({paths: { 'plotly': ['https://cdn.plot.ly/plotly-latest.min']},});if(!window.Plotly) {{require(['plotly'],function(plotly) {window.Plotly=plotly;});}}</script>"
      ]
     },
     "metadata": {},
     "output_type": "display_data"
    },
    {
     "data": {
      "application/vnd.plotly.v1+json": {
       "data": [
        {
         "orientation": "h",
         "type": "bar",
         "x": [
          2454,
          2564,
          2359,
          1621,
          1139,
          974,
          709,
          536,
          498,
          390,
          105,
          73,
          53,
          58,
          53,
          93,
          115,
          91,
          235
         ],
         "y": [
          -2016,
          -2015,
          -2014,
          -2013,
          -2012,
          -2011,
          -2010,
          -2009,
          -2008,
          -2007,
          -2006,
          -2005,
          -2004,
          -2003,
          -2002,
          -2001,
          -2000,
          -1999,
          -1998
         ]
        }
       ],
       "layout": {
        "barmode": "group",
        "title": "All 2016"
       }
      },
      "text/html": [
       "<div id=\"ce3dd584-0de2-47a6-a34c-cabb47bcd4ae\" style=\"height: 525px; width: 100%;\" class=\"plotly-graph-div\"></div><script type=\"text/javascript\">require([\"plotly\"], function(Plotly) { window.PLOTLYENV=window.PLOTLYENV || {};window.PLOTLYENV.BASE_URL=\"https://plot.ly\";Plotly.newPlot(\"ce3dd584-0de2-47a6-a34c-cabb47bcd4ae\", [{\"type\": \"bar\", \"y\": [-2016, -2015, -2014, -2013, -2012, -2011, -2010, -2009, -2008, -2007, -2006, -2005, -2004, -2003, -2002, -2001, -2000, -1999, -1998], \"orientation\": \"h\", \"x\": [2454, 2564, 2359, 1621, 1139, 974, 709, 536, 498, 390, 105, 73, 53, 58, 53, 93, 115, 91, 235]}], {\"title\": \"All 2016\", \"barmode\": \"group\"}, {\"linkText\": \"Export to plot.ly\", \"showLink\": true})});</script>"
      ],
      "text/vnd.plotly.v1+html": [
       "<div id=\"ce3dd584-0de2-47a6-a34c-cabb47bcd4ae\" style=\"height: 525px; width: 100%;\" class=\"plotly-graph-div\"></div><script type=\"text/javascript\">require([\"plotly\"], function(Plotly) { window.PLOTLYENV=window.PLOTLYENV || {};window.PLOTLYENV.BASE_URL=\"https://plot.ly\";Plotly.newPlot(\"ce3dd584-0de2-47a6-a34c-cabb47bcd4ae\", [{\"type\": \"bar\", \"y\": [-2016, -2015, -2014, -2013, -2012, -2011, -2010, -2009, -2008, -2007, -2006, -2005, -2004, -2003, -2002, -2001, -2000, -1999, -1998], \"orientation\": \"h\", \"x\": [2454, 2564, 2359, 1621, 1139, 974, 709, 536, 498, 390, 105, 73, 53, 58, 53, 93, 115, 91, 235]}], {\"title\": \"All 2016\", \"barmode\": \"group\"}, {\"linkText\": \"Export to plot.ly\", \"showLink\": true})});</script>"
      ]
     },
     "metadata": {},
     "output_type": "display_data"
    }
   ],
   "source": [
    "# Plot bar charts for each dataframe\n",
    "attraction_df = attraction_dfs[0]\n",
    "    \n",
    "plotly.offline.init_notebook_mode(connected=True)\n",
    "        \n",
    "data = [go.Bar(\n",
    "        x=attraction_df['author'],\n",
    "        y=attraction_df['first_commit'],\n",
    "        orientation = 'h'\n",
    ")]\n",
    "\n",
    "layout = go.Layout(\n",
    "    barmode='group',\n",
    "    title=project_name + ' ' + str(2016)\n",
    ")\n",
    "\n",
    "fig = go.Figure(data=data, layout=layout)\n",
    "plotly.offline.iplot(fig, filename='horizontal-bar')   "
   ]
  },
  {
   "cell_type": "markdown",
   "metadata": {},
   "source": [
    "## Years of Experience\n",
    "We consider **N commits** per year, as a minimum to add one year of experience to a given author. From this assumption, we build groups of authors by years of experience. As a result, we present a plot with number of people in each group.\n",
    "\n",
    "To give a more complete idea of how community evolves, we plot snapshots corresponding to different years. Each of them will take all commits sent until the given year, and calculate years of experience for all authors in that slice.\n",
    "\n",
    "We are also counting authors whose last year of experience is the one we are analyzing data from. That is, if we are looking to year 2016, we only count those authors who made at least N commits in 2016. From there we add 1 year of experience for each year they fulfill this condition.\n",
    "\n",
    "* Y axis corresponds to years of experience as defined above.\n",
    "* X axis corresponds to the umber of contributors in the given group.\n",
    "* Each plot shows a snapshot of this information from the specified year to the past (1998 was chosen as the oldest date to get results from). "
   ]
  },
  {
   "cell_type": "code",
   "execution_count": 16,
   "metadata": {
    "collapsed": false
   },
   "outputs": [],
   "source": [
    "###\n",
    "## GET COMMITS BY YEAR AND AUTHOR\n",
    "###\n",
    "\n",
    "results = []\n",
    "min_commits = 1\n",
    "\n",
    "for i in analyzed_range:\n",
    "\n",
    "    # Buckets by author name, finding first commit for each of them\n",
    "    s = ut.create_search(es_conn, 'git')\n",
    "        \n",
    "    # Filter commits to the Project Repos\n",
    "    s = ut.add_project_filter(s, project_name)\n",
    "    \n",
    "    # Retrieve commits before given year\n",
    "    s = s.filter('range', grimoire_creation_date={'lt': 'now-' + str(i) + 'y/y'})\n",
    "\n",
    "    # Bucketize by time, uuid and organization, then count commits per year\n",
    "    s.aggs.bucket('time', 'date_histogram', field='grimoire_creation_date', interval='year') \\\n",
    "        .bucket('authors', 'terms', field='author_uuid', size=100000, min_doc_count=min_commits) \\\n",
    "        .bucket('org', 'terms', field='author_org_name', size=1) \\\n",
    "        .metric('commits', 'cardinality', field='hash', precision_threshold=1000)\n",
    "\n",
    "    r = s.execute()\n",
    "    # In case you need to check response, uncomment line below\n",
    "    #print(r.to_dict()['aggregations']['time']['buckets'])\n",
    "        \n",
    "    results.append(r)\n",
    "    \n",
    "#results\n"
   ]
  },
  {
   "cell_type": "code",
   "execution_count": 17,
   "metadata": {
    "collapsed": false
   },
   "outputs": [
    {
     "data": {
      "text/plain": [
       "[                                                        exp last_active  \\\n",
       " Author                                   Org                              \n",
       " 000063c4e47e93ab3b30607680609e4d2500ce5d Mozilla Staff    4        2016   \n",
       " 00014f52adaaeca931c4c077a1cb9791eb769ea1 Community        1        2016   \n",
       " 0002c6a09a45af6481c35e29c0ed7f3bdbecb3b8 Community        1        2016   \n",
       " 000336e205e3f5e2daa6e7a0b03e612b3b2b02d3 Mozilla Staff    3        2016   \n",
       " 000679e4b588906b8025d2c28d45e9ece4c88715 Community        1        2016   \n",
       " 000a91646239261328167971b7c6d851087c3089 Community        1        2016   \n",
       " 0012fe0f0c0ebabfb0fbed08e160f6b23cd248f8 Community        2        2016   \n",
       " 0014e7cebbe8ef11dab9eeb5f2111e01d9eea378 Mozilla Staff    6        2016   \n",
       " 00201bda17fd9d14bc1e0f8a72afbc55af090657 Community        1        2016   \n",
       " 002893ffe1425c220756f8ba4c78e1e3bb0be50f Mozilla Staff    6        2016   \n",
       " 00302655e2f88afeedfb958a0364ab13bcf7ea52 Community        1        2016   \n",
       " 003716394a26b52b88f369e566d5fd671968e70e Community        1        2016   \n",
       " 00432eb3dd218cdc8adee9796b82236368680f25 Community        2        2016   \n",
       " 0043f3e1632e14bb05873fc981efa44057a38652 Community        1        2016   \n",
       " 00522858c913429f887110c822c90446bc4ea2dd Community        2        2016   \n",
       " 005c7a91492c365880def44d98ef735f45948dde Community        1        2016   \n",
       " 0065dabc4d7cd72612ede8f871c688e9430ec52f Community        1        2016   \n",
       " 006fee3e0de309ff1e3e89c24f5e7032163c49c5 Mozilla Staff    5        2016   \n",
       " 007628f41e9a9bc54530312d9f3340f2ff3776c6 Community        1        2016   \n",
       " 0077ed8ce0df63bf273d022edae59fc2664972dc Mozilla Staff    2        2016   \n",
       " 0079c3c054afbc234e161c6759ac6c09f471f762 Community        1        2016   \n",
       " 00834d313bfc6fc60be1631bcc57b2c05ee2e0e3 Mozilla Staff    8        2016   \n",
       " 00846eff46b051d92317fc74e54041c6fdccd7cf Mozilla Staff    9        2016   \n",
       " 00890cbe5133b67bfa1021485959d2b42c11f4f8 Mozilla Staff    9        2016   \n",
       " 008a03f3db5ff01257a62b88192fd823deb50bf9 Community        1        2016   \n",
       " 0099f5fc8b2f425ee389ad2e08c1e19ab1e153b4 Community        2        2016   \n",
       " 00a40f9e9e7f7633ddab8291a99e1e487f88481c Community        4        2016   \n",
       " 00a65e9f51147e4f416ded3f494dd4bfc0977979 Mozilla Staff    5        2016   \n",
       " 00b934012989b386ac9efc706dbc28cd6be173c6 Mozilla Staff    1        2016   \n",
       " 00c0c045abf8a4364a05f969688a2375b62f85ab Community        1        2016   \n",
       " ...                                                     ...         ...   \n",
       " fc25ef12b628497a64aa45ad7e48dee097a2b9b7 Community        2        2016   \n",
       " fc5c257e798d20ab517a6d09c45e9eda471dbe1e Community        1        2016   \n",
       " fc63bc49acd35b8d9e547b99c811839dc363e52f Community        1        2016   \n",
       " fc97aade1084953f9bf442a80c6aa2b29083ba05 Mozilla Staff    1        2016   \n",
       " fc9ac0ea9c9c006e9f6b4e1923849da4d9019133 Community        3        2016   \n",
       " fccece67acae3c702217e47979a4a4940b665968 Community        1        2016   \n",
       " fce7bfaa889d6926f0b7f81daea527ea81ba8d5a Community        2        2016   \n",
       " fcedd6dd863c0c32365cc1c9fc834e92873260b9 Community        1        2016   \n",
       " fd0f92960d063983b8ae0fa8c93ca483861eb255 Community        1        2016   \n",
       " fd85a54932688ee80835505b8d4a1ca3dd3b3a34 Community        1        2016   \n",
       " fd9723c4eaccd6921e8ce3068227aeeaf4847340 Community        1        2016   \n",
       " fdf41c92890261fb8ffc05b41f5ddd0df07f11e0 Community        1        2016   \n",
       " fe0d747661293b2a21ad0b2293012f7553e5da02 Community        2        2016   \n",
       " fe1273eeee2752e4d4e9919960c9d1cd849b7da9 Community        1        2016   \n",
       " fe31b9d47f52171b44106ebb18e176117bd2a188 Mozilla Staff    5        2016   \n",
       " fe5ab05d3ebcdc4c70220f6aa736aebb5cdff032 Community        1        2016   \n",
       " fe7beff1bae09472a20db360e8547cd225fa1549 Community        1        2016   \n",
       " fe85c1e0745a7d1c05fb68a2a4aaf640d0b79c69 Community        1        2016   \n",
       " fe86662765dfa96c485801d4a383d237d2679404 Community        1        2016   \n",
       " fe900e51d8dab35200a4110459c01750d6bfb364 Community        1        2016   \n",
       " febf7977c16b405be95458e1391dc13d5a64dc6e Community        1        2016   \n",
       " fee7d13e3104d59c3436f8feb8b1c3b3759706ba Community        1        2016   \n",
       " fef6233d4c0ffc74da94b5a44986df33102fd448 Community        1        2016   \n",
       " ff27224be65cdd22d699a8642080e9bab8a19c5f Community        1        2016   \n",
       " ff30a04f3d125607773579a3163029906003d8df Community        1        2016   \n",
       " ff3e7a0e12d913a61213f4c9162724e81043b49e Community        1        2016   \n",
       " ff80e770534632437647f5c6f2b4473116356a2d Community        1        2016   \n",
       " ff97da7bdc6c8fc8c1d1ff246a932c46aae2f454 Community        1        2016   \n",
       " ffae9ed9c1417e3ead7452bee48138b33dce5323 Community        1        2016   \n",
       " ffc37980365bfbbc76045725216a0a8e9812a869 Community        3        2016   \n",
       " \n",
       "                                                        project  \n",
       " Author                                   Org                    \n",
       " 000063c4e47e93ab3b30607680609e4d2500ce5d Mozilla Staff     All  \n",
       " 00014f52adaaeca931c4c077a1cb9791eb769ea1 Community         All  \n",
       " 0002c6a09a45af6481c35e29c0ed7f3bdbecb3b8 Community         All  \n",
       " 000336e205e3f5e2daa6e7a0b03e612b3b2b02d3 Mozilla Staff     All  \n",
       " 000679e4b588906b8025d2c28d45e9ece4c88715 Community         All  \n",
       " 000a91646239261328167971b7c6d851087c3089 Community         All  \n",
       " 0012fe0f0c0ebabfb0fbed08e160f6b23cd248f8 Community         All  \n",
       " 0014e7cebbe8ef11dab9eeb5f2111e01d9eea378 Mozilla Staff     All  \n",
       " 00201bda17fd9d14bc1e0f8a72afbc55af090657 Community         All  \n",
       " 002893ffe1425c220756f8ba4c78e1e3bb0be50f Mozilla Staff     All  \n",
       " 00302655e2f88afeedfb958a0364ab13bcf7ea52 Community         All  \n",
       " 003716394a26b52b88f369e566d5fd671968e70e Community         All  \n",
       " 00432eb3dd218cdc8adee9796b82236368680f25 Community         All  \n",
       " 0043f3e1632e14bb05873fc981efa44057a38652 Community         All  \n",
       " 00522858c913429f887110c822c90446bc4ea2dd Community         All  \n",
       " 005c7a91492c365880def44d98ef735f45948dde Community         All  \n",
       " 0065dabc4d7cd72612ede8f871c688e9430ec52f Community         All  \n",
       " 006fee3e0de309ff1e3e89c24f5e7032163c49c5 Mozilla Staff     All  \n",
       " 007628f41e9a9bc54530312d9f3340f2ff3776c6 Community         All  \n",
       " 0077ed8ce0df63bf273d022edae59fc2664972dc Mozilla Staff     All  \n",
       " 0079c3c054afbc234e161c6759ac6c09f471f762 Community         All  \n",
       " 00834d313bfc6fc60be1631bcc57b2c05ee2e0e3 Mozilla Staff     All  \n",
       " 00846eff46b051d92317fc74e54041c6fdccd7cf Mozilla Staff     All  \n",
       " 00890cbe5133b67bfa1021485959d2b42c11f4f8 Mozilla Staff     All  \n",
       " 008a03f3db5ff01257a62b88192fd823deb50bf9 Community         All  \n",
       " 0099f5fc8b2f425ee389ad2e08c1e19ab1e153b4 Community         All  \n",
       " 00a40f9e9e7f7633ddab8291a99e1e487f88481c Community         All  \n",
       " 00a65e9f51147e4f416ded3f494dd4bfc0977979 Mozilla Staff     All  \n",
       " 00b934012989b386ac9efc706dbc28cd6be173c6 Mozilla Staff     All  \n",
       " 00c0c045abf8a4364a05f969688a2375b62f85ab Community         All  \n",
       " ...                                                        ...  \n",
       " fc25ef12b628497a64aa45ad7e48dee097a2b9b7 Community         All  \n",
       " fc5c257e798d20ab517a6d09c45e9eda471dbe1e Community         All  \n",
       " fc63bc49acd35b8d9e547b99c811839dc363e52f Community         All  \n",
       " fc97aade1084953f9bf442a80c6aa2b29083ba05 Mozilla Staff     All  \n",
       " fc9ac0ea9c9c006e9f6b4e1923849da4d9019133 Community         All  \n",
       " fccece67acae3c702217e47979a4a4940b665968 Community         All  \n",
       " fce7bfaa889d6926f0b7f81daea527ea81ba8d5a Community         All  \n",
       " fcedd6dd863c0c32365cc1c9fc834e92873260b9 Community         All  \n",
       " fd0f92960d063983b8ae0fa8c93ca483861eb255 Community         All  \n",
       " fd85a54932688ee80835505b8d4a1ca3dd3b3a34 Community         All  \n",
       " fd9723c4eaccd6921e8ce3068227aeeaf4847340 Community         All  \n",
       " fdf41c92890261fb8ffc05b41f5ddd0df07f11e0 Community         All  \n",
       " fe0d747661293b2a21ad0b2293012f7553e5da02 Community         All  \n",
       " fe1273eeee2752e4d4e9919960c9d1cd849b7da9 Community         All  \n",
       " fe31b9d47f52171b44106ebb18e176117bd2a188 Mozilla Staff     All  \n",
       " fe5ab05d3ebcdc4c70220f6aa736aebb5cdff032 Community         All  \n",
       " fe7beff1bae09472a20db360e8547cd225fa1549 Community         All  \n",
       " fe85c1e0745a7d1c05fb68a2a4aaf640d0b79c69 Community         All  \n",
       " fe86662765dfa96c485801d4a383d237d2679404 Community         All  \n",
       " fe900e51d8dab35200a4110459c01750d6bfb364 Community         All  \n",
       " febf7977c16b405be95458e1391dc13d5a64dc6e Community         All  \n",
       " fee7d13e3104d59c3436f8feb8b1c3b3759706ba Community         All  \n",
       " fef6233d4c0ffc74da94b5a44986df33102fd448 Community         All  \n",
       " ff27224be65cdd22d699a8642080e9bab8a19c5f Community         All  \n",
       " ff30a04f3d125607773579a3163029906003d8df Community         All  \n",
       " ff3e7a0e12d913a61213f4c9162724e81043b49e Community         All  \n",
       " ff80e770534632437647f5c6f2b4473116356a2d Community         All  \n",
       " ff97da7bdc6c8fc8c1d1ff246a932c46aae2f454 Community         All  \n",
       " ffae9ed9c1417e3ead7452bee48138b33dce5323 Community         All  \n",
       " ffc37980365bfbbc76045725216a0a8e9812a869 Community         All  \n",
       " \n",
       " [4293 rows x 3 columns],\n",
       "                                                         exp last_active  \\\n",
       " Author                                   Org                              \n",
       " 000063c4e47e93ab3b30607680609e4d2500ce5d Mozilla Staff    3        2015   \n",
       " 000336e205e3f5e2daa6e7a0b03e612b3b2b02d3 Mozilla Staff    2        2015   \n",
       " 0008be398d86323b7ead363c4bbc11ea13ec731f Community        5        2015   \n",
       " 000b0486e1fac53a6c55b0484bf905dc3bef4fdd Community        2        2015   \n",
       " 0012fe0f0c0ebabfb0fbed08e160f6b23cd248f8 Community        1        2015   \n",
       " 0014e7cebbe8ef11dab9eeb5f2111e01d9eea378 Mozilla Staff    5        2015   \n",
       " 002893ffe1425c220756f8ba4c78e1e3bb0be50f Mozilla Staff    5        2015   \n",
       " 0048976f39a07a5fce500b49e32f6b136ab7b9c5 Community        1        2015   \n",
       " 0051e388088130f056aabacce3682cc6c79468b6 Community        1        2015   \n",
       " 00522858c913429f887110c822c90446bc4ea2dd Community        1        2015   \n",
       " 0053cdbb16a5b5db25afb2db43f540262f676563 Community        2        2015   \n",
       " 00546f5b926491a6a72ff3d62d55167014239b36 Community        1        2015   \n",
       " 005db5b9898e18d661aaceb15e15189ea9b77370 Community        1        2015   \n",
       " 00623c2446d7c0e316ed60131b0dcd983149e555 Community        1        2015   \n",
       " 006e0462f9d97fb9922369ba3a5823b4cc2943aa Community        1        2015   \n",
       " 006fee3e0de309ff1e3e89c24f5e7032163c49c5 Mozilla Staff    4        2015   \n",
       " 0077ed8ce0df63bf273d022edae59fc2664972dc Mozilla Staff    1        2015   \n",
       " 00834d313bfc6fc60be1631bcc57b2c05ee2e0e3 Mozilla Staff    7        2015   \n",
       " 00846eff46b051d92317fc74e54041c6fdccd7cf Mozilla Staff    8        2015   \n",
       " 00890cbe5133b67bfa1021485959d2b42c11f4f8 Mozilla Staff    8        2015   \n",
       " 0099f5fc8b2f425ee389ad2e08c1e19ab1e153b4 Community        1        2015   \n",
       " 00a0004ed1bf1795be8dcf3879027a6729441006 Community        1        2015   \n",
       " 00a3740494d5be8c12270d5310f087eb6be3ab84 Community        1        2015   \n",
       " 00a40f9e9e7f7633ddab8291a99e1e487f88481c Community        3        2015   \n",
       " 00a56f6298718c2d665792d61fa24c423fe10e67 Community        1        2015   \n",
       " 00a65e9f51147e4f416ded3f494dd4bfc0977979 Mozilla Staff    4        2015   \n",
       " 00acd754e27fc38187f89c96bf6ea54594a3c903 Community        1        2015   \n",
       " 00b9e209a1d0e26aa24926a47574def39f4ffd12 Community        1        2015   \n",
       " 00cf70ea99f95fa41a69a9a635a91d87653ed105 Community        1        2015   \n",
       " 00da6ede3bff8db21a33473d7e552b76f50757eb Mozilla Staff    3        2015   \n",
       " ...                                                     ...         ...   \n",
       " fc077021dfac2f764734096b3f80634e3e0caf34 Community        4        2015   \n",
       " fc1014534906cdff3f38a24b502aba84f105b1f7 Community        1        2015   \n",
       " fc1202801ecba53ad5d579d55a2bef76bd2e713c Community        3        2015   \n",
       " fc18754f2c4dc0c1c13c7f8a1cf7ac7206f3a12b Community        1        2015   \n",
       " fc25ef12b628497a64aa45ad7e48dee097a2b9b7 Community        1        2015   \n",
       " fc51fff5dc2d242a2783025c9b56e6acabe5b882 Mozilla Staff    3        2015   \n",
       " fc87b7898af1000722c871678a18fda92053c77e Community        1        2015   \n",
       " fc9ac0ea9c9c006e9f6b4e1923849da4d9019133 Community        2        2015   \n",
       " fcc314f378488607ff89b577640510cbd35feea2 Community        1        2015   \n",
       " fce71004360f65647b958242af6b75b7ab0ab825 Mozilla Staff    1        2015   \n",
       " fce7bfaa889d6926f0b7f81daea527ea81ba8d5a Community        1        2015   \n",
       " fd2d8cd6a7b41188df583f6b4e1d4469649bf11d Community        2        2015   \n",
       " fdbf3cb3c924a576b931dd91a684729a165ece70 Community        3        2015   \n",
       " fdc6f82e04ee3d4c516434248750715c534bfaa1 Community        1        2015   \n",
       " fdf130bacbfafb4fbdd558a74f4ec036dcf23f65 Community        1        2015   \n",
       " fdfa6813e3f19906d12888e2537057c8f69cf11d Community        1        2015   \n",
       " fe05ce0ceccdb52a12afe9e56c94e6ef4bbf70aa Community        3        2015   \n",
       " fe0d747661293b2a21ad0b2293012f7553e5da02 Community        1        2015   \n",
       " fe0fa9ba0e8a20cf568874120d3c4cbc780c8d47 Community        1        2015   \n",
       " fe205fe591d9b42d00de2f92003bd9b45b5d0eb3 Community        1        2015   \n",
       " fe28af1a16e251a913defa1d0e9ea7b0a015bc08 Community        1        2015   \n",
       " fe2de2401d3937dad6697bf9aa086fb045d3f167 Community        1        2015   \n",
       " fe31b9d47f52171b44106ebb18e176117bd2a188 Mozilla Staff    4        2015   \n",
       " feaedcf9bb2a82a916fe6dff975f9f457b34a2b8 Community        1        2015   \n",
       " fecfb3f1e77c401a5d2f25a3446a5c51b936d965 Community        1        2015   \n",
       " feeb48b17f59eb10a2e139835f16b472f3a541c2 Community        1        2015   \n",
       " ff190fb09c232205dee3c32385acfda924e9066e Community        1        2015   \n",
       " ffb85030992c03486902559e5a196507fa05ea6e Community        1        2015   \n",
       " ffc37980365bfbbc76045725216a0a8e9812a869 Community        2        2015   \n",
       " ffdde673b2e5df13b0b894e845fa0b74ddd1d600 Community        1        2015   \n",
       " \n",
       "                                                        project  \n",
       " Author                                   Org                    \n",
       " 000063c4e47e93ab3b30607680609e4d2500ce5d Mozilla Staff     All  \n",
       " 000336e205e3f5e2daa6e7a0b03e612b3b2b02d3 Mozilla Staff     All  \n",
       " 0008be398d86323b7ead363c4bbc11ea13ec731f Community         All  \n",
       " 000b0486e1fac53a6c55b0484bf905dc3bef4fdd Community         All  \n",
       " 0012fe0f0c0ebabfb0fbed08e160f6b23cd248f8 Community         All  \n",
       " 0014e7cebbe8ef11dab9eeb5f2111e01d9eea378 Mozilla Staff     All  \n",
       " 002893ffe1425c220756f8ba4c78e1e3bb0be50f Mozilla Staff     All  \n",
       " 0048976f39a07a5fce500b49e32f6b136ab7b9c5 Community         All  \n",
       " 0051e388088130f056aabacce3682cc6c79468b6 Community         All  \n",
       " 00522858c913429f887110c822c90446bc4ea2dd Community         All  \n",
       " 0053cdbb16a5b5db25afb2db43f540262f676563 Community         All  \n",
       " 00546f5b926491a6a72ff3d62d55167014239b36 Community         All  \n",
       " 005db5b9898e18d661aaceb15e15189ea9b77370 Community         All  \n",
       " 00623c2446d7c0e316ed60131b0dcd983149e555 Community         All  \n",
       " 006e0462f9d97fb9922369ba3a5823b4cc2943aa Community         All  \n",
       " 006fee3e0de309ff1e3e89c24f5e7032163c49c5 Mozilla Staff     All  \n",
       " 0077ed8ce0df63bf273d022edae59fc2664972dc Mozilla Staff     All  \n",
       " 00834d313bfc6fc60be1631bcc57b2c05ee2e0e3 Mozilla Staff     All  \n",
       " 00846eff46b051d92317fc74e54041c6fdccd7cf Mozilla Staff     All  \n",
       " 00890cbe5133b67bfa1021485959d2b42c11f4f8 Mozilla Staff     All  \n",
       " 0099f5fc8b2f425ee389ad2e08c1e19ab1e153b4 Community         All  \n",
       " 00a0004ed1bf1795be8dcf3879027a6729441006 Community         All  \n",
       " 00a3740494d5be8c12270d5310f087eb6be3ab84 Community         All  \n",
       " 00a40f9e9e7f7633ddab8291a99e1e487f88481c Community         All  \n",
       " 00a56f6298718c2d665792d61fa24c423fe10e67 Community         All  \n",
       " 00a65e9f51147e4f416ded3f494dd4bfc0977979 Mozilla Staff     All  \n",
       " 00acd754e27fc38187f89c96bf6ea54594a3c903 Community         All  \n",
       " 00b9e209a1d0e26aa24926a47574def39f4ffd12 Community         All  \n",
       " 00cf70ea99f95fa41a69a9a635a91d87653ed105 Community         All  \n",
       " 00da6ede3bff8db21a33473d7e552b76f50757eb Mozilla Staff     All  \n",
       " ...                                                        ...  \n",
       " fc077021dfac2f764734096b3f80634e3e0caf34 Community         All  \n",
       " fc1014534906cdff3f38a24b502aba84f105b1f7 Community         All  \n",
       " fc1202801ecba53ad5d579d55a2bef76bd2e713c Community         All  \n",
       " fc18754f2c4dc0c1c13c7f8a1cf7ac7206f3a12b Community         All  \n",
       " fc25ef12b628497a64aa45ad7e48dee097a2b9b7 Community         All  \n",
       " fc51fff5dc2d242a2783025c9b56e6acabe5b882 Mozilla Staff     All  \n",
       " fc87b7898af1000722c871678a18fda92053c77e Community         All  \n",
       " fc9ac0ea9c9c006e9f6b4e1923849da4d9019133 Community         All  \n",
       " fcc314f378488607ff89b577640510cbd35feea2 Community         All  \n",
       " fce71004360f65647b958242af6b75b7ab0ab825 Mozilla Staff     All  \n",
       " fce7bfaa889d6926f0b7f81daea527ea81ba8d5a Community         All  \n",
       " fd2d8cd6a7b41188df583f6b4e1d4469649bf11d Community         All  \n",
       " fdbf3cb3c924a576b931dd91a684729a165ece70 Community         All  \n",
       " fdc6f82e04ee3d4c516434248750715c534bfaa1 Community         All  \n",
       " fdf130bacbfafb4fbdd558a74f4ec036dcf23f65 Community         All  \n",
       " fdfa6813e3f19906d12888e2537057c8f69cf11d Community         All  \n",
       " fe05ce0ceccdb52a12afe9e56c94e6ef4bbf70aa Community         All  \n",
       " fe0d747661293b2a21ad0b2293012f7553e5da02 Community         All  \n",
       " fe0fa9ba0e8a20cf568874120d3c4cbc780c8d47 Community         All  \n",
       " fe205fe591d9b42d00de2f92003bd9b45b5d0eb3 Community         All  \n",
       " fe28af1a16e251a913defa1d0e9ea7b0a015bc08 Community         All  \n",
       " fe2de2401d3937dad6697bf9aa086fb045d3f167 Community         All  \n",
       " fe31b9d47f52171b44106ebb18e176117bd2a188 Mozilla Staff     All  \n",
       " feaedcf9bb2a82a916fe6dff975f9f457b34a2b8 Community         All  \n",
       " fecfb3f1e77c401a5d2f25a3446a5c51b936d965 Community         All  \n",
       " feeb48b17f59eb10a2e139835f16b472f3a541c2 Community         All  \n",
       " ff190fb09c232205dee3c32385acfda924e9066e Community         All  \n",
       " ffb85030992c03486902559e5a196507fa05ea6e Community         All  \n",
       " ffc37980365bfbbc76045725216a0a8e9812a869 Community         All  \n",
       " ffdde673b2e5df13b0b894e845fa0b74ddd1d600 Community         All  \n",
       " \n",
       " [4251 rows x 3 columns],\n",
       "                                                         exp last_active  \\\n",
       " Author                                   Org                              \n",
       " 000063c4e47e93ab3b30607680609e4d2500ce5d Mozilla Staff    2        2014   \n",
       " 000336e205e3f5e2daa6e7a0b03e612b3b2b02d3 Mozilla Staff    1        2014   \n",
       " 0008be398d86323b7ead363c4bbc11ea13ec731f Community        4        2014   \n",
       " 000b0486e1fac53a6c55b0484bf905dc3bef4fdd Community        1        2014   \n",
       " 000ec6cb39ae10256e263811d60695c14b9d2f9b Community        1        2014   \n",
       " 0014e7cebbe8ef11dab9eeb5f2111e01d9eea378 Mozilla Staff    4        2014   \n",
       " 001c44f9289b2ad4749a86596f61974e73da9cce Community        1        2014   \n",
       " 0024557ae888528269201bf218a84f90a0a6c5fd Community        1        2014   \n",
       " 002893ffe1425c220756f8ba4c78e1e3bb0be50f Mozilla Staff    4        2014   \n",
       " 002e3bc76e4c64115cd7c1e02414e3a1b0a1a1db Community        1        2014   \n",
       " 00357667ef0923eb2cb190111d207f241b4e7311 Community        2        2014   \n",
       " 0038dda05e4ed06872de41a78d10feed5a42a3c9 Community        1        2014   \n",
       " 00432eb3dd218cdc8adee9796b82236368680f25 Community        1        2014   \n",
       " 004e177eeed820a5e1e534401984ddf9beb87124 Mozilla Staff    3        2014   \n",
       " 0053cdbb16a5b5db25afb2db43f540262f676563 Community        1        2014   \n",
       " 00577b7b12cbdd220209b0ce7296d843f23a4c0e Community        1        2014   \n",
       " 006fee3e0de309ff1e3e89c24f5e7032163c49c5 Mozilla Staff    3        2014   \n",
       " 00752d7819e42d7b12a732073a37e3715fb7d734 Community        1        2014   \n",
       " 0076d868eaf9fff9e968890a89f4155123debc85 Community        1        2014   \n",
       " 00834d313bfc6fc60be1631bcc57b2c05ee2e0e3 Mozilla Staff    6        2014   \n",
       " 00846eff46b051d92317fc74e54041c6fdccd7cf Mozilla Staff    7        2014   \n",
       " 00890cbe5133b67bfa1021485959d2b42c11f4f8 Mozilla Staff    7        2014   \n",
       " 0091789f3a911b06d21a514efad806949e554e39 Community        1        2014   \n",
       " 00a1ae3e9e813a3b6ca82f65bd1abe28e5026575 Community        1        2014   \n",
       " 00a40f9e9e7f7633ddab8291a99e1e487f88481c Community        2        2014   \n",
       " 00bed31513e5ee127247599720b091e5569ce69b Community        1        2014   \n",
       " 00cc7763cfcebc7d4a96e734d86cbcf607b24f3c Community        1        2014   \n",
       " 00d2dec6f74a3cfc5fc39170b0a70b7aac85bbf9 Community        1        2014   \n",
       " 00da6ede3bff8db21a33473d7e552b76f50757eb Mozilla Staff    2        2014   \n",
       " 00e32ac2299ebf90ac6841cb01dad97768209dd9 Mozilla Staff    2        2014   \n",
       " ...                                                     ...         ...   \n",
       " fad0b2fa55f4a784ee76e09c4066545e4e7142c0 Mozilla Staff    2        2014   \n",
       " fad80f7834bb7a2725a9a0d8ec840d5b01438ed1 Community        1        2014   \n",
       " fb09f05ffff51b5a8e0900f9535835adb83e37eb Community        1        2014   \n",
       " fb7f6df80bb7fdfca28a56d2f79e859791e4cb25 Community        1        2014   \n",
       " fb960ccedb0776b8fb5124d62e4c0932624ab83b Community        1        2014   \n",
       " fbe4f601222aabea6519801396654f189f428d49 Community        2        2014   \n",
       " fc1202801ecba53ad5d579d55a2bef76bd2e713c Community        2        2014   \n",
       " fc2a4fcaf521209fc4ca44b1b5547b5af86bab9d Community        1        2014   \n",
       " fc51fff5dc2d242a2783025c9b56e6acabe5b882 Mozilla Staff    2        2014   \n",
       " fc9ac0ea9c9c006e9f6b4e1923849da4d9019133 Community        1        2014   \n",
       " fd1b9ea92cb9187f4f9b07f92a3b33e095698dca Community        2        2014   \n",
       " fd2d8cd6a7b41188df583f6b4e1d4469649bf11d Community        1        2014   \n",
       " fd3211157d292cda7e6d313c630bca57b698058f Community        1        2014   \n",
       " fdaf0d8bb40dc9ff873fc91fe168ad8bf531524f Community        1        2014   \n",
       " fdbf3cb3c924a576b931dd91a684729a165ece70 Community        2        2014   \n",
       " fe05ce0ceccdb52a12afe9e56c94e6ef4bbf70aa Community        2        2014   \n",
       " fe1f17354c916011eb93fcacb5bdf48a92d89d69 Mozilla Staff    5        2014   \n",
       " fe31b9d47f52171b44106ebb18e176117bd2a188 Mozilla Staff    3        2014   \n",
       " fe39138d88d437170dd576bb54da06e8757e93ac Community        1        2014   \n",
       " fe54f9ba9a12512c481408be02dd412afeeb1b2c Community        1        2014   \n",
       " fe73ee479278d847b94027b24b393560c95fda2b Community        1        2014   \n",
       " fe853f517fddf4c933fa1d1359c37cd69cd7df23 Community        1        2014   \n",
       " fedc4f03837704d03b7c831d4693c3c8068c4400 Community        1        2014   \n",
       " ff055a29f18b86de6df874343e0b54578681bfa3 Community        1        2014   \n",
       " ff22d606f0f256fc27183c031d02ac254f3a6955 Community        1        2014   \n",
       " ffa9fc7b3289712802bcaa7ad30bfa215ae2e475 Community        1        2014   \n",
       " ffb8485bd31e3c5bfb49ba34247672490ff54229 Community        2        2014   \n",
       " ffbf007d0c06ff40dcf17670272ee1ffa458b152 Community        1        2014   \n",
       " ffc37980365bfbbc76045725216a0a8e9812a869 Community        1        2014   \n",
       " ffd672f46140a6c267c9c3c612b0972b59d09ee2 Community        1        2014   \n",
       " \n",
       "                                                        project  \n",
       " Author                                   Org                    \n",
       " 000063c4e47e93ab3b30607680609e4d2500ce5d Mozilla Staff     All  \n",
       " 000336e205e3f5e2daa6e7a0b03e612b3b2b02d3 Mozilla Staff     All  \n",
       " 0008be398d86323b7ead363c4bbc11ea13ec731f Community         All  \n",
       " 000b0486e1fac53a6c55b0484bf905dc3bef4fdd Community         All  \n",
       " 000ec6cb39ae10256e263811d60695c14b9d2f9b Community         All  \n",
       " 0014e7cebbe8ef11dab9eeb5f2111e01d9eea378 Mozilla Staff     All  \n",
       " 001c44f9289b2ad4749a86596f61974e73da9cce Community         All  \n",
       " 0024557ae888528269201bf218a84f90a0a6c5fd Community         All  \n",
       " 002893ffe1425c220756f8ba4c78e1e3bb0be50f Mozilla Staff     All  \n",
       " 002e3bc76e4c64115cd7c1e02414e3a1b0a1a1db Community         All  \n",
       " 00357667ef0923eb2cb190111d207f241b4e7311 Community         All  \n",
       " 0038dda05e4ed06872de41a78d10feed5a42a3c9 Community         All  \n",
       " 00432eb3dd218cdc8adee9796b82236368680f25 Community         All  \n",
       " 004e177eeed820a5e1e534401984ddf9beb87124 Mozilla Staff     All  \n",
       " 0053cdbb16a5b5db25afb2db43f540262f676563 Community         All  \n",
       " 00577b7b12cbdd220209b0ce7296d843f23a4c0e Community         All  \n",
       " 006fee3e0de309ff1e3e89c24f5e7032163c49c5 Mozilla Staff     All  \n",
       " 00752d7819e42d7b12a732073a37e3715fb7d734 Community         All  \n",
       " 0076d868eaf9fff9e968890a89f4155123debc85 Community         All  \n",
       " 00834d313bfc6fc60be1631bcc57b2c05ee2e0e3 Mozilla Staff     All  \n",
       " 00846eff46b051d92317fc74e54041c6fdccd7cf Mozilla Staff     All  \n",
       " 00890cbe5133b67bfa1021485959d2b42c11f4f8 Mozilla Staff     All  \n",
       " 0091789f3a911b06d21a514efad806949e554e39 Community         All  \n",
       " 00a1ae3e9e813a3b6ca82f65bd1abe28e5026575 Community         All  \n",
       " 00a40f9e9e7f7633ddab8291a99e1e487f88481c Community         All  \n",
       " 00bed31513e5ee127247599720b091e5569ce69b Community         All  \n",
       " 00cc7763cfcebc7d4a96e734d86cbcf607b24f3c Community         All  \n",
       " 00d2dec6f74a3cfc5fc39170b0a70b7aac85bbf9 Community         All  \n",
       " 00da6ede3bff8db21a33473d7e552b76f50757eb Mozilla Staff     All  \n",
       " 00e32ac2299ebf90ac6841cb01dad97768209dd9 Mozilla Staff     All  \n",
       " ...                                                        ...  \n",
       " fad0b2fa55f4a784ee76e09c4066545e4e7142c0 Mozilla Staff     All  \n",
       " fad80f7834bb7a2725a9a0d8ec840d5b01438ed1 Community         All  \n",
       " fb09f05ffff51b5a8e0900f9535835adb83e37eb Community         All  \n",
       " fb7f6df80bb7fdfca28a56d2f79e859791e4cb25 Community         All  \n",
       " fb960ccedb0776b8fb5124d62e4c0932624ab83b Community         All  \n",
       " fbe4f601222aabea6519801396654f189f428d49 Community         All  \n",
       " fc1202801ecba53ad5d579d55a2bef76bd2e713c Community         All  \n",
       " fc2a4fcaf521209fc4ca44b1b5547b5af86bab9d Community         All  \n",
       " fc51fff5dc2d242a2783025c9b56e6acabe5b882 Mozilla Staff     All  \n",
       " fc9ac0ea9c9c006e9f6b4e1923849da4d9019133 Community         All  \n",
       " fd1b9ea92cb9187f4f9b07f92a3b33e095698dca Community         All  \n",
       " fd2d8cd6a7b41188df583f6b4e1d4469649bf11d Community         All  \n",
       " fd3211157d292cda7e6d313c630bca57b698058f Community         All  \n",
       " fdaf0d8bb40dc9ff873fc91fe168ad8bf531524f Community         All  \n",
       " fdbf3cb3c924a576b931dd91a684729a165ece70 Community         All  \n",
       " fe05ce0ceccdb52a12afe9e56c94e6ef4bbf70aa Community         All  \n",
       " fe1f17354c916011eb93fcacb5bdf48a92d89d69 Mozilla Staff     All  \n",
       " fe31b9d47f52171b44106ebb18e176117bd2a188 Mozilla Staff     All  \n",
       " fe39138d88d437170dd576bb54da06e8757e93ac Community         All  \n",
       " fe54f9ba9a12512c481408be02dd412afeeb1b2c Community         All  \n",
       " fe73ee479278d847b94027b24b393560c95fda2b Community         All  \n",
       " fe853f517fddf4c933fa1d1359c37cd69cd7df23 Community         All  \n",
       " fedc4f03837704d03b7c831d4693c3c8068c4400 Community         All  \n",
       " ff055a29f18b86de6df874343e0b54578681bfa3 Community         All  \n",
       " ff22d606f0f256fc27183c031d02ac254f3a6955 Community         All  \n",
       " ffa9fc7b3289712802bcaa7ad30bfa215ae2e475 Community         All  \n",
       " ffb8485bd31e3c5bfb49ba34247672490ff54229 Community         All  \n",
       " ffbf007d0c06ff40dcf17670272ee1ffa458b152 Community         All  \n",
       " ffc37980365bfbbc76045725216a0a8e9812a869 Community         All  \n",
       " ffd672f46140a6c267c9c3c612b0972b59d09ee2 Community         All  \n",
       " \n",
       " [3736 rows x 3 columns],\n",
       "                                                         exp last_active  \\\n",
       " Author                                   Org                              \n",
       " 000063c4e47e93ab3b30607680609e4d2500ce5d Mozilla Staff    1        2013   \n",
       " 0008be398d86323b7ead363c4bbc11ea13ec731f Community        3        2013   \n",
       " 0014e7cebbe8ef11dab9eeb5f2111e01d9eea378 Mozilla Staff    3        2013   \n",
       " 0026dfdc4cef5f8d49e6f1d0c62ea90df5f0e289 Community        1        2013   \n",
       " 002893ffe1425c220756f8ba4c78e1e3bb0be50f Mozilla Staff    3        2013   \n",
       " 00369d45b3015c1ff4255de882998e065d27c334 Community        1        2013   \n",
       " 00470cce1efaf0953609e338eb88c8ef8baca407 Community        2        2013   \n",
       " 004e177eeed820a5e1e534401984ddf9beb87124 Mozilla Staff    2        2013   \n",
       " 005ac920a7959e14b90c89c978da36fe8fc7d677 Community        1        2013   \n",
       " 005adcf96e7f9f333e5ff413f7608784aefdacee Mozilla Staff    2        2013   \n",
       " 005df2af7aaa5a8623bb90788ac733db4d211d0c Community        1        2013   \n",
       " 00633c4f1a29fc14c9f79d0aa0358fbfbe1b2a0c Mozilla Staff    6        2013   \n",
       " 006fee3e0de309ff1e3e89c24f5e7032163c49c5 Mozilla Staff    2        2013   \n",
       " 007712ac8ff5a0c7a250cb318d3533fd3141f398 Community        1        2013   \n",
       " 00795120132cf3e60ce599914d6804a030360498 Community        3        2013   \n",
       " 00834d313bfc6fc60be1631bcc57b2c05ee2e0e3 Mozilla Staff    5        2013   \n",
       " 00846eff46b051d92317fc74e54041c6fdccd7cf Mozilla Staff    6        2013   \n",
       " 00890cbe5133b67bfa1021485959d2b42c11f4f8 Mozilla Staff    6        2013   \n",
       " 008a7510bf7f19a4034a4d2c8dc65e761a675200 Community        1        2013   \n",
       " 00a40f9e9e7f7633ddab8291a99e1e487f88481c Community        1        2013   \n",
       " 00a65e9f51147e4f416ded3f494dd4bfc0977979 Mozilla Staff    3        2013   \n",
       " 00a8c05f6af31ed0296ef1dfd77822b912a8adab Community        1        2013   \n",
       " 00c1e252b234a2133dab43e15b35a6b93e257171 Community        1        2013   \n",
       " 00da6ede3bff8db21a33473d7e552b76f50757eb Mozilla Staff    1        2013   \n",
       " 00e32ac2299ebf90ac6841cb01dad97768209dd9 Mozilla Staff    1        2013   \n",
       " 00ed7b25063cf90c8bdeb9d45d37b73ba2317f96 Mozilla Staff    5        2013   \n",
       " 00ee7aa82c9595d25e08f280e35f98214255c6a9 Community        1        2013   \n",
       " 00fe2c9268c3070f0e336a9bf0f013c1c63cdb21 Community        1        2013   \n",
       " 01081562f7dd988d4759a2e1e9881d5f18c02d8c Mozilla Staff    3        2013   \n",
       " 0113220b14954de311e9d99f69338f0272c50dc7 Mozilla Staff    2        2013   \n",
       " ...                                                     ...         ...   \n",
       " f802c1a228179da47a4066d08d428f47644e6c53 Community        5        2013   \n",
       " f808b112f26a23a1ab067826d338454ac6cc72fe Community        1        2013   \n",
       " f842c920804eafeb8bd5a2d9a45414356758ead1 Community        1        2013   \n",
       " f8bc7f622cfa44bc21e472d584ef207da83fd788 Community        1        2013   \n",
       " f8c334e3b1e2c3e7594bb3720ae5ea88c05561c9 Community        1        2013   \n",
       " f97275300a2cb5d68a0732a0facdfae22a5179a2 Community        1        2013   \n",
       " f9da691990f12855cd5c5fd919fdccc4b3880c50 Community        1        2013   \n",
       " fa7e31366defd9dacb4b53e5880026e37adeea64 Community        1        2013   \n",
       " fa92923efabac872fc2bfcdcc25c9330784dee90 Community        1        2013   \n",
       " fa9ddc313bd24d9505adb3ee54ee119c036cefae Community        1        2013   \n",
       " fac187cac37bd3d6f061a2af635e80d046d29f2b Community        1        2013   \n",
       " fad6cb0f5222600afeb31c2602bfe2c5f8aa2ab8 Community        1        2013   \n",
       " fb6ff2f456a1df07052790d4aab5043664357c66 Community        1        2013   \n",
       " fbe4f601222aabea6519801396654f189f428d49 Community        1        2013   \n",
       " fc1202801ecba53ad5d579d55a2bef76bd2e713c Community        1        2013   \n",
       " fc51fff5dc2d242a2783025c9b56e6acabe5b882 Mozilla Staff    1        2013   \n",
       " fcb2bf678e25d89ec772932cd3285fceec910898 Community        1        2013   \n",
       " fd1b9ea92cb9187f4f9b07f92a3b33e095698dca Community        1        2013   \n",
       " fd9118ab3244645177a87b5eda93d9efe6fabaa2 Community        1        2013   \n",
       " fdbb0381d648717cf3f6448b8652338636a113ff Community        1        2013   \n",
       " fdbf3cb3c924a576b931dd91a684729a165ece70 Community        1        2013   \n",
       " fe05ce0ceccdb52a12afe9e56c94e6ef4bbf70aa Community        1        2013   \n",
       " fe1f17354c916011eb93fcacb5bdf48a92d89d69 Mozilla Staff    4        2013   \n",
       " fe31b9d47f52171b44106ebb18e176117bd2a188 Mozilla Staff    2        2013   \n",
       " fe39a8c4441ac414d7e62874ca1bfe512b8ba118 Community        1        2013   \n",
       " fe3a133af37706bef2988e6704540dc21155ba15 Community        2        2013   \n",
       " fe474818dc1b772faf8dbc9c2ebb17709f32c407 Community        1        2013   \n",
       " febe3f5077dbb12aa950a4ee57f4bde1d3eb951b Community        1        2013   \n",
       " fec9a42db9f14de47be9f31294f28b42a1b839fb Community        1        2013   \n",
       " ff0c6cd0df92b5090dfd08ba4b97746c23637214 Community        1        2013   \n",
       " \n",
       "                                                        project  \n",
       " Author                                   Org                    \n",
       " 000063c4e47e93ab3b30607680609e4d2500ce5d Mozilla Staff     All  \n",
       " 0008be398d86323b7ead363c4bbc11ea13ec731f Community         All  \n",
       " 0014e7cebbe8ef11dab9eeb5f2111e01d9eea378 Mozilla Staff     All  \n",
       " 0026dfdc4cef5f8d49e6f1d0c62ea90df5f0e289 Community         All  \n",
       " 002893ffe1425c220756f8ba4c78e1e3bb0be50f Mozilla Staff     All  \n",
       " 00369d45b3015c1ff4255de882998e065d27c334 Community         All  \n",
       " 00470cce1efaf0953609e338eb88c8ef8baca407 Community         All  \n",
       " 004e177eeed820a5e1e534401984ddf9beb87124 Mozilla Staff     All  \n",
       " 005ac920a7959e14b90c89c978da36fe8fc7d677 Community         All  \n",
       " 005adcf96e7f9f333e5ff413f7608784aefdacee Mozilla Staff     All  \n",
       " 005df2af7aaa5a8623bb90788ac733db4d211d0c Community         All  \n",
       " 00633c4f1a29fc14c9f79d0aa0358fbfbe1b2a0c Mozilla Staff     All  \n",
       " 006fee3e0de309ff1e3e89c24f5e7032163c49c5 Mozilla Staff     All  \n",
       " 007712ac8ff5a0c7a250cb318d3533fd3141f398 Community         All  \n",
       " 00795120132cf3e60ce599914d6804a030360498 Community         All  \n",
       " 00834d313bfc6fc60be1631bcc57b2c05ee2e0e3 Mozilla Staff     All  \n",
       " 00846eff46b051d92317fc74e54041c6fdccd7cf Mozilla Staff     All  \n",
       " 00890cbe5133b67bfa1021485959d2b42c11f4f8 Mozilla Staff     All  \n",
       " 008a7510bf7f19a4034a4d2c8dc65e761a675200 Community         All  \n",
       " 00a40f9e9e7f7633ddab8291a99e1e487f88481c Community         All  \n",
       " 00a65e9f51147e4f416ded3f494dd4bfc0977979 Mozilla Staff     All  \n",
       " 00a8c05f6af31ed0296ef1dfd77822b912a8adab Community         All  \n",
       " 00c1e252b234a2133dab43e15b35a6b93e257171 Community         All  \n",
       " 00da6ede3bff8db21a33473d7e552b76f50757eb Mozilla Staff     All  \n",
       " 00e32ac2299ebf90ac6841cb01dad97768209dd9 Mozilla Staff     All  \n",
       " 00ed7b25063cf90c8bdeb9d45d37b73ba2317f96 Mozilla Staff     All  \n",
       " 00ee7aa82c9595d25e08f280e35f98214255c6a9 Community         All  \n",
       " 00fe2c9268c3070f0e336a9bf0f013c1c63cdb21 Community         All  \n",
       " 01081562f7dd988d4759a2e1e9881d5f18c02d8c Mozilla Staff     All  \n",
       " 0113220b14954de311e9d99f69338f0272c50dc7 Mozilla Staff     All  \n",
       " ...                                                        ...  \n",
       " f802c1a228179da47a4066d08d428f47644e6c53 Community         All  \n",
       " f808b112f26a23a1ab067826d338454ac6cc72fe Community         All  \n",
       " f842c920804eafeb8bd5a2d9a45414356758ead1 Community         All  \n",
       " f8bc7f622cfa44bc21e472d584ef207da83fd788 Community         All  \n",
       " f8c334e3b1e2c3e7594bb3720ae5ea88c05561c9 Community         All  \n",
       " f97275300a2cb5d68a0732a0facdfae22a5179a2 Community         All  \n",
       " f9da691990f12855cd5c5fd919fdccc4b3880c50 Community         All  \n",
       " fa7e31366defd9dacb4b53e5880026e37adeea64 Community         All  \n",
       " fa92923efabac872fc2bfcdcc25c9330784dee90 Community         All  \n",
       " fa9ddc313bd24d9505adb3ee54ee119c036cefae Community         All  \n",
       " fac187cac37bd3d6f061a2af635e80d046d29f2b Community         All  \n",
       " fad6cb0f5222600afeb31c2602bfe2c5f8aa2ab8 Community         All  \n",
       " fb6ff2f456a1df07052790d4aab5043664357c66 Community         All  \n",
       " fbe4f601222aabea6519801396654f189f428d49 Community         All  \n",
       " fc1202801ecba53ad5d579d55a2bef76bd2e713c Community         All  \n",
       " fc51fff5dc2d242a2783025c9b56e6acabe5b882 Mozilla Staff     All  \n",
       " fcb2bf678e25d89ec772932cd3285fceec910898 Community         All  \n",
       " fd1b9ea92cb9187f4f9b07f92a3b33e095698dca Community         All  \n",
       " fd9118ab3244645177a87b5eda93d9efe6fabaa2 Community         All  \n",
       " fdbb0381d648717cf3f6448b8652338636a113ff Community         All  \n",
       " fdbf3cb3c924a576b931dd91a684729a165ece70 Community         All  \n",
       " fe05ce0ceccdb52a12afe9e56c94e6ef4bbf70aa Community         All  \n",
       " fe1f17354c916011eb93fcacb5bdf48a92d89d69 Mozilla Staff     All  \n",
       " fe31b9d47f52171b44106ebb18e176117bd2a188 Mozilla Staff     All  \n",
       " fe39a8c4441ac414d7e62874ca1bfe512b8ba118 Community         All  \n",
       " fe3a133af37706bef2988e6704540dc21155ba15 Community         All  \n",
       " fe474818dc1b772faf8dbc9c2ebb17709f32c407 Community         All  \n",
       " febe3f5077dbb12aa950a4ee57f4bde1d3eb951b Community         All  \n",
       " fec9a42db9f14de47be9f31294f28b42a1b839fb Community         All  \n",
       " ff0c6cd0df92b5090dfd08ba4b97746c23637214 Community         All  \n",
       " \n",
       " [2644 rows x 3 columns],\n",
       "                                                         exp last_active  \\\n",
       " Author                                   Org                              \n",
       " 0008be398d86323b7ead363c4bbc11ea13ec731f Community        2        2012   \n",
       " 000be6a746f13ad10b413695876a782c87512dfa Community        1        2012   \n",
       " 0014e7cebbe8ef11dab9eeb5f2111e01d9eea378 Mozilla Staff    2        2012   \n",
       " 002893ffe1425c220756f8ba4c78e1e3bb0be50f Mozilla Staff    2        2012   \n",
       " 00470cce1efaf0953609e338eb88c8ef8baca407 Community        1        2012   \n",
       " 004e177eeed820a5e1e534401984ddf9beb87124 Mozilla Staff    1        2012   \n",
       " 004ff1428d2e85956f36581c53df0fd24866bae8 Community        1        2012   \n",
       " 005ab97d7cab67766f6517fb4779bfba884a0497 Community        1        2012   \n",
       " 005adcf96e7f9f333e5ff413f7608784aefdacee Mozilla Staff    1        2012   \n",
       " 00633c4f1a29fc14c9f79d0aa0358fbfbe1b2a0c Mozilla Staff    5        2012   \n",
       " 006fee3e0de309ff1e3e89c24f5e7032163c49c5 Mozilla Staff    1        2012   \n",
       " 00795120132cf3e60ce599914d6804a030360498 Community        2        2012   \n",
       " 00834d313bfc6fc60be1631bcc57b2c05ee2e0e3 Mozilla Staff    4        2012   \n",
       " 00846eff46b051d92317fc74e54041c6fdccd7cf Mozilla Staff    5        2012   \n",
       " 00890cbe5133b67bfa1021485959d2b42c11f4f8 Mozilla Staff    5        2012   \n",
       " 00a65e9f51147e4f416ded3f494dd4bfc0977979 Mozilla Staff    2        2012   \n",
       " 00b52ff65a87aab1c303af9b307281582ce91676 Community        2        2012   \n",
       " 00cf9a30f453b6f048f4976329c1e0525a357a80 Community        1        2012   \n",
       " 00ed7b25063cf90c8bdeb9d45d37b73ba2317f96 Mozilla Staff    4        2012   \n",
       " 00fe8d2e32e084ed79d49e277e0c823dbf8d3b7b Community        1        2012   \n",
       " 01081562f7dd988d4759a2e1e9881d5f18c02d8c Mozilla Staff    2        2012   \n",
       " 0113220b14954de311e9d99f69338f0272c50dc7 Mozilla Staff    1        2012   \n",
       " 012f9fe0064209c2affd5810083edccc723b32a9 Mozilla Staff    6        2012   \n",
       " 0134e2ebeec7f2f1acf7c635b5b22e2c441bd3ec Mozilla Staff    4        2012   \n",
       " 0140e9772dc0631597e12a5c3ef7e8174defdb1f Mozilla Staff    1        2012   \n",
       " 016dd3752addfe79920fcaa2934d0961c510d116 Mozilla Staff    2        2012   \n",
       " 0170d5f0fceacd5683a9749a20e7234d0d58cb45 Mozilla Staff    3        2012   \n",
       " 017b7dd849bb5376199cc45e8058c4d31d12d916 Community        2        2012   \n",
       " 017cc9d527c17d49c1f27c3f6a5b6c6fb1aeecf9 Community        1        2012   \n",
       " 0183bd06d487bf71fd39a568ae892e3ec3079d82 Mozilla Staff    1        2012   \n",
       " ...                                                     ...         ...   \n",
       " f4a74f479f418b71c2d7112ef0e8330e4870276f Community        1        2012   \n",
       " f4d79dfa40e014eaa1792cf0bedaf8d790d2d851 Community        1        2012   \n",
       " f537b7e9a9d081958222825becde1eb684b72198 Mozilla Staff    2        2012   \n",
       " f5a0bb626f6657b2c8ba4e5e3baec33f73c913ab Community        1        2012   \n",
       " f6bf084934e83d1fd7bb02a9ac6c768f17f0fe1d Community        1        2012   \n",
       " f73deafdc34c24d2b070ccd360ae625fd7f8116d Community        1        2012   \n",
       " f748fcce1c0a409e73cea35446160c5553a30cd8 Community        1        2012   \n",
       " f762acd7f64cc5c8d85fba5c3c911166e8ce932b Community        1        2012   \n",
       " f7661b46d9cf1766e3c17e582e06ccf0d462f931 Community        2        2012   \n",
       " f79dae145bb7db844d06f56202630ee98e4e2c7c Community        4        2012   \n",
       " f7b9d03aa9f68ee590006868f3fc17929d8fd296 Community        2        2012   \n",
       " f802c1a228179da47a4066d08d428f47644e6c53 Community        4        2012   \n",
       " f94719bc2dba78ae7d3238a47b0b3773b3fd2f92 Community        1        2012   \n",
       " f9b5b87b2901e448a38f9c6c87f748fbfeb974f8 Community        1        2012   \n",
       " fa32fc2fb237a4b496dfddf85526bcaf0ae885ad Community        1        2012   \n",
       " faa78743c02e4bf96773b4a7fb958fd906777b3a Community        1        2012   \n",
       " fac12cc625f7cf05596762597710825df70ff77a Community        2        2012   \n",
       " fb1bcbada324127eaf2f46f9c362aa173644ea8a Community        1        2012   \n",
       " fc077021dfac2f764734096b3f80634e3e0caf34 Community        3        2012   \n",
       " fc0b2608dc70214afc0cd041404fa4850f562ba9 Community        2        2012   \n",
       " fcc49eb60a570b69cdd75b162f37cf03e8a52036 Community        1        2012   \n",
       " fd681b3e809fed214788b21ac8c8e4e9e20a4cb5 Community        1        2012   \n",
       " fdf63b40af15c2970bced3a86af6f75b9370284d Community        1        2012   \n",
       " fe1f17354c916011eb93fcacb5bdf48a92d89d69 Mozilla Staff    3        2012   \n",
       " fe31b9d47f52171b44106ebb18e176117bd2a188 Mozilla Staff    1        2012   \n",
       " fe3a133af37706bef2988e6704540dc21155ba15 Community        1        2012   \n",
       " fe529271548f47128444b2fb520068442652fd0e Community        4        2012   \n",
       " ff4165742677aa292a4d1f055e56216b9531a84a Community        1        2012   \n",
       " ff5ff03bcfff26b1adcb5bad471a8fc52d677e2d Community        1        2012   \n",
       " ff7ea641ffd0c0f7df4322798002d02351068b99 Community        1        2012   \n",
       " \n",
       "                                                        project  \n",
       " Author                                   Org                    \n",
       " 0008be398d86323b7ead363c4bbc11ea13ec731f Community         All  \n",
       " 000be6a746f13ad10b413695876a782c87512dfa Community         All  \n",
       " 0014e7cebbe8ef11dab9eeb5f2111e01d9eea378 Mozilla Staff     All  \n",
       " 002893ffe1425c220756f8ba4c78e1e3bb0be50f Mozilla Staff     All  \n",
       " 00470cce1efaf0953609e338eb88c8ef8baca407 Community         All  \n",
       " 004e177eeed820a5e1e534401984ddf9beb87124 Mozilla Staff     All  \n",
       " 004ff1428d2e85956f36581c53df0fd24866bae8 Community         All  \n",
       " 005ab97d7cab67766f6517fb4779bfba884a0497 Community         All  \n",
       " 005adcf96e7f9f333e5ff413f7608784aefdacee Mozilla Staff     All  \n",
       " 00633c4f1a29fc14c9f79d0aa0358fbfbe1b2a0c Mozilla Staff     All  \n",
       " 006fee3e0de309ff1e3e89c24f5e7032163c49c5 Mozilla Staff     All  \n",
       " 00795120132cf3e60ce599914d6804a030360498 Community         All  \n",
       " 00834d313bfc6fc60be1631bcc57b2c05ee2e0e3 Mozilla Staff     All  \n",
       " 00846eff46b051d92317fc74e54041c6fdccd7cf Mozilla Staff     All  \n",
       " 00890cbe5133b67bfa1021485959d2b42c11f4f8 Mozilla Staff     All  \n",
       " 00a65e9f51147e4f416ded3f494dd4bfc0977979 Mozilla Staff     All  \n",
       " 00b52ff65a87aab1c303af9b307281582ce91676 Community         All  \n",
       " 00cf9a30f453b6f048f4976329c1e0525a357a80 Community         All  \n",
       " 00ed7b25063cf90c8bdeb9d45d37b73ba2317f96 Mozilla Staff     All  \n",
       " 00fe8d2e32e084ed79d49e277e0c823dbf8d3b7b Community         All  \n",
       " 01081562f7dd988d4759a2e1e9881d5f18c02d8c Mozilla Staff     All  \n",
       " 0113220b14954de311e9d99f69338f0272c50dc7 Mozilla Staff     All  \n",
       " 012f9fe0064209c2affd5810083edccc723b32a9 Mozilla Staff     All  \n",
       " 0134e2ebeec7f2f1acf7c635b5b22e2c441bd3ec Mozilla Staff     All  \n",
       " 0140e9772dc0631597e12a5c3ef7e8174defdb1f Mozilla Staff     All  \n",
       " 016dd3752addfe79920fcaa2934d0961c510d116 Mozilla Staff     All  \n",
       " 0170d5f0fceacd5683a9749a20e7234d0d58cb45 Mozilla Staff     All  \n",
       " 017b7dd849bb5376199cc45e8058c4d31d12d916 Community         All  \n",
       " 017cc9d527c17d49c1f27c3f6a5b6c6fb1aeecf9 Community         All  \n",
       " 0183bd06d487bf71fd39a568ae892e3ec3079d82 Mozilla Staff     All  \n",
       " ...                                                        ...  \n",
       " f4a74f479f418b71c2d7112ef0e8330e4870276f Community         All  \n",
       " f4d79dfa40e014eaa1792cf0bedaf8d790d2d851 Community         All  \n",
       " f537b7e9a9d081958222825becde1eb684b72198 Mozilla Staff     All  \n",
       " f5a0bb626f6657b2c8ba4e5e3baec33f73c913ab Community         All  \n",
       " f6bf084934e83d1fd7bb02a9ac6c768f17f0fe1d Community         All  \n",
       " f73deafdc34c24d2b070ccd360ae625fd7f8116d Community         All  \n",
       " f748fcce1c0a409e73cea35446160c5553a30cd8 Community         All  \n",
       " f762acd7f64cc5c8d85fba5c3c911166e8ce932b Community         All  \n",
       " f7661b46d9cf1766e3c17e582e06ccf0d462f931 Community         All  \n",
       " f79dae145bb7db844d06f56202630ee98e4e2c7c Community         All  \n",
       " f7b9d03aa9f68ee590006868f3fc17929d8fd296 Community         All  \n",
       " f802c1a228179da47a4066d08d428f47644e6c53 Community         All  \n",
       " f94719bc2dba78ae7d3238a47b0b3773b3fd2f92 Community         All  \n",
       " f9b5b87b2901e448a38f9c6c87f748fbfeb974f8 Community         All  \n",
       " fa32fc2fb237a4b496dfddf85526bcaf0ae885ad Community         All  \n",
       " faa78743c02e4bf96773b4a7fb958fd906777b3a Community         All  \n",
       " fac12cc625f7cf05596762597710825df70ff77a Community         All  \n",
       " fb1bcbada324127eaf2f46f9c362aa173644ea8a Community         All  \n",
       " fc077021dfac2f764734096b3f80634e3e0caf34 Community         All  \n",
       " fc0b2608dc70214afc0cd041404fa4850f562ba9 Community         All  \n",
       " fcc49eb60a570b69cdd75b162f37cf03e8a52036 Community         All  \n",
       " fd681b3e809fed214788b21ac8c8e4e9e20a4cb5 Community         All  \n",
       " fdf63b40af15c2970bced3a86af6f75b9370284d Community         All  \n",
       " fe1f17354c916011eb93fcacb5bdf48a92d89d69 Mozilla Staff     All  \n",
       " fe31b9d47f52171b44106ebb18e176117bd2a188 Mozilla Staff     All  \n",
       " fe3a133af37706bef2988e6704540dc21155ba15 Community         All  \n",
       " fe529271548f47128444b2fb520068442652fd0e Community         All  \n",
       " ff4165742677aa292a4d1f055e56216b9531a84a Community         All  \n",
       " ff5ff03bcfff26b1adcb5bad471a8fc52d677e2d Community         All  \n",
       " ff7ea641ffd0c0f7df4322798002d02351068b99 Community         All  \n",
       " \n",
       " [1959 rows x 3 columns],\n",
       "                                                         exp last_active  \\\n",
       " Author                                   Org                              \n",
       " 0008be398d86323b7ead363c4bbc11ea13ec731f Community        1        2011   \n",
       " 0014e7cebbe8ef11dab9eeb5f2111e01d9eea378 Mozilla Staff    1        2011   \n",
       " 002893ffe1425c220756f8ba4c78e1e3bb0be50f Mozilla Staff    1        2011   \n",
       " 00640f5b3dc155e70ea0d9811009ebbc0e7d4cba Community        1        2011   \n",
       " 00795120132cf3e60ce599914d6804a030360498 Community        1        2011   \n",
       " 007edc6b2da2c508a9106c678aeb02b020dfc807 Community        1        2011   \n",
       " 00821bde358f42d5121a3ceafd1e4637d5d1abd8 Community        1        2011   \n",
       " 00834d313bfc6fc60be1631bcc57b2c05ee2e0e3 Mozilla Staff    3        2011   \n",
       " 00846eff46b051d92317fc74e54041c6fdccd7cf Mozilla Staff    4        2011   \n",
       " 00890cbe5133b67bfa1021485959d2b42c11f4f8 Mozilla Staff    4        2011   \n",
       " 008998a9093125cb21f796d1c50e0496296d4f27 Community        1        2011   \n",
       " 00a65e9f51147e4f416ded3f494dd4bfc0977979 Mozilla Staff    1        2011   \n",
       " 00b0f86e494139b1e565b356297f8e9cc44b5cc0 Community        1        2011   \n",
       " 00b52ff65a87aab1c303af9b307281582ce91676 Community        1        2011   \n",
       " 00c38f0a5e44692e3722cd5087b3cbc0f45f56fd Community        1        2011   \n",
       " 00ed7b25063cf90c8bdeb9d45d37b73ba2317f96 Mozilla Staff    3        2011   \n",
       " 01081562f7dd988d4759a2e1e9881d5f18c02d8c Mozilla Staff    1        2011   \n",
       " 01169ef6cfd62cbbc4f5f7b7b22513fc59ff8e59 Community        1        2011   \n",
       " 012f9fe0064209c2affd5810083edccc723b32a9 Mozilla Staff    5        2011   \n",
       " 0134e2ebeec7f2f1acf7c635b5b22e2c441bd3ec Mozilla Staff    3        2011   \n",
       " 015d87534f70c362eb2ce0430b2d6886e328223c Mozilla Staff    2        2011   \n",
       " 016dd3752addfe79920fcaa2934d0961c510d116 Mozilla Staff    1        2011   \n",
       " 0170d5f0fceacd5683a9749a20e7234d0d58cb45 Mozilla Staff    2        2011   \n",
       " 017b7dd849bb5376199cc45e8058c4d31d12d916 Community        1        2011   \n",
       " 0184f0206d1ec55ce7aa9d6e67bda20c53d22d36 Mozilla Staff    1        2011   \n",
       " 018ae8f15c6b66b367f689139ad710cc0d5067f3 Community        1        2011   \n",
       " 0191967e28320c8827e762ac0ccaf1847abffcc8 Community        1        2011   \n",
       " 019ee580517ec3e8eb2c90ad0e3b2d749e9f0359 Code Sheriff     3        2011   \n",
       " 01a0ffd68e3b0ac6359b920e733043b6be0dba12 Community        4        2011   \n",
       " 01a32a8c3037c692e4192e182ece28cfd8776fe0 Mozilla Staff    3        2011   \n",
       " ...                                                     ...         ...   \n",
       " f324d89fe35be9b790c79d9e65c7bfa99877879a Community        1        2011   \n",
       " f3a4bcdcbf4739300077c5cbbf3f7adf38de0410 Community        1        2011   \n",
       " f3f96f241cf9c67cb8d721e14e08b814f5f1bcee Community        2        2011   \n",
       " f537b7e9a9d081958222825becde1eb684b72198 Mozilla Staff    1        2011   \n",
       " f55144080328a5a2e591b8fb0859789b2d058e07 Community        1        2011   \n",
       " f56d9be0adf0f98bb0e01915a97fb7f09cc54129 Community        1        2011   \n",
       " f573761a250e680c261f46fc3a8cb95ffe14040c Community        1        2011   \n",
       " f6eb98ee9c12bb79466551e87ee725f2b2badd5d Community        2        2011   \n",
       " f7661b46d9cf1766e3c17e582e06ccf0d462f931 Community        1        2011   \n",
       " f79dae145bb7db844d06f56202630ee98e4e2c7c Community        3        2011   \n",
       " f7b9d03aa9f68ee590006868f3fc17929d8fd296 Community        1        2011   \n",
       " f802c1a228179da47a4066d08d428f47644e6c53 Community        3        2011   \n",
       " f8b6fc029f246be4ca3aa143d00c22ade66c66b7 Community        1        2011   \n",
       " f90885019db6070b67124c32dd44561eaaa0b7ee Community        1        2011   \n",
       " fac12cc625f7cf05596762597710825df70ff77a Community        1        2011   \n",
       " fad0b2fa55f4a784ee76e09c4066545e4e7142c0 Mozilla Staff    1        2011   \n",
       " fb5b057baf34469b525f2335e83bc516bf6f4a30 Community        1        2011   \n",
       " fbc36948d5df09714c4ee3277a5553f986dac630 Community        1        2011   \n",
       " fbdcae3cda13a69ce00c6079442c3b46d4169928 Community        1        2011   \n",
       " fbf765abb02c142ac05383f00c62f3acf1ab9828 Community        2        2011   \n",
       " fc077021dfac2f764734096b3f80634e3e0caf34 Community        2        2011   \n",
       " fc0b2608dc70214afc0cd041404fa4850f562ba9 Community        1        2011   \n",
       " fc901918346f9204f99326c3cd57a097b5454d0d Community        1        2011   \n",
       " fcaa41695c63af83b020ba7a4d050e4f8c736bb6 Community        1        2011   \n",
       " fcce37fe722410434e9bedc4ab86df7fa259dbf6 Community        1        2011   \n",
       " fd164c87bb90f18a2e4738015d8c890718d3baca Community        1        2011   \n",
       " fdb2d68d3963356551b7e1cb88008a9f59bfcd73 Community        1        2011   \n",
       " fe1f17354c916011eb93fcacb5bdf48a92d89d69 Mozilla Staff    2        2011   \n",
       " fe529271548f47128444b2fb520068442652fd0e Community        3        2011   \n",
       " fea07df8898612f97e77c2df0b4c1176fb8edd4b Community        1        2011   \n",
       " \n",
       "                                                        project  \n",
       " Author                                   Org                    \n",
       " 0008be398d86323b7ead363c4bbc11ea13ec731f Community         All  \n",
       " 0014e7cebbe8ef11dab9eeb5f2111e01d9eea378 Mozilla Staff     All  \n",
       " 002893ffe1425c220756f8ba4c78e1e3bb0be50f Mozilla Staff     All  \n",
       " 00640f5b3dc155e70ea0d9811009ebbc0e7d4cba Community         All  \n",
       " 00795120132cf3e60ce599914d6804a030360498 Community         All  \n",
       " 007edc6b2da2c508a9106c678aeb02b020dfc807 Community         All  \n",
       " 00821bde358f42d5121a3ceafd1e4637d5d1abd8 Community         All  \n",
       " 00834d313bfc6fc60be1631bcc57b2c05ee2e0e3 Mozilla Staff     All  \n",
       " 00846eff46b051d92317fc74e54041c6fdccd7cf Mozilla Staff     All  \n",
       " 00890cbe5133b67bfa1021485959d2b42c11f4f8 Mozilla Staff     All  \n",
       " 008998a9093125cb21f796d1c50e0496296d4f27 Community         All  \n",
       " 00a65e9f51147e4f416ded3f494dd4bfc0977979 Mozilla Staff     All  \n",
       " 00b0f86e494139b1e565b356297f8e9cc44b5cc0 Community         All  \n",
       " 00b52ff65a87aab1c303af9b307281582ce91676 Community         All  \n",
       " 00c38f0a5e44692e3722cd5087b3cbc0f45f56fd Community         All  \n",
       " 00ed7b25063cf90c8bdeb9d45d37b73ba2317f96 Mozilla Staff     All  \n",
       " 01081562f7dd988d4759a2e1e9881d5f18c02d8c Mozilla Staff     All  \n",
       " 01169ef6cfd62cbbc4f5f7b7b22513fc59ff8e59 Community         All  \n",
       " 012f9fe0064209c2affd5810083edccc723b32a9 Mozilla Staff     All  \n",
       " 0134e2ebeec7f2f1acf7c635b5b22e2c441bd3ec Mozilla Staff     All  \n",
       " 015d87534f70c362eb2ce0430b2d6886e328223c Mozilla Staff     All  \n",
       " 016dd3752addfe79920fcaa2934d0961c510d116 Mozilla Staff     All  \n",
       " 0170d5f0fceacd5683a9749a20e7234d0d58cb45 Mozilla Staff     All  \n",
       " 017b7dd849bb5376199cc45e8058c4d31d12d916 Community         All  \n",
       " 0184f0206d1ec55ce7aa9d6e67bda20c53d22d36 Mozilla Staff     All  \n",
       " 018ae8f15c6b66b367f689139ad710cc0d5067f3 Community         All  \n",
       " 0191967e28320c8827e762ac0ccaf1847abffcc8 Community         All  \n",
       " 019ee580517ec3e8eb2c90ad0e3b2d749e9f0359 Code Sheriff      All  \n",
       " 01a0ffd68e3b0ac6359b920e733043b6be0dba12 Community         All  \n",
       " 01a32a8c3037c692e4192e182ece28cfd8776fe0 Mozilla Staff     All  \n",
       " ...                                                        ...  \n",
       " f324d89fe35be9b790c79d9e65c7bfa99877879a Community         All  \n",
       " f3a4bcdcbf4739300077c5cbbf3f7adf38de0410 Community         All  \n",
       " f3f96f241cf9c67cb8d721e14e08b814f5f1bcee Community         All  \n",
       " f537b7e9a9d081958222825becde1eb684b72198 Mozilla Staff     All  \n",
       " f55144080328a5a2e591b8fb0859789b2d058e07 Community         All  \n",
       " f56d9be0adf0f98bb0e01915a97fb7f09cc54129 Community         All  \n",
       " f573761a250e680c261f46fc3a8cb95ffe14040c Community         All  \n",
       " f6eb98ee9c12bb79466551e87ee725f2b2badd5d Community         All  \n",
       " f7661b46d9cf1766e3c17e582e06ccf0d462f931 Community         All  \n",
       " f79dae145bb7db844d06f56202630ee98e4e2c7c Community         All  \n",
       " f7b9d03aa9f68ee590006868f3fc17929d8fd296 Community         All  \n",
       " f802c1a228179da47a4066d08d428f47644e6c53 Community         All  \n",
       " f8b6fc029f246be4ca3aa143d00c22ade66c66b7 Community         All  \n",
       " f90885019db6070b67124c32dd44561eaaa0b7ee Community         All  \n",
       " fac12cc625f7cf05596762597710825df70ff77a Community         All  \n",
       " fad0b2fa55f4a784ee76e09c4066545e4e7142c0 Mozilla Staff     All  \n",
       " fb5b057baf34469b525f2335e83bc516bf6f4a30 Community         All  \n",
       " fbc36948d5df09714c4ee3277a5553f986dac630 Community         All  \n",
       " fbdcae3cda13a69ce00c6079442c3b46d4169928 Community         All  \n",
       " fbf765abb02c142ac05383f00c62f3acf1ab9828 Community         All  \n",
       " fc077021dfac2f764734096b3f80634e3e0caf34 Community         All  \n",
       " fc0b2608dc70214afc0cd041404fa4850f562ba9 Community         All  \n",
       " fc901918346f9204f99326c3cd57a097b5454d0d Community         All  \n",
       " fcaa41695c63af83b020ba7a4d050e4f8c736bb6 Community         All  \n",
       " fcce37fe722410434e9bedc4ab86df7fa259dbf6 Community         All  \n",
       " fd164c87bb90f18a2e4738015d8c890718d3baca Community         All  \n",
       " fdb2d68d3963356551b7e1cb88008a9f59bfcd73 Community         All  \n",
       " fe1f17354c916011eb93fcacb5bdf48a92d89d69 Mozilla Staff     All  \n",
       " fe529271548f47128444b2fb520068442652fd0e Community         All  \n",
       " fea07df8898612f97e77c2df0b4c1176fb8edd4b Community         All  \n",
       " \n",
       " [1569 rows x 3 columns],\n",
       "                                                         exp last_active  \\\n",
       " Author                                   Org                              \n",
       " 0017fc86fc9808c6881b9337e53e3836759193eb Community        1        2010   \n",
       " 0018ebca77103ad5ab204050688a1c07dfef1bbf Community        1        2010   \n",
       " 0036ec0ef2dcc61a838336a7844df2341f52b934 Mozilla Staff    3        2010   \n",
       " 003eb9165a8fb126dc0a1ef92d1478cc35400d0b Community        1        2010   \n",
       " 0050824236a67c3ef6c84db126cc81ae8a34b638 Community        3        2010   \n",
       " 00633c4f1a29fc14c9f79d0aa0358fbfbe1b2a0c Mozilla Staff    4        2010   \n",
       " 0068cb405eae5c5b37d2eead639b5d50a91773db Community        1        2010   \n",
       " 00834d313bfc6fc60be1631bcc57b2c05ee2e0e3 Mozilla Staff    2        2010   \n",
       " 00846eff46b051d92317fc74e54041c6fdccd7cf Mozilla Staff    3        2010   \n",
       " 00890cbe5133b67bfa1021485959d2b42c11f4f8 Mozilla Staff    3        2010   \n",
       " 00dde21ced24568fe70d60eeb3098ddc6b7e5e31 Community        1        2010   \n",
       " 00ed7b25063cf90c8bdeb9d45d37b73ba2317f96 Mozilla Staff    2        2010   \n",
       " 012f9fe0064209c2affd5810083edccc723b32a9 Mozilla Staff    4        2010   \n",
       " 0134e2ebeec7f2f1acf7c635b5b22e2c441bd3ec Mozilla Staff    2        2010   \n",
       " 015d87534f70c362eb2ce0430b2d6886e328223c Mozilla Staff    1        2010   \n",
       " 0170d5f0fceacd5683a9749a20e7234d0d58cb45 Mozilla Staff    1        2010   \n",
       " 019ee580517ec3e8eb2c90ad0e3b2d749e9f0359 Code Sheriff     2        2010   \n",
       " 01a0ffd68e3b0ac6359b920e733043b6be0dba12 Community        3        2010   \n",
       " 01a32a8c3037c692e4192e182ece28cfd8776fe0 Mozilla Staff    2        2010   \n",
       " 01b36f5096db2e9bd47f3c2817644dec9e7dff17 Mozilla Staff    1        2010   \n",
       " 01ee4cff56701606829522a4c92d47d2cc66a232 Mozilla Staff    1        2010   \n",
       " 020e546c6211feb97546084461eeb7cdae47664a Mozilla Staff    3        2010   \n",
       " 021020a1b3c27b55aa68b96f49c58487736abf46 Mozilla Staff    2        2010   \n",
       " 021a997f0f8e7df25fd4cc441c5a5f047bee90af Community        2        2010   \n",
       " 024a4278b098530475fbcca7dd01ac2f3cce814a Community        2        2010   \n",
       " 026dadb4b4a80d0784bc5dd83ba8416c9df67bef Mozilla Staff    5        2010   \n",
       " 02872b802fa8e325403cf28ff1e8948388fe21d8 Mozilla Staff    2        2010   \n",
       " 02883a798795129e8b7a314b8435ca30d690105c Mozilla Staff    3        2010   \n",
       " 02b1ec3755b3d37697e0c2533ab2208e7f111356 Mozilla Staff    1        2010   \n",
       " 02b8b17f5bd2baee37ed67709df58f899f2f57b7 Mozilla Staff    2        2010   \n",
       " ...                                                     ...         ...   \n",
       " f0cbbd03028d3a39c7636b6d9a55f43e503c4ef6 Community        1        2010   \n",
       " f1c8a2fc282b3b371a0c021202dbca2043d70015 Community        2        2010   \n",
       " f2271370251341e4f599306d60f3939ff6c61dde Community        1        2010   \n",
       " f264f3d643675d86031cac719196c59cbe4f6ad0 Community        1        2010   \n",
       " f28f807b32a03b91c4885744fc88f965aa1c0753 Community        1        2010   \n",
       " f36f99ad6da5af71d84eaba4243281d2316eb184 Community        1        2010   \n",
       " f3f96f241cf9c67cb8d721e14e08b814f5f1bcee Community        1        2010   \n",
       " f469977d5e9efc0e2fbf1ed1b7737af4a545000d Community        1        2010   \n",
       " f4ece3a2f086397dfdb06c5eea29d4895bf302f5 Community        1        2010   \n",
       " f55b744eba27918a999d2badc15fb698080e6370 Community        1        2010   \n",
       " f64cb81df9c2737c3a0bfff7e7775f4dfd94791c Community        2        2010   \n",
       " f79dae145bb7db844d06f56202630ee98e4e2c7c Community        2        2010   \n",
       " f7ef24d8f2af6b8a32e20cfecbb67247538f7556 Community        1        2010   \n",
       " f802c1a228179da47a4066d08d428f47644e6c53 Community        2        2010   \n",
       " f84a62bc5e446a99fdd59645b5330622d5e3d252 Community        1        2010   \n",
       " f95a1783ef46208eaea17ff682cbeb95967a757e Community        1        2010   \n",
       " f98ffc4f98a206b25abb0d6cd640911cb6ea2e5b Community        1        2010   \n",
       " f9d2a22f8dbdef886a70d44b532b60f2f1fb6dfe Community        1        2010   \n",
       " f9d3d8fdd30f41f9243aa11c892977a8ada43ef5 Community        1        2010   \n",
       " fa186989120bd2a2449a3d82403f9cdc2973aab0 Community        2        2010   \n",
       " fae7caf7dd3fdce9a29da9b22a17454fbc69f86d Community        2        2010   \n",
       " fb2ea0c6bc437868825ee888e4f51ec562778620 Community        1        2010   \n",
       " fbf765abb02c142ac05383f00c62f3acf1ab9828 Community        1        2010   \n",
       " fc077021dfac2f764734096b3f80634e3e0caf34 Community        1        2010   \n",
       " fcf758a555cb203b42315b6861b17492087a1b2e Community        1        2010   \n",
       " fd1e07e9be5223cf8fd2ffeb8f69bfbb5245067d Community        1        2010   \n",
       " fd4371aa262b432a9102cba500e3a6f6d91112d0 Community        1        2010   \n",
       " fe1f17354c916011eb93fcacb5bdf48a92d89d69 Mozilla Staff    1        2010   \n",
       " fe529271548f47128444b2fb520068442652fd0e Community        2        2010   \n",
       " ffcda03e142ed2f48e9224058832e70b7ea7e4b2 Community        1        2010   \n",
       " \n",
       "                                                        project  \n",
       " Author                                   Org                    \n",
       " 0017fc86fc9808c6881b9337e53e3836759193eb Community         All  \n",
       " 0018ebca77103ad5ab204050688a1c07dfef1bbf Community         All  \n",
       " 0036ec0ef2dcc61a838336a7844df2341f52b934 Mozilla Staff     All  \n",
       " 003eb9165a8fb126dc0a1ef92d1478cc35400d0b Community         All  \n",
       " 0050824236a67c3ef6c84db126cc81ae8a34b638 Community         All  \n",
       " 00633c4f1a29fc14c9f79d0aa0358fbfbe1b2a0c Mozilla Staff     All  \n",
       " 0068cb405eae5c5b37d2eead639b5d50a91773db Community         All  \n",
       " 00834d313bfc6fc60be1631bcc57b2c05ee2e0e3 Mozilla Staff     All  \n",
       " 00846eff46b051d92317fc74e54041c6fdccd7cf Mozilla Staff     All  \n",
       " 00890cbe5133b67bfa1021485959d2b42c11f4f8 Mozilla Staff     All  \n",
       " 00dde21ced24568fe70d60eeb3098ddc6b7e5e31 Community         All  \n",
       " 00ed7b25063cf90c8bdeb9d45d37b73ba2317f96 Mozilla Staff     All  \n",
       " 012f9fe0064209c2affd5810083edccc723b32a9 Mozilla Staff     All  \n",
       " 0134e2ebeec7f2f1acf7c635b5b22e2c441bd3ec Mozilla Staff     All  \n",
       " 015d87534f70c362eb2ce0430b2d6886e328223c Mozilla Staff     All  \n",
       " 0170d5f0fceacd5683a9749a20e7234d0d58cb45 Mozilla Staff     All  \n",
       " 019ee580517ec3e8eb2c90ad0e3b2d749e9f0359 Code Sheriff      All  \n",
       " 01a0ffd68e3b0ac6359b920e733043b6be0dba12 Community         All  \n",
       " 01a32a8c3037c692e4192e182ece28cfd8776fe0 Mozilla Staff     All  \n",
       " 01b36f5096db2e9bd47f3c2817644dec9e7dff17 Mozilla Staff     All  \n",
       " 01ee4cff56701606829522a4c92d47d2cc66a232 Mozilla Staff     All  \n",
       " 020e546c6211feb97546084461eeb7cdae47664a Mozilla Staff     All  \n",
       " 021020a1b3c27b55aa68b96f49c58487736abf46 Mozilla Staff     All  \n",
       " 021a997f0f8e7df25fd4cc441c5a5f047bee90af Community         All  \n",
       " 024a4278b098530475fbcca7dd01ac2f3cce814a Community         All  \n",
       " 026dadb4b4a80d0784bc5dd83ba8416c9df67bef Mozilla Staff     All  \n",
       " 02872b802fa8e325403cf28ff1e8948388fe21d8 Mozilla Staff     All  \n",
       " 02883a798795129e8b7a314b8435ca30d690105c Mozilla Staff     All  \n",
       " 02b1ec3755b3d37697e0c2533ab2208e7f111356 Mozilla Staff     All  \n",
       " 02b8b17f5bd2baee37ed67709df58f899f2f57b7 Mozilla Staff     All  \n",
       " ...                                                        ...  \n",
       " f0cbbd03028d3a39c7636b6d9a55f43e503c4ef6 Community         All  \n",
       " f1c8a2fc282b3b371a0c021202dbca2043d70015 Community         All  \n",
       " f2271370251341e4f599306d60f3939ff6c61dde Community         All  \n",
       " f264f3d643675d86031cac719196c59cbe4f6ad0 Community         All  \n",
       " f28f807b32a03b91c4885744fc88f965aa1c0753 Community         All  \n",
       " f36f99ad6da5af71d84eaba4243281d2316eb184 Community         All  \n",
       " f3f96f241cf9c67cb8d721e14e08b814f5f1bcee Community         All  \n",
       " f469977d5e9efc0e2fbf1ed1b7737af4a545000d Community         All  \n",
       " f4ece3a2f086397dfdb06c5eea29d4895bf302f5 Community         All  \n",
       " f55b744eba27918a999d2badc15fb698080e6370 Community         All  \n",
       " f64cb81df9c2737c3a0bfff7e7775f4dfd94791c Community         All  \n",
       " f79dae145bb7db844d06f56202630ee98e4e2c7c Community         All  \n",
       " f7ef24d8f2af6b8a32e20cfecbb67247538f7556 Community         All  \n",
       " f802c1a228179da47a4066d08d428f47644e6c53 Community         All  \n",
       " f84a62bc5e446a99fdd59645b5330622d5e3d252 Community         All  \n",
       " f95a1783ef46208eaea17ff682cbeb95967a757e Community         All  \n",
       " f98ffc4f98a206b25abb0d6cd640911cb6ea2e5b Community         All  \n",
       " f9d2a22f8dbdef886a70d44b532b60f2f1fb6dfe Community         All  \n",
       " f9d3d8fdd30f41f9243aa11c892977a8ada43ef5 Community         All  \n",
       " fa186989120bd2a2449a3d82403f9cdc2973aab0 Community         All  \n",
       " fae7caf7dd3fdce9a29da9b22a17454fbc69f86d Community         All  \n",
       " fb2ea0c6bc437868825ee888e4f51ec562778620 Community         All  \n",
       " fbf765abb02c142ac05383f00c62f3acf1ab9828 Community         All  \n",
       " fc077021dfac2f764734096b3f80634e3e0caf34 Community         All  \n",
       " fcf758a555cb203b42315b6861b17492087a1b2e Community         All  \n",
       " fd1e07e9be5223cf8fd2ffeb8f69bfbb5245067d Community         All  \n",
       " fd4371aa262b432a9102cba500e3a6f6d91112d0 Community         All  \n",
       " fe1f17354c916011eb93fcacb5bdf48a92d89d69 Mozilla Staff     All  \n",
       " fe529271548f47128444b2fb520068442652fd0e Community         All  \n",
       " ffcda03e142ed2f48e9224058832e70b7ea7e4b2 Community         All  \n",
       " \n",
       " [1165 rows x 3 columns],\n",
       "                                                         exp last_active  \\\n",
       " Author                                   Org                              \n",
       " 0050824236a67c3ef6c84db126cc81ae8a34b638 Community        2        2009   \n",
       " 00633c4f1a29fc14c9f79d0aa0358fbfbe1b2a0c Mozilla Staff    3        2009   \n",
       " 00834d313bfc6fc60be1631bcc57b2c05ee2e0e3 Mozilla Staff    1        2009   \n",
       " 00846eff46b051d92317fc74e54041c6fdccd7cf Mozilla Staff    2        2009   \n",
       " 0088d823a3e47b36d62c579d300c7d8a883d6798 Community        1        2009   \n",
       " 00890cbe5133b67bfa1021485959d2b42c11f4f8 Mozilla Staff    2        2009   \n",
       " 00e052f85ecde5d0d4222940d73688175dd3dd62 Mozilla Staff    1        2009   \n",
       " 00ed7b25063cf90c8bdeb9d45d37b73ba2317f96 Mozilla Staff    1        2009   \n",
       " 012f9fe0064209c2affd5810083edccc723b32a9 Mozilla Staff    3        2009   \n",
       " 0134e2ebeec7f2f1acf7c635b5b22e2c441bd3ec Mozilla Staff    1        2009   \n",
       " 01757a5cfa0f9c479079f0e4459a5b8605d8026a Community        1        2009   \n",
       " 019ee580517ec3e8eb2c90ad0e3b2d749e9f0359 Code Sheriff     1        2009   \n",
       " 01a0ffd68e3b0ac6359b920e733043b6be0dba12 Community        2        2009   \n",
       " 01a32a8c3037c692e4192e182ece28cfd8776fe0 Mozilla Staff    1        2009   \n",
       " 020e546c6211feb97546084461eeb7cdae47664a Mozilla Staff    2        2009   \n",
       " 021020a1b3c27b55aa68b96f49c58487736abf46 Mozilla Staff    1        2009   \n",
       " 021a997f0f8e7df25fd4cc441c5a5f047bee90af Community        1        2009   \n",
       " 024a4278b098530475fbcca7dd01ac2f3cce814a Community        1        2009   \n",
       " 026dadb4b4a80d0784bc5dd83ba8416c9df67bef Mozilla Staff    4        2009   \n",
       " 0273004d467140fdf09041e0893769bf6ef21baf Community        1        2009   \n",
       " 02779439f026e59032b7e8759cffc0754c76d5e7 Community        1        2009   \n",
       " 02872b802fa8e325403cf28ff1e8948388fe21d8 Mozilla Staff    1        2009   \n",
       " 02883a798795129e8b7a314b8435ca30d690105c Mozilla Staff    2        2009   \n",
       " 028d397472d346a8b0e056246b11dbbd2f6cf7c7 Community        1        2009   \n",
       " 02b8b17f5bd2baee37ed67709df58f899f2f57b7 Mozilla Staff    1        2009   \n",
       " 02c80b820108371e66ae5d904ce2371ef1190933 Mozilla Staff    3        2009   \n",
       " 02cce350dcc05df4a54e59125943d0e1d8241fa4 Mozilla Staff    1        2009   \n",
       " 02f2b8d169c66c81e136247f012a43deecaab21c Mozilla Staff    2        2009   \n",
       " 030e62204cd36e9f47818cef2bf2466b7ccd45f1 Mozilla Staff    1        2009   \n",
       " 0313d323bcdcb9d656aa6f8a6cc43d67a1835676 Community        1        2009   \n",
       " ...                                                     ...         ...   \n",
       " e5766565e4b76e29a7cf70efbf238a90e616af63 Community        1        2009   \n",
       " e5c641085e71eb6d4e5df52afbdad6552583e215 Community        1        2009   \n",
       " e61ba39e4ee805033d145ccb4e239e2250019984 Community        1        2009   \n",
       " e744f9d4b82b5add8acf425d2c78ad88688a57d1 Community        1        2009   \n",
       " e83106e2eae2f446c88becb81612eb00a7f95936 Community        2        2009   \n",
       " ea866ddbc4b20d4f191bcdecd514b76e22341c39 Community        2        2009   \n",
       " ebc67a30f59535145593f593aeedf6f74391a45c Community        1        2009   \n",
       " ebd0984fd994eab8242b2a1de60e736f26c06fa6 Community        1        2009   \n",
       " ec400281f445460ebebb1b8405d2d6d82bc2f465 Community        1        2009   \n",
       " ec53ad67f5b23f28cb0c2f2284041a826aba9c05 Community        1        2009   \n",
       " ecb998cea80d3b5da8c3b16528fd2739425144f7 Community        2        2009   \n",
       " edb45ecdd698ae497d6501fcca02924c715c0cdf Community        1        2009   \n",
       " efccfa43ac5c2d58afc261d672d2ec6dc6f232cb Community        1        2009   \n",
       " f2c58df3361930a201bb4411386ecb47e37946e6 Community        1        2009   \n",
       " f64cb81df9c2737c3a0bfff7e7775f4dfd94791c Community        1        2009   \n",
       " f6eb98ee9c12bb79466551e87ee725f2b2badd5d Community        1        2009   \n",
       " f70a9667105c572b9aa4c0fc05a60d1fc1154f4d Community        1        2009   \n",
       " f79dae145bb7db844d06f56202630ee98e4e2c7c Community        1        2009   \n",
       " f802c1a228179da47a4066d08d428f47644e6c53 Community        1        2009   \n",
       " f8758a592c12d224cd8a2e0d41d2c29d9a718e56 Community        1        2009   \n",
       " fa186989120bd2a2449a3d82403f9cdc2973aab0 Community        1        2009   \n",
       " fad362f8b42d05a21a84813b1e1c11d6b8331916 Community        2        2009   \n",
       " fadc2b31eb943c5367e0424eef1fffacd1e615e3 Community        1        2009   \n",
       " fae7caf7dd3fdce9a29da9b22a17454fbc69f86d Community        1        2009   \n",
       " fb2484851ec667a7c842f8c471584294f4afad06 Community        2        2009   \n",
       " fbf7e2a240863f8f36e0b8bd35355aa7ed4570b1 Community        1        2009   \n",
       " fc525e000a8d6c31dbf9e6a9c1c004d93ff8ca0b Community        1        2009   \n",
       " fe22f33fd20560dcf9667f6081e6d1e1cc956e02 Community        1        2009   \n",
       " fe529271548f47128444b2fb520068442652fd0e Community        1        2009   \n",
       " ffb8485bd31e3c5bfb49ba34247672490ff54229 Community        1        2009   \n",
       " \n",
       "                                                        project  \n",
       " Author                                   Org                    \n",
       " 0050824236a67c3ef6c84db126cc81ae8a34b638 Community         All  \n",
       " 00633c4f1a29fc14c9f79d0aa0358fbfbe1b2a0c Mozilla Staff     All  \n",
       " 00834d313bfc6fc60be1631bcc57b2c05ee2e0e3 Mozilla Staff     All  \n",
       " 00846eff46b051d92317fc74e54041c6fdccd7cf Mozilla Staff     All  \n",
       " 0088d823a3e47b36d62c579d300c7d8a883d6798 Community         All  \n",
       " 00890cbe5133b67bfa1021485959d2b42c11f4f8 Mozilla Staff     All  \n",
       " 00e052f85ecde5d0d4222940d73688175dd3dd62 Mozilla Staff     All  \n",
       " 00ed7b25063cf90c8bdeb9d45d37b73ba2317f96 Mozilla Staff     All  \n",
       " 012f9fe0064209c2affd5810083edccc723b32a9 Mozilla Staff     All  \n",
       " 0134e2ebeec7f2f1acf7c635b5b22e2c441bd3ec Mozilla Staff     All  \n",
       " 01757a5cfa0f9c479079f0e4459a5b8605d8026a Community         All  \n",
       " 019ee580517ec3e8eb2c90ad0e3b2d749e9f0359 Code Sheriff      All  \n",
       " 01a0ffd68e3b0ac6359b920e733043b6be0dba12 Community         All  \n",
       " 01a32a8c3037c692e4192e182ece28cfd8776fe0 Mozilla Staff     All  \n",
       " 020e546c6211feb97546084461eeb7cdae47664a Mozilla Staff     All  \n",
       " 021020a1b3c27b55aa68b96f49c58487736abf46 Mozilla Staff     All  \n",
       " 021a997f0f8e7df25fd4cc441c5a5f047bee90af Community         All  \n",
       " 024a4278b098530475fbcca7dd01ac2f3cce814a Community         All  \n",
       " 026dadb4b4a80d0784bc5dd83ba8416c9df67bef Mozilla Staff     All  \n",
       " 0273004d467140fdf09041e0893769bf6ef21baf Community         All  \n",
       " 02779439f026e59032b7e8759cffc0754c76d5e7 Community         All  \n",
       " 02872b802fa8e325403cf28ff1e8948388fe21d8 Mozilla Staff     All  \n",
       " 02883a798795129e8b7a314b8435ca30d690105c Mozilla Staff     All  \n",
       " 028d397472d346a8b0e056246b11dbbd2f6cf7c7 Community         All  \n",
       " 02b8b17f5bd2baee37ed67709df58f899f2f57b7 Mozilla Staff     All  \n",
       " 02c80b820108371e66ae5d904ce2371ef1190933 Mozilla Staff     All  \n",
       " 02cce350dcc05df4a54e59125943d0e1d8241fa4 Mozilla Staff     All  \n",
       " 02f2b8d169c66c81e136247f012a43deecaab21c Mozilla Staff     All  \n",
       " 030e62204cd36e9f47818cef2bf2466b7ccd45f1 Mozilla Staff     All  \n",
       " 0313d323bcdcb9d656aa6f8a6cc43d67a1835676 Community         All  \n",
       " ...                                                        ...  \n",
       " e5766565e4b76e29a7cf70efbf238a90e616af63 Community         All  \n",
       " e5c641085e71eb6d4e5df52afbdad6552583e215 Community         All  \n",
       " e61ba39e4ee805033d145ccb4e239e2250019984 Community         All  \n",
       " e744f9d4b82b5add8acf425d2c78ad88688a57d1 Community         All  \n",
       " e83106e2eae2f446c88becb81612eb00a7f95936 Community         All  \n",
       " ea866ddbc4b20d4f191bcdecd514b76e22341c39 Community         All  \n",
       " ebc67a30f59535145593f593aeedf6f74391a45c Community         All  \n",
       " ebd0984fd994eab8242b2a1de60e736f26c06fa6 Community         All  \n",
       " ec400281f445460ebebb1b8405d2d6d82bc2f465 Community         All  \n",
       " ec53ad67f5b23f28cb0c2f2284041a826aba9c05 Community         All  \n",
       " ecb998cea80d3b5da8c3b16528fd2739425144f7 Community         All  \n",
       " edb45ecdd698ae497d6501fcca02924c715c0cdf Community         All  \n",
       " efccfa43ac5c2d58afc261d672d2ec6dc6f232cb Community         All  \n",
       " f2c58df3361930a201bb4411386ecb47e37946e6 Community         All  \n",
       " f64cb81df9c2737c3a0bfff7e7775f4dfd94791c Community         All  \n",
       " f6eb98ee9c12bb79466551e87ee725f2b2badd5d Community         All  \n",
       " f70a9667105c572b9aa4c0fc05a60d1fc1154f4d Community         All  \n",
       " f79dae145bb7db844d06f56202630ee98e4e2c7c Community         All  \n",
       " f802c1a228179da47a4066d08d428f47644e6c53 Community         All  \n",
       " f8758a592c12d224cd8a2e0d41d2c29d9a718e56 Community         All  \n",
       " fa186989120bd2a2449a3d82403f9cdc2973aab0 Community         All  \n",
       " fad362f8b42d05a21a84813b1e1c11d6b8331916 Community         All  \n",
       " fadc2b31eb943c5367e0424eef1fffacd1e615e3 Community         All  \n",
       " fae7caf7dd3fdce9a29da9b22a17454fbc69f86d Community         All  \n",
       " fb2484851ec667a7c842f8c471584294f4afad06 Community         All  \n",
       " fbf7e2a240863f8f36e0b8bd35355aa7ed4570b1 Community         All  \n",
       " fc525e000a8d6c31dbf9e6a9c1c004d93ff8ca0b Community         All  \n",
       " fe22f33fd20560dcf9667f6081e6d1e1cc956e02 Community         All  \n",
       " fe529271548f47128444b2fb520068442652fd0e Community         All  \n",
       " ffb8485bd31e3c5bfb49ba34247672490ff54229 Community         All  \n",
       " \n",
       " [879 rows x 3 columns],\n",
       "                                                         exp last_active  \\\n",
       " Author                                   Org                              \n",
       " 0036ec0ef2dcc61a838336a7844df2341f52b934 Mozilla Staff    2        2008   \n",
       " 0040576ccb02d80fbcdca410c87481e617d30402 Community        1        2008   \n",
       " 00425929e872f86f1686ce88459d60a4d8634e36 Community        2        2008   \n",
       " 0050824236a67c3ef6c84db126cc81ae8a34b638 Community        1        2008   \n",
       " 00633c4f1a29fc14c9f79d0aa0358fbfbe1b2a0c Mozilla Staff    2        2008   \n",
       " 00846eff46b051d92317fc74e54041c6fdccd7cf Mozilla Staff    1        2008   \n",
       " 00890cbe5133b67bfa1021485959d2b42c11f4f8 Mozilla Staff    1        2008   \n",
       " 00b23a0b30dac3be3eb376403c44ebb1acbd7a9e Community        1        2008   \n",
       " 012f9fe0064209c2affd5810083edccc723b32a9 Mozilla Staff    2        2008   \n",
       " 01a0ffd68e3b0ac6359b920e733043b6be0dba12 Community        1        2008   \n",
       " 020e546c6211feb97546084461eeb7cdae47664a Mozilla Staff    1        2008   \n",
       " 022937d7d7617e6181f08665bfb18d6a167c0d15 Community        1        2008   \n",
       " 026dadb4b4a80d0784bc5dd83ba8416c9df67bef Mozilla Staff    3        2008   \n",
       " 02883a798795129e8b7a314b8435ca30d690105c Mozilla Staff    1        2008   \n",
       " 02c80b820108371e66ae5d904ce2371ef1190933 Mozilla Staff    2        2008   \n",
       " 02d8d3650614834265cf356f6cb2b2238fe06861 Mozilla Staff    2        2008   \n",
       " 02f2b8d169c66c81e136247f012a43deecaab21c Mozilla Staff    1        2008   \n",
       " 0333479955d7323543f69ba29165c8992c75845c Mozilla Staff    2        2008   \n",
       " 034f863fdea2d09159e1d1c8e9f766aa5c82aa3e Community        1        2008   \n",
       " 035e2f63ad1b509135c24467230c73d1484bd87c Community        1        2008   \n",
       " 038b8ab51714e69f16ec3c4caf58e23ff7bd0b57 Community        1        2008   \n",
       " 03904533eccb74d30f19412b29507798acfc9ac4 Community        2        2008   \n",
       " 03a7a01d6f752b3ab95354a54b1a121abec6552c Mozilla Staff    1        2008   \n",
       " 03bbc81cd1db89677298cd092a1ef579220029b8 Mozilla Staff    2        2008   \n",
       " 03e29d4afdf730f640dd755f0920defc8cd84f40 Mozilla Staff    2        2008   \n",
       " 03e6f642bc6fc389b280735383f34bd777f9605c Mozilla Staff    1        2008   \n",
       " 0445fc29cda1773029265417533ba43ec9e47e3d Mozilla Staff    2        2008   \n",
       " 045251ae5d4f5c1dd672b65f3b6dd6d856ea8457 Mozilla Staff    1        2008   \n",
       " 04631379bcf5f74681ac46ab9dfa868c59da1e4f Mozilla Staff    2        2008   \n",
       " 04a31d7acae067d4f2b66c102337b44f4f3aad82 Mozilla Staff    2        2008   \n",
       " ...                                                     ...         ...   \n",
       " e1486ff2023c2195fc83ae27be7c817a7b68d3d2 Mozilla Staff    1        2008   \n",
       " e25066f12c68d1ed2937d8111c0fb693ab5fa93b Mozilla Staff    1        2008   \n",
       " e2bd6a350615ba3c7281ffae63394b9ddc974a55 Community        1        2008   \n",
       " e3511a9cfa3888dd2acd0133a34c28d3502f12ef Community        1        2008   \n",
       " e4f3826ce710dfd922e3f15d5980b0d36d185ea4 Community        2        2008   \n",
       " e5431417bb6b39faa85fe40e2b4901ba36c3b4c8 Community        1        2008   \n",
       " e7922762c847c03dc6ff1ac788fdb2425f248eb3 Community        1        2008   \n",
       " e83106e2eae2f446c88becb81612eb00a7f95936 Community        1        2008   \n",
       " e87a6fb6086eca0d099a8f2018d9ad73f6b2c84f Community        1        2008   \n",
       " e8b7eb6fa2613e54ffe66c52b61c4797a562475d Community        2        2008   \n",
       " e90818a46112e7e576297025c5b16e70cb8fd36d Community        1        2008   \n",
       " e926e84cea95a53e114f438cc223e23e839a9d04 Community        2        2008   \n",
       " e9b1fb338f607f0634bccdaf6dae511344006cb9 Community        1        2008   \n",
       " eacd13d9654c5e333898b51e215cb6eb40cf2a19 Community        1        2008   \n",
       " ecb998cea80d3b5da8c3b16528fd2739425144f7 Community        1        2008   \n",
       " ed68460dd5cae0bf61fbf20c4a6f05d4b10fd15c Community        2        2008   \n",
       " ef87869f72cd5bc5fd858ba8c4ebecd47876ee3e Community        1        2008   \n",
       " efc639b7957be9c0e2177f35e983a51e7b663627 Mozilla Staff    1        2008   \n",
       " f0442ec9bf34fa92606ebecc8eca9d5d90b777b9 Community        1        2008   \n",
       " f053fd437f73c0f01fee353d4dccfa506b3ae4ed Community        1        2008   \n",
       " f398e12ef089a9138fe8ba5cf6dfb74edf5259df Community        1        2008   \n",
       " f5525062fc1b00c2c3e1c0b5ba127bed88e3162b Community        2        2008   \n",
       " f5eb2857a2529a2b060a5b0bf47e6340379d7952 Community        2        2008   \n",
       " f829bbd901d6627ab345734eef5e16e38660b9a1 Community        2        2008   \n",
       " fad362f8b42d05a21a84813b1e1c11d6b8331916 Community        1        2008   \n",
       " fb2484851ec667a7c842f8c471584294f4afad06 Community        1        2008   \n",
       " fb5f0d44ce3d8818506e1d1ea048f9f7d71a2275 Community        1        2008   \n",
       " fbc8e2a21fd933c87895ad5da97978394c19859d Community        1        2008   \n",
       " fcd0c4ff821d53c447ae2c6af1890949dab079cf Community        1        2008   \n",
       " fe4a9e4889001ed514a5fe647faf3ea0aad50df7 Community        1        2008   \n",
       " \n",
       "                                                        project  \n",
       " Author                                   Org                    \n",
       " 0036ec0ef2dcc61a838336a7844df2341f52b934 Mozilla Staff     All  \n",
       " 0040576ccb02d80fbcdca410c87481e617d30402 Community         All  \n",
       " 00425929e872f86f1686ce88459d60a4d8634e36 Community         All  \n",
       " 0050824236a67c3ef6c84db126cc81ae8a34b638 Community         All  \n",
       " 00633c4f1a29fc14c9f79d0aa0358fbfbe1b2a0c Mozilla Staff     All  \n",
       " 00846eff46b051d92317fc74e54041c6fdccd7cf Mozilla Staff     All  \n",
       " 00890cbe5133b67bfa1021485959d2b42c11f4f8 Mozilla Staff     All  \n",
       " 00b23a0b30dac3be3eb376403c44ebb1acbd7a9e Community         All  \n",
       " 012f9fe0064209c2affd5810083edccc723b32a9 Mozilla Staff     All  \n",
       " 01a0ffd68e3b0ac6359b920e733043b6be0dba12 Community         All  \n",
       " 020e546c6211feb97546084461eeb7cdae47664a Mozilla Staff     All  \n",
       " 022937d7d7617e6181f08665bfb18d6a167c0d15 Community         All  \n",
       " 026dadb4b4a80d0784bc5dd83ba8416c9df67bef Mozilla Staff     All  \n",
       " 02883a798795129e8b7a314b8435ca30d690105c Mozilla Staff     All  \n",
       " 02c80b820108371e66ae5d904ce2371ef1190933 Mozilla Staff     All  \n",
       " 02d8d3650614834265cf356f6cb2b2238fe06861 Mozilla Staff     All  \n",
       " 02f2b8d169c66c81e136247f012a43deecaab21c Mozilla Staff     All  \n",
       " 0333479955d7323543f69ba29165c8992c75845c Mozilla Staff     All  \n",
       " 034f863fdea2d09159e1d1c8e9f766aa5c82aa3e Community         All  \n",
       " 035e2f63ad1b509135c24467230c73d1484bd87c Community         All  \n",
       " 038b8ab51714e69f16ec3c4caf58e23ff7bd0b57 Community         All  \n",
       " 03904533eccb74d30f19412b29507798acfc9ac4 Community         All  \n",
       " 03a7a01d6f752b3ab95354a54b1a121abec6552c Mozilla Staff     All  \n",
       " 03bbc81cd1db89677298cd092a1ef579220029b8 Mozilla Staff     All  \n",
       " 03e29d4afdf730f640dd755f0920defc8cd84f40 Mozilla Staff     All  \n",
       " 03e6f642bc6fc389b280735383f34bd777f9605c Mozilla Staff     All  \n",
       " 0445fc29cda1773029265417533ba43ec9e47e3d Mozilla Staff     All  \n",
       " 045251ae5d4f5c1dd672b65f3b6dd6d856ea8457 Mozilla Staff     All  \n",
       " 04631379bcf5f74681ac46ab9dfa868c59da1e4f Mozilla Staff     All  \n",
       " 04a31d7acae067d4f2b66c102337b44f4f3aad82 Mozilla Staff     All  \n",
       " ...                                                        ...  \n",
       " e1486ff2023c2195fc83ae27be7c817a7b68d3d2 Mozilla Staff     All  \n",
       " e25066f12c68d1ed2937d8111c0fb693ab5fa93b Mozilla Staff     All  \n",
       " e2bd6a350615ba3c7281ffae63394b9ddc974a55 Community         All  \n",
       " e3511a9cfa3888dd2acd0133a34c28d3502f12ef Community         All  \n",
       " e4f3826ce710dfd922e3f15d5980b0d36d185ea4 Community         All  \n",
       " e5431417bb6b39faa85fe40e2b4901ba36c3b4c8 Community         All  \n",
       " e7922762c847c03dc6ff1ac788fdb2425f248eb3 Community         All  \n",
       " e83106e2eae2f446c88becb81612eb00a7f95936 Community         All  \n",
       " e87a6fb6086eca0d099a8f2018d9ad73f6b2c84f Community         All  \n",
       " e8b7eb6fa2613e54ffe66c52b61c4797a562475d Community         All  \n",
       " e90818a46112e7e576297025c5b16e70cb8fd36d Community         All  \n",
       " e926e84cea95a53e114f438cc223e23e839a9d04 Community         All  \n",
       " e9b1fb338f607f0634bccdaf6dae511344006cb9 Community         All  \n",
       " eacd13d9654c5e333898b51e215cb6eb40cf2a19 Community         All  \n",
       " ecb998cea80d3b5da8c3b16528fd2739425144f7 Community         All  \n",
       " ed68460dd5cae0bf61fbf20c4a6f05d4b10fd15c Community         All  \n",
       " ef87869f72cd5bc5fd858ba8c4ebecd47876ee3e Community         All  \n",
       " efc639b7957be9c0e2177f35e983a51e7b663627 Mozilla Staff     All  \n",
       " f0442ec9bf34fa92606ebecc8eca9d5d90b777b9 Community         All  \n",
       " f053fd437f73c0f01fee353d4dccfa506b3ae4ed Community         All  \n",
       " f398e12ef089a9138fe8ba5cf6dfb74edf5259df Community         All  \n",
       " f5525062fc1b00c2c3e1c0b5ba127bed88e3162b Community         All  \n",
       " f5eb2857a2529a2b060a5b0bf47e6340379d7952 Community         All  \n",
       " f829bbd901d6627ab345734eef5e16e38660b9a1 Community         All  \n",
       " fad362f8b42d05a21a84813b1e1c11d6b8331916 Community         All  \n",
       " fb2484851ec667a7c842f8c471584294f4afad06 Community         All  \n",
       " fb5f0d44ce3d8818506e1d1ea048f9f7d71a2275 Community         All  \n",
       " fbc8e2a21fd933c87895ad5da97978394c19859d Community         All  \n",
       " fcd0c4ff821d53c447ae2c6af1890949dab079cf Community         All  \n",
       " fe4a9e4889001ed514a5fe647faf3ea0aad50df7 Community         All  \n",
       " \n",
       " [768 rows x 3 columns],\n",
       "                                                         exp last_active  \\\n",
       " Author                                   Org                              \n",
       " 000e81efa082c7857d6f0cf3c749722188ac7868 Mozilla Staff    1        2007   \n",
       " 0036ec0ef2dcc61a838336a7844df2341f52b934 Mozilla Staff    1        2007   \n",
       " 00425929e872f86f1686ce88459d60a4d8634e36 Community        1        2007   \n",
       " 00633c4f1a29fc14c9f79d0aa0358fbfbe1b2a0c Mozilla Staff    1        2007   \n",
       " 00686716dabebbaba2a1667335b2c4ec076a3cb5 Community        4        2007   \n",
       " 01007b078de4230e4cefd3a6de837b5df24d29be Mozilla Staff    1        2007   \n",
       " 0103a68f7d0d4d0715293f5518d830e828ab917b Community        1        2007   \n",
       " 012f9fe0064209c2affd5810083edccc723b32a9 Mozilla Staff    1        2007   \n",
       " 013da72bf2f27760368a6d49ea737267a6275182 Mozilla Staff    1        2007   \n",
       " 01c61b3da6cb7dfb4a6c56867fee5c32b02173b5 Community        1        2007   \n",
       " 026dadb4b4a80d0784bc5dd83ba8416c9df67bef Mozilla Staff    2        2007   \n",
       " 02c80b820108371e66ae5d904ce2371ef1190933 Mozilla Staff    1        2007   \n",
       " 02d6c48f98bb2f928231565e151738f7b172f3da Community        5        2007   \n",
       " 02d8d3650614834265cf356f6cb2b2238fe06861 Mozilla Staff    1        2007   \n",
       " 032fff13083cce73e67708668d5276108a514b1b Community        1        2007   \n",
       " 0333479955d7323543f69ba29165c8992c75845c Mozilla Staff    1        2007   \n",
       " 036af4099c6d358fb994d99422c40f98665758cf Mozilla Staff    1        2007   \n",
       " 036b76b88f4627dc1a727bcc356e5ea7f435f7fe Community       10        2007   \n",
       " 03904533eccb74d30f19412b29507798acfc9ac4 Community        1        2007   \n",
       " 03adc5025507971aad50878e067e50113d0075f4 Community        1        2007   \n",
       " 03bbc81cd1db89677298cd092a1ef579220029b8 Mozilla Staff    1        2007   \n",
       " 03e29d4afdf730f640dd755f0920defc8cd84f40 Mozilla Staff    1        2007   \n",
       " 043192d627c4947ded041efd8401b1321856903f Community        1        2007   \n",
       " 0445fc29cda1773029265417533ba43ec9e47e3d Mozilla Staff    1        2007   \n",
       " 04631379bcf5f74681ac46ab9dfa868c59da1e4f Mozilla Staff    1        2007   \n",
       " 04a31d7acae067d4f2b66c102337b44f4f3aad82 Mozilla Staff    1        2007   \n",
       " 04d8b275f76064fecaffa46e53ea7480aaf97c22 Mozilla Staff    1        2007   \n",
       " 0547d380aa40a0422f9a02ff623b0b23ff987dcf Mozilla Staff    1        2007   \n",
       " 055057e66ec58a3f975cd711cfa934b7ae2302de Mozilla Staff    1        2007   \n",
       " 057882a7b5594647ebc370db92604aab4395677d Community        1        2007   \n",
       " ...                                                     ...         ...   \n",
       " e8537afc084afb7bc99dfa91cbd9f2c0fc60610c Community        4        2007   \n",
       " e8a627c6f20825cc03b21d729dc371fff00d3b26 Community        1        2007   \n",
       " e8b7eb6fa2613e54ffe66c52b61c4797a562475d Community        1        2007   \n",
       " e926e84cea95a53e114f438cc223e23e839a9d04 Community        1        2007   \n",
       " e982fa475d6db37da3ada79a8329421d6cd384cd Community        4        2007   \n",
       " eb12754f5a59cf384287af89b678ce2f2c9afec4 Community        9        2007   \n",
       " eb168d48afc257828868d490c2c930a7006e07dd Community        1        2007   \n",
       " eb2b5a07613feab2dd13b6e4a74e4d3c0b21a3ce Community        1        2007   \n",
       " eb956a9faa2e0fd1f62c37cac1c40cc8ca196020 Community        1        2007   \n",
       " ecd0fd681fb6f9c8df7cf40eca6b0fec991a2cc6 Community        2        2007   \n",
       " ed4787a33bd3e004243db826c9167bd43a82c7b9 Community        1        2007   \n",
       " ed68460dd5cae0bf61fbf20c4a6f05d4b10fd15c Community        1        2007   \n",
       " eda9150553e5a3e512313da4f730240dbaebc8a6 Community        4        2007   \n",
       " edbb48f7181ad64123d4d031f8740df41cdcdbc3 Community        1        2007   \n",
       " ee964889da78011366a4bbeeaaaa7271d82e54d5 Community        1        2007   \n",
       " eed3c18ba22e9d250b4fe2aa3bc314d567448246 Community        3        2007   \n",
       " ef0afacad8bfd6a4fd468a4e6f1c2637e85702db Community        1        2007   \n",
       " f11803fa38d7ee01a0c60404e2d485d3c013b5da Community        1        2007   \n",
       " f1c8a2fc282b3b371a0c021202dbca2043d70015 Community        1        2007   \n",
       " f26636f25ce3772f1ff8938aec9f8cd2e7f58f11 Community        4        2007   \n",
       " f33be02c9ec99677fdf5cb7a8ff7cad3a39246ee Community        4        2007   \n",
       " f37c901df202efedf6d6b03315da1a0dfdc492d0 Community        1        2007   \n",
       " f5525062fc1b00c2c3e1c0b5ba127bed88e3162b Community        1        2007   \n",
       " f5eb2857a2529a2b060a5b0bf47e6340379d7952 Community        1        2007   \n",
       " f829bbd901d6627ab345734eef5e16e38660b9a1 Community        1        2007   \n",
       " fb0b7984fa9ba3b71b0b7da79cc620ee4111fa35 Community        6        2007   \n",
       " fc392d7c5f4bb0d275013e4746b8a30791c17f71 Community        3        2007   \n",
       " ff66e434e7144b5a9bbc2349240de47b2176c0ee Community        1        2007   \n",
       " ff80d7a947fb79ed32296c947eb2877b23848ad2 Community        1        2007   \n",
       " ffc80cdd2aefd7ec0b8fddf6fea18489c40e8c04 Community        1        2007   \n",
       " \n",
       "                                                        project  \n",
       " Author                                   Org                    \n",
       " 000e81efa082c7857d6f0cf3c749722188ac7868 Mozilla Staff     All  \n",
       " 0036ec0ef2dcc61a838336a7844df2341f52b934 Mozilla Staff     All  \n",
       " 00425929e872f86f1686ce88459d60a4d8634e36 Community         All  \n",
       " 00633c4f1a29fc14c9f79d0aa0358fbfbe1b2a0c Mozilla Staff     All  \n",
       " 00686716dabebbaba2a1667335b2c4ec076a3cb5 Community         All  \n",
       " 01007b078de4230e4cefd3a6de837b5df24d29be Mozilla Staff     All  \n",
       " 0103a68f7d0d4d0715293f5518d830e828ab917b Community         All  \n",
       " 012f9fe0064209c2affd5810083edccc723b32a9 Mozilla Staff     All  \n",
       " 013da72bf2f27760368a6d49ea737267a6275182 Mozilla Staff     All  \n",
       " 01c61b3da6cb7dfb4a6c56867fee5c32b02173b5 Community         All  \n",
       " 026dadb4b4a80d0784bc5dd83ba8416c9df67bef Mozilla Staff     All  \n",
       " 02c80b820108371e66ae5d904ce2371ef1190933 Mozilla Staff     All  \n",
       " 02d6c48f98bb2f928231565e151738f7b172f3da Community         All  \n",
       " 02d8d3650614834265cf356f6cb2b2238fe06861 Mozilla Staff     All  \n",
       " 032fff13083cce73e67708668d5276108a514b1b Community         All  \n",
       " 0333479955d7323543f69ba29165c8992c75845c Mozilla Staff     All  \n",
       " 036af4099c6d358fb994d99422c40f98665758cf Mozilla Staff     All  \n",
       " 036b76b88f4627dc1a727bcc356e5ea7f435f7fe Community         All  \n",
       " 03904533eccb74d30f19412b29507798acfc9ac4 Community         All  \n",
       " 03adc5025507971aad50878e067e50113d0075f4 Community         All  \n",
       " 03bbc81cd1db89677298cd092a1ef579220029b8 Mozilla Staff     All  \n",
       " 03e29d4afdf730f640dd755f0920defc8cd84f40 Mozilla Staff     All  \n",
       " 043192d627c4947ded041efd8401b1321856903f Community         All  \n",
       " 0445fc29cda1773029265417533ba43ec9e47e3d Mozilla Staff     All  \n",
       " 04631379bcf5f74681ac46ab9dfa868c59da1e4f Mozilla Staff     All  \n",
       " 04a31d7acae067d4f2b66c102337b44f4f3aad82 Mozilla Staff     All  \n",
       " 04d8b275f76064fecaffa46e53ea7480aaf97c22 Mozilla Staff     All  \n",
       " 0547d380aa40a0422f9a02ff623b0b23ff987dcf Mozilla Staff     All  \n",
       " 055057e66ec58a3f975cd711cfa934b7ae2302de Mozilla Staff     All  \n",
       " 057882a7b5594647ebc370db92604aab4395677d Community         All  \n",
       " ...                                                        ...  \n",
       " e8537afc084afb7bc99dfa91cbd9f2c0fc60610c Community         All  \n",
       " e8a627c6f20825cc03b21d729dc371fff00d3b26 Community         All  \n",
       " e8b7eb6fa2613e54ffe66c52b61c4797a562475d Community         All  \n",
       " e926e84cea95a53e114f438cc223e23e839a9d04 Community         All  \n",
       " e982fa475d6db37da3ada79a8329421d6cd384cd Community         All  \n",
       " eb12754f5a59cf384287af89b678ce2f2c9afec4 Community         All  \n",
       " eb168d48afc257828868d490c2c930a7006e07dd Community         All  \n",
       " eb2b5a07613feab2dd13b6e4a74e4d3c0b21a3ce Community         All  \n",
       " eb956a9faa2e0fd1f62c37cac1c40cc8ca196020 Community         All  \n",
       " ecd0fd681fb6f9c8df7cf40eca6b0fec991a2cc6 Community         All  \n",
       " ed4787a33bd3e004243db826c9167bd43a82c7b9 Community         All  \n",
       " ed68460dd5cae0bf61fbf20c4a6f05d4b10fd15c Community         All  \n",
       " eda9150553e5a3e512313da4f730240dbaebc8a6 Community         All  \n",
       " edbb48f7181ad64123d4d031f8740df41cdcdbc3 Community         All  \n",
       " ee964889da78011366a4bbeeaaaa7271d82e54d5 Community         All  \n",
       " eed3c18ba22e9d250b4fe2aa3bc314d567448246 Community         All  \n",
       " ef0afacad8bfd6a4fd468a4e6f1c2637e85702db Community         All  \n",
       " f11803fa38d7ee01a0c60404e2d485d3c013b5da Community         All  \n",
       " f1c8a2fc282b3b371a0c021202dbca2043d70015 Community         All  \n",
       " f26636f25ce3772f1ff8938aec9f8cd2e7f58f11 Community         All  \n",
       " f33be02c9ec99677fdf5cb7a8ff7cad3a39246ee Community         All  \n",
       " f37c901df202efedf6d6b03315da1a0dfdc492d0 Community         All  \n",
       " f5525062fc1b00c2c3e1c0b5ba127bed88e3162b Community         All  \n",
       " f5eb2857a2529a2b060a5b0bf47e6340379d7952 Community         All  \n",
       " f829bbd901d6627ab345734eef5e16e38660b9a1 Community         All  \n",
       " fb0b7984fa9ba3b71b0b7da79cc620ee4111fa35 Community         All  \n",
       " fc392d7c5f4bb0d275013e4746b8a30791c17f71 Community         All  \n",
       " ff66e434e7144b5a9bbc2349240de47b2176c0ee Community         All  \n",
       " ff80d7a947fb79ed32296c947eb2877b23848ad2 Community         All  \n",
       " ffc80cdd2aefd7ec0b8fddf6fea18489c40e8c04 Community         All  \n",
       " \n",
       " [572 rows x 3 columns]]"
      ]
     },
     "execution_count": 17,
     "metadata": {},
     "output_type": "execute_result"
    }
   ],
   "source": [
    "###\n",
    "## CREATE A DF CONTAINING, FOR EACH AUTHOR UUID, COUNT OF YEARS OF EXPERIENCE (YEARS\n",
    "## WITH MORE THAN N COMMITS MADE) AND LAST YEAR ACTIVE\n",
    "###\n",
    "exp_df_list = []\n",
    "year = 2016\n",
    "\n",
    "for result in results:\n",
    "    exp_df = ut.to_df_by_time(result, 'Author', 'Time', 'Commits', 'Org', 'authors', 'time', 'commits', 'org')\n",
    "    exp_df['Time'] = exp_df['Time'].apply(lambda x: str(pandas.Period(x,'A')))\n",
    "    \n",
    "    ## ACTIVE CONDITION #################################\n",
    "    ## Filter those having less than N commits per year\n",
    "    exp_df = exp_df[exp_df['Commits'] >= 1]\n",
    "    #####################################################\n",
    "    \n",
    "    ## Group by author, get MAX YEAR and NUMBER OF ROWS FOR THE GIVEN AUTHOR\n",
    "    exp_df = exp_df.groupby(['Author', 'Org']).agg({'Time': 'max', 'Commits': 'count'})\n",
    "    ## Filter those whose last active year is not the one we want\n",
    "    exp_df = exp_df[exp_df['Time'] == str(year)]\n",
    "    \n",
    "    exp_df['exp'] = exp_df['Commits']\n",
    "    exp_df['last_active'] = exp_df['Time']\n",
    "    exp_df= exp_df.drop('Commits', axis=1)\n",
    "    exp_df = exp_df.drop('Time', axis=1)\n",
    "    \n",
    "    exp_df['project'] = project_name\n",
    "    \n",
    "    exp_df_list.append(exp_df)\n",
    "    \n",
    "    year -= 1\n",
    "\n",
    "exp_df_list"
   ]
  },
  {
   "cell_type": "code",
   "execution_count": 23,
   "metadata": {
    "collapsed": false,
    "scrolled": false
   },
   "outputs": [
    {
     "data": {
      "text/html": [
       "<script>requirejs.config({paths: { 'plotly': ['https://cdn.plot.ly/plotly-latest.min']},});if(!window.Plotly) {{require(['plotly'],function(plotly) {window.Plotly=plotly;});}}</script>"
      ],
      "text/vnd.plotly.v1+html": [
       "<script>requirejs.config({paths: { 'plotly': ['https://cdn.plot.ly/plotly-latest.min']},});if(!window.Plotly) {{require(['plotly'],function(plotly) {window.Plotly=plotly;});}}</script>"
      ]
     },
     "metadata": {},
     "output_type": "display_data"
    },
    {
     "data": {
      "application/vnd.plotly.v1+json": {
       "data": [
        {
         "orientation": "h",
         "type": "bar",
         "x": [
          2454,
          763,
          342,
          225,
          160,
          129,
          56,
          59,
          54,
          40,
          2,
          4,
          1,
          0,
          1,
          0,
          3
         ],
         "y": [
          1,
          2,
          3,
          4,
          5,
          6,
          7,
          8,
          9,
          10,
          11,
          12,
          13,
          14,
          15,
          16,
          17
         ]
        }
       ],
       "layout": {
        "barmode": "group",
        "title": "All 2016"
       }
      },
      "text/html": [
       "<div id=\"786c2930-8448-4031-907d-d67ef444fcce\" style=\"height: 525px; width: 100%;\" class=\"plotly-graph-div\"></div><script type=\"text/javascript\">require([\"plotly\"], function(Plotly) { window.PLOTLYENV=window.PLOTLYENV || {};window.PLOTLYENV.BASE_URL=\"https://plot.ly\";Plotly.newPlot(\"786c2930-8448-4031-907d-d67ef444fcce\", [{\"type\": \"bar\", \"y\": [1, 2, 3, 4, 5, 6, 7, 8, 9, 10, 11, 12, 13, 14, 15, 16, 17], \"orientation\": \"h\", \"x\": [2454, 763, 342, 225, 160, 129, 56, 59, 54, 40, 2, 4, 1, 0, 1, 0, 3]}], {\"title\": \"All 2016\", \"barmode\": \"group\"}, {\"linkText\": \"Export to plot.ly\", \"showLink\": true})});</script>"
      ],
      "text/vnd.plotly.v1+html": [
       "<div id=\"786c2930-8448-4031-907d-d67ef444fcce\" style=\"height: 525px; width: 100%;\" class=\"plotly-graph-div\"></div><script type=\"text/javascript\">require([\"plotly\"], function(Plotly) { window.PLOTLYENV=window.PLOTLYENV || {};window.PLOTLYENV.BASE_URL=\"https://plot.ly\";Plotly.newPlot(\"786c2930-8448-4031-907d-d67ef444fcce\", [{\"type\": \"bar\", \"y\": [1, 2, 3, 4, 5, 6, 7, 8, 9, 10, 11, 12, 13, 14, 15, 16, 17], \"orientation\": \"h\", \"x\": [2454, 763, 342, 225, 160, 129, 56, 59, 54, 40, 2, 4, 1, 0, 1, 0, 3]}], {\"title\": \"All 2016\", \"barmode\": \"group\"}, {\"linkText\": \"Export to plot.ly\", \"showLink\": true})});</script>"
      ]
     },
     "metadata": {},
     "output_type": "display_data"
    },
    {
     "data": {
      "text/html": [
       "<script>requirejs.config({paths: { 'plotly': ['https://cdn.plot.ly/plotly-latest.min']},});if(!window.Plotly) {{require(['plotly'],function(plotly) {window.Plotly=plotly;});}}</script>"
      ],
      "text/vnd.plotly.v1+html": [
       "<script>requirejs.config({paths: { 'plotly': ['https://cdn.plot.ly/plotly-latest.min']},});if(!window.Plotly) {{require(['plotly'],function(plotly) {window.Plotly=plotly;});}}</script>"
      ]
     },
     "metadata": {},
     "output_type": "display_data"
    },
    {
     "data": {
      "application/vnd.plotly.v1+json": {
       "data": [
        {
         "orientation": "h",
         "type": "bar",
         "x": [
          125,
          146,
          124,
          140,
          127,
          110,
          48,
          50,
          44,
          36,
          2,
          4,
          1,
          0,
          1,
          0,
          3
         ],
         "y": [
          1,
          2,
          3,
          4,
          5,
          6,
          7,
          8,
          9,
          10,
          11,
          12,
          13,
          14,
          15,
          16,
          17
         ]
        }
       ],
       "layout": {
        "barmode": "group",
        "title": "All employees 2016"
       }
      },
      "text/html": [
       "<div id=\"baf1db8f-18c5-4522-8bc9-6d80a94a9b68\" style=\"height: 525px; width: 100%;\" class=\"plotly-graph-div\"></div><script type=\"text/javascript\">require([\"plotly\"], function(Plotly) { window.PLOTLYENV=window.PLOTLYENV || {};window.PLOTLYENV.BASE_URL=\"https://plot.ly\";Plotly.newPlot(\"baf1db8f-18c5-4522-8bc9-6d80a94a9b68\", [{\"type\": \"bar\", \"y\": [1, 2, 3, 4, 5, 6, 7, 8, 9, 10, 11, 12, 13, 14, 15, 16, 17], \"orientation\": \"h\", \"x\": [125, 146, 124, 140, 127, 110, 48, 50, 44, 36, 2, 4, 1, 0, 1, 0, 3]}], {\"title\": \"All employees 2016\", \"barmode\": \"group\"}, {\"linkText\": \"Export to plot.ly\", \"showLink\": true})});</script>"
      ],
      "text/vnd.plotly.v1+html": [
       "<div id=\"baf1db8f-18c5-4522-8bc9-6d80a94a9b68\" style=\"height: 525px; width: 100%;\" class=\"plotly-graph-div\"></div><script type=\"text/javascript\">require([\"plotly\"], function(Plotly) { window.PLOTLYENV=window.PLOTLYENV || {};window.PLOTLYENV.BASE_URL=\"https://plot.ly\";Plotly.newPlot(\"baf1db8f-18c5-4522-8bc9-6d80a94a9b68\", [{\"type\": \"bar\", \"y\": [1, 2, 3, 4, 5, 6, 7, 8, 9, 10, 11, 12, 13, 14, 15, 16, 17], \"orientation\": \"h\", \"x\": [125, 146, 124, 140, 127, 110, 48, 50, 44, 36, 2, 4, 1, 0, 1, 0, 3]}], {\"title\": \"All employees 2016\", \"barmode\": \"group\"}, {\"linkText\": \"Export to plot.ly\", \"showLink\": true})});</script>"
      ]
     },
     "metadata": {},
     "output_type": "display_data"
    },
    {
     "data": {
      "text/html": [
       "<script>requirejs.config({paths: { 'plotly': ['https://cdn.plot.ly/plotly-latest.min']},});if(!window.Plotly) {{require(['plotly'],function(plotly) {window.Plotly=plotly;});}}</script>"
      ],
      "text/vnd.plotly.v1+html": [
       "<script>requirejs.config({paths: { 'plotly': ['https://cdn.plot.ly/plotly-latest.min']},});if(!window.Plotly) {{require(['plotly'],function(plotly) {window.Plotly=plotly;});}}</script>"
      ]
     },
     "metadata": {},
     "output_type": "display_data"
    },
    {
     "data": {
      "application/vnd.plotly.v1+json": {
       "data": [
        {
         "orientation": "h",
         "type": "bar",
         "x": [
          2329,
          617,
          218,
          85,
          33,
          19,
          8,
          9,
          10,
          4
         ],
         "y": [
          1,
          2,
          3,
          4,
          5,
          6,
          7,
          8,
          9,
          10
         ]
        }
       ],
       "layout": {
        "barmode": "group",
        "title": "All non-employees 2016"
       }
      },
      "text/html": [
       "<div id=\"f8497f37-be64-4c4b-94cc-be5bb0405ea7\" style=\"height: 525px; width: 100%;\" class=\"plotly-graph-div\"></div><script type=\"text/javascript\">require([\"plotly\"], function(Plotly) { window.PLOTLYENV=window.PLOTLYENV || {};window.PLOTLYENV.BASE_URL=\"https://plot.ly\";Plotly.newPlot(\"f8497f37-be64-4c4b-94cc-be5bb0405ea7\", [{\"type\": \"bar\", \"y\": [1, 2, 3, 4, 5, 6, 7, 8, 9, 10], \"orientation\": \"h\", \"x\": [2329, 617, 218, 85, 33, 19, 8, 9, 10, 4]}], {\"title\": \"All non-employees 2016\", \"barmode\": \"group\"}, {\"linkText\": \"Export to plot.ly\", \"showLink\": true})});</script>"
      ],
      "text/vnd.plotly.v1+html": [
       "<div id=\"f8497f37-be64-4c4b-94cc-be5bb0405ea7\" style=\"height: 525px; width: 100%;\" class=\"plotly-graph-div\"></div><script type=\"text/javascript\">require([\"plotly\"], function(Plotly) { window.PLOTLYENV=window.PLOTLYENV || {};window.PLOTLYENV.BASE_URL=\"https://plot.ly\";Plotly.newPlot(\"f8497f37-be64-4c4b-94cc-be5bb0405ea7\", [{\"type\": \"bar\", \"y\": [1, 2, 3, 4, 5, 6, 7, 8, 9, 10], \"orientation\": \"h\", \"x\": [2329, 617, 218, 85, 33, 19, 8, 9, 10, 4]}], {\"title\": \"All non-employees 2016\", \"barmode\": \"group\"}, {\"linkText\": \"Export to plot.ly\", \"showLink\": true})});</script>"
      ]
     },
     "metadata": {},
     "output_type": "display_data"
    }
   ],
   "source": [
    "# Plot bar charts for each dataframe\n",
    "i = 0\n",
    "for exp_df in exp_df_list:\n",
    "    if not exp_df.empty:\n",
    "        ut.print_horizontal_bar_chart(exp_df, 'exp', title=project_name + ' ' + str(2016 - i), min_range=1)\n",
    "        \n",
    "        employees_df = exp_df[[group2 in ['Mozilla Staff'] for group1, group2 in exp_df.index]]\n",
    "        if len(employees_df) > 0:\n",
    "            ut.print_horizontal_bar_chart(employees_df, 'exp', title=project_name + ' employees ' + str(2016 - i), \n",
    "                                       min_range=1)\n",
    "        \n",
    "        non_employees_df = exp_df[[group2 not in ['Mozilla Staff'] for group1, group2 in exp_df.index]]\n",
    "        if len(non_employees_df):\n",
    "            ut.print_horizontal_bar_chart(non_employees_df, 'exp', \n",
    "                                       title=project_name + ' non-employees ' + str(2016 - i), min_range=1)\n",
    "    i += 1\n",
    "    ## GET DATA ONLY FOR 2016 (AS IT'S THE ONLY WE USE IN THE REPORT RIGHT NOW)\n",
    "    break"
   ]
  },
  {
   "cell_type": "markdown",
   "metadata": {},
   "source": [
    "### Evolution of Experience\n",
    "\n",
    "Next table and plot show how each group changes over time. This way we can visualize how new people come and remain in the community. It is worth to note that we are not following a given group of people through time (it could be done following diagonals in the table, we look at this in the next section), but looking at how a given group changes from one year to another. \n",
    "\n",
    "For instance, if we look at the group of 2 years of experience in 2008 we see we had 204 people. If we look at the same group in 2009 we see that our **new group** of people accumulating 2 years of experience has 105 people. So, it seems we have fewer people with 2 years of experience in 2009. If we look at 2016 we find 226 people with two years of experience, so we have more people with 2 years of experience nowadays than we had 8 years ago.\n",
    "\n",
    "Table can be read as follows:\n",
    "\n",
    "* Cell values corresponds to the number of contributors in the given group.\n",
    "* Rows corresponds to groups based on years of experience.\n",
    "* Columns corresponds to years we are analyzing. "
   ]
  },
  {
   "cell_type": "code",
   "execution_count": 19,
   "metadata": {
    "collapsed": false
   },
   "outputs": [
    {
     "data": {
      "text/html": [
       "<div>\n",
       "<table border=\"1\" class=\"dataframe\">\n",
       "  <thead>\n",
       "    <tr style=\"text-align: right;\">\n",
       "      <th></th>\n",
       "      <th>2007</th>\n",
       "      <th>2008</th>\n",
       "      <th>2009</th>\n",
       "      <th>2010</th>\n",
       "      <th>2011</th>\n",
       "      <th>2012</th>\n",
       "      <th>2013</th>\n",
       "      <th>2014</th>\n",
       "      <th>2015</th>\n",
       "      <th>2016</th>\n",
       "    </tr>\n",
       "    <tr>\n",
       "      <th>exp</th>\n",
       "      <th></th>\n",
       "      <th></th>\n",
       "      <th></th>\n",
       "      <th></th>\n",
       "      <th></th>\n",
       "      <th></th>\n",
       "      <th></th>\n",
       "      <th></th>\n",
       "      <th></th>\n",
       "      <th></th>\n",
       "    </tr>\n",
       "  </thead>\n",
       "  <tbody>\n",
       "    <tr>\n",
       "      <th>1.0</th>\n",
       "      <td>390.0</td>\n",
       "      <td>498.0</td>\n",
       "      <td>536.0</td>\n",
       "      <td>709.0</td>\n",
       "      <td>973.0</td>\n",
       "      <td>1139.0</td>\n",
       "      <td>1623.0</td>\n",
       "      <td>2358.0</td>\n",
       "      <td>2564.0</td>\n",
       "      <td>2454.0</td>\n",
       "    </tr>\n",
       "    <tr>\n",
       "      <th>2.0</th>\n",
       "      <td>63.0</td>\n",
       "      <td>230.0</td>\n",
       "      <td>207.0</td>\n",
       "      <td>206.0</td>\n",
       "      <td>237.0</td>\n",
       "      <td>390.0</td>\n",
       "      <td>441.0</td>\n",
       "      <td>595.0</td>\n",
       "      <td>715.0</td>\n",
       "      <td>763.0</td>\n",
       "    </tr>\n",
       "    <tr>\n",
       "      <th>3.0</th>\n",
       "      <td>40.0</td>\n",
       "      <td>14.0</td>\n",
       "      <td>105.0</td>\n",
       "      <td>138.0</td>\n",
       "      <td>141.0</td>\n",
       "      <td>149.0</td>\n",
       "      <td>241.0</td>\n",
       "      <td>312.0</td>\n",
       "      <td>346.0</td>\n",
       "      <td>342.0</td>\n",
       "    </tr>\n",
       "    <tr>\n",
       "      <th>4.0</th>\n",
       "      <td>27.0</td>\n",
       "      <td>13.0</td>\n",
       "      <td>10.0</td>\n",
       "      <td>83.0</td>\n",
       "      <td>116.0</td>\n",
       "      <td>102.0</td>\n",
       "      <td>109.0</td>\n",
       "      <td>187.0</td>\n",
       "      <td>212.0</td>\n",
       "      <td>225.0</td>\n",
       "    </tr>\n",
       "    <tr>\n",
       "      <th>5.0</th>\n",
       "      <td>14.0</td>\n",
       "      <td>2.0</td>\n",
       "      <td>10.0</td>\n",
       "      <td>7.0</td>\n",
       "      <td>78.0</td>\n",
       "      <td>93.0</td>\n",
       "      <td>79.0</td>\n",
       "      <td>82.0</td>\n",
       "      <td>156.0</td>\n",
       "      <td>160.0</td>\n",
       "    </tr>\n",
       "    <tr>\n",
       "      <th>6.0</th>\n",
       "      <td>15.0</td>\n",
       "      <td>0.0</td>\n",
       "      <td>2.0</td>\n",
       "      <td>10.0</td>\n",
       "      <td>5.0</td>\n",
       "      <td>68.0</td>\n",
       "      <td>79.0</td>\n",
       "      <td>69.0</td>\n",
       "      <td>68.0</td>\n",
       "      <td>129.0</td>\n",
       "    </tr>\n",
       "    <tr>\n",
       "      <th>7.0</th>\n",
       "      <td>6.0</td>\n",
       "      <td>5.0</td>\n",
       "      <td>0.0</td>\n",
       "      <td>2.0</td>\n",
       "      <td>10.0</td>\n",
       "      <td>4.0</td>\n",
       "      <td>55.0</td>\n",
       "      <td>69.0</td>\n",
       "      <td>66.0</td>\n",
       "      <td>56.0</td>\n",
       "    </tr>\n",
       "    <tr>\n",
       "      <th>8.0</th>\n",
       "      <td>9.0</td>\n",
       "      <td>0.0</td>\n",
       "      <td>3.0</td>\n",
       "      <td>1.0</td>\n",
       "      <td>2.0</td>\n",
       "      <td>7.0</td>\n",
       "      <td>3.0</td>\n",
       "      <td>51.0</td>\n",
       "      <td>64.0</td>\n",
       "      <td>59.0</td>\n",
       "    </tr>\n",
       "    <tr>\n",
       "      <th>9.0</th>\n",
       "      <td>6.0</td>\n",
       "      <td>4.0</td>\n",
       "      <td>0.0</td>\n",
       "      <td>3.0</td>\n",
       "      <td>0.0</td>\n",
       "      <td>1.0</td>\n",
       "      <td>7.0</td>\n",
       "      <td>2.0</td>\n",
       "      <td>47.0</td>\n",
       "      <td>54.0</td>\n",
       "    </tr>\n",
       "    <tr>\n",
       "      <th>10.0</th>\n",
       "      <td>2.0</td>\n",
       "      <td>2.0</td>\n",
       "      <td>4.0</td>\n",
       "      <td>0.0</td>\n",
       "      <td>2.0</td>\n",
       "      <td>0.0</td>\n",
       "      <td>1.0</td>\n",
       "      <td>6.0</td>\n",
       "      <td>2.0</td>\n",
       "      <td>40.0</td>\n",
       "    </tr>\n",
       "    <tr>\n",
       "      <th>11.0</th>\n",
       "      <td>0.0</td>\n",
       "      <td>0.0</td>\n",
       "      <td>2.0</td>\n",
       "      <td>4.0</td>\n",
       "      <td>0.0</td>\n",
       "      <td>2.0</td>\n",
       "      <td>0.0</td>\n",
       "      <td>1.0</td>\n",
       "      <td>6.0</td>\n",
       "      <td>2.0</td>\n",
       "    </tr>\n",
       "    <tr>\n",
       "      <th>12.0</th>\n",
       "      <td>0.0</td>\n",
       "      <td>0.0</td>\n",
       "      <td>0.0</td>\n",
       "      <td>2.0</td>\n",
       "      <td>3.0</td>\n",
       "      <td>0.0</td>\n",
       "      <td>2.0</td>\n",
       "      <td>0.0</td>\n",
       "      <td>1.0</td>\n",
       "      <td>4.0</td>\n",
       "    </tr>\n",
       "    <tr>\n",
       "      <th>13.0</th>\n",
       "      <td>0.0</td>\n",
       "      <td>0.0</td>\n",
       "      <td>0.0</td>\n",
       "      <td>0.0</td>\n",
       "      <td>2.0</td>\n",
       "      <td>3.0</td>\n",
       "      <td>0.0</td>\n",
       "      <td>1.0</td>\n",
       "      <td>0.0</td>\n",
       "      <td>1.0</td>\n",
       "    </tr>\n",
       "    <tr>\n",
       "      <th>14.0</th>\n",
       "      <td>0.0</td>\n",
       "      <td>0.0</td>\n",
       "      <td>0.0</td>\n",
       "      <td>0.0</td>\n",
       "      <td>0.0</td>\n",
       "      <td>1.0</td>\n",
       "      <td>3.0</td>\n",
       "      <td>0.0</td>\n",
       "      <td>1.0</td>\n",
       "      <td>0.0</td>\n",
       "    </tr>\n",
       "    <tr>\n",
       "      <th>15.0</th>\n",
       "      <td>0.0</td>\n",
       "      <td>0.0</td>\n",
       "      <td>0.0</td>\n",
       "      <td>0.0</td>\n",
       "      <td>0.0</td>\n",
       "      <td>0.0</td>\n",
       "      <td>1.0</td>\n",
       "      <td>3.0</td>\n",
       "      <td>0.0</td>\n",
       "      <td>1.0</td>\n",
       "    </tr>\n",
       "    <tr>\n",
       "      <th>16.0</th>\n",
       "      <td>0.0</td>\n",
       "      <td>0.0</td>\n",
       "      <td>0.0</td>\n",
       "      <td>0.0</td>\n",
       "      <td>0.0</td>\n",
       "      <td>0.0</td>\n",
       "      <td>0.0</td>\n",
       "      <td>0.0</td>\n",
       "      <td>3.0</td>\n",
       "      <td>0.0</td>\n",
       "    </tr>\n",
       "    <tr>\n",
       "      <th>17.0</th>\n",
       "      <td>0.0</td>\n",
       "      <td>0.0</td>\n",
       "      <td>0.0</td>\n",
       "      <td>0.0</td>\n",
       "      <td>0.0</td>\n",
       "      <td>0.0</td>\n",
       "      <td>0.0</td>\n",
       "      <td>0.0</td>\n",
       "      <td>0.0</td>\n",
       "      <td>3.0</td>\n",
       "    </tr>\n",
       "  </tbody>\n",
       "</table>\n",
       "</div>"
      ],
      "text/plain": [
       "       2007   2008   2009   2010   2011    2012    2013    2014    2015  \\\n",
       "exp                                                                       \n",
       "1.0   390.0  498.0  536.0  709.0  973.0  1139.0  1623.0  2358.0  2564.0   \n",
       "2.0    63.0  230.0  207.0  206.0  237.0   390.0   441.0   595.0   715.0   \n",
       "3.0    40.0   14.0  105.0  138.0  141.0   149.0   241.0   312.0   346.0   \n",
       "4.0    27.0   13.0   10.0   83.0  116.0   102.0   109.0   187.0   212.0   \n",
       "5.0    14.0    2.0   10.0    7.0   78.0    93.0    79.0    82.0   156.0   \n",
       "6.0    15.0    0.0    2.0   10.0    5.0    68.0    79.0    69.0    68.0   \n",
       "7.0     6.0    5.0    0.0    2.0   10.0     4.0    55.0    69.0    66.0   \n",
       "8.0     9.0    0.0    3.0    1.0    2.0     7.0     3.0    51.0    64.0   \n",
       "9.0     6.0    4.0    0.0    3.0    0.0     1.0     7.0     2.0    47.0   \n",
       "10.0    2.0    2.0    4.0    0.0    2.0     0.0     1.0     6.0     2.0   \n",
       "11.0    0.0    0.0    2.0    4.0    0.0     2.0     0.0     1.0     6.0   \n",
       "12.0    0.0    0.0    0.0    2.0    3.0     0.0     2.0     0.0     1.0   \n",
       "13.0    0.0    0.0    0.0    0.0    2.0     3.0     0.0     1.0     0.0   \n",
       "14.0    0.0    0.0    0.0    0.0    0.0     1.0     3.0     0.0     1.0   \n",
       "15.0    0.0    0.0    0.0    0.0    0.0     0.0     1.0     3.0     0.0   \n",
       "16.0    0.0    0.0    0.0    0.0    0.0     0.0     0.0     0.0     3.0   \n",
       "17.0    0.0    0.0    0.0    0.0    0.0     0.0     0.0     0.0     0.0   \n",
       "\n",
       "        2016  \n",
       "exp           \n",
       "1.0   2454.0  \n",
       "2.0    763.0  \n",
       "3.0    342.0  \n",
       "4.0    225.0  \n",
       "5.0    160.0  \n",
       "6.0    129.0  \n",
       "7.0     56.0  \n",
       "8.0     59.0  \n",
       "9.0     54.0  \n",
       "10.0    40.0  \n",
       "11.0     2.0  \n",
       "12.0     4.0  \n",
       "13.0     1.0  \n",
       "14.0     0.0  \n",
       "15.0     1.0  \n",
       "16.0     0.0  \n",
       "17.0     3.0  "
      ]
     },
     "execution_count": 19,
     "metadata": {},
     "output_type": "execute_result"
    }
   ],
   "source": [
    "exp_groups_evo_df = pandas.DataFrame(columns=['exp'])\n",
    "\n",
    "for exp_df in exp_df_list:\n",
    "    \n",
    "    if exp_df.empty:\n",
    "        continue\n",
    "    \n",
    "    year = exp_df['last_active'].unique()[0]\n",
    "    exp_groups_df = pandas.DataFrame(columns=['exp', year])\n",
    "    \n",
    "    experience = list(range(1, int(exp_df['exp'].max()) + 1))\n",
    "    \n",
    "    for exp in experience:\n",
    "        count = len(exp_df.loc[exp_df['exp'] == exp])\n",
    "        exp_groups_df.loc[len(exp_groups_df)] = [exp, count]\n",
    "\n",
    "    exp_groups_evo_df = exp_groups_evo_df.merge(exp_groups_df, on='exp', how='outer')\n",
    "\n",
    "\n",
    "# Fill Nan with 0's\n",
    "exp_groups_evo_df = exp_groups_evo_df.fillna(0)\n",
    "\n",
    "# Reorder columns\n",
    "exp_groups_evo_df = exp_groups_evo_df.set_index('exp')\n",
    "exp_groups_evo_df = exp_groups_evo_df.sort_index(axis=1)\n",
    "\n",
    "\n",
    "#print('Max. Exp: ', exp_groups_evo_df['exp'].max(), 'Max. Count: ')\n",
    "exp_groups_evo_df"
   ]
  },
  {
   "cell_type": "markdown",
   "metadata": {},
   "source": [
    "### Employees"
   ]
  },
  {
   "cell_type": "code",
   "execution_count": 20,
   "metadata": {
    "collapsed": false
   },
   "outputs": [
    {
     "data": {
      "text/html": [
       "<div>\n",
       "<table border=\"1\" class=\"dataframe\">\n",
       "  <thead>\n",
       "    <tr style=\"text-align: right;\">\n",
       "      <th></th>\n",
       "      <th>2007</th>\n",
       "      <th>2008</th>\n",
       "      <th>2009</th>\n",
       "      <th>2010</th>\n",
       "      <th>2011</th>\n",
       "      <th>2012</th>\n",
       "      <th>2013</th>\n",
       "      <th>2014</th>\n",
       "      <th>2015</th>\n",
       "      <th>2016</th>\n",
       "    </tr>\n",
       "    <tr>\n",
       "      <th>exp</th>\n",
       "      <th></th>\n",
       "      <th></th>\n",
       "      <th></th>\n",
       "      <th></th>\n",
       "      <th></th>\n",
       "      <th></th>\n",
       "      <th></th>\n",
       "      <th></th>\n",
       "      <th></th>\n",
       "      <th></th>\n",
       "    </tr>\n",
       "  </thead>\n",
       "  <tbody>\n",
       "    <tr>\n",
       "      <th>1.0</th>\n",
       "      <td>125.0</td>\n",
       "      <td>138.0</td>\n",
       "      <td>141.0</td>\n",
       "      <td>156.0</td>\n",
       "      <td>250.0</td>\n",
       "      <td>285.0</td>\n",
       "      <td>303.0</td>\n",
       "      <td>250.0</td>\n",
       "      <td>179.0</td>\n",
       "      <td>125.0</td>\n",
       "    </tr>\n",
       "    <tr>\n",
       "      <th>2.0</th>\n",
       "      <td>8.0</td>\n",
       "      <td>96.0</td>\n",
       "      <td>108.0</td>\n",
       "      <td>102.0</td>\n",
       "      <td>103.0</td>\n",
       "      <td>192.0</td>\n",
       "      <td>213.0</td>\n",
       "      <td>234.0</td>\n",
       "      <td>168.0</td>\n",
       "      <td>146.0</td>\n",
       "    </tr>\n",
       "    <tr>\n",
       "      <th>3.0</th>\n",
       "      <td>10.0</td>\n",
       "      <td>8.0</td>\n",
       "      <td>81.0</td>\n",
       "      <td>89.0</td>\n",
       "      <td>88.0</td>\n",
       "      <td>85.0</td>\n",
       "      <td>169.0</td>\n",
       "      <td>199.0</td>\n",
       "      <td>184.0</td>\n",
       "      <td>124.0</td>\n",
       "    </tr>\n",
       "    <tr>\n",
       "      <th>4.0</th>\n",
       "      <td>2.0</td>\n",
       "      <td>10.0</td>\n",
       "      <td>6.0</td>\n",
       "      <td>72.0</td>\n",
       "      <td>80.0</td>\n",
       "      <td>72.0</td>\n",
       "      <td>76.0</td>\n",
       "      <td>147.0</td>\n",
       "      <td>161.0</td>\n",
       "      <td>140.0</td>\n",
       "    </tr>\n",
       "    <tr>\n",
       "      <th>5.0</th>\n",
       "      <td>0.0</td>\n",
       "      <td>2.0</td>\n",
       "      <td>10.0</td>\n",
       "      <td>4.0</td>\n",
       "      <td>68.0</td>\n",
       "      <td>70.0</td>\n",
       "      <td>63.0</td>\n",
       "      <td>62.0</td>\n",
       "      <td>127.0</td>\n",
       "      <td>127.0</td>\n",
       "    </tr>\n",
       "    <tr>\n",
       "      <th>6.0</th>\n",
       "      <td>3.0</td>\n",
       "      <td>0.0</td>\n",
       "      <td>2.0</td>\n",
       "      <td>10.0</td>\n",
       "      <td>4.0</td>\n",
       "      <td>60.0</td>\n",
       "      <td>65.0</td>\n",
       "      <td>55.0</td>\n",
       "      <td>56.0</td>\n",
       "      <td>110.0</td>\n",
       "    </tr>\n",
       "    <tr>\n",
       "      <th>7.0</th>\n",
       "      <td>0.0</td>\n",
       "      <td>3.0</td>\n",
       "      <td>0.0</td>\n",
       "      <td>2.0</td>\n",
       "      <td>10.0</td>\n",
       "      <td>4.0</td>\n",
       "      <td>50.0</td>\n",
       "      <td>57.0</td>\n",
       "      <td>57.0</td>\n",
       "      <td>48.0</td>\n",
       "    </tr>\n",
       "    <tr>\n",
       "      <th>8.0</th>\n",
       "      <td>4.0</td>\n",
       "      <td>0.0</td>\n",
       "      <td>2.0</td>\n",
       "      <td>1.0</td>\n",
       "      <td>1.0</td>\n",
       "      <td>7.0</td>\n",
       "      <td>3.0</td>\n",
       "      <td>46.0</td>\n",
       "      <td>54.0</td>\n",
       "      <td>50.0</td>\n",
       "    </tr>\n",
       "    <tr>\n",
       "      <th>9.0</th>\n",
       "      <td>2.0</td>\n",
       "      <td>4.0</td>\n",
       "      <td>0.0</td>\n",
       "      <td>2.0</td>\n",
       "      <td>0.0</td>\n",
       "      <td>1.0</td>\n",
       "      <td>7.0</td>\n",
       "      <td>2.0</td>\n",
       "      <td>42.0</td>\n",
       "      <td>44.0</td>\n",
       "    </tr>\n",
       "    <tr>\n",
       "      <th>10.0</th>\n",
       "      <td>0.0</td>\n",
       "      <td>2.0</td>\n",
       "      <td>4.0</td>\n",
       "      <td>0.0</td>\n",
       "      <td>2.0</td>\n",
       "      <td>0.0</td>\n",
       "      <td>1.0</td>\n",
       "      <td>6.0</td>\n",
       "      <td>2.0</td>\n",
       "      <td>36.0</td>\n",
       "    </tr>\n",
       "    <tr>\n",
       "      <th>11.0</th>\n",
       "      <td>0.0</td>\n",
       "      <td>0.0</td>\n",
       "      <td>2.0</td>\n",
       "      <td>4.0</td>\n",
       "      <td>0.0</td>\n",
       "      <td>2.0</td>\n",
       "      <td>0.0</td>\n",
       "      <td>1.0</td>\n",
       "      <td>6.0</td>\n",
       "      <td>2.0</td>\n",
       "    </tr>\n",
       "    <tr>\n",
       "      <th>12.0</th>\n",
       "      <td>0.0</td>\n",
       "      <td>0.0</td>\n",
       "      <td>0.0</td>\n",
       "      <td>2.0</td>\n",
       "      <td>3.0</td>\n",
       "      <td>0.0</td>\n",
       "      <td>2.0</td>\n",
       "      <td>0.0</td>\n",
       "      <td>1.0</td>\n",
       "      <td>4.0</td>\n",
       "    </tr>\n",
       "    <tr>\n",
       "      <th>13.0</th>\n",
       "      <td>0.0</td>\n",
       "      <td>0.0</td>\n",
       "      <td>0.0</td>\n",
       "      <td>0.0</td>\n",
       "      <td>2.0</td>\n",
       "      <td>3.0</td>\n",
       "      <td>0.0</td>\n",
       "      <td>1.0</td>\n",
       "      <td>0.0</td>\n",
       "      <td>1.0</td>\n",
       "    </tr>\n",
       "    <tr>\n",
       "      <th>14.0</th>\n",
       "      <td>0.0</td>\n",
       "      <td>0.0</td>\n",
       "      <td>0.0</td>\n",
       "      <td>0.0</td>\n",
       "      <td>0.0</td>\n",
       "      <td>1.0</td>\n",
       "      <td>3.0</td>\n",
       "      <td>0.0</td>\n",
       "      <td>1.0</td>\n",
       "      <td>0.0</td>\n",
       "    </tr>\n",
       "    <tr>\n",
       "      <th>15.0</th>\n",
       "      <td>0.0</td>\n",
       "      <td>0.0</td>\n",
       "      <td>0.0</td>\n",
       "      <td>0.0</td>\n",
       "      <td>0.0</td>\n",
       "      <td>0.0</td>\n",
       "      <td>1.0</td>\n",
       "      <td>3.0</td>\n",
       "      <td>0.0</td>\n",
       "      <td>1.0</td>\n",
       "    </tr>\n",
       "    <tr>\n",
       "      <th>16.0</th>\n",
       "      <td>0.0</td>\n",
       "      <td>0.0</td>\n",
       "      <td>0.0</td>\n",
       "      <td>0.0</td>\n",
       "      <td>0.0</td>\n",
       "      <td>0.0</td>\n",
       "      <td>0.0</td>\n",
       "      <td>0.0</td>\n",
       "      <td>3.0</td>\n",
       "      <td>0.0</td>\n",
       "    </tr>\n",
       "    <tr>\n",
       "      <th>17.0</th>\n",
       "      <td>0.0</td>\n",
       "      <td>0.0</td>\n",
       "      <td>0.0</td>\n",
       "      <td>0.0</td>\n",
       "      <td>0.0</td>\n",
       "      <td>0.0</td>\n",
       "      <td>0.0</td>\n",
       "      <td>0.0</td>\n",
       "      <td>0.0</td>\n",
       "      <td>3.0</td>\n",
       "    </tr>\n",
       "  </tbody>\n",
       "</table>\n",
       "</div>"
      ],
      "text/plain": [
       "       2007   2008   2009   2010   2011   2012   2013   2014   2015   2016\n",
       "exp                                                                       \n",
       "1.0   125.0  138.0  141.0  156.0  250.0  285.0  303.0  250.0  179.0  125.0\n",
       "2.0     8.0   96.0  108.0  102.0  103.0  192.0  213.0  234.0  168.0  146.0\n",
       "3.0    10.0    8.0   81.0   89.0   88.0   85.0  169.0  199.0  184.0  124.0\n",
       "4.0     2.0   10.0    6.0   72.0   80.0   72.0   76.0  147.0  161.0  140.0\n",
       "5.0     0.0    2.0   10.0    4.0   68.0   70.0   63.0   62.0  127.0  127.0\n",
       "6.0     3.0    0.0    2.0   10.0    4.0   60.0   65.0   55.0   56.0  110.0\n",
       "7.0     0.0    3.0    0.0    2.0   10.0    4.0   50.0   57.0   57.0   48.0\n",
       "8.0     4.0    0.0    2.0    1.0    1.0    7.0    3.0   46.0   54.0   50.0\n",
       "9.0     2.0    4.0    0.0    2.0    0.0    1.0    7.0    2.0   42.0   44.0\n",
       "10.0    0.0    2.0    4.0    0.0    2.0    0.0    1.0    6.0    2.0   36.0\n",
       "11.0    0.0    0.0    2.0    4.0    0.0    2.0    0.0    1.0    6.0    2.0\n",
       "12.0    0.0    0.0    0.0    2.0    3.0    0.0    2.0    0.0    1.0    4.0\n",
       "13.0    0.0    0.0    0.0    0.0    2.0    3.0    0.0    1.0    0.0    1.0\n",
       "14.0    0.0    0.0    0.0    0.0    0.0    1.0    3.0    0.0    1.0    0.0\n",
       "15.0    0.0    0.0    0.0    0.0    0.0    0.0    1.0    3.0    0.0    1.0\n",
       "16.0    0.0    0.0    0.0    0.0    0.0    0.0    0.0    0.0    3.0    0.0\n",
       "17.0    0.0    0.0    0.0    0.0    0.0    0.0    0.0    0.0    0.0    3.0"
      ]
     },
     "execution_count": 20,
     "metadata": {},
     "output_type": "execute_result"
    }
   ],
   "source": [
    "exp_groups_evo_moz_df = pandas.DataFrame(columns=['exp'])\n",
    "\n",
    "for exp_df in exp_df_list:\n",
    "    \n",
    "    if exp_df.empty:\n",
    "        continue\n",
    "        \n",
    "    exp_df = exp_df[[group2 in ['Mozilla Staff'] for group1, group2 in exp_df.index]]\n",
    "    \n",
    "    year = exp_df['last_active'].unique()[0]\n",
    "    exp_groups_df = pandas.DataFrame(columns=['exp', year])\n",
    "    \n",
    "    experience = list(range(1, int(exp_df['exp'].max()) + 1))\n",
    "    \n",
    "    for exp in experience:\n",
    "        count = len(exp_df.loc[exp_df['exp'] == exp])\n",
    "        exp_groups_df.loc[len(exp_groups_df)] = [exp, count]\n",
    "\n",
    "    exp_groups_evo_moz_df = exp_groups_evo_moz_df.merge(exp_groups_df, on='exp', how='outer')\n",
    "\n",
    "\n",
    "# Fill Nan with 0's\n",
    "exp_groups_evo_moz_df = exp_groups_evo_moz_df.fillna(0)\n",
    "\n",
    "# Reorder columns\n",
    "exp_groups_evo_moz_df = exp_groups_evo_moz_df.set_index('exp')\n",
    "exp_groups_evo_moz_df = exp_groups_evo_moz_df.sort_index(axis=1)\n",
    "\n",
    "\n",
    "#print('Max. Exp: ', exp_groups_evo_moz_df['exp'].max(), 'Max. Count: ')\n",
    "exp_groups_evo_moz_df"
   ]
  },
  {
   "cell_type": "markdown",
   "metadata": {},
   "source": [
    "### Non-employees"
   ]
  },
  {
   "cell_type": "code",
   "execution_count": 21,
   "metadata": {
    "collapsed": false,
    "scrolled": true
   },
   "outputs": [
    {
     "data": {
      "text/html": [
       "<div>\n",
       "<table border=\"1\" class=\"dataframe\">\n",
       "  <thead>\n",
       "    <tr style=\"text-align: right;\">\n",
       "      <th></th>\n",
       "      <th>2007</th>\n",
       "      <th>2008</th>\n",
       "      <th>2009</th>\n",
       "      <th>2010</th>\n",
       "      <th>2011</th>\n",
       "      <th>2012</th>\n",
       "      <th>2013</th>\n",
       "      <th>2014</th>\n",
       "      <th>2015</th>\n",
       "      <th>2016</th>\n",
       "    </tr>\n",
       "    <tr>\n",
       "      <th>exp</th>\n",
       "      <th></th>\n",
       "      <th></th>\n",
       "      <th></th>\n",
       "      <th></th>\n",
       "      <th></th>\n",
       "      <th></th>\n",
       "      <th></th>\n",
       "      <th></th>\n",
       "      <th></th>\n",
       "      <th></th>\n",
       "    </tr>\n",
       "  </thead>\n",
       "  <tbody>\n",
       "    <tr>\n",
       "      <th>1.0</th>\n",
       "      <td>265.0</td>\n",
       "      <td>360.0</td>\n",
       "      <td>395.0</td>\n",
       "      <td>553.0</td>\n",
       "      <td>723.0</td>\n",
       "      <td>854.0</td>\n",
       "      <td>1320.0</td>\n",
       "      <td>2108.0</td>\n",
       "      <td>2385.0</td>\n",
       "      <td>2329.0</td>\n",
       "    </tr>\n",
       "    <tr>\n",
       "      <th>2.0</th>\n",
       "      <td>55.0</td>\n",
       "      <td>134.0</td>\n",
       "      <td>99.0</td>\n",
       "      <td>104.0</td>\n",
       "      <td>134.0</td>\n",
       "      <td>198.0</td>\n",
       "      <td>228.0</td>\n",
       "      <td>361.0</td>\n",
       "      <td>547.0</td>\n",
       "      <td>617.0</td>\n",
       "    </tr>\n",
       "    <tr>\n",
       "      <th>3.0</th>\n",
       "      <td>30.0</td>\n",
       "      <td>6.0</td>\n",
       "      <td>24.0</td>\n",
       "      <td>49.0</td>\n",
       "      <td>53.0</td>\n",
       "      <td>64.0</td>\n",
       "      <td>72.0</td>\n",
       "      <td>113.0</td>\n",
       "      <td>162.0</td>\n",
       "      <td>218.0</td>\n",
       "    </tr>\n",
       "    <tr>\n",
       "      <th>4.0</th>\n",
       "      <td>25.0</td>\n",
       "      <td>3.0</td>\n",
       "      <td>4.0</td>\n",
       "      <td>11.0</td>\n",
       "      <td>36.0</td>\n",
       "      <td>30.0</td>\n",
       "      <td>33.0</td>\n",
       "      <td>40.0</td>\n",
       "      <td>51.0</td>\n",
       "      <td>85.0</td>\n",
       "    </tr>\n",
       "    <tr>\n",
       "      <th>5.0</th>\n",
       "      <td>14.0</td>\n",
       "      <td>0.0</td>\n",
       "      <td>0.0</td>\n",
       "      <td>3.0</td>\n",
       "      <td>10.0</td>\n",
       "      <td>23.0</td>\n",
       "      <td>16.0</td>\n",
       "      <td>20.0</td>\n",
       "      <td>29.0</td>\n",
       "      <td>33.0</td>\n",
       "    </tr>\n",
       "    <tr>\n",
       "      <th>6.0</th>\n",
       "      <td>12.0</td>\n",
       "      <td>0.0</td>\n",
       "      <td>0.0</td>\n",
       "      <td>0.0</td>\n",
       "      <td>1.0</td>\n",
       "      <td>8.0</td>\n",
       "      <td>14.0</td>\n",
       "      <td>14.0</td>\n",
       "      <td>12.0</td>\n",
       "      <td>19.0</td>\n",
       "    </tr>\n",
       "    <tr>\n",
       "      <th>7.0</th>\n",
       "      <td>6.0</td>\n",
       "      <td>2.0</td>\n",
       "      <td>0.0</td>\n",
       "      <td>0.0</td>\n",
       "      <td>0.0</td>\n",
       "      <td>0.0</td>\n",
       "      <td>5.0</td>\n",
       "      <td>12.0</td>\n",
       "      <td>9.0</td>\n",
       "      <td>8.0</td>\n",
       "    </tr>\n",
       "    <tr>\n",
       "      <th>8.0</th>\n",
       "      <td>5.0</td>\n",
       "      <td>0.0</td>\n",
       "      <td>1.0</td>\n",
       "      <td>0.0</td>\n",
       "      <td>1.0</td>\n",
       "      <td>0.0</td>\n",
       "      <td>0.0</td>\n",
       "      <td>5.0</td>\n",
       "      <td>10.0</td>\n",
       "      <td>9.0</td>\n",
       "    </tr>\n",
       "    <tr>\n",
       "      <th>9.0</th>\n",
       "      <td>4.0</td>\n",
       "      <td>0.0</td>\n",
       "      <td>0.0</td>\n",
       "      <td>1.0</td>\n",
       "      <td>0.0</td>\n",
       "      <td>0.0</td>\n",
       "      <td>0.0</td>\n",
       "      <td>0.0</td>\n",
       "      <td>5.0</td>\n",
       "      <td>10.0</td>\n",
       "    </tr>\n",
       "    <tr>\n",
       "      <th>10.0</th>\n",
       "      <td>2.0</td>\n",
       "      <td>0.0</td>\n",
       "      <td>0.0</td>\n",
       "      <td>0.0</td>\n",
       "      <td>0.0</td>\n",
       "      <td>0.0</td>\n",
       "      <td>0.0</td>\n",
       "      <td>0.0</td>\n",
       "      <td>0.0</td>\n",
       "      <td>4.0</td>\n",
       "    </tr>\n",
       "  </tbody>\n",
       "</table>\n",
       "</div>"
      ],
      "text/plain": [
       "       2007   2008   2009   2010   2011   2012    2013    2014    2015    2016\n",
       "exp                                                                           \n",
       "1.0   265.0  360.0  395.0  553.0  723.0  854.0  1320.0  2108.0  2385.0  2329.0\n",
       "2.0    55.0  134.0   99.0  104.0  134.0  198.0   228.0   361.0   547.0   617.0\n",
       "3.0    30.0    6.0   24.0   49.0   53.0   64.0    72.0   113.0   162.0   218.0\n",
       "4.0    25.0    3.0    4.0   11.0   36.0   30.0    33.0    40.0    51.0    85.0\n",
       "5.0    14.0    0.0    0.0    3.0   10.0   23.0    16.0    20.0    29.0    33.0\n",
       "6.0    12.0    0.0    0.0    0.0    1.0    8.0    14.0    14.0    12.0    19.0\n",
       "7.0     6.0    2.0    0.0    0.0    0.0    0.0     5.0    12.0     9.0     8.0\n",
       "8.0     5.0    0.0    1.0    0.0    1.0    0.0     0.0     5.0    10.0     9.0\n",
       "9.0     4.0    0.0    0.0    1.0    0.0    0.0     0.0     0.0     5.0    10.0\n",
       "10.0    2.0    0.0    0.0    0.0    0.0    0.0     0.0     0.0     0.0     4.0"
      ]
     },
     "execution_count": 21,
     "metadata": {},
     "output_type": "execute_result"
    }
   ],
   "source": [
    "exp_groups_evo_others_df = pandas.DataFrame(columns=['exp'])\n",
    "\n",
    "for exp_df in exp_df_list:\n",
    "    \n",
    "    if exp_df.empty:\n",
    "        continue\n",
    "        \n",
    "    exp_df = exp_df[[group2 not in ['Mozilla Staff'] for group1, group2 in exp_df.index]]\n",
    "    \n",
    "    if (len(exp_df) == 0):\n",
    "        continue\n",
    "    \n",
    "    year = exp_df['last_active'].unique()[0]\n",
    "    exp_groups_df = pandas.DataFrame(columns=['exp', year])\n",
    "    \n",
    "    experience = list(range(1, int(exp_df['exp'].max()) + 1))\n",
    "    \n",
    "    for exp in experience:\n",
    "        count = len(exp_df.loc[exp_df['exp'] == exp])\n",
    "        exp_groups_df.loc[len(exp_groups_df)] = [exp, count]\n",
    "\n",
    "    exp_groups_evo_others_df = exp_groups_evo_others_df.merge(exp_groups_df, on='exp', how='outer')\n",
    "\n",
    "\n",
    "# Fill Nan with 0's\n",
    "exp_groups_evo_others_df = exp_groups_evo_others_df.fillna(0)\n",
    "\n",
    "# Reorder columns\n",
    "exp_groups_evo_others_df = exp_groups_evo_others_df.set_index('exp')\n",
    "exp_groups_evo_others_df = exp_groups_evo_others_df.sort_index(axis=1)\n",
    "\n",
    "\n",
    "#print('Max. Exp: ', exp_groups_evo_others_df['exp'].max(), 'Max. Count: ')\n",
    "exp_groups_evo_others_df"
   ]
  },
  {
   "cell_type": "markdown",
   "metadata": {},
   "source": [
    "Next plot can be read as follows:\n",
    "* Y axis corresponds to the number of contributors in the given group.\n",
    "* X axis corresponds to years we are looking through.\n",
    "* Each line corresponds to a given group based on their years of experience. "
   ]
  },
  {
   "cell_type": "code",
   "execution_count": 22,
   "metadata": {
    "collapsed": false
   },
   "outputs": [
    {
     "data": {
      "text/html": [
       "<script>requirejs.config({paths: { 'plotly': ['https://cdn.plot.ly/plotly-latest.min']},});if(!window.Plotly) {{require(['plotly'],function(plotly) {window.Plotly=plotly;});}}</script>"
      ],
      "text/vnd.plotly.v1+html": [
       "<script>requirejs.config({paths: { 'plotly': ['https://cdn.plot.ly/plotly-latest.min']},});if(!window.Plotly) {{require(['plotly'],function(plotly) {window.Plotly=plotly;});}}</script>"
      ]
     },
     "metadata": {},
     "output_type": "display_data"
    },
    {
     "data": {
      "application/vnd.plotly.v1+json": {
       "data": [
        {
         "mode": "lines+markers",
         "name": "1 years",
         "type": "scatter",
         "x": [
          "2007",
          "2008",
          "2009",
          "2010",
          "2011",
          "2012",
          "2013",
          "2014",
          "2015",
          "2016"
         ],
         "y": [
          390,
          498,
          536,
          709,
          973,
          1139,
          1623,
          2358,
          2564,
          2454
         ]
        },
        {
         "mode": "lines+markers",
         "name": "2 years",
         "type": "scatter",
         "x": [
          "2007",
          "2008",
          "2009",
          "2010",
          "2011",
          "2012",
          "2013",
          "2014",
          "2015",
          "2016"
         ],
         "y": [
          63,
          230,
          207,
          206,
          237,
          390,
          441,
          595,
          715,
          763
         ]
        },
        {
         "mode": "lines+markers",
         "name": "3 years",
         "type": "scatter",
         "x": [
          "2007",
          "2008",
          "2009",
          "2010",
          "2011",
          "2012",
          "2013",
          "2014",
          "2015",
          "2016"
         ],
         "y": [
          40,
          14,
          105,
          138,
          141,
          149,
          241,
          312,
          346,
          342
         ]
        },
        {
         "mode": "lines+markers",
         "name": "4 years",
         "type": "scatter",
         "x": [
          "2007",
          "2008",
          "2009",
          "2010",
          "2011",
          "2012",
          "2013",
          "2014",
          "2015",
          "2016"
         ],
         "y": [
          27,
          13,
          10,
          83,
          116,
          102,
          109,
          187,
          212,
          225
         ]
        },
        {
         "mode": "lines+markers",
         "name": "5 years",
         "type": "scatter",
         "x": [
          "2007",
          "2008",
          "2009",
          "2010",
          "2011",
          "2012",
          "2013",
          "2014",
          "2015",
          "2016"
         ],
         "y": [
          14,
          2,
          10,
          7,
          78,
          93,
          79,
          82,
          156,
          160
         ]
        },
        {
         "mode": "lines+markers",
         "name": "6 years",
         "type": "scatter",
         "x": [
          "2007",
          "2008",
          "2009",
          "2010",
          "2011",
          "2012",
          "2013",
          "2014",
          "2015",
          "2016"
         ],
         "y": [
          15,
          0,
          2,
          10,
          5,
          68,
          79,
          69,
          68,
          129
         ]
        },
        {
         "mode": "lines+markers",
         "name": "7 years",
         "type": "scatter",
         "x": [
          "2007",
          "2008",
          "2009",
          "2010",
          "2011",
          "2012",
          "2013",
          "2014",
          "2015",
          "2016"
         ],
         "y": [
          6,
          5,
          0,
          2,
          10,
          4,
          55,
          69,
          66,
          56
         ]
        },
        {
         "mode": "lines+markers",
         "name": "8 years",
         "type": "scatter",
         "x": [
          "2007",
          "2008",
          "2009",
          "2010",
          "2011",
          "2012",
          "2013",
          "2014",
          "2015",
          "2016"
         ],
         "y": [
          9,
          0,
          3,
          1,
          2,
          7,
          3,
          51,
          64,
          59
         ]
        },
        {
         "mode": "lines+markers",
         "name": "9 years",
         "type": "scatter",
         "x": [
          "2007",
          "2008",
          "2009",
          "2010",
          "2011",
          "2012",
          "2013",
          "2014",
          "2015",
          "2016"
         ],
         "y": [
          6,
          4,
          0,
          3,
          0,
          1,
          7,
          2,
          47,
          54
         ]
        },
        {
         "mode": "lines+markers",
         "name": "10 years",
         "type": "scatter",
         "x": [
          "2007",
          "2008",
          "2009",
          "2010",
          "2011",
          "2012",
          "2013",
          "2014",
          "2015",
          "2016"
         ],
         "y": [
          2,
          2,
          4,
          0,
          2,
          0,
          1,
          6,
          2,
          40
         ]
        },
        {
         "mode": "lines+markers",
         "name": "11 years",
         "type": "scatter",
         "x": [
          "2007",
          "2008",
          "2009",
          "2010",
          "2011",
          "2012",
          "2013",
          "2014",
          "2015",
          "2016"
         ],
         "y": [
          0,
          0,
          2,
          4,
          0,
          2,
          0,
          1,
          6,
          2
         ]
        },
        {
         "mode": "lines+markers",
         "name": "12 years",
         "type": "scatter",
         "x": [
          "2007",
          "2008",
          "2009",
          "2010",
          "2011",
          "2012",
          "2013",
          "2014",
          "2015",
          "2016"
         ],
         "y": [
          0,
          0,
          0,
          2,
          3,
          0,
          2,
          0,
          1,
          4
         ]
        },
        {
         "mode": "lines+markers",
         "name": "13 years",
         "type": "scatter",
         "x": [
          "2007",
          "2008",
          "2009",
          "2010",
          "2011",
          "2012",
          "2013",
          "2014",
          "2015",
          "2016"
         ],
         "y": [
          0,
          0,
          0,
          0,
          2,
          3,
          0,
          1,
          0,
          1
         ]
        },
        {
         "mode": "lines+markers",
         "name": "14 years",
         "type": "scatter",
         "x": [
          "2007",
          "2008",
          "2009",
          "2010",
          "2011",
          "2012",
          "2013",
          "2014",
          "2015",
          "2016"
         ],
         "y": [
          0,
          0,
          0,
          0,
          0,
          1,
          3,
          0,
          1,
          0
         ]
        },
        {
         "mode": "lines+markers",
         "name": "15 years",
         "type": "scatter",
         "x": [
          "2007",
          "2008",
          "2009",
          "2010",
          "2011",
          "2012",
          "2013",
          "2014",
          "2015",
          "2016"
         ],
         "y": [
          0,
          0,
          0,
          0,
          0,
          0,
          1,
          3,
          0,
          1
         ]
        },
        {
         "mode": "lines+markers",
         "name": "16 years",
         "type": "scatter",
         "x": [
          "2007",
          "2008",
          "2009",
          "2010",
          "2011",
          "2012",
          "2013",
          "2014",
          "2015",
          "2016"
         ],
         "y": [
          0,
          0,
          0,
          0,
          0,
          0,
          0,
          0,
          3,
          0
         ]
        },
        {
         "mode": "lines+markers",
         "name": "17 years",
         "type": "scatter",
         "x": [
          "2007",
          "2008",
          "2009",
          "2010",
          "2011",
          "2012",
          "2013",
          "2014",
          "2015",
          "2016"
         ],
         "y": [
          0,
          0,
          0,
          0,
          0,
          0,
          0,
          0,
          0,
          3
         ]
        }
       ],
       "layout": {}
      },
      "text/html": [
       "<div id=\"a911af73-e453-4948-a16d-1df75794e15f\" style=\"height: 525px; width: 100%;\" class=\"plotly-graph-div\"></div><script type=\"text/javascript\">require([\"plotly\"], function(Plotly) { window.PLOTLYENV=window.PLOTLYENV || {};window.PLOTLYENV.BASE_URL=\"https://plot.ly\";Plotly.newPlot(\"a911af73-e453-4948-a16d-1df75794e15f\", [{\"mode\": \"lines+markers\", \"type\": \"scatter\", \"y\": [390.0, 498.0, 536.0, 709.0, 973.0, 1139.0, 1623.0, 2358.0, 2564.0, 2454.0], \"name\": \"1 years\", \"x\": [\"2007\", \"2008\", \"2009\", \"2010\", \"2011\", \"2012\", \"2013\", \"2014\", \"2015\", \"2016\"]}, {\"mode\": \"lines+markers\", \"type\": \"scatter\", \"y\": [63.0, 230.0, 207.0, 206.0, 237.0, 390.0, 441.0, 595.0, 715.0, 763.0], \"name\": \"2 years\", \"x\": [\"2007\", \"2008\", \"2009\", \"2010\", \"2011\", \"2012\", \"2013\", \"2014\", \"2015\", \"2016\"]}, {\"mode\": \"lines+markers\", \"type\": \"scatter\", \"y\": [40.0, 14.0, 105.0, 138.0, 141.0, 149.0, 241.0, 312.0, 346.0, 342.0], \"name\": \"3 years\", \"x\": [\"2007\", \"2008\", \"2009\", \"2010\", \"2011\", \"2012\", \"2013\", \"2014\", \"2015\", \"2016\"]}, {\"mode\": \"lines+markers\", \"type\": \"scatter\", \"y\": [27.0, 13.0, 10.0, 83.0, 116.0, 102.0, 109.0, 187.0, 212.0, 225.0], \"name\": \"4 years\", \"x\": [\"2007\", \"2008\", \"2009\", \"2010\", \"2011\", \"2012\", \"2013\", \"2014\", \"2015\", \"2016\"]}, {\"mode\": \"lines+markers\", \"type\": \"scatter\", \"y\": [14.0, 2.0, 10.0, 7.0, 78.0, 93.0, 79.0, 82.0, 156.0, 160.0], \"name\": \"5 years\", \"x\": [\"2007\", \"2008\", \"2009\", \"2010\", \"2011\", \"2012\", \"2013\", \"2014\", \"2015\", \"2016\"]}, {\"mode\": \"lines+markers\", \"type\": \"scatter\", \"y\": [15.0, 0.0, 2.0, 10.0, 5.0, 68.0, 79.0, 69.0, 68.0, 129.0], \"name\": \"6 years\", \"x\": [\"2007\", \"2008\", \"2009\", \"2010\", \"2011\", \"2012\", \"2013\", \"2014\", \"2015\", \"2016\"]}, {\"mode\": \"lines+markers\", \"type\": \"scatter\", \"y\": [6.0, 5.0, 0.0, 2.0, 10.0, 4.0, 55.0, 69.0, 66.0, 56.0], \"name\": \"7 years\", \"x\": [\"2007\", \"2008\", \"2009\", \"2010\", \"2011\", \"2012\", \"2013\", \"2014\", \"2015\", \"2016\"]}, {\"mode\": \"lines+markers\", \"type\": \"scatter\", \"y\": [9.0, 0.0, 3.0, 1.0, 2.0, 7.0, 3.0, 51.0, 64.0, 59.0], \"name\": \"8 years\", \"x\": [\"2007\", \"2008\", \"2009\", \"2010\", \"2011\", \"2012\", \"2013\", \"2014\", \"2015\", \"2016\"]}, {\"mode\": \"lines+markers\", \"type\": \"scatter\", \"y\": [6.0, 4.0, 0.0, 3.0, 0.0, 1.0, 7.0, 2.0, 47.0, 54.0], \"name\": \"9 years\", \"x\": [\"2007\", \"2008\", \"2009\", \"2010\", \"2011\", \"2012\", \"2013\", \"2014\", \"2015\", \"2016\"]}, {\"mode\": \"lines+markers\", \"type\": \"scatter\", \"y\": [2.0, 2.0, 4.0, 0.0, 2.0, 0.0, 1.0, 6.0, 2.0, 40.0], \"name\": \"10 years\", \"x\": [\"2007\", \"2008\", \"2009\", \"2010\", \"2011\", \"2012\", \"2013\", \"2014\", \"2015\", \"2016\"]}, {\"mode\": \"lines+markers\", \"type\": \"scatter\", \"y\": [0.0, 0.0, 2.0, 4.0, 0.0, 2.0, 0.0, 1.0, 6.0, 2.0], \"name\": \"11 years\", \"x\": [\"2007\", \"2008\", \"2009\", \"2010\", \"2011\", \"2012\", \"2013\", \"2014\", \"2015\", \"2016\"]}, {\"mode\": \"lines+markers\", \"type\": \"scatter\", \"y\": [0.0, 0.0, 0.0, 2.0, 3.0, 0.0, 2.0, 0.0, 1.0, 4.0], \"name\": \"12 years\", \"x\": [\"2007\", \"2008\", \"2009\", \"2010\", \"2011\", \"2012\", \"2013\", \"2014\", \"2015\", \"2016\"]}, {\"mode\": \"lines+markers\", \"type\": \"scatter\", \"y\": [0.0, 0.0, 0.0, 0.0, 2.0, 3.0, 0.0, 1.0, 0.0, 1.0], \"name\": \"13 years\", \"x\": [\"2007\", \"2008\", \"2009\", \"2010\", \"2011\", \"2012\", \"2013\", \"2014\", \"2015\", \"2016\"]}, {\"mode\": \"lines+markers\", \"type\": \"scatter\", \"y\": [0.0, 0.0, 0.0, 0.0, 0.0, 1.0, 3.0, 0.0, 1.0, 0.0], \"name\": \"14 years\", \"x\": [\"2007\", \"2008\", \"2009\", \"2010\", \"2011\", \"2012\", \"2013\", \"2014\", \"2015\", \"2016\"]}, {\"mode\": \"lines+markers\", \"type\": \"scatter\", \"y\": [0.0, 0.0, 0.0, 0.0, 0.0, 0.0, 1.0, 3.0, 0.0, 1.0], \"name\": \"15 years\", \"x\": [\"2007\", \"2008\", \"2009\", \"2010\", \"2011\", \"2012\", \"2013\", \"2014\", \"2015\", \"2016\"]}, {\"mode\": \"lines+markers\", \"type\": \"scatter\", \"y\": [0.0, 0.0, 0.0, 0.0, 0.0, 0.0, 0.0, 0.0, 3.0, 0.0], \"name\": \"16 years\", \"x\": [\"2007\", \"2008\", \"2009\", \"2010\", \"2011\", \"2012\", \"2013\", \"2014\", \"2015\", \"2016\"]}, {\"mode\": \"lines+markers\", \"type\": \"scatter\", \"y\": [0.0, 0.0, 0.0, 0.0, 0.0, 0.0, 0.0, 0.0, 0.0, 3.0], \"name\": \"17 years\", \"x\": [\"2007\", \"2008\", \"2009\", \"2010\", \"2011\", \"2012\", \"2013\", \"2014\", \"2015\", \"2016\"]}], {}, {\"linkText\": \"Export to plot.ly\", \"showLink\": true})});</script>"
      ],
      "text/vnd.plotly.v1+html": [
       "<div id=\"a911af73-e453-4948-a16d-1df75794e15f\" style=\"height: 525px; width: 100%;\" class=\"plotly-graph-div\"></div><script type=\"text/javascript\">require([\"plotly\"], function(Plotly) { window.PLOTLYENV=window.PLOTLYENV || {};window.PLOTLYENV.BASE_URL=\"https://plot.ly\";Plotly.newPlot(\"a911af73-e453-4948-a16d-1df75794e15f\", [{\"mode\": \"lines+markers\", \"type\": \"scatter\", \"y\": [390.0, 498.0, 536.0, 709.0, 973.0, 1139.0, 1623.0, 2358.0, 2564.0, 2454.0], \"name\": \"1 years\", \"x\": [\"2007\", \"2008\", \"2009\", \"2010\", \"2011\", \"2012\", \"2013\", \"2014\", \"2015\", \"2016\"]}, {\"mode\": \"lines+markers\", \"type\": \"scatter\", \"y\": [63.0, 230.0, 207.0, 206.0, 237.0, 390.0, 441.0, 595.0, 715.0, 763.0], \"name\": \"2 years\", \"x\": [\"2007\", \"2008\", \"2009\", \"2010\", \"2011\", \"2012\", \"2013\", \"2014\", \"2015\", \"2016\"]}, {\"mode\": \"lines+markers\", \"type\": \"scatter\", \"y\": [40.0, 14.0, 105.0, 138.0, 141.0, 149.0, 241.0, 312.0, 346.0, 342.0], \"name\": \"3 years\", \"x\": [\"2007\", \"2008\", \"2009\", \"2010\", \"2011\", \"2012\", \"2013\", \"2014\", \"2015\", \"2016\"]}, {\"mode\": \"lines+markers\", \"type\": \"scatter\", \"y\": [27.0, 13.0, 10.0, 83.0, 116.0, 102.0, 109.0, 187.0, 212.0, 225.0], \"name\": \"4 years\", \"x\": [\"2007\", \"2008\", \"2009\", \"2010\", \"2011\", \"2012\", \"2013\", \"2014\", \"2015\", \"2016\"]}, {\"mode\": \"lines+markers\", \"type\": \"scatter\", \"y\": [14.0, 2.0, 10.0, 7.0, 78.0, 93.0, 79.0, 82.0, 156.0, 160.0], \"name\": \"5 years\", \"x\": [\"2007\", \"2008\", \"2009\", \"2010\", \"2011\", \"2012\", \"2013\", \"2014\", \"2015\", \"2016\"]}, {\"mode\": \"lines+markers\", \"type\": \"scatter\", \"y\": [15.0, 0.0, 2.0, 10.0, 5.0, 68.0, 79.0, 69.0, 68.0, 129.0], \"name\": \"6 years\", \"x\": [\"2007\", \"2008\", \"2009\", \"2010\", \"2011\", \"2012\", \"2013\", \"2014\", \"2015\", \"2016\"]}, {\"mode\": \"lines+markers\", \"type\": \"scatter\", \"y\": [6.0, 5.0, 0.0, 2.0, 10.0, 4.0, 55.0, 69.0, 66.0, 56.0], \"name\": \"7 years\", \"x\": [\"2007\", \"2008\", \"2009\", \"2010\", \"2011\", \"2012\", \"2013\", \"2014\", \"2015\", \"2016\"]}, {\"mode\": \"lines+markers\", \"type\": \"scatter\", \"y\": [9.0, 0.0, 3.0, 1.0, 2.0, 7.0, 3.0, 51.0, 64.0, 59.0], \"name\": \"8 years\", \"x\": [\"2007\", \"2008\", \"2009\", \"2010\", \"2011\", \"2012\", \"2013\", \"2014\", \"2015\", \"2016\"]}, {\"mode\": \"lines+markers\", \"type\": \"scatter\", \"y\": [6.0, 4.0, 0.0, 3.0, 0.0, 1.0, 7.0, 2.0, 47.0, 54.0], \"name\": \"9 years\", \"x\": [\"2007\", \"2008\", \"2009\", \"2010\", \"2011\", \"2012\", \"2013\", \"2014\", \"2015\", \"2016\"]}, {\"mode\": \"lines+markers\", \"type\": \"scatter\", \"y\": [2.0, 2.0, 4.0, 0.0, 2.0, 0.0, 1.0, 6.0, 2.0, 40.0], \"name\": \"10 years\", \"x\": [\"2007\", \"2008\", \"2009\", \"2010\", \"2011\", \"2012\", \"2013\", \"2014\", \"2015\", \"2016\"]}, {\"mode\": \"lines+markers\", \"type\": \"scatter\", \"y\": [0.0, 0.0, 2.0, 4.0, 0.0, 2.0, 0.0, 1.0, 6.0, 2.0], \"name\": \"11 years\", \"x\": [\"2007\", \"2008\", \"2009\", \"2010\", \"2011\", \"2012\", \"2013\", \"2014\", \"2015\", \"2016\"]}, {\"mode\": \"lines+markers\", \"type\": \"scatter\", \"y\": [0.0, 0.0, 0.0, 2.0, 3.0, 0.0, 2.0, 0.0, 1.0, 4.0], \"name\": \"12 years\", \"x\": [\"2007\", \"2008\", \"2009\", \"2010\", \"2011\", \"2012\", \"2013\", \"2014\", \"2015\", \"2016\"]}, {\"mode\": \"lines+markers\", \"type\": \"scatter\", \"y\": [0.0, 0.0, 0.0, 0.0, 2.0, 3.0, 0.0, 1.0, 0.0, 1.0], \"name\": \"13 years\", \"x\": [\"2007\", \"2008\", \"2009\", \"2010\", \"2011\", \"2012\", \"2013\", \"2014\", \"2015\", \"2016\"]}, {\"mode\": \"lines+markers\", \"type\": \"scatter\", \"y\": [0.0, 0.0, 0.0, 0.0, 0.0, 1.0, 3.0, 0.0, 1.0, 0.0], \"name\": \"14 years\", \"x\": [\"2007\", \"2008\", \"2009\", \"2010\", \"2011\", \"2012\", \"2013\", \"2014\", \"2015\", \"2016\"]}, {\"mode\": \"lines+markers\", \"type\": \"scatter\", \"y\": [0.0, 0.0, 0.0, 0.0, 0.0, 0.0, 1.0, 3.0, 0.0, 1.0], \"name\": \"15 years\", \"x\": [\"2007\", \"2008\", \"2009\", \"2010\", \"2011\", \"2012\", \"2013\", \"2014\", \"2015\", \"2016\"]}, {\"mode\": \"lines+markers\", \"type\": \"scatter\", \"y\": [0.0, 0.0, 0.0, 0.0, 0.0, 0.0, 0.0, 0.0, 3.0, 0.0], \"name\": \"16 years\", \"x\": [\"2007\", \"2008\", \"2009\", \"2010\", \"2011\", \"2012\", \"2013\", \"2014\", \"2015\", \"2016\"]}, {\"mode\": \"lines+markers\", \"type\": \"scatter\", \"y\": [0.0, 0.0, 0.0, 0.0, 0.0, 0.0, 0.0, 0.0, 0.0, 3.0], \"name\": \"17 years\", \"x\": [\"2007\", \"2008\", \"2009\", \"2010\", \"2011\", \"2012\", \"2013\", \"2014\", \"2015\", \"2016\"]}], {}, {\"linkText\": \"Export to plot.ly\", \"showLink\": true})});</script>"
      ]
     },
     "metadata": {},
     "output_type": "display_data"
    }
   ],
   "source": [
    "plotly.offline.init_notebook_mode(connected=True)\n",
    "\n",
    "data = []\n",
    "for exp in exp_groups_evo_df.index.values:\n",
    "    #print(exp, '\\n', exp_groups_evo_df.loc[exp].tolist(), '\\n', exp_groups_evo_df.loc[exp].index.values)\n",
    "    data.append(\n",
    "        go.Scatter(\n",
    "            x = exp_groups_evo_df.loc[exp].index.values,\n",
    "            y = exp_groups_evo_df.loc[exp].tolist(),\n",
    "            mode = 'lines+markers',\n",
    "            name = str(int(exp)) + ' years'\n",
    "        )\n",
    "    )\n",
    "    \n",
    "\n",
    "\n",
    "plotly.offline.iplot(data, filename='line-mode')    "
   ]
  }
 ],
 "metadata": {
  "kernelspec": {
   "display_name": "Python 3",
   "language": "python",
   "name": "python3"
  },
  "language_info": {
   "codemirror_mode": {
    "name": "ipython",
    "version": 3
   },
   "file_extension": ".py",
   "mimetype": "text/x-python",
   "name": "python",
   "nbconvert_exporter": "python",
   "pygments_lexer": "ipython3",
   "version": "3.5.2+"
  }
 },
 "nbformat": 4,
 "nbformat_minor": 2
}
