{
 "cells": [
  {
   "cell_type": "raw",
   "metadata": {},
   "source": [
    "<script>\n",
    "  function code_toggle() {\n",
    "    if (code_shown){\n",
    "      $('div.input').hide('500');\n",
    "      $('div.output_text').hide('500')\n",
    "      $('#toggleButton').val('Show Code')\n",
    "    } else {\n",
    "      $('div.input').show('500');\n",
    "      $('div.output_text').show('500')\n",
    "      $('#toggleButton').val('Hide Code')\n",
    "    }\n",
    "    code_shown = !code_shown\n",
    "  }\n",
    "\n",
    "  $( document ).ready(function(){\n",
    "    code_shown=false;\n",
    "    $('div.input').hide()\n",
    "    $('div.output_text').hide()\n",
    "  });\n",
    "</script>\n",
    "<form action=\"javascript:code_toggle()\"><input type=\"submit\" id=\"toggleButton\" value=\"Show Code\"></form>"
   ]
  },
  {
   "cell_type": "code",
   "execution_count": 1,
   "metadata": {
    "collapsed": false
   },
   "outputs": [],
   "source": [
    "import pandas\n",
    "\n",
    "import os\n",
    "\n",
    "import plotly as plotly\n",
    "import plotly.figure_factory as ff\n",
    "import plotly.graph_objs as go\n",
    "\n",
    "import util as ut\n",
    "\n",
    "from util import ESConnection\n",
    "from elasticsearch_dsl import Search\n",
    "\n",
    "es_conn = ESConnection()\n",
    "\n",
    "project_name = os.environ.get('PROJECT', 'All')\n",
    "max_time = os.environ.get('MAX_TIME', '10')\n",
    "\n",
    "\n",
    "# Range of years from 2017 to the past to be used in all metrics\n",
    "# Use 0 as starting point together with lt in queries to exclude 2017\n",
    "analyzed_range = range(0,int(max_time))"
   ]
  },
  {
   "cell_type": "markdown",
   "metadata": {},
   "source": [
    "## First project\n",
    "Get the project in which auhtors made their first contribution to Mozilla. Show a ranking of top 5 projects in number of newcomers to Mozilla per year."
   ]
  },
  {
   "cell_type": "code",
   "execution_count": 2,
   "metadata": {
    "collapsed": false,
    "scrolled": false
   },
   "outputs": [
    {
     "data": {
      "text/html": [
       "<script>requirejs.config({paths: { 'plotly': ['https://cdn.plot.ly/plotly-latest.min']},});if(!window.Plotly) {{require(['plotly'],function(plotly) {window.Plotly=plotly;});}}</script>"
      ],
      "text/vnd.plotly.v1+html": [
       "<script>requirejs.config({paths: { 'plotly': ['https://cdn.plot.ly/plotly-latest.min']},});if(!window.Plotly) {{require(['plotly'],function(plotly) {window.Plotly=plotly;});}}</script>"
      ]
     },
     "metadata": {},
     "output_type": "display_data"
    },
    {
     "data": {
      "application/vnd.plotly.v1+json": {
       "data": [
        {
         "colorscale": [
          [
           0,
           "#00083e"
          ],
          [
           0.5,
           "#ededee"
          ],
          [
           1,
           "#ffffff"
          ]
         ],
         "hoverinfo": "none",
         "opacity": 0.75,
         "showscale": false,
         "type": "heatmap",
         "z": [
          [
           0,
           0,
           0
          ],
          [
           0.5,
           0.5,
           0.5
          ],
          [
           1,
           1,
           1
          ],
          [
           0.5,
           0.5,
           0.5
          ],
          [
           1,
           1,
           1
          ],
          [
           0.5,
           0.5,
           0.5
          ],
          [
           1,
           1,
           1
          ],
          [
           0.5,
           0.5,
           0.5
          ],
          [
           1,
           1,
           1
          ],
          [
           0.5,
           0.5,
           0.5
          ],
          [
           1,
           1,
           1
          ],
          [
           0.5,
           0.5,
           0.5
          ],
          [
           1,
           1,
           1
          ],
          [
           0.5,
           0.5,
           0.5
          ],
          [
           1,
           1,
           1
          ],
          [
           0.5,
           0.5,
           0.5
          ],
          [
           1,
           1,
           1
          ],
          [
           0.5,
           0.5,
           0.5
          ],
          [
           1,
           1,
           1
          ],
          [
           0.5,
           0.5,
           0.5
          ],
          [
           1,
           1,
           1
          ],
          [
           0.5,
           0.5,
           0.5
          ],
          [
           1,
           1,
           1
          ],
          [
           0.5,
           0.5,
           0.5
          ],
          [
           1,
           1,
           1
          ],
          [
           0.5,
           0.5,
           0.5
          ],
          [
           1,
           1,
           1
          ],
          [
           0.5,
           0.5,
           0.5
          ],
          [
           1,
           1,
           1
          ],
          [
           0.5,
           0.5,
           0.5
          ],
          [
           1,
           1,
           1
          ],
          [
           0.5,
           0.5,
           0.5
          ],
          [
           1,
           1,
           1
          ],
          [
           0.5,
           0.5,
           0.5
          ],
          [
           1,
           1,
           1
          ],
          [
           0.5,
           0.5,
           0.5
          ],
          [
           1,
           1,
           1
          ],
          [
           0.5,
           0.5,
           0.5
          ],
          [
           1,
           1,
           1
          ],
          [
           0.5,
           0.5,
           0.5
          ],
          [
           1,
           1,
           1
          ],
          [
           0.5,
           0.5,
           0.5
          ],
          [
           1,
           1,
           1
          ],
          [
           0.5,
           0.5,
           0.5
          ],
          [
           1,
           1,
           1
          ],
          [
           0.5,
           0.5,
           0.5
          ],
          [
           1,
           1,
           1
          ],
          [
           0.5,
           0.5,
           0.5
          ],
          [
           1,
           1,
           1
          ],
          [
           0.5,
           0.5,
           0.5
          ],
          [
           1,
           1,
           1
          ],
          [
           0.5,
           0.5,
           0.5
          ],
          [
           1,
           1,
           1
          ],
          [
           0.5,
           0.5,
           0.5
          ],
          [
           1,
           1,
           1
          ],
          [
           0.5,
           0.5,
           0.5
          ],
          [
           1,
           1,
           1
          ],
          [
           0.5,
           0.5,
           0.5
          ],
          [
           1,
           1,
           1
          ],
          [
           0.5,
           0.5,
           0.5
          ],
          [
           1,
           1,
           1
          ],
          [
           0.5,
           0.5,
           0.5
          ],
          [
           1,
           1,
           1
          ],
          [
           0.5,
           0.5,
           0.5
          ],
          [
           1,
           1,
           1
          ],
          [
           0.5,
           0.5,
           0.5
          ],
          [
           1,
           1,
           1
          ],
          [
           0.5,
           0.5,
           0.5
          ],
          [
           1,
           1,
           1
          ],
          [
           0.5,
           0.5,
           0.5
          ],
          [
           1,
           1,
           1
          ],
          [
           0.5,
           0.5,
           0.5
          ],
          [
           1,
           1,
           1
          ],
          [
           0.5,
           0.5,
           0.5
          ],
          [
           1,
           1,
           1
          ],
          [
           0.5,
           0.5,
           0.5
          ],
          [
           1,
           1,
           1
          ],
          [
           0.5,
           0.5,
           0.5
          ],
          [
           1,
           1,
           1
          ],
          [
           0.5,
           0.5,
           0.5
          ],
          [
           1,
           1,
           1
          ],
          [
           0.5,
           0.5,
           0.5
          ],
          [
           1,
           1,
           1
          ],
          [
           0.5,
           0.5,
           0.5
          ],
          [
           1,
           1,
           1
          ],
          [
           0.5,
           0.5,
           0.5
          ],
          [
           1,
           1,
           1
          ],
          [
           0.5,
           0.5,
           0.5
          ],
          [
           1,
           1,
           1
          ],
          [
           0.5,
           0.5,
           0.5
          ],
          [
           1,
           1,
           1
          ],
          [
           0.5,
           0.5,
           0.5
          ],
          [
           1,
           1,
           1
          ],
          [
           0.5,
           0.5,
           0.5
          ],
          [
           1,
           1,
           1
          ],
          [
           0.5,
           0.5,
           0.5
          ]
         ]
        }
       ],
       "layout": {
        "annotations": [
         {
          "align": "left",
          "font": {
           "color": "#ffffff"
          },
          "showarrow": false,
          "text": "<b>first_commit</b>",
          "x": -0.45,
          "xanchor": "left",
          "xref": "x1",
          "y": 0,
          "yref": "y1"
         },
         {
          "align": "left",
          "font": {
           "color": "#ffffff"
          },
          "showarrow": false,
          "text": "<b>project</b>",
          "x": 0.55,
          "xanchor": "left",
          "xref": "x1",
          "y": 0,
          "yref": "y1"
         },
         {
          "align": "left",
          "font": {
           "color": "#ffffff"
          },
          "showarrow": false,
          "text": "<b># authors</b>",
          "x": 1.55,
          "xanchor": "left",
          "xref": "x1",
          "y": 0,
          "yref": "y1"
         },
         {
          "align": "left",
          "font": {
           "color": "#000000"
          },
          "showarrow": false,
          "text": "2016",
          "x": -0.45,
          "xanchor": "left",
          "xref": "x1",
          "y": 1,
          "yref": "y1"
         },
         {
          "align": "left",
          "font": {
           "color": "#000000"
          },
          "showarrow": false,
          "text": "Unknown",
          "x": 0.55,
          "xanchor": "left",
          "xref": "x1",
          "y": 1,
          "yref": "y1"
         },
         {
          "align": "left",
          "font": {
           "color": "#000000"
          },
          "showarrow": false,
          "text": "913",
          "x": 1.55,
          "xanchor": "left",
          "xref": "x1",
          "y": 1,
          "yref": "y1"
         },
         {
          "align": "left",
          "font": {
           "color": "#000000"
          },
          "showarrow": false,
          "text": "2016",
          "x": -0.45,
          "xanchor": "left",
          "xref": "x1",
          "y": 2,
          "yref": "y1"
         },
         {
          "align": "left",
          "font": {
           "color": "#000000"
          },
          "showarrow": false,
          "text": "Rust",
          "x": 0.55,
          "xanchor": "left",
          "xref": "x1",
          "y": 2,
          "yref": "y1"
         },
         {
          "align": "left",
          "font": {
           "color": "#000000"
          },
          "showarrow": false,
          "text": "493",
          "x": 1.55,
          "xanchor": "left",
          "xref": "x1",
          "y": 2,
          "yref": "y1"
         },
         {
          "align": "left",
          "font": {
           "color": "#000000"
          },
          "showarrow": false,
          "text": "2016",
          "x": -0.45,
          "xanchor": "left",
          "xref": "x1",
          "y": 3,
          "yref": "y1"
         },
         {
          "align": "left",
          "font": {
           "color": "#000000"
          },
          "showarrow": false,
          "text": "Servo",
          "x": 0.55,
          "xanchor": "left",
          "xref": "x1",
          "y": 3,
          "yref": "y1"
         },
         {
          "align": "left",
          "font": {
           "color": "#000000"
          },
          "showarrow": false,
          "text": "194",
          "x": 1.55,
          "xanchor": "left",
          "xref": "x1",
          "y": 3,
          "yref": "y1"
         },
         {
          "align": "left",
          "font": {
           "color": "#000000"
          },
          "showarrow": false,
          "text": "2016",
          "x": -0.45,
          "xanchor": "left",
          "xref": "x1",
          "y": 4,
          "yref": "y1"
         },
         {
          "align": "left",
          "font": {
           "color": "#000000"
          },
          "showarrow": false,
          "text": "Gecko",
          "x": 0.55,
          "xanchor": "left",
          "xref": "x1",
          "y": 4,
          "yref": "y1"
         },
         {
          "align": "left",
          "font": {
           "color": "#000000"
          },
          "showarrow": false,
          "text": "164",
          "x": 1.55,
          "xanchor": "left",
          "xref": "x1",
          "y": 4,
          "yref": "y1"
         },
         {
          "align": "left",
          "font": {
           "color": "#000000"
          },
          "showarrow": false,
          "text": "2016",
          "x": -0.45,
          "xanchor": "left",
          "xref": "x1",
          "y": 5,
          "yref": "y1"
         },
         {
          "align": "left",
          "font": {
           "color": "#000000"
          },
          "showarrow": false,
          "text": "Web Properties",
          "x": 0.55,
          "xanchor": "left",
          "xref": "x1",
          "y": 5,
          "yref": "y1"
         },
         {
          "align": "left",
          "font": {
           "color": "#000000"
          },
          "showarrow": false,
          "text": "122",
          "x": 1.55,
          "xanchor": "left",
          "xref": "x1",
          "y": 5,
          "yref": "y1"
         },
         {
          "align": "left",
          "font": {
           "color": "#000000"
          },
          "showarrow": false,
          "text": "2016",
          "x": -0.45,
          "xanchor": "left",
          "xref": "x1",
          "y": 6,
          "yref": "y1"
         },
         {
          "align": "left",
          "font": {
           "color": "#000000"
          },
          "showarrow": false,
          "text": "WebVR",
          "x": 0.55,
          "xanchor": "left",
          "xref": "x1",
          "y": 6,
          "yref": "y1"
         },
         {
          "align": "left",
          "font": {
           "color": "#000000"
          },
          "showarrow": false,
          "text": "111",
          "x": 1.55,
          "xanchor": "left",
          "xref": "x1",
          "y": 6,
          "yref": "y1"
         },
         {
          "align": "left",
          "font": {
           "color": "#000000"
          },
          "showarrow": false,
          "text": "2016",
          "x": -0.45,
          "xanchor": "left",
          "xref": "x1",
          "y": 7,
          "yref": "y1"
         },
         {
          "align": "left",
          "font": {
           "color": "#000000"
          },
          "showarrow": false,
          "text": "IT/Ops",
          "x": 0.55,
          "xanchor": "left",
          "xref": "x1",
          "y": 7,
          "yref": "y1"
         },
         {
          "align": "left",
          "font": {
           "color": "#000000"
          },
          "showarrow": false,
          "text": "98",
          "x": 1.55,
          "xanchor": "left",
          "xref": "x1",
          "y": 7,
          "yref": "y1"
         },
         {
          "align": "left",
          "font": {
           "color": "#000000"
          },
          "showarrow": false,
          "text": "2016",
          "x": -0.45,
          "xanchor": "left",
          "xref": "x1",
          "y": 8,
          "yref": "y1"
         },
         {
          "align": "left",
          "font": {
           "color": "#000000"
          },
          "showarrow": false,
          "text": "Mozilla Local/Regional communities",
          "x": 0.55,
          "xanchor": "left",
          "xref": "x1",
          "y": 8,
          "yref": "y1"
         },
         {
          "align": "left",
          "font": {
           "color": "#000000"
          },
          "showarrow": false,
          "text": "54",
          "x": 1.55,
          "xanchor": "left",
          "xref": "x1",
          "y": 8,
          "yref": "y1"
         },
         {
          "align": "left",
          "font": {
           "color": "#000000"
          },
          "showarrow": false,
          "text": "2016",
          "x": -0.45,
          "xanchor": "left",
          "xref": "x1",
          "y": 9,
          "yref": "y1"
         },
         {
          "align": "left",
          "font": {
           "color": "#000000"
          },
          "showarrow": false,
          "text": "Mozilla Developer Network (MDN)",
          "x": 0.55,
          "xanchor": "left",
          "xref": "x1",
          "y": 9,
          "yref": "y1"
         },
         {
          "align": "left",
          "font": {
           "color": "#000000"
          },
          "showarrow": false,
          "text": "40",
          "x": 1.55,
          "xanchor": "left",
          "xref": "x1",
          "y": 9,
          "yref": "y1"
         },
         {
          "align": "left",
          "font": {
           "color": "#000000"
          },
          "showarrow": false,
          "text": "2016",
          "x": -0.45,
          "xanchor": "left",
          "xref": "x1",
          "y": 10,
          "yref": "y1"
         },
         {
          "align": "left",
          "font": {
           "color": "#000000"
          },
          "showarrow": false,
          "text": "Addons/Web Extensions",
          "x": 0.55,
          "xanchor": "left",
          "xref": "x1",
          "y": 10,
          "yref": "y1"
         },
         {
          "align": "left",
          "font": {
           "color": "#000000"
          },
          "showarrow": false,
          "text": "37",
          "x": 1.55,
          "xanchor": "left",
          "xref": "x1",
          "y": 10,
          "yref": "y1"
         },
         {
          "align": "left",
          "font": {
           "color": "#000000"
          },
          "showarrow": false,
          "text": "2016",
          "x": -0.45,
          "xanchor": "left",
          "xref": "x1",
          "y": 11,
          "yref": "y1"
         },
         {
          "align": "left",
          "font": {
           "color": "#000000"
          },
          "showarrow": false,
          "text": "Firefox",
          "x": 0.55,
          "xanchor": "left",
          "xref": "x1",
          "y": 11,
          "yref": "y1"
         },
         {
          "align": "left",
          "font": {
           "color": "#000000"
          },
          "showarrow": false,
          "text": "36",
          "x": 1.55,
          "xanchor": "left",
          "xref": "x1",
          "y": 11,
          "yref": "y1"
         },
         {
          "align": "left",
          "font": {
           "color": "#000000"
          },
          "showarrow": false,
          "text": "2016",
          "x": -0.45,
          "xanchor": "left",
          "xref": "x1",
          "y": 12,
          "yref": "y1"
         },
         {
          "align": "left",
          "font": {
           "color": "#000000"
          },
          "showarrow": false,
          "text": "Mozilla Science",
          "x": 0.55,
          "xanchor": "left",
          "xref": "x1",
          "y": 12,
          "yref": "y1"
         },
         {
          "align": "left",
          "font": {
           "color": "#000000"
          },
          "showarrow": false,
          "text": "32",
          "x": 1.55,
          "xanchor": "left",
          "xref": "x1",
          "y": 12,
          "yref": "y1"
         },
         {
          "align": "left",
          "font": {
           "color": "#000000"
          },
          "showarrow": false,
          "text": "2016",
          "x": -0.45,
          "xanchor": "left",
          "xref": "x1",
          "y": 13,
          "yref": "y1"
         },
         {
          "align": "left",
          "font": {
           "color": "#000000"
          },
          "showarrow": false,
          "text": "Firefox iOS",
          "x": 0.55,
          "xanchor": "left",
          "xref": "x1",
          "y": 13,
          "yref": "y1"
         },
         {
          "align": "left",
          "font": {
           "color": "#000000"
          },
          "showarrow": false,
          "text": "16",
          "x": 1.55,
          "xanchor": "left",
          "xref": "x1",
          "y": 13,
          "yref": "y1"
         },
         {
          "align": "left",
          "font": {
           "color": "#000000"
          },
          "showarrow": false,
          "text": "2016",
          "x": -0.45,
          "xanchor": "left",
          "xref": "x1",
          "y": 14,
          "yref": "y1"
         },
         {
          "align": "left",
          "font": {
           "color": "#000000"
          },
          "showarrow": false,
          "text": "Test Pilot",
          "x": 0.55,
          "xanchor": "left",
          "xref": "x1",
          "y": 14,
          "yref": "y1"
         },
         {
          "align": "left",
          "font": {
           "color": "#000000"
          },
          "showarrow": false,
          "text": "11",
          "x": 1.55,
          "xanchor": "left",
          "xref": "x1",
          "y": 14,
          "yref": "y1"
         },
         {
          "align": "left",
          "font": {
           "color": "#000000"
          },
          "showarrow": false,
          "text": "2016",
          "x": -0.45,
          "xanchor": "left",
          "xref": "x1",
          "y": 15,
          "yref": "y1"
         },
         {
          "align": "left",
          "font": {
           "color": "#000000"
          },
          "showarrow": false,
          "text": "Mozilla Foundation",
          "x": 0.55,
          "xanchor": "left",
          "xref": "x1",
          "y": 15,
          "yref": "y1"
         },
         {
          "align": "left",
          "font": {
           "color": "#000000"
          },
          "showarrow": false,
          "text": "7",
          "x": 1.55,
          "xanchor": "left",
          "xref": "x1",
          "y": 15,
          "yref": "y1"
         },
         {
          "align": "left",
          "font": {
           "color": "#000000"
          },
          "showarrow": false,
          "text": "2016",
          "x": -0.45,
          "xanchor": "left",
          "xref": "x1",
          "y": 16,
          "yref": "y1"
         },
         {
          "align": "left",
          "font": {
           "color": "#000000"
          },
          "showarrow": false,
          "text": "Mozilla Creative & Design",
          "x": 0.55,
          "xanchor": "left",
          "xref": "x1",
          "y": 16,
          "yref": "y1"
         },
         {
          "align": "left",
          "font": {
           "color": "#000000"
          },
          "showarrow": false,
          "text": "6",
          "x": 1.55,
          "xanchor": "left",
          "xref": "x1",
          "y": 16,
          "yref": "y1"
         },
         {
          "align": "left",
          "font": {
           "color": "#000000"
          },
          "showarrow": false,
          "text": "2016",
          "x": -0.45,
          "xanchor": "left",
          "xref": "x1",
          "y": 17,
          "yref": "y1"
         },
         {
          "align": "left",
          "font": {
           "color": "#000000"
          },
          "showarrow": false,
          "text": "Localization",
          "x": 0.55,
          "xanchor": "left",
          "xref": "x1",
          "y": 17,
          "yref": "y1"
         },
         {
          "align": "left",
          "font": {
           "color": "#000000"
          },
          "showarrow": false,
          "text": "4",
          "x": 1.55,
          "xanchor": "left",
          "xref": "x1",
          "y": 17,
          "yref": "y1"
         },
         {
          "align": "left",
          "font": {
           "color": "#000000"
          },
          "showarrow": false,
          "text": "2016",
          "x": -0.45,
          "xanchor": "left",
          "xref": "x1",
          "y": 18,
          "yref": "y1"
         },
         {
          "align": "left",
          "font": {
           "color": "#000000"
          },
          "showarrow": false,
          "text": "Firefox Focus",
          "x": 0.55,
          "xanchor": "left",
          "xref": "x1",
          "y": 18,
          "yref": "y1"
         },
         {
          "align": "left",
          "font": {
           "color": "#000000"
          },
          "showarrow": false,
          "text": "2",
          "x": 1.55,
          "xanchor": "left",
          "xref": "x1",
          "y": 18,
          "yref": "y1"
         },
         {
          "align": "left",
          "font": {
           "color": "#000000"
          },
          "showarrow": false,
          "text": "2016",
          "x": -0.45,
          "xanchor": "left",
          "xref": "x1",
          "y": 19,
          "yref": "y1"
         },
         {
          "align": "left",
          "font": {
           "color": "#000000"
          },
          "showarrow": false,
          "text": "Marketing / Social Media",
          "x": 0.55,
          "xanchor": "left",
          "xref": "x1",
          "y": 19,
          "yref": "y1"
         },
         {
          "align": "left",
          "font": {
           "color": "#000000"
          },
          "showarrow": false,
          "text": "2",
          "x": 1.55,
          "xanchor": "left",
          "xref": "x1",
          "y": 19,
          "yref": "y1"
         },
         {
          "align": "left",
          "font": {
           "color": "#000000"
          },
          "showarrow": false,
          "text": "2016",
          "x": -0.45,
          "xanchor": "left",
          "xref": "x1",
          "y": 20,
          "yref": "y1"
         },
         {
          "align": "left",
          "font": {
           "color": "#000000"
          },
          "showarrow": false,
          "text": "Technical/Developer Evangelism",
          "x": 0.55,
          "xanchor": "left",
          "xref": "x1",
          "y": 20,
          "yref": "y1"
         },
         {
          "align": "left",
          "font": {
           "color": "#000000"
          },
          "showarrow": false,
          "text": "2",
          "x": 1.55,
          "xanchor": "left",
          "xref": "x1",
          "y": 20,
          "yref": "y1"
         },
         {
          "align": "left",
          "font": {
           "color": "#000000"
          },
          "showarrow": false,
          "text": "2015",
          "x": -0.45,
          "xanchor": "left",
          "xref": "x1",
          "y": 21,
          "yref": "y1"
         },
         {
          "align": "left",
          "font": {
           "color": "#000000"
          },
          "showarrow": false,
          "text": "Unknown",
          "x": 0.55,
          "xanchor": "left",
          "xref": "x1",
          "y": 21,
          "yref": "y1"
         },
         {
          "align": "left",
          "font": {
           "color": "#000000"
          },
          "showarrow": false,
          "text": "1056",
          "x": 1.55,
          "xanchor": "left",
          "xref": "x1",
          "y": 21,
          "yref": "y1"
         },
         {
          "align": "left",
          "font": {
           "color": "#000000"
          },
          "showarrow": false,
          "text": "2015",
          "x": -0.45,
          "xanchor": "left",
          "xref": "x1",
          "y": 22,
          "yref": "y1"
         },
         {
          "align": "left",
          "font": {
           "color": "#000000"
          },
          "showarrow": false,
          "text": "Rust",
          "x": 0.55,
          "xanchor": "left",
          "xref": "x1",
          "y": 22,
          "yref": "y1"
         },
         {
          "align": "left",
          "font": {
           "color": "#000000"
          },
          "showarrow": false,
          "text": "640",
          "x": 1.55,
          "xanchor": "left",
          "xref": "x1",
          "y": 22,
          "yref": "y1"
         },
         {
          "align": "left",
          "font": {
           "color": "#000000"
          },
          "showarrow": false,
          "text": "2015",
          "x": -0.45,
          "xanchor": "left",
          "xref": "x1",
          "y": 23,
          "yref": "y1"
         },
         {
          "align": "left",
          "font": {
           "color": "#000000"
          },
          "showarrow": false,
          "text": "Servo",
          "x": 0.55,
          "xanchor": "left",
          "xref": "x1",
          "y": 23,
          "yref": "y1"
         },
         {
          "align": "left",
          "font": {
           "color": "#000000"
          },
          "showarrow": false,
          "text": "168",
          "x": 1.55,
          "xanchor": "left",
          "xref": "x1",
          "y": 23,
          "yref": "y1"
         },
         {
          "align": "left",
          "font": {
           "color": "#000000"
          },
          "showarrow": false,
          "text": "2015",
          "x": -0.45,
          "xanchor": "left",
          "xref": "x1",
          "y": 24,
          "yref": "y1"
         },
         {
          "align": "left",
          "font": {
           "color": "#000000"
          },
          "showarrow": false,
          "text": "Web Properties",
          "x": 0.55,
          "xanchor": "left",
          "xref": "x1",
          "y": 24,
          "yref": "y1"
         },
         {
          "align": "left",
          "font": {
           "color": "#000000"
          },
          "showarrow": false,
          "text": "146",
          "x": 1.55,
          "xanchor": "left",
          "xref": "x1",
          "y": 24,
          "yref": "y1"
         },
         {
          "align": "left",
          "font": {
           "color": "#000000"
          },
          "showarrow": false,
          "text": "2015",
          "x": -0.45,
          "xanchor": "left",
          "xref": "x1",
          "y": 25,
          "yref": "y1"
         },
         {
          "align": "left",
          "font": {
           "color": "#000000"
          },
          "showarrow": false,
          "text": "Gecko",
          "x": 0.55,
          "xanchor": "left",
          "xref": "x1",
          "y": 25,
          "yref": "y1"
         },
         {
          "align": "left",
          "font": {
           "color": "#000000"
          },
          "showarrow": false,
          "text": "83",
          "x": 1.55,
          "xanchor": "left",
          "xref": "x1",
          "y": 25,
          "yref": "y1"
         },
         {
          "align": "left",
          "font": {
           "color": "#000000"
          },
          "showarrow": false,
          "text": "2015",
          "x": -0.45,
          "xanchor": "left",
          "xref": "x1",
          "y": 26,
          "yref": "y1"
         },
         {
          "align": "left",
          "font": {
           "color": "#000000"
          },
          "showarrow": false,
          "text": "IT/Ops",
          "x": 0.55,
          "xanchor": "left",
          "xref": "x1",
          "y": 26,
          "yref": "y1"
         },
         {
          "align": "left",
          "font": {
           "color": "#000000"
          },
          "showarrow": false,
          "text": "80",
          "x": 1.55,
          "xanchor": "left",
          "xref": "x1",
          "y": 26,
          "yref": "y1"
         },
         {
          "align": "left",
          "font": {
           "color": "#000000"
          },
          "showarrow": false,
          "text": "2015",
          "x": -0.45,
          "xanchor": "left",
          "xref": "x1",
          "y": 27,
          "yref": "y1"
         },
         {
          "align": "left",
          "font": {
           "color": "#000000"
          },
          "showarrow": false,
          "text": "Mozilla Local/Regional communities",
          "x": 0.55,
          "xanchor": "left",
          "xref": "x1",
          "y": 27,
          "yref": "y1"
         },
         {
          "align": "left",
          "font": {
           "color": "#000000"
          },
          "showarrow": false,
          "text": "59",
          "x": 1.55,
          "xanchor": "left",
          "xref": "x1",
          "y": 27,
          "yref": "y1"
         },
         {
          "align": "left",
          "font": {
           "color": "#000000"
          },
          "showarrow": false,
          "text": "2015",
          "x": -0.45,
          "xanchor": "left",
          "xref": "x1",
          "y": 28,
          "yref": "y1"
         },
         {
          "align": "left",
          "font": {
           "color": "#000000"
          },
          "showarrow": false,
          "text": "Mozilla Science",
          "x": 0.55,
          "xanchor": "left",
          "xref": "x1",
          "y": 28,
          "yref": "y1"
         },
         {
          "align": "left",
          "font": {
           "color": "#000000"
          },
          "showarrow": false,
          "text": "39",
          "x": 1.55,
          "xanchor": "left",
          "xref": "x1",
          "y": 28,
          "yref": "y1"
         },
         {
          "align": "left",
          "font": {
           "color": "#000000"
          },
          "showarrow": false,
          "text": "2015",
          "x": -0.45,
          "xanchor": "left",
          "xref": "x1",
          "y": 29,
          "yref": "y1"
         },
         {
          "align": "left",
          "font": {
           "color": "#000000"
          },
          "showarrow": false,
          "text": "Firefox iOS",
          "x": 0.55,
          "xanchor": "left",
          "xref": "x1",
          "y": 29,
          "yref": "y1"
         },
         {
          "align": "left",
          "font": {
           "color": "#000000"
          },
          "showarrow": false,
          "text": "26",
          "x": 1.55,
          "xanchor": "left",
          "xref": "x1",
          "y": 29,
          "yref": "y1"
         },
         {
          "align": "left",
          "font": {
           "color": "#000000"
          },
          "showarrow": false,
          "text": "2015",
          "x": -0.45,
          "xanchor": "left",
          "xref": "x1",
          "y": 30,
          "yref": "y1"
         },
         {
          "align": "left",
          "font": {
           "color": "#000000"
          },
          "showarrow": false,
          "text": "Mozilla Developer Network (MDN)",
          "x": 0.55,
          "xanchor": "left",
          "xref": "x1",
          "y": 30,
          "yref": "y1"
         },
         {
          "align": "left",
          "font": {
           "color": "#000000"
          },
          "showarrow": false,
          "text": "25",
          "x": 1.55,
          "xanchor": "left",
          "xref": "x1",
          "y": 30,
          "yref": "y1"
         },
         {
          "align": "left",
          "font": {
           "color": "#000000"
          },
          "showarrow": false,
          "text": "2015",
          "x": -0.45,
          "xanchor": "left",
          "xref": "x1",
          "y": 31,
          "yref": "y1"
         },
         {
          "align": "left",
          "font": {
           "color": "#000000"
          },
          "showarrow": false,
          "text": "Addons/Web Extensions",
          "x": 0.55,
          "xanchor": "left",
          "xref": "x1",
          "y": 31,
          "yref": "y1"
         },
         {
          "align": "left",
          "font": {
           "color": "#000000"
          },
          "showarrow": false,
          "text": "22",
          "x": 1.55,
          "xanchor": "left",
          "xref": "x1",
          "y": 31,
          "yref": "y1"
         },
         {
          "align": "left",
          "font": {
           "color": "#000000"
          },
          "showarrow": false,
          "text": "2015",
          "x": -0.45,
          "xanchor": "left",
          "xref": "x1",
          "y": 32,
          "yref": "y1"
         },
         {
          "align": "left",
          "font": {
           "color": "#000000"
          },
          "showarrow": false,
          "text": "Firefox",
          "x": 0.55,
          "xanchor": "left",
          "xref": "x1",
          "y": 32,
          "yref": "y1"
         },
         {
          "align": "left",
          "font": {
           "color": "#000000"
          },
          "showarrow": false,
          "text": "19",
          "x": 1.55,
          "xanchor": "left",
          "xref": "x1",
          "y": 32,
          "yref": "y1"
         },
         {
          "align": "left",
          "font": {
           "color": "#000000"
          },
          "showarrow": false,
          "text": "2015",
          "x": -0.45,
          "xanchor": "left",
          "xref": "x1",
          "y": 33,
          "yref": "y1"
         },
         {
          "align": "left",
          "font": {
           "color": "#000000"
          },
          "showarrow": false,
          "text": "Firefox OS (FxOS / B2G)",
          "x": 0.55,
          "xanchor": "left",
          "xref": "x1",
          "y": 33,
          "yref": "y1"
         },
         {
          "align": "left",
          "font": {
           "color": "#000000"
          },
          "showarrow": false,
          "text": "19",
          "x": 1.55,
          "xanchor": "left",
          "xref": "x1",
          "y": 33,
          "yref": "y1"
         },
         {
          "align": "left",
          "font": {
           "color": "#000000"
          },
          "showarrow": false,
          "text": "2015",
          "x": -0.45,
          "xanchor": "left",
          "xref": "x1",
          "y": 34,
          "yref": "y1"
         },
         {
          "align": "left",
          "font": {
           "color": "#000000"
          },
          "showarrow": false,
          "text": "WebVR",
          "x": 0.55,
          "xanchor": "left",
          "xref": "x1",
          "y": 34,
          "yref": "y1"
         },
         {
          "align": "left",
          "font": {
           "color": "#000000"
          },
          "showarrow": false,
          "text": "15",
          "x": 1.55,
          "xanchor": "left",
          "xref": "x1",
          "y": 34,
          "yref": "y1"
         },
         {
          "align": "left",
          "font": {
           "color": "#000000"
          },
          "showarrow": false,
          "text": "2015",
          "x": -0.45,
          "xanchor": "left",
          "xref": "x1",
          "y": 35,
          "yref": "y1"
         },
         {
          "align": "left",
          "font": {
           "color": "#000000"
          },
          "showarrow": false,
          "text": "Web Literacy",
          "x": 0.55,
          "xanchor": "left",
          "xref": "x1",
          "y": 35,
          "yref": "y1"
         },
         {
          "align": "left",
          "font": {
           "color": "#000000"
          },
          "showarrow": false,
          "text": "8",
          "x": 1.55,
          "xanchor": "left",
          "xref": "x1",
          "y": 35,
          "yref": "y1"
         },
         {
          "align": "left",
          "font": {
           "color": "#000000"
          },
          "showarrow": false,
          "text": "2015",
          "x": -0.45,
          "xanchor": "left",
          "xref": "x1",
          "y": 36,
          "yref": "y1"
         },
         {
          "align": "left",
          "font": {
           "color": "#000000"
          },
          "showarrow": false,
          "text": "Release engineering",
          "x": 0.55,
          "xanchor": "left",
          "xref": "x1",
          "y": 36,
          "yref": "y1"
         },
         {
          "align": "left",
          "font": {
           "color": "#000000"
          },
          "showarrow": false,
          "text": "7",
          "x": 1.55,
          "xanchor": "left",
          "xref": "x1",
          "y": 36,
          "yref": "y1"
         },
         {
          "align": "left",
          "font": {
           "color": "#000000"
          },
          "showarrow": false,
          "text": "2015",
          "x": -0.45,
          "xanchor": "left",
          "xref": "x1",
          "y": 37,
          "yref": "y1"
         },
         {
          "align": "left",
          "font": {
           "color": "#000000"
          },
          "showarrow": false,
          "text": "Mozilla Clubs",
          "x": 0.55,
          "xanchor": "left",
          "xref": "x1",
          "y": 37,
          "yref": "y1"
         },
         {
          "align": "left",
          "font": {
           "color": "#000000"
          },
          "showarrow": false,
          "text": "3",
          "x": 1.55,
          "xanchor": "left",
          "xref": "x1",
          "y": 37,
          "yref": "y1"
         },
         {
          "align": "left",
          "font": {
           "color": "#000000"
          },
          "showarrow": false,
          "text": "2015",
          "x": -0.45,
          "xanchor": "left",
          "xref": "x1",
          "y": 38,
          "yref": "y1"
         },
         {
          "align": "left",
          "font": {
           "color": "#000000"
          },
          "showarrow": false,
          "text": "Mozilla Location Service (MLS) / Stumbler",
          "x": 0.55,
          "xanchor": "left",
          "xref": "x1",
          "y": 38,
          "yref": "y1"
         },
         {
          "align": "left",
          "font": {
           "color": "#000000"
          },
          "showarrow": false,
          "text": "3",
          "x": 1.55,
          "xanchor": "left",
          "xref": "x1",
          "y": 38,
          "yref": "y1"
         },
         {
          "align": "left",
          "font": {
           "color": "#000000"
          },
          "showarrow": false,
          "text": "2015",
          "x": -0.45,
          "xanchor": "left",
          "xref": "x1",
          "y": 39,
          "yref": "y1"
         },
         {
          "align": "left",
          "font": {
           "color": "#000000"
          },
          "showarrow": false,
          "text": "Developer Tools",
          "x": 0.55,
          "xanchor": "left",
          "xref": "x1",
          "y": 39,
          "yref": "y1"
         },
         {
          "align": "left",
          "font": {
           "color": "#000000"
          },
          "showarrow": false,
          "text": "2",
          "x": 1.55,
          "xanchor": "left",
          "xref": "x1",
          "y": 39,
          "yref": "y1"
         },
         {
          "align": "left",
          "font": {
           "color": "#000000"
          },
          "showarrow": false,
          "text": "2015",
          "x": -0.45,
          "xanchor": "left",
          "xref": "x1",
          "y": 40,
          "yref": "y1"
         },
         {
          "align": "left",
          "font": {
           "color": "#000000"
          },
          "showarrow": false,
          "text": "Mozilla Creative & Design",
          "x": 0.55,
          "xanchor": "left",
          "xref": "x1",
          "y": 40,
          "yref": "y1"
         },
         {
          "align": "left",
          "font": {
           "color": "#000000"
          },
          "showarrow": false,
          "text": "2",
          "x": 1.55,
          "xanchor": "left",
          "xref": "x1",
          "y": 40,
          "yref": "y1"
         },
         {
          "align": "left",
          "font": {
           "color": "#000000"
          },
          "showarrow": false,
          "text": "2014",
          "x": -0.45,
          "xanchor": "left",
          "xref": "x1",
          "y": 41,
          "yref": "y1"
         },
         {
          "align": "left",
          "font": {
           "color": "#000000"
          },
          "showarrow": false,
          "text": "Unknown",
          "x": 0.55,
          "xanchor": "left",
          "xref": "x1",
          "y": 41,
          "yref": "y1"
         },
         {
          "align": "left",
          "font": {
           "color": "#000000"
          },
          "showarrow": false,
          "text": "931",
          "x": 1.55,
          "xanchor": "left",
          "xref": "x1",
          "y": 41,
          "yref": "y1"
         },
         {
          "align": "left",
          "font": {
           "color": "#000000"
          },
          "showarrow": false,
          "text": "2014",
          "x": -0.45,
          "xanchor": "left",
          "xref": "x1",
          "y": 42,
          "yref": "y1"
         },
         {
          "align": "left",
          "font": {
           "color": "#000000"
          },
          "showarrow": false,
          "text": "Rust",
          "x": 0.55,
          "xanchor": "left",
          "xref": "x1",
          "y": 42,
          "yref": "y1"
         },
         {
          "align": "left",
          "font": {
           "color": "#000000"
          },
          "showarrow": false,
          "text": "520",
          "x": 1.55,
          "xanchor": "left",
          "xref": "x1",
          "y": 42,
          "yref": "y1"
         },
         {
          "align": "left",
          "font": {
           "color": "#000000"
          },
          "showarrow": false,
          "text": "2014",
          "x": -0.45,
          "xanchor": "left",
          "xref": "x1",
          "y": 43,
          "yref": "y1"
         },
         {
          "align": "left",
          "font": {
           "color": "#000000"
          },
          "showarrow": false,
          "text": "Web Properties",
          "x": 0.55,
          "xanchor": "left",
          "xref": "x1",
          "y": 43,
          "yref": "y1"
         },
         {
          "align": "left",
          "font": {
           "color": "#000000"
          },
          "showarrow": false,
          "text": "126",
          "x": 1.55,
          "xanchor": "left",
          "xref": "x1",
          "y": 43,
          "yref": "y1"
         },
         {
          "align": "left",
          "font": {
           "color": "#000000"
          },
          "showarrow": false,
          "text": "2014",
          "x": -0.45,
          "xanchor": "left",
          "xref": "x1",
          "y": 44,
          "yref": "y1"
         },
         {
          "align": "left",
          "font": {
           "color": "#000000"
          },
          "showarrow": false,
          "text": "Servo",
          "x": 0.55,
          "xanchor": "left",
          "xref": "x1",
          "y": 44,
          "yref": "y1"
         },
         {
          "align": "left",
          "font": {
           "color": "#000000"
          },
          "showarrow": false,
          "text": "119",
          "x": 1.55,
          "xanchor": "left",
          "xref": "x1",
          "y": 44,
          "yref": "y1"
         },
         {
          "align": "left",
          "font": {
           "color": "#000000"
          },
          "showarrow": false,
          "text": "2014",
          "x": -0.45,
          "xanchor": "left",
          "xref": "x1",
          "y": 45,
          "yref": "y1"
         },
         {
          "align": "left",
          "font": {
           "color": "#000000"
          },
          "showarrow": false,
          "text": "Mozilla Local/Regional communities",
          "x": 0.55,
          "xanchor": "left",
          "xref": "x1",
          "y": 45,
          "yref": "y1"
         },
         {
          "align": "left",
          "font": {
           "color": "#000000"
          },
          "showarrow": false,
          "text": "101",
          "x": 1.55,
          "xanchor": "left",
          "xref": "x1",
          "y": 45,
          "yref": "y1"
         },
         {
          "align": "left",
          "font": {
           "color": "#000000"
          },
          "showarrow": false,
          "text": "2014",
          "x": -0.45,
          "xanchor": "left",
          "xref": "x1",
          "y": 46,
          "yref": "y1"
         },
         {
          "align": "left",
          "font": {
           "color": "#000000"
          },
          "showarrow": false,
          "text": "IT/Ops",
          "x": 0.55,
          "xanchor": "left",
          "xref": "x1",
          "y": 46,
          "yref": "y1"
         },
         {
          "align": "left",
          "font": {
           "color": "#000000"
          },
          "showarrow": false,
          "text": "82",
          "x": 1.55,
          "xanchor": "left",
          "xref": "x1",
          "y": 46,
          "yref": "y1"
         },
         {
          "align": "left",
          "font": {
           "color": "#000000"
          },
          "showarrow": false,
          "text": "2014",
          "x": -0.45,
          "xanchor": "left",
          "xref": "x1",
          "y": 47,
          "yref": "y1"
         },
         {
          "align": "left",
          "font": {
           "color": "#000000"
          },
          "showarrow": false,
          "text": "Gecko",
          "x": 0.55,
          "xanchor": "left",
          "xref": "x1",
          "y": 47,
          "yref": "y1"
         },
         {
          "align": "left",
          "font": {
           "color": "#000000"
          },
          "showarrow": false,
          "text": "77",
          "x": 1.55,
          "xanchor": "left",
          "xref": "x1",
          "y": 47,
          "yref": "y1"
         },
         {
          "align": "left",
          "font": {
           "color": "#000000"
          },
          "showarrow": false,
          "text": "2014",
          "x": -0.45,
          "xanchor": "left",
          "xref": "x1",
          "y": 48,
          "yref": "y1"
         },
         {
          "align": "left",
          "font": {
           "color": "#000000"
          },
          "showarrow": false,
          "text": "Web Literacy",
          "x": 0.55,
          "xanchor": "left",
          "xref": "x1",
          "y": 48,
          "yref": "y1"
         },
         {
          "align": "left",
          "font": {
           "color": "#000000"
          },
          "showarrow": false,
          "text": "43",
          "x": 1.55,
          "xanchor": "left",
          "xref": "x1",
          "y": 48,
          "yref": "y1"
         },
         {
          "align": "left",
          "font": {
           "color": "#000000"
          },
          "showarrow": false,
          "text": "2014",
          "x": -0.45,
          "xanchor": "left",
          "xref": "x1",
          "y": 49,
          "yref": "y1"
         },
         {
          "align": "left",
          "font": {
           "color": "#000000"
          },
          "showarrow": false,
          "text": "Mozilla Location Service (MLS) / Stumbler",
          "x": 0.55,
          "xanchor": "left",
          "xref": "x1",
          "y": 49,
          "yref": "y1"
         },
         {
          "align": "left",
          "font": {
           "color": "#000000"
          },
          "showarrow": false,
          "text": "41",
          "x": 1.55,
          "xanchor": "left",
          "xref": "x1",
          "y": 49,
          "yref": "y1"
         },
         {
          "align": "left",
          "font": {
           "color": "#000000"
          },
          "showarrow": false,
          "text": "2014",
          "x": -0.45,
          "xanchor": "left",
          "xref": "x1",
          "y": 50,
          "yref": "y1"
         },
         {
          "align": "left",
          "font": {
           "color": "#000000"
          },
          "showarrow": false,
          "text": "Addons/Web Extensions",
          "x": 0.55,
          "xanchor": "left",
          "xref": "x1",
          "y": 50,
          "yref": "y1"
         },
         {
          "align": "left",
          "font": {
           "color": "#000000"
          },
          "showarrow": false,
          "text": "31",
          "x": 1.55,
          "xanchor": "left",
          "xref": "x1",
          "y": 50,
          "yref": "y1"
         },
         {
          "align": "left",
          "font": {
           "color": "#000000"
          },
          "showarrow": false,
          "text": "2014",
          "x": -0.45,
          "xanchor": "left",
          "xref": "x1",
          "y": 51,
          "yref": "y1"
         },
         {
          "align": "left",
          "font": {
           "color": "#000000"
          },
          "showarrow": false,
          "text": "Firefox",
          "x": 0.55,
          "xanchor": "left",
          "xref": "x1",
          "y": 51,
          "yref": "y1"
         },
         {
          "align": "left",
          "font": {
           "color": "#000000"
          },
          "showarrow": false,
          "text": "17",
          "x": 1.55,
          "xanchor": "left",
          "xref": "x1",
          "y": 51,
          "yref": "y1"
         },
         {
          "align": "left",
          "font": {
           "color": "#000000"
          },
          "showarrow": false,
          "text": "2014",
          "x": -0.45,
          "xanchor": "left",
          "xref": "x1",
          "y": 52,
          "yref": "y1"
         },
         {
          "align": "left",
          "font": {
           "color": "#000000"
          },
          "showarrow": false,
          "text": "Mozilla Foundation",
          "x": 0.55,
          "xanchor": "left",
          "xref": "x1",
          "y": 52,
          "yref": "y1"
         },
         {
          "align": "left",
          "font": {
           "color": "#000000"
          },
          "showarrow": false,
          "text": "14",
          "x": 1.55,
          "xanchor": "left",
          "xref": "x1",
          "y": 52,
          "yref": "y1"
         },
         {
          "align": "left",
          "font": {
           "color": "#000000"
          },
          "showarrow": false,
          "text": "2014",
          "x": -0.45,
          "xanchor": "left",
          "xref": "x1",
          "y": 53,
          "yref": "y1"
         },
         {
          "align": "left",
          "font": {
           "color": "#000000"
          },
          "showarrow": false,
          "text": "Mozilla Science",
          "x": 0.55,
          "xanchor": "left",
          "xref": "x1",
          "y": 53,
          "yref": "y1"
         },
         {
          "align": "left",
          "font": {
           "color": "#000000"
          },
          "showarrow": false,
          "text": "10",
          "x": 1.55,
          "xanchor": "left",
          "xref": "x1",
          "y": 53,
          "yref": "y1"
         },
         {
          "align": "left",
          "font": {
           "color": "#000000"
          },
          "showarrow": false,
          "text": "2014",
          "x": -0.45,
          "xanchor": "left",
          "xref": "x1",
          "y": 54,
          "yref": "y1"
         },
         {
          "align": "left",
          "font": {
           "color": "#000000"
          },
          "showarrow": false,
          "text": "Firefox OS (FxOS / B2G)",
          "x": 0.55,
          "xanchor": "left",
          "xref": "x1",
          "y": 54,
          "yref": "y1"
         },
         {
          "align": "left",
          "font": {
           "color": "#000000"
          },
          "showarrow": false,
          "text": "8",
          "x": 1.55,
          "xanchor": "left",
          "xref": "x1",
          "y": 54,
          "yref": "y1"
         },
         {
          "align": "left",
          "font": {
           "color": "#000000"
          },
          "showarrow": false,
          "text": "2014",
          "x": -0.45,
          "xanchor": "left",
          "xref": "x1",
          "y": 55,
          "yref": "y1"
         },
         {
          "align": "left",
          "font": {
           "color": "#000000"
          },
          "showarrow": false,
          "text": "Quality Assurance",
          "x": 0.55,
          "xanchor": "left",
          "xref": "x1",
          "y": 55,
          "yref": "y1"
         },
         {
          "align": "left",
          "font": {
           "color": "#000000"
          },
          "showarrow": false,
          "text": "7",
          "x": 1.55,
          "xanchor": "left",
          "xref": "x1",
          "y": 55,
          "yref": "y1"
         },
         {
          "align": "left",
          "font": {
           "color": "#000000"
          },
          "showarrow": false,
          "text": "2014",
          "x": -0.45,
          "xanchor": "left",
          "xref": "x1",
          "y": 56,
          "yref": "y1"
         },
         {
          "align": "left",
          "font": {
           "color": "#000000"
          },
          "showarrow": false,
          "text": "Release engineering",
          "x": 0.55,
          "xanchor": "left",
          "xref": "x1",
          "y": 56,
          "yref": "y1"
         },
         {
          "align": "left",
          "font": {
           "color": "#000000"
          },
          "showarrow": false,
          "text": "7",
          "x": 1.55,
          "xanchor": "left",
          "xref": "x1",
          "y": 56,
          "yref": "y1"
         },
         {
          "align": "left",
          "font": {
           "color": "#000000"
          },
          "showarrow": false,
          "text": "2014",
          "x": -0.45,
          "xanchor": "left",
          "xref": "x1",
          "y": 57,
          "yref": "y1"
         },
         {
          "align": "left",
          "font": {
           "color": "#000000"
          },
          "showarrow": false,
          "text": "Marketing / Social Media",
          "x": 0.55,
          "xanchor": "left",
          "xref": "x1",
          "y": 57,
          "yref": "y1"
         },
         {
          "align": "left",
          "font": {
           "color": "#000000"
          },
          "showarrow": false,
          "text": "6",
          "x": 1.55,
          "xanchor": "left",
          "xref": "x1",
          "y": 57,
          "yref": "y1"
         },
         {
          "align": "left",
          "font": {
           "color": "#000000"
          },
          "showarrow": false,
          "text": "2014",
          "x": -0.45,
          "xanchor": "left",
          "xref": "x1",
          "y": 58,
          "yref": "y1"
         },
         {
          "align": "left",
          "font": {
           "color": "#000000"
          },
          "showarrow": false,
          "text": "Firefox iOS",
          "x": 0.55,
          "xanchor": "left",
          "xref": "x1",
          "y": 58,
          "yref": "y1"
         },
         {
          "align": "left",
          "font": {
           "color": "#000000"
          },
          "showarrow": false,
          "text": "5",
          "x": 1.55,
          "xanchor": "left",
          "xref": "x1",
          "y": 58,
          "yref": "y1"
         },
         {
          "align": "left",
          "font": {
           "color": "#000000"
          },
          "showarrow": false,
          "text": "2014",
          "x": -0.45,
          "xanchor": "left",
          "xref": "x1",
          "y": 59,
          "yref": "y1"
         },
         {
          "align": "left",
          "font": {
           "color": "#000000"
          },
          "showarrow": false,
          "text": "Advocacy and policy",
          "x": 0.55,
          "xanchor": "left",
          "xref": "x1",
          "y": 59,
          "yref": "y1"
         },
         {
          "align": "left",
          "font": {
           "color": "#000000"
          },
          "showarrow": false,
          "text": "3",
          "x": 1.55,
          "xanchor": "left",
          "xref": "x1",
          "y": 59,
          "yref": "y1"
         },
         {
          "align": "left",
          "font": {
           "color": "#000000"
          },
          "showarrow": false,
          "text": "2014",
          "x": -0.45,
          "xanchor": "left",
          "xref": "x1",
          "y": 60,
          "yref": "y1"
         },
         {
          "align": "left",
          "font": {
           "color": "#000000"
          },
          "showarrow": false,
          "text": "Mozilla Developer Network (MDN)",
          "x": 0.55,
          "xanchor": "left",
          "xref": "x1",
          "y": 60,
          "yref": "y1"
         },
         {
          "align": "left",
          "font": {
           "color": "#000000"
          },
          "showarrow": false,
          "text": "3",
          "x": 1.55,
          "xanchor": "left",
          "xref": "x1",
          "y": 60,
          "yref": "y1"
         },
         {
          "align": "left",
          "font": {
           "color": "#000000"
          },
          "showarrow": false,
          "text": "2013",
          "x": -0.45,
          "xanchor": "left",
          "xref": "x1",
          "y": 61,
          "yref": "y1"
         },
         {
          "align": "left",
          "font": {
           "color": "#000000"
          },
          "showarrow": false,
          "text": "Unknown",
          "x": 0.55,
          "xanchor": "left",
          "xref": "x1",
          "y": 61,
          "yref": "y1"
         },
         {
          "align": "left",
          "font": {
           "color": "#000000"
          },
          "showarrow": false,
          "text": "698",
          "x": 1.55,
          "xanchor": "left",
          "xref": "x1",
          "y": 61,
          "yref": "y1"
         },
         {
          "align": "left",
          "font": {
           "color": "#000000"
          },
          "showarrow": false,
          "text": "2013",
          "x": -0.45,
          "xanchor": "left",
          "xref": "x1",
          "y": 62,
          "yref": "y1"
         },
         {
          "align": "left",
          "font": {
           "color": "#000000"
          },
          "showarrow": false,
          "text": "Rust",
          "x": 0.55,
          "xanchor": "left",
          "xref": "x1",
          "y": 62,
          "yref": "y1"
         },
         {
          "align": "left",
          "font": {
           "color": "#000000"
          },
          "showarrow": false,
          "text": "231",
          "x": 1.55,
          "xanchor": "left",
          "xref": "x1",
          "y": 62,
          "yref": "y1"
         },
         {
          "align": "left",
          "font": {
           "color": "#000000"
          },
          "showarrow": false,
          "text": "2013",
          "x": -0.45,
          "xanchor": "left",
          "xref": "x1",
          "y": 63,
          "yref": "y1"
         },
         {
          "align": "left",
          "font": {
           "color": "#000000"
          },
          "showarrow": false,
          "text": "Web Properties",
          "x": 0.55,
          "xanchor": "left",
          "xref": "x1",
          "y": 63,
          "yref": "y1"
         },
         {
          "align": "left",
          "font": {
           "color": "#000000"
          },
          "showarrow": false,
          "text": "106",
          "x": 1.55,
          "xanchor": "left",
          "xref": "x1",
          "y": 63,
          "yref": "y1"
         },
         {
          "align": "left",
          "font": {
           "color": "#000000"
          },
          "showarrow": false,
          "text": "2013",
          "x": -0.45,
          "xanchor": "left",
          "xref": "x1",
          "y": 64,
          "yref": "y1"
         },
         {
          "align": "left",
          "font": {
           "color": "#000000"
          },
          "showarrow": false,
          "text": "Gecko",
          "x": 0.55,
          "xanchor": "left",
          "xref": "x1",
          "y": 64,
          "yref": "y1"
         },
         {
          "align": "left",
          "font": {
           "color": "#000000"
          },
          "showarrow": false,
          "text": "60",
          "x": 1.55,
          "xanchor": "left",
          "xref": "x1",
          "y": 64,
          "yref": "y1"
         },
         {
          "align": "left",
          "font": {
           "color": "#000000"
          },
          "showarrow": false,
          "text": "2013",
          "x": -0.45,
          "xanchor": "left",
          "xref": "x1",
          "y": 65,
          "yref": "y1"
         },
         {
          "align": "left",
          "font": {
           "color": "#000000"
          },
          "showarrow": false,
          "text": "Mozilla Local/Regional communities",
          "x": 0.55,
          "xanchor": "left",
          "xref": "x1",
          "y": 65,
          "yref": "y1"
         },
         {
          "align": "left",
          "font": {
           "color": "#000000"
          },
          "showarrow": false,
          "text": "49",
          "x": 1.55,
          "xanchor": "left",
          "xref": "x1",
          "y": 65,
          "yref": "y1"
         },
         {
          "align": "left",
          "font": {
           "color": "#000000"
          },
          "showarrow": false,
          "text": "2013",
          "x": -0.45,
          "xanchor": "left",
          "xref": "x1",
          "y": 66,
          "yref": "y1"
         },
         {
          "align": "left",
          "font": {
           "color": "#000000"
          },
          "showarrow": false,
          "text": "Servo",
          "x": 0.55,
          "xanchor": "left",
          "xref": "x1",
          "y": 66,
          "yref": "y1"
         },
         {
          "align": "left",
          "font": {
           "color": "#000000"
          },
          "showarrow": false,
          "text": "44",
          "x": 1.55,
          "xanchor": "left",
          "xref": "x1",
          "y": 66,
          "yref": "y1"
         },
         {
          "align": "left",
          "font": {
           "color": "#000000"
          },
          "showarrow": false,
          "text": "2013",
          "x": -0.45,
          "xanchor": "left",
          "xref": "x1",
          "y": 67,
          "yref": "y1"
         },
         {
          "align": "left",
          "font": {
           "color": "#000000"
          },
          "showarrow": false,
          "text": "IT/Ops",
          "x": 0.55,
          "xanchor": "left",
          "xref": "x1",
          "y": 67,
          "yref": "y1"
         },
         {
          "align": "left",
          "font": {
           "color": "#000000"
          },
          "showarrow": false,
          "text": "43",
          "x": 1.55,
          "xanchor": "left",
          "xref": "x1",
          "y": 67,
          "yref": "y1"
         },
         {
          "align": "left",
          "font": {
           "color": "#000000"
          },
          "showarrow": false,
          "text": "2013",
          "x": -0.45,
          "xanchor": "left",
          "xref": "x1",
          "y": 68,
          "yref": "y1"
         },
         {
          "align": "left",
          "font": {
           "color": "#000000"
          },
          "showarrow": false,
          "text": "Mozilla Foundation",
          "x": 0.55,
          "xanchor": "left",
          "xref": "x1",
          "y": 68,
          "yref": "y1"
         },
         {
          "align": "left",
          "font": {
           "color": "#000000"
          },
          "showarrow": false,
          "text": "30",
          "x": 1.55,
          "xanchor": "left",
          "xref": "x1",
          "y": 68,
          "yref": "y1"
         },
         {
          "align": "left",
          "font": {
           "color": "#000000"
          },
          "showarrow": false,
          "text": "2013",
          "x": -0.45,
          "xanchor": "left",
          "xref": "x1",
          "y": 69,
          "yref": "y1"
         },
         {
          "align": "left",
          "font": {
           "color": "#000000"
          },
          "showarrow": false,
          "text": "Addons/Web Extensions",
          "x": 0.55,
          "xanchor": "left",
          "xref": "x1",
          "y": 69,
          "yref": "y1"
         },
         {
          "align": "left",
          "font": {
           "color": "#000000"
          },
          "showarrow": false,
          "text": "26",
          "x": 1.55,
          "xanchor": "left",
          "xref": "x1",
          "y": 69,
          "yref": "y1"
         },
         {
          "align": "left",
          "font": {
           "color": "#000000"
          },
          "showarrow": false,
          "text": "2013",
          "x": -0.45,
          "xanchor": "left",
          "xref": "x1",
          "y": 70,
          "yref": "y1"
         },
         {
          "align": "left",
          "font": {
           "color": "#000000"
          },
          "showarrow": false,
          "text": "Web Literacy",
          "x": 0.55,
          "xanchor": "left",
          "xref": "x1",
          "y": 70,
          "yref": "y1"
         },
         {
          "align": "left",
          "font": {
           "color": "#000000"
          },
          "showarrow": false,
          "text": "17",
          "x": 1.55,
          "xanchor": "left",
          "xref": "x1",
          "y": 70,
          "yref": "y1"
         },
         {
          "align": "left",
          "font": {
           "color": "#000000"
          },
          "showarrow": false,
          "text": "2013",
          "x": -0.45,
          "xanchor": "left",
          "xref": "x1",
          "y": 71,
          "yref": "y1"
         },
         {
          "align": "left",
          "font": {
           "color": "#000000"
          },
          "showarrow": false,
          "text": "Firefox",
          "x": 0.55,
          "xanchor": "left",
          "xref": "x1",
          "y": 71,
          "yref": "y1"
         },
         {
          "align": "left",
          "font": {
           "color": "#000000"
          },
          "showarrow": false,
          "text": "16",
          "x": 1.55,
          "xanchor": "left",
          "xref": "x1",
          "y": 71,
          "yref": "y1"
         },
         {
          "align": "left",
          "font": {
           "color": "#000000"
          },
          "showarrow": false,
          "text": "2013",
          "x": -0.45,
          "xanchor": "left",
          "xref": "x1",
          "y": 72,
          "yref": "y1"
         },
         {
          "align": "left",
          "font": {
           "color": "#000000"
          },
          "showarrow": false,
          "text": "Mozilla Location Service (MLS) / Stumbler",
          "x": 0.55,
          "xanchor": "left",
          "xref": "x1",
          "y": 72,
          "yref": "y1"
         },
         {
          "align": "left",
          "font": {
           "color": "#000000"
          },
          "showarrow": false,
          "text": "16",
          "x": 1.55,
          "xanchor": "left",
          "xref": "x1",
          "y": 72,
          "yref": "y1"
         },
         {
          "align": "left",
          "font": {
           "color": "#000000"
          },
          "showarrow": false,
          "text": "2013",
          "x": -0.45,
          "xanchor": "left",
          "xref": "x1",
          "y": 73,
          "yref": "y1"
         },
         {
          "align": "left",
          "font": {
           "color": "#000000"
          },
          "showarrow": false,
          "text": "Release engineering",
          "x": 0.55,
          "xanchor": "left",
          "xref": "x1",
          "y": 73,
          "yref": "y1"
         },
         {
          "align": "left",
          "font": {
           "color": "#000000"
          },
          "showarrow": false,
          "text": "5",
          "x": 1.55,
          "xanchor": "left",
          "xref": "x1",
          "y": 73,
          "yref": "y1"
         },
         {
          "align": "left",
          "font": {
           "color": "#000000"
          },
          "showarrow": false,
          "text": "2013",
          "x": -0.45,
          "xanchor": "left",
          "xref": "x1",
          "y": 74,
          "yref": "y1"
         },
         {
          "align": "left",
          "font": {
           "color": "#000000"
          },
          "showarrow": false,
          "text": "Firefox OS (FxOS / B2G)",
          "x": 0.55,
          "xanchor": "left",
          "xref": "x1",
          "y": 74,
          "yref": "y1"
         },
         {
          "align": "left",
          "font": {
           "color": "#000000"
          },
          "showarrow": false,
          "text": "4",
          "x": 1.55,
          "xanchor": "left",
          "xref": "x1",
          "y": 74,
          "yref": "y1"
         },
         {
          "align": "left",
          "font": {
           "color": "#000000"
          },
          "showarrow": false,
          "text": "2013",
          "x": -0.45,
          "xanchor": "left",
          "xref": "x1",
          "y": 75,
          "yref": "y1"
         },
         {
          "align": "left",
          "font": {
           "color": "#000000"
          },
          "showarrow": false,
          "text": "Quality Assurance",
          "x": 0.55,
          "xanchor": "left",
          "xref": "x1",
          "y": 75,
          "yref": "y1"
         },
         {
          "align": "left",
          "font": {
           "color": "#000000"
          },
          "showarrow": false,
          "text": "4",
          "x": 1.55,
          "xanchor": "left",
          "xref": "x1",
          "y": 75,
          "yref": "y1"
         },
         {
          "align": "left",
          "font": {
           "color": "#000000"
          },
          "showarrow": false,
          "text": "2013",
          "x": -0.45,
          "xanchor": "left",
          "xref": "x1",
          "y": 76,
          "yref": "y1"
         },
         {
          "align": "left",
          "font": {
           "color": "#000000"
          },
          "showarrow": false,
          "text": "Mozilla Creative & Design",
          "x": 0.55,
          "xanchor": "left",
          "xref": "x1",
          "y": 76,
          "yref": "y1"
         },
         {
          "align": "left",
          "font": {
           "color": "#000000"
          },
          "showarrow": false,
          "text": "2",
          "x": 1.55,
          "xanchor": "left",
          "xref": "x1",
          "y": 76,
          "yref": "y1"
         },
         {
          "align": "left",
          "font": {
           "color": "#000000"
          },
          "showarrow": false,
          "text": "2013",
          "x": -0.45,
          "xanchor": "left",
          "xref": "x1",
          "y": 77,
          "yref": "y1"
         },
         {
          "align": "left",
          "font": {
           "color": "#000000"
          },
          "showarrow": false,
          "text": "Mozilla Developer Network (MDN)",
          "x": 0.55,
          "xanchor": "left",
          "xref": "x1",
          "y": 77,
          "yref": "y1"
         },
         {
          "align": "left",
          "font": {
           "color": "#000000"
          },
          "showarrow": false,
          "text": "2",
          "x": 1.55,
          "xanchor": "left",
          "xref": "x1",
          "y": 77,
          "yref": "y1"
         },
         {
          "align": "left",
          "font": {
           "color": "#000000"
          },
          "showarrow": false,
          "text": "2013",
          "x": -0.45,
          "xanchor": "left",
          "xref": "x1",
          "y": 78,
          "yref": "y1"
         },
         {
          "align": "left",
          "font": {
           "color": "#000000"
          },
          "showarrow": false,
          "text": "Firefox iOS",
          "x": 0.55,
          "xanchor": "left",
          "xref": "x1",
          "y": 78,
          "yref": "y1"
         },
         {
          "align": "left",
          "font": {
           "color": "#000000"
          },
          "showarrow": false,
          "text": "1",
          "x": 1.55,
          "xanchor": "left",
          "xref": "x1",
          "y": 78,
          "yref": "y1"
         },
         {
          "align": "left",
          "font": {
           "color": "#000000"
          },
          "showarrow": false,
          "text": "2013",
          "x": -0.45,
          "xanchor": "left",
          "xref": "x1",
          "y": 79,
          "yref": "y1"
         },
         {
          "align": "left",
          "font": {
           "color": "#000000"
          },
          "showarrow": false,
          "text": "Marketing / Social Media",
          "x": 0.55,
          "xanchor": "left",
          "xref": "x1",
          "y": 79,
          "yref": "y1"
         },
         {
          "align": "left",
          "font": {
           "color": "#000000"
          },
          "showarrow": false,
          "text": "1",
          "x": 1.55,
          "xanchor": "left",
          "xref": "x1",
          "y": 79,
          "yref": "y1"
         },
         {
          "align": "left",
          "font": {
           "color": "#000000"
          },
          "showarrow": false,
          "text": "2013",
          "x": -0.45,
          "xanchor": "left",
          "xref": "x1",
          "y": 80,
          "yref": "y1"
         },
         {
          "align": "left",
          "font": {
           "color": "#000000"
          },
          "showarrow": false,
          "text": "Mozilla Science",
          "x": 0.55,
          "xanchor": "left",
          "xref": "x1",
          "y": 80,
          "yref": "y1"
         },
         {
          "align": "left",
          "font": {
           "color": "#000000"
          },
          "showarrow": false,
          "text": "1",
          "x": 1.55,
          "xanchor": "left",
          "xref": "x1",
          "y": 80,
          "yref": "y1"
         },
         {
          "align": "left",
          "font": {
           "color": "#000000"
          },
          "showarrow": false,
          "text": "2012",
          "x": -0.45,
          "xanchor": "left",
          "xref": "x1",
          "y": 81,
          "yref": "y1"
         },
         {
          "align": "left",
          "font": {
           "color": "#000000"
          },
          "showarrow": false,
          "text": "Unknown",
          "x": 0.55,
          "xanchor": "left",
          "xref": "x1",
          "y": 81,
          "yref": "y1"
         },
         {
          "align": "left",
          "font": {
           "color": "#000000"
          },
          "showarrow": false,
          "text": "534",
          "x": 1.55,
          "xanchor": "left",
          "xref": "x1",
          "y": 81,
          "yref": "y1"
         },
         {
          "align": "left",
          "font": {
           "color": "#000000"
          },
          "showarrow": false,
          "text": "2012",
          "x": -0.45,
          "xanchor": "left",
          "xref": "x1",
          "y": 82,
          "yref": "y1"
         },
         {
          "align": "left",
          "font": {
           "color": "#000000"
          },
          "showarrow": false,
          "text": "Rust",
          "x": 0.55,
          "xanchor": "left",
          "xref": "x1",
          "y": 82,
          "yref": "y1"
         },
         {
          "align": "left",
          "font": {
           "color": "#000000"
          },
          "showarrow": false,
          "text": "85",
          "x": 1.55,
          "xanchor": "left",
          "xref": "x1",
          "y": 82,
          "yref": "y1"
         },
         {
          "align": "left",
          "font": {
           "color": "#000000"
          },
          "showarrow": false,
          "text": "2012",
          "x": -0.45,
          "xanchor": "left",
          "xref": "x1",
          "y": 83,
          "yref": "y1"
         },
         {
          "align": "left",
          "font": {
           "color": "#000000"
          },
          "showarrow": false,
          "text": "Web Properties",
          "x": 0.55,
          "xanchor": "left",
          "xref": "x1",
          "y": 83,
          "yref": "y1"
         },
         {
          "align": "left",
          "font": {
           "color": "#000000"
          },
          "showarrow": false,
          "text": "54",
          "x": 1.55,
          "xanchor": "left",
          "xref": "x1",
          "y": 83,
          "yref": "y1"
         },
         {
          "align": "left",
          "font": {
           "color": "#000000"
          },
          "showarrow": false,
          "text": "2012",
          "x": -0.45,
          "xanchor": "left",
          "xref": "x1",
          "y": 84,
          "yref": "y1"
         },
         {
          "align": "left",
          "font": {
           "color": "#000000"
          },
          "showarrow": false,
          "text": "IT/Ops",
          "x": 0.55,
          "xanchor": "left",
          "xref": "x1",
          "y": 84,
          "yref": "y1"
         },
         {
          "align": "left",
          "font": {
           "color": "#000000"
          },
          "showarrow": false,
          "text": "48",
          "x": 1.55,
          "xanchor": "left",
          "xref": "x1",
          "y": 84,
          "yref": "y1"
         },
         {
          "align": "left",
          "font": {
           "color": "#000000"
          },
          "showarrow": false,
          "text": "2012",
          "x": -0.45,
          "xanchor": "left",
          "xref": "x1",
          "y": 85,
          "yref": "y1"
         },
         {
          "align": "left",
          "font": {
           "color": "#000000"
          },
          "showarrow": false,
          "text": "Servo",
          "x": 0.55,
          "xanchor": "left",
          "xref": "x1",
          "y": 85,
          "yref": "y1"
         },
         {
          "align": "left",
          "font": {
           "color": "#000000"
          },
          "showarrow": false,
          "text": "47",
          "x": 1.55,
          "xanchor": "left",
          "xref": "x1",
          "y": 85,
          "yref": "y1"
         },
         {
          "align": "left",
          "font": {
           "color": "#000000"
          },
          "showarrow": false,
          "text": "2012",
          "x": -0.45,
          "xanchor": "left",
          "xref": "x1",
          "y": 86,
          "yref": "y1"
         },
         {
          "align": "left",
          "font": {
           "color": "#000000"
          },
          "showarrow": false,
          "text": "Mozilla Local/Regional communities",
          "x": 0.55,
          "xanchor": "left",
          "xref": "x1",
          "y": 86,
          "yref": "y1"
         },
         {
          "align": "left",
          "font": {
           "color": "#000000"
          },
          "showarrow": false,
          "text": "36",
          "x": 1.55,
          "xanchor": "left",
          "xref": "x1",
          "y": 86,
          "yref": "y1"
         },
         {
          "align": "left",
          "font": {
           "color": "#000000"
          },
          "showarrow": false,
          "text": "2012",
          "x": -0.45,
          "xanchor": "left",
          "xref": "x1",
          "y": 87,
          "yref": "y1"
         },
         {
          "align": "left",
          "font": {
           "color": "#000000"
          },
          "showarrow": false,
          "text": "Gecko",
          "x": 0.55,
          "xanchor": "left",
          "xref": "x1",
          "y": 87,
          "yref": "y1"
         },
         {
          "align": "left",
          "font": {
           "color": "#000000"
          },
          "showarrow": false,
          "text": "27",
          "x": 1.55,
          "xanchor": "left",
          "xref": "x1",
          "y": 87,
          "yref": "y1"
         },
         {
          "align": "left",
          "font": {
           "color": "#000000"
          },
          "showarrow": false,
          "text": "2012",
          "x": -0.45,
          "xanchor": "left",
          "xref": "x1",
          "y": 88,
          "yref": "y1"
         },
         {
          "align": "left",
          "font": {
           "color": "#000000"
          },
          "showarrow": false,
          "text": "Addons/Web Extensions",
          "x": 0.55,
          "xanchor": "left",
          "xref": "x1",
          "y": 88,
          "yref": "y1"
         },
         {
          "align": "left",
          "font": {
           "color": "#000000"
          },
          "showarrow": false,
          "text": "20",
          "x": 1.55,
          "xanchor": "left",
          "xref": "x1",
          "y": 88,
          "yref": "y1"
         },
         {
          "align": "left",
          "font": {
           "color": "#000000"
          },
          "showarrow": false,
          "text": "2012",
          "x": -0.45,
          "xanchor": "left",
          "xref": "x1",
          "y": 89,
          "yref": "y1"
         },
         {
          "align": "left",
          "font": {
           "color": "#000000"
          },
          "showarrow": false,
          "text": "Mozilla Foundation",
          "x": 0.55,
          "xanchor": "left",
          "xref": "x1",
          "y": 89,
          "yref": "y1"
         },
         {
          "align": "left",
          "font": {
           "color": "#000000"
          },
          "showarrow": false,
          "text": "14",
          "x": 1.55,
          "xanchor": "left",
          "xref": "x1",
          "y": 89,
          "yref": "y1"
         },
         {
          "align": "left",
          "font": {
           "color": "#000000"
          },
          "showarrow": false,
          "text": "2012",
          "x": -0.45,
          "xanchor": "left",
          "xref": "x1",
          "y": 90,
          "yref": "y1"
         },
         {
          "align": "left",
          "font": {
           "color": "#000000"
          },
          "showarrow": false,
          "text": "Web Literacy",
          "x": 0.55,
          "xanchor": "left",
          "xref": "x1",
          "y": 90,
          "yref": "y1"
         },
         {
          "align": "left",
          "font": {
           "color": "#000000"
          },
          "showarrow": false,
          "text": "9",
          "x": 1.55,
          "xanchor": "left",
          "xref": "x1",
          "y": 90,
          "yref": "y1"
         },
         {
          "align": "left",
          "font": {
           "color": "#000000"
          },
          "showarrow": false,
          "text": "2012",
          "x": -0.45,
          "xanchor": "left",
          "xref": "x1",
          "y": 91,
          "yref": "y1"
         },
         {
          "align": "left",
          "font": {
           "color": "#000000"
          },
          "showarrow": false,
          "text": "Firefox",
          "x": 0.55,
          "xanchor": "left",
          "xref": "x1",
          "y": 91,
          "yref": "y1"
         },
         {
          "align": "left",
          "font": {
           "color": "#000000"
          },
          "showarrow": false,
          "text": "7",
          "x": 1.55,
          "xanchor": "left",
          "xref": "x1",
          "y": 91,
          "yref": "y1"
         },
         {
          "align": "left",
          "font": {
           "color": "#000000"
          },
          "showarrow": false,
          "text": "2012",
          "x": -0.45,
          "xanchor": "left",
          "xref": "x1",
          "y": 92,
          "yref": "y1"
         },
         {
          "align": "left",
          "font": {
           "color": "#000000"
          },
          "showarrow": false,
          "text": "Release engineering",
          "x": 0.55,
          "xanchor": "left",
          "xref": "x1",
          "y": 92,
          "yref": "y1"
         },
         {
          "align": "left",
          "font": {
           "color": "#000000"
          },
          "showarrow": false,
          "text": "7",
          "x": 1.55,
          "xanchor": "left",
          "xref": "x1",
          "y": 92,
          "yref": "y1"
         },
         {
          "align": "left",
          "font": {
           "color": "#000000"
          },
          "showarrow": false,
          "text": "2012",
          "x": -0.45,
          "xanchor": "left",
          "xref": "x1",
          "y": 93,
          "yref": "y1"
         },
         {
          "align": "left",
          "font": {
           "color": "#000000"
          },
          "showarrow": false,
          "text": "Firefox OS (FxOS / B2G)",
          "x": 0.55,
          "xanchor": "left",
          "xref": "x1",
          "y": 93,
          "yref": "y1"
         },
         {
          "align": "left",
          "font": {
           "color": "#000000"
          },
          "showarrow": false,
          "text": "3",
          "x": 1.55,
          "xanchor": "left",
          "xref": "x1",
          "y": 93,
          "yref": "y1"
         },
         {
          "align": "left",
          "font": {
           "color": "#000000"
          },
          "showarrow": false,
          "text": "2012",
          "x": -0.45,
          "xanchor": "left",
          "xref": "x1",
          "y": 94,
          "yref": "y1"
         },
         {
          "align": "left",
          "font": {
           "color": "#000000"
          },
          "showarrow": false,
          "text": "Localization",
          "x": 0.55,
          "xanchor": "left",
          "xref": "x1",
          "y": 94,
          "yref": "y1"
         },
         {
          "align": "left",
          "font": {
           "color": "#000000"
          },
          "showarrow": false,
          "text": "3",
          "x": 1.55,
          "xanchor": "left",
          "xref": "x1",
          "y": 94,
          "yref": "y1"
         },
         {
          "align": "left",
          "font": {
           "color": "#000000"
          },
          "showarrow": false,
          "text": "2012",
          "x": -0.45,
          "xanchor": "left",
          "xref": "x1",
          "y": 95,
          "yref": "y1"
         },
         {
          "align": "left",
          "font": {
           "color": "#000000"
          },
          "showarrow": false,
          "text": "Quality Assurance",
          "x": 0.55,
          "xanchor": "left",
          "xref": "x1",
          "y": 95,
          "yref": "y1"
         },
         {
          "align": "left",
          "font": {
           "color": "#000000"
          },
          "showarrow": false,
          "text": "2",
          "x": 1.55,
          "xanchor": "left",
          "xref": "x1",
          "y": 95,
          "yref": "y1"
         }
        ],
        "height": 2930,
        "margin": {
         "b": 0,
         "l": 0,
         "r": 0,
         "t": 0
        },
        "xaxis": {
         "dtick": 1,
         "gridwidth": 2,
         "showticklabels": false,
         "tick0": -0.5,
         "ticks": "",
         "zeroline": false
        },
        "yaxis": {
         "autorange": "reversed",
         "dtick": 1,
         "gridwidth": 2,
         "showticklabels": false,
         "tick0": 0.5,
         "ticks": "",
         "zeroline": false
        }
       }
      },
      "text/html": [
       "<div id=\"94f064f9-85cc-489b-9a54-98657e4d3881\" style=\"height: 2930px; width: 100%;\" class=\"plotly-graph-div\"></div><script type=\"text/javascript\">require([\"plotly\"], function(Plotly) { window.PLOTLYENV=window.PLOTLYENV || {};window.PLOTLYENV.BASE_URL=\"https://plot.ly\";Plotly.newPlot(\"94f064f9-85cc-489b-9a54-98657e4d3881\", [{\"colorscale\": [[0, \"#00083e\"], [0.5, \"#ededee\"], [1, \"#ffffff\"]], \"z\": [[0, 0, 0], [0.5, 0.5, 0.5], [1, 1, 1], [0.5, 0.5, 0.5], [1, 1, 1], [0.5, 0.5, 0.5], [1, 1, 1], [0.5, 0.5, 0.5], [1, 1, 1], [0.5, 0.5, 0.5], [1, 1, 1], [0.5, 0.5, 0.5], [1, 1, 1], [0.5, 0.5, 0.5], [1, 1, 1], [0.5, 0.5, 0.5], [1, 1, 1], [0.5, 0.5, 0.5], [1, 1, 1], [0.5, 0.5, 0.5], [1, 1, 1], [0.5, 0.5, 0.5], [1, 1, 1], [0.5, 0.5, 0.5], [1, 1, 1], [0.5, 0.5, 0.5], [1, 1, 1], [0.5, 0.5, 0.5], [1, 1, 1], [0.5, 0.5, 0.5], [1, 1, 1], [0.5, 0.5, 0.5], [1, 1, 1], [0.5, 0.5, 0.5], [1, 1, 1], [0.5, 0.5, 0.5], [1, 1, 1], [0.5, 0.5, 0.5], [1, 1, 1], [0.5, 0.5, 0.5], [1, 1, 1], [0.5, 0.5, 0.5], [1, 1, 1], [0.5, 0.5, 0.5], [1, 1, 1], [0.5, 0.5, 0.5], [1, 1, 1], [0.5, 0.5, 0.5], [1, 1, 1], [0.5, 0.5, 0.5], [1, 1, 1], [0.5, 0.5, 0.5], [1, 1, 1], [0.5, 0.5, 0.5], [1, 1, 1], [0.5, 0.5, 0.5], [1, 1, 1], [0.5, 0.5, 0.5], [1, 1, 1], [0.5, 0.5, 0.5], [1, 1, 1], [0.5, 0.5, 0.5], [1, 1, 1], [0.5, 0.5, 0.5], [1, 1, 1], [0.5, 0.5, 0.5], [1, 1, 1], [0.5, 0.5, 0.5], [1, 1, 1], [0.5, 0.5, 0.5], [1, 1, 1], [0.5, 0.5, 0.5], [1, 1, 1], [0.5, 0.5, 0.5], [1, 1, 1], [0.5, 0.5, 0.5], [1, 1, 1], [0.5, 0.5, 0.5], [1, 1, 1], [0.5, 0.5, 0.5], [1, 1, 1], [0.5, 0.5, 0.5], [1, 1, 1], [0.5, 0.5, 0.5], [1, 1, 1], [0.5, 0.5, 0.5], [1, 1, 1], [0.5, 0.5, 0.5], [1, 1, 1], [0.5, 0.5, 0.5], [1, 1, 1], [0.5, 0.5, 0.5], [1, 1, 1], [0.5, 0.5, 0.5], [1, 1, 1], [0.5, 0.5, 0.5]], \"type\": \"heatmap\", \"showscale\": false, \"opacity\": 0.75, \"hoverinfo\": \"none\"}], {\"height\": 2930, \"margin\": {\"t\": 0, \"r\": 0, \"l\": 0, \"b\": 0}, \"yaxis\": {\"showticklabels\": false, \"ticks\": \"\", \"autorange\": \"reversed\", \"gridwidth\": 2, \"dtick\": 1, \"zeroline\": false, \"tick0\": 0.5}, \"xaxis\": {\"showticklabels\": false, \"ticks\": \"\", \"gridwidth\": 2, \"dtick\": 1, \"zeroline\": false, \"tick0\": -0.5}, \"annotations\": [{\"align\": \"left\", \"showarrow\": false, \"xref\": \"x1\", \"xanchor\": \"left\", \"x\": -0.45, \"text\": \"<b>first_commit</b>\", \"y\": 0, \"font\": {\"color\": \"#ffffff\"}, \"yref\": \"y1\"}, {\"align\": \"left\", \"showarrow\": false, \"xref\": \"x1\", \"xanchor\": \"left\", \"x\": 0.55, \"text\": \"<b>project</b>\", \"y\": 0, \"font\": {\"color\": \"#ffffff\"}, \"yref\": \"y1\"}, {\"align\": \"left\", \"showarrow\": false, \"xref\": \"x1\", \"xanchor\": \"left\", \"x\": 1.55, \"text\": \"<b># authors</b>\", \"y\": 0, \"font\": {\"color\": \"#ffffff\"}, \"yref\": \"y1\"}, {\"align\": \"left\", \"showarrow\": false, \"xref\": \"x1\", \"xanchor\": \"left\", \"x\": -0.45, \"text\": \"2016\", \"y\": 1, \"font\": {\"color\": \"#000000\"}, \"yref\": \"y1\"}, {\"align\": \"left\", \"showarrow\": false, \"xref\": \"x1\", \"xanchor\": \"left\", \"x\": 0.55, \"text\": \"Unknown\", \"y\": 1, \"font\": {\"color\": \"#000000\"}, \"yref\": \"y1\"}, {\"align\": \"left\", \"showarrow\": false, \"xref\": \"x1\", \"xanchor\": \"left\", \"x\": 1.55, \"text\": \"913\", \"y\": 1, \"font\": {\"color\": \"#000000\"}, \"yref\": \"y1\"}, {\"align\": \"left\", \"showarrow\": false, \"xref\": \"x1\", \"xanchor\": \"left\", \"x\": -0.45, \"text\": \"2016\", \"y\": 2, \"font\": {\"color\": \"#000000\"}, \"yref\": \"y1\"}, {\"align\": \"left\", \"showarrow\": false, \"xref\": \"x1\", \"xanchor\": \"left\", \"x\": 0.55, \"text\": \"Rust\", \"y\": 2, \"font\": {\"color\": \"#000000\"}, \"yref\": \"y1\"}, {\"align\": \"left\", \"showarrow\": false, \"xref\": \"x1\", \"xanchor\": \"left\", \"x\": 1.55, \"text\": \"493\", \"y\": 2, \"font\": {\"color\": \"#000000\"}, \"yref\": \"y1\"}, {\"align\": \"left\", \"showarrow\": false, \"xref\": \"x1\", \"xanchor\": \"left\", \"x\": -0.45, \"text\": \"2016\", \"y\": 3, \"font\": {\"color\": \"#000000\"}, \"yref\": \"y1\"}, {\"align\": \"left\", \"showarrow\": false, \"xref\": \"x1\", \"xanchor\": \"left\", \"x\": 0.55, \"text\": \"Servo\", \"y\": 3, \"font\": {\"color\": \"#000000\"}, \"yref\": \"y1\"}, {\"align\": \"left\", \"showarrow\": false, \"xref\": \"x1\", \"xanchor\": \"left\", \"x\": 1.55, \"text\": \"194\", \"y\": 3, \"font\": {\"color\": \"#000000\"}, \"yref\": \"y1\"}, {\"align\": \"left\", \"showarrow\": false, \"xref\": \"x1\", \"xanchor\": \"left\", \"x\": -0.45, \"text\": \"2016\", \"y\": 4, \"font\": {\"color\": \"#000000\"}, \"yref\": \"y1\"}, {\"align\": \"left\", \"showarrow\": false, \"xref\": \"x1\", \"xanchor\": \"left\", \"x\": 0.55, \"text\": \"Gecko\", \"y\": 4, \"font\": {\"color\": \"#000000\"}, \"yref\": \"y1\"}, {\"align\": \"left\", \"showarrow\": false, \"xref\": \"x1\", \"xanchor\": \"left\", \"x\": 1.55, \"text\": \"164\", \"y\": 4, \"font\": {\"color\": \"#000000\"}, \"yref\": \"y1\"}, {\"align\": \"left\", \"showarrow\": false, \"xref\": \"x1\", \"xanchor\": \"left\", \"x\": -0.45, \"text\": \"2016\", \"y\": 5, \"font\": {\"color\": \"#000000\"}, \"yref\": \"y1\"}, {\"align\": \"left\", \"showarrow\": false, \"xref\": \"x1\", \"xanchor\": \"left\", \"x\": 0.55, \"text\": \"Web Properties\", \"y\": 5, \"font\": {\"color\": \"#000000\"}, \"yref\": \"y1\"}, {\"align\": \"left\", \"showarrow\": false, \"xref\": \"x1\", \"xanchor\": \"left\", \"x\": 1.55, \"text\": \"122\", \"y\": 5, \"font\": {\"color\": \"#000000\"}, \"yref\": \"y1\"}, {\"align\": \"left\", \"showarrow\": false, \"xref\": \"x1\", \"xanchor\": \"left\", \"x\": -0.45, \"text\": \"2016\", \"y\": 6, \"font\": {\"color\": \"#000000\"}, \"yref\": \"y1\"}, {\"align\": \"left\", \"showarrow\": false, \"xref\": \"x1\", \"xanchor\": \"left\", \"x\": 0.55, \"text\": \"WebVR\", \"y\": 6, \"font\": {\"color\": \"#000000\"}, \"yref\": \"y1\"}, {\"align\": \"left\", \"showarrow\": false, \"xref\": \"x1\", \"xanchor\": \"left\", \"x\": 1.55, \"text\": \"111\", \"y\": 6, \"font\": {\"color\": \"#000000\"}, \"yref\": \"y1\"}, {\"align\": \"left\", \"showarrow\": false, \"xref\": \"x1\", \"xanchor\": \"left\", \"x\": -0.45, \"text\": \"2016\", \"y\": 7, \"font\": {\"color\": \"#000000\"}, \"yref\": \"y1\"}, {\"align\": \"left\", \"showarrow\": false, \"xref\": \"x1\", \"xanchor\": \"left\", \"x\": 0.55, \"text\": \"IT/Ops\", \"y\": 7, \"font\": {\"color\": \"#000000\"}, \"yref\": \"y1\"}, {\"align\": \"left\", \"showarrow\": false, \"xref\": \"x1\", \"xanchor\": \"left\", \"x\": 1.55, \"text\": \"98\", \"y\": 7, \"font\": {\"color\": \"#000000\"}, \"yref\": \"y1\"}, {\"align\": \"left\", \"showarrow\": false, \"xref\": \"x1\", \"xanchor\": \"left\", \"x\": -0.45, \"text\": \"2016\", \"y\": 8, \"font\": {\"color\": \"#000000\"}, \"yref\": \"y1\"}, {\"align\": \"left\", \"showarrow\": false, \"xref\": \"x1\", \"xanchor\": \"left\", \"x\": 0.55, \"text\": \"Mozilla Local/Regional communities\", \"y\": 8, \"font\": {\"color\": \"#000000\"}, \"yref\": \"y1\"}, {\"align\": \"left\", \"showarrow\": false, \"xref\": \"x1\", \"xanchor\": \"left\", \"x\": 1.55, \"text\": \"54\", \"y\": 8, \"font\": {\"color\": \"#000000\"}, \"yref\": \"y1\"}, {\"align\": \"left\", \"showarrow\": false, \"xref\": \"x1\", \"xanchor\": \"left\", \"x\": -0.45, \"text\": \"2016\", \"y\": 9, \"font\": {\"color\": \"#000000\"}, \"yref\": \"y1\"}, {\"align\": \"left\", \"showarrow\": false, \"xref\": \"x1\", \"xanchor\": \"left\", \"x\": 0.55, \"text\": \"Mozilla Developer Network (MDN)\", \"y\": 9, \"font\": {\"color\": \"#000000\"}, \"yref\": \"y1\"}, {\"align\": \"left\", \"showarrow\": false, \"xref\": \"x1\", \"xanchor\": \"left\", \"x\": 1.55, \"text\": \"40\", \"y\": 9, \"font\": {\"color\": \"#000000\"}, \"yref\": \"y1\"}, {\"align\": \"left\", \"showarrow\": false, \"xref\": \"x1\", \"xanchor\": \"left\", \"x\": -0.45, \"text\": \"2016\", \"y\": 10, \"font\": {\"color\": \"#000000\"}, \"yref\": \"y1\"}, {\"align\": \"left\", \"showarrow\": false, \"xref\": \"x1\", \"xanchor\": \"left\", \"x\": 0.55, \"text\": \"Addons/Web Extensions\", \"y\": 10, \"font\": {\"color\": \"#000000\"}, \"yref\": \"y1\"}, {\"align\": \"left\", \"showarrow\": false, \"xref\": \"x1\", \"xanchor\": \"left\", \"x\": 1.55, \"text\": \"37\", \"y\": 10, \"font\": {\"color\": \"#000000\"}, \"yref\": \"y1\"}, {\"align\": \"left\", \"showarrow\": false, \"xref\": \"x1\", \"xanchor\": \"left\", \"x\": -0.45, \"text\": \"2016\", \"y\": 11, \"font\": {\"color\": \"#000000\"}, \"yref\": \"y1\"}, {\"align\": \"left\", \"showarrow\": false, \"xref\": \"x1\", \"xanchor\": \"left\", \"x\": 0.55, \"text\": \"Firefox\", \"y\": 11, \"font\": {\"color\": \"#000000\"}, \"yref\": \"y1\"}, {\"align\": \"left\", \"showarrow\": false, \"xref\": \"x1\", \"xanchor\": \"left\", \"x\": 1.55, \"text\": \"36\", \"y\": 11, \"font\": {\"color\": \"#000000\"}, \"yref\": \"y1\"}, {\"align\": \"left\", \"showarrow\": false, \"xref\": \"x1\", \"xanchor\": \"left\", \"x\": -0.45, \"text\": \"2016\", \"y\": 12, \"font\": {\"color\": \"#000000\"}, \"yref\": \"y1\"}, {\"align\": \"left\", \"showarrow\": false, \"xref\": \"x1\", \"xanchor\": \"left\", \"x\": 0.55, \"text\": \"Mozilla Science\", \"y\": 12, \"font\": {\"color\": \"#000000\"}, \"yref\": \"y1\"}, {\"align\": \"left\", \"showarrow\": false, \"xref\": \"x1\", \"xanchor\": \"left\", \"x\": 1.55, \"text\": \"32\", \"y\": 12, \"font\": {\"color\": \"#000000\"}, \"yref\": \"y1\"}, {\"align\": \"left\", \"showarrow\": false, \"xref\": \"x1\", \"xanchor\": \"left\", \"x\": -0.45, \"text\": \"2016\", \"y\": 13, \"font\": {\"color\": \"#000000\"}, \"yref\": \"y1\"}, {\"align\": \"left\", \"showarrow\": false, \"xref\": \"x1\", \"xanchor\": \"left\", \"x\": 0.55, \"text\": \"Firefox iOS\", \"y\": 13, \"font\": {\"color\": \"#000000\"}, \"yref\": \"y1\"}, {\"align\": \"left\", \"showarrow\": false, \"xref\": \"x1\", \"xanchor\": \"left\", \"x\": 1.55, \"text\": \"16\", \"y\": 13, \"font\": {\"color\": \"#000000\"}, \"yref\": \"y1\"}, {\"align\": \"left\", \"showarrow\": false, \"xref\": \"x1\", \"xanchor\": \"left\", \"x\": -0.45, \"text\": \"2016\", \"y\": 14, \"font\": {\"color\": \"#000000\"}, \"yref\": \"y1\"}, {\"align\": \"left\", \"showarrow\": false, \"xref\": \"x1\", \"xanchor\": \"left\", \"x\": 0.55, \"text\": \"Test Pilot\", \"y\": 14, \"font\": {\"color\": \"#000000\"}, \"yref\": \"y1\"}, {\"align\": \"left\", \"showarrow\": false, \"xref\": \"x1\", \"xanchor\": \"left\", \"x\": 1.55, \"text\": \"11\", \"y\": 14, \"font\": {\"color\": \"#000000\"}, \"yref\": \"y1\"}, {\"align\": \"left\", \"showarrow\": false, \"xref\": \"x1\", \"xanchor\": \"left\", \"x\": -0.45, \"text\": \"2016\", \"y\": 15, \"font\": {\"color\": \"#000000\"}, \"yref\": \"y1\"}, {\"align\": \"left\", \"showarrow\": false, \"xref\": \"x1\", \"xanchor\": \"left\", \"x\": 0.55, \"text\": \"Mozilla Foundation\", \"y\": 15, \"font\": {\"color\": \"#000000\"}, \"yref\": \"y1\"}, {\"align\": \"left\", \"showarrow\": false, \"xref\": \"x1\", \"xanchor\": \"left\", \"x\": 1.55, \"text\": \"7\", \"y\": 15, \"font\": {\"color\": \"#000000\"}, \"yref\": \"y1\"}, {\"align\": \"left\", \"showarrow\": false, \"xref\": \"x1\", \"xanchor\": \"left\", \"x\": -0.45, \"text\": \"2016\", \"y\": 16, \"font\": {\"color\": \"#000000\"}, \"yref\": \"y1\"}, {\"align\": \"left\", \"showarrow\": false, \"xref\": \"x1\", \"xanchor\": \"left\", \"x\": 0.55, \"text\": \"Mozilla Creative & Design\", \"y\": 16, \"font\": {\"color\": \"#000000\"}, \"yref\": \"y1\"}, {\"align\": \"left\", \"showarrow\": false, \"xref\": \"x1\", \"xanchor\": \"left\", \"x\": 1.55, \"text\": \"6\", \"y\": 16, \"font\": {\"color\": \"#000000\"}, \"yref\": \"y1\"}, {\"align\": \"left\", \"showarrow\": false, \"xref\": \"x1\", \"xanchor\": \"left\", \"x\": -0.45, \"text\": \"2016\", \"y\": 17, \"font\": {\"color\": \"#000000\"}, \"yref\": \"y1\"}, {\"align\": \"left\", \"showarrow\": false, \"xref\": \"x1\", \"xanchor\": \"left\", \"x\": 0.55, \"text\": \"Localization\", \"y\": 17, \"font\": {\"color\": \"#000000\"}, \"yref\": \"y1\"}, {\"align\": \"left\", \"showarrow\": false, \"xref\": \"x1\", \"xanchor\": \"left\", \"x\": 1.55, \"text\": \"4\", \"y\": 17, \"font\": {\"color\": \"#000000\"}, \"yref\": \"y1\"}, {\"align\": \"left\", \"showarrow\": false, \"xref\": \"x1\", \"xanchor\": \"left\", \"x\": -0.45, \"text\": \"2016\", \"y\": 18, \"font\": {\"color\": \"#000000\"}, \"yref\": \"y1\"}, {\"align\": \"left\", \"showarrow\": false, \"xref\": \"x1\", \"xanchor\": \"left\", \"x\": 0.55, \"text\": \"Firefox Focus\", \"y\": 18, \"font\": {\"color\": \"#000000\"}, \"yref\": \"y1\"}, {\"align\": \"left\", \"showarrow\": false, \"xref\": \"x1\", \"xanchor\": \"left\", \"x\": 1.55, \"text\": \"2\", \"y\": 18, \"font\": {\"color\": \"#000000\"}, \"yref\": \"y1\"}, {\"align\": \"left\", \"showarrow\": false, \"xref\": \"x1\", \"xanchor\": \"left\", \"x\": -0.45, \"text\": \"2016\", \"y\": 19, \"font\": {\"color\": \"#000000\"}, \"yref\": \"y1\"}, {\"align\": \"left\", \"showarrow\": false, \"xref\": \"x1\", \"xanchor\": \"left\", \"x\": 0.55, \"text\": \"Marketing / Social Media\", \"y\": 19, \"font\": {\"color\": \"#000000\"}, \"yref\": \"y1\"}, {\"align\": \"left\", \"showarrow\": false, \"xref\": \"x1\", \"xanchor\": \"left\", \"x\": 1.55, \"text\": \"2\", \"y\": 19, \"font\": {\"color\": \"#000000\"}, \"yref\": \"y1\"}, {\"align\": \"left\", \"showarrow\": false, \"xref\": \"x1\", \"xanchor\": \"left\", \"x\": -0.45, \"text\": \"2016\", \"y\": 20, \"font\": {\"color\": \"#000000\"}, \"yref\": \"y1\"}, {\"align\": \"left\", \"showarrow\": false, \"xref\": \"x1\", \"xanchor\": \"left\", \"x\": 0.55, \"text\": \"Technical/Developer Evangelism\", \"y\": 20, \"font\": {\"color\": \"#000000\"}, \"yref\": \"y1\"}, {\"align\": \"left\", \"showarrow\": false, \"xref\": \"x1\", \"xanchor\": \"left\", \"x\": 1.55, \"text\": \"2\", \"y\": 20, \"font\": {\"color\": \"#000000\"}, \"yref\": \"y1\"}, {\"align\": \"left\", \"showarrow\": false, \"xref\": \"x1\", \"xanchor\": \"left\", \"x\": -0.45, \"text\": \"2015\", \"y\": 21, \"font\": {\"color\": \"#000000\"}, \"yref\": \"y1\"}, {\"align\": \"left\", \"showarrow\": false, \"xref\": \"x1\", \"xanchor\": \"left\", \"x\": 0.55, \"text\": \"Unknown\", \"y\": 21, \"font\": {\"color\": \"#000000\"}, \"yref\": \"y1\"}, {\"align\": \"left\", \"showarrow\": false, \"xref\": \"x1\", \"xanchor\": \"left\", \"x\": 1.55, \"text\": \"1056\", \"y\": 21, \"font\": {\"color\": \"#000000\"}, \"yref\": \"y1\"}, {\"align\": \"left\", \"showarrow\": false, \"xref\": \"x1\", \"xanchor\": \"left\", \"x\": -0.45, \"text\": \"2015\", \"y\": 22, \"font\": {\"color\": \"#000000\"}, \"yref\": \"y1\"}, {\"align\": \"left\", \"showarrow\": false, \"xref\": \"x1\", \"xanchor\": \"left\", \"x\": 0.55, \"text\": \"Rust\", \"y\": 22, \"font\": {\"color\": \"#000000\"}, \"yref\": \"y1\"}, {\"align\": \"left\", \"showarrow\": false, \"xref\": \"x1\", \"xanchor\": \"left\", \"x\": 1.55, \"text\": \"640\", \"y\": 22, \"font\": {\"color\": \"#000000\"}, \"yref\": \"y1\"}, {\"align\": \"left\", \"showarrow\": false, \"xref\": \"x1\", \"xanchor\": \"left\", \"x\": -0.45, \"text\": \"2015\", \"y\": 23, \"font\": {\"color\": \"#000000\"}, \"yref\": \"y1\"}, {\"align\": \"left\", \"showarrow\": false, \"xref\": \"x1\", \"xanchor\": \"left\", \"x\": 0.55, \"text\": \"Servo\", \"y\": 23, \"font\": {\"color\": \"#000000\"}, \"yref\": \"y1\"}, {\"align\": \"left\", \"showarrow\": false, \"xref\": \"x1\", \"xanchor\": \"left\", \"x\": 1.55, \"text\": \"168\", \"y\": 23, \"font\": {\"color\": \"#000000\"}, \"yref\": \"y1\"}, {\"align\": \"left\", \"showarrow\": false, \"xref\": \"x1\", \"xanchor\": \"left\", \"x\": -0.45, \"text\": \"2015\", \"y\": 24, \"font\": {\"color\": \"#000000\"}, \"yref\": \"y1\"}, {\"align\": \"left\", \"showarrow\": false, \"xref\": \"x1\", \"xanchor\": \"left\", \"x\": 0.55, \"text\": \"Web Properties\", \"y\": 24, \"font\": {\"color\": \"#000000\"}, \"yref\": \"y1\"}, {\"align\": \"left\", \"showarrow\": false, \"xref\": \"x1\", \"xanchor\": \"left\", \"x\": 1.55, \"text\": \"146\", \"y\": 24, \"font\": {\"color\": \"#000000\"}, \"yref\": \"y1\"}, {\"align\": \"left\", \"showarrow\": false, \"xref\": \"x1\", \"xanchor\": \"left\", \"x\": -0.45, \"text\": \"2015\", \"y\": 25, \"font\": {\"color\": \"#000000\"}, \"yref\": \"y1\"}, {\"align\": \"left\", \"showarrow\": false, \"xref\": \"x1\", \"xanchor\": \"left\", \"x\": 0.55, \"text\": \"Gecko\", \"y\": 25, \"font\": {\"color\": \"#000000\"}, \"yref\": \"y1\"}, {\"align\": \"left\", \"showarrow\": false, \"xref\": \"x1\", \"xanchor\": \"left\", \"x\": 1.55, \"text\": \"83\", \"y\": 25, \"font\": {\"color\": \"#000000\"}, \"yref\": \"y1\"}, {\"align\": \"left\", \"showarrow\": false, \"xref\": \"x1\", \"xanchor\": \"left\", \"x\": -0.45, \"text\": \"2015\", \"y\": 26, \"font\": {\"color\": \"#000000\"}, \"yref\": \"y1\"}, {\"align\": \"left\", \"showarrow\": false, \"xref\": \"x1\", \"xanchor\": \"left\", \"x\": 0.55, \"text\": \"IT/Ops\", \"y\": 26, \"font\": {\"color\": \"#000000\"}, \"yref\": \"y1\"}, {\"align\": \"left\", \"showarrow\": false, \"xref\": \"x1\", \"xanchor\": \"left\", \"x\": 1.55, \"text\": \"80\", \"y\": 26, \"font\": {\"color\": \"#000000\"}, \"yref\": \"y1\"}, {\"align\": \"left\", \"showarrow\": false, \"xref\": \"x1\", \"xanchor\": \"left\", \"x\": -0.45, \"text\": \"2015\", \"y\": 27, \"font\": {\"color\": \"#000000\"}, \"yref\": \"y1\"}, {\"align\": \"left\", \"showarrow\": false, \"xref\": \"x1\", \"xanchor\": \"left\", \"x\": 0.55, \"text\": \"Mozilla Local/Regional communities\", \"y\": 27, \"font\": {\"color\": \"#000000\"}, \"yref\": \"y1\"}, {\"align\": \"left\", \"showarrow\": false, \"xref\": \"x1\", \"xanchor\": \"left\", \"x\": 1.55, \"text\": \"59\", \"y\": 27, \"font\": {\"color\": \"#000000\"}, \"yref\": \"y1\"}, {\"align\": \"left\", \"showarrow\": false, \"xref\": \"x1\", \"xanchor\": \"left\", \"x\": -0.45, \"text\": \"2015\", \"y\": 28, \"font\": {\"color\": \"#000000\"}, \"yref\": \"y1\"}, {\"align\": \"left\", \"showarrow\": false, \"xref\": \"x1\", \"xanchor\": \"left\", \"x\": 0.55, \"text\": \"Mozilla Science\", \"y\": 28, \"font\": {\"color\": \"#000000\"}, \"yref\": \"y1\"}, {\"align\": \"left\", \"showarrow\": false, \"xref\": \"x1\", \"xanchor\": \"left\", \"x\": 1.55, \"text\": \"39\", \"y\": 28, \"font\": {\"color\": \"#000000\"}, \"yref\": \"y1\"}, {\"align\": \"left\", \"showarrow\": false, \"xref\": \"x1\", \"xanchor\": \"left\", \"x\": -0.45, \"text\": \"2015\", \"y\": 29, \"font\": {\"color\": \"#000000\"}, \"yref\": \"y1\"}, {\"align\": \"left\", \"showarrow\": false, \"xref\": \"x1\", \"xanchor\": \"left\", \"x\": 0.55, \"text\": \"Firefox iOS\", \"y\": 29, \"font\": {\"color\": \"#000000\"}, \"yref\": \"y1\"}, {\"align\": \"left\", \"showarrow\": false, \"xref\": \"x1\", \"xanchor\": \"left\", \"x\": 1.55, \"text\": \"26\", \"y\": 29, \"font\": {\"color\": \"#000000\"}, \"yref\": \"y1\"}, {\"align\": \"left\", \"showarrow\": false, \"xref\": \"x1\", \"xanchor\": \"left\", \"x\": -0.45, \"text\": \"2015\", \"y\": 30, \"font\": {\"color\": \"#000000\"}, \"yref\": \"y1\"}, {\"align\": \"left\", \"showarrow\": false, \"xref\": \"x1\", \"xanchor\": \"left\", \"x\": 0.55, \"text\": \"Mozilla Developer Network (MDN)\", \"y\": 30, \"font\": {\"color\": \"#000000\"}, \"yref\": \"y1\"}, {\"align\": \"left\", \"showarrow\": false, \"xref\": \"x1\", \"xanchor\": \"left\", \"x\": 1.55, \"text\": \"25\", \"y\": 30, \"font\": {\"color\": \"#000000\"}, \"yref\": \"y1\"}, {\"align\": \"left\", \"showarrow\": false, \"xref\": \"x1\", \"xanchor\": \"left\", \"x\": -0.45, \"text\": \"2015\", \"y\": 31, \"font\": {\"color\": \"#000000\"}, \"yref\": \"y1\"}, {\"align\": \"left\", \"showarrow\": false, \"xref\": \"x1\", \"xanchor\": \"left\", \"x\": 0.55, \"text\": \"Addons/Web Extensions\", \"y\": 31, \"font\": {\"color\": \"#000000\"}, \"yref\": \"y1\"}, {\"align\": \"left\", \"showarrow\": false, \"xref\": \"x1\", \"xanchor\": \"left\", \"x\": 1.55, \"text\": \"22\", \"y\": 31, \"font\": {\"color\": \"#000000\"}, \"yref\": \"y1\"}, {\"align\": \"left\", \"showarrow\": false, \"xref\": \"x1\", \"xanchor\": \"left\", \"x\": -0.45, \"text\": \"2015\", \"y\": 32, \"font\": {\"color\": \"#000000\"}, \"yref\": \"y1\"}, {\"align\": \"left\", \"showarrow\": false, \"xref\": \"x1\", \"xanchor\": \"left\", \"x\": 0.55, \"text\": \"Firefox\", \"y\": 32, \"font\": {\"color\": \"#000000\"}, \"yref\": \"y1\"}, {\"align\": \"left\", \"showarrow\": false, \"xref\": \"x1\", \"xanchor\": \"left\", \"x\": 1.55, \"text\": \"19\", \"y\": 32, \"font\": {\"color\": \"#000000\"}, \"yref\": \"y1\"}, {\"align\": \"left\", \"showarrow\": false, \"xref\": \"x1\", \"xanchor\": \"left\", \"x\": -0.45, \"text\": \"2015\", \"y\": 33, \"font\": {\"color\": \"#000000\"}, \"yref\": \"y1\"}, {\"align\": \"left\", \"showarrow\": false, \"xref\": \"x1\", \"xanchor\": \"left\", \"x\": 0.55, \"text\": \"Firefox OS (FxOS / B2G)\", \"y\": 33, \"font\": {\"color\": \"#000000\"}, \"yref\": \"y1\"}, {\"align\": \"left\", \"showarrow\": false, \"xref\": \"x1\", \"xanchor\": \"left\", \"x\": 1.55, \"text\": \"19\", \"y\": 33, \"font\": {\"color\": \"#000000\"}, \"yref\": \"y1\"}, {\"align\": \"left\", \"showarrow\": false, \"xref\": \"x1\", \"xanchor\": \"left\", \"x\": -0.45, \"text\": \"2015\", \"y\": 34, \"font\": {\"color\": \"#000000\"}, \"yref\": \"y1\"}, {\"align\": \"left\", \"showarrow\": false, \"xref\": \"x1\", \"xanchor\": \"left\", \"x\": 0.55, \"text\": \"WebVR\", \"y\": 34, \"font\": {\"color\": \"#000000\"}, \"yref\": \"y1\"}, {\"align\": \"left\", \"showarrow\": false, \"xref\": \"x1\", \"xanchor\": \"left\", \"x\": 1.55, \"text\": \"15\", \"y\": 34, \"font\": {\"color\": \"#000000\"}, \"yref\": \"y1\"}, {\"align\": \"left\", \"showarrow\": false, \"xref\": \"x1\", \"xanchor\": \"left\", \"x\": -0.45, \"text\": \"2015\", \"y\": 35, \"font\": {\"color\": \"#000000\"}, \"yref\": \"y1\"}, {\"align\": \"left\", \"showarrow\": false, \"xref\": \"x1\", \"xanchor\": \"left\", \"x\": 0.55, \"text\": \"Web Literacy\", \"y\": 35, \"font\": {\"color\": \"#000000\"}, \"yref\": \"y1\"}, {\"align\": \"left\", \"showarrow\": false, \"xref\": \"x1\", \"xanchor\": \"left\", \"x\": 1.55, \"text\": \"8\", \"y\": 35, \"font\": {\"color\": \"#000000\"}, \"yref\": \"y1\"}, {\"align\": \"left\", \"showarrow\": false, \"xref\": \"x1\", \"xanchor\": \"left\", \"x\": -0.45, \"text\": \"2015\", \"y\": 36, \"font\": {\"color\": \"#000000\"}, \"yref\": \"y1\"}, {\"align\": \"left\", \"showarrow\": false, \"xref\": \"x1\", \"xanchor\": \"left\", \"x\": 0.55, \"text\": \"Release engineering\", \"y\": 36, \"font\": {\"color\": \"#000000\"}, \"yref\": \"y1\"}, {\"align\": \"left\", \"showarrow\": false, \"xref\": \"x1\", \"xanchor\": \"left\", \"x\": 1.55, \"text\": \"7\", \"y\": 36, \"font\": {\"color\": \"#000000\"}, \"yref\": \"y1\"}, {\"align\": \"left\", \"showarrow\": false, \"xref\": \"x1\", \"xanchor\": \"left\", \"x\": -0.45, \"text\": \"2015\", \"y\": 37, \"font\": {\"color\": \"#000000\"}, \"yref\": \"y1\"}, {\"align\": \"left\", \"showarrow\": false, \"xref\": \"x1\", \"xanchor\": \"left\", \"x\": 0.55, \"text\": \"Mozilla Clubs\", \"y\": 37, \"font\": {\"color\": \"#000000\"}, \"yref\": \"y1\"}, {\"align\": \"left\", \"showarrow\": false, \"xref\": \"x1\", \"xanchor\": \"left\", \"x\": 1.55, \"text\": \"3\", \"y\": 37, \"font\": {\"color\": \"#000000\"}, \"yref\": \"y1\"}, {\"align\": \"left\", \"showarrow\": false, \"xref\": \"x1\", \"xanchor\": \"left\", \"x\": -0.45, \"text\": \"2015\", \"y\": 38, \"font\": {\"color\": \"#000000\"}, \"yref\": \"y1\"}, {\"align\": \"left\", \"showarrow\": false, \"xref\": \"x1\", \"xanchor\": \"left\", \"x\": 0.55, \"text\": \"Mozilla Location Service (MLS) / Stumbler\", \"y\": 38, \"font\": {\"color\": \"#000000\"}, \"yref\": \"y1\"}, {\"align\": \"left\", \"showarrow\": false, \"xref\": \"x1\", \"xanchor\": \"left\", \"x\": 1.55, \"text\": \"3\", \"y\": 38, \"font\": {\"color\": \"#000000\"}, \"yref\": \"y1\"}, {\"align\": \"left\", \"showarrow\": false, \"xref\": \"x1\", \"xanchor\": \"left\", \"x\": -0.45, \"text\": \"2015\", \"y\": 39, \"font\": {\"color\": \"#000000\"}, \"yref\": \"y1\"}, {\"align\": \"left\", \"showarrow\": false, \"xref\": \"x1\", \"xanchor\": \"left\", \"x\": 0.55, \"text\": \"Developer Tools\", \"y\": 39, \"font\": {\"color\": \"#000000\"}, \"yref\": \"y1\"}, {\"align\": \"left\", \"showarrow\": false, \"xref\": \"x1\", \"xanchor\": \"left\", \"x\": 1.55, \"text\": \"2\", \"y\": 39, \"font\": {\"color\": \"#000000\"}, \"yref\": \"y1\"}, {\"align\": \"left\", \"showarrow\": false, \"xref\": \"x1\", \"xanchor\": \"left\", \"x\": -0.45, \"text\": \"2015\", \"y\": 40, \"font\": {\"color\": \"#000000\"}, \"yref\": \"y1\"}, {\"align\": \"left\", \"showarrow\": false, \"xref\": \"x1\", \"xanchor\": \"left\", \"x\": 0.55, \"text\": \"Mozilla Creative & Design\", \"y\": 40, \"font\": {\"color\": \"#000000\"}, \"yref\": \"y1\"}, {\"align\": \"left\", \"showarrow\": false, \"xref\": \"x1\", \"xanchor\": \"left\", \"x\": 1.55, \"text\": \"2\", \"y\": 40, \"font\": {\"color\": \"#000000\"}, \"yref\": \"y1\"}, {\"align\": \"left\", \"showarrow\": false, \"xref\": \"x1\", \"xanchor\": \"left\", \"x\": -0.45, \"text\": \"2014\", \"y\": 41, \"font\": {\"color\": \"#000000\"}, \"yref\": \"y1\"}, {\"align\": \"left\", \"showarrow\": false, \"xref\": \"x1\", \"xanchor\": \"left\", \"x\": 0.55, \"text\": \"Unknown\", \"y\": 41, \"font\": {\"color\": \"#000000\"}, \"yref\": \"y1\"}, {\"align\": \"left\", \"showarrow\": false, \"xref\": \"x1\", \"xanchor\": \"left\", \"x\": 1.55, \"text\": \"931\", \"y\": 41, \"font\": {\"color\": \"#000000\"}, \"yref\": \"y1\"}, {\"align\": \"left\", \"showarrow\": false, \"xref\": \"x1\", \"xanchor\": \"left\", \"x\": -0.45, \"text\": \"2014\", \"y\": 42, \"font\": {\"color\": \"#000000\"}, \"yref\": \"y1\"}, {\"align\": \"left\", \"showarrow\": false, \"xref\": \"x1\", \"xanchor\": \"left\", \"x\": 0.55, \"text\": \"Rust\", \"y\": 42, \"font\": {\"color\": \"#000000\"}, \"yref\": \"y1\"}, {\"align\": \"left\", \"showarrow\": false, \"xref\": \"x1\", \"xanchor\": \"left\", \"x\": 1.55, \"text\": \"520\", \"y\": 42, \"font\": {\"color\": \"#000000\"}, \"yref\": \"y1\"}, {\"align\": \"left\", \"showarrow\": false, \"xref\": \"x1\", \"xanchor\": \"left\", \"x\": -0.45, \"text\": \"2014\", \"y\": 43, \"font\": {\"color\": \"#000000\"}, \"yref\": \"y1\"}, {\"align\": \"left\", \"showarrow\": false, \"xref\": \"x1\", \"xanchor\": \"left\", \"x\": 0.55, \"text\": \"Web Properties\", \"y\": 43, \"font\": {\"color\": \"#000000\"}, \"yref\": \"y1\"}, {\"align\": \"left\", \"showarrow\": false, \"xref\": \"x1\", \"xanchor\": \"left\", \"x\": 1.55, \"text\": \"126\", \"y\": 43, \"font\": {\"color\": \"#000000\"}, \"yref\": \"y1\"}, {\"align\": \"left\", \"showarrow\": false, \"xref\": \"x1\", \"xanchor\": \"left\", \"x\": -0.45, \"text\": \"2014\", \"y\": 44, \"font\": {\"color\": \"#000000\"}, \"yref\": \"y1\"}, {\"align\": \"left\", \"showarrow\": false, \"xref\": \"x1\", \"xanchor\": \"left\", \"x\": 0.55, \"text\": \"Servo\", \"y\": 44, \"font\": {\"color\": \"#000000\"}, \"yref\": \"y1\"}, {\"align\": \"left\", \"showarrow\": false, \"xref\": \"x1\", \"xanchor\": \"left\", \"x\": 1.55, \"text\": \"119\", \"y\": 44, \"font\": {\"color\": \"#000000\"}, \"yref\": \"y1\"}, {\"align\": \"left\", \"showarrow\": false, \"xref\": \"x1\", \"xanchor\": \"left\", \"x\": -0.45, \"text\": \"2014\", \"y\": 45, \"font\": {\"color\": \"#000000\"}, \"yref\": \"y1\"}, {\"align\": \"left\", \"showarrow\": false, \"xref\": \"x1\", \"xanchor\": \"left\", \"x\": 0.55, \"text\": \"Mozilla Local/Regional communities\", \"y\": 45, \"font\": {\"color\": \"#000000\"}, \"yref\": \"y1\"}, {\"align\": \"left\", \"showarrow\": false, \"xref\": \"x1\", \"xanchor\": \"left\", \"x\": 1.55, \"text\": \"101\", \"y\": 45, \"font\": {\"color\": \"#000000\"}, \"yref\": \"y1\"}, {\"align\": \"left\", \"showarrow\": false, \"xref\": \"x1\", \"xanchor\": \"left\", \"x\": -0.45, \"text\": \"2014\", \"y\": 46, \"font\": {\"color\": \"#000000\"}, \"yref\": \"y1\"}, {\"align\": \"left\", \"showarrow\": false, \"xref\": \"x1\", \"xanchor\": \"left\", \"x\": 0.55, \"text\": \"IT/Ops\", \"y\": 46, \"font\": {\"color\": \"#000000\"}, \"yref\": \"y1\"}, {\"align\": \"left\", \"showarrow\": false, \"xref\": \"x1\", \"xanchor\": \"left\", \"x\": 1.55, \"text\": \"82\", \"y\": 46, \"font\": {\"color\": \"#000000\"}, \"yref\": \"y1\"}, {\"align\": \"left\", \"showarrow\": false, \"xref\": \"x1\", \"xanchor\": \"left\", \"x\": -0.45, \"text\": \"2014\", \"y\": 47, \"font\": {\"color\": \"#000000\"}, \"yref\": \"y1\"}, {\"align\": \"left\", \"showarrow\": false, \"xref\": \"x1\", \"xanchor\": \"left\", \"x\": 0.55, \"text\": \"Gecko\", \"y\": 47, \"font\": {\"color\": \"#000000\"}, \"yref\": \"y1\"}, {\"align\": \"left\", \"showarrow\": false, \"xref\": \"x1\", \"xanchor\": \"left\", \"x\": 1.55, \"text\": \"77\", \"y\": 47, \"font\": {\"color\": \"#000000\"}, \"yref\": \"y1\"}, {\"align\": \"left\", \"showarrow\": false, \"xref\": \"x1\", \"xanchor\": \"left\", \"x\": -0.45, \"text\": \"2014\", \"y\": 48, \"font\": {\"color\": \"#000000\"}, \"yref\": \"y1\"}, {\"align\": \"left\", \"showarrow\": false, \"xref\": \"x1\", \"xanchor\": \"left\", \"x\": 0.55, \"text\": \"Web Literacy\", \"y\": 48, \"font\": {\"color\": \"#000000\"}, \"yref\": \"y1\"}, {\"align\": \"left\", \"showarrow\": false, \"xref\": \"x1\", \"xanchor\": \"left\", \"x\": 1.55, \"text\": \"43\", \"y\": 48, \"font\": {\"color\": \"#000000\"}, \"yref\": \"y1\"}, {\"align\": \"left\", \"showarrow\": false, \"xref\": \"x1\", \"xanchor\": \"left\", \"x\": -0.45, \"text\": \"2014\", \"y\": 49, \"font\": {\"color\": \"#000000\"}, \"yref\": \"y1\"}, {\"align\": \"left\", \"showarrow\": false, \"xref\": \"x1\", \"xanchor\": \"left\", \"x\": 0.55, \"text\": \"Mozilla Location Service (MLS) / Stumbler\", \"y\": 49, \"font\": {\"color\": \"#000000\"}, \"yref\": \"y1\"}, {\"align\": \"left\", \"showarrow\": false, \"xref\": \"x1\", \"xanchor\": \"left\", \"x\": 1.55, \"text\": \"41\", \"y\": 49, \"font\": {\"color\": \"#000000\"}, \"yref\": \"y1\"}, {\"align\": \"left\", \"showarrow\": false, \"xref\": \"x1\", \"xanchor\": \"left\", \"x\": -0.45, \"text\": \"2014\", \"y\": 50, \"font\": {\"color\": \"#000000\"}, \"yref\": \"y1\"}, {\"align\": \"left\", \"showarrow\": false, \"xref\": \"x1\", \"xanchor\": \"left\", \"x\": 0.55, \"text\": \"Addons/Web Extensions\", \"y\": 50, \"font\": {\"color\": \"#000000\"}, \"yref\": \"y1\"}, {\"align\": \"left\", \"showarrow\": false, \"xref\": \"x1\", \"xanchor\": \"left\", \"x\": 1.55, \"text\": \"31\", \"y\": 50, \"font\": {\"color\": \"#000000\"}, \"yref\": \"y1\"}, {\"align\": \"left\", \"showarrow\": false, \"xref\": \"x1\", \"xanchor\": \"left\", \"x\": -0.45, \"text\": \"2014\", \"y\": 51, \"font\": {\"color\": \"#000000\"}, \"yref\": \"y1\"}, {\"align\": \"left\", \"showarrow\": false, \"xref\": \"x1\", \"xanchor\": \"left\", \"x\": 0.55, \"text\": \"Firefox\", \"y\": 51, \"font\": {\"color\": \"#000000\"}, \"yref\": \"y1\"}, {\"align\": \"left\", \"showarrow\": false, \"xref\": \"x1\", \"xanchor\": \"left\", \"x\": 1.55, \"text\": \"17\", \"y\": 51, \"font\": {\"color\": \"#000000\"}, \"yref\": \"y1\"}, {\"align\": \"left\", \"showarrow\": false, \"xref\": \"x1\", \"xanchor\": \"left\", \"x\": -0.45, \"text\": \"2014\", \"y\": 52, \"font\": {\"color\": \"#000000\"}, \"yref\": \"y1\"}, {\"align\": \"left\", \"showarrow\": false, \"xref\": \"x1\", \"xanchor\": \"left\", \"x\": 0.55, \"text\": \"Mozilla Foundation\", \"y\": 52, \"font\": {\"color\": \"#000000\"}, \"yref\": \"y1\"}, {\"align\": \"left\", \"showarrow\": false, \"xref\": \"x1\", \"xanchor\": \"left\", \"x\": 1.55, \"text\": \"14\", \"y\": 52, \"font\": {\"color\": \"#000000\"}, \"yref\": \"y1\"}, {\"align\": \"left\", \"showarrow\": false, \"xref\": \"x1\", \"xanchor\": \"left\", \"x\": -0.45, \"text\": \"2014\", \"y\": 53, \"font\": {\"color\": \"#000000\"}, \"yref\": \"y1\"}, {\"align\": \"left\", \"showarrow\": false, \"xref\": \"x1\", \"xanchor\": \"left\", \"x\": 0.55, \"text\": \"Mozilla Science\", \"y\": 53, \"font\": {\"color\": \"#000000\"}, \"yref\": \"y1\"}, {\"align\": \"left\", \"showarrow\": false, \"xref\": \"x1\", \"xanchor\": \"left\", \"x\": 1.55, \"text\": \"10\", \"y\": 53, \"font\": {\"color\": \"#000000\"}, \"yref\": \"y1\"}, {\"align\": \"left\", \"showarrow\": false, \"xref\": \"x1\", \"xanchor\": \"left\", \"x\": -0.45, \"text\": \"2014\", \"y\": 54, \"font\": {\"color\": \"#000000\"}, \"yref\": \"y1\"}, {\"align\": \"left\", \"showarrow\": false, \"xref\": \"x1\", \"xanchor\": \"left\", \"x\": 0.55, \"text\": \"Firefox OS (FxOS / B2G)\", \"y\": 54, \"font\": {\"color\": \"#000000\"}, \"yref\": \"y1\"}, {\"align\": \"left\", \"showarrow\": false, \"xref\": \"x1\", \"xanchor\": \"left\", \"x\": 1.55, \"text\": \"8\", \"y\": 54, \"font\": {\"color\": \"#000000\"}, \"yref\": \"y1\"}, {\"align\": \"left\", \"showarrow\": false, \"xref\": \"x1\", \"xanchor\": \"left\", \"x\": -0.45, \"text\": \"2014\", \"y\": 55, \"font\": {\"color\": \"#000000\"}, \"yref\": \"y1\"}, {\"align\": \"left\", \"showarrow\": false, \"xref\": \"x1\", \"xanchor\": \"left\", \"x\": 0.55, \"text\": \"Quality Assurance\", \"y\": 55, \"font\": {\"color\": \"#000000\"}, \"yref\": \"y1\"}, {\"align\": \"left\", \"showarrow\": false, \"xref\": \"x1\", \"xanchor\": \"left\", \"x\": 1.55, \"text\": \"7\", \"y\": 55, \"font\": {\"color\": \"#000000\"}, \"yref\": \"y1\"}, {\"align\": \"left\", \"showarrow\": false, \"xref\": \"x1\", \"xanchor\": \"left\", \"x\": -0.45, \"text\": \"2014\", \"y\": 56, \"font\": {\"color\": \"#000000\"}, \"yref\": \"y1\"}, {\"align\": \"left\", \"showarrow\": false, \"xref\": \"x1\", \"xanchor\": \"left\", \"x\": 0.55, \"text\": \"Release engineering\", \"y\": 56, \"font\": {\"color\": \"#000000\"}, \"yref\": \"y1\"}, {\"align\": \"left\", \"showarrow\": false, \"xref\": \"x1\", \"xanchor\": \"left\", \"x\": 1.55, \"text\": \"7\", \"y\": 56, \"font\": {\"color\": \"#000000\"}, \"yref\": \"y1\"}, {\"align\": \"left\", \"showarrow\": false, \"xref\": \"x1\", \"xanchor\": \"left\", \"x\": -0.45, \"text\": \"2014\", \"y\": 57, \"font\": {\"color\": \"#000000\"}, \"yref\": \"y1\"}, {\"align\": \"left\", \"showarrow\": false, \"xref\": \"x1\", \"xanchor\": \"left\", \"x\": 0.55, \"text\": \"Marketing / Social Media\", \"y\": 57, \"font\": {\"color\": \"#000000\"}, \"yref\": \"y1\"}, {\"align\": \"left\", \"showarrow\": false, \"xref\": \"x1\", \"xanchor\": \"left\", \"x\": 1.55, \"text\": \"6\", \"y\": 57, \"font\": {\"color\": \"#000000\"}, \"yref\": \"y1\"}, {\"align\": \"left\", \"showarrow\": false, \"xref\": \"x1\", \"xanchor\": \"left\", \"x\": -0.45, \"text\": \"2014\", \"y\": 58, \"font\": {\"color\": \"#000000\"}, \"yref\": \"y1\"}, {\"align\": \"left\", \"showarrow\": false, \"xref\": \"x1\", \"xanchor\": \"left\", \"x\": 0.55, \"text\": \"Firefox iOS\", \"y\": 58, \"font\": {\"color\": \"#000000\"}, \"yref\": \"y1\"}, {\"align\": \"left\", \"showarrow\": false, \"xref\": \"x1\", \"xanchor\": \"left\", \"x\": 1.55, \"text\": \"5\", \"y\": 58, \"font\": {\"color\": \"#000000\"}, \"yref\": \"y1\"}, {\"align\": \"left\", \"showarrow\": false, \"xref\": \"x1\", \"xanchor\": \"left\", \"x\": -0.45, \"text\": \"2014\", \"y\": 59, \"font\": {\"color\": \"#000000\"}, \"yref\": \"y1\"}, {\"align\": \"left\", \"showarrow\": false, \"xref\": \"x1\", \"xanchor\": \"left\", \"x\": 0.55, \"text\": \"Advocacy and policy\", \"y\": 59, \"font\": {\"color\": \"#000000\"}, \"yref\": \"y1\"}, {\"align\": \"left\", \"showarrow\": false, \"xref\": \"x1\", \"xanchor\": \"left\", \"x\": 1.55, \"text\": \"3\", \"y\": 59, \"font\": {\"color\": \"#000000\"}, \"yref\": \"y1\"}, {\"align\": \"left\", \"showarrow\": false, \"xref\": \"x1\", \"xanchor\": \"left\", \"x\": -0.45, \"text\": \"2014\", \"y\": 60, \"font\": {\"color\": \"#000000\"}, \"yref\": \"y1\"}, {\"align\": \"left\", \"showarrow\": false, \"xref\": \"x1\", \"xanchor\": \"left\", \"x\": 0.55, \"text\": \"Mozilla Developer Network (MDN)\", \"y\": 60, \"font\": {\"color\": \"#000000\"}, \"yref\": \"y1\"}, {\"align\": \"left\", \"showarrow\": false, \"xref\": \"x1\", \"xanchor\": \"left\", \"x\": 1.55, \"text\": \"3\", \"y\": 60, \"font\": {\"color\": \"#000000\"}, \"yref\": \"y1\"}, {\"align\": \"left\", \"showarrow\": false, \"xref\": \"x1\", \"xanchor\": \"left\", \"x\": -0.45, \"text\": \"2013\", \"y\": 61, \"font\": {\"color\": \"#000000\"}, \"yref\": \"y1\"}, {\"align\": \"left\", \"showarrow\": false, \"xref\": \"x1\", \"xanchor\": \"left\", \"x\": 0.55, \"text\": \"Unknown\", \"y\": 61, \"font\": {\"color\": \"#000000\"}, \"yref\": \"y1\"}, {\"align\": \"left\", \"showarrow\": false, \"xref\": \"x1\", \"xanchor\": \"left\", \"x\": 1.55, \"text\": \"698\", \"y\": 61, \"font\": {\"color\": \"#000000\"}, \"yref\": \"y1\"}, {\"align\": \"left\", \"showarrow\": false, \"xref\": \"x1\", \"xanchor\": \"left\", \"x\": -0.45, \"text\": \"2013\", \"y\": 62, \"font\": {\"color\": \"#000000\"}, \"yref\": \"y1\"}, {\"align\": \"left\", \"showarrow\": false, \"xref\": \"x1\", \"xanchor\": \"left\", \"x\": 0.55, \"text\": \"Rust\", \"y\": 62, \"font\": {\"color\": \"#000000\"}, \"yref\": \"y1\"}, {\"align\": \"left\", \"showarrow\": false, \"xref\": \"x1\", \"xanchor\": \"left\", \"x\": 1.55, \"text\": \"231\", \"y\": 62, \"font\": {\"color\": \"#000000\"}, \"yref\": \"y1\"}, {\"align\": \"left\", \"showarrow\": false, \"xref\": \"x1\", \"xanchor\": \"left\", \"x\": -0.45, \"text\": \"2013\", \"y\": 63, \"font\": {\"color\": \"#000000\"}, \"yref\": \"y1\"}, {\"align\": \"left\", \"showarrow\": false, \"xref\": \"x1\", \"xanchor\": \"left\", \"x\": 0.55, \"text\": \"Web Properties\", \"y\": 63, \"font\": {\"color\": \"#000000\"}, \"yref\": \"y1\"}, {\"align\": \"left\", \"showarrow\": false, \"xref\": \"x1\", \"xanchor\": \"left\", \"x\": 1.55, \"text\": \"106\", \"y\": 63, \"font\": {\"color\": \"#000000\"}, \"yref\": \"y1\"}, {\"align\": \"left\", \"showarrow\": false, \"xref\": \"x1\", \"xanchor\": \"left\", \"x\": -0.45, \"text\": \"2013\", \"y\": 64, \"font\": {\"color\": \"#000000\"}, \"yref\": \"y1\"}, {\"align\": \"left\", \"showarrow\": false, \"xref\": \"x1\", \"xanchor\": \"left\", \"x\": 0.55, \"text\": \"Gecko\", \"y\": 64, \"font\": {\"color\": \"#000000\"}, \"yref\": \"y1\"}, {\"align\": \"left\", \"showarrow\": false, \"xref\": \"x1\", \"xanchor\": \"left\", \"x\": 1.55, \"text\": \"60\", \"y\": 64, \"font\": {\"color\": \"#000000\"}, \"yref\": \"y1\"}, {\"align\": \"left\", \"showarrow\": false, \"xref\": \"x1\", \"xanchor\": \"left\", \"x\": -0.45, \"text\": \"2013\", \"y\": 65, \"font\": {\"color\": \"#000000\"}, \"yref\": \"y1\"}, {\"align\": \"left\", \"showarrow\": false, \"xref\": \"x1\", \"xanchor\": \"left\", \"x\": 0.55, \"text\": \"Mozilla Local/Regional communities\", \"y\": 65, \"font\": {\"color\": \"#000000\"}, \"yref\": \"y1\"}, {\"align\": \"left\", \"showarrow\": false, \"xref\": \"x1\", \"xanchor\": \"left\", \"x\": 1.55, \"text\": \"49\", \"y\": 65, \"font\": {\"color\": \"#000000\"}, \"yref\": \"y1\"}, {\"align\": \"left\", \"showarrow\": false, \"xref\": \"x1\", \"xanchor\": \"left\", \"x\": -0.45, \"text\": \"2013\", \"y\": 66, \"font\": {\"color\": \"#000000\"}, \"yref\": \"y1\"}, {\"align\": \"left\", \"showarrow\": false, \"xref\": \"x1\", \"xanchor\": \"left\", \"x\": 0.55, \"text\": \"Servo\", \"y\": 66, \"font\": {\"color\": \"#000000\"}, \"yref\": \"y1\"}, {\"align\": \"left\", \"showarrow\": false, \"xref\": \"x1\", \"xanchor\": \"left\", \"x\": 1.55, \"text\": \"44\", \"y\": 66, \"font\": {\"color\": \"#000000\"}, \"yref\": \"y1\"}, {\"align\": \"left\", \"showarrow\": false, \"xref\": \"x1\", \"xanchor\": \"left\", \"x\": -0.45, \"text\": \"2013\", \"y\": 67, \"font\": {\"color\": \"#000000\"}, \"yref\": \"y1\"}, {\"align\": \"left\", \"showarrow\": false, \"xref\": \"x1\", \"xanchor\": \"left\", \"x\": 0.55, \"text\": \"IT/Ops\", \"y\": 67, \"font\": {\"color\": \"#000000\"}, \"yref\": \"y1\"}, {\"align\": \"left\", \"showarrow\": false, \"xref\": \"x1\", \"xanchor\": \"left\", \"x\": 1.55, \"text\": \"43\", \"y\": 67, \"font\": {\"color\": \"#000000\"}, \"yref\": \"y1\"}, {\"align\": \"left\", \"showarrow\": false, \"xref\": \"x1\", \"xanchor\": \"left\", \"x\": -0.45, \"text\": \"2013\", \"y\": 68, \"font\": {\"color\": \"#000000\"}, \"yref\": \"y1\"}, {\"align\": \"left\", \"showarrow\": false, \"xref\": \"x1\", \"xanchor\": \"left\", \"x\": 0.55, \"text\": \"Mozilla Foundation\", \"y\": 68, \"font\": {\"color\": \"#000000\"}, \"yref\": \"y1\"}, {\"align\": \"left\", \"showarrow\": false, \"xref\": \"x1\", \"xanchor\": \"left\", \"x\": 1.55, \"text\": \"30\", \"y\": 68, \"font\": {\"color\": \"#000000\"}, \"yref\": \"y1\"}, {\"align\": \"left\", \"showarrow\": false, \"xref\": \"x1\", \"xanchor\": \"left\", \"x\": -0.45, \"text\": \"2013\", \"y\": 69, \"font\": {\"color\": \"#000000\"}, \"yref\": \"y1\"}, {\"align\": \"left\", \"showarrow\": false, \"xref\": \"x1\", \"xanchor\": \"left\", \"x\": 0.55, \"text\": \"Addons/Web Extensions\", \"y\": 69, \"font\": {\"color\": \"#000000\"}, \"yref\": \"y1\"}, {\"align\": \"left\", \"showarrow\": false, \"xref\": \"x1\", \"xanchor\": \"left\", \"x\": 1.55, \"text\": \"26\", \"y\": 69, \"font\": {\"color\": \"#000000\"}, \"yref\": \"y1\"}, {\"align\": \"left\", \"showarrow\": false, \"xref\": \"x1\", \"xanchor\": \"left\", \"x\": -0.45, \"text\": \"2013\", \"y\": 70, \"font\": {\"color\": \"#000000\"}, \"yref\": \"y1\"}, {\"align\": \"left\", \"showarrow\": false, \"xref\": \"x1\", \"xanchor\": \"left\", \"x\": 0.55, \"text\": \"Web Literacy\", \"y\": 70, \"font\": {\"color\": \"#000000\"}, \"yref\": \"y1\"}, {\"align\": \"left\", \"showarrow\": false, \"xref\": \"x1\", \"xanchor\": \"left\", \"x\": 1.55, \"text\": \"17\", \"y\": 70, \"font\": {\"color\": \"#000000\"}, \"yref\": \"y1\"}, {\"align\": \"left\", \"showarrow\": false, \"xref\": \"x1\", \"xanchor\": \"left\", \"x\": -0.45, \"text\": \"2013\", \"y\": 71, \"font\": {\"color\": \"#000000\"}, \"yref\": \"y1\"}, {\"align\": \"left\", \"showarrow\": false, \"xref\": \"x1\", \"xanchor\": \"left\", \"x\": 0.55, \"text\": \"Firefox\", \"y\": 71, \"font\": {\"color\": \"#000000\"}, \"yref\": \"y1\"}, {\"align\": \"left\", \"showarrow\": false, \"xref\": \"x1\", \"xanchor\": \"left\", \"x\": 1.55, \"text\": \"16\", \"y\": 71, \"font\": {\"color\": \"#000000\"}, \"yref\": \"y1\"}, {\"align\": \"left\", \"showarrow\": false, \"xref\": \"x1\", \"xanchor\": \"left\", \"x\": -0.45, \"text\": \"2013\", \"y\": 72, \"font\": {\"color\": \"#000000\"}, \"yref\": \"y1\"}, {\"align\": \"left\", \"showarrow\": false, \"xref\": \"x1\", \"xanchor\": \"left\", \"x\": 0.55, \"text\": \"Mozilla Location Service (MLS) / Stumbler\", \"y\": 72, \"font\": {\"color\": \"#000000\"}, \"yref\": \"y1\"}, {\"align\": \"left\", \"showarrow\": false, \"xref\": \"x1\", \"xanchor\": \"left\", \"x\": 1.55, \"text\": \"16\", \"y\": 72, \"font\": {\"color\": \"#000000\"}, \"yref\": \"y1\"}, {\"align\": \"left\", \"showarrow\": false, \"xref\": \"x1\", \"xanchor\": \"left\", \"x\": -0.45, \"text\": \"2013\", \"y\": 73, \"font\": {\"color\": \"#000000\"}, \"yref\": \"y1\"}, {\"align\": \"left\", \"showarrow\": false, \"xref\": \"x1\", \"xanchor\": \"left\", \"x\": 0.55, \"text\": \"Release engineering\", \"y\": 73, \"font\": {\"color\": \"#000000\"}, \"yref\": \"y1\"}, {\"align\": \"left\", \"showarrow\": false, \"xref\": \"x1\", \"xanchor\": \"left\", \"x\": 1.55, \"text\": \"5\", \"y\": 73, \"font\": {\"color\": \"#000000\"}, \"yref\": \"y1\"}, {\"align\": \"left\", \"showarrow\": false, \"xref\": \"x1\", \"xanchor\": \"left\", \"x\": -0.45, \"text\": \"2013\", \"y\": 74, \"font\": {\"color\": \"#000000\"}, \"yref\": \"y1\"}, {\"align\": \"left\", \"showarrow\": false, \"xref\": \"x1\", \"xanchor\": \"left\", \"x\": 0.55, \"text\": \"Firefox OS (FxOS / B2G)\", \"y\": 74, \"font\": {\"color\": \"#000000\"}, \"yref\": \"y1\"}, {\"align\": \"left\", \"showarrow\": false, \"xref\": \"x1\", \"xanchor\": \"left\", \"x\": 1.55, \"text\": \"4\", \"y\": 74, \"font\": {\"color\": \"#000000\"}, \"yref\": \"y1\"}, {\"align\": \"left\", \"showarrow\": false, \"xref\": \"x1\", \"xanchor\": \"left\", \"x\": -0.45, \"text\": \"2013\", \"y\": 75, \"font\": {\"color\": \"#000000\"}, \"yref\": \"y1\"}, {\"align\": \"left\", \"showarrow\": false, \"xref\": \"x1\", \"xanchor\": \"left\", \"x\": 0.55, \"text\": \"Quality Assurance\", \"y\": 75, \"font\": {\"color\": \"#000000\"}, \"yref\": \"y1\"}, {\"align\": \"left\", \"showarrow\": false, \"xref\": \"x1\", \"xanchor\": \"left\", \"x\": 1.55, \"text\": \"4\", \"y\": 75, \"font\": {\"color\": \"#000000\"}, \"yref\": \"y1\"}, {\"align\": \"left\", \"showarrow\": false, \"xref\": \"x1\", \"xanchor\": \"left\", \"x\": -0.45, \"text\": \"2013\", \"y\": 76, \"font\": {\"color\": \"#000000\"}, \"yref\": \"y1\"}, {\"align\": \"left\", \"showarrow\": false, \"xref\": \"x1\", \"xanchor\": \"left\", \"x\": 0.55, \"text\": \"Mozilla Creative & Design\", \"y\": 76, \"font\": {\"color\": \"#000000\"}, \"yref\": \"y1\"}, {\"align\": \"left\", \"showarrow\": false, \"xref\": \"x1\", \"xanchor\": \"left\", \"x\": 1.55, \"text\": \"2\", \"y\": 76, \"font\": {\"color\": \"#000000\"}, \"yref\": \"y1\"}, {\"align\": \"left\", \"showarrow\": false, \"xref\": \"x1\", \"xanchor\": \"left\", \"x\": -0.45, \"text\": \"2013\", \"y\": 77, \"font\": {\"color\": \"#000000\"}, \"yref\": \"y1\"}, {\"align\": \"left\", \"showarrow\": false, \"xref\": \"x1\", \"xanchor\": \"left\", \"x\": 0.55, \"text\": \"Mozilla Developer Network (MDN)\", \"y\": 77, \"font\": {\"color\": \"#000000\"}, \"yref\": \"y1\"}, {\"align\": \"left\", \"showarrow\": false, \"xref\": \"x1\", \"xanchor\": \"left\", \"x\": 1.55, \"text\": \"2\", \"y\": 77, \"font\": {\"color\": \"#000000\"}, \"yref\": \"y1\"}, {\"align\": \"left\", \"showarrow\": false, \"xref\": \"x1\", \"xanchor\": \"left\", \"x\": -0.45, \"text\": \"2013\", \"y\": 78, \"font\": {\"color\": \"#000000\"}, \"yref\": \"y1\"}, {\"align\": \"left\", \"showarrow\": false, \"xref\": \"x1\", \"xanchor\": \"left\", \"x\": 0.55, \"text\": \"Firefox iOS\", \"y\": 78, \"font\": {\"color\": \"#000000\"}, \"yref\": \"y1\"}, {\"align\": \"left\", \"showarrow\": false, \"xref\": \"x1\", \"xanchor\": \"left\", \"x\": 1.55, \"text\": \"1\", \"y\": 78, \"font\": {\"color\": \"#000000\"}, \"yref\": \"y1\"}, {\"align\": \"left\", \"showarrow\": false, \"xref\": \"x1\", \"xanchor\": \"left\", \"x\": -0.45, \"text\": \"2013\", \"y\": 79, \"font\": {\"color\": \"#000000\"}, \"yref\": \"y1\"}, {\"align\": \"left\", \"showarrow\": false, \"xref\": \"x1\", \"xanchor\": \"left\", \"x\": 0.55, \"text\": \"Marketing / Social Media\", \"y\": 79, \"font\": {\"color\": \"#000000\"}, \"yref\": \"y1\"}, {\"align\": \"left\", \"showarrow\": false, \"xref\": \"x1\", \"xanchor\": \"left\", \"x\": 1.55, \"text\": \"1\", \"y\": 79, \"font\": {\"color\": \"#000000\"}, \"yref\": \"y1\"}, {\"align\": \"left\", \"showarrow\": false, \"xref\": \"x1\", \"xanchor\": \"left\", \"x\": -0.45, \"text\": \"2013\", \"y\": 80, \"font\": {\"color\": \"#000000\"}, \"yref\": \"y1\"}, {\"align\": \"left\", \"showarrow\": false, \"xref\": \"x1\", \"xanchor\": \"left\", \"x\": 0.55, \"text\": \"Mozilla Science\", \"y\": 80, \"font\": {\"color\": \"#000000\"}, \"yref\": \"y1\"}, {\"align\": \"left\", \"showarrow\": false, \"xref\": \"x1\", \"xanchor\": \"left\", \"x\": 1.55, \"text\": \"1\", \"y\": 80, \"font\": {\"color\": \"#000000\"}, \"yref\": \"y1\"}, {\"align\": \"left\", \"showarrow\": false, \"xref\": \"x1\", \"xanchor\": \"left\", \"x\": -0.45, \"text\": \"2012\", \"y\": 81, \"font\": {\"color\": \"#000000\"}, \"yref\": \"y1\"}, {\"align\": \"left\", \"showarrow\": false, \"xref\": \"x1\", \"xanchor\": \"left\", \"x\": 0.55, \"text\": \"Unknown\", \"y\": 81, \"font\": {\"color\": \"#000000\"}, \"yref\": \"y1\"}, {\"align\": \"left\", \"showarrow\": false, \"xref\": \"x1\", \"xanchor\": \"left\", \"x\": 1.55, \"text\": \"534\", \"y\": 81, \"font\": {\"color\": \"#000000\"}, \"yref\": \"y1\"}, {\"align\": \"left\", \"showarrow\": false, \"xref\": \"x1\", \"xanchor\": \"left\", \"x\": -0.45, \"text\": \"2012\", \"y\": 82, \"font\": {\"color\": \"#000000\"}, \"yref\": \"y1\"}, {\"align\": \"left\", \"showarrow\": false, \"xref\": \"x1\", \"xanchor\": \"left\", \"x\": 0.55, \"text\": \"Rust\", \"y\": 82, \"font\": {\"color\": \"#000000\"}, \"yref\": \"y1\"}, {\"align\": \"left\", \"showarrow\": false, \"xref\": \"x1\", \"xanchor\": \"left\", \"x\": 1.55, \"text\": \"85\", \"y\": 82, \"font\": {\"color\": \"#000000\"}, \"yref\": \"y1\"}, {\"align\": \"left\", \"showarrow\": false, \"xref\": \"x1\", \"xanchor\": \"left\", \"x\": -0.45, \"text\": \"2012\", \"y\": 83, \"font\": {\"color\": \"#000000\"}, \"yref\": \"y1\"}, {\"align\": \"left\", \"showarrow\": false, \"xref\": \"x1\", \"xanchor\": \"left\", \"x\": 0.55, \"text\": \"Web Properties\", \"y\": 83, \"font\": {\"color\": \"#000000\"}, \"yref\": \"y1\"}, {\"align\": \"left\", \"showarrow\": false, \"xref\": \"x1\", \"xanchor\": \"left\", \"x\": 1.55, \"text\": \"54\", \"y\": 83, \"font\": {\"color\": \"#000000\"}, \"yref\": \"y1\"}, {\"align\": \"left\", \"showarrow\": false, \"xref\": \"x1\", \"xanchor\": \"left\", \"x\": -0.45, \"text\": \"2012\", \"y\": 84, \"font\": {\"color\": \"#000000\"}, \"yref\": \"y1\"}, {\"align\": \"left\", \"showarrow\": false, \"xref\": \"x1\", \"xanchor\": \"left\", \"x\": 0.55, \"text\": \"IT/Ops\", \"y\": 84, \"font\": {\"color\": \"#000000\"}, \"yref\": \"y1\"}, {\"align\": \"left\", \"showarrow\": false, \"xref\": \"x1\", \"xanchor\": \"left\", \"x\": 1.55, \"text\": \"48\", \"y\": 84, \"font\": {\"color\": \"#000000\"}, \"yref\": \"y1\"}, {\"align\": \"left\", \"showarrow\": false, \"xref\": \"x1\", \"xanchor\": \"left\", \"x\": -0.45, \"text\": \"2012\", \"y\": 85, \"font\": {\"color\": \"#000000\"}, \"yref\": \"y1\"}, {\"align\": \"left\", \"showarrow\": false, \"xref\": \"x1\", \"xanchor\": \"left\", \"x\": 0.55, \"text\": \"Servo\", \"y\": 85, \"font\": {\"color\": \"#000000\"}, \"yref\": \"y1\"}, {\"align\": \"left\", \"showarrow\": false, \"xref\": \"x1\", \"xanchor\": \"left\", \"x\": 1.55, \"text\": \"47\", \"y\": 85, \"font\": {\"color\": \"#000000\"}, \"yref\": \"y1\"}, {\"align\": \"left\", \"showarrow\": false, \"xref\": \"x1\", \"xanchor\": \"left\", \"x\": -0.45, \"text\": \"2012\", \"y\": 86, \"font\": {\"color\": \"#000000\"}, \"yref\": \"y1\"}, {\"align\": \"left\", \"showarrow\": false, \"xref\": \"x1\", \"xanchor\": \"left\", \"x\": 0.55, \"text\": \"Mozilla Local/Regional communities\", \"y\": 86, \"font\": {\"color\": \"#000000\"}, \"yref\": \"y1\"}, {\"align\": \"left\", \"showarrow\": false, \"xref\": \"x1\", \"xanchor\": \"left\", \"x\": 1.55, \"text\": \"36\", \"y\": 86, \"font\": {\"color\": \"#000000\"}, \"yref\": \"y1\"}, {\"align\": \"left\", \"showarrow\": false, \"xref\": \"x1\", \"xanchor\": \"left\", \"x\": -0.45, \"text\": \"2012\", \"y\": 87, \"font\": {\"color\": \"#000000\"}, \"yref\": \"y1\"}, {\"align\": \"left\", \"showarrow\": false, \"xref\": \"x1\", \"xanchor\": \"left\", \"x\": 0.55, \"text\": \"Gecko\", \"y\": 87, \"font\": {\"color\": \"#000000\"}, \"yref\": \"y1\"}, {\"align\": \"left\", \"showarrow\": false, \"xref\": \"x1\", \"xanchor\": \"left\", \"x\": 1.55, \"text\": \"27\", \"y\": 87, \"font\": {\"color\": \"#000000\"}, \"yref\": \"y1\"}, {\"align\": \"left\", \"showarrow\": false, \"xref\": \"x1\", \"xanchor\": \"left\", \"x\": -0.45, \"text\": \"2012\", \"y\": 88, \"font\": {\"color\": \"#000000\"}, \"yref\": \"y1\"}, {\"align\": \"left\", \"showarrow\": false, \"xref\": \"x1\", \"xanchor\": \"left\", \"x\": 0.55, \"text\": \"Addons/Web Extensions\", \"y\": 88, \"font\": {\"color\": \"#000000\"}, \"yref\": \"y1\"}, {\"align\": \"left\", \"showarrow\": false, \"xref\": \"x1\", \"xanchor\": \"left\", \"x\": 1.55, \"text\": \"20\", \"y\": 88, \"font\": {\"color\": \"#000000\"}, \"yref\": \"y1\"}, {\"align\": \"left\", \"showarrow\": false, \"xref\": \"x1\", \"xanchor\": \"left\", \"x\": -0.45, \"text\": \"2012\", \"y\": 89, \"font\": {\"color\": \"#000000\"}, \"yref\": \"y1\"}, {\"align\": \"left\", \"showarrow\": false, \"xref\": \"x1\", \"xanchor\": \"left\", \"x\": 0.55, \"text\": \"Mozilla Foundation\", \"y\": 89, \"font\": {\"color\": \"#000000\"}, \"yref\": \"y1\"}, {\"align\": \"left\", \"showarrow\": false, \"xref\": \"x1\", \"xanchor\": \"left\", \"x\": 1.55, \"text\": \"14\", \"y\": 89, \"font\": {\"color\": \"#000000\"}, \"yref\": \"y1\"}, {\"align\": \"left\", \"showarrow\": false, \"xref\": \"x1\", \"xanchor\": \"left\", \"x\": -0.45, \"text\": \"2012\", \"y\": 90, \"font\": {\"color\": \"#000000\"}, \"yref\": \"y1\"}, {\"align\": \"left\", \"showarrow\": false, \"xref\": \"x1\", \"xanchor\": \"left\", \"x\": 0.55, \"text\": \"Web Literacy\", \"y\": 90, \"font\": {\"color\": \"#000000\"}, \"yref\": \"y1\"}, {\"align\": \"left\", \"showarrow\": false, \"xref\": \"x1\", \"xanchor\": \"left\", \"x\": 1.55, \"text\": \"9\", \"y\": 90, \"font\": {\"color\": \"#000000\"}, \"yref\": \"y1\"}, {\"align\": \"left\", \"showarrow\": false, \"xref\": \"x1\", \"xanchor\": \"left\", \"x\": -0.45, \"text\": \"2012\", \"y\": 91, \"font\": {\"color\": \"#000000\"}, \"yref\": \"y1\"}, {\"align\": \"left\", \"showarrow\": false, \"xref\": \"x1\", \"xanchor\": \"left\", \"x\": 0.55, \"text\": \"Firefox\", \"y\": 91, \"font\": {\"color\": \"#000000\"}, \"yref\": \"y1\"}, {\"align\": \"left\", \"showarrow\": false, \"xref\": \"x1\", \"xanchor\": \"left\", \"x\": 1.55, \"text\": \"7\", \"y\": 91, \"font\": {\"color\": \"#000000\"}, \"yref\": \"y1\"}, {\"align\": \"left\", \"showarrow\": false, \"xref\": \"x1\", \"xanchor\": \"left\", \"x\": -0.45, \"text\": \"2012\", \"y\": 92, \"font\": {\"color\": \"#000000\"}, \"yref\": \"y1\"}, {\"align\": \"left\", \"showarrow\": false, \"xref\": \"x1\", \"xanchor\": \"left\", \"x\": 0.55, \"text\": \"Release engineering\", \"y\": 92, \"font\": {\"color\": \"#000000\"}, \"yref\": \"y1\"}, {\"align\": \"left\", \"showarrow\": false, \"xref\": \"x1\", \"xanchor\": \"left\", \"x\": 1.55, \"text\": \"7\", \"y\": 92, \"font\": {\"color\": \"#000000\"}, \"yref\": \"y1\"}, {\"align\": \"left\", \"showarrow\": false, \"xref\": \"x1\", \"xanchor\": \"left\", \"x\": -0.45, \"text\": \"2012\", \"y\": 93, \"font\": {\"color\": \"#000000\"}, \"yref\": \"y1\"}, {\"align\": \"left\", \"showarrow\": false, \"xref\": \"x1\", \"xanchor\": \"left\", \"x\": 0.55, \"text\": \"Firefox OS (FxOS / B2G)\", \"y\": 93, \"font\": {\"color\": \"#000000\"}, \"yref\": \"y1\"}, {\"align\": \"left\", \"showarrow\": false, \"xref\": \"x1\", \"xanchor\": \"left\", \"x\": 1.55, \"text\": \"3\", \"y\": 93, \"font\": {\"color\": \"#000000\"}, \"yref\": \"y1\"}, {\"align\": \"left\", \"showarrow\": false, \"xref\": \"x1\", \"xanchor\": \"left\", \"x\": -0.45, \"text\": \"2012\", \"y\": 94, \"font\": {\"color\": \"#000000\"}, \"yref\": \"y1\"}, {\"align\": \"left\", \"showarrow\": false, \"xref\": \"x1\", \"xanchor\": \"left\", \"x\": 0.55, \"text\": \"Localization\", \"y\": 94, \"font\": {\"color\": \"#000000\"}, \"yref\": \"y1\"}, {\"align\": \"left\", \"showarrow\": false, \"xref\": \"x1\", \"xanchor\": \"left\", \"x\": 1.55, \"text\": \"3\", \"y\": 94, \"font\": {\"color\": \"#000000\"}, \"yref\": \"y1\"}, {\"align\": \"left\", \"showarrow\": false, \"xref\": \"x1\", \"xanchor\": \"left\", \"x\": -0.45, \"text\": \"2012\", \"y\": 95, \"font\": {\"color\": \"#000000\"}, \"yref\": \"y1\"}, {\"align\": \"left\", \"showarrow\": false, \"xref\": \"x1\", \"xanchor\": \"left\", \"x\": 0.55, \"text\": \"Quality Assurance\", \"y\": 95, \"font\": {\"color\": \"#000000\"}, \"yref\": \"y1\"}, {\"align\": \"left\", \"showarrow\": false, \"xref\": \"x1\", \"xanchor\": \"left\", \"x\": 1.55, \"text\": \"2\", \"y\": 95, \"font\": {\"color\": \"#000000\"}, \"yref\": \"y1\"}]}, {\"showLink\": true, \"linkText\": \"Export to plot.ly\"})});</script>"
      ],
      "text/vnd.plotly.v1+html": [
       "<div id=\"94f064f9-85cc-489b-9a54-98657e4d3881\" style=\"height: 2930px; width: 100%;\" class=\"plotly-graph-div\"></div><script type=\"text/javascript\">require([\"plotly\"], function(Plotly) { window.PLOTLYENV=window.PLOTLYENV || {};window.PLOTLYENV.BASE_URL=\"https://plot.ly\";Plotly.newPlot(\"94f064f9-85cc-489b-9a54-98657e4d3881\", [{\"colorscale\": [[0, \"#00083e\"], [0.5, \"#ededee\"], [1, \"#ffffff\"]], \"z\": [[0, 0, 0], [0.5, 0.5, 0.5], [1, 1, 1], [0.5, 0.5, 0.5], [1, 1, 1], [0.5, 0.5, 0.5], [1, 1, 1], [0.5, 0.5, 0.5], [1, 1, 1], [0.5, 0.5, 0.5], [1, 1, 1], [0.5, 0.5, 0.5], [1, 1, 1], [0.5, 0.5, 0.5], [1, 1, 1], [0.5, 0.5, 0.5], [1, 1, 1], [0.5, 0.5, 0.5], [1, 1, 1], [0.5, 0.5, 0.5], [1, 1, 1], [0.5, 0.5, 0.5], [1, 1, 1], [0.5, 0.5, 0.5], [1, 1, 1], [0.5, 0.5, 0.5], [1, 1, 1], [0.5, 0.5, 0.5], [1, 1, 1], [0.5, 0.5, 0.5], [1, 1, 1], [0.5, 0.5, 0.5], [1, 1, 1], [0.5, 0.5, 0.5], [1, 1, 1], [0.5, 0.5, 0.5], [1, 1, 1], [0.5, 0.5, 0.5], [1, 1, 1], [0.5, 0.5, 0.5], [1, 1, 1], [0.5, 0.5, 0.5], [1, 1, 1], [0.5, 0.5, 0.5], [1, 1, 1], [0.5, 0.5, 0.5], [1, 1, 1], [0.5, 0.5, 0.5], [1, 1, 1], [0.5, 0.5, 0.5], [1, 1, 1], [0.5, 0.5, 0.5], [1, 1, 1], [0.5, 0.5, 0.5], [1, 1, 1], [0.5, 0.5, 0.5], [1, 1, 1], [0.5, 0.5, 0.5], [1, 1, 1], [0.5, 0.5, 0.5], [1, 1, 1], [0.5, 0.5, 0.5], [1, 1, 1], [0.5, 0.5, 0.5], [1, 1, 1], [0.5, 0.5, 0.5], [1, 1, 1], [0.5, 0.5, 0.5], [1, 1, 1], [0.5, 0.5, 0.5], [1, 1, 1], [0.5, 0.5, 0.5], [1, 1, 1], [0.5, 0.5, 0.5], [1, 1, 1], [0.5, 0.5, 0.5], [1, 1, 1], [0.5, 0.5, 0.5], [1, 1, 1], [0.5, 0.5, 0.5], [1, 1, 1], [0.5, 0.5, 0.5], [1, 1, 1], [0.5, 0.5, 0.5], [1, 1, 1], [0.5, 0.5, 0.5], [1, 1, 1], [0.5, 0.5, 0.5], [1, 1, 1], [0.5, 0.5, 0.5], [1, 1, 1], [0.5, 0.5, 0.5], [1, 1, 1], [0.5, 0.5, 0.5], [1, 1, 1], [0.5, 0.5, 0.5]], \"type\": \"heatmap\", \"showscale\": false, \"opacity\": 0.75, \"hoverinfo\": \"none\"}], {\"height\": 2930, \"margin\": {\"t\": 0, \"r\": 0, \"l\": 0, \"b\": 0}, \"yaxis\": {\"showticklabels\": false, \"ticks\": \"\", \"autorange\": \"reversed\", \"gridwidth\": 2, \"dtick\": 1, \"zeroline\": false, \"tick0\": 0.5}, \"xaxis\": {\"showticklabels\": false, \"ticks\": \"\", \"gridwidth\": 2, \"dtick\": 1, \"zeroline\": false, \"tick0\": -0.5}, \"annotations\": [{\"align\": \"left\", \"showarrow\": false, \"xref\": \"x1\", \"xanchor\": \"left\", \"x\": -0.45, \"text\": \"<b>first_commit</b>\", \"y\": 0, \"font\": {\"color\": \"#ffffff\"}, \"yref\": \"y1\"}, {\"align\": \"left\", \"showarrow\": false, \"xref\": \"x1\", \"xanchor\": \"left\", \"x\": 0.55, \"text\": \"<b>project</b>\", \"y\": 0, \"font\": {\"color\": \"#ffffff\"}, \"yref\": \"y1\"}, {\"align\": \"left\", \"showarrow\": false, \"xref\": \"x1\", \"xanchor\": \"left\", \"x\": 1.55, \"text\": \"<b># authors</b>\", \"y\": 0, \"font\": {\"color\": \"#ffffff\"}, \"yref\": \"y1\"}, {\"align\": \"left\", \"showarrow\": false, \"xref\": \"x1\", \"xanchor\": \"left\", \"x\": -0.45, \"text\": \"2016\", \"y\": 1, \"font\": {\"color\": \"#000000\"}, \"yref\": \"y1\"}, {\"align\": \"left\", \"showarrow\": false, \"xref\": \"x1\", \"xanchor\": \"left\", \"x\": 0.55, \"text\": \"Unknown\", \"y\": 1, \"font\": {\"color\": \"#000000\"}, \"yref\": \"y1\"}, {\"align\": \"left\", \"showarrow\": false, \"xref\": \"x1\", \"xanchor\": \"left\", \"x\": 1.55, \"text\": \"913\", \"y\": 1, \"font\": {\"color\": \"#000000\"}, \"yref\": \"y1\"}, {\"align\": \"left\", \"showarrow\": false, \"xref\": \"x1\", \"xanchor\": \"left\", \"x\": -0.45, \"text\": \"2016\", \"y\": 2, \"font\": {\"color\": \"#000000\"}, \"yref\": \"y1\"}, {\"align\": \"left\", \"showarrow\": false, \"xref\": \"x1\", \"xanchor\": \"left\", \"x\": 0.55, \"text\": \"Rust\", \"y\": 2, \"font\": {\"color\": \"#000000\"}, \"yref\": \"y1\"}, {\"align\": \"left\", \"showarrow\": false, \"xref\": \"x1\", \"xanchor\": \"left\", \"x\": 1.55, \"text\": \"493\", \"y\": 2, \"font\": {\"color\": \"#000000\"}, \"yref\": \"y1\"}, {\"align\": \"left\", \"showarrow\": false, \"xref\": \"x1\", \"xanchor\": \"left\", \"x\": -0.45, \"text\": \"2016\", \"y\": 3, \"font\": {\"color\": \"#000000\"}, \"yref\": \"y1\"}, {\"align\": \"left\", \"showarrow\": false, \"xref\": \"x1\", \"xanchor\": \"left\", \"x\": 0.55, \"text\": \"Servo\", \"y\": 3, \"font\": {\"color\": \"#000000\"}, \"yref\": \"y1\"}, {\"align\": \"left\", \"showarrow\": false, \"xref\": \"x1\", \"xanchor\": \"left\", \"x\": 1.55, \"text\": \"194\", \"y\": 3, \"font\": {\"color\": \"#000000\"}, \"yref\": \"y1\"}, {\"align\": \"left\", \"showarrow\": false, \"xref\": \"x1\", \"xanchor\": \"left\", \"x\": -0.45, \"text\": \"2016\", \"y\": 4, \"font\": {\"color\": \"#000000\"}, \"yref\": \"y1\"}, {\"align\": \"left\", \"showarrow\": false, \"xref\": \"x1\", \"xanchor\": \"left\", \"x\": 0.55, \"text\": \"Gecko\", \"y\": 4, \"font\": {\"color\": \"#000000\"}, \"yref\": \"y1\"}, {\"align\": \"left\", \"showarrow\": false, \"xref\": \"x1\", \"xanchor\": \"left\", \"x\": 1.55, \"text\": \"164\", \"y\": 4, \"font\": {\"color\": \"#000000\"}, \"yref\": \"y1\"}, {\"align\": \"left\", \"showarrow\": false, \"xref\": \"x1\", \"xanchor\": \"left\", \"x\": -0.45, \"text\": \"2016\", \"y\": 5, \"font\": {\"color\": \"#000000\"}, \"yref\": \"y1\"}, {\"align\": \"left\", \"showarrow\": false, \"xref\": \"x1\", \"xanchor\": \"left\", \"x\": 0.55, \"text\": \"Web Properties\", \"y\": 5, \"font\": {\"color\": \"#000000\"}, \"yref\": \"y1\"}, {\"align\": \"left\", \"showarrow\": false, \"xref\": \"x1\", \"xanchor\": \"left\", \"x\": 1.55, \"text\": \"122\", \"y\": 5, \"font\": {\"color\": \"#000000\"}, \"yref\": \"y1\"}, {\"align\": \"left\", \"showarrow\": false, \"xref\": \"x1\", \"xanchor\": \"left\", \"x\": -0.45, \"text\": \"2016\", \"y\": 6, \"font\": {\"color\": \"#000000\"}, \"yref\": \"y1\"}, {\"align\": \"left\", \"showarrow\": false, \"xref\": \"x1\", \"xanchor\": \"left\", \"x\": 0.55, \"text\": \"WebVR\", \"y\": 6, \"font\": {\"color\": \"#000000\"}, \"yref\": \"y1\"}, {\"align\": \"left\", \"showarrow\": false, \"xref\": \"x1\", \"xanchor\": \"left\", \"x\": 1.55, \"text\": \"111\", \"y\": 6, \"font\": {\"color\": \"#000000\"}, \"yref\": \"y1\"}, {\"align\": \"left\", \"showarrow\": false, \"xref\": \"x1\", \"xanchor\": \"left\", \"x\": -0.45, \"text\": \"2016\", \"y\": 7, \"font\": {\"color\": \"#000000\"}, \"yref\": \"y1\"}, {\"align\": \"left\", \"showarrow\": false, \"xref\": \"x1\", \"xanchor\": \"left\", \"x\": 0.55, \"text\": \"IT/Ops\", \"y\": 7, \"font\": {\"color\": \"#000000\"}, \"yref\": \"y1\"}, {\"align\": \"left\", \"showarrow\": false, \"xref\": \"x1\", \"xanchor\": \"left\", \"x\": 1.55, \"text\": \"98\", \"y\": 7, \"font\": {\"color\": \"#000000\"}, \"yref\": \"y1\"}, {\"align\": \"left\", \"showarrow\": false, \"xref\": \"x1\", \"xanchor\": \"left\", \"x\": -0.45, \"text\": \"2016\", \"y\": 8, \"font\": {\"color\": \"#000000\"}, \"yref\": \"y1\"}, {\"align\": \"left\", \"showarrow\": false, \"xref\": \"x1\", \"xanchor\": \"left\", \"x\": 0.55, \"text\": \"Mozilla Local/Regional communities\", \"y\": 8, \"font\": {\"color\": \"#000000\"}, \"yref\": \"y1\"}, {\"align\": \"left\", \"showarrow\": false, \"xref\": \"x1\", \"xanchor\": \"left\", \"x\": 1.55, \"text\": \"54\", \"y\": 8, \"font\": {\"color\": \"#000000\"}, \"yref\": \"y1\"}, {\"align\": \"left\", \"showarrow\": false, \"xref\": \"x1\", \"xanchor\": \"left\", \"x\": -0.45, \"text\": \"2016\", \"y\": 9, \"font\": {\"color\": \"#000000\"}, \"yref\": \"y1\"}, {\"align\": \"left\", \"showarrow\": false, \"xref\": \"x1\", \"xanchor\": \"left\", \"x\": 0.55, \"text\": \"Mozilla Developer Network (MDN)\", \"y\": 9, \"font\": {\"color\": \"#000000\"}, \"yref\": \"y1\"}, {\"align\": \"left\", \"showarrow\": false, \"xref\": \"x1\", \"xanchor\": \"left\", \"x\": 1.55, \"text\": \"40\", \"y\": 9, \"font\": {\"color\": \"#000000\"}, \"yref\": \"y1\"}, {\"align\": \"left\", \"showarrow\": false, \"xref\": \"x1\", \"xanchor\": \"left\", \"x\": -0.45, \"text\": \"2016\", \"y\": 10, \"font\": {\"color\": \"#000000\"}, \"yref\": \"y1\"}, {\"align\": \"left\", \"showarrow\": false, \"xref\": \"x1\", \"xanchor\": \"left\", \"x\": 0.55, \"text\": \"Addons/Web Extensions\", \"y\": 10, \"font\": {\"color\": \"#000000\"}, \"yref\": \"y1\"}, {\"align\": \"left\", \"showarrow\": false, \"xref\": \"x1\", \"xanchor\": \"left\", \"x\": 1.55, \"text\": \"37\", \"y\": 10, \"font\": {\"color\": \"#000000\"}, \"yref\": \"y1\"}, {\"align\": \"left\", \"showarrow\": false, \"xref\": \"x1\", \"xanchor\": \"left\", \"x\": -0.45, \"text\": \"2016\", \"y\": 11, \"font\": {\"color\": \"#000000\"}, \"yref\": \"y1\"}, {\"align\": \"left\", \"showarrow\": false, \"xref\": \"x1\", \"xanchor\": \"left\", \"x\": 0.55, \"text\": \"Firefox\", \"y\": 11, \"font\": {\"color\": \"#000000\"}, \"yref\": \"y1\"}, {\"align\": \"left\", \"showarrow\": false, \"xref\": \"x1\", \"xanchor\": \"left\", \"x\": 1.55, \"text\": \"36\", \"y\": 11, \"font\": {\"color\": \"#000000\"}, \"yref\": \"y1\"}, {\"align\": \"left\", \"showarrow\": false, \"xref\": \"x1\", \"xanchor\": \"left\", \"x\": -0.45, \"text\": \"2016\", \"y\": 12, \"font\": {\"color\": \"#000000\"}, \"yref\": \"y1\"}, {\"align\": \"left\", \"showarrow\": false, \"xref\": \"x1\", \"xanchor\": \"left\", \"x\": 0.55, \"text\": \"Mozilla Science\", \"y\": 12, \"font\": {\"color\": \"#000000\"}, \"yref\": \"y1\"}, {\"align\": \"left\", \"showarrow\": false, \"xref\": \"x1\", \"xanchor\": \"left\", \"x\": 1.55, \"text\": \"32\", \"y\": 12, \"font\": {\"color\": \"#000000\"}, \"yref\": \"y1\"}, {\"align\": \"left\", \"showarrow\": false, \"xref\": \"x1\", \"xanchor\": \"left\", \"x\": -0.45, \"text\": \"2016\", \"y\": 13, \"font\": {\"color\": \"#000000\"}, \"yref\": \"y1\"}, {\"align\": \"left\", \"showarrow\": false, \"xref\": \"x1\", \"xanchor\": \"left\", \"x\": 0.55, \"text\": \"Firefox iOS\", \"y\": 13, \"font\": {\"color\": \"#000000\"}, \"yref\": \"y1\"}, {\"align\": \"left\", \"showarrow\": false, \"xref\": \"x1\", \"xanchor\": \"left\", \"x\": 1.55, \"text\": \"16\", \"y\": 13, \"font\": {\"color\": \"#000000\"}, \"yref\": \"y1\"}, {\"align\": \"left\", \"showarrow\": false, \"xref\": \"x1\", \"xanchor\": \"left\", \"x\": -0.45, \"text\": \"2016\", \"y\": 14, \"font\": {\"color\": \"#000000\"}, \"yref\": \"y1\"}, {\"align\": \"left\", \"showarrow\": false, \"xref\": \"x1\", \"xanchor\": \"left\", \"x\": 0.55, \"text\": \"Test Pilot\", \"y\": 14, \"font\": {\"color\": \"#000000\"}, \"yref\": \"y1\"}, {\"align\": \"left\", \"showarrow\": false, \"xref\": \"x1\", \"xanchor\": \"left\", \"x\": 1.55, \"text\": \"11\", \"y\": 14, \"font\": {\"color\": \"#000000\"}, \"yref\": \"y1\"}, {\"align\": \"left\", \"showarrow\": false, \"xref\": \"x1\", \"xanchor\": \"left\", \"x\": -0.45, \"text\": \"2016\", \"y\": 15, \"font\": {\"color\": \"#000000\"}, \"yref\": \"y1\"}, {\"align\": \"left\", \"showarrow\": false, \"xref\": \"x1\", \"xanchor\": \"left\", \"x\": 0.55, \"text\": \"Mozilla Foundation\", \"y\": 15, \"font\": {\"color\": \"#000000\"}, \"yref\": \"y1\"}, {\"align\": \"left\", \"showarrow\": false, \"xref\": \"x1\", \"xanchor\": \"left\", \"x\": 1.55, \"text\": \"7\", \"y\": 15, \"font\": {\"color\": \"#000000\"}, \"yref\": \"y1\"}, {\"align\": \"left\", \"showarrow\": false, \"xref\": \"x1\", \"xanchor\": \"left\", \"x\": -0.45, \"text\": \"2016\", \"y\": 16, \"font\": {\"color\": \"#000000\"}, \"yref\": \"y1\"}, {\"align\": \"left\", \"showarrow\": false, \"xref\": \"x1\", \"xanchor\": \"left\", \"x\": 0.55, \"text\": \"Mozilla Creative & Design\", \"y\": 16, \"font\": {\"color\": \"#000000\"}, \"yref\": \"y1\"}, {\"align\": \"left\", \"showarrow\": false, \"xref\": \"x1\", \"xanchor\": \"left\", \"x\": 1.55, \"text\": \"6\", \"y\": 16, \"font\": {\"color\": \"#000000\"}, \"yref\": \"y1\"}, {\"align\": \"left\", \"showarrow\": false, \"xref\": \"x1\", \"xanchor\": \"left\", \"x\": -0.45, \"text\": \"2016\", \"y\": 17, \"font\": {\"color\": \"#000000\"}, \"yref\": \"y1\"}, {\"align\": \"left\", \"showarrow\": false, \"xref\": \"x1\", \"xanchor\": \"left\", \"x\": 0.55, \"text\": \"Localization\", \"y\": 17, \"font\": {\"color\": \"#000000\"}, \"yref\": \"y1\"}, {\"align\": \"left\", \"showarrow\": false, \"xref\": \"x1\", \"xanchor\": \"left\", \"x\": 1.55, \"text\": \"4\", \"y\": 17, \"font\": {\"color\": \"#000000\"}, \"yref\": \"y1\"}, {\"align\": \"left\", \"showarrow\": false, \"xref\": \"x1\", \"xanchor\": \"left\", \"x\": -0.45, \"text\": \"2016\", \"y\": 18, \"font\": {\"color\": \"#000000\"}, \"yref\": \"y1\"}, {\"align\": \"left\", \"showarrow\": false, \"xref\": \"x1\", \"xanchor\": \"left\", \"x\": 0.55, \"text\": \"Firefox Focus\", \"y\": 18, \"font\": {\"color\": \"#000000\"}, \"yref\": \"y1\"}, {\"align\": \"left\", \"showarrow\": false, \"xref\": \"x1\", \"xanchor\": \"left\", \"x\": 1.55, \"text\": \"2\", \"y\": 18, \"font\": {\"color\": \"#000000\"}, \"yref\": \"y1\"}, {\"align\": \"left\", \"showarrow\": false, \"xref\": \"x1\", \"xanchor\": \"left\", \"x\": -0.45, \"text\": \"2016\", \"y\": 19, \"font\": {\"color\": \"#000000\"}, \"yref\": \"y1\"}, {\"align\": \"left\", \"showarrow\": false, \"xref\": \"x1\", \"xanchor\": \"left\", \"x\": 0.55, \"text\": \"Marketing / Social Media\", \"y\": 19, \"font\": {\"color\": \"#000000\"}, \"yref\": \"y1\"}, {\"align\": \"left\", \"showarrow\": false, \"xref\": \"x1\", \"xanchor\": \"left\", \"x\": 1.55, \"text\": \"2\", \"y\": 19, \"font\": {\"color\": \"#000000\"}, \"yref\": \"y1\"}, {\"align\": \"left\", \"showarrow\": false, \"xref\": \"x1\", \"xanchor\": \"left\", \"x\": -0.45, \"text\": \"2016\", \"y\": 20, \"font\": {\"color\": \"#000000\"}, \"yref\": \"y1\"}, {\"align\": \"left\", \"showarrow\": false, \"xref\": \"x1\", \"xanchor\": \"left\", \"x\": 0.55, \"text\": \"Technical/Developer Evangelism\", \"y\": 20, \"font\": {\"color\": \"#000000\"}, \"yref\": \"y1\"}, {\"align\": \"left\", \"showarrow\": false, \"xref\": \"x1\", \"xanchor\": \"left\", \"x\": 1.55, \"text\": \"2\", \"y\": 20, \"font\": {\"color\": \"#000000\"}, \"yref\": \"y1\"}, {\"align\": \"left\", \"showarrow\": false, \"xref\": \"x1\", \"xanchor\": \"left\", \"x\": -0.45, \"text\": \"2015\", \"y\": 21, \"font\": {\"color\": \"#000000\"}, \"yref\": \"y1\"}, {\"align\": \"left\", \"showarrow\": false, \"xref\": \"x1\", \"xanchor\": \"left\", \"x\": 0.55, \"text\": \"Unknown\", \"y\": 21, \"font\": {\"color\": \"#000000\"}, \"yref\": \"y1\"}, {\"align\": \"left\", \"showarrow\": false, \"xref\": \"x1\", \"xanchor\": \"left\", \"x\": 1.55, \"text\": \"1056\", \"y\": 21, \"font\": {\"color\": \"#000000\"}, \"yref\": \"y1\"}, {\"align\": \"left\", \"showarrow\": false, \"xref\": \"x1\", \"xanchor\": \"left\", \"x\": -0.45, \"text\": \"2015\", \"y\": 22, \"font\": {\"color\": \"#000000\"}, \"yref\": \"y1\"}, {\"align\": \"left\", \"showarrow\": false, \"xref\": \"x1\", \"xanchor\": \"left\", \"x\": 0.55, \"text\": \"Rust\", \"y\": 22, \"font\": {\"color\": \"#000000\"}, \"yref\": \"y1\"}, {\"align\": \"left\", \"showarrow\": false, \"xref\": \"x1\", \"xanchor\": \"left\", \"x\": 1.55, \"text\": \"640\", \"y\": 22, \"font\": {\"color\": \"#000000\"}, \"yref\": \"y1\"}, {\"align\": \"left\", \"showarrow\": false, \"xref\": \"x1\", \"xanchor\": \"left\", \"x\": -0.45, \"text\": \"2015\", \"y\": 23, \"font\": {\"color\": \"#000000\"}, \"yref\": \"y1\"}, {\"align\": \"left\", \"showarrow\": false, \"xref\": \"x1\", \"xanchor\": \"left\", \"x\": 0.55, \"text\": \"Servo\", \"y\": 23, \"font\": {\"color\": \"#000000\"}, \"yref\": \"y1\"}, {\"align\": \"left\", \"showarrow\": false, \"xref\": \"x1\", \"xanchor\": \"left\", \"x\": 1.55, \"text\": \"168\", \"y\": 23, \"font\": {\"color\": \"#000000\"}, \"yref\": \"y1\"}, {\"align\": \"left\", \"showarrow\": false, \"xref\": \"x1\", \"xanchor\": \"left\", \"x\": -0.45, \"text\": \"2015\", \"y\": 24, \"font\": {\"color\": \"#000000\"}, \"yref\": \"y1\"}, {\"align\": \"left\", \"showarrow\": false, \"xref\": \"x1\", \"xanchor\": \"left\", \"x\": 0.55, \"text\": \"Web Properties\", \"y\": 24, \"font\": {\"color\": \"#000000\"}, \"yref\": \"y1\"}, {\"align\": \"left\", \"showarrow\": false, \"xref\": \"x1\", \"xanchor\": \"left\", \"x\": 1.55, \"text\": \"146\", \"y\": 24, \"font\": {\"color\": \"#000000\"}, \"yref\": \"y1\"}, {\"align\": \"left\", \"showarrow\": false, \"xref\": \"x1\", \"xanchor\": \"left\", \"x\": -0.45, \"text\": \"2015\", \"y\": 25, \"font\": {\"color\": \"#000000\"}, \"yref\": \"y1\"}, {\"align\": \"left\", \"showarrow\": false, \"xref\": \"x1\", \"xanchor\": \"left\", \"x\": 0.55, \"text\": \"Gecko\", \"y\": 25, \"font\": {\"color\": \"#000000\"}, \"yref\": \"y1\"}, {\"align\": \"left\", \"showarrow\": false, \"xref\": \"x1\", \"xanchor\": \"left\", \"x\": 1.55, \"text\": \"83\", \"y\": 25, \"font\": {\"color\": \"#000000\"}, \"yref\": \"y1\"}, {\"align\": \"left\", \"showarrow\": false, \"xref\": \"x1\", \"xanchor\": \"left\", \"x\": -0.45, \"text\": \"2015\", \"y\": 26, \"font\": {\"color\": \"#000000\"}, \"yref\": \"y1\"}, {\"align\": \"left\", \"showarrow\": false, \"xref\": \"x1\", \"xanchor\": \"left\", \"x\": 0.55, \"text\": \"IT/Ops\", \"y\": 26, \"font\": {\"color\": \"#000000\"}, \"yref\": \"y1\"}, {\"align\": \"left\", \"showarrow\": false, \"xref\": \"x1\", \"xanchor\": \"left\", \"x\": 1.55, \"text\": \"80\", \"y\": 26, \"font\": {\"color\": \"#000000\"}, \"yref\": \"y1\"}, {\"align\": \"left\", \"showarrow\": false, \"xref\": \"x1\", \"xanchor\": \"left\", \"x\": -0.45, \"text\": \"2015\", \"y\": 27, \"font\": {\"color\": \"#000000\"}, \"yref\": \"y1\"}, {\"align\": \"left\", \"showarrow\": false, \"xref\": \"x1\", \"xanchor\": \"left\", \"x\": 0.55, \"text\": \"Mozilla Local/Regional communities\", \"y\": 27, \"font\": {\"color\": \"#000000\"}, \"yref\": \"y1\"}, {\"align\": \"left\", \"showarrow\": false, \"xref\": \"x1\", \"xanchor\": \"left\", \"x\": 1.55, \"text\": \"59\", \"y\": 27, \"font\": {\"color\": \"#000000\"}, \"yref\": \"y1\"}, {\"align\": \"left\", \"showarrow\": false, \"xref\": \"x1\", \"xanchor\": \"left\", \"x\": -0.45, \"text\": \"2015\", \"y\": 28, \"font\": {\"color\": \"#000000\"}, \"yref\": \"y1\"}, {\"align\": \"left\", \"showarrow\": false, \"xref\": \"x1\", \"xanchor\": \"left\", \"x\": 0.55, \"text\": \"Mozilla Science\", \"y\": 28, \"font\": {\"color\": \"#000000\"}, \"yref\": \"y1\"}, {\"align\": \"left\", \"showarrow\": false, \"xref\": \"x1\", \"xanchor\": \"left\", \"x\": 1.55, \"text\": \"39\", \"y\": 28, \"font\": {\"color\": \"#000000\"}, \"yref\": \"y1\"}, {\"align\": \"left\", \"showarrow\": false, \"xref\": \"x1\", \"xanchor\": \"left\", \"x\": -0.45, \"text\": \"2015\", \"y\": 29, \"font\": {\"color\": \"#000000\"}, \"yref\": \"y1\"}, {\"align\": \"left\", \"showarrow\": false, \"xref\": \"x1\", \"xanchor\": \"left\", \"x\": 0.55, \"text\": \"Firefox iOS\", \"y\": 29, \"font\": {\"color\": \"#000000\"}, \"yref\": \"y1\"}, {\"align\": \"left\", \"showarrow\": false, \"xref\": \"x1\", \"xanchor\": \"left\", \"x\": 1.55, \"text\": \"26\", \"y\": 29, \"font\": {\"color\": \"#000000\"}, \"yref\": \"y1\"}, {\"align\": \"left\", \"showarrow\": false, \"xref\": \"x1\", \"xanchor\": \"left\", \"x\": -0.45, \"text\": \"2015\", \"y\": 30, \"font\": {\"color\": \"#000000\"}, \"yref\": \"y1\"}, {\"align\": \"left\", \"showarrow\": false, \"xref\": \"x1\", \"xanchor\": \"left\", \"x\": 0.55, \"text\": \"Mozilla Developer Network (MDN)\", \"y\": 30, \"font\": {\"color\": \"#000000\"}, \"yref\": \"y1\"}, {\"align\": \"left\", \"showarrow\": false, \"xref\": \"x1\", \"xanchor\": \"left\", \"x\": 1.55, \"text\": \"25\", \"y\": 30, \"font\": {\"color\": \"#000000\"}, \"yref\": \"y1\"}, {\"align\": \"left\", \"showarrow\": false, \"xref\": \"x1\", \"xanchor\": \"left\", \"x\": -0.45, \"text\": \"2015\", \"y\": 31, \"font\": {\"color\": \"#000000\"}, \"yref\": \"y1\"}, {\"align\": \"left\", \"showarrow\": false, \"xref\": \"x1\", \"xanchor\": \"left\", \"x\": 0.55, \"text\": \"Addons/Web Extensions\", \"y\": 31, \"font\": {\"color\": \"#000000\"}, \"yref\": \"y1\"}, {\"align\": \"left\", \"showarrow\": false, \"xref\": \"x1\", \"xanchor\": \"left\", \"x\": 1.55, \"text\": \"22\", \"y\": 31, \"font\": {\"color\": \"#000000\"}, \"yref\": \"y1\"}, {\"align\": \"left\", \"showarrow\": false, \"xref\": \"x1\", \"xanchor\": \"left\", \"x\": -0.45, \"text\": \"2015\", \"y\": 32, \"font\": {\"color\": \"#000000\"}, \"yref\": \"y1\"}, {\"align\": \"left\", \"showarrow\": false, \"xref\": \"x1\", \"xanchor\": \"left\", \"x\": 0.55, \"text\": \"Firefox\", \"y\": 32, \"font\": {\"color\": \"#000000\"}, \"yref\": \"y1\"}, {\"align\": \"left\", \"showarrow\": false, \"xref\": \"x1\", \"xanchor\": \"left\", \"x\": 1.55, \"text\": \"19\", \"y\": 32, \"font\": {\"color\": \"#000000\"}, \"yref\": \"y1\"}, {\"align\": \"left\", \"showarrow\": false, \"xref\": \"x1\", \"xanchor\": \"left\", \"x\": -0.45, \"text\": \"2015\", \"y\": 33, \"font\": {\"color\": \"#000000\"}, \"yref\": \"y1\"}, {\"align\": \"left\", \"showarrow\": false, \"xref\": \"x1\", \"xanchor\": \"left\", \"x\": 0.55, \"text\": \"Firefox OS (FxOS / B2G)\", \"y\": 33, \"font\": {\"color\": \"#000000\"}, \"yref\": \"y1\"}, {\"align\": \"left\", \"showarrow\": false, \"xref\": \"x1\", \"xanchor\": \"left\", \"x\": 1.55, \"text\": \"19\", \"y\": 33, \"font\": {\"color\": \"#000000\"}, \"yref\": \"y1\"}, {\"align\": \"left\", \"showarrow\": false, \"xref\": \"x1\", \"xanchor\": \"left\", \"x\": -0.45, \"text\": \"2015\", \"y\": 34, \"font\": {\"color\": \"#000000\"}, \"yref\": \"y1\"}, {\"align\": \"left\", \"showarrow\": false, \"xref\": \"x1\", \"xanchor\": \"left\", \"x\": 0.55, \"text\": \"WebVR\", \"y\": 34, \"font\": {\"color\": \"#000000\"}, \"yref\": \"y1\"}, {\"align\": \"left\", \"showarrow\": false, \"xref\": \"x1\", \"xanchor\": \"left\", \"x\": 1.55, \"text\": \"15\", \"y\": 34, \"font\": {\"color\": \"#000000\"}, \"yref\": \"y1\"}, {\"align\": \"left\", \"showarrow\": false, \"xref\": \"x1\", \"xanchor\": \"left\", \"x\": -0.45, \"text\": \"2015\", \"y\": 35, \"font\": {\"color\": \"#000000\"}, \"yref\": \"y1\"}, {\"align\": \"left\", \"showarrow\": false, \"xref\": \"x1\", \"xanchor\": \"left\", \"x\": 0.55, \"text\": \"Web Literacy\", \"y\": 35, \"font\": {\"color\": \"#000000\"}, \"yref\": \"y1\"}, {\"align\": \"left\", \"showarrow\": false, \"xref\": \"x1\", \"xanchor\": \"left\", \"x\": 1.55, \"text\": \"8\", \"y\": 35, \"font\": {\"color\": \"#000000\"}, \"yref\": \"y1\"}, {\"align\": \"left\", \"showarrow\": false, \"xref\": \"x1\", \"xanchor\": \"left\", \"x\": -0.45, \"text\": \"2015\", \"y\": 36, \"font\": {\"color\": \"#000000\"}, \"yref\": \"y1\"}, {\"align\": \"left\", \"showarrow\": false, \"xref\": \"x1\", \"xanchor\": \"left\", \"x\": 0.55, \"text\": \"Release engineering\", \"y\": 36, \"font\": {\"color\": \"#000000\"}, \"yref\": \"y1\"}, {\"align\": \"left\", \"showarrow\": false, \"xref\": \"x1\", \"xanchor\": \"left\", \"x\": 1.55, \"text\": \"7\", \"y\": 36, \"font\": {\"color\": \"#000000\"}, \"yref\": \"y1\"}, {\"align\": \"left\", \"showarrow\": false, \"xref\": \"x1\", \"xanchor\": \"left\", \"x\": -0.45, \"text\": \"2015\", \"y\": 37, \"font\": {\"color\": \"#000000\"}, \"yref\": \"y1\"}, {\"align\": \"left\", \"showarrow\": false, \"xref\": \"x1\", \"xanchor\": \"left\", \"x\": 0.55, \"text\": \"Mozilla Clubs\", \"y\": 37, \"font\": {\"color\": \"#000000\"}, \"yref\": \"y1\"}, {\"align\": \"left\", \"showarrow\": false, \"xref\": \"x1\", \"xanchor\": \"left\", \"x\": 1.55, \"text\": \"3\", \"y\": 37, \"font\": {\"color\": \"#000000\"}, \"yref\": \"y1\"}, {\"align\": \"left\", \"showarrow\": false, \"xref\": \"x1\", \"xanchor\": \"left\", \"x\": -0.45, \"text\": \"2015\", \"y\": 38, \"font\": {\"color\": \"#000000\"}, \"yref\": \"y1\"}, {\"align\": \"left\", \"showarrow\": false, \"xref\": \"x1\", \"xanchor\": \"left\", \"x\": 0.55, \"text\": \"Mozilla Location Service (MLS) / Stumbler\", \"y\": 38, \"font\": {\"color\": \"#000000\"}, \"yref\": \"y1\"}, {\"align\": \"left\", \"showarrow\": false, \"xref\": \"x1\", \"xanchor\": \"left\", \"x\": 1.55, \"text\": \"3\", \"y\": 38, \"font\": {\"color\": \"#000000\"}, \"yref\": \"y1\"}, {\"align\": \"left\", \"showarrow\": false, \"xref\": \"x1\", \"xanchor\": \"left\", \"x\": -0.45, \"text\": \"2015\", \"y\": 39, \"font\": {\"color\": \"#000000\"}, \"yref\": \"y1\"}, {\"align\": \"left\", \"showarrow\": false, \"xref\": \"x1\", \"xanchor\": \"left\", \"x\": 0.55, \"text\": \"Developer Tools\", \"y\": 39, \"font\": {\"color\": \"#000000\"}, \"yref\": \"y1\"}, {\"align\": \"left\", \"showarrow\": false, \"xref\": \"x1\", \"xanchor\": \"left\", \"x\": 1.55, \"text\": \"2\", \"y\": 39, \"font\": {\"color\": \"#000000\"}, \"yref\": \"y1\"}, {\"align\": \"left\", \"showarrow\": false, \"xref\": \"x1\", \"xanchor\": \"left\", \"x\": -0.45, \"text\": \"2015\", \"y\": 40, \"font\": {\"color\": \"#000000\"}, \"yref\": \"y1\"}, {\"align\": \"left\", \"showarrow\": false, \"xref\": \"x1\", \"xanchor\": \"left\", \"x\": 0.55, \"text\": \"Mozilla Creative & Design\", \"y\": 40, \"font\": {\"color\": \"#000000\"}, \"yref\": \"y1\"}, {\"align\": \"left\", \"showarrow\": false, \"xref\": \"x1\", \"xanchor\": \"left\", \"x\": 1.55, \"text\": \"2\", \"y\": 40, \"font\": {\"color\": \"#000000\"}, \"yref\": \"y1\"}, {\"align\": \"left\", \"showarrow\": false, \"xref\": \"x1\", \"xanchor\": \"left\", \"x\": -0.45, \"text\": \"2014\", \"y\": 41, \"font\": {\"color\": \"#000000\"}, \"yref\": \"y1\"}, {\"align\": \"left\", \"showarrow\": false, \"xref\": \"x1\", \"xanchor\": \"left\", \"x\": 0.55, \"text\": \"Unknown\", \"y\": 41, \"font\": {\"color\": \"#000000\"}, \"yref\": \"y1\"}, {\"align\": \"left\", \"showarrow\": false, \"xref\": \"x1\", \"xanchor\": \"left\", \"x\": 1.55, \"text\": \"931\", \"y\": 41, \"font\": {\"color\": \"#000000\"}, \"yref\": \"y1\"}, {\"align\": \"left\", \"showarrow\": false, \"xref\": \"x1\", \"xanchor\": \"left\", \"x\": -0.45, \"text\": \"2014\", \"y\": 42, \"font\": {\"color\": \"#000000\"}, \"yref\": \"y1\"}, {\"align\": \"left\", \"showarrow\": false, \"xref\": \"x1\", \"xanchor\": \"left\", \"x\": 0.55, \"text\": \"Rust\", \"y\": 42, \"font\": {\"color\": \"#000000\"}, \"yref\": \"y1\"}, {\"align\": \"left\", \"showarrow\": false, \"xref\": \"x1\", \"xanchor\": \"left\", \"x\": 1.55, \"text\": \"520\", \"y\": 42, \"font\": {\"color\": \"#000000\"}, \"yref\": \"y1\"}, {\"align\": \"left\", \"showarrow\": false, \"xref\": \"x1\", \"xanchor\": \"left\", \"x\": -0.45, \"text\": \"2014\", \"y\": 43, \"font\": {\"color\": \"#000000\"}, \"yref\": \"y1\"}, {\"align\": \"left\", \"showarrow\": false, \"xref\": \"x1\", \"xanchor\": \"left\", \"x\": 0.55, \"text\": \"Web Properties\", \"y\": 43, \"font\": {\"color\": \"#000000\"}, \"yref\": \"y1\"}, {\"align\": \"left\", \"showarrow\": false, \"xref\": \"x1\", \"xanchor\": \"left\", \"x\": 1.55, \"text\": \"126\", \"y\": 43, \"font\": {\"color\": \"#000000\"}, \"yref\": \"y1\"}, {\"align\": \"left\", \"showarrow\": false, \"xref\": \"x1\", \"xanchor\": \"left\", \"x\": -0.45, \"text\": \"2014\", \"y\": 44, \"font\": {\"color\": \"#000000\"}, \"yref\": \"y1\"}, {\"align\": \"left\", \"showarrow\": false, \"xref\": \"x1\", \"xanchor\": \"left\", \"x\": 0.55, \"text\": \"Servo\", \"y\": 44, \"font\": {\"color\": \"#000000\"}, \"yref\": \"y1\"}, {\"align\": \"left\", \"showarrow\": false, \"xref\": \"x1\", \"xanchor\": \"left\", \"x\": 1.55, \"text\": \"119\", \"y\": 44, \"font\": {\"color\": \"#000000\"}, \"yref\": \"y1\"}, {\"align\": \"left\", \"showarrow\": false, \"xref\": \"x1\", \"xanchor\": \"left\", \"x\": -0.45, \"text\": \"2014\", \"y\": 45, \"font\": {\"color\": \"#000000\"}, \"yref\": \"y1\"}, {\"align\": \"left\", \"showarrow\": false, \"xref\": \"x1\", \"xanchor\": \"left\", \"x\": 0.55, \"text\": \"Mozilla Local/Regional communities\", \"y\": 45, \"font\": {\"color\": \"#000000\"}, \"yref\": \"y1\"}, {\"align\": \"left\", \"showarrow\": false, \"xref\": \"x1\", \"xanchor\": \"left\", \"x\": 1.55, \"text\": \"101\", \"y\": 45, \"font\": {\"color\": \"#000000\"}, \"yref\": \"y1\"}, {\"align\": \"left\", \"showarrow\": false, \"xref\": \"x1\", \"xanchor\": \"left\", \"x\": -0.45, \"text\": \"2014\", \"y\": 46, \"font\": {\"color\": \"#000000\"}, \"yref\": \"y1\"}, {\"align\": \"left\", \"showarrow\": false, \"xref\": \"x1\", \"xanchor\": \"left\", \"x\": 0.55, \"text\": \"IT/Ops\", \"y\": 46, \"font\": {\"color\": \"#000000\"}, \"yref\": \"y1\"}, {\"align\": \"left\", \"showarrow\": false, \"xref\": \"x1\", \"xanchor\": \"left\", \"x\": 1.55, \"text\": \"82\", \"y\": 46, \"font\": {\"color\": \"#000000\"}, \"yref\": \"y1\"}, {\"align\": \"left\", \"showarrow\": false, \"xref\": \"x1\", \"xanchor\": \"left\", \"x\": -0.45, \"text\": \"2014\", \"y\": 47, \"font\": {\"color\": \"#000000\"}, \"yref\": \"y1\"}, {\"align\": \"left\", \"showarrow\": false, \"xref\": \"x1\", \"xanchor\": \"left\", \"x\": 0.55, \"text\": \"Gecko\", \"y\": 47, \"font\": {\"color\": \"#000000\"}, \"yref\": \"y1\"}, {\"align\": \"left\", \"showarrow\": false, \"xref\": \"x1\", \"xanchor\": \"left\", \"x\": 1.55, \"text\": \"77\", \"y\": 47, \"font\": {\"color\": \"#000000\"}, \"yref\": \"y1\"}, {\"align\": \"left\", \"showarrow\": false, \"xref\": \"x1\", \"xanchor\": \"left\", \"x\": -0.45, \"text\": \"2014\", \"y\": 48, \"font\": {\"color\": \"#000000\"}, \"yref\": \"y1\"}, {\"align\": \"left\", \"showarrow\": false, \"xref\": \"x1\", \"xanchor\": \"left\", \"x\": 0.55, \"text\": \"Web Literacy\", \"y\": 48, \"font\": {\"color\": \"#000000\"}, \"yref\": \"y1\"}, {\"align\": \"left\", \"showarrow\": false, \"xref\": \"x1\", \"xanchor\": \"left\", \"x\": 1.55, \"text\": \"43\", \"y\": 48, \"font\": {\"color\": \"#000000\"}, \"yref\": \"y1\"}, {\"align\": \"left\", \"showarrow\": false, \"xref\": \"x1\", \"xanchor\": \"left\", \"x\": -0.45, \"text\": \"2014\", \"y\": 49, \"font\": {\"color\": \"#000000\"}, \"yref\": \"y1\"}, {\"align\": \"left\", \"showarrow\": false, \"xref\": \"x1\", \"xanchor\": \"left\", \"x\": 0.55, \"text\": \"Mozilla Location Service (MLS) / Stumbler\", \"y\": 49, \"font\": {\"color\": \"#000000\"}, \"yref\": \"y1\"}, {\"align\": \"left\", \"showarrow\": false, \"xref\": \"x1\", \"xanchor\": \"left\", \"x\": 1.55, \"text\": \"41\", \"y\": 49, \"font\": {\"color\": \"#000000\"}, \"yref\": \"y1\"}, {\"align\": \"left\", \"showarrow\": false, \"xref\": \"x1\", \"xanchor\": \"left\", \"x\": -0.45, \"text\": \"2014\", \"y\": 50, \"font\": {\"color\": \"#000000\"}, \"yref\": \"y1\"}, {\"align\": \"left\", \"showarrow\": false, \"xref\": \"x1\", \"xanchor\": \"left\", \"x\": 0.55, \"text\": \"Addons/Web Extensions\", \"y\": 50, \"font\": {\"color\": \"#000000\"}, \"yref\": \"y1\"}, {\"align\": \"left\", \"showarrow\": false, \"xref\": \"x1\", \"xanchor\": \"left\", \"x\": 1.55, \"text\": \"31\", \"y\": 50, \"font\": {\"color\": \"#000000\"}, \"yref\": \"y1\"}, {\"align\": \"left\", \"showarrow\": false, \"xref\": \"x1\", \"xanchor\": \"left\", \"x\": -0.45, \"text\": \"2014\", \"y\": 51, \"font\": {\"color\": \"#000000\"}, \"yref\": \"y1\"}, {\"align\": \"left\", \"showarrow\": false, \"xref\": \"x1\", \"xanchor\": \"left\", \"x\": 0.55, \"text\": \"Firefox\", \"y\": 51, \"font\": {\"color\": \"#000000\"}, \"yref\": \"y1\"}, {\"align\": \"left\", \"showarrow\": false, \"xref\": \"x1\", \"xanchor\": \"left\", \"x\": 1.55, \"text\": \"17\", \"y\": 51, \"font\": {\"color\": \"#000000\"}, \"yref\": \"y1\"}, {\"align\": \"left\", \"showarrow\": false, \"xref\": \"x1\", \"xanchor\": \"left\", \"x\": -0.45, \"text\": \"2014\", \"y\": 52, \"font\": {\"color\": \"#000000\"}, \"yref\": \"y1\"}, {\"align\": \"left\", \"showarrow\": false, \"xref\": \"x1\", \"xanchor\": \"left\", \"x\": 0.55, \"text\": \"Mozilla Foundation\", \"y\": 52, \"font\": {\"color\": \"#000000\"}, \"yref\": \"y1\"}, {\"align\": \"left\", \"showarrow\": false, \"xref\": \"x1\", \"xanchor\": \"left\", \"x\": 1.55, \"text\": \"14\", \"y\": 52, \"font\": {\"color\": \"#000000\"}, \"yref\": \"y1\"}, {\"align\": \"left\", \"showarrow\": false, \"xref\": \"x1\", \"xanchor\": \"left\", \"x\": -0.45, \"text\": \"2014\", \"y\": 53, \"font\": {\"color\": \"#000000\"}, \"yref\": \"y1\"}, {\"align\": \"left\", \"showarrow\": false, \"xref\": \"x1\", \"xanchor\": \"left\", \"x\": 0.55, \"text\": \"Mozilla Science\", \"y\": 53, \"font\": {\"color\": \"#000000\"}, \"yref\": \"y1\"}, {\"align\": \"left\", \"showarrow\": false, \"xref\": \"x1\", \"xanchor\": \"left\", \"x\": 1.55, \"text\": \"10\", \"y\": 53, \"font\": {\"color\": \"#000000\"}, \"yref\": \"y1\"}, {\"align\": \"left\", \"showarrow\": false, \"xref\": \"x1\", \"xanchor\": \"left\", \"x\": -0.45, \"text\": \"2014\", \"y\": 54, \"font\": {\"color\": \"#000000\"}, \"yref\": \"y1\"}, {\"align\": \"left\", \"showarrow\": false, \"xref\": \"x1\", \"xanchor\": \"left\", \"x\": 0.55, \"text\": \"Firefox OS (FxOS / B2G)\", \"y\": 54, \"font\": {\"color\": \"#000000\"}, \"yref\": \"y1\"}, {\"align\": \"left\", \"showarrow\": false, \"xref\": \"x1\", \"xanchor\": \"left\", \"x\": 1.55, \"text\": \"8\", \"y\": 54, \"font\": {\"color\": \"#000000\"}, \"yref\": \"y1\"}, {\"align\": \"left\", \"showarrow\": false, \"xref\": \"x1\", \"xanchor\": \"left\", \"x\": -0.45, \"text\": \"2014\", \"y\": 55, \"font\": {\"color\": \"#000000\"}, \"yref\": \"y1\"}, {\"align\": \"left\", \"showarrow\": false, \"xref\": \"x1\", \"xanchor\": \"left\", \"x\": 0.55, \"text\": \"Quality Assurance\", \"y\": 55, \"font\": {\"color\": \"#000000\"}, \"yref\": \"y1\"}, {\"align\": \"left\", \"showarrow\": false, \"xref\": \"x1\", \"xanchor\": \"left\", \"x\": 1.55, \"text\": \"7\", \"y\": 55, \"font\": {\"color\": \"#000000\"}, \"yref\": \"y1\"}, {\"align\": \"left\", \"showarrow\": false, \"xref\": \"x1\", \"xanchor\": \"left\", \"x\": -0.45, \"text\": \"2014\", \"y\": 56, \"font\": {\"color\": \"#000000\"}, \"yref\": \"y1\"}, {\"align\": \"left\", \"showarrow\": false, \"xref\": \"x1\", \"xanchor\": \"left\", \"x\": 0.55, \"text\": \"Release engineering\", \"y\": 56, \"font\": {\"color\": \"#000000\"}, \"yref\": \"y1\"}, {\"align\": \"left\", \"showarrow\": false, \"xref\": \"x1\", \"xanchor\": \"left\", \"x\": 1.55, \"text\": \"7\", \"y\": 56, \"font\": {\"color\": \"#000000\"}, \"yref\": \"y1\"}, {\"align\": \"left\", \"showarrow\": false, \"xref\": \"x1\", \"xanchor\": \"left\", \"x\": -0.45, \"text\": \"2014\", \"y\": 57, \"font\": {\"color\": \"#000000\"}, \"yref\": \"y1\"}, {\"align\": \"left\", \"showarrow\": false, \"xref\": \"x1\", \"xanchor\": \"left\", \"x\": 0.55, \"text\": \"Marketing / Social Media\", \"y\": 57, \"font\": {\"color\": \"#000000\"}, \"yref\": \"y1\"}, {\"align\": \"left\", \"showarrow\": false, \"xref\": \"x1\", \"xanchor\": \"left\", \"x\": 1.55, \"text\": \"6\", \"y\": 57, \"font\": {\"color\": \"#000000\"}, \"yref\": \"y1\"}, {\"align\": \"left\", \"showarrow\": false, \"xref\": \"x1\", \"xanchor\": \"left\", \"x\": -0.45, \"text\": \"2014\", \"y\": 58, \"font\": {\"color\": \"#000000\"}, \"yref\": \"y1\"}, {\"align\": \"left\", \"showarrow\": false, \"xref\": \"x1\", \"xanchor\": \"left\", \"x\": 0.55, \"text\": \"Firefox iOS\", \"y\": 58, \"font\": {\"color\": \"#000000\"}, \"yref\": \"y1\"}, {\"align\": \"left\", \"showarrow\": false, \"xref\": \"x1\", \"xanchor\": \"left\", \"x\": 1.55, \"text\": \"5\", \"y\": 58, \"font\": {\"color\": \"#000000\"}, \"yref\": \"y1\"}, {\"align\": \"left\", \"showarrow\": false, \"xref\": \"x1\", \"xanchor\": \"left\", \"x\": -0.45, \"text\": \"2014\", \"y\": 59, \"font\": {\"color\": \"#000000\"}, \"yref\": \"y1\"}, {\"align\": \"left\", \"showarrow\": false, \"xref\": \"x1\", \"xanchor\": \"left\", \"x\": 0.55, \"text\": \"Advocacy and policy\", \"y\": 59, \"font\": {\"color\": \"#000000\"}, \"yref\": \"y1\"}, {\"align\": \"left\", \"showarrow\": false, \"xref\": \"x1\", \"xanchor\": \"left\", \"x\": 1.55, \"text\": \"3\", \"y\": 59, \"font\": {\"color\": \"#000000\"}, \"yref\": \"y1\"}, {\"align\": \"left\", \"showarrow\": false, \"xref\": \"x1\", \"xanchor\": \"left\", \"x\": -0.45, \"text\": \"2014\", \"y\": 60, \"font\": {\"color\": \"#000000\"}, \"yref\": \"y1\"}, {\"align\": \"left\", \"showarrow\": false, \"xref\": \"x1\", \"xanchor\": \"left\", \"x\": 0.55, \"text\": \"Mozilla Developer Network (MDN)\", \"y\": 60, \"font\": {\"color\": \"#000000\"}, \"yref\": \"y1\"}, {\"align\": \"left\", \"showarrow\": false, \"xref\": \"x1\", \"xanchor\": \"left\", \"x\": 1.55, \"text\": \"3\", \"y\": 60, \"font\": {\"color\": \"#000000\"}, \"yref\": \"y1\"}, {\"align\": \"left\", \"showarrow\": false, \"xref\": \"x1\", \"xanchor\": \"left\", \"x\": -0.45, \"text\": \"2013\", \"y\": 61, \"font\": {\"color\": \"#000000\"}, \"yref\": \"y1\"}, {\"align\": \"left\", \"showarrow\": false, \"xref\": \"x1\", \"xanchor\": \"left\", \"x\": 0.55, \"text\": \"Unknown\", \"y\": 61, \"font\": {\"color\": \"#000000\"}, \"yref\": \"y1\"}, {\"align\": \"left\", \"showarrow\": false, \"xref\": \"x1\", \"xanchor\": \"left\", \"x\": 1.55, \"text\": \"698\", \"y\": 61, \"font\": {\"color\": \"#000000\"}, \"yref\": \"y1\"}, {\"align\": \"left\", \"showarrow\": false, \"xref\": \"x1\", \"xanchor\": \"left\", \"x\": -0.45, \"text\": \"2013\", \"y\": 62, \"font\": {\"color\": \"#000000\"}, \"yref\": \"y1\"}, {\"align\": \"left\", \"showarrow\": false, \"xref\": \"x1\", \"xanchor\": \"left\", \"x\": 0.55, \"text\": \"Rust\", \"y\": 62, \"font\": {\"color\": \"#000000\"}, \"yref\": \"y1\"}, {\"align\": \"left\", \"showarrow\": false, \"xref\": \"x1\", \"xanchor\": \"left\", \"x\": 1.55, \"text\": \"231\", \"y\": 62, \"font\": {\"color\": \"#000000\"}, \"yref\": \"y1\"}, {\"align\": \"left\", \"showarrow\": false, \"xref\": \"x1\", \"xanchor\": \"left\", \"x\": -0.45, \"text\": \"2013\", \"y\": 63, \"font\": {\"color\": \"#000000\"}, \"yref\": \"y1\"}, {\"align\": \"left\", \"showarrow\": false, \"xref\": \"x1\", \"xanchor\": \"left\", \"x\": 0.55, \"text\": \"Web Properties\", \"y\": 63, \"font\": {\"color\": \"#000000\"}, \"yref\": \"y1\"}, {\"align\": \"left\", \"showarrow\": false, \"xref\": \"x1\", \"xanchor\": \"left\", \"x\": 1.55, \"text\": \"106\", \"y\": 63, \"font\": {\"color\": \"#000000\"}, \"yref\": \"y1\"}, {\"align\": \"left\", \"showarrow\": false, \"xref\": \"x1\", \"xanchor\": \"left\", \"x\": -0.45, \"text\": \"2013\", \"y\": 64, \"font\": {\"color\": \"#000000\"}, \"yref\": \"y1\"}, {\"align\": \"left\", \"showarrow\": false, \"xref\": \"x1\", \"xanchor\": \"left\", \"x\": 0.55, \"text\": \"Gecko\", \"y\": 64, \"font\": {\"color\": \"#000000\"}, \"yref\": \"y1\"}, {\"align\": \"left\", \"showarrow\": false, \"xref\": \"x1\", \"xanchor\": \"left\", \"x\": 1.55, \"text\": \"60\", \"y\": 64, \"font\": {\"color\": \"#000000\"}, \"yref\": \"y1\"}, {\"align\": \"left\", \"showarrow\": false, \"xref\": \"x1\", \"xanchor\": \"left\", \"x\": -0.45, \"text\": \"2013\", \"y\": 65, \"font\": {\"color\": \"#000000\"}, \"yref\": \"y1\"}, {\"align\": \"left\", \"showarrow\": false, \"xref\": \"x1\", \"xanchor\": \"left\", \"x\": 0.55, \"text\": \"Mozilla Local/Regional communities\", \"y\": 65, \"font\": {\"color\": \"#000000\"}, \"yref\": \"y1\"}, {\"align\": \"left\", \"showarrow\": false, \"xref\": \"x1\", \"xanchor\": \"left\", \"x\": 1.55, \"text\": \"49\", \"y\": 65, \"font\": {\"color\": \"#000000\"}, \"yref\": \"y1\"}, {\"align\": \"left\", \"showarrow\": false, \"xref\": \"x1\", \"xanchor\": \"left\", \"x\": -0.45, \"text\": \"2013\", \"y\": 66, \"font\": {\"color\": \"#000000\"}, \"yref\": \"y1\"}, {\"align\": \"left\", \"showarrow\": false, \"xref\": \"x1\", \"xanchor\": \"left\", \"x\": 0.55, \"text\": \"Servo\", \"y\": 66, \"font\": {\"color\": \"#000000\"}, \"yref\": \"y1\"}, {\"align\": \"left\", \"showarrow\": false, \"xref\": \"x1\", \"xanchor\": \"left\", \"x\": 1.55, \"text\": \"44\", \"y\": 66, \"font\": {\"color\": \"#000000\"}, \"yref\": \"y1\"}, {\"align\": \"left\", \"showarrow\": false, \"xref\": \"x1\", \"xanchor\": \"left\", \"x\": -0.45, \"text\": \"2013\", \"y\": 67, \"font\": {\"color\": \"#000000\"}, \"yref\": \"y1\"}, {\"align\": \"left\", \"showarrow\": false, \"xref\": \"x1\", \"xanchor\": \"left\", \"x\": 0.55, \"text\": \"IT/Ops\", \"y\": 67, \"font\": {\"color\": \"#000000\"}, \"yref\": \"y1\"}, {\"align\": \"left\", \"showarrow\": false, \"xref\": \"x1\", \"xanchor\": \"left\", \"x\": 1.55, \"text\": \"43\", \"y\": 67, \"font\": {\"color\": \"#000000\"}, \"yref\": \"y1\"}, {\"align\": \"left\", \"showarrow\": false, \"xref\": \"x1\", \"xanchor\": \"left\", \"x\": -0.45, \"text\": \"2013\", \"y\": 68, \"font\": {\"color\": \"#000000\"}, \"yref\": \"y1\"}, {\"align\": \"left\", \"showarrow\": false, \"xref\": \"x1\", \"xanchor\": \"left\", \"x\": 0.55, \"text\": \"Mozilla Foundation\", \"y\": 68, \"font\": {\"color\": \"#000000\"}, \"yref\": \"y1\"}, {\"align\": \"left\", \"showarrow\": false, \"xref\": \"x1\", \"xanchor\": \"left\", \"x\": 1.55, \"text\": \"30\", \"y\": 68, \"font\": {\"color\": \"#000000\"}, \"yref\": \"y1\"}, {\"align\": \"left\", \"showarrow\": false, \"xref\": \"x1\", \"xanchor\": \"left\", \"x\": -0.45, \"text\": \"2013\", \"y\": 69, \"font\": {\"color\": \"#000000\"}, \"yref\": \"y1\"}, {\"align\": \"left\", \"showarrow\": false, \"xref\": \"x1\", \"xanchor\": \"left\", \"x\": 0.55, \"text\": \"Addons/Web Extensions\", \"y\": 69, \"font\": {\"color\": \"#000000\"}, \"yref\": \"y1\"}, {\"align\": \"left\", \"showarrow\": false, \"xref\": \"x1\", \"xanchor\": \"left\", \"x\": 1.55, \"text\": \"26\", \"y\": 69, \"font\": {\"color\": \"#000000\"}, \"yref\": \"y1\"}, {\"align\": \"left\", \"showarrow\": false, \"xref\": \"x1\", \"xanchor\": \"left\", \"x\": -0.45, \"text\": \"2013\", \"y\": 70, \"font\": {\"color\": \"#000000\"}, \"yref\": \"y1\"}, {\"align\": \"left\", \"showarrow\": false, \"xref\": \"x1\", \"xanchor\": \"left\", \"x\": 0.55, \"text\": \"Web Literacy\", \"y\": 70, \"font\": {\"color\": \"#000000\"}, \"yref\": \"y1\"}, {\"align\": \"left\", \"showarrow\": false, \"xref\": \"x1\", \"xanchor\": \"left\", \"x\": 1.55, \"text\": \"17\", \"y\": 70, \"font\": {\"color\": \"#000000\"}, \"yref\": \"y1\"}, {\"align\": \"left\", \"showarrow\": false, \"xref\": \"x1\", \"xanchor\": \"left\", \"x\": -0.45, \"text\": \"2013\", \"y\": 71, \"font\": {\"color\": \"#000000\"}, \"yref\": \"y1\"}, {\"align\": \"left\", \"showarrow\": false, \"xref\": \"x1\", \"xanchor\": \"left\", \"x\": 0.55, \"text\": \"Firefox\", \"y\": 71, \"font\": {\"color\": \"#000000\"}, \"yref\": \"y1\"}, {\"align\": \"left\", \"showarrow\": false, \"xref\": \"x1\", \"xanchor\": \"left\", \"x\": 1.55, \"text\": \"16\", \"y\": 71, \"font\": {\"color\": \"#000000\"}, \"yref\": \"y1\"}, {\"align\": \"left\", \"showarrow\": false, \"xref\": \"x1\", \"xanchor\": \"left\", \"x\": -0.45, \"text\": \"2013\", \"y\": 72, \"font\": {\"color\": \"#000000\"}, \"yref\": \"y1\"}, {\"align\": \"left\", \"showarrow\": false, \"xref\": \"x1\", \"xanchor\": \"left\", \"x\": 0.55, \"text\": \"Mozilla Location Service (MLS) / Stumbler\", \"y\": 72, \"font\": {\"color\": \"#000000\"}, \"yref\": \"y1\"}, {\"align\": \"left\", \"showarrow\": false, \"xref\": \"x1\", \"xanchor\": \"left\", \"x\": 1.55, \"text\": \"16\", \"y\": 72, \"font\": {\"color\": \"#000000\"}, \"yref\": \"y1\"}, {\"align\": \"left\", \"showarrow\": false, \"xref\": \"x1\", \"xanchor\": \"left\", \"x\": -0.45, \"text\": \"2013\", \"y\": 73, \"font\": {\"color\": \"#000000\"}, \"yref\": \"y1\"}, {\"align\": \"left\", \"showarrow\": false, \"xref\": \"x1\", \"xanchor\": \"left\", \"x\": 0.55, \"text\": \"Release engineering\", \"y\": 73, \"font\": {\"color\": \"#000000\"}, \"yref\": \"y1\"}, {\"align\": \"left\", \"showarrow\": false, \"xref\": \"x1\", \"xanchor\": \"left\", \"x\": 1.55, \"text\": \"5\", \"y\": 73, \"font\": {\"color\": \"#000000\"}, \"yref\": \"y1\"}, {\"align\": \"left\", \"showarrow\": false, \"xref\": \"x1\", \"xanchor\": \"left\", \"x\": -0.45, \"text\": \"2013\", \"y\": 74, \"font\": {\"color\": \"#000000\"}, \"yref\": \"y1\"}, {\"align\": \"left\", \"showarrow\": false, \"xref\": \"x1\", \"xanchor\": \"left\", \"x\": 0.55, \"text\": \"Firefox OS (FxOS / B2G)\", \"y\": 74, \"font\": {\"color\": \"#000000\"}, \"yref\": \"y1\"}, {\"align\": \"left\", \"showarrow\": false, \"xref\": \"x1\", \"xanchor\": \"left\", \"x\": 1.55, \"text\": \"4\", \"y\": 74, \"font\": {\"color\": \"#000000\"}, \"yref\": \"y1\"}, {\"align\": \"left\", \"showarrow\": false, \"xref\": \"x1\", \"xanchor\": \"left\", \"x\": -0.45, \"text\": \"2013\", \"y\": 75, \"font\": {\"color\": \"#000000\"}, \"yref\": \"y1\"}, {\"align\": \"left\", \"showarrow\": false, \"xref\": \"x1\", \"xanchor\": \"left\", \"x\": 0.55, \"text\": \"Quality Assurance\", \"y\": 75, \"font\": {\"color\": \"#000000\"}, \"yref\": \"y1\"}, {\"align\": \"left\", \"showarrow\": false, \"xref\": \"x1\", \"xanchor\": \"left\", \"x\": 1.55, \"text\": \"4\", \"y\": 75, \"font\": {\"color\": \"#000000\"}, \"yref\": \"y1\"}, {\"align\": \"left\", \"showarrow\": false, \"xref\": \"x1\", \"xanchor\": \"left\", \"x\": -0.45, \"text\": \"2013\", \"y\": 76, \"font\": {\"color\": \"#000000\"}, \"yref\": \"y1\"}, {\"align\": \"left\", \"showarrow\": false, \"xref\": \"x1\", \"xanchor\": \"left\", \"x\": 0.55, \"text\": \"Mozilla Creative & Design\", \"y\": 76, \"font\": {\"color\": \"#000000\"}, \"yref\": \"y1\"}, {\"align\": \"left\", \"showarrow\": false, \"xref\": \"x1\", \"xanchor\": \"left\", \"x\": 1.55, \"text\": \"2\", \"y\": 76, \"font\": {\"color\": \"#000000\"}, \"yref\": \"y1\"}, {\"align\": \"left\", \"showarrow\": false, \"xref\": \"x1\", \"xanchor\": \"left\", \"x\": -0.45, \"text\": \"2013\", \"y\": 77, \"font\": {\"color\": \"#000000\"}, \"yref\": \"y1\"}, {\"align\": \"left\", \"showarrow\": false, \"xref\": \"x1\", \"xanchor\": \"left\", \"x\": 0.55, \"text\": \"Mozilla Developer Network (MDN)\", \"y\": 77, \"font\": {\"color\": \"#000000\"}, \"yref\": \"y1\"}, {\"align\": \"left\", \"showarrow\": false, \"xref\": \"x1\", \"xanchor\": \"left\", \"x\": 1.55, \"text\": \"2\", \"y\": 77, \"font\": {\"color\": \"#000000\"}, \"yref\": \"y1\"}, {\"align\": \"left\", \"showarrow\": false, \"xref\": \"x1\", \"xanchor\": \"left\", \"x\": -0.45, \"text\": \"2013\", \"y\": 78, \"font\": {\"color\": \"#000000\"}, \"yref\": \"y1\"}, {\"align\": \"left\", \"showarrow\": false, \"xref\": \"x1\", \"xanchor\": \"left\", \"x\": 0.55, \"text\": \"Firefox iOS\", \"y\": 78, \"font\": {\"color\": \"#000000\"}, \"yref\": \"y1\"}, {\"align\": \"left\", \"showarrow\": false, \"xref\": \"x1\", \"xanchor\": \"left\", \"x\": 1.55, \"text\": \"1\", \"y\": 78, \"font\": {\"color\": \"#000000\"}, \"yref\": \"y1\"}, {\"align\": \"left\", \"showarrow\": false, \"xref\": \"x1\", \"xanchor\": \"left\", \"x\": -0.45, \"text\": \"2013\", \"y\": 79, \"font\": {\"color\": \"#000000\"}, \"yref\": \"y1\"}, {\"align\": \"left\", \"showarrow\": false, \"xref\": \"x1\", \"xanchor\": \"left\", \"x\": 0.55, \"text\": \"Marketing / Social Media\", \"y\": 79, \"font\": {\"color\": \"#000000\"}, \"yref\": \"y1\"}, {\"align\": \"left\", \"showarrow\": false, \"xref\": \"x1\", \"xanchor\": \"left\", \"x\": 1.55, \"text\": \"1\", \"y\": 79, \"font\": {\"color\": \"#000000\"}, \"yref\": \"y1\"}, {\"align\": \"left\", \"showarrow\": false, \"xref\": \"x1\", \"xanchor\": \"left\", \"x\": -0.45, \"text\": \"2013\", \"y\": 80, \"font\": {\"color\": \"#000000\"}, \"yref\": \"y1\"}, {\"align\": \"left\", \"showarrow\": false, \"xref\": \"x1\", \"xanchor\": \"left\", \"x\": 0.55, \"text\": \"Mozilla Science\", \"y\": 80, \"font\": {\"color\": \"#000000\"}, \"yref\": \"y1\"}, {\"align\": \"left\", \"showarrow\": false, \"xref\": \"x1\", \"xanchor\": \"left\", \"x\": 1.55, \"text\": \"1\", \"y\": 80, \"font\": {\"color\": \"#000000\"}, \"yref\": \"y1\"}, {\"align\": \"left\", \"showarrow\": false, \"xref\": \"x1\", \"xanchor\": \"left\", \"x\": -0.45, \"text\": \"2012\", \"y\": 81, \"font\": {\"color\": \"#000000\"}, \"yref\": \"y1\"}, {\"align\": \"left\", \"showarrow\": false, \"xref\": \"x1\", \"xanchor\": \"left\", \"x\": 0.55, \"text\": \"Unknown\", \"y\": 81, \"font\": {\"color\": \"#000000\"}, \"yref\": \"y1\"}, {\"align\": \"left\", \"showarrow\": false, \"xref\": \"x1\", \"xanchor\": \"left\", \"x\": 1.55, \"text\": \"534\", \"y\": 81, \"font\": {\"color\": \"#000000\"}, \"yref\": \"y1\"}, {\"align\": \"left\", \"showarrow\": false, \"xref\": \"x1\", \"xanchor\": \"left\", \"x\": -0.45, \"text\": \"2012\", \"y\": 82, \"font\": {\"color\": \"#000000\"}, \"yref\": \"y1\"}, {\"align\": \"left\", \"showarrow\": false, \"xref\": \"x1\", \"xanchor\": \"left\", \"x\": 0.55, \"text\": \"Rust\", \"y\": 82, \"font\": {\"color\": \"#000000\"}, \"yref\": \"y1\"}, {\"align\": \"left\", \"showarrow\": false, \"xref\": \"x1\", \"xanchor\": \"left\", \"x\": 1.55, \"text\": \"85\", \"y\": 82, \"font\": {\"color\": \"#000000\"}, \"yref\": \"y1\"}, {\"align\": \"left\", \"showarrow\": false, \"xref\": \"x1\", \"xanchor\": \"left\", \"x\": -0.45, \"text\": \"2012\", \"y\": 83, \"font\": {\"color\": \"#000000\"}, \"yref\": \"y1\"}, {\"align\": \"left\", \"showarrow\": false, \"xref\": \"x1\", \"xanchor\": \"left\", \"x\": 0.55, \"text\": \"Web Properties\", \"y\": 83, \"font\": {\"color\": \"#000000\"}, \"yref\": \"y1\"}, {\"align\": \"left\", \"showarrow\": false, \"xref\": \"x1\", \"xanchor\": \"left\", \"x\": 1.55, \"text\": \"54\", \"y\": 83, \"font\": {\"color\": \"#000000\"}, \"yref\": \"y1\"}, {\"align\": \"left\", \"showarrow\": false, \"xref\": \"x1\", \"xanchor\": \"left\", \"x\": -0.45, \"text\": \"2012\", \"y\": 84, \"font\": {\"color\": \"#000000\"}, \"yref\": \"y1\"}, {\"align\": \"left\", \"showarrow\": false, \"xref\": \"x1\", \"xanchor\": \"left\", \"x\": 0.55, \"text\": \"IT/Ops\", \"y\": 84, \"font\": {\"color\": \"#000000\"}, \"yref\": \"y1\"}, {\"align\": \"left\", \"showarrow\": false, \"xref\": \"x1\", \"xanchor\": \"left\", \"x\": 1.55, \"text\": \"48\", \"y\": 84, \"font\": {\"color\": \"#000000\"}, \"yref\": \"y1\"}, {\"align\": \"left\", \"showarrow\": false, \"xref\": \"x1\", \"xanchor\": \"left\", \"x\": -0.45, \"text\": \"2012\", \"y\": 85, \"font\": {\"color\": \"#000000\"}, \"yref\": \"y1\"}, {\"align\": \"left\", \"showarrow\": false, \"xref\": \"x1\", \"xanchor\": \"left\", \"x\": 0.55, \"text\": \"Servo\", \"y\": 85, \"font\": {\"color\": \"#000000\"}, \"yref\": \"y1\"}, {\"align\": \"left\", \"showarrow\": false, \"xref\": \"x1\", \"xanchor\": \"left\", \"x\": 1.55, \"text\": \"47\", \"y\": 85, \"font\": {\"color\": \"#000000\"}, \"yref\": \"y1\"}, {\"align\": \"left\", \"showarrow\": false, \"xref\": \"x1\", \"xanchor\": \"left\", \"x\": -0.45, \"text\": \"2012\", \"y\": 86, \"font\": {\"color\": \"#000000\"}, \"yref\": \"y1\"}, {\"align\": \"left\", \"showarrow\": false, \"xref\": \"x1\", \"xanchor\": \"left\", \"x\": 0.55, \"text\": \"Mozilla Local/Regional communities\", \"y\": 86, \"font\": {\"color\": \"#000000\"}, \"yref\": \"y1\"}, {\"align\": \"left\", \"showarrow\": false, \"xref\": \"x1\", \"xanchor\": \"left\", \"x\": 1.55, \"text\": \"36\", \"y\": 86, \"font\": {\"color\": \"#000000\"}, \"yref\": \"y1\"}, {\"align\": \"left\", \"showarrow\": false, \"xref\": \"x1\", \"xanchor\": \"left\", \"x\": -0.45, \"text\": \"2012\", \"y\": 87, \"font\": {\"color\": \"#000000\"}, \"yref\": \"y1\"}, {\"align\": \"left\", \"showarrow\": false, \"xref\": \"x1\", \"xanchor\": \"left\", \"x\": 0.55, \"text\": \"Gecko\", \"y\": 87, \"font\": {\"color\": \"#000000\"}, \"yref\": \"y1\"}, {\"align\": \"left\", \"showarrow\": false, \"xref\": \"x1\", \"xanchor\": \"left\", \"x\": 1.55, \"text\": \"27\", \"y\": 87, \"font\": {\"color\": \"#000000\"}, \"yref\": \"y1\"}, {\"align\": \"left\", \"showarrow\": false, \"xref\": \"x1\", \"xanchor\": \"left\", \"x\": -0.45, \"text\": \"2012\", \"y\": 88, \"font\": {\"color\": \"#000000\"}, \"yref\": \"y1\"}, {\"align\": \"left\", \"showarrow\": false, \"xref\": \"x1\", \"xanchor\": \"left\", \"x\": 0.55, \"text\": \"Addons/Web Extensions\", \"y\": 88, \"font\": {\"color\": \"#000000\"}, \"yref\": \"y1\"}, {\"align\": \"left\", \"showarrow\": false, \"xref\": \"x1\", \"xanchor\": \"left\", \"x\": 1.55, \"text\": \"20\", \"y\": 88, \"font\": {\"color\": \"#000000\"}, \"yref\": \"y1\"}, {\"align\": \"left\", \"showarrow\": false, \"xref\": \"x1\", \"xanchor\": \"left\", \"x\": -0.45, \"text\": \"2012\", \"y\": 89, \"font\": {\"color\": \"#000000\"}, \"yref\": \"y1\"}, {\"align\": \"left\", \"showarrow\": false, \"xref\": \"x1\", \"xanchor\": \"left\", \"x\": 0.55, \"text\": \"Mozilla Foundation\", \"y\": 89, \"font\": {\"color\": \"#000000\"}, \"yref\": \"y1\"}, {\"align\": \"left\", \"showarrow\": false, \"xref\": \"x1\", \"xanchor\": \"left\", \"x\": 1.55, \"text\": \"14\", \"y\": 89, \"font\": {\"color\": \"#000000\"}, \"yref\": \"y1\"}, {\"align\": \"left\", \"showarrow\": false, \"xref\": \"x1\", \"xanchor\": \"left\", \"x\": -0.45, \"text\": \"2012\", \"y\": 90, \"font\": {\"color\": \"#000000\"}, \"yref\": \"y1\"}, {\"align\": \"left\", \"showarrow\": false, \"xref\": \"x1\", \"xanchor\": \"left\", \"x\": 0.55, \"text\": \"Web Literacy\", \"y\": 90, \"font\": {\"color\": \"#000000\"}, \"yref\": \"y1\"}, {\"align\": \"left\", \"showarrow\": false, \"xref\": \"x1\", \"xanchor\": \"left\", \"x\": 1.55, \"text\": \"9\", \"y\": 90, \"font\": {\"color\": \"#000000\"}, \"yref\": \"y1\"}, {\"align\": \"left\", \"showarrow\": false, \"xref\": \"x1\", \"xanchor\": \"left\", \"x\": -0.45, \"text\": \"2012\", \"y\": 91, \"font\": {\"color\": \"#000000\"}, \"yref\": \"y1\"}, {\"align\": \"left\", \"showarrow\": false, \"xref\": \"x1\", \"xanchor\": \"left\", \"x\": 0.55, \"text\": \"Firefox\", \"y\": 91, \"font\": {\"color\": \"#000000\"}, \"yref\": \"y1\"}, {\"align\": \"left\", \"showarrow\": false, \"xref\": \"x1\", \"xanchor\": \"left\", \"x\": 1.55, \"text\": \"7\", \"y\": 91, \"font\": {\"color\": \"#000000\"}, \"yref\": \"y1\"}, {\"align\": \"left\", \"showarrow\": false, \"xref\": \"x1\", \"xanchor\": \"left\", \"x\": -0.45, \"text\": \"2012\", \"y\": 92, \"font\": {\"color\": \"#000000\"}, \"yref\": \"y1\"}, {\"align\": \"left\", \"showarrow\": false, \"xref\": \"x1\", \"xanchor\": \"left\", \"x\": 0.55, \"text\": \"Release engineering\", \"y\": 92, \"font\": {\"color\": \"#000000\"}, \"yref\": \"y1\"}, {\"align\": \"left\", \"showarrow\": false, \"xref\": \"x1\", \"xanchor\": \"left\", \"x\": 1.55, \"text\": \"7\", \"y\": 92, \"font\": {\"color\": \"#000000\"}, \"yref\": \"y1\"}, {\"align\": \"left\", \"showarrow\": false, \"xref\": \"x1\", \"xanchor\": \"left\", \"x\": -0.45, \"text\": \"2012\", \"y\": 93, \"font\": {\"color\": \"#000000\"}, \"yref\": \"y1\"}, {\"align\": \"left\", \"showarrow\": false, \"xref\": \"x1\", \"xanchor\": \"left\", \"x\": 0.55, \"text\": \"Firefox OS (FxOS / B2G)\", \"y\": 93, \"font\": {\"color\": \"#000000\"}, \"yref\": \"y1\"}, {\"align\": \"left\", \"showarrow\": false, \"xref\": \"x1\", \"xanchor\": \"left\", \"x\": 1.55, \"text\": \"3\", \"y\": 93, \"font\": {\"color\": \"#000000\"}, \"yref\": \"y1\"}, {\"align\": \"left\", \"showarrow\": false, \"xref\": \"x1\", \"xanchor\": \"left\", \"x\": -0.45, \"text\": \"2012\", \"y\": 94, \"font\": {\"color\": \"#000000\"}, \"yref\": \"y1\"}, {\"align\": \"left\", \"showarrow\": false, \"xref\": \"x1\", \"xanchor\": \"left\", \"x\": 0.55, \"text\": \"Localization\", \"y\": 94, \"font\": {\"color\": \"#000000\"}, \"yref\": \"y1\"}, {\"align\": \"left\", \"showarrow\": false, \"xref\": \"x1\", \"xanchor\": \"left\", \"x\": 1.55, \"text\": \"3\", \"y\": 94, \"font\": {\"color\": \"#000000\"}, \"yref\": \"y1\"}, {\"align\": \"left\", \"showarrow\": false, \"xref\": \"x1\", \"xanchor\": \"left\", \"x\": -0.45, \"text\": \"2012\", \"y\": 95, \"font\": {\"color\": \"#000000\"}, \"yref\": \"y1\"}, {\"align\": \"left\", \"showarrow\": false, \"xref\": \"x1\", \"xanchor\": \"left\", \"x\": 0.55, \"text\": \"Quality Assurance\", \"y\": 95, \"font\": {\"color\": \"#000000\"}, \"yref\": \"y1\"}, {\"align\": \"left\", \"showarrow\": false, \"xref\": \"x1\", \"xanchor\": \"left\", \"x\": 1.55, \"text\": \"2\", \"y\": 95, \"font\": {\"color\": \"#000000\"}, \"yref\": \"y1\"}]}, {\"showLink\": true, \"linkText\": \"Export to plot.ly\"})});</script>"
      ]
     },
     "metadata": {},
     "output_type": "display_data"
    }
   ],
   "source": [
    "#   WHEN FILTERING BY PROJECT RESULTS ARE HIGHER THAN IF QUERY FOR ALL PROJECTS \n",
    "# BECAUSE IN THAT CASE WE COUNT FIRST COMMIT IN PROJECT AND NOT FIRTS ABSOLUTE COMMIT\n",
    "\n",
    "#results = []\n",
    "#for i in analyzed_range:\n",
    "\n",
    "# Buckets by author name, finding first commit for each of them\n",
    "s = ut.create_search(es_conn, 'git')\n",
    "\n",
    "# Filter commits to the Project Repos\n",
    "s = ut.add_project_filter(s, project_name)\n",
    "\n",
    "\n",
    "# Retrieve commits before given year\n",
    "s = s.filter('range', grimoire_creation_date={'lt': 'now/y'})\n",
    "\n",
    "# EXCLUDE EMPLOYEES\n",
    "s = s.exclude('terms', author_org_name=['Mozilla Staff', 'Code Sheriff'])\n",
    "\n",
    "# Bucketize by uuid and get first and last commit\n",
    "s.aggs.bucket('authors', 'terms', field='author_uuid', size=10000000) \\\n",
    "    .metric('first', 'top_hits', _source=['author_date', 'author_org_name', 'author_uuid', 'project'],\n",
    "            size=1, sort=[{\"author_date\": {\"order\": \"asc\"}}]) \\\n",
    "    .metric('last_commit', 'max', field='author_date')\n",
    "s = s.sort(\"author_date\")\n",
    "#print(s.to_dict())\n",
    "result = s.execute()\n",
    "\n",
    "authors_df = ut.get_authors_df(result, author_bucket_field='authors')\n",
    "#authors_df['active_years'] = (authors_df.last_commit-authors_df.first_commit).astype('timedelta64[Y]')\n",
    "\n",
    "# Get year of First Commit\n",
    "authors_df['first_commit'] = authors_df['first_commit'].map(lambda t: t.to_pydatetime().year)\n",
    "\n",
    "#print(len(authors_df.loc[(authors_df['first_commit'] == 2016) & (authors_df['project'] == 'Rust')]))\n",
    "\n",
    "# Group by year of first commit and project, counting number of authors\n",
    "projects_df = authors_df.groupby(['first_commit', 'project']).agg({'author': pandas.Series.nunique})\n",
    "projects_df.rename(columns={\"author\": \"# authors\"}, inplace=True)\n",
    "projects_df = projects_df.reset_index().sort_values(by=['first_commit', '# authors'], ascending=[False, False])\n",
    "\n",
    "# Get top 20 projects based on newcomers from 2011\n",
    "rankings_df = pandas.DataFrame()\n",
    "for year in projects_df['first_commit'].unique():\n",
    "    if year > 2011:\n",
    "        year_df = projects_df.loc[projects_df['first_commit'] == year].head(20)\n",
    "        rankings_df = pandas.concat([rankings_df, year_df]) \n",
    "\n",
    "ut.print_table(rankings_df, filename='git-top-projects-newcomers-table')\n"
   ]
  },
  {
   "cell_type": "code",
   "execution_count": 3,
   "metadata": {
    "collapsed": false
   },
   "outputs": [
    {
     "data": {
      "text/html": [
       "<script>requirejs.config({paths: { 'plotly': ['https://cdn.plot.ly/plotly-latest.min']},});if(!window.Plotly) {{require(['plotly'],function(plotly) {window.Plotly=plotly;});}}</script>"
      ],
      "text/vnd.plotly.v1+html": [
       "<script>requirejs.config({paths: { 'plotly': ['https://cdn.plot.ly/plotly-latest.min']},});if(!window.Plotly) {{require(['plotly'],function(plotly) {window.Plotly=plotly;});}}</script>"
      ]
     },
     "metadata": {},
     "output_type": "display_data"
    },
    {
     "data": {
      "application/vnd.plotly.v1+json": {
       "data": [
        {
         "mode": "lines+markers",
         "name": "Unknown",
         "type": "scatter",
         "x": [
          2016,
          2015,
          2014,
          2013,
          2012
         ],
         "y": [
          913,
          1056,
          931,
          698,
          534
         ]
        },
        {
         "mode": "lines+markers",
         "name": "Rust",
         "type": "scatter",
         "x": [
          2016,
          2015,
          2014,
          2013,
          2012
         ],
         "y": [
          493,
          640,
          520,
          231,
          85
         ]
        },
        {
         "mode": "lines+markers",
         "name": "Servo",
         "type": "scatter",
         "x": [
          2016,
          2015,
          2014,
          2013,
          2012
         ],
         "y": [
          194,
          168,
          119,
          44,
          47
         ]
        },
        {
         "mode": "lines+markers",
         "name": "Gecko",
         "type": "scatter",
         "x": [
          2016,
          2015,
          2014,
          2013,
          2012
         ],
         "y": [
          164,
          83,
          77,
          60,
          27
         ]
        },
        {
         "mode": "lines+markers",
         "name": "Web Properties",
         "type": "scatter",
         "x": [
          2016,
          2015,
          2014,
          2013,
          2012
         ],
         "y": [
          122,
          146,
          126,
          106,
          54
         ]
        },
        {
         "mode": "lines+markers",
         "name": "WebVR",
         "type": "scatter",
         "x": [
          2016,
          2015,
          2014,
          2013,
          2012
         ],
         "y": [
          111,
          15
         ]
        },
        {
         "mode": "lines+markers",
         "name": "IT/Ops",
         "type": "scatter",
         "x": [
          2016,
          2015,
          2014,
          2013,
          2012
         ],
         "y": [
          98,
          80,
          82,
          43,
          48
         ]
        },
        {
         "mode": "lines+markers",
         "name": "Mozilla Local/Regional communities",
         "type": "scatter",
         "x": [
          2016,
          2015,
          2014,
          2013,
          2012
         ],
         "y": [
          54,
          59,
          101,
          49,
          36
         ]
        },
        {
         "mode": "lines+markers",
         "name": "Mozilla Developer Network (MDN)",
         "type": "scatter",
         "x": [
          2016,
          2015,
          2014,
          2013,
          2012
         ],
         "y": [
          40,
          25,
          3,
          2
         ]
        },
        {
         "mode": "lines+markers",
         "name": "Addons/Web Extensions",
         "type": "scatter",
         "x": [
          2016,
          2015,
          2014,
          2013,
          2012
         ],
         "y": [
          37,
          22,
          31,
          26,
          20
         ]
        },
        {
         "mode": "lines+markers",
         "name": "Firefox",
         "type": "scatter",
         "x": [
          2016,
          2015,
          2014,
          2013,
          2012
         ],
         "y": [
          36,
          19,
          17,
          16,
          7
         ]
        },
        {
         "mode": "lines+markers",
         "name": "Mozilla Science",
         "type": "scatter",
         "x": [
          2016,
          2015,
          2014,
          2013,
          2012
         ],
         "y": [
          32,
          39,
          10,
          1
         ]
        },
        {
         "mode": "lines+markers",
         "name": "Firefox iOS",
         "type": "scatter",
         "x": [
          2016,
          2015,
          2014,
          2013,
          2012
         ],
         "y": [
          16,
          26,
          5,
          1
         ]
        },
        {
         "mode": "lines+markers",
         "name": "Test Pilot",
         "type": "scatter",
         "x": [
          2016,
          2015,
          2014,
          2013,
          2012
         ],
         "y": [
          11
         ]
        },
        {
         "mode": "lines+markers",
         "name": "Mozilla Foundation",
         "type": "scatter",
         "x": [
          2016,
          2015,
          2014,
          2013,
          2012
         ],
         "y": [
          7,
          14,
          30,
          14
         ]
        },
        {
         "mode": "lines+markers",
         "name": "Mozilla Creative & Design",
         "type": "scatter",
         "x": [
          2016,
          2015,
          2014,
          2013,
          2012
         ],
         "y": [
          6,
          2,
          2
         ]
        },
        {
         "mode": "lines+markers",
         "name": "Localization",
         "type": "scatter",
         "x": [
          2016,
          2015,
          2014,
          2013,
          2012
         ],
         "y": [
          4,
          3
         ]
        },
        {
         "mode": "lines+markers",
         "name": "Firefox Focus",
         "type": "scatter",
         "x": [
          2016,
          2015,
          2014,
          2013,
          2012
         ],
         "y": [
          2
         ]
        },
        {
         "mode": "lines+markers",
         "name": "Marketing / Social Media",
         "type": "scatter",
         "x": [
          2016,
          2015,
          2014,
          2013,
          2012
         ],
         "y": [
          2,
          6,
          1
         ]
        },
        {
         "mode": "lines+markers",
         "name": "Technical/Developer Evangelism",
         "type": "scatter",
         "x": [
          2016,
          2015,
          2014,
          2013,
          2012
         ],
         "y": [
          2
         ]
        },
        {
         "mode": "lines+markers",
         "name": "Firefox OS (FxOS / B2G)",
         "type": "scatter",
         "x": [
          2016,
          2015,
          2014,
          2013,
          2012
         ],
         "y": [
          19,
          8,
          4,
          3
         ]
        },
        {
         "mode": "lines+markers",
         "name": "Web Literacy",
         "type": "scatter",
         "x": [
          2016,
          2015,
          2014,
          2013,
          2012
         ],
         "y": [
          8,
          43,
          17,
          9
         ]
        },
        {
         "mode": "lines+markers",
         "name": "Release engineering",
         "type": "scatter",
         "x": [
          2016,
          2015,
          2014,
          2013,
          2012
         ],
         "y": [
          7,
          7,
          5,
          7
         ]
        },
        {
         "mode": "lines+markers",
         "name": "Mozilla Clubs",
         "type": "scatter",
         "x": [
          2016,
          2015,
          2014,
          2013,
          2012
         ],
         "y": [
          3
         ]
        },
        {
         "mode": "lines+markers",
         "name": "Mozilla Location Service (MLS) / Stumbler",
         "type": "scatter",
         "x": [
          2016,
          2015,
          2014,
          2013,
          2012
         ],
         "y": [
          3,
          41,
          16
         ]
        },
        {
         "mode": "lines+markers",
         "name": "Developer Tools",
         "type": "scatter",
         "x": [
          2016,
          2015,
          2014,
          2013,
          2012
         ],
         "y": [
          2
         ]
        },
        {
         "mode": "lines+markers",
         "name": "Quality Assurance",
         "type": "scatter",
         "x": [
          2016,
          2015,
          2014,
          2013,
          2012
         ],
         "y": [
          7,
          4,
          2
         ]
        },
        {
         "mode": "lines+markers",
         "name": "Advocacy and policy",
         "type": "scatter",
         "x": [
          2016,
          2015,
          2014,
          2013,
          2012
         ],
         "y": [
          3
         ]
        }
       ],
       "layout": {}
      },
      "text/html": [
       "<div id=\"e1074f15-b648-4770-9079-2a646c709acb\" style=\"height: 525px; width: 100%;\" class=\"plotly-graph-div\"></div><script type=\"text/javascript\">require([\"plotly\"], function(Plotly) { window.PLOTLYENV=window.PLOTLYENV || {};window.PLOTLYENV.BASE_URL=\"https://plot.ly\";Plotly.newPlot(\"e1074f15-b648-4770-9079-2a646c709acb\", [{\"mode\": \"lines+markers\", \"type\": \"scatter\", \"name\": \"Unknown\", \"x\": [2016, 2015, 2014, 2013, 2012], \"y\": [913, 1056, 931, 698, 534]}, {\"mode\": \"lines+markers\", \"type\": \"scatter\", \"name\": \"Rust\", \"x\": [2016, 2015, 2014, 2013, 2012], \"y\": [493, 640, 520, 231, 85]}, {\"mode\": \"lines+markers\", \"type\": \"scatter\", \"name\": \"Servo\", \"x\": [2016, 2015, 2014, 2013, 2012], \"y\": [194, 168, 119, 44, 47]}, {\"mode\": \"lines+markers\", \"type\": \"scatter\", \"name\": \"Gecko\", \"x\": [2016, 2015, 2014, 2013, 2012], \"y\": [164, 83, 77, 60, 27]}, {\"mode\": \"lines+markers\", \"type\": \"scatter\", \"name\": \"Web Properties\", \"x\": [2016, 2015, 2014, 2013, 2012], \"y\": [122, 146, 126, 106, 54]}, {\"mode\": \"lines+markers\", \"type\": \"scatter\", \"name\": \"WebVR\", \"x\": [2016, 2015, 2014, 2013, 2012], \"y\": [111, 15]}, {\"mode\": \"lines+markers\", \"type\": \"scatter\", \"name\": \"IT/Ops\", \"x\": [2016, 2015, 2014, 2013, 2012], \"y\": [98, 80, 82, 43, 48]}, {\"mode\": \"lines+markers\", \"type\": \"scatter\", \"name\": \"Mozilla Local/Regional communities\", \"x\": [2016, 2015, 2014, 2013, 2012], \"y\": [54, 59, 101, 49, 36]}, {\"mode\": \"lines+markers\", \"type\": \"scatter\", \"name\": \"Mozilla Developer Network (MDN)\", \"x\": [2016, 2015, 2014, 2013, 2012], \"y\": [40, 25, 3, 2]}, {\"mode\": \"lines+markers\", \"type\": \"scatter\", \"name\": \"Addons/Web Extensions\", \"x\": [2016, 2015, 2014, 2013, 2012], \"y\": [37, 22, 31, 26, 20]}, {\"mode\": \"lines+markers\", \"type\": \"scatter\", \"name\": \"Firefox\", \"x\": [2016, 2015, 2014, 2013, 2012], \"y\": [36, 19, 17, 16, 7]}, {\"mode\": \"lines+markers\", \"type\": \"scatter\", \"name\": \"Mozilla Science\", \"x\": [2016, 2015, 2014, 2013, 2012], \"y\": [32, 39, 10, 1]}, {\"mode\": \"lines+markers\", \"type\": \"scatter\", \"name\": \"Firefox iOS\", \"x\": [2016, 2015, 2014, 2013, 2012], \"y\": [16, 26, 5, 1]}, {\"mode\": \"lines+markers\", \"type\": \"scatter\", \"name\": \"Test Pilot\", \"x\": [2016, 2015, 2014, 2013, 2012], \"y\": [11]}, {\"mode\": \"lines+markers\", \"type\": \"scatter\", \"name\": \"Mozilla Foundation\", \"x\": [2016, 2015, 2014, 2013, 2012], \"y\": [7, 14, 30, 14]}, {\"mode\": \"lines+markers\", \"type\": \"scatter\", \"name\": \"Mozilla Creative & Design\", \"x\": [2016, 2015, 2014, 2013, 2012], \"y\": [6, 2, 2]}, {\"mode\": \"lines+markers\", \"type\": \"scatter\", \"name\": \"Localization\", \"x\": [2016, 2015, 2014, 2013, 2012], \"y\": [4, 3]}, {\"mode\": \"lines+markers\", \"type\": \"scatter\", \"name\": \"Firefox Focus\", \"x\": [2016, 2015, 2014, 2013, 2012], \"y\": [2]}, {\"mode\": \"lines+markers\", \"type\": \"scatter\", \"name\": \"Marketing / Social Media\", \"x\": [2016, 2015, 2014, 2013, 2012], \"y\": [2, 6, 1]}, {\"mode\": \"lines+markers\", \"type\": \"scatter\", \"name\": \"Technical/Developer Evangelism\", \"x\": [2016, 2015, 2014, 2013, 2012], \"y\": [2]}, {\"mode\": \"lines+markers\", \"type\": \"scatter\", \"name\": \"Firefox OS (FxOS / B2G)\", \"x\": [2016, 2015, 2014, 2013, 2012], \"y\": [19, 8, 4, 3]}, {\"mode\": \"lines+markers\", \"type\": \"scatter\", \"name\": \"Web Literacy\", \"x\": [2016, 2015, 2014, 2013, 2012], \"y\": [8, 43, 17, 9]}, {\"mode\": \"lines+markers\", \"type\": \"scatter\", \"name\": \"Release engineering\", \"x\": [2016, 2015, 2014, 2013, 2012], \"y\": [7, 7, 5, 7]}, {\"mode\": \"lines+markers\", \"type\": \"scatter\", \"name\": \"Mozilla Clubs\", \"x\": [2016, 2015, 2014, 2013, 2012], \"y\": [3]}, {\"mode\": \"lines+markers\", \"type\": \"scatter\", \"name\": \"Mozilla Location Service (MLS) / Stumbler\", \"x\": [2016, 2015, 2014, 2013, 2012], \"y\": [3, 41, 16]}, {\"mode\": \"lines+markers\", \"type\": \"scatter\", \"name\": \"Developer Tools\", \"x\": [2016, 2015, 2014, 2013, 2012], \"y\": [2]}, {\"mode\": \"lines+markers\", \"type\": \"scatter\", \"name\": \"Quality Assurance\", \"x\": [2016, 2015, 2014, 2013, 2012], \"y\": [7, 4, 2]}, {\"mode\": \"lines+markers\", \"type\": \"scatter\", \"name\": \"Advocacy and policy\", \"x\": [2016, 2015, 2014, 2013, 2012], \"y\": [3]}], {}, {\"showLink\": true, \"linkText\": \"Export to plot.ly\"})});</script>"
      ],
      "text/vnd.plotly.v1+html": [
       "<div id=\"e1074f15-b648-4770-9079-2a646c709acb\" style=\"height: 525px; width: 100%;\" class=\"plotly-graph-div\"></div><script type=\"text/javascript\">require([\"plotly\"], function(Plotly) { window.PLOTLYENV=window.PLOTLYENV || {};window.PLOTLYENV.BASE_URL=\"https://plot.ly\";Plotly.newPlot(\"e1074f15-b648-4770-9079-2a646c709acb\", [{\"mode\": \"lines+markers\", \"type\": \"scatter\", \"name\": \"Unknown\", \"x\": [2016, 2015, 2014, 2013, 2012], \"y\": [913, 1056, 931, 698, 534]}, {\"mode\": \"lines+markers\", \"type\": \"scatter\", \"name\": \"Rust\", \"x\": [2016, 2015, 2014, 2013, 2012], \"y\": [493, 640, 520, 231, 85]}, {\"mode\": \"lines+markers\", \"type\": \"scatter\", \"name\": \"Servo\", \"x\": [2016, 2015, 2014, 2013, 2012], \"y\": [194, 168, 119, 44, 47]}, {\"mode\": \"lines+markers\", \"type\": \"scatter\", \"name\": \"Gecko\", \"x\": [2016, 2015, 2014, 2013, 2012], \"y\": [164, 83, 77, 60, 27]}, {\"mode\": \"lines+markers\", \"type\": \"scatter\", \"name\": \"Web Properties\", \"x\": [2016, 2015, 2014, 2013, 2012], \"y\": [122, 146, 126, 106, 54]}, {\"mode\": \"lines+markers\", \"type\": \"scatter\", \"name\": \"WebVR\", \"x\": [2016, 2015, 2014, 2013, 2012], \"y\": [111, 15]}, {\"mode\": \"lines+markers\", \"type\": \"scatter\", \"name\": \"IT/Ops\", \"x\": [2016, 2015, 2014, 2013, 2012], \"y\": [98, 80, 82, 43, 48]}, {\"mode\": \"lines+markers\", \"type\": \"scatter\", \"name\": \"Mozilla Local/Regional communities\", \"x\": [2016, 2015, 2014, 2013, 2012], \"y\": [54, 59, 101, 49, 36]}, {\"mode\": \"lines+markers\", \"type\": \"scatter\", \"name\": \"Mozilla Developer Network (MDN)\", \"x\": [2016, 2015, 2014, 2013, 2012], \"y\": [40, 25, 3, 2]}, {\"mode\": \"lines+markers\", \"type\": \"scatter\", \"name\": \"Addons/Web Extensions\", \"x\": [2016, 2015, 2014, 2013, 2012], \"y\": [37, 22, 31, 26, 20]}, {\"mode\": \"lines+markers\", \"type\": \"scatter\", \"name\": \"Firefox\", \"x\": [2016, 2015, 2014, 2013, 2012], \"y\": [36, 19, 17, 16, 7]}, {\"mode\": \"lines+markers\", \"type\": \"scatter\", \"name\": \"Mozilla Science\", \"x\": [2016, 2015, 2014, 2013, 2012], \"y\": [32, 39, 10, 1]}, {\"mode\": \"lines+markers\", \"type\": \"scatter\", \"name\": \"Firefox iOS\", \"x\": [2016, 2015, 2014, 2013, 2012], \"y\": [16, 26, 5, 1]}, {\"mode\": \"lines+markers\", \"type\": \"scatter\", \"name\": \"Test Pilot\", \"x\": [2016, 2015, 2014, 2013, 2012], \"y\": [11]}, {\"mode\": \"lines+markers\", \"type\": \"scatter\", \"name\": \"Mozilla Foundation\", \"x\": [2016, 2015, 2014, 2013, 2012], \"y\": [7, 14, 30, 14]}, {\"mode\": \"lines+markers\", \"type\": \"scatter\", \"name\": \"Mozilla Creative & Design\", \"x\": [2016, 2015, 2014, 2013, 2012], \"y\": [6, 2, 2]}, {\"mode\": \"lines+markers\", \"type\": \"scatter\", \"name\": \"Localization\", \"x\": [2016, 2015, 2014, 2013, 2012], \"y\": [4, 3]}, {\"mode\": \"lines+markers\", \"type\": \"scatter\", \"name\": \"Firefox Focus\", \"x\": [2016, 2015, 2014, 2013, 2012], \"y\": [2]}, {\"mode\": \"lines+markers\", \"type\": \"scatter\", \"name\": \"Marketing / Social Media\", \"x\": [2016, 2015, 2014, 2013, 2012], \"y\": [2, 6, 1]}, {\"mode\": \"lines+markers\", \"type\": \"scatter\", \"name\": \"Technical/Developer Evangelism\", \"x\": [2016, 2015, 2014, 2013, 2012], \"y\": [2]}, {\"mode\": \"lines+markers\", \"type\": \"scatter\", \"name\": \"Firefox OS (FxOS / B2G)\", \"x\": [2016, 2015, 2014, 2013, 2012], \"y\": [19, 8, 4, 3]}, {\"mode\": \"lines+markers\", \"type\": \"scatter\", \"name\": \"Web Literacy\", \"x\": [2016, 2015, 2014, 2013, 2012], \"y\": [8, 43, 17, 9]}, {\"mode\": \"lines+markers\", \"type\": \"scatter\", \"name\": \"Release engineering\", \"x\": [2016, 2015, 2014, 2013, 2012], \"y\": [7, 7, 5, 7]}, {\"mode\": \"lines+markers\", \"type\": \"scatter\", \"name\": \"Mozilla Clubs\", \"x\": [2016, 2015, 2014, 2013, 2012], \"y\": [3]}, {\"mode\": \"lines+markers\", \"type\": \"scatter\", \"name\": \"Mozilla Location Service (MLS) / Stumbler\", \"x\": [2016, 2015, 2014, 2013, 2012], \"y\": [3, 41, 16]}, {\"mode\": \"lines+markers\", \"type\": \"scatter\", \"name\": \"Developer Tools\", \"x\": [2016, 2015, 2014, 2013, 2012], \"y\": [2]}, {\"mode\": \"lines+markers\", \"type\": \"scatter\", \"name\": \"Quality Assurance\", \"x\": [2016, 2015, 2014, 2013, 2012], \"y\": [7, 4, 2]}, {\"mode\": \"lines+markers\", \"type\": \"scatter\", \"name\": \"Advocacy and policy\", \"x\": [2016, 2015, 2014, 2013, 2012], \"y\": [3]}], {}, {\"showLink\": true, \"linkText\": \"Export to plot.ly\"})});</script>"
      ]
     },
     "metadata": {},
     "output_type": "display_data"
    }
   ],
   "source": [
    "plotly.offline.init_notebook_mode(connected=True)\n",
    "\n",
    "data = []\n",
    "for project in rankings_df['project'].unique():\n",
    "    #print(exp, '\\n', exp_groups_evo_df.loc[exp].tolist(), '\\n', exp_groups_evo_df.loc[exp].index.values)\n",
    "    data.append(\n",
    "        go.Scatter(\n",
    "            x = rankings_df['first_commit'].unique(),\n",
    "            y = rankings_df.loc[(rankings_df['project'] == project), '# authors'],\n",
    "            mode = 'lines+markers',\n",
    "            name = project\n",
    "        )\n",
    "    )\n",
    "    \n",
    "\n",
    "\n",
    "plotly.offline.iplot(data, filename='line-mode')"
   ]
  },
  {
   "cell_type": "markdown",
   "metadata": {},
   "source": [
    "# Authors DataFrame\n",
    "Get a dataframes of Authors from a given year to the past. Each dataframe includes first commit date, last commit date, org, uuid and project."
   ]
  },
  {
   "cell_type": "code",
   "execution_count": 4,
   "metadata": {
    "collapsed": false
   },
   "outputs": [
    {
     "data": {
      "text/plain": [
       "[                                         author        first_commit  \\\n",
       " 9469   149ad981c7f8acd65b9cb9a3f306833fc4b6ec8e 2016-12-31 12:01:23   \n",
       " 10973  778f8adac79c8593c8413792e9d838e0620797c1 2016-12-31 08:34:00   \n",
       " 12314  f0a27b3276baf429f51f6afed8ece01f1a09e7d0 2016-12-31 05:11:58   \n",
       " 10611  5c6bef06c5d1fa2e83f13db2046ec3d9d27bd00d 2016-12-30 23:09:23   \n",
       " 11379  977b2b48ece5125093c2cfdedb56be00bdba4f13 2016-12-30 22:21:03   \n",
       " 10533  57a1cf0d7a35c3f77475953873212148d3c01e1b 2016-12-30 21:55:02   \n",
       " 8660   8c536fb5c49a281f793cb47e933fd71403891960 2016-12-30 17:26:13   \n",
       " 11507  a1e6b9aca42df46460c5fed6a73cde615b2b04a3 2016-12-30 16:45:19   \n",
       " 9784   26e5b20e7ccff92ec895b5f4af3f5f0b9a5b0f0a 2016-12-30 14:34:47   \n",
       " 7863   09a899922407e40e04fa6ab865da040f06c0d904 2016-12-30 12:22:11   \n",
       " 7568   c91f349eb811f5870fe7b4e987bd34decfbf72cb 2016-12-30 11:34:16   \n",
       " 11119  829a9b7eae96736b2408c62c4b2843721116fe41 2016-12-29 23:33:52   \n",
       " 11838  c19b5436d45eb06bb0d9a16accd4a16da1ad9765 2016-12-29 14:21:07   \n",
       " 9812   286f050fe75f8123df329c88b74f3dd61b73bda4 2016-12-28 18:43:08   \n",
       " 11786  bd1da52b37734708ba675cb93b8ab3ab5ac5446c 2016-12-28 18:09:59   \n",
       " 9597   1c9ccec2047e42eb37053a6e93cb10781c56ec82 2016-12-28 16:53:00   \n",
       " 11479  a067de6a2df3134c3a54484d2c6c591e33292310 2016-12-28 14:40:00   \n",
       " 7998   1acb847ed91053f596e5d2a0fc8fe76fb4fba4af 2016-12-28 13:49:02   \n",
       " 10386  4d0114c7876b3d23637a32f6e203ab41d3f44c29 2016-12-28 07:37:45   \n",
       " 11803  be7f54d1d9bdb9670d03199e686f1879c83c0676 2016-12-27 18:40:18   \n",
       " 9327   0c0e7a91ec6c5fccdc12908ec0bce098eba1e6d2 2016-12-27 18:33:38   \n",
       " 10455  52502839f4fbdf5ace2fbdb762d45dbcc823b872 2016-12-27 11:23:01   \n",
       " 12398  f9c29c898de1dd801116553fd199756e8578cb16 2016-12-27 02:26:30   \n",
       " 11089  8029b8cbba702813f9db5fee076cd51cba88ea6b 2016-12-26 11:57:01   \n",
       " 10675  60f4fe71470b196031f56fc50d9baa62660a2ca9 2016-12-25 23:43:29   \n",
       " 8794   a70d6a435ee2abdde02c69ee51bf7295c83d1aed 2016-12-25 20:26:47   \n",
       " 4321   af14482946c22b366fa5dce339353678b9878f20 2016-12-25 03:23:16   \n",
       " 12219  e6a4f7d00dfd76c6953ddc69f277d6525c974c10 2016-12-24 21:15:34   \n",
       " 10408  4ec03c3a988487c297943fbc52c059aecb51246c 2016-12-24 17:06:15   \n",
       " 9283   08c839ef9eb306147e00a308b4aa00388d8e5e50 2016-12-24 00:25:16   \n",
       " ...                                         ...                 ...   \n",
       " 1086   24dabfe777a30434ccbfc77d86d0a9d743c8a17b 1998-04-14 19:56:15   \n",
       " 509    5e8873da77bfc73b744c8ef257eede9cce53c04f 1998-04-14 19:26:42   \n",
       " 1862   069d7fbce4c27ff1d7866e0732fff1ccbd6a6476 1998-04-14 18:14:55   \n",
       " 1677   6565db00622ee1261c295d44f8b883a2f363df1c 1998-04-14 17:29:44   \n",
       " 1009   47ac23f0868d747b6d9d61c596c226fbee59919e 1998-04-14 16:53:16   \n",
       " 517    8426e77b1adabfc17cf61da651a0194683856612 1998-04-14 01:49:20   \n",
       " 1010   97546fd53af5fa01ce7090030f41a94f7157a22b 1998-04-14 01:24:06   \n",
       " 588    a2522930974eb40699e11ecf43ff2d51799161d4 1998-04-14 00:31:59   \n",
       " 1048   fe5fd18b94c889e8934bfbabbd976f5ea6686443 1998-04-13 23:58:48   \n",
       " 1046   9861a7175cf51bf91a8c627eead1ccee3081dabd 1998-04-13 23:56:35   \n",
       " 1484   c939ef8317b162b4daaad54fdfd77ceaad6fd4ce 1998-04-13 21:07:10   \n",
       " 132    4782bfeacd4153cda87b5f1111afee53ac1187ee 1998-04-13 20:24:54   \n",
       " 1820   e7e12cca5bb66ad7d4a40d7f1f8f66f0082e7324 1998-04-09 03:54:33   \n",
       " 1873   38a3bfe8ad27c5843eb55868ae23422db0b971c8 1998-04-09 00:07:08   \n",
       " 915    887002ff63d3f1b7a54ed99ca39aa8422e660f15 1998-04-08 21:23:19   \n",
       " 526    d2d0ee7863d5a2400c69c490942ce407385d185b 1998-04-08 04:20:39   \n",
       " 1073   3320ad91ab9ba8156863b4e8d3ca0b7ddcf11dde 1998-04-08 04:04:58   \n",
       " 2553   7e6e1bd0112ae67da0fb5256daec2ef7adad9778 1998-04-08 01:47:23   \n",
       " 1056   52d75e285d275e0b47723fedf669281f00ddde2e 1998-04-07 23:30:24   \n",
       " 392    431b3b9443363d840dc45885370dce1ebf0bb6df 1998-04-07 20:41:06   \n",
       " 691    856e9a14c44a9e771c6f940145b26575c81e2228 1998-04-07 20:36:46   \n",
       " 598    2ca3b7c9678c67a58174dbc2e5e91f2a04b019e6 1998-04-06 23:54:42   \n",
       " 1525   d95d6e15648451cfc45885ee0de13b85f412403a 1998-03-30 23:59:41   \n",
       " 1008   2a205325afe7a7ba7f2e44ab0b0f7a0dc5a9de00 1998-03-30 23:30:00   \n",
       " 1264   c612c17daa0436547fdf8dde7038b13ddc77f0d9 1998-03-30 23:15:36   \n",
       " 7797   fee82d83c32b57da8be70bb1a60fdd18945a4d89 1998-03-30 01:59:34   \n",
       " 1164   360bda5d687dec2cadfb804f08c53e32c9a00a27 1998-03-29 21:51:40   \n",
       " 2576   be4def1ae593ac3e9a3e6a7d3eb847e93bb21bb2 1998-03-28 02:44:41   \n",
       " 3584   ea866ddbc4b20d4f191bcdecd514b76e22341c39 1998-03-28 00:00:00   \n",
       " 8099   290509554a8d2cd7f0c6f5cfb1c1048e86615fb2 1998-03-27 00:00:00   \n",
       " \n",
       "               last_commit      org         project  active_years  \n",
       " 9469  2016-12-31 12:01:23  Unknown            Rust           0.0  \n",
       " 10973 2016-12-31 08:34:00  Unknown         Firefox           0.0  \n",
       " 12314 2016-12-31 05:11:58  Unknown  Web Properties           0.0  \n",
       " 10611 2016-12-30 23:09:23  Unknown           Gecko           0.0  \n",
       " 11379 2016-12-30 22:21:03  Unknown           Servo           0.0  \n",
       " 10533 2016-12-30 21:55:02  Unknown            Rust           0.0  \n",
       " 8660  2016-12-30 17:26:13  Unknown           WebVR           0.0  \n",
       " 11507 2016-12-30 16:45:19  Unknown           WebVR           0.0  \n",
       " 9784  2016-12-30 14:34:47  Unknown            Rust           0.0  \n",
       " 7863  2016-12-30 13:21:21  Unknown            Rust           0.0  \n",
       " 7568  2016-12-30 11:40:34  Unknown         Unknown           0.0  \n",
       " 11119 2016-12-29 23:33:52  Unknown          IT/Ops           0.0  \n",
       " 11838 2016-12-29 14:21:07  Unknown            Rust           0.0  \n",
       " 9812  2016-12-28 18:43:08  Unknown           Servo           0.0  \n",
       " 11786 2016-12-28 18:09:59  Unknown  Web Properties           0.0  \n",
       " 9597  2016-12-28 16:53:00  Unknown           Gecko           0.0  \n",
       " 11479 2016-12-28 14:40:00  Unknown            Rust           0.0  \n",
       " 7998  2016-12-28 22:43:51  Unknown           Gecko           0.0  \n",
       " 10386 2016-12-28 07:37:45  Unknown           Gecko           0.0  \n",
       " 11803 2016-12-27 18:40:18  Unknown            Rust           0.0  \n",
       " 9327  2016-12-27 18:33:38  Unknown  Web Properties           0.0  \n",
       " 10455 2016-12-27 11:23:01  Unknown           Gecko           0.0  \n",
       " 12398 2016-12-27 02:26:30  Unknown            Rust           0.0  \n",
       " 11089 2016-12-26 11:57:01  Unknown            Rust           0.0  \n",
       " 10675 2016-12-25 23:43:29  Unknown  Web Properties           0.0  \n",
       " 8794  2016-12-25 20:26:47  Unknown           WebVR           0.0  \n",
       " 4321  2016-12-27 06:56:15  Unknown           Gecko           0.0  \n",
       " 12219 2016-12-24 21:15:34  Unknown         Unknown           0.0  \n",
       " 10408 2016-12-24 17:06:15  Unknown            Rust           0.0  \n",
       " 9283  2016-12-24 00:25:16  Unknown          IT/Ops           0.0  \n",
       " ...                   ...      ...             ...           ...  \n",
       " 1086  1998-07-10 13:25:36  Unknown         Unknown           0.0  \n",
       " 509   1998-07-10 17:29:03  Unknown         Unknown           0.0  \n",
       " 1862  1998-05-15 18:49:17  Unknown           Gecko           0.0  \n",
       " 1677  1998-06-09 22:41:49  Unknown           Gecko           0.0  \n",
       " 1009  1998-07-14 22:52:07  Unknown           Gecko           0.0  \n",
       " 517   1998-07-14 18:43:47  Unknown         Unknown           0.0  \n",
       " 1010  1998-07-09 23:00:29  Unknown         Unknown           0.0  \n",
       " 588   1998-07-15 17:04:56  Unknown           Gecko           0.0  \n",
       " 1048  1998-07-15 16:33:40  Unknown         Unknown           0.0  \n",
       " 1046  1998-07-15 00:37:11  Unknown         Unknown           0.0  \n",
       " 1484  1998-05-27 07:33:12  Unknown         Unknown           0.0  \n",
       " 132   1998-07-15 18:55:53  Unknown         Unknown           0.0  \n",
       " 1820  1998-05-28 18:20:00  Unknown         Unknown           0.0  \n",
       " 1873  1998-07-01 22:36:44  Unknown         Unknown           0.0  \n",
       " 915   1998-07-02 02:39:54  Unknown           Gecko           0.0  \n",
       " 526   1998-07-15 10:34:34  Unknown         Unknown           0.0  \n",
       " 1073  1998-07-09 02:19:37  Unknown           Gecko           0.0  \n",
       " 2553  1998-06-23 02:32:45  Unknown         Unknown           0.0  \n",
       " 1056  1998-07-09 16:42:08  Unknown         Unknown           0.0  \n",
       " 392   1998-07-15 17:03:53  Unknown         Unknown           0.0  \n",
       " 691   1998-07-01 05:13:10  Unknown           Gecko           0.0  \n",
       " 598   1998-07-10 22:19:56  Unknown         Unknown           0.0  \n",
       " 1525  1998-07-15 17:26:32  Unknown           Gecko           0.0  \n",
       " 1008  1998-07-10 17:22:06  Unknown         Unknown           0.0  \n",
       " 1264  1998-07-02 20:03:03  Unknown         Unknown           0.0  \n",
       " 7797  1998-03-30 01:59:34  Unknown           Gecko           0.0  \n",
       " 1164  1998-07-14 21:13:23  Unknown         Unknown           0.0  \n",
       " 2576  1998-06-22 21:28:47  Unknown         Unknown           0.0  \n",
       " 3584  2016-01-17 00:00:00  Unknown         Unknown          17.0  \n",
       " 8099  1998-03-27 00:00:00  Unknown         Unknown           0.0  \n",
       " \n",
       " [12455 rows x 6 columns],\n",
       "                                         author        first_commit  \\\n",
       " 8805  6810552de52be12521e220fbb5a86a69eb1d3122 2015-12-30 21:31:39   \n",
       " 6313  aaec64ab47fbfde7f0c6b700ca4b0650f6e6a741 2015-12-30 21:31:25   \n",
       " 6444  cfe3f91cd9bb3a540bf1fdff50d1b29d884de306 2015-12-30 16:27:56   \n",
       " 8273  3975871ceff73b48d4c04038e622dade54b0738a 2015-12-30 15:25:59   \n",
       " 9000  7af9f9d4c6ab916e93a243efa5e98637433bb8a7 2015-12-30 15:20:22   \n",
       " 7401  d41bc4392da7134abfe4a92d25dc5f6f64637820 2015-12-30 14:40:10   \n",
       " 5089  4e579d223d31f8a59efa4c547f27d5b140ac17ec 2015-12-30 12:59:00   \n",
       " 6993  541f076752af67ece7817f2e364f791a21b0d2f5 2015-12-30 12:33:57   \n",
       " 6560  ef42ed936fac6fd9a0fedc453fda43f3a0727b92 2015-12-30 11:41:59   \n",
       " 8919  726452e69a6dcc3da2c36ac10770893a6ca4c475 2015-12-30 01:57:45   \n",
       " 7637  07e12ae2822d12245e8af2951b144b54632c1f36 2015-12-29 15:42:48   \n",
       " 7422  dba4d7b301d655f6f33322f08a9894695d3a4430 2015-12-29 09:43:45   \n",
       " 3964  6f8b5b1dbc17b3ba3d021d7550f716f46ae42a29 2015-12-29 00:10:21   \n",
       " 9758  d2f08563c9977f012c7ab84b33d1568e22665d12 2015-12-28 23:53:38   \n",
       " 6468  d553d3d76b2cd08e328f22c8f6cb25c9af793dce 2015-12-28 21:19:59   \n",
       " 7194  8f602223673aa977acd96d971237474160ca5b8b 2015-12-28 21:09:06   \n",
       " 8166  30cf313e836b78365bd1fb4e2082eb2bec800a13 2015-12-28 13:39:18   \n",
       " 4051  b59fe152320598a7a97bd77dcc9dafd4ecc0130d 2015-12-28 13:06:31   \n",
       " 8051  27c447c04dd10cef822d76e4d0fbb7915fe5a14d 2015-12-28 09:23:09   \n",
       " 4176  08d97959a6b1dd1b680245d086a5d78175c2be17 2015-12-28 05:31:11   \n",
       " 7991  22eea86ee547929564f7b35c52ebd6aef14fdae4 2015-12-26 21:29:28   \n",
       " 7261  a20e8a1552cd761e40d9bd0bc97e4c623125fad8 2015-12-26 07:44:57   \n",
       " 8191  32ed1029b92527ae80f45e722ca9c4ca15b8d265 2015-12-26 06:24:11   \n",
       " 7738  0fdbe84f63e8e9559064752216155d4ec2c37767 2015-12-26 06:13:31   \n",
       " 5617  071d9dc6d6c0853ee28f73788e08880d5f24dd89 2015-12-26 01:10:12   \n",
       " 7758  119086ab427771fe20ac7f8d42c540d4d8071709 2015-12-25 13:36:15   \n",
       " 7911  1d8267f4e06b5fab1c6e04717cb7450222d383c0 2015-12-25 03:52:14   \n",
       " 9693  ca5fe236cee86c1e5f2af4e58488a1a1767f4f9c 2015-12-24 23:04:44   \n",
       " 9962  ec0483fce611e649ad644afa81a7b92bf560c02d 2015-12-24 20:22:22   \n",
       " 4221  12f3354a805c18db4bbe8db89756592d2135ae6c 2015-12-24 15:22:05   \n",
       " ...                                        ...                 ...   \n",
       " 1012  24dabfe777a30434ccbfc77d86d0a9d743c8a17b 1998-04-14 19:56:15   \n",
       " 474   5e8873da77bfc73b744c8ef257eede9cce53c04f 1998-04-14 19:26:42   \n",
       " 1660  069d7fbce4c27ff1d7866e0732fff1ccbd6a6476 1998-04-14 18:14:55   \n",
       " 1510  6565db00622ee1261c295d44f8b883a2f363df1c 1998-04-14 17:29:44   \n",
       " 931   47ac23f0868d747b6d9d61c596c226fbee59919e 1998-04-14 16:53:16   \n",
       " 488   8426e77b1adabfc17cf61da651a0194683856612 1998-04-14 01:49:20   \n",
       " 932   97546fd53af5fa01ce7090030f41a94f7157a22b 1998-04-14 01:24:06   \n",
       " 550   a2522930974eb40699e11ecf43ff2d51799161d4 1998-04-14 00:31:59   \n",
       " 971   fe5fd18b94c889e8934bfbabbd976f5ea6686443 1998-04-13 23:58:48   \n",
       " 969   9861a7175cf51bf91a8c627eead1ccee3081dabd 1998-04-13 23:56:35   \n",
       " 1344  c939ef8317b162b4daaad54fdfd77ceaad6fd4ce 1998-04-13 21:07:10   \n",
       " 128   4782bfeacd4153cda87b5f1111afee53ac1187ee 1998-04-13 20:24:54   \n",
       " 1630  e7e12cca5bb66ad7d4a40d7f1f8f66f0082e7324 1998-04-09 03:54:33   \n",
       " 1671  38a3bfe8ad27c5843eb55868ae23422db0b971c8 1998-04-09 00:07:08   \n",
       " 857   887002ff63d3f1b7a54ed99ca39aa8422e660f15 1998-04-08 21:23:19   \n",
       " 496   d2d0ee7863d5a2400c69c490942ce407385d185b 1998-04-08 04:20:39   \n",
       " 996   3320ad91ab9ba8156863b4e8d3ca0b7ddcf11dde 1998-04-08 04:04:58   \n",
       " 2260  7e6e1bd0112ae67da0fb5256daec2ef7adad9778 1998-04-08 01:47:23   \n",
       " 981   52d75e285d275e0b47723fedf669281f00ddde2e 1998-04-07 23:30:24   \n",
       " 370   431b3b9443363d840dc45885370dce1ebf0bb6df 1998-04-07 20:41:06   \n",
       " 644   856e9a14c44a9e771c6f940145b26575c81e2228 1998-04-07 20:36:46   \n",
       " 560   2ca3b7c9678c67a58174dbc2e5e91f2a04b019e6 1998-04-06 23:54:42   \n",
       " 1381  d95d6e15648451cfc45885ee0de13b85f412403a 1998-03-30 23:59:41   \n",
       " 930   2a205325afe7a7ba7f2e44ab0b0f7a0dc5a9de00 1998-03-30 23:30:00   \n",
       " 1169  c612c17daa0436547fdf8dde7038b13ddc77f0d9 1998-03-30 23:15:36   \n",
       " 6599  fee82d83c32b57da8be70bb1a60fdd18945a4d89 1998-03-30 01:59:34   \n",
       " 1084  360bda5d687dec2cadfb804f08c53e32c9a00a27 1998-03-29 21:51:40   \n",
       " 2275  be4def1ae593ac3e9a3e6a7d3eb847e93bb21bb2 1998-03-28 02:44:41   \n",
       " 3301  ea866ddbc4b20d4f191bcdecd514b76e22341c39 1998-03-28 00:00:00   \n",
       " 6805  290509554a8d2cd7f0c6f5cfb1c1048e86615fb2 1998-03-27 00:00:00   \n",
       " \n",
       "              last_commit      org                             project  \\\n",
       " 8805 2015-12-30 21:31:39  Unknown                      Web Properties   \n",
       " 6313 2015-12-30 21:31:25  Unknown                             Unknown   \n",
       " 6444 2015-12-30 16:27:56  Unknown                             Unknown   \n",
       " 8273 2015-12-30 15:25:59  Unknown                                Rust   \n",
       " 9000 2015-12-30 15:20:22  Unknown                             Unknown   \n",
       " 7401 2015-12-30 22:18:09  Unknown                              IT/Ops   \n",
       " 5089 2015-12-30 12:59:00  Unknown                             Unknown   \n",
       " 6993 2015-12-30 13:04:00  Unknown                              IT/Ops   \n",
       " 6560 2015-12-31 11:41:21  Unknown  Mozilla Local/Regional communities   \n",
       " 8919 2015-12-30 01:57:45  Unknown                               WebVR   \n",
       " 7637 2015-12-29 15:42:48  Unknown                             Unknown   \n",
       " 7422 2015-12-29 09:52:22  Unknown                                Rust   \n",
       " 3964 2015-12-29 11:54:35  Unknown                             Unknown   \n",
       " 9758 2015-12-28 23:53:38  Unknown                                Rust   \n",
       " 6468 2015-12-28 21:19:59  Unknown                             Unknown   \n",
       " 7194 2015-12-29 06:37:06  Unknown                                Rust   \n",
       " 8166 2015-12-28 13:39:18  Unknown  Mozilla Local/Regional communities   \n",
       " 4051 2015-12-31 11:14:58  Unknown                             Unknown   \n",
       " 8051 2015-12-28 09:23:09  Unknown                         Firefox iOS   \n",
       " 4176 2015-12-30 16:27:55  Unknown                                Rust   \n",
       " 7991 2015-12-26 21:29:28  Unknown                                Rust   \n",
       " 7261 2015-12-26 07:44:57  Unknown                               WebVR   \n",
       " 8191 2015-12-26 06:24:11  Unknown                               Servo   \n",
       " 7738 2015-12-26 06:13:31  Unknown                                Rust   \n",
       " 5617 2015-12-30 19:36:02  Unknown                             Unknown   \n",
       " 7758 2015-12-25 13:36:15  Unknown  Mozilla Local/Regional communities   \n",
       " 7911 2015-12-25 03:52:14  Unknown                      Web Properties   \n",
       " 9693 2015-12-24 23:04:44  Unknown                             Unknown   \n",
       " 9962 2015-12-24 20:22:22  Unknown                             Unknown   \n",
       " 4221 2015-12-29 13:18:27  Unknown                      Web Properties   \n",
       " ...                  ...      ...                                 ...   \n",
       " 1012 1998-07-10 13:25:36  Unknown                             Unknown   \n",
       " 474  1998-07-10 17:29:03  Unknown                             Unknown   \n",
       " 1660 1998-05-15 18:49:17  Unknown                               Gecko   \n",
       " 1510 1998-06-09 22:41:49  Unknown                               Gecko   \n",
       " 931  1998-07-14 22:52:07  Unknown                               Gecko   \n",
       " 488  1998-07-14 18:43:47  Unknown                             Unknown   \n",
       " 932  1998-07-09 23:00:29  Unknown                             Unknown   \n",
       " 550  1998-07-15 17:04:56  Unknown                               Gecko   \n",
       " 971  1998-07-15 16:33:40  Unknown                             Unknown   \n",
       " 969  1998-07-15 00:37:11  Unknown                             Unknown   \n",
       " 1344 1998-05-27 07:33:12  Unknown                             Unknown   \n",
       " 128  1998-07-15 18:55:53  Unknown                             Unknown   \n",
       " 1630 1998-05-28 18:20:00  Unknown                             Unknown   \n",
       " 1671 1998-07-01 22:36:44  Unknown                             Unknown   \n",
       " 857  1998-07-02 02:39:54  Unknown                               Gecko   \n",
       " 496  1998-07-15 10:34:34  Unknown                             Unknown   \n",
       " 996  1998-07-09 02:19:37  Unknown                               Gecko   \n",
       " 2260 1998-06-23 02:32:45  Unknown                             Unknown   \n",
       " 981  1998-07-09 16:42:08  Unknown                             Unknown   \n",
       " 370  1998-07-15 17:03:53  Unknown                             Unknown   \n",
       " 644  1998-07-01 05:13:10  Unknown                               Gecko   \n",
       " 560  1998-07-10 22:19:56  Unknown                             Unknown   \n",
       " 1381 1998-07-15 17:26:32  Unknown                               Gecko   \n",
       " 930  1998-07-10 17:22:06  Unknown                             Unknown   \n",
       " 1169 1998-07-02 20:03:03  Unknown                             Unknown   \n",
       " 6599 1998-03-30 01:59:34  Unknown                               Gecko   \n",
       " 1084 1998-07-14 21:13:23  Unknown                             Unknown   \n",
       " 2275 1998-06-22 21:28:47  Unknown                             Unknown   \n",
       " 3301 2014-01-19 00:00:00  Unknown                             Unknown   \n",
       " 6805 1998-03-27 00:00:00  Unknown                             Unknown   \n",
       " \n",
       "       active_years  \n",
       " 8805           0.0  \n",
       " 6313           0.0  \n",
       " 6444           0.0  \n",
       " 8273           0.0  \n",
       " 9000           0.0  \n",
       " 7401           0.0  \n",
       " 5089           0.0  \n",
       " 6993           0.0  \n",
       " 6560           0.0  \n",
       " 8919           0.0  \n",
       " 7637           0.0  \n",
       " 7422           0.0  \n",
       " 3964           0.0  \n",
       " 9758           0.0  \n",
       " 6468           0.0  \n",
       " 7194           0.0  \n",
       " 8166           0.0  \n",
       " 4051           0.0  \n",
       " 8051           0.0  \n",
       " 4176           0.0  \n",
       " 7991           0.0  \n",
       " 7261           0.0  \n",
       " 8191           0.0  \n",
       " 7738           0.0  \n",
       " 5617           0.0  \n",
       " 7758           0.0  \n",
       " 7911           0.0  \n",
       " 9693           0.0  \n",
       " 9962           0.0  \n",
       " 4221           0.0  \n",
       " ...            ...  \n",
       " 1012           0.0  \n",
       " 474            0.0  \n",
       " 1660           0.0  \n",
       " 1510           0.0  \n",
       " 931            0.0  \n",
       " 488            0.0  \n",
       " 932            0.0  \n",
       " 550            0.0  \n",
       " 971            0.0  \n",
       " 969            0.0  \n",
       " 1344           0.0  \n",
       " 128            0.0  \n",
       " 1630           0.0  \n",
       " 1671           0.0  \n",
       " 857            0.0  \n",
       " 496            0.0  \n",
       " 996            0.0  \n",
       " 2260           0.0  \n",
       " 981            0.0  \n",
       " 370            0.0  \n",
       " 644            0.0  \n",
       " 560            0.0  \n",
       " 1381           0.0  \n",
       " 930            0.0  \n",
       " 1169           0.0  \n",
       " 6599           0.0  \n",
       " 1084           0.0  \n",
       " 2275           0.0  \n",
       " 3301          15.0  \n",
       " 6805           0.0  \n",
       " \n",
       " [10105 rows x 6 columns],\n",
       "                                         author        first_commit  \\\n",
       " 7494  dceffa60fbb651451613323e2a8942541ac97d02 2014-12-31 18:52:27   \n",
       " 6007  10945e2e1f3fb1a970a6057b668705373c1a989d 2014-12-30 22:10:30   \n",
       " 6752  66c6ea4e1cc405cd50d805889fca98bd884a835d 2014-12-30 19:43:16   \n",
       " 5927  07e9a0923824f7ab7a297fcb038eb18cdefe4739 2014-12-30 19:23:16   \n",
       " 5303  1ef99d36c018734d3d4403a9f476dc1752448dd2 2014-12-30 17:16:56   \n",
       " 6968  84a16d2ce4135a7b9d4351ed59a190d38c232243 2014-12-30 16:54:39   \n",
       " 6614  54d322fc336de09a54a339e8da2b1caf4453c948 2014-12-30 14:13:41   \n",
       " 6487  45c5e6f5a788500c8255fe29941166d92385b7ad 2014-12-30 14:13:36   \n",
       " 4204  6eaa0089721c8cc519705f3ea8215d45d3a456c7 2014-12-30 14:07:57   \n",
       " 6678  5cc9abc7867e75e9b4d9c725a1ea31252d5032ca 2014-12-30 13:32:25   \n",
       " 5331  25f7b54a555c5030886849b2231441053962ef0e 2014-12-30 07:38:23   \n",
       " 6870  76c8c69b7c495eda7da05a9dd5ac1cb204d62a61 2014-12-30 04:20:24   \n",
       " 2810  4143e69cc78d974a66082d3fa781241d67c80a13 2014-12-30 00:54:46   \n",
       " 6634  57aba44900a7bdde45d2581fb39b45feeb5bdf23 2014-12-29 22:16:53   \n",
       " 6641  589eff5a6d27688c6aafb76071d2218bd225d31d 2014-12-29 16:20:17   \n",
       " 6474  438fc533df9d206246480d1e6ac985b2ba1d8e21 2014-12-29 12:36:46   \n",
       " 6606  53c58b0856c591dc68001ac568c4b7f4fe674dcb 2014-12-29 07:12:45   \n",
       " 6597  52c5a6b49c6408004f269085de8ec1556c103ba0 2014-12-29 04:44:18   \n",
       " 7385  cc571f404440232eede9441acdfa091824b1ef70 2014-12-28 22:37:09   \n",
       " 2914  f8bdb372b32076065652bc8027e8a66cf4301878 2014-12-28 22:22:48   \n",
       " 4270  8dc36cda40161df51bc5a6c39862c991c53bf542 2014-12-28 19:33:37   \n",
       " 5534  670cdbfb2d8cb76a1937c7124a3c29ae5e3c4608 2014-12-28 16:51:00   \n",
       " 5306  1fc515e8a96011f3d999e6300a418939c94a8054 2014-12-28 15:44:03   \n",
       " 3695  a344b1a1c109c233087034445600984f85db855e 2014-12-28 00:38:00   \n",
       " 7341  c2a63314b7c89fc8ac2fbc92b8e9dc68e7ad001b 2014-12-27 23:47:16   \n",
       " 5674  a10268e2f071f802198dbdd37d2d91fec053937a 2014-12-27 22:45:13   \n",
       " 6605  539a4dc0ca84b0f6c2d49fbff7b104fa3fe543c7 2014-12-27 21:08:47   \n",
       " 5829  f366a5b9693b0592d36934a6d23b033ade3b0dd9 2014-12-27 19:48:16   \n",
       " 4212  70a29817be00a273ef2ae084ebc568c56a0620f4 2014-12-27 12:48:27   \n",
       " 4836  745171b8dfabd09a0ae3ae876f354ab9f4a96ddb 2014-12-26 21:30:11   \n",
       " ...                                        ...                 ...   \n",
       " 918   24dabfe777a30434ccbfc77d86d0a9d743c8a17b 1998-04-14 19:56:15   \n",
       " 452   5e8873da77bfc73b744c8ef257eede9cce53c04f 1998-04-14 19:26:42   \n",
       " 1450  069d7fbce4c27ff1d7866e0732fff1ccbd6a6476 1998-04-14 18:14:55   \n",
       " 1333  6565db00622ee1261c295d44f8b883a2f363df1c 1998-04-14 17:29:44   \n",
       " 849   47ac23f0868d747b6d9d61c596c226fbee59919e 1998-04-14 16:53:16   \n",
       " 462   8426e77b1adabfc17cf61da651a0194683856612 1998-04-14 01:49:20   \n",
       " 851   97546fd53af5fa01ce7090030f41a94f7157a22b 1998-04-14 01:24:06   \n",
       " 516   a2522930974eb40699e11ecf43ff2d51799161d4 1998-04-14 00:31:59   \n",
       " 884   fe5fd18b94c889e8934bfbabbd976f5ea6686443 1998-04-13 23:58:48   \n",
       " 881   9861a7175cf51bf91a8c627eead1ccee3081dabd 1998-04-13 23:56:35   \n",
       " 1203  c939ef8317b162b4daaad54fdfd77ceaad6fd4ce 1998-04-13 21:07:10   \n",
       " 121   4782bfeacd4153cda87b5f1111afee53ac1187ee 1998-04-13 20:24:54   \n",
       " 1427  e7e12cca5bb66ad7d4a40d7f1f8f66f0082e7324 1998-04-09 03:54:33   \n",
       " 1459  38a3bfe8ad27c5843eb55868ae23422db0b971c8 1998-04-09 00:07:08   \n",
       " 786   887002ff63d3f1b7a54ed99ca39aa8422e660f15 1998-04-08 21:23:19   \n",
       " 470   d2d0ee7863d5a2400c69c490942ce407385d185b 1998-04-08 04:20:39   \n",
       " 905   3320ad91ab9ba8156863b4e8d3ca0b7ddcf11dde 1998-04-08 04:04:58   \n",
       " 1924  7e6e1bd0112ae67da0fb5256daec2ef7adad9778 1998-04-08 01:47:23   \n",
       " 892   52d75e285d275e0b47723fedf669281f00ddde2e 1998-04-07 23:30:24   \n",
       " 355   431b3b9443363d840dc45885370dce1ebf0bb6df 1998-04-07 20:41:06   \n",
       " 602   856e9a14c44a9e771c6f940145b26575c81e2228 1998-04-07 20:36:46   \n",
       " 528   2ca3b7c9678c67a58174dbc2e5e91f2a04b019e6 1998-04-06 23:54:42   \n",
       " 1232  d95d6e15648451cfc45885ee0de13b85f412403a 1998-03-30 23:59:41   \n",
       " 848   2a205325afe7a7ba7f2e44ab0b0f7a0dc5a9de00 1998-03-30 23:30:00   \n",
       " 1049  c612c17daa0436547fdf8dde7038b13ddc77f0d9 1998-03-30 23:15:36   \n",
       " 5183  fee82d83c32b57da8be70bb1a60fdd18945a4d89 1998-03-30 01:59:34   \n",
       " 977   360bda5d687dec2cadfb804f08c53e32c9a00a27 1998-03-29 21:51:40   \n",
       " 1936  be4def1ae593ac3e9a3e6a7d3eb847e93bb21bb2 1998-03-28 02:44:41   \n",
       " 2721  ea866ddbc4b20d4f191bcdecd514b76e22341c39 1998-03-28 00:00:00   \n",
       " 5341  290509554a8d2cd7f0c6f5cfb1c1048e86615fb2 1998-03-27 00:00:00   \n",
       " \n",
       "              last_commit      org                             project  \\\n",
       " 7494 2014-12-31 18:52:27  Unknown                             Unknown   \n",
       " 6007 2014-12-30 22:10:30  Unknown               Addons/Web Extensions   \n",
       " 6752 2014-12-30 19:43:16  Unknown                      Web Properties   \n",
       " 5927 2014-12-30 19:23:16  Unknown                                Rust   \n",
       " 5303 2014-12-30 17:36:23  Unknown  Mozilla Local/Regional communities   \n",
       " 6968 2014-12-30 16:54:39  Unknown                             Unknown   \n",
       " 6614 2014-12-30 14:13:41  Unknown  Mozilla Local/Regional communities   \n",
       " 6487 2014-12-30 14:13:36  Unknown                                Rust   \n",
       " 4204 2014-12-30 14:07:57  Unknown                             Unknown   \n",
       " 6678 2014-12-30 13:32:25  Unknown                             Unknown   \n",
       " 5331 2014-12-30 08:22:31  Unknown  Mozilla Local/Regional communities   \n",
       " 6870 2014-12-30 04:20:24  Unknown                                Rust   \n",
       " 2810 2014-12-31 15:02:54  Unknown  Mozilla Local/Regional communities   \n",
       " 6634 2014-12-29 22:16:53  Unknown                                Rust   \n",
       " 6641 2014-12-29 16:20:17  Unknown                             Unknown   \n",
       " 6474 2014-12-29 12:36:46  Unknown                               Servo   \n",
       " 6606 2014-12-29 07:12:45  Unknown                 Release engineering   \n",
       " 6597 2014-12-29 04:44:18  Unknown                      Web Properties   \n",
       " 7385 2014-12-28 22:37:09  Unknown                                Rust   \n",
       " 2914 2014-12-30 22:49:58  Unknown                                Rust   \n",
       " 4270 2014-12-28 19:33:37  Unknown                             Unknown   \n",
       " 5534 2014-12-28 17:44:33  Unknown                                Rust   \n",
       " 5306 2014-12-30 19:49:02  Unknown                               Servo   \n",
       " 3695 2014-12-30 08:34:23  Unknown                               Servo   \n",
       " 7341 2014-12-27 23:47:16  Unknown                               Servo   \n",
       " 5674 2014-12-28 12:24:27  Unknown                                Rust   \n",
       " 6605 2014-12-27 21:08:47  Unknown                                Rust   \n",
       " 5829 2014-12-27 22:03:03  Unknown                      Web Properties   \n",
       " 4212 2014-12-27 12:48:27  Unknown                             Unknown   \n",
       " 4836 2014-12-28 12:15:28  Unknown                                Rust   \n",
       " ...                  ...      ...                                 ...   \n",
       " 918  1998-07-10 13:25:36  Unknown                             Unknown   \n",
       " 452  1998-07-10 17:29:03  Unknown                             Unknown   \n",
       " 1450 1998-05-15 18:49:17  Unknown                               Gecko   \n",
       " 1333 1998-06-09 22:41:49  Unknown                               Gecko   \n",
       " 849  1998-07-14 22:52:07  Unknown                               Gecko   \n",
       " 462  1998-07-14 18:43:47  Unknown                             Unknown   \n",
       " 851  1998-07-09 23:00:29  Unknown                             Unknown   \n",
       " 516  1998-07-15 17:04:56  Unknown                               Gecko   \n",
       " 884  1998-07-15 16:33:40  Unknown                             Unknown   \n",
       " 881  1998-07-15 00:37:11  Unknown                             Unknown   \n",
       " 1203 1998-05-27 07:33:12  Unknown                             Unknown   \n",
       " 121  1998-07-15 18:55:53  Unknown                             Unknown   \n",
       " 1427 1998-05-28 18:20:00  Unknown                             Unknown   \n",
       " 1459 1998-07-01 22:36:44  Unknown                             Unknown   \n",
       " 786  1998-07-02 02:39:54  Unknown                               Gecko   \n",
       " 470  1998-07-15 10:34:34  Unknown                             Unknown   \n",
       " 905  1998-07-09 02:19:37  Unknown                               Gecko   \n",
       " 1924 1998-06-23 02:32:45  Unknown                             Unknown   \n",
       " 892  1998-07-09 16:42:08  Unknown                             Unknown   \n",
       " 355  1998-07-15 17:03:53  Unknown                             Unknown   \n",
       " 602  1998-07-01 05:13:10  Unknown                               Gecko   \n",
       " 528  1998-07-10 22:19:56  Unknown                             Unknown   \n",
       " 1232 1998-07-15 17:26:32  Unknown                               Gecko   \n",
       " 848  1998-07-10 17:22:06  Unknown                             Unknown   \n",
       " 1049 1998-07-02 20:03:03  Unknown                             Unknown   \n",
       " 5183 1998-03-30 01:59:34  Unknown                               Gecko   \n",
       " 977  1998-07-14 21:13:23  Unknown                             Unknown   \n",
       " 1936 1998-06-22 21:28:47  Unknown                             Unknown   \n",
       " 2721 2014-01-19 00:00:00  Unknown                             Unknown   \n",
       " 5341 1998-03-27 00:00:00  Unknown                             Unknown   \n",
       " \n",
       "       active_years  \n",
       " 7494           0.0  \n",
       " 6007           0.0  \n",
       " 6752           0.0  \n",
       " 5927           0.0  \n",
       " 5303           0.0  \n",
       " 6968           0.0  \n",
       " 6614           0.0  \n",
       " 6487           0.0  \n",
       " 4204           0.0  \n",
       " 6678           0.0  \n",
       " 5331           0.0  \n",
       " 6870           0.0  \n",
       " 2810           0.0  \n",
       " 6634           0.0  \n",
       " 6641           0.0  \n",
       " 6474           0.0  \n",
       " 6606           0.0  \n",
       " 6597           0.0  \n",
       " 7385           0.0  \n",
       " 2914           0.0  \n",
       " 4270           0.0  \n",
       " 5534           0.0  \n",
       " 5306           0.0  \n",
       " 3695           0.0  \n",
       " 7341           0.0  \n",
       " 5674           0.0  \n",
       " 6605           0.0  \n",
       " 5829           0.0  \n",
       " 4212           0.0  \n",
       " 4836           0.0  \n",
       " ...            ...  \n",
       " 918            0.0  \n",
       " 452            0.0  \n",
       " 1450           0.0  \n",
       " 1333           0.0  \n",
       " 849            0.0  \n",
       " 462            0.0  \n",
       " 851            0.0  \n",
       " 516            0.0  \n",
       " 884            0.0  \n",
       " 881            0.0  \n",
       " 1203           0.0  \n",
       " 121            0.0  \n",
       " 1427           0.0  \n",
       " 1459           0.0  \n",
       " 786            0.0  \n",
       " 470            0.0  \n",
       " 905            0.0  \n",
       " 1924           0.0  \n",
       " 892            0.0  \n",
       " 355            0.0  \n",
       " 602            0.0  \n",
       " 528            0.0  \n",
       " 1232           0.0  \n",
       " 848            0.0  \n",
       " 1049           0.0  \n",
       " 5183           0.0  \n",
       " 977            0.0  \n",
       " 1936           0.0  \n",
       " 2721          15.0  \n",
       " 5341           0.0  \n",
       " \n",
       " [7678 rows x 6 columns],\n",
       "                                         author        first_commit  \\\n",
       " 4446  0df32f19b2489045f5c72f8fb0f5ee3a400466e7 2014-01-01 02:41:20   \n",
       " 4354  f402fc16c829a0e6ebc2ff573ff502afa2319cae 2013-12-31 14:19:36   \n",
       " 4914  64823319f47f5cd56e745dcaf62c994cb359b624 2013-12-29 16:06:55   \n",
       " 5301  bda7f1150b666c54a24d07b0ecfed3ae603e7856 2013-12-29 12:21:26   \n",
       " 5219  a63a6380dd8b65e979bb20b491a9cb67dc9833ed 2013-12-28 18:01:53   \n",
       " 3760  91f24077b2d91747d2d889effdc05560fcffdc91 2013-12-27 14:39:55   \n",
       " 1982  e790e644835b1ce52978b5992649e3609079d089 2013-12-26 23:11:57   \n",
       " 4747  43dae66d39a18d653ea6c51bef0d274cc811c560 2013-12-26 12:49:03   \n",
       " 2411  0176e58840fb0703b3bdcee384c48ce2d4e19868 2013-12-25 22:08:10   \n",
       " 4425  089b5d58eb831dcf20b006f34953312773a82615 2013-12-25 11:55:25   \n",
       " 3167  411db8535623ff1bd1d8d3e2043033a8b8a94af6 2013-12-24 17:31:00   \n",
       " 5372  d51e0b353d82deff44fc31cffe7d15423acc0253 2013-12-24 12:38:52   \n",
       " 3129  2cce78080e5a1c79a93e2f735bdc5caede3de067 2013-12-23 16:51:56   \n",
       " 3103  215b458de1a8b5e993c6155883a41bbdff36a278 2013-12-23 09:03:25   \n",
       " 3990  0798b6a186d5128d6342c651410d51a2c783f9a9 2013-12-22 21:37:33   \n",
       " 4406  05b20cfbedcc8419f1503d708324400bd38bacfa 2013-12-22 18:50:37   \n",
       " 4054  25229a2aa213a6c077b73e688a25fe4dc3bd0fee 2013-12-22 03:09:36   \n",
       " 4086  35bfd98065637afded284e543b8c5224cd823427 2013-12-22 00:58:55   \n",
       " 2696  118f5e2f45c160dd636efbf1b8ada9a26d134d03 2013-12-21 17:29:48   \n",
       " 2122  1e32cbaaba1960122dff0fb89ea07a128de7ef1d 2013-12-20 23:46:27   \n",
       " 4270  ac26cb54c0ccf27fadc63f15d07e3246fe4d2642 2013-12-20 17:02:29   \n",
       " 4563  231cd21a611a2f4ba4d2fd782e5b579e71a05df2 2013-12-20 13:06:42   \n",
       " 5422  e10760af5625b39a5bf77e1af9b02ad553e1acab 2013-12-19 16:18:44   \n",
       " 5480  f342191712bc72d0f171dacaf97021eb40607701 2013-12-19 09:51:53   \n",
       " 4352  f0a4c38a01eaf846ace6ab48a426b4cd45b2756f 2013-12-19 08:18:47   \n",
       " 3199  4a3942f8e42f3644e17e8b459d11253ebf1a8029 2013-12-18 16:28:32   \n",
       " 2246  2a96fc44848fa13f545753b166e8a28879898943 2013-12-18 15:57:48   \n",
       " 4787  4b02cb285fa031a66ba3893802c2e5df6a41b54b 2013-12-17 22:07:28   \n",
       " 4881  5d5015a061183bad5ba4d9466bb0ebfa66ba7f2e 2013-12-17 21:27:10   \n",
       " 3662  5d33b845b1ca4f9655bb1ed48fec9a8c487eaeb6 2013-12-17 20:45:14   \n",
       " ...                                        ...                 ...   \n",
       " 856   24dabfe777a30434ccbfc77d86d0a9d743c8a17b 1998-04-14 19:56:15   \n",
       " 429   5e8873da77bfc73b744c8ef257eede9cce53c04f 1998-04-14 19:26:42   \n",
       " 1285  069d7fbce4c27ff1d7866e0732fff1ccbd6a6476 1998-04-14 18:14:55   \n",
       " 1194  6565db00622ee1261c295d44f8b883a2f363df1c 1998-04-14 17:29:44   \n",
       " 799   47ac23f0868d747b6d9d61c596c226fbee59919e 1998-04-14 16:53:16   \n",
       " 436   8426e77b1adabfc17cf61da651a0194683856612 1998-04-14 01:49:20   \n",
       " 800   97546fd53af5fa01ce7090030f41a94f7157a22b 1998-04-14 01:24:06   \n",
       " 489   a2522930974eb40699e11ecf43ff2d51799161d4 1998-04-14 00:31:59   \n",
       " 830   fe5fd18b94c889e8934bfbabbd976f5ea6686443 1998-04-13 23:58:48   \n",
       " 827   9861a7175cf51bf91a8c627eead1ccee3081dabd 1998-04-13 23:56:35   \n",
       " 1092  c939ef8317b162b4daaad54fdfd77ceaad6fd4ce 1998-04-13 21:07:10   \n",
       " 114   4782bfeacd4153cda87b5f1111afee53ac1187ee 1998-04-13 20:24:54   \n",
       " 1270  e7e12cca5bb66ad7d4a40d7f1f8f66f0082e7324 1998-04-09 03:54:33   \n",
       " 1294  38a3bfe8ad27c5843eb55868ae23422db0b971c8 1998-04-09 00:07:08   \n",
       " 738   887002ff63d3f1b7a54ed99ca39aa8422e660f15 1998-04-08 21:23:19   \n",
       " 448   d2d0ee7863d5a2400c69c490942ce407385d185b 1998-04-08 04:20:39   \n",
       " 845   3320ad91ab9ba8156863b4e8d3ca0b7ddcf11dde 1998-04-08 04:04:58   \n",
       " 1634  7e6e1bd0112ae67da0fb5256daec2ef7adad9778 1998-04-08 01:47:23   \n",
       " 835   52d75e285d275e0b47723fedf669281f00ddde2e 1998-04-07 23:30:24   \n",
       " 331   431b3b9443363d840dc45885370dce1ebf0bb6df 1998-04-07 20:41:06   \n",
       " 569   856e9a14c44a9e771c6f940145b26575c81e2228 1998-04-07 20:36:46   \n",
       " 499   2ca3b7c9678c67a58174dbc2e5e91f2a04b019e6 1998-04-06 23:54:42   \n",
       " 1114  d95d6e15648451cfc45885ee0de13b85f412403a 1998-03-30 23:59:41   \n",
       " 798   2a205325afe7a7ba7f2e44ab0b0f7a0dc5a9de00 1998-03-30 23:30:00   \n",
       " 975   c612c17daa0436547fdf8dde7038b13ddc77f0d9 1998-03-30 23:15:36   \n",
       " 3973  fee82d83c32b57da8be70bb1a60fdd18945a4d89 1998-03-30 01:59:34   \n",
       " 914   360bda5d687dec2cadfb804f08c53e32c9a00a27 1998-03-29 21:51:40   \n",
       " 1644  be4def1ae593ac3e9a3e6a7d3eb847e93bb21bb2 1998-03-28 02:44:41   \n",
       " 2316  ea866ddbc4b20d4f191bcdecd514b76e22341c39 1998-03-28 00:00:00   \n",
       " 4060  290509554a8d2cd7f0c6f5cfb1c1048e86615fb2 1998-03-27 00:00:00   \n",
       " \n",
       "              last_commit      org                             project  \\\n",
       " 4446 2014-01-01 02:41:20  Unknown  Mozilla Local/Regional communities   \n",
       " 4354 2013-12-31 14:19:36  Unknown                                Rust   \n",
       " 4914 2013-12-29 16:06:55  Unknown                             Unknown   \n",
       " 5301 2013-12-29 12:21:26  Unknown                      Web Properties   \n",
       " 5219 2013-12-28 18:01:53  Unknown                                Rust   \n",
       " 3760 2013-12-27 14:39:55  Unknown                             Unknown   \n",
       " 1982 2013-12-30 22:14:54  Unknown  Mozilla Local/Regional communities   \n",
       " 4747 2013-12-26 12:49:03  Unknown                             Unknown   \n",
       " 2411 2013-12-30 19:51:51  Unknown                             Unknown   \n",
       " 4425 2013-12-25 11:55:25  Unknown                      Web Properties   \n",
       " 3167 2013-12-24 17:31:00  Unknown                             Unknown   \n",
       " 5372 2013-12-24 12:38:52  Unknown                             Unknown   \n",
       " 3129 2013-12-23 16:51:56  Unknown                               Gecko   \n",
       " 3103 2013-12-23 09:03:25  Unknown                             Unknown   \n",
       " 3990 2013-12-22 21:38:55  Unknown                                Rust   \n",
       " 4406 2013-12-22 18:50:37  Unknown  Mozilla Local/Regional communities   \n",
       " 4054 2013-12-26 17:23:17  Unknown                        Web Literacy   \n",
       " 4086 2013-12-29 00:14:43  Unknown                             Unknown   \n",
       " 2696 2013-12-31 00:51:11  Unknown                                Rust   \n",
       " 2122 2013-12-22 05:16:38  Unknown                      Web Properties   \n",
       " 4270 2013-12-31 08:22:53  Unknown                             Unknown   \n",
       " 4563 2013-12-20 13:06:42  Unknown                             Unknown   \n",
       " 5422 2013-12-19 16:18:44  Unknown                             Unknown   \n",
       " 5480 2013-12-19 09:51:53  Unknown                      Web Properties   \n",
       " 4352 2013-12-28 22:33:29  Unknown                             Unknown   \n",
       " 3199 2013-12-18 16:28:32  Unknown                             Unknown   \n",
       " 2246 2013-12-23 11:27:16  Unknown                             Firefox   \n",
       " 4787 2013-12-17 22:07:28  Unknown                        Web Literacy   \n",
       " 4881 2013-12-17 21:27:10  Unknown                             Unknown   \n",
       " 3662 2013-12-20 15:28:38  Unknown                             Unknown   \n",
       " ...                  ...      ...                                 ...   \n",
       " 856  1998-07-10 13:25:36  Unknown                             Unknown   \n",
       " 429  1998-07-10 17:29:03  Unknown                             Unknown   \n",
       " 1285 1998-05-15 18:49:17  Unknown                               Gecko   \n",
       " 1194 1998-06-09 22:41:49  Unknown                               Gecko   \n",
       " 799  1998-07-14 22:52:07  Unknown                               Gecko   \n",
       " 436  1998-07-14 18:43:47  Unknown                             Unknown   \n",
       " 800  1998-07-09 23:00:29  Unknown                             Unknown   \n",
       " 489  1998-07-15 17:04:56  Unknown                               Gecko   \n",
       " 830  1998-07-15 16:33:40  Unknown                             Unknown   \n",
       " 827  1998-07-15 00:37:11  Unknown                             Unknown   \n",
       " 1092 1998-05-27 07:33:12  Unknown                             Unknown   \n",
       " 114  1998-07-15 18:55:53  Unknown                             Unknown   \n",
       " 1270 1998-05-28 18:20:00  Unknown                             Unknown   \n",
       " 1294 1998-07-01 22:36:44  Unknown                             Unknown   \n",
       " 738  1998-07-02 02:39:54  Unknown                               Gecko   \n",
       " 448  1998-07-15 10:34:34  Unknown                             Unknown   \n",
       " 845  1998-07-09 02:19:37  Unknown                               Gecko   \n",
       " 1634 1998-06-23 02:32:45  Unknown                             Unknown   \n",
       " 835  1998-07-09 16:42:08  Unknown                             Unknown   \n",
       " 331  1998-07-15 17:03:53  Unknown                             Unknown   \n",
       " 569  1998-07-01 05:13:10  Unknown                               Gecko   \n",
       " 499  1998-07-10 22:19:56  Unknown                             Unknown   \n",
       " 1114 1998-07-15 17:26:32  Unknown                               Gecko   \n",
       " 798  1998-07-10 17:22:06  Unknown                             Unknown   \n",
       " 975  1998-07-02 20:03:03  Unknown                             Unknown   \n",
       " 3973 1998-03-30 01:59:34  Unknown                               Gecko   \n",
       " 914  1998-07-14 21:13:23  Unknown                             Unknown   \n",
       " 1644 1998-06-22 21:28:47  Unknown                             Unknown   \n",
       " 2316 2013-01-13 00:00:00  Unknown                             Unknown   \n",
       " 4060 1998-03-27 00:00:00  Unknown                             Unknown   \n",
       " \n",
       "       active_years  \n",
       " 4446           0.0  \n",
       " 4354           0.0  \n",
       " 4914           0.0  \n",
       " 5301           0.0  \n",
       " 5219           0.0  \n",
       " 3760           0.0  \n",
       " 1982           0.0  \n",
       " 4747           0.0  \n",
       " 2411           0.0  \n",
       " 4425           0.0  \n",
       " 3167           0.0  \n",
       " 5372           0.0  \n",
       " 3129           0.0  \n",
       " 3103           0.0  \n",
       " 3990           0.0  \n",
       " 4406           0.0  \n",
       " 4054           0.0  \n",
       " 4086           0.0  \n",
       " 2696           0.0  \n",
       " 2122           0.0  \n",
       " 4270           0.0  \n",
       " 4563           0.0  \n",
       " 5422           0.0  \n",
       " 5480           0.0  \n",
       " 4352           0.0  \n",
       " 3199           0.0  \n",
       " 2246           0.0  \n",
       " 4787           0.0  \n",
       " 4881           0.0  \n",
       " 3662           0.0  \n",
       " ...            ...  \n",
       " 856            0.0  \n",
       " 429            0.0  \n",
       " 1285           0.0  \n",
       " 1194           0.0  \n",
       " 799            0.0  \n",
       " 436            0.0  \n",
       " 800            0.0  \n",
       " 489            0.0  \n",
       " 830            0.0  \n",
       " 827            0.0  \n",
       " 1092           0.0  \n",
       " 114            0.0  \n",
       " 1270           0.0  \n",
       " 1294           0.0  \n",
       " 738            0.0  \n",
       " 448            0.0  \n",
       " 845            0.0  \n",
       " 1634           0.0  \n",
       " 835            0.0  \n",
       " 331            0.0  \n",
       " 569            0.0  \n",
       " 499            0.0  \n",
       " 1114           0.0  \n",
       " 798            0.0  \n",
       " 975            0.0  \n",
       " 3973           0.0  \n",
       " 914            0.0  \n",
       " 1644           0.0  \n",
       " 2316          14.0  \n",
       " 4060           0.0  \n",
       " \n",
       " [5522 rows x 6 columns],\n",
       "                                         author        first_commit  \\\n",
       " 3522  24e10253bff84bb4d642ea7026d30c953bc79088 2012-12-31 14:05:14   \n",
       " 3657  49c388a464c649a9b37512d9307b7b5b34119677 2012-12-31 09:59:45   \n",
       " 3835  81479cb76cef65e867fd7a6200a1c4a6a102c5c7 2012-12-30 11:49:08   \n",
       " 4103  e2d2202611433dc0f84eca191d01504d671a1848 2012-12-28 14:57:42   \n",
       " 2509  0c717f8c3633e3644afe133b78869d500687d011 2012-12-28 13:07:52   \n",
       " 3822  7dfcfddc8601e4632d5600cb6b7e177962f9562d 2012-12-28 09:24:47   \n",
       " 3801  75fdabe6c84a92b979d62026543c1c545941d5fa 2012-12-28 09:08:12   \n",
       " 3972  b19d3a8953ed73b84b918b1c8b40bd2e3282f3c2 2012-12-28 06:09:13   \n",
       " 3089  e80ab681dde25dcce80f487f1c0e1f65b7051a1f 2012-12-27 20:32:53   \n",
       " 2695  01a14606592290bfe66f59142ecba9c1aa592c11 2012-12-27 12:08:23   \n",
       " 1642  8335dcac02a61d62427b153b7904f0dea49f4413 2012-12-27 11:12:05   \n",
       " 4111  e885659e1ba02886b3188babaa0f478c85769f68 2012-12-27 06:16:16   \n",
       " 3163  23e3f2d89f795deea516f720f4e5205a737d5370 2012-12-24 19:05:39   \n",
       " 2482  e10953f7e8962a0eb0a62cddf8b0c066e684b82b 2012-12-24 18:52:53   \n",
       " 2109  b7d0be16dd93d359792a5281cb6712184fcfdb6f 2012-12-24 18:35:52   \n",
       " 4033  cb11e49e6ce330c5ab42627a82c3bdd698051138 2012-12-23 10:59:43   \n",
       " 2158  033011d52b8712ae6f0bc2b3ea12373066fac378 2012-12-23 10:59:43   \n",
       " 2469  c8cc26b44a5fd485dbd5b051cb7c676f7bb28948 2012-12-23 10:52:35   \n",
       " 3400  040d9150581ebbebea345e88387cc2158f994510 2012-12-23 03:01:00   \n",
       " 2604  69be7684d1380c8f7b89aba642c3e70fbf461ae4 2012-12-22 23:51:49   \n",
       " 3729  61bdb2e0d0dfe71dc8a21b293ef115c5366228de 2012-12-22 12:40:27   \n",
       " 3690  548cc8159002e2c92c622c76c3b4de3798a43009 2012-12-21 23:43:12   \n",
       " 3707  5a4a4200a4b893b2b3b3ea1496314284b88f298b 2012-12-21 23:13:06   \n",
       " 3222  4c591730c63d12af7e7076297430ce9af8546206 2012-12-21 19:30:33   \n",
       " 2000  0dd673348d8356e128a25364e43d8cbe7e06d58d 2012-12-20 22:29:45   \n",
       " 3017  b7b465949002f62d2478f9f07ac0ccf59aa5c132 2012-12-20 18:27:57   \n",
       " 2526  1fbd9c0f2a09b1a98ba5cdba6139383cc14e83d9 2012-12-20 16:26:52   \n",
       " 2578  499d758dfdc26e3bfbbab25c880ac2beccdcabc0 2012-12-19 23:43:17   \n",
       " 2311  4497969692bf2af671f6b86c651c50fe4ea22a32 2012-12-19 16:25:44   \n",
       " 2596  61827734632712bf086cd91f29f28eee4208a5ce 2012-12-19 16:11:19   \n",
       " ...                                        ...                 ...   \n",
       " 784   24dabfe777a30434ccbfc77d86d0a9d743c8a17b 1998-04-14 19:56:15   \n",
       " 395   5e8873da77bfc73b744c8ef257eede9cce53c04f 1998-04-14 19:26:42   \n",
       " 1143  069d7fbce4c27ff1d7866e0732fff1ccbd6a6476 1998-04-14 18:14:55   \n",
       " 1073  6565db00622ee1261c295d44f8b883a2f363df1c 1998-04-14 17:29:44   \n",
       " 732   47ac23f0868d747b6d9d61c596c226fbee59919e 1998-04-14 16:53:16   \n",
       " 402   8426e77b1adabfc17cf61da651a0194683856612 1998-04-14 01:49:20   \n",
       " 733   97546fd53af5fa01ce7090030f41a94f7157a22b 1998-04-14 01:24:06   \n",
       " 455   a2522930974eb40699e11ecf43ff2d51799161d4 1998-04-14 00:31:59   \n",
       " 758   fe5fd18b94c889e8934bfbabbd976f5ea6686443 1998-04-13 23:58:48   \n",
       " 756   9861a7175cf51bf91a8c627eead1ccee3081dabd 1998-04-13 23:56:35   \n",
       " 993   c939ef8317b162b4daaad54fdfd77ceaad6fd4ce 1998-04-13 21:07:10   \n",
       " 111   4782bfeacd4153cda87b5f1111afee53ac1187ee 1998-04-13 20:24:54   \n",
       " 1131  e7e12cca5bb66ad7d4a40d7f1f8f66f0082e7324 1998-04-09 03:54:33   \n",
       " 1151  38a3bfe8ad27c5843eb55868ae23422db0b971c8 1998-04-09 00:07:08   \n",
       " 685   887002ff63d3f1b7a54ed99ca39aa8422e660f15 1998-04-08 21:23:19   \n",
       " 410   d2d0ee7863d5a2400c69c490942ce407385d185b 1998-04-08 04:20:39   \n",
       " 775   3320ad91ab9ba8156863b4e8d3ca0b7ddcf11dde 1998-04-08 04:04:58   \n",
       " 1424  7e6e1bd0112ae67da0fb5256daec2ef7adad9778 1998-04-08 01:47:23   \n",
       " 764   52d75e285d275e0b47723fedf669281f00ddde2e 1998-04-07 23:30:24   \n",
       " 311   431b3b9443363d840dc45885370dce1ebf0bb6df 1998-04-07 20:41:06   \n",
       " 532   856e9a14c44a9e771c6f940145b26575c81e2228 1998-04-07 20:36:46   \n",
       " 463   2ca3b7c9678c67a58174dbc2e5e91f2a04b019e6 1998-04-06 23:54:42   \n",
       " 1009  d95d6e15648451cfc45885ee0de13b85f412403a 1998-03-30 23:59:41   \n",
       " 731   2a205325afe7a7ba7f2e44ab0b0f7a0dc5a9de00 1998-03-30 23:30:00   \n",
       " 886   c612c17daa0436547fdf8dde7038b13ddc77f0d9 1998-03-30 23:15:36   \n",
       " 3116  fee82d83c32b57da8be70bb1a60fdd18945a4d89 1998-03-30 01:59:34   \n",
       " 831   360bda5d687dec2cadfb804f08c53e32c9a00a27 1998-03-29 21:51:40   \n",
       " 1433  be4def1ae593ac3e9a3e6a7d3eb847e93bb21bb2 1998-03-28 02:44:41   \n",
       " 1982  ea866ddbc4b20d4f191bcdecd514b76e22341c39 1998-03-28 00:00:00   \n",
       " 3171  290509554a8d2cd7f0c6f5cfb1c1048e86615fb2 1998-03-27 00:00:00   \n",
       " \n",
       "              last_commit           org                  project  active_years  \n",
       " 3522 2012-12-31 14:05:14       Unknown             Web Literacy           0.0  \n",
       " 3657 2012-12-31 09:59:45       Unknown           Web Properties           0.0  \n",
       " 3835 2012-12-30 11:49:08       Unknown                     Rust           0.0  \n",
       " 4103 2012-12-28 14:57:42       Unknown                     Rust           0.0  \n",
       " 2509 2012-12-28 13:07:52       Unknown                  Unknown           0.0  \n",
       " 3822 2012-12-28 09:24:47       Unknown    Addons/Web Extensions           0.0  \n",
       " 3801 2012-12-28 09:08:12       Unknown      Release engineering           0.0  \n",
       " 3972 2012-12-28 06:09:13       Unknown                     Rust           0.0  \n",
       " 3089 2012-12-27 20:32:53       Unknown                  Unknown           0.0  \n",
       " 2695 2012-12-27 12:08:23       Unknown                  Unknown           0.0  \n",
       " 1642 2012-12-27 11:12:06       Unknown                  Unknown           0.0  \n",
       " 4111 2012-12-27 06:16:16       Unknown                     Rust           0.0  \n",
       " 3163 2012-12-24 19:05:39       Unknown           Web Properties           0.0  \n",
       " 2482 2012-12-29 18:25:09       Unknown                     Rust           0.0  \n",
       " 2109 2012-12-27 07:57:19       Unknown                  Unknown           0.0  \n",
       " 4033 2012-12-23 10:59:43       Unknown                  Unknown           0.0  \n",
       " 2158 2012-12-23 10:59:43       Unknown                    Gecko           0.0  \n",
       " 2469 2012-12-23 10:52:35       Unknown                  Firefox           0.0  \n",
       " 3400 2012-12-23 03:01:00       Unknown                  Unknown           0.0  \n",
       " 2604 2012-12-22 23:58:27       Unknown                     Rust           0.0  \n",
       " 3729 2012-12-22 12:40:27  Mozilla Reps    Addons/Web Extensions           0.0  \n",
       " 3690 2012-12-21 23:43:12       Unknown  Firefox OS (FxOS / B2G)           0.0  \n",
       " 3707 2012-12-21 23:13:06       Unknown                     Rust           0.0  \n",
       " 3222 2012-12-27 19:07:05       Unknown                     Rust           0.0  \n",
       " 2000 2012-12-31 18:44:51       Unknown                  Unknown           0.0  \n",
       " 3017 2012-12-28 18:27:59       Unknown                  Unknown           0.0  \n",
       " 2526 2012-12-20 16:26:52       Unknown                    Gecko           0.0  \n",
       " 2578 2012-12-20 02:23:55       Unknown                  Unknown           0.0  \n",
       " 2311 2012-12-19 18:24:44       Unknown             Web Literacy           0.0  \n",
       " 2596 2012-12-19 16:11:19       Unknown                  Unknown           0.0  \n",
       " ...                  ...           ...                      ...           ...  \n",
       " 784  1998-07-10 13:25:36       Unknown                  Unknown           0.0  \n",
       " 395  1998-07-10 17:29:03       Unknown                  Unknown           0.0  \n",
       " 1143 1998-05-15 18:49:17       Unknown                    Gecko           0.0  \n",
       " 1073 1998-06-09 22:41:49       Unknown                    Gecko           0.0  \n",
       " 732  1998-07-14 22:52:07       Unknown                    Gecko           0.0  \n",
       " 402  1998-07-14 18:43:47       Unknown                  Unknown           0.0  \n",
       " 733  1998-07-09 23:00:29       Unknown                  Unknown           0.0  \n",
       " 455  1998-07-15 17:04:56       Unknown                    Gecko           0.0  \n",
       " 758  1998-07-15 16:33:40       Unknown                  Unknown           0.0  \n",
       " 756  1998-07-15 00:37:11       Unknown                  Unknown           0.0  \n",
       " 993  1998-05-27 07:33:12       Unknown                  Unknown           0.0  \n",
       " 111  1998-07-15 18:55:53       Unknown                  Unknown           0.0  \n",
       " 1131 1998-05-28 18:20:00       Unknown                  Unknown           0.0  \n",
       " 1151 1998-07-01 22:36:44       Unknown                  Unknown           0.0  \n",
       " 685  1998-07-02 02:39:54       Unknown                    Gecko           0.0  \n",
       " 410  1998-07-15 10:34:34       Unknown                  Unknown           0.0  \n",
       " 775  1998-07-09 02:19:37       Unknown                    Gecko           0.0  \n",
       " 1424 1998-06-23 02:32:45       Unknown                  Unknown           0.0  \n",
       " 764  1998-07-09 16:42:08       Unknown                  Unknown           0.0  \n",
       " 311  1998-07-15 17:03:53       Unknown                  Unknown           0.0  \n",
       " 532  1998-07-01 05:13:10       Unknown                    Gecko           0.0  \n",
       " 463  1998-07-10 22:19:56       Unknown                  Unknown           0.0  \n",
       " 1009 1998-07-15 17:26:32       Unknown                    Gecko           0.0  \n",
       " 731  1998-07-10 17:22:06       Unknown                  Unknown           0.0  \n",
       " 886  1998-07-02 20:03:03       Unknown                  Unknown           0.0  \n",
       " 3116 1998-03-30 01:59:34       Unknown                    Gecko           0.0  \n",
       " 831  1998-07-14 21:13:23       Unknown                  Unknown           0.0  \n",
       " 1433 1998-06-22 21:28:47       Unknown                  Unknown           0.0  \n",
       " 1982 2012-01-15 00:00:00       Unknown                  Unknown          13.0  \n",
       " 3171 1998-03-27 00:00:00       Unknown                  Unknown           0.0  \n",
       " \n",
       " [4163 rows x 6 columns],\n",
       "                                         author        first_commit  \\\n",
       " 2216  06ef90ab84fbec3bbd1582fab64095e17dc61287 2011-12-31 00:30:42   \n",
       " 2006  7b9cc206f9b4b15ad1ad04e2824b66fc5616c09a 2011-12-30 20:14:37   \n",
       " 3107  a79cbe9e952134580b1716fbaa734d278f8d5e6c 2011-12-30 16:50:15   \n",
       " 2700  0191967e28320c8827e762ac0ccaf1847abffcc8 2011-12-30 16:18:55   \n",
       " 2394  9d7508f3c12c437f6975e6c011ad526b77243867 2011-12-29 12:15:49   \n",
       " 1886  214fa17554176d270e0e58002384801014eec051 2011-12-28 16:25:54   \n",
       " 2788  2311941cbfb20e4589a88f8ff5122c026d1e9d1c 2011-12-28 13:01:53   \n",
       " 1461  1a7d90f20ee36b17ef6486fc9615a4431d18fd20 2011-12-28 09:13:37   \n",
       " 1715  4c72cb8f3face449ae18e672913d0f09c3091a82 2011-12-27 11:49:11   \n",
       " 3202  d801317c150aac4e923139c49dd0a7e3b4141c7a 2011-12-25 23:16:03   \n",
       " 1756  886ff170a02f429e6fcb88bff08e82f62129daec 2011-12-23 16:02:47   \n",
       " 2334  6190ff9adbbd1332a838c2dbd784262ed482398b 2011-12-22 14:39:53   \n",
       " 2489  f3a4bcdcbf4739300077c5cbbf3f7adf38de0410 2011-12-22 11:32:27   \n",
       " 1373  9cc53a813d62cbe2ea124afd80b1f8294c9c3d87 2011-12-21 23:30:58   \n",
       " 2454  cdfcd0a9550e76172362db8985c9348b40be9cfe 2011-12-21 17:38:12   \n",
       " 2294  3778003a18e3b1a0c18b4baea3a648d2242a4f39 2011-12-21 13:25:56   \n",
       " 2095  1722607bca8033bfe5db1b4943c739f849d476e5 2011-12-21 12:57:15   \n",
       " 3192  d49c9db87b921e843f5d241b0cfec0c9007ddf76 2011-12-21 12:17:57   \n",
       " 1894  258cd5e246d1804cddaa1c6e6dffa8602d1bac5d 2011-12-20 20:03:16   \n",
       " 3150  bd2d639611fd5a6c567e3be6ce9fca70bf7d132c 2011-12-20 16:45:24   \n",
       " 2455  d1e07ca837397419f979b2146eaec6e2b2693a3a 2011-12-20 15:57:45   \n",
       " 1287  fc0b2608dc70214afc0cd041404fa4850f562ba9 2011-12-20 15:14:18   \n",
       " 2226  0e3dc8aa67adb8e8a245510c4881653b4bda27af 2011-12-20 12:32:14   \n",
       " 2004  76e591ca9b40a176ab3f90007a1a32f7c9d024de 2011-12-20 09:25:13   \n",
       " 1221  9aeda4e1df73d5b838b1c14cd8a881624f34bb9a 2011-12-19 22:11:45   \n",
       " 2594  682bc3d2b3eb929ff0d188714631e147b797f72f 2011-12-19 15:08:43   \n",
       " 2525  196224c60e3acaa96bc5fedffb5f78e8366dcccb 2011-12-19 09:30:45   \n",
       " 2641  a95845bb631826e484e56bf22de1897f356ea6f8 2011-12-18 22:32:04   \n",
       " 1910  2e519fe99d46cfa08b88a65c5c9890b2d2911cbb 2011-12-18 21:53:03   \n",
       " 2684  e9929cf8b7e50f009d7681c5515ebc3c6f7c592c 2011-12-18 18:13:50   \n",
       " ...                                        ...                 ...   \n",
       " 726   24dabfe777a30434ccbfc77d86d0a9d743c8a17b 1998-04-14 19:56:15   \n",
       " 372   5e8873da77bfc73b744c8ef257eede9cce53c04f 1998-04-14 19:26:42   \n",
       " 1029  069d7fbce4c27ff1d7866e0732fff1ccbd6a6476 1998-04-14 18:14:55   \n",
       " 971   6565db00622ee1261c295d44f8b883a2f363df1c 1998-04-14 17:29:44   \n",
       " 679   47ac23f0868d747b6d9d61c596c226fbee59919e 1998-04-14 16:53:16   \n",
       " 376   8426e77b1adabfc17cf61da651a0194683856612 1998-04-14 01:49:20   \n",
       " 680   97546fd53af5fa01ce7090030f41a94f7157a22b 1998-04-14 01:24:06   \n",
       " 426   a2522930974eb40699e11ecf43ff2d51799161d4 1998-04-14 00:31:59   \n",
       " 703   fe5fd18b94c889e8934bfbabbd976f5ea6686443 1998-04-13 23:58:48   \n",
       " 701   9861a7175cf51bf91a8c627eead1ccee3081dabd 1998-04-13 23:56:35   \n",
       " 904   c939ef8317b162b4daaad54fdfd77ceaad6fd4ce 1998-04-13 21:07:10   \n",
       " 105   4782bfeacd4153cda87b5f1111afee53ac1187ee 1998-04-13 20:24:54   \n",
       " 1018  e7e12cca5bb66ad7d4a40d7f1f8f66f0082e7324 1998-04-09 03:54:33   \n",
       " 1033  38a3bfe8ad27c5843eb55868ae23422db0b971c8 1998-04-09 00:07:08   \n",
       " 629   887002ff63d3f1b7a54ed99ca39aa8422e660f15 1998-04-08 21:23:19   \n",
       " 381   d2d0ee7863d5a2400c69c490942ce407385d185b 1998-04-08 04:20:39   \n",
       " 717   3320ad91ab9ba8156863b4e8d3ca0b7ddcf11dde 1998-04-08 04:04:58   \n",
       " 1246  7e6e1bd0112ae67da0fb5256daec2ef7adad9778 1998-04-08 01:47:23   \n",
       " 706   52d75e285d275e0b47723fedf669281f00ddde2e 1998-04-07 23:30:24   \n",
       " 297   431b3b9443363d840dc45885370dce1ebf0bb6df 1998-04-07 20:41:06   \n",
       " 489   856e9a14c44a9e771c6f940145b26575c81e2228 1998-04-07 20:36:46   \n",
       " 430   2ca3b7c9678c67a58174dbc2e5e91f2a04b019e6 1998-04-06 23:54:42   \n",
       " 920   d95d6e15648451cfc45885ee0de13b85f412403a 1998-03-30 23:59:41   \n",
       " 677   2a205325afe7a7ba7f2e44ab0b0f7a0dc5a9de00 1998-03-30 23:30:00   \n",
       " 813   c612c17daa0436547fdf8dde7038b13ddc77f0d9 1998-03-30 23:15:36   \n",
       " 2495  fee82d83c32b57da8be70bb1a60fdd18945a4d89 1998-03-30 01:59:34   \n",
       " 766   360bda5d687dec2cadfb804f08c53e32c9a00a27 1998-03-29 21:51:40   \n",
       " 1254  be4def1ae593ac3e9a3e6a7d3eb847e93bb21bb2 1998-03-28 02:44:41   \n",
       " 1802  ea866ddbc4b20d4f191bcdecd514b76e22341c39 1998-03-28 00:00:00   \n",
       " 2540  290509554a8d2cd7f0c6f5cfb1c1048e86615fb2 1998-03-27 00:00:00   \n",
       " \n",
       "              last_commit      org              project  active_years  \n",
       " 2216 2011-12-31 00:30:42  Unknown              Unknown           0.0  \n",
       " 2006 2011-12-30 20:14:37  Unknown              Unknown           0.0  \n",
       " 3107 2011-12-30 16:50:15  Unknown                 Rust           0.0  \n",
       " 2700 2011-12-30 16:18:55  Unknown                 Rust           0.0  \n",
       " 2394 2011-12-29 12:15:49  Unknown              Unknown           0.0  \n",
       " 1886 2011-12-28 16:25:54  Unknown              Unknown           0.0  \n",
       " 2788 2011-12-28 13:01:53  Unknown  Release engineering           0.0  \n",
       " 1461 2011-12-28 10:52:22  Unknown                Gecko           0.0  \n",
       " 1715 2011-12-28 19:57:12  Unknown              Unknown           0.0  \n",
       " 3202 2011-12-25 23:16:03  Unknown              Unknown           0.0  \n",
       " 1756 2011-12-23 18:28:31  Unknown         Web Literacy           0.0  \n",
       " 2334 2011-12-22 14:39:53  Unknown              Unknown           0.0  \n",
       " 2489 2011-12-22 11:32:27  Unknown              Unknown           0.0  \n",
       " 1373 2011-12-22 00:48:24  Unknown              Unknown           0.0  \n",
       " 2454 2011-12-21 17:38:12  Unknown              Unknown           0.0  \n",
       " 2294 2011-12-21 13:25:56  Unknown              Unknown           0.0  \n",
       " 2095 2011-12-21 14:30:36  Unknown              Unknown           0.0  \n",
       " 3192 2011-12-21 12:17:57  Unknown  Release engineering           0.0  \n",
       " 1894 2011-12-20 20:03:16  Unknown              Unknown           0.0  \n",
       " 3150 2011-12-20 16:45:24  Unknown              Unknown           0.0  \n",
       " 2455 2011-12-20 15:57:45  Unknown              Unknown           0.0  \n",
       " 1287 2011-12-29 21:03:28  Unknown                Servo           0.0  \n",
       " 2226 2011-12-22 10:58:44  Unknown       Web Properties           0.0  \n",
       " 2004 2011-12-20 09:25:13  Unknown              Unknown           0.0  \n",
       " 1221 2011-12-28 23:39:02  Unknown              Unknown           0.0  \n",
       " 2594 2011-12-29 18:05:35  Unknown              Unknown           0.0  \n",
       " 2525 2011-12-24 04:58:00  Unknown              Unknown           0.0  \n",
       " 2641 2011-12-20 01:18:13  Unknown              Unknown           0.0  \n",
       " 1910 2011-12-18 21:53:03  Unknown              Unknown           0.0  \n",
       " 2684 2011-12-19 20:06:41  Unknown              Unknown           0.0  \n",
       " ...                  ...      ...                  ...           ...  \n",
       " 726  1998-07-10 13:25:36  Unknown              Unknown           0.0  \n",
       " 372  1998-07-10 17:29:03  Unknown              Unknown           0.0  \n",
       " 1029 1998-05-15 18:49:17  Unknown                Gecko           0.0  \n",
       " 971  1998-06-09 22:41:49  Unknown                Gecko           0.0  \n",
       " 679  1998-07-14 22:52:07  Unknown                Gecko           0.0  \n",
       " 376  1998-07-14 18:43:47  Unknown              Unknown           0.0  \n",
       " 680  1998-07-09 23:00:29  Unknown              Unknown           0.0  \n",
       " 426  1998-07-15 17:04:56  Unknown                Gecko           0.0  \n",
       " 703  1998-07-15 16:33:40  Unknown              Unknown           0.0  \n",
       " 701  1998-07-15 00:37:11  Unknown              Unknown           0.0  \n",
       " 904  1998-05-27 07:33:12  Unknown              Unknown           0.0  \n",
       " 105  1998-07-15 18:55:53  Unknown              Unknown           0.0  \n",
       " 1018 1998-05-28 18:20:00  Unknown              Unknown           0.0  \n",
       " 1033 1998-07-01 22:36:44  Unknown              Unknown           0.0  \n",
       " 629  1998-07-02 02:39:54  Unknown                Gecko           0.0  \n",
       " 381  1998-07-15 10:34:34  Unknown              Unknown           0.0  \n",
       " 717  1998-07-09 02:19:37  Unknown                Gecko           0.0  \n",
       " 1246 1998-06-23 02:32:45  Unknown              Unknown           0.0  \n",
       " 706  1998-07-09 16:42:08  Unknown              Unknown           0.0  \n",
       " 297  1998-07-15 17:03:53  Unknown              Unknown           0.0  \n",
       " 489  1998-07-01 05:13:10  Unknown                Gecko           0.0  \n",
       " 430  1998-07-10 22:19:56  Unknown              Unknown           0.0  \n",
       " 920  1998-07-15 17:26:32  Unknown                Gecko           0.0  \n",
       " 677  1998-07-10 17:22:06  Unknown              Unknown           0.0  \n",
       " 813  1998-07-02 20:03:03  Unknown              Unknown           0.0  \n",
       " 2495 1998-03-30 01:59:34  Unknown                Gecko           0.0  \n",
       " 766  1998-07-14 21:13:23  Unknown              Unknown           0.0  \n",
       " 1254 1998-06-22 21:28:47  Unknown              Unknown           0.0  \n",
       " 1802 2011-01-16 00:00:00  Unknown              Unknown          12.0  \n",
       " 2540 1998-03-27 00:00:00  Unknown              Unknown           0.0  \n",
       " \n",
       " [3268 rows x 6 columns],\n",
       "                                         author        first_commit  \\\n",
       " 1982  0754289bb29f666ea8069bbca0b33e6abb0c858a 2010-12-30 10:05:58   \n",
       " 1709  390b6d4e952298de7508833e379a875c9a806b1a 2010-12-29 19:22:18   \n",
       " 2473  e96c06e845d30cd59b0292192c2842cef50f7661 2010-12-29 19:22:18   \n",
       " 1968  eaa496a5813263a0d2ac862eeff4b4974f306f40 2010-12-26 17:32:04   \n",
       " 1795  13194e3518106adf2e9c8a763f30228be5a79f2d 2010-12-25 00:40:48   \n",
       " 2219  346a5c3e08d4542f3d94c63db153a690d6368bf5 2010-12-23 22:21:27   \n",
       " 1386  c990ba205bc76633db3cf19fa53ae175db1e13e8 2010-12-22 22:13:51   \n",
       " 1623  6f2862a44b9dd3fb46c418cd1d2f5699de7bb1da 2010-12-22 06:10:00   \n",
       " 2403  ad1e1bd9d9f9b6a1202f331a7ea983e363006a43 2010-12-21 18:27:33   \n",
       " 1803  19803f14becb2b6b311ca00f67b1b38a6cb4932d 2010-12-21 12:35:40   \n",
       " 2409  b1cd9afb29fbfe13fcd76cca62fe499e9b64c1a6 2010-12-21 11:36:39   \n",
       " 916   d61a0273230104344af3820498da86a536a91e2a 2010-12-20 18:48:46   \n",
       " 2296  62198af526ebdf34a0b4fcc63c3e123aed82c55c 2010-12-20 16:14:25   \n",
       " 2391  a27a2c06aceaf99a93e509c9078f201ec2539f11 2010-12-17 10:26:04   \n",
       " 2445  d49be663ba3d92a065667e99d78831b8e90e249a 2010-12-13 00:14:39   \n",
       " 1569  2d62d91a2febd1cef19579bb498a1009c3b0a7d9 2010-12-12 08:09:00   \n",
       " 1190  b1de93ea380fdce4639c2e6d4fdbb88b6b5899fa 2010-12-10 18:41:28   \n",
       " 1220  7228de2288571ea41d3ed69f0a29b6e986abfa6a 2010-12-09 12:39:15   \n",
       " 1676  e356029152a72b090c8411100b11c7307cd1541d 2010-12-09 11:52:03   \n",
       " 1170  14fce993c62c4e86cd8850c2493c7a9712c6c793 2010-12-08 17:02:58   \n",
       " 1400  7b9863d848c5afa0a188f55bdd44e9fe2ed7fec9 2010-12-08 16:26:21   \n",
       " 1970  f264f3d643675d86031cac719196c59cbe4f6ad0 2010-12-08 13:39:50   \n",
       " 2385  9f17847f5a7d8e90cec0796fc3a15ca00a0a6307 2010-12-07 22:58:08   \n",
       " 1900  862dc15536f0378aa6fc931444fc370e13a8b1a6 2010-12-07 18:44:21   \n",
       " 2287  5c2e2cdc1d4ac94456dafd50e86e5e4719d61f54 2010-12-07 11:46:31   \n",
       " 2357  89b479d9a38cbcb7b2b5ee04308e03483549719c 2010-12-06 12:28:05   \n",
       " 1690  0ff905a07e4f9998b0614889c406fe72f468f328 2010-12-05 17:10:45   \n",
       " 2180  1e3f35fcb2508c96b26506150edf48fc8ddc0b86 2010-12-05 15:29:54   \n",
       " 2132  03ddbe6e39b116b884c6b08378879aede13f7ffd 2010-12-05 15:26:00   \n",
       " 1836  3a4738fb30a47656d0d7f1c9de3c26641bbe92a3 2010-12-04 20:56:46   \n",
       " ...                                        ...                 ...   \n",
       " 659   24dabfe777a30434ccbfc77d86d0a9d743c8a17b 1998-04-14 19:56:15   \n",
       " 342   5e8873da77bfc73b744c8ef257eede9cce53c04f 1998-04-14 19:26:42   \n",
       " 917   069d7fbce4c27ff1d7866e0732fff1ccbd6a6476 1998-04-14 18:14:55   \n",
       " 872   6565db00622ee1261c295d44f8b883a2f363df1c 1998-04-14 17:29:44   \n",
       " 616   47ac23f0868d747b6d9d61c596c226fbee59919e 1998-04-14 16:53:16   \n",
       " 348   8426e77b1adabfc17cf61da651a0194683856612 1998-04-14 01:49:20   \n",
       " 617   97546fd53af5fa01ce7090030f41a94f7157a22b 1998-04-14 01:24:06   \n",
       " 387   a2522930974eb40699e11ecf43ff2d51799161d4 1998-04-14 00:31:59   \n",
       " 637   fe5fd18b94c889e8934bfbabbd976f5ea6686443 1998-04-13 23:58:48   \n",
       " 635   9861a7175cf51bf91a8c627eead1ccee3081dabd 1998-04-13 23:56:35   \n",
       " 814   c939ef8317b162b4daaad54fdfd77ceaad6fd4ce 1998-04-13 21:07:10   \n",
       " 102   4782bfeacd4153cda87b5f1111afee53ac1187ee 1998-04-13 20:24:54   \n",
       " 908   e7e12cca5bb66ad7d4a40d7f1f8f66f0082e7324 1998-04-09 03:54:33   \n",
       " 920   38a3bfe8ad27c5843eb55868ae23422db0b971c8 1998-04-09 00:07:08   \n",
       " 571   887002ff63d3f1b7a54ed99ca39aa8422e660f15 1998-04-08 21:23:19   \n",
       " 353   d2d0ee7863d5a2400c69c490942ce407385d185b 1998-04-08 04:20:39   \n",
       " 648   3320ad91ab9ba8156863b4e8d3ca0b7ddcf11dde 1998-04-08 04:04:58   \n",
       " 1095  7e6e1bd0112ae67da0fb5256daec2ef7adad9778 1998-04-08 01:47:23   \n",
       " 640   52d75e285d275e0b47723fedf669281f00ddde2e 1998-04-07 23:30:24   \n",
       " 277   431b3b9443363d840dc45885370dce1ebf0bb6df 1998-04-07 20:41:06   \n",
       " 446   856e9a14c44a9e771c6f940145b26575c81e2228 1998-04-07 20:36:46   \n",
       " 392   2ca3b7c9678c67a58174dbc2e5e91f2a04b019e6 1998-04-06 23:54:42   \n",
       " 828   d95d6e15648451cfc45885ee0de13b85f412403a 1998-03-30 23:59:41   \n",
       " 615   2a205325afe7a7ba7f2e44ab0b0f7a0dc5a9de00 1998-03-30 23:30:00   \n",
       " 743   c612c17daa0436547fdf8dde7038b13ddc77f0d9 1998-03-30 23:15:36   \n",
       " 1974  fee82d83c32b57da8be70bb1a60fdd18945a4d89 1998-03-30 01:59:34   \n",
       " 696   360bda5d687dec2cadfb804f08c53e32c9a00a27 1998-03-29 21:51:40   \n",
       " 1103  be4def1ae593ac3e9a3e6a7d3eb847e93bb21bb2 1998-03-28 02:44:41   \n",
       " 1679  ea866ddbc4b20d4f191bcdecd514b76e22341c39 1998-03-28 00:00:00   \n",
       " 2006  290509554a8d2cd7f0c6f5cfb1c1048e86615fb2 1998-03-27 00:00:00   \n",
       " \n",
       "              last_commit      org                project  active_years  \n",
       " 1982 2010-12-30 10:05:58  Unknown         Web Properties           0.0  \n",
       " 1709 2010-12-29 19:22:18  Unknown                  Gecko           0.0  \n",
       " 2473 2010-12-29 19:22:18  Unknown                Unknown           0.0  \n",
       " 1968 2010-12-26 17:32:04  Unknown                Unknown           0.0  \n",
       " 1795 2010-12-25 00:40:48  Unknown                Unknown           0.0  \n",
       " 2219 2010-12-23 22:21:27  Unknown                Unknown           0.0  \n",
       " 1386 2010-12-23 20:59:40  Unknown                  Servo           0.0  \n",
       " 1623 2010-12-22 06:10:00  Unknown                Unknown           0.0  \n",
       " 2403 2010-12-21 18:27:33  Unknown                Unknown           0.0  \n",
       " 1803 2010-12-21 12:35:40  Unknown                Unknown           0.0  \n",
       " 2409 2010-12-21 11:36:39  Unknown  Addons/Web Extensions           0.0  \n",
       " 916  2010-12-31 18:11:59  Unknown                  Servo           0.0  \n",
       " 2296 2010-12-20 16:14:25  Unknown    Release engineering           0.0  \n",
       " 2391 2010-12-17 10:26:04  Unknown                Unknown           0.0  \n",
       " 2445 2010-12-13 00:14:39  Unknown                Unknown           0.0  \n",
       " 1569 2010-12-12 08:09:00  Unknown                Unknown           0.0  \n",
       " 1190 2010-12-17 15:38:15  Unknown                Unknown           0.0  \n",
       " 1220 2010-12-16 18:31:55  Unknown                Unknown           0.0  \n",
       " 1676 2010-12-09 11:52:03  Unknown                 IT/Ops           0.0  \n",
       " 1170 2010-12-12 15:20:34  Unknown                Unknown           0.0  \n",
       " 1400 2010-12-27 22:10:19  Unknown                  Servo           0.0  \n",
       " 1970 2010-12-08 13:39:50  Unknown                Unknown           0.0  \n",
       " 2385 2010-12-07 22:58:08  Unknown                Unknown           0.0  \n",
       " 1900 2010-12-07 18:44:21  Unknown                Unknown           0.0  \n",
       " 2287 2010-12-07 11:46:31  Unknown                Unknown           0.0  \n",
       " 2357 2010-12-06 12:28:05  Unknown    Release engineering           0.0  \n",
       " 1690 2010-12-05 17:10:45  Unknown                Unknown           0.0  \n",
       " 2180 2010-12-05 15:29:54  Unknown                Unknown           0.0  \n",
       " 2132 2010-12-05 15:26:00  Unknown                Unknown           0.0  \n",
       " 1836 2010-12-05 17:22:06  Unknown                  Servo           0.0  \n",
       " ...                  ...      ...                    ...           ...  \n",
       " 659  1998-07-10 13:25:36  Unknown                Unknown           0.0  \n",
       " 342  1998-07-10 17:29:03  Unknown                Unknown           0.0  \n",
       " 917  1998-05-15 18:49:17  Unknown                  Gecko           0.0  \n",
       " 872  1998-06-09 22:41:49  Unknown                  Gecko           0.0  \n",
       " 616  1998-07-14 22:52:07  Unknown                  Gecko           0.0  \n",
       " 348  1998-07-14 18:43:47  Unknown                Unknown           0.0  \n",
       " 617  1998-07-09 23:00:29  Unknown                Unknown           0.0  \n",
       " 387  1998-07-15 17:04:56  Unknown                  Gecko           0.0  \n",
       " 637  1998-07-15 16:33:40  Unknown                Unknown           0.0  \n",
       " 635  1998-07-15 00:37:11  Unknown                Unknown           0.0  \n",
       " 814  1998-05-27 07:33:12  Unknown                Unknown           0.0  \n",
       " 102  1998-07-15 18:55:53  Unknown                Unknown           0.0  \n",
       " 908  1998-05-28 18:20:00  Unknown                Unknown           0.0  \n",
       " 920  1998-07-01 22:36:44  Unknown                Unknown           0.0  \n",
       " 571  1998-07-02 02:39:54  Unknown                  Gecko           0.0  \n",
       " 353  1998-07-15 10:34:34  Unknown                Unknown           0.0  \n",
       " 648  1998-07-09 02:19:37  Unknown                  Gecko           0.0  \n",
       " 1095 1998-06-23 02:32:45  Unknown                Unknown           0.0  \n",
       " 640  1998-07-09 16:42:08  Unknown                Unknown           0.0  \n",
       " 277  1998-07-15 17:03:53  Unknown                Unknown           0.0  \n",
       " 446  1998-07-01 05:13:10  Unknown                  Gecko           0.0  \n",
       " 392  1998-07-10 22:19:56  Unknown                Unknown           0.0  \n",
       " 828  1998-07-15 17:26:32  Unknown                  Gecko           0.0  \n",
       " 615  1998-07-10 17:22:06  Unknown                Unknown           0.0  \n",
       " 743  1998-07-02 20:03:03  Unknown                Unknown           0.0  \n",
       " 1974 1998-03-30 01:59:34  Unknown                  Gecko           0.0  \n",
       " 696  1998-07-14 21:13:23  Unknown                Unknown           0.0  \n",
       " 1103 1998-06-22 21:28:47  Unknown                Unknown           0.0  \n",
       " 1679 2010-05-16 00:00:00  Unknown                Unknown          12.0  \n",
       " 2006 1998-03-27 00:00:00  Unknown                Unknown           0.0  \n",
       " \n",
       " [2502 rows x 6 columns],\n",
       "                                         author        first_commit  \\\n",
       " 1725  283975961b195a8203bd20d62a137f05cafe2159 2009-12-30 20:56:55   \n",
       " 1397  08eb9b61296fefe0642d3245f6a83c5ff20e10d5 2009-12-30 20:56:55   \n",
       " 1542  b8783dbae657fdaa4473c7dfd59cc00ea6efbe2c 2009-12-30 10:06:40   \n",
       " 1882  be0691bd69e2dfa886e570aa6cf6d0fa41724e24 2009-12-29 10:41:57   \n",
       " 1393  021a997f0f8e7df25fd4cc441c5a5f047bee90af 2009-12-29 10:41:57   \n",
       " 1835  875d7e421058eb01d63020cf0b25882284b82cee 2009-12-29 08:47:09   \n",
       " 1729  2b35eb58e1ab3de2c248fb55eef7af356ebfb5c6 2009-12-29 01:54:02   \n",
       " 1824  796175d21c3af4f088eecd27d0e9e7d1702ee711 2009-12-28 15:40:00   \n",
       " 1759  426de298a8ffe146412e8ab69e6c610a5fccc306 2009-12-28 13:34:43   \n",
       " 1380  b1b12d2a256b0af293af6f3f4a185b7abe5cfdf0 2009-12-23 18:48:53   \n",
       " 1505  71e1e2511e8da7febefee5fd089b5d05c99a47f8 2009-12-22 14:52:40   \n",
       " 1386  ca0ad47c719b5a63d1ebbc0da428a4c62c541aaf 2009-12-21 21:50:30   \n",
       " 1925  f6eb98ee9c12bb79466551e87ee725f2b2badd5d 2009-12-18 21:34:20   \n",
       " 1474  2d3383d171ceb6c9504bd7a0a9634f768cb675b2 2009-12-18 16:17:10   \n",
       " 1791  5e8dab4b2f582831ac60c47c746ed05ab156b97a 2009-12-18 07:55:31   \n",
       " 1560  cb971dcafc5babbeca5893cb84e000f4f2d5605e 2009-12-18 01:08:10   \n",
       " 1294  0d6eafbcdfb2edff23dfd5db2c58b410dde1acf3 2009-12-17 14:09:17   \n",
       " 1670  024a4278b098530475fbcca7dd01ac2f3cce814a 2009-12-17 08:41:12   \n",
       " 1847  91efd58f90080b32b3baac0bdcbb602e4ac2bd2a 2009-12-16 21:02:17   \n",
       " 858   06f974f5a0690c837680dbd81d7d619ada51af10 2009-12-16 08:46:51   \n",
       " 1172  ad3a588802928ad496cf63d8f200779db1559586 2009-12-15 22:32:50   \n",
       " 1111  1b1cc00327b1b072091764b6cde284838e35812e 2009-12-15 18:16:12   \n",
       " 1715  2326a6cb66f303be2b6416eef4d6c4cb40bc92b3 2009-12-11 23:17:27   \n",
       " 1675  0483c9b83507a749513926f8ba85e5d89966010e 2009-12-11 21:03:00   \n",
       " 1844  8ff5b04524db1134a70e41fa3674a2bf40a5790d 2009-12-11 16:56:00   \n",
       " 1550  c0fba4c93cb1757c30abe258eb7954f72c70fdfd 2009-12-09 20:36:12   \n",
       " 1277  fe529271548f47128444b2fb520068442652fd0e 2009-12-07 16:18:43   \n",
       " 1797  638075128eecba360b7e64d524324bb1356bcc1b 2009-12-07 15:38:01   \n",
       " 1700  144cc8f0b3a1369480e3f64d3a5d1ab3405e7d5c 2009-12-07 15:10:04   \n",
       " 1705  18c9b58f334770fc05b7d82846bf258304b67dfa 2009-12-05 18:11:50   \n",
       " ...                                        ...                 ...   \n",
       " 604   24dabfe777a30434ccbfc77d86d0a9d743c8a17b 1998-04-14 19:56:15   \n",
       " 321   5e8873da77bfc73b744c8ef257eede9cce53c04f 1998-04-14 19:26:42   \n",
       " 839   069d7fbce4c27ff1d7866e0732fff1ccbd6a6476 1998-04-14 18:14:55   \n",
       " 797   6565db00622ee1261c295d44f8b883a2f363df1c 1998-04-14 17:29:44   \n",
       " 563   47ac23f0868d747b6d9d61c596c226fbee59919e 1998-04-14 16:53:16   \n",
       " 326   8426e77b1adabfc17cf61da651a0194683856612 1998-04-14 01:49:20   \n",
       " 564   97546fd53af5fa01ce7090030f41a94f7157a22b 1998-04-14 01:24:06   \n",
       " 361   a2522930974eb40699e11ecf43ff2d51799161d4 1998-04-14 00:31:59   \n",
       " 583   fe5fd18b94c889e8934bfbabbd976f5ea6686443 1998-04-13 23:58:48   \n",
       " 581   9861a7175cf51bf91a8c627eead1ccee3081dabd 1998-04-13 23:56:35   \n",
       " 745   c939ef8317b162b4daaad54fdfd77ceaad6fd4ce 1998-04-13 21:07:10   \n",
       " 96    4782bfeacd4153cda87b5f1111afee53ac1187ee 1998-04-13 20:24:54   \n",
       " 832   e7e12cca5bb66ad7d4a40d7f1f8f66f0082e7324 1998-04-09 03:54:33   \n",
       " 842   38a3bfe8ad27c5843eb55868ae23422db0b971c8 1998-04-09 00:07:08   \n",
       " 522   887002ff63d3f1b7a54ed99ca39aa8422e660f15 1998-04-08 21:23:19   \n",
       " 330   d2d0ee7863d5a2400c69c490942ce407385d185b 1998-04-08 04:20:39   \n",
       " 595   3320ad91ab9ba8156863b4e8d3ca0b7ddcf11dde 1998-04-08 04:04:58   \n",
       " 988   7e6e1bd0112ae67da0fb5256daec2ef7adad9778 1998-04-08 01:47:23   \n",
       " 586   52d75e285d275e0b47723fedf669281f00ddde2e 1998-04-07 23:30:24   \n",
       " 260   431b3b9443363d840dc45885370dce1ebf0bb6df 1998-04-07 20:41:06   \n",
       " 413   856e9a14c44a9e771c6f940145b26575c81e2228 1998-04-07 20:36:46   \n",
       " 365   2ca3b7c9678c67a58174dbc2e5e91f2a04b019e6 1998-04-06 23:54:42   \n",
       " 761   d95d6e15648451cfc45885ee0de13b85f412403a 1998-03-30 23:59:41   \n",
       " 562   2a205325afe7a7ba7f2e44ab0b0f7a0dc5a9de00 1998-03-30 23:30:00   \n",
       " 678   c612c17daa0436547fdf8dde7038b13ddc77f0d9 1998-03-30 23:15:36   \n",
       " 1578  fee82d83c32b57da8be70bb1a60fdd18945a4d89 1998-03-30 01:59:34   \n",
       " 636   360bda5d687dec2cadfb804f08c53e32c9a00a27 1998-03-29 21:51:40   \n",
       " 996   be4def1ae593ac3e9a3e6a7d3eb847e93bb21bb2 1998-03-28 02:44:41   \n",
       " 1662  ea866ddbc4b20d4f191bcdecd514b76e22341c39 1998-03-28 00:00:00   \n",
       " 1600  290509554a8d2cd7f0c6f5cfb1c1048e86615fb2 1998-03-27 00:00:00   \n",
       " \n",
       "              last_commit      org              project  active_years  \n",
       " 1725 2009-12-30 20:56:55  Unknown               IT/Ops           0.0  \n",
       " 1397 2009-12-30 20:56:55  Unknown              Unknown           0.0  \n",
       " 1542 2009-12-30 10:06:40  Unknown              Unknown           0.0  \n",
       " 1882 2009-12-29 10:41:57  Unknown               IT/Ops           0.0  \n",
       " 1393 2009-12-29 10:41:57  Unknown              Unknown           0.0  \n",
       " 1835 2009-12-29 08:47:09  Unknown                Servo           0.0  \n",
       " 1729 2009-12-29 01:54:02  Unknown       Web Properties           0.0  \n",
       " 1824 2009-12-28 15:40:00  Unknown              Unknown           0.0  \n",
       " 1759 2009-12-28 13:34:43  Unknown                Servo           0.0  \n",
       " 1380 2009-12-23 18:48:53  Unknown              Unknown           0.0  \n",
       " 1505 2009-12-22 14:52:40  Unknown              Unknown           0.0  \n",
       " 1386 2009-12-21 21:50:30  Unknown              Unknown           0.0  \n",
       " 1925 2009-12-18 21:34:20  Unknown               IT/Ops           0.0  \n",
       " 1474 2009-12-18 16:17:10  Unknown              Unknown           0.0  \n",
       " 1791 2009-12-18 07:55:31  Unknown              Unknown           0.0  \n",
       " 1560 2009-12-18 01:08:10  Unknown              Unknown           0.0  \n",
       " 1294 2009-12-22 19:51:52  Unknown              Unknown           0.0  \n",
       " 1670 2009-12-17 08:41:12  Unknown              Unknown           0.0  \n",
       " 1847 2009-12-16 21:02:17  Unknown              Unknown           0.0  \n",
       " 858  2009-12-31 08:39:41  Unknown              Unknown           0.0  \n",
       " 1172 2009-12-15 23:37:49  Unknown              Unknown           0.0  \n",
       " 1111 2009-12-15 18:16:12  Unknown                Gecko           0.0  \n",
       " 1715 2009-12-11 23:17:27  Unknown               IT/Ops           0.0  \n",
       " 1675 2009-12-11 21:03:00  Unknown              Unknown           0.0  \n",
       " 1844 2009-12-11 16:56:00  Unknown              Unknown           0.0  \n",
       " 1550 2009-12-09 20:36:12  Unknown              Unknown           0.0  \n",
       " 1277 2009-12-17 18:27:48  Unknown              Unknown           0.0  \n",
       " 1797 2009-12-07 15:38:01  Unknown              Unknown           0.0  \n",
       " 1700 2009-12-07 15:10:04  Unknown               IT/Ops           0.0  \n",
       " 1705 2009-12-05 18:11:50  Unknown  Release engineering           0.0  \n",
       " ...                  ...      ...                  ...           ...  \n",
       " 604  1998-07-10 13:25:36  Unknown              Unknown           0.0  \n",
       " 321  1998-07-10 17:29:03  Unknown              Unknown           0.0  \n",
       " 839  1998-05-15 18:49:17  Unknown                Gecko           0.0  \n",
       " 797  1998-06-09 22:41:49  Unknown                Gecko           0.0  \n",
       " 563  1998-07-14 22:52:07  Unknown                Gecko           0.0  \n",
       " 326  1998-07-14 18:43:47  Unknown              Unknown           0.0  \n",
       " 564  1998-07-09 23:00:29  Unknown              Unknown           0.0  \n",
       " 361  1998-07-15 17:04:56  Unknown                Gecko           0.0  \n",
       " 583  1998-07-15 16:33:40  Unknown              Unknown           0.0  \n",
       " 581  1998-07-15 00:37:11  Unknown              Unknown           0.0  \n",
       " 745  1998-05-27 07:33:12  Unknown              Unknown           0.0  \n",
       " 96   1998-07-15 18:55:53  Unknown              Unknown           0.0  \n",
       " 832  1998-05-28 18:20:00  Unknown              Unknown           0.0  \n",
       " 842  1998-07-01 22:36:44  Unknown              Unknown           0.0  \n",
       " 522  1998-07-02 02:39:54  Unknown                Gecko           0.0  \n",
       " 330  1998-07-15 10:34:34  Unknown              Unknown           0.0  \n",
       " 595  1998-07-09 02:19:37  Unknown                Gecko           0.0  \n",
       " 988  1998-06-23 02:32:45  Unknown              Unknown           0.0  \n",
       " 586  1998-07-09 16:42:08  Unknown              Unknown           0.0  \n",
       " 260  1998-07-15 17:03:53  Unknown              Unknown           0.0  \n",
       " 413  1998-07-01 05:13:10  Unknown                Gecko           0.0  \n",
       " 365  1998-07-10 22:19:56  Unknown              Unknown           0.0  \n",
       " 761  1998-07-15 17:26:32  Unknown                Gecko           0.0  \n",
       " 562  1998-07-10 17:22:06  Unknown              Unknown           0.0  \n",
       " 678  1998-07-02 20:03:03  Unknown              Unknown           0.0  \n",
       " 1578 1998-03-30 01:59:34  Unknown                Gecko           0.0  \n",
       " 636  1998-07-14 21:13:23  Unknown              Unknown           0.0  \n",
       " 996  1998-06-22 21:28:47  Unknown              Unknown           0.0  \n",
       " 1662 2009-06-27 00:00:00  Unknown              Unknown          11.0  \n",
       " 1600 1998-03-27 00:00:00  Unknown              Unknown           0.0  \n",
       " \n",
       " [1935 rows x 6 columns],\n",
       "                                         author        first_commit  \\\n",
       " 1439  772125018edfc4f7ce5da5fdf6656a38dbb66fd7 2008-12-31 04:44:37   \n",
       " 1103  093a64b646c83221b173e8ef465251bb1d65cbef 2008-12-30 20:45:05   \n",
       " 980   10f82a2f5ebf3da5bc68037e4bad3a669b528f2c 2008-12-27 23:52:30   \n",
       " 983   20e7f23e9576c36f1a455fb48d13abd525cb334e 2008-12-25 00:07:41   \n",
       " 1426  6ae0b5a896488b86514fc8d6d4a765b8eda43874 2008-12-23 01:04:06   \n",
       " 1129  363753cef9bfa0b99417f3ccf0dc4b5f1e2d9e1f 2008-12-22 13:08:38   \n",
       " 1317  50abe4649b259555ade5172f7ef779e477afbb7f 2008-12-21 14:41:17   \n",
       " 1029  200969715491172c61642f71dda830cf35287303 2008-12-21 14:41:17   \n",
       " 1150  8a6ff6c68fcc470517ade35e1bc955847894ef7b 2008-12-19 11:04:50   \n",
       " 1405  515e476cbd7d875455dc0543aef02111a0f29593 2008-12-18 19:36:34   \n",
       " 826   80a442754713059d35f4dd8922be5b7d5c8f6003 2008-12-17 14:42:41   \n",
       " 1202  d2f1e835934fc26e01227c1ebf2314a8ba96d7d3 2008-12-16 12:31:51   \n",
       " 1141  5688482be0044b8e88e4bf423328adad3698f043 2008-12-15 11:35:40   \n",
       " 1502  ef87869f72cd5bc5fd858ba8c4ebecd47876ee3e 2008-12-15 10:53:21   \n",
       " 1151  8d830c20b159d0b9dcea66f0f3573b5d9924a32f 2008-12-14 22:32:48   \n",
       " 1098  035e2f63ad1b509135c24467230c73d1484bd87c 2008-12-14 21:58:24   \n",
       " 1429  6c43d4e7f75fd8282ff3e6df9f1b3e32aeb468ba 2008-12-14 05:57:51   \n",
       " 1155  91d3d63c928a5ba4fb31b2541ea391fc9620f558 2008-12-13 12:21:50   \n",
       " 1390  35a4cd5990163491db35654411f9c552d827e0ee 2008-12-11 17:42:11   \n",
       " 1488  dd8f6925c590e9878519b6710226c575d2a10491 2008-12-10 11:07:45   \n",
       " 1384  2c8c9658ab114031e4eeea6531250ebc764bab76 2008-12-10 08:51:06   \n",
       " 1371  177b60d1081f3bfe157c72870c91fe70cacf4bc0 2008-12-07 14:34:53   \n",
       " 1117  1a4ed8f8488a22bc072ad9c2659bf6f4ec55578e 2008-12-06 19:39:47   \n",
       " 1146  62c4da6eb04fb4c5a16b9b6067f96d934eeec0da 2008-12-06 17:27:53   \n",
       " 1138  4c60480ad06e6a77f6c9d59111ae4073e53fcd11 2008-12-06 16:34:59   \n",
       " 1104  0a6b989ad42680713541fd595ed97fb3bc6c15ac 2008-12-06 14:15:24   \n",
       " 1367  12933cd911de258de66c9de30a370f44fe9ee916 2008-12-05 12:42:24   \n",
       " 1130  396161e264a11a404cf8f9b0f5b5664ab06d301b 2008-12-04 10:05:24   \n",
       " 1205  dc331b38ac1cda433f1f9737369c4483ca0536bc 2008-12-03 14:34:07   \n",
       " 1338  c44abe121b722b327d5d3973e6b3412ea1495e23 2008-12-02 09:56:26   \n",
       " ...                                        ...                 ...   \n",
       " 572   24dabfe777a30434ccbfc77d86d0a9d743c8a17b 1998-04-14 19:56:15   \n",
       " 304   5e8873da77bfc73b744c8ef257eede9cce53c04f 1998-04-14 19:26:42   \n",
       " 768   069d7fbce4c27ff1d7866e0732fff1ccbd6a6476 1998-04-14 18:14:55   \n",
       " 734   6565db00622ee1261c295d44f8b883a2f363df1c 1998-04-14 17:29:44   \n",
       " 535   47ac23f0868d747b6d9d61c596c226fbee59919e 1998-04-14 16:53:16   \n",
       " 309   8426e77b1adabfc17cf61da651a0194683856612 1998-04-14 01:49:20   \n",
       " 536   97546fd53af5fa01ce7090030f41a94f7157a22b 1998-04-14 01:24:06   \n",
       " 346   a2522930974eb40699e11ecf43ff2d51799161d4 1998-04-14 00:31:59   \n",
       " 554   fe5fd18b94c889e8934bfbabbd976f5ea6686443 1998-04-13 23:58:48   \n",
       " 552   9861a7175cf51bf91a8c627eead1ccee3081dabd 1998-04-13 23:56:35   \n",
       " 689   c939ef8317b162b4daaad54fdfd77ceaad6fd4ce 1998-04-13 21:07:10   \n",
       " 91    4782bfeacd4153cda87b5f1111afee53ac1187ee 1998-04-13 20:24:54   \n",
       " 765   e7e12cca5bb66ad7d4a40d7f1f8f66f0082e7324 1998-04-09 03:54:33   \n",
       " 771   38a3bfe8ad27c5843eb55868ae23422db0b971c8 1998-04-09 00:07:08   \n",
       " 497   887002ff63d3f1b7a54ed99ca39aa8422e660f15 1998-04-08 21:23:19   \n",
       " 314   d2d0ee7863d5a2400c69c490942ce407385d185b 1998-04-08 04:20:39   \n",
       " 564   3320ad91ab9ba8156863b4e8d3ca0b7ddcf11dde 1998-04-08 04:04:58   \n",
       " 888   7e6e1bd0112ae67da0fb5256daec2ef7adad9778 1998-04-08 01:47:23   \n",
       " 556   52d75e285d275e0b47723fedf669281f00ddde2e 1998-04-07 23:30:24   \n",
       " 244   431b3b9443363d840dc45885370dce1ebf0bb6df 1998-04-07 20:41:06   \n",
       " 396   856e9a14c44a9e771c6f940145b26575c81e2228 1998-04-07 20:36:46   \n",
       " 349   2ca3b7c9678c67a58174dbc2e5e91f2a04b019e6 1998-04-06 23:54:42   \n",
       " 702   d95d6e15648451cfc45885ee0de13b85f412403a 1998-03-30 23:59:41   \n",
       " 534   2a205325afe7a7ba7f2e44ab0b0f7a0dc5a9de00 1998-03-30 23:30:00   \n",
       " 635   c612c17daa0436547fdf8dde7038b13ddc77f0d9 1998-03-30 23:15:36   \n",
       " 1297  fee82d83c32b57da8be70bb1a60fdd18945a4d89 1998-03-30 01:59:34   \n",
       " 601   360bda5d687dec2cadfb804f08c53e32c9a00a27 1998-03-29 21:51:40   \n",
       " 895   be4def1ae593ac3e9a3e6a7d3eb847e93bb21bb2 1998-03-28 02:44:41   \n",
       " 1497  ea866ddbc4b20d4f191bcdecd514b76e22341c39 1998-03-28 00:00:00   \n",
       " 1308  290509554a8d2cd7f0c6f5cfb1c1048e86615fb2 1998-03-27 00:00:00   \n",
       " \n",
       "              last_commit      org              project  active_years  \n",
       " 1439 2008-12-31 04:44:37  Unknown              Unknown           0.0  \n",
       " 1103 2008-12-30 20:45:05  Unknown              Unknown           0.0  \n",
       " 980  2008-12-28 07:58:37  Unknown              Unknown           0.0  \n",
       " 983  2008-12-30 06:29:45  Unknown              Unknown           0.0  \n",
       " 1426 2008-12-23 01:04:06  Unknown              Unknown           0.0  \n",
       " 1129 2008-12-22 13:08:38  Unknown              Unknown           0.0  \n",
       " 1317 2008-12-21 14:59:33  Unknown               IT/Ops           0.0  \n",
       " 1029 2008-12-21 14:59:33  Unknown              Unknown           0.0  \n",
       " 1150 2008-12-19 11:04:50  Unknown              Unknown           0.0  \n",
       " 1405 2008-12-18 19:36:34  Unknown                Servo           0.0  \n",
       " 826  2008-12-23 20:10:57  Unknown                Servo           0.0  \n",
       " 1202 2008-12-16 17:58:33  Unknown              Unknown           0.0  \n",
       " 1141 2008-12-15 11:35:40  Unknown              Unknown           0.0  \n",
       " 1502 2008-12-15 10:53:21  Unknown              Unknown           0.0  \n",
       " 1151 2008-12-14 22:32:48  Unknown              Unknown           0.0  \n",
       " 1098 2008-12-14 21:58:24  Unknown              Unknown           0.0  \n",
       " 1429 2008-12-14 05:57:51  Unknown         Localization           0.0  \n",
       " 1155 2008-12-13 12:21:50  Unknown              Unknown           0.0  \n",
       " 1390 2008-12-11 17:42:11  Unknown  Release engineering           0.0  \n",
       " 1488 2008-12-10 11:07:45  Unknown              Unknown           0.0  \n",
       " 1384 2008-12-10 08:51:06  Unknown              Unknown           0.0  \n",
       " 1371 2008-12-07 14:34:53  Unknown               IT/Ops           0.0  \n",
       " 1117 2008-12-06 19:39:47  Unknown              Unknown           0.0  \n",
       " 1146 2008-12-06 17:27:53  Unknown              Unknown           0.0  \n",
       " 1138 2008-12-06 16:34:59  Unknown              Unknown           0.0  \n",
       " 1104 2008-12-06 14:15:24  Unknown              Unknown           0.0  \n",
       " 1367 2008-12-05 12:42:24  Unknown              Unknown           0.0  \n",
       " 1130 2008-12-04 10:05:24  Unknown              Unknown           0.0  \n",
       " 1205 2008-12-03 14:34:07  Unknown               IT/Ops           0.0  \n",
       " 1338 2008-12-02 09:56:26  Unknown              Unknown           0.0  \n",
       " ...                  ...      ...                  ...           ...  \n",
       " 572  1998-07-10 13:25:36  Unknown              Unknown           0.0  \n",
       " 304  1998-07-10 17:29:03  Unknown              Unknown           0.0  \n",
       " 768  1998-05-15 18:49:17  Unknown                Gecko           0.0  \n",
       " 734  1998-06-09 22:41:49  Unknown                Gecko           0.0  \n",
       " 535  1998-07-14 22:52:07  Unknown                Gecko           0.0  \n",
       " 309  1998-07-14 18:43:47  Unknown              Unknown           0.0  \n",
       " 536  1998-07-09 23:00:29  Unknown              Unknown           0.0  \n",
       " 346  1998-07-15 17:04:56  Unknown                Gecko           0.0  \n",
       " 554  1998-07-15 16:33:40  Unknown              Unknown           0.0  \n",
       " 552  1998-07-15 00:37:11  Unknown              Unknown           0.0  \n",
       " 689  1998-05-27 07:33:12  Unknown              Unknown           0.0  \n",
       " 91   1998-07-15 18:55:53  Unknown              Unknown           0.0  \n",
       " 765  1998-05-28 18:20:00  Unknown              Unknown           0.0  \n",
       " 771  1998-07-01 22:36:44  Unknown              Unknown           0.0  \n",
       " 497  1998-07-02 02:39:54  Unknown                Gecko           0.0  \n",
       " 314  1998-07-15 10:34:34  Unknown              Unknown           0.0  \n",
       " 564  1998-07-09 02:19:37  Unknown                Gecko           0.0  \n",
       " 888  1998-06-23 02:32:45  Unknown              Unknown           0.0  \n",
       " 556  1998-07-09 16:42:08  Unknown              Unknown           0.0  \n",
       " 244  1998-07-15 17:03:53  Unknown              Unknown           0.0  \n",
       " 396  1998-07-01 05:13:10  Unknown                Gecko           0.0  \n",
       " 349  1998-07-10 22:19:56  Unknown              Unknown           0.0  \n",
       " 702  1998-07-15 17:26:32  Unknown                Gecko           0.0  \n",
       " 534  1998-07-10 17:22:06  Unknown              Unknown           0.0  \n",
       " 635  1998-07-02 20:03:03  Unknown              Unknown           0.0  \n",
       " 1297 1998-03-30 01:59:34  Unknown                Gecko           0.0  \n",
       " 601  1998-07-14 21:13:23  Unknown              Unknown           0.0  \n",
       " 895  1998-06-22 21:28:47  Unknown              Unknown           0.0  \n",
       " 1497 1998-03-28 00:00:00  Unknown              Unknown           0.0  \n",
       " 1308 1998-03-27 00:00:00  Unknown              Unknown           0.0  \n",
       " \n",
       " [1511 rows x 6 columns],\n",
       "                                         author        first_commit  \\\n",
       " 968   57426dae137438b1e7dbc55c72ce31fd9de828ef 2007-12-20 15:43:18   \n",
       " 822   8aba608506008f5a48a03a5b328e0e309edbade1 2007-12-20 15:43:18   \n",
       " 1071  3447591ca286aae504e08bae7d9bfa79aa0b4008 2007-12-15 16:42:25   \n",
       " 955   2d58daeb9485bf5527e85809253c45e0d2b3889c 2007-12-12 13:57:57   \n",
       " 1062  e926e84cea95a53e114f438cc223e23e839a9d04 2007-12-10 18:54:01   \n",
       " 1077  4aad72f4a1c2790784b06ce5fae9d74e37bc374d 2007-12-05 07:04:09   \n",
       " 867   49c938a20e7591e217b6fea288c8899fa4457b5c 2007-11-27 15:51:44   \n",
       " 872   709f077a5a7ca9b1a2cf6b72d97e16911b23270c 2007-11-27 09:58:52   \n",
       " 692   1c1116a481122e01b9d69575242e2a4fc661f7ec 2007-11-27 09:58:52   \n",
       " 1097  78b27f65157c5484f2719d579bb2a680db6aad80 2007-11-26 17:47:04   \n",
       " 866   102d6eaecf589a1ee10516bd063dc42382ca680f 2007-11-19 06:02:17   \n",
       " 1030  e8a627c6f20825cc03b21d729dc371fff00d3b26 2007-11-14 16:20:16   \n",
       " 815   043192d627c4947ded041efd8401b1321856903f 2007-11-12 21:23:07   \n",
       " 970   726942bc7d977469ac4af0a19a1b12420b877b8b 2007-11-12 21:23:07   \n",
       " 1007  8710b9265e67ff8d7f8a21dd2b6f76789fffebed 2007-11-06 21:09:35   \n",
       " 1075  3bcb0e641e6c783bbd1be3f0662c04f8237e6fdc 2007-11-06 21:09:07   \n",
       " 1114  dee1e26813820960484f66bb81a28dacfb49cac8 2007-11-06 21:08:35   \n",
       " 905   c06d510a456eb5b40317d314c125023dce76c93a 2007-11-06 21:08:08   \n",
       " 972   a80c3cbf1a5c8d2255a3932006d779379ca588de 2007-11-06 21:08:04   \n",
       " 1004  7faa294b5bd3d0264d86c6839a38a3aae56dbf5d 2007-11-06 21:07:56   \n",
       " 964   1084e933da93c01cba47aec66f158b825c1f440b 2007-11-06 21:07:44   \n",
       " 1096  75b5f59f827eeb730888c14e84bb45b88221d16a 2007-11-06 21:07:44   \n",
       " 1093  6c86ca7844178dd39296d425dc5ae3a416891859 2007-11-05 10:05:07   \n",
       " 956   4e00c7a1fbb6d52130e10121e9c65c6ae3418ebb 2007-11-01 14:07:01   \n",
       " 1039  1cbeaab501ab3f98a7e715dbb42625af7332383c 2007-10-23 23:01:16   \n",
       " 1106  9e15971abd10eb85534e1a2cdf7272f8522923db 2007-10-19 19:57:39   \n",
       " 963   0985bf689a26a0cf730ed308b81aea90d22eba9c 2007-10-19 19:57:39   \n",
       " 1049  4f0dda44a69447c40d3dad6064c3969adc270816 2007-10-17 19:39:41   \n",
       " 1074  3b407e16d4dcd51080a7a798a6aaf9aa92774b2a 2007-10-15 17:31:50   \n",
       " 784   2b439b6da4d2acb26f2038dfcd9f54974b32ef85 2007-10-11 18:05:16   \n",
       " ...                                        ...                 ...   \n",
       " 524   24dabfe777a30434ccbfc77d86d0a9d743c8a17b 1998-04-14 19:56:15   \n",
       " 284   5e8873da77bfc73b744c8ef257eede9cce53c04f 1998-04-14 19:26:42   \n",
       " 710   069d7fbce4c27ff1d7866e0732fff1ccbd6a6476 1998-04-14 18:14:55   \n",
       " 686   6565db00622ee1261c295d44f8b883a2f363df1c 1998-04-14 17:29:44   \n",
       " 486   47ac23f0868d747b6d9d61c596c226fbee59919e 1998-04-14 16:53:16   \n",
       " 288   8426e77b1adabfc17cf61da651a0194683856612 1998-04-14 01:49:20   \n",
       " 488   97546fd53af5fa01ce7090030f41a94f7157a22b 1998-04-14 01:24:06   \n",
       " 327   a2522930974eb40699e11ecf43ff2d51799161d4 1998-04-14 00:31:59   \n",
       " 505   fe5fd18b94c889e8934bfbabbd976f5ea6686443 1998-04-13 23:58:48   \n",
       " 503   9861a7175cf51bf91a8c627eead1ccee3081dabd 1998-04-13 23:56:35   \n",
       " 648   c939ef8317b162b4daaad54fdfd77ceaad6fd4ce 1998-04-13 21:07:10   \n",
       " 87    4782bfeacd4153cda87b5f1111afee53ac1187ee 1998-04-13 20:24:54   \n",
       " 707   e7e12cca5bb66ad7d4a40d7f1f8f66f0082e7324 1998-04-09 03:54:33   \n",
       " 713   38a3bfe8ad27c5843eb55868ae23422db0b971c8 1998-04-09 00:07:08   \n",
       " 456   887002ff63d3f1b7a54ed99ca39aa8422e660f15 1998-04-08 21:23:19   \n",
       " 293   d2d0ee7863d5a2400c69c490942ce407385d185b 1998-04-08 04:20:39   \n",
       " 513   3320ad91ab9ba8156863b4e8d3ca0b7ddcf11dde 1998-04-08 04:04:58   \n",
       " 803   7e6e1bd0112ae67da0fb5256daec2ef7adad9778 1998-04-08 01:47:23   \n",
       " 509   52d75e285d275e0b47723fedf669281f00ddde2e 1998-04-07 23:30:24   \n",
       " 233   431b3b9443363d840dc45885370dce1ebf0bb6df 1998-04-07 20:41:06   \n",
       " 373   856e9a14c44a9e771c6f940145b26575c81e2228 1998-04-07 20:36:46   \n",
       " 329   2ca3b7c9678c67a58174dbc2e5e91f2a04b019e6 1998-04-06 23:54:42   \n",
       " 659   d95d6e15648451cfc45885ee0de13b85f412403a 1998-03-30 23:59:41   \n",
       " 485   2a205325afe7a7ba7f2e44ab0b0f7a0dc5a9de00 1998-03-30 23:30:00   \n",
       " 589   c612c17daa0436547fdf8dde7038b13ddc77f0d9 1998-03-30 23:15:36   \n",
       " 1033  fee82d83c32b57da8be70bb1a60fdd18945a4d89 1998-03-30 01:59:34   \n",
       " 553   360bda5d687dec2cadfb804f08c53e32c9a00a27 1998-03-29 21:51:40   \n",
       " 810   be4def1ae593ac3e9a3e6a7d3eb847e93bb21bb2 1998-03-28 02:44:41   \n",
       " 1118  ea866ddbc4b20d4f191bcdecd514b76e22341c39 1998-03-28 00:00:00   \n",
       " 1041  290509554a8d2cd7f0c6f5cfb1c1048e86615fb2 1998-03-27 00:00:00   \n",
       " \n",
       "              last_commit      org  project  active_years  \n",
       " 968  2007-12-21 15:08:47  Unknown   IT/Ops           0.0  \n",
       " 822  2007-12-21 15:08:47  Unknown    Gecko           0.0  \n",
       " 1071 2007-12-15 16:42:25  Unknown    Servo           0.0  \n",
       " 955  2007-12-14 16:20:48  Unknown   IT/Ops           0.0  \n",
       " 1062 2007-12-11 15:50:05  Unknown    Servo           0.0  \n",
       " 1077 2007-12-05 07:04:09  Unknown    Servo           0.0  \n",
       " 867  2007-12-20 14:05:00  Unknown   IT/Ops           0.0  \n",
       " 872  2007-12-28 09:18:12  Unknown   IT/Ops           0.0  \n",
       " 692  2007-12-28 09:18:12  Unknown  Unknown           0.0  \n",
       " 1097 2007-11-26 17:47:04  Unknown   IT/Ops           0.0  \n",
       " 866  2007-12-14 13:34:06  Unknown   IT/Ops           0.0  \n",
       " 1030 2007-11-26 13:45:46  Unknown   IT/Ops           0.0  \n",
       " 815  2007-12-24 14:47:37  Unknown  Unknown           0.0  \n",
       " 970  2007-12-24 14:47:37  Unknown   IT/Ops           0.0  \n",
       " 1007 2007-11-06 21:09:39  Unknown   IT/Ops           0.0  \n",
       " 1075 2007-11-06 21:09:07  Unknown   IT/Ops           0.0  \n",
       " 1114 2007-11-06 21:08:35  Unknown   IT/Ops           0.0  \n",
       " 905  2007-11-06 21:09:41  Unknown   IT/Ops           0.0  \n",
       " 972  2007-11-06 21:09:48  Unknown   IT/Ops           0.0  \n",
       " 1004 2007-11-06 21:09:45  Unknown   IT/Ops           0.0  \n",
       " 964  2007-11-06 21:07:44  Unknown  Unknown           0.0  \n",
       " 1096 2007-11-06 21:07:44  Unknown   IT/Ops           0.0  \n",
       " 1093 2007-11-05 10:05:07  Unknown    Servo           0.0  \n",
       " 956  2007-12-18 14:00:51  Unknown   IT/Ops           0.0  \n",
       " 1039 2007-12-27 17:28:26  Unknown   IT/Ops           0.0  \n",
       " 1106 2007-10-19 19:57:39  Unknown   IT/Ops           0.0  \n",
       " 963  2007-10-19 19:57:39  Unknown  Unknown           0.0  \n",
       " 1049 2007-10-18 17:33:43  Unknown    Servo           0.0  \n",
       " 1074 2007-10-15 17:31:50  Unknown    Servo           0.0  \n",
       " 784  2007-12-28 15:04:19  Unknown   IT/Ops           0.0  \n",
       " ...                  ...      ...      ...           ...  \n",
       " 524  1998-07-10 13:25:36  Unknown  Unknown           0.0  \n",
       " 284  1998-07-10 17:29:03  Unknown  Unknown           0.0  \n",
       " 710  1998-05-15 18:49:17  Unknown    Gecko           0.0  \n",
       " 686  1998-06-09 22:41:49  Unknown    Gecko           0.0  \n",
       " 486  1998-07-14 22:52:07  Unknown    Gecko           0.0  \n",
       " 288  1998-07-14 18:43:47  Unknown  Unknown           0.0  \n",
       " 488  1998-07-09 23:00:29  Unknown  Unknown           0.0  \n",
       " 327  1998-07-15 17:04:56  Unknown    Gecko           0.0  \n",
       " 505  1998-07-15 16:33:40  Unknown  Unknown           0.0  \n",
       " 503  1998-07-15 00:37:11  Unknown  Unknown           0.0  \n",
       " 648  1998-05-27 07:33:12  Unknown  Unknown           0.0  \n",
       " 87   1998-07-15 18:55:53  Unknown  Unknown           0.0  \n",
       " 707  1998-05-28 18:20:00  Unknown  Unknown           0.0  \n",
       " 713  1998-07-01 22:36:44  Unknown  Unknown           0.0  \n",
       " 456  1998-07-02 02:39:54  Unknown    Gecko           0.0  \n",
       " 293  1998-07-15 10:34:34  Unknown  Unknown           0.0  \n",
       " 513  1998-07-09 02:19:37  Unknown    Gecko           0.0  \n",
       " 803  1998-06-23 02:32:45  Unknown  Unknown           0.0  \n",
       " 509  1998-07-09 16:42:08  Unknown  Unknown           0.0  \n",
       " 233  1998-07-15 17:03:53  Unknown  Unknown           0.0  \n",
       " 373  1998-07-01 05:13:10  Unknown    Gecko           0.0  \n",
       " 329  1998-07-10 22:19:56  Unknown  Unknown           0.0  \n",
       " 659  1998-07-15 17:26:32  Unknown    Gecko           0.0  \n",
       " 485  1998-07-10 17:22:06  Unknown  Unknown           0.0  \n",
       " 589  1998-07-02 20:03:03  Unknown  Unknown           0.0  \n",
       " 1033 1998-03-30 01:59:34  Unknown    Gecko           0.0  \n",
       " 553  1998-07-14 21:13:23  Unknown  Unknown           0.0  \n",
       " 810  1998-06-22 21:28:47  Unknown  Unknown           0.0  \n",
       " 1118 1998-03-28 00:00:00  Unknown  Unknown           0.0  \n",
       " 1041 1998-03-27 00:00:00  Unknown  Unknown           0.0  \n",
       " \n",
       " [1125 rows x 6 columns]]"
      ]
     },
     "execution_count": 4,
     "metadata": {},
     "output_type": "execute_result"
    }
   ],
   "source": [
    "### DIFFERENCE BETWEEN FIRST AND LAST CONTRIBUTION\n",
    "### GET SNAPSHOTS FOR DIFFERENT YEARS\n",
    "\n",
    "results = []\n",
    "for i in analyzed_range:\n",
    "\n",
    "    # Buckets by author name, finding first commit for each of them\n",
    "    s = ut.create_search(es_conn, 'git')\n",
    "    \n",
    "    # Filter commits to the Project Repos\n",
    "    s = ut.add_project_filter(s, project_name)\n",
    "    \n",
    "    # EXCLUDE EMPLOYEES\n",
    "    s = s.exclude('terms', author_org_name=['Mozilla Staff', 'Code Sheriff'])\n",
    "    \n",
    "    # Retrieve commits before given year\n",
    "    s = s.filter('range', grimoire_creation_date={'lt': 'now-' + str(i) + 'y/y'})\n",
    "\n",
    "    # Bucketize by uuid and get first and last commit\n",
    "    s.aggs.bucket('authors', 'terms', field='author_uuid', size=100000) \\\n",
    "        .metric('first', 'top_hits', _source=['author_date', 'author_org_name', 'author_uuid', 'project'],\n",
    "                size=1, sort=[{\"author_date\": {\"order\": \"asc\"}}]) \\\n",
    "        .metric('last_commit', 'max', field='author_date')\n",
    "    s = s.sort(\"author_date\")\n",
    "    #print(s.to_dict())\n",
    "    results.append(s.execute())\n",
    "\n",
    "\n",
    "authors_dfs = []\n",
    "for result in results:\n",
    "    authors_df = ut.get_authors_df(result, author_bucket_field='authors')\n",
    "    authors_df['active_years'] = (authors_df.last_commit-authors_df.first_commit).astype('timedelta64[Y]')\n",
    "    authors_dfs.append(authors_df)\n",
    "\n",
    "authors_dfs"
   ]
  },
  {
   "cell_type": "markdown",
   "metadata": {},
   "source": [
    "\n",
    "# Git: Newcomers by year Non-employees only"
   ]
  },
  {
   "cell_type": "code",
   "execution_count": 5,
   "metadata": {
    "collapsed": false
   },
   "outputs": [
    {
     "data": {
      "text/plain": [
       "[    first_commit  author\n",
       " 0          -2016    2350\n",
       " 1          -2015    2427\n",
       " 2          -2014    2157\n",
       " 3          -2013    1357\n",
       " 4          -2012     896\n",
       " 5          -2011     766\n",
       " 6          -2010     567\n",
       " 7          -2009     424\n",
       " 8          -2008     386\n",
       " 9          -2007     275\n",
       " 10         -2006      97\n",
       " 11         -2005      66\n",
       " 12         -2004      50\n",
       " 13         -2003      57\n",
       " 14         -2002      52\n",
       " 15         -2001      91\n",
       " 16         -2000     113\n",
       " 17         -1999      91\n",
       " 18         -1998     233,     first_commit  author\n",
       " 0          -2015    2427\n",
       " 1          -2014    2157\n",
       " 2          -2013    1357\n",
       " 3          -2012     896\n",
       " 4          -2011     766\n",
       " 5          -2010     567\n",
       " 6          -2009     424\n",
       " 7          -2008     386\n",
       " 8          -2007     275\n",
       " 9          -2006      97\n",
       " 10         -2005      66\n",
       " 11         -2004      50\n",
       " 12         -2003      57\n",
       " 13         -2002      52\n",
       " 14         -2001      91\n",
       " 15         -2000     113\n",
       " 16         -1999      91\n",
       " 17         -1998     233,     first_commit  author\n",
       " 0          -2014    2157\n",
       " 1          -2013    1357\n",
       " 2          -2012     896\n",
       " 3          -2011     766\n",
       " 4          -2010     567\n",
       " 5          -2009     424\n",
       " 6          -2008     386\n",
       " 7          -2007     275\n",
       " 8          -2006      97\n",
       " 9          -2005      66\n",
       " 10         -2004      50\n",
       " 11         -2003      57\n",
       " 12         -2002      52\n",
       " 13         -2001      91\n",
       " 14         -2000     113\n",
       " 15         -1999      91\n",
       " 16         -1998     233,     first_commit  author\n",
       " 0          -2014       1\n",
       " 1          -2013    1357\n",
       " 2          -2012     896\n",
       " 3          -2011     766\n",
       " 4          -2010     567\n",
       " 5          -2009     424\n",
       " 6          -2008     386\n",
       " 7          -2007     275\n",
       " 8          -2006      97\n",
       " 9          -2005      66\n",
       " 10         -2004      50\n",
       " 11         -2003      57\n",
       " 12         -2002      52\n",
       " 13         -2001      91\n",
       " 14         -2000     113\n",
       " 15         -1999      91\n",
       " 16         -1998     233,     first_commit  author\n",
       " 0          -2012     895\n",
       " 1          -2011     766\n",
       " 2          -2010     567\n",
       " 3          -2009     424\n",
       " 4          -2008     386\n",
       " 5          -2007     275\n",
       " 6          -2006      97\n",
       " 7          -2005      66\n",
       " 8          -2004      50\n",
       " 9          -2003      57\n",
       " 10         -2002      52\n",
       " 11         -2001      91\n",
       " 12         -2000     113\n",
       " 13         -1999      91\n",
       " 14         -1998     233,     first_commit  author\n",
       " 0          -2011     766\n",
       " 1          -2010     567\n",
       " 2          -2009     424\n",
       " 3          -2008     386\n",
       " 4          -2007     275\n",
       " 5          -2006      97\n",
       " 6          -2005      66\n",
       " 7          -2004      50\n",
       " 8          -2003      57\n",
       " 9          -2002      52\n",
       " 10         -2001      91\n",
       " 11         -2000     113\n",
       " 12         -1999      91\n",
       " 13         -1998     233,     first_commit  author\n",
       " 0          -2010     567\n",
       " 1          -2009     424\n",
       " 2          -2008     386\n",
       " 3          -2007     275\n",
       " 4          -2006      97\n",
       " 5          -2005      66\n",
       " 6          -2004      50\n",
       " 7          -2003      57\n",
       " 8          -2002      52\n",
       " 9          -2001      91\n",
       " 10         -2000     113\n",
       " 11         -1999      91\n",
       " 12         -1998     233,     first_commit  author\n",
       " 0          -2009     424\n",
       " 1          -2008     386\n",
       " 2          -2007     275\n",
       " 3          -2006      97\n",
       " 4          -2005      66\n",
       " 5          -2004      50\n",
       " 6          -2003      57\n",
       " 7          -2002      52\n",
       " 8          -2001      91\n",
       " 9          -2000     113\n",
       " 10         -1999      91\n",
       " 11         -1998     233,     first_commit  author\n",
       " 0          -2008     386\n",
       " 1          -2007     275\n",
       " 2          -2006      97\n",
       " 3          -2005      66\n",
       " 4          -2004      50\n",
       " 5          -2003      57\n",
       " 6          -2002      52\n",
       " 7          -2001      91\n",
       " 8          -2000     113\n",
       " 9          -1999      91\n",
       " 10         -1998     233,    first_commit  author\n",
       " 0         -2007     275\n",
       " 1         -2006      97\n",
       " 2         -2005      66\n",
       " 3         -2004      50\n",
       " 4         -2003      57\n",
       " 5         -2002      52\n",
       " 6         -2001      91\n",
       " 7         -2000     113\n",
       " 8         -1999      91\n",
       " 9         -1998     233]"
      ]
     },
     "execution_count": 5,
     "metadata": {},
     "output_type": "execute_result"
    }
   ],
   "source": [
    "# AUTHORS GROUPED BY FIRST COMMIT DATE\n",
    "\n",
    "attraction_dfs = []\n",
    "for authors_df in authors_dfs:\n",
    "    attraction_df = authors_df.copy()\n",
    "    attraction_df['first_commit'] = attraction_df['first_commit'].apply(lambda x: str(pandas.Period(x,'A')))\n",
    "    attraction_df['first_commit'] = attraction_df['first_commit'].apply(lambda x: int(x) * -1)\n",
    "    attraction_df = attraction_df.groupby(['first_commit']).agg({'author': pandas.Series.nunique})\n",
    "    attraction_df = attraction_df.reset_index()  \n",
    "    attraction_dfs.append(attraction_df)  \n",
    "\n",
    "attraction_dfs"
   ]
  },
  {
   "cell_type": "code",
   "execution_count": 6,
   "metadata": {
    "collapsed": false,
    "scrolled": false
   },
   "outputs": [
    {
     "data": {
      "text/html": [
       "<script>requirejs.config({paths: { 'plotly': ['https://cdn.plot.ly/plotly-latest.min']},});if(!window.Plotly) {{require(['plotly'],function(plotly) {window.Plotly=plotly;});}}</script>"
      ],
      "text/vnd.plotly.v1+html": [
       "<script>requirejs.config({paths: { 'plotly': ['https://cdn.plot.ly/plotly-latest.min']},});if(!window.Plotly) {{require(['plotly'],function(plotly) {window.Plotly=plotly;});}}</script>"
      ]
     },
     "metadata": {},
     "output_type": "display_data"
    },
    {
     "data": {
      "application/vnd.plotly.v1+json": {
       "data": [
        {
         "orientation": "h",
         "type": "bar",
         "x": [
          2350,
          2427,
          2157,
          1357,
          896,
          766,
          567,
          424,
          386,
          275,
          97,
          66,
          50,
          57,
          52,
          91,
          113,
          91,
          233
         ],
         "y": [
          -2016,
          -2015,
          -2014,
          -2013,
          -2012,
          -2011,
          -2010,
          -2009,
          -2008,
          -2007,
          -2006,
          -2005,
          -2004,
          -2003,
          -2002,
          -2001,
          -2000,
          -1999,
          -1998
         ]
        }
       ],
       "layout": {
        "barmode": "group",
        "title": "All 2016"
       }
      },
      "text/html": [
       "<div id=\"7c6e4d04-9796-4dd8-90a9-2aef9dd50446\" style=\"height: 525px; width: 100%;\" class=\"plotly-graph-div\"></div><script type=\"text/javascript\">require([\"plotly\"], function(Plotly) { window.PLOTLYENV=window.PLOTLYENV || {};window.PLOTLYENV.BASE_URL=\"https://plot.ly\";Plotly.newPlot(\"7c6e4d04-9796-4dd8-90a9-2aef9dd50446\", [{\"type\": \"bar\", \"orientation\": \"h\", \"x\": [2350, 2427, 2157, 1357, 896, 766, 567, 424, 386, 275, 97, 66, 50, 57, 52, 91, 113, 91, 233], \"y\": [-2016, -2015, -2014, -2013, -2012, -2011, -2010, -2009, -2008, -2007, -2006, -2005, -2004, -2003, -2002, -2001, -2000, -1999, -1998]}], {\"title\": \"All 2016\", \"barmode\": \"group\"}, {\"showLink\": true, \"linkText\": \"Export to plot.ly\"})});</script>"
      ],
      "text/vnd.plotly.v1+html": [
       "<div id=\"7c6e4d04-9796-4dd8-90a9-2aef9dd50446\" style=\"height: 525px; width: 100%;\" class=\"plotly-graph-div\"></div><script type=\"text/javascript\">require([\"plotly\"], function(Plotly) { window.PLOTLYENV=window.PLOTLYENV || {};window.PLOTLYENV.BASE_URL=\"https://plot.ly\";Plotly.newPlot(\"7c6e4d04-9796-4dd8-90a9-2aef9dd50446\", [{\"type\": \"bar\", \"orientation\": \"h\", \"x\": [2350, 2427, 2157, 1357, 896, 766, 567, 424, 386, 275, 97, 66, 50, 57, 52, 91, 113, 91, 233], \"y\": [-2016, -2015, -2014, -2013, -2012, -2011, -2010, -2009, -2008, -2007, -2006, -2005, -2004, -2003, -2002, -2001, -2000, -1999, -1998]}], {\"title\": \"All 2016\", \"barmode\": \"group\"}, {\"showLink\": true, \"linkText\": \"Export to plot.ly\"})});</script>"
      ]
     },
     "metadata": {},
     "output_type": "display_data"
    }
   ],
   "source": [
    "# Plot bar charts for each dataframe\n",
    "attraction_df = attraction_dfs[0]\n",
    "    \n",
    "plotly.offline.init_notebook_mode(connected=True)\n",
    "        \n",
    "data = [go.Bar(\n",
    "        x=attraction_df['author'],\n",
    "        y=attraction_df['first_commit'],\n",
    "        orientation = 'h'\n",
    ")]\n",
    "\n",
    "layout = go.Layout(\n",
    "    barmode='group',\n",
    "    title=project_name + ' ' + str(2016)\n",
    ")\n",
    "\n",
    "fig = go.Figure(data=data, layout=layout)\n",
    "plotly.offline.iplot(fig, filename='horizontal-bar')   "
   ]
  },
  {
   "cell_type": "markdown",
   "metadata": {},
   "source": [
    "## Years of Experience\n",
    "We consider **N commits** per year, as a minimum to add one year of experience to a given author. From this assumption, we build groups of authors by years of experience. As a result, we present a plot with number of people in each group.\n",
    "\n",
    "To give a more complete idea of how community evolves, we plot snapshots corresponding to different years. Each of them will take all commits sent until the given year, and calculate years of experience for all authors in that slice.\n",
    "\n",
    "We are also counting authors whose last year of experience is the one we are analyzing data from. That is, if we are looking to year 2016, we only count those authors who made at least N commits in 2016. From there we add 1 year of experience for each year they fulfill this condition.\n",
    "\n",
    "* Y axis corresponds to years of experience as defined above.\n",
    "* X axis corresponds to the umber of contributors in the given group.\n",
    "* Each plot shows a snapshot of this information from the specified year to the past (1998 was chosen as the oldest date to get results from). "
   ]
  },
  {
   "cell_type": "code",
   "execution_count": 7,
   "metadata": {
    "collapsed": false
   },
   "outputs": [],
   "source": [
    "###\n",
    "## GET COMMITS BY YEAR AND AUTHOR\n",
    "###\n",
    "\n",
    "results = []\n",
    "min_commits = 1\n",
    "\n",
    "for i in analyzed_range:\n",
    "\n",
    "    # Buckets by author name, finding first commit for each of them\n",
    "    s = ut.create_search(es_conn, 'git')\n",
    "        \n",
    "    # Filter commits to the Project Repos\n",
    "    s = ut.add_project_filter(s, project_name)\n",
    "    \n",
    "    # Retrieve commits before given year\n",
    "    s = s.filter('range', grimoire_creation_date={'lt': 'now-' + str(i) + 'y/y'})\n",
    "\n",
    "    # Bucketize by time, uuid and organization, then count commits per year\n",
    "    s.aggs.bucket('time', 'date_histogram', field='grimoire_creation_date', interval='year') \\\n",
    "        .bucket('authors', 'terms', field='author_uuid', size=100000, min_doc_count=min_commits) \\\n",
    "        .bucket('org', 'terms', field='author_org_name', size=1) \\\n",
    "        .metric('commits', 'cardinality', field='hash', precision_threshold=1000)\n",
    "\n",
    "    r = s.execute()\n",
    "    # In case you need to check response, uncomment line below\n",
    "    #print(r.to_dict()['aggregations']['time']['buckets'])\n",
    "        \n",
    "    results.append(r)\n",
    "    \n",
    "#results\n"
   ]
  },
  {
   "cell_type": "code",
   "execution_count": 8,
   "metadata": {
    "collapsed": false
   },
   "outputs": [
    {
     "data": {
      "text/plain": [
       "[                                                        exp last_active  \\\n",
       " Author                                   Org                              \n",
       " 000063c4e47e93ab3b30607680609e4d2500ce5d Mozilla Staff    4        2016   \n",
       " 00014f52adaaeca931c4c077a1cb9791eb769ea1 Unknown          1        2016   \n",
       " 0002c6a09a45af6481c35e29c0ed7f3bdbecb3b8 Unknown          1        2016   \n",
       " 000336e205e3f5e2daa6e7a0b03e612b3b2b02d3 Mozilla Staff    3        2016   \n",
       " 000679e4b588906b8025d2c28d45e9ece4c88715 Unknown          1        2016   \n",
       " 000a91646239261328167971b7c6d851087c3089 Unknown          1        2016   \n",
       " 0012fe0f0c0ebabfb0fbed08e160f6b23cd248f8 Unknown          2        2016   \n",
       " 0014e7cebbe8ef11dab9eeb5f2111e01d9eea378 Mozilla Staff    6        2016   \n",
       " 00201bda17fd9d14bc1e0f8a72afbc55af090657 Unknown          1        2016   \n",
       " 002893ffe1425c220756f8ba4c78e1e3bb0be50f Mozilla Staff    5        2016   \n",
       " 00302655e2f88afeedfb958a0364ab13bcf7ea52 Unknown          1        2016   \n",
       " 003716394a26b52b88f369e566d5fd671968e70e Unknown          1        2016   \n",
       " 00432eb3dd218cdc8adee9796b82236368680f25 Unknown          2        2016   \n",
       " 0043f3e1632e14bb05873fc981efa44057a38652 Mozilla Reps     1        2016   \n",
       " 00522858c913429f887110c822c90446bc4ea2dd Unknown          2        2016   \n",
       " 005c7a91492c365880def44d98ef735f45948dde Unknown          1        2016   \n",
       " 0065dabc4d7cd72612ede8f871c688e9430ec52f Unknown          1        2016   \n",
       " 006fee3e0de309ff1e3e89c24f5e7032163c49c5 Mozilla Staff    5        2016   \n",
       " 007628f41e9a9bc54530312d9f3340f2ff3776c6 Unknown          1        2016   \n",
       " 0077ed8ce0df63bf273d022edae59fc2664972dc Mozilla Staff    2        2016   \n",
       " 0079c3c054afbc234e161c6759ac6c09f471f762 Unknown          1        2016   \n",
       " 00834d313bfc6fc60be1631bcc57b2c05ee2e0e3 Unknown          6        2016   \n",
       " 00846eff46b051d92317fc74e54041c6fdccd7cf Mozilla Staff    9        2016   \n",
       " 00890cbe5133b67bfa1021485959d2b42c11f4f8 Mozilla Staff    8        2016   \n",
       " 008a03f3db5ff01257a62b88192fd823deb50bf9 Unknown          1        2016   \n",
       " 0099f5fc8b2f425ee389ad2e08c1e19ab1e153b4 Unknown          2        2016   \n",
       " 00a40f9e9e7f7633ddab8291a99e1e487f88481c Unknown          4        2016   \n",
       " 00a65e9f51147e4f416ded3f494dd4bfc0977979 Mozilla Staff    5        2016   \n",
       " 00b934012989b386ac9efc706dbc28cd6be173c6 Mozilla Staff    1        2016   \n",
       " 00c0c045abf8a4364a05f969688a2375b62f85ab Unknown          1        2016   \n",
       " ...                                                     ...         ...   \n",
       " fc25ef12b628497a64aa45ad7e48dee097a2b9b7 Unknown          2        2016   \n",
       " fc5c257e798d20ab517a6d09c45e9eda471dbe1e Unknown          1        2016   \n",
       " fc63bc49acd35b8d9e547b99c811839dc363e52f Unknown          1        2016   \n",
       " fc97aade1084953f9bf442a80c6aa2b29083ba05 Mozilla Staff    1        2016   \n",
       " fc9ac0ea9c9c006e9f6b4e1923849da4d9019133 Unknown          3        2016   \n",
       " fccece67acae3c702217e47979a4a4940b665968 Unknown          1        2016   \n",
       " fce7bfaa889d6926f0b7f81daea527ea81ba8d5a Unknown          2        2016   \n",
       " fcedd6dd863c0c32365cc1c9fc834e92873260b9 Unknown          1        2016   \n",
       " fd0f92960d063983b8ae0fa8c93ca483861eb255 Unknown          1        2016   \n",
       " fd85a54932688ee80835505b8d4a1ca3dd3b3a34 Unknown          1        2016   \n",
       " fd9723c4eaccd6921e8ce3068227aeeaf4847340 Unknown          1        2016   \n",
       " fdf41c92890261fb8ffc05b41f5ddd0df07f11e0 Unknown          1        2016   \n",
       " fe0d747661293b2a21ad0b2293012f7553e5da02 Unknown          2        2016   \n",
       " fe1273eeee2752e4d4e9919960c9d1cd849b7da9 Unknown          1        2016   \n",
       " fe31b9d47f52171b44106ebb18e176117bd2a188 Unknown          1        2016   \n",
       " fe5ab05d3ebcdc4c70220f6aa736aebb5cdff032 Unknown          1        2016   \n",
       " fe7beff1bae09472a20db360e8547cd225fa1549 Unknown          1        2016   \n",
       " fe85c1e0745a7d1c05fb68a2a4aaf640d0b79c69 Unknown          1        2016   \n",
       " fe86662765dfa96c485801d4a383d237d2679404 Unknown          1        2016   \n",
       " fe900e51d8dab35200a4110459c01750d6bfb364 Unknown          1        2016   \n",
       " febf7977c16b405be95458e1391dc13d5a64dc6e Unknown          1        2016   \n",
       " fee7d13e3104d59c3436f8feb8b1c3b3759706ba Unknown          1        2016   \n",
       " fef6233d4c0ffc74da94b5a44986df33102fd448 Unknown          1        2016   \n",
       " ff27224be65cdd22d699a8642080e9bab8a19c5f Unknown          1        2016   \n",
       " ff30a04f3d125607773579a3163029906003d8df Unknown          1        2016   \n",
       " ff3e7a0e12d913a61213f4c9162724e81043b49e Unknown          1        2016   \n",
       " ff80e770534632437647f5c6f2b4473116356a2d Unknown          1        2016   \n",
       " ff97da7bdc6c8fc8c1d1ff246a932c46aae2f454 Unknown          1        2016   \n",
       " ffae9ed9c1417e3ead7452bee48138b33dce5323 Unknown          1        2016   \n",
       " ffc37980365bfbbc76045725216a0a8e9812a869 Unknown          3        2016   \n",
       " \n",
       "                                                        project  \n",
       " Author                                   Org                    \n",
       " 000063c4e47e93ab3b30607680609e4d2500ce5d Mozilla Staff     All  \n",
       " 00014f52adaaeca931c4c077a1cb9791eb769ea1 Unknown           All  \n",
       " 0002c6a09a45af6481c35e29c0ed7f3bdbecb3b8 Unknown           All  \n",
       " 000336e205e3f5e2daa6e7a0b03e612b3b2b02d3 Mozilla Staff     All  \n",
       " 000679e4b588906b8025d2c28d45e9ece4c88715 Unknown           All  \n",
       " 000a91646239261328167971b7c6d851087c3089 Unknown           All  \n",
       " 0012fe0f0c0ebabfb0fbed08e160f6b23cd248f8 Unknown           All  \n",
       " 0014e7cebbe8ef11dab9eeb5f2111e01d9eea378 Mozilla Staff     All  \n",
       " 00201bda17fd9d14bc1e0f8a72afbc55af090657 Unknown           All  \n",
       " 002893ffe1425c220756f8ba4c78e1e3bb0be50f Mozilla Staff     All  \n",
       " 00302655e2f88afeedfb958a0364ab13bcf7ea52 Unknown           All  \n",
       " 003716394a26b52b88f369e566d5fd671968e70e Unknown           All  \n",
       " 00432eb3dd218cdc8adee9796b82236368680f25 Unknown           All  \n",
       " 0043f3e1632e14bb05873fc981efa44057a38652 Mozilla Reps      All  \n",
       " 00522858c913429f887110c822c90446bc4ea2dd Unknown           All  \n",
       " 005c7a91492c365880def44d98ef735f45948dde Unknown           All  \n",
       " 0065dabc4d7cd72612ede8f871c688e9430ec52f Unknown           All  \n",
       " 006fee3e0de309ff1e3e89c24f5e7032163c49c5 Mozilla Staff     All  \n",
       " 007628f41e9a9bc54530312d9f3340f2ff3776c6 Unknown           All  \n",
       " 0077ed8ce0df63bf273d022edae59fc2664972dc Mozilla Staff     All  \n",
       " 0079c3c054afbc234e161c6759ac6c09f471f762 Unknown           All  \n",
       " 00834d313bfc6fc60be1631bcc57b2c05ee2e0e3 Unknown           All  \n",
       " 00846eff46b051d92317fc74e54041c6fdccd7cf Mozilla Staff     All  \n",
       " 00890cbe5133b67bfa1021485959d2b42c11f4f8 Mozilla Staff     All  \n",
       " 008a03f3db5ff01257a62b88192fd823deb50bf9 Unknown           All  \n",
       " 0099f5fc8b2f425ee389ad2e08c1e19ab1e153b4 Unknown           All  \n",
       " 00a40f9e9e7f7633ddab8291a99e1e487f88481c Unknown           All  \n",
       " 00a65e9f51147e4f416ded3f494dd4bfc0977979 Mozilla Staff     All  \n",
       " 00b934012989b386ac9efc706dbc28cd6be173c6 Mozilla Staff     All  \n",
       " 00c0c045abf8a4364a05f969688a2375b62f85ab Unknown           All  \n",
       " ...                                                        ...  \n",
       " fc25ef12b628497a64aa45ad7e48dee097a2b9b7 Unknown           All  \n",
       " fc5c257e798d20ab517a6d09c45e9eda471dbe1e Unknown           All  \n",
       " fc63bc49acd35b8d9e547b99c811839dc363e52f Unknown           All  \n",
       " fc97aade1084953f9bf442a80c6aa2b29083ba05 Mozilla Staff     All  \n",
       " fc9ac0ea9c9c006e9f6b4e1923849da4d9019133 Unknown           All  \n",
       " fccece67acae3c702217e47979a4a4940b665968 Unknown           All  \n",
       " fce7bfaa889d6926f0b7f81daea527ea81ba8d5a Unknown           All  \n",
       " fcedd6dd863c0c32365cc1c9fc834e92873260b9 Unknown           All  \n",
       " fd0f92960d063983b8ae0fa8c93ca483861eb255 Unknown           All  \n",
       " fd85a54932688ee80835505b8d4a1ca3dd3b3a34 Unknown           All  \n",
       " fd9723c4eaccd6921e8ce3068227aeeaf4847340 Unknown           All  \n",
       " fdf41c92890261fb8ffc05b41f5ddd0df07f11e0 Unknown           All  \n",
       " fe0d747661293b2a21ad0b2293012f7553e5da02 Unknown           All  \n",
       " fe1273eeee2752e4d4e9919960c9d1cd849b7da9 Unknown           All  \n",
       " fe31b9d47f52171b44106ebb18e176117bd2a188 Unknown           All  \n",
       " fe5ab05d3ebcdc4c70220f6aa736aebb5cdff032 Unknown           All  \n",
       " fe7beff1bae09472a20db360e8547cd225fa1549 Unknown           All  \n",
       " fe85c1e0745a7d1c05fb68a2a4aaf640d0b79c69 Unknown           All  \n",
       " fe86662765dfa96c485801d4a383d237d2679404 Unknown           All  \n",
       " fe900e51d8dab35200a4110459c01750d6bfb364 Unknown           All  \n",
       " febf7977c16b405be95458e1391dc13d5a64dc6e Unknown           All  \n",
       " fee7d13e3104d59c3436f8feb8b1c3b3759706ba Unknown           All  \n",
       " fef6233d4c0ffc74da94b5a44986df33102fd448 Unknown           All  \n",
       " ff27224be65cdd22d699a8642080e9bab8a19c5f Unknown           All  \n",
       " ff30a04f3d125607773579a3163029906003d8df Unknown           All  \n",
       " ff3e7a0e12d913a61213f4c9162724e81043b49e Unknown           All  \n",
       " ff80e770534632437647f5c6f2b4473116356a2d Unknown           All  \n",
       " ff97da7bdc6c8fc8c1d1ff246a932c46aae2f454 Unknown           All  \n",
       " ffae9ed9c1417e3ead7452bee48138b33dce5323 Unknown           All  \n",
       " ffc37980365bfbbc76045725216a0a8e9812a869 Unknown           All  \n",
       " \n",
       " [4287 rows x 3 columns],\n",
       "                                                         exp last_active  \\\n",
       " Author                                   Org                              \n",
       " 000063c4e47e93ab3b30607680609e4d2500ce5d Mozilla Staff    3        2015   \n",
       " 000336e205e3f5e2daa6e7a0b03e612b3b2b02d3 Mozilla Staff    2        2015   \n",
       " 0008be398d86323b7ead363c4bbc11ea13ec731f Unknown          5        2015   \n",
       " 000b0486e1fac53a6c55b0484bf905dc3bef4fdd Unknown          2        2015   \n",
       " 0012fe0f0c0ebabfb0fbed08e160f6b23cd248f8 Unknown          1        2015   \n",
       " 0014e7cebbe8ef11dab9eeb5f2111e01d9eea378 Mozilla Staff    5        2015   \n",
       " 002893ffe1425c220756f8ba4c78e1e3bb0be50f Mozilla Staff    4        2015   \n",
       " 0048976f39a07a5fce500b49e32f6b136ab7b9c5 Unknown          1        2015   \n",
       " 0051e388088130f056aabacce3682cc6c79468b6 Unknown          1        2015   \n",
       " 00522858c913429f887110c822c90446bc4ea2dd Unknown          1        2015   \n",
       " 0053cdbb16a5b5db25afb2db43f540262f676563 Unknown          2        2015   \n",
       " 00546f5b926491a6a72ff3d62d55167014239b36 Unknown          1        2015   \n",
       " 005db5b9898e18d661aaceb15e15189ea9b77370 Unknown          1        2015   \n",
       " 00623c2446d7c0e316ed60131b0dcd983149e555 Unknown          1        2015   \n",
       " 006e0462f9d97fb9922369ba3a5823b4cc2943aa Unknown          1        2015   \n",
       " 006fee3e0de309ff1e3e89c24f5e7032163c49c5 Mozilla Staff    4        2015   \n",
       " 0077ed8ce0df63bf273d022edae59fc2664972dc Mozilla Staff    1        2015   \n",
       " 00834d313bfc6fc60be1631bcc57b2c05ee2e0e3 Unknown          5        2015   \n",
       " 00846eff46b051d92317fc74e54041c6fdccd7cf Mozilla Staff    8        2015   \n",
       " 00890cbe5133b67bfa1021485959d2b42c11f4f8 Mozilla Staff    7        2015   \n",
       " 0099f5fc8b2f425ee389ad2e08c1e19ab1e153b4 Unknown          1        2015   \n",
       " 00a0004ed1bf1795be8dcf3879027a6729441006 Unknown          1        2015   \n",
       " 00a3740494d5be8c12270d5310f087eb6be3ab84 Unknown          1        2015   \n",
       " 00a40f9e9e7f7633ddab8291a99e1e487f88481c Unknown          3        2015   \n",
       " 00a56f6298718c2d665792d61fa24c423fe10e67 Unknown          1        2015   \n",
       " 00a65e9f51147e4f416ded3f494dd4bfc0977979 Mozilla Staff    4        2015   \n",
       " 00acd754e27fc38187f89c96bf6ea54594a3c903 Unknown          1        2015   \n",
       " 00b9e209a1d0e26aa24926a47574def39f4ffd12 Unknown          1        2015   \n",
       " 00cf70ea99f95fa41a69a9a635a91d87653ed105 Unknown          1        2015   \n",
       " 00da6ede3bff8db21a33473d7e552b76f50757eb Mozilla Staff    3        2015   \n",
       " ...                                                     ...         ...   \n",
       " fc077021dfac2f764734096b3f80634e3e0caf34 Unknown          4        2015   \n",
       " fc1014534906cdff3f38a24b502aba84f105b1f7 Unknown          1        2015   \n",
       " fc1202801ecba53ad5d579d55a2bef76bd2e713c Unknown          3        2015   \n",
       " fc18754f2c4dc0c1c13c7f8a1cf7ac7206f3a12b Unknown          1        2015   \n",
       " fc25ef12b628497a64aa45ad7e48dee097a2b9b7 Unknown          1        2015   \n",
       " fc51fff5dc2d242a2783025c9b56e6acabe5b882 Mozilla Staff    3        2015   \n",
       " fc87b7898af1000722c871678a18fda92053c77e Unknown          1        2015   \n",
       " fc9ac0ea9c9c006e9f6b4e1923849da4d9019133 Unknown          2        2015   \n",
       " fcc314f378488607ff89b577640510cbd35feea2 Unknown          1        2015   \n",
       " fce71004360f65647b958242af6b75b7ab0ab825 Unknown          1        2015   \n",
       " fce7bfaa889d6926f0b7f81daea527ea81ba8d5a Unknown          1        2015   \n",
       " fd2d8cd6a7b41188df583f6b4e1d4469649bf11d Unknown          2        2015   \n",
       " fdbf3cb3c924a576b931dd91a684729a165ece70 Unknown          3        2015   \n",
       " fdc6f82e04ee3d4c516434248750715c534bfaa1 Unknown          1        2015   \n",
       " fdf130bacbfafb4fbdd558a74f4ec036dcf23f65 Unknown          1        2015   \n",
       " fdfa6813e3f19906d12888e2537057c8f69cf11d Unknown          1        2015   \n",
       " fe05ce0ceccdb52a12afe9e56c94e6ef4bbf70aa Unknown          3        2015   \n",
       " fe0d747661293b2a21ad0b2293012f7553e5da02 Unknown          1        2015   \n",
       " fe0fa9ba0e8a20cf568874120d3c4cbc780c8d47 Unknown          1        2015   \n",
       " fe205fe591d9b42d00de2f92003bd9b45b5d0eb3 Unknown          1        2015   \n",
       " fe28af1a16e251a913defa1d0e9ea7b0a015bc08 Unknown          1        2015   \n",
       " fe2de2401d3937dad6697bf9aa086fb045d3f167 Unknown          1        2015   \n",
       " fe31b9d47f52171b44106ebb18e176117bd2a188 Mozilla Staff    4        2015   \n",
       " feaedcf9bb2a82a916fe6dff975f9f457b34a2b8 Unknown          1        2015   \n",
       " fecfb3f1e77c401a5d2f25a3446a5c51b936d965 Unknown          1        2015   \n",
       " feeb48b17f59eb10a2e139835f16b472f3a541c2 Unknown          1        2015   \n",
       " ff190fb09c232205dee3c32385acfda924e9066e Unknown          1        2015   \n",
       " ffb85030992c03486902559e5a196507fa05ea6e Unknown          1        2015   \n",
       " ffc37980365bfbbc76045725216a0a8e9812a869 Unknown          2        2015   \n",
       " ffdde673b2e5df13b0b894e845fa0b74ddd1d600 Unknown          1        2015   \n",
       " \n",
       "                                                        project  \n",
       " Author                                   Org                    \n",
       " 000063c4e47e93ab3b30607680609e4d2500ce5d Mozilla Staff     All  \n",
       " 000336e205e3f5e2daa6e7a0b03e612b3b2b02d3 Mozilla Staff     All  \n",
       " 0008be398d86323b7ead363c4bbc11ea13ec731f Unknown           All  \n",
       " 000b0486e1fac53a6c55b0484bf905dc3bef4fdd Unknown           All  \n",
       " 0012fe0f0c0ebabfb0fbed08e160f6b23cd248f8 Unknown           All  \n",
       " 0014e7cebbe8ef11dab9eeb5f2111e01d9eea378 Mozilla Staff     All  \n",
       " 002893ffe1425c220756f8ba4c78e1e3bb0be50f Mozilla Staff     All  \n",
       " 0048976f39a07a5fce500b49e32f6b136ab7b9c5 Unknown           All  \n",
       " 0051e388088130f056aabacce3682cc6c79468b6 Unknown           All  \n",
       " 00522858c913429f887110c822c90446bc4ea2dd Unknown           All  \n",
       " 0053cdbb16a5b5db25afb2db43f540262f676563 Unknown           All  \n",
       " 00546f5b926491a6a72ff3d62d55167014239b36 Unknown           All  \n",
       " 005db5b9898e18d661aaceb15e15189ea9b77370 Unknown           All  \n",
       " 00623c2446d7c0e316ed60131b0dcd983149e555 Unknown           All  \n",
       " 006e0462f9d97fb9922369ba3a5823b4cc2943aa Unknown           All  \n",
       " 006fee3e0de309ff1e3e89c24f5e7032163c49c5 Mozilla Staff     All  \n",
       " 0077ed8ce0df63bf273d022edae59fc2664972dc Mozilla Staff     All  \n",
       " 00834d313bfc6fc60be1631bcc57b2c05ee2e0e3 Unknown           All  \n",
       " 00846eff46b051d92317fc74e54041c6fdccd7cf Mozilla Staff     All  \n",
       " 00890cbe5133b67bfa1021485959d2b42c11f4f8 Mozilla Staff     All  \n",
       " 0099f5fc8b2f425ee389ad2e08c1e19ab1e153b4 Unknown           All  \n",
       " 00a0004ed1bf1795be8dcf3879027a6729441006 Unknown           All  \n",
       " 00a3740494d5be8c12270d5310f087eb6be3ab84 Unknown           All  \n",
       " 00a40f9e9e7f7633ddab8291a99e1e487f88481c Unknown           All  \n",
       " 00a56f6298718c2d665792d61fa24c423fe10e67 Unknown           All  \n",
       " 00a65e9f51147e4f416ded3f494dd4bfc0977979 Mozilla Staff     All  \n",
       " 00acd754e27fc38187f89c96bf6ea54594a3c903 Unknown           All  \n",
       " 00b9e209a1d0e26aa24926a47574def39f4ffd12 Unknown           All  \n",
       " 00cf70ea99f95fa41a69a9a635a91d87653ed105 Unknown           All  \n",
       " 00da6ede3bff8db21a33473d7e552b76f50757eb Mozilla Staff     All  \n",
       " ...                                                        ...  \n",
       " fc077021dfac2f764734096b3f80634e3e0caf34 Unknown           All  \n",
       " fc1014534906cdff3f38a24b502aba84f105b1f7 Unknown           All  \n",
       " fc1202801ecba53ad5d579d55a2bef76bd2e713c Unknown           All  \n",
       " fc18754f2c4dc0c1c13c7f8a1cf7ac7206f3a12b Unknown           All  \n",
       " fc25ef12b628497a64aa45ad7e48dee097a2b9b7 Unknown           All  \n",
       " fc51fff5dc2d242a2783025c9b56e6acabe5b882 Mozilla Staff     All  \n",
       " fc87b7898af1000722c871678a18fda92053c77e Unknown           All  \n",
       " fc9ac0ea9c9c006e9f6b4e1923849da4d9019133 Unknown           All  \n",
       " fcc314f378488607ff89b577640510cbd35feea2 Unknown           All  \n",
       " fce71004360f65647b958242af6b75b7ab0ab825 Unknown           All  \n",
       " fce7bfaa889d6926f0b7f81daea527ea81ba8d5a Unknown           All  \n",
       " fd2d8cd6a7b41188df583f6b4e1d4469649bf11d Unknown           All  \n",
       " fdbf3cb3c924a576b931dd91a684729a165ece70 Unknown           All  \n",
       " fdc6f82e04ee3d4c516434248750715c534bfaa1 Unknown           All  \n",
       " fdf130bacbfafb4fbdd558a74f4ec036dcf23f65 Unknown           All  \n",
       " fdfa6813e3f19906d12888e2537057c8f69cf11d Unknown           All  \n",
       " fe05ce0ceccdb52a12afe9e56c94e6ef4bbf70aa Unknown           All  \n",
       " fe0d747661293b2a21ad0b2293012f7553e5da02 Unknown           All  \n",
       " fe0fa9ba0e8a20cf568874120d3c4cbc780c8d47 Unknown           All  \n",
       " fe205fe591d9b42d00de2f92003bd9b45b5d0eb3 Unknown           All  \n",
       " fe28af1a16e251a913defa1d0e9ea7b0a015bc08 Unknown           All  \n",
       " fe2de2401d3937dad6697bf9aa086fb045d3f167 Unknown           All  \n",
       " fe31b9d47f52171b44106ebb18e176117bd2a188 Mozilla Staff     All  \n",
       " feaedcf9bb2a82a916fe6dff975f9f457b34a2b8 Unknown           All  \n",
       " fecfb3f1e77c401a5d2f25a3446a5c51b936d965 Unknown           All  \n",
       " feeb48b17f59eb10a2e139835f16b472f3a541c2 Unknown           All  \n",
       " ff190fb09c232205dee3c32385acfda924e9066e Unknown           All  \n",
       " ffb85030992c03486902559e5a196507fa05ea6e Unknown           All  \n",
       " ffc37980365bfbbc76045725216a0a8e9812a869 Unknown           All  \n",
       " ffdde673b2e5df13b0b894e845fa0b74ddd1d600 Unknown           All  \n",
       " \n",
       " [4250 rows x 3 columns],\n",
       "                                                         exp last_active  \\\n",
       " Author                                   Org                              \n",
       " 000063c4e47e93ab3b30607680609e4d2500ce5d Mozilla Staff    2        2014   \n",
       " 000336e205e3f5e2daa6e7a0b03e612b3b2b02d3 Mozilla Staff    1        2014   \n",
       " 0008be398d86323b7ead363c4bbc11ea13ec731f Unknown          4        2014   \n",
       " 000b0486e1fac53a6c55b0484bf905dc3bef4fdd Unknown          1        2014   \n",
       " 000ec6cb39ae10256e263811d60695c14b9d2f9b Unknown          1        2014   \n",
       " 0014e7cebbe8ef11dab9eeb5f2111e01d9eea378 Mozilla Staff    4        2014   \n",
       " 001c44f9289b2ad4749a86596f61974e73da9cce Unknown          1        2014   \n",
       " 0024557ae888528269201bf218a84f90a0a6c5fd Unknown          1        2014   \n",
       " 002893ffe1425c220756f8ba4c78e1e3bb0be50f Mozilla Staff    3        2014   \n",
       " 002e3bc76e4c64115cd7c1e02414e3a1b0a1a1db Unknown          1        2014   \n",
       " 00357667ef0923eb2cb190111d207f241b4e7311 Unknown          2        2014   \n",
       " 0038dda05e4ed06872de41a78d10feed5a42a3c9 Unknown          1        2014   \n",
       " 00432eb3dd218cdc8adee9796b82236368680f25 Unknown          1        2014   \n",
       " 004e177eeed820a5e1e534401984ddf9beb87124 Mozilla Staff    3        2014   \n",
       " 0053cdbb16a5b5db25afb2db43f540262f676563 Unknown          1        2014   \n",
       " 00577b7b12cbdd220209b0ce7296d843f23a4c0e Unknown          1        2014   \n",
       " 006fee3e0de309ff1e3e89c24f5e7032163c49c5 Mozilla Staff    3        2014   \n",
       " 00752d7819e42d7b12a732073a37e3715fb7d734 Unknown          1        2014   \n",
       " 0076d868eaf9fff9e968890a89f4155123debc85 Unknown          1        2014   \n",
       " 00834d313bfc6fc60be1631bcc57b2c05ee2e0e3 Unknown          4        2014   \n",
       " 00846eff46b051d92317fc74e54041c6fdccd7cf Mozilla Staff    7        2014   \n",
       " 00890cbe5133b67bfa1021485959d2b42c11f4f8 Mozilla Staff    6        2014   \n",
       " 0091789f3a911b06d21a514efad806949e554e39 Unknown          1        2014   \n",
       " 00a1ae3e9e813a3b6ca82f65bd1abe28e5026575 Unknown          1        2014   \n",
       " 00a40f9e9e7f7633ddab8291a99e1e487f88481c Unknown          2        2014   \n",
       " 00bed31513e5ee127247599720b091e5569ce69b Unknown          1        2014   \n",
       " 00cc7763cfcebc7d4a96e734d86cbcf607b24f3c Unknown          1        2014   \n",
       " 00d2dec6f74a3cfc5fc39170b0a70b7aac85bbf9 Unknown          1        2014   \n",
       " 00da6ede3bff8db21a33473d7e552b76f50757eb Mozilla Staff    2        2014   \n",
       " 00e32ac2299ebf90ac6841cb01dad97768209dd9 Mozilla Staff    2        2014   \n",
       " ...                                                     ...         ...   \n",
       " fad0b2fa55f4a784ee76e09c4066545e4e7142c0 Mozilla Staff    2        2014   \n",
       " fad80f7834bb7a2725a9a0d8ec840d5b01438ed1 Unknown          1        2014   \n",
       " fb09f05ffff51b5a8e0900f9535835adb83e37eb Unknown          1        2014   \n",
       " fb7f6df80bb7fdfca28a56d2f79e859791e4cb25 Unknown          1        2014   \n",
       " fb960ccedb0776b8fb5124d62e4c0932624ab83b Unknown          1        2014   \n",
       " fbe4f601222aabea6519801396654f189f428d49 Unknown          2        2014   \n",
       " fc1202801ecba53ad5d579d55a2bef76bd2e713c Unknown          2        2014   \n",
       " fc2a4fcaf521209fc4ca44b1b5547b5af86bab9d Unknown          1        2014   \n",
       " fc51fff5dc2d242a2783025c9b56e6acabe5b882 Mozilla Staff    2        2014   \n",
       " fc9ac0ea9c9c006e9f6b4e1923849da4d9019133 Unknown          1        2014   \n",
       " fd1b9ea92cb9187f4f9b07f92a3b33e095698dca Unknown          2        2014   \n",
       " fd2d8cd6a7b41188df583f6b4e1d4469649bf11d Unknown          1        2014   \n",
       " fd3211157d292cda7e6d313c630bca57b698058f Unknown          1        2014   \n",
       " fdaf0d8bb40dc9ff873fc91fe168ad8bf531524f Unknown          1        2014   \n",
       " fdbf3cb3c924a576b931dd91a684729a165ece70 Unknown          2        2014   \n",
       " fe05ce0ceccdb52a12afe9e56c94e6ef4bbf70aa Unknown          2        2014   \n",
       " fe1f17354c916011eb93fcacb5bdf48a92d89d69 Mozilla Staff    5        2014   \n",
       " fe31b9d47f52171b44106ebb18e176117bd2a188 Mozilla Staff    3        2014   \n",
       " fe39138d88d437170dd576bb54da06e8757e93ac Unknown          1        2014   \n",
       " fe54f9ba9a12512c481408be02dd412afeeb1b2c Unknown          1        2014   \n",
       " fe73ee479278d847b94027b24b393560c95fda2b Unknown          1        2014   \n",
       " fe853f517fddf4c933fa1d1359c37cd69cd7df23 Unknown          1        2014   \n",
       " fedc4f03837704d03b7c831d4693c3c8068c4400 Unknown          1        2014   \n",
       " ff055a29f18b86de6df874343e0b54578681bfa3 Unknown          1        2014   \n",
       " ff22d606f0f256fc27183c031d02ac254f3a6955 Unknown          1        2014   \n",
       " ffa9fc7b3289712802bcaa7ad30bfa215ae2e475 Unknown          1        2014   \n",
       " ffb8485bd31e3c5bfb49ba34247672490ff54229 Unknown          2        2014   \n",
       " ffbf007d0c06ff40dcf17670272ee1ffa458b152 Unknown          1        2014   \n",
       " ffc37980365bfbbc76045725216a0a8e9812a869 Unknown          1        2014   \n",
       " ffd672f46140a6c267c9c3c612b0972b59d09ee2 Unknown          1        2014   \n",
       " \n",
       "                                                        project  \n",
       " Author                                   Org                    \n",
       " 000063c4e47e93ab3b30607680609e4d2500ce5d Mozilla Staff     All  \n",
       " 000336e205e3f5e2daa6e7a0b03e612b3b2b02d3 Mozilla Staff     All  \n",
       " 0008be398d86323b7ead363c4bbc11ea13ec731f Unknown           All  \n",
       " 000b0486e1fac53a6c55b0484bf905dc3bef4fdd Unknown           All  \n",
       " 000ec6cb39ae10256e263811d60695c14b9d2f9b Unknown           All  \n",
       " 0014e7cebbe8ef11dab9eeb5f2111e01d9eea378 Mozilla Staff     All  \n",
       " 001c44f9289b2ad4749a86596f61974e73da9cce Unknown           All  \n",
       " 0024557ae888528269201bf218a84f90a0a6c5fd Unknown           All  \n",
       " 002893ffe1425c220756f8ba4c78e1e3bb0be50f Mozilla Staff     All  \n",
       " 002e3bc76e4c64115cd7c1e02414e3a1b0a1a1db Unknown           All  \n",
       " 00357667ef0923eb2cb190111d207f241b4e7311 Unknown           All  \n",
       " 0038dda05e4ed06872de41a78d10feed5a42a3c9 Unknown           All  \n",
       " 00432eb3dd218cdc8adee9796b82236368680f25 Unknown           All  \n",
       " 004e177eeed820a5e1e534401984ddf9beb87124 Mozilla Staff     All  \n",
       " 0053cdbb16a5b5db25afb2db43f540262f676563 Unknown           All  \n",
       " 00577b7b12cbdd220209b0ce7296d843f23a4c0e Unknown           All  \n",
       " 006fee3e0de309ff1e3e89c24f5e7032163c49c5 Mozilla Staff     All  \n",
       " 00752d7819e42d7b12a732073a37e3715fb7d734 Unknown           All  \n",
       " 0076d868eaf9fff9e968890a89f4155123debc85 Unknown           All  \n",
       " 00834d313bfc6fc60be1631bcc57b2c05ee2e0e3 Unknown           All  \n",
       " 00846eff46b051d92317fc74e54041c6fdccd7cf Mozilla Staff     All  \n",
       " 00890cbe5133b67bfa1021485959d2b42c11f4f8 Mozilla Staff     All  \n",
       " 0091789f3a911b06d21a514efad806949e554e39 Unknown           All  \n",
       " 00a1ae3e9e813a3b6ca82f65bd1abe28e5026575 Unknown           All  \n",
       " 00a40f9e9e7f7633ddab8291a99e1e487f88481c Unknown           All  \n",
       " 00bed31513e5ee127247599720b091e5569ce69b Unknown           All  \n",
       " 00cc7763cfcebc7d4a96e734d86cbcf607b24f3c Unknown           All  \n",
       " 00d2dec6f74a3cfc5fc39170b0a70b7aac85bbf9 Unknown           All  \n",
       " 00da6ede3bff8db21a33473d7e552b76f50757eb Mozilla Staff     All  \n",
       " 00e32ac2299ebf90ac6841cb01dad97768209dd9 Mozilla Staff     All  \n",
       " ...                                                        ...  \n",
       " fad0b2fa55f4a784ee76e09c4066545e4e7142c0 Mozilla Staff     All  \n",
       " fad80f7834bb7a2725a9a0d8ec840d5b01438ed1 Unknown           All  \n",
       " fb09f05ffff51b5a8e0900f9535835adb83e37eb Unknown           All  \n",
       " fb7f6df80bb7fdfca28a56d2f79e859791e4cb25 Unknown           All  \n",
       " fb960ccedb0776b8fb5124d62e4c0932624ab83b Unknown           All  \n",
       " fbe4f601222aabea6519801396654f189f428d49 Unknown           All  \n",
       " fc1202801ecba53ad5d579d55a2bef76bd2e713c Unknown           All  \n",
       " fc2a4fcaf521209fc4ca44b1b5547b5af86bab9d Unknown           All  \n",
       " fc51fff5dc2d242a2783025c9b56e6acabe5b882 Mozilla Staff     All  \n",
       " fc9ac0ea9c9c006e9f6b4e1923849da4d9019133 Unknown           All  \n",
       " fd1b9ea92cb9187f4f9b07f92a3b33e095698dca Unknown           All  \n",
       " fd2d8cd6a7b41188df583f6b4e1d4469649bf11d Unknown           All  \n",
       " fd3211157d292cda7e6d313c630bca57b698058f Unknown           All  \n",
       " fdaf0d8bb40dc9ff873fc91fe168ad8bf531524f Unknown           All  \n",
       " fdbf3cb3c924a576b931dd91a684729a165ece70 Unknown           All  \n",
       " fe05ce0ceccdb52a12afe9e56c94e6ef4bbf70aa Unknown           All  \n",
       " fe1f17354c916011eb93fcacb5bdf48a92d89d69 Mozilla Staff     All  \n",
       " fe31b9d47f52171b44106ebb18e176117bd2a188 Mozilla Staff     All  \n",
       " fe39138d88d437170dd576bb54da06e8757e93ac Unknown           All  \n",
       " fe54f9ba9a12512c481408be02dd412afeeb1b2c Unknown           All  \n",
       " fe73ee479278d847b94027b24b393560c95fda2b Unknown           All  \n",
       " fe853f517fddf4c933fa1d1359c37cd69cd7df23 Unknown           All  \n",
       " fedc4f03837704d03b7c831d4693c3c8068c4400 Unknown           All  \n",
       " ff055a29f18b86de6df874343e0b54578681bfa3 Unknown           All  \n",
       " ff22d606f0f256fc27183c031d02ac254f3a6955 Unknown           All  \n",
       " ffa9fc7b3289712802bcaa7ad30bfa215ae2e475 Unknown           All  \n",
       " ffb8485bd31e3c5bfb49ba34247672490ff54229 Unknown           All  \n",
       " ffbf007d0c06ff40dcf17670272ee1ffa458b152 Unknown           All  \n",
       " ffc37980365bfbbc76045725216a0a8e9812a869 Unknown           All  \n",
       " ffd672f46140a6c267c9c3c612b0972b59d09ee2 Unknown           All  \n",
       " \n",
       " [3735 rows x 3 columns],\n",
       "                                                         exp last_active  \\\n",
       " Author                                   Org                              \n",
       " 000063c4e47e93ab3b30607680609e4d2500ce5d Mozilla Staff    1        2013   \n",
       " 0008be398d86323b7ead363c4bbc11ea13ec731f Unknown          3        2013   \n",
       " 0014e7cebbe8ef11dab9eeb5f2111e01d9eea378 Mozilla Staff    3        2013   \n",
       " 0026dfdc4cef5f8d49e6f1d0c62ea90df5f0e289 Unknown          1        2013   \n",
       " 002893ffe1425c220756f8ba4c78e1e3bb0be50f Mozilla Staff    2        2013   \n",
       " 00369d45b3015c1ff4255de882998e065d27c334 Unknown          1        2013   \n",
       " 00470cce1efaf0953609e338eb88c8ef8baca407 Mozilla Reps     2        2013   \n",
       " 004e177eeed820a5e1e534401984ddf9beb87124 Mozilla Staff    2        2013   \n",
       " 005ac920a7959e14b90c89c978da36fe8fc7d677 Unknown          1        2013   \n",
       " 005adcf96e7f9f333e5ff413f7608784aefdacee Mozilla Staff    2        2013   \n",
       " 005df2af7aaa5a8623bb90788ac733db4d211d0c Unknown          1        2013   \n",
       " 00633c4f1a29fc14c9f79d0aa0358fbfbe1b2a0c Unknown          6        2013   \n",
       " 006fee3e0de309ff1e3e89c24f5e7032163c49c5 Mozilla Staff    2        2013   \n",
       " 007712ac8ff5a0c7a250cb318d3533fd3141f398 Unknown          1        2013   \n",
       " 00795120132cf3e60ce599914d6804a030360498 Unknown          3        2013   \n",
       " 00834d313bfc6fc60be1631bcc57b2c05ee2e0e3 Unknown          3        2013   \n",
       " 00846eff46b051d92317fc74e54041c6fdccd7cf Mozilla Staff    6        2013   \n",
       " 00890cbe5133b67bfa1021485959d2b42c11f4f8 Mozilla Staff    5        2013   \n",
       " 008a7510bf7f19a4034a4d2c8dc65e761a675200 Unknown          1        2013   \n",
       " 00a40f9e9e7f7633ddab8291a99e1e487f88481c Unknown          1        2013   \n",
       " 00a65e9f51147e4f416ded3f494dd4bfc0977979 Mozilla Staff    3        2013   \n",
       " 00a8c05f6af31ed0296ef1dfd77822b912a8adab Unknown          1        2013   \n",
       " 00c1e252b234a2133dab43e15b35a6b93e257171 Unknown          1        2013   \n",
       " 00da6ede3bff8db21a33473d7e552b76f50757eb Mozilla Staff    1        2013   \n",
       " 00e32ac2299ebf90ac6841cb01dad97768209dd9 Mozilla Staff    1        2013   \n",
       " 00ed7b25063cf90c8bdeb9d45d37b73ba2317f96 Mozilla Staff    2        2013   \n",
       " 00ee7aa82c9595d25e08f280e35f98214255c6a9 Unknown          1        2013   \n",
       " 00fe2c9268c3070f0e336a9bf0f013c1c63cdb21 Unknown          1        2013   \n",
       " 01081562f7dd988d4759a2e1e9881d5f18c02d8c Mozilla Staff    3        2013   \n",
       " 0113220b14954de311e9d99f69338f0272c50dc7 Mozilla Staff    2        2013   \n",
       " ...                                                     ...         ...   \n",
       " f802c1a228179da47a4066d08d428f47644e6c53 Unknown          5        2013   \n",
       " f808b112f26a23a1ab067826d338454ac6cc72fe Unknown          1        2013   \n",
       " f842c920804eafeb8bd5a2d9a45414356758ead1 Unknown          1        2013   \n",
       " f8bc7f622cfa44bc21e472d584ef207da83fd788 Unknown          1        2013   \n",
       " f8c334e3b1e2c3e7594bb3720ae5ea88c05561c9 Unknown          1        2013   \n",
       " f97275300a2cb5d68a0732a0facdfae22a5179a2 Unknown          1        2013   \n",
       " f9da691990f12855cd5c5fd919fdccc4b3880c50 Unknown          1        2013   \n",
       " fa7e31366defd9dacb4b53e5880026e37adeea64 Unknown          1        2013   \n",
       " fa92923efabac872fc2bfcdcc25c9330784dee90 Unknown          1        2013   \n",
       " fa9ddc313bd24d9505adb3ee54ee119c036cefae Unknown          1        2013   \n",
       " fac187cac37bd3d6f061a2af635e80d046d29f2b Unknown          1        2013   \n",
       " fad6cb0f5222600afeb31c2602bfe2c5f8aa2ab8 Unknown          1        2013   \n",
       " fb6ff2f456a1df07052790d4aab5043664357c66 Unknown          1        2013   \n",
       " fbe4f601222aabea6519801396654f189f428d49 Unknown          1        2013   \n",
       " fc1202801ecba53ad5d579d55a2bef76bd2e713c Unknown          1        2013   \n",
       " fc51fff5dc2d242a2783025c9b56e6acabe5b882 Mozilla Staff    1        2013   \n",
       " fcb2bf678e25d89ec772932cd3285fceec910898 Unknown          1        2013   \n",
       " fd1b9ea92cb9187f4f9b07f92a3b33e095698dca Unknown          1        2013   \n",
       " fd9118ab3244645177a87b5eda93d9efe6fabaa2 Unknown          1        2013   \n",
       " fdbb0381d648717cf3f6448b8652338636a113ff Unknown          1        2013   \n",
       " fdbf3cb3c924a576b931dd91a684729a165ece70 Unknown          1        2013   \n",
       " fe05ce0ceccdb52a12afe9e56c94e6ef4bbf70aa Unknown          1        2013   \n",
       " fe1f17354c916011eb93fcacb5bdf48a92d89d69 Mozilla Staff    4        2013   \n",
       " fe31b9d47f52171b44106ebb18e176117bd2a188 Mozilla Staff    2        2013   \n",
       " fe39a8c4441ac414d7e62874ca1bfe512b8ba118 Unknown          1        2013   \n",
       " fe3a133af37706bef2988e6704540dc21155ba15 Unknown          2        2013   \n",
       " fe474818dc1b772faf8dbc9c2ebb17709f32c407 Unknown          1        2013   \n",
       " febe3f5077dbb12aa950a4ee57f4bde1d3eb951b Unknown          1        2013   \n",
       " fec9a42db9f14de47be9f31294f28b42a1b839fb Unknown          1        2013   \n",
       " ff0c6cd0df92b5090dfd08ba4b97746c23637214 Unknown          1        2013   \n",
       " \n",
       "                                                        project  \n",
       " Author                                   Org                    \n",
       " 000063c4e47e93ab3b30607680609e4d2500ce5d Mozilla Staff     All  \n",
       " 0008be398d86323b7ead363c4bbc11ea13ec731f Unknown           All  \n",
       " 0014e7cebbe8ef11dab9eeb5f2111e01d9eea378 Mozilla Staff     All  \n",
       " 0026dfdc4cef5f8d49e6f1d0c62ea90df5f0e289 Unknown           All  \n",
       " 002893ffe1425c220756f8ba4c78e1e3bb0be50f Mozilla Staff     All  \n",
       " 00369d45b3015c1ff4255de882998e065d27c334 Unknown           All  \n",
       " 00470cce1efaf0953609e338eb88c8ef8baca407 Mozilla Reps      All  \n",
       " 004e177eeed820a5e1e534401984ddf9beb87124 Mozilla Staff     All  \n",
       " 005ac920a7959e14b90c89c978da36fe8fc7d677 Unknown           All  \n",
       " 005adcf96e7f9f333e5ff413f7608784aefdacee Mozilla Staff     All  \n",
       " 005df2af7aaa5a8623bb90788ac733db4d211d0c Unknown           All  \n",
       " 00633c4f1a29fc14c9f79d0aa0358fbfbe1b2a0c Unknown           All  \n",
       " 006fee3e0de309ff1e3e89c24f5e7032163c49c5 Mozilla Staff     All  \n",
       " 007712ac8ff5a0c7a250cb318d3533fd3141f398 Unknown           All  \n",
       " 00795120132cf3e60ce599914d6804a030360498 Unknown           All  \n",
       " 00834d313bfc6fc60be1631bcc57b2c05ee2e0e3 Unknown           All  \n",
       " 00846eff46b051d92317fc74e54041c6fdccd7cf Mozilla Staff     All  \n",
       " 00890cbe5133b67bfa1021485959d2b42c11f4f8 Mozilla Staff     All  \n",
       " 008a7510bf7f19a4034a4d2c8dc65e761a675200 Unknown           All  \n",
       " 00a40f9e9e7f7633ddab8291a99e1e487f88481c Unknown           All  \n",
       " 00a65e9f51147e4f416ded3f494dd4bfc0977979 Mozilla Staff     All  \n",
       " 00a8c05f6af31ed0296ef1dfd77822b912a8adab Unknown           All  \n",
       " 00c1e252b234a2133dab43e15b35a6b93e257171 Unknown           All  \n",
       " 00da6ede3bff8db21a33473d7e552b76f50757eb Mozilla Staff     All  \n",
       " 00e32ac2299ebf90ac6841cb01dad97768209dd9 Mozilla Staff     All  \n",
       " 00ed7b25063cf90c8bdeb9d45d37b73ba2317f96 Mozilla Staff     All  \n",
       " 00ee7aa82c9595d25e08f280e35f98214255c6a9 Unknown           All  \n",
       " 00fe2c9268c3070f0e336a9bf0f013c1c63cdb21 Unknown           All  \n",
       " 01081562f7dd988d4759a2e1e9881d5f18c02d8c Mozilla Staff     All  \n",
       " 0113220b14954de311e9d99f69338f0272c50dc7 Mozilla Staff     All  \n",
       " ...                                                        ...  \n",
       " f802c1a228179da47a4066d08d428f47644e6c53 Unknown           All  \n",
       " f808b112f26a23a1ab067826d338454ac6cc72fe Unknown           All  \n",
       " f842c920804eafeb8bd5a2d9a45414356758ead1 Unknown           All  \n",
       " f8bc7f622cfa44bc21e472d584ef207da83fd788 Unknown           All  \n",
       " f8c334e3b1e2c3e7594bb3720ae5ea88c05561c9 Unknown           All  \n",
       " f97275300a2cb5d68a0732a0facdfae22a5179a2 Unknown           All  \n",
       " f9da691990f12855cd5c5fd919fdccc4b3880c50 Unknown           All  \n",
       " fa7e31366defd9dacb4b53e5880026e37adeea64 Unknown           All  \n",
       " fa92923efabac872fc2bfcdcc25c9330784dee90 Unknown           All  \n",
       " fa9ddc313bd24d9505adb3ee54ee119c036cefae Unknown           All  \n",
       " fac187cac37bd3d6f061a2af635e80d046d29f2b Unknown           All  \n",
       " fad6cb0f5222600afeb31c2602bfe2c5f8aa2ab8 Unknown           All  \n",
       " fb6ff2f456a1df07052790d4aab5043664357c66 Unknown           All  \n",
       " fbe4f601222aabea6519801396654f189f428d49 Unknown           All  \n",
       " fc1202801ecba53ad5d579d55a2bef76bd2e713c Unknown           All  \n",
       " fc51fff5dc2d242a2783025c9b56e6acabe5b882 Mozilla Staff     All  \n",
       " fcb2bf678e25d89ec772932cd3285fceec910898 Unknown           All  \n",
       " fd1b9ea92cb9187f4f9b07f92a3b33e095698dca Unknown           All  \n",
       " fd9118ab3244645177a87b5eda93d9efe6fabaa2 Unknown           All  \n",
       " fdbb0381d648717cf3f6448b8652338636a113ff Unknown           All  \n",
       " fdbf3cb3c924a576b931dd91a684729a165ece70 Unknown           All  \n",
       " fe05ce0ceccdb52a12afe9e56c94e6ef4bbf70aa Unknown           All  \n",
       " fe1f17354c916011eb93fcacb5bdf48a92d89d69 Mozilla Staff     All  \n",
       " fe31b9d47f52171b44106ebb18e176117bd2a188 Mozilla Staff     All  \n",
       " fe39a8c4441ac414d7e62874ca1bfe512b8ba118 Unknown           All  \n",
       " fe3a133af37706bef2988e6704540dc21155ba15 Unknown           All  \n",
       " fe474818dc1b772faf8dbc9c2ebb17709f32c407 Unknown           All  \n",
       " febe3f5077dbb12aa950a4ee57f4bde1d3eb951b Unknown           All  \n",
       " fec9a42db9f14de47be9f31294f28b42a1b839fb Unknown           All  \n",
       " ff0c6cd0df92b5090dfd08ba4b97746c23637214 Unknown           All  \n",
       " \n",
       " [2641 rows x 3 columns],\n",
       "                                                         exp last_active  \\\n",
       " Author                                   Org                              \n",
       " 0008be398d86323b7ead363c4bbc11ea13ec731f Unknown          2        2012   \n",
       " 000be6a746f13ad10b413695876a782c87512dfa Unknown          1        2012   \n",
       " 0014e7cebbe8ef11dab9eeb5f2111e01d9eea378 Mozilla Staff    2        2012   \n",
       " 002893ffe1425c220756f8ba4c78e1e3bb0be50f Mozilla Staff    1        2012   \n",
       " 00470cce1efaf0953609e338eb88c8ef8baca407 Mozilla Reps     1        2012   \n",
       " 004e177eeed820a5e1e534401984ddf9beb87124 Mozilla Staff    1        2012   \n",
       " 004ff1428d2e85956f36581c53df0fd24866bae8 Unknown          1        2012   \n",
       " 005ab97d7cab67766f6517fb4779bfba884a0497 Unknown          1        2012   \n",
       " 005adcf96e7f9f333e5ff413f7608784aefdacee Mozilla Staff    1        2012   \n",
       " 00633c4f1a29fc14c9f79d0aa0358fbfbe1b2a0c Unknown          5        2012   \n",
       " 006fee3e0de309ff1e3e89c24f5e7032163c49c5 Mozilla Staff    1        2012   \n",
       " 00795120132cf3e60ce599914d6804a030360498 Unknown          2        2012   \n",
       " 00834d313bfc6fc60be1631bcc57b2c05ee2e0e3 Unknown          2        2012   \n",
       " 00846eff46b051d92317fc74e54041c6fdccd7cf Mozilla Staff    5        2012   \n",
       " 00890cbe5133b67bfa1021485959d2b42c11f4f8 Mozilla Staff    4        2012   \n",
       " 00a65e9f51147e4f416ded3f494dd4bfc0977979 Mozilla Staff    2        2012   \n",
       " 00b52ff65a87aab1c303af9b307281582ce91676 Unknown          2        2012   \n",
       " 00cf9a30f453b6f048f4976329c1e0525a357a80 Unknown          1        2012   \n",
       " 00ed7b25063cf90c8bdeb9d45d37b73ba2317f96 Mozilla Staff    1        2012   \n",
       " 00fe8d2e32e084ed79d49e277e0c823dbf8d3b7b Unknown          1        2012   \n",
       " 01081562f7dd988d4759a2e1e9881d5f18c02d8c Mozilla Staff    2        2012   \n",
       " 0113220b14954de311e9d99f69338f0272c50dc7 Mozilla Staff    1        2012   \n",
       " 012f9fe0064209c2affd5810083edccc723b32a9 Mozilla Staff    6        2012   \n",
       " 0134e2ebeec7f2f1acf7c635b5b22e2c441bd3ec Mozilla Staff    4        2012   \n",
       " 0140e9772dc0631597e12a5c3ef7e8174defdb1f Mozilla Staff    1        2012   \n",
       " 016dd3752addfe79920fcaa2934d0961c510d116 Mozilla Staff    2        2012   \n",
       " 0170d5f0fceacd5683a9749a20e7234d0d58cb45 Mozilla Staff    3        2012   \n",
       " 017b7dd849bb5376199cc45e8058c4d31d12d916 Unknown          2        2012   \n",
       " 017cc9d527c17d49c1f27c3f6a5b6c6fb1aeecf9 Unknown          1        2012   \n",
       " 0183bd06d487bf71fd39a568ae892e3ec3079d82 Mozilla Staff    1        2012   \n",
       " ...                                                     ...         ...   \n",
       " f4a74f479f418b71c2d7112ef0e8330e4870276f Unknown          1        2012   \n",
       " f4d79dfa40e014eaa1792cf0bedaf8d790d2d851 Unknown          1        2012   \n",
       " f537b7e9a9d081958222825becde1eb684b72198 Mozilla Staff    1        2012   \n",
       " f5a0bb626f6657b2c8ba4e5e3baec33f73c913ab Unknown          1        2012   \n",
       " f6bf084934e83d1fd7bb02a9ac6c768f17f0fe1d Unknown          1        2012   \n",
       " f73deafdc34c24d2b070ccd360ae625fd7f8116d Unknown          1        2012   \n",
       " f748fcce1c0a409e73cea35446160c5553a30cd8 Unknown          1        2012   \n",
       " f762acd7f64cc5c8d85fba5c3c911166e8ce932b Unknown          1        2012   \n",
       " f7661b46d9cf1766e3c17e582e06ccf0d462f931 Unknown          2        2012   \n",
       " f79dae145bb7db844d06f56202630ee98e4e2c7c Unknown          4        2012   \n",
       " f7b9d03aa9f68ee590006868f3fc17929d8fd296 Mozilla Staff    2        2012   \n",
       " f802c1a228179da47a4066d08d428f47644e6c53 Unknown          4        2012   \n",
       " f94719bc2dba78ae7d3238a47b0b3773b3fd2f92 Unknown          1        2012   \n",
       " f9b5b87b2901e448a38f9c6c87f748fbfeb974f8 Unknown          1        2012   \n",
       " fa32fc2fb237a4b496dfddf85526bcaf0ae885ad Unknown          1        2012   \n",
       " faa78743c02e4bf96773b4a7fb958fd906777b3a Unknown          1        2012   \n",
       " fac12cc625f7cf05596762597710825df70ff77a Unknown          2        2012   \n",
       " fb1bcbada324127eaf2f46f9c362aa173644ea8a Unknown          1        2012   \n",
       " fc077021dfac2f764734096b3f80634e3e0caf34 Unknown          3        2012   \n",
       " fc0b2608dc70214afc0cd041404fa4850f562ba9 Unknown          2        2012   \n",
       " fcc49eb60a570b69cdd75b162f37cf03e8a52036 Unknown          1        2012   \n",
       " fd681b3e809fed214788b21ac8c8e4e9e20a4cb5 Unknown          1        2012   \n",
       " fdf63b40af15c2970bced3a86af6f75b9370284d Unknown          1        2012   \n",
       " fe1f17354c916011eb93fcacb5bdf48a92d89d69 Mozilla Staff    3        2012   \n",
       " fe31b9d47f52171b44106ebb18e176117bd2a188 Mozilla Staff    1        2012   \n",
       " fe3a133af37706bef2988e6704540dc21155ba15 Unknown          1        2012   \n",
       " fe529271548f47128444b2fb520068442652fd0e Unknown          4        2012   \n",
       " ff4165742677aa292a4d1f055e56216b9531a84a Unknown          1        2012   \n",
       " ff5ff03bcfff26b1adcb5bad471a8fc52d677e2d Unknown          1        2012   \n",
       " ff7ea641ffd0c0f7df4322798002d02351068b99 Unknown          1        2012   \n",
       " \n",
       "                                                        project  \n",
       " Author                                   Org                    \n",
       " 0008be398d86323b7ead363c4bbc11ea13ec731f Unknown           All  \n",
       " 000be6a746f13ad10b413695876a782c87512dfa Unknown           All  \n",
       " 0014e7cebbe8ef11dab9eeb5f2111e01d9eea378 Mozilla Staff     All  \n",
       " 002893ffe1425c220756f8ba4c78e1e3bb0be50f Mozilla Staff     All  \n",
       " 00470cce1efaf0953609e338eb88c8ef8baca407 Mozilla Reps      All  \n",
       " 004e177eeed820a5e1e534401984ddf9beb87124 Mozilla Staff     All  \n",
       " 004ff1428d2e85956f36581c53df0fd24866bae8 Unknown           All  \n",
       " 005ab97d7cab67766f6517fb4779bfba884a0497 Unknown           All  \n",
       " 005adcf96e7f9f333e5ff413f7608784aefdacee Mozilla Staff     All  \n",
       " 00633c4f1a29fc14c9f79d0aa0358fbfbe1b2a0c Unknown           All  \n",
       " 006fee3e0de309ff1e3e89c24f5e7032163c49c5 Mozilla Staff     All  \n",
       " 00795120132cf3e60ce599914d6804a030360498 Unknown           All  \n",
       " 00834d313bfc6fc60be1631bcc57b2c05ee2e0e3 Unknown           All  \n",
       " 00846eff46b051d92317fc74e54041c6fdccd7cf Mozilla Staff     All  \n",
       " 00890cbe5133b67bfa1021485959d2b42c11f4f8 Mozilla Staff     All  \n",
       " 00a65e9f51147e4f416ded3f494dd4bfc0977979 Mozilla Staff     All  \n",
       " 00b52ff65a87aab1c303af9b307281582ce91676 Unknown           All  \n",
       " 00cf9a30f453b6f048f4976329c1e0525a357a80 Unknown           All  \n",
       " 00ed7b25063cf90c8bdeb9d45d37b73ba2317f96 Mozilla Staff     All  \n",
       " 00fe8d2e32e084ed79d49e277e0c823dbf8d3b7b Unknown           All  \n",
       " 01081562f7dd988d4759a2e1e9881d5f18c02d8c Mozilla Staff     All  \n",
       " 0113220b14954de311e9d99f69338f0272c50dc7 Mozilla Staff     All  \n",
       " 012f9fe0064209c2affd5810083edccc723b32a9 Mozilla Staff     All  \n",
       " 0134e2ebeec7f2f1acf7c635b5b22e2c441bd3ec Mozilla Staff     All  \n",
       " 0140e9772dc0631597e12a5c3ef7e8174defdb1f Mozilla Staff     All  \n",
       " 016dd3752addfe79920fcaa2934d0961c510d116 Mozilla Staff     All  \n",
       " 0170d5f0fceacd5683a9749a20e7234d0d58cb45 Mozilla Staff     All  \n",
       " 017b7dd849bb5376199cc45e8058c4d31d12d916 Unknown           All  \n",
       " 017cc9d527c17d49c1f27c3f6a5b6c6fb1aeecf9 Unknown           All  \n",
       " 0183bd06d487bf71fd39a568ae892e3ec3079d82 Mozilla Staff     All  \n",
       " ...                                                        ...  \n",
       " f4a74f479f418b71c2d7112ef0e8330e4870276f Unknown           All  \n",
       " f4d79dfa40e014eaa1792cf0bedaf8d790d2d851 Unknown           All  \n",
       " f537b7e9a9d081958222825becde1eb684b72198 Mozilla Staff     All  \n",
       " f5a0bb626f6657b2c8ba4e5e3baec33f73c913ab Unknown           All  \n",
       " f6bf084934e83d1fd7bb02a9ac6c768f17f0fe1d Unknown           All  \n",
       " f73deafdc34c24d2b070ccd360ae625fd7f8116d Unknown           All  \n",
       " f748fcce1c0a409e73cea35446160c5553a30cd8 Unknown           All  \n",
       " f762acd7f64cc5c8d85fba5c3c911166e8ce932b Unknown           All  \n",
       " f7661b46d9cf1766e3c17e582e06ccf0d462f931 Unknown           All  \n",
       " f79dae145bb7db844d06f56202630ee98e4e2c7c Unknown           All  \n",
       " f7b9d03aa9f68ee590006868f3fc17929d8fd296 Mozilla Staff     All  \n",
       " f802c1a228179da47a4066d08d428f47644e6c53 Unknown           All  \n",
       " f94719bc2dba78ae7d3238a47b0b3773b3fd2f92 Unknown           All  \n",
       " f9b5b87b2901e448a38f9c6c87f748fbfeb974f8 Unknown           All  \n",
       " fa32fc2fb237a4b496dfddf85526bcaf0ae885ad Unknown           All  \n",
       " faa78743c02e4bf96773b4a7fb958fd906777b3a Unknown           All  \n",
       " fac12cc625f7cf05596762597710825df70ff77a Unknown           All  \n",
       " fb1bcbada324127eaf2f46f9c362aa173644ea8a Unknown           All  \n",
       " fc077021dfac2f764734096b3f80634e3e0caf34 Unknown           All  \n",
       " fc0b2608dc70214afc0cd041404fa4850f562ba9 Unknown           All  \n",
       " fcc49eb60a570b69cdd75b162f37cf03e8a52036 Unknown           All  \n",
       " fd681b3e809fed214788b21ac8c8e4e9e20a4cb5 Unknown           All  \n",
       " fdf63b40af15c2970bced3a86af6f75b9370284d Unknown           All  \n",
       " fe1f17354c916011eb93fcacb5bdf48a92d89d69 Mozilla Staff     All  \n",
       " fe31b9d47f52171b44106ebb18e176117bd2a188 Mozilla Staff     All  \n",
       " fe3a133af37706bef2988e6704540dc21155ba15 Unknown           All  \n",
       " fe529271548f47128444b2fb520068442652fd0e Unknown           All  \n",
       " ff4165742677aa292a4d1f055e56216b9531a84a Unknown           All  \n",
       " ff5ff03bcfff26b1adcb5bad471a8fc52d677e2d Unknown           All  \n",
       " ff7ea641ffd0c0f7df4322798002d02351068b99 Unknown           All  \n",
       " \n",
       " [1959 rows x 3 columns],\n",
       "                                                         exp last_active  \\\n",
       " Author                                   Org                              \n",
       " 0008be398d86323b7ead363c4bbc11ea13ec731f Unknown          1        2011   \n",
       " 0014e7cebbe8ef11dab9eeb5f2111e01d9eea378 Mozilla Staff    1        2011   \n",
       " 002893ffe1425c220756f8ba4c78e1e3bb0be50f Unknown          1        2011   \n",
       " 00640f5b3dc155e70ea0d9811009ebbc0e7d4cba Unknown          1        2011   \n",
       " 00795120132cf3e60ce599914d6804a030360498 Unknown          1        2011   \n",
       " 007edc6b2da2c508a9106c678aeb02b020dfc807 Unknown          1        2011   \n",
       " 00821bde358f42d5121a3ceafd1e4637d5d1abd8 Unknown          1        2011   \n",
       " 00834d313bfc6fc60be1631bcc57b2c05ee2e0e3 Mozilla Staff    2        2011   \n",
       " 00846eff46b051d92317fc74e54041c6fdccd7cf Mozilla Staff    4        2011   \n",
       " 00890cbe5133b67bfa1021485959d2b42c11f4f8 Mozilla Staff    3        2011   \n",
       " 008998a9093125cb21f796d1c50e0496296d4f27 Unknown          1        2011   \n",
       " 00a65e9f51147e4f416ded3f494dd4bfc0977979 Mozilla Staff    1        2011   \n",
       " 00b0f86e494139b1e565b356297f8e9cc44b5cc0 Unknown          1        2011   \n",
       " 00b52ff65a87aab1c303af9b307281582ce91676 Unknown          1        2011   \n",
       " 00c38f0a5e44692e3722cd5087b3cbc0f45f56fd Mozilla Staff    1        2011   \n",
       " 00ed7b25063cf90c8bdeb9d45d37b73ba2317f96 Unknown          3        2011   \n",
       " 01081562f7dd988d4759a2e1e9881d5f18c02d8c Mozilla Staff    1        2011   \n",
       " 01169ef6cfd62cbbc4f5f7b7b22513fc59ff8e59 Unknown          1        2011   \n",
       " 012f9fe0064209c2affd5810083edccc723b32a9 Mozilla Staff    5        2011   \n",
       " 0134e2ebeec7f2f1acf7c635b5b22e2c441bd3ec Mozilla Staff    3        2011   \n",
       " 015d87534f70c362eb2ce0430b2d6886e328223c Mozilla Staff    2        2011   \n",
       " 016dd3752addfe79920fcaa2934d0961c510d116 Mozilla Staff    1        2011   \n",
       " 0170d5f0fceacd5683a9749a20e7234d0d58cb45 Mozilla Staff    2        2011   \n",
       " 017b7dd849bb5376199cc45e8058c4d31d12d916 Unknown          1        2011   \n",
       " 0184f0206d1ec55ce7aa9d6e67bda20c53d22d36 Mozilla Staff    1        2011   \n",
       " 018ae8f15c6b66b367f689139ad710cc0d5067f3 Unknown          1        2011   \n",
       " 0191967e28320c8827e762ac0ccaf1847abffcc8 Unknown          1        2011   \n",
       " 019ee580517ec3e8eb2c90ad0e3b2d749e9f0359 Code Sheriff     3        2011   \n",
       " 01a0ffd68e3b0ac6359b920e733043b6be0dba12 Unknown          4        2011   \n",
       " 01a32a8c3037c692e4192e182ece28cfd8776fe0 Mozilla Staff    3        2011   \n",
       " ...                                                     ...         ...   \n",
       " f324d89fe35be9b790c79d9e65c7bfa99877879a Unknown          1        2011   \n",
       " f3a4bcdcbf4739300077c5cbbf3f7adf38de0410 Unknown          1        2011   \n",
       " f3f96f241cf9c67cb8d721e14e08b814f5f1bcee Unknown          2        2011   \n",
       " f537b7e9a9d081958222825becde1eb684b72198 Unknown          1        2011   \n",
       " f55144080328a5a2e591b8fb0859789b2d058e07 Unknown          1        2011   \n",
       " f56d9be0adf0f98bb0e01915a97fb7f09cc54129 Unknown          1        2011   \n",
       " f573761a250e680c261f46fc3a8cb95ffe14040c Mozilla Staff    1        2011   \n",
       " f6eb98ee9c12bb79466551e87ee725f2b2badd5d Unknown          2        2011   \n",
       " f7661b46d9cf1766e3c17e582e06ccf0d462f931 Unknown          1        2011   \n",
       " f79dae145bb7db844d06f56202630ee98e4e2c7c Unknown          3        2011   \n",
       " f7b9d03aa9f68ee590006868f3fc17929d8fd296 Mozilla Staff    1        2011   \n",
       " f802c1a228179da47a4066d08d428f47644e6c53 Unknown          3        2011   \n",
       " f8b6fc029f246be4ca3aa143d00c22ade66c66b7 Unknown          1        2011   \n",
       " f90885019db6070b67124c32dd44561eaaa0b7ee Unknown          1        2011   \n",
       " fac12cc625f7cf05596762597710825df70ff77a Unknown          1        2011   \n",
       " fad0b2fa55f4a784ee76e09c4066545e4e7142c0 Mozilla Staff    1        2011   \n",
       " fb5b057baf34469b525f2335e83bc516bf6f4a30 Unknown          1        2011   \n",
       " fbc36948d5df09714c4ee3277a5553f986dac630 Unknown          1        2011   \n",
       " fbdcae3cda13a69ce00c6079442c3b46d4169928 Unknown          1        2011   \n",
       " fbf765abb02c142ac05383f00c62f3acf1ab9828 Unknown          2        2011   \n",
       " fc077021dfac2f764734096b3f80634e3e0caf34 Unknown          2        2011   \n",
       " fc0b2608dc70214afc0cd041404fa4850f562ba9 Unknown          1        2011   \n",
       " fc901918346f9204f99326c3cd57a097b5454d0d Unknown          1        2011   \n",
       " fcaa41695c63af83b020ba7a4d050e4f8c736bb6 Unknown          1        2011   \n",
       " fcce37fe722410434e9bedc4ab86df7fa259dbf6 Unknown          1        2011   \n",
       " fd164c87bb90f18a2e4738015d8c890718d3baca Unknown          1        2011   \n",
       " fdb2d68d3963356551b7e1cb88008a9f59bfcd73 Unknown          1        2011   \n",
       " fe1f17354c916011eb93fcacb5bdf48a92d89d69 Mozilla Staff    2        2011   \n",
       " fe529271548f47128444b2fb520068442652fd0e Unknown          3        2011   \n",
       " fea07df8898612f97e77c2df0b4c1176fb8edd4b Unknown          1        2011   \n",
       " \n",
       "                                                        project  \n",
       " Author                                   Org                    \n",
       " 0008be398d86323b7ead363c4bbc11ea13ec731f Unknown           All  \n",
       " 0014e7cebbe8ef11dab9eeb5f2111e01d9eea378 Mozilla Staff     All  \n",
       " 002893ffe1425c220756f8ba4c78e1e3bb0be50f Unknown           All  \n",
       " 00640f5b3dc155e70ea0d9811009ebbc0e7d4cba Unknown           All  \n",
       " 00795120132cf3e60ce599914d6804a030360498 Unknown           All  \n",
       " 007edc6b2da2c508a9106c678aeb02b020dfc807 Unknown           All  \n",
       " 00821bde358f42d5121a3ceafd1e4637d5d1abd8 Unknown           All  \n",
       " 00834d313bfc6fc60be1631bcc57b2c05ee2e0e3 Mozilla Staff     All  \n",
       " 00846eff46b051d92317fc74e54041c6fdccd7cf Mozilla Staff     All  \n",
       " 00890cbe5133b67bfa1021485959d2b42c11f4f8 Mozilla Staff     All  \n",
       " 008998a9093125cb21f796d1c50e0496296d4f27 Unknown           All  \n",
       " 00a65e9f51147e4f416ded3f494dd4bfc0977979 Mozilla Staff     All  \n",
       " 00b0f86e494139b1e565b356297f8e9cc44b5cc0 Unknown           All  \n",
       " 00b52ff65a87aab1c303af9b307281582ce91676 Unknown           All  \n",
       " 00c38f0a5e44692e3722cd5087b3cbc0f45f56fd Mozilla Staff     All  \n",
       " 00ed7b25063cf90c8bdeb9d45d37b73ba2317f96 Unknown           All  \n",
       " 01081562f7dd988d4759a2e1e9881d5f18c02d8c Mozilla Staff     All  \n",
       " 01169ef6cfd62cbbc4f5f7b7b22513fc59ff8e59 Unknown           All  \n",
       " 012f9fe0064209c2affd5810083edccc723b32a9 Mozilla Staff     All  \n",
       " 0134e2ebeec7f2f1acf7c635b5b22e2c441bd3ec Mozilla Staff     All  \n",
       " 015d87534f70c362eb2ce0430b2d6886e328223c Mozilla Staff     All  \n",
       " 016dd3752addfe79920fcaa2934d0961c510d116 Mozilla Staff     All  \n",
       " 0170d5f0fceacd5683a9749a20e7234d0d58cb45 Mozilla Staff     All  \n",
       " 017b7dd849bb5376199cc45e8058c4d31d12d916 Unknown           All  \n",
       " 0184f0206d1ec55ce7aa9d6e67bda20c53d22d36 Mozilla Staff     All  \n",
       " 018ae8f15c6b66b367f689139ad710cc0d5067f3 Unknown           All  \n",
       " 0191967e28320c8827e762ac0ccaf1847abffcc8 Unknown           All  \n",
       " 019ee580517ec3e8eb2c90ad0e3b2d749e9f0359 Code Sheriff      All  \n",
       " 01a0ffd68e3b0ac6359b920e733043b6be0dba12 Unknown           All  \n",
       " 01a32a8c3037c692e4192e182ece28cfd8776fe0 Mozilla Staff     All  \n",
       " ...                                                        ...  \n",
       " f324d89fe35be9b790c79d9e65c7bfa99877879a Unknown           All  \n",
       " f3a4bcdcbf4739300077c5cbbf3f7adf38de0410 Unknown           All  \n",
       " f3f96f241cf9c67cb8d721e14e08b814f5f1bcee Unknown           All  \n",
       " f537b7e9a9d081958222825becde1eb684b72198 Unknown           All  \n",
       " f55144080328a5a2e591b8fb0859789b2d058e07 Unknown           All  \n",
       " f56d9be0adf0f98bb0e01915a97fb7f09cc54129 Unknown           All  \n",
       " f573761a250e680c261f46fc3a8cb95ffe14040c Mozilla Staff     All  \n",
       " f6eb98ee9c12bb79466551e87ee725f2b2badd5d Unknown           All  \n",
       " f7661b46d9cf1766e3c17e582e06ccf0d462f931 Unknown           All  \n",
       " f79dae145bb7db844d06f56202630ee98e4e2c7c Unknown           All  \n",
       " f7b9d03aa9f68ee590006868f3fc17929d8fd296 Mozilla Staff     All  \n",
       " f802c1a228179da47a4066d08d428f47644e6c53 Unknown           All  \n",
       " f8b6fc029f246be4ca3aa143d00c22ade66c66b7 Unknown           All  \n",
       " f90885019db6070b67124c32dd44561eaaa0b7ee Unknown           All  \n",
       " fac12cc625f7cf05596762597710825df70ff77a Unknown           All  \n",
       " fad0b2fa55f4a784ee76e09c4066545e4e7142c0 Mozilla Staff     All  \n",
       " fb5b057baf34469b525f2335e83bc516bf6f4a30 Unknown           All  \n",
       " fbc36948d5df09714c4ee3277a5553f986dac630 Unknown           All  \n",
       " fbdcae3cda13a69ce00c6079442c3b46d4169928 Unknown           All  \n",
       " fbf765abb02c142ac05383f00c62f3acf1ab9828 Unknown           All  \n",
       " fc077021dfac2f764734096b3f80634e3e0caf34 Unknown           All  \n",
       " fc0b2608dc70214afc0cd041404fa4850f562ba9 Unknown           All  \n",
       " fc901918346f9204f99326c3cd57a097b5454d0d Unknown           All  \n",
       " fcaa41695c63af83b020ba7a4d050e4f8c736bb6 Unknown           All  \n",
       " fcce37fe722410434e9bedc4ab86df7fa259dbf6 Unknown           All  \n",
       " fd164c87bb90f18a2e4738015d8c890718d3baca Unknown           All  \n",
       " fdb2d68d3963356551b7e1cb88008a9f59bfcd73 Unknown           All  \n",
       " fe1f17354c916011eb93fcacb5bdf48a92d89d69 Mozilla Staff     All  \n",
       " fe529271548f47128444b2fb520068442652fd0e Unknown           All  \n",
       " fea07df8898612f97e77c2df0b4c1176fb8edd4b Unknown           All  \n",
       " \n",
       " [1569 rows x 3 columns],\n",
       "                                                         exp last_active  \\\n",
       " Author                                   Org                              \n",
       " 0017fc86fc9808c6881b9337e53e3836759193eb Unknown          1        2010   \n",
       " 0018ebca77103ad5ab204050688a1c07dfef1bbf Unknown          1        2010   \n",
       " 0036ec0ef2dcc61a838336a7844df2341f52b934 Mozilla Staff    3        2010   \n",
       " 003eb9165a8fb126dc0a1ef92d1478cc35400d0b Unknown          1        2010   \n",
       " 0050824236a67c3ef6c84db126cc81ae8a34b638 Unknown          3        2010   \n",
       " 00633c4f1a29fc14c9f79d0aa0358fbfbe1b2a0c Unknown          4        2010   \n",
       " 0068cb405eae5c5b37d2eead639b5d50a91773db Unknown          1        2010   \n",
       " 00834d313bfc6fc60be1631bcc57b2c05ee2e0e3 Mozilla Staff    1        2010   \n",
       " 00846eff46b051d92317fc74e54041c6fdccd7cf Mozilla Staff    3        2010   \n",
       " 00890cbe5133b67bfa1021485959d2b42c11f4f8 Mozilla Staff    2        2010   \n",
       " 00dde21ced24568fe70d60eeb3098ddc6b7e5e31 Unknown          1        2010   \n",
       " 00ed7b25063cf90c8bdeb9d45d37b73ba2317f96 Unknown          2        2010   \n",
       " 012f9fe0064209c2affd5810083edccc723b32a9 Mozilla Staff    4        2010   \n",
       " 0134e2ebeec7f2f1acf7c635b5b22e2c441bd3ec Mozilla Staff    2        2010   \n",
       " 015d87534f70c362eb2ce0430b2d6886e328223c Mozilla Staff    1        2010   \n",
       " 0170d5f0fceacd5683a9749a20e7234d0d58cb45 Mozilla Staff    1        2010   \n",
       " 019ee580517ec3e8eb2c90ad0e3b2d749e9f0359 Code Sheriff     2        2010   \n",
       " 01a0ffd68e3b0ac6359b920e733043b6be0dba12 Unknown          3        2010   \n",
       " 01a32a8c3037c692e4192e182ece28cfd8776fe0 Mozilla Staff    2        2010   \n",
       " 01b36f5096db2e9bd47f3c2817644dec9e7dff17 Unknown          1        2010   \n",
       " 01ee4cff56701606829522a4c92d47d2cc66a232 Mozilla Staff    1        2010   \n",
       " 020bdb201514ed05ca1f576b3ebd750863a02cbf Mozilla Staff    3        2010   \n",
       " 020e546c6211feb97546084461eeb7cdae47664a Mozilla Staff    2        2010   \n",
       " 021020a1b3c27b55aa68b96f49c58487736abf46 Mozilla Staff    2        2010   \n",
       " 021a997f0f8e7df25fd4cc441c5a5f047bee90af Unknown          2        2010   \n",
       " 024a4278b098530475fbcca7dd01ac2f3cce814a Unknown          2        2010   \n",
       " 026dadb4b4a80d0784bc5dd83ba8416c9df67bef Mozilla Staff    5        2010   \n",
       " 02872b802fa8e325403cf28ff1e8948388fe21d8 Unknown          2        2010   \n",
       " 02883a798795129e8b7a314b8435ca30d690105c Mozilla Staff    3        2010   \n",
       " 02b1ec3755b3d37697e0c2533ab2208e7f111356 Mozilla Staff    1        2010   \n",
       " ...                                                     ...         ...   \n",
       " f0cbbd03028d3a39c7636b6d9a55f43e503c4ef6 Unknown          1        2010   \n",
       " f1c8a2fc282b3b371a0c021202dbca2043d70015 Unknown          2        2010   \n",
       " f2271370251341e4f599306d60f3939ff6c61dde Unknown          1        2010   \n",
       " f264f3d643675d86031cac719196c59cbe4f6ad0 Unknown          1        2010   \n",
       " f28f807b32a03b91c4885744fc88f965aa1c0753 Unknown          1        2010   \n",
       " f36f99ad6da5af71d84eaba4243281d2316eb184 Unknown          1        2010   \n",
       " f3f96f241cf9c67cb8d721e14e08b814f5f1bcee Unknown          1        2010   \n",
       " f469977d5e9efc0e2fbf1ed1b7737af4a545000d Unknown          1        2010   \n",
       " f4ece3a2f086397dfdb06c5eea29d4895bf302f5 Unknown          1        2010   \n",
       " f55b744eba27918a999d2badc15fb698080e6370 Unknown          1        2010   \n",
       " f64cb81df9c2737c3a0bfff7e7775f4dfd94791c Unknown          2        2010   \n",
       " f79dae145bb7db844d06f56202630ee98e4e2c7c Unknown          2        2010   \n",
       " f7ef24d8f2af6b8a32e20cfecbb67247538f7556 Unknown          1        2010   \n",
       " f802c1a228179da47a4066d08d428f47644e6c53 Unknown          2        2010   \n",
       " f84a62bc5e446a99fdd59645b5330622d5e3d252 Unknown          1        2010   \n",
       " f95a1783ef46208eaea17ff682cbeb95967a757e Unknown          1        2010   \n",
       " f98ffc4f98a206b25abb0d6cd640911cb6ea2e5b Unknown          1        2010   \n",
       " f9d2a22f8dbdef886a70d44b532b60f2f1fb6dfe Unknown          1        2010   \n",
       " f9d3d8fdd30f41f9243aa11c892977a8ada43ef5 Unknown          1        2010   \n",
       " fa186989120bd2a2449a3d82403f9cdc2973aab0 Unknown          2        2010   \n",
       " fae7caf7dd3fdce9a29da9b22a17454fbc69f86d Unknown          2        2010   \n",
       " fb2ea0c6bc437868825ee888e4f51ec562778620 Unknown          1        2010   \n",
       " fbf765abb02c142ac05383f00c62f3acf1ab9828 Unknown          1        2010   \n",
       " fc077021dfac2f764734096b3f80634e3e0caf34 Unknown          1        2010   \n",
       " fcf758a555cb203b42315b6861b17492087a1b2e Unknown          1        2010   \n",
       " fd1e07e9be5223cf8fd2ffeb8f69bfbb5245067d Unknown          1        2010   \n",
       " fd4371aa262b432a9102cba500e3a6f6d91112d0 Mozilla Staff    1        2010   \n",
       " fe1f17354c916011eb93fcacb5bdf48a92d89d69 Mozilla Staff    1        2010   \n",
       " fe529271548f47128444b2fb520068442652fd0e Unknown          2        2010   \n",
       " ffcda03e142ed2f48e9224058832e70b7ea7e4b2 Unknown          1        2010   \n",
       " \n",
       "                                                        project  \n",
       " Author                                   Org                    \n",
       " 0017fc86fc9808c6881b9337e53e3836759193eb Unknown           All  \n",
       " 0018ebca77103ad5ab204050688a1c07dfef1bbf Unknown           All  \n",
       " 0036ec0ef2dcc61a838336a7844df2341f52b934 Mozilla Staff     All  \n",
       " 003eb9165a8fb126dc0a1ef92d1478cc35400d0b Unknown           All  \n",
       " 0050824236a67c3ef6c84db126cc81ae8a34b638 Unknown           All  \n",
       " 00633c4f1a29fc14c9f79d0aa0358fbfbe1b2a0c Unknown           All  \n",
       " 0068cb405eae5c5b37d2eead639b5d50a91773db Unknown           All  \n",
       " 00834d313bfc6fc60be1631bcc57b2c05ee2e0e3 Mozilla Staff     All  \n",
       " 00846eff46b051d92317fc74e54041c6fdccd7cf Mozilla Staff     All  \n",
       " 00890cbe5133b67bfa1021485959d2b42c11f4f8 Mozilla Staff     All  \n",
       " 00dde21ced24568fe70d60eeb3098ddc6b7e5e31 Unknown           All  \n",
       " 00ed7b25063cf90c8bdeb9d45d37b73ba2317f96 Unknown           All  \n",
       " 012f9fe0064209c2affd5810083edccc723b32a9 Mozilla Staff     All  \n",
       " 0134e2ebeec7f2f1acf7c635b5b22e2c441bd3ec Mozilla Staff     All  \n",
       " 015d87534f70c362eb2ce0430b2d6886e328223c Mozilla Staff     All  \n",
       " 0170d5f0fceacd5683a9749a20e7234d0d58cb45 Mozilla Staff     All  \n",
       " 019ee580517ec3e8eb2c90ad0e3b2d749e9f0359 Code Sheriff      All  \n",
       " 01a0ffd68e3b0ac6359b920e733043b6be0dba12 Unknown           All  \n",
       " 01a32a8c3037c692e4192e182ece28cfd8776fe0 Mozilla Staff     All  \n",
       " 01b36f5096db2e9bd47f3c2817644dec9e7dff17 Unknown           All  \n",
       " 01ee4cff56701606829522a4c92d47d2cc66a232 Mozilla Staff     All  \n",
       " 020bdb201514ed05ca1f576b3ebd750863a02cbf Mozilla Staff     All  \n",
       " 020e546c6211feb97546084461eeb7cdae47664a Mozilla Staff     All  \n",
       " 021020a1b3c27b55aa68b96f49c58487736abf46 Mozilla Staff     All  \n",
       " 021a997f0f8e7df25fd4cc441c5a5f047bee90af Unknown           All  \n",
       " 024a4278b098530475fbcca7dd01ac2f3cce814a Unknown           All  \n",
       " 026dadb4b4a80d0784bc5dd83ba8416c9df67bef Mozilla Staff     All  \n",
       " 02872b802fa8e325403cf28ff1e8948388fe21d8 Unknown           All  \n",
       " 02883a798795129e8b7a314b8435ca30d690105c Mozilla Staff     All  \n",
       " 02b1ec3755b3d37697e0c2533ab2208e7f111356 Mozilla Staff     All  \n",
       " ...                                                        ...  \n",
       " f0cbbd03028d3a39c7636b6d9a55f43e503c4ef6 Unknown           All  \n",
       " f1c8a2fc282b3b371a0c021202dbca2043d70015 Unknown           All  \n",
       " f2271370251341e4f599306d60f3939ff6c61dde Unknown           All  \n",
       " f264f3d643675d86031cac719196c59cbe4f6ad0 Unknown           All  \n",
       " f28f807b32a03b91c4885744fc88f965aa1c0753 Unknown           All  \n",
       " f36f99ad6da5af71d84eaba4243281d2316eb184 Unknown           All  \n",
       " f3f96f241cf9c67cb8d721e14e08b814f5f1bcee Unknown           All  \n",
       " f469977d5e9efc0e2fbf1ed1b7737af4a545000d Unknown           All  \n",
       " f4ece3a2f086397dfdb06c5eea29d4895bf302f5 Unknown           All  \n",
       " f55b744eba27918a999d2badc15fb698080e6370 Unknown           All  \n",
       " f64cb81df9c2737c3a0bfff7e7775f4dfd94791c Unknown           All  \n",
       " f79dae145bb7db844d06f56202630ee98e4e2c7c Unknown           All  \n",
       " f7ef24d8f2af6b8a32e20cfecbb67247538f7556 Unknown           All  \n",
       " f802c1a228179da47a4066d08d428f47644e6c53 Unknown           All  \n",
       " f84a62bc5e446a99fdd59645b5330622d5e3d252 Unknown           All  \n",
       " f95a1783ef46208eaea17ff682cbeb95967a757e Unknown           All  \n",
       " f98ffc4f98a206b25abb0d6cd640911cb6ea2e5b Unknown           All  \n",
       " f9d2a22f8dbdef886a70d44b532b60f2f1fb6dfe Unknown           All  \n",
       " f9d3d8fdd30f41f9243aa11c892977a8ada43ef5 Unknown           All  \n",
       " fa186989120bd2a2449a3d82403f9cdc2973aab0 Unknown           All  \n",
       " fae7caf7dd3fdce9a29da9b22a17454fbc69f86d Unknown           All  \n",
       " fb2ea0c6bc437868825ee888e4f51ec562778620 Unknown           All  \n",
       " fbf765abb02c142ac05383f00c62f3acf1ab9828 Unknown           All  \n",
       " fc077021dfac2f764734096b3f80634e3e0caf34 Unknown           All  \n",
       " fcf758a555cb203b42315b6861b17492087a1b2e Unknown           All  \n",
       " fd1e07e9be5223cf8fd2ffeb8f69bfbb5245067d Unknown           All  \n",
       " fd4371aa262b432a9102cba500e3a6f6d91112d0 Mozilla Staff     All  \n",
       " fe1f17354c916011eb93fcacb5bdf48a92d89d69 Mozilla Staff     All  \n",
       " fe529271548f47128444b2fb520068442652fd0e Unknown           All  \n",
       " ffcda03e142ed2f48e9224058832e70b7ea7e4b2 Unknown           All  \n",
       " \n",
       " [1165 rows x 3 columns],\n",
       "                                                         exp last_active  \\\n",
       " Author                                   Org                              \n",
       " 0050824236a67c3ef6c84db126cc81ae8a34b638 Unknown          2        2009   \n",
       " 00633c4f1a29fc14c9f79d0aa0358fbfbe1b2a0c Unknown          3        2009   \n",
       " 00834d313bfc6fc60be1631bcc57b2c05ee2e0e3 Unknown          1        2009   \n",
       " 00846eff46b051d92317fc74e54041c6fdccd7cf Mozilla Staff    2        2009   \n",
       " 0088d823a3e47b36d62c579d300c7d8a883d6798 Unknown          1        2009   \n",
       " 00890cbe5133b67bfa1021485959d2b42c11f4f8 Mozilla Staff    1        2009   \n",
       " 00e052f85ecde5d0d4222940d73688175dd3dd62 Mozilla Staff    1        2009   \n",
       " 00ed7b25063cf90c8bdeb9d45d37b73ba2317f96 Unknown          1        2009   \n",
       " 012f9fe0064209c2affd5810083edccc723b32a9 Mozilla Staff    3        2009   \n",
       " 0134e2ebeec7f2f1acf7c635b5b22e2c441bd3ec Mozilla Staff    1        2009   \n",
       " 01757a5cfa0f9c479079f0e4459a5b8605d8026a Unknown          1        2009   \n",
       " 019ee580517ec3e8eb2c90ad0e3b2d749e9f0359 Code Sheriff     1        2009   \n",
       " 01a0ffd68e3b0ac6359b920e733043b6be0dba12 Unknown          2        2009   \n",
       " 01a32a8c3037c692e4192e182ece28cfd8776fe0 Mozilla Staff    1        2009   \n",
       " 020bdb201514ed05ca1f576b3ebd750863a02cbf Mozilla Staff    2        2009   \n",
       " 020e546c6211feb97546084461eeb7cdae47664a Mozilla Staff    1        2009   \n",
       " 021020a1b3c27b55aa68b96f49c58487736abf46 Mozilla Staff    1        2009   \n",
       " 021a997f0f8e7df25fd4cc441c5a5f047bee90af Unknown          1        2009   \n",
       " 024a4278b098530475fbcca7dd01ac2f3cce814a Unknown          1        2009   \n",
       " 026dadb4b4a80d0784bc5dd83ba8416c9df67bef Mozilla Staff    4        2009   \n",
       " 0273004d467140fdf09041e0893769bf6ef21baf Unknown          1        2009   \n",
       " 02779439f026e59032b7e8759cffc0754c76d5e7 Unknown          1        2009   \n",
       " 02872b802fa8e325403cf28ff1e8948388fe21d8 Unknown          1        2009   \n",
       " 02883a798795129e8b7a314b8435ca30d690105c Mozilla Staff    2        2009   \n",
       " 028d397472d346a8b0e056246b11dbbd2f6cf7c7 Unknown          1        2009   \n",
       " 02b8b17f5bd2baee37ed67709df58f899f2f57b7 Mozilla Staff    1        2009   \n",
       " 02c80b820108371e66ae5d904ce2371ef1190933 Mozilla Staff    3        2009   \n",
       " 02cce350dcc05df4a54e59125943d0e1d8241fa4 Mozilla Staff    1        2009   \n",
       " 02f2b8d169c66c81e136247f012a43deecaab21c Unknown          2        2009   \n",
       " 030e62204cd36e9f47818cef2bf2466b7ccd45f1 Unknown          1        2009   \n",
       " ...                                                     ...         ...   \n",
       " e5766565e4b76e29a7cf70efbf238a90e616af63 Unknown          1        2009   \n",
       " e5c641085e71eb6d4e5df52afbdad6552583e215 Unknown          1        2009   \n",
       " e61ba39e4ee805033d145ccb4e239e2250019984 Unknown          1        2009   \n",
       " e744f9d4b82b5add8acf425d2c78ad88688a57d1 Unknown          1        2009   \n",
       " e83106e2eae2f446c88becb81612eb00a7f95936 Unknown          2        2009   \n",
       " ea866ddbc4b20d4f191bcdecd514b76e22341c39 Unknown          2        2009   \n",
       " ebc67a30f59535145593f593aeedf6f74391a45c Unknown          1        2009   \n",
       " ebd0984fd994eab8242b2a1de60e736f26c06fa6 Unknown          1        2009   \n",
       " ec400281f445460ebebb1b8405d2d6d82bc2f465 Mozilla Staff    1        2009   \n",
       " ec53ad67f5b23f28cb0c2f2284041a826aba9c05 Unknown          1        2009   \n",
       " ecb998cea80d3b5da8c3b16528fd2739425144f7 Unknown          2        2009   \n",
       " edb45ecdd698ae497d6501fcca02924c715c0cdf Unknown          1        2009   \n",
       " efccfa43ac5c2d58afc261d672d2ec6dc6f232cb Unknown          1        2009   \n",
       " f2c58df3361930a201bb4411386ecb47e37946e6 Unknown          1        2009   \n",
       " f64cb81df9c2737c3a0bfff7e7775f4dfd94791c Unknown          1        2009   \n",
       " f6eb98ee9c12bb79466551e87ee725f2b2badd5d Unknown          1        2009   \n",
       " f70a9667105c572b9aa4c0fc05a60d1fc1154f4d Unknown          1        2009   \n",
       " f79dae145bb7db844d06f56202630ee98e4e2c7c Unknown          1        2009   \n",
       " f802c1a228179da47a4066d08d428f47644e6c53 Unknown          1        2009   \n",
       " f8758a592c12d224cd8a2e0d41d2c29d9a718e56 Unknown          1        2009   \n",
       " fa186989120bd2a2449a3d82403f9cdc2973aab0 Unknown          1        2009   \n",
       " fad362f8b42d05a21a84813b1e1c11d6b8331916 Unknown          2        2009   \n",
       " fadc2b31eb943c5367e0424eef1fffacd1e615e3 Unknown          1        2009   \n",
       " fae7caf7dd3fdce9a29da9b22a17454fbc69f86d Unknown          1        2009   \n",
       " fb2484851ec667a7c842f8c471584294f4afad06 Unknown          2        2009   \n",
       " fbf7e2a240863f8f36e0b8bd35355aa7ed4570b1 Unknown          1        2009   \n",
       " fc525e000a8d6c31dbf9e6a9c1c004d93ff8ca0b Unknown          1        2009   \n",
       " fe22f33fd20560dcf9667f6081e6d1e1cc956e02 Unknown          1        2009   \n",
       " fe529271548f47128444b2fb520068442652fd0e Unknown          1        2009   \n",
       " ffb8485bd31e3c5bfb49ba34247672490ff54229 Unknown          1        2009   \n",
       " \n",
       "                                                        project  \n",
       " Author                                   Org                    \n",
       " 0050824236a67c3ef6c84db126cc81ae8a34b638 Unknown           All  \n",
       " 00633c4f1a29fc14c9f79d0aa0358fbfbe1b2a0c Unknown           All  \n",
       " 00834d313bfc6fc60be1631bcc57b2c05ee2e0e3 Unknown           All  \n",
       " 00846eff46b051d92317fc74e54041c6fdccd7cf Mozilla Staff     All  \n",
       " 0088d823a3e47b36d62c579d300c7d8a883d6798 Unknown           All  \n",
       " 00890cbe5133b67bfa1021485959d2b42c11f4f8 Mozilla Staff     All  \n",
       " 00e052f85ecde5d0d4222940d73688175dd3dd62 Mozilla Staff     All  \n",
       " 00ed7b25063cf90c8bdeb9d45d37b73ba2317f96 Unknown           All  \n",
       " 012f9fe0064209c2affd5810083edccc723b32a9 Mozilla Staff     All  \n",
       " 0134e2ebeec7f2f1acf7c635b5b22e2c441bd3ec Mozilla Staff     All  \n",
       " 01757a5cfa0f9c479079f0e4459a5b8605d8026a Unknown           All  \n",
       " 019ee580517ec3e8eb2c90ad0e3b2d749e9f0359 Code Sheriff      All  \n",
       " 01a0ffd68e3b0ac6359b920e733043b6be0dba12 Unknown           All  \n",
       " 01a32a8c3037c692e4192e182ece28cfd8776fe0 Mozilla Staff     All  \n",
       " 020bdb201514ed05ca1f576b3ebd750863a02cbf Mozilla Staff     All  \n",
       " 020e546c6211feb97546084461eeb7cdae47664a Mozilla Staff     All  \n",
       " 021020a1b3c27b55aa68b96f49c58487736abf46 Mozilla Staff     All  \n",
       " 021a997f0f8e7df25fd4cc441c5a5f047bee90af Unknown           All  \n",
       " 024a4278b098530475fbcca7dd01ac2f3cce814a Unknown           All  \n",
       " 026dadb4b4a80d0784bc5dd83ba8416c9df67bef Mozilla Staff     All  \n",
       " 0273004d467140fdf09041e0893769bf6ef21baf Unknown           All  \n",
       " 02779439f026e59032b7e8759cffc0754c76d5e7 Unknown           All  \n",
       " 02872b802fa8e325403cf28ff1e8948388fe21d8 Unknown           All  \n",
       " 02883a798795129e8b7a314b8435ca30d690105c Mozilla Staff     All  \n",
       " 028d397472d346a8b0e056246b11dbbd2f6cf7c7 Unknown           All  \n",
       " 02b8b17f5bd2baee37ed67709df58f899f2f57b7 Mozilla Staff     All  \n",
       " 02c80b820108371e66ae5d904ce2371ef1190933 Mozilla Staff     All  \n",
       " 02cce350dcc05df4a54e59125943d0e1d8241fa4 Mozilla Staff     All  \n",
       " 02f2b8d169c66c81e136247f012a43deecaab21c Unknown           All  \n",
       " 030e62204cd36e9f47818cef2bf2466b7ccd45f1 Unknown           All  \n",
       " ...                                                        ...  \n",
       " e5766565e4b76e29a7cf70efbf238a90e616af63 Unknown           All  \n",
       " e5c641085e71eb6d4e5df52afbdad6552583e215 Unknown           All  \n",
       " e61ba39e4ee805033d145ccb4e239e2250019984 Unknown           All  \n",
       " e744f9d4b82b5add8acf425d2c78ad88688a57d1 Unknown           All  \n",
       " e83106e2eae2f446c88becb81612eb00a7f95936 Unknown           All  \n",
       " ea866ddbc4b20d4f191bcdecd514b76e22341c39 Unknown           All  \n",
       " ebc67a30f59535145593f593aeedf6f74391a45c Unknown           All  \n",
       " ebd0984fd994eab8242b2a1de60e736f26c06fa6 Unknown           All  \n",
       " ec400281f445460ebebb1b8405d2d6d82bc2f465 Mozilla Staff     All  \n",
       " ec53ad67f5b23f28cb0c2f2284041a826aba9c05 Unknown           All  \n",
       " ecb998cea80d3b5da8c3b16528fd2739425144f7 Unknown           All  \n",
       " edb45ecdd698ae497d6501fcca02924c715c0cdf Unknown           All  \n",
       " efccfa43ac5c2d58afc261d672d2ec6dc6f232cb Unknown           All  \n",
       " f2c58df3361930a201bb4411386ecb47e37946e6 Unknown           All  \n",
       " f64cb81df9c2737c3a0bfff7e7775f4dfd94791c Unknown           All  \n",
       " f6eb98ee9c12bb79466551e87ee725f2b2badd5d Unknown           All  \n",
       " f70a9667105c572b9aa4c0fc05a60d1fc1154f4d Unknown           All  \n",
       " f79dae145bb7db844d06f56202630ee98e4e2c7c Unknown           All  \n",
       " f802c1a228179da47a4066d08d428f47644e6c53 Unknown           All  \n",
       " f8758a592c12d224cd8a2e0d41d2c29d9a718e56 Unknown           All  \n",
       " fa186989120bd2a2449a3d82403f9cdc2973aab0 Unknown           All  \n",
       " fad362f8b42d05a21a84813b1e1c11d6b8331916 Unknown           All  \n",
       " fadc2b31eb943c5367e0424eef1fffacd1e615e3 Unknown           All  \n",
       " fae7caf7dd3fdce9a29da9b22a17454fbc69f86d Unknown           All  \n",
       " fb2484851ec667a7c842f8c471584294f4afad06 Unknown           All  \n",
       " fbf7e2a240863f8f36e0b8bd35355aa7ed4570b1 Unknown           All  \n",
       " fc525e000a8d6c31dbf9e6a9c1c004d93ff8ca0b Unknown           All  \n",
       " fe22f33fd20560dcf9667f6081e6d1e1cc956e02 Unknown           All  \n",
       " fe529271548f47128444b2fb520068442652fd0e Unknown           All  \n",
       " ffb8485bd31e3c5bfb49ba34247672490ff54229 Unknown           All  \n",
       " \n",
       " [879 rows x 3 columns],\n",
       "                                                         exp last_active  \\\n",
       " Author                                   Org                              \n",
       " 0036ec0ef2dcc61a838336a7844df2341f52b934 Mozilla Staff    2        2008   \n",
       " 0040576ccb02d80fbcdca410c87481e617d30402 Unknown          1        2008   \n",
       " 00425929e872f86f1686ce88459d60a4d8634e36 Unknown          2        2008   \n",
       " 0050824236a67c3ef6c84db126cc81ae8a34b638 Unknown          1        2008   \n",
       " 00633c4f1a29fc14c9f79d0aa0358fbfbe1b2a0c Unknown          2        2008   \n",
       " 00846eff46b051d92317fc74e54041c6fdccd7cf Mozilla Staff    1        2008   \n",
       " 00890cbe5133b67bfa1021485959d2b42c11f4f8 Unknown          1        2008   \n",
       " 00b23a0b30dac3be3eb376403c44ebb1acbd7a9e Unknown          1        2008   \n",
       " 012f9fe0064209c2affd5810083edccc723b32a9 Mozilla Staff    2        2008   \n",
       " 01a0ffd68e3b0ac6359b920e733043b6be0dba12 Unknown          1        2008   \n",
       " 020bdb201514ed05ca1f576b3ebd750863a02cbf Mozilla Staff    1        2008   \n",
       " 020e546c6211feb97546084461eeb7cdae47664a Unknown          1        2008   \n",
       " 022937d7d7617e6181f08665bfb18d6a167c0d15 Unknown          1        2008   \n",
       " 026dadb4b4a80d0784bc5dd83ba8416c9df67bef Mozilla Staff    3        2008   \n",
       " 02883a798795129e8b7a314b8435ca30d690105c Mozilla Staff    1        2008   \n",
       " 02c80b820108371e66ae5d904ce2371ef1190933 Mozilla Staff    2        2008   \n",
       " 02d8d3650614834265cf356f6cb2b2238fe06861 Mozilla Staff    2        2008   \n",
       " 02f2b8d169c66c81e136247f012a43deecaab21c Unknown          1        2008   \n",
       " 0333479955d7323543f69ba29165c8992c75845c Mozilla Staff    2        2008   \n",
       " 034f863fdea2d09159e1d1c8e9f766aa5c82aa3e Unknown          1        2008   \n",
       " 035e2f63ad1b509135c24467230c73d1484bd87c Unknown          1        2008   \n",
       " 038b8ab51714e69f16ec3c4caf58e23ff7bd0b57 Unknown          1        2008   \n",
       " 03904533eccb74d30f19412b29507798acfc9ac4 Unknown          2        2008   \n",
       " 03a7a01d6f752b3ab95354a54b1a121abec6552c Mozilla Staff    1        2008   \n",
       " 03bbc81cd1db89677298cd092a1ef579220029b8 Mozilla Staff    2        2008   \n",
       " 03e29d4afdf730f640dd755f0920defc8cd84f40 Unknown          2        2008   \n",
       " 03e6f642bc6fc389b280735383f34bd777f9605c Mozilla Staff    1        2008   \n",
       " 0445fc29cda1773029265417533ba43ec9e47e3d Mozilla Staff    2        2008   \n",
       " 045251ae5d4f5c1dd672b65f3b6dd6d856ea8457 Mozilla Staff    1        2008   \n",
       " 04631379bcf5f74681ac46ab9dfa868c59da1e4f Mozilla Staff    2        2008   \n",
       " ...                                                     ...         ...   \n",
       " e1486ff2023c2195fc83ae27be7c817a7b68d3d2 Unknown          1        2008   \n",
       " e25066f12c68d1ed2937d8111c0fb693ab5fa93b Mozilla Staff    1        2008   \n",
       " e2bd6a350615ba3c7281ffae63394b9ddc974a55 Unknown          1        2008   \n",
       " e3511a9cfa3888dd2acd0133a34c28d3502f12ef Unknown          1        2008   \n",
       " e4f3826ce710dfd922e3f15d5980b0d36d185ea4 Mozilla Staff    2        2008   \n",
       " e5431417bb6b39faa85fe40e2b4901ba36c3b4c8 Unknown          1        2008   \n",
       " e7922762c847c03dc6ff1ac788fdb2425f248eb3 Unknown          1        2008   \n",
       " e83106e2eae2f446c88becb81612eb00a7f95936 Unknown          1        2008   \n",
       " e87a6fb6086eca0d099a8f2018d9ad73f6b2c84f Unknown          1        2008   \n",
       " e8b7eb6fa2613e54ffe66c52b61c4797a562475d Mozilla Staff    2        2008   \n",
       " e90818a46112e7e576297025c5b16e70cb8fd36d Unknown          1        2008   \n",
       " e926e84cea95a53e114f438cc223e23e839a9d04 Unknown          2        2008   \n",
       " e9b1fb338f607f0634bccdaf6dae511344006cb9 Unknown          1        2008   \n",
       " eacd13d9654c5e333898b51e215cb6eb40cf2a19 Unknown          1        2008   \n",
       " ecb998cea80d3b5da8c3b16528fd2739425144f7 Unknown          1        2008   \n",
       " ed68460dd5cae0bf61fbf20c4a6f05d4b10fd15c Unknown          2        2008   \n",
       " ef87869f72cd5bc5fd858ba8c4ebecd47876ee3e Unknown          1        2008   \n",
       " efc639b7957be9c0e2177f35e983a51e7b663627 Mozilla Staff    1        2008   \n",
       " f0442ec9bf34fa92606ebecc8eca9d5d90b777b9 Unknown          1        2008   \n",
       " f053fd437f73c0f01fee353d4dccfa506b3ae4ed Unknown          1        2008   \n",
       " f398e12ef089a9138fe8ba5cf6dfb74edf5259df Unknown          1        2008   \n",
       " f5525062fc1b00c2c3e1c0b5ba127bed88e3162b Unknown          2        2008   \n",
       " f5eb2857a2529a2b060a5b0bf47e6340379d7952 Unknown          2        2008   \n",
       " f829bbd901d6627ab345734eef5e16e38660b9a1 Unknown          2        2008   \n",
       " fad362f8b42d05a21a84813b1e1c11d6b8331916 Unknown          1        2008   \n",
       " fb2484851ec667a7c842f8c471584294f4afad06 Unknown          1        2008   \n",
       " fb5f0d44ce3d8818506e1d1ea048f9f7d71a2275 Unknown          1        2008   \n",
       " fbc8e2a21fd933c87895ad5da97978394c19859d Unknown          1        2008   \n",
       " fcd0c4ff821d53c447ae2c6af1890949dab079cf Unknown          1        2008   \n",
       " fe4a9e4889001ed514a5fe647faf3ea0aad50df7 Unknown          1        2008   \n",
       " \n",
       "                                                        project  \n",
       " Author                                   Org                    \n",
       " 0036ec0ef2dcc61a838336a7844df2341f52b934 Mozilla Staff     All  \n",
       " 0040576ccb02d80fbcdca410c87481e617d30402 Unknown           All  \n",
       " 00425929e872f86f1686ce88459d60a4d8634e36 Unknown           All  \n",
       " 0050824236a67c3ef6c84db126cc81ae8a34b638 Unknown           All  \n",
       " 00633c4f1a29fc14c9f79d0aa0358fbfbe1b2a0c Unknown           All  \n",
       " 00846eff46b051d92317fc74e54041c6fdccd7cf Mozilla Staff     All  \n",
       " 00890cbe5133b67bfa1021485959d2b42c11f4f8 Unknown           All  \n",
       " 00b23a0b30dac3be3eb376403c44ebb1acbd7a9e Unknown           All  \n",
       " 012f9fe0064209c2affd5810083edccc723b32a9 Mozilla Staff     All  \n",
       " 01a0ffd68e3b0ac6359b920e733043b6be0dba12 Unknown           All  \n",
       " 020bdb201514ed05ca1f576b3ebd750863a02cbf Mozilla Staff     All  \n",
       " 020e546c6211feb97546084461eeb7cdae47664a Unknown           All  \n",
       " 022937d7d7617e6181f08665bfb18d6a167c0d15 Unknown           All  \n",
       " 026dadb4b4a80d0784bc5dd83ba8416c9df67bef Mozilla Staff     All  \n",
       " 02883a798795129e8b7a314b8435ca30d690105c Mozilla Staff     All  \n",
       " 02c80b820108371e66ae5d904ce2371ef1190933 Mozilla Staff     All  \n",
       " 02d8d3650614834265cf356f6cb2b2238fe06861 Mozilla Staff     All  \n",
       " 02f2b8d169c66c81e136247f012a43deecaab21c Unknown           All  \n",
       " 0333479955d7323543f69ba29165c8992c75845c Mozilla Staff     All  \n",
       " 034f863fdea2d09159e1d1c8e9f766aa5c82aa3e Unknown           All  \n",
       " 035e2f63ad1b509135c24467230c73d1484bd87c Unknown           All  \n",
       " 038b8ab51714e69f16ec3c4caf58e23ff7bd0b57 Unknown           All  \n",
       " 03904533eccb74d30f19412b29507798acfc9ac4 Unknown           All  \n",
       " 03a7a01d6f752b3ab95354a54b1a121abec6552c Mozilla Staff     All  \n",
       " 03bbc81cd1db89677298cd092a1ef579220029b8 Mozilla Staff     All  \n",
       " 03e29d4afdf730f640dd755f0920defc8cd84f40 Unknown           All  \n",
       " 03e6f642bc6fc389b280735383f34bd777f9605c Mozilla Staff     All  \n",
       " 0445fc29cda1773029265417533ba43ec9e47e3d Mozilla Staff     All  \n",
       " 045251ae5d4f5c1dd672b65f3b6dd6d856ea8457 Mozilla Staff     All  \n",
       " 04631379bcf5f74681ac46ab9dfa868c59da1e4f Mozilla Staff     All  \n",
       " ...                                                        ...  \n",
       " e1486ff2023c2195fc83ae27be7c817a7b68d3d2 Unknown           All  \n",
       " e25066f12c68d1ed2937d8111c0fb693ab5fa93b Mozilla Staff     All  \n",
       " e2bd6a350615ba3c7281ffae63394b9ddc974a55 Unknown           All  \n",
       " e3511a9cfa3888dd2acd0133a34c28d3502f12ef Unknown           All  \n",
       " e4f3826ce710dfd922e3f15d5980b0d36d185ea4 Mozilla Staff     All  \n",
       " e5431417bb6b39faa85fe40e2b4901ba36c3b4c8 Unknown           All  \n",
       " e7922762c847c03dc6ff1ac788fdb2425f248eb3 Unknown           All  \n",
       " e83106e2eae2f446c88becb81612eb00a7f95936 Unknown           All  \n",
       " e87a6fb6086eca0d099a8f2018d9ad73f6b2c84f Unknown           All  \n",
       " e8b7eb6fa2613e54ffe66c52b61c4797a562475d Mozilla Staff     All  \n",
       " e90818a46112e7e576297025c5b16e70cb8fd36d Unknown           All  \n",
       " e926e84cea95a53e114f438cc223e23e839a9d04 Unknown           All  \n",
       " e9b1fb338f607f0634bccdaf6dae511344006cb9 Unknown           All  \n",
       " eacd13d9654c5e333898b51e215cb6eb40cf2a19 Unknown           All  \n",
       " ecb998cea80d3b5da8c3b16528fd2739425144f7 Unknown           All  \n",
       " ed68460dd5cae0bf61fbf20c4a6f05d4b10fd15c Unknown           All  \n",
       " ef87869f72cd5bc5fd858ba8c4ebecd47876ee3e Unknown           All  \n",
       " efc639b7957be9c0e2177f35e983a51e7b663627 Mozilla Staff     All  \n",
       " f0442ec9bf34fa92606ebecc8eca9d5d90b777b9 Unknown           All  \n",
       " f053fd437f73c0f01fee353d4dccfa506b3ae4ed Unknown           All  \n",
       " f398e12ef089a9138fe8ba5cf6dfb74edf5259df Unknown           All  \n",
       " f5525062fc1b00c2c3e1c0b5ba127bed88e3162b Unknown           All  \n",
       " f5eb2857a2529a2b060a5b0bf47e6340379d7952 Unknown           All  \n",
       " f829bbd901d6627ab345734eef5e16e38660b9a1 Unknown           All  \n",
       " fad362f8b42d05a21a84813b1e1c11d6b8331916 Unknown           All  \n",
       " fb2484851ec667a7c842f8c471584294f4afad06 Unknown           All  \n",
       " fb5f0d44ce3d8818506e1d1ea048f9f7d71a2275 Unknown           All  \n",
       " fbc8e2a21fd933c87895ad5da97978394c19859d Unknown           All  \n",
       " fcd0c4ff821d53c447ae2c6af1890949dab079cf Unknown           All  \n",
       " fe4a9e4889001ed514a5fe647faf3ea0aad50df7 Unknown           All  \n",
       " \n",
       " [768 rows x 3 columns],\n",
       "                                                         exp last_active  \\\n",
       " Author                                   Org                              \n",
       " 000e81efa082c7857d6f0cf3c749722188ac7868 Mozilla Staff    1        2007   \n",
       " 0036ec0ef2dcc61a838336a7844df2341f52b934 Mozilla Staff    1        2007   \n",
       " 00425929e872f86f1686ce88459d60a4d8634e36 Unknown          1        2007   \n",
       " 00633c4f1a29fc14c9f79d0aa0358fbfbe1b2a0c Unknown          1        2007   \n",
       " 00686716dabebbaba2a1667335b2c4ec076a3cb5 Unknown          4        2007   \n",
       " 01007b078de4230e4cefd3a6de837b5df24d29be Mozilla Staff    1        2007   \n",
       " 0103a68f7d0d4d0715293f5518d830e828ab917b Unknown          1        2007   \n",
       " 012f9fe0064209c2affd5810083edccc723b32a9 Mozilla Staff    1        2007   \n",
       " 013da72bf2f27760368a6d49ea737267a6275182 Mozilla Staff    1        2007   \n",
       " 01c61b3da6cb7dfb4a6c56867fee5c32b02173b5 Unknown          1        2007   \n",
       " 020bdb201514ed05ca1f576b3ebd750863a02cbf Unknown          1        2007   \n",
       " 026dadb4b4a80d0784bc5dd83ba8416c9df67bef Mozilla Staff    2        2007   \n",
       " 02c80b820108371e66ae5d904ce2371ef1190933 Mozilla Staff    1        2007   \n",
       " 02d6c48f98bb2f928231565e151738f7b172f3da Unknown          5        2007   \n",
       " 02d8d3650614834265cf356f6cb2b2238fe06861 Mozilla Staff    1        2007   \n",
       " 032fff13083cce73e67708668d5276108a514b1b Unknown          1        2007   \n",
       " 0333479955d7323543f69ba29165c8992c75845c Mozilla Staff    1        2007   \n",
       " 036af4099c6d358fb994d99422c40f98665758cf Mozilla Staff    1        2007   \n",
       " 036b76b88f4627dc1a727bcc356e5ea7f435f7fe Unknown         10        2007   \n",
       " 03904533eccb74d30f19412b29507798acfc9ac4 Unknown          1        2007   \n",
       " 03adc5025507971aad50878e067e50113d0075f4 Unknown          1        2007   \n",
       " 03bbc81cd1db89677298cd092a1ef579220029b8 Mozilla Staff    1        2007   \n",
       " 03e29d4afdf730f640dd755f0920defc8cd84f40 Unknown          1        2007   \n",
       " 043192d627c4947ded041efd8401b1321856903f Unknown          1        2007   \n",
       " 0445fc29cda1773029265417533ba43ec9e47e3d Mozilla Staff    1        2007   \n",
       " 04631379bcf5f74681ac46ab9dfa868c59da1e4f Mozilla Staff    1        2007   \n",
       " 04a31d7acae067d4f2b66c102337b44f4f3aad82 Unknown          1        2007   \n",
       " 04d8b275f76064fecaffa46e53ea7480aaf97c22 Mozilla Staff    1        2007   \n",
       " 0547d380aa40a0422f9a02ff623b0b23ff987dcf Mozilla Staff    1        2007   \n",
       " 055057e66ec58a3f975cd711cfa934b7ae2302de Mozilla Staff    1        2007   \n",
       " ...                                                     ...         ...   \n",
       " e8537afc084afb7bc99dfa91cbd9f2c0fc60610c Unknown          4        2007   \n",
       " e8a627c6f20825cc03b21d729dc371fff00d3b26 Unknown          1        2007   \n",
       " e8b7eb6fa2613e54ffe66c52b61c4797a562475d Mozilla Staff    1        2007   \n",
       " e926e84cea95a53e114f438cc223e23e839a9d04 Unknown          1        2007   \n",
       " e982fa475d6db37da3ada79a8329421d6cd384cd Unknown          4        2007   \n",
       " eb12754f5a59cf384287af89b678ce2f2c9afec4 Unknown          9        2007   \n",
       " eb168d48afc257828868d490c2c930a7006e07dd Unknown          1        2007   \n",
       " eb2b5a07613feab2dd13b6e4a74e4d3c0b21a3ce Unknown          1        2007   \n",
       " eb956a9faa2e0fd1f62c37cac1c40cc8ca196020 Unknown          1        2007   \n",
       " ecd0fd681fb6f9c8df7cf40eca6b0fec991a2cc6 Unknown          2        2007   \n",
       " ed4787a33bd3e004243db826c9167bd43a82c7b9 Unknown          1        2007   \n",
       " ed68460dd5cae0bf61fbf20c4a6f05d4b10fd15c Unknown          1        2007   \n",
       " eda9150553e5a3e512313da4f730240dbaebc8a6 Unknown          4        2007   \n",
       " edbb48f7181ad64123d4d031f8740df41cdcdbc3 Unknown          1        2007   \n",
       " ee964889da78011366a4bbeeaaaa7271d82e54d5 Unknown          1        2007   \n",
       " eed3c18ba22e9d250b4fe2aa3bc314d567448246 Unknown          3        2007   \n",
       " ef0afacad8bfd6a4fd468a4e6f1c2637e85702db Unknown          1        2007   \n",
       " f11803fa38d7ee01a0c60404e2d485d3c013b5da Unknown          1        2007   \n",
       " f1c8a2fc282b3b371a0c021202dbca2043d70015 Unknown          1        2007   \n",
       " f26636f25ce3772f1ff8938aec9f8cd2e7f58f11 Unknown          4        2007   \n",
       " f33be02c9ec99677fdf5cb7a8ff7cad3a39246ee Unknown          4        2007   \n",
       " f37c901df202efedf6d6b03315da1a0dfdc492d0 Unknown          1        2007   \n",
       " f5525062fc1b00c2c3e1c0b5ba127bed88e3162b Unknown          1        2007   \n",
       " f5eb2857a2529a2b060a5b0bf47e6340379d7952 Unknown          1        2007   \n",
       " f829bbd901d6627ab345734eef5e16e38660b9a1 Unknown          1        2007   \n",
       " fb0b7984fa9ba3b71b0b7da79cc620ee4111fa35 Unknown          6        2007   \n",
       " fc392d7c5f4bb0d275013e4746b8a30791c17f71 Unknown          3        2007   \n",
       " ff66e434e7144b5a9bbc2349240de47b2176c0ee Unknown          1        2007   \n",
       " ff80d7a947fb79ed32296c947eb2877b23848ad2 Unknown          1        2007   \n",
       " ffc80cdd2aefd7ec0b8fddf6fea18489c40e8c04 Unknown          1        2007   \n",
       " \n",
       "                                                        project  \n",
       " Author                                   Org                    \n",
       " 000e81efa082c7857d6f0cf3c749722188ac7868 Mozilla Staff     All  \n",
       " 0036ec0ef2dcc61a838336a7844df2341f52b934 Mozilla Staff     All  \n",
       " 00425929e872f86f1686ce88459d60a4d8634e36 Unknown           All  \n",
       " 00633c4f1a29fc14c9f79d0aa0358fbfbe1b2a0c Unknown           All  \n",
       " 00686716dabebbaba2a1667335b2c4ec076a3cb5 Unknown           All  \n",
       " 01007b078de4230e4cefd3a6de837b5df24d29be Mozilla Staff     All  \n",
       " 0103a68f7d0d4d0715293f5518d830e828ab917b Unknown           All  \n",
       " 012f9fe0064209c2affd5810083edccc723b32a9 Mozilla Staff     All  \n",
       " 013da72bf2f27760368a6d49ea737267a6275182 Mozilla Staff     All  \n",
       " 01c61b3da6cb7dfb4a6c56867fee5c32b02173b5 Unknown           All  \n",
       " 020bdb201514ed05ca1f576b3ebd750863a02cbf Unknown           All  \n",
       " 026dadb4b4a80d0784bc5dd83ba8416c9df67bef Mozilla Staff     All  \n",
       " 02c80b820108371e66ae5d904ce2371ef1190933 Mozilla Staff     All  \n",
       " 02d6c48f98bb2f928231565e151738f7b172f3da Unknown           All  \n",
       " 02d8d3650614834265cf356f6cb2b2238fe06861 Mozilla Staff     All  \n",
       " 032fff13083cce73e67708668d5276108a514b1b Unknown           All  \n",
       " 0333479955d7323543f69ba29165c8992c75845c Mozilla Staff     All  \n",
       " 036af4099c6d358fb994d99422c40f98665758cf Mozilla Staff     All  \n",
       " 036b76b88f4627dc1a727bcc356e5ea7f435f7fe Unknown           All  \n",
       " 03904533eccb74d30f19412b29507798acfc9ac4 Unknown           All  \n",
       " 03adc5025507971aad50878e067e50113d0075f4 Unknown           All  \n",
       " 03bbc81cd1db89677298cd092a1ef579220029b8 Mozilla Staff     All  \n",
       " 03e29d4afdf730f640dd755f0920defc8cd84f40 Unknown           All  \n",
       " 043192d627c4947ded041efd8401b1321856903f Unknown           All  \n",
       " 0445fc29cda1773029265417533ba43ec9e47e3d Mozilla Staff     All  \n",
       " 04631379bcf5f74681ac46ab9dfa868c59da1e4f Mozilla Staff     All  \n",
       " 04a31d7acae067d4f2b66c102337b44f4f3aad82 Unknown           All  \n",
       " 04d8b275f76064fecaffa46e53ea7480aaf97c22 Mozilla Staff     All  \n",
       " 0547d380aa40a0422f9a02ff623b0b23ff987dcf Mozilla Staff     All  \n",
       " 055057e66ec58a3f975cd711cfa934b7ae2302de Mozilla Staff     All  \n",
       " ...                                                        ...  \n",
       " e8537afc084afb7bc99dfa91cbd9f2c0fc60610c Unknown           All  \n",
       " e8a627c6f20825cc03b21d729dc371fff00d3b26 Unknown           All  \n",
       " e8b7eb6fa2613e54ffe66c52b61c4797a562475d Mozilla Staff     All  \n",
       " e926e84cea95a53e114f438cc223e23e839a9d04 Unknown           All  \n",
       " e982fa475d6db37da3ada79a8329421d6cd384cd Unknown           All  \n",
       " eb12754f5a59cf384287af89b678ce2f2c9afec4 Unknown           All  \n",
       " eb168d48afc257828868d490c2c930a7006e07dd Unknown           All  \n",
       " eb2b5a07613feab2dd13b6e4a74e4d3c0b21a3ce Unknown           All  \n",
       " eb956a9faa2e0fd1f62c37cac1c40cc8ca196020 Unknown           All  \n",
       " ecd0fd681fb6f9c8df7cf40eca6b0fec991a2cc6 Unknown           All  \n",
       " ed4787a33bd3e004243db826c9167bd43a82c7b9 Unknown           All  \n",
       " ed68460dd5cae0bf61fbf20c4a6f05d4b10fd15c Unknown           All  \n",
       " eda9150553e5a3e512313da4f730240dbaebc8a6 Unknown           All  \n",
       " edbb48f7181ad64123d4d031f8740df41cdcdbc3 Unknown           All  \n",
       " ee964889da78011366a4bbeeaaaa7271d82e54d5 Unknown           All  \n",
       " eed3c18ba22e9d250b4fe2aa3bc314d567448246 Unknown           All  \n",
       " ef0afacad8bfd6a4fd468a4e6f1c2637e85702db Unknown           All  \n",
       " f11803fa38d7ee01a0c60404e2d485d3c013b5da Unknown           All  \n",
       " f1c8a2fc282b3b371a0c021202dbca2043d70015 Unknown           All  \n",
       " f26636f25ce3772f1ff8938aec9f8cd2e7f58f11 Unknown           All  \n",
       " f33be02c9ec99677fdf5cb7a8ff7cad3a39246ee Unknown           All  \n",
       " f37c901df202efedf6d6b03315da1a0dfdc492d0 Unknown           All  \n",
       " f5525062fc1b00c2c3e1c0b5ba127bed88e3162b Unknown           All  \n",
       " f5eb2857a2529a2b060a5b0bf47e6340379d7952 Unknown           All  \n",
       " f829bbd901d6627ab345734eef5e16e38660b9a1 Unknown           All  \n",
       " fb0b7984fa9ba3b71b0b7da79cc620ee4111fa35 Unknown           All  \n",
       " fc392d7c5f4bb0d275013e4746b8a30791c17f71 Unknown           All  \n",
       " ff66e434e7144b5a9bbc2349240de47b2176c0ee Unknown           All  \n",
       " ff80d7a947fb79ed32296c947eb2877b23848ad2 Unknown           All  \n",
       " ffc80cdd2aefd7ec0b8fddf6fea18489c40e8c04 Unknown           All  \n",
       " \n",
       " [572 rows x 3 columns]]"
      ]
     },
     "execution_count": 8,
     "metadata": {},
     "output_type": "execute_result"
    }
   ],
   "source": [
    "###\n",
    "## CREATE A DF CONTAINING, FOR EACH AUTHOR UUID, COUNT OF YEARS OF EXPERIENCE (YEARS\n",
    "## WITH MORE THAN N COMMITS MADE) AND LAST YEAR ACTIVE\n",
    "###\n",
    "exp_df_list = []\n",
    "year = 2016\n",
    "\n",
    "for result in results:\n",
    "    exp_df = ut.to_df_by_time(result, 'Author', 'Time', 'Commits', 'Org', 'authors', 'time', 'commits', 'org')\n",
    "    exp_df['Time'] = exp_df['Time'].apply(lambda x: str(pandas.Period(x,'A')))\n",
    "    \n",
    "    ## ACTIVE CONDITION #################################\n",
    "    ## Filter those having less than N commits per year\n",
    "    exp_df = exp_df[exp_df['Commits'] >= 1]\n",
    "    #####################################################\n",
    "    \n",
    "    ## Group by author, get MAX YEAR and NUMBER OF ROWS FOR THE GIVEN AUTHOR\n",
    "    exp_df = exp_df.groupby(['Author', 'Org']).agg({'Time': 'max', 'Commits': 'count'})\n",
    "    ## Filter those whose last active year is not the one we want\n",
    "    exp_df = exp_df[exp_df['Time'] == str(year)]\n",
    "    \n",
    "    exp_df['exp'] = exp_df['Commits']\n",
    "    exp_df['last_active'] = exp_df['Time']\n",
    "    exp_df= exp_df.drop('Commits', axis=1)\n",
    "    exp_df = exp_df.drop('Time', axis=1)\n",
    "    \n",
    "    exp_df['project'] = project_name\n",
    "    \n",
    "    exp_df_list.append(exp_df)\n",
    "    \n",
    "    year -= 1\n",
    "\n",
    "exp_df_list"
   ]
  },
  {
   "cell_type": "code",
   "execution_count": 9,
   "metadata": {
    "collapsed": false,
    "scrolled": false
   },
   "outputs": [
    {
     "data": {
      "text/html": [
       "<script>requirejs.config({paths: { 'plotly': ['https://cdn.plot.ly/plotly-latest.min']},});if(!window.Plotly) {{require(['plotly'],function(plotly) {window.Plotly=plotly;});}}</script>"
      ],
      "text/vnd.plotly.v1+html": [
       "<script>requirejs.config({paths: { 'plotly': ['https://cdn.plot.ly/plotly-latest.min']},});if(!window.Plotly) {{require(['plotly'],function(plotly) {window.Plotly=plotly;});}}</script>"
      ]
     },
     "metadata": {},
     "output_type": "display_data"
    },
    {
     "data": {
      "application/vnd.plotly.v1+json": {
       "data": [
        {
         "orientation": "h",
         "type": "bar",
         "x": [
          2502,
          762,
          339,
          227,
          167,
          118,
          53,
          47,
          38,
          29,
          1,
          1,
          1,
          0,
          1,
          0,
          1
         ],
         "y": [
          1,
          2,
          3,
          4,
          5,
          6,
          7,
          8,
          9,
          10,
          11,
          12,
          13,
          14,
          15,
          16,
          17
         ]
        }
       ],
       "layout": {
        "barmode": "group",
        "title": "All 2016"
       }
      },
      "text/html": [
       "<div id=\"4144b8cd-3ac9-4cc3-82b4-9ab2fcd55fac\" style=\"height: 525px; width: 100%;\" class=\"plotly-graph-div\"></div><script type=\"text/javascript\">require([\"plotly\"], function(Plotly) { window.PLOTLYENV=window.PLOTLYENV || {};window.PLOTLYENV.BASE_URL=\"https://plot.ly\";Plotly.newPlot(\"4144b8cd-3ac9-4cc3-82b4-9ab2fcd55fac\", [{\"type\": \"bar\", \"orientation\": \"h\", \"x\": [2502, 762, 339, 227, 167, 118, 53, 47, 38, 29, 1, 1, 1, 0, 1, 0, 1], \"y\": [1, 2, 3, 4, 5, 6, 7, 8, 9, 10, 11, 12, 13, 14, 15, 16, 17]}], {\"title\": \"All 2016\", \"barmode\": \"group\"}, {\"showLink\": true, \"linkText\": \"Export to plot.ly\"})});</script>"
      ],
      "text/vnd.plotly.v1+html": [
       "<div id=\"4144b8cd-3ac9-4cc3-82b4-9ab2fcd55fac\" style=\"height: 525px; width: 100%;\" class=\"plotly-graph-div\"></div><script type=\"text/javascript\">require([\"plotly\"], function(Plotly) { window.PLOTLYENV=window.PLOTLYENV || {};window.PLOTLYENV.BASE_URL=\"https://plot.ly\";Plotly.newPlot(\"4144b8cd-3ac9-4cc3-82b4-9ab2fcd55fac\", [{\"type\": \"bar\", \"orientation\": \"h\", \"x\": [2502, 762, 339, 227, 167, 118, 53, 47, 38, 29, 1, 1, 1, 0, 1, 0, 1], \"y\": [1, 2, 3, 4, 5, 6, 7, 8, 9, 10, 11, 12, 13, 14, 15, 16, 17]}], {\"title\": \"All 2016\", \"barmode\": \"group\"}, {\"showLink\": true, \"linkText\": \"Export to plot.ly\"})});</script>"
      ]
     },
     "metadata": {},
     "output_type": "display_data"
    },
    {
     "data": {
      "text/html": [
       "<script>requirejs.config({paths: { 'plotly': ['https://cdn.plot.ly/plotly-latest.min']},});if(!window.Plotly) {{require(['plotly'],function(plotly) {window.Plotly=plotly;});}}</script>"
      ],
      "text/vnd.plotly.v1+html": [
       "<script>requirejs.config({paths: { 'plotly': ['https://cdn.plot.ly/plotly-latest.min']},});if(!window.Plotly) {{require(['plotly'],function(plotly) {window.Plotly=plotly;});}}</script>"
      ]
     },
     "metadata": {},
     "output_type": "display_data"
    },
    {
     "data": {
      "application/vnd.plotly.v1+json": {
       "data": [
        {
         "orientation": "h",
         "type": "bar",
         "x": [
          150,
          135,
          108,
          142,
          123,
          92,
          40,
          37,
          28,
          26,
          1,
          1,
          1,
          0,
          1,
          0,
          1
         ],
         "y": [
          1,
          2,
          3,
          4,
          5,
          6,
          7,
          8,
          9,
          10,
          11,
          12,
          13,
          14,
          15,
          16,
          17
         ]
        }
       ],
       "layout": {
        "barmode": "group",
        "title": "All employees 2016"
       }
      },
      "text/html": [
       "<div id=\"9878a007-ca03-4bb7-87b9-e815552b475f\" style=\"height: 525px; width: 100%;\" class=\"plotly-graph-div\"></div><script type=\"text/javascript\">require([\"plotly\"], function(Plotly) { window.PLOTLYENV=window.PLOTLYENV || {};window.PLOTLYENV.BASE_URL=\"https://plot.ly\";Plotly.newPlot(\"9878a007-ca03-4bb7-87b9-e815552b475f\", [{\"type\": \"bar\", \"orientation\": \"h\", \"x\": [150, 135, 108, 142, 123, 92, 40, 37, 28, 26, 1, 1, 1, 0, 1, 0, 1], \"y\": [1, 2, 3, 4, 5, 6, 7, 8, 9, 10, 11, 12, 13, 14, 15, 16, 17]}], {\"title\": \"All employees 2016\", \"barmode\": \"group\"}, {\"showLink\": true, \"linkText\": \"Export to plot.ly\"})});</script>"
      ],
      "text/vnd.plotly.v1+html": [
       "<div id=\"9878a007-ca03-4bb7-87b9-e815552b475f\" style=\"height: 525px; width: 100%;\" class=\"plotly-graph-div\"></div><script type=\"text/javascript\">require([\"plotly\"], function(Plotly) { window.PLOTLYENV=window.PLOTLYENV || {};window.PLOTLYENV.BASE_URL=\"https://plot.ly\";Plotly.newPlot(\"9878a007-ca03-4bb7-87b9-e815552b475f\", [{\"type\": \"bar\", \"orientation\": \"h\", \"x\": [150, 135, 108, 142, 123, 92, 40, 37, 28, 26, 1, 1, 1, 0, 1, 0, 1], \"y\": [1, 2, 3, 4, 5, 6, 7, 8, 9, 10, 11, 12, 13, 14, 15, 16, 17]}], {\"title\": \"All employees 2016\", \"barmode\": \"group\"}, {\"showLink\": true, \"linkText\": \"Export to plot.ly\"})});</script>"
      ]
     },
     "metadata": {},
     "output_type": "display_data"
    },
    {
     "data": {
      "text/html": [
       "<script>requirejs.config({paths: { 'plotly': ['https://cdn.plot.ly/plotly-latest.min']},});if(!window.Plotly) {{require(['plotly'],function(plotly) {window.Plotly=plotly;});}}</script>"
      ],
      "text/vnd.plotly.v1+html": [
       "<script>requirejs.config({paths: { 'plotly': ['https://cdn.plot.ly/plotly-latest.min']},});if(!window.Plotly) {{require(['plotly'],function(plotly) {window.Plotly=plotly;});}}</script>"
      ]
     },
     "metadata": {},
     "output_type": "display_data"
    },
    {
     "data": {
      "application/vnd.plotly.v1+json": {
       "data": [
        {
         "orientation": "h",
         "type": "bar",
         "x": [
          2352,
          627,
          231,
          85,
          44,
          26,
          13,
          10,
          10,
          3
         ],
         "y": [
          1,
          2,
          3,
          4,
          5,
          6,
          7,
          8,
          9,
          10
         ]
        }
       ],
       "layout": {
        "barmode": "group",
        "title": "All non-employees 2016"
       }
      },
      "text/html": [
       "<div id=\"b89fb6d8-4ddb-4d28-8e95-aa8f21ba1acb\" style=\"height: 525px; width: 100%;\" class=\"plotly-graph-div\"></div><script type=\"text/javascript\">require([\"plotly\"], function(Plotly) { window.PLOTLYENV=window.PLOTLYENV || {};window.PLOTLYENV.BASE_URL=\"https://plot.ly\";Plotly.newPlot(\"b89fb6d8-4ddb-4d28-8e95-aa8f21ba1acb\", [{\"type\": \"bar\", \"orientation\": \"h\", \"x\": [2352, 627, 231, 85, 44, 26, 13, 10, 10, 3], \"y\": [1, 2, 3, 4, 5, 6, 7, 8, 9, 10]}], {\"title\": \"All non-employees 2016\", \"barmode\": \"group\"}, {\"showLink\": true, \"linkText\": \"Export to plot.ly\"})});</script>"
      ],
      "text/vnd.plotly.v1+html": [
       "<div id=\"b89fb6d8-4ddb-4d28-8e95-aa8f21ba1acb\" style=\"height: 525px; width: 100%;\" class=\"plotly-graph-div\"></div><script type=\"text/javascript\">require([\"plotly\"], function(Plotly) { window.PLOTLYENV=window.PLOTLYENV || {};window.PLOTLYENV.BASE_URL=\"https://plot.ly\";Plotly.newPlot(\"b89fb6d8-4ddb-4d28-8e95-aa8f21ba1acb\", [{\"type\": \"bar\", \"orientation\": \"h\", \"x\": [2352, 627, 231, 85, 44, 26, 13, 10, 10, 3], \"y\": [1, 2, 3, 4, 5, 6, 7, 8, 9, 10]}], {\"title\": \"All non-employees 2016\", \"barmode\": \"group\"}, {\"showLink\": true, \"linkText\": \"Export to plot.ly\"})});</script>"
      ]
     },
     "metadata": {},
     "output_type": "display_data"
    }
   ],
   "source": [
    "# Plot bar charts for each dataframe\n",
    "i = 0\n",
    "for exp_df in exp_df_list:\n",
    "    if not exp_df.empty:\n",
    "        ut.print_horizontal_bar_chart(exp_df, 'exp', title=project_name + ' ' + str(2016 - i), min_range=1)\n",
    "        \n",
    "        employees_df = exp_df[[group2 in ['Mozilla Staff', 'Code Sheriff'] for group1, group2 in exp_df.index]]\n",
    "        if len(employees_df) > 0:\n",
    "            ut.print_horizontal_bar_chart(employees_df, 'exp', title=project_name + ' employees ' + str(2016 - i), \n",
    "                                       min_range=1)\n",
    "        \n",
    "        non_employees_df = exp_df[[group2 not in ['Mozilla Staff', 'Code Sheriff'] for group1, group2 in exp_df.index]]\n",
    "        if len(non_employees_df):\n",
    "            ut.print_horizontal_bar_chart(non_employees_df, 'exp', \n",
    "                                       title=project_name + ' non-employees ' + str(2016 - i), min_range=1)\n",
    "    i += 1\n",
    "    ## GET DATA ONLY FOR 2016 (AS IT'S THE ONLY WE USE IN THE REPORT RIGHT NOW)\n",
    "    break"
   ]
  },
  {
   "cell_type": "markdown",
   "metadata": {},
   "source": [
    "### Evolution of Experience\n",
    "\n",
    "Next table and plot show how each group changes over time. This way we can visualize how new people come and remain in the community. It is worth to note that we are not following a given group of people through time (it could be done following diagonals in the table, we look at this in the next section), but looking at how a given group changes from one year to another. \n",
    "\n",
    "For instance, if we look at the group of 2 years of experience in 2008 we see we had 204 people. If we look at the same group in 2009 we see that our **new group** of people accumulating 2 years of experience has 105 people. So, it seems we have fewer people with 2 years of experience in 2009. If we look at 2016 we find 226 people with two years of experience, so we have more people with 2 years of experience nowadays than we had 8 years ago.\n",
    "\n",
    "Table can be read as follows:\n",
    "\n",
    "* Cell values corresponds to the number of contributors in the given group.\n",
    "* Rows corresponds to groups based on years of experience.\n",
    "* Columns corresponds to years we are analyzing. "
   ]
  },
  {
   "cell_type": "code",
   "execution_count": 10,
   "metadata": {
    "collapsed": false
   },
   "outputs": [
    {
     "data": {
      "text/html": [
       "<div>\n",
       "<table border=\"1\" class=\"dataframe\">\n",
       "  <thead>\n",
       "    <tr style=\"text-align: right;\">\n",
       "      <th></th>\n",
       "      <th>2007</th>\n",
       "      <th>2008</th>\n",
       "      <th>2009</th>\n",
       "      <th>2010</th>\n",
       "      <th>2011</th>\n",
       "      <th>2012</th>\n",
       "      <th>2013</th>\n",
       "      <th>2014</th>\n",
       "      <th>2015</th>\n",
       "      <th>2016</th>\n",
       "    </tr>\n",
       "    <tr>\n",
       "      <th>exp</th>\n",
       "      <th></th>\n",
       "      <th></th>\n",
       "      <th></th>\n",
       "      <th></th>\n",
       "      <th></th>\n",
       "      <th></th>\n",
       "      <th></th>\n",
       "      <th></th>\n",
       "      <th></th>\n",
       "      <th></th>\n",
       "    </tr>\n",
       "  </thead>\n",
       "  <tbody>\n",
       "    <tr>\n",
       "      <th>1.0</th>\n",
       "      <td>392.0</td>\n",
       "      <td>505.0</td>\n",
       "      <td>551.0</td>\n",
       "      <td>724.0</td>\n",
       "      <td>1008.0</td>\n",
       "      <td>1194.0</td>\n",
       "      <td>1652.0</td>\n",
       "      <td>2405.0</td>\n",
       "      <td>2603.0</td>\n",
       "      <td>2502.0</td>\n",
       "    </tr>\n",
       "    <tr>\n",
       "      <th>2.0</th>\n",
       "      <td>64.0</td>\n",
       "      <td>227.0</td>\n",
       "      <td>203.0</td>\n",
       "      <td>211.0</td>\n",
       "      <td>239.0</td>\n",
       "      <td>394.0</td>\n",
       "      <td>477.0</td>\n",
       "      <td>590.0</td>\n",
       "      <td>720.0</td>\n",
       "      <td>762.0</td>\n",
       "    </tr>\n",
       "    <tr>\n",
       "      <th>3.0</th>\n",
       "      <td>38.0</td>\n",
       "      <td>15.0</td>\n",
       "      <td>99.0</td>\n",
       "      <td>131.0</td>\n",
       "      <td>137.0</td>\n",
       "      <td>146.0</td>\n",
       "      <td>234.0</td>\n",
       "      <td>332.0</td>\n",
       "      <td>351.0</td>\n",
       "      <td>339.0</td>\n",
       "    </tr>\n",
       "    <tr>\n",
       "      <th>4.0</th>\n",
       "      <td>27.0</td>\n",
       "      <td>10.0</td>\n",
       "      <td>11.0</td>\n",
       "      <td>75.0</td>\n",
       "      <td>103.0</td>\n",
       "      <td>89.0</td>\n",
       "      <td>103.0</td>\n",
       "      <td>177.0</td>\n",
       "      <td>225.0</td>\n",
       "      <td>227.0</td>\n",
       "    </tr>\n",
       "    <tr>\n",
       "      <th>5.0</th>\n",
       "      <td>14.0</td>\n",
       "      <td>2.0</td>\n",
       "      <td>6.0</td>\n",
       "      <td>8.0</td>\n",
       "      <td>64.0</td>\n",
       "      <td>71.0</td>\n",
       "      <td>67.0</td>\n",
       "      <td>79.0</td>\n",
       "      <td>146.0</td>\n",
       "      <td>167.0</td>\n",
       "    </tr>\n",
       "    <tr>\n",
       "      <th>6.0</th>\n",
       "      <td>15.0</td>\n",
       "      <td>0.0</td>\n",
       "      <td>2.0</td>\n",
       "      <td>6.0</td>\n",
       "      <td>5.0</td>\n",
       "      <td>55.0</td>\n",
       "      <td>56.0</td>\n",
       "      <td>60.0</td>\n",
       "      <td>65.0</td>\n",
       "      <td>118.0</td>\n",
       "    </tr>\n",
       "    <tr>\n",
       "      <th>7.0</th>\n",
       "      <td>6.0</td>\n",
       "      <td>5.0</td>\n",
       "      <td>0.0</td>\n",
       "      <td>2.0</td>\n",
       "      <td>6.0</td>\n",
       "      <td>4.0</td>\n",
       "      <td>43.0</td>\n",
       "      <td>48.0</td>\n",
       "      <td>57.0</td>\n",
       "      <td>53.0</td>\n",
       "    </tr>\n",
       "    <tr>\n",
       "      <th>8.0</th>\n",
       "      <td>9.0</td>\n",
       "      <td>0.0</td>\n",
       "      <td>3.0</td>\n",
       "      <td>1.0</td>\n",
       "      <td>2.0</td>\n",
       "      <td>2.0</td>\n",
       "      <td>3.0</td>\n",
       "      <td>39.0</td>\n",
       "      <td>44.0</td>\n",
       "      <td>47.0</td>\n",
       "    </tr>\n",
       "    <tr>\n",
       "      <th>9.0</th>\n",
       "      <td>5.0</td>\n",
       "      <td>3.0</td>\n",
       "      <td>0.0</td>\n",
       "      <td>3.0</td>\n",
       "      <td>0.0</td>\n",
       "      <td>1.0</td>\n",
       "      <td>2.0</td>\n",
       "      <td>1.0</td>\n",
       "      <td>34.0</td>\n",
       "      <td>38.0</td>\n",
       "    </tr>\n",
       "    <tr>\n",
       "      <th>10.0</th>\n",
       "      <td>2.0</td>\n",
       "      <td>1.0</td>\n",
       "      <td>3.0</td>\n",
       "      <td>0.0</td>\n",
       "      <td>2.0</td>\n",
       "      <td>0.0</td>\n",
       "      <td>1.0</td>\n",
       "      <td>1.0</td>\n",
       "      <td>1.0</td>\n",
       "      <td>29.0</td>\n",
       "    </tr>\n",
       "    <tr>\n",
       "      <th>11.0</th>\n",
       "      <td>0.0</td>\n",
       "      <td>0.0</td>\n",
       "      <td>1.0</td>\n",
       "      <td>3.0</td>\n",
       "      <td>0.0</td>\n",
       "      <td>2.0</td>\n",
       "      <td>0.0</td>\n",
       "      <td>1.0</td>\n",
       "      <td>1.0</td>\n",
       "      <td>1.0</td>\n",
       "    </tr>\n",
       "    <tr>\n",
       "      <th>12.0</th>\n",
       "      <td>0.0</td>\n",
       "      <td>0.0</td>\n",
       "      <td>0.0</td>\n",
       "      <td>1.0</td>\n",
       "      <td>2.0</td>\n",
       "      <td>0.0</td>\n",
       "      <td>2.0</td>\n",
       "      <td>0.0</td>\n",
       "      <td>1.0</td>\n",
       "      <td>1.0</td>\n",
       "    </tr>\n",
       "    <tr>\n",
       "      <th>13.0</th>\n",
       "      <td>0.0</td>\n",
       "      <td>0.0</td>\n",
       "      <td>0.0</td>\n",
       "      <td>0.0</td>\n",
       "      <td>1.0</td>\n",
       "      <td>1.0</td>\n",
       "      <td>0.0</td>\n",
       "      <td>1.0</td>\n",
       "      <td>0.0</td>\n",
       "      <td>1.0</td>\n",
       "    </tr>\n",
       "    <tr>\n",
       "      <th>14.0</th>\n",
       "      <td>0.0</td>\n",
       "      <td>0.0</td>\n",
       "      <td>0.0</td>\n",
       "      <td>0.0</td>\n",
       "      <td>0.0</td>\n",
       "      <td>0.0</td>\n",
       "      <td>1.0</td>\n",
       "      <td>0.0</td>\n",
       "      <td>1.0</td>\n",
       "      <td>0.0</td>\n",
       "    </tr>\n",
       "    <tr>\n",
       "      <th>15.0</th>\n",
       "      <td>0.0</td>\n",
       "      <td>0.0</td>\n",
       "      <td>0.0</td>\n",
       "      <td>0.0</td>\n",
       "      <td>0.0</td>\n",
       "      <td>0.0</td>\n",
       "      <td>0.0</td>\n",
       "      <td>1.0</td>\n",
       "      <td>0.0</td>\n",
       "      <td>1.0</td>\n",
       "    </tr>\n",
       "    <tr>\n",
       "      <th>16.0</th>\n",
       "      <td>0.0</td>\n",
       "      <td>0.0</td>\n",
       "      <td>0.0</td>\n",
       "      <td>0.0</td>\n",
       "      <td>0.0</td>\n",
       "      <td>0.0</td>\n",
       "      <td>0.0</td>\n",
       "      <td>0.0</td>\n",
       "      <td>1.0</td>\n",
       "      <td>0.0</td>\n",
       "    </tr>\n",
       "    <tr>\n",
       "      <th>17.0</th>\n",
       "      <td>0.0</td>\n",
       "      <td>0.0</td>\n",
       "      <td>0.0</td>\n",
       "      <td>0.0</td>\n",
       "      <td>0.0</td>\n",
       "      <td>0.0</td>\n",
       "      <td>0.0</td>\n",
       "      <td>0.0</td>\n",
       "      <td>0.0</td>\n",
       "      <td>1.0</td>\n",
       "    </tr>\n",
       "  </tbody>\n",
       "</table>\n",
       "</div>"
      ],
      "text/plain": [
       "       2007   2008   2009   2010    2011    2012    2013    2014    2015  \\\n",
       "exp                                                                        \n",
       "1.0   392.0  505.0  551.0  724.0  1008.0  1194.0  1652.0  2405.0  2603.0   \n",
       "2.0    64.0  227.0  203.0  211.0   239.0   394.0   477.0   590.0   720.0   \n",
       "3.0    38.0   15.0   99.0  131.0   137.0   146.0   234.0   332.0   351.0   \n",
       "4.0    27.0   10.0   11.0   75.0   103.0    89.0   103.0   177.0   225.0   \n",
       "5.0    14.0    2.0    6.0    8.0    64.0    71.0    67.0    79.0   146.0   \n",
       "6.0    15.0    0.0    2.0    6.0     5.0    55.0    56.0    60.0    65.0   \n",
       "7.0     6.0    5.0    0.0    2.0     6.0     4.0    43.0    48.0    57.0   \n",
       "8.0     9.0    0.0    3.0    1.0     2.0     2.0     3.0    39.0    44.0   \n",
       "9.0     5.0    3.0    0.0    3.0     0.0     1.0     2.0     1.0    34.0   \n",
       "10.0    2.0    1.0    3.0    0.0     2.0     0.0     1.0     1.0     1.0   \n",
       "11.0    0.0    0.0    1.0    3.0     0.0     2.0     0.0     1.0     1.0   \n",
       "12.0    0.0    0.0    0.0    1.0     2.0     0.0     2.0     0.0     1.0   \n",
       "13.0    0.0    0.0    0.0    0.0     1.0     1.0     0.0     1.0     0.0   \n",
       "14.0    0.0    0.0    0.0    0.0     0.0     0.0     1.0     0.0     1.0   \n",
       "15.0    0.0    0.0    0.0    0.0     0.0     0.0     0.0     1.0     0.0   \n",
       "16.0    0.0    0.0    0.0    0.0     0.0     0.0     0.0     0.0     1.0   \n",
       "17.0    0.0    0.0    0.0    0.0     0.0     0.0     0.0     0.0     0.0   \n",
       "\n",
       "        2016  \n",
       "exp           \n",
       "1.0   2502.0  \n",
       "2.0    762.0  \n",
       "3.0    339.0  \n",
       "4.0    227.0  \n",
       "5.0    167.0  \n",
       "6.0    118.0  \n",
       "7.0     53.0  \n",
       "8.0     47.0  \n",
       "9.0     38.0  \n",
       "10.0    29.0  \n",
       "11.0     1.0  \n",
       "12.0     1.0  \n",
       "13.0     1.0  \n",
       "14.0     0.0  \n",
       "15.0     1.0  \n",
       "16.0     0.0  \n",
       "17.0     1.0  "
      ]
     },
     "execution_count": 10,
     "metadata": {},
     "output_type": "execute_result"
    }
   ],
   "source": [
    "exp_groups_evo_df = pandas.DataFrame(columns=['exp'])\n",
    "\n",
    "for exp_df in exp_df_list:\n",
    "    \n",
    "    if exp_df.empty:\n",
    "        continue\n",
    "    \n",
    "    year = exp_df['last_active'].unique()[0]\n",
    "    exp_groups_df = pandas.DataFrame(columns=['exp', year])\n",
    "    \n",
    "    experience = list(range(1, int(exp_df['exp'].max()) + 1))\n",
    "    \n",
    "    for exp in experience:\n",
    "        count = len(exp_df.loc[exp_df['exp'] == exp])\n",
    "        exp_groups_df.loc[len(exp_groups_df)] = [exp, count]\n",
    "\n",
    "    exp_groups_evo_df = exp_groups_evo_df.merge(exp_groups_df, on='exp', how='outer')\n",
    "\n",
    "\n",
    "# Fill Nan with 0's\n",
    "exp_groups_evo_df = exp_groups_evo_df.fillna(0)\n",
    "\n",
    "# Reorder columns\n",
    "exp_groups_evo_df = exp_groups_evo_df.set_index('exp')\n",
    "exp_groups_evo_df = exp_groups_evo_df.sort_index(axis=1)\n",
    "\n",
    "\n",
    "#print('Max. Exp: ', exp_groups_evo_df['exp'].max(), 'Max. Count: ')\n",
    "exp_groups_evo_df"
   ]
  },
  {
   "cell_type": "markdown",
   "metadata": {},
   "source": [
    "### Employees"
   ]
  },
  {
   "cell_type": "code",
   "execution_count": 11,
   "metadata": {
    "collapsed": false
   },
   "outputs": [
    {
     "data": {
      "text/html": [
       "<div>\n",
       "<table border=\"1\" class=\"dataframe\">\n",
       "  <thead>\n",
       "    <tr style=\"text-align: right;\">\n",
       "      <th></th>\n",
       "      <th>2007</th>\n",
       "      <th>2008</th>\n",
       "      <th>2009</th>\n",
       "      <th>2010</th>\n",
       "      <th>2011</th>\n",
       "      <th>2012</th>\n",
       "      <th>2013</th>\n",
       "      <th>2014</th>\n",
       "      <th>2015</th>\n",
       "      <th>2016</th>\n",
       "    </tr>\n",
       "    <tr>\n",
       "      <th>exp</th>\n",
       "      <th></th>\n",
       "      <th></th>\n",
       "      <th></th>\n",
       "      <th></th>\n",
       "      <th></th>\n",
       "      <th></th>\n",
       "      <th></th>\n",
       "      <th></th>\n",
       "      <th></th>\n",
       "      <th></th>\n",
       "    </tr>\n",
       "  </thead>\n",
       "  <tbody>\n",
       "    <tr>\n",
       "      <th>1.0</th>\n",
       "      <td>117.0</td>\n",
       "      <td>119.0</td>\n",
       "      <td>128.0</td>\n",
       "      <td>158.0</td>\n",
       "      <td>256.0</td>\n",
       "      <td>306.0</td>\n",
       "      <td>305.0</td>\n",
       "      <td>259.0</td>\n",
       "      <td>171.0</td>\n",
       "      <td>150.0</td>\n",
       "    </tr>\n",
       "    <tr>\n",
       "      <th>2.0</th>\n",
       "      <td>9.0</td>\n",
       "      <td>87.0</td>\n",
       "      <td>88.0</td>\n",
       "      <td>88.0</td>\n",
       "      <td>98.0</td>\n",
       "      <td>175.0</td>\n",
       "      <td>222.0</td>\n",
       "      <td>228.0</td>\n",
       "      <td>152.0</td>\n",
       "      <td>135.0</td>\n",
       "    </tr>\n",
       "    <tr>\n",
       "      <th>3.0</th>\n",
       "      <td>5.0</td>\n",
       "      <td>9.0</td>\n",
       "      <td>66.0</td>\n",
       "      <td>68.0</td>\n",
       "      <td>74.0</td>\n",
       "      <td>77.0</td>\n",
       "      <td>151.0</td>\n",
       "      <td>200.0</td>\n",
       "      <td>186.0</td>\n",
       "      <td>108.0</td>\n",
       "    </tr>\n",
       "    <tr>\n",
       "      <th>4.0</th>\n",
       "      <td>2.0</td>\n",
       "      <td>5.0</td>\n",
       "      <td>6.0</td>\n",
       "      <td>57.0</td>\n",
       "      <td>58.0</td>\n",
       "      <td>55.0</td>\n",
       "      <td>66.0</td>\n",
       "      <td>129.0</td>\n",
       "      <td>159.0</td>\n",
       "      <td>142.0</td>\n",
       "    </tr>\n",
       "    <tr>\n",
       "      <th>5.0</th>\n",
       "      <td>0.0</td>\n",
       "      <td>2.0</td>\n",
       "      <td>5.0</td>\n",
       "      <td>4.0</td>\n",
       "      <td>54.0</td>\n",
       "      <td>45.0</td>\n",
       "      <td>48.0</td>\n",
       "      <td>54.0</td>\n",
       "      <td>110.0</td>\n",
       "      <td>123.0</td>\n",
       "    </tr>\n",
       "    <tr>\n",
       "      <th>6.0</th>\n",
       "      <td>3.0</td>\n",
       "      <td>0.0</td>\n",
       "      <td>2.0</td>\n",
       "      <td>5.0</td>\n",
       "      <td>4.0</td>\n",
       "      <td>47.0</td>\n",
       "      <td>41.0</td>\n",
       "      <td>43.0</td>\n",
       "      <td>46.0</td>\n",
       "      <td>92.0</td>\n",
       "    </tr>\n",
       "    <tr>\n",
       "      <th>7.0</th>\n",
       "      <td>0.0</td>\n",
       "      <td>3.0</td>\n",
       "      <td>0.0</td>\n",
       "      <td>2.0</td>\n",
       "      <td>5.0</td>\n",
       "      <td>4.0</td>\n",
       "      <td>39.0</td>\n",
       "      <td>36.0</td>\n",
       "      <td>46.0</td>\n",
       "      <td>40.0</td>\n",
       "    </tr>\n",
       "    <tr>\n",
       "      <th>8.0</th>\n",
       "      <td>2.0</td>\n",
       "      <td>0.0</td>\n",
       "      <td>2.0</td>\n",
       "      <td>1.0</td>\n",
       "      <td>1.0</td>\n",
       "      <td>2.0</td>\n",
       "      <td>3.0</td>\n",
       "      <td>35.0</td>\n",
       "      <td>34.0</td>\n",
       "      <td>37.0</td>\n",
       "    </tr>\n",
       "    <tr>\n",
       "      <th>9.0</th>\n",
       "      <td>1.0</td>\n",
       "      <td>2.0</td>\n",
       "      <td>0.0</td>\n",
       "      <td>2.0</td>\n",
       "      <td>0.0</td>\n",
       "      <td>1.0</td>\n",
       "      <td>2.0</td>\n",
       "      <td>1.0</td>\n",
       "      <td>30.0</td>\n",
       "      <td>28.0</td>\n",
       "    </tr>\n",
       "    <tr>\n",
       "      <th>10.0</th>\n",
       "      <td>0.0</td>\n",
       "      <td>1.0</td>\n",
       "      <td>2.0</td>\n",
       "      <td>0.0</td>\n",
       "      <td>2.0</td>\n",
       "      <td>0.0</td>\n",
       "      <td>1.0</td>\n",
       "      <td>1.0</td>\n",
       "      <td>1.0</td>\n",
       "      <td>26.0</td>\n",
       "    </tr>\n",
       "    <tr>\n",
       "      <th>11.0</th>\n",
       "      <td>0.0</td>\n",
       "      <td>0.0</td>\n",
       "      <td>1.0</td>\n",
       "      <td>2.0</td>\n",
       "      <td>0.0</td>\n",
       "      <td>2.0</td>\n",
       "      <td>0.0</td>\n",
       "      <td>1.0</td>\n",
       "      <td>1.0</td>\n",
       "      <td>1.0</td>\n",
       "    </tr>\n",
       "    <tr>\n",
       "      <th>12.0</th>\n",
       "      <td>0.0</td>\n",
       "      <td>0.0</td>\n",
       "      <td>0.0</td>\n",
       "      <td>1.0</td>\n",
       "      <td>1.0</td>\n",
       "      <td>0.0</td>\n",
       "      <td>2.0</td>\n",
       "      <td>0.0</td>\n",
       "      <td>1.0</td>\n",
       "      <td>1.0</td>\n",
       "    </tr>\n",
       "    <tr>\n",
       "      <th>13.0</th>\n",
       "      <td>0.0</td>\n",
       "      <td>0.0</td>\n",
       "      <td>0.0</td>\n",
       "      <td>0.0</td>\n",
       "      <td>1.0</td>\n",
       "      <td>1.0</td>\n",
       "      <td>0.0</td>\n",
       "      <td>1.0</td>\n",
       "      <td>0.0</td>\n",
       "      <td>1.0</td>\n",
       "    </tr>\n",
       "    <tr>\n",
       "      <th>14.0</th>\n",
       "      <td>0.0</td>\n",
       "      <td>0.0</td>\n",
       "      <td>0.0</td>\n",
       "      <td>0.0</td>\n",
       "      <td>0.0</td>\n",
       "      <td>0.0</td>\n",
       "      <td>1.0</td>\n",
       "      <td>0.0</td>\n",
       "      <td>1.0</td>\n",
       "      <td>0.0</td>\n",
       "    </tr>\n",
       "    <tr>\n",
       "      <th>15.0</th>\n",
       "      <td>0.0</td>\n",
       "      <td>0.0</td>\n",
       "      <td>0.0</td>\n",
       "      <td>0.0</td>\n",
       "      <td>0.0</td>\n",
       "      <td>0.0</td>\n",
       "      <td>0.0</td>\n",
       "      <td>1.0</td>\n",
       "      <td>0.0</td>\n",
       "      <td>1.0</td>\n",
       "    </tr>\n",
       "    <tr>\n",
       "      <th>16.0</th>\n",
       "      <td>0.0</td>\n",
       "      <td>0.0</td>\n",
       "      <td>0.0</td>\n",
       "      <td>0.0</td>\n",
       "      <td>0.0</td>\n",
       "      <td>0.0</td>\n",
       "      <td>0.0</td>\n",
       "      <td>0.0</td>\n",
       "      <td>1.0</td>\n",
       "      <td>0.0</td>\n",
       "    </tr>\n",
       "    <tr>\n",
       "      <th>17.0</th>\n",
       "      <td>0.0</td>\n",
       "      <td>0.0</td>\n",
       "      <td>0.0</td>\n",
       "      <td>0.0</td>\n",
       "      <td>0.0</td>\n",
       "      <td>0.0</td>\n",
       "      <td>0.0</td>\n",
       "      <td>0.0</td>\n",
       "      <td>0.0</td>\n",
       "      <td>1.0</td>\n",
       "    </tr>\n",
       "  </tbody>\n",
       "</table>\n",
       "</div>"
      ],
      "text/plain": [
       "       2007   2008   2009   2010   2011   2012   2013   2014   2015   2016\n",
       "exp                                                                       \n",
       "1.0   117.0  119.0  128.0  158.0  256.0  306.0  305.0  259.0  171.0  150.0\n",
       "2.0     9.0   87.0   88.0   88.0   98.0  175.0  222.0  228.0  152.0  135.0\n",
       "3.0     5.0    9.0   66.0   68.0   74.0   77.0  151.0  200.0  186.0  108.0\n",
       "4.0     2.0    5.0    6.0   57.0   58.0   55.0   66.0  129.0  159.0  142.0\n",
       "5.0     0.0    2.0    5.0    4.0   54.0   45.0   48.0   54.0  110.0  123.0\n",
       "6.0     3.0    0.0    2.0    5.0    4.0   47.0   41.0   43.0   46.0   92.0\n",
       "7.0     0.0    3.0    0.0    2.0    5.0    4.0   39.0   36.0   46.0   40.0\n",
       "8.0     2.0    0.0    2.0    1.0    1.0    2.0    3.0   35.0   34.0   37.0\n",
       "9.0     1.0    2.0    0.0    2.0    0.0    1.0    2.0    1.0   30.0   28.0\n",
       "10.0    0.0    1.0    2.0    0.0    2.0    0.0    1.0    1.0    1.0   26.0\n",
       "11.0    0.0    0.0    1.0    2.0    0.0    2.0    0.0    1.0    1.0    1.0\n",
       "12.0    0.0    0.0    0.0    1.0    1.0    0.0    2.0    0.0    1.0    1.0\n",
       "13.0    0.0    0.0    0.0    0.0    1.0    1.0    0.0    1.0    0.0    1.0\n",
       "14.0    0.0    0.0    0.0    0.0    0.0    0.0    1.0    0.0    1.0    0.0\n",
       "15.0    0.0    0.0    0.0    0.0    0.0    0.0    0.0    1.0    0.0    1.0\n",
       "16.0    0.0    0.0    0.0    0.0    0.0    0.0    0.0    0.0    1.0    0.0\n",
       "17.0    0.0    0.0    0.0    0.0    0.0    0.0    0.0    0.0    0.0    1.0"
      ]
     },
     "execution_count": 11,
     "metadata": {},
     "output_type": "execute_result"
    }
   ],
   "source": [
    "exp_groups_evo_moz_df = pandas.DataFrame(columns=['exp'])\n",
    "\n",
    "for exp_df in exp_df_list:\n",
    "    \n",
    "    if exp_df.empty:\n",
    "        continue\n",
    "        \n",
    "    exp_df = exp_df[[group2 in ['Mozilla Staff', 'Code Sheriff'] for group1, group2 in exp_df.index]]\n",
    "    \n",
    "    year = exp_df['last_active'].unique()[0]\n",
    "    exp_groups_df = pandas.DataFrame(columns=['exp', year])\n",
    "    \n",
    "    experience = list(range(1, int(exp_df['exp'].max()) + 1))\n",
    "    \n",
    "    for exp in experience:\n",
    "        count = len(exp_df.loc[exp_df['exp'] == exp])\n",
    "        exp_groups_df.loc[len(exp_groups_df)] = [exp, count]\n",
    "\n",
    "    exp_groups_evo_moz_df = exp_groups_evo_moz_df.merge(exp_groups_df, on='exp', how='outer')\n",
    "\n",
    "\n",
    "# Fill Nan with 0's\n",
    "exp_groups_evo_moz_df = exp_groups_evo_moz_df.fillna(0)\n",
    "\n",
    "# Reorder columns\n",
    "exp_groups_evo_moz_df = exp_groups_evo_moz_df.set_index('exp')\n",
    "exp_groups_evo_moz_df = exp_groups_evo_moz_df.sort_index(axis=1)\n",
    "\n",
    "\n",
    "#print('Max. Exp: ', exp_groups_evo_moz_df['exp'].max(), 'Max. Count: ')\n",
    "exp_groups_evo_moz_df"
   ]
  },
  {
   "cell_type": "markdown",
   "metadata": {},
   "source": [
    "### Non-employees"
   ]
  },
  {
   "cell_type": "code",
   "execution_count": 12,
   "metadata": {
    "collapsed": false,
    "scrolled": true
   },
   "outputs": [
    {
     "data": {
      "text/html": [
       "<div>\n",
       "<table border=\"1\" class=\"dataframe\">\n",
       "  <thead>\n",
       "    <tr style=\"text-align: right;\">\n",
       "      <th></th>\n",
       "      <th>2007</th>\n",
       "      <th>2008</th>\n",
       "      <th>2009</th>\n",
       "      <th>2010</th>\n",
       "      <th>2011</th>\n",
       "      <th>2012</th>\n",
       "      <th>2013</th>\n",
       "      <th>2014</th>\n",
       "      <th>2015</th>\n",
       "      <th>2016</th>\n",
       "    </tr>\n",
       "    <tr>\n",
       "      <th>exp</th>\n",
       "      <th></th>\n",
       "      <th></th>\n",
       "      <th></th>\n",
       "      <th></th>\n",
       "      <th></th>\n",
       "      <th></th>\n",
       "      <th></th>\n",
       "      <th></th>\n",
       "      <th></th>\n",
       "      <th></th>\n",
       "    </tr>\n",
       "  </thead>\n",
       "  <tbody>\n",
       "    <tr>\n",
       "      <th>1.0</th>\n",
       "      <td>275.0</td>\n",
       "      <td>386.0</td>\n",
       "      <td>423.0</td>\n",
       "      <td>566.0</td>\n",
       "      <td>752.0</td>\n",
       "      <td>888.0</td>\n",
       "      <td>1347.0</td>\n",
       "      <td>2146.0</td>\n",
       "      <td>2432.0</td>\n",
       "      <td>2352.0</td>\n",
       "    </tr>\n",
       "    <tr>\n",
       "      <th>2.0</th>\n",
       "      <td>55.0</td>\n",
       "      <td>140.0</td>\n",
       "      <td>115.0</td>\n",
       "      <td>123.0</td>\n",
       "      <td>141.0</td>\n",
       "      <td>219.0</td>\n",
       "      <td>255.0</td>\n",
       "      <td>362.0</td>\n",
       "      <td>568.0</td>\n",
       "      <td>627.0</td>\n",
       "    </tr>\n",
       "    <tr>\n",
       "      <th>3.0</th>\n",
       "      <td>33.0</td>\n",
       "      <td>6.0</td>\n",
       "      <td>33.0</td>\n",
       "      <td>63.0</td>\n",
       "      <td>63.0</td>\n",
       "      <td>69.0</td>\n",
       "      <td>83.0</td>\n",
       "      <td>132.0</td>\n",
       "      <td>165.0</td>\n",
       "      <td>231.0</td>\n",
       "    </tr>\n",
       "    <tr>\n",
       "      <th>4.0</th>\n",
       "      <td>25.0</td>\n",
       "      <td>5.0</td>\n",
       "      <td>5.0</td>\n",
       "      <td>18.0</td>\n",
       "      <td>45.0</td>\n",
       "      <td>34.0</td>\n",
       "      <td>37.0</td>\n",
       "      <td>48.0</td>\n",
       "      <td>66.0</td>\n",
       "      <td>85.0</td>\n",
       "    </tr>\n",
       "    <tr>\n",
       "      <th>5.0</th>\n",
       "      <td>14.0</td>\n",
       "      <td>0.0</td>\n",
       "      <td>1.0</td>\n",
       "      <td>4.0</td>\n",
       "      <td>10.0</td>\n",
       "      <td>26.0</td>\n",
       "      <td>19.0</td>\n",
       "      <td>25.0</td>\n",
       "      <td>36.0</td>\n",
       "      <td>44.0</td>\n",
       "    </tr>\n",
       "    <tr>\n",
       "      <th>6.0</th>\n",
       "      <td>12.0</td>\n",
       "      <td>0.0</td>\n",
       "      <td>0.0</td>\n",
       "      <td>1.0</td>\n",
       "      <td>1.0</td>\n",
       "      <td>8.0</td>\n",
       "      <td>15.0</td>\n",
       "      <td>17.0</td>\n",
       "      <td>19.0</td>\n",
       "      <td>26.0</td>\n",
       "    </tr>\n",
       "    <tr>\n",
       "      <th>7.0</th>\n",
       "      <td>6.0</td>\n",
       "      <td>2.0</td>\n",
       "      <td>0.0</td>\n",
       "      <td>0.0</td>\n",
       "      <td>1.0</td>\n",
       "      <td>0.0</td>\n",
       "      <td>4.0</td>\n",
       "      <td>12.0</td>\n",
       "      <td>11.0</td>\n",
       "      <td>13.0</td>\n",
       "    </tr>\n",
       "    <tr>\n",
       "      <th>8.0</th>\n",
       "      <td>7.0</td>\n",
       "      <td>0.0</td>\n",
       "      <td>1.0</td>\n",
       "      <td>0.0</td>\n",
       "      <td>1.0</td>\n",
       "      <td>0.0</td>\n",
       "      <td>0.0</td>\n",
       "      <td>4.0</td>\n",
       "      <td>10.0</td>\n",
       "      <td>10.0</td>\n",
       "    </tr>\n",
       "    <tr>\n",
       "      <th>9.0</th>\n",
       "      <td>4.0</td>\n",
       "      <td>1.0</td>\n",
       "      <td>0.0</td>\n",
       "      <td>1.0</td>\n",
       "      <td>0.0</td>\n",
       "      <td>0.0</td>\n",
       "      <td>0.0</td>\n",
       "      <td>0.0</td>\n",
       "      <td>4.0</td>\n",
       "      <td>10.0</td>\n",
       "    </tr>\n",
       "    <tr>\n",
       "      <th>10.0</th>\n",
       "      <td>2.0</td>\n",
       "      <td>0.0</td>\n",
       "      <td>1.0</td>\n",
       "      <td>0.0</td>\n",
       "      <td>0.0</td>\n",
       "      <td>0.0</td>\n",
       "      <td>0.0</td>\n",
       "      <td>0.0</td>\n",
       "      <td>0.0</td>\n",
       "      <td>3.0</td>\n",
       "    </tr>\n",
       "    <tr>\n",
       "      <th>11.0</th>\n",
       "      <td>0.0</td>\n",
       "      <td>0.0</td>\n",
       "      <td>0.0</td>\n",
       "      <td>1.0</td>\n",
       "      <td>0.0</td>\n",
       "      <td>0.0</td>\n",
       "      <td>0.0</td>\n",
       "      <td>0.0</td>\n",
       "      <td>0.0</td>\n",
       "      <td>0.0</td>\n",
       "    </tr>\n",
       "    <tr>\n",
       "      <th>12.0</th>\n",
       "      <td>0.0</td>\n",
       "      <td>0.0</td>\n",
       "      <td>0.0</td>\n",
       "      <td>0.0</td>\n",
       "      <td>1.0</td>\n",
       "      <td>0.0</td>\n",
       "      <td>0.0</td>\n",
       "      <td>0.0</td>\n",
       "      <td>0.0</td>\n",
       "      <td>0.0</td>\n",
       "    </tr>\n",
       "  </tbody>\n",
       "</table>\n",
       "</div>"
      ],
      "text/plain": [
       "       2007   2008   2009   2010   2011   2012    2013    2014    2015    2016\n",
       "exp                                                                           \n",
       "1.0   275.0  386.0  423.0  566.0  752.0  888.0  1347.0  2146.0  2432.0  2352.0\n",
       "2.0    55.0  140.0  115.0  123.0  141.0  219.0   255.0   362.0   568.0   627.0\n",
       "3.0    33.0    6.0   33.0   63.0   63.0   69.0    83.0   132.0   165.0   231.0\n",
       "4.0    25.0    5.0    5.0   18.0   45.0   34.0    37.0    48.0    66.0    85.0\n",
       "5.0    14.0    0.0    1.0    4.0   10.0   26.0    19.0    25.0    36.0    44.0\n",
       "6.0    12.0    0.0    0.0    1.0    1.0    8.0    15.0    17.0    19.0    26.0\n",
       "7.0     6.0    2.0    0.0    0.0    1.0    0.0     4.0    12.0    11.0    13.0\n",
       "8.0     7.0    0.0    1.0    0.0    1.0    0.0     0.0     4.0    10.0    10.0\n",
       "9.0     4.0    1.0    0.0    1.0    0.0    0.0     0.0     0.0     4.0    10.0\n",
       "10.0    2.0    0.0    1.0    0.0    0.0    0.0     0.0     0.0     0.0     3.0\n",
       "11.0    0.0    0.0    0.0    1.0    0.0    0.0     0.0     0.0     0.0     0.0\n",
       "12.0    0.0    0.0    0.0    0.0    1.0    0.0     0.0     0.0     0.0     0.0"
      ]
     },
     "execution_count": 12,
     "metadata": {},
     "output_type": "execute_result"
    }
   ],
   "source": [
    "exp_groups_evo_others_df = pandas.DataFrame(columns=['exp'])\n",
    "\n",
    "for exp_df in exp_df_list:\n",
    "    \n",
    "    if exp_df.empty:\n",
    "        continue\n",
    "        \n",
    "    exp_df = exp_df[[group2 not in ['Mozilla Staff', 'Code Sheriff'] for group1, group2 in exp_df.index]]\n",
    "    \n",
    "    if (len(exp_df) == 0):\n",
    "        continue\n",
    "    \n",
    "    year = exp_df['last_active'].unique()[0]\n",
    "    exp_groups_df = pandas.DataFrame(columns=['exp', year])\n",
    "    \n",
    "    experience = list(range(1, int(exp_df['exp'].max()) + 1))\n",
    "    \n",
    "    for exp in experience:\n",
    "        count = len(exp_df.loc[exp_df['exp'] == exp])\n",
    "        exp_groups_df.loc[len(exp_groups_df)] = [exp, count]\n",
    "\n",
    "    exp_groups_evo_others_df = exp_groups_evo_others_df.merge(exp_groups_df, on='exp', how='outer')\n",
    "\n",
    "\n",
    "# Fill Nan with 0's\n",
    "exp_groups_evo_others_df = exp_groups_evo_others_df.fillna(0)\n",
    "\n",
    "# Reorder columns\n",
    "exp_groups_evo_others_df = exp_groups_evo_others_df.set_index('exp')\n",
    "exp_groups_evo_others_df = exp_groups_evo_others_df.sort_index(axis=1)\n",
    "\n",
    "\n",
    "#print('Max. Exp: ', exp_groups_evo_others_df['exp'].max(), 'Max. Count: ')\n",
    "exp_groups_evo_others_df"
   ]
  },
  {
   "cell_type": "markdown",
   "metadata": {},
   "source": [
    "Next plot can be read as follows:\n",
    "* Y axis corresponds to the number of contributors in the given group.\n",
    "* X axis corresponds to years we are looking through.\n",
    "* Each line corresponds to a given group based on their years of experience. "
   ]
  },
  {
   "cell_type": "code",
   "execution_count": 13,
   "metadata": {
    "collapsed": false
   },
   "outputs": [
    {
     "data": {
      "text/html": [
       "<script>requirejs.config({paths: { 'plotly': ['https://cdn.plot.ly/plotly-latest.min']},});if(!window.Plotly) {{require(['plotly'],function(plotly) {window.Plotly=plotly;});}}</script>"
      ],
      "text/vnd.plotly.v1+html": [
       "<script>requirejs.config({paths: { 'plotly': ['https://cdn.plot.ly/plotly-latest.min']},});if(!window.Plotly) {{require(['plotly'],function(plotly) {window.Plotly=plotly;});}}</script>"
      ]
     },
     "metadata": {},
     "output_type": "display_data"
    },
    {
     "data": {
      "application/vnd.plotly.v1+json": {
       "data": [
        {
         "mode": "lines+markers",
         "name": "1 years",
         "type": "scatter",
         "x": [
          "2007",
          "2008",
          "2009",
          "2010",
          "2011",
          "2012",
          "2013",
          "2014",
          "2015",
          "2016"
         ],
         "y": [
          392,
          505,
          551,
          724,
          1008,
          1194,
          1652,
          2405,
          2603,
          2502
         ]
        },
        {
         "mode": "lines+markers",
         "name": "2 years",
         "type": "scatter",
         "x": [
          "2007",
          "2008",
          "2009",
          "2010",
          "2011",
          "2012",
          "2013",
          "2014",
          "2015",
          "2016"
         ],
         "y": [
          64,
          227,
          203,
          211,
          239,
          394,
          477,
          590,
          720,
          762
         ]
        },
        {
         "mode": "lines+markers",
         "name": "3 years",
         "type": "scatter",
         "x": [
          "2007",
          "2008",
          "2009",
          "2010",
          "2011",
          "2012",
          "2013",
          "2014",
          "2015",
          "2016"
         ],
         "y": [
          38,
          15,
          99,
          131,
          137,
          146,
          234,
          332,
          351,
          339
         ]
        },
        {
         "mode": "lines+markers",
         "name": "4 years",
         "type": "scatter",
         "x": [
          "2007",
          "2008",
          "2009",
          "2010",
          "2011",
          "2012",
          "2013",
          "2014",
          "2015",
          "2016"
         ],
         "y": [
          27,
          10,
          11,
          75,
          103,
          89,
          103,
          177,
          225,
          227
         ]
        },
        {
         "mode": "lines+markers",
         "name": "5 years",
         "type": "scatter",
         "x": [
          "2007",
          "2008",
          "2009",
          "2010",
          "2011",
          "2012",
          "2013",
          "2014",
          "2015",
          "2016"
         ],
         "y": [
          14,
          2,
          6,
          8,
          64,
          71,
          67,
          79,
          146,
          167
         ]
        },
        {
         "mode": "lines+markers",
         "name": "6 years",
         "type": "scatter",
         "x": [
          "2007",
          "2008",
          "2009",
          "2010",
          "2011",
          "2012",
          "2013",
          "2014",
          "2015",
          "2016"
         ],
         "y": [
          15,
          0,
          2,
          6,
          5,
          55,
          56,
          60,
          65,
          118
         ]
        },
        {
         "mode": "lines+markers",
         "name": "7 years",
         "type": "scatter",
         "x": [
          "2007",
          "2008",
          "2009",
          "2010",
          "2011",
          "2012",
          "2013",
          "2014",
          "2015",
          "2016"
         ],
         "y": [
          6,
          5,
          0,
          2,
          6,
          4,
          43,
          48,
          57,
          53
         ]
        },
        {
         "mode": "lines+markers",
         "name": "8 years",
         "type": "scatter",
         "x": [
          "2007",
          "2008",
          "2009",
          "2010",
          "2011",
          "2012",
          "2013",
          "2014",
          "2015",
          "2016"
         ],
         "y": [
          9,
          0,
          3,
          1,
          2,
          2,
          3,
          39,
          44,
          47
         ]
        },
        {
         "mode": "lines+markers",
         "name": "9 years",
         "type": "scatter",
         "x": [
          "2007",
          "2008",
          "2009",
          "2010",
          "2011",
          "2012",
          "2013",
          "2014",
          "2015",
          "2016"
         ],
         "y": [
          5,
          3,
          0,
          3,
          0,
          1,
          2,
          1,
          34,
          38
         ]
        },
        {
         "mode": "lines+markers",
         "name": "10 years",
         "type": "scatter",
         "x": [
          "2007",
          "2008",
          "2009",
          "2010",
          "2011",
          "2012",
          "2013",
          "2014",
          "2015",
          "2016"
         ],
         "y": [
          2,
          1,
          3,
          0,
          2,
          0,
          1,
          1,
          1,
          29
         ]
        },
        {
         "mode": "lines+markers",
         "name": "11 years",
         "type": "scatter",
         "x": [
          "2007",
          "2008",
          "2009",
          "2010",
          "2011",
          "2012",
          "2013",
          "2014",
          "2015",
          "2016"
         ],
         "y": [
          0,
          0,
          1,
          3,
          0,
          2,
          0,
          1,
          1,
          1
         ]
        },
        {
         "mode": "lines+markers",
         "name": "12 years",
         "type": "scatter",
         "x": [
          "2007",
          "2008",
          "2009",
          "2010",
          "2011",
          "2012",
          "2013",
          "2014",
          "2015",
          "2016"
         ],
         "y": [
          0,
          0,
          0,
          1,
          2,
          0,
          2,
          0,
          1,
          1
         ]
        },
        {
         "mode": "lines+markers",
         "name": "13 years",
         "type": "scatter",
         "x": [
          "2007",
          "2008",
          "2009",
          "2010",
          "2011",
          "2012",
          "2013",
          "2014",
          "2015",
          "2016"
         ],
         "y": [
          0,
          0,
          0,
          0,
          1,
          1,
          0,
          1,
          0,
          1
         ]
        },
        {
         "mode": "lines+markers",
         "name": "14 years",
         "type": "scatter",
         "x": [
          "2007",
          "2008",
          "2009",
          "2010",
          "2011",
          "2012",
          "2013",
          "2014",
          "2015",
          "2016"
         ],
         "y": [
          0,
          0,
          0,
          0,
          0,
          0,
          1,
          0,
          1,
          0
         ]
        },
        {
         "mode": "lines+markers",
         "name": "15 years",
         "type": "scatter",
         "x": [
          "2007",
          "2008",
          "2009",
          "2010",
          "2011",
          "2012",
          "2013",
          "2014",
          "2015",
          "2016"
         ],
         "y": [
          0,
          0,
          0,
          0,
          0,
          0,
          0,
          1,
          0,
          1
         ]
        },
        {
         "mode": "lines+markers",
         "name": "16 years",
         "type": "scatter",
         "x": [
          "2007",
          "2008",
          "2009",
          "2010",
          "2011",
          "2012",
          "2013",
          "2014",
          "2015",
          "2016"
         ],
         "y": [
          0,
          0,
          0,
          0,
          0,
          0,
          0,
          0,
          1,
          0
         ]
        },
        {
         "mode": "lines+markers",
         "name": "17 years",
         "type": "scatter",
         "x": [
          "2007",
          "2008",
          "2009",
          "2010",
          "2011",
          "2012",
          "2013",
          "2014",
          "2015",
          "2016"
         ],
         "y": [
          0,
          0,
          0,
          0,
          0,
          0,
          0,
          0,
          0,
          1
         ]
        }
       ],
       "layout": {}
      },
      "text/html": [
       "<div id=\"ef72f508-182f-4f8b-9980-66d3fea544e7\" style=\"height: 525px; width: 100%;\" class=\"plotly-graph-div\"></div><script type=\"text/javascript\">require([\"plotly\"], function(Plotly) { window.PLOTLYENV=window.PLOTLYENV || {};window.PLOTLYENV.BASE_URL=\"https://plot.ly\";Plotly.newPlot(\"ef72f508-182f-4f8b-9980-66d3fea544e7\", [{\"mode\": \"lines+markers\", \"type\": \"scatter\", \"name\": \"1 years\", \"x\": [\"2007\", \"2008\", \"2009\", \"2010\", \"2011\", \"2012\", \"2013\", \"2014\", \"2015\", \"2016\"], \"y\": [392.0, 505.0, 551.0, 724.0, 1008.0, 1194.0, 1652.0, 2405.0, 2603.0, 2502.0]}, {\"mode\": \"lines+markers\", \"type\": \"scatter\", \"name\": \"2 years\", \"x\": [\"2007\", \"2008\", \"2009\", \"2010\", \"2011\", \"2012\", \"2013\", \"2014\", \"2015\", \"2016\"], \"y\": [64.0, 227.0, 203.0, 211.0, 239.0, 394.0, 477.0, 590.0, 720.0, 762.0]}, {\"mode\": \"lines+markers\", \"type\": \"scatter\", \"name\": \"3 years\", \"x\": [\"2007\", \"2008\", \"2009\", \"2010\", \"2011\", \"2012\", \"2013\", \"2014\", \"2015\", \"2016\"], \"y\": [38.0, 15.0, 99.0, 131.0, 137.0, 146.0, 234.0, 332.0, 351.0, 339.0]}, {\"mode\": \"lines+markers\", \"type\": \"scatter\", \"name\": \"4 years\", \"x\": [\"2007\", \"2008\", \"2009\", \"2010\", \"2011\", \"2012\", \"2013\", \"2014\", \"2015\", \"2016\"], \"y\": [27.0, 10.0, 11.0, 75.0, 103.0, 89.0, 103.0, 177.0, 225.0, 227.0]}, {\"mode\": \"lines+markers\", \"type\": \"scatter\", \"name\": \"5 years\", \"x\": [\"2007\", \"2008\", \"2009\", \"2010\", \"2011\", \"2012\", \"2013\", \"2014\", \"2015\", \"2016\"], \"y\": [14.0, 2.0, 6.0, 8.0, 64.0, 71.0, 67.0, 79.0, 146.0, 167.0]}, {\"mode\": \"lines+markers\", \"type\": \"scatter\", \"name\": \"6 years\", \"x\": [\"2007\", \"2008\", \"2009\", \"2010\", \"2011\", \"2012\", \"2013\", \"2014\", \"2015\", \"2016\"], \"y\": [15.0, 0.0, 2.0, 6.0, 5.0, 55.0, 56.0, 60.0, 65.0, 118.0]}, {\"mode\": \"lines+markers\", \"type\": \"scatter\", \"name\": \"7 years\", \"x\": [\"2007\", \"2008\", \"2009\", \"2010\", \"2011\", \"2012\", \"2013\", \"2014\", \"2015\", \"2016\"], \"y\": [6.0, 5.0, 0.0, 2.0, 6.0, 4.0, 43.0, 48.0, 57.0, 53.0]}, {\"mode\": \"lines+markers\", \"type\": \"scatter\", \"name\": \"8 years\", \"x\": [\"2007\", \"2008\", \"2009\", \"2010\", \"2011\", \"2012\", \"2013\", \"2014\", \"2015\", \"2016\"], \"y\": [9.0, 0.0, 3.0, 1.0, 2.0, 2.0, 3.0, 39.0, 44.0, 47.0]}, {\"mode\": \"lines+markers\", \"type\": \"scatter\", \"name\": \"9 years\", \"x\": [\"2007\", \"2008\", \"2009\", \"2010\", \"2011\", \"2012\", \"2013\", \"2014\", \"2015\", \"2016\"], \"y\": [5.0, 3.0, 0.0, 3.0, 0.0, 1.0, 2.0, 1.0, 34.0, 38.0]}, {\"mode\": \"lines+markers\", \"type\": \"scatter\", \"name\": \"10 years\", \"x\": [\"2007\", \"2008\", \"2009\", \"2010\", \"2011\", \"2012\", \"2013\", \"2014\", \"2015\", \"2016\"], \"y\": [2.0, 1.0, 3.0, 0.0, 2.0, 0.0, 1.0, 1.0, 1.0, 29.0]}, {\"mode\": \"lines+markers\", \"type\": \"scatter\", \"name\": \"11 years\", \"x\": [\"2007\", \"2008\", \"2009\", \"2010\", \"2011\", \"2012\", \"2013\", \"2014\", \"2015\", \"2016\"], \"y\": [0.0, 0.0, 1.0, 3.0, 0.0, 2.0, 0.0, 1.0, 1.0, 1.0]}, {\"mode\": \"lines+markers\", \"type\": \"scatter\", \"name\": \"12 years\", \"x\": [\"2007\", \"2008\", \"2009\", \"2010\", \"2011\", \"2012\", \"2013\", \"2014\", \"2015\", \"2016\"], \"y\": [0.0, 0.0, 0.0, 1.0, 2.0, 0.0, 2.0, 0.0, 1.0, 1.0]}, {\"mode\": \"lines+markers\", \"type\": \"scatter\", \"name\": \"13 years\", \"x\": [\"2007\", \"2008\", \"2009\", \"2010\", \"2011\", \"2012\", \"2013\", \"2014\", \"2015\", \"2016\"], \"y\": [0.0, 0.0, 0.0, 0.0, 1.0, 1.0, 0.0, 1.0, 0.0, 1.0]}, {\"mode\": \"lines+markers\", \"type\": \"scatter\", \"name\": \"14 years\", \"x\": [\"2007\", \"2008\", \"2009\", \"2010\", \"2011\", \"2012\", \"2013\", \"2014\", \"2015\", \"2016\"], \"y\": [0.0, 0.0, 0.0, 0.0, 0.0, 0.0, 1.0, 0.0, 1.0, 0.0]}, {\"mode\": \"lines+markers\", \"type\": \"scatter\", \"name\": \"15 years\", \"x\": [\"2007\", \"2008\", \"2009\", \"2010\", \"2011\", \"2012\", \"2013\", \"2014\", \"2015\", \"2016\"], \"y\": [0.0, 0.0, 0.0, 0.0, 0.0, 0.0, 0.0, 1.0, 0.0, 1.0]}, {\"mode\": \"lines+markers\", \"type\": \"scatter\", \"name\": \"16 years\", \"x\": [\"2007\", \"2008\", \"2009\", \"2010\", \"2011\", \"2012\", \"2013\", \"2014\", \"2015\", \"2016\"], \"y\": [0.0, 0.0, 0.0, 0.0, 0.0, 0.0, 0.0, 0.0, 1.0, 0.0]}, {\"mode\": \"lines+markers\", \"type\": \"scatter\", \"name\": \"17 years\", \"x\": [\"2007\", \"2008\", \"2009\", \"2010\", \"2011\", \"2012\", \"2013\", \"2014\", \"2015\", \"2016\"], \"y\": [0.0, 0.0, 0.0, 0.0, 0.0, 0.0, 0.0, 0.0, 0.0, 1.0]}], {}, {\"showLink\": true, \"linkText\": \"Export to plot.ly\"})});</script>"
      ],
      "text/vnd.plotly.v1+html": [
       "<div id=\"ef72f508-182f-4f8b-9980-66d3fea544e7\" style=\"height: 525px; width: 100%;\" class=\"plotly-graph-div\"></div><script type=\"text/javascript\">require([\"plotly\"], function(Plotly) { window.PLOTLYENV=window.PLOTLYENV || {};window.PLOTLYENV.BASE_URL=\"https://plot.ly\";Plotly.newPlot(\"ef72f508-182f-4f8b-9980-66d3fea544e7\", [{\"mode\": \"lines+markers\", \"type\": \"scatter\", \"name\": \"1 years\", \"x\": [\"2007\", \"2008\", \"2009\", \"2010\", \"2011\", \"2012\", \"2013\", \"2014\", \"2015\", \"2016\"], \"y\": [392.0, 505.0, 551.0, 724.0, 1008.0, 1194.0, 1652.0, 2405.0, 2603.0, 2502.0]}, {\"mode\": \"lines+markers\", \"type\": \"scatter\", \"name\": \"2 years\", \"x\": [\"2007\", \"2008\", \"2009\", \"2010\", \"2011\", \"2012\", \"2013\", \"2014\", \"2015\", \"2016\"], \"y\": [64.0, 227.0, 203.0, 211.0, 239.0, 394.0, 477.0, 590.0, 720.0, 762.0]}, {\"mode\": \"lines+markers\", \"type\": \"scatter\", \"name\": \"3 years\", \"x\": [\"2007\", \"2008\", \"2009\", \"2010\", \"2011\", \"2012\", \"2013\", \"2014\", \"2015\", \"2016\"], \"y\": [38.0, 15.0, 99.0, 131.0, 137.0, 146.0, 234.0, 332.0, 351.0, 339.0]}, {\"mode\": \"lines+markers\", \"type\": \"scatter\", \"name\": \"4 years\", \"x\": [\"2007\", \"2008\", \"2009\", \"2010\", \"2011\", \"2012\", \"2013\", \"2014\", \"2015\", \"2016\"], \"y\": [27.0, 10.0, 11.0, 75.0, 103.0, 89.0, 103.0, 177.0, 225.0, 227.0]}, {\"mode\": \"lines+markers\", \"type\": \"scatter\", \"name\": \"5 years\", \"x\": [\"2007\", \"2008\", \"2009\", \"2010\", \"2011\", \"2012\", \"2013\", \"2014\", \"2015\", \"2016\"], \"y\": [14.0, 2.0, 6.0, 8.0, 64.0, 71.0, 67.0, 79.0, 146.0, 167.0]}, {\"mode\": \"lines+markers\", \"type\": \"scatter\", \"name\": \"6 years\", \"x\": [\"2007\", \"2008\", \"2009\", \"2010\", \"2011\", \"2012\", \"2013\", \"2014\", \"2015\", \"2016\"], \"y\": [15.0, 0.0, 2.0, 6.0, 5.0, 55.0, 56.0, 60.0, 65.0, 118.0]}, {\"mode\": \"lines+markers\", \"type\": \"scatter\", \"name\": \"7 years\", \"x\": [\"2007\", \"2008\", \"2009\", \"2010\", \"2011\", \"2012\", \"2013\", \"2014\", \"2015\", \"2016\"], \"y\": [6.0, 5.0, 0.0, 2.0, 6.0, 4.0, 43.0, 48.0, 57.0, 53.0]}, {\"mode\": \"lines+markers\", \"type\": \"scatter\", \"name\": \"8 years\", \"x\": [\"2007\", \"2008\", \"2009\", \"2010\", \"2011\", \"2012\", \"2013\", \"2014\", \"2015\", \"2016\"], \"y\": [9.0, 0.0, 3.0, 1.0, 2.0, 2.0, 3.0, 39.0, 44.0, 47.0]}, {\"mode\": \"lines+markers\", \"type\": \"scatter\", \"name\": \"9 years\", \"x\": [\"2007\", \"2008\", \"2009\", \"2010\", \"2011\", \"2012\", \"2013\", \"2014\", \"2015\", \"2016\"], \"y\": [5.0, 3.0, 0.0, 3.0, 0.0, 1.0, 2.0, 1.0, 34.0, 38.0]}, {\"mode\": \"lines+markers\", \"type\": \"scatter\", \"name\": \"10 years\", \"x\": [\"2007\", \"2008\", \"2009\", \"2010\", \"2011\", \"2012\", \"2013\", \"2014\", \"2015\", \"2016\"], \"y\": [2.0, 1.0, 3.0, 0.0, 2.0, 0.0, 1.0, 1.0, 1.0, 29.0]}, {\"mode\": \"lines+markers\", \"type\": \"scatter\", \"name\": \"11 years\", \"x\": [\"2007\", \"2008\", \"2009\", \"2010\", \"2011\", \"2012\", \"2013\", \"2014\", \"2015\", \"2016\"], \"y\": [0.0, 0.0, 1.0, 3.0, 0.0, 2.0, 0.0, 1.0, 1.0, 1.0]}, {\"mode\": \"lines+markers\", \"type\": \"scatter\", \"name\": \"12 years\", \"x\": [\"2007\", \"2008\", \"2009\", \"2010\", \"2011\", \"2012\", \"2013\", \"2014\", \"2015\", \"2016\"], \"y\": [0.0, 0.0, 0.0, 1.0, 2.0, 0.0, 2.0, 0.0, 1.0, 1.0]}, {\"mode\": \"lines+markers\", \"type\": \"scatter\", \"name\": \"13 years\", \"x\": [\"2007\", \"2008\", \"2009\", \"2010\", \"2011\", \"2012\", \"2013\", \"2014\", \"2015\", \"2016\"], \"y\": [0.0, 0.0, 0.0, 0.0, 1.0, 1.0, 0.0, 1.0, 0.0, 1.0]}, {\"mode\": \"lines+markers\", \"type\": \"scatter\", \"name\": \"14 years\", \"x\": [\"2007\", \"2008\", \"2009\", \"2010\", \"2011\", \"2012\", \"2013\", \"2014\", \"2015\", \"2016\"], \"y\": [0.0, 0.0, 0.0, 0.0, 0.0, 0.0, 1.0, 0.0, 1.0, 0.0]}, {\"mode\": \"lines+markers\", \"type\": \"scatter\", \"name\": \"15 years\", \"x\": [\"2007\", \"2008\", \"2009\", \"2010\", \"2011\", \"2012\", \"2013\", \"2014\", \"2015\", \"2016\"], \"y\": [0.0, 0.0, 0.0, 0.0, 0.0, 0.0, 0.0, 1.0, 0.0, 1.0]}, {\"mode\": \"lines+markers\", \"type\": \"scatter\", \"name\": \"16 years\", \"x\": [\"2007\", \"2008\", \"2009\", \"2010\", \"2011\", \"2012\", \"2013\", \"2014\", \"2015\", \"2016\"], \"y\": [0.0, 0.0, 0.0, 0.0, 0.0, 0.0, 0.0, 0.0, 1.0, 0.0]}, {\"mode\": \"lines+markers\", \"type\": \"scatter\", \"name\": \"17 years\", \"x\": [\"2007\", \"2008\", \"2009\", \"2010\", \"2011\", \"2012\", \"2013\", \"2014\", \"2015\", \"2016\"], \"y\": [0.0, 0.0, 0.0, 0.0, 0.0, 0.0, 0.0, 0.0, 0.0, 1.0]}], {}, {\"showLink\": true, \"linkText\": \"Export to plot.ly\"})});</script>"
      ]
     },
     "metadata": {},
     "output_type": "display_data"
    }
   ],
   "source": [
    "plotly.offline.init_notebook_mode(connected=True)\n",
    "\n",
    "data = []\n",
    "for exp in exp_groups_evo_df.index.values:\n",
    "    #print(exp, '\\n', exp_groups_evo_df.loc[exp].tolist(), '\\n', exp_groups_evo_df.loc[exp].index.values)\n",
    "    data.append(\n",
    "        go.Scatter(\n",
    "            x = exp_groups_evo_df.loc[exp].index.values,\n",
    "            y = exp_groups_evo_df.loc[exp].tolist(),\n",
    "            mode = 'lines+markers',\n",
    "            name = str(int(exp)) + ' years'\n",
    "        )\n",
    "    )\n",
    "    \n",
    "\n",
    "\n",
    "plotly.offline.iplot(data, filename='line-mode')    "
   ]
  }
 ],
 "metadata": {
  "kernelspec": {
   "display_name": "Python 3",
   "language": "python",
   "name": "python3"
  },
  "language_info": {
   "codemirror_mode": {
    "name": "ipython",
    "version": 3
   },
   "file_extension": ".py",
   "mimetype": "text/x-python",
   "name": "python",
   "nbconvert_exporter": "python",
   "pygments_lexer": "ipython3",
   "version": "3.5.2+"
  }
 },
 "nbformat": 4,
 "nbformat_minor": 2
}
