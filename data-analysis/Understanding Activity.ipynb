{
 "cells": [
  {
   "cell_type": "markdown",
   "metadata": {},
   "source": [
    "## Goal:  understanding activity\n",
    "\n",
    "The term activity in this document referes to actions performed by contributors. Based on the characterization of contributors, we will look at activities of the different identified groups over time. Having into account the the different data sources, we have into account the following actions:\n",
    "\n",
    " * Git: sending a commit\n",
    " * GitHub issues: opening an issue, closing an issue\n",
    " * GitHub pull requests: submiting a pull request, accepting (merging) a pull request\n",
    " * Bugzilla: opening a ticket, closing a ticket\n",
    " * Mailing Lists: sending a message\n",
    " * Discourse: initiating a thread, commmenting in a thread\n",
    "  \n",
    "This goal is refined in the following questions:\n",
    "\n",
    "**Questions**:\n",
    "\n",
    "For each of the activities and contributor groups identified above,\n",
    "\n",
    "* How does activity evolve over time?\n",
    "\n",
    "The metrics identified are:\n",
    "\n",
    "**Metrics**: \n",
    "\n",
    "* Git:\n",
    "  * Number of commits authored\n",
    "* GitHub:\n",
    "  * Number of issues opened\n",
    "  * Number of issues closed\n",
    "  * Number of pull requests opened\n",
    "  * Number of pull requests merged\n",
    "* Bugzilla:\n",
    "  * Number of tickets opened\n",
    "  * Number of tickets closed\n",
    "* Mailing lists:\n",
    "  * Number of e-mails sent\n",
    "* Discourse:\n",
    "  * Number of threads initiated\n",
    "  * Number of comments posted\n",
    "  \n",
    "These metrics will be computed for the speficied contributor groups, over time."
   ]
  },
  {
   "cell_type": "markdown",
   "metadata": {},
   "source": [
    "### Metric Calculations\n",
    "First we need to load a connection against the proper ES instance. We use an external module to load credentials from a file that will not be shared. If you want to run this, please use your own credentials, just put them in a file named '.settings' (in the same directory as this notebook) following the example file 'settings.sample'.\n",
    "\n",
    "**TODO**: add bot and merges filtering"
   ]
  },
  {
   "cell_type": "code",
   "execution_count": 1,
   "metadata": {
    "collapsed": false
   },
   "outputs": [],
   "source": [
    "import pandas\n",
    "\n",
    "from util import ESConnection\n",
    "from elasticsearch_dsl import Search\n",
    "\n",
    "es_conn = ESConnection()"
   ]
  },
  {
   "cell_type": "markdown",
   "metadata": {},
   "source": [
    "#### Git: Number of commits authored\n",
    "Commits are contributions in terms of Git. Looking at them we can measure not only global activity of projects and organizations, but also how these projects and organizations evolve through time.\n",
    "\n",
    "Global numbers were already provided in [List of projects](http://localhost:8888/notebooks/mozilla-contribution-analysis/data-analysis/Understanding%20Contributors.ipynb#List-of-Projects) and [List of Organizations](http://localhost:8888/notebooks/mozilla-contribution-analysis/data-analysis/Understanding%20Contributors.ipynb#List-of-organizations) sections of the previous goal.\n",
    "\n",
    "**TODO**: provide plots like the following to show evolution through time:\n",
    " * by  project: https://analytics.mozilla.community:443/goto/1dd4de57a16b002661e8d44e43f3e7fa\n",
    " * by organization: https://analytics.mozilla.community:443/goto/3945d94db113a378f60893a67c32bbcc"
   ]
  },
  {
   "cell_type": "markdown",
   "metadata": {},
   "source": [
    "* GitHub:\n",
    "  * Number of issues opened\n",
    "  * Number of issues closed\n",
    "  * Number of pull requests opened\n",
    "  * Number of pull requests merged\n",
    "* Bugzilla:\n",
    "  * Number of tickets opened\n",
    "  * Number of tickets closed\n",
    "* Mailing lists:\n",
    "  * Number of e-mails sent\n",
    "* Discourse:\n",
    "  * Number of threads initiated\n",
    "  * Number of comments posted\n",
    "  \n",
    "These metrics will be computed for the speficied contributor groups, over time."
   ]
  }
 ],
 "metadata": {
  "kernelspec": {
   "display_name": "Python 3",
   "language": "python",
   "name": "python3"
  },
  "language_info": {
   "codemirror_mode": {
    "name": "ipython",
    "version": 3
   },
   "file_extension": ".py",
   "mimetype": "text/x-python",
   "name": "python",
   "nbconvert_exporter": "python",
   "pygments_lexer": "ipython3",
   "version": "3.5.2+"
  }
 },
 "nbformat": 4,
 "nbformat_minor": 1
}
