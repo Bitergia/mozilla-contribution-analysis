{
 "cells": [
  {
   "cell_type": "markdown",
   "metadata": {},
   "source": [
    "## Goal: understanding contributors\n",
    "\n",
    "The term \"community\" in this context refers to the group of people contributing to Mozilla projects. Thus, this goal could be summarized as characterizing Mozilla community based on their contributors. A contributor will be understood as a person who performs an action that can be tracked in the set of considered data sources. For example: sending a commit, opening or closing a ticket. As they will be different depending on the data source, particular actions used in each analysis will be detailed within particular goals.\n",
    "\n",
    "The main objective of this goal is to determine a set of characteristics of contributors:\n",
    "\n",
    "  * Projects: to which projects they contribute.\n",
    "  * Organizations: to which organizations they are affiliated\n",
    "  * Gender: which one is their gender\n",
    "  * Age: which one is their \"age\" in the project (time contributing)\n",
    "  * Geographical origin: where do they come from"
   ]
  },
  {
   "cell_type": "markdown",
   "metadata": {},
   "source": [
    "Those goals can be refined in the following questions:\n",
    "\n",
    "**Questions**:\n",
    "\n",
    "* Which projects can be identified?\n",
    "* Which contributors have activity related to each project?\n",
    "* Which organizations can be identified?\n",
    "* Which contributors are affiliated to each organization?\n",
    "* Which of those contributors are hired by Mozilla, and which are not?\n",
    "* Which gender are contributors?\n",
    "* How long have been contributors contributing?\n",
    "* Where do contributors come from?\n",
    "\n",
    "These questions can be answered with the following metrics/data:\n",
    "\n",
    "**Metrics**:\n",
    "\n",
    "* List of projects\n",
    "* Contributors by project\n",
    "* Number of contributors by project over time\n",
    "* List of organizations\n",
    "* Contributors by organization\n",
    "* Number of contributors by organization over time\n",
    "* Contributors by groups: hired by Mozilla, the rest\n",
    "* Contributors by gender\n",
    "* Number of contributors by gender over time\n",
    "* Time of first and last commit for each contributor\n",
    "* Length of period of activity for each contributor\n",
    "* Contributors by time zone (when possible)\n",
    "* Contributors by city name (when possible)\n",
    "\n",
    "All the characeterizations of developers (by project, by organization, by hired by Mozilla/rest, by gender, by period of activity, by time zone, by city name) can be a discriminator / grouping factor for the metrics defined for the next goals. Most of these metrics can be made particular for each of the considered data sources."
   ]
  },
  {
   "cell_type": "markdown",
   "metadata": {},
   "source": [
    "### Metric Calculations\n",
    "First we need to load a connection against the proper ES instance. We use an external module to load credentials from a file that will not be shared. If you want to run this, please use your own credentials, just put them in a file named '.settings' (in the same directory as this notebook) following the example file 'settings.sample'.\n",
    "\n",
    "**TODO**: Add bot and merges filtering."
   ]
  },
  {
   "cell_type": "code",
   "execution_count": 1,
   "metadata": {
    "collapsed": false,
    "scrolled": false
   },
   "outputs": [],
   "source": [
    "import pandas\n",
    "\n",
    "import plotly as plotly\n",
    "import plotly.graph_objs as go\n",
    "\n",
    "from util import ESConnection\n",
    "from elasticsearch_dsl import Search\n",
    "\n",
    "es_conn = ESConnection()"
   ]
  },
  {
   "cell_type": "markdown",
   "metadata": {},
   "source": [
    "#### List of Projects\n",
    "\n",
    "To get the list of projects we will query ES to retrieve the unique count of commits for each project. To do that, we bucketize data based on 'project' field (to a maximum of 100 projects, given by 'size' parameter set below)."
   ]
  },
  {
   "cell_type": "code",
   "execution_count": 53,
   "metadata": {
    "collapsed": false
   },
   "outputs": [],
   "source": [
    "s = Search(using=es_conn, index='git')\n",
    "\n",
    "# Unique count of Commits by Project (max 100 projects)\n",
    "s.aggs.bucket('projects', 'terms', field='project', size=100)\\\n",
    "    .metric('commits', 'cardinality', field='hash', precision_threshold=100000)\n",
    "result = s.execute()\n",
    "\n",
    "# In case you need to check response, uncomment line below\n",
    "#print(result.to_dict()['aggregations'])\n"
   ]
  },
  {
   "cell_type": "code",
   "execution_count": 54,
   "metadata": {
    "collapsed": false
   },
   "outputs": [
    {
     "data": {
      "text/html": [
       "<div>\n",
       "<table border=\"1\" class=\"dataframe\">\n",
       "  <thead>\n",
       "    <tr style=\"text-align: right;\">\n",
       "      <th></th>\n",
       "      <th>Project</th>\n",
       "      <th># Commits</th>\n",
       "    </tr>\n",
       "  </thead>\n",
       "  <tbody>\n",
       "    <tr>\n",
       "      <th>0</th>\n",
       "      <td>mozilla</td>\n",
       "      <td>1902323</td>\n",
       "    </tr>\n",
       "    <tr>\n",
       "      <th>1</th>\n",
       "      <td>mozilla-services</td>\n",
       "      <td>147526</td>\n",
       "    </tr>\n",
       "    <tr>\n",
       "      <th>2</th>\n",
       "      <td>rust-lang</td>\n",
       "      <td>135992</td>\n",
       "    </tr>\n",
       "    <tr>\n",
       "      <th>3</th>\n",
       "      <td>servo</td>\n",
       "      <td>78163</td>\n",
       "    </tr>\n",
       "    <tr>\n",
       "      <th>4</th>\n",
       "      <td>mdn</td>\n",
       "      <td>12750</td>\n",
       "    </tr>\n",
       "    <tr>\n",
       "      <th>5</th>\n",
       "      <td>moztw</td>\n",
       "      <td>8618</td>\n",
       "    </tr>\n",
       "    <tr>\n",
       "      <th>6</th>\n",
       "      <td>mozilla-mobile</td>\n",
       "      <td>9105</td>\n",
       "    </tr>\n",
       "    <tr>\n",
       "      <th>7</th>\n",
       "      <td>aframevr</td>\n",
       "      <td>7160</td>\n",
       "    </tr>\n",
       "    <tr>\n",
       "      <th>8</th>\n",
       "      <td>mozilla-japan</td>\n",
       "      <td>5787</td>\n",
       "    </tr>\n",
       "    <tr>\n",
       "      <th>9</th>\n",
       "      <td>mozmar</td>\n",
       "      <td>5415</td>\n",
       "    </tr>\n",
       "    <tr>\n",
       "      <th>10</th>\n",
       "      <td>MozillaCZ</td>\n",
       "      <td>4433</td>\n",
       "    </tr>\n",
       "    <tr>\n",
       "      <th>11</th>\n",
       "      <td>mozillascience</td>\n",
       "      <td>3871</td>\n",
       "    </tr>\n",
       "    <tr>\n",
       "      <th>12</th>\n",
       "      <td>Mozilla-TWQA</td>\n",
       "      <td>3748</td>\n",
       "    </tr>\n",
       "    <tr>\n",
       "      <th>13</th>\n",
       "      <td>mozillach</td>\n",
       "      <td>3676</td>\n",
       "    </tr>\n",
       "    <tr>\n",
       "      <th>14</th>\n",
       "      <td>mozillabrasil</td>\n",
       "      <td>2101</td>\n",
       "    </tr>\n",
       "    <tr>\n",
       "      <th>15</th>\n",
       "      <td>mozfr</td>\n",
       "      <td>2059</td>\n",
       "    </tr>\n",
       "    <tr>\n",
       "      <th>16</th>\n",
       "      <td>browserhtml</td>\n",
       "      <td>1977</td>\n",
       "    </tr>\n",
       "    <tr>\n",
       "      <th>17</th>\n",
       "      <td>mozillahispano</td>\n",
       "      <td>1826</td>\n",
       "    </tr>\n",
       "    <tr>\n",
       "      <th>18</th>\n",
       "      <td>MozVR</td>\n",
       "      <td>1532</td>\n",
       "    </tr>\n",
       "    <tr>\n",
       "      <th>19</th>\n",
       "      <td>MozillaTN</td>\n",
       "      <td>1191</td>\n",
       "    </tr>\n",
       "    <tr>\n",
       "      <th>20</th>\n",
       "      <td>MozillaFoundation</td>\n",
       "      <td>1153</td>\n",
       "    </tr>\n",
       "    <tr>\n",
       "      <th>21</th>\n",
       "      <td>MozillaKerala</td>\n",
       "      <td>1007</td>\n",
       "    </tr>\n",
       "    <tr>\n",
       "      <th>22</th>\n",
       "      <td>mozdevs</td>\n",
       "      <td>883</td>\n",
       "    </tr>\n",
       "    <tr>\n",
       "      <th>23</th>\n",
       "      <td>mozillaitalia</td>\n",
       "      <td>473</td>\n",
       "    </tr>\n",
       "    <tr>\n",
       "      <th>24</th>\n",
       "      <td>mozillaperu</td>\n",
       "      <td>141</td>\n",
       "    </tr>\n",
       "    <tr>\n",
       "      <th>25</th>\n",
       "      <td>mozillavenezuela</td>\n",
       "      <td>51</td>\n",
       "    </tr>\n",
       "    <tr>\n",
       "      <th>26</th>\n",
       "      <td>mozillacampusclubs</td>\n",
       "      <td>36</td>\n",
       "    </tr>\n",
       "    <tr>\n",
       "      <th>27</th>\n",
       "      <td>mozillaph</td>\n",
       "      <td>29</td>\n",
       "    </tr>\n",
       "  </tbody>\n",
       "</table>\n",
       "</div>"
      ],
      "text/plain": [
       "               Project  # Commits\n",
       "0              mozilla    1902323\n",
       "1     mozilla-services     147526\n",
       "2            rust-lang     135992\n",
       "3                servo      78163\n",
       "4                  mdn      12750\n",
       "5                moztw       8618\n",
       "6       mozilla-mobile       9105\n",
       "7             aframevr       7160\n",
       "8        mozilla-japan       5787\n",
       "9               mozmar       5415\n",
       "10           MozillaCZ       4433\n",
       "11      mozillascience       3871\n",
       "12        Mozilla-TWQA       3748\n",
       "13           mozillach       3676\n",
       "14       mozillabrasil       2101\n",
       "15               mozfr       2059\n",
       "16         browserhtml       1977\n",
       "17      mozillahispano       1826\n",
       "18               MozVR       1532\n",
       "19           MozillaTN       1191\n",
       "20   MozillaFoundation       1153\n",
       "21       MozillaKerala       1007\n",
       "22             mozdevs        883\n",
       "23       mozillaitalia        473\n",
       "24         mozillaperu        141\n",
       "25    mozillavenezuela         51\n",
       "26  mozillacampusclubs         36\n",
       "27           mozillaph         29"
      ]
     },
     "execution_count": 54,
     "metadata": {},
     "output_type": "execute_result"
    }
   ],
   "source": [
    "df = pandas.DataFrame()\n",
    "\n",
    "df = df.from_dict(result.to_dict()['aggregations']['projects']['buckets'])\n",
    "df = df.drop('doc_count', axis=1)\n",
    "df['commits'] = df['commits'].apply(lambda row: row['value'])\n",
    "df=df[['key', 'commits']]\n",
    "df.columns = ['Project', '# Commits']\n",
    "\n",
    "df"
   ]
  },
  {
   "cell_type": "markdown",
   "metadata": {},
   "source": [
    "#### Contributors by Project"
   ]
  },
  {
   "cell_type": "code",
   "execution_count": 55,
   "metadata": {
    "collapsed": false
   },
   "outputs": [],
   "source": [
    "s = Search(using=es_conn, index='git')\n",
    "\n",
    "# Unique count of Commits by Project (max 100 projects)\n",
    "s.aggs.bucket('projects', 'terms', field='project', size=100)\\\n",
    "    .metric('contributors', 'cardinality', field='author_uuid', precision_threshold=100000)\n",
    "result = s.execute()\n",
    "\n",
    "# In case you need to check response, uncomment line below\n",
    "#print(result.to_dict()['aggregations'])\n"
   ]
  },
  {
   "cell_type": "code",
   "execution_count": 56,
   "metadata": {
    "collapsed": false
   },
   "outputs": [
    {
     "data": {
      "text/html": [
       "<div>\n",
       "<table border=\"1\" class=\"dataframe\">\n",
       "  <thead>\n",
       "    <tr style=\"text-align: right;\">\n",
       "      <th></th>\n",
       "      <th>Project</th>\n",
       "      <th># Contributors</th>\n",
       "    </tr>\n",
       "  </thead>\n",
       "  <tbody>\n",
       "    <tr>\n",
       "      <th>0</th>\n",
       "      <td>mozilla</td>\n",
       "      <td>10965</td>\n",
       "    </tr>\n",
       "    <tr>\n",
       "      <th>1</th>\n",
       "      <td>mozilla-services</td>\n",
       "      <td>2122</td>\n",
       "    </tr>\n",
       "    <tr>\n",
       "      <th>2</th>\n",
       "      <td>rust-lang</td>\n",
       "      <td>2444</td>\n",
       "    </tr>\n",
       "    <tr>\n",
       "      <th>3</th>\n",
       "      <td>servo</td>\n",
       "      <td>1384</td>\n",
       "    </tr>\n",
       "    <tr>\n",
       "      <th>4</th>\n",
       "      <td>mdn</td>\n",
       "      <td>334</td>\n",
       "    </tr>\n",
       "    <tr>\n",
       "      <th>5</th>\n",
       "      <td>moztw</td>\n",
       "      <td>89</td>\n",
       "    </tr>\n",
       "    <tr>\n",
       "      <th>6</th>\n",
       "      <td>mozilla-mobile</td>\n",
       "      <td>108</td>\n",
       "    </tr>\n",
       "    <tr>\n",
       "      <th>7</th>\n",
       "      <td>aframevr</td>\n",
       "      <td>205</td>\n",
       "    </tr>\n",
       "    <tr>\n",
       "      <th>8</th>\n",
       "      <td>mozilla-japan</td>\n",
       "      <td>58</td>\n",
       "    </tr>\n",
       "    <tr>\n",
       "      <th>9</th>\n",
       "      <td>mozmar</td>\n",
       "      <td>73</td>\n",
       "    </tr>\n",
       "    <tr>\n",
       "      <th>10</th>\n",
       "      <td>MozillaCZ</td>\n",
       "      <td>33</td>\n",
       "    </tr>\n",
       "    <tr>\n",
       "      <th>11</th>\n",
       "      <td>mozillascience</td>\n",
       "      <td>109</td>\n",
       "    </tr>\n",
       "    <tr>\n",
       "      <th>12</th>\n",
       "      <td>Mozilla-TWQA</td>\n",
       "      <td>49</td>\n",
       "    </tr>\n",
       "    <tr>\n",
       "      <th>13</th>\n",
       "      <td>mozillach</td>\n",
       "      <td>66</td>\n",
       "    </tr>\n",
       "    <tr>\n",
       "      <th>14</th>\n",
       "      <td>mozillabrasil</td>\n",
       "      <td>181</td>\n",
       "    </tr>\n",
       "    <tr>\n",
       "      <th>15</th>\n",
       "      <td>mozfr</td>\n",
       "      <td>60</td>\n",
       "    </tr>\n",
       "    <tr>\n",
       "      <th>16</th>\n",
       "      <td>browserhtml</td>\n",
       "      <td>44</td>\n",
       "    </tr>\n",
       "    <tr>\n",
       "      <th>17</th>\n",
       "      <td>mozillahispano</td>\n",
       "      <td>68</td>\n",
       "    </tr>\n",
       "    <tr>\n",
       "      <th>18</th>\n",
       "      <td>MozVR</td>\n",
       "      <td>26</td>\n",
       "    </tr>\n",
       "    <tr>\n",
       "      <th>19</th>\n",
       "      <td>MozillaTN</td>\n",
       "      <td>47</td>\n",
       "    </tr>\n",
       "    <tr>\n",
       "      <th>20</th>\n",
       "      <td>MozillaFoundation</td>\n",
       "      <td>112</td>\n",
       "    </tr>\n",
       "    <tr>\n",
       "      <th>21</th>\n",
       "      <td>MozillaKerala</td>\n",
       "      <td>35</td>\n",
       "    </tr>\n",
       "    <tr>\n",
       "      <th>22</th>\n",
       "      <td>mozdevs</td>\n",
       "      <td>14</td>\n",
       "    </tr>\n",
       "    <tr>\n",
       "      <th>23</th>\n",
       "      <td>mozillaitalia</td>\n",
       "      <td>18</td>\n",
       "    </tr>\n",
       "    <tr>\n",
       "      <th>24</th>\n",
       "      <td>mozillaperu</td>\n",
       "      <td>8</td>\n",
       "    </tr>\n",
       "    <tr>\n",
       "      <th>25</th>\n",
       "      <td>mozillavenezuela</td>\n",
       "      <td>8</td>\n",
       "    </tr>\n",
       "    <tr>\n",
       "      <th>26</th>\n",
       "      <td>mozillacampusclubs</td>\n",
       "      <td>4</td>\n",
       "    </tr>\n",
       "    <tr>\n",
       "      <th>27</th>\n",
       "      <td>mozillaph</td>\n",
       "      <td>3</td>\n",
       "    </tr>\n",
       "  </tbody>\n",
       "</table>\n",
       "</div>"
      ],
      "text/plain": [
       "               Project  # Contributors\n",
       "0              mozilla           10965\n",
       "1     mozilla-services            2122\n",
       "2            rust-lang            2444\n",
       "3                servo            1384\n",
       "4                  mdn             334\n",
       "5                moztw              89\n",
       "6       mozilla-mobile             108\n",
       "7             aframevr             205\n",
       "8        mozilla-japan              58\n",
       "9               mozmar              73\n",
       "10           MozillaCZ              33\n",
       "11      mozillascience             109\n",
       "12        Mozilla-TWQA              49\n",
       "13           mozillach              66\n",
       "14       mozillabrasil             181\n",
       "15               mozfr              60\n",
       "16         browserhtml              44\n",
       "17      mozillahispano              68\n",
       "18               MozVR              26\n",
       "19           MozillaTN              47\n",
       "20   MozillaFoundation             112\n",
       "21       MozillaKerala              35\n",
       "22             mozdevs              14\n",
       "23       mozillaitalia              18\n",
       "24         mozillaperu               8\n",
       "25    mozillavenezuela               8\n",
       "26  mozillacampusclubs               4\n",
       "27           mozillaph               3"
      ]
     },
     "execution_count": 56,
     "metadata": {},
     "output_type": "execute_result"
    }
   ],
   "source": [
    "df = pandas.DataFrame()\n",
    "\n",
    "df = df.from_dict(result.to_dict()['aggregations']['projects']['buckets'])\n",
    "df = df.drop('doc_count', axis=1)\n",
    "df['contributors'] = df['contributors'].apply(lambda row: row['value'])\n",
    "df=df[['key', 'contributors']]\n",
    "df.columns = ['Project', '# Contributors']\n",
    "\n",
    "df"
   ]
  },
  {
   "cell_type": "markdown",
   "metadata": {},
   "source": [
    "#### Number of contributors by project over time\n",
    "**TODO**: provide a plot similar to https://analytics.mozilla.community:443/goto/9523b9b00de0b35645de488a1a06514e"
   ]
  },
  {
   "cell_type": "code",
   "execution_count": 2,
   "metadata": {
    "collapsed": false,
    "scrolled": true
   },
   "outputs": [],
   "source": [
    "s = Search(using=es_conn, index='git')\n",
    "s.params(timeout=30)\n",
    "\n",
    "# Unique count of Commits by Project (max 100 projects)\n",
    "s = s.filter('range', grimoire_creation_date={'gt': 'now/M-2y', 'lt': 'now/M'})\n",
    "s.aggs.bucket('projects', 'terms', field='project', size=10)\\\n",
    "    .bucket('time', 'date_histogram', field='grimoire_creation_date', interval='quarter')\\\n",
    "    .metric('contributors', 'cardinality', field='author_uuid', precision_threshold=100000)\n",
    "\n",
    "#print(s.to_dict())\n",
    "result = s.execute()\n",
    "\n",
    "# In case you need to check response, uncomment line below\n",
    "#print(result.to_dict()['aggregations'])"
   ]
  },
  {
   "cell_type": "code",
   "execution_count": 8,
   "metadata": {
    "collapsed": false,
    "scrolled": true
   },
   "outputs": [],
   "source": [
    "df = pandas.DataFrame(columns=['Project', 'Time', '# Contributors'])\n",
    "\n",
    "result.to_dict()['aggregations']['projects']['buckets']\n",
    "for b in result.to_dict()['aggregations']['projects']['buckets']:\n",
    "    #print(b['key'])\n",
    "    for i in b['time']['buckets']:\n",
    "        #print(\"\\tdate: \", i['key_as_string'], 'value: ',i['contributors']['value'])\n",
    "        df.loc[len(df)] = [b['key'], i['key_as_string'], i['contributors']['value']]  \n",
    "\n",
    "#df"
   ]
  },
  {
   "cell_type": "code",
   "execution_count": 9,
   "metadata": {
    "collapsed": false
   },
   "outputs": [
    {
     "data": {
      "text/html": [
       "<script>requirejs.config({paths: { 'plotly': ['https://cdn.plot.ly/plotly-latest.min']},});if(!window.Plotly) {{require(['plotly'],function(plotly) {window.Plotly=plotly;});}}</script>"
      ],
      "text/vnd.plotly.v1+html": [
       "<script>requirejs.config({paths: { 'plotly': ['https://cdn.plot.ly/plotly-latest.min']},});if(!window.Plotly) {{require(['plotly'],function(plotly) {window.Plotly=plotly;});}}</script>"
      ]
     },
     "metadata": {},
     "output_type": "display_data"
    },
    {
     "data": {
      "application/vnd.plotly.v1+json": {
       "data": [
        {
         "name": "mozilla",
         "type": "bar",
         "x": [
          "2015-04-01T00:00:00.000Z",
          "2015-07-01T00:00:00.000Z",
          "2015-10-01T00:00:00.000Z",
          "2016-01-01T00:00:00.000Z",
          "2016-04-01T00:00:00.000Z",
          "2016-07-01T00:00:00.000Z",
          "2016-10-01T00:00:00.000Z",
          "2017-01-01T00:00:00.000Z"
         ],
         "y": [
          1107,
          1337,
          1500,
          1534,
          1459,
          1433,
          1223,
          1300
         ]
        },
        {
         "name": "rust-lang",
         "type": "bar",
         "x": [
          "2015-04-01T00:00:00.000Z",
          "2015-07-01T00:00:00.000Z",
          "2015-10-01T00:00:00.000Z",
          "2016-01-01T00:00:00.000Z",
          "2016-04-01T00:00:00.000Z",
          "2016-07-01T00:00:00.000Z",
          "2016-10-01T00:00:00.000Z",
          "2017-01-01T00:00:00.000Z"
         ],
         "y": [
          298,
          276,
          305,
          339,
          302,
          361,
          213,
          248
         ]
        },
        {
         "name": "servo",
         "type": "bar",
         "x": [
          "2015-04-01T00:00:00.000Z",
          "2015-07-01T00:00:00.000Z",
          "2015-10-01T00:00:00.000Z",
          "2016-01-01T00:00:00.000Z",
          "2016-04-01T00:00:00.000Z",
          "2016-07-01T00:00:00.000Z",
          "2016-10-01T00:00:00.000Z",
          "2017-01-01T00:00:00.000Z"
         ],
         "y": [
          90,
          122,
          149,
          168,
          176,
          169,
          160,
          172
         ]
        },
        {
         "name": "mozilla-services",
         "type": "bar",
         "x": [
          "2015-04-01T00:00:00.000Z",
          "2015-07-01T00:00:00.000Z",
          "2015-10-01T00:00:00.000Z",
          "2016-01-01T00:00:00.000Z",
          "2016-04-01T00:00:00.000Z",
          "2016-07-01T00:00:00.000Z",
          "2016-10-01T00:00:00.000Z",
          "2017-01-01T00:00:00.000Z"
         ],
         "y": [
          56,
          87,
          95,
          109,
          84,
          74,
          77,
          111
         ]
        },
        {
         "name": "mozilla-mobile",
         "type": "bar",
         "x": [
          "2015-04-01T00:00:00.000Z",
          "2015-07-01T00:00:00.000Z",
          "2015-10-01T00:00:00.000Z",
          "2016-01-01T00:00:00.000Z",
          "2016-04-01T00:00:00.000Z",
          "2016-07-01T00:00:00.000Z",
          "2016-10-01T00:00:00.000Z",
          "2017-01-01T00:00:00.000Z"
         ],
         "y": [
          21,
          26,
          26,
          24,
          20,
          16,
          23,
          36
         ]
        },
        {
         "name": "aframevr",
         "type": "bar",
         "x": [
          "2015-07-01T00:00:00.000Z",
          "2015-10-01T00:00:00.000Z",
          "2016-01-01T00:00:00.000Z",
          "2016-04-01T00:00:00.000Z",
          "2016-07-01T00:00:00.000Z",
          "2016-10-01T00:00:00.000Z",
          "2017-01-01T00:00:00.000Z"
         ],
         "y": [
          7,
          20,
          44,
          38,
          42,
          52,
          72
         ]
        },
        {
         "name": "mdn",
         "type": "bar",
         "x": [
          "2015-04-01T00:00:00.000Z",
          "2015-07-01T00:00:00.000Z",
          "2015-10-01T00:00:00.000Z",
          "2016-01-01T00:00:00.000Z",
          "2016-04-01T00:00:00.000Z",
          "2016-07-01T00:00:00.000Z",
          "2016-10-01T00:00:00.000Z",
          "2017-01-01T00:00:00.000Z"
         ],
         "y": [
          23,
          29,
          36,
          37,
          33,
          39,
          50,
          30
         ]
        },
        {
         "name": "mozmar",
         "type": "bar",
         "x": [
          "2015-04-01T00:00:00.000Z",
          "2015-07-01T00:00:00.000Z",
          "2015-10-01T00:00:00.000Z",
          "2016-01-01T00:00:00.000Z",
          "2016-04-01T00:00:00.000Z",
          "2016-07-01T00:00:00.000Z",
          "2016-10-01T00:00:00.000Z",
          "2017-01-01T00:00:00.000Z"
         ],
         "y": [
          7,
          8,
          6,
          11,
          7,
          12,
          11,
          13
         ]
        },
        {
         "name": "mozillascience",
         "type": "bar",
         "x": [
          "2015-04-01T00:00:00.000Z",
          "2015-07-01T00:00:00.000Z",
          "2015-10-01T00:00:00.000Z",
          "2016-01-01T00:00:00.000Z",
          "2016-04-01T00:00:00.000Z",
          "2016-07-01T00:00:00.000Z",
          "2016-10-01T00:00:00.000Z",
          "2017-01-01T00:00:00.000Z"
         ],
         "y": [
          12,
          27,
          25,
          33,
          25,
          13,
          17,
          21
         ]
        },
        {
         "name": "Mozilla-TWQA",
         "type": "bar",
         "x": [
          "2015-04-01T00:00:00.000Z",
          "2015-07-01T00:00:00.000Z",
          "2015-10-01T00:00:00.000Z",
          "2016-01-01T00:00:00.000Z",
          "2016-04-01T00:00:00.000Z",
          "2016-07-01T00:00:00.000Z",
          "2016-10-01T00:00:00.000Z",
          "2017-01-01T00:00:00.000Z"
         ],
         "y": [
          8,
          6,
          4,
          6,
          10,
          6,
          6,
          7
         ]
        }
       ],
       "layout": {
        "barmode": "stack"
       }
      },
      "text/html": [
       "<div id=\"5c26a655-bf48-416e-94a2-6bd9a4212cb5\" style=\"height: 525px; width: 100%;\" class=\"plotly-graph-div\"></div><script type=\"text/javascript\">require([\"plotly\"], function(Plotly) { window.PLOTLYENV=window.PLOTLYENV || {};window.PLOTLYENV.BASE_URL=\"https://plot.ly\";Plotly.newPlot(\"5c26a655-bf48-416e-94a2-6bd9a4212cb5\", [{\"x\": [\"2015-04-01T00:00:00.000Z\", \"2015-07-01T00:00:00.000Z\", \"2015-10-01T00:00:00.000Z\", \"2016-01-01T00:00:00.000Z\", \"2016-04-01T00:00:00.000Z\", \"2016-07-01T00:00:00.000Z\", \"2016-10-01T00:00:00.000Z\", \"2017-01-01T00:00:00.000Z\"], \"name\": \"mozilla\", \"type\": \"bar\", \"y\": [1107.0, 1337.0, 1500.0, 1534.0, 1459.0, 1433.0, 1223.0, 1300.0]}, {\"x\": [\"2015-04-01T00:00:00.000Z\", \"2015-07-01T00:00:00.000Z\", \"2015-10-01T00:00:00.000Z\", \"2016-01-01T00:00:00.000Z\", \"2016-04-01T00:00:00.000Z\", \"2016-07-01T00:00:00.000Z\", \"2016-10-01T00:00:00.000Z\", \"2017-01-01T00:00:00.000Z\"], \"name\": \"rust-lang\", \"type\": \"bar\", \"y\": [298.0, 276.0, 305.0, 339.0, 302.0, 361.0, 213.0, 248.0]}, {\"x\": [\"2015-04-01T00:00:00.000Z\", \"2015-07-01T00:00:00.000Z\", \"2015-10-01T00:00:00.000Z\", \"2016-01-01T00:00:00.000Z\", \"2016-04-01T00:00:00.000Z\", \"2016-07-01T00:00:00.000Z\", \"2016-10-01T00:00:00.000Z\", \"2017-01-01T00:00:00.000Z\"], \"name\": \"servo\", \"type\": \"bar\", \"y\": [90.0, 122.0, 149.0, 168.0, 176.0, 169.0, 160.0, 172.0]}, {\"x\": [\"2015-04-01T00:00:00.000Z\", \"2015-07-01T00:00:00.000Z\", \"2015-10-01T00:00:00.000Z\", \"2016-01-01T00:00:00.000Z\", \"2016-04-01T00:00:00.000Z\", \"2016-07-01T00:00:00.000Z\", \"2016-10-01T00:00:00.000Z\", \"2017-01-01T00:00:00.000Z\"], \"name\": \"mozilla-services\", \"type\": \"bar\", \"y\": [56.0, 87.0, 95.0, 109.0, 84.0, 74.0, 77.0, 111.0]}, {\"x\": [\"2015-04-01T00:00:00.000Z\", \"2015-07-01T00:00:00.000Z\", \"2015-10-01T00:00:00.000Z\", \"2016-01-01T00:00:00.000Z\", \"2016-04-01T00:00:00.000Z\", \"2016-07-01T00:00:00.000Z\", \"2016-10-01T00:00:00.000Z\", \"2017-01-01T00:00:00.000Z\"], \"name\": \"mozilla-mobile\", \"type\": \"bar\", \"y\": [21.0, 26.0, 26.0, 24.0, 20.0, 16.0, 23.0, 36.0]}, {\"x\": [\"2015-07-01T00:00:00.000Z\", \"2015-10-01T00:00:00.000Z\", \"2016-01-01T00:00:00.000Z\", \"2016-04-01T00:00:00.000Z\", \"2016-07-01T00:00:00.000Z\", \"2016-10-01T00:00:00.000Z\", \"2017-01-01T00:00:00.000Z\"], \"name\": \"aframevr\", \"type\": \"bar\", \"y\": [7.0, 20.0, 44.0, 38.0, 42.0, 52.0, 72.0]}, {\"x\": [\"2015-04-01T00:00:00.000Z\", \"2015-07-01T00:00:00.000Z\", \"2015-10-01T00:00:00.000Z\", \"2016-01-01T00:00:00.000Z\", \"2016-04-01T00:00:00.000Z\", \"2016-07-01T00:00:00.000Z\", \"2016-10-01T00:00:00.000Z\", \"2017-01-01T00:00:00.000Z\"], \"name\": \"mdn\", \"type\": \"bar\", \"y\": [23.0, 29.0, 36.0, 37.0, 33.0, 39.0, 50.0, 30.0]}, {\"x\": [\"2015-04-01T00:00:00.000Z\", \"2015-07-01T00:00:00.000Z\", \"2015-10-01T00:00:00.000Z\", \"2016-01-01T00:00:00.000Z\", \"2016-04-01T00:00:00.000Z\", \"2016-07-01T00:00:00.000Z\", \"2016-10-01T00:00:00.000Z\", \"2017-01-01T00:00:00.000Z\"], \"name\": \"mozmar\", \"type\": \"bar\", \"y\": [7.0, 8.0, 6.0, 11.0, 7.0, 12.0, 11.0, 13.0]}, {\"x\": [\"2015-04-01T00:00:00.000Z\", \"2015-07-01T00:00:00.000Z\", \"2015-10-01T00:00:00.000Z\", \"2016-01-01T00:00:00.000Z\", \"2016-04-01T00:00:00.000Z\", \"2016-07-01T00:00:00.000Z\", \"2016-10-01T00:00:00.000Z\", \"2017-01-01T00:00:00.000Z\"], \"name\": \"mozillascience\", \"type\": \"bar\", \"y\": [12.0, 27.0, 25.0, 33.0, 25.0, 13.0, 17.0, 21.0]}, {\"x\": [\"2015-04-01T00:00:00.000Z\", \"2015-07-01T00:00:00.000Z\", \"2015-10-01T00:00:00.000Z\", \"2016-01-01T00:00:00.000Z\", \"2016-04-01T00:00:00.000Z\", \"2016-07-01T00:00:00.000Z\", \"2016-10-01T00:00:00.000Z\", \"2017-01-01T00:00:00.000Z\"], \"name\": \"Mozilla-TWQA\", \"type\": \"bar\", \"y\": [8.0, 6.0, 4.0, 6.0, 10.0, 6.0, 6.0, 7.0]}], {\"barmode\": \"stack\"}, {\"showLink\": true, \"linkText\": \"Export to plot.ly\"})});</script>"
      ],
      "text/vnd.plotly.v1+html": [
       "<div id=\"5c26a655-bf48-416e-94a2-6bd9a4212cb5\" style=\"height: 525px; width: 100%;\" class=\"plotly-graph-div\"></div><script type=\"text/javascript\">require([\"plotly\"], function(Plotly) { window.PLOTLYENV=window.PLOTLYENV || {};window.PLOTLYENV.BASE_URL=\"https://plot.ly\";Plotly.newPlot(\"5c26a655-bf48-416e-94a2-6bd9a4212cb5\", [{\"x\": [\"2015-04-01T00:00:00.000Z\", \"2015-07-01T00:00:00.000Z\", \"2015-10-01T00:00:00.000Z\", \"2016-01-01T00:00:00.000Z\", \"2016-04-01T00:00:00.000Z\", \"2016-07-01T00:00:00.000Z\", \"2016-10-01T00:00:00.000Z\", \"2017-01-01T00:00:00.000Z\"], \"name\": \"mozilla\", \"type\": \"bar\", \"y\": [1107.0, 1337.0, 1500.0, 1534.0, 1459.0, 1433.0, 1223.0, 1300.0]}, {\"x\": [\"2015-04-01T00:00:00.000Z\", \"2015-07-01T00:00:00.000Z\", \"2015-10-01T00:00:00.000Z\", \"2016-01-01T00:00:00.000Z\", \"2016-04-01T00:00:00.000Z\", \"2016-07-01T00:00:00.000Z\", \"2016-10-01T00:00:00.000Z\", \"2017-01-01T00:00:00.000Z\"], \"name\": \"rust-lang\", \"type\": \"bar\", \"y\": [298.0, 276.0, 305.0, 339.0, 302.0, 361.0, 213.0, 248.0]}, {\"x\": [\"2015-04-01T00:00:00.000Z\", \"2015-07-01T00:00:00.000Z\", \"2015-10-01T00:00:00.000Z\", \"2016-01-01T00:00:00.000Z\", \"2016-04-01T00:00:00.000Z\", \"2016-07-01T00:00:00.000Z\", \"2016-10-01T00:00:00.000Z\", \"2017-01-01T00:00:00.000Z\"], \"name\": \"servo\", \"type\": \"bar\", \"y\": [90.0, 122.0, 149.0, 168.0, 176.0, 169.0, 160.0, 172.0]}, {\"x\": [\"2015-04-01T00:00:00.000Z\", \"2015-07-01T00:00:00.000Z\", \"2015-10-01T00:00:00.000Z\", \"2016-01-01T00:00:00.000Z\", \"2016-04-01T00:00:00.000Z\", \"2016-07-01T00:00:00.000Z\", \"2016-10-01T00:00:00.000Z\", \"2017-01-01T00:00:00.000Z\"], \"name\": \"mozilla-services\", \"type\": \"bar\", \"y\": [56.0, 87.0, 95.0, 109.0, 84.0, 74.0, 77.0, 111.0]}, {\"x\": [\"2015-04-01T00:00:00.000Z\", \"2015-07-01T00:00:00.000Z\", \"2015-10-01T00:00:00.000Z\", \"2016-01-01T00:00:00.000Z\", \"2016-04-01T00:00:00.000Z\", \"2016-07-01T00:00:00.000Z\", \"2016-10-01T00:00:00.000Z\", \"2017-01-01T00:00:00.000Z\"], \"name\": \"mozilla-mobile\", \"type\": \"bar\", \"y\": [21.0, 26.0, 26.0, 24.0, 20.0, 16.0, 23.0, 36.0]}, {\"x\": [\"2015-07-01T00:00:00.000Z\", \"2015-10-01T00:00:00.000Z\", \"2016-01-01T00:00:00.000Z\", \"2016-04-01T00:00:00.000Z\", \"2016-07-01T00:00:00.000Z\", \"2016-10-01T00:00:00.000Z\", \"2017-01-01T00:00:00.000Z\"], \"name\": \"aframevr\", \"type\": \"bar\", \"y\": [7.0, 20.0, 44.0, 38.0, 42.0, 52.0, 72.0]}, {\"x\": [\"2015-04-01T00:00:00.000Z\", \"2015-07-01T00:00:00.000Z\", \"2015-10-01T00:00:00.000Z\", \"2016-01-01T00:00:00.000Z\", \"2016-04-01T00:00:00.000Z\", \"2016-07-01T00:00:00.000Z\", \"2016-10-01T00:00:00.000Z\", \"2017-01-01T00:00:00.000Z\"], \"name\": \"mdn\", \"type\": \"bar\", \"y\": [23.0, 29.0, 36.0, 37.0, 33.0, 39.0, 50.0, 30.0]}, {\"x\": [\"2015-04-01T00:00:00.000Z\", \"2015-07-01T00:00:00.000Z\", \"2015-10-01T00:00:00.000Z\", \"2016-01-01T00:00:00.000Z\", \"2016-04-01T00:00:00.000Z\", \"2016-07-01T00:00:00.000Z\", \"2016-10-01T00:00:00.000Z\", \"2017-01-01T00:00:00.000Z\"], \"name\": \"mozmar\", \"type\": \"bar\", \"y\": [7.0, 8.0, 6.0, 11.0, 7.0, 12.0, 11.0, 13.0]}, {\"x\": [\"2015-04-01T00:00:00.000Z\", \"2015-07-01T00:00:00.000Z\", \"2015-10-01T00:00:00.000Z\", \"2016-01-01T00:00:00.000Z\", \"2016-04-01T00:00:00.000Z\", \"2016-07-01T00:00:00.000Z\", \"2016-10-01T00:00:00.000Z\", \"2017-01-01T00:00:00.000Z\"], \"name\": \"mozillascience\", \"type\": \"bar\", \"y\": [12.0, 27.0, 25.0, 33.0, 25.0, 13.0, 17.0, 21.0]}, {\"x\": [\"2015-04-01T00:00:00.000Z\", \"2015-07-01T00:00:00.000Z\", \"2015-10-01T00:00:00.000Z\", \"2016-01-01T00:00:00.000Z\", \"2016-04-01T00:00:00.000Z\", \"2016-07-01T00:00:00.000Z\", \"2016-10-01T00:00:00.000Z\", \"2017-01-01T00:00:00.000Z\"], \"name\": \"Mozilla-TWQA\", \"type\": \"bar\", \"y\": [8.0, 6.0, 4.0, 6.0, 10.0, 6.0, 6.0, 7.0]}], {\"barmode\": \"stack\"}, {\"showLink\": true, \"linkText\": \"Export to plot.ly\"})});</script>"
      ]
     },
     "metadata": {},
     "output_type": "display_data"
    }
   ],
   "source": [
    "plotly.offline.init_notebook_mode(connected=True)\n",
    "\n",
    "# Select rows by unique column value\n",
    "#for project in df.Project.unique():\n",
    "#    print(df.loc[df['Project'] == project])\n",
    "\n",
    "bars = []\n",
    "for project in df.Project.unique():\n",
    "    project_df = df.loc[df['Project'] == project]\n",
    "    bars.append(go.Bar(\n",
    "        x=project_df['Time'].tolist(),\n",
    "        y=project_df['# Contributors'].tolist(),\n",
    "        name=project))\n",
    "\n",
    "layout = go.Layout(\n",
    "    barmode='stack'\n",
    ")\n",
    "\n",
    "fig = go.Figure(data=bars, layout=layout)\n",
    "plotly.offline.iplot(fig, filename='stacked-bar')"
   ]
  },
  {
   "cell_type": "markdown",
   "metadata": {},
   "source": [
    "#### List of organizations\n"
   ]
  },
  {
   "cell_type": "code",
   "execution_count": 59,
   "metadata": {
    "collapsed": false
   },
   "outputs": [],
   "source": [
    "s = Search(using=es_conn, index='git')\n",
    "\n",
    "# Unique count of Commits by Project (max 100 projects)\n",
    "s.aggs.bucket('organizations', 'terms', field='author_org_name', size=100)\\\n",
    "    .metric('commits', 'cardinality', field='hash', precision_threshold=100000)\n",
    "result = s.execute()\n",
    "\n",
    "# In case you need to check response, uncomment line below\n",
    "#print(result.to_dict()['aggregations'])"
   ]
  },
  {
   "cell_type": "code",
   "execution_count": 60,
   "metadata": {
    "collapsed": false
   },
   "outputs": [
    {
     "data": {
      "text/html": [
       "<div>\n",
       "<table border=\"1\" class=\"dataframe\">\n",
       "  <thead>\n",
       "    <tr style=\"text-align: right;\">\n",
       "      <th></th>\n",
       "      <th>Organization</th>\n",
       "      <th># Commits</th>\n",
       "    </tr>\n",
       "  </thead>\n",
       "  <tbody>\n",
       "    <tr>\n",
       "      <th>0</th>\n",
       "      <td>Mozilla Staff</td>\n",
       "      <td>1371711</td>\n",
       "    </tr>\n",
       "    <tr>\n",
       "      <th>1</th>\n",
       "      <td>Community</td>\n",
       "      <td>967091</td>\n",
       "    </tr>\n",
       "    <tr>\n",
       "      <th>2</th>\n",
       "      <td>Mozilla Reps</td>\n",
       "      <td>624</td>\n",
       "    </tr>\n",
       "    <tr>\n",
       "      <th>3</th>\n",
       "      <td>Unknown</td>\n",
       "      <td>34</td>\n",
       "    </tr>\n",
       "  </tbody>\n",
       "</table>\n",
       "</div>"
      ],
      "text/plain": [
       "    Organization  # Commits\n",
       "0  Mozilla Staff    1371711\n",
       "1      Community     967091\n",
       "2   Mozilla Reps        624\n",
       "3        Unknown         34"
      ]
     },
     "execution_count": 60,
     "metadata": {},
     "output_type": "execute_result"
    }
   ],
   "source": [
    "df = pandas.DataFrame()\n",
    "\n",
    "df = df.from_dict(result.to_dict()['aggregations']['organizations']['buckets'])\n",
    "df = df.drop('doc_count', axis=1)\n",
    "df['commits'] = df['commits'].apply(lambda row: row['value'])\n",
    "df=df[['key', 'commits']]\n",
    "df.columns = ['Organization', '# Commits']\n",
    "\n",
    "df"
   ]
  },
  {
   "cell_type": "markdown",
   "metadata": {},
   "source": [
    "#### Contributors by organization"
   ]
  },
  {
   "cell_type": "code",
   "execution_count": 61,
   "metadata": {
    "collapsed": false
   },
   "outputs": [],
   "source": [
    "s = Search(using=es_conn, index='git')\n",
    "\n",
    "# Unique count of Commits by Project (max 100 projects)\n",
    "s.aggs.bucket('organizations', 'terms', field='author_org_name', size=100).\\\n",
    "    metric('contributors', 'cardinality', field='author_uuid', precision_threshold=100000)\n",
    "result = s.execute()\n",
    "\n",
    "# In case you need to check response, uncomment line below\n",
    "#print(result.to_dict()['aggregations'])"
   ]
  },
  {
   "cell_type": "code",
   "execution_count": 62,
   "metadata": {
    "collapsed": false
   },
   "outputs": [
    {
     "data": {
      "text/html": [
       "<div>\n",
       "<table border=\"1\" class=\"dataframe\">\n",
       "  <thead>\n",
       "    <tr style=\"text-align: right;\">\n",
       "      <th></th>\n",
       "      <th>Organization</th>\n",
       "      <th># Contributors</th>\n",
       "    </tr>\n",
       "  </thead>\n",
       "  <tbody>\n",
       "    <tr>\n",
       "      <th>0</th>\n",
       "      <td>Mozilla Staff</td>\n",
       "      <td>2084</td>\n",
       "    </tr>\n",
       "    <tr>\n",
       "      <th>1</th>\n",
       "      <td>Community</td>\n",
       "      <td>13074</td>\n",
       "    </tr>\n",
       "    <tr>\n",
       "      <th>2</th>\n",
       "      <td>Mozilla Reps</td>\n",
       "      <td>2</td>\n",
       "    </tr>\n",
       "    <tr>\n",
       "      <th>3</th>\n",
       "      <td>Unknown</td>\n",
       "      <td>20</td>\n",
       "    </tr>\n",
       "  </tbody>\n",
       "</table>\n",
       "</div>"
      ],
      "text/plain": [
       "    Organization  # Contributors\n",
       "0  Mozilla Staff            2084\n",
       "1      Community           13074\n",
       "2   Mozilla Reps               2\n",
       "3        Unknown              20"
      ]
     },
     "execution_count": 62,
     "metadata": {},
     "output_type": "execute_result"
    }
   ],
   "source": [
    "df = pandas.DataFrame()\n",
    "\n",
    "df = df.from_dict(result.to_dict()['aggregations']['organizations']['buckets'])\n",
    "df = df.drop('doc_count', axis=1)\n",
    "df['contributors'] = df['contributors'].apply(lambda row: row['value'])\n",
    "df=df[['key', 'contributors']]\n",
    "df.columns = ['Organization', '# Contributors']\n",
    "\n",
    "df"
   ]
  },
  {
   "cell_type": "markdown",
   "metadata": {},
   "source": [
    "#### Number of contributors by organization over time\n",
    "**TODO**: provide a plot similar to https://analytics.mozilla.community:443/goto/5dce2b36ec14405a09827860169ae234"
   ]
  },
  {
   "cell_type": "markdown",
   "metadata": {},
   "source": [
    "#### Contributors by groups: hired by Mozilla, the rest\n",
    "**TODO**: provide a plot similar to: https://analytics.mozilla.community:443/goto/5dce2b36ec14405a09827860169ae234"
   ]
  },
  {
   "cell_type": "markdown",
   "metadata": {},
   "source": [
    "#### Contributors by gender\n",
    "**TODO**: Pending of running gender study over the data."
   ]
  },
  {
   "cell_type": "markdown",
   "metadata": {},
   "source": [
    "#### Number of contributors by gender over time\n",
    "**TODO**: Pending of running gender study over the data."
   ]
  },
  {
   "cell_type": "markdown",
   "metadata": {},
   "source": [
    "#### Time of first and last commit for each contributor\n",
    "**TODO** : provide plots similar to:\n",
    "Attracted developers: https://analytics.mozilla.community:443/goto/1be7d078d3dda22bf2ed097d8e465fb9\n",
    "Last commit developers: https://analytics.mozilla.community:443/goto/647ec69fc6b9d163827aa281ed3bee61"
   ]
  },
  {
   "cell_type": "markdown",
   "metadata": {},
   "source": [
    "#### Length of period of activity for each contributor\n"
   ]
  },
  {
   "cell_type": "markdown",
   "metadata": {},
   "source": [
    "#### Contributors by time zone (when possible)\n",
    "\n",
    "https://analytics.mozilla.community:443/goto/9e930eefe59a7c90331d922887b2aee6"
   ]
  },
  {
   "cell_type": "markdown",
   "metadata": {},
   "source": [
    "#### Contributors by city name (when possible)"
   ]
  }
 ],
 "metadata": {
  "kernelspec": {
   "display_name": "Python 3",
   "language": "python",
   "name": "python3"
  },
  "language_info": {
   "codemirror_mode": {
    "name": "ipython",
    "version": 3
   },
   "file_extension": ".py",
   "mimetype": "text/x-python",
   "name": "python",
   "nbconvert_exporter": "python",
   "pygments_lexer": "ipython3",
   "version": "3.5.2+"
  }
 },
 "nbformat": 4,
 "nbformat_minor": 1
}
