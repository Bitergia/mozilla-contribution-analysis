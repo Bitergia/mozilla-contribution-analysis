{
 "cells": [
  {
   "cell_type": "markdown",
   "metadata": {},
   "source": [
    "## Goal: understanding contributors\n",
    "\n",
    "The term \"community\" in this context refers to the group of people contributing to Mozilla projects. Thus, this goal could be summarized as characterizing Mozilla community based on their contributors. A contributor will be understood as a person who performs an action that can be tracked in the set of considered data sources. For example: sending a commit, opening or closing a ticket. As they will be different depending on the data source, particular actions used in each analysis will be detailed within particular goals.\n",
    "\n",
    "The main objective of this goal is to determine a set of characteristics of contributors:\n",
    "\n",
    "  * Projects: to which projects they contribute.\n",
    "  * Organizations: to which organizations they are affiliated\n",
    "  * Gender: which one is their gender\n",
    "  * Age: which one is their \"age\" in the project (time contributing)\n",
    "  * Geographical origin: where do they come from"
   ]
  },
  {
   "cell_type": "markdown",
   "metadata": {},
   "source": [
    "Those goals can be refined in the following questions:\n",
    "\n",
    "**Questions**:\n",
    "\n",
    "* Which projects can be identified?\n",
    "* Which contributors have activity related to each project?\n",
    "* Which organizations can be identified?\n",
    "* Which contributors are affiliated to each organization?\n",
    "* Which of those contributors are hired by Mozilla, and which are not?\n",
    "* Which gender are contributors?\n",
    "* How long have been contributors contributing?\n",
    "* Where do contributors come from?\n",
    "\n",
    "These questions can be answered with the following metrics/data:\n",
    "\n",
    "**Metrics**:\n",
    "\n",
    "* List of projects\n",
    "* Contributors by project\n",
    "* Number of contributors by project over time\n",
    "* List of organizations\n",
    "* Contributors by organization\n",
    "* Number of contributors by organization over time\n",
    "* Contributors by groups: hired by Mozilla, the rest\n",
    "* Contributors by gender\n",
    "* Number of contributors by gender over time\n",
    "* Time of first and last commit for each contributor\n",
    "* Length of period of activity for each contributor\n",
    "* Contributors by time zone (when possible)\n",
    "* Contributors by city name (when possible)\n",
    "\n",
    "All the characeterizations of developers (by project, by organization, by hired by Mozilla/rest, by gender, by period of activity, by time zone, by city name) can be a discriminator / grouping factor for the metrics defined for the next goals. Most of these metrics can be made particular for each of the considered data sources."
   ]
  },
  {
   "cell_type": "markdown",
   "metadata": {},
   "source": [
    "### Metric Calculations\n",
    "First we need to load a connection against the proper ES instance. We use an external module to load credentials from a file that will not be shared. If you want to run this, please use your own credentials, just put them in a file named '.settings' (in the same directory as this notebook) following the example file 'settings.sample'.\n",
    "\n"
   ]
  },
  {
   "cell_type": "code",
   "execution_count": 1,
   "metadata": {
    "collapsed": false,
    "scrolled": false
   },
   "outputs": [],
   "source": [
    "import pandas\n",
    "\n",
    "import plotly as plotly\n",
    "import plotly.graph_objs as go\n",
    "\n",
    "from util import ESConnection\n",
    "from elasticsearch_dsl import Search\n",
    "\n",
    "es_conn = ESConnection()"
   ]
  },
  {
   "cell_type": "code",
   "execution_count": 2,
   "metadata": {
    "collapsed": true
   },
   "outputs": [],
   "source": [
    "def create_search(source):\n",
    "    s = Search(using=es_conn, index=source)\n",
    "    # TODO: Add bot and merges filtering.\n",
    "    #s = s.filter('range', grimoire_creation_date={'gt': 'now/M-2y', 'lt': 'now/M'})\n",
    "    s.params(timeout=30)\n",
    "    return s"
   ]
  },
  {
   "cell_type": "code",
   "execution_count": 3,
   "metadata": {
    "collapsed": true
   },
   "outputs": [],
   "source": [
    "def print_result(result):\n",
    "    \"\"\"In case you need to check query response, call this function\n",
    "    \"\"\"\n",
    "    print(result.to_dict()['aggregations'])"
   ]
  },
  {
   "cell_type": "code",
   "execution_count": 4,
   "metadata": {
    "collapsed": true
   },
   "outputs": [],
   "source": [
    "def print_df(result, group_field, value_field, group_column, value_column):\n",
    "    df = pandas.DataFrame()\n",
    "\n",
    "    df = df.from_dict(result.to_dict()['aggregations'][group_field]['buckets'])\n",
    "    df = df.drop('doc_count', axis=1)\n",
    "    df[value_field] = df[value_field].apply(lambda row: row['value'])\n",
    "    df=df[['key', value_field]]\n",
    "    df.columns = [group_column, value_column]\n",
    "\n",
    "    return df"
   ]
  },
  {
   "cell_type": "code",
   "execution_count": 5,
   "metadata": {
    "collapsed": true
   },
   "outputs": [],
   "source": [
    "def stack_by(result, group_column, time_column, value_column, group_field, time_field, value_field):\n",
    "    \"\"\"Creates a dataframe based on group and time values\n",
    "    \"\"\"\n",
    "    df = pandas.DataFrame(columns=[group_column, time_column, value_column])\n",
    "\n",
    "    for b in result.to_dict()['aggregations'][group_field]['buckets']:\n",
    "        for i in b[time_field]['buckets']:\n",
    "            df.loc[len(df)] = [b['key'], i['key_as_string'], i[value_field]['value']]\n",
    "    \n",
    "    return df"
   ]
  },
  {
   "cell_type": "code",
   "execution_count": 6,
   "metadata": {
    "collapsed": true
   },
   "outputs": [],
   "source": [
    "def stack_by_cusum(result, group_column, time_column, value_column, group_field, time_field, value_field,\\\n",
    "                   staff_org_names, staff_org):\n",
    "    authors_org_df = pandas.DataFrame(columns=[group_column, time_column, value_column])\n",
    "\n",
    "    for b in result.to_dict()['aggregations'][group_field]['buckets']:\n",
    "        key = b['key']\n",
    "        if key in staff_org_names:\n",
    "            key = staff_org\n",
    "        else:    \n",
    "            key  = 'Other'    \n",
    "\n",
    "        print(b['key'], '->' ,key)\n",
    "\n",
    "        for i in b[time_field]['buckets']:\n",
    "\n",
    "            time = i['key_as_string']\n",
    "            contributors = i[value_field]['value']\n",
    "\n",
    "            if key in authors_org_df[group_column].unique() \\\n",
    "                and time in authors_org_df[authors_org_df[group_column] == key][time_column].tolist():\n",
    "\n",
    "                authors_org_df.loc[(authors_org_df[group_column] == key) \\\n",
    "                                     & (authors_org_df[time_column] == time),\\\n",
    "                                   value_column] += contributors\n",
    "                #print('1', key,  time, contributors)\n",
    "\n",
    "            else:\n",
    "                authors_org_df.loc[len(authors_org_df)] = [key, time, contributors]\n",
    "                #print('2', key,  time, contributors)\n",
    "    \n",
    "    return authors_org_df\n"
   ]
  },
  {
   "cell_type": "code",
   "execution_count": 7,
   "metadata": {
    "collapsed": true
   },
   "outputs": [],
   "source": [
    "def print_stacked_bar(df, time_column, value_column, group_column):\n",
    "    \"\"\"Print stacked bar chart from dataframe based on time_field,\n",
    "    grouped by group field.\n",
    "    \"\"\"\n",
    "    plotly.offline.init_notebook_mode(connected=True)\n",
    "\n",
    "    bars = []\n",
    "    for group in df[group_column].unique():\n",
    "        group_slice_df = df.loc[df[group_column] == group]\n",
    "        bars.append(go.Bar(\n",
    "            x=group_slice_df[time_column].tolist(),\n",
    "            y=group_slice_df[value_column].tolist(),\n",
    "            name=group))\n",
    "\n",
    "    layout = go.Layout(\n",
    "        barmode='stack'\n",
    "    )\n",
    "\n",
    "    fig = go.Figure(data=bars, layout=layout)\n",
    "    plotly.offline.iplot(fig, filename='stacked-bar')"
   ]
  },
  {
   "cell_type": "markdown",
   "metadata": {},
   "source": [
    "#### List of Projects\n",
    "\n",
    "To get the list of projects we will query ES to retrieve the unique count of commits for each project. To do that, we bucketize data based on 'project' field (to a maximum of 100 projects, given by 'size' parameter set below)."
   ]
  },
  {
   "cell_type": "code",
   "execution_count": 8,
   "metadata": {
    "collapsed": false
   },
   "outputs": [],
   "source": [
    "s = create_search(source='git')\n",
    "\n",
    "# Unique count of Commits by Project (max 100 projects)\n",
    "s.aggs.bucket('projects', 'terms', field='project', size=100)\\\n",
    "    .metric('commits', 'cardinality', field='hash', precision_threshold=100000)\n",
    "result = s.execute()"
   ]
  },
  {
   "cell_type": "code",
   "execution_count": 9,
   "metadata": {
    "collapsed": false
   },
   "outputs": [
    {
     "data": {
      "text/html": [
       "<div>\n",
       "<table border=\"1\" class=\"dataframe\">\n",
       "  <thead>\n",
       "    <tr style=\"text-align: right;\">\n",
       "      <th></th>\n",
       "      <th>Project</th>\n",
       "      <th># Commits</th>\n",
       "    </tr>\n",
       "  </thead>\n",
       "  <tbody>\n",
       "    <tr>\n",
       "      <th>0</th>\n",
       "      <td>mozilla</td>\n",
       "      <td>1905232</td>\n",
       "    </tr>\n",
       "    <tr>\n",
       "      <th>1</th>\n",
       "      <td>mozilla-services</td>\n",
       "      <td>148022</td>\n",
       "    </tr>\n",
       "    <tr>\n",
       "      <th>2</th>\n",
       "      <td>rust-lang</td>\n",
       "      <td>137277</td>\n",
       "    </tr>\n",
       "    <tr>\n",
       "      <th>3</th>\n",
       "      <td>servo</td>\n",
       "      <td>78712</td>\n",
       "    </tr>\n",
       "    <tr>\n",
       "      <th>4</th>\n",
       "      <td>mdn</td>\n",
       "      <td>12785</td>\n",
       "    </tr>\n",
       "    <tr>\n",
       "      <th>5</th>\n",
       "      <td>moztw</td>\n",
       "      <td>8625</td>\n",
       "    </tr>\n",
       "    <tr>\n",
       "      <th>6</th>\n",
       "      <td>mozilla-mobile</td>\n",
       "      <td>9344</td>\n",
       "    </tr>\n",
       "    <tr>\n",
       "      <th>7</th>\n",
       "      <td>aframevr</td>\n",
       "      <td>7263</td>\n",
       "    </tr>\n",
       "    <tr>\n",
       "      <th>8</th>\n",
       "      <td>mozilla-japan</td>\n",
       "      <td>5798</td>\n",
       "    </tr>\n",
       "    <tr>\n",
       "      <th>9</th>\n",
       "      <td>mozmar</td>\n",
       "      <td>5569</td>\n",
       "    </tr>\n",
       "    <tr>\n",
       "      <th>10</th>\n",
       "      <td>MozillaCZ</td>\n",
       "      <td>4452</td>\n",
       "    </tr>\n",
       "    <tr>\n",
       "      <th>11</th>\n",
       "      <td>mozillascience</td>\n",
       "      <td>3893</td>\n",
       "    </tr>\n",
       "    <tr>\n",
       "      <th>12</th>\n",
       "      <td>Mozilla-TWQA</td>\n",
       "      <td>3830</td>\n",
       "    </tr>\n",
       "    <tr>\n",
       "      <th>13</th>\n",
       "      <td>mozillach</td>\n",
       "      <td>3677</td>\n",
       "    </tr>\n",
       "    <tr>\n",
       "      <th>14</th>\n",
       "      <td>mozillabrasil</td>\n",
       "      <td>2101</td>\n",
       "    </tr>\n",
       "    <tr>\n",
       "      <th>15</th>\n",
       "      <td>mozfr</td>\n",
       "      <td>2060</td>\n",
       "    </tr>\n",
       "    <tr>\n",
       "      <th>16</th>\n",
       "      <td>browserhtml</td>\n",
       "      <td>1981</td>\n",
       "    </tr>\n",
       "    <tr>\n",
       "      <th>17</th>\n",
       "      <td>mozillahispano</td>\n",
       "      <td>1826</td>\n",
       "    </tr>\n",
       "    <tr>\n",
       "      <th>18</th>\n",
       "      <td>MozVR</td>\n",
       "      <td>1532</td>\n",
       "    </tr>\n",
       "    <tr>\n",
       "      <th>19</th>\n",
       "      <td>MozillaTN</td>\n",
       "      <td>1213</td>\n",
       "    </tr>\n",
       "    <tr>\n",
       "      <th>20</th>\n",
       "      <td>MozillaFoundation</td>\n",
       "      <td>1203</td>\n",
       "    </tr>\n",
       "    <tr>\n",
       "      <th>21</th>\n",
       "      <td>MozillaKerala</td>\n",
       "      <td>1007</td>\n",
       "    </tr>\n",
       "    <tr>\n",
       "      <th>22</th>\n",
       "      <td>mozdevs</td>\n",
       "      <td>889</td>\n",
       "    </tr>\n",
       "    <tr>\n",
       "      <th>23</th>\n",
       "      <td>mozillaitalia</td>\n",
       "      <td>473</td>\n",
       "    </tr>\n",
       "    <tr>\n",
       "      <th>24</th>\n",
       "      <td>mozillaperu</td>\n",
       "      <td>141</td>\n",
       "    </tr>\n",
       "    <tr>\n",
       "      <th>25</th>\n",
       "      <td>mozillavenezuela</td>\n",
       "      <td>51</td>\n",
       "    </tr>\n",
       "    <tr>\n",
       "      <th>26</th>\n",
       "      <td>mozillacampusclubs</td>\n",
       "      <td>36</td>\n",
       "    </tr>\n",
       "    <tr>\n",
       "      <th>27</th>\n",
       "      <td>mozillaph</td>\n",
       "      <td>29</td>\n",
       "    </tr>\n",
       "  </tbody>\n",
       "</table>\n",
       "</div>"
      ],
      "text/plain": [
       "               Project  # Commits\n",
       "0              mozilla    1905232\n",
       "1     mozilla-services     148022\n",
       "2            rust-lang     137277\n",
       "3                servo      78712\n",
       "4                  mdn      12785\n",
       "5                moztw       8625\n",
       "6       mozilla-mobile       9344\n",
       "7             aframevr       7263\n",
       "8        mozilla-japan       5798\n",
       "9               mozmar       5569\n",
       "10           MozillaCZ       4452\n",
       "11      mozillascience       3893\n",
       "12        Mozilla-TWQA       3830\n",
       "13           mozillach       3677\n",
       "14       mozillabrasil       2101\n",
       "15               mozfr       2060\n",
       "16         browserhtml       1981\n",
       "17      mozillahispano       1826\n",
       "18               MozVR       1532\n",
       "19           MozillaTN       1213\n",
       "20   MozillaFoundation       1203\n",
       "21       MozillaKerala       1007\n",
       "22             mozdevs        889\n",
       "23       mozillaitalia        473\n",
       "24         mozillaperu        141\n",
       "25    mozillavenezuela         51\n",
       "26  mozillacampusclubs         36\n",
       "27           mozillaph         29"
      ]
     },
     "execution_count": 9,
     "metadata": {},
     "output_type": "execute_result"
    }
   ],
   "source": [
    "print_df(result=result, group_field='projects', value_field='commits', \\\n",
    "         group_column='Project', value_column='# Commits')"
   ]
  },
  {
   "cell_type": "markdown",
   "metadata": {},
   "source": [
    "#### Contributors by Project"
   ]
  },
  {
   "cell_type": "code",
   "execution_count": 10,
   "metadata": {
    "collapsed": false
   },
   "outputs": [],
   "source": [
    "s = create_search(source='git')\n",
    "\n",
    "# Unique count of Commits by Project (max 100 projects)\n",
    "s.aggs.bucket('projects', 'terms', field='project', size=100)\\\n",
    "    .metric('contributors', 'cardinality', field='author_uuid', precision_threshold=100000)\n",
    "result = s.execute()"
   ]
  },
  {
   "cell_type": "code",
   "execution_count": 11,
   "metadata": {
    "collapsed": false
   },
   "outputs": [
    {
     "data": {
      "text/html": [
       "<div>\n",
       "<table border=\"1\" class=\"dataframe\">\n",
       "  <thead>\n",
       "    <tr style=\"text-align: right;\">\n",
       "      <th></th>\n",
       "      <th>Project</th>\n",
       "      <th># Contributors</th>\n",
       "    </tr>\n",
       "  </thead>\n",
       "  <tbody>\n",
       "    <tr>\n",
       "      <th>0</th>\n",
       "      <td>mozilla</td>\n",
       "      <td>10991</td>\n",
       "    </tr>\n",
       "    <tr>\n",
       "      <th>1</th>\n",
       "      <td>mozilla-services</td>\n",
       "      <td>2128</td>\n",
       "    </tr>\n",
       "    <tr>\n",
       "      <th>2</th>\n",
       "      <td>rust-lang</td>\n",
       "      <td>2453</td>\n",
       "    </tr>\n",
       "    <tr>\n",
       "      <th>3</th>\n",
       "      <td>servo</td>\n",
       "      <td>1397</td>\n",
       "    </tr>\n",
       "    <tr>\n",
       "      <th>4</th>\n",
       "      <td>mdn</td>\n",
       "      <td>334</td>\n",
       "    </tr>\n",
       "    <tr>\n",
       "      <th>5</th>\n",
       "      <td>moztw</td>\n",
       "      <td>89</td>\n",
       "    </tr>\n",
       "    <tr>\n",
       "      <th>6</th>\n",
       "      <td>mozilla-mobile</td>\n",
       "      <td>109</td>\n",
       "    </tr>\n",
       "    <tr>\n",
       "      <th>7</th>\n",
       "      <td>aframevr</td>\n",
       "      <td>217</td>\n",
       "    </tr>\n",
       "    <tr>\n",
       "      <th>8</th>\n",
       "      <td>mozilla-japan</td>\n",
       "      <td>58</td>\n",
       "    </tr>\n",
       "    <tr>\n",
       "      <th>9</th>\n",
       "      <td>mozmar</td>\n",
       "      <td>73</td>\n",
       "    </tr>\n",
       "    <tr>\n",
       "      <th>10</th>\n",
       "      <td>MozillaCZ</td>\n",
       "      <td>33</td>\n",
       "    </tr>\n",
       "    <tr>\n",
       "      <th>11</th>\n",
       "      <td>mozillascience</td>\n",
       "      <td>109</td>\n",
       "    </tr>\n",
       "    <tr>\n",
       "      <th>12</th>\n",
       "      <td>Mozilla-TWQA</td>\n",
       "      <td>49</td>\n",
       "    </tr>\n",
       "    <tr>\n",
       "      <th>13</th>\n",
       "      <td>mozillach</td>\n",
       "      <td>66</td>\n",
       "    </tr>\n",
       "    <tr>\n",
       "      <th>14</th>\n",
       "      <td>mozillabrasil</td>\n",
       "      <td>181</td>\n",
       "    </tr>\n",
       "    <tr>\n",
       "      <th>15</th>\n",
       "      <td>mozfr</td>\n",
       "      <td>60</td>\n",
       "    </tr>\n",
       "    <tr>\n",
       "      <th>16</th>\n",
       "      <td>browserhtml</td>\n",
       "      <td>44</td>\n",
       "    </tr>\n",
       "    <tr>\n",
       "      <th>17</th>\n",
       "      <td>mozillahispano</td>\n",
       "      <td>68</td>\n",
       "    </tr>\n",
       "    <tr>\n",
       "      <th>18</th>\n",
       "      <td>MozVR</td>\n",
       "      <td>26</td>\n",
       "    </tr>\n",
       "    <tr>\n",
       "      <th>19</th>\n",
       "      <td>MozillaTN</td>\n",
       "      <td>48</td>\n",
       "    </tr>\n",
       "    <tr>\n",
       "      <th>20</th>\n",
       "      <td>MozillaFoundation</td>\n",
       "      <td>113</td>\n",
       "    </tr>\n",
       "    <tr>\n",
       "      <th>21</th>\n",
       "      <td>MozillaKerala</td>\n",
       "      <td>35</td>\n",
       "    </tr>\n",
       "    <tr>\n",
       "      <th>22</th>\n",
       "      <td>mozdevs</td>\n",
       "      <td>16</td>\n",
       "    </tr>\n",
       "    <tr>\n",
       "      <th>23</th>\n",
       "      <td>mozillaitalia</td>\n",
       "      <td>18</td>\n",
       "    </tr>\n",
       "    <tr>\n",
       "      <th>24</th>\n",
       "      <td>mozillaperu</td>\n",
       "      <td>8</td>\n",
       "    </tr>\n",
       "    <tr>\n",
       "      <th>25</th>\n",
       "      <td>mozillavenezuela</td>\n",
       "      <td>8</td>\n",
       "    </tr>\n",
       "    <tr>\n",
       "      <th>26</th>\n",
       "      <td>mozillacampusclubs</td>\n",
       "      <td>4</td>\n",
       "    </tr>\n",
       "    <tr>\n",
       "      <th>27</th>\n",
       "      <td>mozillaph</td>\n",
       "      <td>3</td>\n",
       "    </tr>\n",
       "  </tbody>\n",
       "</table>\n",
       "</div>"
      ],
      "text/plain": [
       "               Project  # Contributors\n",
       "0              mozilla           10991\n",
       "1     mozilla-services            2128\n",
       "2            rust-lang            2453\n",
       "3                servo            1397\n",
       "4                  mdn             334\n",
       "5                moztw              89\n",
       "6       mozilla-mobile             109\n",
       "7             aframevr             217\n",
       "8        mozilla-japan              58\n",
       "9               mozmar              73\n",
       "10           MozillaCZ              33\n",
       "11      mozillascience             109\n",
       "12        Mozilla-TWQA              49\n",
       "13           mozillach              66\n",
       "14       mozillabrasil             181\n",
       "15               mozfr              60\n",
       "16         browserhtml              44\n",
       "17      mozillahispano              68\n",
       "18               MozVR              26\n",
       "19           MozillaTN              48\n",
       "20   MozillaFoundation             113\n",
       "21       MozillaKerala              35\n",
       "22             mozdevs              16\n",
       "23       mozillaitalia              18\n",
       "24         mozillaperu               8\n",
       "25    mozillavenezuela               8\n",
       "26  mozillacampusclubs               4\n",
       "27           mozillaph               3"
      ]
     },
     "execution_count": 11,
     "metadata": {},
     "output_type": "execute_result"
    }
   ],
   "source": [
    "print_df(result=result, group_field='projects', value_field='contributors', \\\n",
    "         group_column='Project', value_column='# Contributors')"
   ]
  },
  {
   "cell_type": "markdown",
   "metadata": {},
   "source": [
    "#### Number of contributors by project over time"
   ]
  },
  {
   "cell_type": "code",
   "execution_count": 12,
   "metadata": {
    "collapsed": false,
    "scrolled": true
   },
   "outputs": [],
   "source": [
    "s = create_search(source='git')\n",
    "\n",
    "# Unique count of Commits by Project (max 100 projects)\n",
    "s = s.filter('range', grimoire_creation_date={'gt': 'now/M-2y', 'lt': 'now/M'})\n",
    "s.aggs.bucket('projects', 'terms', field='project', size=10)\\\n",
    "    .bucket('time', 'date_histogram', field='grimoire_creation_date', interval='quarter')\\\n",
    "    .metric('contributors', 'cardinality', field='author_uuid', precision_threshold=100000)\n",
    "\n",
    "result = s.execute()\n",
    "            \n",
    "df = stack_by(result=result, group_column='Project', time_column='Time', value_column='# Contributors',\\\n",
    "        group_field='projects', time_field='time', value_field='contributors')"
   ]
  },
  {
   "cell_type": "code",
   "execution_count": 13,
   "metadata": {
    "collapsed": false
   },
   "outputs": [
    {
     "data": {
      "text/html": [
       "<script>requirejs.config({paths: { 'plotly': ['https://cdn.plot.ly/plotly-latest.min']},});if(!window.Plotly) {{require(['plotly'],function(plotly) {window.Plotly=plotly;});}}</script>"
      ],
      "text/vnd.plotly.v1+html": [
       "<script>requirejs.config({paths: { 'plotly': ['https://cdn.plot.ly/plotly-latest.min']},});if(!window.Plotly) {{require(['plotly'],function(plotly) {window.Plotly=plotly;});}}</script>"
      ]
     },
     "metadata": {},
     "output_type": "display_data"
    },
    {
     "data": {
      "application/vnd.plotly.v1+json": {
       "data": [
        {
         "name": "mozilla",
         "type": "bar",
         "x": [
          "2015-04-01T00:00:00.000Z",
          "2015-07-01T00:00:00.000Z",
          "2015-10-01T00:00:00.000Z",
          "2016-01-01T00:00:00.000Z",
          "2016-04-01T00:00:00.000Z",
          "2016-07-01T00:00:00.000Z",
          "2016-10-01T00:00:00.000Z",
          "2017-01-01T00:00:00.000Z"
         ],
         "y": [
          1107,
          1337,
          1500,
          1534,
          1459,
          1433,
          1223,
          1300
         ]
        },
        {
         "name": "rust-lang",
         "type": "bar",
         "x": [
          "2015-04-01T00:00:00.000Z",
          "2015-07-01T00:00:00.000Z",
          "2015-10-01T00:00:00.000Z",
          "2016-01-01T00:00:00.000Z",
          "2016-04-01T00:00:00.000Z",
          "2016-07-01T00:00:00.000Z",
          "2016-10-01T00:00:00.000Z",
          "2017-01-01T00:00:00.000Z"
         ],
         "y": [
          298,
          276,
          305,
          339,
          302,
          361,
          213,
          249
         ]
        },
        {
         "name": "servo",
         "type": "bar",
         "x": [
          "2015-04-01T00:00:00.000Z",
          "2015-07-01T00:00:00.000Z",
          "2015-10-01T00:00:00.000Z",
          "2016-01-01T00:00:00.000Z",
          "2016-04-01T00:00:00.000Z",
          "2016-07-01T00:00:00.000Z",
          "2016-10-01T00:00:00.000Z",
          "2017-01-01T00:00:00.000Z"
         ],
         "y": [
          90,
          122,
          149,
          168,
          176,
          169,
          160,
          172
         ]
        },
        {
         "name": "mozilla-services",
         "type": "bar",
         "x": [
          "2015-04-01T00:00:00.000Z",
          "2015-07-01T00:00:00.000Z",
          "2015-10-01T00:00:00.000Z",
          "2016-01-01T00:00:00.000Z",
          "2016-04-01T00:00:00.000Z",
          "2016-07-01T00:00:00.000Z",
          "2016-10-01T00:00:00.000Z",
          "2017-01-01T00:00:00.000Z"
         ],
         "y": [
          56,
          87,
          95,
          109,
          84,
          74,
          77,
          111
         ]
        },
        {
         "name": "mozilla-mobile",
         "type": "bar",
         "x": [
          "2015-04-01T00:00:00.000Z",
          "2015-07-01T00:00:00.000Z",
          "2015-10-01T00:00:00.000Z",
          "2016-01-01T00:00:00.000Z",
          "2016-04-01T00:00:00.000Z",
          "2016-07-01T00:00:00.000Z",
          "2016-10-01T00:00:00.000Z",
          "2017-01-01T00:00:00.000Z"
         ],
         "y": [
          21,
          26,
          26,
          24,
          20,
          16,
          23,
          36
         ]
        },
        {
         "name": "aframevr",
         "type": "bar",
         "x": [
          "2015-07-01T00:00:00.000Z",
          "2015-10-01T00:00:00.000Z",
          "2016-01-01T00:00:00.000Z",
          "2016-04-01T00:00:00.000Z",
          "2016-07-01T00:00:00.000Z",
          "2016-10-01T00:00:00.000Z",
          "2017-01-01T00:00:00.000Z"
         ],
         "y": [
          7,
          20,
          44,
          38,
          42,
          52,
          72
         ]
        },
        {
         "name": "mdn",
         "type": "bar",
         "x": [
          "2015-04-01T00:00:00.000Z",
          "2015-07-01T00:00:00.000Z",
          "2015-10-01T00:00:00.000Z",
          "2016-01-01T00:00:00.000Z",
          "2016-04-01T00:00:00.000Z",
          "2016-07-01T00:00:00.000Z",
          "2016-10-01T00:00:00.000Z",
          "2017-01-01T00:00:00.000Z"
         ],
         "y": [
          23,
          29,
          36,
          37,
          33,
          39,
          50,
          30
         ]
        },
        {
         "name": "mozmar",
         "type": "bar",
         "x": [
          "2015-04-01T00:00:00.000Z",
          "2015-07-01T00:00:00.000Z",
          "2015-10-01T00:00:00.000Z",
          "2016-01-01T00:00:00.000Z",
          "2016-04-01T00:00:00.000Z",
          "2016-07-01T00:00:00.000Z",
          "2016-10-01T00:00:00.000Z",
          "2017-01-01T00:00:00.000Z"
         ],
         "y": [
          7,
          8,
          6,
          11,
          7,
          12,
          11,
          13
         ]
        },
        {
         "name": "mozillascience",
         "type": "bar",
         "x": [
          "2015-04-01T00:00:00.000Z",
          "2015-07-01T00:00:00.000Z",
          "2015-10-01T00:00:00.000Z",
          "2016-01-01T00:00:00.000Z",
          "2016-04-01T00:00:00.000Z",
          "2016-07-01T00:00:00.000Z",
          "2016-10-01T00:00:00.000Z",
          "2017-01-01T00:00:00.000Z"
         ],
         "y": [
          12,
          27,
          25,
          33,
          25,
          13,
          17,
          21
         ]
        },
        {
         "name": "Mozilla-TWQA",
         "type": "bar",
         "x": [
          "2015-04-01T00:00:00.000Z",
          "2015-07-01T00:00:00.000Z",
          "2015-10-01T00:00:00.000Z",
          "2016-01-01T00:00:00.000Z",
          "2016-04-01T00:00:00.000Z",
          "2016-07-01T00:00:00.000Z",
          "2016-10-01T00:00:00.000Z",
          "2017-01-01T00:00:00.000Z"
         ],
         "y": [
          8,
          6,
          4,
          6,
          10,
          6,
          6,
          7
         ]
        }
       ],
       "layout": {
        "barmode": "stack"
       }
      },
      "text/html": [
       "<div id=\"55aaff36-f033-4773-887d-dc9ceac95d08\" style=\"height: 525px; width: 100%;\" class=\"plotly-graph-div\"></div><script type=\"text/javascript\">require([\"plotly\"], function(Plotly) { window.PLOTLYENV=window.PLOTLYENV || {};window.PLOTLYENV.BASE_URL=\"https://plot.ly\";Plotly.newPlot(\"55aaff36-f033-4773-887d-dc9ceac95d08\", [{\"y\": [1107.0, 1337.0, 1500.0, 1534.0, 1459.0, 1433.0, 1223.0, 1300.0], \"x\": [\"2015-04-01T00:00:00.000Z\", \"2015-07-01T00:00:00.000Z\", \"2015-10-01T00:00:00.000Z\", \"2016-01-01T00:00:00.000Z\", \"2016-04-01T00:00:00.000Z\", \"2016-07-01T00:00:00.000Z\", \"2016-10-01T00:00:00.000Z\", \"2017-01-01T00:00:00.000Z\"], \"type\": \"bar\", \"name\": \"mozilla\"}, {\"y\": [298.0, 276.0, 305.0, 339.0, 302.0, 361.0, 213.0, 249.0], \"x\": [\"2015-04-01T00:00:00.000Z\", \"2015-07-01T00:00:00.000Z\", \"2015-10-01T00:00:00.000Z\", \"2016-01-01T00:00:00.000Z\", \"2016-04-01T00:00:00.000Z\", \"2016-07-01T00:00:00.000Z\", \"2016-10-01T00:00:00.000Z\", \"2017-01-01T00:00:00.000Z\"], \"type\": \"bar\", \"name\": \"rust-lang\"}, {\"y\": [90.0, 122.0, 149.0, 168.0, 176.0, 169.0, 160.0, 172.0], \"x\": [\"2015-04-01T00:00:00.000Z\", \"2015-07-01T00:00:00.000Z\", \"2015-10-01T00:00:00.000Z\", \"2016-01-01T00:00:00.000Z\", \"2016-04-01T00:00:00.000Z\", \"2016-07-01T00:00:00.000Z\", \"2016-10-01T00:00:00.000Z\", \"2017-01-01T00:00:00.000Z\"], \"type\": \"bar\", \"name\": \"servo\"}, {\"y\": [56.0, 87.0, 95.0, 109.0, 84.0, 74.0, 77.0, 111.0], \"x\": [\"2015-04-01T00:00:00.000Z\", \"2015-07-01T00:00:00.000Z\", \"2015-10-01T00:00:00.000Z\", \"2016-01-01T00:00:00.000Z\", \"2016-04-01T00:00:00.000Z\", \"2016-07-01T00:00:00.000Z\", \"2016-10-01T00:00:00.000Z\", \"2017-01-01T00:00:00.000Z\"], \"type\": \"bar\", \"name\": \"mozilla-services\"}, {\"y\": [21.0, 26.0, 26.0, 24.0, 20.0, 16.0, 23.0, 36.0], \"x\": [\"2015-04-01T00:00:00.000Z\", \"2015-07-01T00:00:00.000Z\", \"2015-10-01T00:00:00.000Z\", \"2016-01-01T00:00:00.000Z\", \"2016-04-01T00:00:00.000Z\", \"2016-07-01T00:00:00.000Z\", \"2016-10-01T00:00:00.000Z\", \"2017-01-01T00:00:00.000Z\"], \"type\": \"bar\", \"name\": \"mozilla-mobile\"}, {\"y\": [7.0, 20.0, 44.0, 38.0, 42.0, 52.0, 72.0], \"x\": [\"2015-07-01T00:00:00.000Z\", \"2015-10-01T00:00:00.000Z\", \"2016-01-01T00:00:00.000Z\", \"2016-04-01T00:00:00.000Z\", \"2016-07-01T00:00:00.000Z\", \"2016-10-01T00:00:00.000Z\", \"2017-01-01T00:00:00.000Z\"], \"type\": \"bar\", \"name\": \"aframevr\"}, {\"y\": [23.0, 29.0, 36.0, 37.0, 33.0, 39.0, 50.0, 30.0], \"x\": [\"2015-04-01T00:00:00.000Z\", \"2015-07-01T00:00:00.000Z\", \"2015-10-01T00:00:00.000Z\", \"2016-01-01T00:00:00.000Z\", \"2016-04-01T00:00:00.000Z\", \"2016-07-01T00:00:00.000Z\", \"2016-10-01T00:00:00.000Z\", \"2017-01-01T00:00:00.000Z\"], \"type\": \"bar\", \"name\": \"mdn\"}, {\"y\": [7.0, 8.0, 6.0, 11.0, 7.0, 12.0, 11.0, 13.0], \"x\": [\"2015-04-01T00:00:00.000Z\", \"2015-07-01T00:00:00.000Z\", \"2015-10-01T00:00:00.000Z\", \"2016-01-01T00:00:00.000Z\", \"2016-04-01T00:00:00.000Z\", \"2016-07-01T00:00:00.000Z\", \"2016-10-01T00:00:00.000Z\", \"2017-01-01T00:00:00.000Z\"], \"type\": \"bar\", \"name\": \"mozmar\"}, {\"y\": [12.0, 27.0, 25.0, 33.0, 25.0, 13.0, 17.0, 21.0], \"x\": [\"2015-04-01T00:00:00.000Z\", \"2015-07-01T00:00:00.000Z\", \"2015-10-01T00:00:00.000Z\", \"2016-01-01T00:00:00.000Z\", \"2016-04-01T00:00:00.000Z\", \"2016-07-01T00:00:00.000Z\", \"2016-10-01T00:00:00.000Z\", \"2017-01-01T00:00:00.000Z\"], \"type\": \"bar\", \"name\": \"mozillascience\"}, {\"y\": [8.0, 6.0, 4.0, 6.0, 10.0, 6.0, 6.0, 7.0], \"x\": [\"2015-04-01T00:00:00.000Z\", \"2015-07-01T00:00:00.000Z\", \"2015-10-01T00:00:00.000Z\", \"2016-01-01T00:00:00.000Z\", \"2016-04-01T00:00:00.000Z\", \"2016-07-01T00:00:00.000Z\", \"2016-10-01T00:00:00.000Z\", \"2017-01-01T00:00:00.000Z\"], \"type\": \"bar\", \"name\": \"Mozilla-TWQA\"}], {\"barmode\": \"stack\"}, {\"linkText\": \"Export to plot.ly\", \"showLink\": true})});</script>"
      ],
      "text/vnd.plotly.v1+html": [
       "<div id=\"55aaff36-f033-4773-887d-dc9ceac95d08\" style=\"height: 525px; width: 100%;\" class=\"plotly-graph-div\"></div><script type=\"text/javascript\">require([\"plotly\"], function(Plotly) { window.PLOTLYENV=window.PLOTLYENV || {};window.PLOTLYENV.BASE_URL=\"https://plot.ly\";Plotly.newPlot(\"55aaff36-f033-4773-887d-dc9ceac95d08\", [{\"y\": [1107.0, 1337.0, 1500.0, 1534.0, 1459.0, 1433.0, 1223.0, 1300.0], \"x\": [\"2015-04-01T00:00:00.000Z\", \"2015-07-01T00:00:00.000Z\", \"2015-10-01T00:00:00.000Z\", \"2016-01-01T00:00:00.000Z\", \"2016-04-01T00:00:00.000Z\", \"2016-07-01T00:00:00.000Z\", \"2016-10-01T00:00:00.000Z\", \"2017-01-01T00:00:00.000Z\"], \"type\": \"bar\", \"name\": \"mozilla\"}, {\"y\": [298.0, 276.0, 305.0, 339.0, 302.0, 361.0, 213.0, 249.0], \"x\": [\"2015-04-01T00:00:00.000Z\", \"2015-07-01T00:00:00.000Z\", \"2015-10-01T00:00:00.000Z\", \"2016-01-01T00:00:00.000Z\", \"2016-04-01T00:00:00.000Z\", \"2016-07-01T00:00:00.000Z\", \"2016-10-01T00:00:00.000Z\", \"2017-01-01T00:00:00.000Z\"], \"type\": \"bar\", \"name\": \"rust-lang\"}, {\"y\": [90.0, 122.0, 149.0, 168.0, 176.0, 169.0, 160.0, 172.0], \"x\": [\"2015-04-01T00:00:00.000Z\", \"2015-07-01T00:00:00.000Z\", \"2015-10-01T00:00:00.000Z\", \"2016-01-01T00:00:00.000Z\", \"2016-04-01T00:00:00.000Z\", \"2016-07-01T00:00:00.000Z\", \"2016-10-01T00:00:00.000Z\", \"2017-01-01T00:00:00.000Z\"], \"type\": \"bar\", \"name\": \"servo\"}, {\"y\": [56.0, 87.0, 95.0, 109.0, 84.0, 74.0, 77.0, 111.0], \"x\": [\"2015-04-01T00:00:00.000Z\", \"2015-07-01T00:00:00.000Z\", \"2015-10-01T00:00:00.000Z\", \"2016-01-01T00:00:00.000Z\", \"2016-04-01T00:00:00.000Z\", \"2016-07-01T00:00:00.000Z\", \"2016-10-01T00:00:00.000Z\", \"2017-01-01T00:00:00.000Z\"], \"type\": \"bar\", \"name\": \"mozilla-services\"}, {\"y\": [21.0, 26.0, 26.0, 24.0, 20.0, 16.0, 23.0, 36.0], \"x\": [\"2015-04-01T00:00:00.000Z\", \"2015-07-01T00:00:00.000Z\", \"2015-10-01T00:00:00.000Z\", \"2016-01-01T00:00:00.000Z\", \"2016-04-01T00:00:00.000Z\", \"2016-07-01T00:00:00.000Z\", \"2016-10-01T00:00:00.000Z\", \"2017-01-01T00:00:00.000Z\"], \"type\": \"bar\", \"name\": \"mozilla-mobile\"}, {\"y\": [7.0, 20.0, 44.0, 38.0, 42.0, 52.0, 72.0], \"x\": [\"2015-07-01T00:00:00.000Z\", \"2015-10-01T00:00:00.000Z\", \"2016-01-01T00:00:00.000Z\", \"2016-04-01T00:00:00.000Z\", \"2016-07-01T00:00:00.000Z\", \"2016-10-01T00:00:00.000Z\", \"2017-01-01T00:00:00.000Z\"], \"type\": \"bar\", \"name\": \"aframevr\"}, {\"y\": [23.0, 29.0, 36.0, 37.0, 33.0, 39.0, 50.0, 30.0], \"x\": [\"2015-04-01T00:00:00.000Z\", \"2015-07-01T00:00:00.000Z\", \"2015-10-01T00:00:00.000Z\", \"2016-01-01T00:00:00.000Z\", \"2016-04-01T00:00:00.000Z\", \"2016-07-01T00:00:00.000Z\", \"2016-10-01T00:00:00.000Z\", \"2017-01-01T00:00:00.000Z\"], \"type\": \"bar\", \"name\": \"mdn\"}, {\"y\": [7.0, 8.0, 6.0, 11.0, 7.0, 12.0, 11.0, 13.0], \"x\": [\"2015-04-01T00:00:00.000Z\", \"2015-07-01T00:00:00.000Z\", \"2015-10-01T00:00:00.000Z\", \"2016-01-01T00:00:00.000Z\", \"2016-04-01T00:00:00.000Z\", \"2016-07-01T00:00:00.000Z\", \"2016-10-01T00:00:00.000Z\", \"2017-01-01T00:00:00.000Z\"], \"type\": \"bar\", \"name\": \"mozmar\"}, {\"y\": [12.0, 27.0, 25.0, 33.0, 25.0, 13.0, 17.0, 21.0], \"x\": [\"2015-04-01T00:00:00.000Z\", \"2015-07-01T00:00:00.000Z\", \"2015-10-01T00:00:00.000Z\", \"2016-01-01T00:00:00.000Z\", \"2016-04-01T00:00:00.000Z\", \"2016-07-01T00:00:00.000Z\", \"2016-10-01T00:00:00.000Z\", \"2017-01-01T00:00:00.000Z\"], \"type\": \"bar\", \"name\": \"mozillascience\"}, {\"y\": [8.0, 6.0, 4.0, 6.0, 10.0, 6.0, 6.0, 7.0], \"x\": [\"2015-04-01T00:00:00.000Z\", \"2015-07-01T00:00:00.000Z\", \"2015-10-01T00:00:00.000Z\", \"2016-01-01T00:00:00.000Z\", \"2016-04-01T00:00:00.000Z\", \"2016-07-01T00:00:00.000Z\", \"2016-10-01T00:00:00.000Z\", \"2017-01-01T00:00:00.000Z\"], \"type\": \"bar\", \"name\": \"Mozilla-TWQA\"}], {\"barmode\": \"stack\"}, {\"linkText\": \"Export to plot.ly\", \"showLink\": true})});</script>"
      ]
     },
     "metadata": {},
     "output_type": "display_data"
    }
   ],
   "source": [
    "print_stacked_bar(df=df, time_column='Time', value_column='# Contributors', group_column='Project')"
   ]
  },
  {
   "cell_type": "markdown",
   "metadata": {},
   "source": [
    "#### List of organizations\n"
   ]
  },
  {
   "cell_type": "code",
   "execution_count": 14,
   "metadata": {
    "collapsed": false
   },
   "outputs": [],
   "source": [
    "s = create_search(source='git')\n",
    "\n",
    "# Unique count of Commits by Project (max 100 projects)\n",
    "s.aggs.bucket('organizations', 'terms', field='author_org_name', size=100)\\\n",
    "    .metric('commits', 'cardinality', field='hash', precision_threshold=100000)\n",
    "result = s.execute()"
   ]
  },
  {
   "cell_type": "code",
   "execution_count": 15,
   "metadata": {
    "collapsed": false
   },
   "outputs": [
    {
     "data": {
      "text/html": [
       "<div>\n",
       "<table border=\"1\" class=\"dataframe\">\n",
       "  <thead>\n",
       "    <tr style=\"text-align: right;\">\n",
       "      <th></th>\n",
       "      <th>Organization</th>\n",
       "      <th># Commits</th>\n",
       "    </tr>\n",
       "  </thead>\n",
       "  <tbody>\n",
       "    <tr>\n",
       "      <th>0</th>\n",
       "      <td>Mozilla Staff</td>\n",
       "      <td>1374637</td>\n",
       "    </tr>\n",
       "    <tr>\n",
       "      <th>1</th>\n",
       "      <td>Community</td>\n",
       "      <td>970174</td>\n",
       "    </tr>\n",
       "    <tr>\n",
       "      <th>2</th>\n",
       "      <td>Mozilla Reps</td>\n",
       "      <td>631</td>\n",
       "    </tr>\n",
       "    <tr>\n",
       "      <th>3</th>\n",
       "      <td>Unknown</td>\n",
       "      <td>137</td>\n",
       "    </tr>\n",
       "  </tbody>\n",
       "</table>\n",
       "</div>"
      ],
      "text/plain": [
       "    Organization  # Commits\n",
       "0  Mozilla Staff    1374637\n",
       "1      Community     970174\n",
       "2   Mozilla Reps        631\n",
       "3        Unknown        137"
      ]
     },
     "execution_count": 15,
     "metadata": {},
     "output_type": "execute_result"
    }
   ],
   "source": [
    "print_df(result=result, group_field='organizations', value_field='commits', \\\n",
    "         group_column='Organization', value_column='# Commits')"
   ]
  },
  {
   "cell_type": "markdown",
   "metadata": {},
   "source": [
    "#### Contributors by organization"
   ]
  },
  {
   "cell_type": "code",
   "execution_count": 16,
   "metadata": {
    "collapsed": false
   },
   "outputs": [],
   "source": [
    "s = create_search(source='git')\n",
    "\n",
    "# Unique count of Commits by Project (max 100 projects)\n",
    "s.aggs.bucket('organizations', 'terms', field='author_org_name', size=100).\\\n",
    "    metric('contributors', 'cardinality', field='author_uuid', precision_threshold=100000)\n",
    "result = s.execute()"
   ]
  },
  {
   "cell_type": "code",
   "execution_count": 17,
   "metadata": {
    "collapsed": false
   },
   "outputs": [
    {
     "data": {
      "text/html": [
       "<div>\n",
       "<table border=\"1\" class=\"dataframe\">\n",
       "  <thead>\n",
       "    <tr style=\"text-align: right;\">\n",
       "      <th></th>\n",
       "      <th>Organization</th>\n",
       "      <th># Contributors</th>\n",
       "    </tr>\n",
       "  </thead>\n",
       "  <tbody>\n",
       "    <tr>\n",
       "      <th>0</th>\n",
       "      <td>Mozilla Staff</td>\n",
       "      <td>2084</td>\n",
       "    </tr>\n",
       "    <tr>\n",
       "      <th>1</th>\n",
       "      <td>Community</td>\n",
       "      <td>13083</td>\n",
       "    </tr>\n",
       "    <tr>\n",
       "      <th>2</th>\n",
       "      <td>Mozilla Reps</td>\n",
       "      <td>2</td>\n",
       "    </tr>\n",
       "    <tr>\n",
       "      <th>3</th>\n",
       "      <td>Unknown</td>\n",
       "      <td>77</td>\n",
       "    </tr>\n",
       "  </tbody>\n",
       "</table>\n",
       "</div>"
      ],
      "text/plain": [
       "    Organization  # Contributors\n",
       "0  Mozilla Staff            2084\n",
       "1      Community           13083\n",
       "2   Mozilla Reps               2\n",
       "3        Unknown              77"
      ]
     },
     "execution_count": 17,
     "metadata": {},
     "output_type": "execute_result"
    }
   ],
   "source": [
    "print_df(result=result, group_field='organizations', value_field='contributors', \\\n",
    "         group_column='Organization', value_column='# Contributors')"
   ]
  },
  {
   "cell_type": "markdown",
   "metadata": {},
   "source": [
    "#### Number of contributors by organization over time"
   ]
  },
  {
   "cell_type": "code",
   "execution_count": 18,
   "metadata": {
    "collapsed": false
   },
   "outputs": [],
   "source": [
    "s = create_search(source='git')\n",
    "\n",
    "# Unique count of Commits by Project (max 100 projects)\n",
    "s = s.filter('range', grimoire_creation_date={'gt': 'now/M-2y', 'lt': 'now/M'})\n",
    "s.aggs.bucket('org', 'terms', field='author_org_name', size=10)\\\n",
    "    .bucket('time', 'date_histogram', field='grimoire_creation_date', interval='quarter')\\\n",
    "    .metric('contributors', 'cardinality', field='author_uuid', precision_threshold=100000)\n",
    "\n",
    "result = s.execute()\n",
    "\n",
    "authors_org_df = stack_by(result=result, group_column='Organization', time_column='Time', value_column='# Contributors',\\\n",
    "        group_field='org', time_field='time', value_field='contributors')"
   ]
  },
  {
   "cell_type": "code",
   "execution_count": 19,
   "metadata": {
    "collapsed": false
   },
   "outputs": [
    {
     "data": {
      "text/html": [
       "<script>requirejs.config({paths: { 'plotly': ['https://cdn.plot.ly/plotly-latest.min']},});if(!window.Plotly) {{require(['plotly'],function(plotly) {window.Plotly=plotly;});}}</script>"
      ],
      "text/vnd.plotly.v1+html": [
       "<script>requirejs.config({paths: { 'plotly': ['https://cdn.plot.ly/plotly-latest.min']},});if(!window.Plotly) {{require(['plotly'],function(plotly) {window.Plotly=plotly;});}}</script>"
      ]
     },
     "metadata": {},
     "output_type": "display_data"
    },
    {
     "data": {
      "application/vnd.plotly.v1+json": {
       "data": [
        {
         "name": "Mozilla Staff",
         "type": "bar",
         "x": [
          "2015-04-01T00:00:00.000Z",
          "2015-07-01T00:00:00.000Z",
          "2015-10-01T00:00:00.000Z",
          "2016-01-01T00:00:00.000Z",
          "2016-04-01T00:00:00.000Z",
          "2016-07-01T00:00:00.000Z",
          "2016-10-01T00:00:00.000Z",
          "2017-01-01T00:00:00.000Z"
         ],
         "y": [
          606,
          694,
          683,
          686,
          693,
          677,
          607,
          623
         ]
        },
        {
         "name": "Community",
         "type": "bar",
         "x": [
          "2015-04-01T00:00:00.000Z",
          "2015-07-01T00:00:00.000Z",
          "2015-10-01T00:00:00.000Z",
          "2016-01-01T00:00:00.000Z",
          "2016-04-01T00:00:00.000Z",
          "2016-07-01T00:00:00.000Z",
          "2016-10-01T00:00:00.000Z",
          "2017-01-01T00:00:00.000Z"
         ],
         "y": [
          915,
          1089,
          1298,
          1406,
          1281,
          1282,
          1059,
          1187
         ]
        },
        {
         "name": "Mozilla Reps",
         "type": "bar",
         "x": [
          "2015-04-01T00:00:00.000Z",
          "2015-07-01T00:00:00.000Z",
          "2015-10-01T00:00:00.000Z",
          "2016-01-01T00:00:00.000Z",
          "2016-04-01T00:00:00.000Z",
          "2016-07-01T00:00:00.000Z",
          "2016-10-01T00:00:00.000Z",
          "2017-01-01T00:00:00.000Z"
         ],
         "y": [
          2,
          2,
          2,
          2,
          2,
          2,
          2,
          2
         ]
        },
        {
         "name": "Unknown",
         "type": "bar",
         "x": [
          "2017-01-01T00:00:00.000Z"
         ],
         "y": [
          3
         ]
        }
       ],
       "layout": {
        "barmode": "stack"
       }
      },
      "text/html": [
       "<div id=\"b32fa6d2-514c-4907-a023-83ac626be701\" style=\"height: 525px; width: 100%;\" class=\"plotly-graph-div\"></div><script type=\"text/javascript\">require([\"plotly\"], function(Plotly) { window.PLOTLYENV=window.PLOTLYENV || {};window.PLOTLYENV.BASE_URL=\"https://plot.ly\";Plotly.newPlot(\"b32fa6d2-514c-4907-a023-83ac626be701\", [{\"y\": [606.0, 694.0, 683.0, 686.0, 693.0, 677.0, 607.0, 623.0], \"x\": [\"2015-04-01T00:00:00.000Z\", \"2015-07-01T00:00:00.000Z\", \"2015-10-01T00:00:00.000Z\", \"2016-01-01T00:00:00.000Z\", \"2016-04-01T00:00:00.000Z\", \"2016-07-01T00:00:00.000Z\", \"2016-10-01T00:00:00.000Z\", \"2017-01-01T00:00:00.000Z\"], \"type\": \"bar\", \"name\": \"Mozilla Staff\"}, {\"y\": [915.0, 1089.0, 1298.0, 1406.0, 1281.0, 1282.0, 1059.0, 1187.0], \"x\": [\"2015-04-01T00:00:00.000Z\", \"2015-07-01T00:00:00.000Z\", \"2015-10-01T00:00:00.000Z\", \"2016-01-01T00:00:00.000Z\", \"2016-04-01T00:00:00.000Z\", \"2016-07-01T00:00:00.000Z\", \"2016-10-01T00:00:00.000Z\", \"2017-01-01T00:00:00.000Z\"], \"type\": \"bar\", \"name\": \"Community\"}, {\"y\": [2.0, 2.0, 2.0, 2.0, 2.0, 2.0, 2.0, 2.0], \"x\": [\"2015-04-01T00:00:00.000Z\", \"2015-07-01T00:00:00.000Z\", \"2015-10-01T00:00:00.000Z\", \"2016-01-01T00:00:00.000Z\", \"2016-04-01T00:00:00.000Z\", \"2016-07-01T00:00:00.000Z\", \"2016-10-01T00:00:00.000Z\", \"2017-01-01T00:00:00.000Z\"], \"type\": \"bar\", \"name\": \"Mozilla Reps\"}, {\"y\": [3.0], \"x\": [\"2017-01-01T00:00:00.000Z\"], \"type\": \"bar\", \"name\": \"Unknown\"}], {\"barmode\": \"stack\"}, {\"linkText\": \"Export to plot.ly\", \"showLink\": true})});</script>"
      ],
      "text/vnd.plotly.v1+html": [
       "<div id=\"b32fa6d2-514c-4907-a023-83ac626be701\" style=\"height: 525px; width: 100%;\" class=\"plotly-graph-div\"></div><script type=\"text/javascript\">require([\"plotly\"], function(Plotly) { window.PLOTLYENV=window.PLOTLYENV || {};window.PLOTLYENV.BASE_URL=\"https://plot.ly\";Plotly.newPlot(\"b32fa6d2-514c-4907-a023-83ac626be701\", [{\"y\": [606.0, 694.0, 683.0, 686.0, 693.0, 677.0, 607.0, 623.0], \"x\": [\"2015-04-01T00:00:00.000Z\", \"2015-07-01T00:00:00.000Z\", \"2015-10-01T00:00:00.000Z\", \"2016-01-01T00:00:00.000Z\", \"2016-04-01T00:00:00.000Z\", \"2016-07-01T00:00:00.000Z\", \"2016-10-01T00:00:00.000Z\", \"2017-01-01T00:00:00.000Z\"], \"type\": \"bar\", \"name\": \"Mozilla Staff\"}, {\"y\": [915.0, 1089.0, 1298.0, 1406.0, 1281.0, 1282.0, 1059.0, 1187.0], \"x\": [\"2015-04-01T00:00:00.000Z\", \"2015-07-01T00:00:00.000Z\", \"2015-10-01T00:00:00.000Z\", \"2016-01-01T00:00:00.000Z\", \"2016-04-01T00:00:00.000Z\", \"2016-07-01T00:00:00.000Z\", \"2016-10-01T00:00:00.000Z\", \"2017-01-01T00:00:00.000Z\"], \"type\": \"bar\", \"name\": \"Community\"}, {\"y\": [2.0, 2.0, 2.0, 2.0, 2.0, 2.0, 2.0, 2.0], \"x\": [\"2015-04-01T00:00:00.000Z\", \"2015-07-01T00:00:00.000Z\", \"2015-10-01T00:00:00.000Z\", \"2016-01-01T00:00:00.000Z\", \"2016-04-01T00:00:00.000Z\", \"2016-07-01T00:00:00.000Z\", \"2016-10-01T00:00:00.000Z\", \"2017-01-01T00:00:00.000Z\"], \"type\": \"bar\", \"name\": \"Mozilla Reps\"}, {\"y\": [3.0], \"x\": [\"2017-01-01T00:00:00.000Z\"], \"type\": \"bar\", \"name\": \"Unknown\"}], {\"barmode\": \"stack\"}, {\"linkText\": \"Export to plot.ly\", \"showLink\": true})});</script>"
      ]
     },
     "metadata": {},
     "output_type": "display_data"
    }
   ],
   "source": [
    "print_stacked_bar(df=authors_org_df, time_column='Time', value_column='# Contributors', group_column='Organization')"
   ]
  },
  {
   "cell_type": "markdown",
   "metadata": {},
   "source": [
    "#### Contributors by groups: hired by Mozilla, the rest"
   ]
  },
  {
   "cell_type": "code",
   "execution_count": 20,
   "metadata": {
    "collapsed": false
   },
   "outputs": [
    {
     "name": "stdout",
     "output_type": "stream",
     "text": [
      "Mozilla Staff -> Mozilla Staff\n",
      "Community -> Other\n",
      "Mozilla Reps -> Other\n",
      "Unknown -> Other\n"
     ]
    }
   ],
   "source": [
    "s = create_search(source='git')\n",
    "\n",
    "# Unique count of Commits by Project (max 100 projects)\n",
    "s = s.filter('range', grimoire_creation_date={'gt': 'now/M-2y', 'lt': 'now/M'})\n",
    "s.aggs.bucket('org', 'terms', field='author_org_name', size=10)\\\n",
    "    .bucket('time', 'date_histogram', field='grimoire_creation_date', interval='quarter')\\\n",
    "    .metric('contributors', 'cardinality', field='author_uuid', precision_threshold=100000)\n",
    "\n",
    "result = s.execute()\n",
    "\n",
    "authors_org_df = stack_by_cusum(result=result, group_column='Organization', time_column='Time',\\\n",
    "                                value_column='# Contributors', group_field='org', time_field='time',\\\n",
    "                                value_field='contributors', staff_org_names=['Mozilla Staff'],\\\n",
    "                                staff_org='Mozilla Staff')"
   ]
  },
  {
   "cell_type": "code",
   "execution_count": 21,
   "metadata": {
    "collapsed": false,
    "scrolled": false
   },
   "outputs": [
    {
     "data": {
      "text/html": [
       "<script>requirejs.config({paths: { 'plotly': ['https://cdn.plot.ly/plotly-latest.min']},});if(!window.Plotly) {{require(['plotly'],function(plotly) {window.Plotly=plotly;});}}</script>"
      ],
      "text/vnd.plotly.v1+html": [
       "<script>requirejs.config({paths: { 'plotly': ['https://cdn.plot.ly/plotly-latest.min']},});if(!window.Plotly) {{require(['plotly'],function(plotly) {window.Plotly=plotly;});}}</script>"
      ]
     },
     "metadata": {},
     "output_type": "display_data"
    },
    {
     "data": {
      "application/vnd.plotly.v1+json": {
       "data": [
        {
         "name": "Mozilla Staff",
         "type": "bar",
         "x": [
          "2015-04-01T00:00:00.000Z",
          "2015-07-01T00:00:00.000Z",
          "2015-10-01T00:00:00.000Z",
          "2016-01-01T00:00:00.000Z",
          "2016-04-01T00:00:00.000Z",
          "2016-07-01T00:00:00.000Z",
          "2016-10-01T00:00:00.000Z",
          "2017-01-01T00:00:00.000Z"
         ],
         "y": [
          606,
          694,
          683,
          686,
          693,
          677,
          607,
          623
         ]
        },
        {
         "name": "Other",
         "type": "bar",
         "x": [
          "2015-04-01T00:00:00.000Z",
          "2015-07-01T00:00:00.000Z",
          "2015-10-01T00:00:00.000Z",
          "2016-01-01T00:00:00.000Z",
          "2016-04-01T00:00:00.000Z",
          "2016-07-01T00:00:00.000Z",
          "2016-10-01T00:00:00.000Z",
          "2017-01-01T00:00:00.000Z"
         ],
         "y": [
          917,
          1091,
          1300,
          1408,
          1283,
          1284,
          1061,
          1192
         ]
        }
       ],
       "layout": {
        "barmode": "stack"
       }
      },
      "text/html": [
       "<div id=\"3811ce6d-435d-4444-8fff-00689c1b2d80\" style=\"height: 525px; width: 100%;\" class=\"plotly-graph-div\"></div><script type=\"text/javascript\">require([\"plotly\"], function(Plotly) { window.PLOTLYENV=window.PLOTLYENV || {};window.PLOTLYENV.BASE_URL=\"https://plot.ly\";Plotly.newPlot(\"3811ce6d-435d-4444-8fff-00689c1b2d80\", [{\"y\": [606.0, 694.0, 683.0, 686.0, 693.0, 677.0, 607.0, 623.0], \"x\": [\"2015-04-01T00:00:00.000Z\", \"2015-07-01T00:00:00.000Z\", \"2015-10-01T00:00:00.000Z\", \"2016-01-01T00:00:00.000Z\", \"2016-04-01T00:00:00.000Z\", \"2016-07-01T00:00:00.000Z\", \"2016-10-01T00:00:00.000Z\", \"2017-01-01T00:00:00.000Z\"], \"type\": \"bar\", \"name\": \"Mozilla Staff\"}, {\"y\": [917.0, 1091.0, 1300.0, 1408.0, 1283.0, 1284.0, 1061.0, 1192.0], \"x\": [\"2015-04-01T00:00:00.000Z\", \"2015-07-01T00:00:00.000Z\", \"2015-10-01T00:00:00.000Z\", \"2016-01-01T00:00:00.000Z\", \"2016-04-01T00:00:00.000Z\", \"2016-07-01T00:00:00.000Z\", \"2016-10-01T00:00:00.000Z\", \"2017-01-01T00:00:00.000Z\"], \"type\": \"bar\", \"name\": \"Other\"}], {\"barmode\": \"stack\"}, {\"linkText\": \"Export to plot.ly\", \"showLink\": true})});</script>"
      ],
      "text/vnd.plotly.v1+html": [
       "<div id=\"3811ce6d-435d-4444-8fff-00689c1b2d80\" style=\"height: 525px; width: 100%;\" class=\"plotly-graph-div\"></div><script type=\"text/javascript\">require([\"plotly\"], function(Plotly) { window.PLOTLYENV=window.PLOTLYENV || {};window.PLOTLYENV.BASE_URL=\"https://plot.ly\";Plotly.newPlot(\"3811ce6d-435d-4444-8fff-00689c1b2d80\", [{\"y\": [606.0, 694.0, 683.0, 686.0, 693.0, 677.0, 607.0, 623.0], \"x\": [\"2015-04-01T00:00:00.000Z\", \"2015-07-01T00:00:00.000Z\", \"2015-10-01T00:00:00.000Z\", \"2016-01-01T00:00:00.000Z\", \"2016-04-01T00:00:00.000Z\", \"2016-07-01T00:00:00.000Z\", \"2016-10-01T00:00:00.000Z\", \"2017-01-01T00:00:00.000Z\"], \"type\": \"bar\", \"name\": \"Mozilla Staff\"}, {\"y\": [917.0, 1091.0, 1300.0, 1408.0, 1283.0, 1284.0, 1061.0, 1192.0], \"x\": [\"2015-04-01T00:00:00.000Z\", \"2015-07-01T00:00:00.000Z\", \"2015-10-01T00:00:00.000Z\", \"2016-01-01T00:00:00.000Z\", \"2016-04-01T00:00:00.000Z\", \"2016-07-01T00:00:00.000Z\", \"2016-10-01T00:00:00.000Z\", \"2017-01-01T00:00:00.000Z\"], \"type\": \"bar\", \"name\": \"Other\"}], {\"barmode\": \"stack\"}, {\"linkText\": \"Export to plot.ly\", \"showLink\": true})});</script>"
      ]
     },
     "metadata": {},
     "output_type": "display_data"
    }
   ],
   "source": [
    "print_stacked_bar(df=authors_org_df, time_column='Time', value_column='# Contributors', group_column='Organization')"
   ]
  },
  {
   "cell_type": "markdown",
   "metadata": {},
   "source": [
    "#### Contributors by gender\n",
    "**TODO**: Pending of running gender study over the data."
   ]
  },
  {
   "cell_type": "markdown",
   "metadata": {},
   "source": [
    "#### Number of contributors by gender over time\n",
    "**TODO**: Pending of running gender study over the data."
   ]
  },
  {
   "cell_type": "markdown",
   "metadata": {},
   "source": [
    "#### Time of first and last commit for each contributor\n",
    "**TODO** : provide plots similar to:\n",
    "Attracted developers: https://analytics.mozilla.community:443/goto/1be7d078d3dda22bf2ed097d8e465fb9\n",
    "Last commit developers: https://analytics.mozilla.community:443/goto/647ec69fc6b9d163827aa281ed3bee61"
   ]
  },
  {
   "cell_type": "markdown",
   "metadata": {},
   "source": [
    "#### Length of period of activity for each contributor\n"
   ]
  },
  {
   "cell_type": "markdown",
   "metadata": {},
   "source": [
    "#### Contributors by time zone (when possible)\n",
    "\n",
    "https://analytics.mozilla.community:443/goto/9e930eefe59a7c90331d922887b2aee6"
   ]
  },
  {
   "cell_type": "markdown",
   "metadata": {},
   "source": [
    "#### Contributors by city name (when possible)"
   ]
  }
 ],
 "metadata": {
  "kernelspec": {
   "display_name": "Python 3",
   "language": "python",
   "name": "python3"
  },
  "language_info": {
   "codemirror_mode": {
    "name": "ipython",
    "version": 3
   },
   "file_extension": ".py",
   "mimetype": "text/x-python",
   "name": "python",
   "nbconvert_exporter": "python",
   "pygments_lexer": "ipython3",
   "version": "3.5.2+"
  }
 },
 "nbformat": 4,
 "nbformat_minor": 1
}
