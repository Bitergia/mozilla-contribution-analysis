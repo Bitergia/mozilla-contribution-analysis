{
 "cells": [
  {
   "cell_type": "markdown",
   "metadata": {},
   "source": [
    "## Goal: understanding contributors\n",
    "\n",
    "The term \"community\" in this context refers to the group of people contributing to Mozilla projects. Thus, this goal could be summarized as characterizing Mozilla community based on their contributors. A contributor will be understood as a person who performs an action that can be tracked in the set of considered data sources. For example: sending a commit, opening or closing a ticket. As they will be different depending on the data source, particular actions used in each analysis will be detailed within particular goals.\n",
    "\n",
    "The main objective of this goal is to determine a set of characteristics of contributors:\n",
    "\n",
    "  * Projects: to which projects they contribute.\n",
    "  * Organizations: to which organizations they are affiliated\n",
    "  * Gender: which one is their gender\n",
    "  * Age: which one is their \"age\" in the project (time contributing)\n",
    "  * Geographical origin: where do they come from"
   ]
  },
  {
   "cell_type": "markdown",
   "metadata": {},
   "source": [
    "Those goals can be refined in the following questions:\n",
    "\n",
    "**Questions**:\n",
    "\n",
    "* Which projects can be identified?\n",
    "* Which contributors have activity related to each project?\n",
    "* Which organizations can be identified?\n",
    "* Which contributors are affiliated to each organization?\n",
    "* Which of those contributors are hired by Mozilla, and which are not?\n",
    "* Which gender are contributors?\n",
    "* How long have been contributors contributing?\n",
    "* Where do contributors come from?\n",
    "\n",
    "These questions can be answered with the following metrics/data:\n",
    "\n",
    "**Metrics**:\n",
    "\n",
    "* List of projects\n",
    "* Contributors by project\n",
    "* Number of contributors by project over time\n",
    "* List of organizations\n",
    "* Contributors by organization\n",
    "* Number of contributors by organization over time\n",
    "* Contributors by groups: hired by Mozilla, the rest\n",
    "* Contributors by gender\n",
    "* Number of contributors by gender over time\n",
    "* Time of first and last commit for each contributor\n",
    "* Length of period of activity for each contributor\n",
    "* Contributors by time zone (when possible)\n",
    "* Contributors by city name (when possible)\n",
    "\n",
    "All the characeterizations of developers (by project, by organization, by hired by Mozilla/rest, by gender, by period of activity, by time zone, by city name) can be a discriminator / grouping factor for the metrics defined for the next goals. Most of these metrics can be made particular for each of the considered data sources."
   ]
  },
  {
   "cell_type": "markdown",
   "metadata": {},
   "source": [
    "### Metric Calculations\n",
    "First we need to load a connection against the proper ES instance. We use an external module to load credentials from a file that will not be shared. If you want to run this, please use your own credentials, just put them in a file named '.settings' (in the same directory as this notebook) following the example file 'settings.sample'.\n",
    "\n"
   ]
  },
  {
   "cell_type": "code",
   "execution_count": 1,
   "metadata": {
    "collapsed": false,
    "scrolled": false
   },
   "outputs": [],
   "source": [
    "import pandas\n",
    "\n",
    "import plotly as plotly\n",
    "import plotly.graph_objs as go\n",
    "\n",
    "from util import ESConnection\n",
    "from elasticsearch_dsl import Search\n",
    "\n",
    "es_conn = ESConnection()"
   ]
  },
  {
   "cell_type": "code",
   "execution_count": 2,
   "metadata": {
    "collapsed": true
   },
   "outputs": [],
   "source": [
    "def create_search(source):\n",
    "    s = Search(using=es_conn, index=source)\n",
    "    # TODO: Add bot and merges filtering.\n",
    "    #s = s.filter('range', grimoire_creation_date={'gt': 'now/M-2y', 'lt': 'now/M'})\n",
    "    s.params(timeout=30)\n",
    "    return s"
   ]
  },
  {
   "cell_type": "code",
   "execution_count": 3,
   "metadata": {
    "collapsed": true
   },
   "outputs": [],
   "source": [
    "def print_result(result):\n",
    "    \"\"\"In case you need to check query response, call this function\n",
    "    \"\"\"\n",
    "    print(result.to_dict()['aggregations'])"
   ]
  },
  {
   "cell_type": "code",
   "execution_count": 4,
   "metadata": {
    "collapsed": true
   },
   "outputs": [],
   "source": [
    "def print_df(result, group_field, value_field, group_column, value_column):\n",
    "    df = pandas.DataFrame()\n",
    "\n",
    "    df = df.from_dict(result.to_dict()['aggregations'][group_field]['buckets'])\n",
    "    df = df.drop('doc_count', axis=1)\n",
    "    df[value_field] = df[value_field].apply(lambda row: row['value'])\n",
    "    df=df[['key', value_field]]\n",
    "    df.columns = [group_column, value_column]\n",
    "\n",
    "    return df"
   ]
  },
  {
   "cell_type": "code",
   "execution_count": 5,
   "metadata": {
    "collapsed": true
   },
   "outputs": [],
   "source": [
    "def stack_by(result, group_column, time_column, value_column, group_field, time_field, value_field):\n",
    "    \"\"\"Creates a dataframe based on group and time values\n",
    "    \"\"\"\n",
    "    df = pandas.DataFrame(columns=[group_column, time_column, value_column])\n",
    "\n",
    "    for b in result.to_dict()['aggregations'][group_field]['buckets']:\n",
    "        for i in b[time_field]['buckets']:\n",
    "            df.loc[len(df)] = [b['key'], i['key_as_string'], i[value_field]['value']]\n",
    "    \n",
    "    return df"
   ]
  },
  {
   "cell_type": "code",
   "execution_count": 6,
   "metadata": {
    "collapsed": true
   },
   "outputs": [],
   "source": [
    "def stack_by_cusum(result, group_column, time_column, value_column, group_field, time_field, value_field,\\\n",
    "                   staff_org_names, staff_org):\n",
    "    authors_org_df = pandas.DataFrame(columns=[group_column, time_column, value_column])\n",
    "\n",
    "    for b in result.to_dict()['aggregations'][group_field]['buckets']:\n",
    "        key = b['key']\n",
    "        if key in staff_org_names:\n",
    "            key = staff_org\n",
    "        else:    \n",
    "            key  = 'Other'    \n",
    "\n",
    "        print(b['key'], '->' ,key)\n",
    "\n",
    "        for i in b[time_field]['buckets']:\n",
    "\n",
    "            time = i['key_as_string']\n",
    "            contributors = i[value_field]['value']\n",
    "\n",
    "            if key in authors_org_df[group_column].unique() \\\n",
    "                and time in authors_org_df[authors_org_df[group_column] == key][time_column].tolist():\n",
    "\n",
    "                authors_org_df.loc[(authors_org_df[group_column] == key) \\\n",
    "                                     & (authors_org_df[time_column] == time),\\\n",
    "                                   value_column] += contributors\n",
    "                #print('1', key,  time, contributors)\n",
    "\n",
    "            else:\n",
    "                authors_org_df.loc[len(authors_org_df)] = [key, time, contributors]\n",
    "                #print('2', key,  time, contributors)\n",
    "    \n",
    "    return authors_org_df\n"
   ]
  },
  {
   "cell_type": "code",
   "execution_count": 7,
   "metadata": {
    "collapsed": true
   },
   "outputs": [],
   "source": [
    "def print_stacked_bar(df, time_column, value_column, group_column):\n",
    "    \"\"\"Print stacked bar chart from dataframe based on time_field,\n",
    "    grouped by group field.\n",
    "    \"\"\"\n",
    "    plotly.offline.init_notebook_mode(connected=True)\n",
    "\n",
    "    bars = []\n",
    "    for group in df[group_column].unique():\n",
    "        group_slice_df = df.loc[df[group_column] == group]\n",
    "        bars.append(go.Bar(\n",
    "            x=group_slice_df[time_column].tolist(),\n",
    "            y=group_slice_df[value_column].tolist(),\n",
    "            name=group))\n",
    "\n",
    "    layout = go.Layout(\n",
    "        barmode='stack'\n",
    "    )\n",
    "\n",
    "    fig = go.Figure(data=bars, layout=layout)\n",
    "    plotly.offline.iplot(fig, filename='stacked-bar')"
   ]
  },
  {
   "cell_type": "code",
   "execution_count": 28,
   "metadata": {
    "collapsed": true
   },
   "outputs": [],
   "source": [
    "def add_bot_filter(s):\n",
    "    return s.filter('term', author_bot='false')\n",
    "\n",
    "def add_merges_filter(s):\n",
    "    return s.filter('range', files={'gt': 0})"
   ]
  },
  {
   "cell_type": "markdown",
   "metadata": {},
   "source": [
    "#### List of Projects\n",
    "\n",
    "To get the list of projects we will query ES to retrieve the unique count of commits for each project. To do that, we bucketize data based on 'project' field (to a maximum of 100 projects, given by 'size' parameter set below)."
   ]
  },
  {
   "cell_type": "code",
   "execution_count": 8,
   "metadata": {
    "collapsed": false
   },
   "outputs": [],
   "source": [
    "s = create_search(source='git')\n",
    "\n",
    "# Unique count of Commits by Project (max 100 projects)\n",
    "s.aggs.bucket('projects', 'terms', field='project', size=100)\\\n",
    "    .metric('commits', 'cardinality', field='hash', precision_threshold=100000)\n",
    "result = s.execute()"
   ]
  },
  {
   "cell_type": "code",
   "execution_count": 9,
   "metadata": {
    "collapsed": false
   },
   "outputs": [
    {
     "data": {
      "text/html": [
       "<div>\n",
       "<table border=\"1\" class=\"dataframe\">\n",
       "  <thead>\n",
       "    <tr style=\"text-align: right;\">\n",
       "      <th></th>\n",
       "      <th>Project</th>\n",
       "      <th># Commits</th>\n",
       "    </tr>\n",
       "  </thead>\n",
       "  <tbody>\n",
       "    <tr>\n",
       "      <th>0</th>\n",
       "      <td>mozilla</td>\n",
       "      <td>1889875</td>\n",
       "    </tr>\n",
       "    <tr>\n",
       "      <th>1</th>\n",
       "      <td>mozilla-services</td>\n",
       "      <td>148291</td>\n",
       "    </tr>\n",
       "    <tr>\n",
       "      <th>2</th>\n",
       "      <td>rust-lang</td>\n",
       "      <td>138433</td>\n",
       "    </tr>\n",
       "    <tr>\n",
       "      <th>3</th>\n",
       "      <td>servo</td>\n",
       "      <td>78801</td>\n",
       "    </tr>\n",
       "    <tr>\n",
       "      <th>4</th>\n",
       "      <td>mdn</td>\n",
       "      <td>12867</td>\n",
       "    </tr>\n",
       "    <tr>\n",
       "      <th>5</th>\n",
       "      <td>moztw</td>\n",
       "      <td>8646</td>\n",
       "    </tr>\n",
       "    <tr>\n",
       "      <th>6</th>\n",
       "      <td>mozilla-mobile</td>\n",
       "      <td>9764</td>\n",
       "    </tr>\n",
       "    <tr>\n",
       "      <th>7</th>\n",
       "      <td>aframevr</td>\n",
       "      <td>7384</td>\n",
       "    </tr>\n",
       "    <tr>\n",
       "      <th>8</th>\n",
       "      <td>mozmar</td>\n",
       "      <td>5970</td>\n",
       "    </tr>\n",
       "    <tr>\n",
       "      <th>9</th>\n",
       "      <td>mozilla-japan</td>\n",
       "      <td>5807</td>\n",
       "    </tr>\n",
       "    <tr>\n",
       "      <th>10</th>\n",
       "      <td>MozillaCZ</td>\n",
       "      <td>4525</td>\n",
       "    </tr>\n",
       "    <tr>\n",
       "      <th>11</th>\n",
       "      <td>Mozilla-TWQA</td>\n",
       "      <td>3931</td>\n",
       "    </tr>\n",
       "    <tr>\n",
       "      <th>12</th>\n",
       "      <td>mozillascience</td>\n",
       "      <td>3900</td>\n",
       "    </tr>\n",
       "    <tr>\n",
       "      <th>13</th>\n",
       "      <td>mozillach</td>\n",
       "      <td>3679</td>\n",
       "    </tr>\n",
       "    <tr>\n",
       "      <th>14</th>\n",
       "      <td>mozillabrasil</td>\n",
       "      <td>2101</td>\n",
       "    </tr>\n",
       "    <tr>\n",
       "      <th>15</th>\n",
       "      <td>mozfr</td>\n",
       "      <td>2062</td>\n",
       "    </tr>\n",
       "    <tr>\n",
       "      <th>16</th>\n",
       "      <td>browserhtml</td>\n",
       "      <td>1984</td>\n",
       "    </tr>\n",
       "    <tr>\n",
       "      <th>17</th>\n",
       "      <td>mozillahispano</td>\n",
       "      <td>1826</td>\n",
       "    </tr>\n",
       "    <tr>\n",
       "      <th>18</th>\n",
       "      <td>MozVR</td>\n",
       "      <td>1535</td>\n",
       "    </tr>\n",
       "    <tr>\n",
       "      <th>19</th>\n",
       "      <td>MozillaTN</td>\n",
       "      <td>1335</td>\n",
       "    </tr>\n",
       "    <tr>\n",
       "      <th>20</th>\n",
       "      <td>MozillaFoundation</td>\n",
       "      <td>1222</td>\n",
       "    </tr>\n",
       "    <tr>\n",
       "      <th>21</th>\n",
       "      <td>MozillaKerala</td>\n",
       "      <td>1007</td>\n",
       "    </tr>\n",
       "    <tr>\n",
       "      <th>22</th>\n",
       "      <td>mozdevs</td>\n",
       "      <td>894</td>\n",
       "    </tr>\n",
       "    <tr>\n",
       "      <th>23</th>\n",
       "      <td>mozillaitalia</td>\n",
       "      <td>473</td>\n",
       "    </tr>\n",
       "    <tr>\n",
       "      <th>24</th>\n",
       "      <td>mozillaperu</td>\n",
       "      <td>141</td>\n",
       "    </tr>\n",
       "    <tr>\n",
       "      <th>25</th>\n",
       "      <td>mozillavenezuela</td>\n",
       "      <td>51</td>\n",
       "    </tr>\n",
       "    <tr>\n",
       "      <th>26</th>\n",
       "      <td>mozillacampusclubs</td>\n",
       "      <td>36</td>\n",
       "    </tr>\n",
       "    <tr>\n",
       "      <th>27</th>\n",
       "      <td>mozillaph</td>\n",
       "      <td>29</td>\n",
       "    </tr>\n",
       "  </tbody>\n",
       "</table>\n",
       "</div>"
      ],
      "text/plain": [
       "               Project  # Commits\n",
       "0              mozilla    1889875\n",
       "1     mozilla-services     148291\n",
       "2            rust-lang     138433\n",
       "3                servo      78801\n",
       "4                  mdn      12867\n",
       "5                moztw       8646\n",
       "6       mozilla-mobile       9764\n",
       "7             aframevr       7384\n",
       "8               mozmar       5970\n",
       "9        mozilla-japan       5807\n",
       "10           MozillaCZ       4525\n",
       "11        Mozilla-TWQA       3931\n",
       "12      mozillascience       3900\n",
       "13           mozillach       3679\n",
       "14       mozillabrasil       2101\n",
       "15               mozfr       2062\n",
       "16         browserhtml       1984\n",
       "17      mozillahispano       1826\n",
       "18               MozVR       1535\n",
       "19           MozillaTN       1335\n",
       "20   MozillaFoundation       1222\n",
       "21       MozillaKerala       1007\n",
       "22             mozdevs        894\n",
       "23       mozillaitalia        473\n",
       "24         mozillaperu        141\n",
       "25    mozillavenezuela         51\n",
       "26  mozillacampusclubs         36\n",
       "27           mozillaph         29"
      ]
     },
     "execution_count": 9,
     "metadata": {},
     "output_type": "execute_result"
    }
   ],
   "source": [
    "print_df(result=result, group_field='projects', value_field='commits', \\\n",
    "         group_column='Project', value_column='# Commits')"
   ]
  },
  {
   "cell_type": "markdown",
   "metadata": {},
   "source": [
    "### Contributors by Project\n",
    "\n",
    "#### Git\n"
   ]
  },
  {
   "cell_type": "code",
   "execution_count": 10,
   "metadata": {
    "collapsed": false
   },
   "outputs": [],
   "source": [
    "s = create_search(source='git')\n",
    "\n",
    "# Unique count of Commits by Project (max 100 projects)\n",
    "s.aggs.bucket('projects', 'terms', field='project', size=100)\\\n",
    "    .metric('contributors', 'cardinality', field='author_uuid', precision_threshold=100000)\n",
    "result = s.execute()"
   ]
  },
  {
   "cell_type": "code",
   "execution_count": 11,
   "metadata": {
    "collapsed": false
   },
   "outputs": [
    {
     "data": {
      "text/html": [
       "<div>\n",
       "<table border=\"1\" class=\"dataframe\">\n",
       "  <thead>\n",
       "    <tr style=\"text-align: right;\">\n",
       "      <th></th>\n",
       "      <th>Project</th>\n",
       "      <th># Contributors</th>\n",
       "    </tr>\n",
       "  </thead>\n",
       "  <tbody>\n",
       "    <tr>\n",
       "      <th>0</th>\n",
       "      <td>mozilla</td>\n",
       "      <td>11032</td>\n",
       "    </tr>\n",
       "    <tr>\n",
       "      <th>1</th>\n",
       "      <td>mozilla-services</td>\n",
       "      <td>2184</td>\n",
       "    </tr>\n",
       "    <tr>\n",
       "      <th>2</th>\n",
       "      <td>rust-lang</td>\n",
       "      <td>2431</td>\n",
       "    </tr>\n",
       "    <tr>\n",
       "      <th>3</th>\n",
       "      <td>servo</td>\n",
       "      <td>1414</td>\n",
       "    </tr>\n",
       "    <tr>\n",
       "      <th>4</th>\n",
       "      <td>mdn</td>\n",
       "      <td>341</td>\n",
       "    </tr>\n",
       "    <tr>\n",
       "      <th>5</th>\n",
       "      <td>moztw</td>\n",
       "      <td>93</td>\n",
       "    </tr>\n",
       "    <tr>\n",
       "      <th>6</th>\n",
       "      <td>mozilla-mobile</td>\n",
       "      <td>110</td>\n",
       "    </tr>\n",
       "    <tr>\n",
       "      <th>7</th>\n",
       "      <td>aframevr</td>\n",
       "      <td>222</td>\n",
       "    </tr>\n",
       "    <tr>\n",
       "      <th>8</th>\n",
       "      <td>mozmar</td>\n",
       "      <td>73</td>\n",
       "    </tr>\n",
       "    <tr>\n",
       "      <th>9</th>\n",
       "      <td>mozilla-japan</td>\n",
       "      <td>58</td>\n",
       "    </tr>\n",
       "    <tr>\n",
       "      <th>10</th>\n",
       "      <td>MozillaCZ</td>\n",
       "      <td>32</td>\n",
       "    </tr>\n",
       "    <tr>\n",
       "      <th>11</th>\n",
       "      <td>Mozilla-TWQA</td>\n",
       "      <td>48</td>\n",
       "    </tr>\n",
       "    <tr>\n",
       "      <th>12</th>\n",
       "      <td>mozillascience</td>\n",
       "      <td>110</td>\n",
       "    </tr>\n",
       "    <tr>\n",
       "      <th>13</th>\n",
       "      <td>mozillach</td>\n",
       "      <td>66</td>\n",
       "    </tr>\n",
       "    <tr>\n",
       "      <th>14</th>\n",
       "      <td>mozillabrasil</td>\n",
       "      <td>181</td>\n",
       "    </tr>\n",
       "    <tr>\n",
       "      <th>15</th>\n",
       "      <td>mozfr</td>\n",
       "      <td>60</td>\n",
       "    </tr>\n",
       "    <tr>\n",
       "      <th>16</th>\n",
       "      <td>browserhtml</td>\n",
       "      <td>44</td>\n",
       "    </tr>\n",
       "    <tr>\n",
       "      <th>17</th>\n",
       "      <td>mozillahispano</td>\n",
       "      <td>67</td>\n",
       "    </tr>\n",
       "    <tr>\n",
       "      <th>18</th>\n",
       "      <td>MozVR</td>\n",
       "      <td>26</td>\n",
       "    </tr>\n",
       "    <tr>\n",
       "      <th>19</th>\n",
       "      <td>MozillaTN</td>\n",
       "      <td>47</td>\n",
       "    </tr>\n",
       "    <tr>\n",
       "      <th>20</th>\n",
       "      <td>MozillaFoundation</td>\n",
       "      <td>113</td>\n",
       "    </tr>\n",
       "    <tr>\n",
       "      <th>21</th>\n",
       "      <td>MozillaKerala</td>\n",
       "      <td>35</td>\n",
       "    </tr>\n",
       "    <tr>\n",
       "      <th>22</th>\n",
       "      <td>mozdevs</td>\n",
       "      <td>18</td>\n",
       "    </tr>\n",
       "    <tr>\n",
       "      <th>23</th>\n",
       "      <td>mozillaitalia</td>\n",
       "      <td>18</td>\n",
       "    </tr>\n",
       "    <tr>\n",
       "      <th>24</th>\n",
       "      <td>mozillaperu</td>\n",
       "      <td>8</td>\n",
       "    </tr>\n",
       "    <tr>\n",
       "      <th>25</th>\n",
       "      <td>mozillavenezuela</td>\n",
       "      <td>8</td>\n",
       "    </tr>\n",
       "    <tr>\n",
       "      <th>26</th>\n",
       "      <td>mozillacampusclubs</td>\n",
       "      <td>4</td>\n",
       "    </tr>\n",
       "    <tr>\n",
       "      <th>27</th>\n",
       "      <td>mozillaph</td>\n",
       "      <td>3</td>\n",
       "    </tr>\n",
       "  </tbody>\n",
       "</table>\n",
       "</div>"
      ],
      "text/plain": [
       "               Project  # Contributors\n",
       "0              mozilla           11032\n",
       "1     mozilla-services            2184\n",
       "2            rust-lang            2431\n",
       "3                servo            1414\n",
       "4                  mdn             341\n",
       "5                moztw              93\n",
       "6       mozilla-mobile             110\n",
       "7             aframevr             222\n",
       "8               mozmar              73\n",
       "9        mozilla-japan              58\n",
       "10           MozillaCZ              32\n",
       "11        Mozilla-TWQA              48\n",
       "12      mozillascience             110\n",
       "13           mozillach              66\n",
       "14       mozillabrasil             181\n",
       "15               mozfr              60\n",
       "16         browserhtml              44\n",
       "17      mozillahispano              67\n",
       "18               MozVR              26\n",
       "19           MozillaTN              47\n",
       "20   MozillaFoundation             113\n",
       "21       MozillaKerala              35\n",
       "22             mozdevs              18\n",
       "23       mozillaitalia              18\n",
       "24         mozillaperu               8\n",
       "25    mozillavenezuela               8\n",
       "26  mozillacampusclubs               4\n",
       "27           mozillaph               3"
      ]
     },
     "execution_count": 11,
     "metadata": {},
     "output_type": "execute_result"
    }
   ],
   "source": [
    "print_df(result=result, group_field='projects', value_field='contributors', \\\n",
    "         group_column='Project', value_column='# Contributors')"
   ]
  },
  {
   "cell_type": "markdown",
   "metadata": {},
   "source": [
    "#### Bugzilla"
   ]
  },
  {
   "cell_type": "code",
   "execution_count": 12,
   "metadata": {
    "collapsed": false
   },
   "outputs": [],
   "source": [
    "s = create_search(source='bugzilla')\n",
    "\n",
    "# Unique count of Commits by Project (max 100 projects)\n",
    "s.aggs.bucket('projects', 'terms', field='project', size=100)\\\n",
    "    .metric('contributors', 'cardinality', field='author_uuid', precision_threshold=100000)\n",
    "result = s.execute()"
   ]
  },
  {
   "cell_type": "code",
   "execution_count": 13,
   "metadata": {
    "collapsed": false
   },
   "outputs": [
    {
     "data": {
      "text/html": [
       "<div>\n",
       "<table border=\"1\" class=\"dataframe\">\n",
       "  <thead>\n",
       "    <tr style=\"text-align: right;\">\n",
       "      <th></th>\n",
       "      <th>Project</th>\n",
       "      <th># Contributors</th>\n",
       "    </tr>\n",
       "  </thead>\n",
       "  <tbody>\n",
       "    <tr>\n",
       "      <th>0</th>\n",
       "      <td>unknown</td>\n",
       "      <td>184708</td>\n",
       "    </tr>\n",
       "  </tbody>\n",
       "</table>\n",
       "</div>"
      ],
      "text/plain": [
       "   Project  # Contributors\n",
       "0  unknown          184708"
      ]
     },
     "execution_count": 13,
     "metadata": {},
     "output_type": "execute_result"
    }
   ],
   "source": [
    "print_df(result=result, group_field='projects', value_field='contributors', \\\n",
    "         group_column='Project', value_column='# Contributors')"
   ]
  },
  {
   "cell_type": "markdown",
   "metadata": {},
   "source": [
    "### Number of contributors by project over time\n",
    "#### Git"
   ]
  },
  {
   "cell_type": "code",
   "execution_count": 29,
   "metadata": {
    "collapsed": false,
    "scrolled": true
   },
   "outputs": [],
   "source": [
    "s = create_search(source='git')\n",
    "\n",
    "s = add_bot_filter(s)\n",
    "s = add_merges_filter(s)\n",
    "\n",
    "# Unique count of Commits by Project (max 100 projects)\n",
    "s = s.filter('range', grimoire_creation_date={'gt': 'now/M-2y', 'lt': 'now/M'})\n",
    "s.aggs.bucket('projects', 'terms', field='project', size=10)\\\n",
    "    .bucket('time', 'date_histogram', field='grimoire_creation_date', interval='quarter')\\\n",
    "    .metric('contributors', 'cardinality', field='author_uuid', precision_threshold=100000)\n",
    "\n",
    "result = s.execute()\n",
    "            \n",
    "df = stack_by(result=result, group_column='Project', time_column='Time', value_column='# Contributors',\\\n",
    "        group_field='projects', time_field='time', value_field='contributors')"
   ]
  },
  {
   "cell_type": "code",
   "execution_count": 30,
   "metadata": {
    "collapsed": false
   },
   "outputs": [
    {
     "data": {
      "text/html": [
       "<script>requirejs.config({paths: { 'plotly': ['https://cdn.plot.ly/plotly-latest.min']},});if(!window.Plotly) {{require(['plotly'],function(plotly) {window.Plotly=plotly;});}}</script>"
      ],
      "text/vnd.plotly.v1+html": [
       "<script>requirejs.config({paths: { 'plotly': ['https://cdn.plot.ly/plotly-latest.min']},});if(!window.Plotly) {{require(['plotly'],function(plotly) {window.Plotly=plotly;});}}</script>"
      ]
     },
     "metadata": {},
     "output_type": "display_data"
    },
    {
     "data": {
      "application/vnd.plotly.v1+json": {
       "data": [
        {
         "name": "mozilla",
         "type": "bar",
         "x": [
          "2015-04-01T00:00:00.000Z",
          "2015-07-01T00:00:00.000Z",
          "2015-10-01T00:00:00.000Z",
          "2016-01-01T00:00:00.000Z",
          "2016-04-01T00:00:00.000Z",
          "2016-07-01T00:00:00.000Z",
          "2016-10-01T00:00:00.000Z",
          "2017-01-01T00:00:00.000Z",
          "2017-04-01T00:00:00.000Z"
         ],
         "y": [
          826,
          1321,
          1474,
          1520,
          1451,
          1472,
          1260,
          1249,
          558
         ]
        },
        {
         "name": "rust-lang",
         "type": "bar",
         "x": [
          "2015-04-01T00:00:00.000Z",
          "2015-07-01T00:00:00.000Z",
          "2015-10-01T00:00:00.000Z",
          "2016-01-01T00:00:00.000Z",
          "2016-04-01T00:00:00.000Z",
          "2016-07-01T00:00:00.000Z",
          "2016-10-01T00:00:00.000Z",
          "2017-01-01T00:00:00.000Z",
          "2017-04-01T00:00:00.000Z"
         ],
         "y": [
          148,
          273,
          304,
          336,
          298,
          348,
          188,
          196,
          108
         ]
        },
        {
         "name": "servo",
         "type": "bar",
         "x": [
          "2015-04-01T00:00:00.000Z",
          "2015-07-01T00:00:00.000Z",
          "2015-10-01T00:00:00.000Z",
          "2016-01-01T00:00:00.000Z",
          "2016-04-01T00:00:00.000Z",
          "2016-07-01T00:00:00.000Z",
          "2016-10-01T00:00:00.000Z",
          "2017-01-01T00:00:00.000Z",
          "2017-04-01T00:00:00.000Z"
         ],
         "y": [
          54,
          119,
          147,
          166,
          175,
          169,
          160,
          175,
          82
         ]
        },
        {
         "name": "mozilla-services",
         "type": "bar",
         "x": [
          "2015-04-01T00:00:00.000Z",
          "2015-07-01T00:00:00.000Z",
          "2015-10-01T00:00:00.000Z",
          "2016-01-01T00:00:00.000Z",
          "2016-04-01T00:00:00.000Z",
          "2016-07-01T00:00:00.000Z",
          "2016-10-01T00:00:00.000Z",
          "2017-01-01T00:00:00.000Z",
          "2017-04-01T00:00:00.000Z"
         ],
         "y": [
          42,
          84,
          93,
          103,
          82,
          71,
          77,
          116,
          132
         ]
        },
        {
         "name": "mozilla-mobile",
         "type": "bar",
         "x": [
          "2015-04-01T00:00:00.000Z",
          "2015-07-01T00:00:00.000Z",
          "2015-10-01T00:00:00.000Z",
          "2016-01-01T00:00:00.000Z",
          "2016-04-01T00:00:00.000Z",
          "2016-07-01T00:00:00.000Z",
          "2016-10-01T00:00:00.000Z",
          "2017-01-01T00:00:00.000Z",
          "2017-04-01T00:00:00.000Z"
         ],
         "y": [
          16,
          26,
          26,
          24,
          20,
          16,
          23,
          34,
          17
         ]
        },
        {
         "name": "aframevr",
         "type": "bar",
         "x": [
          "2015-07-01T00:00:00.000Z",
          "2015-10-01T00:00:00.000Z",
          "2016-01-01T00:00:00.000Z",
          "2016-04-01T00:00:00.000Z",
          "2016-07-01T00:00:00.000Z",
          "2016-10-01T00:00:00.000Z",
          "2017-01-01T00:00:00.000Z",
          "2017-04-01T00:00:00.000Z"
         ],
         "y": [
          7,
          20,
          44,
          38,
          43,
          53,
          71,
          36
         ]
        },
        {
         "name": "mozmar",
         "type": "bar",
         "x": [
          "2015-04-01T00:00:00.000Z",
          "2015-07-01T00:00:00.000Z",
          "2015-10-01T00:00:00.000Z",
          "2016-01-01T00:00:00.000Z",
          "2016-04-01T00:00:00.000Z",
          "2016-07-01T00:00:00.000Z",
          "2016-10-01T00:00:00.000Z",
          "2017-01-01T00:00:00.000Z",
          "2017-04-01T00:00:00.000Z"
         ],
         "y": [
          3,
          7,
          6,
          10,
          7,
          11,
          10,
          12,
          6
         ]
        },
        {
         "name": "mdn",
         "type": "bar",
         "x": [
          "2015-04-01T00:00:00.000Z",
          "2015-07-01T00:00:00.000Z",
          "2015-10-01T00:00:00.000Z",
          "2016-01-01T00:00:00.000Z",
          "2016-04-01T00:00:00.000Z",
          "2016-07-01T00:00:00.000Z",
          "2016-10-01T00:00:00.000Z",
          "2017-01-01T00:00:00.000Z",
          "2017-04-01T00:00:00.000Z"
         ],
         "y": [
          17,
          29,
          35,
          36,
          31,
          38,
          49,
          29,
          13
         ]
        },
        {
         "name": "mozillascience",
         "type": "bar",
         "x": [
          "2015-04-01T00:00:00.000Z",
          "2015-07-01T00:00:00.000Z",
          "2015-10-01T00:00:00.000Z",
          "2016-01-01T00:00:00.000Z",
          "2016-04-01T00:00:00.000Z",
          "2016-07-01T00:00:00.000Z",
          "2016-10-01T00:00:00.000Z",
          "2017-01-01T00:00:00.000Z",
          "2017-04-01T00:00:00.000Z"
         ],
         "y": [
          11,
          25,
          25,
          33,
          25,
          12,
          17,
          20,
          9
         ]
        },
        {
         "name": "Mozilla-TWQA",
         "type": "bar",
         "x": [
          "2015-04-01T00:00:00.000Z",
          "2015-07-01T00:00:00.000Z",
          "2015-10-01T00:00:00.000Z",
          "2016-01-01T00:00:00.000Z",
          "2016-04-01T00:00:00.000Z",
          "2016-07-01T00:00:00.000Z",
          "2016-10-01T00:00:00.000Z",
          "2017-01-01T00:00:00.000Z",
          "2017-04-01T00:00:00.000Z"
         ],
         "y": [
          4,
          6,
          4,
          6,
          9,
          6,
          6,
          7,
          5
         ]
        }
       ],
       "layout": {
        "barmode": "stack"
       }
      },
      "text/html": [
       "<div id=\"b76dbc7e-8f85-4791-976e-9f17938b5af4\" style=\"height: 525px; width: 100%;\" class=\"plotly-graph-div\"></div><script type=\"text/javascript\">require([\"plotly\"], function(Plotly) { window.PLOTLYENV=window.PLOTLYENV || {};window.PLOTLYENV.BASE_URL=\"https://plot.ly\";Plotly.newPlot(\"b76dbc7e-8f85-4791-976e-9f17938b5af4\", [{\"x\": [\"2015-04-01T00:00:00.000Z\", \"2015-07-01T00:00:00.000Z\", \"2015-10-01T00:00:00.000Z\", \"2016-01-01T00:00:00.000Z\", \"2016-04-01T00:00:00.000Z\", \"2016-07-01T00:00:00.000Z\", \"2016-10-01T00:00:00.000Z\", \"2017-01-01T00:00:00.000Z\", \"2017-04-01T00:00:00.000Z\"], \"name\": \"mozilla\", \"y\": [826.0, 1321.0, 1474.0, 1520.0, 1451.0, 1472.0, 1260.0, 1249.0, 558.0], \"type\": \"bar\"}, {\"x\": [\"2015-04-01T00:00:00.000Z\", \"2015-07-01T00:00:00.000Z\", \"2015-10-01T00:00:00.000Z\", \"2016-01-01T00:00:00.000Z\", \"2016-04-01T00:00:00.000Z\", \"2016-07-01T00:00:00.000Z\", \"2016-10-01T00:00:00.000Z\", \"2017-01-01T00:00:00.000Z\", \"2017-04-01T00:00:00.000Z\"], \"name\": \"rust-lang\", \"y\": [148.0, 273.0, 304.0, 336.0, 298.0, 348.0, 188.0, 196.0, 108.0], \"type\": \"bar\"}, {\"x\": [\"2015-04-01T00:00:00.000Z\", \"2015-07-01T00:00:00.000Z\", \"2015-10-01T00:00:00.000Z\", \"2016-01-01T00:00:00.000Z\", \"2016-04-01T00:00:00.000Z\", \"2016-07-01T00:00:00.000Z\", \"2016-10-01T00:00:00.000Z\", \"2017-01-01T00:00:00.000Z\", \"2017-04-01T00:00:00.000Z\"], \"name\": \"servo\", \"y\": [54.0, 119.0, 147.0, 166.0, 175.0, 169.0, 160.0, 175.0, 82.0], \"type\": \"bar\"}, {\"x\": [\"2015-04-01T00:00:00.000Z\", \"2015-07-01T00:00:00.000Z\", \"2015-10-01T00:00:00.000Z\", \"2016-01-01T00:00:00.000Z\", \"2016-04-01T00:00:00.000Z\", \"2016-07-01T00:00:00.000Z\", \"2016-10-01T00:00:00.000Z\", \"2017-01-01T00:00:00.000Z\", \"2017-04-01T00:00:00.000Z\"], \"name\": \"mozilla-services\", \"y\": [42.0, 84.0, 93.0, 103.0, 82.0, 71.0, 77.0, 116.0, 132.0], \"type\": \"bar\"}, {\"x\": [\"2015-04-01T00:00:00.000Z\", \"2015-07-01T00:00:00.000Z\", \"2015-10-01T00:00:00.000Z\", \"2016-01-01T00:00:00.000Z\", \"2016-04-01T00:00:00.000Z\", \"2016-07-01T00:00:00.000Z\", \"2016-10-01T00:00:00.000Z\", \"2017-01-01T00:00:00.000Z\", \"2017-04-01T00:00:00.000Z\"], \"name\": \"mozilla-mobile\", \"y\": [16.0, 26.0, 26.0, 24.0, 20.0, 16.0, 23.0, 34.0, 17.0], \"type\": \"bar\"}, {\"x\": [\"2015-07-01T00:00:00.000Z\", \"2015-10-01T00:00:00.000Z\", \"2016-01-01T00:00:00.000Z\", \"2016-04-01T00:00:00.000Z\", \"2016-07-01T00:00:00.000Z\", \"2016-10-01T00:00:00.000Z\", \"2017-01-01T00:00:00.000Z\", \"2017-04-01T00:00:00.000Z\"], \"name\": \"aframevr\", \"y\": [7.0, 20.0, 44.0, 38.0, 43.0, 53.0, 71.0, 36.0], \"type\": \"bar\"}, {\"x\": [\"2015-04-01T00:00:00.000Z\", \"2015-07-01T00:00:00.000Z\", \"2015-10-01T00:00:00.000Z\", \"2016-01-01T00:00:00.000Z\", \"2016-04-01T00:00:00.000Z\", \"2016-07-01T00:00:00.000Z\", \"2016-10-01T00:00:00.000Z\", \"2017-01-01T00:00:00.000Z\", \"2017-04-01T00:00:00.000Z\"], \"name\": \"mozmar\", \"y\": [3.0, 7.0, 6.0, 10.0, 7.0, 11.0, 10.0, 12.0, 6.0], \"type\": \"bar\"}, {\"x\": [\"2015-04-01T00:00:00.000Z\", \"2015-07-01T00:00:00.000Z\", \"2015-10-01T00:00:00.000Z\", \"2016-01-01T00:00:00.000Z\", \"2016-04-01T00:00:00.000Z\", \"2016-07-01T00:00:00.000Z\", \"2016-10-01T00:00:00.000Z\", \"2017-01-01T00:00:00.000Z\", \"2017-04-01T00:00:00.000Z\"], \"name\": \"mdn\", \"y\": [17.0, 29.0, 35.0, 36.0, 31.0, 38.0, 49.0, 29.0, 13.0], \"type\": \"bar\"}, {\"x\": [\"2015-04-01T00:00:00.000Z\", \"2015-07-01T00:00:00.000Z\", \"2015-10-01T00:00:00.000Z\", \"2016-01-01T00:00:00.000Z\", \"2016-04-01T00:00:00.000Z\", \"2016-07-01T00:00:00.000Z\", \"2016-10-01T00:00:00.000Z\", \"2017-01-01T00:00:00.000Z\", \"2017-04-01T00:00:00.000Z\"], \"name\": \"mozillascience\", \"y\": [11.0, 25.0, 25.0, 33.0, 25.0, 12.0, 17.0, 20.0, 9.0], \"type\": \"bar\"}, {\"x\": [\"2015-04-01T00:00:00.000Z\", \"2015-07-01T00:00:00.000Z\", \"2015-10-01T00:00:00.000Z\", \"2016-01-01T00:00:00.000Z\", \"2016-04-01T00:00:00.000Z\", \"2016-07-01T00:00:00.000Z\", \"2016-10-01T00:00:00.000Z\", \"2017-01-01T00:00:00.000Z\", \"2017-04-01T00:00:00.000Z\"], \"name\": \"Mozilla-TWQA\", \"y\": [4.0, 6.0, 4.0, 6.0, 9.0, 6.0, 6.0, 7.0, 5.0], \"type\": \"bar\"}], {\"barmode\": \"stack\"}, {\"showLink\": true, \"linkText\": \"Export to plot.ly\"})});</script>"
      ],
      "text/vnd.plotly.v1+html": [
       "<div id=\"b76dbc7e-8f85-4791-976e-9f17938b5af4\" style=\"height: 525px; width: 100%;\" class=\"plotly-graph-div\"></div><script type=\"text/javascript\">require([\"plotly\"], function(Plotly) { window.PLOTLYENV=window.PLOTLYENV || {};window.PLOTLYENV.BASE_URL=\"https://plot.ly\";Plotly.newPlot(\"b76dbc7e-8f85-4791-976e-9f17938b5af4\", [{\"x\": [\"2015-04-01T00:00:00.000Z\", \"2015-07-01T00:00:00.000Z\", \"2015-10-01T00:00:00.000Z\", \"2016-01-01T00:00:00.000Z\", \"2016-04-01T00:00:00.000Z\", \"2016-07-01T00:00:00.000Z\", \"2016-10-01T00:00:00.000Z\", \"2017-01-01T00:00:00.000Z\", \"2017-04-01T00:00:00.000Z\"], \"name\": \"mozilla\", \"y\": [826.0, 1321.0, 1474.0, 1520.0, 1451.0, 1472.0, 1260.0, 1249.0, 558.0], \"type\": \"bar\"}, {\"x\": [\"2015-04-01T00:00:00.000Z\", \"2015-07-01T00:00:00.000Z\", \"2015-10-01T00:00:00.000Z\", \"2016-01-01T00:00:00.000Z\", \"2016-04-01T00:00:00.000Z\", \"2016-07-01T00:00:00.000Z\", \"2016-10-01T00:00:00.000Z\", \"2017-01-01T00:00:00.000Z\", \"2017-04-01T00:00:00.000Z\"], \"name\": \"rust-lang\", \"y\": [148.0, 273.0, 304.0, 336.0, 298.0, 348.0, 188.0, 196.0, 108.0], \"type\": \"bar\"}, {\"x\": [\"2015-04-01T00:00:00.000Z\", \"2015-07-01T00:00:00.000Z\", \"2015-10-01T00:00:00.000Z\", \"2016-01-01T00:00:00.000Z\", \"2016-04-01T00:00:00.000Z\", \"2016-07-01T00:00:00.000Z\", \"2016-10-01T00:00:00.000Z\", \"2017-01-01T00:00:00.000Z\", \"2017-04-01T00:00:00.000Z\"], \"name\": \"servo\", \"y\": [54.0, 119.0, 147.0, 166.0, 175.0, 169.0, 160.0, 175.0, 82.0], \"type\": \"bar\"}, {\"x\": [\"2015-04-01T00:00:00.000Z\", \"2015-07-01T00:00:00.000Z\", \"2015-10-01T00:00:00.000Z\", \"2016-01-01T00:00:00.000Z\", \"2016-04-01T00:00:00.000Z\", \"2016-07-01T00:00:00.000Z\", \"2016-10-01T00:00:00.000Z\", \"2017-01-01T00:00:00.000Z\", \"2017-04-01T00:00:00.000Z\"], \"name\": \"mozilla-services\", \"y\": [42.0, 84.0, 93.0, 103.0, 82.0, 71.0, 77.0, 116.0, 132.0], \"type\": \"bar\"}, {\"x\": [\"2015-04-01T00:00:00.000Z\", \"2015-07-01T00:00:00.000Z\", \"2015-10-01T00:00:00.000Z\", \"2016-01-01T00:00:00.000Z\", \"2016-04-01T00:00:00.000Z\", \"2016-07-01T00:00:00.000Z\", \"2016-10-01T00:00:00.000Z\", \"2017-01-01T00:00:00.000Z\", \"2017-04-01T00:00:00.000Z\"], \"name\": \"mozilla-mobile\", \"y\": [16.0, 26.0, 26.0, 24.0, 20.0, 16.0, 23.0, 34.0, 17.0], \"type\": \"bar\"}, {\"x\": [\"2015-07-01T00:00:00.000Z\", \"2015-10-01T00:00:00.000Z\", \"2016-01-01T00:00:00.000Z\", \"2016-04-01T00:00:00.000Z\", \"2016-07-01T00:00:00.000Z\", \"2016-10-01T00:00:00.000Z\", \"2017-01-01T00:00:00.000Z\", \"2017-04-01T00:00:00.000Z\"], \"name\": \"aframevr\", \"y\": [7.0, 20.0, 44.0, 38.0, 43.0, 53.0, 71.0, 36.0], \"type\": \"bar\"}, {\"x\": [\"2015-04-01T00:00:00.000Z\", \"2015-07-01T00:00:00.000Z\", \"2015-10-01T00:00:00.000Z\", \"2016-01-01T00:00:00.000Z\", \"2016-04-01T00:00:00.000Z\", \"2016-07-01T00:00:00.000Z\", \"2016-10-01T00:00:00.000Z\", \"2017-01-01T00:00:00.000Z\", \"2017-04-01T00:00:00.000Z\"], \"name\": \"mozmar\", \"y\": [3.0, 7.0, 6.0, 10.0, 7.0, 11.0, 10.0, 12.0, 6.0], \"type\": \"bar\"}, {\"x\": [\"2015-04-01T00:00:00.000Z\", \"2015-07-01T00:00:00.000Z\", \"2015-10-01T00:00:00.000Z\", \"2016-01-01T00:00:00.000Z\", \"2016-04-01T00:00:00.000Z\", \"2016-07-01T00:00:00.000Z\", \"2016-10-01T00:00:00.000Z\", \"2017-01-01T00:00:00.000Z\", \"2017-04-01T00:00:00.000Z\"], \"name\": \"mdn\", \"y\": [17.0, 29.0, 35.0, 36.0, 31.0, 38.0, 49.0, 29.0, 13.0], \"type\": \"bar\"}, {\"x\": [\"2015-04-01T00:00:00.000Z\", \"2015-07-01T00:00:00.000Z\", \"2015-10-01T00:00:00.000Z\", \"2016-01-01T00:00:00.000Z\", \"2016-04-01T00:00:00.000Z\", \"2016-07-01T00:00:00.000Z\", \"2016-10-01T00:00:00.000Z\", \"2017-01-01T00:00:00.000Z\", \"2017-04-01T00:00:00.000Z\"], \"name\": \"mozillascience\", \"y\": [11.0, 25.0, 25.0, 33.0, 25.0, 12.0, 17.0, 20.0, 9.0], \"type\": \"bar\"}, {\"x\": [\"2015-04-01T00:00:00.000Z\", \"2015-07-01T00:00:00.000Z\", \"2015-10-01T00:00:00.000Z\", \"2016-01-01T00:00:00.000Z\", \"2016-04-01T00:00:00.000Z\", \"2016-07-01T00:00:00.000Z\", \"2016-10-01T00:00:00.000Z\", \"2017-01-01T00:00:00.000Z\", \"2017-04-01T00:00:00.000Z\"], \"name\": \"Mozilla-TWQA\", \"y\": [4.0, 6.0, 4.0, 6.0, 9.0, 6.0, 6.0, 7.0, 5.0], \"type\": \"bar\"}], {\"barmode\": \"stack\"}, {\"showLink\": true, \"linkText\": \"Export to plot.ly\"})});</script>"
      ]
     },
     "metadata": {},
     "output_type": "display_data"
    }
   ],
   "source": [
    "print_stacked_bar(df=df, time_column='Time', value_column='# Contributors', group_column='Project')"
   ]
  },
  {
   "cell_type": "markdown",
   "metadata": {},
   "source": [
    "#### List of organizations\n"
   ]
  },
  {
   "cell_type": "code",
   "execution_count": 31,
   "metadata": {
    "collapsed": false
   },
   "outputs": [],
   "source": [
    "s = create_search(source='git')\n",
    "\n",
    "s = add_bot_filter(s)\n",
    "s = add_merges_filter(s)\n",
    "\n",
    "# Unique count of Commits by Project (max 100 projects)\n",
    "s.aggs.bucket('organizations', 'terms', field='author_org_name', size=100)\\\n",
    "    .metric('commits', 'cardinality', field='hash', precision_threshold=100000)\n",
    "result = s.execute()"
   ]
  },
  {
   "cell_type": "code",
   "execution_count": 32,
   "metadata": {
    "collapsed": false
   },
   "outputs": [
    {
     "data": {
      "text/html": [
       "<div>\n",
       "<table border=\"1\" class=\"dataframe\">\n",
       "  <thead>\n",
       "    <tr style=\"text-align: right;\">\n",
       "      <th></th>\n",
       "      <th>Organization</th>\n",
       "      <th># Commits</th>\n",
       "    </tr>\n",
       "  </thead>\n",
       "  <tbody>\n",
       "    <tr>\n",
       "      <th>0</th>\n",
       "      <td>Mozilla Staff</td>\n",
       "      <td>1364303</td>\n",
       "    </tr>\n",
       "    <tr>\n",
       "      <th>1</th>\n",
       "      <td>Community</td>\n",
       "      <td>679867</td>\n",
       "    </tr>\n",
       "    <tr>\n",
       "      <th>2</th>\n",
       "      <td>Mozilla Reps</td>\n",
       "      <td>481</td>\n",
       "    </tr>\n",
       "  </tbody>\n",
       "</table>\n",
       "</div>"
      ],
      "text/plain": [
       "    Organization  # Commits\n",
       "0  Mozilla Staff    1364303\n",
       "1      Community     679867\n",
       "2   Mozilla Reps        481"
      ]
     },
     "execution_count": 32,
     "metadata": {},
     "output_type": "execute_result"
    }
   ],
   "source": [
    "print_df(result=result, group_field='organizations', value_field='commits', \\\n",
    "         group_column='Organization', value_column='# Commits')"
   ]
  },
  {
   "cell_type": "markdown",
   "metadata": {},
   "source": [
    "### Contributors by organization\n",
    "#### Git"
   ]
  },
  {
   "cell_type": "code",
   "execution_count": 33,
   "metadata": {
    "collapsed": false
   },
   "outputs": [],
   "source": [
    "s = create_search(source='git')\n",
    "\n",
    "s = add_bot_filter(s)\n",
    "s= add_merges_filter(s)\n",
    "\n",
    "# Unique count of Commits by Project (max 100 projects)\n",
    "s.aggs.bucket('organizations', 'terms', field='author_org_name', size=100).\\\n",
    "    metric('contributors', 'cardinality', field='author_uuid', precision_threshold=100000)\n",
    "result = s.execute()"
   ]
  },
  {
   "cell_type": "code",
   "execution_count": 34,
   "metadata": {
    "collapsed": false
   },
   "outputs": [
    {
     "data": {
      "text/html": [
       "<div>\n",
       "<table border=\"1\" class=\"dataframe\">\n",
       "  <thead>\n",
       "    <tr style=\"text-align: right;\">\n",
       "      <th></th>\n",
       "      <th>Organization</th>\n",
       "      <th># Contributors</th>\n",
       "    </tr>\n",
       "  </thead>\n",
       "  <tbody>\n",
       "    <tr>\n",
       "      <th>0</th>\n",
       "      <td>Mozilla Staff</td>\n",
       "      <td>2182</td>\n",
       "    </tr>\n",
       "    <tr>\n",
       "      <th>1</th>\n",
       "      <td>Community</td>\n",
       "      <td>13043</td>\n",
       "    </tr>\n",
       "    <tr>\n",
       "      <th>2</th>\n",
       "      <td>Mozilla Reps</td>\n",
       "      <td>2</td>\n",
       "    </tr>\n",
       "  </tbody>\n",
       "</table>\n",
       "</div>"
      ],
      "text/plain": [
       "    Organization  # Contributors\n",
       "0  Mozilla Staff            2182\n",
       "1      Community           13043\n",
       "2   Mozilla Reps               2"
      ]
     },
     "execution_count": 34,
     "metadata": {},
     "output_type": "execute_result"
    }
   ],
   "source": [
    "print_df(result=result, group_field='organizations', value_field='contributors', \\\n",
    "         group_column='Organization', value_column='# Contributors')"
   ]
  },
  {
   "cell_type": "markdown",
   "metadata": {},
   "source": [
    "#### Bugzilla"
   ]
  },
  {
   "cell_type": "code",
   "execution_count": 35,
   "metadata": {
    "collapsed": false
   },
   "outputs": [],
   "source": [
    "s = create_search(source='bugzilla')\n",
    "\n",
    "s = add_bot_filter(s)\n",
    "\n",
    "# Unique count of Commits by Project (max 100 projects)\n",
    "s.aggs.bucket('organizations', 'terms', field='author_org_name', size=100).\\\n",
    "    metric('contributors', 'cardinality', field='author_uuid', precision_threshold=100000)\n",
    "result = s.execute()"
   ]
  },
  {
   "cell_type": "code",
   "execution_count": 36,
   "metadata": {
    "collapsed": false
   },
   "outputs": [
    {
     "data": {
      "text/html": [
       "<div>\n",
       "<table border=\"1\" class=\"dataframe\">\n",
       "  <thead>\n",
       "    <tr style=\"text-align: right;\">\n",
       "      <th></th>\n",
       "      <th>Organization</th>\n",
       "      <th># Contributors</th>\n",
       "    </tr>\n",
       "  </thead>\n",
       "  <tbody>\n",
       "    <tr>\n",
       "      <th>0</th>\n",
       "      <td>Community</td>\n",
       "      <td>181892</td>\n",
       "    </tr>\n",
       "    <tr>\n",
       "      <th>1</th>\n",
       "      <td>Mozilla Staff</td>\n",
       "      <td>2784</td>\n",
       "    </tr>\n",
       "    <tr>\n",
       "      <th>2</th>\n",
       "      <td>Mozilla Reps</td>\n",
       "      <td>3</td>\n",
       "    </tr>\n",
       "  </tbody>\n",
       "</table>\n",
       "</div>"
      ],
      "text/plain": [
       "    Organization  # Contributors\n",
       "0      Community          181892\n",
       "1  Mozilla Staff            2784\n",
       "2   Mozilla Reps               3"
      ]
     },
     "execution_count": 36,
     "metadata": {},
     "output_type": "execute_result"
    }
   ],
   "source": [
    "print_df(result=result, group_field='organizations', value_field='contributors', \\\n",
    "         group_column='Organization', value_column='# Contributors')"
   ]
  },
  {
   "cell_type": "markdown",
   "metadata": {},
   "source": [
    "### Number of contributors by organization over time\n",
    "#### Git"
   ]
  },
  {
   "cell_type": "code",
   "execution_count": 37,
   "metadata": {
    "collapsed": false
   },
   "outputs": [],
   "source": [
    "s = create_search(source='git')\n",
    "\n",
    "s = add_bot_filter(s)\n",
    "s = add_merges_filter(s)\n",
    "\n",
    "# Unique count of Commits by Project (max 100 projects)\n",
    "s = s.filter('range', grimoire_creation_date={'gt': 'now/M-2y', 'lt': 'now/M'})\n",
    "s.aggs.bucket('org', 'terms', field='author_org_name', size=10)\\\n",
    "    .bucket('time', 'date_histogram', field='grimoire_creation_date', interval='quarter')\\\n",
    "    .metric('contributors', 'cardinality', field='author_uuid', precision_threshold=100000)\n",
    "\n",
    "result = s.execute()\n",
    "\n",
    "authors_org_df = stack_by(result=result, group_column='Organization', time_column='Time', value_column='# Contributors',\\\n",
    "        group_field='org', time_field='time', value_field='contributors')\n"
   ]
  },
  {
   "cell_type": "code",
   "execution_count": 38,
   "metadata": {
    "collapsed": false
   },
   "outputs": [
    {
     "data": {
      "text/html": [
       "<script>requirejs.config({paths: { 'plotly': ['https://cdn.plot.ly/plotly-latest.min']},});if(!window.Plotly) {{require(['plotly'],function(plotly) {window.Plotly=plotly;});}}</script>"
      ],
      "text/vnd.plotly.v1+html": [
       "<script>requirejs.config({paths: { 'plotly': ['https://cdn.plot.ly/plotly-latest.min']},});if(!window.Plotly) {{require(['plotly'],function(plotly) {window.Plotly=plotly;});}}</script>"
      ]
     },
     "metadata": {},
     "output_type": "display_data"
    },
    {
     "data": {
      "application/vnd.plotly.v1+json": {
       "data": [
        {
         "name": "Mozilla Staff",
         "type": "bar",
         "x": [
          "2015-04-01T00:00:00.000Z",
          "2015-07-01T00:00:00.000Z",
          "2015-10-01T00:00:00.000Z",
          "2016-01-01T00:00:00.000Z",
          "2016-04-01T00:00:00.000Z",
          "2016-07-01T00:00:00.000Z",
          "2016-10-01T00:00:00.000Z",
          "2017-01-01T00:00:00.000Z",
          "2017-04-01T00:00:00.000Z"
         ],
         "y": [
          569,
          756,
          737,
          749,
          755,
          742,
          662,
          664,
          413
         ]
        },
        {
         "name": "Community",
         "type": "bar",
         "x": [
          "2015-04-01T00:00:00.000Z",
          "2015-07-01T00:00:00.000Z",
          "2015-10-01T00:00:00.000Z",
          "2016-01-01T00:00:00.000Z",
          "2016-04-01T00:00:00.000Z",
          "2016-07-01T00:00:00.000Z",
          "2016-10-01T00:00:00.000Z",
          "2017-01-01T00:00:00.000Z",
          "2017-04-01T00:00:00.000Z"
         ],
         "y": [
          502,
          1002,
          1210,
          1323,
          1205,
          1240,
          1017,
          1065,
          443
         ]
        },
        {
         "name": "Mozilla Reps",
         "type": "bar",
         "x": [
          "2015-04-01T00:00:00.000Z",
          "2015-07-01T00:00:00.000Z",
          "2015-10-01T00:00:00.000Z",
          "2016-01-01T00:00:00.000Z",
          "2016-04-01T00:00:00.000Z",
          "2016-07-01T00:00:00.000Z",
          "2016-10-01T00:00:00.000Z",
          "2017-01-01T00:00:00.000Z",
          "2017-04-01T00:00:00.000Z"
         ],
         "y": [
          1,
          2,
          2,
          2,
          2,
          2,
          2,
          2,
          1
         ]
        }
       ],
       "layout": {
        "barmode": "stack"
       }
      },
      "text/html": [
       "<div id=\"018e4a40-bd8e-47e0-98fe-84ce87852cb5\" style=\"height: 525px; width: 100%;\" class=\"plotly-graph-div\"></div><script type=\"text/javascript\">require([\"plotly\"], function(Plotly) { window.PLOTLYENV=window.PLOTLYENV || {};window.PLOTLYENV.BASE_URL=\"https://plot.ly\";Plotly.newPlot(\"018e4a40-bd8e-47e0-98fe-84ce87852cb5\", [{\"x\": [\"2015-04-01T00:00:00.000Z\", \"2015-07-01T00:00:00.000Z\", \"2015-10-01T00:00:00.000Z\", \"2016-01-01T00:00:00.000Z\", \"2016-04-01T00:00:00.000Z\", \"2016-07-01T00:00:00.000Z\", \"2016-10-01T00:00:00.000Z\", \"2017-01-01T00:00:00.000Z\", \"2017-04-01T00:00:00.000Z\"], \"name\": \"Mozilla Staff\", \"y\": [569.0, 756.0, 737.0, 749.0, 755.0, 742.0, 662.0, 664.0, 413.0], \"type\": \"bar\"}, {\"x\": [\"2015-04-01T00:00:00.000Z\", \"2015-07-01T00:00:00.000Z\", \"2015-10-01T00:00:00.000Z\", \"2016-01-01T00:00:00.000Z\", \"2016-04-01T00:00:00.000Z\", \"2016-07-01T00:00:00.000Z\", \"2016-10-01T00:00:00.000Z\", \"2017-01-01T00:00:00.000Z\", \"2017-04-01T00:00:00.000Z\"], \"name\": \"Community\", \"y\": [502.0, 1002.0, 1210.0, 1323.0, 1205.0, 1240.0, 1017.0, 1065.0, 443.0], \"type\": \"bar\"}, {\"x\": [\"2015-04-01T00:00:00.000Z\", \"2015-07-01T00:00:00.000Z\", \"2015-10-01T00:00:00.000Z\", \"2016-01-01T00:00:00.000Z\", \"2016-04-01T00:00:00.000Z\", \"2016-07-01T00:00:00.000Z\", \"2016-10-01T00:00:00.000Z\", \"2017-01-01T00:00:00.000Z\", \"2017-04-01T00:00:00.000Z\"], \"name\": \"Mozilla Reps\", \"y\": [1.0, 2.0, 2.0, 2.0, 2.0, 2.0, 2.0, 2.0, 1.0], \"type\": \"bar\"}], {\"barmode\": \"stack\"}, {\"showLink\": true, \"linkText\": \"Export to plot.ly\"})});</script>"
      ],
      "text/vnd.plotly.v1+html": [
       "<div id=\"018e4a40-bd8e-47e0-98fe-84ce87852cb5\" style=\"height: 525px; width: 100%;\" class=\"plotly-graph-div\"></div><script type=\"text/javascript\">require([\"plotly\"], function(Plotly) { window.PLOTLYENV=window.PLOTLYENV || {};window.PLOTLYENV.BASE_URL=\"https://plot.ly\";Plotly.newPlot(\"018e4a40-bd8e-47e0-98fe-84ce87852cb5\", [{\"x\": [\"2015-04-01T00:00:00.000Z\", \"2015-07-01T00:00:00.000Z\", \"2015-10-01T00:00:00.000Z\", \"2016-01-01T00:00:00.000Z\", \"2016-04-01T00:00:00.000Z\", \"2016-07-01T00:00:00.000Z\", \"2016-10-01T00:00:00.000Z\", \"2017-01-01T00:00:00.000Z\", \"2017-04-01T00:00:00.000Z\"], \"name\": \"Mozilla Staff\", \"y\": [569.0, 756.0, 737.0, 749.0, 755.0, 742.0, 662.0, 664.0, 413.0], \"type\": \"bar\"}, {\"x\": [\"2015-04-01T00:00:00.000Z\", \"2015-07-01T00:00:00.000Z\", \"2015-10-01T00:00:00.000Z\", \"2016-01-01T00:00:00.000Z\", \"2016-04-01T00:00:00.000Z\", \"2016-07-01T00:00:00.000Z\", \"2016-10-01T00:00:00.000Z\", \"2017-01-01T00:00:00.000Z\", \"2017-04-01T00:00:00.000Z\"], \"name\": \"Community\", \"y\": [502.0, 1002.0, 1210.0, 1323.0, 1205.0, 1240.0, 1017.0, 1065.0, 443.0], \"type\": \"bar\"}, {\"x\": [\"2015-04-01T00:00:00.000Z\", \"2015-07-01T00:00:00.000Z\", \"2015-10-01T00:00:00.000Z\", \"2016-01-01T00:00:00.000Z\", \"2016-04-01T00:00:00.000Z\", \"2016-07-01T00:00:00.000Z\", \"2016-10-01T00:00:00.000Z\", \"2017-01-01T00:00:00.000Z\", \"2017-04-01T00:00:00.000Z\"], \"name\": \"Mozilla Reps\", \"y\": [1.0, 2.0, 2.0, 2.0, 2.0, 2.0, 2.0, 2.0, 1.0], \"type\": \"bar\"}], {\"barmode\": \"stack\"}, {\"showLink\": true, \"linkText\": \"Export to plot.ly\"})});</script>"
      ]
     },
     "metadata": {},
     "output_type": "display_data"
    }
   ],
   "source": [
    "print_stacked_bar(df=authors_org_df, time_column='Time', value_column='# Contributors', group_column='Organization')"
   ]
  },
  {
   "cell_type": "markdown",
   "metadata": {},
   "source": []
  },
  {
   "cell_type": "markdown",
   "metadata": {},
   "source": [
    "### Contributors by groups: hired by Mozilla, the rest\n",
    "#### Git"
   ]
  },
  {
   "cell_type": "code",
   "execution_count": 39,
   "metadata": {
    "collapsed": false
   },
   "outputs": [
    {
     "name": "stdout",
     "output_type": "stream",
     "text": [
      "Mozilla Staff -> Mozilla Staff\n",
      "Community -> Other\n",
      "Mozilla Reps -> Other\n"
     ]
    }
   ],
   "source": [
    "s = create_search(source='git')\n",
    "\n",
    "s = add_bot_filter(s)\n",
    "s = add_merges_filter(s)\n",
    "\n",
    "# Unique count of Commits by Project (max 100 projects)\n",
    "s = s.filter('range', grimoire_creation_date={'gt': 'now/M-2y', 'lt': 'now/M'})\n",
    "s.aggs.bucket('org', 'terms', field='author_org_name', size=10)\\\n",
    "    .bucket('time', 'date_histogram', field='grimoire_creation_date', interval='quarter')\\\n",
    "    .metric('contributors', 'cardinality', field='author_uuid', precision_threshold=100000)\n",
    "\n",
    "result = s.execute()\n",
    "\n",
    "authors_org_df = stack_by_cusum(result=result, group_column='Organization', time_column='Time',\\\n",
    "                                value_column='# Contributors', group_field='org', time_field='time',\\\n",
    "                                value_field='contributors', staff_org_names=['Mozilla Staff'],\\\n",
    "                                staff_org='Mozilla Staff')"
   ]
  },
  {
   "cell_type": "code",
   "execution_count": 40,
   "metadata": {
    "collapsed": false,
    "scrolled": false
   },
   "outputs": [
    {
     "data": {
      "text/html": [
       "<script>requirejs.config({paths: { 'plotly': ['https://cdn.plot.ly/plotly-latest.min']},});if(!window.Plotly) {{require(['plotly'],function(plotly) {window.Plotly=plotly;});}}</script>"
      ],
      "text/vnd.plotly.v1+html": [
       "<script>requirejs.config({paths: { 'plotly': ['https://cdn.plot.ly/plotly-latest.min']},});if(!window.Plotly) {{require(['plotly'],function(plotly) {window.Plotly=plotly;});}}</script>"
      ]
     },
     "metadata": {},
     "output_type": "display_data"
    },
    {
     "data": {
      "application/vnd.plotly.v1+json": {
       "data": [
        {
         "name": "Mozilla Staff",
         "type": "bar",
         "x": [
          "2015-04-01T00:00:00.000Z",
          "2015-07-01T00:00:00.000Z",
          "2015-10-01T00:00:00.000Z",
          "2016-01-01T00:00:00.000Z",
          "2016-04-01T00:00:00.000Z",
          "2016-07-01T00:00:00.000Z",
          "2016-10-01T00:00:00.000Z",
          "2017-01-01T00:00:00.000Z",
          "2017-04-01T00:00:00.000Z"
         ],
         "y": [
          569,
          756,
          737,
          749,
          755,
          742,
          662,
          664,
          413
         ]
        },
        {
         "name": "Other",
         "type": "bar",
         "x": [
          "2015-04-01T00:00:00.000Z",
          "2015-07-01T00:00:00.000Z",
          "2015-10-01T00:00:00.000Z",
          "2016-01-01T00:00:00.000Z",
          "2016-04-01T00:00:00.000Z",
          "2016-07-01T00:00:00.000Z",
          "2016-10-01T00:00:00.000Z",
          "2017-01-01T00:00:00.000Z",
          "2017-04-01T00:00:00.000Z"
         ],
         "y": [
          503,
          1004,
          1212,
          1325,
          1207,
          1242,
          1019,
          1067,
          444
         ]
        }
       ],
       "layout": {
        "barmode": "stack"
       }
      },
      "text/html": [
       "<div id=\"5c2a5436-f40f-4bae-ab25-d9589b53ca73\" style=\"height: 525px; width: 100%;\" class=\"plotly-graph-div\"></div><script type=\"text/javascript\">require([\"plotly\"], function(Plotly) { window.PLOTLYENV=window.PLOTLYENV || {};window.PLOTLYENV.BASE_URL=\"https://plot.ly\";Plotly.newPlot(\"5c2a5436-f40f-4bae-ab25-d9589b53ca73\", [{\"x\": [\"2015-04-01T00:00:00.000Z\", \"2015-07-01T00:00:00.000Z\", \"2015-10-01T00:00:00.000Z\", \"2016-01-01T00:00:00.000Z\", \"2016-04-01T00:00:00.000Z\", \"2016-07-01T00:00:00.000Z\", \"2016-10-01T00:00:00.000Z\", \"2017-01-01T00:00:00.000Z\", \"2017-04-01T00:00:00.000Z\"], \"name\": \"Mozilla Staff\", \"y\": [569.0, 756.0, 737.0, 749.0, 755.0, 742.0, 662.0, 664.0, 413.0], \"type\": \"bar\"}, {\"x\": [\"2015-04-01T00:00:00.000Z\", \"2015-07-01T00:00:00.000Z\", \"2015-10-01T00:00:00.000Z\", \"2016-01-01T00:00:00.000Z\", \"2016-04-01T00:00:00.000Z\", \"2016-07-01T00:00:00.000Z\", \"2016-10-01T00:00:00.000Z\", \"2017-01-01T00:00:00.000Z\", \"2017-04-01T00:00:00.000Z\"], \"name\": \"Other\", \"y\": [503.0, 1004.0, 1212.0, 1325.0, 1207.0, 1242.0, 1019.0, 1067.0, 444.0], \"type\": \"bar\"}], {\"barmode\": \"stack\"}, {\"showLink\": true, \"linkText\": \"Export to plot.ly\"})});</script>"
      ],
      "text/vnd.plotly.v1+html": [
       "<div id=\"5c2a5436-f40f-4bae-ab25-d9589b53ca73\" style=\"height: 525px; width: 100%;\" class=\"plotly-graph-div\"></div><script type=\"text/javascript\">require([\"plotly\"], function(Plotly) { window.PLOTLYENV=window.PLOTLYENV || {};window.PLOTLYENV.BASE_URL=\"https://plot.ly\";Plotly.newPlot(\"5c2a5436-f40f-4bae-ab25-d9589b53ca73\", [{\"x\": [\"2015-04-01T00:00:00.000Z\", \"2015-07-01T00:00:00.000Z\", \"2015-10-01T00:00:00.000Z\", \"2016-01-01T00:00:00.000Z\", \"2016-04-01T00:00:00.000Z\", \"2016-07-01T00:00:00.000Z\", \"2016-10-01T00:00:00.000Z\", \"2017-01-01T00:00:00.000Z\", \"2017-04-01T00:00:00.000Z\"], \"name\": \"Mozilla Staff\", \"y\": [569.0, 756.0, 737.0, 749.0, 755.0, 742.0, 662.0, 664.0, 413.0], \"type\": \"bar\"}, {\"x\": [\"2015-04-01T00:00:00.000Z\", \"2015-07-01T00:00:00.000Z\", \"2015-10-01T00:00:00.000Z\", \"2016-01-01T00:00:00.000Z\", \"2016-04-01T00:00:00.000Z\", \"2016-07-01T00:00:00.000Z\", \"2016-10-01T00:00:00.000Z\", \"2017-01-01T00:00:00.000Z\", \"2017-04-01T00:00:00.000Z\"], \"name\": \"Other\", \"y\": [503.0, 1004.0, 1212.0, 1325.0, 1207.0, 1242.0, 1019.0, 1067.0, 444.0], \"type\": \"bar\"}], {\"barmode\": \"stack\"}, {\"showLink\": true, \"linkText\": \"Export to plot.ly\"})});</script>"
      ]
     },
     "metadata": {},
     "output_type": "display_data"
    }
   ],
   "source": [
    "print_stacked_bar(df=authors_org_df, time_column='Time', value_column='# Contributors', group_column='Organization')"
   ]
  },
  {
   "cell_type": "markdown",
   "metadata": {},
   "source": [
    "#### Bugzilla"
   ]
  },
  {
   "cell_type": "code",
   "execution_count": 41,
   "metadata": {
    "collapsed": false
   },
   "outputs": [],
   "source": [
    "s = create_search(source='bugzilla')\n",
    "\n",
    "s = add_bot_filter(s)\n",
    "\n",
    "# Unique count of Commits by Project (max 100 projects)\n",
    "s = s.filter('range', creation_ts={'gt': 'now/M-2y', 'lt': 'now/M'})\n",
    "s.aggs.bucket('org', 'terms', field='author_org_name', size=10)\\\n",
    "    .bucket('time', 'date_histogram', field='creation_ts', interval='quarter')\\\n",
    "    .metric('contributors', 'cardinality', field='author_uuid', precision_threshold=100000)\n",
    "\n",
    "result = s.execute()\n",
    "\n",
    "authors_org_df = stack_by(result=result, group_column='Organization', time_column='Time', value_column='# Contributors',\\\n",
    "        group_field='org', time_field='time', value_field='contributors')"
   ]
  },
  {
   "cell_type": "code",
   "execution_count": 42,
   "metadata": {
    "collapsed": false
   },
   "outputs": [
    {
     "data": {
      "text/html": [
       "<script>requirejs.config({paths: { 'plotly': ['https://cdn.plot.ly/plotly-latest.min']},});if(!window.Plotly) {{require(['plotly'],function(plotly) {window.Plotly=plotly;});}}</script>"
      ],
      "text/vnd.plotly.v1+html": [
       "<script>requirejs.config({paths: { 'plotly': ['https://cdn.plot.ly/plotly-latest.min']},});if(!window.Plotly) {{require(['plotly'],function(plotly) {window.Plotly=plotly;});}}</script>"
      ]
     },
     "metadata": {},
     "output_type": "display_data"
    },
    {
     "data": {
      "application/vnd.plotly.v1+json": {
       "data": [
        {
         "name": "Mozilla Staff",
         "type": "bar",
         "x": [
          "2015-04-01T00:00:00.000Z",
          "2015-07-01T00:00:00.000Z",
          "2015-10-01T00:00:00.000Z",
          "2016-01-01T00:00:00.000Z",
          "2016-04-01T00:00:00.000Z",
          "2016-07-01T00:00:00.000Z",
          "2016-10-01T00:00:00.000Z",
          "2017-01-01T00:00:00.000Z",
          "2017-04-01T00:00:00.000Z"
         ],
         "y": [
          704,
          1000,
          924,
          872,
          848,
          810,
          753,
          797,
          578
         ]
        },
        {
         "name": "Community",
         "type": "bar",
         "x": [
          "2015-04-01T00:00:00.000Z",
          "2015-07-01T00:00:00.000Z",
          "2015-10-01T00:00:00.000Z",
          "2016-01-01T00:00:00.000Z",
          "2016-04-01T00:00:00.000Z",
          "2016-07-01T00:00:00.000Z",
          "2016-10-01T00:00:00.000Z",
          "2017-01-01T00:00:00.000Z",
          "2017-04-01T00:00:00.000Z"
         ],
         "y": [
          1245,
          3725,
          3349,
          3195,
          3037,
          2743,
          2566,
          2849,
          1081
         ]
        },
        {
         "name": "Mozilla Reps",
         "type": "bar",
         "x": [
          "2015-04-01T00:00:00.000Z",
          "2015-07-01T00:00:00.000Z",
          "2015-10-01T00:00:00.000Z",
          "2016-01-01T00:00:00.000Z",
          "2016-04-01T00:00:00.000Z",
          "2016-07-01T00:00:00.000Z",
          "2016-10-01T00:00:00.000Z",
          "2017-01-01T00:00:00.000Z",
          "2017-04-01T00:00:00.000Z"
         ],
         "y": [
          1,
          2,
          2,
          1,
          1,
          1,
          1,
          1,
          1
         ]
        }
       ],
       "layout": {
        "barmode": "stack"
       }
      },
      "text/html": [
       "<div id=\"a8d3c99f-ea01-493c-873a-02db42eb7983\" style=\"height: 525px; width: 100%;\" class=\"plotly-graph-div\"></div><script type=\"text/javascript\">require([\"plotly\"], function(Plotly) { window.PLOTLYENV=window.PLOTLYENV || {};window.PLOTLYENV.BASE_URL=\"https://plot.ly\";Plotly.newPlot(\"a8d3c99f-ea01-493c-873a-02db42eb7983\", [{\"x\": [\"2015-04-01T00:00:00.000Z\", \"2015-07-01T00:00:00.000Z\", \"2015-10-01T00:00:00.000Z\", \"2016-01-01T00:00:00.000Z\", \"2016-04-01T00:00:00.000Z\", \"2016-07-01T00:00:00.000Z\", \"2016-10-01T00:00:00.000Z\", \"2017-01-01T00:00:00.000Z\", \"2017-04-01T00:00:00.000Z\"], \"name\": \"Mozilla Staff\", \"y\": [704.0, 1000.0, 924.0, 872.0, 848.0, 810.0, 753.0, 797.0, 578.0], \"type\": \"bar\"}, {\"x\": [\"2015-04-01T00:00:00.000Z\", \"2015-07-01T00:00:00.000Z\", \"2015-10-01T00:00:00.000Z\", \"2016-01-01T00:00:00.000Z\", \"2016-04-01T00:00:00.000Z\", \"2016-07-01T00:00:00.000Z\", \"2016-10-01T00:00:00.000Z\", \"2017-01-01T00:00:00.000Z\", \"2017-04-01T00:00:00.000Z\"], \"name\": \"Community\", \"y\": [1245.0, 3725.0, 3349.0, 3195.0, 3037.0, 2743.0, 2566.0, 2849.0, 1081.0], \"type\": \"bar\"}, {\"x\": [\"2015-04-01T00:00:00.000Z\", \"2015-07-01T00:00:00.000Z\", \"2015-10-01T00:00:00.000Z\", \"2016-01-01T00:00:00.000Z\", \"2016-04-01T00:00:00.000Z\", \"2016-07-01T00:00:00.000Z\", \"2016-10-01T00:00:00.000Z\", \"2017-01-01T00:00:00.000Z\", \"2017-04-01T00:00:00.000Z\"], \"name\": \"Mozilla Reps\", \"y\": [1.0, 2.0, 2.0, 1.0, 1.0, 1.0, 1.0, 1.0, 1.0], \"type\": \"bar\"}], {\"barmode\": \"stack\"}, {\"showLink\": true, \"linkText\": \"Export to plot.ly\"})});</script>"
      ],
      "text/vnd.plotly.v1+html": [
       "<div id=\"a8d3c99f-ea01-493c-873a-02db42eb7983\" style=\"height: 525px; width: 100%;\" class=\"plotly-graph-div\"></div><script type=\"text/javascript\">require([\"plotly\"], function(Plotly) { window.PLOTLYENV=window.PLOTLYENV || {};window.PLOTLYENV.BASE_URL=\"https://plot.ly\";Plotly.newPlot(\"a8d3c99f-ea01-493c-873a-02db42eb7983\", [{\"x\": [\"2015-04-01T00:00:00.000Z\", \"2015-07-01T00:00:00.000Z\", \"2015-10-01T00:00:00.000Z\", \"2016-01-01T00:00:00.000Z\", \"2016-04-01T00:00:00.000Z\", \"2016-07-01T00:00:00.000Z\", \"2016-10-01T00:00:00.000Z\", \"2017-01-01T00:00:00.000Z\", \"2017-04-01T00:00:00.000Z\"], \"name\": \"Mozilla Staff\", \"y\": [704.0, 1000.0, 924.0, 872.0, 848.0, 810.0, 753.0, 797.0, 578.0], \"type\": \"bar\"}, {\"x\": [\"2015-04-01T00:00:00.000Z\", \"2015-07-01T00:00:00.000Z\", \"2015-10-01T00:00:00.000Z\", \"2016-01-01T00:00:00.000Z\", \"2016-04-01T00:00:00.000Z\", \"2016-07-01T00:00:00.000Z\", \"2016-10-01T00:00:00.000Z\", \"2017-01-01T00:00:00.000Z\", \"2017-04-01T00:00:00.000Z\"], \"name\": \"Community\", \"y\": [1245.0, 3725.0, 3349.0, 3195.0, 3037.0, 2743.0, 2566.0, 2849.0, 1081.0], \"type\": \"bar\"}, {\"x\": [\"2015-04-01T00:00:00.000Z\", \"2015-07-01T00:00:00.000Z\", \"2015-10-01T00:00:00.000Z\", \"2016-01-01T00:00:00.000Z\", \"2016-04-01T00:00:00.000Z\", \"2016-07-01T00:00:00.000Z\", \"2016-10-01T00:00:00.000Z\", \"2017-01-01T00:00:00.000Z\", \"2017-04-01T00:00:00.000Z\"], \"name\": \"Mozilla Reps\", \"y\": [1.0, 2.0, 2.0, 1.0, 1.0, 1.0, 1.0, 1.0, 1.0], \"type\": \"bar\"}], {\"barmode\": \"stack\"}, {\"showLink\": true, \"linkText\": \"Export to plot.ly\"})});</script>"
      ]
     },
     "metadata": {},
     "output_type": "display_data"
    }
   ],
   "source": [
    "print_stacked_bar(df=authors_org_df, time_column='Time', value_column='# Contributors', group_column='Organization')"
   ]
  },
  {
   "cell_type": "markdown",
   "metadata": {},
   "source": [
    "#### Contributors by gender\n",
    "**TODO**: Pending of running gender study over the data."
   ]
  },
  {
   "cell_type": "markdown",
   "metadata": {},
   "source": [
    "#### Number of contributors by gender over time\n",
    "**TODO**: Pending of running gender study over the data."
   ]
  },
  {
   "cell_type": "markdown",
   "metadata": {},
   "source": [
    "#### Time of first and last commit for each contributor\n",
    "**TODO** : provide plots similar to:\n",
    "Attracted developers: https://analytics.mozilla.community:443/goto/1be7d078d3dda22bf2ed097d8e465fb9\n",
    "Last commit developers: https://analytics.mozilla.community:443/goto/647ec69fc6b9d163827aa281ed3bee61"
   ]
  },
  {
   "cell_type": "markdown",
   "metadata": {},
   "source": [
    "#### Length of period of activity for each contributor\n"
   ]
  },
  {
   "cell_type": "markdown",
   "metadata": {},
   "source": [
    "#### Contributors by time zone (when possible)\n",
    "\n",
    "https://analytics.mozilla.community:443/goto/9e930eefe59a7c90331d922887b2aee6"
   ]
  },
  {
   "cell_type": "markdown",
   "metadata": {},
   "source": [
    "#### Contributors by city name (when possible)"
   ]
  }
 ],
 "metadata": {
  "kernelspec": {
   "display_name": "Python 3",
   "language": "python",
   "name": "python3"
  },
  "language_info": {
   "codemirror_mode": {
    "name": "ipython",
    "version": 3
   },
   "file_extension": ".py",
   "mimetype": "text/x-python",
   "name": "python",
   "nbconvert_exporter": "python",
   "pygments_lexer": "ipython3",
   "version": "3.5.2+"
  }
 },
 "nbformat": 4,
 "nbformat_minor": 1
}
