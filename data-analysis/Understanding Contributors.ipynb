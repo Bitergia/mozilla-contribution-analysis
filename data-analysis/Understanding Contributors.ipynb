{
 "cells": [
  {
   "cell_type": "markdown",
   "metadata": {},
   "source": [
    "## Goal: understanding contributors\n",
    "\n",
    "The term \"community\" in this context refers to the group of people contributing to Mozilla projects. Thus, this goal could be summarized as characterizing Mozilla community based on their contributors. A contributor will be understood as a person who performs an action that can be tracked in the set of considered data sources. For example: sending a commit, opening or closing a ticket. As they will be different depending on the data source, particular actions used in each analysis will be detailed within particular goals.\n",
    "\n",
    "The main objective of this goal is to determine a set of characteristics of contributors:\n",
    "\n",
    "  * Projects: to which projects they contribute.\n",
    "  * Organizations: to which organizations they are affiliated\n",
    "  * Gender: which one is their gender\n",
    "  * Age: which one is their \"age\" in the project (time contributing)\n",
    "  * Geographical origin: where do they come from"
   ]
  },
  {
   "cell_type": "markdown",
   "metadata": {},
   "source": [
    "Those goals can be refined in the following questions:\n",
    "\n",
    "**Questions**:\n",
    "\n",
    "* Which projects can be identified?\n",
    "* Which contributors have activity related to each project?\n",
    "* Which organizations can be identified?\n",
    "* Which contributors are affiliated to each organization?\n",
    "* Which of those contributors are hired by Mozilla, and which are not?\n",
    "* Which gender are contributors?\n",
    "* How long have been contributors contributing?\n",
    "* Where do contributors come from?\n",
    "\n",
    "These questions can be answered with the following metrics/data:\n",
    "\n",
    "**Metrics**:\n",
    "\n",
    "* List of projects\n",
    "* Contributors by project\n",
    "* Number of contributors by project over time\n",
    "* List of organizations\n",
    "* Contributors by organization\n",
    "* Number of contributors by organization over time\n",
    "* Contributors by groups: hired by Mozilla, the rest\n",
    "* Contributors by gender\n",
    "* Number of contributors by gender over time\n",
    "* Time of first and last commit for each contributor\n",
    "* Length of period of activity for each contributor\n",
    "* Contributors by time zone (when possible)\n",
    "* Contributors by city name (when possible)\n",
    "\n",
    "All the characeterizations of developers (by project, by organization, by hired by Mozilla/rest, by gender, by period of activity, by time zone, by city name) can be a discriminator / grouping factor for the metrics defined for the next goals. Most of these metrics can be made particular for each of the considered data sources."
   ]
  },
  {
   "cell_type": "markdown",
   "metadata": {},
   "source": [
    "### Metric Calculations\n",
    "First we need to load a connection against the proper ES instance. We use an external module to load credentials from a file that will not be shared. If you want to run this, please use your own credentials, just put them in a file named '.settings' (in the same directory as this notebook) following the example file 'settings.sample'.\n",
    "\n"
   ]
  },
  {
   "cell_type": "code",
   "execution_count": 25,
   "metadata": {
    "collapsed": false,
    "scrolled": false
   },
   "outputs": [],
   "source": [
    "import pandas\n",
    "\n",
    "import plotly as plotly\n",
    "import plotly.figure_factory as ff\n",
    "import plotly.graph_objs as go\n",
    "\n",
    "import util as ut\n",
    "\n",
    "from util import ESConnection\n",
    "from elasticsearch_dsl import Search\n",
    "\n",
    "\n",
    "es_conn = ESConnection()"
   ]
  },
  {
   "cell_type": "code",
   "execution_count": 2,
   "metadata": {
    "collapsed": true
   },
   "outputs": [],
   "source": [
    "def create_search(source):\n",
    "    s = Search(using=es_conn, index=source)\n",
    "    # TODO: Add bot and merges filtering.\n",
    "    #s = s.filter('range', grimoire_creation_date={'gt': 'now/M-2y', 'lt': 'now/M'})\n",
    "    s.params(timeout=30)\n",
    "    return s"
   ]
  },
  {
   "cell_type": "code",
   "execution_count": 3,
   "metadata": {
    "collapsed": true
   },
   "outputs": [],
   "source": [
    "def print_result(result):\n",
    "    \"\"\"In case you need to check query response, call this function\n",
    "    \"\"\"\n",
    "    print(result.to_dict()['aggregations'])"
   ]
  },
  {
   "cell_type": "code",
   "execution_count": 4,
   "metadata": {
    "collapsed": true
   },
   "outputs": [],
   "source": [
    "def print_df(result, group_field, value_field, group_column, value_column):\n",
    "    df = pandas.DataFrame()\n",
    "\n",
    "    df = df.from_dict(result.to_dict()['aggregations'][group_field]['buckets'])\n",
    "    df = df.drop('doc_count', axis=1)\n",
    "    df[value_field] = df[value_field].apply(lambda row: row['value'])\n",
    "    df=df[['key', value_field]]\n",
    "    df.columns = [group_column, value_column]\n",
    "\n",
    "    return df"
   ]
  },
  {
   "cell_type": "code",
   "execution_count": 5,
   "metadata": {
    "collapsed": true
   },
   "outputs": [],
   "source": [
    "def stack_by(result, group_column, time_column, value_column, group_field, time_field, value_field):\n",
    "    \"\"\"Creates a dataframe based on group and time values\n",
    "    \"\"\"\n",
    "    df = pandas.DataFrame(columns=[group_column, time_column, value_column])\n",
    "\n",
    "    for b in result.to_dict()['aggregations'][group_field]['buckets']:\n",
    "        for i in b[time_field]['buckets']:\n",
    "            df.loc[len(df)] = [b['key'], i['key_as_string'], i[value_field]['value']]\n",
    "    \n",
    "    return df"
   ]
  },
  {
   "cell_type": "code",
   "execution_count": 6,
   "metadata": {
    "collapsed": true
   },
   "outputs": [],
   "source": [
    "def stack_by_cusum(result, group_column, time_column, value_column, group_field, time_field, value_field,\\\n",
    "                   staff_org_names, staff_org):\n",
    "    authors_org_df = pandas.DataFrame(columns=[group_column, time_column, value_column])\n",
    "\n",
    "    for b in result.to_dict()['aggregations'][group_field]['buckets']:\n",
    "        key = b['key']\n",
    "        if key in staff_org_names:\n",
    "            key = staff_org\n",
    "        else:    \n",
    "            key  = 'Other'    \n",
    "\n",
    "        print(b['key'], '->' ,key)\n",
    "\n",
    "        for i in b[time_field]['buckets']:\n",
    "\n",
    "            time = i['key_as_string']\n",
    "            contributors = i[value_field]['value']\n",
    "\n",
    "            if key in authors_org_df[group_column].unique() \\\n",
    "                and time in authors_org_df[authors_org_df[group_column] == key][time_column].tolist():\n",
    "\n",
    "                authors_org_df.loc[(authors_org_df[group_column] == key) \\\n",
    "                                     & (authors_org_df[time_column] == time),\\\n",
    "                                   value_column] += contributors\n",
    "                #print('1', key,  time, contributors)\n",
    "\n",
    "            else:\n",
    "                authors_org_df.loc[len(authors_org_df)] = [key, time, contributors]\n",
    "                #print('2', key,  time, contributors)\n",
    "    \n",
    "    return authors_org_df\n"
   ]
  },
  {
   "cell_type": "code",
   "execution_count": 7,
   "metadata": {
    "collapsed": true
   },
   "outputs": [],
   "source": [
    "def print_stacked_bar(df, time_column, value_column, group_column):\n",
    "    \"\"\"Print stacked bar chart from dataframe based on time_field,\n",
    "    grouped by group field.\n",
    "    \"\"\"\n",
    "    plotly.offline.init_notebook_mode(connected=True)\n",
    "\n",
    "    bars = []\n",
    "    for group in df[group_column].unique():\n",
    "        group_slice_df = df.loc[df[group_column] == group]\n",
    "        bars.append(go.Bar(\n",
    "            x=group_slice_df[time_column].tolist(),\n",
    "            y=group_slice_df[value_column].tolist(),\n",
    "            name=group))\n",
    "\n",
    "    layout = go.Layout(\n",
    "        barmode='stack'\n",
    "    )\n",
    "\n",
    "    fig = go.Figure(data=bars, layout=layout)\n",
    "    plotly.offline.iplot(fig, filename='stacked-bar')"
   ]
  },
  {
   "cell_type": "code",
   "execution_count": 35,
   "metadata": {
    "collapsed": true
   },
   "outputs": [],
   "source": [
    "def add_general_date_filters(s):\n",
    "    # 01/01/1998\n",
    "    initial_ts = '883609200000'\n",
    "    return s.filter('range', grimoire_creation_date={'gt': initial_ts})\n",
    "\n",
    "def add_bot_filter(s):\n",
    "    return s.filter('term', author_bot='false')\n",
    "\n",
    "def add_merges_filter(s):\n",
    "    return s.filter('range', files={'gt': 0})\n",
    "\n",
    "# Let's load projects from the REVIEWED SPREADSHEET\n",
    "projects = ut.read_projects(\"data/Contributors and Communities Analysis - Project grouping.xlsx\")"
   ]
  },
  {
   "cell_type": "markdown",
   "metadata": {},
   "source": [
    "#### List of Projects\n",
    "\n",
    "To get the list of projects we will query ES to retrieve the unique count of commits for each project. To do that, we bucketize data based on 'project' field (to a maximum of 100 projects, given by 'size' parameter set below)."
   ]
  },
  {
   "cell_type": "code",
   "execution_count": 36,
   "metadata": {
    "collapsed": false
   },
   "outputs": [],
   "source": [
    "s = create_search(source='git')\n",
    "\n",
    "# General filters\n",
    "s = add_general_date_filters(s)\n",
    "s = add_bot_filter(s)\n",
    "s = add_merges_filter(s)\n",
    "\n",
    "# Unique count of Commits by Project (max 100 projects)\n",
    "s.aggs.bucket('projects', 'terms', field='project', size=100)\\\n",
    "    .metric('commits', 'cardinality', field='hash', precision_threshold=100000)\n",
    "result = s.execute()"
   ]
  },
  {
   "cell_type": "code",
   "execution_count": 37,
   "metadata": {
    "collapsed": false
   },
   "outputs": [
    {
     "data": {
      "text/html": [
       "<div>\n",
       "<table border=\"1\" class=\"dataframe\">\n",
       "  <thead>\n",
       "    <tr style=\"text-align: right;\">\n",
       "      <th></th>\n",
       "      <th>Project</th>\n",
       "      <th># Commits</th>\n",
       "    </tr>\n",
       "  </thead>\n",
       "  <tbody>\n",
       "    <tr>\n",
       "      <th>0</th>\n",
       "      <td>mozilla</td>\n",
       "      <td>1710816</td>\n",
       "    </tr>\n",
       "    <tr>\n",
       "      <th>1</th>\n",
       "      <td>mozilla-services</td>\n",
       "      <td>137573</td>\n",
       "    </tr>\n",
       "    <tr>\n",
       "      <th>2</th>\n",
       "      <td>rust-lang</td>\n",
       "      <td>66434</td>\n",
       "    </tr>\n",
       "    <tr>\n",
       "      <th>3</th>\n",
       "      <td>servo</td>\n",
       "      <td>64383</td>\n",
       "    </tr>\n",
       "    <tr>\n",
       "      <th>4</th>\n",
       "      <td>mdn</td>\n",
       "      <td>12256</td>\n",
       "    </tr>\n",
       "    <tr>\n",
       "      <th>5</th>\n",
       "      <td>moztw</td>\n",
       "      <td>7729</td>\n",
       "    </tr>\n",
       "    <tr>\n",
       "      <th>6</th>\n",
       "      <td>mozilla-mobile</td>\n",
       "      <td>8325</td>\n",
       "    </tr>\n",
       "    <tr>\n",
       "      <th>7</th>\n",
       "      <td>aframevr</td>\n",
       "      <td>5637</td>\n",
       "    </tr>\n",
       "    <tr>\n",
       "      <th>8</th>\n",
       "      <td>mozmar</td>\n",
       "      <td>5388</td>\n",
       "    </tr>\n",
       "    <tr>\n",
       "      <th>9</th>\n",
       "      <td>mozilla-japan</td>\n",
       "      <td>4794</td>\n",
       "    </tr>\n",
       "    <tr>\n",
       "      <th>10</th>\n",
       "      <td>MozillaCZ</td>\n",
       "      <td>4024</td>\n",
       "    </tr>\n",
       "    <tr>\n",
       "      <th>11</th>\n",
       "      <td>mozillascience</td>\n",
       "      <td>3575</td>\n",
       "    </tr>\n",
       "    <tr>\n",
       "      <th>12</th>\n",
       "      <td>Mozilla-TWQA</td>\n",
       "      <td>2924</td>\n",
       "    </tr>\n",
       "    <tr>\n",
       "      <th>13</th>\n",
       "      <td>mozillach</td>\n",
       "      <td>2604</td>\n",
       "    </tr>\n",
       "    <tr>\n",
       "      <th>14</th>\n",
       "      <td>mozillabrasil</td>\n",
       "      <td>1786</td>\n",
       "    </tr>\n",
       "    <tr>\n",
       "      <th>15</th>\n",
       "      <td>browserhtml</td>\n",
       "      <td>1543</td>\n",
       "    </tr>\n",
       "    <tr>\n",
       "      <th>16</th>\n",
       "      <td>mozfr</td>\n",
       "      <td>1514</td>\n",
       "    </tr>\n",
       "    <tr>\n",
       "      <th>17</th>\n",
       "      <td>mozillahispano</td>\n",
       "      <td>1470</td>\n",
       "    </tr>\n",
       "    <tr>\n",
       "      <th>18</th>\n",
       "      <td>MozVR</td>\n",
       "      <td>1360</td>\n",
       "    </tr>\n",
       "    <tr>\n",
       "      <th>19</th>\n",
       "      <td>MozillaTN</td>\n",
       "      <td>1185</td>\n",
       "    </tr>\n",
       "    <tr>\n",
       "      <th>20</th>\n",
       "      <td>MozillaFoundation</td>\n",
       "      <td>1069</td>\n",
       "    </tr>\n",
       "    <tr>\n",
       "      <th>21</th>\n",
       "      <td>MozillaKerala</td>\n",
       "      <td>915</td>\n",
       "    </tr>\n",
       "    <tr>\n",
       "      <th>22</th>\n",
       "      <td>mozdevs</td>\n",
       "      <td>828</td>\n",
       "    </tr>\n",
       "    <tr>\n",
       "      <th>23</th>\n",
       "      <td>mozillaitalia</td>\n",
       "      <td>415</td>\n",
       "    </tr>\n",
       "    <tr>\n",
       "      <th>24</th>\n",
       "      <td>mozillaperu</td>\n",
       "      <td>133</td>\n",
       "    </tr>\n",
       "    <tr>\n",
       "      <th>25</th>\n",
       "      <td>mozillavenezuela</td>\n",
       "      <td>47</td>\n",
       "    </tr>\n",
       "    <tr>\n",
       "      <th>26</th>\n",
       "      <td>mozillacampusclubs</td>\n",
       "      <td>30</td>\n",
       "    </tr>\n",
       "    <tr>\n",
       "      <th>27</th>\n",
       "      <td>mozillaph</td>\n",
       "      <td>29</td>\n",
       "    </tr>\n",
       "  </tbody>\n",
       "</table>\n",
       "</div>"
      ],
      "text/plain": [
       "               Project  # Commits\n",
       "0              mozilla    1710816\n",
       "1     mozilla-services     137573\n",
       "2            rust-lang      66434\n",
       "3                servo      64383\n",
       "4                  mdn      12256\n",
       "5                moztw       7729\n",
       "6       mozilla-mobile       8325\n",
       "7             aframevr       5637\n",
       "8               mozmar       5388\n",
       "9        mozilla-japan       4794\n",
       "10           MozillaCZ       4024\n",
       "11      mozillascience       3575\n",
       "12        Mozilla-TWQA       2924\n",
       "13           mozillach       2604\n",
       "14       mozillabrasil       1786\n",
       "15         browserhtml       1543\n",
       "16               mozfr       1514\n",
       "17      mozillahispano       1470\n",
       "18               MozVR       1360\n",
       "19           MozillaTN       1185\n",
       "20   MozillaFoundation       1069\n",
       "21       MozillaKerala        915\n",
       "22             mozdevs        828\n",
       "23       mozillaitalia        415\n",
       "24         mozillaperu        133\n",
       "25    mozillavenezuela         47\n",
       "26  mozillacampusclubs         30\n",
       "27           mozillaph         29"
      ]
     },
     "execution_count": 37,
     "metadata": {},
     "output_type": "execute_result"
    }
   ],
   "source": [
    "print_df(result=result, group_field='projects', value_field='commits', \\\n",
    "         group_column='Project', value_column='# Commits')"
   ]
  },
  {
   "cell_type": "code",
   "execution_count": 38,
   "metadata": {
    "collapsed": false
   },
   "outputs": [],
   "source": [
    "s = create_search(source='git')\n",
    "\n",
    "# General filters\n",
    "s = add_general_date_filters(s)\n",
    "s = add_bot_filter(s)\n",
    "s = add_merges_filter(s)\n",
    "\n",
    "# Unique count of Commits by Project (max 100 projects)\n",
    "s.aggs.bucket('repos', 'terms', field='repo_name', size=100000)\\\n",
    "    .metric('commits', 'cardinality', field='hash', precision_threshold=100000)\n",
    "result = s.execute()"
   ]
  },
  {
   "cell_type": "code",
   "execution_count": 39,
   "metadata": {
    "collapsed": false,
    "scrolled": true
   },
   "outputs": [
    {
     "data": {
      "text/html": [
       "<script>requirejs.config({paths: { 'plotly': ['https://cdn.plot.ly/plotly-latest.min']},});if(!window.Plotly) {{require(['plotly'],function(plotly) {window.Plotly=plotly;});}}</script>"
      ],
      "text/vnd.plotly.v1+html": [
       "<script>requirejs.config({paths: { 'plotly': ['https://cdn.plot.ly/plotly-latest.min']},});if(!window.Plotly) {{require(['plotly'],function(plotly) {window.Plotly=plotly;});}}</script>"
      ]
     },
     "metadata": {},
     "output_type": "display_data"
    },
    {
     "data": {
      "application/vnd.plotly.v1+json": {
       "data": [
        {
         "colorscale": [
          [
           0,
           "#00083e"
          ],
          [
           0.5,
           "#ededee"
          ],
          [
           1,
           "#ffffff"
          ]
         ],
         "hoverinfo": "none",
         "opacity": 0.75,
         "showscale": false,
         "type": "heatmap",
         "z": [
          [
           0,
           0,
           0
          ],
          [
           0.5,
           0.5,
           0.5
          ],
          [
           1,
           1,
           1
          ],
          [
           0.5,
           0.5,
           0.5
          ],
          [
           1,
           1,
           1
          ],
          [
           0.5,
           0.5,
           0.5
          ],
          [
           1,
           1,
           1
          ],
          [
           0.5,
           0.5,
           0.5
          ],
          [
           1,
           1,
           1
          ],
          [
           0.5,
           0.5,
           0.5
          ],
          [
           1,
           1,
           1
          ],
          [
           0.5,
           0.5,
           0.5
          ],
          [
           1,
           1,
           1
          ],
          [
           0.5,
           0.5,
           0.5
          ],
          [
           1,
           1,
           1
          ],
          [
           0.5,
           0.5,
           0.5
          ],
          [
           1,
           1,
           1
          ],
          [
           0.5,
           0.5,
           0.5
          ],
          [
           1,
           1,
           1
          ],
          [
           0.5,
           0.5,
           0.5
          ],
          [
           1,
           1,
           1
          ],
          [
           0.5,
           0.5,
           0.5
          ],
          [
           1,
           1,
           1
          ],
          [
           0.5,
           0.5,
           0.5
          ],
          [
           1,
           1,
           1
          ],
          [
           0.5,
           0.5,
           0.5
          ],
          [
           1,
           1,
           1
          ],
          [
           0.5,
           0.5,
           0.5
          ],
          [
           1,
           1,
           1
          ],
          [
           0.5,
           0.5,
           0.5
          ],
          [
           1,
           1,
           1
          ],
          [
           0.5,
           0.5,
           0.5
          ],
          [
           1,
           1,
           1
          ]
         ]
        }
       ],
       "layout": {
        "annotations": [
         {
          "align": "left",
          "font": {
           "color": "#ffffff"
          },
          "showarrow": false,
          "text": "<b>Project</b>",
          "x": -0.45,
          "xanchor": "left",
          "xref": "x1",
          "y": 0,
          "yref": "y1"
         },
         {
          "align": "left",
          "font": {
           "color": "#ffffff"
          },
          "showarrow": false,
          "text": "<b># Commits</b>",
          "x": 0.55,
          "xanchor": "left",
          "xref": "x1",
          "y": 0,
          "yref": "y1"
         },
         {
          "align": "left",
          "font": {
           "color": "#ffffff"
          },
          "showarrow": false,
          "text": "<b>Repo</b>",
          "x": 1.55,
          "xanchor": "left",
          "xref": "x1",
          "y": 0,
          "yref": "y1"
         },
         {
          "align": "left",
          "font": {
           "color": "#000000"
          },
          "showarrow": false,
          "text": "Gecko",
          "x": -0.45,
          "xanchor": "left",
          "xref": "x1",
          "y": 1,
          "yref": "y1"
         },
         {
          "align": "left",
          "font": {
           "color": "#000000"
          },
          "showarrow": false,
          "text": "1342588",
          "x": 0.55,
          "xanchor": "left",
          "xref": "x1",
          "y": 1,
          "yref": "y1"
         },
         {
          "align": "left",
          "font": {
           "color": "#000000"
          },
          "showarrow": false,
          "text": "5",
          "x": 1.55,
          "xanchor": "left",
          "xref": "x1",
          "y": 1,
          "yref": "y1"
         },
         {
          "align": "left",
          "font": {
           "color": "#000000"
          },
          "showarrow": false,
          "text": "IT/Ops",
          "x": -0.45,
          "xanchor": "left",
          "xref": "x1",
          "y": 2,
          "yref": "y1"
         },
         {
          "align": "left",
          "font": {
           "color": "#000000"
          },
          "showarrow": false,
          "text": "142280",
          "x": 0.55,
          "xanchor": "left",
          "xref": "x1",
          "y": 2,
          "yref": "y1"
         },
         {
          "align": "left",
          "font": {
           "color": "#000000"
          },
          "showarrow": false,
          "text": "183",
          "x": 1.55,
          "xanchor": "left",
          "xref": "x1",
          "y": 2,
          "yref": "y1"
         },
         {
          "align": "left",
          "font": {
           "color": "#000000"
          },
          "showarrow": false,
          "text": "Web Properties",
          "x": -0.45,
          "xanchor": "left",
          "xref": "x1",
          "y": 3,
          "yref": "y1"
         },
         {
          "align": "left",
          "font": {
           "color": "#000000"
          },
          "showarrow": false,
          "text": "87068",
          "x": 0.55,
          "xanchor": "left",
          "xref": "x1",
          "y": 3,
          "yref": "y1"
         },
         {
          "align": "left",
          "font": {
           "color": "#000000"
          },
          "showarrow": false,
          "text": "115",
          "x": 1.55,
          "xanchor": "left",
          "xref": "x1",
          "y": 3,
          "yref": "y1"
         },
         {
          "align": "left",
          "font": {
           "color": "#000000"
          },
          "showarrow": false,
          "text": "Rust",
          "x": -0.45,
          "xanchor": "left",
          "xref": "x1",
          "y": 4,
          "yref": "y1"
         },
         {
          "align": "left",
          "font": {
           "color": "#000000"
          },
          "showarrow": false,
          "text": "66316",
          "x": 0.55,
          "xanchor": "left",
          "xref": "x1",
          "y": 4,
          "yref": "y1"
         },
         {
          "align": "left",
          "font": {
           "color": "#000000"
          },
          "showarrow": false,
          "text": "27",
          "x": 1.55,
          "xanchor": "left",
          "xref": "x1",
          "y": 4,
          "yref": "y1"
         },
         {
          "align": "left",
          "font": {
           "color": "#000000"
          },
          "showarrow": false,
          "text": "Servo",
          "x": -0.45,
          "xanchor": "left",
          "xref": "x1",
          "y": 5,
          "yref": "y1"
         },
         {
          "align": "left",
          "font": {
           "color": "#000000"
          },
          "showarrow": false,
          "text": "65966",
          "x": 0.55,
          "xanchor": "left",
          "xref": "x1",
          "y": 5,
          "yref": "y1"
         },
         {
          "align": "left",
          "font": {
           "color": "#000000"
          },
          "showarrow": false,
          "text": "81",
          "x": 1.55,
          "xanchor": "left",
          "xref": "x1",
          "y": 5,
          "yref": "y1"
         },
         {
          "align": "left",
          "font": {
           "color": "#000000"
          },
          "showarrow": false,
          "text": "Addons/Web Extensions",
          "x": -0.45,
          "xanchor": "left",
          "xref": "x1",
          "y": 6,
          "yref": "y1"
         },
         {
          "align": "left",
          "font": {
           "color": "#000000"
          },
          "showarrow": false,
          "text": "61574",
          "x": 0.55,
          "xanchor": "left",
          "xref": "x1",
          "y": 6,
          "yref": "y1"
         },
         {
          "align": "left",
          "font": {
           "color": "#000000"
          },
          "showarrow": false,
          "text": "19",
          "x": 1.55,
          "xanchor": "left",
          "xref": "x1",
          "y": 6,
          "yref": "y1"
         },
         {
          "align": "left",
          "font": {
           "color": "#000000"
          },
          "showarrow": false,
          "text": "Mozilla Local/Regional communities",
          "x": -0.45,
          "xanchor": "left",
          "xref": "x1",
          "y": 7,
          "yref": "y1"
         },
         {
          "align": "left",
          "font": {
           "color": "#000000"
          },
          "showarrow": false,
          "text": "17407",
          "x": 0.55,
          "xanchor": "left",
          "xref": "x1",
          "y": 7,
          "yref": "y1"
         },
         {
          "align": "left",
          "font": {
           "color": "#000000"
          },
          "showarrow": false,
          "text": "165",
          "x": 1.55,
          "xanchor": "left",
          "xref": "x1",
          "y": 7,
          "yref": "y1"
         },
         {
          "align": "left",
          "font": {
           "color": "#000000"
          },
          "showarrow": false,
          "text": "Release engineering",
          "x": -0.45,
          "xanchor": "left",
          "xref": "x1",
          "y": 8,
          "yref": "y1"
         },
         {
          "align": "left",
          "font": {
           "color": "#000000"
          },
          "showarrow": false,
          "text": "15740",
          "x": 0.55,
          "xanchor": "left",
          "xref": "x1",
          "y": 8,
          "yref": "y1"
         },
         {
          "align": "left",
          "font": {
           "color": "#000000"
          },
          "showarrow": false,
          "text": "22",
          "x": 1.55,
          "xanchor": "left",
          "xref": "x1",
          "y": 8,
          "yref": "y1"
         },
         {
          "align": "left",
          "font": {
           "color": "#000000"
          },
          "showarrow": false,
          "text": "Web Literacy",
          "x": -0.45,
          "xanchor": "left",
          "xref": "x1",
          "y": 9,
          "yref": "y1"
         },
         {
          "align": "left",
          "font": {
           "color": "#000000"
          },
          "showarrow": false,
          "text": "13917",
          "x": 0.55,
          "xanchor": "left",
          "xref": "x1",
          "y": 9,
          "yref": "y1"
         },
         {
          "align": "left",
          "font": {
           "color": "#000000"
          },
          "showarrow": false,
          "text": "52",
          "x": 1.55,
          "xanchor": "left",
          "xref": "x1",
          "y": 9,
          "yref": "y1"
         },
         {
          "align": "left",
          "font": {
           "color": "#000000"
          },
          "showarrow": false,
          "text": "Firefox OS (FxOS / B2G)",
          "x": -0.45,
          "xanchor": "left",
          "xref": "x1",
          "y": 10,
          "yref": "y1"
         },
         {
          "align": "left",
          "font": {
           "color": "#000000"
          },
          "showarrow": false,
          "text": "7056",
          "x": 0.55,
          "xanchor": "left",
          "xref": "x1",
          "y": 10,
          "yref": "y1"
         },
         {
          "align": "left",
          "font": {
           "color": "#000000"
          },
          "showarrow": false,
          "text": "26",
          "x": 1.55,
          "xanchor": "left",
          "xref": "x1",
          "y": 10,
          "yref": "y1"
         },
         {
          "align": "left",
          "font": {
           "color": "#000000"
          },
          "showarrow": false,
          "text": "WebVR",
          "x": -0.45,
          "xanchor": "left",
          "xref": "x1",
          "y": 11,
          "yref": "y1"
         },
         {
          "align": "left",
          "font": {
           "color": "#000000"
          },
          "showarrow": false,
          "text": "6964",
          "x": 0.55,
          "xanchor": "left",
          "xref": "x1",
          "y": 11,
          "yref": "y1"
         },
         {
          "align": "left",
          "font": {
           "color": "#000000"
          },
          "showarrow": false,
          "text": "30",
          "x": 1.55,
          "xanchor": "left",
          "xref": "x1",
          "y": 11,
          "yref": "y1"
         },
         {
          "align": "left",
          "font": {
           "color": "#000000"
          },
          "showarrow": false,
          "text": "Firefox iOS",
          "x": -0.45,
          "xanchor": "left",
          "xref": "x1",
          "y": 12,
          "yref": "y1"
         },
         {
          "align": "left",
          "font": {
           "color": "#000000"
          },
          "showarrow": false,
          "text": "6219",
          "x": 0.55,
          "xanchor": "left",
          "xref": "x1",
          "y": 12,
          "yref": "y1"
         },
         {
          "align": "left",
          "font": {
           "color": "#000000"
          },
          "showarrow": false,
          "text": "5",
          "x": 1.55,
          "xanchor": "left",
          "xref": "x1",
          "y": 12,
          "yref": "y1"
         },
         {
          "align": "left",
          "font": {
           "color": "#000000"
          },
          "showarrow": false,
          "text": "Quality Assurance",
          "x": -0.45,
          "xanchor": "left",
          "xref": "x1",
          "y": 13,
          "yref": "y1"
         },
         {
          "align": "left",
          "font": {
           "color": "#000000"
          },
          "showarrow": false,
          "text": "4884",
          "x": 0.55,
          "xanchor": "left",
          "xref": "x1",
          "y": 13,
          "yref": "y1"
         },
         {
          "align": "left",
          "font": {
           "color": "#000000"
          },
          "showarrow": false,
          "text": "3",
          "x": 1.55,
          "xanchor": "left",
          "xref": "x1",
          "y": 13,
          "yref": "y1"
         },
         {
          "align": "left",
          "font": {
           "color": "#000000"
          },
          "showarrow": false,
          "text": "Marketing / Social Media",
          "x": -0.45,
          "xanchor": "left",
          "xref": "x1",
          "y": 14,
          "yref": "y1"
         },
         {
          "align": "left",
          "font": {
           "color": "#000000"
          },
          "showarrow": false,
          "text": "3807",
          "x": 0.55,
          "xanchor": "left",
          "xref": "x1",
          "y": 14,
          "yref": "y1"
         },
         {
          "align": "left",
          "font": {
           "color": "#000000"
          },
          "showarrow": false,
          "text": "15",
          "x": 1.55,
          "xanchor": "left",
          "xref": "x1",
          "y": 14,
          "yref": "y1"
         },
         {
          "align": "left",
          "font": {
           "color": "#000000"
          },
          "showarrow": false,
          "text": "Mozilla Developer Network (MDN)",
          "x": -0.45,
          "xanchor": "left",
          "xref": "x1",
          "y": 15,
          "yref": "y1"
         },
         {
          "align": "left",
          "font": {
           "color": "#000000"
          },
          "showarrow": false,
          "text": "3571",
          "x": 0.55,
          "xanchor": "left",
          "xref": "x1",
          "y": 15,
          "yref": "y1"
         },
         {
          "align": "left",
          "font": {
           "color": "#000000"
          },
          "showarrow": false,
          "text": "48",
          "x": 1.55,
          "xanchor": "left",
          "xref": "x1",
          "y": 15,
          "yref": "y1"
         },
         {
          "align": "left",
          "font": {
           "color": "#000000"
          },
          "showarrow": false,
          "text": "Mozilla Science",
          "x": -0.45,
          "xanchor": "left",
          "xref": "x1",
          "y": 16,
          "yref": "y1"
         },
         {
          "align": "left",
          "font": {
           "color": "#000000"
          },
          "showarrow": false,
          "text": "3541",
          "x": 0.55,
          "xanchor": "left",
          "xref": "x1",
          "y": 16,
          "yref": "y1"
         },
         {
          "align": "left",
          "font": {
           "color": "#000000"
          },
          "showarrow": false,
          "text": "36",
          "x": 1.55,
          "xanchor": "left",
          "xref": "x1",
          "y": 16,
          "yref": "y1"
         },
         {
          "align": "left",
          "font": {
           "color": "#000000"
          },
          "showarrow": false,
          "text": "Test Pilot",
          "x": -0.45,
          "xanchor": "left",
          "xref": "x1",
          "y": 17,
          "yref": "y1"
         },
         {
          "align": "left",
          "font": {
           "color": "#000000"
          },
          "showarrow": false,
          "text": "3274",
          "x": 0.55,
          "xanchor": "left",
          "xref": "x1",
          "y": 17,
          "yref": "y1"
         },
         {
          "align": "left",
          "font": {
           "color": "#000000"
          },
          "showarrow": false,
          "text": "6",
          "x": 1.55,
          "xanchor": "left",
          "xref": "x1",
          "y": 17,
          "yref": "y1"
         },
         {
          "align": "left",
          "font": {
           "color": "#000000"
          },
          "showarrow": false,
          "text": "Localization",
          "x": -0.45,
          "xanchor": "left",
          "xref": "x1",
          "y": 18,
          "yref": "y1"
         },
         {
          "align": "left",
          "font": {
           "color": "#000000"
          },
          "showarrow": false,
          "text": "2101",
          "x": 0.55,
          "xanchor": "left",
          "xref": "x1",
          "y": 18,
          "yref": "y1"
         },
         {
          "align": "left",
          "font": {
           "color": "#000000"
          },
          "showarrow": false,
          "text": "4",
          "x": 1.55,
          "xanchor": "left",
          "xref": "x1",
          "y": 18,
          "yref": "y1"
         },
         {
          "align": "left",
          "font": {
           "color": "#000000"
          },
          "showarrow": false,
          "text": "Mozilla Location Service (MLS) / Stumbler",
          "x": -0.45,
          "xanchor": "left",
          "xref": "x1",
          "y": 19,
          "yref": "y1"
         },
         {
          "align": "left",
          "font": {
           "color": "#000000"
          },
          "showarrow": false,
          "text": "1967",
          "x": 0.55,
          "xanchor": "left",
          "xref": "x1",
          "y": 19,
          "yref": "y1"
         },
         {
          "align": "left",
          "font": {
           "color": "#000000"
          },
          "showarrow": false,
          "text": "1",
          "x": 1.55,
          "xanchor": "left",
          "xref": "x1",
          "y": 19,
          "yref": "y1"
         },
         {
          "align": "left",
          "font": {
           "color": "#000000"
          },
          "showarrow": false,
          "text": "Firefox",
          "x": -0.45,
          "xanchor": "left",
          "xref": "x1",
          "y": 20,
          "yref": "y1"
         },
         {
          "align": "left",
          "font": {
           "color": "#000000"
          },
          "showarrow": false,
          "text": "1533",
          "x": 0.55,
          "xanchor": "left",
          "xref": "x1",
          "y": 20,
          "yref": "y1"
         },
         {
          "align": "left",
          "font": {
           "color": "#000000"
          },
          "showarrow": false,
          "text": "1",
          "x": 1.55,
          "xanchor": "left",
          "xref": "x1",
          "y": 20,
          "yref": "y1"
         },
         {
          "align": "left",
          "font": {
           "color": "#000000"
          },
          "showarrow": false,
          "text": "Advocacy and policy",
          "x": -0.45,
          "xanchor": "left",
          "xref": "x1",
          "y": 21,
          "yref": "y1"
         },
         {
          "align": "left",
          "font": {
           "color": "#000000"
          },
          "showarrow": false,
          "text": "1478",
          "x": 0.55,
          "xanchor": "left",
          "xref": "x1",
          "y": 21,
          "yref": "y1"
         },
         {
          "align": "left",
          "font": {
           "color": "#000000"
          },
          "showarrow": false,
          "text": "4",
          "x": 1.55,
          "xanchor": "left",
          "xref": "x1",
          "y": 21,
          "yref": "y1"
         },
         {
          "align": "left",
          "font": {
           "color": "#000000"
          },
          "showarrow": false,
          "text": "Mozilla Foundation",
          "x": -0.45,
          "xanchor": "left",
          "xref": "x1",
          "y": 22,
          "yref": "y1"
         },
         {
          "align": "left",
          "font": {
           "color": "#000000"
          },
          "showarrow": false,
          "text": "1390",
          "x": 0.55,
          "xanchor": "left",
          "xref": "x1",
          "y": 22,
          "yref": "y1"
         },
         {
          "align": "left",
          "font": {
           "color": "#000000"
          },
          "showarrow": false,
          "text": "41",
          "x": 1.55,
          "xanchor": "left",
          "xref": "x1",
          "y": 22,
          "yref": "y1"
         },
         {
          "align": "left",
          "font": {
           "color": "#000000"
          },
          "showarrow": false,
          "text": "Firefox Focus",
          "x": -0.45,
          "xanchor": "left",
          "xref": "x1",
          "y": 23,
          "yref": "y1"
         },
         {
          "align": "left",
          "font": {
           "color": "#000000"
          },
          "showarrow": false,
          "text": "990",
          "x": 0.55,
          "xanchor": "left",
          "xref": "x1",
          "y": 23,
          "yref": "y1"
         },
         {
          "align": "left",
          "font": {
           "color": "#000000"
          },
          "showarrow": false,
          "text": "2",
          "x": 1.55,
          "xanchor": "left",
          "xref": "x1",
          "y": 23,
          "yref": "y1"
         },
         {
          "align": "left",
          "font": {
           "color": "#000000"
          },
          "showarrow": false,
          "text": "Technical/Developer Evangelism",
          "x": -0.45,
          "xanchor": "left",
          "xref": "x1",
          "y": 24,
          "yref": "y1"
         },
         {
          "align": "left",
          "font": {
           "color": "#000000"
          },
          "showarrow": false,
          "text": "857",
          "x": 0.55,
          "xanchor": "left",
          "xref": "x1",
          "y": 24,
          "yref": "y1"
         },
         {
          "align": "left",
          "font": {
           "color": "#000000"
          },
          "showarrow": false,
          "text": "17",
          "x": 1.55,
          "xanchor": "left",
          "xref": "x1",
          "y": 24,
          "yref": "y1"
         },
         {
          "align": "left",
          "font": {
           "color": "#000000"
          },
          "showarrow": false,
          "text": "Vaani",
          "x": -0.45,
          "xanchor": "left",
          "xref": "x1",
          "y": 25,
          "yref": "y1"
         },
         {
          "align": "left",
          "font": {
           "color": "#000000"
          },
          "showarrow": false,
          "text": "472",
          "x": 0.55,
          "xanchor": "left",
          "xref": "x1",
          "y": 25,
          "yref": "y1"
         },
         {
          "align": "left",
          "font": {
           "color": "#000000"
          },
          "showarrow": false,
          "text": "8",
          "x": 1.55,
          "xanchor": "left",
          "xref": "x1",
          "y": 25,
          "yref": "y1"
         },
         {
          "align": "left",
          "font": {
           "color": "#000000"
          },
          "showarrow": false,
          "text": "Deep Speech",
          "x": -0.45,
          "xanchor": "left",
          "xref": "x1",
          "y": 26,
          "yref": "y1"
         },
         {
          "align": "left",
          "font": {
           "color": "#000000"
          },
          "showarrow": false,
          "text": "362",
          "x": 0.55,
          "xanchor": "left",
          "xref": "x1",
          "y": 26,
          "yref": "y1"
         },
         {
          "align": "left",
          "font": {
           "color": "#000000"
          },
          "showarrow": false,
          "text": "1",
          "x": 1.55,
          "xanchor": "left",
          "xref": "x1",
          "y": 26,
          "yref": "y1"
         },
         {
          "align": "left",
          "font": {
           "color": "#000000"
          },
          "showarrow": false,
          "text": "Developer Tools",
          "x": -0.45,
          "xanchor": "left",
          "xref": "x1",
          "y": 27,
          "yref": "y1"
         },
         {
          "align": "left",
          "font": {
           "color": "#000000"
          },
          "showarrow": false,
          "text": "327",
          "x": 0.55,
          "xanchor": "left",
          "xref": "x1",
          "y": 27,
          "yref": "y1"
         },
         {
          "align": "left",
          "font": {
           "color": "#000000"
          },
          "showarrow": false,
          "text": "4",
          "x": 1.55,
          "xanchor": "left",
          "xref": "x1",
          "y": 27,
          "yref": "y1"
         },
         {
          "align": "left",
          "font": {
           "color": "#000000"
          },
          "showarrow": false,
          "text": "Connected devices & IoT",
          "x": -0.45,
          "xanchor": "left",
          "xref": "x1",
          "y": 28,
          "yref": "y1"
         },
         {
          "align": "left",
          "font": {
           "color": "#000000"
          },
          "showarrow": false,
          "text": "301",
          "x": 0.55,
          "xanchor": "left",
          "xref": "x1",
          "y": 28,
          "yref": "y1"
         },
         {
          "align": "left",
          "font": {
           "color": "#000000"
          },
          "showarrow": false,
          "text": "1",
          "x": 1.55,
          "xanchor": "left",
          "xref": "x1",
          "y": 28,
          "yref": "y1"
         },
         {
          "align": "left",
          "font": {
           "color": "#000000"
          },
          "showarrow": false,
          "text": "Mozilla Creative & Design",
          "x": -0.45,
          "xanchor": "left",
          "xref": "x1",
          "y": 29,
          "yref": "y1"
         },
         {
          "align": "left",
          "font": {
           "color": "#000000"
          },
          "showarrow": false,
          "text": "210",
          "x": 0.55,
          "xanchor": "left",
          "xref": "x1",
          "y": 29,
          "yref": "y1"
         },
         {
          "align": "left",
          "font": {
           "color": "#000000"
          },
          "showarrow": false,
          "text": "3",
          "x": 1.55,
          "xanchor": "left",
          "xref": "x1",
          "y": 29,
          "yref": "y1"
         },
         {
          "align": "left",
          "font": {
           "color": "#000000"
          },
          "showarrow": false,
          "text": "Mozilla Clubs",
          "x": -0.45,
          "xanchor": "left",
          "xref": "x1",
          "y": 30,
          "yref": "y1"
         },
         {
          "align": "left",
          "font": {
           "color": "#000000"
          },
          "showarrow": false,
          "text": "198",
          "x": 0.55,
          "xanchor": "left",
          "xref": "x1",
          "y": 30,
          "yref": "y1"
         },
         {
          "align": "left",
          "font": {
           "color": "#000000"
          },
          "showarrow": false,
          "text": "8",
          "x": 1.55,
          "xanchor": "left",
          "xref": "x1",
          "y": 30,
          "yref": "y1"
         },
         {
          "align": "left",
          "font": {
           "color": "#000000"
          },
          "showarrow": false,
          "text": "Campus Clubs (previously Student Ambassadors)",
          "x": -0.45,
          "xanchor": "left",
          "xref": "x1",
          "y": 31,
          "yref": "y1"
         },
         {
          "align": "left",
          "font": {
           "color": "#000000"
          },
          "showarrow": false,
          "text": "165",
          "x": 0.55,
          "xanchor": "left",
          "xref": "x1",
          "y": 31,
          "yref": "y1"
         },
         {
          "align": "left",
          "font": {
           "color": "#000000"
          },
          "showarrow": false,
          "text": "5",
          "x": 1.55,
          "xanchor": "left",
          "xref": "x1",
          "y": 31,
          "yref": "y1"
         },
         {
          "align": "left",
          "font": {
           "color": "#000000"
          },
          "showarrow": false,
          "text": "Firefox Android",
          "x": -0.45,
          "xanchor": "left",
          "xref": "x1",
          "y": 32,
          "yref": "y1"
         },
         {
          "align": "left",
          "font": {
           "color": "#000000"
          },
          "showarrow": false,
          "text": "51",
          "x": 0.55,
          "xanchor": "left",
          "xref": "x1",
          "y": 32,
          "yref": "y1"
         },
         {
          "align": "left",
          "font": {
           "color": "#000000"
          },
          "showarrow": false,
          "text": "2",
          "x": 1.55,
          "xanchor": "left",
          "xref": "x1",
          "y": 32,
          "yref": "y1"
         }
        ],
        "height": 1040,
        "margin": {
         "b": 0,
         "l": 0,
         "r": 0,
         "t": 0
        },
        "xaxis": {
         "dtick": 1,
         "gridwidth": 2,
         "showticklabels": false,
         "tick0": -0.5,
         "ticks": "",
         "zeroline": false
        },
        "yaxis": {
         "autorange": "reversed",
         "dtick": 1,
         "gridwidth": 2,
         "showticklabels": false,
         "tick0": 0.5,
         "ticks": "",
         "zeroline": false
        }
       }
      },
      "text/html": [
       "<div id=\"7e5111f5-d8a5-4e0f-b96d-7b71c7680a79\" style=\"height: 1040px; width: 100%;\" class=\"plotly-graph-div\"></div><script type=\"text/javascript\">require([\"plotly\"], function(Plotly) { window.PLOTLYENV=window.PLOTLYENV || {};window.PLOTLYENV.BASE_URL=\"https://plot.ly\";Plotly.newPlot(\"7e5111f5-d8a5-4e0f-b96d-7b71c7680a79\", [{\"opacity\": 0.75, \"hoverinfo\": \"none\", \"showscale\": false, \"type\": \"heatmap\", \"z\": [[0, 0, 0], [0.5, 0.5, 0.5], [1, 1, 1], [0.5, 0.5, 0.5], [1, 1, 1], [0.5, 0.5, 0.5], [1, 1, 1], [0.5, 0.5, 0.5], [1, 1, 1], [0.5, 0.5, 0.5], [1, 1, 1], [0.5, 0.5, 0.5], [1, 1, 1], [0.5, 0.5, 0.5], [1, 1, 1], [0.5, 0.5, 0.5], [1, 1, 1], [0.5, 0.5, 0.5], [1, 1, 1], [0.5, 0.5, 0.5], [1, 1, 1], [0.5, 0.5, 0.5], [1, 1, 1], [0.5, 0.5, 0.5], [1, 1, 1], [0.5, 0.5, 0.5], [1, 1, 1], [0.5, 0.5, 0.5], [1, 1, 1], [0.5, 0.5, 0.5], [1, 1, 1], [0.5, 0.5, 0.5], [1, 1, 1]], \"colorscale\": [[0, \"#00083e\"], [0.5, \"#ededee\"], [1, \"#ffffff\"]]}], {\"height\": 1040, \"yaxis\": {\"ticks\": \"\", \"gridwidth\": 2, \"zeroline\": false, \"dtick\": 1, \"tick0\": 0.5, \"autorange\": \"reversed\", \"showticklabels\": false}, \"margin\": {\"r\": 0, \"l\": 0, \"b\": 0, \"t\": 0}, \"annotations\": [{\"align\": \"left\", \"xref\": \"x1\", \"xanchor\": \"left\", \"text\": \"<b>Project</b>\", \"font\": {\"color\": \"#ffffff\"}, \"y\": 0, \"x\": -0.45, \"showarrow\": false, \"yref\": \"y1\"}, {\"align\": \"left\", \"xref\": \"x1\", \"xanchor\": \"left\", \"text\": \"<b># Commits</b>\", \"font\": {\"color\": \"#ffffff\"}, \"y\": 0, \"x\": 0.55, \"showarrow\": false, \"yref\": \"y1\"}, {\"align\": \"left\", \"xref\": \"x1\", \"xanchor\": \"left\", \"text\": \"<b>Repo</b>\", \"font\": {\"color\": \"#ffffff\"}, \"y\": 0, \"x\": 1.55, \"showarrow\": false, \"yref\": \"y1\"}, {\"align\": \"left\", \"xref\": \"x1\", \"xanchor\": \"left\", \"text\": \"Gecko\", \"font\": {\"color\": \"#000000\"}, \"y\": 1, \"x\": -0.45, \"showarrow\": false, \"yref\": \"y1\"}, {\"align\": \"left\", \"xref\": \"x1\", \"xanchor\": \"left\", \"text\": \"1342588\", \"font\": {\"color\": \"#000000\"}, \"y\": 1, \"x\": 0.55, \"showarrow\": false, \"yref\": \"y1\"}, {\"align\": \"left\", \"xref\": \"x1\", \"xanchor\": \"left\", \"text\": \"5\", \"font\": {\"color\": \"#000000\"}, \"y\": 1, \"x\": 1.55, \"showarrow\": false, \"yref\": \"y1\"}, {\"align\": \"left\", \"xref\": \"x1\", \"xanchor\": \"left\", \"text\": \"IT/Ops\", \"font\": {\"color\": \"#000000\"}, \"y\": 2, \"x\": -0.45, \"showarrow\": false, \"yref\": \"y1\"}, {\"align\": \"left\", \"xref\": \"x1\", \"xanchor\": \"left\", \"text\": \"142280\", \"font\": {\"color\": \"#000000\"}, \"y\": 2, \"x\": 0.55, \"showarrow\": false, \"yref\": \"y1\"}, {\"align\": \"left\", \"xref\": \"x1\", \"xanchor\": \"left\", \"text\": \"183\", \"font\": {\"color\": \"#000000\"}, \"y\": 2, \"x\": 1.55, \"showarrow\": false, \"yref\": \"y1\"}, {\"align\": \"left\", \"xref\": \"x1\", \"xanchor\": \"left\", \"text\": \"Web Properties\", \"font\": {\"color\": \"#000000\"}, \"y\": 3, \"x\": -0.45, \"showarrow\": false, \"yref\": \"y1\"}, {\"align\": \"left\", \"xref\": \"x1\", \"xanchor\": \"left\", \"text\": \"87068\", \"font\": {\"color\": \"#000000\"}, \"y\": 3, \"x\": 0.55, \"showarrow\": false, \"yref\": \"y1\"}, {\"align\": \"left\", \"xref\": \"x1\", \"xanchor\": \"left\", \"text\": \"115\", \"font\": {\"color\": \"#000000\"}, \"y\": 3, \"x\": 1.55, \"showarrow\": false, \"yref\": \"y1\"}, {\"align\": \"left\", \"xref\": \"x1\", \"xanchor\": \"left\", \"text\": \"Rust\", \"font\": {\"color\": \"#000000\"}, \"y\": 4, \"x\": -0.45, \"showarrow\": false, \"yref\": \"y1\"}, {\"align\": \"left\", \"xref\": \"x1\", \"xanchor\": \"left\", \"text\": \"66316\", \"font\": {\"color\": \"#000000\"}, \"y\": 4, \"x\": 0.55, \"showarrow\": false, \"yref\": \"y1\"}, {\"align\": \"left\", \"xref\": \"x1\", \"xanchor\": \"left\", \"text\": \"27\", \"font\": {\"color\": \"#000000\"}, \"y\": 4, \"x\": 1.55, \"showarrow\": false, \"yref\": \"y1\"}, {\"align\": \"left\", \"xref\": \"x1\", \"xanchor\": \"left\", \"text\": \"Servo\", \"font\": {\"color\": \"#000000\"}, \"y\": 5, \"x\": -0.45, \"showarrow\": false, \"yref\": \"y1\"}, {\"align\": \"left\", \"xref\": \"x1\", \"xanchor\": \"left\", \"text\": \"65966\", \"font\": {\"color\": \"#000000\"}, \"y\": 5, \"x\": 0.55, \"showarrow\": false, \"yref\": \"y1\"}, {\"align\": \"left\", \"xref\": \"x1\", \"xanchor\": \"left\", \"text\": \"81\", \"font\": {\"color\": \"#000000\"}, \"y\": 5, \"x\": 1.55, \"showarrow\": false, \"yref\": \"y1\"}, {\"align\": \"left\", \"xref\": \"x1\", \"xanchor\": \"left\", \"text\": \"Addons/Web Extensions\", \"font\": {\"color\": \"#000000\"}, \"y\": 6, \"x\": -0.45, \"showarrow\": false, \"yref\": \"y1\"}, {\"align\": \"left\", \"xref\": \"x1\", \"xanchor\": \"left\", \"text\": \"61574\", \"font\": {\"color\": \"#000000\"}, \"y\": 6, \"x\": 0.55, \"showarrow\": false, \"yref\": \"y1\"}, {\"align\": \"left\", \"xref\": \"x1\", \"xanchor\": \"left\", \"text\": \"19\", \"font\": {\"color\": \"#000000\"}, \"y\": 6, \"x\": 1.55, \"showarrow\": false, \"yref\": \"y1\"}, {\"align\": \"left\", \"xref\": \"x1\", \"xanchor\": \"left\", \"text\": \"Mozilla Local/Regional communities\", \"font\": {\"color\": \"#000000\"}, \"y\": 7, \"x\": -0.45, \"showarrow\": false, \"yref\": \"y1\"}, {\"align\": \"left\", \"xref\": \"x1\", \"xanchor\": \"left\", \"text\": \"17407\", \"font\": {\"color\": \"#000000\"}, \"y\": 7, \"x\": 0.55, \"showarrow\": false, \"yref\": \"y1\"}, {\"align\": \"left\", \"xref\": \"x1\", \"xanchor\": \"left\", \"text\": \"165\", \"font\": {\"color\": \"#000000\"}, \"y\": 7, \"x\": 1.55, \"showarrow\": false, \"yref\": \"y1\"}, {\"align\": \"left\", \"xref\": \"x1\", \"xanchor\": \"left\", \"text\": \"Release engineering\", \"font\": {\"color\": \"#000000\"}, \"y\": 8, \"x\": -0.45, \"showarrow\": false, \"yref\": \"y1\"}, {\"align\": \"left\", \"xref\": \"x1\", \"xanchor\": \"left\", \"text\": \"15740\", \"font\": {\"color\": \"#000000\"}, \"y\": 8, \"x\": 0.55, \"showarrow\": false, \"yref\": \"y1\"}, {\"align\": \"left\", \"xref\": \"x1\", \"xanchor\": \"left\", \"text\": \"22\", \"font\": {\"color\": \"#000000\"}, \"y\": 8, \"x\": 1.55, \"showarrow\": false, \"yref\": \"y1\"}, {\"align\": \"left\", \"xref\": \"x1\", \"xanchor\": \"left\", \"text\": \"Web Literacy\", \"font\": {\"color\": \"#000000\"}, \"y\": 9, \"x\": -0.45, \"showarrow\": false, \"yref\": \"y1\"}, {\"align\": \"left\", \"xref\": \"x1\", \"xanchor\": \"left\", \"text\": \"13917\", \"font\": {\"color\": \"#000000\"}, \"y\": 9, \"x\": 0.55, \"showarrow\": false, \"yref\": \"y1\"}, {\"align\": \"left\", \"xref\": \"x1\", \"xanchor\": \"left\", \"text\": \"52\", \"font\": {\"color\": \"#000000\"}, \"y\": 9, \"x\": 1.55, \"showarrow\": false, \"yref\": \"y1\"}, {\"align\": \"left\", \"xref\": \"x1\", \"xanchor\": \"left\", \"text\": \"Firefox OS (FxOS / B2G)\", \"font\": {\"color\": \"#000000\"}, \"y\": 10, \"x\": -0.45, \"showarrow\": false, \"yref\": \"y1\"}, {\"align\": \"left\", \"xref\": \"x1\", \"xanchor\": \"left\", \"text\": \"7056\", \"font\": {\"color\": \"#000000\"}, \"y\": 10, \"x\": 0.55, \"showarrow\": false, \"yref\": \"y1\"}, {\"align\": \"left\", \"xref\": \"x1\", \"xanchor\": \"left\", \"text\": \"26\", \"font\": {\"color\": \"#000000\"}, \"y\": 10, \"x\": 1.55, \"showarrow\": false, \"yref\": \"y1\"}, {\"align\": \"left\", \"xref\": \"x1\", \"xanchor\": \"left\", \"text\": \"WebVR\", \"font\": {\"color\": \"#000000\"}, \"y\": 11, \"x\": -0.45, \"showarrow\": false, \"yref\": \"y1\"}, {\"align\": \"left\", \"xref\": \"x1\", \"xanchor\": \"left\", \"text\": \"6964\", \"font\": {\"color\": \"#000000\"}, \"y\": 11, \"x\": 0.55, \"showarrow\": false, \"yref\": \"y1\"}, {\"align\": \"left\", \"xref\": \"x1\", \"xanchor\": \"left\", \"text\": \"30\", \"font\": {\"color\": \"#000000\"}, \"y\": 11, \"x\": 1.55, \"showarrow\": false, \"yref\": \"y1\"}, {\"align\": \"left\", \"xref\": \"x1\", \"xanchor\": \"left\", \"text\": \"Firefox iOS\", \"font\": {\"color\": \"#000000\"}, \"y\": 12, \"x\": -0.45, \"showarrow\": false, \"yref\": \"y1\"}, {\"align\": \"left\", \"xref\": \"x1\", \"xanchor\": \"left\", \"text\": \"6219\", \"font\": {\"color\": \"#000000\"}, \"y\": 12, \"x\": 0.55, \"showarrow\": false, \"yref\": \"y1\"}, {\"align\": \"left\", \"xref\": \"x1\", \"xanchor\": \"left\", \"text\": \"5\", \"font\": {\"color\": \"#000000\"}, \"y\": 12, \"x\": 1.55, \"showarrow\": false, \"yref\": \"y1\"}, {\"align\": \"left\", \"xref\": \"x1\", \"xanchor\": \"left\", \"text\": \"Quality Assurance\", \"font\": {\"color\": \"#000000\"}, \"y\": 13, \"x\": -0.45, \"showarrow\": false, \"yref\": \"y1\"}, {\"align\": \"left\", \"xref\": \"x1\", \"xanchor\": \"left\", \"text\": \"4884\", \"font\": {\"color\": \"#000000\"}, \"y\": 13, \"x\": 0.55, \"showarrow\": false, \"yref\": \"y1\"}, {\"align\": \"left\", \"xref\": \"x1\", \"xanchor\": \"left\", \"text\": \"3\", \"font\": {\"color\": \"#000000\"}, \"y\": 13, \"x\": 1.55, \"showarrow\": false, \"yref\": \"y1\"}, {\"align\": \"left\", \"xref\": \"x1\", \"xanchor\": \"left\", \"text\": \"Marketing / Social Media\", \"font\": {\"color\": \"#000000\"}, \"y\": 14, \"x\": -0.45, \"showarrow\": false, \"yref\": \"y1\"}, {\"align\": \"left\", \"xref\": \"x1\", \"xanchor\": \"left\", \"text\": \"3807\", \"font\": {\"color\": \"#000000\"}, \"y\": 14, \"x\": 0.55, \"showarrow\": false, \"yref\": \"y1\"}, {\"align\": \"left\", \"xref\": \"x1\", \"xanchor\": \"left\", \"text\": \"15\", \"font\": {\"color\": \"#000000\"}, \"y\": 14, \"x\": 1.55, \"showarrow\": false, \"yref\": \"y1\"}, {\"align\": \"left\", \"xref\": \"x1\", \"xanchor\": \"left\", \"text\": \"Mozilla Developer Network (MDN)\", \"font\": {\"color\": \"#000000\"}, \"y\": 15, \"x\": -0.45, \"showarrow\": false, \"yref\": \"y1\"}, {\"align\": \"left\", \"xref\": \"x1\", \"xanchor\": \"left\", \"text\": \"3571\", \"font\": {\"color\": \"#000000\"}, \"y\": 15, \"x\": 0.55, \"showarrow\": false, \"yref\": \"y1\"}, {\"align\": \"left\", \"xref\": \"x1\", \"xanchor\": \"left\", \"text\": \"48\", \"font\": {\"color\": \"#000000\"}, \"y\": 15, \"x\": 1.55, \"showarrow\": false, \"yref\": \"y1\"}, {\"align\": \"left\", \"xref\": \"x1\", \"xanchor\": \"left\", \"text\": \"Mozilla Science\", \"font\": {\"color\": \"#000000\"}, \"y\": 16, \"x\": -0.45, \"showarrow\": false, \"yref\": \"y1\"}, {\"align\": \"left\", \"xref\": \"x1\", \"xanchor\": \"left\", \"text\": \"3541\", \"font\": {\"color\": \"#000000\"}, \"y\": 16, \"x\": 0.55, \"showarrow\": false, \"yref\": \"y1\"}, {\"align\": \"left\", \"xref\": \"x1\", \"xanchor\": \"left\", \"text\": \"36\", \"font\": {\"color\": \"#000000\"}, \"y\": 16, \"x\": 1.55, \"showarrow\": false, \"yref\": \"y1\"}, {\"align\": \"left\", \"xref\": \"x1\", \"xanchor\": \"left\", \"text\": \"Test Pilot\", \"font\": {\"color\": \"#000000\"}, \"y\": 17, \"x\": -0.45, \"showarrow\": false, \"yref\": \"y1\"}, {\"align\": \"left\", \"xref\": \"x1\", \"xanchor\": \"left\", \"text\": \"3274\", \"font\": {\"color\": \"#000000\"}, \"y\": 17, \"x\": 0.55, \"showarrow\": false, \"yref\": \"y1\"}, {\"align\": \"left\", \"xref\": \"x1\", \"xanchor\": \"left\", \"text\": \"6\", \"font\": {\"color\": \"#000000\"}, \"y\": 17, \"x\": 1.55, \"showarrow\": false, \"yref\": \"y1\"}, {\"align\": \"left\", \"xref\": \"x1\", \"xanchor\": \"left\", \"text\": \"Localization\", \"font\": {\"color\": \"#000000\"}, \"y\": 18, \"x\": -0.45, \"showarrow\": false, \"yref\": \"y1\"}, {\"align\": \"left\", \"xref\": \"x1\", \"xanchor\": \"left\", \"text\": \"2101\", \"font\": {\"color\": \"#000000\"}, \"y\": 18, \"x\": 0.55, \"showarrow\": false, \"yref\": \"y1\"}, {\"align\": \"left\", \"xref\": \"x1\", \"xanchor\": \"left\", \"text\": \"4\", \"font\": {\"color\": \"#000000\"}, \"y\": 18, \"x\": 1.55, \"showarrow\": false, \"yref\": \"y1\"}, {\"align\": \"left\", \"xref\": \"x1\", \"xanchor\": \"left\", \"text\": \"Mozilla Location Service (MLS) / Stumbler\", \"font\": {\"color\": \"#000000\"}, \"y\": 19, \"x\": -0.45, \"showarrow\": false, \"yref\": \"y1\"}, {\"align\": \"left\", \"xref\": \"x1\", \"xanchor\": \"left\", \"text\": \"1967\", \"font\": {\"color\": \"#000000\"}, \"y\": 19, \"x\": 0.55, \"showarrow\": false, \"yref\": \"y1\"}, {\"align\": \"left\", \"xref\": \"x1\", \"xanchor\": \"left\", \"text\": \"1\", \"font\": {\"color\": \"#000000\"}, \"y\": 19, \"x\": 1.55, \"showarrow\": false, \"yref\": \"y1\"}, {\"align\": \"left\", \"xref\": \"x1\", \"xanchor\": \"left\", \"text\": \"Firefox\", \"font\": {\"color\": \"#000000\"}, \"y\": 20, \"x\": -0.45, \"showarrow\": false, \"yref\": \"y1\"}, {\"align\": \"left\", \"xref\": \"x1\", \"xanchor\": \"left\", \"text\": \"1533\", \"font\": {\"color\": \"#000000\"}, \"y\": 20, \"x\": 0.55, \"showarrow\": false, \"yref\": \"y1\"}, {\"align\": \"left\", \"xref\": \"x1\", \"xanchor\": \"left\", \"text\": \"1\", \"font\": {\"color\": \"#000000\"}, \"y\": 20, \"x\": 1.55, \"showarrow\": false, \"yref\": \"y1\"}, {\"align\": \"left\", \"xref\": \"x1\", \"xanchor\": \"left\", \"text\": \"Advocacy and policy\", \"font\": {\"color\": \"#000000\"}, \"y\": 21, \"x\": -0.45, \"showarrow\": false, \"yref\": \"y1\"}, {\"align\": \"left\", \"xref\": \"x1\", \"xanchor\": \"left\", \"text\": \"1478\", \"font\": {\"color\": \"#000000\"}, \"y\": 21, \"x\": 0.55, \"showarrow\": false, \"yref\": \"y1\"}, {\"align\": \"left\", \"xref\": \"x1\", \"xanchor\": \"left\", \"text\": \"4\", \"font\": {\"color\": \"#000000\"}, \"y\": 21, \"x\": 1.55, \"showarrow\": false, \"yref\": \"y1\"}, {\"align\": \"left\", \"xref\": \"x1\", \"xanchor\": \"left\", \"text\": \"Mozilla Foundation\", \"font\": {\"color\": \"#000000\"}, \"y\": 22, \"x\": -0.45, \"showarrow\": false, \"yref\": \"y1\"}, {\"align\": \"left\", \"xref\": \"x1\", \"xanchor\": \"left\", \"text\": \"1390\", \"font\": {\"color\": \"#000000\"}, \"y\": 22, \"x\": 0.55, \"showarrow\": false, \"yref\": \"y1\"}, {\"align\": \"left\", \"xref\": \"x1\", \"xanchor\": \"left\", \"text\": \"41\", \"font\": {\"color\": \"#000000\"}, \"y\": 22, \"x\": 1.55, \"showarrow\": false, \"yref\": \"y1\"}, {\"align\": \"left\", \"xref\": \"x1\", \"xanchor\": \"left\", \"text\": \"Firefox Focus\", \"font\": {\"color\": \"#000000\"}, \"y\": 23, \"x\": -0.45, \"showarrow\": false, \"yref\": \"y1\"}, {\"align\": \"left\", \"xref\": \"x1\", \"xanchor\": \"left\", \"text\": \"990\", \"font\": {\"color\": \"#000000\"}, \"y\": 23, \"x\": 0.55, \"showarrow\": false, \"yref\": \"y1\"}, {\"align\": \"left\", \"xref\": \"x1\", \"xanchor\": \"left\", \"text\": \"2\", \"font\": {\"color\": \"#000000\"}, \"y\": 23, \"x\": 1.55, \"showarrow\": false, \"yref\": \"y1\"}, {\"align\": \"left\", \"xref\": \"x1\", \"xanchor\": \"left\", \"text\": \"Technical/Developer Evangelism\", \"font\": {\"color\": \"#000000\"}, \"y\": 24, \"x\": -0.45, \"showarrow\": false, \"yref\": \"y1\"}, {\"align\": \"left\", \"xref\": \"x1\", \"xanchor\": \"left\", \"text\": \"857\", \"font\": {\"color\": \"#000000\"}, \"y\": 24, \"x\": 0.55, \"showarrow\": false, \"yref\": \"y1\"}, {\"align\": \"left\", \"xref\": \"x1\", \"xanchor\": \"left\", \"text\": \"17\", \"font\": {\"color\": \"#000000\"}, \"y\": 24, \"x\": 1.55, \"showarrow\": false, \"yref\": \"y1\"}, {\"align\": \"left\", \"xref\": \"x1\", \"xanchor\": \"left\", \"text\": \"Vaani\", \"font\": {\"color\": \"#000000\"}, \"y\": 25, \"x\": -0.45, \"showarrow\": false, \"yref\": \"y1\"}, {\"align\": \"left\", \"xref\": \"x1\", \"xanchor\": \"left\", \"text\": \"472\", \"font\": {\"color\": \"#000000\"}, \"y\": 25, \"x\": 0.55, \"showarrow\": false, \"yref\": \"y1\"}, {\"align\": \"left\", \"xref\": \"x1\", \"xanchor\": \"left\", \"text\": \"8\", \"font\": {\"color\": \"#000000\"}, \"y\": 25, \"x\": 1.55, \"showarrow\": false, \"yref\": \"y1\"}, {\"align\": \"left\", \"xref\": \"x1\", \"xanchor\": \"left\", \"text\": \"Deep Speech\", \"font\": {\"color\": \"#000000\"}, \"y\": 26, \"x\": -0.45, \"showarrow\": false, \"yref\": \"y1\"}, {\"align\": \"left\", \"xref\": \"x1\", \"xanchor\": \"left\", \"text\": \"362\", \"font\": {\"color\": \"#000000\"}, \"y\": 26, \"x\": 0.55, \"showarrow\": false, \"yref\": \"y1\"}, {\"align\": \"left\", \"xref\": \"x1\", \"xanchor\": \"left\", \"text\": \"1\", \"font\": {\"color\": \"#000000\"}, \"y\": 26, \"x\": 1.55, \"showarrow\": false, \"yref\": \"y1\"}, {\"align\": \"left\", \"xref\": \"x1\", \"xanchor\": \"left\", \"text\": \"Developer Tools\", \"font\": {\"color\": \"#000000\"}, \"y\": 27, \"x\": -0.45, \"showarrow\": false, \"yref\": \"y1\"}, {\"align\": \"left\", \"xref\": \"x1\", \"xanchor\": \"left\", \"text\": \"327\", \"font\": {\"color\": \"#000000\"}, \"y\": 27, \"x\": 0.55, \"showarrow\": false, \"yref\": \"y1\"}, {\"align\": \"left\", \"xref\": \"x1\", \"xanchor\": \"left\", \"text\": \"4\", \"font\": {\"color\": \"#000000\"}, \"y\": 27, \"x\": 1.55, \"showarrow\": false, \"yref\": \"y1\"}, {\"align\": \"left\", \"xref\": \"x1\", \"xanchor\": \"left\", \"text\": \"Connected devices & IoT\", \"font\": {\"color\": \"#000000\"}, \"y\": 28, \"x\": -0.45, \"showarrow\": false, \"yref\": \"y1\"}, {\"align\": \"left\", \"xref\": \"x1\", \"xanchor\": \"left\", \"text\": \"301\", \"font\": {\"color\": \"#000000\"}, \"y\": 28, \"x\": 0.55, \"showarrow\": false, \"yref\": \"y1\"}, {\"align\": \"left\", \"xref\": \"x1\", \"xanchor\": \"left\", \"text\": \"1\", \"font\": {\"color\": \"#000000\"}, \"y\": 28, \"x\": 1.55, \"showarrow\": false, \"yref\": \"y1\"}, {\"align\": \"left\", \"xref\": \"x1\", \"xanchor\": \"left\", \"text\": \"Mozilla Creative & Design\", \"font\": {\"color\": \"#000000\"}, \"y\": 29, \"x\": -0.45, \"showarrow\": false, \"yref\": \"y1\"}, {\"align\": \"left\", \"xref\": \"x1\", \"xanchor\": \"left\", \"text\": \"210\", \"font\": {\"color\": \"#000000\"}, \"y\": 29, \"x\": 0.55, \"showarrow\": false, \"yref\": \"y1\"}, {\"align\": \"left\", \"xref\": \"x1\", \"xanchor\": \"left\", \"text\": \"3\", \"font\": {\"color\": \"#000000\"}, \"y\": 29, \"x\": 1.55, \"showarrow\": false, \"yref\": \"y1\"}, {\"align\": \"left\", \"xref\": \"x1\", \"xanchor\": \"left\", \"text\": \"Mozilla Clubs\", \"font\": {\"color\": \"#000000\"}, \"y\": 30, \"x\": -0.45, \"showarrow\": false, \"yref\": \"y1\"}, {\"align\": \"left\", \"xref\": \"x1\", \"xanchor\": \"left\", \"text\": \"198\", \"font\": {\"color\": \"#000000\"}, \"y\": 30, \"x\": 0.55, \"showarrow\": false, \"yref\": \"y1\"}, {\"align\": \"left\", \"xref\": \"x1\", \"xanchor\": \"left\", \"text\": \"8\", \"font\": {\"color\": \"#000000\"}, \"y\": 30, \"x\": 1.55, \"showarrow\": false, \"yref\": \"y1\"}, {\"align\": \"left\", \"xref\": \"x1\", \"xanchor\": \"left\", \"text\": \"Campus Clubs (previously Student Ambassadors)\", \"font\": {\"color\": \"#000000\"}, \"y\": 31, \"x\": -0.45, \"showarrow\": false, \"yref\": \"y1\"}, {\"align\": \"left\", \"xref\": \"x1\", \"xanchor\": \"left\", \"text\": \"165\", \"font\": {\"color\": \"#000000\"}, \"y\": 31, \"x\": 0.55, \"showarrow\": false, \"yref\": \"y1\"}, {\"align\": \"left\", \"xref\": \"x1\", \"xanchor\": \"left\", \"text\": \"5\", \"font\": {\"color\": \"#000000\"}, \"y\": 31, \"x\": 1.55, \"showarrow\": false, \"yref\": \"y1\"}, {\"align\": \"left\", \"xref\": \"x1\", \"xanchor\": \"left\", \"text\": \"Firefox Android\", \"font\": {\"color\": \"#000000\"}, \"y\": 32, \"x\": -0.45, \"showarrow\": false, \"yref\": \"y1\"}, {\"align\": \"left\", \"xref\": \"x1\", \"xanchor\": \"left\", \"text\": \"51\", \"font\": {\"color\": \"#000000\"}, \"y\": 32, \"x\": 0.55, \"showarrow\": false, \"yref\": \"y1\"}, {\"align\": \"left\", \"xref\": \"x1\", \"xanchor\": \"left\", \"text\": \"2\", \"font\": {\"color\": \"#000000\"}, \"y\": 32, \"x\": 1.55, \"showarrow\": false, \"yref\": \"y1\"}], \"xaxis\": {\"ticks\": \"\", \"gridwidth\": 2, \"zeroline\": false, \"dtick\": 1, \"tick0\": -0.5, \"showticklabels\": false}}, {\"linkText\": \"Export to plot.ly\", \"showLink\": true})});</script>"
      ],
      "text/vnd.plotly.v1+html": [
       "<div id=\"7e5111f5-d8a5-4e0f-b96d-7b71c7680a79\" style=\"height: 1040px; width: 100%;\" class=\"plotly-graph-div\"></div><script type=\"text/javascript\">require([\"plotly\"], function(Plotly) { window.PLOTLYENV=window.PLOTLYENV || {};window.PLOTLYENV.BASE_URL=\"https://plot.ly\";Plotly.newPlot(\"7e5111f5-d8a5-4e0f-b96d-7b71c7680a79\", [{\"opacity\": 0.75, \"hoverinfo\": \"none\", \"showscale\": false, \"type\": \"heatmap\", \"z\": [[0, 0, 0], [0.5, 0.5, 0.5], [1, 1, 1], [0.5, 0.5, 0.5], [1, 1, 1], [0.5, 0.5, 0.5], [1, 1, 1], [0.5, 0.5, 0.5], [1, 1, 1], [0.5, 0.5, 0.5], [1, 1, 1], [0.5, 0.5, 0.5], [1, 1, 1], [0.5, 0.5, 0.5], [1, 1, 1], [0.5, 0.5, 0.5], [1, 1, 1], [0.5, 0.5, 0.5], [1, 1, 1], [0.5, 0.5, 0.5], [1, 1, 1], [0.5, 0.5, 0.5], [1, 1, 1], [0.5, 0.5, 0.5], [1, 1, 1], [0.5, 0.5, 0.5], [1, 1, 1], [0.5, 0.5, 0.5], [1, 1, 1], [0.5, 0.5, 0.5], [1, 1, 1], [0.5, 0.5, 0.5], [1, 1, 1]], \"colorscale\": [[0, \"#00083e\"], [0.5, \"#ededee\"], [1, \"#ffffff\"]]}], {\"height\": 1040, \"yaxis\": {\"ticks\": \"\", \"gridwidth\": 2, \"zeroline\": false, \"dtick\": 1, \"tick0\": 0.5, \"autorange\": \"reversed\", \"showticklabels\": false}, \"margin\": {\"r\": 0, \"l\": 0, \"b\": 0, \"t\": 0}, \"annotations\": [{\"align\": \"left\", \"xref\": \"x1\", \"xanchor\": \"left\", \"text\": \"<b>Project</b>\", \"font\": {\"color\": \"#ffffff\"}, \"y\": 0, \"x\": -0.45, \"showarrow\": false, \"yref\": \"y1\"}, {\"align\": \"left\", \"xref\": \"x1\", \"xanchor\": \"left\", \"text\": \"<b># Commits</b>\", \"font\": {\"color\": \"#ffffff\"}, \"y\": 0, \"x\": 0.55, \"showarrow\": false, \"yref\": \"y1\"}, {\"align\": \"left\", \"xref\": \"x1\", \"xanchor\": \"left\", \"text\": \"<b>Repo</b>\", \"font\": {\"color\": \"#ffffff\"}, \"y\": 0, \"x\": 1.55, \"showarrow\": false, \"yref\": \"y1\"}, {\"align\": \"left\", \"xref\": \"x1\", \"xanchor\": \"left\", \"text\": \"Gecko\", \"font\": {\"color\": \"#000000\"}, \"y\": 1, \"x\": -0.45, \"showarrow\": false, \"yref\": \"y1\"}, {\"align\": \"left\", \"xref\": \"x1\", \"xanchor\": \"left\", \"text\": \"1342588\", \"font\": {\"color\": \"#000000\"}, \"y\": 1, \"x\": 0.55, \"showarrow\": false, \"yref\": \"y1\"}, {\"align\": \"left\", \"xref\": \"x1\", \"xanchor\": \"left\", \"text\": \"5\", \"font\": {\"color\": \"#000000\"}, \"y\": 1, \"x\": 1.55, \"showarrow\": false, \"yref\": \"y1\"}, {\"align\": \"left\", \"xref\": \"x1\", \"xanchor\": \"left\", \"text\": \"IT/Ops\", \"font\": {\"color\": \"#000000\"}, \"y\": 2, \"x\": -0.45, \"showarrow\": false, \"yref\": \"y1\"}, {\"align\": \"left\", \"xref\": \"x1\", \"xanchor\": \"left\", \"text\": \"142280\", \"font\": {\"color\": \"#000000\"}, \"y\": 2, \"x\": 0.55, \"showarrow\": false, \"yref\": \"y1\"}, {\"align\": \"left\", \"xref\": \"x1\", \"xanchor\": \"left\", \"text\": \"183\", \"font\": {\"color\": \"#000000\"}, \"y\": 2, \"x\": 1.55, \"showarrow\": false, \"yref\": \"y1\"}, {\"align\": \"left\", \"xref\": \"x1\", \"xanchor\": \"left\", \"text\": \"Web Properties\", \"font\": {\"color\": \"#000000\"}, \"y\": 3, \"x\": -0.45, \"showarrow\": false, \"yref\": \"y1\"}, {\"align\": \"left\", \"xref\": \"x1\", \"xanchor\": \"left\", \"text\": \"87068\", \"font\": {\"color\": \"#000000\"}, \"y\": 3, \"x\": 0.55, \"showarrow\": false, \"yref\": \"y1\"}, {\"align\": \"left\", \"xref\": \"x1\", \"xanchor\": \"left\", \"text\": \"115\", \"font\": {\"color\": \"#000000\"}, \"y\": 3, \"x\": 1.55, \"showarrow\": false, \"yref\": \"y1\"}, {\"align\": \"left\", \"xref\": \"x1\", \"xanchor\": \"left\", \"text\": \"Rust\", \"font\": {\"color\": \"#000000\"}, \"y\": 4, \"x\": -0.45, \"showarrow\": false, \"yref\": \"y1\"}, {\"align\": \"left\", \"xref\": \"x1\", \"xanchor\": \"left\", \"text\": \"66316\", \"font\": {\"color\": \"#000000\"}, \"y\": 4, \"x\": 0.55, \"showarrow\": false, \"yref\": \"y1\"}, {\"align\": \"left\", \"xref\": \"x1\", \"xanchor\": \"left\", \"text\": \"27\", \"font\": {\"color\": \"#000000\"}, \"y\": 4, \"x\": 1.55, \"showarrow\": false, \"yref\": \"y1\"}, {\"align\": \"left\", \"xref\": \"x1\", \"xanchor\": \"left\", \"text\": \"Servo\", \"font\": {\"color\": \"#000000\"}, \"y\": 5, \"x\": -0.45, \"showarrow\": false, \"yref\": \"y1\"}, {\"align\": \"left\", \"xref\": \"x1\", \"xanchor\": \"left\", \"text\": \"65966\", \"font\": {\"color\": \"#000000\"}, \"y\": 5, \"x\": 0.55, \"showarrow\": false, \"yref\": \"y1\"}, {\"align\": \"left\", \"xref\": \"x1\", \"xanchor\": \"left\", \"text\": \"81\", \"font\": {\"color\": \"#000000\"}, \"y\": 5, \"x\": 1.55, \"showarrow\": false, \"yref\": \"y1\"}, {\"align\": \"left\", \"xref\": \"x1\", \"xanchor\": \"left\", \"text\": \"Addons/Web Extensions\", \"font\": {\"color\": \"#000000\"}, \"y\": 6, \"x\": -0.45, \"showarrow\": false, \"yref\": \"y1\"}, {\"align\": \"left\", \"xref\": \"x1\", \"xanchor\": \"left\", \"text\": \"61574\", \"font\": {\"color\": \"#000000\"}, \"y\": 6, \"x\": 0.55, \"showarrow\": false, \"yref\": \"y1\"}, {\"align\": \"left\", \"xref\": \"x1\", \"xanchor\": \"left\", \"text\": \"19\", \"font\": {\"color\": \"#000000\"}, \"y\": 6, \"x\": 1.55, \"showarrow\": false, \"yref\": \"y1\"}, {\"align\": \"left\", \"xref\": \"x1\", \"xanchor\": \"left\", \"text\": \"Mozilla Local/Regional communities\", \"font\": {\"color\": \"#000000\"}, \"y\": 7, \"x\": -0.45, \"showarrow\": false, \"yref\": \"y1\"}, {\"align\": \"left\", \"xref\": \"x1\", \"xanchor\": \"left\", \"text\": \"17407\", \"font\": {\"color\": \"#000000\"}, \"y\": 7, \"x\": 0.55, \"showarrow\": false, \"yref\": \"y1\"}, {\"align\": \"left\", \"xref\": \"x1\", \"xanchor\": \"left\", \"text\": \"165\", \"font\": {\"color\": \"#000000\"}, \"y\": 7, \"x\": 1.55, \"showarrow\": false, \"yref\": \"y1\"}, {\"align\": \"left\", \"xref\": \"x1\", \"xanchor\": \"left\", \"text\": \"Release engineering\", \"font\": {\"color\": \"#000000\"}, \"y\": 8, \"x\": -0.45, \"showarrow\": false, \"yref\": \"y1\"}, {\"align\": \"left\", \"xref\": \"x1\", \"xanchor\": \"left\", \"text\": \"15740\", \"font\": {\"color\": \"#000000\"}, \"y\": 8, \"x\": 0.55, \"showarrow\": false, \"yref\": \"y1\"}, {\"align\": \"left\", \"xref\": \"x1\", \"xanchor\": \"left\", \"text\": \"22\", \"font\": {\"color\": \"#000000\"}, \"y\": 8, \"x\": 1.55, \"showarrow\": false, \"yref\": \"y1\"}, {\"align\": \"left\", \"xref\": \"x1\", \"xanchor\": \"left\", \"text\": \"Web Literacy\", \"font\": {\"color\": \"#000000\"}, \"y\": 9, \"x\": -0.45, \"showarrow\": false, \"yref\": \"y1\"}, {\"align\": \"left\", \"xref\": \"x1\", \"xanchor\": \"left\", \"text\": \"13917\", \"font\": {\"color\": \"#000000\"}, \"y\": 9, \"x\": 0.55, \"showarrow\": false, \"yref\": \"y1\"}, {\"align\": \"left\", \"xref\": \"x1\", \"xanchor\": \"left\", \"text\": \"52\", \"font\": {\"color\": \"#000000\"}, \"y\": 9, \"x\": 1.55, \"showarrow\": false, \"yref\": \"y1\"}, {\"align\": \"left\", \"xref\": \"x1\", \"xanchor\": \"left\", \"text\": \"Firefox OS (FxOS / B2G)\", \"font\": {\"color\": \"#000000\"}, \"y\": 10, \"x\": -0.45, \"showarrow\": false, \"yref\": \"y1\"}, {\"align\": \"left\", \"xref\": \"x1\", \"xanchor\": \"left\", \"text\": \"7056\", \"font\": {\"color\": \"#000000\"}, \"y\": 10, \"x\": 0.55, \"showarrow\": false, \"yref\": \"y1\"}, {\"align\": \"left\", \"xref\": \"x1\", \"xanchor\": \"left\", \"text\": \"26\", \"font\": {\"color\": \"#000000\"}, \"y\": 10, \"x\": 1.55, \"showarrow\": false, \"yref\": \"y1\"}, {\"align\": \"left\", \"xref\": \"x1\", \"xanchor\": \"left\", \"text\": \"WebVR\", \"font\": {\"color\": \"#000000\"}, \"y\": 11, \"x\": -0.45, \"showarrow\": false, \"yref\": \"y1\"}, {\"align\": \"left\", \"xref\": \"x1\", \"xanchor\": \"left\", \"text\": \"6964\", \"font\": {\"color\": \"#000000\"}, \"y\": 11, \"x\": 0.55, \"showarrow\": false, \"yref\": \"y1\"}, {\"align\": \"left\", \"xref\": \"x1\", \"xanchor\": \"left\", \"text\": \"30\", \"font\": {\"color\": \"#000000\"}, \"y\": 11, \"x\": 1.55, \"showarrow\": false, \"yref\": \"y1\"}, {\"align\": \"left\", \"xref\": \"x1\", \"xanchor\": \"left\", \"text\": \"Firefox iOS\", \"font\": {\"color\": \"#000000\"}, \"y\": 12, \"x\": -0.45, \"showarrow\": false, \"yref\": \"y1\"}, {\"align\": \"left\", \"xref\": \"x1\", \"xanchor\": \"left\", \"text\": \"6219\", \"font\": {\"color\": \"#000000\"}, \"y\": 12, \"x\": 0.55, \"showarrow\": false, \"yref\": \"y1\"}, {\"align\": \"left\", \"xref\": \"x1\", \"xanchor\": \"left\", \"text\": \"5\", \"font\": {\"color\": \"#000000\"}, \"y\": 12, \"x\": 1.55, \"showarrow\": false, \"yref\": \"y1\"}, {\"align\": \"left\", \"xref\": \"x1\", \"xanchor\": \"left\", \"text\": \"Quality Assurance\", \"font\": {\"color\": \"#000000\"}, \"y\": 13, \"x\": -0.45, \"showarrow\": false, \"yref\": \"y1\"}, {\"align\": \"left\", \"xref\": \"x1\", \"xanchor\": \"left\", \"text\": \"4884\", \"font\": {\"color\": \"#000000\"}, \"y\": 13, \"x\": 0.55, \"showarrow\": false, \"yref\": \"y1\"}, {\"align\": \"left\", \"xref\": \"x1\", \"xanchor\": \"left\", \"text\": \"3\", \"font\": {\"color\": \"#000000\"}, \"y\": 13, \"x\": 1.55, \"showarrow\": false, \"yref\": \"y1\"}, {\"align\": \"left\", \"xref\": \"x1\", \"xanchor\": \"left\", \"text\": \"Marketing / Social Media\", \"font\": {\"color\": \"#000000\"}, \"y\": 14, \"x\": -0.45, \"showarrow\": false, \"yref\": \"y1\"}, {\"align\": \"left\", \"xref\": \"x1\", \"xanchor\": \"left\", \"text\": \"3807\", \"font\": {\"color\": \"#000000\"}, \"y\": 14, \"x\": 0.55, \"showarrow\": false, \"yref\": \"y1\"}, {\"align\": \"left\", \"xref\": \"x1\", \"xanchor\": \"left\", \"text\": \"15\", \"font\": {\"color\": \"#000000\"}, \"y\": 14, \"x\": 1.55, \"showarrow\": false, \"yref\": \"y1\"}, {\"align\": \"left\", \"xref\": \"x1\", \"xanchor\": \"left\", \"text\": \"Mozilla Developer Network (MDN)\", \"font\": {\"color\": \"#000000\"}, \"y\": 15, \"x\": -0.45, \"showarrow\": false, \"yref\": \"y1\"}, {\"align\": \"left\", \"xref\": \"x1\", \"xanchor\": \"left\", \"text\": \"3571\", \"font\": {\"color\": \"#000000\"}, \"y\": 15, \"x\": 0.55, \"showarrow\": false, \"yref\": \"y1\"}, {\"align\": \"left\", \"xref\": \"x1\", \"xanchor\": \"left\", \"text\": \"48\", \"font\": {\"color\": \"#000000\"}, \"y\": 15, \"x\": 1.55, \"showarrow\": false, \"yref\": \"y1\"}, {\"align\": \"left\", \"xref\": \"x1\", \"xanchor\": \"left\", \"text\": \"Mozilla Science\", \"font\": {\"color\": \"#000000\"}, \"y\": 16, \"x\": -0.45, \"showarrow\": false, \"yref\": \"y1\"}, {\"align\": \"left\", \"xref\": \"x1\", \"xanchor\": \"left\", \"text\": \"3541\", \"font\": {\"color\": \"#000000\"}, \"y\": 16, \"x\": 0.55, \"showarrow\": false, \"yref\": \"y1\"}, {\"align\": \"left\", \"xref\": \"x1\", \"xanchor\": \"left\", \"text\": \"36\", \"font\": {\"color\": \"#000000\"}, \"y\": 16, \"x\": 1.55, \"showarrow\": false, \"yref\": \"y1\"}, {\"align\": \"left\", \"xref\": \"x1\", \"xanchor\": \"left\", \"text\": \"Test Pilot\", \"font\": {\"color\": \"#000000\"}, \"y\": 17, \"x\": -0.45, \"showarrow\": false, \"yref\": \"y1\"}, {\"align\": \"left\", \"xref\": \"x1\", \"xanchor\": \"left\", \"text\": \"3274\", \"font\": {\"color\": \"#000000\"}, \"y\": 17, \"x\": 0.55, \"showarrow\": false, \"yref\": \"y1\"}, {\"align\": \"left\", \"xref\": \"x1\", \"xanchor\": \"left\", \"text\": \"6\", \"font\": {\"color\": \"#000000\"}, \"y\": 17, \"x\": 1.55, \"showarrow\": false, \"yref\": \"y1\"}, {\"align\": \"left\", \"xref\": \"x1\", \"xanchor\": \"left\", \"text\": \"Localization\", \"font\": {\"color\": \"#000000\"}, \"y\": 18, \"x\": -0.45, \"showarrow\": false, \"yref\": \"y1\"}, {\"align\": \"left\", \"xref\": \"x1\", \"xanchor\": \"left\", \"text\": \"2101\", \"font\": {\"color\": \"#000000\"}, \"y\": 18, \"x\": 0.55, \"showarrow\": false, \"yref\": \"y1\"}, {\"align\": \"left\", \"xref\": \"x1\", \"xanchor\": \"left\", \"text\": \"4\", \"font\": {\"color\": \"#000000\"}, \"y\": 18, \"x\": 1.55, \"showarrow\": false, \"yref\": \"y1\"}, {\"align\": \"left\", \"xref\": \"x1\", \"xanchor\": \"left\", \"text\": \"Mozilla Location Service (MLS) / Stumbler\", \"font\": {\"color\": \"#000000\"}, \"y\": 19, \"x\": -0.45, \"showarrow\": false, \"yref\": \"y1\"}, {\"align\": \"left\", \"xref\": \"x1\", \"xanchor\": \"left\", \"text\": \"1967\", \"font\": {\"color\": \"#000000\"}, \"y\": 19, \"x\": 0.55, \"showarrow\": false, \"yref\": \"y1\"}, {\"align\": \"left\", \"xref\": \"x1\", \"xanchor\": \"left\", \"text\": \"1\", \"font\": {\"color\": \"#000000\"}, \"y\": 19, \"x\": 1.55, \"showarrow\": false, \"yref\": \"y1\"}, {\"align\": \"left\", \"xref\": \"x1\", \"xanchor\": \"left\", \"text\": \"Firefox\", \"font\": {\"color\": \"#000000\"}, \"y\": 20, \"x\": -0.45, \"showarrow\": false, \"yref\": \"y1\"}, {\"align\": \"left\", \"xref\": \"x1\", \"xanchor\": \"left\", \"text\": \"1533\", \"font\": {\"color\": \"#000000\"}, \"y\": 20, \"x\": 0.55, \"showarrow\": false, \"yref\": \"y1\"}, {\"align\": \"left\", \"xref\": \"x1\", \"xanchor\": \"left\", \"text\": \"1\", \"font\": {\"color\": \"#000000\"}, \"y\": 20, \"x\": 1.55, \"showarrow\": false, \"yref\": \"y1\"}, {\"align\": \"left\", \"xref\": \"x1\", \"xanchor\": \"left\", \"text\": \"Advocacy and policy\", \"font\": {\"color\": \"#000000\"}, \"y\": 21, \"x\": -0.45, \"showarrow\": false, \"yref\": \"y1\"}, {\"align\": \"left\", \"xref\": \"x1\", \"xanchor\": \"left\", \"text\": \"1478\", \"font\": {\"color\": \"#000000\"}, \"y\": 21, \"x\": 0.55, \"showarrow\": false, \"yref\": \"y1\"}, {\"align\": \"left\", \"xref\": \"x1\", \"xanchor\": \"left\", \"text\": \"4\", \"font\": {\"color\": \"#000000\"}, \"y\": 21, \"x\": 1.55, \"showarrow\": false, \"yref\": \"y1\"}, {\"align\": \"left\", \"xref\": \"x1\", \"xanchor\": \"left\", \"text\": \"Mozilla Foundation\", \"font\": {\"color\": \"#000000\"}, \"y\": 22, \"x\": -0.45, \"showarrow\": false, \"yref\": \"y1\"}, {\"align\": \"left\", \"xref\": \"x1\", \"xanchor\": \"left\", \"text\": \"1390\", \"font\": {\"color\": \"#000000\"}, \"y\": 22, \"x\": 0.55, \"showarrow\": false, \"yref\": \"y1\"}, {\"align\": \"left\", \"xref\": \"x1\", \"xanchor\": \"left\", \"text\": \"41\", \"font\": {\"color\": \"#000000\"}, \"y\": 22, \"x\": 1.55, \"showarrow\": false, \"yref\": \"y1\"}, {\"align\": \"left\", \"xref\": \"x1\", \"xanchor\": \"left\", \"text\": \"Firefox Focus\", \"font\": {\"color\": \"#000000\"}, \"y\": 23, \"x\": -0.45, \"showarrow\": false, \"yref\": \"y1\"}, {\"align\": \"left\", \"xref\": \"x1\", \"xanchor\": \"left\", \"text\": \"990\", \"font\": {\"color\": \"#000000\"}, \"y\": 23, \"x\": 0.55, \"showarrow\": false, \"yref\": \"y1\"}, {\"align\": \"left\", \"xref\": \"x1\", \"xanchor\": \"left\", \"text\": \"2\", \"font\": {\"color\": \"#000000\"}, \"y\": 23, \"x\": 1.55, \"showarrow\": false, \"yref\": \"y1\"}, {\"align\": \"left\", \"xref\": \"x1\", \"xanchor\": \"left\", \"text\": \"Technical/Developer Evangelism\", \"font\": {\"color\": \"#000000\"}, \"y\": 24, \"x\": -0.45, \"showarrow\": false, \"yref\": \"y1\"}, {\"align\": \"left\", \"xref\": \"x1\", \"xanchor\": \"left\", \"text\": \"857\", \"font\": {\"color\": \"#000000\"}, \"y\": 24, \"x\": 0.55, \"showarrow\": false, \"yref\": \"y1\"}, {\"align\": \"left\", \"xref\": \"x1\", \"xanchor\": \"left\", \"text\": \"17\", \"font\": {\"color\": \"#000000\"}, \"y\": 24, \"x\": 1.55, \"showarrow\": false, \"yref\": \"y1\"}, {\"align\": \"left\", \"xref\": \"x1\", \"xanchor\": \"left\", \"text\": \"Vaani\", \"font\": {\"color\": \"#000000\"}, \"y\": 25, \"x\": -0.45, \"showarrow\": false, \"yref\": \"y1\"}, {\"align\": \"left\", \"xref\": \"x1\", \"xanchor\": \"left\", \"text\": \"472\", \"font\": {\"color\": \"#000000\"}, \"y\": 25, \"x\": 0.55, \"showarrow\": false, \"yref\": \"y1\"}, {\"align\": \"left\", \"xref\": \"x1\", \"xanchor\": \"left\", \"text\": \"8\", \"font\": {\"color\": \"#000000\"}, \"y\": 25, \"x\": 1.55, \"showarrow\": false, \"yref\": \"y1\"}, {\"align\": \"left\", \"xref\": \"x1\", \"xanchor\": \"left\", \"text\": \"Deep Speech\", \"font\": {\"color\": \"#000000\"}, \"y\": 26, \"x\": -0.45, \"showarrow\": false, \"yref\": \"y1\"}, {\"align\": \"left\", \"xref\": \"x1\", \"xanchor\": \"left\", \"text\": \"362\", \"font\": {\"color\": \"#000000\"}, \"y\": 26, \"x\": 0.55, \"showarrow\": false, \"yref\": \"y1\"}, {\"align\": \"left\", \"xref\": \"x1\", \"xanchor\": \"left\", \"text\": \"1\", \"font\": {\"color\": \"#000000\"}, \"y\": 26, \"x\": 1.55, \"showarrow\": false, \"yref\": \"y1\"}, {\"align\": \"left\", \"xref\": \"x1\", \"xanchor\": \"left\", \"text\": \"Developer Tools\", \"font\": {\"color\": \"#000000\"}, \"y\": 27, \"x\": -0.45, \"showarrow\": false, \"yref\": \"y1\"}, {\"align\": \"left\", \"xref\": \"x1\", \"xanchor\": \"left\", \"text\": \"327\", \"font\": {\"color\": \"#000000\"}, \"y\": 27, \"x\": 0.55, \"showarrow\": false, \"yref\": \"y1\"}, {\"align\": \"left\", \"xref\": \"x1\", \"xanchor\": \"left\", \"text\": \"4\", \"font\": {\"color\": \"#000000\"}, \"y\": 27, \"x\": 1.55, \"showarrow\": false, \"yref\": \"y1\"}, {\"align\": \"left\", \"xref\": \"x1\", \"xanchor\": \"left\", \"text\": \"Connected devices & IoT\", \"font\": {\"color\": \"#000000\"}, \"y\": 28, \"x\": -0.45, \"showarrow\": false, \"yref\": \"y1\"}, {\"align\": \"left\", \"xref\": \"x1\", \"xanchor\": \"left\", \"text\": \"301\", \"font\": {\"color\": \"#000000\"}, \"y\": 28, \"x\": 0.55, \"showarrow\": false, \"yref\": \"y1\"}, {\"align\": \"left\", \"xref\": \"x1\", \"xanchor\": \"left\", \"text\": \"1\", \"font\": {\"color\": \"#000000\"}, \"y\": 28, \"x\": 1.55, \"showarrow\": false, \"yref\": \"y1\"}, {\"align\": \"left\", \"xref\": \"x1\", \"xanchor\": \"left\", \"text\": \"Mozilla Creative & Design\", \"font\": {\"color\": \"#000000\"}, \"y\": 29, \"x\": -0.45, \"showarrow\": false, \"yref\": \"y1\"}, {\"align\": \"left\", \"xref\": \"x1\", \"xanchor\": \"left\", \"text\": \"210\", \"font\": {\"color\": \"#000000\"}, \"y\": 29, \"x\": 0.55, \"showarrow\": false, \"yref\": \"y1\"}, {\"align\": \"left\", \"xref\": \"x1\", \"xanchor\": \"left\", \"text\": \"3\", \"font\": {\"color\": \"#000000\"}, \"y\": 29, \"x\": 1.55, \"showarrow\": false, \"yref\": \"y1\"}, {\"align\": \"left\", \"xref\": \"x1\", \"xanchor\": \"left\", \"text\": \"Mozilla Clubs\", \"font\": {\"color\": \"#000000\"}, \"y\": 30, \"x\": -0.45, \"showarrow\": false, \"yref\": \"y1\"}, {\"align\": \"left\", \"xref\": \"x1\", \"xanchor\": \"left\", \"text\": \"198\", \"font\": {\"color\": \"#000000\"}, \"y\": 30, \"x\": 0.55, \"showarrow\": false, \"yref\": \"y1\"}, {\"align\": \"left\", \"xref\": \"x1\", \"xanchor\": \"left\", \"text\": \"8\", \"font\": {\"color\": \"#000000\"}, \"y\": 30, \"x\": 1.55, \"showarrow\": false, \"yref\": \"y1\"}, {\"align\": \"left\", \"xref\": \"x1\", \"xanchor\": \"left\", \"text\": \"Campus Clubs (previously Student Ambassadors)\", \"font\": {\"color\": \"#000000\"}, \"y\": 31, \"x\": -0.45, \"showarrow\": false, \"yref\": \"y1\"}, {\"align\": \"left\", \"xref\": \"x1\", \"xanchor\": \"left\", \"text\": \"165\", \"font\": {\"color\": \"#000000\"}, \"y\": 31, \"x\": 0.55, \"showarrow\": false, \"yref\": \"y1\"}, {\"align\": \"left\", \"xref\": \"x1\", \"xanchor\": \"left\", \"text\": \"5\", \"font\": {\"color\": \"#000000\"}, \"y\": 31, \"x\": 1.55, \"showarrow\": false, \"yref\": \"y1\"}, {\"align\": \"left\", \"xref\": \"x1\", \"xanchor\": \"left\", \"text\": \"Firefox Android\", \"font\": {\"color\": \"#000000\"}, \"y\": 32, \"x\": -0.45, \"showarrow\": false, \"yref\": \"y1\"}, {\"align\": \"left\", \"xref\": \"x1\", \"xanchor\": \"left\", \"text\": \"51\", \"font\": {\"color\": \"#000000\"}, \"y\": 32, \"x\": 0.55, \"showarrow\": false, \"yref\": \"y1\"}, {\"align\": \"left\", \"xref\": \"x1\", \"xanchor\": \"left\", \"text\": \"2\", \"font\": {\"color\": \"#000000\"}, \"y\": 32, \"x\": 1.55, \"showarrow\": false, \"yref\": \"y1\"}], \"xaxis\": {\"ticks\": \"\", \"gridwidth\": 2, \"zeroline\": false, \"dtick\": 1, \"tick0\": -0.5, \"showticklabels\": false}}, {\"linkText\": \"Export to plot.ly\", \"showLink\": true})});</script>"
      ]
     },
     "metadata": {},
     "output_type": "display_data"
    }
   ],
   "source": [
    "# Merge projects and repos DFs\n",
    "repos = print_df(result=result, group_field='repos', value_field='commits', \\\n",
    "         group_column='Repo', value_column='# Commits')\n",
    "\n",
    "merged_df = repos.merge(projects['Github'], on='Repo', how='left')\n",
    "\n",
    "# Group By project\n",
    "projects_df = merged_df.groupby(['Project']).agg({'# Commits': 'sum', 'Repo': 'count'})\n",
    "projects_df = projects_df.sort_values(by='# Commits', ascending=0)\n",
    "\n",
    "# Print a table with this data\n",
    "plotly.offline.init_notebook_mode(connected=True)\n",
    "table = ff.create_table(projects_df.reset_index())\n",
    "plotly.offline.iplot(table, filename='github-projects-table.html')"
   ]
  },
  {
   "cell_type": "markdown",
   "metadata": {},
   "source": [
    "### Contributors by Project\n",
    "\n",
    "#### Git\n"
   ]
  },
  {
   "cell_type": "code",
   "execution_count": 40,
   "metadata": {
    "collapsed": false
   },
   "outputs": [],
   "source": [
    "s = create_search(source='git')\n",
    "\n",
    "# General filters\n",
    "s = add_general_date_filters(s)\n",
    "s = add_bot_filter(s)\n",
    "s = add_merges_filter(s)\n",
    "\n",
    "# Unique count of Commits by Project (max 100 projects)\n",
    "s.aggs.bucket('projects', 'terms', field='project', size=100)\\\n",
    "    .metric('contributors', 'cardinality', field='author_uuid', precision_threshold=100000)\n",
    "result = s.execute()"
   ]
  },
  {
   "cell_type": "code",
   "execution_count": 41,
   "metadata": {
    "collapsed": false
   },
   "outputs": [
    {
     "data": {
      "text/html": [
       "<div>\n",
       "<table border=\"1\" class=\"dataframe\">\n",
       "  <thead>\n",
       "    <tr style=\"text-align: right;\">\n",
       "      <th></th>\n",
       "      <th>Project</th>\n",
       "      <th># Contributors</th>\n",
       "    </tr>\n",
       "  </thead>\n",
       "  <tbody>\n",
       "    <tr>\n",
       "      <th>0</th>\n",
       "      <td>mozilla</td>\n",
       "      <td>10990</td>\n",
       "    </tr>\n",
       "    <tr>\n",
       "      <th>1</th>\n",
       "      <td>mozilla-services</td>\n",
       "      <td>2172</td>\n",
       "    </tr>\n",
       "    <tr>\n",
       "      <th>2</th>\n",
       "      <td>rust-lang</td>\n",
       "      <td>2428</td>\n",
       "    </tr>\n",
       "    <tr>\n",
       "      <th>3</th>\n",
       "      <td>servo</td>\n",
       "      <td>1408</td>\n",
       "    </tr>\n",
       "    <tr>\n",
       "      <th>4</th>\n",
       "      <td>mdn</td>\n",
       "      <td>339</td>\n",
       "    </tr>\n",
       "    <tr>\n",
       "      <th>5</th>\n",
       "      <td>moztw</td>\n",
       "      <td>92</td>\n",
       "    </tr>\n",
       "    <tr>\n",
       "      <th>6</th>\n",
       "      <td>mozilla-mobile</td>\n",
       "      <td>110</td>\n",
       "    </tr>\n",
       "    <tr>\n",
       "      <th>7</th>\n",
       "      <td>aframevr</td>\n",
       "      <td>221</td>\n",
       "    </tr>\n",
       "    <tr>\n",
       "      <th>8</th>\n",
       "      <td>mozmar</td>\n",
       "      <td>70</td>\n",
       "    </tr>\n",
       "    <tr>\n",
       "      <th>9</th>\n",
       "      <td>mozilla-japan</td>\n",
       "      <td>58</td>\n",
       "    </tr>\n",
       "    <tr>\n",
       "      <th>10</th>\n",
       "      <td>MozillaCZ</td>\n",
       "      <td>24</td>\n",
       "    </tr>\n",
       "    <tr>\n",
       "      <th>11</th>\n",
       "      <td>mozillascience</td>\n",
       "      <td>108</td>\n",
       "    </tr>\n",
       "    <tr>\n",
       "      <th>12</th>\n",
       "      <td>Mozilla-TWQA</td>\n",
       "      <td>46</td>\n",
       "    </tr>\n",
       "    <tr>\n",
       "      <th>13</th>\n",
       "      <td>mozillach</td>\n",
       "      <td>65</td>\n",
       "    </tr>\n",
       "    <tr>\n",
       "      <th>14</th>\n",
       "      <td>mozillabrasil</td>\n",
       "      <td>181</td>\n",
       "    </tr>\n",
       "    <tr>\n",
       "      <th>15</th>\n",
       "      <td>browserhtml</td>\n",
       "      <td>43</td>\n",
       "    </tr>\n",
       "    <tr>\n",
       "      <th>16</th>\n",
       "      <td>mozfr</td>\n",
       "      <td>60</td>\n",
       "    </tr>\n",
       "    <tr>\n",
       "      <th>17</th>\n",
       "      <td>mozillahispano</td>\n",
       "      <td>66</td>\n",
       "    </tr>\n",
       "    <tr>\n",
       "      <th>18</th>\n",
       "      <td>MozVR</td>\n",
       "      <td>26</td>\n",
       "    </tr>\n",
       "    <tr>\n",
       "      <th>19</th>\n",
       "      <td>MozillaTN</td>\n",
       "      <td>47</td>\n",
       "    </tr>\n",
       "    <tr>\n",
       "      <th>20</th>\n",
       "      <td>MozillaFoundation</td>\n",
       "      <td>113</td>\n",
       "    </tr>\n",
       "    <tr>\n",
       "      <th>21</th>\n",
       "      <td>MozillaKerala</td>\n",
       "      <td>34</td>\n",
       "    </tr>\n",
       "    <tr>\n",
       "      <th>22</th>\n",
       "      <td>mozdevs</td>\n",
       "      <td>18</td>\n",
       "    </tr>\n",
       "    <tr>\n",
       "      <th>23</th>\n",
       "      <td>mozillaitalia</td>\n",
       "      <td>18</td>\n",
       "    </tr>\n",
       "    <tr>\n",
       "      <th>24</th>\n",
       "      <td>mozillaperu</td>\n",
       "      <td>8</td>\n",
       "    </tr>\n",
       "    <tr>\n",
       "      <th>25</th>\n",
       "      <td>mozillavenezuela</td>\n",
       "      <td>8</td>\n",
       "    </tr>\n",
       "    <tr>\n",
       "      <th>26</th>\n",
       "      <td>mozillacampusclubs</td>\n",
       "      <td>4</td>\n",
       "    </tr>\n",
       "    <tr>\n",
       "      <th>27</th>\n",
       "      <td>mozillaph</td>\n",
       "      <td>3</td>\n",
       "    </tr>\n",
       "  </tbody>\n",
       "</table>\n",
       "</div>"
      ],
      "text/plain": [
       "               Project  # Contributors\n",
       "0              mozilla           10990\n",
       "1     mozilla-services            2172\n",
       "2            rust-lang            2428\n",
       "3                servo            1408\n",
       "4                  mdn             339\n",
       "5                moztw              92\n",
       "6       mozilla-mobile             110\n",
       "7             aframevr             221\n",
       "8               mozmar              70\n",
       "9        mozilla-japan              58\n",
       "10           MozillaCZ              24\n",
       "11      mozillascience             108\n",
       "12        Mozilla-TWQA              46\n",
       "13           mozillach              65\n",
       "14       mozillabrasil             181\n",
       "15         browserhtml              43\n",
       "16               mozfr              60\n",
       "17      mozillahispano              66\n",
       "18               MozVR              26\n",
       "19           MozillaTN              47\n",
       "20   MozillaFoundation             113\n",
       "21       MozillaKerala              34\n",
       "22             mozdevs              18\n",
       "23       mozillaitalia              18\n",
       "24         mozillaperu               8\n",
       "25    mozillavenezuela               8\n",
       "26  mozillacampusclubs               4\n",
       "27           mozillaph               3"
      ]
     },
     "execution_count": 41,
     "metadata": {},
     "output_type": "execute_result"
    }
   ],
   "source": [
    "print_df(result=result, group_field='projects', value_field='contributors', \\\n",
    "         group_column='Project', value_column='# Contributors')"
   ]
  },
  {
   "cell_type": "code",
   "execution_count": 42,
   "metadata": {
    "collapsed": false
   },
   "outputs": [
    {
     "data": {
      "text/html": [
       "<script>requirejs.config({paths: { 'plotly': ['https://cdn.plot.ly/plotly-latest.min']},});if(!window.Plotly) {{require(['plotly'],function(plotly) {window.Plotly=plotly;});}}</script>"
      ],
      "text/vnd.plotly.v1+html": [
       "<script>requirejs.config({paths: { 'plotly': ['https://cdn.plot.ly/plotly-latest.min']},});if(!window.Plotly) {{require(['plotly'],function(plotly) {window.Plotly=plotly;});}}</script>"
      ]
     },
     "metadata": {},
     "output_type": "display_data"
    },
    {
     "data": {
      "application/vnd.plotly.v1+json": {
       "data": [
        {
         "colorscale": [
          [
           0,
           "#00083e"
          ],
          [
           0.5,
           "#ededee"
          ],
          [
           1,
           "#ffffff"
          ]
         ],
         "hoverinfo": "none",
         "opacity": 0.75,
         "showscale": false,
         "type": "heatmap",
         "z": [
          [
           0,
           0,
           0
          ],
          [
           0.5,
           0.5,
           0.5
          ],
          [
           1,
           1,
           1
          ],
          [
           0.5,
           0.5,
           0.5
          ],
          [
           1,
           1,
           1
          ],
          [
           0.5,
           0.5,
           0.5
          ],
          [
           1,
           1,
           1
          ],
          [
           0.5,
           0.5,
           0.5
          ],
          [
           1,
           1,
           1
          ],
          [
           0.5,
           0.5,
           0.5
          ],
          [
           1,
           1,
           1
          ],
          [
           0.5,
           0.5,
           0.5
          ],
          [
           1,
           1,
           1
          ],
          [
           0.5,
           0.5,
           0.5
          ],
          [
           1,
           1,
           1
          ],
          [
           0.5,
           0.5,
           0.5
          ],
          [
           1,
           1,
           1
          ],
          [
           0.5,
           0.5,
           0.5
          ],
          [
           1,
           1,
           1
          ],
          [
           0.5,
           0.5,
           0.5
          ],
          [
           1,
           1,
           1
          ],
          [
           0.5,
           0.5,
           0.5
          ],
          [
           1,
           1,
           1
          ],
          [
           0.5,
           0.5,
           0.5
          ],
          [
           1,
           1,
           1
          ],
          [
           0.5,
           0.5,
           0.5
          ],
          [
           1,
           1,
           1
          ],
          [
           0.5,
           0.5,
           0.5
          ],
          [
           1,
           1,
           1
          ],
          [
           0.5,
           0.5,
           0.5
          ],
          [
           1,
           1,
           1
          ],
          [
           0.5,
           0.5,
           0.5
          ],
          [
           1,
           1,
           1
          ]
         ]
        }
       ],
       "layout": {
        "annotations": [
         {
          "align": "left",
          "font": {
           "color": "#ffffff"
          },
          "showarrow": false,
          "text": "<b>Project</b>",
          "x": -0.45,
          "xanchor": "left",
          "xref": "x1",
          "y": 0,
          "yref": "y1"
         },
         {
          "align": "left",
          "font": {
           "color": "#ffffff"
          },
          "showarrow": false,
          "text": "<b># Contributors</b>",
          "x": 0.55,
          "xanchor": "left",
          "xref": "x1",
          "y": 0,
          "yref": "y1"
         },
         {
          "align": "left",
          "font": {
           "color": "#ffffff"
          },
          "showarrow": false,
          "text": "<b>Repo</b>",
          "x": 1.55,
          "xanchor": "left",
          "xref": "x1",
          "y": 0,
          "yref": "y1"
         },
         {
          "align": "left",
          "font": {
           "color": "#000000"
          },
          "showarrow": false,
          "text": "Gecko",
          "x": -0.45,
          "xanchor": "left",
          "xref": "x1",
          "y": 1,
          "yref": "y1"
         },
         {
          "align": "left",
          "font": {
           "color": "#000000"
          },
          "showarrow": false,
          "text": "12913",
          "x": 0.55,
          "xanchor": "left",
          "xref": "x1",
          "y": 1,
          "yref": "y1"
         },
         {
          "align": "left",
          "font": {
           "color": "#000000"
          },
          "showarrow": false,
          "text": "5",
          "x": 1.55,
          "xanchor": "left",
          "xref": "x1",
          "y": 1,
          "yref": "y1"
         },
         {
          "align": "left",
          "font": {
           "color": "#000000"
          },
          "showarrow": false,
          "text": "Rust",
          "x": -0.45,
          "xanchor": "left",
          "xref": "x1",
          "y": 2,
          "yref": "y1"
         },
         {
          "align": "left",
          "font": {
           "color": "#000000"
          },
          "showarrow": false,
          "text": "3569",
          "x": 0.55,
          "xanchor": "left",
          "xref": "x1",
          "y": 2,
          "yref": "y1"
         },
         {
          "align": "left",
          "font": {
           "color": "#000000"
          },
          "showarrow": false,
          "text": "27",
          "x": 1.55,
          "xanchor": "left",
          "xref": "x1",
          "y": 2,
          "yref": "y1"
         },
         {
          "align": "left",
          "font": {
           "color": "#000000"
          },
          "showarrow": false,
          "text": "IT/Ops",
          "x": -0.45,
          "xanchor": "left",
          "xref": "x1",
          "y": 3,
          "yref": "y1"
         },
         {
          "align": "left",
          "font": {
           "color": "#000000"
          },
          "showarrow": false,
          "text": "2946",
          "x": 0.55,
          "xanchor": "left",
          "xref": "x1",
          "y": 3,
          "yref": "y1"
         },
         {
          "align": "left",
          "font": {
           "color": "#000000"
          },
          "showarrow": false,
          "text": "183",
          "x": 1.55,
          "xanchor": "left",
          "xref": "x1",
          "y": 3,
          "yref": "y1"
         },
         {
          "align": "left",
          "font": {
           "color": "#000000"
          },
          "showarrow": false,
          "text": "Servo",
          "x": -0.45,
          "xanchor": "left",
          "xref": "x1",
          "y": 4,
          "yref": "y1"
         },
         {
          "align": "left",
          "font": {
           "color": "#000000"
          },
          "showarrow": false,
          "text": "2704",
          "x": 0.55,
          "xanchor": "left",
          "xref": "x1",
          "y": 4,
          "yref": "y1"
         },
         {
          "align": "left",
          "font": {
           "color": "#000000"
          },
          "showarrow": false,
          "text": "81",
          "x": 1.55,
          "xanchor": "left",
          "xref": "x1",
          "y": 4,
          "yref": "y1"
         },
         {
          "align": "left",
          "font": {
           "color": "#000000"
          },
          "showarrow": false,
          "text": "Web Properties",
          "x": -0.45,
          "xanchor": "left",
          "xref": "x1",
          "y": 5,
          "yref": "y1"
         },
         {
          "align": "left",
          "font": {
           "color": "#000000"
          },
          "showarrow": false,
          "text": "2518",
          "x": 0.55,
          "xanchor": "left",
          "xref": "x1",
          "y": 5,
          "yref": "y1"
         },
         {
          "align": "left",
          "font": {
           "color": "#000000"
          },
          "showarrow": false,
          "text": "115",
          "x": 1.55,
          "xanchor": "left",
          "xref": "x1",
          "y": 5,
          "yref": "y1"
         },
         {
          "align": "left",
          "font": {
           "color": "#000000"
          },
          "showarrow": false,
          "text": "Addons/Web Extensions",
          "x": -0.45,
          "xanchor": "left",
          "xref": "x1",
          "y": 6,
          "yref": "y1"
         },
         {
          "align": "left",
          "font": {
           "color": "#000000"
          },
          "showarrow": false,
          "text": "1013",
          "x": 0.55,
          "xanchor": "left",
          "xref": "x1",
          "y": 6,
          "yref": "y1"
         },
         {
          "align": "left",
          "font": {
           "color": "#000000"
          },
          "showarrow": false,
          "text": "19",
          "x": 1.55,
          "xanchor": "left",
          "xref": "x1",
          "y": 6,
          "yref": "y1"
         },
         {
          "align": "left",
          "font": {
           "color": "#000000"
          },
          "showarrow": false,
          "text": "Mozilla Local/Regional communities",
          "x": -0.45,
          "xanchor": "left",
          "xref": "x1",
          "y": 7,
          "yref": "y1"
         },
         {
          "align": "left",
          "font": {
           "color": "#000000"
          },
          "showarrow": false,
          "text": "902",
          "x": 0.55,
          "xanchor": "left",
          "xref": "x1",
          "y": 7,
          "yref": "y1"
         },
         {
          "align": "left",
          "font": {
           "color": "#000000"
          },
          "showarrow": false,
          "text": "165",
          "x": 1.55,
          "xanchor": "left",
          "xref": "x1",
          "y": 7,
          "yref": "y1"
         },
         {
          "align": "left",
          "font": {
           "color": "#000000"
          },
          "showarrow": false,
          "text": "Release engineering",
          "x": -0.45,
          "xanchor": "left",
          "xref": "x1",
          "y": 8,
          "yref": "y1"
         },
         {
          "align": "left",
          "font": {
           "color": "#000000"
          },
          "showarrow": false,
          "text": "514",
          "x": 0.55,
          "xanchor": "left",
          "xref": "x1",
          "y": 8,
          "yref": "y1"
         },
         {
          "align": "left",
          "font": {
           "color": "#000000"
          },
          "showarrow": false,
          "text": "22",
          "x": 1.55,
          "xanchor": "left",
          "xref": "x1",
          "y": 8,
          "yref": "y1"
         },
         {
          "align": "left",
          "font": {
           "color": "#000000"
          },
          "showarrow": false,
          "text": "Web Literacy",
          "x": -0.45,
          "xanchor": "left",
          "xref": "x1",
          "y": 9,
          "yref": "y1"
         },
         {
          "align": "left",
          "font": {
           "color": "#000000"
          },
          "showarrow": false,
          "text": "494",
          "x": 0.55,
          "xanchor": "left",
          "xref": "x1",
          "y": 9,
          "yref": "y1"
         },
         {
          "align": "left",
          "font": {
           "color": "#000000"
          },
          "showarrow": false,
          "text": "52",
          "x": 1.55,
          "xanchor": "left",
          "xref": "x1",
          "y": 9,
          "yref": "y1"
         },
         {
          "align": "left",
          "font": {
           "color": "#000000"
          },
          "showarrow": false,
          "text": "WebVR",
          "x": -0.45,
          "xanchor": "left",
          "xref": "x1",
          "y": 10,
          "yref": "y1"
         },
         {
          "align": "left",
          "font": {
           "color": "#000000"
          },
          "showarrow": false,
          "text": "371",
          "x": 0.55,
          "xanchor": "left",
          "xref": "x1",
          "y": 10,
          "yref": "y1"
         },
         {
          "align": "left",
          "font": {
           "color": "#000000"
          },
          "showarrow": false,
          "text": "30",
          "x": 1.55,
          "xanchor": "left",
          "xref": "x1",
          "y": 10,
          "yref": "y1"
         },
         {
          "align": "left",
          "font": {
           "color": "#000000"
          },
          "showarrow": false,
          "text": "Firefox OS (FxOS / B2G)",
          "x": -0.45,
          "xanchor": "left",
          "xref": "x1",
          "y": 11,
          "yref": "y1"
         },
         {
          "align": "left",
          "font": {
           "color": "#000000"
          },
          "showarrow": false,
          "text": "318",
          "x": 0.55,
          "xanchor": "left",
          "xref": "x1",
          "y": 11,
          "yref": "y1"
         },
         {
          "align": "left",
          "font": {
           "color": "#000000"
          },
          "showarrow": false,
          "text": "26",
          "x": 1.55,
          "xanchor": "left",
          "xref": "x1",
          "y": 11,
          "yref": "y1"
         },
         {
          "align": "left",
          "font": {
           "color": "#000000"
          },
          "showarrow": false,
          "text": "Mozilla Developer Network (MDN)",
          "x": -0.45,
          "xanchor": "left",
          "xref": "x1",
          "y": 12,
          "yref": "y1"
         },
         {
          "align": "left",
          "font": {
           "color": "#000000"
          },
          "showarrow": false,
          "text": "256",
          "x": 0.55,
          "xanchor": "left",
          "xref": "x1",
          "y": 12,
          "yref": "y1"
         },
         {
          "align": "left",
          "font": {
           "color": "#000000"
          },
          "showarrow": false,
          "text": "48",
          "x": 1.55,
          "xanchor": "left",
          "xref": "x1",
          "y": 12,
          "yref": "y1"
         },
         {
          "align": "left",
          "font": {
           "color": "#000000"
          },
          "showarrow": false,
          "text": "Mozilla Science",
          "x": -0.45,
          "xanchor": "left",
          "xref": "x1",
          "y": 13,
          "yref": "y1"
         },
         {
          "align": "left",
          "font": {
           "color": "#000000"
          },
          "showarrow": false,
          "text": "196",
          "x": 0.55,
          "xanchor": "left",
          "xref": "x1",
          "y": 13,
          "yref": "y1"
         },
         {
          "align": "left",
          "font": {
           "color": "#000000"
          },
          "showarrow": false,
          "text": "36",
          "x": 1.55,
          "xanchor": "left",
          "xref": "x1",
          "y": 13,
          "yref": "y1"
         },
         {
          "align": "left",
          "font": {
           "color": "#000000"
          },
          "showarrow": false,
          "text": "Mozilla Foundation",
          "x": -0.45,
          "xanchor": "left",
          "xref": "x1",
          "y": 14,
          "yref": "y1"
         },
         {
          "align": "left",
          "font": {
           "color": "#000000"
          },
          "showarrow": false,
          "text": "187",
          "x": 0.55,
          "xanchor": "left",
          "xref": "x1",
          "y": 14,
          "yref": "y1"
         },
         {
          "align": "left",
          "font": {
           "color": "#000000"
          },
          "showarrow": false,
          "text": "41",
          "x": 1.55,
          "xanchor": "left",
          "xref": "x1",
          "y": 14,
          "yref": "y1"
         },
         {
          "align": "left",
          "font": {
           "color": "#000000"
          },
          "showarrow": false,
          "text": "Test Pilot",
          "x": -0.45,
          "xanchor": "left",
          "xref": "x1",
          "y": 15,
          "yref": "y1"
         },
         {
          "align": "left",
          "font": {
           "color": "#000000"
          },
          "showarrow": false,
          "text": "144",
          "x": 0.55,
          "xanchor": "left",
          "xref": "x1",
          "y": 15,
          "yref": "y1"
         },
         {
          "align": "left",
          "font": {
           "color": "#000000"
          },
          "showarrow": false,
          "text": "6",
          "x": 1.55,
          "xanchor": "left",
          "xref": "x1",
          "y": 15,
          "yref": "y1"
         },
         {
          "align": "left",
          "font": {
           "color": "#000000"
          },
          "showarrow": false,
          "text": "Localization",
          "x": -0.45,
          "xanchor": "left",
          "xref": "x1",
          "y": 16,
          "yref": "y1"
         },
         {
          "align": "left",
          "font": {
           "color": "#000000"
          },
          "showarrow": false,
          "text": "123",
          "x": 0.55,
          "xanchor": "left",
          "xref": "x1",
          "y": 16,
          "yref": "y1"
         },
         {
          "align": "left",
          "font": {
           "color": "#000000"
          },
          "showarrow": false,
          "text": "4",
          "x": 1.55,
          "xanchor": "left",
          "xref": "x1",
          "y": 16,
          "yref": "y1"
         },
         {
          "align": "left",
          "font": {
           "color": "#000000"
          },
          "showarrow": false,
          "text": "Marketing / Social Media",
          "x": -0.45,
          "xanchor": "left",
          "xref": "x1",
          "y": 17,
          "yref": "y1"
         },
         {
          "align": "left",
          "font": {
           "color": "#000000"
          },
          "showarrow": false,
          "text": "111",
          "x": 0.55,
          "xanchor": "left",
          "xref": "x1",
          "y": 17,
          "yref": "y1"
         },
         {
          "align": "left",
          "font": {
           "color": "#000000"
          },
          "showarrow": false,
          "text": "15",
          "x": 1.55,
          "xanchor": "left",
          "xref": "x1",
          "y": 17,
          "yref": "y1"
         },
         {
          "align": "left",
          "font": {
           "color": "#000000"
          },
          "showarrow": false,
          "text": "Firefox iOS",
          "x": -0.45,
          "xanchor": "left",
          "xref": "x1",
          "y": 18,
          "yref": "y1"
         },
         {
          "align": "left",
          "font": {
           "color": "#000000"
          },
          "showarrow": false,
          "text": "106",
          "x": 0.55,
          "xanchor": "left",
          "xref": "x1",
          "y": 18,
          "yref": "y1"
         },
         {
          "align": "left",
          "font": {
           "color": "#000000"
          },
          "showarrow": false,
          "text": "5",
          "x": 1.55,
          "xanchor": "left",
          "xref": "x1",
          "y": 18,
          "yref": "y1"
         },
         {
          "align": "left",
          "font": {
           "color": "#000000"
          },
          "showarrow": false,
          "text": "Mozilla Location Service (MLS) / Stumbler",
          "x": -0.45,
          "xanchor": "left",
          "xref": "x1",
          "y": 19,
          "yref": "y1"
         },
         {
          "align": "left",
          "font": {
           "color": "#000000"
          },
          "showarrow": false,
          "text": "92",
          "x": 0.55,
          "xanchor": "left",
          "xref": "x1",
          "y": 19,
          "yref": "y1"
         },
         {
          "align": "left",
          "font": {
           "color": "#000000"
          },
          "showarrow": false,
          "text": "1",
          "x": 1.55,
          "xanchor": "left",
          "xref": "x1",
          "y": 19,
          "yref": "y1"
         },
         {
          "align": "left",
          "font": {
           "color": "#000000"
          },
          "showarrow": false,
          "text": "Quality Assurance",
          "x": -0.45,
          "xanchor": "left",
          "xref": "x1",
          "y": 20,
          "yref": "y1"
         },
         {
          "align": "left",
          "font": {
           "color": "#000000"
          },
          "showarrow": false,
          "text": "87",
          "x": 0.55,
          "xanchor": "left",
          "xref": "x1",
          "y": 20,
          "yref": "y1"
         },
         {
          "align": "left",
          "font": {
           "color": "#000000"
          },
          "showarrow": false,
          "text": "3",
          "x": 1.55,
          "xanchor": "left",
          "xref": "x1",
          "y": 20,
          "yref": "y1"
         },
         {
          "align": "left",
          "font": {
           "color": "#000000"
          },
          "showarrow": false,
          "text": "Advocacy and policy",
          "x": -0.45,
          "xanchor": "left",
          "xref": "x1",
          "y": 21,
          "yref": "y1"
         },
         {
          "align": "left",
          "font": {
           "color": "#000000"
          },
          "showarrow": false,
          "text": "76",
          "x": 0.55,
          "xanchor": "left",
          "xref": "x1",
          "y": 21,
          "yref": "y1"
         },
         {
          "align": "left",
          "font": {
           "color": "#000000"
          },
          "showarrow": false,
          "text": "4",
          "x": 1.55,
          "xanchor": "left",
          "xref": "x1",
          "y": 21,
          "yref": "y1"
         },
         {
          "align": "left",
          "font": {
           "color": "#000000"
          },
          "showarrow": false,
          "text": "Technical/Developer Evangelism",
          "x": -0.45,
          "xanchor": "left",
          "xref": "x1",
          "y": 22,
          "yref": "y1"
         },
         {
          "align": "left",
          "font": {
           "color": "#000000"
          },
          "showarrow": false,
          "text": "49",
          "x": 0.55,
          "xanchor": "left",
          "xref": "x1",
          "y": 22,
          "yref": "y1"
         },
         {
          "align": "left",
          "font": {
           "color": "#000000"
          },
          "showarrow": false,
          "text": "17",
          "x": 1.55,
          "xanchor": "left",
          "xref": "x1",
          "y": 22,
          "yref": "y1"
         },
         {
          "align": "left",
          "font": {
           "color": "#000000"
          },
          "showarrow": false,
          "text": "Mozilla Creative & Design",
          "x": -0.45,
          "xanchor": "left",
          "xref": "x1",
          "y": 23,
          "yref": "y1"
         },
         {
          "align": "left",
          "font": {
           "color": "#000000"
          },
          "showarrow": false,
          "text": "32",
          "x": 0.55,
          "xanchor": "left",
          "xref": "x1",
          "y": 23,
          "yref": "y1"
         },
         {
          "align": "left",
          "font": {
           "color": "#000000"
          },
          "showarrow": false,
          "text": "3",
          "x": 1.55,
          "xanchor": "left",
          "xref": "x1",
          "y": 23,
          "yref": "y1"
         },
         {
          "align": "left",
          "font": {
           "color": "#000000"
          },
          "showarrow": false,
          "text": "Firefox",
          "x": -0.45,
          "xanchor": "left",
          "xref": "x1",
          "y": 24,
          "yref": "y1"
         },
         {
          "align": "left",
          "font": {
           "color": "#000000"
          },
          "showarrow": false,
          "text": "27",
          "x": 0.55,
          "xanchor": "left",
          "xref": "x1",
          "y": 24,
          "yref": "y1"
         },
         {
          "align": "left",
          "font": {
           "color": "#000000"
          },
          "showarrow": false,
          "text": "1",
          "x": 1.55,
          "xanchor": "left",
          "xref": "x1",
          "y": 24,
          "yref": "y1"
         },
         {
          "align": "left",
          "font": {
           "color": "#000000"
          },
          "showarrow": false,
          "text": "Vaani",
          "x": -0.45,
          "xanchor": "left",
          "xref": "x1",
          "y": 25,
          "yref": "y1"
         },
         {
          "align": "left",
          "font": {
           "color": "#000000"
          },
          "showarrow": false,
          "text": "27",
          "x": 0.55,
          "xanchor": "left",
          "xref": "x1",
          "y": 25,
          "yref": "y1"
         },
         {
          "align": "left",
          "font": {
           "color": "#000000"
          },
          "showarrow": false,
          "text": "8",
          "x": 1.55,
          "xanchor": "left",
          "xref": "x1",
          "y": 25,
          "yref": "y1"
         },
         {
          "align": "left",
          "font": {
           "color": "#000000"
          },
          "showarrow": false,
          "text": "Mozilla Clubs",
          "x": -0.45,
          "xanchor": "left",
          "xref": "x1",
          "y": 26,
          "yref": "y1"
         },
         {
          "align": "left",
          "font": {
           "color": "#000000"
          },
          "showarrow": false,
          "text": "25",
          "x": 0.55,
          "xanchor": "left",
          "xref": "x1",
          "y": 26,
          "yref": "y1"
         },
         {
          "align": "left",
          "font": {
           "color": "#000000"
          },
          "showarrow": false,
          "text": "8",
          "x": 1.55,
          "xanchor": "left",
          "xref": "x1",
          "y": 26,
          "yref": "y1"
         },
         {
          "align": "left",
          "font": {
           "color": "#000000"
          },
          "showarrow": false,
          "text": "Firefox Focus",
          "x": -0.45,
          "xanchor": "left",
          "xref": "x1",
          "y": 27,
          "yref": "y1"
         },
         {
          "align": "left",
          "font": {
           "color": "#000000"
          },
          "showarrow": false,
          "text": "17",
          "x": 0.55,
          "xanchor": "left",
          "xref": "x1",
          "y": 27,
          "yref": "y1"
         },
         {
          "align": "left",
          "font": {
           "color": "#000000"
          },
          "showarrow": false,
          "text": "2",
          "x": 1.55,
          "xanchor": "left",
          "xref": "x1",
          "y": 27,
          "yref": "y1"
         },
         {
          "align": "left",
          "font": {
           "color": "#000000"
          },
          "showarrow": false,
          "text": "Deep Speech",
          "x": -0.45,
          "xanchor": "left",
          "xref": "x1",
          "y": 28,
          "yref": "y1"
         },
         {
          "align": "left",
          "font": {
           "color": "#000000"
          },
          "showarrow": false,
          "text": "15",
          "x": 0.55,
          "xanchor": "left",
          "xref": "x1",
          "y": 28,
          "yref": "y1"
         },
         {
          "align": "left",
          "font": {
           "color": "#000000"
          },
          "showarrow": false,
          "text": "1",
          "x": 1.55,
          "xanchor": "left",
          "xref": "x1",
          "y": 28,
          "yref": "y1"
         },
         {
          "align": "left",
          "font": {
           "color": "#000000"
          },
          "showarrow": false,
          "text": "Campus Clubs (previously Student Ambassadors)",
          "x": -0.45,
          "xanchor": "left",
          "xref": "x1",
          "y": 29,
          "yref": "y1"
         },
         {
          "align": "left",
          "font": {
           "color": "#000000"
          },
          "showarrow": false,
          "text": "11",
          "x": 0.55,
          "xanchor": "left",
          "xref": "x1",
          "y": 29,
          "yref": "y1"
         },
         {
          "align": "left",
          "font": {
           "color": "#000000"
          },
          "showarrow": false,
          "text": "5",
          "x": 1.55,
          "xanchor": "left",
          "xref": "x1",
          "y": 29,
          "yref": "y1"
         },
         {
          "align": "left",
          "font": {
           "color": "#000000"
          },
          "showarrow": false,
          "text": "Developer Tools",
          "x": -0.45,
          "xanchor": "left",
          "xref": "x1",
          "y": 30,
          "yref": "y1"
         },
         {
          "align": "left",
          "font": {
           "color": "#000000"
          },
          "showarrow": false,
          "text": "9",
          "x": 0.55,
          "xanchor": "left",
          "xref": "x1",
          "y": 30,
          "yref": "y1"
         },
         {
          "align": "left",
          "font": {
           "color": "#000000"
          },
          "showarrow": false,
          "text": "4",
          "x": 1.55,
          "xanchor": "left",
          "xref": "x1",
          "y": 30,
          "yref": "y1"
         },
         {
          "align": "left",
          "font": {
           "color": "#000000"
          },
          "showarrow": false,
          "text": "Connected devices & IoT",
          "x": -0.45,
          "xanchor": "left",
          "xref": "x1",
          "y": 31,
          "yref": "y1"
         },
         {
          "align": "left",
          "font": {
           "color": "#000000"
          },
          "showarrow": false,
          "text": "9",
          "x": 0.55,
          "xanchor": "left",
          "xref": "x1",
          "y": 31,
          "yref": "y1"
         },
         {
          "align": "left",
          "font": {
           "color": "#000000"
          },
          "showarrow": false,
          "text": "1",
          "x": 1.55,
          "xanchor": "left",
          "xref": "x1",
          "y": 31,
          "yref": "y1"
         },
         {
          "align": "left",
          "font": {
           "color": "#000000"
          },
          "showarrow": false,
          "text": "Firefox Android",
          "x": -0.45,
          "xanchor": "left",
          "xref": "x1",
          "y": 32,
          "yref": "y1"
         },
         {
          "align": "left",
          "font": {
           "color": "#000000"
          },
          "showarrow": false,
          "text": "4",
          "x": 0.55,
          "xanchor": "left",
          "xref": "x1",
          "y": 32,
          "yref": "y1"
         },
         {
          "align": "left",
          "font": {
           "color": "#000000"
          },
          "showarrow": false,
          "text": "2",
          "x": 1.55,
          "xanchor": "left",
          "xref": "x1",
          "y": 32,
          "yref": "y1"
         }
        ],
        "height": 1040,
        "margin": {
         "b": 0,
         "l": 0,
         "r": 0,
         "t": 0
        },
        "xaxis": {
         "dtick": 1,
         "gridwidth": 2,
         "showticklabels": false,
         "tick0": -0.5,
         "ticks": "",
         "zeroline": false
        },
        "yaxis": {
         "autorange": "reversed",
         "dtick": 1,
         "gridwidth": 2,
         "showticklabels": false,
         "tick0": 0.5,
         "ticks": "",
         "zeroline": false
        }
       }
      },
      "text/html": [
       "<div id=\"e5b8af32-d92f-4ca3-b7e3-3b10c97bde06\" style=\"height: 1040px; width: 100%;\" class=\"plotly-graph-div\"></div><script type=\"text/javascript\">require([\"plotly\"], function(Plotly) { window.PLOTLYENV=window.PLOTLYENV || {};window.PLOTLYENV.BASE_URL=\"https://plot.ly\";Plotly.newPlot(\"e5b8af32-d92f-4ca3-b7e3-3b10c97bde06\", [{\"opacity\": 0.75, \"hoverinfo\": \"none\", \"showscale\": false, \"type\": \"heatmap\", \"z\": [[0, 0, 0], [0.5, 0.5, 0.5], [1, 1, 1], [0.5, 0.5, 0.5], [1, 1, 1], [0.5, 0.5, 0.5], [1, 1, 1], [0.5, 0.5, 0.5], [1, 1, 1], [0.5, 0.5, 0.5], [1, 1, 1], [0.5, 0.5, 0.5], [1, 1, 1], [0.5, 0.5, 0.5], [1, 1, 1], [0.5, 0.5, 0.5], [1, 1, 1], [0.5, 0.5, 0.5], [1, 1, 1], [0.5, 0.5, 0.5], [1, 1, 1], [0.5, 0.5, 0.5], [1, 1, 1], [0.5, 0.5, 0.5], [1, 1, 1], [0.5, 0.5, 0.5], [1, 1, 1], [0.5, 0.5, 0.5], [1, 1, 1], [0.5, 0.5, 0.5], [1, 1, 1], [0.5, 0.5, 0.5], [1, 1, 1]], \"colorscale\": [[0, \"#00083e\"], [0.5, \"#ededee\"], [1, \"#ffffff\"]]}], {\"height\": 1040, \"yaxis\": {\"ticks\": \"\", \"gridwidth\": 2, \"zeroline\": false, \"dtick\": 1, \"tick0\": 0.5, \"autorange\": \"reversed\", \"showticklabels\": false}, \"margin\": {\"r\": 0, \"l\": 0, \"b\": 0, \"t\": 0}, \"annotations\": [{\"align\": \"left\", \"xref\": \"x1\", \"xanchor\": \"left\", \"text\": \"<b>Project</b>\", \"font\": {\"color\": \"#ffffff\"}, \"y\": 0, \"x\": -0.45, \"showarrow\": false, \"yref\": \"y1\"}, {\"align\": \"left\", \"xref\": \"x1\", \"xanchor\": \"left\", \"text\": \"<b># Contributors</b>\", \"font\": {\"color\": \"#ffffff\"}, \"y\": 0, \"x\": 0.55, \"showarrow\": false, \"yref\": \"y1\"}, {\"align\": \"left\", \"xref\": \"x1\", \"xanchor\": \"left\", \"text\": \"<b>Repo</b>\", \"font\": {\"color\": \"#ffffff\"}, \"y\": 0, \"x\": 1.55, \"showarrow\": false, \"yref\": \"y1\"}, {\"align\": \"left\", \"xref\": \"x1\", \"xanchor\": \"left\", \"text\": \"Gecko\", \"font\": {\"color\": \"#000000\"}, \"y\": 1, \"x\": -0.45, \"showarrow\": false, \"yref\": \"y1\"}, {\"align\": \"left\", \"xref\": \"x1\", \"xanchor\": \"left\", \"text\": \"12913\", \"font\": {\"color\": \"#000000\"}, \"y\": 1, \"x\": 0.55, \"showarrow\": false, \"yref\": \"y1\"}, {\"align\": \"left\", \"xref\": \"x1\", \"xanchor\": \"left\", \"text\": \"5\", \"font\": {\"color\": \"#000000\"}, \"y\": 1, \"x\": 1.55, \"showarrow\": false, \"yref\": \"y1\"}, {\"align\": \"left\", \"xref\": \"x1\", \"xanchor\": \"left\", \"text\": \"Rust\", \"font\": {\"color\": \"#000000\"}, \"y\": 2, \"x\": -0.45, \"showarrow\": false, \"yref\": \"y1\"}, {\"align\": \"left\", \"xref\": \"x1\", \"xanchor\": \"left\", \"text\": \"3569\", \"font\": {\"color\": \"#000000\"}, \"y\": 2, \"x\": 0.55, \"showarrow\": false, \"yref\": \"y1\"}, {\"align\": \"left\", \"xref\": \"x1\", \"xanchor\": \"left\", \"text\": \"27\", \"font\": {\"color\": \"#000000\"}, \"y\": 2, \"x\": 1.55, \"showarrow\": false, \"yref\": \"y1\"}, {\"align\": \"left\", \"xref\": \"x1\", \"xanchor\": \"left\", \"text\": \"IT/Ops\", \"font\": {\"color\": \"#000000\"}, \"y\": 3, \"x\": -0.45, \"showarrow\": false, \"yref\": \"y1\"}, {\"align\": \"left\", \"xref\": \"x1\", \"xanchor\": \"left\", \"text\": \"2946\", \"font\": {\"color\": \"#000000\"}, \"y\": 3, \"x\": 0.55, \"showarrow\": false, \"yref\": \"y1\"}, {\"align\": \"left\", \"xref\": \"x1\", \"xanchor\": \"left\", \"text\": \"183\", \"font\": {\"color\": \"#000000\"}, \"y\": 3, \"x\": 1.55, \"showarrow\": false, \"yref\": \"y1\"}, {\"align\": \"left\", \"xref\": \"x1\", \"xanchor\": \"left\", \"text\": \"Servo\", \"font\": {\"color\": \"#000000\"}, \"y\": 4, \"x\": -0.45, \"showarrow\": false, \"yref\": \"y1\"}, {\"align\": \"left\", \"xref\": \"x1\", \"xanchor\": \"left\", \"text\": \"2704\", \"font\": {\"color\": \"#000000\"}, \"y\": 4, \"x\": 0.55, \"showarrow\": false, \"yref\": \"y1\"}, {\"align\": \"left\", \"xref\": \"x1\", \"xanchor\": \"left\", \"text\": \"81\", \"font\": {\"color\": \"#000000\"}, \"y\": 4, \"x\": 1.55, \"showarrow\": false, \"yref\": \"y1\"}, {\"align\": \"left\", \"xref\": \"x1\", \"xanchor\": \"left\", \"text\": \"Web Properties\", \"font\": {\"color\": \"#000000\"}, \"y\": 5, \"x\": -0.45, \"showarrow\": false, \"yref\": \"y1\"}, {\"align\": \"left\", \"xref\": \"x1\", \"xanchor\": \"left\", \"text\": \"2518\", \"font\": {\"color\": \"#000000\"}, \"y\": 5, \"x\": 0.55, \"showarrow\": false, \"yref\": \"y1\"}, {\"align\": \"left\", \"xref\": \"x1\", \"xanchor\": \"left\", \"text\": \"115\", \"font\": {\"color\": \"#000000\"}, \"y\": 5, \"x\": 1.55, \"showarrow\": false, \"yref\": \"y1\"}, {\"align\": \"left\", \"xref\": \"x1\", \"xanchor\": \"left\", \"text\": \"Addons/Web Extensions\", \"font\": {\"color\": \"#000000\"}, \"y\": 6, \"x\": -0.45, \"showarrow\": false, \"yref\": \"y1\"}, {\"align\": \"left\", \"xref\": \"x1\", \"xanchor\": \"left\", \"text\": \"1013\", \"font\": {\"color\": \"#000000\"}, \"y\": 6, \"x\": 0.55, \"showarrow\": false, \"yref\": \"y1\"}, {\"align\": \"left\", \"xref\": \"x1\", \"xanchor\": \"left\", \"text\": \"19\", \"font\": {\"color\": \"#000000\"}, \"y\": 6, \"x\": 1.55, \"showarrow\": false, \"yref\": \"y1\"}, {\"align\": \"left\", \"xref\": \"x1\", \"xanchor\": \"left\", \"text\": \"Mozilla Local/Regional communities\", \"font\": {\"color\": \"#000000\"}, \"y\": 7, \"x\": -0.45, \"showarrow\": false, \"yref\": \"y1\"}, {\"align\": \"left\", \"xref\": \"x1\", \"xanchor\": \"left\", \"text\": \"902\", \"font\": {\"color\": \"#000000\"}, \"y\": 7, \"x\": 0.55, \"showarrow\": false, \"yref\": \"y1\"}, {\"align\": \"left\", \"xref\": \"x1\", \"xanchor\": \"left\", \"text\": \"165\", \"font\": {\"color\": \"#000000\"}, \"y\": 7, \"x\": 1.55, \"showarrow\": false, \"yref\": \"y1\"}, {\"align\": \"left\", \"xref\": \"x1\", \"xanchor\": \"left\", \"text\": \"Release engineering\", \"font\": {\"color\": \"#000000\"}, \"y\": 8, \"x\": -0.45, \"showarrow\": false, \"yref\": \"y1\"}, {\"align\": \"left\", \"xref\": \"x1\", \"xanchor\": \"left\", \"text\": \"514\", \"font\": {\"color\": \"#000000\"}, \"y\": 8, \"x\": 0.55, \"showarrow\": false, \"yref\": \"y1\"}, {\"align\": \"left\", \"xref\": \"x1\", \"xanchor\": \"left\", \"text\": \"22\", \"font\": {\"color\": \"#000000\"}, \"y\": 8, \"x\": 1.55, \"showarrow\": false, \"yref\": \"y1\"}, {\"align\": \"left\", \"xref\": \"x1\", \"xanchor\": \"left\", \"text\": \"Web Literacy\", \"font\": {\"color\": \"#000000\"}, \"y\": 9, \"x\": -0.45, \"showarrow\": false, \"yref\": \"y1\"}, {\"align\": \"left\", \"xref\": \"x1\", \"xanchor\": \"left\", \"text\": \"494\", \"font\": {\"color\": \"#000000\"}, \"y\": 9, \"x\": 0.55, \"showarrow\": false, \"yref\": \"y1\"}, {\"align\": \"left\", \"xref\": \"x1\", \"xanchor\": \"left\", \"text\": \"52\", \"font\": {\"color\": \"#000000\"}, \"y\": 9, \"x\": 1.55, \"showarrow\": false, \"yref\": \"y1\"}, {\"align\": \"left\", \"xref\": \"x1\", \"xanchor\": \"left\", \"text\": \"WebVR\", \"font\": {\"color\": \"#000000\"}, \"y\": 10, \"x\": -0.45, \"showarrow\": false, \"yref\": \"y1\"}, {\"align\": \"left\", \"xref\": \"x1\", \"xanchor\": \"left\", \"text\": \"371\", \"font\": {\"color\": \"#000000\"}, \"y\": 10, \"x\": 0.55, \"showarrow\": false, \"yref\": \"y1\"}, {\"align\": \"left\", \"xref\": \"x1\", \"xanchor\": \"left\", \"text\": \"30\", \"font\": {\"color\": \"#000000\"}, \"y\": 10, \"x\": 1.55, \"showarrow\": false, \"yref\": \"y1\"}, {\"align\": \"left\", \"xref\": \"x1\", \"xanchor\": \"left\", \"text\": \"Firefox OS (FxOS / B2G)\", \"font\": {\"color\": \"#000000\"}, \"y\": 11, \"x\": -0.45, \"showarrow\": false, \"yref\": \"y1\"}, {\"align\": \"left\", \"xref\": \"x1\", \"xanchor\": \"left\", \"text\": \"318\", \"font\": {\"color\": \"#000000\"}, \"y\": 11, \"x\": 0.55, \"showarrow\": false, \"yref\": \"y1\"}, {\"align\": \"left\", \"xref\": \"x1\", \"xanchor\": \"left\", \"text\": \"26\", \"font\": {\"color\": \"#000000\"}, \"y\": 11, \"x\": 1.55, \"showarrow\": false, \"yref\": \"y1\"}, {\"align\": \"left\", \"xref\": \"x1\", \"xanchor\": \"left\", \"text\": \"Mozilla Developer Network (MDN)\", \"font\": {\"color\": \"#000000\"}, \"y\": 12, \"x\": -0.45, \"showarrow\": false, \"yref\": \"y1\"}, {\"align\": \"left\", \"xref\": \"x1\", \"xanchor\": \"left\", \"text\": \"256\", \"font\": {\"color\": \"#000000\"}, \"y\": 12, \"x\": 0.55, \"showarrow\": false, \"yref\": \"y1\"}, {\"align\": \"left\", \"xref\": \"x1\", \"xanchor\": \"left\", \"text\": \"48\", \"font\": {\"color\": \"#000000\"}, \"y\": 12, \"x\": 1.55, \"showarrow\": false, \"yref\": \"y1\"}, {\"align\": \"left\", \"xref\": \"x1\", \"xanchor\": \"left\", \"text\": \"Mozilla Science\", \"font\": {\"color\": \"#000000\"}, \"y\": 13, \"x\": -0.45, \"showarrow\": false, \"yref\": \"y1\"}, {\"align\": \"left\", \"xref\": \"x1\", \"xanchor\": \"left\", \"text\": \"196\", \"font\": {\"color\": \"#000000\"}, \"y\": 13, \"x\": 0.55, \"showarrow\": false, \"yref\": \"y1\"}, {\"align\": \"left\", \"xref\": \"x1\", \"xanchor\": \"left\", \"text\": \"36\", \"font\": {\"color\": \"#000000\"}, \"y\": 13, \"x\": 1.55, \"showarrow\": false, \"yref\": \"y1\"}, {\"align\": \"left\", \"xref\": \"x1\", \"xanchor\": \"left\", \"text\": \"Mozilla Foundation\", \"font\": {\"color\": \"#000000\"}, \"y\": 14, \"x\": -0.45, \"showarrow\": false, \"yref\": \"y1\"}, {\"align\": \"left\", \"xref\": \"x1\", \"xanchor\": \"left\", \"text\": \"187\", \"font\": {\"color\": \"#000000\"}, \"y\": 14, \"x\": 0.55, \"showarrow\": false, \"yref\": \"y1\"}, {\"align\": \"left\", \"xref\": \"x1\", \"xanchor\": \"left\", \"text\": \"41\", \"font\": {\"color\": \"#000000\"}, \"y\": 14, \"x\": 1.55, \"showarrow\": false, \"yref\": \"y1\"}, {\"align\": \"left\", \"xref\": \"x1\", \"xanchor\": \"left\", \"text\": \"Test Pilot\", \"font\": {\"color\": \"#000000\"}, \"y\": 15, \"x\": -0.45, \"showarrow\": false, \"yref\": \"y1\"}, {\"align\": \"left\", \"xref\": \"x1\", \"xanchor\": \"left\", \"text\": \"144\", \"font\": {\"color\": \"#000000\"}, \"y\": 15, \"x\": 0.55, \"showarrow\": false, \"yref\": \"y1\"}, {\"align\": \"left\", \"xref\": \"x1\", \"xanchor\": \"left\", \"text\": \"6\", \"font\": {\"color\": \"#000000\"}, \"y\": 15, \"x\": 1.55, \"showarrow\": false, \"yref\": \"y1\"}, {\"align\": \"left\", \"xref\": \"x1\", \"xanchor\": \"left\", \"text\": \"Localization\", \"font\": {\"color\": \"#000000\"}, \"y\": 16, \"x\": -0.45, \"showarrow\": false, \"yref\": \"y1\"}, {\"align\": \"left\", \"xref\": \"x1\", \"xanchor\": \"left\", \"text\": \"123\", \"font\": {\"color\": \"#000000\"}, \"y\": 16, \"x\": 0.55, \"showarrow\": false, \"yref\": \"y1\"}, {\"align\": \"left\", \"xref\": \"x1\", \"xanchor\": \"left\", \"text\": \"4\", \"font\": {\"color\": \"#000000\"}, \"y\": 16, \"x\": 1.55, \"showarrow\": false, \"yref\": \"y1\"}, {\"align\": \"left\", \"xref\": \"x1\", \"xanchor\": \"left\", \"text\": \"Marketing / Social Media\", \"font\": {\"color\": \"#000000\"}, \"y\": 17, \"x\": -0.45, \"showarrow\": false, \"yref\": \"y1\"}, {\"align\": \"left\", \"xref\": \"x1\", \"xanchor\": \"left\", \"text\": \"111\", \"font\": {\"color\": \"#000000\"}, \"y\": 17, \"x\": 0.55, \"showarrow\": false, \"yref\": \"y1\"}, {\"align\": \"left\", \"xref\": \"x1\", \"xanchor\": \"left\", \"text\": \"15\", \"font\": {\"color\": \"#000000\"}, \"y\": 17, \"x\": 1.55, \"showarrow\": false, \"yref\": \"y1\"}, {\"align\": \"left\", \"xref\": \"x1\", \"xanchor\": \"left\", \"text\": \"Firefox iOS\", \"font\": {\"color\": \"#000000\"}, \"y\": 18, \"x\": -0.45, \"showarrow\": false, \"yref\": \"y1\"}, {\"align\": \"left\", \"xref\": \"x1\", \"xanchor\": \"left\", \"text\": \"106\", \"font\": {\"color\": \"#000000\"}, \"y\": 18, \"x\": 0.55, \"showarrow\": false, \"yref\": \"y1\"}, {\"align\": \"left\", \"xref\": \"x1\", \"xanchor\": \"left\", \"text\": \"5\", \"font\": {\"color\": \"#000000\"}, \"y\": 18, \"x\": 1.55, \"showarrow\": false, \"yref\": \"y1\"}, {\"align\": \"left\", \"xref\": \"x1\", \"xanchor\": \"left\", \"text\": \"Mozilla Location Service (MLS) / Stumbler\", \"font\": {\"color\": \"#000000\"}, \"y\": 19, \"x\": -0.45, \"showarrow\": false, \"yref\": \"y1\"}, {\"align\": \"left\", \"xref\": \"x1\", \"xanchor\": \"left\", \"text\": \"92\", \"font\": {\"color\": \"#000000\"}, \"y\": 19, \"x\": 0.55, \"showarrow\": false, \"yref\": \"y1\"}, {\"align\": \"left\", \"xref\": \"x1\", \"xanchor\": \"left\", \"text\": \"1\", \"font\": {\"color\": \"#000000\"}, \"y\": 19, \"x\": 1.55, \"showarrow\": false, \"yref\": \"y1\"}, {\"align\": \"left\", \"xref\": \"x1\", \"xanchor\": \"left\", \"text\": \"Quality Assurance\", \"font\": {\"color\": \"#000000\"}, \"y\": 20, \"x\": -0.45, \"showarrow\": false, \"yref\": \"y1\"}, {\"align\": \"left\", \"xref\": \"x1\", \"xanchor\": \"left\", \"text\": \"87\", \"font\": {\"color\": \"#000000\"}, \"y\": 20, \"x\": 0.55, \"showarrow\": false, \"yref\": \"y1\"}, {\"align\": \"left\", \"xref\": \"x1\", \"xanchor\": \"left\", \"text\": \"3\", \"font\": {\"color\": \"#000000\"}, \"y\": 20, \"x\": 1.55, \"showarrow\": false, \"yref\": \"y1\"}, {\"align\": \"left\", \"xref\": \"x1\", \"xanchor\": \"left\", \"text\": \"Advocacy and policy\", \"font\": {\"color\": \"#000000\"}, \"y\": 21, \"x\": -0.45, \"showarrow\": false, \"yref\": \"y1\"}, {\"align\": \"left\", \"xref\": \"x1\", \"xanchor\": \"left\", \"text\": \"76\", \"font\": {\"color\": \"#000000\"}, \"y\": 21, \"x\": 0.55, \"showarrow\": false, \"yref\": \"y1\"}, {\"align\": \"left\", \"xref\": \"x1\", \"xanchor\": \"left\", \"text\": \"4\", \"font\": {\"color\": \"#000000\"}, \"y\": 21, \"x\": 1.55, \"showarrow\": false, \"yref\": \"y1\"}, {\"align\": \"left\", \"xref\": \"x1\", \"xanchor\": \"left\", \"text\": \"Technical/Developer Evangelism\", \"font\": {\"color\": \"#000000\"}, \"y\": 22, \"x\": -0.45, \"showarrow\": false, \"yref\": \"y1\"}, {\"align\": \"left\", \"xref\": \"x1\", \"xanchor\": \"left\", \"text\": \"49\", \"font\": {\"color\": \"#000000\"}, \"y\": 22, \"x\": 0.55, \"showarrow\": false, \"yref\": \"y1\"}, {\"align\": \"left\", \"xref\": \"x1\", \"xanchor\": \"left\", \"text\": \"17\", \"font\": {\"color\": \"#000000\"}, \"y\": 22, \"x\": 1.55, \"showarrow\": false, \"yref\": \"y1\"}, {\"align\": \"left\", \"xref\": \"x1\", \"xanchor\": \"left\", \"text\": \"Mozilla Creative & Design\", \"font\": {\"color\": \"#000000\"}, \"y\": 23, \"x\": -0.45, \"showarrow\": false, \"yref\": \"y1\"}, {\"align\": \"left\", \"xref\": \"x1\", \"xanchor\": \"left\", \"text\": \"32\", \"font\": {\"color\": \"#000000\"}, \"y\": 23, \"x\": 0.55, \"showarrow\": false, \"yref\": \"y1\"}, {\"align\": \"left\", \"xref\": \"x1\", \"xanchor\": \"left\", \"text\": \"3\", \"font\": {\"color\": \"#000000\"}, \"y\": 23, \"x\": 1.55, \"showarrow\": false, \"yref\": \"y1\"}, {\"align\": \"left\", \"xref\": \"x1\", \"xanchor\": \"left\", \"text\": \"Firefox\", \"font\": {\"color\": \"#000000\"}, \"y\": 24, \"x\": -0.45, \"showarrow\": false, \"yref\": \"y1\"}, {\"align\": \"left\", \"xref\": \"x1\", \"xanchor\": \"left\", \"text\": \"27\", \"font\": {\"color\": \"#000000\"}, \"y\": 24, \"x\": 0.55, \"showarrow\": false, \"yref\": \"y1\"}, {\"align\": \"left\", \"xref\": \"x1\", \"xanchor\": \"left\", \"text\": \"1\", \"font\": {\"color\": \"#000000\"}, \"y\": 24, \"x\": 1.55, \"showarrow\": false, \"yref\": \"y1\"}, {\"align\": \"left\", \"xref\": \"x1\", \"xanchor\": \"left\", \"text\": \"Vaani\", \"font\": {\"color\": \"#000000\"}, \"y\": 25, \"x\": -0.45, \"showarrow\": false, \"yref\": \"y1\"}, {\"align\": \"left\", \"xref\": \"x1\", \"xanchor\": \"left\", \"text\": \"27\", \"font\": {\"color\": \"#000000\"}, \"y\": 25, \"x\": 0.55, \"showarrow\": false, \"yref\": \"y1\"}, {\"align\": \"left\", \"xref\": \"x1\", \"xanchor\": \"left\", \"text\": \"8\", \"font\": {\"color\": \"#000000\"}, \"y\": 25, \"x\": 1.55, \"showarrow\": false, \"yref\": \"y1\"}, {\"align\": \"left\", \"xref\": \"x1\", \"xanchor\": \"left\", \"text\": \"Mozilla Clubs\", \"font\": {\"color\": \"#000000\"}, \"y\": 26, \"x\": -0.45, \"showarrow\": false, \"yref\": \"y1\"}, {\"align\": \"left\", \"xref\": \"x1\", \"xanchor\": \"left\", \"text\": \"25\", \"font\": {\"color\": \"#000000\"}, \"y\": 26, \"x\": 0.55, \"showarrow\": false, \"yref\": \"y1\"}, {\"align\": \"left\", \"xref\": \"x1\", \"xanchor\": \"left\", \"text\": \"8\", \"font\": {\"color\": \"#000000\"}, \"y\": 26, \"x\": 1.55, \"showarrow\": false, \"yref\": \"y1\"}, {\"align\": \"left\", \"xref\": \"x1\", \"xanchor\": \"left\", \"text\": \"Firefox Focus\", \"font\": {\"color\": \"#000000\"}, \"y\": 27, \"x\": -0.45, \"showarrow\": false, \"yref\": \"y1\"}, {\"align\": \"left\", \"xref\": \"x1\", \"xanchor\": \"left\", \"text\": \"17\", \"font\": {\"color\": \"#000000\"}, \"y\": 27, \"x\": 0.55, \"showarrow\": false, \"yref\": \"y1\"}, {\"align\": \"left\", \"xref\": \"x1\", \"xanchor\": \"left\", \"text\": \"2\", \"font\": {\"color\": \"#000000\"}, \"y\": 27, \"x\": 1.55, \"showarrow\": false, \"yref\": \"y1\"}, {\"align\": \"left\", \"xref\": \"x1\", \"xanchor\": \"left\", \"text\": \"Deep Speech\", \"font\": {\"color\": \"#000000\"}, \"y\": 28, \"x\": -0.45, \"showarrow\": false, \"yref\": \"y1\"}, {\"align\": \"left\", \"xref\": \"x1\", \"xanchor\": \"left\", \"text\": \"15\", \"font\": {\"color\": \"#000000\"}, \"y\": 28, \"x\": 0.55, \"showarrow\": false, \"yref\": \"y1\"}, {\"align\": \"left\", \"xref\": \"x1\", \"xanchor\": \"left\", \"text\": \"1\", \"font\": {\"color\": \"#000000\"}, \"y\": 28, \"x\": 1.55, \"showarrow\": false, \"yref\": \"y1\"}, {\"align\": \"left\", \"xref\": \"x1\", \"xanchor\": \"left\", \"text\": \"Campus Clubs (previously Student Ambassadors)\", \"font\": {\"color\": \"#000000\"}, \"y\": 29, \"x\": -0.45, \"showarrow\": false, \"yref\": \"y1\"}, {\"align\": \"left\", \"xref\": \"x1\", \"xanchor\": \"left\", \"text\": \"11\", \"font\": {\"color\": \"#000000\"}, \"y\": 29, \"x\": 0.55, \"showarrow\": false, \"yref\": \"y1\"}, {\"align\": \"left\", \"xref\": \"x1\", \"xanchor\": \"left\", \"text\": \"5\", \"font\": {\"color\": \"#000000\"}, \"y\": 29, \"x\": 1.55, \"showarrow\": false, \"yref\": \"y1\"}, {\"align\": \"left\", \"xref\": \"x1\", \"xanchor\": \"left\", \"text\": \"Developer Tools\", \"font\": {\"color\": \"#000000\"}, \"y\": 30, \"x\": -0.45, \"showarrow\": false, \"yref\": \"y1\"}, {\"align\": \"left\", \"xref\": \"x1\", \"xanchor\": \"left\", \"text\": \"9\", \"font\": {\"color\": \"#000000\"}, \"y\": 30, \"x\": 0.55, \"showarrow\": false, \"yref\": \"y1\"}, {\"align\": \"left\", \"xref\": \"x1\", \"xanchor\": \"left\", \"text\": \"4\", \"font\": {\"color\": \"#000000\"}, \"y\": 30, \"x\": 1.55, \"showarrow\": false, \"yref\": \"y1\"}, {\"align\": \"left\", \"xref\": \"x1\", \"xanchor\": \"left\", \"text\": \"Connected devices & IoT\", \"font\": {\"color\": \"#000000\"}, \"y\": 31, \"x\": -0.45, \"showarrow\": false, \"yref\": \"y1\"}, {\"align\": \"left\", \"xref\": \"x1\", \"xanchor\": \"left\", \"text\": \"9\", \"font\": {\"color\": \"#000000\"}, \"y\": 31, \"x\": 0.55, \"showarrow\": false, \"yref\": \"y1\"}, {\"align\": \"left\", \"xref\": \"x1\", \"xanchor\": \"left\", \"text\": \"1\", \"font\": {\"color\": \"#000000\"}, \"y\": 31, \"x\": 1.55, \"showarrow\": false, \"yref\": \"y1\"}, {\"align\": \"left\", \"xref\": \"x1\", \"xanchor\": \"left\", \"text\": \"Firefox Android\", \"font\": {\"color\": \"#000000\"}, \"y\": 32, \"x\": -0.45, \"showarrow\": false, \"yref\": \"y1\"}, {\"align\": \"left\", \"xref\": \"x1\", \"xanchor\": \"left\", \"text\": \"4\", \"font\": {\"color\": \"#000000\"}, \"y\": 32, \"x\": 0.55, \"showarrow\": false, \"yref\": \"y1\"}, {\"align\": \"left\", \"xref\": \"x1\", \"xanchor\": \"left\", \"text\": \"2\", \"font\": {\"color\": \"#000000\"}, \"y\": 32, \"x\": 1.55, \"showarrow\": false, \"yref\": \"y1\"}], \"xaxis\": {\"ticks\": \"\", \"gridwidth\": 2, \"zeroline\": false, \"dtick\": 1, \"tick0\": -0.5, \"showticklabels\": false}}, {\"linkText\": \"Export to plot.ly\", \"showLink\": true})});</script>"
      ],
      "text/vnd.plotly.v1+html": [
       "<div id=\"e5b8af32-d92f-4ca3-b7e3-3b10c97bde06\" style=\"height: 1040px; width: 100%;\" class=\"plotly-graph-div\"></div><script type=\"text/javascript\">require([\"plotly\"], function(Plotly) { window.PLOTLYENV=window.PLOTLYENV || {};window.PLOTLYENV.BASE_URL=\"https://plot.ly\";Plotly.newPlot(\"e5b8af32-d92f-4ca3-b7e3-3b10c97bde06\", [{\"opacity\": 0.75, \"hoverinfo\": \"none\", \"showscale\": false, \"type\": \"heatmap\", \"z\": [[0, 0, 0], [0.5, 0.5, 0.5], [1, 1, 1], [0.5, 0.5, 0.5], [1, 1, 1], [0.5, 0.5, 0.5], [1, 1, 1], [0.5, 0.5, 0.5], [1, 1, 1], [0.5, 0.5, 0.5], [1, 1, 1], [0.5, 0.5, 0.5], [1, 1, 1], [0.5, 0.5, 0.5], [1, 1, 1], [0.5, 0.5, 0.5], [1, 1, 1], [0.5, 0.5, 0.5], [1, 1, 1], [0.5, 0.5, 0.5], [1, 1, 1], [0.5, 0.5, 0.5], [1, 1, 1], [0.5, 0.5, 0.5], [1, 1, 1], [0.5, 0.5, 0.5], [1, 1, 1], [0.5, 0.5, 0.5], [1, 1, 1], [0.5, 0.5, 0.5], [1, 1, 1], [0.5, 0.5, 0.5], [1, 1, 1]], \"colorscale\": [[0, \"#00083e\"], [0.5, \"#ededee\"], [1, \"#ffffff\"]]}], {\"height\": 1040, \"yaxis\": {\"ticks\": \"\", \"gridwidth\": 2, \"zeroline\": false, \"dtick\": 1, \"tick0\": 0.5, \"autorange\": \"reversed\", \"showticklabels\": false}, \"margin\": {\"r\": 0, \"l\": 0, \"b\": 0, \"t\": 0}, \"annotations\": [{\"align\": \"left\", \"xref\": \"x1\", \"xanchor\": \"left\", \"text\": \"<b>Project</b>\", \"font\": {\"color\": \"#ffffff\"}, \"y\": 0, \"x\": -0.45, \"showarrow\": false, \"yref\": \"y1\"}, {\"align\": \"left\", \"xref\": \"x1\", \"xanchor\": \"left\", \"text\": \"<b># Contributors</b>\", \"font\": {\"color\": \"#ffffff\"}, \"y\": 0, \"x\": 0.55, \"showarrow\": false, \"yref\": \"y1\"}, {\"align\": \"left\", \"xref\": \"x1\", \"xanchor\": \"left\", \"text\": \"<b>Repo</b>\", \"font\": {\"color\": \"#ffffff\"}, \"y\": 0, \"x\": 1.55, \"showarrow\": false, \"yref\": \"y1\"}, {\"align\": \"left\", \"xref\": \"x1\", \"xanchor\": \"left\", \"text\": \"Gecko\", \"font\": {\"color\": \"#000000\"}, \"y\": 1, \"x\": -0.45, \"showarrow\": false, \"yref\": \"y1\"}, {\"align\": \"left\", \"xref\": \"x1\", \"xanchor\": \"left\", \"text\": \"12913\", \"font\": {\"color\": \"#000000\"}, \"y\": 1, \"x\": 0.55, \"showarrow\": false, \"yref\": \"y1\"}, {\"align\": \"left\", \"xref\": \"x1\", \"xanchor\": \"left\", \"text\": \"5\", \"font\": {\"color\": \"#000000\"}, \"y\": 1, \"x\": 1.55, \"showarrow\": false, \"yref\": \"y1\"}, {\"align\": \"left\", \"xref\": \"x1\", \"xanchor\": \"left\", \"text\": \"Rust\", \"font\": {\"color\": \"#000000\"}, \"y\": 2, \"x\": -0.45, \"showarrow\": false, \"yref\": \"y1\"}, {\"align\": \"left\", \"xref\": \"x1\", \"xanchor\": \"left\", \"text\": \"3569\", \"font\": {\"color\": \"#000000\"}, \"y\": 2, \"x\": 0.55, \"showarrow\": false, \"yref\": \"y1\"}, {\"align\": \"left\", \"xref\": \"x1\", \"xanchor\": \"left\", \"text\": \"27\", \"font\": {\"color\": \"#000000\"}, \"y\": 2, \"x\": 1.55, \"showarrow\": false, \"yref\": \"y1\"}, {\"align\": \"left\", \"xref\": \"x1\", \"xanchor\": \"left\", \"text\": \"IT/Ops\", \"font\": {\"color\": \"#000000\"}, \"y\": 3, \"x\": -0.45, \"showarrow\": false, \"yref\": \"y1\"}, {\"align\": \"left\", \"xref\": \"x1\", \"xanchor\": \"left\", \"text\": \"2946\", \"font\": {\"color\": \"#000000\"}, \"y\": 3, \"x\": 0.55, \"showarrow\": false, \"yref\": \"y1\"}, {\"align\": \"left\", \"xref\": \"x1\", \"xanchor\": \"left\", \"text\": \"183\", \"font\": {\"color\": \"#000000\"}, \"y\": 3, \"x\": 1.55, \"showarrow\": false, \"yref\": \"y1\"}, {\"align\": \"left\", \"xref\": \"x1\", \"xanchor\": \"left\", \"text\": \"Servo\", \"font\": {\"color\": \"#000000\"}, \"y\": 4, \"x\": -0.45, \"showarrow\": false, \"yref\": \"y1\"}, {\"align\": \"left\", \"xref\": \"x1\", \"xanchor\": \"left\", \"text\": \"2704\", \"font\": {\"color\": \"#000000\"}, \"y\": 4, \"x\": 0.55, \"showarrow\": false, \"yref\": \"y1\"}, {\"align\": \"left\", \"xref\": \"x1\", \"xanchor\": \"left\", \"text\": \"81\", \"font\": {\"color\": \"#000000\"}, \"y\": 4, \"x\": 1.55, \"showarrow\": false, \"yref\": \"y1\"}, {\"align\": \"left\", \"xref\": \"x1\", \"xanchor\": \"left\", \"text\": \"Web Properties\", \"font\": {\"color\": \"#000000\"}, \"y\": 5, \"x\": -0.45, \"showarrow\": false, \"yref\": \"y1\"}, {\"align\": \"left\", \"xref\": \"x1\", \"xanchor\": \"left\", \"text\": \"2518\", \"font\": {\"color\": \"#000000\"}, \"y\": 5, \"x\": 0.55, \"showarrow\": false, \"yref\": \"y1\"}, {\"align\": \"left\", \"xref\": \"x1\", \"xanchor\": \"left\", \"text\": \"115\", \"font\": {\"color\": \"#000000\"}, \"y\": 5, \"x\": 1.55, \"showarrow\": false, \"yref\": \"y1\"}, {\"align\": \"left\", \"xref\": \"x1\", \"xanchor\": \"left\", \"text\": \"Addons/Web Extensions\", \"font\": {\"color\": \"#000000\"}, \"y\": 6, \"x\": -0.45, \"showarrow\": false, \"yref\": \"y1\"}, {\"align\": \"left\", \"xref\": \"x1\", \"xanchor\": \"left\", \"text\": \"1013\", \"font\": {\"color\": \"#000000\"}, \"y\": 6, \"x\": 0.55, \"showarrow\": false, \"yref\": \"y1\"}, {\"align\": \"left\", \"xref\": \"x1\", \"xanchor\": \"left\", \"text\": \"19\", \"font\": {\"color\": \"#000000\"}, \"y\": 6, \"x\": 1.55, \"showarrow\": false, \"yref\": \"y1\"}, {\"align\": \"left\", \"xref\": \"x1\", \"xanchor\": \"left\", \"text\": \"Mozilla Local/Regional communities\", \"font\": {\"color\": \"#000000\"}, \"y\": 7, \"x\": -0.45, \"showarrow\": false, \"yref\": \"y1\"}, {\"align\": \"left\", \"xref\": \"x1\", \"xanchor\": \"left\", \"text\": \"902\", \"font\": {\"color\": \"#000000\"}, \"y\": 7, \"x\": 0.55, \"showarrow\": false, \"yref\": \"y1\"}, {\"align\": \"left\", \"xref\": \"x1\", \"xanchor\": \"left\", \"text\": \"165\", \"font\": {\"color\": \"#000000\"}, \"y\": 7, \"x\": 1.55, \"showarrow\": false, \"yref\": \"y1\"}, {\"align\": \"left\", \"xref\": \"x1\", \"xanchor\": \"left\", \"text\": \"Release engineering\", \"font\": {\"color\": \"#000000\"}, \"y\": 8, \"x\": -0.45, \"showarrow\": false, \"yref\": \"y1\"}, {\"align\": \"left\", \"xref\": \"x1\", \"xanchor\": \"left\", \"text\": \"514\", \"font\": {\"color\": \"#000000\"}, \"y\": 8, \"x\": 0.55, \"showarrow\": false, \"yref\": \"y1\"}, {\"align\": \"left\", \"xref\": \"x1\", \"xanchor\": \"left\", \"text\": \"22\", \"font\": {\"color\": \"#000000\"}, \"y\": 8, \"x\": 1.55, \"showarrow\": false, \"yref\": \"y1\"}, {\"align\": \"left\", \"xref\": \"x1\", \"xanchor\": \"left\", \"text\": \"Web Literacy\", \"font\": {\"color\": \"#000000\"}, \"y\": 9, \"x\": -0.45, \"showarrow\": false, \"yref\": \"y1\"}, {\"align\": \"left\", \"xref\": \"x1\", \"xanchor\": \"left\", \"text\": \"494\", \"font\": {\"color\": \"#000000\"}, \"y\": 9, \"x\": 0.55, \"showarrow\": false, \"yref\": \"y1\"}, {\"align\": \"left\", \"xref\": \"x1\", \"xanchor\": \"left\", \"text\": \"52\", \"font\": {\"color\": \"#000000\"}, \"y\": 9, \"x\": 1.55, \"showarrow\": false, \"yref\": \"y1\"}, {\"align\": \"left\", \"xref\": \"x1\", \"xanchor\": \"left\", \"text\": \"WebVR\", \"font\": {\"color\": \"#000000\"}, \"y\": 10, \"x\": -0.45, \"showarrow\": false, \"yref\": \"y1\"}, {\"align\": \"left\", \"xref\": \"x1\", \"xanchor\": \"left\", \"text\": \"371\", \"font\": {\"color\": \"#000000\"}, \"y\": 10, \"x\": 0.55, \"showarrow\": false, \"yref\": \"y1\"}, {\"align\": \"left\", \"xref\": \"x1\", \"xanchor\": \"left\", \"text\": \"30\", \"font\": {\"color\": \"#000000\"}, \"y\": 10, \"x\": 1.55, \"showarrow\": false, \"yref\": \"y1\"}, {\"align\": \"left\", \"xref\": \"x1\", \"xanchor\": \"left\", \"text\": \"Firefox OS (FxOS / B2G)\", \"font\": {\"color\": \"#000000\"}, \"y\": 11, \"x\": -0.45, \"showarrow\": false, \"yref\": \"y1\"}, {\"align\": \"left\", \"xref\": \"x1\", \"xanchor\": \"left\", \"text\": \"318\", \"font\": {\"color\": \"#000000\"}, \"y\": 11, \"x\": 0.55, \"showarrow\": false, \"yref\": \"y1\"}, {\"align\": \"left\", \"xref\": \"x1\", \"xanchor\": \"left\", \"text\": \"26\", \"font\": {\"color\": \"#000000\"}, \"y\": 11, \"x\": 1.55, \"showarrow\": false, \"yref\": \"y1\"}, {\"align\": \"left\", \"xref\": \"x1\", \"xanchor\": \"left\", \"text\": \"Mozilla Developer Network (MDN)\", \"font\": {\"color\": \"#000000\"}, \"y\": 12, \"x\": -0.45, \"showarrow\": false, \"yref\": \"y1\"}, {\"align\": \"left\", \"xref\": \"x1\", \"xanchor\": \"left\", \"text\": \"256\", \"font\": {\"color\": \"#000000\"}, \"y\": 12, \"x\": 0.55, \"showarrow\": false, \"yref\": \"y1\"}, {\"align\": \"left\", \"xref\": \"x1\", \"xanchor\": \"left\", \"text\": \"48\", \"font\": {\"color\": \"#000000\"}, \"y\": 12, \"x\": 1.55, \"showarrow\": false, \"yref\": \"y1\"}, {\"align\": \"left\", \"xref\": \"x1\", \"xanchor\": \"left\", \"text\": \"Mozilla Science\", \"font\": {\"color\": \"#000000\"}, \"y\": 13, \"x\": -0.45, \"showarrow\": false, \"yref\": \"y1\"}, {\"align\": \"left\", \"xref\": \"x1\", \"xanchor\": \"left\", \"text\": \"196\", \"font\": {\"color\": \"#000000\"}, \"y\": 13, \"x\": 0.55, \"showarrow\": false, \"yref\": \"y1\"}, {\"align\": \"left\", \"xref\": \"x1\", \"xanchor\": \"left\", \"text\": \"36\", \"font\": {\"color\": \"#000000\"}, \"y\": 13, \"x\": 1.55, \"showarrow\": false, \"yref\": \"y1\"}, {\"align\": \"left\", \"xref\": \"x1\", \"xanchor\": \"left\", \"text\": \"Mozilla Foundation\", \"font\": {\"color\": \"#000000\"}, \"y\": 14, \"x\": -0.45, \"showarrow\": false, \"yref\": \"y1\"}, {\"align\": \"left\", \"xref\": \"x1\", \"xanchor\": \"left\", \"text\": \"187\", \"font\": {\"color\": \"#000000\"}, \"y\": 14, \"x\": 0.55, \"showarrow\": false, \"yref\": \"y1\"}, {\"align\": \"left\", \"xref\": \"x1\", \"xanchor\": \"left\", \"text\": \"41\", \"font\": {\"color\": \"#000000\"}, \"y\": 14, \"x\": 1.55, \"showarrow\": false, \"yref\": \"y1\"}, {\"align\": \"left\", \"xref\": \"x1\", \"xanchor\": \"left\", \"text\": \"Test Pilot\", \"font\": {\"color\": \"#000000\"}, \"y\": 15, \"x\": -0.45, \"showarrow\": false, \"yref\": \"y1\"}, {\"align\": \"left\", \"xref\": \"x1\", \"xanchor\": \"left\", \"text\": \"144\", \"font\": {\"color\": \"#000000\"}, \"y\": 15, \"x\": 0.55, \"showarrow\": false, \"yref\": \"y1\"}, {\"align\": \"left\", \"xref\": \"x1\", \"xanchor\": \"left\", \"text\": \"6\", \"font\": {\"color\": \"#000000\"}, \"y\": 15, \"x\": 1.55, \"showarrow\": false, \"yref\": \"y1\"}, {\"align\": \"left\", \"xref\": \"x1\", \"xanchor\": \"left\", \"text\": \"Localization\", \"font\": {\"color\": \"#000000\"}, \"y\": 16, \"x\": -0.45, \"showarrow\": false, \"yref\": \"y1\"}, {\"align\": \"left\", \"xref\": \"x1\", \"xanchor\": \"left\", \"text\": \"123\", \"font\": {\"color\": \"#000000\"}, \"y\": 16, \"x\": 0.55, \"showarrow\": false, \"yref\": \"y1\"}, {\"align\": \"left\", \"xref\": \"x1\", \"xanchor\": \"left\", \"text\": \"4\", \"font\": {\"color\": \"#000000\"}, \"y\": 16, \"x\": 1.55, \"showarrow\": false, \"yref\": \"y1\"}, {\"align\": \"left\", \"xref\": \"x1\", \"xanchor\": \"left\", \"text\": \"Marketing / Social Media\", \"font\": {\"color\": \"#000000\"}, \"y\": 17, \"x\": -0.45, \"showarrow\": false, \"yref\": \"y1\"}, {\"align\": \"left\", \"xref\": \"x1\", \"xanchor\": \"left\", \"text\": \"111\", \"font\": {\"color\": \"#000000\"}, \"y\": 17, \"x\": 0.55, \"showarrow\": false, \"yref\": \"y1\"}, {\"align\": \"left\", \"xref\": \"x1\", \"xanchor\": \"left\", \"text\": \"15\", \"font\": {\"color\": \"#000000\"}, \"y\": 17, \"x\": 1.55, \"showarrow\": false, \"yref\": \"y1\"}, {\"align\": \"left\", \"xref\": \"x1\", \"xanchor\": \"left\", \"text\": \"Firefox iOS\", \"font\": {\"color\": \"#000000\"}, \"y\": 18, \"x\": -0.45, \"showarrow\": false, \"yref\": \"y1\"}, {\"align\": \"left\", \"xref\": \"x1\", \"xanchor\": \"left\", \"text\": \"106\", \"font\": {\"color\": \"#000000\"}, \"y\": 18, \"x\": 0.55, \"showarrow\": false, \"yref\": \"y1\"}, {\"align\": \"left\", \"xref\": \"x1\", \"xanchor\": \"left\", \"text\": \"5\", \"font\": {\"color\": \"#000000\"}, \"y\": 18, \"x\": 1.55, \"showarrow\": false, \"yref\": \"y1\"}, {\"align\": \"left\", \"xref\": \"x1\", \"xanchor\": \"left\", \"text\": \"Mozilla Location Service (MLS) / Stumbler\", \"font\": {\"color\": \"#000000\"}, \"y\": 19, \"x\": -0.45, \"showarrow\": false, \"yref\": \"y1\"}, {\"align\": \"left\", \"xref\": \"x1\", \"xanchor\": \"left\", \"text\": \"92\", \"font\": {\"color\": \"#000000\"}, \"y\": 19, \"x\": 0.55, \"showarrow\": false, \"yref\": \"y1\"}, {\"align\": \"left\", \"xref\": \"x1\", \"xanchor\": \"left\", \"text\": \"1\", \"font\": {\"color\": \"#000000\"}, \"y\": 19, \"x\": 1.55, \"showarrow\": false, \"yref\": \"y1\"}, {\"align\": \"left\", \"xref\": \"x1\", \"xanchor\": \"left\", \"text\": \"Quality Assurance\", \"font\": {\"color\": \"#000000\"}, \"y\": 20, \"x\": -0.45, \"showarrow\": false, \"yref\": \"y1\"}, {\"align\": \"left\", \"xref\": \"x1\", \"xanchor\": \"left\", \"text\": \"87\", \"font\": {\"color\": \"#000000\"}, \"y\": 20, \"x\": 0.55, \"showarrow\": false, \"yref\": \"y1\"}, {\"align\": \"left\", \"xref\": \"x1\", \"xanchor\": \"left\", \"text\": \"3\", \"font\": {\"color\": \"#000000\"}, \"y\": 20, \"x\": 1.55, \"showarrow\": false, \"yref\": \"y1\"}, {\"align\": \"left\", \"xref\": \"x1\", \"xanchor\": \"left\", \"text\": \"Advocacy and policy\", \"font\": {\"color\": \"#000000\"}, \"y\": 21, \"x\": -0.45, \"showarrow\": false, \"yref\": \"y1\"}, {\"align\": \"left\", \"xref\": \"x1\", \"xanchor\": \"left\", \"text\": \"76\", \"font\": {\"color\": \"#000000\"}, \"y\": 21, \"x\": 0.55, \"showarrow\": false, \"yref\": \"y1\"}, {\"align\": \"left\", \"xref\": \"x1\", \"xanchor\": \"left\", \"text\": \"4\", \"font\": {\"color\": \"#000000\"}, \"y\": 21, \"x\": 1.55, \"showarrow\": false, \"yref\": \"y1\"}, {\"align\": \"left\", \"xref\": \"x1\", \"xanchor\": \"left\", \"text\": \"Technical/Developer Evangelism\", \"font\": {\"color\": \"#000000\"}, \"y\": 22, \"x\": -0.45, \"showarrow\": false, \"yref\": \"y1\"}, {\"align\": \"left\", \"xref\": \"x1\", \"xanchor\": \"left\", \"text\": \"49\", \"font\": {\"color\": \"#000000\"}, \"y\": 22, \"x\": 0.55, \"showarrow\": false, \"yref\": \"y1\"}, {\"align\": \"left\", \"xref\": \"x1\", \"xanchor\": \"left\", \"text\": \"17\", \"font\": {\"color\": \"#000000\"}, \"y\": 22, \"x\": 1.55, \"showarrow\": false, \"yref\": \"y1\"}, {\"align\": \"left\", \"xref\": \"x1\", \"xanchor\": \"left\", \"text\": \"Mozilla Creative & Design\", \"font\": {\"color\": \"#000000\"}, \"y\": 23, \"x\": -0.45, \"showarrow\": false, \"yref\": \"y1\"}, {\"align\": \"left\", \"xref\": \"x1\", \"xanchor\": \"left\", \"text\": \"32\", \"font\": {\"color\": \"#000000\"}, \"y\": 23, \"x\": 0.55, \"showarrow\": false, \"yref\": \"y1\"}, {\"align\": \"left\", \"xref\": \"x1\", \"xanchor\": \"left\", \"text\": \"3\", \"font\": {\"color\": \"#000000\"}, \"y\": 23, \"x\": 1.55, \"showarrow\": false, \"yref\": \"y1\"}, {\"align\": \"left\", \"xref\": \"x1\", \"xanchor\": \"left\", \"text\": \"Firefox\", \"font\": {\"color\": \"#000000\"}, \"y\": 24, \"x\": -0.45, \"showarrow\": false, \"yref\": \"y1\"}, {\"align\": \"left\", \"xref\": \"x1\", \"xanchor\": \"left\", \"text\": \"27\", \"font\": {\"color\": \"#000000\"}, \"y\": 24, \"x\": 0.55, \"showarrow\": false, \"yref\": \"y1\"}, {\"align\": \"left\", \"xref\": \"x1\", \"xanchor\": \"left\", \"text\": \"1\", \"font\": {\"color\": \"#000000\"}, \"y\": 24, \"x\": 1.55, \"showarrow\": false, \"yref\": \"y1\"}, {\"align\": \"left\", \"xref\": \"x1\", \"xanchor\": \"left\", \"text\": \"Vaani\", \"font\": {\"color\": \"#000000\"}, \"y\": 25, \"x\": -0.45, \"showarrow\": false, \"yref\": \"y1\"}, {\"align\": \"left\", \"xref\": \"x1\", \"xanchor\": \"left\", \"text\": \"27\", \"font\": {\"color\": \"#000000\"}, \"y\": 25, \"x\": 0.55, \"showarrow\": false, \"yref\": \"y1\"}, {\"align\": \"left\", \"xref\": \"x1\", \"xanchor\": \"left\", \"text\": \"8\", \"font\": {\"color\": \"#000000\"}, \"y\": 25, \"x\": 1.55, \"showarrow\": false, \"yref\": \"y1\"}, {\"align\": \"left\", \"xref\": \"x1\", \"xanchor\": \"left\", \"text\": \"Mozilla Clubs\", \"font\": {\"color\": \"#000000\"}, \"y\": 26, \"x\": -0.45, \"showarrow\": false, \"yref\": \"y1\"}, {\"align\": \"left\", \"xref\": \"x1\", \"xanchor\": \"left\", \"text\": \"25\", \"font\": {\"color\": \"#000000\"}, \"y\": 26, \"x\": 0.55, \"showarrow\": false, \"yref\": \"y1\"}, {\"align\": \"left\", \"xref\": \"x1\", \"xanchor\": \"left\", \"text\": \"8\", \"font\": {\"color\": \"#000000\"}, \"y\": 26, \"x\": 1.55, \"showarrow\": false, \"yref\": \"y1\"}, {\"align\": \"left\", \"xref\": \"x1\", \"xanchor\": \"left\", \"text\": \"Firefox Focus\", \"font\": {\"color\": \"#000000\"}, \"y\": 27, \"x\": -0.45, \"showarrow\": false, \"yref\": \"y1\"}, {\"align\": \"left\", \"xref\": \"x1\", \"xanchor\": \"left\", \"text\": \"17\", \"font\": {\"color\": \"#000000\"}, \"y\": 27, \"x\": 0.55, \"showarrow\": false, \"yref\": \"y1\"}, {\"align\": \"left\", \"xref\": \"x1\", \"xanchor\": \"left\", \"text\": \"2\", \"font\": {\"color\": \"#000000\"}, \"y\": 27, \"x\": 1.55, \"showarrow\": false, \"yref\": \"y1\"}, {\"align\": \"left\", \"xref\": \"x1\", \"xanchor\": \"left\", \"text\": \"Deep Speech\", \"font\": {\"color\": \"#000000\"}, \"y\": 28, \"x\": -0.45, \"showarrow\": false, \"yref\": \"y1\"}, {\"align\": \"left\", \"xref\": \"x1\", \"xanchor\": \"left\", \"text\": \"15\", \"font\": {\"color\": \"#000000\"}, \"y\": 28, \"x\": 0.55, \"showarrow\": false, \"yref\": \"y1\"}, {\"align\": \"left\", \"xref\": \"x1\", \"xanchor\": \"left\", \"text\": \"1\", \"font\": {\"color\": \"#000000\"}, \"y\": 28, \"x\": 1.55, \"showarrow\": false, \"yref\": \"y1\"}, {\"align\": \"left\", \"xref\": \"x1\", \"xanchor\": \"left\", \"text\": \"Campus Clubs (previously Student Ambassadors)\", \"font\": {\"color\": \"#000000\"}, \"y\": 29, \"x\": -0.45, \"showarrow\": false, \"yref\": \"y1\"}, {\"align\": \"left\", \"xref\": \"x1\", \"xanchor\": \"left\", \"text\": \"11\", \"font\": {\"color\": \"#000000\"}, \"y\": 29, \"x\": 0.55, \"showarrow\": false, \"yref\": \"y1\"}, {\"align\": \"left\", \"xref\": \"x1\", \"xanchor\": \"left\", \"text\": \"5\", \"font\": {\"color\": \"#000000\"}, \"y\": 29, \"x\": 1.55, \"showarrow\": false, \"yref\": \"y1\"}, {\"align\": \"left\", \"xref\": \"x1\", \"xanchor\": \"left\", \"text\": \"Developer Tools\", \"font\": {\"color\": \"#000000\"}, \"y\": 30, \"x\": -0.45, \"showarrow\": false, \"yref\": \"y1\"}, {\"align\": \"left\", \"xref\": \"x1\", \"xanchor\": \"left\", \"text\": \"9\", \"font\": {\"color\": \"#000000\"}, \"y\": 30, \"x\": 0.55, \"showarrow\": false, \"yref\": \"y1\"}, {\"align\": \"left\", \"xref\": \"x1\", \"xanchor\": \"left\", \"text\": \"4\", \"font\": {\"color\": \"#000000\"}, \"y\": 30, \"x\": 1.55, \"showarrow\": false, \"yref\": \"y1\"}, {\"align\": \"left\", \"xref\": \"x1\", \"xanchor\": \"left\", \"text\": \"Connected devices & IoT\", \"font\": {\"color\": \"#000000\"}, \"y\": 31, \"x\": -0.45, \"showarrow\": false, \"yref\": \"y1\"}, {\"align\": \"left\", \"xref\": \"x1\", \"xanchor\": \"left\", \"text\": \"9\", \"font\": {\"color\": \"#000000\"}, \"y\": 31, \"x\": 0.55, \"showarrow\": false, \"yref\": \"y1\"}, {\"align\": \"left\", \"xref\": \"x1\", \"xanchor\": \"left\", \"text\": \"1\", \"font\": {\"color\": \"#000000\"}, \"y\": 31, \"x\": 1.55, \"showarrow\": false, \"yref\": \"y1\"}, {\"align\": \"left\", \"xref\": \"x1\", \"xanchor\": \"left\", \"text\": \"Firefox Android\", \"font\": {\"color\": \"#000000\"}, \"y\": 32, \"x\": -0.45, \"showarrow\": false, \"yref\": \"y1\"}, {\"align\": \"left\", \"xref\": \"x1\", \"xanchor\": \"left\", \"text\": \"4\", \"font\": {\"color\": \"#000000\"}, \"y\": 32, \"x\": 0.55, \"showarrow\": false, \"yref\": \"y1\"}, {\"align\": \"left\", \"xref\": \"x1\", \"xanchor\": \"left\", \"text\": \"2\", \"font\": {\"color\": \"#000000\"}, \"y\": 32, \"x\": 1.55, \"showarrow\": false, \"yref\": \"y1\"}], \"xaxis\": {\"ticks\": \"\", \"gridwidth\": 2, \"zeroline\": false, \"dtick\": 1, \"tick0\": -0.5, \"showticklabels\": false}}, {\"linkText\": \"Export to plot.ly\", \"showLink\": true})});</script>"
      ]
     },
     "metadata": {},
     "output_type": "display_data"
    }
   ],
   "source": [
    "s = create_search(source='git')\n",
    "\n",
    "# General filters\n",
    "s = add_general_date_filters(s)\n",
    "s = add_bot_filter(s)\n",
    "s = add_merges_filter(s)\n",
    "\n",
    "# Unique count of Commits by Project (max 100 projects)\n",
    "s.aggs.bucket('repos', 'terms', field='repo_name', size=100000)\\\n",
    "    .metric('contributors', 'cardinality', field='author_uuid', precision_threshold=100000)\n",
    "result = s.execute()\n",
    "\n",
    "# Merge projects and repos DFs\n",
    "repos = print_df(result=result, group_field='repos', value_field='contributors', \\\n",
    "         group_column='Repo', value_column='# Contributors')\n",
    "\n",
    "merged_df = repos.merge(projects['Github'], on='Repo', how='left')\n",
    "\n",
    "# Group By project\n",
    "projects_df = merged_df.groupby(['Project']).agg({'# Contributors': 'sum', 'Repo': 'count'})\n",
    "projects_df = projects_df.sort_values(by='# Contributors', ascending=0)\n",
    "\n",
    "# Print a table with this data\n",
    "plotly.offline.init_notebook_mode(connected=True)\n",
    "table = ff.create_table(projects_df.reset_index())\n",
    "plotly.offline.iplot(table, filename='github-projects-contributors-table.html')"
   ]
  },
  {
   "cell_type": "markdown",
   "metadata": {},
   "source": [
    "#### Bugzilla"
   ]
  },
  {
   "cell_type": "code",
   "execution_count": 53,
   "metadata": {
    "collapsed": false
   },
   "outputs": [],
   "source": [
    "s = create_search(source='bugzilla')\n",
    "\n",
    "# Unique count of Commits by Project (max 100 projects)\n",
    "s.aggs.bucket('projects', 'terms', field='project', size=100)\\\n",
    "    .metric('contributors', 'cardinality', field='author_uuid', precision_threshold=100000)\n",
    "result = s.execute()"
   ]
  },
  {
   "cell_type": "code",
   "execution_count": 54,
   "metadata": {
    "collapsed": false
   },
   "outputs": [
    {
     "data": {
      "text/html": [
       "<div>\n",
       "<table border=\"1\" class=\"dataframe\">\n",
       "  <thead>\n",
       "    <tr style=\"text-align: right;\">\n",
       "      <th></th>\n",
       "      <th>Project</th>\n",
       "      <th># Contributors</th>\n",
       "    </tr>\n",
       "  </thead>\n",
       "  <tbody>\n",
       "    <tr>\n",
       "      <th>0</th>\n",
       "      <td>unknown</td>\n",
       "      <td>184708</td>\n",
       "    </tr>\n",
       "  </tbody>\n",
       "</table>\n",
       "</div>"
      ],
      "text/plain": [
       "   Project  # Contributors\n",
       "0  unknown          184708"
      ]
     },
     "execution_count": 54,
     "metadata": {},
     "output_type": "execute_result"
    }
   ],
   "source": [
    "print_df(result=result, group_field='projects', value_field='contributors', \\\n",
    "         group_column='Project', value_column='# Contributors')"
   ]
  },
  {
   "cell_type": "code",
   "execution_count": 90,
   "metadata": {
    "collapsed": false,
    "scrolled": false
   },
   "outputs": [
    {
     "data": {
      "text/html": [
       "<script>requirejs.config({paths: { 'plotly': ['https://cdn.plot.ly/plotly-latest.min']},});if(!window.Plotly) {{require(['plotly'],function(plotly) {window.Plotly=plotly;});}}</script>"
      ],
      "text/vnd.plotly.v1+html": [
       "<script>requirejs.config({paths: { 'plotly': ['https://cdn.plot.ly/plotly-latest.min']},});if(!window.Plotly) {{require(['plotly'],function(plotly) {window.Plotly=plotly;});}}</script>"
      ]
     },
     "metadata": {},
     "output_type": "display_data"
    },
    {
     "data": {
      "application/vnd.plotly.v1+json": {
       "data": [
        {
         "colorscale": [
          [
           0,
           "#00083e"
          ],
          [
           0.5,
           "#ededee"
          ],
          [
           1,
           "#ffffff"
          ]
         ],
         "hoverinfo": "none",
         "opacity": 0.75,
         "showscale": false,
         "type": "heatmap",
         "z": [
          [
           0,
           0,
           0,
           0
          ],
          [
           0.5,
           0.5,
           0.5,
           0.5
          ],
          [
           1,
           1,
           1,
           1
          ],
          [
           0.5,
           0.5,
           0.5,
           0.5
          ],
          [
           1,
           1,
           1,
           1
          ],
          [
           0.5,
           0.5,
           0.5,
           0.5
          ],
          [
           1,
           1,
           1,
           1
          ],
          [
           0.5,
           0.5,
           0.5,
           0.5
          ],
          [
           1,
           1,
           1,
           1
          ],
          [
           0.5,
           0.5,
           0.5,
           0.5
          ],
          [
           1,
           1,
           1,
           1
          ],
          [
           0.5,
           0.5,
           0.5,
           0.5
          ],
          [
           1,
           1,
           1,
           1
          ],
          [
           0.5,
           0.5,
           0.5,
           0.5
          ],
          [
           1,
           1,
           1,
           1
          ],
          [
           0.5,
           0.5,
           0.5,
           0.5
          ],
          [
           1,
           1,
           1,
           1
          ],
          [
           0.5,
           0.5,
           0.5,
           0.5
          ],
          [
           1,
           1,
           1,
           1
          ],
          [
           0.5,
           0.5,
           0.5,
           0.5
          ],
          [
           1,
           1,
           1,
           1
          ],
          [
           0.5,
           0.5,
           0.5,
           0.5
          ],
          [
           1,
           1,
           1,
           1
          ],
          [
           0.5,
           0.5,
           0.5,
           0.5
          ],
          [
           1,
           1,
           1,
           1
          ],
          [
           0.5,
           0.5,
           0.5,
           0.5
          ],
          [
           1,
           1,
           1,
           1
          ],
          [
           0.5,
           0.5,
           0.5,
           0.5
          ]
         ]
        }
       ],
       "layout": {
        "annotations": [
         {
          "align": "left",
          "font": {
           "color": "#ffffff"
          },
          "showarrow": false,
          "text": "<b>Project</b>",
          "x": -0.45,
          "xanchor": "left",
          "xref": "x1",
          "y": 0,
          "yref": "y1"
         },
         {
          "align": "left",
          "font": {
           "color": "#ffffff"
          },
          "showarrow": false,
          "text": "<b># Contributors</b>",
          "x": 0.55,
          "xanchor": "left",
          "xref": "x1",
          "y": 0,
          "yref": "y1"
         },
         {
          "align": "left",
          "font": {
           "color": "#ffffff"
          },
          "showarrow": false,
          "text": "<b>Component</b>",
          "x": 1.55,
          "xanchor": "left",
          "xref": "x1",
          "y": 0,
          "yref": "y1"
         },
         {
          "align": "left",
          "font": {
           "color": "#ffffff"
          },
          "showarrow": false,
          "text": "<b>Product</b>",
          "x": 2.55,
          "xanchor": "left",
          "xref": "x1",
          "y": 0,
          "yref": "y1"
         },
         {
          "align": "left",
          "font": {
           "color": "#000000"
          },
          "showarrow": false,
          "text": "Gecko",
          "x": -0.45,
          "xanchor": "left",
          "xref": "x1",
          "y": 1,
          "yref": "y1"
         },
         {
          "align": "left",
          "font": {
           "color": "#000000"
          },
          "showarrow": false,
          "text": "140256.0",
          "x": 0.55,
          "xanchor": "left",
          "xref": "x1",
          "y": 1,
          "yref": "y1"
         },
         {
          "align": "left",
          "font": {
           "color": "#000000"
          },
          "showarrow": false,
          "text": "248",
          "x": 1.55,
          "xanchor": "left",
          "xref": "x1",
          "y": 1,
          "yref": "y1"
         },
         {
          "align": "left",
          "font": {
           "color": "#000000"
          },
          "showarrow": false,
          "text": "5",
          "x": 2.55,
          "xanchor": "left",
          "xref": "x1",
          "y": 1,
          "yref": "y1"
         },
         {
          "align": "left",
          "font": {
           "color": "#000000"
          },
          "showarrow": false,
          "text": "Firefox",
          "x": -0.45,
          "xanchor": "left",
          "xref": "x1",
          "y": 2,
          "yref": "y1"
         },
         {
          "align": "left",
          "font": {
           "color": "#000000"
          },
          "showarrow": false,
          "text": "97486.0",
          "x": 0.55,
          "xanchor": "left",
          "xref": "x1",
          "y": 2,
          "yref": "y1"
         },
         {
          "align": "left",
          "font": {
           "color": "#000000"
          },
          "showarrow": false,
          "text": "59",
          "x": 1.55,
          "xanchor": "left",
          "xref": "x1",
          "y": 2,
          "yref": "y1"
         },
         {
          "align": "left",
          "font": {
           "color": "#000000"
          },
          "showarrow": false,
          "text": "3",
          "x": 2.55,
          "xanchor": "left",
          "xref": "x1",
          "y": 2,
          "yref": "y1"
         },
         {
          "align": "left",
          "font": {
           "color": "#000000"
          },
          "showarrow": false,
          "text": "Thunderbird",
          "x": -0.45,
          "xanchor": "left",
          "xref": "x1",
          "y": 3,
          "yref": "y1"
         },
         {
          "align": "left",
          "font": {
           "color": "#000000"
          },
          "showarrow": false,
          "text": "46366.0",
          "x": 0.55,
          "xanchor": "left",
          "xref": "x1",
          "y": 3,
          "yref": "y1"
         },
         {
          "align": "left",
          "font": {
           "color": "#000000"
          },
          "showarrow": false,
          "text": "48",
          "x": 1.55,
          "xanchor": "left",
          "xref": "x1",
          "y": 3,
          "yref": "y1"
         },
         {
          "align": "left",
          "font": {
           "color": "#000000"
          },
          "showarrow": false,
          "text": "3",
          "x": 2.55,
          "xanchor": "left",
          "xref": "x1",
          "y": 3,
          "yref": "y1"
         },
         {
          "align": "left",
          "font": {
           "color": "#000000"
          },
          "showarrow": false,
          "text": "Firefox OS (FxOS / B2G)",
          "x": -0.45,
          "xanchor": "left",
          "xref": "x1",
          "y": 4,
          "yref": "y1"
         },
         {
          "align": "left",
          "font": {
           "color": "#000000"
          },
          "showarrow": false,
          "text": "15783.0",
          "x": 0.55,
          "xanchor": "left",
          "xref": "x1",
          "y": 4,
          "yref": "y1"
         },
         {
          "align": "left",
          "font": {
           "color": "#000000"
          },
          "showarrow": false,
          "text": "116",
          "x": 1.55,
          "xanchor": "left",
          "xref": "x1",
          "y": 4,
          "yref": "y1"
         },
         {
          "align": "left",
          "font": {
           "color": "#000000"
          },
          "showarrow": false,
          "text": "4",
          "x": 2.55,
          "xanchor": "left",
          "xref": "x1",
          "y": 4,
          "yref": "y1"
         },
         {
          "align": "left",
          "font": {
           "color": "#000000"
          },
          "showarrow": false,
          "text": "IT/Ops",
          "x": -0.45,
          "xanchor": "left",
          "xref": "x1",
          "y": 5,
          "yref": "y1"
         },
         {
          "align": "left",
          "font": {
           "color": "#000000"
          },
          "showarrow": false,
          "text": "14823.0",
          "x": 0.55,
          "xanchor": "left",
          "xref": "x1",
          "y": 5,
          "yref": "y1"
         },
         {
          "align": "left",
          "font": {
           "color": "#000000"
          },
          "showarrow": false,
          "text": "214",
          "x": 1.55,
          "xanchor": "left",
          "xref": "x1",
          "y": 5,
          "yref": "y1"
         },
         {
          "align": "left",
          "font": {
           "color": "#000000"
          },
          "showarrow": false,
          "text": "11",
          "x": 2.55,
          "xanchor": "left",
          "xref": "x1",
          "y": 5,
          "yref": "y1"
         },
         {
          "align": "left",
          "font": {
           "color": "#000000"
          },
          "showarrow": false,
          "text": "Web Properties",
          "x": -0.45,
          "xanchor": "left",
          "xref": "x1",
          "y": 6,
          "yref": "y1"
         },
         {
          "align": "left",
          "font": {
           "color": "#000000"
          },
          "showarrow": false,
          "text": "13482.0",
          "x": 0.55,
          "xanchor": "left",
          "xref": "x1",
          "y": 6,
          "yref": "y1"
         },
         {
          "align": "left",
          "font": {
           "color": "#000000"
          },
          "showarrow": false,
          "text": "182",
          "x": 1.55,
          "xanchor": "left",
          "xref": "x1",
          "y": 6,
          "yref": "y1"
         },
         {
          "align": "left",
          "font": {
           "color": "#000000"
          },
          "showarrow": false,
          "text": "16",
          "x": 2.55,
          "xanchor": "left",
          "xref": "x1",
          "y": 6,
          "yref": "y1"
         },
         {
          "align": "left",
          "font": {
           "color": "#000000"
          },
          "showarrow": false,
          "text": "Technical/Developer Evangelism",
          "x": -0.45,
          "xanchor": "left",
          "xref": "x1",
          "y": 7,
          "yref": "y1"
         },
         {
          "align": "left",
          "font": {
           "color": "#000000"
          },
          "showarrow": false,
          "text": "6805.0",
          "x": 0.55,
          "xanchor": "left",
          "xref": "x1",
          "y": 7,
          "yref": "y1"
         },
         {
          "align": "left",
          "font": {
           "color": "#000000"
          },
          "showarrow": false,
          "text": "47",
          "x": 1.55,
          "xanchor": "left",
          "xref": "x1",
          "y": 7,
          "yref": "y1"
         },
         {
          "align": "left",
          "font": {
           "color": "#000000"
          },
          "showarrow": false,
          "text": "3",
          "x": 2.55,
          "xanchor": "left",
          "xref": "x1",
          "y": 7,
          "yref": "y1"
         },
         {
          "align": "left",
          "font": {
           "color": "#000000"
          },
          "showarrow": false,
          "text": "Firefox Android",
          "x": -0.45,
          "xanchor": "left",
          "xref": "x1",
          "y": 8,
          "yref": "y1"
         },
         {
          "align": "left",
          "font": {
           "color": "#000000"
          },
          "showarrow": false,
          "text": "5476.0",
          "x": 0.55,
          "xanchor": "left",
          "xref": "x1",
          "y": 8,
          "yref": "y1"
         },
         {
          "align": "left",
          "font": {
           "color": "#000000"
          },
          "showarrow": false,
          "text": "36",
          "x": 1.55,
          "xanchor": "left",
          "xref": "x1",
          "y": 8,
          "yref": "y1"
         },
         {
          "align": "left",
          "font": {
           "color": "#000000"
          },
          "showarrow": false,
          "text": "2",
          "x": 2.55,
          "xanchor": "left",
          "xref": "x1",
          "y": 8,
          "yref": "y1"
         },
         {
          "align": "left",
          "font": {
           "color": "#000000"
          },
          "showarrow": false,
          "text": "Localization",
          "x": -0.45,
          "xanchor": "left",
          "xref": "x1",
          "y": 9,
          "yref": "y1"
         },
         {
          "align": "left",
          "font": {
           "color": "#000000"
          },
          "showarrow": false,
          "text": "4947.0",
          "x": 0.55,
          "xanchor": "left",
          "xref": "x1",
          "y": 9,
          "yref": "y1"
         },
         {
          "align": "left",
          "font": {
           "color": "#000000"
          },
          "showarrow": false,
          "text": "149",
          "x": 1.55,
          "xanchor": "left",
          "xref": "x1",
          "y": 9,
          "yref": "y1"
         },
         {
          "align": "left",
          "font": {
           "color": "#000000"
          },
          "showarrow": false,
          "text": "4",
          "x": 2.55,
          "xanchor": "left",
          "xref": "x1",
          "y": 9,
          "yref": "y1"
         },
         {
          "align": "left",
          "font": {
           "color": "#000000"
          },
          "showarrow": false,
          "text": "Addons/Web Extensions",
          "x": -0.45,
          "xanchor": "left",
          "xref": "x1",
          "y": 10,
          "yref": "y1"
         },
         {
          "align": "left",
          "font": {
           "color": "#000000"
          },
          "showarrow": false,
          "text": "4223.0",
          "x": 0.55,
          "xanchor": "left",
          "xref": "x1",
          "y": 10,
          "yref": "y1"
         },
         {
          "align": "left",
          "font": {
           "color": "#000000"
          },
          "showarrow": false,
          "text": "25",
          "x": 1.55,
          "xanchor": "left",
          "xref": "x1",
          "y": 10,
          "yref": "y1"
         },
         {
          "align": "left",
          "font": {
           "color": "#000000"
          },
          "showarrow": false,
          "text": "3",
          "x": 2.55,
          "xanchor": "left",
          "xref": "x1",
          "y": 10,
          "yref": "y1"
         },
         {
          "align": "left",
          "font": {
           "color": "#000000"
          },
          "showarrow": false,
          "text": "Mozilla Developer Network (MDN)",
          "x": -0.45,
          "xanchor": "left",
          "xref": "x1",
          "y": 11,
          "yref": "y1"
         },
         {
          "align": "left",
          "font": {
           "color": "#000000"
          },
          "showarrow": false,
          "text": "3535.0",
          "x": 0.55,
          "xanchor": "left",
          "xref": "x1",
          "y": 11,
          "yref": "y1"
         },
         {
          "align": "left",
          "font": {
           "color": "#000000"
          },
          "showarrow": false,
          "text": "56",
          "x": 1.55,
          "xanchor": "left",
          "xref": "x1",
          "y": 11,
          "yref": "y1"
         },
         {
          "align": "left",
          "font": {
           "color": "#000000"
          },
          "showarrow": false,
          "text": "2",
          "x": 2.55,
          "xanchor": "left",
          "xref": "x1",
          "y": 11,
          "yref": "y1"
         },
         {
          "align": "left",
          "font": {
           "color": "#000000"
          },
          "showarrow": false,
          "text": "Developer Tools",
          "x": -0.45,
          "xanchor": "left",
          "xref": "x1",
          "y": 12,
          "yref": "y1"
         },
         {
          "align": "left",
          "font": {
           "color": "#000000"
          },
          "showarrow": false,
          "text": "3226.0",
          "x": 0.55,
          "xanchor": "left",
          "xref": "x1",
          "y": 12,
          "yref": "y1"
         },
         {
          "align": "left",
          "font": {
           "color": "#000000"
          },
          "showarrow": false,
          "text": "24",
          "x": 1.55,
          "xanchor": "left",
          "xref": "x1",
          "y": 12,
          "yref": "y1"
         },
         {
          "align": "left",
          "font": {
           "color": "#000000"
          },
          "showarrow": false,
          "text": "1",
          "x": 2.55,
          "xanchor": "left",
          "xref": "x1",
          "y": 12,
          "yref": "y1"
         },
         {
          "align": "left",
          "font": {
           "color": "#000000"
          },
          "showarrow": false,
          "text": "Quality Assurance",
          "x": -0.45,
          "xanchor": "left",
          "xref": "x1",
          "y": 13,
          "yref": "y1"
         },
         {
          "align": "left",
          "font": {
           "color": "#000000"
          },
          "showarrow": false,
          "text": "2574.0",
          "x": 0.55,
          "xanchor": "left",
          "xref": "x1",
          "y": 13,
          "yref": "y1"
         },
         {
          "align": "left",
          "font": {
           "color": "#000000"
          },
          "showarrow": false,
          "text": "43",
          "x": 1.55,
          "xanchor": "left",
          "xref": "x1",
          "y": 13,
          "yref": "y1"
         },
         {
          "align": "left",
          "font": {
           "color": "#000000"
          },
          "showarrow": false,
          "text": "4",
          "x": 2.55,
          "xanchor": "left",
          "xref": "x1",
          "y": 13,
          "yref": "y1"
         },
         {
          "align": "left",
          "font": {
           "color": "#000000"
          },
          "showarrow": false,
          "text": "Release engineering",
          "x": -0.45,
          "xanchor": "left",
          "xref": "x1",
          "y": 14,
          "yref": "y1"
         },
         {
          "align": "left",
          "font": {
           "color": "#000000"
          },
          "showarrow": false,
          "text": "2105.0",
          "x": 0.55,
          "xanchor": "left",
          "xref": "x1",
          "y": 14,
          "yref": "y1"
         },
         {
          "align": "left",
          "font": {
           "color": "#000000"
          },
          "showarrow": false,
          "text": "14",
          "x": 1.55,
          "xanchor": "left",
          "xref": "x1",
          "y": 14,
          "yref": "y1"
         },
         {
          "align": "left",
          "font": {
           "color": "#000000"
          },
          "showarrow": false,
          "text": "1",
          "x": 2.55,
          "xanchor": "left",
          "xref": "x1",
          "y": 14,
          "yref": "y1"
         },
         {
          "align": "left",
          "font": {
           "color": "#000000"
          },
          "showarrow": false,
          "text": "Web Literacy",
          "x": -0.45,
          "xanchor": "left",
          "xref": "x1",
          "y": 15,
          "yref": "y1"
         },
         {
          "align": "left",
          "font": {
           "color": "#000000"
          },
          "showarrow": false,
          "text": "1012.0",
          "x": 0.55,
          "xanchor": "left",
          "xref": "x1",
          "y": 15,
          "yref": "y1"
         },
         {
          "align": "left",
          "font": {
           "color": "#000000"
          },
          "showarrow": false,
          "text": "26",
          "x": 1.55,
          "xanchor": "left",
          "xref": "x1",
          "y": 15,
          "yref": "y1"
         },
         {
          "align": "left",
          "font": {
           "color": "#000000"
          },
          "showarrow": false,
          "text": "1",
          "x": 2.55,
          "xanchor": "left",
          "xref": "x1",
          "y": 15,
          "yref": "y1"
         },
         {
          "align": "left",
          "font": {
           "color": "#000000"
          },
          "showarrow": false,
          "text": "Marketing / Social Media",
          "x": -0.45,
          "xanchor": "left",
          "xref": "x1",
          "y": 16,
          "yref": "y1"
         },
         {
          "align": "left",
          "font": {
           "color": "#000000"
          },
          "showarrow": false,
          "text": "832.0",
          "x": 0.55,
          "xanchor": "left",
          "xref": "x1",
          "y": 16,
          "yref": "y1"
         },
         {
          "align": "left",
          "font": {
           "color": "#000000"
          },
          "showarrow": false,
          "text": "21",
          "x": 1.55,
          "xanchor": "left",
          "xref": "x1",
          "y": 16,
          "yref": "y1"
         },
         {
          "align": "left",
          "font": {
           "color": "#000000"
          },
          "showarrow": false,
          "text": "4",
          "x": 2.55,
          "xanchor": "left",
          "xref": "x1",
          "y": 16,
          "yref": "y1"
         },
         {
          "align": "left",
          "font": {
           "color": "#000000"
          },
          "showarrow": false,
          "text": "Firefox iOS",
          "x": -0.45,
          "xanchor": "left",
          "xref": "x1",
          "y": 17,
          "yref": "y1"
         },
         {
          "align": "left",
          "font": {
           "color": "#000000"
          },
          "showarrow": false,
          "text": "593.0",
          "x": 0.55,
          "xanchor": "left",
          "xref": "x1",
          "y": 17,
          "yref": "y1"
         },
         {
          "align": "left",
          "font": {
           "color": "#000000"
          },
          "showarrow": false,
          "text": "15",
          "x": 1.55,
          "xanchor": "left",
          "xref": "x1",
          "y": 17,
          "yref": "y1"
         },
         {
          "align": "left",
          "font": {
           "color": "#000000"
          },
          "showarrow": false,
          "text": "1",
          "x": 2.55,
          "xanchor": "left",
          "xref": "x1",
          "y": 17,
          "yref": "y1"
         },
         {
          "align": "left",
          "font": {
           "color": "#000000"
          },
          "showarrow": false,
          "text": "Mozilla Local/Regional communities",
          "x": -0.45,
          "xanchor": "left",
          "xref": "x1",
          "y": 18,
          "yref": "y1"
         },
         {
          "align": "left",
          "font": {
           "color": "#000000"
          },
          "showarrow": false,
          "text": "346.0",
          "x": 0.55,
          "xanchor": "left",
          "xref": "x1",
          "y": 18,
          "yref": "y1"
         },
         {
          "align": "left",
          "font": {
           "color": "#000000"
          },
          "showarrow": false,
          "text": "19",
          "x": 1.55,
          "xanchor": "left",
          "xref": "x1",
          "y": 18,
          "yref": "y1"
         },
         {
          "align": "left",
          "font": {
           "color": "#000000"
          },
          "showarrow": false,
          "text": "2",
          "x": 2.55,
          "xanchor": "left",
          "xref": "x1",
          "y": 18,
          "yref": "y1"
         },
         {
          "align": "left",
          "font": {
           "color": "#000000"
          },
          "showarrow": false,
          "text": "Mozilla Creative & Design",
          "x": -0.45,
          "xanchor": "left",
          "xref": "x1",
          "y": 19,
          "yref": "y1"
         },
         {
          "align": "left",
          "font": {
           "color": "#000000"
          },
          "showarrow": false,
          "text": "284.0",
          "x": 0.55,
          "xanchor": "left",
          "xref": "x1",
          "y": 19,
          "yref": "y1"
         },
         {
          "align": "left",
          "font": {
           "color": "#000000"
          },
          "showarrow": false,
          "text": "1",
          "x": 1.55,
          "xanchor": "left",
          "xref": "x1",
          "y": 19,
          "yref": "y1"
         },
         {
          "align": "left",
          "font": {
           "color": "#000000"
          },
          "showarrow": false,
          "text": "1",
          "x": 2.55,
          "xanchor": "left",
          "xref": "x1",
          "y": 19,
          "yref": "y1"
         },
         {
          "align": "left",
          "font": {
           "color": "#000000"
          },
          "showarrow": false,
          "text": "Mozilla support (SUMO)",
          "x": -0.45,
          "xanchor": "left",
          "xref": "x1",
          "y": 20,
          "yref": "y1"
         },
         {
          "align": "left",
          "font": {
           "color": "#000000"
          },
          "showarrow": false,
          "text": "224.0",
          "x": 0.55,
          "xanchor": "left",
          "xref": "x1",
          "y": 20,
          "yref": "y1"
         },
         {
          "align": "left",
          "font": {
           "color": "#000000"
          },
          "showarrow": false,
          "text": "13",
          "x": 1.55,
          "xanchor": "left",
          "xref": "x1",
          "y": 20,
          "yref": "y1"
         },
         {
          "align": "left",
          "font": {
           "color": "#000000"
          },
          "showarrow": false,
          "text": "3",
          "x": 2.55,
          "xanchor": "left",
          "xref": "x1",
          "y": 20,
          "yref": "y1"
         },
         {
          "align": "left",
          "font": {
           "color": "#000000"
          },
          "showarrow": false,
          "text": "Mozilla Foundation",
          "x": -0.45,
          "xanchor": "left",
          "xref": "x1",
          "y": 21,
          "yref": "y1"
         },
         {
          "align": "left",
          "font": {
           "color": "#000000"
          },
          "showarrow": false,
          "text": "125.0",
          "x": 0.55,
          "xanchor": "left",
          "xref": "x1",
          "y": 21,
          "yref": "y1"
         },
         {
          "align": "left",
          "font": {
           "color": "#000000"
          },
          "showarrow": false,
          "text": "15",
          "x": 1.55,
          "xanchor": "left",
          "xref": "x1",
          "y": 21,
          "yref": "y1"
         },
         {
          "align": "left",
          "font": {
           "color": "#000000"
          },
          "showarrow": false,
          "text": "2",
          "x": 2.55,
          "xanchor": "left",
          "xref": "x1",
          "y": 21,
          "yref": "y1"
         },
         {
          "align": "left",
          "font": {
           "color": "#000000"
          },
          "showarrow": false,
          "text": "Firefox Focus",
          "x": -0.45,
          "xanchor": "left",
          "xref": "x1",
          "y": 22,
          "yref": "y1"
         },
         {
          "align": "left",
          "font": {
           "color": "#000000"
          },
          "showarrow": false,
          "text": "24.0",
          "x": 0.55,
          "xanchor": "left",
          "xref": "x1",
          "y": 22,
          "yref": "y1"
         },
         {
          "align": "left",
          "font": {
           "color": "#000000"
          },
          "showarrow": false,
          "text": "1",
          "x": 1.55,
          "xanchor": "left",
          "xref": "x1",
          "y": 22,
          "yref": "y1"
         },
         {
          "align": "left",
          "font": {
           "color": "#000000"
          },
          "showarrow": false,
          "text": "1",
          "x": 2.55,
          "xanchor": "left",
          "xref": "x1",
          "y": 22,
          "yref": "y1"
         },
         {
          "align": "left",
          "font": {
           "color": "#000000"
          },
          "showarrow": false,
          "text": "Web Compatibility",
          "x": -0.45,
          "xanchor": "left",
          "xref": "x1",
          "y": 23,
          "yref": "y1"
         },
         {
          "align": "left",
          "font": {
           "color": "#000000"
          },
          "showarrow": false,
          "text": "15.0",
          "x": 0.55,
          "xanchor": "left",
          "xref": "x1",
          "y": 23,
          "yref": "y1"
         },
         {
          "align": "left",
          "font": {
           "color": "#000000"
          },
          "showarrow": false,
          "text": "2",
          "x": 1.55,
          "xanchor": "left",
          "xref": "x1",
          "y": 23,
          "yref": "y1"
         },
         {
          "align": "left",
          "font": {
           "color": "#000000"
          },
          "showarrow": false,
          "text": "1",
          "x": 2.55,
          "xanchor": "left",
          "xref": "x1",
          "y": 23,
          "yref": "y1"
         },
         {
          "align": "left",
          "font": {
           "color": "#000000"
          },
          "showarrow": false,
          "text": "Advocacy and policy",
          "x": -0.45,
          "xanchor": "left",
          "xref": "x1",
          "y": 24,
          "yref": "y1"
         },
         {
          "align": "left",
          "font": {
           "color": "#000000"
          },
          "showarrow": false,
          "text": "14.0",
          "x": 0.55,
          "xanchor": "left",
          "xref": "x1",
          "y": 24,
          "yref": "y1"
         },
         {
          "align": "left",
          "font": {
           "color": "#000000"
          },
          "showarrow": false,
          "text": "4",
          "x": 1.55,
          "xanchor": "left",
          "xref": "x1",
          "y": 24,
          "yref": "y1"
         },
         {
          "align": "left",
          "font": {
           "color": "#000000"
          },
          "showarrow": false,
          "text": "1",
          "x": 2.55,
          "xanchor": "left",
          "xref": "x1",
          "y": 24,
          "yref": "y1"
         },
         {
          "align": "left",
          "font": {
           "color": "#000000"
          },
          "showarrow": false,
          "text": "Connected devices & IoT",
          "x": -0.45,
          "xanchor": "left",
          "xref": "x1",
          "y": 25,
          "yref": "y1"
         },
         {
          "align": "left",
          "font": {
           "color": "#000000"
          },
          "showarrow": false,
          "text": "10.0",
          "x": 0.55,
          "xanchor": "left",
          "xref": "x1",
          "y": 25,
          "yref": "y1"
         },
         {
          "align": "left",
          "font": {
           "color": "#000000"
          },
          "showarrow": false,
          "text": "3",
          "x": 1.55,
          "xanchor": "left",
          "xref": "x1",
          "y": 25,
          "yref": "y1"
         },
         {
          "align": "left",
          "font": {
           "color": "#000000"
          },
          "showarrow": false,
          "text": "1",
          "x": 2.55,
          "xanchor": "left",
          "xref": "x1",
          "y": 25,
          "yref": "y1"
         },
         {
          "align": "left",
          "font": {
           "color": "#000000"
          },
          "showarrow": false,
          "text": "Rust",
          "x": -0.45,
          "xanchor": "left",
          "xref": "x1",
          "y": 26,
          "yref": "y1"
         },
         {
          "align": "left",
          "font": {
           "color": "#000000"
          },
          "showarrow": false,
          "text": "5.0",
          "x": 0.55,
          "xanchor": "left",
          "xref": "x1",
          "y": 26,
          "yref": "y1"
         },
         {
          "align": "left",
          "font": {
           "color": "#000000"
          },
          "showarrow": false,
          "text": "1",
          "x": 1.55,
          "xanchor": "left",
          "xref": "x1",
          "y": 26,
          "yref": "y1"
         },
         {
          "align": "left",
          "font": {
           "color": "#000000"
          },
          "showarrow": false,
          "text": "1",
          "x": 2.55,
          "xanchor": "left",
          "xref": "x1",
          "y": 26,
          "yref": "y1"
         },
         {
          "align": "left",
          "font": {
           "color": "#000000"
          },
          "showarrow": false,
          "text": "Firefox Student Ambassadors",
          "x": -0.45,
          "xanchor": "left",
          "xref": "x1",
          "y": 27,
          "yref": "y1"
         },
         {
          "align": "left",
          "font": {
           "color": "#000000"
          },
          "showarrow": false,
          "text": "1.0",
          "x": 0.55,
          "xanchor": "left",
          "xref": "x1",
          "y": 27,
          "yref": "y1"
         },
         {
          "align": "left",
          "font": {
           "color": "#000000"
          },
          "showarrow": false,
          "text": "1",
          "x": 1.55,
          "xanchor": "left",
          "xref": "x1",
          "y": 27,
          "yref": "y1"
         },
         {
          "align": "left",
          "font": {
           "color": "#000000"
          },
          "showarrow": false,
          "text": "1",
          "x": 2.55,
          "xanchor": "left",
          "xref": "x1",
          "y": 27,
          "yref": "y1"
         }
        ],
        "height": 890,
        "margin": {
         "b": 0,
         "l": 0,
         "r": 0,
         "t": 0
        },
        "xaxis": {
         "dtick": 1,
         "gridwidth": 2,
         "showticklabels": false,
         "tick0": -0.5,
         "ticks": "",
         "zeroline": false
        },
        "yaxis": {
         "autorange": "reversed",
         "dtick": 1,
         "gridwidth": 2,
         "showticklabels": false,
         "tick0": 0.5,
         "ticks": "",
         "zeroline": false
        }
       }
      },
      "text/html": [
       "<div id=\"5678a474-1d04-44e7-ac63-a84aee3459d7\" style=\"height: 890px; width: 100%;\" class=\"plotly-graph-div\"></div><script type=\"text/javascript\">require([\"plotly\"], function(Plotly) { window.PLOTLYENV=window.PLOTLYENV || {};window.PLOTLYENV.BASE_URL=\"https://plot.ly\";Plotly.newPlot(\"5678a474-1d04-44e7-ac63-a84aee3459d7\", [{\"opacity\": 0.75, \"hoverinfo\": \"none\", \"showscale\": false, \"type\": \"heatmap\", \"z\": [[0, 0, 0, 0], [0.5, 0.5, 0.5, 0.5], [1, 1, 1, 1], [0.5, 0.5, 0.5, 0.5], [1, 1, 1, 1], [0.5, 0.5, 0.5, 0.5], [1, 1, 1, 1], [0.5, 0.5, 0.5, 0.5], [1, 1, 1, 1], [0.5, 0.5, 0.5, 0.5], [1, 1, 1, 1], [0.5, 0.5, 0.5, 0.5], [1, 1, 1, 1], [0.5, 0.5, 0.5, 0.5], [1, 1, 1, 1], [0.5, 0.5, 0.5, 0.5], [1, 1, 1, 1], [0.5, 0.5, 0.5, 0.5], [1, 1, 1, 1], [0.5, 0.5, 0.5, 0.5], [1, 1, 1, 1], [0.5, 0.5, 0.5, 0.5], [1, 1, 1, 1], [0.5, 0.5, 0.5, 0.5], [1, 1, 1, 1], [0.5, 0.5, 0.5, 0.5], [1, 1, 1, 1], [0.5, 0.5, 0.5, 0.5]], \"colorscale\": [[0, \"#00083e\"], [0.5, \"#ededee\"], [1, \"#ffffff\"]]}], {\"height\": 890, \"yaxis\": {\"ticks\": \"\", \"gridwidth\": 2, \"zeroline\": false, \"dtick\": 1, \"tick0\": 0.5, \"autorange\": \"reversed\", \"showticklabels\": false}, \"margin\": {\"r\": 0, \"l\": 0, \"b\": 0, \"t\": 0}, \"annotations\": [{\"align\": \"left\", \"xref\": \"x1\", \"xanchor\": \"left\", \"text\": \"<b>Project</b>\", \"font\": {\"color\": \"#ffffff\"}, \"y\": 0, \"x\": -0.45, \"showarrow\": false, \"yref\": \"y1\"}, {\"align\": \"left\", \"xref\": \"x1\", \"xanchor\": \"left\", \"text\": \"<b># Contributors</b>\", \"font\": {\"color\": \"#ffffff\"}, \"y\": 0, \"x\": 0.55, \"showarrow\": false, \"yref\": \"y1\"}, {\"align\": \"left\", \"xref\": \"x1\", \"xanchor\": \"left\", \"text\": \"<b>Component</b>\", \"font\": {\"color\": \"#ffffff\"}, \"y\": 0, \"x\": 1.55, \"showarrow\": false, \"yref\": \"y1\"}, {\"align\": \"left\", \"xref\": \"x1\", \"xanchor\": \"left\", \"text\": \"<b>Product</b>\", \"font\": {\"color\": \"#ffffff\"}, \"y\": 0, \"x\": 2.55, \"showarrow\": false, \"yref\": \"y1\"}, {\"align\": \"left\", \"xref\": \"x1\", \"xanchor\": \"left\", \"text\": \"Gecko\", \"font\": {\"color\": \"#000000\"}, \"y\": 1, \"x\": -0.45, \"showarrow\": false, \"yref\": \"y1\"}, {\"align\": \"left\", \"xref\": \"x1\", \"xanchor\": \"left\", \"text\": \"140256.0\", \"font\": {\"color\": \"#000000\"}, \"y\": 1, \"x\": 0.55, \"showarrow\": false, \"yref\": \"y1\"}, {\"align\": \"left\", \"xref\": \"x1\", \"xanchor\": \"left\", \"text\": \"248\", \"font\": {\"color\": \"#000000\"}, \"y\": 1, \"x\": 1.55, \"showarrow\": false, \"yref\": \"y1\"}, {\"align\": \"left\", \"xref\": \"x1\", \"xanchor\": \"left\", \"text\": \"5\", \"font\": {\"color\": \"#000000\"}, \"y\": 1, \"x\": 2.55, \"showarrow\": false, \"yref\": \"y1\"}, {\"align\": \"left\", \"xref\": \"x1\", \"xanchor\": \"left\", \"text\": \"Firefox\", \"font\": {\"color\": \"#000000\"}, \"y\": 2, \"x\": -0.45, \"showarrow\": false, \"yref\": \"y1\"}, {\"align\": \"left\", \"xref\": \"x1\", \"xanchor\": \"left\", \"text\": \"97486.0\", \"font\": {\"color\": \"#000000\"}, \"y\": 2, \"x\": 0.55, \"showarrow\": false, \"yref\": \"y1\"}, {\"align\": \"left\", \"xref\": \"x1\", \"xanchor\": \"left\", \"text\": \"59\", \"font\": {\"color\": \"#000000\"}, \"y\": 2, \"x\": 1.55, \"showarrow\": false, \"yref\": \"y1\"}, {\"align\": \"left\", \"xref\": \"x1\", \"xanchor\": \"left\", \"text\": \"3\", \"font\": {\"color\": \"#000000\"}, \"y\": 2, \"x\": 2.55, \"showarrow\": false, \"yref\": \"y1\"}, {\"align\": \"left\", \"xref\": \"x1\", \"xanchor\": \"left\", \"text\": \"Thunderbird\", \"font\": {\"color\": \"#000000\"}, \"y\": 3, \"x\": -0.45, \"showarrow\": false, \"yref\": \"y1\"}, {\"align\": \"left\", \"xref\": \"x1\", \"xanchor\": \"left\", \"text\": \"46366.0\", \"font\": {\"color\": \"#000000\"}, \"y\": 3, \"x\": 0.55, \"showarrow\": false, \"yref\": \"y1\"}, {\"align\": \"left\", \"xref\": \"x1\", \"xanchor\": \"left\", \"text\": \"48\", \"font\": {\"color\": \"#000000\"}, \"y\": 3, \"x\": 1.55, \"showarrow\": false, \"yref\": \"y1\"}, {\"align\": \"left\", \"xref\": \"x1\", \"xanchor\": \"left\", \"text\": \"3\", \"font\": {\"color\": \"#000000\"}, \"y\": 3, \"x\": 2.55, \"showarrow\": false, \"yref\": \"y1\"}, {\"align\": \"left\", \"xref\": \"x1\", \"xanchor\": \"left\", \"text\": \"Firefox OS (FxOS / B2G)\", \"font\": {\"color\": \"#000000\"}, \"y\": 4, \"x\": -0.45, \"showarrow\": false, \"yref\": \"y1\"}, {\"align\": \"left\", \"xref\": \"x1\", \"xanchor\": \"left\", \"text\": \"15783.0\", \"font\": {\"color\": \"#000000\"}, \"y\": 4, \"x\": 0.55, \"showarrow\": false, \"yref\": \"y1\"}, {\"align\": \"left\", \"xref\": \"x1\", \"xanchor\": \"left\", \"text\": \"116\", \"font\": {\"color\": \"#000000\"}, \"y\": 4, \"x\": 1.55, \"showarrow\": false, \"yref\": \"y1\"}, {\"align\": \"left\", \"xref\": \"x1\", \"xanchor\": \"left\", \"text\": \"4\", \"font\": {\"color\": \"#000000\"}, \"y\": 4, \"x\": 2.55, \"showarrow\": false, \"yref\": \"y1\"}, {\"align\": \"left\", \"xref\": \"x1\", \"xanchor\": \"left\", \"text\": \"IT/Ops\", \"font\": {\"color\": \"#000000\"}, \"y\": 5, \"x\": -0.45, \"showarrow\": false, \"yref\": \"y1\"}, {\"align\": \"left\", \"xref\": \"x1\", \"xanchor\": \"left\", \"text\": \"14823.0\", \"font\": {\"color\": \"#000000\"}, \"y\": 5, \"x\": 0.55, \"showarrow\": false, \"yref\": \"y1\"}, {\"align\": \"left\", \"xref\": \"x1\", \"xanchor\": \"left\", \"text\": \"214\", \"font\": {\"color\": \"#000000\"}, \"y\": 5, \"x\": 1.55, \"showarrow\": false, \"yref\": \"y1\"}, {\"align\": \"left\", \"xref\": \"x1\", \"xanchor\": \"left\", \"text\": \"11\", \"font\": {\"color\": \"#000000\"}, \"y\": 5, \"x\": 2.55, \"showarrow\": false, \"yref\": \"y1\"}, {\"align\": \"left\", \"xref\": \"x1\", \"xanchor\": \"left\", \"text\": \"Web Properties\", \"font\": {\"color\": \"#000000\"}, \"y\": 6, \"x\": -0.45, \"showarrow\": false, \"yref\": \"y1\"}, {\"align\": \"left\", \"xref\": \"x1\", \"xanchor\": \"left\", \"text\": \"13482.0\", \"font\": {\"color\": \"#000000\"}, \"y\": 6, \"x\": 0.55, \"showarrow\": false, \"yref\": \"y1\"}, {\"align\": \"left\", \"xref\": \"x1\", \"xanchor\": \"left\", \"text\": \"182\", \"font\": {\"color\": \"#000000\"}, \"y\": 6, \"x\": 1.55, \"showarrow\": false, \"yref\": \"y1\"}, {\"align\": \"left\", \"xref\": \"x1\", \"xanchor\": \"left\", \"text\": \"16\", \"font\": {\"color\": \"#000000\"}, \"y\": 6, \"x\": 2.55, \"showarrow\": false, \"yref\": \"y1\"}, {\"align\": \"left\", \"xref\": \"x1\", \"xanchor\": \"left\", \"text\": \"Technical/Developer Evangelism\", \"font\": {\"color\": \"#000000\"}, \"y\": 7, \"x\": -0.45, \"showarrow\": false, \"yref\": \"y1\"}, {\"align\": \"left\", \"xref\": \"x1\", \"xanchor\": \"left\", \"text\": \"6805.0\", \"font\": {\"color\": \"#000000\"}, \"y\": 7, \"x\": 0.55, \"showarrow\": false, \"yref\": \"y1\"}, {\"align\": \"left\", \"xref\": \"x1\", \"xanchor\": \"left\", \"text\": \"47\", \"font\": {\"color\": \"#000000\"}, \"y\": 7, \"x\": 1.55, \"showarrow\": false, \"yref\": \"y1\"}, {\"align\": \"left\", \"xref\": \"x1\", \"xanchor\": \"left\", \"text\": \"3\", \"font\": {\"color\": \"#000000\"}, \"y\": 7, \"x\": 2.55, \"showarrow\": false, \"yref\": \"y1\"}, {\"align\": \"left\", \"xref\": \"x1\", \"xanchor\": \"left\", \"text\": \"Firefox Android\", \"font\": {\"color\": \"#000000\"}, \"y\": 8, \"x\": -0.45, \"showarrow\": false, \"yref\": \"y1\"}, {\"align\": \"left\", \"xref\": \"x1\", \"xanchor\": \"left\", \"text\": \"5476.0\", \"font\": {\"color\": \"#000000\"}, \"y\": 8, \"x\": 0.55, \"showarrow\": false, \"yref\": \"y1\"}, {\"align\": \"left\", \"xref\": \"x1\", \"xanchor\": \"left\", \"text\": \"36\", \"font\": {\"color\": \"#000000\"}, \"y\": 8, \"x\": 1.55, \"showarrow\": false, \"yref\": \"y1\"}, {\"align\": \"left\", \"xref\": \"x1\", \"xanchor\": \"left\", \"text\": \"2\", \"font\": {\"color\": \"#000000\"}, \"y\": 8, \"x\": 2.55, \"showarrow\": false, \"yref\": \"y1\"}, {\"align\": \"left\", \"xref\": \"x1\", \"xanchor\": \"left\", \"text\": \"Localization\", \"font\": {\"color\": \"#000000\"}, \"y\": 9, \"x\": -0.45, \"showarrow\": false, \"yref\": \"y1\"}, {\"align\": \"left\", \"xref\": \"x1\", \"xanchor\": \"left\", \"text\": \"4947.0\", \"font\": {\"color\": \"#000000\"}, \"y\": 9, \"x\": 0.55, \"showarrow\": false, \"yref\": \"y1\"}, {\"align\": \"left\", \"xref\": \"x1\", \"xanchor\": \"left\", \"text\": \"149\", \"font\": {\"color\": \"#000000\"}, \"y\": 9, \"x\": 1.55, \"showarrow\": false, \"yref\": \"y1\"}, {\"align\": \"left\", \"xref\": \"x1\", \"xanchor\": \"left\", \"text\": \"4\", \"font\": {\"color\": \"#000000\"}, \"y\": 9, \"x\": 2.55, \"showarrow\": false, \"yref\": \"y1\"}, {\"align\": \"left\", \"xref\": \"x1\", \"xanchor\": \"left\", \"text\": \"Addons/Web Extensions\", \"font\": {\"color\": \"#000000\"}, \"y\": 10, \"x\": -0.45, \"showarrow\": false, \"yref\": \"y1\"}, {\"align\": \"left\", \"xref\": \"x1\", \"xanchor\": \"left\", \"text\": \"4223.0\", \"font\": {\"color\": \"#000000\"}, \"y\": 10, \"x\": 0.55, \"showarrow\": false, \"yref\": \"y1\"}, {\"align\": \"left\", \"xref\": \"x1\", \"xanchor\": \"left\", \"text\": \"25\", \"font\": {\"color\": \"#000000\"}, \"y\": 10, \"x\": 1.55, \"showarrow\": false, \"yref\": \"y1\"}, {\"align\": \"left\", \"xref\": \"x1\", \"xanchor\": \"left\", \"text\": \"3\", \"font\": {\"color\": \"#000000\"}, \"y\": 10, \"x\": 2.55, \"showarrow\": false, \"yref\": \"y1\"}, {\"align\": \"left\", \"xref\": \"x1\", \"xanchor\": \"left\", \"text\": \"Mozilla Developer Network (MDN)\", \"font\": {\"color\": \"#000000\"}, \"y\": 11, \"x\": -0.45, \"showarrow\": false, \"yref\": \"y1\"}, {\"align\": \"left\", \"xref\": \"x1\", \"xanchor\": \"left\", \"text\": \"3535.0\", \"font\": {\"color\": \"#000000\"}, \"y\": 11, \"x\": 0.55, \"showarrow\": false, \"yref\": \"y1\"}, {\"align\": \"left\", \"xref\": \"x1\", \"xanchor\": \"left\", \"text\": \"56\", \"font\": {\"color\": \"#000000\"}, \"y\": 11, \"x\": 1.55, \"showarrow\": false, \"yref\": \"y1\"}, {\"align\": \"left\", \"xref\": \"x1\", \"xanchor\": \"left\", \"text\": \"2\", \"font\": {\"color\": \"#000000\"}, \"y\": 11, \"x\": 2.55, \"showarrow\": false, \"yref\": \"y1\"}, {\"align\": \"left\", \"xref\": \"x1\", \"xanchor\": \"left\", \"text\": \"Developer Tools\", \"font\": {\"color\": \"#000000\"}, \"y\": 12, \"x\": -0.45, \"showarrow\": false, \"yref\": \"y1\"}, {\"align\": \"left\", \"xref\": \"x1\", \"xanchor\": \"left\", \"text\": \"3226.0\", \"font\": {\"color\": \"#000000\"}, \"y\": 12, \"x\": 0.55, \"showarrow\": false, \"yref\": \"y1\"}, {\"align\": \"left\", \"xref\": \"x1\", \"xanchor\": \"left\", \"text\": \"24\", \"font\": {\"color\": \"#000000\"}, \"y\": 12, \"x\": 1.55, \"showarrow\": false, \"yref\": \"y1\"}, {\"align\": \"left\", \"xref\": \"x1\", \"xanchor\": \"left\", \"text\": \"1\", \"font\": {\"color\": \"#000000\"}, \"y\": 12, \"x\": 2.55, \"showarrow\": false, \"yref\": \"y1\"}, {\"align\": \"left\", \"xref\": \"x1\", \"xanchor\": \"left\", \"text\": \"Quality Assurance\", \"font\": {\"color\": \"#000000\"}, \"y\": 13, \"x\": -0.45, \"showarrow\": false, \"yref\": \"y1\"}, {\"align\": \"left\", \"xref\": \"x1\", \"xanchor\": \"left\", \"text\": \"2574.0\", \"font\": {\"color\": \"#000000\"}, \"y\": 13, \"x\": 0.55, \"showarrow\": false, \"yref\": \"y1\"}, {\"align\": \"left\", \"xref\": \"x1\", \"xanchor\": \"left\", \"text\": \"43\", \"font\": {\"color\": \"#000000\"}, \"y\": 13, \"x\": 1.55, \"showarrow\": false, \"yref\": \"y1\"}, {\"align\": \"left\", \"xref\": \"x1\", \"xanchor\": \"left\", \"text\": \"4\", \"font\": {\"color\": \"#000000\"}, \"y\": 13, \"x\": 2.55, \"showarrow\": false, \"yref\": \"y1\"}, {\"align\": \"left\", \"xref\": \"x1\", \"xanchor\": \"left\", \"text\": \"Release engineering\", \"font\": {\"color\": \"#000000\"}, \"y\": 14, \"x\": -0.45, \"showarrow\": false, \"yref\": \"y1\"}, {\"align\": \"left\", \"xref\": \"x1\", \"xanchor\": \"left\", \"text\": \"2105.0\", \"font\": {\"color\": \"#000000\"}, \"y\": 14, \"x\": 0.55, \"showarrow\": false, \"yref\": \"y1\"}, {\"align\": \"left\", \"xref\": \"x1\", \"xanchor\": \"left\", \"text\": \"14\", \"font\": {\"color\": \"#000000\"}, \"y\": 14, \"x\": 1.55, \"showarrow\": false, \"yref\": \"y1\"}, {\"align\": \"left\", \"xref\": \"x1\", \"xanchor\": \"left\", \"text\": \"1\", \"font\": {\"color\": \"#000000\"}, \"y\": 14, \"x\": 2.55, \"showarrow\": false, \"yref\": \"y1\"}, {\"align\": \"left\", \"xref\": \"x1\", \"xanchor\": \"left\", \"text\": \"Web Literacy\", \"font\": {\"color\": \"#000000\"}, \"y\": 15, \"x\": -0.45, \"showarrow\": false, \"yref\": \"y1\"}, {\"align\": \"left\", \"xref\": \"x1\", \"xanchor\": \"left\", \"text\": \"1012.0\", \"font\": {\"color\": \"#000000\"}, \"y\": 15, \"x\": 0.55, \"showarrow\": false, \"yref\": \"y1\"}, {\"align\": \"left\", \"xref\": \"x1\", \"xanchor\": \"left\", \"text\": \"26\", \"font\": {\"color\": \"#000000\"}, \"y\": 15, \"x\": 1.55, \"showarrow\": false, \"yref\": \"y1\"}, {\"align\": \"left\", \"xref\": \"x1\", \"xanchor\": \"left\", \"text\": \"1\", \"font\": {\"color\": \"#000000\"}, \"y\": 15, \"x\": 2.55, \"showarrow\": false, \"yref\": \"y1\"}, {\"align\": \"left\", \"xref\": \"x1\", \"xanchor\": \"left\", \"text\": \"Marketing / Social Media\", \"font\": {\"color\": \"#000000\"}, \"y\": 16, \"x\": -0.45, \"showarrow\": false, \"yref\": \"y1\"}, {\"align\": \"left\", \"xref\": \"x1\", \"xanchor\": \"left\", \"text\": \"832.0\", \"font\": {\"color\": \"#000000\"}, \"y\": 16, \"x\": 0.55, \"showarrow\": false, \"yref\": \"y1\"}, {\"align\": \"left\", \"xref\": \"x1\", \"xanchor\": \"left\", \"text\": \"21\", \"font\": {\"color\": \"#000000\"}, \"y\": 16, \"x\": 1.55, \"showarrow\": false, \"yref\": \"y1\"}, {\"align\": \"left\", \"xref\": \"x1\", \"xanchor\": \"left\", \"text\": \"4\", \"font\": {\"color\": \"#000000\"}, \"y\": 16, \"x\": 2.55, \"showarrow\": false, \"yref\": \"y1\"}, {\"align\": \"left\", \"xref\": \"x1\", \"xanchor\": \"left\", \"text\": \"Firefox iOS\", \"font\": {\"color\": \"#000000\"}, \"y\": 17, \"x\": -0.45, \"showarrow\": false, \"yref\": \"y1\"}, {\"align\": \"left\", \"xref\": \"x1\", \"xanchor\": \"left\", \"text\": \"593.0\", \"font\": {\"color\": \"#000000\"}, \"y\": 17, \"x\": 0.55, \"showarrow\": false, \"yref\": \"y1\"}, {\"align\": \"left\", \"xref\": \"x1\", \"xanchor\": \"left\", \"text\": \"15\", \"font\": {\"color\": \"#000000\"}, \"y\": 17, \"x\": 1.55, \"showarrow\": false, \"yref\": \"y1\"}, {\"align\": \"left\", \"xref\": \"x1\", \"xanchor\": \"left\", \"text\": \"1\", \"font\": {\"color\": \"#000000\"}, \"y\": 17, \"x\": 2.55, \"showarrow\": false, \"yref\": \"y1\"}, {\"align\": \"left\", \"xref\": \"x1\", \"xanchor\": \"left\", \"text\": \"Mozilla Local/Regional communities\", \"font\": {\"color\": \"#000000\"}, \"y\": 18, \"x\": -0.45, \"showarrow\": false, \"yref\": \"y1\"}, {\"align\": \"left\", \"xref\": \"x1\", \"xanchor\": \"left\", \"text\": \"346.0\", \"font\": {\"color\": \"#000000\"}, \"y\": 18, \"x\": 0.55, \"showarrow\": false, \"yref\": \"y1\"}, {\"align\": \"left\", \"xref\": \"x1\", \"xanchor\": \"left\", \"text\": \"19\", \"font\": {\"color\": \"#000000\"}, \"y\": 18, \"x\": 1.55, \"showarrow\": false, \"yref\": \"y1\"}, {\"align\": \"left\", \"xref\": \"x1\", \"xanchor\": \"left\", \"text\": \"2\", \"font\": {\"color\": \"#000000\"}, \"y\": 18, \"x\": 2.55, \"showarrow\": false, \"yref\": \"y1\"}, {\"align\": \"left\", \"xref\": \"x1\", \"xanchor\": \"left\", \"text\": \"Mozilla Creative & Design\", \"font\": {\"color\": \"#000000\"}, \"y\": 19, \"x\": -0.45, \"showarrow\": false, \"yref\": \"y1\"}, {\"align\": \"left\", \"xref\": \"x1\", \"xanchor\": \"left\", \"text\": \"284.0\", \"font\": {\"color\": \"#000000\"}, \"y\": 19, \"x\": 0.55, \"showarrow\": false, \"yref\": \"y1\"}, {\"align\": \"left\", \"xref\": \"x1\", \"xanchor\": \"left\", \"text\": \"1\", \"font\": {\"color\": \"#000000\"}, \"y\": 19, \"x\": 1.55, \"showarrow\": false, \"yref\": \"y1\"}, {\"align\": \"left\", \"xref\": \"x1\", \"xanchor\": \"left\", \"text\": \"1\", \"font\": {\"color\": \"#000000\"}, \"y\": 19, \"x\": 2.55, \"showarrow\": false, \"yref\": \"y1\"}, {\"align\": \"left\", \"xref\": \"x1\", \"xanchor\": \"left\", \"text\": \"Mozilla support (SUMO)\", \"font\": {\"color\": \"#000000\"}, \"y\": 20, \"x\": -0.45, \"showarrow\": false, \"yref\": \"y1\"}, {\"align\": \"left\", \"xref\": \"x1\", \"xanchor\": \"left\", \"text\": \"224.0\", \"font\": {\"color\": \"#000000\"}, \"y\": 20, \"x\": 0.55, \"showarrow\": false, \"yref\": \"y1\"}, {\"align\": \"left\", \"xref\": \"x1\", \"xanchor\": \"left\", \"text\": \"13\", \"font\": {\"color\": \"#000000\"}, \"y\": 20, \"x\": 1.55, \"showarrow\": false, \"yref\": \"y1\"}, {\"align\": \"left\", \"xref\": \"x1\", \"xanchor\": \"left\", \"text\": \"3\", \"font\": {\"color\": \"#000000\"}, \"y\": 20, \"x\": 2.55, \"showarrow\": false, \"yref\": \"y1\"}, {\"align\": \"left\", \"xref\": \"x1\", \"xanchor\": \"left\", \"text\": \"Mozilla Foundation\", \"font\": {\"color\": \"#000000\"}, \"y\": 21, \"x\": -0.45, \"showarrow\": false, \"yref\": \"y1\"}, {\"align\": \"left\", \"xref\": \"x1\", \"xanchor\": \"left\", \"text\": \"125.0\", \"font\": {\"color\": \"#000000\"}, \"y\": 21, \"x\": 0.55, \"showarrow\": false, \"yref\": \"y1\"}, {\"align\": \"left\", \"xref\": \"x1\", \"xanchor\": \"left\", \"text\": \"15\", \"font\": {\"color\": \"#000000\"}, \"y\": 21, \"x\": 1.55, \"showarrow\": false, \"yref\": \"y1\"}, {\"align\": \"left\", \"xref\": \"x1\", \"xanchor\": \"left\", \"text\": \"2\", \"font\": {\"color\": \"#000000\"}, \"y\": 21, \"x\": 2.55, \"showarrow\": false, \"yref\": \"y1\"}, {\"align\": \"left\", \"xref\": \"x1\", \"xanchor\": \"left\", \"text\": \"Firefox Focus\", \"font\": {\"color\": \"#000000\"}, \"y\": 22, \"x\": -0.45, \"showarrow\": false, \"yref\": \"y1\"}, {\"align\": \"left\", \"xref\": \"x1\", \"xanchor\": \"left\", \"text\": \"24.0\", \"font\": {\"color\": \"#000000\"}, \"y\": 22, \"x\": 0.55, \"showarrow\": false, \"yref\": \"y1\"}, {\"align\": \"left\", \"xref\": \"x1\", \"xanchor\": \"left\", \"text\": \"1\", \"font\": {\"color\": \"#000000\"}, \"y\": 22, \"x\": 1.55, \"showarrow\": false, \"yref\": \"y1\"}, {\"align\": \"left\", \"xref\": \"x1\", \"xanchor\": \"left\", \"text\": \"1\", \"font\": {\"color\": \"#000000\"}, \"y\": 22, \"x\": 2.55, \"showarrow\": false, \"yref\": \"y1\"}, {\"align\": \"left\", \"xref\": \"x1\", \"xanchor\": \"left\", \"text\": \"Web Compatibility\", \"font\": {\"color\": \"#000000\"}, \"y\": 23, \"x\": -0.45, \"showarrow\": false, \"yref\": \"y1\"}, {\"align\": \"left\", \"xref\": \"x1\", \"xanchor\": \"left\", \"text\": \"15.0\", \"font\": {\"color\": \"#000000\"}, \"y\": 23, \"x\": 0.55, \"showarrow\": false, \"yref\": \"y1\"}, {\"align\": \"left\", \"xref\": \"x1\", \"xanchor\": \"left\", \"text\": \"2\", \"font\": {\"color\": \"#000000\"}, \"y\": 23, \"x\": 1.55, \"showarrow\": false, \"yref\": \"y1\"}, {\"align\": \"left\", \"xref\": \"x1\", \"xanchor\": \"left\", \"text\": \"1\", \"font\": {\"color\": \"#000000\"}, \"y\": 23, \"x\": 2.55, \"showarrow\": false, \"yref\": \"y1\"}, {\"align\": \"left\", \"xref\": \"x1\", \"xanchor\": \"left\", \"text\": \"Advocacy and policy\", \"font\": {\"color\": \"#000000\"}, \"y\": 24, \"x\": -0.45, \"showarrow\": false, \"yref\": \"y1\"}, {\"align\": \"left\", \"xref\": \"x1\", \"xanchor\": \"left\", \"text\": \"14.0\", \"font\": {\"color\": \"#000000\"}, \"y\": 24, \"x\": 0.55, \"showarrow\": false, \"yref\": \"y1\"}, {\"align\": \"left\", \"xref\": \"x1\", \"xanchor\": \"left\", \"text\": \"4\", \"font\": {\"color\": \"#000000\"}, \"y\": 24, \"x\": 1.55, \"showarrow\": false, \"yref\": \"y1\"}, {\"align\": \"left\", \"xref\": \"x1\", \"xanchor\": \"left\", \"text\": \"1\", \"font\": {\"color\": \"#000000\"}, \"y\": 24, \"x\": 2.55, \"showarrow\": false, \"yref\": \"y1\"}, {\"align\": \"left\", \"xref\": \"x1\", \"xanchor\": \"left\", \"text\": \"Connected devices & IoT\", \"font\": {\"color\": \"#000000\"}, \"y\": 25, \"x\": -0.45, \"showarrow\": false, \"yref\": \"y1\"}, {\"align\": \"left\", \"xref\": \"x1\", \"xanchor\": \"left\", \"text\": \"10.0\", \"font\": {\"color\": \"#000000\"}, \"y\": 25, \"x\": 0.55, \"showarrow\": false, \"yref\": \"y1\"}, {\"align\": \"left\", \"xref\": \"x1\", \"xanchor\": \"left\", \"text\": \"3\", \"font\": {\"color\": \"#000000\"}, \"y\": 25, \"x\": 1.55, \"showarrow\": false, \"yref\": \"y1\"}, {\"align\": \"left\", \"xref\": \"x1\", \"xanchor\": \"left\", \"text\": \"1\", \"font\": {\"color\": \"#000000\"}, \"y\": 25, \"x\": 2.55, \"showarrow\": false, \"yref\": \"y1\"}, {\"align\": \"left\", \"xref\": \"x1\", \"xanchor\": \"left\", \"text\": \"Rust\", \"font\": {\"color\": \"#000000\"}, \"y\": 26, \"x\": -0.45, \"showarrow\": false, \"yref\": \"y1\"}, {\"align\": \"left\", \"xref\": \"x1\", \"xanchor\": \"left\", \"text\": \"5.0\", \"font\": {\"color\": \"#000000\"}, \"y\": 26, \"x\": 0.55, \"showarrow\": false, \"yref\": \"y1\"}, {\"align\": \"left\", \"xref\": \"x1\", \"xanchor\": \"left\", \"text\": \"1\", \"font\": {\"color\": \"#000000\"}, \"y\": 26, \"x\": 1.55, \"showarrow\": false, \"yref\": \"y1\"}, {\"align\": \"left\", \"xref\": \"x1\", \"xanchor\": \"left\", \"text\": \"1\", \"font\": {\"color\": \"#000000\"}, \"y\": 26, \"x\": 2.55, \"showarrow\": false, \"yref\": \"y1\"}, {\"align\": \"left\", \"xref\": \"x1\", \"xanchor\": \"left\", \"text\": \"Firefox Student Ambassadors\", \"font\": {\"color\": \"#000000\"}, \"y\": 27, \"x\": -0.45, \"showarrow\": false, \"yref\": \"y1\"}, {\"align\": \"left\", \"xref\": \"x1\", \"xanchor\": \"left\", \"text\": \"1.0\", \"font\": {\"color\": \"#000000\"}, \"y\": 27, \"x\": 0.55, \"showarrow\": false, \"yref\": \"y1\"}, {\"align\": \"left\", \"xref\": \"x1\", \"xanchor\": \"left\", \"text\": \"1\", \"font\": {\"color\": \"#000000\"}, \"y\": 27, \"x\": 1.55, \"showarrow\": false, \"yref\": \"y1\"}, {\"align\": \"left\", \"xref\": \"x1\", \"xanchor\": \"left\", \"text\": \"1\", \"font\": {\"color\": \"#000000\"}, \"y\": 27, \"x\": 2.55, \"showarrow\": false, \"yref\": \"y1\"}], \"xaxis\": {\"ticks\": \"\", \"gridwidth\": 2, \"zeroline\": false, \"dtick\": 1, \"tick0\": -0.5, \"showticklabels\": false}}, {\"linkText\": \"Export to plot.ly\", \"showLink\": true})});</script>"
      ],
      "text/vnd.plotly.v1+html": [
       "<div id=\"5678a474-1d04-44e7-ac63-a84aee3459d7\" style=\"height: 890px; width: 100%;\" class=\"plotly-graph-div\"></div><script type=\"text/javascript\">require([\"plotly\"], function(Plotly) { window.PLOTLYENV=window.PLOTLYENV || {};window.PLOTLYENV.BASE_URL=\"https://plot.ly\";Plotly.newPlot(\"5678a474-1d04-44e7-ac63-a84aee3459d7\", [{\"opacity\": 0.75, \"hoverinfo\": \"none\", \"showscale\": false, \"type\": \"heatmap\", \"z\": [[0, 0, 0, 0], [0.5, 0.5, 0.5, 0.5], [1, 1, 1, 1], [0.5, 0.5, 0.5, 0.5], [1, 1, 1, 1], [0.5, 0.5, 0.5, 0.5], [1, 1, 1, 1], [0.5, 0.5, 0.5, 0.5], [1, 1, 1, 1], [0.5, 0.5, 0.5, 0.5], [1, 1, 1, 1], [0.5, 0.5, 0.5, 0.5], [1, 1, 1, 1], [0.5, 0.5, 0.5, 0.5], [1, 1, 1, 1], [0.5, 0.5, 0.5, 0.5], [1, 1, 1, 1], [0.5, 0.5, 0.5, 0.5], [1, 1, 1, 1], [0.5, 0.5, 0.5, 0.5], [1, 1, 1, 1], [0.5, 0.5, 0.5, 0.5], [1, 1, 1, 1], [0.5, 0.5, 0.5, 0.5], [1, 1, 1, 1], [0.5, 0.5, 0.5, 0.5], [1, 1, 1, 1], [0.5, 0.5, 0.5, 0.5]], \"colorscale\": [[0, \"#00083e\"], [0.5, \"#ededee\"], [1, \"#ffffff\"]]}], {\"height\": 890, \"yaxis\": {\"ticks\": \"\", \"gridwidth\": 2, \"zeroline\": false, \"dtick\": 1, \"tick0\": 0.5, \"autorange\": \"reversed\", \"showticklabels\": false}, \"margin\": {\"r\": 0, \"l\": 0, \"b\": 0, \"t\": 0}, \"annotations\": [{\"align\": \"left\", \"xref\": \"x1\", \"xanchor\": \"left\", \"text\": \"<b>Project</b>\", \"font\": {\"color\": \"#ffffff\"}, \"y\": 0, \"x\": -0.45, \"showarrow\": false, \"yref\": \"y1\"}, {\"align\": \"left\", \"xref\": \"x1\", \"xanchor\": \"left\", \"text\": \"<b># Contributors</b>\", \"font\": {\"color\": \"#ffffff\"}, \"y\": 0, \"x\": 0.55, \"showarrow\": false, \"yref\": \"y1\"}, {\"align\": \"left\", \"xref\": \"x1\", \"xanchor\": \"left\", \"text\": \"<b>Component</b>\", \"font\": {\"color\": \"#ffffff\"}, \"y\": 0, \"x\": 1.55, \"showarrow\": false, \"yref\": \"y1\"}, {\"align\": \"left\", \"xref\": \"x1\", \"xanchor\": \"left\", \"text\": \"<b>Product</b>\", \"font\": {\"color\": \"#ffffff\"}, \"y\": 0, \"x\": 2.55, \"showarrow\": false, \"yref\": \"y1\"}, {\"align\": \"left\", \"xref\": \"x1\", \"xanchor\": \"left\", \"text\": \"Gecko\", \"font\": {\"color\": \"#000000\"}, \"y\": 1, \"x\": -0.45, \"showarrow\": false, \"yref\": \"y1\"}, {\"align\": \"left\", \"xref\": \"x1\", \"xanchor\": \"left\", \"text\": \"140256.0\", \"font\": {\"color\": \"#000000\"}, \"y\": 1, \"x\": 0.55, \"showarrow\": false, \"yref\": \"y1\"}, {\"align\": \"left\", \"xref\": \"x1\", \"xanchor\": \"left\", \"text\": \"248\", \"font\": {\"color\": \"#000000\"}, \"y\": 1, \"x\": 1.55, \"showarrow\": false, \"yref\": \"y1\"}, {\"align\": \"left\", \"xref\": \"x1\", \"xanchor\": \"left\", \"text\": \"5\", \"font\": {\"color\": \"#000000\"}, \"y\": 1, \"x\": 2.55, \"showarrow\": false, \"yref\": \"y1\"}, {\"align\": \"left\", \"xref\": \"x1\", \"xanchor\": \"left\", \"text\": \"Firefox\", \"font\": {\"color\": \"#000000\"}, \"y\": 2, \"x\": -0.45, \"showarrow\": false, \"yref\": \"y1\"}, {\"align\": \"left\", \"xref\": \"x1\", \"xanchor\": \"left\", \"text\": \"97486.0\", \"font\": {\"color\": \"#000000\"}, \"y\": 2, \"x\": 0.55, \"showarrow\": false, \"yref\": \"y1\"}, {\"align\": \"left\", \"xref\": \"x1\", \"xanchor\": \"left\", \"text\": \"59\", \"font\": {\"color\": \"#000000\"}, \"y\": 2, \"x\": 1.55, \"showarrow\": false, \"yref\": \"y1\"}, {\"align\": \"left\", \"xref\": \"x1\", \"xanchor\": \"left\", \"text\": \"3\", \"font\": {\"color\": \"#000000\"}, \"y\": 2, \"x\": 2.55, \"showarrow\": false, \"yref\": \"y1\"}, {\"align\": \"left\", \"xref\": \"x1\", \"xanchor\": \"left\", \"text\": \"Thunderbird\", \"font\": {\"color\": \"#000000\"}, \"y\": 3, \"x\": -0.45, \"showarrow\": false, \"yref\": \"y1\"}, {\"align\": \"left\", \"xref\": \"x1\", \"xanchor\": \"left\", \"text\": \"46366.0\", \"font\": {\"color\": \"#000000\"}, \"y\": 3, \"x\": 0.55, \"showarrow\": false, \"yref\": \"y1\"}, {\"align\": \"left\", \"xref\": \"x1\", \"xanchor\": \"left\", \"text\": \"48\", \"font\": {\"color\": \"#000000\"}, \"y\": 3, \"x\": 1.55, \"showarrow\": false, \"yref\": \"y1\"}, {\"align\": \"left\", \"xref\": \"x1\", \"xanchor\": \"left\", \"text\": \"3\", \"font\": {\"color\": \"#000000\"}, \"y\": 3, \"x\": 2.55, \"showarrow\": false, \"yref\": \"y1\"}, {\"align\": \"left\", \"xref\": \"x1\", \"xanchor\": \"left\", \"text\": \"Firefox OS (FxOS / B2G)\", \"font\": {\"color\": \"#000000\"}, \"y\": 4, \"x\": -0.45, \"showarrow\": false, \"yref\": \"y1\"}, {\"align\": \"left\", \"xref\": \"x1\", \"xanchor\": \"left\", \"text\": \"15783.0\", \"font\": {\"color\": \"#000000\"}, \"y\": 4, \"x\": 0.55, \"showarrow\": false, \"yref\": \"y1\"}, {\"align\": \"left\", \"xref\": \"x1\", \"xanchor\": \"left\", \"text\": \"116\", \"font\": {\"color\": \"#000000\"}, \"y\": 4, \"x\": 1.55, \"showarrow\": false, \"yref\": \"y1\"}, {\"align\": \"left\", \"xref\": \"x1\", \"xanchor\": \"left\", \"text\": \"4\", \"font\": {\"color\": \"#000000\"}, \"y\": 4, \"x\": 2.55, \"showarrow\": false, \"yref\": \"y1\"}, {\"align\": \"left\", \"xref\": \"x1\", \"xanchor\": \"left\", \"text\": \"IT/Ops\", \"font\": {\"color\": \"#000000\"}, \"y\": 5, \"x\": -0.45, \"showarrow\": false, \"yref\": \"y1\"}, {\"align\": \"left\", \"xref\": \"x1\", \"xanchor\": \"left\", \"text\": \"14823.0\", \"font\": {\"color\": \"#000000\"}, \"y\": 5, \"x\": 0.55, \"showarrow\": false, \"yref\": \"y1\"}, {\"align\": \"left\", \"xref\": \"x1\", \"xanchor\": \"left\", \"text\": \"214\", \"font\": {\"color\": \"#000000\"}, \"y\": 5, \"x\": 1.55, \"showarrow\": false, \"yref\": \"y1\"}, {\"align\": \"left\", \"xref\": \"x1\", \"xanchor\": \"left\", \"text\": \"11\", \"font\": {\"color\": \"#000000\"}, \"y\": 5, \"x\": 2.55, \"showarrow\": false, \"yref\": \"y1\"}, {\"align\": \"left\", \"xref\": \"x1\", \"xanchor\": \"left\", \"text\": \"Web Properties\", \"font\": {\"color\": \"#000000\"}, \"y\": 6, \"x\": -0.45, \"showarrow\": false, \"yref\": \"y1\"}, {\"align\": \"left\", \"xref\": \"x1\", \"xanchor\": \"left\", \"text\": \"13482.0\", \"font\": {\"color\": \"#000000\"}, \"y\": 6, \"x\": 0.55, \"showarrow\": false, \"yref\": \"y1\"}, {\"align\": \"left\", \"xref\": \"x1\", \"xanchor\": \"left\", \"text\": \"182\", \"font\": {\"color\": \"#000000\"}, \"y\": 6, \"x\": 1.55, \"showarrow\": false, \"yref\": \"y1\"}, {\"align\": \"left\", \"xref\": \"x1\", \"xanchor\": \"left\", \"text\": \"16\", \"font\": {\"color\": \"#000000\"}, \"y\": 6, \"x\": 2.55, \"showarrow\": false, \"yref\": \"y1\"}, {\"align\": \"left\", \"xref\": \"x1\", \"xanchor\": \"left\", \"text\": \"Technical/Developer Evangelism\", \"font\": {\"color\": \"#000000\"}, \"y\": 7, \"x\": -0.45, \"showarrow\": false, \"yref\": \"y1\"}, {\"align\": \"left\", \"xref\": \"x1\", \"xanchor\": \"left\", \"text\": \"6805.0\", \"font\": {\"color\": \"#000000\"}, \"y\": 7, \"x\": 0.55, \"showarrow\": false, \"yref\": \"y1\"}, {\"align\": \"left\", \"xref\": \"x1\", \"xanchor\": \"left\", \"text\": \"47\", \"font\": {\"color\": \"#000000\"}, \"y\": 7, \"x\": 1.55, \"showarrow\": false, \"yref\": \"y1\"}, {\"align\": \"left\", \"xref\": \"x1\", \"xanchor\": \"left\", \"text\": \"3\", \"font\": {\"color\": \"#000000\"}, \"y\": 7, \"x\": 2.55, \"showarrow\": false, \"yref\": \"y1\"}, {\"align\": \"left\", \"xref\": \"x1\", \"xanchor\": \"left\", \"text\": \"Firefox Android\", \"font\": {\"color\": \"#000000\"}, \"y\": 8, \"x\": -0.45, \"showarrow\": false, \"yref\": \"y1\"}, {\"align\": \"left\", \"xref\": \"x1\", \"xanchor\": \"left\", \"text\": \"5476.0\", \"font\": {\"color\": \"#000000\"}, \"y\": 8, \"x\": 0.55, \"showarrow\": false, \"yref\": \"y1\"}, {\"align\": \"left\", \"xref\": \"x1\", \"xanchor\": \"left\", \"text\": \"36\", \"font\": {\"color\": \"#000000\"}, \"y\": 8, \"x\": 1.55, \"showarrow\": false, \"yref\": \"y1\"}, {\"align\": \"left\", \"xref\": \"x1\", \"xanchor\": \"left\", \"text\": \"2\", \"font\": {\"color\": \"#000000\"}, \"y\": 8, \"x\": 2.55, \"showarrow\": false, \"yref\": \"y1\"}, {\"align\": \"left\", \"xref\": \"x1\", \"xanchor\": \"left\", \"text\": \"Localization\", \"font\": {\"color\": \"#000000\"}, \"y\": 9, \"x\": -0.45, \"showarrow\": false, \"yref\": \"y1\"}, {\"align\": \"left\", \"xref\": \"x1\", \"xanchor\": \"left\", \"text\": \"4947.0\", \"font\": {\"color\": \"#000000\"}, \"y\": 9, \"x\": 0.55, \"showarrow\": false, \"yref\": \"y1\"}, {\"align\": \"left\", \"xref\": \"x1\", \"xanchor\": \"left\", \"text\": \"149\", \"font\": {\"color\": \"#000000\"}, \"y\": 9, \"x\": 1.55, \"showarrow\": false, \"yref\": \"y1\"}, {\"align\": \"left\", \"xref\": \"x1\", \"xanchor\": \"left\", \"text\": \"4\", \"font\": {\"color\": \"#000000\"}, \"y\": 9, \"x\": 2.55, \"showarrow\": false, \"yref\": \"y1\"}, {\"align\": \"left\", \"xref\": \"x1\", \"xanchor\": \"left\", \"text\": \"Addons/Web Extensions\", \"font\": {\"color\": \"#000000\"}, \"y\": 10, \"x\": -0.45, \"showarrow\": false, \"yref\": \"y1\"}, {\"align\": \"left\", \"xref\": \"x1\", \"xanchor\": \"left\", \"text\": \"4223.0\", \"font\": {\"color\": \"#000000\"}, \"y\": 10, \"x\": 0.55, \"showarrow\": false, \"yref\": \"y1\"}, {\"align\": \"left\", \"xref\": \"x1\", \"xanchor\": \"left\", \"text\": \"25\", \"font\": {\"color\": \"#000000\"}, \"y\": 10, \"x\": 1.55, \"showarrow\": false, \"yref\": \"y1\"}, {\"align\": \"left\", \"xref\": \"x1\", \"xanchor\": \"left\", \"text\": \"3\", \"font\": {\"color\": \"#000000\"}, \"y\": 10, \"x\": 2.55, \"showarrow\": false, \"yref\": \"y1\"}, {\"align\": \"left\", \"xref\": \"x1\", \"xanchor\": \"left\", \"text\": \"Mozilla Developer Network (MDN)\", \"font\": {\"color\": \"#000000\"}, \"y\": 11, \"x\": -0.45, \"showarrow\": false, \"yref\": \"y1\"}, {\"align\": \"left\", \"xref\": \"x1\", \"xanchor\": \"left\", \"text\": \"3535.0\", \"font\": {\"color\": \"#000000\"}, \"y\": 11, \"x\": 0.55, \"showarrow\": false, \"yref\": \"y1\"}, {\"align\": \"left\", \"xref\": \"x1\", \"xanchor\": \"left\", \"text\": \"56\", \"font\": {\"color\": \"#000000\"}, \"y\": 11, \"x\": 1.55, \"showarrow\": false, \"yref\": \"y1\"}, {\"align\": \"left\", \"xref\": \"x1\", \"xanchor\": \"left\", \"text\": \"2\", \"font\": {\"color\": \"#000000\"}, \"y\": 11, \"x\": 2.55, \"showarrow\": false, \"yref\": \"y1\"}, {\"align\": \"left\", \"xref\": \"x1\", \"xanchor\": \"left\", \"text\": \"Developer Tools\", \"font\": {\"color\": \"#000000\"}, \"y\": 12, \"x\": -0.45, \"showarrow\": false, \"yref\": \"y1\"}, {\"align\": \"left\", \"xref\": \"x1\", \"xanchor\": \"left\", \"text\": \"3226.0\", \"font\": {\"color\": \"#000000\"}, \"y\": 12, \"x\": 0.55, \"showarrow\": false, \"yref\": \"y1\"}, {\"align\": \"left\", \"xref\": \"x1\", \"xanchor\": \"left\", \"text\": \"24\", \"font\": {\"color\": \"#000000\"}, \"y\": 12, \"x\": 1.55, \"showarrow\": false, \"yref\": \"y1\"}, {\"align\": \"left\", \"xref\": \"x1\", \"xanchor\": \"left\", \"text\": \"1\", \"font\": {\"color\": \"#000000\"}, \"y\": 12, \"x\": 2.55, \"showarrow\": false, \"yref\": \"y1\"}, {\"align\": \"left\", \"xref\": \"x1\", \"xanchor\": \"left\", \"text\": \"Quality Assurance\", \"font\": {\"color\": \"#000000\"}, \"y\": 13, \"x\": -0.45, \"showarrow\": false, \"yref\": \"y1\"}, {\"align\": \"left\", \"xref\": \"x1\", \"xanchor\": \"left\", \"text\": \"2574.0\", \"font\": {\"color\": \"#000000\"}, \"y\": 13, \"x\": 0.55, \"showarrow\": false, \"yref\": \"y1\"}, {\"align\": \"left\", \"xref\": \"x1\", \"xanchor\": \"left\", \"text\": \"43\", \"font\": {\"color\": \"#000000\"}, \"y\": 13, \"x\": 1.55, \"showarrow\": false, \"yref\": \"y1\"}, {\"align\": \"left\", \"xref\": \"x1\", \"xanchor\": \"left\", \"text\": \"4\", \"font\": {\"color\": \"#000000\"}, \"y\": 13, \"x\": 2.55, \"showarrow\": false, \"yref\": \"y1\"}, {\"align\": \"left\", \"xref\": \"x1\", \"xanchor\": \"left\", \"text\": \"Release engineering\", \"font\": {\"color\": \"#000000\"}, \"y\": 14, \"x\": -0.45, \"showarrow\": false, \"yref\": \"y1\"}, {\"align\": \"left\", \"xref\": \"x1\", \"xanchor\": \"left\", \"text\": \"2105.0\", \"font\": {\"color\": \"#000000\"}, \"y\": 14, \"x\": 0.55, \"showarrow\": false, \"yref\": \"y1\"}, {\"align\": \"left\", \"xref\": \"x1\", \"xanchor\": \"left\", \"text\": \"14\", \"font\": {\"color\": \"#000000\"}, \"y\": 14, \"x\": 1.55, \"showarrow\": false, \"yref\": \"y1\"}, {\"align\": \"left\", \"xref\": \"x1\", \"xanchor\": \"left\", \"text\": \"1\", \"font\": {\"color\": \"#000000\"}, \"y\": 14, \"x\": 2.55, \"showarrow\": false, \"yref\": \"y1\"}, {\"align\": \"left\", \"xref\": \"x1\", \"xanchor\": \"left\", \"text\": \"Web Literacy\", \"font\": {\"color\": \"#000000\"}, \"y\": 15, \"x\": -0.45, \"showarrow\": false, \"yref\": \"y1\"}, {\"align\": \"left\", \"xref\": \"x1\", \"xanchor\": \"left\", \"text\": \"1012.0\", \"font\": {\"color\": \"#000000\"}, \"y\": 15, \"x\": 0.55, \"showarrow\": false, \"yref\": \"y1\"}, {\"align\": \"left\", \"xref\": \"x1\", \"xanchor\": \"left\", \"text\": \"26\", \"font\": {\"color\": \"#000000\"}, \"y\": 15, \"x\": 1.55, \"showarrow\": false, \"yref\": \"y1\"}, {\"align\": \"left\", \"xref\": \"x1\", \"xanchor\": \"left\", \"text\": \"1\", \"font\": {\"color\": \"#000000\"}, \"y\": 15, \"x\": 2.55, \"showarrow\": false, \"yref\": \"y1\"}, {\"align\": \"left\", \"xref\": \"x1\", \"xanchor\": \"left\", \"text\": \"Marketing / Social Media\", \"font\": {\"color\": \"#000000\"}, \"y\": 16, \"x\": -0.45, \"showarrow\": false, \"yref\": \"y1\"}, {\"align\": \"left\", \"xref\": \"x1\", \"xanchor\": \"left\", \"text\": \"832.0\", \"font\": {\"color\": \"#000000\"}, \"y\": 16, \"x\": 0.55, \"showarrow\": false, \"yref\": \"y1\"}, {\"align\": \"left\", \"xref\": \"x1\", \"xanchor\": \"left\", \"text\": \"21\", \"font\": {\"color\": \"#000000\"}, \"y\": 16, \"x\": 1.55, \"showarrow\": false, \"yref\": \"y1\"}, {\"align\": \"left\", \"xref\": \"x1\", \"xanchor\": \"left\", \"text\": \"4\", \"font\": {\"color\": \"#000000\"}, \"y\": 16, \"x\": 2.55, \"showarrow\": false, \"yref\": \"y1\"}, {\"align\": \"left\", \"xref\": \"x1\", \"xanchor\": \"left\", \"text\": \"Firefox iOS\", \"font\": {\"color\": \"#000000\"}, \"y\": 17, \"x\": -0.45, \"showarrow\": false, \"yref\": \"y1\"}, {\"align\": \"left\", \"xref\": \"x1\", \"xanchor\": \"left\", \"text\": \"593.0\", \"font\": {\"color\": \"#000000\"}, \"y\": 17, \"x\": 0.55, \"showarrow\": false, \"yref\": \"y1\"}, {\"align\": \"left\", \"xref\": \"x1\", \"xanchor\": \"left\", \"text\": \"15\", \"font\": {\"color\": \"#000000\"}, \"y\": 17, \"x\": 1.55, \"showarrow\": false, \"yref\": \"y1\"}, {\"align\": \"left\", \"xref\": \"x1\", \"xanchor\": \"left\", \"text\": \"1\", \"font\": {\"color\": \"#000000\"}, \"y\": 17, \"x\": 2.55, \"showarrow\": false, \"yref\": \"y1\"}, {\"align\": \"left\", \"xref\": \"x1\", \"xanchor\": \"left\", \"text\": \"Mozilla Local/Regional communities\", \"font\": {\"color\": \"#000000\"}, \"y\": 18, \"x\": -0.45, \"showarrow\": false, \"yref\": \"y1\"}, {\"align\": \"left\", \"xref\": \"x1\", \"xanchor\": \"left\", \"text\": \"346.0\", \"font\": {\"color\": \"#000000\"}, \"y\": 18, \"x\": 0.55, \"showarrow\": false, \"yref\": \"y1\"}, {\"align\": \"left\", \"xref\": \"x1\", \"xanchor\": \"left\", \"text\": \"19\", \"font\": {\"color\": \"#000000\"}, \"y\": 18, \"x\": 1.55, \"showarrow\": false, \"yref\": \"y1\"}, {\"align\": \"left\", \"xref\": \"x1\", \"xanchor\": \"left\", \"text\": \"2\", \"font\": {\"color\": \"#000000\"}, \"y\": 18, \"x\": 2.55, \"showarrow\": false, \"yref\": \"y1\"}, {\"align\": \"left\", \"xref\": \"x1\", \"xanchor\": \"left\", \"text\": \"Mozilla Creative & Design\", \"font\": {\"color\": \"#000000\"}, \"y\": 19, \"x\": -0.45, \"showarrow\": false, \"yref\": \"y1\"}, {\"align\": \"left\", \"xref\": \"x1\", \"xanchor\": \"left\", \"text\": \"284.0\", \"font\": {\"color\": \"#000000\"}, \"y\": 19, \"x\": 0.55, \"showarrow\": false, \"yref\": \"y1\"}, {\"align\": \"left\", \"xref\": \"x1\", \"xanchor\": \"left\", \"text\": \"1\", \"font\": {\"color\": \"#000000\"}, \"y\": 19, \"x\": 1.55, \"showarrow\": false, \"yref\": \"y1\"}, {\"align\": \"left\", \"xref\": \"x1\", \"xanchor\": \"left\", \"text\": \"1\", \"font\": {\"color\": \"#000000\"}, \"y\": 19, \"x\": 2.55, \"showarrow\": false, \"yref\": \"y1\"}, {\"align\": \"left\", \"xref\": \"x1\", \"xanchor\": \"left\", \"text\": \"Mozilla support (SUMO)\", \"font\": {\"color\": \"#000000\"}, \"y\": 20, \"x\": -0.45, \"showarrow\": false, \"yref\": \"y1\"}, {\"align\": \"left\", \"xref\": \"x1\", \"xanchor\": \"left\", \"text\": \"224.0\", \"font\": {\"color\": \"#000000\"}, \"y\": 20, \"x\": 0.55, \"showarrow\": false, \"yref\": \"y1\"}, {\"align\": \"left\", \"xref\": \"x1\", \"xanchor\": \"left\", \"text\": \"13\", \"font\": {\"color\": \"#000000\"}, \"y\": 20, \"x\": 1.55, \"showarrow\": false, \"yref\": \"y1\"}, {\"align\": \"left\", \"xref\": \"x1\", \"xanchor\": \"left\", \"text\": \"3\", \"font\": {\"color\": \"#000000\"}, \"y\": 20, \"x\": 2.55, \"showarrow\": false, \"yref\": \"y1\"}, {\"align\": \"left\", \"xref\": \"x1\", \"xanchor\": \"left\", \"text\": \"Mozilla Foundation\", \"font\": {\"color\": \"#000000\"}, \"y\": 21, \"x\": -0.45, \"showarrow\": false, \"yref\": \"y1\"}, {\"align\": \"left\", \"xref\": \"x1\", \"xanchor\": \"left\", \"text\": \"125.0\", \"font\": {\"color\": \"#000000\"}, \"y\": 21, \"x\": 0.55, \"showarrow\": false, \"yref\": \"y1\"}, {\"align\": \"left\", \"xref\": \"x1\", \"xanchor\": \"left\", \"text\": \"15\", \"font\": {\"color\": \"#000000\"}, \"y\": 21, \"x\": 1.55, \"showarrow\": false, \"yref\": \"y1\"}, {\"align\": \"left\", \"xref\": \"x1\", \"xanchor\": \"left\", \"text\": \"2\", \"font\": {\"color\": \"#000000\"}, \"y\": 21, \"x\": 2.55, \"showarrow\": false, \"yref\": \"y1\"}, {\"align\": \"left\", \"xref\": \"x1\", \"xanchor\": \"left\", \"text\": \"Firefox Focus\", \"font\": {\"color\": \"#000000\"}, \"y\": 22, \"x\": -0.45, \"showarrow\": false, \"yref\": \"y1\"}, {\"align\": \"left\", \"xref\": \"x1\", \"xanchor\": \"left\", \"text\": \"24.0\", \"font\": {\"color\": \"#000000\"}, \"y\": 22, \"x\": 0.55, \"showarrow\": false, \"yref\": \"y1\"}, {\"align\": \"left\", \"xref\": \"x1\", \"xanchor\": \"left\", \"text\": \"1\", \"font\": {\"color\": \"#000000\"}, \"y\": 22, \"x\": 1.55, \"showarrow\": false, \"yref\": \"y1\"}, {\"align\": \"left\", \"xref\": \"x1\", \"xanchor\": \"left\", \"text\": \"1\", \"font\": {\"color\": \"#000000\"}, \"y\": 22, \"x\": 2.55, \"showarrow\": false, \"yref\": \"y1\"}, {\"align\": \"left\", \"xref\": \"x1\", \"xanchor\": \"left\", \"text\": \"Web Compatibility\", \"font\": {\"color\": \"#000000\"}, \"y\": 23, \"x\": -0.45, \"showarrow\": false, \"yref\": \"y1\"}, {\"align\": \"left\", \"xref\": \"x1\", \"xanchor\": \"left\", \"text\": \"15.0\", \"font\": {\"color\": \"#000000\"}, \"y\": 23, \"x\": 0.55, \"showarrow\": false, \"yref\": \"y1\"}, {\"align\": \"left\", \"xref\": \"x1\", \"xanchor\": \"left\", \"text\": \"2\", \"font\": {\"color\": \"#000000\"}, \"y\": 23, \"x\": 1.55, \"showarrow\": false, \"yref\": \"y1\"}, {\"align\": \"left\", \"xref\": \"x1\", \"xanchor\": \"left\", \"text\": \"1\", \"font\": {\"color\": \"#000000\"}, \"y\": 23, \"x\": 2.55, \"showarrow\": false, \"yref\": \"y1\"}, {\"align\": \"left\", \"xref\": \"x1\", \"xanchor\": \"left\", \"text\": \"Advocacy and policy\", \"font\": {\"color\": \"#000000\"}, \"y\": 24, \"x\": -0.45, \"showarrow\": false, \"yref\": \"y1\"}, {\"align\": \"left\", \"xref\": \"x1\", \"xanchor\": \"left\", \"text\": \"14.0\", \"font\": {\"color\": \"#000000\"}, \"y\": 24, \"x\": 0.55, \"showarrow\": false, \"yref\": \"y1\"}, {\"align\": \"left\", \"xref\": \"x1\", \"xanchor\": \"left\", \"text\": \"4\", \"font\": {\"color\": \"#000000\"}, \"y\": 24, \"x\": 1.55, \"showarrow\": false, \"yref\": \"y1\"}, {\"align\": \"left\", \"xref\": \"x1\", \"xanchor\": \"left\", \"text\": \"1\", \"font\": {\"color\": \"#000000\"}, \"y\": 24, \"x\": 2.55, \"showarrow\": false, \"yref\": \"y1\"}, {\"align\": \"left\", \"xref\": \"x1\", \"xanchor\": \"left\", \"text\": \"Connected devices & IoT\", \"font\": {\"color\": \"#000000\"}, \"y\": 25, \"x\": -0.45, \"showarrow\": false, \"yref\": \"y1\"}, {\"align\": \"left\", \"xref\": \"x1\", \"xanchor\": \"left\", \"text\": \"10.0\", \"font\": {\"color\": \"#000000\"}, \"y\": 25, \"x\": 0.55, \"showarrow\": false, \"yref\": \"y1\"}, {\"align\": \"left\", \"xref\": \"x1\", \"xanchor\": \"left\", \"text\": \"3\", \"font\": {\"color\": \"#000000\"}, \"y\": 25, \"x\": 1.55, \"showarrow\": false, \"yref\": \"y1\"}, {\"align\": \"left\", \"xref\": \"x1\", \"xanchor\": \"left\", \"text\": \"1\", \"font\": {\"color\": \"#000000\"}, \"y\": 25, \"x\": 2.55, \"showarrow\": false, \"yref\": \"y1\"}, {\"align\": \"left\", \"xref\": \"x1\", \"xanchor\": \"left\", \"text\": \"Rust\", \"font\": {\"color\": \"#000000\"}, \"y\": 26, \"x\": -0.45, \"showarrow\": false, \"yref\": \"y1\"}, {\"align\": \"left\", \"xref\": \"x1\", \"xanchor\": \"left\", \"text\": \"5.0\", \"font\": {\"color\": \"#000000\"}, \"y\": 26, \"x\": 0.55, \"showarrow\": false, \"yref\": \"y1\"}, {\"align\": \"left\", \"xref\": \"x1\", \"xanchor\": \"left\", \"text\": \"1\", \"font\": {\"color\": \"#000000\"}, \"y\": 26, \"x\": 1.55, \"showarrow\": false, \"yref\": \"y1\"}, {\"align\": \"left\", \"xref\": \"x1\", \"xanchor\": \"left\", \"text\": \"1\", \"font\": {\"color\": \"#000000\"}, \"y\": 26, \"x\": 2.55, \"showarrow\": false, \"yref\": \"y1\"}, {\"align\": \"left\", \"xref\": \"x1\", \"xanchor\": \"left\", \"text\": \"Firefox Student Ambassadors\", \"font\": {\"color\": \"#000000\"}, \"y\": 27, \"x\": -0.45, \"showarrow\": false, \"yref\": \"y1\"}, {\"align\": \"left\", \"xref\": \"x1\", \"xanchor\": \"left\", \"text\": \"1.0\", \"font\": {\"color\": \"#000000\"}, \"y\": 27, \"x\": 0.55, \"showarrow\": false, \"yref\": \"y1\"}, {\"align\": \"left\", \"xref\": \"x1\", \"xanchor\": \"left\", \"text\": \"1\", \"font\": {\"color\": \"#000000\"}, \"y\": 27, \"x\": 1.55, \"showarrow\": false, \"yref\": \"y1\"}, {\"align\": \"left\", \"xref\": \"x1\", \"xanchor\": \"left\", \"text\": \"1\", \"font\": {\"color\": \"#000000\"}, \"y\": 27, \"x\": 2.55, \"showarrow\": false, \"yref\": \"y1\"}], \"xaxis\": {\"ticks\": \"\", \"gridwidth\": 2, \"zeroline\": false, \"dtick\": 1, \"tick0\": -0.5, \"showticklabels\": false}}, {\"linkText\": \"Export to plot.ly\", \"showLink\": true})});</script>"
      ]
     },
     "metadata": {},
     "output_type": "display_data"
    }
   ],
   "source": [
    "s = create_search(source='bugzilla')\n",
    "\n",
    "# Unique count of Commits by Project (max 100 projects)\n",
    "s.aggs.bucket('product', 'terms', field='product', size=100000)\\\n",
    "    .bucket('component', 'terms', field='component', size=100000)\\\n",
    "    .metric('contributors', 'cardinality', field='author_uuid', precision_threshold=100000)\n",
    "result = s.execute()\n",
    "\n",
    "# Process results to build a DataFrame\n",
    "df = pd.DataFrame(columns=['Product', 'Component', '# Contributors'])\n",
    "for product in result.to_dict()['aggregations']['product']['buckets']:\n",
    "    for component in product['component']['buckets']:\n",
    "        df.loc[len(df)] = [product['key'], component['key'], component['contributors']['value']]\n",
    "\n",
    "# Merge projects by product & components DFs\n",
    "merged_df = df.merge(projects['Bugzilla'], on=['Product', 'Component'], how='left')\n",
    "\n",
    "# Group By project\n",
    "projects_df = merged_df.groupby(['Project']).agg({'# Contributors': 'sum', 'Product': pandas.Series.nunique,\n",
    "                                                  'Component': pandas.Series.nunique})\n",
    "projects_df = projects_df.sort_values(by='# Contributors', ascending=0)\n",
    "projects_df\n",
    "\n",
    "# Print a table with this data\n",
    "plotly.offline.init_notebook_mode(connected=True)\n",
    "table = ff.create_table(projects_df.reset_index())\n",
    "plotly.offline.iplot(table, filename='github-projects-contributors-table.html')"
   ]
  },
  {
   "cell_type": "markdown",
   "metadata": {},
   "source": [
    "### Number of contributors by project over time\n",
    "#### Git"
   ]
  },
  {
   "cell_type": "code",
   "execution_count": 55,
   "metadata": {
    "collapsed": false,
    "scrolled": true
   },
   "outputs": [],
   "source": [
    "s = create_search(source='git')\n",
    "\n",
    "# General filters\n",
    "s = add_general_date_filters(s)\n",
    "s = add_bot_filter(s)\n",
    "s = add_merges_filter(s)\n",
    "\n",
    "# Unique count of Commits by Project (max 100 projects)\n",
    "s = s.filter('range', grimoire_creation_date={'gt': 'now/M-2y', 'lt': 'now/M'})\n",
    "s.aggs.bucket('projects', 'terms', field='project', size=10)\\\n",
    "    .bucket('time', 'date_histogram', field='grimoire_creation_date', interval='quarter')\\\n",
    "    .metric('contributors', 'cardinality', field='author_uuid', precision_threshold=100000)\n",
    "\n",
    "result = s.execute()\n",
    "            \n",
    "df = stack_by(result=result, group_column='Project', time_column='Time', value_column='# Contributors',\\\n",
    "        group_field='projects', time_field='time', value_field='contributors')"
   ]
  },
  {
   "cell_type": "code",
   "execution_count": 56,
   "metadata": {
    "collapsed": false
   },
   "outputs": [
    {
     "data": {
      "text/html": [
       "<script>requirejs.config({paths: { 'plotly': ['https://cdn.plot.ly/plotly-latest.min']},});if(!window.Plotly) {{require(['plotly'],function(plotly) {window.Plotly=plotly;});}}</script>"
      ],
      "text/vnd.plotly.v1+html": [
       "<script>requirejs.config({paths: { 'plotly': ['https://cdn.plot.ly/plotly-latest.min']},});if(!window.Plotly) {{require(['plotly'],function(plotly) {window.Plotly=plotly;});}}</script>"
      ]
     },
     "metadata": {},
     "output_type": "display_data"
    },
    {
     "data": {
      "application/vnd.plotly.v1+json": {
       "data": [
        {
         "name": "mozilla",
         "type": "bar",
         "x": [
          "2015-04-01T00:00:00.000Z",
          "2015-07-01T00:00:00.000Z",
          "2015-10-01T00:00:00.000Z",
          "2016-01-01T00:00:00.000Z",
          "2016-04-01T00:00:00.000Z",
          "2016-07-01T00:00:00.000Z",
          "2016-10-01T00:00:00.000Z",
          "2017-01-01T00:00:00.000Z",
          "2017-04-01T00:00:00.000Z"
         ],
         "y": [
          826,
          1321,
          1474,
          1520,
          1451,
          1472,
          1260,
          1249,
          558
         ]
        },
        {
         "name": "rust-lang",
         "type": "bar",
         "x": [
          "2015-04-01T00:00:00.000Z",
          "2015-07-01T00:00:00.000Z",
          "2015-10-01T00:00:00.000Z",
          "2016-01-01T00:00:00.000Z",
          "2016-04-01T00:00:00.000Z",
          "2016-07-01T00:00:00.000Z",
          "2016-10-01T00:00:00.000Z",
          "2017-01-01T00:00:00.000Z",
          "2017-04-01T00:00:00.000Z"
         ],
         "y": [
          148,
          273,
          304,
          336,
          298,
          348,
          188,
          196,
          108
         ]
        },
        {
         "name": "servo",
         "type": "bar",
         "x": [
          "2015-04-01T00:00:00.000Z",
          "2015-07-01T00:00:00.000Z",
          "2015-10-01T00:00:00.000Z",
          "2016-01-01T00:00:00.000Z",
          "2016-04-01T00:00:00.000Z",
          "2016-07-01T00:00:00.000Z",
          "2016-10-01T00:00:00.000Z",
          "2017-01-01T00:00:00.000Z",
          "2017-04-01T00:00:00.000Z"
         ],
         "y": [
          54,
          119,
          147,
          166,
          175,
          169,
          160,
          175,
          82
         ]
        },
        {
         "name": "mozilla-services",
         "type": "bar",
         "x": [
          "2015-04-01T00:00:00.000Z",
          "2015-07-01T00:00:00.000Z",
          "2015-10-01T00:00:00.000Z",
          "2016-01-01T00:00:00.000Z",
          "2016-04-01T00:00:00.000Z",
          "2016-07-01T00:00:00.000Z",
          "2016-10-01T00:00:00.000Z",
          "2017-01-01T00:00:00.000Z",
          "2017-04-01T00:00:00.000Z"
         ],
         "y": [
          42,
          84,
          93,
          103,
          82,
          71,
          77,
          116,
          132
         ]
        },
        {
         "name": "mozilla-mobile",
         "type": "bar",
         "x": [
          "2015-04-01T00:00:00.000Z",
          "2015-07-01T00:00:00.000Z",
          "2015-10-01T00:00:00.000Z",
          "2016-01-01T00:00:00.000Z",
          "2016-04-01T00:00:00.000Z",
          "2016-07-01T00:00:00.000Z",
          "2016-10-01T00:00:00.000Z",
          "2017-01-01T00:00:00.000Z",
          "2017-04-01T00:00:00.000Z"
         ],
         "y": [
          16,
          26,
          26,
          24,
          20,
          16,
          23,
          34,
          17
         ]
        },
        {
         "name": "aframevr",
         "type": "bar",
         "x": [
          "2015-07-01T00:00:00.000Z",
          "2015-10-01T00:00:00.000Z",
          "2016-01-01T00:00:00.000Z",
          "2016-04-01T00:00:00.000Z",
          "2016-07-01T00:00:00.000Z",
          "2016-10-01T00:00:00.000Z",
          "2017-01-01T00:00:00.000Z",
          "2017-04-01T00:00:00.000Z"
         ],
         "y": [
          7,
          20,
          44,
          38,
          43,
          53,
          71,
          36
         ]
        },
        {
         "name": "mozmar",
         "type": "bar",
         "x": [
          "2015-04-01T00:00:00.000Z",
          "2015-07-01T00:00:00.000Z",
          "2015-10-01T00:00:00.000Z",
          "2016-01-01T00:00:00.000Z",
          "2016-04-01T00:00:00.000Z",
          "2016-07-01T00:00:00.000Z",
          "2016-10-01T00:00:00.000Z",
          "2017-01-01T00:00:00.000Z",
          "2017-04-01T00:00:00.000Z"
         ],
         "y": [
          3,
          7,
          6,
          10,
          7,
          11,
          10,
          12,
          6
         ]
        },
        {
         "name": "mdn",
         "type": "bar",
         "x": [
          "2015-04-01T00:00:00.000Z",
          "2015-07-01T00:00:00.000Z",
          "2015-10-01T00:00:00.000Z",
          "2016-01-01T00:00:00.000Z",
          "2016-04-01T00:00:00.000Z",
          "2016-07-01T00:00:00.000Z",
          "2016-10-01T00:00:00.000Z",
          "2017-01-01T00:00:00.000Z",
          "2017-04-01T00:00:00.000Z"
         ],
         "y": [
          17,
          29,
          35,
          36,
          31,
          38,
          49,
          29,
          13
         ]
        },
        {
         "name": "mozillascience",
         "type": "bar",
         "x": [
          "2015-04-01T00:00:00.000Z",
          "2015-07-01T00:00:00.000Z",
          "2015-10-01T00:00:00.000Z",
          "2016-01-01T00:00:00.000Z",
          "2016-04-01T00:00:00.000Z",
          "2016-07-01T00:00:00.000Z",
          "2016-10-01T00:00:00.000Z",
          "2017-01-01T00:00:00.000Z",
          "2017-04-01T00:00:00.000Z"
         ],
         "y": [
          11,
          25,
          25,
          33,
          25,
          12,
          17,
          20,
          9
         ]
        },
        {
         "name": "Mozilla-TWQA",
         "type": "bar",
         "x": [
          "2015-04-01T00:00:00.000Z",
          "2015-07-01T00:00:00.000Z",
          "2015-10-01T00:00:00.000Z",
          "2016-01-01T00:00:00.000Z",
          "2016-04-01T00:00:00.000Z",
          "2016-07-01T00:00:00.000Z",
          "2016-10-01T00:00:00.000Z",
          "2017-01-01T00:00:00.000Z",
          "2017-04-01T00:00:00.000Z"
         ],
         "y": [
          4,
          6,
          4,
          6,
          9,
          6,
          6,
          7,
          5
         ]
        }
       ],
       "layout": {
        "barmode": "stack"
       }
      },
      "text/html": [
       "<div id=\"323cff0d-267f-4a24-a86b-8eaf1a0e1b64\" style=\"height: 525px; width: 100%;\" class=\"plotly-graph-div\"></div><script type=\"text/javascript\">require([\"plotly\"], function(Plotly) { window.PLOTLYENV=window.PLOTLYENV || {};window.PLOTLYENV.BASE_URL=\"https://plot.ly\";Plotly.newPlot(\"323cff0d-267f-4a24-a86b-8eaf1a0e1b64\", [{\"y\": [826.0, 1321.0, 1474.0, 1520.0, 1451.0, 1472.0, 1260.0, 1249.0, 558.0], \"name\": \"mozilla\", \"type\": \"bar\", \"x\": [\"2015-04-01T00:00:00.000Z\", \"2015-07-01T00:00:00.000Z\", \"2015-10-01T00:00:00.000Z\", \"2016-01-01T00:00:00.000Z\", \"2016-04-01T00:00:00.000Z\", \"2016-07-01T00:00:00.000Z\", \"2016-10-01T00:00:00.000Z\", \"2017-01-01T00:00:00.000Z\", \"2017-04-01T00:00:00.000Z\"]}, {\"y\": [148.0, 273.0, 304.0, 336.0, 298.0, 348.0, 188.0, 196.0, 108.0], \"name\": \"rust-lang\", \"type\": \"bar\", \"x\": [\"2015-04-01T00:00:00.000Z\", \"2015-07-01T00:00:00.000Z\", \"2015-10-01T00:00:00.000Z\", \"2016-01-01T00:00:00.000Z\", \"2016-04-01T00:00:00.000Z\", \"2016-07-01T00:00:00.000Z\", \"2016-10-01T00:00:00.000Z\", \"2017-01-01T00:00:00.000Z\", \"2017-04-01T00:00:00.000Z\"]}, {\"y\": [54.0, 119.0, 147.0, 166.0, 175.0, 169.0, 160.0, 175.0, 82.0], \"name\": \"servo\", \"type\": \"bar\", \"x\": [\"2015-04-01T00:00:00.000Z\", \"2015-07-01T00:00:00.000Z\", \"2015-10-01T00:00:00.000Z\", \"2016-01-01T00:00:00.000Z\", \"2016-04-01T00:00:00.000Z\", \"2016-07-01T00:00:00.000Z\", \"2016-10-01T00:00:00.000Z\", \"2017-01-01T00:00:00.000Z\", \"2017-04-01T00:00:00.000Z\"]}, {\"y\": [42.0, 84.0, 93.0, 103.0, 82.0, 71.0, 77.0, 116.0, 132.0], \"name\": \"mozilla-services\", \"type\": \"bar\", \"x\": [\"2015-04-01T00:00:00.000Z\", \"2015-07-01T00:00:00.000Z\", \"2015-10-01T00:00:00.000Z\", \"2016-01-01T00:00:00.000Z\", \"2016-04-01T00:00:00.000Z\", \"2016-07-01T00:00:00.000Z\", \"2016-10-01T00:00:00.000Z\", \"2017-01-01T00:00:00.000Z\", \"2017-04-01T00:00:00.000Z\"]}, {\"y\": [16.0, 26.0, 26.0, 24.0, 20.0, 16.0, 23.0, 34.0, 17.0], \"name\": \"mozilla-mobile\", \"type\": \"bar\", \"x\": [\"2015-04-01T00:00:00.000Z\", \"2015-07-01T00:00:00.000Z\", \"2015-10-01T00:00:00.000Z\", \"2016-01-01T00:00:00.000Z\", \"2016-04-01T00:00:00.000Z\", \"2016-07-01T00:00:00.000Z\", \"2016-10-01T00:00:00.000Z\", \"2017-01-01T00:00:00.000Z\", \"2017-04-01T00:00:00.000Z\"]}, {\"y\": [7.0, 20.0, 44.0, 38.0, 43.0, 53.0, 71.0, 36.0], \"name\": \"aframevr\", \"type\": \"bar\", \"x\": [\"2015-07-01T00:00:00.000Z\", \"2015-10-01T00:00:00.000Z\", \"2016-01-01T00:00:00.000Z\", \"2016-04-01T00:00:00.000Z\", \"2016-07-01T00:00:00.000Z\", \"2016-10-01T00:00:00.000Z\", \"2017-01-01T00:00:00.000Z\", \"2017-04-01T00:00:00.000Z\"]}, {\"y\": [3.0, 7.0, 6.0, 10.0, 7.0, 11.0, 10.0, 12.0, 6.0], \"name\": \"mozmar\", \"type\": \"bar\", \"x\": [\"2015-04-01T00:00:00.000Z\", \"2015-07-01T00:00:00.000Z\", \"2015-10-01T00:00:00.000Z\", \"2016-01-01T00:00:00.000Z\", \"2016-04-01T00:00:00.000Z\", \"2016-07-01T00:00:00.000Z\", \"2016-10-01T00:00:00.000Z\", \"2017-01-01T00:00:00.000Z\", \"2017-04-01T00:00:00.000Z\"]}, {\"y\": [17.0, 29.0, 35.0, 36.0, 31.0, 38.0, 49.0, 29.0, 13.0], \"name\": \"mdn\", \"type\": \"bar\", \"x\": [\"2015-04-01T00:00:00.000Z\", \"2015-07-01T00:00:00.000Z\", \"2015-10-01T00:00:00.000Z\", \"2016-01-01T00:00:00.000Z\", \"2016-04-01T00:00:00.000Z\", \"2016-07-01T00:00:00.000Z\", \"2016-10-01T00:00:00.000Z\", \"2017-01-01T00:00:00.000Z\", \"2017-04-01T00:00:00.000Z\"]}, {\"y\": [11.0, 25.0, 25.0, 33.0, 25.0, 12.0, 17.0, 20.0, 9.0], \"name\": \"mozillascience\", \"type\": \"bar\", \"x\": [\"2015-04-01T00:00:00.000Z\", \"2015-07-01T00:00:00.000Z\", \"2015-10-01T00:00:00.000Z\", \"2016-01-01T00:00:00.000Z\", \"2016-04-01T00:00:00.000Z\", \"2016-07-01T00:00:00.000Z\", \"2016-10-01T00:00:00.000Z\", \"2017-01-01T00:00:00.000Z\", \"2017-04-01T00:00:00.000Z\"]}, {\"y\": [4.0, 6.0, 4.0, 6.0, 9.0, 6.0, 6.0, 7.0, 5.0], \"name\": \"Mozilla-TWQA\", \"type\": \"bar\", \"x\": [\"2015-04-01T00:00:00.000Z\", \"2015-07-01T00:00:00.000Z\", \"2015-10-01T00:00:00.000Z\", \"2016-01-01T00:00:00.000Z\", \"2016-04-01T00:00:00.000Z\", \"2016-07-01T00:00:00.000Z\", \"2016-10-01T00:00:00.000Z\", \"2017-01-01T00:00:00.000Z\", \"2017-04-01T00:00:00.000Z\"]}], {\"barmode\": \"stack\"}, {\"linkText\": \"Export to plot.ly\", \"showLink\": true})});</script>"
      ],
      "text/vnd.plotly.v1+html": [
       "<div id=\"323cff0d-267f-4a24-a86b-8eaf1a0e1b64\" style=\"height: 525px; width: 100%;\" class=\"plotly-graph-div\"></div><script type=\"text/javascript\">require([\"plotly\"], function(Plotly) { window.PLOTLYENV=window.PLOTLYENV || {};window.PLOTLYENV.BASE_URL=\"https://plot.ly\";Plotly.newPlot(\"323cff0d-267f-4a24-a86b-8eaf1a0e1b64\", [{\"y\": [826.0, 1321.0, 1474.0, 1520.0, 1451.0, 1472.0, 1260.0, 1249.0, 558.0], \"name\": \"mozilla\", \"type\": \"bar\", \"x\": [\"2015-04-01T00:00:00.000Z\", \"2015-07-01T00:00:00.000Z\", \"2015-10-01T00:00:00.000Z\", \"2016-01-01T00:00:00.000Z\", \"2016-04-01T00:00:00.000Z\", \"2016-07-01T00:00:00.000Z\", \"2016-10-01T00:00:00.000Z\", \"2017-01-01T00:00:00.000Z\", \"2017-04-01T00:00:00.000Z\"]}, {\"y\": [148.0, 273.0, 304.0, 336.0, 298.0, 348.0, 188.0, 196.0, 108.0], \"name\": \"rust-lang\", \"type\": \"bar\", \"x\": [\"2015-04-01T00:00:00.000Z\", \"2015-07-01T00:00:00.000Z\", \"2015-10-01T00:00:00.000Z\", \"2016-01-01T00:00:00.000Z\", \"2016-04-01T00:00:00.000Z\", \"2016-07-01T00:00:00.000Z\", \"2016-10-01T00:00:00.000Z\", \"2017-01-01T00:00:00.000Z\", \"2017-04-01T00:00:00.000Z\"]}, {\"y\": [54.0, 119.0, 147.0, 166.0, 175.0, 169.0, 160.0, 175.0, 82.0], \"name\": \"servo\", \"type\": \"bar\", \"x\": [\"2015-04-01T00:00:00.000Z\", \"2015-07-01T00:00:00.000Z\", \"2015-10-01T00:00:00.000Z\", \"2016-01-01T00:00:00.000Z\", \"2016-04-01T00:00:00.000Z\", \"2016-07-01T00:00:00.000Z\", \"2016-10-01T00:00:00.000Z\", \"2017-01-01T00:00:00.000Z\", \"2017-04-01T00:00:00.000Z\"]}, {\"y\": [42.0, 84.0, 93.0, 103.0, 82.0, 71.0, 77.0, 116.0, 132.0], \"name\": \"mozilla-services\", \"type\": \"bar\", \"x\": [\"2015-04-01T00:00:00.000Z\", \"2015-07-01T00:00:00.000Z\", \"2015-10-01T00:00:00.000Z\", \"2016-01-01T00:00:00.000Z\", \"2016-04-01T00:00:00.000Z\", \"2016-07-01T00:00:00.000Z\", \"2016-10-01T00:00:00.000Z\", \"2017-01-01T00:00:00.000Z\", \"2017-04-01T00:00:00.000Z\"]}, {\"y\": [16.0, 26.0, 26.0, 24.0, 20.0, 16.0, 23.0, 34.0, 17.0], \"name\": \"mozilla-mobile\", \"type\": \"bar\", \"x\": [\"2015-04-01T00:00:00.000Z\", \"2015-07-01T00:00:00.000Z\", \"2015-10-01T00:00:00.000Z\", \"2016-01-01T00:00:00.000Z\", \"2016-04-01T00:00:00.000Z\", \"2016-07-01T00:00:00.000Z\", \"2016-10-01T00:00:00.000Z\", \"2017-01-01T00:00:00.000Z\", \"2017-04-01T00:00:00.000Z\"]}, {\"y\": [7.0, 20.0, 44.0, 38.0, 43.0, 53.0, 71.0, 36.0], \"name\": \"aframevr\", \"type\": \"bar\", \"x\": [\"2015-07-01T00:00:00.000Z\", \"2015-10-01T00:00:00.000Z\", \"2016-01-01T00:00:00.000Z\", \"2016-04-01T00:00:00.000Z\", \"2016-07-01T00:00:00.000Z\", \"2016-10-01T00:00:00.000Z\", \"2017-01-01T00:00:00.000Z\", \"2017-04-01T00:00:00.000Z\"]}, {\"y\": [3.0, 7.0, 6.0, 10.0, 7.0, 11.0, 10.0, 12.0, 6.0], \"name\": \"mozmar\", \"type\": \"bar\", \"x\": [\"2015-04-01T00:00:00.000Z\", \"2015-07-01T00:00:00.000Z\", \"2015-10-01T00:00:00.000Z\", \"2016-01-01T00:00:00.000Z\", \"2016-04-01T00:00:00.000Z\", \"2016-07-01T00:00:00.000Z\", \"2016-10-01T00:00:00.000Z\", \"2017-01-01T00:00:00.000Z\", \"2017-04-01T00:00:00.000Z\"]}, {\"y\": [17.0, 29.0, 35.0, 36.0, 31.0, 38.0, 49.0, 29.0, 13.0], \"name\": \"mdn\", \"type\": \"bar\", \"x\": [\"2015-04-01T00:00:00.000Z\", \"2015-07-01T00:00:00.000Z\", \"2015-10-01T00:00:00.000Z\", \"2016-01-01T00:00:00.000Z\", \"2016-04-01T00:00:00.000Z\", \"2016-07-01T00:00:00.000Z\", \"2016-10-01T00:00:00.000Z\", \"2017-01-01T00:00:00.000Z\", \"2017-04-01T00:00:00.000Z\"]}, {\"y\": [11.0, 25.0, 25.0, 33.0, 25.0, 12.0, 17.0, 20.0, 9.0], \"name\": \"mozillascience\", \"type\": \"bar\", \"x\": [\"2015-04-01T00:00:00.000Z\", \"2015-07-01T00:00:00.000Z\", \"2015-10-01T00:00:00.000Z\", \"2016-01-01T00:00:00.000Z\", \"2016-04-01T00:00:00.000Z\", \"2016-07-01T00:00:00.000Z\", \"2016-10-01T00:00:00.000Z\", \"2017-01-01T00:00:00.000Z\", \"2017-04-01T00:00:00.000Z\"]}, {\"y\": [4.0, 6.0, 4.0, 6.0, 9.0, 6.0, 6.0, 7.0, 5.0], \"name\": \"Mozilla-TWQA\", \"type\": \"bar\", \"x\": [\"2015-04-01T00:00:00.000Z\", \"2015-07-01T00:00:00.000Z\", \"2015-10-01T00:00:00.000Z\", \"2016-01-01T00:00:00.000Z\", \"2016-04-01T00:00:00.000Z\", \"2016-07-01T00:00:00.000Z\", \"2016-10-01T00:00:00.000Z\", \"2017-01-01T00:00:00.000Z\", \"2017-04-01T00:00:00.000Z\"]}], {\"barmode\": \"stack\"}, {\"linkText\": \"Export to plot.ly\", \"showLink\": true})});</script>"
      ]
     },
     "metadata": {},
     "output_type": "display_data"
    }
   ],
   "source": [
    "print_stacked_bar(df=df, time_column='Time', value_column='# Contributors', group_column='Project')"
   ]
  },
  {
   "cell_type": "code",
   "execution_count": 61,
   "metadata": {
    "collapsed": false,
    "scrolled": true
   },
   "outputs": [
    {
     "data": {
      "text/html": [
       "<script>requirejs.config({paths: { 'plotly': ['https://cdn.plot.ly/plotly-latest.min']},});if(!window.Plotly) {{require(['plotly'],function(plotly) {window.Plotly=plotly;});}}</script>"
      ],
      "text/vnd.plotly.v1+html": [
       "<script>requirejs.config({paths: { 'plotly': ['https://cdn.plot.ly/plotly-latest.min']},});if(!window.Plotly) {{require(['plotly'],function(plotly) {window.Plotly=plotly;});}}</script>"
      ]
     },
     "metadata": {},
     "output_type": "display_data"
    },
    {
     "data": {
      "application/vnd.plotly.v1+json": {
       "data": [
        {
         "name": "Gecko",
         "type": "bar",
         "x": [
          "2016-01-01T00:00:00.000Z",
          "2016-07-01T00:00:00.000Z",
          "2016-04-01T00:00:00.000Z",
          "2015-10-01T00:00:00.000Z",
          "2015-07-01T00:00:00.000Z",
          "2016-10-01T00:00:00.000Z",
          "2015-04-01T00:00:00.000Z",
          "2017-01-01T00:00:00.000Z",
          "2017-04-01T00:00:00.000Z"
         ],
         "y": [
          1509,
          1503,
          1453,
          1421,
          1417,
          1267,
          895,
          658,
          156
         ]
        },
        {
         "name": "Rust",
         "type": "bar",
         "x": [
          "2016-01-01T00:00:00.000Z",
          "2016-07-01T00:00:00.000Z",
          "2015-10-01T00:00:00.000Z",
          "2016-04-01T00:00:00.000Z",
          "2015-07-01T00:00:00.000Z",
          "2017-01-01T00:00:00.000Z",
          "2016-10-01T00:00:00.000Z",
          "2015-04-01T00:00:00.000Z",
          "2017-04-01T00:00:00.000Z"
         ],
         "y": [
          293,
          289,
          268,
          265,
          237,
          146,
          139,
          121,
          76
         ]
        },
        {
         "name": "Web Properties",
         "type": "bar",
         "x": [
          "2017-01-01T00:00:00.000Z",
          "2015-10-01T00:00:00.000Z",
          "2016-01-01T00:00:00.000Z",
          "2016-10-01T00:00:00.000Z",
          "2015-07-01T00:00:00.000Z",
          "2016-04-01T00:00:00.000Z",
          "2016-07-01T00:00:00.000Z",
          "2017-04-01T00:00:00.000Z",
          "2015-04-01T00:00:00.000Z"
         ],
         "y": [
          252,
          236,
          235,
          192,
          185,
          165,
          153,
          107,
          61
         ]
        },
        {
         "name": "Servo",
         "type": "bar",
         "x": [
          "2016-04-01T00:00:00.000Z",
          "2016-01-01T00:00:00.000Z",
          "2015-10-01T00:00:00.000Z",
          "2016-07-01T00:00:00.000Z",
          "2015-07-01T00:00:00.000Z",
          "2017-01-01T00:00:00.000Z",
          "2016-10-01T00:00:00.000Z",
          "2015-04-01T00:00:00.000Z",
          "2017-04-01T00:00:00.000Z"
         ],
         "y": [
          231,
          227,
          206,
          205,
          188,
          188,
          176,
          105,
          75
         ]
        },
        {
         "name": "IT/Ops",
         "type": "bar",
         "x": [
          "2016-01-01T00:00:00.000Z",
          "2017-01-01T00:00:00.000Z",
          "2016-04-01T00:00:00.000Z",
          "2015-10-01T00:00:00.000Z",
          "2017-04-01T00:00:00.000Z",
          "2016-07-01T00:00:00.000Z",
          "2015-07-01T00:00:00.000Z",
          "2016-10-01T00:00:00.000Z",
          "2015-04-01T00:00:00.000Z"
         ],
         "y": [
          154,
          151,
          141,
          124,
          114,
          113,
          107,
          105,
          48
         ]
        },
        {
         "name": "Addons/Web Extensions",
         "type": "bar",
         "x": [
          "2017-01-01T00:00:00.000Z",
          "2016-07-01T00:00:00.000Z",
          "2016-10-01T00:00:00.000Z",
          "2016-04-01T00:00:00.000Z",
          "2016-01-01T00:00:00.000Z",
          "2015-10-01T00:00:00.000Z",
          "2015-07-01T00:00:00.000Z",
          "2017-04-01T00:00:00.000Z",
          "2015-04-01T00:00:00.000Z"
         ],
         "y": [
          152,
          130,
          118,
          108,
          91,
          85,
          67,
          52,
          16
         ]
        },
        {
         "name": "WebVR",
         "type": "bar",
         "x": [
          "2017-01-01T00:00:00.000Z",
          "2016-10-01T00:00:00.000Z",
          "2016-07-01T00:00:00.000Z",
          "2016-01-01T00:00:00.000Z",
          "2016-04-01T00:00:00.000Z",
          "2015-10-01T00:00:00.000Z",
          "2017-04-01T00:00:00.000Z",
          "2015-07-01T00:00:00.000Z",
          "2015-04-01T00:00:00.000Z"
         ],
         "y": [
          75,
          67,
          61,
          47,
          45,
          28,
          27,
          14,
          3
         ]
        },
        {
         "name": "Test Pilot",
         "type": "bar",
         "x": [
          "2017-01-01T00:00:00.000Z",
          "2016-10-01T00:00:00.000Z",
          "2017-04-01T00:00:00.000Z",
          "2016-07-01T00:00:00.000Z",
          "2016-04-01T00:00:00.000Z",
          "2016-01-01T00:00:00.000Z",
          "2015-07-01T00:00:00.000Z",
          "2015-10-01T00:00:00.000Z"
         ],
         "y": [
          75,
          62,
          22,
          10,
          9,
          7,
          4,
          4
         ]
        },
        {
         "name": "Mozilla Local/Regional communities",
         "type": "bar",
         "x": [
          "2016-10-01T00:00:00.000Z",
          "2016-01-01T00:00:00.000Z",
          "2017-01-01T00:00:00.000Z",
          "2016-04-01T00:00:00.000Z",
          "2015-07-01T00:00:00.000Z",
          "2015-10-01T00:00:00.000Z",
          "2016-07-01T00:00:00.000Z",
          "2017-04-01T00:00:00.000Z",
          "2015-04-01T00:00:00.000Z"
         ],
         "y": [
          57,
          56,
          56,
          51,
          49,
          47,
          43,
          15,
          13
         ]
        },
        {
         "name": "Firefox OS (FxOS / B2G)",
         "type": "bar",
         "x": [
          "2015-07-01T00:00:00.000Z",
          "2015-10-01T00:00:00.000Z",
          "2015-04-01T00:00:00.000Z",
          "2016-01-01T00:00:00.000Z",
          "2017-01-01T00:00:00.000Z",
          "2016-07-01T00:00:00.000Z",
          "2016-04-01T00:00:00.000Z",
          "2016-10-01T00:00:00.000Z"
         ],
         "y": [
          55,
          25,
          19,
          8,
          2,
          1,
          1,
          0
         ]
        },
        {
         "name": "Release engineering",
         "type": "bar",
         "x": [
          "2015-07-01T00:00:00.000Z",
          "2015-04-01T00:00:00.000Z",
          "2016-01-01T00:00:00.000Z",
          "2017-01-01T00:00:00.000Z",
          "2015-10-01T00:00:00.000Z",
          "2016-04-01T00:00:00.000Z",
          "2016-07-01T00:00:00.000Z",
          "2016-10-01T00:00:00.000Z",
          "2017-04-01T00:00:00.000Z"
         ],
         "y": [
          55,
          41,
          40,
          33,
          33,
          26,
          24,
          22,
          18
         ]
        },
        {
         "name": "Localization",
         "type": "bar",
         "x": [
          "2017-01-01T00:00:00.000Z",
          "2017-04-01T00:00:00.000Z",
          "2015-10-01T00:00:00.000Z",
          "2016-04-01T00:00:00.000Z",
          "2016-01-01T00:00:00.000Z",
          "2015-07-01T00:00:00.000Z",
          "2016-07-01T00:00:00.000Z",
          "2016-10-01T00:00:00.000Z",
          "2015-04-01T00:00:00.000Z"
         ],
         "y": [
          52,
          27,
          4,
          4,
          4,
          4,
          3,
          3,
          3
         ]
        },
        {
         "name": "Web Literacy",
         "type": "bar",
         "x": [
          "2015-07-01T00:00:00.000Z",
          "2015-04-01T00:00:00.000Z",
          "2015-10-01T00:00:00.000Z",
          "2016-01-01T00:00:00.000Z",
          "2016-04-01T00:00:00.000Z",
          "2016-07-01T00:00:00.000Z",
          "2017-01-01T00:00:00.000Z",
          "2016-10-01T00:00:00.000Z"
         ],
         "y": [
          44,
          27,
          15,
          9,
          8,
          6,
          2,
          1
         ]
        },
        {
         "name": "Mozilla Developer Network (MDN)",
         "type": "bar",
         "x": [
          "2017-01-01T00:00:00.000Z",
          "2016-04-01T00:00:00.000Z",
          "2016-10-01T00:00:00.000Z",
          "2016-01-01T00:00:00.000Z",
          "2016-07-01T00:00:00.000Z",
          "2015-10-01T00:00:00.000Z",
          "2015-07-01T00:00:00.000Z",
          "2015-04-01T00:00:00.000Z",
          "2017-04-01T00:00:00.000Z"
         ],
         "y": [
          40,
          33,
          27,
          21,
          20,
          18,
          13,
          10,
          10
         ]
        },
        {
         "name": "Mozilla Science",
         "type": "bar",
         "x": [
          "2016-01-01T00:00:00.000Z",
          "2015-10-01T00:00:00.000Z",
          "2015-07-01T00:00:00.000Z",
          "2017-01-01T00:00:00.000Z",
          "2016-10-01T00:00:00.000Z",
          "2016-04-01T00:00:00.000Z",
          "2015-04-01T00:00:00.000Z",
          "2016-07-01T00:00:00.000Z",
          "2017-04-01T00:00:00.000Z"
         ],
         "y": [
          38,
          29,
          23,
          22,
          22,
          22,
          10,
          9,
          6
         ]
        },
        {
         "name": "Advocacy and policy",
         "type": "bar",
         "x": [
          "2016-07-01T00:00:00.000Z",
          "2017-01-01T00:00:00.000Z",
          "2016-10-01T00:00:00.000Z",
          "2016-04-01T00:00:00.000Z",
          "2017-04-01T00:00:00.000Z",
          "2016-01-01T00:00:00.000Z",
          "2015-04-01T00:00:00.000Z",
          "2015-07-01T00:00:00.000Z",
          "2015-10-01T00:00:00.000Z"
         ],
         "y": [
          25,
          18,
          18,
          13,
          8,
          5,
          3,
          3,
          2
         ]
        },
        {
         "name": "Firefox iOS",
         "type": "bar",
         "x": [
          "2015-07-01T00:00:00.000Z",
          "2016-01-01T00:00:00.000Z",
          "2016-04-01T00:00:00.000Z",
          "2017-01-01T00:00:00.000Z",
          "2015-10-01T00:00:00.000Z",
          "2016-10-01T00:00:00.000Z",
          "2015-04-01T00:00:00.000Z",
          "2016-07-01T00:00:00.000Z",
          "2017-04-01T00:00:00.000Z"
         ],
         "y": [
          22,
          21,
          20,
          19,
          15,
          13,
          13,
          12,
          10
         ]
        },
        {
         "name": "Mozilla Foundation",
         "type": "bar",
         "x": [
          "2016-07-01T00:00:00.000Z",
          "2016-01-01T00:00:00.000Z",
          "2017-01-01T00:00:00.000Z",
          "2015-10-01T00:00:00.000Z",
          "2016-04-01T00:00:00.000Z",
          "2017-04-01T00:00:00.000Z",
          "2016-10-01T00:00:00.000Z",
          "2015-07-01T00:00:00.000Z",
          "2015-04-01T00:00:00.000Z"
         ],
         "y": [
          19,
          18,
          14,
          12,
          8,
          7,
          6,
          5,
          2
         ]
        },
        {
         "name": "Marketing / Social Media",
         "type": "bar",
         "x": [
          "2017-01-01T00:00:00.000Z",
          "2016-07-01T00:00:00.000Z",
          "2016-10-01T00:00:00.000Z",
          "2015-07-01T00:00:00.000Z",
          "2017-04-01T00:00:00.000Z",
          "2016-04-01T00:00:00.000Z",
          "2016-01-01T00:00:00.000Z",
          "2015-10-01T00:00:00.000Z",
          "2015-04-01T00:00:00.000Z"
         ],
         "y": [
          17,
          16,
          14,
          11,
          10,
          10,
          9,
          7,
          5
         ]
        },
        {
         "name": "Firefox",
         "type": "bar",
         "x": [
          "2016-07-01T00:00:00.000Z",
          "2016-04-01T00:00:00.000Z",
          "2016-01-01T00:00:00.000Z",
          "2016-10-01T00:00:00.000Z",
          "2017-01-01T00:00:00.000Z",
          "2017-04-01T00:00:00.000Z"
         ],
         "y": [
          15,
          13,
          10,
          10,
          8,
          7
         ]
        },
        {
         "name": "Vaani",
         "type": "bar",
         "x": [
          "2016-07-01T00:00:00.000Z",
          "2016-04-01T00:00:00.000Z",
          "2015-07-01T00:00:00.000Z",
          "2017-01-01T00:00:00.000Z",
          "2016-01-01T00:00:00.000Z",
          "2015-10-01T00:00:00.000Z",
          "2016-10-01T00:00:00.000Z"
         ],
         "y": [
          14,
          6,
          4,
          1,
          1,
          1,
          0
         ]
        },
        {
         "name": "Mozilla Clubs",
         "type": "bar",
         "x": [
          "2015-10-01T00:00:00.000Z",
          "2016-04-01T00:00:00.000Z",
          "2016-01-01T00:00:00.000Z",
          "2017-04-01T00:00:00.000Z",
          "2015-07-01T00:00:00.000Z",
          "2016-07-01T00:00:00.000Z",
          "2016-10-01T00:00:00.000Z",
          "2017-01-01T00:00:00.000Z"
         ],
         "y": [
          11,
          8,
          6,
          1,
          1,
          0,
          0,
          0
         ]
        },
        {
         "name": "Deep Speech",
         "type": "bar",
         "x": [
          "2017-04-01T00:00:00.000Z",
          "2017-01-01T00:00:00.000Z",
          "2016-10-01T00:00:00.000Z",
          "2016-07-01T00:00:00.000Z"
         ],
         "y": [
          8,
          7,
          6,
          2
         ]
        },
        {
         "name": "Campus Clubs (previously Student Ambassadors)",
         "type": "bar",
         "x": [
          "2016-10-01T00:00:00.000Z",
          "2016-07-01T00:00:00.000Z",
          "2017-01-01T00:00:00.000Z",
          "2017-04-01T00:00:00.000Z",
          "2016-01-01T00:00:00.000Z",
          "2016-04-01T00:00:00.000Z"
         ],
         "y": [
          8,
          5,
          2,
          1,
          1,
          0
         ]
        },
        {
         "name": "Technical/Developer Evangelism",
         "type": "bar",
         "x": [
          "2016-07-01T00:00:00.000Z",
          "2016-04-01T00:00:00.000Z",
          "2015-10-01T00:00:00.000Z",
          "2015-07-01T00:00:00.000Z",
          "2016-01-01T00:00:00.000Z",
          "2017-01-01T00:00:00.000Z",
          "2016-10-01T00:00:00.000Z",
          "2015-04-01T00:00:00.000Z",
          "2017-04-01T00:00:00.000Z"
         ],
         "y": [
          8,
          6,
          6,
          5,
          4,
          4,
          2,
          2,
          1
         ]
        },
        {
         "name": "Firefox Focus",
         "type": "bar",
         "x": [
          "2017-01-01T00:00:00.000Z",
          "2016-10-01T00:00:00.000Z",
          "2017-04-01T00:00:00.000Z",
          "2016-01-01T00:00:00.000Z",
          "2015-10-01T00:00:00.000Z",
          "2016-07-01T00:00:00.000Z",
          "2016-04-01T00:00:00.000Z"
         ],
         "y": [
          7,
          6,
          5,
          4,
          3,
          1,
          0
         ]
        },
        {
         "name": "Mozilla Creative & Design",
         "type": "bar",
         "x": [
          "2016-01-01T00:00:00.000Z",
          "2016-04-01T00:00:00.000Z",
          "2017-01-01T00:00:00.000Z",
          "2016-07-01T00:00:00.000Z",
          "2016-10-01T00:00:00.000Z",
          "2015-04-01T00:00:00.000Z",
          "2015-07-01T00:00:00.000Z",
          "2015-10-01T00:00:00.000Z",
          "2017-04-01T00:00:00.000Z"
         ],
         "y": [
          6,
          5,
          4,
          2,
          2,
          1,
          1,
          1,
          1
         ]
        },
        {
         "name": "Mozilla Location Service (MLS) / Stumbler",
         "type": "bar",
         "x": [
          "2015-07-01T00:00:00.000Z",
          "2016-04-01T00:00:00.000Z",
          "2015-10-01T00:00:00.000Z",
          "2015-04-01T00:00:00.000Z",
          "2016-01-01T00:00:00.000Z",
          "2016-10-01T00:00:00.000Z",
          "2016-07-01T00:00:00.000Z"
         ],
         "y": [
          6,
          2,
          2,
          1,
          1,
          1,
          0
         ]
        },
        {
         "name": "Connected devices & IoT",
         "type": "bar",
         "x": [
          "2016-01-01T00:00:00.000Z",
          "2016-04-01T00:00:00.000Z",
          "2015-07-01T00:00:00.000Z",
          "2016-07-01T00:00:00.000Z",
          "2017-01-01T00:00:00.000Z",
          "2017-04-01T00:00:00.000Z",
          "2015-10-01T00:00:00.000Z",
          "2016-10-01T00:00:00.000Z"
         ],
         "y": [
          3,
          1,
          1,
          1,
          1,
          1,
          0,
          0
         ]
        },
        {
         "name": "Developer Tools",
         "type": "bar",
         "x": [
          "2015-04-01T00:00:00.000Z",
          "2016-01-01T00:00:00.000Z"
         ],
         "y": [
          2,
          1
         ]
        },
        {
         "name": "Quality Assurance",
         "type": "bar",
         "x": [
          "2015-07-01T00:00:00.000Z",
          "2015-10-01T00:00:00.000Z",
          "2015-04-01T00:00:00.000Z"
         ],
         "y": [
          1,
          1,
          1
         ]
        },
        {
         "name": "Firefox Android",
         "type": "bar",
         "x": [
          "2015-10-01T00:00:00.000Z",
          "2017-04-01T00:00:00.000Z",
          "2017-01-01T00:00:00.000Z"
         ],
         "y": [
          1,
          1,
          1
         ]
        }
       ],
       "layout": {
        "barmode": "stack"
       }
      },
      "text/html": [
       "<div id=\"55370dfe-c27c-44e7-ad4a-0b78f0902440\" style=\"height: 525px; width: 100%;\" class=\"plotly-graph-div\"></div><script type=\"text/javascript\">require([\"plotly\"], function(Plotly) { window.PLOTLYENV=window.PLOTLYENV || {};window.PLOTLYENV.BASE_URL=\"https://plot.ly\";Plotly.newPlot(\"55370dfe-c27c-44e7-ad4a-0b78f0902440\", [{\"y\": [1509.0, 1503.0, 1453.0, 1421.0, 1417.0, 1267.0, 895.0, 658.0, 156.0], \"name\": \"Gecko\", \"type\": \"bar\", \"x\": [\"2016-01-01T00:00:00.000Z\", \"2016-07-01T00:00:00.000Z\", \"2016-04-01T00:00:00.000Z\", \"2015-10-01T00:00:00.000Z\", \"2015-07-01T00:00:00.000Z\", \"2016-10-01T00:00:00.000Z\", \"2015-04-01T00:00:00.000Z\", \"2017-01-01T00:00:00.000Z\", \"2017-04-01T00:00:00.000Z\"]}, {\"y\": [293.0, 289.0, 268.0, 265.0, 237.0, 146.0, 139.0, 121.0, 76.0], \"name\": \"Rust\", \"type\": \"bar\", \"x\": [\"2016-01-01T00:00:00.000Z\", \"2016-07-01T00:00:00.000Z\", \"2015-10-01T00:00:00.000Z\", \"2016-04-01T00:00:00.000Z\", \"2015-07-01T00:00:00.000Z\", \"2017-01-01T00:00:00.000Z\", \"2016-10-01T00:00:00.000Z\", \"2015-04-01T00:00:00.000Z\", \"2017-04-01T00:00:00.000Z\"]}, {\"y\": [252.0, 236.0, 235.0, 192.0, 185.0, 165.0, 153.0, 107.0, 61.0], \"name\": \"Web Properties\", \"type\": \"bar\", \"x\": [\"2017-01-01T00:00:00.000Z\", \"2015-10-01T00:00:00.000Z\", \"2016-01-01T00:00:00.000Z\", \"2016-10-01T00:00:00.000Z\", \"2015-07-01T00:00:00.000Z\", \"2016-04-01T00:00:00.000Z\", \"2016-07-01T00:00:00.000Z\", \"2017-04-01T00:00:00.000Z\", \"2015-04-01T00:00:00.000Z\"]}, {\"y\": [231.0, 227.0, 206.0, 205.0, 188.0, 188.0, 176.0, 105.0, 75.0], \"name\": \"Servo\", \"type\": \"bar\", \"x\": [\"2016-04-01T00:00:00.000Z\", \"2016-01-01T00:00:00.000Z\", \"2015-10-01T00:00:00.000Z\", \"2016-07-01T00:00:00.000Z\", \"2015-07-01T00:00:00.000Z\", \"2017-01-01T00:00:00.000Z\", \"2016-10-01T00:00:00.000Z\", \"2015-04-01T00:00:00.000Z\", \"2017-04-01T00:00:00.000Z\"]}, {\"y\": [154.0, 151.0, 141.0, 124.0, 114.0, 113.0, 107.0, 105.0, 48.0], \"name\": \"IT/Ops\", \"type\": \"bar\", \"x\": [\"2016-01-01T00:00:00.000Z\", \"2017-01-01T00:00:00.000Z\", \"2016-04-01T00:00:00.000Z\", \"2015-10-01T00:00:00.000Z\", \"2017-04-01T00:00:00.000Z\", \"2016-07-01T00:00:00.000Z\", \"2015-07-01T00:00:00.000Z\", \"2016-10-01T00:00:00.000Z\", \"2015-04-01T00:00:00.000Z\"]}, {\"y\": [152.0, 130.0, 118.0, 108.0, 91.0, 85.0, 67.0, 52.0, 16.0], \"name\": \"Addons/Web Extensions\", \"type\": \"bar\", \"x\": [\"2017-01-01T00:00:00.000Z\", \"2016-07-01T00:00:00.000Z\", \"2016-10-01T00:00:00.000Z\", \"2016-04-01T00:00:00.000Z\", \"2016-01-01T00:00:00.000Z\", \"2015-10-01T00:00:00.000Z\", \"2015-07-01T00:00:00.000Z\", \"2017-04-01T00:00:00.000Z\", \"2015-04-01T00:00:00.000Z\"]}, {\"y\": [75.0, 67.0, 61.0, 47.0, 45.0, 28.0, 27.0, 14.0, 3.0], \"name\": \"WebVR\", \"type\": \"bar\", \"x\": [\"2017-01-01T00:00:00.000Z\", \"2016-10-01T00:00:00.000Z\", \"2016-07-01T00:00:00.000Z\", \"2016-01-01T00:00:00.000Z\", \"2016-04-01T00:00:00.000Z\", \"2015-10-01T00:00:00.000Z\", \"2017-04-01T00:00:00.000Z\", \"2015-07-01T00:00:00.000Z\", \"2015-04-01T00:00:00.000Z\"]}, {\"y\": [75.0, 62.0, 22.0, 10.0, 9.0, 7.0, 4.0, 4.0], \"name\": \"Test Pilot\", \"type\": \"bar\", \"x\": [\"2017-01-01T00:00:00.000Z\", \"2016-10-01T00:00:00.000Z\", \"2017-04-01T00:00:00.000Z\", \"2016-07-01T00:00:00.000Z\", \"2016-04-01T00:00:00.000Z\", \"2016-01-01T00:00:00.000Z\", \"2015-07-01T00:00:00.000Z\", \"2015-10-01T00:00:00.000Z\"]}, {\"y\": [57.0, 56.0, 56.0, 51.0, 49.0, 47.0, 43.0, 15.0, 13.0], \"name\": \"Mozilla Local/Regional communities\", \"type\": \"bar\", \"x\": [\"2016-10-01T00:00:00.000Z\", \"2016-01-01T00:00:00.000Z\", \"2017-01-01T00:00:00.000Z\", \"2016-04-01T00:00:00.000Z\", \"2015-07-01T00:00:00.000Z\", \"2015-10-01T00:00:00.000Z\", \"2016-07-01T00:00:00.000Z\", \"2017-04-01T00:00:00.000Z\", \"2015-04-01T00:00:00.000Z\"]}, {\"y\": [55.0, 25.0, 19.0, 8.0, 2.0, 1.0, 1.0, 0.0], \"name\": \"Firefox OS (FxOS / B2G)\", \"type\": \"bar\", \"x\": [\"2015-07-01T00:00:00.000Z\", \"2015-10-01T00:00:00.000Z\", \"2015-04-01T00:00:00.000Z\", \"2016-01-01T00:00:00.000Z\", \"2017-01-01T00:00:00.000Z\", \"2016-07-01T00:00:00.000Z\", \"2016-04-01T00:00:00.000Z\", \"2016-10-01T00:00:00.000Z\"]}, {\"y\": [55.0, 41.0, 40.0, 33.0, 33.0, 26.0, 24.0, 22.0, 18.0], \"name\": \"Release engineering\", \"type\": \"bar\", \"x\": [\"2015-07-01T00:00:00.000Z\", \"2015-04-01T00:00:00.000Z\", \"2016-01-01T00:00:00.000Z\", \"2017-01-01T00:00:00.000Z\", \"2015-10-01T00:00:00.000Z\", \"2016-04-01T00:00:00.000Z\", \"2016-07-01T00:00:00.000Z\", \"2016-10-01T00:00:00.000Z\", \"2017-04-01T00:00:00.000Z\"]}, {\"y\": [52.0, 27.0, 4.0, 4.0, 4.0, 4.0, 3.0, 3.0, 3.0], \"name\": \"Localization\", \"type\": \"bar\", \"x\": [\"2017-01-01T00:00:00.000Z\", \"2017-04-01T00:00:00.000Z\", \"2015-10-01T00:00:00.000Z\", \"2016-04-01T00:00:00.000Z\", \"2016-01-01T00:00:00.000Z\", \"2015-07-01T00:00:00.000Z\", \"2016-07-01T00:00:00.000Z\", \"2016-10-01T00:00:00.000Z\", \"2015-04-01T00:00:00.000Z\"]}, {\"y\": [44.0, 27.0, 15.0, 9.0, 8.0, 6.0, 2.0, 1.0], \"name\": \"Web Literacy\", \"type\": \"bar\", \"x\": [\"2015-07-01T00:00:00.000Z\", \"2015-04-01T00:00:00.000Z\", \"2015-10-01T00:00:00.000Z\", \"2016-01-01T00:00:00.000Z\", \"2016-04-01T00:00:00.000Z\", \"2016-07-01T00:00:00.000Z\", \"2017-01-01T00:00:00.000Z\", \"2016-10-01T00:00:00.000Z\"]}, {\"y\": [40.0, 33.0, 27.0, 21.0, 20.0, 18.0, 13.0, 10.0, 10.0], \"name\": \"Mozilla Developer Network (MDN)\", \"type\": \"bar\", \"x\": [\"2017-01-01T00:00:00.000Z\", \"2016-04-01T00:00:00.000Z\", \"2016-10-01T00:00:00.000Z\", \"2016-01-01T00:00:00.000Z\", \"2016-07-01T00:00:00.000Z\", \"2015-10-01T00:00:00.000Z\", \"2015-07-01T00:00:00.000Z\", \"2015-04-01T00:00:00.000Z\", \"2017-04-01T00:00:00.000Z\"]}, {\"y\": [38.0, 29.0, 23.0, 22.0, 22.0, 22.0, 10.0, 9.0, 6.0], \"name\": \"Mozilla Science\", \"type\": \"bar\", \"x\": [\"2016-01-01T00:00:00.000Z\", \"2015-10-01T00:00:00.000Z\", \"2015-07-01T00:00:00.000Z\", \"2017-01-01T00:00:00.000Z\", \"2016-10-01T00:00:00.000Z\", \"2016-04-01T00:00:00.000Z\", \"2015-04-01T00:00:00.000Z\", \"2016-07-01T00:00:00.000Z\", \"2017-04-01T00:00:00.000Z\"]}, {\"y\": [25.0, 18.0, 18.0, 13.0, 8.0, 5.0, 3.0, 3.0, 2.0], \"name\": \"Advocacy and policy\", \"type\": \"bar\", \"x\": [\"2016-07-01T00:00:00.000Z\", \"2017-01-01T00:00:00.000Z\", \"2016-10-01T00:00:00.000Z\", \"2016-04-01T00:00:00.000Z\", \"2017-04-01T00:00:00.000Z\", \"2016-01-01T00:00:00.000Z\", \"2015-04-01T00:00:00.000Z\", \"2015-07-01T00:00:00.000Z\", \"2015-10-01T00:00:00.000Z\"]}, {\"y\": [22.0, 21.0, 20.0, 19.0, 15.0, 13.0, 13.0, 12.0, 10.0], \"name\": \"Firefox iOS\", \"type\": \"bar\", \"x\": [\"2015-07-01T00:00:00.000Z\", \"2016-01-01T00:00:00.000Z\", \"2016-04-01T00:00:00.000Z\", \"2017-01-01T00:00:00.000Z\", \"2015-10-01T00:00:00.000Z\", \"2016-10-01T00:00:00.000Z\", \"2015-04-01T00:00:00.000Z\", \"2016-07-01T00:00:00.000Z\", \"2017-04-01T00:00:00.000Z\"]}, {\"y\": [19.0, 18.0, 14.0, 12.0, 8.0, 7.0, 6.0, 5.0, 2.0], \"name\": \"Mozilla Foundation\", \"type\": \"bar\", \"x\": [\"2016-07-01T00:00:00.000Z\", \"2016-01-01T00:00:00.000Z\", \"2017-01-01T00:00:00.000Z\", \"2015-10-01T00:00:00.000Z\", \"2016-04-01T00:00:00.000Z\", \"2017-04-01T00:00:00.000Z\", \"2016-10-01T00:00:00.000Z\", \"2015-07-01T00:00:00.000Z\", \"2015-04-01T00:00:00.000Z\"]}, {\"y\": [17.0, 16.0, 14.0, 11.0, 10.0, 10.0, 9.0, 7.0, 5.0], \"name\": \"Marketing / Social Media\", \"type\": \"bar\", \"x\": [\"2017-01-01T00:00:00.000Z\", \"2016-07-01T00:00:00.000Z\", \"2016-10-01T00:00:00.000Z\", \"2015-07-01T00:00:00.000Z\", \"2017-04-01T00:00:00.000Z\", \"2016-04-01T00:00:00.000Z\", \"2016-01-01T00:00:00.000Z\", \"2015-10-01T00:00:00.000Z\", \"2015-04-01T00:00:00.000Z\"]}, {\"y\": [15.0, 13.0, 10.0, 10.0, 8.0, 7.0], \"name\": \"Firefox\", \"type\": \"bar\", \"x\": [\"2016-07-01T00:00:00.000Z\", \"2016-04-01T00:00:00.000Z\", \"2016-01-01T00:00:00.000Z\", \"2016-10-01T00:00:00.000Z\", \"2017-01-01T00:00:00.000Z\", \"2017-04-01T00:00:00.000Z\"]}, {\"y\": [14.0, 6.0, 4.0, 1.0, 1.0, 1.0, 0.0], \"name\": \"Vaani\", \"type\": \"bar\", \"x\": [\"2016-07-01T00:00:00.000Z\", \"2016-04-01T00:00:00.000Z\", \"2015-07-01T00:00:00.000Z\", \"2017-01-01T00:00:00.000Z\", \"2016-01-01T00:00:00.000Z\", \"2015-10-01T00:00:00.000Z\", \"2016-10-01T00:00:00.000Z\"]}, {\"y\": [11.0, 8.0, 6.0, 1.0, 1.0, 0.0, 0.0, 0.0], \"name\": \"Mozilla Clubs\", \"type\": \"bar\", \"x\": [\"2015-10-01T00:00:00.000Z\", \"2016-04-01T00:00:00.000Z\", \"2016-01-01T00:00:00.000Z\", \"2017-04-01T00:00:00.000Z\", \"2015-07-01T00:00:00.000Z\", \"2016-07-01T00:00:00.000Z\", \"2016-10-01T00:00:00.000Z\", \"2017-01-01T00:00:00.000Z\"]}, {\"y\": [8.0, 7.0, 6.0, 2.0], \"name\": \"Deep Speech\", \"type\": \"bar\", \"x\": [\"2017-04-01T00:00:00.000Z\", \"2017-01-01T00:00:00.000Z\", \"2016-10-01T00:00:00.000Z\", \"2016-07-01T00:00:00.000Z\"]}, {\"y\": [8.0, 5.0, 2.0, 1.0, 1.0, 0.0], \"name\": \"Campus Clubs (previously Student Ambassadors)\", \"type\": \"bar\", \"x\": [\"2016-10-01T00:00:00.000Z\", \"2016-07-01T00:00:00.000Z\", \"2017-01-01T00:00:00.000Z\", \"2017-04-01T00:00:00.000Z\", \"2016-01-01T00:00:00.000Z\", \"2016-04-01T00:00:00.000Z\"]}, {\"y\": [8.0, 6.0, 6.0, 5.0, 4.0, 4.0, 2.0, 2.0, 1.0], \"name\": \"Technical/Developer Evangelism\", \"type\": \"bar\", \"x\": [\"2016-07-01T00:00:00.000Z\", \"2016-04-01T00:00:00.000Z\", \"2015-10-01T00:00:00.000Z\", \"2015-07-01T00:00:00.000Z\", \"2016-01-01T00:00:00.000Z\", \"2017-01-01T00:00:00.000Z\", \"2016-10-01T00:00:00.000Z\", \"2015-04-01T00:00:00.000Z\", \"2017-04-01T00:00:00.000Z\"]}, {\"y\": [7.0, 6.0, 5.0, 4.0, 3.0, 1.0, 0.0], \"name\": \"Firefox Focus\", \"type\": \"bar\", \"x\": [\"2017-01-01T00:00:00.000Z\", \"2016-10-01T00:00:00.000Z\", \"2017-04-01T00:00:00.000Z\", \"2016-01-01T00:00:00.000Z\", \"2015-10-01T00:00:00.000Z\", \"2016-07-01T00:00:00.000Z\", \"2016-04-01T00:00:00.000Z\"]}, {\"y\": [6.0, 5.0, 4.0, 2.0, 2.0, 1.0, 1.0, 1.0, 1.0], \"name\": \"Mozilla Creative & Design\", \"type\": \"bar\", \"x\": [\"2016-01-01T00:00:00.000Z\", \"2016-04-01T00:00:00.000Z\", \"2017-01-01T00:00:00.000Z\", \"2016-07-01T00:00:00.000Z\", \"2016-10-01T00:00:00.000Z\", \"2015-04-01T00:00:00.000Z\", \"2015-07-01T00:00:00.000Z\", \"2015-10-01T00:00:00.000Z\", \"2017-04-01T00:00:00.000Z\"]}, {\"y\": [6.0, 2.0, 2.0, 1.0, 1.0, 1.0, 0.0], \"name\": \"Mozilla Location Service (MLS) / Stumbler\", \"type\": \"bar\", \"x\": [\"2015-07-01T00:00:00.000Z\", \"2016-04-01T00:00:00.000Z\", \"2015-10-01T00:00:00.000Z\", \"2015-04-01T00:00:00.000Z\", \"2016-01-01T00:00:00.000Z\", \"2016-10-01T00:00:00.000Z\", \"2016-07-01T00:00:00.000Z\"]}, {\"y\": [3.0, 1.0, 1.0, 1.0, 1.0, 1.0, 0.0, 0.0], \"name\": \"Connected devices & IoT\", \"type\": \"bar\", \"x\": [\"2016-01-01T00:00:00.000Z\", \"2016-04-01T00:00:00.000Z\", \"2015-07-01T00:00:00.000Z\", \"2016-07-01T00:00:00.000Z\", \"2017-01-01T00:00:00.000Z\", \"2017-04-01T00:00:00.000Z\", \"2015-10-01T00:00:00.000Z\", \"2016-10-01T00:00:00.000Z\"]}, {\"y\": [2.0, 1.0], \"name\": \"Developer Tools\", \"type\": \"bar\", \"x\": [\"2015-04-01T00:00:00.000Z\", \"2016-01-01T00:00:00.000Z\"]}, {\"y\": [1.0, 1.0, 1.0], \"name\": \"Quality Assurance\", \"type\": \"bar\", \"x\": [\"2015-07-01T00:00:00.000Z\", \"2015-10-01T00:00:00.000Z\", \"2015-04-01T00:00:00.000Z\"]}, {\"y\": [1.0, 1.0, 1.0], \"name\": \"Firefox Android\", \"type\": \"bar\", \"x\": [\"2015-10-01T00:00:00.000Z\", \"2017-04-01T00:00:00.000Z\", \"2017-01-01T00:00:00.000Z\"]}], {\"barmode\": \"stack\"}, {\"linkText\": \"Export to plot.ly\", \"showLink\": true})});</script>"
      ],
      "text/vnd.plotly.v1+html": [
       "<div id=\"55370dfe-c27c-44e7-ad4a-0b78f0902440\" style=\"height: 525px; width: 100%;\" class=\"plotly-graph-div\"></div><script type=\"text/javascript\">require([\"plotly\"], function(Plotly) { window.PLOTLYENV=window.PLOTLYENV || {};window.PLOTLYENV.BASE_URL=\"https://plot.ly\";Plotly.newPlot(\"55370dfe-c27c-44e7-ad4a-0b78f0902440\", [{\"y\": [1509.0, 1503.0, 1453.0, 1421.0, 1417.0, 1267.0, 895.0, 658.0, 156.0], \"name\": \"Gecko\", \"type\": \"bar\", \"x\": [\"2016-01-01T00:00:00.000Z\", \"2016-07-01T00:00:00.000Z\", \"2016-04-01T00:00:00.000Z\", \"2015-10-01T00:00:00.000Z\", \"2015-07-01T00:00:00.000Z\", \"2016-10-01T00:00:00.000Z\", \"2015-04-01T00:00:00.000Z\", \"2017-01-01T00:00:00.000Z\", \"2017-04-01T00:00:00.000Z\"]}, {\"y\": [293.0, 289.0, 268.0, 265.0, 237.0, 146.0, 139.0, 121.0, 76.0], \"name\": \"Rust\", \"type\": \"bar\", \"x\": [\"2016-01-01T00:00:00.000Z\", \"2016-07-01T00:00:00.000Z\", \"2015-10-01T00:00:00.000Z\", \"2016-04-01T00:00:00.000Z\", \"2015-07-01T00:00:00.000Z\", \"2017-01-01T00:00:00.000Z\", \"2016-10-01T00:00:00.000Z\", \"2015-04-01T00:00:00.000Z\", \"2017-04-01T00:00:00.000Z\"]}, {\"y\": [252.0, 236.0, 235.0, 192.0, 185.0, 165.0, 153.0, 107.0, 61.0], \"name\": \"Web Properties\", \"type\": \"bar\", \"x\": [\"2017-01-01T00:00:00.000Z\", \"2015-10-01T00:00:00.000Z\", \"2016-01-01T00:00:00.000Z\", \"2016-10-01T00:00:00.000Z\", \"2015-07-01T00:00:00.000Z\", \"2016-04-01T00:00:00.000Z\", \"2016-07-01T00:00:00.000Z\", \"2017-04-01T00:00:00.000Z\", \"2015-04-01T00:00:00.000Z\"]}, {\"y\": [231.0, 227.0, 206.0, 205.0, 188.0, 188.0, 176.0, 105.0, 75.0], \"name\": \"Servo\", \"type\": \"bar\", \"x\": [\"2016-04-01T00:00:00.000Z\", \"2016-01-01T00:00:00.000Z\", \"2015-10-01T00:00:00.000Z\", \"2016-07-01T00:00:00.000Z\", \"2015-07-01T00:00:00.000Z\", \"2017-01-01T00:00:00.000Z\", \"2016-10-01T00:00:00.000Z\", \"2015-04-01T00:00:00.000Z\", \"2017-04-01T00:00:00.000Z\"]}, {\"y\": [154.0, 151.0, 141.0, 124.0, 114.0, 113.0, 107.0, 105.0, 48.0], \"name\": \"IT/Ops\", \"type\": \"bar\", \"x\": [\"2016-01-01T00:00:00.000Z\", \"2017-01-01T00:00:00.000Z\", \"2016-04-01T00:00:00.000Z\", \"2015-10-01T00:00:00.000Z\", \"2017-04-01T00:00:00.000Z\", \"2016-07-01T00:00:00.000Z\", \"2015-07-01T00:00:00.000Z\", \"2016-10-01T00:00:00.000Z\", \"2015-04-01T00:00:00.000Z\"]}, {\"y\": [152.0, 130.0, 118.0, 108.0, 91.0, 85.0, 67.0, 52.0, 16.0], \"name\": \"Addons/Web Extensions\", \"type\": \"bar\", \"x\": [\"2017-01-01T00:00:00.000Z\", \"2016-07-01T00:00:00.000Z\", \"2016-10-01T00:00:00.000Z\", \"2016-04-01T00:00:00.000Z\", \"2016-01-01T00:00:00.000Z\", \"2015-10-01T00:00:00.000Z\", \"2015-07-01T00:00:00.000Z\", \"2017-04-01T00:00:00.000Z\", \"2015-04-01T00:00:00.000Z\"]}, {\"y\": [75.0, 67.0, 61.0, 47.0, 45.0, 28.0, 27.0, 14.0, 3.0], \"name\": \"WebVR\", \"type\": \"bar\", \"x\": [\"2017-01-01T00:00:00.000Z\", \"2016-10-01T00:00:00.000Z\", \"2016-07-01T00:00:00.000Z\", \"2016-01-01T00:00:00.000Z\", \"2016-04-01T00:00:00.000Z\", \"2015-10-01T00:00:00.000Z\", \"2017-04-01T00:00:00.000Z\", \"2015-07-01T00:00:00.000Z\", \"2015-04-01T00:00:00.000Z\"]}, {\"y\": [75.0, 62.0, 22.0, 10.0, 9.0, 7.0, 4.0, 4.0], \"name\": \"Test Pilot\", \"type\": \"bar\", \"x\": [\"2017-01-01T00:00:00.000Z\", \"2016-10-01T00:00:00.000Z\", \"2017-04-01T00:00:00.000Z\", \"2016-07-01T00:00:00.000Z\", \"2016-04-01T00:00:00.000Z\", \"2016-01-01T00:00:00.000Z\", \"2015-07-01T00:00:00.000Z\", \"2015-10-01T00:00:00.000Z\"]}, {\"y\": [57.0, 56.0, 56.0, 51.0, 49.0, 47.0, 43.0, 15.0, 13.0], \"name\": \"Mozilla Local/Regional communities\", \"type\": \"bar\", \"x\": [\"2016-10-01T00:00:00.000Z\", \"2016-01-01T00:00:00.000Z\", \"2017-01-01T00:00:00.000Z\", \"2016-04-01T00:00:00.000Z\", \"2015-07-01T00:00:00.000Z\", \"2015-10-01T00:00:00.000Z\", \"2016-07-01T00:00:00.000Z\", \"2017-04-01T00:00:00.000Z\", \"2015-04-01T00:00:00.000Z\"]}, {\"y\": [55.0, 25.0, 19.0, 8.0, 2.0, 1.0, 1.0, 0.0], \"name\": \"Firefox OS (FxOS / B2G)\", \"type\": \"bar\", \"x\": [\"2015-07-01T00:00:00.000Z\", \"2015-10-01T00:00:00.000Z\", \"2015-04-01T00:00:00.000Z\", \"2016-01-01T00:00:00.000Z\", \"2017-01-01T00:00:00.000Z\", \"2016-07-01T00:00:00.000Z\", \"2016-04-01T00:00:00.000Z\", \"2016-10-01T00:00:00.000Z\"]}, {\"y\": [55.0, 41.0, 40.0, 33.0, 33.0, 26.0, 24.0, 22.0, 18.0], \"name\": \"Release engineering\", \"type\": \"bar\", \"x\": [\"2015-07-01T00:00:00.000Z\", \"2015-04-01T00:00:00.000Z\", \"2016-01-01T00:00:00.000Z\", \"2017-01-01T00:00:00.000Z\", \"2015-10-01T00:00:00.000Z\", \"2016-04-01T00:00:00.000Z\", \"2016-07-01T00:00:00.000Z\", \"2016-10-01T00:00:00.000Z\", \"2017-04-01T00:00:00.000Z\"]}, {\"y\": [52.0, 27.0, 4.0, 4.0, 4.0, 4.0, 3.0, 3.0, 3.0], \"name\": \"Localization\", \"type\": \"bar\", \"x\": [\"2017-01-01T00:00:00.000Z\", \"2017-04-01T00:00:00.000Z\", \"2015-10-01T00:00:00.000Z\", \"2016-04-01T00:00:00.000Z\", \"2016-01-01T00:00:00.000Z\", \"2015-07-01T00:00:00.000Z\", \"2016-07-01T00:00:00.000Z\", \"2016-10-01T00:00:00.000Z\", \"2015-04-01T00:00:00.000Z\"]}, {\"y\": [44.0, 27.0, 15.0, 9.0, 8.0, 6.0, 2.0, 1.0], \"name\": \"Web Literacy\", \"type\": \"bar\", \"x\": [\"2015-07-01T00:00:00.000Z\", \"2015-04-01T00:00:00.000Z\", \"2015-10-01T00:00:00.000Z\", \"2016-01-01T00:00:00.000Z\", \"2016-04-01T00:00:00.000Z\", \"2016-07-01T00:00:00.000Z\", \"2017-01-01T00:00:00.000Z\", \"2016-10-01T00:00:00.000Z\"]}, {\"y\": [40.0, 33.0, 27.0, 21.0, 20.0, 18.0, 13.0, 10.0, 10.0], \"name\": \"Mozilla Developer Network (MDN)\", \"type\": \"bar\", \"x\": [\"2017-01-01T00:00:00.000Z\", \"2016-04-01T00:00:00.000Z\", \"2016-10-01T00:00:00.000Z\", \"2016-01-01T00:00:00.000Z\", \"2016-07-01T00:00:00.000Z\", \"2015-10-01T00:00:00.000Z\", \"2015-07-01T00:00:00.000Z\", \"2015-04-01T00:00:00.000Z\", \"2017-04-01T00:00:00.000Z\"]}, {\"y\": [38.0, 29.0, 23.0, 22.0, 22.0, 22.0, 10.0, 9.0, 6.0], \"name\": \"Mozilla Science\", \"type\": \"bar\", \"x\": [\"2016-01-01T00:00:00.000Z\", \"2015-10-01T00:00:00.000Z\", \"2015-07-01T00:00:00.000Z\", \"2017-01-01T00:00:00.000Z\", \"2016-10-01T00:00:00.000Z\", \"2016-04-01T00:00:00.000Z\", \"2015-04-01T00:00:00.000Z\", \"2016-07-01T00:00:00.000Z\", \"2017-04-01T00:00:00.000Z\"]}, {\"y\": [25.0, 18.0, 18.0, 13.0, 8.0, 5.0, 3.0, 3.0, 2.0], \"name\": \"Advocacy and policy\", \"type\": \"bar\", \"x\": [\"2016-07-01T00:00:00.000Z\", \"2017-01-01T00:00:00.000Z\", \"2016-10-01T00:00:00.000Z\", \"2016-04-01T00:00:00.000Z\", \"2017-04-01T00:00:00.000Z\", \"2016-01-01T00:00:00.000Z\", \"2015-04-01T00:00:00.000Z\", \"2015-07-01T00:00:00.000Z\", \"2015-10-01T00:00:00.000Z\"]}, {\"y\": [22.0, 21.0, 20.0, 19.0, 15.0, 13.0, 13.0, 12.0, 10.0], \"name\": \"Firefox iOS\", \"type\": \"bar\", \"x\": [\"2015-07-01T00:00:00.000Z\", \"2016-01-01T00:00:00.000Z\", \"2016-04-01T00:00:00.000Z\", \"2017-01-01T00:00:00.000Z\", \"2015-10-01T00:00:00.000Z\", \"2016-10-01T00:00:00.000Z\", \"2015-04-01T00:00:00.000Z\", \"2016-07-01T00:00:00.000Z\", \"2017-04-01T00:00:00.000Z\"]}, {\"y\": [19.0, 18.0, 14.0, 12.0, 8.0, 7.0, 6.0, 5.0, 2.0], \"name\": \"Mozilla Foundation\", \"type\": \"bar\", \"x\": [\"2016-07-01T00:00:00.000Z\", \"2016-01-01T00:00:00.000Z\", \"2017-01-01T00:00:00.000Z\", \"2015-10-01T00:00:00.000Z\", \"2016-04-01T00:00:00.000Z\", \"2017-04-01T00:00:00.000Z\", \"2016-10-01T00:00:00.000Z\", \"2015-07-01T00:00:00.000Z\", \"2015-04-01T00:00:00.000Z\"]}, {\"y\": [17.0, 16.0, 14.0, 11.0, 10.0, 10.0, 9.0, 7.0, 5.0], \"name\": \"Marketing / Social Media\", \"type\": \"bar\", \"x\": [\"2017-01-01T00:00:00.000Z\", \"2016-07-01T00:00:00.000Z\", \"2016-10-01T00:00:00.000Z\", \"2015-07-01T00:00:00.000Z\", \"2017-04-01T00:00:00.000Z\", \"2016-04-01T00:00:00.000Z\", \"2016-01-01T00:00:00.000Z\", \"2015-10-01T00:00:00.000Z\", \"2015-04-01T00:00:00.000Z\"]}, {\"y\": [15.0, 13.0, 10.0, 10.0, 8.0, 7.0], \"name\": \"Firefox\", \"type\": \"bar\", \"x\": [\"2016-07-01T00:00:00.000Z\", \"2016-04-01T00:00:00.000Z\", \"2016-01-01T00:00:00.000Z\", \"2016-10-01T00:00:00.000Z\", \"2017-01-01T00:00:00.000Z\", \"2017-04-01T00:00:00.000Z\"]}, {\"y\": [14.0, 6.0, 4.0, 1.0, 1.0, 1.0, 0.0], \"name\": \"Vaani\", \"type\": \"bar\", \"x\": [\"2016-07-01T00:00:00.000Z\", \"2016-04-01T00:00:00.000Z\", \"2015-07-01T00:00:00.000Z\", \"2017-01-01T00:00:00.000Z\", \"2016-01-01T00:00:00.000Z\", \"2015-10-01T00:00:00.000Z\", \"2016-10-01T00:00:00.000Z\"]}, {\"y\": [11.0, 8.0, 6.0, 1.0, 1.0, 0.0, 0.0, 0.0], \"name\": \"Mozilla Clubs\", \"type\": \"bar\", \"x\": [\"2015-10-01T00:00:00.000Z\", \"2016-04-01T00:00:00.000Z\", \"2016-01-01T00:00:00.000Z\", \"2017-04-01T00:00:00.000Z\", \"2015-07-01T00:00:00.000Z\", \"2016-07-01T00:00:00.000Z\", \"2016-10-01T00:00:00.000Z\", \"2017-01-01T00:00:00.000Z\"]}, {\"y\": [8.0, 7.0, 6.0, 2.0], \"name\": \"Deep Speech\", \"type\": \"bar\", \"x\": [\"2017-04-01T00:00:00.000Z\", \"2017-01-01T00:00:00.000Z\", \"2016-10-01T00:00:00.000Z\", \"2016-07-01T00:00:00.000Z\"]}, {\"y\": [8.0, 5.0, 2.0, 1.0, 1.0, 0.0], \"name\": \"Campus Clubs (previously Student Ambassadors)\", \"type\": \"bar\", \"x\": [\"2016-10-01T00:00:00.000Z\", \"2016-07-01T00:00:00.000Z\", \"2017-01-01T00:00:00.000Z\", \"2017-04-01T00:00:00.000Z\", \"2016-01-01T00:00:00.000Z\", \"2016-04-01T00:00:00.000Z\"]}, {\"y\": [8.0, 6.0, 6.0, 5.0, 4.0, 4.0, 2.0, 2.0, 1.0], \"name\": \"Technical/Developer Evangelism\", \"type\": \"bar\", \"x\": [\"2016-07-01T00:00:00.000Z\", \"2016-04-01T00:00:00.000Z\", \"2015-10-01T00:00:00.000Z\", \"2015-07-01T00:00:00.000Z\", \"2016-01-01T00:00:00.000Z\", \"2017-01-01T00:00:00.000Z\", \"2016-10-01T00:00:00.000Z\", \"2015-04-01T00:00:00.000Z\", \"2017-04-01T00:00:00.000Z\"]}, {\"y\": [7.0, 6.0, 5.0, 4.0, 3.0, 1.0, 0.0], \"name\": \"Firefox Focus\", \"type\": \"bar\", \"x\": [\"2017-01-01T00:00:00.000Z\", \"2016-10-01T00:00:00.000Z\", \"2017-04-01T00:00:00.000Z\", \"2016-01-01T00:00:00.000Z\", \"2015-10-01T00:00:00.000Z\", \"2016-07-01T00:00:00.000Z\", \"2016-04-01T00:00:00.000Z\"]}, {\"y\": [6.0, 5.0, 4.0, 2.0, 2.0, 1.0, 1.0, 1.0, 1.0], \"name\": \"Mozilla Creative & Design\", \"type\": \"bar\", \"x\": [\"2016-01-01T00:00:00.000Z\", \"2016-04-01T00:00:00.000Z\", \"2017-01-01T00:00:00.000Z\", \"2016-07-01T00:00:00.000Z\", \"2016-10-01T00:00:00.000Z\", \"2015-04-01T00:00:00.000Z\", \"2015-07-01T00:00:00.000Z\", \"2015-10-01T00:00:00.000Z\", \"2017-04-01T00:00:00.000Z\"]}, {\"y\": [6.0, 2.0, 2.0, 1.0, 1.0, 1.0, 0.0], \"name\": \"Mozilla Location Service (MLS) / Stumbler\", \"type\": \"bar\", \"x\": [\"2015-07-01T00:00:00.000Z\", \"2016-04-01T00:00:00.000Z\", \"2015-10-01T00:00:00.000Z\", \"2015-04-01T00:00:00.000Z\", \"2016-01-01T00:00:00.000Z\", \"2016-10-01T00:00:00.000Z\", \"2016-07-01T00:00:00.000Z\"]}, {\"y\": [3.0, 1.0, 1.0, 1.0, 1.0, 1.0, 0.0, 0.0], \"name\": \"Connected devices & IoT\", \"type\": \"bar\", \"x\": [\"2016-01-01T00:00:00.000Z\", \"2016-04-01T00:00:00.000Z\", \"2015-07-01T00:00:00.000Z\", \"2016-07-01T00:00:00.000Z\", \"2017-01-01T00:00:00.000Z\", \"2017-04-01T00:00:00.000Z\", \"2015-10-01T00:00:00.000Z\", \"2016-10-01T00:00:00.000Z\"]}, {\"y\": [2.0, 1.0], \"name\": \"Developer Tools\", \"type\": \"bar\", \"x\": [\"2015-04-01T00:00:00.000Z\", \"2016-01-01T00:00:00.000Z\"]}, {\"y\": [1.0, 1.0, 1.0], \"name\": \"Quality Assurance\", \"type\": \"bar\", \"x\": [\"2015-07-01T00:00:00.000Z\", \"2015-10-01T00:00:00.000Z\", \"2015-04-01T00:00:00.000Z\"]}, {\"y\": [1.0, 1.0, 1.0], \"name\": \"Firefox Android\", \"type\": \"bar\", \"x\": [\"2015-10-01T00:00:00.000Z\", \"2017-04-01T00:00:00.000Z\", \"2017-01-01T00:00:00.000Z\"]}], {\"barmode\": \"stack\"}, {\"linkText\": \"Export to plot.ly\", \"showLink\": true})});</script>"
      ]
     },
     "metadata": {},
     "output_type": "display_data"
    }
   ],
   "source": [
    "###\n",
    "## GET DATA BY REPO FROM ES AND MERGE AGAINST PROJECTS SPREADSHEET\n",
    "###\n",
    "\n",
    "s = create_search(source='git')\n",
    "\n",
    "# General filters\n",
    "s = add_general_date_filters(s)\n",
    "s = add_bot_filter(s)\n",
    "s = add_merges_filter(s)\n",
    "\n",
    "# Unique count of Commits by Repo (max 100 projects)\n",
    "s = s.filter('range', grimoire_creation_date={'gt': 'now/M-2y', 'lt': 'now/M'})\n",
    "s.aggs.bucket('repos', 'terms', field='repo_name', size=100000)\\\n",
    "    .bucket('time', 'date_histogram', field='grimoire_creation_date', interval='quarter')\\\n",
    "    .metric('contributors', 'cardinality', field='author_uuid', precision_threshold=100000)\n",
    "\n",
    "result = s.execute()\n",
    "            \n",
    "repos = stack_by(result=result, group_column='Repo', time_column='Time', value_column='# Contributors',\\\n",
    "        group_field='repos', time_field='time', value_field='contributors')\n",
    "\n",
    "# Group By project\n",
    "merged_df = repos.merge(projects['Github'], on='Repo', how='left')\n",
    "\n",
    "projects_df = merged_df.groupby(['Project', 'Time']).agg({'# Contributors': 'sum', 'Repo': 'count'})\n",
    "projects_df = projects_df.sort_values(by='# Contributors', ascending=0)\n",
    "\n",
    "# Plot it\n",
    "print_stacked_bar(df=projects_df.reset_index(), time_column='Time', value_column='# Contributors', group_column='Project')"
   ]
  },
  {
   "cell_type": "markdown",
   "metadata": {},
   "source": [
    "#### List of organizations\n"
   ]
  },
  {
   "cell_type": "code",
   "execution_count": 31,
   "metadata": {
    "collapsed": false
   },
   "outputs": [],
   "source": [
    "s = create_search(source='git')\n",
    "\n",
    "s = add_bot_filter(s)\n",
    "s = add_merges_filter(s)\n",
    "\n",
    "# Unique count of Commits by Project (max 100 projects)\n",
    "s.aggs.bucket('organizations', 'terms', field='author_org_name', size=100)\\\n",
    "    .metric('commits', 'cardinality', field='hash', precision_threshold=100000)\n",
    "result = s.execute()"
   ]
  },
  {
   "cell_type": "code",
   "execution_count": 32,
   "metadata": {
    "collapsed": false
   },
   "outputs": [
    {
     "data": {
      "text/html": [
       "<div>\n",
       "<table border=\"1\" class=\"dataframe\">\n",
       "  <thead>\n",
       "    <tr style=\"text-align: right;\">\n",
       "      <th></th>\n",
       "      <th>Organization</th>\n",
       "      <th># Commits</th>\n",
       "    </tr>\n",
       "  </thead>\n",
       "  <tbody>\n",
       "    <tr>\n",
       "      <th>0</th>\n",
       "      <td>Mozilla Staff</td>\n",
       "      <td>1364303</td>\n",
       "    </tr>\n",
       "    <tr>\n",
       "      <th>1</th>\n",
       "      <td>Community</td>\n",
       "      <td>679867</td>\n",
       "    </tr>\n",
       "    <tr>\n",
       "      <th>2</th>\n",
       "      <td>Mozilla Reps</td>\n",
       "      <td>481</td>\n",
       "    </tr>\n",
       "  </tbody>\n",
       "</table>\n",
       "</div>"
      ],
      "text/plain": [
       "    Organization  # Commits\n",
       "0  Mozilla Staff    1364303\n",
       "1      Community     679867\n",
       "2   Mozilla Reps        481"
      ]
     },
     "execution_count": 32,
     "metadata": {},
     "output_type": "execute_result"
    }
   ],
   "source": [
    "print_df(result=result, group_field='organizations', value_field='commits', \\\n",
    "         group_column='Organization', value_column='# Commits')"
   ]
  },
  {
   "cell_type": "markdown",
   "metadata": {},
   "source": [
    "### Contributors by organization\n",
    "#### Git"
   ]
  },
  {
   "cell_type": "code",
   "execution_count": 33,
   "metadata": {
    "collapsed": false
   },
   "outputs": [],
   "source": [
    "s = create_search(source='git')\n",
    "\n",
    "s = add_bot_filter(s)\n",
    "s= add_merges_filter(s)\n",
    "\n",
    "# Unique count of Commits by Project (max 100 projects)\n",
    "s.aggs.bucket('organizations', 'terms', field='author_org_name', size=100).\\\n",
    "    metric('contributors', 'cardinality', field='author_uuid', precision_threshold=100000)\n",
    "result = s.execute()"
   ]
  },
  {
   "cell_type": "code",
   "execution_count": 34,
   "metadata": {
    "collapsed": false
   },
   "outputs": [
    {
     "data": {
      "text/html": [
       "<div>\n",
       "<table border=\"1\" class=\"dataframe\">\n",
       "  <thead>\n",
       "    <tr style=\"text-align: right;\">\n",
       "      <th></th>\n",
       "      <th>Organization</th>\n",
       "      <th># Contributors</th>\n",
       "    </tr>\n",
       "  </thead>\n",
       "  <tbody>\n",
       "    <tr>\n",
       "      <th>0</th>\n",
       "      <td>Mozilla Staff</td>\n",
       "      <td>2182</td>\n",
       "    </tr>\n",
       "    <tr>\n",
       "      <th>1</th>\n",
       "      <td>Community</td>\n",
       "      <td>13043</td>\n",
       "    </tr>\n",
       "    <tr>\n",
       "      <th>2</th>\n",
       "      <td>Mozilla Reps</td>\n",
       "      <td>2</td>\n",
       "    </tr>\n",
       "  </tbody>\n",
       "</table>\n",
       "</div>"
      ],
      "text/plain": [
       "    Organization  # Contributors\n",
       "0  Mozilla Staff            2182\n",
       "1      Community           13043\n",
       "2   Mozilla Reps               2"
      ]
     },
     "execution_count": 34,
     "metadata": {},
     "output_type": "execute_result"
    }
   ],
   "source": [
    "print_df(result=result, group_field='organizations', value_field='contributors', \\\n",
    "         group_column='Organization', value_column='# Contributors')"
   ]
  },
  {
   "cell_type": "markdown",
   "metadata": {},
   "source": [
    "#### Bugzilla"
   ]
  },
  {
   "cell_type": "code",
   "execution_count": 35,
   "metadata": {
    "collapsed": false
   },
   "outputs": [],
   "source": [
    "s = create_search(source='bugzilla')\n",
    "\n",
    "s = add_bot_filter(s)\n",
    "\n",
    "# Unique count of Commits by Project (max 100 projects)\n",
    "s.aggs.bucket('organizations', 'terms', field='author_org_name', size=100).\\\n",
    "    metric('contributors', 'cardinality', field='author_uuid', precision_threshold=100000)\n",
    "result = s.execute()"
   ]
  },
  {
   "cell_type": "code",
   "execution_count": 36,
   "metadata": {
    "collapsed": false
   },
   "outputs": [
    {
     "data": {
      "text/html": [
       "<div>\n",
       "<table border=\"1\" class=\"dataframe\">\n",
       "  <thead>\n",
       "    <tr style=\"text-align: right;\">\n",
       "      <th></th>\n",
       "      <th>Organization</th>\n",
       "      <th># Contributors</th>\n",
       "    </tr>\n",
       "  </thead>\n",
       "  <tbody>\n",
       "    <tr>\n",
       "      <th>0</th>\n",
       "      <td>Community</td>\n",
       "      <td>181892</td>\n",
       "    </tr>\n",
       "    <tr>\n",
       "      <th>1</th>\n",
       "      <td>Mozilla Staff</td>\n",
       "      <td>2784</td>\n",
       "    </tr>\n",
       "    <tr>\n",
       "      <th>2</th>\n",
       "      <td>Mozilla Reps</td>\n",
       "      <td>3</td>\n",
       "    </tr>\n",
       "  </tbody>\n",
       "</table>\n",
       "</div>"
      ],
      "text/plain": [
       "    Organization  # Contributors\n",
       "0      Community          181892\n",
       "1  Mozilla Staff            2784\n",
       "2   Mozilla Reps               3"
      ]
     },
     "execution_count": 36,
     "metadata": {},
     "output_type": "execute_result"
    }
   ],
   "source": [
    "print_df(result=result, group_field='organizations', value_field='contributors', \\\n",
    "         group_column='Organization', value_column='# Contributors')"
   ]
  },
  {
   "cell_type": "markdown",
   "metadata": {},
   "source": [
    "### Number of contributors by organization over time\n",
    "#### Git"
   ]
  },
  {
   "cell_type": "code",
   "execution_count": 37,
   "metadata": {
    "collapsed": false
   },
   "outputs": [],
   "source": [
    "s = create_search(source='git')\n",
    "\n",
    "s = add_bot_filter(s)\n",
    "s = add_merges_filter(s)\n",
    "\n",
    "# Unique count of Commits by Project (max 100 projects)\n",
    "s = s.filter('range', grimoire_creation_date={'gt': 'now/M-2y', 'lt': 'now/M'})\n",
    "s.aggs.bucket('org', 'terms', field='author_org_name', size=10)\\\n",
    "    .bucket('time', 'date_histogram', field='grimoire_creation_date', interval='quarter')\\\n",
    "    .metric('contributors', 'cardinality', field='author_uuid', precision_threshold=100000)\n",
    "\n",
    "result = s.execute()\n",
    "\n",
    "authors_org_df = stack_by(result=result, group_column='Organization', time_column='Time', value_column='# Contributors',\\\n",
    "        group_field='org', time_field='time', value_field='contributors')\n"
   ]
  },
  {
   "cell_type": "code",
   "execution_count": 38,
   "metadata": {
    "collapsed": false
   },
   "outputs": [
    {
     "data": {
      "text/html": [
       "<script>requirejs.config({paths: { 'plotly': ['https://cdn.plot.ly/plotly-latest.min']},});if(!window.Plotly) {{require(['plotly'],function(plotly) {window.Plotly=plotly;});}}</script>"
      ],
      "text/vnd.plotly.v1+html": [
       "<script>requirejs.config({paths: { 'plotly': ['https://cdn.plot.ly/plotly-latest.min']},});if(!window.Plotly) {{require(['plotly'],function(plotly) {window.Plotly=plotly;});}}</script>"
      ]
     },
     "metadata": {},
     "output_type": "display_data"
    },
    {
     "data": {
      "application/vnd.plotly.v1+json": {
       "data": [
        {
         "name": "Mozilla Staff",
         "type": "bar",
         "x": [
          "2015-04-01T00:00:00.000Z",
          "2015-07-01T00:00:00.000Z",
          "2015-10-01T00:00:00.000Z",
          "2016-01-01T00:00:00.000Z",
          "2016-04-01T00:00:00.000Z",
          "2016-07-01T00:00:00.000Z",
          "2016-10-01T00:00:00.000Z",
          "2017-01-01T00:00:00.000Z",
          "2017-04-01T00:00:00.000Z"
         ],
         "y": [
          569,
          756,
          737,
          749,
          755,
          742,
          662,
          664,
          413
         ]
        },
        {
         "name": "Community",
         "type": "bar",
         "x": [
          "2015-04-01T00:00:00.000Z",
          "2015-07-01T00:00:00.000Z",
          "2015-10-01T00:00:00.000Z",
          "2016-01-01T00:00:00.000Z",
          "2016-04-01T00:00:00.000Z",
          "2016-07-01T00:00:00.000Z",
          "2016-10-01T00:00:00.000Z",
          "2017-01-01T00:00:00.000Z",
          "2017-04-01T00:00:00.000Z"
         ],
         "y": [
          502,
          1002,
          1210,
          1323,
          1205,
          1240,
          1017,
          1065,
          443
         ]
        },
        {
         "name": "Mozilla Reps",
         "type": "bar",
         "x": [
          "2015-04-01T00:00:00.000Z",
          "2015-07-01T00:00:00.000Z",
          "2015-10-01T00:00:00.000Z",
          "2016-01-01T00:00:00.000Z",
          "2016-04-01T00:00:00.000Z",
          "2016-07-01T00:00:00.000Z",
          "2016-10-01T00:00:00.000Z",
          "2017-01-01T00:00:00.000Z",
          "2017-04-01T00:00:00.000Z"
         ],
         "y": [
          1,
          2,
          2,
          2,
          2,
          2,
          2,
          2,
          1
         ]
        }
       ],
       "layout": {
        "barmode": "stack"
       }
      },
      "text/html": [
       "<div id=\"018e4a40-bd8e-47e0-98fe-84ce87852cb5\" style=\"height: 525px; width: 100%;\" class=\"plotly-graph-div\"></div><script type=\"text/javascript\">require([\"plotly\"], function(Plotly) { window.PLOTLYENV=window.PLOTLYENV || {};window.PLOTLYENV.BASE_URL=\"https://plot.ly\";Plotly.newPlot(\"018e4a40-bd8e-47e0-98fe-84ce87852cb5\", [{\"x\": [\"2015-04-01T00:00:00.000Z\", \"2015-07-01T00:00:00.000Z\", \"2015-10-01T00:00:00.000Z\", \"2016-01-01T00:00:00.000Z\", \"2016-04-01T00:00:00.000Z\", \"2016-07-01T00:00:00.000Z\", \"2016-10-01T00:00:00.000Z\", \"2017-01-01T00:00:00.000Z\", \"2017-04-01T00:00:00.000Z\"], \"name\": \"Mozilla Staff\", \"y\": [569.0, 756.0, 737.0, 749.0, 755.0, 742.0, 662.0, 664.0, 413.0], \"type\": \"bar\"}, {\"x\": [\"2015-04-01T00:00:00.000Z\", \"2015-07-01T00:00:00.000Z\", \"2015-10-01T00:00:00.000Z\", \"2016-01-01T00:00:00.000Z\", \"2016-04-01T00:00:00.000Z\", \"2016-07-01T00:00:00.000Z\", \"2016-10-01T00:00:00.000Z\", \"2017-01-01T00:00:00.000Z\", \"2017-04-01T00:00:00.000Z\"], \"name\": \"Community\", \"y\": [502.0, 1002.0, 1210.0, 1323.0, 1205.0, 1240.0, 1017.0, 1065.0, 443.0], \"type\": \"bar\"}, {\"x\": [\"2015-04-01T00:00:00.000Z\", \"2015-07-01T00:00:00.000Z\", \"2015-10-01T00:00:00.000Z\", \"2016-01-01T00:00:00.000Z\", \"2016-04-01T00:00:00.000Z\", \"2016-07-01T00:00:00.000Z\", \"2016-10-01T00:00:00.000Z\", \"2017-01-01T00:00:00.000Z\", \"2017-04-01T00:00:00.000Z\"], \"name\": \"Mozilla Reps\", \"y\": [1.0, 2.0, 2.0, 2.0, 2.0, 2.0, 2.0, 2.0, 1.0], \"type\": \"bar\"}], {\"barmode\": \"stack\"}, {\"showLink\": true, \"linkText\": \"Export to plot.ly\"})});</script>"
      ],
      "text/vnd.plotly.v1+html": [
       "<div id=\"018e4a40-bd8e-47e0-98fe-84ce87852cb5\" style=\"height: 525px; width: 100%;\" class=\"plotly-graph-div\"></div><script type=\"text/javascript\">require([\"plotly\"], function(Plotly) { window.PLOTLYENV=window.PLOTLYENV || {};window.PLOTLYENV.BASE_URL=\"https://plot.ly\";Plotly.newPlot(\"018e4a40-bd8e-47e0-98fe-84ce87852cb5\", [{\"x\": [\"2015-04-01T00:00:00.000Z\", \"2015-07-01T00:00:00.000Z\", \"2015-10-01T00:00:00.000Z\", \"2016-01-01T00:00:00.000Z\", \"2016-04-01T00:00:00.000Z\", \"2016-07-01T00:00:00.000Z\", \"2016-10-01T00:00:00.000Z\", \"2017-01-01T00:00:00.000Z\", \"2017-04-01T00:00:00.000Z\"], \"name\": \"Mozilla Staff\", \"y\": [569.0, 756.0, 737.0, 749.0, 755.0, 742.0, 662.0, 664.0, 413.0], \"type\": \"bar\"}, {\"x\": [\"2015-04-01T00:00:00.000Z\", \"2015-07-01T00:00:00.000Z\", \"2015-10-01T00:00:00.000Z\", \"2016-01-01T00:00:00.000Z\", \"2016-04-01T00:00:00.000Z\", \"2016-07-01T00:00:00.000Z\", \"2016-10-01T00:00:00.000Z\", \"2017-01-01T00:00:00.000Z\", \"2017-04-01T00:00:00.000Z\"], \"name\": \"Community\", \"y\": [502.0, 1002.0, 1210.0, 1323.0, 1205.0, 1240.0, 1017.0, 1065.0, 443.0], \"type\": \"bar\"}, {\"x\": [\"2015-04-01T00:00:00.000Z\", \"2015-07-01T00:00:00.000Z\", \"2015-10-01T00:00:00.000Z\", \"2016-01-01T00:00:00.000Z\", \"2016-04-01T00:00:00.000Z\", \"2016-07-01T00:00:00.000Z\", \"2016-10-01T00:00:00.000Z\", \"2017-01-01T00:00:00.000Z\", \"2017-04-01T00:00:00.000Z\"], \"name\": \"Mozilla Reps\", \"y\": [1.0, 2.0, 2.0, 2.0, 2.0, 2.0, 2.0, 2.0, 1.0], \"type\": \"bar\"}], {\"barmode\": \"stack\"}, {\"showLink\": true, \"linkText\": \"Export to plot.ly\"})});</script>"
      ]
     },
     "metadata": {},
     "output_type": "display_data"
    }
   ],
   "source": [
    "print_stacked_bar(df=authors_org_df, time_column='Time', value_column='# Contributors', group_column='Organization')"
   ]
  },
  {
   "cell_type": "markdown",
   "metadata": {},
   "source": [
    "### Contributors by groups: hired by Mozilla, the rest\n",
    "#### Git"
   ]
  },
  {
   "cell_type": "code",
   "execution_count": 39,
   "metadata": {
    "collapsed": false
   },
   "outputs": [
    {
     "name": "stdout",
     "output_type": "stream",
     "text": [
      "Mozilla Staff -> Mozilla Staff\n",
      "Community -> Other\n",
      "Mozilla Reps -> Other\n"
     ]
    }
   ],
   "source": [
    "s = create_search(source='git')\n",
    "\n",
    "s = add_bot_filter(s)\n",
    "s = add_merges_filter(s)\n",
    "\n",
    "# Unique count of Commits by Project (max 100 projects)\n",
    "s = s.filter('range', grimoire_creation_date={'gt': 'now/M-2y', 'lt': 'now/M'})\n",
    "s.aggs.bucket('org', 'terms', field='author_org_name', size=10)\\\n",
    "    .bucket('time', 'date_histogram', field='grimoire_creation_date', interval='quarter')\\\n",
    "    .metric('contributors', 'cardinality', field='author_uuid', precision_threshold=100000)\n",
    "\n",
    "result = s.execute()\n",
    "\n",
    "authors_org_df = stack_by_cusum(result=result, group_column='Organization', time_column='Time',\\\n",
    "                                value_column='# Contributors', group_field='org', time_field='time',\\\n",
    "                                value_field='contributors', staff_org_names=['Mozilla Staff'],\\\n",
    "                                staff_org='Mozilla Staff')"
   ]
  },
  {
   "cell_type": "code",
   "execution_count": 40,
   "metadata": {
    "collapsed": false,
    "scrolled": false
   },
   "outputs": [
    {
     "data": {
      "text/html": [
       "<script>requirejs.config({paths: { 'plotly': ['https://cdn.plot.ly/plotly-latest.min']},});if(!window.Plotly) {{require(['plotly'],function(plotly) {window.Plotly=plotly;});}}</script>"
      ],
      "text/vnd.plotly.v1+html": [
       "<script>requirejs.config({paths: { 'plotly': ['https://cdn.plot.ly/plotly-latest.min']},});if(!window.Plotly) {{require(['plotly'],function(plotly) {window.Plotly=plotly;});}}</script>"
      ]
     },
     "metadata": {},
     "output_type": "display_data"
    },
    {
     "data": {
      "application/vnd.plotly.v1+json": {
       "data": [
        {
         "name": "Mozilla Staff",
         "type": "bar",
         "x": [
          "2015-04-01T00:00:00.000Z",
          "2015-07-01T00:00:00.000Z",
          "2015-10-01T00:00:00.000Z",
          "2016-01-01T00:00:00.000Z",
          "2016-04-01T00:00:00.000Z",
          "2016-07-01T00:00:00.000Z",
          "2016-10-01T00:00:00.000Z",
          "2017-01-01T00:00:00.000Z",
          "2017-04-01T00:00:00.000Z"
         ],
         "y": [
          569,
          756,
          737,
          749,
          755,
          742,
          662,
          664,
          413
         ]
        },
        {
         "name": "Other",
         "type": "bar",
         "x": [
          "2015-04-01T00:00:00.000Z",
          "2015-07-01T00:00:00.000Z",
          "2015-10-01T00:00:00.000Z",
          "2016-01-01T00:00:00.000Z",
          "2016-04-01T00:00:00.000Z",
          "2016-07-01T00:00:00.000Z",
          "2016-10-01T00:00:00.000Z",
          "2017-01-01T00:00:00.000Z",
          "2017-04-01T00:00:00.000Z"
         ],
         "y": [
          503,
          1004,
          1212,
          1325,
          1207,
          1242,
          1019,
          1067,
          444
         ]
        }
       ],
       "layout": {
        "barmode": "stack"
       }
      },
      "text/html": [
       "<div id=\"5c2a5436-f40f-4bae-ab25-d9589b53ca73\" style=\"height: 525px; width: 100%;\" class=\"plotly-graph-div\"></div><script type=\"text/javascript\">require([\"plotly\"], function(Plotly) { window.PLOTLYENV=window.PLOTLYENV || {};window.PLOTLYENV.BASE_URL=\"https://plot.ly\";Plotly.newPlot(\"5c2a5436-f40f-4bae-ab25-d9589b53ca73\", [{\"x\": [\"2015-04-01T00:00:00.000Z\", \"2015-07-01T00:00:00.000Z\", \"2015-10-01T00:00:00.000Z\", \"2016-01-01T00:00:00.000Z\", \"2016-04-01T00:00:00.000Z\", \"2016-07-01T00:00:00.000Z\", \"2016-10-01T00:00:00.000Z\", \"2017-01-01T00:00:00.000Z\", \"2017-04-01T00:00:00.000Z\"], \"name\": \"Mozilla Staff\", \"y\": [569.0, 756.0, 737.0, 749.0, 755.0, 742.0, 662.0, 664.0, 413.0], \"type\": \"bar\"}, {\"x\": [\"2015-04-01T00:00:00.000Z\", \"2015-07-01T00:00:00.000Z\", \"2015-10-01T00:00:00.000Z\", \"2016-01-01T00:00:00.000Z\", \"2016-04-01T00:00:00.000Z\", \"2016-07-01T00:00:00.000Z\", \"2016-10-01T00:00:00.000Z\", \"2017-01-01T00:00:00.000Z\", \"2017-04-01T00:00:00.000Z\"], \"name\": \"Other\", \"y\": [503.0, 1004.0, 1212.0, 1325.0, 1207.0, 1242.0, 1019.0, 1067.0, 444.0], \"type\": \"bar\"}], {\"barmode\": \"stack\"}, {\"showLink\": true, \"linkText\": \"Export to plot.ly\"})});</script>"
      ],
      "text/vnd.plotly.v1+html": [
       "<div id=\"5c2a5436-f40f-4bae-ab25-d9589b53ca73\" style=\"height: 525px; width: 100%;\" class=\"plotly-graph-div\"></div><script type=\"text/javascript\">require([\"plotly\"], function(Plotly) { window.PLOTLYENV=window.PLOTLYENV || {};window.PLOTLYENV.BASE_URL=\"https://plot.ly\";Plotly.newPlot(\"5c2a5436-f40f-4bae-ab25-d9589b53ca73\", [{\"x\": [\"2015-04-01T00:00:00.000Z\", \"2015-07-01T00:00:00.000Z\", \"2015-10-01T00:00:00.000Z\", \"2016-01-01T00:00:00.000Z\", \"2016-04-01T00:00:00.000Z\", \"2016-07-01T00:00:00.000Z\", \"2016-10-01T00:00:00.000Z\", \"2017-01-01T00:00:00.000Z\", \"2017-04-01T00:00:00.000Z\"], \"name\": \"Mozilla Staff\", \"y\": [569.0, 756.0, 737.0, 749.0, 755.0, 742.0, 662.0, 664.0, 413.0], \"type\": \"bar\"}, {\"x\": [\"2015-04-01T00:00:00.000Z\", \"2015-07-01T00:00:00.000Z\", \"2015-10-01T00:00:00.000Z\", \"2016-01-01T00:00:00.000Z\", \"2016-04-01T00:00:00.000Z\", \"2016-07-01T00:00:00.000Z\", \"2016-10-01T00:00:00.000Z\", \"2017-01-01T00:00:00.000Z\", \"2017-04-01T00:00:00.000Z\"], \"name\": \"Other\", \"y\": [503.0, 1004.0, 1212.0, 1325.0, 1207.0, 1242.0, 1019.0, 1067.0, 444.0], \"type\": \"bar\"}], {\"barmode\": \"stack\"}, {\"showLink\": true, \"linkText\": \"Export to plot.ly\"})});</script>"
      ]
     },
     "metadata": {},
     "output_type": "display_data"
    }
   ],
   "source": [
    "print_stacked_bar(df=authors_org_df, time_column='Time', value_column='# Contributors', group_column='Organization')"
   ]
  },
  {
   "cell_type": "markdown",
   "metadata": {},
   "source": [
    "#### Bugzilla"
   ]
  },
  {
   "cell_type": "code",
   "execution_count": 41,
   "metadata": {
    "collapsed": false
   },
   "outputs": [],
   "source": [
    "s = create_search(source='bugzilla')\n",
    "\n",
    "s = add_bot_filter(s)\n",
    "\n",
    "# Unique count of Commits by Project (max 100 projects)\n",
    "s = s.filter('range', creation_ts={'gt': 'now/M-2y', 'lt': 'now/M'})\n",
    "s.aggs.bucket('org', 'terms', field='author_org_name', size=10)\\\n",
    "    .bucket('time', 'date_histogram', field='creation_ts', interval='quarter')\\\n",
    "    .metric('contributors', 'cardinality', field='author_uuid', precision_threshold=100000)\n",
    "\n",
    "result = s.execute()\n",
    "\n",
    "authors_org_df = stack_by(result=result, group_column='Organization', time_column='Time', value_column='# Contributors',\\\n",
    "        group_field='org', time_field='time', value_field='contributors')"
   ]
  },
  {
   "cell_type": "code",
   "execution_count": 42,
   "metadata": {
    "collapsed": false
   },
   "outputs": [
    {
     "data": {
      "text/html": [
       "<script>requirejs.config({paths: { 'plotly': ['https://cdn.plot.ly/plotly-latest.min']},});if(!window.Plotly) {{require(['plotly'],function(plotly) {window.Plotly=plotly;});}}</script>"
      ],
      "text/vnd.plotly.v1+html": [
       "<script>requirejs.config({paths: { 'plotly': ['https://cdn.plot.ly/plotly-latest.min']},});if(!window.Plotly) {{require(['plotly'],function(plotly) {window.Plotly=plotly;});}}</script>"
      ]
     },
     "metadata": {},
     "output_type": "display_data"
    },
    {
     "data": {
      "application/vnd.plotly.v1+json": {
       "data": [
        {
         "name": "Mozilla Staff",
         "type": "bar",
         "x": [
          "2015-04-01T00:00:00.000Z",
          "2015-07-01T00:00:00.000Z",
          "2015-10-01T00:00:00.000Z",
          "2016-01-01T00:00:00.000Z",
          "2016-04-01T00:00:00.000Z",
          "2016-07-01T00:00:00.000Z",
          "2016-10-01T00:00:00.000Z",
          "2017-01-01T00:00:00.000Z",
          "2017-04-01T00:00:00.000Z"
         ],
         "y": [
          704,
          1000,
          924,
          872,
          848,
          810,
          753,
          797,
          578
         ]
        },
        {
         "name": "Community",
         "type": "bar",
         "x": [
          "2015-04-01T00:00:00.000Z",
          "2015-07-01T00:00:00.000Z",
          "2015-10-01T00:00:00.000Z",
          "2016-01-01T00:00:00.000Z",
          "2016-04-01T00:00:00.000Z",
          "2016-07-01T00:00:00.000Z",
          "2016-10-01T00:00:00.000Z",
          "2017-01-01T00:00:00.000Z",
          "2017-04-01T00:00:00.000Z"
         ],
         "y": [
          1245,
          3725,
          3349,
          3195,
          3037,
          2743,
          2566,
          2849,
          1081
         ]
        },
        {
         "name": "Mozilla Reps",
         "type": "bar",
         "x": [
          "2015-04-01T00:00:00.000Z",
          "2015-07-01T00:00:00.000Z",
          "2015-10-01T00:00:00.000Z",
          "2016-01-01T00:00:00.000Z",
          "2016-04-01T00:00:00.000Z",
          "2016-07-01T00:00:00.000Z",
          "2016-10-01T00:00:00.000Z",
          "2017-01-01T00:00:00.000Z",
          "2017-04-01T00:00:00.000Z"
         ],
         "y": [
          1,
          2,
          2,
          1,
          1,
          1,
          1,
          1,
          1
         ]
        }
       ],
       "layout": {
        "barmode": "stack"
       }
      },
      "text/html": [
       "<div id=\"a8d3c99f-ea01-493c-873a-02db42eb7983\" style=\"height: 525px; width: 100%;\" class=\"plotly-graph-div\"></div><script type=\"text/javascript\">require([\"plotly\"], function(Plotly) { window.PLOTLYENV=window.PLOTLYENV || {};window.PLOTLYENV.BASE_URL=\"https://plot.ly\";Plotly.newPlot(\"a8d3c99f-ea01-493c-873a-02db42eb7983\", [{\"x\": [\"2015-04-01T00:00:00.000Z\", \"2015-07-01T00:00:00.000Z\", \"2015-10-01T00:00:00.000Z\", \"2016-01-01T00:00:00.000Z\", \"2016-04-01T00:00:00.000Z\", \"2016-07-01T00:00:00.000Z\", \"2016-10-01T00:00:00.000Z\", \"2017-01-01T00:00:00.000Z\", \"2017-04-01T00:00:00.000Z\"], \"name\": \"Mozilla Staff\", \"y\": [704.0, 1000.0, 924.0, 872.0, 848.0, 810.0, 753.0, 797.0, 578.0], \"type\": \"bar\"}, {\"x\": [\"2015-04-01T00:00:00.000Z\", \"2015-07-01T00:00:00.000Z\", \"2015-10-01T00:00:00.000Z\", \"2016-01-01T00:00:00.000Z\", \"2016-04-01T00:00:00.000Z\", \"2016-07-01T00:00:00.000Z\", \"2016-10-01T00:00:00.000Z\", \"2017-01-01T00:00:00.000Z\", \"2017-04-01T00:00:00.000Z\"], \"name\": \"Community\", \"y\": [1245.0, 3725.0, 3349.0, 3195.0, 3037.0, 2743.0, 2566.0, 2849.0, 1081.0], \"type\": \"bar\"}, {\"x\": [\"2015-04-01T00:00:00.000Z\", \"2015-07-01T00:00:00.000Z\", \"2015-10-01T00:00:00.000Z\", \"2016-01-01T00:00:00.000Z\", \"2016-04-01T00:00:00.000Z\", \"2016-07-01T00:00:00.000Z\", \"2016-10-01T00:00:00.000Z\", \"2017-01-01T00:00:00.000Z\", \"2017-04-01T00:00:00.000Z\"], \"name\": \"Mozilla Reps\", \"y\": [1.0, 2.0, 2.0, 1.0, 1.0, 1.0, 1.0, 1.0, 1.0], \"type\": \"bar\"}], {\"barmode\": \"stack\"}, {\"showLink\": true, \"linkText\": \"Export to plot.ly\"})});</script>"
      ],
      "text/vnd.plotly.v1+html": [
       "<div id=\"a8d3c99f-ea01-493c-873a-02db42eb7983\" style=\"height: 525px; width: 100%;\" class=\"plotly-graph-div\"></div><script type=\"text/javascript\">require([\"plotly\"], function(Plotly) { window.PLOTLYENV=window.PLOTLYENV || {};window.PLOTLYENV.BASE_URL=\"https://plot.ly\";Plotly.newPlot(\"a8d3c99f-ea01-493c-873a-02db42eb7983\", [{\"x\": [\"2015-04-01T00:00:00.000Z\", \"2015-07-01T00:00:00.000Z\", \"2015-10-01T00:00:00.000Z\", \"2016-01-01T00:00:00.000Z\", \"2016-04-01T00:00:00.000Z\", \"2016-07-01T00:00:00.000Z\", \"2016-10-01T00:00:00.000Z\", \"2017-01-01T00:00:00.000Z\", \"2017-04-01T00:00:00.000Z\"], \"name\": \"Mozilla Staff\", \"y\": [704.0, 1000.0, 924.0, 872.0, 848.0, 810.0, 753.0, 797.0, 578.0], \"type\": \"bar\"}, {\"x\": [\"2015-04-01T00:00:00.000Z\", \"2015-07-01T00:00:00.000Z\", \"2015-10-01T00:00:00.000Z\", \"2016-01-01T00:00:00.000Z\", \"2016-04-01T00:00:00.000Z\", \"2016-07-01T00:00:00.000Z\", \"2016-10-01T00:00:00.000Z\", \"2017-01-01T00:00:00.000Z\", \"2017-04-01T00:00:00.000Z\"], \"name\": \"Community\", \"y\": [1245.0, 3725.0, 3349.0, 3195.0, 3037.0, 2743.0, 2566.0, 2849.0, 1081.0], \"type\": \"bar\"}, {\"x\": [\"2015-04-01T00:00:00.000Z\", \"2015-07-01T00:00:00.000Z\", \"2015-10-01T00:00:00.000Z\", \"2016-01-01T00:00:00.000Z\", \"2016-04-01T00:00:00.000Z\", \"2016-07-01T00:00:00.000Z\", \"2016-10-01T00:00:00.000Z\", \"2017-01-01T00:00:00.000Z\", \"2017-04-01T00:00:00.000Z\"], \"name\": \"Mozilla Reps\", \"y\": [1.0, 2.0, 2.0, 1.0, 1.0, 1.0, 1.0, 1.0, 1.0], \"type\": \"bar\"}], {\"barmode\": \"stack\"}, {\"showLink\": true, \"linkText\": \"Export to plot.ly\"})});</script>"
      ]
     },
     "metadata": {},
     "output_type": "display_data"
    }
   ],
   "source": [
    "print_stacked_bar(df=authors_org_df, time_column='Time', value_column='# Contributors', group_column='Organization')"
   ]
  },
  {
   "cell_type": "markdown",
   "metadata": {},
   "source": [
    "#### Contributors by gender\n",
    "**TODO**: Pending of running gender study over the data."
   ]
  },
  {
   "cell_type": "markdown",
   "metadata": {},
   "source": [
    "#### Number of contributors by gender over time\n",
    "**TODO**: Pending of running gender study over the data."
   ]
  },
  {
   "cell_type": "markdown",
   "metadata": {},
   "source": [
    "#### Time of first and last commit for each contributor\n",
    "**TODO** : provide plots similar to:\n",
    "Attracted developers: https://analytics.mozilla.community:443/goto/1be7d078d3dda22bf2ed097d8e465fb9\n",
    "Last commit developers: https://analytics.mozilla.community:443/goto/647ec69fc6b9d163827aa281ed3bee61"
   ]
  },
  {
   "cell_type": "markdown",
   "metadata": {},
   "source": [
    "#### Length of period of activity for each contributor\n"
   ]
  },
  {
   "cell_type": "markdown",
   "metadata": {},
   "source": [
    "#### Contributors by time zone (when possible)\n",
    "\n",
    "https://analytics.mozilla.community:443/goto/9e930eefe59a7c90331d922887b2aee6"
   ]
  },
  {
   "cell_type": "markdown",
   "metadata": {},
   "source": [
    "#### Contributors by city name (when possible)"
   ]
  }
 ],
 "metadata": {
  "kernelspec": {
   "display_name": "Python 3",
   "language": "python",
   "name": "python3"
  },
  "language_info": {
   "codemirror_mode": {
    "name": "ipython",
    "version": 3
   },
   "file_extension": ".py",
   "mimetype": "text/x-python",
   "name": "python",
   "nbconvert_exporter": "python",
   "pygments_lexer": "ipython3",
   "version": "3.5.2+"
  }
 },
 "nbformat": 4,
 "nbformat_minor": 1
}
