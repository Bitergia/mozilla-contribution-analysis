{
 "cells": [
  {
   "cell_type": "raw",
   "metadata": {},
   "source": [
    "<script>\n",
    "  function code_toggle() {\n",
    "    if (code_shown){\n",
    "      $('div.input').hide('500');\n",
    "      $('div.output_text').hide('500')\n",
    "      $('#toggleButton').val('Show Code')\n",
    "    } else {\n",
    "      $('div.input').show('500');\n",
    "      $('div.output_text').show('500')\n",
    "      $('#toggleButton').val('Hide Code')\n",
    "    }\n",
    "    code_shown = !code_shown\n",
    "  }\n",
    "\n",
    "  $( document ).ready(function(){\n",
    "    code_shown=false;\n",
    "    $('div.input').hide()\n",
    "    $('div.output_text').hide()\n",
    "  });\n",
    "</script>\n",
    "<form action=\"javascript:code_toggle()\"><input type=\"submit\" id=\"toggleButton\" value=\"Show Code\"></form>"
   ]
  },
  {
   "cell_type": "markdown",
   "metadata": {},
   "source": [
    "## Goal: understanding contributors\n",
    "\n",
    "The term \"community\" in this context refers to the group of people contributing to Mozilla projects. Thus, this goal could be summarized as characterizing Mozilla community based on their contributors. A contributor will be understood as a person who performs an action that can be tracked in the set of considered data sources. For example: sending a commit, opening or closing a ticket. As they will be different depending on the data source, particular actions used in each analysis will be detailed within particular goals.\n",
    "\n",
    "The main objective of this goal is to determine a set of characteristics of contributors:\n",
    "\n",
    "  * Projects: to which projects they contribute.\n",
    "  * Organizations: to which organizations they are affiliated\n",
    "  * Gender: which one is their gender\n",
    "  * Age: which one is their \"age\" in the project (time contributing)\n",
    "  * Geographical origin: where do they come from"
   ]
  },
  {
   "cell_type": "markdown",
   "metadata": {},
   "source": [
    "Those goals can be refined in the following questions:\n",
    "\n",
    "**Questions**:\n",
    "\n",
    "* Which projects can be identified?\n",
    "* Which contributors have activity related to each project?\n",
    "* Which organizations can be identified?\n",
    "* Which contributors are affiliated to each organization?\n",
    "* Which of those contributors are hired by Mozilla, and which are not?\n",
    "* Which gender are contributors?\n",
    "* How long have been contributors contributing?\n",
    "* Where do contributors come from?\n",
    "\n",
    "These questions can be answered with the following metrics/data:\n",
    "\n",
    "**Metrics**:\n",
    "\n",
    "* List of projects\n",
    "* Contributors by project\n",
    "* Number of contributors by project over time\n",
    "* List of organizations\n",
    "* Contributors by organization\n",
    "* Number of contributors by organization over time\n",
    "* Contributors by groups: hired by Mozilla, the rest\n",
    "* Contributors by gender\n",
    "* Number of contributors by gender over time\n",
    "* Time of first and last commit for each contributor\n",
    "* Length of period of activity for each contributor\n",
    "* Contributors by time zone (when possible)\n",
    "* Contributors by city name (when possible)\n",
    "\n",
    "All the characeterizations of developers (by project, by organization, by hired by Mozilla/rest, by gender, by period of activity, by time zone, by city name) can be a discriminator / grouping factor for the metrics defined for the next goals. Most of these metrics can be made particular for each of the considered data sources."
   ]
  },
  {
   "cell_type": "markdown",
   "metadata": {},
   "source": [
    "### Metric Calculations\n",
    "First we need to load a connection against the proper ES instance. We use an external module to load credentials from a file that will not be shared. If you want to run this, please use your own credentials, just put them in a file named '.settings' (in the same directory as this notebook) following the example file 'settings.sample'.\n",
    "\n"
   ]
  },
  {
   "cell_type": "code",
   "execution_count": 9,
   "metadata": {
    "collapsed": false,
    "scrolled": true
   },
   "outputs": [],
   "source": [
    "import pandas\n",
    "\n",
    "import plotly as plotly\n",
    "import plotly.figure_factory as ff\n",
    "import plotly.graph_objs as go\n",
    "\n",
    "import util as ut\n",
    "\n",
    "from util import ESConnection\n",
    "from elasticsearch_dsl import Search\n",
    "\n",
    "\n",
    "es_conn = ESConnection()"
   ]
  },
  {
   "cell_type": "code",
   "execution_count": 10,
   "metadata": {
    "collapsed": false,
    "scrolled": true
   },
   "outputs": [],
   "source": [
    "def create_search(source):\n",
    "    s = Search(using=es_conn, index=source)\n",
    "    \n",
    "    if source == 'git' or source == 'github':\n",
    "        github = projects['Github']\n",
    "        repos = github['Repo'].tolist()\n",
    "        #print (repos)\n",
    "        s = s.filter('terms', repo_name=repos)\n",
    "    \n",
    "    # TODO: Add bot and merges filtering.\n",
    "    #s = s.filter('range', grimoire_creation_date={'gt': 'now/M-2y', 'lt': 'now/M'})\n",
    "    return s"
   ]
  },
  {
   "cell_type": "code",
   "execution_count": 11,
   "metadata": {
    "collapsed": true,
    "scrolled": true
   },
   "outputs": [],
   "source": [
    "def print_result(result):\n",
    "    \"\"\"In case you need to check query response, call this function\n",
    "    \"\"\"\n",
    "    print(result.to_dict()['aggregations'])"
   ]
  },
  {
   "cell_type": "code",
   "execution_count": 12,
   "metadata": {
    "collapsed": true,
    "scrolled": true
   },
   "outputs": [],
   "source": [
    "def print_df(result, group_field, value_field, group_column, value_column):\n",
    "    df = pandas.DataFrame()\n",
    "\n",
    "    df = df.from_dict(result.to_dict()['aggregations'][group_field]['buckets'])\n",
    "    df = df.drop('doc_count', axis=1)\n",
    "    df[value_field] = df[value_field].apply(lambda row: row['value'])\n",
    "    df=df[['key', value_field]]\n",
    "    df.columns = [group_column, value_column]\n",
    "\n",
    "    return df"
   ]
  },
  {
   "cell_type": "code",
   "execution_count": 13,
   "metadata": {
    "collapsed": true,
    "scrolled": true
   },
   "outputs": [],
   "source": [
    "def stack_by_time(result, group_column, time_column, value_column, group_field, time_field, value_field):\n",
    "    \"\"\"Creates a dataframe based on group and time values\n",
    "    \"\"\"\n",
    "    df = pandas.DataFrame(columns=[group_column, time_column, value_column])\n",
    "\n",
    "    for b in result.to_dict()['aggregations'][group_field]['buckets']:\n",
    "        for i in b[time_field]['buckets']:\n",
    "            df.loc[len(df)] = [b['key'], i['key_as_string'], i[value_field]['value']]\n",
    "    \n",
    "    return df\n",
    "\n",
    "def stack_by(result, group_column, subgroup_column, value_column, group_field, subgroup_field, value_field):\n",
    "    \"\"\"Creates a dataframe based on group and subgroup values\n",
    "    \"\"\"\n",
    "    df = pandas.DataFrame(columns=[group_column, subgroup_column, value_column])\n",
    "\n",
    "    for b in result.to_dict()['aggregations'][group_field]['buckets']:\n",
    "        for i in b[subgroup_field]['buckets']:\n",
    "            df.loc[len(df)] = [b['key'], i['key'], i[value_field]['value']]\n",
    "    \n",
    "    return df"
   ]
  },
  {
   "cell_type": "code",
   "execution_count": 14,
   "metadata": {
    "collapsed": true,
    "scrolled": true
   },
   "outputs": [],
   "source": [
    "def stack_by_cusum(result, group_column, time_column, value_column, group_field, time_field, value_field,\\\n",
    "                   staff_org_names, staff_org):\n",
    "    authors_org_df = pandas.DataFrame(columns=[group_column, time_column, value_column])\n",
    "\n",
    "    for b in result.to_dict()['aggregations'][group_field]['buckets']:\n",
    "        key = b['key']\n",
    "        if key in staff_org_names:\n",
    "            key = staff_org\n",
    "        else:    \n",
    "            key  = 'Non-Employees'    \n",
    "\n",
    "        print(b['key'], '->' ,key)\n",
    "\n",
    "        for i in b[time_field]['buckets']:\n",
    "\n",
    "            time = i['key_as_string']\n",
    "            contributors = i[value_field]['value']\n",
    "\n",
    "            if key in authors_org_df[group_column].unique() \\\n",
    "                and time in authors_org_df[authors_org_df[group_column] == key][time_column].tolist():\n",
    "\n",
    "                authors_org_df.loc[(authors_org_df[group_column] == key) \\\n",
    "                                     & (authors_org_df[time_column] == time),\\\n",
    "                                   value_column] += contributors\n",
    "                #print('1', key,  time, contributors)\n",
    "\n",
    "            else:\n",
    "                authors_org_df.loc[len(authors_org_df)] = [key, time, contributors]\n",
    "                #print('2', key,  time, contributors)\n",
    "    \n",
    "    return authors_org_df\n"
   ]
  },
  {
   "cell_type": "code",
   "execution_count": 15,
   "metadata": {
    "collapsed": true,
    "scrolled": true
   },
   "outputs": [],
   "source": [
    "def print_stacked_bar(df, time_column, value_column, group_column):\n",
    "    \"\"\"Print stacked bar chart from dataframe based on time_field,\n",
    "    grouped by group field.\n",
    "    \"\"\"\n",
    "    plotly.offline.init_notebook_mode(connected=True)\n",
    "\n",
    "    bars = []\n",
    "    for group in df[group_column].unique():\n",
    "        group_slice_df = df.loc[df[group_column] == group]\n",
    "        bars.append(go.Bar(\n",
    "            x=group_slice_df[time_column].tolist(),\n",
    "            y=group_slice_df[value_column].tolist(),\n",
    "            name=group))\n",
    "\n",
    "    layout = go.Layout(\n",
    "        barmode='stack'\n",
    "    )\n",
    "\n",
    "    fig = go.Figure(data=bars, layout=layout)\n",
    "    plotly.offline.iplot(fig, filename='stacked-bar')"
   ]
  },
  {
   "cell_type": "code",
   "execution_count": 16,
   "metadata": {
    "collapsed": true,
    "scrolled": true
   },
   "outputs": [],
   "source": [
    "def add_general_date_filters(s):\n",
    "    # 01/01/1998\n",
    "    initial_ts = '883609200000'\n",
    "    return s.filter('range', grimoire_creation_date={'gt': initial_ts})\n",
    "\n",
    "def add_bot_filter(s):\n",
    "    return s.filter('term', author_bot='false')\n",
    "\n",
    "def add_merges_filter(s):\n",
    "    return s.filter('range', files={'gt': 0})\n",
    "\n",
    "# Let's load projects from the REVIEWED SPREADSHEET\n",
    "projects = ut.read_projects(\"data/Contributors and Communities Analysis - Project grouping.xlsx\")\n",
    "\n",
    "initial_date = '2010-01-01'"
   ]
  },
  {
   "cell_type": "markdown",
   "metadata": {},
   "source": [
    "# Answers\n",
    "\n",
    "### List of Projects\n",
    "\n",
    "To get the list of projects we will query ES to retrieve the unique count of commits for each project. To do that, we bucketize data based on 'project' field (to a maximum of 100 projects, given by 'size' parameter set below)."
   ]
  },
  {
   "cell_type": "markdown",
   "metadata": {},
   "source": [
    "#### List of Projects: Data from Dashboard\n",
    "\n",
    "This first table shows data directly from Mozilla's dashboard. It was not removed to offer a quick comparison against new grouping (shown below this one). "
   ]
  },
  {
   "cell_type": "markdown",
   "metadata": {},
   "source": [
    "#### List of Projects: Data from new grouping\n",
    "\n",
    "Following table shows projects based on the spreadsheet with the new grouping."
   ]
  },
  {
   "cell_type": "code",
   "execution_count": 17,
   "metadata": {
    "collapsed": false,
    "scrolled": true
   },
   "outputs": [
    {
     "data": {
      "text/html": [
       "<script>requirejs.config({paths: { 'plotly': ['https://cdn.plot.ly/plotly-latest.min']},});if(!window.Plotly) {{require(['plotly'],function(plotly) {window.Plotly=plotly;});}}</script>"
      ],
      "text/vnd.plotly.v1+html": [
       "<script>requirejs.config({paths: { 'plotly': ['https://cdn.plot.ly/plotly-latest.min']},});if(!window.Plotly) {{require(['plotly'],function(plotly) {window.Plotly=plotly;});}}</script>"
      ]
     },
     "metadata": {},
     "output_type": "display_data"
    },
    {
     "data": {
      "application/vnd.plotly.v1+json": {
       "data": [
        {
         "colorscale": [
          [
           0,
           "#00083e"
          ],
          [
           0.5,
           "#ededee"
          ],
          [
           1,
           "#ffffff"
          ]
         ],
         "hoverinfo": "none",
         "opacity": 0.75,
         "showscale": false,
         "type": "heatmap",
         "z": [
          [
           0,
           0,
           0,
           0
          ],
          [
           0.5,
           0.5,
           0.5,
           0.5
          ],
          [
           1,
           1,
           1,
           1
          ],
          [
           0.5,
           0.5,
           0.5,
           0.5
          ],
          [
           1,
           1,
           1,
           1
          ],
          [
           0.5,
           0.5,
           0.5,
           0.5
          ],
          [
           1,
           1,
           1,
           1
          ],
          [
           0.5,
           0.5,
           0.5,
           0.5
          ],
          [
           1,
           1,
           1,
           1
          ],
          [
           0.5,
           0.5,
           0.5,
           0.5
          ],
          [
           1,
           1,
           1,
           1
          ],
          [
           0.5,
           0.5,
           0.5,
           0.5
          ],
          [
           1,
           1,
           1,
           1
          ],
          [
           0.5,
           0.5,
           0.5,
           0.5
          ],
          [
           1,
           1,
           1,
           1
          ],
          [
           0.5,
           0.5,
           0.5,
           0.5
          ],
          [
           1,
           1,
           1,
           1
          ],
          [
           0.5,
           0.5,
           0.5,
           0.5
          ],
          [
           1,
           1,
           1,
           1
          ],
          [
           0.5,
           0.5,
           0.5,
           0.5
          ],
          [
           1,
           1,
           1,
           1
          ],
          [
           0.5,
           0.5,
           0.5,
           0.5
          ],
          [
           1,
           1,
           1,
           1
          ],
          [
           0.5,
           0.5,
           0.5,
           0.5
          ],
          [
           1,
           1,
           1,
           1
          ],
          [
           0.5,
           0.5,
           0.5,
           0.5
          ],
          [
           1,
           1,
           1,
           1
          ],
          [
           0.5,
           0.5,
           0.5,
           0.5
          ],
          [
           1,
           1,
           1,
           1
          ],
          [
           0.5,
           0.5,
           0.5,
           0.5
          ],
          [
           1,
           1,
           1,
           1
          ],
          [
           0.5,
           0.5,
           0.5,
           0.5
          ],
          [
           1,
           1,
           1,
           1
          ],
          [
           0.5,
           0.5,
           0.5,
           0.5
          ],
          [
           1,
           1,
           1,
           1
          ],
          [
           0.5,
           0.5,
           0.5,
           0.5
          ],
          [
           1,
           1,
           1,
           1
          ],
          [
           0.5,
           0.5,
           0.5,
           0.5
          ],
          [
           1,
           1,
           1,
           1
          ],
          [
           0.5,
           0.5,
           0.5,
           0.5
          ],
          [
           1,
           1,
           1,
           1
          ],
          [
           0.5,
           0.5,
           0.5,
           0.5
          ],
          [
           1,
           1,
           1,
           1
          ],
          [
           0.5,
           0.5,
           0.5,
           0.5
          ],
          [
           1,
           1,
           1,
           1
          ],
          [
           0.5,
           0.5,
           0.5,
           0.5
          ],
          [
           1,
           1,
           1,
           1
          ],
          [
           0.5,
           0.5,
           0.5,
           0.5
          ],
          [
           1,
           1,
           1,
           1
          ],
          [
           0.5,
           0.5,
           0.5,
           0.5
          ],
          [
           1,
           1,
           1,
           1
          ],
          [
           0.5,
           0.5,
           0.5,
           0.5
          ],
          [
           1,
           1,
           1,
           1
          ],
          [
           0.5,
           0.5,
           0.5,
           0.5
          ],
          [
           1,
           1,
           1,
           1
          ],
          [
           0.5,
           0.5,
           0.5,
           0.5
          ],
          [
           1,
           1,
           1,
           1
          ],
          [
           0.5,
           0.5,
           0.5,
           0.5
          ],
          [
           1,
           1,
           1,
           1
          ],
          [
           0.5,
           0.5,
           0.5,
           0.5
          ],
          [
           1,
           1,
           1,
           1
          ],
          [
           0.5,
           0.5,
           0.5,
           0.5
          ],
          [
           1,
           1,
           1,
           1
          ],
          [
           0.5,
           0.5,
           0.5,
           0.5
          ],
          [
           1,
           1,
           1,
           1
          ],
          [
           0.5,
           0.5,
           0.5,
           0.5
          ],
          [
           1,
           1,
           1,
           1
          ],
          [
           0.5,
           0.5,
           0.5,
           0.5
          ],
          [
           1,
           1,
           1,
           1
          ],
          [
           0.5,
           0.5,
           0.5,
           0.5
          ],
          [
           1,
           1,
           1,
           1
          ],
          [
           0.5,
           0.5,
           0.5,
           0.5
          ],
          [
           1,
           1,
           1,
           1
          ],
          [
           0.5,
           0.5,
           0.5,
           0.5
          ],
          [
           1,
           1,
           1,
           1
          ],
          [
           0.5,
           0.5,
           0.5,
           0.5
          ],
          [
           1,
           1,
           1,
           1
          ],
          [
           0.5,
           0.5,
           0.5,
           0.5
          ],
          [
           1,
           1,
           1,
           1
          ],
          [
           0.5,
           0.5,
           0.5,
           0.5
          ],
          [
           1,
           1,
           1,
           1
          ],
          [
           0.5,
           0.5,
           0.5,
           0.5
          ],
          [
           1,
           1,
           1,
           1
          ]
         ]
        }
       ],
       "layout": {
        "annotations": [
         {
          "align": "left",
          "font": {
           "color": "#ffffff"
          },
          "showarrow": false,
          "text": "<b>Project</b>",
          "x": -0.45,
          "xanchor": "left",
          "xref": "x1",
          "y": 0,
          "yref": "y1"
         },
         {
          "align": "left",
          "font": {
           "color": "#ffffff"
          },
          "showarrow": false,
          "text": "<b>Org</b>",
          "x": 0.55,
          "xanchor": "left",
          "xref": "x1",
          "y": 0,
          "yref": "y1"
         },
         {
          "align": "left",
          "font": {
           "color": "#ffffff"
          },
          "showarrow": false,
          "text": "<b># Commits</b>",
          "x": 1.55,
          "xanchor": "left",
          "xref": "x1",
          "y": 0,
          "yref": "y1"
         },
         {
          "align": "left",
          "font": {
           "color": "#ffffff"
          },
          "showarrow": false,
          "text": "<b>Repo</b>",
          "x": 2.55,
          "xanchor": "left",
          "xref": "x1",
          "y": 0,
          "yref": "y1"
         },
         {
          "align": "left",
          "font": {
           "color": "#000000"
          },
          "showarrow": false,
          "text": "Gecko",
          "x": -0.45,
          "xanchor": "left",
          "xref": "x1",
          "y": 1,
          "yref": "y1"
         },
         {
          "align": "left",
          "font": {
           "color": "#000000"
          },
          "showarrow": false,
          "text": "Mozilla Staff",
          "x": 0.55,
          "xanchor": "left",
          "xref": "x1",
          "y": 1,
          "yref": "y1"
         },
         {
          "align": "left",
          "font": {
           "color": "#000000"
          },
          "showarrow": false,
          "text": "831509.0",
          "x": 1.55,
          "xanchor": "left",
          "xref": "x1",
          "y": 1,
          "yref": "y1"
         },
         {
          "align": "left",
          "font": {
           "color": "#000000"
          },
          "showarrow": false,
          "text": "5",
          "x": 2.55,
          "xanchor": "left",
          "xref": "x1",
          "y": 1,
          "yref": "y1"
         },
         {
          "align": "left",
          "font": {
           "color": "#000000"
          },
          "showarrow": false,
          "text": "Gecko",
          "x": -0.45,
          "xanchor": "left",
          "xref": "x1",
          "y": 2,
          "yref": "y1"
         },
         {
          "align": "left",
          "font": {
           "color": "#000000"
          },
          "showarrow": false,
          "text": "Community",
          "x": 0.55,
          "xanchor": "left",
          "xref": "x1",
          "y": 2,
          "yref": "y1"
         },
         {
          "align": "left",
          "font": {
           "color": "#000000"
          },
          "showarrow": false,
          "text": "580664.0",
          "x": 1.55,
          "xanchor": "left",
          "xref": "x1",
          "y": 2,
          "yref": "y1"
         },
         {
          "align": "left",
          "font": {
           "color": "#000000"
          },
          "showarrow": false,
          "text": "5",
          "x": 2.55,
          "xanchor": "left",
          "xref": "x1",
          "y": 2,
          "yref": "y1"
         },
         {
          "align": "left",
          "font": {
           "color": "#000000"
          },
          "showarrow": false,
          "text": "IT/Ops",
          "x": -0.45,
          "xanchor": "left",
          "xref": "x1",
          "y": 3,
          "yref": "y1"
         },
         {
          "align": "left",
          "font": {
           "color": "#000000"
          },
          "showarrow": false,
          "text": "Mozilla Staff",
          "x": 0.55,
          "xanchor": "left",
          "xref": "x1",
          "y": 3,
          "yref": "y1"
         },
         {
          "align": "left",
          "font": {
           "color": "#000000"
          },
          "showarrow": false,
          "text": "115882.0",
          "x": 1.55,
          "xanchor": "left",
          "xref": "x1",
          "y": 3,
          "yref": "y1"
         },
         {
          "align": "left",
          "font": {
           "color": "#000000"
          },
          "showarrow": false,
          "text": "182",
          "x": 2.55,
          "xanchor": "left",
          "xref": "x1",
          "y": 3,
          "yref": "y1"
         },
         {
          "align": "left",
          "font": {
           "color": "#000000"
          },
          "showarrow": false,
          "text": "Web Properties",
          "x": -0.45,
          "xanchor": "left",
          "xref": "x1",
          "y": 4,
          "yref": "y1"
         },
         {
          "align": "left",
          "font": {
           "color": "#000000"
          },
          "showarrow": false,
          "text": "Mozilla Staff",
          "x": 0.55,
          "xanchor": "left",
          "xref": "x1",
          "y": 4,
          "yref": "y1"
         },
         {
          "align": "left",
          "font": {
           "color": "#000000"
          },
          "showarrow": false,
          "text": "74274.0",
          "x": 1.55,
          "xanchor": "left",
          "xref": "x1",
          "y": 4,
          "yref": "y1"
         },
         {
          "align": "left",
          "font": {
           "color": "#000000"
          },
          "showarrow": false,
          "text": "113",
          "x": 2.55,
          "xanchor": "left",
          "xref": "x1",
          "y": 4,
          "yref": "y1"
         },
         {
          "align": "left",
          "font": {
           "color": "#000000"
          },
          "showarrow": false,
          "text": "Addons/Web Extensions",
          "x": -0.45,
          "xanchor": "left",
          "xref": "x1",
          "y": 5,
          "yref": "y1"
         },
         {
          "align": "left",
          "font": {
           "color": "#000000"
          },
          "showarrow": false,
          "text": "Mozilla Staff",
          "x": 0.55,
          "xanchor": "left",
          "xref": "x1",
          "y": 5,
          "yref": "y1"
         },
         {
          "align": "left",
          "font": {
           "color": "#000000"
          },
          "showarrow": false,
          "text": "53981.0",
          "x": 1.55,
          "xanchor": "left",
          "xref": "x1",
          "y": 5,
          "yref": "y1"
         },
         {
          "align": "left",
          "font": {
           "color": "#000000"
          },
          "showarrow": false,
          "text": "19",
          "x": 2.55,
          "xanchor": "left",
          "xref": "x1",
          "y": 5,
          "yref": "y1"
         },
         {
          "align": "left",
          "font": {
           "color": "#000000"
          },
          "showarrow": false,
          "text": "Gecko",
          "x": -0.45,
          "xanchor": "left",
          "xref": "x1",
          "y": 6,
          "yref": "y1"
         },
         {
          "align": "left",
          "font": {
           "color": "#000000"
          },
          "showarrow": false,
          "text": "Code Sheriff",
          "x": 0.55,
          "xanchor": "left",
          "xref": "x1",
          "y": 6,
          "yref": "y1"
         },
         {
          "align": "left",
          "font": {
           "color": "#000000"
          },
          "showarrow": false,
          "text": "52512.0",
          "x": 1.55,
          "xanchor": "left",
          "xref": "x1",
          "y": 6,
          "yref": "y1"
         },
         {
          "align": "left",
          "font": {
           "color": "#000000"
          },
          "showarrow": false,
          "text": "3",
          "x": 2.55,
          "xanchor": "left",
          "xref": "x1",
          "y": 6,
          "yref": "y1"
         },
         {
          "align": "left",
          "font": {
           "color": "#000000"
          },
          "showarrow": false,
          "text": "Rust",
          "x": -0.45,
          "xanchor": "left",
          "xref": "x1",
          "y": 7,
          "yref": "y1"
         },
         {
          "align": "left",
          "font": {
           "color": "#000000"
          },
          "showarrow": false,
          "text": "Mozilla Staff",
          "x": 0.55,
          "xanchor": "left",
          "xref": "x1",
          "y": 7,
          "yref": "y1"
         },
         {
          "align": "left",
          "font": {
           "color": "#000000"
          },
          "showarrow": false,
          "text": "36024.0",
          "x": 1.55,
          "xanchor": "left",
          "xref": "x1",
          "y": 7,
          "yref": "y1"
         },
         {
          "align": "left",
          "font": {
           "color": "#000000"
          },
          "showarrow": false,
          "text": "27",
          "x": 2.55,
          "xanchor": "left",
          "xref": "x1",
          "y": 7,
          "yref": "y1"
         },
         {
          "align": "left",
          "font": {
           "color": "#000000"
          },
          "showarrow": false,
          "text": "Servo",
          "x": -0.45,
          "xanchor": "left",
          "xref": "x1",
          "y": 8,
          "yref": "y1"
         },
         {
          "align": "left",
          "font": {
           "color": "#000000"
          },
          "showarrow": false,
          "text": "Community",
          "x": 0.55,
          "xanchor": "left",
          "xref": "x1",
          "y": 8,
          "yref": "y1"
         },
         {
          "align": "left",
          "font": {
           "color": "#000000"
          },
          "showarrow": false,
          "text": "32594.0",
          "x": 1.55,
          "xanchor": "left",
          "xref": "x1",
          "y": 8,
          "yref": "y1"
         },
         {
          "align": "left",
          "font": {
           "color": "#000000"
          },
          "showarrow": false,
          "text": "73",
          "x": 2.55,
          "xanchor": "left",
          "xref": "x1",
          "y": 8,
          "yref": "y1"
         },
         {
          "align": "left",
          "font": {
           "color": "#000000"
          },
          "showarrow": false,
          "text": "Rust",
          "x": -0.45,
          "xanchor": "left",
          "xref": "x1",
          "y": 9,
          "yref": "y1"
         },
         {
          "align": "left",
          "font": {
           "color": "#000000"
          },
          "showarrow": false,
          "text": "Community",
          "x": 0.55,
          "xanchor": "left",
          "xref": "x1",
          "y": 9,
          "yref": "y1"
         },
         {
          "align": "left",
          "font": {
           "color": "#000000"
          },
          "showarrow": false,
          "text": "31342.0",
          "x": 1.55,
          "xanchor": "left",
          "xref": "x1",
          "y": 9,
          "yref": "y1"
         },
         {
          "align": "left",
          "font": {
           "color": "#000000"
          },
          "showarrow": false,
          "text": "25",
          "x": 2.55,
          "xanchor": "left",
          "xref": "x1",
          "y": 9,
          "yref": "y1"
         },
         {
          "align": "left",
          "font": {
           "color": "#000000"
          },
          "showarrow": false,
          "text": "Servo",
          "x": -0.45,
          "xanchor": "left",
          "xref": "x1",
          "y": 10,
          "yref": "y1"
         },
         {
          "align": "left",
          "font": {
           "color": "#000000"
          },
          "showarrow": false,
          "text": "Mozilla Staff",
          "x": 0.55,
          "xanchor": "left",
          "xref": "x1",
          "y": 10,
          "yref": "y1"
         },
         {
          "align": "left",
          "font": {
           "color": "#000000"
          },
          "showarrow": false,
          "text": "31092.0",
          "x": 1.55,
          "xanchor": "left",
          "xref": "x1",
          "y": 10,
          "yref": "y1"
         },
         {
          "align": "left",
          "font": {
           "color": "#000000"
          },
          "showarrow": false,
          "text": "81",
          "x": 2.55,
          "xanchor": "left",
          "xref": "x1",
          "y": 10,
          "yref": "y1"
         },
         {
          "align": "left",
          "font": {
           "color": "#000000"
          },
          "showarrow": false,
          "text": "IT/Ops",
          "x": -0.45,
          "xanchor": "left",
          "xref": "x1",
          "y": 11,
          "yref": "y1"
         },
         {
          "align": "left",
          "font": {
           "color": "#000000"
          },
          "showarrow": false,
          "text": "Community",
          "x": 0.55,
          "xanchor": "left",
          "xref": "x1",
          "y": 11,
          "yref": "y1"
         },
         {
          "align": "left",
          "font": {
           "color": "#000000"
          },
          "showarrow": false,
          "text": "24449.0",
          "x": 1.55,
          "xanchor": "left",
          "xref": "x1",
          "y": 11,
          "yref": "y1"
         },
         {
          "align": "left",
          "font": {
           "color": "#000000"
          },
          "showarrow": false,
          "text": "75",
          "x": 2.55,
          "xanchor": "left",
          "xref": "x1",
          "y": 11,
          "yref": "y1"
         },
         {
          "align": "left",
          "font": {
           "color": "#000000"
          },
          "showarrow": false,
          "text": "Release engineering",
          "x": -0.45,
          "xanchor": "left",
          "xref": "x1",
          "y": 12,
          "yref": "y1"
         },
         {
          "align": "left",
          "font": {
           "color": "#000000"
          },
          "showarrow": false,
          "text": "Mozilla Staff",
          "x": 0.55,
          "xanchor": "left",
          "xref": "x1",
          "y": 12,
          "yref": "y1"
         },
         {
          "align": "left",
          "font": {
           "color": "#000000"
          },
          "showarrow": false,
          "text": "14875.0",
          "x": 1.55,
          "xanchor": "left",
          "xref": "x1",
          "y": 12,
          "yref": "y1"
         },
         {
          "align": "left",
          "font": {
           "color": "#000000"
          },
          "showarrow": false,
          "text": "22",
          "x": 2.55,
          "xanchor": "left",
          "xref": "x1",
          "y": 12,
          "yref": "y1"
         },
         {
          "align": "left",
          "font": {
           "color": "#000000"
          },
          "showarrow": false,
          "text": "Web Properties",
          "x": -0.45,
          "xanchor": "left",
          "xref": "x1",
          "y": 13,
          "yref": "y1"
         },
         {
          "align": "left",
          "font": {
           "color": "#000000"
          },
          "showarrow": false,
          "text": "Community",
          "x": 0.55,
          "xanchor": "left",
          "xref": "x1",
          "y": 13,
          "yref": "y1"
         },
         {
          "align": "left",
          "font": {
           "color": "#000000"
          },
          "showarrow": false,
          "text": "13063.0",
          "x": 1.55,
          "xanchor": "left",
          "xref": "x1",
          "y": 13,
          "yref": "y1"
         },
         {
          "align": "left",
          "font": {
           "color": "#000000"
          },
          "showarrow": false,
          "text": "91",
          "x": 2.55,
          "xanchor": "left",
          "xref": "x1",
          "y": 13,
          "yref": "y1"
         },
         {
          "align": "left",
          "font": {
           "color": "#000000"
          },
          "showarrow": false,
          "text": "Mozilla Local/Regional communities",
          "x": -0.45,
          "xanchor": "left",
          "xref": "x1",
          "y": 14,
          "yref": "y1"
         },
         {
          "align": "left",
          "font": {
           "color": "#000000"
          },
          "showarrow": false,
          "text": "Community",
          "x": 0.55,
          "xanchor": "left",
          "xref": "x1",
          "y": 14,
          "yref": "y1"
         },
         {
          "align": "left",
          "font": {
           "color": "#000000"
          },
          "showarrow": false,
          "text": "9828.0",
          "x": 1.55,
          "xanchor": "left",
          "xref": "x1",
          "y": 14,
          "yref": "y1"
         },
         {
          "align": "left",
          "font": {
           "color": "#000000"
          },
          "showarrow": false,
          "text": "143",
          "x": 2.55,
          "xanchor": "left",
          "xref": "x1",
          "y": 14,
          "yref": "y1"
         },
         {
          "align": "left",
          "font": {
           "color": "#000000"
          },
          "showarrow": false,
          "text": "Mozilla Local/Regional communities",
          "x": -0.45,
          "xanchor": "left",
          "xref": "x1",
          "y": 15,
          "yref": "y1"
         },
         {
          "align": "left",
          "font": {
           "color": "#000000"
          },
          "showarrow": false,
          "text": "Mozilla Staff",
          "x": 0.55,
          "xanchor": "left",
          "xref": "x1",
          "y": 15,
          "yref": "y1"
         },
         {
          "align": "left",
          "font": {
           "color": "#000000"
          },
          "showarrow": false,
          "text": "7458.0",
          "x": 1.55,
          "xanchor": "left",
          "xref": "x1",
          "y": 15,
          "yref": "y1"
         },
         {
          "align": "left",
          "font": {
           "color": "#000000"
          },
          "showarrow": false,
          "text": "77",
          "x": 2.55,
          "xanchor": "left",
          "xref": "x1",
          "y": 15,
          "yref": "y1"
         },
         {
          "align": "left",
          "font": {
           "color": "#000000"
          },
          "showarrow": false,
          "text": "Addons/Web Extensions",
          "x": -0.45,
          "xanchor": "left",
          "xref": "x1",
          "y": 16,
          "yref": "y1"
         },
         {
          "align": "left",
          "font": {
           "color": "#000000"
          },
          "showarrow": false,
          "text": "Community",
          "x": 0.55,
          "xanchor": "left",
          "xref": "x1",
          "y": 16,
          "yref": "y1"
         },
         {
          "align": "left",
          "font": {
           "color": "#000000"
          },
          "showarrow": false,
          "text": "7434.0",
          "x": 1.55,
          "xanchor": "left",
          "xref": "x1",
          "y": 16,
          "yref": "y1"
         },
         {
          "align": "left",
          "font": {
           "color": "#000000"
          },
          "showarrow": false,
          "text": "11",
          "x": 2.55,
          "xanchor": "left",
          "xref": "x1",
          "y": 16,
          "yref": "y1"
         },
         {
          "align": "left",
          "font": {
           "color": "#000000"
          },
          "showarrow": false,
          "text": "Web Literacy",
          "x": -0.45,
          "xanchor": "left",
          "xref": "x1",
          "y": 17,
          "yref": "y1"
         },
         {
          "align": "left",
          "font": {
           "color": "#000000"
          },
          "showarrow": false,
          "text": "Community",
          "x": 0.55,
          "xanchor": "left",
          "xref": "x1",
          "y": 17,
          "yref": "y1"
         },
         {
          "align": "left",
          "font": {
           "color": "#000000"
          },
          "showarrow": false,
          "text": "7330.0",
          "x": 1.55,
          "xanchor": "left",
          "xref": "x1",
          "y": 17,
          "yref": "y1"
         },
         {
          "align": "left",
          "font": {
           "color": "#000000"
          },
          "showarrow": false,
          "text": "40",
          "x": 2.55,
          "xanchor": "left",
          "xref": "x1",
          "y": 17,
          "yref": "y1"
         },
         {
          "align": "left",
          "font": {
           "color": "#000000"
          },
          "showarrow": false,
          "text": "Web Literacy",
          "x": -0.45,
          "xanchor": "left",
          "xref": "x1",
          "y": 18,
          "yref": "y1"
         },
         {
          "align": "left",
          "font": {
           "color": "#000000"
          },
          "showarrow": false,
          "text": "Mozilla Staff",
          "x": 0.55,
          "xanchor": "left",
          "xref": "x1",
          "y": 18,
          "yref": "y1"
         },
         {
          "align": "left",
          "font": {
           "color": "#000000"
          },
          "showarrow": false,
          "text": "6587.0",
          "x": 1.55,
          "xanchor": "left",
          "xref": "x1",
          "y": 18,
          "yref": "y1"
         },
         {
          "align": "left",
          "font": {
           "color": "#000000"
          },
          "showarrow": false,
          "text": "51",
          "x": 2.55,
          "xanchor": "left",
          "xref": "x1",
          "y": 18,
          "yref": "y1"
         },
         {
          "align": "left",
          "font": {
           "color": "#000000"
          },
          "showarrow": false,
          "text": "Firefox iOS",
          "x": -0.45,
          "xanchor": "left",
          "xref": "x1",
          "y": 19,
          "yref": "y1"
         },
         {
          "align": "left",
          "font": {
           "color": "#000000"
          },
          "showarrow": false,
          "text": "Mozilla Staff",
          "x": 0.55,
          "xanchor": "left",
          "xref": "x1",
          "y": 19,
          "yref": "y1"
         },
         {
          "align": "left",
          "font": {
           "color": "#000000"
          },
          "showarrow": false,
          "text": "5935.0",
          "x": 1.55,
          "xanchor": "left",
          "xref": "x1",
          "y": 19,
          "yref": "y1"
         },
         {
          "align": "left",
          "font": {
           "color": "#000000"
          },
          "showarrow": false,
          "text": "5",
          "x": 2.55,
          "xanchor": "left",
          "xref": "x1",
          "y": 19,
          "yref": "y1"
         },
         {
          "align": "left",
          "font": {
           "color": "#000000"
          },
          "showarrow": false,
          "text": "Firefox OS (FxOS / B2G)",
          "x": -0.45,
          "xanchor": "left",
          "xref": "x1",
          "y": 20,
          "yref": "y1"
         },
         {
          "align": "left",
          "font": {
           "color": "#000000"
          },
          "showarrow": false,
          "text": "Mozilla Staff",
          "x": 0.55,
          "xanchor": "left",
          "xref": "x1",
          "y": 20,
          "yref": "y1"
         },
         {
          "align": "left",
          "font": {
           "color": "#000000"
          },
          "showarrow": false,
          "text": "5914.0",
          "x": 1.55,
          "xanchor": "left",
          "xref": "x1",
          "y": 20,
          "yref": "y1"
         },
         {
          "align": "left",
          "font": {
           "color": "#000000"
          },
          "showarrow": false,
          "text": "26",
          "x": 2.55,
          "xanchor": "left",
          "xref": "x1",
          "y": 20,
          "yref": "y1"
         },
         {
          "align": "left",
          "font": {
           "color": "#000000"
          },
          "showarrow": false,
          "text": "WebVR",
          "x": -0.45,
          "xanchor": "left",
          "xref": "x1",
          "y": 21,
          "yref": "y1"
         },
         {
          "align": "left",
          "font": {
           "color": "#000000"
          },
          "showarrow": false,
          "text": "Mozilla Staff",
          "x": 0.55,
          "xanchor": "left",
          "xref": "x1",
          "y": 21,
          "yref": "y1"
         },
         {
          "align": "left",
          "font": {
           "color": "#000000"
          },
          "showarrow": false,
          "text": "5851.0",
          "x": 1.55,
          "xanchor": "left",
          "xref": "x1",
          "y": 21,
          "yref": "y1"
         },
         {
          "align": "left",
          "font": {
           "color": "#000000"
          },
          "showarrow": false,
          "text": "29",
          "x": 2.55,
          "xanchor": "left",
          "xref": "x1",
          "y": 21,
          "yref": "y1"
         },
         {
          "align": "left",
          "font": {
           "color": "#000000"
          },
          "showarrow": false,
          "text": "Quality Assurance",
          "x": -0.45,
          "xanchor": "left",
          "xref": "x1",
          "y": 22,
          "yref": "y1"
         },
         {
          "align": "left",
          "font": {
           "color": "#000000"
          },
          "showarrow": false,
          "text": "Mozilla Staff",
          "x": 0.55,
          "xanchor": "left",
          "xref": "x1",
          "y": 22,
          "yref": "y1"
         },
         {
          "align": "left",
          "font": {
           "color": "#000000"
          },
          "showarrow": false,
          "text": "3812.0",
          "x": 1.55,
          "xanchor": "left",
          "xref": "x1",
          "y": 22,
          "yref": "y1"
         },
         {
          "align": "left",
          "font": {
           "color": "#000000"
          },
          "showarrow": false,
          "text": "3",
          "x": 2.55,
          "xanchor": "left",
          "xref": "x1",
          "y": 22,
          "yref": "y1"
         },
         {
          "align": "left",
          "font": {
           "color": "#000000"
          },
          "showarrow": false,
          "text": "Servo",
          "x": -0.45,
          "xanchor": "left",
          "xref": "x1",
          "y": 23,
          "yref": "y1"
         },
         {
          "align": "left",
          "font": {
           "color": "#000000"
          },
          "showarrow": false,
          "text": "Code Sheriff",
          "x": 0.55,
          "xanchor": "left",
          "xref": "x1",
          "y": 23,
          "yref": "y1"
         },
         {
          "align": "left",
          "font": {
           "color": "#000000"
          },
          "showarrow": false,
          "text": "3594.0",
          "x": 1.55,
          "xanchor": "left",
          "xref": "x1",
          "y": 23,
          "yref": "y1"
         },
         {
          "align": "left",
          "font": {
           "color": "#000000"
          },
          "showarrow": false,
          "text": "40",
          "x": 2.55,
          "xanchor": "left",
          "xref": "x1",
          "y": 23,
          "yref": "y1"
         },
         {
          "align": "left",
          "font": {
           "color": "#000000"
          },
          "showarrow": false,
          "text": "Mozilla Developer Network (MDN)",
          "x": -0.45,
          "xanchor": "left",
          "xref": "x1",
          "y": 24,
          "yref": "y1"
         },
         {
          "align": "left",
          "font": {
           "color": "#000000"
          },
          "showarrow": false,
          "text": "Mozilla Staff",
          "x": 0.55,
          "xanchor": "left",
          "xref": "x1",
          "y": 24,
          "yref": "y1"
         },
         {
          "align": "left",
          "font": {
           "color": "#000000"
          },
          "showarrow": false,
          "text": "3181.0",
          "x": 1.55,
          "xanchor": "left",
          "xref": "x1",
          "y": 24,
          "yref": "y1"
         },
         {
          "align": "left",
          "font": {
           "color": "#000000"
          },
          "showarrow": false,
          "text": "47",
          "x": 2.55,
          "xanchor": "left",
          "xref": "x1",
          "y": 24,
          "yref": "y1"
         },
         {
          "align": "left",
          "font": {
           "color": "#000000"
          },
          "showarrow": false,
          "text": "Mozilla Science",
          "x": -0.45,
          "xanchor": "left",
          "xref": "x1",
          "y": 25,
          "yref": "y1"
         },
         {
          "align": "left",
          "font": {
           "color": "#000000"
          },
          "showarrow": false,
          "text": "Community",
          "x": 0.55,
          "xanchor": "left",
          "xref": "x1",
          "y": 25,
          "yref": "y1"
         },
         {
          "align": "left",
          "font": {
           "color": "#000000"
          },
          "showarrow": false,
          "text": "2608.0",
          "x": 1.55,
          "xanchor": "left",
          "xref": "x1",
          "y": 25,
          "yref": "y1"
         },
         {
          "align": "left",
          "font": {
           "color": "#000000"
          },
          "showarrow": false,
          "text": "34",
          "x": 2.55,
          "xanchor": "left",
          "xref": "x1",
          "y": 25,
          "yref": "y1"
         },
         {
          "align": "left",
          "font": {
           "color": "#000000"
          },
          "showarrow": false,
          "text": "Marketing / Social Media",
          "x": -0.45,
          "xanchor": "left",
          "xref": "x1",
          "y": 26,
          "yref": "y1"
         },
         {
          "align": "left",
          "font": {
           "color": "#000000"
          },
          "showarrow": false,
          "text": "Mozilla Staff",
          "x": 0.55,
          "xanchor": "left",
          "xref": "x1",
          "y": 26,
          "yref": "y1"
         },
         {
          "align": "left",
          "font": {
           "color": "#000000"
          },
          "showarrow": false,
          "text": "2156.0",
          "x": 1.55,
          "xanchor": "left",
          "xref": "x1",
          "y": 26,
          "yref": "y1"
         },
         {
          "align": "left",
          "font": {
           "color": "#000000"
          },
          "showarrow": false,
          "text": "15",
          "x": 2.55,
          "xanchor": "left",
          "xref": "x1",
          "y": 26,
          "yref": "y1"
         },
         {
          "align": "left",
          "font": {
           "color": "#000000"
          },
          "showarrow": false,
          "text": "Test Pilot",
          "x": -0.45,
          "xanchor": "left",
          "xref": "x1",
          "y": 27,
          "yref": "y1"
         },
         {
          "align": "left",
          "font": {
           "color": "#000000"
          },
          "showarrow": false,
          "text": "Mozilla Staff",
          "x": 0.55,
          "xanchor": "left",
          "xref": "x1",
          "y": 27,
          "yref": "y1"
         },
         {
          "align": "left",
          "font": {
           "color": "#000000"
          },
          "showarrow": false,
          "text": "1873.0",
          "x": 1.55,
          "xanchor": "left",
          "xref": "x1",
          "y": 27,
          "yref": "y1"
         },
         {
          "align": "left",
          "font": {
           "color": "#000000"
          },
          "showarrow": false,
          "text": "6",
          "x": 2.55,
          "xanchor": "left",
          "xref": "x1",
          "y": 27,
          "yref": "y1"
         },
         {
          "align": "left",
          "font": {
           "color": "#000000"
          },
          "showarrow": false,
          "text": "IT/Ops",
          "x": -0.45,
          "xanchor": "left",
          "xref": "x1",
          "y": 28,
          "yref": "y1"
         },
         {
          "align": "left",
          "font": {
           "color": "#000000"
          },
          "showarrow": false,
          "text": "Code Sheriff",
          "x": 0.55,
          "xanchor": "left",
          "xref": "x1",
          "y": 28,
          "yref": "y1"
         },
         {
          "align": "left",
          "font": {
           "color": "#000000"
          },
          "showarrow": false,
          "text": "1748.0",
          "x": 1.55,
          "xanchor": "left",
          "xref": "x1",
          "y": 28,
          "yref": "y1"
         },
         {
          "align": "left",
          "font": {
           "color": "#000000"
          },
          "showarrow": false,
          "text": "3",
          "x": 2.55,
          "xanchor": "left",
          "xref": "x1",
          "y": 28,
          "yref": "y1"
         },
         {
          "align": "left",
          "font": {
           "color": "#000000"
          },
          "showarrow": false,
          "text": "Mozilla Location Service (MLS) / Stumbler",
          "x": -0.45,
          "xanchor": "left",
          "xref": "x1",
          "y": 29,
          "yref": "y1"
         },
         {
          "align": "left",
          "font": {
           "color": "#000000"
          },
          "showarrow": false,
          "text": "Mozilla Staff",
          "x": 0.55,
          "xanchor": "left",
          "xref": "x1",
          "y": 29,
          "yref": "y1"
         },
         {
          "align": "left",
          "font": {
           "color": "#000000"
          },
          "showarrow": false,
          "text": "1375.0",
          "x": 1.55,
          "xanchor": "left",
          "xref": "x1",
          "y": 29,
          "yref": "y1"
         },
         {
          "align": "left",
          "font": {
           "color": "#000000"
          },
          "showarrow": false,
          "text": "1",
          "x": 2.55,
          "xanchor": "left",
          "xref": "x1",
          "y": 29,
          "yref": "y1"
         },
         {
          "align": "left",
          "font": {
           "color": "#000000"
          },
          "showarrow": false,
          "text": "Firefox Focus",
          "x": -0.45,
          "xanchor": "left",
          "xref": "x1",
          "y": 30,
          "yref": "y1"
         },
         {
          "align": "left",
          "font": {
           "color": "#000000"
          },
          "showarrow": false,
          "text": "Mozilla Staff",
          "x": 0.55,
          "xanchor": "left",
          "xref": "x1",
          "y": 30,
          "yref": "y1"
         },
         {
          "align": "left",
          "font": {
           "color": "#000000"
          },
          "showarrow": false,
          "text": "1254.0",
          "x": 1.55,
          "xanchor": "left",
          "xref": "x1",
          "y": 30,
          "yref": "y1"
         },
         {
          "align": "left",
          "font": {
           "color": "#000000"
          },
          "showarrow": false,
          "text": "2",
          "x": 2.55,
          "xanchor": "left",
          "xref": "x1",
          "y": 30,
          "yref": "y1"
         },
         {
          "align": "left",
          "font": {
           "color": "#000000"
          },
          "showarrow": false,
          "text": "WebVR",
          "x": -0.45,
          "xanchor": "left",
          "xref": "x1",
          "y": 31,
          "yref": "y1"
         },
         {
          "align": "left",
          "font": {
           "color": "#000000"
          },
          "showarrow": false,
          "text": "Community",
          "x": 0.55,
          "xanchor": "left",
          "xref": "x1",
          "y": 31,
          "yref": "y1"
         },
         {
          "align": "left",
          "font": {
           "color": "#000000"
          },
          "showarrow": false,
          "text": "1217.0",
          "x": 1.55,
          "xanchor": "left",
          "xref": "x1",
          "y": 31,
          "yref": "y1"
         },
         {
          "align": "left",
          "font": {
           "color": "#000000"
          },
          "showarrow": false,
          "text": "19",
          "x": 2.55,
          "xanchor": "left",
          "xref": "x1",
          "y": 31,
          "yref": "y1"
         },
         {
          "align": "left",
          "font": {
           "color": "#000000"
          },
          "showarrow": false,
          "text": "Test Pilot",
          "x": -0.45,
          "xanchor": "left",
          "xref": "x1",
          "y": 32,
          "yref": "y1"
         },
         {
          "align": "left",
          "font": {
           "color": "#000000"
          },
          "showarrow": false,
          "text": "Community",
          "x": 0.55,
          "xanchor": "left",
          "xref": "x1",
          "y": 32,
          "yref": "y1"
         },
         {
          "align": "left",
          "font": {
           "color": "#000000"
          },
          "showarrow": false,
          "text": "1186.0",
          "x": 1.55,
          "xanchor": "left",
          "xref": "x1",
          "y": 32,
          "yref": "y1"
         },
         {
          "align": "left",
          "font": {
           "color": "#000000"
          },
          "showarrow": false,
          "text": "2",
          "x": 2.55,
          "xanchor": "left",
          "xref": "x1",
          "y": 32,
          "yref": "y1"
         },
         {
          "align": "left",
          "font": {
           "color": "#000000"
          },
          "showarrow": false,
          "text": "Localization",
          "x": -0.45,
          "xanchor": "left",
          "xref": "x1",
          "y": 33,
          "yref": "y1"
         },
         {
          "align": "left",
          "font": {
           "color": "#000000"
          },
          "showarrow": false,
          "text": "Mozilla Staff",
          "x": 0.55,
          "xanchor": "left",
          "xref": "x1",
          "y": 33,
          "yref": "y1"
         },
         {
          "align": "left",
          "font": {
           "color": "#000000"
          },
          "showarrow": false,
          "text": "1073.0",
          "x": 1.55,
          "xanchor": "left",
          "xref": "x1",
          "y": 33,
          "yref": "y1"
         },
         {
          "align": "left",
          "font": {
           "color": "#000000"
          },
          "showarrow": false,
          "text": "4",
          "x": 2.55,
          "xanchor": "left",
          "xref": "x1",
          "y": 33,
          "yref": "y1"
         },
         {
          "align": "left",
          "font": {
           "color": "#000000"
          },
          "showarrow": false,
          "text": "Quality Assurance",
          "x": -0.45,
          "xanchor": "left",
          "xref": "x1",
          "y": 34,
          "yref": "y1"
         },
         {
          "align": "left",
          "font": {
           "color": "#000000"
          },
          "showarrow": false,
          "text": "Community",
          "x": 0.55,
          "xanchor": "left",
          "xref": "x1",
          "y": 34,
          "yref": "y1"
         },
         {
          "align": "left",
          "font": {
           "color": "#000000"
          },
          "showarrow": false,
          "text": "1072.0",
          "x": 1.55,
          "xanchor": "left",
          "xref": "x1",
          "y": 34,
          "yref": "y1"
         },
         {
          "align": "left",
          "font": {
           "color": "#000000"
          },
          "showarrow": false,
          "text": "2",
          "x": 2.55,
          "xanchor": "left",
          "xref": "x1",
          "y": 34,
          "yref": "y1"
         },
         {
          "align": "left",
          "font": {
           "color": "#000000"
          },
          "showarrow": false,
          "text": "Firefox",
          "x": -0.45,
          "xanchor": "left",
          "xref": "x1",
          "y": 35,
          "yref": "y1"
         },
         {
          "align": "left",
          "font": {
           "color": "#000000"
          },
          "showarrow": false,
          "text": "Mozilla Staff",
          "x": 0.55,
          "xanchor": "left",
          "xref": "x1",
          "y": 35,
          "yref": "y1"
         },
         {
          "align": "left",
          "font": {
           "color": "#000000"
          },
          "showarrow": false,
          "text": "1072.0",
          "x": 1.55,
          "xanchor": "left",
          "xref": "x1",
          "y": 35,
          "yref": "y1"
         },
         {
          "align": "left",
          "font": {
           "color": "#000000"
          },
          "showarrow": false,
          "text": "1",
          "x": 2.55,
          "xanchor": "left",
          "xref": "x1",
          "y": 35,
          "yref": "y1"
         },
         {
          "align": "left",
          "font": {
           "color": "#000000"
          },
          "showarrow": false,
          "text": "Advocacy and policy",
          "x": -0.45,
          "xanchor": "left",
          "xref": "x1",
          "y": 36,
          "yref": "y1"
         },
         {
          "align": "left",
          "font": {
           "color": "#000000"
          },
          "showarrow": false,
          "text": "Mozilla Staff",
          "x": 0.55,
          "xanchor": "left",
          "xref": "x1",
          "y": 36,
          "yref": "y1"
         },
         {
          "align": "left",
          "font": {
           "color": "#000000"
          },
          "showarrow": false,
          "text": "1031.0",
          "x": 1.55,
          "xanchor": "left",
          "xref": "x1",
          "y": 36,
          "yref": "y1"
         },
         {
          "align": "left",
          "font": {
           "color": "#000000"
          },
          "showarrow": false,
          "text": "4",
          "x": 2.55,
          "xanchor": "left",
          "xref": "x1",
          "y": 36,
          "yref": "y1"
         },
         {
          "align": "left",
          "font": {
           "color": "#000000"
          },
          "showarrow": false,
          "text": "Mozilla Science",
          "x": -0.45,
          "xanchor": "left",
          "xref": "x1",
          "y": 37,
          "yref": "y1"
         },
         {
          "align": "left",
          "font": {
           "color": "#000000"
          },
          "showarrow": false,
          "text": "Mozilla Staff",
          "x": 0.55,
          "xanchor": "left",
          "xref": "x1",
          "y": 37,
          "yref": "y1"
         },
         {
          "align": "left",
          "font": {
           "color": "#000000"
          },
          "showarrow": false,
          "text": "954.0",
          "x": 1.55,
          "xanchor": "left",
          "xref": "x1",
          "y": 37,
          "yref": "y1"
         },
         {
          "align": "left",
          "font": {
           "color": "#000000"
          },
          "showarrow": false,
          "text": "21",
          "x": 2.55,
          "xanchor": "left",
          "xref": "x1",
          "y": 37,
          "yref": "y1"
         },
         {
          "align": "left",
          "font": {
           "color": "#000000"
          },
          "showarrow": false,
          "text": "Localization",
          "x": -0.45,
          "xanchor": "left",
          "xref": "x1",
          "y": 38,
          "yref": "y1"
         },
         {
          "align": "left",
          "font": {
           "color": "#000000"
          },
          "showarrow": false,
          "text": "Community",
          "x": 0.55,
          "xanchor": "left",
          "xref": "x1",
          "y": 38,
          "yref": "y1"
         },
         {
          "align": "left",
          "font": {
           "color": "#000000"
          },
          "showarrow": false,
          "text": "940.0",
          "x": 1.55,
          "xanchor": "left",
          "xref": "x1",
          "y": 38,
          "yref": "y1"
         },
         {
          "align": "left",
          "font": {
           "color": "#000000"
          },
          "showarrow": false,
          "text": "4",
          "x": 2.55,
          "xanchor": "left",
          "xref": "x1",
          "y": 38,
          "yref": "y1"
         },
         {
          "align": "left",
          "font": {
           "color": "#000000"
          },
          "showarrow": false,
          "text": "Release engineering",
          "x": -0.45,
          "xanchor": "left",
          "xref": "x1",
          "y": 39,
          "yref": "y1"
         },
         {
          "align": "left",
          "font": {
           "color": "#000000"
          },
          "showarrow": false,
          "text": "Community",
          "x": 0.55,
          "xanchor": "left",
          "xref": "x1",
          "y": 39,
          "yref": "y1"
         },
         {
          "align": "left",
          "font": {
           "color": "#000000"
          },
          "showarrow": false,
          "text": "844.0",
          "x": 1.55,
          "xanchor": "left",
          "xref": "x1",
          "y": 39,
          "yref": "y1"
         },
         {
          "align": "left",
          "font": {
           "color": "#000000"
          },
          "showarrow": false,
          "text": "9",
          "x": 2.55,
          "xanchor": "left",
          "xref": "x1",
          "y": 39,
          "yref": "y1"
         },
         {
          "align": "left",
          "font": {
           "color": "#000000"
          },
          "showarrow": false,
          "text": "Mozilla Foundation",
          "x": -0.45,
          "xanchor": "left",
          "xref": "x1",
          "y": 40,
          "yref": "y1"
         },
         {
          "align": "left",
          "font": {
           "color": "#000000"
          },
          "showarrow": false,
          "text": "Mozilla Staff",
          "x": 0.55,
          "xanchor": "left",
          "xref": "x1",
          "y": 40,
          "yref": "y1"
         },
         {
          "align": "left",
          "font": {
           "color": "#000000"
          },
          "showarrow": false,
          "text": "816.0",
          "x": 1.55,
          "xanchor": "left",
          "xref": "x1",
          "y": 40,
          "yref": "y1"
         },
         {
          "align": "left",
          "font": {
           "color": "#000000"
          },
          "showarrow": false,
          "text": "36",
          "x": 2.55,
          "xanchor": "left",
          "xref": "x1",
          "y": 40,
          "yref": "y1"
         },
         {
          "align": "left",
          "font": {
           "color": "#000000"
          },
          "showarrow": false,
          "text": "Technical/Developer Evangelism",
          "x": -0.45,
          "xanchor": "left",
          "xref": "x1",
          "y": 41,
          "yref": "y1"
         },
         {
          "align": "left",
          "font": {
           "color": "#000000"
          },
          "showarrow": false,
          "text": "Mozilla Staff",
          "x": 0.55,
          "xanchor": "left",
          "xref": "x1",
          "y": 41,
          "yref": "y1"
         },
         {
          "align": "left",
          "font": {
           "color": "#000000"
          },
          "showarrow": false,
          "text": "814.0",
          "x": 1.55,
          "xanchor": "left",
          "xref": "x1",
          "y": 41,
          "yref": "y1"
         },
         {
          "align": "left",
          "font": {
           "color": "#000000"
          },
          "showarrow": false,
          "text": "17",
          "x": 2.55,
          "xanchor": "left",
          "xref": "x1",
          "y": 41,
          "yref": "y1"
         },
         {
          "align": "left",
          "font": {
           "color": "#000000"
          },
          "showarrow": false,
          "text": "Firefox OS (FxOS / B2G)",
          "x": -0.45,
          "xanchor": "left",
          "xref": "x1",
          "y": 42,
          "yref": "y1"
         },
         {
          "align": "left",
          "font": {
           "color": "#000000"
          },
          "showarrow": false,
          "text": "Community",
          "x": 0.55,
          "xanchor": "left",
          "xref": "x1",
          "y": 42,
          "yref": "y1"
         },
         {
          "align": "left",
          "font": {
           "color": "#000000"
          },
          "showarrow": false,
          "text": "736.0",
          "x": 1.55,
          "xanchor": "left",
          "xref": "x1",
          "y": 42,
          "yref": "y1"
         },
         {
          "align": "left",
          "font": {
           "color": "#000000"
          },
          "showarrow": false,
          "text": "17",
          "x": 2.55,
          "xanchor": "left",
          "xref": "x1",
          "y": 42,
          "yref": "y1"
         },
         {
          "align": "left",
          "font": {
           "color": "#000000"
          },
          "showarrow": false,
          "text": "Mozilla Location Service (MLS) / Stumbler",
          "x": -0.45,
          "xanchor": "left",
          "xref": "x1",
          "y": 43,
          "yref": "y1"
         },
         {
          "align": "left",
          "font": {
           "color": "#000000"
          },
          "showarrow": false,
          "text": "Community",
          "x": 0.55,
          "xanchor": "left",
          "xref": "x1",
          "y": 43,
          "yref": "y1"
         },
         {
          "align": "left",
          "font": {
           "color": "#000000"
          },
          "showarrow": false,
          "text": "591.0",
          "x": 1.55,
          "xanchor": "left",
          "xref": "x1",
          "y": 43,
          "yref": "y1"
         },
         {
          "align": "left",
          "font": {
           "color": "#000000"
          },
          "showarrow": false,
          "text": "1",
          "x": 2.55,
          "xanchor": "left",
          "xref": "x1",
          "y": 43,
          "yref": "y1"
         },
         {
          "align": "left",
          "font": {
           "color": "#000000"
          },
          "showarrow": false,
          "text": "Mozilla Foundation",
          "x": -0.45,
          "xanchor": "left",
          "xref": "x1",
          "y": 44,
          "yref": "y1"
         },
         {
          "align": "left",
          "font": {
           "color": "#000000"
          },
          "showarrow": false,
          "text": "Community",
          "x": 0.55,
          "xanchor": "left",
          "xref": "x1",
          "y": 44,
          "yref": "y1"
         },
         {
          "align": "left",
          "font": {
           "color": "#000000"
          },
          "showarrow": false,
          "text": "584.0",
          "x": 1.55,
          "xanchor": "left",
          "xref": "x1",
          "y": 44,
          "yref": "y1"
         },
         {
          "align": "left",
          "font": {
           "color": "#000000"
          },
          "showarrow": false,
          "text": "24",
          "x": 2.55,
          "xanchor": "left",
          "xref": "x1",
          "y": 44,
          "yref": "y1"
         },
         {
          "align": "left",
          "font": {
           "color": "#000000"
          },
          "showarrow": false,
          "text": "Vaani",
          "x": -0.45,
          "xanchor": "left",
          "xref": "x1",
          "y": 45,
          "yref": "y1"
         },
         {
          "align": "left",
          "font": {
           "color": "#000000"
          },
          "showarrow": false,
          "text": "Mozilla Staff",
          "x": 0.55,
          "xanchor": "left",
          "xref": "x1",
          "y": 45,
          "yref": "y1"
         },
         {
          "align": "left",
          "font": {
           "color": "#000000"
          },
          "showarrow": false,
          "text": "470.0",
          "x": 1.55,
          "xanchor": "left",
          "xref": "x1",
          "y": 45,
          "yref": "y1"
         },
         {
          "align": "left",
          "font": {
           "color": "#000000"
          },
          "showarrow": false,
          "text": "8",
          "x": 2.55,
          "xanchor": "left",
          "xref": "x1",
          "y": 45,
          "yref": "y1"
         },
         {
          "align": "left",
          "font": {
           "color": "#000000"
          },
          "showarrow": false,
          "text": "Mozilla Developer Network (MDN)",
          "x": -0.45,
          "xanchor": "left",
          "xref": "x1",
          "y": 46,
          "yref": "y1"
         },
         {
          "align": "left",
          "font": {
           "color": "#000000"
          },
          "showarrow": false,
          "text": "Community",
          "x": 0.55,
          "xanchor": "left",
          "xref": "x1",
          "y": 46,
          "yref": "y1"
         },
         {
          "align": "left",
          "font": {
           "color": "#000000"
          },
          "showarrow": false,
          "text": "465.0",
          "x": 1.55,
          "xanchor": "left",
          "xref": "x1",
          "y": 46,
          "yref": "y1"
         },
         {
          "align": "left",
          "font": {
           "color": "#000000"
          },
          "showarrow": false,
          "text": "27",
          "x": 2.55,
          "xanchor": "left",
          "xref": "x1",
          "y": 46,
          "yref": "y1"
         },
         {
          "align": "left",
          "font": {
           "color": "#000000"
          },
          "showarrow": false,
          "text": "Firefox",
          "x": -0.45,
          "xanchor": "left",
          "xref": "x1",
          "y": 47,
          "yref": "y1"
         },
         {
          "align": "left",
          "font": {
           "color": "#000000"
          },
          "showarrow": false,
          "text": "Community",
          "x": 0.55,
          "xanchor": "left",
          "xref": "x1",
          "y": 47,
          "yref": "y1"
         },
         {
          "align": "left",
          "font": {
           "color": "#000000"
          },
          "showarrow": false,
          "text": "461.0",
          "x": 1.55,
          "xanchor": "left",
          "xref": "x1",
          "y": 47,
          "yref": "y1"
         },
         {
          "align": "left",
          "font": {
           "color": "#000000"
          },
          "showarrow": false,
          "text": "1",
          "x": 2.55,
          "xanchor": "left",
          "xref": "x1",
          "y": 47,
          "yref": "y1"
         },
         {
          "align": "left",
          "font": {
           "color": "#000000"
          },
          "showarrow": false,
          "text": "Firefox iOS",
          "x": -0.45,
          "xanchor": "left",
          "xref": "x1",
          "y": 48,
          "yref": "y1"
         },
         {
          "align": "left",
          "font": {
           "color": "#000000"
          },
          "showarrow": false,
          "text": "Community",
          "x": 0.55,
          "xanchor": "left",
          "xref": "x1",
          "y": 48,
          "yref": "y1"
         },
         {
          "align": "left",
          "font": {
           "color": "#000000"
          },
          "showarrow": false,
          "text": "444.0",
          "x": 1.55,
          "xanchor": "left",
          "xref": "x1",
          "y": 48,
          "yref": "y1"
         },
         {
          "align": "left",
          "font": {
           "color": "#000000"
          },
          "showarrow": false,
          "text": "3",
          "x": 2.55,
          "xanchor": "left",
          "xref": "x1",
          "y": 48,
          "yref": "y1"
         },
         {
          "align": "left",
          "font": {
           "color": "#000000"
          },
          "showarrow": false,
          "text": "Advocacy and policy",
          "x": -0.45,
          "xanchor": "left",
          "xref": "x1",
          "y": 49,
          "yref": "y1"
         },
         {
          "align": "left",
          "font": {
           "color": "#000000"
          },
          "showarrow": false,
          "text": "Community",
          "x": 0.55,
          "xanchor": "left",
          "xref": "x1",
          "y": 49,
          "yref": "y1"
         },
         {
          "align": "left",
          "font": {
           "color": "#000000"
          },
          "showarrow": false,
          "text": "441.0",
          "x": 1.55,
          "xanchor": "left",
          "xref": "x1",
          "y": 49,
          "yref": "y1"
         },
         {
          "align": "left",
          "font": {
           "color": "#000000"
          },
          "showarrow": false,
          "text": "4",
          "x": 2.55,
          "xanchor": "left",
          "xref": "x1",
          "y": 49,
          "yref": "y1"
         },
         {
          "align": "left",
          "font": {
           "color": "#000000"
          },
          "showarrow": false,
          "text": "Deep Speech",
          "x": -0.45,
          "xanchor": "left",
          "xref": "x1",
          "y": 50,
          "yref": "y1"
         },
         {
          "align": "left",
          "font": {
           "color": "#000000"
          },
          "showarrow": false,
          "text": "Mozilla Staff",
          "x": 0.55,
          "xanchor": "left",
          "xref": "x1",
          "y": 50,
          "yref": "y1"
         },
         {
          "align": "left",
          "font": {
           "color": "#000000"
          },
          "showarrow": false,
          "text": "354.0",
          "x": 1.55,
          "xanchor": "left",
          "xref": "x1",
          "y": 50,
          "yref": "y1"
         },
         {
          "align": "left",
          "font": {
           "color": "#000000"
          },
          "showarrow": false,
          "text": "1",
          "x": 2.55,
          "xanchor": "left",
          "xref": "x1",
          "y": 50,
          "yref": "y1"
         },
         {
          "align": "left",
          "font": {
           "color": "#000000"
          },
          "showarrow": false,
          "text": "Developer Tools",
          "x": -0.45,
          "xanchor": "left",
          "xref": "x1",
          "y": 51,
          "yref": "y1"
         },
         {
          "align": "left",
          "font": {
           "color": "#000000"
          },
          "showarrow": false,
          "text": "Mozilla Staff",
          "x": 0.55,
          "xanchor": "left",
          "xref": "x1",
          "y": 51,
          "yref": "y1"
         },
         {
          "align": "left",
          "font": {
           "color": "#000000"
          },
          "showarrow": false,
          "text": "293.0",
          "x": 1.55,
          "xanchor": "left",
          "xref": "x1",
          "y": 51,
          "yref": "y1"
         },
         {
          "align": "left",
          "font": {
           "color": "#000000"
          },
          "showarrow": false,
          "text": "4",
          "x": 2.55,
          "xanchor": "left",
          "xref": "x1",
          "y": 51,
          "yref": "y1"
         },
         {
          "align": "left",
          "font": {
           "color": "#000000"
          },
          "showarrow": false,
          "text": "Connected devices & IoT",
          "x": -0.45,
          "xanchor": "left",
          "xref": "x1",
          "y": 52,
          "yref": "y1"
         },
         {
          "align": "left",
          "font": {
           "color": "#000000"
          },
          "showarrow": false,
          "text": "Community",
          "x": 0.55,
          "xanchor": "left",
          "xref": "x1",
          "y": 52,
          "yref": "y1"
         },
         {
          "align": "left",
          "font": {
           "color": "#000000"
          },
          "showarrow": false,
          "text": "222.0",
          "x": 1.55,
          "xanchor": "left",
          "xref": "x1",
          "y": 52,
          "yref": "y1"
         },
         {
          "align": "left",
          "font": {
           "color": "#000000"
          },
          "showarrow": false,
          "text": "1",
          "x": 2.55,
          "xanchor": "left",
          "xref": "x1",
          "y": 52,
          "yref": "y1"
         },
         {
          "align": "left",
          "font": {
           "color": "#000000"
          },
          "showarrow": false,
          "text": "Mozilla Clubs",
          "x": -0.45,
          "xanchor": "left",
          "xref": "x1",
          "y": 53,
          "yref": "y1"
         },
         {
          "align": "left",
          "font": {
           "color": "#000000"
          },
          "showarrow": false,
          "text": "Mozilla Staff",
          "x": 0.55,
          "xanchor": "left",
          "xref": "x1",
          "y": 53,
          "yref": "y1"
         },
         {
          "align": "left",
          "font": {
           "color": "#000000"
          },
          "showarrow": false,
          "text": "198.0",
          "x": 1.55,
          "xanchor": "left",
          "xref": "x1",
          "y": 53,
          "yref": "y1"
         },
         {
          "align": "left",
          "font": {
           "color": "#000000"
          },
          "showarrow": false,
          "text": "9",
          "x": 2.55,
          "xanchor": "left",
          "xref": "x1",
          "y": 53,
          "yref": "y1"
         },
         {
          "align": "left",
          "font": {
           "color": "#000000"
          },
          "showarrow": false,
          "text": "Mozilla Local/Regional communities",
          "x": -0.45,
          "xanchor": "left",
          "xref": "x1",
          "y": 54,
          "yref": "y1"
         },
         {
          "align": "left",
          "font": {
           "color": "#000000"
          },
          "showarrow": false,
          "text": "Mozilla Reps",
          "x": 0.55,
          "xanchor": "left",
          "xref": "x1",
          "y": 54,
          "yref": "y1"
         },
         {
          "align": "left",
          "font": {
           "color": "#000000"
          },
          "showarrow": false,
          "text": "195.0",
          "x": 1.55,
          "xanchor": "left",
          "xref": "x1",
          "y": 54,
          "yref": "y1"
         },
         {
          "align": "left",
          "font": {
           "color": "#000000"
          },
          "showarrow": false,
          "text": "15",
          "x": 2.55,
          "xanchor": "left",
          "xref": "x1",
          "y": 54,
          "yref": "y1"
         },
         {
          "align": "left",
          "font": {
           "color": "#000000"
          },
          "showarrow": false,
          "text": "Addons/Web Extensions",
          "x": -0.45,
          "xanchor": "left",
          "xref": "x1",
          "y": 55,
          "yref": "y1"
         },
         {
          "align": "left",
          "font": {
           "color": "#000000"
          },
          "showarrow": false,
          "text": "Code Sheriff",
          "x": 0.55,
          "xanchor": "left",
          "xref": "x1",
          "y": 55,
          "yref": "y1"
         },
         {
          "align": "left",
          "font": {
           "color": "#000000"
          },
          "showarrow": false,
          "text": "184.0",
          "x": 1.55,
          "xanchor": "left",
          "xref": "x1",
          "y": 55,
          "yref": "y1"
         },
         {
          "align": "left",
          "font": {
           "color": "#000000"
          },
          "showarrow": false,
          "text": "4",
          "x": 2.55,
          "xanchor": "left",
          "xref": "x1",
          "y": 55,
          "yref": "y1"
         },
         {
          "align": "left",
          "font": {
           "color": "#000000"
          },
          "showarrow": false,
          "text": "Campus Clubs (previously Student Ambassadors)",
          "x": -0.45,
          "xanchor": "left",
          "xref": "x1",
          "y": 56,
          "yref": "y1"
         },
         {
          "align": "left",
          "font": {
           "color": "#000000"
          },
          "showarrow": false,
          "text": "Mozilla Staff",
          "x": 0.55,
          "xanchor": "left",
          "xref": "x1",
          "y": 56,
          "yref": "y1"
         },
         {
          "align": "left",
          "font": {
           "color": "#000000"
          },
          "showarrow": false,
          "text": "164.0",
          "x": 1.55,
          "xanchor": "left",
          "xref": "x1",
          "y": 56,
          "yref": "y1"
         },
         {
          "align": "left",
          "font": {
           "color": "#000000"
          },
          "showarrow": false,
          "text": "5",
          "x": 2.55,
          "xanchor": "left",
          "xref": "x1",
          "y": 56,
          "yref": "y1"
         },
         {
          "align": "left",
          "font": {
           "color": "#000000"
          },
          "showarrow": false,
          "text": "Web Properties",
          "x": -0.45,
          "xanchor": "left",
          "xref": "x1",
          "y": 57,
          "yref": "y1"
         },
         {
          "align": "left",
          "font": {
           "color": "#000000"
          },
          "showarrow": false,
          "text": "Mozilla Reps",
          "x": 0.55,
          "xanchor": "left",
          "xref": "x1",
          "y": 57,
          "yref": "y1"
         },
         {
          "align": "left",
          "font": {
           "color": "#000000"
          },
          "showarrow": false,
          "text": "148.0",
          "x": 1.55,
          "xanchor": "left",
          "xref": "x1",
          "y": 57,
          "yref": "y1"
         },
         {
          "align": "left",
          "font": {
           "color": "#000000"
          },
          "showarrow": false,
          "text": "4",
          "x": 2.55,
          "xanchor": "left",
          "xref": "x1",
          "y": 57,
          "yref": "y1"
         },
         {
          "align": "left",
          "font": {
           "color": "#000000"
          },
          "showarrow": false,
          "text": "Mozilla Creative & Design",
          "x": -0.45,
          "xanchor": "left",
          "xref": "x1",
          "y": 58,
          "yref": "y1"
         },
         {
          "align": "left",
          "font": {
           "color": "#000000"
          },
          "showarrow": false,
          "text": "Community",
          "x": 0.55,
          "xanchor": "left",
          "xref": "x1",
          "y": 58,
          "yref": "y1"
         },
         {
          "align": "left",
          "font": {
           "color": "#000000"
          },
          "showarrow": false,
          "text": "106.0",
          "x": 1.55,
          "xanchor": "left",
          "xref": "x1",
          "y": 58,
          "yref": "y1"
         },
         {
          "align": "left",
          "font": {
           "color": "#000000"
          },
          "showarrow": false,
          "text": "2",
          "x": 2.55,
          "xanchor": "left",
          "xref": "x1",
          "y": 58,
          "yref": "y1"
         },
         {
          "align": "left",
          "font": {
           "color": "#000000"
          },
          "showarrow": false,
          "text": "Mozilla Creative & Design",
          "x": -0.45,
          "xanchor": "left",
          "xref": "x1",
          "y": 59,
          "yref": "y1"
         },
         {
          "align": "left",
          "font": {
           "color": "#000000"
          },
          "showarrow": false,
          "text": "Mozilla Staff",
          "x": 0.55,
          "xanchor": "left",
          "xref": "x1",
          "y": 59,
          "yref": "y1"
         },
         {
          "align": "left",
          "font": {
           "color": "#000000"
          },
          "showarrow": false,
          "text": "105.0",
          "x": 1.55,
          "xanchor": "left",
          "xref": "x1",
          "y": 59,
          "yref": "y1"
         },
         {
          "align": "left",
          "font": {
           "color": "#000000"
          },
          "showarrow": false,
          "text": "3",
          "x": 2.55,
          "xanchor": "left",
          "xref": "x1",
          "y": 59,
          "yref": "y1"
         },
         {
          "align": "left",
          "font": {
           "color": "#000000"
          },
          "showarrow": false,
          "text": "Release engineering",
          "x": -0.45,
          "xanchor": "left",
          "xref": "x1",
          "y": 60,
          "yref": "y1"
         },
         {
          "align": "left",
          "font": {
           "color": "#000000"
          },
          "showarrow": false,
          "text": "Code Sheriff",
          "x": 0.55,
          "xanchor": "left",
          "xref": "x1",
          "y": 60,
          "yref": "y1"
         },
         {
          "align": "left",
          "font": {
           "color": "#000000"
          },
          "showarrow": false,
          "text": "104.0",
          "x": 1.55,
          "xanchor": "left",
          "xref": "x1",
          "y": 60,
          "yref": "y1"
         },
         {
          "align": "left",
          "font": {
           "color": "#000000"
          },
          "showarrow": false,
          "text": "5",
          "x": 2.55,
          "xanchor": "left",
          "xref": "x1",
          "y": 60,
          "yref": "y1"
         },
         {
          "align": "left",
          "font": {
           "color": "#000000"
          },
          "showarrow": false,
          "text": "Connected devices & IoT",
          "x": -0.45,
          "xanchor": "left",
          "xref": "x1",
          "y": 61,
          "yref": "y1"
         },
         {
          "align": "left",
          "font": {
           "color": "#000000"
          },
          "showarrow": false,
          "text": "Mozilla Staff",
          "x": 0.55,
          "xanchor": "left",
          "xref": "x1",
          "y": 61,
          "yref": "y1"
         },
         {
          "align": "left",
          "font": {
           "color": "#000000"
          },
          "showarrow": false,
          "text": "79.0",
          "x": 1.55,
          "xanchor": "left",
          "xref": "x1",
          "y": 61,
          "yref": "y1"
         },
         {
          "align": "left",
          "font": {
           "color": "#000000"
          },
          "showarrow": false,
          "text": "1",
          "x": 2.55,
          "xanchor": "left",
          "xref": "x1",
          "y": 61,
          "yref": "y1"
         },
         {
          "align": "left",
          "font": {
           "color": "#000000"
          },
          "showarrow": false,
          "text": "Rust",
          "x": -0.45,
          "xanchor": "left",
          "xref": "x1",
          "y": 62,
          "yref": "y1"
         },
         {
          "align": "left",
          "font": {
           "color": "#000000"
          },
          "showarrow": false,
          "text": "Code Sheriff",
          "x": 0.55,
          "xanchor": "left",
          "xref": "x1",
          "y": 62,
          "yref": "y1"
         },
         {
          "align": "left",
          "font": {
           "color": "#000000"
          },
          "showarrow": false,
          "text": "67.0",
          "x": 1.55,
          "xanchor": "left",
          "xref": "x1",
          "y": 62,
          "yref": "y1"
         },
         {
          "align": "left",
          "font": {
           "color": "#000000"
          },
          "showarrow": false,
          "text": "4",
          "x": 2.55,
          "xanchor": "left",
          "xref": "x1",
          "y": 62,
          "yref": "y1"
         },
         {
          "align": "left",
          "font": {
           "color": "#000000"
          },
          "showarrow": false,
          "text": "Gecko",
          "x": -0.45,
          "xanchor": "left",
          "xref": "x1",
          "y": 63,
          "yref": "y1"
         },
         {
          "align": "left",
          "font": {
           "color": "#000000"
          },
          "showarrow": false,
          "text": "Mozilla Reps",
          "x": 0.55,
          "xanchor": "left",
          "xref": "x1",
          "y": 63,
          "yref": "y1"
         },
         {
          "align": "left",
          "font": {
           "color": "#000000"
          },
          "showarrow": false,
          "text": "66.0",
          "x": 1.55,
          "xanchor": "left",
          "xref": "x1",
          "y": 63,
          "yref": "y1"
         },
         {
          "align": "left",
          "font": {
           "color": "#000000"
          },
          "showarrow": false,
          "text": "3",
          "x": 2.55,
          "xanchor": "left",
          "xref": "x1",
          "y": 63,
          "yref": "y1"
         },
         {
          "align": "left",
          "font": {
           "color": "#000000"
          },
          "showarrow": false,
          "text": "Marketing / Social Media",
          "x": -0.45,
          "xanchor": "left",
          "xref": "x1",
          "y": 64,
          "yref": "y1"
         },
         {
          "align": "left",
          "font": {
           "color": "#000000"
          },
          "showarrow": false,
          "text": "Community",
          "x": 0.55,
          "xanchor": "left",
          "xref": "x1",
          "y": 64,
          "yref": "y1"
         },
         {
          "align": "left",
          "font": {
           "color": "#000000"
          },
          "showarrow": false,
          "text": "59.0",
          "x": 1.55,
          "xanchor": "left",
          "xref": "x1",
          "y": 64,
          "yref": "y1"
         },
         {
          "align": "left",
          "font": {
           "color": "#000000"
          },
          "showarrow": false,
          "text": "7",
          "x": 2.55,
          "xanchor": "left",
          "xref": "x1",
          "y": 64,
          "yref": "y1"
         },
         {
          "align": "left",
          "font": {
           "color": "#000000"
          },
          "showarrow": false,
          "text": "Firefox Android",
          "x": -0.45,
          "xanchor": "left",
          "xref": "x1",
          "y": 65,
          "yref": "y1"
         },
         {
          "align": "left",
          "font": {
           "color": "#000000"
          },
          "showarrow": false,
          "text": "Mozilla Staff",
          "x": 0.55,
          "xanchor": "left",
          "xref": "x1",
          "y": 65,
          "yref": "y1"
         },
         {
          "align": "left",
          "font": {
           "color": "#000000"
          },
          "showarrow": false,
          "text": "53.0",
          "x": 1.55,
          "xanchor": "left",
          "xref": "x1",
          "y": 65,
          "yref": "y1"
         },
         {
          "align": "left",
          "font": {
           "color": "#000000"
          },
          "showarrow": false,
          "text": "2",
          "x": 2.55,
          "xanchor": "left",
          "xref": "x1",
          "y": 65,
          "yref": "y1"
         },
         {
          "align": "left",
          "font": {
           "color": "#000000"
          },
          "showarrow": false,
          "text": "Technical/Developer Evangelism",
          "x": -0.45,
          "xanchor": "left",
          "xref": "x1",
          "y": 66,
          "yref": "y1"
         },
         {
          "align": "left",
          "font": {
           "color": "#000000"
          },
          "showarrow": false,
          "text": "Community",
          "x": 0.55,
          "xanchor": "left",
          "xref": "x1",
          "y": 66,
          "yref": "y1"
         },
         {
          "align": "left",
          "font": {
           "color": "#000000"
          },
          "showarrow": false,
          "text": "43.0",
          "x": 1.55,
          "xanchor": "left",
          "xref": "x1",
          "y": 66,
          "yref": "y1"
         },
         {
          "align": "left",
          "font": {
           "color": "#000000"
          },
          "showarrow": false,
          "text": "6",
          "x": 2.55,
          "xanchor": "left",
          "xref": "x1",
          "y": 66,
          "yref": "y1"
         },
         {
          "align": "left",
          "font": {
           "color": "#000000"
          },
          "showarrow": false,
          "text": "Developer Tools",
          "x": -0.45,
          "xanchor": "left",
          "xref": "x1",
          "y": 67,
          "yref": "y1"
         },
         {
          "align": "left",
          "font": {
           "color": "#000000"
          },
          "showarrow": false,
          "text": "Community",
          "x": 0.55,
          "xanchor": "left",
          "xref": "x1",
          "y": 67,
          "yref": "y1"
         },
         {
          "align": "left",
          "font": {
           "color": "#000000"
          },
          "showarrow": false,
          "text": "34.0",
          "x": 1.55,
          "xanchor": "left",
          "xref": "x1",
          "y": 67,
          "yref": "y1"
         },
         {
          "align": "left",
          "font": {
           "color": "#000000"
          },
          "showarrow": false,
          "text": "2",
          "x": 2.55,
          "xanchor": "left",
          "xref": "x1",
          "y": 67,
          "yref": "y1"
         },
         {
          "align": "left",
          "font": {
           "color": "#000000"
          },
          "showarrow": false,
          "text": "Mozilla Developer Network (MDN)",
          "x": -0.45,
          "xanchor": "left",
          "xref": "x1",
          "y": 68,
          "yref": "y1"
         },
         {
          "align": "left",
          "font": {
           "color": "#000000"
          },
          "showarrow": false,
          "text": "Mozilla Reps",
          "x": 0.55,
          "xanchor": "left",
          "xref": "x1",
          "y": 68,
          "yref": "y1"
         },
         {
          "align": "left",
          "font": {
           "color": "#000000"
          },
          "showarrow": false,
          "text": "32.0",
          "x": 1.55,
          "xanchor": "left",
          "xref": "x1",
          "y": 68,
          "yref": "y1"
         },
         {
          "align": "left",
          "font": {
           "color": "#000000"
          },
          "showarrow": false,
          "text": "1",
          "x": 2.55,
          "xanchor": "left",
          "xref": "x1",
          "y": 68,
          "yref": "y1"
         },
         {
          "align": "left",
          "font": {
           "color": "#000000"
          },
          "showarrow": false,
          "text": "Mozilla Clubs",
          "x": -0.45,
          "xanchor": "left",
          "xref": "x1",
          "y": 69,
          "yref": "y1"
         },
         {
          "align": "left",
          "font": {
           "color": "#000000"
          },
          "showarrow": false,
          "text": "Community",
          "x": 0.55,
          "xanchor": "left",
          "xref": "x1",
          "y": 69,
          "yref": "y1"
         },
         {
          "align": "left",
          "font": {
           "color": "#000000"
          },
          "showarrow": false,
          "text": "26.0",
          "x": 1.55,
          "xanchor": "left",
          "xref": "x1",
          "y": 69,
          "yref": "y1"
         },
         {
          "align": "left",
          "font": {
           "color": "#000000"
          },
          "showarrow": false,
          "text": "5",
          "x": 2.55,
          "xanchor": "left",
          "xref": "x1",
          "y": 69,
          "yref": "y1"
         },
         {
          "align": "left",
          "font": {
           "color": "#000000"
          },
          "showarrow": false,
          "text": "Deep Speech",
          "x": -0.45,
          "xanchor": "left",
          "xref": "x1",
          "y": 70,
          "yref": "y1"
         },
         {
          "align": "left",
          "font": {
           "color": "#000000"
          },
          "showarrow": false,
          "text": "Community",
          "x": 0.55,
          "xanchor": "left",
          "xref": "x1",
          "y": 70,
          "yref": "y1"
         },
         {
          "align": "left",
          "font": {
           "color": "#000000"
          },
          "showarrow": false,
          "text": "21.0",
          "x": 1.55,
          "xanchor": "left",
          "xref": "x1",
          "y": 70,
          "yref": "y1"
         },
         {
          "align": "left",
          "font": {
           "color": "#000000"
          },
          "showarrow": false,
          "text": "1",
          "x": 2.55,
          "xanchor": "left",
          "xref": "x1",
          "y": 70,
          "yref": "y1"
         },
         {
          "align": "left",
          "font": {
           "color": "#000000"
          },
          "showarrow": false,
          "text": "Marketing / Social Media",
          "x": -0.45,
          "xanchor": "left",
          "xref": "x1",
          "y": 71,
          "yref": "y1"
         },
         {
          "align": "left",
          "font": {
           "color": "#000000"
          },
          "showarrow": false,
          "text": "Code Sheriff",
          "x": 0.55,
          "xanchor": "left",
          "xref": "x1",
          "y": 71,
          "yref": "y1"
         },
         {
          "align": "left",
          "font": {
           "color": "#000000"
          },
          "showarrow": false,
          "text": "14.0",
          "x": 1.55,
          "xanchor": "left",
          "xref": "x1",
          "y": 71,
          "yref": "y1"
         },
         {
          "align": "left",
          "font": {
           "color": "#000000"
          },
          "showarrow": false,
          "text": "1",
          "x": 2.55,
          "xanchor": "left",
          "xref": "x1",
          "y": 71,
          "yref": "y1"
         },
         {
          "align": "left",
          "font": {
           "color": "#000000"
          },
          "showarrow": false,
          "text": "Web Properties",
          "x": -0.45,
          "xanchor": "left",
          "xref": "x1",
          "y": 72,
          "yref": "y1"
         },
         {
          "align": "left",
          "font": {
           "color": "#000000"
          },
          "showarrow": false,
          "text": "Code Sheriff",
          "x": 0.55,
          "xanchor": "left",
          "xref": "x1",
          "y": 72,
          "yref": "y1"
         },
         {
          "align": "left",
          "font": {
           "color": "#000000"
          },
          "showarrow": false,
          "text": "13.0",
          "x": 1.55,
          "xanchor": "left",
          "xref": "x1",
          "y": 72,
          "yref": "y1"
         },
         {
          "align": "left",
          "font": {
           "color": "#000000"
          },
          "showarrow": false,
          "text": "6",
          "x": 2.55,
          "xanchor": "left",
          "xref": "x1",
          "y": 72,
          "yref": "y1"
         },
         {
          "align": "left",
          "font": {
           "color": "#000000"
          },
          "showarrow": false,
          "text": "Firefox Focus",
          "x": -0.45,
          "xanchor": "left",
          "xref": "x1",
          "y": 73,
          "yref": "y1"
         },
         {
          "align": "left",
          "font": {
           "color": "#000000"
          },
          "showarrow": false,
          "text": "Community",
          "x": 0.55,
          "xanchor": "left",
          "xref": "x1",
          "y": 73,
          "yref": "y1"
         },
         {
          "align": "left",
          "font": {
           "color": "#000000"
          },
          "showarrow": false,
          "text": "8.0",
          "x": 1.55,
          "xanchor": "left",
          "xref": "x1",
          "y": 73,
          "yref": "y1"
         },
         {
          "align": "left",
          "font": {
           "color": "#000000"
          },
          "showarrow": false,
          "text": "2",
          "x": 2.55,
          "xanchor": "left",
          "xref": "x1",
          "y": 73,
          "yref": "y1"
         },
         {
          "align": "left",
          "font": {
           "color": "#000000"
          },
          "showarrow": false,
          "text": "Servo",
          "x": -0.45,
          "xanchor": "left",
          "xref": "x1",
          "y": 74,
          "yref": "y1"
         },
         {
          "align": "left",
          "font": {
           "color": "#000000"
          },
          "showarrow": false,
          "text": "Mozilla Reps",
          "x": 0.55,
          "xanchor": "left",
          "xref": "x1",
          "y": 74,
          "yref": "y1"
         },
         {
          "align": "left",
          "font": {
           "color": "#000000"
          },
          "showarrow": false,
          "text": "4.0",
          "x": 1.55,
          "xanchor": "left",
          "xref": "x1",
          "y": 74,
          "yref": "y1"
         },
         {
          "align": "left",
          "font": {
           "color": "#000000"
          },
          "showarrow": false,
          "text": "2",
          "x": 2.55,
          "xanchor": "left",
          "xref": "x1",
          "y": 74,
          "yref": "y1"
         },
         {
          "align": "left",
          "font": {
           "color": "#000000"
          },
          "showarrow": false,
          "text": "Advocacy and policy",
          "x": -0.45,
          "xanchor": "left",
          "xref": "x1",
          "y": 75,
          "yref": "y1"
         },
         {
          "align": "left",
          "font": {
           "color": "#000000"
          },
          "showarrow": false,
          "text": "Code Sheriff",
          "x": 0.55,
          "xanchor": "left",
          "xref": "x1",
          "y": 75,
          "yref": "y1"
         },
         {
          "align": "left",
          "font": {
           "color": "#000000"
          },
          "showarrow": false,
          "text": "3.0",
          "x": 1.55,
          "xanchor": "left",
          "xref": "x1",
          "y": 75,
          "yref": "y1"
         },
         {
          "align": "left",
          "font": {
           "color": "#000000"
          },
          "showarrow": false,
          "text": "1",
          "x": 2.55,
          "xanchor": "left",
          "xref": "x1",
          "y": 75,
          "yref": "y1"
         },
         {
          "align": "left",
          "font": {
           "color": "#000000"
          },
          "showarrow": false,
          "text": "Mozilla Local/Regional communities",
          "x": -0.45,
          "xanchor": "left",
          "xref": "x1",
          "y": 76,
          "yref": "y1"
         },
         {
          "align": "left",
          "font": {
           "color": "#000000"
          },
          "showarrow": false,
          "text": "Code Sheriff",
          "x": 0.55,
          "xanchor": "left",
          "xref": "x1",
          "y": 76,
          "yref": "y1"
         },
         {
          "align": "left",
          "font": {
           "color": "#000000"
          },
          "showarrow": false,
          "text": "3.0",
          "x": 1.55,
          "xanchor": "left",
          "xref": "x1",
          "y": 76,
          "yref": "y1"
         },
         {
          "align": "left",
          "font": {
           "color": "#000000"
          },
          "showarrow": false,
          "text": "1",
          "x": 2.55,
          "xanchor": "left",
          "xref": "x1",
          "y": 76,
          "yref": "y1"
         },
         {
          "align": "left",
          "font": {
           "color": "#000000"
          },
          "showarrow": false,
          "text": "Campus Clubs (previously Student Ambassadors)",
          "x": -0.45,
          "xanchor": "left",
          "xref": "x1",
          "y": 77,
          "yref": "y1"
         },
         {
          "align": "left",
          "font": {
           "color": "#000000"
          },
          "showarrow": false,
          "text": "Community",
          "x": 0.55,
          "xanchor": "left",
          "xref": "x1",
          "y": 77,
          "yref": "y1"
         },
         {
          "align": "left",
          "font": {
           "color": "#000000"
          },
          "showarrow": false,
          "text": "2.0",
          "x": 1.55,
          "xanchor": "left",
          "xref": "x1",
          "y": 77,
          "yref": "y1"
         },
         {
          "align": "left",
          "font": {
           "color": "#000000"
          },
          "showarrow": false,
          "text": "1",
          "x": 2.55,
          "xanchor": "left",
          "xref": "x1",
          "y": 77,
          "yref": "y1"
         },
         {
          "align": "left",
          "font": {
           "color": "#000000"
          },
          "showarrow": false,
          "text": "Test Pilot",
          "x": -0.45,
          "xanchor": "left",
          "xref": "x1",
          "y": 78,
          "yref": "y1"
         },
         {
          "align": "left",
          "font": {
           "color": "#000000"
          },
          "showarrow": false,
          "text": "Code Sheriff",
          "x": 0.55,
          "xanchor": "left",
          "xref": "x1",
          "y": 78,
          "yref": "y1"
         },
         {
          "align": "left",
          "font": {
           "color": "#000000"
          },
          "showarrow": false,
          "text": "2.0",
          "x": 1.55,
          "xanchor": "left",
          "xref": "x1",
          "y": 78,
          "yref": "y1"
         },
         {
          "align": "left",
          "font": {
           "color": "#000000"
          },
          "showarrow": false,
          "text": "1",
          "x": 2.55,
          "xanchor": "left",
          "xref": "x1",
          "y": 78,
          "yref": "y1"
         },
         {
          "align": "left",
          "font": {
           "color": "#000000"
          },
          "showarrow": false,
          "text": "Web Literacy",
          "x": -0.45,
          "xanchor": "left",
          "xref": "x1",
          "y": 79,
          "yref": "y1"
         },
         {
          "align": "left",
          "font": {
           "color": "#000000"
          },
          "showarrow": false,
          "text": "Mozilla Reps",
          "x": 0.55,
          "xanchor": "left",
          "xref": "x1",
          "y": 79,
          "yref": "y1"
         },
         {
          "align": "left",
          "font": {
           "color": "#000000"
          },
          "showarrow": false,
          "text": "2.0",
          "x": 1.55,
          "xanchor": "left",
          "xref": "x1",
          "y": 79,
          "yref": "y1"
         },
         {
          "align": "left",
          "font": {
           "color": "#000000"
          },
          "showarrow": false,
          "text": "2",
          "x": 2.55,
          "xanchor": "left",
          "xref": "x1",
          "y": 79,
          "yref": "y1"
         },
         {
          "align": "left",
          "font": {
           "color": "#000000"
          },
          "showarrow": false,
          "text": "Vaani",
          "x": -0.45,
          "xanchor": "left",
          "xref": "x1",
          "y": 80,
          "yref": "y1"
         },
         {
          "align": "left",
          "font": {
           "color": "#000000"
          },
          "showarrow": false,
          "text": "Community",
          "x": 0.55,
          "xanchor": "left",
          "xref": "x1",
          "y": 80,
          "yref": "y1"
         },
         {
          "align": "left",
          "font": {
           "color": "#000000"
          },
          "showarrow": false,
          "text": "2.0",
          "x": 1.55,
          "xanchor": "left",
          "xref": "x1",
          "y": 80,
          "yref": "y1"
         },
         {
          "align": "left",
          "font": {
           "color": "#000000"
          },
          "showarrow": false,
          "text": "1",
          "x": 2.55,
          "xanchor": "left",
          "xref": "x1",
          "y": 80,
          "yref": "y1"
         },
         {
          "align": "left",
          "font": {
           "color": "#000000"
          },
          "showarrow": false,
          "text": "Firefox Android",
          "x": -0.45,
          "xanchor": "left",
          "xref": "x1",
          "y": 81,
          "yref": "y1"
         },
         {
          "align": "left",
          "font": {
           "color": "#000000"
          },
          "showarrow": false,
          "text": "Community",
          "x": 0.55,
          "xanchor": "left",
          "xref": "x1",
          "y": 81,
          "yref": "y1"
         },
         {
          "align": "left",
          "font": {
           "color": "#000000"
          },
          "showarrow": false,
          "text": "1.0",
          "x": 1.55,
          "xanchor": "left",
          "xref": "x1",
          "y": 81,
          "yref": "y1"
         },
         {
          "align": "left",
          "font": {
           "color": "#000000"
          },
          "showarrow": false,
          "text": "1",
          "x": 2.55,
          "xanchor": "left",
          "xref": "x1",
          "y": 81,
          "yref": "y1"
         },
         {
          "align": "left",
          "font": {
           "color": "#000000"
          },
          "showarrow": false,
          "text": "Mozilla Location Service (MLS) / Stumbler",
          "x": -0.45,
          "xanchor": "left",
          "xref": "x1",
          "y": 82,
          "yref": "y1"
         },
         {
          "align": "left",
          "font": {
           "color": "#000000"
          },
          "showarrow": false,
          "text": "Code Sheriff",
          "x": 0.55,
          "xanchor": "left",
          "xref": "x1",
          "y": 82,
          "yref": "y1"
         },
         {
          "align": "left",
          "font": {
           "color": "#000000"
          },
          "showarrow": false,
          "text": "1.0",
          "x": 1.55,
          "xanchor": "left",
          "xref": "x1",
          "y": 82,
          "yref": "y1"
         },
         {
          "align": "left",
          "font": {
           "color": "#000000"
          },
          "showarrow": false,
          "text": "1",
          "x": 2.55,
          "xanchor": "left",
          "xref": "x1",
          "y": 82,
          "yref": "y1"
         }
        ],
        "height": 2540,
        "margin": {
         "b": 0,
         "l": 0,
         "r": 0,
         "t": 0
        },
        "xaxis": {
         "dtick": 1,
         "gridwidth": 2,
         "showticklabels": false,
         "tick0": -0.5,
         "ticks": "",
         "zeroline": false
        },
        "yaxis": {
         "autorange": "reversed",
         "dtick": 1,
         "gridwidth": 2,
         "showticklabels": false,
         "tick0": 0.5,
         "ticks": "",
         "zeroline": false
        }
       }
      },
      "text/html": [
       "<div id=\"574142af-4e2f-4783-a689-cc81a58f9bd9\" style=\"height: 2540px; width: 100%;\" class=\"plotly-graph-div\"></div><script type=\"text/javascript\">require([\"plotly\"], function(Plotly) { window.PLOTLYENV=window.PLOTLYENV || {};window.PLOTLYENV.BASE_URL=\"https://plot.ly\";Plotly.newPlot(\"574142af-4e2f-4783-a689-cc81a58f9bd9\", [{\"opacity\": 0.75, \"showscale\": false, \"colorscale\": [[0, \"#00083e\"], [0.5, \"#ededee\"], [1, \"#ffffff\"]], \"hoverinfo\": \"none\", \"type\": \"heatmap\", \"z\": [[0, 0, 0, 0], [0.5, 0.5, 0.5, 0.5], [1, 1, 1, 1], [0.5, 0.5, 0.5, 0.5], [1, 1, 1, 1], [0.5, 0.5, 0.5, 0.5], [1, 1, 1, 1], [0.5, 0.5, 0.5, 0.5], [1, 1, 1, 1], [0.5, 0.5, 0.5, 0.5], [1, 1, 1, 1], [0.5, 0.5, 0.5, 0.5], [1, 1, 1, 1], [0.5, 0.5, 0.5, 0.5], [1, 1, 1, 1], [0.5, 0.5, 0.5, 0.5], [1, 1, 1, 1], [0.5, 0.5, 0.5, 0.5], [1, 1, 1, 1], [0.5, 0.5, 0.5, 0.5], [1, 1, 1, 1], [0.5, 0.5, 0.5, 0.5], [1, 1, 1, 1], [0.5, 0.5, 0.5, 0.5], [1, 1, 1, 1], [0.5, 0.5, 0.5, 0.5], [1, 1, 1, 1], [0.5, 0.5, 0.5, 0.5], [1, 1, 1, 1], [0.5, 0.5, 0.5, 0.5], [1, 1, 1, 1], [0.5, 0.5, 0.5, 0.5], [1, 1, 1, 1], [0.5, 0.5, 0.5, 0.5], [1, 1, 1, 1], [0.5, 0.5, 0.5, 0.5], [1, 1, 1, 1], [0.5, 0.5, 0.5, 0.5], [1, 1, 1, 1], [0.5, 0.5, 0.5, 0.5], [1, 1, 1, 1], [0.5, 0.5, 0.5, 0.5], [1, 1, 1, 1], [0.5, 0.5, 0.5, 0.5], [1, 1, 1, 1], [0.5, 0.5, 0.5, 0.5], [1, 1, 1, 1], [0.5, 0.5, 0.5, 0.5], [1, 1, 1, 1], [0.5, 0.5, 0.5, 0.5], [1, 1, 1, 1], [0.5, 0.5, 0.5, 0.5], [1, 1, 1, 1], [0.5, 0.5, 0.5, 0.5], [1, 1, 1, 1], [0.5, 0.5, 0.5, 0.5], [1, 1, 1, 1], [0.5, 0.5, 0.5, 0.5], [1, 1, 1, 1], [0.5, 0.5, 0.5, 0.5], [1, 1, 1, 1], [0.5, 0.5, 0.5, 0.5], [1, 1, 1, 1], [0.5, 0.5, 0.5, 0.5], [1, 1, 1, 1], [0.5, 0.5, 0.5, 0.5], [1, 1, 1, 1], [0.5, 0.5, 0.5, 0.5], [1, 1, 1, 1], [0.5, 0.5, 0.5, 0.5], [1, 1, 1, 1], [0.5, 0.5, 0.5, 0.5], [1, 1, 1, 1], [0.5, 0.5, 0.5, 0.5], [1, 1, 1, 1], [0.5, 0.5, 0.5, 0.5], [1, 1, 1, 1], [0.5, 0.5, 0.5, 0.5], [1, 1, 1, 1], [0.5, 0.5, 0.5, 0.5], [1, 1, 1, 1], [0.5, 0.5, 0.5, 0.5], [1, 1, 1, 1]]}], {\"margin\": {\"t\": 0, \"l\": 0, \"b\": 0, \"r\": 0}, \"xaxis\": {\"gridwidth\": 2, \"zeroline\": false, \"tick0\": -0.5, \"ticks\": \"\", \"showticklabels\": false, \"dtick\": 1}, \"yaxis\": {\"gridwidth\": 2, \"autorange\": \"reversed\", \"zeroline\": false, \"showticklabels\": false, \"ticks\": \"\", \"tick0\": 0.5, \"dtick\": 1}, \"height\": 2540, \"annotations\": [{\"xanchor\": \"left\", \"showarrow\": false, \"y\": 0, \"xref\": \"x1\", \"font\": {\"color\": \"#ffffff\"}, \"x\": -0.45, \"yref\": \"y1\", \"align\": \"left\", \"text\": \"<b>Project</b>\"}, {\"xanchor\": \"left\", \"showarrow\": false, \"y\": 0, \"xref\": \"x1\", \"font\": {\"color\": \"#ffffff\"}, \"x\": 0.55, \"yref\": \"y1\", \"align\": \"left\", \"text\": \"<b>Org</b>\"}, {\"xanchor\": \"left\", \"showarrow\": false, \"y\": 0, \"xref\": \"x1\", \"font\": {\"color\": \"#ffffff\"}, \"x\": 1.55, \"yref\": \"y1\", \"align\": \"left\", \"text\": \"<b># Commits</b>\"}, {\"xanchor\": \"left\", \"showarrow\": false, \"y\": 0, \"xref\": \"x1\", \"font\": {\"color\": \"#ffffff\"}, \"x\": 2.55, \"yref\": \"y1\", \"align\": \"left\", \"text\": \"<b>Repo</b>\"}, {\"xanchor\": \"left\", \"showarrow\": false, \"y\": 1, \"xref\": \"x1\", \"font\": {\"color\": \"#000000\"}, \"x\": -0.45, \"yref\": \"y1\", \"align\": \"left\", \"text\": \"Gecko\"}, {\"xanchor\": \"left\", \"showarrow\": false, \"y\": 1, \"xref\": \"x1\", \"font\": {\"color\": \"#000000\"}, \"x\": 0.55, \"yref\": \"y1\", \"align\": \"left\", \"text\": \"Mozilla Staff\"}, {\"xanchor\": \"left\", \"showarrow\": false, \"y\": 1, \"xref\": \"x1\", \"font\": {\"color\": \"#000000\"}, \"x\": 1.55, \"yref\": \"y1\", \"align\": \"left\", \"text\": \"831509.0\"}, {\"xanchor\": \"left\", \"showarrow\": false, \"y\": 1, \"xref\": \"x1\", \"font\": {\"color\": \"#000000\"}, \"x\": 2.55, \"yref\": \"y1\", \"align\": \"left\", \"text\": \"5\"}, {\"xanchor\": \"left\", \"showarrow\": false, \"y\": 2, \"xref\": \"x1\", \"font\": {\"color\": \"#000000\"}, \"x\": -0.45, \"yref\": \"y1\", \"align\": \"left\", \"text\": \"Gecko\"}, {\"xanchor\": \"left\", \"showarrow\": false, \"y\": 2, \"xref\": \"x1\", \"font\": {\"color\": \"#000000\"}, \"x\": 0.55, \"yref\": \"y1\", \"align\": \"left\", \"text\": \"Community\"}, {\"xanchor\": \"left\", \"showarrow\": false, \"y\": 2, \"xref\": \"x1\", \"font\": {\"color\": \"#000000\"}, \"x\": 1.55, \"yref\": \"y1\", \"align\": \"left\", \"text\": \"580664.0\"}, {\"xanchor\": \"left\", \"showarrow\": false, \"y\": 2, \"xref\": \"x1\", \"font\": {\"color\": \"#000000\"}, \"x\": 2.55, \"yref\": \"y1\", \"align\": \"left\", \"text\": \"5\"}, {\"xanchor\": \"left\", \"showarrow\": false, \"y\": 3, \"xref\": \"x1\", \"font\": {\"color\": \"#000000\"}, \"x\": -0.45, \"yref\": \"y1\", \"align\": \"left\", \"text\": \"IT/Ops\"}, {\"xanchor\": \"left\", \"showarrow\": false, \"y\": 3, \"xref\": \"x1\", \"font\": {\"color\": \"#000000\"}, \"x\": 0.55, \"yref\": \"y1\", \"align\": \"left\", \"text\": \"Mozilla Staff\"}, {\"xanchor\": \"left\", \"showarrow\": false, \"y\": 3, \"xref\": \"x1\", \"font\": {\"color\": \"#000000\"}, \"x\": 1.55, \"yref\": \"y1\", \"align\": \"left\", \"text\": \"115882.0\"}, {\"xanchor\": \"left\", \"showarrow\": false, \"y\": 3, \"xref\": \"x1\", \"font\": {\"color\": \"#000000\"}, \"x\": 2.55, \"yref\": \"y1\", \"align\": \"left\", \"text\": \"182\"}, {\"xanchor\": \"left\", \"showarrow\": false, \"y\": 4, \"xref\": \"x1\", \"font\": {\"color\": \"#000000\"}, \"x\": -0.45, \"yref\": \"y1\", \"align\": \"left\", \"text\": \"Web Properties\"}, {\"xanchor\": \"left\", \"showarrow\": false, \"y\": 4, \"xref\": \"x1\", \"font\": {\"color\": \"#000000\"}, \"x\": 0.55, \"yref\": \"y1\", \"align\": \"left\", \"text\": \"Mozilla Staff\"}, {\"xanchor\": \"left\", \"showarrow\": false, \"y\": 4, \"xref\": \"x1\", \"font\": {\"color\": \"#000000\"}, \"x\": 1.55, \"yref\": \"y1\", \"align\": \"left\", \"text\": \"74274.0\"}, {\"xanchor\": \"left\", \"showarrow\": false, \"y\": 4, \"xref\": \"x1\", \"font\": {\"color\": \"#000000\"}, \"x\": 2.55, \"yref\": \"y1\", \"align\": \"left\", \"text\": \"113\"}, {\"xanchor\": \"left\", \"showarrow\": false, \"y\": 5, \"xref\": \"x1\", \"font\": {\"color\": \"#000000\"}, \"x\": -0.45, \"yref\": \"y1\", \"align\": \"left\", \"text\": \"Addons/Web Extensions\"}, {\"xanchor\": \"left\", \"showarrow\": false, \"y\": 5, \"xref\": \"x1\", \"font\": {\"color\": \"#000000\"}, \"x\": 0.55, \"yref\": \"y1\", \"align\": \"left\", \"text\": \"Mozilla Staff\"}, {\"xanchor\": \"left\", \"showarrow\": false, \"y\": 5, \"xref\": \"x1\", \"font\": {\"color\": \"#000000\"}, \"x\": 1.55, \"yref\": \"y1\", \"align\": \"left\", \"text\": \"53981.0\"}, {\"xanchor\": \"left\", \"showarrow\": false, \"y\": 5, \"xref\": \"x1\", \"font\": {\"color\": \"#000000\"}, \"x\": 2.55, \"yref\": \"y1\", \"align\": \"left\", \"text\": \"19\"}, {\"xanchor\": \"left\", \"showarrow\": false, \"y\": 6, \"xref\": \"x1\", \"font\": {\"color\": \"#000000\"}, \"x\": -0.45, \"yref\": \"y1\", \"align\": \"left\", \"text\": \"Gecko\"}, {\"xanchor\": \"left\", \"showarrow\": false, \"y\": 6, \"xref\": \"x1\", \"font\": {\"color\": \"#000000\"}, \"x\": 0.55, \"yref\": \"y1\", \"align\": \"left\", \"text\": \"Code Sheriff\"}, {\"xanchor\": \"left\", \"showarrow\": false, \"y\": 6, \"xref\": \"x1\", \"font\": {\"color\": \"#000000\"}, \"x\": 1.55, \"yref\": \"y1\", \"align\": \"left\", \"text\": \"52512.0\"}, {\"xanchor\": \"left\", \"showarrow\": false, \"y\": 6, \"xref\": \"x1\", \"font\": {\"color\": \"#000000\"}, \"x\": 2.55, \"yref\": \"y1\", \"align\": \"left\", \"text\": \"3\"}, {\"xanchor\": \"left\", \"showarrow\": false, \"y\": 7, \"xref\": \"x1\", \"font\": {\"color\": \"#000000\"}, \"x\": -0.45, \"yref\": \"y1\", \"align\": \"left\", \"text\": \"Rust\"}, {\"xanchor\": \"left\", \"showarrow\": false, \"y\": 7, \"xref\": \"x1\", \"font\": {\"color\": \"#000000\"}, \"x\": 0.55, \"yref\": \"y1\", \"align\": \"left\", \"text\": \"Mozilla Staff\"}, {\"xanchor\": \"left\", \"showarrow\": false, \"y\": 7, \"xref\": \"x1\", \"font\": {\"color\": \"#000000\"}, \"x\": 1.55, \"yref\": \"y1\", \"align\": \"left\", \"text\": \"36024.0\"}, {\"xanchor\": \"left\", \"showarrow\": false, \"y\": 7, \"xref\": \"x1\", \"font\": {\"color\": \"#000000\"}, \"x\": 2.55, \"yref\": \"y1\", \"align\": \"left\", \"text\": \"27\"}, {\"xanchor\": \"left\", \"showarrow\": false, \"y\": 8, \"xref\": \"x1\", \"font\": {\"color\": \"#000000\"}, \"x\": -0.45, \"yref\": \"y1\", \"align\": \"left\", \"text\": \"Servo\"}, {\"xanchor\": \"left\", \"showarrow\": false, \"y\": 8, \"xref\": \"x1\", \"font\": {\"color\": \"#000000\"}, \"x\": 0.55, \"yref\": \"y1\", \"align\": \"left\", \"text\": \"Community\"}, {\"xanchor\": \"left\", \"showarrow\": false, \"y\": 8, \"xref\": \"x1\", \"font\": {\"color\": \"#000000\"}, \"x\": 1.55, \"yref\": \"y1\", \"align\": \"left\", \"text\": \"32594.0\"}, {\"xanchor\": \"left\", \"showarrow\": false, \"y\": 8, \"xref\": \"x1\", \"font\": {\"color\": \"#000000\"}, \"x\": 2.55, \"yref\": \"y1\", \"align\": \"left\", \"text\": \"73\"}, {\"xanchor\": \"left\", \"showarrow\": false, \"y\": 9, \"xref\": \"x1\", \"font\": {\"color\": \"#000000\"}, \"x\": -0.45, \"yref\": \"y1\", \"align\": \"left\", \"text\": \"Rust\"}, {\"xanchor\": \"left\", \"showarrow\": false, \"y\": 9, \"xref\": \"x1\", \"font\": {\"color\": \"#000000\"}, \"x\": 0.55, \"yref\": \"y1\", \"align\": \"left\", \"text\": \"Community\"}, {\"xanchor\": \"left\", \"showarrow\": false, \"y\": 9, \"xref\": \"x1\", \"font\": {\"color\": \"#000000\"}, \"x\": 1.55, \"yref\": \"y1\", \"align\": \"left\", \"text\": \"31342.0\"}, {\"xanchor\": \"left\", \"showarrow\": false, \"y\": 9, \"xref\": \"x1\", \"font\": {\"color\": \"#000000\"}, \"x\": 2.55, \"yref\": \"y1\", \"align\": \"left\", \"text\": \"25\"}, {\"xanchor\": \"left\", \"showarrow\": false, \"y\": 10, \"xref\": \"x1\", \"font\": {\"color\": \"#000000\"}, \"x\": -0.45, \"yref\": \"y1\", \"align\": \"left\", \"text\": \"Servo\"}, {\"xanchor\": \"left\", \"showarrow\": false, \"y\": 10, \"xref\": \"x1\", \"font\": {\"color\": \"#000000\"}, \"x\": 0.55, \"yref\": \"y1\", \"align\": \"left\", \"text\": \"Mozilla Staff\"}, {\"xanchor\": \"left\", \"showarrow\": false, \"y\": 10, \"xref\": \"x1\", \"font\": {\"color\": \"#000000\"}, \"x\": 1.55, \"yref\": \"y1\", \"align\": \"left\", \"text\": \"31092.0\"}, {\"xanchor\": \"left\", \"showarrow\": false, \"y\": 10, \"xref\": \"x1\", \"font\": {\"color\": \"#000000\"}, \"x\": 2.55, \"yref\": \"y1\", \"align\": \"left\", \"text\": \"81\"}, {\"xanchor\": \"left\", \"showarrow\": false, \"y\": 11, \"xref\": \"x1\", \"font\": {\"color\": \"#000000\"}, \"x\": -0.45, \"yref\": \"y1\", \"align\": \"left\", \"text\": \"IT/Ops\"}, {\"xanchor\": \"left\", \"showarrow\": false, \"y\": 11, \"xref\": \"x1\", \"font\": {\"color\": \"#000000\"}, \"x\": 0.55, \"yref\": \"y1\", \"align\": \"left\", \"text\": \"Community\"}, {\"xanchor\": \"left\", \"showarrow\": false, \"y\": 11, \"xref\": \"x1\", \"font\": {\"color\": \"#000000\"}, \"x\": 1.55, \"yref\": \"y1\", \"align\": \"left\", \"text\": \"24449.0\"}, {\"xanchor\": \"left\", \"showarrow\": false, \"y\": 11, \"xref\": \"x1\", \"font\": {\"color\": \"#000000\"}, \"x\": 2.55, \"yref\": \"y1\", \"align\": \"left\", \"text\": \"75\"}, {\"xanchor\": \"left\", \"showarrow\": false, \"y\": 12, \"xref\": \"x1\", \"font\": {\"color\": \"#000000\"}, \"x\": -0.45, \"yref\": \"y1\", \"align\": \"left\", \"text\": \"Release engineering\"}, {\"xanchor\": \"left\", \"showarrow\": false, \"y\": 12, \"xref\": \"x1\", \"font\": {\"color\": \"#000000\"}, \"x\": 0.55, \"yref\": \"y1\", \"align\": \"left\", \"text\": \"Mozilla Staff\"}, {\"xanchor\": \"left\", \"showarrow\": false, \"y\": 12, \"xref\": \"x1\", \"font\": {\"color\": \"#000000\"}, \"x\": 1.55, \"yref\": \"y1\", \"align\": \"left\", \"text\": \"14875.0\"}, {\"xanchor\": \"left\", \"showarrow\": false, \"y\": 12, \"xref\": \"x1\", \"font\": {\"color\": \"#000000\"}, \"x\": 2.55, \"yref\": \"y1\", \"align\": \"left\", \"text\": \"22\"}, {\"xanchor\": \"left\", \"showarrow\": false, \"y\": 13, \"xref\": \"x1\", \"font\": {\"color\": \"#000000\"}, \"x\": -0.45, \"yref\": \"y1\", \"align\": \"left\", \"text\": \"Web Properties\"}, {\"xanchor\": \"left\", \"showarrow\": false, \"y\": 13, \"xref\": \"x1\", \"font\": {\"color\": \"#000000\"}, \"x\": 0.55, \"yref\": \"y1\", \"align\": \"left\", \"text\": \"Community\"}, {\"xanchor\": \"left\", \"showarrow\": false, \"y\": 13, \"xref\": \"x1\", \"font\": {\"color\": \"#000000\"}, \"x\": 1.55, \"yref\": \"y1\", \"align\": \"left\", \"text\": \"13063.0\"}, {\"xanchor\": \"left\", \"showarrow\": false, \"y\": 13, \"xref\": \"x1\", \"font\": {\"color\": \"#000000\"}, \"x\": 2.55, \"yref\": \"y1\", \"align\": \"left\", \"text\": \"91\"}, {\"xanchor\": \"left\", \"showarrow\": false, \"y\": 14, \"xref\": \"x1\", \"font\": {\"color\": \"#000000\"}, \"x\": -0.45, \"yref\": \"y1\", \"align\": \"left\", \"text\": \"Mozilla Local/Regional communities\"}, {\"xanchor\": \"left\", \"showarrow\": false, \"y\": 14, \"xref\": \"x1\", \"font\": {\"color\": \"#000000\"}, \"x\": 0.55, \"yref\": \"y1\", \"align\": \"left\", \"text\": \"Community\"}, {\"xanchor\": \"left\", \"showarrow\": false, \"y\": 14, \"xref\": \"x1\", \"font\": {\"color\": \"#000000\"}, \"x\": 1.55, \"yref\": \"y1\", \"align\": \"left\", \"text\": \"9828.0\"}, {\"xanchor\": \"left\", \"showarrow\": false, \"y\": 14, \"xref\": \"x1\", \"font\": {\"color\": \"#000000\"}, \"x\": 2.55, \"yref\": \"y1\", \"align\": \"left\", \"text\": \"143\"}, {\"xanchor\": \"left\", \"showarrow\": false, \"y\": 15, \"xref\": \"x1\", \"font\": {\"color\": \"#000000\"}, \"x\": -0.45, \"yref\": \"y1\", \"align\": \"left\", \"text\": \"Mozilla Local/Regional communities\"}, {\"xanchor\": \"left\", \"showarrow\": false, \"y\": 15, \"xref\": \"x1\", \"font\": {\"color\": \"#000000\"}, \"x\": 0.55, \"yref\": \"y1\", \"align\": \"left\", \"text\": \"Mozilla Staff\"}, {\"xanchor\": \"left\", \"showarrow\": false, \"y\": 15, \"xref\": \"x1\", \"font\": {\"color\": \"#000000\"}, \"x\": 1.55, \"yref\": \"y1\", \"align\": \"left\", \"text\": \"7458.0\"}, {\"xanchor\": \"left\", \"showarrow\": false, \"y\": 15, \"xref\": \"x1\", \"font\": {\"color\": \"#000000\"}, \"x\": 2.55, \"yref\": \"y1\", \"align\": \"left\", \"text\": \"77\"}, {\"xanchor\": \"left\", \"showarrow\": false, \"y\": 16, \"xref\": \"x1\", \"font\": {\"color\": \"#000000\"}, \"x\": -0.45, \"yref\": \"y1\", \"align\": \"left\", \"text\": \"Addons/Web Extensions\"}, {\"xanchor\": \"left\", \"showarrow\": false, \"y\": 16, \"xref\": \"x1\", \"font\": {\"color\": \"#000000\"}, \"x\": 0.55, \"yref\": \"y1\", \"align\": \"left\", \"text\": \"Community\"}, {\"xanchor\": \"left\", \"showarrow\": false, \"y\": 16, \"xref\": \"x1\", \"font\": {\"color\": \"#000000\"}, \"x\": 1.55, \"yref\": \"y1\", \"align\": \"left\", \"text\": \"7434.0\"}, {\"xanchor\": \"left\", \"showarrow\": false, \"y\": 16, \"xref\": \"x1\", \"font\": {\"color\": \"#000000\"}, \"x\": 2.55, \"yref\": \"y1\", \"align\": \"left\", \"text\": \"11\"}, {\"xanchor\": \"left\", \"showarrow\": false, \"y\": 17, \"xref\": \"x1\", \"font\": {\"color\": \"#000000\"}, \"x\": -0.45, \"yref\": \"y1\", \"align\": \"left\", \"text\": \"Web Literacy\"}, {\"xanchor\": \"left\", \"showarrow\": false, \"y\": 17, \"xref\": \"x1\", \"font\": {\"color\": \"#000000\"}, \"x\": 0.55, \"yref\": \"y1\", \"align\": \"left\", \"text\": \"Community\"}, {\"xanchor\": \"left\", \"showarrow\": false, \"y\": 17, \"xref\": \"x1\", \"font\": {\"color\": \"#000000\"}, \"x\": 1.55, \"yref\": \"y1\", \"align\": \"left\", \"text\": \"7330.0\"}, {\"xanchor\": \"left\", \"showarrow\": false, \"y\": 17, \"xref\": \"x1\", \"font\": {\"color\": \"#000000\"}, \"x\": 2.55, \"yref\": \"y1\", \"align\": \"left\", \"text\": \"40\"}, {\"xanchor\": \"left\", \"showarrow\": false, \"y\": 18, \"xref\": \"x1\", \"font\": {\"color\": \"#000000\"}, \"x\": -0.45, \"yref\": \"y1\", \"align\": \"left\", \"text\": \"Web Literacy\"}, {\"xanchor\": \"left\", \"showarrow\": false, \"y\": 18, \"xref\": \"x1\", \"font\": {\"color\": \"#000000\"}, \"x\": 0.55, \"yref\": \"y1\", \"align\": \"left\", \"text\": \"Mozilla Staff\"}, {\"xanchor\": \"left\", \"showarrow\": false, \"y\": 18, \"xref\": \"x1\", \"font\": {\"color\": \"#000000\"}, \"x\": 1.55, \"yref\": \"y1\", \"align\": \"left\", \"text\": \"6587.0\"}, {\"xanchor\": \"left\", \"showarrow\": false, \"y\": 18, \"xref\": \"x1\", \"font\": {\"color\": \"#000000\"}, \"x\": 2.55, \"yref\": \"y1\", \"align\": \"left\", \"text\": \"51\"}, {\"xanchor\": \"left\", \"showarrow\": false, \"y\": 19, \"xref\": \"x1\", \"font\": {\"color\": \"#000000\"}, \"x\": -0.45, \"yref\": \"y1\", \"align\": \"left\", \"text\": \"Firefox iOS\"}, {\"xanchor\": \"left\", \"showarrow\": false, \"y\": 19, \"xref\": \"x1\", \"font\": {\"color\": \"#000000\"}, \"x\": 0.55, \"yref\": \"y1\", \"align\": \"left\", \"text\": \"Mozilla Staff\"}, {\"xanchor\": \"left\", \"showarrow\": false, \"y\": 19, \"xref\": \"x1\", \"font\": {\"color\": \"#000000\"}, \"x\": 1.55, \"yref\": \"y1\", \"align\": \"left\", \"text\": \"5935.0\"}, {\"xanchor\": \"left\", \"showarrow\": false, \"y\": 19, \"xref\": \"x1\", \"font\": {\"color\": \"#000000\"}, \"x\": 2.55, \"yref\": \"y1\", \"align\": \"left\", \"text\": \"5\"}, {\"xanchor\": \"left\", \"showarrow\": false, \"y\": 20, \"xref\": \"x1\", \"font\": {\"color\": \"#000000\"}, \"x\": -0.45, \"yref\": \"y1\", \"align\": \"left\", \"text\": \"Firefox OS (FxOS / B2G)\"}, {\"xanchor\": \"left\", \"showarrow\": false, \"y\": 20, \"xref\": \"x1\", \"font\": {\"color\": \"#000000\"}, \"x\": 0.55, \"yref\": \"y1\", \"align\": \"left\", \"text\": \"Mozilla Staff\"}, {\"xanchor\": \"left\", \"showarrow\": false, \"y\": 20, \"xref\": \"x1\", \"font\": {\"color\": \"#000000\"}, \"x\": 1.55, \"yref\": \"y1\", \"align\": \"left\", \"text\": \"5914.0\"}, {\"xanchor\": \"left\", \"showarrow\": false, \"y\": 20, \"xref\": \"x1\", \"font\": {\"color\": \"#000000\"}, \"x\": 2.55, \"yref\": \"y1\", \"align\": \"left\", \"text\": \"26\"}, {\"xanchor\": \"left\", \"showarrow\": false, \"y\": 21, \"xref\": \"x1\", \"font\": {\"color\": \"#000000\"}, \"x\": -0.45, \"yref\": \"y1\", \"align\": \"left\", \"text\": \"WebVR\"}, {\"xanchor\": \"left\", \"showarrow\": false, \"y\": 21, \"xref\": \"x1\", \"font\": {\"color\": \"#000000\"}, \"x\": 0.55, \"yref\": \"y1\", \"align\": \"left\", \"text\": \"Mozilla Staff\"}, {\"xanchor\": \"left\", \"showarrow\": false, \"y\": 21, \"xref\": \"x1\", \"font\": {\"color\": \"#000000\"}, \"x\": 1.55, \"yref\": \"y1\", \"align\": \"left\", \"text\": \"5851.0\"}, {\"xanchor\": \"left\", \"showarrow\": false, \"y\": 21, \"xref\": \"x1\", \"font\": {\"color\": \"#000000\"}, \"x\": 2.55, \"yref\": \"y1\", \"align\": \"left\", \"text\": \"29\"}, {\"xanchor\": \"left\", \"showarrow\": false, \"y\": 22, \"xref\": \"x1\", \"font\": {\"color\": \"#000000\"}, \"x\": -0.45, \"yref\": \"y1\", \"align\": \"left\", \"text\": \"Quality Assurance\"}, {\"xanchor\": \"left\", \"showarrow\": false, \"y\": 22, \"xref\": \"x1\", \"font\": {\"color\": \"#000000\"}, \"x\": 0.55, \"yref\": \"y1\", \"align\": \"left\", \"text\": \"Mozilla Staff\"}, {\"xanchor\": \"left\", \"showarrow\": false, \"y\": 22, \"xref\": \"x1\", \"font\": {\"color\": \"#000000\"}, \"x\": 1.55, \"yref\": \"y1\", \"align\": \"left\", \"text\": \"3812.0\"}, {\"xanchor\": \"left\", \"showarrow\": false, \"y\": 22, \"xref\": \"x1\", \"font\": {\"color\": \"#000000\"}, \"x\": 2.55, \"yref\": \"y1\", \"align\": \"left\", \"text\": \"3\"}, {\"xanchor\": \"left\", \"showarrow\": false, \"y\": 23, \"xref\": \"x1\", \"font\": {\"color\": \"#000000\"}, \"x\": -0.45, \"yref\": \"y1\", \"align\": \"left\", \"text\": \"Servo\"}, {\"xanchor\": \"left\", \"showarrow\": false, \"y\": 23, \"xref\": \"x1\", \"font\": {\"color\": \"#000000\"}, \"x\": 0.55, \"yref\": \"y1\", \"align\": \"left\", \"text\": \"Code Sheriff\"}, {\"xanchor\": \"left\", \"showarrow\": false, \"y\": 23, \"xref\": \"x1\", \"font\": {\"color\": \"#000000\"}, \"x\": 1.55, \"yref\": \"y1\", \"align\": \"left\", \"text\": \"3594.0\"}, {\"xanchor\": \"left\", \"showarrow\": false, \"y\": 23, \"xref\": \"x1\", \"font\": {\"color\": \"#000000\"}, \"x\": 2.55, \"yref\": \"y1\", \"align\": \"left\", \"text\": \"40\"}, {\"xanchor\": \"left\", \"showarrow\": false, \"y\": 24, \"xref\": \"x1\", \"font\": {\"color\": \"#000000\"}, \"x\": -0.45, \"yref\": \"y1\", \"align\": \"left\", \"text\": \"Mozilla Developer Network (MDN)\"}, {\"xanchor\": \"left\", \"showarrow\": false, \"y\": 24, \"xref\": \"x1\", \"font\": {\"color\": \"#000000\"}, \"x\": 0.55, \"yref\": \"y1\", \"align\": \"left\", \"text\": \"Mozilla Staff\"}, {\"xanchor\": \"left\", \"showarrow\": false, \"y\": 24, \"xref\": \"x1\", \"font\": {\"color\": \"#000000\"}, \"x\": 1.55, \"yref\": \"y1\", \"align\": \"left\", \"text\": \"3181.0\"}, {\"xanchor\": \"left\", \"showarrow\": false, \"y\": 24, \"xref\": \"x1\", \"font\": {\"color\": \"#000000\"}, \"x\": 2.55, \"yref\": \"y1\", \"align\": \"left\", \"text\": \"47\"}, {\"xanchor\": \"left\", \"showarrow\": false, \"y\": 25, \"xref\": \"x1\", \"font\": {\"color\": \"#000000\"}, \"x\": -0.45, \"yref\": \"y1\", \"align\": \"left\", \"text\": \"Mozilla Science\"}, {\"xanchor\": \"left\", \"showarrow\": false, \"y\": 25, \"xref\": \"x1\", \"font\": {\"color\": \"#000000\"}, \"x\": 0.55, \"yref\": \"y1\", \"align\": \"left\", \"text\": \"Community\"}, {\"xanchor\": \"left\", \"showarrow\": false, \"y\": 25, \"xref\": \"x1\", \"font\": {\"color\": \"#000000\"}, \"x\": 1.55, \"yref\": \"y1\", \"align\": \"left\", \"text\": \"2608.0\"}, {\"xanchor\": \"left\", \"showarrow\": false, \"y\": 25, \"xref\": \"x1\", \"font\": {\"color\": \"#000000\"}, \"x\": 2.55, \"yref\": \"y1\", \"align\": \"left\", \"text\": \"34\"}, {\"xanchor\": \"left\", \"showarrow\": false, \"y\": 26, \"xref\": \"x1\", \"font\": {\"color\": \"#000000\"}, \"x\": -0.45, \"yref\": \"y1\", \"align\": \"left\", \"text\": \"Marketing / Social Media\"}, {\"xanchor\": \"left\", \"showarrow\": false, \"y\": 26, \"xref\": \"x1\", \"font\": {\"color\": \"#000000\"}, \"x\": 0.55, \"yref\": \"y1\", \"align\": \"left\", \"text\": \"Mozilla Staff\"}, {\"xanchor\": \"left\", \"showarrow\": false, \"y\": 26, \"xref\": \"x1\", \"font\": {\"color\": \"#000000\"}, \"x\": 1.55, \"yref\": \"y1\", \"align\": \"left\", \"text\": \"2156.0\"}, {\"xanchor\": \"left\", \"showarrow\": false, \"y\": 26, \"xref\": \"x1\", \"font\": {\"color\": \"#000000\"}, \"x\": 2.55, \"yref\": \"y1\", \"align\": \"left\", \"text\": \"15\"}, {\"xanchor\": \"left\", \"showarrow\": false, \"y\": 27, \"xref\": \"x1\", \"font\": {\"color\": \"#000000\"}, \"x\": -0.45, \"yref\": \"y1\", \"align\": \"left\", \"text\": \"Test Pilot\"}, {\"xanchor\": \"left\", \"showarrow\": false, \"y\": 27, \"xref\": \"x1\", \"font\": {\"color\": \"#000000\"}, \"x\": 0.55, \"yref\": \"y1\", \"align\": \"left\", \"text\": \"Mozilla Staff\"}, {\"xanchor\": \"left\", \"showarrow\": false, \"y\": 27, \"xref\": \"x1\", \"font\": {\"color\": \"#000000\"}, \"x\": 1.55, \"yref\": \"y1\", \"align\": \"left\", \"text\": \"1873.0\"}, {\"xanchor\": \"left\", \"showarrow\": false, \"y\": 27, \"xref\": \"x1\", \"font\": {\"color\": \"#000000\"}, \"x\": 2.55, \"yref\": \"y1\", \"align\": \"left\", \"text\": \"6\"}, {\"xanchor\": \"left\", \"showarrow\": false, \"y\": 28, \"xref\": \"x1\", \"font\": {\"color\": \"#000000\"}, \"x\": -0.45, \"yref\": \"y1\", \"align\": \"left\", \"text\": \"IT/Ops\"}, {\"xanchor\": \"left\", \"showarrow\": false, \"y\": 28, \"xref\": \"x1\", \"font\": {\"color\": \"#000000\"}, \"x\": 0.55, \"yref\": \"y1\", \"align\": \"left\", \"text\": \"Code Sheriff\"}, {\"xanchor\": \"left\", \"showarrow\": false, \"y\": 28, \"xref\": \"x1\", \"font\": {\"color\": \"#000000\"}, \"x\": 1.55, \"yref\": \"y1\", \"align\": \"left\", \"text\": \"1748.0\"}, {\"xanchor\": \"left\", \"showarrow\": false, \"y\": 28, \"xref\": \"x1\", \"font\": {\"color\": \"#000000\"}, \"x\": 2.55, \"yref\": \"y1\", \"align\": \"left\", \"text\": \"3\"}, {\"xanchor\": \"left\", \"showarrow\": false, \"y\": 29, \"xref\": \"x1\", \"font\": {\"color\": \"#000000\"}, \"x\": -0.45, \"yref\": \"y1\", \"align\": \"left\", \"text\": \"Mozilla Location Service (MLS) / Stumbler\"}, {\"xanchor\": \"left\", \"showarrow\": false, \"y\": 29, \"xref\": \"x1\", \"font\": {\"color\": \"#000000\"}, \"x\": 0.55, \"yref\": \"y1\", \"align\": \"left\", \"text\": \"Mozilla Staff\"}, {\"xanchor\": \"left\", \"showarrow\": false, \"y\": 29, \"xref\": \"x1\", \"font\": {\"color\": \"#000000\"}, \"x\": 1.55, \"yref\": \"y1\", \"align\": \"left\", \"text\": \"1375.0\"}, {\"xanchor\": \"left\", \"showarrow\": false, \"y\": 29, \"xref\": \"x1\", \"font\": {\"color\": \"#000000\"}, \"x\": 2.55, \"yref\": \"y1\", \"align\": \"left\", \"text\": \"1\"}, {\"xanchor\": \"left\", \"showarrow\": false, \"y\": 30, \"xref\": \"x1\", \"font\": {\"color\": \"#000000\"}, \"x\": -0.45, \"yref\": \"y1\", \"align\": \"left\", \"text\": \"Firefox Focus\"}, {\"xanchor\": \"left\", \"showarrow\": false, \"y\": 30, \"xref\": \"x1\", \"font\": {\"color\": \"#000000\"}, \"x\": 0.55, \"yref\": \"y1\", \"align\": \"left\", \"text\": \"Mozilla Staff\"}, {\"xanchor\": \"left\", \"showarrow\": false, \"y\": 30, \"xref\": \"x1\", \"font\": {\"color\": \"#000000\"}, \"x\": 1.55, \"yref\": \"y1\", \"align\": \"left\", \"text\": \"1254.0\"}, {\"xanchor\": \"left\", \"showarrow\": false, \"y\": 30, \"xref\": \"x1\", \"font\": {\"color\": \"#000000\"}, \"x\": 2.55, \"yref\": \"y1\", \"align\": \"left\", \"text\": \"2\"}, {\"xanchor\": \"left\", \"showarrow\": false, \"y\": 31, \"xref\": \"x1\", \"font\": {\"color\": \"#000000\"}, \"x\": -0.45, \"yref\": \"y1\", \"align\": \"left\", \"text\": \"WebVR\"}, {\"xanchor\": \"left\", \"showarrow\": false, \"y\": 31, \"xref\": \"x1\", \"font\": {\"color\": \"#000000\"}, \"x\": 0.55, \"yref\": \"y1\", \"align\": \"left\", \"text\": \"Community\"}, {\"xanchor\": \"left\", \"showarrow\": false, \"y\": 31, \"xref\": \"x1\", \"font\": {\"color\": \"#000000\"}, \"x\": 1.55, \"yref\": \"y1\", \"align\": \"left\", \"text\": \"1217.0\"}, {\"xanchor\": \"left\", \"showarrow\": false, \"y\": 31, \"xref\": \"x1\", \"font\": {\"color\": \"#000000\"}, \"x\": 2.55, \"yref\": \"y1\", \"align\": \"left\", \"text\": \"19\"}, {\"xanchor\": \"left\", \"showarrow\": false, \"y\": 32, \"xref\": \"x1\", \"font\": {\"color\": \"#000000\"}, \"x\": -0.45, \"yref\": \"y1\", \"align\": \"left\", \"text\": \"Test Pilot\"}, {\"xanchor\": \"left\", \"showarrow\": false, \"y\": 32, \"xref\": \"x1\", \"font\": {\"color\": \"#000000\"}, \"x\": 0.55, \"yref\": \"y1\", \"align\": \"left\", \"text\": \"Community\"}, {\"xanchor\": \"left\", \"showarrow\": false, \"y\": 32, \"xref\": \"x1\", \"font\": {\"color\": \"#000000\"}, \"x\": 1.55, \"yref\": \"y1\", \"align\": \"left\", \"text\": \"1186.0\"}, {\"xanchor\": \"left\", \"showarrow\": false, \"y\": 32, \"xref\": \"x1\", \"font\": {\"color\": \"#000000\"}, \"x\": 2.55, \"yref\": \"y1\", \"align\": \"left\", \"text\": \"2\"}, {\"xanchor\": \"left\", \"showarrow\": false, \"y\": 33, \"xref\": \"x1\", \"font\": {\"color\": \"#000000\"}, \"x\": -0.45, \"yref\": \"y1\", \"align\": \"left\", \"text\": \"Localization\"}, {\"xanchor\": \"left\", \"showarrow\": false, \"y\": 33, \"xref\": \"x1\", \"font\": {\"color\": \"#000000\"}, \"x\": 0.55, \"yref\": \"y1\", \"align\": \"left\", \"text\": \"Mozilla Staff\"}, {\"xanchor\": \"left\", \"showarrow\": false, \"y\": 33, \"xref\": \"x1\", \"font\": {\"color\": \"#000000\"}, \"x\": 1.55, \"yref\": \"y1\", \"align\": \"left\", \"text\": \"1073.0\"}, {\"xanchor\": \"left\", \"showarrow\": false, \"y\": 33, \"xref\": \"x1\", \"font\": {\"color\": \"#000000\"}, \"x\": 2.55, \"yref\": \"y1\", \"align\": \"left\", \"text\": \"4\"}, {\"xanchor\": \"left\", \"showarrow\": false, \"y\": 34, \"xref\": \"x1\", \"font\": {\"color\": \"#000000\"}, \"x\": -0.45, \"yref\": \"y1\", \"align\": \"left\", \"text\": \"Quality Assurance\"}, {\"xanchor\": \"left\", \"showarrow\": false, \"y\": 34, \"xref\": \"x1\", \"font\": {\"color\": \"#000000\"}, \"x\": 0.55, \"yref\": \"y1\", \"align\": \"left\", \"text\": \"Community\"}, {\"xanchor\": \"left\", \"showarrow\": false, \"y\": 34, \"xref\": \"x1\", \"font\": {\"color\": \"#000000\"}, \"x\": 1.55, \"yref\": \"y1\", \"align\": \"left\", \"text\": \"1072.0\"}, {\"xanchor\": \"left\", \"showarrow\": false, \"y\": 34, \"xref\": \"x1\", \"font\": {\"color\": \"#000000\"}, \"x\": 2.55, \"yref\": \"y1\", \"align\": \"left\", \"text\": \"2\"}, {\"xanchor\": \"left\", \"showarrow\": false, \"y\": 35, \"xref\": \"x1\", \"font\": {\"color\": \"#000000\"}, \"x\": -0.45, \"yref\": \"y1\", \"align\": \"left\", \"text\": \"Firefox\"}, {\"xanchor\": \"left\", \"showarrow\": false, \"y\": 35, \"xref\": \"x1\", \"font\": {\"color\": \"#000000\"}, \"x\": 0.55, \"yref\": \"y1\", \"align\": \"left\", \"text\": \"Mozilla Staff\"}, {\"xanchor\": \"left\", \"showarrow\": false, \"y\": 35, \"xref\": \"x1\", \"font\": {\"color\": \"#000000\"}, \"x\": 1.55, \"yref\": \"y1\", \"align\": \"left\", \"text\": \"1072.0\"}, {\"xanchor\": \"left\", \"showarrow\": false, \"y\": 35, \"xref\": \"x1\", \"font\": {\"color\": \"#000000\"}, \"x\": 2.55, \"yref\": \"y1\", \"align\": \"left\", \"text\": \"1\"}, {\"xanchor\": \"left\", \"showarrow\": false, \"y\": 36, \"xref\": \"x1\", \"font\": {\"color\": \"#000000\"}, \"x\": -0.45, \"yref\": \"y1\", \"align\": \"left\", \"text\": \"Advocacy and policy\"}, {\"xanchor\": \"left\", \"showarrow\": false, \"y\": 36, \"xref\": \"x1\", \"font\": {\"color\": \"#000000\"}, \"x\": 0.55, \"yref\": \"y1\", \"align\": \"left\", \"text\": \"Mozilla Staff\"}, {\"xanchor\": \"left\", \"showarrow\": false, \"y\": 36, \"xref\": \"x1\", \"font\": {\"color\": \"#000000\"}, \"x\": 1.55, \"yref\": \"y1\", \"align\": \"left\", \"text\": \"1031.0\"}, {\"xanchor\": \"left\", \"showarrow\": false, \"y\": 36, \"xref\": \"x1\", \"font\": {\"color\": \"#000000\"}, \"x\": 2.55, \"yref\": \"y1\", \"align\": \"left\", \"text\": \"4\"}, {\"xanchor\": \"left\", \"showarrow\": false, \"y\": 37, \"xref\": \"x1\", \"font\": {\"color\": \"#000000\"}, \"x\": -0.45, \"yref\": \"y1\", \"align\": \"left\", \"text\": \"Mozilla Science\"}, {\"xanchor\": \"left\", \"showarrow\": false, \"y\": 37, \"xref\": \"x1\", \"font\": {\"color\": \"#000000\"}, \"x\": 0.55, \"yref\": \"y1\", \"align\": \"left\", \"text\": \"Mozilla Staff\"}, {\"xanchor\": \"left\", \"showarrow\": false, \"y\": 37, \"xref\": \"x1\", \"font\": {\"color\": \"#000000\"}, \"x\": 1.55, \"yref\": \"y1\", \"align\": \"left\", \"text\": \"954.0\"}, {\"xanchor\": \"left\", \"showarrow\": false, \"y\": 37, \"xref\": \"x1\", \"font\": {\"color\": \"#000000\"}, \"x\": 2.55, \"yref\": \"y1\", \"align\": \"left\", \"text\": \"21\"}, {\"xanchor\": \"left\", \"showarrow\": false, \"y\": 38, \"xref\": \"x1\", \"font\": {\"color\": \"#000000\"}, \"x\": -0.45, \"yref\": \"y1\", \"align\": \"left\", \"text\": \"Localization\"}, {\"xanchor\": \"left\", \"showarrow\": false, \"y\": 38, \"xref\": \"x1\", \"font\": {\"color\": \"#000000\"}, \"x\": 0.55, \"yref\": \"y1\", \"align\": \"left\", \"text\": \"Community\"}, {\"xanchor\": \"left\", \"showarrow\": false, \"y\": 38, \"xref\": \"x1\", \"font\": {\"color\": \"#000000\"}, \"x\": 1.55, \"yref\": \"y1\", \"align\": \"left\", \"text\": \"940.0\"}, {\"xanchor\": \"left\", \"showarrow\": false, \"y\": 38, \"xref\": \"x1\", \"font\": {\"color\": \"#000000\"}, \"x\": 2.55, \"yref\": \"y1\", \"align\": \"left\", \"text\": \"4\"}, {\"xanchor\": \"left\", \"showarrow\": false, \"y\": 39, \"xref\": \"x1\", \"font\": {\"color\": \"#000000\"}, \"x\": -0.45, \"yref\": \"y1\", \"align\": \"left\", \"text\": \"Release engineering\"}, {\"xanchor\": \"left\", \"showarrow\": false, \"y\": 39, \"xref\": \"x1\", \"font\": {\"color\": \"#000000\"}, \"x\": 0.55, \"yref\": \"y1\", \"align\": \"left\", \"text\": \"Community\"}, {\"xanchor\": \"left\", \"showarrow\": false, \"y\": 39, \"xref\": \"x1\", \"font\": {\"color\": \"#000000\"}, \"x\": 1.55, \"yref\": \"y1\", \"align\": \"left\", \"text\": \"844.0\"}, {\"xanchor\": \"left\", \"showarrow\": false, \"y\": 39, \"xref\": \"x1\", \"font\": {\"color\": \"#000000\"}, \"x\": 2.55, \"yref\": \"y1\", \"align\": \"left\", \"text\": \"9\"}, {\"xanchor\": \"left\", \"showarrow\": false, \"y\": 40, \"xref\": \"x1\", \"font\": {\"color\": \"#000000\"}, \"x\": -0.45, \"yref\": \"y1\", \"align\": \"left\", \"text\": \"Mozilla Foundation\"}, {\"xanchor\": \"left\", \"showarrow\": false, \"y\": 40, \"xref\": \"x1\", \"font\": {\"color\": \"#000000\"}, \"x\": 0.55, \"yref\": \"y1\", \"align\": \"left\", \"text\": \"Mozilla Staff\"}, {\"xanchor\": \"left\", \"showarrow\": false, \"y\": 40, \"xref\": \"x1\", \"font\": {\"color\": \"#000000\"}, \"x\": 1.55, \"yref\": \"y1\", \"align\": \"left\", \"text\": \"816.0\"}, {\"xanchor\": \"left\", \"showarrow\": false, \"y\": 40, \"xref\": \"x1\", \"font\": {\"color\": \"#000000\"}, \"x\": 2.55, \"yref\": \"y1\", \"align\": \"left\", \"text\": \"36\"}, {\"xanchor\": \"left\", \"showarrow\": false, \"y\": 41, \"xref\": \"x1\", \"font\": {\"color\": \"#000000\"}, \"x\": -0.45, \"yref\": \"y1\", \"align\": \"left\", \"text\": \"Technical/Developer Evangelism\"}, {\"xanchor\": \"left\", \"showarrow\": false, \"y\": 41, \"xref\": \"x1\", \"font\": {\"color\": \"#000000\"}, \"x\": 0.55, \"yref\": \"y1\", \"align\": \"left\", \"text\": \"Mozilla Staff\"}, {\"xanchor\": \"left\", \"showarrow\": false, \"y\": 41, \"xref\": \"x1\", \"font\": {\"color\": \"#000000\"}, \"x\": 1.55, \"yref\": \"y1\", \"align\": \"left\", \"text\": \"814.0\"}, {\"xanchor\": \"left\", \"showarrow\": false, \"y\": 41, \"xref\": \"x1\", \"font\": {\"color\": \"#000000\"}, \"x\": 2.55, \"yref\": \"y1\", \"align\": \"left\", \"text\": \"17\"}, {\"xanchor\": \"left\", \"showarrow\": false, \"y\": 42, \"xref\": \"x1\", \"font\": {\"color\": \"#000000\"}, \"x\": -0.45, \"yref\": \"y1\", \"align\": \"left\", \"text\": \"Firefox OS (FxOS / B2G)\"}, {\"xanchor\": \"left\", \"showarrow\": false, \"y\": 42, \"xref\": \"x1\", \"font\": {\"color\": \"#000000\"}, \"x\": 0.55, \"yref\": \"y1\", \"align\": \"left\", \"text\": \"Community\"}, {\"xanchor\": \"left\", \"showarrow\": false, \"y\": 42, \"xref\": \"x1\", \"font\": {\"color\": \"#000000\"}, \"x\": 1.55, \"yref\": \"y1\", \"align\": \"left\", \"text\": \"736.0\"}, {\"xanchor\": \"left\", \"showarrow\": false, \"y\": 42, \"xref\": \"x1\", \"font\": {\"color\": \"#000000\"}, \"x\": 2.55, \"yref\": \"y1\", \"align\": \"left\", \"text\": \"17\"}, {\"xanchor\": \"left\", \"showarrow\": false, \"y\": 43, \"xref\": \"x1\", \"font\": {\"color\": \"#000000\"}, \"x\": -0.45, \"yref\": \"y1\", \"align\": \"left\", \"text\": \"Mozilla Location Service (MLS) / Stumbler\"}, {\"xanchor\": \"left\", \"showarrow\": false, \"y\": 43, \"xref\": \"x1\", \"font\": {\"color\": \"#000000\"}, \"x\": 0.55, \"yref\": \"y1\", \"align\": \"left\", \"text\": \"Community\"}, {\"xanchor\": \"left\", \"showarrow\": false, \"y\": 43, \"xref\": \"x1\", \"font\": {\"color\": \"#000000\"}, \"x\": 1.55, \"yref\": \"y1\", \"align\": \"left\", \"text\": \"591.0\"}, {\"xanchor\": \"left\", \"showarrow\": false, \"y\": 43, \"xref\": \"x1\", \"font\": {\"color\": \"#000000\"}, \"x\": 2.55, \"yref\": \"y1\", \"align\": \"left\", \"text\": \"1\"}, {\"xanchor\": \"left\", \"showarrow\": false, \"y\": 44, \"xref\": \"x1\", \"font\": {\"color\": \"#000000\"}, \"x\": -0.45, \"yref\": \"y1\", \"align\": \"left\", \"text\": \"Mozilla Foundation\"}, {\"xanchor\": \"left\", \"showarrow\": false, \"y\": 44, \"xref\": \"x1\", \"font\": {\"color\": \"#000000\"}, \"x\": 0.55, \"yref\": \"y1\", \"align\": \"left\", \"text\": \"Community\"}, {\"xanchor\": \"left\", \"showarrow\": false, \"y\": 44, \"xref\": \"x1\", \"font\": {\"color\": \"#000000\"}, \"x\": 1.55, \"yref\": \"y1\", \"align\": \"left\", \"text\": \"584.0\"}, {\"xanchor\": \"left\", \"showarrow\": false, \"y\": 44, \"xref\": \"x1\", \"font\": {\"color\": \"#000000\"}, \"x\": 2.55, \"yref\": \"y1\", \"align\": \"left\", \"text\": \"24\"}, {\"xanchor\": \"left\", \"showarrow\": false, \"y\": 45, \"xref\": \"x1\", \"font\": {\"color\": \"#000000\"}, \"x\": -0.45, \"yref\": \"y1\", \"align\": \"left\", \"text\": \"Vaani\"}, {\"xanchor\": \"left\", \"showarrow\": false, \"y\": 45, \"xref\": \"x1\", \"font\": {\"color\": \"#000000\"}, \"x\": 0.55, \"yref\": \"y1\", \"align\": \"left\", \"text\": \"Mozilla Staff\"}, {\"xanchor\": \"left\", \"showarrow\": false, \"y\": 45, \"xref\": \"x1\", \"font\": {\"color\": \"#000000\"}, \"x\": 1.55, \"yref\": \"y1\", \"align\": \"left\", \"text\": \"470.0\"}, {\"xanchor\": \"left\", \"showarrow\": false, \"y\": 45, \"xref\": \"x1\", \"font\": {\"color\": \"#000000\"}, \"x\": 2.55, \"yref\": \"y1\", \"align\": \"left\", \"text\": \"8\"}, {\"xanchor\": \"left\", \"showarrow\": false, \"y\": 46, \"xref\": \"x1\", \"font\": {\"color\": \"#000000\"}, \"x\": -0.45, \"yref\": \"y1\", \"align\": \"left\", \"text\": \"Mozilla Developer Network (MDN)\"}, {\"xanchor\": \"left\", \"showarrow\": false, \"y\": 46, \"xref\": \"x1\", \"font\": {\"color\": \"#000000\"}, \"x\": 0.55, \"yref\": \"y1\", \"align\": \"left\", \"text\": \"Community\"}, {\"xanchor\": \"left\", \"showarrow\": false, \"y\": 46, \"xref\": \"x1\", \"font\": {\"color\": \"#000000\"}, \"x\": 1.55, \"yref\": \"y1\", \"align\": \"left\", \"text\": \"465.0\"}, {\"xanchor\": \"left\", \"showarrow\": false, \"y\": 46, \"xref\": \"x1\", \"font\": {\"color\": \"#000000\"}, \"x\": 2.55, \"yref\": \"y1\", \"align\": \"left\", \"text\": \"27\"}, {\"xanchor\": \"left\", \"showarrow\": false, \"y\": 47, \"xref\": \"x1\", \"font\": {\"color\": \"#000000\"}, \"x\": -0.45, \"yref\": \"y1\", \"align\": \"left\", \"text\": \"Firefox\"}, {\"xanchor\": \"left\", \"showarrow\": false, \"y\": 47, \"xref\": \"x1\", \"font\": {\"color\": \"#000000\"}, \"x\": 0.55, \"yref\": \"y1\", \"align\": \"left\", \"text\": \"Community\"}, {\"xanchor\": \"left\", \"showarrow\": false, \"y\": 47, \"xref\": \"x1\", \"font\": {\"color\": \"#000000\"}, \"x\": 1.55, \"yref\": \"y1\", \"align\": \"left\", \"text\": \"461.0\"}, {\"xanchor\": \"left\", \"showarrow\": false, \"y\": 47, \"xref\": \"x1\", \"font\": {\"color\": \"#000000\"}, \"x\": 2.55, \"yref\": \"y1\", \"align\": \"left\", \"text\": \"1\"}, {\"xanchor\": \"left\", \"showarrow\": false, \"y\": 48, \"xref\": \"x1\", \"font\": {\"color\": \"#000000\"}, \"x\": -0.45, \"yref\": \"y1\", \"align\": \"left\", \"text\": \"Firefox iOS\"}, {\"xanchor\": \"left\", \"showarrow\": false, \"y\": 48, \"xref\": \"x1\", \"font\": {\"color\": \"#000000\"}, \"x\": 0.55, \"yref\": \"y1\", \"align\": \"left\", \"text\": \"Community\"}, {\"xanchor\": \"left\", \"showarrow\": false, \"y\": 48, \"xref\": \"x1\", \"font\": {\"color\": \"#000000\"}, \"x\": 1.55, \"yref\": \"y1\", \"align\": \"left\", \"text\": \"444.0\"}, {\"xanchor\": \"left\", \"showarrow\": false, \"y\": 48, \"xref\": \"x1\", \"font\": {\"color\": \"#000000\"}, \"x\": 2.55, \"yref\": \"y1\", \"align\": \"left\", \"text\": \"3\"}, {\"xanchor\": \"left\", \"showarrow\": false, \"y\": 49, \"xref\": \"x1\", \"font\": {\"color\": \"#000000\"}, \"x\": -0.45, \"yref\": \"y1\", \"align\": \"left\", \"text\": \"Advocacy and policy\"}, {\"xanchor\": \"left\", \"showarrow\": false, \"y\": 49, \"xref\": \"x1\", \"font\": {\"color\": \"#000000\"}, \"x\": 0.55, \"yref\": \"y1\", \"align\": \"left\", \"text\": \"Community\"}, {\"xanchor\": \"left\", \"showarrow\": false, \"y\": 49, \"xref\": \"x1\", \"font\": {\"color\": \"#000000\"}, \"x\": 1.55, \"yref\": \"y1\", \"align\": \"left\", \"text\": \"441.0\"}, {\"xanchor\": \"left\", \"showarrow\": false, \"y\": 49, \"xref\": \"x1\", \"font\": {\"color\": \"#000000\"}, \"x\": 2.55, \"yref\": \"y1\", \"align\": \"left\", \"text\": \"4\"}, {\"xanchor\": \"left\", \"showarrow\": false, \"y\": 50, \"xref\": \"x1\", \"font\": {\"color\": \"#000000\"}, \"x\": -0.45, \"yref\": \"y1\", \"align\": \"left\", \"text\": \"Deep Speech\"}, {\"xanchor\": \"left\", \"showarrow\": false, \"y\": 50, \"xref\": \"x1\", \"font\": {\"color\": \"#000000\"}, \"x\": 0.55, \"yref\": \"y1\", \"align\": \"left\", \"text\": \"Mozilla Staff\"}, {\"xanchor\": \"left\", \"showarrow\": false, \"y\": 50, \"xref\": \"x1\", \"font\": {\"color\": \"#000000\"}, \"x\": 1.55, \"yref\": \"y1\", \"align\": \"left\", \"text\": \"354.0\"}, {\"xanchor\": \"left\", \"showarrow\": false, \"y\": 50, \"xref\": \"x1\", \"font\": {\"color\": \"#000000\"}, \"x\": 2.55, \"yref\": \"y1\", \"align\": \"left\", \"text\": \"1\"}, {\"xanchor\": \"left\", \"showarrow\": false, \"y\": 51, \"xref\": \"x1\", \"font\": {\"color\": \"#000000\"}, \"x\": -0.45, \"yref\": \"y1\", \"align\": \"left\", \"text\": \"Developer Tools\"}, {\"xanchor\": \"left\", \"showarrow\": false, \"y\": 51, \"xref\": \"x1\", \"font\": {\"color\": \"#000000\"}, \"x\": 0.55, \"yref\": \"y1\", \"align\": \"left\", \"text\": \"Mozilla Staff\"}, {\"xanchor\": \"left\", \"showarrow\": false, \"y\": 51, \"xref\": \"x1\", \"font\": {\"color\": \"#000000\"}, \"x\": 1.55, \"yref\": \"y1\", \"align\": \"left\", \"text\": \"293.0\"}, {\"xanchor\": \"left\", \"showarrow\": false, \"y\": 51, \"xref\": \"x1\", \"font\": {\"color\": \"#000000\"}, \"x\": 2.55, \"yref\": \"y1\", \"align\": \"left\", \"text\": \"4\"}, {\"xanchor\": \"left\", \"showarrow\": false, \"y\": 52, \"xref\": \"x1\", \"font\": {\"color\": \"#000000\"}, \"x\": -0.45, \"yref\": \"y1\", \"align\": \"left\", \"text\": \"Connected devices & IoT\"}, {\"xanchor\": \"left\", \"showarrow\": false, \"y\": 52, \"xref\": \"x1\", \"font\": {\"color\": \"#000000\"}, \"x\": 0.55, \"yref\": \"y1\", \"align\": \"left\", \"text\": \"Community\"}, {\"xanchor\": \"left\", \"showarrow\": false, \"y\": 52, \"xref\": \"x1\", \"font\": {\"color\": \"#000000\"}, \"x\": 1.55, \"yref\": \"y1\", \"align\": \"left\", \"text\": \"222.0\"}, {\"xanchor\": \"left\", \"showarrow\": false, \"y\": 52, \"xref\": \"x1\", \"font\": {\"color\": \"#000000\"}, \"x\": 2.55, \"yref\": \"y1\", \"align\": \"left\", \"text\": \"1\"}, {\"xanchor\": \"left\", \"showarrow\": false, \"y\": 53, \"xref\": \"x1\", \"font\": {\"color\": \"#000000\"}, \"x\": -0.45, \"yref\": \"y1\", \"align\": \"left\", \"text\": \"Mozilla Clubs\"}, {\"xanchor\": \"left\", \"showarrow\": false, \"y\": 53, \"xref\": \"x1\", \"font\": {\"color\": \"#000000\"}, \"x\": 0.55, \"yref\": \"y1\", \"align\": \"left\", \"text\": \"Mozilla Staff\"}, {\"xanchor\": \"left\", \"showarrow\": false, \"y\": 53, \"xref\": \"x1\", \"font\": {\"color\": \"#000000\"}, \"x\": 1.55, \"yref\": \"y1\", \"align\": \"left\", \"text\": \"198.0\"}, {\"xanchor\": \"left\", \"showarrow\": false, \"y\": 53, \"xref\": \"x1\", \"font\": {\"color\": \"#000000\"}, \"x\": 2.55, \"yref\": \"y1\", \"align\": \"left\", \"text\": \"9\"}, {\"xanchor\": \"left\", \"showarrow\": false, \"y\": 54, \"xref\": \"x1\", \"font\": {\"color\": \"#000000\"}, \"x\": -0.45, \"yref\": \"y1\", \"align\": \"left\", \"text\": \"Mozilla Local/Regional communities\"}, {\"xanchor\": \"left\", \"showarrow\": false, \"y\": 54, \"xref\": \"x1\", \"font\": {\"color\": \"#000000\"}, \"x\": 0.55, \"yref\": \"y1\", \"align\": \"left\", \"text\": \"Mozilla Reps\"}, {\"xanchor\": \"left\", \"showarrow\": false, \"y\": 54, \"xref\": \"x1\", \"font\": {\"color\": \"#000000\"}, \"x\": 1.55, \"yref\": \"y1\", \"align\": \"left\", \"text\": \"195.0\"}, {\"xanchor\": \"left\", \"showarrow\": false, \"y\": 54, \"xref\": \"x1\", \"font\": {\"color\": \"#000000\"}, \"x\": 2.55, \"yref\": \"y1\", \"align\": \"left\", \"text\": \"15\"}, {\"xanchor\": \"left\", \"showarrow\": false, \"y\": 55, \"xref\": \"x1\", \"font\": {\"color\": \"#000000\"}, \"x\": -0.45, \"yref\": \"y1\", \"align\": \"left\", \"text\": \"Addons/Web Extensions\"}, {\"xanchor\": \"left\", \"showarrow\": false, \"y\": 55, \"xref\": \"x1\", \"font\": {\"color\": \"#000000\"}, \"x\": 0.55, \"yref\": \"y1\", \"align\": \"left\", \"text\": \"Code Sheriff\"}, {\"xanchor\": \"left\", \"showarrow\": false, \"y\": 55, \"xref\": \"x1\", \"font\": {\"color\": \"#000000\"}, \"x\": 1.55, \"yref\": \"y1\", \"align\": \"left\", \"text\": \"184.0\"}, {\"xanchor\": \"left\", \"showarrow\": false, \"y\": 55, \"xref\": \"x1\", \"font\": {\"color\": \"#000000\"}, \"x\": 2.55, \"yref\": \"y1\", \"align\": \"left\", \"text\": \"4\"}, {\"xanchor\": \"left\", \"showarrow\": false, \"y\": 56, \"xref\": \"x1\", \"font\": {\"color\": \"#000000\"}, \"x\": -0.45, \"yref\": \"y1\", \"align\": \"left\", \"text\": \"Campus Clubs (previously Student Ambassadors)\"}, {\"xanchor\": \"left\", \"showarrow\": false, \"y\": 56, \"xref\": \"x1\", \"font\": {\"color\": \"#000000\"}, \"x\": 0.55, \"yref\": \"y1\", \"align\": \"left\", \"text\": \"Mozilla Staff\"}, {\"xanchor\": \"left\", \"showarrow\": false, \"y\": 56, \"xref\": \"x1\", \"font\": {\"color\": \"#000000\"}, \"x\": 1.55, \"yref\": \"y1\", \"align\": \"left\", \"text\": \"164.0\"}, {\"xanchor\": \"left\", \"showarrow\": false, \"y\": 56, \"xref\": \"x1\", \"font\": {\"color\": \"#000000\"}, \"x\": 2.55, \"yref\": \"y1\", \"align\": \"left\", \"text\": \"5\"}, {\"xanchor\": \"left\", \"showarrow\": false, \"y\": 57, \"xref\": \"x1\", \"font\": {\"color\": \"#000000\"}, \"x\": -0.45, \"yref\": \"y1\", \"align\": \"left\", \"text\": \"Web Properties\"}, {\"xanchor\": \"left\", \"showarrow\": false, \"y\": 57, \"xref\": \"x1\", \"font\": {\"color\": \"#000000\"}, \"x\": 0.55, \"yref\": \"y1\", \"align\": \"left\", \"text\": \"Mozilla Reps\"}, {\"xanchor\": \"left\", \"showarrow\": false, \"y\": 57, \"xref\": \"x1\", \"font\": {\"color\": \"#000000\"}, \"x\": 1.55, \"yref\": \"y1\", \"align\": \"left\", \"text\": \"148.0\"}, {\"xanchor\": \"left\", \"showarrow\": false, \"y\": 57, \"xref\": \"x1\", \"font\": {\"color\": \"#000000\"}, \"x\": 2.55, \"yref\": \"y1\", \"align\": \"left\", \"text\": \"4\"}, {\"xanchor\": \"left\", \"showarrow\": false, \"y\": 58, \"xref\": \"x1\", \"font\": {\"color\": \"#000000\"}, \"x\": -0.45, \"yref\": \"y1\", \"align\": \"left\", \"text\": \"Mozilla Creative & Design\"}, {\"xanchor\": \"left\", \"showarrow\": false, \"y\": 58, \"xref\": \"x1\", \"font\": {\"color\": \"#000000\"}, \"x\": 0.55, \"yref\": \"y1\", \"align\": \"left\", \"text\": \"Community\"}, {\"xanchor\": \"left\", \"showarrow\": false, \"y\": 58, \"xref\": \"x1\", \"font\": {\"color\": \"#000000\"}, \"x\": 1.55, \"yref\": \"y1\", \"align\": \"left\", \"text\": \"106.0\"}, {\"xanchor\": \"left\", \"showarrow\": false, \"y\": 58, \"xref\": \"x1\", \"font\": {\"color\": \"#000000\"}, \"x\": 2.55, \"yref\": \"y1\", \"align\": \"left\", \"text\": \"2\"}, {\"xanchor\": \"left\", \"showarrow\": false, \"y\": 59, \"xref\": \"x1\", \"font\": {\"color\": \"#000000\"}, \"x\": -0.45, \"yref\": \"y1\", \"align\": \"left\", \"text\": \"Mozilla Creative & Design\"}, {\"xanchor\": \"left\", \"showarrow\": false, \"y\": 59, \"xref\": \"x1\", \"font\": {\"color\": \"#000000\"}, \"x\": 0.55, \"yref\": \"y1\", \"align\": \"left\", \"text\": \"Mozilla Staff\"}, {\"xanchor\": \"left\", \"showarrow\": false, \"y\": 59, \"xref\": \"x1\", \"font\": {\"color\": \"#000000\"}, \"x\": 1.55, \"yref\": \"y1\", \"align\": \"left\", \"text\": \"105.0\"}, {\"xanchor\": \"left\", \"showarrow\": false, \"y\": 59, \"xref\": \"x1\", \"font\": {\"color\": \"#000000\"}, \"x\": 2.55, \"yref\": \"y1\", \"align\": \"left\", \"text\": \"3\"}, {\"xanchor\": \"left\", \"showarrow\": false, \"y\": 60, \"xref\": \"x1\", \"font\": {\"color\": \"#000000\"}, \"x\": -0.45, \"yref\": \"y1\", \"align\": \"left\", \"text\": \"Release engineering\"}, {\"xanchor\": \"left\", \"showarrow\": false, \"y\": 60, \"xref\": \"x1\", \"font\": {\"color\": \"#000000\"}, \"x\": 0.55, \"yref\": \"y1\", \"align\": \"left\", \"text\": \"Code Sheriff\"}, {\"xanchor\": \"left\", \"showarrow\": false, \"y\": 60, \"xref\": \"x1\", \"font\": {\"color\": \"#000000\"}, \"x\": 1.55, \"yref\": \"y1\", \"align\": \"left\", \"text\": \"104.0\"}, {\"xanchor\": \"left\", \"showarrow\": false, \"y\": 60, \"xref\": \"x1\", \"font\": {\"color\": \"#000000\"}, \"x\": 2.55, \"yref\": \"y1\", \"align\": \"left\", \"text\": \"5\"}, {\"xanchor\": \"left\", \"showarrow\": false, \"y\": 61, \"xref\": \"x1\", \"font\": {\"color\": \"#000000\"}, \"x\": -0.45, \"yref\": \"y1\", \"align\": \"left\", \"text\": \"Connected devices & IoT\"}, {\"xanchor\": \"left\", \"showarrow\": false, \"y\": 61, \"xref\": \"x1\", \"font\": {\"color\": \"#000000\"}, \"x\": 0.55, \"yref\": \"y1\", \"align\": \"left\", \"text\": \"Mozilla Staff\"}, {\"xanchor\": \"left\", \"showarrow\": false, \"y\": 61, \"xref\": \"x1\", \"font\": {\"color\": \"#000000\"}, \"x\": 1.55, \"yref\": \"y1\", \"align\": \"left\", \"text\": \"79.0\"}, {\"xanchor\": \"left\", \"showarrow\": false, \"y\": 61, \"xref\": \"x1\", \"font\": {\"color\": \"#000000\"}, \"x\": 2.55, \"yref\": \"y1\", \"align\": \"left\", \"text\": \"1\"}, {\"xanchor\": \"left\", \"showarrow\": false, \"y\": 62, \"xref\": \"x1\", \"font\": {\"color\": \"#000000\"}, \"x\": -0.45, \"yref\": \"y1\", \"align\": \"left\", \"text\": \"Rust\"}, {\"xanchor\": \"left\", \"showarrow\": false, \"y\": 62, \"xref\": \"x1\", \"font\": {\"color\": \"#000000\"}, \"x\": 0.55, \"yref\": \"y1\", \"align\": \"left\", \"text\": \"Code Sheriff\"}, {\"xanchor\": \"left\", \"showarrow\": false, \"y\": 62, \"xref\": \"x1\", \"font\": {\"color\": \"#000000\"}, \"x\": 1.55, \"yref\": \"y1\", \"align\": \"left\", \"text\": \"67.0\"}, {\"xanchor\": \"left\", \"showarrow\": false, \"y\": 62, \"xref\": \"x1\", \"font\": {\"color\": \"#000000\"}, \"x\": 2.55, \"yref\": \"y1\", \"align\": \"left\", \"text\": \"4\"}, {\"xanchor\": \"left\", \"showarrow\": false, \"y\": 63, \"xref\": \"x1\", \"font\": {\"color\": \"#000000\"}, \"x\": -0.45, \"yref\": \"y1\", \"align\": \"left\", \"text\": \"Gecko\"}, {\"xanchor\": \"left\", \"showarrow\": false, \"y\": 63, \"xref\": \"x1\", \"font\": {\"color\": \"#000000\"}, \"x\": 0.55, \"yref\": \"y1\", \"align\": \"left\", \"text\": \"Mozilla Reps\"}, {\"xanchor\": \"left\", \"showarrow\": false, \"y\": 63, \"xref\": \"x1\", \"font\": {\"color\": \"#000000\"}, \"x\": 1.55, \"yref\": \"y1\", \"align\": \"left\", \"text\": \"66.0\"}, {\"xanchor\": \"left\", \"showarrow\": false, \"y\": 63, \"xref\": \"x1\", \"font\": {\"color\": \"#000000\"}, \"x\": 2.55, \"yref\": \"y1\", \"align\": \"left\", \"text\": \"3\"}, {\"xanchor\": \"left\", \"showarrow\": false, \"y\": 64, \"xref\": \"x1\", \"font\": {\"color\": \"#000000\"}, \"x\": -0.45, \"yref\": \"y1\", \"align\": \"left\", \"text\": \"Marketing / Social Media\"}, {\"xanchor\": \"left\", \"showarrow\": false, \"y\": 64, \"xref\": \"x1\", \"font\": {\"color\": \"#000000\"}, \"x\": 0.55, \"yref\": \"y1\", \"align\": \"left\", \"text\": \"Community\"}, {\"xanchor\": \"left\", \"showarrow\": false, \"y\": 64, \"xref\": \"x1\", \"font\": {\"color\": \"#000000\"}, \"x\": 1.55, \"yref\": \"y1\", \"align\": \"left\", \"text\": \"59.0\"}, {\"xanchor\": \"left\", \"showarrow\": false, \"y\": 64, \"xref\": \"x1\", \"font\": {\"color\": \"#000000\"}, \"x\": 2.55, \"yref\": \"y1\", \"align\": \"left\", \"text\": \"7\"}, {\"xanchor\": \"left\", \"showarrow\": false, \"y\": 65, \"xref\": \"x1\", \"font\": {\"color\": \"#000000\"}, \"x\": -0.45, \"yref\": \"y1\", \"align\": \"left\", \"text\": \"Firefox Android\"}, {\"xanchor\": \"left\", \"showarrow\": false, \"y\": 65, \"xref\": \"x1\", \"font\": {\"color\": \"#000000\"}, \"x\": 0.55, \"yref\": \"y1\", \"align\": \"left\", \"text\": \"Mozilla Staff\"}, {\"xanchor\": \"left\", \"showarrow\": false, \"y\": 65, \"xref\": \"x1\", \"font\": {\"color\": \"#000000\"}, \"x\": 1.55, \"yref\": \"y1\", \"align\": \"left\", \"text\": \"53.0\"}, {\"xanchor\": \"left\", \"showarrow\": false, \"y\": 65, \"xref\": \"x1\", \"font\": {\"color\": \"#000000\"}, \"x\": 2.55, \"yref\": \"y1\", \"align\": \"left\", \"text\": \"2\"}, {\"xanchor\": \"left\", \"showarrow\": false, \"y\": 66, \"xref\": \"x1\", \"font\": {\"color\": \"#000000\"}, \"x\": -0.45, \"yref\": \"y1\", \"align\": \"left\", \"text\": \"Technical/Developer Evangelism\"}, {\"xanchor\": \"left\", \"showarrow\": false, \"y\": 66, \"xref\": \"x1\", \"font\": {\"color\": \"#000000\"}, \"x\": 0.55, \"yref\": \"y1\", \"align\": \"left\", \"text\": \"Community\"}, {\"xanchor\": \"left\", \"showarrow\": false, \"y\": 66, \"xref\": \"x1\", \"font\": {\"color\": \"#000000\"}, \"x\": 1.55, \"yref\": \"y1\", \"align\": \"left\", \"text\": \"43.0\"}, {\"xanchor\": \"left\", \"showarrow\": false, \"y\": 66, \"xref\": \"x1\", \"font\": {\"color\": \"#000000\"}, \"x\": 2.55, \"yref\": \"y1\", \"align\": \"left\", \"text\": \"6\"}, {\"xanchor\": \"left\", \"showarrow\": false, \"y\": 67, \"xref\": \"x1\", \"font\": {\"color\": \"#000000\"}, \"x\": -0.45, \"yref\": \"y1\", \"align\": \"left\", \"text\": \"Developer Tools\"}, {\"xanchor\": \"left\", \"showarrow\": false, \"y\": 67, \"xref\": \"x1\", \"font\": {\"color\": \"#000000\"}, \"x\": 0.55, \"yref\": \"y1\", \"align\": \"left\", \"text\": \"Community\"}, {\"xanchor\": \"left\", \"showarrow\": false, \"y\": 67, \"xref\": \"x1\", \"font\": {\"color\": \"#000000\"}, \"x\": 1.55, \"yref\": \"y1\", \"align\": \"left\", \"text\": \"34.0\"}, {\"xanchor\": \"left\", \"showarrow\": false, \"y\": 67, \"xref\": \"x1\", \"font\": {\"color\": \"#000000\"}, \"x\": 2.55, \"yref\": \"y1\", \"align\": \"left\", \"text\": \"2\"}, {\"xanchor\": \"left\", \"showarrow\": false, \"y\": 68, \"xref\": \"x1\", \"font\": {\"color\": \"#000000\"}, \"x\": -0.45, \"yref\": \"y1\", \"align\": \"left\", \"text\": \"Mozilla Developer Network (MDN)\"}, {\"xanchor\": \"left\", \"showarrow\": false, \"y\": 68, \"xref\": \"x1\", \"font\": {\"color\": \"#000000\"}, \"x\": 0.55, \"yref\": \"y1\", \"align\": \"left\", \"text\": \"Mozilla Reps\"}, {\"xanchor\": \"left\", \"showarrow\": false, \"y\": 68, \"xref\": \"x1\", \"font\": {\"color\": \"#000000\"}, \"x\": 1.55, \"yref\": \"y1\", \"align\": \"left\", \"text\": \"32.0\"}, {\"xanchor\": \"left\", \"showarrow\": false, \"y\": 68, \"xref\": \"x1\", \"font\": {\"color\": \"#000000\"}, \"x\": 2.55, \"yref\": \"y1\", \"align\": \"left\", \"text\": \"1\"}, {\"xanchor\": \"left\", \"showarrow\": false, \"y\": 69, \"xref\": \"x1\", \"font\": {\"color\": \"#000000\"}, \"x\": -0.45, \"yref\": \"y1\", \"align\": \"left\", \"text\": \"Mozilla Clubs\"}, {\"xanchor\": \"left\", \"showarrow\": false, \"y\": 69, \"xref\": \"x1\", \"font\": {\"color\": \"#000000\"}, \"x\": 0.55, \"yref\": \"y1\", \"align\": \"left\", \"text\": \"Community\"}, {\"xanchor\": \"left\", \"showarrow\": false, \"y\": 69, \"xref\": \"x1\", \"font\": {\"color\": \"#000000\"}, \"x\": 1.55, \"yref\": \"y1\", \"align\": \"left\", \"text\": \"26.0\"}, {\"xanchor\": \"left\", \"showarrow\": false, \"y\": 69, \"xref\": \"x1\", \"font\": {\"color\": \"#000000\"}, \"x\": 2.55, \"yref\": \"y1\", \"align\": \"left\", \"text\": \"5\"}, {\"xanchor\": \"left\", \"showarrow\": false, \"y\": 70, \"xref\": \"x1\", \"font\": {\"color\": \"#000000\"}, \"x\": -0.45, \"yref\": \"y1\", \"align\": \"left\", \"text\": \"Deep Speech\"}, {\"xanchor\": \"left\", \"showarrow\": false, \"y\": 70, \"xref\": \"x1\", \"font\": {\"color\": \"#000000\"}, \"x\": 0.55, \"yref\": \"y1\", \"align\": \"left\", \"text\": \"Community\"}, {\"xanchor\": \"left\", \"showarrow\": false, \"y\": 70, \"xref\": \"x1\", \"font\": {\"color\": \"#000000\"}, \"x\": 1.55, \"yref\": \"y1\", \"align\": \"left\", \"text\": \"21.0\"}, {\"xanchor\": \"left\", \"showarrow\": false, \"y\": 70, \"xref\": \"x1\", \"font\": {\"color\": \"#000000\"}, \"x\": 2.55, \"yref\": \"y1\", \"align\": \"left\", \"text\": \"1\"}, {\"xanchor\": \"left\", \"showarrow\": false, \"y\": 71, \"xref\": \"x1\", \"font\": {\"color\": \"#000000\"}, \"x\": -0.45, \"yref\": \"y1\", \"align\": \"left\", \"text\": \"Marketing / Social Media\"}, {\"xanchor\": \"left\", \"showarrow\": false, \"y\": 71, \"xref\": \"x1\", \"font\": {\"color\": \"#000000\"}, \"x\": 0.55, \"yref\": \"y1\", \"align\": \"left\", \"text\": \"Code Sheriff\"}, {\"xanchor\": \"left\", \"showarrow\": false, \"y\": 71, \"xref\": \"x1\", \"font\": {\"color\": \"#000000\"}, \"x\": 1.55, \"yref\": \"y1\", \"align\": \"left\", \"text\": \"14.0\"}, {\"xanchor\": \"left\", \"showarrow\": false, \"y\": 71, \"xref\": \"x1\", \"font\": {\"color\": \"#000000\"}, \"x\": 2.55, \"yref\": \"y1\", \"align\": \"left\", \"text\": \"1\"}, {\"xanchor\": \"left\", \"showarrow\": false, \"y\": 72, \"xref\": \"x1\", \"font\": {\"color\": \"#000000\"}, \"x\": -0.45, \"yref\": \"y1\", \"align\": \"left\", \"text\": \"Web Properties\"}, {\"xanchor\": \"left\", \"showarrow\": false, \"y\": 72, \"xref\": \"x1\", \"font\": {\"color\": \"#000000\"}, \"x\": 0.55, \"yref\": \"y1\", \"align\": \"left\", \"text\": \"Code Sheriff\"}, {\"xanchor\": \"left\", \"showarrow\": false, \"y\": 72, \"xref\": \"x1\", \"font\": {\"color\": \"#000000\"}, \"x\": 1.55, \"yref\": \"y1\", \"align\": \"left\", \"text\": \"13.0\"}, {\"xanchor\": \"left\", \"showarrow\": false, \"y\": 72, \"xref\": \"x1\", \"font\": {\"color\": \"#000000\"}, \"x\": 2.55, \"yref\": \"y1\", \"align\": \"left\", \"text\": \"6\"}, {\"xanchor\": \"left\", \"showarrow\": false, \"y\": 73, \"xref\": \"x1\", \"font\": {\"color\": \"#000000\"}, \"x\": -0.45, \"yref\": \"y1\", \"align\": \"left\", \"text\": \"Firefox Focus\"}, {\"xanchor\": \"left\", \"showarrow\": false, \"y\": 73, \"xref\": \"x1\", \"font\": {\"color\": \"#000000\"}, \"x\": 0.55, \"yref\": \"y1\", \"align\": \"left\", \"text\": \"Community\"}, {\"xanchor\": \"left\", \"showarrow\": false, \"y\": 73, \"xref\": \"x1\", \"font\": {\"color\": \"#000000\"}, \"x\": 1.55, \"yref\": \"y1\", \"align\": \"left\", \"text\": \"8.0\"}, {\"xanchor\": \"left\", \"showarrow\": false, \"y\": 73, \"xref\": \"x1\", \"font\": {\"color\": \"#000000\"}, \"x\": 2.55, \"yref\": \"y1\", \"align\": \"left\", \"text\": \"2\"}, {\"xanchor\": \"left\", \"showarrow\": false, \"y\": 74, \"xref\": \"x1\", \"font\": {\"color\": \"#000000\"}, \"x\": -0.45, \"yref\": \"y1\", \"align\": \"left\", \"text\": \"Servo\"}, {\"xanchor\": \"left\", \"showarrow\": false, \"y\": 74, \"xref\": \"x1\", \"font\": {\"color\": \"#000000\"}, \"x\": 0.55, \"yref\": \"y1\", \"align\": \"left\", \"text\": \"Mozilla Reps\"}, {\"xanchor\": \"left\", \"showarrow\": false, \"y\": 74, \"xref\": \"x1\", \"font\": {\"color\": \"#000000\"}, \"x\": 1.55, \"yref\": \"y1\", \"align\": \"left\", \"text\": \"4.0\"}, {\"xanchor\": \"left\", \"showarrow\": false, \"y\": 74, \"xref\": \"x1\", \"font\": {\"color\": \"#000000\"}, \"x\": 2.55, \"yref\": \"y1\", \"align\": \"left\", \"text\": \"2\"}, {\"xanchor\": \"left\", \"showarrow\": false, \"y\": 75, \"xref\": \"x1\", \"font\": {\"color\": \"#000000\"}, \"x\": -0.45, \"yref\": \"y1\", \"align\": \"left\", \"text\": \"Advocacy and policy\"}, {\"xanchor\": \"left\", \"showarrow\": false, \"y\": 75, \"xref\": \"x1\", \"font\": {\"color\": \"#000000\"}, \"x\": 0.55, \"yref\": \"y1\", \"align\": \"left\", \"text\": \"Code Sheriff\"}, {\"xanchor\": \"left\", \"showarrow\": false, \"y\": 75, \"xref\": \"x1\", \"font\": {\"color\": \"#000000\"}, \"x\": 1.55, \"yref\": \"y1\", \"align\": \"left\", \"text\": \"3.0\"}, {\"xanchor\": \"left\", \"showarrow\": false, \"y\": 75, \"xref\": \"x1\", \"font\": {\"color\": \"#000000\"}, \"x\": 2.55, \"yref\": \"y1\", \"align\": \"left\", \"text\": \"1\"}, {\"xanchor\": \"left\", \"showarrow\": false, \"y\": 76, \"xref\": \"x1\", \"font\": {\"color\": \"#000000\"}, \"x\": -0.45, \"yref\": \"y1\", \"align\": \"left\", \"text\": \"Mozilla Local/Regional communities\"}, {\"xanchor\": \"left\", \"showarrow\": false, \"y\": 76, \"xref\": \"x1\", \"font\": {\"color\": \"#000000\"}, \"x\": 0.55, \"yref\": \"y1\", \"align\": \"left\", \"text\": \"Code Sheriff\"}, {\"xanchor\": \"left\", \"showarrow\": false, \"y\": 76, \"xref\": \"x1\", \"font\": {\"color\": \"#000000\"}, \"x\": 1.55, \"yref\": \"y1\", \"align\": \"left\", \"text\": \"3.0\"}, {\"xanchor\": \"left\", \"showarrow\": false, \"y\": 76, \"xref\": \"x1\", \"font\": {\"color\": \"#000000\"}, \"x\": 2.55, \"yref\": \"y1\", \"align\": \"left\", \"text\": \"1\"}, {\"xanchor\": \"left\", \"showarrow\": false, \"y\": 77, \"xref\": \"x1\", \"font\": {\"color\": \"#000000\"}, \"x\": -0.45, \"yref\": \"y1\", \"align\": \"left\", \"text\": \"Campus Clubs (previously Student Ambassadors)\"}, {\"xanchor\": \"left\", \"showarrow\": false, \"y\": 77, \"xref\": \"x1\", \"font\": {\"color\": \"#000000\"}, \"x\": 0.55, \"yref\": \"y1\", \"align\": \"left\", \"text\": \"Community\"}, {\"xanchor\": \"left\", \"showarrow\": false, \"y\": 77, \"xref\": \"x1\", \"font\": {\"color\": \"#000000\"}, \"x\": 1.55, \"yref\": \"y1\", \"align\": \"left\", \"text\": \"2.0\"}, {\"xanchor\": \"left\", \"showarrow\": false, \"y\": 77, \"xref\": \"x1\", \"font\": {\"color\": \"#000000\"}, \"x\": 2.55, \"yref\": \"y1\", \"align\": \"left\", \"text\": \"1\"}, {\"xanchor\": \"left\", \"showarrow\": false, \"y\": 78, \"xref\": \"x1\", \"font\": {\"color\": \"#000000\"}, \"x\": -0.45, \"yref\": \"y1\", \"align\": \"left\", \"text\": \"Test Pilot\"}, {\"xanchor\": \"left\", \"showarrow\": false, \"y\": 78, \"xref\": \"x1\", \"font\": {\"color\": \"#000000\"}, \"x\": 0.55, \"yref\": \"y1\", \"align\": \"left\", \"text\": \"Code Sheriff\"}, {\"xanchor\": \"left\", \"showarrow\": false, \"y\": 78, \"xref\": \"x1\", \"font\": {\"color\": \"#000000\"}, \"x\": 1.55, \"yref\": \"y1\", \"align\": \"left\", \"text\": \"2.0\"}, {\"xanchor\": \"left\", \"showarrow\": false, \"y\": 78, \"xref\": \"x1\", \"font\": {\"color\": \"#000000\"}, \"x\": 2.55, \"yref\": \"y1\", \"align\": \"left\", \"text\": \"1\"}, {\"xanchor\": \"left\", \"showarrow\": false, \"y\": 79, \"xref\": \"x1\", \"font\": {\"color\": \"#000000\"}, \"x\": -0.45, \"yref\": \"y1\", \"align\": \"left\", \"text\": \"Web Literacy\"}, {\"xanchor\": \"left\", \"showarrow\": false, \"y\": 79, \"xref\": \"x1\", \"font\": {\"color\": \"#000000\"}, \"x\": 0.55, \"yref\": \"y1\", \"align\": \"left\", \"text\": \"Mozilla Reps\"}, {\"xanchor\": \"left\", \"showarrow\": false, \"y\": 79, \"xref\": \"x1\", \"font\": {\"color\": \"#000000\"}, \"x\": 1.55, \"yref\": \"y1\", \"align\": \"left\", \"text\": \"2.0\"}, {\"xanchor\": \"left\", \"showarrow\": false, \"y\": 79, \"xref\": \"x1\", \"font\": {\"color\": \"#000000\"}, \"x\": 2.55, \"yref\": \"y1\", \"align\": \"left\", \"text\": \"2\"}, {\"xanchor\": \"left\", \"showarrow\": false, \"y\": 80, \"xref\": \"x1\", \"font\": {\"color\": \"#000000\"}, \"x\": -0.45, \"yref\": \"y1\", \"align\": \"left\", \"text\": \"Vaani\"}, {\"xanchor\": \"left\", \"showarrow\": false, \"y\": 80, \"xref\": \"x1\", \"font\": {\"color\": \"#000000\"}, \"x\": 0.55, \"yref\": \"y1\", \"align\": \"left\", \"text\": \"Community\"}, {\"xanchor\": \"left\", \"showarrow\": false, \"y\": 80, \"xref\": \"x1\", \"font\": {\"color\": \"#000000\"}, \"x\": 1.55, \"yref\": \"y1\", \"align\": \"left\", \"text\": \"2.0\"}, {\"xanchor\": \"left\", \"showarrow\": false, \"y\": 80, \"xref\": \"x1\", \"font\": {\"color\": \"#000000\"}, \"x\": 2.55, \"yref\": \"y1\", \"align\": \"left\", \"text\": \"1\"}, {\"xanchor\": \"left\", \"showarrow\": false, \"y\": 81, \"xref\": \"x1\", \"font\": {\"color\": \"#000000\"}, \"x\": -0.45, \"yref\": \"y1\", \"align\": \"left\", \"text\": \"Firefox Android\"}, {\"xanchor\": \"left\", \"showarrow\": false, \"y\": 81, \"xref\": \"x1\", \"font\": {\"color\": \"#000000\"}, \"x\": 0.55, \"yref\": \"y1\", \"align\": \"left\", \"text\": \"Community\"}, {\"xanchor\": \"left\", \"showarrow\": false, \"y\": 81, \"xref\": \"x1\", \"font\": {\"color\": \"#000000\"}, \"x\": 1.55, \"yref\": \"y1\", \"align\": \"left\", \"text\": \"1.0\"}, {\"xanchor\": \"left\", \"showarrow\": false, \"y\": 81, \"xref\": \"x1\", \"font\": {\"color\": \"#000000\"}, \"x\": 2.55, \"yref\": \"y1\", \"align\": \"left\", \"text\": \"1\"}, {\"xanchor\": \"left\", \"showarrow\": false, \"y\": 82, \"xref\": \"x1\", \"font\": {\"color\": \"#000000\"}, \"x\": -0.45, \"yref\": \"y1\", \"align\": \"left\", \"text\": \"Mozilla Location Service (MLS) / Stumbler\"}, {\"xanchor\": \"left\", \"showarrow\": false, \"y\": 82, \"xref\": \"x1\", \"font\": {\"color\": \"#000000\"}, \"x\": 0.55, \"yref\": \"y1\", \"align\": \"left\", \"text\": \"Code Sheriff\"}, {\"xanchor\": \"left\", \"showarrow\": false, \"y\": 82, \"xref\": \"x1\", \"font\": {\"color\": \"#000000\"}, \"x\": 1.55, \"yref\": \"y1\", \"align\": \"left\", \"text\": \"1.0\"}, {\"xanchor\": \"left\", \"showarrow\": false, \"y\": 82, \"xref\": \"x1\", \"font\": {\"color\": \"#000000\"}, \"x\": 2.55, \"yref\": \"y1\", \"align\": \"left\", \"text\": \"1\"}]}, {\"showLink\": true, \"linkText\": \"Export to plot.ly\"})});</script>"
      ],
      "text/vnd.plotly.v1+html": [
       "<div id=\"574142af-4e2f-4783-a689-cc81a58f9bd9\" style=\"height: 2540px; width: 100%;\" class=\"plotly-graph-div\"></div><script type=\"text/javascript\">require([\"plotly\"], function(Plotly) { window.PLOTLYENV=window.PLOTLYENV || {};window.PLOTLYENV.BASE_URL=\"https://plot.ly\";Plotly.newPlot(\"574142af-4e2f-4783-a689-cc81a58f9bd9\", [{\"opacity\": 0.75, \"showscale\": false, \"colorscale\": [[0, \"#00083e\"], [0.5, \"#ededee\"], [1, \"#ffffff\"]], \"hoverinfo\": \"none\", \"type\": \"heatmap\", \"z\": [[0, 0, 0, 0], [0.5, 0.5, 0.5, 0.5], [1, 1, 1, 1], [0.5, 0.5, 0.5, 0.5], [1, 1, 1, 1], [0.5, 0.5, 0.5, 0.5], [1, 1, 1, 1], [0.5, 0.5, 0.5, 0.5], [1, 1, 1, 1], [0.5, 0.5, 0.5, 0.5], [1, 1, 1, 1], [0.5, 0.5, 0.5, 0.5], [1, 1, 1, 1], [0.5, 0.5, 0.5, 0.5], [1, 1, 1, 1], [0.5, 0.5, 0.5, 0.5], [1, 1, 1, 1], [0.5, 0.5, 0.5, 0.5], [1, 1, 1, 1], [0.5, 0.5, 0.5, 0.5], [1, 1, 1, 1], [0.5, 0.5, 0.5, 0.5], [1, 1, 1, 1], [0.5, 0.5, 0.5, 0.5], [1, 1, 1, 1], [0.5, 0.5, 0.5, 0.5], [1, 1, 1, 1], [0.5, 0.5, 0.5, 0.5], [1, 1, 1, 1], [0.5, 0.5, 0.5, 0.5], [1, 1, 1, 1], [0.5, 0.5, 0.5, 0.5], [1, 1, 1, 1], [0.5, 0.5, 0.5, 0.5], [1, 1, 1, 1], [0.5, 0.5, 0.5, 0.5], [1, 1, 1, 1], [0.5, 0.5, 0.5, 0.5], [1, 1, 1, 1], [0.5, 0.5, 0.5, 0.5], [1, 1, 1, 1], [0.5, 0.5, 0.5, 0.5], [1, 1, 1, 1], [0.5, 0.5, 0.5, 0.5], [1, 1, 1, 1], [0.5, 0.5, 0.5, 0.5], [1, 1, 1, 1], [0.5, 0.5, 0.5, 0.5], [1, 1, 1, 1], [0.5, 0.5, 0.5, 0.5], [1, 1, 1, 1], [0.5, 0.5, 0.5, 0.5], [1, 1, 1, 1], [0.5, 0.5, 0.5, 0.5], [1, 1, 1, 1], [0.5, 0.5, 0.5, 0.5], [1, 1, 1, 1], [0.5, 0.5, 0.5, 0.5], [1, 1, 1, 1], [0.5, 0.5, 0.5, 0.5], [1, 1, 1, 1], [0.5, 0.5, 0.5, 0.5], [1, 1, 1, 1], [0.5, 0.5, 0.5, 0.5], [1, 1, 1, 1], [0.5, 0.5, 0.5, 0.5], [1, 1, 1, 1], [0.5, 0.5, 0.5, 0.5], [1, 1, 1, 1], [0.5, 0.5, 0.5, 0.5], [1, 1, 1, 1], [0.5, 0.5, 0.5, 0.5], [1, 1, 1, 1], [0.5, 0.5, 0.5, 0.5], [1, 1, 1, 1], [0.5, 0.5, 0.5, 0.5], [1, 1, 1, 1], [0.5, 0.5, 0.5, 0.5], [1, 1, 1, 1], [0.5, 0.5, 0.5, 0.5], [1, 1, 1, 1], [0.5, 0.5, 0.5, 0.5], [1, 1, 1, 1]]}], {\"margin\": {\"t\": 0, \"l\": 0, \"b\": 0, \"r\": 0}, \"xaxis\": {\"gridwidth\": 2, \"zeroline\": false, \"tick0\": -0.5, \"ticks\": \"\", \"showticklabels\": false, \"dtick\": 1}, \"yaxis\": {\"gridwidth\": 2, \"autorange\": \"reversed\", \"zeroline\": false, \"showticklabels\": false, \"ticks\": \"\", \"tick0\": 0.5, \"dtick\": 1}, \"height\": 2540, \"annotations\": [{\"xanchor\": \"left\", \"showarrow\": false, \"y\": 0, \"xref\": \"x1\", \"font\": {\"color\": \"#ffffff\"}, \"x\": -0.45, \"yref\": \"y1\", \"align\": \"left\", \"text\": \"<b>Project</b>\"}, {\"xanchor\": \"left\", \"showarrow\": false, \"y\": 0, \"xref\": \"x1\", \"font\": {\"color\": \"#ffffff\"}, \"x\": 0.55, \"yref\": \"y1\", \"align\": \"left\", \"text\": \"<b>Org</b>\"}, {\"xanchor\": \"left\", \"showarrow\": false, \"y\": 0, \"xref\": \"x1\", \"font\": {\"color\": \"#ffffff\"}, \"x\": 1.55, \"yref\": \"y1\", \"align\": \"left\", \"text\": \"<b># Commits</b>\"}, {\"xanchor\": \"left\", \"showarrow\": false, \"y\": 0, \"xref\": \"x1\", \"font\": {\"color\": \"#ffffff\"}, \"x\": 2.55, \"yref\": \"y1\", \"align\": \"left\", \"text\": \"<b>Repo</b>\"}, {\"xanchor\": \"left\", \"showarrow\": false, \"y\": 1, \"xref\": \"x1\", \"font\": {\"color\": \"#000000\"}, \"x\": -0.45, \"yref\": \"y1\", \"align\": \"left\", \"text\": \"Gecko\"}, {\"xanchor\": \"left\", \"showarrow\": false, \"y\": 1, \"xref\": \"x1\", \"font\": {\"color\": \"#000000\"}, \"x\": 0.55, \"yref\": \"y1\", \"align\": \"left\", \"text\": \"Mozilla Staff\"}, {\"xanchor\": \"left\", \"showarrow\": false, \"y\": 1, \"xref\": \"x1\", \"font\": {\"color\": \"#000000\"}, \"x\": 1.55, \"yref\": \"y1\", \"align\": \"left\", \"text\": \"831509.0\"}, {\"xanchor\": \"left\", \"showarrow\": false, \"y\": 1, \"xref\": \"x1\", \"font\": {\"color\": \"#000000\"}, \"x\": 2.55, \"yref\": \"y1\", \"align\": \"left\", \"text\": \"5\"}, {\"xanchor\": \"left\", \"showarrow\": false, \"y\": 2, \"xref\": \"x1\", \"font\": {\"color\": \"#000000\"}, \"x\": -0.45, \"yref\": \"y1\", \"align\": \"left\", \"text\": \"Gecko\"}, {\"xanchor\": \"left\", \"showarrow\": false, \"y\": 2, \"xref\": \"x1\", \"font\": {\"color\": \"#000000\"}, \"x\": 0.55, \"yref\": \"y1\", \"align\": \"left\", \"text\": \"Community\"}, {\"xanchor\": \"left\", \"showarrow\": false, \"y\": 2, \"xref\": \"x1\", \"font\": {\"color\": \"#000000\"}, \"x\": 1.55, \"yref\": \"y1\", \"align\": \"left\", \"text\": \"580664.0\"}, {\"xanchor\": \"left\", \"showarrow\": false, \"y\": 2, \"xref\": \"x1\", \"font\": {\"color\": \"#000000\"}, \"x\": 2.55, \"yref\": \"y1\", \"align\": \"left\", \"text\": \"5\"}, {\"xanchor\": \"left\", \"showarrow\": false, \"y\": 3, \"xref\": \"x1\", \"font\": {\"color\": \"#000000\"}, \"x\": -0.45, \"yref\": \"y1\", \"align\": \"left\", \"text\": \"IT/Ops\"}, {\"xanchor\": \"left\", \"showarrow\": false, \"y\": 3, \"xref\": \"x1\", \"font\": {\"color\": \"#000000\"}, \"x\": 0.55, \"yref\": \"y1\", \"align\": \"left\", \"text\": \"Mozilla Staff\"}, {\"xanchor\": \"left\", \"showarrow\": false, \"y\": 3, \"xref\": \"x1\", \"font\": {\"color\": \"#000000\"}, \"x\": 1.55, \"yref\": \"y1\", \"align\": \"left\", \"text\": \"115882.0\"}, {\"xanchor\": \"left\", \"showarrow\": false, \"y\": 3, \"xref\": \"x1\", \"font\": {\"color\": \"#000000\"}, \"x\": 2.55, \"yref\": \"y1\", \"align\": \"left\", \"text\": \"182\"}, {\"xanchor\": \"left\", \"showarrow\": false, \"y\": 4, \"xref\": \"x1\", \"font\": {\"color\": \"#000000\"}, \"x\": -0.45, \"yref\": \"y1\", \"align\": \"left\", \"text\": \"Web Properties\"}, {\"xanchor\": \"left\", \"showarrow\": false, \"y\": 4, \"xref\": \"x1\", \"font\": {\"color\": \"#000000\"}, \"x\": 0.55, \"yref\": \"y1\", \"align\": \"left\", \"text\": \"Mozilla Staff\"}, {\"xanchor\": \"left\", \"showarrow\": false, \"y\": 4, \"xref\": \"x1\", \"font\": {\"color\": \"#000000\"}, \"x\": 1.55, \"yref\": \"y1\", \"align\": \"left\", \"text\": \"74274.0\"}, {\"xanchor\": \"left\", \"showarrow\": false, \"y\": 4, \"xref\": \"x1\", \"font\": {\"color\": \"#000000\"}, \"x\": 2.55, \"yref\": \"y1\", \"align\": \"left\", \"text\": \"113\"}, {\"xanchor\": \"left\", \"showarrow\": false, \"y\": 5, \"xref\": \"x1\", \"font\": {\"color\": \"#000000\"}, \"x\": -0.45, \"yref\": \"y1\", \"align\": \"left\", \"text\": \"Addons/Web Extensions\"}, {\"xanchor\": \"left\", \"showarrow\": false, \"y\": 5, \"xref\": \"x1\", \"font\": {\"color\": \"#000000\"}, \"x\": 0.55, \"yref\": \"y1\", \"align\": \"left\", \"text\": \"Mozilla Staff\"}, {\"xanchor\": \"left\", \"showarrow\": false, \"y\": 5, \"xref\": \"x1\", \"font\": {\"color\": \"#000000\"}, \"x\": 1.55, \"yref\": \"y1\", \"align\": \"left\", \"text\": \"53981.0\"}, {\"xanchor\": \"left\", \"showarrow\": false, \"y\": 5, \"xref\": \"x1\", \"font\": {\"color\": \"#000000\"}, \"x\": 2.55, \"yref\": \"y1\", \"align\": \"left\", \"text\": \"19\"}, {\"xanchor\": \"left\", \"showarrow\": false, \"y\": 6, \"xref\": \"x1\", \"font\": {\"color\": \"#000000\"}, \"x\": -0.45, \"yref\": \"y1\", \"align\": \"left\", \"text\": \"Gecko\"}, {\"xanchor\": \"left\", \"showarrow\": false, \"y\": 6, \"xref\": \"x1\", \"font\": {\"color\": \"#000000\"}, \"x\": 0.55, \"yref\": \"y1\", \"align\": \"left\", \"text\": \"Code Sheriff\"}, {\"xanchor\": \"left\", \"showarrow\": false, \"y\": 6, \"xref\": \"x1\", \"font\": {\"color\": \"#000000\"}, \"x\": 1.55, \"yref\": \"y1\", \"align\": \"left\", \"text\": \"52512.0\"}, {\"xanchor\": \"left\", \"showarrow\": false, \"y\": 6, \"xref\": \"x1\", \"font\": {\"color\": \"#000000\"}, \"x\": 2.55, \"yref\": \"y1\", \"align\": \"left\", \"text\": \"3\"}, {\"xanchor\": \"left\", \"showarrow\": false, \"y\": 7, \"xref\": \"x1\", \"font\": {\"color\": \"#000000\"}, \"x\": -0.45, \"yref\": \"y1\", \"align\": \"left\", \"text\": \"Rust\"}, {\"xanchor\": \"left\", \"showarrow\": false, \"y\": 7, \"xref\": \"x1\", \"font\": {\"color\": \"#000000\"}, \"x\": 0.55, \"yref\": \"y1\", \"align\": \"left\", \"text\": \"Mozilla Staff\"}, {\"xanchor\": \"left\", \"showarrow\": false, \"y\": 7, \"xref\": \"x1\", \"font\": {\"color\": \"#000000\"}, \"x\": 1.55, \"yref\": \"y1\", \"align\": \"left\", \"text\": \"36024.0\"}, {\"xanchor\": \"left\", \"showarrow\": false, \"y\": 7, \"xref\": \"x1\", \"font\": {\"color\": \"#000000\"}, \"x\": 2.55, \"yref\": \"y1\", \"align\": \"left\", \"text\": \"27\"}, {\"xanchor\": \"left\", \"showarrow\": false, \"y\": 8, \"xref\": \"x1\", \"font\": {\"color\": \"#000000\"}, \"x\": -0.45, \"yref\": \"y1\", \"align\": \"left\", \"text\": \"Servo\"}, {\"xanchor\": \"left\", \"showarrow\": false, \"y\": 8, \"xref\": \"x1\", \"font\": {\"color\": \"#000000\"}, \"x\": 0.55, \"yref\": \"y1\", \"align\": \"left\", \"text\": \"Community\"}, {\"xanchor\": \"left\", \"showarrow\": false, \"y\": 8, \"xref\": \"x1\", \"font\": {\"color\": \"#000000\"}, \"x\": 1.55, \"yref\": \"y1\", \"align\": \"left\", \"text\": \"32594.0\"}, {\"xanchor\": \"left\", \"showarrow\": false, \"y\": 8, \"xref\": \"x1\", \"font\": {\"color\": \"#000000\"}, \"x\": 2.55, \"yref\": \"y1\", \"align\": \"left\", \"text\": \"73\"}, {\"xanchor\": \"left\", \"showarrow\": false, \"y\": 9, \"xref\": \"x1\", \"font\": {\"color\": \"#000000\"}, \"x\": -0.45, \"yref\": \"y1\", \"align\": \"left\", \"text\": \"Rust\"}, {\"xanchor\": \"left\", \"showarrow\": false, \"y\": 9, \"xref\": \"x1\", \"font\": {\"color\": \"#000000\"}, \"x\": 0.55, \"yref\": \"y1\", \"align\": \"left\", \"text\": \"Community\"}, {\"xanchor\": \"left\", \"showarrow\": false, \"y\": 9, \"xref\": \"x1\", \"font\": {\"color\": \"#000000\"}, \"x\": 1.55, \"yref\": \"y1\", \"align\": \"left\", \"text\": \"31342.0\"}, {\"xanchor\": \"left\", \"showarrow\": false, \"y\": 9, \"xref\": \"x1\", \"font\": {\"color\": \"#000000\"}, \"x\": 2.55, \"yref\": \"y1\", \"align\": \"left\", \"text\": \"25\"}, {\"xanchor\": \"left\", \"showarrow\": false, \"y\": 10, \"xref\": \"x1\", \"font\": {\"color\": \"#000000\"}, \"x\": -0.45, \"yref\": \"y1\", \"align\": \"left\", \"text\": \"Servo\"}, {\"xanchor\": \"left\", \"showarrow\": false, \"y\": 10, \"xref\": \"x1\", \"font\": {\"color\": \"#000000\"}, \"x\": 0.55, \"yref\": \"y1\", \"align\": \"left\", \"text\": \"Mozilla Staff\"}, {\"xanchor\": \"left\", \"showarrow\": false, \"y\": 10, \"xref\": \"x1\", \"font\": {\"color\": \"#000000\"}, \"x\": 1.55, \"yref\": \"y1\", \"align\": \"left\", \"text\": \"31092.0\"}, {\"xanchor\": \"left\", \"showarrow\": false, \"y\": 10, \"xref\": \"x1\", \"font\": {\"color\": \"#000000\"}, \"x\": 2.55, \"yref\": \"y1\", \"align\": \"left\", \"text\": \"81\"}, {\"xanchor\": \"left\", \"showarrow\": false, \"y\": 11, \"xref\": \"x1\", \"font\": {\"color\": \"#000000\"}, \"x\": -0.45, \"yref\": \"y1\", \"align\": \"left\", \"text\": \"IT/Ops\"}, {\"xanchor\": \"left\", \"showarrow\": false, \"y\": 11, \"xref\": \"x1\", \"font\": {\"color\": \"#000000\"}, \"x\": 0.55, \"yref\": \"y1\", \"align\": \"left\", \"text\": \"Community\"}, {\"xanchor\": \"left\", \"showarrow\": false, \"y\": 11, \"xref\": \"x1\", \"font\": {\"color\": \"#000000\"}, \"x\": 1.55, \"yref\": \"y1\", \"align\": \"left\", \"text\": \"24449.0\"}, {\"xanchor\": \"left\", \"showarrow\": false, \"y\": 11, \"xref\": \"x1\", \"font\": {\"color\": \"#000000\"}, \"x\": 2.55, \"yref\": \"y1\", \"align\": \"left\", \"text\": \"75\"}, {\"xanchor\": \"left\", \"showarrow\": false, \"y\": 12, \"xref\": \"x1\", \"font\": {\"color\": \"#000000\"}, \"x\": -0.45, \"yref\": \"y1\", \"align\": \"left\", \"text\": \"Release engineering\"}, {\"xanchor\": \"left\", \"showarrow\": false, \"y\": 12, \"xref\": \"x1\", \"font\": {\"color\": \"#000000\"}, \"x\": 0.55, \"yref\": \"y1\", \"align\": \"left\", \"text\": \"Mozilla Staff\"}, {\"xanchor\": \"left\", \"showarrow\": false, \"y\": 12, \"xref\": \"x1\", \"font\": {\"color\": \"#000000\"}, \"x\": 1.55, \"yref\": \"y1\", \"align\": \"left\", \"text\": \"14875.0\"}, {\"xanchor\": \"left\", \"showarrow\": false, \"y\": 12, \"xref\": \"x1\", \"font\": {\"color\": \"#000000\"}, \"x\": 2.55, \"yref\": \"y1\", \"align\": \"left\", \"text\": \"22\"}, {\"xanchor\": \"left\", \"showarrow\": false, \"y\": 13, \"xref\": \"x1\", \"font\": {\"color\": \"#000000\"}, \"x\": -0.45, \"yref\": \"y1\", \"align\": \"left\", \"text\": \"Web Properties\"}, {\"xanchor\": \"left\", \"showarrow\": false, \"y\": 13, \"xref\": \"x1\", \"font\": {\"color\": \"#000000\"}, \"x\": 0.55, \"yref\": \"y1\", \"align\": \"left\", \"text\": \"Community\"}, {\"xanchor\": \"left\", \"showarrow\": false, \"y\": 13, \"xref\": \"x1\", \"font\": {\"color\": \"#000000\"}, \"x\": 1.55, \"yref\": \"y1\", \"align\": \"left\", \"text\": \"13063.0\"}, {\"xanchor\": \"left\", \"showarrow\": false, \"y\": 13, \"xref\": \"x1\", \"font\": {\"color\": \"#000000\"}, \"x\": 2.55, \"yref\": \"y1\", \"align\": \"left\", \"text\": \"91\"}, {\"xanchor\": \"left\", \"showarrow\": false, \"y\": 14, \"xref\": \"x1\", \"font\": {\"color\": \"#000000\"}, \"x\": -0.45, \"yref\": \"y1\", \"align\": \"left\", \"text\": \"Mozilla Local/Regional communities\"}, {\"xanchor\": \"left\", \"showarrow\": false, \"y\": 14, \"xref\": \"x1\", \"font\": {\"color\": \"#000000\"}, \"x\": 0.55, \"yref\": \"y1\", \"align\": \"left\", \"text\": \"Community\"}, {\"xanchor\": \"left\", \"showarrow\": false, \"y\": 14, \"xref\": \"x1\", \"font\": {\"color\": \"#000000\"}, \"x\": 1.55, \"yref\": \"y1\", \"align\": \"left\", \"text\": \"9828.0\"}, {\"xanchor\": \"left\", \"showarrow\": false, \"y\": 14, \"xref\": \"x1\", \"font\": {\"color\": \"#000000\"}, \"x\": 2.55, \"yref\": \"y1\", \"align\": \"left\", \"text\": \"143\"}, {\"xanchor\": \"left\", \"showarrow\": false, \"y\": 15, \"xref\": \"x1\", \"font\": {\"color\": \"#000000\"}, \"x\": -0.45, \"yref\": \"y1\", \"align\": \"left\", \"text\": \"Mozilla Local/Regional communities\"}, {\"xanchor\": \"left\", \"showarrow\": false, \"y\": 15, \"xref\": \"x1\", \"font\": {\"color\": \"#000000\"}, \"x\": 0.55, \"yref\": \"y1\", \"align\": \"left\", \"text\": \"Mozilla Staff\"}, {\"xanchor\": \"left\", \"showarrow\": false, \"y\": 15, \"xref\": \"x1\", \"font\": {\"color\": \"#000000\"}, \"x\": 1.55, \"yref\": \"y1\", \"align\": \"left\", \"text\": \"7458.0\"}, {\"xanchor\": \"left\", \"showarrow\": false, \"y\": 15, \"xref\": \"x1\", \"font\": {\"color\": \"#000000\"}, \"x\": 2.55, \"yref\": \"y1\", \"align\": \"left\", \"text\": \"77\"}, {\"xanchor\": \"left\", \"showarrow\": false, \"y\": 16, \"xref\": \"x1\", \"font\": {\"color\": \"#000000\"}, \"x\": -0.45, \"yref\": \"y1\", \"align\": \"left\", \"text\": \"Addons/Web Extensions\"}, {\"xanchor\": \"left\", \"showarrow\": false, \"y\": 16, \"xref\": \"x1\", \"font\": {\"color\": \"#000000\"}, \"x\": 0.55, \"yref\": \"y1\", \"align\": \"left\", \"text\": \"Community\"}, {\"xanchor\": \"left\", \"showarrow\": false, \"y\": 16, \"xref\": \"x1\", \"font\": {\"color\": \"#000000\"}, \"x\": 1.55, \"yref\": \"y1\", \"align\": \"left\", \"text\": \"7434.0\"}, {\"xanchor\": \"left\", \"showarrow\": false, \"y\": 16, \"xref\": \"x1\", \"font\": {\"color\": \"#000000\"}, \"x\": 2.55, \"yref\": \"y1\", \"align\": \"left\", \"text\": \"11\"}, {\"xanchor\": \"left\", \"showarrow\": false, \"y\": 17, \"xref\": \"x1\", \"font\": {\"color\": \"#000000\"}, \"x\": -0.45, \"yref\": \"y1\", \"align\": \"left\", \"text\": \"Web Literacy\"}, {\"xanchor\": \"left\", \"showarrow\": false, \"y\": 17, \"xref\": \"x1\", \"font\": {\"color\": \"#000000\"}, \"x\": 0.55, \"yref\": \"y1\", \"align\": \"left\", \"text\": \"Community\"}, {\"xanchor\": \"left\", \"showarrow\": false, \"y\": 17, \"xref\": \"x1\", \"font\": {\"color\": \"#000000\"}, \"x\": 1.55, \"yref\": \"y1\", \"align\": \"left\", \"text\": \"7330.0\"}, {\"xanchor\": \"left\", \"showarrow\": false, \"y\": 17, \"xref\": \"x1\", \"font\": {\"color\": \"#000000\"}, \"x\": 2.55, \"yref\": \"y1\", \"align\": \"left\", \"text\": \"40\"}, {\"xanchor\": \"left\", \"showarrow\": false, \"y\": 18, \"xref\": \"x1\", \"font\": {\"color\": \"#000000\"}, \"x\": -0.45, \"yref\": \"y1\", \"align\": \"left\", \"text\": \"Web Literacy\"}, {\"xanchor\": \"left\", \"showarrow\": false, \"y\": 18, \"xref\": \"x1\", \"font\": {\"color\": \"#000000\"}, \"x\": 0.55, \"yref\": \"y1\", \"align\": \"left\", \"text\": \"Mozilla Staff\"}, {\"xanchor\": \"left\", \"showarrow\": false, \"y\": 18, \"xref\": \"x1\", \"font\": {\"color\": \"#000000\"}, \"x\": 1.55, \"yref\": \"y1\", \"align\": \"left\", \"text\": \"6587.0\"}, {\"xanchor\": \"left\", \"showarrow\": false, \"y\": 18, \"xref\": \"x1\", \"font\": {\"color\": \"#000000\"}, \"x\": 2.55, \"yref\": \"y1\", \"align\": \"left\", \"text\": \"51\"}, {\"xanchor\": \"left\", \"showarrow\": false, \"y\": 19, \"xref\": \"x1\", \"font\": {\"color\": \"#000000\"}, \"x\": -0.45, \"yref\": \"y1\", \"align\": \"left\", \"text\": \"Firefox iOS\"}, {\"xanchor\": \"left\", \"showarrow\": false, \"y\": 19, \"xref\": \"x1\", \"font\": {\"color\": \"#000000\"}, \"x\": 0.55, \"yref\": \"y1\", \"align\": \"left\", \"text\": \"Mozilla Staff\"}, {\"xanchor\": \"left\", \"showarrow\": false, \"y\": 19, \"xref\": \"x1\", \"font\": {\"color\": \"#000000\"}, \"x\": 1.55, \"yref\": \"y1\", \"align\": \"left\", \"text\": \"5935.0\"}, {\"xanchor\": \"left\", \"showarrow\": false, \"y\": 19, \"xref\": \"x1\", \"font\": {\"color\": \"#000000\"}, \"x\": 2.55, \"yref\": \"y1\", \"align\": \"left\", \"text\": \"5\"}, {\"xanchor\": \"left\", \"showarrow\": false, \"y\": 20, \"xref\": \"x1\", \"font\": {\"color\": \"#000000\"}, \"x\": -0.45, \"yref\": \"y1\", \"align\": \"left\", \"text\": \"Firefox OS (FxOS / B2G)\"}, {\"xanchor\": \"left\", \"showarrow\": false, \"y\": 20, \"xref\": \"x1\", \"font\": {\"color\": \"#000000\"}, \"x\": 0.55, \"yref\": \"y1\", \"align\": \"left\", \"text\": \"Mozilla Staff\"}, {\"xanchor\": \"left\", \"showarrow\": false, \"y\": 20, \"xref\": \"x1\", \"font\": {\"color\": \"#000000\"}, \"x\": 1.55, \"yref\": \"y1\", \"align\": \"left\", \"text\": \"5914.0\"}, {\"xanchor\": \"left\", \"showarrow\": false, \"y\": 20, \"xref\": \"x1\", \"font\": {\"color\": \"#000000\"}, \"x\": 2.55, \"yref\": \"y1\", \"align\": \"left\", \"text\": \"26\"}, {\"xanchor\": \"left\", \"showarrow\": false, \"y\": 21, \"xref\": \"x1\", \"font\": {\"color\": \"#000000\"}, \"x\": -0.45, \"yref\": \"y1\", \"align\": \"left\", \"text\": \"WebVR\"}, {\"xanchor\": \"left\", \"showarrow\": false, \"y\": 21, \"xref\": \"x1\", \"font\": {\"color\": \"#000000\"}, \"x\": 0.55, \"yref\": \"y1\", \"align\": \"left\", \"text\": \"Mozilla Staff\"}, {\"xanchor\": \"left\", \"showarrow\": false, \"y\": 21, \"xref\": \"x1\", \"font\": {\"color\": \"#000000\"}, \"x\": 1.55, \"yref\": \"y1\", \"align\": \"left\", \"text\": \"5851.0\"}, {\"xanchor\": \"left\", \"showarrow\": false, \"y\": 21, \"xref\": \"x1\", \"font\": {\"color\": \"#000000\"}, \"x\": 2.55, \"yref\": \"y1\", \"align\": \"left\", \"text\": \"29\"}, {\"xanchor\": \"left\", \"showarrow\": false, \"y\": 22, \"xref\": \"x1\", \"font\": {\"color\": \"#000000\"}, \"x\": -0.45, \"yref\": \"y1\", \"align\": \"left\", \"text\": \"Quality Assurance\"}, {\"xanchor\": \"left\", \"showarrow\": false, \"y\": 22, \"xref\": \"x1\", \"font\": {\"color\": \"#000000\"}, \"x\": 0.55, \"yref\": \"y1\", \"align\": \"left\", \"text\": \"Mozilla Staff\"}, {\"xanchor\": \"left\", \"showarrow\": false, \"y\": 22, \"xref\": \"x1\", \"font\": {\"color\": \"#000000\"}, \"x\": 1.55, \"yref\": \"y1\", \"align\": \"left\", \"text\": \"3812.0\"}, {\"xanchor\": \"left\", \"showarrow\": false, \"y\": 22, \"xref\": \"x1\", \"font\": {\"color\": \"#000000\"}, \"x\": 2.55, \"yref\": \"y1\", \"align\": \"left\", \"text\": \"3\"}, {\"xanchor\": \"left\", \"showarrow\": false, \"y\": 23, \"xref\": \"x1\", \"font\": {\"color\": \"#000000\"}, \"x\": -0.45, \"yref\": \"y1\", \"align\": \"left\", \"text\": \"Servo\"}, {\"xanchor\": \"left\", \"showarrow\": false, \"y\": 23, \"xref\": \"x1\", \"font\": {\"color\": \"#000000\"}, \"x\": 0.55, \"yref\": \"y1\", \"align\": \"left\", \"text\": \"Code Sheriff\"}, {\"xanchor\": \"left\", \"showarrow\": false, \"y\": 23, \"xref\": \"x1\", \"font\": {\"color\": \"#000000\"}, \"x\": 1.55, \"yref\": \"y1\", \"align\": \"left\", \"text\": \"3594.0\"}, {\"xanchor\": \"left\", \"showarrow\": false, \"y\": 23, \"xref\": \"x1\", \"font\": {\"color\": \"#000000\"}, \"x\": 2.55, \"yref\": \"y1\", \"align\": \"left\", \"text\": \"40\"}, {\"xanchor\": \"left\", \"showarrow\": false, \"y\": 24, \"xref\": \"x1\", \"font\": {\"color\": \"#000000\"}, \"x\": -0.45, \"yref\": \"y1\", \"align\": \"left\", \"text\": \"Mozilla Developer Network (MDN)\"}, {\"xanchor\": \"left\", \"showarrow\": false, \"y\": 24, \"xref\": \"x1\", \"font\": {\"color\": \"#000000\"}, \"x\": 0.55, \"yref\": \"y1\", \"align\": \"left\", \"text\": \"Mozilla Staff\"}, {\"xanchor\": \"left\", \"showarrow\": false, \"y\": 24, \"xref\": \"x1\", \"font\": {\"color\": \"#000000\"}, \"x\": 1.55, \"yref\": \"y1\", \"align\": \"left\", \"text\": \"3181.0\"}, {\"xanchor\": \"left\", \"showarrow\": false, \"y\": 24, \"xref\": \"x1\", \"font\": {\"color\": \"#000000\"}, \"x\": 2.55, \"yref\": \"y1\", \"align\": \"left\", \"text\": \"47\"}, {\"xanchor\": \"left\", \"showarrow\": false, \"y\": 25, \"xref\": \"x1\", \"font\": {\"color\": \"#000000\"}, \"x\": -0.45, \"yref\": \"y1\", \"align\": \"left\", \"text\": \"Mozilla Science\"}, {\"xanchor\": \"left\", \"showarrow\": false, \"y\": 25, \"xref\": \"x1\", \"font\": {\"color\": \"#000000\"}, \"x\": 0.55, \"yref\": \"y1\", \"align\": \"left\", \"text\": \"Community\"}, {\"xanchor\": \"left\", \"showarrow\": false, \"y\": 25, \"xref\": \"x1\", \"font\": {\"color\": \"#000000\"}, \"x\": 1.55, \"yref\": \"y1\", \"align\": \"left\", \"text\": \"2608.0\"}, {\"xanchor\": \"left\", \"showarrow\": false, \"y\": 25, \"xref\": \"x1\", \"font\": {\"color\": \"#000000\"}, \"x\": 2.55, \"yref\": \"y1\", \"align\": \"left\", \"text\": \"34\"}, {\"xanchor\": \"left\", \"showarrow\": false, \"y\": 26, \"xref\": \"x1\", \"font\": {\"color\": \"#000000\"}, \"x\": -0.45, \"yref\": \"y1\", \"align\": \"left\", \"text\": \"Marketing / Social Media\"}, {\"xanchor\": \"left\", \"showarrow\": false, \"y\": 26, \"xref\": \"x1\", \"font\": {\"color\": \"#000000\"}, \"x\": 0.55, \"yref\": \"y1\", \"align\": \"left\", \"text\": \"Mozilla Staff\"}, {\"xanchor\": \"left\", \"showarrow\": false, \"y\": 26, \"xref\": \"x1\", \"font\": {\"color\": \"#000000\"}, \"x\": 1.55, \"yref\": \"y1\", \"align\": \"left\", \"text\": \"2156.0\"}, {\"xanchor\": \"left\", \"showarrow\": false, \"y\": 26, \"xref\": \"x1\", \"font\": {\"color\": \"#000000\"}, \"x\": 2.55, \"yref\": \"y1\", \"align\": \"left\", \"text\": \"15\"}, {\"xanchor\": \"left\", \"showarrow\": false, \"y\": 27, \"xref\": \"x1\", \"font\": {\"color\": \"#000000\"}, \"x\": -0.45, \"yref\": \"y1\", \"align\": \"left\", \"text\": \"Test Pilot\"}, {\"xanchor\": \"left\", \"showarrow\": false, \"y\": 27, \"xref\": \"x1\", \"font\": {\"color\": \"#000000\"}, \"x\": 0.55, \"yref\": \"y1\", \"align\": \"left\", \"text\": \"Mozilla Staff\"}, {\"xanchor\": \"left\", \"showarrow\": false, \"y\": 27, \"xref\": \"x1\", \"font\": {\"color\": \"#000000\"}, \"x\": 1.55, \"yref\": \"y1\", \"align\": \"left\", \"text\": \"1873.0\"}, {\"xanchor\": \"left\", \"showarrow\": false, \"y\": 27, \"xref\": \"x1\", \"font\": {\"color\": \"#000000\"}, \"x\": 2.55, \"yref\": \"y1\", \"align\": \"left\", \"text\": \"6\"}, {\"xanchor\": \"left\", \"showarrow\": false, \"y\": 28, \"xref\": \"x1\", \"font\": {\"color\": \"#000000\"}, \"x\": -0.45, \"yref\": \"y1\", \"align\": \"left\", \"text\": \"IT/Ops\"}, {\"xanchor\": \"left\", \"showarrow\": false, \"y\": 28, \"xref\": \"x1\", \"font\": {\"color\": \"#000000\"}, \"x\": 0.55, \"yref\": \"y1\", \"align\": \"left\", \"text\": \"Code Sheriff\"}, {\"xanchor\": \"left\", \"showarrow\": false, \"y\": 28, \"xref\": \"x1\", \"font\": {\"color\": \"#000000\"}, \"x\": 1.55, \"yref\": \"y1\", \"align\": \"left\", \"text\": \"1748.0\"}, {\"xanchor\": \"left\", \"showarrow\": false, \"y\": 28, \"xref\": \"x1\", \"font\": {\"color\": \"#000000\"}, \"x\": 2.55, \"yref\": \"y1\", \"align\": \"left\", \"text\": \"3\"}, {\"xanchor\": \"left\", \"showarrow\": false, \"y\": 29, \"xref\": \"x1\", \"font\": {\"color\": \"#000000\"}, \"x\": -0.45, \"yref\": \"y1\", \"align\": \"left\", \"text\": \"Mozilla Location Service (MLS) / Stumbler\"}, {\"xanchor\": \"left\", \"showarrow\": false, \"y\": 29, \"xref\": \"x1\", \"font\": {\"color\": \"#000000\"}, \"x\": 0.55, \"yref\": \"y1\", \"align\": \"left\", \"text\": \"Mozilla Staff\"}, {\"xanchor\": \"left\", \"showarrow\": false, \"y\": 29, \"xref\": \"x1\", \"font\": {\"color\": \"#000000\"}, \"x\": 1.55, \"yref\": \"y1\", \"align\": \"left\", \"text\": \"1375.0\"}, {\"xanchor\": \"left\", \"showarrow\": false, \"y\": 29, \"xref\": \"x1\", \"font\": {\"color\": \"#000000\"}, \"x\": 2.55, \"yref\": \"y1\", \"align\": \"left\", \"text\": \"1\"}, {\"xanchor\": \"left\", \"showarrow\": false, \"y\": 30, \"xref\": \"x1\", \"font\": {\"color\": \"#000000\"}, \"x\": -0.45, \"yref\": \"y1\", \"align\": \"left\", \"text\": \"Firefox Focus\"}, {\"xanchor\": \"left\", \"showarrow\": false, \"y\": 30, \"xref\": \"x1\", \"font\": {\"color\": \"#000000\"}, \"x\": 0.55, \"yref\": \"y1\", \"align\": \"left\", \"text\": \"Mozilla Staff\"}, {\"xanchor\": \"left\", \"showarrow\": false, \"y\": 30, \"xref\": \"x1\", \"font\": {\"color\": \"#000000\"}, \"x\": 1.55, \"yref\": \"y1\", \"align\": \"left\", \"text\": \"1254.0\"}, {\"xanchor\": \"left\", \"showarrow\": false, \"y\": 30, \"xref\": \"x1\", \"font\": {\"color\": \"#000000\"}, \"x\": 2.55, \"yref\": \"y1\", \"align\": \"left\", \"text\": \"2\"}, {\"xanchor\": \"left\", \"showarrow\": false, \"y\": 31, \"xref\": \"x1\", \"font\": {\"color\": \"#000000\"}, \"x\": -0.45, \"yref\": \"y1\", \"align\": \"left\", \"text\": \"WebVR\"}, {\"xanchor\": \"left\", \"showarrow\": false, \"y\": 31, \"xref\": \"x1\", \"font\": {\"color\": \"#000000\"}, \"x\": 0.55, \"yref\": \"y1\", \"align\": \"left\", \"text\": \"Community\"}, {\"xanchor\": \"left\", \"showarrow\": false, \"y\": 31, \"xref\": \"x1\", \"font\": {\"color\": \"#000000\"}, \"x\": 1.55, \"yref\": \"y1\", \"align\": \"left\", \"text\": \"1217.0\"}, {\"xanchor\": \"left\", \"showarrow\": false, \"y\": 31, \"xref\": \"x1\", \"font\": {\"color\": \"#000000\"}, \"x\": 2.55, \"yref\": \"y1\", \"align\": \"left\", \"text\": \"19\"}, {\"xanchor\": \"left\", \"showarrow\": false, \"y\": 32, \"xref\": \"x1\", \"font\": {\"color\": \"#000000\"}, \"x\": -0.45, \"yref\": \"y1\", \"align\": \"left\", \"text\": \"Test Pilot\"}, {\"xanchor\": \"left\", \"showarrow\": false, \"y\": 32, \"xref\": \"x1\", \"font\": {\"color\": \"#000000\"}, \"x\": 0.55, \"yref\": \"y1\", \"align\": \"left\", \"text\": \"Community\"}, {\"xanchor\": \"left\", \"showarrow\": false, \"y\": 32, \"xref\": \"x1\", \"font\": {\"color\": \"#000000\"}, \"x\": 1.55, \"yref\": \"y1\", \"align\": \"left\", \"text\": \"1186.0\"}, {\"xanchor\": \"left\", \"showarrow\": false, \"y\": 32, \"xref\": \"x1\", \"font\": {\"color\": \"#000000\"}, \"x\": 2.55, \"yref\": \"y1\", \"align\": \"left\", \"text\": \"2\"}, {\"xanchor\": \"left\", \"showarrow\": false, \"y\": 33, \"xref\": \"x1\", \"font\": {\"color\": \"#000000\"}, \"x\": -0.45, \"yref\": \"y1\", \"align\": \"left\", \"text\": \"Localization\"}, {\"xanchor\": \"left\", \"showarrow\": false, \"y\": 33, \"xref\": \"x1\", \"font\": {\"color\": \"#000000\"}, \"x\": 0.55, \"yref\": \"y1\", \"align\": \"left\", \"text\": \"Mozilla Staff\"}, {\"xanchor\": \"left\", \"showarrow\": false, \"y\": 33, \"xref\": \"x1\", \"font\": {\"color\": \"#000000\"}, \"x\": 1.55, \"yref\": \"y1\", \"align\": \"left\", \"text\": \"1073.0\"}, {\"xanchor\": \"left\", \"showarrow\": false, \"y\": 33, \"xref\": \"x1\", \"font\": {\"color\": \"#000000\"}, \"x\": 2.55, \"yref\": \"y1\", \"align\": \"left\", \"text\": \"4\"}, {\"xanchor\": \"left\", \"showarrow\": false, \"y\": 34, \"xref\": \"x1\", \"font\": {\"color\": \"#000000\"}, \"x\": -0.45, \"yref\": \"y1\", \"align\": \"left\", \"text\": \"Quality Assurance\"}, {\"xanchor\": \"left\", \"showarrow\": false, \"y\": 34, \"xref\": \"x1\", \"font\": {\"color\": \"#000000\"}, \"x\": 0.55, \"yref\": \"y1\", \"align\": \"left\", \"text\": \"Community\"}, {\"xanchor\": \"left\", \"showarrow\": false, \"y\": 34, \"xref\": \"x1\", \"font\": {\"color\": \"#000000\"}, \"x\": 1.55, \"yref\": \"y1\", \"align\": \"left\", \"text\": \"1072.0\"}, {\"xanchor\": \"left\", \"showarrow\": false, \"y\": 34, \"xref\": \"x1\", \"font\": {\"color\": \"#000000\"}, \"x\": 2.55, \"yref\": \"y1\", \"align\": \"left\", \"text\": \"2\"}, {\"xanchor\": \"left\", \"showarrow\": false, \"y\": 35, \"xref\": \"x1\", \"font\": {\"color\": \"#000000\"}, \"x\": -0.45, \"yref\": \"y1\", \"align\": \"left\", \"text\": \"Firefox\"}, {\"xanchor\": \"left\", \"showarrow\": false, \"y\": 35, \"xref\": \"x1\", \"font\": {\"color\": \"#000000\"}, \"x\": 0.55, \"yref\": \"y1\", \"align\": \"left\", \"text\": \"Mozilla Staff\"}, {\"xanchor\": \"left\", \"showarrow\": false, \"y\": 35, \"xref\": \"x1\", \"font\": {\"color\": \"#000000\"}, \"x\": 1.55, \"yref\": \"y1\", \"align\": \"left\", \"text\": \"1072.0\"}, {\"xanchor\": \"left\", \"showarrow\": false, \"y\": 35, \"xref\": \"x1\", \"font\": {\"color\": \"#000000\"}, \"x\": 2.55, \"yref\": \"y1\", \"align\": \"left\", \"text\": \"1\"}, {\"xanchor\": \"left\", \"showarrow\": false, \"y\": 36, \"xref\": \"x1\", \"font\": {\"color\": \"#000000\"}, \"x\": -0.45, \"yref\": \"y1\", \"align\": \"left\", \"text\": \"Advocacy and policy\"}, {\"xanchor\": \"left\", \"showarrow\": false, \"y\": 36, \"xref\": \"x1\", \"font\": {\"color\": \"#000000\"}, \"x\": 0.55, \"yref\": \"y1\", \"align\": \"left\", \"text\": \"Mozilla Staff\"}, {\"xanchor\": \"left\", \"showarrow\": false, \"y\": 36, \"xref\": \"x1\", \"font\": {\"color\": \"#000000\"}, \"x\": 1.55, \"yref\": \"y1\", \"align\": \"left\", \"text\": \"1031.0\"}, {\"xanchor\": \"left\", \"showarrow\": false, \"y\": 36, \"xref\": \"x1\", \"font\": {\"color\": \"#000000\"}, \"x\": 2.55, \"yref\": \"y1\", \"align\": \"left\", \"text\": \"4\"}, {\"xanchor\": \"left\", \"showarrow\": false, \"y\": 37, \"xref\": \"x1\", \"font\": {\"color\": \"#000000\"}, \"x\": -0.45, \"yref\": \"y1\", \"align\": \"left\", \"text\": \"Mozilla Science\"}, {\"xanchor\": \"left\", \"showarrow\": false, \"y\": 37, \"xref\": \"x1\", \"font\": {\"color\": \"#000000\"}, \"x\": 0.55, \"yref\": \"y1\", \"align\": \"left\", \"text\": \"Mozilla Staff\"}, {\"xanchor\": \"left\", \"showarrow\": false, \"y\": 37, \"xref\": \"x1\", \"font\": {\"color\": \"#000000\"}, \"x\": 1.55, \"yref\": \"y1\", \"align\": \"left\", \"text\": \"954.0\"}, {\"xanchor\": \"left\", \"showarrow\": false, \"y\": 37, \"xref\": \"x1\", \"font\": {\"color\": \"#000000\"}, \"x\": 2.55, \"yref\": \"y1\", \"align\": \"left\", \"text\": \"21\"}, {\"xanchor\": \"left\", \"showarrow\": false, \"y\": 38, \"xref\": \"x1\", \"font\": {\"color\": \"#000000\"}, \"x\": -0.45, \"yref\": \"y1\", \"align\": \"left\", \"text\": \"Localization\"}, {\"xanchor\": \"left\", \"showarrow\": false, \"y\": 38, \"xref\": \"x1\", \"font\": {\"color\": \"#000000\"}, \"x\": 0.55, \"yref\": \"y1\", \"align\": \"left\", \"text\": \"Community\"}, {\"xanchor\": \"left\", \"showarrow\": false, \"y\": 38, \"xref\": \"x1\", \"font\": {\"color\": \"#000000\"}, \"x\": 1.55, \"yref\": \"y1\", \"align\": \"left\", \"text\": \"940.0\"}, {\"xanchor\": \"left\", \"showarrow\": false, \"y\": 38, \"xref\": \"x1\", \"font\": {\"color\": \"#000000\"}, \"x\": 2.55, \"yref\": \"y1\", \"align\": \"left\", \"text\": \"4\"}, {\"xanchor\": \"left\", \"showarrow\": false, \"y\": 39, \"xref\": \"x1\", \"font\": {\"color\": \"#000000\"}, \"x\": -0.45, \"yref\": \"y1\", \"align\": \"left\", \"text\": \"Release engineering\"}, {\"xanchor\": \"left\", \"showarrow\": false, \"y\": 39, \"xref\": \"x1\", \"font\": {\"color\": \"#000000\"}, \"x\": 0.55, \"yref\": \"y1\", \"align\": \"left\", \"text\": \"Community\"}, {\"xanchor\": \"left\", \"showarrow\": false, \"y\": 39, \"xref\": \"x1\", \"font\": {\"color\": \"#000000\"}, \"x\": 1.55, \"yref\": \"y1\", \"align\": \"left\", \"text\": \"844.0\"}, {\"xanchor\": \"left\", \"showarrow\": false, \"y\": 39, \"xref\": \"x1\", \"font\": {\"color\": \"#000000\"}, \"x\": 2.55, \"yref\": \"y1\", \"align\": \"left\", \"text\": \"9\"}, {\"xanchor\": \"left\", \"showarrow\": false, \"y\": 40, \"xref\": \"x1\", \"font\": {\"color\": \"#000000\"}, \"x\": -0.45, \"yref\": \"y1\", \"align\": \"left\", \"text\": \"Mozilla Foundation\"}, {\"xanchor\": \"left\", \"showarrow\": false, \"y\": 40, \"xref\": \"x1\", \"font\": {\"color\": \"#000000\"}, \"x\": 0.55, \"yref\": \"y1\", \"align\": \"left\", \"text\": \"Mozilla Staff\"}, {\"xanchor\": \"left\", \"showarrow\": false, \"y\": 40, \"xref\": \"x1\", \"font\": {\"color\": \"#000000\"}, \"x\": 1.55, \"yref\": \"y1\", \"align\": \"left\", \"text\": \"816.0\"}, {\"xanchor\": \"left\", \"showarrow\": false, \"y\": 40, \"xref\": \"x1\", \"font\": {\"color\": \"#000000\"}, \"x\": 2.55, \"yref\": \"y1\", \"align\": \"left\", \"text\": \"36\"}, {\"xanchor\": \"left\", \"showarrow\": false, \"y\": 41, \"xref\": \"x1\", \"font\": {\"color\": \"#000000\"}, \"x\": -0.45, \"yref\": \"y1\", \"align\": \"left\", \"text\": \"Technical/Developer Evangelism\"}, {\"xanchor\": \"left\", \"showarrow\": false, \"y\": 41, \"xref\": \"x1\", \"font\": {\"color\": \"#000000\"}, \"x\": 0.55, \"yref\": \"y1\", \"align\": \"left\", \"text\": \"Mozilla Staff\"}, {\"xanchor\": \"left\", \"showarrow\": false, \"y\": 41, \"xref\": \"x1\", \"font\": {\"color\": \"#000000\"}, \"x\": 1.55, \"yref\": \"y1\", \"align\": \"left\", \"text\": \"814.0\"}, {\"xanchor\": \"left\", \"showarrow\": false, \"y\": 41, \"xref\": \"x1\", \"font\": {\"color\": \"#000000\"}, \"x\": 2.55, \"yref\": \"y1\", \"align\": \"left\", \"text\": \"17\"}, {\"xanchor\": \"left\", \"showarrow\": false, \"y\": 42, \"xref\": \"x1\", \"font\": {\"color\": \"#000000\"}, \"x\": -0.45, \"yref\": \"y1\", \"align\": \"left\", \"text\": \"Firefox OS (FxOS / B2G)\"}, {\"xanchor\": \"left\", \"showarrow\": false, \"y\": 42, \"xref\": \"x1\", \"font\": {\"color\": \"#000000\"}, \"x\": 0.55, \"yref\": \"y1\", \"align\": \"left\", \"text\": \"Community\"}, {\"xanchor\": \"left\", \"showarrow\": false, \"y\": 42, \"xref\": \"x1\", \"font\": {\"color\": \"#000000\"}, \"x\": 1.55, \"yref\": \"y1\", \"align\": \"left\", \"text\": \"736.0\"}, {\"xanchor\": \"left\", \"showarrow\": false, \"y\": 42, \"xref\": \"x1\", \"font\": {\"color\": \"#000000\"}, \"x\": 2.55, \"yref\": \"y1\", \"align\": \"left\", \"text\": \"17\"}, {\"xanchor\": \"left\", \"showarrow\": false, \"y\": 43, \"xref\": \"x1\", \"font\": {\"color\": \"#000000\"}, \"x\": -0.45, \"yref\": \"y1\", \"align\": \"left\", \"text\": \"Mozilla Location Service (MLS) / Stumbler\"}, {\"xanchor\": \"left\", \"showarrow\": false, \"y\": 43, \"xref\": \"x1\", \"font\": {\"color\": \"#000000\"}, \"x\": 0.55, \"yref\": \"y1\", \"align\": \"left\", \"text\": \"Community\"}, {\"xanchor\": \"left\", \"showarrow\": false, \"y\": 43, \"xref\": \"x1\", \"font\": {\"color\": \"#000000\"}, \"x\": 1.55, \"yref\": \"y1\", \"align\": \"left\", \"text\": \"591.0\"}, {\"xanchor\": \"left\", \"showarrow\": false, \"y\": 43, \"xref\": \"x1\", \"font\": {\"color\": \"#000000\"}, \"x\": 2.55, \"yref\": \"y1\", \"align\": \"left\", \"text\": \"1\"}, {\"xanchor\": \"left\", \"showarrow\": false, \"y\": 44, \"xref\": \"x1\", \"font\": {\"color\": \"#000000\"}, \"x\": -0.45, \"yref\": \"y1\", \"align\": \"left\", \"text\": \"Mozilla Foundation\"}, {\"xanchor\": \"left\", \"showarrow\": false, \"y\": 44, \"xref\": \"x1\", \"font\": {\"color\": \"#000000\"}, \"x\": 0.55, \"yref\": \"y1\", \"align\": \"left\", \"text\": \"Community\"}, {\"xanchor\": \"left\", \"showarrow\": false, \"y\": 44, \"xref\": \"x1\", \"font\": {\"color\": \"#000000\"}, \"x\": 1.55, \"yref\": \"y1\", \"align\": \"left\", \"text\": \"584.0\"}, {\"xanchor\": \"left\", \"showarrow\": false, \"y\": 44, \"xref\": \"x1\", \"font\": {\"color\": \"#000000\"}, \"x\": 2.55, \"yref\": \"y1\", \"align\": \"left\", \"text\": \"24\"}, {\"xanchor\": \"left\", \"showarrow\": false, \"y\": 45, \"xref\": \"x1\", \"font\": {\"color\": \"#000000\"}, \"x\": -0.45, \"yref\": \"y1\", \"align\": \"left\", \"text\": \"Vaani\"}, {\"xanchor\": \"left\", \"showarrow\": false, \"y\": 45, \"xref\": \"x1\", \"font\": {\"color\": \"#000000\"}, \"x\": 0.55, \"yref\": \"y1\", \"align\": \"left\", \"text\": \"Mozilla Staff\"}, {\"xanchor\": \"left\", \"showarrow\": false, \"y\": 45, \"xref\": \"x1\", \"font\": {\"color\": \"#000000\"}, \"x\": 1.55, \"yref\": \"y1\", \"align\": \"left\", \"text\": \"470.0\"}, {\"xanchor\": \"left\", \"showarrow\": false, \"y\": 45, \"xref\": \"x1\", \"font\": {\"color\": \"#000000\"}, \"x\": 2.55, \"yref\": \"y1\", \"align\": \"left\", \"text\": \"8\"}, {\"xanchor\": \"left\", \"showarrow\": false, \"y\": 46, \"xref\": \"x1\", \"font\": {\"color\": \"#000000\"}, \"x\": -0.45, \"yref\": \"y1\", \"align\": \"left\", \"text\": \"Mozilla Developer Network (MDN)\"}, {\"xanchor\": \"left\", \"showarrow\": false, \"y\": 46, \"xref\": \"x1\", \"font\": {\"color\": \"#000000\"}, \"x\": 0.55, \"yref\": \"y1\", \"align\": \"left\", \"text\": \"Community\"}, {\"xanchor\": \"left\", \"showarrow\": false, \"y\": 46, \"xref\": \"x1\", \"font\": {\"color\": \"#000000\"}, \"x\": 1.55, \"yref\": \"y1\", \"align\": \"left\", \"text\": \"465.0\"}, {\"xanchor\": \"left\", \"showarrow\": false, \"y\": 46, \"xref\": \"x1\", \"font\": {\"color\": \"#000000\"}, \"x\": 2.55, \"yref\": \"y1\", \"align\": \"left\", \"text\": \"27\"}, {\"xanchor\": \"left\", \"showarrow\": false, \"y\": 47, \"xref\": \"x1\", \"font\": {\"color\": \"#000000\"}, \"x\": -0.45, \"yref\": \"y1\", \"align\": \"left\", \"text\": \"Firefox\"}, {\"xanchor\": \"left\", \"showarrow\": false, \"y\": 47, \"xref\": \"x1\", \"font\": {\"color\": \"#000000\"}, \"x\": 0.55, \"yref\": \"y1\", \"align\": \"left\", \"text\": \"Community\"}, {\"xanchor\": \"left\", \"showarrow\": false, \"y\": 47, \"xref\": \"x1\", \"font\": {\"color\": \"#000000\"}, \"x\": 1.55, \"yref\": \"y1\", \"align\": \"left\", \"text\": \"461.0\"}, {\"xanchor\": \"left\", \"showarrow\": false, \"y\": 47, \"xref\": \"x1\", \"font\": {\"color\": \"#000000\"}, \"x\": 2.55, \"yref\": \"y1\", \"align\": \"left\", \"text\": \"1\"}, {\"xanchor\": \"left\", \"showarrow\": false, \"y\": 48, \"xref\": \"x1\", \"font\": {\"color\": \"#000000\"}, \"x\": -0.45, \"yref\": \"y1\", \"align\": \"left\", \"text\": \"Firefox iOS\"}, {\"xanchor\": \"left\", \"showarrow\": false, \"y\": 48, \"xref\": \"x1\", \"font\": {\"color\": \"#000000\"}, \"x\": 0.55, \"yref\": \"y1\", \"align\": \"left\", \"text\": \"Community\"}, {\"xanchor\": \"left\", \"showarrow\": false, \"y\": 48, \"xref\": \"x1\", \"font\": {\"color\": \"#000000\"}, \"x\": 1.55, \"yref\": \"y1\", \"align\": \"left\", \"text\": \"444.0\"}, {\"xanchor\": \"left\", \"showarrow\": false, \"y\": 48, \"xref\": \"x1\", \"font\": {\"color\": \"#000000\"}, \"x\": 2.55, \"yref\": \"y1\", \"align\": \"left\", \"text\": \"3\"}, {\"xanchor\": \"left\", \"showarrow\": false, \"y\": 49, \"xref\": \"x1\", \"font\": {\"color\": \"#000000\"}, \"x\": -0.45, \"yref\": \"y1\", \"align\": \"left\", \"text\": \"Advocacy and policy\"}, {\"xanchor\": \"left\", \"showarrow\": false, \"y\": 49, \"xref\": \"x1\", \"font\": {\"color\": \"#000000\"}, \"x\": 0.55, \"yref\": \"y1\", \"align\": \"left\", \"text\": \"Community\"}, {\"xanchor\": \"left\", \"showarrow\": false, \"y\": 49, \"xref\": \"x1\", \"font\": {\"color\": \"#000000\"}, \"x\": 1.55, \"yref\": \"y1\", \"align\": \"left\", \"text\": \"441.0\"}, {\"xanchor\": \"left\", \"showarrow\": false, \"y\": 49, \"xref\": \"x1\", \"font\": {\"color\": \"#000000\"}, \"x\": 2.55, \"yref\": \"y1\", \"align\": \"left\", \"text\": \"4\"}, {\"xanchor\": \"left\", \"showarrow\": false, \"y\": 50, \"xref\": \"x1\", \"font\": {\"color\": \"#000000\"}, \"x\": -0.45, \"yref\": \"y1\", \"align\": \"left\", \"text\": \"Deep Speech\"}, {\"xanchor\": \"left\", \"showarrow\": false, \"y\": 50, \"xref\": \"x1\", \"font\": {\"color\": \"#000000\"}, \"x\": 0.55, \"yref\": \"y1\", \"align\": \"left\", \"text\": \"Mozilla Staff\"}, {\"xanchor\": \"left\", \"showarrow\": false, \"y\": 50, \"xref\": \"x1\", \"font\": {\"color\": \"#000000\"}, \"x\": 1.55, \"yref\": \"y1\", \"align\": \"left\", \"text\": \"354.0\"}, {\"xanchor\": \"left\", \"showarrow\": false, \"y\": 50, \"xref\": \"x1\", \"font\": {\"color\": \"#000000\"}, \"x\": 2.55, \"yref\": \"y1\", \"align\": \"left\", \"text\": \"1\"}, {\"xanchor\": \"left\", \"showarrow\": false, \"y\": 51, \"xref\": \"x1\", \"font\": {\"color\": \"#000000\"}, \"x\": -0.45, \"yref\": \"y1\", \"align\": \"left\", \"text\": \"Developer Tools\"}, {\"xanchor\": \"left\", \"showarrow\": false, \"y\": 51, \"xref\": \"x1\", \"font\": {\"color\": \"#000000\"}, \"x\": 0.55, \"yref\": \"y1\", \"align\": \"left\", \"text\": \"Mozilla Staff\"}, {\"xanchor\": \"left\", \"showarrow\": false, \"y\": 51, \"xref\": \"x1\", \"font\": {\"color\": \"#000000\"}, \"x\": 1.55, \"yref\": \"y1\", \"align\": \"left\", \"text\": \"293.0\"}, {\"xanchor\": \"left\", \"showarrow\": false, \"y\": 51, \"xref\": \"x1\", \"font\": {\"color\": \"#000000\"}, \"x\": 2.55, \"yref\": \"y1\", \"align\": \"left\", \"text\": \"4\"}, {\"xanchor\": \"left\", \"showarrow\": false, \"y\": 52, \"xref\": \"x1\", \"font\": {\"color\": \"#000000\"}, \"x\": -0.45, \"yref\": \"y1\", \"align\": \"left\", \"text\": \"Connected devices & IoT\"}, {\"xanchor\": \"left\", \"showarrow\": false, \"y\": 52, \"xref\": \"x1\", \"font\": {\"color\": \"#000000\"}, \"x\": 0.55, \"yref\": \"y1\", \"align\": \"left\", \"text\": \"Community\"}, {\"xanchor\": \"left\", \"showarrow\": false, \"y\": 52, \"xref\": \"x1\", \"font\": {\"color\": \"#000000\"}, \"x\": 1.55, \"yref\": \"y1\", \"align\": \"left\", \"text\": \"222.0\"}, {\"xanchor\": \"left\", \"showarrow\": false, \"y\": 52, \"xref\": \"x1\", \"font\": {\"color\": \"#000000\"}, \"x\": 2.55, \"yref\": \"y1\", \"align\": \"left\", \"text\": \"1\"}, {\"xanchor\": \"left\", \"showarrow\": false, \"y\": 53, \"xref\": \"x1\", \"font\": {\"color\": \"#000000\"}, \"x\": -0.45, \"yref\": \"y1\", \"align\": \"left\", \"text\": \"Mozilla Clubs\"}, {\"xanchor\": \"left\", \"showarrow\": false, \"y\": 53, \"xref\": \"x1\", \"font\": {\"color\": \"#000000\"}, \"x\": 0.55, \"yref\": \"y1\", \"align\": \"left\", \"text\": \"Mozilla Staff\"}, {\"xanchor\": \"left\", \"showarrow\": false, \"y\": 53, \"xref\": \"x1\", \"font\": {\"color\": \"#000000\"}, \"x\": 1.55, \"yref\": \"y1\", \"align\": \"left\", \"text\": \"198.0\"}, {\"xanchor\": \"left\", \"showarrow\": false, \"y\": 53, \"xref\": \"x1\", \"font\": {\"color\": \"#000000\"}, \"x\": 2.55, \"yref\": \"y1\", \"align\": \"left\", \"text\": \"9\"}, {\"xanchor\": \"left\", \"showarrow\": false, \"y\": 54, \"xref\": \"x1\", \"font\": {\"color\": \"#000000\"}, \"x\": -0.45, \"yref\": \"y1\", \"align\": \"left\", \"text\": \"Mozilla Local/Regional communities\"}, {\"xanchor\": \"left\", \"showarrow\": false, \"y\": 54, \"xref\": \"x1\", \"font\": {\"color\": \"#000000\"}, \"x\": 0.55, \"yref\": \"y1\", \"align\": \"left\", \"text\": \"Mozilla Reps\"}, {\"xanchor\": \"left\", \"showarrow\": false, \"y\": 54, \"xref\": \"x1\", \"font\": {\"color\": \"#000000\"}, \"x\": 1.55, \"yref\": \"y1\", \"align\": \"left\", \"text\": \"195.0\"}, {\"xanchor\": \"left\", \"showarrow\": false, \"y\": 54, \"xref\": \"x1\", \"font\": {\"color\": \"#000000\"}, \"x\": 2.55, \"yref\": \"y1\", \"align\": \"left\", \"text\": \"15\"}, {\"xanchor\": \"left\", \"showarrow\": false, \"y\": 55, \"xref\": \"x1\", \"font\": {\"color\": \"#000000\"}, \"x\": -0.45, \"yref\": \"y1\", \"align\": \"left\", \"text\": \"Addons/Web Extensions\"}, {\"xanchor\": \"left\", \"showarrow\": false, \"y\": 55, \"xref\": \"x1\", \"font\": {\"color\": \"#000000\"}, \"x\": 0.55, \"yref\": \"y1\", \"align\": \"left\", \"text\": \"Code Sheriff\"}, {\"xanchor\": \"left\", \"showarrow\": false, \"y\": 55, \"xref\": \"x1\", \"font\": {\"color\": \"#000000\"}, \"x\": 1.55, \"yref\": \"y1\", \"align\": \"left\", \"text\": \"184.0\"}, {\"xanchor\": \"left\", \"showarrow\": false, \"y\": 55, \"xref\": \"x1\", \"font\": {\"color\": \"#000000\"}, \"x\": 2.55, \"yref\": \"y1\", \"align\": \"left\", \"text\": \"4\"}, {\"xanchor\": \"left\", \"showarrow\": false, \"y\": 56, \"xref\": \"x1\", \"font\": {\"color\": \"#000000\"}, \"x\": -0.45, \"yref\": \"y1\", \"align\": \"left\", \"text\": \"Campus Clubs (previously Student Ambassadors)\"}, {\"xanchor\": \"left\", \"showarrow\": false, \"y\": 56, \"xref\": \"x1\", \"font\": {\"color\": \"#000000\"}, \"x\": 0.55, \"yref\": \"y1\", \"align\": \"left\", \"text\": \"Mozilla Staff\"}, {\"xanchor\": \"left\", \"showarrow\": false, \"y\": 56, \"xref\": \"x1\", \"font\": {\"color\": \"#000000\"}, \"x\": 1.55, \"yref\": \"y1\", \"align\": \"left\", \"text\": \"164.0\"}, {\"xanchor\": \"left\", \"showarrow\": false, \"y\": 56, \"xref\": \"x1\", \"font\": {\"color\": \"#000000\"}, \"x\": 2.55, \"yref\": \"y1\", \"align\": \"left\", \"text\": \"5\"}, {\"xanchor\": \"left\", \"showarrow\": false, \"y\": 57, \"xref\": \"x1\", \"font\": {\"color\": \"#000000\"}, \"x\": -0.45, \"yref\": \"y1\", \"align\": \"left\", \"text\": \"Web Properties\"}, {\"xanchor\": \"left\", \"showarrow\": false, \"y\": 57, \"xref\": \"x1\", \"font\": {\"color\": \"#000000\"}, \"x\": 0.55, \"yref\": \"y1\", \"align\": \"left\", \"text\": \"Mozilla Reps\"}, {\"xanchor\": \"left\", \"showarrow\": false, \"y\": 57, \"xref\": \"x1\", \"font\": {\"color\": \"#000000\"}, \"x\": 1.55, \"yref\": \"y1\", \"align\": \"left\", \"text\": \"148.0\"}, {\"xanchor\": \"left\", \"showarrow\": false, \"y\": 57, \"xref\": \"x1\", \"font\": {\"color\": \"#000000\"}, \"x\": 2.55, \"yref\": \"y1\", \"align\": \"left\", \"text\": \"4\"}, {\"xanchor\": \"left\", \"showarrow\": false, \"y\": 58, \"xref\": \"x1\", \"font\": {\"color\": \"#000000\"}, \"x\": -0.45, \"yref\": \"y1\", \"align\": \"left\", \"text\": \"Mozilla Creative & Design\"}, {\"xanchor\": \"left\", \"showarrow\": false, \"y\": 58, \"xref\": \"x1\", \"font\": {\"color\": \"#000000\"}, \"x\": 0.55, \"yref\": \"y1\", \"align\": \"left\", \"text\": \"Community\"}, {\"xanchor\": \"left\", \"showarrow\": false, \"y\": 58, \"xref\": \"x1\", \"font\": {\"color\": \"#000000\"}, \"x\": 1.55, \"yref\": \"y1\", \"align\": \"left\", \"text\": \"106.0\"}, {\"xanchor\": \"left\", \"showarrow\": false, \"y\": 58, \"xref\": \"x1\", \"font\": {\"color\": \"#000000\"}, \"x\": 2.55, \"yref\": \"y1\", \"align\": \"left\", \"text\": \"2\"}, {\"xanchor\": \"left\", \"showarrow\": false, \"y\": 59, \"xref\": \"x1\", \"font\": {\"color\": \"#000000\"}, \"x\": -0.45, \"yref\": \"y1\", \"align\": \"left\", \"text\": \"Mozilla Creative & Design\"}, {\"xanchor\": \"left\", \"showarrow\": false, \"y\": 59, \"xref\": \"x1\", \"font\": {\"color\": \"#000000\"}, \"x\": 0.55, \"yref\": \"y1\", \"align\": \"left\", \"text\": \"Mozilla Staff\"}, {\"xanchor\": \"left\", \"showarrow\": false, \"y\": 59, \"xref\": \"x1\", \"font\": {\"color\": \"#000000\"}, \"x\": 1.55, \"yref\": \"y1\", \"align\": \"left\", \"text\": \"105.0\"}, {\"xanchor\": \"left\", \"showarrow\": false, \"y\": 59, \"xref\": \"x1\", \"font\": {\"color\": \"#000000\"}, \"x\": 2.55, \"yref\": \"y1\", \"align\": \"left\", \"text\": \"3\"}, {\"xanchor\": \"left\", \"showarrow\": false, \"y\": 60, \"xref\": \"x1\", \"font\": {\"color\": \"#000000\"}, \"x\": -0.45, \"yref\": \"y1\", \"align\": \"left\", \"text\": \"Release engineering\"}, {\"xanchor\": \"left\", \"showarrow\": false, \"y\": 60, \"xref\": \"x1\", \"font\": {\"color\": \"#000000\"}, \"x\": 0.55, \"yref\": \"y1\", \"align\": \"left\", \"text\": \"Code Sheriff\"}, {\"xanchor\": \"left\", \"showarrow\": false, \"y\": 60, \"xref\": \"x1\", \"font\": {\"color\": \"#000000\"}, \"x\": 1.55, \"yref\": \"y1\", \"align\": \"left\", \"text\": \"104.0\"}, {\"xanchor\": \"left\", \"showarrow\": false, \"y\": 60, \"xref\": \"x1\", \"font\": {\"color\": \"#000000\"}, \"x\": 2.55, \"yref\": \"y1\", \"align\": \"left\", \"text\": \"5\"}, {\"xanchor\": \"left\", \"showarrow\": false, \"y\": 61, \"xref\": \"x1\", \"font\": {\"color\": \"#000000\"}, \"x\": -0.45, \"yref\": \"y1\", \"align\": \"left\", \"text\": \"Connected devices & IoT\"}, {\"xanchor\": \"left\", \"showarrow\": false, \"y\": 61, \"xref\": \"x1\", \"font\": {\"color\": \"#000000\"}, \"x\": 0.55, \"yref\": \"y1\", \"align\": \"left\", \"text\": \"Mozilla Staff\"}, {\"xanchor\": \"left\", \"showarrow\": false, \"y\": 61, \"xref\": \"x1\", \"font\": {\"color\": \"#000000\"}, \"x\": 1.55, \"yref\": \"y1\", \"align\": \"left\", \"text\": \"79.0\"}, {\"xanchor\": \"left\", \"showarrow\": false, \"y\": 61, \"xref\": \"x1\", \"font\": {\"color\": \"#000000\"}, \"x\": 2.55, \"yref\": \"y1\", \"align\": \"left\", \"text\": \"1\"}, {\"xanchor\": \"left\", \"showarrow\": false, \"y\": 62, \"xref\": \"x1\", \"font\": {\"color\": \"#000000\"}, \"x\": -0.45, \"yref\": \"y1\", \"align\": \"left\", \"text\": \"Rust\"}, {\"xanchor\": \"left\", \"showarrow\": false, \"y\": 62, \"xref\": \"x1\", \"font\": {\"color\": \"#000000\"}, \"x\": 0.55, \"yref\": \"y1\", \"align\": \"left\", \"text\": \"Code Sheriff\"}, {\"xanchor\": \"left\", \"showarrow\": false, \"y\": 62, \"xref\": \"x1\", \"font\": {\"color\": \"#000000\"}, \"x\": 1.55, \"yref\": \"y1\", \"align\": \"left\", \"text\": \"67.0\"}, {\"xanchor\": \"left\", \"showarrow\": false, \"y\": 62, \"xref\": \"x1\", \"font\": {\"color\": \"#000000\"}, \"x\": 2.55, \"yref\": \"y1\", \"align\": \"left\", \"text\": \"4\"}, {\"xanchor\": \"left\", \"showarrow\": false, \"y\": 63, \"xref\": \"x1\", \"font\": {\"color\": \"#000000\"}, \"x\": -0.45, \"yref\": \"y1\", \"align\": \"left\", \"text\": \"Gecko\"}, {\"xanchor\": \"left\", \"showarrow\": false, \"y\": 63, \"xref\": \"x1\", \"font\": {\"color\": \"#000000\"}, \"x\": 0.55, \"yref\": \"y1\", \"align\": \"left\", \"text\": \"Mozilla Reps\"}, {\"xanchor\": \"left\", \"showarrow\": false, \"y\": 63, \"xref\": \"x1\", \"font\": {\"color\": \"#000000\"}, \"x\": 1.55, \"yref\": \"y1\", \"align\": \"left\", \"text\": \"66.0\"}, {\"xanchor\": \"left\", \"showarrow\": false, \"y\": 63, \"xref\": \"x1\", \"font\": {\"color\": \"#000000\"}, \"x\": 2.55, \"yref\": \"y1\", \"align\": \"left\", \"text\": \"3\"}, {\"xanchor\": \"left\", \"showarrow\": false, \"y\": 64, \"xref\": \"x1\", \"font\": {\"color\": \"#000000\"}, \"x\": -0.45, \"yref\": \"y1\", \"align\": \"left\", \"text\": \"Marketing / Social Media\"}, {\"xanchor\": \"left\", \"showarrow\": false, \"y\": 64, \"xref\": \"x1\", \"font\": {\"color\": \"#000000\"}, \"x\": 0.55, \"yref\": \"y1\", \"align\": \"left\", \"text\": \"Community\"}, {\"xanchor\": \"left\", \"showarrow\": false, \"y\": 64, \"xref\": \"x1\", \"font\": {\"color\": \"#000000\"}, \"x\": 1.55, \"yref\": \"y1\", \"align\": \"left\", \"text\": \"59.0\"}, {\"xanchor\": \"left\", \"showarrow\": false, \"y\": 64, \"xref\": \"x1\", \"font\": {\"color\": \"#000000\"}, \"x\": 2.55, \"yref\": \"y1\", \"align\": \"left\", \"text\": \"7\"}, {\"xanchor\": \"left\", \"showarrow\": false, \"y\": 65, \"xref\": \"x1\", \"font\": {\"color\": \"#000000\"}, \"x\": -0.45, \"yref\": \"y1\", \"align\": \"left\", \"text\": \"Firefox Android\"}, {\"xanchor\": \"left\", \"showarrow\": false, \"y\": 65, \"xref\": \"x1\", \"font\": {\"color\": \"#000000\"}, \"x\": 0.55, \"yref\": \"y1\", \"align\": \"left\", \"text\": \"Mozilla Staff\"}, {\"xanchor\": \"left\", \"showarrow\": false, \"y\": 65, \"xref\": \"x1\", \"font\": {\"color\": \"#000000\"}, \"x\": 1.55, \"yref\": \"y1\", \"align\": \"left\", \"text\": \"53.0\"}, {\"xanchor\": \"left\", \"showarrow\": false, \"y\": 65, \"xref\": \"x1\", \"font\": {\"color\": \"#000000\"}, \"x\": 2.55, \"yref\": \"y1\", \"align\": \"left\", \"text\": \"2\"}, {\"xanchor\": \"left\", \"showarrow\": false, \"y\": 66, \"xref\": \"x1\", \"font\": {\"color\": \"#000000\"}, \"x\": -0.45, \"yref\": \"y1\", \"align\": \"left\", \"text\": \"Technical/Developer Evangelism\"}, {\"xanchor\": \"left\", \"showarrow\": false, \"y\": 66, \"xref\": \"x1\", \"font\": {\"color\": \"#000000\"}, \"x\": 0.55, \"yref\": \"y1\", \"align\": \"left\", \"text\": \"Community\"}, {\"xanchor\": \"left\", \"showarrow\": false, \"y\": 66, \"xref\": \"x1\", \"font\": {\"color\": \"#000000\"}, \"x\": 1.55, \"yref\": \"y1\", \"align\": \"left\", \"text\": \"43.0\"}, {\"xanchor\": \"left\", \"showarrow\": false, \"y\": 66, \"xref\": \"x1\", \"font\": {\"color\": \"#000000\"}, \"x\": 2.55, \"yref\": \"y1\", \"align\": \"left\", \"text\": \"6\"}, {\"xanchor\": \"left\", \"showarrow\": false, \"y\": 67, \"xref\": \"x1\", \"font\": {\"color\": \"#000000\"}, \"x\": -0.45, \"yref\": \"y1\", \"align\": \"left\", \"text\": \"Developer Tools\"}, {\"xanchor\": \"left\", \"showarrow\": false, \"y\": 67, \"xref\": \"x1\", \"font\": {\"color\": \"#000000\"}, \"x\": 0.55, \"yref\": \"y1\", \"align\": \"left\", \"text\": \"Community\"}, {\"xanchor\": \"left\", \"showarrow\": false, \"y\": 67, \"xref\": \"x1\", \"font\": {\"color\": \"#000000\"}, \"x\": 1.55, \"yref\": \"y1\", \"align\": \"left\", \"text\": \"34.0\"}, {\"xanchor\": \"left\", \"showarrow\": false, \"y\": 67, \"xref\": \"x1\", \"font\": {\"color\": \"#000000\"}, \"x\": 2.55, \"yref\": \"y1\", \"align\": \"left\", \"text\": \"2\"}, {\"xanchor\": \"left\", \"showarrow\": false, \"y\": 68, \"xref\": \"x1\", \"font\": {\"color\": \"#000000\"}, \"x\": -0.45, \"yref\": \"y1\", \"align\": \"left\", \"text\": \"Mozilla Developer Network (MDN)\"}, {\"xanchor\": \"left\", \"showarrow\": false, \"y\": 68, \"xref\": \"x1\", \"font\": {\"color\": \"#000000\"}, \"x\": 0.55, \"yref\": \"y1\", \"align\": \"left\", \"text\": \"Mozilla Reps\"}, {\"xanchor\": \"left\", \"showarrow\": false, \"y\": 68, \"xref\": \"x1\", \"font\": {\"color\": \"#000000\"}, \"x\": 1.55, \"yref\": \"y1\", \"align\": \"left\", \"text\": \"32.0\"}, {\"xanchor\": \"left\", \"showarrow\": false, \"y\": 68, \"xref\": \"x1\", \"font\": {\"color\": \"#000000\"}, \"x\": 2.55, \"yref\": \"y1\", \"align\": \"left\", \"text\": \"1\"}, {\"xanchor\": \"left\", \"showarrow\": false, \"y\": 69, \"xref\": \"x1\", \"font\": {\"color\": \"#000000\"}, \"x\": -0.45, \"yref\": \"y1\", \"align\": \"left\", \"text\": \"Mozilla Clubs\"}, {\"xanchor\": \"left\", \"showarrow\": false, \"y\": 69, \"xref\": \"x1\", \"font\": {\"color\": \"#000000\"}, \"x\": 0.55, \"yref\": \"y1\", \"align\": \"left\", \"text\": \"Community\"}, {\"xanchor\": \"left\", \"showarrow\": false, \"y\": 69, \"xref\": \"x1\", \"font\": {\"color\": \"#000000\"}, \"x\": 1.55, \"yref\": \"y1\", \"align\": \"left\", \"text\": \"26.0\"}, {\"xanchor\": \"left\", \"showarrow\": false, \"y\": 69, \"xref\": \"x1\", \"font\": {\"color\": \"#000000\"}, \"x\": 2.55, \"yref\": \"y1\", \"align\": \"left\", \"text\": \"5\"}, {\"xanchor\": \"left\", \"showarrow\": false, \"y\": 70, \"xref\": \"x1\", \"font\": {\"color\": \"#000000\"}, \"x\": -0.45, \"yref\": \"y1\", \"align\": \"left\", \"text\": \"Deep Speech\"}, {\"xanchor\": \"left\", \"showarrow\": false, \"y\": 70, \"xref\": \"x1\", \"font\": {\"color\": \"#000000\"}, \"x\": 0.55, \"yref\": \"y1\", \"align\": \"left\", \"text\": \"Community\"}, {\"xanchor\": \"left\", \"showarrow\": false, \"y\": 70, \"xref\": \"x1\", \"font\": {\"color\": \"#000000\"}, \"x\": 1.55, \"yref\": \"y1\", \"align\": \"left\", \"text\": \"21.0\"}, {\"xanchor\": \"left\", \"showarrow\": false, \"y\": 70, \"xref\": \"x1\", \"font\": {\"color\": \"#000000\"}, \"x\": 2.55, \"yref\": \"y1\", \"align\": \"left\", \"text\": \"1\"}, {\"xanchor\": \"left\", \"showarrow\": false, \"y\": 71, \"xref\": \"x1\", \"font\": {\"color\": \"#000000\"}, \"x\": -0.45, \"yref\": \"y1\", \"align\": \"left\", \"text\": \"Marketing / Social Media\"}, {\"xanchor\": \"left\", \"showarrow\": false, \"y\": 71, \"xref\": \"x1\", \"font\": {\"color\": \"#000000\"}, \"x\": 0.55, \"yref\": \"y1\", \"align\": \"left\", \"text\": \"Code Sheriff\"}, {\"xanchor\": \"left\", \"showarrow\": false, \"y\": 71, \"xref\": \"x1\", \"font\": {\"color\": \"#000000\"}, \"x\": 1.55, \"yref\": \"y1\", \"align\": \"left\", \"text\": \"14.0\"}, {\"xanchor\": \"left\", \"showarrow\": false, \"y\": 71, \"xref\": \"x1\", \"font\": {\"color\": \"#000000\"}, \"x\": 2.55, \"yref\": \"y1\", \"align\": \"left\", \"text\": \"1\"}, {\"xanchor\": \"left\", \"showarrow\": false, \"y\": 72, \"xref\": \"x1\", \"font\": {\"color\": \"#000000\"}, \"x\": -0.45, \"yref\": \"y1\", \"align\": \"left\", \"text\": \"Web Properties\"}, {\"xanchor\": \"left\", \"showarrow\": false, \"y\": 72, \"xref\": \"x1\", \"font\": {\"color\": \"#000000\"}, \"x\": 0.55, \"yref\": \"y1\", \"align\": \"left\", \"text\": \"Code Sheriff\"}, {\"xanchor\": \"left\", \"showarrow\": false, \"y\": 72, \"xref\": \"x1\", \"font\": {\"color\": \"#000000\"}, \"x\": 1.55, \"yref\": \"y1\", \"align\": \"left\", \"text\": \"13.0\"}, {\"xanchor\": \"left\", \"showarrow\": false, \"y\": 72, \"xref\": \"x1\", \"font\": {\"color\": \"#000000\"}, \"x\": 2.55, \"yref\": \"y1\", \"align\": \"left\", \"text\": \"6\"}, {\"xanchor\": \"left\", \"showarrow\": false, \"y\": 73, \"xref\": \"x1\", \"font\": {\"color\": \"#000000\"}, \"x\": -0.45, \"yref\": \"y1\", \"align\": \"left\", \"text\": \"Firefox Focus\"}, {\"xanchor\": \"left\", \"showarrow\": false, \"y\": 73, \"xref\": \"x1\", \"font\": {\"color\": \"#000000\"}, \"x\": 0.55, \"yref\": \"y1\", \"align\": \"left\", \"text\": \"Community\"}, {\"xanchor\": \"left\", \"showarrow\": false, \"y\": 73, \"xref\": \"x1\", \"font\": {\"color\": \"#000000\"}, \"x\": 1.55, \"yref\": \"y1\", \"align\": \"left\", \"text\": \"8.0\"}, {\"xanchor\": \"left\", \"showarrow\": false, \"y\": 73, \"xref\": \"x1\", \"font\": {\"color\": \"#000000\"}, \"x\": 2.55, \"yref\": \"y1\", \"align\": \"left\", \"text\": \"2\"}, {\"xanchor\": \"left\", \"showarrow\": false, \"y\": 74, \"xref\": \"x1\", \"font\": {\"color\": \"#000000\"}, \"x\": -0.45, \"yref\": \"y1\", \"align\": \"left\", \"text\": \"Servo\"}, {\"xanchor\": \"left\", \"showarrow\": false, \"y\": 74, \"xref\": \"x1\", \"font\": {\"color\": \"#000000\"}, \"x\": 0.55, \"yref\": \"y1\", \"align\": \"left\", \"text\": \"Mozilla Reps\"}, {\"xanchor\": \"left\", \"showarrow\": false, \"y\": 74, \"xref\": \"x1\", \"font\": {\"color\": \"#000000\"}, \"x\": 1.55, \"yref\": \"y1\", \"align\": \"left\", \"text\": \"4.0\"}, {\"xanchor\": \"left\", \"showarrow\": false, \"y\": 74, \"xref\": \"x1\", \"font\": {\"color\": \"#000000\"}, \"x\": 2.55, \"yref\": \"y1\", \"align\": \"left\", \"text\": \"2\"}, {\"xanchor\": \"left\", \"showarrow\": false, \"y\": 75, \"xref\": \"x1\", \"font\": {\"color\": \"#000000\"}, \"x\": -0.45, \"yref\": \"y1\", \"align\": \"left\", \"text\": \"Advocacy and policy\"}, {\"xanchor\": \"left\", \"showarrow\": false, \"y\": 75, \"xref\": \"x1\", \"font\": {\"color\": \"#000000\"}, \"x\": 0.55, \"yref\": \"y1\", \"align\": \"left\", \"text\": \"Code Sheriff\"}, {\"xanchor\": \"left\", \"showarrow\": false, \"y\": 75, \"xref\": \"x1\", \"font\": {\"color\": \"#000000\"}, \"x\": 1.55, \"yref\": \"y1\", \"align\": \"left\", \"text\": \"3.0\"}, {\"xanchor\": \"left\", \"showarrow\": false, \"y\": 75, \"xref\": \"x1\", \"font\": {\"color\": \"#000000\"}, \"x\": 2.55, \"yref\": \"y1\", \"align\": \"left\", \"text\": \"1\"}, {\"xanchor\": \"left\", \"showarrow\": false, \"y\": 76, \"xref\": \"x1\", \"font\": {\"color\": \"#000000\"}, \"x\": -0.45, \"yref\": \"y1\", \"align\": \"left\", \"text\": \"Mozilla Local/Regional communities\"}, {\"xanchor\": \"left\", \"showarrow\": false, \"y\": 76, \"xref\": \"x1\", \"font\": {\"color\": \"#000000\"}, \"x\": 0.55, \"yref\": \"y1\", \"align\": \"left\", \"text\": \"Code Sheriff\"}, {\"xanchor\": \"left\", \"showarrow\": false, \"y\": 76, \"xref\": \"x1\", \"font\": {\"color\": \"#000000\"}, \"x\": 1.55, \"yref\": \"y1\", \"align\": \"left\", \"text\": \"3.0\"}, {\"xanchor\": \"left\", \"showarrow\": false, \"y\": 76, \"xref\": \"x1\", \"font\": {\"color\": \"#000000\"}, \"x\": 2.55, \"yref\": \"y1\", \"align\": \"left\", \"text\": \"1\"}, {\"xanchor\": \"left\", \"showarrow\": false, \"y\": 77, \"xref\": \"x1\", \"font\": {\"color\": \"#000000\"}, \"x\": -0.45, \"yref\": \"y1\", \"align\": \"left\", \"text\": \"Campus Clubs (previously Student Ambassadors)\"}, {\"xanchor\": \"left\", \"showarrow\": false, \"y\": 77, \"xref\": \"x1\", \"font\": {\"color\": \"#000000\"}, \"x\": 0.55, \"yref\": \"y1\", \"align\": \"left\", \"text\": \"Community\"}, {\"xanchor\": \"left\", \"showarrow\": false, \"y\": 77, \"xref\": \"x1\", \"font\": {\"color\": \"#000000\"}, \"x\": 1.55, \"yref\": \"y1\", \"align\": \"left\", \"text\": \"2.0\"}, {\"xanchor\": \"left\", \"showarrow\": false, \"y\": 77, \"xref\": \"x1\", \"font\": {\"color\": \"#000000\"}, \"x\": 2.55, \"yref\": \"y1\", \"align\": \"left\", \"text\": \"1\"}, {\"xanchor\": \"left\", \"showarrow\": false, \"y\": 78, \"xref\": \"x1\", \"font\": {\"color\": \"#000000\"}, \"x\": -0.45, \"yref\": \"y1\", \"align\": \"left\", \"text\": \"Test Pilot\"}, {\"xanchor\": \"left\", \"showarrow\": false, \"y\": 78, \"xref\": \"x1\", \"font\": {\"color\": \"#000000\"}, \"x\": 0.55, \"yref\": \"y1\", \"align\": \"left\", \"text\": \"Code Sheriff\"}, {\"xanchor\": \"left\", \"showarrow\": false, \"y\": 78, \"xref\": \"x1\", \"font\": {\"color\": \"#000000\"}, \"x\": 1.55, \"yref\": \"y1\", \"align\": \"left\", \"text\": \"2.0\"}, {\"xanchor\": \"left\", \"showarrow\": false, \"y\": 78, \"xref\": \"x1\", \"font\": {\"color\": \"#000000\"}, \"x\": 2.55, \"yref\": \"y1\", \"align\": \"left\", \"text\": \"1\"}, {\"xanchor\": \"left\", \"showarrow\": false, \"y\": 79, \"xref\": \"x1\", \"font\": {\"color\": \"#000000\"}, \"x\": -0.45, \"yref\": \"y1\", \"align\": \"left\", \"text\": \"Web Literacy\"}, {\"xanchor\": \"left\", \"showarrow\": false, \"y\": 79, \"xref\": \"x1\", \"font\": {\"color\": \"#000000\"}, \"x\": 0.55, \"yref\": \"y1\", \"align\": \"left\", \"text\": \"Mozilla Reps\"}, {\"xanchor\": \"left\", \"showarrow\": false, \"y\": 79, \"xref\": \"x1\", \"font\": {\"color\": \"#000000\"}, \"x\": 1.55, \"yref\": \"y1\", \"align\": \"left\", \"text\": \"2.0\"}, {\"xanchor\": \"left\", \"showarrow\": false, \"y\": 79, \"xref\": \"x1\", \"font\": {\"color\": \"#000000\"}, \"x\": 2.55, \"yref\": \"y1\", \"align\": \"left\", \"text\": \"2\"}, {\"xanchor\": \"left\", \"showarrow\": false, \"y\": 80, \"xref\": \"x1\", \"font\": {\"color\": \"#000000\"}, \"x\": -0.45, \"yref\": \"y1\", \"align\": \"left\", \"text\": \"Vaani\"}, {\"xanchor\": \"left\", \"showarrow\": false, \"y\": 80, \"xref\": \"x1\", \"font\": {\"color\": \"#000000\"}, \"x\": 0.55, \"yref\": \"y1\", \"align\": \"left\", \"text\": \"Community\"}, {\"xanchor\": \"left\", \"showarrow\": false, \"y\": 80, \"xref\": \"x1\", \"font\": {\"color\": \"#000000\"}, \"x\": 1.55, \"yref\": \"y1\", \"align\": \"left\", \"text\": \"2.0\"}, {\"xanchor\": \"left\", \"showarrow\": false, \"y\": 80, \"xref\": \"x1\", \"font\": {\"color\": \"#000000\"}, \"x\": 2.55, \"yref\": \"y1\", \"align\": \"left\", \"text\": \"1\"}, {\"xanchor\": \"left\", \"showarrow\": false, \"y\": 81, \"xref\": \"x1\", \"font\": {\"color\": \"#000000\"}, \"x\": -0.45, \"yref\": \"y1\", \"align\": \"left\", \"text\": \"Firefox Android\"}, {\"xanchor\": \"left\", \"showarrow\": false, \"y\": 81, \"xref\": \"x1\", \"font\": {\"color\": \"#000000\"}, \"x\": 0.55, \"yref\": \"y1\", \"align\": \"left\", \"text\": \"Community\"}, {\"xanchor\": \"left\", \"showarrow\": false, \"y\": 81, \"xref\": \"x1\", \"font\": {\"color\": \"#000000\"}, \"x\": 1.55, \"yref\": \"y1\", \"align\": \"left\", \"text\": \"1.0\"}, {\"xanchor\": \"left\", \"showarrow\": false, \"y\": 81, \"xref\": \"x1\", \"font\": {\"color\": \"#000000\"}, \"x\": 2.55, \"yref\": \"y1\", \"align\": \"left\", \"text\": \"1\"}, {\"xanchor\": \"left\", \"showarrow\": false, \"y\": 82, \"xref\": \"x1\", \"font\": {\"color\": \"#000000\"}, \"x\": -0.45, \"yref\": \"y1\", \"align\": \"left\", \"text\": \"Mozilla Location Service (MLS) / Stumbler\"}, {\"xanchor\": \"left\", \"showarrow\": false, \"y\": 82, \"xref\": \"x1\", \"font\": {\"color\": \"#000000\"}, \"x\": 0.55, \"yref\": \"y1\", \"align\": \"left\", \"text\": \"Code Sheriff\"}, {\"xanchor\": \"left\", \"showarrow\": false, \"y\": 82, \"xref\": \"x1\", \"font\": {\"color\": \"#000000\"}, \"x\": 1.55, \"yref\": \"y1\", \"align\": \"left\", \"text\": \"1.0\"}, {\"xanchor\": \"left\", \"showarrow\": false, \"y\": 82, \"xref\": \"x1\", \"font\": {\"color\": \"#000000\"}, \"x\": 2.55, \"yref\": \"y1\", \"align\": \"left\", \"text\": \"1\"}]}, {\"showLink\": true, \"linkText\": \"Export to plot.ly\"})});</script>"
      ]
     },
     "metadata": {},
     "output_type": "display_data"
    }
   ],
   "source": [
    "s = create_search(source='git')\n",
    "\n",
    "# General filters\n",
    "s = add_general_date_filters(s)\n",
    "s = add_bot_filter(s)\n",
    "s = add_merges_filter(s)\n",
    "\n",
    "# Unique count of Commits by Project (max 100 projects)\n",
    "s.aggs.bucket('repos', 'terms', field='repo_name', size=100000)\\\n",
    "    .bucket('organizations', 'terms', field='author_org_name', size=100)\\\n",
    "    .metric('commits', 'cardinality', field='hash', precision_threshold=100000)\n",
    "result = s.execute()\n",
    "# Merge projects and repos DFs\n",
    "#repos = print_df(result=result, group_field='repos', value_field='commits', \\\n",
    "#         group_column='Repo', value_column='# Commits')\n",
    "repos = stack_by(result=result, group_column='Repo', subgroup_column='Org', value_column='# Commits',\n",
    "                 group_field='repos', subgroup_field='organizations', value_field='commits')\n",
    "\n",
    "merged_df = repos.merge(projects['Github'], on='Repo', how='left')\n",
    "\n",
    "# Group By project\n",
    "projects_df = merged_df.groupby(['Project', 'Org']).agg({'# Commits': 'sum', 'Repo': 'count'})\n",
    "#projects_df = projects_df.reset_index().set_index(keys=['# Commits', 'Project', 'Org'])\n",
    "#projects_df = projects_df.sort_index()\n",
    "projects_df = projects_df.sort_values(by='# Commits', ascending=0)\n",
    "\n",
    "# Print a table with this data\n",
    "plotly.offline.init_notebook_mode(connected=True)\n",
    "table = ff.create_table(projects_df.reset_index())\n",
    "plotly.offline.iplot(table, filename='github-projects-table.html')\n"
   ]
  },
  {
   "cell_type": "markdown",
   "metadata": {},
   "source": [
    "### Authors by Project\n",
    "\n",
    "#### Git\n",
    "\n",
    "Same as above, we first show data from Dashboard and then a new table using the grouping spreadsheet provided by Mozilla."
   ]
  },
  {
   "cell_type": "code",
   "execution_count": 18,
   "metadata": {
    "collapsed": false,
    "scrolled": false
   },
   "outputs": [
    {
     "name": "stdout",
     "output_type": "stream",
     "text": [
      "10000, 20000, 30000, 40000, 50000, "
     ]
    },
    {
     "data": {
      "text/html": [
       "<script>requirejs.config({paths: { 'plotly': ['https://cdn.plot.ly/plotly-latest.min']},});if(!window.Plotly) {{require(['plotly'],function(plotly) {window.Plotly=plotly;});}}</script>"
      ],
      "text/vnd.plotly.v1+html": [
       "<script>requirejs.config({paths: { 'plotly': ['https://cdn.plot.ly/plotly-latest.min']},});if(!window.Plotly) {{require(['plotly'],function(plotly) {window.Plotly=plotly;});}}</script>"
      ]
     },
     "metadata": {},
     "output_type": "display_data"
    },
    {
     "data": {
      "application/vnd.plotly.v1+json": {
       "data": [
        {
         "colorscale": [
          [
           0,
           "#00083e"
          ],
          [
           0.5,
           "#ededee"
          ],
          [
           1,
           "#ffffff"
          ]
         ],
         "hoverinfo": "none",
         "opacity": 0.75,
         "showscale": false,
         "type": "heatmap",
         "z": [
          [
           0,
           0,
           0,
           0
          ],
          [
           0.5,
           0.5,
           0.5,
           0.5
          ],
          [
           1,
           1,
           1,
           1
          ],
          [
           0.5,
           0.5,
           0.5,
           0.5
          ],
          [
           1,
           1,
           1,
           1
          ],
          [
           0.5,
           0.5,
           0.5,
           0.5
          ],
          [
           1,
           1,
           1,
           1
          ],
          [
           0.5,
           0.5,
           0.5,
           0.5
          ],
          [
           1,
           1,
           1,
           1
          ],
          [
           0.5,
           0.5,
           0.5,
           0.5
          ],
          [
           1,
           1,
           1,
           1
          ],
          [
           0.5,
           0.5,
           0.5,
           0.5
          ],
          [
           1,
           1,
           1,
           1
          ],
          [
           0.5,
           0.5,
           0.5,
           0.5
          ],
          [
           1,
           1,
           1,
           1
          ],
          [
           0.5,
           0.5,
           0.5,
           0.5
          ],
          [
           1,
           1,
           1,
           1
          ],
          [
           0.5,
           0.5,
           0.5,
           0.5
          ],
          [
           1,
           1,
           1,
           1
          ],
          [
           0.5,
           0.5,
           0.5,
           0.5
          ],
          [
           1,
           1,
           1,
           1
          ],
          [
           0.5,
           0.5,
           0.5,
           0.5
          ],
          [
           1,
           1,
           1,
           1
          ],
          [
           0.5,
           0.5,
           0.5,
           0.5
          ],
          [
           1,
           1,
           1,
           1
          ],
          [
           0.5,
           0.5,
           0.5,
           0.5
          ],
          [
           1,
           1,
           1,
           1
          ],
          [
           0.5,
           0.5,
           0.5,
           0.5
          ],
          [
           1,
           1,
           1,
           1
          ],
          [
           0.5,
           0.5,
           0.5,
           0.5
          ],
          [
           1,
           1,
           1,
           1
          ],
          [
           0.5,
           0.5,
           0.5,
           0.5
          ],
          [
           1,
           1,
           1,
           1
          ],
          [
           0.5,
           0.5,
           0.5,
           0.5
          ],
          [
           1,
           1,
           1,
           1
          ],
          [
           0.5,
           0.5,
           0.5,
           0.5
          ],
          [
           1,
           1,
           1,
           1
          ],
          [
           0.5,
           0.5,
           0.5,
           0.5
          ],
          [
           1,
           1,
           1,
           1
          ],
          [
           0.5,
           0.5,
           0.5,
           0.5
          ],
          [
           1,
           1,
           1,
           1
          ],
          [
           0.5,
           0.5,
           0.5,
           0.5
          ],
          [
           1,
           1,
           1,
           1
          ],
          [
           0.5,
           0.5,
           0.5,
           0.5
          ],
          [
           1,
           1,
           1,
           1
          ],
          [
           0.5,
           0.5,
           0.5,
           0.5
          ],
          [
           1,
           1,
           1,
           1
          ],
          [
           0.5,
           0.5,
           0.5,
           0.5
          ],
          [
           1,
           1,
           1,
           1
          ],
          [
           0.5,
           0.5,
           0.5,
           0.5
          ],
          [
           1,
           1,
           1,
           1
          ],
          [
           0.5,
           0.5,
           0.5,
           0.5
          ],
          [
           1,
           1,
           1,
           1
          ],
          [
           0.5,
           0.5,
           0.5,
           0.5
          ],
          [
           1,
           1,
           1,
           1
          ],
          [
           0.5,
           0.5,
           0.5,
           0.5
          ],
          [
           1,
           1,
           1,
           1
          ],
          [
           0.5,
           0.5,
           0.5,
           0.5
          ],
          [
           1,
           1,
           1,
           1
          ],
          [
           0.5,
           0.5,
           0.5,
           0.5
          ],
          [
           1,
           1,
           1,
           1
          ],
          [
           0.5,
           0.5,
           0.5,
           0.5
          ],
          [
           1,
           1,
           1,
           1
          ],
          [
           0.5,
           0.5,
           0.5,
           0.5
          ],
          [
           1,
           1,
           1,
           1
          ],
          [
           0.5,
           0.5,
           0.5,
           0.5
          ],
          [
           1,
           1,
           1,
           1
          ],
          [
           0.5,
           0.5,
           0.5,
           0.5
          ],
          [
           1,
           1,
           1,
           1
          ],
          [
           0.5,
           0.5,
           0.5,
           0.5
          ],
          [
           1,
           1,
           1,
           1
          ],
          [
           0.5,
           0.5,
           0.5,
           0.5
          ],
          [
           1,
           1,
           1,
           1
          ],
          [
           0.5,
           0.5,
           0.5,
           0.5
          ],
          [
           1,
           1,
           1,
           1
          ],
          [
           0.5,
           0.5,
           0.5,
           0.5
          ],
          [
           1,
           1,
           1,
           1
          ],
          [
           0.5,
           0.5,
           0.5,
           0.5
          ],
          [
           1,
           1,
           1,
           1
          ],
          [
           0.5,
           0.5,
           0.5,
           0.5
          ],
          [
           1,
           1,
           1,
           1
          ],
          [
           0.5,
           0.5,
           0.5,
           0.5
          ],
          [
           1,
           1,
           1,
           1
          ]
         ]
        }
       ],
       "layout": {
        "annotations": [
         {
          "align": "left",
          "font": {
           "color": "#ffffff"
          },
          "showarrow": false,
          "text": "<b>Project</b>",
          "x": -0.45,
          "xanchor": "left",
          "xref": "x1",
          "y": 0,
          "yref": "y1"
         },
         {
          "align": "left",
          "font": {
           "color": "#ffffff"
          },
          "showarrow": false,
          "text": "<b>Org</b>",
          "x": 0.55,
          "xanchor": "left",
          "xref": "x1",
          "y": 0,
          "yref": "y1"
         },
         {
          "align": "left",
          "font": {
           "color": "#ffffff"
          },
          "showarrow": false,
          "text": "<b>Repo</b>",
          "x": 1.55,
          "xanchor": "left",
          "xref": "x1",
          "y": 0,
          "yref": "y1"
         },
         {
          "align": "left",
          "font": {
           "color": "#ffffff"
          },
          "showarrow": false,
          "text": "<b>uuid</b>",
          "x": 2.55,
          "xanchor": "left",
          "xref": "x1",
          "y": 0,
          "yref": "y1"
         },
         {
          "align": "left",
          "font": {
           "color": "#000000"
          },
          "showarrow": false,
          "text": "Gecko",
          "x": -0.45,
          "xanchor": "left",
          "xref": "x1",
          "y": 1,
          "yref": "y1"
         },
         {
          "align": "left",
          "font": {
           "color": "#000000"
          },
          "showarrow": false,
          "text": "Community",
          "x": 0.55,
          "xanchor": "left",
          "xref": "x1",
          "y": 1,
          "yref": "y1"
         },
         {
          "align": "left",
          "font": {
           "color": "#000000"
          },
          "showarrow": false,
          "text": "5",
          "x": 1.55,
          "xanchor": "left",
          "xref": "x1",
          "y": 1,
          "yref": "y1"
         },
         {
          "align": "left",
          "font": {
           "color": "#000000"
          },
          "showarrow": false,
          "text": "3974",
          "x": 2.55,
          "xanchor": "left",
          "xref": "x1",
          "y": 1,
          "yref": "y1"
         },
         {
          "align": "left",
          "font": {
           "color": "#000000"
          },
          "showarrow": false,
          "text": "Rust",
          "x": -0.45,
          "xanchor": "left",
          "xref": "x1",
          "y": 2,
          "yref": "y1"
         },
         {
          "align": "left",
          "font": {
           "color": "#000000"
          },
          "showarrow": false,
          "text": "Community",
          "x": 0.55,
          "xanchor": "left",
          "xref": "x1",
          "y": 2,
          "yref": "y1"
         },
         {
          "align": "left",
          "font": {
           "color": "#000000"
          },
          "showarrow": false,
          "text": "25",
          "x": 1.55,
          "xanchor": "left",
          "xref": "x1",
          "y": 2,
          "yref": "y1"
         },
         {
          "align": "left",
          "font": {
           "color": "#000000"
          },
          "showarrow": false,
          "text": "2361",
          "x": 2.55,
          "xanchor": "left",
          "xref": "x1",
          "y": 2,
          "yref": "y1"
         },
         {
          "align": "left",
          "font": {
           "color": "#000000"
          },
          "showarrow": false,
          "text": "IT/Ops",
          "x": -0.45,
          "xanchor": "left",
          "xref": "x1",
          "y": 3,
          "yref": "y1"
         },
         {
          "align": "left",
          "font": {
           "color": "#000000"
          },
          "showarrow": false,
          "text": "Community",
          "x": 0.55,
          "xanchor": "left",
          "xref": "x1",
          "y": 3,
          "yref": "y1"
         },
         {
          "align": "left",
          "font": {
           "color": "#000000"
          },
          "showarrow": false,
          "text": "75",
          "x": 1.55,
          "xanchor": "left",
          "xref": "x1",
          "y": 3,
          "yref": "y1"
         },
         {
          "align": "left",
          "font": {
           "color": "#000000"
          },
          "showarrow": false,
          "text": "1468",
          "x": 2.55,
          "xanchor": "left",
          "xref": "x1",
          "y": 3,
          "yref": "y1"
         },
         {
          "align": "left",
          "font": {
           "color": "#000000"
          },
          "showarrow": false,
          "text": "Gecko",
          "x": -0.45,
          "xanchor": "left",
          "xref": "x1",
          "y": 4,
          "yref": "y1"
         },
         {
          "align": "left",
          "font": {
           "color": "#000000"
          },
          "showarrow": false,
          "text": "Mozilla Staff",
          "x": 0.55,
          "xanchor": "left",
          "xref": "x1",
          "y": 4,
          "yref": "y1"
         },
         {
          "align": "left",
          "font": {
           "color": "#000000"
          },
          "showarrow": false,
          "text": "5",
          "x": 1.55,
          "xanchor": "left",
          "xref": "x1",
          "y": 4,
          "yref": "y1"
         },
         {
          "align": "left",
          "font": {
           "color": "#000000"
          },
          "showarrow": false,
          "text": "1379",
          "x": 2.55,
          "xanchor": "left",
          "xref": "x1",
          "y": 4,
          "yref": "y1"
         },
         {
          "align": "left",
          "font": {
           "color": "#000000"
          },
          "showarrow": false,
          "text": "Servo",
          "x": -0.45,
          "xanchor": "left",
          "xref": "x1",
          "y": 5,
          "yref": "y1"
         },
         {
          "align": "left",
          "font": {
           "color": "#000000"
          },
          "showarrow": false,
          "text": "Community",
          "x": 0.55,
          "xanchor": "left",
          "xref": "x1",
          "y": 5,
          "yref": "y1"
         },
         {
          "align": "left",
          "font": {
           "color": "#000000"
          },
          "showarrow": false,
          "text": "73",
          "x": 1.55,
          "xanchor": "left",
          "xref": "x1",
          "y": 5,
          "yref": "y1"
         },
         {
          "align": "left",
          "font": {
           "color": "#000000"
          },
          "showarrow": false,
          "text": "1239",
          "x": 2.55,
          "xanchor": "left",
          "xref": "x1",
          "y": 5,
          "yref": "y1"
         },
         {
          "align": "left",
          "font": {
           "color": "#000000"
          },
          "showarrow": false,
          "text": "Web Properties",
          "x": -0.45,
          "xanchor": "left",
          "xref": "x1",
          "y": 6,
          "yref": "y1"
         },
         {
          "align": "left",
          "font": {
           "color": "#000000"
          },
          "showarrow": false,
          "text": "Community",
          "x": 0.55,
          "xanchor": "left",
          "xref": "x1",
          "y": 6,
          "yref": "y1"
         },
         {
          "align": "left",
          "font": {
           "color": "#000000"
          },
          "showarrow": false,
          "text": "91",
          "x": 1.55,
          "xanchor": "left",
          "xref": "x1",
          "y": 6,
          "yref": "y1"
         },
         {
          "align": "left",
          "font": {
           "color": "#000000"
          },
          "showarrow": false,
          "text": "940",
          "x": 2.55,
          "xanchor": "left",
          "xref": "x1",
          "y": 6,
          "yref": "y1"
         },
         {
          "align": "left",
          "font": {
           "color": "#000000"
          },
          "showarrow": false,
          "text": "IT/Ops",
          "x": -0.45,
          "xanchor": "left",
          "xref": "x1",
          "y": 7,
          "yref": "y1"
         },
         {
          "align": "left",
          "font": {
           "color": "#000000"
          },
          "showarrow": false,
          "text": "Mozilla Staff",
          "x": 0.55,
          "xanchor": "left",
          "xref": "x1",
          "y": 7,
          "yref": "y1"
         },
         {
          "align": "left",
          "font": {
           "color": "#000000"
          },
          "showarrow": false,
          "text": "182",
          "x": 1.55,
          "xanchor": "left",
          "xref": "x1",
          "y": 7,
          "yref": "y1"
         },
         {
          "align": "left",
          "font": {
           "color": "#000000"
          },
          "showarrow": false,
          "text": "788",
          "x": 2.55,
          "xanchor": "left",
          "xref": "x1",
          "y": 7,
          "yref": "y1"
         },
         {
          "align": "left",
          "font": {
           "color": "#000000"
          },
          "showarrow": false,
          "text": "Web Properties",
          "x": -0.45,
          "xanchor": "left",
          "xref": "x1",
          "y": 8,
          "yref": "y1"
         },
         {
          "align": "left",
          "font": {
           "color": "#000000"
          },
          "showarrow": false,
          "text": "Mozilla Staff",
          "x": 0.55,
          "xanchor": "left",
          "xref": "x1",
          "y": 8,
          "yref": "y1"
         },
         {
          "align": "left",
          "font": {
           "color": "#000000"
          },
          "showarrow": false,
          "text": "113",
          "x": 1.55,
          "xanchor": "left",
          "xref": "x1",
          "y": 8,
          "yref": "y1"
         },
         {
          "align": "left",
          "font": {
           "color": "#000000"
          },
          "showarrow": false,
          "text": "396",
          "x": 2.55,
          "xanchor": "left",
          "xref": "x1",
          "y": 8,
          "yref": "y1"
         },
         {
          "align": "left",
          "font": {
           "color": "#000000"
          },
          "showarrow": false,
          "text": "Mozilla Local/Regional communities",
          "x": -0.45,
          "xanchor": "left",
          "xref": "x1",
          "y": 9,
          "yref": "y1"
         },
         {
          "align": "left",
          "font": {
           "color": "#000000"
          },
          "showarrow": false,
          "text": "Community",
          "x": 0.55,
          "xanchor": "left",
          "xref": "x1",
          "y": 9,
          "yref": "y1"
         },
         {
          "align": "left",
          "font": {
           "color": "#000000"
          },
          "showarrow": false,
          "text": "143",
          "x": 1.55,
          "xanchor": "left",
          "xref": "x1",
          "y": 9,
          "yref": "y1"
         },
         {
          "align": "left",
          "font": {
           "color": "#000000"
          },
          "showarrow": false,
          "text": "394",
          "x": 2.55,
          "xanchor": "left",
          "xref": "x1",
          "y": 9,
          "yref": "y1"
         },
         {
          "align": "left",
          "font": {
           "color": "#000000"
          },
          "showarrow": false,
          "text": "Addons/Web Extensions",
          "x": -0.45,
          "xanchor": "left",
          "xref": "x1",
          "y": 10,
          "yref": "y1"
         },
         {
          "align": "left",
          "font": {
           "color": "#000000"
          },
          "showarrow": false,
          "text": "Community",
          "x": 0.55,
          "xanchor": "left",
          "xref": "x1",
          "y": 10,
          "yref": "y1"
         },
         {
          "align": "left",
          "font": {
           "color": "#000000"
          },
          "showarrow": false,
          "text": "11",
          "x": 1.55,
          "xanchor": "left",
          "xref": "x1",
          "y": 10,
          "yref": "y1"
         },
         {
          "align": "left",
          "font": {
           "color": "#000000"
          },
          "showarrow": false,
          "text": "361",
          "x": 2.55,
          "xanchor": "left",
          "xref": "x1",
          "y": 10,
          "yref": "y1"
         },
         {
          "align": "left",
          "font": {
           "color": "#000000"
          },
          "showarrow": false,
          "text": "Addons/Web Extensions",
          "x": -0.45,
          "xanchor": "left",
          "xref": "x1",
          "y": 11,
          "yref": "y1"
         },
         {
          "align": "left",
          "font": {
           "color": "#000000"
          },
          "showarrow": false,
          "text": "Mozilla Staff",
          "x": 0.55,
          "xanchor": "left",
          "xref": "x1",
          "y": 11,
          "yref": "y1"
         },
         {
          "align": "left",
          "font": {
           "color": "#000000"
          },
          "showarrow": false,
          "text": "19",
          "x": 1.55,
          "xanchor": "left",
          "xref": "x1",
          "y": 11,
          "yref": "y1"
         },
         {
          "align": "left",
          "font": {
           "color": "#000000"
          },
          "showarrow": false,
          "text": "284",
          "x": 2.55,
          "xanchor": "left",
          "xref": "x1",
          "y": 11,
          "yref": "y1"
         },
         {
          "align": "left",
          "font": {
           "color": "#000000"
          },
          "showarrow": false,
          "text": "Release engineering",
          "x": -0.45,
          "xanchor": "left",
          "xref": "x1",
          "y": 12,
          "yref": "y1"
         },
         {
          "align": "left",
          "font": {
           "color": "#000000"
          },
          "showarrow": false,
          "text": "Mozilla Staff",
          "x": 0.55,
          "xanchor": "left",
          "xref": "x1",
          "y": 12,
          "yref": "y1"
         },
         {
          "align": "left",
          "font": {
           "color": "#000000"
          },
          "showarrow": false,
          "text": "22",
          "x": 1.55,
          "xanchor": "left",
          "xref": "x1",
          "y": 12,
          "yref": "y1"
         },
         {
          "align": "left",
          "font": {
           "color": "#000000"
          },
          "showarrow": false,
          "text": "218",
          "x": 2.55,
          "xanchor": "left",
          "xref": "x1",
          "y": 12,
          "yref": "y1"
         },
         {
          "align": "left",
          "font": {
           "color": "#000000"
          },
          "showarrow": false,
          "text": "WebVR",
          "x": -0.45,
          "xanchor": "left",
          "xref": "x1",
          "y": 13,
          "yref": "y1"
         },
         {
          "align": "left",
          "font": {
           "color": "#000000"
          },
          "showarrow": false,
          "text": "Community",
          "x": 0.55,
          "xanchor": "left",
          "xref": "x1",
          "y": 13,
          "yref": "y1"
         },
         {
          "align": "left",
          "font": {
           "color": "#000000"
          },
          "showarrow": false,
          "text": "19",
          "x": 1.55,
          "xanchor": "left",
          "xref": "x1",
          "y": 13,
          "yref": "y1"
         },
         {
          "align": "left",
          "font": {
           "color": "#000000"
          },
          "showarrow": false,
          "text": "215",
          "x": 2.55,
          "xanchor": "left",
          "xref": "x1",
          "y": 13,
          "yref": "y1"
         },
         {
          "align": "left",
          "font": {
           "color": "#000000"
          },
          "showarrow": false,
          "text": "Servo",
          "x": -0.45,
          "xanchor": "left",
          "xref": "x1",
          "y": 14,
          "yref": "y1"
         },
         {
          "align": "left",
          "font": {
           "color": "#000000"
          },
          "showarrow": false,
          "text": "Mozilla Staff",
          "x": 0.55,
          "xanchor": "left",
          "xref": "x1",
          "y": 14,
          "yref": "y1"
         },
         {
          "align": "left",
          "font": {
           "color": "#000000"
          },
          "showarrow": false,
          "text": "80",
          "x": 1.55,
          "xanchor": "left",
          "xref": "x1",
          "y": 14,
          "yref": "y1"
         },
         {
          "align": "left",
          "font": {
           "color": "#000000"
          },
          "showarrow": false,
          "text": "198",
          "x": 2.55,
          "xanchor": "left",
          "xref": "x1",
          "y": 14,
          "yref": "y1"
         },
         {
          "align": "left",
          "font": {
           "color": "#000000"
          },
          "showarrow": false,
          "text": "Web Literacy",
          "x": -0.45,
          "xanchor": "left",
          "xref": "x1",
          "y": 15,
          "yref": "y1"
         },
         {
          "align": "left",
          "font": {
           "color": "#000000"
          },
          "showarrow": false,
          "text": "Community",
          "x": 0.55,
          "xanchor": "left",
          "xref": "x1",
          "y": 15,
          "yref": "y1"
         },
         {
          "align": "left",
          "font": {
           "color": "#000000"
          },
          "showarrow": false,
          "text": "40",
          "x": 1.55,
          "xanchor": "left",
          "xref": "x1",
          "y": 15,
          "yref": "y1"
         },
         {
          "align": "left",
          "font": {
           "color": "#000000"
          },
          "showarrow": false,
          "text": "156",
          "x": 2.55,
          "xanchor": "left",
          "xref": "x1",
          "y": 15,
          "yref": "y1"
         },
         {
          "align": "left",
          "font": {
           "color": "#000000"
          },
          "showarrow": false,
          "text": "Rust",
          "x": -0.45,
          "xanchor": "left",
          "xref": "x1",
          "y": 16,
          "yref": "y1"
         },
         {
          "align": "left",
          "font": {
           "color": "#000000"
          },
          "showarrow": false,
          "text": "Mozilla Staff",
          "x": 0.55,
          "xanchor": "left",
          "xref": "x1",
          "y": 16,
          "yref": "y1"
         },
         {
          "align": "left",
          "font": {
           "color": "#000000"
          },
          "showarrow": false,
          "text": "27",
          "x": 1.55,
          "xanchor": "left",
          "xref": "x1",
          "y": 16,
          "yref": "y1"
         },
         {
          "align": "left",
          "font": {
           "color": "#000000"
          },
          "showarrow": false,
          "text": "141",
          "x": 2.55,
          "xanchor": "left",
          "xref": "x1",
          "y": 16,
          "yref": "y1"
         },
         {
          "align": "left",
          "font": {
           "color": "#000000"
          },
          "showarrow": false,
          "text": "Mozilla Developer Network (MDN)",
          "x": -0.45,
          "xanchor": "left",
          "xref": "x1",
          "y": 17,
          "yref": "y1"
         },
         {
          "align": "left",
          "font": {
           "color": "#000000"
          },
          "showarrow": false,
          "text": "Community",
          "x": 0.55,
          "xanchor": "left",
          "xref": "x1",
          "y": 17,
          "yref": "y1"
         },
         {
          "align": "left",
          "font": {
           "color": "#000000"
          },
          "showarrow": false,
          "text": "27",
          "x": 1.55,
          "xanchor": "left",
          "xref": "x1",
          "y": 17,
          "yref": "y1"
         },
         {
          "align": "left",
          "font": {
           "color": "#000000"
          },
          "showarrow": false,
          "text": "118",
          "x": 2.55,
          "xanchor": "left",
          "xref": "x1",
          "y": 17,
          "yref": "y1"
         },
         {
          "align": "left",
          "font": {
           "color": "#000000"
          },
          "showarrow": false,
          "text": "Firefox OS (FxOS / B2G)",
          "x": -0.45,
          "xanchor": "left",
          "xref": "x1",
          "y": 18,
          "yref": "y1"
         },
         {
          "align": "left",
          "font": {
           "color": "#000000"
          },
          "showarrow": false,
          "text": "Mozilla Staff",
          "x": 0.55,
          "xanchor": "left",
          "xref": "x1",
          "y": 18,
          "yref": "y1"
         },
         {
          "align": "left",
          "font": {
           "color": "#000000"
          },
          "showarrow": false,
          "text": "26",
          "x": 1.55,
          "xanchor": "left",
          "xref": "x1",
          "y": 18,
          "yref": "y1"
         },
         {
          "align": "left",
          "font": {
           "color": "#000000"
          },
          "showarrow": false,
          "text": "110",
          "x": 2.55,
          "xanchor": "left",
          "xref": "x1",
          "y": 18,
          "yref": "y1"
         },
         {
          "align": "left",
          "font": {
           "color": "#000000"
          },
          "showarrow": false,
          "text": "Mozilla Science",
          "x": -0.45,
          "xanchor": "left",
          "xref": "x1",
          "y": 19,
          "yref": "y1"
         },
         {
          "align": "left",
          "font": {
           "color": "#000000"
          },
          "showarrow": false,
          "text": "Community",
          "x": 0.55,
          "xanchor": "left",
          "xref": "x1",
          "y": 19,
          "yref": "y1"
         },
         {
          "align": "left",
          "font": {
           "color": "#000000"
          },
          "showarrow": false,
          "text": "34",
          "x": 1.55,
          "xanchor": "left",
          "xref": "x1",
          "y": 19,
          "yref": "y1"
         },
         {
          "align": "left",
          "font": {
           "color": "#000000"
          },
          "showarrow": false,
          "text": "100",
          "x": 2.55,
          "xanchor": "left",
          "xref": "x1",
          "y": 19,
          "yref": "y1"
         },
         {
          "align": "left",
          "font": {
           "color": "#000000"
          },
          "showarrow": false,
          "text": "Mozilla Local/Regional communities",
          "x": -0.45,
          "xanchor": "left",
          "xref": "x1",
          "y": 20,
          "yref": "y1"
         },
         {
          "align": "left",
          "font": {
           "color": "#000000"
          },
          "showarrow": false,
          "text": "Mozilla Staff",
          "x": 0.55,
          "xanchor": "left",
          "xref": "x1",
          "y": 20,
          "yref": "y1"
         },
         {
          "align": "left",
          "font": {
           "color": "#000000"
          },
          "showarrow": false,
          "text": "77",
          "x": 1.55,
          "xanchor": "left",
          "xref": "x1",
          "y": 20,
          "yref": "y1"
         },
         {
          "align": "left",
          "font": {
           "color": "#000000"
          },
          "showarrow": false,
          "text": "93",
          "x": 2.55,
          "xanchor": "left",
          "xref": "x1",
          "y": 20,
          "yref": "y1"
         },
         {
          "align": "left",
          "font": {
           "color": "#000000"
          },
          "showarrow": false,
          "text": "Test Pilot",
          "x": -0.45,
          "xanchor": "left",
          "xref": "x1",
          "y": 21,
          "yref": "y1"
         },
         {
          "align": "left",
          "font": {
           "color": "#000000"
          },
          "showarrow": false,
          "text": "Community",
          "x": 0.55,
          "xanchor": "left",
          "xref": "x1",
          "y": 21,
          "yref": "y1"
         },
         {
          "align": "left",
          "font": {
           "color": "#000000"
          },
          "showarrow": false,
          "text": "2",
          "x": 1.55,
          "xanchor": "left",
          "xref": "x1",
          "y": 21,
          "yref": "y1"
         },
         {
          "align": "left",
          "font": {
           "color": "#000000"
          },
          "showarrow": false,
          "text": "86",
          "x": 2.55,
          "xanchor": "left",
          "xref": "x1",
          "y": 21,
          "yref": "y1"
         },
         {
          "align": "left",
          "font": {
           "color": "#000000"
          },
          "showarrow": false,
          "text": "Localization",
          "x": -0.45,
          "xanchor": "left",
          "xref": "x1",
          "y": 22,
          "yref": "y1"
         },
         {
          "align": "left",
          "font": {
           "color": "#000000"
          },
          "showarrow": false,
          "text": "Community",
          "x": 0.55,
          "xanchor": "left",
          "xref": "x1",
          "y": 22,
          "yref": "y1"
         },
         {
          "align": "left",
          "font": {
           "color": "#000000"
          },
          "showarrow": false,
          "text": "4",
          "x": 1.55,
          "xanchor": "left",
          "xref": "x1",
          "y": 22,
          "yref": "y1"
         },
         {
          "align": "left",
          "font": {
           "color": "#000000"
          },
          "showarrow": false,
          "text": "86",
          "x": 2.55,
          "xanchor": "left",
          "xref": "x1",
          "y": 22,
          "yref": "y1"
         },
         {
          "align": "left",
          "font": {
           "color": "#000000"
          },
          "showarrow": false,
          "text": "Mozilla Foundation",
          "x": -0.45,
          "xanchor": "left",
          "xref": "x1",
          "y": 23,
          "yref": "y1"
         },
         {
          "align": "left",
          "font": {
           "color": "#000000"
          },
          "showarrow": false,
          "text": "Community",
          "x": 0.55,
          "xanchor": "left",
          "xref": "x1",
          "y": 23,
          "yref": "y1"
         },
         {
          "align": "left",
          "font": {
           "color": "#000000"
          },
          "showarrow": false,
          "text": "24",
          "x": 1.55,
          "xanchor": "left",
          "xref": "x1",
          "y": 23,
          "yref": "y1"
         },
         {
          "align": "left",
          "font": {
           "color": "#000000"
          },
          "showarrow": false,
          "text": "85",
          "x": 2.55,
          "xanchor": "left",
          "xref": "x1",
          "y": 23,
          "yref": "y1"
         },
         {
          "align": "left",
          "font": {
           "color": "#000000"
          },
          "showarrow": false,
          "text": "Firefox OS (FxOS / B2G)",
          "x": -0.45,
          "xanchor": "left",
          "xref": "x1",
          "y": 24,
          "yref": "y1"
         },
         {
          "align": "left",
          "font": {
           "color": "#000000"
          },
          "showarrow": false,
          "text": "Community",
          "x": 0.55,
          "xanchor": "left",
          "xref": "x1",
          "y": 24,
          "yref": "y1"
         },
         {
          "align": "left",
          "font": {
           "color": "#000000"
          },
          "showarrow": false,
          "text": "17",
          "x": 1.55,
          "xanchor": "left",
          "xref": "x1",
          "y": 24,
          "yref": "y1"
         },
         {
          "align": "left",
          "font": {
           "color": "#000000"
          },
          "showarrow": false,
          "text": "84",
          "x": 2.55,
          "xanchor": "left",
          "xref": "x1",
          "y": 24,
          "yref": "y1"
         },
         {
          "align": "left",
          "font": {
           "color": "#000000"
          },
          "showarrow": false,
          "text": "Mozilla Location Service (MLS) / Stumbler",
          "x": -0.45,
          "xanchor": "left",
          "xref": "x1",
          "y": 25,
          "yref": "y1"
         },
         {
          "align": "left",
          "font": {
           "color": "#000000"
          },
          "showarrow": false,
          "text": "Community",
          "x": 0.55,
          "xanchor": "left",
          "xref": "x1",
          "y": 25,
          "yref": "y1"
         },
         {
          "align": "left",
          "font": {
           "color": "#000000"
          },
          "showarrow": false,
          "text": "1",
          "x": 1.55,
          "xanchor": "left",
          "xref": "x1",
          "y": 25,
          "yref": "y1"
         },
         {
          "align": "left",
          "font": {
           "color": "#000000"
          },
          "showarrow": false,
          "text": "73",
          "x": 2.55,
          "xanchor": "left",
          "xref": "x1",
          "y": 25,
          "yref": "y1"
         },
         {
          "align": "left",
          "font": {
           "color": "#000000"
          },
          "showarrow": false,
          "text": "Release engineering",
          "x": -0.45,
          "xanchor": "left",
          "xref": "x1",
          "y": 26,
          "yref": "y1"
         },
         {
          "align": "left",
          "font": {
           "color": "#000000"
          },
          "showarrow": false,
          "text": "Community",
          "x": 0.55,
          "xanchor": "left",
          "xref": "x1",
          "y": 26,
          "yref": "y1"
         },
         {
          "align": "left",
          "font": {
           "color": "#000000"
          },
          "showarrow": false,
          "text": "9",
          "x": 1.55,
          "xanchor": "left",
          "xref": "x1",
          "y": 26,
          "yref": "y1"
         },
         {
          "align": "left",
          "font": {
           "color": "#000000"
          },
          "showarrow": false,
          "text": "67",
          "x": 2.55,
          "xanchor": "left",
          "xref": "x1",
          "y": 26,
          "yref": "y1"
         },
         {
          "align": "left",
          "font": {
           "color": "#000000"
          },
          "showarrow": false,
          "text": "Firefox iOS",
          "x": -0.45,
          "xanchor": "left",
          "xref": "x1",
          "y": 27,
          "yref": "y1"
         },
         {
          "align": "left",
          "font": {
           "color": "#000000"
          },
          "showarrow": false,
          "text": "Community",
          "x": 0.55,
          "xanchor": "left",
          "xref": "x1",
          "y": 27,
          "yref": "y1"
         },
         {
          "align": "left",
          "font": {
           "color": "#000000"
          },
          "showarrow": false,
          "text": "3",
          "x": 1.55,
          "xanchor": "left",
          "xref": "x1",
          "y": 27,
          "yref": "y1"
         },
         {
          "align": "left",
          "font": {
           "color": "#000000"
          },
          "showarrow": false,
          "text": "66",
          "x": 2.55,
          "xanchor": "left",
          "xref": "x1",
          "y": 27,
          "yref": "y1"
         },
         {
          "align": "left",
          "font": {
           "color": "#000000"
          },
          "showarrow": false,
          "text": "Mozilla Developer Network (MDN)",
          "x": -0.45,
          "xanchor": "left",
          "xref": "x1",
          "y": 28,
          "yref": "y1"
         },
         {
          "align": "left",
          "font": {
           "color": "#000000"
          },
          "showarrow": false,
          "text": "Mozilla Staff",
          "x": 0.55,
          "xanchor": "left",
          "xref": "x1",
          "y": 28,
          "yref": "y1"
         },
         {
          "align": "left",
          "font": {
           "color": "#000000"
          },
          "showarrow": false,
          "text": "47",
          "x": 1.55,
          "xanchor": "left",
          "xref": "x1",
          "y": 28,
          "yref": "y1"
         },
         {
          "align": "left",
          "font": {
           "color": "#000000"
          },
          "showarrow": false,
          "text": "53",
          "x": 2.55,
          "xanchor": "left",
          "xref": "x1",
          "y": 28,
          "yref": "y1"
         },
         {
          "align": "left",
          "font": {
           "color": "#000000"
          },
          "showarrow": false,
          "text": "Web Literacy",
          "x": -0.45,
          "xanchor": "left",
          "xref": "x1",
          "y": 29,
          "yref": "y1"
         },
         {
          "align": "left",
          "font": {
           "color": "#000000"
          },
          "showarrow": false,
          "text": "Mozilla Staff",
          "x": 0.55,
          "xanchor": "left",
          "xref": "x1",
          "y": 29,
          "yref": "y1"
         },
         {
          "align": "left",
          "font": {
           "color": "#000000"
          },
          "showarrow": false,
          "text": "51",
          "x": 1.55,
          "xanchor": "left",
          "xref": "x1",
          "y": 29,
          "yref": "y1"
         },
         {
          "align": "left",
          "font": {
           "color": "#000000"
          },
          "showarrow": false,
          "text": "53",
          "x": 2.55,
          "xanchor": "left",
          "xref": "x1",
          "y": 29,
          "yref": "y1"
         },
         {
          "align": "left",
          "font": {
           "color": "#000000"
          },
          "showarrow": false,
          "text": "Marketing / Social Media",
          "x": -0.45,
          "xanchor": "left",
          "xref": "x1",
          "y": 30,
          "yref": "y1"
         },
         {
          "align": "left",
          "font": {
           "color": "#000000"
          },
          "showarrow": false,
          "text": "Mozilla Staff",
          "x": 0.55,
          "xanchor": "left",
          "xref": "x1",
          "y": 30,
          "yref": "y1"
         },
         {
          "align": "left",
          "font": {
           "color": "#000000"
          },
          "showarrow": false,
          "text": "15",
          "x": 1.55,
          "xanchor": "left",
          "xref": "x1",
          "y": 30,
          "yref": "y1"
         },
         {
          "align": "left",
          "font": {
           "color": "#000000"
          },
          "showarrow": false,
          "text": "49",
          "x": 2.55,
          "xanchor": "left",
          "xref": "x1",
          "y": 30,
          "yref": "y1"
         },
         {
          "align": "left",
          "font": {
           "color": "#000000"
          },
          "showarrow": false,
          "text": "Test Pilot",
          "x": -0.45,
          "xanchor": "left",
          "xref": "x1",
          "y": 31,
          "yref": "y1"
         },
         {
          "align": "left",
          "font": {
           "color": "#000000"
          },
          "showarrow": false,
          "text": "Mozilla Staff",
          "x": 0.55,
          "xanchor": "left",
          "xref": "x1",
          "y": 31,
          "yref": "y1"
         },
         {
          "align": "left",
          "font": {
           "color": "#000000"
          },
          "showarrow": false,
          "text": "6",
          "x": 1.55,
          "xanchor": "left",
          "xref": "x1",
          "y": 31,
          "yref": "y1"
         },
         {
          "align": "left",
          "font": {
           "color": "#000000"
          },
          "showarrow": false,
          "text": "46",
          "x": 2.55,
          "xanchor": "left",
          "xref": "x1",
          "y": 31,
          "yref": "y1"
         },
         {
          "align": "left",
          "font": {
           "color": "#000000"
          },
          "showarrow": false,
          "text": "Quality Assurance",
          "x": -0.45,
          "xanchor": "left",
          "xref": "x1",
          "y": 32,
          "yref": "y1"
         },
         {
          "align": "left",
          "font": {
           "color": "#000000"
          },
          "showarrow": false,
          "text": "Mozilla Staff",
          "x": 0.55,
          "xanchor": "left",
          "xref": "x1",
          "y": 32,
          "yref": "y1"
         },
         {
          "align": "left",
          "font": {
           "color": "#000000"
          },
          "showarrow": false,
          "text": "3",
          "x": 1.55,
          "xanchor": "left",
          "xref": "x1",
          "y": 32,
          "yref": "y1"
         },
         {
          "align": "left",
          "font": {
           "color": "#000000"
          },
          "showarrow": false,
          "text": "45",
          "x": 2.55,
          "xanchor": "left",
          "xref": "x1",
          "y": 32,
          "yref": "y1"
         },
         {
          "align": "left",
          "font": {
           "color": "#000000"
          },
          "showarrow": false,
          "text": "Quality Assurance",
          "x": -0.45,
          "xanchor": "left",
          "xref": "x1",
          "y": 33,
          "yref": "y1"
         },
         {
          "align": "left",
          "font": {
           "color": "#000000"
          },
          "showarrow": false,
          "text": "Community",
          "x": 0.55,
          "xanchor": "left",
          "xref": "x1",
          "y": 33,
          "yref": "y1"
         },
         {
          "align": "left",
          "font": {
           "color": "#000000"
          },
          "showarrow": false,
          "text": "2",
          "x": 1.55,
          "xanchor": "left",
          "xref": "x1",
          "y": 33,
          "yref": "y1"
         },
         {
          "align": "left",
          "font": {
           "color": "#000000"
          },
          "showarrow": false,
          "text": "40",
          "x": 2.55,
          "xanchor": "left",
          "xref": "x1",
          "y": 33,
          "yref": "y1"
         },
         {
          "align": "left",
          "font": {
           "color": "#000000"
          },
          "showarrow": false,
          "text": "Advocacy and policy",
          "x": -0.45,
          "xanchor": "left",
          "xref": "x1",
          "y": 34,
          "yref": "y1"
         },
         {
          "align": "left",
          "font": {
           "color": "#000000"
          },
          "showarrow": false,
          "text": "Community",
          "x": 0.55,
          "xanchor": "left",
          "xref": "x1",
          "y": 34,
          "yref": "y1"
         },
         {
          "align": "left",
          "font": {
           "color": "#000000"
          },
          "showarrow": false,
          "text": "4",
          "x": 1.55,
          "xanchor": "left",
          "xref": "x1",
          "y": 34,
          "yref": "y1"
         },
         {
          "align": "left",
          "font": {
           "color": "#000000"
          },
          "showarrow": false,
          "text": "38",
          "x": 2.55,
          "xanchor": "left",
          "xref": "x1",
          "y": 34,
          "yref": "y1"
         },
         {
          "align": "left",
          "font": {
           "color": "#000000"
          },
          "showarrow": false,
          "text": "Localization",
          "x": -0.45,
          "xanchor": "left",
          "xref": "x1",
          "y": 35,
          "yref": "y1"
         },
         {
          "align": "left",
          "font": {
           "color": "#000000"
          },
          "showarrow": false,
          "text": "Mozilla Staff",
          "x": 0.55,
          "xanchor": "left",
          "xref": "x1",
          "y": 35,
          "yref": "y1"
         },
         {
          "align": "left",
          "font": {
           "color": "#000000"
          },
          "showarrow": false,
          "text": "4",
          "x": 1.55,
          "xanchor": "left",
          "xref": "x1",
          "y": 35,
          "yref": "y1"
         },
         {
          "align": "left",
          "font": {
           "color": "#000000"
          },
          "showarrow": false,
          "text": "35",
          "x": 2.55,
          "xanchor": "left",
          "xref": "x1",
          "y": 35,
          "yref": "y1"
         },
         {
          "align": "left",
          "font": {
           "color": "#000000"
          },
          "showarrow": false,
          "text": "Advocacy and policy",
          "x": -0.45,
          "xanchor": "left",
          "xref": "x1",
          "y": 36,
          "yref": "y1"
         },
         {
          "align": "left",
          "font": {
           "color": "#000000"
          },
          "showarrow": false,
          "text": "Mozilla Staff",
          "x": 0.55,
          "xanchor": "left",
          "xref": "x1",
          "y": 36,
          "yref": "y1"
         },
         {
          "align": "left",
          "font": {
           "color": "#000000"
          },
          "showarrow": false,
          "text": "4",
          "x": 1.55,
          "xanchor": "left",
          "xref": "x1",
          "y": 36,
          "yref": "y1"
         },
         {
          "align": "left",
          "font": {
           "color": "#000000"
          },
          "showarrow": false,
          "text": "33",
          "x": 2.55,
          "xanchor": "left",
          "xref": "x1",
          "y": 36,
          "yref": "y1"
         },
         {
          "align": "left",
          "font": {
           "color": "#000000"
          },
          "showarrow": false,
          "text": "Firefox iOS",
          "x": -0.45,
          "xanchor": "left",
          "xref": "x1",
          "y": 37,
          "yref": "y1"
         },
         {
          "align": "left",
          "font": {
           "color": "#000000"
          },
          "showarrow": false,
          "text": "Mozilla Staff",
          "x": 0.55,
          "xanchor": "left",
          "xref": "x1",
          "y": 37,
          "yref": "y1"
         },
         {
          "align": "left",
          "font": {
           "color": "#000000"
          },
          "showarrow": false,
          "text": "5",
          "x": 1.55,
          "xanchor": "left",
          "xref": "x1",
          "y": 37,
          "yref": "y1"
         },
         {
          "align": "left",
          "font": {
           "color": "#000000"
          },
          "showarrow": false,
          "text": "32",
          "x": 2.55,
          "xanchor": "left",
          "xref": "x1",
          "y": 37,
          "yref": "y1"
         },
         {
          "align": "left",
          "font": {
           "color": "#000000"
          },
          "showarrow": false,
          "text": "Mozilla Foundation",
          "x": -0.45,
          "xanchor": "left",
          "xref": "x1",
          "y": 38,
          "yref": "y1"
         },
         {
          "align": "left",
          "font": {
           "color": "#000000"
          },
          "showarrow": false,
          "text": "Mozilla Staff",
          "x": 0.55,
          "xanchor": "left",
          "xref": "x1",
          "y": 38,
          "yref": "y1"
         },
         {
          "align": "left",
          "font": {
           "color": "#000000"
          },
          "showarrow": false,
          "text": "36",
          "x": 1.55,
          "xanchor": "left",
          "xref": "x1",
          "y": 38,
          "yref": "y1"
         },
         {
          "align": "left",
          "font": {
           "color": "#000000"
          },
          "showarrow": false,
          "text": "30",
          "x": 2.55,
          "xanchor": "left",
          "xref": "x1",
          "y": 38,
          "yref": "y1"
         },
         {
          "align": "left",
          "font": {
           "color": "#000000"
          },
          "showarrow": false,
          "text": "WebVR",
          "x": -0.45,
          "xanchor": "left",
          "xref": "x1",
          "y": 39,
          "yref": "y1"
         },
         {
          "align": "left",
          "font": {
           "color": "#000000"
          },
          "showarrow": false,
          "text": "Mozilla Staff",
          "x": 0.55,
          "xanchor": "left",
          "xref": "x1",
          "y": 39,
          "yref": "y1"
         },
         {
          "align": "left",
          "font": {
           "color": "#000000"
          },
          "showarrow": false,
          "text": "29",
          "x": 1.55,
          "xanchor": "left",
          "xref": "x1",
          "y": 39,
          "yref": "y1"
         },
         {
          "align": "left",
          "font": {
           "color": "#000000"
          },
          "showarrow": false,
          "text": "27",
          "x": 2.55,
          "xanchor": "left",
          "xref": "x1",
          "y": 39,
          "yref": "y1"
         },
         {
          "align": "left",
          "font": {
           "color": "#000000"
          },
          "showarrow": false,
          "text": "Mozilla Creative & Design",
          "x": -0.45,
          "xanchor": "left",
          "xref": "x1",
          "y": 40,
          "yref": "y1"
         },
         {
          "align": "left",
          "font": {
           "color": "#000000"
          },
          "showarrow": false,
          "text": "Community",
          "x": 0.55,
          "xanchor": "left",
          "xref": "x1",
          "y": 40,
          "yref": "y1"
         },
         {
          "align": "left",
          "font": {
           "color": "#000000"
          },
          "showarrow": false,
          "text": "2",
          "x": 1.55,
          "xanchor": "left",
          "xref": "x1",
          "y": 40,
          "yref": "y1"
         },
         {
          "align": "left",
          "font": {
           "color": "#000000"
          },
          "showarrow": false,
          "text": "21",
          "x": 2.55,
          "xanchor": "left",
          "xref": "x1",
          "y": 40,
          "yref": "y1"
         },
         {
          "align": "left",
          "font": {
           "color": "#000000"
          },
          "showarrow": false,
          "text": "Firefox",
          "x": -0.45,
          "xanchor": "left",
          "xref": "x1",
          "y": 41,
          "yref": "y1"
         },
         {
          "align": "left",
          "font": {
           "color": "#000000"
          },
          "showarrow": false,
          "text": "Mozilla Staff",
          "x": 0.55,
          "xanchor": "left",
          "xref": "x1",
          "y": 41,
          "yref": "y1"
         },
         {
          "align": "left",
          "font": {
           "color": "#000000"
          },
          "showarrow": false,
          "text": "1",
          "x": 1.55,
          "xanchor": "left",
          "xref": "x1",
          "y": 41,
          "yref": "y1"
         },
         {
          "align": "left",
          "font": {
           "color": "#000000"
          },
          "showarrow": false,
          "text": "20",
          "x": 2.55,
          "xanchor": "left",
          "xref": "x1",
          "y": 41,
          "yref": "y1"
         },
         {
          "align": "left",
          "font": {
           "color": "#000000"
          },
          "showarrow": false,
          "text": "Mozilla Location Service (MLS) / Stumbler",
          "x": -0.45,
          "xanchor": "left",
          "xref": "x1",
          "y": 42,
          "yref": "y1"
         },
         {
          "align": "left",
          "font": {
           "color": "#000000"
          },
          "showarrow": false,
          "text": "Mozilla Staff",
          "x": 0.55,
          "xanchor": "left",
          "xref": "x1",
          "y": 42,
          "yref": "y1"
         },
         {
          "align": "left",
          "font": {
           "color": "#000000"
          },
          "showarrow": false,
          "text": "1",
          "x": 1.55,
          "xanchor": "left",
          "xref": "x1",
          "y": 42,
          "yref": "y1"
         },
         {
          "align": "left",
          "font": {
           "color": "#000000"
          },
          "showarrow": false,
          "text": "18",
          "x": 2.55,
          "xanchor": "left",
          "xref": "x1",
          "y": 42,
          "yref": "y1"
         },
         {
          "align": "left",
          "font": {
           "color": "#000000"
          },
          "showarrow": false,
          "text": "Marketing / Social Media",
          "x": -0.45,
          "xanchor": "left",
          "xref": "x1",
          "y": 43,
          "yref": "y1"
         },
         {
          "align": "left",
          "font": {
           "color": "#000000"
          },
          "showarrow": false,
          "text": "Community",
          "x": 0.55,
          "xanchor": "left",
          "xref": "x1",
          "y": 43,
          "yref": "y1"
         },
         {
          "align": "left",
          "font": {
           "color": "#000000"
          },
          "showarrow": false,
          "text": "7",
          "x": 1.55,
          "xanchor": "left",
          "xref": "x1",
          "y": 43,
          "yref": "y1"
         },
         {
          "align": "left",
          "font": {
           "color": "#000000"
          },
          "showarrow": false,
          "text": "16",
          "x": 2.55,
          "xanchor": "left",
          "xref": "x1",
          "y": 43,
          "yref": "y1"
         },
         {
          "align": "left",
          "font": {
           "color": "#000000"
          },
          "showarrow": false,
          "text": "Technical/Developer Evangelism",
          "x": -0.45,
          "xanchor": "left",
          "xref": "x1",
          "y": 44,
          "yref": "y1"
         },
         {
          "align": "left",
          "font": {
           "color": "#000000"
          },
          "showarrow": false,
          "text": "Community",
          "x": 0.55,
          "xanchor": "left",
          "xref": "x1",
          "y": 44,
          "yref": "y1"
         },
         {
          "align": "left",
          "font": {
           "color": "#000000"
          },
          "showarrow": false,
          "text": "6",
          "x": 1.55,
          "xanchor": "left",
          "xref": "x1",
          "y": 44,
          "yref": "y1"
         },
         {
          "align": "left",
          "font": {
           "color": "#000000"
          },
          "showarrow": false,
          "text": "16",
          "x": 2.55,
          "xanchor": "left",
          "xref": "x1",
          "y": 44,
          "yref": "y1"
         },
         {
          "align": "left",
          "font": {
           "color": "#000000"
          },
          "showarrow": false,
          "text": "Technical/Developer Evangelism",
          "x": -0.45,
          "xanchor": "left",
          "xref": "x1",
          "y": 45,
          "yref": "y1"
         },
         {
          "align": "left",
          "font": {
           "color": "#000000"
          },
          "showarrow": false,
          "text": "Mozilla Staff",
          "x": 0.55,
          "xanchor": "left",
          "xref": "x1",
          "y": 45,
          "yref": "y1"
         },
         {
          "align": "left",
          "font": {
           "color": "#000000"
          },
          "showarrow": false,
          "text": "17",
          "x": 1.55,
          "xanchor": "left",
          "xref": "x1",
          "y": 45,
          "yref": "y1"
         },
         {
          "align": "left",
          "font": {
           "color": "#000000"
          },
          "showarrow": false,
          "text": "14",
          "x": 2.55,
          "xanchor": "left",
          "xref": "x1",
          "y": 45,
          "yref": "y1"
         },
         {
          "align": "left",
          "font": {
           "color": "#000000"
          },
          "showarrow": false,
          "text": "Vaani",
          "x": -0.45,
          "xanchor": "left",
          "xref": "x1",
          "y": 46,
          "yref": "y1"
         },
         {
          "align": "left",
          "font": {
           "color": "#000000"
          },
          "showarrow": false,
          "text": "Mozilla Staff",
          "x": 0.55,
          "xanchor": "left",
          "xref": "x1",
          "y": 46,
          "yref": "y1"
         },
         {
          "align": "left",
          "font": {
           "color": "#000000"
          },
          "showarrow": false,
          "text": "8",
          "x": 1.55,
          "xanchor": "left",
          "xref": "x1",
          "y": 46,
          "yref": "y1"
         },
         {
          "align": "left",
          "font": {
           "color": "#000000"
          },
          "showarrow": false,
          "text": "11",
          "x": 2.55,
          "xanchor": "left",
          "xref": "x1",
          "y": 46,
          "yref": "y1"
         },
         {
          "align": "left",
          "font": {
           "color": "#000000"
          },
          "showarrow": false,
          "text": "Mozilla Creative & Design",
          "x": -0.45,
          "xanchor": "left",
          "xref": "x1",
          "y": 47,
          "yref": "y1"
         },
         {
          "align": "left",
          "font": {
           "color": "#000000"
          },
          "showarrow": false,
          "text": "Mozilla Staff",
          "x": 0.55,
          "xanchor": "left",
          "xref": "x1",
          "y": 47,
          "yref": "y1"
         },
         {
          "align": "left",
          "font": {
           "color": "#000000"
          },
          "showarrow": false,
          "text": "3",
          "x": 1.55,
          "xanchor": "left",
          "xref": "x1",
          "y": 47,
          "yref": "y1"
         },
         {
          "align": "left",
          "font": {
           "color": "#000000"
          },
          "showarrow": false,
          "text": "10",
          "x": 2.55,
          "xanchor": "left",
          "xref": "x1",
          "y": 47,
          "yref": "y1"
         },
         {
          "align": "left",
          "font": {
           "color": "#000000"
          },
          "showarrow": false,
          "text": "Firefox Focus",
          "x": -0.45,
          "xanchor": "left",
          "xref": "x1",
          "y": 48,
          "yref": "y1"
         },
         {
          "align": "left",
          "font": {
           "color": "#000000"
          },
          "showarrow": false,
          "text": "Mozilla Staff",
          "x": 0.55,
          "xanchor": "left",
          "xref": "x1",
          "y": 48,
          "yref": "y1"
         },
         {
          "align": "left",
          "font": {
           "color": "#000000"
          },
          "showarrow": false,
          "text": "2",
          "x": 1.55,
          "xanchor": "left",
          "xref": "x1",
          "y": 48,
          "yref": "y1"
         },
         {
          "align": "left",
          "font": {
           "color": "#000000"
          },
          "showarrow": false,
          "text": "10",
          "x": 2.55,
          "xanchor": "left",
          "xref": "x1",
          "y": 48,
          "yref": "y1"
         },
         {
          "align": "left",
          "font": {
           "color": "#000000"
          },
          "showarrow": false,
          "text": "Mozilla Science",
          "x": -0.45,
          "xanchor": "left",
          "xref": "x1",
          "y": 49,
          "yref": "y1"
         },
         {
          "align": "left",
          "font": {
           "color": "#000000"
          },
          "showarrow": false,
          "text": "Mozilla Staff",
          "x": 0.55,
          "xanchor": "left",
          "xref": "x1",
          "y": 49,
          "yref": "y1"
         },
         {
          "align": "left",
          "font": {
           "color": "#000000"
          },
          "showarrow": false,
          "text": "21",
          "x": 1.55,
          "xanchor": "left",
          "xref": "x1",
          "y": 49,
          "yref": "y1"
         },
         {
          "align": "left",
          "font": {
           "color": "#000000"
          },
          "showarrow": false,
          "text": "9",
          "x": 2.55,
          "xanchor": "left",
          "xref": "x1",
          "y": 49,
          "yref": "y1"
         },
         {
          "align": "left",
          "font": {
           "color": "#000000"
          },
          "showarrow": false,
          "text": "Gecko",
          "x": -0.45,
          "xanchor": "left",
          "xref": "x1",
          "y": 50,
          "yref": "y1"
         },
         {
          "align": "left",
          "font": {
           "color": "#000000"
          },
          "showarrow": false,
          "text": "Code Sheriff",
          "x": 0.55,
          "xanchor": "left",
          "xref": "x1",
          "y": 50,
          "yref": "y1"
         },
         {
          "align": "left",
          "font": {
           "color": "#000000"
          },
          "showarrow": false,
          "text": "3",
          "x": 1.55,
          "xanchor": "left",
          "xref": "x1",
          "y": 50,
          "yref": "y1"
         },
         {
          "align": "left",
          "font": {
           "color": "#000000"
          },
          "showarrow": false,
          "text": "8",
          "x": 2.55,
          "xanchor": "left",
          "xref": "x1",
          "y": 50,
          "yref": "y1"
         },
         {
          "align": "left",
          "font": {
           "color": "#000000"
          },
          "showarrow": false,
          "text": "Deep Speech",
          "x": -0.45,
          "xanchor": "left",
          "xref": "x1",
          "y": 51,
          "yref": "y1"
         },
         {
          "align": "left",
          "font": {
           "color": "#000000"
          },
          "showarrow": false,
          "text": "Community",
          "x": 0.55,
          "xanchor": "left",
          "xref": "x1",
          "y": 51,
          "yref": "y1"
         },
         {
          "align": "left",
          "font": {
           "color": "#000000"
          },
          "showarrow": false,
          "text": "1",
          "x": 1.55,
          "xanchor": "left",
          "xref": "x1",
          "y": 51,
          "yref": "y1"
         },
         {
          "align": "left",
          "font": {
           "color": "#000000"
          },
          "showarrow": false,
          "text": "8",
          "x": 2.55,
          "xanchor": "left",
          "xref": "x1",
          "y": 51,
          "yref": "y1"
         },
         {
          "align": "left",
          "font": {
           "color": "#000000"
          },
          "showarrow": false,
          "text": "Firefox Focus",
          "x": -0.45,
          "xanchor": "left",
          "xref": "x1",
          "y": 52,
          "yref": "y1"
         },
         {
          "align": "left",
          "font": {
           "color": "#000000"
          },
          "showarrow": false,
          "text": "Community",
          "x": 0.55,
          "xanchor": "left",
          "xref": "x1",
          "y": 52,
          "yref": "y1"
         },
         {
          "align": "left",
          "font": {
           "color": "#000000"
          },
          "showarrow": false,
          "text": "2",
          "x": 1.55,
          "xanchor": "left",
          "xref": "x1",
          "y": 52,
          "yref": "y1"
         },
         {
          "align": "left",
          "font": {
           "color": "#000000"
          },
          "showarrow": false,
          "text": "7",
          "x": 2.55,
          "xanchor": "left",
          "xref": "x1",
          "y": 52,
          "yref": "y1"
         },
         {
          "align": "left",
          "font": {
           "color": "#000000"
          },
          "showarrow": false,
          "text": "Firefox",
          "x": -0.45,
          "xanchor": "left",
          "xref": "x1",
          "y": 53,
          "yref": "y1"
         },
         {
          "align": "left",
          "font": {
           "color": "#000000"
          },
          "showarrow": false,
          "text": "Community",
          "x": 0.55,
          "xanchor": "left",
          "xref": "x1",
          "y": 53,
          "yref": "y1"
         },
         {
          "align": "left",
          "font": {
           "color": "#000000"
          },
          "showarrow": false,
          "text": "1",
          "x": 1.55,
          "xanchor": "left",
          "xref": "x1",
          "y": 53,
          "yref": "y1"
         },
         {
          "align": "left",
          "font": {
           "color": "#000000"
          },
          "showarrow": false,
          "text": "7",
          "x": 2.55,
          "xanchor": "left",
          "xref": "x1",
          "y": 53,
          "yref": "y1"
         },
         {
          "align": "left",
          "font": {
           "color": "#000000"
          },
          "showarrow": false,
          "text": "Deep Speech",
          "x": -0.45,
          "xanchor": "left",
          "xref": "x1",
          "y": 54,
          "yref": "y1"
         },
         {
          "align": "left",
          "font": {
           "color": "#000000"
          },
          "showarrow": false,
          "text": "Mozilla Staff",
          "x": 0.55,
          "xanchor": "left",
          "xref": "x1",
          "y": 54,
          "yref": "y1"
         },
         {
          "align": "left",
          "font": {
           "color": "#000000"
          },
          "showarrow": false,
          "text": "1",
          "x": 1.55,
          "xanchor": "left",
          "xref": "x1",
          "y": 54,
          "yref": "y1"
         },
         {
          "align": "left",
          "font": {
           "color": "#000000"
          },
          "showarrow": false,
          "text": "7",
          "x": 2.55,
          "xanchor": "left",
          "xref": "x1",
          "y": 54,
          "yref": "y1"
         },
         {
          "align": "left",
          "font": {
           "color": "#000000"
          },
          "showarrow": false,
          "text": "Addons/Web Extensions",
          "x": -0.45,
          "xanchor": "left",
          "xref": "x1",
          "y": 55,
          "yref": "y1"
         },
         {
          "align": "left",
          "font": {
           "color": "#000000"
          },
          "showarrow": false,
          "text": "Code Sheriff",
          "x": 0.55,
          "xanchor": "left",
          "xref": "x1",
          "y": 55,
          "yref": "y1"
         },
         {
          "align": "left",
          "font": {
           "color": "#000000"
          },
          "showarrow": false,
          "text": "4",
          "x": 1.55,
          "xanchor": "left",
          "xref": "x1",
          "y": 55,
          "yref": "y1"
         },
         {
          "align": "left",
          "font": {
           "color": "#000000"
          },
          "showarrow": false,
          "text": "6",
          "x": 2.55,
          "xanchor": "left",
          "xref": "x1",
          "y": 55,
          "yref": "y1"
         },
         {
          "align": "left",
          "font": {
           "color": "#000000"
          },
          "showarrow": false,
          "text": "Developer Tools",
          "x": -0.45,
          "xanchor": "left",
          "xref": "x1",
          "y": 56,
          "yref": "y1"
         },
         {
          "align": "left",
          "font": {
           "color": "#000000"
          },
          "showarrow": false,
          "text": "Mozilla Staff",
          "x": 0.55,
          "xanchor": "left",
          "xref": "x1",
          "y": 56,
          "yref": "y1"
         },
         {
          "align": "left",
          "font": {
           "color": "#000000"
          },
          "showarrow": false,
          "text": "4",
          "x": 1.55,
          "xanchor": "left",
          "xref": "x1",
          "y": 56,
          "yref": "y1"
         },
         {
          "align": "left",
          "font": {
           "color": "#000000"
          },
          "showarrow": false,
          "text": "6",
          "x": 2.55,
          "xanchor": "left",
          "xref": "x1",
          "y": 56,
          "yref": "y1"
         },
         {
          "align": "left",
          "font": {
           "color": "#000000"
          },
          "showarrow": false,
          "text": "Connected devices & IoT",
          "x": -0.45,
          "xanchor": "left",
          "xref": "x1",
          "y": 57,
          "yref": "y1"
         },
         {
          "align": "left",
          "font": {
           "color": "#000000"
          },
          "showarrow": false,
          "text": "Community",
          "x": 0.55,
          "xanchor": "left",
          "xref": "x1",
          "y": 57,
          "yref": "y1"
         },
         {
          "align": "left",
          "font": {
           "color": "#000000"
          },
          "showarrow": false,
          "text": "1",
          "x": 1.55,
          "xanchor": "left",
          "xref": "x1",
          "y": 57,
          "yref": "y1"
         },
         {
          "align": "left",
          "font": {
           "color": "#000000"
          },
          "showarrow": false,
          "text": "6",
          "x": 2.55,
          "xanchor": "left",
          "xref": "x1",
          "y": 57,
          "yref": "y1"
         },
         {
          "align": "left",
          "font": {
           "color": "#000000"
          },
          "showarrow": false,
          "text": "Mozilla Clubs",
          "x": -0.45,
          "xanchor": "left",
          "xref": "x1",
          "y": 58,
          "yref": "y1"
         },
         {
          "align": "left",
          "font": {
           "color": "#000000"
          },
          "showarrow": false,
          "text": "Mozilla Staff",
          "x": 0.55,
          "xanchor": "left",
          "xref": "x1",
          "y": 58,
          "yref": "y1"
         },
         {
          "align": "left",
          "font": {
           "color": "#000000"
          },
          "showarrow": false,
          "text": "9",
          "x": 1.55,
          "xanchor": "left",
          "xref": "x1",
          "y": 58,
          "yref": "y1"
         },
         {
          "align": "left",
          "font": {
           "color": "#000000"
          },
          "showarrow": false,
          "text": "6",
          "x": 2.55,
          "xanchor": "left",
          "xref": "x1",
          "y": 58,
          "yref": "y1"
         },
         {
          "align": "left",
          "font": {
           "color": "#000000"
          },
          "showarrow": false,
          "text": "IT/Ops",
          "x": -0.45,
          "xanchor": "left",
          "xref": "x1",
          "y": 59,
          "yref": "y1"
         },
         {
          "align": "left",
          "font": {
           "color": "#000000"
          },
          "showarrow": false,
          "text": "Code Sheriff",
          "x": 0.55,
          "xanchor": "left",
          "xref": "x1",
          "y": 59,
          "yref": "y1"
         },
         {
          "align": "left",
          "font": {
           "color": "#000000"
          },
          "showarrow": false,
          "text": "3",
          "x": 1.55,
          "xanchor": "left",
          "xref": "x1",
          "y": 59,
          "yref": "y1"
         },
         {
          "align": "left",
          "font": {
           "color": "#000000"
          },
          "showarrow": false,
          "text": "6",
          "x": 2.55,
          "xanchor": "left",
          "xref": "x1",
          "y": 59,
          "yref": "y1"
         },
         {
          "align": "left",
          "font": {
           "color": "#000000"
          },
          "showarrow": false,
          "text": "Campus Clubs (previously Student Ambassadors)",
          "x": -0.45,
          "xanchor": "left",
          "xref": "x1",
          "y": 60,
          "yref": "y1"
         },
         {
          "align": "left",
          "font": {
           "color": "#000000"
          },
          "showarrow": false,
          "text": "Mozilla Staff",
          "x": 0.55,
          "xanchor": "left",
          "xref": "x1",
          "y": 60,
          "yref": "y1"
         },
         {
          "align": "left",
          "font": {
           "color": "#000000"
          },
          "showarrow": false,
          "text": "5",
          "x": 1.55,
          "xanchor": "left",
          "xref": "x1",
          "y": 60,
          "yref": "y1"
         },
         {
          "align": "left",
          "font": {
           "color": "#000000"
          },
          "showarrow": false,
          "text": "5",
          "x": 2.55,
          "xanchor": "left",
          "xref": "x1",
          "y": 60,
          "yref": "y1"
         },
         {
          "align": "left",
          "font": {
           "color": "#000000"
          },
          "showarrow": false,
          "text": "Web Properties",
          "x": -0.45,
          "xanchor": "left",
          "xref": "x1",
          "y": 61,
          "yref": "y1"
         },
         {
          "align": "left",
          "font": {
           "color": "#000000"
          },
          "showarrow": false,
          "text": "Code Sheriff",
          "x": 0.55,
          "xanchor": "left",
          "xref": "x1",
          "y": 61,
          "yref": "y1"
         },
         {
          "align": "left",
          "font": {
           "color": "#000000"
          },
          "showarrow": false,
          "text": "6",
          "x": 1.55,
          "xanchor": "left",
          "xref": "x1",
          "y": 61,
          "yref": "y1"
         },
         {
          "align": "left",
          "font": {
           "color": "#000000"
          },
          "showarrow": false,
          "text": "4",
          "x": 2.55,
          "xanchor": "left",
          "xref": "x1",
          "y": 61,
          "yref": "y1"
         },
         {
          "align": "left",
          "font": {
           "color": "#000000"
          },
          "showarrow": false,
          "text": "Release engineering",
          "x": -0.45,
          "xanchor": "left",
          "xref": "x1",
          "y": 62,
          "yref": "y1"
         },
         {
          "align": "left",
          "font": {
           "color": "#000000"
          },
          "showarrow": false,
          "text": "Code Sheriff",
          "x": 0.55,
          "xanchor": "left",
          "xref": "x1",
          "y": 62,
          "yref": "y1"
         },
         {
          "align": "left",
          "font": {
           "color": "#000000"
          },
          "showarrow": false,
          "text": "5",
          "x": 1.55,
          "xanchor": "left",
          "xref": "x1",
          "y": 62,
          "yref": "y1"
         },
         {
          "align": "left",
          "font": {
           "color": "#000000"
          },
          "showarrow": false,
          "text": "4",
          "x": 2.55,
          "xanchor": "left",
          "xref": "x1",
          "y": 62,
          "yref": "y1"
         },
         {
          "align": "left",
          "font": {
           "color": "#000000"
          },
          "showarrow": false,
          "text": "Mozilla Clubs",
          "x": -0.45,
          "xanchor": "left",
          "xref": "x1",
          "y": 63,
          "yref": "y1"
         },
         {
          "align": "left",
          "font": {
           "color": "#000000"
          },
          "showarrow": false,
          "text": "Community",
          "x": 0.55,
          "xanchor": "left",
          "xref": "x1",
          "y": 63,
          "yref": "y1"
         },
         {
          "align": "left",
          "font": {
           "color": "#000000"
          },
          "showarrow": false,
          "text": "5",
          "x": 1.55,
          "xanchor": "left",
          "xref": "x1",
          "y": 63,
          "yref": "y1"
         },
         {
          "align": "left",
          "font": {
           "color": "#000000"
          },
          "showarrow": false,
          "text": "4",
          "x": 2.55,
          "xanchor": "left",
          "xref": "x1",
          "y": 63,
          "yref": "y1"
         },
         {
          "align": "left",
          "font": {
           "color": "#000000"
          },
          "showarrow": false,
          "text": "Developer Tools",
          "x": -0.45,
          "xanchor": "left",
          "xref": "x1",
          "y": 64,
          "yref": "y1"
         },
         {
          "align": "left",
          "font": {
           "color": "#000000"
          },
          "showarrow": false,
          "text": "Community",
          "x": 0.55,
          "xanchor": "left",
          "xref": "x1",
          "y": 64,
          "yref": "y1"
         },
         {
          "align": "left",
          "font": {
           "color": "#000000"
          },
          "showarrow": false,
          "text": "2",
          "x": 1.55,
          "xanchor": "left",
          "xref": "x1",
          "y": 64,
          "yref": "y1"
         },
         {
          "align": "left",
          "font": {
           "color": "#000000"
          },
          "showarrow": false,
          "text": "3",
          "x": 2.55,
          "xanchor": "left",
          "xref": "x1",
          "y": 64,
          "yref": "y1"
         },
         {
          "align": "left",
          "font": {
           "color": "#000000"
          },
          "showarrow": false,
          "text": "Firefox Android",
          "x": -0.45,
          "xanchor": "left",
          "xref": "x1",
          "y": 65,
          "yref": "y1"
         },
         {
          "align": "left",
          "font": {
           "color": "#000000"
          },
          "showarrow": false,
          "text": "Mozilla Staff",
          "x": 0.55,
          "xanchor": "left",
          "xref": "x1",
          "y": 65,
          "yref": "y1"
         },
         {
          "align": "left",
          "font": {
           "color": "#000000"
          },
          "showarrow": false,
          "text": "2",
          "x": 1.55,
          "xanchor": "left",
          "xref": "x1",
          "y": 65,
          "yref": "y1"
         },
         {
          "align": "left",
          "font": {
           "color": "#000000"
          },
          "showarrow": false,
          "text": "3",
          "x": 2.55,
          "xanchor": "left",
          "xref": "x1",
          "y": 65,
          "yref": "y1"
         },
         {
          "align": "left",
          "font": {
           "color": "#000000"
          },
          "showarrow": false,
          "text": "Connected devices & IoT",
          "x": -0.45,
          "xanchor": "left",
          "xref": "x1",
          "y": 66,
          "yref": "y1"
         },
         {
          "align": "left",
          "font": {
           "color": "#000000"
          },
          "showarrow": false,
          "text": "Mozilla Staff",
          "x": 0.55,
          "xanchor": "left",
          "xref": "x1",
          "y": 66,
          "yref": "y1"
         },
         {
          "align": "left",
          "font": {
           "color": "#000000"
          },
          "showarrow": false,
          "text": "1",
          "x": 1.55,
          "xanchor": "left",
          "xref": "x1",
          "y": 66,
          "yref": "y1"
         },
         {
          "align": "left",
          "font": {
           "color": "#000000"
          },
          "showarrow": false,
          "text": "3",
          "x": 2.55,
          "xanchor": "left",
          "xref": "x1",
          "y": 66,
          "yref": "y1"
         },
         {
          "align": "left",
          "font": {
           "color": "#000000"
          },
          "showarrow": false,
          "text": "Servo",
          "x": -0.45,
          "xanchor": "left",
          "xref": "x1",
          "y": 67,
          "yref": "y1"
         },
         {
          "align": "left",
          "font": {
           "color": "#000000"
          },
          "showarrow": false,
          "text": "Mozilla Reps",
          "x": 0.55,
          "xanchor": "left",
          "xref": "x1",
          "y": 67,
          "yref": "y1"
         },
         {
          "align": "left",
          "font": {
           "color": "#000000"
          },
          "showarrow": false,
          "text": "2",
          "x": 1.55,
          "xanchor": "left",
          "xref": "x1",
          "y": 67,
          "yref": "y1"
         },
         {
          "align": "left",
          "font": {
           "color": "#000000"
          },
          "showarrow": false,
          "text": "2",
          "x": 2.55,
          "xanchor": "left",
          "xref": "x1",
          "y": 67,
          "yref": "y1"
         },
         {
          "align": "left",
          "font": {
           "color": "#000000"
          },
          "showarrow": false,
          "text": "Web Properties",
          "x": -0.45,
          "xanchor": "left",
          "xref": "x1",
          "y": 68,
          "yref": "y1"
         },
         {
          "align": "left",
          "font": {
           "color": "#000000"
          },
          "showarrow": false,
          "text": "Mozilla Reps",
          "x": 0.55,
          "xanchor": "left",
          "xref": "x1",
          "y": 68,
          "yref": "y1"
         },
         {
          "align": "left",
          "font": {
           "color": "#000000"
          },
          "showarrow": false,
          "text": "4",
          "x": 1.55,
          "xanchor": "left",
          "xref": "x1",
          "y": 68,
          "yref": "y1"
         },
         {
          "align": "left",
          "font": {
           "color": "#000000"
          },
          "showarrow": false,
          "text": "2",
          "x": 2.55,
          "xanchor": "left",
          "xref": "x1",
          "y": 68,
          "yref": "y1"
         },
         {
          "align": "left",
          "font": {
           "color": "#000000"
          },
          "showarrow": false,
          "text": "Mozilla Local/Regional communities",
          "x": -0.45,
          "xanchor": "left",
          "xref": "x1",
          "y": 69,
          "yref": "y1"
         },
         {
          "align": "left",
          "font": {
           "color": "#000000"
          },
          "showarrow": false,
          "text": "Mozilla Reps",
          "x": 0.55,
          "xanchor": "left",
          "xref": "x1",
          "y": 69,
          "yref": "y1"
         },
         {
          "align": "left",
          "font": {
           "color": "#000000"
          },
          "showarrow": false,
          "text": "15",
          "x": 1.55,
          "xanchor": "left",
          "xref": "x1",
          "y": 69,
          "yref": "y1"
         },
         {
          "align": "left",
          "font": {
           "color": "#000000"
          },
          "showarrow": false,
          "text": "2",
          "x": 2.55,
          "xanchor": "left",
          "xref": "x1",
          "y": 69,
          "yref": "y1"
         },
         {
          "align": "left",
          "font": {
           "color": "#000000"
          },
          "showarrow": false,
          "text": "Campus Clubs (previously Student Ambassadors)",
          "x": -0.45,
          "xanchor": "left",
          "xref": "x1",
          "y": 70,
          "yref": "y1"
         },
         {
          "align": "left",
          "font": {
           "color": "#000000"
          },
          "showarrow": false,
          "text": "Community",
          "x": 0.55,
          "xanchor": "left",
          "xref": "x1",
          "y": 70,
          "yref": "y1"
         },
         {
          "align": "left",
          "font": {
           "color": "#000000"
          },
          "showarrow": false,
          "text": "1",
          "x": 1.55,
          "xanchor": "left",
          "xref": "x1",
          "y": 70,
          "yref": "y1"
         },
         {
          "align": "left",
          "font": {
           "color": "#000000"
          },
          "showarrow": false,
          "text": "1",
          "x": 2.55,
          "xanchor": "left",
          "xref": "x1",
          "y": 70,
          "yref": "y1"
         },
         {
          "align": "left",
          "font": {
           "color": "#000000"
          },
          "showarrow": false,
          "text": "Advocacy and policy",
          "x": -0.45,
          "xanchor": "left",
          "xref": "x1",
          "y": 71,
          "yref": "y1"
         },
         {
          "align": "left",
          "font": {
           "color": "#000000"
          },
          "showarrow": false,
          "text": "Code Sheriff",
          "x": 0.55,
          "xanchor": "left",
          "xref": "x1",
          "y": 71,
          "yref": "y1"
         },
         {
          "align": "left",
          "font": {
           "color": "#000000"
          },
          "showarrow": false,
          "text": "1",
          "x": 1.55,
          "xanchor": "left",
          "xref": "x1",
          "y": 71,
          "yref": "y1"
         },
         {
          "align": "left",
          "font": {
           "color": "#000000"
          },
          "showarrow": false,
          "text": "1",
          "x": 2.55,
          "xanchor": "left",
          "xref": "x1",
          "y": 71,
          "yref": "y1"
         },
         {
          "align": "left",
          "font": {
           "color": "#000000"
          },
          "showarrow": false,
          "text": "Web Literacy",
          "x": -0.45,
          "xanchor": "left",
          "xref": "x1",
          "y": 72,
          "yref": "y1"
         },
         {
          "align": "left",
          "font": {
           "color": "#000000"
          },
          "showarrow": false,
          "text": "Mozilla Reps",
          "x": 0.55,
          "xanchor": "left",
          "xref": "x1",
          "y": 72,
          "yref": "y1"
         },
         {
          "align": "left",
          "font": {
           "color": "#000000"
          },
          "showarrow": false,
          "text": "2",
          "x": 1.55,
          "xanchor": "left",
          "xref": "x1",
          "y": 72,
          "yref": "y1"
         },
         {
          "align": "left",
          "font": {
           "color": "#000000"
          },
          "showarrow": false,
          "text": "1",
          "x": 2.55,
          "xanchor": "left",
          "xref": "x1",
          "y": 72,
          "yref": "y1"
         },
         {
          "align": "left",
          "font": {
           "color": "#000000"
          },
          "showarrow": false,
          "text": "Mozilla Location Service (MLS) / Stumbler",
          "x": -0.45,
          "xanchor": "left",
          "xref": "x1",
          "y": 73,
          "yref": "y1"
         },
         {
          "align": "left",
          "font": {
           "color": "#000000"
          },
          "showarrow": false,
          "text": "Code Sheriff",
          "x": 0.55,
          "xanchor": "left",
          "xref": "x1",
          "y": 73,
          "yref": "y1"
         },
         {
          "align": "left",
          "font": {
           "color": "#000000"
          },
          "showarrow": false,
          "text": "1",
          "x": 1.55,
          "xanchor": "left",
          "xref": "x1",
          "y": 73,
          "yref": "y1"
         },
         {
          "align": "left",
          "font": {
           "color": "#000000"
          },
          "showarrow": false,
          "text": "1",
          "x": 2.55,
          "xanchor": "left",
          "xref": "x1",
          "y": 73,
          "yref": "y1"
         },
         {
          "align": "left",
          "font": {
           "color": "#000000"
          },
          "showarrow": false,
          "text": "Test Pilot",
          "x": -0.45,
          "xanchor": "left",
          "xref": "x1",
          "y": 74,
          "yref": "y1"
         },
         {
          "align": "left",
          "font": {
           "color": "#000000"
          },
          "showarrow": false,
          "text": "Code Sheriff",
          "x": 0.55,
          "xanchor": "left",
          "xref": "x1",
          "y": 74,
          "yref": "y1"
         },
         {
          "align": "left",
          "font": {
           "color": "#000000"
          },
          "showarrow": false,
          "text": "1",
          "x": 1.55,
          "xanchor": "left",
          "xref": "x1",
          "y": 74,
          "yref": "y1"
         },
         {
          "align": "left",
          "font": {
           "color": "#000000"
          },
          "showarrow": false,
          "text": "1",
          "x": 2.55,
          "xanchor": "left",
          "xref": "x1",
          "y": 74,
          "yref": "y1"
         },
         {
          "align": "left",
          "font": {
           "color": "#000000"
          },
          "showarrow": false,
          "text": "Vaani",
          "x": -0.45,
          "xanchor": "left",
          "xref": "x1",
          "y": 75,
          "yref": "y1"
         },
         {
          "align": "left",
          "font": {
           "color": "#000000"
          },
          "showarrow": false,
          "text": "Community",
          "x": 0.55,
          "xanchor": "left",
          "xref": "x1",
          "y": 75,
          "yref": "y1"
         },
         {
          "align": "left",
          "font": {
           "color": "#000000"
          },
          "showarrow": false,
          "text": "1",
          "x": 1.55,
          "xanchor": "left",
          "xref": "x1",
          "y": 75,
          "yref": "y1"
         },
         {
          "align": "left",
          "font": {
           "color": "#000000"
          },
          "showarrow": false,
          "text": "1",
          "x": 2.55,
          "xanchor": "left",
          "xref": "x1",
          "y": 75,
          "yref": "y1"
         },
         {
          "align": "left",
          "font": {
           "color": "#000000"
          },
          "showarrow": false,
          "text": "Firefox Android",
          "x": -0.45,
          "xanchor": "left",
          "xref": "x1",
          "y": 76,
          "yref": "y1"
         },
         {
          "align": "left",
          "font": {
           "color": "#000000"
          },
          "showarrow": false,
          "text": "Community",
          "x": 0.55,
          "xanchor": "left",
          "xref": "x1",
          "y": 76,
          "yref": "y1"
         },
         {
          "align": "left",
          "font": {
           "color": "#000000"
          },
          "showarrow": false,
          "text": "1",
          "x": 1.55,
          "xanchor": "left",
          "xref": "x1",
          "y": 76,
          "yref": "y1"
         },
         {
          "align": "left",
          "font": {
           "color": "#000000"
          },
          "showarrow": false,
          "text": "1",
          "x": 2.55,
          "xanchor": "left",
          "xref": "x1",
          "y": 76,
          "yref": "y1"
         },
         {
          "align": "left",
          "font": {
           "color": "#000000"
          },
          "showarrow": false,
          "text": "Gecko",
          "x": -0.45,
          "xanchor": "left",
          "xref": "x1",
          "y": 77,
          "yref": "y1"
         },
         {
          "align": "left",
          "font": {
           "color": "#000000"
          },
          "showarrow": false,
          "text": "Mozilla Reps",
          "x": 0.55,
          "xanchor": "left",
          "xref": "x1",
          "y": 77,
          "yref": "y1"
         },
         {
          "align": "left",
          "font": {
           "color": "#000000"
          },
          "showarrow": false,
          "text": "3",
          "x": 1.55,
          "xanchor": "left",
          "xref": "x1",
          "y": 77,
          "yref": "y1"
         },
         {
          "align": "left",
          "font": {
           "color": "#000000"
          },
          "showarrow": false,
          "text": "1",
          "x": 2.55,
          "xanchor": "left",
          "xref": "x1",
          "y": 77,
          "yref": "y1"
         },
         {
          "align": "left",
          "font": {
           "color": "#000000"
          },
          "showarrow": false,
          "text": "Marketing / Social Media",
          "x": -0.45,
          "xanchor": "left",
          "xref": "x1",
          "y": 78,
          "yref": "y1"
         },
         {
          "align": "left",
          "font": {
           "color": "#000000"
          },
          "showarrow": false,
          "text": "Code Sheriff",
          "x": 0.55,
          "xanchor": "left",
          "xref": "x1",
          "y": 78,
          "yref": "y1"
         },
         {
          "align": "left",
          "font": {
           "color": "#000000"
          },
          "showarrow": false,
          "text": "1",
          "x": 1.55,
          "xanchor": "left",
          "xref": "x1",
          "y": 78,
          "yref": "y1"
         },
         {
          "align": "left",
          "font": {
           "color": "#000000"
          },
          "showarrow": false,
          "text": "1",
          "x": 2.55,
          "xanchor": "left",
          "xref": "x1",
          "y": 78,
          "yref": "y1"
         },
         {
          "align": "left",
          "font": {
           "color": "#000000"
          },
          "showarrow": false,
          "text": "Servo",
          "x": -0.45,
          "xanchor": "left",
          "xref": "x1",
          "y": 79,
          "yref": "y1"
         },
         {
          "align": "left",
          "font": {
           "color": "#000000"
          },
          "showarrow": false,
          "text": "Code Sheriff",
          "x": 0.55,
          "xanchor": "left",
          "xref": "x1",
          "y": 79,
          "yref": "y1"
         },
         {
          "align": "left",
          "font": {
           "color": "#000000"
          },
          "showarrow": false,
          "text": "40",
          "x": 1.55,
          "xanchor": "left",
          "xref": "x1",
          "y": 79,
          "yref": "y1"
         },
         {
          "align": "left",
          "font": {
           "color": "#000000"
          },
          "showarrow": false,
          "text": "1",
          "x": 2.55,
          "xanchor": "left",
          "xref": "x1",
          "y": 79,
          "yref": "y1"
         },
         {
          "align": "left",
          "font": {
           "color": "#000000"
          },
          "showarrow": false,
          "text": "Rust",
          "x": -0.45,
          "xanchor": "left",
          "xref": "x1",
          "y": 80,
          "yref": "y1"
         },
         {
          "align": "left",
          "font": {
           "color": "#000000"
          },
          "showarrow": false,
          "text": "Code Sheriff",
          "x": 0.55,
          "xanchor": "left",
          "xref": "x1",
          "y": 80,
          "yref": "y1"
         },
         {
          "align": "left",
          "font": {
           "color": "#000000"
          },
          "showarrow": false,
          "text": "4",
          "x": 1.55,
          "xanchor": "left",
          "xref": "x1",
          "y": 80,
          "yref": "y1"
         },
         {
          "align": "left",
          "font": {
           "color": "#000000"
          },
          "showarrow": false,
          "text": "1",
          "x": 2.55,
          "xanchor": "left",
          "xref": "x1",
          "y": 80,
          "yref": "y1"
         },
         {
          "align": "left",
          "font": {
           "color": "#000000"
          },
          "showarrow": false,
          "text": "Mozilla Local/Regional communities",
          "x": -0.45,
          "xanchor": "left",
          "xref": "x1",
          "y": 81,
          "yref": "y1"
         },
         {
          "align": "left",
          "font": {
           "color": "#000000"
          },
          "showarrow": false,
          "text": "Code Sheriff",
          "x": 0.55,
          "xanchor": "left",
          "xref": "x1",
          "y": 81,
          "yref": "y1"
         },
         {
          "align": "left",
          "font": {
           "color": "#000000"
          },
          "showarrow": false,
          "text": "1",
          "x": 1.55,
          "xanchor": "left",
          "xref": "x1",
          "y": 81,
          "yref": "y1"
         },
         {
          "align": "left",
          "font": {
           "color": "#000000"
          },
          "showarrow": false,
          "text": "1",
          "x": 2.55,
          "xanchor": "left",
          "xref": "x1",
          "y": 81,
          "yref": "y1"
         },
         {
          "align": "left",
          "font": {
           "color": "#000000"
          },
          "showarrow": false,
          "text": "Mozilla Developer Network (MDN)",
          "x": -0.45,
          "xanchor": "left",
          "xref": "x1",
          "y": 82,
          "yref": "y1"
         },
         {
          "align": "left",
          "font": {
           "color": "#000000"
          },
          "showarrow": false,
          "text": "Mozilla Reps",
          "x": 0.55,
          "xanchor": "left",
          "xref": "x1",
          "y": 82,
          "yref": "y1"
         },
         {
          "align": "left",
          "font": {
           "color": "#000000"
          },
          "showarrow": false,
          "text": "1",
          "x": 1.55,
          "xanchor": "left",
          "xref": "x1",
          "y": 82,
          "yref": "y1"
         },
         {
          "align": "left",
          "font": {
           "color": "#000000"
          },
          "showarrow": false,
          "text": "1",
          "x": 2.55,
          "xanchor": "left",
          "xref": "x1",
          "y": 82,
          "yref": "y1"
         }
        ],
        "height": 2540,
        "margin": {
         "b": 0,
         "l": 0,
         "r": 0,
         "t": 0
        },
        "xaxis": {
         "dtick": 1,
         "gridwidth": 2,
         "showticklabels": false,
         "tick0": -0.5,
         "ticks": "",
         "zeroline": false
        },
        "yaxis": {
         "autorange": "reversed",
         "dtick": 1,
         "gridwidth": 2,
         "showticklabels": false,
         "tick0": 0.5,
         "ticks": "",
         "zeroline": false
        }
       }
      },
      "text/html": [
       "<div id=\"8446dc2f-2743-4919-ab67-91cc98ff4cd0\" style=\"height: 2540px; width: 100%;\" class=\"plotly-graph-div\"></div><script type=\"text/javascript\">require([\"plotly\"], function(Plotly) { window.PLOTLYENV=window.PLOTLYENV || {};window.PLOTLYENV.BASE_URL=\"https://plot.ly\";Plotly.newPlot(\"8446dc2f-2743-4919-ab67-91cc98ff4cd0\", [{\"opacity\": 0.75, \"showscale\": false, \"colorscale\": [[0, \"#00083e\"], [0.5, \"#ededee\"], [1, \"#ffffff\"]], \"hoverinfo\": \"none\", \"type\": \"heatmap\", \"z\": [[0, 0, 0, 0], [0.5, 0.5, 0.5, 0.5], [1, 1, 1, 1], [0.5, 0.5, 0.5, 0.5], [1, 1, 1, 1], [0.5, 0.5, 0.5, 0.5], [1, 1, 1, 1], [0.5, 0.5, 0.5, 0.5], [1, 1, 1, 1], [0.5, 0.5, 0.5, 0.5], [1, 1, 1, 1], [0.5, 0.5, 0.5, 0.5], [1, 1, 1, 1], [0.5, 0.5, 0.5, 0.5], [1, 1, 1, 1], [0.5, 0.5, 0.5, 0.5], [1, 1, 1, 1], [0.5, 0.5, 0.5, 0.5], [1, 1, 1, 1], [0.5, 0.5, 0.5, 0.5], [1, 1, 1, 1], [0.5, 0.5, 0.5, 0.5], [1, 1, 1, 1], [0.5, 0.5, 0.5, 0.5], [1, 1, 1, 1], [0.5, 0.5, 0.5, 0.5], [1, 1, 1, 1], [0.5, 0.5, 0.5, 0.5], [1, 1, 1, 1], [0.5, 0.5, 0.5, 0.5], [1, 1, 1, 1], [0.5, 0.5, 0.5, 0.5], [1, 1, 1, 1], [0.5, 0.5, 0.5, 0.5], [1, 1, 1, 1], [0.5, 0.5, 0.5, 0.5], [1, 1, 1, 1], [0.5, 0.5, 0.5, 0.5], [1, 1, 1, 1], [0.5, 0.5, 0.5, 0.5], [1, 1, 1, 1], [0.5, 0.5, 0.5, 0.5], [1, 1, 1, 1], [0.5, 0.5, 0.5, 0.5], [1, 1, 1, 1], [0.5, 0.5, 0.5, 0.5], [1, 1, 1, 1], [0.5, 0.5, 0.5, 0.5], [1, 1, 1, 1], [0.5, 0.5, 0.5, 0.5], [1, 1, 1, 1], [0.5, 0.5, 0.5, 0.5], [1, 1, 1, 1], [0.5, 0.5, 0.5, 0.5], [1, 1, 1, 1], [0.5, 0.5, 0.5, 0.5], [1, 1, 1, 1], [0.5, 0.5, 0.5, 0.5], [1, 1, 1, 1], [0.5, 0.5, 0.5, 0.5], [1, 1, 1, 1], [0.5, 0.5, 0.5, 0.5], [1, 1, 1, 1], [0.5, 0.5, 0.5, 0.5], [1, 1, 1, 1], [0.5, 0.5, 0.5, 0.5], [1, 1, 1, 1], [0.5, 0.5, 0.5, 0.5], [1, 1, 1, 1], [0.5, 0.5, 0.5, 0.5], [1, 1, 1, 1], [0.5, 0.5, 0.5, 0.5], [1, 1, 1, 1], [0.5, 0.5, 0.5, 0.5], [1, 1, 1, 1], [0.5, 0.5, 0.5, 0.5], [1, 1, 1, 1], [0.5, 0.5, 0.5, 0.5], [1, 1, 1, 1], [0.5, 0.5, 0.5, 0.5], [1, 1, 1, 1], [0.5, 0.5, 0.5, 0.5], [1, 1, 1, 1]]}], {\"margin\": {\"t\": 0, \"l\": 0, \"b\": 0, \"r\": 0}, \"xaxis\": {\"gridwidth\": 2, \"zeroline\": false, \"tick0\": -0.5, \"ticks\": \"\", \"showticklabels\": false, \"dtick\": 1}, \"yaxis\": {\"gridwidth\": 2, \"autorange\": \"reversed\", \"zeroline\": false, \"showticklabels\": false, \"ticks\": \"\", \"tick0\": 0.5, \"dtick\": 1}, \"height\": 2540, \"annotations\": [{\"xanchor\": \"left\", \"showarrow\": false, \"y\": 0, \"xref\": \"x1\", \"font\": {\"color\": \"#ffffff\"}, \"x\": -0.45, \"yref\": \"y1\", \"align\": \"left\", \"text\": \"<b>Project</b>\"}, {\"xanchor\": \"left\", \"showarrow\": false, \"y\": 0, \"xref\": \"x1\", \"font\": {\"color\": \"#ffffff\"}, \"x\": 0.55, \"yref\": \"y1\", \"align\": \"left\", \"text\": \"<b>Org</b>\"}, {\"xanchor\": \"left\", \"showarrow\": false, \"y\": 0, \"xref\": \"x1\", \"font\": {\"color\": \"#ffffff\"}, \"x\": 1.55, \"yref\": \"y1\", \"align\": \"left\", \"text\": \"<b>Repo</b>\"}, {\"xanchor\": \"left\", \"showarrow\": false, \"y\": 0, \"xref\": \"x1\", \"font\": {\"color\": \"#ffffff\"}, \"x\": 2.55, \"yref\": \"y1\", \"align\": \"left\", \"text\": \"<b>uuid</b>\"}, {\"xanchor\": \"left\", \"showarrow\": false, \"y\": 1, \"xref\": \"x1\", \"font\": {\"color\": \"#000000\"}, \"x\": -0.45, \"yref\": \"y1\", \"align\": \"left\", \"text\": \"Gecko\"}, {\"xanchor\": \"left\", \"showarrow\": false, \"y\": 1, \"xref\": \"x1\", \"font\": {\"color\": \"#000000\"}, \"x\": 0.55, \"yref\": \"y1\", \"align\": \"left\", \"text\": \"Community\"}, {\"xanchor\": \"left\", \"showarrow\": false, \"y\": 1, \"xref\": \"x1\", \"font\": {\"color\": \"#000000\"}, \"x\": 1.55, \"yref\": \"y1\", \"align\": \"left\", \"text\": \"5\"}, {\"xanchor\": \"left\", \"showarrow\": false, \"y\": 1, \"xref\": \"x1\", \"font\": {\"color\": \"#000000\"}, \"x\": 2.55, \"yref\": \"y1\", \"align\": \"left\", \"text\": \"3974\"}, {\"xanchor\": \"left\", \"showarrow\": false, \"y\": 2, \"xref\": \"x1\", \"font\": {\"color\": \"#000000\"}, \"x\": -0.45, \"yref\": \"y1\", \"align\": \"left\", \"text\": \"Rust\"}, {\"xanchor\": \"left\", \"showarrow\": false, \"y\": 2, \"xref\": \"x1\", \"font\": {\"color\": \"#000000\"}, \"x\": 0.55, \"yref\": \"y1\", \"align\": \"left\", \"text\": \"Community\"}, {\"xanchor\": \"left\", \"showarrow\": false, \"y\": 2, \"xref\": \"x1\", \"font\": {\"color\": \"#000000\"}, \"x\": 1.55, \"yref\": \"y1\", \"align\": \"left\", \"text\": \"25\"}, {\"xanchor\": \"left\", \"showarrow\": false, \"y\": 2, \"xref\": \"x1\", \"font\": {\"color\": \"#000000\"}, \"x\": 2.55, \"yref\": \"y1\", \"align\": \"left\", \"text\": \"2361\"}, {\"xanchor\": \"left\", \"showarrow\": false, \"y\": 3, \"xref\": \"x1\", \"font\": {\"color\": \"#000000\"}, \"x\": -0.45, \"yref\": \"y1\", \"align\": \"left\", \"text\": \"IT/Ops\"}, {\"xanchor\": \"left\", \"showarrow\": false, \"y\": 3, \"xref\": \"x1\", \"font\": {\"color\": \"#000000\"}, \"x\": 0.55, \"yref\": \"y1\", \"align\": \"left\", \"text\": \"Community\"}, {\"xanchor\": \"left\", \"showarrow\": false, \"y\": 3, \"xref\": \"x1\", \"font\": {\"color\": \"#000000\"}, \"x\": 1.55, \"yref\": \"y1\", \"align\": \"left\", \"text\": \"75\"}, {\"xanchor\": \"left\", \"showarrow\": false, \"y\": 3, \"xref\": \"x1\", \"font\": {\"color\": \"#000000\"}, \"x\": 2.55, \"yref\": \"y1\", \"align\": \"left\", \"text\": \"1468\"}, {\"xanchor\": \"left\", \"showarrow\": false, \"y\": 4, \"xref\": \"x1\", \"font\": {\"color\": \"#000000\"}, \"x\": -0.45, \"yref\": \"y1\", \"align\": \"left\", \"text\": \"Gecko\"}, {\"xanchor\": \"left\", \"showarrow\": false, \"y\": 4, \"xref\": \"x1\", \"font\": {\"color\": \"#000000\"}, \"x\": 0.55, \"yref\": \"y1\", \"align\": \"left\", \"text\": \"Mozilla Staff\"}, {\"xanchor\": \"left\", \"showarrow\": false, \"y\": 4, \"xref\": \"x1\", \"font\": {\"color\": \"#000000\"}, \"x\": 1.55, \"yref\": \"y1\", \"align\": \"left\", \"text\": \"5\"}, {\"xanchor\": \"left\", \"showarrow\": false, \"y\": 4, \"xref\": \"x1\", \"font\": {\"color\": \"#000000\"}, \"x\": 2.55, \"yref\": \"y1\", \"align\": \"left\", \"text\": \"1379\"}, {\"xanchor\": \"left\", \"showarrow\": false, \"y\": 5, \"xref\": \"x1\", \"font\": {\"color\": \"#000000\"}, \"x\": -0.45, \"yref\": \"y1\", \"align\": \"left\", \"text\": \"Servo\"}, {\"xanchor\": \"left\", \"showarrow\": false, \"y\": 5, \"xref\": \"x1\", \"font\": {\"color\": \"#000000\"}, \"x\": 0.55, \"yref\": \"y1\", \"align\": \"left\", \"text\": \"Community\"}, {\"xanchor\": \"left\", \"showarrow\": false, \"y\": 5, \"xref\": \"x1\", \"font\": {\"color\": \"#000000\"}, \"x\": 1.55, \"yref\": \"y1\", \"align\": \"left\", \"text\": \"73\"}, {\"xanchor\": \"left\", \"showarrow\": false, \"y\": 5, \"xref\": \"x1\", \"font\": {\"color\": \"#000000\"}, \"x\": 2.55, \"yref\": \"y1\", \"align\": \"left\", \"text\": \"1239\"}, {\"xanchor\": \"left\", \"showarrow\": false, \"y\": 6, \"xref\": \"x1\", \"font\": {\"color\": \"#000000\"}, \"x\": -0.45, \"yref\": \"y1\", \"align\": \"left\", \"text\": \"Web Properties\"}, {\"xanchor\": \"left\", \"showarrow\": false, \"y\": 6, \"xref\": \"x1\", \"font\": {\"color\": \"#000000\"}, \"x\": 0.55, \"yref\": \"y1\", \"align\": \"left\", \"text\": \"Community\"}, {\"xanchor\": \"left\", \"showarrow\": false, \"y\": 6, \"xref\": \"x1\", \"font\": {\"color\": \"#000000\"}, \"x\": 1.55, \"yref\": \"y1\", \"align\": \"left\", \"text\": \"91\"}, {\"xanchor\": \"left\", \"showarrow\": false, \"y\": 6, \"xref\": \"x1\", \"font\": {\"color\": \"#000000\"}, \"x\": 2.55, \"yref\": \"y1\", \"align\": \"left\", \"text\": \"940\"}, {\"xanchor\": \"left\", \"showarrow\": false, \"y\": 7, \"xref\": \"x1\", \"font\": {\"color\": \"#000000\"}, \"x\": -0.45, \"yref\": \"y1\", \"align\": \"left\", \"text\": \"IT/Ops\"}, {\"xanchor\": \"left\", \"showarrow\": false, \"y\": 7, \"xref\": \"x1\", \"font\": {\"color\": \"#000000\"}, \"x\": 0.55, \"yref\": \"y1\", \"align\": \"left\", \"text\": \"Mozilla Staff\"}, {\"xanchor\": \"left\", \"showarrow\": false, \"y\": 7, \"xref\": \"x1\", \"font\": {\"color\": \"#000000\"}, \"x\": 1.55, \"yref\": \"y1\", \"align\": \"left\", \"text\": \"182\"}, {\"xanchor\": \"left\", \"showarrow\": false, \"y\": 7, \"xref\": \"x1\", \"font\": {\"color\": \"#000000\"}, \"x\": 2.55, \"yref\": \"y1\", \"align\": \"left\", \"text\": \"788\"}, {\"xanchor\": \"left\", \"showarrow\": false, \"y\": 8, \"xref\": \"x1\", \"font\": {\"color\": \"#000000\"}, \"x\": -0.45, \"yref\": \"y1\", \"align\": \"left\", \"text\": \"Web Properties\"}, {\"xanchor\": \"left\", \"showarrow\": false, \"y\": 8, \"xref\": \"x1\", \"font\": {\"color\": \"#000000\"}, \"x\": 0.55, \"yref\": \"y1\", \"align\": \"left\", \"text\": \"Mozilla Staff\"}, {\"xanchor\": \"left\", \"showarrow\": false, \"y\": 8, \"xref\": \"x1\", \"font\": {\"color\": \"#000000\"}, \"x\": 1.55, \"yref\": \"y1\", \"align\": \"left\", \"text\": \"113\"}, {\"xanchor\": \"left\", \"showarrow\": false, \"y\": 8, \"xref\": \"x1\", \"font\": {\"color\": \"#000000\"}, \"x\": 2.55, \"yref\": \"y1\", \"align\": \"left\", \"text\": \"396\"}, {\"xanchor\": \"left\", \"showarrow\": false, \"y\": 9, \"xref\": \"x1\", \"font\": {\"color\": \"#000000\"}, \"x\": -0.45, \"yref\": \"y1\", \"align\": \"left\", \"text\": \"Mozilla Local/Regional communities\"}, {\"xanchor\": \"left\", \"showarrow\": false, \"y\": 9, \"xref\": \"x1\", \"font\": {\"color\": \"#000000\"}, \"x\": 0.55, \"yref\": \"y1\", \"align\": \"left\", \"text\": \"Community\"}, {\"xanchor\": \"left\", \"showarrow\": false, \"y\": 9, \"xref\": \"x1\", \"font\": {\"color\": \"#000000\"}, \"x\": 1.55, \"yref\": \"y1\", \"align\": \"left\", \"text\": \"143\"}, {\"xanchor\": \"left\", \"showarrow\": false, \"y\": 9, \"xref\": \"x1\", \"font\": {\"color\": \"#000000\"}, \"x\": 2.55, \"yref\": \"y1\", \"align\": \"left\", \"text\": \"394\"}, {\"xanchor\": \"left\", \"showarrow\": false, \"y\": 10, \"xref\": \"x1\", \"font\": {\"color\": \"#000000\"}, \"x\": -0.45, \"yref\": \"y1\", \"align\": \"left\", \"text\": \"Addons/Web Extensions\"}, {\"xanchor\": \"left\", \"showarrow\": false, \"y\": 10, \"xref\": \"x1\", \"font\": {\"color\": \"#000000\"}, \"x\": 0.55, \"yref\": \"y1\", \"align\": \"left\", \"text\": \"Community\"}, {\"xanchor\": \"left\", \"showarrow\": false, \"y\": 10, \"xref\": \"x1\", \"font\": {\"color\": \"#000000\"}, \"x\": 1.55, \"yref\": \"y1\", \"align\": \"left\", \"text\": \"11\"}, {\"xanchor\": \"left\", \"showarrow\": false, \"y\": 10, \"xref\": \"x1\", \"font\": {\"color\": \"#000000\"}, \"x\": 2.55, \"yref\": \"y1\", \"align\": \"left\", \"text\": \"361\"}, {\"xanchor\": \"left\", \"showarrow\": false, \"y\": 11, \"xref\": \"x1\", \"font\": {\"color\": \"#000000\"}, \"x\": -0.45, \"yref\": \"y1\", \"align\": \"left\", \"text\": \"Addons/Web Extensions\"}, {\"xanchor\": \"left\", \"showarrow\": false, \"y\": 11, \"xref\": \"x1\", \"font\": {\"color\": \"#000000\"}, \"x\": 0.55, \"yref\": \"y1\", \"align\": \"left\", \"text\": \"Mozilla Staff\"}, {\"xanchor\": \"left\", \"showarrow\": false, \"y\": 11, \"xref\": \"x1\", \"font\": {\"color\": \"#000000\"}, \"x\": 1.55, \"yref\": \"y1\", \"align\": \"left\", \"text\": \"19\"}, {\"xanchor\": \"left\", \"showarrow\": false, \"y\": 11, \"xref\": \"x1\", \"font\": {\"color\": \"#000000\"}, \"x\": 2.55, \"yref\": \"y1\", \"align\": \"left\", \"text\": \"284\"}, {\"xanchor\": \"left\", \"showarrow\": false, \"y\": 12, \"xref\": \"x1\", \"font\": {\"color\": \"#000000\"}, \"x\": -0.45, \"yref\": \"y1\", \"align\": \"left\", \"text\": \"Release engineering\"}, {\"xanchor\": \"left\", \"showarrow\": false, \"y\": 12, \"xref\": \"x1\", \"font\": {\"color\": \"#000000\"}, \"x\": 0.55, \"yref\": \"y1\", \"align\": \"left\", \"text\": \"Mozilla Staff\"}, {\"xanchor\": \"left\", \"showarrow\": false, \"y\": 12, \"xref\": \"x1\", \"font\": {\"color\": \"#000000\"}, \"x\": 1.55, \"yref\": \"y1\", \"align\": \"left\", \"text\": \"22\"}, {\"xanchor\": \"left\", \"showarrow\": false, \"y\": 12, \"xref\": \"x1\", \"font\": {\"color\": \"#000000\"}, \"x\": 2.55, \"yref\": \"y1\", \"align\": \"left\", \"text\": \"218\"}, {\"xanchor\": \"left\", \"showarrow\": false, \"y\": 13, \"xref\": \"x1\", \"font\": {\"color\": \"#000000\"}, \"x\": -0.45, \"yref\": \"y1\", \"align\": \"left\", \"text\": \"WebVR\"}, {\"xanchor\": \"left\", \"showarrow\": false, \"y\": 13, \"xref\": \"x1\", \"font\": {\"color\": \"#000000\"}, \"x\": 0.55, \"yref\": \"y1\", \"align\": \"left\", \"text\": \"Community\"}, {\"xanchor\": \"left\", \"showarrow\": false, \"y\": 13, \"xref\": \"x1\", \"font\": {\"color\": \"#000000\"}, \"x\": 1.55, \"yref\": \"y1\", \"align\": \"left\", \"text\": \"19\"}, {\"xanchor\": \"left\", \"showarrow\": false, \"y\": 13, \"xref\": \"x1\", \"font\": {\"color\": \"#000000\"}, \"x\": 2.55, \"yref\": \"y1\", \"align\": \"left\", \"text\": \"215\"}, {\"xanchor\": \"left\", \"showarrow\": false, \"y\": 14, \"xref\": \"x1\", \"font\": {\"color\": \"#000000\"}, \"x\": -0.45, \"yref\": \"y1\", \"align\": \"left\", \"text\": \"Servo\"}, {\"xanchor\": \"left\", \"showarrow\": false, \"y\": 14, \"xref\": \"x1\", \"font\": {\"color\": \"#000000\"}, \"x\": 0.55, \"yref\": \"y1\", \"align\": \"left\", \"text\": \"Mozilla Staff\"}, {\"xanchor\": \"left\", \"showarrow\": false, \"y\": 14, \"xref\": \"x1\", \"font\": {\"color\": \"#000000\"}, \"x\": 1.55, \"yref\": \"y1\", \"align\": \"left\", \"text\": \"80\"}, {\"xanchor\": \"left\", \"showarrow\": false, \"y\": 14, \"xref\": \"x1\", \"font\": {\"color\": \"#000000\"}, \"x\": 2.55, \"yref\": \"y1\", \"align\": \"left\", \"text\": \"198\"}, {\"xanchor\": \"left\", \"showarrow\": false, \"y\": 15, \"xref\": \"x1\", \"font\": {\"color\": \"#000000\"}, \"x\": -0.45, \"yref\": \"y1\", \"align\": \"left\", \"text\": \"Web Literacy\"}, {\"xanchor\": \"left\", \"showarrow\": false, \"y\": 15, \"xref\": \"x1\", \"font\": {\"color\": \"#000000\"}, \"x\": 0.55, \"yref\": \"y1\", \"align\": \"left\", \"text\": \"Community\"}, {\"xanchor\": \"left\", \"showarrow\": false, \"y\": 15, \"xref\": \"x1\", \"font\": {\"color\": \"#000000\"}, \"x\": 1.55, \"yref\": \"y1\", \"align\": \"left\", \"text\": \"40\"}, {\"xanchor\": \"left\", \"showarrow\": false, \"y\": 15, \"xref\": \"x1\", \"font\": {\"color\": \"#000000\"}, \"x\": 2.55, \"yref\": \"y1\", \"align\": \"left\", \"text\": \"156\"}, {\"xanchor\": \"left\", \"showarrow\": false, \"y\": 16, \"xref\": \"x1\", \"font\": {\"color\": \"#000000\"}, \"x\": -0.45, \"yref\": \"y1\", \"align\": \"left\", \"text\": \"Rust\"}, {\"xanchor\": \"left\", \"showarrow\": false, \"y\": 16, \"xref\": \"x1\", \"font\": {\"color\": \"#000000\"}, \"x\": 0.55, \"yref\": \"y1\", \"align\": \"left\", \"text\": \"Mozilla Staff\"}, {\"xanchor\": \"left\", \"showarrow\": false, \"y\": 16, \"xref\": \"x1\", \"font\": {\"color\": \"#000000\"}, \"x\": 1.55, \"yref\": \"y1\", \"align\": \"left\", \"text\": \"27\"}, {\"xanchor\": \"left\", \"showarrow\": false, \"y\": 16, \"xref\": \"x1\", \"font\": {\"color\": \"#000000\"}, \"x\": 2.55, \"yref\": \"y1\", \"align\": \"left\", \"text\": \"141\"}, {\"xanchor\": \"left\", \"showarrow\": false, \"y\": 17, \"xref\": \"x1\", \"font\": {\"color\": \"#000000\"}, \"x\": -0.45, \"yref\": \"y1\", \"align\": \"left\", \"text\": \"Mozilla Developer Network (MDN)\"}, {\"xanchor\": \"left\", \"showarrow\": false, \"y\": 17, \"xref\": \"x1\", \"font\": {\"color\": \"#000000\"}, \"x\": 0.55, \"yref\": \"y1\", \"align\": \"left\", \"text\": \"Community\"}, {\"xanchor\": \"left\", \"showarrow\": false, \"y\": 17, \"xref\": \"x1\", \"font\": {\"color\": \"#000000\"}, \"x\": 1.55, \"yref\": \"y1\", \"align\": \"left\", \"text\": \"27\"}, {\"xanchor\": \"left\", \"showarrow\": false, \"y\": 17, \"xref\": \"x1\", \"font\": {\"color\": \"#000000\"}, \"x\": 2.55, \"yref\": \"y1\", \"align\": \"left\", \"text\": \"118\"}, {\"xanchor\": \"left\", \"showarrow\": false, \"y\": 18, \"xref\": \"x1\", \"font\": {\"color\": \"#000000\"}, \"x\": -0.45, \"yref\": \"y1\", \"align\": \"left\", \"text\": \"Firefox OS (FxOS / B2G)\"}, {\"xanchor\": \"left\", \"showarrow\": false, \"y\": 18, \"xref\": \"x1\", \"font\": {\"color\": \"#000000\"}, \"x\": 0.55, \"yref\": \"y1\", \"align\": \"left\", \"text\": \"Mozilla Staff\"}, {\"xanchor\": \"left\", \"showarrow\": false, \"y\": 18, \"xref\": \"x1\", \"font\": {\"color\": \"#000000\"}, \"x\": 1.55, \"yref\": \"y1\", \"align\": \"left\", \"text\": \"26\"}, {\"xanchor\": \"left\", \"showarrow\": false, \"y\": 18, \"xref\": \"x1\", \"font\": {\"color\": \"#000000\"}, \"x\": 2.55, \"yref\": \"y1\", \"align\": \"left\", \"text\": \"110\"}, {\"xanchor\": \"left\", \"showarrow\": false, \"y\": 19, \"xref\": \"x1\", \"font\": {\"color\": \"#000000\"}, \"x\": -0.45, \"yref\": \"y1\", \"align\": \"left\", \"text\": \"Mozilla Science\"}, {\"xanchor\": \"left\", \"showarrow\": false, \"y\": 19, \"xref\": \"x1\", \"font\": {\"color\": \"#000000\"}, \"x\": 0.55, \"yref\": \"y1\", \"align\": \"left\", \"text\": \"Community\"}, {\"xanchor\": \"left\", \"showarrow\": false, \"y\": 19, \"xref\": \"x1\", \"font\": {\"color\": \"#000000\"}, \"x\": 1.55, \"yref\": \"y1\", \"align\": \"left\", \"text\": \"34\"}, {\"xanchor\": \"left\", \"showarrow\": false, \"y\": 19, \"xref\": \"x1\", \"font\": {\"color\": \"#000000\"}, \"x\": 2.55, \"yref\": \"y1\", \"align\": \"left\", \"text\": \"100\"}, {\"xanchor\": \"left\", \"showarrow\": false, \"y\": 20, \"xref\": \"x1\", \"font\": {\"color\": \"#000000\"}, \"x\": -0.45, \"yref\": \"y1\", \"align\": \"left\", \"text\": \"Mozilla Local/Regional communities\"}, {\"xanchor\": \"left\", \"showarrow\": false, \"y\": 20, \"xref\": \"x1\", \"font\": {\"color\": \"#000000\"}, \"x\": 0.55, \"yref\": \"y1\", \"align\": \"left\", \"text\": \"Mozilla Staff\"}, {\"xanchor\": \"left\", \"showarrow\": false, \"y\": 20, \"xref\": \"x1\", \"font\": {\"color\": \"#000000\"}, \"x\": 1.55, \"yref\": \"y1\", \"align\": \"left\", \"text\": \"77\"}, {\"xanchor\": \"left\", \"showarrow\": false, \"y\": 20, \"xref\": \"x1\", \"font\": {\"color\": \"#000000\"}, \"x\": 2.55, \"yref\": \"y1\", \"align\": \"left\", \"text\": \"93\"}, {\"xanchor\": \"left\", \"showarrow\": false, \"y\": 21, \"xref\": \"x1\", \"font\": {\"color\": \"#000000\"}, \"x\": -0.45, \"yref\": \"y1\", \"align\": \"left\", \"text\": \"Test Pilot\"}, {\"xanchor\": \"left\", \"showarrow\": false, \"y\": 21, \"xref\": \"x1\", \"font\": {\"color\": \"#000000\"}, \"x\": 0.55, \"yref\": \"y1\", \"align\": \"left\", \"text\": \"Community\"}, {\"xanchor\": \"left\", \"showarrow\": false, \"y\": 21, \"xref\": \"x1\", \"font\": {\"color\": \"#000000\"}, \"x\": 1.55, \"yref\": \"y1\", \"align\": \"left\", \"text\": \"2\"}, {\"xanchor\": \"left\", \"showarrow\": false, \"y\": 21, \"xref\": \"x1\", \"font\": {\"color\": \"#000000\"}, \"x\": 2.55, \"yref\": \"y1\", \"align\": \"left\", \"text\": \"86\"}, {\"xanchor\": \"left\", \"showarrow\": false, \"y\": 22, \"xref\": \"x1\", \"font\": {\"color\": \"#000000\"}, \"x\": -0.45, \"yref\": \"y1\", \"align\": \"left\", \"text\": \"Localization\"}, {\"xanchor\": \"left\", \"showarrow\": false, \"y\": 22, \"xref\": \"x1\", \"font\": {\"color\": \"#000000\"}, \"x\": 0.55, \"yref\": \"y1\", \"align\": \"left\", \"text\": \"Community\"}, {\"xanchor\": \"left\", \"showarrow\": false, \"y\": 22, \"xref\": \"x1\", \"font\": {\"color\": \"#000000\"}, \"x\": 1.55, \"yref\": \"y1\", \"align\": \"left\", \"text\": \"4\"}, {\"xanchor\": \"left\", \"showarrow\": false, \"y\": 22, \"xref\": \"x1\", \"font\": {\"color\": \"#000000\"}, \"x\": 2.55, \"yref\": \"y1\", \"align\": \"left\", \"text\": \"86\"}, {\"xanchor\": \"left\", \"showarrow\": false, \"y\": 23, \"xref\": \"x1\", \"font\": {\"color\": \"#000000\"}, \"x\": -0.45, \"yref\": \"y1\", \"align\": \"left\", \"text\": \"Mozilla Foundation\"}, {\"xanchor\": \"left\", \"showarrow\": false, \"y\": 23, \"xref\": \"x1\", \"font\": {\"color\": \"#000000\"}, \"x\": 0.55, \"yref\": \"y1\", \"align\": \"left\", \"text\": \"Community\"}, {\"xanchor\": \"left\", \"showarrow\": false, \"y\": 23, \"xref\": \"x1\", \"font\": {\"color\": \"#000000\"}, \"x\": 1.55, \"yref\": \"y1\", \"align\": \"left\", \"text\": \"24\"}, {\"xanchor\": \"left\", \"showarrow\": false, \"y\": 23, \"xref\": \"x1\", \"font\": {\"color\": \"#000000\"}, \"x\": 2.55, \"yref\": \"y1\", \"align\": \"left\", \"text\": \"85\"}, {\"xanchor\": \"left\", \"showarrow\": false, \"y\": 24, \"xref\": \"x1\", \"font\": {\"color\": \"#000000\"}, \"x\": -0.45, \"yref\": \"y1\", \"align\": \"left\", \"text\": \"Firefox OS (FxOS / B2G)\"}, {\"xanchor\": \"left\", \"showarrow\": false, \"y\": 24, \"xref\": \"x1\", \"font\": {\"color\": \"#000000\"}, \"x\": 0.55, \"yref\": \"y1\", \"align\": \"left\", \"text\": \"Community\"}, {\"xanchor\": \"left\", \"showarrow\": false, \"y\": 24, \"xref\": \"x1\", \"font\": {\"color\": \"#000000\"}, \"x\": 1.55, \"yref\": \"y1\", \"align\": \"left\", \"text\": \"17\"}, {\"xanchor\": \"left\", \"showarrow\": false, \"y\": 24, \"xref\": \"x1\", \"font\": {\"color\": \"#000000\"}, \"x\": 2.55, \"yref\": \"y1\", \"align\": \"left\", \"text\": \"84\"}, {\"xanchor\": \"left\", \"showarrow\": false, \"y\": 25, \"xref\": \"x1\", \"font\": {\"color\": \"#000000\"}, \"x\": -0.45, \"yref\": \"y1\", \"align\": \"left\", \"text\": \"Mozilla Location Service (MLS) / Stumbler\"}, {\"xanchor\": \"left\", \"showarrow\": false, \"y\": 25, \"xref\": \"x1\", \"font\": {\"color\": \"#000000\"}, \"x\": 0.55, \"yref\": \"y1\", \"align\": \"left\", \"text\": \"Community\"}, {\"xanchor\": \"left\", \"showarrow\": false, \"y\": 25, \"xref\": \"x1\", \"font\": {\"color\": \"#000000\"}, \"x\": 1.55, \"yref\": \"y1\", \"align\": \"left\", \"text\": \"1\"}, {\"xanchor\": \"left\", \"showarrow\": false, \"y\": 25, \"xref\": \"x1\", \"font\": {\"color\": \"#000000\"}, \"x\": 2.55, \"yref\": \"y1\", \"align\": \"left\", \"text\": \"73\"}, {\"xanchor\": \"left\", \"showarrow\": false, \"y\": 26, \"xref\": \"x1\", \"font\": {\"color\": \"#000000\"}, \"x\": -0.45, \"yref\": \"y1\", \"align\": \"left\", \"text\": \"Release engineering\"}, {\"xanchor\": \"left\", \"showarrow\": false, \"y\": 26, \"xref\": \"x1\", \"font\": {\"color\": \"#000000\"}, \"x\": 0.55, \"yref\": \"y1\", \"align\": \"left\", \"text\": \"Community\"}, {\"xanchor\": \"left\", \"showarrow\": false, \"y\": 26, \"xref\": \"x1\", \"font\": {\"color\": \"#000000\"}, \"x\": 1.55, \"yref\": \"y1\", \"align\": \"left\", \"text\": \"9\"}, {\"xanchor\": \"left\", \"showarrow\": false, \"y\": 26, \"xref\": \"x1\", \"font\": {\"color\": \"#000000\"}, \"x\": 2.55, \"yref\": \"y1\", \"align\": \"left\", \"text\": \"67\"}, {\"xanchor\": \"left\", \"showarrow\": false, \"y\": 27, \"xref\": \"x1\", \"font\": {\"color\": \"#000000\"}, \"x\": -0.45, \"yref\": \"y1\", \"align\": \"left\", \"text\": \"Firefox iOS\"}, {\"xanchor\": \"left\", \"showarrow\": false, \"y\": 27, \"xref\": \"x1\", \"font\": {\"color\": \"#000000\"}, \"x\": 0.55, \"yref\": \"y1\", \"align\": \"left\", \"text\": \"Community\"}, {\"xanchor\": \"left\", \"showarrow\": false, \"y\": 27, \"xref\": \"x1\", \"font\": {\"color\": \"#000000\"}, \"x\": 1.55, \"yref\": \"y1\", \"align\": \"left\", \"text\": \"3\"}, {\"xanchor\": \"left\", \"showarrow\": false, \"y\": 27, \"xref\": \"x1\", \"font\": {\"color\": \"#000000\"}, \"x\": 2.55, \"yref\": \"y1\", \"align\": \"left\", \"text\": \"66\"}, {\"xanchor\": \"left\", \"showarrow\": false, \"y\": 28, \"xref\": \"x1\", \"font\": {\"color\": \"#000000\"}, \"x\": -0.45, \"yref\": \"y1\", \"align\": \"left\", \"text\": \"Mozilla Developer Network (MDN)\"}, {\"xanchor\": \"left\", \"showarrow\": false, \"y\": 28, \"xref\": \"x1\", \"font\": {\"color\": \"#000000\"}, \"x\": 0.55, \"yref\": \"y1\", \"align\": \"left\", \"text\": \"Mozilla Staff\"}, {\"xanchor\": \"left\", \"showarrow\": false, \"y\": 28, \"xref\": \"x1\", \"font\": {\"color\": \"#000000\"}, \"x\": 1.55, \"yref\": \"y1\", \"align\": \"left\", \"text\": \"47\"}, {\"xanchor\": \"left\", \"showarrow\": false, \"y\": 28, \"xref\": \"x1\", \"font\": {\"color\": \"#000000\"}, \"x\": 2.55, \"yref\": \"y1\", \"align\": \"left\", \"text\": \"53\"}, {\"xanchor\": \"left\", \"showarrow\": false, \"y\": 29, \"xref\": \"x1\", \"font\": {\"color\": \"#000000\"}, \"x\": -0.45, \"yref\": \"y1\", \"align\": \"left\", \"text\": \"Web Literacy\"}, {\"xanchor\": \"left\", \"showarrow\": false, \"y\": 29, \"xref\": \"x1\", \"font\": {\"color\": \"#000000\"}, \"x\": 0.55, \"yref\": \"y1\", \"align\": \"left\", \"text\": \"Mozilla Staff\"}, {\"xanchor\": \"left\", \"showarrow\": false, \"y\": 29, \"xref\": \"x1\", \"font\": {\"color\": \"#000000\"}, \"x\": 1.55, \"yref\": \"y1\", \"align\": \"left\", \"text\": \"51\"}, {\"xanchor\": \"left\", \"showarrow\": false, \"y\": 29, \"xref\": \"x1\", \"font\": {\"color\": \"#000000\"}, \"x\": 2.55, \"yref\": \"y1\", \"align\": \"left\", \"text\": \"53\"}, {\"xanchor\": \"left\", \"showarrow\": false, \"y\": 30, \"xref\": \"x1\", \"font\": {\"color\": \"#000000\"}, \"x\": -0.45, \"yref\": \"y1\", \"align\": \"left\", \"text\": \"Marketing / Social Media\"}, {\"xanchor\": \"left\", \"showarrow\": false, \"y\": 30, \"xref\": \"x1\", \"font\": {\"color\": \"#000000\"}, \"x\": 0.55, \"yref\": \"y1\", \"align\": \"left\", \"text\": \"Mozilla Staff\"}, {\"xanchor\": \"left\", \"showarrow\": false, \"y\": 30, \"xref\": \"x1\", \"font\": {\"color\": \"#000000\"}, \"x\": 1.55, \"yref\": \"y1\", \"align\": \"left\", \"text\": \"15\"}, {\"xanchor\": \"left\", \"showarrow\": false, \"y\": 30, \"xref\": \"x1\", \"font\": {\"color\": \"#000000\"}, \"x\": 2.55, \"yref\": \"y1\", \"align\": \"left\", \"text\": \"49\"}, {\"xanchor\": \"left\", \"showarrow\": false, \"y\": 31, \"xref\": \"x1\", \"font\": {\"color\": \"#000000\"}, \"x\": -0.45, \"yref\": \"y1\", \"align\": \"left\", \"text\": \"Test Pilot\"}, {\"xanchor\": \"left\", \"showarrow\": false, \"y\": 31, \"xref\": \"x1\", \"font\": {\"color\": \"#000000\"}, \"x\": 0.55, \"yref\": \"y1\", \"align\": \"left\", \"text\": \"Mozilla Staff\"}, {\"xanchor\": \"left\", \"showarrow\": false, \"y\": 31, \"xref\": \"x1\", \"font\": {\"color\": \"#000000\"}, \"x\": 1.55, \"yref\": \"y1\", \"align\": \"left\", \"text\": \"6\"}, {\"xanchor\": \"left\", \"showarrow\": false, \"y\": 31, \"xref\": \"x1\", \"font\": {\"color\": \"#000000\"}, \"x\": 2.55, \"yref\": \"y1\", \"align\": \"left\", \"text\": \"46\"}, {\"xanchor\": \"left\", \"showarrow\": false, \"y\": 32, \"xref\": \"x1\", \"font\": {\"color\": \"#000000\"}, \"x\": -0.45, \"yref\": \"y1\", \"align\": \"left\", \"text\": \"Quality Assurance\"}, {\"xanchor\": \"left\", \"showarrow\": false, \"y\": 32, \"xref\": \"x1\", \"font\": {\"color\": \"#000000\"}, \"x\": 0.55, \"yref\": \"y1\", \"align\": \"left\", \"text\": \"Mozilla Staff\"}, {\"xanchor\": \"left\", \"showarrow\": false, \"y\": 32, \"xref\": \"x1\", \"font\": {\"color\": \"#000000\"}, \"x\": 1.55, \"yref\": \"y1\", \"align\": \"left\", \"text\": \"3\"}, {\"xanchor\": \"left\", \"showarrow\": false, \"y\": 32, \"xref\": \"x1\", \"font\": {\"color\": \"#000000\"}, \"x\": 2.55, \"yref\": \"y1\", \"align\": \"left\", \"text\": \"45\"}, {\"xanchor\": \"left\", \"showarrow\": false, \"y\": 33, \"xref\": \"x1\", \"font\": {\"color\": \"#000000\"}, \"x\": -0.45, \"yref\": \"y1\", \"align\": \"left\", \"text\": \"Quality Assurance\"}, {\"xanchor\": \"left\", \"showarrow\": false, \"y\": 33, \"xref\": \"x1\", \"font\": {\"color\": \"#000000\"}, \"x\": 0.55, \"yref\": \"y1\", \"align\": \"left\", \"text\": \"Community\"}, {\"xanchor\": \"left\", \"showarrow\": false, \"y\": 33, \"xref\": \"x1\", \"font\": {\"color\": \"#000000\"}, \"x\": 1.55, \"yref\": \"y1\", \"align\": \"left\", \"text\": \"2\"}, {\"xanchor\": \"left\", \"showarrow\": false, \"y\": 33, \"xref\": \"x1\", \"font\": {\"color\": \"#000000\"}, \"x\": 2.55, \"yref\": \"y1\", \"align\": \"left\", \"text\": \"40\"}, {\"xanchor\": \"left\", \"showarrow\": false, \"y\": 34, \"xref\": \"x1\", \"font\": {\"color\": \"#000000\"}, \"x\": -0.45, \"yref\": \"y1\", \"align\": \"left\", \"text\": \"Advocacy and policy\"}, {\"xanchor\": \"left\", \"showarrow\": false, \"y\": 34, \"xref\": \"x1\", \"font\": {\"color\": \"#000000\"}, \"x\": 0.55, \"yref\": \"y1\", \"align\": \"left\", \"text\": \"Community\"}, {\"xanchor\": \"left\", \"showarrow\": false, \"y\": 34, \"xref\": \"x1\", \"font\": {\"color\": \"#000000\"}, \"x\": 1.55, \"yref\": \"y1\", \"align\": \"left\", \"text\": \"4\"}, {\"xanchor\": \"left\", \"showarrow\": false, \"y\": 34, \"xref\": \"x1\", \"font\": {\"color\": \"#000000\"}, \"x\": 2.55, \"yref\": \"y1\", \"align\": \"left\", \"text\": \"38\"}, {\"xanchor\": \"left\", \"showarrow\": false, \"y\": 35, \"xref\": \"x1\", \"font\": {\"color\": \"#000000\"}, \"x\": -0.45, \"yref\": \"y1\", \"align\": \"left\", \"text\": \"Localization\"}, {\"xanchor\": \"left\", \"showarrow\": false, \"y\": 35, \"xref\": \"x1\", \"font\": {\"color\": \"#000000\"}, \"x\": 0.55, \"yref\": \"y1\", \"align\": \"left\", \"text\": \"Mozilla Staff\"}, {\"xanchor\": \"left\", \"showarrow\": false, \"y\": 35, \"xref\": \"x1\", \"font\": {\"color\": \"#000000\"}, \"x\": 1.55, \"yref\": \"y1\", \"align\": \"left\", \"text\": \"4\"}, {\"xanchor\": \"left\", \"showarrow\": false, \"y\": 35, \"xref\": \"x1\", \"font\": {\"color\": \"#000000\"}, \"x\": 2.55, \"yref\": \"y1\", \"align\": \"left\", \"text\": \"35\"}, {\"xanchor\": \"left\", \"showarrow\": false, \"y\": 36, \"xref\": \"x1\", \"font\": {\"color\": \"#000000\"}, \"x\": -0.45, \"yref\": \"y1\", \"align\": \"left\", \"text\": \"Advocacy and policy\"}, {\"xanchor\": \"left\", \"showarrow\": false, \"y\": 36, \"xref\": \"x1\", \"font\": {\"color\": \"#000000\"}, \"x\": 0.55, \"yref\": \"y1\", \"align\": \"left\", \"text\": \"Mozilla Staff\"}, {\"xanchor\": \"left\", \"showarrow\": false, \"y\": 36, \"xref\": \"x1\", \"font\": {\"color\": \"#000000\"}, \"x\": 1.55, \"yref\": \"y1\", \"align\": \"left\", \"text\": \"4\"}, {\"xanchor\": \"left\", \"showarrow\": false, \"y\": 36, \"xref\": \"x1\", \"font\": {\"color\": \"#000000\"}, \"x\": 2.55, \"yref\": \"y1\", \"align\": \"left\", \"text\": \"33\"}, {\"xanchor\": \"left\", \"showarrow\": false, \"y\": 37, \"xref\": \"x1\", \"font\": {\"color\": \"#000000\"}, \"x\": -0.45, \"yref\": \"y1\", \"align\": \"left\", \"text\": \"Firefox iOS\"}, {\"xanchor\": \"left\", \"showarrow\": false, \"y\": 37, \"xref\": \"x1\", \"font\": {\"color\": \"#000000\"}, \"x\": 0.55, \"yref\": \"y1\", \"align\": \"left\", \"text\": \"Mozilla Staff\"}, {\"xanchor\": \"left\", \"showarrow\": false, \"y\": 37, \"xref\": \"x1\", \"font\": {\"color\": \"#000000\"}, \"x\": 1.55, \"yref\": \"y1\", \"align\": \"left\", \"text\": \"5\"}, {\"xanchor\": \"left\", \"showarrow\": false, \"y\": 37, \"xref\": \"x1\", \"font\": {\"color\": \"#000000\"}, \"x\": 2.55, \"yref\": \"y1\", \"align\": \"left\", \"text\": \"32\"}, {\"xanchor\": \"left\", \"showarrow\": false, \"y\": 38, \"xref\": \"x1\", \"font\": {\"color\": \"#000000\"}, \"x\": -0.45, \"yref\": \"y1\", \"align\": \"left\", \"text\": \"Mozilla Foundation\"}, {\"xanchor\": \"left\", \"showarrow\": false, \"y\": 38, \"xref\": \"x1\", \"font\": {\"color\": \"#000000\"}, \"x\": 0.55, \"yref\": \"y1\", \"align\": \"left\", \"text\": \"Mozilla Staff\"}, {\"xanchor\": \"left\", \"showarrow\": false, \"y\": 38, \"xref\": \"x1\", \"font\": {\"color\": \"#000000\"}, \"x\": 1.55, \"yref\": \"y1\", \"align\": \"left\", \"text\": \"36\"}, {\"xanchor\": \"left\", \"showarrow\": false, \"y\": 38, \"xref\": \"x1\", \"font\": {\"color\": \"#000000\"}, \"x\": 2.55, \"yref\": \"y1\", \"align\": \"left\", \"text\": \"30\"}, {\"xanchor\": \"left\", \"showarrow\": false, \"y\": 39, \"xref\": \"x1\", \"font\": {\"color\": \"#000000\"}, \"x\": -0.45, \"yref\": \"y1\", \"align\": \"left\", \"text\": \"WebVR\"}, {\"xanchor\": \"left\", \"showarrow\": false, \"y\": 39, \"xref\": \"x1\", \"font\": {\"color\": \"#000000\"}, \"x\": 0.55, \"yref\": \"y1\", \"align\": \"left\", \"text\": \"Mozilla Staff\"}, {\"xanchor\": \"left\", \"showarrow\": false, \"y\": 39, \"xref\": \"x1\", \"font\": {\"color\": \"#000000\"}, \"x\": 1.55, \"yref\": \"y1\", \"align\": \"left\", \"text\": \"29\"}, {\"xanchor\": \"left\", \"showarrow\": false, \"y\": 39, \"xref\": \"x1\", \"font\": {\"color\": \"#000000\"}, \"x\": 2.55, \"yref\": \"y1\", \"align\": \"left\", \"text\": \"27\"}, {\"xanchor\": \"left\", \"showarrow\": false, \"y\": 40, \"xref\": \"x1\", \"font\": {\"color\": \"#000000\"}, \"x\": -0.45, \"yref\": \"y1\", \"align\": \"left\", \"text\": \"Mozilla Creative & Design\"}, {\"xanchor\": \"left\", \"showarrow\": false, \"y\": 40, \"xref\": \"x1\", \"font\": {\"color\": \"#000000\"}, \"x\": 0.55, \"yref\": \"y1\", \"align\": \"left\", \"text\": \"Community\"}, {\"xanchor\": \"left\", \"showarrow\": false, \"y\": 40, \"xref\": \"x1\", \"font\": {\"color\": \"#000000\"}, \"x\": 1.55, \"yref\": \"y1\", \"align\": \"left\", \"text\": \"2\"}, {\"xanchor\": \"left\", \"showarrow\": false, \"y\": 40, \"xref\": \"x1\", \"font\": {\"color\": \"#000000\"}, \"x\": 2.55, \"yref\": \"y1\", \"align\": \"left\", \"text\": \"21\"}, {\"xanchor\": \"left\", \"showarrow\": false, \"y\": 41, \"xref\": \"x1\", \"font\": {\"color\": \"#000000\"}, \"x\": -0.45, \"yref\": \"y1\", \"align\": \"left\", \"text\": \"Firefox\"}, {\"xanchor\": \"left\", \"showarrow\": false, \"y\": 41, \"xref\": \"x1\", \"font\": {\"color\": \"#000000\"}, \"x\": 0.55, \"yref\": \"y1\", \"align\": \"left\", \"text\": \"Mozilla Staff\"}, {\"xanchor\": \"left\", \"showarrow\": false, \"y\": 41, \"xref\": \"x1\", \"font\": {\"color\": \"#000000\"}, \"x\": 1.55, \"yref\": \"y1\", \"align\": \"left\", \"text\": \"1\"}, {\"xanchor\": \"left\", \"showarrow\": false, \"y\": 41, \"xref\": \"x1\", \"font\": {\"color\": \"#000000\"}, \"x\": 2.55, \"yref\": \"y1\", \"align\": \"left\", \"text\": \"20\"}, {\"xanchor\": \"left\", \"showarrow\": false, \"y\": 42, \"xref\": \"x1\", \"font\": {\"color\": \"#000000\"}, \"x\": -0.45, \"yref\": \"y1\", \"align\": \"left\", \"text\": \"Mozilla Location Service (MLS) / Stumbler\"}, {\"xanchor\": \"left\", \"showarrow\": false, \"y\": 42, \"xref\": \"x1\", \"font\": {\"color\": \"#000000\"}, \"x\": 0.55, \"yref\": \"y1\", \"align\": \"left\", \"text\": \"Mozilla Staff\"}, {\"xanchor\": \"left\", \"showarrow\": false, \"y\": 42, \"xref\": \"x1\", \"font\": {\"color\": \"#000000\"}, \"x\": 1.55, \"yref\": \"y1\", \"align\": \"left\", \"text\": \"1\"}, {\"xanchor\": \"left\", \"showarrow\": false, \"y\": 42, \"xref\": \"x1\", \"font\": {\"color\": \"#000000\"}, \"x\": 2.55, \"yref\": \"y1\", \"align\": \"left\", \"text\": \"18\"}, {\"xanchor\": \"left\", \"showarrow\": false, \"y\": 43, \"xref\": \"x1\", \"font\": {\"color\": \"#000000\"}, \"x\": -0.45, \"yref\": \"y1\", \"align\": \"left\", \"text\": \"Marketing / Social Media\"}, {\"xanchor\": \"left\", \"showarrow\": false, \"y\": 43, \"xref\": \"x1\", \"font\": {\"color\": \"#000000\"}, \"x\": 0.55, \"yref\": \"y1\", \"align\": \"left\", \"text\": \"Community\"}, {\"xanchor\": \"left\", \"showarrow\": false, \"y\": 43, \"xref\": \"x1\", \"font\": {\"color\": \"#000000\"}, \"x\": 1.55, \"yref\": \"y1\", \"align\": \"left\", \"text\": \"7\"}, {\"xanchor\": \"left\", \"showarrow\": false, \"y\": 43, \"xref\": \"x1\", \"font\": {\"color\": \"#000000\"}, \"x\": 2.55, \"yref\": \"y1\", \"align\": \"left\", \"text\": \"16\"}, {\"xanchor\": \"left\", \"showarrow\": false, \"y\": 44, \"xref\": \"x1\", \"font\": {\"color\": \"#000000\"}, \"x\": -0.45, \"yref\": \"y1\", \"align\": \"left\", \"text\": \"Technical/Developer Evangelism\"}, {\"xanchor\": \"left\", \"showarrow\": false, \"y\": 44, \"xref\": \"x1\", \"font\": {\"color\": \"#000000\"}, \"x\": 0.55, \"yref\": \"y1\", \"align\": \"left\", \"text\": \"Community\"}, {\"xanchor\": \"left\", \"showarrow\": false, \"y\": 44, \"xref\": \"x1\", \"font\": {\"color\": \"#000000\"}, \"x\": 1.55, \"yref\": \"y1\", \"align\": \"left\", \"text\": \"6\"}, {\"xanchor\": \"left\", \"showarrow\": false, \"y\": 44, \"xref\": \"x1\", \"font\": {\"color\": \"#000000\"}, \"x\": 2.55, \"yref\": \"y1\", \"align\": \"left\", \"text\": \"16\"}, {\"xanchor\": \"left\", \"showarrow\": false, \"y\": 45, \"xref\": \"x1\", \"font\": {\"color\": \"#000000\"}, \"x\": -0.45, \"yref\": \"y1\", \"align\": \"left\", \"text\": \"Technical/Developer Evangelism\"}, {\"xanchor\": \"left\", \"showarrow\": false, \"y\": 45, \"xref\": \"x1\", \"font\": {\"color\": \"#000000\"}, \"x\": 0.55, \"yref\": \"y1\", \"align\": \"left\", \"text\": \"Mozilla Staff\"}, {\"xanchor\": \"left\", \"showarrow\": false, \"y\": 45, \"xref\": \"x1\", \"font\": {\"color\": \"#000000\"}, \"x\": 1.55, \"yref\": \"y1\", \"align\": \"left\", \"text\": \"17\"}, {\"xanchor\": \"left\", \"showarrow\": false, \"y\": 45, \"xref\": \"x1\", \"font\": {\"color\": \"#000000\"}, \"x\": 2.55, \"yref\": \"y1\", \"align\": \"left\", \"text\": \"14\"}, {\"xanchor\": \"left\", \"showarrow\": false, \"y\": 46, \"xref\": \"x1\", \"font\": {\"color\": \"#000000\"}, \"x\": -0.45, \"yref\": \"y1\", \"align\": \"left\", \"text\": \"Vaani\"}, {\"xanchor\": \"left\", \"showarrow\": false, \"y\": 46, \"xref\": \"x1\", \"font\": {\"color\": \"#000000\"}, \"x\": 0.55, \"yref\": \"y1\", \"align\": \"left\", \"text\": \"Mozilla Staff\"}, {\"xanchor\": \"left\", \"showarrow\": false, \"y\": 46, \"xref\": \"x1\", \"font\": {\"color\": \"#000000\"}, \"x\": 1.55, \"yref\": \"y1\", \"align\": \"left\", \"text\": \"8\"}, {\"xanchor\": \"left\", \"showarrow\": false, \"y\": 46, \"xref\": \"x1\", \"font\": {\"color\": \"#000000\"}, \"x\": 2.55, \"yref\": \"y1\", \"align\": \"left\", \"text\": \"11\"}, {\"xanchor\": \"left\", \"showarrow\": false, \"y\": 47, \"xref\": \"x1\", \"font\": {\"color\": \"#000000\"}, \"x\": -0.45, \"yref\": \"y1\", \"align\": \"left\", \"text\": \"Mozilla Creative & Design\"}, {\"xanchor\": \"left\", \"showarrow\": false, \"y\": 47, \"xref\": \"x1\", \"font\": {\"color\": \"#000000\"}, \"x\": 0.55, \"yref\": \"y1\", \"align\": \"left\", \"text\": \"Mozilla Staff\"}, {\"xanchor\": \"left\", \"showarrow\": false, \"y\": 47, \"xref\": \"x1\", \"font\": {\"color\": \"#000000\"}, \"x\": 1.55, \"yref\": \"y1\", \"align\": \"left\", \"text\": \"3\"}, {\"xanchor\": \"left\", \"showarrow\": false, \"y\": 47, \"xref\": \"x1\", \"font\": {\"color\": \"#000000\"}, \"x\": 2.55, \"yref\": \"y1\", \"align\": \"left\", \"text\": \"10\"}, {\"xanchor\": \"left\", \"showarrow\": false, \"y\": 48, \"xref\": \"x1\", \"font\": {\"color\": \"#000000\"}, \"x\": -0.45, \"yref\": \"y1\", \"align\": \"left\", \"text\": \"Firefox Focus\"}, {\"xanchor\": \"left\", \"showarrow\": false, \"y\": 48, \"xref\": \"x1\", \"font\": {\"color\": \"#000000\"}, \"x\": 0.55, \"yref\": \"y1\", \"align\": \"left\", \"text\": \"Mozilla Staff\"}, {\"xanchor\": \"left\", \"showarrow\": false, \"y\": 48, \"xref\": \"x1\", \"font\": {\"color\": \"#000000\"}, \"x\": 1.55, \"yref\": \"y1\", \"align\": \"left\", \"text\": \"2\"}, {\"xanchor\": \"left\", \"showarrow\": false, \"y\": 48, \"xref\": \"x1\", \"font\": {\"color\": \"#000000\"}, \"x\": 2.55, \"yref\": \"y1\", \"align\": \"left\", \"text\": \"10\"}, {\"xanchor\": \"left\", \"showarrow\": false, \"y\": 49, \"xref\": \"x1\", \"font\": {\"color\": \"#000000\"}, \"x\": -0.45, \"yref\": \"y1\", \"align\": \"left\", \"text\": \"Mozilla Science\"}, {\"xanchor\": \"left\", \"showarrow\": false, \"y\": 49, \"xref\": \"x1\", \"font\": {\"color\": \"#000000\"}, \"x\": 0.55, \"yref\": \"y1\", \"align\": \"left\", \"text\": \"Mozilla Staff\"}, {\"xanchor\": \"left\", \"showarrow\": false, \"y\": 49, \"xref\": \"x1\", \"font\": {\"color\": \"#000000\"}, \"x\": 1.55, \"yref\": \"y1\", \"align\": \"left\", \"text\": \"21\"}, {\"xanchor\": \"left\", \"showarrow\": false, \"y\": 49, \"xref\": \"x1\", \"font\": {\"color\": \"#000000\"}, \"x\": 2.55, \"yref\": \"y1\", \"align\": \"left\", \"text\": \"9\"}, {\"xanchor\": \"left\", \"showarrow\": false, \"y\": 50, \"xref\": \"x1\", \"font\": {\"color\": \"#000000\"}, \"x\": -0.45, \"yref\": \"y1\", \"align\": \"left\", \"text\": \"Gecko\"}, {\"xanchor\": \"left\", \"showarrow\": false, \"y\": 50, \"xref\": \"x1\", \"font\": {\"color\": \"#000000\"}, \"x\": 0.55, \"yref\": \"y1\", \"align\": \"left\", \"text\": \"Code Sheriff\"}, {\"xanchor\": \"left\", \"showarrow\": false, \"y\": 50, \"xref\": \"x1\", \"font\": {\"color\": \"#000000\"}, \"x\": 1.55, \"yref\": \"y1\", \"align\": \"left\", \"text\": \"3\"}, {\"xanchor\": \"left\", \"showarrow\": false, \"y\": 50, \"xref\": \"x1\", \"font\": {\"color\": \"#000000\"}, \"x\": 2.55, \"yref\": \"y1\", \"align\": \"left\", \"text\": \"8\"}, {\"xanchor\": \"left\", \"showarrow\": false, \"y\": 51, \"xref\": \"x1\", \"font\": {\"color\": \"#000000\"}, \"x\": -0.45, \"yref\": \"y1\", \"align\": \"left\", \"text\": \"Deep Speech\"}, {\"xanchor\": \"left\", \"showarrow\": false, \"y\": 51, \"xref\": \"x1\", \"font\": {\"color\": \"#000000\"}, \"x\": 0.55, \"yref\": \"y1\", \"align\": \"left\", \"text\": \"Community\"}, {\"xanchor\": \"left\", \"showarrow\": false, \"y\": 51, \"xref\": \"x1\", \"font\": {\"color\": \"#000000\"}, \"x\": 1.55, \"yref\": \"y1\", \"align\": \"left\", \"text\": \"1\"}, {\"xanchor\": \"left\", \"showarrow\": false, \"y\": 51, \"xref\": \"x1\", \"font\": {\"color\": \"#000000\"}, \"x\": 2.55, \"yref\": \"y1\", \"align\": \"left\", \"text\": \"8\"}, {\"xanchor\": \"left\", \"showarrow\": false, \"y\": 52, \"xref\": \"x1\", \"font\": {\"color\": \"#000000\"}, \"x\": -0.45, \"yref\": \"y1\", \"align\": \"left\", \"text\": \"Firefox Focus\"}, {\"xanchor\": \"left\", \"showarrow\": false, \"y\": 52, \"xref\": \"x1\", \"font\": {\"color\": \"#000000\"}, \"x\": 0.55, \"yref\": \"y1\", \"align\": \"left\", \"text\": \"Community\"}, {\"xanchor\": \"left\", \"showarrow\": false, \"y\": 52, \"xref\": \"x1\", \"font\": {\"color\": \"#000000\"}, \"x\": 1.55, \"yref\": \"y1\", \"align\": \"left\", \"text\": \"2\"}, {\"xanchor\": \"left\", \"showarrow\": false, \"y\": 52, \"xref\": \"x1\", \"font\": {\"color\": \"#000000\"}, \"x\": 2.55, \"yref\": \"y1\", \"align\": \"left\", \"text\": \"7\"}, {\"xanchor\": \"left\", \"showarrow\": false, \"y\": 53, \"xref\": \"x1\", \"font\": {\"color\": \"#000000\"}, \"x\": -0.45, \"yref\": \"y1\", \"align\": \"left\", \"text\": \"Firefox\"}, {\"xanchor\": \"left\", \"showarrow\": false, \"y\": 53, \"xref\": \"x1\", \"font\": {\"color\": \"#000000\"}, \"x\": 0.55, \"yref\": \"y1\", \"align\": \"left\", \"text\": \"Community\"}, {\"xanchor\": \"left\", \"showarrow\": false, \"y\": 53, \"xref\": \"x1\", \"font\": {\"color\": \"#000000\"}, \"x\": 1.55, \"yref\": \"y1\", \"align\": \"left\", \"text\": \"1\"}, {\"xanchor\": \"left\", \"showarrow\": false, \"y\": 53, \"xref\": \"x1\", \"font\": {\"color\": \"#000000\"}, \"x\": 2.55, \"yref\": \"y1\", \"align\": \"left\", \"text\": \"7\"}, {\"xanchor\": \"left\", \"showarrow\": false, \"y\": 54, \"xref\": \"x1\", \"font\": {\"color\": \"#000000\"}, \"x\": -0.45, \"yref\": \"y1\", \"align\": \"left\", \"text\": \"Deep Speech\"}, {\"xanchor\": \"left\", \"showarrow\": false, \"y\": 54, \"xref\": \"x1\", \"font\": {\"color\": \"#000000\"}, \"x\": 0.55, \"yref\": \"y1\", \"align\": \"left\", \"text\": \"Mozilla Staff\"}, {\"xanchor\": \"left\", \"showarrow\": false, \"y\": 54, \"xref\": \"x1\", \"font\": {\"color\": \"#000000\"}, \"x\": 1.55, \"yref\": \"y1\", \"align\": \"left\", \"text\": \"1\"}, {\"xanchor\": \"left\", \"showarrow\": false, \"y\": 54, \"xref\": \"x1\", \"font\": {\"color\": \"#000000\"}, \"x\": 2.55, \"yref\": \"y1\", \"align\": \"left\", \"text\": \"7\"}, {\"xanchor\": \"left\", \"showarrow\": false, \"y\": 55, \"xref\": \"x1\", \"font\": {\"color\": \"#000000\"}, \"x\": -0.45, \"yref\": \"y1\", \"align\": \"left\", \"text\": \"Addons/Web Extensions\"}, {\"xanchor\": \"left\", \"showarrow\": false, \"y\": 55, \"xref\": \"x1\", \"font\": {\"color\": \"#000000\"}, \"x\": 0.55, \"yref\": \"y1\", \"align\": \"left\", \"text\": \"Code Sheriff\"}, {\"xanchor\": \"left\", \"showarrow\": false, \"y\": 55, \"xref\": \"x1\", \"font\": {\"color\": \"#000000\"}, \"x\": 1.55, \"yref\": \"y1\", \"align\": \"left\", \"text\": \"4\"}, {\"xanchor\": \"left\", \"showarrow\": false, \"y\": 55, \"xref\": \"x1\", \"font\": {\"color\": \"#000000\"}, \"x\": 2.55, \"yref\": \"y1\", \"align\": \"left\", \"text\": \"6\"}, {\"xanchor\": \"left\", \"showarrow\": false, \"y\": 56, \"xref\": \"x1\", \"font\": {\"color\": \"#000000\"}, \"x\": -0.45, \"yref\": \"y1\", \"align\": \"left\", \"text\": \"Developer Tools\"}, {\"xanchor\": \"left\", \"showarrow\": false, \"y\": 56, \"xref\": \"x1\", \"font\": {\"color\": \"#000000\"}, \"x\": 0.55, \"yref\": \"y1\", \"align\": \"left\", \"text\": \"Mozilla Staff\"}, {\"xanchor\": \"left\", \"showarrow\": false, \"y\": 56, \"xref\": \"x1\", \"font\": {\"color\": \"#000000\"}, \"x\": 1.55, \"yref\": \"y1\", \"align\": \"left\", \"text\": \"4\"}, {\"xanchor\": \"left\", \"showarrow\": false, \"y\": 56, \"xref\": \"x1\", \"font\": {\"color\": \"#000000\"}, \"x\": 2.55, \"yref\": \"y1\", \"align\": \"left\", \"text\": \"6\"}, {\"xanchor\": \"left\", \"showarrow\": false, \"y\": 57, \"xref\": \"x1\", \"font\": {\"color\": \"#000000\"}, \"x\": -0.45, \"yref\": \"y1\", \"align\": \"left\", \"text\": \"Connected devices & IoT\"}, {\"xanchor\": \"left\", \"showarrow\": false, \"y\": 57, \"xref\": \"x1\", \"font\": {\"color\": \"#000000\"}, \"x\": 0.55, \"yref\": \"y1\", \"align\": \"left\", \"text\": \"Community\"}, {\"xanchor\": \"left\", \"showarrow\": false, \"y\": 57, \"xref\": \"x1\", \"font\": {\"color\": \"#000000\"}, \"x\": 1.55, \"yref\": \"y1\", \"align\": \"left\", \"text\": \"1\"}, {\"xanchor\": \"left\", \"showarrow\": false, \"y\": 57, \"xref\": \"x1\", \"font\": {\"color\": \"#000000\"}, \"x\": 2.55, \"yref\": \"y1\", \"align\": \"left\", \"text\": \"6\"}, {\"xanchor\": \"left\", \"showarrow\": false, \"y\": 58, \"xref\": \"x1\", \"font\": {\"color\": \"#000000\"}, \"x\": -0.45, \"yref\": \"y1\", \"align\": \"left\", \"text\": \"Mozilla Clubs\"}, {\"xanchor\": \"left\", \"showarrow\": false, \"y\": 58, \"xref\": \"x1\", \"font\": {\"color\": \"#000000\"}, \"x\": 0.55, \"yref\": \"y1\", \"align\": \"left\", \"text\": \"Mozilla Staff\"}, {\"xanchor\": \"left\", \"showarrow\": false, \"y\": 58, \"xref\": \"x1\", \"font\": {\"color\": \"#000000\"}, \"x\": 1.55, \"yref\": \"y1\", \"align\": \"left\", \"text\": \"9\"}, {\"xanchor\": \"left\", \"showarrow\": false, \"y\": 58, \"xref\": \"x1\", \"font\": {\"color\": \"#000000\"}, \"x\": 2.55, \"yref\": \"y1\", \"align\": \"left\", \"text\": \"6\"}, {\"xanchor\": \"left\", \"showarrow\": false, \"y\": 59, \"xref\": \"x1\", \"font\": {\"color\": \"#000000\"}, \"x\": -0.45, \"yref\": \"y1\", \"align\": \"left\", \"text\": \"IT/Ops\"}, {\"xanchor\": \"left\", \"showarrow\": false, \"y\": 59, \"xref\": \"x1\", \"font\": {\"color\": \"#000000\"}, \"x\": 0.55, \"yref\": \"y1\", \"align\": \"left\", \"text\": \"Code Sheriff\"}, {\"xanchor\": \"left\", \"showarrow\": false, \"y\": 59, \"xref\": \"x1\", \"font\": {\"color\": \"#000000\"}, \"x\": 1.55, \"yref\": \"y1\", \"align\": \"left\", \"text\": \"3\"}, {\"xanchor\": \"left\", \"showarrow\": false, \"y\": 59, \"xref\": \"x1\", \"font\": {\"color\": \"#000000\"}, \"x\": 2.55, \"yref\": \"y1\", \"align\": \"left\", \"text\": \"6\"}, {\"xanchor\": \"left\", \"showarrow\": false, \"y\": 60, \"xref\": \"x1\", \"font\": {\"color\": \"#000000\"}, \"x\": -0.45, \"yref\": \"y1\", \"align\": \"left\", \"text\": \"Campus Clubs (previously Student Ambassadors)\"}, {\"xanchor\": \"left\", \"showarrow\": false, \"y\": 60, \"xref\": \"x1\", \"font\": {\"color\": \"#000000\"}, \"x\": 0.55, \"yref\": \"y1\", \"align\": \"left\", \"text\": \"Mozilla Staff\"}, {\"xanchor\": \"left\", \"showarrow\": false, \"y\": 60, \"xref\": \"x1\", \"font\": {\"color\": \"#000000\"}, \"x\": 1.55, \"yref\": \"y1\", \"align\": \"left\", \"text\": \"5\"}, {\"xanchor\": \"left\", \"showarrow\": false, \"y\": 60, \"xref\": \"x1\", \"font\": {\"color\": \"#000000\"}, \"x\": 2.55, \"yref\": \"y1\", \"align\": \"left\", \"text\": \"5\"}, {\"xanchor\": \"left\", \"showarrow\": false, \"y\": 61, \"xref\": \"x1\", \"font\": {\"color\": \"#000000\"}, \"x\": -0.45, \"yref\": \"y1\", \"align\": \"left\", \"text\": \"Web Properties\"}, {\"xanchor\": \"left\", \"showarrow\": false, \"y\": 61, \"xref\": \"x1\", \"font\": {\"color\": \"#000000\"}, \"x\": 0.55, \"yref\": \"y1\", \"align\": \"left\", \"text\": \"Code Sheriff\"}, {\"xanchor\": \"left\", \"showarrow\": false, \"y\": 61, \"xref\": \"x1\", \"font\": {\"color\": \"#000000\"}, \"x\": 1.55, \"yref\": \"y1\", \"align\": \"left\", \"text\": \"6\"}, {\"xanchor\": \"left\", \"showarrow\": false, \"y\": 61, \"xref\": \"x1\", \"font\": {\"color\": \"#000000\"}, \"x\": 2.55, \"yref\": \"y1\", \"align\": \"left\", \"text\": \"4\"}, {\"xanchor\": \"left\", \"showarrow\": false, \"y\": 62, \"xref\": \"x1\", \"font\": {\"color\": \"#000000\"}, \"x\": -0.45, \"yref\": \"y1\", \"align\": \"left\", \"text\": \"Release engineering\"}, {\"xanchor\": \"left\", \"showarrow\": false, \"y\": 62, \"xref\": \"x1\", \"font\": {\"color\": \"#000000\"}, \"x\": 0.55, \"yref\": \"y1\", \"align\": \"left\", \"text\": \"Code Sheriff\"}, {\"xanchor\": \"left\", \"showarrow\": false, \"y\": 62, \"xref\": \"x1\", \"font\": {\"color\": \"#000000\"}, \"x\": 1.55, \"yref\": \"y1\", \"align\": \"left\", \"text\": \"5\"}, {\"xanchor\": \"left\", \"showarrow\": false, \"y\": 62, \"xref\": \"x1\", \"font\": {\"color\": \"#000000\"}, \"x\": 2.55, \"yref\": \"y1\", \"align\": \"left\", \"text\": \"4\"}, {\"xanchor\": \"left\", \"showarrow\": false, \"y\": 63, \"xref\": \"x1\", \"font\": {\"color\": \"#000000\"}, \"x\": -0.45, \"yref\": \"y1\", \"align\": \"left\", \"text\": \"Mozilla Clubs\"}, {\"xanchor\": \"left\", \"showarrow\": false, \"y\": 63, \"xref\": \"x1\", \"font\": {\"color\": \"#000000\"}, \"x\": 0.55, \"yref\": \"y1\", \"align\": \"left\", \"text\": \"Community\"}, {\"xanchor\": \"left\", \"showarrow\": false, \"y\": 63, \"xref\": \"x1\", \"font\": {\"color\": \"#000000\"}, \"x\": 1.55, \"yref\": \"y1\", \"align\": \"left\", \"text\": \"5\"}, {\"xanchor\": \"left\", \"showarrow\": false, \"y\": 63, \"xref\": \"x1\", \"font\": {\"color\": \"#000000\"}, \"x\": 2.55, \"yref\": \"y1\", \"align\": \"left\", \"text\": \"4\"}, {\"xanchor\": \"left\", \"showarrow\": false, \"y\": 64, \"xref\": \"x1\", \"font\": {\"color\": \"#000000\"}, \"x\": -0.45, \"yref\": \"y1\", \"align\": \"left\", \"text\": \"Developer Tools\"}, {\"xanchor\": \"left\", \"showarrow\": false, \"y\": 64, \"xref\": \"x1\", \"font\": {\"color\": \"#000000\"}, \"x\": 0.55, \"yref\": \"y1\", \"align\": \"left\", \"text\": \"Community\"}, {\"xanchor\": \"left\", \"showarrow\": false, \"y\": 64, \"xref\": \"x1\", \"font\": {\"color\": \"#000000\"}, \"x\": 1.55, \"yref\": \"y1\", \"align\": \"left\", \"text\": \"2\"}, {\"xanchor\": \"left\", \"showarrow\": false, \"y\": 64, \"xref\": \"x1\", \"font\": {\"color\": \"#000000\"}, \"x\": 2.55, \"yref\": \"y1\", \"align\": \"left\", \"text\": \"3\"}, {\"xanchor\": \"left\", \"showarrow\": false, \"y\": 65, \"xref\": \"x1\", \"font\": {\"color\": \"#000000\"}, \"x\": -0.45, \"yref\": \"y1\", \"align\": \"left\", \"text\": \"Firefox Android\"}, {\"xanchor\": \"left\", \"showarrow\": false, \"y\": 65, \"xref\": \"x1\", \"font\": {\"color\": \"#000000\"}, \"x\": 0.55, \"yref\": \"y1\", \"align\": \"left\", \"text\": \"Mozilla Staff\"}, {\"xanchor\": \"left\", \"showarrow\": false, \"y\": 65, \"xref\": \"x1\", \"font\": {\"color\": \"#000000\"}, \"x\": 1.55, \"yref\": \"y1\", \"align\": \"left\", \"text\": \"2\"}, {\"xanchor\": \"left\", \"showarrow\": false, \"y\": 65, \"xref\": \"x1\", \"font\": {\"color\": \"#000000\"}, \"x\": 2.55, \"yref\": \"y1\", \"align\": \"left\", \"text\": \"3\"}, {\"xanchor\": \"left\", \"showarrow\": false, \"y\": 66, \"xref\": \"x1\", \"font\": {\"color\": \"#000000\"}, \"x\": -0.45, \"yref\": \"y1\", \"align\": \"left\", \"text\": \"Connected devices & IoT\"}, {\"xanchor\": \"left\", \"showarrow\": false, \"y\": 66, \"xref\": \"x1\", \"font\": {\"color\": \"#000000\"}, \"x\": 0.55, \"yref\": \"y1\", \"align\": \"left\", \"text\": \"Mozilla Staff\"}, {\"xanchor\": \"left\", \"showarrow\": false, \"y\": 66, \"xref\": \"x1\", \"font\": {\"color\": \"#000000\"}, \"x\": 1.55, \"yref\": \"y1\", \"align\": \"left\", \"text\": \"1\"}, {\"xanchor\": \"left\", \"showarrow\": false, \"y\": 66, \"xref\": \"x1\", \"font\": {\"color\": \"#000000\"}, \"x\": 2.55, \"yref\": \"y1\", \"align\": \"left\", \"text\": \"3\"}, {\"xanchor\": \"left\", \"showarrow\": false, \"y\": 67, \"xref\": \"x1\", \"font\": {\"color\": \"#000000\"}, \"x\": -0.45, \"yref\": \"y1\", \"align\": \"left\", \"text\": \"Servo\"}, {\"xanchor\": \"left\", \"showarrow\": false, \"y\": 67, \"xref\": \"x1\", \"font\": {\"color\": \"#000000\"}, \"x\": 0.55, \"yref\": \"y1\", \"align\": \"left\", \"text\": \"Mozilla Reps\"}, {\"xanchor\": \"left\", \"showarrow\": false, \"y\": 67, \"xref\": \"x1\", \"font\": {\"color\": \"#000000\"}, \"x\": 1.55, \"yref\": \"y1\", \"align\": \"left\", \"text\": \"2\"}, {\"xanchor\": \"left\", \"showarrow\": false, \"y\": 67, \"xref\": \"x1\", \"font\": {\"color\": \"#000000\"}, \"x\": 2.55, \"yref\": \"y1\", \"align\": \"left\", \"text\": \"2\"}, {\"xanchor\": \"left\", \"showarrow\": false, \"y\": 68, \"xref\": \"x1\", \"font\": {\"color\": \"#000000\"}, \"x\": -0.45, \"yref\": \"y1\", \"align\": \"left\", \"text\": \"Web Properties\"}, {\"xanchor\": \"left\", \"showarrow\": false, \"y\": 68, \"xref\": \"x1\", \"font\": {\"color\": \"#000000\"}, \"x\": 0.55, \"yref\": \"y1\", \"align\": \"left\", \"text\": \"Mozilla Reps\"}, {\"xanchor\": \"left\", \"showarrow\": false, \"y\": 68, \"xref\": \"x1\", \"font\": {\"color\": \"#000000\"}, \"x\": 1.55, \"yref\": \"y1\", \"align\": \"left\", \"text\": \"4\"}, {\"xanchor\": \"left\", \"showarrow\": false, \"y\": 68, \"xref\": \"x1\", \"font\": {\"color\": \"#000000\"}, \"x\": 2.55, \"yref\": \"y1\", \"align\": \"left\", \"text\": \"2\"}, {\"xanchor\": \"left\", \"showarrow\": false, \"y\": 69, \"xref\": \"x1\", \"font\": {\"color\": \"#000000\"}, \"x\": -0.45, \"yref\": \"y1\", \"align\": \"left\", \"text\": \"Mozilla Local/Regional communities\"}, {\"xanchor\": \"left\", \"showarrow\": false, \"y\": 69, \"xref\": \"x1\", \"font\": {\"color\": \"#000000\"}, \"x\": 0.55, \"yref\": \"y1\", \"align\": \"left\", \"text\": \"Mozilla Reps\"}, {\"xanchor\": \"left\", \"showarrow\": false, \"y\": 69, \"xref\": \"x1\", \"font\": {\"color\": \"#000000\"}, \"x\": 1.55, \"yref\": \"y1\", \"align\": \"left\", \"text\": \"15\"}, {\"xanchor\": \"left\", \"showarrow\": false, \"y\": 69, \"xref\": \"x1\", \"font\": {\"color\": \"#000000\"}, \"x\": 2.55, \"yref\": \"y1\", \"align\": \"left\", \"text\": \"2\"}, {\"xanchor\": \"left\", \"showarrow\": false, \"y\": 70, \"xref\": \"x1\", \"font\": {\"color\": \"#000000\"}, \"x\": -0.45, \"yref\": \"y1\", \"align\": \"left\", \"text\": \"Campus Clubs (previously Student Ambassadors)\"}, {\"xanchor\": \"left\", \"showarrow\": false, \"y\": 70, \"xref\": \"x1\", \"font\": {\"color\": \"#000000\"}, \"x\": 0.55, \"yref\": \"y1\", \"align\": \"left\", \"text\": \"Community\"}, {\"xanchor\": \"left\", \"showarrow\": false, \"y\": 70, \"xref\": \"x1\", \"font\": {\"color\": \"#000000\"}, \"x\": 1.55, \"yref\": \"y1\", \"align\": \"left\", \"text\": \"1\"}, {\"xanchor\": \"left\", \"showarrow\": false, \"y\": 70, \"xref\": \"x1\", \"font\": {\"color\": \"#000000\"}, \"x\": 2.55, \"yref\": \"y1\", \"align\": \"left\", \"text\": \"1\"}, {\"xanchor\": \"left\", \"showarrow\": false, \"y\": 71, \"xref\": \"x1\", \"font\": {\"color\": \"#000000\"}, \"x\": -0.45, \"yref\": \"y1\", \"align\": \"left\", \"text\": \"Advocacy and policy\"}, {\"xanchor\": \"left\", \"showarrow\": false, \"y\": 71, \"xref\": \"x1\", \"font\": {\"color\": \"#000000\"}, \"x\": 0.55, \"yref\": \"y1\", \"align\": \"left\", \"text\": \"Code Sheriff\"}, {\"xanchor\": \"left\", \"showarrow\": false, \"y\": 71, \"xref\": \"x1\", \"font\": {\"color\": \"#000000\"}, \"x\": 1.55, \"yref\": \"y1\", \"align\": \"left\", \"text\": \"1\"}, {\"xanchor\": \"left\", \"showarrow\": false, \"y\": 71, \"xref\": \"x1\", \"font\": {\"color\": \"#000000\"}, \"x\": 2.55, \"yref\": \"y1\", \"align\": \"left\", \"text\": \"1\"}, {\"xanchor\": \"left\", \"showarrow\": false, \"y\": 72, \"xref\": \"x1\", \"font\": {\"color\": \"#000000\"}, \"x\": -0.45, \"yref\": \"y1\", \"align\": \"left\", \"text\": \"Web Literacy\"}, {\"xanchor\": \"left\", \"showarrow\": false, \"y\": 72, \"xref\": \"x1\", \"font\": {\"color\": \"#000000\"}, \"x\": 0.55, \"yref\": \"y1\", \"align\": \"left\", \"text\": \"Mozilla Reps\"}, {\"xanchor\": \"left\", \"showarrow\": false, \"y\": 72, \"xref\": \"x1\", \"font\": {\"color\": \"#000000\"}, \"x\": 1.55, \"yref\": \"y1\", \"align\": \"left\", \"text\": \"2\"}, {\"xanchor\": \"left\", \"showarrow\": false, \"y\": 72, \"xref\": \"x1\", \"font\": {\"color\": \"#000000\"}, \"x\": 2.55, \"yref\": \"y1\", \"align\": \"left\", \"text\": \"1\"}, {\"xanchor\": \"left\", \"showarrow\": false, \"y\": 73, \"xref\": \"x1\", \"font\": {\"color\": \"#000000\"}, \"x\": -0.45, \"yref\": \"y1\", \"align\": \"left\", \"text\": \"Mozilla Location Service (MLS) / Stumbler\"}, {\"xanchor\": \"left\", \"showarrow\": false, \"y\": 73, \"xref\": \"x1\", \"font\": {\"color\": \"#000000\"}, \"x\": 0.55, \"yref\": \"y1\", \"align\": \"left\", \"text\": \"Code Sheriff\"}, {\"xanchor\": \"left\", \"showarrow\": false, \"y\": 73, \"xref\": \"x1\", \"font\": {\"color\": \"#000000\"}, \"x\": 1.55, \"yref\": \"y1\", \"align\": \"left\", \"text\": \"1\"}, {\"xanchor\": \"left\", \"showarrow\": false, \"y\": 73, \"xref\": \"x1\", \"font\": {\"color\": \"#000000\"}, \"x\": 2.55, \"yref\": \"y1\", \"align\": \"left\", \"text\": \"1\"}, {\"xanchor\": \"left\", \"showarrow\": false, \"y\": 74, \"xref\": \"x1\", \"font\": {\"color\": \"#000000\"}, \"x\": -0.45, \"yref\": \"y1\", \"align\": \"left\", \"text\": \"Test Pilot\"}, {\"xanchor\": \"left\", \"showarrow\": false, \"y\": 74, \"xref\": \"x1\", \"font\": {\"color\": \"#000000\"}, \"x\": 0.55, \"yref\": \"y1\", \"align\": \"left\", \"text\": \"Code Sheriff\"}, {\"xanchor\": \"left\", \"showarrow\": false, \"y\": 74, \"xref\": \"x1\", \"font\": {\"color\": \"#000000\"}, \"x\": 1.55, \"yref\": \"y1\", \"align\": \"left\", \"text\": \"1\"}, {\"xanchor\": \"left\", \"showarrow\": false, \"y\": 74, \"xref\": \"x1\", \"font\": {\"color\": \"#000000\"}, \"x\": 2.55, \"yref\": \"y1\", \"align\": \"left\", \"text\": \"1\"}, {\"xanchor\": \"left\", \"showarrow\": false, \"y\": 75, \"xref\": \"x1\", \"font\": {\"color\": \"#000000\"}, \"x\": -0.45, \"yref\": \"y1\", \"align\": \"left\", \"text\": \"Vaani\"}, {\"xanchor\": \"left\", \"showarrow\": false, \"y\": 75, \"xref\": \"x1\", \"font\": {\"color\": \"#000000\"}, \"x\": 0.55, \"yref\": \"y1\", \"align\": \"left\", \"text\": \"Community\"}, {\"xanchor\": \"left\", \"showarrow\": false, \"y\": 75, \"xref\": \"x1\", \"font\": {\"color\": \"#000000\"}, \"x\": 1.55, \"yref\": \"y1\", \"align\": \"left\", \"text\": \"1\"}, {\"xanchor\": \"left\", \"showarrow\": false, \"y\": 75, \"xref\": \"x1\", \"font\": {\"color\": \"#000000\"}, \"x\": 2.55, \"yref\": \"y1\", \"align\": \"left\", \"text\": \"1\"}, {\"xanchor\": \"left\", \"showarrow\": false, \"y\": 76, \"xref\": \"x1\", \"font\": {\"color\": \"#000000\"}, \"x\": -0.45, \"yref\": \"y1\", \"align\": \"left\", \"text\": \"Firefox Android\"}, {\"xanchor\": \"left\", \"showarrow\": false, \"y\": 76, \"xref\": \"x1\", \"font\": {\"color\": \"#000000\"}, \"x\": 0.55, \"yref\": \"y1\", \"align\": \"left\", \"text\": \"Community\"}, {\"xanchor\": \"left\", \"showarrow\": false, \"y\": 76, \"xref\": \"x1\", \"font\": {\"color\": \"#000000\"}, \"x\": 1.55, \"yref\": \"y1\", \"align\": \"left\", \"text\": \"1\"}, {\"xanchor\": \"left\", \"showarrow\": false, \"y\": 76, \"xref\": \"x1\", \"font\": {\"color\": \"#000000\"}, \"x\": 2.55, \"yref\": \"y1\", \"align\": \"left\", \"text\": \"1\"}, {\"xanchor\": \"left\", \"showarrow\": false, \"y\": 77, \"xref\": \"x1\", \"font\": {\"color\": \"#000000\"}, \"x\": -0.45, \"yref\": \"y1\", \"align\": \"left\", \"text\": \"Gecko\"}, {\"xanchor\": \"left\", \"showarrow\": false, \"y\": 77, \"xref\": \"x1\", \"font\": {\"color\": \"#000000\"}, \"x\": 0.55, \"yref\": \"y1\", \"align\": \"left\", \"text\": \"Mozilla Reps\"}, {\"xanchor\": \"left\", \"showarrow\": false, \"y\": 77, \"xref\": \"x1\", \"font\": {\"color\": \"#000000\"}, \"x\": 1.55, \"yref\": \"y1\", \"align\": \"left\", \"text\": \"3\"}, {\"xanchor\": \"left\", \"showarrow\": false, \"y\": 77, \"xref\": \"x1\", \"font\": {\"color\": \"#000000\"}, \"x\": 2.55, \"yref\": \"y1\", \"align\": \"left\", \"text\": \"1\"}, {\"xanchor\": \"left\", \"showarrow\": false, \"y\": 78, \"xref\": \"x1\", \"font\": {\"color\": \"#000000\"}, \"x\": -0.45, \"yref\": \"y1\", \"align\": \"left\", \"text\": \"Marketing / Social Media\"}, {\"xanchor\": \"left\", \"showarrow\": false, \"y\": 78, \"xref\": \"x1\", \"font\": {\"color\": \"#000000\"}, \"x\": 0.55, \"yref\": \"y1\", \"align\": \"left\", \"text\": \"Code Sheriff\"}, {\"xanchor\": \"left\", \"showarrow\": false, \"y\": 78, \"xref\": \"x1\", \"font\": {\"color\": \"#000000\"}, \"x\": 1.55, \"yref\": \"y1\", \"align\": \"left\", \"text\": \"1\"}, {\"xanchor\": \"left\", \"showarrow\": false, \"y\": 78, \"xref\": \"x1\", \"font\": {\"color\": \"#000000\"}, \"x\": 2.55, \"yref\": \"y1\", \"align\": \"left\", \"text\": \"1\"}, {\"xanchor\": \"left\", \"showarrow\": false, \"y\": 79, \"xref\": \"x1\", \"font\": {\"color\": \"#000000\"}, \"x\": -0.45, \"yref\": \"y1\", \"align\": \"left\", \"text\": \"Servo\"}, {\"xanchor\": \"left\", \"showarrow\": false, \"y\": 79, \"xref\": \"x1\", \"font\": {\"color\": \"#000000\"}, \"x\": 0.55, \"yref\": \"y1\", \"align\": \"left\", \"text\": \"Code Sheriff\"}, {\"xanchor\": \"left\", \"showarrow\": false, \"y\": 79, \"xref\": \"x1\", \"font\": {\"color\": \"#000000\"}, \"x\": 1.55, \"yref\": \"y1\", \"align\": \"left\", \"text\": \"40\"}, {\"xanchor\": \"left\", \"showarrow\": false, \"y\": 79, \"xref\": \"x1\", \"font\": {\"color\": \"#000000\"}, \"x\": 2.55, \"yref\": \"y1\", \"align\": \"left\", \"text\": \"1\"}, {\"xanchor\": \"left\", \"showarrow\": false, \"y\": 80, \"xref\": \"x1\", \"font\": {\"color\": \"#000000\"}, \"x\": -0.45, \"yref\": \"y1\", \"align\": \"left\", \"text\": \"Rust\"}, {\"xanchor\": \"left\", \"showarrow\": false, \"y\": 80, \"xref\": \"x1\", \"font\": {\"color\": \"#000000\"}, \"x\": 0.55, \"yref\": \"y1\", \"align\": \"left\", \"text\": \"Code Sheriff\"}, {\"xanchor\": \"left\", \"showarrow\": false, \"y\": 80, \"xref\": \"x1\", \"font\": {\"color\": \"#000000\"}, \"x\": 1.55, \"yref\": \"y1\", \"align\": \"left\", \"text\": \"4\"}, {\"xanchor\": \"left\", \"showarrow\": false, \"y\": 80, \"xref\": \"x1\", \"font\": {\"color\": \"#000000\"}, \"x\": 2.55, \"yref\": \"y1\", \"align\": \"left\", \"text\": \"1\"}, {\"xanchor\": \"left\", \"showarrow\": false, \"y\": 81, \"xref\": \"x1\", \"font\": {\"color\": \"#000000\"}, \"x\": -0.45, \"yref\": \"y1\", \"align\": \"left\", \"text\": \"Mozilla Local/Regional communities\"}, {\"xanchor\": \"left\", \"showarrow\": false, \"y\": 81, \"xref\": \"x1\", \"font\": {\"color\": \"#000000\"}, \"x\": 0.55, \"yref\": \"y1\", \"align\": \"left\", \"text\": \"Code Sheriff\"}, {\"xanchor\": \"left\", \"showarrow\": false, \"y\": 81, \"xref\": \"x1\", \"font\": {\"color\": \"#000000\"}, \"x\": 1.55, \"yref\": \"y1\", \"align\": \"left\", \"text\": \"1\"}, {\"xanchor\": \"left\", \"showarrow\": false, \"y\": 81, \"xref\": \"x1\", \"font\": {\"color\": \"#000000\"}, \"x\": 2.55, \"yref\": \"y1\", \"align\": \"left\", \"text\": \"1\"}, {\"xanchor\": \"left\", \"showarrow\": false, \"y\": 82, \"xref\": \"x1\", \"font\": {\"color\": \"#000000\"}, \"x\": -0.45, \"yref\": \"y1\", \"align\": \"left\", \"text\": \"Mozilla Developer Network (MDN)\"}, {\"xanchor\": \"left\", \"showarrow\": false, \"y\": 82, \"xref\": \"x1\", \"font\": {\"color\": \"#000000\"}, \"x\": 0.55, \"yref\": \"y1\", \"align\": \"left\", \"text\": \"Mozilla Reps\"}, {\"xanchor\": \"left\", \"showarrow\": false, \"y\": 82, \"xref\": \"x1\", \"font\": {\"color\": \"#000000\"}, \"x\": 1.55, \"yref\": \"y1\", \"align\": \"left\", \"text\": \"1\"}, {\"xanchor\": \"left\", \"showarrow\": false, \"y\": 82, \"xref\": \"x1\", \"font\": {\"color\": \"#000000\"}, \"x\": 2.55, \"yref\": \"y1\", \"align\": \"left\", \"text\": \"1\"}]}, {\"showLink\": true, \"linkText\": \"Export to plot.ly\"})});</script>"
      ],
      "text/vnd.plotly.v1+html": [
       "<div id=\"8446dc2f-2743-4919-ab67-91cc98ff4cd0\" style=\"height: 2540px; width: 100%;\" class=\"plotly-graph-div\"></div><script type=\"text/javascript\">require([\"plotly\"], function(Plotly) { window.PLOTLYENV=window.PLOTLYENV || {};window.PLOTLYENV.BASE_URL=\"https://plot.ly\";Plotly.newPlot(\"8446dc2f-2743-4919-ab67-91cc98ff4cd0\", [{\"opacity\": 0.75, \"showscale\": false, \"colorscale\": [[0, \"#00083e\"], [0.5, \"#ededee\"], [1, \"#ffffff\"]], \"hoverinfo\": \"none\", \"type\": \"heatmap\", \"z\": [[0, 0, 0, 0], [0.5, 0.5, 0.5, 0.5], [1, 1, 1, 1], [0.5, 0.5, 0.5, 0.5], [1, 1, 1, 1], [0.5, 0.5, 0.5, 0.5], [1, 1, 1, 1], [0.5, 0.5, 0.5, 0.5], [1, 1, 1, 1], [0.5, 0.5, 0.5, 0.5], [1, 1, 1, 1], [0.5, 0.5, 0.5, 0.5], [1, 1, 1, 1], [0.5, 0.5, 0.5, 0.5], [1, 1, 1, 1], [0.5, 0.5, 0.5, 0.5], [1, 1, 1, 1], [0.5, 0.5, 0.5, 0.5], [1, 1, 1, 1], [0.5, 0.5, 0.5, 0.5], [1, 1, 1, 1], [0.5, 0.5, 0.5, 0.5], [1, 1, 1, 1], [0.5, 0.5, 0.5, 0.5], [1, 1, 1, 1], [0.5, 0.5, 0.5, 0.5], [1, 1, 1, 1], [0.5, 0.5, 0.5, 0.5], [1, 1, 1, 1], [0.5, 0.5, 0.5, 0.5], [1, 1, 1, 1], [0.5, 0.5, 0.5, 0.5], [1, 1, 1, 1], [0.5, 0.5, 0.5, 0.5], [1, 1, 1, 1], [0.5, 0.5, 0.5, 0.5], [1, 1, 1, 1], [0.5, 0.5, 0.5, 0.5], [1, 1, 1, 1], [0.5, 0.5, 0.5, 0.5], [1, 1, 1, 1], [0.5, 0.5, 0.5, 0.5], [1, 1, 1, 1], [0.5, 0.5, 0.5, 0.5], [1, 1, 1, 1], [0.5, 0.5, 0.5, 0.5], [1, 1, 1, 1], [0.5, 0.5, 0.5, 0.5], [1, 1, 1, 1], [0.5, 0.5, 0.5, 0.5], [1, 1, 1, 1], [0.5, 0.5, 0.5, 0.5], [1, 1, 1, 1], [0.5, 0.5, 0.5, 0.5], [1, 1, 1, 1], [0.5, 0.5, 0.5, 0.5], [1, 1, 1, 1], [0.5, 0.5, 0.5, 0.5], [1, 1, 1, 1], [0.5, 0.5, 0.5, 0.5], [1, 1, 1, 1], [0.5, 0.5, 0.5, 0.5], [1, 1, 1, 1], [0.5, 0.5, 0.5, 0.5], [1, 1, 1, 1], [0.5, 0.5, 0.5, 0.5], [1, 1, 1, 1], [0.5, 0.5, 0.5, 0.5], [1, 1, 1, 1], [0.5, 0.5, 0.5, 0.5], [1, 1, 1, 1], [0.5, 0.5, 0.5, 0.5], [1, 1, 1, 1], [0.5, 0.5, 0.5, 0.5], [1, 1, 1, 1], [0.5, 0.5, 0.5, 0.5], [1, 1, 1, 1], [0.5, 0.5, 0.5, 0.5], [1, 1, 1, 1], [0.5, 0.5, 0.5, 0.5], [1, 1, 1, 1], [0.5, 0.5, 0.5, 0.5], [1, 1, 1, 1]]}], {\"margin\": {\"t\": 0, \"l\": 0, \"b\": 0, \"r\": 0}, \"xaxis\": {\"gridwidth\": 2, \"zeroline\": false, \"tick0\": -0.5, \"ticks\": \"\", \"showticklabels\": false, \"dtick\": 1}, \"yaxis\": {\"gridwidth\": 2, \"autorange\": \"reversed\", \"zeroline\": false, \"showticklabels\": false, \"ticks\": \"\", \"tick0\": 0.5, \"dtick\": 1}, \"height\": 2540, \"annotations\": [{\"xanchor\": \"left\", \"showarrow\": false, \"y\": 0, \"xref\": \"x1\", \"font\": {\"color\": \"#ffffff\"}, \"x\": -0.45, \"yref\": \"y1\", \"align\": \"left\", \"text\": \"<b>Project</b>\"}, {\"xanchor\": \"left\", \"showarrow\": false, \"y\": 0, \"xref\": \"x1\", \"font\": {\"color\": \"#ffffff\"}, \"x\": 0.55, \"yref\": \"y1\", \"align\": \"left\", \"text\": \"<b>Org</b>\"}, {\"xanchor\": \"left\", \"showarrow\": false, \"y\": 0, \"xref\": \"x1\", \"font\": {\"color\": \"#ffffff\"}, \"x\": 1.55, \"yref\": \"y1\", \"align\": \"left\", \"text\": \"<b>Repo</b>\"}, {\"xanchor\": \"left\", \"showarrow\": false, \"y\": 0, \"xref\": \"x1\", \"font\": {\"color\": \"#ffffff\"}, \"x\": 2.55, \"yref\": \"y1\", \"align\": \"left\", \"text\": \"<b>uuid</b>\"}, {\"xanchor\": \"left\", \"showarrow\": false, \"y\": 1, \"xref\": \"x1\", \"font\": {\"color\": \"#000000\"}, \"x\": -0.45, \"yref\": \"y1\", \"align\": \"left\", \"text\": \"Gecko\"}, {\"xanchor\": \"left\", \"showarrow\": false, \"y\": 1, \"xref\": \"x1\", \"font\": {\"color\": \"#000000\"}, \"x\": 0.55, \"yref\": \"y1\", \"align\": \"left\", \"text\": \"Community\"}, {\"xanchor\": \"left\", \"showarrow\": false, \"y\": 1, \"xref\": \"x1\", \"font\": {\"color\": \"#000000\"}, \"x\": 1.55, \"yref\": \"y1\", \"align\": \"left\", \"text\": \"5\"}, {\"xanchor\": \"left\", \"showarrow\": false, \"y\": 1, \"xref\": \"x1\", \"font\": {\"color\": \"#000000\"}, \"x\": 2.55, \"yref\": \"y1\", \"align\": \"left\", \"text\": \"3974\"}, {\"xanchor\": \"left\", \"showarrow\": false, \"y\": 2, \"xref\": \"x1\", \"font\": {\"color\": \"#000000\"}, \"x\": -0.45, \"yref\": \"y1\", \"align\": \"left\", \"text\": \"Rust\"}, {\"xanchor\": \"left\", \"showarrow\": false, \"y\": 2, \"xref\": \"x1\", \"font\": {\"color\": \"#000000\"}, \"x\": 0.55, \"yref\": \"y1\", \"align\": \"left\", \"text\": \"Community\"}, {\"xanchor\": \"left\", \"showarrow\": false, \"y\": 2, \"xref\": \"x1\", \"font\": {\"color\": \"#000000\"}, \"x\": 1.55, \"yref\": \"y1\", \"align\": \"left\", \"text\": \"25\"}, {\"xanchor\": \"left\", \"showarrow\": false, \"y\": 2, \"xref\": \"x1\", \"font\": {\"color\": \"#000000\"}, \"x\": 2.55, \"yref\": \"y1\", \"align\": \"left\", \"text\": \"2361\"}, {\"xanchor\": \"left\", \"showarrow\": false, \"y\": 3, \"xref\": \"x1\", \"font\": {\"color\": \"#000000\"}, \"x\": -0.45, \"yref\": \"y1\", \"align\": \"left\", \"text\": \"IT/Ops\"}, {\"xanchor\": \"left\", \"showarrow\": false, \"y\": 3, \"xref\": \"x1\", \"font\": {\"color\": \"#000000\"}, \"x\": 0.55, \"yref\": \"y1\", \"align\": \"left\", \"text\": \"Community\"}, {\"xanchor\": \"left\", \"showarrow\": false, \"y\": 3, \"xref\": \"x1\", \"font\": {\"color\": \"#000000\"}, \"x\": 1.55, \"yref\": \"y1\", \"align\": \"left\", \"text\": \"75\"}, {\"xanchor\": \"left\", \"showarrow\": false, \"y\": 3, \"xref\": \"x1\", \"font\": {\"color\": \"#000000\"}, \"x\": 2.55, \"yref\": \"y1\", \"align\": \"left\", \"text\": \"1468\"}, {\"xanchor\": \"left\", \"showarrow\": false, \"y\": 4, \"xref\": \"x1\", \"font\": {\"color\": \"#000000\"}, \"x\": -0.45, \"yref\": \"y1\", \"align\": \"left\", \"text\": \"Gecko\"}, {\"xanchor\": \"left\", \"showarrow\": false, \"y\": 4, \"xref\": \"x1\", \"font\": {\"color\": \"#000000\"}, \"x\": 0.55, \"yref\": \"y1\", \"align\": \"left\", \"text\": \"Mozilla Staff\"}, {\"xanchor\": \"left\", \"showarrow\": false, \"y\": 4, \"xref\": \"x1\", \"font\": {\"color\": \"#000000\"}, \"x\": 1.55, \"yref\": \"y1\", \"align\": \"left\", \"text\": \"5\"}, {\"xanchor\": \"left\", \"showarrow\": false, \"y\": 4, \"xref\": \"x1\", \"font\": {\"color\": \"#000000\"}, \"x\": 2.55, \"yref\": \"y1\", \"align\": \"left\", \"text\": \"1379\"}, {\"xanchor\": \"left\", \"showarrow\": false, \"y\": 5, \"xref\": \"x1\", \"font\": {\"color\": \"#000000\"}, \"x\": -0.45, \"yref\": \"y1\", \"align\": \"left\", \"text\": \"Servo\"}, {\"xanchor\": \"left\", \"showarrow\": false, \"y\": 5, \"xref\": \"x1\", \"font\": {\"color\": \"#000000\"}, \"x\": 0.55, \"yref\": \"y1\", \"align\": \"left\", \"text\": \"Community\"}, {\"xanchor\": \"left\", \"showarrow\": false, \"y\": 5, \"xref\": \"x1\", \"font\": {\"color\": \"#000000\"}, \"x\": 1.55, \"yref\": \"y1\", \"align\": \"left\", \"text\": \"73\"}, {\"xanchor\": \"left\", \"showarrow\": false, \"y\": 5, \"xref\": \"x1\", \"font\": {\"color\": \"#000000\"}, \"x\": 2.55, \"yref\": \"y1\", \"align\": \"left\", \"text\": \"1239\"}, {\"xanchor\": \"left\", \"showarrow\": false, \"y\": 6, \"xref\": \"x1\", \"font\": {\"color\": \"#000000\"}, \"x\": -0.45, \"yref\": \"y1\", \"align\": \"left\", \"text\": \"Web Properties\"}, {\"xanchor\": \"left\", \"showarrow\": false, \"y\": 6, \"xref\": \"x1\", \"font\": {\"color\": \"#000000\"}, \"x\": 0.55, \"yref\": \"y1\", \"align\": \"left\", \"text\": \"Community\"}, {\"xanchor\": \"left\", \"showarrow\": false, \"y\": 6, \"xref\": \"x1\", \"font\": {\"color\": \"#000000\"}, \"x\": 1.55, \"yref\": \"y1\", \"align\": \"left\", \"text\": \"91\"}, {\"xanchor\": \"left\", \"showarrow\": false, \"y\": 6, \"xref\": \"x1\", \"font\": {\"color\": \"#000000\"}, \"x\": 2.55, \"yref\": \"y1\", \"align\": \"left\", \"text\": \"940\"}, {\"xanchor\": \"left\", \"showarrow\": false, \"y\": 7, \"xref\": \"x1\", \"font\": {\"color\": \"#000000\"}, \"x\": -0.45, \"yref\": \"y1\", \"align\": \"left\", \"text\": \"IT/Ops\"}, {\"xanchor\": \"left\", \"showarrow\": false, \"y\": 7, \"xref\": \"x1\", \"font\": {\"color\": \"#000000\"}, \"x\": 0.55, \"yref\": \"y1\", \"align\": \"left\", \"text\": \"Mozilla Staff\"}, {\"xanchor\": \"left\", \"showarrow\": false, \"y\": 7, \"xref\": \"x1\", \"font\": {\"color\": \"#000000\"}, \"x\": 1.55, \"yref\": \"y1\", \"align\": \"left\", \"text\": \"182\"}, {\"xanchor\": \"left\", \"showarrow\": false, \"y\": 7, \"xref\": \"x1\", \"font\": {\"color\": \"#000000\"}, \"x\": 2.55, \"yref\": \"y1\", \"align\": \"left\", \"text\": \"788\"}, {\"xanchor\": \"left\", \"showarrow\": false, \"y\": 8, \"xref\": \"x1\", \"font\": {\"color\": \"#000000\"}, \"x\": -0.45, \"yref\": \"y1\", \"align\": \"left\", \"text\": \"Web Properties\"}, {\"xanchor\": \"left\", \"showarrow\": false, \"y\": 8, \"xref\": \"x1\", \"font\": {\"color\": \"#000000\"}, \"x\": 0.55, \"yref\": \"y1\", \"align\": \"left\", \"text\": \"Mozilla Staff\"}, {\"xanchor\": \"left\", \"showarrow\": false, \"y\": 8, \"xref\": \"x1\", \"font\": {\"color\": \"#000000\"}, \"x\": 1.55, \"yref\": \"y1\", \"align\": \"left\", \"text\": \"113\"}, {\"xanchor\": \"left\", \"showarrow\": false, \"y\": 8, \"xref\": \"x1\", \"font\": {\"color\": \"#000000\"}, \"x\": 2.55, \"yref\": \"y1\", \"align\": \"left\", \"text\": \"396\"}, {\"xanchor\": \"left\", \"showarrow\": false, \"y\": 9, \"xref\": \"x1\", \"font\": {\"color\": \"#000000\"}, \"x\": -0.45, \"yref\": \"y1\", \"align\": \"left\", \"text\": \"Mozilla Local/Regional communities\"}, {\"xanchor\": \"left\", \"showarrow\": false, \"y\": 9, \"xref\": \"x1\", \"font\": {\"color\": \"#000000\"}, \"x\": 0.55, \"yref\": \"y1\", \"align\": \"left\", \"text\": \"Community\"}, {\"xanchor\": \"left\", \"showarrow\": false, \"y\": 9, \"xref\": \"x1\", \"font\": {\"color\": \"#000000\"}, \"x\": 1.55, \"yref\": \"y1\", \"align\": \"left\", \"text\": \"143\"}, {\"xanchor\": \"left\", \"showarrow\": false, \"y\": 9, \"xref\": \"x1\", \"font\": {\"color\": \"#000000\"}, \"x\": 2.55, \"yref\": \"y1\", \"align\": \"left\", \"text\": \"394\"}, {\"xanchor\": \"left\", \"showarrow\": false, \"y\": 10, \"xref\": \"x1\", \"font\": {\"color\": \"#000000\"}, \"x\": -0.45, \"yref\": \"y1\", \"align\": \"left\", \"text\": \"Addons/Web Extensions\"}, {\"xanchor\": \"left\", \"showarrow\": false, \"y\": 10, \"xref\": \"x1\", \"font\": {\"color\": \"#000000\"}, \"x\": 0.55, \"yref\": \"y1\", \"align\": \"left\", \"text\": \"Community\"}, {\"xanchor\": \"left\", \"showarrow\": false, \"y\": 10, \"xref\": \"x1\", \"font\": {\"color\": \"#000000\"}, \"x\": 1.55, \"yref\": \"y1\", \"align\": \"left\", \"text\": \"11\"}, {\"xanchor\": \"left\", \"showarrow\": false, \"y\": 10, \"xref\": \"x1\", \"font\": {\"color\": \"#000000\"}, \"x\": 2.55, \"yref\": \"y1\", \"align\": \"left\", \"text\": \"361\"}, {\"xanchor\": \"left\", \"showarrow\": false, \"y\": 11, \"xref\": \"x1\", \"font\": {\"color\": \"#000000\"}, \"x\": -0.45, \"yref\": \"y1\", \"align\": \"left\", \"text\": \"Addons/Web Extensions\"}, {\"xanchor\": \"left\", \"showarrow\": false, \"y\": 11, \"xref\": \"x1\", \"font\": {\"color\": \"#000000\"}, \"x\": 0.55, \"yref\": \"y1\", \"align\": \"left\", \"text\": \"Mozilla Staff\"}, {\"xanchor\": \"left\", \"showarrow\": false, \"y\": 11, \"xref\": \"x1\", \"font\": {\"color\": \"#000000\"}, \"x\": 1.55, \"yref\": \"y1\", \"align\": \"left\", \"text\": \"19\"}, {\"xanchor\": \"left\", \"showarrow\": false, \"y\": 11, \"xref\": \"x1\", \"font\": {\"color\": \"#000000\"}, \"x\": 2.55, \"yref\": \"y1\", \"align\": \"left\", \"text\": \"284\"}, {\"xanchor\": \"left\", \"showarrow\": false, \"y\": 12, \"xref\": \"x1\", \"font\": {\"color\": \"#000000\"}, \"x\": -0.45, \"yref\": \"y1\", \"align\": \"left\", \"text\": \"Release engineering\"}, {\"xanchor\": \"left\", \"showarrow\": false, \"y\": 12, \"xref\": \"x1\", \"font\": {\"color\": \"#000000\"}, \"x\": 0.55, \"yref\": \"y1\", \"align\": \"left\", \"text\": \"Mozilla Staff\"}, {\"xanchor\": \"left\", \"showarrow\": false, \"y\": 12, \"xref\": \"x1\", \"font\": {\"color\": \"#000000\"}, \"x\": 1.55, \"yref\": \"y1\", \"align\": \"left\", \"text\": \"22\"}, {\"xanchor\": \"left\", \"showarrow\": false, \"y\": 12, \"xref\": \"x1\", \"font\": {\"color\": \"#000000\"}, \"x\": 2.55, \"yref\": \"y1\", \"align\": \"left\", \"text\": \"218\"}, {\"xanchor\": \"left\", \"showarrow\": false, \"y\": 13, \"xref\": \"x1\", \"font\": {\"color\": \"#000000\"}, \"x\": -0.45, \"yref\": \"y1\", \"align\": \"left\", \"text\": \"WebVR\"}, {\"xanchor\": \"left\", \"showarrow\": false, \"y\": 13, \"xref\": \"x1\", \"font\": {\"color\": \"#000000\"}, \"x\": 0.55, \"yref\": \"y1\", \"align\": \"left\", \"text\": \"Community\"}, {\"xanchor\": \"left\", \"showarrow\": false, \"y\": 13, \"xref\": \"x1\", \"font\": {\"color\": \"#000000\"}, \"x\": 1.55, \"yref\": \"y1\", \"align\": \"left\", \"text\": \"19\"}, {\"xanchor\": \"left\", \"showarrow\": false, \"y\": 13, \"xref\": \"x1\", \"font\": {\"color\": \"#000000\"}, \"x\": 2.55, \"yref\": \"y1\", \"align\": \"left\", \"text\": \"215\"}, {\"xanchor\": \"left\", \"showarrow\": false, \"y\": 14, \"xref\": \"x1\", \"font\": {\"color\": \"#000000\"}, \"x\": -0.45, \"yref\": \"y1\", \"align\": \"left\", \"text\": \"Servo\"}, {\"xanchor\": \"left\", \"showarrow\": false, \"y\": 14, \"xref\": \"x1\", \"font\": {\"color\": \"#000000\"}, \"x\": 0.55, \"yref\": \"y1\", \"align\": \"left\", \"text\": \"Mozilla Staff\"}, {\"xanchor\": \"left\", \"showarrow\": false, \"y\": 14, \"xref\": \"x1\", \"font\": {\"color\": \"#000000\"}, \"x\": 1.55, \"yref\": \"y1\", \"align\": \"left\", \"text\": \"80\"}, {\"xanchor\": \"left\", \"showarrow\": false, \"y\": 14, \"xref\": \"x1\", \"font\": {\"color\": \"#000000\"}, \"x\": 2.55, \"yref\": \"y1\", \"align\": \"left\", \"text\": \"198\"}, {\"xanchor\": \"left\", \"showarrow\": false, \"y\": 15, \"xref\": \"x1\", \"font\": {\"color\": \"#000000\"}, \"x\": -0.45, \"yref\": \"y1\", \"align\": \"left\", \"text\": \"Web Literacy\"}, {\"xanchor\": \"left\", \"showarrow\": false, \"y\": 15, \"xref\": \"x1\", \"font\": {\"color\": \"#000000\"}, \"x\": 0.55, \"yref\": \"y1\", \"align\": \"left\", \"text\": \"Community\"}, {\"xanchor\": \"left\", \"showarrow\": false, \"y\": 15, \"xref\": \"x1\", \"font\": {\"color\": \"#000000\"}, \"x\": 1.55, \"yref\": \"y1\", \"align\": \"left\", \"text\": \"40\"}, {\"xanchor\": \"left\", \"showarrow\": false, \"y\": 15, \"xref\": \"x1\", \"font\": {\"color\": \"#000000\"}, \"x\": 2.55, \"yref\": \"y1\", \"align\": \"left\", \"text\": \"156\"}, {\"xanchor\": \"left\", \"showarrow\": false, \"y\": 16, \"xref\": \"x1\", \"font\": {\"color\": \"#000000\"}, \"x\": -0.45, \"yref\": \"y1\", \"align\": \"left\", \"text\": \"Rust\"}, {\"xanchor\": \"left\", \"showarrow\": false, \"y\": 16, \"xref\": \"x1\", \"font\": {\"color\": \"#000000\"}, \"x\": 0.55, \"yref\": \"y1\", \"align\": \"left\", \"text\": \"Mozilla Staff\"}, {\"xanchor\": \"left\", \"showarrow\": false, \"y\": 16, \"xref\": \"x1\", \"font\": {\"color\": \"#000000\"}, \"x\": 1.55, \"yref\": \"y1\", \"align\": \"left\", \"text\": \"27\"}, {\"xanchor\": \"left\", \"showarrow\": false, \"y\": 16, \"xref\": \"x1\", \"font\": {\"color\": \"#000000\"}, \"x\": 2.55, \"yref\": \"y1\", \"align\": \"left\", \"text\": \"141\"}, {\"xanchor\": \"left\", \"showarrow\": false, \"y\": 17, \"xref\": \"x1\", \"font\": {\"color\": \"#000000\"}, \"x\": -0.45, \"yref\": \"y1\", \"align\": \"left\", \"text\": \"Mozilla Developer Network (MDN)\"}, {\"xanchor\": \"left\", \"showarrow\": false, \"y\": 17, \"xref\": \"x1\", \"font\": {\"color\": \"#000000\"}, \"x\": 0.55, \"yref\": \"y1\", \"align\": \"left\", \"text\": \"Community\"}, {\"xanchor\": \"left\", \"showarrow\": false, \"y\": 17, \"xref\": \"x1\", \"font\": {\"color\": \"#000000\"}, \"x\": 1.55, \"yref\": \"y1\", \"align\": \"left\", \"text\": \"27\"}, {\"xanchor\": \"left\", \"showarrow\": false, \"y\": 17, \"xref\": \"x1\", \"font\": {\"color\": \"#000000\"}, \"x\": 2.55, \"yref\": \"y1\", \"align\": \"left\", \"text\": \"118\"}, {\"xanchor\": \"left\", \"showarrow\": false, \"y\": 18, \"xref\": \"x1\", \"font\": {\"color\": \"#000000\"}, \"x\": -0.45, \"yref\": \"y1\", \"align\": \"left\", \"text\": \"Firefox OS (FxOS / B2G)\"}, {\"xanchor\": \"left\", \"showarrow\": false, \"y\": 18, \"xref\": \"x1\", \"font\": {\"color\": \"#000000\"}, \"x\": 0.55, \"yref\": \"y1\", \"align\": \"left\", \"text\": \"Mozilla Staff\"}, {\"xanchor\": \"left\", \"showarrow\": false, \"y\": 18, \"xref\": \"x1\", \"font\": {\"color\": \"#000000\"}, \"x\": 1.55, \"yref\": \"y1\", \"align\": \"left\", \"text\": \"26\"}, {\"xanchor\": \"left\", \"showarrow\": false, \"y\": 18, \"xref\": \"x1\", \"font\": {\"color\": \"#000000\"}, \"x\": 2.55, \"yref\": \"y1\", \"align\": \"left\", \"text\": \"110\"}, {\"xanchor\": \"left\", \"showarrow\": false, \"y\": 19, \"xref\": \"x1\", \"font\": {\"color\": \"#000000\"}, \"x\": -0.45, \"yref\": \"y1\", \"align\": \"left\", \"text\": \"Mozilla Science\"}, {\"xanchor\": \"left\", \"showarrow\": false, \"y\": 19, \"xref\": \"x1\", \"font\": {\"color\": \"#000000\"}, \"x\": 0.55, \"yref\": \"y1\", \"align\": \"left\", \"text\": \"Community\"}, {\"xanchor\": \"left\", \"showarrow\": false, \"y\": 19, \"xref\": \"x1\", \"font\": {\"color\": \"#000000\"}, \"x\": 1.55, \"yref\": \"y1\", \"align\": \"left\", \"text\": \"34\"}, {\"xanchor\": \"left\", \"showarrow\": false, \"y\": 19, \"xref\": \"x1\", \"font\": {\"color\": \"#000000\"}, \"x\": 2.55, \"yref\": \"y1\", \"align\": \"left\", \"text\": \"100\"}, {\"xanchor\": \"left\", \"showarrow\": false, \"y\": 20, \"xref\": \"x1\", \"font\": {\"color\": \"#000000\"}, \"x\": -0.45, \"yref\": \"y1\", \"align\": \"left\", \"text\": \"Mozilla Local/Regional communities\"}, {\"xanchor\": \"left\", \"showarrow\": false, \"y\": 20, \"xref\": \"x1\", \"font\": {\"color\": \"#000000\"}, \"x\": 0.55, \"yref\": \"y1\", \"align\": \"left\", \"text\": \"Mozilla Staff\"}, {\"xanchor\": \"left\", \"showarrow\": false, \"y\": 20, \"xref\": \"x1\", \"font\": {\"color\": \"#000000\"}, \"x\": 1.55, \"yref\": \"y1\", \"align\": \"left\", \"text\": \"77\"}, {\"xanchor\": \"left\", \"showarrow\": false, \"y\": 20, \"xref\": \"x1\", \"font\": {\"color\": \"#000000\"}, \"x\": 2.55, \"yref\": \"y1\", \"align\": \"left\", \"text\": \"93\"}, {\"xanchor\": \"left\", \"showarrow\": false, \"y\": 21, \"xref\": \"x1\", \"font\": {\"color\": \"#000000\"}, \"x\": -0.45, \"yref\": \"y1\", \"align\": \"left\", \"text\": \"Test Pilot\"}, {\"xanchor\": \"left\", \"showarrow\": false, \"y\": 21, \"xref\": \"x1\", \"font\": {\"color\": \"#000000\"}, \"x\": 0.55, \"yref\": \"y1\", \"align\": \"left\", \"text\": \"Community\"}, {\"xanchor\": \"left\", \"showarrow\": false, \"y\": 21, \"xref\": \"x1\", \"font\": {\"color\": \"#000000\"}, \"x\": 1.55, \"yref\": \"y1\", \"align\": \"left\", \"text\": \"2\"}, {\"xanchor\": \"left\", \"showarrow\": false, \"y\": 21, \"xref\": \"x1\", \"font\": {\"color\": \"#000000\"}, \"x\": 2.55, \"yref\": \"y1\", \"align\": \"left\", \"text\": \"86\"}, {\"xanchor\": \"left\", \"showarrow\": false, \"y\": 22, \"xref\": \"x1\", \"font\": {\"color\": \"#000000\"}, \"x\": -0.45, \"yref\": \"y1\", \"align\": \"left\", \"text\": \"Localization\"}, {\"xanchor\": \"left\", \"showarrow\": false, \"y\": 22, \"xref\": \"x1\", \"font\": {\"color\": \"#000000\"}, \"x\": 0.55, \"yref\": \"y1\", \"align\": \"left\", \"text\": \"Community\"}, {\"xanchor\": \"left\", \"showarrow\": false, \"y\": 22, \"xref\": \"x1\", \"font\": {\"color\": \"#000000\"}, \"x\": 1.55, \"yref\": \"y1\", \"align\": \"left\", \"text\": \"4\"}, {\"xanchor\": \"left\", \"showarrow\": false, \"y\": 22, \"xref\": \"x1\", \"font\": {\"color\": \"#000000\"}, \"x\": 2.55, \"yref\": \"y1\", \"align\": \"left\", \"text\": \"86\"}, {\"xanchor\": \"left\", \"showarrow\": false, \"y\": 23, \"xref\": \"x1\", \"font\": {\"color\": \"#000000\"}, \"x\": -0.45, \"yref\": \"y1\", \"align\": \"left\", \"text\": \"Mozilla Foundation\"}, {\"xanchor\": \"left\", \"showarrow\": false, \"y\": 23, \"xref\": \"x1\", \"font\": {\"color\": \"#000000\"}, \"x\": 0.55, \"yref\": \"y1\", \"align\": \"left\", \"text\": \"Community\"}, {\"xanchor\": \"left\", \"showarrow\": false, \"y\": 23, \"xref\": \"x1\", \"font\": {\"color\": \"#000000\"}, \"x\": 1.55, \"yref\": \"y1\", \"align\": \"left\", \"text\": \"24\"}, {\"xanchor\": \"left\", \"showarrow\": false, \"y\": 23, \"xref\": \"x1\", \"font\": {\"color\": \"#000000\"}, \"x\": 2.55, \"yref\": \"y1\", \"align\": \"left\", \"text\": \"85\"}, {\"xanchor\": \"left\", \"showarrow\": false, \"y\": 24, \"xref\": \"x1\", \"font\": {\"color\": \"#000000\"}, \"x\": -0.45, \"yref\": \"y1\", \"align\": \"left\", \"text\": \"Firefox OS (FxOS / B2G)\"}, {\"xanchor\": \"left\", \"showarrow\": false, \"y\": 24, \"xref\": \"x1\", \"font\": {\"color\": \"#000000\"}, \"x\": 0.55, \"yref\": \"y1\", \"align\": \"left\", \"text\": \"Community\"}, {\"xanchor\": \"left\", \"showarrow\": false, \"y\": 24, \"xref\": \"x1\", \"font\": {\"color\": \"#000000\"}, \"x\": 1.55, \"yref\": \"y1\", \"align\": \"left\", \"text\": \"17\"}, {\"xanchor\": \"left\", \"showarrow\": false, \"y\": 24, \"xref\": \"x1\", \"font\": {\"color\": \"#000000\"}, \"x\": 2.55, \"yref\": \"y1\", \"align\": \"left\", \"text\": \"84\"}, {\"xanchor\": \"left\", \"showarrow\": false, \"y\": 25, \"xref\": \"x1\", \"font\": {\"color\": \"#000000\"}, \"x\": -0.45, \"yref\": \"y1\", \"align\": \"left\", \"text\": \"Mozilla Location Service (MLS) / Stumbler\"}, {\"xanchor\": \"left\", \"showarrow\": false, \"y\": 25, \"xref\": \"x1\", \"font\": {\"color\": \"#000000\"}, \"x\": 0.55, \"yref\": \"y1\", \"align\": \"left\", \"text\": \"Community\"}, {\"xanchor\": \"left\", \"showarrow\": false, \"y\": 25, \"xref\": \"x1\", \"font\": {\"color\": \"#000000\"}, \"x\": 1.55, \"yref\": \"y1\", \"align\": \"left\", \"text\": \"1\"}, {\"xanchor\": \"left\", \"showarrow\": false, \"y\": 25, \"xref\": \"x1\", \"font\": {\"color\": \"#000000\"}, \"x\": 2.55, \"yref\": \"y1\", \"align\": \"left\", \"text\": \"73\"}, {\"xanchor\": \"left\", \"showarrow\": false, \"y\": 26, \"xref\": \"x1\", \"font\": {\"color\": \"#000000\"}, \"x\": -0.45, \"yref\": \"y1\", \"align\": \"left\", \"text\": \"Release engineering\"}, {\"xanchor\": \"left\", \"showarrow\": false, \"y\": 26, \"xref\": \"x1\", \"font\": {\"color\": \"#000000\"}, \"x\": 0.55, \"yref\": \"y1\", \"align\": \"left\", \"text\": \"Community\"}, {\"xanchor\": \"left\", \"showarrow\": false, \"y\": 26, \"xref\": \"x1\", \"font\": {\"color\": \"#000000\"}, \"x\": 1.55, \"yref\": \"y1\", \"align\": \"left\", \"text\": \"9\"}, {\"xanchor\": \"left\", \"showarrow\": false, \"y\": 26, \"xref\": \"x1\", \"font\": {\"color\": \"#000000\"}, \"x\": 2.55, \"yref\": \"y1\", \"align\": \"left\", \"text\": \"67\"}, {\"xanchor\": \"left\", \"showarrow\": false, \"y\": 27, \"xref\": \"x1\", \"font\": {\"color\": \"#000000\"}, \"x\": -0.45, \"yref\": \"y1\", \"align\": \"left\", \"text\": \"Firefox iOS\"}, {\"xanchor\": \"left\", \"showarrow\": false, \"y\": 27, \"xref\": \"x1\", \"font\": {\"color\": \"#000000\"}, \"x\": 0.55, \"yref\": \"y1\", \"align\": \"left\", \"text\": \"Community\"}, {\"xanchor\": \"left\", \"showarrow\": false, \"y\": 27, \"xref\": \"x1\", \"font\": {\"color\": \"#000000\"}, \"x\": 1.55, \"yref\": \"y1\", \"align\": \"left\", \"text\": \"3\"}, {\"xanchor\": \"left\", \"showarrow\": false, \"y\": 27, \"xref\": \"x1\", \"font\": {\"color\": \"#000000\"}, \"x\": 2.55, \"yref\": \"y1\", \"align\": \"left\", \"text\": \"66\"}, {\"xanchor\": \"left\", \"showarrow\": false, \"y\": 28, \"xref\": \"x1\", \"font\": {\"color\": \"#000000\"}, \"x\": -0.45, \"yref\": \"y1\", \"align\": \"left\", \"text\": \"Mozilla Developer Network (MDN)\"}, {\"xanchor\": \"left\", \"showarrow\": false, \"y\": 28, \"xref\": \"x1\", \"font\": {\"color\": \"#000000\"}, \"x\": 0.55, \"yref\": \"y1\", \"align\": \"left\", \"text\": \"Mozilla Staff\"}, {\"xanchor\": \"left\", \"showarrow\": false, \"y\": 28, \"xref\": \"x1\", \"font\": {\"color\": \"#000000\"}, \"x\": 1.55, \"yref\": \"y1\", \"align\": \"left\", \"text\": \"47\"}, {\"xanchor\": \"left\", \"showarrow\": false, \"y\": 28, \"xref\": \"x1\", \"font\": {\"color\": \"#000000\"}, \"x\": 2.55, \"yref\": \"y1\", \"align\": \"left\", \"text\": \"53\"}, {\"xanchor\": \"left\", \"showarrow\": false, \"y\": 29, \"xref\": \"x1\", \"font\": {\"color\": \"#000000\"}, \"x\": -0.45, \"yref\": \"y1\", \"align\": \"left\", \"text\": \"Web Literacy\"}, {\"xanchor\": \"left\", \"showarrow\": false, \"y\": 29, \"xref\": \"x1\", \"font\": {\"color\": \"#000000\"}, \"x\": 0.55, \"yref\": \"y1\", \"align\": \"left\", \"text\": \"Mozilla Staff\"}, {\"xanchor\": \"left\", \"showarrow\": false, \"y\": 29, \"xref\": \"x1\", \"font\": {\"color\": \"#000000\"}, \"x\": 1.55, \"yref\": \"y1\", \"align\": \"left\", \"text\": \"51\"}, {\"xanchor\": \"left\", \"showarrow\": false, \"y\": 29, \"xref\": \"x1\", \"font\": {\"color\": \"#000000\"}, \"x\": 2.55, \"yref\": \"y1\", \"align\": \"left\", \"text\": \"53\"}, {\"xanchor\": \"left\", \"showarrow\": false, \"y\": 30, \"xref\": \"x1\", \"font\": {\"color\": \"#000000\"}, \"x\": -0.45, \"yref\": \"y1\", \"align\": \"left\", \"text\": \"Marketing / Social Media\"}, {\"xanchor\": \"left\", \"showarrow\": false, \"y\": 30, \"xref\": \"x1\", \"font\": {\"color\": \"#000000\"}, \"x\": 0.55, \"yref\": \"y1\", \"align\": \"left\", \"text\": \"Mozilla Staff\"}, {\"xanchor\": \"left\", \"showarrow\": false, \"y\": 30, \"xref\": \"x1\", \"font\": {\"color\": \"#000000\"}, \"x\": 1.55, \"yref\": \"y1\", \"align\": \"left\", \"text\": \"15\"}, {\"xanchor\": \"left\", \"showarrow\": false, \"y\": 30, \"xref\": \"x1\", \"font\": {\"color\": \"#000000\"}, \"x\": 2.55, \"yref\": \"y1\", \"align\": \"left\", \"text\": \"49\"}, {\"xanchor\": \"left\", \"showarrow\": false, \"y\": 31, \"xref\": \"x1\", \"font\": {\"color\": \"#000000\"}, \"x\": -0.45, \"yref\": \"y1\", \"align\": \"left\", \"text\": \"Test Pilot\"}, {\"xanchor\": \"left\", \"showarrow\": false, \"y\": 31, \"xref\": \"x1\", \"font\": {\"color\": \"#000000\"}, \"x\": 0.55, \"yref\": \"y1\", \"align\": \"left\", \"text\": \"Mozilla Staff\"}, {\"xanchor\": \"left\", \"showarrow\": false, \"y\": 31, \"xref\": \"x1\", \"font\": {\"color\": \"#000000\"}, \"x\": 1.55, \"yref\": \"y1\", \"align\": \"left\", \"text\": \"6\"}, {\"xanchor\": \"left\", \"showarrow\": false, \"y\": 31, \"xref\": \"x1\", \"font\": {\"color\": \"#000000\"}, \"x\": 2.55, \"yref\": \"y1\", \"align\": \"left\", \"text\": \"46\"}, {\"xanchor\": \"left\", \"showarrow\": false, \"y\": 32, \"xref\": \"x1\", \"font\": {\"color\": \"#000000\"}, \"x\": -0.45, \"yref\": \"y1\", \"align\": \"left\", \"text\": \"Quality Assurance\"}, {\"xanchor\": \"left\", \"showarrow\": false, \"y\": 32, \"xref\": \"x1\", \"font\": {\"color\": \"#000000\"}, \"x\": 0.55, \"yref\": \"y1\", \"align\": \"left\", \"text\": \"Mozilla Staff\"}, {\"xanchor\": \"left\", \"showarrow\": false, \"y\": 32, \"xref\": \"x1\", \"font\": {\"color\": \"#000000\"}, \"x\": 1.55, \"yref\": \"y1\", \"align\": \"left\", \"text\": \"3\"}, {\"xanchor\": \"left\", \"showarrow\": false, \"y\": 32, \"xref\": \"x1\", \"font\": {\"color\": \"#000000\"}, \"x\": 2.55, \"yref\": \"y1\", \"align\": \"left\", \"text\": \"45\"}, {\"xanchor\": \"left\", \"showarrow\": false, \"y\": 33, \"xref\": \"x1\", \"font\": {\"color\": \"#000000\"}, \"x\": -0.45, \"yref\": \"y1\", \"align\": \"left\", \"text\": \"Quality Assurance\"}, {\"xanchor\": \"left\", \"showarrow\": false, \"y\": 33, \"xref\": \"x1\", \"font\": {\"color\": \"#000000\"}, \"x\": 0.55, \"yref\": \"y1\", \"align\": \"left\", \"text\": \"Community\"}, {\"xanchor\": \"left\", \"showarrow\": false, \"y\": 33, \"xref\": \"x1\", \"font\": {\"color\": \"#000000\"}, \"x\": 1.55, \"yref\": \"y1\", \"align\": \"left\", \"text\": \"2\"}, {\"xanchor\": \"left\", \"showarrow\": false, \"y\": 33, \"xref\": \"x1\", \"font\": {\"color\": \"#000000\"}, \"x\": 2.55, \"yref\": \"y1\", \"align\": \"left\", \"text\": \"40\"}, {\"xanchor\": \"left\", \"showarrow\": false, \"y\": 34, \"xref\": \"x1\", \"font\": {\"color\": \"#000000\"}, \"x\": -0.45, \"yref\": \"y1\", \"align\": \"left\", \"text\": \"Advocacy and policy\"}, {\"xanchor\": \"left\", \"showarrow\": false, \"y\": 34, \"xref\": \"x1\", \"font\": {\"color\": \"#000000\"}, \"x\": 0.55, \"yref\": \"y1\", \"align\": \"left\", \"text\": \"Community\"}, {\"xanchor\": \"left\", \"showarrow\": false, \"y\": 34, \"xref\": \"x1\", \"font\": {\"color\": \"#000000\"}, \"x\": 1.55, \"yref\": \"y1\", \"align\": \"left\", \"text\": \"4\"}, {\"xanchor\": \"left\", \"showarrow\": false, \"y\": 34, \"xref\": \"x1\", \"font\": {\"color\": \"#000000\"}, \"x\": 2.55, \"yref\": \"y1\", \"align\": \"left\", \"text\": \"38\"}, {\"xanchor\": \"left\", \"showarrow\": false, \"y\": 35, \"xref\": \"x1\", \"font\": {\"color\": \"#000000\"}, \"x\": -0.45, \"yref\": \"y1\", \"align\": \"left\", \"text\": \"Localization\"}, {\"xanchor\": \"left\", \"showarrow\": false, \"y\": 35, \"xref\": \"x1\", \"font\": {\"color\": \"#000000\"}, \"x\": 0.55, \"yref\": \"y1\", \"align\": \"left\", \"text\": \"Mozilla Staff\"}, {\"xanchor\": \"left\", \"showarrow\": false, \"y\": 35, \"xref\": \"x1\", \"font\": {\"color\": \"#000000\"}, \"x\": 1.55, \"yref\": \"y1\", \"align\": \"left\", \"text\": \"4\"}, {\"xanchor\": \"left\", \"showarrow\": false, \"y\": 35, \"xref\": \"x1\", \"font\": {\"color\": \"#000000\"}, \"x\": 2.55, \"yref\": \"y1\", \"align\": \"left\", \"text\": \"35\"}, {\"xanchor\": \"left\", \"showarrow\": false, \"y\": 36, \"xref\": \"x1\", \"font\": {\"color\": \"#000000\"}, \"x\": -0.45, \"yref\": \"y1\", \"align\": \"left\", \"text\": \"Advocacy and policy\"}, {\"xanchor\": \"left\", \"showarrow\": false, \"y\": 36, \"xref\": \"x1\", \"font\": {\"color\": \"#000000\"}, \"x\": 0.55, \"yref\": \"y1\", \"align\": \"left\", \"text\": \"Mozilla Staff\"}, {\"xanchor\": \"left\", \"showarrow\": false, \"y\": 36, \"xref\": \"x1\", \"font\": {\"color\": \"#000000\"}, \"x\": 1.55, \"yref\": \"y1\", \"align\": \"left\", \"text\": \"4\"}, {\"xanchor\": \"left\", \"showarrow\": false, \"y\": 36, \"xref\": \"x1\", \"font\": {\"color\": \"#000000\"}, \"x\": 2.55, \"yref\": \"y1\", \"align\": \"left\", \"text\": \"33\"}, {\"xanchor\": \"left\", \"showarrow\": false, \"y\": 37, \"xref\": \"x1\", \"font\": {\"color\": \"#000000\"}, \"x\": -0.45, \"yref\": \"y1\", \"align\": \"left\", \"text\": \"Firefox iOS\"}, {\"xanchor\": \"left\", \"showarrow\": false, \"y\": 37, \"xref\": \"x1\", \"font\": {\"color\": \"#000000\"}, \"x\": 0.55, \"yref\": \"y1\", \"align\": \"left\", \"text\": \"Mozilla Staff\"}, {\"xanchor\": \"left\", \"showarrow\": false, \"y\": 37, \"xref\": \"x1\", \"font\": {\"color\": \"#000000\"}, \"x\": 1.55, \"yref\": \"y1\", \"align\": \"left\", \"text\": \"5\"}, {\"xanchor\": \"left\", \"showarrow\": false, \"y\": 37, \"xref\": \"x1\", \"font\": {\"color\": \"#000000\"}, \"x\": 2.55, \"yref\": \"y1\", \"align\": \"left\", \"text\": \"32\"}, {\"xanchor\": \"left\", \"showarrow\": false, \"y\": 38, \"xref\": \"x1\", \"font\": {\"color\": \"#000000\"}, \"x\": -0.45, \"yref\": \"y1\", \"align\": \"left\", \"text\": \"Mozilla Foundation\"}, {\"xanchor\": \"left\", \"showarrow\": false, \"y\": 38, \"xref\": \"x1\", \"font\": {\"color\": \"#000000\"}, \"x\": 0.55, \"yref\": \"y1\", \"align\": \"left\", \"text\": \"Mozilla Staff\"}, {\"xanchor\": \"left\", \"showarrow\": false, \"y\": 38, \"xref\": \"x1\", \"font\": {\"color\": \"#000000\"}, \"x\": 1.55, \"yref\": \"y1\", \"align\": \"left\", \"text\": \"36\"}, {\"xanchor\": \"left\", \"showarrow\": false, \"y\": 38, \"xref\": \"x1\", \"font\": {\"color\": \"#000000\"}, \"x\": 2.55, \"yref\": \"y1\", \"align\": \"left\", \"text\": \"30\"}, {\"xanchor\": \"left\", \"showarrow\": false, \"y\": 39, \"xref\": \"x1\", \"font\": {\"color\": \"#000000\"}, \"x\": -0.45, \"yref\": \"y1\", \"align\": \"left\", \"text\": \"WebVR\"}, {\"xanchor\": \"left\", \"showarrow\": false, \"y\": 39, \"xref\": \"x1\", \"font\": {\"color\": \"#000000\"}, \"x\": 0.55, \"yref\": \"y1\", \"align\": \"left\", \"text\": \"Mozilla Staff\"}, {\"xanchor\": \"left\", \"showarrow\": false, \"y\": 39, \"xref\": \"x1\", \"font\": {\"color\": \"#000000\"}, \"x\": 1.55, \"yref\": \"y1\", \"align\": \"left\", \"text\": \"29\"}, {\"xanchor\": \"left\", \"showarrow\": false, \"y\": 39, \"xref\": \"x1\", \"font\": {\"color\": \"#000000\"}, \"x\": 2.55, \"yref\": \"y1\", \"align\": \"left\", \"text\": \"27\"}, {\"xanchor\": \"left\", \"showarrow\": false, \"y\": 40, \"xref\": \"x1\", \"font\": {\"color\": \"#000000\"}, \"x\": -0.45, \"yref\": \"y1\", \"align\": \"left\", \"text\": \"Mozilla Creative & Design\"}, {\"xanchor\": \"left\", \"showarrow\": false, \"y\": 40, \"xref\": \"x1\", \"font\": {\"color\": \"#000000\"}, \"x\": 0.55, \"yref\": \"y1\", \"align\": \"left\", \"text\": \"Community\"}, {\"xanchor\": \"left\", \"showarrow\": false, \"y\": 40, \"xref\": \"x1\", \"font\": {\"color\": \"#000000\"}, \"x\": 1.55, \"yref\": \"y1\", \"align\": \"left\", \"text\": \"2\"}, {\"xanchor\": \"left\", \"showarrow\": false, \"y\": 40, \"xref\": \"x1\", \"font\": {\"color\": \"#000000\"}, \"x\": 2.55, \"yref\": \"y1\", \"align\": \"left\", \"text\": \"21\"}, {\"xanchor\": \"left\", \"showarrow\": false, \"y\": 41, \"xref\": \"x1\", \"font\": {\"color\": \"#000000\"}, \"x\": -0.45, \"yref\": \"y1\", \"align\": \"left\", \"text\": \"Firefox\"}, {\"xanchor\": \"left\", \"showarrow\": false, \"y\": 41, \"xref\": \"x1\", \"font\": {\"color\": \"#000000\"}, \"x\": 0.55, \"yref\": \"y1\", \"align\": \"left\", \"text\": \"Mozilla Staff\"}, {\"xanchor\": \"left\", \"showarrow\": false, \"y\": 41, \"xref\": \"x1\", \"font\": {\"color\": \"#000000\"}, \"x\": 1.55, \"yref\": \"y1\", \"align\": \"left\", \"text\": \"1\"}, {\"xanchor\": \"left\", \"showarrow\": false, \"y\": 41, \"xref\": \"x1\", \"font\": {\"color\": \"#000000\"}, \"x\": 2.55, \"yref\": \"y1\", \"align\": \"left\", \"text\": \"20\"}, {\"xanchor\": \"left\", \"showarrow\": false, \"y\": 42, \"xref\": \"x1\", \"font\": {\"color\": \"#000000\"}, \"x\": -0.45, \"yref\": \"y1\", \"align\": \"left\", \"text\": \"Mozilla Location Service (MLS) / Stumbler\"}, {\"xanchor\": \"left\", \"showarrow\": false, \"y\": 42, \"xref\": \"x1\", \"font\": {\"color\": \"#000000\"}, \"x\": 0.55, \"yref\": \"y1\", \"align\": \"left\", \"text\": \"Mozilla Staff\"}, {\"xanchor\": \"left\", \"showarrow\": false, \"y\": 42, \"xref\": \"x1\", \"font\": {\"color\": \"#000000\"}, \"x\": 1.55, \"yref\": \"y1\", \"align\": \"left\", \"text\": \"1\"}, {\"xanchor\": \"left\", \"showarrow\": false, \"y\": 42, \"xref\": \"x1\", \"font\": {\"color\": \"#000000\"}, \"x\": 2.55, \"yref\": \"y1\", \"align\": \"left\", \"text\": \"18\"}, {\"xanchor\": \"left\", \"showarrow\": false, \"y\": 43, \"xref\": \"x1\", \"font\": {\"color\": \"#000000\"}, \"x\": -0.45, \"yref\": \"y1\", \"align\": \"left\", \"text\": \"Marketing / Social Media\"}, {\"xanchor\": \"left\", \"showarrow\": false, \"y\": 43, \"xref\": \"x1\", \"font\": {\"color\": \"#000000\"}, \"x\": 0.55, \"yref\": \"y1\", \"align\": \"left\", \"text\": \"Community\"}, {\"xanchor\": \"left\", \"showarrow\": false, \"y\": 43, \"xref\": \"x1\", \"font\": {\"color\": \"#000000\"}, \"x\": 1.55, \"yref\": \"y1\", \"align\": \"left\", \"text\": \"7\"}, {\"xanchor\": \"left\", \"showarrow\": false, \"y\": 43, \"xref\": \"x1\", \"font\": {\"color\": \"#000000\"}, \"x\": 2.55, \"yref\": \"y1\", \"align\": \"left\", \"text\": \"16\"}, {\"xanchor\": \"left\", \"showarrow\": false, \"y\": 44, \"xref\": \"x1\", \"font\": {\"color\": \"#000000\"}, \"x\": -0.45, \"yref\": \"y1\", \"align\": \"left\", \"text\": \"Technical/Developer Evangelism\"}, {\"xanchor\": \"left\", \"showarrow\": false, \"y\": 44, \"xref\": \"x1\", \"font\": {\"color\": \"#000000\"}, \"x\": 0.55, \"yref\": \"y1\", \"align\": \"left\", \"text\": \"Community\"}, {\"xanchor\": \"left\", \"showarrow\": false, \"y\": 44, \"xref\": \"x1\", \"font\": {\"color\": \"#000000\"}, \"x\": 1.55, \"yref\": \"y1\", \"align\": \"left\", \"text\": \"6\"}, {\"xanchor\": \"left\", \"showarrow\": false, \"y\": 44, \"xref\": \"x1\", \"font\": {\"color\": \"#000000\"}, \"x\": 2.55, \"yref\": \"y1\", \"align\": \"left\", \"text\": \"16\"}, {\"xanchor\": \"left\", \"showarrow\": false, \"y\": 45, \"xref\": \"x1\", \"font\": {\"color\": \"#000000\"}, \"x\": -0.45, \"yref\": \"y1\", \"align\": \"left\", \"text\": \"Technical/Developer Evangelism\"}, {\"xanchor\": \"left\", \"showarrow\": false, \"y\": 45, \"xref\": \"x1\", \"font\": {\"color\": \"#000000\"}, \"x\": 0.55, \"yref\": \"y1\", \"align\": \"left\", \"text\": \"Mozilla Staff\"}, {\"xanchor\": \"left\", \"showarrow\": false, \"y\": 45, \"xref\": \"x1\", \"font\": {\"color\": \"#000000\"}, \"x\": 1.55, \"yref\": \"y1\", \"align\": \"left\", \"text\": \"17\"}, {\"xanchor\": \"left\", \"showarrow\": false, \"y\": 45, \"xref\": \"x1\", \"font\": {\"color\": \"#000000\"}, \"x\": 2.55, \"yref\": \"y1\", \"align\": \"left\", \"text\": \"14\"}, {\"xanchor\": \"left\", \"showarrow\": false, \"y\": 46, \"xref\": \"x1\", \"font\": {\"color\": \"#000000\"}, \"x\": -0.45, \"yref\": \"y1\", \"align\": \"left\", \"text\": \"Vaani\"}, {\"xanchor\": \"left\", \"showarrow\": false, \"y\": 46, \"xref\": \"x1\", \"font\": {\"color\": \"#000000\"}, \"x\": 0.55, \"yref\": \"y1\", \"align\": \"left\", \"text\": \"Mozilla Staff\"}, {\"xanchor\": \"left\", \"showarrow\": false, \"y\": 46, \"xref\": \"x1\", \"font\": {\"color\": \"#000000\"}, \"x\": 1.55, \"yref\": \"y1\", \"align\": \"left\", \"text\": \"8\"}, {\"xanchor\": \"left\", \"showarrow\": false, \"y\": 46, \"xref\": \"x1\", \"font\": {\"color\": \"#000000\"}, \"x\": 2.55, \"yref\": \"y1\", \"align\": \"left\", \"text\": \"11\"}, {\"xanchor\": \"left\", \"showarrow\": false, \"y\": 47, \"xref\": \"x1\", \"font\": {\"color\": \"#000000\"}, \"x\": -0.45, \"yref\": \"y1\", \"align\": \"left\", \"text\": \"Mozilla Creative & Design\"}, {\"xanchor\": \"left\", \"showarrow\": false, \"y\": 47, \"xref\": \"x1\", \"font\": {\"color\": \"#000000\"}, \"x\": 0.55, \"yref\": \"y1\", \"align\": \"left\", \"text\": \"Mozilla Staff\"}, {\"xanchor\": \"left\", \"showarrow\": false, \"y\": 47, \"xref\": \"x1\", \"font\": {\"color\": \"#000000\"}, \"x\": 1.55, \"yref\": \"y1\", \"align\": \"left\", \"text\": \"3\"}, {\"xanchor\": \"left\", \"showarrow\": false, \"y\": 47, \"xref\": \"x1\", \"font\": {\"color\": \"#000000\"}, \"x\": 2.55, \"yref\": \"y1\", \"align\": \"left\", \"text\": \"10\"}, {\"xanchor\": \"left\", \"showarrow\": false, \"y\": 48, \"xref\": \"x1\", \"font\": {\"color\": \"#000000\"}, \"x\": -0.45, \"yref\": \"y1\", \"align\": \"left\", \"text\": \"Firefox Focus\"}, {\"xanchor\": \"left\", \"showarrow\": false, \"y\": 48, \"xref\": \"x1\", \"font\": {\"color\": \"#000000\"}, \"x\": 0.55, \"yref\": \"y1\", \"align\": \"left\", \"text\": \"Mozilla Staff\"}, {\"xanchor\": \"left\", \"showarrow\": false, \"y\": 48, \"xref\": \"x1\", \"font\": {\"color\": \"#000000\"}, \"x\": 1.55, \"yref\": \"y1\", \"align\": \"left\", \"text\": \"2\"}, {\"xanchor\": \"left\", \"showarrow\": false, \"y\": 48, \"xref\": \"x1\", \"font\": {\"color\": \"#000000\"}, \"x\": 2.55, \"yref\": \"y1\", \"align\": \"left\", \"text\": \"10\"}, {\"xanchor\": \"left\", \"showarrow\": false, \"y\": 49, \"xref\": \"x1\", \"font\": {\"color\": \"#000000\"}, \"x\": -0.45, \"yref\": \"y1\", \"align\": \"left\", \"text\": \"Mozilla Science\"}, {\"xanchor\": \"left\", \"showarrow\": false, \"y\": 49, \"xref\": \"x1\", \"font\": {\"color\": \"#000000\"}, \"x\": 0.55, \"yref\": \"y1\", \"align\": \"left\", \"text\": \"Mozilla Staff\"}, {\"xanchor\": \"left\", \"showarrow\": false, \"y\": 49, \"xref\": \"x1\", \"font\": {\"color\": \"#000000\"}, \"x\": 1.55, \"yref\": \"y1\", \"align\": \"left\", \"text\": \"21\"}, {\"xanchor\": \"left\", \"showarrow\": false, \"y\": 49, \"xref\": \"x1\", \"font\": {\"color\": \"#000000\"}, \"x\": 2.55, \"yref\": \"y1\", \"align\": \"left\", \"text\": \"9\"}, {\"xanchor\": \"left\", \"showarrow\": false, \"y\": 50, \"xref\": \"x1\", \"font\": {\"color\": \"#000000\"}, \"x\": -0.45, \"yref\": \"y1\", \"align\": \"left\", \"text\": \"Gecko\"}, {\"xanchor\": \"left\", \"showarrow\": false, \"y\": 50, \"xref\": \"x1\", \"font\": {\"color\": \"#000000\"}, \"x\": 0.55, \"yref\": \"y1\", \"align\": \"left\", \"text\": \"Code Sheriff\"}, {\"xanchor\": \"left\", \"showarrow\": false, \"y\": 50, \"xref\": \"x1\", \"font\": {\"color\": \"#000000\"}, \"x\": 1.55, \"yref\": \"y1\", \"align\": \"left\", \"text\": \"3\"}, {\"xanchor\": \"left\", \"showarrow\": false, \"y\": 50, \"xref\": \"x1\", \"font\": {\"color\": \"#000000\"}, \"x\": 2.55, \"yref\": \"y1\", \"align\": \"left\", \"text\": \"8\"}, {\"xanchor\": \"left\", \"showarrow\": false, \"y\": 51, \"xref\": \"x1\", \"font\": {\"color\": \"#000000\"}, \"x\": -0.45, \"yref\": \"y1\", \"align\": \"left\", \"text\": \"Deep Speech\"}, {\"xanchor\": \"left\", \"showarrow\": false, \"y\": 51, \"xref\": \"x1\", \"font\": {\"color\": \"#000000\"}, \"x\": 0.55, \"yref\": \"y1\", \"align\": \"left\", \"text\": \"Community\"}, {\"xanchor\": \"left\", \"showarrow\": false, \"y\": 51, \"xref\": \"x1\", \"font\": {\"color\": \"#000000\"}, \"x\": 1.55, \"yref\": \"y1\", \"align\": \"left\", \"text\": \"1\"}, {\"xanchor\": \"left\", \"showarrow\": false, \"y\": 51, \"xref\": \"x1\", \"font\": {\"color\": \"#000000\"}, \"x\": 2.55, \"yref\": \"y1\", \"align\": \"left\", \"text\": \"8\"}, {\"xanchor\": \"left\", \"showarrow\": false, \"y\": 52, \"xref\": \"x1\", \"font\": {\"color\": \"#000000\"}, \"x\": -0.45, \"yref\": \"y1\", \"align\": \"left\", \"text\": \"Firefox Focus\"}, {\"xanchor\": \"left\", \"showarrow\": false, \"y\": 52, \"xref\": \"x1\", \"font\": {\"color\": \"#000000\"}, \"x\": 0.55, \"yref\": \"y1\", \"align\": \"left\", \"text\": \"Community\"}, {\"xanchor\": \"left\", \"showarrow\": false, \"y\": 52, \"xref\": \"x1\", \"font\": {\"color\": \"#000000\"}, \"x\": 1.55, \"yref\": \"y1\", \"align\": \"left\", \"text\": \"2\"}, {\"xanchor\": \"left\", \"showarrow\": false, \"y\": 52, \"xref\": \"x1\", \"font\": {\"color\": \"#000000\"}, \"x\": 2.55, \"yref\": \"y1\", \"align\": \"left\", \"text\": \"7\"}, {\"xanchor\": \"left\", \"showarrow\": false, \"y\": 53, \"xref\": \"x1\", \"font\": {\"color\": \"#000000\"}, \"x\": -0.45, \"yref\": \"y1\", \"align\": \"left\", \"text\": \"Firefox\"}, {\"xanchor\": \"left\", \"showarrow\": false, \"y\": 53, \"xref\": \"x1\", \"font\": {\"color\": \"#000000\"}, \"x\": 0.55, \"yref\": \"y1\", \"align\": \"left\", \"text\": \"Community\"}, {\"xanchor\": \"left\", \"showarrow\": false, \"y\": 53, \"xref\": \"x1\", \"font\": {\"color\": \"#000000\"}, \"x\": 1.55, \"yref\": \"y1\", \"align\": \"left\", \"text\": \"1\"}, {\"xanchor\": \"left\", \"showarrow\": false, \"y\": 53, \"xref\": \"x1\", \"font\": {\"color\": \"#000000\"}, \"x\": 2.55, \"yref\": \"y1\", \"align\": \"left\", \"text\": \"7\"}, {\"xanchor\": \"left\", \"showarrow\": false, \"y\": 54, \"xref\": \"x1\", \"font\": {\"color\": \"#000000\"}, \"x\": -0.45, \"yref\": \"y1\", \"align\": \"left\", \"text\": \"Deep Speech\"}, {\"xanchor\": \"left\", \"showarrow\": false, \"y\": 54, \"xref\": \"x1\", \"font\": {\"color\": \"#000000\"}, \"x\": 0.55, \"yref\": \"y1\", \"align\": \"left\", \"text\": \"Mozilla Staff\"}, {\"xanchor\": \"left\", \"showarrow\": false, \"y\": 54, \"xref\": \"x1\", \"font\": {\"color\": \"#000000\"}, \"x\": 1.55, \"yref\": \"y1\", \"align\": \"left\", \"text\": \"1\"}, {\"xanchor\": \"left\", \"showarrow\": false, \"y\": 54, \"xref\": \"x1\", \"font\": {\"color\": \"#000000\"}, \"x\": 2.55, \"yref\": \"y1\", \"align\": \"left\", \"text\": \"7\"}, {\"xanchor\": \"left\", \"showarrow\": false, \"y\": 55, \"xref\": \"x1\", \"font\": {\"color\": \"#000000\"}, \"x\": -0.45, \"yref\": \"y1\", \"align\": \"left\", \"text\": \"Addons/Web Extensions\"}, {\"xanchor\": \"left\", \"showarrow\": false, \"y\": 55, \"xref\": \"x1\", \"font\": {\"color\": \"#000000\"}, \"x\": 0.55, \"yref\": \"y1\", \"align\": \"left\", \"text\": \"Code Sheriff\"}, {\"xanchor\": \"left\", \"showarrow\": false, \"y\": 55, \"xref\": \"x1\", \"font\": {\"color\": \"#000000\"}, \"x\": 1.55, \"yref\": \"y1\", \"align\": \"left\", \"text\": \"4\"}, {\"xanchor\": \"left\", \"showarrow\": false, \"y\": 55, \"xref\": \"x1\", \"font\": {\"color\": \"#000000\"}, \"x\": 2.55, \"yref\": \"y1\", \"align\": \"left\", \"text\": \"6\"}, {\"xanchor\": \"left\", \"showarrow\": false, \"y\": 56, \"xref\": \"x1\", \"font\": {\"color\": \"#000000\"}, \"x\": -0.45, \"yref\": \"y1\", \"align\": \"left\", \"text\": \"Developer Tools\"}, {\"xanchor\": \"left\", \"showarrow\": false, \"y\": 56, \"xref\": \"x1\", \"font\": {\"color\": \"#000000\"}, \"x\": 0.55, \"yref\": \"y1\", \"align\": \"left\", \"text\": \"Mozilla Staff\"}, {\"xanchor\": \"left\", \"showarrow\": false, \"y\": 56, \"xref\": \"x1\", \"font\": {\"color\": \"#000000\"}, \"x\": 1.55, \"yref\": \"y1\", \"align\": \"left\", \"text\": \"4\"}, {\"xanchor\": \"left\", \"showarrow\": false, \"y\": 56, \"xref\": \"x1\", \"font\": {\"color\": \"#000000\"}, \"x\": 2.55, \"yref\": \"y1\", \"align\": \"left\", \"text\": \"6\"}, {\"xanchor\": \"left\", \"showarrow\": false, \"y\": 57, \"xref\": \"x1\", \"font\": {\"color\": \"#000000\"}, \"x\": -0.45, \"yref\": \"y1\", \"align\": \"left\", \"text\": \"Connected devices & IoT\"}, {\"xanchor\": \"left\", \"showarrow\": false, \"y\": 57, \"xref\": \"x1\", \"font\": {\"color\": \"#000000\"}, \"x\": 0.55, \"yref\": \"y1\", \"align\": \"left\", \"text\": \"Community\"}, {\"xanchor\": \"left\", \"showarrow\": false, \"y\": 57, \"xref\": \"x1\", \"font\": {\"color\": \"#000000\"}, \"x\": 1.55, \"yref\": \"y1\", \"align\": \"left\", \"text\": \"1\"}, {\"xanchor\": \"left\", \"showarrow\": false, \"y\": 57, \"xref\": \"x1\", \"font\": {\"color\": \"#000000\"}, \"x\": 2.55, \"yref\": \"y1\", \"align\": \"left\", \"text\": \"6\"}, {\"xanchor\": \"left\", \"showarrow\": false, \"y\": 58, \"xref\": \"x1\", \"font\": {\"color\": \"#000000\"}, \"x\": -0.45, \"yref\": \"y1\", \"align\": \"left\", \"text\": \"Mozilla Clubs\"}, {\"xanchor\": \"left\", \"showarrow\": false, \"y\": 58, \"xref\": \"x1\", \"font\": {\"color\": \"#000000\"}, \"x\": 0.55, \"yref\": \"y1\", \"align\": \"left\", \"text\": \"Mozilla Staff\"}, {\"xanchor\": \"left\", \"showarrow\": false, \"y\": 58, \"xref\": \"x1\", \"font\": {\"color\": \"#000000\"}, \"x\": 1.55, \"yref\": \"y1\", \"align\": \"left\", \"text\": \"9\"}, {\"xanchor\": \"left\", \"showarrow\": false, \"y\": 58, \"xref\": \"x1\", \"font\": {\"color\": \"#000000\"}, \"x\": 2.55, \"yref\": \"y1\", \"align\": \"left\", \"text\": \"6\"}, {\"xanchor\": \"left\", \"showarrow\": false, \"y\": 59, \"xref\": \"x1\", \"font\": {\"color\": \"#000000\"}, \"x\": -0.45, \"yref\": \"y1\", \"align\": \"left\", \"text\": \"IT/Ops\"}, {\"xanchor\": \"left\", \"showarrow\": false, \"y\": 59, \"xref\": \"x1\", \"font\": {\"color\": \"#000000\"}, \"x\": 0.55, \"yref\": \"y1\", \"align\": \"left\", \"text\": \"Code Sheriff\"}, {\"xanchor\": \"left\", \"showarrow\": false, \"y\": 59, \"xref\": \"x1\", \"font\": {\"color\": \"#000000\"}, \"x\": 1.55, \"yref\": \"y1\", \"align\": \"left\", \"text\": \"3\"}, {\"xanchor\": \"left\", \"showarrow\": false, \"y\": 59, \"xref\": \"x1\", \"font\": {\"color\": \"#000000\"}, \"x\": 2.55, \"yref\": \"y1\", \"align\": \"left\", \"text\": \"6\"}, {\"xanchor\": \"left\", \"showarrow\": false, \"y\": 60, \"xref\": \"x1\", \"font\": {\"color\": \"#000000\"}, \"x\": -0.45, \"yref\": \"y1\", \"align\": \"left\", \"text\": \"Campus Clubs (previously Student Ambassadors)\"}, {\"xanchor\": \"left\", \"showarrow\": false, \"y\": 60, \"xref\": \"x1\", \"font\": {\"color\": \"#000000\"}, \"x\": 0.55, \"yref\": \"y1\", \"align\": \"left\", \"text\": \"Mozilla Staff\"}, {\"xanchor\": \"left\", \"showarrow\": false, \"y\": 60, \"xref\": \"x1\", \"font\": {\"color\": \"#000000\"}, \"x\": 1.55, \"yref\": \"y1\", \"align\": \"left\", \"text\": \"5\"}, {\"xanchor\": \"left\", \"showarrow\": false, \"y\": 60, \"xref\": \"x1\", \"font\": {\"color\": \"#000000\"}, \"x\": 2.55, \"yref\": \"y1\", \"align\": \"left\", \"text\": \"5\"}, {\"xanchor\": \"left\", \"showarrow\": false, \"y\": 61, \"xref\": \"x1\", \"font\": {\"color\": \"#000000\"}, \"x\": -0.45, \"yref\": \"y1\", \"align\": \"left\", \"text\": \"Web Properties\"}, {\"xanchor\": \"left\", \"showarrow\": false, \"y\": 61, \"xref\": \"x1\", \"font\": {\"color\": \"#000000\"}, \"x\": 0.55, \"yref\": \"y1\", \"align\": \"left\", \"text\": \"Code Sheriff\"}, {\"xanchor\": \"left\", \"showarrow\": false, \"y\": 61, \"xref\": \"x1\", \"font\": {\"color\": \"#000000\"}, \"x\": 1.55, \"yref\": \"y1\", \"align\": \"left\", \"text\": \"6\"}, {\"xanchor\": \"left\", \"showarrow\": false, \"y\": 61, \"xref\": \"x1\", \"font\": {\"color\": \"#000000\"}, \"x\": 2.55, \"yref\": \"y1\", \"align\": \"left\", \"text\": \"4\"}, {\"xanchor\": \"left\", \"showarrow\": false, \"y\": 62, \"xref\": \"x1\", \"font\": {\"color\": \"#000000\"}, \"x\": -0.45, \"yref\": \"y1\", \"align\": \"left\", \"text\": \"Release engineering\"}, {\"xanchor\": \"left\", \"showarrow\": false, \"y\": 62, \"xref\": \"x1\", \"font\": {\"color\": \"#000000\"}, \"x\": 0.55, \"yref\": \"y1\", \"align\": \"left\", \"text\": \"Code Sheriff\"}, {\"xanchor\": \"left\", \"showarrow\": false, \"y\": 62, \"xref\": \"x1\", \"font\": {\"color\": \"#000000\"}, \"x\": 1.55, \"yref\": \"y1\", \"align\": \"left\", \"text\": \"5\"}, {\"xanchor\": \"left\", \"showarrow\": false, \"y\": 62, \"xref\": \"x1\", \"font\": {\"color\": \"#000000\"}, \"x\": 2.55, \"yref\": \"y1\", \"align\": \"left\", \"text\": \"4\"}, {\"xanchor\": \"left\", \"showarrow\": false, \"y\": 63, \"xref\": \"x1\", \"font\": {\"color\": \"#000000\"}, \"x\": -0.45, \"yref\": \"y1\", \"align\": \"left\", \"text\": \"Mozilla Clubs\"}, {\"xanchor\": \"left\", \"showarrow\": false, \"y\": 63, \"xref\": \"x1\", \"font\": {\"color\": \"#000000\"}, \"x\": 0.55, \"yref\": \"y1\", \"align\": \"left\", \"text\": \"Community\"}, {\"xanchor\": \"left\", \"showarrow\": false, \"y\": 63, \"xref\": \"x1\", \"font\": {\"color\": \"#000000\"}, \"x\": 1.55, \"yref\": \"y1\", \"align\": \"left\", \"text\": \"5\"}, {\"xanchor\": \"left\", \"showarrow\": false, \"y\": 63, \"xref\": \"x1\", \"font\": {\"color\": \"#000000\"}, \"x\": 2.55, \"yref\": \"y1\", \"align\": \"left\", \"text\": \"4\"}, {\"xanchor\": \"left\", \"showarrow\": false, \"y\": 64, \"xref\": \"x1\", \"font\": {\"color\": \"#000000\"}, \"x\": -0.45, \"yref\": \"y1\", \"align\": \"left\", \"text\": \"Developer Tools\"}, {\"xanchor\": \"left\", \"showarrow\": false, \"y\": 64, \"xref\": \"x1\", \"font\": {\"color\": \"#000000\"}, \"x\": 0.55, \"yref\": \"y1\", \"align\": \"left\", \"text\": \"Community\"}, {\"xanchor\": \"left\", \"showarrow\": false, \"y\": 64, \"xref\": \"x1\", \"font\": {\"color\": \"#000000\"}, \"x\": 1.55, \"yref\": \"y1\", \"align\": \"left\", \"text\": \"2\"}, {\"xanchor\": \"left\", \"showarrow\": false, \"y\": 64, \"xref\": \"x1\", \"font\": {\"color\": \"#000000\"}, \"x\": 2.55, \"yref\": \"y1\", \"align\": \"left\", \"text\": \"3\"}, {\"xanchor\": \"left\", \"showarrow\": false, \"y\": 65, \"xref\": \"x1\", \"font\": {\"color\": \"#000000\"}, \"x\": -0.45, \"yref\": \"y1\", \"align\": \"left\", \"text\": \"Firefox Android\"}, {\"xanchor\": \"left\", \"showarrow\": false, \"y\": 65, \"xref\": \"x1\", \"font\": {\"color\": \"#000000\"}, \"x\": 0.55, \"yref\": \"y1\", \"align\": \"left\", \"text\": \"Mozilla Staff\"}, {\"xanchor\": \"left\", \"showarrow\": false, \"y\": 65, \"xref\": \"x1\", \"font\": {\"color\": \"#000000\"}, \"x\": 1.55, \"yref\": \"y1\", \"align\": \"left\", \"text\": \"2\"}, {\"xanchor\": \"left\", \"showarrow\": false, \"y\": 65, \"xref\": \"x1\", \"font\": {\"color\": \"#000000\"}, \"x\": 2.55, \"yref\": \"y1\", \"align\": \"left\", \"text\": \"3\"}, {\"xanchor\": \"left\", \"showarrow\": false, \"y\": 66, \"xref\": \"x1\", \"font\": {\"color\": \"#000000\"}, \"x\": -0.45, \"yref\": \"y1\", \"align\": \"left\", \"text\": \"Connected devices & IoT\"}, {\"xanchor\": \"left\", \"showarrow\": false, \"y\": 66, \"xref\": \"x1\", \"font\": {\"color\": \"#000000\"}, \"x\": 0.55, \"yref\": \"y1\", \"align\": \"left\", \"text\": \"Mozilla Staff\"}, {\"xanchor\": \"left\", \"showarrow\": false, \"y\": 66, \"xref\": \"x1\", \"font\": {\"color\": \"#000000\"}, \"x\": 1.55, \"yref\": \"y1\", \"align\": \"left\", \"text\": \"1\"}, {\"xanchor\": \"left\", \"showarrow\": false, \"y\": 66, \"xref\": \"x1\", \"font\": {\"color\": \"#000000\"}, \"x\": 2.55, \"yref\": \"y1\", \"align\": \"left\", \"text\": \"3\"}, {\"xanchor\": \"left\", \"showarrow\": false, \"y\": 67, \"xref\": \"x1\", \"font\": {\"color\": \"#000000\"}, \"x\": -0.45, \"yref\": \"y1\", \"align\": \"left\", \"text\": \"Servo\"}, {\"xanchor\": \"left\", \"showarrow\": false, \"y\": 67, \"xref\": \"x1\", \"font\": {\"color\": \"#000000\"}, \"x\": 0.55, \"yref\": \"y1\", \"align\": \"left\", \"text\": \"Mozilla Reps\"}, {\"xanchor\": \"left\", \"showarrow\": false, \"y\": 67, \"xref\": \"x1\", \"font\": {\"color\": \"#000000\"}, \"x\": 1.55, \"yref\": \"y1\", \"align\": \"left\", \"text\": \"2\"}, {\"xanchor\": \"left\", \"showarrow\": false, \"y\": 67, \"xref\": \"x1\", \"font\": {\"color\": \"#000000\"}, \"x\": 2.55, \"yref\": \"y1\", \"align\": \"left\", \"text\": \"2\"}, {\"xanchor\": \"left\", \"showarrow\": false, \"y\": 68, \"xref\": \"x1\", \"font\": {\"color\": \"#000000\"}, \"x\": -0.45, \"yref\": \"y1\", \"align\": \"left\", \"text\": \"Web Properties\"}, {\"xanchor\": \"left\", \"showarrow\": false, \"y\": 68, \"xref\": \"x1\", \"font\": {\"color\": \"#000000\"}, \"x\": 0.55, \"yref\": \"y1\", \"align\": \"left\", \"text\": \"Mozilla Reps\"}, {\"xanchor\": \"left\", \"showarrow\": false, \"y\": 68, \"xref\": \"x1\", \"font\": {\"color\": \"#000000\"}, \"x\": 1.55, \"yref\": \"y1\", \"align\": \"left\", \"text\": \"4\"}, {\"xanchor\": \"left\", \"showarrow\": false, \"y\": 68, \"xref\": \"x1\", \"font\": {\"color\": \"#000000\"}, \"x\": 2.55, \"yref\": \"y1\", \"align\": \"left\", \"text\": \"2\"}, {\"xanchor\": \"left\", \"showarrow\": false, \"y\": 69, \"xref\": \"x1\", \"font\": {\"color\": \"#000000\"}, \"x\": -0.45, \"yref\": \"y1\", \"align\": \"left\", \"text\": \"Mozilla Local/Regional communities\"}, {\"xanchor\": \"left\", \"showarrow\": false, \"y\": 69, \"xref\": \"x1\", \"font\": {\"color\": \"#000000\"}, \"x\": 0.55, \"yref\": \"y1\", \"align\": \"left\", \"text\": \"Mozilla Reps\"}, {\"xanchor\": \"left\", \"showarrow\": false, \"y\": 69, \"xref\": \"x1\", \"font\": {\"color\": \"#000000\"}, \"x\": 1.55, \"yref\": \"y1\", \"align\": \"left\", \"text\": \"15\"}, {\"xanchor\": \"left\", \"showarrow\": false, \"y\": 69, \"xref\": \"x1\", \"font\": {\"color\": \"#000000\"}, \"x\": 2.55, \"yref\": \"y1\", \"align\": \"left\", \"text\": \"2\"}, {\"xanchor\": \"left\", \"showarrow\": false, \"y\": 70, \"xref\": \"x1\", \"font\": {\"color\": \"#000000\"}, \"x\": -0.45, \"yref\": \"y1\", \"align\": \"left\", \"text\": \"Campus Clubs (previously Student Ambassadors)\"}, {\"xanchor\": \"left\", \"showarrow\": false, \"y\": 70, \"xref\": \"x1\", \"font\": {\"color\": \"#000000\"}, \"x\": 0.55, \"yref\": \"y1\", \"align\": \"left\", \"text\": \"Community\"}, {\"xanchor\": \"left\", \"showarrow\": false, \"y\": 70, \"xref\": \"x1\", \"font\": {\"color\": \"#000000\"}, \"x\": 1.55, \"yref\": \"y1\", \"align\": \"left\", \"text\": \"1\"}, {\"xanchor\": \"left\", \"showarrow\": false, \"y\": 70, \"xref\": \"x1\", \"font\": {\"color\": \"#000000\"}, \"x\": 2.55, \"yref\": \"y1\", \"align\": \"left\", \"text\": \"1\"}, {\"xanchor\": \"left\", \"showarrow\": false, \"y\": 71, \"xref\": \"x1\", \"font\": {\"color\": \"#000000\"}, \"x\": -0.45, \"yref\": \"y1\", \"align\": \"left\", \"text\": \"Advocacy and policy\"}, {\"xanchor\": \"left\", \"showarrow\": false, \"y\": 71, \"xref\": \"x1\", \"font\": {\"color\": \"#000000\"}, \"x\": 0.55, \"yref\": \"y1\", \"align\": \"left\", \"text\": \"Code Sheriff\"}, {\"xanchor\": \"left\", \"showarrow\": false, \"y\": 71, \"xref\": \"x1\", \"font\": {\"color\": \"#000000\"}, \"x\": 1.55, \"yref\": \"y1\", \"align\": \"left\", \"text\": \"1\"}, {\"xanchor\": \"left\", \"showarrow\": false, \"y\": 71, \"xref\": \"x1\", \"font\": {\"color\": \"#000000\"}, \"x\": 2.55, \"yref\": \"y1\", \"align\": \"left\", \"text\": \"1\"}, {\"xanchor\": \"left\", \"showarrow\": false, \"y\": 72, \"xref\": \"x1\", \"font\": {\"color\": \"#000000\"}, \"x\": -0.45, \"yref\": \"y1\", \"align\": \"left\", \"text\": \"Web Literacy\"}, {\"xanchor\": \"left\", \"showarrow\": false, \"y\": 72, \"xref\": \"x1\", \"font\": {\"color\": \"#000000\"}, \"x\": 0.55, \"yref\": \"y1\", \"align\": \"left\", \"text\": \"Mozilla Reps\"}, {\"xanchor\": \"left\", \"showarrow\": false, \"y\": 72, \"xref\": \"x1\", \"font\": {\"color\": \"#000000\"}, \"x\": 1.55, \"yref\": \"y1\", \"align\": \"left\", \"text\": \"2\"}, {\"xanchor\": \"left\", \"showarrow\": false, \"y\": 72, \"xref\": \"x1\", \"font\": {\"color\": \"#000000\"}, \"x\": 2.55, \"yref\": \"y1\", \"align\": \"left\", \"text\": \"1\"}, {\"xanchor\": \"left\", \"showarrow\": false, \"y\": 73, \"xref\": \"x1\", \"font\": {\"color\": \"#000000\"}, \"x\": -0.45, \"yref\": \"y1\", \"align\": \"left\", \"text\": \"Mozilla Location Service (MLS) / Stumbler\"}, {\"xanchor\": \"left\", \"showarrow\": false, \"y\": 73, \"xref\": \"x1\", \"font\": {\"color\": \"#000000\"}, \"x\": 0.55, \"yref\": \"y1\", \"align\": \"left\", \"text\": \"Code Sheriff\"}, {\"xanchor\": \"left\", \"showarrow\": false, \"y\": 73, \"xref\": \"x1\", \"font\": {\"color\": \"#000000\"}, \"x\": 1.55, \"yref\": \"y1\", \"align\": \"left\", \"text\": \"1\"}, {\"xanchor\": \"left\", \"showarrow\": false, \"y\": 73, \"xref\": \"x1\", \"font\": {\"color\": \"#000000\"}, \"x\": 2.55, \"yref\": \"y1\", \"align\": \"left\", \"text\": \"1\"}, {\"xanchor\": \"left\", \"showarrow\": false, \"y\": 74, \"xref\": \"x1\", \"font\": {\"color\": \"#000000\"}, \"x\": -0.45, \"yref\": \"y1\", \"align\": \"left\", \"text\": \"Test Pilot\"}, {\"xanchor\": \"left\", \"showarrow\": false, \"y\": 74, \"xref\": \"x1\", \"font\": {\"color\": \"#000000\"}, \"x\": 0.55, \"yref\": \"y1\", \"align\": \"left\", \"text\": \"Code Sheriff\"}, {\"xanchor\": \"left\", \"showarrow\": false, \"y\": 74, \"xref\": \"x1\", \"font\": {\"color\": \"#000000\"}, \"x\": 1.55, \"yref\": \"y1\", \"align\": \"left\", \"text\": \"1\"}, {\"xanchor\": \"left\", \"showarrow\": false, \"y\": 74, \"xref\": \"x1\", \"font\": {\"color\": \"#000000\"}, \"x\": 2.55, \"yref\": \"y1\", \"align\": \"left\", \"text\": \"1\"}, {\"xanchor\": \"left\", \"showarrow\": false, \"y\": 75, \"xref\": \"x1\", \"font\": {\"color\": \"#000000\"}, \"x\": -0.45, \"yref\": \"y1\", \"align\": \"left\", \"text\": \"Vaani\"}, {\"xanchor\": \"left\", \"showarrow\": false, \"y\": 75, \"xref\": \"x1\", \"font\": {\"color\": \"#000000\"}, \"x\": 0.55, \"yref\": \"y1\", \"align\": \"left\", \"text\": \"Community\"}, {\"xanchor\": \"left\", \"showarrow\": false, \"y\": 75, \"xref\": \"x1\", \"font\": {\"color\": \"#000000\"}, \"x\": 1.55, \"yref\": \"y1\", \"align\": \"left\", \"text\": \"1\"}, {\"xanchor\": \"left\", \"showarrow\": false, \"y\": 75, \"xref\": \"x1\", \"font\": {\"color\": \"#000000\"}, \"x\": 2.55, \"yref\": \"y1\", \"align\": \"left\", \"text\": \"1\"}, {\"xanchor\": \"left\", \"showarrow\": false, \"y\": 76, \"xref\": \"x1\", \"font\": {\"color\": \"#000000\"}, \"x\": -0.45, \"yref\": \"y1\", \"align\": \"left\", \"text\": \"Firefox Android\"}, {\"xanchor\": \"left\", \"showarrow\": false, \"y\": 76, \"xref\": \"x1\", \"font\": {\"color\": \"#000000\"}, \"x\": 0.55, \"yref\": \"y1\", \"align\": \"left\", \"text\": \"Community\"}, {\"xanchor\": \"left\", \"showarrow\": false, \"y\": 76, \"xref\": \"x1\", \"font\": {\"color\": \"#000000\"}, \"x\": 1.55, \"yref\": \"y1\", \"align\": \"left\", \"text\": \"1\"}, {\"xanchor\": \"left\", \"showarrow\": false, \"y\": 76, \"xref\": \"x1\", \"font\": {\"color\": \"#000000\"}, \"x\": 2.55, \"yref\": \"y1\", \"align\": \"left\", \"text\": \"1\"}, {\"xanchor\": \"left\", \"showarrow\": false, \"y\": 77, \"xref\": \"x1\", \"font\": {\"color\": \"#000000\"}, \"x\": -0.45, \"yref\": \"y1\", \"align\": \"left\", \"text\": \"Gecko\"}, {\"xanchor\": \"left\", \"showarrow\": false, \"y\": 77, \"xref\": \"x1\", \"font\": {\"color\": \"#000000\"}, \"x\": 0.55, \"yref\": \"y1\", \"align\": \"left\", \"text\": \"Mozilla Reps\"}, {\"xanchor\": \"left\", \"showarrow\": false, \"y\": 77, \"xref\": \"x1\", \"font\": {\"color\": \"#000000\"}, \"x\": 1.55, \"yref\": \"y1\", \"align\": \"left\", \"text\": \"3\"}, {\"xanchor\": \"left\", \"showarrow\": false, \"y\": 77, \"xref\": \"x1\", \"font\": {\"color\": \"#000000\"}, \"x\": 2.55, \"yref\": \"y1\", \"align\": \"left\", \"text\": \"1\"}, {\"xanchor\": \"left\", \"showarrow\": false, \"y\": 78, \"xref\": \"x1\", \"font\": {\"color\": \"#000000\"}, \"x\": -0.45, \"yref\": \"y1\", \"align\": \"left\", \"text\": \"Marketing / Social Media\"}, {\"xanchor\": \"left\", \"showarrow\": false, \"y\": 78, \"xref\": \"x1\", \"font\": {\"color\": \"#000000\"}, \"x\": 0.55, \"yref\": \"y1\", \"align\": \"left\", \"text\": \"Code Sheriff\"}, {\"xanchor\": \"left\", \"showarrow\": false, \"y\": 78, \"xref\": \"x1\", \"font\": {\"color\": \"#000000\"}, \"x\": 1.55, \"yref\": \"y1\", \"align\": \"left\", \"text\": \"1\"}, {\"xanchor\": \"left\", \"showarrow\": false, \"y\": 78, \"xref\": \"x1\", \"font\": {\"color\": \"#000000\"}, \"x\": 2.55, \"yref\": \"y1\", \"align\": \"left\", \"text\": \"1\"}, {\"xanchor\": \"left\", \"showarrow\": false, \"y\": 79, \"xref\": \"x1\", \"font\": {\"color\": \"#000000\"}, \"x\": -0.45, \"yref\": \"y1\", \"align\": \"left\", \"text\": \"Servo\"}, {\"xanchor\": \"left\", \"showarrow\": false, \"y\": 79, \"xref\": \"x1\", \"font\": {\"color\": \"#000000\"}, \"x\": 0.55, \"yref\": \"y1\", \"align\": \"left\", \"text\": \"Code Sheriff\"}, {\"xanchor\": \"left\", \"showarrow\": false, \"y\": 79, \"xref\": \"x1\", \"font\": {\"color\": \"#000000\"}, \"x\": 1.55, \"yref\": \"y1\", \"align\": \"left\", \"text\": \"40\"}, {\"xanchor\": \"left\", \"showarrow\": false, \"y\": 79, \"xref\": \"x1\", \"font\": {\"color\": \"#000000\"}, \"x\": 2.55, \"yref\": \"y1\", \"align\": \"left\", \"text\": \"1\"}, {\"xanchor\": \"left\", \"showarrow\": false, \"y\": 80, \"xref\": \"x1\", \"font\": {\"color\": \"#000000\"}, \"x\": -0.45, \"yref\": \"y1\", \"align\": \"left\", \"text\": \"Rust\"}, {\"xanchor\": \"left\", \"showarrow\": false, \"y\": 80, \"xref\": \"x1\", \"font\": {\"color\": \"#000000\"}, \"x\": 0.55, \"yref\": \"y1\", \"align\": \"left\", \"text\": \"Code Sheriff\"}, {\"xanchor\": \"left\", \"showarrow\": false, \"y\": 80, \"xref\": \"x1\", \"font\": {\"color\": \"#000000\"}, \"x\": 1.55, \"yref\": \"y1\", \"align\": \"left\", \"text\": \"4\"}, {\"xanchor\": \"left\", \"showarrow\": false, \"y\": 80, \"xref\": \"x1\", \"font\": {\"color\": \"#000000\"}, \"x\": 2.55, \"yref\": \"y1\", \"align\": \"left\", \"text\": \"1\"}, {\"xanchor\": \"left\", \"showarrow\": false, \"y\": 81, \"xref\": \"x1\", \"font\": {\"color\": \"#000000\"}, \"x\": -0.45, \"yref\": \"y1\", \"align\": \"left\", \"text\": \"Mozilla Local/Regional communities\"}, {\"xanchor\": \"left\", \"showarrow\": false, \"y\": 81, \"xref\": \"x1\", \"font\": {\"color\": \"#000000\"}, \"x\": 0.55, \"yref\": \"y1\", \"align\": \"left\", \"text\": \"Code Sheriff\"}, {\"xanchor\": \"left\", \"showarrow\": false, \"y\": 81, \"xref\": \"x1\", \"font\": {\"color\": \"#000000\"}, \"x\": 1.55, \"yref\": \"y1\", \"align\": \"left\", \"text\": \"1\"}, {\"xanchor\": \"left\", \"showarrow\": false, \"y\": 81, \"xref\": \"x1\", \"font\": {\"color\": \"#000000\"}, \"x\": 2.55, \"yref\": \"y1\", \"align\": \"left\", \"text\": \"1\"}, {\"xanchor\": \"left\", \"showarrow\": false, \"y\": 82, \"xref\": \"x1\", \"font\": {\"color\": \"#000000\"}, \"x\": -0.45, \"yref\": \"y1\", \"align\": \"left\", \"text\": \"Mozilla Developer Network (MDN)\"}, {\"xanchor\": \"left\", \"showarrow\": false, \"y\": 82, \"xref\": \"x1\", \"font\": {\"color\": \"#000000\"}, \"x\": 0.55, \"yref\": \"y1\", \"align\": \"left\", \"text\": \"Mozilla Reps\"}, {\"xanchor\": \"left\", \"showarrow\": false, \"y\": 82, \"xref\": \"x1\", \"font\": {\"color\": \"#000000\"}, \"x\": 1.55, \"yref\": \"y1\", \"align\": \"left\", \"text\": \"1\"}, {\"xanchor\": \"left\", \"showarrow\": false, \"y\": 82, \"xref\": \"x1\", \"font\": {\"color\": \"#000000\"}, \"x\": 2.55, \"yref\": \"y1\", \"align\": \"left\", \"text\": \"1\"}]}, {\"showLink\": true, \"linkText\": \"Export to plot.ly\"})});</script>"
      ]
     },
     "metadata": {},
     "output_type": "display_data"
    }
   ],
   "source": [
    "s = create_search(source='git')\n",
    "\n",
    "# General filters\n",
    "s = add_general_date_filters(s)\n",
    "s = add_bot_filter(s)\n",
    "s = add_merges_filter(s)\n",
    "\n",
    "# Unique count of Commits by Project (max 100 projects)\n",
    "s.aggs.bucket('repos', 'terms', field='repo_name', size=100000)\\\n",
    "    .bucket('organizations', 'terms', field='author_org_name', size=100)\\\n",
    "    .bucket('contributors', 'terms', field='author_uuid', size=1000000)\n",
    "result = s.execute()\n",
    "\n",
    "# Process results to build a DataFrame\n",
    "i = 0\n",
    "repos_df = pandas.DataFrame(columns=['Repo', 'Org', 'uuid'])\n",
    "for repo in result.to_dict()['aggregations']['repos']['buckets']:\n",
    "    for org in repo['organizations']['buckets']:\n",
    "        for author in org['contributors']['buckets']:\n",
    "            repos_df.loc[len(repos_df)] = [repo['key'], org['key'], author['key']]\n",
    "            i += 1\n",
    "            if i % 10000 == 0:\n",
    "                print(i, end=', ')\n",
    "\n",
    "merged_df = repos_df.merge(projects['Github'], on='Repo', how='left')\n",
    "\n",
    "# Group By project\n",
    "projects_df = merged_df.groupby(['Project', 'Org']).agg({'uuid': pandas.Series.nunique, \n",
    "                                                         'Repo': pandas.Series.nunique})\n",
    "projects_df = projects_df.sort_values(by='uuid', ascending=0)\n",
    "\n",
    "# Print a table with this data\n",
    "plotly.offline.init_notebook_mode(connected=True)\n",
    "table = ff.create_table(projects_df.reset_index())\n",
    "plotly.offline.iplot(table, filename='git-projects-contributors-table.html')"
   ]
  },
  {
   "cell_type": "markdown",
   "metadata": {},
   "source": [
    "**Table above: Git Authors by Projects using Spreadsheet Data**"
   ]
  },
  {
   "cell_type": "markdown",
   "metadata": {},
   "source": [
    "#### Bugzilla\n",
    "\n",
    "In this case, we didn't have any project information in Bugzilla's index, so interesting data come within the second table, built using the new grouping. We use Product and Component to assign project name to Bugzilla entries."
   ]
  },
  {
   "cell_type": "code",
   "execution_count": 105,
   "metadata": {
    "collapsed": false,
    "scrolled": true
   },
   "outputs": [
    {
     "data": {
      "text/html": [
       "<div>\n",
       "<table border=\"1\" class=\"dataframe\">\n",
       "  <thead>\n",
       "    <tr style=\"text-align: right;\">\n",
       "      <th></th>\n",
       "      <th>Project</th>\n",
       "      <th># Authors</th>\n",
       "    </tr>\n",
       "  </thead>\n",
       "  <tbody>\n",
       "    <tr>\n",
       "      <th>0</th>\n",
       "      <td>unknown</td>\n",
       "      <td>184708</td>\n",
       "    </tr>\n",
       "  </tbody>\n",
       "</table>\n",
       "</div>"
      ],
      "text/plain": [
       "   Project  # Authors\n",
       "0  unknown     184708"
      ]
     },
     "execution_count": 105,
     "metadata": {},
     "output_type": "execute_result"
    }
   ],
   "source": [
    "s = create_search(source='bugzilla')\n",
    "\n",
    "# Unique count of Commits by Project (max 100 projects)\n",
    "s.aggs.bucket('projects', 'terms', field='project', size=100)\\\n",
    "    .metric('contributors', 'cardinality', field='author_uuid', precision_threshold=100000)\n",
    "result = s.execute()\n",
    "\n",
    "print_df(result=result, group_field='projects', value_field='contributors', \\\n",
    "         group_column='Project', value_column='# Authors')"
   ]
  },
  {
   "cell_type": "code",
   "execution_count": 11,
   "metadata": {
    "collapsed": false,
    "scrolled": false
   },
   "outputs": [
    {
     "name": "stdout",
     "output_type": "stream",
     "text": [
      "q1\n",
      "10000, 20000, 30000, 40000, 50000, 60000, 70000, 80000, Moz:  86562\n",
      "Moz merged:  86562\n",
      "q2\n",
      "10000, 20000, 30000, 40000, 50000, 60000, 70000, 80000, 90000, 100000, 110000, 120000, 130000, 140000, 150000, 160000, 170000, 180000, 190000, 200000, 210000, 220000, 230000, 240000, 250000, 260000, 270000, 280000, 290000, 300000, 310000, 320000, 330000, 340000, 350000, 360000, Non-moz:  365549\n",
      "Non-moz merged:  365549\n",
      "After concat\n"
     ]
    },
    {
     "data": {
      "text/html": [
       "<script>requirejs.config({paths: { 'plotly': ['https://cdn.plot.ly/plotly-latest.min']},});if(!window.Plotly) {{require(['plotly'],function(plotly) {window.Plotly=plotly;});}}</script>"
      ],
      "text/vnd.plotly.v1+html": [
       "<script>requirejs.config({paths: { 'plotly': ['https://cdn.plot.ly/plotly-latest.min']},});if(!window.Plotly) {{require(['plotly'],function(plotly) {window.Plotly=plotly;});}}</script>"
      ]
     },
     "metadata": {},
     "output_type": "display_data"
    },
    {
     "data": {
      "application/vnd.plotly.v1+json": {
       "data": [
        {
         "colorscale": [
          [
           0,
           "#00083e"
          ],
          [
           0.5,
           "#ededee"
          ],
          [
           1,
           "#ffffff"
          ]
         ],
         "hoverinfo": "none",
         "opacity": 0.75,
         "showscale": false,
         "type": "heatmap",
         "z": [
          [
           0,
           0,
           0,
           0,
           0
          ],
          [
           0.5,
           0.5,
           0.5,
           0.5,
           0.5
          ],
          [
           1,
           1,
           1,
           1,
           1
          ],
          [
           0.5,
           0.5,
           0.5,
           0.5,
           0.5
          ],
          [
           1,
           1,
           1,
           1,
           1
          ],
          [
           0.5,
           0.5,
           0.5,
           0.5,
           0.5
          ],
          [
           1,
           1,
           1,
           1,
           1
          ],
          [
           0.5,
           0.5,
           0.5,
           0.5,
           0.5
          ],
          [
           1,
           1,
           1,
           1,
           1
          ],
          [
           0.5,
           0.5,
           0.5,
           0.5,
           0.5
          ],
          [
           1,
           1,
           1,
           1,
           1
          ],
          [
           0.5,
           0.5,
           0.5,
           0.5,
           0.5
          ],
          [
           1,
           1,
           1,
           1,
           1
          ],
          [
           0.5,
           0.5,
           0.5,
           0.5,
           0.5
          ],
          [
           1,
           1,
           1,
           1,
           1
          ],
          [
           0.5,
           0.5,
           0.5,
           0.5,
           0.5
          ],
          [
           1,
           1,
           1,
           1,
           1
          ],
          [
           0.5,
           0.5,
           0.5,
           0.5,
           0.5
          ],
          [
           1,
           1,
           1,
           1,
           1
          ],
          [
           0.5,
           0.5,
           0.5,
           0.5,
           0.5
          ],
          [
           1,
           1,
           1,
           1,
           1
          ],
          [
           0.5,
           0.5,
           0.5,
           0.5,
           0.5
          ],
          [
           1,
           1,
           1,
           1,
           1
          ],
          [
           0.5,
           0.5,
           0.5,
           0.5,
           0.5
          ],
          [
           1,
           1,
           1,
           1,
           1
          ],
          [
           0.5,
           0.5,
           0.5,
           0.5,
           0.5
          ],
          [
           1,
           1,
           1,
           1,
           1
          ],
          [
           0.5,
           0.5,
           0.5,
           0.5,
           0.5
          ],
          [
           1,
           1,
           1,
           1,
           1
          ],
          [
           0.5,
           0.5,
           0.5,
           0.5,
           0.5
          ],
          [
           1,
           1,
           1,
           1,
           1
          ],
          [
           0.5,
           0.5,
           0.5,
           0.5,
           0.5
          ],
          [
           1,
           1,
           1,
           1,
           1
          ],
          [
           0.5,
           0.5,
           0.5,
           0.5,
           0.5
          ],
          [
           1,
           1,
           1,
           1,
           1
          ],
          [
           0.5,
           0.5,
           0.5,
           0.5,
           0.5
          ],
          [
           1,
           1,
           1,
           1,
           1
          ],
          [
           0.5,
           0.5,
           0.5,
           0.5,
           0.5
          ],
          [
           1,
           1,
           1,
           1,
           1
          ],
          [
           0.5,
           0.5,
           0.5,
           0.5,
           0.5
          ],
          [
           1,
           1,
           1,
           1,
           1
          ],
          [
           0.5,
           0.5,
           0.5,
           0.5,
           0.5
          ],
          [
           1,
           1,
           1,
           1,
           1
          ],
          [
           0.5,
           0.5,
           0.5,
           0.5,
           0.5
          ],
          [
           1,
           1,
           1,
           1,
           1
          ],
          [
           0.5,
           0.5,
           0.5,
           0.5,
           0.5
          ],
          [
           1,
           1,
           1,
           1,
           1
          ],
          [
           0.5,
           0.5,
           0.5,
           0.5,
           0.5
          ],
          [
           1,
           1,
           1,
           1,
           1
          ],
          [
           0.5,
           0.5,
           0.5,
           0.5,
           0.5
          ],
          [
           1,
           1,
           1,
           1,
           1
          ],
          [
           0.5,
           0.5,
           0.5,
           0.5,
           0.5
          ],
          [
           1,
           1,
           1,
           1,
           1
          ]
         ]
        }
       ],
       "layout": {
        "annotations": [
         {
          "align": "left",
          "font": {
           "color": "#ffffff"
          },
          "showarrow": false,
          "text": "<b>Project</b>",
          "x": -0.45,
          "xanchor": "left",
          "xref": "x1",
          "y": 0,
          "yref": "y1"
         },
         {
          "align": "left",
          "font": {
           "color": "#ffffff"
          },
          "showarrow": false,
          "text": "<b>Org</b>",
          "x": 0.55,
          "xanchor": "left",
          "xref": "x1",
          "y": 0,
          "yref": "y1"
         },
         {
          "align": "left",
          "font": {
           "color": "#ffffff"
          },
          "showarrow": false,
          "text": "<b>uuid</b>",
          "x": 1.55,
          "xanchor": "left",
          "xref": "x1",
          "y": 0,
          "yref": "y1"
         },
         {
          "align": "left",
          "font": {
           "color": "#ffffff"
          },
          "showarrow": false,
          "text": "<b>Product</b>",
          "x": 2.55,
          "xanchor": "left",
          "xref": "x1",
          "y": 0,
          "yref": "y1"
         },
         {
          "align": "left",
          "font": {
           "color": "#ffffff"
          },
          "showarrow": false,
          "text": "<b>Component</b>",
          "x": 3.55,
          "xanchor": "left",
          "xref": "x1",
          "y": 0,
          "yref": "y1"
         },
         {
          "align": "left",
          "font": {
           "color": "#000000"
          },
          "showarrow": false,
          "text": "Firefox",
          "x": -0.45,
          "xanchor": "left",
          "xref": "x1",
          "y": 1,
          "yref": "y1"
         },
         {
          "align": "left",
          "font": {
           "color": "#000000"
          },
          "showarrow": false,
          "text": "Non-Employees",
          "x": 0.55,
          "xanchor": "left",
          "xref": "x1",
          "y": 1,
          "yref": "y1"
         },
         {
          "align": "left",
          "font": {
           "color": "#000000"
          },
          "showarrow": false,
          "text": "71348",
          "x": 1.55,
          "xanchor": "left",
          "xref": "x1",
          "y": 1,
          "yref": "y1"
         },
         {
          "align": "left",
          "font": {
           "color": "#000000"
          },
          "showarrow": false,
          "text": "3",
          "x": 2.55,
          "xanchor": "left",
          "xref": "x1",
          "y": 1,
          "yref": "y1"
         },
         {
          "align": "left",
          "font": {
           "color": "#000000"
          },
          "showarrow": false,
          "text": "56",
          "x": 3.55,
          "xanchor": "left",
          "xref": "x1",
          "y": 1,
          "yref": "y1"
         },
         {
          "align": "left",
          "font": {
           "color": "#000000"
          },
          "showarrow": false,
          "text": "Gecko",
          "x": -0.45,
          "xanchor": "left",
          "xref": "x1",
          "y": 2,
          "yref": "y1"
         },
         {
          "align": "left",
          "font": {
           "color": "#000000"
          },
          "showarrow": false,
          "text": "Non-Employees",
          "x": 0.55,
          "xanchor": "left",
          "xref": "x1",
          "y": 2,
          "yref": "y1"
         },
         {
          "align": "left",
          "font": {
           "color": "#000000"
          },
          "showarrow": false,
          "text": "61384",
          "x": 1.55,
          "xanchor": "left",
          "xref": "x1",
          "y": 2,
          "yref": "y1"
         },
         {
          "align": "left",
          "font": {
           "color": "#000000"
          },
          "showarrow": false,
          "text": "5",
          "x": 2.55,
          "xanchor": "left",
          "xref": "x1",
          "y": 2,
          "yref": "y1"
         },
         {
          "align": "left",
          "font": {
           "color": "#000000"
          },
          "showarrow": false,
          "text": "245",
          "x": 3.55,
          "xanchor": "left",
          "xref": "x1",
          "y": 2,
          "yref": "y1"
         },
         {
          "align": "left",
          "font": {
           "color": "#000000"
          },
          "showarrow": false,
          "text": "Thunderbird",
          "x": -0.45,
          "xanchor": "left",
          "xref": "x1",
          "y": 3,
          "yref": "y1"
         },
         {
          "align": "left",
          "font": {
           "color": "#000000"
          },
          "showarrow": false,
          "text": "Non-Employees",
          "x": 0.55,
          "xanchor": "left",
          "xref": "x1",
          "y": 3,
          "yref": "y1"
         },
         {
          "align": "left",
          "font": {
           "color": "#000000"
          },
          "showarrow": false,
          "text": "29644",
          "x": 1.55,
          "xanchor": "left",
          "xref": "x1",
          "y": 3,
          "yref": "y1"
         },
         {
          "align": "left",
          "font": {
           "color": "#000000"
          },
          "showarrow": false,
          "text": "3",
          "x": 2.55,
          "xanchor": "left",
          "xref": "x1",
          "y": 3,
          "yref": "y1"
         },
         {
          "align": "left",
          "font": {
           "color": "#000000"
          },
          "showarrow": false,
          "text": "47",
          "x": 3.55,
          "xanchor": "left",
          "xref": "x1",
          "y": 3,
          "yref": "y1"
         },
         {
          "align": "left",
          "font": {
           "color": "#000000"
          },
          "showarrow": false,
          "text": "Technical/Developer Evangelism",
          "x": -0.45,
          "xanchor": "left",
          "xref": "x1",
          "y": 4,
          "yref": "y1"
         },
         {
          "align": "left",
          "font": {
           "color": "#000000"
          },
          "showarrow": false,
          "text": "Non-Employees",
          "x": 0.55,
          "xanchor": "left",
          "xref": "x1",
          "y": 4,
          "yref": "y1"
         },
         {
          "align": "left",
          "font": {
           "color": "#000000"
          },
          "showarrow": false,
          "text": "5249",
          "x": 1.55,
          "xanchor": "left",
          "xref": "x1",
          "y": 4,
          "yref": "y1"
         },
         {
          "align": "left",
          "font": {
           "color": "#000000"
          },
          "showarrow": false,
          "text": "3",
          "x": 2.55,
          "xanchor": "left",
          "xref": "x1",
          "y": 4,
          "yref": "y1"
         },
         {
          "align": "left",
          "font": {
           "color": "#000000"
          },
          "showarrow": false,
          "text": "44",
          "x": 3.55,
          "xanchor": "left",
          "xref": "x1",
          "y": 4,
          "yref": "y1"
         },
         {
          "align": "left",
          "font": {
           "color": "#000000"
          },
          "showarrow": false,
          "text": "Web Properties",
          "x": -0.45,
          "xanchor": "left",
          "xref": "x1",
          "y": 5,
          "yref": "y1"
         },
         {
          "align": "left",
          "font": {
           "color": "#000000"
          },
          "showarrow": false,
          "text": "Non-Employees",
          "x": 0.55,
          "xanchor": "left",
          "xref": "x1",
          "y": 5,
          "yref": "y1"
         },
         {
          "align": "left",
          "font": {
           "color": "#000000"
          },
          "showarrow": false,
          "text": "4254",
          "x": 1.55,
          "xanchor": "left",
          "xref": "x1",
          "y": 5,
          "yref": "y1"
         },
         {
          "align": "left",
          "font": {
           "color": "#000000"
          },
          "showarrow": false,
          "text": "16",
          "x": 2.55,
          "xanchor": "left",
          "xref": "x1",
          "y": 5,
          "yref": "y1"
         },
         {
          "align": "left",
          "font": {
           "color": "#000000"
          },
          "showarrow": false,
          "text": "166",
          "x": 3.55,
          "xanchor": "left",
          "xref": "x1",
          "y": 5,
          "yref": "y1"
         },
         {
          "align": "left",
          "font": {
           "color": "#000000"
          },
          "showarrow": false,
          "text": "IT/Ops",
          "x": -0.45,
          "xanchor": "left",
          "xref": "x1",
          "y": 6,
          "yref": "y1"
         },
         {
          "align": "left",
          "font": {
           "color": "#000000"
          },
          "showarrow": false,
          "text": "Non-Employees",
          "x": 0.55,
          "xanchor": "left",
          "xref": "x1",
          "y": 6,
          "yref": "y1"
         },
         {
          "align": "left",
          "font": {
           "color": "#000000"
          },
          "showarrow": false,
          "text": "2730",
          "x": 1.55,
          "xanchor": "left",
          "xref": "x1",
          "y": 6,
          "yref": "y1"
         },
         {
          "align": "left",
          "font": {
           "color": "#000000"
          },
          "showarrow": false,
          "text": "11",
          "x": 2.55,
          "xanchor": "left",
          "xref": "x1",
          "y": 6,
          "yref": "y1"
         },
         {
          "align": "left",
          "font": {
           "color": "#000000"
          },
          "showarrow": false,
          "text": "172",
          "x": 3.55,
          "xanchor": "left",
          "xref": "x1",
          "y": 6,
          "yref": "y1"
         },
         {
          "align": "left",
          "font": {
           "color": "#000000"
          },
          "showarrow": false,
          "text": "Firefox Android",
          "x": -0.45,
          "xanchor": "left",
          "xref": "x1",
          "y": 7,
          "yref": "y1"
         },
         {
          "align": "left",
          "font": {
           "color": "#000000"
          },
          "showarrow": false,
          "text": "Non-Employees",
          "x": 0.55,
          "xanchor": "left",
          "xref": "x1",
          "y": 7,
          "yref": "y1"
         },
         {
          "align": "left",
          "font": {
           "color": "#000000"
          },
          "showarrow": false,
          "text": "2484",
          "x": 1.55,
          "xanchor": "left",
          "xref": "x1",
          "y": 7,
          "yref": "y1"
         },
         {
          "align": "left",
          "font": {
           "color": "#000000"
          },
          "showarrow": false,
          "text": "2",
          "x": 2.55,
          "xanchor": "left",
          "xref": "x1",
          "y": 7,
          "yref": "y1"
         },
         {
          "align": "left",
          "font": {
           "color": "#000000"
          },
          "showarrow": false,
          "text": "36",
          "x": 3.55,
          "xanchor": "left",
          "xref": "x1",
          "y": 7,
          "yref": "y1"
         },
         {
          "align": "left",
          "font": {
           "color": "#000000"
          },
          "showarrow": false,
          "text": "IT/Ops",
          "x": -0.45,
          "xanchor": "left",
          "xref": "x1",
          "y": 8,
          "yref": "y1"
         },
         {
          "align": "left",
          "font": {
           "color": "#000000"
          },
          "showarrow": false,
          "text": "Employees",
          "x": 0.55,
          "xanchor": "left",
          "xref": "x1",
          "y": 8,
          "yref": "y1"
         },
         {
          "align": "left",
          "font": {
           "color": "#000000"
          },
          "showarrow": false,
          "text": "2242",
          "x": 1.55,
          "xanchor": "left",
          "xref": "x1",
          "y": 8,
          "yref": "y1"
         },
         {
          "align": "left",
          "font": {
           "color": "#000000"
          },
          "showarrow": false,
          "text": "11",
          "x": 2.55,
          "xanchor": "left",
          "xref": "x1",
          "y": 8,
          "yref": "y1"
         },
         {
          "align": "left",
          "font": {
           "color": "#000000"
          },
          "showarrow": false,
          "text": "213",
          "x": 3.55,
          "xanchor": "left",
          "xref": "x1",
          "y": 8,
          "yref": "y1"
         },
         {
          "align": "left",
          "font": {
           "color": "#000000"
          },
          "showarrow": false,
          "text": "Addons/Web Extensions",
          "x": -0.45,
          "xanchor": "left",
          "xref": "x1",
          "y": 9,
          "yref": "y1"
         },
         {
          "align": "left",
          "font": {
           "color": "#000000"
          },
          "showarrow": false,
          "text": "Non-Employees",
          "x": 0.55,
          "xanchor": "left",
          "xref": "x1",
          "y": 9,
          "yref": "y1"
         },
         {
          "align": "left",
          "font": {
           "color": "#000000"
          },
          "showarrow": false,
          "text": "2176",
          "x": 1.55,
          "xanchor": "left",
          "xref": "x1",
          "y": 9,
          "yref": "y1"
         },
         {
          "align": "left",
          "font": {
           "color": "#000000"
          },
          "showarrow": false,
          "text": "3",
          "x": 2.55,
          "xanchor": "left",
          "xref": "x1",
          "y": 9,
          "yref": "y1"
         },
         {
          "align": "left",
          "font": {
           "color": "#000000"
          },
          "showarrow": false,
          "text": "25",
          "x": 3.55,
          "xanchor": "left",
          "xref": "x1",
          "y": 9,
          "yref": "y1"
         },
         {
          "align": "left",
          "font": {
           "color": "#000000"
          },
          "showarrow": false,
          "text": "Firefox OS (FxOS / B2G)",
          "x": -0.45,
          "xanchor": "left",
          "xref": "x1",
          "y": 10,
          "yref": "y1"
         },
         {
          "align": "left",
          "font": {
           "color": "#000000"
          },
          "showarrow": false,
          "text": "Non-Employees",
          "x": 0.55,
          "xanchor": "left",
          "xref": "x1",
          "y": 10,
          "yref": "y1"
         },
         {
          "align": "left",
          "font": {
           "color": "#000000"
          },
          "showarrow": false,
          "text": "2022",
          "x": 1.55,
          "xanchor": "left",
          "xref": "x1",
          "y": 10,
          "yref": "y1"
         },
         {
          "align": "left",
          "font": {
           "color": "#000000"
          },
          "showarrow": false,
          "text": "4",
          "x": 2.55,
          "xanchor": "left",
          "xref": "x1",
          "y": 10,
          "yref": "y1"
         },
         {
          "align": "left",
          "font": {
           "color": "#000000"
          },
          "showarrow": false,
          "text": "113",
          "x": 3.55,
          "xanchor": "left",
          "xref": "x1",
          "y": 10,
          "yref": "y1"
         },
         {
          "align": "left",
          "font": {
           "color": "#000000"
          },
          "showarrow": false,
          "text": "Localization",
          "x": -0.45,
          "xanchor": "left",
          "xref": "x1",
          "y": 11,
          "yref": "y1"
         },
         {
          "align": "left",
          "font": {
           "color": "#000000"
          },
          "showarrow": false,
          "text": "Non-Employees",
          "x": 0.55,
          "xanchor": "left",
          "xref": "x1",
          "y": 11,
          "yref": "y1"
         },
         {
          "align": "left",
          "font": {
           "color": "#000000"
          },
          "showarrow": false,
          "text": "1935",
          "x": 1.55,
          "xanchor": "left",
          "xref": "x1",
          "y": 11,
          "yref": "y1"
         },
         {
          "align": "left",
          "font": {
           "color": "#000000"
          },
          "showarrow": false,
          "text": "4",
          "x": 2.55,
          "xanchor": "left",
          "xref": "x1",
          "y": 11,
          "yref": "y1"
         },
         {
          "align": "left",
          "font": {
           "color": "#000000"
          },
          "showarrow": false,
          "text": "115",
          "x": 3.55,
          "xanchor": "left",
          "xref": "x1",
          "y": 11,
          "yref": "y1"
         },
         {
          "align": "left",
          "font": {
           "color": "#000000"
          },
          "showarrow": false,
          "text": "Mozilla Developer Network (MDN)",
          "x": -0.45,
          "xanchor": "left",
          "xref": "x1",
          "y": 12,
          "yref": "y1"
         },
         {
          "align": "left",
          "font": {
           "color": "#000000"
          },
          "showarrow": false,
          "text": "Non-Employees",
          "x": 0.55,
          "xanchor": "left",
          "xref": "x1",
          "y": 12,
          "yref": "y1"
         },
         {
          "align": "left",
          "font": {
           "color": "#000000"
          },
          "showarrow": false,
          "text": "1866",
          "x": 1.55,
          "xanchor": "left",
          "xref": "x1",
          "y": 12,
          "yref": "y1"
         },
         {
          "align": "left",
          "font": {
           "color": "#000000"
          },
          "showarrow": false,
          "text": "2",
          "x": 2.55,
          "xanchor": "left",
          "xref": "x1",
          "y": 12,
          "yref": "y1"
         },
         {
          "align": "left",
          "font": {
           "color": "#000000"
          },
          "showarrow": false,
          "text": "53",
          "x": 3.55,
          "xanchor": "left",
          "xref": "x1",
          "y": 12,
          "yref": "y1"
         },
         {
          "align": "left",
          "font": {
           "color": "#000000"
          },
          "showarrow": false,
          "text": "Gecko",
          "x": -0.45,
          "xanchor": "left",
          "xref": "x1",
          "y": 13,
          "yref": "y1"
         },
         {
          "align": "left",
          "font": {
           "color": "#000000"
          },
          "showarrow": false,
          "text": "Employees",
          "x": 0.55,
          "xanchor": "left",
          "xref": "x1",
          "y": 13,
          "yref": "y1"
         },
         {
          "align": "left",
          "font": {
           "color": "#000000"
          },
          "showarrow": false,
          "text": "1679",
          "x": 1.55,
          "xanchor": "left",
          "xref": "x1",
          "y": 13,
          "yref": "y1"
         },
         {
          "align": "left",
          "font": {
           "color": "#000000"
          },
          "showarrow": false,
          "text": "5",
          "x": 2.55,
          "xanchor": "left",
          "xref": "x1",
          "y": 13,
          "yref": "y1"
         },
         {
          "align": "left",
          "font": {
           "color": "#000000"
          },
          "showarrow": false,
          "text": "234",
          "x": 3.55,
          "xanchor": "left",
          "xref": "x1",
          "y": 13,
          "yref": "y1"
         },
         {
          "align": "left",
          "font": {
           "color": "#000000"
          },
          "showarrow": false,
          "text": "Web Properties",
          "x": -0.45,
          "xanchor": "left",
          "xref": "x1",
          "y": 14,
          "yref": "y1"
         },
         {
          "align": "left",
          "font": {
           "color": "#000000"
          },
          "showarrow": false,
          "text": "Employees",
          "x": 0.55,
          "xanchor": "left",
          "xref": "x1",
          "y": 14,
          "yref": "y1"
         },
         {
          "align": "left",
          "font": {
           "color": "#000000"
          },
          "showarrow": false,
          "text": "1547",
          "x": 1.55,
          "xanchor": "left",
          "xref": "x1",
          "y": 14,
          "yref": "y1"
         },
         {
          "align": "left",
          "font": {
           "color": "#000000"
          },
          "showarrow": false,
          "text": "16",
          "x": 2.55,
          "xanchor": "left",
          "xref": "x1",
          "y": 14,
          "yref": "y1"
         },
         {
          "align": "left",
          "font": {
           "color": "#000000"
          },
          "showarrow": false,
          "text": "176",
          "x": 3.55,
          "xanchor": "left",
          "xref": "x1",
          "y": 14,
          "yref": "y1"
         },
         {
          "align": "left",
          "font": {
           "color": "#000000"
          },
          "showarrow": false,
          "text": "Firefox",
          "x": -0.45,
          "xanchor": "left",
          "xref": "x1",
          "y": 15,
          "yref": "y1"
         },
         {
          "align": "left",
          "font": {
           "color": "#000000"
          },
          "showarrow": false,
          "text": "Employees",
          "x": 0.55,
          "xanchor": "left",
          "xref": "x1",
          "y": 15,
          "yref": "y1"
         },
         {
          "align": "left",
          "font": {
           "color": "#000000"
          },
          "showarrow": false,
          "text": "1340",
          "x": 1.55,
          "xanchor": "left",
          "xref": "x1",
          "y": 15,
          "yref": "y1"
         },
         {
          "align": "left",
          "font": {
           "color": "#000000"
          },
          "showarrow": false,
          "text": "3",
          "x": 2.55,
          "xanchor": "left",
          "xref": "x1",
          "y": 15,
          "yref": "y1"
         },
         {
          "align": "left",
          "font": {
           "color": "#000000"
          },
          "showarrow": false,
          "text": "58",
          "x": 3.55,
          "xanchor": "left",
          "xref": "x1",
          "y": 15,
          "yref": "y1"
         },
         {
          "align": "left",
          "font": {
           "color": "#000000"
          },
          "showarrow": false,
          "text": "Developer Tools",
          "x": -0.45,
          "xanchor": "left",
          "xref": "x1",
          "y": 16,
          "yref": "y1"
         },
         {
          "align": "left",
          "font": {
           "color": "#000000"
          },
          "showarrow": false,
          "text": "Non-Employees",
          "x": 0.55,
          "xanchor": "left",
          "xref": "x1",
          "y": 16,
          "yref": "y1"
         },
         {
          "align": "left",
          "font": {
           "color": "#000000"
          },
          "showarrow": false,
          "text": "1186",
          "x": 1.55,
          "xanchor": "left",
          "xref": "x1",
          "y": 16,
          "yref": "y1"
         },
         {
          "align": "left",
          "font": {
           "color": "#000000"
          },
          "showarrow": false,
          "text": "1",
          "x": 2.55,
          "xanchor": "left",
          "xref": "x1",
          "y": 16,
          "yref": "y1"
         },
         {
          "align": "left",
          "font": {
           "color": "#000000"
          },
          "showarrow": false,
          "text": "24",
          "x": 3.55,
          "xanchor": "left",
          "xref": "x1",
          "y": 16,
          "yref": "y1"
         },
         {
          "align": "left",
          "font": {
           "color": "#000000"
          },
          "showarrow": false,
          "text": "Firefox OS (FxOS / B2G)",
          "x": -0.45,
          "xanchor": "left",
          "xref": "x1",
          "y": 17,
          "yref": "y1"
         },
         {
          "align": "left",
          "font": {
           "color": "#000000"
          },
          "showarrow": false,
          "text": "Employees",
          "x": 0.55,
          "xanchor": "left",
          "xref": "x1",
          "y": 17,
          "yref": "y1"
         },
         {
          "align": "left",
          "font": {
           "color": "#000000"
          },
          "showarrow": false,
          "text": "946",
          "x": 1.55,
          "xanchor": "left",
          "xref": "x1",
          "y": 17,
          "yref": "y1"
         },
         {
          "align": "left",
          "font": {
           "color": "#000000"
          },
          "showarrow": false,
          "text": "4",
          "x": 2.55,
          "xanchor": "left",
          "xref": "x1",
          "y": 17,
          "yref": "y1"
         },
         {
          "align": "left",
          "font": {
           "color": "#000000"
          },
          "showarrow": false,
          "text": "115",
          "x": 3.55,
          "xanchor": "left",
          "xref": "x1",
          "y": 17,
          "yref": "y1"
         },
         {
          "align": "left",
          "font": {
           "color": "#000000"
          },
          "showarrow": false,
          "text": "Firefox Android",
          "x": -0.45,
          "xanchor": "left",
          "xref": "x1",
          "y": 18,
          "yref": "y1"
         },
         {
          "align": "left",
          "font": {
           "color": "#000000"
          },
          "showarrow": false,
          "text": "Employees",
          "x": 0.55,
          "xanchor": "left",
          "xref": "x1",
          "y": 18,
          "yref": "y1"
         },
         {
          "align": "left",
          "font": {
           "color": "#000000"
          },
          "showarrow": false,
          "text": "699",
          "x": 1.55,
          "xanchor": "left",
          "xref": "x1",
          "y": 18,
          "yref": "y1"
         },
         {
          "align": "left",
          "font": {
           "color": "#000000"
          },
          "showarrow": false,
          "text": "2",
          "x": 2.55,
          "xanchor": "left",
          "xref": "x1",
          "y": 18,
          "yref": "y1"
         },
         {
          "align": "left",
          "font": {
           "color": "#000000"
          },
          "showarrow": false,
          "text": "36",
          "x": 3.55,
          "xanchor": "left",
          "xref": "x1",
          "y": 18,
          "yref": "y1"
         },
         {
          "align": "left",
          "font": {
           "color": "#000000"
          },
          "showarrow": false,
          "text": "Release engineering",
          "x": -0.45,
          "xanchor": "left",
          "xref": "x1",
          "y": 19,
          "yref": "y1"
         },
         {
          "align": "left",
          "font": {
           "color": "#000000"
          },
          "showarrow": false,
          "text": "Employees",
          "x": 0.55,
          "xanchor": "left",
          "xref": "x1",
          "y": 19,
          "yref": "y1"
         },
         {
          "align": "left",
          "font": {
           "color": "#000000"
          },
          "showarrow": false,
          "text": "636",
          "x": 1.55,
          "xanchor": "left",
          "xref": "x1",
          "y": 19,
          "yref": "y1"
         },
         {
          "align": "left",
          "font": {
           "color": "#000000"
          },
          "showarrow": false,
          "text": "1",
          "x": 2.55,
          "xanchor": "left",
          "xref": "x1",
          "y": 19,
          "yref": "y1"
         },
         {
          "align": "left",
          "font": {
           "color": "#000000"
          },
          "showarrow": false,
          "text": "14",
          "x": 3.55,
          "xanchor": "left",
          "xref": "x1",
          "y": 19,
          "yref": "y1"
         },
         {
          "align": "left",
          "font": {
           "color": "#000000"
          },
          "showarrow": false,
          "text": "Quality Assurance",
          "x": -0.45,
          "xanchor": "left",
          "xref": "x1",
          "y": 20,
          "yref": "y1"
         },
         {
          "align": "left",
          "font": {
           "color": "#000000"
          },
          "showarrow": false,
          "text": "Employees",
          "x": 0.55,
          "xanchor": "left",
          "xref": "x1",
          "y": 20,
          "yref": "y1"
         },
         {
          "align": "left",
          "font": {
           "color": "#000000"
          },
          "showarrow": false,
          "text": "582",
          "x": 1.55,
          "xanchor": "left",
          "xref": "x1",
          "y": 20,
          "yref": "y1"
         },
         {
          "align": "left",
          "font": {
           "color": "#000000"
          },
          "showarrow": false,
          "text": "4",
          "x": 2.55,
          "xanchor": "left",
          "xref": "x1",
          "y": 20,
          "yref": "y1"
         },
         {
          "align": "left",
          "font": {
           "color": "#000000"
          },
          "showarrow": false,
          "text": "42",
          "x": 3.55,
          "xanchor": "left",
          "xref": "x1",
          "y": 20,
          "yref": "y1"
         },
         {
          "align": "left",
          "font": {
           "color": "#000000"
          },
          "showarrow": false,
          "text": "Thunderbird",
          "x": -0.45,
          "xanchor": "left",
          "xref": "x1",
          "y": 21,
          "yref": "y1"
         },
         {
          "align": "left",
          "font": {
           "color": "#000000"
          },
          "showarrow": false,
          "text": "Employees",
          "x": 0.55,
          "xanchor": "left",
          "xref": "x1",
          "y": 21,
          "yref": "y1"
         },
         {
          "align": "left",
          "font": {
           "color": "#000000"
          },
          "showarrow": false,
          "text": "565",
          "x": 1.55,
          "xanchor": "left",
          "xref": "x1",
          "y": 21,
          "yref": "y1"
         },
         {
          "align": "left",
          "font": {
           "color": "#000000"
          },
          "showarrow": false,
          "text": "3",
          "x": 2.55,
          "xanchor": "left",
          "xref": "x1",
          "y": 21,
          "yref": "y1"
         },
         {
          "align": "left",
          "font": {
           "color": "#000000"
          },
          "showarrow": false,
          "text": "48",
          "x": 3.55,
          "xanchor": "left",
          "xref": "x1",
          "y": 21,
          "yref": "y1"
         },
         {
          "align": "left",
          "font": {
           "color": "#000000"
          },
          "showarrow": false,
          "text": "Quality Assurance",
          "x": -0.45,
          "xanchor": "left",
          "xref": "x1",
          "y": 22,
          "yref": "y1"
         },
         {
          "align": "left",
          "font": {
           "color": "#000000"
          },
          "showarrow": false,
          "text": "Non-Employees",
          "x": 0.55,
          "xanchor": "left",
          "xref": "x1",
          "y": 22,
          "yref": "y1"
         },
         {
          "align": "left",
          "font": {
           "color": "#000000"
          },
          "showarrow": false,
          "text": "535",
          "x": 1.55,
          "xanchor": "left",
          "xref": "x1",
          "y": 22,
          "yref": "y1"
         },
         {
          "align": "left",
          "font": {
           "color": "#000000"
          },
          "showarrow": false,
          "text": "4",
          "x": 2.55,
          "xanchor": "left",
          "xref": "x1",
          "y": 22,
          "yref": "y1"
         },
         {
          "align": "left",
          "font": {
           "color": "#000000"
          },
          "showarrow": false,
          "text": "38",
          "x": 3.55,
          "xanchor": "left",
          "xref": "x1",
          "y": 22,
          "yref": "y1"
         },
         {
          "align": "left",
          "font": {
           "color": "#000000"
          },
          "showarrow": false,
          "text": "Addons/Web Extensions",
          "x": -0.45,
          "xanchor": "left",
          "xref": "x1",
          "y": 23,
          "yref": "y1"
         },
         {
          "align": "left",
          "font": {
           "color": "#000000"
          },
          "showarrow": false,
          "text": "Employees",
          "x": 0.55,
          "xanchor": "left",
          "xref": "x1",
          "y": 23,
          "yref": "y1"
         },
         {
          "align": "left",
          "font": {
           "color": "#000000"
          },
          "showarrow": false,
          "text": "498",
          "x": 1.55,
          "xanchor": "left",
          "xref": "x1",
          "y": 23,
          "yref": "y1"
         },
         {
          "align": "left",
          "font": {
           "color": "#000000"
          },
          "showarrow": false,
          "text": "3",
          "x": 2.55,
          "xanchor": "left",
          "xref": "x1",
          "y": 23,
          "yref": "y1"
         },
         {
          "align": "left",
          "font": {
           "color": "#000000"
          },
          "showarrow": false,
          "text": "25",
          "x": 3.55,
          "xanchor": "left",
          "xref": "x1",
          "y": 23,
          "yref": "y1"
         },
         {
          "align": "left",
          "font": {
           "color": "#000000"
          },
          "showarrow": false,
          "text": "Developer Tools",
          "x": -0.45,
          "xanchor": "left",
          "xref": "x1",
          "y": 24,
          "yref": "y1"
         },
         {
          "align": "left",
          "font": {
           "color": "#000000"
          },
          "showarrow": false,
          "text": "Employees",
          "x": 0.55,
          "xanchor": "left",
          "xref": "x1",
          "y": 24,
          "yref": "y1"
         },
         {
          "align": "left",
          "font": {
           "color": "#000000"
          },
          "showarrow": false,
          "text": "461",
          "x": 1.55,
          "xanchor": "left",
          "xref": "x1",
          "y": 24,
          "yref": "y1"
         },
         {
          "align": "left",
          "font": {
           "color": "#000000"
          },
          "showarrow": false,
          "text": "1",
          "x": 2.55,
          "xanchor": "left",
          "xref": "x1",
          "y": 24,
          "yref": "y1"
         },
         {
          "align": "left",
          "font": {
           "color": "#000000"
          },
          "showarrow": false,
          "text": "24",
          "x": 3.55,
          "xanchor": "left",
          "xref": "x1",
          "y": 24,
          "yref": "y1"
         },
         {
          "align": "left",
          "font": {
           "color": "#000000"
          },
          "showarrow": false,
          "text": "Mozilla Developer Network (MDN)",
          "x": -0.45,
          "xanchor": "left",
          "xref": "x1",
          "y": 25,
          "yref": "y1"
         },
         {
          "align": "left",
          "font": {
           "color": "#000000"
          },
          "showarrow": false,
          "text": "Employees",
          "x": 0.55,
          "xanchor": "left",
          "xref": "x1",
          "y": 25,
          "yref": "y1"
         },
         {
          "align": "left",
          "font": {
           "color": "#000000"
          },
          "showarrow": false,
          "text": "457",
          "x": 1.55,
          "xanchor": "left",
          "xref": "x1",
          "y": 25,
          "yref": "y1"
         },
         {
          "align": "left",
          "font": {
           "color": "#000000"
          },
          "showarrow": false,
          "text": "2",
          "x": 2.55,
          "xanchor": "left",
          "xref": "x1",
          "y": 25,
          "yref": "y1"
         },
         {
          "align": "left",
          "font": {
           "color": "#000000"
          },
          "showarrow": false,
          "text": "55",
          "x": 3.55,
          "xanchor": "left",
          "xref": "x1",
          "y": 25,
          "yref": "y1"
         },
         {
          "align": "left",
          "font": {
           "color": "#000000"
          },
          "showarrow": false,
          "text": "Technical/Developer Evangelism",
          "x": -0.45,
          "xanchor": "left",
          "xref": "x1",
          "y": 26,
          "yref": "y1"
         },
         {
          "align": "left",
          "font": {
           "color": "#000000"
          },
          "showarrow": false,
          "text": "Employees",
          "x": 0.55,
          "xanchor": "left",
          "xref": "x1",
          "y": 26,
          "yref": "y1"
         },
         {
          "align": "left",
          "font": {
           "color": "#000000"
          },
          "showarrow": false,
          "text": "436",
          "x": 1.55,
          "xanchor": "left",
          "xref": "x1",
          "y": 26,
          "yref": "y1"
         },
         {
          "align": "left",
          "font": {
           "color": "#000000"
          },
          "showarrow": false,
          "text": "3",
          "x": 2.55,
          "xanchor": "left",
          "xref": "x1",
          "y": 26,
          "yref": "y1"
         },
         {
          "align": "left",
          "font": {
           "color": "#000000"
          },
          "showarrow": false,
          "text": "37",
          "x": 3.55,
          "xanchor": "left",
          "xref": "x1",
          "y": 26,
          "yref": "y1"
         },
         {
          "align": "left",
          "font": {
           "color": "#000000"
          },
          "showarrow": false,
          "text": "Localization",
          "x": -0.45,
          "xanchor": "left",
          "xref": "x1",
          "y": 27,
          "yref": "y1"
         },
         {
          "align": "left",
          "font": {
           "color": "#000000"
          },
          "showarrow": false,
          "text": "Employees",
          "x": 0.55,
          "xanchor": "left",
          "xref": "x1",
          "y": 27,
          "yref": "y1"
         },
         {
          "align": "left",
          "font": {
           "color": "#000000"
          },
          "showarrow": false,
          "text": "424",
          "x": 1.55,
          "xanchor": "left",
          "xref": "x1",
          "y": 27,
          "yref": "y1"
         },
         {
          "align": "left",
          "font": {
           "color": "#000000"
          },
          "showarrow": false,
          "text": "4",
          "x": 2.55,
          "xanchor": "left",
          "xref": "x1",
          "y": 27,
          "yref": "y1"
         },
         {
          "align": "left",
          "font": {
           "color": "#000000"
          },
          "showarrow": false,
          "text": "149",
          "x": 3.55,
          "xanchor": "left",
          "xref": "x1",
          "y": 27,
          "yref": "y1"
         },
         {
          "align": "left",
          "font": {
           "color": "#000000"
          },
          "showarrow": false,
          "text": "Release engineering",
          "x": -0.45,
          "xanchor": "left",
          "xref": "x1",
          "y": 28,
          "yref": "y1"
         },
         {
          "align": "left",
          "font": {
           "color": "#000000"
          },
          "showarrow": false,
          "text": "Non-Employees",
          "x": 0.55,
          "xanchor": "left",
          "xref": "x1",
          "y": 28,
          "yref": "y1"
         },
         {
          "align": "left",
          "font": {
           "color": "#000000"
          },
          "showarrow": false,
          "text": "342",
          "x": 1.55,
          "xanchor": "left",
          "xref": "x1",
          "y": 28,
          "yref": "y1"
         },
         {
          "align": "left",
          "font": {
           "color": "#000000"
          },
          "showarrow": false,
          "text": "1",
          "x": 2.55,
          "xanchor": "left",
          "xref": "x1",
          "y": 28,
          "yref": "y1"
         },
         {
          "align": "left",
          "font": {
           "color": "#000000"
          },
          "showarrow": false,
          "text": "14",
          "x": 3.55,
          "xanchor": "left",
          "xref": "x1",
          "y": 28,
          "yref": "y1"
         },
         {
          "align": "left",
          "font": {
           "color": "#000000"
          },
          "showarrow": false,
          "text": "Web Literacy",
          "x": -0.45,
          "xanchor": "left",
          "xref": "x1",
          "y": 29,
          "yref": "y1"
         },
         {
          "align": "left",
          "font": {
           "color": "#000000"
          },
          "showarrow": false,
          "text": "Non-Employees",
          "x": 0.55,
          "xanchor": "left",
          "xref": "x1",
          "y": 29,
          "yref": "y1"
         },
         {
          "align": "left",
          "font": {
           "color": "#000000"
          },
          "showarrow": false,
          "text": "324",
          "x": 1.55,
          "xanchor": "left",
          "xref": "x1",
          "y": 29,
          "yref": "y1"
         },
         {
          "align": "left",
          "font": {
           "color": "#000000"
          },
          "showarrow": false,
          "text": "1",
          "x": 2.55,
          "xanchor": "left",
          "xref": "x1",
          "y": 29,
          "yref": "y1"
         },
         {
          "align": "left",
          "font": {
           "color": "#000000"
          },
          "showarrow": false,
          "text": "25",
          "x": 3.55,
          "xanchor": "left",
          "xref": "x1",
          "y": 29,
          "yref": "y1"
         },
         {
          "align": "left",
          "font": {
           "color": "#000000"
          },
          "showarrow": false,
          "text": "Marketing / Social Media",
          "x": -0.45,
          "xanchor": "left",
          "xref": "x1",
          "y": 30,
          "yref": "y1"
         },
         {
          "align": "left",
          "font": {
           "color": "#000000"
          },
          "showarrow": false,
          "text": "Employees",
          "x": 0.55,
          "xanchor": "left",
          "xref": "x1",
          "y": 30,
          "yref": "y1"
         },
         {
          "align": "left",
          "font": {
           "color": "#000000"
          },
          "showarrow": false,
          "text": "320",
          "x": 1.55,
          "xanchor": "left",
          "xref": "x1",
          "y": 30,
          "yref": "y1"
         },
         {
          "align": "left",
          "font": {
           "color": "#000000"
          },
          "showarrow": false,
          "text": "4",
          "x": 2.55,
          "xanchor": "left",
          "xref": "x1",
          "y": 30,
          "yref": "y1"
         },
         {
          "align": "left",
          "font": {
           "color": "#000000"
          },
          "showarrow": false,
          "text": "21",
          "x": 3.55,
          "xanchor": "left",
          "xref": "x1",
          "y": 30,
          "yref": "y1"
         },
         {
          "align": "left",
          "font": {
           "color": "#000000"
          },
          "showarrow": false,
          "text": "Mozilla Creative & Design",
          "x": -0.45,
          "xanchor": "left",
          "xref": "x1",
          "y": 31,
          "yref": "y1"
         },
         {
          "align": "left",
          "font": {
           "color": "#000000"
          },
          "showarrow": false,
          "text": "Employees",
          "x": 0.55,
          "xanchor": "left",
          "xref": "x1",
          "y": 31,
          "yref": "y1"
         },
         {
          "align": "left",
          "font": {
           "color": "#000000"
          },
          "showarrow": false,
          "text": "262",
          "x": 1.55,
          "xanchor": "left",
          "xref": "x1",
          "y": 31,
          "yref": "y1"
         },
         {
          "align": "left",
          "font": {
           "color": "#000000"
          },
          "showarrow": false,
          "text": "1",
          "x": 2.55,
          "xanchor": "left",
          "xref": "x1",
          "y": 31,
          "yref": "y1"
         },
         {
          "align": "left",
          "font": {
           "color": "#000000"
          },
          "showarrow": false,
          "text": "1",
          "x": 3.55,
          "xanchor": "left",
          "xref": "x1",
          "y": 31,
          "yref": "y1"
         },
         {
          "align": "left",
          "font": {
           "color": "#000000"
          },
          "showarrow": false,
          "text": "Marketing / Social Media",
          "x": -0.45,
          "xanchor": "left",
          "xref": "x1",
          "y": 32,
          "yref": "y1"
         },
         {
          "align": "left",
          "font": {
           "color": "#000000"
          },
          "showarrow": false,
          "text": "Non-Employees",
          "x": 0.55,
          "xanchor": "left",
          "xref": "x1",
          "y": 32,
          "yref": "y1"
         },
         {
          "align": "left",
          "font": {
           "color": "#000000"
          },
          "showarrow": false,
          "text": "250",
          "x": 1.55,
          "xanchor": "left",
          "xref": "x1",
          "y": 32,
          "yref": "y1"
         },
         {
          "align": "left",
          "font": {
           "color": "#000000"
          },
          "showarrow": false,
          "text": "4",
          "x": 2.55,
          "xanchor": "left",
          "xref": "x1",
          "y": 32,
          "yref": "y1"
         },
         {
          "align": "left",
          "font": {
           "color": "#000000"
          },
          "showarrow": false,
          "text": "18",
          "x": 3.55,
          "xanchor": "left",
          "xref": "x1",
          "y": 32,
          "yref": "y1"
         },
         {
          "align": "left",
          "font": {
           "color": "#000000"
          },
          "showarrow": false,
          "text": "Mozilla Local/Regional communities",
          "x": -0.45,
          "xanchor": "left",
          "xref": "x1",
          "y": 33,
          "yref": "y1"
         },
         {
          "align": "left",
          "font": {
           "color": "#000000"
          },
          "showarrow": false,
          "text": "Non-Employees",
          "x": 0.55,
          "xanchor": "left",
          "xref": "x1",
          "y": 33,
          "yref": "y1"
         },
         {
          "align": "left",
          "font": {
           "color": "#000000"
          },
          "showarrow": false,
          "text": "161",
          "x": 1.55,
          "xanchor": "left",
          "xref": "x1",
          "y": 33,
          "yref": "y1"
         },
         {
          "align": "left",
          "font": {
           "color": "#000000"
          },
          "showarrow": false,
          "text": "2",
          "x": 2.55,
          "xanchor": "left",
          "xref": "x1",
          "y": 33,
          "yref": "y1"
         },
         {
          "align": "left",
          "font": {
           "color": "#000000"
          },
          "showarrow": false,
          "text": "16",
          "x": 3.55,
          "xanchor": "left",
          "xref": "x1",
          "y": 33,
          "yref": "y1"
         },
         {
          "align": "left",
          "font": {
           "color": "#000000"
          },
          "showarrow": false,
          "text": "Firefox iOS",
          "x": -0.45,
          "xanchor": "left",
          "xref": "x1",
          "y": 34,
          "yref": "y1"
         },
         {
          "align": "left",
          "font": {
           "color": "#000000"
          },
          "showarrow": false,
          "text": "Non-Employees",
          "x": 0.55,
          "xanchor": "left",
          "xref": "x1",
          "y": 34,
          "yref": "y1"
         },
         {
          "align": "left",
          "font": {
           "color": "#000000"
          },
          "showarrow": false,
          "text": "151",
          "x": 1.55,
          "xanchor": "left",
          "xref": "x1",
          "y": 34,
          "yref": "y1"
         },
         {
          "align": "left",
          "font": {
           "color": "#000000"
          },
          "showarrow": false,
          "text": "1",
          "x": 2.55,
          "xanchor": "left",
          "xref": "x1",
          "y": 34,
          "yref": "y1"
         },
         {
          "align": "left",
          "font": {
           "color": "#000000"
          },
          "showarrow": false,
          "text": "14",
          "x": 3.55,
          "xanchor": "left",
          "xref": "x1",
          "y": 34,
          "yref": "y1"
         },
         {
          "align": "left",
          "font": {
           "color": "#000000"
          },
          "showarrow": false,
          "text": "Web Literacy",
          "x": -0.45,
          "xanchor": "left",
          "xref": "x1",
          "y": 35,
          "yref": "y1"
         },
         {
          "align": "left",
          "font": {
           "color": "#000000"
          },
          "showarrow": false,
          "text": "Employees",
          "x": 0.55,
          "xanchor": "left",
          "xref": "x1",
          "y": 35,
          "yref": "y1"
         },
         {
          "align": "left",
          "font": {
           "color": "#000000"
          },
          "showarrow": false,
          "text": "140",
          "x": 1.55,
          "xanchor": "left",
          "xref": "x1",
          "y": 35,
          "yref": "y1"
         },
         {
          "align": "left",
          "font": {
           "color": "#000000"
          },
          "showarrow": false,
          "text": "1",
          "x": 2.55,
          "xanchor": "left",
          "xref": "x1",
          "y": 35,
          "yref": "y1"
         },
         {
          "align": "left",
          "font": {
           "color": "#000000"
          },
          "showarrow": false,
          "text": "26",
          "x": 3.55,
          "xanchor": "left",
          "xref": "x1",
          "y": 35,
          "yref": "y1"
         },
         {
          "align": "left",
          "font": {
           "color": "#000000"
          },
          "showarrow": false,
          "text": "Firefox iOS",
          "x": -0.45,
          "xanchor": "left",
          "xref": "x1",
          "y": 36,
          "yref": "y1"
         },
         {
          "align": "left",
          "font": {
           "color": "#000000"
          },
          "showarrow": false,
          "text": "Employees",
          "x": 0.55,
          "xanchor": "left",
          "xref": "x1",
          "y": 36,
          "yref": "y1"
         },
         {
          "align": "left",
          "font": {
           "color": "#000000"
          },
          "showarrow": false,
          "text": "139",
          "x": 1.55,
          "xanchor": "left",
          "xref": "x1",
          "y": 36,
          "yref": "y1"
         },
         {
          "align": "left",
          "font": {
           "color": "#000000"
          },
          "showarrow": false,
          "text": "1",
          "x": 2.55,
          "xanchor": "left",
          "xref": "x1",
          "y": 36,
          "yref": "y1"
         },
         {
          "align": "left",
          "font": {
           "color": "#000000"
          },
          "showarrow": false,
          "text": "15",
          "x": 3.55,
          "xanchor": "left",
          "xref": "x1",
          "y": 36,
          "yref": "y1"
         },
         {
          "align": "left",
          "font": {
           "color": "#000000"
          },
          "showarrow": false,
          "text": "Mozilla Local/Regional communities",
          "x": -0.45,
          "xanchor": "left",
          "xref": "x1",
          "y": 37,
          "yref": "y1"
         },
         {
          "align": "left",
          "font": {
           "color": "#000000"
          },
          "showarrow": false,
          "text": "Employees",
          "x": 0.55,
          "xanchor": "left",
          "xref": "x1",
          "y": 37,
          "yref": "y1"
         },
         {
          "align": "left",
          "font": {
           "color": "#000000"
          },
          "showarrow": false,
          "text": "99",
          "x": 1.55,
          "xanchor": "left",
          "xref": "x1",
          "y": 37,
          "yref": "y1"
         },
         {
          "align": "left",
          "font": {
           "color": "#000000"
          },
          "showarrow": false,
          "text": "2",
          "x": 2.55,
          "xanchor": "left",
          "xref": "x1",
          "y": 37,
          "yref": "y1"
         },
         {
          "align": "left",
          "font": {
           "color": "#000000"
          },
          "showarrow": false,
          "text": "16",
          "x": 3.55,
          "xanchor": "left",
          "xref": "x1",
          "y": 37,
          "yref": "y1"
         },
         {
          "align": "left",
          "font": {
           "color": "#000000"
          },
          "showarrow": false,
          "text": "Mozilla support (SUMO)",
          "x": -0.45,
          "xanchor": "left",
          "xref": "x1",
          "y": 38,
          "yref": "y1"
         },
         {
          "align": "left",
          "font": {
           "color": "#000000"
          },
          "showarrow": false,
          "text": "Non-Employees",
          "x": 0.55,
          "xanchor": "left",
          "xref": "x1",
          "y": 38,
          "yref": "y1"
         },
         {
          "align": "left",
          "font": {
           "color": "#000000"
          },
          "showarrow": false,
          "text": "73",
          "x": 1.55,
          "xanchor": "left",
          "xref": "x1",
          "y": 38,
          "yref": "y1"
         },
         {
          "align": "left",
          "font": {
           "color": "#000000"
          },
          "showarrow": false,
          "text": "3",
          "x": 2.55,
          "xanchor": "left",
          "xref": "x1",
          "y": 38,
          "yref": "y1"
         },
         {
          "align": "left",
          "font": {
           "color": "#000000"
          },
          "showarrow": false,
          "text": "12",
          "x": 3.55,
          "xanchor": "left",
          "xref": "x1",
          "y": 38,
          "yref": "y1"
         },
         {
          "align": "left",
          "font": {
           "color": "#000000"
          },
          "showarrow": false,
          "text": "Mozilla support (SUMO)",
          "x": -0.45,
          "xanchor": "left",
          "xref": "x1",
          "y": 39,
          "yref": "y1"
         },
         {
          "align": "left",
          "font": {
           "color": "#000000"
          },
          "showarrow": false,
          "text": "Employees",
          "x": 0.55,
          "xanchor": "left",
          "xref": "x1",
          "y": 39,
          "yref": "y1"
         },
         {
          "align": "left",
          "font": {
           "color": "#000000"
          },
          "showarrow": false,
          "text": "61",
          "x": 1.55,
          "xanchor": "left",
          "xref": "x1",
          "y": 39,
          "yref": "y1"
         },
         {
          "align": "left",
          "font": {
           "color": "#000000"
          },
          "showarrow": false,
          "text": "3",
          "x": 2.55,
          "xanchor": "left",
          "xref": "x1",
          "y": 39,
          "yref": "y1"
         },
         {
          "align": "left",
          "font": {
           "color": "#000000"
          },
          "showarrow": false,
          "text": "12",
          "x": 3.55,
          "xanchor": "left",
          "xref": "x1",
          "y": 39,
          "yref": "y1"
         },
         {
          "align": "left",
          "font": {
           "color": "#000000"
          },
          "showarrow": false,
          "text": "Mozilla Foundation",
          "x": -0.45,
          "xanchor": "left",
          "xref": "x1",
          "y": 40,
          "yref": "y1"
         },
         {
          "align": "left",
          "font": {
           "color": "#000000"
          },
          "showarrow": false,
          "text": "Employees",
          "x": 0.55,
          "xanchor": "left",
          "xref": "x1",
          "y": 40,
          "yref": "y1"
         },
         {
          "align": "left",
          "font": {
           "color": "#000000"
          },
          "showarrow": false,
          "text": "49",
          "x": 1.55,
          "xanchor": "left",
          "xref": "x1",
          "y": 40,
          "yref": "y1"
         },
         {
          "align": "left",
          "font": {
           "color": "#000000"
          },
          "showarrow": false,
          "text": "2",
          "x": 2.55,
          "xanchor": "left",
          "xref": "x1",
          "y": 40,
          "yref": "y1"
         },
         {
          "align": "left",
          "font": {
           "color": "#000000"
          },
          "showarrow": false,
          "text": "15",
          "x": 3.55,
          "xanchor": "left",
          "xref": "x1",
          "y": 40,
          "yref": "y1"
         },
         {
          "align": "left",
          "font": {
           "color": "#000000"
          },
          "showarrow": false,
          "text": "Mozilla Foundation",
          "x": -0.45,
          "xanchor": "left",
          "xref": "x1",
          "y": 41,
          "yref": "y1"
         },
         {
          "align": "left",
          "font": {
           "color": "#000000"
          },
          "showarrow": false,
          "text": "Non-Employees",
          "x": 0.55,
          "xanchor": "left",
          "xref": "x1",
          "y": 41,
          "yref": "y1"
         },
         {
          "align": "left",
          "font": {
           "color": "#000000"
          },
          "showarrow": false,
          "text": "29",
          "x": 1.55,
          "xanchor": "left",
          "xref": "x1",
          "y": 41,
          "yref": "y1"
         },
         {
          "align": "left",
          "font": {
           "color": "#000000"
          },
          "showarrow": false,
          "text": "2",
          "x": 2.55,
          "xanchor": "left",
          "xref": "x1",
          "y": 41,
          "yref": "y1"
         },
         {
          "align": "left",
          "font": {
           "color": "#000000"
          },
          "showarrow": false,
          "text": "8",
          "x": 3.55,
          "xanchor": "left",
          "xref": "x1",
          "y": 41,
          "yref": "y1"
         },
         {
          "align": "left",
          "font": {
           "color": "#000000"
          },
          "showarrow": false,
          "text": "Mozilla Creative & Design",
          "x": -0.45,
          "xanchor": "left",
          "xref": "x1",
          "y": 42,
          "yref": "y1"
         },
         {
          "align": "left",
          "font": {
           "color": "#000000"
          },
          "showarrow": false,
          "text": "Non-Employees",
          "x": 0.55,
          "xanchor": "left",
          "xref": "x1",
          "y": 42,
          "yref": "y1"
         },
         {
          "align": "left",
          "font": {
           "color": "#000000"
          },
          "showarrow": false,
          "text": "22",
          "x": 1.55,
          "xanchor": "left",
          "xref": "x1",
          "y": 42,
          "yref": "y1"
         },
         {
          "align": "left",
          "font": {
           "color": "#000000"
          },
          "showarrow": false,
          "text": "1",
          "x": 2.55,
          "xanchor": "left",
          "xref": "x1",
          "y": 42,
          "yref": "y1"
         },
         {
          "align": "left",
          "font": {
           "color": "#000000"
          },
          "showarrow": false,
          "text": "1",
          "x": 3.55,
          "xanchor": "left",
          "xref": "x1",
          "y": 42,
          "yref": "y1"
         },
         {
          "align": "left",
          "font": {
           "color": "#000000"
          },
          "showarrow": false,
          "text": "Firefox Focus",
          "x": -0.45,
          "xanchor": "left",
          "xref": "x1",
          "y": 43,
          "yref": "y1"
         },
         {
          "align": "left",
          "font": {
           "color": "#000000"
          },
          "showarrow": false,
          "text": "Employees",
          "x": 0.55,
          "xanchor": "left",
          "xref": "x1",
          "y": 43,
          "yref": "y1"
         },
         {
          "align": "left",
          "font": {
           "color": "#000000"
          },
          "showarrow": false,
          "text": "18",
          "x": 1.55,
          "xanchor": "left",
          "xref": "x1",
          "y": 43,
          "yref": "y1"
         },
         {
          "align": "left",
          "font": {
           "color": "#000000"
          },
          "showarrow": false,
          "text": "1",
          "x": 2.55,
          "xanchor": "left",
          "xref": "x1",
          "y": 43,
          "yref": "y1"
         },
         {
          "align": "left",
          "font": {
           "color": "#000000"
          },
          "showarrow": false,
          "text": "1",
          "x": 3.55,
          "xanchor": "left",
          "xref": "x1",
          "y": 43,
          "yref": "y1"
         },
         {
          "align": "left",
          "font": {
           "color": "#000000"
          },
          "showarrow": false,
          "text": "Advocacy and policy",
          "x": -0.45,
          "xanchor": "left",
          "xref": "x1",
          "y": 44,
          "yref": "y1"
         },
         {
          "align": "left",
          "font": {
           "color": "#000000"
          },
          "showarrow": false,
          "text": "Non-Employees",
          "x": 0.55,
          "xanchor": "left",
          "xref": "x1",
          "y": 44,
          "yref": "y1"
         },
         {
          "align": "left",
          "font": {
           "color": "#000000"
          },
          "showarrow": false,
          "text": "11",
          "x": 1.55,
          "xanchor": "left",
          "xref": "x1",
          "y": 44,
          "yref": "y1"
         },
         {
          "align": "left",
          "font": {
           "color": "#000000"
          },
          "showarrow": false,
          "text": "1",
          "x": 2.55,
          "xanchor": "left",
          "xref": "x1",
          "y": 44,
          "yref": "y1"
         },
         {
          "align": "left",
          "font": {
           "color": "#000000"
          },
          "showarrow": false,
          "text": "4",
          "x": 3.55,
          "xanchor": "left",
          "xref": "x1",
          "y": 44,
          "yref": "y1"
         },
         {
          "align": "left",
          "font": {
           "color": "#000000"
          },
          "showarrow": false,
          "text": "Connected devices & IoT",
          "x": -0.45,
          "xanchor": "left",
          "xref": "x1",
          "y": 45,
          "yref": "y1"
         },
         {
          "align": "left",
          "font": {
           "color": "#000000"
          },
          "showarrow": false,
          "text": "Employees",
          "x": 0.55,
          "xanchor": "left",
          "xref": "x1",
          "y": 45,
          "yref": "y1"
         },
         {
          "align": "left",
          "font": {
           "color": "#000000"
          },
          "showarrow": false,
          "text": "9",
          "x": 1.55,
          "xanchor": "left",
          "xref": "x1",
          "y": 45,
          "yref": "y1"
         },
         {
          "align": "left",
          "font": {
           "color": "#000000"
          },
          "showarrow": false,
          "text": "1",
          "x": 2.55,
          "xanchor": "left",
          "xref": "x1",
          "y": 45,
          "yref": "y1"
         },
         {
          "align": "left",
          "font": {
           "color": "#000000"
          },
          "showarrow": false,
          "text": "3",
          "x": 3.55,
          "xanchor": "left",
          "xref": "x1",
          "y": 45,
          "yref": "y1"
         },
         {
          "align": "left",
          "font": {
           "color": "#000000"
          },
          "showarrow": false,
          "text": "Web Compatibility",
          "x": -0.45,
          "xanchor": "left",
          "xref": "x1",
          "y": 46,
          "yref": "y1"
         },
         {
          "align": "left",
          "font": {
           "color": "#000000"
          },
          "showarrow": false,
          "text": "Employees",
          "x": 0.55,
          "xanchor": "left",
          "xref": "x1",
          "y": 46,
          "yref": "y1"
         },
         {
          "align": "left",
          "font": {
           "color": "#000000"
          },
          "showarrow": false,
          "text": "7",
          "x": 1.55,
          "xanchor": "left",
          "xref": "x1",
          "y": 46,
          "yref": "y1"
         },
         {
          "align": "left",
          "font": {
           "color": "#000000"
          },
          "showarrow": false,
          "text": "1",
          "x": 2.55,
          "xanchor": "left",
          "xref": "x1",
          "y": 46,
          "yref": "y1"
         },
         {
          "align": "left",
          "font": {
           "color": "#000000"
          },
          "showarrow": false,
          "text": "2",
          "x": 3.55,
          "xanchor": "left",
          "xref": "x1",
          "y": 46,
          "yref": "y1"
         },
         {
          "align": "left",
          "font": {
           "color": "#000000"
          },
          "showarrow": false,
          "text": "Web Compatibility",
          "x": -0.45,
          "xanchor": "left",
          "xref": "x1",
          "y": 47,
          "yref": "y1"
         },
         {
          "align": "left",
          "font": {
           "color": "#000000"
          },
          "showarrow": false,
          "text": "Non-Employees",
          "x": 0.55,
          "xanchor": "left",
          "xref": "x1",
          "y": 47,
          "yref": "y1"
         },
         {
          "align": "left",
          "font": {
           "color": "#000000"
          },
          "showarrow": false,
          "text": "6",
          "x": 1.55,
          "xanchor": "left",
          "xref": "x1",
          "y": 47,
          "yref": "y1"
         },
         {
          "align": "left",
          "font": {
           "color": "#000000"
          },
          "showarrow": false,
          "text": "1",
          "x": 2.55,
          "xanchor": "left",
          "xref": "x1",
          "y": 47,
          "yref": "y1"
         },
         {
          "align": "left",
          "font": {
           "color": "#000000"
          },
          "showarrow": false,
          "text": "1",
          "x": 3.55,
          "xanchor": "left",
          "xref": "x1",
          "y": 47,
          "yref": "y1"
         },
         {
          "align": "left",
          "font": {
           "color": "#000000"
          },
          "showarrow": false,
          "text": "Firefox Focus",
          "x": -0.45,
          "xanchor": "left",
          "xref": "x1",
          "y": 48,
          "yref": "y1"
         },
         {
          "align": "left",
          "font": {
           "color": "#000000"
          },
          "showarrow": false,
          "text": "Non-Employees",
          "x": 0.55,
          "xanchor": "left",
          "xref": "x1",
          "y": 48,
          "yref": "y1"
         },
         {
          "align": "left",
          "font": {
           "color": "#000000"
          },
          "showarrow": false,
          "text": "6",
          "x": 1.55,
          "xanchor": "left",
          "xref": "x1",
          "y": 48,
          "yref": "y1"
         },
         {
          "align": "left",
          "font": {
           "color": "#000000"
          },
          "showarrow": false,
          "text": "1",
          "x": 2.55,
          "xanchor": "left",
          "xref": "x1",
          "y": 48,
          "yref": "y1"
         },
         {
          "align": "left",
          "font": {
           "color": "#000000"
          },
          "showarrow": false,
          "text": "1",
          "x": 3.55,
          "xanchor": "left",
          "xref": "x1",
          "y": 48,
          "yref": "y1"
         },
         {
          "align": "left",
          "font": {
           "color": "#000000"
          },
          "showarrow": false,
          "text": "Rust",
          "x": -0.45,
          "xanchor": "left",
          "xref": "x1",
          "y": 49,
          "yref": "y1"
         },
         {
          "align": "left",
          "font": {
           "color": "#000000"
          },
          "showarrow": false,
          "text": "Employees",
          "x": 0.55,
          "xanchor": "left",
          "xref": "x1",
          "y": 49,
          "yref": "y1"
         },
         {
          "align": "left",
          "font": {
           "color": "#000000"
          },
          "showarrow": false,
          "text": "5",
          "x": 1.55,
          "xanchor": "left",
          "xref": "x1",
          "y": 49,
          "yref": "y1"
         },
         {
          "align": "left",
          "font": {
           "color": "#000000"
          },
          "showarrow": false,
          "text": "1",
          "x": 2.55,
          "xanchor": "left",
          "xref": "x1",
          "y": 49,
          "yref": "y1"
         },
         {
          "align": "left",
          "font": {
           "color": "#000000"
          },
          "showarrow": false,
          "text": "1",
          "x": 3.55,
          "xanchor": "left",
          "xref": "x1",
          "y": 49,
          "yref": "y1"
         },
         {
          "align": "left",
          "font": {
           "color": "#000000"
          },
          "showarrow": false,
          "text": "Advocacy and policy",
          "x": -0.45,
          "xanchor": "left",
          "xref": "x1",
          "y": 50,
          "yref": "y1"
         },
         {
          "align": "left",
          "font": {
           "color": "#000000"
          },
          "showarrow": false,
          "text": "Employees",
          "x": 0.55,
          "xanchor": "left",
          "xref": "x1",
          "y": 50,
          "yref": "y1"
         },
         {
          "align": "left",
          "font": {
           "color": "#000000"
          },
          "showarrow": false,
          "text": "3",
          "x": 1.55,
          "xanchor": "left",
          "xref": "x1",
          "y": 50,
          "yref": "y1"
         },
         {
          "align": "left",
          "font": {
           "color": "#000000"
          },
          "showarrow": false,
          "text": "1",
          "x": 2.55,
          "xanchor": "left",
          "xref": "x1",
          "y": 50,
          "yref": "y1"
         },
         {
          "align": "left",
          "font": {
           "color": "#000000"
          },
          "showarrow": false,
          "text": "2",
          "x": 3.55,
          "xanchor": "left",
          "xref": "x1",
          "y": 50,
          "yref": "y1"
         },
         {
          "align": "left",
          "font": {
           "color": "#000000"
          },
          "showarrow": false,
          "text": "Connected devices & IoT",
          "x": -0.45,
          "xanchor": "left",
          "xref": "x1",
          "y": 51,
          "yref": "y1"
         },
         {
          "align": "left",
          "font": {
           "color": "#000000"
          },
          "showarrow": false,
          "text": "Non-Employees",
          "x": 0.55,
          "xanchor": "left",
          "xref": "x1",
          "y": 51,
          "yref": "y1"
         },
         {
          "align": "left",
          "font": {
           "color": "#000000"
          },
          "showarrow": false,
          "text": "1",
          "x": 1.55,
          "xanchor": "left",
          "xref": "x1",
          "y": 51,
          "yref": "y1"
         },
         {
          "align": "left",
          "font": {
           "color": "#000000"
          },
          "showarrow": false,
          "text": "1",
          "x": 2.55,
          "xanchor": "left",
          "xref": "x1",
          "y": 51,
          "yref": "y1"
         },
         {
          "align": "left",
          "font": {
           "color": "#000000"
          },
          "showarrow": false,
          "text": "1",
          "x": 3.55,
          "xanchor": "left",
          "xref": "x1",
          "y": 51,
          "yref": "y1"
         },
         {
          "align": "left",
          "font": {
           "color": "#000000"
          },
          "showarrow": false,
          "text": "Firefox Student Ambassadors",
          "x": -0.45,
          "xanchor": "left",
          "xref": "x1",
          "y": 52,
          "yref": "y1"
         },
         {
          "align": "left",
          "font": {
           "color": "#000000"
          },
          "showarrow": false,
          "text": "Non-Employees",
          "x": 0.55,
          "xanchor": "left",
          "xref": "x1",
          "y": 52,
          "yref": "y1"
         },
         {
          "align": "left",
          "font": {
           "color": "#000000"
          },
          "showarrow": false,
          "text": "1",
          "x": 1.55,
          "xanchor": "left",
          "xref": "x1",
          "y": 52,
          "yref": "y1"
         },
         {
          "align": "left",
          "font": {
           "color": "#000000"
          },
          "showarrow": false,
          "text": "1",
          "x": 2.55,
          "xanchor": "left",
          "xref": "x1",
          "y": 52,
          "yref": "y1"
         },
         {
          "align": "left",
          "font": {
           "color": "#000000"
          },
          "showarrow": false,
          "text": "1",
          "x": 3.55,
          "xanchor": "left",
          "xref": "x1",
          "y": 52,
          "yref": "y1"
         }
        ],
        "height": 1640,
        "margin": {
         "b": 0,
         "l": 0,
         "r": 0,
         "t": 0
        },
        "xaxis": {
         "dtick": 1,
         "gridwidth": 2,
         "showticklabels": false,
         "tick0": -0.5,
         "ticks": "",
         "zeroline": false
        },
        "yaxis": {
         "autorange": "reversed",
         "dtick": 1,
         "gridwidth": 2,
         "showticklabels": false,
         "tick0": 0.5,
         "ticks": "",
         "zeroline": false
        }
       }
      },
      "text/html": [
       "<div id=\"d62f3447-05ab-4000-b188-3a0f0b8f6b0b\" style=\"height: 1640px; width: 100%;\" class=\"plotly-graph-div\"></div><script type=\"text/javascript\">require([\"plotly\"], function(Plotly) { window.PLOTLYENV=window.PLOTLYENV || {};window.PLOTLYENV.BASE_URL=\"https://plot.ly\";Plotly.newPlot(\"d62f3447-05ab-4000-b188-3a0f0b8f6b0b\", [{\"hoverinfo\": \"none\", \"colorscale\": [[0, \"#00083e\"], [0.5, \"#ededee\"], [1, \"#ffffff\"]], \"z\": [[0, 0, 0, 0, 0], [0.5, 0.5, 0.5, 0.5, 0.5], [1, 1, 1, 1, 1], [0.5, 0.5, 0.5, 0.5, 0.5], [1, 1, 1, 1, 1], [0.5, 0.5, 0.5, 0.5, 0.5], [1, 1, 1, 1, 1], [0.5, 0.5, 0.5, 0.5, 0.5], [1, 1, 1, 1, 1], [0.5, 0.5, 0.5, 0.5, 0.5], [1, 1, 1, 1, 1], [0.5, 0.5, 0.5, 0.5, 0.5], [1, 1, 1, 1, 1], [0.5, 0.5, 0.5, 0.5, 0.5], [1, 1, 1, 1, 1], [0.5, 0.5, 0.5, 0.5, 0.5], [1, 1, 1, 1, 1], [0.5, 0.5, 0.5, 0.5, 0.5], [1, 1, 1, 1, 1], [0.5, 0.5, 0.5, 0.5, 0.5], [1, 1, 1, 1, 1], [0.5, 0.5, 0.5, 0.5, 0.5], [1, 1, 1, 1, 1], [0.5, 0.5, 0.5, 0.5, 0.5], [1, 1, 1, 1, 1], [0.5, 0.5, 0.5, 0.5, 0.5], [1, 1, 1, 1, 1], [0.5, 0.5, 0.5, 0.5, 0.5], [1, 1, 1, 1, 1], [0.5, 0.5, 0.5, 0.5, 0.5], [1, 1, 1, 1, 1], [0.5, 0.5, 0.5, 0.5, 0.5], [1, 1, 1, 1, 1], [0.5, 0.5, 0.5, 0.5, 0.5], [1, 1, 1, 1, 1], [0.5, 0.5, 0.5, 0.5, 0.5], [1, 1, 1, 1, 1], [0.5, 0.5, 0.5, 0.5, 0.5], [1, 1, 1, 1, 1], [0.5, 0.5, 0.5, 0.5, 0.5], [1, 1, 1, 1, 1], [0.5, 0.5, 0.5, 0.5, 0.5], [1, 1, 1, 1, 1], [0.5, 0.5, 0.5, 0.5, 0.5], [1, 1, 1, 1, 1], [0.5, 0.5, 0.5, 0.5, 0.5], [1, 1, 1, 1, 1], [0.5, 0.5, 0.5, 0.5, 0.5], [1, 1, 1, 1, 1], [0.5, 0.5, 0.5, 0.5, 0.5], [1, 1, 1, 1, 1], [0.5, 0.5, 0.5, 0.5, 0.5], [1, 1, 1, 1, 1]], \"showscale\": false, \"opacity\": 0.75, \"type\": \"heatmap\"}], {\"height\": 1640, \"yaxis\": {\"gridwidth\": 2, \"dtick\": 1, \"ticks\": \"\", \"tick0\": 0.5, \"showticklabels\": false, \"zeroline\": false, \"autorange\": \"reversed\"}, \"xaxis\": {\"gridwidth\": 2, \"dtick\": 1, \"ticks\": \"\", \"tick0\": -0.5, \"showticklabels\": false, \"zeroline\": false}, \"margin\": {\"r\": 0, \"b\": 0, \"l\": 0, \"t\": 0}, \"annotations\": [{\"font\": {\"color\": \"#ffffff\"}, \"y\": 0, \"text\": \"<b>Project</b>\", \"x\": -0.45, \"xref\": \"x1\", \"align\": \"left\", \"yref\": \"y1\", \"showarrow\": false, \"xanchor\": \"left\"}, {\"font\": {\"color\": \"#ffffff\"}, \"y\": 0, \"text\": \"<b>Org</b>\", \"x\": 0.55, \"xref\": \"x1\", \"align\": \"left\", \"yref\": \"y1\", \"showarrow\": false, \"xanchor\": \"left\"}, {\"font\": {\"color\": \"#ffffff\"}, \"y\": 0, \"text\": \"<b>uuid</b>\", \"x\": 1.55, \"xref\": \"x1\", \"align\": \"left\", \"yref\": \"y1\", \"showarrow\": false, \"xanchor\": \"left\"}, {\"font\": {\"color\": \"#ffffff\"}, \"y\": 0, \"text\": \"<b>Product</b>\", \"x\": 2.55, \"xref\": \"x1\", \"align\": \"left\", \"yref\": \"y1\", \"showarrow\": false, \"xanchor\": \"left\"}, {\"font\": {\"color\": \"#ffffff\"}, \"y\": 0, \"text\": \"<b>Component</b>\", \"x\": 3.55, \"xref\": \"x1\", \"align\": \"left\", \"yref\": \"y1\", \"showarrow\": false, \"xanchor\": \"left\"}, {\"font\": {\"color\": \"#000000\"}, \"y\": 1, \"text\": \"Firefox\", \"x\": -0.45, \"xref\": \"x1\", \"align\": \"left\", \"yref\": \"y1\", \"showarrow\": false, \"xanchor\": \"left\"}, {\"font\": {\"color\": \"#000000\"}, \"y\": 1, \"text\": \"Non-Employees\", \"x\": 0.55, \"xref\": \"x1\", \"align\": \"left\", \"yref\": \"y1\", \"showarrow\": false, \"xanchor\": \"left\"}, {\"font\": {\"color\": \"#000000\"}, \"y\": 1, \"text\": \"71348\", \"x\": 1.55, \"xref\": \"x1\", \"align\": \"left\", \"yref\": \"y1\", \"showarrow\": false, \"xanchor\": \"left\"}, {\"font\": {\"color\": \"#000000\"}, \"y\": 1, \"text\": \"3\", \"x\": 2.55, \"xref\": \"x1\", \"align\": \"left\", \"yref\": \"y1\", \"showarrow\": false, \"xanchor\": \"left\"}, {\"font\": {\"color\": \"#000000\"}, \"y\": 1, \"text\": \"56\", \"x\": 3.55, \"xref\": \"x1\", \"align\": \"left\", \"yref\": \"y1\", \"showarrow\": false, \"xanchor\": \"left\"}, {\"font\": {\"color\": \"#000000\"}, \"y\": 2, \"text\": \"Gecko\", \"x\": -0.45, \"xref\": \"x1\", \"align\": \"left\", \"yref\": \"y1\", \"showarrow\": false, \"xanchor\": \"left\"}, {\"font\": {\"color\": \"#000000\"}, \"y\": 2, \"text\": \"Non-Employees\", \"x\": 0.55, \"xref\": \"x1\", \"align\": \"left\", \"yref\": \"y1\", \"showarrow\": false, \"xanchor\": \"left\"}, {\"font\": {\"color\": \"#000000\"}, \"y\": 2, \"text\": \"61384\", \"x\": 1.55, \"xref\": \"x1\", \"align\": \"left\", \"yref\": \"y1\", \"showarrow\": false, \"xanchor\": \"left\"}, {\"font\": {\"color\": \"#000000\"}, \"y\": 2, \"text\": \"5\", \"x\": 2.55, \"xref\": \"x1\", \"align\": \"left\", \"yref\": \"y1\", \"showarrow\": false, \"xanchor\": \"left\"}, {\"font\": {\"color\": \"#000000\"}, \"y\": 2, \"text\": \"245\", \"x\": 3.55, \"xref\": \"x1\", \"align\": \"left\", \"yref\": \"y1\", \"showarrow\": false, \"xanchor\": \"left\"}, {\"font\": {\"color\": \"#000000\"}, \"y\": 3, \"text\": \"Thunderbird\", \"x\": -0.45, \"xref\": \"x1\", \"align\": \"left\", \"yref\": \"y1\", \"showarrow\": false, \"xanchor\": \"left\"}, {\"font\": {\"color\": \"#000000\"}, \"y\": 3, \"text\": \"Non-Employees\", \"x\": 0.55, \"xref\": \"x1\", \"align\": \"left\", \"yref\": \"y1\", \"showarrow\": false, \"xanchor\": \"left\"}, {\"font\": {\"color\": \"#000000\"}, \"y\": 3, \"text\": \"29644\", \"x\": 1.55, \"xref\": \"x1\", \"align\": \"left\", \"yref\": \"y1\", \"showarrow\": false, \"xanchor\": \"left\"}, {\"font\": {\"color\": \"#000000\"}, \"y\": 3, \"text\": \"3\", \"x\": 2.55, \"xref\": \"x1\", \"align\": \"left\", \"yref\": \"y1\", \"showarrow\": false, \"xanchor\": \"left\"}, {\"font\": {\"color\": \"#000000\"}, \"y\": 3, \"text\": \"47\", \"x\": 3.55, \"xref\": \"x1\", \"align\": \"left\", \"yref\": \"y1\", \"showarrow\": false, \"xanchor\": \"left\"}, {\"font\": {\"color\": \"#000000\"}, \"y\": 4, \"text\": \"Technical/Developer Evangelism\", \"x\": -0.45, \"xref\": \"x1\", \"align\": \"left\", \"yref\": \"y1\", \"showarrow\": false, \"xanchor\": \"left\"}, {\"font\": {\"color\": \"#000000\"}, \"y\": 4, \"text\": \"Non-Employees\", \"x\": 0.55, \"xref\": \"x1\", \"align\": \"left\", \"yref\": \"y1\", \"showarrow\": false, \"xanchor\": \"left\"}, {\"font\": {\"color\": \"#000000\"}, \"y\": 4, \"text\": \"5249\", \"x\": 1.55, \"xref\": \"x1\", \"align\": \"left\", \"yref\": \"y1\", \"showarrow\": false, \"xanchor\": \"left\"}, {\"font\": {\"color\": \"#000000\"}, \"y\": 4, \"text\": \"3\", \"x\": 2.55, \"xref\": \"x1\", \"align\": \"left\", \"yref\": \"y1\", \"showarrow\": false, \"xanchor\": \"left\"}, {\"font\": {\"color\": \"#000000\"}, \"y\": 4, \"text\": \"44\", \"x\": 3.55, \"xref\": \"x1\", \"align\": \"left\", \"yref\": \"y1\", \"showarrow\": false, \"xanchor\": \"left\"}, {\"font\": {\"color\": \"#000000\"}, \"y\": 5, \"text\": \"Web Properties\", \"x\": -0.45, \"xref\": \"x1\", \"align\": \"left\", \"yref\": \"y1\", \"showarrow\": false, \"xanchor\": \"left\"}, {\"font\": {\"color\": \"#000000\"}, \"y\": 5, \"text\": \"Non-Employees\", \"x\": 0.55, \"xref\": \"x1\", \"align\": \"left\", \"yref\": \"y1\", \"showarrow\": false, \"xanchor\": \"left\"}, {\"font\": {\"color\": \"#000000\"}, \"y\": 5, \"text\": \"4254\", \"x\": 1.55, \"xref\": \"x1\", \"align\": \"left\", \"yref\": \"y1\", \"showarrow\": false, \"xanchor\": \"left\"}, {\"font\": {\"color\": \"#000000\"}, \"y\": 5, \"text\": \"16\", \"x\": 2.55, \"xref\": \"x1\", \"align\": \"left\", \"yref\": \"y1\", \"showarrow\": false, \"xanchor\": \"left\"}, {\"font\": {\"color\": \"#000000\"}, \"y\": 5, \"text\": \"166\", \"x\": 3.55, \"xref\": \"x1\", \"align\": \"left\", \"yref\": \"y1\", \"showarrow\": false, \"xanchor\": \"left\"}, {\"font\": {\"color\": \"#000000\"}, \"y\": 6, \"text\": \"IT/Ops\", \"x\": -0.45, \"xref\": \"x1\", \"align\": \"left\", \"yref\": \"y1\", \"showarrow\": false, \"xanchor\": \"left\"}, {\"font\": {\"color\": \"#000000\"}, \"y\": 6, \"text\": \"Non-Employees\", \"x\": 0.55, \"xref\": \"x1\", \"align\": \"left\", \"yref\": \"y1\", \"showarrow\": false, \"xanchor\": \"left\"}, {\"font\": {\"color\": \"#000000\"}, \"y\": 6, \"text\": \"2730\", \"x\": 1.55, \"xref\": \"x1\", \"align\": \"left\", \"yref\": \"y1\", \"showarrow\": false, \"xanchor\": \"left\"}, {\"font\": {\"color\": \"#000000\"}, \"y\": 6, \"text\": \"11\", \"x\": 2.55, \"xref\": \"x1\", \"align\": \"left\", \"yref\": \"y1\", \"showarrow\": false, \"xanchor\": \"left\"}, {\"font\": {\"color\": \"#000000\"}, \"y\": 6, \"text\": \"172\", \"x\": 3.55, \"xref\": \"x1\", \"align\": \"left\", \"yref\": \"y1\", \"showarrow\": false, \"xanchor\": \"left\"}, {\"font\": {\"color\": \"#000000\"}, \"y\": 7, \"text\": \"Firefox Android\", \"x\": -0.45, \"xref\": \"x1\", \"align\": \"left\", \"yref\": \"y1\", \"showarrow\": false, \"xanchor\": \"left\"}, {\"font\": {\"color\": \"#000000\"}, \"y\": 7, \"text\": \"Non-Employees\", \"x\": 0.55, \"xref\": \"x1\", \"align\": \"left\", \"yref\": \"y1\", \"showarrow\": false, \"xanchor\": \"left\"}, {\"font\": {\"color\": \"#000000\"}, \"y\": 7, \"text\": \"2484\", \"x\": 1.55, \"xref\": \"x1\", \"align\": \"left\", \"yref\": \"y1\", \"showarrow\": false, \"xanchor\": \"left\"}, {\"font\": {\"color\": \"#000000\"}, \"y\": 7, \"text\": \"2\", \"x\": 2.55, \"xref\": \"x1\", \"align\": \"left\", \"yref\": \"y1\", \"showarrow\": false, \"xanchor\": \"left\"}, {\"font\": {\"color\": \"#000000\"}, \"y\": 7, \"text\": \"36\", \"x\": 3.55, \"xref\": \"x1\", \"align\": \"left\", \"yref\": \"y1\", \"showarrow\": false, \"xanchor\": \"left\"}, {\"font\": {\"color\": \"#000000\"}, \"y\": 8, \"text\": \"IT/Ops\", \"x\": -0.45, \"xref\": \"x1\", \"align\": \"left\", \"yref\": \"y1\", \"showarrow\": false, \"xanchor\": \"left\"}, {\"font\": {\"color\": \"#000000\"}, \"y\": 8, \"text\": \"Employees\", \"x\": 0.55, \"xref\": \"x1\", \"align\": \"left\", \"yref\": \"y1\", \"showarrow\": false, \"xanchor\": \"left\"}, {\"font\": {\"color\": \"#000000\"}, \"y\": 8, \"text\": \"2242\", \"x\": 1.55, \"xref\": \"x1\", \"align\": \"left\", \"yref\": \"y1\", \"showarrow\": false, \"xanchor\": \"left\"}, {\"font\": {\"color\": \"#000000\"}, \"y\": 8, \"text\": \"11\", \"x\": 2.55, \"xref\": \"x1\", \"align\": \"left\", \"yref\": \"y1\", \"showarrow\": false, \"xanchor\": \"left\"}, {\"font\": {\"color\": \"#000000\"}, \"y\": 8, \"text\": \"213\", \"x\": 3.55, \"xref\": \"x1\", \"align\": \"left\", \"yref\": \"y1\", \"showarrow\": false, \"xanchor\": \"left\"}, {\"font\": {\"color\": \"#000000\"}, \"y\": 9, \"text\": \"Addons/Web Extensions\", \"x\": -0.45, \"xref\": \"x1\", \"align\": \"left\", \"yref\": \"y1\", \"showarrow\": false, \"xanchor\": \"left\"}, {\"font\": {\"color\": \"#000000\"}, \"y\": 9, \"text\": \"Non-Employees\", \"x\": 0.55, \"xref\": \"x1\", \"align\": \"left\", \"yref\": \"y1\", \"showarrow\": false, \"xanchor\": \"left\"}, {\"font\": {\"color\": \"#000000\"}, \"y\": 9, \"text\": \"2176\", \"x\": 1.55, \"xref\": \"x1\", \"align\": \"left\", \"yref\": \"y1\", \"showarrow\": false, \"xanchor\": \"left\"}, {\"font\": {\"color\": \"#000000\"}, \"y\": 9, \"text\": \"3\", \"x\": 2.55, \"xref\": \"x1\", \"align\": \"left\", \"yref\": \"y1\", \"showarrow\": false, \"xanchor\": \"left\"}, {\"font\": {\"color\": \"#000000\"}, \"y\": 9, \"text\": \"25\", \"x\": 3.55, \"xref\": \"x1\", \"align\": \"left\", \"yref\": \"y1\", \"showarrow\": false, \"xanchor\": \"left\"}, {\"font\": {\"color\": \"#000000\"}, \"y\": 10, \"text\": \"Firefox OS (FxOS / B2G)\", \"x\": -0.45, \"xref\": \"x1\", \"align\": \"left\", \"yref\": \"y1\", \"showarrow\": false, \"xanchor\": \"left\"}, {\"font\": {\"color\": \"#000000\"}, \"y\": 10, \"text\": \"Non-Employees\", \"x\": 0.55, \"xref\": \"x1\", \"align\": \"left\", \"yref\": \"y1\", \"showarrow\": false, \"xanchor\": \"left\"}, {\"font\": {\"color\": \"#000000\"}, \"y\": 10, \"text\": \"2022\", \"x\": 1.55, \"xref\": \"x1\", \"align\": \"left\", \"yref\": \"y1\", \"showarrow\": false, \"xanchor\": \"left\"}, {\"font\": {\"color\": \"#000000\"}, \"y\": 10, \"text\": \"4\", \"x\": 2.55, \"xref\": \"x1\", \"align\": \"left\", \"yref\": \"y1\", \"showarrow\": false, \"xanchor\": \"left\"}, {\"font\": {\"color\": \"#000000\"}, \"y\": 10, \"text\": \"113\", \"x\": 3.55, \"xref\": \"x1\", \"align\": \"left\", \"yref\": \"y1\", \"showarrow\": false, \"xanchor\": \"left\"}, {\"font\": {\"color\": \"#000000\"}, \"y\": 11, \"text\": \"Localization\", \"x\": -0.45, \"xref\": \"x1\", \"align\": \"left\", \"yref\": \"y1\", \"showarrow\": false, \"xanchor\": \"left\"}, {\"font\": {\"color\": \"#000000\"}, \"y\": 11, \"text\": \"Non-Employees\", \"x\": 0.55, \"xref\": \"x1\", \"align\": \"left\", \"yref\": \"y1\", \"showarrow\": false, \"xanchor\": \"left\"}, {\"font\": {\"color\": \"#000000\"}, \"y\": 11, \"text\": \"1935\", \"x\": 1.55, \"xref\": \"x1\", \"align\": \"left\", \"yref\": \"y1\", \"showarrow\": false, \"xanchor\": \"left\"}, {\"font\": {\"color\": \"#000000\"}, \"y\": 11, \"text\": \"4\", \"x\": 2.55, \"xref\": \"x1\", \"align\": \"left\", \"yref\": \"y1\", \"showarrow\": false, \"xanchor\": \"left\"}, {\"font\": {\"color\": \"#000000\"}, \"y\": 11, \"text\": \"115\", \"x\": 3.55, \"xref\": \"x1\", \"align\": \"left\", \"yref\": \"y1\", \"showarrow\": false, \"xanchor\": \"left\"}, {\"font\": {\"color\": \"#000000\"}, \"y\": 12, \"text\": \"Mozilla Developer Network (MDN)\", \"x\": -0.45, \"xref\": \"x1\", \"align\": \"left\", \"yref\": \"y1\", \"showarrow\": false, \"xanchor\": \"left\"}, {\"font\": {\"color\": \"#000000\"}, \"y\": 12, \"text\": \"Non-Employees\", \"x\": 0.55, \"xref\": \"x1\", \"align\": \"left\", \"yref\": \"y1\", \"showarrow\": false, \"xanchor\": \"left\"}, {\"font\": {\"color\": \"#000000\"}, \"y\": 12, \"text\": \"1866\", \"x\": 1.55, \"xref\": \"x1\", \"align\": \"left\", \"yref\": \"y1\", \"showarrow\": false, \"xanchor\": \"left\"}, {\"font\": {\"color\": \"#000000\"}, \"y\": 12, \"text\": \"2\", \"x\": 2.55, \"xref\": \"x1\", \"align\": \"left\", \"yref\": \"y1\", \"showarrow\": false, \"xanchor\": \"left\"}, {\"font\": {\"color\": \"#000000\"}, \"y\": 12, \"text\": \"53\", \"x\": 3.55, \"xref\": \"x1\", \"align\": \"left\", \"yref\": \"y1\", \"showarrow\": false, \"xanchor\": \"left\"}, {\"font\": {\"color\": \"#000000\"}, \"y\": 13, \"text\": \"Gecko\", \"x\": -0.45, \"xref\": \"x1\", \"align\": \"left\", \"yref\": \"y1\", \"showarrow\": false, \"xanchor\": \"left\"}, {\"font\": {\"color\": \"#000000\"}, \"y\": 13, \"text\": \"Employees\", \"x\": 0.55, \"xref\": \"x1\", \"align\": \"left\", \"yref\": \"y1\", \"showarrow\": false, \"xanchor\": \"left\"}, {\"font\": {\"color\": \"#000000\"}, \"y\": 13, \"text\": \"1679\", \"x\": 1.55, \"xref\": \"x1\", \"align\": \"left\", \"yref\": \"y1\", \"showarrow\": false, \"xanchor\": \"left\"}, {\"font\": {\"color\": \"#000000\"}, \"y\": 13, \"text\": \"5\", \"x\": 2.55, \"xref\": \"x1\", \"align\": \"left\", \"yref\": \"y1\", \"showarrow\": false, \"xanchor\": \"left\"}, {\"font\": {\"color\": \"#000000\"}, \"y\": 13, \"text\": \"234\", \"x\": 3.55, \"xref\": \"x1\", \"align\": \"left\", \"yref\": \"y1\", \"showarrow\": false, \"xanchor\": \"left\"}, {\"font\": {\"color\": \"#000000\"}, \"y\": 14, \"text\": \"Web Properties\", \"x\": -0.45, \"xref\": \"x1\", \"align\": \"left\", \"yref\": \"y1\", \"showarrow\": false, \"xanchor\": \"left\"}, {\"font\": {\"color\": \"#000000\"}, \"y\": 14, \"text\": \"Employees\", \"x\": 0.55, \"xref\": \"x1\", \"align\": \"left\", \"yref\": \"y1\", \"showarrow\": false, \"xanchor\": \"left\"}, {\"font\": {\"color\": \"#000000\"}, \"y\": 14, \"text\": \"1547\", \"x\": 1.55, \"xref\": \"x1\", \"align\": \"left\", \"yref\": \"y1\", \"showarrow\": false, \"xanchor\": \"left\"}, {\"font\": {\"color\": \"#000000\"}, \"y\": 14, \"text\": \"16\", \"x\": 2.55, \"xref\": \"x1\", \"align\": \"left\", \"yref\": \"y1\", \"showarrow\": false, \"xanchor\": \"left\"}, {\"font\": {\"color\": \"#000000\"}, \"y\": 14, \"text\": \"176\", \"x\": 3.55, \"xref\": \"x1\", \"align\": \"left\", \"yref\": \"y1\", \"showarrow\": false, \"xanchor\": \"left\"}, {\"font\": {\"color\": \"#000000\"}, \"y\": 15, \"text\": \"Firefox\", \"x\": -0.45, \"xref\": \"x1\", \"align\": \"left\", \"yref\": \"y1\", \"showarrow\": false, \"xanchor\": \"left\"}, {\"font\": {\"color\": \"#000000\"}, \"y\": 15, \"text\": \"Employees\", \"x\": 0.55, \"xref\": \"x1\", \"align\": \"left\", \"yref\": \"y1\", \"showarrow\": false, \"xanchor\": \"left\"}, {\"font\": {\"color\": \"#000000\"}, \"y\": 15, \"text\": \"1340\", \"x\": 1.55, \"xref\": \"x1\", \"align\": \"left\", \"yref\": \"y1\", \"showarrow\": false, \"xanchor\": \"left\"}, {\"font\": {\"color\": \"#000000\"}, \"y\": 15, \"text\": \"3\", \"x\": 2.55, \"xref\": \"x1\", \"align\": \"left\", \"yref\": \"y1\", \"showarrow\": false, \"xanchor\": \"left\"}, {\"font\": {\"color\": \"#000000\"}, \"y\": 15, \"text\": \"58\", \"x\": 3.55, \"xref\": \"x1\", \"align\": \"left\", \"yref\": \"y1\", \"showarrow\": false, \"xanchor\": \"left\"}, {\"font\": {\"color\": \"#000000\"}, \"y\": 16, \"text\": \"Developer Tools\", \"x\": -0.45, \"xref\": \"x1\", \"align\": \"left\", \"yref\": \"y1\", \"showarrow\": false, \"xanchor\": \"left\"}, {\"font\": {\"color\": \"#000000\"}, \"y\": 16, \"text\": \"Non-Employees\", \"x\": 0.55, \"xref\": \"x1\", \"align\": \"left\", \"yref\": \"y1\", \"showarrow\": false, \"xanchor\": \"left\"}, {\"font\": {\"color\": \"#000000\"}, \"y\": 16, \"text\": \"1186\", \"x\": 1.55, \"xref\": \"x1\", \"align\": \"left\", \"yref\": \"y1\", \"showarrow\": false, \"xanchor\": \"left\"}, {\"font\": {\"color\": \"#000000\"}, \"y\": 16, \"text\": \"1\", \"x\": 2.55, \"xref\": \"x1\", \"align\": \"left\", \"yref\": \"y1\", \"showarrow\": false, \"xanchor\": \"left\"}, {\"font\": {\"color\": \"#000000\"}, \"y\": 16, \"text\": \"24\", \"x\": 3.55, \"xref\": \"x1\", \"align\": \"left\", \"yref\": \"y1\", \"showarrow\": false, \"xanchor\": \"left\"}, {\"font\": {\"color\": \"#000000\"}, \"y\": 17, \"text\": \"Firefox OS (FxOS / B2G)\", \"x\": -0.45, \"xref\": \"x1\", \"align\": \"left\", \"yref\": \"y1\", \"showarrow\": false, \"xanchor\": \"left\"}, {\"font\": {\"color\": \"#000000\"}, \"y\": 17, \"text\": \"Employees\", \"x\": 0.55, \"xref\": \"x1\", \"align\": \"left\", \"yref\": \"y1\", \"showarrow\": false, \"xanchor\": \"left\"}, {\"font\": {\"color\": \"#000000\"}, \"y\": 17, \"text\": \"946\", \"x\": 1.55, \"xref\": \"x1\", \"align\": \"left\", \"yref\": \"y1\", \"showarrow\": false, \"xanchor\": \"left\"}, {\"font\": {\"color\": \"#000000\"}, \"y\": 17, \"text\": \"4\", \"x\": 2.55, \"xref\": \"x1\", \"align\": \"left\", \"yref\": \"y1\", \"showarrow\": false, \"xanchor\": \"left\"}, {\"font\": {\"color\": \"#000000\"}, \"y\": 17, \"text\": \"115\", \"x\": 3.55, \"xref\": \"x1\", \"align\": \"left\", \"yref\": \"y1\", \"showarrow\": false, \"xanchor\": \"left\"}, {\"font\": {\"color\": \"#000000\"}, \"y\": 18, \"text\": \"Firefox Android\", \"x\": -0.45, \"xref\": \"x1\", \"align\": \"left\", \"yref\": \"y1\", \"showarrow\": false, \"xanchor\": \"left\"}, {\"font\": {\"color\": \"#000000\"}, \"y\": 18, \"text\": \"Employees\", \"x\": 0.55, \"xref\": \"x1\", \"align\": \"left\", \"yref\": \"y1\", \"showarrow\": false, \"xanchor\": \"left\"}, {\"font\": {\"color\": \"#000000\"}, \"y\": 18, \"text\": \"699\", \"x\": 1.55, \"xref\": \"x1\", \"align\": \"left\", \"yref\": \"y1\", \"showarrow\": false, \"xanchor\": \"left\"}, {\"font\": {\"color\": \"#000000\"}, \"y\": 18, \"text\": \"2\", \"x\": 2.55, \"xref\": \"x1\", \"align\": \"left\", \"yref\": \"y1\", \"showarrow\": false, \"xanchor\": \"left\"}, {\"font\": {\"color\": \"#000000\"}, \"y\": 18, \"text\": \"36\", \"x\": 3.55, \"xref\": \"x1\", \"align\": \"left\", \"yref\": \"y1\", \"showarrow\": false, \"xanchor\": \"left\"}, {\"font\": {\"color\": \"#000000\"}, \"y\": 19, \"text\": \"Release engineering\", \"x\": -0.45, \"xref\": \"x1\", \"align\": \"left\", \"yref\": \"y1\", \"showarrow\": false, \"xanchor\": \"left\"}, {\"font\": {\"color\": \"#000000\"}, \"y\": 19, \"text\": \"Employees\", \"x\": 0.55, \"xref\": \"x1\", \"align\": \"left\", \"yref\": \"y1\", \"showarrow\": false, \"xanchor\": \"left\"}, {\"font\": {\"color\": \"#000000\"}, \"y\": 19, \"text\": \"636\", \"x\": 1.55, \"xref\": \"x1\", \"align\": \"left\", \"yref\": \"y1\", \"showarrow\": false, \"xanchor\": \"left\"}, {\"font\": {\"color\": \"#000000\"}, \"y\": 19, \"text\": \"1\", \"x\": 2.55, \"xref\": \"x1\", \"align\": \"left\", \"yref\": \"y1\", \"showarrow\": false, \"xanchor\": \"left\"}, {\"font\": {\"color\": \"#000000\"}, \"y\": 19, \"text\": \"14\", \"x\": 3.55, \"xref\": \"x1\", \"align\": \"left\", \"yref\": \"y1\", \"showarrow\": false, \"xanchor\": \"left\"}, {\"font\": {\"color\": \"#000000\"}, \"y\": 20, \"text\": \"Quality Assurance\", \"x\": -0.45, \"xref\": \"x1\", \"align\": \"left\", \"yref\": \"y1\", \"showarrow\": false, \"xanchor\": \"left\"}, {\"font\": {\"color\": \"#000000\"}, \"y\": 20, \"text\": \"Employees\", \"x\": 0.55, \"xref\": \"x1\", \"align\": \"left\", \"yref\": \"y1\", \"showarrow\": false, \"xanchor\": \"left\"}, {\"font\": {\"color\": \"#000000\"}, \"y\": 20, \"text\": \"582\", \"x\": 1.55, \"xref\": \"x1\", \"align\": \"left\", \"yref\": \"y1\", \"showarrow\": false, \"xanchor\": \"left\"}, {\"font\": {\"color\": \"#000000\"}, \"y\": 20, \"text\": \"4\", \"x\": 2.55, \"xref\": \"x1\", \"align\": \"left\", \"yref\": \"y1\", \"showarrow\": false, \"xanchor\": \"left\"}, {\"font\": {\"color\": \"#000000\"}, \"y\": 20, \"text\": \"42\", \"x\": 3.55, \"xref\": \"x1\", \"align\": \"left\", \"yref\": \"y1\", \"showarrow\": false, \"xanchor\": \"left\"}, {\"font\": {\"color\": \"#000000\"}, \"y\": 21, \"text\": \"Thunderbird\", \"x\": -0.45, \"xref\": \"x1\", \"align\": \"left\", \"yref\": \"y1\", \"showarrow\": false, \"xanchor\": \"left\"}, {\"font\": {\"color\": \"#000000\"}, \"y\": 21, \"text\": \"Employees\", \"x\": 0.55, \"xref\": \"x1\", \"align\": \"left\", \"yref\": \"y1\", \"showarrow\": false, \"xanchor\": \"left\"}, {\"font\": {\"color\": \"#000000\"}, \"y\": 21, \"text\": \"565\", \"x\": 1.55, \"xref\": \"x1\", \"align\": \"left\", \"yref\": \"y1\", \"showarrow\": false, \"xanchor\": \"left\"}, {\"font\": {\"color\": \"#000000\"}, \"y\": 21, \"text\": \"3\", \"x\": 2.55, \"xref\": \"x1\", \"align\": \"left\", \"yref\": \"y1\", \"showarrow\": false, \"xanchor\": \"left\"}, {\"font\": {\"color\": \"#000000\"}, \"y\": 21, \"text\": \"48\", \"x\": 3.55, \"xref\": \"x1\", \"align\": \"left\", \"yref\": \"y1\", \"showarrow\": false, \"xanchor\": \"left\"}, {\"font\": {\"color\": \"#000000\"}, \"y\": 22, \"text\": \"Quality Assurance\", \"x\": -0.45, \"xref\": \"x1\", \"align\": \"left\", \"yref\": \"y1\", \"showarrow\": false, \"xanchor\": \"left\"}, {\"font\": {\"color\": \"#000000\"}, \"y\": 22, \"text\": \"Non-Employees\", \"x\": 0.55, \"xref\": \"x1\", \"align\": \"left\", \"yref\": \"y1\", \"showarrow\": false, \"xanchor\": \"left\"}, {\"font\": {\"color\": \"#000000\"}, \"y\": 22, \"text\": \"535\", \"x\": 1.55, \"xref\": \"x1\", \"align\": \"left\", \"yref\": \"y1\", \"showarrow\": false, \"xanchor\": \"left\"}, {\"font\": {\"color\": \"#000000\"}, \"y\": 22, \"text\": \"4\", \"x\": 2.55, \"xref\": \"x1\", \"align\": \"left\", \"yref\": \"y1\", \"showarrow\": false, \"xanchor\": \"left\"}, {\"font\": {\"color\": \"#000000\"}, \"y\": 22, \"text\": \"38\", \"x\": 3.55, \"xref\": \"x1\", \"align\": \"left\", \"yref\": \"y1\", \"showarrow\": false, \"xanchor\": \"left\"}, {\"font\": {\"color\": \"#000000\"}, \"y\": 23, \"text\": \"Addons/Web Extensions\", \"x\": -0.45, \"xref\": \"x1\", \"align\": \"left\", \"yref\": \"y1\", \"showarrow\": false, \"xanchor\": \"left\"}, {\"font\": {\"color\": \"#000000\"}, \"y\": 23, \"text\": \"Employees\", \"x\": 0.55, \"xref\": \"x1\", \"align\": \"left\", \"yref\": \"y1\", \"showarrow\": false, \"xanchor\": \"left\"}, {\"font\": {\"color\": \"#000000\"}, \"y\": 23, \"text\": \"498\", \"x\": 1.55, \"xref\": \"x1\", \"align\": \"left\", \"yref\": \"y1\", \"showarrow\": false, \"xanchor\": \"left\"}, {\"font\": {\"color\": \"#000000\"}, \"y\": 23, \"text\": \"3\", \"x\": 2.55, \"xref\": \"x1\", \"align\": \"left\", \"yref\": \"y1\", \"showarrow\": false, \"xanchor\": \"left\"}, {\"font\": {\"color\": \"#000000\"}, \"y\": 23, \"text\": \"25\", \"x\": 3.55, \"xref\": \"x1\", \"align\": \"left\", \"yref\": \"y1\", \"showarrow\": false, \"xanchor\": \"left\"}, {\"font\": {\"color\": \"#000000\"}, \"y\": 24, \"text\": \"Developer Tools\", \"x\": -0.45, \"xref\": \"x1\", \"align\": \"left\", \"yref\": \"y1\", \"showarrow\": false, \"xanchor\": \"left\"}, {\"font\": {\"color\": \"#000000\"}, \"y\": 24, \"text\": \"Employees\", \"x\": 0.55, \"xref\": \"x1\", \"align\": \"left\", \"yref\": \"y1\", \"showarrow\": false, \"xanchor\": \"left\"}, {\"font\": {\"color\": \"#000000\"}, \"y\": 24, \"text\": \"461\", \"x\": 1.55, \"xref\": \"x1\", \"align\": \"left\", \"yref\": \"y1\", \"showarrow\": false, \"xanchor\": \"left\"}, {\"font\": {\"color\": \"#000000\"}, \"y\": 24, \"text\": \"1\", \"x\": 2.55, \"xref\": \"x1\", \"align\": \"left\", \"yref\": \"y1\", \"showarrow\": false, \"xanchor\": \"left\"}, {\"font\": {\"color\": \"#000000\"}, \"y\": 24, \"text\": \"24\", \"x\": 3.55, \"xref\": \"x1\", \"align\": \"left\", \"yref\": \"y1\", \"showarrow\": false, \"xanchor\": \"left\"}, {\"font\": {\"color\": \"#000000\"}, \"y\": 25, \"text\": \"Mozilla Developer Network (MDN)\", \"x\": -0.45, \"xref\": \"x1\", \"align\": \"left\", \"yref\": \"y1\", \"showarrow\": false, \"xanchor\": \"left\"}, {\"font\": {\"color\": \"#000000\"}, \"y\": 25, \"text\": \"Employees\", \"x\": 0.55, \"xref\": \"x1\", \"align\": \"left\", \"yref\": \"y1\", \"showarrow\": false, \"xanchor\": \"left\"}, {\"font\": {\"color\": \"#000000\"}, \"y\": 25, \"text\": \"457\", \"x\": 1.55, \"xref\": \"x1\", \"align\": \"left\", \"yref\": \"y1\", \"showarrow\": false, \"xanchor\": \"left\"}, {\"font\": {\"color\": \"#000000\"}, \"y\": 25, \"text\": \"2\", \"x\": 2.55, \"xref\": \"x1\", \"align\": \"left\", \"yref\": \"y1\", \"showarrow\": false, \"xanchor\": \"left\"}, {\"font\": {\"color\": \"#000000\"}, \"y\": 25, \"text\": \"55\", \"x\": 3.55, \"xref\": \"x1\", \"align\": \"left\", \"yref\": \"y1\", \"showarrow\": false, \"xanchor\": \"left\"}, {\"font\": {\"color\": \"#000000\"}, \"y\": 26, \"text\": \"Technical/Developer Evangelism\", \"x\": -0.45, \"xref\": \"x1\", \"align\": \"left\", \"yref\": \"y1\", \"showarrow\": false, \"xanchor\": \"left\"}, {\"font\": {\"color\": \"#000000\"}, \"y\": 26, \"text\": \"Employees\", \"x\": 0.55, \"xref\": \"x1\", \"align\": \"left\", \"yref\": \"y1\", \"showarrow\": false, \"xanchor\": \"left\"}, {\"font\": {\"color\": \"#000000\"}, \"y\": 26, \"text\": \"436\", \"x\": 1.55, \"xref\": \"x1\", \"align\": \"left\", \"yref\": \"y1\", \"showarrow\": false, \"xanchor\": \"left\"}, {\"font\": {\"color\": \"#000000\"}, \"y\": 26, \"text\": \"3\", \"x\": 2.55, \"xref\": \"x1\", \"align\": \"left\", \"yref\": \"y1\", \"showarrow\": false, \"xanchor\": \"left\"}, {\"font\": {\"color\": \"#000000\"}, \"y\": 26, \"text\": \"37\", \"x\": 3.55, \"xref\": \"x1\", \"align\": \"left\", \"yref\": \"y1\", \"showarrow\": false, \"xanchor\": \"left\"}, {\"font\": {\"color\": \"#000000\"}, \"y\": 27, \"text\": \"Localization\", \"x\": -0.45, \"xref\": \"x1\", \"align\": \"left\", \"yref\": \"y1\", \"showarrow\": false, \"xanchor\": \"left\"}, {\"font\": {\"color\": \"#000000\"}, \"y\": 27, \"text\": \"Employees\", \"x\": 0.55, \"xref\": \"x1\", \"align\": \"left\", \"yref\": \"y1\", \"showarrow\": false, \"xanchor\": \"left\"}, {\"font\": {\"color\": \"#000000\"}, \"y\": 27, \"text\": \"424\", \"x\": 1.55, \"xref\": \"x1\", \"align\": \"left\", \"yref\": \"y1\", \"showarrow\": false, \"xanchor\": \"left\"}, {\"font\": {\"color\": \"#000000\"}, \"y\": 27, \"text\": \"4\", \"x\": 2.55, \"xref\": \"x1\", \"align\": \"left\", \"yref\": \"y1\", \"showarrow\": false, \"xanchor\": \"left\"}, {\"font\": {\"color\": \"#000000\"}, \"y\": 27, \"text\": \"149\", \"x\": 3.55, \"xref\": \"x1\", \"align\": \"left\", \"yref\": \"y1\", \"showarrow\": false, \"xanchor\": \"left\"}, {\"font\": {\"color\": \"#000000\"}, \"y\": 28, \"text\": \"Release engineering\", \"x\": -0.45, \"xref\": \"x1\", \"align\": \"left\", \"yref\": \"y1\", \"showarrow\": false, \"xanchor\": \"left\"}, {\"font\": {\"color\": \"#000000\"}, \"y\": 28, \"text\": \"Non-Employees\", \"x\": 0.55, \"xref\": \"x1\", \"align\": \"left\", \"yref\": \"y1\", \"showarrow\": false, \"xanchor\": \"left\"}, {\"font\": {\"color\": \"#000000\"}, \"y\": 28, \"text\": \"342\", \"x\": 1.55, \"xref\": \"x1\", \"align\": \"left\", \"yref\": \"y1\", \"showarrow\": false, \"xanchor\": \"left\"}, {\"font\": {\"color\": \"#000000\"}, \"y\": 28, \"text\": \"1\", \"x\": 2.55, \"xref\": \"x1\", \"align\": \"left\", \"yref\": \"y1\", \"showarrow\": false, \"xanchor\": \"left\"}, {\"font\": {\"color\": \"#000000\"}, \"y\": 28, \"text\": \"14\", \"x\": 3.55, \"xref\": \"x1\", \"align\": \"left\", \"yref\": \"y1\", \"showarrow\": false, \"xanchor\": \"left\"}, {\"font\": {\"color\": \"#000000\"}, \"y\": 29, \"text\": \"Web Literacy\", \"x\": -0.45, \"xref\": \"x1\", \"align\": \"left\", \"yref\": \"y1\", \"showarrow\": false, \"xanchor\": \"left\"}, {\"font\": {\"color\": \"#000000\"}, \"y\": 29, \"text\": \"Non-Employees\", \"x\": 0.55, \"xref\": \"x1\", \"align\": \"left\", \"yref\": \"y1\", \"showarrow\": false, \"xanchor\": \"left\"}, {\"font\": {\"color\": \"#000000\"}, \"y\": 29, \"text\": \"324\", \"x\": 1.55, \"xref\": \"x1\", \"align\": \"left\", \"yref\": \"y1\", \"showarrow\": false, \"xanchor\": \"left\"}, {\"font\": {\"color\": \"#000000\"}, \"y\": 29, \"text\": \"1\", \"x\": 2.55, \"xref\": \"x1\", \"align\": \"left\", \"yref\": \"y1\", \"showarrow\": false, \"xanchor\": \"left\"}, {\"font\": {\"color\": \"#000000\"}, \"y\": 29, \"text\": \"25\", \"x\": 3.55, \"xref\": \"x1\", \"align\": \"left\", \"yref\": \"y1\", \"showarrow\": false, \"xanchor\": \"left\"}, {\"font\": {\"color\": \"#000000\"}, \"y\": 30, \"text\": \"Marketing / Social Media\", \"x\": -0.45, \"xref\": \"x1\", \"align\": \"left\", \"yref\": \"y1\", \"showarrow\": false, \"xanchor\": \"left\"}, {\"font\": {\"color\": \"#000000\"}, \"y\": 30, \"text\": \"Employees\", \"x\": 0.55, \"xref\": \"x1\", \"align\": \"left\", \"yref\": \"y1\", \"showarrow\": false, \"xanchor\": \"left\"}, {\"font\": {\"color\": \"#000000\"}, \"y\": 30, \"text\": \"320\", \"x\": 1.55, \"xref\": \"x1\", \"align\": \"left\", \"yref\": \"y1\", \"showarrow\": false, \"xanchor\": \"left\"}, {\"font\": {\"color\": \"#000000\"}, \"y\": 30, \"text\": \"4\", \"x\": 2.55, \"xref\": \"x1\", \"align\": \"left\", \"yref\": \"y1\", \"showarrow\": false, \"xanchor\": \"left\"}, {\"font\": {\"color\": \"#000000\"}, \"y\": 30, \"text\": \"21\", \"x\": 3.55, \"xref\": \"x1\", \"align\": \"left\", \"yref\": \"y1\", \"showarrow\": false, \"xanchor\": \"left\"}, {\"font\": {\"color\": \"#000000\"}, \"y\": 31, \"text\": \"Mozilla Creative & Design\", \"x\": -0.45, \"xref\": \"x1\", \"align\": \"left\", \"yref\": \"y1\", \"showarrow\": false, \"xanchor\": \"left\"}, {\"font\": {\"color\": \"#000000\"}, \"y\": 31, \"text\": \"Employees\", \"x\": 0.55, \"xref\": \"x1\", \"align\": \"left\", \"yref\": \"y1\", \"showarrow\": false, \"xanchor\": \"left\"}, {\"font\": {\"color\": \"#000000\"}, \"y\": 31, \"text\": \"262\", \"x\": 1.55, \"xref\": \"x1\", \"align\": \"left\", \"yref\": \"y1\", \"showarrow\": false, \"xanchor\": \"left\"}, {\"font\": {\"color\": \"#000000\"}, \"y\": 31, \"text\": \"1\", \"x\": 2.55, \"xref\": \"x1\", \"align\": \"left\", \"yref\": \"y1\", \"showarrow\": false, \"xanchor\": \"left\"}, {\"font\": {\"color\": \"#000000\"}, \"y\": 31, \"text\": \"1\", \"x\": 3.55, \"xref\": \"x1\", \"align\": \"left\", \"yref\": \"y1\", \"showarrow\": false, \"xanchor\": \"left\"}, {\"font\": {\"color\": \"#000000\"}, \"y\": 32, \"text\": \"Marketing / Social Media\", \"x\": -0.45, \"xref\": \"x1\", \"align\": \"left\", \"yref\": \"y1\", \"showarrow\": false, \"xanchor\": \"left\"}, {\"font\": {\"color\": \"#000000\"}, \"y\": 32, \"text\": \"Non-Employees\", \"x\": 0.55, \"xref\": \"x1\", \"align\": \"left\", \"yref\": \"y1\", \"showarrow\": false, \"xanchor\": \"left\"}, {\"font\": {\"color\": \"#000000\"}, \"y\": 32, \"text\": \"250\", \"x\": 1.55, \"xref\": \"x1\", \"align\": \"left\", \"yref\": \"y1\", \"showarrow\": false, \"xanchor\": \"left\"}, {\"font\": {\"color\": \"#000000\"}, \"y\": 32, \"text\": \"4\", \"x\": 2.55, \"xref\": \"x1\", \"align\": \"left\", \"yref\": \"y1\", \"showarrow\": false, \"xanchor\": \"left\"}, {\"font\": {\"color\": \"#000000\"}, \"y\": 32, \"text\": \"18\", \"x\": 3.55, \"xref\": \"x1\", \"align\": \"left\", \"yref\": \"y1\", \"showarrow\": false, \"xanchor\": \"left\"}, {\"font\": {\"color\": \"#000000\"}, \"y\": 33, \"text\": \"Mozilla Local/Regional communities\", \"x\": -0.45, \"xref\": \"x1\", \"align\": \"left\", \"yref\": \"y1\", \"showarrow\": false, \"xanchor\": \"left\"}, {\"font\": {\"color\": \"#000000\"}, \"y\": 33, \"text\": \"Non-Employees\", \"x\": 0.55, \"xref\": \"x1\", \"align\": \"left\", \"yref\": \"y1\", \"showarrow\": false, \"xanchor\": \"left\"}, {\"font\": {\"color\": \"#000000\"}, \"y\": 33, \"text\": \"161\", \"x\": 1.55, \"xref\": \"x1\", \"align\": \"left\", \"yref\": \"y1\", \"showarrow\": false, \"xanchor\": \"left\"}, {\"font\": {\"color\": \"#000000\"}, \"y\": 33, \"text\": \"2\", \"x\": 2.55, \"xref\": \"x1\", \"align\": \"left\", \"yref\": \"y1\", \"showarrow\": false, \"xanchor\": \"left\"}, {\"font\": {\"color\": \"#000000\"}, \"y\": 33, \"text\": \"16\", \"x\": 3.55, \"xref\": \"x1\", \"align\": \"left\", \"yref\": \"y1\", \"showarrow\": false, \"xanchor\": \"left\"}, {\"font\": {\"color\": \"#000000\"}, \"y\": 34, \"text\": \"Firefox iOS\", \"x\": -0.45, \"xref\": \"x1\", \"align\": \"left\", \"yref\": \"y1\", \"showarrow\": false, \"xanchor\": \"left\"}, {\"font\": {\"color\": \"#000000\"}, \"y\": 34, \"text\": \"Non-Employees\", \"x\": 0.55, \"xref\": \"x1\", \"align\": \"left\", \"yref\": \"y1\", \"showarrow\": false, \"xanchor\": \"left\"}, {\"font\": {\"color\": \"#000000\"}, \"y\": 34, \"text\": \"151\", \"x\": 1.55, \"xref\": \"x1\", \"align\": \"left\", \"yref\": \"y1\", \"showarrow\": false, \"xanchor\": \"left\"}, {\"font\": {\"color\": \"#000000\"}, \"y\": 34, \"text\": \"1\", \"x\": 2.55, \"xref\": \"x1\", \"align\": \"left\", \"yref\": \"y1\", \"showarrow\": false, \"xanchor\": \"left\"}, {\"font\": {\"color\": \"#000000\"}, \"y\": 34, \"text\": \"14\", \"x\": 3.55, \"xref\": \"x1\", \"align\": \"left\", \"yref\": \"y1\", \"showarrow\": false, \"xanchor\": \"left\"}, {\"font\": {\"color\": \"#000000\"}, \"y\": 35, \"text\": \"Web Literacy\", \"x\": -0.45, \"xref\": \"x1\", \"align\": \"left\", \"yref\": \"y1\", \"showarrow\": false, \"xanchor\": \"left\"}, {\"font\": {\"color\": \"#000000\"}, \"y\": 35, \"text\": \"Employees\", \"x\": 0.55, \"xref\": \"x1\", \"align\": \"left\", \"yref\": \"y1\", \"showarrow\": false, \"xanchor\": \"left\"}, {\"font\": {\"color\": \"#000000\"}, \"y\": 35, \"text\": \"140\", \"x\": 1.55, \"xref\": \"x1\", \"align\": \"left\", \"yref\": \"y1\", \"showarrow\": false, \"xanchor\": \"left\"}, {\"font\": {\"color\": \"#000000\"}, \"y\": 35, \"text\": \"1\", \"x\": 2.55, \"xref\": \"x1\", \"align\": \"left\", \"yref\": \"y1\", \"showarrow\": false, \"xanchor\": \"left\"}, {\"font\": {\"color\": \"#000000\"}, \"y\": 35, \"text\": \"26\", \"x\": 3.55, \"xref\": \"x1\", \"align\": \"left\", \"yref\": \"y1\", \"showarrow\": false, \"xanchor\": \"left\"}, {\"font\": {\"color\": \"#000000\"}, \"y\": 36, \"text\": \"Firefox iOS\", \"x\": -0.45, \"xref\": \"x1\", \"align\": \"left\", \"yref\": \"y1\", \"showarrow\": false, \"xanchor\": \"left\"}, {\"font\": {\"color\": \"#000000\"}, \"y\": 36, \"text\": \"Employees\", \"x\": 0.55, \"xref\": \"x1\", \"align\": \"left\", \"yref\": \"y1\", \"showarrow\": false, \"xanchor\": \"left\"}, {\"font\": {\"color\": \"#000000\"}, \"y\": 36, \"text\": \"139\", \"x\": 1.55, \"xref\": \"x1\", \"align\": \"left\", \"yref\": \"y1\", \"showarrow\": false, \"xanchor\": \"left\"}, {\"font\": {\"color\": \"#000000\"}, \"y\": 36, \"text\": \"1\", \"x\": 2.55, \"xref\": \"x1\", \"align\": \"left\", \"yref\": \"y1\", \"showarrow\": false, \"xanchor\": \"left\"}, {\"font\": {\"color\": \"#000000\"}, \"y\": 36, \"text\": \"15\", \"x\": 3.55, \"xref\": \"x1\", \"align\": \"left\", \"yref\": \"y1\", \"showarrow\": false, \"xanchor\": \"left\"}, {\"font\": {\"color\": \"#000000\"}, \"y\": 37, \"text\": \"Mozilla Local/Regional communities\", \"x\": -0.45, \"xref\": \"x1\", \"align\": \"left\", \"yref\": \"y1\", \"showarrow\": false, \"xanchor\": \"left\"}, {\"font\": {\"color\": \"#000000\"}, \"y\": 37, \"text\": \"Employees\", \"x\": 0.55, \"xref\": \"x1\", \"align\": \"left\", \"yref\": \"y1\", \"showarrow\": false, \"xanchor\": \"left\"}, {\"font\": {\"color\": \"#000000\"}, \"y\": 37, \"text\": \"99\", \"x\": 1.55, \"xref\": \"x1\", \"align\": \"left\", \"yref\": \"y1\", \"showarrow\": false, \"xanchor\": \"left\"}, {\"font\": {\"color\": \"#000000\"}, \"y\": 37, \"text\": \"2\", \"x\": 2.55, \"xref\": \"x1\", \"align\": \"left\", \"yref\": \"y1\", \"showarrow\": false, \"xanchor\": \"left\"}, {\"font\": {\"color\": \"#000000\"}, \"y\": 37, \"text\": \"16\", \"x\": 3.55, \"xref\": \"x1\", \"align\": \"left\", \"yref\": \"y1\", \"showarrow\": false, \"xanchor\": \"left\"}, {\"font\": {\"color\": \"#000000\"}, \"y\": 38, \"text\": \"Mozilla support (SUMO)\", \"x\": -0.45, \"xref\": \"x1\", \"align\": \"left\", \"yref\": \"y1\", \"showarrow\": false, \"xanchor\": \"left\"}, {\"font\": {\"color\": \"#000000\"}, \"y\": 38, \"text\": \"Non-Employees\", \"x\": 0.55, \"xref\": \"x1\", \"align\": \"left\", \"yref\": \"y1\", \"showarrow\": false, \"xanchor\": \"left\"}, {\"font\": {\"color\": \"#000000\"}, \"y\": 38, \"text\": \"73\", \"x\": 1.55, \"xref\": \"x1\", \"align\": \"left\", \"yref\": \"y1\", \"showarrow\": false, \"xanchor\": \"left\"}, {\"font\": {\"color\": \"#000000\"}, \"y\": 38, \"text\": \"3\", \"x\": 2.55, \"xref\": \"x1\", \"align\": \"left\", \"yref\": \"y1\", \"showarrow\": false, \"xanchor\": \"left\"}, {\"font\": {\"color\": \"#000000\"}, \"y\": 38, \"text\": \"12\", \"x\": 3.55, \"xref\": \"x1\", \"align\": \"left\", \"yref\": \"y1\", \"showarrow\": false, \"xanchor\": \"left\"}, {\"font\": {\"color\": \"#000000\"}, \"y\": 39, \"text\": \"Mozilla support (SUMO)\", \"x\": -0.45, \"xref\": \"x1\", \"align\": \"left\", \"yref\": \"y1\", \"showarrow\": false, \"xanchor\": \"left\"}, {\"font\": {\"color\": \"#000000\"}, \"y\": 39, \"text\": \"Employees\", \"x\": 0.55, \"xref\": \"x1\", \"align\": \"left\", \"yref\": \"y1\", \"showarrow\": false, \"xanchor\": \"left\"}, {\"font\": {\"color\": \"#000000\"}, \"y\": 39, \"text\": \"61\", \"x\": 1.55, \"xref\": \"x1\", \"align\": \"left\", \"yref\": \"y1\", \"showarrow\": false, \"xanchor\": \"left\"}, {\"font\": {\"color\": \"#000000\"}, \"y\": 39, \"text\": \"3\", \"x\": 2.55, \"xref\": \"x1\", \"align\": \"left\", \"yref\": \"y1\", \"showarrow\": false, \"xanchor\": \"left\"}, {\"font\": {\"color\": \"#000000\"}, \"y\": 39, \"text\": \"12\", \"x\": 3.55, \"xref\": \"x1\", \"align\": \"left\", \"yref\": \"y1\", \"showarrow\": false, \"xanchor\": \"left\"}, {\"font\": {\"color\": \"#000000\"}, \"y\": 40, \"text\": \"Mozilla Foundation\", \"x\": -0.45, \"xref\": \"x1\", \"align\": \"left\", \"yref\": \"y1\", \"showarrow\": false, \"xanchor\": \"left\"}, {\"font\": {\"color\": \"#000000\"}, \"y\": 40, \"text\": \"Employees\", \"x\": 0.55, \"xref\": \"x1\", \"align\": \"left\", \"yref\": \"y1\", \"showarrow\": false, \"xanchor\": \"left\"}, {\"font\": {\"color\": \"#000000\"}, \"y\": 40, \"text\": \"49\", \"x\": 1.55, \"xref\": \"x1\", \"align\": \"left\", \"yref\": \"y1\", \"showarrow\": false, \"xanchor\": \"left\"}, {\"font\": {\"color\": \"#000000\"}, \"y\": 40, \"text\": \"2\", \"x\": 2.55, \"xref\": \"x1\", \"align\": \"left\", \"yref\": \"y1\", \"showarrow\": false, \"xanchor\": \"left\"}, {\"font\": {\"color\": \"#000000\"}, \"y\": 40, \"text\": \"15\", \"x\": 3.55, \"xref\": \"x1\", \"align\": \"left\", \"yref\": \"y1\", \"showarrow\": false, \"xanchor\": \"left\"}, {\"font\": {\"color\": \"#000000\"}, \"y\": 41, \"text\": \"Mozilla Foundation\", \"x\": -0.45, \"xref\": \"x1\", \"align\": \"left\", \"yref\": \"y1\", \"showarrow\": false, \"xanchor\": \"left\"}, {\"font\": {\"color\": \"#000000\"}, \"y\": 41, \"text\": \"Non-Employees\", \"x\": 0.55, \"xref\": \"x1\", \"align\": \"left\", \"yref\": \"y1\", \"showarrow\": false, \"xanchor\": \"left\"}, {\"font\": {\"color\": \"#000000\"}, \"y\": 41, \"text\": \"29\", \"x\": 1.55, \"xref\": \"x1\", \"align\": \"left\", \"yref\": \"y1\", \"showarrow\": false, \"xanchor\": \"left\"}, {\"font\": {\"color\": \"#000000\"}, \"y\": 41, \"text\": \"2\", \"x\": 2.55, \"xref\": \"x1\", \"align\": \"left\", \"yref\": \"y1\", \"showarrow\": false, \"xanchor\": \"left\"}, {\"font\": {\"color\": \"#000000\"}, \"y\": 41, \"text\": \"8\", \"x\": 3.55, \"xref\": \"x1\", \"align\": \"left\", \"yref\": \"y1\", \"showarrow\": false, \"xanchor\": \"left\"}, {\"font\": {\"color\": \"#000000\"}, \"y\": 42, \"text\": \"Mozilla Creative & Design\", \"x\": -0.45, \"xref\": \"x1\", \"align\": \"left\", \"yref\": \"y1\", \"showarrow\": false, \"xanchor\": \"left\"}, {\"font\": {\"color\": \"#000000\"}, \"y\": 42, \"text\": \"Non-Employees\", \"x\": 0.55, \"xref\": \"x1\", \"align\": \"left\", \"yref\": \"y1\", \"showarrow\": false, \"xanchor\": \"left\"}, {\"font\": {\"color\": \"#000000\"}, \"y\": 42, \"text\": \"22\", \"x\": 1.55, \"xref\": \"x1\", \"align\": \"left\", \"yref\": \"y1\", \"showarrow\": false, \"xanchor\": \"left\"}, {\"font\": {\"color\": \"#000000\"}, \"y\": 42, \"text\": \"1\", \"x\": 2.55, \"xref\": \"x1\", \"align\": \"left\", \"yref\": \"y1\", \"showarrow\": false, \"xanchor\": \"left\"}, {\"font\": {\"color\": \"#000000\"}, \"y\": 42, \"text\": \"1\", \"x\": 3.55, \"xref\": \"x1\", \"align\": \"left\", \"yref\": \"y1\", \"showarrow\": false, \"xanchor\": \"left\"}, {\"font\": {\"color\": \"#000000\"}, \"y\": 43, \"text\": \"Firefox Focus\", \"x\": -0.45, \"xref\": \"x1\", \"align\": \"left\", \"yref\": \"y1\", \"showarrow\": false, \"xanchor\": \"left\"}, {\"font\": {\"color\": \"#000000\"}, \"y\": 43, \"text\": \"Employees\", \"x\": 0.55, \"xref\": \"x1\", \"align\": \"left\", \"yref\": \"y1\", \"showarrow\": false, \"xanchor\": \"left\"}, {\"font\": {\"color\": \"#000000\"}, \"y\": 43, \"text\": \"18\", \"x\": 1.55, \"xref\": \"x1\", \"align\": \"left\", \"yref\": \"y1\", \"showarrow\": false, \"xanchor\": \"left\"}, {\"font\": {\"color\": \"#000000\"}, \"y\": 43, \"text\": \"1\", \"x\": 2.55, \"xref\": \"x1\", \"align\": \"left\", \"yref\": \"y1\", \"showarrow\": false, \"xanchor\": \"left\"}, {\"font\": {\"color\": \"#000000\"}, \"y\": 43, \"text\": \"1\", \"x\": 3.55, \"xref\": \"x1\", \"align\": \"left\", \"yref\": \"y1\", \"showarrow\": false, \"xanchor\": \"left\"}, {\"font\": {\"color\": \"#000000\"}, \"y\": 44, \"text\": \"Advocacy and policy\", \"x\": -0.45, \"xref\": \"x1\", \"align\": \"left\", \"yref\": \"y1\", \"showarrow\": false, \"xanchor\": \"left\"}, {\"font\": {\"color\": \"#000000\"}, \"y\": 44, \"text\": \"Non-Employees\", \"x\": 0.55, \"xref\": \"x1\", \"align\": \"left\", \"yref\": \"y1\", \"showarrow\": false, \"xanchor\": \"left\"}, {\"font\": {\"color\": \"#000000\"}, \"y\": 44, \"text\": \"11\", \"x\": 1.55, \"xref\": \"x1\", \"align\": \"left\", \"yref\": \"y1\", \"showarrow\": false, \"xanchor\": \"left\"}, {\"font\": {\"color\": \"#000000\"}, \"y\": 44, \"text\": \"1\", \"x\": 2.55, \"xref\": \"x1\", \"align\": \"left\", \"yref\": \"y1\", \"showarrow\": false, \"xanchor\": \"left\"}, {\"font\": {\"color\": \"#000000\"}, \"y\": 44, \"text\": \"4\", \"x\": 3.55, \"xref\": \"x1\", \"align\": \"left\", \"yref\": \"y1\", \"showarrow\": false, \"xanchor\": \"left\"}, {\"font\": {\"color\": \"#000000\"}, \"y\": 45, \"text\": \"Connected devices & IoT\", \"x\": -0.45, \"xref\": \"x1\", \"align\": \"left\", \"yref\": \"y1\", \"showarrow\": false, \"xanchor\": \"left\"}, {\"font\": {\"color\": \"#000000\"}, \"y\": 45, \"text\": \"Employees\", \"x\": 0.55, \"xref\": \"x1\", \"align\": \"left\", \"yref\": \"y1\", \"showarrow\": false, \"xanchor\": \"left\"}, {\"font\": {\"color\": \"#000000\"}, \"y\": 45, \"text\": \"9\", \"x\": 1.55, \"xref\": \"x1\", \"align\": \"left\", \"yref\": \"y1\", \"showarrow\": false, \"xanchor\": \"left\"}, {\"font\": {\"color\": \"#000000\"}, \"y\": 45, \"text\": \"1\", \"x\": 2.55, \"xref\": \"x1\", \"align\": \"left\", \"yref\": \"y1\", \"showarrow\": false, \"xanchor\": \"left\"}, {\"font\": {\"color\": \"#000000\"}, \"y\": 45, \"text\": \"3\", \"x\": 3.55, \"xref\": \"x1\", \"align\": \"left\", \"yref\": \"y1\", \"showarrow\": false, \"xanchor\": \"left\"}, {\"font\": {\"color\": \"#000000\"}, \"y\": 46, \"text\": \"Web Compatibility\", \"x\": -0.45, \"xref\": \"x1\", \"align\": \"left\", \"yref\": \"y1\", \"showarrow\": false, \"xanchor\": \"left\"}, {\"font\": {\"color\": \"#000000\"}, \"y\": 46, \"text\": \"Employees\", \"x\": 0.55, \"xref\": \"x1\", \"align\": \"left\", \"yref\": \"y1\", \"showarrow\": false, \"xanchor\": \"left\"}, {\"font\": {\"color\": \"#000000\"}, \"y\": 46, \"text\": \"7\", \"x\": 1.55, \"xref\": \"x1\", \"align\": \"left\", \"yref\": \"y1\", \"showarrow\": false, \"xanchor\": \"left\"}, {\"font\": {\"color\": \"#000000\"}, \"y\": 46, \"text\": \"1\", \"x\": 2.55, \"xref\": \"x1\", \"align\": \"left\", \"yref\": \"y1\", \"showarrow\": false, \"xanchor\": \"left\"}, {\"font\": {\"color\": \"#000000\"}, \"y\": 46, \"text\": \"2\", \"x\": 3.55, \"xref\": \"x1\", \"align\": \"left\", \"yref\": \"y1\", \"showarrow\": false, \"xanchor\": \"left\"}, {\"font\": {\"color\": \"#000000\"}, \"y\": 47, \"text\": \"Web Compatibility\", \"x\": -0.45, \"xref\": \"x1\", \"align\": \"left\", \"yref\": \"y1\", \"showarrow\": false, \"xanchor\": \"left\"}, {\"font\": {\"color\": \"#000000\"}, \"y\": 47, \"text\": \"Non-Employees\", \"x\": 0.55, \"xref\": \"x1\", \"align\": \"left\", \"yref\": \"y1\", \"showarrow\": false, \"xanchor\": \"left\"}, {\"font\": {\"color\": \"#000000\"}, \"y\": 47, \"text\": \"6\", \"x\": 1.55, \"xref\": \"x1\", \"align\": \"left\", \"yref\": \"y1\", \"showarrow\": false, \"xanchor\": \"left\"}, {\"font\": {\"color\": \"#000000\"}, \"y\": 47, \"text\": \"1\", \"x\": 2.55, \"xref\": \"x1\", \"align\": \"left\", \"yref\": \"y1\", \"showarrow\": false, \"xanchor\": \"left\"}, {\"font\": {\"color\": \"#000000\"}, \"y\": 47, \"text\": \"1\", \"x\": 3.55, \"xref\": \"x1\", \"align\": \"left\", \"yref\": \"y1\", \"showarrow\": false, \"xanchor\": \"left\"}, {\"font\": {\"color\": \"#000000\"}, \"y\": 48, \"text\": \"Firefox Focus\", \"x\": -0.45, \"xref\": \"x1\", \"align\": \"left\", \"yref\": \"y1\", \"showarrow\": false, \"xanchor\": \"left\"}, {\"font\": {\"color\": \"#000000\"}, \"y\": 48, \"text\": \"Non-Employees\", \"x\": 0.55, \"xref\": \"x1\", \"align\": \"left\", \"yref\": \"y1\", \"showarrow\": false, \"xanchor\": \"left\"}, {\"font\": {\"color\": \"#000000\"}, \"y\": 48, \"text\": \"6\", \"x\": 1.55, \"xref\": \"x1\", \"align\": \"left\", \"yref\": \"y1\", \"showarrow\": false, \"xanchor\": \"left\"}, {\"font\": {\"color\": \"#000000\"}, \"y\": 48, \"text\": \"1\", \"x\": 2.55, \"xref\": \"x1\", \"align\": \"left\", \"yref\": \"y1\", \"showarrow\": false, \"xanchor\": \"left\"}, {\"font\": {\"color\": \"#000000\"}, \"y\": 48, \"text\": \"1\", \"x\": 3.55, \"xref\": \"x1\", \"align\": \"left\", \"yref\": \"y1\", \"showarrow\": false, \"xanchor\": \"left\"}, {\"font\": {\"color\": \"#000000\"}, \"y\": 49, \"text\": \"Rust\", \"x\": -0.45, \"xref\": \"x1\", \"align\": \"left\", \"yref\": \"y1\", \"showarrow\": false, \"xanchor\": \"left\"}, {\"font\": {\"color\": \"#000000\"}, \"y\": 49, \"text\": \"Employees\", \"x\": 0.55, \"xref\": \"x1\", \"align\": \"left\", \"yref\": \"y1\", \"showarrow\": false, \"xanchor\": \"left\"}, {\"font\": {\"color\": \"#000000\"}, \"y\": 49, \"text\": \"5\", \"x\": 1.55, \"xref\": \"x1\", \"align\": \"left\", \"yref\": \"y1\", \"showarrow\": false, \"xanchor\": \"left\"}, {\"font\": {\"color\": \"#000000\"}, \"y\": 49, \"text\": \"1\", \"x\": 2.55, \"xref\": \"x1\", \"align\": \"left\", \"yref\": \"y1\", \"showarrow\": false, \"xanchor\": \"left\"}, {\"font\": {\"color\": \"#000000\"}, \"y\": 49, \"text\": \"1\", \"x\": 3.55, \"xref\": \"x1\", \"align\": \"left\", \"yref\": \"y1\", \"showarrow\": false, \"xanchor\": \"left\"}, {\"font\": {\"color\": \"#000000\"}, \"y\": 50, \"text\": \"Advocacy and policy\", \"x\": -0.45, \"xref\": \"x1\", \"align\": \"left\", \"yref\": \"y1\", \"showarrow\": false, \"xanchor\": \"left\"}, {\"font\": {\"color\": \"#000000\"}, \"y\": 50, \"text\": \"Employees\", \"x\": 0.55, \"xref\": \"x1\", \"align\": \"left\", \"yref\": \"y1\", \"showarrow\": false, \"xanchor\": \"left\"}, {\"font\": {\"color\": \"#000000\"}, \"y\": 50, \"text\": \"3\", \"x\": 1.55, \"xref\": \"x1\", \"align\": \"left\", \"yref\": \"y1\", \"showarrow\": false, \"xanchor\": \"left\"}, {\"font\": {\"color\": \"#000000\"}, \"y\": 50, \"text\": \"1\", \"x\": 2.55, \"xref\": \"x1\", \"align\": \"left\", \"yref\": \"y1\", \"showarrow\": false, \"xanchor\": \"left\"}, {\"font\": {\"color\": \"#000000\"}, \"y\": 50, \"text\": \"2\", \"x\": 3.55, \"xref\": \"x1\", \"align\": \"left\", \"yref\": \"y1\", \"showarrow\": false, \"xanchor\": \"left\"}, {\"font\": {\"color\": \"#000000\"}, \"y\": 51, \"text\": \"Connected devices & IoT\", \"x\": -0.45, \"xref\": \"x1\", \"align\": \"left\", \"yref\": \"y1\", \"showarrow\": false, \"xanchor\": \"left\"}, {\"font\": {\"color\": \"#000000\"}, \"y\": 51, \"text\": \"Non-Employees\", \"x\": 0.55, \"xref\": \"x1\", \"align\": \"left\", \"yref\": \"y1\", \"showarrow\": false, \"xanchor\": \"left\"}, {\"font\": {\"color\": \"#000000\"}, \"y\": 51, \"text\": \"1\", \"x\": 1.55, \"xref\": \"x1\", \"align\": \"left\", \"yref\": \"y1\", \"showarrow\": false, \"xanchor\": \"left\"}, {\"font\": {\"color\": \"#000000\"}, \"y\": 51, \"text\": \"1\", \"x\": 2.55, \"xref\": \"x1\", \"align\": \"left\", \"yref\": \"y1\", \"showarrow\": false, \"xanchor\": \"left\"}, {\"font\": {\"color\": \"#000000\"}, \"y\": 51, \"text\": \"1\", \"x\": 3.55, \"xref\": \"x1\", \"align\": \"left\", \"yref\": \"y1\", \"showarrow\": false, \"xanchor\": \"left\"}, {\"font\": {\"color\": \"#000000\"}, \"y\": 52, \"text\": \"Firefox Student Ambassadors\", \"x\": -0.45, \"xref\": \"x1\", \"align\": \"left\", \"yref\": \"y1\", \"showarrow\": false, \"xanchor\": \"left\"}, {\"font\": {\"color\": \"#000000\"}, \"y\": 52, \"text\": \"Non-Employees\", \"x\": 0.55, \"xref\": \"x1\", \"align\": \"left\", \"yref\": \"y1\", \"showarrow\": false, \"xanchor\": \"left\"}, {\"font\": {\"color\": \"#000000\"}, \"y\": 52, \"text\": \"1\", \"x\": 1.55, \"xref\": \"x1\", \"align\": \"left\", \"yref\": \"y1\", \"showarrow\": false, \"xanchor\": \"left\"}, {\"font\": {\"color\": \"#000000\"}, \"y\": 52, \"text\": \"1\", \"x\": 2.55, \"xref\": \"x1\", \"align\": \"left\", \"yref\": \"y1\", \"showarrow\": false, \"xanchor\": \"left\"}, {\"font\": {\"color\": \"#000000\"}, \"y\": 52, \"text\": \"1\", \"x\": 3.55, \"xref\": \"x1\", \"align\": \"left\", \"yref\": \"y1\", \"showarrow\": false, \"xanchor\": \"left\"}]}, {\"showLink\": true, \"linkText\": \"Export to plot.ly\"})});</script>"
      ],
      "text/vnd.plotly.v1+html": [
       "<div id=\"d62f3447-05ab-4000-b188-3a0f0b8f6b0b\" style=\"height: 1640px; width: 100%;\" class=\"plotly-graph-div\"></div><script type=\"text/javascript\">require([\"plotly\"], function(Plotly) { window.PLOTLYENV=window.PLOTLYENV || {};window.PLOTLYENV.BASE_URL=\"https://plot.ly\";Plotly.newPlot(\"d62f3447-05ab-4000-b188-3a0f0b8f6b0b\", [{\"hoverinfo\": \"none\", \"colorscale\": [[0, \"#00083e\"], [0.5, \"#ededee\"], [1, \"#ffffff\"]], \"z\": [[0, 0, 0, 0, 0], [0.5, 0.5, 0.5, 0.5, 0.5], [1, 1, 1, 1, 1], [0.5, 0.5, 0.5, 0.5, 0.5], [1, 1, 1, 1, 1], [0.5, 0.5, 0.5, 0.5, 0.5], [1, 1, 1, 1, 1], [0.5, 0.5, 0.5, 0.5, 0.5], [1, 1, 1, 1, 1], [0.5, 0.5, 0.5, 0.5, 0.5], [1, 1, 1, 1, 1], [0.5, 0.5, 0.5, 0.5, 0.5], [1, 1, 1, 1, 1], [0.5, 0.5, 0.5, 0.5, 0.5], [1, 1, 1, 1, 1], [0.5, 0.5, 0.5, 0.5, 0.5], [1, 1, 1, 1, 1], [0.5, 0.5, 0.5, 0.5, 0.5], [1, 1, 1, 1, 1], [0.5, 0.5, 0.5, 0.5, 0.5], [1, 1, 1, 1, 1], [0.5, 0.5, 0.5, 0.5, 0.5], [1, 1, 1, 1, 1], [0.5, 0.5, 0.5, 0.5, 0.5], [1, 1, 1, 1, 1], [0.5, 0.5, 0.5, 0.5, 0.5], [1, 1, 1, 1, 1], [0.5, 0.5, 0.5, 0.5, 0.5], [1, 1, 1, 1, 1], [0.5, 0.5, 0.5, 0.5, 0.5], [1, 1, 1, 1, 1], [0.5, 0.5, 0.5, 0.5, 0.5], [1, 1, 1, 1, 1], [0.5, 0.5, 0.5, 0.5, 0.5], [1, 1, 1, 1, 1], [0.5, 0.5, 0.5, 0.5, 0.5], [1, 1, 1, 1, 1], [0.5, 0.5, 0.5, 0.5, 0.5], [1, 1, 1, 1, 1], [0.5, 0.5, 0.5, 0.5, 0.5], [1, 1, 1, 1, 1], [0.5, 0.5, 0.5, 0.5, 0.5], [1, 1, 1, 1, 1], [0.5, 0.5, 0.5, 0.5, 0.5], [1, 1, 1, 1, 1], [0.5, 0.5, 0.5, 0.5, 0.5], [1, 1, 1, 1, 1], [0.5, 0.5, 0.5, 0.5, 0.5], [1, 1, 1, 1, 1], [0.5, 0.5, 0.5, 0.5, 0.5], [1, 1, 1, 1, 1], [0.5, 0.5, 0.5, 0.5, 0.5], [1, 1, 1, 1, 1]], \"showscale\": false, \"opacity\": 0.75, \"type\": \"heatmap\"}], {\"height\": 1640, \"yaxis\": {\"gridwidth\": 2, \"dtick\": 1, \"ticks\": \"\", \"tick0\": 0.5, \"showticklabels\": false, \"zeroline\": false, \"autorange\": \"reversed\"}, \"xaxis\": {\"gridwidth\": 2, \"dtick\": 1, \"ticks\": \"\", \"tick0\": -0.5, \"showticklabels\": false, \"zeroline\": false}, \"margin\": {\"r\": 0, \"b\": 0, \"l\": 0, \"t\": 0}, \"annotations\": [{\"font\": {\"color\": \"#ffffff\"}, \"y\": 0, \"text\": \"<b>Project</b>\", \"x\": -0.45, \"xref\": \"x1\", \"align\": \"left\", \"yref\": \"y1\", \"showarrow\": false, \"xanchor\": \"left\"}, {\"font\": {\"color\": \"#ffffff\"}, \"y\": 0, \"text\": \"<b>Org</b>\", \"x\": 0.55, \"xref\": \"x1\", \"align\": \"left\", \"yref\": \"y1\", \"showarrow\": false, \"xanchor\": \"left\"}, {\"font\": {\"color\": \"#ffffff\"}, \"y\": 0, \"text\": \"<b>uuid</b>\", \"x\": 1.55, \"xref\": \"x1\", \"align\": \"left\", \"yref\": \"y1\", \"showarrow\": false, \"xanchor\": \"left\"}, {\"font\": {\"color\": \"#ffffff\"}, \"y\": 0, \"text\": \"<b>Product</b>\", \"x\": 2.55, \"xref\": \"x1\", \"align\": \"left\", \"yref\": \"y1\", \"showarrow\": false, \"xanchor\": \"left\"}, {\"font\": {\"color\": \"#ffffff\"}, \"y\": 0, \"text\": \"<b>Component</b>\", \"x\": 3.55, \"xref\": \"x1\", \"align\": \"left\", \"yref\": \"y1\", \"showarrow\": false, \"xanchor\": \"left\"}, {\"font\": {\"color\": \"#000000\"}, \"y\": 1, \"text\": \"Firefox\", \"x\": -0.45, \"xref\": \"x1\", \"align\": \"left\", \"yref\": \"y1\", \"showarrow\": false, \"xanchor\": \"left\"}, {\"font\": {\"color\": \"#000000\"}, \"y\": 1, \"text\": \"Non-Employees\", \"x\": 0.55, \"xref\": \"x1\", \"align\": \"left\", \"yref\": \"y1\", \"showarrow\": false, \"xanchor\": \"left\"}, {\"font\": {\"color\": \"#000000\"}, \"y\": 1, \"text\": \"71348\", \"x\": 1.55, \"xref\": \"x1\", \"align\": \"left\", \"yref\": \"y1\", \"showarrow\": false, \"xanchor\": \"left\"}, {\"font\": {\"color\": \"#000000\"}, \"y\": 1, \"text\": \"3\", \"x\": 2.55, \"xref\": \"x1\", \"align\": \"left\", \"yref\": \"y1\", \"showarrow\": false, \"xanchor\": \"left\"}, {\"font\": {\"color\": \"#000000\"}, \"y\": 1, \"text\": \"56\", \"x\": 3.55, \"xref\": \"x1\", \"align\": \"left\", \"yref\": \"y1\", \"showarrow\": false, \"xanchor\": \"left\"}, {\"font\": {\"color\": \"#000000\"}, \"y\": 2, \"text\": \"Gecko\", \"x\": -0.45, \"xref\": \"x1\", \"align\": \"left\", \"yref\": \"y1\", \"showarrow\": false, \"xanchor\": \"left\"}, {\"font\": {\"color\": \"#000000\"}, \"y\": 2, \"text\": \"Non-Employees\", \"x\": 0.55, \"xref\": \"x1\", \"align\": \"left\", \"yref\": \"y1\", \"showarrow\": false, \"xanchor\": \"left\"}, {\"font\": {\"color\": \"#000000\"}, \"y\": 2, \"text\": \"61384\", \"x\": 1.55, \"xref\": \"x1\", \"align\": \"left\", \"yref\": \"y1\", \"showarrow\": false, \"xanchor\": \"left\"}, {\"font\": {\"color\": \"#000000\"}, \"y\": 2, \"text\": \"5\", \"x\": 2.55, \"xref\": \"x1\", \"align\": \"left\", \"yref\": \"y1\", \"showarrow\": false, \"xanchor\": \"left\"}, {\"font\": {\"color\": \"#000000\"}, \"y\": 2, \"text\": \"245\", \"x\": 3.55, \"xref\": \"x1\", \"align\": \"left\", \"yref\": \"y1\", \"showarrow\": false, \"xanchor\": \"left\"}, {\"font\": {\"color\": \"#000000\"}, \"y\": 3, \"text\": \"Thunderbird\", \"x\": -0.45, \"xref\": \"x1\", \"align\": \"left\", \"yref\": \"y1\", \"showarrow\": false, \"xanchor\": \"left\"}, {\"font\": {\"color\": \"#000000\"}, \"y\": 3, \"text\": \"Non-Employees\", \"x\": 0.55, \"xref\": \"x1\", \"align\": \"left\", \"yref\": \"y1\", \"showarrow\": false, \"xanchor\": \"left\"}, {\"font\": {\"color\": \"#000000\"}, \"y\": 3, \"text\": \"29644\", \"x\": 1.55, \"xref\": \"x1\", \"align\": \"left\", \"yref\": \"y1\", \"showarrow\": false, \"xanchor\": \"left\"}, {\"font\": {\"color\": \"#000000\"}, \"y\": 3, \"text\": \"3\", \"x\": 2.55, \"xref\": \"x1\", \"align\": \"left\", \"yref\": \"y1\", \"showarrow\": false, \"xanchor\": \"left\"}, {\"font\": {\"color\": \"#000000\"}, \"y\": 3, \"text\": \"47\", \"x\": 3.55, \"xref\": \"x1\", \"align\": \"left\", \"yref\": \"y1\", \"showarrow\": false, \"xanchor\": \"left\"}, {\"font\": {\"color\": \"#000000\"}, \"y\": 4, \"text\": \"Technical/Developer Evangelism\", \"x\": -0.45, \"xref\": \"x1\", \"align\": \"left\", \"yref\": \"y1\", \"showarrow\": false, \"xanchor\": \"left\"}, {\"font\": {\"color\": \"#000000\"}, \"y\": 4, \"text\": \"Non-Employees\", \"x\": 0.55, \"xref\": \"x1\", \"align\": \"left\", \"yref\": \"y1\", \"showarrow\": false, \"xanchor\": \"left\"}, {\"font\": {\"color\": \"#000000\"}, \"y\": 4, \"text\": \"5249\", \"x\": 1.55, \"xref\": \"x1\", \"align\": \"left\", \"yref\": \"y1\", \"showarrow\": false, \"xanchor\": \"left\"}, {\"font\": {\"color\": \"#000000\"}, \"y\": 4, \"text\": \"3\", \"x\": 2.55, \"xref\": \"x1\", \"align\": \"left\", \"yref\": \"y1\", \"showarrow\": false, \"xanchor\": \"left\"}, {\"font\": {\"color\": \"#000000\"}, \"y\": 4, \"text\": \"44\", \"x\": 3.55, \"xref\": \"x1\", \"align\": \"left\", \"yref\": \"y1\", \"showarrow\": false, \"xanchor\": \"left\"}, {\"font\": {\"color\": \"#000000\"}, \"y\": 5, \"text\": \"Web Properties\", \"x\": -0.45, \"xref\": \"x1\", \"align\": \"left\", \"yref\": \"y1\", \"showarrow\": false, \"xanchor\": \"left\"}, {\"font\": {\"color\": \"#000000\"}, \"y\": 5, \"text\": \"Non-Employees\", \"x\": 0.55, \"xref\": \"x1\", \"align\": \"left\", \"yref\": \"y1\", \"showarrow\": false, \"xanchor\": \"left\"}, {\"font\": {\"color\": \"#000000\"}, \"y\": 5, \"text\": \"4254\", \"x\": 1.55, \"xref\": \"x1\", \"align\": \"left\", \"yref\": \"y1\", \"showarrow\": false, \"xanchor\": \"left\"}, {\"font\": {\"color\": \"#000000\"}, \"y\": 5, \"text\": \"16\", \"x\": 2.55, \"xref\": \"x1\", \"align\": \"left\", \"yref\": \"y1\", \"showarrow\": false, \"xanchor\": \"left\"}, {\"font\": {\"color\": \"#000000\"}, \"y\": 5, \"text\": \"166\", \"x\": 3.55, \"xref\": \"x1\", \"align\": \"left\", \"yref\": \"y1\", \"showarrow\": false, \"xanchor\": \"left\"}, {\"font\": {\"color\": \"#000000\"}, \"y\": 6, \"text\": \"IT/Ops\", \"x\": -0.45, \"xref\": \"x1\", \"align\": \"left\", \"yref\": \"y1\", \"showarrow\": false, \"xanchor\": \"left\"}, {\"font\": {\"color\": \"#000000\"}, \"y\": 6, \"text\": \"Non-Employees\", \"x\": 0.55, \"xref\": \"x1\", \"align\": \"left\", \"yref\": \"y1\", \"showarrow\": false, \"xanchor\": \"left\"}, {\"font\": {\"color\": \"#000000\"}, \"y\": 6, \"text\": \"2730\", \"x\": 1.55, \"xref\": \"x1\", \"align\": \"left\", \"yref\": \"y1\", \"showarrow\": false, \"xanchor\": \"left\"}, {\"font\": {\"color\": \"#000000\"}, \"y\": 6, \"text\": \"11\", \"x\": 2.55, \"xref\": \"x1\", \"align\": \"left\", \"yref\": \"y1\", \"showarrow\": false, \"xanchor\": \"left\"}, {\"font\": {\"color\": \"#000000\"}, \"y\": 6, \"text\": \"172\", \"x\": 3.55, \"xref\": \"x1\", \"align\": \"left\", \"yref\": \"y1\", \"showarrow\": false, \"xanchor\": \"left\"}, {\"font\": {\"color\": \"#000000\"}, \"y\": 7, \"text\": \"Firefox Android\", \"x\": -0.45, \"xref\": \"x1\", \"align\": \"left\", \"yref\": \"y1\", \"showarrow\": false, \"xanchor\": \"left\"}, {\"font\": {\"color\": \"#000000\"}, \"y\": 7, \"text\": \"Non-Employees\", \"x\": 0.55, \"xref\": \"x1\", \"align\": \"left\", \"yref\": \"y1\", \"showarrow\": false, \"xanchor\": \"left\"}, {\"font\": {\"color\": \"#000000\"}, \"y\": 7, \"text\": \"2484\", \"x\": 1.55, \"xref\": \"x1\", \"align\": \"left\", \"yref\": \"y1\", \"showarrow\": false, \"xanchor\": \"left\"}, {\"font\": {\"color\": \"#000000\"}, \"y\": 7, \"text\": \"2\", \"x\": 2.55, \"xref\": \"x1\", \"align\": \"left\", \"yref\": \"y1\", \"showarrow\": false, \"xanchor\": \"left\"}, {\"font\": {\"color\": \"#000000\"}, \"y\": 7, \"text\": \"36\", \"x\": 3.55, \"xref\": \"x1\", \"align\": \"left\", \"yref\": \"y1\", \"showarrow\": false, \"xanchor\": \"left\"}, {\"font\": {\"color\": \"#000000\"}, \"y\": 8, \"text\": \"IT/Ops\", \"x\": -0.45, \"xref\": \"x1\", \"align\": \"left\", \"yref\": \"y1\", \"showarrow\": false, \"xanchor\": \"left\"}, {\"font\": {\"color\": \"#000000\"}, \"y\": 8, \"text\": \"Employees\", \"x\": 0.55, \"xref\": \"x1\", \"align\": \"left\", \"yref\": \"y1\", \"showarrow\": false, \"xanchor\": \"left\"}, {\"font\": {\"color\": \"#000000\"}, \"y\": 8, \"text\": \"2242\", \"x\": 1.55, \"xref\": \"x1\", \"align\": \"left\", \"yref\": \"y1\", \"showarrow\": false, \"xanchor\": \"left\"}, {\"font\": {\"color\": \"#000000\"}, \"y\": 8, \"text\": \"11\", \"x\": 2.55, \"xref\": \"x1\", \"align\": \"left\", \"yref\": \"y1\", \"showarrow\": false, \"xanchor\": \"left\"}, {\"font\": {\"color\": \"#000000\"}, \"y\": 8, \"text\": \"213\", \"x\": 3.55, \"xref\": \"x1\", \"align\": \"left\", \"yref\": \"y1\", \"showarrow\": false, \"xanchor\": \"left\"}, {\"font\": {\"color\": \"#000000\"}, \"y\": 9, \"text\": \"Addons/Web Extensions\", \"x\": -0.45, \"xref\": \"x1\", \"align\": \"left\", \"yref\": \"y1\", \"showarrow\": false, \"xanchor\": \"left\"}, {\"font\": {\"color\": \"#000000\"}, \"y\": 9, \"text\": \"Non-Employees\", \"x\": 0.55, \"xref\": \"x1\", \"align\": \"left\", \"yref\": \"y1\", \"showarrow\": false, \"xanchor\": \"left\"}, {\"font\": {\"color\": \"#000000\"}, \"y\": 9, \"text\": \"2176\", \"x\": 1.55, \"xref\": \"x1\", \"align\": \"left\", \"yref\": \"y1\", \"showarrow\": false, \"xanchor\": \"left\"}, {\"font\": {\"color\": \"#000000\"}, \"y\": 9, \"text\": \"3\", \"x\": 2.55, \"xref\": \"x1\", \"align\": \"left\", \"yref\": \"y1\", \"showarrow\": false, \"xanchor\": \"left\"}, {\"font\": {\"color\": \"#000000\"}, \"y\": 9, \"text\": \"25\", \"x\": 3.55, \"xref\": \"x1\", \"align\": \"left\", \"yref\": \"y1\", \"showarrow\": false, \"xanchor\": \"left\"}, {\"font\": {\"color\": \"#000000\"}, \"y\": 10, \"text\": \"Firefox OS (FxOS / B2G)\", \"x\": -0.45, \"xref\": \"x1\", \"align\": \"left\", \"yref\": \"y1\", \"showarrow\": false, \"xanchor\": \"left\"}, {\"font\": {\"color\": \"#000000\"}, \"y\": 10, \"text\": \"Non-Employees\", \"x\": 0.55, \"xref\": \"x1\", \"align\": \"left\", \"yref\": \"y1\", \"showarrow\": false, \"xanchor\": \"left\"}, {\"font\": {\"color\": \"#000000\"}, \"y\": 10, \"text\": \"2022\", \"x\": 1.55, \"xref\": \"x1\", \"align\": \"left\", \"yref\": \"y1\", \"showarrow\": false, \"xanchor\": \"left\"}, {\"font\": {\"color\": \"#000000\"}, \"y\": 10, \"text\": \"4\", \"x\": 2.55, \"xref\": \"x1\", \"align\": \"left\", \"yref\": \"y1\", \"showarrow\": false, \"xanchor\": \"left\"}, {\"font\": {\"color\": \"#000000\"}, \"y\": 10, \"text\": \"113\", \"x\": 3.55, \"xref\": \"x1\", \"align\": \"left\", \"yref\": \"y1\", \"showarrow\": false, \"xanchor\": \"left\"}, {\"font\": {\"color\": \"#000000\"}, \"y\": 11, \"text\": \"Localization\", \"x\": -0.45, \"xref\": \"x1\", \"align\": \"left\", \"yref\": \"y1\", \"showarrow\": false, \"xanchor\": \"left\"}, {\"font\": {\"color\": \"#000000\"}, \"y\": 11, \"text\": \"Non-Employees\", \"x\": 0.55, \"xref\": \"x1\", \"align\": \"left\", \"yref\": \"y1\", \"showarrow\": false, \"xanchor\": \"left\"}, {\"font\": {\"color\": \"#000000\"}, \"y\": 11, \"text\": \"1935\", \"x\": 1.55, \"xref\": \"x1\", \"align\": \"left\", \"yref\": \"y1\", \"showarrow\": false, \"xanchor\": \"left\"}, {\"font\": {\"color\": \"#000000\"}, \"y\": 11, \"text\": \"4\", \"x\": 2.55, \"xref\": \"x1\", \"align\": \"left\", \"yref\": \"y1\", \"showarrow\": false, \"xanchor\": \"left\"}, {\"font\": {\"color\": \"#000000\"}, \"y\": 11, \"text\": \"115\", \"x\": 3.55, \"xref\": \"x1\", \"align\": \"left\", \"yref\": \"y1\", \"showarrow\": false, \"xanchor\": \"left\"}, {\"font\": {\"color\": \"#000000\"}, \"y\": 12, \"text\": \"Mozilla Developer Network (MDN)\", \"x\": -0.45, \"xref\": \"x1\", \"align\": \"left\", \"yref\": \"y1\", \"showarrow\": false, \"xanchor\": \"left\"}, {\"font\": {\"color\": \"#000000\"}, \"y\": 12, \"text\": \"Non-Employees\", \"x\": 0.55, \"xref\": \"x1\", \"align\": \"left\", \"yref\": \"y1\", \"showarrow\": false, \"xanchor\": \"left\"}, {\"font\": {\"color\": \"#000000\"}, \"y\": 12, \"text\": \"1866\", \"x\": 1.55, \"xref\": \"x1\", \"align\": \"left\", \"yref\": \"y1\", \"showarrow\": false, \"xanchor\": \"left\"}, {\"font\": {\"color\": \"#000000\"}, \"y\": 12, \"text\": \"2\", \"x\": 2.55, \"xref\": \"x1\", \"align\": \"left\", \"yref\": \"y1\", \"showarrow\": false, \"xanchor\": \"left\"}, {\"font\": {\"color\": \"#000000\"}, \"y\": 12, \"text\": \"53\", \"x\": 3.55, \"xref\": \"x1\", \"align\": \"left\", \"yref\": \"y1\", \"showarrow\": false, \"xanchor\": \"left\"}, {\"font\": {\"color\": \"#000000\"}, \"y\": 13, \"text\": \"Gecko\", \"x\": -0.45, \"xref\": \"x1\", \"align\": \"left\", \"yref\": \"y1\", \"showarrow\": false, \"xanchor\": \"left\"}, {\"font\": {\"color\": \"#000000\"}, \"y\": 13, \"text\": \"Employees\", \"x\": 0.55, \"xref\": \"x1\", \"align\": \"left\", \"yref\": \"y1\", \"showarrow\": false, \"xanchor\": \"left\"}, {\"font\": {\"color\": \"#000000\"}, \"y\": 13, \"text\": \"1679\", \"x\": 1.55, \"xref\": \"x1\", \"align\": \"left\", \"yref\": \"y1\", \"showarrow\": false, \"xanchor\": \"left\"}, {\"font\": {\"color\": \"#000000\"}, \"y\": 13, \"text\": \"5\", \"x\": 2.55, \"xref\": \"x1\", \"align\": \"left\", \"yref\": \"y1\", \"showarrow\": false, \"xanchor\": \"left\"}, {\"font\": {\"color\": \"#000000\"}, \"y\": 13, \"text\": \"234\", \"x\": 3.55, \"xref\": \"x1\", \"align\": \"left\", \"yref\": \"y1\", \"showarrow\": false, \"xanchor\": \"left\"}, {\"font\": {\"color\": \"#000000\"}, \"y\": 14, \"text\": \"Web Properties\", \"x\": -0.45, \"xref\": \"x1\", \"align\": \"left\", \"yref\": \"y1\", \"showarrow\": false, \"xanchor\": \"left\"}, {\"font\": {\"color\": \"#000000\"}, \"y\": 14, \"text\": \"Employees\", \"x\": 0.55, \"xref\": \"x1\", \"align\": \"left\", \"yref\": \"y1\", \"showarrow\": false, \"xanchor\": \"left\"}, {\"font\": {\"color\": \"#000000\"}, \"y\": 14, \"text\": \"1547\", \"x\": 1.55, \"xref\": \"x1\", \"align\": \"left\", \"yref\": \"y1\", \"showarrow\": false, \"xanchor\": \"left\"}, {\"font\": {\"color\": \"#000000\"}, \"y\": 14, \"text\": \"16\", \"x\": 2.55, \"xref\": \"x1\", \"align\": \"left\", \"yref\": \"y1\", \"showarrow\": false, \"xanchor\": \"left\"}, {\"font\": {\"color\": \"#000000\"}, \"y\": 14, \"text\": \"176\", \"x\": 3.55, \"xref\": \"x1\", \"align\": \"left\", \"yref\": \"y1\", \"showarrow\": false, \"xanchor\": \"left\"}, {\"font\": {\"color\": \"#000000\"}, \"y\": 15, \"text\": \"Firefox\", \"x\": -0.45, \"xref\": \"x1\", \"align\": \"left\", \"yref\": \"y1\", \"showarrow\": false, \"xanchor\": \"left\"}, {\"font\": {\"color\": \"#000000\"}, \"y\": 15, \"text\": \"Employees\", \"x\": 0.55, \"xref\": \"x1\", \"align\": \"left\", \"yref\": \"y1\", \"showarrow\": false, \"xanchor\": \"left\"}, {\"font\": {\"color\": \"#000000\"}, \"y\": 15, \"text\": \"1340\", \"x\": 1.55, \"xref\": \"x1\", \"align\": \"left\", \"yref\": \"y1\", \"showarrow\": false, \"xanchor\": \"left\"}, {\"font\": {\"color\": \"#000000\"}, \"y\": 15, \"text\": \"3\", \"x\": 2.55, \"xref\": \"x1\", \"align\": \"left\", \"yref\": \"y1\", \"showarrow\": false, \"xanchor\": \"left\"}, {\"font\": {\"color\": \"#000000\"}, \"y\": 15, \"text\": \"58\", \"x\": 3.55, \"xref\": \"x1\", \"align\": \"left\", \"yref\": \"y1\", \"showarrow\": false, \"xanchor\": \"left\"}, {\"font\": {\"color\": \"#000000\"}, \"y\": 16, \"text\": \"Developer Tools\", \"x\": -0.45, \"xref\": \"x1\", \"align\": \"left\", \"yref\": \"y1\", \"showarrow\": false, \"xanchor\": \"left\"}, {\"font\": {\"color\": \"#000000\"}, \"y\": 16, \"text\": \"Non-Employees\", \"x\": 0.55, \"xref\": \"x1\", \"align\": \"left\", \"yref\": \"y1\", \"showarrow\": false, \"xanchor\": \"left\"}, {\"font\": {\"color\": \"#000000\"}, \"y\": 16, \"text\": \"1186\", \"x\": 1.55, \"xref\": \"x1\", \"align\": \"left\", \"yref\": \"y1\", \"showarrow\": false, \"xanchor\": \"left\"}, {\"font\": {\"color\": \"#000000\"}, \"y\": 16, \"text\": \"1\", \"x\": 2.55, \"xref\": \"x1\", \"align\": \"left\", \"yref\": \"y1\", \"showarrow\": false, \"xanchor\": \"left\"}, {\"font\": {\"color\": \"#000000\"}, \"y\": 16, \"text\": \"24\", \"x\": 3.55, \"xref\": \"x1\", \"align\": \"left\", \"yref\": \"y1\", \"showarrow\": false, \"xanchor\": \"left\"}, {\"font\": {\"color\": \"#000000\"}, \"y\": 17, \"text\": \"Firefox OS (FxOS / B2G)\", \"x\": -0.45, \"xref\": \"x1\", \"align\": \"left\", \"yref\": \"y1\", \"showarrow\": false, \"xanchor\": \"left\"}, {\"font\": {\"color\": \"#000000\"}, \"y\": 17, \"text\": \"Employees\", \"x\": 0.55, \"xref\": \"x1\", \"align\": \"left\", \"yref\": \"y1\", \"showarrow\": false, \"xanchor\": \"left\"}, {\"font\": {\"color\": \"#000000\"}, \"y\": 17, \"text\": \"946\", \"x\": 1.55, \"xref\": \"x1\", \"align\": \"left\", \"yref\": \"y1\", \"showarrow\": false, \"xanchor\": \"left\"}, {\"font\": {\"color\": \"#000000\"}, \"y\": 17, \"text\": \"4\", \"x\": 2.55, \"xref\": \"x1\", \"align\": \"left\", \"yref\": \"y1\", \"showarrow\": false, \"xanchor\": \"left\"}, {\"font\": {\"color\": \"#000000\"}, \"y\": 17, \"text\": \"115\", \"x\": 3.55, \"xref\": \"x1\", \"align\": \"left\", \"yref\": \"y1\", \"showarrow\": false, \"xanchor\": \"left\"}, {\"font\": {\"color\": \"#000000\"}, \"y\": 18, \"text\": \"Firefox Android\", \"x\": -0.45, \"xref\": \"x1\", \"align\": \"left\", \"yref\": \"y1\", \"showarrow\": false, \"xanchor\": \"left\"}, {\"font\": {\"color\": \"#000000\"}, \"y\": 18, \"text\": \"Employees\", \"x\": 0.55, \"xref\": \"x1\", \"align\": \"left\", \"yref\": \"y1\", \"showarrow\": false, \"xanchor\": \"left\"}, {\"font\": {\"color\": \"#000000\"}, \"y\": 18, \"text\": \"699\", \"x\": 1.55, \"xref\": \"x1\", \"align\": \"left\", \"yref\": \"y1\", \"showarrow\": false, \"xanchor\": \"left\"}, {\"font\": {\"color\": \"#000000\"}, \"y\": 18, \"text\": \"2\", \"x\": 2.55, \"xref\": \"x1\", \"align\": \"left\", \"yref\": \"y1\", \"showarrow\": false, \"xanchor\": \"left\"}, {\"font\": {\"color\": \"#000000\"}, \"y\": 18, \"text\": \"36\", \"x\": 3.55, \"xref\": \"x1\", \"align\": \"left\", \"yref\": \"y1\", \"showarrow\": false, \"xanchor\": \"left\"}, {\"font\": {\"color\": \"#000000\"}, \"y\": 19, \"text\": \"Release engineering\", \"x\": -0.45, \"xref\": \"x1\", \"align\": \"left\", \"yref\": \"y1\", \"showarrow\": false, \"xanchor\": \"left\"}, {\"font\": {\"color\": \"#000000\"}, \"y\": 19, \"text\": \"Employees\", \"x\": 0.55, \"xref\": \"x1\", \"align\": \"left\", \"yref\": \"y1\", \"showarrow\": false, \"xanchor\": \"left\"}, {\"font\": {\"color\": \"#000000\"}, \"y\": 19, \"text\": \"636\", \"x\": 1.55, \"xref\": \"x1\", \"align\": \"left\", \"yref\": \"y1\", \"showarrow\": false, \"xanchor\": \"left\"}, {\"font\": {\"color\": \"#000000\"}, \"y\": 19, \"text\": \"1\", \"x\": 2.55, \"xref\": \"x1\", \"align\": \"left\", \"yref\": \"y1\", \"showarrow\": false, \"xanchor\": \"left\"}, {\"font\": {\"color\": \"#000000\"}, \"y\": 19, \"text\": \"14\", \"x\": 3.55, \"xref\": \"x1\", \"align\": \"left\", \"yref\": \"y1\", \"showarrow\": false, \"xanchor\": \"left\"}, {\"font\": {\"color\": \"#000000\"}, \"y\": 20, \"text\": \"Quality Assurance\", \"x\": -0.45, \"xref\": \"x1\", \"align\": \"left\", \"yref\": \"y1\", \"showarrow\": false, \"xanchor\": \"left\"}, {\"font\": {\"color\": \"#000000\"}, \"y\": 20, \"text\": \"Employees\", \"x\": 0.55, \"xref\": \"x1\", \"align\": \"left\", \"yref\": \"y1\", \"showarrow\": false, \"xanchor\": \"left\"}, {\"font\": {\"color\": \"#000000\"}, \"y\": 20, \"text\": \"582\", \"x\": 1.55, \"xref\": \"x1\", \"align\": \"left\", \"yref\": \"y1\", \"showarrow\": false, \"xanchor\": \"left\"}, {\"font\": {\"color\": \"#000000\"}, \"y\": 20, \"text\": \"4\", \"x\": 2.55, \"xref\": \"x1\", \"align\": \"left\", \"yref\": \"y1\", \"showarrow\": false, \"xanchor\": \"left\"}, {\"font\": {\"color\": \"#000000\"}, \"y\": 20, \"text\": \"42\", \"x\": 3.55, \"xref\": \"x1\", \"align\": \"left\", \"yref\": \"y1\", \"showarrow\": false, \"xanchor\": \"left\"}, {\"font\": {\"color\": \"#000000\"}, \"y\": 21, \"text\": \"Thunderbird\", \"x\": -0.45, \"xref\": \"x1\", \"align\": \"left\", \"yref\": \"y1\", \"showarrow\": false, \"xanchor\": \"left\"}, {\"font\": {\"color\": \"#000000\"}, \"y\": 21, \"text\": \"Employees\", \"x\": 0.55, \"xref\": \"x1\", \"align\": \"left\", \"yref\": \"y1\", \"showarrow\": false, \"xanchor\": \"left\"}, {\"font\": {\"color\": \"#000000\"}, \"y\": 21, \"text\": \"565\", \"x\": 1.55, \"xref\": \"x1\", \"align\": \"left\", \"yref\": \"y1\", \"showarrow\": false, \"xanchor\": \"left\"}, {\"font\": {\"color\": \"#000000\"}, \"y\": 21, \"text\": \"3\", \"x\": 2.55, \"xref\": \"x1\", \"align\": \"left\", \"yref\": \"y1\", \"showarrow\": false, \"xanchor\": \"left\"}, {\"font\": {\"color\": \"#000000\"}, \"y\": 21, \"text\": \"48\", \"x\": 3.55, \"xref\": \"x1\", \"align\": \"left\", \"yref\": \"y1\", \"showarrow\": false, \"xanchor\": \"left\"}, {\"font\": {\"color\": \"#000000\"}, \"y\": 22, \"text\": \"Quality Assurance\", \"x\": -0.45, \"xref\": \"x1\", \"align\": \"left\", \"yref\": \"y1\", \"showarrow\": false, \"xanchor\": \"left\"}, {\"font\": {\"color\": \"#000000\"}, \"y\": 22, \"text\": \"Non-Employees\", \"x\": 0.55, \"xref\": \"x1\", \"align\": \"left\", \"yref\": \"y1\", \"showarrow\": false, \"xanchor\": \"left\"}, {\"font\": {\"color\": \"#000000\"}, \"y\": 22, \"text\": \"535\", \"x\": 1.55, \"xref\": \"x1\", \"align\": \"left\", \"yref\": \"y1\", \"showarrow\": false, \"xanchor\": \"left\"}, {\"font\": {\"color\": \"#000000\"}, \"y\": 22, \"text\": \"4\", \"x\": 2.55, \"xref\": \"x1\", \"align\": \"left\", \"yref\": \"y1\", \"showarrow\": false, \"xanchor\": \"left\"}, {\"font\": {\"color\": \"#000000\"}, \"y\": 22, \"text\": \"38\", \"x\": 3.55, \"xref\": \"x1\", \"align\": \"left\", \"yref\": \"y1\", \"showarrow\": false, \"xanchor\": \"left\"}, {\"font\": {\"color\": \"#000000\"}, \"y\": 23, \"text\": \"Addons/Web Extensions\", \"x\": -0.45, \"xref\": \"x1\", \"align\": \"left\", \"yref\": \"y1\", \"showarrow\": false, \"xanchor\": \"left\"}, {\"font\": {\"color\": \"#000000\"}, \"y\": 23, \"text\": \"Employees\", \"x\": 0.55, \"xref\": \"x1\", \"align\": \"left\", \"yref\": \"y1\", \"showarrow\": false, \"xanchor\": \"left\"}, {\"font\": {\"color\": \"#000000\"}, \"y\": 23, \"text\": \"498\", \"x\": 1.55, \"xref\": \"x1\", \"align\": \"left\", \"yref\": \"y1\", \"showarrow\": false, \"xanchor\": \"left\"}, {\"font\": {\"color\": \"#000000\"}, \"y\": 23, \"text\": \"3\", \"x\": 2.55, \"xref\": \"x1\", \"align\": \"left\", \"yref\": \"y1\", \"showarrow\": false, \"xanchor\": \"left\"}, {\"font\": {\"color\": \"#000000\"}, \"y\": 23, \"text\": \"25\", \"x\": 3.55, \"xref\": \"x1\", \"align\": \"left\", \"yref\": \"y1\", \"showarrow\": false, \"xanchor\": \"left\"}, {\"font\": {\"color\": \"#000000\"}, \"y\": 24, \"text\": \"Developer Tools\", \"x\": -0.45, \"xref\": \"x1\", \"align\": \"left\", \"yref\": \"y1\", \"showarrow\": false, \"xanchor\": \"left\"}, {\"font\": {\"color\": \"#000000\"}, \"y\": 24, \"text\": \"Employees\", \"x\": 0.55, \"xref\": \"x1\", \"align\": \"left\", \"yref\": \"y1\", \"showarrow\": false, \"xanchor\": \"left\"}, {\"font\": {\"color\": \"#000000\"}, \"y\": 24, \"text\": \"461\", \"x\": 1.55, \"xref\": \"x1\", \"align\": \"left\", \"yref\": \"y1\", \"showarrow\": false, \"xanchor\": \"left\"}, {\"font\": {\"color\": \"#000000\"}, \"y\": 24, \"text\": \"1\", \"x\": 2.55, \"xref\": \"x1\", \"align\": \"left\", \"yref\": \"y1\", \"showarrow\": false, \"xanchor\": \"left\"}, {\"font\": {\"color\": \"#000000\"}, \"y\": 24, \"text\": \"24\", \"x\": 3.55, \"xref\": \"x1\", \"align\": \"left\", \"yref\": \"y1\", \"showarrow\": false, \"xanchor\": \"left\"}, {\"font\": {\"color\": \"#000000\"}, \"y\": 25, \"text\": \"Mozilla Developer Network (MDN)\", \"x\": -0.45, \"xref\": \"x1\", \"align\": \"left\", \"yref\": \"y1\", \"showarrow\": false, \"xanchor\": \"left\"}, {\"font\": {\"color\": \"#000000\"}, \"y\": 25, \"text\": \"Employees\", \"x\": 0.55, \"xref\": \"x1\", \"align\": \"left\", \"yref\": \"y1\", \"showarrow\": false, \"xanchor\": \"left\"}, {\"font\": {\"color\": \"#000000\"}, \"y\": 25, \"text\": \"457\", \"x\": 1.55, \"xref\": \"x1\", \"align\": \"left\", \"yref\": \"y1\", \"showarrow\": false, \"xanchor\": \"left\"}, {\"font\": {\"color\": \"#000000\"}, \"y\": 25, \"text\": \"2\", \"x\": 2.55, \"xref\": \"x1\", \"align\": \"left\", \"yref\": \"y1\", \"showarrow\": false, \"xanchor\": \"left\"}, {\"font\": {\"color\": \"#000000\"}, \"y\": 25, \"text\": \"55\", \"x\": 3.55, \"xref\": \"x1\", \"align\": \"left\", \"yref\": \"y1\", \"showarrow\": false, \"xanchor\": \"left\"}, {\"font\": {\"color\": \"#000000\"}, \"y\": 26, \"text\": \"Technical/Developer Evangelism\", \"x\": -0.45, \"xref\": \"x1\", \"align\": \"left\", \"yref\": \"y1\", \"showarrow\": false, \"xanchor\": \"left\"}, {\"font\": {\"color\": \"#000000\"}, \"y\": 26, \"text\": \"Employees\", \"x\": 0.55, \"xref\": \"x1\", \"align\": \"left\", \"yref\": \"y1\", \"showarrow\": false, \"xanchor\": \"left\"}, {\"font\": {\"color\": \"#000000\"}, \"y\": 26, \"text\": \"436\", \"x\": 1.55, \"xref\": \"x1\", \"align\": \"left\", \"yref\": \"y1\", \"showarrow\": false, \"xanchor\": \"left\"}, {\"font\": {\"color\": \"#000000\"}, \"y\": 26, \"text\": \"3\", \"x\": 2.55, \"xref\": \"x1\", \"align\": \"left\", \"yref\": \"y1\", \"showarrow\": false, \"xanchor\": \"left\"}, {\"font\": {\"color\": \"#000000\"}, \"y\": 26, \"text\": \"37\", \"x\": 3.55, \"xref\": \"x1\", \"align\": \"left\", \"yref\": \"y1\", \"showarrow\": false, \"xanchor\": \"left\"}, {\"font\": {\"color\": \"#000000\"}, \"y\": 27, \"text\": \"Localization\", \"x\": -0.45, \"xref\": \"x1\", \"align\": \"left\", \"yref\": \"y1\", \"showarrow\": false, \"xanchor\": \"left\"}, {\"font\": {\"color\": \"#000000\"}, \"y\": 27, \"text\": \"Employees\", \"x\": 0.55, \"xref\": \"x1\", \"align\": \"left\", \"yref\": \"y1\", \"showarrow\": false, \"xanchor\": \"left\"}, {\"font\": {\"color\": \"#000000\"}, \"y\": 27, \"text\": \"424\", \"x\": 1.55, \"xref\": \"x1\", \"align\": \"left\", \"yref\": \"y1\", \"showarrow\": false, \"xanchor\": \"left\"}, {\"font\": {\"color\": \"#000000\"}, \"y\": 27, \"text\": \"4\", \"x\": 2.55, \"xref\": \"x1\", \"align\": \"left\", \"yref\": \"y1\", \"showarrow\": false, \"xanchor\": \"left\"}, {\"font\": {\"color\": \"#000000\"}, \"y\": 27, \"text\": \"149\", \"x\": 3.55, \"xref\": \"x1\", \"align\": \"left\", \"yref\": \"y1\", \"showarrow\": false, \"xanchor\": \"left\"}, {\"font\": {\"color\": \"#000000\"}, \"y\": 28, \"text\": \"Release engineering\", \"x\": -0.45, \"xref\": \"x1\", \"align\": \"left\", \"yref\": \"y1\", \"showarrow\": false, \"xanchor\": \"left\"}, {\"font\": {\"color\": \"#000000\"}, \"y\": 28, \"text\": \"Non-Employees\", \"x\": 0.55, \"xref\": \"x1\", \"align\": \"left\", \"yref\": \"y1\", \"showarrow\": false, \"xanchor\": \"left\"}, {\"font\": {\"color\": \"#000000\"}, \"y\": 28, \"text\": \"342\", \"x\": 1.55, \"xref\": \"x1\", \"align\": \"left\", \"yref\": \"y1\", \"showarrow\": false, \"xanchor\": \"left\"}, {\"font\": {\"color\": \"#000000\"}, \"y\": 28, \"text\": \"1\", \"x\": 2.55, \"xref\": \"x1\", \"align\": \"left\", \"yref\": \"y1\", \"showarrow\": false, \"xanchor\": \"left\"}, {\"font\": {\"color\": \"#000000\"}, \"y\": 28, \"text\": \"14\", \"x\": 3.55, \"xref\": \"x1\", \"align\": \"left\", \"yref\": \"y1\", \"showarrow\": false, \"xanchor\": \"left\"}, {\"font\": {\"color\": \"#000000\"}, \"y\": 29, \"text\": \"Web Literacy\", \"x\": -0.45, \"xref\": \"x1\", \"align\": \"left\", \"yref\": \"y1\", \"showarrow\": false, \"xanchor\": \"left\"}, {\"font\": {\"color\": \"#000000\"}, \"y\": 29, \"text\": \"Non-Employees\", \"x\": 0.55, \"xref\": \"x1\", \"align\": \"left\", \"yref\": \"y1\", \"showarrow\": false, \"xanchor\": \"left\"}, {\"font\": {\"color\": \"#000000\"}, \"y\": 29, \"text\": \"324\", \"x\": 1.55, \"xref\": \"x1\", \"align\": \"left\", \"yref\": \"y1\", \"showarrow\": false, \"xanchor\": \"left\"}, {\"font\": {\"color\": \"#000000\"}, \"y\": 29, \"text\": \"1\", \"x\": 2.55, \"xref\": \"x1\", \"align\": \"left\", \"yref\": \"y1\", \"showarrow\": false, \"xanchor\": \"left\"}, {\"font\": {\"color\": \"#000000\"}, \"y\": 29, \"text\": \"25\", \"x\": 3.55, \"xref\": \"x1\", \"align\": \"left\", \"yref\": \"y1\", \"showarrow\": false, \"xanchor\": \"left\"}, {\"font\": {\"color\": \"#000000\"}, \"y\": 30, \"text\": \"Marketing / Social Media\", \"x\": -0.45, \"xref\": \"x1\", \"align\": \"left\", \"yref\": \"y1\", \"showarrow\": false, \"xanchor\": \"left\"}, {\"font\": {\"color\": \"#000000\"}, \"y\": 30, \"text\": \"Employees\", \"x\": 0.55, \"xref\": \"x1\", \"align\": \"left\", \"yref\": \"y1\", \"showarrow\": false, \"xanchor\": \"left\"}, {\"font\": {\"color\": \"#000000\"}, \"y\": 30, \"text\": \"320\", \"x\": 1.55, \"xref\": \"x1\", \"align\": \"left\", \"yref\": \"y1\", \"showarrow\": false, \"xanchor\": \"left\"}, {\"font\": {\"color\": \"#000000\"}, \"y\": 30, \"text\": \"4\", \"x\": 2.55, \"xref\": \"x1\", \"align\": \"left\", \"yref\": \"y1\", \"showarrow\": false, \"xanchor\": \"left\"}, {\"font\": {\"color\": \"#000000\"}, \"y\": 30, \"text\": \"21\", \"x\": 3.55, \"xref\": \"x1\", \"align\": \"left\", \"yref\": \"y1\", \"showarrow\": false, \"xanchor\": \"left\"}, {\"font\": {\"color\": \"#000000\"}, \"y\": 31, \"text\": \"Mozilla Creative & Design\", \"x\": -0.45, \"xref\": \"x1\", \"align\": \"left\", \"yref\": \"y1\", \"showarrow\": false, \"xanchor\": \"left\"}, {\"font\": {\"color\": \"#000000\"}, \"y\": 31, \"text\": \"Employees\", \"x\": 0.55, \"xref\": \"x1\", \"align\": \"left\", \"yref\": \"y1\", \"showarrow\": false, \"xanchor\": \"left\"}, {\"font\": {\"color\": \"#000000\"}, \"y\": 31, \"text\": \"262\", \"x\": 1.55, \"xref\": \"x1\", \"align\": \"left\", \"yref\": \"y1\", \"showarrow\": false, \"xanchor\": \"left\"}, {\"font\": {\"color\": \"#000000\"}, \"y\": 31, \"text\": \"1\", \"x\": 2.55, \"xref\": \"x1\", \"align\": \"left\", \"yref\": \"y1\", \"showarrow\": false, \"xanchor\": \"left\"}, {\"font\": {\"color\": \"#000000\"}, \"y\": 31, \"text\": \"1\", \"x\": 3.55, \"xref\": \"x1\", \"align\": \"left\", \"yref\": \"y1\", \"showarrow\": false, \"xanchor\": \"left\"}, {\"font\": {\"color\": \"#000000\"}, \"y\": 32, \"text\": \"Marketing / Social Media\", \"x\": -0.45, \"xref\": \"x1\", \"align\": \"left\", \"yref\": \"y1\", \"showarrow\": false, \"xanchor\": \"left\"}, {\"font\": {\"color\": \"#000000\"}, \"y\": 32, \"text\": \"Non-Employees\", \"x\": 0.55, \"xref\": \"x1\", \"align\": \"left\", \"yref\": \"y1\", \"showarrow\": false, \"xanchor\": \"left\"}, {\"font\": {\"color\": \"#000000\"}, \"y\": 32, \"text\": \"250\", \"x\": 1.55, \"xref\": \"x1\", \"align\": \"left\", \"yref\": \"y1\", \"showarrow\": false, \"xanchor\": \"left\"}, {\"font\": {\"color\": \"#000000\"}, \"y\": 32, \"text\": \"4\", \"x\": 2.55, \"xref\": \"x1\", \"align\": \"left\", \"yref\": \"y1\", \"showarrow\": false, \"xanchor\": \"left\"}, {\"font\": {\"color\": \"#000000\"}, \"y\": 32, \"text\": \"18\", \"x\": 3.55, \"xref\": \"x1\", \"align\": \"left\", \"yref\": \"y1\", \"showarrow\": false, \"xanchor\": \"left\"}, {\"font\": {\"color\": \"#000000\"}, \"y\": 33, \"text\": \"Mozilla Local/Regional communities\", \"x\": -0.45, \"xref\": \"x1\", \"align\": \"left\", \"yref\": \"y1\", \"showarrow\": false, \"xanchor\": \"left\"}, {\"font\": {\"color\": \"#000000\"}, \"y\": 33, \"text\": \"Non-Employees\", \"x\": 0.55, \"xref\": \"x1\", \"align\": \"left\", \"yref\": \"y1\", \"showarrow\": false, \"xanchor\": \"left\"}, {\"font\": {\"color\": \"#000000\"}, \"y\": 33, \"text\": \"161\", \"x\": 1.55, \"xref\": \"x1\", \"align\": \"left\", \"yref\": \"y1\", \"showarrow\": false, \"xanchor\": \"left\"}, {\"font\": {\"color\": \"#000000\"}, \"y\": 33, \"text\": \"2\", \"x\": 2.55, \"xref\": \"x1\", \"align\": \"left\", \"yref\": \"y1\", \"showarrow\": false, \"xanchor\": \"left\"}, {\"font\": {\"color\": \"#000000\"}, \"y\": 33, \"text\": \"16\", \"x\": 3.55, \"xref\": \"x1\", \"align\": \"left\", \"yref\": \"y1\", \"showarrow\": false, \"xanchor\": \"left\"}, {\"font\": {\"color\": \"#000000\"}, \"y\": 34, \"text\": \"Firefox iOS\", \"x\": -0.45, \"xref\": \"x1\", \"align\": \"left\", \"yref\": \"y1\", \"showarrow\": false, \"xanchor\": \"left\"}, {\"font\": {\"color\": \"#000000\"}, \"y\": 34, \"text\": \"Non-Employees\", \"x\": 0.55, \"xref\": \"x1\", \"align\": \"left\", \"yref\": \"y1\", \"showarrow\": false, \"xanchor\": \"left\"}, {\"font\": {\"color\": \"#000000\"}, \"y\": 34, \"text\": \"151\", \"x\": 1.55, \"xref\": \"x1\", \"align\": \"left\", \"yref\": \"y1\", \"showarrow\": false, \"xanchor\": \"left\"}, {\"font\": {\"color\": \"#000000\"}, \"y\": 34, \"text\": \"1\", \"x\": 2.55, \"xref\": \"x1\", \"align\": \"left\", \"yref\": \"y1\", \"showarrow\": false, \"xanchor\": \"left\"}, {\"font\": {\"color\": \"#000000\"}, \"y\": 34, \"text\": \"14\", \"x\": 3.55, \"xref\": \"x1\", \"align\": \"left\", \"yref\": \"y1\", \"showarrow\": false, \"xanchor\": \"left\"}, {\"font\": {\"color\": \"#000000\"}, \"y\": 35, \"text\": \"Web Literacy\", \"x\": -0.45, \"xref\": \"x1\", \"align\": \"left\", \"yref\": \"y1\", \"showarrow\": false, \"xanchor\": \"left\"}, {\"font\": {\"color\": \"#000000\"}, \"y\": 35, \"text\": \"Employees\", \"x\": 0.55, \"xref\": \"x1\", \"align\": \"left\", \"yref\": \"y1\", \"showarrow\": false, \"xanchor\": \"left\"}, {\"font\": {\"color\": \"#000000\"}, \"y\": 35, \"text\": \"140\", \"x\": 1.55, \"xref\": \"x1\", \"align\": \"left\", \"yref\": \"y1\", \"showarrow\": false, \"xanchor\": \"left\"}, {\"font\": {\"color\": \"#000000\"}, \"y\": 35, \"text\": \"1\", \"x\": 2.55, \"xref\": \"x1\", \"align\": \"left\", \"yref\": \"y1\", \"showarrow\": false, \"xanchor\": \"left\"}, {\"font\": {\"color\": \"#000000\"}, \"y\": 35, \"text\": \"26\", \"x\": 3.55, \"xref\": \"x1\", \"align\": \"left\", \"yref\": \"y1\", \"showarrow\": false, \"xanchor\": \"left\"}, {\"font\": {\"color\": \"#000000\"}, \"y\": 36, \"text\": \"Firefox iOS\", \"x\": -0.45, \"xref\": \"x1\", \"align\": \"left\", \"yref\": \"y1\", \"showarrow\": false, \"xanchor\": \"left\"}, {\"font\": {\"color\": \"#000000\"}, \"y\": 36, \"text\": \"Employees\", \"x\": 0.55, \"xref\": \"x1\", \"align\": \"left\", \"yref\": \"y1\", \"showarrow\": false, \"xanchor\": \"left\"}, {\"font\": {\"color\": \"#000000\"}, \"y\": 36, \"text\": \"139\", \"x\": 1.55, \"xref\": \"x1\", \"align\": \"left\", \"yref\": \"y1\", \"showarrow\": false, \"xanchor\": \"left\"}, {\"font\": {\"color\": \"#000000\"}, \"y\": 36, \"text\": \"1\", \"x\": 2.55, \"xref\": \"x1\", \"align\": \"left\", \"yref\": \"y1\", \"showarrow\": false, \"xanchor\": \"left\"}, {\"font\": {\"color\": \"#000000\"}, \"y\": 36, \"text\": \"15\", \"x\": 3.55, \"xref\": \"x1\", \"align\": \"left\", \"yref\": \"y1\", \"showarrow\": false, \"xanchor\": \"left\"}, {\"font\": {\"color\": \"#000000\"}, \"y\": 37, \"text\": \"Mozilla Local/Regional communities\", \"x\": -0.45, \"xref\": \"x1\", \"align\": \"left\", \"yref\": \"y1\", \"showarrow\": false, \"xanchor\": \"left\"}, {\"font\": {\"color\": \"#000000\"}, \"y\": 37, \"text\": \"Employees\", \"x\": 0.55, \"xref\": \"x1\", \"align\": \"left\", \"yref\": \"y1\", \"showarrow\": false, \"xanchor\": \"left\"}, {\"font\": {\"color\": \"#000000\"}, \"y\": 37, \"text\": \"99\", \"x\": 1.55, \"xref\": \"x1\", \"align\": \"left\", \"yref\": \"y1\", \"showarrow\": false, \"xanchor\": \"left\"}, {\"font\": {\"color\": \"#000000\"}, \"y\": 37, \"text\": \"2\", \"x\": 2.55, \"xref\": \"x1\", \"align\": \"left\", \"yref\": \"y1\", \"showarrow\": false, \"xanchor\": \"left\"}, {\"font\": {\"color\": \"#000000\"}, \"y\": 37, \"text\": \"16\", \"x\": 3.55, \"xref\": \"x1\", \"align\": \"left\", \"yref\": \"y1\", \"showarrow\": false, \"xanchor\": \"left\"}, {\"font\": {\"color\": \"#000000\"}, \"y\": 38, \"text\": \"Mozilla support (SUMO)\", \"x\": -0.45, \"xref\": \"x1\", \"align\": \"left\", \"yref\": \"y1\", \"showarrow\": false, \"xanchor\": \"left\"}, {\"font\": {\"color\": \"#000000\"}, \"y\": 38, \"text\": \"Non-Employees\", \"x\": 0.55, \"xref\": \"x1\", \"align\": \"left\", \"yref\": \"y1\", \"showarrow\": false, \"xanchor\": \"left\"}, {\"font\": {\"color\": \"#000000\"}, \"y\": 38, \"text\": \"73\", \"x\": 1.55, \"xref\": \"x1\", \"align\": \"left\", \"yref\": \"y1\", \"showarrow\": false, \"xanchor\": \"left\"}, {\"font\": {\"color\": \"#000000\"}, \"y\": 38, \"text\": \"3\", \"x\": 2.55, \"xref\": \"x1\", \"align\": \"left\", \"yref\": \"y1\", \"showarrow\": false, \"xanchor\": \"left\"}, {\"font\": {\"color\": \"#000000\"}, \"y\": 38, \"text\": \"12\", \"x\": 3.55, \"xref\": \"x1\", \"align\": \"left\", \"yref\": \"y1\", \"showarrow\": false, \"xanchor\": \"left\"}, {\"font\": {\"color\": \"#000000\"}, \"y\": 39, \"text\": \"Mozilla support (SUMO)\", \"x\": -0.45, \"xref\": \"x1\", \"align\": \"left\", \"yref\": \"y1\", \"showarrow\": false, \"xanchor\": \"left\"}, {\"font\": {\"color\": \"#000000\"}, \"y\": 39, \"text\": \"Employees\", \"x\": 0.55, \"xref\": \"x1\", \"align\": \"left\", \"yref\": \"y1\", \"showarrow\": false, \"xanchor\": \"left\"}, {\"font\": {\"color\": \"#000000\"}, \"y\": 39, \"text\": \"61\", \"x\": 1.55, \"xref\": \"x1\", \"align\": \"left\", \"yref\": \"y1\", \"showarrow\": false, \"xanchor\": \"left\"}, {\"font\": {\"color\": \"#000000\"}, \"y\": 39, \"text\": \"3\", \"x\": 2.55, \"xref\": \"x1\", \"align\": \"left\", \"yref\": \"y1\", \"showarrow\": false, \"xanchor\": \"left\"}, {\"font\": {\"color\": \"#000000\"}, \"y\": 39, \"text\": \"12\", \"x\": 3.55, \"xref\": \"x1\", \"align\": \"left\", \"yref\": \"y1\", \"showarrow\": false, \"xanchor\": \"left\"}, {\"font\": {\"color\": \"#000000\"}, \"y\": 40, \"text\": \"Mozilla Foundation\", \"x\": -0.45, \"xref\": \"x1\", \"align\": \"left\", \"yref\": \"y1\", \"showarrow\": false, \"xanchor\": \"left\"}, {\"font\": {\"color\": \"#000000\"}, \"y\": 40, \"text\": \"Employees\", \"x\": 0.55, \"xref\": \"x1\", \"align\": \"left\", \"yref\": \"y1\", \"showarrow\": false, \"xanchor\": \"left\"}, {\"font\": {\"color\": \"#000000\"}, \"y\": 40, \"text\": \"49\", \"x\": 1.55, \"xref\": \"x1\", \"align\": \"left\", \"yref\": \"y1\", \"showarrow\": false, \"xanchor\": \"left\"}, {\"font\": {\"color\": \"#000000\"}, \"y\": 40, \"text\": \"2\", \"x\": 2.55, \"xref\": \"x1\", \"align\": \"left\", \"yref\": \"y1\", \"showarrow\": false, \"xanchor\": \"left\"}, {\"font\": {\"color\": \"#000000\"}, \"y\": 40, \"text\": \"15\", \"x\": 3.55, \"xref\": \"x1\", \"align\": \"left\", \"yref\": \"y1\", \"showarrow\": false, \"xanchor\": \"left\"}, {\"font\": {\"color\": \"#000000\"}, \"y\": 41, \"text\": \"Mozilla Foundation\", \"x\": -0.45, \"xref\": \"x1\", \"align\": \"left\", \"yref\": \"y1\", \"showarrow\": false, \"xanchor\": \"left\"}, {\"font\": {\"color\": \"#000000\"}, \"y\": 41, \"text\": \"Non-Employees\", \"x\": 0.55, \"xref\": \"x1\", \"align\": \"left\", \"yref\": \"y1\", \"showarrow\": false, \"xanchor\": \"left\"}, {\"font\": {\"color\": \"#000000\"}, \"y\": 41, \"text\": \"29\", \"x\": 1.55, \"xref\": \"x1\", \"align\": \"left\", \"yref\": \"y1\", \"showarrow\": false, \"xanchor\": \"left\"}, {\"font\": {\"color\": \"#000000\"}, \"y\": 41, \"text\": \"2\", \"x\": 2.55, \"xref\": \"x1\", \"align\": \"left\", \"yref\": \"y1\", \"showarrow\": false, \"xanchor\": \"left\"}, {\"font\": {\"color\": \"#000000\"}, \"y\": 41, \"text\": \"8\", \"x\": 3.55, \"xref\": \"x1\", \"align\": \"left\", \"yref\": \"y1\", \"showarrow\": false, \"xanchor\": \"left\"}, {\"font\": {\"color\": \"#000000\"}, \"y\": 42, \"text\": \"Mozilla Creative & Design\", \"x\": -0.45, \"xref\": \"x1\", \"align\": \"left\", \"yref\": \"y1\", \"showarrow\": false, \"xanchor\": \"left\"}, {\"font\": {\"color\": \"#000000\"}, \"y\": 42, \"text\": \"Non-Employees\", \"x\": 0.55, \"xref\": \"x1\", \"align\": \"left\", \"yref\": \"y1\", \"showarrow\": false, \"xanchor\": \"left\"}, {\"font\": {\"color\": \"#000000\"}, \"y\": 42, \"text\": \"22\", \"x\": 1.55, \"xref\": \"x1\", \"align\": \"left\", \"yref\": \"y1\", \"showarrow\": false, \"xanchor\": \"left\"}, {\"font\": {\"color\": \"#000000\"}, \"y\": 42, \"text\": \"1\", \"x\": 2.55, \"xref\": \"x1\", \"align\": \"left\", \"yref\": \"y1\", \"showarrow\": false, \"xanchor\": \"left\"}, {\"font\": {\"color\": \"#000000\"}, \"y\": 42, \"text\": \"1\", \"x\": 3.55, \"xref\": \"x1\", \"align\": \"left\", \"yref\": \"y1\", \"showarrow\": false, \"xanchor\": \"left\"}, {\"font\": {\"color\": \"#000000\"}, \"y\": 43, \"text\": \"Firefox Focus\", \"x\": -0.45, \"xref\": \"x1\", \"align\": \"left\", \"yref\": \"y1\", \"showarrow\": false, \"xanchor\": \"left\"}, {\"font\": {\"color\": \"#000000\"}, \"y\": 43, \"text\": \"Employees\", \"x\": 0.55, \"xref\": \"x1\", \"align\": \"left\", \"yref\": \"y1\", \"showarrow\": false, \"xanchor\": \"left\"}, {\"font\": {\"color\": \"#000000\"}, \"y\": 43, \"text\": \"18\", \"x\": 1.55, \"xref\": \"x1\", \"align\": \"left\", \"yref\": \"y1\", \"showarrow\": false, \"xanchor\": \"left\"}, {\"font\": {\"color\": \"#000000\"}, \"y\": 43, \"text\": \"1\", \"x\": 2.55, \"xref\": \"x1\", \"align\": \"left\", \"yref\": \"y1\", \"showarrow\": false, \"xanchor\": \"left\"}, {\"font\": {\"color\": \"#000000\"}, \"y\": 43, \"text\": \"1\", \"x\": 3.55, \"xref\": \"x1\", \"align\": \"left\", \"yref\": \"y1\", \"showarrow\": false, \"xanchor\": \"left\"}, {\"font\": {\"color\": \"#000000\"}, \"y\": 44, \"text\": \"Advocacy and policy\", \"x\": -0.45, \"xref\": \"x1\", \"align\": \"left\", \"yref\": \"y1\", \"showarrow\": false, \"xanchor\": \"left\"}, {\"font\": {\"color\": \"#000000\"}, \"y\": 44, \"text\": \"Non-Employees\", \"x\": 0.55, \"xref\": \"x1\", \"align\": \"left\", \"yref\": \"y1\", \"showarrow\": false, \"xanchor\": \"left\"}, {\"font\": {\"color\": \"#000000\"}, \"y\": 44, \"text\": \"11\", \"x\": 1.55, \"xref\": \"x1\", \"align\": \"left\", \"yref\": \"y1\", \"showarrow\": false, \"xanchor\": \"left\"}, {\"font\": {\"color\": \"#000000\"}, \"y\": 44, \"text\": \"1\", \"x\": 2.55, \"xref\": \"x1\", \"align\": \"left\", \"yref\": \"y1\", \"showarrow\": false, \"xanchor\": \"left\"}, {\"font\": {\"color\": \"#000000\"}, \"y\": 44, \"text\": \"4\", \"x\": 3.55, \"xref\": \"x1\", \"align\": \"left\", \"yref\": \"y1\", \"showarrow\": false, \"xanchor\": \"left\"}, {\"font\": {\"color\": \"#000000\"}, \"y\": 45, \"text\": \"Connected devices & IoT\", \"x\": -0.45, \"xref\": \"x1\", \"align\": \"left\", \"yref\": \"y1\", \"showarrow\": false, \"xanchor\": \"left\"}, {\"font\": {\"color\": \"#000000\"}, \"y\": 45, \"text\": \"Employees\", \"x\": 0.55, \"xref\": \"x1\", \"align\": \"left\", \"yref\": \"y1\", \"showarrow\": false, \"xanchor\": \"left\"}, {\"font\": {\"color\": \"#000000\"}, \"y\": 45, \"text\": \"9\", \"x\": 1.55, \"xref\": \"x1\", \"align\": \"left\", \"yref\": \"y1\", \"showarrow\": false, \"xanchor\": \"left\"}, {\"font\": {\"color\": \"#000000\"}, \"y\": 45, \"text\": \"1\", \"x\": 2.55, \"xref\": \"x1\", \"align\": \"left\", \"yref\": \"y1\", \"showarrow\": false, \"xanchor\": \"left\"}, {\"font\": {\"color\": \"#000000\"}, \"y\": 45, \"text\": \"3\", \"x\": 3.55, \"xref\": \"x1\", \"align\": \"left\", \"yref\": \"y1\", \"showarrow\": false, \"xanchor\": \"left\"}, {\"font\": {\"color\": \"#000000\"}, \"y\": 46, \"text\": \"Web Compatibility\", \"x\": -0.45, \"xref\": \"x1\", \"align\": \"left\", \"yref\": \"y1\", \"showarrow\": false, \"xanchor\": \"left\"}, {\"font\": {\"color\": \"#000000\"}, \"y\": 46, \"text\": \"Employees\", \"x\": 0.55, \"xref\": \"x1\", \"align\": \"left\", \"yref\": \"y1\", \"showarrow\": false, \"xanchor\": \"left\"}, {\"font\": {\"color\": \"#000000\"}, \"y\": 46, \"text\": \"7\", \"x\": 1.55, \"xref\": \"x1\", \"align\": \"left\", \"yref\": \"y1\", \"showarrow\": false, \"xanchor\": \"left\"}, {\"font\": {\"color\": \"#000000\"}, \"y\": 46, \"text\": \"1\", \"x\": 2.55, \"xref\": \"x1\", \"align\": \"left\", \"yref\": \"y1\", \"showarrow\": false, \"xanchor\": \"left\"}, {\"font\": {\"color\": \"#000000\"}, \"y\": 46, \"text\": \"2\", \"x\": 3.55, \"xref\": \"x1\", \"align\": \"left\", \"yref\": \"y1\", \"showarrow\": false, \"xanchor\": \"left\"}, {\"font\": {\"color\": \"#000000\"}, \"y\": 47, \"text\": \"Web Compatibility\", \"x\": -0.45, \"xref\": \"x1\", \"align\": \"left\", \"yref\": \"y1\", \"showarrow\": false, \"xanchor\": \"left\"}, {\"font\": {\"color\": \"#000000\"}, \"y\": 47, \"text\": \"Non-Employees\", \"x\": 0.55, \"xref\": \"x1\", \"align\": \"left\", \"yref\": \"y1\", \"showarrow\": false, \"xanchor\": \"left\"}, {\"font\": {\"color\": \"#000000\"}, \"y\": 47, \"text\": \"6\", \"x\": 1.55, \"xref\": \"x1\", \"align\": \"left\", \"yref\": \"y1\", \"showarrow\": false, \"xanchor\": \"left\"}, {\"font\": {\"color\": \"#000000\"}, \"y\": 47, \"text\": \"1\", \"x\": 2.55, \"xref\": \"x1\", \"align\": \"left\", \"yref\": \"y1\", \"showarrow\": false, \"xanchor\": \"left\"}, {\"font\": {\"color\": \"#000000\"}, \"y\": 47, \"text\": \"1\", \"x\": 3.55, \"xref\": \"x1\", \"align\": \"left\", \"yref\": \"y1\", \"showarrow\": false, \"xanchor\": \"left\"}, {\"font\": {\"color\": \"#000000\"}, \"y\": 48, \"text\": \"Firefox Focus\", \"x\": -0.45, \"xref\": \"x1\", \"align\": \"left\", \"yref\": \"y1\", \"showarrow\": false, \"xanchor\": \"left\"}, {\"font\": {\"color\": \"#000000\"}, \"y\": 48, \"text\": \"Non-Employees\", \"x\": 0.55, \"xref\": \"x1\", \"align\": \"left\", \"yref\": \"y1\", \"showarrow\": false, \"xanchor\": \"left\"}, {\"font\": {\"color\": \"#000000\"}, \"y\": 48, \"text\": \"6\", \"x\": 1.55, \"xref\": \"x1\", \"align\": \"left\", \"yref\": \"y1\", \"showarrow\": false, \"xanchor\": \"left\"}, {\"font\": {\"color\": \"#000000\"}, \"y\": 48, \"text\": \"1\", \"x\": 2.55, \"xref\": \"x1\", \"align\": \"left\", \"yref\": \"y1\", \"showarrow\": false, \"xanchor\": \"left\"}, {\"font\": {\"color\": \"#000000\"}, \"y\": 48, \"text\": \"1\", \"x\": 3.55, \"xref\": \"x1\", \"align\": \"left\", \"yref\": \"y1\", \"showarrow\": false, \"xanchor\": \"left\"}, {\"font\": {\"color\": \"#000000\"}, \"y\": 49, \"text\": \"Rust\", \"x\": -0.45, \"xref\": \"x1\", \"align\": \"left\", \"yref\": \"y1\", \"showarrow\": false, \"xanchor\": \"left\"}, {\"font\": {\"color\": \"#000000\"}, \"y\": 49, \"text\": \"Employees\", \"x\": 0.55, \"xref\": \"x1\", \"align\": \"left\", \"yref\": \"y1\", \"showarrow\": false, \"xanchor\": \"left\"}, {\"font\": {\"color\": \"#000000\"}, \"y\": 49, \"text\": \"5\", \"x\": 1.55, \"xref\": \"x1\", \"align\": \"left\", \"yref\": \"y1\", \"showarrow\": false, \"xanchor\": \"left\"}, {\"font\": {\"color\": \"#000000\"}, \"y\": 49, \"text\": \"1\", \"x\": 2.55, \"xref\": \"x1\", \"align\": \"left\", \"yref\": \"y1\", \"showarrow\": false, \"xanchor\": \"left\"}, {\"font\": {\"color\": \"#000000\"}, \"y\": 49, \"text\": \"1\", \"x\": 3.55, \"xref\": \"x1\", \"align\": \"left\", \"yref\": \"y1\", \"showarrow\": false, \"xanchor\": \"left\"}, {\"font\": {\"color\": \"#000000\"}, \"y\": 50, \"text\": \"Advocacy and policy\", \"x\": -0.45, \"xref\": \"x1\", \"align\": \"left\", \"yref\": \"y1\", \"showarrow\": false, \"xanchor\": \"left\"}, {\"font\": {\"color\": \"#000000\"}, \"y\": 50, \"text\": \"Employees\", \"x\": 0.55, \"xref\": \"x1\", \"align\": \"left\", \"yref\": \"y1\", \"showarrow\": false, \"xanchor\": \"left\"}, {\"font\": {\"color\": \"#000000\"}, \"y\": 50, \"text\": \"3\", \"x\": 1.55, \"xref\": \"x1\", \"align\": \"left\", \"yref\": \"y1\", \"showarrow\": false, \"xanchor\": \"left\"}, {\"font\": {\"color\": \"#000000\"}, \"y\": 50, \"text\": \"1\", \"x\": 2.55, \"xref\": \"x1\", \"align\": \"left\", \"yref\": \"y1\", \"showarrow\": false, \"xanchor\": \"left\"}, {\"font\": {\"color\": \"#000000\"}, \"y\": 50, \"text\": \"2\", \"x\": 3.55, \"xref\": \"x1\", \"align\": \"left\", \"yref\": \"y1\", \"showarrow\": false, \"xanchor\": \"left\"}, {\"font\": {\"color\": \"#000000\"}, \"y\": 51, \"text\": \"Connected devices & IoT\", \"x\": -0.45, \"xref\": \"x1\", \"align\": \"left\", \"yref\": \"y1\", \"showarrow\": false, \"xanchor\": \"left\"}, {\"font\": {\"color\": \"#000000\"}, \"y\": 51, \"text\": \"Non-Employees\", \"x\": 0.55, \"xref\": \"x1\", \"align\": \"left\", \"yref\": \"y1\", \"showarrow\": false, \"xanchor\": \"left\"}, {\"font\": {\"color\": \"#000000\"}, \"y\": 51, \"text\": \"1\", \"x\": 1.55, \"xref\": \"x1\", \"align\": \"left\", \"yref\": \"y1\", \"showarrow\": false, \"xanchor\": \"left\"}, {\"font\": {\"color\": \"#000000\"}, \"y\": 51, \"text\": \"1\", \"x\": 2.55, \"xref\": \"x1\", \"align\": \"left\", \"yref\": \"y1\", \"showarrow\": false, \"xanchor\": \"left\"}, {\"font\": {\"color\": \"#000000\"}, \"y\": 51, \"text\": \"1\", \"x\": 3.55, \"xref\": \"x1\", \"align\": \"left\", \"yref\": \"y1\", \"showarrow\": false, \"xanchor\": \"left\"}, {\"font\": {\"color\": \"#000000\"}, \"y\": 52, \"text\": \"Firefox Student Ambassadors\", \"x\": -0.45, \"xref\": \"x1\", \"align\": \"left\", \"yref\": \"y1\", \"showarrow\": false, \"xanchor\": \"left\"}, {\"font\": {\"color\": \"#000000\"}, \"y\": 52, \"text\": \"Non-Employees\", \"x\": 0.55, \"xref\": \"x1\", \"align\": \"left\", \"yref\": \"y1\", \"showarrow\": false, \"xanchor\": \"left\"}, {\"font\": {\"color\": \"#000000\"}, \"y\": 52, \"text\": \"1\", \"x\": 1.55, \"xref\": \"x1\", \"align\": \"left\", \"yref\": \"y1\", \"showarrow\": false, \"xanchor\": \"left\"}, {\"font\": {\"color\": \"#000000\"}, \"y\": 52, \"text\": \"1\", \"x\": 2.55, \"xref\": \"x1\", \"align\": \"left\", \"yref\": \"y1\", \"showarrow\": false, \"xanchor\": \"left\"}, {\"font\": {\"color\": \"#000000\"}, \"y\": 52, \"text\": \"1\", \"x\": 3.55, \"xref\": \"x1\", \"align\": \"left\", \"yref\": \"y1\", \"showarrow\": false, \"xanchor\": \"left\"}]}, {\"showLink\": true, \"linkText\": \"Export to plot.ly\"})});</script>"
      ]
     },
     "metadata": {},
     "output_type": "display_data"
    }
   ],
   "source": [
    "######\n",
    "# First retrieve Mozilla employees (triying to get everything together results in 502 error)\n",
    "# so let's take partial results and merge them\n",
    "######\n",
    "s = create_search(source='bugzilla')\n",
    "\n",
    "s = s.filter('terms', author_org_name=['Mozilla Staff'])\n",
    "\n",
    "# Unique count of Authors by Project\n",
    "s.aggs.bucket('product', 'terms', field='product', size=100000)\\\n",
    "    .bucket('component', 'terms', field='component', size=100000)\\\n",
    "    .bucket('contributors', 'terms', field='author_uuid', size=100000)\n",
    "result = s.execute()\n",
    "\n",
    "print('q1')\n",
    "\n",
    "# Process results to build a DataFrame\n",
    "i = 0\n",
    "moz_df = pandas.DataFrame(columns=['Product', 'Component', 'uuid'])\n",
    "for product in result.to_dict()['aggregations']['product']['buckets']:\n",
    "    for component in product['component']['buckets']:\n",
    "        for author in component['contributors']['buckets']:\n",
    "            moz_df.loc[len(moz_df)] = [product['key'], component['key'], author['key']]\n",
    "            i += 1\n",
    "            if i % 10000 == 0:\n",
    "                print(i, end=', ')\n",
    "\n",
    "print('Moz: ', len(moz_df))\n",
    "            \n",
    "# Merge projects by product & components DFs\n",
    "moz_merged_df = moz_df.merge(projects['Bugzilla'], on=['Product', 'Component'], how='left')\n",
    "moz_merged_df['Org'] = 'Employees'\n",
    "\n",
    "print('Moz merged: ', len(moz_merged_df))\n",
    "\n",
    "\n",
    "####\n",
    "# Second get results for non-employees\n",
    "###\n",
    "s = create_search(source='bugzilla')\n",
    "\n",
    "s = s.exclude('terms', author_org_name=['Mozilla Staff'])\n",
    "\n",
    "# Unique count of Authors by Project \n",
    "s.aggs.bucket('product', 'terms', field='product', size=100000)\\\n",
    "    .bucket('component', 'terms', field='component', size=100000)\\\n",
    "    .bucket('contributors', 'terms', field='author_uuid', size=100000)\n",
    "result = s.execute()\n",
    "\n",
    "print('q2')\n",
    "\n",
    "# Process results to build a DataFrame\n",
    "non_moz_df = pandas.DataFrame(columns=['Product', 'Component', 'uuid'])\n",
    "i = 0\n",
    "for product in result.to_dict()['aggregations']['product']['buckets']:\n",
    "    for component in product['component']['buckets']:\n",
    "        for author in component['contributors']['buckets']:\n",
    "            non_moz_df.loc[len(non_moz_df)] = [product['key'], component['key'], author['key']]\n",
    "            i += 1\n",
    "            if i % 10000 == 0:\n",
    "                print(i, end=', ')\n",
    "\n",
    "print('Non-moz: ', len(non_moz_df))\n",
    "            \n",
    "# Merge projects by product & components DFs\n",
    "non_moz_merged_df = non_moz_df.merge(projects['Bugzilla'], on=['Product', 'Component'], how='left')\n",
    "non_moz_merged_df['Org'] = 'Non-Employees'\n",
    "\n",
    "print('Non-moz merged: ', len(non_moz_merged_df))\n",
    "\n",
    "###\n",
    "# Concat both data frames into a single one\n",
    "###\n",
    "merged_df = pandas.concat([moz_merged_df, non_moz_merged_df])\n",
    "\n",
    "print('After concat')\n",
    "\n",
    "\n",
    "# Group By project\n",
    "projects_df = merged_df.groupby(['Project', 'Org']).agg({'uuid': pandas.Series.nunique,\n",
    "                                                         'Product': pandas.Series.nunique,\n",
    "                                                         'Component': pandas.Series.nunique})\n",
    "projects_df = projects_df.sort_values(by='uuid', ascending=0)\n",
    "\n",
    "# Print a table with this data\n",
    "plotly.offline.init_notebook_mode(connected=True)\n",
    "table = ff.create_table(projects_df.reset_index())\n",
    "plotly.offline.iplot(table, filename='bugzilla-projects-contributors-table.html')"
   ]
  },
  {
   "cell_type": "markdown",
   "metadata": {},
   "source": [
    "**Table above: Bugzilla Authors by Project using Spreadsheet Data**"
   ]
  },
  {
   "cell_type": "code",
   "execution_count": 48,
   "metadata": {
    "collapsed": false
   },
   "outputs": [
    {
     "name": "stdout",
     "output_type": "stream",
     "text": [
      "71348\n",
      "184333\n",
      "2784\n",
      "181551\n",
      "184335\n",
      "2784\n",
      "181551\n",
      "184335\n"
     ]
    }
   ],
   "source": [
    "merged_df.loc[(merged_df['Project'] == 'Firefox') & (merged_df['Org'] == 'Non-Employees')].groupby('Project')\\\n",
    "                .agg({'uuid': pandas.Series.nunique,\n",
    "                      'Product': pandas.Series.nunique,\n",
    "                      'Component': pandas.Series.nunique})\n",
    "    \n",
    "print(len(merged_df.loc[(merged_df['Project'] == 'Firefox') & (merged_df['Org'] == 'Non-Employees')]['uuid'].unique()))\n",
    "print(len(merged_df['uuid'].unique()))\n",
    "print(len(moz_df['uuid'].unique()))\n",
    "print(len(non_moz_df['uuid'].unique()))\n",
    "print(len(moz_df['uuid'].unique()) + len(non_moz_df['uuid'].unique()))\n",
    "\n",
    "print(len(moz_merged_df['uuid'].unique()))\n",
    "print(len(non_moz_merged_df['uuid'].unique()))\n",
    "print(len(moz_merged_df['uuid'].unique()) + len(non_moz_merged_df['uuid'].unique()))"
   ]
  },
  {
   "cell_type": "markdown",
   "metadata": {},
   "source": [
    "### Number of Authors by project over time\n",
    "#### Git\n",
    "\n",
    "First chart shows data directly from Dashboard. Second chart shows the same data grouped by projects provided by Mozilla, built specifically for this report."
   ]
  },
  {
   "cell_type": "code",
   "execution_count": 19,
   "metadata": {
    "collapsed": false
   },
   "outputs": [
    {
     "name": "stdout",
     "output_type": "stream",
     "text": [
      "10000, 20000, 30000, 40000, 50000, 60000, 70000, 80000, 90000, 100000, 110000, 120000, 130000, "
     ]
    },
    {
     "data": {
      "text/html": [
       "<script>requirejs.config({paths: { 'plotly': ['https://cdn.plot.ly/plotly-latest.min']},});if(!window.Plotly) {{require(['plotly'],function(plotly) {window.Plotly=plotly;});}}</script>"
      ],
      "text/vnd.plotly.v1+html": [
       "<script>requirejs.config({paths: { 'plotly': ['https://cdn.plot.ly/plotly-latest.min']},});if(!window.Plotly) {{require(['plotly'],function(plotly) {window.Plotly=plotly;});}}</script>"
      ]
     },
     "metadata": {},
     "output_type": "display_data"
    },
    {
     "data": {
      "application/vnd.plotly.v1+json": {
       "data": [
        {
         "name": "Gecko",
         "type": "bar",
         "x": [
          "2016-01-01T00:00:00.000Z",
          "2015-01-01T00:00:00.000Z",
          "2016-04-01T00:00:00.000Z",
          "2016-07-01T00:00:00.000Z",
          "2014-10-01T00:00:00.000Z",
          "2014-07-01T00:00:00.000Z",
          "2015-04-01T00:00:00.000Z",
          "2014-04-01T00:00:00.000Z",
          "2015-10-01T00:00:00.000Z",
          "2014-01-01T00:00:00.000Z",
          "2015-07-01T00:00:00.000Z",
          "2013-10-01T00:00:00.000Z",
          "2016-10-01T00:00:00.000Z",
          "2013-04-01T00:00:00.000Z",
          "2013-07-01T00:00:00.000Z",
          "2013-01-01T00:00:00.000Z",
          "2012-07-01T00:00:00.000Z",
          "2012-10-01T00:00:00.000Z",
          "2012-04-01T00:00:00.000Z",
          "2012-01-01T00:00:00.000Z",
          "2011-10-01T00:00:00.000Z",
          "2011-07-01T00:00:00.000Z",
          "2011-04-01T00:00:00.000Z",
          "2010-07-01T00:00:00.000Z",
          "2011-01-01T00:00:00.000Z",
          "2010-04-01T00:00:00.000Z",
          "2010-10-01T00:00:00.000Z",
          "2010-01-01T00:00:00.000Z"
         ],
         "y": [
          739,
          717,
          713,
          703,
          699,
          697,
          696,
          693,
          687,
          684,
          667,
          626,
          625,
          609,
          592,
          529,
          502,
          499,
          457,
          440,
          392,
          380,
          357,
          348,
          330,
          325,
          311,
          304
         ]
        },
        {
         "name": "Rust",
         "type": "bar",
         "x": [
          "2015-01-01T00:00:00.000Z",
          "2015-04-01T00:00:00.000Z",
          "2016-07-01T00:00:00.000Z",
          "2016-01-01T00:00:00.000Z",
          "2014-10-01T00:00:00.000Z",
          "2015-10-01T00:00:00.000Z",
          "2016-04-01T00:00:00.000Z",
          "2014-07-01T00:00:00.000Z",
          "2015-07-01T00:00:00.000Z",
          "2014-04-01T00:00:00.000Z",
          "2016-10-01T00:00:00.000Z",
          "2014-01-01T00:00:00.000Z",
          "2013-10-01T00:00:00.000Z",
          "2013-07-01T00:00:00.000Z",
          "2013-04-01T00:00:00.000Z",
          "2013-01-01T00:00:00.000Z",
          "2012-10-01T00:00:00.000Z",
          "2012-01-01T00:00:00.000Z",
          "2012-07-01T00:00:00.000Z",
          "2012-04-01T00:00:00.000Z",
          "2011-10-01T00:00:00.000Z",
          "2011-07-01T00:00:00.000Z",
          "2011-04-01T00:00:00.000Z",
          "2010-07-01T00:00:00.000Z",
          "2011-01-01T00:00:00.000Z",
          "2010-10-01T00:00:00.000Z",
          "2010-04-01T00:00:00.000Z"
         ],
         "y": [
          419,
          409,
          360,
          336,
          331,
          304,
          298,
          275,
          273,
          243,
          210,
          201,
          154,
          154,
          125,
          87,
          69,
          52,
          47,
          38,
          22,
          19,
          17,
          17,
          10,
          7,
          3
         ]
        },
        {
         "name": "IT/Ops",
         "type": "bar",
         "x": [
          "2012-04-01T00:00:00.000Z",
          "2012-01-01T00:00:00.000Z",
          "2012-07-01T00:00:00.000Z",
          "2011-10-01T00:00:00.000Z",
          "2011-07-01T00:00:00.000Z",
          "2010-07-01T00:00:00.000Z",
          "2011-04-01T00:00:00.000Z",
          "2011-01-01T00:00:00.000Z",
          "2010-04-01T00:00:00.000Z",
          "2010-10-01T00:00:00.000Z",
          "2010-01-01T00:00:00.000Z",
          "2016-01-01T00:00:00.000Z",
          "2015-10-01T00:00:00.000Z",
          "2016-10-01T00:00:00.000Z",
          "2016-04-01T00:00:00.000Z",
          "2014-10-01T00:00:00.000Z",
          "2015-07-01T00:00:00.000Z",
          "2015-01-01T00:00:00.000Z",
          "2016-07-01T00:00:00.000Z",
          "2015-04-01T00:00:00.000Z",
          "2014-04-01T00:00:00.000Z",
          "2014-07-01T00:00:00.000Z",
          "2014-01-01T00:00:00.000Z",
          "2013-07-01T00:00:00.000Z",
          "2013-04-01T00:00:00.000Z",
          "2013-10-01T00:00:00.000Z",
          "2013-01-01T00:00:00.000Z",
          "2012-10-01T00:00:00.000Z"
         ],
         "y": [
          414,
          401,
          387,
          349,
          326,
          315,
          313,
          299,
          281,
          262,
          258,
          122,
          110,
          107,
          98,
          93,
          92,
          92,
          89,
          82,
          75,
          62,
          61,
          47,
          43,
          35,
          23,
          19
         ]
        },
        {
         "name": "Web Properties",
         "type": "bar",
         "x": [
          "2015-10-01T00:00:00.000Z",
          "2016-01-01T00:00:00.000Z",
          "2016-10-01T00:00:00.000Z",
          "2013-10-01T00:00:00.000Z",
          "2015-07-01T00:00:00.000Z",
          "2015-01-01T00:00:00.000Z",
          "2016-07-01T00:00:00.000Z",
          "2014-10-01T00:00:00.000Z",
          "2016-04-01T00:00:00.000Z",
          "2014-04-01T00:00:00.000Z",
          "2015-04-01T00:00:00.000Z",
          "2014-01-01T00:00:00.000Z",
          "2013-07-01T00:00:00.000Z",
          "2013-04-01T00:00:00.000Z",
          "2014-07-01T00:00:00.000Z",
          "2013-01-01T00:00:00.000Z",
          "2012-10-01T00:00:00.000Z",
          "2012-04-01T00:00:00.000Z",
          "2012-07-01T00:00:00.000Z",
          "2012-01-01T00:00:00.000Z",
          "2011-10-01T00:00:00.000Z",
          "2011-07-01T00:00:00.000Z",
          "2011-04-01T00:00:00.000Z",
          "2011-01-01T00:00:00.000Z",
          "2010-04-01T00:00:00.000Z",
          "2010-10-01T00:00:00.000Z",
          "2010-07-01T00:00:00.000Z",
          "2010-01-01T00:00:00.000Z"
         ],
         "y": [
          221,
          206,
          193,
          191,
          184,
          182,
          181,
          181,
          177,
          176,
          172,
          167,
          149,
          147,
          147,
          131,
          109,
          108,
          105,
          93,
          70,
          64,
          46,
          33,
          28,
          27,
          25,
          16
         ]
        },
        {
         "name": "Servo",
         "type": "bar",
         "x": [
          "2016-04-01T00:00:00.000Z",
          "2016-07-01T00:00:00.000Z",
          "2016-01-01T00:00:00.000Z",
          "2016-10-01T00:00:00.000Z",
          "2015-10-01T00:00:00.000Z",
          "2015-01-01T00:00:00.000Z",
          "2014-10-01T00:00:00.000Z",
          "2015-04-01T00:00:00.000Z",
          "2015-07-01T00:00:00.000Z",
          "2014-04-01T00:00:00.000Z",
          "2013-10-01T00:00:00.000Z",
          "2013-04-01T00:00:00.000Z",
          "2013-07-01T00:00:00.000Z",
          "2014-01-01T00:00:00.000Z",
          "2014-07-01T00:00:00.000Z",
          "2012-07-01T00:00:00.000Z",
          "2012-04-01T00:00:00.000Z",
          "2012-01-01T00:00:00.000Z",
          "2013-01-01T00:00:00.000Z",
          "2012-10-01T00:00:00.000Z",
          "2011-04-01T00:00:00.000Z",
          "2011-10-01T00:00:00.000Z",
          "2011-07-01T00:00:00.000Z",
          "2011-01-01T00:00:00.000Z",
          "2010-10-01T00:00:00.000Z",
          "2010-07-01T00:00:00.000Z",
          "2010-01-01T00:00:00.000Z",
          "2010-04-01T00:00:00.000Z"
         ],
         "y": [
          177,
          173,
          171,
          162,
          150,
          150,
          145,
          135,
          123,
          105,
          75,
          74,
          73,
          70,
          65,
          58,
          58,
          56,
          55,
          47,
          41,
          39,
          39,
          38,
          36,
          35,
          31,
          28
         ]
        },
        {
         "name": "Addons/Web Extensions",
         "type": "bar",
         "x": [
          "2016-10-01T00:00:00.000Z",
          "2016-07-01T00:00:00.000Z",
          "2016-01-01T00:00:00.000Z",
          "2015-10-01T00:00:00.000Z",
          "2013-10-01T00:00:00.000Z",
          "2016-04-01T00:00:00.000Z",
          "2015-07-01T00:00:00.000Z",
          "2014-07-01T00:00:00.000Z",
          "2013-07-01T00:00:00.000Z",
          "2014-01-01T00:00:00.000Z",
          "2014-04-01T00:00:00.000Z",
          "2015-01-01T00:00:00.000Z",
          "2013-04-01T00:00:00.000Z",
          "2014-10-01T00:00:00.000Z",
          "2013-01-01T00:00:00.000Z",
          "2015-04-01T00:00:00.000Z",
          "2012-01-01T00:00:00.000Z",
          "2012-04-01T00:00:00.000Z",
          "2012-10-01T00:00:00.000Z",
          "2011-07-01T00:00:00.000Z",
          "2012-07-01T00:00:00.000Z",
          "2011-04-01T00:00:00.000Z",
          "2011-10-01T00:00:00.000Z",
          "2011-01-01T00:00:00.000Z",
          "2010-04-01T00:00:00.000Z",
          "2010-07-01T00:00:00.000Z",
          "2010-10-01T00:00:00.000Z",
          "2010-01-01T00:00:00.000Z"
         ],
         "y": [
          117,
          115,
          114,
          90,
          90,
          90,
          84,
          81,
          80,
          75,
          75,
          65,
          64,
          60,
          59,
          58,
          57,
          56,
          52,
          51,
          50,
          50,
          47,
          38,
          35,
          32,
          30,
          15
         ]
        },
        {
         "name": "Mozilla Local/Regional communities",
         "type": "bar",
         "x": [
          "2015-01-01T00:00:00.000Z",
          "2014-10-01T00:00:00.000Z",
          "2014-07-01T00:00:00.000Z",
          "2014-01-01T00:00:00.000Z",
          "2016-10-01T00:00:00.000Z",
          "2013-04-01T00:00:00.000Z",
          "2016-01-01T00:00:00.000Z",
          "2016-04-01T00:00:00.000Z",
          "2014-04-01T00:00:00.000Z",
          "2015-04-01T00:00:00.000Z",
          "2015-10-01T00:00:00.000Z",
          "2016-07-01T00:00:00.000Z",
          "2013-07-01T00:00:00.000Z",
          "2015-07-01T00:00:00.000Z",
          "2012-10-01T00:00:00.000Z",
          "2013-01-01T00:00:00.000Z",
          "2013-10-01T00:00:00.000Z",
          "2012-04-01T00:00:00.000Z",
          "2012-07-01T00:00:00.000Z",
          "2011-10-01T00:00:00.000Z",
          "2012-01-01T00:00:00.000Z",
          "2011-04-01T00:00:00.000Z",
          "2011-01-01T00:00:00.000Z",
          "2010-07-01T00:00:00.000Z",
          "2010-04-01T00:00:00.000Z",
          "2010-01-01T00:00:00.000Z",
          "2010-10-01T00:00:00.000Z",
          "2011-07-01T00:00:00.000Z"
         ],
         "y": [
          89,
          75,
          69,
          61,
          57,
          56,
          55,
          53,
          52,
          50,
          49,
          48,
          45,
          43,
          42,
          41,
          38,
          37,
          24,
          13,
          12,
          11,
          8,
          8,
          5,
          5,
          5,
          5
         ]
        },
        {
         "name": "Firefox OS (FxOS / B2G)",
         "type": "bar",
         "x": [
          "2015-01-01T00:00:00.000Z",
          "2014-10-01T00:00:00.000Z",
          "2014-07-01T00:00:00.000Z",
          "2014-01-01T00:00:00.000Z",
          "2015-04-01T00:00:00.000Z",
          "2014-04-01T00:00:00.000Z",
          "2015-07-01T00:00:00.000Z",
          "2015-10-01T00:00:00.000Z",
          "2013-10-01T00:00:00.000Z",
          "2013-07-01T00:00:00.000Z",
          "2013-01-01T00:00:00.000Z",
          "2012-07-01T00:00:00.000Z",
          "2013-04-01T00:00:00.000Z",
          "2012-10-01T00:00:00.000Z",
          "2016-01-01T00:00:00.000Z",
          "2012-04-01T00:00:00.000Z",
          "2016-04-01T00:00:00.000Z",
          "2016-07-01T00:00:00.000Z",
          "2016-10-01T00:00:00.000Z",
          "2012-01-01T00:00:00.000Z"
         ],
         "y": [
          79,
          63,
          55,
          54,
          52,
          51,
          47,
          36,
          33,
          21,
          19,
          16,
          15,
          15,
          12,
          9,
          5,
          4,
          1,
          1
         ]
        },
        {
         "name": "Test Pilot",
         "type": "bar",
         "x": [
          "2016-10-01T00:00:00.000Z",
          "2016-04-01T00:00:00.000Z",
          "2016-07-01T00:00:00.000Z",
          "2016-01-01T00:00:00.000Z",
          "2015-07-01T00:00:00.000Z",
          "2015-10-01T00:00:00.000Z",
          "2012-07-01T00:00:00.000Z",
          "2012-01-01T00:00:00.000Z",
          "2012-04-01T00:00:00.000Z"
         ],
         "y": [
          73,
          14,
          12,
          7,
          4,
          4,
          2,
          1,
          1
         ]
        },
        {
         "name": "Release engineering",
         "type": "bar",
         "x": [
          "2015-01-01T00:00:00.000Z",
          "2014-10-01T00:00:00.000Z",
          "2014-07-01T00:00:00.000Z",
          "2015-04-01T00:00:00.000Z",
          "2015-07-01T00:00:00.000Z",
          "2014-01-01T00:00:00.000Z",
          "2014-04-01T00:00:00.000Z",
          "2013-07-01T00:00:00.000Z",
          "2013-10-01T00:00:00.000Z",
          "2016-01-01T00:00:00.000Z",
          "2010-07-01T00:00:00.000Z",
          "2013-04-01T00:00:00.000Z",
          "2012-01-01T00:00:00.000Z",
          "2012-07-01T00:00:00.000Z",
          "2013-01-01T00:00:00.000Z",
          "2012-04-01T00:00:00.000Z",
          "2010-10-01T00:00:00.000Z",
          "2011-10-01T00:00:00.000Z",
          "2010-04-01T00:00:00.000Z",
          "2012-10-01T00:00:00.000Z",
          "2010-01-01T00:00:00.000Z",
          "2016-07-01T00:00:00.000Z",
          "2011-04-01T00:00:00.000Z",
          "2016-04-01T00:00:00.000Z",
          "2015-10-01T00:00:00.000Z",
          "2016-10-01T00:00:00.000Z",
          "2011-01-01T00:00:00.000Z",
          "2011-07-01T00:00:00.000Z"
         ],
         "y": [
          62,
          58,
          56,
          56,
          48,
          47,
          46,
          41,
          41,
          37,
          36,
          35,
          34,
          34,
          34,
          33,
          32,
          30,
          30,
          29,
          29,
          26,
          26,
          24,
          24,
          21,
          21,
          19
         ]
        },
        {
         "name": "WebVR",
         "type": "bar",
         "x": [
          "2016-10-01T00:00:00.000Z",
          "2016-01-01T00:00:00.000Z",
          "2016-07-01T00:00:00.000Z",
          "2016-04-01T00:00:00.000Z",
          "2015-10-01T00:00:00.000Z",
          "2015-07-01T00:00:00.000Z",
          "2015-01-01T00:00:00.000Z",
          "2014-10-01T00:00:00.000Z",
          "2015-04-01T00:00:00.000Z",
          "2014-07-01T00:00:00.000Z"
         ],
         "y": [
          54,
          45,
          45,
          42,
          21,
          12,
          9,
          5,
          5,
          4
         ]
        },
        {
         "name": "Web Literacy",
         "type": "bar",
         "x": [
          "2014-10-01T00:00:00.000Z",
          "2014-07-01T00:00:00.000Z",
          "2014-04-01T00:00:00.000Z",
          "2015-01-01T00:00:00.000Z",
          "2015-04-01T00:00:00.000Z",
          "2014-01-01T00:00:00.000Z",
          "2013-10-01T00:00:00.000Z",
          "2015-07-01T00:00:00.000Z",
          "2013-04-01T00:00:00.000Z",
          "2013-07-01T00:00:00.000Z",
          "2011-04-01T00:00:00.000Z",
          "2011-01-01T00:00:00.000Z",
          "2012-04-01T00:00:00.000Z",
          "2013-01-01T00:00:00.000Z",
          "2012-10-01T00:00:00.000Z",
          "2011-10-01T00:00:00.000Z",
          "2015-10-01T00:00:00.000Z",
          "2016-01-01T00:00:00.000Z",
          "2012-01-01T00:00:00.000Z",
          "2016-04-01T00:00:00.000Z",
          "2010-07-01T00:00:00.000Z",
          "2012-07-01T00:00:00.000Z",
          "2016-07-01T00:00:00.000Z",
          "2011-07-01T00:00:00.000Z",
          "2010-10-01T00:00:00.000Z",
          "2010-04-01T00:00:00.000Z",
          "2016-10-01T00:00:00.000Z"
         ],
         "y": [
          54,
          43,
          35,
          34,
          32,
          32,
          28,
          24,
          22,
          21,
          19,
          17,
          17,
          17,
          15,
          13,
          12,
          11,
          11,
          10,
          10,
          10,
          8,
          8,
          6,
          5,
          4
         ]
        },
        {
         "name": "Mozilla Developer Network (MDN)",
         "type": "bar",
         "x": [
          "2016-10-01T00:00:00.000Z",
          "2016-07-01T00:00:00.000Z",
          "2016-01-01T00:00:00.000Z",
          "2015-10-01T00:00:00.000Z",
          "2016-04-01T00:00:00.000Z",
          "2015-07-01T00:00:00.000Z",
          "2015-01-01T00:00:00.000Z",
          "2014-07-01T00:00:00.000Z",
          "2015-04-01T00:00:00.000Z",
          "2014-01-01T00:00:00.000Z",
          "2014-10-01T00:00:00.000Z",
          "2014-04-01T00:00:00.000Z",
          "2013-07-01T00:00:00.000Z",
          "2013-04-01T00:00:00.000Z",
          "2012-07-01T00:00:00.000Z",
          "2013-10-01T00:00:00.000Z",
          "2012-01-01T00:00:00.000Z",
          "2013-01-01T00:00:00.000Z",
          "2012-10-01T00:00:00.000Z",
          "2011-07-01T00:00:00.000Z",
          "2012-04-01T00:00:00.000Z",
          "2011-04-01T00:00:00.000Z",
          "2011-10-01T00:00:00.000Z"
         ],
         "y": [
          43,
          26,
          25,
          24,
          21,
          20,
          17,
          15,
          14,
          8,
          8,
          8,
          8,
          7,
          6,
          6,
          5,
          4,
          3,
          3,
          2,
          1,
          1
         ]
        },
        {
         "name": "Mozilla Location Service (MLS) / Stumbler",
         "type": "bar",
         "x": [
          "2014-01-01T00:00:00.000Z",
          "2013-10-01T00:00:00.000Z",
          "2014-04-01T00:00:00.000Z",
          "2014-10-01T00:00:00.000Z",
          "2014-07-01T00:00:00.000Z",
          "2015-01-01T00:00:00.000Z",
          "2015-04-01T00:00:00.000Z",
          "2015-07-01T00:00:00.000Z",
          "2013-07-01T00:00:00.000Z",
          "2015-10-01T00:00:00.000Z",
          "2016-04-01T00:00:00.000Z",
          "2016-01-01T00:00:00.000Z",
          "2016-07-01T00:00:00.000Z",
          "2016-10-01T00:00:00.000Z"
         ],
         "y": [
          42,
          28,
          24,
          22,
          19,
          13,
          7,
          6,
          4,
          2,
          2,
          1,
          1,
          1
         ]
        },
        {
         "name": "Mozilla Science",
         "type": "bar",
         "x": [
          "2016-01-01T00:00:00.000Z",
          "2015-10-01T00:00:00.000Z",
          "2016-04-01T00:00:00.000Z",
          "2015-07-01T00:00:00.000Z",
          "2016-10-01T00:00:00.000Z",
          "2015-04-01T00:00:00.000Z",
          "2014-10-01T00:00:00.000Z",
          "2016-07-01T00:00:00.000Z",
          "2014-07-01T00:00:00.000Z",
          "2015-01-01T00:00:00.000Z",
          "2014-01-01T00:00:00.000Z",
          "2013-10-01T00:00:00.000Z",
          "2014-04-01T00:00:00.000Z"
         ],
         "y": [
          33,
          25,
          25,
          24,
          17,
          15,
          12,
          12,
          4,
          3,
          3,
          2,
          2
         ]
        },
        {
         "name": "Advocacy and policy",
         "type": "bar",
         "x": [
          "2016-07-01T00:00:00.000Z",
          "2016-10-01T00:00:00.000Z",
          "2016-04-01T00:00:00.000Z",
          "2015-07-01T00:00:00.000Z",
          "2015-01-01T00:00:00.000Z",
          "2015-04-01T00:00:00.000Z",
          "2016-01-01T00:00:00.000Z",
          "2014-01-01T00:00:00.000Z",
          "2015-10-01T00:00:00.000Z",
          "2014-07-01T00:00:00.000Z",
          "2014-04-01T00:00:00.000Z",
          "2014-10-01T00:00:00.000Z"
         ],
         "y": [
          32,
          19,
          18,
          7,
          7,
          6,
          5,
          4,
          3,
          2,
          2,
          1
         ]
        },
        {
         "name": "Firefox iOS",
         "type": "bar",
         "x": [
          "2015-10-01T00:00:00.000Z",
          "2015-07-01T00:00:00.000Z",
          "2015-01-01T00:00:00.000Z",
          "2015-04-01T00:00:00.000Z",
          "2016-01-01T00:00:00.000Z",
          "2016-04-01T00:00:00.000Z",
          "2016-07-01T00:00:00.000Z",
          "2016-10-01T00:00:00.000Z",
          "2014-10-01T00:00:00.000Z",
          "2012-04-01T00:00:00.000Z",
          "2012-07-01T00:00:00.000Z",
          "2013-01-01T00:00:00.000Z",
          "2013-04-01T00:00:00.000Z"
         ],
         "y": [
          26,
          26,
          23,
          23,
          22,
          20,
          16,
          15,
          10,
          1,
          1,
          1,
          1
         ]
        },
        {
         "name": "Mozilla Foundation",
         "type": "bar",
         "x": [
          "2013-10-01T00:00:00.000Z",
          "2016-01-01T00:00:00.000Z",
          "2016-07-01T00:00:00.000Z",
          "2016-04-01T00:00:00.000Z",
          "2012-10-01T00:00:00.000Z",
          "2015-10-01T00:00:00.000Z",
          "2015-01-01T00:00:00.000Z",
          "2013-01-01T00:00:00.000Z",
          "2014-10-01T00:00:00.000Z",
          "2014-04-01T00:00:00.000Z",
          "2014-01-01T00:00:00.000Z",
          "2016-10-01T00:00:00.000Z",
          "2015-07-01T00:00:00.000Z",
          "2015-04-01T00:00:00.000Z",
          "2013-07-01T00:00:00.000Z",
          "2013-04-01T00:00:00.000Z",
          "2014-07-01T00:00:00.000Z"
         ],
         "y": [
          20,
          17,
          16,
          15,
          14,
          11,
          10,
          10,
          10,
          9,
          9,
          8,
          7,
          6,
          4,
          4,
          2
         ]
        },
        {
         "name": "Quality Assurance",
         "type": "bar",
         "x": [
          "2013-07-01T00:00:00.000Z",
          "2013-04-01T00:00:00.000Z",
          "2014-07-01T00:00:00.000Z",
          "2012-10-01T00:00:00.000Z",
          "2013-01-01T00:00:00.000Z",
          "2014-04-01T00:00:00.000Z",
          "2012-04-01T00:00:00.000Z",
          "2014-10-01T00:00:00.000Z",
          "2013-10-01T00:00:00.000Z",
          "2010-04-01T00:00:00.000Z",
          "2010-07-01T00:00:00.000Z",
          "2012-07-01T00:00:00.000Z",
          "2011-07-01T00:00:00.000Z",
          "2010-10-01T00:00:00.000Z",
          "2011-01-01T00:00:00.000Z",
          "2012-01-01T00:00:00.000Z",
          "2011-10-01T00:00:00.000Z",
          "2014-01-01T00:00:00.000Z",
          "2010-01-01T00:00:00.000Z",
          "2011-04-01T00:00:00.000Z",
          "2015-01-01T00:00:00.000Z",
          "2015-07-01T00:00:00.000Z",
          "2015-04-01T00:00:00.000Z",
          "2015-10-01T00:00:00.000Z"
         ],
         "y": [
          18,
          15,
          14,
          14,
          14,
          13,
          13,
          12,
          11,
          11,
          11,
          10,
          9,
          9,
          9,
          9,
          8,
          8,
          7,
          6,
          6,
          2,
          2,
          1
         ]
        },
        {
         "name": "Firefox",
         "type": "bar",
         "x": [
          "2016-04-01T00:00:00.000Z",
          "2016-07-01T00:00:00.000Z",
          "2016-01-01T00:00:00.000Z",
          "2016-10-01T00:00:00.000Z"
         ],
         "y": [
          15,
          15,
          10,
          10
         ]
        },
        {
         "name": "Marketing / Social Media",
         "type": "bar",
         "x": [
          "2012-01-01T00:00:00.000Z",
          "2012-07-01T00:00:00.000Z",
          "2014-10-01T00:00:00.000Z",
          "2013-01-01T00:00:00.000Z",
          "2012-04-01T00:00:00.000Z",
          "2016-01-01T00:00:00.000Z",
          "2016-10-01T00:00:00.000Z",
          "2013-10-01T00:00:00.000Z",
          "2013-07-01T00:00:00.000Z",
          "2011-07-01T00:00:00.000Z",
          "2014-01-01T00:00:00.000Z",
          "2014-04-01T00:00:00.000Z",
          "2014-07-01T00:00:00.000Z",
          "2011-10-01T00:00:00.000Z",
          "2011-04-01T00:00:00.000Z",
          "2015-07-01T00:00:00.000Z",
          "2016-07-01T00:00:00.000Z",
          "2015-04-01T00:00:00.000Z",
          "2013-04-01T00:00:00.000Z",
          "2012-10-01T00:00:00.000Z",
          "2015-10-01T00:00:00.000Z",
          "2016-04-01T00:00:00.000Z",
          "2015-01-01T00:00:00.000Z",
          "2010-10-01T00:00:00.000Z",
          "2011-01-01T00:00:00.000Z",
          "2010-04-01T00:00:00.000Z",
          "2010-07-01T00:00:00.000Z"
         ],
         "y": [
          13,
          10,
          9,
          9,
          9,
          9,
          9,
          8,
          8,
          8,
          8,
          8,
          7,
          7,
          7,
          7,
          7,
          7,
          6,
          6,
          6,
          6,
          6,
          3,
          3,
          3,
          2
         ]
        },
        {
         "name": "Mozilla Creative & Design",
         "type": "bar",
         "x": [
          "2016-01-01T00:00:00.000Z",
          "2016-04-01T00:00:00.000Z",
          "2015-10-01T00:00:00.000Z",
          "2014-04-01T00:00:00.000Z",
          "2013-01-01T00:00:00.000Z",
          "2013-07-01T00:00:00.000Z",
          "2016-07-01T00:00:00.000Z",
          "2015-04-01T00:00:00.000Z",
          "2016-10-01T00:00:00.000Z",
          "2015-01-01T00:00:00.000Z",
          "2014-07-01T00:00:00.000Z",
          "2015-07-01T00:00:00.000Z",
          "2012-10-01T00:00:00.000Z"
         ],
         "y": [
          10,
          5,
          4,
          4,
          4,
          3,
          2,
          2,
          2,
          2,
          2,
          1,
          1
         ]
        },
        {
         "name": "Firefox Focus",
         "type": "bar",
         "x": [
          "2016-10-01T00:00:00.000Z",
          "2016-01-01T00:00:00.000Z",
          "2015-10-01T00:00:00.000Z",
          "2016-07-01T00:00:00.000Z"
         ],
         "y": [
          8,
          4,
          3,
          2
         ]
        },
        {
         "name": "Localization",
         "type": "bar",
         "x": [
          "2014-07-01T00:00:00.000Z",
          "2012-07-01T00:00:00.000Z",
          "2013-10-01T00:00:00.000Z",
          "2014-10-01T00:00:00.000Z",
          "2014-01-01T00:00:00.000Z",
          "2013-07-01T00:00:00.000Z",
          "2016-04-01T00:00:00.000Z",
          "2013-01-01T00:00:00.000Z",
          "2012-10-01T00:00:00.000Z",
          "2012-04-01T00:00:00.000Z",
          "2012-01-01T00:00:00.000Z",
          "2011-10-01T00:00:00.000Z",
          "2011-07-01T00:00:00.000Z",
          "2015-04-01T00:00:00.000Z",
          "2015-07-01T00:00:00.000Z",
          "2016-01-01T00:00:00.000Z",
          "2016-10-01T00:00:00.000Z",
          "2015-01-01T00:00:00.000Z",
          "2011-04-01T00:00:00.000Z",
          "2011-01-01T00:00:00.000Z",
          "2013-04-01T00:00:00.000Z",
          "2014-04-01T00:00:00.000Z",
          "2015-10-01T00:00:00.000Z",
          "2016-07-01T00:00:00.000Z",
          "2010-04-01T00:00:00.000Z",
          "2010-07-01T00:00:00.000Z",
          "2010-10-01T00:00:00.000Z",
          "2010-01-01T00:00:00.000Z"
         ],
         "y": [
          7,
          6,
          5,
          5,
          5,
          5,
          5,
          5,
          5,
          5,
          5,
          5,
          5,
          5,
          5,
          5,
          5,
          5,
          4,
          4,
          4,
          4,
          3,
          3,
          2,
          2,
          2,
          1
         ]
        },
        {
         "name": "Deep Speech",
         "type": "bar",
         "x": [
          "2016-10-01T00:00:00.000Z",
          "2016-07-01T00:00:00.000Z",
          "2016-04-01T00:00:00.000Z",
          "2016-01-01T00:00:00.000Z"
         ],
         "y": [
          7,
          3,
          1,
          1
         ]
        },
        {
         "name": "Technical/Developer Evangelism",
         "type": "bar",
         "x": [
          "2016-04-01T00:00:00.000Z",
          "2013-04-01T00:00:00.000Z",
          "2016-07-01T00:00:00.000Z",
          "2014-04-01T00:00:00.000Z",
          "2016-10-01T00:00:00.000Z",
          "2015-10-01T00:00:00.000Z",
          "2015-04-01T00:00:00.000Z",
          "2016-01-01T00:00:00.000Z",
          "2015-07-01T00:00:00.000Z",
          "2014-07-01T00:00:00.000Z",
          "2012-07-01T00:00:00.000Z",
          "2015-01-01T00:00:00.000Z",
          "2013-10-01T00:00:00.000Z",
          "2014-10-01T00:00:00.000Z",
          "2014-01-01T00:00:00.000Z",
          "2013-01-01T00:00:00.000Z",
          "2012-10-01T00:00:00.000Z"
         ],
         "y": [
          7,
          6,
          5,
          5,
          4,
          4,
          4,
          3,
          3,
          3,
          2,
          2,
          2,
          1,
          1,
          1,
          1
         ]
        },
        {
         "name": "Vaani",
         "type": "bar",
         "x": [
          "2015-07-01T00:00:00.000Z",
          "2016-07-01T00:00:00.000Z",
          "2016-04-01T00:00:00.000Z",
          "2015-10-01T00:00:00.000Z",
          "2016-01-01T00:00:00.000Z"
         ],
         "y": [
          6,
          6,
          5,
          3,
          2
         ]
        },
        {
         "name": "Campus Clubs (previously Student Ambassadors)",
         "type": "bar",
         "x": [
          "2016-10-01T00:00:00.000Z",
          "2016-07-01T00:00:00.000Z",
          "2016-01-01T00:00:00.000Z"
         ],
         "y": [
          6,
          4,
          1
         ]
        },
        {
         "name": "Mozilla Clubs",
         "type": "bar",
         "x": [
          "2015-10-01T00:00:00.000Z",
          "2016-04-01T00:00:00.000Z",
          "2016-01-01T00:00:00.000Z",
          "2015-07-01T00:00:00.000Z",
          "2014-10-01T00:00:00.000Z"
         ],
         "y": [
          5,
          4,
          3,
          1,
          1
         ]
        },
        {
         "name": "Connected devices & IoT",
         "type": "bar",
         "x": [
          "2016-01-01T00:00:00.000Z",
          "2011-04-01T00:00:00.000Z",
          "2011-10-01T00:00:00.000Z",
          "2012-01-01T00:00:00.000Z",
          "2013-01-01T00:00:00.000Z",
          "2013-04-01T00:00:00.000Z",
          "2013-07-01T00:00:00.000Z",
          "2016-04-01T00:00:00.000Z",
          "2013-10-01T00:00:00.000Z",
          "2014-01-01T00:00:00.000Z",
          "2014-04-01T00:00:00.000Z",
          "2014-10-01T00:00:00.000Z",
          "2012-10-01T00:00:00.000Z",
          "2011-07-01T00:00:00.000Z",
          "2012-07-01T00:00:00.000Z",
          "2012-04-01T00:00:00.000Z",
          "2010-07-01T00:00:00.000Z",
          "2015-10-01T00:00:00.000Z",
          "2016-10-01T00:00:00.000Z",
          "2016-07-01T00:00:00.000Z",
          "2010-10-01T00:00:00.000Z",
          "2011-01-01T00:00:00.000Z",
          "2015-07-01T00:00:00.000Z",
          "2015-01-01T00:00:00.000Z",
          "2014-07-01T00:00:00.000Z",
          "2015-04-01T00:00:00.000Z"
         ],
         "y": [
          3,
          3,
          3,
          3,
          2,
          2,
          2,
          2,
          2,
          2,
          2,
          2,
          2,
          2,
          2,
          2,
          2,
          2,
          2,
          1,
          1,
          1,
          1,
          1,
          1,
          1
         ]
        },
        {
         "name": "Developer Tools",
         "type": "bar",
         "x": [
          "2015-04-01T00:00:00.000Z",
          "2011-04-01T00:00:00.000Z",
          "2011-01-01T00:00:00.000Z",
          "2011-07-01T00:00:00.000Z",
          "2013-07-01T00:00:00.000Z",
          "2010-10-01T00:00:00.000Z",
          "2013-10-01T00:00:00.000Z",
          "2016-01-01T00:00:00.000Z"
         ],
         "y": [
          3,
          3,
          2,
          2,
          1,
          1,
          1,
          1
         ]
        },
        {
         "name": "Firefox Android",
         "type": "bar",
         "x": [
          "2014-07-01T00:00:00.000Z",
          "2015-10-01T00:00:00.000Z",
          "2015-04-01T00:00:00.000Z",
          "2014-10-01T00:00:00.000Z"
         ],
         "y": [
          2,
          1,
          1,
          1
         ]
        }
       ],
       "layout": {
        "barmode": "stack"
       }
      },
      "text/html": [
       "<div id=\"91bb51f4-71b4-4124-8fa1-50be05bfcae5\" style=\"height: 525px; width: 100%;\" class=\"plotly-graph-div\"></div><script type=\"text/javascript\">require([\"plotly\"], function(Plotly) { window.PLOTLYENV=window.PLOTLYENV || {};window.PLOTLYENV.BASE_URL=\"https://plot.ly\";Plotly.newPlot(\"91bb51f4-71b4-4124-8fa1-50be05bfcae5\", [{\"type\": \"bar\", \"y\": [739, 717, 713, 703, 699, 697, 696, 693, 687, 684, 667, 626, 625, 609, 592, 529, 502, 499, 457, 440, 392, 380, 357, 348, 330, 325, 311, 304], \"x\": [\"2016-01-01T00:00:00.000Z\", \"2015-01-01T00:00:00.000Z\", \"2016-04-01T00:00:00.000Z\", \"2016-07-01T00:00:00.000Z\", \"2014-10-01T00:00:00.000Z\", \"2014-07-01T00:00:00.000Z\", \"2015-04-01T00:00:00.000Z\", \"2014-04-01T00:00:00.000Z\", \"2015-10-01T00:00:00.000Z\", \"2014-01-01T00:00:00.000Z\", \"2015-07-01T00:00:00.000Z\", \"2013-10-01T00:00:00.000Z\", \"2016-10-01T00:00:00.000Z\", \"2013-04-01T00:00:00.000Z\", \"2013-07-01T00:00:00.000Z\", \"2013-01-01T00:00:00.000Z\", \"2012-07-01T00:00:00.000Z\", \"2012-10-01T00:00:00.000Z\", \"2012-04-01T00:00:00.000Z\", \"2012-01-01T00:00:00.000Z\", \"2011-10-01T00:00:00.000Z\", \"2011-07-01T00:00:00.000Z\", \"2011-04-01T00:00:00.000Z\", \"2010-07-01T00:00:00.000Z\", \"2011-01-01T00:00:00.000Z\", \"2010-04-01T00:00:00.000Z\", \"2010-10-01T00:00:00.000Z\", \"2010-01-01T00:00:00.000Z\"], \"name\": \"Gecko\"}, {\"type\": \"bar\", \"y\": [419, 409, 360, 336, 331, 304, 298, 275, 273, 243, 210, 201, 154, 154, 125, 87, 69, 52, 47, 38, 22, 19, 17, 17, 10, 7, 3], \"x\": [\"2015-01-01T00:00:00.000Z\", \"2015-04-01T00:00:00.000Z\", \"2016-07-01T00:00:00.000Z\", \"2016-01-01T00:00:00.000Z\", \"2014-10-01T00:00:00.000Z\", \"2015-10-01T00:00:00.000Z\", \"2016-04-01T00:00:00.000Z\", \"2014-07-01T00:00:00.000Z\", \"2015-07-01T00:00:00.000Z\", \"2014-04-01T00:00:00.000Z\", \"2016-10-01T00:00:00.000Z\", \"2014-01-01T00:00:00.000Z\", \"2013-10-01T00:00:00.000Z\", \"2013-07-01T00:00:00.000Z\", \"2013-04-01T00:00:00.000Z\", \"2013-01-01T00:00:00.000Z\", \"2012-10-01T00:00:00.000Z\", \"2012-01-01T00:00:00.000Z\", \"2012-07-01T00:00:00.000Z\", \"2012-04-01T00:00:00.000Z\", \"2011-10-01T00:00:00.000Z\", \"2011-07-01T00:00:00.000Z\", \"2011-04-01T00:00:00.000Z\", \"2010-07-01T00:00:00.000Z\", \"2011-01-01T00:00:00.000Z\", \"2010-10-01T00:00:00.000Z\", \"2010-04-01T00:00:00.000Z\"], \"name\": \"Rust\"}, {\"type\": \"bar\", \"y\": [414, 401, 387, 349, 326, 315, 313, 299, 281, 262, 258, 122, 110, 107, 98, 93, 92, 92, 89, 82, 75, 62, 61, 47, 43, 35, 23, 19], \"x\": [\"2012-04-01T00:00:00.000Z\", \"2012-01-01T00:00:00.000Z\", \"2012-07-01T00:00:00.000Z\", \"2011-10-01T00:00:00.000Z\", \"2011-07-01T00:00:00.000Z\", \"2010-07-01T00:00:00.000Z\", \"2011-04-01T00:00:00.000Z\", \"2011-01-01T00:00:00.000Z\", \"2010-04-01T00:00:00.000Z\", \"2010-10-01T00:00:00.000Z\", \"2010-01-01T00:00:00.000Z\", \"2016-01-01T00:00:00.000Z\", \"2015-10-01T00:00:00.000Z\", \"2016-10-01T00:00:00.000Z\", \"2016-04-01T00:00:00.000Z\", \"2014-10-01T00:00:00.000Z\", \"2015-07-01T00:00:00.000Z\", \"2015-01-01T00:00:00.000Z\", \"2016-07-01T00:00:00.000Z\", \"2015-04-01T00:00:00.000Z\", \"2014-04-01T00:00:00.000Z\", \"2014-07-01T00:00:00.000Z\", \"2014-01-01T00:00:00.000Z\", \"2013-07-01T00:00:00.000Z\", \"2013-04-01T00:00:00.000Z\", \"2013-10-01T00:00:00.000Z\", \"2013-01-01T00:00:00.000Z\", \"2012-10-01T00:00:00.000Z\"], \"name\": \"IT/Ops\"}, {\"type\": \"bar\", \"y\": [221, 206, 193, 191, 184, 182, 181, 181, 177, 176, 172, 167, 149, 147, 147, 131, 109, 108, 105, 93, 70, 64, 46, 33, 28, 27, 25, 16], \"x\": [\"2015-10-01T00:00:00.000Z\", \"2016-01-01T00:00:00.000Z\", \"2016-10-01T00:00:00.000Z\", \"2013-10-01T00:00:00.000Z\", \"2015-07-01T00:00:00.000Z\", \"2015-01-01T00:00:00.000Z\", \"2016-07-01T00:00:00.000Z\", \"2014-10-01T00:00:00.000Z\", \"2016-04-01T00:00:00.000Z\", \"2014-04-01T00:00:00.000Z\", \"2015-04-01T00:00:00.000Z\", \"2014-01-01T00:00:00.000Z\", \"2013-07-01T00:00:00.000Z\", \"2013-04-01T00:00:00.000Z\", \"2014-07-01T00:00:00.000Z\", \"2013-01-01T00:00:00.000Z\", \"2012-10-01T00:00:00.000Z\", \"2012-04-01T00:00:00.000Z\", \"2012-07-01T00:00:00.000Z\", \"2012-01-01T00:00:00.000Z\", \"2011-10-01T00:00:00.000Z\", \"2011-07-01T00:00:00.000Z\", \"2011-04-01T00:00:00.000Z\", \"2011-01-01T00:00:00.000Z\", \"2010-04-01T00:00:00.000Z\", \"2010-10-01T00:00:00.000Z\", \"2010-07-01T00:00:00.000Z\", \"2010-01-01T00:00:00.000Z\"], \"name\": \"Web Properties\"}, {\"type\": \"bar\", \"y\": [177, 173, 171, 162, 150, 150, 145, 135, 123, 105, 75, 74, 73, 70, 65, 58, 58, 56, 55, 47, 41, 39, 39, 38, 36, 35, 31, 28], \"x\": [\"2016-04-01T00:00:00.000Z\", \"2016-07-01T00:00:00.000Z\", \"2016-01-01T00:00:00.000Z\", \"2016-10-01T00:00:00.000Z\", \"2015-10-01T00:00:00.000Z\", \"2015-01-01T00:00:00.000Z\", \"2014-10-01T00:00:00.000Z\", \"2015-04-01T00:00:00.000Z\", \"2015-07-01T00:00:00.000Z\", \"2014-04-01T00:00:00.000Z\", \"2013-10-01T00:00:00.000Z\", \"2013-04-01T00:00:00.000Z\", \"2013-07-01T00:00:00.000Z\", \"2014-01-01T00:00:00.000Z\", \"2014-07-01T00:00:00.000Z\", \"2012-07-01T00:00:00.000Z\", \"2012-04-01T00:00:00.000Z\", \"2012-01-01T00:00:00.000Z\", \"2013-01-01T00:00:00.000Z\", \"2012-10-01T00:00:00.000Z\", \"2011-04-01T00:00:00.000Z\", \"2011-10-01T00:00:00.000Z\", \"2011-07-01T00:00:00.000Z\", \"2011-01-01T00:00:00.000Z\", \"2010-10-01T00:00:00.000Z\", \"2010-07-01T00:00:00.000Z\", \"2010-01-01T00:00:00.000Z\", \"2010-04-01T00:00:00.000Z\"], \"name\": \"Servo\"}, {\"type\": \"bar\", \"y\": [117, 115, 114, 90, 90, 90, 84, 81, 80, 75, 75, 65, 64, 60, 59, 58, 57, 56, 52, 51, 50, 50, 47, 38, 35, 32, 30, 15], \"x\": [\"2016-10-01T00:00:00.000Z\", \"2016-07-01T00:00:00.000Z\", \"2016-01-01T00:00:00.000Z\", \"2015-10-01T00:00:00.000Z\", \"2013-10-01T00:00:00.000Z\", \"2016-04-01T00:00:00.000Z\", \"2015-07-01T00:00:00.000Z\", \"2014-07-01T00:00:00.000Z\", \"2013-07-01T00:00:00.000Z\", \"2014-01-01T00:00:00.000Z\", \"2014-04-01T00:00:00.000Z\", \"2015-01-01T00:00:00.000Z\", \"2013-04-01T00:00:00.000Z\", \"2014-10-01T00:00:00.000Z\", \"2013-01-01T00:00:00.000Z\", \"2015-04-01T00:00:00.000Z\", \"2012-01-01T00:00:00.000Z\", \"2012-04-01T00:00:00.000Z\", \"2012-10-01T00:00:00.000Z\", \"2011-07-01T00:00:00.000Z\", \"2012-07-01T00:00:00.000Z\", \"2011-04-01T00:00:00.000Z\", \"2011-10-01T00:00:00.000Z\", \"2011-01-01T00:00:00.000Z\", \"2010-04-01T00:00:00.000Z\", \"2010-07-01T00:00:00.000Z\", \"2010-10-01T00:00:00.000Z\", \"2010-01-01T00:00:00.000Z\"], \"name\": \"Addons/Web Extensions\"}, {\"type\": \"bar\", \"y\": [89, 75, 69, 61, 57, 56, 55, 53, 52, 50, 49, 48, 45, 43, 42, 41, 38, 37, 24, 13, 12, 11, 8, 8, 5, 5, 5, 5], \"x\": [\"2015-01-01T00:00:00.000Z\", \"2014-10-01T00:00:00.000Z\", \"2014-07-01T00:00:00.000Z\", \"2014-01-01T00:00:00.000Z\", \"2016-10-01T00:00:00.000Z\", \"2013-04-01T00:00:00.000Z\", \"2016-01-01T00:00:00.000Z\", \"2016-04-01T00:00:00.000Z\", \"2014-04-01T00:00:00.000Z\", \"2015-04-01T00:00:00.000Z\", \"2015-10-01T00:00:00.000Z\", \"2016-07-01T00:00:00.000Z\", \"2013-07-01T00:00:00.000Z\", \"2015-07-01T00:00:00.000Z\", \"2012-10-01T00:00:00.000Z\", \"2013-01-01T00:00:00.000Z\", \"2013-10-01T00:00:00.000Z\", \"2012-04-01T00:00:00.000Z\", \"2012-07-01T00:00:00.000Z\", \"2011-10-01T00:00:00.000Z\", \"2012-01-01T00:00:00.000Z\", \"2011-04-01T00:00:00.000Z\", \"2011-01-01T00:00:00.000Z\", \"2010-07-01T00:00:00.000Z\", \"2010-04-01T00:00:00.000Z\", \"2010-01-01T00:00:00.000Z\", \"2010-10-01T00:00:00.000Z\", \"2011-07-01T00:00:00.000Z\"], \"name\": \"Mozilla Local/Regional communities\"}, {\"type\": \"bar\", \"y\": [79, 63, 55, 54, 52, 51, 47, 36, 33, 21, 19, 16, 15, 15, 12, 9, 5, 4, 1, 1], \"x\": [\"2015-01-01T00:00:00.000Z\", \"2014-10-01T00:00:00.000Z\", \"2014-07-01T00:00:00.000Z\", \"2014-01-01T00:00:00.000Z\", \"2015-04-01T00:00:00.000Z\", \"2014-04-01T00:00:00.000Z\", \"2015-07-01T00:00:00.000Z\", \"2015-10-01T00:00:00.000Z\", \"2013-10-01T00:00:00.000Z\", \"2013-07-01T00:00:00.000Z\", \"2013-01-01T00:00:00.000Z\", \"2012-07-01T00:00:00.000Z\", \"2013-04-01T00:00:00.000Z\", \"2012-10-01T00:00:00.000Z\", \"2016-01-01T00:00:00.000Z\", \"2012-04-01T00:00:00.000Z\", \"2016-04-01T00:00:00.000Z\", \"2016-07-01T00:00:00.000Z\", \"2016-10-01T00:00:00.000Z\", \"2012-01-01T00:00:00.000Z\"], \"name\": \"Firefox OS (FxOS / B2G)\"}, {\"type\": \"bar\", \"y\": [73, 14, 12, 7, 4, 4, 2, 1, 1], \"x\": [\"2016-10-01T00:00:00.000Z\", \"2016-04-01T00:00:00.000Z\", \"2016-07-01T00:00:00.000Z\", \"2016-01-01T00:00:00.000Z\", \"2015-07-01T00:00:00.000Z\", \"2015-10-01T00:00:00.000Z\", \"2012-07-01T00:00:00.000Z\", \"2012-01-01T00:00:00.000Z\", \"2012-04-01T00:00:00.000Z\"], \"name\": \"Test Pilot\"}, {\"type\": \"bar\", \"y\": [62, 58, 56, 56, 48, 47, 46, 41, 41, 37, 36, 35, 34, 34, 34, 33, 32, 30, 30, 29, 29, 26, 26, 24, 24, 21, 21, 19], \"x\": [\"2015-01-01T00:00:00.000Z\", \"2014-10-01T00:00:00.000Z\", \"2014-07-01T00:00:00.000Z\", \"2015-04-01T00:00:00.000Z\", \"2015-07-01T00:00:00.000Z\", \"2014-01-01T00:00:00.000Z\", \"2014-04-01T00:00:00.000Z\", \"2013-07-01T00:00:00.000Z\", \"2013-10-01T00:00:00.000Z\", \"2016-01-01T00:00:00.000Z\", \"2010-07-01T00:00:00.000Z\", \"2013-04-01T00:00:00.000Z\", \"2012-01-01T00:00:00.000Z\", \"2012-07-01T00:00:00.000Z\", \"2013-01-01T00:00:00.000Z\", \"2012-04-01T00:00:00.000Z\", \"2010-10-01T00:00:00.000Z\", \"2011-10-01T00:00:00.000Z\", \"2010-04-01T00:00:00.000Z\", \"2012-10-01T00:00:00.000Z\", \"2010-01-01T00:00:00.000Z\", \"2016-07-01T00:00:00.000Z\", \"2011-04-01T00:00:00.000Z\", \"2016-04-01T00:00:00.000Z\", \"2015-10-01T00:00:00.000Z\", \"2016-10-01T00:00:00.000Z\", \"2011-01-01T00:00:00.000Z\", \"2011-07-01T00:00:00.000Z\"], \"name\": \"Release engineering\"}, {\"type\": \"bar\", \"y\": [54, 45, 45, 42, 21, 12, 9, 5, 5, 4], \"x\": [\"2016-10-01T00:00:00.000Z\", \"2016-01-01T00:00:00.000Z\", \"2016-07-01T00:00:00.000Z\", \"2016-04-01T00:00:00.000Z\", \"2015-10-01T00:00:00.000Z\", \"2015-07-01T00:00:00.000Z\", \"2015-01-01T00:00:00.000Z\", \"2014-10-01T00:00:00.000Z\", \"2015-04-01T00:00:00.000Z\", \"2014-07-01T00:00:00.000Z\"], \"name\": \"WebVR\"}, {\"type\": \"bar\", \"y\": [54, 43, 35, 34, 32, 32, 28, 24, 22, 21, 19, 17, 17, 17, 15, 13, 12, 11, 11, 10, 10, 10, 8, 8, 6, 5, 4], \"x\": [\"2014-10-01T00:00:00.000Z\", \"2014-07-01T00:00:00.000Z\", \"2014-04-01T00:00:00.000Z\", \"2015-01-01T00:00:00.000Z\", \"2015-04-01T00:00:00.000Z\", \"2014-01-01T00:00:00.000Z\", \"2013-10-01T00:00:00.000Z\", \"2015-07-01T00:00:00.000Z\", \"2013-04-01T00:00:00.000Z\", \"2013-07-01T00:00:00.000Z\", \"2011-04-01T00:00:00.000Z\", \"2011-01-01T00:00:00.000Z\", \"2012-04-01T00:00:00.000Z\", \"2013-01-01T00:00:00.000Z\", \"2012-10-01T00:00:00.000Z\", \"2011-10-01T00:00:00.000Z\", \"2015-10-01T00:00:00.000Z\", \"2016-01-01T00:00:00.000Z\", \"2012-01-01T00:00:00.000Z\", \"2016-04-01T00:00:00.000Z\", \"2010-07-01T00:00:00.000Z\", \"2012-07-01T00:00:00.000Z\", \"2016-07-01T00:00:00.000Z\", \"2011-07-01T00:00:00.000Z\", \"2010-10-01T00:00:00.000Z\", \"2010-04-01T00:00:00.000Z\", \"2016-10-01T00:00:00.000Z\"], \"name\": \"Web Literacy\"}, {\"type\": \"bar\", \"y\": [43, 26, 25, 24, 21, 20, 17, 15, 14, 8, 8, 8, 8, 7, 6, 6, 5, 4, 3, 3, 2, 1, 1], \"x\": [\"2016-10-01T00:00:00.000Z\", \"2016-07-01T00:00:00.000Z\", \"2016-01-01T00:00:00.000Z\", \"2015-10-01T00:00:00.000Z\", \"2016-04-01T00:00:00.000Z\", \"2015-07-01T00:00:00.000Z\", \"2015-01-01T00:00:00.000Z\", \"2014-07-01T00:00:00.000Z\", \"2015-04-01T00:00:00.000Z\", \"2014-01-01T00:00:00.000Z\", \"2014-10-01T00:00:00.000Z\", \"2014-04-01T00:00:00.000Z\", \"2013-07-01T00:00:00.000Z\", \"2013-04-01T00:00:00.000Z\", \"2012-07-01T00:00:00.000Z\", \"2013-10-01T00:00:00.000Z\", \"2012-01-01T00:00:00.000Z\", \"2013-01-01T00:00:00.000Z\", \"2012-10-01T00:00:00.000Z\", \"2011-07-01T00:00:00.000Z\", \"2012-04-01T00:00:00.000Z\", \"2011-04-01T00:00:00.000Z\", \"2011-10-01T00:00:00.000Z\"], \"name\": \"Mozilla Developer Network (MDN)\"}, {\"type\": \"bar\", \"y\": [42, 28, 24, 22, 19, 13, 7, 6, 4, 2, 2, 1, 1, 1], \"x\": [\"2014-01-01T00:00:00.000Z\", \"2013-10-01T00:00:00.000Z\", \"2014-04-01T00:00:00.000Z\", \"2014-10-01T00:00:00.000Z\", \"2014-07-01T00:00:00.000Z\", \"2015-01-01T00:00:00.000Z\", \"2015-04-01T00:00:00.000Z\", \"2015-07-01T00:00:00.000Z\", \"2013-07-01T00:00:00.000Z\", \"2015-10-01T00:00:00.000Z\", \"2016-04-01T00:00:00.000Z\", \"2016-01-01T00:00:00.000Z\", \"2016-07-01T00:00:00.000Z\", \"2016-10-01T00:00:00.000Z\"], \"name\": \"Mozilla Location Service (MLS) / Stumbler\"}, {\"type\": \"bar\", \"y\": [33, 25, 25, 24, 17, 15, 12, 12, 4, 3, 3, 2, 2], \"x\": [\"2016-01-01T00:00:00.000Z\", \"2015-10-01T00:00:00.000Z\", \"2016-04-01T00:00:00.000Z\", \"2015-07-01T00:00:00.000Z\", \"2016-10-01T00:00:00.000Z\", \"2015-04-01T00:00:00.000Z\", \"2014-10-01T00:00:00.000Z\", \"2016-07-01T00:00:00.000Z\", \"2014-07-01T00:00:00.000Z\", \"2015-01-01T00:00:00.000Z\", \"2014-01-01T00:00:00.000Z\", \"2013-10-01T00:00:00.000Z\", \"2014-04-01T00:00:00.000Z\"], \"name\": \"Mozilla Science\"}, {\"type\": \"bar\", \"y\": [32, 19, 18, 7, 7, 6, 5, 4, 3, 2, 2, 1], \"x\": [\"2016-07-01T00:00:00.000Z\", \"2016-10-01T00:00:00.000Z\", \"2016-04-01T00:00:00.000Z\", \"2015-07-01T00:00:00.000Z\", \"2015-01-01T00:00:00.000Z\", \"2015-04-01T00:00:00.000Z\", \"2016-01-01T00:00:00.000Z\", \"2014-01-01T00:00:00.000Z\", \"2015-10-01T00:00:00.000Z\", \"2014-07-01T00:00:00.000Z\", \"2014-04-01T00:00:00.000Z\", \"2014-10-01T00:00:00.000Z\"], \"name\": \"Advocacy and policy\"}, {\"type\": \"bar\", \"y\": [26, 26, 23, 23, 22, 20, 16, 15, 10, 1, 1, 1, 1], \"x\": [\"2015-10-01T00:00:00.000Z\", \"2015-07-01T00:00:00.000Z\", \"2015-01-01T00:00:00.000Z\", \"2015-04-01T00:00:00.000Z\", \"2016-01-01T00:00:00.000Z\", \"2016-04-01T00:00:00.000Z\", \"2016-07-01T00:00:00.000Z\", \"2016-10-01T00:00:00.000Z\", \"2014-10-01T00:00:00.000Z\", \"2012-04-01T00:00:00.000Z\", \"2012-07-01T00:00:00.000Z\", \"2013-01-01T00:00:00.000Z\", \"2013-04-01T00:00:00.000Z\"], \"name\": \"Firefox iOS\"}, {\"type\": \"bar\", \"y\": [20, 17, 16, 15, 14, 11, 10, 10, 10, 9, 9, 8, 7, 6, 4, 4, 2], \"x\": [\"2013-10-01T00:00:00.000Z\", \"2016-01-01T00:00:00.000Z\", \"2016-07-01T00:00:00.000Z\", \"2016-04-01T00:00:00.000Z\", \"2012-10-01T00:00:00.000Z\", \"2015-10-01T00:00:00.000Z\", \"2015-01-01T00:00:00.000Z\", \"2013-01-01T00:00:00.000Z\", \"2014-10-01T00:00:00.000Z\", \"2014-04-01T00:00:00.000Z\", \"2014-01-01T00:00:00.000Z\", \"2016-10-01T00:00:00.000Z\", \"2015-07-01T00:00:00.000Z\", \"2015-04-01T00:00:00.000Z\", \"2013-07-01T00:00:00.000Z\", \"2013-04-01T00:00:00.000Z\", \"2014-07-01T00:00:00.000Z\"], \"name\": \"Mozilla Foundation\"}, {\"type\": \"bar\", \"y\": [18, 15, 14, 14, 14, 13, 13, 12, 11, 11, 11, 10, 9, 9, 9, 9, 8, 8, 7, 6, 6, 2, 2, 1], \"x\": [\"2013-07-01T00:00:00.000Z\", \"2013-04-01T00:00:00.000Z\", \"2014-07-01T00:00:00.000Z\", \"2012-10-01T00:00:00.000Z\", \"2013-01-01T00:00:00.000Z\", \"2014-04-01T00:00:00.000Z\", \"2012-04-01T00:00:00.000Z\", \"2014-10-01T00:00:00.000Z\", \"2013-10-01T00:00:00.000Z\", \"2010-04-01T00:00:00.000Z\", \"2010-07-01T00:00:00.000Z\", \"2012-07-01T00:00:00.000Z\", \"2011-07-01T00:00:00.000Z\", \"2010-10-01T00:00:00.000Z\", \"2011-01-01T00:00:00.000Z\", \"2012-01-01T00:00:00.000Z\", \"2011-10-01T00:00:00.000Z\", \"2014-01-01T00:00:00.000Z\", \"2010-01-01T00:00:00.000Z\", \"2011-04-01T00:00:00.000Z\", \"2015-01-01T00:00:00.000Z\", \"2015-07-01T00:00:00.000Z\", \"2015-04-01T00:00:00.000Z\", \"2015-10-01T00:00:00.000Z\"], \"name\": \"Quality Assurance\"}, {\"type\": \"bar\", \"y\": [15, 15, 10, 10], \"x\": [\"2016-04-01T00:00:00.000Z\", \"2016-07-01T00:00:00.000Z\", \"2016-01-01T00:00:00.000Z\", \"2016-10-01T00:00:00.000Z\"], \"name\": \"Firefox\"}, {\"type\": \"bar\", \"y\": [13, 10, 9, 9, 9, 9, 9, 8, 8, 8, 8, 8, 7, 7, 7, 7, 7, 7, 6, 6, 6, 6, 6, 3, 3, 3, 2], \"x\": [\"2012-01-01T00:00:00.000Z\", \"2012-07-01T00:00:00.000Z\", \"2014-10-01T00:00:00.000Z\", \"2013-01-01T00:00:00.000Z\", \"2012-04-01T00:00:00.000Z\", \"2016-01-01T00:00:00.000Z\", \"2016-10-01T00:00:00.000Z\", \"2013-10-01T00:00:00.000Z\", \"2013-07-01T00:00:00.000Z\", \"2011-07-01T00:00:00.000Z\", \"2014-01-01T00:00:00.000Z\", \"2014-04-01T00:00:00.000Z\", \"2014-07-01T00:00:00.000Z\", \"2011-10-01T00:00:00.000Z\", \"2011-04-01T00:00:00.000Z\", \"2015-07-01T00:00:00.000Z\", \"2016-07-01T00:00:00.000Z\", \"2015-04-01T00:00:00.000Z\", \"2013-04-01T00:00:00.000Z\", \"2012-10-01T00:00:00.000Z\", \"2015-10-01T00:00:00.000Z\", \"2016-04-01T00:00:00.000Z\", \"2015-01-01T00:00:00.000Z\", \"2010-10-01T00:00:00.000Z\", \"2011-01-01T00:00:00.000Z\", \"2010-04-01T00:00:00.000Z\", \"2010-07-01T00:00:00.000Z\"], \"name\": \"Marketing / Social Media\"}, {\"type\": \"bar\", \"y\": [10, 5, 4, 4, 4, 3, 2, 2, 2, 2, 2, 1, 1], \"x\": [\"2016-01-01T00:00:00.000Z\", \"2016-04-01T00:00:00.000Z\", \"2015-10-01T00:00:00.000Z\", \"2014-04-01T00:00:00.000Z\", \"2013-01-01T00:00:00.000Z\", \"2013-07-01T00:00:00.000Z\", \"2016-07-01T00:00:00.000Z\", \"2015-04-01T00:00:00.000Z\", \"2016-10-01T00:00:00.000Z\", \"2015-01-01T00:00:00.000Z\", \"2014-07-01T00:00:00.000Z\", \"2015-07-01T00:00:00.000Z\", \"2012-10-01T00:00:00.000Z\"], \"name\": \"Mozilla Creative & Design\"}, {\"type\": \"bar\", \"y\": [8, 4, 3, 2], \"x\": [\"2016-10-01T00:00:00.000Z\", \"2016-01-01T00:00:00.000Z\", \"2015-10-01T00:00:00.000Z\", \"2016-07-01T00:00:00.000Z\"], \"name\": \"Firefox Focus\"}, {\"type\": \"bar\", \"y\": [7, 6, 5, 5, 5, 5, 5, 5, 5, 5, 5, 5, 5, 5, 5, 5, 5, 5, 4, 4, 4, 4, 3, 3, 2, 2, 2, 1], \"x\": [\"2014-07-01T00:00:00.000Z\", \"2012-07-01T00:00:00.000Z\", \"2013-10-01T00:00:00.000Z\", \"2014-10-01T00:00:00.000Z\", \"2014-01-01T00:00:00.000Z\", \"2013-07-01T00:00:00.000Z\", \"2016-04-01T00:00:00.000Z\", \"2013-01-01T00:00:00.000Z\", \"2012-10-01T00:00:00.000Z\", \"2012-04-01T00:00:00.000Z\", \"2012-01-01T00:00:00.000Z\", \"2011-10-01T00:00:00.000Z\", \"2011-07-01T00:00:00.000Z\", \"2015-04-01T00:00:00.000Z\", \"2015-07-01T00:00:00.000Z\", \"2016-01-01T00:00:00.000Z\", \"2016-10-01T00:00:00.000Z\", \"2015-01-01T00:00:00.000Z\", \"2011-04-01T00:00:00.000Z\", \"2011-01-01T00:00:00.000Z\", \"2013-04-01T00:00:00.000Z\", \"2014-04-01T00:00:00.000Z\", \"2015-10-01T00:00:00.000Z\", \"2016-07-01T00:00:00.000Z\", \"2010-04-01T00:00:00.000Z\", \"2010-07-01T00:00:00.000Z\", \"2010-10-01T00:00:00.000Z\", \"2010-01-01T00:00:00.000Z\"], \"name\": \"Localization\"}, {\"type\": \"bar\", \"y\": [7, 3, 1, 1], \"x\": [\"2016-10-01T00:00:00.000Z\", \"2016-07-01T00:00:00.000Z\", \"2016-04-01T00:00:00.000Z\", \"2016-01-01T00:00:00.000Z\"], \"name\": \"Deep Speech\"}, {\"type\": \"bar\", \"y\": [7, 6, 5, 5, 4, 4, 4, 3, 3, 3, 2, 2, 2, 1, 1, 1, 1], \"x\": [\"2016-04-01T00:00:00.000Z\", \"2013-04-01T00:00:00.000Z\", \"2016-07-01T00:00:00.000Z\", \"2014-04-01T00:00:00.000Z\", \"2016-10-01T00:00:00.000Z\", \"2015-10-01T00:00:00.000Z\", \"2015-04-01T00:00:00.000Z\", \"2016-01-01T00:00:00.000Z\", \"2015-07-01T00:00:00.000Z\", \"2014-07-01T00:00:00.000Z\", \"2012-07-01T00:00:00.000Z\", \"2015-01-01T00:00:00.000Z\", \"2013-10-01T00:00:00.000Z\", \"2014-10-01T00:00:00.000Z\", \"2014-01-01T00:00:00.000Z\", \"2013-01-01T00:00:00.000Z\", \"2012-10-01T00:00:00.000Z\"], \"name\": \"Technical/Developer Evangelism\"}, {\"type\": \"bar\", \"y\": [6, 6, 5, 3, 2], \"x\": [\"2015-07-01T00:00:00.000Z\", \"2016-07-01T00:00:00.000Z\", \"2016-04-01T00:00:00.000Z\", \"2015-10-01T00:00:00.000Z\", \"2016-01-01T00:00:00.000Z\"], \"name\": \"Vaani\"}, {\"type\": \"bar\", \"y\": [6, 4, 1], \"x\": [\"2016-10-01T00:00:00.000Z\", \"2016-07-01T00:00:00.000Z\", \"2016-01-01T00:00:00.000Z\"], \"name\": \"Campus Clubs (previously Student Ambassadors)\"}, {\"type\": \"bar\", \"y\": [5, 4, 3, 1, 1], \"x\": [\"2015-10-01T00:00:00.000Z\", \"2016-04-01T00:00:00.000Z\", \"2016-01-01T00:00:00.000Z\", \"2015-07-01T00:00:00.000Z\", \"2014-10-01T00:00:00.000Z\"], \"name\": \"Mozilla Clubs\"}, {\"type\": \"bar\", \"y\": [3, 3, 3, 3, 2, 2, 2, 2, 2, 2, 2, 2, 2, 2, 2, 2, 2, 2, 2, 1, 1, 1, 1, 1, 1, 1], \"x\": [\"2016-01-01T00:00:00.000Z\", \"2011-04-01T00:00:00.000Z\", \"2011-10-01T00:00:00.000Z\", \"2012-01-01T00:00:00.000Z\", \"2013-01-01T00:00:00.000Z\", \"2013-04-01T00:00:00.000Z\", \"2013-07-01T00:00:00.000Z\", \"2016-04-01T00:00:00.000Z\", \"2013-10-01T00:00:00.000Z\", \"2014-01-01T00:00:00.000Z\", \"2014-04-01T00:00:00.000Z\", \"2014-10-01T00:00:00.000Z\", \"2012-10-01T00:00:00.000Z\", \"2011-07-01T00:00:00.000Z\", \"2012-07-01T00:00:00.000Z\", \"2012-04-01T00:00:00.000Z\", \"2010-07-01T00:00:00.000Z\", \"2015-10-01T00:00:00.000Z\", \"2016-10-01T00:00:00.000Z\", \"2016-07-01T00:00:00.000Z\", \"2010-10-01T00:00:00.000Z\", \"2011-01-01T00:00:00.000Z\", \"2015-07-01T00:00:00.000Z\", \"2015-01-01T00:00:00.000Z\", \"2014-07-01T00:00:00.000Z\", \"2015-04-01T00:00:00.000Z\"], \"name\": \"Connected devices & IoT\"}, {\"type\": \"bar\", \"y\": [3, 3, 2, 2, 1, 1, 1, 1], \"x\": [\"2015-04-01T00:00:00.000Z\", \"2011-04-01T00:00:00.000Z\", \"2011-01-01T00:00:00.000Z\", \"2011-07-01T00:00:00.000Z\", \"2013-07-01T00:00:00.000Z\", \"2010-10-01T00:00:00.000Z\", \"2013-10-01T00:00:00.000Z\", \"2016-01-01T00:00:00.000Z\"], \"name\": \"Developer Tools\"}, {\"type\": \"bar\", \"y\": [2, 1, 1, 1], \"x\": [\"2014-07-01T00:00:00.000Z\", \"2015-10-01T00:00:00.000Z\", \"2015-04-01T00:00:00.000Z\", \"2014-10-01T00:00:00.000Z\"], \"name\": \"Firefox Android\"}], {\"barmode\": \"stack\"}, {\"showLink\": true, \"linkText\": \"Export to plot.ly\"})});</script>"
      ],
      "text/vnd.plotly.v1+html": [
       "<div id=\"91bb51f4-71b4-4124-8fa1-50be05bfcae5\" style=\"height: 525px; width: 100%;\" class=\"plotly-graph-div\"></div><script type=\"text/javascript\">require([\"plotly\"], function(Plotly) { window.PLOTLYENV=window.PLOTLYENV || {};window.PLOTLYENV.BASE_URL=\"https://plot.ly\";Plotly.newPlot(\"91bb51f4-71b4-4124-8fa1-50be05bfcae5\", [{\"type\": \"bar\", \"y\": [739, 717, 713, 703, 699, 697, 696, 693, 687, 684, 667, 626, 625, 609, 592, 529, 502, 499, 457, 440, 392, 380, 357, 348, 330, 325, 311, 304], \"x\": [\"2016-01-01T00:00:00.000Z\", \"2015-01-01T00:00:00.000Z\", \"2016-04-01T00:00:00.000Z\", \"2016-07-01T00:00:00.000Z\", \"2014-10-01T00:00:00.000Z\", \"2014-07-01T00:00:00.000Z\", \"2015-04-01T00:00:00.000Z\", \"2014-04-01T00:00:00.000Z\", \"2015-10-01T00:00:00.000Z\", \"2014-01-01T00:00:00.000Z\", \"2015-07-01T00:00:00.000Z\", \"2013-10-01T00:00:00.000Z\", \"2016-10-01T00:00:00.000Z\", \"2013-04-01T00:00:00.000Z\", \"2013-07-01T00:00:00.000Z\", \"2013-01-01T00:00:00.000Z\", \"2012-07-01T00:00:00.000Z\", \"2012-10-01T00:00:00.000Z\", \"2012-04-01T00:00:00.000Z\", \"2012-01-01T00:00:00.000Z\", \"2011-10-01T00:00:00.000Z\", \"2011-07-01T00:00:00.000Z\", \"2011-04-01T00:00:00.000Z\", \"2010-07-01T00:00:00.000Z\", \"2011-01-01T00:00:00.000Z\", \"2010-04-01T00:00:00.000Z\", \"2010-10-01T00:00:00.000Z\", \"2010-01-01T00:00:00.000Z\"], \"name\": \"Gecko\"}, {\"type\": \"bar\", \"y\": [419, 409, 360, 336, 331, 304, 298, 275, 273, 243, 210, 201, 154, 154, 125, 87, 69, 52, 47, 38, 22, 19, 17, 17, 10, 7, 3], \"x\": [\"2015-01-01T00:00:00.000Z\", \"2015-04-01T00:00:00.000Z\", \"2016-07-01T00:00:00.000Z\", \"2016-01-01T00:00:00.000Z\", \"2014-10-01T00:00:00.000Z\", \"2015-10-01T00:00:00.000Z\", \"2016-04-01T00:00:00.000Z\", \"2014-07-01T00:00:00.000Z\", \"2015-07-01T00:00:00.000Z\", \"2014-04-01T00:00:00.000Z\", \"2016-10-01T00:00:00.000Z\", \"2014-01-01T00:00:00.000Z\", \"2013-10-01T00:00:00.000Z\", \"2013-07-01T00:00:00.000Z\", \"2013-04-01T00:00:00.000Z\", \"2013-01-01T00:00:00.000Z\", \"2012-10-01T00:00:00.000Z\", \"2012-01-01T00:00:00.000Z\", \"2012-07-01T00:00:00.000Z\", \"2012-04-01T00:00:00.000Z\", \"2011-10-01T00:00:00.000Z\", \"2011-07-01T00:00:00.000Z\", \"2011-04-01T00:00:00.000Z\", \"2010-07-01T00:00:00.000Z\", \"2011-01-01T00:00:00.000Z\", \"2010-10-01T00:00:00.000Z\", \"2010-04-01T00:00:00.000Z\"], \"name\": \"Rust\"}, {\"type\": \"bar\", \"y\": [414, 401, 387, 349, 326, 315, 313, 299, 281, 262, 258, 122, 110, 107, 98, 93, 92, 92, 89, 82, 75, 62, 61, 47, 43, 35, 23, 19], \"x\": [\"2012-04-01T00:00:00.000Z\", \"2012-01-01T00:00:00.000Z\", \"2012-07-01T00:00:00.000Z\", \"2011-10-01T00:00:00.000Z\", \"2011-07-01T00:00:00.000Z\", \"2010-07-01T00:00:00.000Z\", \"2011-04-01T00:00:00.000Z\", \"2011-01-01T00:00:00.000Z\", \"2010-04-01T00:00:00.000Z\", \"2010-10-01T00:00:00.000Z\", \"2010-01-01T00:00:00.000Z\", \"2016-01-01T00:00:00.000Z\", \"2015-10-01T00:00:00.000Z\", \"2016-10-01T00:00:00.000Z\", \"2016-04-01T00:00:00.000Z\", \"2014-10-01T00:00:00.000Z\", \"2015-07-01T00:00:00.000Z\", \"2015-01-01T00:00:00.000Z\", \"2016-07-01T00:00:00.000Z\", \"2015-04-01T00:00:00.000Z\", \"2014-04-01T00:00:00.000Z\", \"2014-07-01T00:00:00.000Z\", \"2014-01-01T00:00:00.000Z\", \"2013-07-01T00:00:00.000Z\", \"2013-04-01T00:00:00.000Z\", \"2013-10-01T00:00:00.000Z\", \"2013-01-01T00:00:00.000Z\", \"2012-10-01T00:00:00.000Z\"], \"name\": \"IT/Ops\"}, {\"type\": \"bar\", \"y\": [221, 206, 193, 191, 184, 182, 181, 181, 177, 176, 172, 167, 149, 147, 147, 131, 109, 108, 105, 93, 70, 64, 46, 33, 28, 27, 25, 16], \"x\": [\"2015-10-01T00:00:00.000Z\", \"2016-01-01T00:00:00.000Z\", \"2016-10-01T00:00:00.000Z\", \"2013-10-01T00:00:00.000Z\", \"2015-07-01T00:00:00.000Z\", \"2015-01-01T00:00:00.000Z\", \"2016-07-01T00:00:00.000Z\", \"2014-10-01T00:00:00.000Z\", \"2016-04-01T00:00:00.000Z\", \"2014-04-01T00:00:00.000Z\", \"2015-04-01T00:00:00.000Z\", \"2014-01-01T00:00:00.000Z\", \"2013-07-01T00:00:00.000Z\", \"2013-04-01T00:00:00.000Z\", \"2014-07-01T00:00:00.000Z\", \"2013-01-01T00:00:00.000Z\", \"2012-10-01T00:00:00.000Z\", \"2012-04-01T00:00:00.000Z\", \"2012-07-01T00:00:00.000Z\", \"2012-01-01T00:00:00.000Z\", \"2011-10-01T00:00:00.000Z\", \"2011-07-01T00:00:00.000Z\", \"2011-04-01T00:00:00.000Z\", \"2011-01-01T00:00:00.000Z\", \"2010-04-01T00:00:00.000Z\", \"2010-10-01T00:00:00.000Z\", \"2010-07-01T00:00:00.000Z\", \"2010-01-01T00:00:00.000Z\"], \"name\": \"Web Properties\"}, {\"type\": \"bar\", \"y\": [177, 173, 171, 162, 150, 150, 145, 135, 123, 105, 75, 74, 73, 70, 65, 58, 58, 56, 55, 47, 41, 39, 39, 38, 36, 35, 31, 28], \"x\": [\"2016-04-01T00:00:00.000Z\", \"2016-07-01T00:00:00.000Z\", \"2016-01-01T00:00:00.000Z\", \"2016-10-01T00:00:00.000Z\", \"2015-10-01T00:00:00.000Z\", \"2015-01-01T00:00:00.000Z\", \"2014-10-01T00:00:00.000Z\", \"2015-04-01T00:00:00.000Z\", \"2015-07-01T00:00:00.000Z\", \"2014-04-01T00:00:00.000Z\", \"2013-10-01T00:00:00.000Z\", \"2013-04-01T00:00:00.000Z\", \"2013-07-01T00:00:00.000Z\", \"2014-01-01T00:00:00.000Z\", \"2014-07-01T00:00:00.000Z\", \"2012-07-01T00:00:00.000Z\", \"2012-04-01T00:00:00.000Z\", \"2012-01-01T00:00:00.000Z\", \"2013-01-01T00:00:00.000Z\", \"2012-10-01T00:00:00.000Z\", \"2011-04-01T00:00:00.000Z\", \"2011-10-01T00:00:00.000Z\", \"2011-07-01T00:00:00.000Z\", \"2011-01-01T00:00:00.000Z\", \"2010-10-01T00:00:00.000Z\", \"2010-07-01T00:00:00.000Z\", \"2010-01-01T00:00:00.000Z\", \"2010-04-01T00:00:00.000Z\"], \"name\": \"Servo\"}, {\"type\": \"bar\", \"y\": [117, 115, 114, 90, 90, 90, 84, 81, 80, 75, 75, 65, 64, 60, 59, 58, 57, 56, 52, 51, 50, 50, 47, 38, 35, 32, 30, 15], \"x\": [\"2016-10-01T00:00:00.000Z\", \"2016-07-01T00:00:00.000Z\", \"2016-01-01T00:00:00.000Z\", \"2015-10-01T00:00:00.000Z\", \"2013-10-01T00:00:00.000Z\", \"2016-04-01T00:00:00.000Z\", \"2015-07-01T00:00:00.000Z\", \"2014-07-01T00:00:00.000Z\", \"2013-07-01T00:00:00.000Z\", \"2014-01-01T00:00:00.000Z\", \"2014-04-01T00:00:00.000Z\", \"2015-01-01T00:00:00.000Z\", \"2013-04-01T00:00:00.000Z\", \"2014-10-01T00:00:00.000Z\", \"2013-01-01T00:00:00.000Z\", \"2015-04-01T00:00:00.000Z\", \"2012-01-01T00:00:00.000Z\", \"2012-04-01T00:00:00.000Z\", \"2012-10-01T00:00:00.000Z\", \"2011-07-01T00:00:00.000Z\", \"2012-07-01T00:00:00.000Z\", \"2011-04-01T00:00:00.000Z\", \"2011-10-01T00:00:00.000Z\", \"2011-01-01T00:00:00.000Z\", \"2010-04-01T00:00:00.000Z\", \"2010-07-01T00:00:00.000Z\", \"2010-10-01T00:00:00.000Z\", \"2010-01-01T00:00:00.000Z\"], \"name\": \"Addons/Web Extensions\"}, {\"type\": \"bar\", \"y\": [89, 75, 69, 61, 57, 56, 55, 53, 52, 50, 49, 48, 45, 43, 42, 41, 38, 37, 24, 13, 12, 11, 8, 8, 5, 5, 5, 5], \"x\": [\"2015-01-01T00:00:00.000Z\", \"2014-10-01T00:00:00.000Z\", \"2014-07-01T00:00:00.000Z\", \"2014-01-01T00:00:00.000Z\", \"2016-10-01T00:00:00.000Z\", \"2013-04-01T00:00:00.000Z\", \"2016-01-01T00:00:00.000Z\", \"2016-04-01T00:00:00.000Z\", \"2014-04-01T00:00:00.000Z\", \"2015-04-01T00:00:00.000Z\", \"2015-10-01T00:00:00.000Z\", \"2016-07-01T00:00:00.000Z\", \"2013-07-01T00:00:00.000Z\", \"2015-07-01T00:00:00.000Z\", \"2012-10-01T00:00:00.000Z\", \"2013-01-01T00:00:00.000Z\", \"2013-10-01T00:00:00.000Z\", \"2012-04-01T00:00:00.000Z\", \"2012-07-01T00:00:00.000Z\", \"2011-10-01T00:00:00.000Z\", \"2012-01-01T00:00:00.000Z\", \"2011-04-01T00:00:00.000Z\", \"2011-01-01T00:00:00.000Z\", \"2010-07-01T00:00:00.000Z\", \"2010-04-01T00:00:00.000Z\", \"2010-01-01T00:00:00.000Z\", \"2010-10-01T00:00:00.000Z\", \"2011-07-01T00:00:00.000Z\"], \"name\": \"Mozilla Local/Regional communities\"}, {\"type\": \"bar\", \"y\": [79, 63, 55, 54, 52, 51, 47, 36, 33, 21, 19, 16, 15, 15, 12, 9, 5, 4, 1, 1], \"x\": [\"2015-01-01T00:00:00.000Z\", \"2014-10-01T00:00:00.000Z\", \"2014-07-01T00:00:00.000Z\", \"2014-01-01T00:00:00.000Z\", \"2015-04-01T00:00:00.000Z\", \"2014-04-01T00:00:00.000Z\", \"2015-07-01T00:00:00.000Z\", \"2015-10-01T00:00:00.000Z\", \"2013-10-01T00:00:00.000Z\", \"2013-07-01T00:00:00.000Z\", \"2013-01-01T00:00:00.000Z\", \"2012-07-01T00:00:00.000Z\", \"2013-04-01T00:00:00.000Z\", \"2012-10-01T00:00:00.000Z\", \"2016-01-01T00:00:00.000Z\", \"2012-04-01T00:00:00.000Z\", \"2016-04-01T00:00:00.000Z\", \"2016-07-01T00:00:00.000Z\", \"2016-10-01T00:00:00.000Z\", \"2012-01-01T00:00:00.000Z\"], \"name\": \"Firefox OS (FxOS / B2G)\"}, {\"type\": \"bar\", \"y\": [73, 14, 12, 7, 4, 4, 2, 1, 1], \"x\": [\"2016-10-01T00:00:00.000Z\", \"2016-04-01T00:00:00.000Z\", \"2016-07-01T00:00:00.000Z\", \"2016-01-01T00:00:00.000Z\", \"2015-07-01T00:00:00.000Z\", \"2015-10-01T00:00:00.000Z\", \"2012-07-01T00:00:00.000Z\", \"2012-01-01T00:00:00.000Z\", \"2012-04-01T00:00:00.000Z\"], \"name\": \"Test Pilot\"}, {\"type\": \"bar\", \"y\": [62, 58, 56, 56, 48, 47, 46, 41, 41, 37, 36, 35, 34, 34, 34, 33, 32, 30, 30, 29, 29, 26, 26, 24, 24, 21, 21, 19], \"x\": [\"2015-01-01T00:00:00.000Z\", \"2014-10-01T00:00:00.000Z\", \"2014-07-01T00:00:00.000Z\", \"2015-04-01T00:00:00.000Z\", \"2015-07-01T00:00:00.000Z\", \"2014-01-01T00:00:00.000Z\", \"2014-04-01T00:00:00.000Z\", \"2013-07-01T00:00:00.000Z\", \"2013-10-01T00:00:00.000Z\", \"2016-01-01T00:00:00.000Z\", \"2010-07-01T00:00:00.000Z\", \"2013-04-01T00:00:00.000Z\", \"2012-01-01T00:00:00.000Z\", \"2012-07-01T00:00:00.000Z\", \"2013-01-01T00:00:00.000Z\", \"2012-04-01T00:00:00.000Z\", \"2010-10-01T00:00:00.000Z\", \"2011-10-01T00:00:00.000Z\", \"2010-04-01T00:00:00.000Z\", \"2012-10-01T00:00:00.000Z\", \"2010-01-01T00:00:00.000Z\", \"2016-07-01T00:00:00.000Z\", \"2011-04-01T00:00:00.000Z\", \"2016-04-01T00:00:00.000Z\", \"2015-10-01T00:00:00.000Z\", \"2016-10-01T00:00:00.000Z\", \"2011-01-01T00:00:00.000Z\", \"2011-07-01T00:00:00.000Z\"], \"name\": \"Release engineering\"}, {\"type\": \"bar\", \"y\": [54, 45, 45, 42, 21, 12, 9, 5, 5, 4], \"x\": [\"2016-10-01T00:00:00.000Z\", \"2016-01-01T00:00:00.000Z\", \"2016-07-01T00:00:00.000Z\", \"2016-04-01T00:00:00.000Z\", \"2015-10-01T00:00:00.000Z\", \"2015-07-01T00:00:00.000Z\", \"2015-01-01T00:00:00.000Z\", \"2014-10-01T00:00:00.000Z\", \"2015-04-01T00:00:00.000Z\", \"2014-07-01T00:00:00.000Z\"], \"name\": \"WebVR\"}, {\"type\": \"bar\", \"y\": [54, 43, 35, 34, 32, 32, 28, 24, 22, 21, 19, 17, 17, 17, 15, 13, 12, 11, 11, 10, 10, 10, 8, 8, 6, 5, 4], \"x\": [\"2014-10-01T00:00:00.000Z\", \"2014-07-01T00:00:00.000Z\", \"2014-04-01T00:00:00.000Z\", \"2015-01-01T00:00:00.000Z\", \"2015-04-01T00:00:00.000Z\", \"2014-01-01T00:00:00.000Z\", \"2013-10-01T00:00:00.000Z\", \"2015-07-01T00:00:00.000Z\", \"2013-04-01T00:00:00.000Z\", \"2013-07-01T00:00:00.000Z\", \"2011-04-01T00:00:00.000Z\", \"2011-01-01T00:00:00.000Z\", \"2012-04-01T00:00:00.000Z\", \"2013-01-01T00:00:00.000Z\", \"2012-10-01T00:00:00.000Z\", \"2011-10-01T00:00:00.000Z\", \"2015-10-01T00:00:00.000Z\", \"2016-01-01T00:00:00.000Z\", \"2012-01-01T00:00:00.000Z\", \"2016-04-01T00:00:00.000Z\", \"2010-07-01T00:00:00.000Z\", \"2012-07-01T00:00:00.000Z\", \"2016-07-01T00:00:00.000Z\", \"2011-07-01T00:00:00.000Z\", \"2010-10-01T00:00:00.000Z\", \"2010-04-01T00:00:00.000Z\", \"2016-10-01T00:00:00.000Z\"], \"name\": \"Web Literacy\"}, {\"type\": \"bar\", \"y\": [43, 26, 25, 24, 21, 20, 17, 15, 14, 8, 8, 8, 8, 7, 6, 6, 5, 4, 3, 3, 2, 1, 1], \"x\": [\"2016-10-01T00:00:00.000Z\", \"2016-07-01T00:00:00.000Z\", \"2016-01-01T00:00:00.000Z\", \"2015-10-01T00:00:00.000Z\", \"2016-04-01T00:00:00.000Z\", \"2015-07-01T00:00:00.000Z\", \"2015-01-01T00:00:00.000Z\", \"2014-07-01T00:00:00.000Z\", \"2015-04-01T00:00:00.000Z\", \"2014-01-01T00:00:00.000Z\", \"2014-10-01T00:00:00.000Z\", \"2014-04-01T00:00:00.000Z\", \"2013-07-01T00:00:00.000Z\", \"2013-04-01T00:00:00.000Z\", \"2012-07-01T00:00:00.000Z\", \"2013-10-01T00:00:00.000Z\", \"2012-01-01T00:00:00.000Z\", \"2013-01-01T00:00:00.000Z\", \"2012-10-01T00:00:00.000Z\", \"2011-07-01T00:00:00.000Z\", \"2012-04-01T00:00:00.000Z\", \"2011-04-01T00:00:00.000Z\", \"2011-10-01T00:00:00.000Z\"], \"name\": \"Mozilla Developer Network (MDN)\"}, {\"type\": \"bar\", \"y\": [42, 28, 24, 22, 19, 13, 7, 6, 4, 2, 2, 1, 1, 1], \"x\": [\"2014-01-01T00:00:00.000Z\", \"2013-10-01T00:00:00.000Z\", \"2014-04-01T00:00:00.000Z\", \"2014-10-01T00:00:00.000Z\", \"2014-07-01T00:00:00.000Z\", \"2015-01-01T00:00:00.000Z\", \"2015-04-01T00:00:00.000Z\", \"2015-07-01T00:00:00.000Z\", \"2013-07-01T00:00:00.000Z\", \"2015-10-01T00:00:00.000Z\", \"2016-04-01T00:00:00.000Z\", \"2016-01-01T00:00:00.000Z\", \"2016-07-01T00:00:00.000Z\", \"2016-10-01T00:00:00.000Z\"], \"name\": \"Mozilla Location Service (MLS) / Stumbler\"}, {\"type\": \"bar\", \"y\": [33, 25, 25, 24, 17, 15, 12, 12, 4, 3, 3, 2, 2], \"x\": [\"2016-01-01T00:00:00.000Z\", \"2015-10-01T00:00:00.000Z\", \"2016-04-01T00:00:00.000Z\", \"2015-07-01T00:00:00.000Z\", \"2016-10-01T00:00:00.000Z\", \"2015-04-01T00:00:00.000Z\", \"2014-10-01T00:00:00.000Z\", \"2016-07-01T00:00:00.000Z\", \"2014-07-01T00:00:00.000Z\", \"2015-01-01T00:00:00.000Z\", \"2014-01-01T00:00:00.000Z\", \"2013-10-01T00:00:00.000Z\", \"2014-04-01T00:00:00.000Z\"], \"name\": \"Mozilla Science\"}, {\"type\": \"bar\", \"y\": [32, 19, 18, 7, 7, 6, 5, 4, 3, 2, 2, 1], \"x\": [\"2016-07-01T00:00:00.000Z\", \"2016-10-01T00:00:00.000Z\", \"2016-04-01T00:00:00.000Z\", \"2015-07-01T00:00:00.000Z\", \"2015-01-01T00:00:00.000Z\", \"2015-04-01T00:00:00.000Z\", \"2016-01-01T00:00:00.000Z\", \"2014-01-01T00:00:00.000Z\", \"2015-10-01T00:00:00.000Z\", \"2014-07-01T00:00:00.000Z\", \"2014-04-01T00:00:00.000Z\", \"2014-10-01T00:00:00.000Z\"], \"name\": \"Advocacy and policy\"}, {\"type\": \"bar\", \"y\": [26, 26, 23, 23, 22, 20, 16, 15, 10, 1, 1, 1, 1], \"x\": [\"2015-10-01T00:00:00.000Z\", \"2015-07-01T00:00:00.000Z\", \"2015-01-01T00:00:00.000Z\", \"2015-04-01T00:00:00.000Z\", \"2016-01-01T00:00:00.000Z\", \"2016-04-01T00:00:00.000Z\", \"2016-07-01T00:00:00.000Z\", \"2016-10-01T00:00:00.000Z\", \"2014-10-01T00:00:00.000Z\", \"2012-04-01T00:00:00.000Z\", \"2012-07-01T00:00:00.000Z\", \"2013-01-01T00:00:00.000Z\", \"2013-04-01T00:00:00.000Z\"], \"name\": \"Firefox iOS\"}, {\"type\": \"bar\", \"y\": [20, 17, 16, 15, 14, 11, 10, 10, 10, 9, 9, 8, 7, 6, 4, 4, 2], \"x\": [\"2013-10-01T00:00:00.000Z\", \"2016-01-01T00:00:00.000Z\", \"2016-07-01T00:00:00.000Z\", \"2016-04-01T00:00:00.000Z\", \"2012-10-01T00:00:00.000Z\", \"2015-10-01T00:00:00.000Z\", \"2015-01-01T00:00:00.000Z\", \"2013-01-01T00:00:00.000Z\", \"2014-10-01T00:00:00.000Z\", \"2014-04-01T00:00:00.000Z\", \"2014-01-01T00:00:00.000Z\", \"2016-10-01T00:00:00.000Z\", \"2015-07-01T00:00:00.000Z\", \"2015-04-01T00:00:00.000Z\", \"2013-07-01T00:00:00.000Z\", \"2013-04-01T00:00:00.000Z\", \"2014-07-01T00:00:00.000Z\"], \"name\": \"Mozilla Foundation\"}, {\"type\": \"bar\", \"y\": [18, 15, 14, 14, 14, 13, 13, 12, 11, 11, 11, 10, 9, 9, 9, 9, 8, 8, 7, 6, 6, 2, 2, 1], \"x\": [\"2013-07-01T00:00:00.000Z\", \"2013-04-01T00:00:00.000Z\", \"2014-07-01T00:00:00.000Z\", \"2012-10-01T00:00:00.000Z\", \"2013-01-01T00:00:00.000Z\", \"2014-04-01T00:00:00.000Z\", \"2012-04-01T00:00:00.000Z\", \"2014-10-01T00:00:00.000Z\", \"2013-10-01T00:00:00.000Z\", \"2010-04-01T00:00:00.000Z\", \"2010-07-01T00:00:00.000Z\", \"2012-07-01T00:00:00.000Z\", \"2011-07-01T00:00:00.000Z\", \"2010-10-01T00:00:00.000Z\", \"2011-01-01T00:00:00.000Z\", \"2012-01-01T00:00:00.000Z\", \"2011-10-01T00:00:00.000Z\", \"2014-01-01T00:00:00.000Z\", \"2010-01-01T00:00:00.000Z\", \"2011-04-01T00:00:00.000Z\", \"2015-01-01T00:00:00.000Z\", \"2015-07-01T00:00:00.000Z\", \"2015-04-01T00:00:00.000Z\", \"2015-10-01T00:00:00.000Z\"], \"name\": \"Quality Assurance\"}, {\"type\": \"bar\", \"y\": [15, 15, 10, 10], \"x\": [\"2016-04-01T00:00:00.000Z\", \"2016-07-01T00:00:00.000Z\", \"2016-01-01T00:00:00.000Z\", \"2016-10-01T00:00:00.000Z\"], \"name\": \"Firefox\"}, {\"type\": \"bar\", \"y\": [13, 10, 9, 9, 9, 9, 9, 8, 8, 8, 8, 8, 7, 7, 7, 7, 7, 7, 6, 6, 6, 6, 6, 3, 3, 3, 2], \"x\": [\"2012-01-01T00:00:00.000Z\", \"2012-07-01T00:00:00.000Z\", \"2014-10-01T00:00:00.000Z\", \"2013-01-01T00:00:00.000Z\", \"2012-04-01T00:00:00.000Z\", \"2016-01-01T00:00:00.000Z\", \"2016-10-01T00:00:00.000Z\", \"2013-10-01T00:00:00.000Z\", \"2013-07-01T00:00:00.000Z\", \"2011-07-01T00:00:00.000Z\", \"2014-01-01T00:00:00.000Z\", \"2014-04-01T00:00:00.000Z\", \"2014-07-01T00:00:00.000Z\", \"2011-10-01T00:00:00.000Z\", \"2011-04-01T00:00:00.000Z\", \"2015-07-01T00:00:00.000Z\", \"2016-07-01T00:00:00.000Z\", \"2015-04-01T00:00:00.000Z\", \"2013-04-01T00:00:00.000Z\", \"2012-10-01T00:00:00.000Z\", \"2015-10-01T00:00:00.000Z\", \"2016-04-01T00:00:00.000Z\", \"2015-01-01T00:00:00.000Z\", \"2010-10-01T00:00:00.000Z\", \"2011-01-01T00:00:00.000Z\", \"2010-04-01T00:00:00.000Z\", \"2010-07-01T00:00:00.000Z\"], \"name\": \"Marketing / Social Media\"}, {\"type\": \"bar\", \"y\": [10, 5, 4, 4, 4, 3, 2, 2, 2, 2, 2, 1, 1], \"x\": [\"2016-01-01T00:00:00.000Z\", \"2016-04-01T00:00:00.000Z\", \"2015-10-01T00:00:00.000Z\", \"2014-04-01T00:00:00.000Z\", \"2013-01-01T00:00:00.000Z\", \"2013-07-01T00:00:00.000Z\", \"2016-07-01T00:00:00.000Z\", \"2015-04-01T00:00:00.000Z\", \"2016-10-01T00:00:00.000Z\", \"2015-01-01T00:00:00.000Z\", \"2014-07-01T00:00:00.000Z\", \"2015-07-01T00:00:00.000Z\", \"2012-10-01T00:00:00.000Z\"], \"name\": \"Mozilla Creative & Design\"}, {\"type\": \"bar\", \"y\": [8, 4, 3, 2], \"x\": [\"2016-10-01T00:00:00.000Z\", \"2016-01-01T00:00:00.000Z\", \"2015-10-01T00:00:00.000Z\", \"2016-07-01T00:00:00.000Z\"], \"name\": \"Firefox Focus\"}, {\"type\": \"bar\", \"y\": [7, 6, 5, 5, 5, 5, 5, 5, 5, 5, 5, 5, 5, 5, 5, 5, 5, 5, 4, 4, 4, 4, 3, 3, 2, 2, 2, 1], \"x\": [\"2014-07-01T00:00:00.000Z\", \"2012-07-01T00:00:00.000Z\", \"2013-10-01T00:00:00.000Z\", \"2014-10-01T00:00:00.000Z\", \"2014-01-01T00:00:00.000Z\", \"2013-07-01T00:00:00.000Z\", \"2016-04-01T00:00:00.000Z\", \"2013-01-01T00:00:00.000Z\", \"2012-10-01T00:00:00.000Z\", \"2012-04-01T00:00:00.000Z\", \"2012-01-01T00:00:00.000Z\", \"2011-10-01T00:00:00.000Z\", \"2011-07-01T00:00:00.000Z\", \"2015-04-01T00:00:00.000Z\", \"2015-07-01T00:00:00.000Z\", \"2016-01-01T00:00:00.000Z\", \"2016-10-01T00:00:00.000Z\", \"2015-01-01T00:00:00.000Z\", \"2011-04-01T00:00:00.000Z\", \"2011-01-01T00:00:00.000Z\", \"2013-04-01T00:00:00.000Z\", \"2014-04-01T00:00:00.000Z\", \"2015-10-01T00:00:00.000Z\", \"2016-07-01T00:00:00.000Z\", \"2010-04-01T00:00:00.000Z\", \"2010-07-01T00:00:00.000Z\", \"2010-10-01T00:00:00.000Z\", \"2010-01-01T00:00:00.000Z\"], \"name\": \"Localization\"}, {\"type\": \"bar\", \"y\": [7, 3, 1, 1], \"x\": [\"2016-10-01T00:00:00.000Z\", \"2016-07-01T00:00:00.000Z\", \"2016-04-01T00:00:00.000Z\", \"2016-01-01T00:00:00.000Z\"], \"name\": \"Deep Speech\"}, {\"type\": \"bar\", \"y\": [7, 6, 5, 5, 4, 4, 4, 3, 3, 3, 2, 2, 2, 1, 1, 1, 1], \"x\": [\"2016-04-01T00:00:00.000Z\", \"2013-04-01T00:00:00.000Z\", \"2016-07-01T00:00:00.000Z\", \"2014-04-01T00:00:00.000Z\", \"2016-10-01T00:00:00.000Z\", \"2015-10-01T00:00:00.000Z\", \"2015-04-01T00:00:00.000Z\", \"2016-01-01T00:00:00.000Z\", \"2015-07-01T00:00:00.000Z\", \"2014-07-01T00:00:00.000Z\", \"2012-07-01T00:00:00.000Z\", \"2015-01-01T00:00:00.000Z\", \"2013-10-01T00:00:00.000Z\", \"2014-10-01T00:00:00.000Z\", \"2014-01-01T00:00:00.000Z\", \"2013-01-01T00:00:00.000Z\", \"2012-10-01T00:00:00.000Z\"], \"name\": \"Technical/Developer Evangelism\"}, {\"type\": \"bar\", \"y\": [6, 6, 5, 3, 2], \"x\": [\"2015-07-01T00:00:00.000Z\", \"2016-07-01T00:00:00.000Z\", \"2016-04-01T00:00:00.000Z\", \"2015-10-01T00:00:00.000Z\", \"2016-01-01T00:00:00.000Z\"], \"name\": \"Vaani\"}, {\"type\": \"bar\", \"y\": [6, 4, 1], \"x\": [\"2016-10-01T00:00:00.000Z\", \"2016-07-01T00:00:00.000Z\", \"2016-01-01T00:00:00.000Z\"], \"name\": \"Campus Clubs (previously Student Ambassadors)\"}, {\"type\": \"bar\", \"y\": [5, 4, 3, 1, 1], \"x\": [\"2015-10-01T00:00:00.000Z\", \"2016-04-01T00:00:00.000Z\", \"2016-01-01T00:00:00.000Z\", \"2015-07-01T00:00:00.000Z\", \"2014-10-01T00:00:00.000Z\"], \"name\": \"Mozilla Clubs\"}, {\"type\": \"bar\", \"y\": [3, 3, 3, 3, 2, 2, 2, 2, 2, 2, 2, 2, 2, 2, 2, 2, 2, 2, 2, 1, 1, 1, 1, 1, 1, 1], \"x\": [\"2016-01-01T00:00:00.000Z\", \"2011-04-01T00:00:00.000Z\", \"2011-10-01T00:00:00.000Z\", \"2012-01-01T00:00:00.000Z\", \"2013-01-01T00:00:00.000Z\", \"2013-04-01T00:00:00.000Z\", \"2013-07-01T00:00:00.000Z\", \"2016-04-01T00:00:00.000Z\", \"2013-10-01T00:00:00.000Z\", \"2014-01-01T00:00:00.000Z\", \"2014-04-01T00:00:00.000Z\", \"2014-10-01T00:00:00.000Z\", \"2012-10-01T00:00:00.000Z\", \"2011-07-01T00:00:00.000Z\", \"2012-07-01T00:00:00.000Z\", \"2012-04-01T00:00:00.000Z\", \"2010-07-01T00:00:00.000Z\", \"2015-10-01T00:00:00.000Z\", \"2016-10-01T00:00:00.000Z\", \"2016-07-01T00:00:00.000Z\", \"2010-10-01T00:00:00.000Z\", \"2011-01-01T00:00:00.000Z\", \"2015-07-01T00:00:00.000Z\", \"2015-01-01T00:00:00.000Z\", \"2014-07-01T00:00:00.000Z\", \"2015-04-01T00:00:00.000Z\"], \"name\": \"Connected devices & IoT\"}, {\"type\": \"bar\", \"y\": [3, 3, 2, 2, 1, 1, 1, 1], \"x\": [\"2015-04-01T00:00:00.000Z\", \"2011-04-01T00:00:00.000Z\", \"2011-01-01T00:00:00.000Z\", \"2011-07-01T00:00:00.000Z\", \"2013-07-01T00:00:00.000Z\", \"2010-10-01T00:00:00.000Z\", \"2013-10-01T00:00:00.000Z\", \"2016-01-01T00:00:00.000Z\"], \"name\": \"Developer Tools\"}, {\"type\": \"bar\", \"y\": [2, 1, 1, 1], \"x\": [\"2014-07-01T00:00:00.000Z\", \"2015-10-01T00:00:00.000Z\", \"2015-04-01T00:00:00.000Z\", \"2014-10-01T00:00:00.000Z\"], \"name\": \"Firefox Android\"}], {\"barmode\": \"stack\"}, {\"showLink\": true, \"linkText\": \"Export to plot.ly\"})});</script>"
      ]
     },
     "metadata": {},
     "output_type": "display_data"
    }
   ],
   "source": [
    "###\n",
    "## GET DATA BY REPO FROM ES AND MERGE AGAINST PROJECTS SPREADSHEET\n",
    "###\n",
    "\n",
    "s = create_search(source='git')\n",
    "\n",
    "# General filters\n",
    "s = add_general_date_filters(s)\n",
    "s = add_bot_filter(s)\n",
    "s = add_merges_filter(s)\n",
    "\n",
    "# Unique count of Commits by Project (max 100 projects)\n",
    "s = s.filter('range', grimoire_creation_date={'gte': initial_date, 'lt': 'now/y'})\n",
    "s.aggs.bucket('repos', 'terms', field='repo_name', size=100000)\\\n",
    "    .bucket('time', 'date_histogram', field='grimoire_creation_date', interval='quarter')\\\n",
    "    .bucket('contributors', 'terms', field='author_uuid', size=1000000)\n",
    "\n",
    "result = s.execute()\n",
    "\n",
    "# Process results to build a DataFrame\n",
    "i = 0\n",
    "repos_evo_df = pandas.DataFrame(columns=['Repo', 'Time', 'uuid'])\n",
    "for repo in result.to_dict()['aggregations']['repos']['buckets']:\n",
    "    for time in repo['time']['buckets']:\n",
    "        for author in time['contributors']['buckets']:\n",
    "            repos_evo_df.loc[len(repos_evo_df)] = [repo['key'], time['key_as_string'], author['key']]\n",
    "            i += 1\n",
    "            if i % 10000 == 0:\n",
    "                print(i, end=', ')\n",
    "\n",
    "merged_evo_df = repos_evo_df.merge(projects['Github'], on='Repo', how='left')\n",
    "\n",
    "# Group By project\n",
    "projects_evo_df = merged_evo_df.groupby(['Project', 'Time']).agg({'uuid': pandas.Series.nunique, \n",
    "                                                         'Repo': pandas.Series.nunique})\n",
    "projects_evo_df = projects_evo_df.sort_values(by='uuid', ascending=0)    \n",
    "\n",
    "# Plot it\n",
    "print_stacked_bar(df=projects_evo_df.reset_index(), time_column='Time', value_column='uuid',\n",
    "                  group_column='Project')"
   ]
  },
  {
   "cell_type": "code",
   "execution_count": null,
   "metadata": {
    "collapsed": true
   },
   "outputs": [],
   "source": [
    "print_stacked_bar(df=repos_evo_df, time_column='Time', value_column='uuid',\n",
    "                  group_column='Project')"
   ]
  },
  {
   "cell_type": "markdown",
   "metadata": {},
   "source": [
    "**Git authors over time using Spreadsheet Data**"
   ]
  },
  {
   "cell_type": "markdown",
   "metadata": {},
   "source": [
    "#### Bugzilla"
   ]
  },
  {
   "cell_type": "code",
   "execution_count": 23,
   "metadata": {
    "collapsed": false
   },
   "outputs": [
    {
     "name": "stdout",
     "output_type": "stream",
     "text": [
      "q1\n",
      "10000, 20000, 30000, 40000, 50000, 60000, 70000, 80000, 90000, 100000, 110000, 120000, 130000, 140000, 150000, 160000, 170000, 180000, 190000, 200000, 210000, 220000, 230000, 240000, 250000, 260000, 270000, 280000, 290000, 300000, 310000, "
     ]
    },
    {
     "data": {
      "text/html": [
       "<script>requirejs.config({paths: { 'plotly': ['https://cdn.plot.ly/plotly-latest.min']},});if(!window.Plotly) {{require(['plotly'],function(plotly) {window.Plotly=plotly;});}}</script>"
      ],
      "text/vnd.plotly.v1+html": [
       "<script>requirejs.config({paths: { 'plotly': ['https://cdn.plot.ly/plotly-latest.min']},});if(!window.Plotly) {{require(['plotly'],function(plotly) {window.Plotly=plotly;});}}</script>"
      ]
     },
     "metadata": {},
     "output_type": "display_data"
    },
    {
     "data": {
      "application/vnd.plotly.v1+json": {
       "data": [
        {
         "name": "Firefox",
         "type": "bar",
         "x": [
          "2011-01-01T00:00:00.000Z",
          "2010-07-01T00:00:00.000Z",
          "2010-01-01T00:00:00.000Z",
          "2010-10-01T00:00:00.000Z",
          "2011-04-01T00:00:00.000Z",
          "2010-04-01T00:00:00.000Z",
          "2012-01-01T00:00:00.000Z",
          "2014-10-01T00:00:00.000Z",
          "2014-04-01T00:00:00.000Z",
          "2011-07-01T00:00:00.000Z",
          "2012-04-01T00:00:00.000Z",
          "2011-10-01T00:00:00.000Z",
          "2015-01-01T00:00:00.000Z",
          "2013-04-01T00:00:00.000Z",
          "2013-01-01T00:00:00.000Z",
          "2014-07-01T00:00:00.000Z",
          "2012-10-01T00:00:00.000Z",
          "2015-07-01T00:00:00.000Z",
          "2012-07-01T00:00:00.000Z",
          "2013-10-01T00:00:00.000Z",
          "2014-01-01T00:00:00.000Z",
          "2013-07-01T00:00:00.000Z",
          "2015-04-01T00:00:00.000Z",
          "2015-10-01T00:00:00.000Z",
          "2016-01-01T00:00:00.000Z",
          "2016-04-01T00:00:00.000Z",
          "2016-07-01T00:00:00.000Z",
          "2016-10-01T00:00:00.000Z"
         ],
         "y": [
          2878,
          2795,
          2683,
          2070,
          1995,
          1961,
          1583,
          1554,
          1553,
          1544,
          1512,
          1469,
          1443,
          1431,
          1421,
          1402,
          1334,
          1332,
          1308,
          1267,
          1259,
          1250,
          1244,
          1021,
          1010,
          928,
          895,
          854
         ]
        },
        {
         "name": "Gecko",
         "type": "bar",
         "x": [
          "2014-10-01T00:00:00.000Z",
          "2015-07-01T00:00:00.000Z",
          "2016-01-01T00:00:00.000Z",
          "2015-10-01T00:00:00.000Z",
          "2015-04-01T00:00:00.000Z",
          "2014-07-01T00:00:00.000Z",
          "2016-04-01T00:00:00.000Z",
          "2014-04-01T00:00:00.000Z",
          "2015-01-01T00:00:00.000Z",
          "2011-01-01T00:00:00.000Z",
          "2013-07-01T00:00:00.000Z",
          "2013-10-01T00:00:00.000Z",
          "2013-04-01T00:00:00.000Z",
          "2016-07-01T00:00:00.000Z",
          "2010-07-01T00:00:00.000Z",
          "2013-01-01T00:00:00.000Z",
          "2014-01-01T00:00:00.000Z",
          "2016-10-01T00:00:00.000Z",
          "2012-07-01T00:00:00.000Z",
          "2011-04-01T00:00:00.000Z",
          "2012-10-01T00:00:00.000Z",
          "2010-10-01T00:00:00.000Z",
          "2012-01-01T00:00:00.000Z",
          "2012-04-01T00:00:00.000Z",
          "2010-01-01T00:00:00.000Z",
          "2011-07-01T00:00:00.000Z",
          "2011-10-01T00:00:00.000Z",
          "2010-04-01T00:00:00.000Z"
         ],
         "y": [
          1832,
          1813,
          1794,
          1699,
          1683,
          1677,
          1671,
          1668,
          1621,
          1613,
          1580,
          1568,
          1555,
          1548,
          1546,
          1522,
          1516,
          1507,
          1443,
          1387,
          1384,
          1383,
          1377,
          1366,
          1300,
          1241,
          1185,
          1165
         ]
        },
        {
         "name": "Thunderbird",
         "type": "bar",
         "x": [
          "2010-01-01T00:00:00.000Z",
          "2010-07-01T00:00:00.000Z",
          "2010-04-01T00:00:00.000Z",
          "2010-10-01T00:00:00.000Z",
          "2011-07-01T00:00:00.000Z",
          "2012-04-01T00:00:00.000Z",
          "2012-01-01T00:00:00.000Z",
          "2012-10-01T00:00:00.000Z",
          "2011-10-01T00:00:00.000Z",
          "2012-07-01T00:00:00.000Z",
          "2011-01-01T00:00:00.000Z",
          "2015-07-01T00:00:00.000Z",
          "2011-04-01T00:00:00.000Z",
          "2014-07-01T00:00:00.000Z",
          "2016-04-01T00:00:00.000Z",
          "2013-10-01T00:00:00.000Z",
          "2013-01-01T00:00:00.000Z",
          "2015-04-01T00:00:00.000Z",
          "2014-10-01T00:00:00.000Z",
          "2013-07-01T00:00:00.000Z",
          "2015-01-01T00:00:00.000Z",
          "2013-04-01T00:00:00.000Z",
          "2014-01-01T00:00:00.000Z",
          "2015-10-01T00:00:00.000Z",
          "2014-04-01T00:00:00.000Z",
          "2016-01-01T00:00:00.000Z",
          "2016-07-01T00:00:00.000Z",
          "2016-10-01T00:00:00.000Z"
         ],
         "y": [
          1303,
          999,
          918,
          733,
          677,
          636,
          624,
          577,
          569,
          562,
          560,
          545,
          526,
          497,
          475,
          465,
          414,
          411,
          408,
          401,
          394,
          393,
          356,
          345,
          344,
          338,
          330,
          262
         ]
        },
        {
         "name": "Firefox OS (FxOS / B2G)",
         "type": "bar",
         "x": [
          "2014-07-01T00:00:00.000Z",
          "2014-04-01T00:00:00.000Z",
          "2014-10-01T00:00:00.000Z",
          "2014-01-01T00:00:00.000Z",
          "2013-10-01T00:00:00.000Z",
          "2013-07-01T00:00:00.000Z",
          "2015-01-01T00:00:00.000Z",
          "2013-04-01T00:00:00.000Z",
          "2015-04-01T00:00:00.000Z",
          "2015-07-01T00:00:00.000Z",
          "2015-10-01T00:00:00.000Z",
          "2013-01-01T00:00:00.000Z",
          "2012-10-01T00:00:00.000Z",
          "2016-01-01T00:00:00.000Z",
          "2012-07-01T00:00:00.000Z",
          "2012-04-01T00:00:00.000Z",
          "2016-04-01T00:00:00.000Z",
          "2012-01-01T00:00:00.000Z",
          "2016-07-01T00:00:00.000Z",
          "2011-10-01T00:00:00.000Z",
          "2016-10-01T00:00:00.000Z",
          "2011-07-01T00:00:00.000Z"
         ],
         "y": [
          834,
          789,
          728,
          668,
          667,
          626,
          578,
          558,
          524,
          494,
          484,
          452,
          415,
          234,
          191,
          129,
          67,
          42,
          39,
          11,
          11,
          2
         ]
        },
        {
         "name": "IT/Ops",
         "type": "bar",
         "x": [
          "2015-07-01T00:00:00.000Z",
          "2014-04-01T00:00:00.000Z",
          "2014-01-01T00:00:00.000Z",
          "2013-07-01T00:00:00.000Z",
          "2014-07-01T00:00:00.000Z",
          "2015-01-01T00:00:00.000Z",
          "2012-04-01T00:00:00.000Z",
          "2013-10-01T00:00:00.000Z",
          "2016-04-01T00:00:00.000Z",
          "2015-04-01T00:00:00.000Z",
          "2013-04-01T00:00:00.000Z",
          "2014-10-01T00:00:00.000Z",
          "2012-07-01T00:00:00.000Z",
          "2012-10-01T00:00:00.000Z",
          "2013-01-01T00:00:00.000Z",
          "2015-10-01T00:00:00.000Z",
          "2016-01-01T00:00:00.000Z",
          "2012-01-01T00:00:00.000Z",
          "2016-07-01T00:00:00.000Z",
          "2016-10-01T00:00:00.000Z",
          "2011-10-01T00:00:00.000Z",
          "2011-07-01T00:00:00.000Z",
          "2011-04-01T00:00:00.000Z",
          "2010-07-01T00:00:00.000Z",
          "2011-01-01T00:00:00.000Z",
          "2010-04-01T00:00:00.000Z",
          "2010-10-01T00:00:00.000Z",
          "2010-01-01T00:00:00.000Z"
         ],
         "y": [
          522,
          506,
          494,
          491,
          478,
          478,
          464,
          460,
          452,
          447,
          446,
          445,
          436,
          435,
          434,
          426,
          415,
          392,
          376,
          346,
          332,
          329,
          327,
          264,
          253,
          224,
          203,
          182
         ]
        },
        {
         "name": "Web Properties",
         "type": "bar",
         "x": [
          "2014-04-01T00:00:00.000Z",
          "2014-01-01T00:00:00.000Z",
          "2013-04-01T00:00:00.000Z",
          "2012-01-01T00:00:00.000Z",
          "2011-07-01T00:00:00.000Z",
          "2011-04-01T00:00:00.000Z",
          "2011-01-01T00:00:00.000Z",
          "2011-10-01T00:00:00.000Z",
          "2014-10-01T00:00:00.000Z",
          "2013-07-01T00:00:00.000Z",
          "2012-04-01T00:00:00.000Z",
          "2014-07-01T00:00:00.000Z",
          "2013-10-01T00:00:00.000Z",
          "2013-01-01T00:00:00.000Z",
          "2012-07-01T00:00:00.000Z",
          "2010-07-01T00:00:00.000Z",
          "2010-04-01T00:00:00.000Z",
          "2010-01-01T00:00:00.000Z",
          "2010-10-01T00:00:00.000Z",
          "2012-10-01T00:00:00.000Z",
          "2015-01-01T00:00:00.000Z",
          "2015-07-01T00:00:00.000Z",
          "2015-10-01T00:00:00.000Z",
          "2015-04-01T00:00:00.000Z",
          "2016-01-01T00:00:00.000Z",
          "2016-04-01T00:00:00.000Z",
          "2016-07-01T00:00:00.000Z",
          "2016-10-01T00:00:00.000Z"
         ],
         "y": [
          481,
          456,
          440,
          440,
          437,
          419,
          416,
          413,
          411,
          409,
          408,
          407,
          406,
          382,
          380,
          369,
          355,
          337,
          334,
          333,
          331,
          312,
          300,
          298,
          275,
          242,
          223,
          186
         ]
        },
        {
         "name": "Firefox Android",
         "type": "bar",
         "x": [
          "2012-04-01T00:00:00.000Z",
          "2012-07-01T00:00:00.000Z",
          "2013-01-01T00:00:00.000Z",
          "2012-10-01T00:00:00.000Z",
          "2013-07-01T00:00:00.000Z",
          "2013-10-01T00:00:00.000Z",
          "2013-04-01T00:00:00.000Z",
          "2014-10-01T00:00:00.000Z",
          "2014-07-01T00:00:00.000Z",
          "2014-04-01T00:00:00.000Z",
          "2014-01-01T00:00:00.000Z",
          "2015-01-01T00:00:00.000Z",
          "2011-10-01T00:00:00.000Z",
          "2012-01-01T00:00:00.000Z",
          "2015-10-01T00:00:00.000Z",
          "2015-07-01T00:00:00.000Z",
          "2016-01-01T00:00:00.000Z",
          "2016-07-01T00:00:00.000Z",
          "2016-10-01T00:00:00.000Z",
          "2016-04-01T00:00:00.000Z",
          "2011-07-01T00:00:00.000Z",
          "2015-04-01T00:00:00.000Z",
          "2010-10-01T00:00:00.000Z",
          "2011-01-01T00:00:00.000Z",
          "2010-07-01T00:00:00.000Z",
          "2011-04-01T00:00:00.000Z",
          "2010-04-01T00:00:00.000Z",
          "2010-01-01T00:00:00.000Z"
         ],
         "y": [
          338,
          292,
          271,
          264,
          255,
          254,
          251,
          248,
          243,
          232,
          224,
          220,
          218,
          217,
          210,
          209,
          202,
          200,
          196,
          193,
          186,
          177,
          143,
          131,
          101,
          97,
          86,
          74
         ]
        },
        {
         "name": "Mozilla Developer Network (MDN)",
         "type": "bar",
         "x": [
          "2013-10-01T00:00:00.000Z",
          "2016-01-01T00:00:00.000Z",
          "2016-07-01T00:00:00.000Z",
          "2012-07-01T00:00:00.000Z",
          "2016-04-01T00:00:00.000Z",
          "2015-10-01T00:00:00.000Z",
          "2016-10-01T00:00:00.000Z",
          "2013-04-01T00:00:00.000Z",
          "2014-01-01T00:00:00.000Z",
          "2015-07-01T00:00:00.000Z",
          "2012-10-01T00:00:00.000Z",
          "2014-04-01T00:00:00.000Z",
          "2013-01-01T00:00:00.000Z",
          "2014-07-01T00:00:00.000Z",
          "2015-01-01T00:00:00.000Z",
          "2013-07-01T00:00:00.000Z",
          "2015-04-01T00:00:00.000Z",
          "2014-10-01T00:00:00.000Z",
          "2012-01-01T00:00:00.000Z",
          "2012-04-01T00:00:00.000Z",
          "2011-10-01T00:00:00.000Z",
          "2011-04-01T00:00:00.000Z",
          "2011-07-01T00:00:00.000Z",
          "2010-10-01T00:00:00.000Z",
          "2011-01-01T00:00:00.000Z",
          "2010-07-01T00:00:00.000Z",
          "2010-04-01T00:00:00.000Z",
          "2010-01-01T00:00:00.000Z"
         ],
         "y": [
          208,
          194,
          173,
          169,
          168,
          138,
          134,
          126,
          126,
          121,
          115,
          113,
          109,
          107,
          107,
          105,
          99,
          79,
          72,
          61,
          60,
          57,
          45,
          43,
          41,
          32,
          18,
          18
         ]
        },
        {
         "name": "Developer Tools",
         "type": "bar",
         "x": [
          "2015-01-01T00:00:00.000Z",
          "2014-10-01T00:00:00.000Z",
          "2014-07-01T00:00:00.000Z",
          "2015-04-01T00:00:00.000Z",
          "2016-01-01T00:00:00.000Z",
          "2014-04-01T00:00:00.000Z",
          "2016-10-01T00:00:00.000Z",
          "2014-01-01T00:00:00.000Z",
          "2015-07-01T00:00:00.000Z",
          "2013-10-01T00:00:00.000Z",
          "2016-04-01T00:00:00.000Z",
          "2016-07-01T00:00:00.000Z",
          "2015-10-01T00:00:00.000Z",
          "2013-07-01T00:00:00.000Z",
          "2013-04-01T00:00:00.000Z",
          "2013-01-01T00:00:00.000Z",
          "2012-04-01T00:00:00.000Z",
          "2012-07-01T00:00:00.000Z",
          "2012-10-01T00:00:00.000Z",
          "2012-01-01T00:00:00.000Z",
          "2011-10-01T00:00:00.000Z",
          "2011-07-01T00:00:00.000Z",
          "2011-01-01T00:00:00.000Z",
          "2011-04-01T00:00:00.000Z",
          "2010-07-01T00:00:00.000Z",
          "2010-10-01T00:00:00.000Z",
          "2010-04-01T00:00:00.000Z",
          "2010-01-01T00:00:00.000Z"
         ],
         "y": [
          206,
          199,
          199,
          195,
          185,
          180,
          179,
          179,
          165,
          164,
          156,
          151,
          144,
          138,
          131,
          106,
          85,
          81,
          78,
          77,
          49,
          22,
          20,
          19,
          15,
          11,
          2,
          1
         ]
        },
        {
         "name": "Quality Assurance",
         "type": "bar",
         "x": [
          "2014-07-01T00:00:00.000Z",
          "2014-04-01T00:00:00.000Z",
          "2014-10-01T00:00:00.000Z",
          "2014-01-01T00:00:00.000Z",
          "2016-01-01T00:00:00.000Z",
          "2013-10-01T00:00:00.000Z",
          "2013-07-01T00:00:00.000Z",
          "2015-07-01T00:00:00.000Z",
          "2015-10-01T00:00:00.000Z",
          "2015-04-01T00:00:00.000Z",
          "2015-01-01T00:00:00.000Z",
          "2016-04-01T00:00:00.000Z",
          "2013-04-01T00:00:00.000Z",
          "2013-01-01T00:00:00.000Z",
          "2016-07-01T00:00:00.000Z",
          "2012-10-01T00:00:00.000Z",
          "2012-04-01T00:00:00.000Z",
          "2012-07-01T00:00:00.000Z",
          "2016-10-01T00:00:00.000Z",
          "2012-01-01T00:00:00.000Z",
          "2011-07-01T00:00:00.000Z",
          "2011-04-01T00:00:00.000Z",
          "2010-07-01T00:00:00.000Z",
          "2011-10-01T00:00:00.000Z",
          "2011-01-01T00:00:00.000Z",
          "2010-10-01T00:00:00.000Z",
          "2010-04-01T00:00:00.000Z",
          "2010-01-01T00:00:00.000Z"
         ],
         "y": [
          183,
          175,
          157,
          150,
          148,
          146,
          146,
          145,
          145,
          134,
          134,
          132,
          127,
          122,
          118,
          110,
          105,
          104,
          98,
          95,
          89,
          86,
          86,
          75,
          72,
          70,
          69,
          63
         ]
        },
        {
         "name": "Addons/Web Extensions",
         "type": "bar",
         "x": [
          "2011-07-01T00:00:00.000Z",
          "2011-01-01T00:00:00.000Z",
          "2012-01-01T00:00:00.000Z",
          "2015-07-01T00:00:00.000Z",
          "2011-10-01T00:00:00.000Z",
          "2014-04-01T00:00:00.000Z",
          "2011-04-01T00:00:00.000Z",
          "2013-04-01T00:00:00.000Z",
          "2010-01-01T00:00:00.000Z",
          "2013-07-01T00:00:00.000Z",
          "2010-04-01T00:00:00.000Z",
          "2012-07-01T00:00:00.000Z",
          "2012-10-01T00:00:00.000Z",
          "2013-10-01T00:00:00.000Z",
          "2015-04-01T00:00:00.000Z",
          "2014-01-01T00:00:00.000Z",
          "2012-04-01T00:00:00.000Z",
          "2014-07-01T00:00:00.000Z",
          "2013-01-01T00:00:00.000Z",
          "2010-10-01T00:00:00.000Z",
          "2015-10-01T00:00:00.000Z",
          "2010-07-01T00:00:00.000Z",
          "2014-10-01T00:00:00.000Z",
          "2015-01-01T00:00:00.000Z",
          "2016-01-01T00:00:00.000Z",
          "2016-04-01T00:00:00.000Z",
          "2016-07-01T00:00:00.000Z",
          "2016-10-01T00:00:00.000Z"
         ],
         "y": [
          178,
          165,
          159,
          157,
          141,
          139,
          138,
          136,
          133,
          131,
          131,
          128,
          127,
          123,
          122,
          119,
          117,
          117,
          115,
          114,
          113,
          113,
          103,
          100,
          62,
          36,
          33,
          21
         ]
        },
        {
         "name": "Release engineering",
         "type": "bar",
         "x": [
          "2014-10-01T00:00:00.000Z",
          "2014-07-01T00:00:00.000Z",
          "2013-07-01T00:00:00.000Z",
          "2014-01-01T00:00:00.000Z",
          "2014-04-01T00:00:00.000Z",
          "2015-01-01T00:00:00.000Z",
          "2015-07-01T00:00:00.000Z",
          "2016-01-01T00:00:00.000Z",
          "2016-04-01T00:00:00.000Z",
          "2013-01-01T00:00:00.000Z",
          "2015-10-01T00:00:00.000Z",
          "2016-07-01T00:00:00.000Z",
          "2013-10-01T00:00:00.000Z",
          "2015-04-01T00:00:00.000Z",
          "2013-04-01T00:00:00.000Z",
          "2012-04-01T00:00:00.000Z",
          "2012-10-01T00:00:00.000Z",
          "2010-07-01T00:00:00.000Z",
          "2012-01-01T00:00:00.000Z",
          "2011-07-01T00:00:00.000Z",
          "2016-10-01T00:00:00.000Z",
          "2011-10-01T00:00:00.000Z",
          "2011-04-01T00:00:00.000Z",
          "2011-01-01T00:00:00.000Z",
          "2012-07-01T00:00:00.000Z",
          "2010-10-01T00:00:00.000Z",
          "2010-04-01T00:00:00.000Z",
          "2010-01-01T00:00:00.000Z"
         ],
         "y": [
          152,
          137,
          136,
          136,
          131,
          128,
          128,
          127,
          127,
          123,
          120,
          118,
          118,
          116,
          111,
          110,
          108,
          105,
          104,
          101,
          100,
          99,
          98,
          95,
          91,
          91,
          77,
          65
         ]
        },
        {
         "name": "Technical/Developer Evangelism",
         "type": "bar",
         "x": [
          "2015-01-01T00:00:00.000Z",
          "2014-04-01T00:00:00.000Z",
          "2015-04-01T00:00:00.000Z",
          "2014-01-01T00:00:00.000Z",
          "2014-10-01T00:00:00.000Z",
          "2014-07-01T00:00:00.000Z",
          "2015-07-01T00:00:00.000Z",
          "2013-04-01T00:00:00.000Z",
          "2011-01-01T00:00:00.000Z",
          "2012-04-01T00:00:00.000Z",
          "2012-10-01T00:00:00.000Z",
          "2013-10-01T00:00:00.000Z",
          "2013-07-01T00:00:00.000Z",
          "2012-01-01T00:00:00.000Z",
          "2013-01-01T00:00:00.000Z",
          "2015-10-01T00:00:00.000Z",
          "2012-07-01T00:00:00.000Z",
          "2011-10-01T00:00:00.000Z",
          "2016-07-01T00:00:00.000Z",
          "2016-04-01T00:00:00.000Z",
          "2011-04-01T00:00:00.000Z",
          "2016-01-01T00:00:00.000Z",
          "2011-07-01T00:00:00.000Z",
          "2016-10-01T00:00:00.000Z",
          "2010-07-01T00:00:00.000Z",
          "2010-10-01T00:00:00.000Z",
          "2010-01-01T00:00:00.000Z",
          "2010-04-01T00:00:00.000Z"
         ],
         "y": [
          128,
          117,
          115,
          114,
          107,
          106,
          101,
          96,
          96,
          94,
          93,
          85,
          84,
          80,
          79,
          75,
          72,
          59,
          54,
          52,
          49,
          48,
          46,
          44,
          43,
          41,
          37,
          27
         ]
        },
        {
         "name": "Localization",
         "type": "bar",
         "x": [
          "2014-04-01T00:00:00.000Z",
          "2014-07-01T00:00:00.000Z",
          "2013-10-01T00:00:00.000Z",
          "2013-07-01T00:00:00.000Z",
          "2015-01-01T00:00:00.000Z",
          "2014-01-01T00:00:00.000Z",
          "2011-01-01T00:00:00.000Z",
          "2014-10-01T00:00:00.000Z",
          "2015-04-01T00:00:00.000Z",
          "2015-10-01T00:00:00.000Z",
          "2011-10-01T00:00:00.000Z",
          "2010-10-01T00:00:00.000Z",
          "2015-07-01T00:00:00.000Z",
          "2012-01-01T00:00:00.000Z",
          "2016-04-01T00:00:00.000Z",
          "2013-04-01T00:00:00.000Z",
          "2010-07-01T00:00:00.000Z",
          "2010-01-01T00:00:00.000Z",
          "2011-04-01T00:00:00.000Z",
          "2011-07-01T00:00:00.000Z",
          "2010-04-01T00:00:00.000Z",
          "2016-01-01T00:00:00.000Z",
          "2013-01-01T00:00:00.000Z",
          "2012-04-01T00:00:00.000Z",
          "2012-10-01T00:00:00.000Z",
          "2012-07-01T00:00:00.000Z",
          "2016-07-01T00:00:00.000Z",
          "2016-10-01T00:00:00.000Z"
         ],
         "y": [
          127,
          120,
          116,
          109,
          104,
          96,
          93,
          89,
          86,
          86,
          83,
          83,
          80,
          79,
          72,
          71,
          69,
          69,
          69,
          67,
          67,
          67,
          66,
          65,
          64,
          60,
          50,
          47
         ]
        },
        {
         "name": "Web Literacy",
         "type": "bar",
         "x": [
          "2014-07-01T00:00:00.000Z",
          "2014-04-01T00:00:00.000Z",
          "2013-10-01T00:00:00.000Z",
          "2013-07-01T00:00:00.000Z",
          "2014-01-01T00:00:00.000Z",
          "2014-10-01T00:00:00.000Z",
          "2013-04-01T00:00:00.000Z",
          "2015-01-01T00:00:00.000Z",
          "2015-04-01T00:00:00.000Z",
          "2015-07-01T00:00:00.000Z",
          "2012-04-01T00:00:00.000Z",
          "2013-01-01T00:00:00.000Z",
          "2016-04-01T00:00:00.000Z",
          "2016-10-01T00:00:00.000Z",
          "2012-07-01T00:00:00.000Z",
          "2016-07-01T00:00:00.000Z",
          "2015-10-01T00:00:00.000Z",
          "2012-10-01T00:00:00.000Z",
          "2016-01-01T00:00:00.000Z"
         ],
         "y": [
          111,
          98,
          85,
          75,
          74,
          73,
          68,
          29,
          24,
          21,
          19,
          18,
          8,
          8,
          6,
          6,
          6,
          5,
          5
         ]
        },
        {
         "name": "Firefox iOS",
         "type": "bar",
         "x": [
          "2016-01-01T00:00:00.000Z",
          "2015-10-01T00:00:00.000Z",
          "2015-07-01T00:00:00.000Z",
          "2016-07-01T00:00:00.000Z",
          "2016-04-01T00:00:00.000Z",
          "2015-04-01T00:00:00.000Z",
          "2016-10-01T00:00:00.000Z",
          "2015-01-01T00:00:00.000Z",
          "2014-10-01T00:00:00.000Z"
         ],
         "y": [
          72,
          72,
          60,
          51,
          48,
          48,
          42,
          36,
          11
         ]
        },
        {
         "name": "Marketing / Social Media",
         "type": "bar",
         "x": [
          "2012-01-01T00:00:00.000Z",
          "2011-10-01T00:00:00.000Z",
          "2014-04-01T00:00:00.000Z",
          "2012-07-01T00:00:00.000Z",
          "2014-07-01T00:00:00.000Z",
          "2012-04-01T00:00:00.000Z",
          "2011-07-01T00:00:00.000Z",
          "2012-10-01T00:00:00.000Z",
          "2015-01-01T00:00:00.000Z",
          "2011-04-01T00:00:00.000Z",
          "2014-10-01T00:00:00.000Z",
          "2013-10-01T00:00:00.000Z",
          "2014-01-01T00:00:00.000Z",
          "2013-07-01T00:00:00.000Z",
          "2015-07-01T00:00:00.000Z",
          "2015-10-01T00:00:00.000Z",
          "2013-04-01T00:00:00.000Z",
          "2016-10-01T00:00:00.000Z",
          "2013-01-01T00:00:00.000Z",
          "2011-01-01T00:00:00.000Z",
          "2015-04-01T00:00:00.000Z",
          "2016-01-01T00:00:00.000Z",
          "2016-04-01T00:00:00.000Z",
          "2016-07-01T00:00:00.000Z",
          "2010-10-01T00:00:00.000Z",
          "2010-01-01T00:00:00.000Z",
          "2010-07-01T00:00:00.000Z",
          "2010-04-01T00:00:00.000Z"
         ],
         "y": [
          55,
          50,
          42,
          41,
          40,
          37,
          36,
          36,
          34,
          33,
          32,
          32,
          30,
          29,
          29,
          27,
          27,
          24,
          23,
          23,
          23,
          20,
          9,
          9,
          8,
          5,
          4,
          3
         ]
        },
        {
         "name": "Mozilla Local/Regional communities",
         "type": "bar",
         "x": [
          "2014-10-01T00:00:00.000Z",
          "2014-07-01T00:00:00.000Z",
          "2015-01-01T00:00:00.000Z",
          "2014-01-01T00:00:00.000Z",
          "2014-04-01T00:00:00.000Z",
          "2012-07-01T00:00:00.000Z",
          "2013-10-01T00:00:00.000Z",
          "2013-07-01T00:00:00.000Z",
          "2013-04-01T00:00:00.000Z",
          "2013-01-01T00:00:00.000Z",
          "2012-04-01T00:00:00.000Z",
          "2012-01-01T00:00:00.000Z",
          "2015-04-01T00:00:00.000Z",
          "2012-10-01T00:00:00.000Z",
          "2015-07-01T00:00:00.000Z",
          "2016-07-01T00:00:00.000Z",
          "2015-10-01T00:00:00.000Z",
          "2016-04-01T00:00:00.000Z",
          "2016-01-01T00:00:00.000Z",
          "2016-10-01T00:00:00.000Z",
          "2010-01-01T00:00:00.000Z",
          "2011-04-01T00:00:00.000Z",
          "2011-07-01T00:00:00.000Z",
          "2011-10-01T00:00:00.000Z",
          "2011-01-01T00:00:00.000Z",
          "2010-07-01T00:00:00.000Z",
          "2010-10-01T00:00:00.000Z",
          "2010-04-01T00:00:00.000Z"
         ],
         "y": [
          51,
          44,
          43,
          42,
          40,
          35,
          31,
          31,
          28,
          25,
          25,
          24,
          21,
          21,
          15,
          11,
          9,
          9,
          8,
          8,
          5,
          4,
          3,
          2,
          2,
          2,
          1,
          1
         ]
        },
        {
         "name": "Mozilla Creative & Design",
         "type": "bar",
         "x": [
          "2014-04-01T00:00:00.000Z",
          "2014-07-01T00:00:00.000Z",
          "2014-01-01T00:00:00.000Z",
          "2012-01-01T00:00:00.000Z",
          "2013-10-01T00:00:00.000Z",
          "2013-07-01T00:00:00.000Z",
          "2011-10-01T00:00:00.000Z",
          "2012-04-01T00:00:00.000Z",
          "2015-01-01T00:00:00.000Z",
          "2015-04-01T00:00:00.000Z",
          "2014-10-01T00:00:00.000Z",
          "2012-10-01T00:00:00.000Z",
          "2011-07-01T00:00:00.000Z",
          "2015-07-01T00:00:00.000Z",
          "2012-07-01T00:00:00.000Z",
          "2013-01-01T00:00:00.000Z",
          "2011-01-01T00:00:00.000Z",
          "2015-10-01T00:00:00.000Z",
          "2011-04-01T00:00:00.000Z",
          "2013-04-01T00:00:00.000Z",
          "2010-10-01T00:00:00.000Z",
          "2010-07-01T00:00:00.000Z",
          "2016-01-01T00:00:00.000Z",
          "2016-04-01T00:00:00.000Z",
          "2016-07-01T00:00:00.000Z",
          "2010-04-01T00:00:00.000Z",
          "2016-10-01T00:00:00.000Z"
         ],
         "y": [
          50,
          45,
          43,
          41,
          39,
          39,
          37,
          35,
          33,
          33,
          32,
          32,
          30,
          30,
          29,
          29,
          29,
          26,
          26,
          23,
          15,
          14,
          8,
          6,
          5,
          3,
          3
         ]
        },
        {
         "name": "Mozilla Foundation",
         "type": "bar",
         "x": [
          "2014-10-01T00:00:00.000Z",
          "2014-04-01T00:00:00.000Z",
          "2014-07-01T00:00:00.000Z",
          "2015-01-01T00:00:00.000Z",
          "2016-07-01T00:00:00.000Z",
          "2014-01-01T00:00:00.000Z",
          "2013-04-01T00:00:00.000Z",
          "2013-10-01T00:00:00.000Z",
          "2013-07-01T00:00:00.000Z",
          "2016-01-01T00:00:00.000Z",
          "2015-10-01T00:00:00.000Z",
          "2016-10-01T00:00:00.000Z",
          "2015-04-01T00:00:00.000Z",
          "2015-07-01T00:00:00.000Z"
         ],
         "y": [
          27,
          15,
          14,
          11,
          6,
          6,
          5,
          4,
          4,
          3,
          3,
          2,
          2,
          1
         ]
        },
        {
         "name": "Firefox Focus",
         "type": "bar",
         "x": [
          "2016-10-01T00:00:00.000Z",
          "2016-01-01T00:00:00.000Z",
          "2016-07-01T00:00:00.000Z",
          "2015-10-01T00:00:00.000Z",
          "2016-04-01T00:00:00.000Z"
         ],
         "y": [
          14,
          3,
          3,
          1,
          1
         ]
        },
        {
         "name": "Mozilla support (SUMO)",
         "type": "bar",
         "x": [
          "2010-07-01T00:00:00.000Z",
          "2011-01-01T00:00:00.000Z",
          "2011-07-01T00:00:00.000Z",
          "2010-10-01T00:00:00.000Z",
          "2010-01-01T00:00:00.000Z",
          "2011-04-01T00:00:00.000Z",
          "2012-04-01T00:00:00.000Z",
          "2011-10-01T00:00:00.000Z",
          "2010-04-01T00:00:00.000Z",
          "2014-01-01T00:00:00.000Z",
          "2016-10-01T00:00:00.000Z",
          "2012-07-01T00:00:00.000Z",
          "2012-01-01T00:00:00.000Z",
          "2012-10-01T00:00:00.000Z",
          "2015-10-01T00:00:00.000Z",
          "2013-04-01T00:00:00.000Z",
          "2014-10-01T00:00:00.000Z",
          "2014-07-01T00:00:00.000Z",
          "2014-04-01T00:00:00.000Z",
          "2013-07-01T00:00:00.000Z",
          "2013-01-01T00:00:00.000Z",
          "2016-04-01T00:00:00.000Z"
         ],
         "y": [
          14,
          13,
          12,
          12,
          12,
          10,
          9,
          9,
          8,
          7,
          5,
          5,
          3,
          2,
          2,
          1,
          1,
          1,
          1,
          1,
          1,
          1
         ]
        },
        {
         "name": "Connected devices & IoT",
         "type": "bar",
         "x": [
          "2016-04-01T00:00:00.000Z",
          "2016-07-01T00:00:00.000Z",
          "2016-01-01T00:00:00.000Z",
          "2016-10-01T00:00:00.000Z"
         ],
         "y": [
          8,
          4,
          2,
          2
         ]
        },
        {
         "name": "Web Compatibility",
         "type": "bar",
         "x": [
          "2016-10-01T00:00:00.000Z",
          "2016-07-01T00:00:00.000Z",
          "2014-04-01T00:00:00.000Z"
         ],
         "y": [
          6,
          4,
          1
         ]
        },
        {
         "name": "Advocacy and policy",
         "type": "bar",
         "x": [
          "2013-10-01T00:00:00.000Z",
          "2014-10-01T00:00:00.000Z",
          "2013-04-01T00:00:00.000Z",
          "2014-04-01T00:00:00.000Z",
          "2016-04-01T00:00:00.000Z",
          "2015-04-01T00:00:00.000Z"
         ],
         "y": [
          4,
          2,
          2,
          2,
          2,
          1
         ]
        },
        {
         "name": "Rust",
         "type": "bar",
         "x": [
          "2010-01-01T00:00:00.000Z",
          "2010-04-01T00:00:00.000Z"
         ],
         "y": [
          4,
          2
         ]
        },
        {
         "name": "Firefox Student Ambassadors",
         "type": "bar",
         "x": [
          "2015-07-01T00:00:00.000Z"
         ],
         "y": [
          1
         ]
        }
       ],
       "layout": {
        "barmode": "stack"
       }
      },
      "text/html": [
       "<div id=\"e0dbc640-ce8b-4593-938a-4f8272b3025f\" style=\"height: 525px; width: 100%;\" class=\"plotly-graph-div\"></div><script type=\"text/javascript\">require([\"plotly\"], function(Plotly) { window.PLOTLYENV=window.PLOTLYENV || {};window.PLOTLYENV.BASE_URL=\"https://plot.ly\";Plotly.newPlot(\"e0dbc640-ce8b-4593-938a-4f8272b3025f\", [{\"type\": \"bar\", \"name\": \"Firefox\", \"y\": [2878, 2795, 2683, 2070, 1995, 1961, 1583, 1554, 1553, 1544, 1512, 1469, 1443, 1431, 1421, 1402, 1334, 1332, 1308, 1267, 1259, 1250, 1244, 1021, 1010, 928, 895, 854], \"x\": [\"2011-01-01T00:00:00.000Z\", \"2010-07-01T00:00:00.000Z\", \"2010-01-01T00:00:00.000Z\", \"2010-10-01T00:00:00.000Z\", \"2011-04-01T00:00:00.000Z\", \"2010-04-01T00:00:00.000Z\", \"2012-01-01T00:00:00.000Z\", \"2014-10-01T00:00:00.000Z\", \"2014-04-01T00:00:00.000Z\", \"2011-07-01T00:00:00.000Z\", \"2012-04-01T00:00:00.000Z\", \"2011-10-01T00:00:00.000Z\", \"2015-01-01T00:00:00.000Z\", \"2013-04-01T00:00:00.000Z\", \"2013-01-01T00:00:00.000Z\", \"2014-07-01T00:00:00.000Z\", \"2012-10-01T00:00:00.000Z\", \"2015-07-01T00:00:00.000Z\", \"2012-07-01T00:00:00.000Z\", \"2013-10-01T00:00:00.000Z\", \"2014-01-01T00:00:00.000Z\", \"2013-07-01T00:00:00.000Z\", \"2015-04-01T00:00:00.000Z\", \"2015-10-01T00:00:00.000Z\", \"2016-01-01T00:00:00.000Z\", \"2016-04-01T00:00:00.000Z\", \"2016-07-01T00:00:00.000Z\", \"2016-10-01T00:00:00.000Z\"]}, {\"type\": \"bar\", \"name\": \"Gecko\", \"y\": [1832, 1813, 1794, 1699, 1683, 1677, 1671, 1668, 1621, 1613, 1580, 1568, 1555, 1548, 1546, 1522, 1516, 1507, 1443, 1387, 1384, 1383, 1377, 1366, 1300, 1241, 1185, 1165], \"x\": [\"2014-10-01T00:00:00.000Z\", \"2015-07-01T00:00:00.000Z\", \"2016-01-01T00:00:00.000Z\", \"2015-10-01T00:00:00.000Z\", \"2015-04-01T00:00:00.000Z\", \"2014-07-01T00:00:00.000Z\", \"2016-04-01T00:00:00.000Z\", \"2014-04-01T00:00:00.000Z\", \"2015-01-01T00:00:00.000Z\", \"2011-01-01T00:00:00.000Z\", \"2013-07-01T00:00:00.000Z\", \"2013-10-01T00:00:00.000Z\", \"2013-04-01T00:00:00.000Z\", \"2016-07-01T00:00:00.000Z\", \"2010-07-01T00:00:00.000Z\", \"2013-01-01T00:00:00.000Z\", \"2014-01-01T00:00:00.000Z\", \"2016-10-01T00:00:00.000Z\", \"2012-07-01T00:00:00.000Z\", \"2011-04-01T00:00:00.000Z\", \"2012-10-01T00:00:00.000Z\", \"2010-10-01T00:00:00.000Z\", \"2012-01-01T00:00:00.000Z\", \"2012-04-01T00:00:00.000Z\", \"2010-01-01T00:00:00.000Z\", \"2011-07-01T00:00:00.000Z\", \"2011-10-01T00:00:00.000Z\", \"2010-04-01T00:00:00.000Z\"]}, {\"type\": \"bar\", \"name\": \"Thunderbird\", \"y\": [1303, 999, 918, 733, 677, 636, 624, 577, 569, 562, 560, 545, 526, 497, 475, 465, 414, 411, 408, 401, 394, 393, 356, 345, 344, 338, 330, 262], \"x\": [\"2010-01-01T00:00:00.000Z\", \"2010-07-01T00:00:00.000Z\", \"2010-04-01T00:00:00.000Z\", \"2010-10-01T00:00:00.000Z\", \"2011-07-01T00:00:00.000Z\", \"2012-04-01T00:00:00.000Z\", \"2012-01-01T00:00:00.000Z\", \"2012-10-01T00:00:00.000Z\", \"2011-10-01T00:00:00.000Z\", \"2012-07-01T00:00:00.000Z\", \"2011-01-01T00:00:00.000Z\", \"2015-07-01T00:00:00.000Z\", \"2011-04-01T00:00:00.000Z\", \"2014-07-01T00:00:00.000Z\", \"2016-04-01T00:00:00.000Z\", \"2013-10-01T00:00:00.000Z\", \"2013-01-01T00:00:00.000Z\", \"2015-04-01T00:00:00.000Z\", \"2014-10-01T00:00:00.000Z\", \"2013-07-01T00:00:00.000Z\", \"2015-01-01T00:00:00.000Z\", \"2013-04-01T00:00:00.000Z\", \"2014-01-01T00:00:00.000Z\", \"2015-10-01T00:00:00.000Z\", \"2014-04-01T00:00:00.000Z\", \"2016-01-01T00:00:00.000Z\", \"2016-07-01T00:00:00.000Z\", \"2016-10-01T00:00:00.000Z\"]}, {\"type\": \"bar\", \"name\": \"Firefox OS (FxOS / B2G)\", \"y\": [834, 789, 728, 668, 667, 626, 578, 558, 524, 494, 484, 452, 415, 234, 191, 129, 67, 42, 39, 11, 11, 2], \"x\": [\"2014-07-01T00:00:00.000Z\", \"2014-04-01T00:00:00.000Z\", \"2014-10-01T00:00:00.000Z\", \"2014-01-01T00:00:00.000Z\", \"2013-10-01T00:00:00.000Z\", \"2013-07-01T00:00:00.000Z\", \"2015-01-01T00:00:00.000Z\", \"2013-04-01T00:00:00.000Z\", \"2015-04-01T00:00:00.000Z\", \"2015-07-01T00:00:00.000Z\", \"2015-10-01T00:00:00.000Z\", \"2013-01-01T00:00:00.000Z\", \"2012-10-01T00:00:00.000Z\", \"2016-01-01T00:00:00.000Z\", \"2012-07-01T00:00:00.000Z\", \"2012-04-01T00:00:00.000Z\", \"2016-04-01T00:00:00.000Z\", \"2012-01-01T00:00:00.000Z\", \"2016-07-01T00:00:00.000Z\", \"2011-10-01T00:00:00.000Z\", \"2016-10-01T00:00:00.000Z\", \"2011-07-01T00:00:00.000Z\"]}, {\"type\": \"bar\", \"name\": \"IT/Ops\", \"y\": [522, 506, 494, 491, 478, 478, 464, 460, 452, 447, 446, 445, 436, 435, 434, 426, 415, 392, 376, 346, 332, 329, 327, 264, 253, 224, 203, 182], \"x\": [\"2015-07-01T00:00:00.000Z\", \"2014-04-01T00:00:00.000Z\", \"2014-01-01T00:00:00.000Z\", \"2013-07-01T00:00:00.000Z\", \"2014-07-01T00:00:00.000Z\", \"2015-01-01T00:00:00.000Z\", \"2012-04-01T00:00:00.000Z\", \"2013-10-01T00:00:00.000Z\", \"2016-04-01T00:00:00.000Z\", \"2015-04-01T00:00:00.000Z\", \"2013-04-01T00:00:00.000Z\", \"2014-10-01T00:00:00.000Z\", \"2012-07-01T00:00:00.000Z\", \"2012-10-01T00:00:00.000Z\", \"2013-01-01T00:00:00.000Z\", \"2015-10-01T00:00:00.000Z\", \"2016-01-01T00:00:00.000Z\", \"2012-01-01T00:00:00.000Z\", \"2016-07-01T00:00:00.000Z\", \"2016-10-01T00:00:00.000Z\", \"2011-10-01T00:00:00.000Z\", \"2011-07-01T00:00:00.000Z\", \"2011-04-01T00:00:00.000Z\", \"2010-07-01T00:00:00.000Z\", \"2011-01-01T00:00:00.000Z\", \"2010-04-01T00:00:00.000Z\", \"2010-10-01T00:00:00.000Z\", \"2010-01-01T00:00:00.000Z\"]}, {\"type\": \"bar\", \"name\": \"Web Properties\", \"y\": [481, 456, 440, 440, 437, 419, 416, 413, 411, 409, 408, 407, 406, 382, 380, 369, 355, 337, 334, 333, 331, 312, 300, 298, 275, 242, 223, 186], \"x\": [\"2014-04-01T00:00:00.000Z\", \"2014-01-01T00:00:00.000Z\", \"2013-04-01T00:00:00.000Z\", \"2012-01-01T00:00:00.000Z\", \"2011-07-01T00:00:00.000Z\", \"2011-04-01T00:00:00.000Z\", \"2011-01-01T00:00:00.000Z\", \"2011-10-01T00:00:00.000Z\", \"2014-10-01T00:00:00.000Z\", \"2013-07-01T00:00:00.000Z\", \"2012-04-01T00:00:00.000Z\", \"2014-07-01T00:00:00.000Z\", \"2013-10-01T00:00:00.000Z\", \"2013-01-01T00:00:00.000Z\", \"2012-07-01T00:00:00.000Z\", \"2010-07-01T00:00:00.000Z\", \"2010-04-01T00:00:00.000Z\", \"2010-01-01T00:00:00.000Z\", \"2010-10-01T00:00:00.000Z\", \"2012-10-01T00:00:00.000Z\", \"2015-01-01T00:00:00.000Z\", \"2015-07-01T00:00:00.000Z\", \"2015-10-01T00:00:00.000Z\", \"2015-04-01T00:00:00.000Z\", \"2016-01-01T00:00:00.000Z\", \"2016-04-01T00:00:00.000Z\", \"2016-07-01T00:00:00.000Z\", \"2016-10-01T00:00:00.000Z\"]}, {\"type\": \"bar\", \"name\": \"Firefox Android\", \"y\": [338, 292, 271, 264, 255, 254, 251, 248, 243, 232, 224, 220, 218, 217, 210, 209, 202, 200, 196, 193, 186, 177, 143, 131, 101, 97, 86, 74], \"x\": [\"2012-04-01T00:00:00.000Z\", \"2012-07-01T00:00:00.000Z\", \"2013-01-01T00:00:00.000Z\", \"2012-10-01T00:00:00.000Z\", \"2013-07-01T00:00:00.000Z\", \"2013-10-01T00:00:00.000Z\", \"2013-04-01T00:00:00.000Z\", \"2014-10-01T00:00:00.000Z\", \"2014-07-01T00:00:00.000Z\", \"2014-04-01T00:00:00.000Z\", \"2014-01-01T00:00:00.000Z\", \"2015-01-01T00:00:00.000Z\", \"2011-10-01T00:00:00.000Z\", \"2012-01-01T00:00:00.000Z\", \"2015-10-01T00:00:00.000Z\", \"2015-07-01T00:00:00.000Z\", \"2016-01-01T00:00:00.000Z\", \"2016-07-01T00:00:00.000Z\", \"2016-10-01T00:00:00.000Z\", \"2016-04-01T00:00:00.000Z\", \"2011-07-01T00:00:00.000Z\", \"2015-04-01T00:00:00.000Z\", \"2010-10-01T00:00:00.000Z\", \"2011-01-01T00:00:00.000Z\", \"2010-07-01T00:00:00.000Z\", \"2011-04-01T00:00:00.000Z\", \"2010-04-01T00:00:00.000Z\", \"2010-01-01T00:00:00.000Z\"]}, {\"type\": \"bar\", \"name\": \"Mozilla Developer Network (MDN)\", \"y\": [208, 194, 173, 169, 168, 138, 134, 126, 126, 121, 115, 113, 109, 107, 107, 105, 99, 79, 72, 61, 60, 57, 45, 43, 41, 32, 18, 18], \"x\": [\"2013-10-01T00:00:00.000Z\", \"2016-01-01T00:00:00.000Z\", \"2016-07-01T00:00:00.000Z\", \"2012-07-01T00:00:00.000Z\", \"2016-04-01T00:00:00.000Z\", \"2015-10-01T00:00:00.000Z\", \"2016-10-01T00:00:00.000Z\", \"2013-04-01T00:00:00.000Z\", \"2014-01-01T00:00:00.000Z\", \"2015-07-01T00:00:00.000Z\", \"2012-10-01T00:00:00.000Z\", \"2014-04-01T00:00:00.000Z\", \"2013-01-01T00:00:00.000Z\", \"2014-07-01T00:00:00.000Z\", \"2015-01-01T00:00:00.000Z\", \"2013-07-01T00:00:00.000Z\", \"2015-04-01T00:00:00.000Z\", \"2014-10-01T00:00:00.000Z\", \"2012-01-01T00:00:00.000Z\", \"2012-04-01T00:00:00.000Z\", \"2011-10-01T00:00:00.000Z\", \"2011-04-01T00:00:00.000Z\", \"2011-07-01T00:00:00.000Z\", \"2010-10-01T00:00:00.000Z\", \"2011-01-01T00:00:00.000Z\", \"2010-07-01T00:00:00.000Z\", \"2010-04-01T00:00:00.000Z\", \"2010-01-01T00:00:00.000Z\"]}, {\"type\": \"bar\", \"name\": \"Developer Tools\", \"y\": [206, 199, 199, 195, 185, 180, 179, 179, 165, 164, 156, 151, 144, 138, 131, 106, 85, 81, 78, 77, 49, 22, 20, 19, 15, 11, 2, 1], \"x\": [\"2015-01-01T00:00:00.000Z\", \"2014-10-01T00:00:00.000Z\", \"2014-07-01T00:00:00.000Z\", \"2015-04-01T00:00:00.000Z\", \"2016-01-01T00:00:00.000Z\", \"2014-04-01T00:00:00.000Z\", \"2016-10-01T00:00:00.000Z\", \"2014-01-01T00:00:00.000Z\", \"2015-07-01T00:00:00.000Z\", \"2013-10-01T00:00:00.000Z\", \"2016-04-01T00:00:00.000Z\", \"2016-07-01T00:00:00.000Z\", \"2015-10-01T00:00:00.000Z\", \"2013-07-01T00:00:00.000Z\", \"2013-04-01T00:00:00.000Z\", \"2013-01-01T00:00:00.000Z\", \"2012-04-01T00:00:00.000Z\", \"2012-07-01T00:00:00.000Z\", \"2012-10-01T00:00:00.000Z\", \"2012-01-01T00:00:00.000Z\", \"2011-10-01T00:00:00.000Z\", \"2011-07-01T00:00:00.000Z\", \"2011-01-01T00:00:00.000Z\", \"2011-04-01T00:00:00.000Z\", \"2010-07-01T00:00:00.000Z\", \"2010-10-01T00:00:00.000Z\", \"2010-04-01T00:00:00.000Z\", \"2010-01-01T00:00:00.000Z\"]}, {\"type\": \"bar\", \"name\": \"Quality Assurance\", \"y\": [183, 175, 157, 150, 148, 146, 146, 145, 145, 134, 134, 132, 127, 122, 118, 110, 105, 104, 98, 95, 89, 86, 86, 75, 72, 70, 69, 63], \"x\": [\"2014-07-01T00:00:00.000Z\", \"2014-04-01T00:00:00.000Z\", \"2014-10-01T00:00:00.000Z\", \"2014-01-01T00:00:00.000Z\", \"2016-01-01T00:00:00.000Z\", \"2013-10-01T00:00:00.000Z\", \"2013-07-01T00:00:00.000Z\", \"2015-07-01T00:00:00.000Z\", \"2015-10-01T00:00:00.000Z\", \"2015-04-01T00:00:00.000Z\", \"2015-01-01T00:00:00.000Z\", \"2016-04-01T00:00:00.000Z\", \"2013-04-01T00:00:00.000Z\", \"2013-01-01T00:00:00.000Z\", \"2016-07-01T00:00:00.000Z\", \"2012-10-01T00:00:00.000Z\", \"2012-04-01T00:00:00.000Z\", \"2012-07-01T00:00:00.000Z\", \"2016-10-01T00:00:00.000Z\", \"2012-01-01T00:00:00.000Z\", \"2011-07-01T00:00:00.000Z\", \"2011-04-01T00:00:00.000Z\", \"2010-07-01T00:00:00.000Z\", \"2011-10-01T00:00:00.000Z\", \"2011-01-01T00:00:00.000Z\", \"2010-10-01T00:00:00.000Z\", \"2010-04-01T00:00:00.000Z\", \"2010-01-01T00:00:00.000Z\"]}, {\"type\": \"bar\", \"name\": \"Addons/Web Extensions\", \"y\": [178, 165, 159, 157, 141, 139, 138, 136, 133, 131, 131, 128, 127, 123, 122, 119, 117, 117, 115, 114, 113, 113, 103, 100, 62, 36, 33, 21], \"x\": [\"2011-07-01T00:00:00.000Z\", \"2011-01-01T00:00:00.000Z\", \"2012-01-01T00:00:00.000Z\", \"2015-07-01T00:00:00.000Z\", \"2011-10-01T00:00:00.000Z\", \"2014-04-01T00:00:00.000Z\", \"2011-04-01T00:00:00.000Z\", \"2013-04-01T00:00:00.000Z\", \"2010-01-01T00:00:00.000Z\", \"2013-07-01T00:00:00.000Z\", \"2010-04-01T00:00:00.000Z\", \"2012-07-01T00:00:00.000Z\", \"2012-10-01T00:00:00.000Z\", \"2013-10-01T00:00:00.000Z\", \"2015-04-01T00:00:00.000Z\", \"2014-01-01T00:00:00.000Z\", \"2012-04-01T00:00:00.000Z\", \"2014-07-01T00:00:00.000Z\", \"2013-01-01T00:00:00.000Z\", \"2010-10-01T00:00:00.000Z\", \"2015-10-01T00:00:00.000Z\", \"2010-07-01T00:00:00.000Z\", \"2014-10-01T00:00:00.000Z\", \"2015-01-01T00:00:00.000Z\", \"2016-01-01T00:00:00.000Z\", \"2016-04-01T00:00:00.000Z\", \"2016-07-01T00:00:00.000Z\", \"2016-10-01T00:00:00.000Z\"]}, {\"type\": \"bar\", \"name\": \"Release engineering\", \"y\": [152, 137, 136, 136, 131, 128, 128, 127, 127, 123, 120, 118, 118, 116, 111, 110, 108, 105, 104, 101, 100, 99, 98, 95, 91, 91, 77, 65], \"x\": [\"2014-10-01T00:00:00.000Z\", \"2014-07-01T00:00:00.000Z\", \"2013-07-01T00:00:00.000Z\", \"2014-01-01T00:00:00.000Z\", \"2014-04-01T00:00:00.000Z\", \"2015-01-01T00:00:00.000Z\", \"2015-07-01T00:00:00.000Z\", \"2016-01-01T00:00:00.000Z\", \"2016-04-01T00:00:00.000Z\", \"2013-01-01T00:00:00.000Z\", \"2015-10-01T00:00:00.000Z\", \"2016-07-01T00:00:00.000Z\", \"2013-10-01T00:00:00.000Z\", \"2015-04-01T00:00:00.000Z\", \"2013-04-01T00:00:00.000Z\", \"2012-04-01T00:00:00.000Z\", \"2012-10-01T00:00:00.000Z\", \"2010-07-01T00:00:00.000Z\", \"2012-01-01T00:00:00.000Z\", \"2011-07-01T00:00:00.000Z\", \"2016-10-01T00:00:00.000Z\", \"2011-10-01T00:00:00.000Z\", \"2011-04-01T00:00:00.000Z\", \"2011-01-01T00:00:00.000Z\", \"2012-07-01T00:00:00.000Z\", \"2010-10-01T00:00:00.000Z\", \"2010-04-01T00:00:00.000Z\", \"2010-01-01T00:00:00.000Z\"]}, {\"type\": \"bar\", \"name\": \"Technical/Developer Evangelism\", \"y\": [128, 117, 115, 114, 107, 106, 101, 96, 96, 94, 93, 85, 84, 80, 79, 75, 72, 59, 54, 52, 49, 48, 46, 44, 43, 41, 37, 27], \"x\": [\"2015-01-01T00:00:00.000Z\", \"2014-04-01T00:00:00.000Z\", \"2015-04-01T00:00:00.000Z\", \"2014-01-01T00:00:00.000Z\", \"2014-10-01T00:00:00.000Z\", \"2014-07-01T00:00:00.000Z\", \"2015-07-01T00:00:00.000Z\", \"2013-04-01T00:00:00.000Z\", \"2011-01-01T00:00:00.000Z\", \"2012-04-01T00:00:00.000Z\", \"2012-10-01T00:00:00.000Z\", \"2013-10-01T00:00:00.000Z\", \"2013-07-01T00:00:00.000Z\", \"2012-01-01T00:00:00.000Z\", \"2013-01-01T00:00:00.000Z\", \"2015-10-01T00:00:00.000Z\", \"2012-07-01T00:00:00.000Z\", \"2011-10-01T00:00:00.000Z\", \"2016-07-01T00:00:00.000Z\", \"2016-04-01T00:00:00.000Z\", \"2011-04-01T00:00:00.000Z\", \"2016-01-01T00:00:00.000Z\", \"2011-07-01T00:00:00.000Z\", \"2016-10-01T00:00:00.000Z\", \"2010-07-01T00:00:00.000Z\", \"2010-10-01T00:00:00.000Z\", \"2010-01-01T00:00:00.000Z\", \"2010-04-01T00:00:00.000Z\"]}, {\"type\": \"bar\", \"name\": \"Localization\", \"y\": [127, 120, 116, 109, 104, 96, 93, 89, 86, 86, 83, 83, 80, 79, 72, 71, 69, 69, 69, 67, 67, 67, 66, 65, 64, 60, 50, 47], \"x\": [\"2014-04-01T00:00:00.000Z\", \"2014-07-01T00:00:00.000Z\", \"2013-10-01T00:00:00.000Z\", \"2013-07-01T00:00:00.000Z\", \"2015-01-01T00:00:00.000Z\", \"2014-01-01T00:00:00.000Z\", \"2011-01-01T00:00:00.000Z\", \"2014-10-01T00:00:00.000Z\", \"2015-04-01T00:00:00.000Z\", \"2015-10-01T00:00:00.000Z\", \"2011-10-01T00:00:00.000Z\", \"2010-10-01T00:00:00.000Z\", \"2015-07-01T00:00:00.000Z\", \"2012-01-01T00:00:00.000Z\", \"2016-04-01T00:00:00.000Z\", \"2013-04-01T00:00:00.000Z\", \"2010-07-01T00:00:00.000Z\", \"2010-01-01T00:00:00.000Z\", \"2011-04-01T00:00:00.000Z\", \"2011-07-01T00:00:00.000Z\", \"2010-04-01T00:00:00.000Z\", \"2016-01-01T00:00:00.000Z\", \"2013-01-01T00:00:00.000Z\", \"2012-04-01T00:00:00.000Z\", \"2012-10-01T00:00:00.000Z\", \"2012-07-01T00:00:00.000Z\", \"2016-07-01T00:00:00.000Z\", \"2016-10-01T00:00:00.000Z\"]}, {\"type\": \"bar\", \"name\": \"Web Literacy\", \"y\": [111, 98, 85, 75, 74, 73, 68, 29, 24, 21, 19, 18, 8, 8, 6, 6, 6, 5, 5], \"x\": [\"2014-07-01T00:00:00.000Z\", \"2014-04-01T00:00:00.000Z\", \"2013-10-01T00:00:00.000Z\", \"2013-07-01T00:00:00.000Z\", \"2014-01-01T00:00:00.000Z\", \"2014-10-01T00:00:00.000Z\", \"2013-04-01T00:00:00.000Z\", \"2015-01-01T00:00:00.000Z\", \"2015-04-01T00:00:00.000Z\", \"2015-07-01T00:00:00.000Z\", \"2012-04-01T00:00:00.000Z\", \"2013-01-01T00:00:00.000Z\", \"2016-04-01T00:00:00.000Z\", \"2016-10-01T00:00:00.000Z\", \"2012-07-01T00:00:00.000Z\", \"2016-07-01T00:00:00.000Z\", \"2015-10-01T00:00:00.000Z\", \"2012-10-01T00:00:00.000Z\", \"2016-01-01T00:00:00.000Z\"]}, {\"type\": \"bar\", \"name\": \"Firefox iOS\", \"y\": [72, 72, 60, 51, 48, 48, 42, 36, 11], \"x\": [\"2016-01-01T00:00:00.000Z\", \"2015-10-01T00:00:00.000Z\", \"2015-07-01T00:00:00.000Z\", \"2016-07-01T00:00:00.000Z\", \"2016-04-01T00:00:00.000Z\", \"2015-04-01T00:00:00.000Z\", \"2016-10-01T00:00:00.000Z\", \"2015-01-01T00:00:00.000Z\", \"2014-10-01T00:00:00.000Z\"]}, {\"type\": \"bar\", \"name\": \"Marketing / Social Media\", \"y\": [55, 50, 42, 41, 40, 37, 36, 36, 34, 33, 32, 32, 30, 29, 29, 27, 27, 24, 23, 23, 23, 20, 9, 9, 8, 5, 4, 3], \"x\": [\"2012-01-01T00:00:00.000Z\", \"2011-10-01T00:00:00.000Z\", \"2014-04-01T00:00:00.000Z\", \"2012-07-01T00:00:00.000Z\", \"2014-07-01T00:00:00.000Z\", \"2012-04-01T00:00:00.000Z\", \"2011-07-01T00:00:00.000Z\", \"2012-10-01T00:00:00.000Z\", \"2015-01-01T00:00:00.000Z\", \"2011-04-01T00:00:00.000Z\", \"2014-10-01T00:00:00.000Z\", \"2013-10-01T00:00:00.000Z\", \"2014-01-01T00:00:00.000Z\", \"2013-07-01T00:00:00.000Z\", \"2015-07-01T00:00:00.000Z\", \"2015-10-01T00:00:00.000Z\", \"2013-04-01T00:00:00.000Z\", \"2016-10-01T00:00:00.000Z\", \"2013-01-01T00:00:00.000Z\", \"2011-01-01T00:00:00.000Z\", \"2015-04-01T00:00:00.000Z\", \"2016-01-01T00:00:00.000Z\", \"2016-04-01T00:00:00.000Z\", \"2016-07-01T00:00:00.000Z\", \"2010-10-01T00:00:00.000Z\", \"2010-01-01T00:00:00.000Z\", \"2010-07-01T00:00:00.000Z\", \"2010-04-01T00:00:00.000Z\"]}, {\"type\": \"bar\", \"name\": \"Mozilla Local/Regional communities\", \"y\": [51, 44, 43, 42, 40, 35, 31, 31, 28, 25, 25, 24, 21, 21, 15, 11, 9, 9, 8, 8, 5, 4, 3, 2, 2, 2, 1, 1], \"x\": [\"2014-10-01T00:00:00.000Z\", \"2014-07-01T00:00:00.000Z\", \"2015-01-01T00:00:00.000Z\", \"2014-01-01T00:00:00.000Z\", \"2014-04-01T00:00:00.000Z\", \"2012-07-01T00:00:00.000Z\", \"2013-10-01T00:00:00.000Z\", \"2013-07-01T00:00:00.000Z\", \"2013-04-01T00:00:00.000Z\", \"2013-01-01T00:00:00.000Z\", \"2012-04-01T00:00:00.000Z\", \"2012-01-01T00:00:00.000Z\", \"2015-04-01T00:00:00.000Z\", \"2012-10-01T00:00:00.000Z\", \"2015-07-01T00:00:00.000Z\", \"2016-07-01T00:00:00.000Z\", \"2015-10-01T00:00:00.000Z\", \"2016-04-01T00:00:00.000Z\", \"2016-01-01T00:00:00.000Z\", \"2016-10-01T00:00:00.000Z\", \"2010-01-01T00:00:00.000Z\", \"2011-04-01T00:00:00.000Z\", \"2011-07-01T00:00:00.000Z\", \"2011-10-01T00:00:00.000Z\", \"2011-01-01T00:00:00.000Z\", \"2010-07-01T00:00:00.000Z\", \"2010-10-01T00:00:00.000Z\", \"2010-04-01T00:00:00.000Z\"]}, {\"type\": \"bar\", \"name\": \"Mozilla Creative & Design\", \"y\": [50, 45, 43, 41, 39, 39, 37, 35, 33, 33, 32, 32, 30, 30, 29, 29, 29, 26, 26, 23, 15, 14, 8, 6, 5, 3, 3], \"x\": [\"2014-04-01T00:00:00.000Z\", \"2014-07-01T00:00:00.000Z\", \"2014-01-01T00:00:00.000Z\", \"2012-01-01T00:00:00.000Z\", \"2013-10-01T00:00:00.000Z\", \"2013-07-01T00:00:00.000Z\", \"2011-10-01T00:00:00.000Z\", \"2012-04-01T00:00:00.000Z\", \"2015-01-01T00:00:00.000Z\", \"2015-04-01T00:00:00.000Z\", \"2014-10-01T00:00:00.000Z\", \"2012-10-01T00:00:00.000Z\", \"2011-07-01T00:00:00.000Z\", \"2015-07-01T00:00:00.000Z\", \"2012-07-01T00:00:00.000Z\", \"2013-01-01T00:00:00.000Z\", \"2011-01-01T00:00:00.000Z\", \"2015-10-01T00:00:00.000Z\", \"2011-04-01T00:00:00.000Z\", \"2013-04-01T00:00:00.000Z\", \"2010-10-01T00:00:00.000Z\", \"2010-07-01T00:00:00.000Z\", \"2016-01-01T00:00:00.000Z\", \"2016-04-01T00:00:00.000Z\", \"2016-07-01T00:00:00.000Z\", \"2010-04-01T00:00:00.000Z\", \"2016-10-01T00:00:00.000Z\"]}, {\"type\": \"bar\", \"name\": \"Mozilla Foundation\", \"y\": [27, 15, 14, 11, 6, 6, 5, 4, 4, 3, 3, 2, 2, 1], \"x\": [\"2014-10-01T00:00:00.000Z\", \"2014-04-01T00:00:00.000Z\", \"2014-07-01T00:00:00.000Z\", \"2015-01-01T00:00:00.000Z\", \"2016-07-01T00:00:00.000Z\", \"2014-01-01T00:00:00.000Z\", \"2013-04-01T00:00:00.000Z\", \"2013-10-01T00:00:00.000Z\", \"2013-07-01T00:00:00.000Z\", \"2016-01-01T00:00:00.000Z\", \"2015-10-01T00:00:00.000Z\", \"2016-10-01T00:00:00.000Z\", \"2015-04-01T00:00:00.000Z\", \"2015-07-01T00:00:00.000Z\"]}, {\"type\": \"bar\", \"name\": \"Firefox Focus\", \"y\": [14, 3, 3, 1, 1], \"x\": [\"2016-10-01T00:00:00.000Z\", \"2016-01-01T00:00:00.000Z\", \"2016-07-01T00:00:00.000Z\", \"2015-10-01T00:00:00.000Z\", \"2016-04-01T00:00:00.000Z\"]}, {\"type\": \"bar\", \"name\": \"Mozilla support (SUMO)\", \"y\": [14, 13, 12, 12, 12, 10, 9, 9, 8, 7, 5, 5, 3, 2, 2, 1, 1, 1, 1, 1, 1, 1], \"x\": [\"2010-07-01T00:00:00.000Z\", \"2011-01-01T00:00:00.000Z\", \"2011-07-01T00:00:00.000Z\", \"2010-10-01T00:00:00.000Z\", \"2010-01-01T00:00:00.000Z\", \"2011-04-01T00:00:00.000Z\", \"2012-04-01T00:00:00.000Z\", \"2011-10-01T00:00:00.000Z\", \"2010-04-01T00:00:00.000Z\", \"2014-01-01T00:00:00.000Z\", \"2016-10-01T00:00:00.000Z\", \"2012-07-01T00:00:00.000Z\", \"2012-01-01T00:00:00.000Z\", \"2012-10-01T00:00:00.000Z\", \"2015-10-01T00:00:00.000Z\", \"2013-04-01T00:00:00.000Z\", \"2014-10-01T00:00:00.000Z\", \"2014-07-01T00:00:00.000Z\", \"2014-04-01T00:00:00.000Z\", \"2013-07-01T00:00:00.000Z\", \"2013-01-01T00:00:00.000Z\", \"2016-04-01T00:00:00.000Z\"]}, {\"type\": \"bar\", \"name\": \"Connected devices & IoT\", \"y\": [8, 4, 2, 2], \"x\": [\"2016-04-01T00:00:00.000Z\", \"2016-07-01T00:00:00.000Z\", \"2016-01-01T00:00:00.000Z\", \"2016-10-01T00:00:00.000Z\"]}, {\"type\": \"bar\", \"name\": \"Web Compatibility\", \"y\": [6, 4, 1], \"x\": [\"2016-10-01T00:00:00.000Z\", \"2016-07-01T00:00:00.000Z\", \"2014-04-01T00:00:00.000Z\"]}, {\"type\": \"bar\", \"name\": \"Advocacy and policy\", \"y\": [4, 2, 2, 2, 2, 1], \"x\": [\"2013-10-01T00:00:00.000Z\", \"2014-10-01T00:00:00.000Z\", \"2013-04-01T00:00:00.000Z\", \"2014-04-01T00:00:00.000Z\", \"2016-04-01T00:00:00.000Z\", \"2015-04-01T00:00:00.000Z\"]}, {\"type\": \"bar\", \"name\": \"Rust\", \"y\": [4, 2], \"x\": [\"2010-01-01T00:00:00.000Z\", \"2010-04-01T00:00:00.000Z\"]}, {\"type\": \"bar\", \"name\": \"Firefox Student Ambassadors\", \"y\": [1], \"x\": [\"2015-07-01T00:00:00.000Z\"]}], {\"barmode\": \"stack\"}, {\"showLink\": true, \"linkText\": \"Export to plot.ly\"})});</script>"
      ],
      "text/vnd.plotly.v1+html": [
       "<div id=\"e0dbc640-ce8b-4593-938a-4f8272b3025f\" style=\"height: 525px; width: 100%;\" class=\"plotly-graph-div\"></div><script type=\"text/javascript\">require([\"plotly\"], function(Plotly) { window.PLOTLYENV=window.PLOTLYENV || {};window.PLOTLYENV.BASE_URL=\"https://plot.ly\";Plotly.newPlot(\"e0dbc640-ce8b-4593-938a-4f8272b3025f\", [{\"type\": \"bar\", \"name\": \"Firefox\", \"y\": [2878, 2795, 2683, 2070, 1995, 1961, 1583, 1554, 1553, 1544, 1512, 1469, 1443, 1431, 1421, 1402, 1334, 1332, 1308, 1267, 1259, 1250, 1244, 1021, 1010, 928, 895, 854], \"x\": [\"2011-01-01T00:00:00.000Z\", \"2010-07-01T00:00:00.000Z\", \"2010-01-01T00:00:00.000Z\", \"2010-10-01T00:00:00.000Z\", \"2011-04-01T00:00:00.000Z\", \"2010-04-01T00:00:00.000Z\", \"2012-01-01T00:00:00.000Z\", \"2014-10-01T00:00:00.000Z\", \"2014-04-01T00:00:00.000Z\", \"2011-07-01T00:00:00.000Z\", \"2012-04-01T00:00:00.000Z\", \"2011-10-01T00:00:00.000Z\", \"2015-01-01T00:00:00.000Z\", \"2013-04-01T00:00:00.000Z\", \"2013-01-01T00:00:00.000Z\", \"2014-07-01T00:00:00.000Z\", \"2012-10-01T00:00:00.000Z\", \"2015-07-01T00:00:00.000Z\", \"2012-07-01T00:00:00.000Z\", \"2013-10-01T00:00:00.000Z\", \"2014-01-01T00:00:00.000Z\", \"2013-07-01T00:00:00.000Z\", \"2015-04-01T00:00:00.000Z\", \"2015-10-01T00:00:00.000Z\", \"2016-01-01T00:00:00.000Z\", \"2016-04-01T00:00:00.000Z\", \"2016-07-01T00:00:00.000Z\", \"2016-10-01T00:00:00.000Z\"]}, {\"type\": \"bar\", \"name\": \"Gecko\", \"y\": [1832, 1813, 1794, 1699, 1683, 1677, 1671, 1668, 1621, 1613, 1580, 1568, 1555, 1548, 1546, 1522, 1516, 1507, 1443, 1387, 1384, 1383, 1377, 1366, 1300, 1241, 1185, 1165], \"x\": [\"2014-10-01T00:00:00.000Z\", \"2015-07-01T00:00:00.000Z\", \"2016-01-01T00:00:00.000Z\", \"2015-10-01T00:00:00.000Z\", \"2015-04-01T00:00:00.000Z\", \"2014-07-01T00:00:00.000Z\", \"2016-04-01T00:00:00.000Z\", \"2014-04-01T00:00:00.000Z\", \"2015-01-01T00:00:00.000Z\", \"2011-01-01T00:00:00.000Z\", \"2013-07-01T00:00:00.000Z\", \"2013-10-01T00:00:00.000Z\", \"2013-04-01T00:00:00.000Z\", \"2016-07-01T00:00:00.000Z\", \"2010-07-01T00:00:00.000Z\", \"2013-01-01T00:00:00.000Z\", \"2014-01-01T00:00:00.000Z\", \"2016-10-01T00:00:00.000Z\", \"2012-07-01T00:00:00.000Z\", \"2011-04-01T00:00:00.000Z\", \"2012-10-01T00:00:00.000Z\", \"2010-10-01T00:00:00.000Z\", \"2012-01-01T00:00:00.000Z\", \"2012-04-01T00:00:00.000Z\", \"2010-01-01T00:00:00.000Z\", \"2011-07-01T00:00:00.000Z\", \"2011-10-01T00:00:00.000Z\", \"2010-04-01T00:00:00.000Z\"]}, {\"type\": \"bar\", \"name\": \"Thunderbird\", \"y\": [1303, 999, 918, 733, 677, 636, 624, 577, 569, 562, 560, 545, 526, 497, 475, 465, 414, 411, 408, 401, 394, 393, 356, 345, 344, 338, 330, 262], \"x\": [\"2010-01-01T00:00:00.000Z\", \"2010-07-01T00:00:00.000Z\", \"2010-04-01T00:00:00.000Z\", \"2010-10-01T00:00:00.000Z\", \"2011-07-01T00:00:00.000Z\", \"2012-04-01T00:00:00.000Z\", \"2012-01-01T00:00:00.000Z\", \"2012-10-01T00:00:00.000Z\", \"2011-10-01T00:00:00.000Z\", \"2012-07-01T00:00:00.000Z\", \"2011-01-01T00:00:00.000Z\", \"2015-07-01T00:00:00.000Z\", \"2011-04-01T00:00:00.000Z\", \"2014-07-01T00:00:00.000Z\", \"2016-04-01T00:00:00.000Z\", \"2013-10-01T00:00:00.000Z\", \"2013-01-01T00:00:00.000Z\", \"2015-04-01T00:00:00.000Z\", \"2014-10-01T00:00:00.000Z\", \"2013-07-01T00:00:00.000Z\", \"2015-01-01T00:00:00.000Z\", \"2013-04-01T00:00:00.000Z\", \"2014-01-01T00:00:00.000Z\", \"2015-10-01T00:00:00.000Z\", \"2014-04-01T00:00:00.000Z\", \"2016-01-01T00:00:00.000Z\", \"2016-07-01T00:00:00.000Z\", \"2016-10-01T00:00:00.000Z\"]}, {\"type\": \"bar\", \"name\": \"Firefox OS (FxOS / B2G)\", \"y\": [834, 789, 728, 668, 667, 626, 578, 558, 524, 494, 484, 452, 415, 234, 191, 129, 67, 42, 39, 11, 11, 2], \"x\": [\"2014-07-01T00:00:00.000Z\", \"2014-04-01T00:00:00.000Z\", \"2014-10-01T00:00:00.000Z\", \"2014-01-01T00:00:00.000Z\", \"2013-10-01T00:00:00.000Z\", \"2013-07-01T00:00:00.000Z\", \"2015-01-01T00:00:00.000Z\", \"2013-04-01T00:00:00.000Z\", \"2015-04-01T00:00:00.000Z\", \"2015-07-01T00:00:00.000Z\", \"2015-10-01T00:00:00.000Z\", \"2013-01-01T00:00:00.000Z\", \"2012-10-01T00:00:00.000Z\", \"2016-01-01T00:00:00.000Z\", \"2012-07-01T00:00:00.000Z\", \"2012-04-01T00:00:00.000Z\", \"2016-04-01T00:00:00.000Z\", \"2012-01-01T00:00:00.000Z\", \"2016-07-01T00:00:00.000Z\", \"2011-10-01T00:00:00.000Z\", \"2016-10-01T00:00:00.000Z\", \"2011-07-01T00:00:00.000Z\"]}, {\"type\": \"bar\", \"name\": \"IT/Ops\", \"y\": [522, 506, 494, 491, 478, 478, 464, 460, 452, 447, 446, 445, 436, 435, 434, 426, 415, 392, 376, 346, 332, 329, 327, 264, 253, 224, 203, 182], \"x\": [\"2015-07-01T00:00:00.000Z\", \"2014-04-01T00:00:00.000Z\", \"2014-01-01T00:00:00.000Z\", \"2013-07-01T00:00:00.000Z\", \"2014-07-01T00:00:00.000Z\", \"2015-01-01T00:00:00.000Z\", \"2012-04-01T00:00:00.000Z\", \"2013-10-01T00:00:00.000Z\", \"2016-04-01T00:00:00.000Z\", \"2015-04-01T00:00:00.000Z\", \"2013-04-01T00:00:00.000Z\", \"2014-10-01T00:00:00.000Z\", \"2012-07-01T00:00:00.000Z\", \"2012-10-01T00:00:00.000Z\", \"2013-01-01T00:00:00.000Z\", \"2015-10-01T00:00:00.000Z\", \"2016-01-01T00:00:00.000Z\", \"2012-01-01T00:00:00.000Z\", \"2016-07-01T00:00:00.000Z\", \"2016-10-01T00:00:00.000Z\", \"2011-10-01T00:00:00.000Z\", \"2011-07-01T00:00:00.000Z\", \"2011-04-01T00:00:00.000Z\", \"2010-07-01T00:00:00.000Z\", \"2011-01-01T00:00:00.000Z\", \"2010-04-01T00:00:00.000Z\", \"2010-10-01T00:00:00.000Z\", \"2010-01-01T00:00:00.000Z\"]}, {\"type\": \"bar\", \"name\": \"Web Properties\", \"y\": [481, 456, 440, 440, 437, 419, 416, 413, 411, 409, 408, 407, 406, 382, 380, 369, 355, 337, 334, 333, 331, 312, 300, 298, 275, 242, 223, 186], \"x\": [\"2014-04-01T00:00:00.000Z\", \"2014-01-01T00:00:00.000Z\", \"2013-04-01T00:00:00.000Z\", \"2012-01-01T00:00:00.000Z\", \"2011-07-01T00:00:00.000Z\", \"2011-04-01T00:00:00.000Z\", \"2011-01-01T00:00:00.000Z\", \"2011-10-01T00:00:00.000Z\", \"2014-10-01T00:00:00.000Z\", \"2013-07-01T00:00:00.000Z\", \"2012-04-01T00:00:00.000Z\", \"2014-07-01T00:00:00.000Z\", \"2013-10-01T00:00:00.000Z\", \"2013-01-01T00:00:00.000Z\", \"2012-07-01T00:00:00.000Z\", \"2010-07-01T00:00:00.000Z\", \"2010-04-01T00:00:00.000Z\", \"2010-01-01T00:00:00.000Z\", \"2010-10-01T00:00:00.000Z\", \"2012-10-01T00:00:00.000Z\", \"2015-01-01T00:00:00.000Z\", \"2015-07-01T00:00:00.000Z\", \"2015-10-01T00:00:00.000Z\", \"2015-04-01T00:00:00.000Z\", \"2016-01-01T00:00:00.000Z\", \"2016-04-01T00:00:00.000Z\", \"2016-07-01T00:00:00.000Z\", \"2016-10-01T00:00:00.000Z\"]}, {\"type\": \"bar\", \"name\": \"Firefox Android\", \"y\": [338, 292, 271, 264, 255, 254, 251, 248, 243, 232, 224, 220, 218, 217, 210, 209, 202, 200, 196, 193, 186, 177, 143, 131, 101, 97, 86, 74], \"x\": [\"2012-04-01T00:00:00.000Z\", \"2012-07-01T00:00:00.000Z\", \"2013-01-01T00:00:00.000Z\", \"2012-10-01T00:00:00.000Z\", \"2013-07-01T00:00:00.000Z\", \"2013-10-01T00:00:00.000Z\", \"2013-04-01T00:00:00.000Z\", \"2014-10-01T00:00:00.000Z\", \"2014-07-01T00:00:00.000Z\", \"2014-04-01T00:00:00.000Z\", \"2014-01-01T00:00:00.000Z\", \"2015-01-01T00:00:00.000Z\", \"2011-10-01T00:00:00.000Z\", \"2012-01-01T00:00:00.000Z\", \"2015-10-01T00:00:00.000Z\", \"2015-07-01T00:00:00.000Z\", \"2016-01-01T00:00:00.000Z\", \"2016-07-01T00:00:00.000Z\", \"2016-10-01T00:00:00.000Z\", \"2016-04-01T00:00:00.000Z\", \"2011-07-01T00:00:00.000Z\", \"2015-04-01T00:00:00.000Z\", \"2010-10-01T00:00:00.000Z\", \"2011-01-01T00:00:00.000Z\", \"2010-07-01T00:00:00.000Z\", \"2011-04-01T00:00:00.000Z\", \"2010-04-01T00:00:00.000Z\", \"2010-01-01T00:00:00.000Z\"]}, {\"type\": \"bar\", \"name\": \"Mozilla Developer Network (MDN)\", \"y\": [208, 194, 173, 169, 168, 138, 134, 126, 126, 121, 115, 113, 109, 107, 107, 105, 99, 79, 72, 61, 60, 57, 45, 43, 41, 32, 18, 18], \"x\": [\"2013-10-01T00:00:00.000Z\", \"2016-01-01T00:00:00.000Z\", \"2016-07-01T00:00:00.000Z\", \"2012-07-01T00:00:00.000Z\", \"2016-04-01T00:00:00.000Z\", \"2015-10-01T00:00:00.000Z\", \"2016-10-01T00:00:00.000Z\", \"2013-04-01T00:00:00.000Z\", \"2014-01-01T00:00:00.000Z\", \"2015-07-01T00:00:00.000Z\", \"2012-10-01T00:00:00.000Z\", \"2014-04-01T00:00:00.000Z\", \"2013-01-01T00:00:00.000Z\", \"2014-07-01T00:00:00.000Z\", \"2015-01-01T00:00:00.000Z\", \"2013-07-01T00:00:00.000Z\", \"2015-04-01T00:00:00.000Z\", \"2014-10-01T00:00:00.000Z\", \"2012-01-01T00:00:00.000Z\", \"2012-04-01T00:00:00.000Z\", \"2011-10-01T00:00:00.000Z\", \"2011-04-01T00:00:00.000Z\", \"2011-07-01T00:00:00.000Z\", \"2010-10-01T00:00:00.000Z\", \"2011-01-01T00:00:00.000Z\", \"2010-07-01T00:00:00.000Z\", \"2010-04-01T00:00:00.000Z\", \"2010-01-01T00:00:00.000Z\"]}, {\"type\": \"bar\", \"name\": \"Developer Tools\", \"y\": [206, 199, 199, 195, 185, 180, 179, 179, 165, 164, 156, 151, 144, 138, 131, 106, 85, 81, 78, 77, 49, 22, 20, 19, 15, 11, 2, 1], \"x\": [\"2015-01-01T00:00:00.000Z\", \"2014-10-01T00:00:00.000Z\", \"2014-07-01T00:00:00.000Z\", \"2015-04-01T00:00:00.000Z\", \"2016-01-01T00:00:00.000Z\", \"2014-04-01T00:00:00.000Z\", \"2016-10-01T00:00:00.000Z\", \"2014-01-01T00:00:00.000Z\", \"2015-07-01T00:00:00.000Z\", \"2013-10-01T00:00:00.000Z\", \"2016-04-01T00:00:00.000Z\", \"2016-07-01T00:00:00.000Z\", \"2015-10-01T00:00:00.000Z\", \"2013-07-01T00:00:00.000Z\", \"2013-04-01T00:00:00.000Z\", \"2013-01-01T00:00:00.000Z\", \"2012-04-01T00:00:00.000Z\", \"2012-07-01T00:00:00.000Z\", \"2012-10-01T00:00:00.000Z\", \"2012-01-01T00:00:00.000Z\", \"2011-10-01T00:00:00.000Z\", \"2011-07-01T00:00:00.000Z\", \"2011-01-01T00:00:00.000Z\", \"2011-04-01T00:00:00.000Z\", \"2010-07-01T00:00:00.000Z\", \"2010-10-01T00:00:00.000Z\", \"2010-04-01T00:00:00.000Z\", \"2010-01-01T00:00:00.000Z\"]}, {\"type\": \"bar\", \"name\": \"Quality Assurance\", \"y\": [183, 175, 157, 150, 148, 146, 146, 145, 145, 134, 134, 132, 127, 122, 118, 110, 105, 104, 98, 95, 89, 86, 86, 75, 72, 70, 69, 63], \"x\": [\"2014-07-01T00:00:00.000Z\", \"2014-04-01T00:00:00.000Z\", \"2014-10-01T00:00:00.000Z\", \"2014-01-01T00:00:00.000Z\", \"2016-01-01T00:00:00.000Z\", \"2013-10-01T00:00:00.000Z\", \"2013-07-01T00:00:00.000Z\", \"2015-07-01T00:00:00.000Z\", \"2015-10-01T00:00:00.000Z\", \"2015-04-01T00:00:00.000Z\", \"2015-01-01T00:00:00.000Z\", \"2016-04-01T00:00:00.000Z\", \"2013-04-01T00:00:00.000Z\", \"2013-01-01T00:00:00.000Z\", \"2016-07-01T00:00:00.000Z\", \"2012-10-01T00:00:00.000Z\", \"2012-04-01T00:00:00.000Z\", \"2012-07-01T00:00:00.000Z\", \"2016-10-01T00:00:00.000Z\", \"2012-01-01T00:00:00.000Z\", \"2011-07-01T00:00:00.000Z\", \"2011-04-01T00:00:00.000Z\", \"2010-07-01T00:00:00.000Z\", \"2011-10-01T00:00:00.000Z\", \"2011-01-01T00:00:00.000Z\", \"2010-10-01T00:00:00.000Z\", \"2010-04-01T00:00:00.000Z\", \"2010-01-01T00:00:00.000Z\"]}, {\"type\": \"bar\", \"name\": \"Addons/Web Extensions\", \"y\": [178, 165, 159, 157, 141, 139, 138, 136, 133, 131, 131, 128, 127, 123, 122, 119, 117, 117, 115, 114, 113, 113, 103, 100, 62, 36, 33, 21], \"x\": [\"2011-07-01T00:00:00.000Z\", \"2011-01-01T00:00:00.000Z\", \"2012-01-01T00:00:00.000Z\", \"2015-07-01T00:00:00.000Z\", \"2011-10-01T00:00:00.000Z\", \"2014-04-01T00:00:00.000Z\", \"2011-04-01T00:00:00.000Z\", \"2013-04-01T00:00:00.000Z\", \"2010-01-01T00:00:00.000Z\", \"2013-07-01T00:00:00.000Z\", \"2010-04-01T00:00:00.000Z\", \"2012-07-01T00:00:00.000Z\", \"2012-10-01T00:00:00.000Z\", \"2013-10-01T00:00:00.000Z\", \"2015-04-01T00:00:00.000Z\", \"2014-01-01T00:00:00.000Z\", \"2012-04-01T00:00:00.000Z\", \"2014-07-01T00:00:00.000Z\", \"2013-01-01T00:00:00.000Z\", \"2010-10-01T00:00:00.000Z\", \"2015-10-01T00:00:00.000Z\", \"2010-07-01T00:00:00.000Z\", \"2014-10-01T00:00:00.000Z\", \"2015-01-01T00:00:00.000Z\", \"2016-01-01T00:00:00.000Z\", \"2016-04-01T00:00:00.000Z\", \"2016-07-01T00:00:00.000Z\", \"2016-10-01T00:00:00.000Z\"]}, {\"type\": \"bar\", \"name\": \"Release engineering\", \"y\": [152, 137, 136, 136, 131, 128, 128, 127, 127, 123, 120, 118, 118, 116, 111, 110, 108, 105, 104, 101, 100, 99, 98, 95, 91, 91, 77, 65], \"x\": [\"2014-10-01T00:00:00.000Z\", \"2014-07-01T00:00:00.000Z\", \"2013-07-01T00:00:00.000Z\", \"2014-01-01T00:00:00.000Z\", \"2014-04-01T00:00:00.000Z\", \"2015-01-01T00:00:00.000Z\", \"2015-07-01T00:00:00.000Z\", \"2016-01-01T00:00:00.000Z\", \"2016-04-01T00:00:00.000Z\", \"2013-01-01T00:00:00.000Z\", \"2015-10-01T00:00:00.000Z\", \"2016-07-01T00:00:00.000Z\", \"2013-10-01T00:00:00.000Z\", \"2015-04-01T00:00:00.000Z\", \"2013-04-01T00:00:00.000Z\", \"2012-04-01T00:00:00.000Z\", \"2012-10-01T00:00:00.000Z\", \"2010-07-01T00:00:00.000Z\", \"2012-01-01T00:00:00.000Z\", \"2011-07-01T00:00:00.000Z\", \"2016-10-01T00:00:00.000Z\", \"2011-10-01T00:00:00.000Z\", \"2011-04-01T00:00:00.000Z\", \"2011-01-01T00:00:00.000Z\", \"2012-07-01T00:00:00.000Z\", \"2010-10-01T00:00:00.000Z\", \"2010-04-01T00:00:00.000Z\", \"2010-01-01T00:00:00.000Z\"]}, {\"type\": \"bar\", \"name\": \"Technical/Developer Evangelism\", \"y\": [128, 117, 115, 114, 107, 106, 101, 96, 96, 94, 93, 85, 84, 80, 79, 75, 72, 59, 54, 52, 49, 48, 46, 44, 43, 41, 37, 27], \"x\": [\"2015-01-01T00:00:00.000Z\", \"2014-04-01T00:00:00.000Z\", \"2015-04-01T00:00:00.000Z\", \"2014-01-01T00:00:00.000Z\", \"2014-10-01T00:00:00.000Z\", \"2014-07-01T00:00:00.000Z\", \"2015-07-01T00:00:00.000Z\", \"2013-04-01T00:00:00.000Z\", \"2011-01-01T00:00:00.000Z\", \"2012-04-01T00:00:00.000Z\", \"2012-10-01T00:00:00.000Z\", \"2013-10-01T00:00:00.000Z\", \"2013-07-01T00:00:00.000Z\", \"2012-01-01T00:00:00.000Z\", \"2013-01-01T00:00:00.000Z\", \"2015-10-01T00:00:00.000Z\", \"2012-07-01T00:00:00.000Z\", \"2011-10-01T00:00:00.000Z\", \"2016-07-01T00:00:00.000Z\", \"2016-04-01T00:00:00.000Z\", \"2011-04-01T00:00:00.000Z\", \"2016-01-01T00:00:00.000Z\", \"2011-07-01T00:00:00.000Z\", \"2016-10-01T00:00:00.000Z\", \"2010-07-01T00:00:00.000Z\", \"2010-10-01T00:00:00.000Z\", \"2010-01-01T00:00:00.000Z\", \"2010-04-01T00:00:00.000Z\"]}, {\"type\": \"bar\", \"name\": \"Localization\", \"y\": [127, 120, 116, 109, 104, 96, 93, 89, 86, 86, 83, 83, 80, 79, 72, 71, 69, 69, 69, 67, 67, 67, 66, 65, 64, 60, 50, 47], \"x\": [\"2014-04-01T00:00:00.000Z\", \"2014-07-01T00:00:00.000Z\", \"2013-10-01T00:00:00.000Z\", \"2013-07-01T00:00:00.000Z\", \"2015-01-01T00:00:00.000Z\", \"2014-01-01T00:00:00.000Z\", \"2011-01-01T00:00:00.000Z\", \"2014-10-01T00:00:00.000Z\", \"2015-04-01T00:00:00.000Z\", \"2015-10-01T00:00:00.000Z\", \"2011-10-01T00:00:00.000Z\", \"2010-10-01T00:00:00.000Z\", \"2015-07-01T00:00:00.000Z\", \"2012-01-01T00:00:00.000Z\", \"2016-04-01T00:00:00.000Z\", \"2013-04-01T00:00:00.000Z\", \"2010-07-01T00:00:00.000Z\", \"2010-01-01T00:00:00.000Z\", \"2011-04-01T00:00:00.000Z\", \"2011-07-01T00:00:00.000Z\", \"2010-04-01T00:00:00.000Z\", \"2016-01-01T00:00:00.000Z\", \"2013-01-01T00:00:00.000Z\", \"2012-04-01T00:00:00.000Z\", \"2012-10-01T00:00:00.000Z\", \"2012-07-01T00:00:00.000Z\", \"2016-07-01T00:00:00.000Z\", \"2016-10-01T00:00:00.000Z\"]}, {\"type\": \"bar\", \"name\": \"Web Literacy\", \"y\": [111, 98, 85, 75, 74, 73, 68, 29, 24, 21, 19, 18, 8, 8, 6, 6, 6, 5, 5], \"x\": [\"2014-07-01T00:00:00.000Z\", \"2014-04-01T00:00:00.000Z\", \"2013-10-01T00:00:00.000Z\", \"2013-07-01T00:00:00.000Z\", \"2014-01-01T00:00:00.000Z\", \"2014-10-01T00:00:00.000Z\", \"2013-04-01T00:00:00.000Z\", \"2015-01-01T00:00:00.000Z\", \"2015-04-01T00:00:00.000Z\", \"2015-07-01T00:00:00.000Z\", \"2012-04-01T00:00:00.000Z\", \"2013-01-01T00:00:00.000Z\", \"2016-04-01T00:00:00.000Z\", \"2016-10-01T00:00:00.000Z\", \"2012-07-01T00:00:00.000Z\", \"2016-07-01T00:00:00.000Z\", \"2015-10-01T00:00:00.000Z\", \"2012-10-01T00:00:00.000Z\", \"2016-01-01T00:00:00.000Z\"]}, {\"type\": \"bar\", \"name\": \"Firefox iOS\", \"y\": [72, 72, 60, 51, 48, 48, 42, 36, 11], \"x\": [\"2016-01-01T00:00:00.000Z\", \"2015-10-01T00:00:00.000Z\", \"2015-07-01T00:00:00.000Z\", \"2016-07-01T00:00:00.000Z\", \"2016-04-01T00:00:00.000Z\", \"2015-04-01T00:00:00.000Z\", \"2016-10-01T00:00:00.000Z\", \"2015-01-01T00:00:00.000Z\", \"2014-10-01T00:00:00.000Z\"]}, {\"type\": \"bar\", \"name\": \"Marketing / Social Media\", \"y\": [55, 50, 42, 41, 40, 37, 36, 36, 34, 33, 32, 32, 30, 29, 29, 27, 27, 24, 23, 23, 23, 20, 9, 9, 8, 5, 4, 3], \"x\": [\"2012-01-01T00:00:00.000Z\", \"2011-10-01T00:00:00.000Z\", \"2014-04-01T00:00:00.000Z\", \"2012-07-01T00:00:00.000Z\", \"2014-07-01T00:00:00.000Z\", \"2012-04-01T00:00:00.000Z\", \"2011-07-01T00:00:00.000Z\", \"2012-10-01T00:00:00.000Z\", \"2015-01-01T00:00:00.000Z\", \"2011-04-01T00:00:00.000Z\", \"2014-10-01T00:00:00.000Z\", \"2013-10-01T00:00:00.000Z\", \"2014-01-01T00:00:00.000Z\", \"2013-07-01T00:00:00.000Z\", \"2015-07-01T00:00:00.000Z\", \"2015-10-01T00:00:00.000Z\", \"2013-04-01T00:00:00.000Z\", \"2016-10-01T00:00:00.000Z\", \"2013-01-01T00:00:00.000Z\", \"2011-01-01T00:00:00.000Z\", \"2015-04-01T00:00:00.000Z\", \"2016-01-01T00:00:00.000Z\", \"2016-04-01T00:00:00.000Z\", \"2016-07-01T00:00:00.000Z\", \"2010-10-01T00:00:00.000Z\", \"2010-01-01T00:00:00.000Z\", \"2010-07-01T00:00:00.000Z\", \"2010-04-01T00:00:00.000Z\"]}, {\"type\": \"bar\", \"name\": \"Mozilla Local/Regional communities\", \"y\": [51, 44, 43, 42, 40, 35, 31, 31, 28, 25, 25, 24, 21, 21, 15, 11, 9, 9, 8, 8, 5, 4, 3, 2, 2, 2, 1, 1], \"x\": [\"2014-10-01T00:00:00.000Z\", \"2014-07-01T00:00:00.000Z\", \"2015-01-01T00:00:00.000Z\", \"2014-01-01T00:00:00.000Z\", \"2014-04-01T00:00:00.000Z\", \"2012-07-01T00:00:00.000Z\", \"2013-10-01T00:00:00.000Z\", \"2013-07-01T00:00:00.000Z\", \"2013-04-01T00:00:00.000Z\", \"2013-01-01T00:00:00.000Z\", \"2012-04-01T00:00:00.000Z\", \"2012-01-01T00:00:00.000Z\", \"2015-04-01T00:00:00.000Z\", \"2012-10-01T00:00:00.000Z\", \"2015-07-01T00:00:00.000Z\", \"2016-07-01T00:00:00.000Z\", \"2015-10-01T00:00:00.000Z\", \"2016-04-01T00:00:00.000Z\", \"2016-01-01T00:00:00.000Z\", \"2016-10-01T00:00:00.000Z\", \"2010-01-01T00:00:00.000Z\", \"2011-04-01T00:00:00.000Z\", \"2011-07-01T00:00:00.000Z\", \"2011-10-01T00:00:00.000Z\", \"2011-01-01T00:00:00.000Z\", \"2010-07-01T00:00:00.000Z\", \"2010-10-01T00:00:00.000Z\", \"2010-04-01T00:00:00.000Z\"]}, {\"type\": \"bar\", \"name\": \"Mozilla Creative & Design\", \"y\": [50, 45, 43, 41, 39, 39, 37, 35, 33, 33, 32, 32, 30, 30, 29, 29, 29, 26, 26, 23, 15, 14, 8, 6, 5, 3, 3], \"x\": [\"2014-04-01T00:00:00.000Z\", \"2014-07-01T00:00:00.000Z\", \"2014-01-01T00:00:00.000Z\", \"2012-01-01T00:00:00.000Z\", \"2013-10-01T00:00:00.000Z\", \"2013-07-01T00:00:00.000Z\", \"2011-10-01T00:00:00.000Z\", \"2012-04-01T00:00:00.000Z\", \"2015-01-01T00:00:00.000Z\", \"2015-04-01T00:00:00.000Z\", \"2014-10-01T00:00:00.000Z\", \"2012-10-01T00:00:00.000Z\", \"2011-07-01T00:00:00.000Z\", \"2015-07-01T00:00:00.000Z\", \"2012-07-01T00:00:00.000Z\", \"2013-01-01T00:00:00.000Z\", \"2011-01-01T00:00:00.000Z\", \"2015-10-01T00:00:00.000Z\", \"2011-04-01T00:00:00.000Z\", \"2013-04-01T00:00:00.000Z\", \"2010-10-01T00:00:00.000Z\", \"2010-07-01T00:00:00.000Z\", \"2016-01-01T00:00:00.000Z\", \"2016-04-01T00:00:00.000Z\", \"2016-07-01T00:00:00.000Z\", \"2010-04-01T00:00:00.000Z\", \"2016-10-01T00:00:00.000Z\"]}, {\"type\": \"bar\", \"name\": \"Mozilla Foundation\", \"y\": [27, 15, 14, 11, 6, 6, 5, 4, 4, 3, 3, 2, 2, 1], \"x\": [\"2014-10-01T00:00:00.000Z\", \"2014-04-01T00:00:00.000Z\", \"2014-07-01T00:00:00.000Z\", \"2015-01-01T00:00:00.000Z\", \"2016-07-01T00:00:00.000Z\", \"2014-01-01T00:00:00.000Z\", \"2013-04-01T00:00:00.000Z\", \"2013-10-01T00:00:00.000Z\", \"2013-07-01T00:00:00.000Z\", \"2016-01-01T00:00:00.000Z\", \"2015-10-01T00:00:00.000Z\", \"2016-10-01T00:00:00.000Z\", \"2015-04-01T00:00:00.000Z\", \"2015-07-01T00:00:00.000Z\"]}, {\"type\": \"bar\", \"name\": \"Firefox Focus\", \"y\": [14, 3, 3, 1, 1], \"x\": [\"2016-10-01T00:00:00.000Z\", \"2016-01-01T00:00:00.000Z\", \"2016-07-01T00:00:00.000Z\", \"2015-10-01T00:00:00.000Z\", \"2016-04-01T00:00:00.000Z\"]}, {\"type\": \"bar\", \"name\": \"Mozilla support (SUMO)\", \"y\": [14, 13, 12, 12, 12, 10, 9, 9, 8, 7, 5, 5, 3, 2, 2, 1, 1, 1, 1, 1, 1, 1], \"x\": [\"2010-07-01T00:00:00.000Z\", \"2011-01-01T00:00:00.000Z\", \"2011-07-01T00:00:00.000Z\", \"2010-10-01T00:00:00.000Z\", \"2010-01-01T00:00:00.000Z\", \"2011-04-01T00:00:00.000Z\", \"2012-04-01T00:00:00.000Z\", \"2011-10-01T00:00:00.000Z\", \"2010-04-01T00:00:00.000Z\", \"2014-01-01T00:00:00.000Z\", \"2016-10-01T00:00:00.000Z\", \"2012-07-01T00:00:00.000Z\", \"2012-01-01T00:00:00.000Z\", \"2012-10-01T00:00:00.000Z\", \"2015-10-01T00:00:00.000Z\", \"2013-04-01T00:00:00.000Z\", \"2014-10-01T00:00:00.000Z\", \"2014-07-01T00:00:00.000Z\", \"2014-04-01T00:00:00.000Z\", \"2013-07-01T00:00:00.000Z\", \"2013-01-01T00:00:00.000Z\", \"2016-04-01T00:00:00.000Z\"]}, {\"type\": \"bar\", \"name\": \"Connected devices & IoT\", \"y\": [8, 4, 2, 2], \"x\": [\"2016-04-01T00:00:00.000Z\", \"2016-07-01T00:00:00.000Z\", \"2016-01-01T00:00:00.000Z\", \"2016-10-01T00:00:00.000Z\"]}, {\"type\": \"bar\", \"name\": \"Web Compatibility\", \"y\": [6, 4, 1], \"x\": [\"2016-10-01T00:00:00.000Z\", \"2016-07-01T00:00:00.000Z\", \"2014-04-01T00:00:00.000Z\"]}, {\"type\": \"bar\", \"name\": \"Advocacy and policy\", \"y\": [4, 2, 2, 2, 2, 1], \"x\": [\"2013-10-01T00:00:00.000Z\", \"2014-10-01T00:00:00.000Z\", \"2013-04-01T00:00:00.000Z\", \"2014-04-01T00:00:00.000Z\", \"2016-04-01T00:00:00.000Z\", \"2015-04-01T00:00:00.000Z\"]}, {\"type\": \"bar\", \"name\": \"Rust\", \"y\": [4, 2], \"x\": [\"2010-01-01T00:00:00.000Z\", \"2010-04-01T00:00:00.000Z\"]}, {\"type\": \"bar\", \"name\": \"Firefox Student Ambassadors\", \"y\": [1], \"x\": [\"2015-07-01T00:00:00.000Z\"]}], {\"barmode\": \"stack\"}, {\"showLink\": true, \"linkText\": \"Export to plot.ly\"})});</script>"
      ]
     },
     "metadata": {},
     "output_type": "display_data"
    }
   ],
   "source": [
    "s = create_search(source='bugzilla')\n",
    "\n",
    "s = s.filter('range', creation_ts={'gte': initial_date, 'lt': 'now/y'})\n",
    "\n",
    "# Unique count of Authors by Project\n",
    "s.aggs.bucket('product', 'terms', field='product', size=100000)\\\n",
    "    .bucket('component', 'terms', field='component', size=100000)\\\n",
    "    .bucket('time', 'date_histogram', field='creation_ts', interval='quarter')\\\n",
    "    .bucket('contributors', 'terms', field='author_uuid', size=100000)\n",
    "result = s.execute()\n",
    "\n",
    "print('q1')\n",
    "\n",
    "# Process results to build a DataFrame\n",
    "i = 0\n",
    "repos_evo_df = pandas.DataFrame(columns=['Product', 'Component', 'Time', 'uuid'])\n",
    "for product in result.to_dict()['aggregations']['product']['buckets']:\n",
    "    for component in product['component']['buckets']:\n",
    "        for time in component['time']['buckets']:\n",
    "            for author in time['contributors']['buckets']:\n",
    "                repos_evo_df.loc[len(repos_evo_df)] = [product['key'], component['key'], \n",
    "                                                       time['key_as_string'], author['key']]\n",
    "                i += 1\n",
    "                if i % 10000 == 0:\n",
    "                    print(i, end=', ')\n",
    "\n",
    "merged_evo_df = repos_evo_df.merge(projects['Bugzilla'], on=['Product', 'Component'], how='left')\n",
    "\n",
    "# Group By project\n",
    "projects_evo_df = merged_evo_df.groupby(['Project', 'Time']).agg({'uuid': pandas.Series.nunique,\n",
    "                                                                  'Product': pandas.Series.nunique,\n",
    "                                                                  'Component': pandas.Series.nunique})\n",
    "projects_evo_df = projects_evo_df.sort_values(by='uuid', ascending=0)    \n",
    "\n",
    "# Plot it\n",
    "print_stacked_bar(df=projects_evo_df.reset_index(), time_column='Time', value_column='uuid',\n",
    "                  group_column='Project')"
   ]
  },
  {
   "cell_type": "markdown",
   "metadata": {},
   "source": [
    "#### List of organizations\n"
   ]
  },
  {
   "cell_type": "code",
   "execution_count": 52,
   "metadata": {
    "collapsed": false,
    "scrolled": true
   },
   "outputs": [],
   "source": [
    "s = create_search(source='git')\n",
    "\n",
    "s = add_bot_filter(s)\n",
    "s = add_merges_filter(s)\n",
    "\n",
    "# Unique count of Commits by Project (max 100 projects)\n",
    "s.aggs.bucket('organizations', 'terms', field='author_org_name', size=100)\\\n",
    "    .metric('commits', 'cardinality', field='hash', precision_threshold=100000)\n",
    "result = s.execute()"
   ]
  },
  {
   "cell_type": "code",
   "execution_count": 53,
   "metadata": {
    "collapsed": false,
    "scrolled": true
   },
   "outputs": [
    {
     "data": {
      "text/html": [
       "<div>\n",
       "<table border=\"1\" class=\"dataframe\">\n",
       "  <thead>\n",
       "    <tr style=\"text-align: right;\">\n",
       "      <th></th>\n",
       "      <th>Organization</th>\n",
       "      <th># Commits</th>\n",
       "    </tr>\n",
       "  </thead>\n",
       "  <tbody>\n",
       "    <tr>\n",
       "      <th>0</th>\n",
       "      <td>Mozilla Staff</td>\n",
       "      <td>1077615</td>\n",
       "    </tr>\n",
       "    <tr>\n",
       "      <th>1</th>\n",
       "      <td>Community</td>\n",
       "      <td>432017</td>\n",
       "    </tr>\n",
       "    <tr>\n",
       "      <th>2</th>\n",
       "      <td>Mozilla Reps</td>\n",
       "      <td>433</td>\n",
       "    </tr>\n",
       "  </tbody>\n",
       "</table>\n",
       "</div>"
      ],
      "text/plain": [
       "    Organization  # Commits\n",
       "0  Mozilla Staff    1077615\n",
       "1      Community     432017\n",
       "2   Mozilla Reps        433"
      ]
     },
     "execution_count": 53,
     "metadata": {},
     "output_type": "execute_result"
    }
   ],
   "source": [
    "print_df(result=result, group_field='organizations', value_field='commits', \\\n",
    "         group_column='Organization', value_column='# Commits')"
   ]
  },
  {
   "cell_type": "markdown",
   "metadata": {},
   "source": [
    "### Contributors by organization\n",
    "#### Git"
   ]
  },
  {
   "cell_type": "code",
   "execution_count": 56,
   "metadata": {
    "collapsed": false,
    "scrolled": true
   },
   "outputs": [],
   "source": [
    "s = create_search(source='git')\n",
    "\n",
    "s = add_bot_filter(s)\n",
    "s = add_merges_filter(s)\n",
    "\n",
    "# Unique count of Commits by Project (max 100 projects)\n",
    "s.aggs.bucket('organizations', 'terms', field='author_org_name', size=100).\\\n",
    "    metric('contributors', 'cardinality', field='author_uuid', precision_threshold=100000)\n",
    "result = s.execute()"
   ]
  },
  {
   "cell_type": "code",
   "execution_count": 57,
   "metadata": {
    "collapsed": false,
    "scrolled": true
   },
   "outputs": [
    {
     "data": {
      "text/html": [
       "<div>\n",
       "<table border=\"1\" class=\"dataframe\">\n",
       "  <thead>\n",
       "    <tr style=\"text-align: right;\">\n",
       "      <th></th>\n",
       "      <th>Organization</th>\n",
       "      <th># Contributors</th>\n",
       "    </tr>\n",
       "  </thead>\n",
       "  <tbody>\n",
       "    <tr>\n",
       "      <th>0</th>\n",
       "      <td>Mozilla Staff</td>\n",
       "      <td>2005</td>\n",
       "    </tr>\n",
       "    <tr>\n",
       "      <th>1</th>\n",
       "      <td>Community</td>\n",
       "      <td>12789</td>\n",
       "    </tr>\n",
       "    <tr>\n",
       "      <th>2</th>\n",
       "      <td>Mozilla Reps</td>\n",
       "      <td>2</td>\n",
       "    </tr>\n",
       "  </tbody>\n",
       "</table>\n",
       "</div>"
      ],
      "text/plain": [
       "    Organization  # Contributors\n",
       "0  Mozilla Staff            2005\n",
       "1      Community           12789\n",
       "2   Mozilla Reps               2"
      ]
     },
     "execution_count": 57,
     "metadata": {},
     "output_type": "execute_result"
    }
   ],
   "source": [
    "print_df(result=result, group_field='organizations', value_field='contributors', \\\n",
    "         group_column='Organization', value_column='# Contributors')"
   ]
  },
  {
   "cell_type": "markdown",
   "metadata": {},
   "source": [
    "#### Bugzilla"
   ]
  },
  {
   "cell_type": "code",
   "execution_count": 10,
   "metadata": {
    "collapsed": false,
    "scrolled": true
   },
   "outputs": [],
   "source": [
    "s = create_search(source='bugzilla')\n",
    "\n",
    "s = add_bot_filter(s)\n",
    "\n",
    "# Unique count of Commits by Project (max 100 projects)\n",
    "s.aggs.bucket('organizations', 'terms', field='author_org_name', size=100).\\\n",
    "    metric('contributors', 'cardinality', field='author_uuid', precision_threshold=100000)\n",
    "result = s.execute()"
   ]
  },
  {
   "cell_type": "code",
   "execution_count": 11,
   "metadata": {
    "collapsed": false,
    "scrolled": true
   },
   "outputs": [
    {
     "data": {
      "text/html": [
       "<div>\n",
       "<table border=\"1\" class=\"dataframe\">\n",
       "  <thead>\n",
       "    <tr style=\"text-align: right;\">\n",
       "      <th></th>\n",
       "      <th>Organization</th>\n",
       "      <th># Contributors</th>\n",
       "    </tr>\n",
       "  </thead>\n",
       "  <tbody>\n",
       "    <tr>\n",
       "      <th>0</th>\n",
       "      <td>Community</td>\n",
       "      <td>181892</td>\n",
       "    </tr>\n",
       "    <tr>\n",
       "      <th>1</th>\n",
       "      <td>Mozilla Staff</td>\n",
       "      <td>2784</td>\n",
       "    </tr>\n",
       "    <tr>\n",
       "      <th>2</th>\n",
       "      <td>Mozilla Reps</td>\n",
       "      <td>3</td>\n",
       "    </tr>\n",
       "  </tbody>\n",
       "</table>\n",
       "</div>"
      ],
      "text/plain": [
       "    Organization  # Contributors\n",
       "0      Community          181892\n",
       "1  Mozilla Staff            2784\n",
       "2   Mozilla Reps               3"
      ]
     },
     "execution_count": 11,
     "metadata": {},
     "output_type": "execute_result"
    }
   ],
   "source": [
    "print_df(result=result, group_field='organizations', value_field='contributors', \\\n",
    "         group_column='Organization', value_column='# Contributors')"
   ]
  },
  {
   "cell_type": "markdown",
   "metadata": {},
   "source": [
    "### Number of contributors by organization over time\n",
    "#### Git"
   ]
  },
  {
   "cell_type": "code",
   "execution_count": 58,
   "metadata": {
    "collapsed": false,
    "scrolled": true
   },
   "outputs": [],
   "source": [
    "s = create_search(source='git')\n",
    "\n",
    "s = add_bot_filter(s)\n",
    "s = add_merges_filter(s)\n",
    "s = add_general_date_filters(s)\n",
    "\n",
    "# Unique count of Commits by Project (max 100 projects)\n",
    "s = s.filter('range', grimoire_creation_date={'gte': 'now/y-2y', 'lt': 'now/y'})\n",
    "s.aggs.bucket('org', 'terms', field='author_org_name', size=10)\\\n",
    "    .bucket('time', 'date_histogram', field='grimoire_creation_date', interval='quarter')\\\n",
    "    .metric('contributors', 'cardinality', field='author_uuid', precision_threshold=100000)\n",
    "\n",
    "result = s.execute()\n",
    "\n",
    "authors_org_df = stack_by_time(result=result, group_column='Organization', time_column='Time', value_column='# Contributors',\\\n",
    "        group_field='org', time_field='time', value_field='contributors')\n"
   ]
  },
  {
   "cell_type": "code",
   "execution_count": 59,
   "metadata": {
    "collapsed": false,
    "scrolled": false
   },
   "outputs": [
    {
     "data": {
      "text/html": [
       "<script>requirejs.config({paths: { 'plotly': ['https://cdn.plot.ly/plotly-latest.min']},});if(!window.Plotly) {{require(['plotly'],function(plotly) {window.Plotly=plotly;});}}</script>"
      ],
      "text/vnd.plotly.v1+html": [
       "<script>requirejs.config({paths: { 'plotly': ['https://cdn.plot.ly/plotly-latest.min']},});if(!window.Plotly) {{require(['plotly'],function(plotly) {window.Plotly=plotly;});}}</script>"
      ]
     },
     "metadata": {},
     "output_type": "display_data"
    },
    {
     "data": {
      "application/vnd.plotly.v1+json": {
       "data": [
        {
         "name": "Mozilla Staff",
         "type": "bar",
         "x": [
          "2015-01-01T00:00:00.000Z",
          "2015-04-01T00:00:00.000Z",
          "2015-07-01T00:00:00.000Z",
          "2015-10-01T00:00:00.000Z",
          "2016-01-01T00:00:00.000Z",
          "2016-04-01T00:00:00.000Z",
          "2016-07-01T00:00:00.000Z",
          "2016-10-01T00:00:00.000Z"
         ],
         "y": [
          750,
          731,
          742,
          721,
          733,
          740,
          726,
          639
         ]
        },
        {
         "name": "Community",
         "type": "bar",
         "x": [
          "2015-01-01T00:00:00.000Z",
          "2015-04-01T00:00:00.000Z",
          "2015-07-01T00:00:00.000Z",
          "2015-10-01T00:00:00.000Z",
          "2016-01-01T00:00:00.000Z",
          "2016-04-01T00:00:00.000Z",
          "2016-07-01T00:00:00.000Z",
          "2016-10-01T00:00:00.000Z"
         ],
         "y": [
          1218,
          1138,
          983,
          1197,
          1302,
          1178,
          1226,
          959
         ]
        },
        {
         "name": "Mozilla Reps",
         "type": "bar",
         "x": [
          "2015-01-01T00:00:00.000Z",
          "2015-04-01T00:00:00.000Z",
          "2015-07-01T00:00:00.000Z",
          "2015-10-01T00:00:00.000Z",
          "2016-01-01T00:00:00.000Z",
          "2016-04-01T00:00:00.000Z",
          "2016-07-01T00:00:00.000Z",
          "2016-10-01T00:00:00.000Z"
         ],
         "y": [
          1,
          2,
          2,
          2,
          2,
          2,
          2,
          2
         ]
        }
       ],
       "layout": {
        "barmode": "stack"
       }
      },
      "text/html": [
       "<div id=\"b2f178e4-8b47-4386-a9f8-e20dabf613f7\" style=\"height: 525px; width: 100%;\" class=\"plotly-graph-div\"></div><script type=\"text/javascript\">require([\"plotly\"], function(Plotly) { window.PLOTLYENV=window.PLOTLYENV || {};window.PLOTLYENV.BASE_URL=\"https://plot.ly\";Plotly.newPlot(\"b2f178e4-8b47-4386-a9f8-e20dabf613f7\", [{\"type\": \"bar\", \"name\": \"Mozilla Staff\", \"y\": [750.0, 731.0, 742.0, 721.0, 733.0, 740.0, 726.0, 639.0], \"x\": [\"2015-01-01T00:00:00.000Z\", \"2015-04-01T00:00:00.000Z\", \"2015-07-01T00:00:00.000Z\", \"2015-10-01T00:00:00.000Z\", \"2016-01-01T00:00:00.000Z\", \"2016-04-01T00:00:00.000Z\", \"2016-07-01T00:00:00.000Z\", \"2016-10-01T00:00:00.000Z\"]}, {\"type\": \"bar\", \"name\": \"Community\", \"y\": [1218.0, 1138.0, 983.0, 1197.0, 1302.0, 1178.0, 1226.0, 959.0], \"x\": [\"2015-01-01T00:00:00.000Z\", \"2015-04-01T00:00:00.000Z\", \"2015-07-01T00:00:00.000Z\", \"2015-10-01T00:00:00.000Z\", \"2016-01-01T00:00:00.000Z\", \"2016-04-01T00:00:00.000Z\", \"2016-07-01T00:00:00.000Z\", \"2016-10-01T00:00:00.000Z\"]}, {\"type\": \"bar\", \"name\": \"Mozilla Reps\", \"y\": [1.0, 2.0, 2.0, 2.0, 2.0, 2.0, 2.0, 2.0], \"x\": [\"2015-01-01T00:00:00.000Z\", \"2015-04-01T00:00:00.000Z\", \"2015-07-01T00:00:00.000Z\", \"2015-10-01T00:00:00.000Z\", \"2016-01-01T00:00:00.000Z\", \"2016-04-01T00:00:00.000Z\", \"2016-07-01T00:00:00.000Z\", \"2016-10-01T00:00:00.000Z\"]}], {\"barmode\": \"stack\"}, {\"showLink\": true, \"linkText\": \"Export to plot.ly\"})});</script>"
      ],
      "text/vnd.plotly.v1+html": [
       "<div id=\"b2f178e4-8b47-4386-a9f8-e20dabf613f7\" style=\"height: 525px; width: 100%;\" class=\"plotly-graph-div\"></div><script type=\"text/javascript\">require([\"plotly\"], function(Plotly) { window.PLOTLYENV=window.PLOTLYENV || {};window.PLOTLYENV.BASE_URL=\"https://plot.ly\";Plotly.newPlot(\"b2f178e4-8b47-4386-a9f8-e20dabf613f7\", [{\"type\": \"bar\", \"name\": \"Mozilla Staff\", \"y\": [750.0, 731.0, 742.0, 721.0, 733.0, 740.0, 726.0, 639.0], \"x\": [\"2015-01-01T00:00:00.000Z\", \"2015-04-01T00:00:00.000Z\", \"2015-07-01T00:00:00.000Z\", \"2015-10-01T00:00:00.000Z\", \"2016-01-01T00:00:00.000Z\", \"2016-04-01T00:00:00.000Z\", \"2016-07-01T00:00:00.000Z\", \"2016-10-01T00:00:00.000Z\"]}, {\"type\": \"bar\", \"name\": \"Community\", \"y\": [1218.0, 1138.0, 983.0, 1197.0, 1302.0, 1178.0, 1226.0, 959.0], \"x\": [\"2015-01-01T00:00:00.000Z\", \"2015-04-01T00:00:00.000Z\", \"2015-07-01T00:00:00.000Z\", \"2015-10-01T00:00:00.000Z\", \"2016-01-01T00:00:00.000Z\", \"2016-04-01T00:00:00.000Z\", \"2016-07-01T00:00:00.000Z\", \"2016-10-01T00:00:00.000Z\"]}, {\"type\": \"bar\", \"name\": \"Mozilla Reps\", \"y\": [1.0, 2.0, 2.0, 2.0, 2.0, 2.0, 2.0, 2.0], \"x\": [\"2015-01-01T00:00:00.000Z\", \"2015-04-01T00:00:00.000Z\", \"2015-07-01T00:00:00.000Z\", \"2015-10-01T00:00:00.000Z\", \"2016-01-01T00:00:00.000Z\", \"2016-04-01T00:00:00.000Z\", \"2016-07-01T00:00:00.000Z\", \"2016-10-01T00:00:00.000Z\"]}], {\"barmode\": \"stack\"}, {\"showLink\": true, \"linkText\": \"Export to plot.ly\"})});</script>"
      ]
     },
     "metadata": {},
     "output_type": "display_data"
    }
   ],
   "source": [
    "print_stacked_bar(df=authors_org_df, time_column='Time', value_column='# Contributors', group_column='Organization')"
   ]
  },
  {
   "cell_type": "markdown",
   "metadata": {},
   "source": [
    "### Contributors by groups: hired by Mozilla, the rest\n",
    "#### Git"
   ]
  },
  {
   "cell_type": "code",
   "execution_count": 22,
   "metadata": {
    "collapsed": false,
    "scrolled": true
   },
   "outputs": [
    {
     "name": "stdout",
     "output_type": "stream",
     "text": [
      "Mozilla Staff -> Employees\n",
      "Community -> Non-Employees\n",
      "Code Sheriff -> Non-Employees\n"
     ]
    }
   ],
   "source": [
    "s = create_search(source='git')\n",
    "\n",
    "s = add_bot_filter(s)\n",
    "s = add_merges_filter(s)\n",
    "s = add_general_date_filters(s)\n",
    "\n",
    "# Unique count of Commits by Project (max 100 projects)\n",
    "s = s.filter('range', grimoire_creation_date={'gte': initial_date, 'lt': 'now/y'})\n",
    "s.aggs.bucket('org', 'terms', field='author_org_name', size=10)\\\n",
    "    .bucket('time', 'date_histogram', field='grimoire_creation_date', interval='quarter')\\\n",
    "    .metric('contributors', 'cardinality', field='author_uuid', precision_threshold=100000)\n",
    "\n",
    "result = s.execute()\n",
    "\n",
    "authors_org_df = stack_by_cusum(result=result, group_column='Organization', time_column='Time',\\\n",
    "                                value_column='# Contributors', group_field='org', time_field='time',\\\n",
    "                                value_field='contributors', staff_org_names=['Mozilla Staff'],\\\n",
    "                                staff_org='Employees')"
   ]
  },
  {
   "cell_type": "code",
   "execution_count": 23,
   "metadata": {
    "collapsed": false,
    "scrolled": false
   },
   "outputs": [
    {
     "data": {
      "text/html": [
       "<script>requirejs.config({paths: { 'plotly': ['https://cdn.plot.ly/plotly-latest.min']},});if(!window.Plotly) {{require(['plotly'],function(plotly) {window.Plotly=plotly;});}}</script>"
      ],
      "text/vnd.plotly.v1+html": [
       "<script>requirejs.config({paths: { 'plotly': ['https://cdn.plot.ly/plotly-latest.min']},});if(!window.Plotly) {{require(['plotly'],function(plotly) {window.Plotly=plotly;});}}</script>"
      ]
     },
     "metadata": {},
     "output_type": "display_data"
    },
    {
     "data": {
      "application/vnd.plotly.v1+json": {
       "data": [
        {
         "name": "Employees",
         "type": "bar",
         "x": [
          "2010-01-01T00:00:00.000Z",
          "2010-04-01T00:00:00.000Z",
          "2010-07-01T00:00:00.000Z",
          "2010-10-01T00:00:00.000Z",
          "2011-01-01T00:00:00.000Z",
          "2011-04-01T00:00:00.000Z",
          "2011-07-01T00:00:00.000Z",
          "2011-10-01T00:00:00.000Z",
          "2012-01-01T00:00:00.000Z",
          "2012-04-01T00:00:00.000Z",
          "2012-07-01T00:00:00.000Z",
          "2012-10-01T00:00:00.000Z",
          "2013-01-01T00:00:00.000Z",
          "2013-04-01T00:00:00.000Z",
          "2013-07-01T00:00:00.000Z",
          "2013-10-01T00:00:00.000Z",
          "2014-01-01T00:00:00.000Z",
          "2014-04-01T00:00:00.000Z",
          "2014-07-01T00:00:00.000Z",
          "2014-10-01T00:00:00.000Z",
          "2015-01-01T00:00:00.000Z",
          "2015-04-01T00:00:00.000Z",
          "2015-07-01T00:00:00.000Z",
          "2015-10-01T00:00:00.000Z",
          "2016-01-01T00:00:00.000Z",
          "2016-04-01T00:00:00.000Z",
          "2016-07-01T00:00:00.000Z",
          "2016-10-01T00:00:00.000Z"
         ],
         "y": [
          268,
          294,
          331,
          309,
          355,
          388,
          438,
          436,
          486,
          549,
          563,
          573,
          607,
          691,
          702,
          726,
          757,
          795,
          787,
          746,
          748,
          730,
          737,
          720,
          730,
          737,
          726,
          649
         ]
        },
        {
         "name": "Non-Employees",
         "type": "bar",
         "x": [
          "2010-01-01T00:00:00.000Z",
          "2010-04-01T00:00:00.000Z",
          "2010-07-01T00:00:00.000Z",
          "2010-10-01T00:00:00.000Z",
          "2011-01-01T00:00:00.000Z",
          "2011-04-01T00:00:00.000Z",
          "2011-07-01T00:00:00.000Z",
          "2011-10-01T00:00:00.000Z",
          "2012-01-01T00:00:00.000Z",
          "2012-04-01T00:00:00.000Z",
          "2012-07-01T00:00:00.000Z",
          "2012-10-01T00:00:00.000Z",
          "2013-01-01T00:00:00.000Z",
          "2013-04-01T00:00:00.000Z",
          "2013-07-01T00:00:00.000Z",
          "2013-10-01T00:00:00.000Z",
          "2014-01-01T00:00:00.000Z",
          "2014-04-01T00:00:00.000Z",
          "2014-07-01T00:00:00.000Z",
          "2014-10-01T00:00:00.000Z",
          "2015-01-01T00:00:00.000Z",
          "2015-04-01T00:00:00.000Z",
          "2015-07-01T00:00:00.000Z",
          "2015-10-01T00:00:00.000Z",
          "2016-01-01T00:00:00.000Z",
          "2016-04-01T00:00:00.000Z",
          "2016-07-01T00:00:00.000Z",
          "2016-10-01T00:00:00.000Z"
         ],
         "y": [
          229,
          266,
          309,
          270,
          315,
          350,
          356,
          380,
          441,
          445,
          414,
          465,
          535,
          617,
          595,
          695,
          810,
          886,
          938,
          1078,
          1230,
          1152,
          997,
          1209,
          1320,
          1202,
          1248,
          1041
         ]
        }
       ],
       "layout": {
        "barmode": "stack"
       }
      },
      "text/html": [
       "<div id=\"bba73ce2-d44d-481b-a26d-23dba5603ab7\" style=\"height: 525px; width: 100%;\" class=\"plotly-graph-div\"></div><script type=\"text/javascript\">require([\"plotly\"], function(Plotly) { window.PLOTLYENV=window.PLOTLYENV || {};window.PLOTLYENV.BASE_URL=\"https://plot.ly\";Plotly.newPlot(\"bba73ce2-d44d-481b-a26d-23dba5603ab7\", [{\"type\": \"bar\", \"y\": [268.0, 294.0, 331.0, 309.0, 355.0, 388.0, 438.0, 436.0, 486.0, 549.0, 563.0, 573.0, 607.0, 691.0, 702.0, 726.0, 757.0, 795.0, 787.0, 746.0, 748.0, 730.0, 737.0, 720.0, 730.0, 737.0, 726.0, 649.0], \"x\": [\"2010-01-01T00:00:00.000Z\", \"2010-04-01T00:00:00.000Z\", \"2010-07-01T00:00:00.000Z\", \"2010-10-01T00:00:00.000Z\", \"2011-01-01T00:00:00.000Z\", \"2011-04-01T00:00:00.000Z\", \"2011-07-01T00:00:00.000Z\", \"2011-10-01T00:00:00.000Z\", \"2012-01-01T00:00:00.000Z\", \"2012-04-01T00:00:00.000Z\", \"2012-07-01T00:00:00.000Z\", \"2012-10-01T00:00:00.000Z\", \"2013-01-01T00:00:00.000Z\", \"2013-04-01T00:00:00.000Z\", \"2013-07-01T00:00:00.000Z\", \"2013-10-01T00:00:00.000Z\", \"2014-01-01T00:00:00.000Z\", \"2014-04-01T00:00:00.000Z\", \"2014-07-01T00:00:00.000Z\", \"2014-10-01T00:00:00.000Z\", \"2015-01-01T00:00:00.000Z\", \"2015-04-01T00:00:00.000Z\", \"2015-07-01T00:00:00.000Z\", \"2015-10-01T00:00:00.000Z\", \"2016-01-01T00:00:00.000Z\", \"2016-04-01T00:00:00.000Z\", \"2016-07-01T00:00:00.000Z\", \"2016-10-01T00:00:00.000Z\"], \"name\": \"Employees\"}, {\"type\": \"bar\", \"y\": [229.0, 266.0, 309.0, 270.0, 315.0, 350.0, 356.0, 380.0, 441.0, 445.0, 414.0, 465.0, 535.0, 617.0, 595.0, 695.0, 810.0, 886.0, 938.0, 1078.0, 1230.0, 1152.0, 997.0, 1209.0, 1320.0, 1202.0, 1248.0, 1041.0], \"x\": [\"2010-01-01T00:00:00.000Z\", \"2010-04-01T00:00:00.000Z\", \"2010-07-01T00:00:00.000Z\", \"2010-10-01T00:00:00.000Z\", \"2011-01-01T00:00:00.000Z\", \"2011-04-01T00:00:00.000Z\", \"2011-07-01T00:00:00.000Z\", \"2011-10-01T00:00:00.000Z\", \"2012-01-01T00:00:00.000Z\", \"2012-04-01T00:00:00.000Z\", \"2012-07-01T00:00:00.000Z\", \"2012-10-01T00:00:00.000Z\", \"2013-01-01T00:00:00.000Z\", \"2013-04-01T00:00:00.000Z\", \"2013-07-01T00:00:00.000Z\", \"2013-10-01T00:00:00.000Z\", \"2014-01-01T00:00:00.000Z\", \"2014-04-01T00:00:00.000Z\", \"2014-07-01T00:00:00.000Z\", \"2014-10-01T00:00:00.000Z\", \"2015-01-01T00:00:00.000Z\", \"2015-04-01T00:00:00.000Z\", \"2015-07-01T00:00:00.000Z\", \"2015-10-01T00:00:00.000Z\", \"2016-01-01T00:00:00.000Z\", \"2016-04-01T00:00:00.000Z\", \"2016-07-01T00:00:00.000Z\", \"2016-10-01T00:00:00.000Z\"], \"name\": \"Non-Employees\"}], {\"barmode\": \"stack\"}, {\"showLink\": true, \"linkText\": \"Export to plot.ly\"})});</script>"
      ],
      "text/vnd.plotly.v1+html": [
       "<div id=\"bba73ce2-d44d-481b-a26d-23dba5603ab7\" style=\"height: 525px; width: 100%;\" class=\"plotly-graph-div\"></div><script type=\"text/javascript\">require([\"plotly\"], function(Plotly) { window.PLOTLYENV=window.PLOTLYENV || {};window.PLOTLYENV.BASE_URL=\"https://plot.ly\";Plotly.newPlot(\"bba73ce2-d44d-481b-a26d-23dba5603ab7\", [{\"type\": \"bar\", \"y\": [268.0, 294.0, 331.0, 309.0, 355.0, 388.0, 438.0, 436.0, 486.0, 549.0, 563.0, 573.0, 607.0, 691.0, 702.0, 726.0, 757.0, 795.0, 787.0, 746.0, 748.0, 730.0, 737.0, 720.0, 730.0, 737.0, 726.0, 649.0], \"x\": [\"2010-01-01T00:00:00.000Z\", \"2010-04-01T00:00:00.000Z\", \"2010-07-01T00:00:00.000Z\", \"2010-10-01T00:00:00.000Z\", \"2011-01-01T00:00:00.000Z\", \"2011-04-01T00:00:00.000Z\", \"2011-07-01T00:00:00.000Z\", \"2011-10-01T00:00:00.000Z\", \"2012-01-01T00:00:00.000Z\", \"2012-04-01T00:00:00.000Z\", \"2012-07-01T00:00:00.000Z\", \"2012-10-01T00:00:00.000Z\", \"2013-01-01T00:00:00.000Z\", \"2013-04-01T00:00:00.000Z\", \"2013-07-01T00:00:00.000Z\", \"2013-10-01T00:00:00.000Z\", \"2014-01-01T00:00:00.000Z\", \"2014-04-01T00:00:00.000Z\", \"2014-07-01T00:00:00.000Z\", \"2014-10-01T00:00:00.000Z\", \"2015-01-01T00:00:00.000Z\", \"2015-04-01T00:00:00.000Z\", \"2015-07-01T00:00:00.000Z\", \"2015-10-01T00:00:00.000Z\", \"2016-01-01T00:00:00.000Z\", \"2016-04-01T00:00:00.000Z\", \"2016-07-01T00:00:00.000Z\", \"2016-10-01T00:00:00.000Z\"], \"name\": \"Employees\"}, {\"type\": \"bar\", \"y\": [229.0, 266.0, 309.0, 270.0, 315.0, 350.0, 356.0, 380.0, 441.0, 445.0, 414.0, 465.0, 535.0, 617.0, 595.0, 695.0, 810.0, 886.0, 938.0, 1078.0, 1230.0, 1152.0, 997.0, 1209.0, 1320.0, 1202.0, 1248.0, 1041.0], \"x\": [\"2010-01-01T00:00:00.000Z\", \"2010-04-01T00:00:00.000Z\", \"2010-07-01T00:00:00.000Z\", \"2010-10-01T00:00:00.000Z\", \"2011-01-01T00:00:00.000Z\", \"2011-04-01T00:00:00.000Z\", \"2011-07-01T00:00:00.000Z\", \"2011-10-01T00:00:00.000Z\", \"2012-01-01T00:00:00.000Z\", \"2012-04-01T00:00:00.000Z\", \"2012-07-01T00:00:00.000Z\", \"2012-10-01T00:00:00.000Z\", \"2013-01-01T00:00:00.000Z\", \"2013-04-01T00:00:00.000Z\", \"2013-07-01T00:00:00.000Z\", \"2013-10-01T00:00:00.000Z\", \"2014-01-01T00:00:00.000Z\", \"2014-04-01T00:00:00.000Z\", \"2014-07-01T00:00:00.000Z\", \"2014-10-01T00:00:00.000Z\", \"2015-01-01T00:00:00.000Z\", \"2015-04-01T00:00:00.000Z\", \"2015-07-01T00:00:00.000Z\", \"2015-10-01T00:00:00.000Z\", \"2016-01-01T00:00:00.000Z\", \"2016-04-01T00:00:00.000Z\", \"2016-07-01T00:00:00.000Z\", \"2016-10-01T00:00:00.000Z\"], \"name\": \"Non-Employees\"}], {\"barmode\": \"stack\"}, {\"showLink\": true, \"linkText\": \"Export to plot.ly\"})});</script>"
      ]
     },
     "metadata": {},
     "output_type": "display_data"
    }
   ],
   "source": [
    "print_stacked_bar(df=authors_org_df, time_column='Time', value_column='# Contributors', group_column='Organization')"
   ]
  },
  {
   "cell_type": "code",
   "execution_count": 27,
   "metadata": {
    "collapsed": false
   },
   "outputs": [
    {
     "data": {
      "text/html": [
       "<script>requirejs.config({paths: { 'plotly': ['https://cdn.plot.ly/plotly-latest.min']},});if(!window.Plotly) {{require(['plotly'],function(plotly) {window.Plotly=plotly;});}}</script>"
      ],
      "text/vnd.plotly.v1+html": [
       "<script>requirejs.config({paths: { 'plotly': ['https://cdn.plot.ly/plotly-latest.min']},});if(!window.Plotly) {{require(['plotly'],function(plotly) {window.Plotly=plotly;});}}</script>"
      ]
     },
     "metadata": {},
     "output_type": "display_data"
    },
    {
     "data": {
      "application/vnd.plotly.v1+json": {
       "data": [
        {
         "type": "bar",
         "x": [
          1262304000000,
          1270080000000,
          1277942400000,
          1285891200000,
          1293840000000,
          1301616000000,
          1309478400000,
          1317427200000,
          1325376000000,
          1333238400000,
          1341100800000,
          1349049600000,
          1356998400000,
          1364774400000,
          1372636800000,
          1380585600000,
          1388534400000,
          1396310400000,
          1404172800000,
          1412121600000,
          1420070400000,
          1427846400000,
          1435708800000,
          1443657600000,
          1451606400000,
          1459468800000,
          1467331200000,
          1475280000000
         ],
         "y": [
          497,
          560,
          640,
          579,
          670,
          738,
          794,
          816,
          927,
          994,
          977,
          1038,
          1142,
          1308,
          1297,
          1421,
          1567,
          1681,
          1724,
          1824,
          1978,
          1882,
          1734,
          1928,
          2050,
          1939,
          1974,
          1690
         ]
        }
       ],
       "layout": {
        "barmode": "bar"
       }
      },
      "text/html": [
       "<div id=\"0c436951-e395-4b5a-8a2c-cf157aad1465\" style=\"height: 525px; width: 100%;\" class=\"plotly-graph-div\"></div><script type=\"text/javascript\">require([\"plotly\"], function(Plotly) { window.PLOTLYENV=window.PLOTLYENV || {};window.PLOTLYENV.BASE_URL=\"https://plot.ly\";Plotly.newPlot(\"0c436951-e395-4b5a-8a2c-cf157aad1465\", [{\"type\": \"bar\", \"y\": [497, 560, 640, 579, 670, 738, 794, 816, 927, 994, 977, 1038, 1142, 1308, 1297, 1421, 1567, 1681, 1724, 1824, 1978, 1882, 1734, 1928, 2050, 1939, 1974, 1690], \"x\": [1262304000000, 1270080000000, 1277942400000, 1285891200000, 1293840000000, 1301616000000, 1309478400000, 1317427200000, 1325376000000, 1333238400000, 1341100800000, 1349049600000, 1356998400000, 1364774400000, 1372636800000, 1380585600000, 1388534400000, 1396310400000, 1404172800000, 1412121600000, 1420070400000, 1427846400000, 1435708800000, 1443657600000, 1451606400000, 1459468800000, 1467331200000, 1475280000000]}], {\"barmode\": \"bar\"}, {\"showLink\": true, \"linkText\": \"Export to plot.ly\"})});</script>"
      ],
      "text/vnd.plotly.v1+html": [
       "<div id=\"0c436951-e395-4b5a-8a2c-cf157aad1465\" style=\"height: 525px; width: 100%;\" class=\"plotly-graph-div\"></div><script type=\"text/javascript\">require([\"plotly\"], function(Plotly) { window.PLOTLYENV=window.PLOTLYENV || {};window.PLOTLYENV.BASE_URL=\"https://plot.ly\";Plotly.newPlot(\"0c436951-e395-4b5a-8a2c-cf157aad1465\", [{\"type\": \"bar\", \"y\": [497, 560, 640, 579, 670, 738, 794, 816, 927, 994, 977, 1038, 1142, 1308, 1297, 1421, 1567, 1681, 1724, 1824, 1978, 1882, 1734, 1928, 2050, 1939, 1974, 1690], \"x\": [1262304000000, 1270080000000, 1277942400000, 1285891200000, 1293840000000, 1301616000000, 1309478400000, 1317427200000, 1325376000000, 1333238400000, 1341100800000, 1349049600000, 1356998400000, 1364774400000, 1372636800000, 1380585600000, 1388534400000, 1396310400000, 1404172800000, 1412121600000, 1420070400000, 1427846400000, 1435708800000, 1443657600000, 1451606400000, 1459468800000, 1467331200000, 1475280000000]}], {\"barmode\": \"bar\"}, {\"showLink\": true, \"linkText\": \"Export to plot.ly\"})});</script>"
      ]
     },
     "metadata": {},
     "output_type": "display_data"
    }
   ],
   "source": [
    "s = create_search(source='git')\n",
    "\n",
    "s = add_bot_filter(s)\n",
    "s = add_merges_filter(s)\n",
    "s = add_general_date_filters(s)\n",
    "\n",
    "# Unique count of Commits by Project (max 100 projects)\n",
    "s = s.filter('range', grimoire_creation_date={'gte': initial_date, 'lt': 'now/y'})\n",
    "s.aggs.bucket('time', 'date_histogram', field='grimoire_creation_date', interval='quarter')\\\n",
    "    .metric('contributors', 'cardinality', field='author_uuid', precision_threshold=100000)\n",
    "\n",
    "result = s.execute()\n",
    "\n",
    "authors_total_df = print_df(result=result, group_field='time', value_field='contributors',\n",
    "                          group_column='Time', value_column='Contributors')\n",
    "\n",
    "plotly.offline.init_notebook_mode(connected=True)\n",
    "\n",
    "bars = []\n",
    "\n",
    "bars.append(go.Bar(\n",
    "    x=authors_total_df['Time'].tolist(),\n",
    "    y=authors_total_df['Contributors'].tolist()))\n",
    "\n",
    "layout = go.Layout(\n",
    "    barmode='bar'\n",
    ")\n",
    "\n",
    "fig = go.Figure(data=bars, layout=layout)\n",
    "plotly.offline.iplot(fig, filename='bar')\n"
   ]
  },
  {
   "cell_type": "markdown",
   "metadata": {},
   "source": [
    "#### Bugzilla"
   ]
  },
  {
   "cell_type": "code",
   "execution_count": 26,
   "metadata": {
    "collapsed": false,
    "scrolled": true
   },
   "outputs": [
    {
     "name": "stdout",
     "output_type": "stream",
     "text": [
      "Mozilla Staff -> Employees\n",
      "Community -> Non-Employees\n",
      "Mozilla Reps -> Non-Employees\n"
     ]
    }
   ],
   "source": [
    "s = create_search(source='bugzilla')\n",
    "\n",
    "s = add_bot_filter(s)\n",
    "\n",
    "# Unique count of Commits by Project (max 100 projects)\n",
    "s = s.filter('range', creation_ts={'gte': initial_date, 'lt': 'now/y'})\n",
    "s.aggs.bucket('org', 'terms', field='author_org_name', size=10)\\\n",
    "    .bucket('time', 'date_histogram', field='creation_ts', interval='quarter')\\\n",
    "    .metric('contributors', 'cardinality', field='author_uuid', precision_threshold=100000)\n",
    "\n",
    "result = s.execute()\n",
    "\n",
    "authors_org_df = stack_by_cusum(result=result, group_column='Organization', time_column='Time',\\\n",
    "                                value_column='# Contributors', group_field='org', time_field='time',\\\n",
    "                                value_field='contributors', staff_org_names=['Mozilla Staff'],\\\n",
    "                                staff_org='Employees')"
   ]
  },
  {
   "cell_type": "code",
   "execution_count": 27,
   "metadata": {
    "collapsed": false,
    "scrolled": false
   },
   "outputs": [
    {
     "data": {
      "text/html": [
       "<script>requirejs.config({paths: { 'plotly': ['https://cdn.plot.ly/plotly-latest.min']},});if(!window.Plotly) {{require(['plotly'],function(plotly) {window.Plotly=plotly;});}}</script>"
      ],
      "text/vnd.plotly.v1+html": [
       "<script>requirejs.config({paths: { 'plotly': ['https://cdn.plot.ly/plotly-latest.min']},});if(!window.Plotly) {{require(['plotly'],function(plotly) {window.Plotly=plotly;});}}</script>"
      ]
     },
     "metadata": {},
     "output_type": "display_data"
    },
    {
     "data": {
      "application/vnd.plotly.v1+json": {
       "data": [
        {
         "name": "Employees",
         "type": "bar",
         "x": [
          "2010-01-01T00:00:00.000Z",
          "2010-04-01T00:00:00.000Z",
          "2010-07-01T00:00:00.000Z",
          "2010-10-01T00:00:00.000Z",
          "2011-01-01T00:00:00.000Z",
          "2011-04-01T00:00:00.000Z",
          "2011-07-01T00:00:00.000Z",
          "2011-10-01T00:00:00.000Z",
          "2012-01-01T00:00:00.000Z",
          "2012-04-01T00:00:00.000Z",
          "2012-07-01T00:00:00.000Z",
          "2012-10-01T00:00:00.000Z",
          "2013-01-01T00:00:00.000Z",
          "2013-04-01T00:00:00.000Z",
          "2013-07-01T00:00:00.000Z",
          "2013-10-01T00:00:00.000Z",
          "2014-01-01T00:00:00.000Z",
          "2014-04-01T00:00:00.000Z",
          "2014-07-01T00:00:00.000Z",
          "2014-10-01T00:00:00.000Z",
          "2015-01-01T00:00:00.000Z",
          "2015-04-01T00:00:00.000Z",
          "2015-07-01T00:00:00.000Z",
          "2015-10-01T00:00:00.000Z",
          "2016-01-01T00:00:00.000Z",
          "2016-04-01T00:00:00.000Z",
          "2016-07-01T00:00:00.000Z",
          "2016-10-01T00:00:00.000Z"
         ],
         "y": [
          499,
          525,
          593,
          579,
          636,
          637,
          700,
          725,
          767,
          848,
          833,
          863,
          900,
          1002,
          1019,
          1056,
          1084,
          1176,
          1146,
          1069,
          981,
          977,
          1000,
          924,
          872,
          848,
          810,
          753
         ]
        },
        {
         "name": "Non-Employees",
         "type": "bar",
         "x": [
          "2010-01-01T00:00:00.000Z",
          "2010-04-01T00:00:00.000Z",
          "2010-07-01T00:00:00.000Z",
          "2010-10-01T00:00:00.000Z",
          "2011-01-01T00:00:00.000Z",
          "2011-04-01T00:00:00.000Z",
          "2011-07-01T00:00:00.000Z",
          "2011-10-01T00:00:00.000Z",
          "2012-01-01T00:00:00.000Z",
          "2012-04-01T00:00:00.000Z",
          "2012-07-01T00:00:00.000Z",
          "2012-10-01T00:00:00.000Z",
          "2013-01-01T00:00:00.000Z",
          "2013-04-01T00:00:00.000Z",
          "2013-07-01T00:00:00.000Z",
          "2013-10-01T00:00:00.000Z",
          "2014-01-01T00:00:00.000Z",
          "2014-04-01T00:00:00.000Z",
          "2014-07-01T00:00:00.000Z",
          "2014-10-01T00:00:00.000Z",
          "2015-01-01T00:00:00.000Z",
          "2015-04-01T00:00:00.000Z",
          "2015-07-01T00:00:00.000Z",
          "2015-10-01T00:00:00.000Z",
          "2016-01-01T00:00:00.000Z",
          "2016-04-01T00:00:00.000Z",
          "2016-07-01T00:00:00.000Z",
          "2016-10-01T00:00:00.000Z"
         ],
         "y": [
          5434,
          4045,
          5104,
          4157,
          4995,
          3836,
          3485,
          3104,
          3374,
          3301,
          3378,
          3411,
          3338,
          3432,
          3337,
          3515,
          3251,
          3709,
          3802,
          3940,
          3551,
          3355,
          3727,
          3351,
          3196,
          3038,
          2744,
          2567
         ]
        }
       ],
       "layout": {
        "barmode": "stack"
       }
      },
      "text/html": [
       "<div id=\"11ff4e52-4e50-47c7-90b8-f704035292bc\" style=\"height: 525px; width: 100%;\" class=\"plotly-graph-div\"></div><script type=\"text/javascript\">require([\"plotly\"], function(Plotly) { window.PLOTLYENV=window.PLOTLYENV || {};window.PLOTLYENV.BASE_URL=\"https://plot.ly\";Plotly.newPlot(\"11ff4e52-4e50-47c7-90b8-f704035292bc\", [{\"type\": \"bar\", \"name\": \"Employees\", \"y\": [499.0, 525.0, 593.0, 579.0, 636.0, 637.0, 700.0, 725.0, 767.0, 848.0, 833.0, 863.0, 900.0, 1002.0, 1019.0, 1056.0, 1084.0, 1176.0, 1146.0, 1069.0, 981.0, 977.0, 1000.0, 924.0, 872.0, 848.0, 810.0, 753.0], \"x\": [\"2010-01-01T00:00:00.000Z\", \"2010-04-01T00:00:00.000Z\", \"2010-07-01T00:00:00.000Z\", \"2010-10-01T00:00:00.000Z\", \"2011-01-01T00:00:00.000Z\", \"2011-04-01T00:00:00.000Z\", \"2011-07-01T00:00:00.000Z\", \"2011-10-01T00:00:00.000Z\", \"2012-01-01T00:00:00.000Z\", \"2012-04-01T00:00:00.000Z\", \"2012-07-01T00:00:00.000Z\", \"2012-10-01T00:00:00.000Z\", \"2013-01-01T00:00:00.000Z\", \"2013-04-01T00:00:00.000Z\", \"2013-07-01T00:00:00.000Z\", \"2013-10-01T00:00:00.000Z\", \"2014-01-01T00:00:00.000Z\", \"2014-04-01T00:00:00.000Z\", \"2014-07-01T00:00:00.000Z\", \"2014-10-01T00:00:00.000Z\", \"2015-01-01T00:00:00.000Z\", \"2015-04-01T00:00:00.000Z\", \"2015-07-01T00:00:00.000Z\", \"2015-10-01T00:00:00.000Z\", \"2016-01-01T00:00:00.000Z\", \"2016-04-01T00:00:00.000Z\", \"2016-07-01T00:00:00.000Z\", \"2016-10-01T00:00:00.000Z\"]}, {\"type\": \"bar\", \"name\": \"Non-Employees\", \"y\": [5434.0, 4045.0, 5104.0, 4157.0, 4995.0, 3836.0, 3485.0, 3104.0, 3374.0, 3301.0, 3378.0, 3411.0, 3338.0, 3432.0, 3337.0, 3515.0, 3251.0, 3709.0, 3802.0, 3940.0, 3551.0, 3355.0, 3727.0, 3351.0, 3196.0, 3038.0, 2744.0, 2567.0], \"x\": [\"2010-01-01T00:00:00.000Z\", \"2010-04-01T00:00:00.000Z\", \"2010-07-01T00:00:00.000Z\", \"2010-10-01T00:00:00.000Z\", \"2011-01-01T00:00:00.000Z\", \"2011-04-01T00:00:00.000Z\", \"2011-07-01T00:00:00.000Z\", \"2011-10-01T00:00:00.000Z\", \"2012-01-01T00:00:00.000Z\", \"2012-04-01T00:00:00.000Z\", \"2012-07-01T00:00:00.000Z\", \"2012-10-01T00:00:00.000Z\", \"2013-01-01T00:00:00.000Z\", \"2013-04-01T00:00:00.000Z\", \"2013-07-01T00:00:00.000Z\", \"2013-10-01T00:00:00.000Z\", \"2014-01-01T00:00:00.000Z\", \"2014-04-01T00:00:00.000Z\", \"2014-07-01T00:00:00.000Z\", \"2014-10-01T00:00:00.000Z\", \"2015-01-01T00:00:00.000Z\", \"2015-04-01T00:00:00.000Z\", \"2015-07-01T00:00:00.000Z\", \"2015-10-01T00:00:00.000Z\", \"2016-01-01T00:00:00.000Z\", \"2016-04-01T00:00:00.000Z\", \"2016-07-01T00:00:00.000Z\", \"2016-10-01T00:00:00.000Z\"]}], {\"barmode\": \"stack\"}, {\"showLink\": true, \"linkText\": \"Export to plot.ly\"})});</script>"
      ],
      "text/vnd.plotly.v1+html": [
       "<div id=\"11ff4e52-4e50-47c7-90b8-f704035292bc\" style=\"height: 525px; width: 100%;\" class=\"plotly-graph-div\"></div><script type=\"text/javascript\">require([\"plotly\"], function(Plotly) { window.PLOTLYENV=window.PLOTLYENV || {};window.PLOTLYENV.BASE_URL=\"https://plot.ly\";Plotly.newPlot(\"11ff4e52-4e50-47c7-90b8-f704035292bc\", [{\"type\": \"bar\", \"name\": \"Employees\", \"y\": [499.0, 525.0, 593.0, 579.0, 636.0, 637.0, 700.0, 725.0, 767.0, 848.0, 833.0, 863.0, 900.0, 1002.0, 1019.0, 1056.0, 1084.0, 1176.0, 1146.0, 1069.0, 981.0, 977.0, 1000.0, 924.0, 872.0, 848.0, 810.0, 753.0], \"x\": [\"2010-01-01T00:00:00.000Z\", \"2010-04-01T00:00:00.000Z\", \"2010-07-01T00:00:00.000Z\", \"2010-10-01T00:00:00.000Z\", \"2011-01-01T00:00:00.000Z\", \"2011-04-01T00:00:00.000Z\", \"2011-07-01T00:00:00.000Z\", \"2011-10-01T00:00:00.000Z\", \"2012-01-01T00:00:00.000Z\", \"2012-04-01T00:00:00.000Z\", \"2012-07-01T00:00:00.000Z\", \"2012-10-01T00:00:00.000Z\", \"2013-01-01T00:00:00.000Z\", \"2013-04-01T00:00:00.000Z\", \"2013-07-01T00:00:00.000Z\", \"2013-10-01T00:00:00.000Z\", \"2014-01-01T00:00:00.000Z\", \"2014-04-01T00:00:00.000Z\", \"2014-07-01T00:00:00.000Z\", \"2014-10-01T00:00:00.000Z\", \"2015-01-01T00:00:00.000Z\", \"2015-04-01T00:00:00.000Z\", \"2015-07-01T00:00:00.000Z\", \"2015-10-01T00:00:00.000Z\", \"2016-01-01T00:00:00.000Z\", \"2016-04-01T00:00:00.000Z\", \"2016-07-01T00:00:00.000Z\", \"2016-10-01T00:00:00.000Z\"]}, {\"type\": \"bar\", \"name\": \"Non-Employees\", \"y\": [5434.0, 4045.0, 5104.0, 4157.0, 4995.0, 3836.0, 3485.0, 3104.0, 3374.0, 3301.0, 3378.0, 3411.0, 3338.0, 3432.0, 3337.0, 3515.0, 3251.0, 3709.0, 3802.0, 3940.0, 3551.0, 3355.0, 3727.0, 3351.0, 3196.0, 3038.0, 2744.0, 2567.0], \"x\": [\"2010-01-01T00:00:00.000Z\", \"2010-04-01T00:00:00.000Z\", \"2010-07-01T00:00:00.000Z\", \"2010-10-01T00:00:00.000Z\", \"2011-01-01T00:00:00.000Z\", \"2011-04-01T00:00:00.000Z\", \"2011-07-01T00:00:00.000Z\", \"2011-10-01T00:00:00.000Z\", \"2012-01-01T00:00:00.000Z\", \"2012-04-01T00:00:00.000Z\", \"2012-07-01T00:00:00.000Z\", \"2012-10-01T00:00:00.000Z\", \"2013-01-01T00:00:00.000Z\", \"2013-04-01T00:00:00.000Z\", \"2013-07-01T00:00:00.000Z\", \"2013-10-01T00:00:00.000Z\", \"2014-01-01T00:00:00.000Z\", \"2014-04-01T00:00:00.000Z\", \"2014-07-01T00:00:00.000Z\", \"2014-10-01T00:00:00.000Z\", \"2015-01-01T00:00:00.000Z\", \"2015-04-01T00:00:00.000Z\", \"2015-07-01T00:00:00.000Z\", \"2015-10-01T00:00:00.000Z\", \"2016-01-01T00:00:00.000Z\", \"2016-04-01T00:00:00.000Z\", \"2016-07-01T00:00:00.000Z\", \"2016-10-01T00:00:00.000Z\"]}], {\"barmode\": \"stack\"}, {\"showLink\": true, \"linkText\": \"Export to plot.ly\"})});</script>"
      ]
     },
     "metadata": {},
     "output_type": "display_data"
    }
   ],
   "source": [
    "print_stacked_bar(df=authors_org_df, time_column='Time', value_column='# Contributors', group_column='Organization')"
   ]
  },
  {
   "cell_type": "markdown",
   "metadata": {},
   "source": [
    "#### Contributors by gender\n",
    "**TODO**: Pending of running gender study over the data."
   ]
  },
  {
   "cell_type": "markdown",
   "metadata": {},
   "source": [
    "#### Number of contributors by gender over time\n",
    "**TODO**: Pending of running gender study over the data."
   ]
  },
  {
   "cell_type": "markdown",
   "metadata": {},
   "source": [
    "#### Time of first and last commit for each contributor\n",
    "**TODO** : provide plots similar to:\n",
    "Attracted developers: https://analytics.mozilla.community:443/goto/1be7d078d3dda22bf2ed097d8e465fb9\n",
    "Last commit developers: https://analytics.mozilla.community:443/goto/647ec69fc6b9d163827aa281ed3bee61"
   ]
  },
  {
   "cell_type": "markdown",
   "metadata": {},
   "source": [
    "#### Length of period of activity for each contributor\n"
   ]
  },
  {
   "cell_type": "markdown",
   "metadata": {},
   "source": [
    "#### Contributors by time zone (when possible)\n",
    "\n",
    "https://analytics.mozilla.community:443/goto/9e930eefe59a7c90331d922887b2aee6"
   ]
  },
  {
   "cell_type": "markdown",
   "metadata": {},
   "source": [
    "#### Contributors by city name (when possible)"
   ]
  }
 ],
 "metadata": {
  "kernelspec": {
   "display_name": "Python 3",
   "language": "python",
   "name": "python3"
  },
  "language_info": {
   "codemirror_mode": {
    "name": "ipython",
    "version": 3
   },
   "file_extension": ".py",
   "mimetype": "text/x-python",
   "name": "python",
   "nbconvert_exporter": "python",
   "pygments_lexer": "ipython3",
   "version": "3.5.2+"
  }
 },
 "nbformat": 4,
 "nbformat_minor": 1
}
