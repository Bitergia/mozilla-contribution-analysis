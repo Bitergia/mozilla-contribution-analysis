{
 "cells": [
  {
   "cell_type": "raw",
   "metadata": {},
   "source": [
    "<script>\n",
    "  function code_toggle() {\n",
    "    if (code_shown){\n",
    "      $('div.input').hide('500');\n",
    "      $('div.output_text').hide('500')\n",
    "      $('#toggleButton').val('Show Code')\n",
    "    } else {\n",
    "      $('div.input').show('500');\n",
    "      $('div.output_text').show('500')\n",
    "      $('#toggleButton').val('Hide Code')\n",
    "    }\n",
    "    code_shown = !code_shown\n",
    "  }\n",
    "\n",
    "  $( document ).ready(function(){\n",
    "    code_shown=false;\n",
    "    $('div.input').hide()\n",
    "    $('div.output_text').hide()\n",
    "  });\n",
    "</script>\n",
    "<form action=\"javascript:code_toggle()\"><input type=\"submit\" id=\"toggleButton\" value=\"Show Code\"></form>"
   ]
  },
  {
   "cell_type": "markdown",
   "metadata": {},
   "source": [
    "## Goal: understanding contributors\n",
    "\n",
    "The term \"community\" in this context refers to the group of people contributing to Mozilla projects. Thus, this goal could be summarized as characterizing Mozilla community based on their contributors. A contributor will be understood as a person who performs an action that can be tracked in the set of considered data sources. For example: sending a commit, opening or closing a ticket. As they will be different depending on the data source, particular actions used in each analysis will be detailed within particular goals.\n",
    "\n",
    "The main objective of this goal is to determine a set of characteristics of contributors:\n",
    "\n",
    "  * Projects: to which projects they contribute.\n",
    "  * Organizations: to which organizations they are affiliated\n",
    "  * Gender: which one is their gender\n",
    "  * Age: which one is their \"age\" in the project (time contributing)\n",
    "  * Geographical origin: where do they come from"
   ]
  },
  {
   "cell_type": "markdown",
   "metadata": {},
   "source": [
    "Those goals can be refined in the following questions:\n",
    "\n",
    "**Questions**:\n",
    "\n",
    "* Which projects can be identified?\n",
    "* Which contributors have activity related to each project?\n",
    "* Which organizations can be identified?\n",
    "* Which contributors are affiliated to each organization?\n",
    "* Which of those contributors are hired by Mozilla, and which are not?\n",
    "* Which gender are contributors?\n",
    "* How long have been contributors contributing?\n",
    "* Where do contributors come from?\n",
    "\n",
    "These questions can be answered with the following metrics/data:\n",
    "\n",
    "**Metrics**:\n",
    "\n",
    "* List of projects\n",
    "* Contributors by project\n",
    "* Number of contributors by project over time\n",
    "* List of organizations\n",
    "* Contributors by organization\n",
    "* Number of contributors by organization over time\n",
    "* Contributors by groups: hired by Mozilla, the rest\n",
    "* Contributors by gender\n",
    "* Number of contributors by gender over time\n",
    "* Time of first and last commit for each contributor\n",
    "* Length of period of activity for each contributor\n",
    "* Contributors by time zone (when possible)\n",
    "* Contributors by city name (when possible)\n",
    "\n",
    "All the characeterizations of developers (by project, by organization, by hired by Mozilla/rest, by gender, by period of activity, by time zone, by city name) can be a discriminator / grouping factor for the metrics defined for the next goals. Most of these metrics can be made particular for each of the considered data sources."
   ]
  },
  {
   "cell_type": "markdown",
   "metadata": {},
   "source": [
    "### Metric Calculations\n",
    "First we need to load a connection against the proper ES instance. We use an external module to load credentials from a file that will not be shared. If you want to run this, please use your own credentials, just put them in a file named '.settings' (in the same directory as this notebook) following the example file 'settings.sample'.\n",
    "\n"
   ]
  },
  {
   "cell_type": "code",
   "execution_count": 14,
   "metadata": {
    "collapsed": false,
    "scrolled": true
   },
   "outputs": [],
   "source": [
    "import pandas\n",
    "\n",
    "import plotly as plotly\n",
    "import plotly.figure_factory as ff\n",
    "import plotly.graph_objs as go\n",
    "\n",
    "import util as ut\n",
    "\n",
    "from util import ESConnection\n",
    "from elasticsearch_dsl import Search\n",
    "\n",
    "\n",
    "es_conn = ESConnection()"
   ]
  },
  {
   "cell_type": "code",
   "execution_count": 15,
   "metadata": {
    "collapsed": true,
    "scrolled": true
   },
   "outputs": [],
   "source": [
    "def create_search(source):\n",
    "    s = Search(using=es_conn, index=source)\n",
    "    # TODO: Add bot and merges filtering.\n",
    "    #s = s.filter('range', grimoire_creation_date={'gt': 'now/M-2y', 'lt': 'now/M'})\n",
    "    return s"
   ]
  },
  {
   "cell_type": "code",
   "execution_count": 16,
   "metadata": {
    "collapsed": true,
    "scrolled": true
   },
   "outputs": [],
   "source": [
    "def print_result(result):\n",
    "    \"\"\"In case you need to check query response, call this function\n",
    "    \"\"\"\n",
    "    print(result.to_dict()['aggregations'])"
   ]
  },
  {
   "cell_type": "code",
   "execution_count": 17,
   "metadata": {
    "collapsed": true,
    "scrolled": true
   },
   "outputs": [],
   "source": [
    "def print_df(result, group_field, value_field, group_column, value_column):\n",
    "    df = pandas.DataFrame()\n",
    "\n",
    "    df = df.from_dict(result.to_dict()['aggregations'][group_field]['buckets'])\n",
    "    df = df.drop('doc_count', axis=1)\n",
    "    df[value_field] = df[value_field].apply(lambda row: row['value'])\n",
    "    df=df[['key', value_field]]\n",
    "    df.columns = [group_column, value_column]\n",
    "\n",
    "    return df"
   ]
  },
  {
   "cell_type": "code",
   "execution_count": 18,
   "metadata": {
    "collapsed": true,
    "scrolled": true
   },
   "outputs": [],
   "source": [
    "def stack_by_time(result, group_column, time_column, value_column, group_field, time_field, value_field):\n",
    "    \"\"\"Creates a dataframe based on group and time values\n",
    "    \"\"\"\n",
    "    df = pandas.DataFrame(columns=[group_column, time_column, value_column])\n",
    "\n",
    "    for b in result.to_dict()['aggregations'][group_field]['buckets']:\n",
    "        for i in b[time_field]['buckets']:\n",
    "            df.loc[len(df)] = [b['key'], i['key_as_string'], i[value_field]['value']]\n",
    "    \n",
    "    return df\n",
    "\n",
    "def stack_by(result, group_column, subgroup_column, value_column, group_field, subgroup_field, value_field):\n",
    "    \"\"\"Creates a dataframe based on group and subgroup values\n",
    "    \"\"\"\n",
    "    df = pandas.DataFrame(columns=[group_column, subgroup_column, value_column])\n",
    "\n",
    "    for b in result.to_dict()['aggregations'][group_field]['buckets']:\n",
    "        for i in b[subgroup_field]['buckets']:\n",
    "            df.loc[len(df)] = [b['key'], i['key'], i[value_field]['value']]\n",
    "    \n",
    "    return df"
   ]
  },
  {
   "cell_type": "code",
   "execution_count": 19,
   "metadata": {
    "collapsed": true,
    "scrolled": true
   },
   "outputs": [],
   "source": [
    "def stack_by_cusum(result, group_column, time_column, value_column, group_field, time_field, value_field,\\\n",
    "                   staff_org_names, staff_org):\n",
    "    authors_org_df = pandas.DataFrame(columns=[group_column, time_column, value_column])\n",
    "\n",
    "    for b in result.to_dict()['aggregations'][group_field]['buckets']:\n",
    "        key = b['key']\n",
    "        if key in staff_org_names:\n",
    "            key = staff_org\n",
    "        else:    \n",
    "            key  = 'Non-Employees'    \n",
    "\n",
    "        print(b['key'], '->' ,key)\n",
    "\n",
    "        for i in b[time_field]['buckets']:\n",
    "\n",
    "            time = i['key_as_string']\n",
    "            contributors = i[value_field]['value']\n",
    "\n",
    "            if key in authors_org_df[group_column].unique() \\\n",
    "                and time in authors_org_df[authors_org_df[group_column] == key][time_column].tolist():\n",
    "\n",
    "                authors_org_df.loc[(authors_org_df[group_column] == key) \\\n",
    "                                     & (authors_org_df[time_column] == time),\\\n",
    "                                   value_column] += contributors\n",
    "                #print('1', key,  time, contributors)\n",
    "\n",
    "            else:\n",
    "                authors_org_df.loc[len(authors_org_df)] = [key, time, contributors]\n",
    "                #print('2', key,  time, contributors)\n",
    "    \n",
    "    return authors_org_df\n"
   ]
  },
  {
   "cell_type": "code",
   "execution_count": 20,
   "metadata": {
    "collapsed": true,
    "scrolled": true
   },
   "outputs": [],
   "source": [
    "def print_stacked_bar(df, time_column, value_column, group_column):\n",
    "    \"\"\"Print stacked bar chart from dataframe based on time_field,\n",
    "    grouped by group field.\n",
    "    \"\"\"\n",
    "    plotly.offline.init_notebook_mode(connected=True)\n",
    "\n",
    "    bars = []\n",
    "    for group in df[group_column].unique():\n",
    "        group_slice_df = df.loc[df[group_column] == group]\n",
    "        bars.append(go.Bar(\n",
    "            x=group_slice_df[time_column].tolist(),\n",
    "            y=group_slice_df[value_column].tolist(),\n",
    "            name=group))\n",
    "\n",
    "    layout = go.Layout(\n",
    "        barmode='stack'\n",
    "    )\n",
    "\n",
    "    fig = go.Figure(data=bars, layout=layout)\n",
    "    plotly.offline.iplot(fig, filename='stacked-bar')"
   ]
  },
  {
   "cell_type": "code",
   "execution_count": 21,
   "metadata": {
    "collapsed": true,
    "scrolled": true
   },
   "outputs": [],
   "source": [
    "def add_general_date_filters(s):\n",
    "    # 01/01/1998\n",
    "    initial_ts = '883609200000'\n",
    "    return s.filter('range', grimoire_creation_date={'gt': initial_ts})\n",
    "\n",
    "def add_bot_filter(s):\n",
    "    return s.filter('term', author_bot='false')\n",
    "\n",
    "def add_merges_filter(s):\n",
    "    return s.filter('range', files={'gt': 0})\n",
    "\n",
    "# Let's load projects from the REVIEWED SPREADSHEET\n",
    "projects = ut.read_projects(\"data/Contributors and Communities Analysis - Project grouping.xlsx\")\n",
    "\n",
    "initial_date = '2010-01-01'"
   ]
  },
  {
   "cell_type": "markdown",
   "metadata": {},
   "source": [
    "# Answers\n",
    "\n",
    "### List of Projects\n",
    "\n",
    "To get the list of projects we will query ES to retrieve the unique count of commits for each project. To do that, we bucketize data based on 'project' field (to a maximum of 100 projects, given by 'size' parameter set below)."
   ]
  },
  {
   "cell_type": "markdown",
   "metadata": {},
   "source": [
    "#### List of Projects: Data from Dashboard\n",
    "\n",
    "This first table shows data directly from Mozilla's dashboard. It was not removed to offer a quick comparison against new grouping (shown below this one). "
   ]
  },
  {
   "cell_type": "code",
   "execution_count": 36,
   "metadata": {
    "collapsed": false,
    "scrolled": true
   },
   "outputs": [],
   "source": [
    "s = create_search(source='git')\n",
    "\n",
    "# General filters\n",
    "s = add_general_date_filters(s)\n",
    "s = add_bot_filter(s)\n",
    "s = add_merges_filter(s)\n",
    "\n",
    "# Unique count of Commits by Project (max 100 projects)\n",
    "s.aggs.bucket('projects', 'terms', field='project', size=100)\\\n",
    "    .metric('commits', 'cardinality', field='hash', precision_threshold=100000)\n",
    "result = s.execute()"
   ]
  },
  {
   "cell_type": "code",
   "execution_count": 37,
   "metadata": {
    "collapsed": false,
    "scrolled": true
   },
   "outputs": [
    {
     "data": {
      "text/html": [
       "<div>\n",
       "<table border=\"1\" class=\"dataframe\">\n",
       "  <thead>\n",
       "    <tr style=\"text-align: right;\">\n",
       "      <th></th>\n",
       "      <th>Project</th>\n",
       "      <th># Commits</th>\n",
       "    </tr>\n",
       "  </thead>\n",
       "  <tbody>\n",
       "    <tr>\n",
       "      <th>0</th>\n",
       "      <td>mozilla</td>\n",
       "      <td>1710816</td>\n",
       "    </tr>\n",
       "    <tr>\n",
       "      <th>1</th>\n",
       "      <td>mozilla-services</td>\n",
       "      <td>137573</td>\n",
       "    </tr>\n",
       "    <tr>\n",
       "      <th>2</th>\n",
       "      <td>rust-lang</td>\n",
       "      <td>66434</td>\n",
       "    </tr>\n",
       "    <tr>\n",
       "      <th>3</th>\n",
       "      <td>servo</td>\n",
       "      <td>64383</td>\n",
       "    </tr>\n",
       "    <tr>\n",
       "      <th>4</th>\n",
       "      <td>mdn</td>\n",
       "      <td>12256</td>\n",
       "    </tr>\n",
       "    <tr>\n",
       "      <th>5</th>\n",
       "      <td>moztw</td>\n",
       "      <td>7729</td>\n",
       "    </tr>\n",
       "    <tr>\n",
       "      <th>6</th>\n",
       "      <td>mozilla-mobile</td>\n",
       "      <td>8325</td>\n",
       "    </tr>\n",
       "    <tr>\n",
       "      <th>7</th>\n",
       "      <td>aframevr</td>\n",
       "      <td>5637</td>\n",
       "    </tr>\n",
       "    <tr>\n",
       "      <th>8</th>\n",
       "      <td>mozmar</td>\n",
       "      <td>5388</td>\n",
       "    </tr>\n",
       "    <tr>\n",
       "      <th>9</th>\n",
       "      <td>mozilla-japan</td>\n",
       "      <td>4794</td>\n",
       "    </tr>\n",
       "    <tr>\n",
       "      <th>10</th>\n",
       "      <td>MozillaCZ</td>\n",
       "      <td>4024</td>\n",
       "    </tr>\n",
       "    <tr>\n",
       "      <th>11</th>\n",
       "      <td>mozillascience</td>\n",
       "      <td>3575</td>\n",
       "    </tr>\n",
       "    <tr>\n",
       "      <th>12</th>\n",
       "      <td>Mozilla-TWQA</td>\n",
       "      <td>2924</td>\n",
       "    </tr>\n",
       "    <tr>\n",
       "      <th>13</th>\n",
       "      <td>mozillach</td>\n",
       "      <td>2604</td>\n",
       "    </tr>\n",
       "    <tr>\n",
       "      <th>14</th>\n",
       "      <td>mozillabrasil</td>\n",
       "      <td>1786</td>\n",
       "    </tr>\n",
       "    <tr>\n",
       "      <th>15</th>\n",
       "      <td>browserhtml</td>\n",
       "      <td>1543</td>\n",
       "    </tr>\n",
       "    <tr>\n",
       "      <th>16</th>\n",
       "      <td>mozfr</td>\n",
       "      <td>1514</td>\n",
       "    </tr>\n",
       "    <tr>\n",
       "      <th>17</th>\n",
       "      <td>mozillahispano</td>\n",
       "      <td>1470</td>\n",
       "    </tr>\n",
       "    <tr>\n",
       "      <th>18</th>\n",
       "      <td>MozVR</td>\n",
       "      <td>1360</td>\n",
       "    </tr>\n",
       "    <tr>\n",
       "      <th>19</th>\n",
       "      <td>MozillaTN</td>\n",
       "      <td>1185</td>\n",
       "    </tr>\n",
       "    <tr>\n",
       "      <th>20</th>\n",
       "      <td>MozillaFoundation</td>\n",
       "      <td>1069</td>\n",
       "    </tr>\n",
       "    <tr>\n",
       "      <th>21</th>\n",
       "      <td>MozillaKerala</td>\n",
       "      <td>915</td>\n",
       "    </tr>\n",
       "    <tr>\n",
       "      <th>22</th>\n",
       "      <td>mozdevs</td>\n",
       "      <td>828</td>\n",
       "    </tr>\n",
       "    <tr>\n",
       "      <th>23</th>\n",
       "      <td>mozillaitalia</td>\n",
       "      <td>415</td>\n",
       "    </tr>\n",
       "    <tr>\n",
       "      <th>24</th>\n",
       "      <td>mozillaperu</td>\n",
       "      <td>133</td>\n",
       "    </tr>\n",
       "    <tr>\n",
       "      <th>25</th>\n",
       "      <td>mozillavenezuela</td>\n",
       "      <td>47</td>\n",
       "    </tr>\n",
       "    <tr>\n",
       "      <th>26</th>\n",
       "      <td>mozillacampusclubs</td>\n",
       "      <td>30</td>\n",
       "    </tr>\n",
       "    <tr>\n",
       "      <th>27</th>\n",
       "      <td>mozillaph</td>\n",
       "      <td>29</td>\n",
       "    </tr>\n",
       "  </tbody>\n",
       "</table>\n",
       "</div>"
      ],
      "text/plain": [
       "               Project  # Commits\n",
       "0              mozilla    1710816\n",
       "1     mozilla-services     137573\n",
       "2            rust-lang      66434\n",
       "3                servo      64383\n",
       "4                  mdn      12256\n",
       "5                moztw       7729\n",
       "6       mozilla-mobile       8325\n",
       "7             aframevr       5637\n",
       "8               mozmar       5388\n",
       "9        mozilla-japan       4794\n",
       "10           MozillaCZ       4024\n",
       "11      mozillascience       3575\n",
       "12        Mozilla-TWQA       2924\n",
       "13           mozillach       2604\n",
       "14       mozillabrasil       1786\n",
       "15         browserhtml       1543\n",
       "16               mozfr       1514\n",
       "17      mozillahispano       1470\n",
       "18               MozVR       1360\n",
       "19           MozillaTN       1185\n",
       "20   MozillaFoundation       1069\n",
       "21       MozillaKerala        915\n",
       "22             mozdevs        828\n",
       "23       mozillaitalia        415\n",
       "24         mozillaperu        133\n",
       "25    mozillavenezuela         47\n",
       "26  mozillacampusclubs         30\n",
       "27           mozillaph         29"
      ]
     },
     "execution_count": 37,
     "metadata": {},
     "output_type": "execute_result"
    }
   ],
   "source": [
    "print_df(result=result, group_field='projects', value_field='commits', \\\n",
    "         group_column='Project', value_column='# Commits')"
   ]
  },
  {
   "cell_type": "markdown",
   "metadata": {},
   "source": [
    "#### List of Projects: Data from new grouping\n",
    "\n",
    "Following table shows projects based on the spreadsheet with the new grouping."
   ]
  },
  {
   "cell_type": "code",
   "execution_count": 128,
   "metadata": {
    "collapsed": false,
    "scrolled": true
   },
   "outputs": [
    {
     "data": {
      "text/html": [
       "<script>requirejs.config({paths: { 'plotly': ['https://cdn.plot.ly/plotly-latest.min']},});if(!window.Plotly) {{require(['plotly'],function(plotly) {window.Plotly=plotly;});}}</script>"
      ],
      "text/vnd.plotly.v1+html": [
       "<script>requirejs.config({paths: { 'plotly': ['https://cdn.plot.ly/plotly-latest.min']},});if(!window.Plotly) {{require(['plotly'],function(plotly) {window.Plotly=plotly;});}}</script>"
      ]
     },
     "metadata": {},
     "output_type": "display_data"
    },
    {
     "data": {
      "application/vnd.plotly.v1+json": {
       "data": [
        {
         "colorscale": [
          [
           0,
           "#00083e"
          ],
          [
           0.5,
           "#ededee"
          ],
          [
           1,
           "#ffffff"
          ]
         ],
         "hoverinfo": "none",
         "opacity": 0.75,
         "showscale": false,
         "type": "heatmap",
         "z": [
          [
           0,
           0,
           0,
           0
          ],
          [
           0.5,
           0.5,
           0.5,
           0.5
          ],
          [
           1,
           1,
           1,
           1
          ],
          [
           0.5,
           0.5,
           0.5,
           0.5
          ],
          [
           1,
           1,
           1,
           1
          ],
          [
           0.5,
           0.5,
           0.5,
           0.5
          ],
          [
           1,
           1,
           1,
           1
          ],
          [
           0.5,
           0.5,
           0.5,
           0.5
          ],
          [
           1,
           1,
           1,
           1
          ],
          [
           0.5,
           0.5,
           0.5,
           0.5
          ],
          [
           1,
           1,
           1,
           1
          ],
          [
           0.5,
           0.5,
           0.5,
           0.5
          ],
          [
           1,
           1,
           1,
           1
          ],
          [
           0.5,
           0.5,
           0.5,
           0.5
          ],
          [
           1,
           1,
           1,
           1
          ],
          [
           0.5,
           0.5,
           0.5,
           0.5
          ],
          [
           1,
           1,
           1,
           1
          ],
          [
           0.5,
           0.5,
           0.5,
           0.5
          ],
          [
           1,
           1,
           1,
           1
          ],
          [
           0.5,
           0.5,
           0.5,
           0.5
          ],
          [
           1,
           1,
           1,
           1
          ],
          [
           0.5,
           0.5,
           0.5,
           0.5
          ],
          [
           1,
           1,
           1,
           1
          ],
          [
           0.5,
           0.5,
           0.5,
           0.5
          ],
          [
           1,
           1,
           1,
           1
          ],
          [
           0.5,
           0.5,
           0.5,
           0.5
          ],
          [
           1,
           1,
           1,
           1
          ],
          [
           0.5,
           0.5,
           0.5,
           0.5
          ],
          [
           1,
           1,
           1,
           1
          ],
          [
           0.5,
           0.5,
           0.5,
           0.5
          ],
          [
           1,
           1,
           1,
           1
          ],
          [
           0.5,
           0.5,
           0.5,
           0.5
          ],
          [
           1,
           1,
           1,
           1
          ],
          [
           0.5,
           0.5,
           0.5,
           0.5
          ],
          [
           1,
           1,
           1,
           1
          ],
          [
           0.5,
           0.5,
           0.5,
           0.5
          ],
          [
           1,
           1,
           1,
           1
          ],
          [
           0.5,
           0.5,
           0.5,
           0.5
          ],
          [
           1,
           1,
           1,
           1
          ],
          [
           0.5,
           0.5,
           0.5,
           0.5
          ],
          [
           1,
           1,
           1,
           1
          ],
          [
           0.5,
           0.5,
           0.5,
           0.5
          ],
          [
           1,
           1,
           1,
           1
          ],
          [
           0.5,
           0.5,
           0.5,
           0.5
          ],
          [
           1,
           1,
           1,
           1
          ],
          [
           0.5,
           0.5,
           0.5,
           0.5
          ],
          [
           1,
           1,
           1,
           1
          ],
          [
           0.5,
           0.5,
           0.5,
           0.5
          ],
          [
           1,
           1,
           1,
           1
          ],
          [
           0.5,
           0.5,
           0.5,
           0.5
          ],
          [
           1,
           1,
           1,
           1
          ],
          [
           0.5,
           0.5,
           0.5,
           0.5
          ],
          [
           1,
           1,
           1,
           1
          ],
          [
           0.5,
           0.5,
           0.5,
           0.5
          ],
          [
           1,
           1,
           1,
           1
          ],
          [
           0.5,
           0.5,
           0.5,
           0.5
          ],
          [
           1,
           1,
           1,
           1
          ],
          [
           0.5,
           0.5,
           0.5,
           0.5
          ],
          [
           1,
           1,
           1,
           1
          ],
          [
           0.5,
           0.5,
           0.5,
           0.5
          ],
          [
           1,
           1,
           1,
           1
          ],
          [
           0.5,
           0.5,
           0.5,
           0.5
          ],
          [
           1,
           1,
           1,
           1
          ],
          [
           0.5,
           0.5,
           0.5,
           0.5
          ],
          [
           1,
           1,
           1,
           1
          ],
          [
           0.5,
           0.5,
           0.5,
           0.5
          ],
          [
           1,
           1,
           1,
           1
          ],
          [
           0.5,
           0.5,
           0.5,
           0.5
          ],
          [
           1,
           1,
           1,
           1
          ],
          [
           0.5,
           0.5,
           0.5,
           0.5
          ],
          [
           1,
           1,
           1,
           1
          ]
         ]
        }
       ],
       "layout": {
        "annotations": [
         {
          "align": "left",
          "font": {
           "color": "#ffffff"
          },
          "showarrow": false,
          "text": "<b>Project</b>",
          "x": -0.45,
          "xanchor": "left",
          "xref": "x1",
          "y": 0,
          "yref": "y1"
         },
         {
          "align": "left",
          "font": {
           "color": "#ffffff"
          },
          "showarrow": false,
          "text": "<b>Org</b>",
          "x": 0.55,
          "xanchor": "left",
          "xref": "x1",
          "y": 0,
          "yref": "y1"
         },
         {
          "align": "left",
          "font": {
           "color": "#ffffff"
          },
          "showarrow": false,
          "text": "<b># Commits</b>",
          "x": 1.55,
          "xanchor": "left",
          "xref": "x1",
          "y": 0,
          "yref": "y1"
         },
         {
          "align": "left",
          "font": {
           "color": "#ffffff"
          },
          "showarrow": false,
          "text": "<b>Repo</b>",
          "x": 2.55,
          "xanchor": "left",
          "xref": "x1",
          "y": 0,
          "yref": "y1"
         },
         {
          "align": "left",
          "font": {
           "color": "#000000"
          },
          "showarrow": false,
          "text": "Gecko",
          "x": -0.45,
          "xanchor": "left",
          "xref": "x1",
          "y": 1,
          "yref": "y1"
         },
         {
          "align": "left",
          "font": {
           "color": "#000000"
          },
          "showarrow": false,
          "text": "Mozilla Staff",
          "x": 0.55,
          "xanchor": "left",
          "xref": "x1",
          "y": 1,
          "yref": "y1"
         },
         {
          "align": "left",
          "font": {
           "color": "#000000"
          },
          "showarrow": false,
          "text": "919257.0",
          "x": 1.55,
          "xanchor": "left",
          "xref": "x1",
          "y": 1,
          "yref": "y1"
         },
         {
          "align": "left",
          "font": {
           "color": "#000000"
          },
          "showarrow": false,
          "text": "5",
          "x": 2.55,
          "xanchor": "left",
          "xref": "x1",
          "y": 1,
          "yref": "y1"
         },
         {
          "align": "left",
          "font": {
           "color": "#000000"
          },
          "showarrow": false,
          "text": "Gecko",
          "x": -0.45,
          "xanchor": "left",
          "xref": "x1",
          "y": 2,
          "yref": "y1"
         },
         {
          "align": "left",
          "font": {
           "color": "#000000"
          },
          "showarrow": false,
          "text": "Community",
          "x": 0.55,
          "xanchor": "left",
          "xref": "x1",
          "y": 2,
          "yref": "y1"
         },
         {
          "align": "left",
          "font": {
           "color": "#000000"
          },
          "showarrow": false,
          "text": "425772.0",
          "x": 1.55,
          "xanchor": "left",
          "xref": "x1",
          "y": 2,
          "yref": "y1"
         },
         {
          "align": "left",
          "font": {
           "color": "#000000"
          },
          "showarrow": false,
          "text": "5",
          "x": 2.55,
          "xanchor": "left",
          "xref": "x1",
          "y": 2,
          "yref": "y1"
         },
         {
          "align": "left",
          "font": {
           "color": "#000000"
          },
          "showarrow": false,
          "text": "IT/Ops",
          "x": -0.45,
          "xanchor": "left",
          "xref": "x1",
          "y": 3,
          "yref": "y1"
         },
         {
          "align": "left",
          "font": {
           "color": "#000000"
          },
          "showarrow": false,
          "text": "Mozilla Staff",
          "x": 0.55,
          "xanchor": "left",
          "xref": "x1",
          "y": 3,
          "yref": "y1"
         },
         {
          "align": "left",
          "font": {
           "color": "#000000"
          },
          "showarrow": false,
          "text": "116455.0",
          "x": 1.55,
          "xanchor": "left",
          "xref": "x1",
          "y": 3,
          "yref": "y1"
         },
         {
          "align": "left",
          "font": {
           "color": "#000000"
          },
          "showarrow": false,
          "text": "182",
          "x": 2.55,
          "xanchor": "left",
          "xref": "x1",
          "y": 3,
          "yref": "y1"
         },
         {
          "align": "left",
          "font": {
           "color": "#000000"
          },
          "showarrow": false,
          "text": "Web Properties",
          "x": -0.45,
          "xanchor": "left",
          "xref": "x1",
          "y": 4,
          "yref": "y1"
         },
         {
          "align": "left",
          "font": {
           "color": "#000000"
          },
          "showarrow": false,
          "text": "Mozilla Staff",
          "x": 0.55,
          "xanchor": "left",
          "xref": "x1",
          "y": 4,
          "yref": "y1"
         },
         {
          "align": "left",
          "font": {
           "color": "#000000"
          },
          "showarrow": false,
          "text": "74223.0",
          "x": 1.55,
          "xanchor": "left",
          "xref": "x1",
          "y": 4,
          "yref": "y1"
         },
         {
          "align": "left",
          "font": {
           "color": "#000000"
          },
          "showarrow": false,
          "text": "113",
          "x": 2.55,
          "xanchor": "left",
          "xref": "x1",
          "y": 4,
          "yref": "y1"
         },
         {
          "align": "left",
          "font": {
           "color": "#000000"
          },
          "showarrow": false,
          "text": "Addons/Web Extensions",
          "x": -0.45,
          "xanchor": "left",
          "xref": "x1",
          "y": 5,
          "yref": "y1"
         },
         {
          "align": "left",
          "font": {
           "color": "#000000"
          },
          "showarrow": false,
          "text": "Mozilla Staff",
          "x": 0.55,
          "xanchor": "left",
          "xref": "x1",
          "y": 5,
          "yref": "y1"
         },
         {
          "align": "left",
          "font": {
           "color": "#000000"
          },
          "showarrow": false,
          "text": "54231.0",
          "x": 1.55,
          "xanchor": "left",
          "xref": "x1",
          "y": 5,
          "yref": "y1"
         },
         {
          "align": "left",
          "font": {
           "color": "#000000"
          },
          "showarrow": false,
          "text": "19",
          "x": 2.55,
          "xanchor": "left",
          "xref": "x1",
          "y": 5,
          "yref": "y1"
         },
         {
          "align": "left",
          "font": {
           "color": "#000000"
          },
          "showarrow": false,
          "text": "Rust",
          "x": -0.45,
          "xanchor": "left",
          "xref": "x1",
          "y": 6,
          "yref": "y1"
         },
         {
          "align": "left",
          "font": {
           "color": "#000000"
          },
          "showarrow": false,
          "text": "Mozilla Staff",
          "x": 0.55,
          "xanchor": "left",
          "xref": "x1",
          "y": 6,
          "yref": "y1"
         },
         {
          "align": "left",
          "font": {
           "color": "#000000"
          },
          "showarrow": false,
          "text": "35783.0",
          "x": 1.55,
          "xanchor": "left",
          "xref": "x1",
          "y": 6,
          "yref": "y1"
         },
         {
          "align": "left",
          "font": {
           "color": "#000000"
          },
          "showarrow": false,
          "text": "27",
          "x": 2.55,
          "xanchor": "left",
          "xref": "x1",
          "y": 6,
          "yref": "y1"
         },
         {
          "align": "left",
          "font": {
           "color": "#000000"
          },
          "showarrow": false,
          "text": "Servo",
          "x": -0.45,
          "xanchor": "left",
          "xref": "x1",
          "y": 7,
          "yref": "y1"
         },
         {
          "align": "left",
          "font": {
           "color": "#000000"
          },
          "showarrow": false,
          "text": "Mozilla Staff",
          "x": 0.55,
          "xanchor": "left",
          "xref": "x1",
          "y": 7,
          "yref": "y1"
         },
         {
          "align": "left",
          "font": {
           "color": "#000000"
          },
          "showarrow": false,
          "text": "33441.0",
          "x": 1.55,
          "xanchor": "left",
          "xref": "x1",
          "y": 7,
          "yref": "y1"
         },
         {
          "align": "left",
          "font": {
           "color": "#000000"
          },
          "showarrow": false,
          "text": "81",
          "x": 2.55,
          "xanchor": "left",
          "xref": "x1",
          "y": 7,
          "yref": "y1"
         },
         {
          "align": "left",
          "font": {
           "color": "#000000"
          },
          "showarrow": false,
          "text": "Servo",
          "x": -0.45,
          "xanchor": "left",
          "xref": "x1",
          "y": 8,
          "yref": "y1"
         },
         {
          "align": "left",
          "font": {
           "color": "#000000"
          },
          "showarrow": false,
          "text": "Community",
          "x": 0.55,
          "xanchor": "left",
          "xref": "x1",
          "y": 8,
          "yref": "y1"
         },
         {
          "align": "left",
          "font": {
           "color": "#000000"
          },
          "showarrow": false,
          "text": "32519.0",
          "x": 1.55,
          "xanchor": "left",
          "xref": "x1",
          "y": 8,
          "yref": "y1"
         },
         {
          "align": "left",
          "font": {
           "color": "#000000"
          },
          "showarrow": false,
          "text": "73",
          "x": 2.55,
          "xanchor": "left",
          "xref": "x1",
          "y": 8,
          "yref": "y1"
         },
         {
          "align": "left",
          "font": {
           "color": "#000000"
          },
          "showarrow": false,
          "text": "Rust",
          "x": -0.45,
          "xanchor": "left",
          "xref": "x1",
          "y": 9,
          "yref": "y1"
         },
         {
          "align": "left",
          "font": {
           "color": "#000000"
          },
          "showarrow": false,
          "text": "Community",
          "x": 0.55,
          "xanchor": "left",
          "xref": "x1",
          "y": 9,
          "yref": "y1"
         },
         {
          "align": "left",
          "font": {
           "color": "#000000"
          },
          "showarrow": false,
          "text": "30541.0",
          "x": 1.55,
          "xanchor": "left",
          "xref": "x1",
          "y": 9,
          "yref": "y1"
         },
         {
          "align": "left",
          "font": {
           "color": "#000000"
          },
          "showarrow": false,
          "text": "25",
          "x": 2.55,
          "xanchor": "left",
          "xref": "x1",
          "y": 9,
          "yref": "y1"
         },
         {
          "align": "left",
          "font": {
           "color": "#000000"
          },
          "showarrow": false,
          "text": "IT/Ops",
          "x": -0.45,
          "xanchor": "left",
          "xref": "x1",
          "y": 10,
          "yref": "y1"
         },
         {
          "align": "left",
          "font": {
           "color": "#000000"
          },
          "showarrow": false,
          "text": "Community",
          "x": 0.55,
          "xanchor": "left",
          "xref": "x1",
          "y": 10,
          "yref": "y1"
         },
         {
          "align": "left",
          "font": {
           "color": "#000000"
          },
          "showarrow": false,
          "text": "25816.0",
          "x": 1.55,
          "xanchor": "left",
          "xref": "x1",
          "y": 10,
          "yref": "y1"
         },
         {
          "align": "left",
          "font": {
           "color": "#000000"
          },
          "showarrow": false,
          "text": "75",
          "x": 2.55,
          "xanchor": "left",
          "xref": "x1",
          "y": 10,
          "yref": "y1"
         },
         {
          "align": "left",
          "font": {
           "color": "#000000"
          },
          "showarrow": false,
          "text": "Release engineering",
          "x": -0.45,
          "xanchor": "left",
          "xref": "x1",
          "y": 11,
          "yref": "y1"
         },
         {
          "align": "left",
          "font": {
           "color": "#000000"
          },
          "showarrow": false,
          "text": "Mozilla Staff",
          "x": 0.55,
          "xanchor": "left",
          "xref": "x1",
          "y": 11,
          "yref": "y1"
         },
         {
          "align": "left",
          "font": {
           "color": "#000000"
          },
          "showarrow": false,
          "text": "14838.0",
          "x": 1.55,
          "xanchor": "left",
          "xref": "x1",
          "y": 11,
          "yref": "y1"
         },
         {
          "align": "left",
          "font": {
           "color": "#000000"
          },
          "showarrow": false,
          "text": "22",
          "x": 2.55,
          "xanchor": "left",
          "xref": "x1",
          "y": 11,
          "yref": "y1"
         },
         {
          "align": "left",
          "font": {
           "color": "#000000"
          },
          "showarrow": false,
          "text": "Web Properties",
          "x": -0.45,
          "xanchor": "left",
          "xref": "x1",
          "y": 12,
          "yref": "y1"
         },
         {
          "align": "left",
          "font": {
           "color": "#000000"
          },
          "showarrow": false,
          "text": "Community",
          "x": 0.55,
          "xanchor": "left",
          "xref": "x1",
          "y": 12,
          "yref": "y1"
         },
         {
          "align": "left",
          "font": {
           "color": "#000000"
          },
          "showarrow": false,
          "text": "12698.0",
          "x": 1.55,
          "xanchor": "left",
          "xref": "x1",
          "y": 12,
          "yref": "y1"
         },
         {
          "align": "left",
          "font": {
           "color": "#000000"
          },
          "showarrow": false,
          "text": "91",
          "x": 2.55,
          "xanchor": "left",
          "xref": "x1",
          "y": 12,
          "yref": "y1"
         },
         {
          "align": "left",
          "font": {
           "color": "#000000"
          },
          "showarrow": false,
          "text": "Mozilla Local/Regional communities",
          "x": -0.45,
          "xanchor": "left",
          "xref": "x1",
          "y": 13,
          "yref": "y1"
         },
         {
          "align": "left",
          "font": {
           "color": "#000000"
          },
          "showarrow": false,
          "text": "Community",
          "x": 0.55,
          "xanchor": "left",
          "xref": "x1",
          "y": 13,
          "yref": "y1"
         },
         {
          "align": "left",
          "font": {
           "color": "#000000"
          },
          "showarrow": false,
          "text": "9755.0",
          "x": 1.55,
          "xanchor": "left",
          "xref": "x1",
          "y": 13,
          "yref": "y1"
         },
         {
          "align": "left",
          "font": {
           "color": "#000000"
          },
          "showarrow": false,
          "text": "143",
          "x": 2.55,
          "xanchor": "left",
          "xref": "x1",
          "y": 13,
          "yref": "y1"
         },
         {
          "align": "left",
          "font": {
           "color": "#000000"
          },
          "showarrow": false,
          "text": "Mozilla Local/Regional communities",
          "x": -0.45,
          "xanchor": "left",
          "xref": "x1",
          "y": 14,
          "yref": "y1"
         },
         {
          "align": "left",
          "font": {
           "color": "#000000"
          },
          "showarrow": false,
          "text": "Mozilla Staff",
          "x": 0.55,
          "xanchor": "left",
          "xref": "x1",
          "y": 14,
          "yref": "y1"
         },
         {
          "align": "left",
          "font": {
           "color": "#000000"
          },
          "showarrow": false,
          "text": "7460.0",
          "x": 1.55,
          "xanchor": "left",
          "xref": "x1",
          "y": 14,
          "yref": "y1"
         },
         {
          "align": "left",
          "font": {
           "color": "#000000"
          },
          "showarrow": false,
          "text": "77",
          "x": 2.55,
          "xanchor": "left",
          "xref": "x1",
          "y": 14,
          "yref": "y1"
         },
         {
          "align": "left",
          "font": {
           "color": "#000000"
          },
          "showarrow": false,
          "text": "Addons/Web Extensions",
          "x": -0.45,
          "xanchor": "left",
          "xref": "x1",
          "y": 15,
          "yref": "y1"
         },
         {
          "align": "left",
          "font": {
           "color": "#000000"
          },
          "showarrow": false,
          "text": "Community",
          "x": 0.55,
          "xanchor": "left",
          "xref": "x1",
          "y": 15,
          "yref": "y1"
         },
         {
          "align": "left",
          "font": {
           "color": "#000000"
          },
          "showarrow": false,
          "text": "7341.0",
          "x": 1.55,
          "xanchor": "left",
          "xref": "x1",
          "y": 15,
          "yref": "y1"
         },
         {
          "align": "left",
          "font": {
           "color": "#000000"
          },
          "showarrow": false,
          "text": "11",
          "x": 2.55,
          "xanchor": "left",
          "xref": "x1",
          "y": 15,
          "yref": "y1"
         },
         {
          "align": "left",
          "font": {
           "color": "#000000"
          },
          "showarrow": false,
          "text": "Web Literacy",
          "x": -0.45,
          "xanchor": "left",
          "xref": "x1",
          "y": 16,
          "yref": "y1"
         },
         {
          "align": "left",
          "font": {
           "color": "#000000"
          },
          "showarrow": false,
          "text": "Community",
          "x": 0.55,
          "xanchor": "left",
          "xref": "x1",
          "y": 16,
          "yref": "y1"
         },
         {
          "align": "left",
          "font": {
           "color": "#000000"
          },
          "showarrow": false,
          "text": "7330.0",
          "x": 1.55,
          "xanchor": "left",
          "xref": "x1",
          "y": 16,
          "yref": "y1"
         },
         {
          "align": "left",
          "font": {
           "color": "#000000"
          },
          "showarrow": false,
          "text": "40",
          "x": 2.55,
          "xanchor": "left",
          "xref": "x1",
          "y": 16,
          "yref": "y1"
         },
         {
          "align": "left",
          "font": {
           "color": "#000000"
          },
          "showarrow": false,
          "text": "Web Literacy",
          "x": -0.45,
          "xanchor": "left",
          "xref": "x1",
          "y": 17,
          "yref": "y1"
         },
         {
          "align": "left",
          "font": {
           "color": "#000000"
          },
          "showarrow": false,
          "text": "Mozilla Staff",
          "x": 0.55,
          "xanchor": "left",
          "xref": "x1",
          "y": 17,
          "yref": "y1"
         },
         {
          "align": "left",
          "font": {
           "color": "#000000"
          },
          "showarrow": false,
          "text": "6587.0",
          "x": 1.55,
          "xanchor": "left",
          "xref": "x1",
          "y": 17,
          "yref": "y1"
         },
         {
          "align": "left",
          "font": {
           "color": "#000000"
          },
          "showarrow": false,
          "text": "51",
          "x": 2.55,
          "xanchor": "left",
          "xref": "x1",
          "y": 17,
          "yref": "y1"
         },
         {
          "align": "left",
          "font": {
           "color": "#000000"
          },
          "showarrow": false,
          "text": "Firefox OS (FxOS / B2G)",
          "x": -0.45,
          "xanchor": "left",
          "xref": "x1",
          "y": 18,
          "yref": "y1"
         },
         {
          "align": "left",
          "font": {
           "color": "#000000"
          },
          "showarrow": false,
          "text": "Mozilla Staff",
          "x": 0.55,
          "xanchor": "left",
          "xref": "x1",
          "y": 18,
          "yref": "y1"
         },
         {
          "align": "left",
          "font": {
           "color": "#000000"
          },
          "showarrow": false,
          "text": "5940.0",
          "x": 1.55,
          "xanchor": "left",
          "xref": "x1",
          "y": 18,
          "yref": "y1"
         },
         {
          "align": "left",
          "font": {
           "color": "#000000"
          },
          "showarrow": false,
          "text": "26",
          "x": 2.55,
          "xanchor": "left",
          "xref": "x1",
          "y": 18,
          "yref": "y1"
         },
         {
          "align": "left",
          "font": {
           "color": "#000000"
          },
          "showarrow": false,
          "text": "Firefox iOS",
          "x": -0.45,
          "xanchor": "left",
          "xref": "x1",
          "y": 19,
          "yref": "y1"
         },
         {
          "align": "left",
          "font": {
           "color": "#000000"
          },
          "showarrow": false,
          "text": "Mozilla Staff",
          "x": 0.55,
          "xanchor": "left",
          "xref": "x1",
          "y": 19,
          "yref": "y1"
         },
         {
          "align": "left",
          "font": {
           "color": "#000000"
          },
          "showarrow": false,
          "text": "5777.0",
          "x": 1.55,
          "xanchor": "left",
          "xref": "x1",
          "y": 19,
          "yref": "y1"
         },
         {
          "align": "left",
          "font": {
           "color": "#000000"
          },
          "showarrow": false,
          "text": "5",
          "x": 2.55,
          "xanchor": "left",
          "xref": "x1",
          "y": 19,
          "yref": "y1"
         },
         {
          "align": "left",
          "font": {
           "color": "#000000"
          },
          "showarrow": false,
          "text": "WebVR",
          "x": -0.45,
          "xanchor": "left",
          "xref": "x1",
          "y": 20,
          "yref": "y1"
         },
         {
          "align": "left",
          "font": {
           "color": "#000000"
          },
          "showarrow": false,
          "text": "Mozilla Staff",
          "x": 0.55,
          "xanchor": "left",
          "xref": "x1",
          "y": 20,
          "yref": "y1"
         },
         {
          "align": "left",
          "font": {
           "color": "#000000"
          },
          "showarrow": false,
          "text": "5764.0",
          "x": 1.55,
          "xanchor": "left",
          "xref": "x1",
          "y": 20,
          "yref": "y1"
         },
         {
          "align": "left",
          "font": {
           "color": "#000000"
          },
          "showarrow": false,
          "text": "29",
          "x": 2.55,
          "xanchor": "left",
          "xref": "x1",
          "y": 20,
          "yref": "y1"
         },
         {
          "align": "left",
          "font": {
           "color": "#000000"
          },
          "showarrow": false,
          "text": "Quality Assurance",
          "x": -0.45,
          "xanchor": "left",
          "xref": "x1",
          "y": 21,
          "yref": "y1"
         },
         {
          "align": "left",
          "font": {
           "color": "#000000"
          },
          "showarrow": false,
          "text": "Mozilla Staff",
          "x": 0.55,
          "xanchor": "left",
          "xref": "x1",
          "y": 21,
          "yref": "y1"
         },
         {
          "align": "left",
          "font": {
           "color": "#000000"
          },
          "showarrow": false,
          "text": "3812.0",
          "x": 1.55,
          "xanchor": "left",
          "xref": "x1",
          "y": 21,
          "yref": "y1"
         },
         {
          "align": "left",
          "font": {
           "color": "#000000"
          },
          "showarrow": false,
          "text": "3",
          "x": 2.55,
          "xanchor": "left",
          "xref": "x1",
          "y": 21,
          "yref": "y1"
         },
         {
          "align": "left",
          "font": {
           "color": "#000000"
          },
          "showarrow": false,
          "text": "Mozilla Developer Network (MDN)",
          "x": -0.45,
          "xanchor": "left",
          "xref": "x1",
          "y": 22,
          "yref": "y1"
         },
         {
          "align": "left",
          "font": {
           "color": "#000000"
          },
          "showarrow": false,
          "text": "Mozilla Staff",
          "x": 0.55,
          "xanchor": "left",
          "xref": "x1",
          "y": 22,
          "yref": "y1"
         },
         {
          "align": "left",
          "font": {
           "color": "#000000"
          },
          "showarrow": false,
          "text": "3088.0",
          "x": 1.55,
          "xanchor": "left",
          "xref": "x1",
          "y": 22,
          "yref": "y1"
         },
         {
          "align": "left",
          "font": {
           "color": "#000000"
          },
          "showarrow": false,
          "text": "47",
          "x": 2.55,
          "xanchor": "left",
          "xref": "x1",
          "y": 22,
          "yref": "y1"
         },
         {
          "align": "left",
          "font": {
           "color": "#000000"
          },
          "showarrow": false,
          "text": "Mozilla Science",
          "x": -0.45,
          "xanchor": "left",
          "xref": "x1",
          "y": 23,
          "yref": "y1"
         },
         {
          "align": "left",
          "font": {
           "color": "#000000"
          },
          "showarrow": false,
          "text": "Community",
          "x": 0.55,
          "xanchor": "left",
          "xref": "x1",
          "y": 23,
          "yref": "y1"
         },
         {
          "align": "left",
          "font": {
           "color": "#000000"
          },
          "showarrow": false,
          "text": "2587.0",
          "x": 1.55,
          "xanchor": "left",
          "xref": "x1",
          "y": 23,
          "yref": "y1"
         },
         {
          "align": "left",
          "font": {
           "color": "#000000"
          },
          "showarrow": false,
          "text": "34",
          "x": 2.55,
          "xanchor": "left",
          "xref": "x1",
          "y": 23,
          "yref": "y1"
         },
         {
          "align": "left",
          "font": {
           "color": "#000000"
          },
          "showarrow": false,
          "text": "Marketing / Social Media",
          "x": -0.45,
          "xanchor": "left",
          "xref": "x1",
          "y": 24,
          "yref": "y1"
         },
         {
          "align": "left",
          "font": {
           "color": "#000000"
          },
          "showarrow": false,
          "text": "Mozilla Staff",
          "x": 0.55,
          "xanchor": "left",
          "xref": "x1",
          "y": 24,
          "yref": "y1"
         },
         {
          "align": "left",
          "font": {
           "color": "#000000"
          },
          "showarrow": false,
          "text": "2133.0",
          "x": 1.55,
          "xanchor": "left",
          "xref": "x1",
          "y": 24,
          "yref": "y1"
         },
         {
          "align": "left",
          "font": {
           "color": "#000000"
          },
          "showarrow": false,
          "text": "15",
          "x": 2.55,
          "xanchor": "left",
          "xref": "x1",
          "y": 24,
          "yref": "y1"
         },
         {
          "align": "left",
          "font": {
           "color": "#000000"
          },
          "showarrow": false,
          "text": "Test Pilot",
          "x": -0.45,
          "xanchor": "left",
          "xref": "x1",
          "y": 25,
          "yref": "y1"
         },
         {
          "align": "left",
          "font": {
           "color": "#000000"
          },
          "showarrow": false,
          "text": "Mozilla Staff",
          "x": 0.55,
          "xanchor": "left",
          "xref": "x1",
          "y": 25,
          "yref": "y1"
         },
         {
          "align": "left",
          "font": {
           "color": "#000000"
          },
          "showarrow": false,
          "text": "2127.0",
          "x": 1.55,
          "xanchor": "left",
          "xref": "x1",
          "y": 25,
          "yref": "y1"
         },
         {
          "align": "left",
          "font": {
           "color": "#000000"
          },
          "showarrow": false,
          "text": "6",
          "x": 2.55,
          "xanchor": "left",
          "xref": "x1",
          "y": 25,
          "yref": "y1"
         },
         {
          "align": "left",
          "font": {
           "color": "#000000"
          },
          "showarrow": false,
          "text": "Marketing / Social Media",
          "x": -0.45,
          "xanchor": "left",
          "xref": "x1",
          "y": 26,
          "yref": "y1"
         },
         {
          "align": "left",
          "font": {
           "color": "#000000"
          },
          "showarrow": false,
          "text": "Community",
          "x": 0.55,
          "xanchor": "left",
          "xref": "x1",
          "y": 26,
          "yref": "y1"
         },
         {
          "align": "left",
          "font": {
           "color": "#000000"
          },
          "showarrow": false,
          "text": "1674.0",
          "x": 1.55,
          "xanchor": "left",
          "xref": "x1",
          "y": 26,
          "yref": "y1"
         },
         {
          "align": "left",
          "font": {
           "color": "#000000"
          },
          "showarrow": false,
          "text": "7",
          "x": 2.55,
          "xanchor": "left",
          "xref": "x1",
          "y": 26,
          "yref": "y1"
         },
         {
          "align": "left",
          "font": {
           "color": "#000000"
          },
          "showarrow": false,
          "text": "Mozilla Location Service (MLS) / Stumbler",
          "x": -0.45,
          "xanchor": "left",
          "xref": "x1",
          "y": 27,
          "yref": "y1"
         },
         {
          "align": "left",
          "font": {
           "color": "#000000"
          },
          "showarrow": false,
          "text": "Mozilla Staff",
          "x": 0.55,
          "xanchor": "left",
          "xref": "x1",
          "y": 27,
          "yref": "y1"
         },
         {
          "align": "left",
          "font": {
           "color": "#000000"
          },
          "showarrow": false,
          "text": "1376.0",
          "x": 1.55,
          "xanchor": "left",
          "xref": "x1",
          "y": 27,
          "yref": "y1"
         },
         {
          "align": "left",
          "font": {
           "color": "#000000"
          },
          "showarrow": false,
          "text": "1",
          "x": 2.55,
          "xanchor": "left",
          "xref": "x1",
          "y": 27,
          "yref": "y1"
         },
         {
          "align": "left",
          "font": {
           "color": "#000000"
          },
          "showarrow": false,
          "text": "WebVR",
          "x": -0.45,
          "xanchor": "left",
          "xref": "x1",
          "y": 28,
          "yref": "y1"
         },
         {
          "align": "left",
          "font": {
           "color": "#000000"
          },
          "showarrow": false,
          "text": "Community",
          "x": 0.55,
          "xanchor": "left",
          "xref": "x1",
          "y": 28,
          "yref": "y1"
         },
         {
          "align": "left",
          "font": {
           "color": "#000000"
          },
          "showarrow": false,
          "text": "1200.0",
          "x": 1.55,
          "xanchor": "left",
          "xref": "x1",
          "y": 28,
          "yref": "y1"
         },
         {
          "align": "left",
          "font": {
           "color": "#000000"
          },
          "showarrow": false,
          "text": "19",
          "x": 2.55,
          "xanchor": "left",
          "xref": "x1",
          "y": 28,
          "yref": "y1"
         },
         {
          "align": "left",
          "font": {
           "color": "#000000"
          },
          "showarrow": false,
          "text": "Localization",
          "x": -0.45,
          "xanchor": "left",
          "xref": "x1",
          "y": 29,
          "yref": "y1"
         },
         {
          "align": "left",
          "font": {
           "color": "#000000"
          },
          "showarrow": false,
          "text": "Mozilla Staff",
          "x": 0.55,
          "xanchor": "left",
          "xref": "x1",
          "y": 29,
          "yref": "y1"
         },
         {
          "align": "left",
          "font": {
           "color": "#000000"
          },
          "showarrow": false,
          "text": "1172.0",
          "x": 1.55,
          "xanchor": "left",
          "xref": "x1",
          "y": 29,
          "yref": "y1"
         },
         {
          "align": "left",
          "font": {
           "color": "#000000"
          },
          "showarrow": false,
          "text": "4",
          "x": 2.55,
          "xanchor": "left",
          "xref": "x1",
          "y": 29,
          "yref": "y1"
         },
         {
          "align": "left",
          "font": {
           "color": "#000000"
          },
          "showarrow": false,
          "text": "Test Pilot",
          "x": -0.45,
          "xanchor": "left",
          "xref": "x1",
          "y": 30,
          "yref": "y1"
         },
         {
          "align": "left",
          "font": {
           "color": "#000000"
          },
          "showarrow": false,
          "text": "Community",
          "x": 0.55,
          "xanchor": "left",
          "xref": "x1",
          "y": 30,
          "yref": "y1"
         },
         {
          "align": "left",
          "font": {
           "color": "#000000"
          },
          "showarrow": false,
          "text": "1147.0",
          "x": 1.55,
          "xanchor": "left",
          "xref": "x1",
          "y": 30,
          "yref": "y1"
         },
         {
          "align": "left",
          "font": {
           "color": "#000000"
          },
          "showarrow": false,
          "text": "2",
          "x": 2.55,
          "xanchor": "left",
          "xref": "x1",
          "y": 30,
          "yref": "y1"
         },
         {
          "align": "left",
          "font": {
           "color": "#000000"
          },
          "showarrow": false,
          "text": "Firefox OS (FxOS / B2G)",
          "x": -0.45,
          "xanchor": "left",
          "xref": "x1",
          "y": 31,
          "yref": "y1"
         },
         {
          "align": "left",
          "font": {
           "color": "#000000"
          },
          "showarrow": false,
          "text": "Community",
          "x": 0.55,
          "xanchor": "left",
          "xref": "x1",
          "y": 31,
          "yref": "y1"
         },
         {
          "align": "left",
          "font": {
           "color": "#000000"
          },
          "showarrow": false,
          "text": "1116.0",
          "x": 1.55,
          "xanchor": "left",
          "xref": "x1",
          "y": 31,
          "yref": "y1"
         },
         {
          "align": "left",
          "font": {
           "color": "#000000"
          },
          "showarrow": false,
          "text": "18",
          "x": 2.55,
          "xanchor": "left",
          "xref": "x1",
          "y": 31,
          "yref": "y1"
         },
         {
          "align": "left",
          "font": {
           "color": "#000000"
          },
          "showarrow": false,
          "text": "Firefox",
          "x": -0.45,
          "xanchor": "left",
          "xref": "x1",
          "y": 32,
          "yref": "y1"
         },
         {
          "align": "left",
          "font": {
           "color": "#000000"
          },
          "showarrow": false,
          "text": "Mozilla Staff",
          "x": 0.55,
          "xanchor": "left",
          "xref": "x1",
          "y": 32,
          "yref": "y1"
         },
         {
          "align": "left",
          "font": {
           "color": "#000000"
          },
          "showarrow": false,
          "text": "1072.0",
          "x": 1.55,
          "xanchor": "left",
          "xref": "x1",
          "y": 32,
          "yref": "y1"
         },
         {
          "align": "left",
          "font": {
           "color": "#000000"
          },
          "showarrow": false,
          "text": "1",
          "x": 2.55,
          "xanchor": "left",
          "xref": "x1",
          "y": 32,
          "yref": "y1"
         },
         {
          "align": "left",
          "font": {
           "color": "#000000"
          },
          "showarrow": false,
          "text": "Quality Assurance",
          "x": -0.45,
          "xanchor": "left",
          "xref": "x1",
          "y": 33,
          "yref": "y1"
         },
         {
          "align": "left",
          "font": {
           "color": "#000000"
          },
          "showarrow": false,
          "text": "Community",
          "x": 0.55,
          "xanchor": "left",
          "xref": "x1",
          "y": 33,
          "yref": "y1"
         },
         {
          "align": "left",
          "font": {
           "color": "#000000"
          },
          "showarrow": false,
          "text": "1072.0",
          "x": 1.55,
          "xanchor": "left",
          "xref": "x1",
          "y": 33,
          "yref": "y1"
         },
         {
          "align": "left",
          "font": {
           "color": "#000000"
          },
          "showarrow": false,
          "text": "2",
          "x": 2.55,
          "xanchor": "left",
          "xref": "x1",
          "y": 33,
          "yref": "y1"
         },
         {
          "align": "left",
          "font": {
           "color": "#000000"
          },
          "showarrow": false,
          "text": "Advocacy and policy",
          "x": -0.45,
          "xanchor": "left",
          "xref": "x1",
          "y": 34,
          "yref": "y1"
         },
         {
          "align": "left",
          "font": {
           "color": "#000000"
          },
          "showarrow": false,
          "text": "Mozilla Staff",
          "x": 0.55,
          "xanchor": "left",
          "xref": "x1",
          "y": 34,
          "yref": "y1"
         },
         {
          "align": "left",
          "font": {
           "color": "#000000"
          },
          "showarrow": false,
          "text": "1065.0",
          "x": 1.55,
          "xanchor": "left",
          "xref": "x1",
          "y": 34,
          "yref": "y1"
         },
         {
          "align": "left",
          "font": {
           "color": "#000000"
          },
          "showarrow": false,
          "text": "4",
          "x": 2.55,
          "xanchor": "left",
          "xref": "x1",
          "y": 34,
          "yref": "y1"
         },
         {
          "align": "left",
          "font": {
           "color": "#000000"
          },
          "showarrow": false,
          "text": "Firefox Focus",
          "x": -0.45,
          "xanchor": "left",
          "xref": "x1",
          "y": 35,
          "yref": "y1"
         },
         {
          "align": "left",
          "font": {
           "color": "#000000"
          },
          "showarrow": false,
          "text": "Mozilla Staff",
          "x": 0.55,
          "xanchor": "left",
          "xref": "x1",
          "y": 35,
          "yref": "y1"
         },
         {
          "align": "left",
          "font": {
           "color": "#000000"
          },
          "showarrow": false,
          "text": "982.0",
          "x": 1.55,
          "xanchor": "left",
          "xref": "x1",
          "y": 35,
          "yref": "y1"
         },
         {
          "align": "left",
          "font": {
           "color": "#000000"
          },
          "showarrow": false,
          "text": "2",
          "x": 2.55,
          "xanchor": "left",
          "xref": "x1",
          "y": 35,
          "yref": "y1"
         },
         {
          "align": "left",
          "font": {
           "color": "#000000"
          },
          "showarrow": false,
          "text": "Mozilla Science",
          "x": -0.45,
          "xanchor": "left",
          "xref": "x1",
          "y": 36,
          "yref": "y1"
         },
         {
          "align": "left",
          "font": {
           "color": "#000000"
          },
          "showarrow": false,
          "text": "Mozilla Staff",
          "x": 0.55,
          "xanchor": "left",
          "xref": "x1",
          "y": 36,
          "yref": "y1"
         },
         {
          "align": "left",
          "font": {
           "color": "#000000"
          },
          "showarrow": false,
          "text": "954.0",
          "x": 1.55,
          "xanchor": "left",
          "xref": "x1",
          "y": 36,
          "yref": "y1"
         },
         {
          "align": "left",
          "font": {
           "color": "#000000"
          },
          "showarrow": false,
          "text": "21",
          "x": 2.55,
          "xanchor": "left",
          "xref": "x1",
          "y": 36,
          "yref": "y1"
         },
         {
          "align": "left",
          "font": {
           "color": "#000000"
          },
          "showarrow": false,
          "text": "Localization",
          "x": -0.45,
          "xanchor": "left",
          "xref": "x1",
          "y": 37,
          "yref": "y1"
         },
         {
          "align": "left",
          "font": {
           "color": "#000000"
          },
          "showarrow": false,
          "text": "Community",
          "x": 0.55,
          "xanchor": "left",
          "xref": "x1",
          "y": 37,
          "yref": "y1"
         },
         {
          "align": "left",
          "font": {
           "color": "#000000"
          },
          "showarrow": false,
          "text": "929.0",
          "x": 1.55,
          "xanchor": "left",
          "xref": "x1",
          "y": 37,
          "yref": "y1"
         },
         {
          "align": "left",
          "font": {
           "color": "#000000"
          },
          "showarrow": false,
          "text": "4",
          "x": 2.55,
          "xanchor": "left",
          "xref": "x1",
          "y": 37,
          "yref": "y1"
         },
         {
          "align": "left",
          "font": {
           "color": "#000000"
          },
          "showarrow": false,
          "text": "Release engineering",
          "x": -0.45,
          "xanchor": "left",
          "xref": "x1",
          "y": 38,
          "yref": "y1"
         },
         {
          "align": "left",
          "font": {
           "color": "#000000"
          },
          "showarrow": false,
          "text": "Community",
          "x": 0.55,
          "xanchor": "left",
          "xref": "x1",
          "y": 38,
          "yref": "y1"
         },
         {
          "align": "left",
          "font": {
           "color": "#000000"
          },
          "showarrow": false,
          "text": "902.0",
          "x": 1.55,
          "xanchor": "left",
          "xref": "x1",
          "y": 38,
          "yref": "y1"
         },
         {
          "align": "left",
          "font": {
           "color": "#000000"
          },
          "showarrow": false,
          "text": "9",
          "x": 2.55,
          "xanchor": "left",
          "xref": "x1",
          "y": 38,
          "yref": "y1"
         },
         {
          "align": "left",
          "font": {
           "color": "#000000"
          },
          "showarrow": false,
          "text": "Technical/Developer Evangelism",
          "x": -0.45,
          "xanchor": "left",
          "xref": "x1",
          "y": 39,
          "yref": "y1"
         },
         {
          "align": "left",
          "font": {
           "color": "#000000"
          },
          "showarrow": false,
          "text": "Mozilla Staff",
          "x": 0.55,
          "xanchor": "left",
          "xref": "x1",
          "y": 39,
          "yref": "y1"
         },
         {
          "align": "left",
          "font": {
           "color": "#000000"
          },
          "showarrow": false,
          "text": "814.0",
          "x": 1.55,
          "xanchor": "left",
          "xref": "x1",
          "y": 39,
          "yref": "y1"
         },
         {
          "align": "left",
          "font": {
           "color": "#000000"
          },
          "showarrow": false,
          "text": "17",
          "x": 2.55,
          "xanchor": "left",
          "xref": "x1",
          "y": 39,
          "yref": "y1"
         },
         {
          "align": "left",
          "font": {
           "color": "#000000"
          },
          "showarrow": false,
          "text": "Mozilla Foundation",
          "x": -0.45,
          "xanchor": "left",
          "xref": "x1",
          "y": 40,
          "yref": "y1"
         },
         {
          "align": "left",
          "font": {
           "color": "#000000"
          },
          "showarrow": false,
          "text": "Mozilla Staff",
          "x": 0.55,
          "xanchor": "left",
          "xref": "x1",
          "y": 40,
          "yref": "y1"
         },
         {
          "align": "left",
          "font": {
           "color": "#000000"
          },
          "showarrow": false,
          "text": "806.0",
          "x": 1.55,
          "xanchor": "left",
          "xref": "x1",
          "y": 40,
          "yref": "y1"
         },
         {
          "align": "left",
          "font": {
           "color": "#000000"
          },
          "showarrow": false,
          "text": "36",
          "x": 2.55,
          "xanchor": "left",
          "xref": "x1",
          "y": 40,
          "yref": "y1"
         },
         {
          "align": "left",
          "font": {
           "color": "#000000"
          },
          "showarrow": false,
          "text": "Mozilla Location Service (MLS) / Stumbler",
          "x": -0.45,
          "xanchor": "left",
          "xref": "x1",
          "y": 41,
          "yref": "y1"
         },
         {
          "align": "left",
          "font": {
           "color": "#000000"
          },
          "showarrow": false,
          "text": "Community",
          "x": 0.55,
          "xanchor": "left",
          "xref": "x1",
          "y": 41,
          "yref": "y1"
         },
         {
          "align": "left",
          "font": {
           "color": "#000000"
          },
          "showarrow": false,
          "text": "591.0",
          "x": 1.55,
          "xanchor": "left",
          "xref": "x1",
          "y": 41,
          "yref": "y1"
         },
         {
          "align": "left",
          "font": {
           "color": "#000000"
          },
          "showarrow": false,
          "text": "1",
          "x": 2.55,
          "xanchor": "left",
          "xref": "x1",
          "y": 41,
          "yref": "y1"
         },
         {
          "align": "left",
          "font": {
           "color": "#000000"
          },
          "showarrow": false,
          "text": "Mozilla Foundation",
          "x": -0.45,
          "xanchor": "left",
          "xref": "x1",
          "y": 42,
          "yref": "y1"
         },
         {
          "align": "left",
          "font": {
           "color": "#000000"
          },
          "showarrow": false,
          "text": "Community",
          "x": 0.55,
          "xanchor": "left",
          "xref": "x1",
          "y": 42,
          "yref": "y1"
         },
         {
          "align": "left",
          "font": {
           "color": "#000000"
          },
          "showarrow": false,
          "text": "584.0",
          "x": 1.55,
          "xanchor": "left",
          "xref": "x1",
          "y": 42,
          "yref": "y1"
         },
         {
          "align": "left",
          "font": {
           "color": "#000000"
          },
          "showarrow": false,
          "text": "24",
          "x": 2.55,
          "xanchor": "left",
          "xref": "x1",
          "y": 42,
          "yref": "y1"
         },
         {
          "align": "left",
          "font": {
           "color": "#000000"
          },
          "showarrow": false,
          "text": "Vaani",
          "x": -0.45,
          "xanchor": "left",
          "xref": "x1",
          "y": 43,
          "yref": "y1"
         },
         {
          "align": "left",
          "font": {
           "color": "#000000"
          },
          "showarrow": false,
          "text": "Mozilla Staff",
          "x": 0.55,
          "xanchor": "left",
          "xref": "x1",
          "y": 43,
          "yref": "y1"
         },
         {
          "align": "left",
          "font": {
           "color": "#000000"
          },
          "showarrow": false,
          "text": "470.0",
          "x": 1.55,
          "xanchor": "left",
          "xref": "x1",
          "y": 43,
          "yref": "y1"
         },
         {
          "align": "left",
          "font": {
           "color": "#000000"
          },
          "showarrow": false,
          "text": "8",
          "x": 2.55,
          "xanchor": "left",
          "xref": "x1",
          "y": 43,
          "yref": "y1"
         },
         {
          "align": "left",
          "font": {
           "color": "#000000"
          },
          "showarrow": false,
          "text": "Firefox",
          "x": -0.45,
          "xanchor": "left",
          "xref": "x1",
          "y": 44,
          "yref": "y1"
         },
         {
          "align": "left",
          "font": {
           "color": "#000000"
          },
          "showarrow": false,
          "text": "Community",
          "x": 0.55,
          "xanchor": "left",
          "xref": "x1",
          "y": 44,
          "yref": "y1"
         },
         {
          "align": "left",
          "font": {
           "color": "#000000"
          },
          "showarrow": false,
          "text": "461.0",
          "x": 1.55,
          "xanchor": "left",
          "xref": "x1",
          "y": 44,
          "yref": "y1"
         },
         {
          "align": "left",
          "font": {
           "color": "#000000"
          },
          "showarrow": false,
          "text": "1",
          "x": 2.55,
          "xanchor": "left",
          "xref": "x1",
          "y": 44,
          "yref": "y1"
         },
         {
          "align": "left",
          "font": {
           "color": "#000000"
          },
          "showarrow": false,
          "text": "Mozilla Developer Network (MDN)",
          "x": -0.45,
          "xanchor": "left",
          "xref": "x1",
          "y": 45,
          "yref": "y1"
         },
         {
          "align": "left",
          "font": {
           "color": "#000000"
          },
          "showarrow": false,
          "text": "Community",
          "x": 0.55,
          "xanchor": "left",
          "xref": "x1",
          "y": 45,
          "yref": "y1"
         },
         {
          "align": "left",
          "font": {
           "color": "#000000"
          },
          "showarrow": false,
          "text": "451.0",
          "x": 1.55,
          "xanchor": "left",
          "xref": "x1",
          "y": 45,
          "yref": "y1"
         },
         {
          "align": "left",
          "font": {
           "color": "#000000"
          },
          "showarrow": false,
          "text": "27",
          "x": 2.55,
          "xanchor": "left",
          "xref": "x1",
          "y": 45,
          "yref": "y1"
         },
         {
          "align": "left",
          "font": {
           "color": "#000000"
          },
          "showarrow": false,
          "text": "Firefox iOS",
          "x": -0.45,
          "xanchor": "left",
          "xref": "x1",
          "y": 46,
          "yref": "y1"
         },
         {
          "align": "left",
          "font": {
           "color": "#000000"
          },
          "showarrow": false,
          "text": "Community",
          "x": 0.55,
          "xanchor": "left",
          "xref": "x1",
          "y": 46,
          "yref": "y1"
         },
         {
          "align": "left",
          "font": {
           "color": "#000000"
          },
          "showarrow": false,
          "text": "441.0",
          "x": 1.55,
          "xanchor": "left",
          "xref": "x1",
          "y": 46,
          "yref": "y1"
         },
         {
          "align": "left",
          "font": {
           "color": "#000000"
          },
          "showarrow": false,
          "text": "3",
          "x": 2.55,
          "xanchor": "left",
          "xref": "x1",
          "y": 46,
          "yref": "y1"
         },
         {
          "align": "left",
          "font": {
           "color": "#000000"
          },
          "showarrow": false,
          "text": "Advocacy and policy",
          "x": -0.45,
          "xanchor": "left",
          "xref": "x1",
          "y": 47,
          "yref": "y1"
         },
         {
          "align": "left",
          "font": {
           "color": "#000000"
          },
          "showarrow": false,
          "text": "Community",
          "x": 0.55,
          "xanchor": "left",
          "xref": "x1",
          "y": 47,
          "yref": "y1"
         },
         {
          "align": "left",
          "font": {
           "color": "#000000"
          },
          "showarrow": false,
          "text": "413.0",
          "x": 1.55,
          "xanchor": "left",
          "xref": "x1",
          "y": 47,
          "yref": "y1"
         },
         {
          "align": "left",
          "font": {
           "color": "#000000"
          },
          "showarrow": false,
          "text": "4",
          "x": 2.55,
          "xanchor": "left",
          "xref": "x1",
          "y": 47,
          "yref": "y1"
         },
         {
          "align": "left",
          "font": {
           "color": "#000000"
          },
          "showarrow": false,
          "text": "Deep Speech",
          "x": -0.45,
          "xanchor": "left",
          "xref": "x1",
          "y": 48,
          "yref": "y1"
         },
         {
          "align": "left",
          "font": {
           "color": "#000000"
          },
          "showarrow": false,
          "text": "Mozilla Staff",
          "x": 0.55,
          "xanchor": "left",
          "xref": "x1",
          "y": 48,
          "yref": "y1"
         },
         {
          "align": "left",
          "font": {
           "color": "#000000"
          },
          "showarrow": false,
          "text": "341.0",
          "x": 1.55,
          "xanchor": "left",
          "xref": "x1",
          "y": 48,
          "yref": "y1"
         },
         {
          "align": "left",
          "font": {
           "color": "#000000"
          },
          "showarrow": false,
          "text": "1",
          "x": 2.55,
          "xanchor": "left",
          "xref": "x1",
          "y": 48,
          "yref": "y1"
         },
         {
          "align": "left",
          "font": {
           "color": "#000000"
          },
          "showarrow": false,
          "text": "Developer Tools",
          "x": -0.45,
          "xanchor": "left",
          "xref": "x1",
          "y": 49,
          "yref": "y1"
         },
         {
          "align": "left",
          "font": {
           "color": "#000000"
          },
          "showarrow": false,
          "text": "Mozilla Staff",
          "x": 0.55,
          "xanchor": "left",
          "xref": "x1",
          "y": 49,
          "yref": "y1"
         },
         {
          "align": "left",
          "font": {
           "color": "#000000"
          },
          "showarrow": false,
          "text": "293.0",
          "x": 1.55,
          "xanchor": "left",
          "xref": "x1",
          "y": 49,
          "yref": "y1"
         },
         {
          "align": "left",
          "font": {
           "color": "#000000"
          },
          "showarrow": false,
          "text": "4",
          "x": 2.55,
          "xanchor": "left",
          "xref": "x1",
          "y": 49,
          "yref": "y1"
         },
         {
          "align": "left",
          "font": {
           "color": "#000000"
          },
          "showarrow": false,
          "text": "Connected devices & IoT",
          "x": -0.45,
          "xanchor": "left",
          "xref": "x1",
          "y": 50,
          "yref": "y1"
         },
         {
          "align": "left",
          "font": {
           "color": "#000000"
          },
          "showarrow": false,
          "text": "Community",
          "x": 0.55,
          "xanchor": "left",
          "xref": "x1",
          "y": 50,
          "yref": "y1"
         },
         {
          "align": "left",
          "font": {
           "color": "#000000"
          },
          "showarrow": false,
          "text": "222.0",
          "x": 1.55,
          "xanchor": "left",
          "xref": "x1",
          "y": 50,
          "yref": "y1"
         },
         {
          "align": "left",
          "font": {
           "color": "#000000"
          },
          "showarrow": false,
          "text": "1",
          "x": 2.55,
          "xanchor": "left",
          "xref": "x1",
          "y": 50,
          "yref": "y1"
         },
         {
          "align": "left",
          "font": {
           "color": "#000000"
          },
          "showarrow": false,
          "text": "Mozilla Local/Regional communities",
          "x": -0.45,
          "xanchor": "left",
          "xref": "x1",
          "y": 51,
          "yref": "y1"
         },
         {
          "align": "left",
          "font": {
           "color": "#000000"
          },
          "showarrow": false,
          "text": "Mozilla Reps",
          "x": 0.55,
          "xanchor": "left",
          "xref": "x1",
          "y": 51,
          "yref": "y1"
         },
         {
          "align": "left",
          "font": {
           "color": "#000000"
          },
          "showarrow": false,
          "text": "192.0",
          "x": 1.55,
          "xanchor": "left",
          "xref": "x1",
          "y": 51,
          "yref": "y1"
         },
         {
          "align": "left",
          "font": {
           "color": "#000000"
          },
          "showarrow": false,
          "text": "15",
          "x": 2.55,
          "xanchor": "left",
          "xref": "x1",
          "y": 51,
          "yref": "y1"
         },
         {
          "align": "left",
          "font": {
           "color": "#000000"
          },
          "showarrow": false,
          "text": "Mozilla Clubs",
          "x": -0.45,
          "xanchor": "left",
          "xref": "x1",
          "y": 52,
          "yref": "y1"
         },
         {
          "align": "left",
          "font": {
           "color": "#000000"
          },
          "showarrow": false,
          "text": "Mozilla Staff",
          "x": 0.55,
          "xanchor": "left",
          "xref": "x1",
          "y": 52,
          "yref": "y1"
         },
         {
          "align": "left",
          "font": {
           "color": "#000000"
          },
          "showarrow": false,
          "text": "178.0",
          "x": 1.55,
          "xanchor": "left",
          "xref": "x1",
          "y": 52,
          "yref": "y1"
         },
         {
          "align": "left",
          "font": {
           "color": "#000000"
          },
          "showarrow": false,
          "text": "8",
          "x": 2.55,
          "xanchor": "left",
          "xref": "x1",
          "y": 52,
          "yref": "y1"
         },
         {
          "align": "left",
          "font": {
           "color": "#000000"
          },
          "showarrow": false,
          "text": "Campus Clubs (previously Student Ambassadors)",
          "x": -0.45,
          "xanchor": "left",
          "xref": "x1",
          "y": 53,
          "yref": "y1"
         },
         {
          "align": "left",
          "font": {
           "color": "#000000"
          },
          "showarrow": false,
          "text": "Mozilla Staff",
          "x": 0.55,
          "xanchor": "left",
          "xref": "x1",
          "y": 53,
          "yref": "y1"
         },
         {
          "align": "left",
          "font": {
           "color": "#000000"
          },
          "showarrow": false,
          "text": "163.0",
          "x": 1.55,
          "xanchor": "left",
          "xref": "x1",
          "y": 53,
          "yref": "y1"
         },
         {
          "align": "left",
          "font": {
           "color": "#000000"
          },
          "showarrow": false,
          "text": "5",
          "x": 2.55,
          "xanchor": "left",
          "xref": "x1",
          "y": 53,
          "yref": "y1"
         },
         {
          "align": "left",
          "font": {
           "color": "#000000"
          },
          "showarrow": false,
          "text": "Web Properties",
          "x": -0.45,
          "xanchor": "left",
          "xref": "x1",
          "y": 54,
          "yref": "y1"
         },
         {
          "align": "left",
          "font": {
           "color": "#000000"
          },
          "showarrow": false,
          "text": "Mozilla Reps",
          "x": 0.55,
          "xanchor": "left",
          "xref": "x1",
          "y": 54,
          "yref": "y1"
         },
         {
          "align": "left",
          "font": {
           "color": "#000000"
          },
          "showarrow": false,
          "text": "148.0",
          "x": 1.55,
          "xanchor": "left",
          "xref": "x1",
          "y": 54,
          "yref": "y1"
         },
         {
          "align": "left",
          "font": {
           "color": "#000000"
          },
          "showarrow": false,
          "text": "4",
          "x": 2.55,
          "xanchor": "left",
          "xref": "x1",
          "y": 54,
          "yref": "y1"
         },
         {
          "align": "left",
          "font": {
           "color": "#000000"
          },
          "showarrow": false,
          "text": "Mozilla Creative & Design",
          "x": -0.45,
          "xanchor": "left",
          "xref": "x1",
          "y": 55,
          "yref": "y1"
         },
         {
          "align": "left",
          "font": {
           "color": "#000000"
          },
          "showarrow": false,
          "text": "Community",
          "x": 0.55,
          "xanchor": "left",
          "xref": "x1",
          "y": 55,
          "yref": "y1"
         },
         {
          "align": "left",
          "font": {
           "color": "#000000"
          },
          "showarrow": false,
          "text": "105.0",
          "x": 1.55,
          "xanchor": "left",
          "xref": "x1",
          "y": 55,
          "yref": "y1"
         },
         {
          "align": "left",
          "font": {
           "color": "#000000"
          },
          "showarrow": false,
          "text": "2",
          "x": 2.55,
          "xanchor": "left",
          "xref": "x1",
          "y": 55,
          "yref": "y1"
         },
         {
          "align": "left",
          "font": {
           "color": "#000000"
          },
          "showarrow": false,
          "text": "Mozilla Creative & Design",
          "x": -0.45,
          "xanchor": "left",
          "xref": "x1",
          "y": 56,
          "yref": "y1"
         },
         {
          "align": "left",
          "font": {
           "color": "#000000"
          },
          "showarrow": false,
          "text": "Mozilla Staff",
          "x": 0.55,
          "xanchor": "left",
          "xref": "x1",
          "y": 56,
          "yref": "y1"
         },
         {
          "align": "left",
          "font": {
           "color": "#000000"
          },
          "showarrow": false,
          "text": "105.0",
          "x": 1.55,
          "xanchor": "left",
          "xref": "x1",
          "y": 56,
          "yref": "y1"
         },
         {
          "align": "left",
          "font": {
           "color": "#000000"
          },
          "showarrow": false,
          "text": "3",
          "x": 2.55,
          "xanchor": "left",
          "xref": "x1",
          "y": 56,
          "yref": "y1"
         },
         {
          "align": "left",
          "font": {
           "color": "#000000"
          },
          "showarrow": false,
          "text": "Gecko",
          "x": -0.45,
          "xanchor": "left",
          "xref": "x1",
          "y": 57,
          "yref": "y1"
         },
         {
          "align": "left",
          "font": {
           "color": "#000000"
          },
          "showarrow": false,
          "text": "Mozilla Reps",
          "x": 0.55,
          "xanchor": "left",
          "xref": "x1",
          "y": 57,
          "yref": "y1"
         },
         {
          "align": "left",
          "font": {
           "color": "#000000"
          },
          "showarrow": false,
          "text": "85.0",
          "x": 1.55,
          "xanchor": "left",
          "xref": "x1",
          "y": 57,
          "yref": "y1"
         },
         {
          "align": "left",
          "font": {
           "color": "#000000"
          },
          "showarrow": false,
          "text": "3",
          "x": 2.55,
          "xanchor": "left",
          "xref": "x1",
          "y": 57,
          "yref": "y1"
         },
         {
          "align": "left",
          "font": {
           "color": "#000000"
          },
          "showarrow": false,
          "text": "Connected devices & IoT",
          "x": -0.45,
          "xanchor": "left",
          "xref": "x1",
          "y": 58,
          "yref": "y1"
         },
         {
          "align": "left",
          "font": {
           "color": "#000000"
          },
          "showarrow": false,
          "text": "Mozilla Staff",
          "x": 0.55,
          "xanchor": "left",
          "xref": "x1",
          "y": 58,
          "yref": "y1"
         },
         {
          "align": "left",
          "font": {
           "color": "#000000"
          },
          "showarrow": false,
          "text": "79.0",
          "x": 1.55,
          "xanchor": "left",
          "xref": "x1",
          "y": 58,
          "yref": "y1"
         },
         {
          "align": "left",
          "font": {
           "color": "#000000"
          },
          "showarrow": false,
          "text": "1",
          "x": 2.55,
          "xanchor": "left",
          "xref": "x1",
          "y": 58,
          "yref": "y1"
         },
         {
          "align": "left",
          "font": {
           "color": "#000000"
          },
          "showarrow": false,
          "text": "Firefox Android",
          "x": -0.45,
          "xanchor": "left",
          "xref": "x1",
          "y": 59,
          "yref": "y1"
         },
         {
          "align": "left",
          "font": {
           "color": "#000000"
          },
          "showarrow": false,
          "text": "Mozilla Staff",
          "x": 0.55,
          "xanchor": "left",
          "xref": "x1",
          "y": 59,
          "yref": "y1"
         },
         {
          "align": "left",
          "font": {
           "color": "#000000"
          },
          "showarrow": false,
          "text": "50.0",
          "x": 1.55,
          "xanchor": "left",
          "xref": "x1",
          "y": 59,
          "yref": "y1"
         },
         {
          "align": "left",
          "font": {
           "color": "#000000"
          },
          "showarrow": false,
          "text": "2",
          "x": 2.55,
          "xanchor": "left",
          "xref": "x1",
          "y": 59,
          "yref": "y1"
         },
         {
          "align": "left",
          "font": {
           "color": "#000000"
          },
          "showarrow": false,
          "text": "Technical/Developer Evangelism",
          "x": -0.45,
          "xanchor": "left",
          "xref": "x1",
          "y": 60,
          "yref": "y1"
         },
         {
          "align": "left",
          "font": {
           "color": "#000000"
          },
          "showarrow": false,
          "text": "Community",
          "x": 0.55,
          "xanchor": "left",
          "xref": "x1",
          "y": 60,
          "yref": "y1"
         },
         {
          "align": "left",
          "font": {
           "color": "#000000"
          },
          "showarrow": false,
          "text": "43.0",
          "x": 1.55,
          "xanchor": "left",
          "xref": "x1",
          "y": 60,
          "yref": "y1"
         },
         {
          "align": "left",
          "font": {
           "color": "#000000"
          },
          "showarrow": false,
          "text": "6",
          "x": 2.55,
          "xanchor": "left",
          "xref": "x1",
          "y": 60,
          "yref": "y1"
         },
         {
          "align": "left",
          "font": {
           "color": "#000000"
          },
          "showarrow": false,
          "text": "Developer Tools",
          "x": -0.45,
          "xanchor": "left",
          "xref": "x1",
          "y": 61,
          "yref": "y1"
         },
         {
          "align": "left",
          "font": {
           "color": "#000000"
          },
          "showarrow": false,
          "text": "Community",
          "x": 0.55,
          "xanchor": "left",
          "xref": "x1",
          "y": 61,
          "yref": "y1"
         },
         {
          "align": "left",
          "font": {
           "color": "#000000"
          },
          "showarrow": false,
          "text": "34.0",
          "x": 1.55,
          "xanchor": "left",
          "xref": "x1",
          "y": 61,
          "yref": "y1"
         },
         {
          "align": "left",
          "font": {
           "color": "#000000"
          },
          "showarrow": false,
          "text": "2",
          "x": 2.55,
          "xanchor": "left",
          "xref": "x1",
          "y": 61,
          "yref": "y1"
         },
         {
          "align": "left",
          "font": {
           "color": "#000000"
          },
          "showarrow": false,
          "text": "Mozilla Developer Network (MDN)",
          "x": -0.45,
          "xanchor": "left",
          "xref": "x1",
          "y": 62,
          "yref": "y1"
         },
         {
          "align": "left",
          "font": {
           "color": "#000000"
          },
          "showarrow": false,
          "text": "Mozilla Reps",
          "x": 0.55,
          "xanchor": "left",
          "xref": "x1",
          "y": 62,
          "yref": "y1"
         },
         {
          "align": "left",
          "font": {
           "color": "#000000"
          },
          "showarrow": false,
          "text": "32.0",
          "x": 1.55,
          "xanchor": "left",
          "xref": "x1",
          "y": 62,
          "yref": "y1"
         },
         {
          "align": "left",
          "font": {
           "color": "#000000"
          },
          "showarrow": false,
          "text": "1",
          "x": 2.55,
          "xanchor": "left",
          "xref": "x1",
          "y": 62,
          "yref": "y1"
         },
         {
          "align": "left",
          "font": {
           "color": "#000000"
          },
          "showarrow": false,
          "text": "Deep Speech",
          "x": -0.45,
          "xanchor": "left",
          "xref": "x1",
          "y": 63,
          "yref": "y1"
         },
         {
          "align": "left",
          "font": {
           "color": "#000000"
          },
          "showarrow": false,
          "text": "Community",
          "x": 0.55,
          "xanchor": "left",
          "xref": "x1",
          "y": 63,
          "yref": "y1"
         },
         {
          "align": "left",
          "font": {
           "color": "#000000"
          },
          "showarrow": false,
          "text": "21.0",
          "x": 1.55,
          "xanchor": "left",
          "xref": "x1",
          "y": 63,
          "yref": "y1"
         },
         {
          "align": "left",
          "font": {
           "color": "#000000"
          },
          "showarrow": false,
          "text": "1",
          "x": 2.55,
          "xanchor": "left",
          "xref": "x1",
          "y": 63,
          "yref": "y1"
         },
         {
          "align": "left",
          "font": {
           "color": "#000000"
          },
          "showarrow": false,
          "text": "Mozilla Clubs",
          "x": -0.45,
          "xanchor": "left",
          "xref": "x1",
          "y": 64,
          "yref": "y1"
         },
         {
          "align": "left",
          "font": {
           "color": "#000000"
          },
          "showarrow": false,
          "text": "Community",
          "x": 0.55,
          "xanchor": "left",
          "xref": "x1",
          "y": 64,
          "yref": "y1"
         },
         {
          "align": "left",
          "font": {
           "color": "#000000"
          },
          "showarrow": false,
          "text": "20.0",
          "x": 1.55,
          "xanchor": "left",
          "xref": "x1",
          "y": 64,
          "yref": "y1"
         },
         {
          "align": "left",
          "font": {
           "color": "#000000"
          },
          "showarrow": false,
          "text": "4",
          "x": 2.55,
          "xanchor": "left",
          "xref": "x1",
          "y": 64,
          "yref": "y1"
         },
         {
          "align": "left",
          "font": {
           "color": "#000000"
          },
          "showarrow": false,
          "text": "Firefox Focus",
          "x": -0.45,
          "xanchor": "left",
          "xref": "x1",
          "y": 65,
          "yref": "y1"
         },
         {
          "align": "left",
          "font": {
           "color": "#000000"
          },
          "showarrow": false,
          "text": "Community",
          "x": 0.55,
          "xanchor": "left",
          "xref": "x1",
          "y": 65,
          "yref": "y1"
         },
         {
          "align": "left",
          "font": {
           "color": "#000000"
          },
          "showarrow": false,
          "text": "8.0",
          "x": 1.55,
          "xanchor": "left",
          "xref": "x1",
          "y": 65,
          "yref": "y1"
         },
         {
          "align": "left",
          "font": {
           "color": "#000000"
          },
          "showarrow": false,
          "text": "2",
          "x": 2.55,
          "xanchor": "left",
          "xref": "x1",
          "y": 65,
          "yref": "y1"
         },
         {
          "align": "left",
          "font": {
           "color": "#000000"
          },
          "showarrow": false,
          "text": "Servo",
          "x": -0.45,
          "xanchor": "left",
          "xref": "x1",
          "y": 66,
          "yref": "y1"
         },
         {
          "align": "left",
          "font": {
           "color": "#000000"
          },
          "showarrow": false,
          "text": "Mozilla Reps",
          "x": 0.55,
          "xanchor": "left",
          "xref": "x1",
          "y": 66,
          "yref": "y1"
         },
         {
          "align": "left",
          "font": {
           "color": "#000000"
          },
          "showarrow": false,
          "text": "4.0",
          "x": 1.55,
          "xanchor": "left",
          "xref": "x1",
          "y": 66,
          "yref": "y1"
         },
         {
          "align": "left",
          "font": {
           "color": "#000000"
          },
          "showarrow": false,
          "text": "2",
          "x": 2.55,
          "xanchor": "left",
          "xref": "x1",
          "y": 66,
          "yref": "y1"
         },
         {
          "align": "left",
          "font": {
           "color": "#000000"
          },
          "showarrow": false,
          "text": "Vaani",
          "x": -0.45,
          "xanchor": "left",
          "xref": "x1",
          "y": 67,
          "yref": "y1"
         },
         {
          "align": "left",
          "font": {
           "color": "#000000"
          },
          "showarrow": false,
          "text": "Community",
          "x": 0.55,
          "xanchor": "left",
          "xref": "x1",
          "y": 67,
          "yref": "y1"
         },
         {
          "align": "left",
          "font": {
           "color": "#000000"
          },
          "showarrow": false,
          "text": "2.0",
          "x": 1.55,
          "xanchor": "left",
          "xref": "x1",
          "y": 67,
          "yref": "y1"
         },
         {
          "align": "left",
          "font": {
           "color": "#000000"
          },
          "showarrow": false,
          "text": "1",
          "x": 2.55,
          "xanchor": "left",
          "xref": "x1",
          "y": 67,
          "yref": "y1"
         },
         {
          "align": "left",
          "font": {
           "color": "#000000"
          },
          "showarrow": false,
          "text": "Web Literacy",
          "x": -0.45,
          "xanchor": "left",
          "xref": "x1",
          "y": 68,
          "yref": "y1"
         },
         {
          "align": "left",
          "font": {
           "color": "#000000"
          },
          "showarrow": false,
          "text": "Mozilla Reps",
          "x": 0.55,
          "xanchor": "left",
          "xref": "x1",
          "y": 68,
          "yref": "y1"
         },
         {
          "align": "left",
          "font": {
           "color": "#000000"
          },
          "showarrow": false,
          "text": "2.0",
          "x": 1.55,
          "xanchor": "left",
          "xref": "x1",
          "y": 68,
          "yref": "y1"
         },
         {
          "align": "left",
          "font": {
           "color": "#000000"
          },
          "showarrow": false,
          "text": "2",
          "x": 2.55,
          "xanchor": "left",
          "xref": "x1",
          "y": 68,
          "yref": "y1"
         },
         {
          "align": "left",
          "font": {
           "color": "#000000"
          },
          "showarrow": false,
          "text": "Campus Clubs (previously Student Ambassadors)",
          "x": -0.45,
          "xanchor": "left",
          "xref": "x1",
          "y": 69,
          "yref": "y1"
         },
         {
          "align": "left",
          "font": {
           "color": "#000000"
          },
          "showarrow": false,
          "text": "Community",
          "x": 0.55,
          "xanchor": "left",
          "xref": "x1",
          "y": 69,
          "yref": "y1"
         },
         {
          "align": "left",
          "font": {
           "color": "#000000"
          },
          "showarrow": false,
          "text": "2.0",
          "x": 1.55,
          "xanchor": "left",
          "xref": "x1",
          "y": 69,
          "yref": "y1"
         },
         {
          "align": "left",
          "font": {
           "color": "#000000"
          },
          "showarrow": false,
          "text": "1",
          "x": 2.55,
          "xanchor": "left",
          "xref": "x1",
          "y": 69,
          "yref": "y1"
         },
         {
          "align": "left",
          "font": {
           "color": "#000000"
          },
          "showarrow": false,
          "text": "Firefox Android",
          "x": -0.45,
          "xanchor": "left",
          "xref": "x1",
          "y": 70,
          "yref": "y1"
         },
         {
          "align": "left",
          "font": {
           "color": "#000000"
          },
          "showarrow": false,
          "text": "Community",
          "x": 0.55,
          "xanchor": "left",
          "xref": "x1",
          "y": 70,
          "yref": "y1"
         },
         {
          "align": "left",
          "font": {
           "color": "#000000"
          },
          "showarrow": false,
          "text": "1.0",
          "x": 1.55,
          "xanchor": "left",
          "xref": "x1",
          "y": 70,
          "yref": "y1"
         },
         {
          "align": "left",
          "font": {
           "color": "#000000"
          },
          "showarrow": false,
          "text": "1",
          "x": 2.55,
          "xanchor": "left",
          "xref": "x1",
          "y": 70,
          "yref": "y1"
         }
        ],
        "height": 2180,
        "margin": {
         "b": 0,
         "l": 0,
         "r": 0,
         "t": 0
        },
        "xaxis": {
         "dtick": 1,
         "gridwidth": 2,
         "showticklabels": false,
         "tick0": -0.5,
         "ticks": "",
         "zeroline": false
        },
        "yaxis": {
         "autorange": "reversed",
         "dtick": 1,
         "gridwidth": 2,
         "showticklabels": false,
         "tick0": 0.5,
         "ticks": "",
         "zeroline": false
        }
       }
      },
      "text/html": [
       "<div id=\"2b5a5495-bd28-4212-bf83-cdbdc0c5d393\" style=\"height: 2180px; width: 100%;\" class=\"plotly-graph-div\"></div><script type=\"text/javascript\">require([\"plotly\"], function(Plotly) { window.PLOTLYENV=window.PLOTLYENV || {};window.PLOTLYENV.BASE_URL=\"https://plot.ly\";Plotly.newPlot(\"2b5a5495-bd28-4212-bf83-cdbdc0c5d393\", [{\"opacity\": 0.75, \"hoverinfo\": \"none\", \"showscale\": false, \"type\": \"heatmap\", \"z\": [[0, 0, 0, 0], [0.5, 0.5, 0.5, 0.5], [1, 1, 1, 1], [0.5, 0.5, 0.5, 0.5], [1, 1, 1, 1], [0.5, 0.5, 0.5, 0.5], [1, 1, 1, 1], [0.5, 0.5, 0.5, 0.5], [1, 1, 1, 1], [0.5, 0.5, 0.5, 0.5], [1, 1, 1, 1], [0.5, 0.5, 0.5, 0.5], [1, 1, 1, 1], [0.5, 0.5, 0.5, 0.5], [1, 1, 1, 1], [0.5, 0.5, 0.5, 0.5], [1, 1, 1, 1], [0.5, 0.5, 0.5, 0.5], [1, 1, 1, 1], [0.5, 0.5, 0.5, 0.5], [1, 1, 1, 1], [0.5, 0.5, 0.5, 0.5], [1, 1, 1, 1], [0.5, 0.5, 0.5, 0.5], [1, 1, 1, 1], [0.5, 0.5, 0.5, 0.5], [1, 1, 1, 1], [0.5, 0.5, 0.5, 0.5], [1, 1, 1, 1], [0.5, 0.5, 0.5, 0.5], [1, 1, 1, 1], [0.5, 0.5, 0.5, 0.5], [1, 1, 1, 1], [0.5, 0.5, 0.5, 0.5], [1, 1, 1, 1], [0.5, 0.5, 0.5, 0.5], [1, 1, 1, 1], [0.5, 0.5, 0.5, 0.5], [1, 1, 1, 1], [0.5, 0.5, 0.5, 0.5], [1, 1, 1, 1], [0.5, 0.5, 0.5, 0.5], [1, 1, 1, 1], [0.5, 0.5, 0.5, 0.5], [1, 1, 1, 1], [0.5, 0.5, 0.5, 0.5], [1, 1, 1, 1], [0.5, 0.5, 0.5, 0.5], [1, 1, 1, 1], [0.5, 0.5, 0.5, 0.5], [1, 1, 1, 1], [0.5, 0.5, 0.5, 0.5], [1, 1, 1, 1], [0.5, 0.5, 0.5, 0.5], [1, 1, 1, 1], [0.5, 0.5, 0.5, 0.5], [1, 1, 1, 1], [0.5, 0.5, 0.5, 0.5], [1, 1, 1, 1], [0.5, 0.5, 0.5, 0.5], [1, 1, 1, 1], [0.5, 0.5, 0.5, 0.5], [1, 1, 1, 1], [0.5, 0.5, 0.5, 0.5], [1, 1, 1, 1], [0.5, 0.5, 0.5, 0.5], [1, 1, 1, 1], [0.5, 0.5, 0.5, 0.5], [1, 1, 1, 1], [0.5, 0.5, 0.5, 0.5], [1, 1, 1, 1]], \"colorscale\": [[0, \"#00083e\"], [0.5, \"#ededee\"], [1, \"#ffffff\"]]}], {\"height\": 2180, \"yaxis\": {\"ticks\": \"\", \"gridwidth\": 2, \"zeroline\": false, \"dtick\": 1, \"tick0\": 0.5, \"autorange\": \"reversed\", \"showticklabels\": false}, \"margin\": {\"r\": 0, \"l\": 0, \"b\": 0, \"t\": 0}, \"annotations\": [{\"align\": \"left\", \"xref\": \"x1\", \"xanchor\": \"left\", \"text\": \"<b>Project</b>\", \"font\": {\"color\": \"#ffffff\"}, \"y\": 0, \"x\": -0.45, \"showarrow\": false, \"yref\": \"y1\"}, {\"align\": \"left\", \"xref\": \"x1\", \"xanchor\": \"left\", \"text\": \"<b>Org</b>\", \"font\": {\"color\": \"#ffffff\"}, \"y\": 0, \"x\": 0.55, \"showarrow\": false, \"yref\": \"y1\"}, {\"align\": \"left\", \"xref\": \"x1\", \"xanchor\": \"left\", \"text\": \"<b># Commits</b>\", \"font\": {\"color\": \"#ffffff\"}, \"y\": 0, \"x\": 1.55, \"showarrow\": false, \"yref\": \"y1\"}, {\"align\": \"left\", \"xref\": \"x1\", \"xanchor\": \"left\", \"text\": \"<b>Repo</b>\", \"font\": {\"color\": \"#ffffff\"}, \"y\": 0, \"x\": 2.55, \"showarrow\": false, \"yref\": \"y1\"}, {\"align\": \"left\", \"xref\": \"x1\", \"xanchor\": \"left\", \"text\": \"Gecko\", \"font\": {\"color\": \"#000000\"}, \"y\": 1, \"x\": -0.45, \"showarrow\": false, \"yref\": \"y1\"}, {\"align\": \"left\", \"xref\": \"x1\", \"xanchor\": \"left\", \"text\": \"Mozilla Staff\", \"font\": {\"color\": \"#000000\"}, \"y\": 1, \"x\": 0.55, \"showarrow\": false, \"yref\": \"y1\"}, {\"align\": \"left\", \"xref\": \"x1\", \"xanchor\": \"left\", \"text\": \"919257.0\", \"font\": {\"color\": \"#000000\"}, \"y\": 1, \"x\": 1.55, \"showarrow\": false, \"yref\": \"y1\"}, {\"align\": \"left\", \"xref\": \"x1\", \"xanchor\": \"left\", \"text\": \"5\", \"font\": {\"color\": \"#000000\"}, \"y\": 1, \"x\": 2.55, \"showarrow\": false, \"yref\": \"y1\"}, {\"align\": \"left\", \"xref\": \"x1\", \"xanchor\": \"left\", \"text\": \"Gecko\", \"font\": {\"color\": \"#000000\"}, \"y\": 2, \"x\": -0.45, \"showarrow\": false, \"yref\": \"y1\"}, {\"align\": \"left\", \"xref\": \"x1\", \"xanchor\": \"left\", \"text\": \"Community\", \"font\": {\"color\": \"#000000\"}, \"y\": 2, \"x\": 0.55, \"showarrow\": false, \"yref\": \"y1\"}, {\"align\": \"left\", \"xref\": \"x1\", \"xanchor\": \"left\", \"text\": \"425772.0\", \"font\": {\"color\": \"#000000\"}, \"y\": 2, \"x\": 1.55, \"showarrow\": false, \"yref\": \"y1\"}, {\"align\": \"left\", \"xref\": \"x1\", \"xanchor\": \"left\", \"text\": \"5\", \"font\": {\"color\": \"#000000\"}, \"y\": 2, \"x\": 2.55, \"showarrow\": false, \"yref\": \"y1\"}, {\"align\": \"left\", \"xref\": \"x1\", \"xanchor\": \"left\", \"text\": \"IT/Ops\", \"font\": {\"color\": \"#000000\"}, \"y\": 3, \"x\": -0.45, \"showarrow\": false, \"yref\": \"y1\"}, {\"align\": \"left\", \"xref\": \"x1\", \"xanchor\": \"left\", \"text\": \"Mozilla Staff\", \"font\": {\"color\": \"#000000\"}, \"y\": 3, \"x\": 0.55, \"showarrow\": false, \"yref\": \"y1\"}, {\"align\": \"left\", \"xref\": \"x1\", \"xanchor\": \"left\", \"text\": \"116455.0\", \"font\": {\"color\": \"#000000\"}, \"y\": 3, \"x\": 1.55, \"showarrow\": false, \"yref\": \"y1\"}, {\"align\": \"left\", \"xref\": \"x1\", \"xanchor\": \"left\", \"text\": \"182\", \"font\": {\"color\": \"#000000\"}, \"y\": 3, \"x\": 2.55, \"showarrow\": false, \"yref\": \"y1\"}, {\"align\": \"left\", \"xref\": \"x1\", \"xanchor\": \"left\", \"text\": \"Web Properties\", \"font\": {\"color\": \"#000000\"}, \"y\": 4, \"x\": -0.45, \"showarrow\": false, \"yref\": \"y1\"}, {\"align\": \"left\", \"xref\": \"x1\", \"xanchor\": \"left\", \"text\": \"Mozilla Staff\", \"font\": {\"color\": \"#000000\"}, \"y\": 4, \"x\": 0.55, \"showarrow\": false, \"yref\": \"y1\"}, {\"align\": \"left\", \"xref\": \"x1\", \"xanchor\": \"left\", \"text\": \"74223.0\", \"font\": {\"color\": \"#000000\"}, \"y\": 4, \"x\": 1.55, \"showarrow\": false, \"yref\": \"y1\"}, {\"align\": \"left\", \"xref\": \"x1\", \"xanchor\": \"left\", \"text\": \"113\", \"font\": {\"color\": \"#000000\"}, \"y\": 4, \"x\": 2.55, \"showarrow\": false, \"yref\": \"y1\"}, {\"align\": \"left\", \"xref\": \"x1\", \"xanchor\": \"left\", \"text\": \"Addons/Web Extensions\", \"font\": {\"color\": \"#000000\"}, \"y\": 5, \"x\": -0.45, \"showarrow\": false, \"yref\": \"y1\"}, {\"align\": \"left\", \"xref\": \"x1\", \"xanchor\": \"left\", \"text\": \"Mozilla Staff\", \"font\": {\"color\": \"#000000\"}, \"y\": 5, \"x\": 0.55, \"showarrow\": false, \"yref\": \"y1\"}, {\"align\": \"left\", \"xref\": \"x1\", \"xanchor\": \"left\", \"text\": \"54231.0\", \"font\": {\"color\": \"#000000\"}, \"y\": 5, \"x\": 1.55, \"showarrow\": false, \"yref\": \"y1\"}, {\"align\": \"left\", \"xref\": \"x1\", \"xanchor\": \"left\", \"text\": \"19\", \"font\": {\"color\": \"#000000\"}, \"y\": 5, \"x\": 2.55, \"showarrow\": false, \"yref\": \"y1\"}, {\"align\": \"left\", \"xref\": \"x1\", \"xanchor\": \"left\", \"text\": \"Rust\", \"font\": {\"color\": \"#000000\"}, \"y\": 6, \"x\": -0.45, \"showarrow\": false, \"yref\": \"y1\"}, {\"align\": \"left\", \"xref\": \"x1\", \"xanchor\": \"left\", \"text\": \"Mozilla Staff\", \"font\": {\"color\": \"#000000\"}, \"y\": 6, \"x\": 0.55, \"showarrow\": false, \"yref\": \"y1\"}, {\"align\": \"left\", \"xref\": \"x1\", \"xanchor\": \"left\", \"text\": \"35783.0\", \"font\": {\"color\": \"#000000\"}, \"y\": 6, \"x\": 1.55, \"showarrow\": false, \"yref\": \"y1\"}, {\"align\": \"left\", \"xref\": \"x1\", \"xanchor\": \"left\", \"text\": \"27\", \"font\": {\"color\": \"#000000\"}, \"y\": 6, \"x\": 2.55, \"showarrow\": false, \"yref\": \"y1\"}, {\"align\": \"left\", \"xref\": \"x1\", \"xanchor\": \"left\", \"text\": \"Servo\", \"font\": {\"color\": \"#000000\"}, \"y\": 7, \"x\": -0.45, \"showarrow\": false, \"yref\": \"y1\"}, {\"align\": \"left\", \"xref\": \"x1\", \"xanchor\": \"left\", \"text\": \"Mozilla Staff\", \"font\": {\"color\": \"#000000\"}, \"y\": 7, \"x\": 0.55, \"showarrow\": false, \"yref\": \"y1\"}, {\"align\": \"left\", \"xref\": \"x1\", \"xanchor\": \"left\", \"text\": \"33441.0\", \"font\": {\"color\": \"#000000\"}, \"y\": 7, \"x\": 1.55, \"showarrow\": false, \"yref\": \"y1\"}, {\"align\": \"left\", \"xref\": \"x1\", \"xanchor\": \"left\", \"text\": \"81\", \"font\": {\"color\": \"#000000\"}, \"y\": 7, \"x\": 2.55, \"showarrow\": false, \"yref\": \"y1\"}, {\"align\": \"left\", \"xref\": \"x1\", \"xanchor\": \"left\", \"text\": \"Servo\", \"font\": {\"color\": \"#000000\"}, \"y\": 8, \"x\": -0.45, \"showarrow\": false, \"yref\": \"y1\"}, {\"align\": \"left\", \"xref\": \"x1\", \"xanchor\": \"left\", \"text\": \"Community\", \"font\": {\"color\": \"#000000\"}, \"y\": 8, \"x\": 0.55, \"showarrow\": false, \"yref\": \"y1\"}, {\"align\": \"left\", \"xref\": \"x1\", \"xanchor\": \"left\", \"text\": \"32519.0\", \"font\": {\"color\": \"#000000\"}, \"y\": 8, \"x\": 1.55, \"showarrow\": false, \"yref\": \"y1\"}, {\"align\": \"left\", \"xref\": \"x1\", \"xanchor\": \"left\", \"text\": \"73\", \"font\": {\"color\": \"#000000\"}, \"y\": 8, \"x\": 2.55, \"showarrow\": false, \"yref\": \"y1\"}, {\"align\": \"left\", \"xref\": \"x1\", \"xanchor\": \"left\", \"text\": \"Rust\", \"font\": {\"color\": \"#000000\"}, \"y\": 9, \"x\": -0.45, \"showarrow\": false, \"yref\": \"y1\"}, {\"align\": \"left\", \"xref\": \"x1\", \"xanchor\": \"left\", \"text\": \"Community\", \"font\": {\"color\": \"#000000\"}, \"y\": 9, \"x\": 0.55, \"showarrow\": false, \"yref\": \"y1\"}, {\"align\": \"left\", \"xref\": \"x1\", \"xanchor\": \"left\", \"text\": \"30541.0\", \"font\": {\"color\": \"#000000\"}, \"y\": 9, \"x\": 1.55, \"showarrow\": false, \"yref\": \"y1\"}, {\"align\": \"left\", \"xref\": \"x1\", \"xanchor\": \"left\", \"text\": \"25\", \"font\": {\"color\": \"#000000\"}, \"y\": 9, \"x\": 2.55, \"showarrow\": false, \"yref\": \"y1\"}, {\"align\": \"left\", \"xref\": \"x1\", \"xanchor\": \"left\", \"text\": \"IT/Ops\", \"font\": {\"color\": \"#000000\"}, \"y\": 10, \"x\": -0.45, \"showarrow\": false, \"yref\": \"y1\"}, {\"align\": \"left\", \"xref\": \"x1\", \"xanchor\": \"left\", \"text\": \"Community\", \"font\": {\"color\": \"#000000\"}, \"y\": 10, \"x\": 0.55, \"showarrow\": false, \"yref\": \"y1\"}, {\"align\": \"left\", \"xref\": \"x1\", \"xanchor\": \"left\", \"text\": \"25816.0\", \"font\": {\"color\": \"#000000\"}, \"y\": 10, \"x\": 1.55, \"showarrow\": false, \"yref\": \"y1\"}, {\"align\": \"left\", \"xref\": \"x1\", \"xanchor\": \"left\", \"text\": \"75\", \"font\": {\"color\": \"#000000\"}, \"y\": 10, \"x\": 2.55, \"showarrow\": false, \"yref\": \"y1\"}, {\"align\": \"left\", \"xref\": \"x1\", \"xanchor\": \"left\", \"text\": \"Release engineering\", \"font\": {\"color\": \"#000000\"}, \"y\": 11, \"x\": -0.45, \"showarrow\": false, \"yref\": \"y1\"}, {\"align\": \"left\", \"xref\": \"x1\", \"xanchor\": \"left\", \"text\": \"Mozilla Staff\", \"font\": {\"color\": \"#000000\"}, \"y\": 11, \"x\": 0.55, \"showarrow\": false, \"yref\": \"y1\"}, {\"align\": \"left\", \"xref\": \"x1\", \"xanchor\": \"left\", \"text\": \"14838.0\", \"font\": {\"color\": \"#000000\"}, \"y\": 11, \"x\": 1.55, \"showarrow\": false, \"yref\": \"y1\"}, {\"align\": \"left\", \"xref\": \"x1\", \"xanchor\": \"left\", \"text\": \"22\", \"font\": {\"color\": \"#000000\"}, \"y\": 11, \"x\": 2.55, \"showarrow\": false, \"yref\": \"y1\"}, {\"align\": \"left\", \"xref\": \"x1\", \"xanchor\": \"left\", \"text\": \"Web Properties\", \"font\": {\"color\": \"#000000\"}, \"y\": 12, \"x\": -0.45, \"showarrow\": false, \"yref\": \"y1\"}, {\"align\": \"left\", \"xref\": \"x1\", \"xanchor\": \"left\", \"text\": \"Community\", \"font\": {\"color\": \"#000000\"}, \"y\": 12, \"x\": 0.55, \"showarrow\": false, \"yref\": \"y1\"}, {\"align\": \"left\", \"xref\": \"x1\", \"xanchor\": \"left\", \"text\": \"12698.0\", \"font\": {\"color\": \"#000000\"}, \"y\": 12, \"x\": 1.55, \"showarrow\": false, \"yref\": \"y1\"}, {\"align\": \"left\", \"xref\": \"x1\", \"xanchor\": \"left\", \"text\": \"91\", \"font\": {\"color\": \"#000000\"}, \"y\": 12, \"x\": 2.55, \"showarrow\": false, \"yref\": \"y1\"}, {\"align\": \"left\", \"xref\": \"x1\", \"xanchor\": \"left\", \"text\": \"Mozilla Local/Regional communities\", \"font\": {\"color\": \"#000000\"}, \"y\": 13, \"x\": -0.45, \"showarrow\": false, \"yref\": \"y1\"}, {\"align\": \"left\", \"xref\": \"x1\", \"xanchor\": \"left\", \"text\": \"Community\", \"font\": {\"color\": \"#000000\"}, \"y\": 13, \"x\": 0.55, \"showarrow\": false, \"yref\": \"y1\"}, {\"align\": \"left\", \"xref\": \"x1\", \"xanchor\": \"left\", \"text\": \"9755.0\", \"font\": {\"color\": \"#000000\"}, \"y\": 13, \"x\": 1.55, \"showarrow\": false, \"yref\": \"y1\"}, {\"align\": \"left\", \"xref\": \"x1\", \"xanchor\": \"left\", \"text\": \"143\", \"font\": {\"color\": \"#000000\"}, \"y\": 13, \"x\": 2.55, \"showarrow\": false, \"yref\": \"y1\"}, {\"align\": \"left\", \"xref\": \"x1\", \"xanchor\": \"left\", \"text\": \"Mozilla Local/Regional communities\", \"font\": {\"color\": \"#000000\"}, \"y\": 14, \"x\": -0.45, \"showarrow\": false, \"yref\": \"y1\"}, {\"align\": \"left\", \"xref\": \"x1\", \"xanchor\": \"left\", \"text\": \"Mozilla Staff\", \"font\": {\"color\": \"#000000\"}, \"y\": 14, \"x\": 0.55, \"showarrow\": false, \"yref\": \"y1\"}, {\"align\": \"left\", \"xref\": \"x1\", \"xanchor\": \"left\", \"text\": \"7460.0\", \"font\": {\"color\": \"#000000\"}, \"y\": 14, \"x\": 1.55, \"showarrow\": false, \"yref\": \"y1\"}, {\"align\": \"left\", \"xref\": \"x1\", \"xanchor\": \"left\", \"text\": \"77\", \"font\": {\"color\": \"#000000\"}, \"y\": 14, \"x\": 2.55, \"showarrow\": false, \"yref\": \"y1\"}, {\"align\": \"left\", \"xref\": \"x1\", \"xanchor\": \"left\", \"text\": \"Addons/Web Extensions\", \"font\": {\"color\": \"#000000\"}, \"y\": 15, \"x\": -0.45, \"showarrow\": false, \"yref\": \"y1\"}, {\"align\": \"left\", \"xref\": \"x1\", \"xanchor\": \"left\", \"text\": \"Community\", \"font\": {\"color\": \"#000000\"}, \"y\": 15, \"x\": 0.55, \"showarrow\": false, \"yref\": \"y1\"}, {\"align\": \"left\", \"xref\": \"x1\", \"xanchor\": \"left\", \"text\": \"7341.0\", \"font\": {\"color\": \"#000000\"}, \"y\": 15, \"x\": 1.55, \"showarrow\": false, \"yref\": \"y1\"}, {\"align\": \"left\", \"xref\": \"x1\", \"xanchor\": \"left\", \"text\": \"11\", \"font\": {\"color\": \"#000000\"}, \"y\": 15, \"x\": 2.55, \"showarrow\": false, \"yref\": \"y1\"}, {\"align\": \"left\", \"xref\": \"x1\", \"xanchor\": \"left\", \"text\": \"Web Literacy\", \"font\": {\"color\": \"#000000\"}, \"y\": 16, \"x\": -0.45, \"showarrow\": false, \"yref\": \"y1\"}, {\"align\": \"left\", \"xref\": \"x1\", \"xanchor\": \"left\", \"text\": \"Community\", \"font\": {\"color\": \"#000000\"}, \"y\": 16, \"x\": 0.55, \"showarrow\": false, \"yref\": \"y1\"}, {\"align\": \"left\", \"xref\": \"x1\", \"xanchor\": \"left\", \"text\": \"7330.0\", \"font\": {\"color\": \"#000000\"}, \"y\": 16, \"x\": 1.55, \"showarrow\": false, \"yref\": \"y1\"}, {\"align\": \"left\", \"xref\": \"x1\", \"xanchor\": \"left\", \"text\": \"40\", \"font\": {\"color\": \"#000000\"}, \"y\": 16, \"x\": 2.55, \"showarrow\": false, \"yref\": \"y1\"}, {\"align\": \"left\", \"xref\": \"x1\", \"xanchor\": \"left\", \"text\": \"Web Literacy\", \"font\": {\"color\": \"#000000\"}, \"y\": 17, \"x\": -0.45, \"showarrow\": false, \"yref\": \"y1\"}, {\"align\": \"left\", \"xref\": \"x1\", \"xanchor\": \"left\", \"text\": \"Mozilla Staff\", \"font\": {\"color\": \"#000000\"}, \"y\": 17, \"x\": 0.55, \"showarrow\": false, \"yref\": \"y1\"}, {\"align\": \"left\", \"xref\": \"x1\", \"xanchor\": \"left\", \"text\": \"6587.0\", \"font\": {\"color\": \"#000000\"}, \"y\": 17, \"x\": 1.55, \"showarrow\": false, \"yref\": \"y1\"}, {\"align\": \"left\", \"xref\": \"x1\", \"xanchor\": \"left\", \"text\": \"51\", \"font\": {\"color\": \"#000000\"}, \"y\": 17, \"x\": 2.55, \"showarrow\": false, \"yref\": \"y1\"}, {\"align\": \"left\", \"xref\": \"x1\", \"xanchor\": \"left\", \"text\": \"Firefox OS (FxOS / B2G)\", \"font\": {\"color\": \"#000000\"}, \"y\": 18, \"x\": -0.45, \"showarrow\": false, \"yref\": \"y1\"}, {\"align\": \"left\", \"xref\": \"x1\", \"xanchor\": \"left\", \"text\": \"Mozilla Staff\", \"font\": {\"color\": \"#000000\"}, \"y\": 18, \"x\": 0.55, \"showarrow\": false, \"yref\": \"y1\"}, {\"align\": \"left\", \"xref\": \"x1\", \"xanchor\": \"left\", \"text\": \"5940.0\", \"font\": {\"color\": \"#000000\"}, \"y\": 18, \"x\": 1.55, \"showarrow\": false, \"yref\": \"y1\"}, {\"align\": \"left\", \"xref\": \"x1\", \"xanchor\": \"left\", \"text\": \"26\", \"font\": {\"color\": \"#000000\"}, \"y\": 18, \"x\": 2.55, \"showarrow\": false, \"yref\": \"y1\"}, {\"align\": \"left\", \"xref\": \"x1\", \"xanchor\": \"left\", \"text\": \"Firefox iOS\", \"font\": {\"color\": \"#000000\"}, \"y\": 19, \"x\": -0.45, \"showarrow\": false, \"yref\": \"y1\"}, {\"align\": \"left\", \"xref\": \"x1\", \"xanchor\": \"left\", \"text\": \"Mozilla Staff\", \"font\": {\"color\": \"#000000\"}, \"y\": 19, \"x\": 0.55, \"showarrow\": false, \"yref\": \"y1\"}, {\"align\": \"left\", \"xref\": \"x1\", \"xanchor\": \"left\", \"text\": \"5777.0\", \"font\": {\"color\": \"#000000\"}, \"y\": 19, \"x\": 1.55, \"showarrow\": false, \"yref\": \"y1\"}, {\"align\": \"left\", \"xref\": \"x1\", \"xanchor\": \"left\", \"text\": \"5\", \"font\": {\"color\": \"#000000\"}, \"y\": 19, \"x\": 2.55, \"showarrow\": false, \"yref\": \"y1\"}, {\"align\": \"left\", \"xref\": \"x1\", \"xanchor\": \"left\", \"text\": \"WebVR\", \"font\": {\"color\": \"#000000\"}, \"y\": 20, \"x\": -0.45, \"showarrow\": false, \"yref\": \"y1\"}, {\"align\": \"left\", \"xref\": \"x1\", \"xanchor\": \"left\", \"text\": \"Mozilla Staff\", \"font\": {\"color\": \"#000000\"}, \"y\": 20, \"x\": 0.55, \"showarrow\": false, \"yref\": \"y1\"}, {\"align\": \"left\", \"xref\": \"x1\", \"xanchor\": \"left\", \"text\": \"5764.0\", \"font\": {\"color\": \"#000000\"}, \"y\": 20, \"x\": 1.55, \"showarrow\": false, \"yref\": \"y1\"}, {\"align\": \"left\", \"xref\": \"x1\", \"xanchor\": \"left\", \"text\": \"29\", \"font\": {\"color\": \"#000000\"}, \"y\": 20, \"x\": 2.55, \"showarrow\": false, \"yref\": \"y1\"}, {\"align\": \"left\", \"xref\": \"x1\", \"xanchor\": \"left\", \"text\": \"Quality Assurance\", \"font\": {\"color\": \"#000000\"}, \"y\": 21, \"x\": -0.45, \"showarrow\": false, \"yref\": \"y1\"}, {\"align\": \"left\", \"xref\": \"x1\", \"xanchor\": \"left\", \"text\": \"Mozilla Staff\", \"font\": {\"color\": \"#000000\"}, \"y\": 21, \"x\": 0.55, \"showarrow\": false, \"yref\": \"y1\"}, {\"align\": \"left\", \"xref\": \"x1\", \"xanchor\": \"left\", \"text\": \"3812.0\", \"font\": {\"color\": \"#000000\"}, \"y\": 21, \"x\": 1.55, \"showarrow\": false, \"yref\": \"y1\"}, {\"align\": \"left\", \"xref\": \"x1\", \"xanchor\": \"left\", \"text\": \"3\", \"font\": {\"color\": \"#000000\"}, \"y\": 21, \"x\": 2.55, \"showarrow\": false, \"yref\": \"y1\"}, {\"align\": \"left\", \"xref\": \"x1\", \"xanchor\": \"left\", \"text\": \"Mozilla Developer Network (MDN)\", \"font\": {\"color\": \"#000000\"}, \"y\": 22, \"x\": -0.45, \"showarrow\": false, \"yref\": \"y1\"}, {\"align\": \"left\", \"xref\": \"x1\", \"xanchor\": \"left\", \"text\": \"Mozilla Staff\", \"font\": {\"color\": \"#000000\"}, \"y\": 22, \"x\": 0.55, \"showarrow\": false, \"yref\": \"y1\"}, {\"align\": \"left\", \"xref\": \"x1\", \"xanchor\": \"left\", \"text\": \"3088.0\", \"font\": {\"color\": \"#000000\"}, \"y\": 22, \"x\": 1.55, \"showarrow\": false, \"yref\": \"y1\"}, {\"align\": \"left\", \"xref\": \"x1\", \"xanchor\": \"left\", \"text\": \"47\", \"font\": {\"color\": \"#000000\"}, \"y\": 22, \"x\": 2.55, \"showarrow\": false, \"yref\": \"y1\"}, {\"align\": \"left\", \"xref\": \"x1\", \"xanchor\": \"left\", \"text\": \"Mozilla Science\", \"font\": {\"color\": \"#000000\"}, \"y\": 23, \"x\": -0.45, \"showarrow\": false, \"yref\": \"y1\"}, {\"align\": \"left\", \"xref\": \"x1\", \"xanchor\": \"left\", \"text\": \"Community\", \"font\": {\"color\": \"#000000\"}, \"y\": 23, \"x\": 0.55, \"showarrow\": false, \"yref\": \"y1\"}, {\"align\": \"left\", \"xref\": \"x1\", \"xanchor\": \"left\", \"text\": \"2587.0\", \"font\": {\"color\": \"#000000\"}, \"y\": 23, \"x\": 1.55, \"showarrow\": false, \"yref\": \"y1\"}, {\"align\": \"left\", \"xref\": \"x1\", \"xanchor\": \"left\", \"text\": \"34\", \"font\": {\"color\": \"#000000\"}, \"y\": 23, \"x\": 2.55, \"showarrow\": false, \"yref\": \"y1\"}, {\"align\": \"left\", \"xref\": \"x1\", \"xanchor\": \"left\", \"text\": \"Marketing / Social Media\", \"font\": {\"color\": \"#000000\"}, \"y\": 24, \"x\": -0.45, \"showarrow\": false, \"yref\": \"y1\"}, {\"align\": \"left\", \"xref\": \"x1\", \"xanchor\": \"left\", \"text\": \"Mozilla Staff\", \"font\": {\"color\": \"#000000\"}, \"y\": 24, \"x\": 0.55, \"showarrow\": false, \"yref\": \"y1\"}, {\"align\": \"left\", \"xref\": \"x1\", \"xanchor\": \"left\", \"text\": \"2133.0\", \"font\": {\"color\": \"#000000\"}, \"y\": 24, \"x\": 1.55, \"showarrow\": false, \"yref\": \"y1\"}, {\"align\": \"left\", \"xref\": \"x1\", \"xanchor\": \"left\", \"text\": \"15\", \"font\": {\"color\": \"#000000\"}, \"y\": 24, \"x\": 2.55, \"showarrow\": false, \"yref\": \"y1\"}, {\"align\": \"left\", \"xref\": \"x1\", \"xanchor\": \"left\", \"text\": \"Test Pilot\", \"font\": {\"color\": \"#000000\"}, \"y\": 25, \"x\": -0.45, \"showarrow\": false, \"yref\": \"y1\"}, {\"align\": \"left\", \"xref\": \"x1\", \"xanchor\": \"left\", \"text\": \"Mozilla Staff\", \"font\": {\"color\": \"#000000\"}, \"y\": 25, \"x\": 0.55, \"showarrow\": false, \"yref\": \"y1\"}, {\"align\": \"left\", \"xref\": \"x1\", \"xanchor\": \"left\", \"text\": \"2127.0\", \"font\": {\"color\": \"#000000\"}, \"y\": 25, \"x\": 1.55, \"showarrow\": false, \"yref\": \"y1\"}, {\"align\": \"left\", \"xref\": \"x1\", \"xanchor\": \"left\", \"text\": \"6\", \"font\": {\"color\": \"#000000\"}, \"y\": 25, \"x\": 2.55, \"showarrow\": false, \"yref\": \"y1\"}, {\"align\": \"left\", \"xref\": \"x1\", \"xanchor\": \"left\", \"text\": \"Marketing / Social Media\", \"font\": {\"color\": \"#000000\"}, \"y\": 26, \"x\": -0.45, \"showarrow\": false, \"yref\": \"y1\"}, {\"align\": \"left\", \"xref\": \"x1\", \"xanchor\": \"left\", \"text\": \"Community\", \"font\": {\"color\": \"#000000\"}, \"y\": 26, \"x\": 0.55, \"showarrow\": false, \"yref\": \"y1\"}, {\"align\": \"left\", \"xref\": \"x1\", \"xanchor\": \"left\", \"text\": \"1674.0\", \"font\": {\"color\": \"#000000\"}, \"y\": 26, \"x\": 1.55, \"showarrow\": false, \"yref\": \"y1\"}, {\"align\": \"left\", \"xref\": \"x1\", \"xanchor\": \"left\", \"text\": \"7\", \"font\": {\"color\": \"#000000\"}, \"y\": 26, \"x\": 2.55, \"showarrow\": false, \"yref\": \"y1\"}, {\"align\": \"left\", \"xref\": \"x1\", \"xanchor\": \"left\", \"text\": \"Mozilla Location Service (MLS) / Stumbler\", \"font\": {\"color\": \"#000000\"}, \"y\": 27, \"x\": -0.45, \"showarrow\": false, \"yref\": \"y1\"}, {\"align\": \"left\", \"xref\": \"x1\", \"xanchor\": \"left\", \"text\": \"Mozilla Staff\", \"font\": {\"color\": \"#000000\"}, \"y\": 27, \"x\": 0.55, \"showarrow\": false, \"yref\": \"y1\"}, {\"align\": \"left\", \"xref\": \"x1\", \"xanchor\": \"left\", \"text\": \"1376.0\", \"font\": {\"color\": \"#000000\"}, \"y\": 27, \"x\": 1.55, \"showarrow\": false, \"yref\": \"y1\"}, {\"align\": \"left\", \"xref\": \"x1\", \"xanchor\": \"left\", \"text\": \"1\", \"font\": {\"color\": \"#000000\"}, \"y\": 27, \"x\": 2.55, \"showarrow\": false, \"yref\": \"y1\"}, {\"align\": \"left\", \"xref\": \"x1\", \"xanchor\": \"left\", \"text\": \"WebVR\", \"font\": {\"color\": \"#000000\"}, \"y\": 28, \"x\": -0.45, \"showarrow\": false, \"yref\": \"y1\"}, {\"align\": \"left\", \"xref\": \"x1\", \"xanchor\": \"left\", \"text\": \"Community\", \"font\": {\"color\": \"#000000\"}, \"y\": 28, \"x\": 0.55, \"showarrow\": false, \"yref\": \"y1\"}, {\"align\": \"left\", \"xref\": \"x1\", \"xanchor\": \"left\", \"text\": \"1200.0\", \"font\": {\"color\": \"#000000\"}, \"y\": 28, \"x\": 1.55, \"showarrow\": false, \"yref\": \"y1\"}, {\"align\": \"left\", \"xref\": \"x1\", \"xanchor\": \"left\", \"text\": \"19\", \"font\": {\"color\": \"#000000\"}, \"y\": 28, \"x\": 2.55, \"showarrow\": false, \"yref\": \"y1\"}, {\"align\": \"left\", \"xref\": \"x1\", \"xanchor\": \"left\", \"text\": \"Localization\", \"font\": {\"color\": \"#000000\"}, \"y\": 29, \"x\": -0.45, \"showarrow\": false, \"yref\": \"y1\"}, {\"align\": \"left\", \"xref\": \"x1\", \"xanchor\": \"left\", \"text\": \"Mozilla Staff\", \"font\": {\"color\": \"#000000\"}, \"y\": 29, \"x\": 0.55, \"showarrow\": false, \"yref\": \"y1\"}, {\"align\": \"left\", \"xref\": \"x1\", \"xanchor\": \"left\", \"text\": \"1172.0\", \"font\": {\"color\": \"#000000\"}, \"y\": 29, \"x\": 1.55, \"showarrow\": false, \"yref\": \"y1\"}, {\"align\": \"left\", \"xref\": \"x1\", \"xanchor\": \"left\", \"text\": \"4\", \"font\": {\"color\": \"#000000\"}, \"y\": 29, \"x\": 2.55, \"showarrow\": false, \"yref\": \"y1\"}, {\"align\": \"left\", \"xref\": \"x1\", \"xanchor\": \"left\", \"text\": \"Test Pilot\", \"font\": {\"color\": \"#000000\"}, \"y\": 30, \"x\": -0.45, \"showarrow\": false, \"yref\": \"y1\"}, {\"align\": \"left\", \"xref\": \"x1\", \"xanchor\": \"left\", \"text\": \"Community\", \"font\": {\"color\": \"#000000\"}, \"y\": 30, \"x\": 0.55, \"showarrow\": false, \"yref\": \"y1\"}, {\"align\": \"left\", \"xref\": \"x1\", \"xanchor\": \"left\", \"text\": \"1147.0\", \"font\": {\"color\": \"#000000\"}, \"y\": 30, \"x\": 1.55, \"showarrow\": false, \"yref\": \"y1\"}, {\"align\": \"left\", \"xref\": \"x1\", \"xanchor\": \"left\", \"text\": \"2\", \"font\": {\"color\": \"#000000\"}, \"y\": 30, \"x\": 2.55, \"showarrow\": false, \"yref\": \"y1\"}, {\"align\": \"left\", \"xref\": \"x1\", \"xanchor\": \"left\", \"text\": \"Firefox OS (FxOS / B2G)\", \"font\": {\"color\": \"#000000\"}, \"y\": 31, \"x\": -0.45, \"showarrow\": false, \"yref\": \"y1\"}, {\"align\": \"left\", \"xref\": \"x1\", \"xanchor\": \"left\", \"text\": \"Community\", \"font\": {\"color\": \"#000000\"}, \"y\": 31, \"x\": 0.55, \"showarrow\": false, \"yref\": \"y1\"}, {\"align\": \"left\", \"xref\": \"x1\", \"xanchor\": \"left\", \"text\": \"1116.0\", \"font\": {\"color\": \"#000000\"}, \"y\": 31, \"x\": 1.55, \"showarrow\": false, \"yref\": \"y1\"}, {\"align\": \"left\", \"xref\": \"x1\", \"xanchor\": \"left\", \"text\": \"18\", \"font\": {\"color\": \"#000000\"}, \"y\": 31, \"x\": 2.55, \"showarrow\": false, \"yref\": \"y1\"}, {\"align\": \"left\", \"xref\": \"x1\", \"xanchor\": \"left\", \"text\": \"Firefox\", \"font\": {\"color\": \"#000000\"}, \"y\": 32, \"x\": -0.45, \"showarrow\": false, \"yref\": \"y1\"}, {\"align\": \"left\", \"xref\": \"x1\", \"xanchor\": \"left\", \"text\": \"Mozilla Staff\", \"font\": {\"color\": \"#000000\"}, \"y\": 32, \"x\": 0.55, \"showarrow\": false, \"yref\": \"y1\"}, {\"align\": \"left\", \"xref\": \"x1\", \"xanchor\": \"left\", \"text\": \"1072.0\", \"font\": {\"color\": \"#000000\"}, \"y\": 32, \"x\": 1.55, \"showarrow\": false, \"yref\": \"y1\"}, {\"align\": \"left\", \"xref\": \"x1\", \"xanchor\": \"left\", \"text\": \"1\", \"font\": {\"color\": \"#000000\"}, \"y\": 32, \"x\": 2.55, \"showarrow\": false, \"yref\": \"y1\"}, {\"align\": \"left\", \"xref\": \"x1\", \"xanchor\": \"left\", \"text\": \"Quality Assurance\", \"font\": {\"color\": \"#000000\"}, \"y\": 33, \"x\": -0.45, \"showarrow\": false, \"yref\": \"y1\"}, {\"align\": \"left\", \"xref\": \"x1\", \"xanchor\": \"left\", \"text\": \"Community\", \"font\": {\"color\": \"#000000\"}, \"y\": 33, \"x\": 0.55, \"showarrow\": false, \"yref\": \"y1\"}, {\"align\": \"left\", \"xref\": \"x1\", \"xanchor\": \"left\", \"text\": \"1072.0\", \"font\": {\"color\": \"#000000\"}, \"y\": 33, \"x\": 1.55, \"showarrow\": false, \"yref\": \"y1\"}, {\"align\": \"left\", \"xref\": \"x1\", \"xanchor\": \"left\", \"text\": \"2\", \"font\": {\"color\": \"#000000\"}, \"y\": 33, \"x\": 2.55, \"showarrow\": false, \"yref\": \"y1\"}, {\"align\": \"left\", \"xref\": \"x1\", \"xanchor\": \"left\", \"text\": \"Advocacy and policy\", \"font\": {\"color\": \"#000000\"}, \"y\": 34, \"x\": -0.45, \"showarrow\": false, \"yref\": \"y1\"}, {\"align\": \"left\", \"xref\": \"x1\", \"xanchor\": \"left\", \"text\": \"Mozilla Staff\", \"font\": {\"color\": \"#000000\"}, \"y\": 34, \"x\": 0.55, \"showarrow\": false, \"yref\": \"y1\"}, {\"align\": \"left\", \"xref\": \"x1\", \"xanchor\": \"left\", \"text\": \"1065.0\", \"font\": {\"color\": \"#000000\"}, \"y\": 34, \"x\": 1.55, \"showarrow\": false, \"yref\": \"y1\"}, {\"align\": \"left\", \"xref\": \"x1\", \"xanchor\": \"left\", \"text\": \"4\", \"font\": {\"color\": \"#000000\"}, \"y\": 34, \"x\": 2.55, \"showarrow\": false, \"yref\": \"y1\"}, {\"align\": \"left\", \"xref\": \"x1\", \"xanchor\": \"left\", \"text\": \"Firefox Focus\", \"font\": {\"color\": \"#000000\"}, \"y\": 35, \"x\": -0.45, \"showarrow\": false, \"yref\": \"y1\"}, {\"align\": \"left\", \"xref\": \"x1\", \"xanchor\": \"left\", \"text\": \"Mozilla Staff\", \"font\": {\"color\": \"#000000\"}, \"y\": 35, \"x\": 0.55, \"showarrow\": false, \"yref\": \"y1\"}, {\"align\": \"left\", \"xref\": \"x1\", \"xanchor\": \"left\", \"text\": \"982.0\", \"font\": {\"color\": \"#000000\"}, \"y\": 35, \"x\": 1.55, \"showarrow\": false, \"yref\": \"y1\"}, {\"align\": \"left\", \"xref\": \"x1\", \"xanchor\": \"left\", \"text\": \"2\", \"font\": {\"color\": \"#000000\"}, \"y\": 35, \"x\": 2.55, \"showarrow\": false, \"yref\": \"y1\"}, {\"align\": \"left\", \"xref\": \"x1\", \"xanchor\": \"left\", \"text\": \"Mozilla Science\", \"font\": {\"color\": \"#000000\"}, \"y\": 36, \"x\": -0.45, \"showarrow\": false, \"yref\": \"y1\"}, {\"align\": \"left\", \"xref\": \"x1\", \"xanchor\": \"left\", \"text\": \"Mozilla Staff\", \"font\": {\"color\": \"#000000\"}, \"y\": 36, \"x\": 0.55, \"showarrow\": false, \"yref\": \"y1\"}, {\"align\": \"left\", \"xref\": \"x1\", \"xanchor\": \"left\", \"text\": \"954.0\", \"font\": {\"color\": \"#000000\"}, \"y\": 36, \"x\": 1.55, \"showarrow\": false, \"yref\": \"y1\"}, {\"align\": \"left\", \"xref\": \"x1\", \"xanchor\": \"left\", \"text\": \"21\", \"font\": {\"color\": \"#000000\"}, \"y\": 36, \"x\": 2.55, \"showarrow\": false, \"yref\": \"y1\"}, {\"align\": \"left\", \"xref\": \"x1\", \"xanchor\": \"left\", \"text\": \"Localization\", \"font\": {\"color\": \"#000000\"}, \"y\": 37, \"x\": -0.45, \"showarrow\": false, \"yref\": \"y1\"}, {\"align\": \"left\", \"xref\": \"x1\", \"xanchor\": \"left\", \"text\": \"Community\", \"font\": {\"color\": \"#000000\"}, \"y\": 37, \"x\": 0.55, \"showarrow\": false, \"yref\": \"y1\"}, {\"align\": \"left\", \"xref\": \"x1\", \"xanchor\": \"left\", \"text\": \"929.0\", \"font\": {\"color\": \"#000000\"}, \"y\": 37, \"x\": 1.55, \"showarrow\": false, \"yref\": \"y1\"}, {\"align\": \"left\", \"xref\": \"x1\", \"xanchor\": \"left\", \"text\": \"4\", \"font\": {\"color\": \"#000000\"}, \"y\": 37, \"x\": 2.55, \"showarrow\": false, \"yref\": \"y1\"}, {\"align\": \"left\", \"xref\": \"x1\", \"xanchor\": \"left\", \"text\": \"Release engineering\", \"font\": {\"color\": \"#000000\"}, \"y\": 38, \"x\": -0.45, \"showarrow\": false, \"yref\": \"y1\"}, {\"align\": \"left\", \"xref\": \"x1\", \"xanchor\": \"left\", \"text\": \"Community\", \"font\": {\"color\": \"#000000\"}, \"y\": 38, \"x\": 0.55, \"showarrow\": false, \"yref\": \"y1\"}, {\"align\": \"left\", \"xref\": \"x1\", \"xanchor\": \"left\", \"text\": \"902.0\", \"font\": {\"color\": \"#000000\"}, \"y\": 38, \"x\": 1.55, \"showarrow\": false, \"yref\": \"y1\"}, {\"align\": \"left\", \"xref\": \"x1\", \"xanchor\": \"left\", \"text\": \"9\", \"font\": {\"color\": \"#000000\"}, \"y\": 38, \"x\": 2.55, \"showarrow\": false, \"yref\": \"y1\"}, {\"align\": \"left\", \"xref\": \"x1\", \"xanchor\": \"left\", \"text\": \"Technical/Developer Evangelism\", \"font\": {\"color\": \"#000000\"}, \"y\": 39, \"x\": -0.45, \"showarrow\": false, \"yref\": \"y1\"}, {\"align\": \"left\", \"xref\": \"x1\", \"xanchor\": \"left\", \"text\": \"Mozilla Staff\", \"font\": {\"color\": \"#000000\"}, \"y\": 39, \"x\": 0.55, \"showarrow\": false, \"yref\": \"y1\"}, {\"align\": \"left\", \"xref\": \"x1\", \"xanchor\": \"left\", \"text\": \"814.0\", \"font\": {\"color\": \"#000000\"}, \"y\": 39, \"x\": 1.55, \"showarrow\": false, \"yref\": \"y1\"}, {\"align\": \"left\", \"xref\": \"x1\", \"xanchor\": \"left\", \"text\": \"17\", \"font\": {\"color\": \"#000000\"}, \"y\": 39, \"x\": 2.55, \"showarrow\": false, \"yref\": \"y1\"}, {\"align\": \"left\", \"xref\": \"x1\", \"xanchor\": \"left\", \"text\": \"Mozilla Foundation\", \"font\": {\"color\": \"#000000\"}, \"y\": 40, \"x\": -0.45, \"showarrow\": false, \"yref\": \"y1\"}, {\"align\": \"left\", \"xref\": \"x1\", \"xanchor\": \"left\", \"text\": \"Mozilla Staff\", \"font\": {\"color\": \"#000000\"}, \"y\": 40, \"x\": 0.55, \"showarrow\": false, \"yref\": \"y1\"}, {\"align\": \"left\", \"xref\": \"x1\", \"xanchor\": \"left\", \"text\": \"806.0\", \"font\": {\"color\": \"#000000\"}, \"y\": 40, \"x\": 1.55, \"showarrow\": false, \"yref\": \"y1\"}, {\"align\": \"left\", \"xref\": \"x1\", \"xanchor\": \"left\", \"text\": \"36\", \"font\": {\"color\": \"#000000\"}, \"y\": 40, \"x\": 2.55, \"showarrow\": false, \"yref\": \"y1\"}, {\"align\": \"left\", \"xref\": \"x1\", \"xanchor\": \"left\", \"text\": \"Mozilla Location Service (MLS) / Stumbler\", \"font\": {\"color\": \"#000000\"}, \"y\": 41, \"x\": -0.45, \"showarrow\": false, \"yref\": \"y1\"}, {\"align\": \"left\", \"xref\": \"x1\", \"xanchor\": \"left\", \"text\": \"Community\", \"font\": {\"color\": \"#000000\"}, \"y\": 41, \"x\": 0.55, \"showarrow\": false, \"yref\": \"y1\"}, {\"align\": \"left\", \"xref\": \"x1\", \"xanchor\": \"left\", \"text\": \"591.0\", \"font\": {\"color\": \"#000000\"}, \"y\": 41, \"x\": 1.55, \"showarrow\": false, \"yref\": \"y1\"}, {\"align\": \"left\", \"xref\": \"x1\", \"xanchor\": \"left\", \"text\": \"1\", \"font\": {\"color\": \"#000000\"}, \"y\": 41, \"x\": 2.55, \"showarrow\": false, \"yref\": \"y1\"}, {\"align\": \"left\", \"xref\": \"x1\", \"xanchor\": \"left\", \"text\": \"Mozilla Foundation\", \"font\": {\"color\": \"#000000\"}, \"y\": 42, \"x\": -0.45, \"showarrow\": false, \"yref\": \"y1\"}, {\"align\": \"left\", \"xref\": \"x1\", \"xanchor\": \"left\", \"text\": \"Community\", \"font\": {\"color\": \"#000000\"}, \"y\": 42, \"x\": 0.55, \"showarrow\": false, \"yref\": \"y1\"}, {\"align\": \"left\", \"xref\": \"x1\", \"xanchor\": \"left\", \"text\": \"584.0\", \"font\": {\"color\": \"#000000\"}, \"y\": 42, \"x\": 1.55, \"showarrow\": false, \"yref\": \"y1\"}, {\"align\": \"left\", \"xref\": \"x1\", \"xanchor\": \"left\", \"text\": \"24\", \"font\": {\"color\": \"#000000\"}, \"y\": 42, \"x\": 2.55, \"showarrow\": false, \"yref\": \"y1\"}, {\"align\": \"left\", \"xref\": \"x1\", \"xanchor\": \"left\", \"text\": \"Vaani\", \"font\": {\"color\": \"#000000\"}, \"y\": 43, \"x\": -0.45, \"showarrow\": false, \"yref\": \"y1\"}, {\"align\": \"left\", \"xref\": \"x1\", \"xanchor\": \"left\", \"text\": \"Mozilla Staff\", \"font\": {\"color\": \"#000000\"}, \"y\": 43, \"x\": 0.55, \"showarrow\": false, \"yref\": \"y1\"}, {\"align\": \"left\", \"xref\": \"x1\", \"xanchor\": \"left\", \"text\": \"470.0\", \"font\": {\"color\": \"#000000\"}, \"y\": 43, \"x\": 1.55, \"showarrow\": false, \"yref\": \"y1\"}, {\"align\": \"left\", \"xref\": \"x1\", \"xanchor\": \"left\", \"text\": \"8\", \"font\": {\"color\": \"#000000\"}, \"y\": 43, \"x\": 2.55, \"showarrow\": false, \"yref\": \"y1\"}, {\"align\": \"left\", \"xref\": \"x1\", \"xanchor\": \"left\", \"text\": \"Firefox\", \"font\": {\"color\": \"#000000\"}, \"y\": 44, \"x\": -0.45, \"showarrow\": false, \"yref\": \"y1\"}, {\"align\": \"left\", \"xref\": \"x1\", \"xanchor\": \"left\", \"text\": \"Community\", \"font\": {\"color\": \"#000000\"}, \"y\": 44, \"x\": 0.55, \"showarrow\": false, \"yref\": \"y1\"}, {\"align\": \"left\", \"xref\": \"x1\", \"xanchor\": \"left\", \"text\": \"461.0\", \"font\": {\"color\": \"#000000\"}, \"y\": 44, \"x\": 1.55, \"showarrow\": false, \"yref\": \"y1\"}, {\"align\": \"left\", \"xref\": \"x1\", \"xanchor\": \"left\", \"text\": \"1\", \"font\": {\"color\": \"#000000\"}, \"y\": 44, \"x\": 2.55, \"showarrow\": false, \"yref\": \"y1\"}, {\"align\": \"left\", \"xref\": \"x1\", \"xanchor\": \"left\", \"text\": \"Mozilla Developer Network (MDN)\", \"font\": {\"color\": \"#000000\"}, \"y\": 45, \"x\": -0.45, \"showarrow\": false, \"yref\": \"y1\"}, {\"align\": \"left\", \"xref\": \"x1\", \"xanchor\": \"left\", \"text\": \"Community\", \"font\": {\"color\": \"#000000\"}, \"y\": 45, \"x\": 0.55, \"showarrow\": false, \"yref\": \"y1\"}, {\"align\": \"left\", \"xref\": \"x1\", \"xanchor\": \"left\", \"text\": \"451.0\", \"font\": {\"color\": \"#000000\"}, \"y\": 45, \"x\": 1.55, \"showarrow\": false, \"yref\": \"y1\"}, {\"align\": \"left\", \"xref\": \"x1\", \"xanchor\": \"left\", \"text\": \"27\", \"font\": {\"color\": \"#000000\"}, \"y\": 45, \"x\": 2.55, \"showarrow\": false, \"yref\": \"y1\"}, {\"align\": \"left\", \"xref\": \"x1\", \"xanchor\": \"left\", \"text\": \"Firefox iOS\", \"font\": {\"color\": \"#000000\"}, \"y\": 46, \"x\": -0.45, \"showarrow\": false, \"yref\": \"y1\"}, {\"align\": \"left\", \"xref\": \"x1\", \"xanchor\": \"left\", \"text\": \"Community\", \"font\": {\"color\": \"#000000\"}, \"y\": 46, \"x\": 0.55, \"showarrow\": false, \"yref\": \"y1\"}, {\"align\": \"left\", \"xref\": \"x1\", \"xanchor\": \"left\", \"text\": \"441.0\", \"font\": {\"color\": \"#000000\"}, \"y\": 46, \"x\": 1.55, \"showarrow\": false, \"yref\": \"y1\"}, {\"align\": \"left\", \"xref\": \"x1\", \"xanchor\": \"left\", \"text\": \"3\", \"font\": {\"color\": \"#000000\"}, \"y\": 46, \"x\": 2.55, \"showarrow\": false, \"yref\": \"y1\"}, {\"align\": \"left\", \"xref\": \"x1\", \"xanchor\": \"left\", \"text\": \"Advocacy and policy\", \"font\": {\"color\": \"#000000\"}, \"y\": 47, \"x\": -0.45, \"showarrow\": false, \"yref\": \"y1\"}, {\"align\": \"left\", \"xref\": \"x1\", \"xanchor\": \"left\", \"text\": \"Community\", \"font\": {\"color\": \"#000000\"}, \"y\": 47, \"x\": 0.55, \"showarrow\": false, \"yref\": \"y1\"}, {\"align\": \"left\", \"xref\": \"x1\", \"xanchor\": \"left\", \"text\": \"413.0\", \"font\": {\"color\": \"#000000\"}, \"y\": 47, \"x\": 1.55, \"showarrow\": false, \"yref\": \"y1\"}, {\"align\": \"left\", \"xref\": \"x1\", \"xanchor\": \"left\", \"text\": \"4\", \"font\": {\"color\": \"#000000\"}, \"y\": 47, \"x\": 2.55, \"showarrow\": false, \"yref\": \"y1\"}, {\"align\": \"left\", \"xref\": \"x1\", \"xanchor\": \"left\", \"text\": \"Deep Speech\", \"font\": {\"color\": \"#000000\"}, \"y\": 48, \"x\": -0.45, \"showarrow\": false, \"yref\": \"y1\"}, {\"align\": \"left\", \"xref\": \"x1\", \"xanchor\": \"left\", \"text\": \"Mozilla Staff\", \"font\": {\"color\": \"#000000\"}, \"y\": 48, \"x\": 0.55, \"showarrow\": false, \"yref\": \"y1\"}, {\"align\": \"left\", \"xref\": \"x1\", \"xanchor\": \"left\", \"text\": \"341.0\", \"font\": {\"color\": \"#000000\"}, \"y\": 48, \"x\": 1.55, \"showarrow\": false, \"yref\": \"y1\"}, {\"align\": \"left\", \"xref\": \"x1\", \"xanchor\": \"left\", \"text\": \"1\", \"font\": {\"color\": \"#000000\"}, \"y\": 48, \"x\": 2.55, \"showarrow\": false, \"yref\": \"y1\"}, {\"align\": \"left\", \"xref\": \"x1\", \"xanchor\": \"left\", \"text\": \"Developer Tools\", \"font\": {\"color\": \"#000000\"}, \"y\": 49, \"x\": -0.45, \"showarrow\": false, \"yref\": \"y1\"}, {\"align\": \"left\", \"xref\": \"x1\", \"xanchor\": \"left\", \"text\": \"Mozilla Staff\", \"font\": {\"color\": \"#000000\"}, \"y\": 49, \"x\": 0.55, \"showarrow\": false, \"yref\": \"y1\"}, {\"align\": \"left\", \"xref\": \"x1\", \"xanchor\": \"left\", \"text\": \"293.0\", \"font\": {\"color\": \"#000000\"}, \"y\": 49, \"x\": 1.55, \"showarrow\": false, \"yref\": \"y1\"}, {\"align\": \"left\", \"xref\": \"x1\", \"xanchor\": \"left\", \"text\": \"4\", \"font\": {\"color\": \"#000000\"}, \"y\": 49, \"x\": 2.55, \"showarrow\": false, \"yref\": \"y1\"}, {\"align\": \"left\", \"xref\": \"x1\", \"xanchor\": \"left\", \"text\": \"Connected devices & IoT\", \"font\": {\"color\": \"#000000\"}, \"y\": 50, \"x\": -0.45, \"showarrow\": false, \"yref\": \"y1\"}, {\"align\": \"left\", \"xref\": \"x1\", \"xanchor\": \"left\", \"text\": \"Community\", \"font\": {\"color\": \"#000000\"}, \"y\": 50, \"x\": 0.55, \"showarrow\": false, \"yref\": \"y1\"}, {\"align\": \"left\", \"xref\": \"x1\", \"xanchor\": \"left\", \"text\": \"222.0\", \"font\": {\"color\": \"#000000\"}, \"y\": 50, \"x\": 1.55, \"showarrow\": false, \"yref\": \"y1\"}, {\"align\": \"left\", \"xref\": \"x1\", \"xanchor\": \"left\", \"text\": \"1\", \"font\": {\"color\": \"#000000\"}, \"y\": 50, \"x\": 2.55, \"showarrow\": false, \"yref\": \"y1\"}, {\"align\": \"left\", \"xref\": \"x1\", \"xanchor\": \"left\", \"text\": \"Mozilla Local/Regional communities\", \"font\": {\"color\": \"#000000\"}, \"y\": 51, \"x\": -0.45, \"showarrow\": false, \"yref\": \"y1\"}, {\"align\": \"left\", \"xref\": \"x1\", \"xanchor\": \"left\", \"text\": \"Mozilla Reps\", \"font\": {\"color\": \"#000000\"}, \"y\": 51, \"x\": 0.55, \"showarrow\": false, \"yref\": \"y1\"}, {\"align\": \"left\", \"xref\": \"x1\", \"xanchor\": \"left\", \"text\": \"192.0\", \"font\": {\"color\": \"#000000\"}, \"y\": 51, \"x\": 1.55, \"showarrow\": false, \"yref\": \"y1\"}, {\"align\": \"left\", \"xref\": \"x1\", \"xanchor\": \"left\", \"text\": \"15\", \"font\": {\"color\": \"#000000\"}, \"y\": 51, \"x\": 2.55, \"showarrow\": false, \"yref\": \"y1\"}, {\"align\": \"left\", \"xref\": \"x1\", \"xanchor\": \"left\", \"text\": \"Mozilla Clubs\", \"font\": {\"color\": \"#000000\"}, \"y\": 52, \"x\": -0.45, \"showarrow\": false, \"yref\": \"y1\"}, {\"align\": \"left\", \"xref\": \"x1\", \"xanchor\": \"left\", \"text\": \"Mozilla Staff\", \"font\": {\"color\": \"#000000\"}, \"y\": 52, \"x\": 0.55, \"showarrow\": false, \"yref\": \"y1\"}, {\"align\": \"left\", \"xref\": \"x1\", \"xanchor\": \"left\", \"text\": \"178.0\", \"font\": {\"color\": \"#000000\"}, \"y\": 52, \"x\": 1.55, \"showarrow\": false, \"yref\": \"y1\"}, {\"align\": \"left\", \"xref\": \"x1\", \"xanchor\": \"left\", \"text\": \"8\", \"font\": {\"color\": \"#000000\"}, \"y\": 52, \"x\": 2.55, \"showarrow\": false, \"yref\": \"y1\"}, {\"align\": \"left\", \"xref\": \"x1\", \"xanchor\": \"left\", \"text\": \"Campus Clubs (previously Student Ambassadors)\", \"font\": {\"color\": \"#000000\"}, \"y\": 53, \"x\": -0.45, \"showarrow\": false, \"yref\": \"y1\"}, {\"align\": \"left\", \"xref\": \"x1\", \"xanchor\": \"left\", \"text\": \"Mozilla Staff\", \"font\": {\"color\": \"#000000\"}, \"y\": 53, \"x\": 0.55, \"showarrow\": false, \"yref\": \"y1\"}, {\"align\": \"left\", \"xref\": \"x1\", \"xanchor\": \"left\", \"text\": \"163.0\", \"font\": {\"color\": \"#000000\"}, \"y\": 53, \"x\": 1.55, \"showarrow\": false, \"yref\": \"y1\"}, {\"align\": \"left\", \"xref\": \"x1\", \"xanchor\": \"left\", \"text\": \"5\", \"font\": {\"color\": \"#000000\"}, \"y\": 53, \"x\": 2.55, \"showarrow\": false, \"yref\": \"y1\"}, {\"align\": \"left\", \"xref\": \"x1\", \"xanchor\": \"left\", \"text\": \"Web Properties\", \"font\": {\"color\": \"#000000\"}, \"y\": 54, \"x\": -0.45, \"showarrow\": false, \"yref\": \"y1\"}, {\"align\": \"left\", \"xref\": \"x1\", \"xanchor\": \"left\", \"text\": \"Mozilla Reps\", \"font\": {\"color\": \"#000000\"}, \"y\": 54, \"x\": 0.55, \"showarrow\": false, \"yref\": \"y1\"}, {\"align\": \"left\", \"xref\": \"x1\", \"xanchor\": \"left\", \"text\": \"148.0\", \"font\": {\"color\": \"#000000\"}, \"y\": 54, \"x\": 1.55, \"showarrow\": false, \"yref\": \"y1\"}, {\"align\": \"left\", \"xref\": \"x1\", \"xanchor\": \"left\", \"text\": \"4\", \"font\": {\"color\": \"#000000\"}, \"y\": 54, \"x\": 2.55, \"showarrow\": false, \"yref\": \"y1\"}, {\"align\": \"left\", \"xref\": \"x1\", \"xanchor\": \"left\", \"text\": \"Mozilla Creative & Design\", \"font\": {\"color\": \"#000000\"}, \"y\": 55, \"x\": -0.45, \"showarrow\": false, \"yref\": \"y1\"}, {\"align\": \"left\", \"xref\": \"x1\", \"xanchor\": \"left\", \"text\": \"Community\", \"font\": {\"color\": \"#000000\"}, \"y\": 55, \"x\": 0.55, \"showarrow\": false, \"yref\": \"y1\"}, {\"align\": \"left\", \"xref\": \"x1\", \"xanchor\": \"left\", \"text\": \"105.0\", \"font\": {\"color\": \"#000000\"}, \"y\": 55, \"x\": 1.55, \"showarrow\": false, \"yref\": \"y1\"}, {\"align\": \"left\", \"xref\": \"x1\", \"xanchor\": \"left\", \"text\": \"2\", \"font\": {\"color\": \"#000000\"}, \"y\": 55, \"x\": 2.55, \"showarrow\": false, \"yref\": \"y1\"}, {\"align\": \"left\", \"xref\": \"x1\", \"xanchor\": \"left\", \"text\": \"Mozilla Creative & Design\", \"font\": {\"color\": \"#000000\"}, \"y\": 56, \"x\": -0.45, \"showarrow\": false, \"yref\": \"y1\"}, {\"align\": \"left\", \"xref\": \"x1\", \"xanchor\": \"left\", \"text\": \"Mozilla Staff\", \"font\": {\"color\": \"#000000\"}, \"y\": 56, \"x\": 0.55, \"showarrow\": false, \"yref\": \"y1\"}, {\"align\": \"left\", \"xref\": \"x1\", \"xanchor\": \"left\", \"text\": \"105.0\", \"font\": {\"color\": \"#000000\"}, \"y\": 56, \"x\": 1.55, \"showarrow\": false, \"yref\": \"y1\"}, {\"align\": \"left\", \"xref\": \"x1\", \"xanchor\": \"left\", \"text\": \"3\", \"font\": {\"color\": \"#000000\"}, \"y\": 56, \"x\": 2.55, \"showarrow\": false, \"yref\": \"y1\"}, {\"align\": \"left\", \"xref\": \"x1\", \"xanchor\": \"left\", \"text\": \"Gecko\", \"font\": {\"color\": \"#000000\"}, \"y\": 57, \"x\": -0.45, \"showarrow\": false, \"yref\": \"y1\"}, {\"align\": \"left\", \"xref\": \"x1\", \"xanchor\": \"left\", \"text\": \"Mozilla Reps\", \"font\": {\"color\": \"#000000\"}, \"y\": 57, \"x\": 0.55, \"showarrow\": false, \"yref\": \"y1\"}, {\"align\": \"left\", \"xref\": \"x1\", \"xanchor\": \"left\", \"text\": \"85.0\", \"font\": {\"color\": \"#000000\"}, \"y\": 57, \"x\": 1.55, \"showarrow\": false, \"yref\": \"y1\"}, {\"align\": \"left\", \"xref\": \"x1\", \"xanchor\": \"left\", \"text\": \"3\", \"font\": {\"color\": \"#000000\"}, \"y\": 57, \"x\": 2.55, \"showarrow\": false, \"yref\": \"y1\"}, {\"align\": \"left\", \"xref\": \"x1\", \"xanchor\": \"left\", \"text\": \"Connected devices & IoT\", \"font\": {\"color\": \"#000000\"}, \"y\": 58, \"x\": -0.45, \"showarrow\": false, \"yref\": \"y1\"}, {\"align\": \"left\", \"xref\": \"x1\", \"xanchor\": \"left\", \"text\": \"Mozilla Staff\", \"font\": {\"color\": \"#000000\"}, \"y\": 58, \"x\": 0.55, \"showarrow\": false, \"yref\": \"y1\"}, {\"align\": \"left\", \"xref\": \"x1\", \"xanchor\": \"left\", \"text\": \"79.0\", \"font\": {\"color\": \"#000000\"}, \"y\": 58, \"x\": 1.55, \"showarrow\": false, \"yref\": \"y1\"}, {\"align\": \"left\", \"xref\": \"x1\", \"xanchor\": \"left\", \"text\": \"1\", \"font\": {\"color\": \"#000000\"}, \"y\": 58, \"x\": 2.55, \"showarrow\": false, \"yref\": \"y1\"}, {\"align\": \"left\", \"xref\": \"x1\", \"xanchor\": \"left\", \"text\": \"Firefox Android\", \"font\": {\"color\": \"#000000\"}, \"y\": 59, \"x\": -0.45, \"showarrow\": false, \"yref\": \"y1\"}, {\"align\": \"left\", \"xref\": \"x1\", \"xanchor\": \"left\", \"text\": \"Mozilla Staff\", \"font\": {\"color\": \"#000000\"}, \"y\": 59, \"x\": 0.55, \"showarrow\": false, \"yref\": \"y1\"}, {\"align\": \"left\", \"xref\": \"x1\", \"xanchor\": \"left\", \"text\": \"50.0\", \"font\": {\"color\": \"#000000\"}, \"y\": 59, \"x\": 1.55, \"showarrow\": false, \"yref\": \"y1\"}, {\"align\": \"left\", \"xref\": \"x1\", \"xanchor\": \"left\", \"text\": \"2\", \"font\": {\"color\": \"#000000\"}, \"y\": 59, \"x\": 2.55, \"showarrow\": false, \"yref\": \"y1\"}, {\"align\": \"left\", \"xref\": \"x1\", \"xanchor\": \"left\", \"text\": \"Technical/Developer Evangelism\", \"font\": {\"color\": \"#000000\"}, \"y\": 60, \"x\": -0.45, \"showarrow\": false, \"yref\": \"y1\"}, {\"align\": \"left\", \"xref\": \"x1\", \"xanchor\": \"left\", \"text\": \"Community\", \"font\": {\"color\": \"#000000\"}, \"y\": 60, \"x\": 0.55, \"showarrow\": false, \"yref\": \"y1\"}, {\"align\": \"left\", \"xref\": \"x1\", \"xanchor\": \"left\", \"text\": \"43.0\", \"font\": {\"color\": \"#000000\"}, \"y\": 60, \"x\": 1.55, \"showarrow\": false, \"yref\": \"y1\"}, {\"align\": \"left\", \"xref\": \"x1\", \"xanchor\": \"left\", \"text\": \"6\", \"font\": {\"color\": \"#000000\"}, \"y\": 60, \"x\": 2.55, \"showarrow\": false, \"yref\": \"y1\"}, {\"align\": \"left\", \"xref\": \"x1\", \"xanchor\": \"left\", \"text\": \"Developer Tools\", \"font\": {\"color\": \"#000000\"}, \"y\": 61, \"x\": -0.45, \"showarrow\": false, \"yref\": \"y1\"}, {\"align\": \"left\", \"xref\": \"x1\", \"xanchor\": \"left\", \"text\": \"Community\", \"font\": {\"color\": \"#000000\"}, \"y\": 61, \"x\": 0.55, \"showarrow\": false, \"yref\": \"y1\"}, {\"align\": \"left\", \"xref\": \"x1\", \"xanchor\": \"left\", \"text\": \"34.0\", \"font\": {\"color\": \"#000000\"}, \"y\": 61, \"x\": 1.55, \"showarrow\": false, \"yref\": \"y1\"}, {\"align\": \"left\", \"xref\": \"x1\", \"xanchor\": \"left\", \"text\": \"2\", \"font\": {\"color\": \"#000000\"}, \"y\": 61, \"x\": 2.55, \"showarrow\": false, \"yref\": \"y1\"}, {\"align\": \"left\", \"xref\": \"x1\", \"xanchor\": \"left\", \"text\": \"Mozilla Developer Network (MDN)\", \"font\": {\"color\": \"#000000\"}, \"y\": 62, \"x\": -0.45, \"showarrow\": false, \"yref\": \"y1\"}, {\"align\": \"left\", \"xref\": \"x1\", \"xanchor\": \"left\", \"text\": \"Mozilla Reps\", \"font\": {\"color\": \"#000000\"}, \"y\": 62, \"x\": 0.55, \"showarrow\": false, \"yref\": \"y1\"}, {\"align\": \"left\", \"xref\": \"x1\", \"xanchor\": \"left\", \"text\": \"32.0\", \"font\": {\"color\": \"#000000\"}, \"y\": 62, \"x\": 1.55, \"showarrow\": false, \"yref\": \"y1\"}, {\"align\": \"left\", \"xref\": \"x1\", \"xanchor\": \"left\", \"text\": \"1\", \"font\": {\"color\": \"#000000\"}, \"y\": 62, \"x\": 2.55, \"showarrow\": false, \"yref\": \"y1\"}, {\"align\": \"left\", \"xref\": \"x1\", \"xanchor\": \"left\", \"text\": \"Deep Speech\", \"font\": {\"color\": \"#000000\"}, \"y\": 63, \"x\": -0.45, \"showarrow\": false, \"yref\": \"y1\"}, {\"align\": \"left\", \"xref\": \"x1\", \"xanchor\": \"left\", \"text\": \"Community\", \"font\": {\"color\": \"#000000\"}, \"y\": 63, \"x\": 0.55, \"showarrow\": false, \"yref\": \"y1\"}, {\"align\": \"left\", \"xref\": \"x1\", \"xanchor\": \"left\", \"text\": \"21.0\", \"font\": {\"color\": \"#000000\"}, \"y\": 63, \"x\": 1.55, \"showarrow\": false, \"yref\": \"y1\"}, {\"align\": \"left\", \"xref\": \"x1\", \"xanchor\": \"left\", \"text\": \"1\", \"font\": {\"color\": \"#000000\"}, \"y\": 63, \"x\": 2.55, \"showarrow\": false, \"yref\": \"y1\"}, {\"align\": \"left\", \"xref\": \"x1\", \"xanchor\": \"left\", \"text\": \"Mozilla Clubs\", \"font\": {\"color\": \"#000000\"}, \"y\": 64, \"x\": -0.45, \"showarrow\": false, \"yref\": \"y1\"}, {\"align\": \"left\", \"xref\": \"x1\", \"xanchor\": \"left\", \"text\": \"Community\", \"font\": {\"color\": \"#000000\"}, \"y\": 64, \"x\": 0.55, \"showarrow\": false, \"yref\": \"y1\"}, {\"align\": \"left\", \"xref\": \"x1\", \"xanchor\": \"left\", \"text\": \"20.0\", \"font\": {\"color\": \"#000000\"}, \"y\": 64, \"x\": 1.55, \"showarrow\": false, \"yref\": \"y1\"}, {\"align\": \"left\", \"xref\": \"x1\", \"xanchor\": \"left\", \"text\": \"4\", \"font\": {\"color\": \"#000000\"}, \"y\": 64, \"x\": 2.55, \"showarrow\": false, \"yref\": \"y1\"}, {\"align\": \"left\", \"xref\": \"x1\", \"xanchor\": \"left\", \"text\": \"Firefox Focus\", \"font\": {\"color\": \"#000000\"}, \"y\": 65, \"x\": -0.45, \"showarrow\": false, \"yref\": \"y1\"}, {\"align\": \"left\", \"xref\": \"x1\", \"xanchor\": \"left\", \"text\": \"Community\", \"font\": {\"color\": \"#000000\"}, \"y\": 65, \"x\": 0.55, \"showarrow\": false, \"yref\": \"y1\"}, {\"align\": \"left\", \"xref\": \"x1\", \"xanchor\": \"left\", \"text\": \"8.0\", \"font\": {\"color\": \"#000000\"}, \"y\": 65, \"x\": 1.55, \"showarrow\": false, \"yref\": \"y1\"}, {\"align\": \"left\", \"xref\": \"x1\", \"xanchor\": \"left\", \"text\": \"2\", \"font\": {\"color\": \"#000000\"}, \"y\": 65, \"x\": 2.55, \"showarrow\": false, \"yref\": \"y1\"}, {\"align\": \"left\", \"xref\": \"x1\", \"xanchor\": \"left\", \"text\": \"Servo\", \"font\": {\"color\": \"#000000\"}, \"y\": 66, \"x\": -0.45, \"showarrow\": false, \"yref\": \"y1\"}, {\"align\": \"left\", \"xref\": \"x1\", \"xanchor\": \"left\", \"text\": \"Mozilla Reps\", \"font\": {\"color\": \"#000000\"}, \"y\": 66, \"x\": 0.55, \"showarrow\": false, \"yref\": \"y1\"}, {\"align\": \"left\", \"xref\": \"x1\", \"xanchor\": \"left\", \"text\": \"4.0\", \"font\": {\"color\": \"#000000\"}, \"y\": 66, \"x\": 1.55, \"showarrow\": false, \"yref\": \"y1\"}, {\"align\": \"left\", \"xref\": \"x1\", \"xanchor\": \"left\", \"text\": \"2\", \"font\": {\"color\": \"#000000\"}, \"y\": 66, \"x\": 2.55, \"showarrow\": false, \"yref\": \"y1\"}, {\"align\": \"left\", \"xref\": \"x1\", \"xanchor\": \"left\", \"text\": \"Vaani\", \"font\": {\"color\": \"#000000\"}, \"y\": 67, \"x\": -0.45, \"showarrow\": false, \"yref\": \"y1\"}, {\"align\": \"left\", \"xref\": \"x1\", \"xanchor\": \"left\", \"text\": \"Community\", \"font\": {\"color\": \"#000000\"}, \"y\": 67, \"x\": 0.55, \"showarrow\": false, \"yref\": \"y1\"}, {\"align\": \"left\", \"xref\": \"x1\", \"xanchor\": \"left\", \"text\": \"2.0\", \"font\": {\"color\": \"#000000\"}, \"y\": 67, \"x\": 1.55, \"showarrow\": false, \"yref\": \"y1\"}, {\"align\": \"left\", \"xref\": \"x1\", \"xanchor\": \"left\", \"text\": \"1\", \"font\": {\"color\": \"#000000\"}, \"y\": 67, \"x\": 2.55, \"showarrow\": false, \"yref\": \"y1\"}, {\"align\": \"left\", \"xref\": \"x1\", \"xanchor\": \"left\", \"text\": \"Web Literacy\", \"font\": {\"color\": \"#000000\"}, \"y\": 68, \"x\": -0.45, \"showarrow\": false, \"yref\": \"y1\"}, {\"align\": \"left\", \"xref\": \"x1\", \"xanchor\": \"left\", \"text\": \"Mozilla Reps\", \"font\": {\"color\": \"#000000\"}, \"y\": 68, \"x\": 0.55, \"showarrow\": false, \"yref\": \"y1\"}, {\"align\": \"left\", \"xref\": \"x1\", \"xanchor\": \"left\", \"text\": \"2.0\", \"font\": {\"color\": \"#000000\"}, \"y\": 68, \"x\": 1.55, \"showarrow\": false, \"yref\": \"y1\"}, {\"align\": \"left\", \"xref\": \"x1\", \"xanchor\": \"left\", \"text\": \"2\", \"font\": {\"color\": \"#000000\"}, \"y\": 68, \"x\": 2.55, \"showarrow\": false, \"yref\": \"y1\"}, {\"align\": \"left\", \"xref\": \"x1\", \"xanchor\": \"left\", \"text\": \"Campus Clubs (previously Student Ambassadors)\", \"font\": {\"color\": \"#000000\"}, \"y\": 69, \"x\": -0.45, \"showarrow\": false, \"yref\": \"y1\"}, {\"align\": \"left\", \"xref\": \"x1\", \"xanchor\": \"left\", \"text\": \"Community\", \"font\": {\"color\": \"#000000\"}, \"y\": 69, \"x\": 0.55, \"showarrow\": false, \"yref\": \"y1\"}, {\"align\": \"left\", \"xref\": \"x1\", \"xanchor\": \"left\", \"text\": \"2.0\", \"font\": {\"color\": \"#000000\"}, \"y\": 69, \"x\": 1.55, \"showarrow\": false, \"yref\": \"y1\"}, {\"align\": \"left\", \"xref\": \"x1\", \"xanchor\": \"left\", \"text\": \"1\", \"font\": {\"color\": \"#000000\"}, \"y\": 69, \"x\": 2.55, \"showarrow\": false, \"yref\": \"y1\"}, {\"align\": \"left\", \"xref\": \"x1\", \"xanchor\": \"left\", \"text\": \"Firefox Android\", \"font\": {\"color\": \"#000000\"}, \"y\": 70, \"x\": -0.45, \"showarrow\": false, \"yref\": \"y1\"}, {\"align\": \"left\", \"xref\": \"x1\", \"xanchor\": \"left\", \"text\": \"Community\", \"font\": {\"color\": \"#000000\"}, \"y\": 70, \"x\": 0.55, \"showarrow\": false, \"yref\": \"y1\"}, {\"align\": \"left\", \"xref\": \"x1\", \"xanchor\": \"left\", \"text\": \"1.0\", \"font\": {\"color\": \"#000000\"}, \"y\": 70, \"x\": 1.55, \"showarrow\": false, \"yref\": \"y1\"}, {\"align\": \"left\", \"xref\": \"x1\", \"xanchor\": \"left\", \"text\": \"1\", \"font\": {\"color\": \"#000000\"}, \"y\": 70, \"x\": 2.55, \"showarrow\": false, \"yref\": \"y1\"}], \"xaxis\": {\"ticks\": \"\", \"gridwidth\": 2, \"zeroline\": false, \"dtick\": 1, \"tick0\": -0.5, \"showticklabels\": false}}, {\"linkText\": \"Export to plot.ly\", \"showLink\": true})});</script>"
      ],
      "text/vnd.plotly.v1+html": [
       "<div id=\"2b5a5495-bd28-4212-bf83-cdbdc0c5d393\" style=\"height: 2180px; width: 100%;\" class=\"plotly-graph-div\"></div><script type=\"text/javascript\">require([\"plotly\"], function(Plotly) { window.PLOTLYENV=window.PLOTLYENV || {};window.PLOTLYENV.BASE_URL=\"https://plot.ly\";Plotly.newPlot(\"2b5a5495-bd28-4212-bf83-cdbdc0c5d393\", [{\"opacity\": 0.75, \"hoverinfo\": \"none\", \"showscale\": false, \"type\": \"heatmap\", \"z\": [[0, 0, 0, 0], [0.5, 0.5, 0.5, 0.5], [1, 1, 1, 1], [0.5, 0.5, 0.5, 0.5], [1, 1, 1, 1], [0.5, 0.5, 0.5, 0.5], [1, 1, 1, 1], [0.5, 0.5, 0.5, 0.5], [1, 1, 1, 1], [0.5, 0.5, 0.5, 0.5], [1, 1, 1, 1], [0.5, 0.5, 0.5, 0.5], [1, 1, 1, 1], [0.5, 0.5, 0.5, 0.5], [1, 1, 1, 1], [0.5, 0.5, 0.5, 0.5], [1, 1, 1, 1], [0.5, 0.5, 0.5, 0.5], [1, 1, 1, 1], [0.5, 0.5, 0.5, 0.5], [1, 1, 1, 1], [0.5, 0.5, 0.5, 0.5], [1, 1, 1, 1], [0.5, 0.5, 0.5, 0.5], [1, 1, 1, 1], [0.5, 0.5, 0.5, 0.5], [1, 1, 1, 1], [0.5, 0.5, 0.5, 0.5], [1, 1, 1, 1], [0.5, 0.5, 0.5, 0.5], [1, 1, 1, 1], [0.5, 0.5, 0.5, 0.5], [1, 1, 1, 1], [0.5, 0.5, 0.5, 0.5], [1, 1, 1, 1], [0.5, 0.5, 0.5, 0.5], [1, 1, 1, 1], [0.5, 0.5, 0.5, 0.5], [1, 1, 1, 1], [0.5, 0.5, 0.5, 0.5], [1, 1, 1, 1], [0.5, 0.5, 0.5, 0.5], [1, 1, 1, 1], [0.5, 0.5, 0.5, 0.5], [1, 1, 1, 1], [0.5, 0.5, 0.5, 0.5], [1, 1, 1, 1], [0.5, 0.5, 0.5, 0.5], [1, 1, 1, 1], [0.5, 0.5, 0.5, 0.5], [1, 1, 1, 1], [0.5, 0.5, 0.5, 0.5], [1, 1, 1, 1], [0.5, 0.5, 0.5, 0.5], [1, 1, 1, 1], [0.5, 0.5, 0.5, 0.5], [1, 1, 1, 1], [0.5, 0.5, 0.5, 0.5], [1, 1, 1, 1], [0.5, 0.5, 0.5, 0.5], [1, 1, 1, 1], [0.5, 0.5, 0.5, 0.5], [1, 1, 1, 1], [0.5, 0.5, 0.5, 0.5], [1, 1, 1, 1], [0.5, 0.5, 0.5, 0.5], [1, 1, 1, 1], [0.5, 0.5, 0.5, 0.5], [1, 1, 1, 1], [0.5, 0.5, 0.5, 0.5], [1, 1, 1, 1]], \"colorscale\": [[0, \"#00083e\"], [0.5, \"#ededee\"], [1, \"#ffffff\"]]}], {\"height\": 2180, \"yaxis\": {\"ticks\": \"\", \"gridwidth\": 2, \"zeroline\": false, \"dtick\": 1, \"tick0\": 0.5, \"autorange\": \"reversed\", \"showticklabels\": false}, \"margin\": {\"r\": 0, \"l\": 0, \"b\": 0, \"t\": 0}, \"annotations\": [{\"align\": \"left\", \"xref\": \"x1\", \"xanchor\": \"left\", \"text\": \"<b>Project</b>\", \"font\": {\"color\": \"#ffffff\"}, \"y\": 0, \"x\": -0.45, \"showarrow\": false, \"yref\": \"y1\"}, {\"align\": \"left\", \"xref\": \"x1\", \"xanchor\": \"left\", \"text\": \"<b>Org</b>\", \"font\": {\"color\": \"#ffffff\"}, \"y\": 0, \"x\": 0.55, \"showarrow\": false, \"yref\": \"y1\"}, {\"align\": \"left\", \"xref\": \"x1\", \"xanchor\": \"left\", \"text\": \"<b># Commits</b>\", \"font\": {\"color\": \"#ffffff\"}, \"y\": 0, \"x\": 1.55, \"showarrow\": false, \"yref\": \"y1\"}, {\"align\": \"left\", \"xref\": \"x1\", \"xanchor\": \"left\", \"text\": \"<b>Repo</b>\", \"font\": {\"color\": \"#ffffff\"}, \"y\": 0, \"x\": 2.55, \"showarrow\": false, \"yref\": \"y1\"}, {\"align\": \"left\", \"xref\": \"x1\", \"xanchor\": \"left\", \"text\": \"Gecko\", \"font\": {\"color\": \"#000000\"}, \"y\": 1, \"x\": -0.45, \"showarrow\": false, \"yref\": \"y1\"}, {\"align\": \"left\", \"xref\": \"x1\", \"xanchor\": \"left\", \"text\": \"Mozilla Staff\", \"font\": {\"color\": \"#000000\"}, \"y\": 1, \"x\": 0.55, \"showarrow\": false, \"yref\": \"y1\"}, {\"align\": \"left\", \"xref\": \"x1\", \"xanchor\": \"left\", \"text\": \"919257.0\", \"font\": {\"color\": \"#000000\"}, \"y\": 1, \"x\": 1.55, \"showarrow\": false, \"yref\": \"y1\"}, {\"align\": \"left\", \"xref\": \"x1\", \"xanchor\": \"left\", \"text\": \"5\", \"font\": {\"color\": \"#000000\"}, \"y\": 1, \"x\": 2.55, \"showarrow\": false, \"yref\": \"y1\"}, {\"align\": \"left\", \"xref\": \"x1\", \"xanchor\": \"left\", \"text\": \"Gecko\", \"font\": {\"color\": \"#000000\"}, \"y\": 2, \"x\": -0.45, \"showarrow\": false, \"yref\": \"y1\"}, {\"align\": \"left\", \"xref\": \"x1\", \"xanchor\": \"left\", \"text\": \"Community\", \"font\": {\"color\": \"#000000\"}, \"y\": 2, \"x\": 0.55, \"showarrow\": false, \"yref\": \"y1\"}, {\"align\": \"left\", \"xref\": \"x1\", \"xanchor\": \"left\", \"text\": \"425772.0\", \"font\": {\"color\": \"#000000\"}, \"y\": 2, \"x\": 1.55, \"showarrow\": false, \"yref\": \"y1\"}, {\"align\": \"left\", \"xref\": \"x1\", \"xanchor\": \"left\", \"text\": \"5\", \"font\": {\"color\": \"#000000\"}, \"y\": 2, \"x\": 2.55, \"showarrow\": false, \"yref\": \"y1\"}, {\"align\": \"left\", \"xref\": \"x1\", \"xanchor\": \"left\", \"text\": \"IT/Ops\", \"font\": {\"color\": \"#000000\"}, \"y\": 3, \"x\": -0.45, \"showarrow\": false, \"yref\": \"y1\"}, {\"align\": \"left\", \"xref\": \"x1\", \"xanchor\": \"left\", \"text\": \"Mozilla Staff\", \"font\": {\"color\": \"#000000\"}, \"y\": 3, \"x\": 0.55, \"showarrow\": false, \"yref\": \"y1\"}, {\"align\": \"left\", \"xref\": \"x1\", \"xanchor\": \"left\", \"text\": \"116455.0\", \"font\": {\"color\": \"#000000\"}, \"y\": 3, \"x\": 1.55, \"showarrow\": false, \"yref\": \"y1\"}, {\"align\": \"left\", \"xref\": \"x1\", \"xanchor\": \"left\", \"text\": \"182\", \"font\": {\"color\": \"#000000\"}, \"y\": 3, \"x\": 2.55, \"showarrow\": false, \"yref\": \"y1\"}, {\"align\": \"left\", \"xref\": \"x1\", \"xanchor\": \"left\", \"text\": \"Web Properties\", \"font\": {\"color\": \"#000000\"}, \"y\": 4, \"x\": -0.45, \"showarrow\": false, \"yref\": \"y1\"}, {\"align\": \"left\", \"xref\": \"x1\", \"xanchor\": \"left\", \"text\": \"Mozilla Staff\", \"font\": {\"color\": \"#000000\"}, \"y\": 4, \"x\": 0.55, \"showarrow\": false, \"yref\": \"y1\"}, {\"align\": \"left\", \"xref\": \"x1\", \"xanchor\": \"left\", \"text\": \"74223.0\", \"font\": {\"color\": \"#000000\"}, \"y\": 4, \"x\": 1.55, \"showarrow\": false, \"yref\": \"y1\"}, {\"align\": \"left\", \"xref\": \"x1\", \"xanchor\": \"left\", \"text\": \"113\", \"font\": {\"color\": \"#000000\"}, \"y\": 4, \"x\": 2.55, \"showarrow\": false, \"yref\": \"y1\"}, {\"align\": \"left\", \"xref\": \"x1\", \"xanchor\": \"left\", \"text\": \"Addons/Web Extensions\", \"font\": {\"color\": \"#000000\"}, \"y\": 5, \"x\": -0.45, \"showarrow\": false, \"yref\": \"y1\"}, {\"align\": \"left\", \"xref\": \"x1\", \"xanchor\": \"left\", \"text\": \"Mozilla Staff\", \"font\": {\"color\": \"#000000\"}, \"y\": 5, \"x\": 0.55, \"showarrow\": false, \"yref\": \"y1\"}, {\"align\": \"left\", \"xref\": \"x1\", \"xanchor\": \"left\", \"text\": \"54231.0\", \"font\": {\"color\": \"#000000\"}, \"y\": 5, \"x\": 1.55, \"showarrow\": false, \"yref\": \"y1\"}, {\"align\": \"left\", \"xref\": \"x1\", \"xanchor\": \"left\", \"text\": \"19\", \"font\": {\"color\": \"#000000\"}, \"y\": 5, \"x\": 2.55, \"showarrow\": false, \"yref\": \"y1\"}, {\"align\": \"left\", \"xref\": \"x1\", \"xanchor\": \"left\", \"text\": \"Rust\", \"font\": {\"color\": \"#000000\"}, \"y\": 6, \"x\": -0.45, \"showarrow\": false, \"yref\": \"y1\"}, {\"align\": \"left\", \"xref\": \"x1\", \"xanchor\": \"left\", \"text\": \"Mozilla Staff\", \"font\": {\"color\": \"#000000\"}, \"y\": 6, \"x\": 0.55, \"showarrow\": false, \"yref\": \"y1\"}, {\"align\": \"left\", \"xref\": \"x1\", \"xanchor\": \"left\", \"text\": \"35783.0\", \"font\": {\"color\": \"#000000\"}, \"y\": 6, \"x\": 1.55, \"showarrow\": false, \"yref\": \"y1\"}, {\"align\": \"left\", \"xref\": \"x1\", \"xanchor\": \"left\", \"text\": \"27\", \"font\": {\"color\": \"#000000\"}, \"y\": 6, \"x\": 2.55, \"showarrow\": false, \"yref\": \"y1\"}, {\"align\": \"left\", \"xref\": \"x1\", \"xanchor\": \"left\", \"text\": \"Servo\", \"font\": {\"color\": \"#000000\"}, \"y\": 7, \"x\": -0.45, \"showarrow\": false, \"yref\": \"y1\"}, {\"align\": \"left\", \"xref\": \"x1\", \"xanchor\": \"left\", \"text\": \"Mozilla Staff\", \"font\": {\"color\": \"#000000\"}, \"y\": 7, \"x\": 0.55, \"showarrow\": false, \"yref\": \"y1\"}, {\"align\": \"left\", \"xref\": \"x1\", \"xanchor\": \"left\", \"text\": \"33441.0\", \"font\": {\"color\": \"#000000\"}, \"y\": 7, \"x\": 1.55, \"showarrow\": false, \"yref\": \"y1\"}, {\"align\": \"left\", \"xref\": \"x1\", \"xanchor\": \"left\", \"text\": \"81\", \"font\": {\"color\": \"#000000\"}, \"y\": 7, \"x\": 2.55, \"showarrow\": false, \"yref\": \"y1\"}, {\"align\": \"left\", \"xref\": \"x1\", \"xanchor\": \"left\", \"text\": \"Servo\", \"font\": {\"color\": \"#000000\"}, \"y\": 8, \"x\": -0.45, \"showarrow\": false, \"yref\": \"y1\"}, {\"align\": \"left\", \"xref\": \"x1\", \"xanchor\": \"left\", \"text\": \"Community\", \"font\": {\"color\": \"#000000\"}, \"y\": 8, \"x\": 0.55, \"showarrow\": false, \"yref\": \"y1\"}, {\"align\": \"left\", \"xref\": \"x1\", \"xanchor\": \"left\", \"text\": \"32519.0\", \"font\": {\"color\": \"#000000\"}, \"y\": 8, \"x\": 1.55, \"showarrow\": false, \"yref\": \"y1\"}, {\"align\": \"left\", \"xref\": \"x1\", \"xanchor\": \"left\", \"text\": \"73\", \"font\": {\"color\": \"#000000\"}, \"y\": 8, \"x\": 2.55, \"showarrow\": false, \"yref\": \"y1\"}, {\"align\": \"left\", \"xref\": \"x1\", \"xanchor\": \"left\", \"text\": \"Rust\", \"font\": {\"color\": \"#000000\"}, \"y\": 9, \"x\": -0.45, \"showarrow\": false, \"yref\": \"y1\"}, {\"align\": \"left\", \"xref\": \"x1\", \"xanchor\": \"left\", \"text\": \"Community\", \"font\": {\"color\": \"#000000\"}, \"y\": 9, \"x\": 0.55, \"showarrow\": false, \"yref\": \"y1\"}, {\"align\": \"left\", \"xref\": \"x1\", \"xanchor\": \"left\", \"text\": \"30541.0\", \"font\": {\"color\": \"#000000\"}, \"y\": 9, \"x\": 1.55, \"showarrow\": false, \"yref\": \"y1\"}, {\"align\": \"left\", \"xref\": \"x1\", \"xanchor\": \"left\", \"text\": \"25\", \"font\": {\"color\": \"#000000\"}, \"y\": 9, \"x\": 2.55, \"showarrow\": false, \"yref\": \"y1\"}, {\"align\": \"left\", \"xref\": \"x1\", \"xanchor\": \"left\", \"text\": \"IT/Ops\", \"font\": {\"color\": \"#000000\"}, \"y\": 10, \"x\": -0.45, \"showarrow\": false, \"yref\": \"y1\"}, {\"align\": \"left\", \"xref\": \"x1\", \"xanchor\": \"left\", \"text\": \"Community\", \"font\": {\"color\": \"#000000\"}, \"y\": 10, \"x\": 0.55, \"showarrow\": false, \"yref\": \"y1\"}, {\"align\": \"left\", \"xref\": \"x1\", \"xanchor\": \"left\", \"text\": \"25816.0\", \"font\": {\"color\": \"#000000\"}, \"y\": 10, \"x\": 1.55, \"showarrow\": false, \"yref\": \"y1\"}, {\"align\": \"left\", \"xref\": \"x1\", \"xanchor\": \"left\", \"text\": \"75\", \"font\": {\"color\": \"#000000\"}, \"y\": 10, \"x\": 2.55, \"showarrow\": false, \"yref\": \"y1\"}, {\"align\": \"left\", \"xref\": \"x1\", \"xanchor\": \"left\", \"text\": \"Release engineering\", \"font\": {\"color\": \"#000000\"}, \"y\": 11, \"x\": -0.45, \"showarrow\": false, \"yref\": \"y1\"}, {\"align\": \"left\", \"xref\": \"x1\", \"xanchor\": \"left\", \"text\": \"Mozilla Staff\", \"font\": {\"color\": \"#000000\"}, \"y\": 11, \"x\": 0.55, \"showarrow\": false, \"yref\": \"y1\"}, {\"align\": \"left\", \"xref\": \"x1\", \"xanchor\": \"left\", \"text\": \"14838.0\", \"font\": {\"color\": \"#000000\"}, \"y\": 11, \"x\": 1.55, \"showarrow\": false, \"yref\": \"y1\"}, {\"align\": \"left\", \"xref\": \"x1\", \"xanchor\": \"left\", \"text\": \"22\", \"font\": {\"color\": \"#000000\"}, \"y\": 11, \"x\": 2.55, \"showarrow\": false, \"yref\": \"y1\"}, {\"align\": \"left\", \"xref\": \"x1\", \"xanchor\": \"left\", \"text\": \"Web Properties\", \"font\": {\"color\": \"#000000\"}, \"y\": 12, \"x\": -0.45, \"showarrow\": false, \"yref\": \"y1\"}, {\"align\": \"left\", \"xref\": \"x1\", \"xanchor\": \"left\", \"text\": \"Community\", \"font\": {\"color\": \"#000000\"}, \"y\": 12, \"x\": 0.55, \"showarrow\": false, \"yref\": \"y1\"}, {\"align\": \"left\", \"xref\": \"x1\", \"xanchor\": \"left\", \"text\": \"12698.0\", \"font\": {\"color\": \"#000000\"}, \"y\": 12, \"x\": 1.55, \"showarrow\": false, \"yref\": \"y1\"}, {\"align\": \"left\", \"xref\": \"x1\", \"xanchor\": \"left\", \"text\": \"91\", \"font\": {\"color\": \"#000000\"}, \"y\": 12, \"x\": 2.55, \"showarrow\": false, \"yref\": \"y1\"}, {\"align\": \"left\", \"xref\": \"x1\", \"xanchor\": \"left\", \"text\": \"Mozilla Local/Regional communities\", \"font\": {\"color\": \"#000000\"}, \"y\": 13, \"x\": -0.45, \"showarrow\": false, \"yref\": \"y1\"}, {\"align\": \"left\", \"xref\": \"x1\", \"xanchor\": \"left\", \"text\": \"Community\", \"font\": {\"color\": \"#000000\"}, \"y\": 13, \"x\": 0.55, \"showarrow\": false, \"yref\": \"y1\"}, {\"align\": \"left\", \"xref\": \"x1\", \"xanchor\": \"left\", \"text\": \"9755.0\", \"font\": {\"color\": \"#000000\"}, \"y\": 13, \"x\": 1.55, \"showarrow\": false, \"yref\": \"y1\"}, {\"align\": \"left\", \"xref\": \"x1\", \"xanchor\": \"left\", \"text\": \"143\", \"font\": {\"color\": \"#000000\"}, \"y\": 13, \"x\": 2.55, \"showarrow\": false, \"yref\": \"y1\"}, {\"align\": \"left\", \"xref\": \"x1\", \"xanchor\": \"left\", \"text\": \"Mozilla Local/Regional communities\", \"font\": {\"color\": \"#000000\"}, \"y\": 14, \"x\": -0.45, \"showarrow\": false, \"yref\": \"y1\"}, {\"align\": \"left\", \"xref\": \"x1\", \"xanchor\": \"left\", \"text\": \"Mozilla Staff\", \"font\": {\"color\": \"#000000\"}, \"y\": 14, \"x\": 0.55, \"showarrow\": false, \"yref\": \"y1\"}, {\"align\": \"left\", \"xref\": \"x1\", \"xanchor\": \"left\", \"text\": \"7460.0\", \"font\": {\"color\": \"#000000\"}, \"y\": 14, \"x\": 1.55, \"showarrow\": false, \"yref\": \"y1\"}, {\"align\": \"left\", \"xref\": \"x1\", \"xanchor\": \"left\", \"text\": \"77\", \"font\": {\"color\": \"#000000\"}, \"y\": 14, \"x\": 2.55, \"showarrow\": false, \"yref\": \"y1\"}, {\"align\": \"left\", \"xref\": \"x1\", \"xanchor\": \"left\", \"text\": \"Addons/Web Extensions\", \"font\": {\"color\": \"#000000\"}, \"y\": 15, \"x\": -0.45, \"showarrow\": false, \"yref\": \"y1\"}, {\"align\": \"left\", \"xref\": \"x1\", \"xanchor\": \"left\", \"text\": \"Community\", \"font\": {\"color\": \"#000000\"}, \"y\": 15, \"x\": 0.55, \"showarrow\": false, \"yref\": \"y1\"}, {\"align\": \"left\", \"xref\": \"x1\", \"xanchor\": \"left\", \"text\": \"7341.0\", \"font\": {\"color\": \"#000000\"}, \"y\": 15, \"x\": 1.55, \"showarrow\": false, \"yref\": \"y1\"}, {\"align\": \"left\", \"xref\": \"x1\", \"xanchor\": \"left\", \"text\": \"11\", \"font\": {\"color\": \"#000000\"}, \"y\": 15, \"x\": 2.55, \"showarrow\": false, \"yref\": \"y1\"}, {\"align\": \"left\", \"xref\": \"x1\", \"xanchor\": \"left\", \"text\": \"Web Literacy\", \"font\": {\"color\": \"#000000\"}, \"y\": 16, \"x\": -0.45, \"showarrow\": false, \"yref\": \"y1\"}, {\"align\": \"left\", \"xref\": \"x1\", \"xanchor\": \"left\", \"text\": \"Community\", \"font\": {\"color\": \"#000000\"}, \"y\": 16, \"x\": 0.55, \"showarrow\": false, \"yref\": \"y1\"}, {\"align\": \"left\", \"xref\": \"x1\", \"xanchor\": \"left\", \"text\": \"7330.0\", \"font\": {\"color\": \"#000000\"}, \"y\": 16, \"x\": 1.55, \"showarrow\": false, \"yref\": \"y1\"}, {\"align\": \"left\", \"xref\": \"x1\", \"xanchor\": \"left\", \"text\": \"40\", \"font\": {\"color\": \"#000000\"}, \"y\": 16, \"x\": 2.55, \"showarrow\": false, \"yref\": \"y1\"}, {\"align\": \"left\", \"xref\": \"x1\", \"xanchor\": \"left\", \"text\": \"Web Literacy\", \"font\": {\"color\": \"#000000\"}, \"y\": 17, \"x\": -0.45, \"showarrow\": false, \"yref\": \"y1\"}, {\"align\": \"left\", \"xref\": \"x1\", \"xanchor\": \"left\", \"text\": \"Mozilla Staff\", \"font\": {\"color\": \"#000000\"}, \"y\": 17, \"x\": 0.55, \"showarrow\": false, \"yref\": \"y1\"}, {\"align\": \"left\", \"xref\": \"x1\", \"xanchor\": \"left\", \"text\": \"6587.0\", \"font\": {\"color\": \"#000000\"}, \"y\": 17, \"x\": 1.55, \"showarrow\": false, \"yref\": \"y1\"}, {\"align\": \"left\", \"xref\": \"x1\", \"xanchor\": \"left\", \"text\": \"51\", \"font\": {\"color\": \"#000000\"}, \"y\": 17, \"x\": 2.55, \"showarrow\": false, \"yref\": \"y1\"}, {\"align\": \"left\", \"xref\": \"x1\", \"xanchor\": \"left\", \"text\": \"Firefox OS (FxOS / B2G)\", \"font\": {\"color\": \"#000000\"}, \"y\": 18, \"x\": -0.45, \"showarrow\": false, \"yref\": \"y1\"}, {\"align\": \"left\", \"xref\": \"x1\", \"xanchor\": \"left\", \"text\": \"Mozilla Staff\", \"font\": {\"color\": \"#000000\"}, \"y\": 18, \"x\": 0.55, \"showarrow\": false, \"yref\": \"y1\"}, {\"align\": \"left\", \"xref\": \"x1\", \"xanchor\": \"left\", \"text\": \"5940.0\", \"font\": {\"color\": \"#000000\"}, \"y\": 18, \"x\": 1.55, \"showarrow\": false, \"yref\": \"y1\"}, {\"align\": \"left\", \"xref\": \"x1\", \"xanchor\": \"left\", \"text\": \"26\", \"font\": {\"color\": \"#000000\"}, \"y\": 18, \"x\": 2.55, \"showarrow\": false, \"yref\": \"y1\"}, {\"align\": \"left\", \"xref\": \"x1\", \"xanchor\": \"left\", \"text\": \"Firefox iOS\", \"font\": {\"color\": \"#000000\"}, \"y\": 19, \"x\": -0.45, \"showarrow\": false, \"yref\": \"y1\"}, {\"align\": \"left\", \"xref\": \"x1\", \"xanchor\": \"left\", \"text\": \"Mozilla Staff\", \"font\": {\"color\": \"#000000\"}, \"y\": 19, \"x\": 0.55, \"showarrow\": false, \"yref\": \"y1\"}, {\"align\": \"left\", \"xref\": \"x1\", \"xanchor\": \"left\", \"text\": \"5777.0\", \"font\": {\"color\": \"#000000\"}, \"y\": 19, \"x\": 1.55, \"showarrow\": false, \"yref\": \"y1\"}, {\"align\": \"left\", \"xref\": \"x1\", \"xanchor\": \"left\", \"text\": \"5\", \"font\": {\"color\": \"#000000\"}, \"y\": 19, \"x\": 2.55, \"showarrow\": false, \"yref\": \"y1\"}, {\"align\": \"left\", \"xref\": \"x1\", \"xanchor\": \"left\", \"text\": \"WebVR\", \"font\": {\"color\": \"#000000\"}, \"y\": 20, \"x\": -0.45, \"showarrow\": false, \"yref\": \"y1\"}, {\"align\": \"left\", \"xref\": \"x1\", \"xanchor\": \"left\", \"text\": \"Mozilla Staff\", \"font\": {\"color\": \"#000000\"}, \"y\": 20, \"x\": 0.55, \"showarrow\": false, \"yref\": \"y1\"}, {\"align\": \"left\", \"xref\": \"x1\", \"xanchor\": \"left\", \"text\": \"5764.0\", \"font\": {\"color\": \"#000000\"}, \"y\": 20, \"x\": 1.55, \"showarrow\": false, \"yref\": \"y1\"}, {\"align\": \"left\", \"xref\": \"x1\", \"xanchor\": \"left\", \"text\": \"29\", \"font\": {\"color\": \"#000000\"}, \"y\": 20, \"x\": 2.55, \"showarrow\": false, \"yref\": \"y1\"}, {\"align\": \"left\", \"xref\": \"x1\", \"xanchor\": \"left\", \"text\": \"Quality Assurance\", \"font\": {\"color\": \"#000000\"}, \"y\": 21, \"x\": -0.45, \"showarrow\": false, \"yref\": \"y1\"}, {\"align\": \"left\", \"xref\": \"x1\", \"xanchor\": \"left\", \"text\": \"Mozilla Staff\", \"font\": {\"color\": \"#000000\"}, \"y\": 21, \"x\": 0.55, \"showarrow\": false, \"yref\": \"y1\"}, {\"align\": \"left\", \"xref\": \"x1\", \"xanchor\": \"left\", \"text\": \"3812.0\", \"font\": {\"color\": \"#000000\"}, \"y\": 21, \"x\": 1.55, \"showarrow\": false, \"yref\": \"y1\"}, {\"align\": \"left\", \"xref\": \"x1\", \"xanchor\": \"left\", \"text\": \"3\", \"font\": {\"color\": \"#000000\"}, \"y\": 21, \"x\": 2.55, \"showarrow\": false, \"yref\": \"y1\"}, {\"align\": \"left\", \"xref\": \"x1\", \"xanchor\": \"left\", \"text\": \"Mozilla Developer Network (MDN)\", \"font\": {\"color\": \"#000000\"}, \"y\": 22, \"x\": -0.45, \"showarrow\": false, \"yref\": \"y1\"}, {\"align\": \"left\", \"xref\": \"x1\", \"xanchor\": \"left\", \"text\": \"Mozilla Staff\", \"font\": {\"color\": \"#000000\"}, \"y\": 22, \"x\": 0.55, \"showarrow\": false, \"yref\": \"y1\"}, {\"align\": \"left\", \"xref\": \"x1\", \"xanchor\": \"left\", \"text\": \"3088.0\", \"font\": {\"color\": \"#000000\"}, \"y\": 22, \"x\": 1.55, \"showarrow\": false, \"yref\": \"y1\"}, {\"align\": \"left\", \"xref\": \"x1\", \"xanchor\": \"left\", \"text\": \"47\", \"font\": {\"color\": \"#000000\"}, \"y\": 22, \"x\": 2.55, \"showarrow\": false, \"yref\": \"y1\"}, {\"align\": \"left\", \"xref\": \"x1\", \"xanchor\": \"left\", \"text\": \"Mozilla Science\", \"font\": {\"color\": \"#000000\"}, \"y\": 23, \"x\": -0.45, \"showarrow\": false, \"yref\": \"y1\"}, {\"align\": \"left\", \"xref\": \"x1\", \"xanchor\": \"left\", \"text\": \"Community\", \"font\": {\"color\": \"#000000\"}, \"y\": 23, \"x\": 0.55, \"showarrow\": false, \"yref\": \"y1\"}, {\"align\": \"left\", \"xref\": \"x1\", \"xanchor\": \"left\", \"text\": \"2587.0\", \"font\": {\"color\": \"#000000\"}, \"y\": 23, \"x\": 1.55, \"showarrow\": false, \"yref\": \"y1\"}, {\"align\": \"left\", \"xref\": \"x1\", \"xanchor\": \"left\", \"text\": \"34\", \"font\": {\"color\": \"#000000\"}, \"y\": 23, \"x\": 2.55, \"showarrow\": false, \"yref\": \"y1\"}, {\"align\": \"left\", \"xref\": \"x1\", \"xanchor\": \"left\", \"text\": \"Marketing / Social Media\", \"font\": {\"color\": \"#000000\"}, \"y\": 24, \"x\": -0.45, \"showarrow\": false, \"yref\": \"y1\"}, {\"align\": \"left\", \"xref\": \"x1\", \"xanchor\": \"left\", \"text\": \"Mozilla Staff\", \"font\": {\"color\": \"#000000\"}, \"y\": 24, \"x\": 0.55, \"showarrow\": false, \"yref\": \"y1\"}, {\"align\": \"left\", \"xref\": \"x1\", \"xanchor\": \"left\", \"text\": \"2133.0\", \"font\": {\"color\": \"#000000\"}, \"y\": 24, \"x\": 1.55, \"showarrow\": false, \"yref\": \"y1\"}, {\"align\": \"left\", \"xref\": \"x1\", \"xanchor\": \"left\", \"text\": \"15\", \"font\": {\"color\": \"#000000\"}, \"y\": 24, \"x\": 2.55, \"showarrow\": false, \"yref\": \"y1\"}, {\"align\": \"left\", \"xref\": \"x1\", \"xanchor\": \"left\", \"text\": \"Test Pilot\", \"font\": {\"color\": \"#000000\"}, \"y\": 25, \"x\": -0.45, \"showarrow\": false, \"yref\": \"y1\"}, {\"align\": \"left\", \"xref\": \"x1\", \"xanchor\": \"left\", \"text\": \"Mozilla Staff\", \"font\": {\"color\": \"#000000\"}, \"y\": 25, \"x\": 0.55, \"showarrow\": false, \"yref\": \"y1\"}, {\"align\": \"left\", \"xref\": \"x1\", \"xanchor\": \"left\", \"text\": \"2127.0\", \"font\": {\"color\": \"#000000\"}, \"y\": 25, \"x\": 1.55, \"showarrow\": false, \"yref\": \"y1\"}, {\"align\": \"left\", \"xref\": \"x1\", \"xanchor\": \"left\", \"text\": \"6\", \"font\": {\"color\": \"#000000\"}, \"y\": 25, \"x\": 2.55, \"showarrow\": false, \"yref\": \"y1\"}, {\"align\": \"left\", \"xref\": \"x1\", \"xanchor\": \"left\", \"text\": \"Marketing / Social Media\", \"font\": {\"color\": \"#000000\"}, \"y\": 26, \"x\": -0.45, \"showarrow\": false, \"yref\": \"y1\"}, {\"align\": \"left\", \"xref\": \"x1\", \"xanchor\": \"left\", \"text\": \"Community\", \"font\": {\"color\": \"#000000\"}, \"y\": 26, \"x\": 0.55, \"showarrow\": false, \"yref\": \"y1\"}, {\"align\": \"left\", \"xref\": \"x1\", \"xanchor\": \"left\", \"text\": \"1674.0\", \"font\": {\"color\": \"#000000\"}, \"y\": 26, \"x\": 1.55, \"showarrow\": false, \"yref\": \"y1\"}, {\"align\": \"left\", \"xref\": \"x1\", \"xanchor\": \"left\", \"text\": \"7\", \"font\": {\"color\": \"#000000\"}, \"y\": 26, \"x\": 2.55, \"showarrow\": false, \"yref\": \"y1\"}, {\"align\": \"left\", \"xref\": \"x1\", \"xanchor\": \"left\", \"text\": \"Mozilla Location Service (MLS) / Stumbler\", \"font\": {\"color\": \"#000000\"}, \"y\": 27, \"x\": -0.45, \"showarrow\": false, \"yref\": \"y1\"}, {\"align\": \"left\", \"xref\": \"x1\", \"xanchor\": \"left\", \"text\": \"Mozilla Staff\", \"font\": {\"color\": \"#000000\"}, \"y\": 27, \"x\": 0.55, \"showarrow\": false, \"yref\": \"y1\"}, {\"align\": \"left\", \"xref\": \"x1\", \"xanchor\": \"left\", \"text\": \"1376.0\", \"font\": {\"color\": \"#000000\"}, \"y\": 27, \"x\": 1.55, \"showarrow\": false, \"yref\": \"y1\"}, {\"align\": \"left\", \"xref\": \"x1\", \"xanchor\": \"left\", \"text\": \"1\", \"font\": {\"color\": \"#000000\"}, \"y\": 27, \"x\": 2.55, \"showarrow\": false, \"yref\": \"y1\"}, {\"align\": \"left\", \"xref\": \"x1\", \"xanchor\": \"left\", \"text\": \"WebVR\", \"font\": {\"color\": \"#000000\"}, \"y\": 28, \"x\": -0.45, \"showarrow\": false, \"yref\": \"y1\"}, {\"align\": \"left\", \"xref\": \"x1\", \"xanchor\": \"left\", \"text\": \"Community\", \"font\": {\"color\": \"#000000\"}, \"y\": 28, \"x\": 0.55, \"showarrow\": false, \"yref\": \"y1\"}, {\"align\": \"left\", \"xref\": \"x1\", \"xanchor\": \"left\", \"text\": \"1200.0\", \"font\": {\"color\": \"#000000\"}, \"y\": 28, \"x\": 1.55, \"showarrow\": false, \"yref\": \"y1\"}, {\"align\": \"left\", \"xref\": \"x1\", \"xanchor\": \"left\", \"text\": \"19\", \"font\": {\"color\": \"#000000\"}, \"y\": 28, \"x\": 2.55, \"showarrow\": false, \"yref\": \"y1\"}, {\"align\": \"left\", \"xref\": \"x1\", \"xanchor\": \"left\", \"text\": \"Localization\", \"font\": {\"color\": \"#000000\"}, \"y\": 29, \"x\": -0.45, \"showarrow\": false, \"yref\": \"y1\"}, {\"align\": \"left\", \"xref\": \"x1\", \"xanchor\": \"left\", \"text\": \"Mozilla Staff\", \"font\": {\"color\": \"#000000\"}, \"y\": 29, \"x\": 0.55, \"showarrow\": false, \"yref\": \"y1\"}, {\"align\": \"left\", \"xref\": \"x1\", \"xanchor\": \"left\", \"text\": \"1172.0\", \"font\": {\"color\": \"#000000\"}, \"y\": 29, \"x\": 1.55, \"showarrow\": false, \"yref\": \"y1\"}, {\"align\": \"left\", \"xref\": \"x1\", \"xanchor\": \"left\", \"text\": \"4\", \"font\": {\"color\": \"#000000\"}, \"y\": 29, \"x\": 2.55, \"showarrow\": false, \"yref\": \"y1\"}, {\"align\": \"left\", \"xref\": \"x1\", \"xanchor\": \"left\", \"text\": \"Test Pilot\", \"font\": {\"color\": \"#000000\"}, \"y\": 30, \"x\": -0.45, \"showarrow\": false, \"yref\": \"y1\"}, {\"align\": \"left\", \"xref\": \"x1\", \"xanchor\": \"left\", \"text\": \"Community\", \"font\": {\"color\": \"#000000\"}, \"y\": 30, \"x\": 0.55, \"showarrow\": false, \"yref\": \"y1\"}, {\"align\": \"left\", \"xref\": \"x1\", \"xanchor\": \"left\", \"text\": \"1147.0\", \"font\": {\"color\": \"#000000\"}, \"y\": 30, \"x\": 1.55, \"showarrow\": false, \"yref\": \"y1\"}, {\"align\": \"left\", \"xref\": \"x1\", \"xanchor\": \"left\", \"text\": \"2\", \"font\": {\"color\": \"#000000\"}, \"y\": 30, \"x\": 2.55, \"showarrow\": false, \"yref\": \"y1\"}, {\"align\": \"left\", \"xref\": \"x1\", \"xanchor\": \"left\", \"text\": \"Firefox OS (FxOS / B2G)\", \"font\": {\"color\": \"#000000\"}, \"y\": 31, \"x\": -0.45, \"showarrow\": false, \"yref\": \"y1\"}, {\"align\": \"left\", \"xref\": \"x1\", \"xanchor\": \"left\", \"text\": \"Community\", \"font\": {\"color\": \"#000000\"}, \"y\": 31, \"x\": 0.55, \"showarrow\": false, \"yref\": \"y1\"}, {\"align\": \"left\", \"xref\": \"x1\", \"xanchor\": \"left\", \"text\": \"1116.0\", \"font\": {\"color\": \"#000000\"}, \"y\": 31, \"x\": 1.55, \"showarrow\": false, \"yref\": \"y1\"}, {\"align\": \"left\", \"xref\": \"x1\", \"xanchor\": \"left\", \"text\": \"18\", \"font\": {\"color\": \"#000000\"}, \"y\": 31, \"x\": 2.55, \"showarrow\": false, \"yref\": \"y1\"}, {\"align\": \"left\", \"xref\": \"x1\", \"xanchor\": \"left\", \"text\": \"Firefox\", \"font\": {\"color\": \"#000000\"}, \"y\": 32, \"x\": -0.45, \"showarrow\": false, \"yref\": \"y1\"}, {\"align\": \"left\", \"xref\": \"x1\", \"xanchor\": \"left\", \"text\": \"Mozilla Staff\", \"font\": {\"color\": \"#000000\"}, \"y\": 32, \"x\": 0.55, \"showarrow\": false, \"yref\": \"y1\"}, {\"align\": \"left\", \"xref\": \"x1\", \"xanchor\": \"left\", \"text\": \"1072.0\", \"font\": {\"color\": \"#000000\"}, \"y\": 32, \"x\": 1.55, \"showarrow\": false, \"yref\": \"y1\"}, {\"align\": \"left\", \"xref\": \"x1\", \"xanchor\": \"left\", \"text\": \"1\", \"font\": {\"color\": \"#000000\"}, \"y\": 32, \"x\": 2.55, \"showarrow\": false, \"yref\": \"y1\"}, {\"align\": \"left\", \"xref\": \"x1\", \"xanchor\": \"left\", \"text\": \"Quality Assurance\", \"font\": {\"color\": \"#000000\"}, \"y\": 33, \"x\": -0.45, \"showarrow\": false, \"yref\": \"y1\"}, {\"align\": \"left\", \"xref\": \"x1\", \"xanchor\": \"left\", \"text\": \"Community\", \"font\": {\"color\": \"#000000\"}, \"y\": 33, \"x\": 0.55, \"showarrow\": false, \"yref\": \"y1\"}, {\"align\": \"left\", \"xref\": \"x1\", \"xanchor\": \"left\", \"text\": \"1072.0\", \"font\": {\"color\": \"#000000\"}, \"y\": 33, \"x\": 1.55, \"showarrow\": false, \"yref\": \"y1\"}, {\"align\": \"left\", \"xref\": \"x1\", \"xanchor\": \"left\", \"text\": \"2\", \"font\": {\"color\": \"#000000\"}, \"y\": 33, \"x\": 2.55, \"showarrow\": false, \"yref\": \"y1\"}, {\"align\": \"left\", \"xref\": \"x1\", \"xanchor\": \"left\", \"text\": \"Advocacy and policy\", \"font\": {\"color\": \"#000000\"}, \"y\": 34, \"x\": -0.45, \"showarrow\": false, \"yref\": \"y1\"}, {\"align\": \"left\", \"xref\": \"x1\", \"xanchor\": \"left\", \"text\": \"Mozilla Staff\", \"font\": {\"color\": \"#000000\"}, \"y\": 34, \"x\": 0.55, \"showarrow\": false, \"yref\": \"y1\"}, {\"align\": \"left\", \"xref\": \"x1\", \"xanchor\": \"left\", \"text\": \"1065.0\", \"font\": {\"color\": \"#000000\"}, \"y\": 34, \"x\": 1.55, \"showarrow\": false, \"yref\": \"y1\"}, {\"align\": \"left\", \"xref\": \"x1\", \"xanchor\": \"left\", \"text\": \"4\", \"font\": {\"color\": \"#000000\"}, \"y\": 34, \"x\": 2.55, \"showarrow\": false, \"yref\": \"y1\"}, {\"align\": \"left\", \"xref\": \"x1\", \"xanchor\": \"left\", \"text\": \"Firefox Focus\", \"font\": {\"color\": \"#000000\"}, \"y\": 35, \"x\": -0.45, \"showarrow\": false, \"yref\": \"y1\"}, {\"align\": \"left\", \"xref\": \"x1\", \"xanchor\": \"left\", \"text\": \"Mozilla Staff\", \"font\": {\"color\": \"#000000\"}, \"y\": 35, \"x\": 0.55, \"showarrow\": false, \"yref\": \"y1\"}, {\"align\": \"left\", \"xref\": \"x1\", \"xanchor\": \"left\", \"text\": \"982.0\", \"font\": {\"color\": \"#000000\"}, \"y\": 35, \"x\": 1.55, \"showarrow\": false, \"yref\": \"y1\"}, {\"align\": \"left\", \"xref\": \"x1\", \"xanchor\": \"left\", \"text\": \"2\", \"font\": {\"color\": \"#000000\"}, \"y\": 35, \"x\": 2.55, \"showarrow\": false, \"yref\": \"y1\"}, {\"align\": \"left\", \"xref\": \"x1\", \"xanchor\": \"left\", \"text\": \"Mozilla Science\", \"font\": {\"color\": \"#000000\"}, \"y\": 36, \"x\": -0.45, \"showarrow\": false, \"yref\": \"y1\"}, {\"align\": \"left\", \"xref\": \"x1\", \"xanchor\": \"left\", \"text\": \"Mozilla Staff\", \"font\": {\"color\": \"#000000\"}, \"y\": 36, \"x\": 0.55, \"showarrow\": false, \"yref\": \"y1\"}, {\"align\": \"left\", \"xref\": \"x1\", \"xanchor\": \"left\", \"text\": \"954.0\", \"font\": {\"color\": \"#000000\"}, \"y\": 36, \"x\": 1.55, \"showarrow\": false, \"yref\": \"y1\"}, {\"align\": \"left\", \"xref\": \"x1\", \"xanchor\": \"left\", \"text\": \"21\", \"font\": {\"color\": \"#000000\"}, \"y\": 36, \"x\": 2.55, \"showarrow\": false, \"yref\": \"y1\"}, {\"align\": \"left\", \"xref\": \"x1\", \"xanchor\": \"left\", \"text\": \"Localization\", \"font\": {\"color\": \"#000000\"}, \"y\": 37, \"x\": -0.45, \"showarrow\": false, \"yref\": \"y1\"}, {\"align\": \"left\", \"xref\": \"x1\", \"xanchor\": \"left\", \"text\": \"Community\", \"font\": {\"color\": \"#000000\"}, \"y\": 37, \"x\": 0.55, \"showarrow\": false, \"yref\": \"y1\"}, {\"align\": \"left\", \"xref\": \"x1\", \"xanchor\": \"left\", \"text\": \"929.0\", \"font\": {\"color\": \"#000000\"}, \"y\": 37, \"x\": 1.55, \"showarrow\": false, \"yref\": \"y1\"}, {\"align\": \"left\", \"xref\": \"x1\", \"xanchor\": \"left\", \"text\": \"4\", \"font\": {\"color\": \"#000000\"}, \"y\": 37, \"x\": 2.55, \"showarrow\": false, \"yref\": \"y1\"}, {\"align\": \"left\", \"xref\": \"x1\", \"xanchor\": \"left\", \"text\": \"Release engineering\", \"font\": {\"color\": \"#000000\"}, \"y\": 38, \"x\": -0.45, \"showarrow\": false, \"yref\": \"y1\"}, {\"align\": \"left\", \"xref\": \"x1\", \"xanchor\": \"left\", \"text\": \"Community\", \"font\": {\"color\": \"#000000\"}, \"y\": 38, \"x\": 0.55, \"showarrow\": false, \"yref\": \"y1\"}, {\"align\": \"left\", \"xref\": \"x1\", \"xanchor\": \"left\", \"text\": \"902.0\", \"font\": {\"color\": \"#000000\"}, \"y\": 38, \"x\": 1.55, \"showarrow\": false, \"yref\": \"y1\"}, {\"align\": \"left\", \"xref\": \"x1\", \"xanchor\": \"left\", \"text\": \"9\", \"font\": {\"color\": \"#000000\"}, \"y\": 38, \"x\": 2.55, \"showarrow\": false, \"yref\": \"y1\"}, {\"align\": \"left\", \"xref\": \"x1\", \"xanchor\": \"left\", \"text\": \"Technical/Developer Evangelism\", \"font\": {\"color\": \"#000000\"}, \"y\": 39, \"x\": -0.45, \"showarrow\": false, \"yref\": \"y1\"}, {\"align\": \"left\", \"xref\": \"x1\", \"xanchor\": \"left\", \"text\": \"Mozilla Staff\", \"font\": {\"color\": \"#000000\"}, \"y\": 39, \"x\": 0.55, \"showarrow\": false, \"yref\": \"y1\"}, {\"align\": \"left\", \"xref\": \"x1\", \"xanchor\": \"left\", \"text\": \"814.0\", \"font\": {\"color\": \"#000000\"}, \"y\": 39, \"x\": 1.55, \"showarrow\": false, \"yref\": \"y1\"}, {\"align\": \"left\", \"xref\": \"x1\", \"xanchor\": \"left\", \"text\": \"17\", \"font\": {\"color\": \"#000000\"}, \"y\": 39, \"x\": 2.55, \"showarrow\": false, \"yref\": \"y1\"}, {\"align\": \"left\", \"xref\": \"x1\", \"xanchor\": \"left\", \"text\": \"Mozilla Foundation\", \"font\": {\"color\": \"#000000\"}, \"y\": 40, \"x\": -0.45, \"showarrow\": false, \"yref\": \"y1\"}, {\"align\": \"left\", \"xref\": \"x1\", \"xanchor\": \"left\", \"text\": \"Mozilla Staff\", \"font\": {\"color\": \"#000000\"}, \"y\": 40, \"x\": 0.55, \"showarrow\": false, \"yref\": \"y1\"}, {\"align\": \"left\", \"xref\": \"x1\", \"xanchor\": \"left\", \"text\": \"806.0\", \"font\": {\"color\": \"#000000\"}, \"y\": 40, \"x\": 1.55, \"showarrow\": false, \"yref\": \"y1\"}, {\"align\": \"left\", \"xref\": \"x1\", \"xanchor\": \"left\", \"text\": \"36\", \"font\": {\"color\": \"#000000\"}, \"y\": 40, \"x\": 2.55, \"showarrow\": false, \"yref\": \"y1\"}, {\"align\": \"left\", \"xref\": \"x1\", \"xanchor\": \"left\", \"text\": \"Mozilla Location Service (MLS) / Stumbler\", \"font\": {\"color\": \"#000000\"}, \"y\": 41, \"x\": -0.45, \"showarrow\": false, \"yref\": \"y1\"}, {\"align\": \"left\", \"xref\": \"x1\", \"xanchor\": \"left\", \"text\": \"Community\", \"font\": {\"color\": \"#000000\"}, \"y\": 41, \"x\": 0.55, \"showarrow\": false, \"yref\": \"y1\"}, {\"align\": \"left\", \"xref\": \"x1\", \"xanchor\": \"left\", \"text\": \"591.0\", \"font\": {\"color\": \"#000000\"}, \"y\": 41, \"x\": 1.55, \"showarrow\": false, \"yref\": \"y1\"}, {\"align\": \"left\", \"xref\": \"x1\", \"xanchor\": \"left\", \"text\": \"1\", \"font\": {\"color\": \"#000000\"}, \"y\": 41, \"x\": 2.55, \"showarrow\": false, \"yref\": \"y1\"}, {\"align\": \"left\", \"xref\": \"x1\", \"xanchor\": \"left\", \"text\": \"Mozilla Foundation\", \"font\": {\"color\": \"#000000\"}, \"y\": 42, \"x\": -0.45, \"showarrow\": false, \"yref\": \"y1\"}, {\"align\": \"left\", \"xref\": \"x1\", \"xanchor\": \"left\", \"text\": \"Community\", \"font\": {\"color\": \"#000000\"}, \"y\": 42, \"x\": 0.55, \"showarrow\": false, \"yref\": \"y1\"}, {\"align\": \"left\", \"xref\": \"x1\", \"xanchor\": \"left\", \"text\": \"584.0\", \"font\": {\"color\": \"#000000\"}, \"y\": 42, \"x\": 1.55, \"showarrow\": false, \"yref\": \"y1\"}, {\"align\": \"left\", \"xref\": \"x1\", \"xanchor\": \"left\", \"text\": \"24\", \"font\": {\"color\": \"#000000\"}, \"y\": 42, \"x\": 2.55, \"showarrow\": false, \"yref\": \"y1\"}, {\"align\": \"left\", \"xref\": \"x1\", \"xanchor\": \"left\", \"text\": \"Vaani\", \"font\": {\"color\": \"#000000\"}, \"y\": 43, \"x\": -0.45, \"showarrow\": false, \"yref\": \"y1\"}, {\"align\": \"left\", \"xref\": \"x1\", \"xanchor\": \"left\", \"text\": \"Mozilla Staff\", \"font\": {\"color\": \"#000000\"}, \"y\": 43, \"x\": 0.55, \"showarrow\": false, \"yref\": \"y1\"}, {\"align\": \"left\", \"xref\": \"x1\", \"xanchor\": \"left\", \"text\": \"470.0\", \"font\": {\"color\": \"#000000\"}, \"y\": 43, \"x\": 1.55, \"showarrow\": false, \"yref\": \"y1\"}, {\"align\": \"left\", \"xref\": \"x1\", \"xanchor\": \"left\", \"text\": \"8\", \"font\": {\"color\": \"#000000\"}, \"y\": 43, \"x\": 2.55, \"showarrow\": false, \"yref\": \"y1\"}, {\"align\": \"left\", \"xref\": \"x1\", \"xanchor\": \"left\", \"text\": \"Firefox\", \"font\": {\"color\": \"#000000\"}, \"y\": 44, \"x\": -0.45, \"showarrow\": false, \"yref\": \"y1\"}, {\"align\": \"left\", \"xref\": \"x1\", \"xanchor\": \"left\", \"text\": \"Community\", \"font\": {\"color\": \"#000000\"}, \"y\": 44, \"x\": 0.55, \"showarrow\": false, \"yref\": \"y1\"}, {\"align\": \"left\", \"xref\": \"x1\", \"xanchor\": \"left\", \"text\": \"461.0\", \"font\": {\"color\": \"#000000\"}, \"y\": 44, \"x\": 1.55, \"showarrow\": false, \"yref\": \"y1\"}, {\"align\": \"left\", \"xref\": \"x1\", \"xanchor\": \"left\", \"text\": \"1\", \"font\": {\"color\": \"#000000\"}, \"y\": 44, \"x\": 2.55, \"showarrow\": false, \"yref\": \"y1\"}, {\"align\": \"left\", \"xref\": \"x1\", \"xanchor\": \"left\", \"text\": \"Mozilla Developer Network (MDN)\", \"font\": {\"color\": \"#000000\"}, \"y\": 45, \"x\": -0.45, \"showarrow\": false, \"yref\": \"y1\"}, {\"align\": \"left\", \"xref\": \"x1\", \"xanchor\": \"left\", \"text\": \"Community\", \"font\": {\"color\": \"#000000\"}, \"y\": 45, \"x\": 0.55, \"showarrow\": false, \"yref\": \"y1\"}, {\"align\": \"left\", \"xref\": \"x1\", \"xanchor\": \"left\", \"text\": \"451.0\", \"font\": {\"color\": \"#000000\"}, \"y\": 45, \"x\": 1.55, \"showarrow\": false, \"yref\": \"y1\"}, {\"align\": \"left\", \"xref\": \"x1\", \"xanchor\": \"left\", \"text\": \"27\", \"font\": {\"color\": \"#000000\"}, \"y\": 45, \"x\": 2.55, \"showarrow\": false, \"yref\": \"y1\"}, {\"align\": \"left\", \"xref\": \"x1\", \"xanchor\": \"left\", \"text\": \"Firefox iOS\", \"font\": {\"color\": \"#000000\"}, \"y\": 46, \"x\": -0.45, \"showarrow\": false, \"yref\": \"y1\"}, {\"align\": \"left\", \"xref\": \"x1\", \"xanchor\": \"left\", \"text\": \"Community\", \"font\": {\"color\": \"#000000\"}, \"y\": 46, \"x\": 0.55, \"showarrow\": false, \"yref\": \"y1\"}, {\"align\": \"left\", \"xref\": \"x1\", \"xanchor\": \"left\", \"text\": \"441.0\", \"font\": {\"color\": \"#000000\"}, \"y\": 46, \"x\": 1.55, \"showarrow\": false, \"yref\": \"y1\"}, {\"align\": \"left\", \"xref\": \"x1\", \"xanchor\": \"left\", \"text\": \"3\", \"font\": {\"color\": \"#000000\"}, \"y\": 46, \"x\": 2.55, \"showarrow\": false, \"yref\": \"y1\"}, {\"align\": \"left\", \"xref\": \"x1\", \"xanchor\": \"left\", \"text\": \"Advocacy and policy\", \"font\": {\"color\": \"#000000\"}, \"y\": 47, \"x\": -0.45, \"showarrow\": false, \"yref\": \"y1\"}, {\"align\": \"left\", \"xref\": \"x1\", \"xanchor\": \"left\", \"text\": \"Community\", \"font\": {\"color\": \"#000000\"}, \"y\": 47, \"x\": 0.55, \"showarrow\": false, \"yref\": \"y1\"}, {\"align\": \"left\", \"xref\": \"x1\", \"xanchor\": \"left\", \"text\": \"413.0\", \"font\": {\"color\": \"#000000\"}, \"y\": 47, \"x\": 1.55, \"showarrow\": false, \"yref\": \"y1\"}, {\"align\": \"left\", \"xref\": \"x1\", \"xanchor\": \"left\", \"text\": \"4\", \"font\": {\"color\": \"#000000\"}, \"y\": 47, \"x\": 2.55, \"showarrow\": false, \"yref\": \"y1\"}, {\"align\": \"left\", \"xref\": \"x1\", \"xanchor\": \"left\", \"text\": \"Deep Speech\", \"font\": {\"color\": \"#000000\"}, \"y\": 48, \"x\": -0.45, \"showarrow\": false, \"yref\": \"y1\"}, {\"align\": \"left\", \"xref\": \"x1\", \"xanchor\": \"left\", \"text\": \"Mozilla Staff\", \"font\": {\"color\": \"#000000\"}, \"y\": 48, \"x\": 0.55, \"showarrow\": false, \"yref\": \"y1\"}, {\"align\": \"left\", \"xref\": \"x1\", \"xanchor\": \"left\", \"text\": \"341.0\", \"font\": {\"color\": \"#000000\"}, \"y\": 48, \"x\": 1.55, \"showarrow\": false, \"yref\": \"y1\"}, {\"align\": \"left\", \"xref\": \"x1\", \"xanchor\": \"left\", \"text\": \"1\", \"font\": {\"color\": \"#000000\"}, \"y\": 48, \"x\": 2.55, \"showarrow\": false, \"yref\": \"y1\"}, {\"align\": \"left\", \"xref\": \"x1\", \"xanchor\": \"left\", \"text\": \"Developer Tools\", \"font\": {\"color\": \"#000000\"}, \"y\": 49, \"x\": -0.45, \"showarrow\": false, \"yref\": \"y1\"}, {\"align\": \"left\", \"xref\": \"x1\", \"xanchor\": \"left\", \"text\": \"Mozilla Staff\", \"font\": {\"color\": \"#000000\"}, \"y\": 49, \"x\": 0.55, \"showarrow\": false, \"yref\": \"y1\"}, {\"align\": \"left\", \"xref\": \"x1\", \"xanchor\": \"left\", \"text\": \"293.0\", \"font\": {\"color\": \"#000000\"}, \"y\": 49, \"x\": 1.55, \"showarrow\": false, \"yref\": \"y1\"}, {\"align\": \"left\", \"xref\": \"x1\", \"xanchor\": \"left\", \"text\": \"4\", \"font\": {\"color\": \"#000000\"}, \"y\": 49, \"x\": 2.55, \"showarrow\": false, \"yref\": \"y1\"}, {\"align\": \"left\", \"xref\": \"x1\", \"xanchor\": \"left\", \"text\": \"Connected devices & IoT\", \"font\": {\"color\": \"#000000\"}, \"y\": 50, \"x\": -0.45, \"showarrow\": false, \"yref\": \"y1\"}, {\"align\": \"left\", \"xref\": \"x1\", \"xanchor\": \"left\", \"text\": \"Community\", \"font\": {\"color\": \"#000000\"}, \"y\": 50, \"x\": 0.55, \"showarrow\": false, \"yref\": \"y1\"}, {\"align\": \"left\", \"xref\": \"x1\", \"xanchor\": \"left\", \"text\": \"222.0\", \"font\": {\"color\": \"#000000\"}, \"y\": 50, \"x\": 1.55, \"showarrow\": false, \"yref\": \"y1\"}, {\"align\": \"left\", \"xref\": \"x1\", \"xanchor\": \"left\", \"text\": \"1\", \"font\": {\"color\": \"#000000\"}, \"y\": 50, \"x\": 2.55, \"showarrow\": false, \"yref\": \"y1\"}, {\"align\": \"left\", \"xref\": \"x1\", \"xanchor\": \"left\", \"text\": \"Mozilla Local/Regional communities\", \"font\": {\"color\": \"#000000\"}, \"y\": 51, \"x\": -0.45, \"showarrow\": false, \"yref\": \"y1\"}, {\"align\": \"left\", \"xref\": \"x1\", \"xanchor\": \"left\", \"text\": \"Mozilla Reps\", \"font\": {\"color\": \"#000000\"}, \"y\": 51, \"x\": 0.55, \"showarrow\": false, \"yref\": \"y1\"}, {\"align\": \"left\", \"xref\": \"x1\", \"xanchor\": \"left\", \"text\": \"192.0\", \"font\": {\"color\": \"#000000\"}, \"y\": 51, \"x\": 1.55, \"showarrow\": false, \"yref\": \"y1\"}, {\"align\": \"left\", \"xref\": \"x1\", \"xanchor\": \"left\", \"text\": \"15\", \"font\": {\"color\": \"#000000\"}, \"y\": 51, \"x\": 2.55, \"showarrow\": false, \"yref\": \"y1\"}, {\"align\": \"left\", \"xref\": \"x1\", \"xanchor\": \"left\", \"text\": \"Mozilla Clubs\", \"font\": {\"color\": \"#000000\"}, \"y\": 52, \"x\": -0.45, \"showarrow\": false, \"yref\": \"y1\"}, {\"align\": \"left\", \"xref\": \"x1\", \"xanchor\": \"left\", \"text\": \"Mozilla Staff\", \"font\": {\"color\": \"#000000\"}, \"y\": 52, \"x\": 0.55, \"showarrow\": false, \"yref\": \"y1\"}, {\"align\": \"left\", \"xref\": \"x1\", \"xanchor\": \"left\", \"text\": \"178.0\", \"font\": {\"color\": \"#000000\"}, \"y\": 52, \"x\": 1.55, \"showarrow\": false, \"yref\": \"y1\"}, {\"align\": \"left\", \"xref\": \"x1\", \"xanchor\": \"left\", \"text\": \"8\", \"font\": {\"color\": \"#000000\"}, \"y\": 52, \"x\": 2.55, \"showarrow\": false, \"yref\": \"y1\"}, {\"align\": \"left\", \"xref\": \"x1\", \"xanchor\": \"left\", \"text\": \"Campus Clubs (previously Student Ambassadors)\", \"font\": {\"color\": \"#000000\"}, \"y\": 53, \"x\": -0.45, \"showarrow\": false, \"yref\": \"y1\"}, {\"align\": \"left\", \"xref\": \"x1\", \"xanchor\": \"left\", \"text\": \"Mozilla Staff\", \"font\": {\"color\": \"#000000\"}, \"y\": 53, \"x\": 0.55, \"showarrow\": false, \"yref\": \"y1\"}, {\"align\": \"left\", \"xref\": \"x1\", \"xanchor\": \"left\", \"text\": \"163.0\", \"font\": {\"color\": \"#000000\"}, \"y\": 53, \"x\": 1.55, \"showarrow\": false, \"yref\": \"y1\"}, {\"align\": \"left\", \"xref\": \"x1\", \"xanchor\": \"left\", \"text\": \"5\", \"font\": {\"color\": \"#000000\"}, \"y\": 53, \"x\": 2.55, \"showarrow\": false, \"yref\": \"y1\"}, {\"align\": \"left\", \"xref\": \"x1\", \"xanchor\": \"left\", \"text\": \"Web Properties\", \"font\": {\"color\": \"#000000\"}, \"y\": 54, \"x\": -0.45, \"showarrow\": false, \"yref\": \"y1\"}, {\"align\": \"left\", \"xref\": \"x1\", \"xanchor\": \"left\", \"text\": \"Mozilla Reps\", \"font\": {\"color\": \"#000000\"}, \"y\": 54, \"x\": 0.55, \"showarrow\": false, \"yref\": \"y1\"}, {\"align\": \"left\", \"xref\": \"x1\", \"xanchor\": \"left\", \"text\": \"148.0\", \"font\": {\"color\": \"#000000\"}, \"y\": 54, \"x\": 1.55, \"showarrow\": false, \"yref\": \"y1\"}, {\"align\": \"left\", \"xref\": \"x1\", \"xanchor\": \"left\", \"text\": \"4\", \"font\": {\"color\": \"#000000\"}, \"y\": 54, \"x\": 2.55, \"showarrow\": false, \"yref\": \"y1\"}, {\"align\": \"left\", \"xref\": \"x1\", \"xanchor\": \"left\", \"text\": \"Mozilla Creative & Design\", \"font\": {\"color\": \"#000000\"}, \"y\": 55, \"x\": -0.45, \"showarrow\": false, \"yref\": \"y1\"}, {\"align\": \"left\", \"xref\": \"x1\", \"xanchor\": \"left\", \"text\": \"Community\", \"font\": {\"color\": \"#000000\"}, \"y\": 55, \"x\": 0.55, \"showarrow\": false, \"yref\": \"y1\"}, {\"align\": \"left\", \"xref\": \"x1\", \"xanchor\": \"left\", \"text\": \"105.0\", \"font\": {\"color\": \"#000000\"}, \"y\": 55, \"x\": 1.55, \"showarrow\": false, \"yref\": \"y1\"}, {\"align\": \"left\", \"xref\": \"x1\", \"xanchor\": \"left\", \"text\": \"2\", \"font\": {\"color\": \"#000000\"}, \"y\": 55, \"x\": 2.55, \"showarrow\": false, \"yref\": \"y1\"}, {\"align\": \"left\", \"xref\": \"x1\", \"xanchor\": \"left\", \"text\": \"Mozilla Creative & Design\", \"font\": {\"color\": \"#000000\"}, \"y\": 56, \"x\": -0.45, \"showarrow\": false, \"yref\": \"y1\"}, {\"align\": \"left\", \"xref\": \"x1\", \"xanchor\": \"left\", \"text\": \"Mozilla Staff\", \"font\": {\"color\": \"#000000\"}, \"y\": 56, \"x\": 0.55, \"showarrow\": false, \"yref\": \"y1\"}, {\"align\": \"left\", \"xref\": \"x1\", \"xanchor\": \"left\", \"text\": \"105.0\", \"font\": {\"color\": \"#000000\"}, \"y\": 56, \"x\": 1.55, \"showarrow\": false, \"yref\": \"y1\"}, {\"align\": \"left\", \"xref\": \"x1\", \"xanchor\": \"left\", \"text\": \"3\", \"font\": {\"color\": \"#000000\"}, \"y\": 56, \"x\": 2.55, \"showarrow\": false, \"yref\": \"y1\"}, {\"align\": \"left\", \"xref\": \"x1\", \"xanchor\": \"left\", \"text\": \"Gecko\", \"font\": {\"color\": \"#000000\"}, \"y\": 57, \"x\": -0.45, \"showarrow\": false, \"yref\": \"y1\"}, {\"align\": \"left\", \"xref\": \"x1\", \"xanchor\": \"left\", \"text\": \"Mozilla Reps\", \"font\": {\"color\": \"#000000\"}, \"y\": 57, \"x\": 0.55, \"showarrow\": false, \"yref\": \"y1\"}, {\"align\": \"left\", \"xref\": \"x1\", \"xanchor\": \"left\", \"text\": \"85.0\", \"font\": {\"color\": \"#000000\"}, \"y\": 57, \"x\": 1.55, \"showarrow\": false, \"yref\": \"y1\"}, {\"align\": \"left\", \"xref\": \"x1\", \"xanchor\": \"left\", \"text\": \"3\", \"font\": {\"color\": \"#000000\"}, \"y\": 57, \"x\": 2.55, \"showarrow\": false, \"yref\": \"y1\"}, {\"align\": \"left\", \"xref\": \"x1\", \"xanchor\": \"left\", \"text\": \"Connected devices & IoT\", \"font\": {\"color\": \"#000000\"}, \"y\": 58, \"x\": -0.45, \"showarrow\": false, \"yref\": \"y1\"}, {\"align\": \"left\", \"xref\": \"x1\", \"xanchor\": \"left\", \"text\": \"Mozilla Staff\", \"font\": {\"color\": \"#000000\"}, \"y\": 58, \"x\": 0.55, \"showarrow\": false, \"yref\": \"y1\"}, {\"align\": \"left\", \"xref\": \"x1\", \"xanchor\": \"left\", \"text\": \"79.0\", \"font\": {\"color\": \"#000000\"}, \"y\": 58, \"x\": 1.55, \"showarrow\": false, \"yref\": \"y1\"}, {\"align\": \"left\", \"xref\": \"x1\", \"xanchor\": \"left\", \"text\": \"1\", \"font\": {\"color\": \"#000000\"}, \"y\": 58, \"x\": 2.55, \"showarrow\": false, \"yref\": \"y1\"}, {\"align\": \"left\", \"xref\": \"x1\", \"xanchor\": \"left\", \"text\": \"Firefox Android\", \"font\": {\"color\": \"#000000\"}, \"y\": 59, \"x\": -0.45, \"showarrow\": false, \"yref\": \"y1\"}, {\"align\": \"left\", \"xref\": \"x1\", \"xanchor\": \"left\", \"text\": \"Mozilla Staff\", \"font\": {\"color\": \"#000000\"}, \"y\": 59, \"x\": 0.55, \"showarrow\": false, \"yref\": \"y1\"}, {\"align\": \"left\", \"xref\": \"x1\", \"xanchor\": \"left\", \"text\": \"50.0\", \"font\": {\"color\": \"#000000\"}, \"y\": 59, \"x\": 1.55, \"showarrow\": false, \"yref\": \"y1\"}, {\"align\": \"left\", \"xref\": \"x1\", \"xanchor\": \"left\", \"text\": \"2\", \"font\": {\"color\": \"#000000\"}, \"y\": 59, \"x\": 2.55, \"showarrow\": false, \"yref\": \"y1\"}, {\"align\": \"left\", \"xref\": \"x1\", \"xanchor\": \"left\", \"text\": \"Technical/Developer Evangelism\", \"font\": {\"color\": \"#000000\"}, \"y\": 60, \"x\": -0.45, \"showarrow\": false, \"yref\": \"y1\"}, {\"align\": \"left\", \"xref\": \"x1\", \"xanchor\": \"left\", \"text\": \"Community\", \"font\": {\"color\": \"#000000\"}, \"y\": 60, \"x\": 0.55, \"showarrow\": false, \"yref\": \"y1\"}, {\"align\": \"left\", \"xref\": \"x1\", \"xanchor\": \"left\", \"text\": \"43.0\", \"font\": {\"color\": \"#000000\"}, \"y\": 60, \"x\": 1.55, \"showarrow\": false, \"yref\": \"y1\"}, {\"align\": \"left\", \"xref\": \"x1\", \"xanchor\": \"left\", \"text\": \"6\", \"font\": {\"color\": \"#000000\"}, \"y\": 60, \"x\": 2.55, \"showarrow\": false, \"yref\": \"y1\"}, {\"align\": \"left\", \"xref\": \"x1\", \"xanchor\": \"left\", \"text\": \"Developer Tools\", \"font\": {\"color\": \"#000000\"}, \"y\": 61, \"x\": -0.45, \"showarrow\": false, \"yref\": \"y1\"}, {\"align\": \"left\", \"xref\": \"x1\", \"xanchor\": \"left\", \"text\": \"Community\", \"font\": {\"color\": \"#000000\"}, \"y\": 61, \"x\": 0.55, \"showarrow\": false, \"yref\": \"y1\"}, {\"align\": \"left\", \"xref\": \"x1\", \"xanchor\": \"left\", \"text\": \"34.0\", \"font\": {\"color\": \"#000000\"}, \"y\": 61, \"x\": 1.55, \"showarrow\": false, \"yref\": \"y1\"}, {\"align\": \"left\", \"xref\": \"x1\", \"xanchor\": \"left\", \"text\": \"2\", \"font\": {\"color\": \"#000000\"}, \"y\": 61, \"x\": 2.55, \"showarrow\": false, \"yref\": \"y1\"}, {\"align\": \"left\", \"xref\": \"x1\", \"xanchor\": \"left\", \"text\": \"Mozilla Developer Network (MDN)\", \"font\": {\"color\": \"#000000\"}, \"y\": 62, \"x\": -0.45, \"showarrow\": false, \"yref\": \"y1\"}, {\"align\": \"left\", \"xref\": \"x1\", \"xanchor\": \"left\", \"text\": \"Mozilla Reps\", \"font\": {\"color\": \"#000000\"}, \"y\": 62, \"x\": 0.55, \"showarrow\": false, \"yref\": \"y1\"}, {\"align\": \"left\", \"xref\": \"x1\", \"xanchor\": \"left\", \"text\": \"32.0\", \"font\": {\"color\": \"#000000\"}, \"y\": 62, \"x\": 1.55, \"showarrow\": false, \"yref\": \"y1\"}, {\"align\": \"left\", \"xref\": \"x1\", \"xanchor\": \"left\", \"text\": \"1\", \"font\": {\"color\": \"#000000\"}, \"y\": 62, \"x\": 2.55, \"showarrow\": false, \"yref\": \"y1\"}, {\"align\": \"left\", \"xref\": \"x1\", \"xanchor\": \"left\", \"text\": \"Deep Speech\", \"font\": {\"color\": \"#000000\"}, \"y\": 63, \"x\": -0.45, \"showarrow\": false, \"yref\": \"y1\"}, {\"align\": \"left\", \"xref\": \"x1\", \"xanchor\": \"left\", \"text\": \"Community\", \"font\": {\"color\": \"#000000\"}, \"y\": 63, \"x\": 0.55, \"showarrow\": false, \"yref\": \"y1\"}, {\"align\": \"left\", \"xref\": \"x1\", \"xanchor\": \"left\", \"text\": \"21.0\", \"font\": {\"color\": \"#000000\"}, \"y\": 63, \"x\": 1.55, \"showarrow\": false, \"yref\": \"y1\"}, {\"align\": \"left\", \"xref\": \"x1\", \"xanchor\": \"left\", \"text\": \"1\", \"font\": {\"color\": \"#000000\"}, \"y\": 63, \"x\": 2.55, \"showarrow\": false, \"yref\": \"y1\"}, {\"align\": \"left\", \"xref\": \"x1\", \"xanchor\": \"left\", \"text\": \"Mozilla Clubs\", \"font\": {\"color\": \"#000000\"}, \"y\": 64, \"x\": -0.45, \"showarrow\": false, \"yref\": \"y1\"}, {\"align\": \"left\", \"xref\": \"x1\", \"xanchor\": \"left\", \"text\": \"Community\", \"font\": {\"color\": \"#000000\"}, \"y\": 64, \"x\": 0.55, \"showarrow\": false, \"yref\": \"y1\"}, {\"align\": \"left\", \"xref\": \"x1\", \"xanchor\": \"left\", \"text\": \"20.0\", \"font\": {\"color\": \"#000000\"}, \"y\": 64, \"x\": 1.55, \"showarrow\": false, \"yref\": \"y1\"}, {\"align\": \"left\", \"xref\": \"x1\", \"xanchor\": \"left\", \"text\": \"4\", \"font\": {\"color\": \"#000000\"}, \"y\": 64, \"x\": 2.55, \"showarrow\": false, \"yref\": \"y1\"}, {\"align\": \"left\", \"xref\": \"x1\", \"xanchor\": \"left\", \"text\": \"Firefox Focus\", \"font\": {\"color\": \"#000000\"}, \"y\": 65, \"x\": -0.45, \"showarrow\": false, \"yref\": \"y1\"}, {\"align\": \"left\", \"xref\": \"x1\", \"xanchor\": \"left\", \"text\": \"Community\", \"font\": {\"color\": \"#000000\"}, \"y\": 65, \"x\": 0.55, \"showarrow\": false, \"yref\": \"y1\"}, {\"align\": \"left\", \"xref\": \"x1\", \"xanchor\": \"left\", \"text\": \"8.0\", \"font\": {\"color\": \"#000000\"}, \"y\": 65, \"x\": 1.55, \"showarrow\": false, \"yref\": \"y1\"}, {\"align\": \"left\", \"xref\": \"x1\", \"xanchor\": \"left\", \"text\": \"2\", \"font\": {\"color\": \"#000000\"}, \"y\": 65, \"x\": 2.55, \"showarrow\": false, \"yref\": \"y1\"}, {\"align\": \"left\", \"xref\": \"x1\", \"xanchor\": \"left\", \"text\": \"Servo\", \"font\": {\"color\": \"#000000\"}, \"y\": 66, \"x\": -0.45, \"showarrow\": false, \"yref\": \"y1\"}, {\"align\": \"left\", \"xref\": \"x1\", \"xanchor\": \"left\", \"text\": \"Mozilla Reps\", \"font\": {\"color\": \"#000000\"}, \"y\": 66, \"x\": 0.55, \"showarrow\": false, \"yref\": \"y1\"}, {\"align\": \"left\", \"xref\": \"x1\", \"xanchor\": \"left\", \"text\": \"4.0\", \"font\": {\"color\": \"#000000\"}, \"y\": 66, \"x\": 1.55, \"showarrow\": false, \"yref\": \"y1\"}, {\"align\": \"left\", \"xref\": \"x1\", \"xanchor\": \"left\", \"text\": \"2\", \"font\": {\"color\": \"#000000\"}, \"y\": 66, \"x\": 2.55, \"showarrow\": false, \"yref\": \"y1\"}, {\"align\": \"left\", \"xref\": \"x1\", \"xanchor\": \"left\", \"text\": \"Vaani\", \"font\": {\"color\": \"#000000\"}, \"y\": 67, \"x\": -0.45, \"showarrow\": false, \"yref\": \"y1\"}, {\"align\": \"left\", \"xref\": \"x1\", \"xanchor\": \"left\", \"text\": \"Community\", \"font\": {\"color\": \"#000000\"}, \"y\": 67, \"x\": 0.55, \"showarrow\": false, \"yref\": \"y1\"}, {\"align\": \"left\", \"xref\": \"x1\", \"xanchor\": \"left\", \"text\": \"2.0\", \"font\": {\"color\": \"#000000\"}, \"y\": 67, \"x\": 1.55, \"showarrow\": false, \"yref\": \"y1\"}, {\"align\": \"left\", \"xref\": \"x1\", \"xanchor\": \"left\", \"text\": \"1\", \"font\": {\"color\": \"#000000\"}, \"y\": 67, \"x\": 2.55, \"showarrow\": false, \"yref\": \"y1\"}, {\"align\": \"left\", \"xref\": \"x1\", \"xanchor\": \"left\", \"text\": \"Web Literacy\", \"font\": {\"color\": \"#000000\"}, \"y\": 68, \"x\": -0.45, \"showarrow\": false, \"yref\": \"y1\"}, {\"align\": \"left\", \"xref\": \"x1\", \"xanchor\": \"left\", \"text\": \"Mozilla Reps\", \"font\": {\"color\": \"#000000\"}, \"y\": 68, \"x\": 0.55, \"showarrow\": false, \"yref\": \"y1\"}, {\"align\": \"left\", \"xref\": \"x1\", \"xanchor\": \"left\", \"text\": \"2.0\", \"font\": {\"color\": \"#000000\"}, \"y\": 68, \"x\": 1.55, \"showarrow\": false, \"yref\": \"y1\"}, {\"align\": \"left\", \"xref\": \"x1\", \"xanchor\": \"left\", \"text\": \"2\", \"font\": {\"color\": \"#000000\"}, \"y\": 68, \"x\": 2.55, \"showarrow\": false, \"yref\": \"y1\"}, {\"align\": \"left\", \"xref\": \"x1\", \"xanchor\": \"left\", \"text\": \"Campus Clubs (previously Student Ambassadors)\", \"font\": {\"color\": \"#000000\"}, \"y\": 69, \"x\": -0.45, \"showarrow\": false, \"yref\": \"y1\"}, {\"align\": \"left\", \"xref\": \"x1\", \"xanchor\": \"left\", \"text\": \"Community\", \"font\": {\"color\": \"#000000\"}, \"y\": 69, \"x\": 0.55, \"showarrow\": false, \"yref\": \"y1\"}, {\"align\": \"left\", \"xref\": \"x1\", \"xanchor\": \"left\", \"text\": \"2.0\", \"font\": {\"color\": \"#000000\"}, \"y\": 69, \"x\": 1.55, \"showarrow\": false, \"yref\": \"y1\"}, {\"align\": \"left\", \"xref\": \"x1\", \"xanchor\": \"left\", \"text\": \"1\", \"font\": {\"color\": \"#000000\"}, \"y\": 69, \"x\": 2.55, \"showarrow\": false, \"yref\": \"y1\"}, {\"align\": \"left\", \"xref\": \"x1\", \"xanchor\": \"left\", \"text\": \"Firefox Android\", \"font\": {\"color\": \"#000000\"}, \"y\": 70, \"x\": -0.45, \"showarrow\": false, \"yref\": \"y1\"}, {\"align\": \"left\", \"xref\": \"x1\", \"xanchor\": \"left\", \"text\": \"Community\", \"font\": {\"color\": \"#000000\"}, \"y\": 70, \"x\": 0.55, \"showarrow\": false, \"yref\": \"y1\"}, {\"align\": \"left\", \"xref\": \"x1\", \"xanchor\": \"left\", \"text\": \"1.0\", \"font\": {\"color\": \"#000000\"}, \"y\": 70, \"x\": 1.55, \"showarrow\": false, \"yref\": \"y1\"}, {\"align\": \"left\", \"xref\": \"x1\", \"xanchor\": \"left\", \"text\": \"1\", \"font\": {\"color\": \"#000000\"}, \"y\": 70, \"x\": 2.55, \"showarrow\": false, \"yref\": \"y1\"}], \"xaxis\": {\"ticks\": \"\", \"gridwidth\": 2, \"zeroline\": false, \"dtick\": 1, \"tick0\": -0.5, \"showticklabels\": false}}, {\"linkText\": \"Export to plot.ly\", \"showLink\": true})});</script>"
      ]
     },
     "metadata": {},
     "output_type": "display_data"
    }
   ],
   "source": [
    "s = create_search(source='git')\n",
    "\n",
    "# General filters\n",
    "s = add_general_date_filters(s)\n",
    "s = add_bot_filter(s)\n",
    "s = add_merges_filter(s)\n",
    "\n",
    "# Unique count of Commits by Project (max 100 projects)\n",
    "s.aggs.bucket('repos', 'terms', field='repo_name', size=100000)\\\n",
    "    .bucket('organizations', 'terms', field='author_org_name', size=100)\\\n",
    "    .metric('commits', 'cardinality', field='hash', precision_threshold=100000)\n",
    "result = s.execute()\n",
    "# Merge projects and repos DFs\n",
    "#repos = print_df(result=result, group_field='repos', value_field='commits', \\\n",
    "#         group_column='Repo', value_column='# Commits')\n",
    "repos = stack_by(result=result, group_column='Repo', subgroup_column='Org', value_column='# Commits',\n",
    "                 group_field='repos', subgroup_field='organizations', value_field='commits')\n",
    "\n",
    "merged_df = repos.merge(projects['Github'], on='Repo', how='left')\n",
    "\n",
    "# Group By project\n",
    "projects_df = merged_df.groupby(['Project', 'Org']).agg({'# Commits': 'sum', 'Repo': 'count'})\n",
    "#projects_df = projects_df.reset_index().set_index(keys=['# Commits', 'Project', 'Org'])\n",
    "#projects_df = projects_df.sort_index()\n",
    "projects_df = projects_df.sort_values(by='# Commits', ascending=0)\n",
    "\n",
    "# Print a table with this data\n",
    "plotly.offline.init_notebook_mode(connected=True)\n",
    "table = ff.create_table(projects_df.reset_index())\n",
    "plotly.offline.iplot(table, filename='github-projects-table.html')\n"
   ]
  },
  {
   "cell_type": "markdown",
   "metadata": {},
   "source": [
    "### Authors by Project\n",
    "\n",
    "#### Git\n",
    "\n",
    "Same as above, we first show data from Dashboard and then a new table using the grouping spreadsheet provided by Mozilla."
   ]
  },
  {
   "cell_type": "code",
   "execution_count": 101,
   "metadata": {
    "collapsed": false,
    "scrolled": true
   },
   "outputs": [],
   "source": [
    "s = create_search(source='git')\n",
    "\n",
    "# General filters\n",
    "s = add_general_date_filters(s)\n",
    "s = add_bot_filter(s)\n",
    "s = add_merges_filter(s)\n",
    "\n",
    "# Unique count of Commits by Project (max 100 projects)\n",
    "s.aggs.bucket('projects', 'terms', field='project', size=100)\\\n",
    "    .metric('contributors', 'cardinality', field='author_uuid', precision_threshold=100000)\n",
    "result = s.execute()"
   ]
  },
  {
   "cell_type": "code",
   "execution_count": 102,
   "metadata": {
    "collapsed": false,
    "scrolled": true
   },
   "outputs": [
    {
     "data": {
      "text/html": [
       "<div>\n",
       "<table border=\"1\" class=\"dataframe\">\n",
       "  <thead>\n",
       "    <tr style=\"text-align: right;\">\n",
       "      <th></th>\n",
       "      <th>Project</th>\n",
       "      <th># Authors</th>\n",
       "    </tr>\n",
       "  </thead>\n",
       "  <tbody>\n",
       "    <tr>\n",
       "      <th>0</th>\n",
       "      <td>mozilla</td>\n",
       "      <td>10990</td>\n",
       "    </tr>\n",
       "    <tr>\n",
       "      <th>1</th>\n",
       "      <td>mozilla-services</td>\n",
       "      <td>2172</td>\n",
       "    </tr>\n",
       "    <tr>\n",
       "      <th>2</th>\n",
       "      <td>rust-lang</td>\n",
       "      <td>2428</td>\n",
       "    </tr>\n",
       "    <tr>\n",
       "      <th>3</th>\n",
       "      <td>servo</td>\n",
       "      <td>1408</td>\n",
       "    </tr>\n",
       "    <tr>\n",
       "      <th>4</th>\n",
       "      <td>mdn</td>\n",
       "      <td>339</td>\n",
       "    </tr>\n",
       "    <tr>\n",
       "      <th>5</th>\n",
       "      <td>moztw</td>\n",
       "      <td>92</td>\n",
       "    </tr>\n",
       "    <tr>\n",
       "      <th>6</th>\n",
       "      <td>mozilla-mobile</td>\n",
       "      <td>110</td>\n",
       "    </tr>\n",
       "    <tr>\n",
       "      <th>7</th>\n",
       "      <td>aframevr</td>\n",
       "      <td>221</td>\n",
       "    </tr>\n",
       "    <tr>\n",
       "      <th>8</th>\n",
       "      <td>mozmar</td>\n",
       "      <td>70</td>\n",
       "    </tr>\n",
       "    <tr>\n",
       "      <th>9</th>\n",
       "      <td>mozilla-japan</td>\n",
       "      <td>58</td>\n",
       "    </tr>\n",
       "    <tr>\n",
       "      <th>10</th>\n",
       "      <td>MozillaCZ</td>\n",
       "      <td>24</td>\n",
       "    </tr>\n",
       "    <tr>\n",
       "      <th>11</th>\n",
       "      <td>mozillascience</td>\n",
       "      <td>108</td>\n",
       "    </tr>\n",
       "    <tr>\n",
       "      <th>12</th>\n",
       "      <td>Mozilla-TWQA</td>\n",
       "      <td>46</td>\n",
       "    </tr>\n",
       "    <tr>\n",
       "      <th>13</th>\n",
       "      <td>mozillach</td>\n",
       "      <td>65</td>\n",
       "    </tr>\n",
       "    <tr>\n",
       "      <th>14</th>\n",
       "      <td>mozillabrasil</td>\n",
       "      <td>181</td>\n",
       "    </tr>\n",
       "    <tr>\n",
       "      <th>15</th>\n",
       "      <td>browserhtml</td>\n",
       "      <td>43</td>\n",
       "    </tr>\n",
       "    <tr>\n",
       "      <th>16</th>\n",
       "      <td>mozfr</td>\n",
       "      <td>60</td>\n",
       "    </tr>\n",
       "    <tr>\n",
       "      <th>17</th>\n",
       "      <td>mozillahispano</td>\n",
       "      <td>66</td>\n",
       "    </tr>\n",
       "    <tr>\n",
       "      <th>18</th>\n",
       "      <td>MozVR</td>\n",
       "      <td>26</td>\n",
       "    </tr>\n",
       "    <tr>\n",
       "      <th>19</th>\n",
       "      <td>MozillaTN</td>\n",
       "      <td>47</td>\n",
       "    </tr>\n",
       "    <tr>\n",
       "      <th>20</th>\n",
       "      <td>MozillaFoundation</td>\n",
       "      <td>113</td>\n",
       "    </tr>\n",
       "    <tr>\n",
       "      <th>21</th>\n",
       "      <td>MozillaKerala</td>\n",
       "      <td>34</td>\n",
       "    </tr>\n",
       "    <tr>\n",
       "      <th>22</th>\n",
       "      <td>mozdevs</td>\n",
       "      <td>18</td>\n",
       "    </tr>\n",
       "    <tr>\n",
       "      <th>23</th>\n",
       "      <td>mozillaitalia</td>\n",
       "      <td>18</td>\n",
       "    </tr>\n",
       "    <tr>\n",
       "      <th>24</th>\n",
       "      <td>mozillaperu</td>\n",
       "      <td>8</td>\n",
       "    </tr>\n",
       "    <tr>\n",
       "      <th>25</th>\n",
       "      <td>mozillavenezuela</td>\n",
       "      <td>8</td>\n",
       "    </tr>\n",
       "    <tr>\n",
       "      <th>26</th>\n",
       "      <td>mozillacampusclubs</td>\n",
       "      <td>4</td>\n",
       "    </tr>\n",
       "    <tr>\n",
       "      <th>27</th>\n",
       "      <td>mozillaph</td>\n",
       "      <td>3</td>\n",
       "    </tr>\n",
       "  </tbody>\n",
       "</table>\n",
       "</div>"
      ],
      "text/plain": [
       "               Project  # Authors\n",
       "0              mozilla      10990\n",
       "1     mozilla-services       2172\n",
       "2            rust-lang       2428\n",
       "3                servo       1408\n",
       "4                  mdn        339\n",
       "5                moztw         92\n",
       "6       mozilla-mobile        110\n",
       "7             aframevr        221\n",
       "8               mozmar         70\n",
       "9        mozilla-japan         58\n",
       "10           MozillaCZ         24\n",
       "11      mozillascience        108\n",
       "12        Mozilla-TWQA         46\n",
       "13           mozillach         65\n",
       "14       mozillabrasil        181\n",
       "15         browserhtml         43\n",
       "16               mozfr         60\n",
       "17      mozillahispano         66\n",
       "18               MozVR         26\n",
       "19           MozillaTN         47\n",
       "20   MozillaFoundation        113\n",
       "21       MozillaKerala         34\n",
       "22             mozdevs         18\n",
       "23       mozillaitalia         18\n",
       "24         mozillaperu          8\n",
       "25    mozillavenezuela          8\n",
       "26  mozillacampusclubs          4\n",
       "27           mozillaph          3"
      ]
     },
     "execution_count": 102,
     "metadata": {},
     "output_type": "execute_result"
    }
   ],
   "source": [
    "print_df(result=result, group_field='projects', value_field='contributors', \\\n",
    "         group_column='Project', value_column='# Authors')"
   ]
  },
  {
   "cell_type": "code",
   "execution_count": 50,
   "metadata": {
    "collapsed": false,
    "scrolled": false
   },
   "outputs": [
    {
     "name": "stdout",
     "output_type": "stream",
     "text": [
      "10000, 20000, 30000, 40000, 50000, 60000, "
     ]
    },
    {
     "data": {
      "text/html": [
       "<script>requirejs.config({paths: { 'plotly': ['https://cdn.plot.ly/plotly-latest.min']},});if(!window.Plotly) {{require(['plotly'],function(plotly) {window.Plotly=plotly;});}}</script>"
      ],
      "text/vnd.plotly.v1+html": [
       "<script>requirejs.config({paths: { 'plotly': ['https://cdn.plot.ly/plotly-latest.min']},});if(!window.Plotly) {{require(['plotly'],function(plotly) {window.Plotly=plotly;});}}</script>"
      ]
     },
     "metadata": {},
     "output_type": "display_data"
    },
    {
     "data": {
      "application/vnd.plotly.v1+json": {
       "data": [
        {
         "colorscale": [
          [
           0,
           "#00083e"
          ],
          [
           0.5,
           "#ededee"
          ],
          [
           1,
           "#ffffff"
          ]
         ],
         "hoverinfo": "none",
         "opacity": 0.75,
         "showscale": false,
         "type": "heatmap",
         "z": [
          [
           0,
           0,
           0,
           0
          ],
          [
           0.5,
           0.5,
           0.5,
           0.5
          ],
          [
           1,
           1,
           1,
           1
          ],
          [
           0.5,
           0.5,
           0.5,
           0.5
          ],
          [
           1,
           1,
           1,
           1
          ],
          [
           0.5,
           0.5,
           0.5,
           0.5
          ],
          [
           1,
           1,
           1,
           1
          ],
          [
           0.5,
           0.5,
           0.5,
           0.5
          ],
          [
           1,
           1,
           1,
           1
          ],
          [
           0.5,
           0.5,
           0.5,
           0.5
          ],
          [
           1,
           1,
           1,
           1
          ],
          [
           0.5,
           0.5,
           0.5,
           0.5
          ],
          [
           1,
           1,
           1,
           1
          ],
          [
           0.5,
           0.5,
           0.5,
           0.5
          ],
          [
           1,
           1,
           1,
           1
          ],
          [
           0.5,
           0.5,
           0.5,
           0.5
          ],
          [
           1,
           1,
           1,
           1
          ],
          [
           0.5,
           0.5,
           0.5,
           0.5
          ],
          [
           1,
           1,
           1,
           1
          ],
          [
           0.5,
           0.5,
           0.5,
           0.5
          ],
          [
           1,
           1,
           1,
           1
          ],
          [
           0.5,
           0.5,
           0.5,
           0.5
          ],
          [
           1,
           1,
           1,
           1
          ],
          [
           0.5,
           0.5,
           0.5,
           0.5
          ],
          [
           1,
           1,
           1,
           1
          ],
          [
           0.5,
           0.5,
           0.5,
           0.5
          ],
          [
           1,
           1,
           1,
           1
          ],
          [
           0.5,
           0.5,
           0.5,
           0.5
          ],
          [
           1,
           1,
           1,
           1
          ],
          [
           0.5,
           0.5,
           0.5,
           0.5
          ],
          [
           1,
           1,
           1,
           1
          ],
          [
           0.5,
           0.5,
           0.5,
           0.5
          ],
          [
           1,
           1,
           1,
           1
          ],
          [
           0.5,
           0.5,
           0.5,
           0.5
          ],
          [
           1,
           1,
           1,
           1
          ],
          [
           0.5,
           0.5,
           0.5,
           0.5
          ],
          [
           1,
           1,
           1,
           1
          ],
          [
           0.5,
           0.5,
           0.5,
           0.5
          ],
          [
           1,
           1,
           1,
           1
          ],
          [
           0.5,
           0.5,
           0.5,
           0.5
          ],
          [
           1,
           1,
           1,
           1
          ],
          [
           0.5,
           0.5,
           0.5,
           0.5
          ],
          [
           1,
           1,
           1,
           1
          ],
          [
           0.5,
           0.5,
           0.5,
           0.5
          ],
          [
           1,
           1,
           1,
           1
          ],
          [
           0.5,
           0.5,
           0.5,
           0.5
          ],
          [
           1,
           1,
           1,
           1
          ],
          [
           0.5,
           0.5,
           0.5,
           0.5
          ],
          [
           1,
           1,
           1,
           1
          ],
          [
           0.5,
           0.5,
           0.5,
           0.5
          ],
          [
           1,
           1,
           1,
           1
          ],
          [
           0.5,
           0.5,
           0.5,
           0.5
          ],
          [
           1,
           1,
           1,
           1
          ],
          [
           0.5,
           0.5,
           0.5,
           0.5
          ],
          [
           1,
           1,
           1,
           1
          ],
          [
           0.5,
           0.5,
           0.5,
           0.5
          ],
          [
           1,
           1,
           1,
           1
          ],
          [
           0.5,
           0.5,
           0.5,
           0.5
          ],
          [
           1,
           1,
           1,
           1
          ],
          [
           0.5,
           0.5,
           0.5,
           0.5
          ],
          [
           1,
           1,
           1,
           1
          ],
          [
           0.5,
           0.5,
           0.5,
           0.5
          ],
          [
           1,
           1,
           1,
           1
          ],
          [
           0.5,
           0.5,
           0.5,
           0.5
          ],
          [
           1,
           1,
           1,
           1
          ],
          [
           0.5,
           0.5,
           0.5,
           0.5
          ],
          [
           1,
           1,
           1,
           1
          ],
          [
           0.5,
           0.5,
           0.5,
           0.5
          ],
          [
           1,
           1,
           1,
           1
          ],
          [
           0.5,
           0.5,
           0.5,
           0.5
          ],
          [
           1,
           1,
           1,
           1
          ]
         ]
        }
       ],
       "layout": {
        "annotations": [
         {
          "align": "left",
          "font": {
           "color": "#ffffff"
          },
          "showarrow": false,
          "text": "<b>Project</b>",
          "x": -0.45,
          "xanchor": "left",
          "xref": "x1",
          "y": 0,
          "yref": "y1"
         },
         {
          "align": "left",
          "font": {
           "color": "#ffffff"
          },
          "showarrow": false,
          "text": "<b>Org</b>",
          "x": 0.55,
          "xanchor": "left",
          "xref": "x1",
          "y": 0,
          "yref": "y1"
         },
         {
          "align": "left",
          "font": {
           "color": "#ffffff"
          },
          "showarrow": false,
          "text": "<b>uuid</b>",
          "x": 1.55,
          "xanchor": "left",
          "xref": "x1",
          "y": 0,
          "yref": "y1"
         },
         {
          "align": "left",
          "font": {
           "color": "#ffffff"
          },
          "showarrow": false,
          "text": "<b>Repo</b>",
          "x": 2.55,
          "xanchor": "left",
          "xref": "x1",
          "y": 0,
          "yref": "y1"
         },
         {
          "align": "left",
          "font": {
           "color": "#000000"
          },
          "showarrow": false,
          "text": "Gecko",
          "x": -0.45,
          "xanchor": "left",
          "xref": "x1",
          "y": 1,
          "yref": "y1"
         },
         {
          "align": "left",
          "font": {
           "color": "#000000"
          },
          "showarrow": false,
          "text": "Community",
          "x": 0.55,
          "xanchor": "left",
          "xref": "x1",
          "y": 1,
          "yref": "y1"
         },
         {
          "align": "left",
          "font": {
           "color": "#000000"
          },
          "showarrow": false,
          "text": "3975",
          "x": 1.55,
          "xanchor": "left",
          "xref": "x1",
          "y": 1,
          "yref": "y1"
         },
         {
          "align": "left",
          "font": {
           "color": "#000000"
          },
          "showarrow": false,
          "text": "5",
          "x": 2.55,
          "xanchor": "left",
          "xref": "x1",
          "y": 1,
          "yref": "y1"
         },
         {
          "align": "left",
          "font": {
           "color": "#000000"
          },
          "showarrow": false,
          "text": "Rust",
          "x": -0.45,
          "xanchor": "left",
          "xref": "x1",
          "y": 2,
          "yref": "y1"
         },
         {
          "align": "left",
          "font": {
           "color": "#000000"
          },
          "showarrow": false,
          "text": "Community",
          "x": 0.55,
          "xanchor": "left",
          "xref": "x1",
          "y": 2,
          "yref": "y1"
         },
         {
          "align": "left",
          "font": {
           "color": "#000000"
          },
          "showarrow": false,
          "text": "2288",
          "x": 1.55,
          "xanchor": "left",
          "xref": "x1",
          "y": 2,
          "yref": "y1"
         },
         {
          "align": "left",
          "font": {
           "color": "#000000"
          },
          "showarrow": false,
          "text": "25",
          "x": 2.55,
          "xanchor": "left",
          "xref": "x1",
          "y": 2,
          "yref": "y1"
         },
         {
          "align": "left",
          "font": {
           "color": "#000000"
          },
          "showarrow": false,
          "text": "IT/Ops",
          "x": -0.45,
          "xanchor": "left",
          "xref": "x1",
          "y": 3,
          "yref": "y1"
         },
         {
          "align": "left",
          "font": {
           "color": "#000000"
          },
          "showarrow": false,
          "text": "Community",
          "x": 0.55,
          "xanchor": "left",
          "xref": "x1",
          "y": 3,
          "yref": "y1"
         },
         {
          "align": "left",
          "font": {
           "color": "#000000"
          },
          "showarrow": false,
          "text": "1472",
          "x": 1.55,
          "xanchor": "left",
          "xref": "x1",
          "y": 3,
          "yref": "y1"
         },
         {
          "align": "left",
          "font": {
           "color": "#000000"
          },
          "showarrow": false,
          "text": "75",
          "x": 2.55,
          "xanchor": "left",
          "xref": "x1",
          "y": 3,
          "yref": "y1"
         },
         {
          "align": "left",
          "font": {
           "color": "#000000"
          },
          "showarrow": false,
          "text": "Gecko",
          "x": -0.45,
          "xanchor": "left",
          "xref": "x1",
          "y": 4,
          "yref": "y1"
         },
         {
          "align": "left",
          "font": {
           "color": "#000000"
          },
          "showarrow": false,
          "text": "Mozilla Staff",
          "x": 0.55,
          "xanchor": "left",
          "xref": "x1",
          "y": 4,
          "yref": "y1"
         },
         {
          "align": "left",
          "font": {
           "color": "#000000"
          },
          "showarrow": false,
          "text": "1382",
          "x": 1.55,
          "xanchor": "left",
          "xref": "x1",
          "y": 4,
          "yref": "y1"
         },
         {
          "align": "left",
          "font": {
           "color": "#000000"
          },
          "showarrow": false,
          "text": "5",
          "x": 2.55,
          "xanchor": "left",
          "xref": "x1",
          "y": 4,
          "yref": "y1"
         },
         {
          "align": "left",
          "font": {
           "color": "#000000"
          },
          "showarrow": false,
          "text": "Servo",
          "x": -0.45,
          "xanchor": "left",
          "xref": "x1",
          "y": 5,
          "yref": "y1"
         },
         {
          "align": "left",
          "font": {
           "color": "#000000"
          },
          "showarrow": false,
          "text": "Community",
          "x": 0.55,
          "xanchor": "left",
          "xref": "x1",
          "y": 5,
          "yref": "y1"
         },
         {
          "align": "left",
          "font": {
           "color": "#000000"
          },
          "showarrow": false,
          "text": "1229",
          "x": 1.55,
          "xanchor": "left",
          "xref": "x1",
          "y": 5,
          "yref": "y1"
         },
         {
          "align": "left",
          "font": {
           "color": "#000000"
          },
          "showarrow": false,
          "text": "73",
          "x": 2.55,
          "xanchor": "left",
          "xref": "x1",
          "y": 5,
          "yref": "y1"
         },
         {
          "align": "left",
          "font": {
           "color": "#000000"
          },
          "showarrow": false,
          "text": "Web Properties",
          "x": -0.45,
          "xanchor": "left",
          "xref": "x1",
          "y": 6,
          "yref": "y1"
         },
         {
          "align": "left",
          "font": {
           "color": "#000000"
          },
          "showarrow": false,
          "text": "Community",
          "x": 0.55,
          "xanchor": "left",
          "xref": "x1",
          "y": 6,
          "yref": "y1"
         },
         {
          "align": "left",
          "font": {
           "color": "#000000"
          },
          "showarrow": false,
          "text": "932",
          "x": 1.55,
          "xanchor": "left",
          "xref": "x1",
          "y": 6,
          "yref": "y1"
         },
         {
          "align": "left",
          "font": {
           "color": "#000000"
          },
          "showarrow": false,
          "text": "91",
          "x": 2.55,
          "xanchor": "left",
          "xref": "x1",
          "y": 6,
          "yref": "y1"
         },
         {
          "align": "left",
          "font": {
           "color": "#000000"
          },
          "showarrow": false,
          "text": "IT/Ops",
          "x": -0.45,
          "xanchor": "left",
          "xref": "x1",
          "y": 7,
          "yref": "y1"
         },
         {
          "align": "left",
          "font": {
           "color": "#000000"
          },
          "showarrow": false,
          "text": "Mozilla Staff",
          "x": 0.55,
          "xanchor": "left",
          "xref": "x1",
          "y": 7,
          "yref": "y1"
         },
         {
          "align": "left",
          "font": {
           "color": "#000000"
          },
          "showarrow": false,
          "text": "794",
          "x": 1.55,
          "xanchor": "left",
          "xref": "x1",
          "y": 7,
          "yref": "y1"
         },
         {
          "align": "left",
          "font": {
           "color": "#000000"
          },
          "showarrow": false,
          "text": "182",
          "x": 2.55,
          "xanchor": "left",
          "xref": "x1",
          "y": 7,
          "yref": "y1"
         },
         {
          "align": "left",
          "font": {
           "color": "#000000"
          },
          "showarrow": false,
          "text": "Web Properties",
          "x": -0.45,
          "xanchor": "left",
          "xref": "x1",
          "y": 8,
          "yref": "y1"
         },
         {
          "align": "left",
          "font": {
           "color": "#000000"
          },
          "showarrow": false,
          "text": "Mozilla Staff",
          "x": 0.55,
          "xanchor": "left",
          "xref": "x1",
          "y": 8,
          "yref": "y1"
         },
         {
          "align": "left",
          "font": {
           "color": "#000000"
          },
          "showarrow": false,
          "text": "401",
          "x": 1.55,
          "xanchor": "left",
          "xref": "x1",
          "y": 8,
          "yref": "y1"
         },
         {
          "align": "left",
          "font": {
           "color": "#000000"
          },
          "showarrow": false,
          "text": "113",
          "x": 2.55,
          "xanchor": "left",
          "xref": "x1",
          "y": 8,
          "yref": "y1"
         },
         {
          "align": "left",
          "font": {
           "color": "#000000"
          },
          "showarrow": false,
          "text": "Mozilla Local/Regional communities",
          "x": -0.45,
          "xanchor": "left",
          "xref": "x1",
          "y": 9,
          "yref": "y1"
         },
         {
          "align": "left",
          "font": {
           "color": "#000000"
          },
          "showarrow": false,
          "text": "Community",
          "x": 0.55,
          "xanchor": "left",
          "xref": "x1",
          "y": 9,
          "yref": "y1"
         },
         {
          "align": "left",
          "font": {
           "color": "#000000"
          },
          "showarrow": false,
          "text": "391",
          "x": 1.55,
          "xanchor": "left",
          "xref": "x1",
          "y": 9,
          "yref": "y1"
         },
         {
          "align": "left",
          "font": {
           "color": "#000000"
          },
          "showarrow": false,
          "text": "143",
          "x": 2.55,
          "xanchor": "left",
          "xref": "x1",
          "y": 9,
          "yref": "y1"
         },
         {
          "align": "left",
          "font": {
           "color": "#000000"
          },
          "showarrow": false,
          "text": "Addons/Web Extensions",
          "x": -0.45,
          "xanchor": "left",
          "xref": "x1",
          "y": 10,
          "yref": "y1"
         },
         {
          "align": "left",
          "font": {
           "color": "#000000"
          },
          "showarrow": false,
          "text": "Community",
          "x": 0.55,
          "xanchor": "left",
          "xref": "x1",
          "y": 10,
          "yref": "y1"
         },
         {
          "align": "left",
          "font": {
           "color": "#000000"
          },
          "showarrow": false,
          "text": "360",
          "x": 1.55,
          "xanchor": "left",
          "xref": "x1",
          "y": 10,
          "yref": "y1"
         },
         {
          "align": "left",
          "font": {
           "color": "#000000"
          },
          "showarrow": false,
          "text": "11",
          "x": 2.55,
          "xanchor": "left",
          "xref": "x1",
          "y": 10,
          "yref": "y1"
         },
         {
          "align": "left",
          "font": {
           "color": "#000000"
          },
          "showarrow": false,
          "text": "Addons/Web Extensions",
          "x": -0.45,
          "xanchor": "left",
          "xref": "x1",
          "y": 11,
          "yref": "y1"
         },
         {
          "align": "left",
          "font": {
           "color": "#000000"
          },
          "showarrow": false,
          "text": "Mozilla Staff",
          "x": 0.55,
          "xanchor": "left",
          "xref": "x1",
          "y": 11,
          "yref": "y1"
         },
         {
          "align": "left",
          "font": {
           "color": "#000000"
          },
          "showarrow": false,
          "text": "293",
          "x": 1.55,
          "xanchor": "left",
          "xref": "x1",
          "y": 11,
          "yref": "y1"
         },
         {
          "align": "left",
          "font": {
           "color": "#000000"
          },
          "showarrow": false,
          "text": "19",
          "x": 2.55,
          "xanchor": "left",
          "xref": "x1",
          "y": 11,
          "yref": "y1"
         },
         {
          "align": "left",
          "font": {
           "color": "#000000"
          },
          "showarrow": false,
          "text": "Release engineering",
          "x": -0.45,
          "xanchor": "left",
          "xref": "x1",
          "y": 12,
          "yref": "y1"
         },
         {
          "align": "left",
          "font": {
           "color": "#000000"
          },
          "showarrow": false,
          "text": "Mozilla Staff",
          "x": 0.55,
          "xanchor": "left",
          "xref": "x1",
          "y": 12,
          "yref": "y1"
         },
         {
          "align": "left",
          "font": {
           "color": "#000000"
          },
          "showarrow": false,
          "text": "221",
          "x": 1.55,
          "xanchor": "left",
          "xref": "x1",
          "y": 12,
          "yref": "y1"
         },
         {
          "align": "left",
          "font": {
           "color": "#000000"
          },
          "showarrow": false,
          "text": "22",
          "x": 2.55,
          "xanchor": "left",
          "xref": "x1",
          "y": 12,
          "yref": "y1"
         },
         {
          "align": "left",
          "font": {
           "color": "#000000"
          },
          "showarrow": false,
          "text": "WebVR",
          "x": -0.45,
          "xanchor": "left",
          "xref": "x1",
          "y": 13,
          "yref": "y1"
         },
         {
          "align": "left",
          "font": {
           "color": "#000000"
          },
          "showarrow": false,
          "text": "Community",
          "x": 0.55,
          "xanchor": "left",
          "xref": "x1",
          "y": 13,
          "yref": "y1"
         },
         {
          "align": "left",
          "font": {
           "color": "#000000"
          },
          "showarrow": false,
          "text": "208",
          "x": 1.55,
          "xanchor": "left",
          "xref": "x1",
          "y": 13,
          "yref": "y1"
         },
         {
          "align": "left",
          "font": {
           "color": "#000000"
          },
          "showarrow": false,
          "text": "19",
          "x": 2.55,
          "xanchor": "left",
          "xref": "x1",
          "y": 13,
          "yref": "y1"
         },
         {
          "align": "left",
          "font": {
           "color": "#000000"
          },
          "showarrow": false,
          "text": "Servo",
          "x": -0.45,
          "xanchor": "left",
          "xref": "x1",
          "y": 14,
          "yref": "y1"
         },
         {
          "align": "left",
          "font": {
           "color": "#000000"
          },
          "showarrow": false,
          "text": "Mozilla Staff",
          "x": 0.55,
          "xanchor": "left",
          "xref": "x1",
          "y": 14,
          "yref": "y1"
         },
         {
          "align": "left",
          "font": {
           "color": "#000000"
          },
          "showarrow": false,
          "text": "197",
          "x": 1.55,
          "xanchor": "left",
          "xref": "x1",
          "y": 14,
          "yref": "y1"
         },
         {
          "align": "left",
          "font": {
           "color": "#000000"
          },
          "showarrow": false,
          "text": "80",
          "x": 2.55,
          "xanchor": "left",
          "xref": "x1",
          "y": 14,
          "yref": "y1"
         },
         {
          "align": "left",
          "font": {
           "color": "#000000"
          },
          "showarrow": false,
          "text": "Web Literacy",
          "x": -0.45,
          "xanchor": "left",
          "xref": "x1",
          "y": 15,
          "yref": "y1"
         },
         {
          "align": "left",
          "font": {
           "color": "#000000"
          },
          "showarrow": false,
          "text": "Community",
          "x": 0.55,
          "xanchor": "left",
          "xref": "x1",
          "y": 15,
          "yref": "y1"
         },
         {
          "align": "left",
          "font": {
           "color": "#000000"
          },
          "showarrow": false,
          "text": "156",
          "x": 1.55,
          "xanchor": "left",
          "xref": "x1",
          "y": 15,
          "yref": "y1"
         },
         {
          "align": "left",
          "font": {
           "color": "#000000"
          },
          "showarrow": false,
          "text": "40",
          "x": 2.55,
          "xanchor": "left",
          "xref": "x1",
          "y": 15,
          "yref": "y1"
         },
         {
          "align": "left",
          "font": {
           "color": "#000000"
          },
          "showarrow": false,
          "text": "Rust",
          "x": -0.45,
          "xanchor": "left",
          "xref": "x1",
          "y": 16,
          "yref": "y1"
         },
         {
          "align": "left",
          "font": {
           "color": "#000000"
          },
          "showarrow": false,
          "text": "Mozilla Staff",
          "x": 0.55,
          "xanchor": "left",
          "xref": "x1",
          "y": 16,
          "yref": "y1"
         },
         {
          "align": "left",
          "font": {
           "color": "#000000"
          },
          "showarrow": false,
          "text": "140",
          "x": 1.55,
          "xanchor": "left",
          "xref": "x1",
          "y": 16,
          "yref": "y1"
         },
         {
          "align": "left",
          "font": {
           "color": "#000000"
          },
          "showarrow": false,
          "text": "27",
          "x": 2.55,
          "xanchor": "left",
          "xref": "x1",
          "y": 16,
          "yref": "y1"
         },
         {
          "align": "left",
          "font": {
           "color": "#000000"
          },
          "showarrow": false,
          "text": "Firefox OS (FxOS / B2G)",
          "x": -0.45,
          "xanchor": "left",
          "xref": "x1",
          "y": 17,
          "yref": "y1"
         },
         {
          "align": "left",
          "font": {
           "color": "#000000"
          },
          "showarrow": false,
          "text": "Mozilla Staff",
          "x": 0.55,
          "xanchor": "left",
          "xref": "x1",
          "y": 17,
          "yref": "y1"
         },
         {
          "align": "left",
          "font": {
           "color": "#000000"
          },
          "showarrow": false,
          "text": "112",
          "x": 1.55,
          "xanchor": "left",
          "xref": "x1",
          "y": 17,
          "yref": "y1"
         },
         {
          "align": "left",
          "font": {
           "color": "#000000"
          },
          "showarrow": false,
          "text": "26",
          "x": 2.55,
          "xanchor": "left",
          "xref": "x1",
          "y": 17,
          "yref": "y1"
         },
         {
          "align": "left",
          "font": {
           "color": "#000000"
          },
          "showarrow": false,
          "text": "Mozilla Developer Network (MDN)",
          "x": -0.45,
          "xanchor": "left",
          "xref": "x1",
          "y": 18,
          "yref": "y1"
         },
         {
          "align": "left",
          "font": {
           "color": "#000000"
          },
          "showarrow": false,
          "text": "Community",
          "x": 0.55,
          "xanchor": "left",
          "xref": "x1",
          "y": 18,
          "yref": "y1"
         },
         {
          "align": "left",
          "font": {
           "color": "#000000"
          },
          "showarrow": false,
          "text": "112",
          "x": 1.55,
          "xanchor": "left",
          "xref": "x1",
          "y": 18,
          "yref": "y1"
         },
         {
          "align": "left",
          "font": {
           "color": "#000000"
          },
          "showarrow": false,
          "text": "27",
          "x": 2.55,
          "xanchor": "left",
          "xref": "x1",
          "y": 18,
          "yref": "y1"
         },
         {
          "align": "left",
          "font": {
           "color": "#000000"
          },
          "showarrow": false,
          "text": "Mozilla Science",
          "x": -0.45,
          "xanchor": "left",
          "xref": "x1",
          "y": 19,
          "yref": "y1"
         },
         {
          "align": "left",
          "font": {
           "color": "#000000"
          },
          "showarrow": false,
          "text": "Community",
          "x": 0.55,
          "xanchor": "left",
          "xref": "x1",
          "y": 19,
          "yref": "y1"
         },
         {
          "align": "left",
          "font": {
           "color": "#000000"
          },
          "showarrow": false,
          "text": "99",
          "x": 1.55,
          "xanchor": "left",
          "xref": "x1",
          "y": 19,
          "yref": "y1"
         },
         {
          "align": "left",
          "font": {
           "color": "#000000"
          },
          "showarrow": false,
          "text": "34",
          "x": 2.55,
          "xanchor": "left",
          "xref": "x1",
          "y": 19,
          "yref": "y1"
         },
         {
          "align": "left",
          "font": {
           "color": "#000000"
          },
          "showarrow": false,
          "text": "Mozilla Local/Regional communities",
          "x": -0.45,
          "xanchor": "left",
          "xref": "x1",
          "y": 20,
          "yref": "y1"
         },
         {
          "align": "left",
          "font": {
           "color": "#000000"
          },
          "showarrow": false,
          "text": "Mozilla Staff",
          "x": 0.55,
          "xanchor": "left",
          "xref": "x1",
          "y": 20,
          "yref": "y1"
         },
         {
          "align": "left",
          "font": {
           "color": "#000000"
          },
          "showarrow": false,
          "text": "93",
          "x": 1.55,
          "xanchor": "left",
          "xref": "x1",
          "y": 20,
          "yref": "y1"
         },
         {
          "align": "left",
          "font": {
           "color": "#000000"
          },
          "showarrow": false,
          "text": "77",
          "x": 2.55,
          "xanchor": "left",
          "xref": "x1",
          "y": 20,
          "yref": "y1"
         },
         {
          "align": "left",
          "font": {
           "color": "#000000"
          },
          "showarrow": false,
          "text": "Localization",
          "x": -0.45,
          "xanchor": "left",
          "xref": "x1",
          "y": 21,
          "yref": "y1"
         },
         {
          "align": "left",
          "font": {
           "color": "#000000"
          },
          "showarrow": false,
          "text": "Community",
          "x": 0.55,
          "xanchor": "left",
          "xref": "x1",
          "y": 21,
          "yref": "y1"
         },
         {
          "align": "left",
          "font": {
           "color": "#000000"
          },
          "showarrow": false,
          "text": "86",
          "x": 1.55,
          "xanchor": "left",
          "xref": "x1",
          "y": 21,
          "yref": "y1"
         },
         {
          "align": "left",
          "font": {
           "color": "#000000"
          },
          "showarrow": false,
          "text": "4",
          "x": 2.55,
          "xanchor": "left",
          "xref": "x1",
          "y": 21,
          "yref": "y1"
         },
         {
          "align": "left",
          "font": {
           "color": "#000000"
          },
          "showarrow": false,
          "text": "Firefox OS (FxOS / B2G)",
          "x": -0.45,
          "xanchor": "left",
          "xref": "x1",
          "y": 22,
          "yref": "y1"
         },
         {
          "align": "left",
          "font": {
           "color": "#000000"
          },
          "showarrow": false,
          "text": "Community",
          "x": 0.55,
          "xanchor": "left",
          "xref": "x1",
          "y": 22,
          "yref": "y1"
         },
         {
          "align": "left",
          "font": {
           "color": "#000000"
          },
          "showarrow": false,
          "text": "85",
          "x": 1.55,
          "xanchor": "left",
          "xref": "x1",
          "y": 22,
          "yref": "y1"
         },
         {
          "align": "left",
          "font": {
           "color": "#000000"
          },
          "showarrow": false,
          "text": "18",
          "x": 2.55,
          "xanchor": "left",
          "xref": "x1",
          "y": 22,
          "yref": "y1"
         },
         {
          "align": "left",
          "font": {
           "color": "#000000"
          },
          "showarrow": false,
          "text": "Mozilla Foundation",
          "x": -0.45,
          "xanchor": "left",
          "xref": "x1",
          "y": 23,
          "yref": "y1"
         },
         {
          "align": "left",
          "font": {
           "color": "#000000"
          },
          "showarrow": false,
          "text": "Community",
          "x": 0.55,
          "xanchor": "left",
          "xref": "x1",
          "y": 23,
          "yref": "y1"
         },
         {
          "align": "left",
          "font": {
           "color": "#000000"
          },
          "showarrow": false,
          "text": "85",
          "x": 1.55,
          "xanchor": "left",
          "xref": "x1",
          "y": 23,
          "yref": "y1"
         },
         {
          "align": "left",
          "font": {
           "color": "#000000"
          },
          "showarrow": false,
          "text": "24",
          "x": 2.55,
          "xanchor": "left",
          "xref": "x1",
          "y": 23,
          "yref": "y1"
         },
         {
          "align": "left",
          "font": {
           "color": "#000000"
          },
          "showarrow": false,
          "text": "Test Pilot",
          "x": -0.45,
          "xanchor": "left",
          "xref": "x1",
          "y": 24,
          "yref": "y1"
         },
         {
          "align": "left",
          "font": {
           "color": "#000000"
          },
          "showarrow": false,
          "text": "Community",
          "x": 0.55,
          "xanchor": "left",
          "xref": "x1",
          "y": 24,
          "yref": "y1"
         },
         {
          "align": "left",
          "font": {
           "color": "#000000"
          },
          "showarrow": false,
          "text": "85",
          "x": 1.55,
          "xanchor": "left",
          "xref": "x1",
          "y": 24,
          "yref": "y1"
         },
         {
          "align": "left",
          "font": {
           "color": "#000000"
          },
          "showarrow": false,
          "text": "2",
          "x": 2.55,
          "xanchor": "left",
          "xref": "x1",
          "y": 24,
          "yref": "y1"
         },
         {
          "align": "left",
          "font": {
           "color": "#000000"
          },
          "showarrow": false,
          "text": "Mozilla Location Service (MLS) / Stumbler",
          "x": -0.45,
          "xanchor": "left",
          "xref": "x1",
          "y": 25,
          "yref": "y1"
         },
         {
          "align": "left",
          "font": {
           "color": "#000000"
          },
          "showarrow": false,
          "text": "Community",
          "x": 0.55,
          "xanchor": "left",
          "xref": "x1",
          "y": 25,
          "yref": "y1"
         },
         {
          "align": "left",
          "font": {
           "color": "#000000"
          },
          "showarrow": false,
          "text": "73",
          "x": 1.55,
          "xanchor": "left",
          "xref": "x1",
          "y": 25,
          "yref": "y1"
         },
         {
          "align": "left",
          "font": {
           "color": "#000000"
          },
          "showarrow": false,
          "text": "1",
          "x": 2.55,
          "xanchor": "left",
          "xref": "x1",
          "y": 25,
          "yref": "y1"
         },
         {
          "align": "left",
          "font": {
           "color": "#000000"
          },
          "showarrow": false,
          "text": "Release engineering",
          "x": -0.45,
          "xanchor": "left",
          "xref": "x1",
          "y": 26,
          "yref": "y1"
         },
         {
          "align": "left",
          "font": {
           "color": "#000000"
          },
          "showarrow": false,
          "text": "Community",
          "x": 0.55,
          "xanchor": "left",
          "xref": "x1",
          "y": 26,
          "yref": "y1"
         },
         {
          "align": "left",
          "font": {
           "color": "#000000"
          },
          "showarrow": false,
          "text": "68",
          "x": 1.55,
          "xanchor": "left",
          "xref": "x1",
          "y": 26,
          "yref": "y1"
         },
         {
          "align": "left",
          "font": {
           "color": "#000000"
          },
          "showarrow": false,
          "text": "9",
          "x": 2.55,
          "xanchor": "left",
          "xref": "x1",
          "y": 26,
          "yref": "y1"
         },
         {
          "align": "left",
          "font": {
           "color": "#000000"
          },
          "showarrow": false,
          "text": "Firefox iOS",
          "x": -0.45,
          "xanchor": "left",
          "xref": "x1",
          "y": 27,
          "yref": "y1"
         },
         {
          "align": "left",
          "font": {
           "color": "#000000"
          },
          "showarrow": false,
          "text": "Community",
          "x": 0.55,
          "xanchor": "left",
          "xref": "x1",
          "y": 27,
          "yref": "y1"
         },
         {
          "align": "left",
          "font": {
           "color": "#000000"
          },
          "showarrow": false,
          "text": "65",
          "x": 1.55,
          "xanchor": "left",
          "xref": "x1",
          "y": 27,
          "yref": "y1"
         },
         {
          "align": "left",
          "font": {
           "color": "#000000"
          },
          "showarrow": false,
          "text": "3",
          "x": 2.55,
          "xanchor": "left",
          "xref": "x1",
          "y": 27,
          "yref": "y1"
         },
         {
          "align": "left",
          "font": {
           "color": "#000000"
          },
          "showarrow": false,
          "text": "Web Literacy",
          "x": -0.45,
          "xanchor": "left",
          "xref": "x1",
          "y": 28,
          "yref": "y1"
         },
         {
          "align": "left",
          "font": {
           "color": "#000000"
          },
          "showarrow": false,
          "text": "Mozilla Staff",
          "x": 0.55,
          "xanchor": "left",
          "xref": "x1",
          "y": 28,
          "yref": "y1"
         },
         {
          "align": "left",
          "font": {
           "color": "#000000"
          },
          "showarrow": false,
          "text": "53",
          "x": 1.55,
          "xanchor": "left",
          "xref": "x1",
          "y": 28,
          "yref": "y1"
         },
         {
          "align": "left",
          "font": {
           "color": "#000000"
          },
          "showarrow": false,
          "text": "51",
          "x": 2.55,
          "xanchor": "left",
          "xref": "x1",
          "y": 28,
          "yref": "y1"
         },
         {
          "align": "left",
          "font": {
           "color": "#000000"
          },
          "showarrow": false,
          "text": "Mozilla Developer Network (MDN)",
          "x": -0.45,
          "xanchor": "left",
          "xref": "x1",
          "y": 29,
          "yref": "y1"
         },
         {
          "align": "left",
          "font": {
           "color": "#000000"
          },
          "showarrow": false,
          "text": "Mozilla Staff",
          "x": 0.55,
          "xanchor": "left",
          "xref": "x1",
          "y": 29,
          "yref": "y1"
         },
         {
          "align": "left",
          "font": {
           "color": "#000000"
          },
          "showarrow": false,
          "text": "52",
          "x": 1.55,
          "xanchor": "left",
          "xref": "x1",
          "y": 29,
          "yref": "y1"
         },
         {
          "align": "left",
          "font": {
           "color": "#000000"
          },
          "showarrow": false,
          "text": "47",
          "x": 2.55,
          "xanchor": "left",
          "xref": "x1",
          "y": 29,
          "yref": "y1"
         },
         {
          "align": "left",
          "font": {
           "color": "#000000"
          },
          "showarrow": false,
          "text": "Marketing / Social Media",
          "x": -0.45,
          "xanchor": "left",
          "xref": "x1",
          "y": 30,
          "yref": "y1"
         },
         {
          "align": "left",
          "font": {
           "color": "#000000"
          },
          "showarrow": false,
          "text": "Mozilla Staff",
          "x": 0.55,
          "xanchor": "left",
          "xref": "x1",
          "y": 30,
          "yref": "y1"
         },
         {
          "align": "left",
          "font": {
           "color": "#000000"
          },
          "showarrow": false,
          "text": "50",
          "x": 1.55,
          "xanchor": "left",
          "xref": "x1",
          "y": 30,
          "yref": "y1"
         },
         {
          "align": "left",
          "font": {
           "color": "#000000"
          },
          "showarrow": false,
          "text": "15",
          "x": 2.55,
          "xanchor": "left",
          "xref": "x1",
          "y": 30,
          "yref": "y1"
         },
         {
          "align": "left",
          "font": {
           "color": "#000000"
          },
          "showarrow": false,
          "text": "Test Pilot",
          "x": -0.45,
          "xanchor": "left",
          "xref": "x1",
          "y": 31,
          "yref": "y1"
         },
         {
          "align": "left",
          "font": {
           "color": "#000000"
          },
          "showarrow": false,
          "text": "Mozilla Staff",
          "x": 0.55,
          "xanchor": "left",
          "xref": "x1",
          "y": 31,
          "yref": "y1"
         },
         {
          "align": "left",
          "font": {
           "color": "#000000"
          },
          "showarrow": false,
          "text": "49",
          "x": 1.55,
          "xanchor": "left",
          "xref": "x1",
          "y": 31,
          "yref": "y1"
         },
         {
          "align": "left",
          "font": {
           "color": "#000000"
          },
          "showarrow": false,
          "text": "6",
          "x": 2.55,
          "xanchor": "left",
          "xref": "x1",
          "y": 31,
          "yref": "y1"
         },
         {
          "align": "left",
          "font": {
           "color": "#000000"
          },
          "showarrow": false,
          "text": "Quality Assurance",
          "x": -0.45,
          "xanchor": "left",
          "xref": "x1",
          "y": 32,
          "yref": "y1"
         },
         {
          "align": "left",
          "font": {
           "color": "#000000"
          },
          "showarrow": false,
          "text": "Mozilla Staff",
          "x": 0.55,
          "xanchor": "left",
          "xref": "x1",
          "y": 32,
          "yref": "y1"
         },
         {
          "align": "left",
          "font": {
           "color": "#000000"
          },
          "showarrow": false,
          "text": "45",
          "x": 1.55,
          "xanchor": "left",
          "xref": "x1",
          "y": 32,
          "yref": "y1"
         },
         {
          "align": "left",
          "font": {
           "color": "#000000"
          },
          "showarrow": false,
          "text": "3",
          "x": 2.55,
          "xanchor": "left",
          "xref": "x1",
          "y": 32,
          "yref": "y1"
         },
         {
          "align": "left",
          "font": {
           "color": "#000000"
          },
          "showarrow": false,
          "text": "Quality Assurance",
          "x": -0.45,
          "xanchor": "left",
          "xref": "x1",
          "y": 33,
          "yref": "y1"
         },
         {
          "align": "left",
          "font": {
           "color": "#000000"
          },
          "showarrow": false,
          "text": "Community",
          "x": 0.55,
          "xanchor": "left",
          "xref": "x1",
          "y": 33,
          "yref": "y1"
         },
         {
          "align": "left",
          "font": {
           "color": "#000000"
          },
          "showarrow": false,
          "text": "40",
          "x": 1.55,
          "xanchor": "left",
          "xref": "x1",
          "y": 33,
          "yref": "y1"
         },
         {
          "align": "left",
          "font": {
           "color": "#000000"
          },
          "showarrow": false,
          "text": "2",
          "x": 2.55,
          "xanchor": "left",
          "xref": "x1",
          "y": 33,
          "yref": "y1"
         },
         {
          "align": "left",
          "font": {
           "color": "#000000"
          },
          "showarrow": false,
          "text": "Advocacy and policy",
          "x": -0.45,
          "xanchor": "left",
          "xref": "x1",
          "y": 34,
          "yref": "y1"
         },
         {
          "align": "left",
          "font": {
           "color": "#000000"
          },
          "showarrow": false,
          "text": "Community",
          "x": 0.55,
          "xanchor": "left",
          "xref": "x1",
          "y": 34,
          "yref": "y1"
         },
         {
          "align": "left",
          "font": {
           "color": "#000000"
          },
          "showarrow": false,
          "text": "38",
          "x": 1.55,
          "xanchor": "left",
          "xref": "x1",
          "y": 34,
          "yref": "y1"
         },
         {
          "align": "left",
          "font": {
           "color": "#000000"
          },
          "showarrow": false,
          "text": "4",
          "x": 2.55,
          "xanchor": "left",
          "xref": "x1",
          "y": 34,
          "yref": "y1"
         },
         {
          "align": "left",
          "font": {
           "color": "#000000"
          },
          "showarrow": false,
          "text": "Advocacy and policy",
          "x": -0.45,
          "xanchor": "left",
          "xref": "x1",
          "y": 35,
          "yref": "y1"
         },
         {
          "align": "left",
          "font": {
           "color": "#000000"
          },
          "showarrow": false,
          "text": "Mozilla Staff",
          "x": 0.55,
          "xanchor": "left",
          "xref": "x1",
          "y": 35,
          "yref": "y1"
         },
         {
          "align": "left",
          "font": {
           "color": "#000000"
          },
          "showarrow": false,
          "text": "36",
          "x": 1.55,
          "xanchor": "left",
          "xref": "x1",
          "y": 35,
          "yref": "y1"
         },
         {
          "align": "left",
          "font": {
           "color": "#000000"
          },
          "showarrow": false,
          "text": "4",
          "x": 2.55,
          "xanchor": "left",
          "xref": "x1",
          "y": 35,
          "yref": "y1"
         },
         {
          "align": "left",
          "font": {
           "color": "#000000"
          },
          "showarrow": false,
          "text": "Localization",
          "x": -0.45,
          "xanchor": "left",
          "xref": "x1",
          "y": 36,
          "yref": "y1"
         },
         {
          "align": "left",
          "font": {
           "color": "#000000"
          },
          "showarrow": false,
          "text": "Mozilla Staff",
          "x": 0.55,
          "xanchor": "left",
          "xref": "x1",
          "y": 36,
          "yref": "y1"
         },
         {
          "align": "left",
          "font": {
           "color": "#000000"
          },
          "showarrow": false,
          "text": "35",
          "x": 1.55,
          "xanchor": "left",
          "xref": "x1",
          "y": 36,
          "yref": "y1"
         },
         {
          "align": "left",
          "font": {
           "color": "#000000"
          },
          "showarrow": false,
          "text": "4",
          "x": 2.55,
          "xanchor": "left",
          "xref": "x1",
          "y": 36,
          "yref": "y1"
         },
         {
          "align": "left",
          "font": {
           "color": "#000000"
          },
          "showarrow": false,
          "text": "Firefox iOS",
          "x": -0.45,
          "xanchor": "left",
          "xref": "x1",
          "y": 37,
          "yref": "y1"
         },
         {
          "align": "left",
          "font": {
           "color": "#000000"
          },
          "showarrow": false,
          "text": "Mozilla Staff",
          "x": 0.55,
          "xanchor": "left",
          "xref": "x1",
          "y": 37,
          "yref": "y1"
         },
         {
          "align": "left",
          "font": {
           "color": "#000000"
          },
          "showarrow": false,
          "text": "32",
          "x": 1.55,
          "xanchor": "left",
          "xref": "x1",
          "y": 37,
          "yref": "y1"
         },
         {
          "align": "left",
          "font": {
           "color": "#000000"
          },
          "showarrow": false,
          "text": "5",
          "x": 2.55,
          "xanchor": "left",
          "xref": "x1",
          "y": 37,
          "yref": "y1"
         },
         {
          "align": "left",
          "font": {
           "color": "#000000"
          },
          "showarrow": false,
          "text": "Mozilla Foundation",
          "x": -0.45,
          "xanchor": "left",
          "xref": "x1",
          "y": 38,
          "yref": "y1"
         },
         {
          "align": "left",
          "font": {
           "color": "#000000"
          },
          "showarrow": false,
          "text": "Mozilla Staff",
          "x": 0.55,
          "xanchor": "left",
          "xref": "x1",
          "y": 38,
          "yref": "y1"
         },
         {
          "align": "left",
          "font": {
           "color": "#000000"
          },
          "showarrow": false,
          "text": "30",
          "x": 1.55,
          "xanchor": "left",
          "xref": "x1",
          "y": 38,
          "yref": "y1"
         },
         {
          "align": "left",
          "font": {
           "color": "#000000"
          },
          "showarrow": false,
          "text": "36",
          "x": 2.55,
          "xanchor": "left",
          "xref": "x1",
          "y": 38,
          "yref": "y1"
         },
         {
          "align": "left",
          "font": {
           "color": "#000000"
          },
          "showarrow": false,
          "text": "WebVR",
          "x": -0.45,
          "xanchor": "left",
          "xref": "x1",
          "y": 39,
          "yref": "y1"
         },
         {
          "align": "left",
          "font": {
           "color": "#000000"
          },
          "showarrow": false,
          "text": "Mozilla Staff",
          "x": 0.55,
          "xanchor": "left",
          "xref": "x1",
          "y": 39,
          "yref": "y1"
         },
         {
          "align": "left",
          "font": {
           "color": "#000000"
          },
          "showarrow": false,
          "text": "26",
          "x": 1.55,
          "xanchor": "left",
          "xref": "x1",
          "y": 39,
          "yref": "y1"
         },
         {
          "align": "left",
          "font": {
           "color": "#000000"
          },
          "showarrow": false,
          "text": "29",
          "x": 2.55,
          "xanchor": "left",
          "xref": "x1",
          "y": 39,
          "yref": "y1"
         },
         {
          "align": "left",
          "font": {
           "color": "#000000"
          },
          "showarrow": false,
          "text": "Mozilla Creative & Design",
          "x": -0.45,
          "xanchor": "left",
          "xref": "x1",
          "y": 40,
          "yref": "y1"
         },
         {
          "align": "left",
          "font": {
           "color": "#000000"
          },
          "showarrow": false,
          "text": "Community",
          "x": 0.55,
          "xanchor": "left",
          "xref": "x1",
          "y": 40,
          "yref": "y1"
         },
         {
          "align": "left",
          "font": {
           "color": "#000000"
          },
          "showarrow": false,
          "text": "21",
          "x": 1.55,
          "xanchor": "left",
          "xref": "x1",
          "y": 40,
          "yref": "y1"
         },
         {
          "align": "left",
          "font": {
           "color": "#000000"
          },
          "showarrow": false,
          "text": "2",
          "x": 2.55,
          "xanchor": "left",
          "xref": "x1",
          "y": 40,
          "yref": "y1"
         },
         {
          "align": "left",
          "font": {
           "color": "#000000"
          },
          "showarrow": false,
          "text": "Firefox",
          "x": -0.45,
          "xanchor": "left",
          "xref": "x1",
          "y": 41,
          "yref": "y1"
         },
         {
          "align": "left",
          "font": {
           "color": "#000000"
          },
          "showarrow": false,
          "text": "Mozilla Staff",
          "x": 0.55,
          "xanchor": "left",
          "xref": "x1",
          "y": 41,
          "yref": "y1"
         },
         {
          "align": "left",
          "font": {
           "color": "#000000"
          },
          "showarrow": false,
          "text": "20",
          "x": 1.55,
          "xanchor": "left",
          "xref": "x1",
          "y": 41,
          "yref": "y1"
         },
         {
          "align": "left",
          "font": {
           "color": "#000000"
          },
          "showarrow": false,
          "text": "1",
          "x": 2.55,
          "xanchor": "left",
          "xref": "x1",
          "y": 41,
          "yref": "y1"
         },
         {
          "align": "left",
          "font": {
           "color": "#000000"
          },
          "showarrow": false,
          "text": "Mozilla Location Service (MLS) / Stumbler",
          "x": -0.45,
          "xanchor": "left",
          "xref": "x1",
          "y": 42,
          "yref": "y1"
         },
         {
          "align": "left",
          "font": {
           "color": "#000000"
          },
          "showarrow": false,
          "text": "Mozilla Staff",
          "x": 0.55,
          "xanchor": "left",
          "xref": "x1",
          "y": 42,
          "yref": "y1"
         },
         {
          "align": "left",
          "font": {
           "color": "#000000"
          },
          "showarrow": false,
          "text": "19",
          "x": 1.55,
          "xanchor": "left",
          "xref": "x1",
          "y": 42,
          "yref": "y1"
         },
         {
          "align": "left",
          "font": {
           "color": "#000000"
          },
          "showarrow": false,
          "text": "1",
          "x": 2.55,
          "xanchor": "left",
          "xref": "x1",
          "y": 42,
          "yref": "y1"
         },
         {
          "align": "left",
          "font": {
           "color": "#000000"
          },
          "showarrow": false,
          "text": "Marketing / Social Media",
          "x": -0.45,
          "xanchor": "left",
          "xref": "x1",
          "y": 43,
          "yref": "y1"
         },
         {
          "align": "left",
          "font": {
           "color": "#000000"
          },
          "showarrow": false,
          "text": "Community",
          "x": 0.55,
          "xanchor": "left",
          "xref": "x1",
          "y": 43,
          "yref": "y1"
         },
         {
          "align": "left",
          "font": {
           "color": "#000000"
          },
          "showarrow": false,
          "text": "18",
          "x": 1.55,
          "xanchor": "left",
          "xref": "x1",
          "y": 43,
          "yref": "y1"
         },
         {
          "align": "left",
          "font": {
           "color": "#000000"
          },
          "showarrow": false,
          "text": "7",
          "x": 2.55,
          "xanchor": "left",
          "xref": "x1",
          "y": 43,
          "yref": "y1"
         },
         {
          "align": "left",
          "font": {
           "color": "#000000"
          },
          "showarrow": false,
          "text": "Technical/Developer Evangelism",
          "x": -0.45,
          "xanchor": "left",
          "xref": "x1",
          "y": 44,
          "yref": "y1"
         },
         {
          "align": "left",
          "font": {
           "color": "#000000"
          },
          "showarrow": false,
          "text": "Community",
          "x": 0.55,
          "xanchor": "left",
          "xref": "x1",
          "y": 44,
          "yref": "y1"
         },
         {
          "align": "left",
          "font": {
           "color": "#000000"
          },
          "showarrow": false,
          "text": "16",
          "x": 1.55,
          "xanchor": "left",
          "xref": "x1",
          "y": 44,
          "yref": "y1"
         },
         {
          "align": "left",
          "font": {
           "color": "#000000"
          },
          "showarrow": false,
          "text": "6",
          "x": 2.55,
          "xanchor": "left",
          "xref": "x1",
          "y": 44,
          "yref": "y1"
         },
         {
          "align": "left",
          "font": {
           "color": "#000000"
          },
          "showarrow": false,
          "text": "Technical/Developer Evangelism",
          "x": -0.45,
          "xanchor": "left",
          "xref": "x1",
          "y": 45,
          "yref": "y1"
         },
         {
          "align": "left",
          "font": {
           "color": "#000000"
          },
          "showarrow": false,
          "text": "Mozilla Staff",
          "x": 0.55,
          "xanchor": "left",
          "xref": "x1",
          "y": 45,
          "yref": "y1"
         },
         {
          "align": "left",
          "font": {
           "color": "#000000"
          },
          "showarrow": false,
          "text": "14",
          "x": 1.55,
          "xanchor": "left",
          "xref": "x1",
          "y": 45,
          "yref": "y1"
         },
         {
          "align": "left",
          "font": {
           "color": "#000000"
          },
          "showarrow": false,
          "text": "17",
          "x": 2.55,
          "xanchor": "left",
          "xref": "x1",
          "y": 45,
          "yref": "y1"
         },
         {
          "align": "left",
          "font": {
           "color": "#000000"
          },
          "showarrow": false,
          "text": "Vaani",
          "x": -0.45,
          "xanchor": "left",
          "xref": "x1",
          "y": 46,
          "yref": "y1"
         },
         {
          "align": "left",
          "font": {
           "color": "#000000"
          },
          "showarrow": false,
          "text": "Mozilla Staff",
          "x": 0.55,
          "xanchor": "left",
          "xref": "x1",
          "y": 46,
          "yref": "y1"
         },
         {
          "align": "left",
          "font": {
           "color": "#000000"
          },
          "showarrow": false,
          "text": "11",
          "x": 1.55,
          "xanchor": "left",
          "xref": "x1",
          "y": 46,
          "yref": "y1"
         },
         {
          "align": "left",
          "font": {
           "color": "#000000"
          },
          "showarrow": false,
          "text": "8",
          "x": 2.55,
          "xanchor": "left",
          "xref": "x1",
          "y": 46,
          "yref": "y1"
         },
         {
          "align": "left",
          "font": {
           "color": "#000000"
          },
          "showarrow": false,
          "text": "Mozilla Creative & Design",
          "x": -0.45,
          "xanchor": "left",
          "xref": "x1",
          "y": 47,
          "yref": "y1"
         },
         {
          "align": "left",
          "font": {
           "color": "#000000"
          },
          "showarrow": false,
          "text": "Mozilla Staff",
          "x": 0.55,
          "xanchor": "left",
          "xref": "x1",
          "y": 47,
          "yref": "y1"
         },
         {
          "align": "left",
          "font": {
           "color": "#000000"
          },
          "showarrow": false,
          "text": "10",
          "x": 1.55,
          "xanchor": "left",
          "xref": "x1",
          "y": 47,
          "yref": "y1"
         },
         {
          "align": "left",
          "font": {
           "color": "#000000"
          },
          "showarrow": false,
          "text": "3",
          "x": 2.55,
          "xanchor": "left",
          "xref": "x1",
          "y": 47,
          "yref": "y1"
         },
         {
          "align": "left",
          "font": {
           "color": "#000000"
          },
          "showarrow": false,
          "text": "Mozilla Science",
          "x": -0.45,
          "xanchor": "left",
          "xref": "x1",
          "y": 48,
          "yref": "y1"
         },
         {
          "align": "left",
          "font": {
           "color": "#000000"
          },
          "showarrow": false,
          "text": "Mozilla Staff",
          "x": 0.55,
          "xanchor": "left",
          "xref": "x1",
          "y": 48,
          "yref": "y1"
         },
         {
          "align": "left",
          "font": {
           "color": "#000000"
          },
          "showarrow": false,
          "text": "9",
          "x": 1.55,
          "xanchor": "left",
          "xref": "x1",
          "y": 48,
          "yref": "y1"
         },
         {
          "align": "left",
          "font": {
           "color": "#000000"
          },
          "showarrow": false,
          "text": "21",
          "x": 2.55,
          "xanchor": "left",
          "xref": "x1",
          "y": 48,
          "yref": "y1"
         },
         {
          "align": "left",
          "font": {
           "color": "#000000"
          },
          "showarrow": false,
          "text": "Firefox Focus",
          "x": -0.45,
          "xanchor": "left",
          "xref": "x1",
          "y": 49,
          "yref": "y1"
         },
         {
          "align": "left",
          "font": {
           "color": "#000000"
          },
          "showarrow": false,
          "text": "Mozilla Staff",
          "x": 0.55,
          "xanchor": "left",
          "xref": "x1",
          "y": 49,
          "yref": "y1"
         },
         {
          "align": "left",
          "font": {
           "color": "#000000"
          },
          "showarrow": false,
          "text": "9",
          "x": 1.55,
          "xanchor": "left",
          "xref": "x1",
          "y": 49,
          "yref": "y1"
         },
         {
          "align": "left",
          "font": {
           "color": "#000000"
          },
          "showarrow": false,
          "text": "2",
          "x": 2.55,
          "xanchor": "left",
          "xref": "x1",
          "y": 49,
          "yref": "y1"
         },
         {
          "align": "left",
          "font": {
           "color": "#000000"
          },
          "showarrow": false,
          "text": "Deep Speech",
          "x": -0.45,
          "xanchor": "left",
          "xref": "x1",
          "y": 50,
          "yref": "y1"
         },
         {
          "align": "left",
          "font": {
           "color": "#000000"
          },
          "showarrow": false,
          "text": "Community",
          "x": 0.55,
          "xanchor": "left",
          "xref": "x1",
          "y": 50,
          "yref": "y1"
         },
         {
          "align": "left",
          "font": {
           "color": "#000000"
          },
          "showarrow": false,
          "text": "8",
          "x": 1.55,
          "xanchor": "left",
          "xref": "x1",
          "y": 50,
          "yref": "y1"
         },
         {
          "align": "left",
          "font": {
           "color": "#000000"
          },
          "showarrow": false,
          "text": "1",
          "x": 2.55,
          "xanchor": "left",
          "xref": "x1",
          "y": 50,
          "yref": "y1"
         },
         {
          "align": "left",
          "font": {
           "color": "#000000"
          },
          "showarrow": false,
          "text": "Deep Speech",
          "x": -0.45,
          "xanchor": "left",
          "xref": "x1",
          "y": 51,
          "yref": "y1"
         },
         {
          "align": "left",
          "font": {
           "color": "#000000"
          },
          "showarrow": false,
          "text": "Mozilla Staff",
          "x": 0.55,
          "xanchor": "left",
          "xref": "x1",
          "y": 51,
          "yref": "y1"
         },
         {
          "align": "left",
          "font": {
           "color": "#000000"
          },
          "showarrow": false,
          "text": "7",
          "x": 1.55,
          "xanchor": "left",
          "xref": "x1",
          "y": 51,
          "yref": "y1"
         },
         {
          "align": "left",
          "font": {
           "color": "#000000"
          },
          "showarrow": false,
          "text": "1",
          "x": 2.55,
          "xanchor": "left",
          "xref": "x1",
          "y": 51,
          "yref": "y1"
         },
         {
          "align": "left",
          "font": {
           "color": "#000000"
          },
          "showarrow": false,
          "text": "Firefox",
          "x": -0.45,
          "xanchor": "left",
          "xref": "x1",
          "y": 52,
          "yref": "y1"
         },
         {
          "align": "left",
          "font": {
           "color": "#000000"
          },
          "showarrow": false,
          "text": "Community",
          "x": 0.55,
          "xanchor": "left",
          "xref": "x1",
          "y": 52,
          "yref": "y1"
         },
         {
          "align": "left",
          "font": {
           "color": "#000000"
          },
          "showarrow": false,
          "text": "7",
          "x": 1.55,
          "xanchor": "left",
          "xref": "x1",
          "y": 52,
          "yref": "y1"
         },
         {
          "align": "left",
          "font": {
           "color": "#000000"
          },
          "showarrow": false,
          "text": "1",
          "x": 2.55,
          "xanchor": "left",
          "xref": "x1",
          "y": 52,
          "yref": "y1"
         },
         {
          "align": "left",
          "font": {
           "color": "#000000"
          },
          "showarrow": false,
          "text": "Firefox Focus",
          "x": -0.45,
          "xanchor": "left",
          "xref": "x1",
          "y": 53,
          "yref": "y1"
         },
         {
          "align": "left",
          "font": {
           "color": "#000000"
          },
          "showarrow": false,
          "text": "Community",
          "x": 0.55,
          "xanchor": "left",
          "xref": "x1",
          "y": 53,
          "yref": "y1"
         },
         {
          "align": "left",
          "font": {
           "color": "#000000"
          },
          "showarrow": false,
          "text": "7",
          "x": 1.55,
          "xanchor": "left",
          "xref": "x1",
          "y": 53,
          "yref": "y1"
         },
         {
          "align": "left",
          "font": {
           "color": "#000000"
          },
          "showarrow": false,
          "text": "2",
          "x": 2.55,
          "xanchor": "left",
          "xref": "x1",
          "y": 53,
          "yref": "y1"
         },
         {
          "align": "left",
          "font": {
           "color": "#000000"
          },
          "showarrow": false,
          "text": "Mozilla Clubs",
          "x": -0.45,
          "xanchor": "left",
          "xref": "x1",
          "y": 54,
          "yref": "y1"
         },
         {
          "align": "left",
          "font": {
           "color": "#000000"
          },
          "showarrow": false,
          "text": "Mozilla Staff",
          "x": 0.55,
          "xanchor": "left",
          "xref": "x1",
          "y": 54,
          "yref": "y1"
         },
         {
          "align": "left",
          "font": {
           "color": "#000000"
          },
          "showarrow": false,
          "text": "6",
          "x": 1.55,
          "xanchor": "left",
          "xref": "x1",
          "y": 54,
          "yref": "y1"
         },
         {
          "align": "left",
          "font": {
           "color": "#000000"
          },
          "showarrow": false,
          "text": "8",
          "x": 2.55,
          "xanchor": "left",
          "xref": "x1",
          "y": 54,
          "yref": "y1"
         },
         {
          "align": "left",
          "font": {
           "color": "#000000"
          },
          "showarrow": false,
          "text": "Developer Tools",
          "x": -0.45,
          "xanchor": "left",
          "xref": "x1",
          "y": 55,
          "yref": "y1"
         },
         {
          "align": "left",
          "font": {
           "color": "#000000"
          },
          "showarrow": false,
          "text": "Mozilla Staff",
          "x": 0.55,
          "xanchor": "left",
          "xref": "x1",
          "y": 55,
          "yref": "y1"
         },
         {
          "align": "left",
          "font": {
           "color": "#000000"
          },
          "showarrow": false,
          "text": "6",
          "x": 1.55,
          "xanchor": "left",
          "xref": "x1",
          "y": 55,
          "yref": "y1"
         },
         {
          "align": "left",
          "font": {
           "color": "#000000"
          },
          "showarrow": false,
          "text": "4",
          "x": 2.55,
          "xanchor": "left",
          "xref": "x1",
          "y": 55,
          "yref": "y1"
         },
         {
          "align": "left",
          "font": {
           "color": "#000000"
          },
          "showarrow": false,
          "text": "Connected devices & IoT",
          "x": -0.45,
          "xanchor": "left",
          "xref": "x1",
          "y": 56,
          "yref": "y1"
         },
         {
          "align": "left",
          "font": {
           "color": "#000000"
          },
          "showarrow": false,
          "text": "Community",
          "x": 0.55,
          "xanchor": "left",
          "xref": "x1",
          "y": 56,
          "yref": "y1"
         },
         {
          "align": "left",
          "font": {
           "color": "#000000"
          },
          "showarrow": false,
          "text": "6",
          "x": 1.55,
          "xanchor": "left",
          "xref": "x1",
          "y": 56,
          "yref": "y1"
         },
         {
          "align": "left",
          "font": {
           "color": "#000000"
          },
          "showarrow": false,
          "text": "1",
          "x": 2.55,
          "xanchor": "left",
          "xref": "x1",
          "y": 56,
          "yref": "y1"
         },
         {
          "align": "left",
          "font": {
           "color": "#000000"
          },
          "showarrow": false,
          "text": "Campus Clubs (previously Student Ambassadors)",
          "x": -0.45,
          "xanchor": "left",
          "xref": "x1",
          "y": 57,
          "yref": "y1"
         },
         {
          "align": "left",
          "font": {
           "color": "#000000"
          },
          "showarrow": false,
          "text": "Mozilla Staff",
          "x": 0.55,
          "xanchor": "left",
          "xref": "x1",
          "y": 57,
          "yref": "y1"
         },
         {
          "align": "left",
          "font": {
           "color": "#000000"
          },
          "showarrow": false,
          "text": "5",
          "x": 1.55,
          "xanchor": "left",
          "xref": "x1",
          "y": 57,
          "yref": "y1"
         },
         {
          "align": "left",
          "font": {
           "color": "#000000"
          },
          "showarrow": false,
          "text": "5",
          "x": 2.55,
          "xanchor": "left",
          "xref": "x1",
          "y": 57,
          "yref": "y1"
         },
         {
          "align": "left",
          "font": {
           "color": "#000000"
          },
          "showarrow": false,
          "text": "Mozilla Clubs",
          "x": -0.45,
          "xanchor": "left",
          "xref": "x1",
          "y": 58,
          "yref": "y1"
         },
         {
          "align": "left",
          "font": {
           "color": "#000000"
          },
          "showarrow": false,
          "text": "Community",
          "x": 0.55,
          "xanchor": "left",
          "xref": "x1",
          "y": 58,
          "yref": "y1"
         },
         {
          "align": "left",
          "font": {
           "color": "#000000"
          },
          "showarrow": false,
          "text": "3",
          "x": 1.55,
          "xanchor": "left",
          "xref": "x1",
          "y": 58,
          "yref": "y1"
         },
         {
          "align": "left",
          "font": {
           "color": "#000000"
          },
          "showarrow": false,
          "text": "4",
          "x": 2.55,
          "xanchor": "left",
          "xref": "x1",
          "y": 58,
          "yref": "y1"
         },
         {
          "align": "left",
          "font": {
           "color": "#000000"
          },
          "showarrow": false,
          "text": "Connected devices & IoT",
          "x": -0.45,
          "xanchor": "left",
          "xref": "x1",
          "y": 59,
          "yref": "y1"
         },
         {
          "align": "left",
          "font": {
           "color": "#000000"
          },
          "showarrow": false,
          "text": "Mozilla Staff",
          "x": 0.55,
          "xanchor": "left",
          "xref": "x1",
          "y": 59,
          "yref": "y1"
         },
         {
          "align": "left",
          "font": {
           "color": "#000000"
          },
          "showarrow": false,
          "text": "3",
          "x": 1.55,
          "xanchor": "left",
          "xref": "x1",
          "y": 59,
          "yref": "y1"
         },
         {
          "align": "left",
          "font": {
           "color": "#000000"
          },
          "showarrow": false,
          "text": "1",
          "x": 2.55,
          "xanchor": "left",
          "xref": "x1",
          "y": 59,
          "yref": "y1"
         },
         {
          "align": "left",
          "font": {
           "color": "#000000"
          },
          "showarrow": false,
          "text": "Firefox Android",
          "x": -0.45,
          "xanchor": "left",
          "xref": "x1",
          "y": 60,
          "yref": "y1"
         },
         {
          "align": "left",
          "font": {
           "color": "#000000"
          },
          "showarrow": false,
          "text": "Mozilla Staff",
          "x": 0.55,
          "xanchor": "left",
          "xref": "x1",
          "y": 60,
          "yref": "y1"
         },
         {
          "align": "left",
          "font": {
           "color": "#000000"
          },
          "showarrow": false,
          "text": "3",
          "x": 1.55,
          "xanchor": "left",
          "xref": "x1",
          "y": 60,
          "yref": "y1"
         },
         {
          "align": "left",
          "font": {
           "color": "#000000"
          },
          "showarrow": false,
          "text": "2",
          "x": 2.55,
          "xanchor": "left",
          "xref": "x1",
          "y": 60,
          "yref": "y1"
         },
         {
          "align": "left",
          "font": {
           "color": "#000000"
          },
          "showarrow": false,
          "text": "Developer Tools",
          "x": -0.45,
          "xanchor": "left",
          "xref": "x1",
          "y": 61,
          "yref": "y1"
         },
         {
          "align": "left",
          "font": {
           "color": "#000000"
          },
          "showarrow": false,
          "text": "Community",
          "x": 0.55,
          "xanchor": "left",
          "xref": "x1",
          "y": 61,
          "yref": "y1"
         },
         {
          "align": "left",
          "font": {
           "color": "#000000"
          },
          "showarrow": false,
          "text": "3",
          "x": 1.55,
          "xanchor": "left",
          "xref": "x1",
          "y": 61,
          "yref": "y1"
         },
         {
          "align": "left",
          "font": {
           "color": "#000000"
          },
          "showarrow": false,
          "text": "2",
          "x": 2.55,
          "xanchor": "left",
          "xref": "x1",
          "y": 61,
          "yref": "y1"
         },
         {
          "align": "left",
          "font": {
           "color": "#000000"
          },
          "showarrow": false,
          "text": "Web Properties",
          "x": -0.45,
          "xanchor": "left",
          "xref": "x1",
          "y": 62,
          "yref": "y1"
         },
         {
          "align": "left",
          "font": {
           "color": "#000000"
          },
          "showarrow": false,
          "text": "Mozilla Reps",
          "x": 0.55,
          "xanchor": "left",
          "xref": "x1",
          "y": 62,
          "yref": "y1"
         },
         {
          "align": "left",
          "font": {
           "color": "#000000"
          },
          "showarrow": false,
          "text": "2",
          "x": 1.55,
          "xanchor": "left",
          "xref": "x1",
          "y": 62,
          "yref": "y1"
         },
         {
          "align": "left",
          "font": {
           "color": "#000000"
          },
          "showarrow": false,
          "text": "4",
          "x": 2.55,
          "xanchor": "left",
          "xref": "x1",
          "y": 62,
          "yref": "y1"
         },
         {
          "align": "left",
          "font": {
           "color": "#000000"
          },
          "showarrow": false,
          "text": "Servo",
          "x": -0.45,
          "xanchor": "left",
          "xref": "x1",
          "y": 63,
          "yref": "y1"
         },
         {
          "align": "left",
          "font": {
           "color": "#000000"
          },
          "showarrow": false,
          "text": "Mozilla Reps",
          "x": 0.55,
          "xanchor": "left",
          "xref": "x1",
          "y": 63,
          "yref": "y1"
         },
         {
          "align": "left",
          "font": {
           "color": "#000000"
          },
          "showarrow": false,
          "text": "2",
          "x": 1.55,
          "xanchor": "left",
          "xref": "x1",
          "y": 63,
          "yref": "y1"
         },
         {
          "align": "left",
          "font": {
           "color": "#000000"
          },
          "showarrow": false,
          "text": "2",
          "x": 2.55,
          "xanchor": "left",
          "xref": "x1",
          "y": 63,
          "yref": "y1"
         },
         {
          "align": "left",
          "font": {
           "color": "#000000"
          },
          "showarrow": false,
          "text": "Mozilla Local/Regional communities",
          "x": -0.45,
          "xanchor": "left",
          "xref": "x1",
          "y": 64,
          "yref": "y1"
         },
         {
          "align": "left",
          "font": {
           "color": "#000000"
          },
          "showarrow": false,
          "text": "Mozilla Reps",
          "x": 0.55,
          "xanchor": "left",
          "xref": "x1",
          "y": 64,
          "yref": "y1"
         },
         {
          "align": "left",
          "font": {
           "color": "#000000"
          },
          "showarrow": false,
          "text": "2",
          "x": 1.55,
          "xanchor": "left",
          "xref": "x1",
          "y": 64,
          "yref": "y1"
         },
         {
          "align": "left",
          "font": {
           "color": "#000000"
          },
          "showarrow": false,
          "text": "15",
          "x": 2.55,
          "xanchor": "left",
          "xref": "x1",
          "y": 64,
          "yref": "y1"
         },
         {
          "align": "left",
          "font": {
           "color": "#000000"
          },
          "showarrow": false,
          "text": "Web Literacy",
          "x": -0.45,
          "xanchor": "left",
          "xref": "x1",
          "y": 65,
          "yref": "y1"
         },
         {
          "align": "left",
          "font": {
           "color": "#000000"
          },
          "showarrow": false,
          "text": "Mozilla Reps",
          "x": 0.55,
          "xanchor": "left",
          "xref": "x1",
          "y": 65,
          "yref": "y1"
         },
         {
          "align": "left",
          "font": {
           "color": "#000000"
          },
          "showarrow": false,
          "text": "1",
          "x": 1.55,
          "xanchor": "left",
          "xref": "x1",
          "y": 65,
          "yref": "y1"
         },
         {
          "align": "left",
          "font": {
           "color": "#000000"
          },
          "showarrow": false,
          "text": "2",
          "x": 2.55,
          "xanchor": "left",
          "xref": "x1",
          "y": 65,
          "yref": "y1"
         },
         {
          "align": "left",
          "font": {
           "color": "#000000"
          },
          "showarrow": false,
          "text": "Vaani",
          "x": -0.45,
          "xanchor": "left",
          "xref": "x1",
          "y": 66,
          "yref": "y1"
         },
         {
          "align": "left",
          "font": {
           "color": "#000000"
          },
          "showarrow": false,
          "text": "Community",
          "x": 0.55,
          "xanchor": "left",
          "xref": "x1",
          "y": 66,
          "yref": "y1"
         },
         {
          "align": "left",
          "font": {
           "color": "#000000"
          },
          "showarrow": false,
          "text": "1",
          "x": 1.55,
          "xanchor": "left",
          "xref": "x1",
          "y": 66,
          "yref": "y1"
         },
         {
          "align": "left",
          "font": {
           "color": "#000000"
          },
          "showarrow": false,
          "text": "1",
          "x": 2.55,
          "xanchor": "left",
          "xref": "x1",
          "y": 66,
          "yref": "y1"
         },
         {
          "align": "left",
          "font": {
           "color": "#000000"
          },
          "showarrow": false,
          "text": "Campus Clubs (previously Student Ambassadors)",
          "x": -0.45,
          "xanchor": "left",
          "xref": "x1",
          "y": 67,
          "yref": "y1"
         },
         {
          "align": "left",
          "font": {
           "color": "#000000"
          },
          "showarrow": false,
          "text": "Community",
          "x": 0.55,
          "xanchor": "left",
          "xref": "x1",
          "y": 67,
          "yref": "y1"
         },
         {
          "align": "left",
          "font": {
           "color": "#000000"
          },
          "showarrow": false,
          "text": "1",
          "x": 1.55,
          "xanchor": "left",
          "xref": "x1",
          "y": 67,
          "yref": "y1"
         },
         {
          "align": "left",
          "font": {
           "color": "#000000"
          },
          "showarrow": false,
          "text": "1",
          "x": 2.55,
          "xanchor": "left",
          "xref": "x1",
          "y": 67,
          "yref": "y1"
         },
         {
          "align": "left",
          "font": {
           "color": "#000000"
          },
          "showarrow": false,
          "text": "Firefox Android",
          "x": -0.45,
          "xanchor": "left",
          "xref": "x1",
          "y": 68,
          "yref": "y1"
         },
         {
          "align": "left",
          "font": {
           "color": "#000000"
          },
          "showarrow": false,
          "text": "Community",
          "x": 0.55,
          "xanchor": "left",
          "xref": "x1",
          "y": 68,
          "yref": "y1"
         },
         {
          "align": "left",
          "font": {
           "color": "#000000"
          },
          "showarrow": false,
          "text": "1",
          "x": 1.55,
          "xanchor": "left",
          "xref": "x1",
          "y": 68,
          "yref": "y1"
         },
         {
          "align": "left",
          "font": {
           "color": "#000000"
          },
          "showarrow": false,
          "text": "1",
          "x": 2.55,
          "xanchor": "left",
          "xref": "x1",
          "y": 68,
          "yref": "y1"
         },
         {
          "align": "left",
          "font": {
           "color": "#000000"
          },
          "showarrow": false,
          "text": "Gecko",
          "x": -0.45,
          "xanchor": "left",
          "xref": "x1",
          "y": 69,
          "yref": "y1"
         },
         {
          "align": "left",
          "font": {
           "color": "#000000"
          },
          "showarrow": false,
          "text": "Mozilla Reps",
          "x": 0.55,
          "xanchor": "left",
          "xref": "x1",
          "y": 69,
          "yref": "y1"
         },
         {
          "align": "left",
          "font": {
           "color": "#000000"
          },
          "showarrow": false,
          "text": "1",
          "x": 1.55,
          "xanchor": "left",
          "xref": "x1",
          "y": 69,
          "yref": "y1"
         },
         {
          "align": "left",
          "font": {
           "color": "#000000"
          },
          "showarrow": false,
          "text": "3",
          "x": 2.55,
          "xanchor": "left",
          "xref": "x1",
          "y": 69,
          "yref": "y1"
         },
         {
          "align": "left",
          "font": {
           "color": "#000000"
          },
          "showarrow": false,
          "text": "Mozilla Developer Network (MDN)",
          "x": -0.45,
          "xanchor": "left",
          "xref": "x1",
          "y": 70,
          "yref": "y1"
         },
         {
          "align": "left",
          "font": {
           "color": "#000000"
          },
          "showarrow": false,
          "text": "Mozilla Reps",
          "x": 0.55,
          "xanchor": "left",
          "xref": "x1",
          "y": 70,
          "yref": "y1"
         },
         {
          "align": "left",
          "font": {
           "color": "#000000"
          },
          "showarrow": false,
          "text": "1",
          "x": 1.55,
          "xanchor": "left",
          "xref": "x1",
          "y": 70,
          "yref": "y1"
         },
         {
          "align": "left",
          "font": {
           "color": "#000000"
          },
          "showarrow": false,
          "text": "1",
          "x": 2.55,
          "xanchor": "left",
          "xref": "x1",
          "y": 70,
          "yref": "y1"
         }
        ],
        "height": 2180,
        "margin": {
         "b": 0,
         "l": 0,
         "r": 0,
         "t": 0
        },
        "xaxis": {
         "dtick": 1,
         "gridwidth": 2,
         "showticklabels": false,
         "tick0": -0.5,
         "ticks": "",
         "zeroline": false
        },
        "yaxis": {
         "autorange": "reversed",
         "dtick": 1,
         "gridwidth": 2,
         "showticklabels": false,
         "tick0": 0.5,
         "ticks": "",
         "zeroline": false
        }
       }
      },
      "text/html": [
       "<div id=\"aecf540f-02ab-48fa-b12f-524a1ad317a8\" style=\"height: 2180px; width: 100%;\" class=\"plotly-graph-div\"></div><script type=\"text/javascript\">require([\"plotly\"], function(Plotly) { window.PLOTLYENV=window.PLOTLYENV || {};window.PLOTLYENV.BASE_URL=\"https://plot.ly\";Plotly.newPlot(\"aecf540f-02ab-48fa-b12f-524a1ad317a8\", [{\"hoverinfo\": \"none\", \"colorscale\": [[0, \"#00083e\"], [0.5, \"#ededee\"], [1, \"#ffffff\"]], \"z\": [[0, 0, 0, 0], [0.5, 0.5, 0.5, 0.5], [1, 1, 1, 1], [0.5, 0.5, 0.5, 0.5], [1, 1, 1, 1], [0.5, 0.5, 0.5, 0.5], [1, 1, 1, 1], [0.5, 0.5, 0.5, 0.5], [1, 1, 1, 1], [0.5, 0.5, 0.5, 0.5], [1, 1, 1, 1], [0.5, 0.5, 0.5, 0.5], [1, 1, 1, 1], [0.5, 0.5, 0.5, 0.5], [1, 1, 1, 1], [0.5, 0.5, 0.5, 0.5], [1, 1, 1, 1], [0.5, 0.5, 0.5, 0.5], [1, 1, 1, 1], [0.5, 0.5, 0.5, 0.5], [1, 1, 1, 1], [0.5, 0.5, 0.5, 0.5], [1, 1, 1, 1], [0.5, 0.5, 0.5, 0.5], [1, 1, 1, 1], [0.5, 0.5, 0.5, 0.5], [1, 1, 1, 1], [0.5, 0.5, 0.5, 0.5], [1, 1, 1, 1], [0.5, 0.5, 0.5, 0.5], [1, 1, 1, 1], [0.5, 0.5, 0.5, 0.5], [1, 1, 1, 1], [0.5, 0.5, 0.5, 0.5], [1, 1, 1, 1], [0.5, 0.5, 0.5, 0.5], [1, 1, 1, 1], [0.5, 0.5, 0.5, 0.5], [1, 1, 1, 1], [0.5, 0.5, 0.5, 0.5], [1, 1, 1, 1], [0.5, 0.5, 0.5, 0.5], [1, 1, 1, 1], [0.5, 0.5, 0.5, 0.5], [1, 1, 1, 1], [0.5, 0.5, 0.5, 0.5], [1, 1, 1, 1], [0.5, 0.5, 0.5, 0.5], [1, 1, 1, 1], [0.5, 0.5, 0.5, 0.5], [1, 1, 1, 1], [0.5, 0.5, 0.5, 0.5], [1, 1, 1, 1], [0.5, 0.5, 0.5, 0.5], [1, 1, 1, 1], [0.5, 0.5, 0.5, 0.5], [1, 1, 1, 1], [0.5, 0.5, 0.5, 0.5], [1, 1, 1, 1], [0.5, 0.5, 0.5, 0.5], [1, 1, 1, 1], [0.5, 0.5, 0.5, 0.5], [1, 1, 1, 1], [0.5, 0.5, 0.5, 0.5], [1, 1, 1, 1], [0.5, 0.5, 0.5, 0.5], [1, 1, 1, 1], [0.5, 0.5, 0.5, 0.5], [1, 1, 1, 1], [0.5, 0.5, 0.5, 0.5], [1, 1, 1, 1]], \"showscale\": false, \"opacity\": 0.75, \"type\": \"heatmap\"}], {\"height\": 2180, \"yaxis\": {\"gridwidth\": 2, \"dtick\": 1, \"ticks\": \"\", \"tick0\": 0.5, \"showticklabels\": false, \"zeroline\": false, \"autorange\": \"reversed\"}, \"xaxis\": {\"gridwidth\": 2, \"dtick\": 1, \"ticks\": \"\", \"tick0\": -0.5, \"showticklabels\": false, \"zeroline\": false}, \"margin\": {\"r\": 0, \"b\": 0, \"l\": 0, \"t\": 0}, \"annotations\": [{\"font\": {\"color\": \"#ffffff\"}, \"y\": 0, \"text\": \"<b>Project</b>\", \"x\": -0.45, \"xref\": \"x1\", \"align\": \"left\", \"yref\": \"y1\", \"showarrow\": false, \"xanchor\": \"left\"}, {\"font\": {\"color\": \"#ffffff\"}, \"y\": 0, \"text\": \"<b>Org</b>\", \"x\": 0.55, \"xref\": \"x1\", \"align\": \"left\", \"yref\": \"y1\", \"showarrow\": false, \"xanchor\": \"left\"}, {\"font\": {\"color\": \"#ffffff\"}, \"y\": 0, \"text\": \"<b>uuid</b>\", \"x\": 1.55, \"xref\": \"x1\", \"align\": \"left\", \"yref\": \"y1\", \"showarrow\": false, \"xanchor\": \"left\"}, {\"font\": {\"color\": \"#ffffff\"}, \"y\": 0, \"text\": \"<b>Repo</b>\", \"x\": 2.55, \"xref\": \"x1\", \"align\": \"left\", \"yref\": \"y1\", \"showarrow\": false, \"xanchor\": \"left\"}, {\"font\": {\"color\": \"#000000\"}, \"y\": 1, \"text\": \"Gecko\", \"x\": -0.45, \"xref\": \"x1\", \"align\": \"left\", \"yref\": \"y1\", \"showarrow\": false, \"xanchor\": \"left\"}, {\"font\": {\"color\": \"#000000\"}, \"y\": 1, \"text\": \"Community\", \"x\": 0.55, \"xref\": \"x1\", \"align\": \"left\", \"yref\": \"y1\", \"showarrow\": false, \"xanchor\": \"left\"}, {\"font\": {\"color\": \"#000000\"}, \"y\": 1, \"text\": \"3975\", \"x\": 1.55, \"xref\": \"x1\", \"align\": \"left\", \"yref\": \"y1\", \"showarrow\": false, \"xanchor\": \"left\"}, {\"font\": {\"color\": \"#000000\"}, \"y\": 1, \"text\": \"5\", \"x\": 2.55, \"xref\": \"x1\", \"align\": \"left\", \"yref\": \"y1\", \"showarrow\": false, \"xanchor\": \"left\"}, {\"font\": {\"color\": \"#000000\"}, \"y\": 2, \"text\": \"Rust\", \"x\": -0.45, \"xref\": \"x1\", \"align\": \"left\", \"yref\": \"y1\", \"showarrow\": false, \"xanchor\": \"left\"}, {\"font\": {\"color\": \"#000000\"}, \"y\": 2, \"text\": \"Community\", \"x\": 0.55, \"xref\": \"x1\", \"align\": \"left\", \"yref\": \"y1\", \"showarrow\": false, \"xanchor\": \"left\"}, {\"font\": {\"color\": \"#000000\"}, \"y\": 2, \"text\": \"2288\", \"x\": 1.55, \"xref\": \"x1\", \"align\": \"left\", \"yref\": \"y1\", \"showarrow\": false, \"xanchor\": \"left\"}, {\"font\": {\"color\": \"#000000\"}, \"y\": 2, \"text\": \"25\", \"x\": 2.55, \"xref\": \"x1\", \"align\": \"left\", \"yref\": \"y1\", \"showarrow\": false, \"xanchor\": \"left\"}, {\"font\": {\"color\": \"#000000\"}, \"y\": 3, \"text\": \"IT/Ops\", \"x\": -0.45, \"xref\": \"x1\", \"align\": \"left\", \"yref\": \"y1\", \"showarrow\": false, \"xanchor\": \"left\"}, {\"font\": {\"color\": \"#000000\"}, \"y\": 3, \"text\": \"Community\", \"x\": 0.55, \"xref\": \"x1\", \"align\": \"left\", \"yref\": \"y1\", \"showarrow\": false, \"xanchor\": \"left\"}, {\"font\": {\"color\": \"#000000\"}, \"y\": 3, \"text\": \"1472\", \"x\": 1.55, \"xref\": \"x1\", \"align\": \"left\", \"yref\": \"y1\", \"showarrow\": false, \"xanchor\": \"left\"}, {\"font\": {\"color\": \"#000000\"}, \"y\": 3, \"text\": \"75\", \"x\": 2.55, \"xref\": \"x1\", \"align\": \"left\", \"yref\": \"y1\", \"showarrow\": false, \"xanchor\": \"left\"}, {\"font\": {\"color\": \"#000000\"}, \"y\": 4, \"text\": \"Gecko\", \"x\": -0.45, \"xref\": \"x1\", \"align\": \"left\", \"yref\": \"y1\", \"showarrow\": false, \"xanchor\": \"left\"}, {\"font\": {\"color\": \"#000000\"}, \"y\": 4, \"text\": \"Mozilla Staff\", \"x\": 0.55, \"xref\": \"x1\", \"align\": \"left\", \"yref\": \"y1\", \"showarrow\": false, \"xanchor\": \"left\"}, {\"font\": {\"color\": \"#000000\"}, \"y\": 4, \"text\": \"1382\", \"x\": 1.55, \"xref\": \"x1\", \"align\": \"left\", \"yref\": \"y1\", \"showarrow\": false, \"xanchor\": \"left\"}, {\"font\": {\"color\": \"#000000\"}, \"y\": 4, \"text\": \"5\", \"x\": 2.55, \"xref\": \"x1\", \"align\": \"left\", \"yref\": \"y1\", \"showarrow\": false, \"xanchor\": \"left\"}, {\"font\": {\"color\": \"#000000\"}, \"y\": 5, \"text\": \"Servo\", \"x\": -0.45, \"xref\": \"x1\", \"align\": \"left\", \"yref\": \"y1\", \"showarrow\": false, \"xanchor\": \"left\"}, {\"font\": {\"color\": \"#000000\"}, \"y\": 5, \"text\": \"Community\", \"x\": 0.55, \"xref\": \"x1\", \"align\": \"left\", \"yref\": \"y1\", \"showarrow\": false, \"xanchor\": \"left\"}, {\"font\": {\"color\": \"#000000\"}, \"y\": 5, \"text\": \"1229\", \"x\": 1.55, \"xref\": \"x1\", \"align\": \"left\", \"yref\": \"y1\", \"showarrow\": false, \"xanchor\": \"left\"}, {\"font\": {\"color\": \"#000000\"}, \"y\": 5, \"text\": \"73\", \"x\": 2.55, \"xref\": \"x1\", \"align\": \"left\", \"yref\": \"y1\", \"showarrow\": false, \"xanchor\": \"left\"}, {\"font\": {\"color\": \"#000000\"}, \"y\": 6, \"text\": \"Web Properties\", \"x\": -0.45, \"xref\": \"x1\", \"align\": \"left\", \"yref\": \"y1\", \"showarrow\": false, \"xanchor\": \"left\"}, {\"font\": {\"color\": \"#000000\"}, \"y\": 6, \"text\": \"Community\", \"x\": 0.55, \"xref\": \"x1\", \"align\": \"left\", \"yref\": \"y1\", \"showarrow\": false, \"xanchor\": \"left\"}, {\"font\": {\"color\": \"#000000\"}, \"y\": 6, \"text\": \"932\", \"x\": 1.55, \"xref\": \"x1\", \"align\": \"left\", \"yref\": \"y1\", \"showarrow\": false, \"xanchor\": \"left\"}, {\"font\": {\"color\": \"#000000\"}, \"y\": 6, \"text\": \"91\", \"x\": 2.55, \"xref\": \"x1\", \"align\": \"left\", \"yref\": \"y1\", \"showarrow\": false, \"xanchor\": \"left\"}, {\"font\": {\"color\": \"#000000\"}, \"y\": 7, \"text\": \"IT/Ops\", \"x\": -0.45, \"xref\": \"x1\", \"align\": \"left\", \"yref\": \"y1\", \"showarrow\": false, \"xanchor\": \"left\"}, {\"font\": {\"color\": \"#000000\"}, \"y\": 7, \"text\": \"Mozilla Staff\", \"x\": 0.55, \"xref\": \"x1\", \"align\": \"left\", \"yref\": \"y1\", \"showarrow\": false, \"xanchor\": \"left\"}, {\"font\": {\"color\": \"#000000\"}, \"y\": 7, \"text\": \"794\", \"x\": 1.55, \"xref\": \"x1\", \"align\": \"left\", \"yref\": \"y1\", \"showarrow\": false, \"xanchor\": \"left\"}, {\"font\": {\"color\": \"#000000\"}, \"y\": 7, \"text\": \"182\", \"x\": 2.55, \"xref\": \"x1\", \"align\": \"left\", \"yref\": \"y1\", \"showarrow\": false, \"xanchor\": \"left\"}, {\"font\": {\"color\": \"#000000\"}, \"y\": 8, \"text\": \"Web Properties\", \"x\": -0.45, \"xref\": \"x1\", \"align\": \"left\", \"yref\": \"y1\", \"showarrow\": false, \"xanchor\": \"left\"}, {\"font\": {\"color\": \"#000000\"}, \"y\": 8, \"text\": \"Mozilla Staff\", \"x\": 0.55, \"xref\": \"x1\", \"align\": \"left\", \"yref\": \"y1\", \"showarrow\": false, \"xanchor\": \"left\"}, {\"font\": {\"color\": \"#000000\"}, \"y\": 8, \"text\": \"401\", \"x\": 1.55, \"xref\": \"x1\", \"align\": \"left\", \"yref\": \"y1\", \"showarrow\": false, \"xanchor\": \"left\"}, {\"font\": {\"color\": \"#000000\"}, \"y\": 8, \"text\": \"113\", \"x\": 2.55, \"xref\": \"x1\", \"align\": \"left\", \"yref\": \"y1\", \"showarrow\": false, \"xanchor\": \"left\"}, {\"font\": {\"color\": \"#000000\"}, \"y\": 9, \"text\": \"Mozilla Local/Regional communities\", \"x\": -0.45, \"xref\": \"x1\", \"align\": \"left\", \"yref\": \"y1\", \"showarrow\": false, \"xanchor\": \"left\"}, {\"font\": {\"color\": \"#000000\"}, \"y\": 9, \"text\": \"Community\", \"x\": 0.55, \"xref\": \"x1\", \"align\": \"left\", \"yref\": \"y1\", \"showarrow\": false, \"xanchor\": \"left\"}, {\"font\": {\"color\": \"#000000\"}, \"y\": 9, \"text\": \"391\", \"x\": 1.55, \"xref\": \"x1\", \"align\": \"left\", \"yref\": \"y1\", \"showarrow\": false, \"xanchor\": \"left\"}, {\"font\": {\"color\": \"#000000\"}, \"y\": 9, \"text\": \"143\", \"x\": 2.55, \"xref\": \"x1\", \"align\": \"left\", \"yref\": \"y1\", \"showarrow\": false, \"xanchor\": \"left\"}, {\"font\": {\"color\": \"#000000\"}, \"y\": 10, \"text\": \"Addons/Web Extensions\", \"x\": -0.45, \"xref\": \"x1\", \"align\": \"left\", \"yref\": \"y1\", \"showarrow\": false, \"xanchor\": \"left\"}, {\"font\": {\"color\": \"#000000\"}, \"y\": 10, \"text\": \"Community\", \"x\": 0.55, \"xref\": \"x1\", \"align\": \"left\", \"yref\": \"y1\", \"showarrow\": false, \"xanchor\": \"left\"}, {\"font\": {\"color\": \"#000000\"}, \"y\": 10, \"text\": \"360\", \"x\": 1.55, \"xref\": \"x1\", \"align\": \"left\", \"yref\": \"y1\", \"showarrow\": false, \"xanchor\": \"left\"}, {\"font\": {\"color\": \"#000000\"}, \"y\": 10, \"text\": \"11\", \"x\": 2.55, \"xref\": \"x1\", \"align\": \"left\", \"yref\": \"y1\", \"showarrow\": false, \"xanchor\": \"left\"}, {\"font\": {\"color\": \"#000000\"}, \"y\": 11, \"text\": \"Addons/Web Extensions\", \"x\": -0.45, \"xref\": \"x1\", \"align\": \"left\", \"yref\": \"y1\", \"showarrow\": false, \"xanchor\": \"left\"}, {\"font\": {\"color\": \"#000000\"}, \"y\": 11, \"text\": \"Mozilla Staff\", \"x\": 0.55, \"xref\": \"x1\", \"align\": \"left\", \"yref\": \"y1\", \"showarrow\": false, \"xanchor\": \"left\"}, {\"font\": {\"color\": \"#000000\"}, \"y\": 11, \"text\": \"293\", \"x\": 1.55, \"xref\": \"x1\", \"align\": \"left\", \"yref\": \"y1\", \"showarrow\": false, \"xanchor\": \"left\"}, {\"font\": {\"color\": \"#000000\"}, \"y\": 11, \"text\": \"19\", \"x\": 2.55, \"xref\": \"x1\", \"align\": \"left\", \"yref\": \"y1\", \"showarrow\": false, \"xanchor\": \"left\"}, {\"font\": {\"color\": \"#000000\"}, \"y\": 12, \"text\": \"Release engineering\", \"x\": -0.45, \"xref\": \"x1\", \"align\": \"left\", \"yref\": \"y1\", \"showarrow\": false, \"xanchor\": \"left\"}, {\"font\": {\"color\": \"#000000\"}, \"y\": 12, \"text\": \"Mozilla Staff\", \"x\": 0.55, \"xref\": \"x1\", \"align\": \"left\", \"yref\": \"y1\", \"showarrow\": false, \"xanchor\": \"left\"}, {\"font\": {\"color\": \"#000000\"}, \"y\": 12, \"text\": \"221\", \"x\": 1.55, \"xref\": \"x1\", \"align\": \"left\", \"yref\": \"y1\", \"showarrow\": false, \"xanchor\": \"left\"}, {\"font\": {\"color\": \"#000000\"}, \"y\": 12, \"text\": \"22\", \"x\": 2.55, \"xref\": \"x1\", \"align\": \"left\", \"yref\": \"y1\", \"showarrow\": false, \"xanchor\": \"left\"}, {\"font\": {\"color\": \"#000000\"}, \"y\": 13, \"text\": \"WebVR\", \"x\": -0.45, \"xref\": \"x1\", \"align\": \"left\", \"yref\": \"y1\", \"showarrow\": false, \"xanchor\": \"left\"}, {\"font\": {\"color\": \"#000000\"}, \"y\": 13, \"text\": \"Community\", \"x\": 0.55, \"xref\": \"x1\", \"align\": \"left\", \"yref\": \"y1\", \"showarrow\": false, \"xanchor\": \"left\"}, {\"font\": {\"color\": \"#000000\"}, \"y\": 13, \"text\": \"208\", \"x\": 1.55, \"xref\": \"x1\", \"align\": \"left\", \"yref\": \"y1\", \"showarrow\": false, \"xanchor\": \"left\"}, {\"font\": {\"color\": \"#000000\"}, \"y\": 13, \"text\": \"19\", \"x\": 2.55, \"xref\": \"x1\", \"align\": \"left\", \"yref\": \"y1\", \"showarrow\": false, \"xanchor\": \"left\"}, {\"font\": {\"color\": \"#000000\"}, \"y\": 14, \"text\": \"Servo\", \"x\": -0.45, \"xref\": \"x1\", \"align\": \"left\", \"yref\": \"y1\", \"showarrow\": false, \"xanchor\": \"left\"}, {\"font\": {\"color\": \"#000000\"}, \"y\": 14, \"text\": \"Mozilla Staff\", \"x\": 0.55, \"xref\": \"x1\", \"align\": \"left\", \"yref\": \"y1\", \"showarrow\": false, \"xanchor\": \"left\"}, {\"font\": {\"color\": \"#000000\"}, \"y\": 14, \"text\": \"197\", \"x\": 1.55, \"xref\": \"x1\", \"align\": \"left\", \"yref\": \"y1\", \"showarrow\": false, \"xanchor\": \"left\"}, {\"font\": {\"color\": \"#000000\"}, \"y\": 14, \"text\": \"80\", \"x\": 2.55, \"xref\": \"x1\", \"align\": \"left\", \"yref\": \"y1\", \"showarrow\": false, \"xanchor\": \"left\"}, {\"font\": {\"color\": \"#000000\"}, \"y\": 15, \"text\": \"Web Literacy\", \"x\": -0.45, \"xref\": \"x1\", \"align\": \"left\", \"yref\": \"y1\", \"showarrow\": false, \"xanchor\": \"left\"}, {\"font\": {\"color\": \"#000000\"}, \"y\": 15, \"text\": \"Community\", \"x\": 0.55, \"xref\": \"x1\", \"align\": \"left\", \"yref\": \"y1\", \"showarrow\": false, \"xanchor\": \"left\"}, {\"font\": {\"color\": \"#000000\"}, \"y\": 15, \"text\": \"156\", \"x\": 1.55, \"xref\": \"x1\", \"align\": \"left\", \"yref\": \"y1\", \"showarrow\": false, \"xanchor\": \"left\"}, {\"font\": {\"color\": \"#000000\"}, \"y\": 15, \"text\": \"40\", \"x\": 2.55, \"xref\": \"x1\", \"align\": \"left\", \"yref\": \"y1\", \"showarrow\": false, \"xanchor\": \"left\"}, {\"font\": {\"color\": \"#000000\"}, \"y\": 16, \"text\": \"Rust\", \"x\": -0.45, \"xref\": \"x1\", \"align\": \"left\", \"yref\": \"y1\", \"showarrow\": false, \"xanchor\": \"left\"}, {\"font\": {\"color\": \"#000000\"}, \"y\": 16, \"text\": \"Mozilla Staff\", \"x\": 0.55, \"xref\": \"x1\", \"align\": \"left\", \"yref\": \"y1\", \"showarrow\": false, \"xanchor\": \"left\"}, {\"font\": {\"color\": \"#000000\"}, \"y\": 16, \"text\": \"140\", \"x\": 1.55, \"xref\": \"x1\", \"align\": \"left\", \"yref\": \"y1\", \"showarrow\": false, \"xanchor\": \"left\"}, {\"font\": {\"color\": \"#000000\"}, \"y\": 16, \"text\": \"27\", \"x\": 2.55, \"xref\": \"x1\", \"align\": \"left\", \"yref\": \"y1\", \"showarrow\": false, \"xanchor\": \"left\"}, {\"font\": {\"color\": \"#000000\"}, \"y\": 17, \"text\": \"Firefox OS (FxOS / B2G)\", \"x\": -0.45, \"xref\": \"x1\", \"align\": \"left\", \"yref\": \"y1\", \"showarrow\": false, \"xanchor\": \"left\"}, {\"font\": {\"color\": \"#000000\"}, \"y\": 17, \"text\": \"Mozilla Staff\", \"x\": 0.55, \"xref\": \"x1\", \"align\": \"left\", \"yref\": \"y1\", \"showarrow\": false, \"xanchor\": \"left\"}, {\"font\": {\"color\": \"#000000\"}, \"y\": 17, \"text\": \"112\", \"x\": 1.55, \"xref\": \"x1\", \"align\": \"left\", \"yref\": \"y1\", \"showarrow\": false, \"xanchor\": \"left\"}, {\"font\": {\"color\": \"#000000\"}, \"y\": 17, \"text\": \"26\", \"x\": 2.55, \"xref\": \"x1\", \"align\": \"left\", \"yref\": \"y1\", \"showarrow\": false, \"xanchor\": \"left\"}, {\"font\": {\"color\": \"#000000\"}, \"y\": 18, \"text\": \"Mozilla Developer Network (MDN)\", \"x\": -0.45, \"xref\": \"x1\", \"align\": \"left\", \"yref\": \"y1\", \"showarrow\": false, \"xanchor\": \"left\"}, {\"font\": {\"color\": \"#000000\"}, \"y\": 18, \"text\": \"Community\", \"x\": 0.55, \"xref\": \"x1\", \"align\": \"left\", \"yref\": \"y1\", \"showarrow\": false, \"xanchor\": \"left\"}, {\"font\": {\"color\": \"#000000\"}, \"y\": 18, \"text\": \"112\", \"x\": 1.55, \"xref\": \"x1\", \"align\": \"left\", \"yref\": \"y1\", \"showarrow\": false, \"xanchor\": \"left\"}, {\"font\": {\"color\": \"#000000\"}, \"y\": 18, \"text\": \"27\", \"x\": 2.55, \"xref\": \"x1\", \"align\": \"left\", \"yref\": \"y1\", \"showarrow\": false, \"xanchor\": \"left\"}, {\"font\": {\"color\": \"#000000\"}, \"y\": 19, \"text\": \"Mozilla Science\", \"x\": -0.45, \"xref\": \"x1\", \"align\": \"left\", \"yref\": \"y1\", \"showarrow\": false, \"xanchor\": \"left\"}, {\"font\": {\"color\": \"#000000\"}, \"y\": 19, \"text\": \"Community\", \"x\": 0.55, \"xref\": \"x1\", \"align\": \"left\", \"yref\": \"y1\", \"showarrow\": false, \"xanchor\": \"left\"}, {\"font\": {\"color\": \"#000000\"}, \"y\": 19, \"text\": \"99\", \"x\": 1.55, \"xref\": \"x1\", \"align\": \"left\", \"yref\": \"y1\", \"showarrow\": false, \"xanchor\": \"left\"}, {\"font\": {\"color\": \"#000000\"}, \"y\": 19, \"text\": \"34\", \"x\": 2.55, \"xref\": \"x1\", \"align\": \"left\", \"yref\": \"y1\", \"showarrow\": false, \"xanchor\": \"left\"}, {\"font\": {\"color\": \"#000000\"}, \"y\": 20, \"text\": \"Mozilla Local/Regional communities\", \"x\": -0.45, \"xref\": \"x1\", \"align\": \"left\", \"yref\": \"y1\", \"showarrow\": false, \"xanchor\": \"left\"}, {\"font\": {\"color\": \"#000000\"}, \"y\": 20, \"text\": \"Mozilla Staff\", \"x\": 0.55, \"xref\": \"x1\", \"align\": \"left\", \"yref\": \"y1\", \"showarrow\": false, \"xanchor\": \"left\"}, {\"font\": {\"color\": \"#000000\"}, \"y\": 20, \"text\": \"93\", \"x\": 1.55, \"xref\": \"x1\", \"align\": \"left\", \"yref\": \"y1\", \"showarrow\": false, \"xanchor\": \"left\"}, {\"font\": {\"color\": \"#000000\"}, \"y\": 20, \"text\": \"77\", \"x\": 2.55, \"xref\": \"x1\", \"align\": \"left\", \"yref\": \"y1\", \"showarrow\": false, \"xanchor\": \"left\"}, {\"font\": {\"color\": \"#000000\"}, \"y\": 21, \"text\": \"Localization\", \"x\": -0.45, \"xref\": \"x1\", \"align\": \"left\", \"yref\": \"y1\", \"showarrow\": false, \"xanchor\": \"left\"}, {\"font\": {\"color\": \"#000000\"}, \"y\": 21, \"text\": \"Community\", \"x\": 0.55, \"xref\": \"x1\", \"align\": \"left\", \"yref\": \"y1\", \"showarrow\": false, \"xanchor\": \"left\"}, {\"font\": {\"color\": \"#000000\"}, \"y\": 21, \"text\": \"86\", \"x\": 1.55, \"xref\": \"x1\", \"align\": \"left\", \"yref\": \"y1\", \"showarrow\": false, \"xanchor\": \"left\"}, {\"font\": {\"color\": \"#000000\"}, \"y\": 21, \"text\": \"4\", \"x\": 2.55, \"xref\": \"x1\", \"align\": \"left\", \"yref\": \"y1\", \"showarrow\": false, \"xanchor\": \"left\"}, {\"font\": {\"color\": \"#000000\"}, \"y\": 22, \"text\": \"Firefox OS (FxOS / B2G)\", \"x\": -0.45, \"xref\": \"x1\", \"align\": \"left\", \"yref\": \"y1\", \"showarrow\": false, \"xanchor\": \"left\"}, {\"font\": {\"color\": \"#000000\"}, \"y\": 22, \"text\": \"Community\", \"x\": 0.55, \"xref\": \"x1\", \"align\": \"left\", \"yref\": \"y1\", \"showarrow\": false, \"xanchor\": \"left\"}, {\"font\": {\"color\": \"#000000\"}, \"y\": 22, \"text\": \"85\", \"x\": 1.55, \"xref\": \"x1\", \"align\": \"left\", \"yref\": \"y1\", \"showarrow\": false, \"xanchor\": \"left\"}, {\"font\": {\"color\": \"#000000\"}, \"y\": 22, \"text\": \"18\", \"x\": 2.55, \"xref\": \"x1\", \"align\": \"left\", \"yref\": \"y1\", \"showarrow\": false, \"xanchor\": \"left\"}, {\"font\": {\"color\": \"#000000\"}, \"y\": 23, \"text\": \"Mozilla Foundation\", \"x\": -0.45, \"xref\": \"x1\", \"align\": \"left\", \"yref\": \"y1\", \"showarrow\": false, \"xanchor\": \"left\"}, {\"font\": {\"color\": \"#000000\"}, \"y\": 23, \"text\": \"Community\", \"x\": 0.55, \"xref\": \"x1\", \"align\": \"left\", \"yref\": \"y1\", \"showarrow\": false, \"xanchor\": \"left\"}, {\"font\": {\"color\": \"#000000\"}, \"y\": 23, \"text\": \"85\", \"x\": 1.55, \"xref\": \"x1\", \"align\": \"left\", \"yref\": \"y1\", \"showarrow\": false, \"xanchor\": \"left\"}, {\"font\": {\"color\": \"#000000\"}, \"y\": 23, \"text\": \"24\", \"x\": 2.55, \"xref\": \"x1\", \"align\": \"left\", \"yref\": \"y1\", \"showarrow\": false, \"xanchor\": \"left\"}, {\"font\": {\"color\": \"#000000\"}, \"y\": 24, \"text\": \"Test Pilot\", \"x\": -0.45, \"xref\": \"x1\", \"align\": \"left\", \"yref\": \"y1\", \"showarrow\": false, \"xanchor\": \"left\"}, {\"font\": {\"color\": \"#000000\"}, \"y\": 24, \"text\": \"Community\", \"x\": 0.55, \"xref\": \"x1\", \"align\": \"left\", \"yref\": \"y1\", \"showarrow\": false, \"xanchor\": \"left\"}, {\"font\": {\"color\": \"#000000\"}, \"y\": 24, \"text\": \"85\", \"x\": 1.55, \"xref\": \"x1\", \"align\": \"left\", \"yref\": \"y1\", \"showarrow\": false, \"xanchor\": \"left\"}, {\"font\": {\"color\": \"#000000\"}, \"y\": 24, \"text\": \"2\", \"x\": 2.55, \"xref\": \"x1\", \"align\": \"left\", \"yref\": \"y1\", \"showarrow\": false, \"xanchor\": \"left\"}, {\"font\": {\"color\": \"#000000\"}, \"y\": 25, \"text\": \"Mozilla Location Service (MLS) / Stumbler\", \"x\": -0.45, \"xref\": \"x1\", \"align\": \"left\", \"yref\": \"y1\", \"showarrow\": false, \"xanchor\": \"left\"}, {\"font\": {\"color\": \"#000000\"}, \"y\": 25, \"text\": \"Community\", \"x\": 0.55, \"xref\": \"x1\", \"align\": \"left\", \"yref\": \"y1\", \"showarrow\": false, \"xanchor\": \"left\"}, {\"font\": {\"color\": \"#000000\"}, \"y\": 25, \"text\": \"73\", \"x\": 1.55, \"xref\": \"x1\", \"align\": \"left\", \"yref\": \"y1\", \"showarrow\": false, \"xanchor\": \"left\"}, {\"font\": {\"color\": \"#000000\"}, \"y\": 25, \"text\": \"1\", \"x\": 2.55, \"xref\": \"x1\", \"align\": \"left\", \"yref\": \"y1\", \"showarrow\": false, \"xanchor\": \"left\"}, {\"font\": {\"color\": \"#000000\"}, \"y\": 26, \"text\": \"Release engineering\", \"x\": -0.45, \"xref\": \"x1\", \"align\": \"left\", \"yref\": \"y1\", \"showarrow\": false, \"xanchor\": \"left\"}, {\"font\": {\"color\": \"#000000\"}, \"y\": 26, \"text\": \"Community\", \"x\": 0.55, \"xref\": \"x1\", \"align\": \"left\", \"yref\": \"y1\", \"showarrow\": false, \"xanchor\": \"left\"}, {\"font\": {\"color\": \"#000000\"}, \"y\": 26, \"text\": \"68\", \"x\": 1.55, \"xref\": \"x1\", \"align\": \"left\", \"yref\": \"y1\", \"showarrow\": false, \"xanchor\": \"left\"}, {\"font\": {\"color\": \"#000000\"}, \"y\": 26, \"text\": \"9\", \"x\": 2.55, \"xref\": \"x1\", \"align\": \"left\", \"yref\": \"y1\", \"showarrow\": false, \"xanchor\": \"left\"}, {\"font\": {\"color\": \"#000000\"}, \"y\": 27, \"text\": \"Firefox iOS\", \"x\": -0.45, \"xref\": \"x1\", \"align\": \"left\", \"yref\": \"y1\", \"showarrow\": false, \"xanchor\": \"left\"}, {\"font\": {\"color\": \"#000000\"}, \"y\": 27, \"text\": \"Community\", \"x\": 0.55, \"xref\": \"x1\", \"align\": \"left\", \"yref\": \"y1\", \"showarrow\": false, \"xanchor\": \"left\"}, {\"font\": {\"color\": \"#000000\"}, \"y\": 27, \"text\": \"65\", \"x\": 1.55, \"xref\": \"x1\", \"align\": \"left\", \"yref\": \"y1\", \"showarrow\": false, \"xanchor\": \"left\"}, {\"font\": {\"color\": \"#000000\"}, \"y\": 27, \"text\": \"3\", \"x\": 2.55, \"xref\": \"x1\", \"align\": \"left\", \"yref\": \"y1\", \"showarrow\": false, \"xanchor\": \"left\"}, {\"font\": {\"color\": \"#000000\"}, \"y\": 28, \"text\": \"Web Literacy\", \"x\": -0.45, \"xref\": \"x1\", \"align\": \"left\", \"yref\": \"y1\", \"showarrow\": false, \"xanchor\": \"left\"}, {\"font\": {\"color\": \"#000000\"}, \"y\": 28, \"text\": \"Mozilla Staff\", \"x\": 0.55, \"xref\": \"x1\", \"align\": \"left\", \"yref\": \"y1\", \"showarrow\": false, \"xanchor\": \"left\"}, {\"font\": {\"color\": \"#000000\"}, \"y\": 28, \"text\": \"53\", \"x\": 1.55, \"xref\": \"x1\", \"align\": \"left\", \"yref\": \"y1\", \"showarrow\": false, \"xanchor\": \"left\"}, {\"font\": {\"color\": \"#000000\"}, \"y\": 28, \"text\": \"51\", \"x\": 2.55, \"xref\": \"x1\", \"align\": \"left\", \"yref\": \"y1\", \"showarrow\": false, \"xanchor\": \"left\"}, {\"font\": {\"color\": \"#000000\"}, \"y\": 29, \"text\": \"Mozilla Developer Network (MDN)\", \"x\": -0.45, \"xref\": \"x1\", \"align\": \"left\", \"yref\": \"y1\", \"showarrow\": false, \"xanchor\": \"left\"}, {\"font\": {\"color\": \"#000000\"}, \"y\": 29, \"text\": \"Mozilla Staff\", \"x\": 0.55, \"xref\": \"x1\", \"align\": \"left\", \"yref\": \"y1\", \"showarrow\": false, \"xanchor\": \"left\"}, {\"font\": {\"color\": \"#000000\"}, \"y\": 29, \"text\": \"52\", \"x\": 1.55, \"xref\": \"x1\", \"align\": \"left\", \"yref\": \"y1\", \"showarrow\": false, \"xanchor\": \"left\"}, {\"font\": {\"color\": \"#000000\"}, \"y\": 29, \"text\": \"47\", \"x\": 2.55, \"xref\": \"x1\", \"align\": \"left\", \"yref\": \"y1\", \"showarrow\": false, \"xanchor\": \"left\"}, {\"font\": {\"color\": \"#000000\"}, \"y\": 30, \"text\": \"Marketing / Social Media\", \"x\": -0.45, \"xref\": \"x1\", \"align\": \"left\", \"yref\": \"y1\", \"showarrow\": false, \"xanchor\": \"left\"}, {\"font\": {\"color\": \"#000000\"}, \"y\": 30, \"text\": \"Mozilla Staff\", \"x\": 0.55, \"xref\": \"x1\", \"align\": \"left\", \"yref\": \"y1\", \"showarrow\": false, \"xanchor\": \"left\"}, {\"font\": {\"color\": \"#000000\"}, \"y\": 30, \"text\": \"50\", \"x\": 1.55, \"xref\": \"x1\", \"align\": \"left\", \"yref\": \"y1\", \"showarrow\": false, \"xanchor\": \"left\"}, {\"font\": {\"color\": \"#000000\"}, \"y\": 30, \"text\": \"15\", \"x\": 2.55, \"xref\": \"x1\", \"align\": \"left\", \"yref\": \"y1\", \"showarrow\": false, \"xanchor\": \"left\"}, {\"font\": {\"color\": \"#000000\"}, \"y\": 31, \"text\": \"Test Pilot\", \"x\": -0.45, \"xref\": \"x1\", \"align\": \"left\", \"yref\": \"y1\", \"showarrow\": false, \"xanchor\": \"left\"}, {\"font\": {\"color\": \"#000000\"}, \"y\": 31, \"text\": \"Mozilla Staff\", \"x\": 0.55, \"xref\": \"x1\", \"align\": \"left\", \"yref\": \"y1\", \"showarrow\": false, \"xanchor\": \"left\"}, {\"font\": {\"color\": \"#000000\"}, \"y\": 31, \"text\": \"49\", \"x\": 1.55, \"xref\": \"x1\", \"align\": \"left\", \"yref\": \"y1\", \"showarrow\": false, \"xanchor\": \"left\"}, {\"font\": {\"color\": \"#000000\"}, \"y\": 31, \"text\": \"6\", \"x\": 2.55, \"xref\": \"x1\", \"align\": \"left\", \"yref\": \"y1\", \"showarrow\": false, \"xanchor\": \"left\"}, {\"font\": {\"color\": \"#000000\"}, \"y\": 32, \"text\": \"Quality Assurance\", \"x\": -0.45, \"xref\": \"x1\", \"align\": \"left\", \"yref\": \"y1\", \"showarrow\": false, \"xanchor\": \"left\"}, {\"font\": {\"color\": \"#000000\"}, \"y\": 32, \"text\": \"Mozilla Staff\", \"x\": 0.55, \"xref\": \"x1\", \"align\": \"left\", \"yref\": \"y1\", \"showarrow\": false, \"xanchor\": \"left\"}, {\"font\": {\"color\": \"#000000\"}, \"y\": 32, \"text\": \"45\", \"x\": 1.55, \"xref\": \"x1\", \"align\": \"left\", \"yref\": \"y1\", \"showarrow\": false, \"xanchor\": \"left\"}, {\"font\": {\"color\": \"#000000\"}, \"y\": 32, \"text\": \"3\", \"x\": 2.55, \"xref\": \"x1\", \"align\": \"left\", \"yref\": \"y1\", \"showarrow\": false, \"xanchor\": \"left\"}, {\"font\": {\"color\": \"#000000\"}, \"y\": 33, \"text\": \"Quality Assurance\", \"x\": -0.45, \"xref\": \"x1\", \"align\": \"left\", \"yref\": \"y1\", \"showarrow\": false, \"xanchor\": \"left\"}, {\"font\": {\"color\": \"#000000\"}, \"y\": 33, \"text\": \"Community\", \"x\": 0.55, \"xref\": \"x1\", \"align\": \"left\", \"yref\": \"y1\", \"showarrow\": false, \"xanchor\": \"left\"}, {\"font\": {\"color\": \"#000000\"}, \"y\": 33, \"text\": \"40\", \"x\": 1.55, \"xref\": \"x1\", \"align\": \"left\", \"yref\": \"y1\", \"showarrow\": false, \"xanchor\": \"left\"}, {\"font\": {\"color\": \"#000000\"}, \"y\": 33, \"text\": \"2\", \"x\": 2.55, \"xref\": \"x1\", \"align\": \"left\", \"yref\": \"y1\", \"showarrow\": false, \"xanchor\": \"left\"}, {\"font\": {\"color\": \"#000000\"}, \"y\": 34, \"text\": \"Advocacy and policy\", \"x\": -0.45, \"xref\": \"x1\", \"align\": \"left\", \"yref\": \"y1\", \"showarrow\": false, \"xanchor\": \"left\"}, {\"font\": {\"color\": \"#000000\"}, \"y\": 34, \"text\": \"Community\", \"x\": 0.55, \"xref\": \"x1\", \"align\": \"left\", \"yref\": \"y1\", \"showarrow\": false, \"xanchor\": \"left\"}, {\"font\": {\"color\": \"#000000\"}, \"y\": 34, \"text\": \"38\", \"x\": 1.55, \"xref\": \"x1\", \"align\": \"left\", \"yref\": \"y1\", \"showarrow\": false, \"xanchor\": \"left\"}, {\"font\": {\"color\": \"#000000\"}, \"y\": 34, \"text\": \"4\", \"x\": 2.55, \"xref\": \"x1\", \"align\": \"left\", \"yref\": \"y1\", \"showarrow\": false, \"xanchor\": \"left\"}, {\"font\": {\"color\": \"#000000\"}, \"y\": 35, \"text\": \"Advocacy and policy\", \"x\": -0.45, \"xref\": \"x1\", \"align\": \"left\", \"yref\": \"y1\", \"showarrow\": false, \"xanchor\": \"left\"}, {\"font\": {\"color\": \"#000000\"}, \"y\": 35, \"text\": \"Mozilla Staff\", \"x\": 0.55, \"xref\": \"x1\", \"align\": \"left\", \"yref\": \"y1\", \"showarrow\": false, \"xanchor\": \"left\"}, {\"font\": {\"color\": \"#000000\"}, \"y\": 35, \"text\": \"36\", \"x\": 1.55, \"xref\": \"x1\", \"align\": \"left\", \"yref\": \"y1\", \"showarrow\": false, \"xanchor\": \"left\"}, {\"font\": {\"color\": \"#000000\"}, \"y\": 35, \"text\": \"4\", \"x\": 2.55, \"xref\": \"x1\", \"align\": \"left\", \"yref\": \"y1\", \"showarrow\": false, \"xanchor\": \"left\"}, {\"font\": {\"color\": \"#000000\"}, \"y\": 36, \"text\": \"Localization\", \"x\": -0.45, \"xref\": \"x1\", \"align\": \"left\", \"yref\": \"y1\", \"showarrow\": false, \"xanchor\": \"left\"}, {\"font\": {\"color\": \"#000000\"}, \"y\": 36, \"text\": \"Mozilla Staff\", \"x\": 0.55, \"xref\": \"x1\", \"align\": \"left\", \"yref\": \"y1\", \"showarrow\": false, \"xanchor\": \"left\"}, {\"font\": {\"color\": \"#000000\"}, \"y\": 36, \"text\": \"35\", \"x\": 1.55, \"xref\": \"x1\", \"align\": \"left\", \"yref\": \"y1\", \"showarrow\": false, \"xanchor\": \"left\"}, {\"font\": {\"color\": \"#000000\"}, \"y\": 36, \"text\": \"4\", \"x\": 2.55, \"xref\": \"x1\", \"align\": \"left\", \"yref\": \"y1\", \"showarrow\": false, \"xanchor\": \"left\"}, {\"font\": {\"color\": \"#000000\"}, \"y\": 37, \"text\": \"Firefox iOS\", \"x\": -0.45, \"xref\": \"x1\", \"align\": \"left\", \"yref\": \"y1\", \"showarrow\": false, \"xanchor\": \"left\"}, {\"font\": {\"color\": \"#000000\"}, \"y\": 37, \"text\": \"Mozilla Staff\", \"x\": 0.55, \"xref\": \"x1\", \"align\": \"left\", \"yref\": \"y1\", \"showarrow\": false, \"xanchor\": \"left\"}, {\"font\": {\"color\": \"#000000\"}, \"y\": 37, \"text\": \"32\", \"x\": 1.55, \"xref\": \"x1\", \"align\": \"left\", \"yref\": \"y1\", \"showarrow\": false, \"xanchor\": \"left\"}, {\"font\": {\"color\": \"#000000\"}, \"y\": 37, \"text\": \"5\", \"x\": 2.55, \"xref\": \"x1\", \"align\": \"left\", \"yref\": \"y1\", \"showarrow\": false, \"xanchor\": \"left\"}, {\"font\": {\"color\": \"#000000\"}, \"y\": 38, \"text\": \"Mozilla Foundation\", \"x\": -0.45, \"xref\": \"x1\", \"align\": \"left\", \"yref\": \"y1\", \"showarrow\": false, \"xanchor\": \"left\"}, {\"font\": {\"color\": \"#000000\"}, \"y\": 38, \"text\": \"Mozilla Staff\", \"x\": 0.55, \"xref\": \"x1\", \"align\": \"left\", \"yref\": \"y1\", \"showarrow\": false, \"xanchor\": \"left\"}, {\"font\": {\"color\": \"#000000\"}, \"y\": 38, \"text\": \"30\", \"x\": 1.55, \"xref\": \"x1\", \"align\": \"left\", \"yref\": \"y1\", \"showarrow\": false, \"xanchor\": \"left\"}, {\"font\": {\"color\": \"#000000\"}, \"y\": 38, \"text\": \"36\", \"x\": 2.55, \"xref\": \"x1\", \"align\": \"left\", \"yref\": \"y1\", \"showarrow\": false, \"xanchor\": \"left\"}, {\"font\": {\"color\": \"#000000\"}, \"y\": 39, \"text\": \"WebVR\", \"x\": -0.45, \"xref\": \"x1\", \"align\": \"left\", \"yref\": \"y1\", \"showarrow\": false, \"xanchor\": \"left\"}, {\"font\": {\"color\": \"#000000\"}, \"y\": 39, \"text\": \"Mozilla Staff\", \"x\": 0.55, \"xref\": \"x1\", \"align\": \"left\", \"yref\": \"y1\", \"showarrow\": false, \"xanchor\": \"left\"}, {\"font\": {\"color\": \"#000000\"}, \"y\": 39, \"text\": \"26\", \"x\": 1.55, \"xref\": \"x1\", \"align\": \"left\", \"yref\": \"y1\", \"showarrow\": false, \"xanchor\": \"left\"}, {\"font\": {\"color\": \"#000000\"}, \"y\": 39, \"text\": \"29\", \"x\": 2.55, \"xref\": \"x1\", \"align\": \"left\", \"yref\": \"y1\", \"showarrow\": false, \"xanchor\": \"left\"}, {\"font\": {\"color\": \"#000000\"}, \"y\": 40, \"text\": \"Mozilla Creative & Design\", \"x\": -0.45, \"xref\": \"x1\", \"align\": \"left\", \"yref\": \"y1\", \"showarrow\": false, \"xanchor\": \"left\"}, {\"font\": {\"color\": \"#000000\"}, \"y\": 40, \"text\": \"Community\", \"x\": 0.55, \"xref\": \"x1\", \"align\": \"left\", \"yref\": \"y1\", \"showarrow\": false, \"xanchor\": \"left\"}, {\"font\": {\"color\": \"#000000\"}, \"y\": 40, \"text\": \"21\", \"x\": 1.55, \"xref\": \"x1\", \"align\": \"left\", \"yref\": \"y1\", \"showarrow\": false, \"xanchor\": \"left\"}, {\"font\": {\"color\": \"#000000\"}, \"y\": 40, \"text\": \"2\", \"x\": 2.55, \"xref\": \"x1\", \"align\": \"left\", \"yref\": \"y1\", \"showarrow\": false, \"xanchor\": \"left\"}, {\"font\": {\"color\": \"#000000\"}, \"y\": 41, \"text\": \"Firefox\", \"x\": -0.45, \"xref\": \"x1\", \"align\": \"left\", \"yref\": \"y1\", \"showarrow\": false, \"xanchor\": \"left\"}, {\"font\": {\"color\": \"#000000\"}, \"y\": 41, \"text\": \"Mozilla Staff\", \"x\": 0.55, \"xref\": \"x1\", \"align\": \"left\", \"yref\": \"y1\", \"showarrow\": false, \"xanchor\": \"left\"}, {\"font\": {\"color\": \"#000000\"}, \"y\": 41, \"text\": \"20\", \"x\": 1.55, \"xref\": \"x1\", \"align\": \"left\", \"yref\": \"y1\", \"showarrow\": false, \"xanchor\": \"left\"}, {\"font\": {\"color\": \"#000000\"}, \"y\": 41, \"text\": \"1\", \"x\": 2.55, \"xref\": \"x1\", \"align\": \"left\", \"yref\": \"y1\", \"showarrow\": false, \"xanchor\": \"left\"}, {\"font\": {\"color\": \"#000000\"}, \"y\": 42, \"text\": \"Mozilla Location Service (MLS) / Stumbler\", \"x\": -0.45, \"xref\": \"x1\", \"align\": \"left\", \"yref\": \"y1\", \"showarrow\": false, \"xanchor\": \"left\"}, {\"font\": {\"color\": \"#000000\"}, \"y\": 42, \"text\": \"Mozilla Staff\", \"x\": 0.55, \"xref\": \"x1\", \"align\": \"left\", \"yref\": \"y1\", \"showarrow\": false, \"xanchor\": \"left\"}, {\"font\": {\"color\": \"#000000\"}, \"y\": 42, \"text\": \"19\", \"x\": 1.55, \"xref\": \"x1\", \"align\": \"left\", \"yref\": \"y1\", \"showarrow\": false, \"xanchor\": \"left\"}, {\"font\": {\"color\": \"#000000\"}, \"y\": 42, \"text\": \"1\", \"x\": 2.55, \"xref\": \"x1\", \"align\": \"left\", \"yref\": \"y1\", \"showarrow\": false, \"xanchor\": \"left\"}, {\"font\": {\"color\": \"#000000\"}, \"y\": 43, \"text\": \"Marketing / Social Media\", \"x\": -0.45, \"xref\": \"x1\", \"align\": \"left\", \"yref\": \"y1\", \"showarrow\": false, \"xanchor\": \"left\"}, {\"font\": {\"color\": \"#000000\"}, \"y\": 43, \"text\": \"Community\", \"x\": 0.55, \"xref\": \"x1\", \"align\": \"left\", \"yref\": \"y1\", \"showarrow\": false, \"xanchor\": \"left\"}, {\"font\": {\"color\": \"#000000\"}, \"y\": 43, \"text\": \"18\", \"x\": 1.55, \"xref\": \"x1\", \"align\": \"left\", \"yref\": \"y1\", \"showarrow\": false, \"xanchor\": \"left\"}, {\"font\": {\"color\": \"#000000\"}, \"y\": 43, \"text\": \"7\", \"x\": 2.55, \"xref\": \"x1\", \"align\": \"left\", \"yref\": \"y1\", \"showarrow\": false, \"xanchor\": \"left\"}, {\"font\": {\"color\": \"#000000\"}, \"y\": 44, \"text\": \"Technical/Developer Evangelism\", \"x\": -0.45, \"xref\": \"x1\", \"align\": \"left\", \"yref\": \"y1\", \"showarrow\": false, \"xanchor\": \"left\"}, {\"font\": {\"color\": \"#000000\"}, \"y\": 44, \"text\": \"Community\", \"x\": 0.55, \"xref\": \"x1\", \"align\": \"left\", \"yref\": \"y1\", \"showarrow\": false, \"xanchor\": \"left\"}, {\"font\": {\"color\": \"#000000\"}, \"y\": 44, \"text\": \"16\", \"x\": 1.55, \"xref\": \"x1\", \"align\": \"left\", \"yref\": \"y1\", \"showarrow\": false, \"xanchor\": \"left\"}, {\"font\": {\"color\": \"#000000\"}, \"y\": 44, \"text\": \"6\", \"x\": 2.55, \"xref\": \"x1\", \"align\": \"left\", \"yref\": \"y1\", \"showarrow\": false, \"xanchor\": \"left\"}, {\"font\": {\"color\": \"#000000\"}, \"y\": 45, \"text\": \"Technical/Developer Evangelism\", \"x\": -0.45, \"xref\": \"x1\", \"align\": \"left\", \"yref\": \"y1\", \"showarrow\": false, \"xanchor\": \"left\"}, {\"font\": {\"color\": \"#000000\"}, \"y\": 45, \"text\": \"Mozilla Staff\", \"x\": 0.55, \"xref\": \"x1\", \"align\": \"left\", \"yref\": \"y1\", \"showarrow\": false, \"xanchor\": \"left\"}, {\"font\": {\"color\": \"#000000\"}, \"y\": 45, \"text\": \"14\", \"x\": 1.55, \"xref\": \"x1\", \"align\": \"left\", \"yref\": \"y1\", \"showarrow\": false, \"xanchor\": \"left\"}, {\"font\": {\"color\": \"#000000\"}, \"y\": 45, \"text\": \"17\", \"x\": 2.55, \"xref\": \"x1\", \"align\": \"left\", \"yref\": \"y1\", \"showarrow\": false, \"xanchor\": \"left\"}, {\"font\": {\"color\": \"#000000\"}, \"y\": 46, \"text\": \"Vaani\", \"x\": -0.45, \"xref\": \"x1\", \"align\": \"left\", \"yref\": \"y1\", \"showarrow\": false, \"xanchor\": \"left\"}, {\"font\": {\"color\": \"#000000\"}, \"y\": 46, \"text\": \"Mozilla Staff\", \"x\": 0.55, \"xref\": \"x1\", \"align\": \"left\", \"yref\": \"y1\", \"showarrow\": false, \"xanchor\": \"left\"}, {\"font\": {\"color\": \"#000000\"}, \"y\": 46, \"text\": \"11\", \"x\": 1.55, \"xref\": \"x1\", \"align\": \"left\", \"yref\": \"y1\", \"showarrow\": false, \"xanchor\": \"left\"}, {\"font\": {\"color\": \"#000000\"}, \"y\": 46, \"text\": \"8\", \"x\": 2.55, \"xref\": \"x1\", \"align\": \"left\", \"yref\": \"y1\", \"showarrow\": false, \"xanchor\": \"left\"}, {\"font\": {\"color\": \"#000000\"}, \"y\": 47, \"text\": \"Mozilla Creative & Design\", \"x\": -0.45, \"xref\": \"x1\", \"align\": \"left\", \"yref\": \"y1\", \"showarrow\": false, \"xanchor\": \"left\"}, {\"font\": {\"color\": \"#000000\"}, \"y\": 47, \"text\": \"Mozilla Staff\", \"x\": 0.55, \"xref\": \"x1\", \"align\": \"left\", \"yref\": \"y1\", \"showarrow\": false, \"xanchor\": \"left\"}, {\"font\": {\"color\": \"#000000\"}, \"y\": 47, \"text\": \"10\", \"x\": 1.55, \"xref\": \"x1\", \"align\": \"left\", \"yref\": \"y1\", \"showarrow\": false, \"xanchor\": \"left\"}, {\"font\": {\"color\": \"#000000\"}, \"y\": 47, \"text\": \"3\", \"x\": 2.55, \"xref\": \"x1\", \"align\": \"left\", \"yref\": \"y1\", \"showarrow\": false, \"xanchor\": \"left\"}, {\"font\": {\"color\": \"#000000\"}, \"y\": 48, \"text\": \"Mozilla Science\", \"x\": -0.45, \"xref\": \"x1\", \"align\": \"left\", \"yref\": \"y1\", \"showarrow\": false, \"xanchor\": \"left\"}, {\"font\": {\"color\": \"#000000\"}, \"y\": 48, \"text\": \"Mozilla Staff\", \"x\": 0.55, \"xref\": \"x1\", \"align\": \"left\", \"yref\": \"y1\", \"showarrow\": false, \"xanchor\": \"left\"}, {\"font\": {\"color\": \"#000000\"}, \"y\": 48, \"text\": \"9\", \"x\": 1.55, \"xref\": \"x1\", \"align\": \"left\", \"yref\": \"y1\", \"showarrow\": false, \"xanchor\": \"left\"}, {\"font\": {\"color\": \"#000000\"}, \"y\": 48, \"text\": \"21\", \"x\": 2.55, \"xref\": \"x1\", \"align\": \"left\", \"yref\": \"y1\", \"showarrow\": false, \"xanchor\": \"left\"}, {\"font\": {\"color\": \"#000000\"}, \"y\": 49, \"text\": \"Firefox Focus\", \"x\": -0.45, \"xref\": \"x1\", \"align\": \"left\", \"yref\": \"y1\", \"showarrow\": false, \"xanchor\": \"left\"}, {\"font\": {\"color\": \"#000000\"}, \"y\": 49, \"text\": \"Mozilla Staff\", \"x\": 0.55, \"xref\": \"x1\", \"align\": \"left\", \"yref\": \"y1\", \"showarrow\": false, \"xanchor\": \"left\"}, {\"font\": {\"color\": \"#000000\"}, \"y\": 49, \"text\": \"9\", \"x\": 1.55, \"xref\": \"x1\", \"align\": \"left\", \"yref\": \"y1\", \"showarrow\": false, \"xanchor\": \"left\"}, {\"font\": {\"color\": \"#000000\"}, \"y\": 49, \"text\": \"2\", \"x\": 2.55, \"xref\": \"x1\", \"align\": \"left\", \"yref\": \"y1\", \"showarrow\": false, \"xanchor\": \"left\"}, {\"font\": {\"color\": \"#000000\"}, \"y\": 50, \"text\": \"Deep Speech\", \"x\": -0.45, \"xref\": \"x1\", \"align\": \"left\", \"yref\": \"y1\", \"showarrow\": false, \"xanchor\": \"left\"}, {\"font\": {\"color\": \"#000000\"}, \"y\": 50, \"text\": \"Community\", \"x\": 0.55, \"xref\": \"x1\", \"align\": \"left\", \"yref\": \"y1\", \"showarrow\": false, \"xanchor\": \"left\"}, {\"font\": {\"color\": \"#000000\"}, \"y\": 50, \"text\": \"8\", \"x\": 1.55, \"xref\": \"x1\", \"align\": \"left\", \"yref\": \"y1\", \"showarrow\": false, \"xanchor\": \"left\"}, {\"font\": {\"color\": \"#000000\"}, \"y\": 50, \"text\": \"1\", \"x\": 2.55, \"xref\": \"x1\", \"align\": \"left\", \"yref\": \"y1\", \"showarrow\": false, \"xanchor\": \"left\"}, {\"font\": {\"color\": \"#000000\"}, \"y\": 51, \"text\": \"Deep Speech\", \"x\": -0.45, \"xref\": \"x1\", \"align\": \"left\", \"yref\": \"y1\", \"showarrow\": false, \"xanchor\": \"left\"}, {\"font\": {\"color\": \"#000000\"}, \"y\": 51, \"text\": \"Mozilla Staff\", \"x\": 0.55, \"xref\": \"x1\", \"align\": \"left\", \"yref\": \"y1\", \"showarrow\": false, \"xanchor\": \"left\"}, {\"font\": {\"color\": \"#000000\"}, \"y\": 51, \"text\": \"7\", \"x\": 1.55, \"xref\": \"x1\", \"align\": \"left\", \"yref\": \"y1\", \"showarrow\": false, \"xanchor\": \"left\"}, {\"font\": {\"color\": \"#000000\"}, \"y\": 51, \"text\": \"1\", \"x\": 2.55, \"xref\": \"x1\", \"align\": \"left\", \"yref\": \"y1\", \"showarrow\": false, \"xanchor\": \"left\"}, {\"font\": {\"color\": \"#000000\"}, \"y\": 52, \"text\": \"Firefox\", \"x\": -0.45, \"xref\": \"x1\", \"align\": \"left\", \"yref\": \"y1\", \"showarrow\": false, \"xanchor\": \"left\"}, {\"font\": {\"color\": \"#000000\"}, \"y\": 52, \"text\": \"Community\", \"x\": 0.55, \"xref\": \"x1\", \"align\": \"left\", \"yref\": \"y1\", \"showarrow\": false, \"xanchor\": \"left\"}, {\"font\": {\"color\": \"#000000\"}, \"y\": 52, \"text\": \"7\", \"x\": 1.55, \"xref\": \"x1\", \"align\": \"left\", \"yref\": \"y1\", \"showarrow\": false, \"xanchor\": \"left\"}, {\"font\": {\"color\": \"#000000\"}, \"y\": 52, \"text\": \"1\", \"x\": 2.55, \"xref\": \"x1\", \"align\": \"left\", \"yref\": \"y1\", \"showarrow\": false, \"xanchor\": \"left\"}, {\"font\": {\"color\": \"#000000\"}, \"y\": 53, \"text\": \"Firefox Focus\", \"x\": -0.45, \"xref\": \"x1\", \"align\": \"left\", \"yref\": \"y1\", \"showarrow\": false, \"xanchor\": \"left\"}, {\"font\": {\"color\": \"#000000\"}, \"y\": 53, \"text\": \"Community\", \"x\": 0.55, \"xref\": \"x1\", \"align\": \"left\", \"yref\": \"y1\", \"showarrow\": false, \"xanchor\": \"left\"}, {\"font\": {\"color\": \"#000000\"}, \"y\": 53, \"text\": \"7\", \"x\": 1.55, \"xref\": \"x1\", \"align\": \"left\", \"yref\": \"y1\", \"showarrow\": false, \"xanchor\": \"left\"}, {\"font\": {\"color\": \"#000000\"}, \"y\": 53, \"text\": \"2\", \"x\": 2.55, \"xref\": \"x1\", \"align\": \"left\", \"yref\": \"y1\", \"showarrow\": false, \"xanchor\": \"left\"}, {\"font\": {\"color\": \"#000000\"}, \"y\": 54, \"text\": \"Mozilla Clubs\", \"x\": -0.45, \"xref\": \"x1\", \"align\": \"left\", \"yref\": \"y1\", \"showarrow\": false, \"xanchor\": \"left\"}, {\"font\": {\"color\": \"#000000\"}, \"y\": 54, \"text\": \"Mozilla Staff\", \"x\": 0.55, \"xref\": \"x1\", \"align\": \"left\", \"yref\": \"y1\", \"showarrow\": false, \"xanchor\": \"left\"}, {\"font\": {\"color\": \"#000000\"}, \"y\": 54, \"text\": \"6\", \"x\": 1.55, \"xref\": \"x1\", \"align\": \"left\", \"yref\": \"y1\", \"showarrow\": false, \"xanchor\": \"left\"}, {\"font\": {\"color\": \"#000000\"}, \"y\": 54, \"text\": \"8\", \"x\": 2.55, \"xref\": \"x1\", \"align\": \"left\", \"yref\": \"y1\", \"showarrow\": false, \"xanchor\": \"left\"}, {\"font\": {\"color\": \"#000000\"}, \"y\": 55, \"text\": \"Developer Tools\", \"x\": -0.45, \"xref\": \"x1\", \"align\": \"left\", \"yref\": \"y1\", \"showarrow\": false, \"xanchor\": \"left\"}, {\"font\": {\"color\": \"#000000\"}, \"y\": 55, \"text\": \"Mozilla Staff\", \"x\": 0.55, \"xref\": \"x1\", \"align\": \"left\", \"yref\": \"y1\", \"showarrow\": false, \"xanchor\": \"left\"}, {\"font\": {\"color\": \"#000000\"}, \"y\": 55, \"text\": \"6\", \"x\": 1.55, \"xref\": \"x1\", \"align\": \"left\", \"yref\": \"y1\", \"showarrow\": false, \"xanchor\": \"left\"}, {\"font\": {\"color\": \"#000000\"}, \"y\": 55, \"text\": \"4\", \"x\": 2.55, \"xref\": \"x1\", \"align\": \"left\", \"yref\": \"y1\", \"showarrow\": false, \"xanchor\": \"left\"}, {\"font\": {\"color\": \"#000000\"}, \"y\": 56, \"text\": \"Connected devices & IoT\", \"x\": -0.45, \"xref\": \"x1\", \"align\": \"left\", \"yref\": \"y1\", \"showarrow\": false, \"xanchor\": \"left\"}, {\"font\": {\"color\": \"#000000\"}, \"y\": 56, \"text\": \"Community\", \"x\": 0.55, \"xref\": \"x1\", \"align\": \"left\", \"yref\": \"y1\", \"showarrow\": false, \"xanchor\": \"left\"}, {\"font\": {\"color\": \"#000000\"}, \"y\": 56, \"text\": \"6\", \"x\": 1.55, \"xref\": \"x1\", \"align\": \"left\", \"yref\": \"y1\", \"showarrow\": false, \"xanchor\": \"left\"}, {\"font\": {\"color\": \"#000000\"}, \"y\": 56, \"text\": \"1\", \"x\": 2.55, \"xref\": \"x1\", \"align\": \"left\", \"yref\": \"y1\", \"showarrow\": false, \"xanchor\": \"left\"}, {\"font\": {\"color\": \"#000000\"}, \"y\": 57, \"text\": \"Campus Clubs (previously Student Ambassadors)\", \"x\": -0.45, \"xref\": \"x1\", \"align\": \"left\", \"yref\": \"y1\", \"showarrow\": false, \"xanchor\": \"left\"}, {\"font\": {\"color\": \"#000000\"}, \"y\": 57, \"text\": \"Mozilla Staff\", \"x\": 0.55, \"xref\": \"x1\", \"align\": \"left\", \"yref\": \"y1\", \"showarrow\": false, \"xanchor\": \"left\"}, {\"font\": {\"color\": \"#000000\"}, \"y\": 57, \"text\": \"5\", \"x\": 1.55, \"xref\": \"x1\", \"align\": \"left\", \"yref\": \"y1\", \"showarrow\": false, \"xanchor\": \"left\"}, {\"font\": {\"color\": \"#000000\"}, \"y\": 57, \"text\": \"5\", \"x\": 2.55, \"xref\": \"x1\", \"align\": \"left\", \"yref\": \"y1\", \"showarrow\": false, \"xanchor\": \"left\"}, {\"font\": {\"color\": \"#000000\"}, \"y\": 58, \"text\": \"Mozilla Clubs\", \"x\": -0.45, \"xref\": \"x1\", \"align\": \"left\", \"yref\": \"y1\", \"showarrow\": false, \"xanchor\": \"left\"}, {\"font\": {\"color\": \"#000000\"}, \"y\": 58, \"text\": \"Community\", \"x\": 0.55, \"xref\": \"x1\", \"align\": \"left\", \"yref\": \"y1\", \"showarrow\": false, \"xanchor\": \"left\"}, {\"font\": {\"color\": \"#000000\"}, \"y\": 58, \"text\": \"3\", \"x\": 1.55, \"xref\": \"x1\", \"align\": \"left\", \"yref\": \"y1\", \"showarrow\": false, \"xanchor\": \"left\"}, {\"font\": {\"color\": \"#000000\"}, \"y\": 58, \"text\": \"4\", \"x\": 2.55, \"xref\": \"x1\", \"align\": \"left\", \"yref\": \"y1\", \"showarrow\": false, \"xanchor\": \"left\"}, {\"font\": {\"color\": \"#000000\"}, \"y\": 59, \"text\": \"Connected devices & IoT\", \"x\": -0.45, \"xref\": \"x1\", \"align\": \"left\", \"yref\": \"y1\", \"showarrow\": false, \"xanchor\": \"left\"}, {\"font\": {\"color\": \"#000000\"}, \"y\": 59, \"text\": \"Mozilla Staff\", \"x\": 0.55, \"xref\": \"x1\", \"align\": \"left\", \"yref\": \"y1\", \"showarrow\": false, \"xanchor\": \"left\"}, {\"font\": {\"color\": \"#000000\"}, \"y\": 59, \"text\": \"3\", \"x\": 1.55, \"xref\": \"x1\", \"align\": \"left\", \"yref\": \"y1\", \"showarrow\": false, \"xanchor\": \"left\"}, {\"font\": {\"color\": \"#000000\"}, \"y\": 59, \"text\": \"1\", \"x\": 2.55, \"xref\": \"x1\", \"align\": \"left\", \"yref\": \"y1\", \"showarrow\": false, \"xanchor\": \"left\"}, {\"font\": {\"color\": \"#000000\"}, \"y\": 60, \"text\": \"Firefox Android\", \"x\": -0.45, \"xref\": \"x1\", \"align\": \"left\", \"yref\": \"y1\", \"showarrow\": false, \"xanchor\": \"left\"}, {\"font\": {\"color\": \"#000000\"}, \"y\": 60, \"text\": \"Mozilla Staff\", \"x\": 0.55, \"xref\": \"x1\", \"align\": \"left\", \"yref\": \"y1\", \"showarrow\": false, \"xanchor\": \"left\"}, {\"font\": {\"color\": \"#000000\"}, \"y\": 60, \"text\": \"3\", \"x\": 1.55, \"xref\": \"x1\", \"align\": \"left\", \"yref\": \"y1\", \"showarrow\": false, \"xanchor\": \"left\"}, {\"font\": {\"color\": \"#000000\"}, \"y\": 60, \"text\": \"2\", \"x\": 2.55, \"xref\": \"x1\", \"align\": \"left\", \"yref\": \"y1\", \"showarrow\": false, \"xanchor\": \"left\"}, {\"font\": {\"color\": \"#000000\"}, \"y\": 61, \"text\": \"Developer Tools\", \"x\": -0.45, \"xref\": \"x1\", \"align\": \"left\", \"yref\": \"y1\", \"showarrow\": false, \"xanchor\": \"left\"}, {\"font\": {\"color\": \"#000000\"}, \"y\": 61, \"text\": \"Community\", \"x\": 0.55, \"xref\": \"x1\", \"align\": \"left\", \"yref\": \"y1\", \"showarrow\": false, \"xanchor\": \"left\"}, {\"font\": {\"color\": \"#000000\"}, \"y\": 61, \"text\": \"3\", \"x\": 1.55, \"xref\": \"x1\", \"align\": \"left\", \"yref\": \"y1\", \"showarrow\": false, \"xanchor\": \"left\"}, {\"font\": {\"color\": \"#000000\"}, \"y\": 61, \"text\": \"2\", \"x\": 2.55, \"xref\": \"x1\", \"align\": \"left\", \"yref\": \"y1\", \"showarrow\": false, \"xanchor\": \"left\"}, {\"font\": {\"color\": \"#000000\"}, \"y\": 62, \"text\": \"Web Properties\", \"x\": -0.45, \"xref\": \"x1\", \"align\": \"left\", \"yref\": \"y1\", \"showarrow\": false, \"xanchor\": \"left\"}, {\"font\": {\"color\": \"#000000\"}, \"y\": 62, \"text\": \"Mozilla Reps\", \"x\": 0.55, \"xref\": \"x1\", \"align\": \"left\", \"yref\": \"y1\", \"showarrow\": false, \"xanchor\": \"left\"}, {\"font\": {\"color\": \"#000000\"}, \"y\": 62, \"text\": \"2\", \"x\": 1.55, \"xref\": \"x1\", \"align\": \"left\", \"yref\": \"y1\", \"showarrow\": false, \"xanchor\": \"left\"}, {\"font\": {\"color\": \"#000000\"}, \"y\": 62, \"text\": \"4\", \"x\": 2.55, \"xref\": \"x1\", \"align\": \"left\", \"yref\": \"y1\", \"showarrow\": false, \"xanchor\": \"left\"}, {\"font\": {\"color\": \"#000000\"}, \"y\": 63, \"text\": \"Servo\", \"x\": -0.45, \"xref\": \"x1\", \"align\": \"left\", \"yref\": \"y1\", \"showarrow\": false, \"xanchor\": \"left\"}, {\"font\": {\"color\": \"#000000\"}, \"y\": 63, \"text\": \"Mozilla Reps\", \"x\": 0.55, \"xref\": \"x1\", \"align\": \"left\", \"yref\": \"y1\", \"showarrow\": false, \"xanchor\": \"left\"}, {\"font\": {\"color\": \"#000000\"}, \"y\": 63, \"text\": \"2\", \"x\": 1.55, \"xref\": \"x1\", \"align\": \"left\", \"yref\": \"y1\", \"showarrow\": false, \"xanchor\": \"left\"}, {\"font\": {\"color\": \"#000000\"}, \"y\": 63, \"text\": \"2\", \"x\": 2.55, \"xref\": \"x1\", \"align\": \"left\", \"yref\": \"y1\", \"showarrow\": false, \"xanchor\": \"left\"}, {\"font\": {\"color\": \"#000000\"}, \"y\": 64, \"text\": \"Mozilla Local/Regional communities\", \"x\": -0.45, \"xref\": \"x1\", \"align\": \"left\", \"yref\": \"y1\", \"showarrow\": false, \"xanchor\": \"left\"}, {\"font\": {\"color\": \"#000000\"}, \"y\": 64, \"text\": \"Mozilla Reps\", \"x\": 0.55, \"xref\": \"x1\", \"align\": \"left\", \"yref\": \"y1\", \"showarrow\": false, \"xanchor\": \"left\"}, {\"font\": {\"color\": \"#000000\"}, \"y\": 64, \"text\": \"2\", \"x\": 1.55, \"xref\": \"x1\", \"align\": \"left\", \"yref\": \"y1\", \"showarrow\": false, \"xanchor\": \"left\"}, {\"font\": {\"color\": \"#000000\"}, \"y\": 64, \"text\": \"15\", \"x\": 2.55, \"xref\": \"x1\", \"align\": \"left\", \"yref\": \"y1\", \"showarrow\": false, \"xanchor\": \"left\"}, {\"font\": {\"color\": \"#000000\"}, \"y\": 65, \"text\": \"Web Literacy\", \"x\": -0.45, \"xref\": \"x1\", \"align\": \"left\", \"yref\": \"y1\", \"showarrow\": false, \"xanchor\": \"left\"}, {\"font\": {\"color\": \"#000000\"}, \"y\": 65, \"text\": \"Mozilla Reps\", \"x\": 0.55, \"xref\": \"x1\", \"align\": \"left\", \"yref\": \"y1\", \"showarrow\": false, \"xanchor\": \"left\"}, {\"font\": {\"color\": \"#000000\"}, \"y\": 65, \"text\": \"1\", \"x\": 1.55, \"xref\": \"x1\", \"align\": \"left\", \"yref\": \"y1\", \"showarrow\": false, \"xanchor\": \"left\"}, {\"font\": {\"color\": \"#000000\"}, \"y\": 65, \"text\": \"2\", \"x\": 2.55, \"xref\": \"x1\", \"align\": \"left\", \"yref\": \"y1\", \"showarrow\": false, \"xanchor\": \"left\"}, {\"font\": {\"color\": \"#000000\"}, \"y\": 66, \"text\": \"Vaani\", \"x\": -0.45, \"xref\": \"x1\", \"align\": \"left\", \"yref\": \"y1\", \"showarrow\": false, \"xanchor\": \"left\"}, {\"font\": {\"color\": \"#000000\"}, \"y\": 66, \"text\": \"Community\", \"x\": 0.55, \"xref\": \"x1\", \"align\": \"left\", \"yref\": \"y1\", \"showarrow\": false, \"xanchor\": \"left\"}, {\"font\": {\"color\": \"#000000\"}, \"y\": 66, \"text\": \"1\", \"x\": 1.55, \"xref\": \"x1\", \"align\": \"left\", \"yref\": \"y1\", \"showarrow\": false, \"xanchor\": \"left\"}, {\"font\": {\"color\": \"#000000\"}, \"y\": 66, \"text\": \"1\", \"x\": 2.55, \"xref\": \"x1\", \"align\": \"left\", \"yref\": \"y1\", \"showarrow\": false, \"xanchor\": \"left\"}, {\"font\": {\"color\": \"#000000\"}, \"y\": 67, \"text\": \"Campus Clubs (previously Student Ambassadors)\", \"x\": -0.45, \"xref\": \"x1\", \"align\": \"left\", \"yref\": \"y1\", \"showarrow\": false, \"xanchor\": \"left\"}, {\"font\": {\"color\": \"#000000\"}, \"y\": 67, \"text\": \"Community\", \"x\": 0.55, \"xref\": \"x1\", \"align\": \"left\", \"yref\": \"y1\", \"showarrow\": false, \"xanchor\": \"left\"}, {\"font\": {\"color\": \"#000000\"}, \"y\": 67, \"text\": \"1\", \"x\": 1.55, \"xref\": \"x1\", \"align\": \"left\", \"yref\": \"y1\", \"showarrow\": false, \"xanchor\": \"left\"}, {\"font\": {\"color\": \"#000000\"}, \"y\": 67, \"text\": \"1\", \"x\": 2.55, \"xref\": \"x1\", \"align\": \"left\", \"yref\": \"y1\", \"showarrow\": false, \"xanchor\": \"left\"}, {\"font\": {\"color\": \"#000000\"}, \"y\": 68, \"text\": \"Firefox Android\", \"x\": -0.45, \"xref\": \"x1\", \"align\": \"left\", \"yref\": \"y1\", \"showarrow\": false, \"xanchor\": \"left\"}, {\"font\": {\"color\": \"#000000\"}, \"y\": 68, \"text\": \"Community\", \"x\": 0.55, \"xref\": \"x1\", \"align\": \"left\", \"yref\": \"y1\", \"showarrow\": false, \"xanchor\": \"left\"}, {\"font\": {\"color\": \"#000000\"}, \"y\": 68, \"text\": \"1\", \"x\": 1.55, \"xref\": \"x1\", \"align\": \"left\", \"yref\": \"y1\", \"showarrow\": false, \"xanchor\": \"left\"}, {\"font\": {\"color\": \"#000000\"}, \"y\": 68, \"text\": \"1\", \"x\": 2.55, \"xref\": \"x1\", \"align\": \"left\", \"yref\": \"y1\", \"showarrow\": false, \"xanchor\": \"left\"}, {\"font\": {\"color\": \"#000000\"}, \"y\": 69, \"text\": \"Gecko\", \"x\": -0.45, \"xref\": \"x1\", \"align\": \"left\", \"yref\": \"y1\", \"showarrow\": false, \"xanchor\": \"left\"}, {\"font\": {\"color\": \"#000000\"}, \"y\": 69, \"text\": \"Mozilla Reps\", \"x\": 0.55, \"xref\": \"x1\", \"align\": \"left\", \"yref\": \"y1\", \"showarrow\": false, \"xanchor\": \"left\"}, {\"font\": {\"color\": \"#000000\"}, \"y\": 69, \"text\": \"1\", \"x\": 1.55, \"xref\": \"x1\", \"align\": \"left\", \"yref\": \"y1\", \"showarrow\": false, \"xanchor\": \"left\"}, {\"font\": {\"color\": \"#000000\"}, \"y\": 69, \"text\": \"3\", \"x\": 2.55, \"xref\": \"x1\", \"align\": \"left\", \"yref\": \"y1\", \"showarrow\": false, \"xanchor\": \"left\"}, {\"font\": {\"color\": \"#000000\"}, \"y\": 70, \"text\": \"Mozilla Developer Network (MDN)\", \"x\": -0.45, \"xref\": \"x1\", \"align\": \"left\", \"yref\": \"y1\", \"showarrow\": false, \"xanchor\": \"left\"}, {\"font\": {\"color\": \"#000000\"}, \"y\": 70, \"text\": \"Mozilla Reps\", \"x\": 0.55, \"xref\": \"x1\", \"align\": \"left\", \"yref\": \"y1\", \"showarrow\": false, \"xanchor\": \"left\"}, {\"font\": {\"color\": \"#000000\"}, \"y\": 70, \"text\": \"1\", \"x\": 1.55, \"xref\": \"x1\", \"align\": \"left\", \"yref\": \"y1\", \"showarrow\": false, \"xanchor\": \"left\"}, {\"font\": {\"color\": \"#000000\"}, \"y\": 70, \"text\": \"1\", \"x\": 2.55, \"xref\": \"x1\", \"align\": \"left\", \"yref\": \"y1\", \"showarrow\": false, \"xanchor\": \"left\"}]}, {\"showLink\": true, \"linkText\": \"Export to plot.ly\"})});</script>"
      ],
      "text/vnd.plotly.v1+html": [
       "<div id=\"aecf540f-02ab-48fa-b12f-524a1ad317a8\" style=\"height: 2180px; width: 100%;\" class=\"plotly-graph-div\"></div><script type=\"text/javascript\">require([\"plotly\"], function(Plotly) { window.PLOTLYENV=window.PLOTLYENV || {};window.PLOTLYENV.BASE_URL=\"https://plot.ly\";Plotly.newPlot(\"aecf540f-02ab-48fa-b12f-524a1ad317a8\", [{\"hoverinfo\": \"none\", \"colorscale\": [[0, \"#00083e\"], [0.5, \"#ededee\"], [1, \"#ffffff\"]], \"z\": [[0, 0, 0, 0], [0.5, 0.5, 0.5, 0.5], [1, 1, 1, 1], [0.5, 0.5, 0.5, 0.5], [1, 1, 1, 1], [0.5, 0.5, 0.5, 0.5], [1, 1, 1, 1], [0.5, 0.5, 0.5, 0.5], [1, 1, 1, 1], [0.5, 0.5, 0.5, 0.5], [1, 1, 1, 1], [0.5, 0.5, 0.5, 0.5], [1, 1, 1, 1], [0.5, 0.5, 0.5, 0.5], [1, 1, 1, 1], [0.5, 0.5, 0.5, 0.5], [1, 1, 1, 1], [0.5, 0.5, 0.5, 0.5], [1, 1, 1, 1], [0.5, 0.5, 0.5, 0.5], [1, 1, 1, 1], [0.5, 0.5, 0.5, 0.5], [1, 1, 1, 1], [0.5, 0.5, 0.5, 0.5], [1, 1, 1, 1], [0.5, 0.5, 0.5, 0.5], [1, 1, 1, 1], [0.5, 0.5, 0.5, 0.5], [1, 1, 1, 1], [0.5, 0.5, 0.5, 0.5], [1, 1, 1, 1], [0.5, 0.5, 0.5, 0.5], [1, 1, 1, 1], [0.5, 0.5, 0.5, 0.5], [1, 1, 1, 1], [0.5, 0.5, 0.5, 0.5], [1, 1, 1, 1], [0.5, 0.5, 0.5, 0.5], [1, 1, 1, 1], [0.5, 0.5, 0.5, 0.5], [1, 1, 1, 1], [0.5, 0.5, 0.5, 0.5], [1, 1, 1, 1], [0.5, 0.5, 0.5, 0.5], [1, 1, 1, 1], [0.5, 0.5, 0.5, 0.5], [1, 1, 1, 1], [0.5, 0.5, 0.5, 0.5], [1, 1, 1, 1], [0.5, 0.5, 0.5, 0.5], [1, 1, 1, 1], [0.5, 0.5, 0.5, 0.5], [1, 1, 1, 1], [0.5, 0.5, 0.5, 0.5], [1, 1, 1, 1], [0.5, 0.5, 0.5, 0.5], [1, 1, 1, 1], [0.5, 0.5, 0.5, 0.5], [1, 1, 1, 1], [0.5, 0.5, 0.5, 0.5], [1, 1, 1, 1], [0.5, 0.5, 0.5, 0.5], [1, 1, 1, 1], [0.5, 0.5, 0.5, 0.5], [1, 1, 1, 1], [0.5, 0.5, 0.5, 0.5], [1, 1, 1, 1], [0.5, 0.5, 0.5, 0.5], [1, 1, 1, 1], [0.5, 0.5, 0.5, 0.5], [1, 1, 1, 1]], \"showscale\": false, \"opacity\": 0.75, \"type\": \"heatmap\"}], {\"height\": 2180, \"yaxis\": {\"gridwidth\": 2, \"dtick\": 1, \"ticks\": \"\", \"tick0\": 0.5, \"showticklabels\": false, \"zeroline\": false, \"autorange\": \"reversed\"}, \"xaxis\": {\"gridwidth\": 2, \"dtick\": 1, \"ticks\": \"\", \"tick0\": -0.5, \"showticklabels\": false, \"zeroline\": false}, \"margin\": {\"r\": 0, \"b\": 0, \"l\": 0, \"t\": 0}, \"annotations\": [{\"font\": {\"color\": \"#ffffff\"}, \"y\": 0, \"text\": \"<b>Project</b>\", \"x\": -0.45, \"xref\": \"x1\", \"align\": \"left\", \"yref\": \"y1\", \"showarrow\": false, \"xanchor\": \"left\"}, {\"font\": {\"color\": \"#ffffff\"}, \"y\": 0, \"text\": \"<b>Org</b>\", \"x\": 0.55, \"xref\": \"x1\", \"align\": \"left\", \"yref\": \"y1\", \"showarrow\": false, \"xanchor\": \"left\"}, {\"font\": {\"color\": \"#ffffff\"}, \"y\": 0, \"text\": \"<b>uuid</b>\", \"x\": 1.55, \"xref\": \"x1\", \"align\": \"left\", \"yref\": \"y1\", \"showarrow\": false, \"xanchor\": \"left\"}, {\"font\": {\"color\": \"#ffffff\"}, \"y\": 0, \"text\": \"<b>Repo</b>\", \"x\": 2.55, \"xref\": \"x1\", \"align\": \"left\", \"yref\": \"y1\", \"showarrow\": false, \"xanchor\": \"left\"}, {\"font\": {\"color\": \"#000000\"}, \"y\": 1, \"text\": \"Gecko\", \"x\": -0.45, \"xref\": \"x1\", \"align\": \"left\", \"yref\": \"y1\", \"showarrow\": false, \"xanchor\": \"left\"}, {\"font\": {\"color\": \"#000000\"}, \"y\": 1, \"text\": \"Community\", \"x\": 0.55, \"xref\": \"x1\", \"align\": \"left\", \"yref\": \"y1\", \"showarrow\": false, \"xanchor\": \"left\"}, {\"font\": {\"color\": \"#000000\"}, \"y\": 1, \"text\": \"3975\", \"x\": 1.55, \"xref\": \"x1\", \"align\": \"left\", \"yref\": \"y1\", \"showarrow\": false, \"xanchor\": \"left\"}, {\"font\": {\"color\": \"#000000\"}, \"y\": 1, \"text\": \"5\", \"x\": 2.55, \"xref\": \"x1\", \"align\": \"left\", \"yref\": \"y1\", \"showarrow\": false, \"xanchor\": \"left\"}, {\"font\": {\"color\": \"#000000\"}, \"y\": 2, \"text\": \"Rust\", \"x\": -0.45, \"xref\": \"x1\", \"align\": \"left\", \"yref\": \"y1\", \"showarrow\": false, \"xanchor\": \"left\"}, {\"font\": {\"color\": \"#000000\"}, \"y\": 2, \"text\": \"Community\", \"x\": 0.55, \"xref\": \"x1\", \"align\": \"left\", \"yref\": \"y1\", \"showarrow\": false, \"xanchor\": \"left\"}, {\"font\": {\"color\": \"#000000\"}, \"y\": 2, \"text\": \"2288\", \"x\": 1.55, \"xref\": \"x1\", \"align\": \"left\", \"yref\": \"y1\", \"showarrow\": false, \"xanchor\": \"left\"}, {\"font\": {\"color\": \"#000000\"}, \"y\": 2, \"text\": \"25\", \"x\": 2.55, \"xref\": \"x1\", \"align\": \"left\", \"yref\": \"y1\", \"showarrow\": false, \"xanchor\": \"left\"}, {\"font\": {\"color\": \"#000000\"}, \"y\": 3, \"text\": \"IT/Ops\", \"x\": -0.45, \"xref\": \"x1\", \"align\": \"left\", \"yref\": \"y1\", \"showarrow\": false, \"xanchor\": \"left\"}, {\"font\": {\"color\": \"#000000\"}, \"y\": 3, \"text\": \"Community\", \"x\": 0.55, \"xref\": \"x1\", \"align\": \"left\", \"yref\": \"y1\", \"showarrow\": false, \"xanchor\": \"left\"}, {\"font\": {\"color\": \"#000000\"}, \"y\": 3, \"text\": \"1472\", \"x\": 1.55, \"xref\": \"x1\", \"align\": \"left\", \"yref\": \"y1\", \"showarrow\": false, \"xanchor\": \"left\"}, {\"font\": {\"color\": \"#000000\"}, \"y\": 3, \"text\": \"75\", \"x\": 2.55, \"xref\": \"x1\", \"align\": \"left\", \"yref\": \"y1\", \"showarrow\": false, \"xanchor\": \"left\"}, {\"font\": {\"color\": \"#000000\"}, \"y\": 4, \"text\": \"Gecko\", \"x\": -0.45, \"xref\": \"x1\", \"align\": \"left\", \"yref\": \"y1\", \"showarrow\": false, \"xanchor\": \"left\"}, {\"font\": {\"color\": \"#000000\"}, \"y\": 4, \"text\": \"Mozilla Staff\", \"x\": 0.55, \"xref\": \"x1\", \"align\": \"left\", \"yref\": \"y1\", \"showarrow\": false, \"xanchor\": \"left\"}, {\"font\": {\"color\": \"#000000\"}, \"y\": 4, \"text\": \"1382\", \"x\": 1.55, \"xref\": \"x1\", \"align\": \"left\", \"yref\": \"y1\", \"showarrow\": false, \"xanchor\": \"left\"}, {\"font\": {\"color\": \"#000000\"}, \"y\": 4, \"text\": \"5\", \"x\": 2.55, \"xref\": \"x1\", \"align\": \"left\", \"yref\": \"y1\", \"showarrow\": false, \"xanchor\": \"left\"}, {\"font\": {\"color\": \"#000000\"}, \"y\": 5, \"text\": \"Servo\", \"x\": -0.45, \"xref\": \"x1\", \"align\": \"left\", \"yref\": \"y1\", \"showarrow\": false, \"xanchor\": \"left\"}, {\"font\": {\"color\": \"#000000\"}, \"y\": 5, \"text\": \"Community\", \"x\": 0.55, \"xref\": \"x1\", \"align\": \"left\", \"yref\": \"y1\", \"showarrow\": false, \"xanchor\": \"left\"}, {\"font\": {\"color\": \"#000000\"}, \"y\": 5, \"text\": \"1229\", \"x\": 1.55, \"xref\": \"x1\", \"align\": \"left\", \"yref\": \"y1\", \"showarrow\": false, \"xanchor\": \"left\"}, {\"font\": {\"color\": \"#000000\"}, \"y\": 5, \"text\": \"73\", \"x\": 2.55, \"xref\": \"x1\", \"align\": \"left\", \"yref\": \"y1\", \"showarrow\": false, \"xanchor\": \"left\"}, {\"font\": {\"color\": \"#000000\"}, \"y\": 6, \"text\": \"Web Properties\", \"x\": -0.45, \"xref\": \"x1\", \"align\": \"left\", \"yref\": \"y1\", \"showarrow\": false, \"xanchor\": \"left\"}, {\"font\": {\"color\": \"#000000\"}, \"y\": 6, \"text\": \"Community\", \"x\": 0.55, \"xref\": \"x1\", \"align\": \"left\", \"yref\": \"y1\", \"showarrow\": false, \"xanchor\": \"left\"}, {\"font\": {\"color\": \"#000000\"}, \"y\": 6, \"text\": \"932\", \"x\": 1.55, \"xref\": \"x1\", \"align\": \"left\", \"yref\": \"y1\", \"showarrow\": false, \"xanchor\": \"left\"}, {\"font\": {\"color\": \"#000000\"}, \"y\": 6, \"text\": \"91\", \"x\": 2.55, \"xref\": \"x1\", \"align\": \"left\", \"yref\": \"y1\", \"showarrow\": false, \"xanchor\": \"left\"}, {\"font\": {\"color\": \"#000000\"}, \"y\": 7, \"text\": \"IT/Ops\", \"x\": -0.45, \"xref\": \"x1\", \"align\": \"left\", \"yref\": \"y1\", \"showarrow\": false, \"xanchor\": \"left\"}, {\"font\": {\"color\": \"#000000\"}, \"y\": 7, \"text\": \"Mozilla Staff\", \"x\": 0.55, \"xref\": \"x1\", \"align\": \"left\", \"yref\": \"y1\", \"showarrow\": false, \"xanchor\": \"left\"}, {\"font\": {\"color\": \"#000000\"}, \"y\": 7, \"text\": \"794\", \"x\": 1.55, \"xref\": \"x1\", \"align\": \"left\", \"yref\": \"y1\", \"showarrow\": false, \"xanchor\": \"left\"}, {\"font\": {\"color\": \"#000000\"}, \"y\": 7, \"text\": \"182\", \"x\": 2.55, \"xref\": \"x1\", \"align\": \"left\", \"yref\": \"y1\", \"showarrow\": false, \"xanchor\": \"left\"}, {\"font\": {\"color\": \"#000000\"}, \"y\": 8, \"text\": \"Web Properties\", \"x\": -0.45, \"xref\": \"x1\", \"align\": \"left\", \"yref\": \"y1\", \"showarrow\": false, \"xanchor\": \"left\"}, {\"font\": {\"color\": \"#000000\"}, \"y\": 8, \"text\": \"Mozilla Staff\", \"x\": 0.55, \"xref\": \"x1\", \"align\": \"left\", \"yref\": \"y1\", \"showarrow\": false, \"xanchor\": \"left\"}, {\"font\": {\"color\": \"#000000\"}, \"y\": 8, \"text\": \"401\", \"x\": 1.55, \"xref\": \"x1\", \"align\": \"left\", \"yref\": \"y1\", \"showarrow\": false, \"xanchor\": \"left\"}, {\"font\": {\"color\": \"#000000\"}, \"y\": 8, \"text\": \"113\", \"x\": 2.55, \"xref\": \"x1\", \"align\": \"left\", \"yref\": \"y1\", \"showarrow\": false, \"xanchor\": \"left\"}, {\"font\": {\"color\": \"#000000\"}, \"y\": 9, \"text\": \"Mozilla Local/Regional communities\", \"x\": -0.45, \"xref\": \"x1\", \"align\": \"left\", \"yref\": \"y1\", \"showarrow\": false, \"xanchor\": \"left\"}, {\"font\": {\"color\": \"#000000\"}, \"y\": 9, \"text\": \"Community\", \"x\": 0.55, \"xref\": \"x1\", \"align\": \"left\", \"yref\": \"y1\", \"showarrow\": false, \"xanchor\": \"left\"}, {\"font\": {\"color\": \"#000000\"}, \"y\": 9, \"text\": \"391\", \"x\": 1.55, \"xref\": \"x1\", \"align\": \"left\", \"yref\": \"y1\", \"showarrow\": false, \"xanchor\": \"left\"}, {\"font\": {\"color\": \"#000000\"}, \"y\": 9, \"text\": \"143\", \"x\": 2.55, \"xref\": \"x1\", \"align\": \"left\", \"yref\": \"y1\", \"showarrow\": false, \"xanchor\": \"left\"}, {\"font\": {\"color\": \"#000000\"}, \"y\": 10, \"text\": \"Addons/Web Extensions\", \"x\": -0.45, \"xref\": \"x1\", \"align\": \"left\", \"yref\": \"y1\", \"showarrow\": false, \"xanchor\": \"left\"}, {\"font\": {\"color\": \"#000000\"}, \"y\": 10, \"text\": \"Community\", \"x\": 0.55, \"xref\": \"x1\", \"align\": \"left\", \"yref\": \"y1\", \"showarrow\": false, \"xanchor\": \"left\"}, {\"font\": {\"color\": \"#000000\"}, \"y\": 10, \"text\": \"360\", \"x\": 1.55, \"xref\": \"x1\", \"align\": \"left\", \"yref\": \"y1\", \"showarrow\": false, \"xanchor\": \"left\"}, {\"font\": {\"color\": \"#000000\"}, \"y\": 10, \"text\": \"11\", \"x\": 2.55, \"xref\": \"x1\", \"align\": \"left\", \"yref\": \"y1\", \"showarrow\": false, \"xanchor\": \"left\"}, {\"font\": {\"color\": \"#000000\"}, \"y\": 11, \"text\": \"Addons/Web Extensions\", \"x\": -0.45, \"xref\": \"x1\", \"align\": \"left\", \"yref\": \"y1\", \"showarrow\": false, \"xanchor\": \"left\"}, {\"font\": {\"color\": \"#000000\"}, \"y\": 11, \"text\": \"Mozilla Staff\", \"x\": 0.55, \"xref\": \"x1\", \"align\": \"left\", \"yref\": \"y1\", \"showarrow\": false, \"xanchor\": \"left\"}, {\"font\": {\"color\": \"#000000\"}, \"y\": 11, \"text\": \"293\", \"x\": 1.55, \"xref\": \"x1\", \"align\": \"left\", \"yref\": \"y1\", \"showarrow\": false, \"xanchor\": \"left\"}, {\"font\": {\"color\": \"#000000\"}, \"y\": 11, \"text\": \"19\", \"x\": 2.55, \"xref\": \"x1\", \"align\": \"left\", \"yref\": \"y1\", \"showarrow\": false, \"xanchor\": \"left\"}, {\"font\": {\"color\": \"#000000\"}, \"y\": 12, \"text\": \"Release engineering\", \"x\": -0.45, \"xref\": \"x1\", \"align\": \"left\", \"yref\": \"y1\", \"showarrow\": false, \"xanchor\": \"left\"}, {\"font\": {\"color\": \"#000000\"}, \"y\": 12, \"text\": \"Mozilla Staff\", \"x\": 0.55, \"xref\": \"x1\", \"align\": \"left\", \"yref\": \"y1\", \"showarrow\": false, \"xanchor\": \"left\"}, {\"font\": {\"color\": \"#000000\"}, \"y\": 12, \"text\": \"221\", \"x\": 1.55, \"xref\": \"x1\", \"align\": \"left\", \"yref\": \"y1\", \"showarrow\": false, \"xanchor\": \"left\"}, {\"font\": {\"color\": \"#000000\"}, \"y\": 12, \"text\": \"22\", \"x\": 2.55, \"xref\": \"x1\", \"align\": \"left\", \"yref\": \"y1\", \"showarrow\": false, \"xanchor\": \"left\"}, {\"font\": {\"color\": \"#000000\"}, \"y\": 13, \"text\": \"WebVR\", \"x\": -0.45, \"xref\": \"x1\", \"align\": \"left\", \"yref\": \"y1\", \"showarrow\": false, \"xanchor\": \"left\"}, {\"font\": {\"color\": \"#000000\"}, \"y\": 13, \"text\": \"Community\", \"x\": 0.55, \"xref\": \"x1\", \"align\": \"left\", \"yref\": \"y1\", \"showarrow\": false, \"xanchor\": \"left\"}, {\"font\": {\"color\": \"#000000\"}, \"y\": 13, \"text\": \"208\", \"x\": 1.55, \"xref\": \"x1\", \"align\": \"left\", \"yref\": \"y1\", \"showarrow\": false, \"xanchor\": \"left\"}, {\"font\": {\"color\": \"#000000\"}, \"y\": 13, \"text\": \"19\", \"x\": 2.55, \"xref\": \"x1\", \"align\": \"left\", \"yref\": \"y1\", \"showarrow\": false, \"xanchor\": \"left\"}, {\"font\": {\"color\": \"#000000\"}, \"y\": 14, \"text\": \"Servo\", \"x\": -0.45, \"xref\": \"x1\", \"align\": \"left\", \"yref\": \"y1\", \"showarrow\": false, \"xanchor\": \"left\"}, {\"font\": {\"color\": \"#000000\"}, \"y\": 14, \"text\": \"Mozilla Staff\", \"x\": 0.55, \"xref\": \"x1\", \"align\": \"left\", \"yref\": \"y1\", \"showarrow\": false, \"xanchor\": \"left\"}, {\"font\": {\"color\": \"#000000\"}, \"y\": 14, \"text\": \"197\", \"x\": 1.55, \"xref\": \"x1\", \"align\": \"left\", \"yref\": \"y1\", \"showarrow\": false, \"xanchor\": \"left\"}, {\"font\": {\"color\": \"#000000\"}, \"y\": 14, \"text\": \"80\", \"x\": 2.55, \"xref\": \"x1\", \"align\": \"left\", \"yref\": \"y1\", \"showarrow\": false, \"xanchor\": \"left\"}, {\"font\": {\"color\": \"#000000\"}, \"y\": 15, \"text\": \"Web Literacy\", \"x\": -0.45, \"xref\": \"x1\", \"align\": \"left\", \"yref\": \"y1\", \"showarrow\": false, \"xanchor\": \"left\"}, {\"font\": {\"color\": \"#000000\"}, \"y\": 15, \"text\": \"Community\", \"x\": 0.55, \"xref\": \"x1\", \"align\": \"left\", \"yref\": \"y1\", \"showarrow\": false, \"xanchor\": \"left\"}, {\"font\": {\"color\": \"#000000\"}, \"y\": 15, \"text\": \"156\", \"x\": 1.55, \"xref\": \"x1\", \"align\": \"left\", \"yref\": \"y1\", \"showarrow\": false, \"xanchor\": \"left\"}, {\"font\": {\"color\": \"#000000\"}, \"y\": 15, \"text\": \"40\", \"x\": 2.55, \"xref\": \"x1\", \"align\": \"left\", \"yref\": \"y1\", \"showarrow\": false, \"xanchor\": \"left\"}, {\"font\": {\"color\": \"#000000\"}, \"y\": 16, \"text\": \"Rust\", \"x\": -0.45, \"xref\": \"x1\", \"align\": \"left\", \"yref\": \"y1\", \"showarrow\": false, \"xanchor\": \"left\"}, {\"font\": {\"color\": \"#000000\"}, \"y\": 16, \"text\": \"Mozilla Staff\", \"x\": 0.55, \"xref\": \"x1\", \"align\": \"left\", \"yref\": \"y1\", \"showarrow\": false, \"xanchor\": \"left\"}, {\"font\": {\"color\": \"#000000\"}, \"y\": 16, \"text\": \"140\", \"x\": 1.55, \"xref\": \"x1\", \"align\": \"left\", \"yref\": \"y1\", \"showarrow\": false, \"xanchor\": \"left\"}, {\"font\": {\"color\": \"#000000\"}, \"y\": 16, \"text\": \"27\", \"x\": 2.55, \"xref\": \"x1\", \"align\": \"left\", \"yref\": \"y1\", \"showarrow\": false, \"xanchor\": \"left\"}, {\"font\": {\"color\": \"#000000\"}, \"y\": 17, \"text\": \"Firefox OS (FxOS / B2G)\", \"x\": -0.45, \"xref\": \"x1\", \"align\": \"left\", \"yref\": \"y1\", \"showarrow\": false, \"xanchor\": \"left\"}, {\"font\": {\"color\": \"#000000\"}, \"y\": 17, \"text\": \"Mozilla Staff\", \"x\": 0.55, \"xref\": \"x1\", \"align\": \"left\", \"yref\": \"y1\", \"showarrow\": false, \"xanchor\": \"left\"}, {\"font\": {\"color\": \"#000000\"}, \"y\": 17, \"text\": \"112\", \"x\": 1.55, \"xref\": \"x1\", \"align\": \"left\", \"yref\": \"y1\", \"showarrow\": false, \"xanchor\": \"left\"}, {\"font\": {\"color\": \"#000000\"}, \"y\": 17, \"text\": \"26\", \"x\": 2.55, \"xref\": \"x1\", \"align\": \"left\", \"yref\": \"y1\", \"showarrow\": false, \"xanchor\": \"left\"}, {\"font\": {\"color\": \"#000000\"}, \"y\": 18, \"text\": \"Mozilla Developer Network (MDN)\", \"x\": -0.45, \"xref\": \"x1\", \"align\": \"left\", \"yref\": \"y1\", \"showarrow\": false, \"xanchor\": \"left\"}, {\"font\": {\"color\": \"#000000\"}, \"y\": 18, \"text\": \"Community\", \"x\": 0.55, \"xref\": \"x1\", \"align\": \"left\", \"yref\": \"y1\", \"showarrow\": false, \"xanchor\": \"left\"}, {\"font\": {\"color\": \"#000000\"}, \"y\": 18, \"text\": \"112\", \"x\": 1.55, \"xref\": \"x1\", \"align\": \"left\", \"yref\": \"y1\", \"showarrow\": false, \"xanchor\": \"left\"}, {\"font\": {\"color\": \"#000000\"}, \"y\": 18, \"text\": \"27\", \"x\": 2.55, \"xref\": \"x1\", \"align\": \"left\", \"yref\": \"y1\", \"showarrow\": false, \"xanchor\": \"left\"}, {\"font\": {\"color\": \"#000000\"}, \"y\": 19, \"text\": \"Mozilla Science\", \"x\": -0.45, \"xref\": \"x1\", \"align\": \"left\", \"yref\": \"y1\", \"showarrow\": false, \"xanchor\": \"left\"}, {\"font\": {\"color\": \"#000000\"}, \"y\": 19, \"text\": \"Community\", \"x\": 0.55, \"xref\": \"x1\", \"align\": \"left\", \"yref\": \"y1\", \"showarrow\": false, \"xanchor\": \"left\"}, {\"font\": {\"color\": \"#000000\"}, \"y\": 19, \"text\": \"99\", \"x\": 1.55, \"xref\": \"x1\", \"align\": \"left\", \"yref\": \"y1\", \"showarrow\": false, \"xanchor\": \"left\"}, {\"font\": {\"color\": \"#000000\"}, \"y\": 19, \"text\": \"34\", \"x\": 2.55, \"xref\": \"x1\", \"align\": \"left\", \"yref\": \"y1\", \"showarrow\": false, \"xanchor\": \"left\"}, {\"font\": {\"color\": \"#000000\"}, \"y\": 20, \"text\": \"Mozilla Local/Regional communities\", \"x\": -0.45, \"xref\": \"x1\", \"align\": \"left\", \"yref\": \"y1\", \"showarrow\": false, \"xanchor\": \"left\"}, {\"font\": {\"color\": \"#000000\"}, \"y\": 20, \"text\": \"Mozilla Staff\", \"x\": 0.55, \"xref\": \"x1\", \"align\": \"left\", \"yref\": \"y1\", \"showarrow\": false, \"xanchor\": \"left\"}, {\"font\": {\"color\": \"#000000\"}, \"y\": 20, \"text\": \"93\", \"x\": 1.55, \"xref\": \"x1\", \"align\": \"left\", \"yref\": \"y1\", \"showarrow\": false, \"xanchor\": \"left\"}, {\"font\": {\"color\": \"#000000\"}, \"y\": 20, \"text\": \"77\", \"x\": 2.55, \"xref\": \"x1\", \"align\": \"left\", \"yref\": \"y1\", \"showarrow\": false, \"xanchor\": \"left\"}, {\"font\": {\"color\": \"#000000\"}, \"y\": 21, \"text\": \"Localization\", \"x\": -0.45, \"xref\": \"x1\", \"align\": \"left\", \"yref\": \"y1\", \"showarrow\": false, \"xanchor\": \"left\"}, {\"font\": {\"color\": \"#000000\"}, \"y\": 21, \"text\": \"Community\", \"x\": 0.55, \"xref\": \"x1\", \"align\": \"left\", \"yref\": \"y1\", \"showarrow\": false, \"xanchor\": \"left\"}, {\"font\": {\"color\": \"#000000\"}, \"y\": 21, \"text\": \"86\", \"x\": 1.55, \"xref\": \"x1\", \"align\": \"left\", \"yref\": \"y1\", \"showarrow\": false, \"xanchor\": \"left\"}, {\"font\": {\"color\": \"#000000\"}, \"y\": 21, \"text\": \"4\", \"x\": 2.55, \"xref\": \"x1\", \"align\": \"left\", \"yref\": \"y1\", \"showarrow\": false, \"xanchor\": \"left\"}, {\"font\": {\"color\": \"#000000\"}, \"y\": 22, \"text\": \"Firefox OS (FxOS / B2G)\", \"x\": -0.45, \"xref\": \"x1\", \"align\": \"left\", \"yref\": \"y1\", \"showarrow\": false, \"xanchor\": \"left\"}, {\"font\": {\"color\": \"#000000\"}, \"y\": 22, \"text\": \"Community\", \"x\": 0.55, \"xref\": \"x1\", \"align\": \"left\", \"yref\": \"y1\", \"showarrow\": false, \"xanchor\": \"left\"}, {\"font\": {\"color\": \"#000000\"}, \"y\": 22, \"text\": \"85\", \"x\": 1.55, \"xref\": \"x1\", \"align\": \"left\", \"yref\": \"y1\", \"showarrow\": false, \"xanchor\": \"left\"}, {\"font\": {\"color\": \"#000000\"}, \"y\": 22, \"text\": \"18\", \"x\": 2.55, \"xref\": \"x1\", \"align\": \"left\", \"yref\": \"y1\", \"showarrow\": false, \"xanchor\": \"left\"}, {\"font\": {\"color\": \"#000000\"}, \"y\": 23, \"text\": \"Mozilla Foundation\", \"x\": -0.45, \"xref\": \"x1\", \"align\": \"left\", \"yref\": \"y1\", \"showarrow\": false, \"xanchor\": \"left\"}, {\"font\": {\"color\": \"#000000\"}, \"y\": 23, \"text\": \"Community\", \"x\": 0.55, \"xref\": \"x1\", \"align\": \"left\", \"yref\": \"y1\", \"showarrow\": false, \"xanchor\": \"left\"}, {\"font\": {\"color\": \"#000000\"}, \"y\": 23, \"text\": \"85\", \"x\": 1.55, \"xref\": \"x1\", \"align\": \"left\", \"yref\": \"y1\", \"showarrow\": false, \"xanchor\": \"left\"}, {\"font\": {\"color\": \"#000000\"}, \"y\": 23, \"text\": \"24\", \"x\": 2.55, \"xref\": \"x1\", \"align\": \"left\", \"yref\": \"y1\", \"showarrow\": false, \"xanchor\": \"left\"}, {\"font\": {\"color\": \"#000000\"}, \"y\": 24, \"text\": \"Test Pilot\", \"x\": -0.45, \"xref\": \"x1\", \"align\": \"left\", \"yref\": \"y1\", \"showarrow\": false, \"xanchor\": \"left\"}, {\"font\": {\"color\": \"#000000\"}, \"y\": 24, \"text\": \"Community\", \"x\": 0.55, \"xref\": \"x1\", \"align\": \"left\", \"yref\": \"y1\", \"showarrow\": false, \"xanchor\": \"left\"}, {\"font\": {\"color\": \"#000000\"}, \"y\": 24, \"text\": \"85\", \"x\": 1.55, \"xref\": \"x1\", \"align\": \"left\", \"yref\": \"y1\", \"showarrow\": false, \"xanchor\": \"left\"}, {\"font\": {\"color\": \"#000000\"}, \"y\": 24, \"text\": \"2\", \"x\": 2.55, \"xref\": \"x1\", \"align\": \"left\", \"yref\": \"y1\", \"showarrow\": false, \"xanchor\": \"left\"}, {\"font\": {\"color\": \"#000000\"}, \"y\": 25, \"text\": \"Mozilla Location Service (MLS) / Stumbler\", \"x\": -0.45, \"xref\": \"x1\", \"align\": \"left\", \"yref\": \"y1\", \"showarrow\": false, \"xanchor\": \"left\"}, {\"font\": {\"color\": \"#000000\"}, \"y\": 25, \"text\": \"Community\", \"x\": 0.55, \"xref\": \"x1\", \"align\": \"left\", \"yref\": \"y1\", \"showarrow\": false, \"xanchor\": \"left\"}, {\"font\": {\"color\": \"#000000\"}, \"y\": 25, \"text\": \"73\", \"x\": 1.55, \"xref\": \"x1\", \"align\": \"left\", \"yref\": \"y1\", \"showarrow\": false, \"xanchor\": \"left\"}, {\"font\": {\"color\": \"#000000\"}, \"y\": 25, \"text\": \"1\", \"x\": 2.55, \"xref\": \"x1\", \"align\": \"left\", \"yref\": \"y1\", \"showarrow\": false, \"xanchor\": \"left\"}, {\"font\": {\"color\": \"#000000\"}, \"y\": 26, \"text\": \"Release engineering\", \"x\": -0.45, \"xref\": \"x1\", \"align\": \"left\", \"yref\": \"y1\", \"showarrow\": false, \"xanchor\": \"left\"}, {\"font\": {\"color\": \"#000000\"}, \"y\": 26, \"text\": \"Community\", \"x\": 0.55, \"xref\": \"x1\", \"align\": \"left\", \"yref\": \"y1\", \"showarrow\": false, \"xanchor\": \"left\"}, {\"font\": {\"color\": \"#000000\"}, \"y\": 26, \"text\": \"68\", \"x\": 1.55, \"xref\": \"x1\", \"align\": \"left\", \"yref\": \"y1\", \"showarrow\": false, \"xanchor\": \"left\"}, {\"font\": {\"color\": \"#000000\"}, \"y\": 26, \"text\": \"9\", \"x\": 2.55, \"xref\": \"x1\", \"align\": \"left\", \"yref\": \"y1\", \"showarrow\": false, \"xanchor\": \"left\"}, {\"font\": {\"color\": \"#000000\"}, \"y\": 27, \"text\": \"Firefox iOS\", \"x\": -0.45, \"xref\": \"x1\", \"align\": \"left\", \"yref\": \"y1\", \"showarrow\": false, \"xanchor\": \"left\"}, {\"font\": {\"color\": \"#000000\"}, \"y\": 27, \"text\": \"Community\", \"x\": 0.55, \"xref\": \"x1\", \"align\": \"left\", \"yref\": \"y1\", \"showarrow\": false, \"xanchor\": \"left\"}, {\"font\": {\"color\": \"#000000\"}, \"y\": 27, \"text\": \"65\", \"x\": 1.55, \"xref\": \"x1\", \"align\": \"left\", \"yref\": \"y1\", \"showarrow\": false, \"xanchor\": \"left\"}, {\"font\": {\"color\": \"#000000\"}, \"y\": 27, \"text\": \"3\", \"x\": 2.55, \"xref\": \"x1\", \"align\": \"left\", \"yref\": \"y1\", \"showarrow\": false, \"xanchor\": \"left\"}, {\"font\": {\"color\": \"#000000\"}, \"y\": 28, \"text\": \"Web Literacy\", \"x\": -0.45, \"xref\": \"x1\", \"align\": \"left\", \"yref\": \"y1\", \"showarrow\": false, \"xanchor\": \"left\"}, {\"font\": {\"color\": \"#000000\"}, \"y\": 28, \"text\": \"Mozilla Staff\", \"x\": 0.55, \"xref\": \"x1\", \"align\": \"left\", \"yref\": \"y1\", \"showarrow\": false, \"xanchor\": \"left\"}, {\"font\": {\"color\": \"#000000\"}, \"y\": 28, \"text\": \"53\", \"x\": 1.55, \"xref\": \"x1\", \"align\": \"left\", \"yref\": \"y1\", \"showarrow\": false, \"xanchor\": \"left\"}, {\"font\": {\"color\": \"#000000\"}, \"y\": 28, \"text\": \"51\", \"x\": 2.55, \"xref\": \"x1\", \"align\": \"left\", \"yref\": \"y1\", \"showarrow\": false, \"xanchor\": \"left\"}, {\"font\": {\"color\": \"#000000\"}, \"y\": 29, \"text\": \"Mozilla Developer Network (MDN)\", \"x\": -0.45, \"xref\": \"x1\", \"align\": \"left\", \"yref\": \"y1\", \"showarrow\": false, \"xanchor\": \"left\"}, {\"font\": {\"color\": \"#000000\"}, \"y\": 29, \"text\": \"Mozilla Staff\", \"x\": 0.55, \"xref\": \"x1\", \"align\": \"left\", \"yref\": \"y1\", \"showarrow\": false, \"xanchor\": \"left\"}, {\"font\": {\"color\": \"#000000\"}, \"y\": 29, \"text\": \"52\", \"x\": 1.55, \"xref\": \"x1\", \"align\": \"left\", \"yref\": \"y1\", \"showarrow\": false, \"xanchor\": \"left\"}, {\"font\": {\"color\": \"#000000\"}, \"y\": 29, \"text\": \"47\", \"x\": 2.55, \"xref\": \"x1\", \"align\": \"left\", \"yref\": \"y1\", \"showarrow\": false, \"xanchor\": \"left\"}, {\"font\": {\"color\": \"#000000\"}, \"y\": 30, \"text\": \"Marketing / Social Media\", \"x\": -0.45, \"xref\": \"x1\", \"align\": \"left\", \"yref\": \"y1\", \"showarrow\": false, \"xanchor\": \"left\"}, {\"font\": {\"color\": \"#000000\"}, \"y\": 30, \"text\": \"Mozilla Staff\", \"x\": 0.55, \"xref\": \"x1\", \"align\": \"left\", \"yref\": \"y1\", \"showarrow\": false, \"xanchor\": \"left\"}, {\"font\": {\"color\": \"#000000\"}, \"y\": 30, \"text\": \"50\", \"x\": 1.55, \"xref\": \"x1\", \"align\": \"left\", \"yref\": \"y1\", \"showarrow\": false, \"xanchor\": \"left\"}, {\"font\": {\"color\": \"#000000\"}, \"y\": 30, \"text\": \"15\", \"x\": 2.55, \"xref\": \"x1\", \"align\": \"left\", \"yref\": \"y1\", \"showarrow\": false, \"xanchor\": \"left\"}, {\"font\": {\"color\": \"#000000\"}, \"y\": 31, \"text\": \"Test Pilot\", \"x\": -0.45, \"xref\": \"x1\", \"align\": \"left\", \"yref\": \"y1\", \"showarrow\": false, \"xanchor\": \"left\"}, {\"font\": {\"color\": \"#000000\"}, \"y\": 31, \"text\": \"Mozilla Staff\", \"x\": 0.55, \"xref\": \"x1\", \"align\": \"left\", \"yref\": \"y1\", \"showarrow\": false, \"xanchor\": \"left\"}, {\"font\": {\"color\": \"#000000\"}, \"y\": 31, \"text\": \"49\", \"x\": 1.55, \"xref\": \"x1\", \"align\": \"left\", \"yref\": \"y1\", \"showarrow\": false, \"xanchor\": \"left\"}, {\"font\": {\"color\": \"#000000\"}, \"y\": 31, \"text\": \"6\", \"x\": 2.55, \"xref\": \"x1\", \"align\": \"left\", \"yref\": \"y1\", \"showarrow\": false, \"xanchor\": \"left\"}, {\"font\": {\"color\": \"#000000\"}, \"y\": 32, \"text\": \"Quality Assurance\", \"x\": -0.45, \"xref\": \"x1\", \"align\": \"left\", \"yref\": \"y1\", \"showarrow\": false, \"xanchor\": \"left\"}, {\"font\": {\"color\": \"#000000\"}, \"y\": 32, \"text\": \"Mozilla Staff\", \"x\": 0.55, \"xref\": \"x1\", \"align\": \"left\", \"yref\": \"y1\", \"showarrow\": false, \"xanchor\": \"left\"}, {\"font\": {\"color\": \"#000000\"}, \"y\": 32, \"text\": \"45\", \"x\": 1.55, \"xref\": \"x1\", \"align\": \"left\", \"yref\": \"y1\", \"showarrow\": false, \"xanchor\": \"left\"}, {\"font\": {\"color\": \"#000000\"}, \"y\": 32, \"text\": \"3\", \"x\": 2.55, \"xref\": \"x1\", \"align\": \"left\", \"yref\": \"y1\", \"showarrow\": false, \"xanchor\": \"left\"}, {\"font\": {\"color\": \"#000000\"}, \"y\": 33, \"text\": \"Quality Assurance\", \"x\": -0.45, \"xref\": \"x1\", \"align\": \"left\", \"yref\": \"y1\", \"showarrow\": false, \"xanchor\": \"left\"}, {\"font\": {\"color\": \"#000000\"}, \"y\": 33, \"text\": \"Community\", \"x\": 0.55, \"xref\": \"x1\", \"align\": \"left\", \"yref\": \"y1\", \"showarrow\": false, \"xanchor\": \"left\"}, {\"font\": {\"color\": \"#000000\"}, \"y\": 33, \"text\": \"40\", \"x\": 1.55, \"xref\": \"x1\", \"align\": \"left\", \"yref\": \"y1\", \"showarrow\": false, \"xanchor\": \"left\"}, {\"font\": {\"color\": \"#000000\"}, \"y\": 33, \"text\": \"2\", \"x\": 2.55, \"xref\": \"x1\", \"align\": \"left\", \"yref\": \"y1\", \"showarrow\": false, \"xanchor\": \"left\"}, {\"font\": {\"color\": \"#000000\"}, \"y\": 34, \"text\": \"Advocacy and policy\", \"x\": -0.45, \"xref\": \"x1\", \"align\": \"left\", \"yref\": \"y1\", \"showarrow\": false, \"xanchor\": \"left\"}, {\"font\": {\"color\": \"#000000\"}, \"y\": 34, \"text\": \"Community\", \"x\": 0.55, \"xref\": \"x1\", \"align\": \"left\", \"yref\": \"y1\", \"showarrow\": false, \"xanchor\": \"left\"}, {\"font\": {\"color\": \"#000000\"}, \"y\": 34, \"text\": \"38\", \"x\": 1.55, \"xref\": \"x1\", \"align\": \"left\", \"yref\": \"y1\", \"showarrow\": false, \"xanchor\": \"left\"}, {\"font\": {\"color\": \"#000000\"}, \"y\": 34, \"text\": \"4\", \"x\": 2.55, \"xref\": \"x1\", \"align\": \"left\", \"yref\": \"y1\", \"showarrow\": false, \"xanchor\": \"left\"}, {\"font\": {\"color\": \"#000000\"}, \"y\": 35, \"text\": \"Advocacy and policy\", \"x\": -0.45, \"xref\": \"x1\", \"align\": \"left\", \"yref\": \"y1\", \"showarrow\": false, \"xanchor\": \"left\"}, {\"font\": {\"color\": \"#000000\"}, \"y\": 35, \"text\": \"Mozilla Staff\", \"x\": 0.55, \"xref\": \"x1\", \"align\": \"left\", \"yref\": \"y1\", \"showarrow\": false, \"xanchor\": \"left\"}, {\"font\": {\"color\": \"#000000\"}, \"y\": 35, \"text\": \"36\", \"x\": 1.55, \"xref\": \"x1\", \"align\": \"left\", \"yref\": \"y1\", \"showarrow\": false, \"xanchor\": \"left\"}, {\"font\": {\"color\": \"#000000\"}, \"y\": 35, \"text\": \"4\", \"x\": 2.55, \"xref\": \"x1\", \"align\": \"left\", \"yref\": \"y1\", \"showarrow\": false, \"xanchor\": \"left\"}, {\"font\": {\"color\": \"#000000\"}, \"y\": 36, \"text\": \"Localization\", \"x\": -0.45, \"xref\": \"x1\", \"align\": \"left\", \"yref\": \"y1\", \"showarrow\": false, \"xanchor\": \"left\"}, {\"font\": {\"color\": \"#000000\"}, \"y\": 36, \"text\": \"Mozilla Staff\", \"x\": 0.55, \"xref\": \"x1\", \"align\": \"left\", \"yref\": \"y1\", \"showarrow\": false, \"xanchor\": \"left\"}, {\"font\": {\"color\": \"#000000\"}, \"y\": 36, \"text\": \"35\", \"x\": 1.55, \"xref\": \"x1\", \"align\": \"left\", \"yref\": \"y1\", \"showarrow\": false, \"xanchor\": \"left\"}, {\"font\": {\"color\": \"#000000\"}, \"y\": 36, \"text\": \"4\", \"x\": 2.55, \"xref\": \"x1\", \"align\": \"left\", \"yref\": \"y1\", \"showarrow\": false, \"xanchor\": \"left\"}, {\"font\": {\"color\": \"#000000\"}, \"y\": 37, \"text\": \"Firefox iOS\", \"x\": -0.45, \"xref\": \"x1\", \"align\": \"left\", \"yref\": \"y1\", \"showarrow\": false, \"xanchor\": \"left\"}, {\"font\": {\"color\": \"#000000\"}, \"y\": 37, \"text\": \"Mozilla Staff\", \"x\": 0.55, \"xref\": \"x1\", \"align\": \"left\", \"yref\": \"y1\", \"showarrow\": false, \"xanchor\": \"left\"}, {\"font\": {\"color\": \"#000000\"}, \"y\": 37, \"text\": \"32\", \"x\": 1.55, \"xref\": \"x1\", \"align\": \"left\", \"yref\": \"y1\", \"showarrow\": false, \"xanchor\": \"left\"}, {\"font\": {\"color\": \"#000000\"}, \"y\": 37, \"text\": \"5\", \"x\": 2.55, \"xref\": \"x1\", \"align\": \"left\", \"yref\": \"y1\", \"showarrow\": false, \"xanchor\": \"left\"}, {\"font\": {\"color\": \"#000000\"}, \"y\": 38, \"text\": \"Mozilla Foundation\", \"x\": -0.45, \"xref\": \"x1\", \"align\": \"left\", \"yref\": \"y1\", \"showarrow\": false, \"xanchor\": \"left\"}, {\"font\": {\"color\": \"#000000\"}, \"y\": 38, \"text\": \"Mozilla Staff\", \"x\": 0.55, \"xref\": \"x1\", \"align\": \"left\", \"yref\": \"y1\", \"showarrow\": false, \"xanchor\": \"left\"}, {\"font\": {\"color\": \"#000000\"}, \"y\": 38, \"text\": \"30\", \"x\": 1.55, \"xref\": \"x1\", \"align\": \"left\", \"yref\": \"y1\", \"showarrow\": false, \"xanchor\": \"left\"}, {\"font\": {\"color\": \"#000000\"}, \"y\": 38, \"text\": \"36\", \"x\": 2.55, \"xref\": \"x1\", \"align\": \"left\", \"yref\": \"y1\", \"showarrow\": false, \"xanchor\": \"left\"}, {\"font\": {\"color\": \"#000000\"}, \"y\": 39, \"text\": \"WebVR\", \"x\": -0.45, \"xref\": \"x1\", \"align\": \"left\", \"yref\": \"y1\", \"showarrow\": false, \"xanchor\": \"left\"}, {\"font\": {\"color\": \"#000000\"}, \"y\": 39, \"text\": \"Mozilla Staff\", \"x\": 0.55, \"xref\": \"x1\", \"align\": \"left\", \"yref\": \"y1\", \"showarrow\": false, \"xanchor\": \"left\"}, {\"font\": {\"color\": \"#000000\"}, \"y\": 39, \"text\": \"26\", \"x\": 1.55, \"xref\": \"x1\", \"align\": \"left\", \"yref\": \"y1\", \"showarrow\": false, \"xanchor\": \"left\"}, {\"font\": {\"color\": \"#000000\"}, \"y\": 39, \"text\": \"29\", \"x\": 2.55, \"xref\": \"x1\", \"align\": \"left\", \"yref\": \"y1\", \"showarrow\": false, \"xanchor\": \"left\"}, {\"font\": {\"color\": \"#000000\"}, \"y\": 40, \"text\": \"Mozilla Creative & Design\", \"x\": -0.45, \"xref\": \"x1\", \"align\": \"left\", \"yref\": \"y1\", \"showarrow\": false, \"xanchor\": \"left\"}, {\"font\": {\"color\": \"#000000\"}, \"y\": 40, \"text\": \"Community\", \"x\": 0.55, \"xref\": \"x1\", \"align\": \"left\", \"yref\": \"y1\", \"showarrow\": false, \"xanchor\": \"left\"}, {\"font\": {\"color\": \"#000000\"}, \"y\": 40, \"text\": \"21\", \"x\": 1.55, \"xref\": \"x1\", \"align\": \"left\", \"yref\": \"y1\", \"showarrow\": false, \"xanchor\": \"left\"}, {\"font\": {\"color\": \"#000000\"}, \"y\": 40, \"text\": \"2\", \"x\": 2.55, \"xref\": \"x1\", \"align\": \"left\", \"yref\": \"y1\", \"showarrow\": false, \"xanchor\": \"left\"}, {\"font\": {\"color\": \"#000000\"}, \"y\": 41, \"text\": \"Firefox\", \"x\": -0.45, \"xref\": \"x1\", \"align\": \"left\", \"yref\": \"y1\", \"showarrow\": false, \"xanchor\": \"left\"}, {\"font\": {\"color\": \"#000000\"}, \"y\": 41, \"text\": \"Mozilla Staff\", \"x\": 0.55, \"xref\": \"x1\", \"align\": \"left\", \"yref\": \"y1\", \"showarrow\": false, \"xanchor\": \"left\"}, {\"font\": {\"color\": \"#000000\"}, \"y\": 41, \"text\": \"20\", \"x\": 1.55, \"xref\": \"x1\", \"align\": \"left\", \"yref\": \"y1\", \"showarrow\": false, \"xanchor\": \"left\"}, {\"font\": {\"color\": \"#000000\"}, \"y\": 41, \"text\": \"1\", \"x\": 2.55, \"xref\": \"x1\", \"align\": \"left\", \"yref\": \"y1\", \"showarrow\": false, \"xanchor\": \"left\"}, {\"font\": {\"color\": \"#000000\"}, \"y\": 42, \"text\": \"Mozilla Location Service (MLS) / Stumbler\", \"x\": -0.45, \"xref\": \"x1\", \"align\": \"left\", \"yref\": \"y1\", \"showarrow\": false, \"xanchor\": \"left\"}, {\"font\": {\"color\": \"#000000\"}, \"y\": 42, \"text\": \"Mozilla Staff\", \"x\": 0.55, \"xref\": \"x1\", \"align\": \"left\", \"yref\": \"y1\", \"showarrow\": false, \"xanchor\": \"left\"}, {\"font\": {\"color\": \"#000000\"}, \"y\": 42, \"text\": \"19\", \"x\": 1.55, \"xref\": \"x1\", \"align\": \"left\", \"yref\": \"y1\", \"showarrow\": false, \"xanchor\": \"left\"}, {\"font\": {\"color\": \"#000000\"}, \"y\": 42, \"text\": \"1\", \"x\": 2.55, \"xref\": \"x1\", \"align\": \"left\", \"yref\": \"y1\", \"showarrow\": false, \"xanchor\": \"left\"}, {\"font\": {\"color\": \"#000000\"}, \"y\": 43, \"text\": \"Marketing / Social Media\", \"x\": -0.45, \"xref\": \"x1\", \"align\": \"left\", \"yref\": \"y1\", \"showarrow\": false, \"xanchor\": \"left\"}, {\"font\": {\"color\": \"#000000\"}, \"y\": 43, \"text\": \"Community\", \"x\": 0.55, \"xref\": \"x1\", \"align\": \"left\", \"yref\": \"y1\", \"showarrow\": false, \"xanchor\": \"left\"}, {\"font\": {\"color\": \"#000000\"}, \"y\": 43, \"text\": \"18\", \"x\": 1.55, \"xref\": \"x1\", \"align\": \"left\", \"yref\": \"y1\", \"showarrow\": false, \"xanchor\": \"left\"}, {\"font\": {\"color\": \"#000000\"}, \"y\": 43, \"text\": \"7\", \"x\": 2.55, \"xref\": \"x1\", \"align\": \"left\", \"yref\": \"y1\", \"showarrow\": false, \"xanchor\": \"left\"}, {\"font\": {\"color\": \"#000000\"}, \"y\": 44, \"text\": \"Technical/Developer Evangelism\", \"x\": -0.45, \"xref\": \"x1\", \"align\": \"left\", \"yref\": \"y1\", \"showarrow\": false, \"xanchor\": \"left\"}, {\"font\": {\"color\": \"#000000\"}, \"y\": 44, \"text\": \"Community\", \"x\": 0.55, \"xref\": \"x1\", \"align\": \"left\", \"yref\": \"y1\", \"showarrow\": false, \"xanchor\": \"left\"}, {\"font\": {\"color\": \"#000000\"}, \"y\": 44, \"text\": \"16\", \"x\": 1.55, \"xref\": \"x1\", \"align\": \"left\", \"yref\": \"y1\", \"showarrow\": false, \"xanchor\": \"left\"}, {\"font\": {\"color\": \"#000000\"}, \"y\": 44, \"text\": \"6\", \"x\": 2.55, \"xref\": \"x1\", \"align\": \"left\", \"yref\": \"y1\", \"showarrow\": false, \"xanchor\": \"left\"}, {\"font\": {\"color\": \"#000000\"}, \"y\": 45, \"text\": \"Technical/Developer Evangelism\", \"x\": -0.45, \"xref\": \"x1\", \"align\": \"left\", \"yref\": \"y1\", \"showarrow\": false, \"xanchor\": \"left\"}, {\"font\": {\"color\": \"#000000\"}, \"y\": 45, \"text\": \"Mozilla Staff\", \"x\": 0.55, \"xref\": \"x1\", \"align\": \"left\", \"yref\": \"y1\", \"showarrow\": false, \"xanchor\": \"left\"}, {\"font\": {\"color\": \"#000000\"}, \"y\": 45, \"text\": \"14\", \"x\": 1.55, \"xref\": \"x1\", \"align\": \"left\", \"yref\": \"y1\", \"showarrow\": false, \"xanchor\": \"left\"}, {\"font\": {\"color\": \"#000000\"}, \"y\": 45, \"text\": \"17\", \"x\": 2.55, \"xref\": \"x1\", \"align\": \"left\", \"yref\": \"y1\", \"showarrow\": false, \"xanchor\": \"left\"}, {\"font\": {\"color\": \"#000000\"}, \"y\": 46, \"text\": \"Vaani\", \"x\": -0.45, \"xref\": \"x1\", \"align\": \"left\", \"yref\": \"y1\", \"showarrow\": false, \"xanchor\": \"left\"}, {\"font\": {\"color\": \"#000000\"}, \"y\": 46, \"text\": \"Mozilla Staff\", \"x\": 0.55, \"xref\": \"x1\", \"align\": \"left\", \"yref\": \"y1\", \"showarrow\": false, \"xanchor\": \"left\"}, {\"font\": {\"color\": \"#000000\"}, \"y\": 46, \"text\": \"11\", \"x\": 1.55, \"xref\": \"x1\", \"align\": \"left\", \"yref\": \"y1\", \"showarrow\": false, \"xanchor\": \"left\"}, {\"font\": {\"color\": \"#000000\"}, \"y\": 46, \"text\": \"8\", \"x\": 2.55, \"xref\": \"x1\", \"align\": \"left\", \"yref\": \"y1\", \"showarrow\": false, \"xanchor\": \"left\"}, {\"font\": {\"color\": \"#000000\"}, \"y\": 47, \"text\": \"Mozilla Creative & Design\", \"x\": -0.45, \"xref\": \"x1\", \"align\": \"left\", \"yref\": \"y1\", \"showarrow\": false, \"xanchor\": \"left\"}, {\"font\": {\"color\": \"#000000\"}, \"y\": 47, \"text\": \"Mozilla Staff\", \"x\": 0.55, \"xref\": \"x1\", \"align\": \"left\", \"yref\": \"y1\", \"showarrow\": false, \"xanchor\": \"left\"}, {\"font\": {\"color\": \"#000000\"}, \"y\": 47, \"text\": \"10\", \"x\": 1.55, \"xref\": \"x1\", \"align\": \"left\", \"yref\": \"y1\", \"showarrow\": false, \"xanchor\": \"left\"}, {\"font\": {\"color\": \"#000000\"}, \"y\": 47, \"text\": \"3\", \"x\": 2.55, \"xref\": \"x1\", \"align\": \"left\", \"yref\": \"y1\", \"showarrow\": false, \"xanchor\": \"left\"}, {\"font\": {\"color\": \"#000000\"}, \"y\": 48, \"text\": \"Mozilla Science\", \"x\": -0.45, \"xref\": \"x1\", \"align\": \"left\", \"yref\": \"y1\", \"showarrow\": false, \"xanchor\": \"left\"}, {\"font\": {\"color\": \"#000000\"}, \"y\": 48, \"text\": \"Mozilla Staff\", \"x\": 0.55, \"xref\": \"x1\", \"align\": \"left\", \"yref\": \"y1\", \"showarrow\": false, \"xanchor\": \"left\"}, {\"font\": {\"color\": \"#000000\"}, \"y\": 48, \"text\": \"9\", \"x\": 1.55, \"xref\": \"x1\", \"align\": \"left\", \"yref\": \"y1\", \"showarrow\": false, \"xanchor\": \"left\"}, {\"font\": {\"color\": \"#000000\"}, \"y\": 48, \"text\": \"21\", \"x\": 2.55, \"xref\": \"x1\", \"align\": \"left\", \"yref\": \"y1\", \"showarrow\": false, \"xanchor\": \"left\"}, {\"font\": {\"color\": \"#000000\"}, \"y\": 49, \"text\": \"Firefox Focus\", \"x\": -0.45, \"xref\": \"x1\", \"align\": \"left\", \"yref\": \"y1\", \"showarrow\": false, \"xanchor\": \"left\"}, {\"font\": {\"color\": \"#000000\"}, \"y\": 49, \"text\": \"Mozilla Staff\", \"x\": 0.55, \"xref\": \"x1\", \"align\": \"left\", \"yref\": \"y1\", \"showarrow\": false, \"xanchor\": \"left\"}, {\"font\": {\"color\": \"#000000\"}, \"y\": 49, \"text\": \"9\", \"x\": 1.55, \"xref\": \"x1\", \"align\": \"left\", \"yref\": \"y1\", \"showarrow\": false, \"xanchor\": \"left\"}, {\"font\": {\"color\": \"#000000\"}, \"y\": 49, \"text\": \"2\", \"x\": 2.55, \"xref\": \"x1\", \"align\": \"left\", \"yref\": \"y1\", \"showarrow\": false, \"xanchor\": \"left\"}, {\"font\": {\"color\": \"#000000\"}, \"y\": 50, \"text\": \"Deep Speech\", \"x\": -0.45, \"xref\": \"x1\", \"align\": \"left\", \"yref\": \"y1\", \"showarrow\": false, \"xanchor\": \"left\"}, {\"font\": {\"color\": \"#000000\"}, \"y\": 50, \"text\": \"Community\", \"x\": 0.55, \"xref\": \"x1\", \"align\": \"left\", \"yref\": \"y1\", \"showarrow\": false, \"xanchor\": \"left\"}, {\"font\": {\"color\": \"#000000\"}, \"y\": 50, \"text\": \"8\", \"x\": 1.55, \"xref\": \"x1\", \"align\": \"left\", \"yref\": \"y1\", \"showarrow\": false, \"xanchor\": \"left\"}, {\"font\": {\"color\": \"#000000\"}, \"y\": 50, \"text\": \"1\", \"x\": 2.55, \"xref\": \"x1\", \"align\": \"left\", \"yref\": \"y1\", \"showarrow\": false, \"xanchor\": \"left\"}, {\"font\": {\"color\": \"#000000\"}, \"y\": 51, \"text\": \"Deep Speech\", \"x\": -0.45, \"xref\": \"x1\", \"align\": \"left\", \"yref\": \"y1\", \"showarrow\": false, \"xanchor\": \"left\"}, {\"font\": {\"color\": \"#000000\"}, \"y\": 51, \"text\": \"Mozilla Staff\", \"x\": 0.55, \"xref\": \"x1\", \"align\": \"left\", \"yref\": \"y1\", \"showarrow\": false, \"xanchor\": \"left\"}, {\"font\": {\"color\": \"#000000\"}, \"y\": 51, \"text\": \"7\", \"x\": 1.55, \"xref\": \"x1\", \"align\": \"left\", \"yref\": \"y1\", \"showarrow\": false, \"xanchor\": \"left\"}, {\"font\": {\"color\": \"#000000\"}, \"y\": 51, \"text\": \"1\", \"x\": 2.55, \"xref\": \"x1\", \"align\": \"left\", \"yref\": \"y1\", \"showarrow\": false, \"xanchor\": \"left\"}, {\"font\": {\"color\": \"#000000\"}, \"y\": 52, \"text\": \"Firefox\", \"x\": -0.45, \"xref\": \"x1\", \"align\": \"left\", \"yref\": \"y1\", \"showarrow\": false, \"xanchor\": \"left\"}, {\"font\": {\"color\": \"#000000\"}, \"y\": 52, \"text\": \"Community\", \"x\": 0.55, \"xref\": \"x1\", \"align\": \"left\", \"yref\": \"y1\", \"showarrow\": false, \"xanchor\": \"left\"}, {\"font\": {\"color\": \"#000000\"}, \"y\": 52, \"text\": \"7\", \"x\": 1.55, \"xref\": \"x1\", \"align\": \"left\", \"yref\": \"y1\", \"showarrow\": false, \"xanchor\": \"left\"}, {\"font\": {\"color\": \"#000000\"}, \"y\": 52, \"text\": \"1\", \"x\": 2.55, \"xref\": \"x1\", \"align\": \"left\", \"yref\": \"y1\", \"showarrow\": false, \"xanchor\": \"left\"}, {\"font\": {\"color\": \"#000000\"}, \"y\": 53, \"text\": \"Firefox Focus\", \"x\": -0.45, \"xref\": \"x1\", \"align\": \"left\", \"yref\": \"y1\", \"showarrow\": false, \"xanchor\": \"left\"}, {\"font\": {\"color\": \"#000000\"}, \"y\": 53, \"text\": \"Community\", \"x\": 0.55, \"xref\": \"x1\", \"align\": \"left\", \"yref\": \"y1\", \"showarrow\": false, \"xanchor\": \"left\"}, {\"font\": {\"color\": \"#000000\"}, \"y\": 53, \"text\": \"7\", \"x\": 1.55, \"xref\": \"x1\", \"align\": \"left\", \"yref\": \"y1\", \"showarrow\": false, \"xanchor\": \"left\"}, {\"font\": {\"color\": \"#000000\"}, \"y\": 53, \"text\": \"2\", \"x\": 2.55, \"xref\": \"x1\", \"align\": \"left\", \"yref\": \"y1\", \"showarrow\": false, \"xanchor\": \"left\"}, {\"font\": {\"color\": \"#000000\"}, \"y\": 54, \"text\": \"Mozilla Clubs\", \"x\": -0.45, \"xref\": \"x1\", \"align\": \"left\", \"yref\": \"y1\", \"showarrow\": false, \"xanchor\": \"left\"}, {\"font\": {\"color\": \"#000000\"}, \"y\": 54, \"text\": \"Mozilla Staff\", \"x\": 0.55, \"xref\": \"x1\", \"align\": \"left\", \"yref\": \"y1\", \"showarrow\": false, \"xanchor\": \"left\"}, {\"font\": {\"color\": \"#000000\"}, \"y\": 54, \"text\": \"6\", \"x\": 1.55, \"xref\": \"x1\", \"align\": \"left\", \"yref\": \"y1\", \"showarrow\": false, \"xanchor\": \"left\"}, {\"font\": {\"color\": \"#000000\"}, \"y\": 54, \"text\": \"8\", \"x\": 2.55, \"xref\": \"x1\", \"align\": \"left\", \"yref\": \"y1\", \"showarrow\": false, \"xanchor\": \"left\"}, {\"font\": {\"color\": \"#000000\"}, \"y\": 55, \"text\": \"Developer Tools\", \"x\": -0.45, \"xref\": \"x1\", \"align\": \"left\", \"yref\": \"y1\", \"showarrow\": false, \"xanchor\": \"left\"}, {\"font\": {\"color\": \"#000000\"}, \"y\": 55, \"text\": \"Mozilla Staff\", \"x\": 0.55, \"xref\": \"x1\", \"align\": \"left\", \"yref\": \"y1\", \"showarrow\": false, \"xanchor\": \"left\"}, {\"font\": {\"color\": \"#000000\"}, \"y\": 55, \"text\": \"6\", \"x\": 1.55, \"xref\": \"x1\", \"align\": \"left\", \"yref\": \"y1\", \"showarrow\": false, \"xanchor\": \"left\"}, {\"font\": {\"color\": \"#000000\"}, \"y\": 55, \"text\": \"4\", \"x\": 2.55, \"xref\": \"x1\", \"align\": \"left\", \"yref\": \"y1\", \"showarrow\": false, \"xanchor\": \"left\"}, {\"font\": {\"color\": \"#000000\"}, \"y\": 56, \"text\": \"Connected devices & IoT\", \"x\": -0.45, \"xref\": \"x1\", \"align\": \"left\", \"yref\": \"y1\", \"showarrow\": false, \"xanchor\": \"left\"}, {\"font\": {\"color\": \"#000000\"}, \"y\": 56, \"text\": \"Community\", \"x\": 0.55, \"xref\": \"x1\", \"align\": \"left\", \"yref\": \"y1\", \"showarrow\": false, \"xanchor\": \"left\"}, {\"font\": {\"color\": \"#000000\"}, \"y\": 56, \"text\": \"6\", \"x\": 1.55, \"xref\": \"x1\", \"align\": \"left\", \"yref\": \"y1\", \"showarrow\": false, \"xanchor\": \"left\"}, {\"font\": {\"color\": \"#000000\"}, \"y\": 56, \"text\": \"1\", \"x\": 2.55, \"xref\": \"x1\", \"align\": \"left\", \"yref\": \"y1\", \"showarrow\": false, \"xanchor\": \"left\"}, {\"font\": {\"color\": \"#000000\"}, \"y\": 57, \"text\": \"Campus Clubs (previously Student Ambassadors)\", \"x\": -0.45, \"xref\": \"x1\", \"align\": \"left\", \"yref\": \"y1\", \"showarrow\": false, \"xanchor\": \"left\"}, {\"font\": {\"color\": \"#000000\"}, \"y\": 57, \"text\": \"Mozilla Staff\", \"x\": 0.55, \"xref\": \"x1\", \"align\": \"left\", \"yref\": \"y1\", \"showarrow\": false, \"xanchor\": \"left\"}, {\"font\": {\"color\": \"#000000\"}, \"y\": 57, \"text\": \"5\", \"x\": 1.55, \"xref\": \"x1\", \"align\": \"left\", \"yref\": \"y1\", \"showarrow\": false, \"xanchor\": \"left\"}, {\"font\": {\"color\": \"#000000\"}, \"y\": 57, \"text\": \"5\", \"x\": 2.55, \"xref\": \"x1\", \"align\": \"left\", \"yref\": \"y1\", \"showarrow\": false, \"xanchor\": \"left\"}, {\"font\": {\"color\": \"#000000\"}, \"y\": 58, \"text\": \"Mozilla Clubs\", \"x\": -0.45, \"xref\": \"x1\", \"align\": \"left\", \"yref\": \"y1\", \"showarrow\": false, \"xanchor\": \"left\"}, {\"font\": {\"color\": \"#000000\"}, \"y\": 58, \"text\": \"Community\", \"x\": 0.55, \"xref\": \"x1\", \"align\": \"left\", \"yref\": \"y1\", \"showarrow\": false, \"xanchor\": \"left\"}, {\"font\": {\"color\": \"#000000\"}, \"y\": 58, \"text\": \"3\", \"x\": 1.55, \"xref\": \"x1\", \"align\": \"left\", \"yref\": \"y1\", \"showarrow\": false, \"xanchor\": \"left\"}, {\"font\": {\"color\": \"#000000\"}, \"y\": 58, \"text\": \"4\", \"x\": 2.55, \"xref\": \"x1\", \"align\": \"left\", \"yref\": \"y1\", \"showarrow\": false, \"xanchor\": \"left\"}, {\"font\": {\"color\": \"#000000\"}, \"y\": 59, \"text\": \"Connected devices & IoT\", \"x\": -0.45, \"xref\": \"x1\", \"align\": \"left\", \"yref\": \"y1\", \"showarrow\": false, \"xanchor\": \"left\"}, {\"font\": {\"color\": \"#000000\"}, \"y\": 59, \"text\": \"Mozilla Staff\", \"x\": 0.55, \"xref\": \"x1\", \"align\": \"left\", \"yref\": \"y1\", \"showarrow\": false, \"xanchor\": \"left\"}, {\"font\": {\"color\": \"#000000\"}, \"y\": 59, \"text\": \"3\", \"x\": 1.55, \"xref\": \"x1\", \"align\": \"left\", \"yref\": \"y1\", \"showarrow\": false, \"xanchor\": \"left\"}, {\"font\": {\"color\": \"#000000\"}, \"y\": 59, \"text\": \"1\", \"x\": 2.55, \"xref\": \"x1\", \"align\": \"left\", \"yref\": \"y1\", \"showarrow\": false, \"xanchor\": \"left\"}, {\"font\": {\"color\": \"#000000\"}, \"y\": 60, \"text\": \"Firefox Android\", \"x\": -0.45, \"xref\": \"x1\", \"align\": \"left\", \"yref\": \"y1\", \"showarrow\": false, \"xanchor\": \"left\"}, {\"font\": {\"color\": \"#000000\"}, \"y\": 60, \"text\": \"Mozilla Staff\", \"x\": 0.55, \"xref\": \"x1\", \"align\": \"left\", \"yref\": \"y1\", \"showarrow\": false, \"xanchor\": \"left\"}, {\"font\": {\"color\": \"#000000\"}, \"y\": 60, \"text\": \"3\", \"x\": 1.55, \"xref\": \"x1\", \"align\": \"left\", \"yref\": \"y1\", \"showarrow\": false, \"xanchor\": \"left\"}, {\"font\": {\"color\": \"#000000\"}, \"y\": 60, \"text\": \"2\", \"x\": 2.55, \"xref\": \"x1\", \"align\": \"left\", \"yref\": \"y1\", \"showarrow\": false, \"xanchor\": \"left\"}, {\"font\": {\"color\": \"#000000\"}, \"y\": 61, \"text\": \"Developer Tools\", \"x\": -0.45, \"xref\": \"x1\", \"align\": \"left\", \"yref\": \"y1\", \"showarrow\": false, \"xanchor\": \"left\"}, {\"font\": {\"color\": \"#000000\"}, \"y\": 61, \"text\": \"Community\", \"x\": 0.55, \"xref\": \"x1\", \"align\": \"left\", \"yref\": \"y1\", \"showarrow\": false, \"xanchor\": \"left\"}, {\"font\": {\"color\": \"#000000\"}, \"y\": 61, \"text\": \"3\", \"x\": 1.55, \"xref\": \"x1\", \"align\": \"left\", \"yref\": \"y1\", \"showarrow\": false, \"xanchor\": \"left\"}, {\"font\": {\"color\": \"#000000\"}, \"y\": 61, \"text\": \"2\", \"x\": 2.55, \"xref\": \"x1\", \"align\": \"left\", \"yref\": \"y1\", \"showarrow\": false, \"xanchor\": \"left\"}, {\"font\": {\"color\": \"#000000\"}, \"y\": 62, \"text\": \"Web Properties\", \"x\": -0.45, \"xref\": \"x1\", \"align\": \"left\", \"yref\": \"y1\", \"showarrow\": false, \"xanchor\": \"left\"}, {\"font\": {\"color\": \"#000000\"}, \"y\": 62, \"text\": \"Mozilla Reps\", \"x\": 0.55, \"xref\": \"x1\", \"align\": \"left\", \"yref\": \"y1\", \"showarrow\": false, \"xanchor\": \"left\"}, {\"font\": {\"color\": \"#000000\"}, \"y\": 62, \"text\": \"2\", \"x\": 1.55, \"xref\": \"x1\", \"align\": \"left\", \"yref\": \"y1\", \"showarrow\": false, \"xanchor\": \"left\"}, {\"font\": {\"color\": \"#000000\"}, \"y\": 62, \"text\": \"4\", \"x\": 2.55, \"xref\": \"x1\", \"align\": \"left\", \"yref\": \"y1\", \"showarrow\": false, \"xanchor\": \"left\"}, {\"font\": {\"color\": \"#000000\"}, \"y\": 63, \"text\": \"Servo\", \"x\": -0.45, \"xref\": \"x1\", \"align\": \"left\", \"yref\": \"y1\", \"showarrow\": false, \"xanchor\": \"left\"}, {\"font\": {\"color\": \"#000000\"}, \"y\": 63, \"text\": \"Mozilla Reps\", \"x\": 0.55, \"xref\": \"x1\", \"align\": \"left\", \"yref\": \"y1\", \"showarrow\": false, \"xanchor\": \"left\"}, {\"font\": {\"color\": \"#000000\"}, \"y\": 63, \"text\": \"2\", \"x\": 1.55, \"xref\": \"x1\", \"align\": \"left\", \"yref\": \"y1\", \"showarrow\": false, \"xanchor\": \"left\"}, {\"font\": {\"color\": \"#000000\"}, \"y\": 63, \"text\": \"2\", \"x\": 2.55, \"xref\": \"x1\", \"align\": \"left\", \"yref\": \"y1\", \"showarrow\": false, \"xanchor\": \"left\"}, {\"font\": {\"color\": \"#000000\"}, \"y\": 64, \"text\": \"Mozilla Local/Regional communities\", \"x\": -0.45, \"xref\": \"x1\", \"align\": \"left\", \"yref\": \"y1\", \"showarrow\": false, \"xanchor\": \"left\"}, {\"font\": {\"color\": \"#000000\"}, \"y\": 64, \"text\": \"Mozilla Reps\", \"x\": 0.55, \"xref\": \"x1\", \"align\": \"left\", \"yref\": \"y1\", \"showarrow\": false, \"xanchor\": \"left\"}, {\"font\": {\"color\": \"#000000\"}, \"y\": 64, \"text\": \"2\", \"x\": 1.55, \"xref\": \"x1\", \"align\": \"left\", \"yref\": \"y1\", \"showarrow\": false, \"xanchor\": \"left\"}, {\"font\": {\"color\": \"#000000\"}, \"y\": 64, \"text\": \"15\", \"x\": 2.55, \"xref\": \"x1\", \"align\": \"left\", \"yref\": \"y1\", \"showarrow\": false, \"xanchor\": \"left\"}, {\"font\": {\"color\": \"#000000\"}, \"y\": 65, \"text\": \"Web Literacy\", \"x\": -0.45, \"xref\": \"x1\", \"align\": \"left\", \"yref\": \"y1\", \"showarrow\": false, \"xanchor\": \"left\"}, {\"font\": {\"color\": \"#000000\"}, \"y\": 65, \"text\": \"Mozilla Reps\", \"x\": 0.55, \"xref\": \"x1\", \"align\": \"left\", \"yref\": \"y1\", \"showarrow\": false, \"xanchor\": \"left\"}, {\"font\": {\"color\": \"#000000\"}, \"y\": 65, \"text\": \"1\", \"x\": 1.55, \"xref\": \"x1\", \"align\": \"left\", \"yref\": \"y1\", \"showarrow\": false, \"xanchor\": \"left\"}, {\"font\": {\"color\": \"#000000\"}, \"y\": 65, \"text\": \"2\", \"x\": 2.55, \"xref\": \"x1\", \"align\": \"left\", \"yref\": \"y1\", \"showarrow\": false, \"xanchor\": \"left\"}, {\"font\": {\"color\": \"#000000\"}, \"y\": 66, \"text\": \"Vaani\", \"x\": -0.45, \"xref\": \"x1\", \"align\": \"left\", \"yref\": \"y1\", \"showarrow\": false, \"xanchor\": \"left\"}, {\"font\": {\"color\": \"#000000\"}, \"y\": 66, \"text\": \"Community\", \"x\": 0.55, \"xref\": \"x1\", \"align\": \"left\", \"yref\": \"y1\", \"showarrow\": false, \"xanchor\": \"left\"}, {\"font\": {\"color\": \"#000000\"}, \"y\": 66, \"text\": \"1\", \"x\": 1.55, \"xref\": \"x1\", \"align\": \"left\", \"yref\": \"y1\", \"showarrow\": false, \"xanchor\": \"left\"}, {\"font\": {\"color\": \"#000000\"}, \"y\": 66, \"text\": \"1\", \"x\": 2.55, \"xref\": \"x1\", \"align\": \"left\", \"yref\": \"y1\", \"showarrow\": false, \"xanchor\": \"left\"}, {\"font\": {\"color\": \"#000000\"}, \"y\": 67, \"text\": \"Campus Clubs (previously Student Ambassadors)\", \"x\": -0.45, \"xref\": \"x1\", \"align\": \"left\", \"yref\": \"y1\", \"showarrow\": false, \"xanchor\": \"left\"}, {\"font\": {\"color\": \"#000000\"}, \"y\": 67, \"text\": \"Community\", \"x\": 0.55, \"xref\": \"x1\", \"align\": \"left\", \"yref\": \"y1\", \"showarrow\": false, \"xanchor\": \"left\"}, {\"font\": {\"color\": \"#000000\"}, \"y\": 67, \"text\": \"1\", \"x\": 1.55, \"xref\": \"x1\", \"align\": \"left\", \"yref\": \"y1\", \"showarrow\": false, \"xanchor\": \"left\"}, {\"font\": {\"color\": \"#000000\"}, \"y\": 67, \"text\": \"1\", \"x\": 2.55, \"xref\": \"x1\", \"align\": \"left\", \"yref\": \"y1\", \"showarrow\": false, \"xanchor\": \"left\"}, {\"font\": {\"color\": \"#000000\"}, \"y\": 68, \"text\": \"Firefox Android\", \"x\": -0.45, \"xref\": \"x1\", \"align\": \"left\", \"yref\": \"y1\", \"showarrow\": false, \"xanchor\": \"left\"}, {\"font\": {\"color\": \"#000000\"}, \"y\": 68, \"text\": \"Community\", \"x\": 0.55, \"xref\": \"x1\", \"align\": \"left\", \"yref\": \"y1\", \"showarrow\": false, \"xanchor\": \"left\"}, {\"font\": {\"color\": \"#000000\"}, \"y\": 68, \"text\": \"1\", \"x\": 1.55, \"xref\": \"x1\", \"align\": \"left\", \"yref\": \"y1\", \"showarrow\": false, \"xanchor\": \"left\"}, {\"font\": {\"color\": \"#000000\"}, \"y\": 68, \"text\": \"1\", \"x\": 2.55, \"xref\": \"x1\", \"align\": \"left\", \"yref\": \"y1\", \"showarrow\": false, \"xanchor\": \"left\"}, {\"font\": {\"color\": \"#000000\"}, \"y\": 69, \"text\": \"Gecko\", \"x\": -0.45, \"xref\": \"x1\", \"align\": \"left\", \"yref\": \"y1\", \"showarrow\": false, \"xanchor\": \"left\"}, {\"font\": {\"color\": \"#000000\"}, \"y\": 69, \"text\": \"Mozilla Reps\", \"x\": 0.55, \"xref\": \"x1\", \"align\": \"left\", \"yref\": \"y1\", \"showarrow\": false, \"xanchor\": \"left\"}, {\"font\": {\"color\": \"#000000\"}, \"y\": 69, \"text\": \"1\", \"x\": 1.55, \"xref\": \"x1\", \"align\": \"left\", \"yref\": \"y1\", \"showarrow\": false, \"xanchor\": \"left\"}, {\"font\": {\"color\": \"#000000\"}, \"y\": 69, \"text\": \"3\", \"x\": 2.55, \"xref\": \"x1\", \"align\": \"left\", \"yref\": \"y1\", \"showarrow\": false, \"xanchor\": \"left\"}, {\"font\": {\"color\": \"#000000\"}, \"y\": 70, \"text\": \"Mozilla Developer Network (MDN)\", \"x\": -0.45, \"xref\": \"x1\", \"align\": \"left\", \"yref\": \"y1\", \"showarrow\": false, \"xanchor\": \"left\"}, {\"font\": {\"color\": \"#000000\"}, \"y\": 70, \"text\": \"Mozilla Reps\", \"x\": 0.55, \"xref\": \"x1\", \"align\": \"left\", \"yref\": \"y1\", \"showarrow\": false, \"xanchor\": \"left\"}, {\"font\": {\"color\": \"#000000\"}, \"y\": 70, \"text\": \"1\", \"x\": 1.55, \"xref\": \"x1\", \"align\": \"left\", \"yref\": \"y1\", \"showarrow\": false, \"xanchor\": \"left\"}, {\"font\": {\"color\": \"#000000\"}, \"y\": 70, \"text\": \"1\", \"x\": 2.55, \"xref\": \"x1\", \"align\": \"left\", \"yref\": \"y1\", \"showarrow\": false, \"xanchor\": \"left\"}]}, {\"showLink\": true, \"linkText\": \"Export to plot.ly\"})});</script>"
      ]
     },
     "metadata": {},
     "output_type": "display_data"
    }
   ],
   "source": [
    "s = create_search(source='git')\n",
    "\n",
    "# General filters\n",
    "s = add_general_date_filters(s)\n",
    "s = add_bot_filter(s)\n",
    "s = add_merges_filter(s)\n",
    "\n",
    "# Unique count of Commits by Project (max 100 projects)\n",
    "s.aggs.bucket('repos', 'terms', field='repo_name', size=100000)\\\n",
    "    .bucket('organizations', 'terms', field='author_org_name', size=100)\\\n",
    "    .bucket('contributors', 'terms', field='author_uuid', size=1000000)\n",
    "result = s.execute()\n",
    "\n",
    "# Process results to build a DataFrame\n",
    "i = 0\n",
    "repos_df = pandas.DataFrame(columns=['Repo', 'Org', 'uuid'])\n",
    "for repo in result.to_dict()['aggregations']['repos']['buckets']:\n",
    "    for org in repo['organizations']['buckets']:\n",
    "        for author in org['contributors']['buckets']:\n",
    "            repos_df.loc[len(repos_df)] = [repo['key'], org['key'], author['key']]\n",
    "            i += 1\n",
    "            if i % 10000 == 0:\n",
    "                print(i, end=', ')\n",
    "\n",
    "merged_df = repos_df.merge(projects['Github'], on='Repo', how='left')\n",
    "\n",
    "# Group By project\n",
    "projects_df = merged_df.groupby(['Project', 'Org']).agg({'uuid': pandas.Series.nunique, \n",
    "                                                         'Repo': pandas.Series.nunique})\n",
    "projects_df = projects_df.sort_values(by='uuid', ascending=0)\n",
    "\n",
    "# Print a table with this data\n",
    "plotly.offline.init_notebook_mode(connected=True)\n",
    "table = ff.create_table(projects_df.reset_index())\n",
    "plotly.offline.iplot(table, filename='git-projects-contributors-table.html')"
   ]
  },
  {
   "cell_type": "markdown",
   "metadata": {},
   "source": [
    "**Table above: Git Authors by Projects using Spreadsheet Data**"
   ]
  },
  {
   "cell_type": "markdown",
   "metadata": {},
   "source": [
    "#### Bugzilla\n",
    "\n",
    "In this case, we didn't have any project information in Bugzilla's index, so interesting data come within the second table, built using the new grouping. We use Product and Component to assign project name to Bugzilla entries."
   ]
  },
  {
   "cell_type": "code",
   "execution_count": 105,
   "metadata": {
    "collapsed": false,
    "scrolled": true
   },
   "outputs": [
    {
     "data": {
      "text/html": [
       "<div>\n",
       "<table border=\"1\" class=\"dataframe\">\n",
       "  <thead>\n",
       "    <tr style=\"text-align: right;\">\n",
       "      <th></th>\n",
       "      <th>Project</th>\n",
       "      <th># Authors</th>\n",
       "    </tr>\n",
       "  </thead>\n",
       "  <tbody>\n",
       "    <tr>\n",
       "      <th>0</th>\n",
       "      <td>unknown</td>\n",
       "      <td>184708</td>\n",
       "    </tr>\n",
       "  </tbody>\n",
       "</table>\n",
       "</div>"
      ],
      "text/plain": [
       "   Project  # Authors\n",
       "0  unknown     184708"
      ]
     },
     "execution_count": 105,
     "metadata": {},
     "output_type": "execute_result"
    }
   ],
   "source": [
    "s = create_search(source='bugzilla')\n",
    "\n",
    "# Unique count of Commits by Project (max 100 projects)\n",
    "s.aggs.bucket('projects', 'terms', field='project', size=100)\\\n",
    "    .metric('contributors', 'cardinality', field='author_uuid', precision_threshold=100000)\n",
    "result = s.execute()\n",
    "\n",
    "print_df(result=result, group_field='projects', value_field='contributors', \\\n",
    "         group_column='Project', value_column='# Authors')"
   ]
  },
  {
   "cell_type": "code",
   "execution_count": 11,
   "metadata": {
    "collapsed": false,
    "scrolled": false
   },
   "outputs": [
    {
     "name": "stdout",
     "output_type": "stream",
     "text": [
      "q1\n",
      "10000, 20000, 30000, 40000, 50000, 60000, 70000, 80000, Moz:  86562\n",
      "Moz merged:  86562\n",
      "q2\n",
      "10000, 20000, 30000, 40000, 50000, 60000, 70000, 80000, 90000, 100000, 110000, 120000, 130000, 140000, 150000, 160000, 170000, 180000, 190000, 200000, 210000, 220000, 230000, 240000, 250000, 260000, 270000, 280000, 290000, 300000, 310000, 320000, 330000, 340000, 350000, 360000, Non-moz:  365549\n",
      "Non-moz merged:  365549\n",
      "After concat\n"
     ]
    },
    {
     "data": {
      "text/html": [
       "<script>requirejs.config({paths: { 'plotly': ['https://cdn.plot.ly/plotly-latest.min']},});if(!window.Plotly) {{require(['plotly'],function(plotly) {window.Plotly=plotly;});}}</script>"
      ],
      "text/vnd.plotly.v1+html": [
       "<script>requirejs.config({paths: { 'plotly': ['https://cdn.plot.ly/plotly-latest.min']},});if(!window.Plotly) {{require(['plotly'],function(plotly) {window.Plotly=plotly;});}}</script>"
      ]
     },
     "metadata": {},
     "output_type": "display_data"
    },
    {
     "data": {
      "application/vnd.plotly.v1+json": {
       "data": [
        {
         "colorscale": [
          [
           0,
           "#00083e"
          ],
          [
           0.5,
           "#ededee"
          ],
          [
           1,
           "#ffffff"
          ]
         ],
         "hoverinfo": "none",
         "opacity": 0.75,
         "showscale": false,
         "type": "heatmap",
         "z": [
          [
           0,
           0,
           0,
           0,
           0
          ],
          [
           0.5,
           0.5,
           0.5,
           0.5,
           0.5
          ],
          [
           1,
           1,
           1,
           1,
           1
          ],
          [
           0.5,
           0.5,
           0.5,
           0.5,
           0.5
          ],
          [
           1,
           1,
           1,
           1,
           1
          ],
          [
           0.5,
           0.5,
           0.5,
           0.5,
           0.5
          ],
          [
           1,
           1,
           1,
           1,
           1
          ],
          [
           0.5,
           0.5,
           0.5,
           0.5,
           0.5
          ],
          [
           1,
           1,
           1,
           1,
           1
          ],
          [
           0.5,
           0.5,
           0.5,
           0.5,
           0.5
          ],
          [
           1,
           1,
           1,
           1,
           1
          ],
          [
           0.5,
           0.5,
           0.5,
           0.5,
           0.5
          ],
          [
           1,
           1,
           1,
           1,
           1
          ],
          [
           0.5,
           0.5,
           0.5,
           0.5,
           0.5
          ],
          [
           1,
           1,
           1,
           1,
           1
          ],
          [
           0.5,
           0.5,
           0.5,
           0.5,
           0.5
          ],
          [
           1,
           1,
           1,
           1,
           1
          ],
          [
           0.5,
           0.5,
           0.5,
           0.5,
           0.5
          ],
          [
           1,
           1,
           1,
           1,
           1
          ],
          [
           0.5,
           0.5,
           0.5,
           0.5,
           0.5
          ],
          [
           1,
           1,
           1,
           1,
           1
          ],
          [
           0.5,
           0.5,
           0.5,
           0.5,
           0.5
          ],
          [
           1,
           1,
           1,
           1,
           1
          ],
          [
           0.5,
           0.5,
           0.5,
           0.5,
           0.5
          ],
          [
           1,
           1,
           1,
           1,
           1
          ],
          [
           0.5,
           0.5,
           0.5,
           0.5,
           0.5
          ],
          [
           1,
           1,
           1,
           1,
           1
          ],
          [
           0.5,
           0.5,
           0.5,
           0.5,
           0.5
          ],
          [
           1,
           1,
           1,
           1,
           1
          ],
          [
           0.5,
           0.5,
           0.5,
           0.5,
           0.5
          ],
          [
           1,
           1,
           1,
           1,
           1
          ],
          [
           0.5,
           0.5,
           0.5,
           0.5,
           0.5
          ],
          [
           1,
           1,
           1,
           1,
           1
          ],
          [
           0.5,
           0.5,
           0.5,
           0.5,
           0.5
          ],
          [
           1,
           1,
           1,
           1,
           1
          ],
          [
           0.5,
           0.5,
           0.5,
           0.5,
           0.5
          ],
          [
           1,
           1,
           1,
           1,
           1
          ],
          [
           0.5,
           0.5,
           0.5,
           0.5,
           0.5
          ],
          [
           1,
           1,
           1,
           1,
           1
          ],
          [
           0.5,
           0.5,
           0.5,
           0.5,
           0.5
          ],
          [
           1,
           1,
           1,
           1,
           1
          ],
          [
           0.5,
           0.5,
           0.5,
           0.5,
           0.5
          ],
          [
           1,
           1,
           1,
           1,
           1
          ],
          [
           0.5,
           0.5,
           0.5,
           0.5,
           0.5
          ],
          [
           1,
           1,
           1,
           1,
           1
          ],
          [
           0.5,
           0.5,
           0.5,
           0.5,
           0.5
          ],
          [
           1,
           1,
           1,
           1,
           1
          ],
          [
           0.5,
           0.5,
           0.5,
           0.5,
           0.5
          ],
          [
           1,
           1,
           1,
           1,
           1
          ],
          [
           0.5,
           0.5,
           0.5,
           0.5,
           0.5
          ],
          [
           1,
           1,
           1,
           1,
           1
          ],
          [
           0.5,
           0.5,
           0.5,
           0.5,
           0.5
          ],
          [
           1,
           1,
           1,
           1,
           1
          ]
         ]
        }
       ],
       "layout": {
        "annotations": [
         {
          "align": "left",
          "font": {
           "color": "#ffffff"
          },
          "showarrow": false,
          "text": "<b>Project</b>",
          "x": -0.45,
          "xanchor": "left",
          "xref": "x1",
          "y": 0,
          "yref": "y1"
         },
         {
          "align": "left",
          "font": {
           "color": "#ffffff"
          },
          "showarrow": false,
          "text": "<b>Org</b>",
          "x": 0.55,
          "xanchor": "left",
          "xref": "x1",
          "y": 0,
          "yref": "y1"
         },
         {
          "align": "left",
          "font": {
           "color": "#ffffff"
          },
          "showarrow": false,
          "text": "<b>uuid</b>",
          "x": 1.55,
          "xanchor": "left",
          "xref": "x1",
          "y": 0,
          "yref": "y1"
         },
         {
          "align": "left",
          "font": {
           "color": "#ffffff"
          },
          "showarrow": false,
          "text": "<b>Product</b>",
          "x": 2.55,
          "xanchor": "left",
          "xref": "x1",
          "y": 0,
          "yref": "y1"
         },
         {
          "align": "left",
          "font": {
           "color": "#ffffff"
          },
          "showarrow": false,
          "text": "<b>Component</b>",
          "x": 3.55,
          "xanchor": "left",
          "xref": "x1",
          "y": 0,
          "yref": "y1"
         },
         {
          "align": "left",
          "font": {
           "color": "#000000"
          },
          "showarrow": false,
          "text": "Firefox",
          "x": -0.45,
          "xanchor": "left",
          "xref": "x1",
          "y": 1,
          "yref": "y1"
         },
         {
          "align": "left",
          "font": {
           "color": "#000000"
          },
          "showarrow": false,
          "text": "Non-Employees",
          "x": 0.55,
          "xanchor": "left",
          "xref": "x1",
          "y": 1,
          "yref": "y1"
         },
         {
          "align": "left",
          "font": {
           "color": "#000000"
          },
          "showarrow": false,
          "text": "71348",
          "x": 1.55,
          "xanchor": "left",
          "xref": "x1",
          "y": 1,
          "yref": "y1"
         },
         {
          "align": "left",
          "font": {
           "color": "#000000"
          },
          "showarrow": false,
          "text": "3",
          "x": 2.55,
          "xanchor": "left",
          "xref": "x1",
          "y": 1,
          "yref": "y1"
         },
         {
          "align": "left",
          "font": {
           "color": "#000000"
          },
          "showarrow": false,
          "text": "56",
          "x": 3.55,
          "xanchor": "left",
          "xref": "x1",
          "y": 1,
          "yref": "y1"
         },
         {
          "align": "left",
          "font": {
           "color": "#000000"
          },
          "showarrow": false,
          "text": "Gecko",
          "x": -0.45,
          "xanchor": "left",
          "xref": "x1",
          "y": 2,
          "yref": "y1"
         },
         {
          "align": "left",
          "font": {
           "color": "#000000"
          },
          "showarrow": false,
          "text": "Non-Employees",
          "x": 0.55,
          "xanchor": "left",
          "xref": "x1",
          "y": 2,
          "yref": "y1"
         },
         {
          "align": "left",
          "font": {
           "color": "#000000"
          },
          "showarrow": false,
          "text": "61384",
          "x": 1.55,
          "xanchor": "left",
          "xref": "x1",
          "y": 2,
          "yref": "y1"
         },
         {
          "align": "left",
          "font": {
           "color": "#000000"
          },
          "showarrow": false,
          "text": "5",
          "x": 2.55,
          "xanchor": "left",
          "xref": "x1",
          "y": 2,
          "yref": "y1"
         },
         {
          "align": "left",
          "font": {
           "color": "#000000"
          },
          "showarrow": false,
          "text": "245",
          "x": 3.55,
          "xanchor": "left",
          "xref": "x1",
          "y": 2,
          "yref": "y1"
         },
         {
          "align": "left",
          "font": {
           "color": "#000000"
          },
          "showarrow": false,
          "text": "Thunderbird",
          "x": -0.45,
          "xanchor": "left",
          "xref": "x1",
          "y": 3,
          "yref": "y1"
         },
         {
          "align": "left",
          "font": {
           "color": "#000000"
          },
          "showarrow": false,
          "text": "Non-Employees",
          "x": 0.55,
          "xanchor": "left",
          "xref": "x1",
          "y": 3,
          "yref": "y1"
         },
         {
          "align": "left",
          "font": {
           "color": "#000000"
          },
          "showarrow": false,
          "text": "29644",
          "x": 1.55,
          "xanchor": "left",
          "xref": "x1",
          "y": 3,
          "yref": "y1"
         },
         {
          "align": "left",
          "font": {
           "color": "#000000"
          },
          "showarrow": false,
          "text": "3",
          "x": 2.55,
          "xanchor": "left",
          "xref": "x1",
          "y": 3,
          "yref": "y1"
         },
         {
          "align": "left",
          "font": {
           "color": "#000000"
          },
          "showarrow": false,
          "text": "47",
          "x": 3.55,
          "xanchor": "left",
          "xref": "x1",
          "y": 3,
          "yref": "y1"
         },
         {
          "align": "left",
          "font": {
           "color": "#000000"
          },
          "showarrow": false,
          "text": "Technical/Developer Evangelism",
          "x": -0.45,
          "xanchor": "left",
          "xref": "x1",
          "y": 4,
          "yref": "y1"
         },
         {
          "align": "left",
          "font": {
           "color": "#000000"
          },
          "showarrow": false,
          "text": "Non-Employees",
          "x": 0.55,
          "xanchor": "left",
          "xref": "x1",
          "y": 4,
          "yref": "y1"
         },
         {
          "align": "left",
          "font": {
           "color": "#000000"
          },
          "showarrow": false,
          "text": "5249",
          "x": 1.55,
          "xanchor": "left",
          "xref": "x1",
          "y": 4,
          "yref": "y1"
         },
         {
          "align": "left",
          "font": {
           "color": "#000000"
          },
          "showarrow": false,
          "text": "3",
          "x": 2.55,
          "xanchor": "left",
          "xref": "x1",
          "y": 4,
          "yref": "y1"
         },
         {
          "align": "left",
          "font": {
           "color": "#000000"
          },
          "showarrow": false,
          "text": "44",
          "x": 3.55,
          "xanchor": "left",
          "xref": "x1",
          "y": 4,
          "yref": "y1"
         },
         {
          "align": "left",
          "font": {
           "color": "#000000"
          },
          "showarrow": false,
          "text": "Web Properties",
          "x": -0.45,
          "xanchor": "left",
          "xref": "x1",
          "y": 5,
          "yref": "y1"
         },
         {
          "align": "left",
          "font": {
           "color": "#000000"
          },
          "showarrow": false,
          "text": "Non-Employees",
          "x": 0.55,
          "xanchor": "left",
          "xref": "x1",
          "y": 5,
          "yref": "y1"
         },
         {
          "align": "left",
          "font": {
           "color": "#000000"
          },
          "showarrow": false,
          "text": "4254",
          "x": 1.55,
          "xanchor": "left",
          "xref": "x1",
          "y": 5,
          "yref": "y1"
         },
         {
          "align": "left",
          "font": {
           "color": "#000000"
          },
          "showarrow": false,
          "text": "16",
          "x": 2.55,
          "xanchor": "left",
          "xref": "x1",
          "y": 5,
          "yref": "y1"
         },
         {
          "align": "left",
          "font": {
           "color": "#000000"
          },
          "showarrow": false,
          "text": "166",
          "x": 3.55,
          "xanchor": "left",
          "xref": "x1",
          "y": 5,
          "yref": "y1"
         },
         {
          "align": "left",
          "font": {
           "color": "#000000"
          },
          "showarrow": false,
          "text": "IT/Ops",
          "x": -0.45,
          "xanchor": "left",
          "xref": "x1",
          "y": 6,
          "yref": "y1"
         },
         {
          "align": "left",
          "font": {
           "color": "#000000"
          },
          "showarrow": false,
          "text": "Non-Employees",
          "x": 0.55,
          "xanchor": "left",
          "xref": "x1",
          "y": 6,
          "yref": "y1"
         },
         {
          "align": "left",
          "font": {
           "color": "#000000"
          },
          "showarrow": false,
          "text": "2730",
          "x": 1.55,
          "xanchor": "left",
          "xref": "x1",
          "y": 6,
          "yref": "y1"
         },
         {
          "align": "left",
          "font": {
           "color": "#000000"
          },
          "showarrow": false,
          "text": "11",
          "x": 2.55,
          "xanchor": "left",
          "xref": "x1",
          "y": 6,
          "yref": "y1"
         },
         {
          "align": "left",
          "font": {
           "color": "#000000"
          },
          "showarrow": false,
          "text": "172",
          "x": 3.55,
          "xanchor": "left",
          "xref": "x1",
          "y": 6,
          "yref": "y1"
         },
         {
          "align": "left",
          "font": {
           "color": "#000000"
          },
          "showarrow": false,
          "text": "Firefox Android",
          "x": -0.45,
          "xanchor": "left",
          "xref": "x1",
          "y": 7,
          "yref": "y1"
         },
         {
          "align": "left",
          "font": {
           "color": "#000000"
          },
          "showarrow": false,
          "text": "Non-Employees",
          "x": 0.55,
          "xanchor": "left",
          "xref": "x1",
          "y": 7,
          "yref": "y1"
         },
         {
          "align": "left",
          "font": {
           "color": "#000000"
          },
          "showarrow": false,
          "text": "2484",
          "x": 1.55,
          "xanchor": "left",
          "xref": "x1",
          "y": 7,
          "yref": "y1"
         },
         {
          "align": "left",
          "font": {
           "color": "#000000"
          },
          "showarrow": false,
          "text": "2",
          "x": 2.55,
          "xanchor": "left",
          "xref": "x1",
          "y": 7,
          "yref": "y1"
         },
         {
          "align": "left",
          "font": {
           "color": "#000000"
          },
          "showarrow": false,
          "text": "36",
          "x": 3.55,
          "xanchor": "left",
          "xref": "x1",
          "y": 7,
          "yref": "y1"
         },
         {
          "align": "left",
          "font": {
           "color": "#000000"
          },
          "showarrow": false,
          "text": "IT/Ops",
          "x": -0.45,
          "xanchor": "left",
          "xref": "x1",
          "y": 8,
          "yref": "y1"
         },
         {
          "align": "left",
          "font": {
           "color": "#000000"
          },
          "showarrow": false,
          "text": "Employees",
          "x": 0.55,
          "xanchor": "left",
          "xref": "x1",
          "y": 8,
          "yref": "y1"
         },
         {
          "align": "left",
          "font": {
           "color": "#000000"
          },
          "showarrow": false,
          "text": "2242",
          "x": 1.55,
          "xanchor": "left",
          "xref": "x1",
          "y": 8,
          "yref": "y1"
         },
         {
          "align": "left",
          "font": {
           "color": "#000000"
          },
          "showarrow": false,
          "text": "11",
          "x": 2.55,
          "xanchor": "left",
          "xref": "x1",
          "y": 8,
          "yref": "y1"
         },
         {
          "align": "left",
          "font": {
           "color": "#000000"
          },
          "showarrow": false,
          "text": "213",
          "x": 3.55,
          "xanchor": "left",
          "xref": "x1",
          "y": 8,
          "yref": "y1"
         },
         {
          "align": "left",
          "font": {
           "color": "#000000"
          },
          "showarrow": false,
          "text": "Addons/Web Extensions",
          "x": -0.45,
          "xanchor": "left",
          "xref": "x1",
          "y": 9,
          "yref": "y1"
         },
         {
          "align": "left",
          "font": {
           "color": "#000000"
          },
          "showarrow": false,
          "text": "Non-Employees",
          "x": 0.55,
          "xanchor": "left",
          "xref": "x1",
          "y": 9,
          "yref": "y1"
         },
         {
          "align": "left",
          "font": {
           "color": "#000000"
          },
          "showarrow": false,
          "text": "2176",
          "x": 1.55,
          "xanchor": "left",
          "xref": "x1",
          "y": 9,
          "yref": "y1"
         },
         {
          "align": "left",
          "font": {
           "color": "#000000"
          },
          "showarrow": false,
          "text": "3",
          "x": 2.55,
          "xanchor": "left",
          "xref": "x1",
          "y": 9,
          "yref": "y1"
         },
         {
          "align": "left",
          "font": {
           "color": "#000000"
          },
          "showarrow": false,
          "text": "25",
          "x": 3.55,
          "xanchor": "left",
          "xref": "x1",
          "y": 9,
          "yref": "y1"
         },
         {
          "align": "left",
          "font": {
           "color": "#000000"
          },
          "showarrow": false,
          "text": "Firefox OS (FxOS / B2G)",
          "x": -0.45,
          "xanchor": "left",
          "xref": "x1",
          "y": 10,
          "yref": "y1"
         },
         {
          "align": "left",
          "font": {
           "color": "#000000"
          },
          "showarrow": false,
          "text": "Non-Employees",
          "x": 0.55,
          "xanchor": "left",
          "xref": "x1",
          "y": 10,
          "yref": "y1"
         },
         {
          "align": "left",
          "font": {
           "color": "#000000"
          },
          "showarrow": false,
          "text": "2022",
          "x": 1.55,
          "xanchor": "left",
          "xref": "x1",
          "y": 10,
          "yref": "y1"
         },
         {
          "align": "left",
          "font": {
           "color": "#000000"
          },
          "showarrow": false,
          "text": "4",
          "x": 2.55,
          "xanchor": "left",
          "xref": "x1",
          "y": 10,
          "yref": "y1"
         },
         {
          "align": "left",
          "font": {
           "color": "#000000"
          },
          "showarrow": false,
          "text": "113",
          "x": 3.55,
          "xanchor": "left",
          "xref": "x1",
          "y": 10,
          "yref": "y1"
         },
         {
          "align": "left",
          "font": {
           "color": "#000000"
          },
          "showarrow": false,
          "text": "Localization",
          "x": -0.45,
          "xanchor": "left",
          "xref": "x1",
          "y": 11,
          "yref": "y1"
         },
         {
          "align": "left",
          "font": {
           "color": "#000000"
          },
          "showarrow": false,
          "text": "Non-Employees",
          "x": 0.55,
          "xanchor": "left",
          "xref": "x1",
          "y": 11,
          "yref": "y1"
         },
         {
          "align": "left",
          "font": {
           "color": "#000000"
          },
          "showarrow": false,
          "text": "1935",
          "x": 1.55,
          "xanchor": "left",
          "xref": "x1",
          "y": 11,
          "yref": "y1"
         },
         {
          "align": "left",
          "font": {
           "color": "#000000"
          },
          "showarrow": false,
          "text": "4",
          "x": 2.55,
          "xanchor": "left",
          "xref": "x1",
          "y": 11,
          "yref": "y1"
         },
         {
          "align": "left",
          "font": {
           "color": "#000000"
          },
          "showarrow": false,
          "text": "115",
          "x": 3.55,
          "xanchor": "left",
          "xref": "x1",
          "y": 11,
          "yref": "y1"
         },
         {
          "align": "left",
          "font": {
           "color": "#000000"
          },
          "showarrow": false,
          "text": "Mozilla Developer Network (MDN)",
          "x": -0.45,
          "xanchor": "left",
          "xref": "x1",
          "y": 12,
          "yref": "y1"
         },
         {
          "align": "left",
          "font": {
           "color": "#000000"
          },
          "showarrow": false,
          "text": "Non-Employees",
          "x": 0.55,
          "xanchor": "left",
          "xref": "x1",
          "y": 12,
          "yref": "y1"
         },
         {
          "align": "left",
          "font": {
           "color": "#000000"
          },
          "showarrow": false,
          "text": "1866",
          "x": 1.55,
          "xanchor": "left",
          "xref": "x1",
          "y": 12,
          "yref": "y1"
         },
         {
          "align": "left",
          "font": {
           "color": "#000000"
          },
          "showarrow": false,
          "text": "2",
          "x": 2.55,
          "xanchor": "left",
          "xref": "x1",
          "y": 12,
          "yref": "y1"
         },
         {
          "align": "left",
          "font": {
           "color": "#000000"
          },
          "showarrow": false,
          "text": "53",
          "x": 3.55,
          "xanchor": "left",
          "xref": "x1",
          "y": 12,
          "yref": "y1"
         },
         {
          "align": "left",
          "font": {
           "color": "#000000"
          },
          "showarrow": false,
          "text": "Gecko",
          "x": -0.45,
          "xanchor": "left",
          "xref": "x1",
          "y": 13,
          "yref": "y1"
         },
         {
          "align": "left",
          "font": {
           "color": "#000000"
          },
          "showarrow": false,
          "text": "Employees",
          "x": 0.55,
          "xanchor": "left",
          "xref": "x1",
          "y": 13,
          "yref": "y1"
         },
         {
          "align": "left",
          "font": {
           "color": "#000000"
          },
          "showarrow": false,
          "text": "1679",
          "x": 1.55,
          "xanchor": "left",
          "xref": "x1",
          "y": 13,
          "yref": "y1"
         },
         {
          "align": "left",
          "font": {
           "color": "#000000"
          },
          "showarrow": false,
          "text": "5",
          "x": 2.55,
          "xanchor": "left",
          "xref": "x1",
          "y": 13,
          "yref": "y1"
         },
         {
          "align": "left",
          "font": {
           "color": "#000000"
          },
          "showarrow": false,
          "text": "234",
          "x": 3.55,
          "xanchor": "left",
          "xref": "x1",
          "y": 13,
          "yref": "y1"
         },
         {
          "align": "left",
          "font": {
           "color": "#000000"
          },
          "showarrow": false,
          "text": "Web Properties",
          "x": -0.45,
          "xanchor": "left",
          "xref": "x1",
          "y": 14,
          "yref": "y1"
         },
         {
          "align": "left",
          "font": {
           "color": "#000000"
          },
          "showarrow": false,
          "text": "Employees",
          "x": 0.55,
          "xanchor": "left",
          "xref": "x1",
          "y": 14,
          "yref": "y1"
         },
         {
          "align": "left",
          "font": {
           "color": "#000000"
          },
          "showarrow": false,
          "text": "1547",
          "x": 1.55,
          "xanchor": "left",
          "xref": "x1",
          "y": 14,
          "yref": "y1"
         },
         {
          "align": "left",
          "font": {
           "color": "#000000"
          },
          "showarrow": false,
          "text": "16",
          "x": 2.55,
          "xanchor": "left",
          "xref": "x1",
          "y": 14,
          "yref": "y1"
         },
         {
          "align": "left",
          "font": {
           "color": "#000000"
          },
          "showarrow": false,
          "text": "176",
          "x": 3.55,
          "xanchor": "left",
          "xref": "x1",
          "y": 14,
          "yref": "y1"
         },
         {
          "align": "left",
          "font": {
           "color": "#000000"
          },
          "showarrow": false,
          "text": "Firefox",
          "x": -0.45,
          "xanchor": "left",
          "xref": "x1",
          "y": 15,
          "yref": "y1"
         },
         {
          "align": "left",
          "font": {
           "color": "#000000"
          },
          "showarrow": false,
          "text": "Employees",
          "x": 0.55,
          "xanchor": "left",
          "xref": "x1",
          "y": 15,
          "yref": "y1"
         },
         {
          "align": "left",
          "font": {
           "color": "#000000"
          },
          "showarrow": false,
          "text": "1340",
          "x": 1.55,
          "xanchor": "left",
          "xref": "x1",
          "y": 15,
          "yref": "y1"
         },
         {
          "align": "left",
          "font": {
           "color": "#000000"
          },
          "showarrow": false,
          "text": "3",
          "x": 2.55,
          "xanchor": "left",
          "xref": "x1",
          "y": 15,
          "yref": "y1"
         },
         {
          "align": "left",
          "font": {
           "color": "#000000"
          },
          "showarrow": false,
          "text": "58",
          "x": 3.55,
          "xanchor": "left",
          "xref": "x1",
          "y": 15,
          "yref": "y1"
         },
         {
          "align": "left",
          "font": {
           "color": "#000000"
          },
          "showarrow": false,
          "text": "Developer Tools",
          "x": -0.45,
          "xanchor": "left",
          "xref": "x1",
          "y": 16,
          "yref": "y1"
         },
         {
          "align": "left",
          "font": {
           "color": "#000000"
          },
          "showarrow": false,
          "text": "Non-Employees",
          "x": 0.55,
          "xanchor": "left",
          "xref": "x1",
          "y": 16,
          "yref": "y1"
         },
         {
          "align": "left",
          "font": {
           "color": "#000000"
          },
          "showarrow": false,
          "text": "1186",
          "x": 1.55,
          "xanchor": "left",
          "xref": "x1",
          "y": 16,
          "yref": "y1"
         },
         {
          "align": "left",
          "font": {
           "color": "#000000"
          },
          "showarrow": false,
          "text": "1",
          "x": 2.55,
          "xanchor": "left",
          "xref": "x1",
          "y": 16,
          "yref": "y1"
         },
         {
          "align": "left",
          "font": {
           "color": "#000000"
          },
          "showarrow": false,
          "text": "24",
          "x": 3.55,
          "xanchor": "left",
          "xref": "x1",
          "y": 16,
          "yref": "y1"
         },
         {
          "align": "left",
          "font": {
           "color": "#000000"
          },
          "showarrow": false,
          "text": "Firefox OS (FxOS / B2G)",
          "x": -0.45,
          "xanchor": "left",
          "xref": "x1",
          "y": 17,
          "yref": "y1"
         },
         {
          "align": "left",
          "font": {
           "color": "#000000"
          },
          "showarrow": false,
          "text": "Employees",
          "x": 0.55,
          "xanchor": "left",
          "xref": "x1",
          "y": 17,
          "yref": "y1"
         },
         {
          "align": "left",
          "font": {
           "color": "#000000"
          },
          "showarrow": false,
          "text": "946",
          "x": 1.55,
          "xanchor": "left",
          "xref": "x1",
          "y": 17,
          "yref": "y1"
         },
         {
          "align": "left",
          "font": {
           "color": "#000000"
          },
          "showarrow": false,
          "text": "4",
          "x": 2.55,
          "xanchor": "left",
          "xref": "x1",
          "y": 17,
          "yref": "y1"
         },
         {
          "align": "left",
          "font": {
           "color": "#000000"
          },
          "showarrow": false,
          "text": "115",
          "x": 3.55,
          "xanchor": "left",
          "xref": "x1",
          "y": 17,
          "yref": "y1"
         },
         {
          "align": "left",
          "font": {
           "color": "#000000"
          },
          "showarrow": false,
          "text": "Firefox Android",
          "x": -0.45,
          "xanchor": "left",
          "xref": "x1",
          "y": 18,
          "yref": "y1"
         },
         {
          "align": "left",
          "font": {
           "color": "#000000"
          },
          "showarrow": false,
          "text": "Employees",
          "x": 0.55,
          "xanchor": "left",
          "xref": "x1",
          "y": 18,
          "yref": "y1"
         },
         {
          "align": "left",
          "font": {
           "color": "#000000"
          },
          "showarrow": false,
          "text": "699",
          "x": 1.55,
          "xanchor": "left",
          "xref": "x1",
          "y": 18,
          "yref": "y1"
         },
         {
          "align": "left",
          "font": {
           "color": "#000000"
          },
          "showarrow": false,
          "text": "2",
          "x": 2.55,
          "xanchor": "left",
          "xref": "x1",
          "y": 18,
          "yref": "y1"
         },
         {
          "align": "left",
          "font": {
           "color": "#000000"
          },
          "showarrow": false,
          "text": "36",
          "x": 3.55,
          "xanchor": "left",
          "xref": "x1",
          "y": 18,
          "yref": "y1"
         },
         {
          "align": "left",
          "font": {
           "color": "#000000"
          },
          "showarrow": false,
          "text": "Release engineering",
          "x": -0.45,
          "xanchor": "left",
          "xref": "x1",
          "y": 19,
          "yref": "y1"
         },
         {
          "align": "left",
          "font": {
           "color": "#000000"
          },
          "showarrow": false,
          "text": "Employees",
          "x": 0.55,
          "xanchor": "left",
          "xref": "x1",
          "y": 19,
          "yref": "y1"
         },
         {
          "align": "left",
          "font": {
           "color": "#000000"
          },
          "showarrow": false,
          "text": "636",
          "x": 1.55,
          "xanchor": "left",
          "xref": "x1",
          "y": 19,
          "yref": "y1"
         },
         {
          "align": "left",
          "font": {
           "color": "#000000"
          },
          "showarrow": false,
          "text": "1",
          "x": 2.55,
          "xanchor": "left",
          "xref": "x1",
          "y": 19,
          "yref": "y1"
         },
         {
          "align": "left",
          "font": {
           "color": "#000000"
          },
          "showarrow": false,
          "text": "14",
          "x": 3.55,
          "xanchor": "left",
          "xref": "x1",
          "y": 19,
          "yref": "y1"
         },
         {
          "align": "left",
          "font": {
           "color": "#000000"
          },
          "showarrow": false,
          "text": "Quality Assurance",
          "x": -0.45,
          "xanchor": "left",
          "xref": "x1",
          "y": 20,
          "yref": "y1"
         },
         {
          "align": "left",
          "font": {
           "color": "#000000"
          },
          "showarrow": false,
          "text": "Employees",
          "x": 0.55,
          "xanchor": "left",
          "xref": "x1",
          "y": 20,
          "yref": "y1"
         },
         {
          "align": "left",
          "font": {
           "color": "#000000"
          },
          "showarrow": false,
          "text": "582",
          "x": 1.55,
          "xanchor": "left",
          "xref": "x1",
          "y": 20,
          "yref": "y1"
         },
         {
          "align": "left",
          "font": {
           "color": "#000000"
          },
          "showarrow": false,
          "text": "4",
          "x": 2.55,
          "xanchor": "left",
          "xref": "x1",
          "y": 20,
          "yref": "y1"
         },
         {
          "align": "left",
          "font": {
           "color": "#000000"
          },
          "showarrow": false,
          "text": "42",
          "x": 3.55,
          "xanchor": "left",
          "xref": "x1",
          "y": 20,
          "yref": "y1"
         },
         {
          "align": "left",
          "font": {
           "color": "#000000"
          },
          "showarrow": false,
          "text": "Thunderbird",
          "x": -0.45,
          "xanchor": "left",
          "xref": "x1",
          "y": 21,
          "yref": "y1"
         },
         {
          "align": "left",
          "font": {
           "color": "#000000"
          },
          "showarrow": false,
          "text": "Employees",
          "x": 0.55,
          "xanchor": "left",
          "xref": "x1",
          "y": 21,
          "yref": "y1"
         },
         {
          "align": "left",
          "font": {
           "color": "#000000"
          },
          "showarrow": false,
          "text": "565",
          "x": 1.55,
          "xanchor": "left",
          "xref": "x1",
          "y": 21,
          "yref": "y1"
         },
         {
          "align": "left",
          "font": {
           "color": "#000000"
          },
          "showarrow": false,
          "text": "3",
          "x": 2.55,
          "xanchor": "left",
          "xref": "x1",
          "y": 21,
          "yref": "y1"
         },
         {
          "align": "left",
          "font": {
           "color": "#000000"
          },
          "showarrow": false,
          "text": "48",
          "x": 3.55,
          "xanchor": "left",
          "xref": "x1",
          "y": 21,
          "yref": "y1"
         },
         {
          "align": "left",
          "font": {
           "color": "#000000"
          },
          "showarrow": false,
          "text": "Quality Assurance",
          "x": -0.45,
          "xanchor": "left",
          "xref": "x1",
          "y": 22,
          "yref": "y1"
         },
         {
          "align": "left",
          "font": {
           "color": "#000000"
          },
          "showarrow": false,
          "text": "Non-Employees",
          "x": 0.55,
          "xanchor": "left",
          "xref": "x1",
          "y": 22,
          "yref": "y1"
         },
         {
          "align": "left",
          "font": {
           "color": "#000000"
          },
          "showarrow": false,
          "text": "535",
          "x": 1.55,
          "xanchor": "left",
          "xref": "x1",
          "y": 22,
          "yref": "y1"
         },
         {
          "align": "left",
          "font": {
           "color": "#000000"
          },
          "showarrow": false,
          "text": "4",
          "x": 2.55,
          "xanchor": "left",
          "xref": "x1",
          "y": 22,
          "yref": "y1"
         },
         {
          "align": "left",
          "font": {
           "color": "#000000"
          },
          "showarrow": false,
          "text": "38",
          "x": 3.55,
          "xanchor": "left",
          "xref": "x1",
          "y": 22,
          "yref": "y1"
         },
         {
          "align": "left",
          "font": {
           "color": "#000000"
          },
          "showarrow": false,
          "text": "Addons/Web Extensions",
          "x": -0.45,
          "xanchor": "left",
          "xref": "x1",
          "y": 23,
          "yref": "y1"
         },
         {
          "align": "left",
          "font": {
           "color": "#000000"
          },
          "showarrow": false,
          "text": "Employees",
          "x": 0.55,
          "xanchor": "left",
          "xref": "x1",
          "y": 23,
          "yref": "y1"
         },
         {
          "align": "left",
          "font": {
           "color": "#000000"
          },
          "showarrow": false,
          "text": "498",
          "x": 1.55,
          "xanchor": "left",
          "xref": "x1",
          "y": 23,
          "yref": "y1"
         },
         {
          "align": "left",
          "font": {
           "color": "#000000"
          },
          "showarrow": false,
          "text": "3",
          "x": 2.55,
          "xanchor": "left",
          "xref": "x1",
          "y": 23,
          "yref": "y1"
         },
         {
          "align": "left",
          "font": {
           "color": "#000000"
          },
          "showarrow": false,
          "text": "25",
          "x": 3.55,
          "xanchor": "left",
          "xref": "x1",
          "y": 23,
          "yref": "y1"
         },
         {
          "align": "left",
          "font": {
           "color": "#000000"
          },
          "showarrow": false,
          "text": "Developer Tools",
          "x": -0.45,
          "xanchor": "left",
          "xref": "x1",
          "y": 24,
          "yref": "y1"
         },
         {
          "align": "left",
          "font": {
           "color": "#000000"
          },
          "showarrow": false,
          "text": "Employees",
          "x": 0.55,
          "xanchor": "left",
          "xref": "x1",
          "y": 24,
          "yref": "y1"
         },
         {
          "align": "left",
          "font": {
           "color": "#000000"
          },
          "showarrow": false,
          "text": "461",
          "x": 1.55,
          "xanchor": "left",
          "xref": "x1",
          "y": 24,
          "yref": "y1"
         },
         {
          "align": "left",
          "font": {
           "color": "#000000"
          },
          "showarrow": false,
          "text": "1",
          "x": 2.55,
          "xanchor": "left",
          "xref": "x1",
          "y": 24,
          "yref": "y1"
         },
         {
          "align": "left",
          "font": {
           "color": "#000000"
          },
          "showarrow": false,
          "text": "24",
          "x": 3.55,
          "xanchor": "left",
          "xref": "x1",
          "y": 24,
          "yref": "y1"
         },
         {
          "align": "left",
          "font": {
           "color": "#000000"
          },
          "showarrow": false,
          "text": "Mozilla Developer Network (MDN)",
          "x": -0.45,
          "xanchor": "left",
          "xref": "x1",
          "y": 25,
          "yref": "y1"
         },
         {
          "align": "left",
          "font": {
           "color": "#000000"
          },
          "showarrow": false,
          "text": "Employees",
          "x": 0.55,
          "xanchor": "left",
          "xref": "x1",
          "y": 25,
          "yref": "y1"
         },
         {
          "align": "left",
          "font": {
           "color": "#000000"
          },
          "showarrow": false,
          "text": "457",
          "x": 1.55,
          "xanchor": "left",
          "xref": "x1",
          "y": 25,
          "yref": "y1"
         },
         {
          "align": "left",
          "font": {
           "color": "#000000"
          },
          "showarrow": false,
          "text": "2",
          "x": 2.55,
          "xanchor": "left",
          "xref": "x1",
          "y": 25,
          "yref": "y1"
         },
         {
          "align": "left",
          "font": {
           "color": "#000000"
          },
          "showarrow": false,
          "text": "55",
          "x": 3.55,
          "xanchor": "left",
          "xref": "x1",
          "y": 25,
          "yref": "y1"
         },
         {
          "align": "left",
          "font": {
           "color": "#000000"
          },
          "showarrow": false,
          "text": "Technical/Developer Evangelism",
          "x": -0.45,
          "xanchor": "left",
          "xref": "x1",
          "y": 26,
          "yref": "y1"
         },
         {
          "align": "left",
          "font": {
           "color": "#000000"
          },
          "showarrow": false,
          "text": "Employees",
          "x": 0.55,
          "xanchor": "left",
          "xref": "x1",
          "y": 26,
          "yref": "y1"
         },
         {
          "align": "left",
          "font": {
           "color": "#000000"
          },
          "showarrow": false,
          "text": "436",
          "x": 1.55,
          "xanchor": "left",
          "xref": "x1",
          "y": 26,
          "yref": "y1"
         },
         {
          "align": "left",
          "font": {
           "color": "#000000"
          },
          "showarrow": false,
          "text": "3",
          "x": 2.55,
          "xanchor": "left",
          "xref": "x1",
          "y": 26,
          "yref": "y1"
         },
         {
          "align": "left",
          "font": {
           "color": "#000000"
          },
          "showarrow": false,
          "text": "37",
          "x": 3.55,
          "xanchor": "left",
          "xref": "x1",
          "y": 26,
          "yref": "y1"
         },
         {
          "align": "left",
          "font": {
           "color": "#000000"
          },
          "showarrow": false,
          "text": "Localization",
          "x": -0.45,
          "xanchor": "left",
          "xref": "x1",
          "y": 27,
          "yref": "y1"
         },
         {
          "align": "left",
          "font": {
           "color": "#000000"
          },
          "showarrow": false,
          "text": "Employees",
          "x": 0.55,
          "xanchor": "left",
          "xref": "x1",
          "y": 27,
          "yref": "y1"
         },
         {
          "align": "left",
          "font": {
           "color": "#000000"
          },
          "showarrow": false,
          "text": "424",
          "x": 1.55,
          "xanchor": "left",
          "xref": "x1",
          "y": 27,
          "yref": "y1"
         },
         {
          "align": "left",
          "font": {
           "color": "#000000"
          },
          "showarrow": false,
          "text": "4",
          "x": 2.55,
          "xanchor": "left",
          "xref": "x1",
          "y": 27,
          "yref": "y1"
         },
         {
          "align": "left",
          "font": {
           "color": "#000000"
          },
          "showarrow": false,
          "text": "149",
          "x": 3.55,
          "xanchor": "left",
          "xref": "x1",
          "y": 27,
          "yref": "y1"
         },
         {
          "align": "left",
          "font": {
           "color": "#000000"
          },
          "showarrow": false,
          "text": "Release engineering",
          "x": -0.45,
          "xanchor": "left",
          "xref": "x1",
          "y": 28,
          "yref": "y1"
         },
         {
          "align": "left",
          "font": {
           "color": "#000000"
          },
          "showarrow": false,
          "text": "Non-Employees",
          "x": 0.55,
          "xanchor": "left",
          "xref": "x1",
          "y": 28,
          "yref": "y1"
         },
         {
          "align": "left",
          "font": {
           "color": "#000000"
          },
          "showarrow": false,
          "text": "342",
          "x": 1.55,
          "xanchor": "left",
          "xref": "x1",
          "y": 28,
          "yref": "y1"
         },
         {
          "align": "left",
          "font": {
           "color": "#000000"
          },
          "showarrow": false,
          "text": "1",
          "x": 2.55,
          "xanchor": "left",
          "xref": "x1",
          "y": 28,
          "yref": "y1"
         },
         {
          "align": "left",
          "font": {
           "color": "#000000"
          },
          "showarrow": false,
          "text": "14",
          "x": 3.55,
          "xanchor": "left",
          "xref": "x1",
          "y": 28,
          "yref": "y1"
         },
         {
          "align": "left",
          "font": {
           "color": "#000000"
          },
          "showarrow": false,
          "text": "Web Literacy",
          "x": -0.45,
          "xanchor": "left",
          "xref": "x1",
          "y": 29,
          "yref": "y1"
         },
         {
          "align": "left",
          "font": {
           "color": "#000000"
          },
          "showarrow": false,
          "text": "Non-Employees",
          "x": 0.55,
          "xanchor": "left",
          "xref": "x1",
          "y": 29,
          "yref": "y1"
         },
         {
          "align": "left",
          "font": {
           "color": "#000000"
          },
          "showarrow": false,
          "text": "324",
          "x": 1.55,
          "xanchor": "left",
          "xref": "x1",
          "y": 29,
          "yref": "y1"
         },
         {
          "align": "left",
          "font": {
           "color": "#000000"
          },
          "showarrow": false,
          "text": "1",
          "x": 2.55,
          "xanchor": "left",
          "xref": "x1",
          "y": 29,
          "yref": "y1"
         },
         {
          "align": "left",
          "font": {
           "color": "#000000"
          },
          "showarrow": false,
          "text": "25",
          "x": 3.55,
          "xanchor": "left",
          "xref": "x1",
          "y": 29,
          "yref": "y1"
         },
         {
          "align": "left",
          "font": {
           "color": "#000000"
          },
          "showarrow": false,
          "text": "Marketing / Social Media",
          "x": -0.45,
          "xanchor": "left",
          "xref": "x1",
          "y": 30,
          "yref": "y1"
         },
         {
          "align": "left",
          "font": {
           "color": "#000000"
          },
          "showarrow": false,
          "text": "Employees",
          "x": 0.55,
          "xanchor": "left",
          "xref": "x1",
          "y": 30,
          "yref": "y1"
         },
         {
          "align": "left",
          "font": {
           "color": "#000000"
          },
          "showarrow": false,
          "text": "320",
          "x": 1.55,
          "xanchor": "left",
          "xref": "x1",
          "y": 30,
          "yref": "y1"
         },
         {
          "align": "left",
          "font": {
           "color": "#000000"
          },
          "showarrow": false,
          "text": "4",
          "x": 2.55,
          "xanchor": "left",
          "xref": "x1",
          "y": 30,
          "yref": "y1"
         },
         {
          "align": "left",
          "font": {
           "color": "#000000"
          },
          "showarrow": false,
          "text": "21",
          "x": 3.55,
          "xanchor": "left",
          "xref": "x1",
          "y": 30,
          "yref": "y1"
         },
         {
          "align": "left",
          "font": {
           "color": "#000000"
          },
          "showarrow": false,
          "text": "Mozilla Creative & Design",
          "x": -0.45,
          "xanchor": "left",
          "xref": "x1",
          "y": 31,
          "yref": "y1"
         },
         {
          "align": "left",
          "font": {
           "color": "#000000"
          },
          "showarrow": false,
          "text": "Employees",
          "x": 0.55,
          "xanchor": "left",
          "xref": "x1",
          "y": 31,
          "yref": "y1"
         },
         {
          "align": "left",
          "font": {
           "color": "#000000"
          },
          "showarrow": false,
          "text": "262",
          "x": 1.55,
          "xanchor": "left",
          "xref": "x1",
          "y": 31,
          "yref": "y1"
         },
         {
          "align": "left",
          "font": {
           "color": "#000000"
          },
          "showarrow": false,
          "text": "1",
          "x": 2.55,
          "xanchor": "left",
          "xref": "x1",
          "y": 31,
          "yref": "y1"
         },
         {
          "align": "left",
          "font": {
           "color": "#000000"
          },
          "showarrow": false,
          "text": "1",
          "x": 3.55,
          "xanchor": "left",
          "xref": "x1",
          "y": 31,
          "yref": "y1"
         },
         {
          "align": "left",
          "font": {
           "color": "#000000"
          },
          "showarrow": false,
          "text": "Marketing / Social Media",
          "x": -0.45,
          "xanchor": "left",
          "xref": "x1",
          "y": 32,
          "yref": "y1"
         },
         {
          "align": "left",
          "font": {
           "color": "#000000"
          },
          "showarrow": false,
          "text": "Non-Employees",
          "x": 0.55,
          "xanchor": "left",
          "xref": "x1",
          "y": 32,
          "yref": "y1"
         },
         {
          "align": "left",
          "font": {
           "color": "#000000"
          },
          "showarrow": false,
          "text": "250",
          "x": 1.55,
          "xanchor": "left",
          "xref": "x1",
          "y": 32,
          "yref": "y1"
         },
         {
          "align": "left",
          "font": {
           "color": "#000000"
          },
          "showarrow": false,
          "text": "4",
          "x": 2.55,
          "xanchor": "left",
          "xref": "x1",
          "y": 32,
          "yref": "y1"
         },
         {
          "align": "left",
          "font": {
           "color": "#000000"
          },
          "showarrow": false,
          "text": "18",
          "x": 3.55,
          "xanchor": "left",
          "xref": "x1",
          "y": 32,
          "yref": "y1"
         },
         {
          "align": "left",
          "font": {
           "color": "#000000"
          },
          "showarrow": false,
          "text": "Mozilla Local/Regional communities",
          "x": -0.45,
          "xanchor": "left",
          "xref": "x1",
          "y": 33,
          "yref": "y1"
         },
         {
          "align": "left",
          "font": {
           "color": "#000000"
          },
          "showarrow": false,
          "text": "Non-Employees",
          "x": 0.55,
          "xanchor": "left",
          "xref": "x1",
          "y": 33,
          "yref": "y1"
         },
         {
          "align": "left",
          "font": {
           "color": "#000000"
          },
          "showarrow": false,
          "text": "161",
          "x": 1.55,
          "xanchor": "left",
          "xref": "x1",
          "y": 33,
          "yref": "y1"
         },
         {
          "align": "left",
          "font": {
           "color": "#000000"
          },
          "showarrow": false,
          "text": "2",
          "x": 2.55,
          "xanchor": "left",
          "xref": "x1",
          "y": 33,
          "yref": "y1"
         },
         {
          "align": "left",
          "font": {
           "color": "#000000"
          },
          "showarrow": false,
          "text": "16",
          "x": 3.55,
          "xanchor": "left",
          "xref": "x1",
          "y": 33,
          "yref": "y1"
         },
         {
          "align": "left",
          "font": {
           "color": "#000000"
          },
          "showarrow": false,
          "text": "Firefox iOS",
          "x": -0.45,
          "xanchor": "left",
          "xref": "x1",
          "y": 34,
          "yref": "y1"
         },
         {
          "align": "left",
          "font": {
           "color": "#000000"
          },
          "showarrow": false,
          "text": "Non-Employees",
          "x": 0.55,
          "xanchor": "left",
          "xref": "x1",
          "y": 34,
          "yref": "y1"
         },
         {
          "align": "left",
          "font": {
           "color": "#000000"
          },
          "showarrow": false,
          "text": "151",
          "x": 1.55,
          "xanchor": "left",
          "xref": "x1",
          "y": 34,
          "yref": "y1"
         },
         {
          "align": "left",
          "font": {
           "color": "#000000"
          },
          "showarrow": false,
          "text": "1",
          "x": 2.55,
          "xanchor": "left",
          "xref": "x1",
          "y": 34,
          "yref": "y1"
         },
         {
          "align": "left",
          "font": {
           "color": "#000000"
          },
          "showarrow": false,
          "text": "14",
          "x": 3.55,
          "xanchor": "left",
          "xref": "x1",
          "y": 34,
          "yref": "y1"
         },
         {
          "align": "left",
          "font": {
           "color": "#000000"
          },
          "showarrow": false,
          "text": "Web Literacy",
          "x": -0.45,
          "xanchor": "left",
          "xref": "x1",
          "y": 35,
          "yref": "y1"
         },
         {
          "align": "left",
          "font": {
           "color": "#000000"
          },
          "showarrow": false,
          "text": "Employees",
          "x": 0.55,
          "xanchor": "left",
          "xref": "x1",
          "y": 35,
          "yref": "y1"
         },
         {
          "align": "left",
          "font": {
           "color": "#000000"
          },
          "showarrow": false,
          "text": "140",
          "x": 1.55,
          "xanchor": "left",
          "xref": "x1",
          "y": 35,
          "yref": "y1"
         },
         {
          "align": "left",
          "font": {
           "color": "#000000"
          },
          "showarrow": false,
          "text": "1",
          "x": 2.55,
          "xanchor": "left",
          "xref": "x1",
          "y": 35,
          "yref": "y1"
         },
         {
          "align": "left",
          "font": {
           "color": "#000000"
          },
          "showarrow": false,
          "text": "26",
          "x": 3.55,
          "xanchor": "left",
          "xref": "x1",
          "y": 35,
          "yref": "y1"
         },
         {
          "align": "left",
          "font": {
           "color": "#000000"
          },
          "showarrow": false,
          "text": "Firefox iOS",
          "x": -0.45,
          "xanchor": "left",
          "xref": "x1",
          "y": 36,
          "yref": "y1"
         },
         {
          "align": "left",
          "font": {
           "color": "#000000"
          },
          "showarrow": false,
          "text": "Employees",
          "x": 0.55,
          "xanchor": "left",
          "xref": "x1",
          "y": 36,
          "yref": "y1"
         },
         {
          "align": "left",
          "font": {
           "color": "#000000"
          },
          "showarrow": false,
          "text": "139",
          "x": 1.55,
          "xanchor": "left",
          "xref": "x1",
          "y": 36,
          "yref": "y1"
         },
         {
          "align": "left",
          "font": {
           "color": "#000000"
          },
          "showarrow": false,
          "text": "1",
          "x": 2.55,
          "xanchor": "left",
          "xref": "x1",
          "y": 36,
          "yref": "y1"
         },
         {
          "align": "left",
          "font": {
           "color": "#000000"
          },
          "showarrow": false,
          "text": "15",
          "x": 3.55,
          "xanchor": "left",
          "xref": "x1",
          "y": 36,
          "yref": "y1"
         },
         {
          "align": "left",
          "font": {
           "color": "#000000"
          },
          "showarrow": false,
          "text": "Mozilla Local/Regional communities",
          "x": -0.45,
          "xanchor": "left",
          "xref": "x1",
          "y": 37,
          "yref": "y1"
         },
         {
          "align": "left",
          "font": {
           "color": "#000000"
          },
          "showarrow": false,
          "text": "Employees",
          "x": 0.55,
          "xanchor": "left",
          "xref": "x1",
          "y": 37,
          "yref": "y1"
         },
         {
          "align": "left",
          "font": {
           "color": "#000000"
          },
          "showarrow": false,
          "text": "99",
          "x": 1.55,
          "xanchor": "left",
          "xref": "x1",
          "y": 37,
          "yref": "y1"
         },
         {
          "align": "left",
          "font": {
           "color": "#000000"
          },
          "showarrow": false,
          "text": "2",
          "x": 2.55,
          "xanchor": "left",
          "xref": "x1",
          "y": 37,
          "yref": "y1"
         },
         {
          "align": "left",
          "font": {
           "color": "#000000"
          },
          "showarrow": false,
          "text": "16",
          "x": 3.55,
          "xanchor": "left",
          "xref": "x1",
          "y": 37,
          "yref": "y1"
         },
         {
          "align": "left",
          "font": {
           "color": "#000000"
          },
          "showarrow": false,
          "text": "Mozilla support (SUMO)",
          "x": -0.45,
          "xanchor": "left",
          "xref": "x1",
          "y": 38,
          "yref": "y1"
         },
         {
          "align": "left",
          "font": {
           "color": "#000000"
          },
          "showarrow": false,
          "text": "Non-Employees",
          "x": 0.55,
          "xanchor": "left",
          "xref": "x1",
          "y": 38,
          "yref": "y1"
         },
         {
          "align": "left",
          "font": {
           "color": "#000000"
          },
          "showarrow": false,
          "text": "73",
          "x": 1.55,
          "xanchor": "left",
          "xref": "x1",
          "y": 38,
          "yref": "y1"
         },
         {
          "align": "left",
          "font": {
           "color": "#000000"
          },
          "showarrow": false,
          "text": "3",
          "x": 2.55,
          "xanchor": "left",
          "xref": "x1",
          "y": 38,
          "yref": "y1"
         },
         {
          "align": "left",
          "font": {
           "color": "#000000"
          },
          "showarrow": false,
          "text": "12",
          "x": 3.55,
          "xanchor": "left",
          "xref": "x1",
          "y": 38,
          "yref": "y1"
         },
         {
          "align": "left",
          "font": {
           "color": "#000000"
          },
          "showarrow": false,
          "text": "Mozilla support (SUMO)",
          "x": -0.45,
          "xanchor": "left",
          "xref": "x1",
          "y": 39,
          "yref": "y1"
         },
         {
          "align": "left",
          "font": {
           "color": "#000000"
          },
          "showarrow": false,
          "text": "Employees",
          "x": 0.55,
          "xanchor": "left",
          "xref": "x1",
          "y": 39,
          "yref": "y1"
         },
         {
          "align": "left",
          "font": {
           "color": "#000000"
          },
          "showarrow": false,
          "text": "61",
          "x": 1.55,
          "xanchor": "left",
          "xref": "x1",
          "y": 39,
          "yref": "y1"
         },
         {
          "align": "left",
          "font": {
           "color": "#000000"
          },
          "showarrow": false,
          "text": "3",
          "x": 2.55,
          "xanchor": "left",
          "xref": "x1",
          "y": 39,
          "yref": "y1"
         },
         {
          "align": "left",
          "font": {
           "color": "#000000"
          },
          "showarrow": false,
          "text": "12",
          "x": 3.55,
          "xanchor": "left",
          "xref": "x1",
          "y": 39,
          "yref": "y1"
         },
         {
          "align": "left",
          "font": {
           "color": "#000000"
          },
          "showarrow": false,
          "text": "Mozilla Foundation",
          "x": -0.45,
          "xanchor": "left",
          "xref": "x1",
          "y": 40,
          "yref": "y1"
         },
         {
          "align": "left",
          "font": {
           "color": "#000000"
          },
          "showarrow": false,
          "text": "Employees",
          "x": 0.55,
          "xanchor": "left",
          "xref": "x1",
          "y": 40,
          "yref": "y1"
         },
         {
          "align": "left",
          "font": {
           "color": "#000000"
          },
          "showarrow": false,
          "text": "49",
          "x": 1.55,
          "xanchor": "left",
          "xref": "x1",
          "y": 40,
          "yref": "y1"
         },
         {
          "align": "left",
          "font": {
           "color": "#000000"
          },
          "showarrow": false,
          "text": "2",
          "x": 2.55,
          "xanchor": "left",
          "xref": "x1",
          "y": 40,
          "yref": "y1"
         },
         {
          "align": "left",
          "font": {
           "color": "#000000"
          },
          "showarrow": false,
          "text": "15",
          "x": 3.55,
          "xanchor": "left",
          "xref": "x1",
          "y": 40,
          "yref": "y1"
         },
         {
          "align": "left",
          "font": {
           "color": "#000000"
          },
          "showarrow": false,
          "text": "Mozilla Foundation",
          "x": -0.45,
          "xanchor": "left",
          "xref": "x1",
          "y": 41,
          "yref": "y1"
         },
         {
          "align": "left",
          "font": {
           "color": "#000000"
          },
          "showarrow": false,
          "text": "Non-Employees",
          "x": 0.55,
          "xanchor": "left",
          "xref": "x1",
          "y": 41,
          "yref": "y1"
         },
         {
          "align": "left",
          "font": {
           "color": "#000000"
          },
          "showarrow": false,
          "text": "29",
          "x": 1.55,
          "xanchor": "left",
          "xref": "x1",
          "y": 41,
          "yref": "y1"
         },
         {
          "align": "left",
          "font": {
           "color": "#000000"
          },
          "showarrow": false,
          "text": "2",
          "x": 2.55,
          "xanchor": "left",
          "xref": "x1",
          "y": 41,
          "yref": "y1"
         },
         {
          "align": "left",
          "font": {
           "color": "#000000"
          },
          "showarrow": false,
          "text": "8",
          "x": 3.55,
          "xanchor": "left",
          "xref": "x1",
          "y": 41,
          "yref": "y1"
         },
         {
          "align": "left",
          "font": {
           "color": "#000000"
          },
          "showarrow": false,
          "text": "Mozilla Creative & Design",
          "x": -0.45,
          "xanchor": "left",
          "xref": "x1",
          "y": 42,
          "yref": "y1"
         },
         {
          "align": "left",
          "font": {
           "color": "#000000"
          },
          "showarrow": false,
          "text": "Non-Employees",
          "x": 0.55,
          "xanchor": "left",
          "xref": "x1",
          "y": 42,
          "yref": "y1"
         },
         {
          "align": "left",
          "font": {
           "color": "#000000"
          },
          "showarrow": false,
          "text": "22",
          "x": 1.55,
          "xanchor": "left",
          "xref": "x1",
          "y": 42,
          "yref": "y1"
         },
         {
          "align": "left",
          "font": {
           "color": "#000000"
          },
          "showarrow": false,
          "text": "1",
          "x": 2.55,
          "xanchor": "left",
          "xref": "x1",
          "y": 42,
          "yref": "y1"
         },
         {
          "align": "left",
          "font": {
           "color": "#000000"
          },
          "showarrow": false,
          "text": "1",
          "x": 3.55,
          "xanchor": "left",
          "xref": "x1",
          "y": 42,
          "yref": "y1"
         },
         {
          "align": "left",
          "font": {
           "color": "#000000"
          },
          "showarrow": false,
          "text": "Firefox Focus",
          "x": -0.45,
          "xanchor": "left",
          "xref": "x1",
          "y": 43,
          "yref": "y1"
         },
         {
          "align": "left",
          "font": {
           "color": "#000000"
          },
          "showarrow": false,
          "text": "Employees",
          "x": 0.55,
          "xanchor": "left",
          "xref": "x1",
          "y": 43,
          "yref": "y1"
         },
         {
          "align": "left",
          "font": {
           "color": "#000000"
          },
          "showarrow": false,
          "text": "18",
          "x": 1.55,
          "xanchor": "left",
          "xref": "x1",
          "y": 43,
          "yref": "y1"
         },
         {
          "align": "left",
          "font": {
           "color": "#000000"
          },
          "showarrow": false,
          "text": "1",
          "x": 2.55,
          "xanchor": "left",
          "xref": "x1",
          "y": 43,
          "yref": "y1"
         },
         {
          "align": "left",
          "font": {
           "color": "#000000"
          },
          "showarrow": false,
          "text": "1",
          "x": 3.55,
          "xanchor": "left",
          "xref": "x1",
          "y": 43,
          "yref": "y1"
         },
         {
          "align": "left",
          "font": {
           "color": "#000000"
          },
          "showarrow": false,
          "text": "Advocacy and policy",
          "x": -0.45,
          "xanchor": "left",
          "xref": "x1",
          "y": 44,
          "yref": "y1"
         },
         {
          "align": "left",
          "font": {
           "color": "#000000"
          },
          "showarrow": false,
          "text": "Non-Employees",
          "x": 0.55,
          "xanchor": "left",
          "xref": "x1",
          "y": 44,
          "yref": "y1"
         },
         {
          "align": "left",
          "font": {
           "color": "#000000"
          },
          "showarrow": false,
          "text": "11",
          "x": 1.55,
          "xanchor": "left",
          "xref": "x1",
          "y": 44,
          "yref": "y1"
         },
         {
          "align": "left",
          "font": {
           "color": "#000000"
          },
          "showarrow": false,
          "text": "1",
          "x": 2.55,
          "xanchor": "left",
          "xref": "x1",
          "y": 44,
          "yref": "y1"
         },
         {
          "align": "left",
          "font": {
           "color": "#000000"
          },
          "showarrow": false,
          "text": "4",
          "x": 3.55,
          "xanchor": "left",
          "xref": "x1",
          "y": 44,
          "yref": "y1"
         },
         {
          "align": "left",
          "font": {
           "color": "#000000"
          },
          "showarrow": false,
          "text": "Connected devices & IoT",
          "x": -0.45,
          "xanchor": "left",
          "xref": "x1",
          "y": 45,
          "yref": "y1"
         },
         {
          "align": "left",
          "font": {
           "color": "#000000"
          },
          "showarrow": false,
          "text": "Employees",
          "x": 0.55,
          "xanchor": "left",
          "xref": "x1",
          "y": 45,
          "yref": "y1"
         },
         {
          "align": "left",
          "font": {
           "color": "#000000"
          },
          "showarrow": false,
          "text": "9",
          "x": 1.55,
          "xanchor": "left",
          "xref": "x1",
          "y": 45,
          "yref": "y1"
         },
         {
          "align": "left",
          "font": {
           "color": "#000000"
          },
          "showarrow": false,
          "text": "1",
          "x": 2.55,
          "xanchor": "left",
          "xref": "x1",
          "y": 45,
          "yref": "y1"
         },
         {
          "align": "left",
          "font": {
           "color": "#000000"
          },
          "showarrow": false,
          "text": "3",
          "x": 3.55,
          "xanchor": "left",
          "xref": "x1",
          "y": 45,
          "yref": "y1"
         },
         {
          "align": "left",
          "font": {
           "color": "#000000"
          },
          "showarrow": false,
          "text": "Web Compatibility",
          "x": -0.45,
          "xanchor": "left",
          "xref": "x1",
          "y": 46,
          "yref": "y1"
         },
         {
          "align": "left",
          "font": {
           "color": "#000000"
          },
          "showarrow": false,
          "text": "Employees",
          "x": 0.55,
          "xanchor": "left",
          "xref": "x1",
          "y": 46,
          "yref": "y1"
         },
         {
          "align": "left",
          "font": {
           "color": "#000000"
          },
          "showarrow": false,
          "text": "7",
          "x": 1.55,
          "xanchor": "left",
          "xref": "x1",
          "y": 46,
          "yref": "y1"
         },
         {
          "align": "left",
          "font": {
           "color": "#000000"
          },
          "showarrow": false,
          "text": "1",
          "x": 2.55,
          "xanchor": "left",
          "xref": "x1",
          "y": 46,
          "yref": "y1"
         },
         {
          "align": "left",
          "font": {
           "color": "#000000"
          },
          "showarrow": false,
          "text": "2",
          "x": 3.55,
          "xanchor": "left",
          "xref": "x1",
          "y": 46,
          "yref": "y1"
         },
         {
          "align": "left",
          "font": {
           "color": "#000000"
          },
          "showarrow": false,
          "text": "Web Compatibility",
          "x": -0.45,
          "xanchor": "left",
          "xref": "x1",
          "y": 47,
          "yref": "y1"
         },
         {
          "align": "left",
          "font": {
           "color": "#000000"
          },
          "showarrow": false,
          "text": "Non-Employees",
          "x": 0.55,
          "xanchor": "left",
          "xref": "x1",
          "y": 47,
          "yref": "y1"
         },
         {
          "align": "left",
          "font": {
           "color": "#000000"
          },
          "showarrow": false,
          "text": "6",
          "x": 1.55,
          "xanchor": "left",
          "xref": "x1",
          "y": 47,
          "yref": "y1"
         },
         {
          "align": "left",
          "font": {
           "color": "#000000"
          },
          "showarrow": false,
          "text": "1",
          "x": 2.55,
          "xanchor": "left",
          "xref": "x1",
          "y": 47,
          "yref": "y1"
         },
         {
          "align": "left",
          "font": {
           "color": "#000000"
          },
          "showarrow": false,
          "text": "1",
          "x": 3.55,
          "xanchor": "left",
          "xref": "x1",
          "y": 47,
          "yref": "y1"
         },
         {
          "align": "left",
          "font": {
           "color": "#000000"
          },
          "showarrow": false,
          "text": "Firefox Focus",
          "x": -0.45,
          "xanchor": "left",
          "xref": "x1",
          "y": 48,
          "yref": "y1"
         },
         {
          "align": "left",
          "font": {
           "color": "#000000"
          },
          "showarrow": false,
          "text": "Non-Employees",
          "x": 0.55,
          "xanchor": "left",
          "xref": "x1",
          "y": 48,
          "yref": "y1"
         },
         {
          "align": "left",
          "font": {
           "color": "#000000"
          },
          "showarrow": false,
          "text": "6",
          "x": 1.55,
          "xanchor": "left",
          "xref": "x1",
          "y": 48,
          "yref": "y1"
         },
         {
          "align": "left",
          "font": {
           "color": "#000000"
          },
          "showarrow": false,
          "text": "1",
          "x": 2.55,
          "xanchor": "left",
          "xref": "x1",
          "y": 48,
          "yref": "y1"
         },
         {
          "align": "left",
          "font": {
           "color": "#000000"
          },
          "showarrow": false,
          "text": "1",
          "x": 3.55,
          "xanchor": "left",
          "xref": "x1",
          "y": 48,
          "yref": "y1"
         },
         {
          "align": "left",
          "font": {
           "color": "#000000"
          },
          "showarrow": false,
          "text": "Rust",
          "x": -0.45,
          "xanchor": "left",
          "xref": "x1",
          "y": 49,
          "yref": "y1"
         },
         {
          "align": "left",
          "font": {
           "color": "#000000"
          },
          "showarrow": false,
          "text": "Employees",
          "x": 0.55,
          "xanchor": "left",
          "xref": "x1",
          "y": 49,
          "yref": "y1"
         },
         {
          "align": "left",
          "font": {
           "color": "#000000"
          },
          "showarrow": false,
          "text": "5",
          "x": 1.55,
          "xanchor": "left",
          "xref": "x1",
          "y": 49,
          "yref": "y1"
         },
         {
          "align": "left",
          "font": {
           "color": "#000000"
          },
          "showarrow": false,
          "text": "1",
          "x": 2.55,
          "xanchor": "left",
          "xref": "x1",
          "y": 49,
          "yref": "y1"
         },
         {
          "align": "left",
          "font": {
           "color": "#000000"
          },
          "showarrow": false,
          "text": "1",
          "x": 3.55,
          "xanchor": "left",
          "xref": "x1",
          "y": 49,
          "yref": "y1"
         },
         {
          "align": "left",
          "font": {
           "color": "#000000"
          },
          "showarrow": false,
          "text": "Advocacy and policy",
          "x": -0.45,
          "xanchor": "left",
          "xref": "x1",
          "y": 50,
          "yref": "y1"
         },
         {
          "align": "left",
          "font": {
           "color": "#000000"
          },
          "showarrow": false,
          "text": "Employees",
          "x": 0.55,
          "xanchor": "left",
          "xref": "x1",
          "y": 50,
          "yref": "y1"
         },
         {
          "align": "left",
          "font": {
           "color": "#000000"
          },
          "showarrow": false,
          "text": "3",
          "x": 1.55,
          "xanchor": "left",
          "xref": "x1",
          "y": 50,
          "yref": "y1"
         },
         {
          "align": "left",
          "font": {
           "color": "#000000"
          },
          "showarrow": false,
          "text": "1",
          "x": 2.55,
          "xanchor": "left",
          "xref": "x1",
          "y": 50,
          "yref": "y1"
         },
         {
          "align": "left",
          "font": {
           "color": "#000000"
          },
          "showarrow": false,
          "text": "2",
          "x": 3.55,
          "xanchor": "left",
          "xref": "x1",
          "y": 50,
          "yref": "y1"
         },
         {
          "align": "left",
          "font": {
           "color": "#000000"
          },
          "showarrow": false,
          "text": "Connected devices & IoT",
          "x": -0.45,
          "xanchor": "left",
          "xref": "x1",
          "y": 51,
          "yref": "y1"
         },
         {
          "align": "left",
          "font": {
           "color": "#000000"
          },
          "showarrow": false,
          "text": "Non-Employees",
          "x": 0.55,
          "xanchor": "left",
          "xref": "x1",
          "y": 51,
          "yref": "y1"
         },
         {
          "align": "left",
          "font": {
           "color": "#000000"
          },
          "showarrow": false,
          "text": "1",
          "x": 1.55,
          "xanchor": "left",
          "xref": "x1",
          "y": 51,
          "yref": "y1"
         },
         {
          "align": "left",
          "font": {
           "color": "#000000"
          },
          "showarrow": false,
          "text": "1",
          "x": 2.55,
          "xanchor": "left",
          "xref": "x1",
          "y": 51,
          "yref": "y1"
         },
         {
          "align": "left",
          "font": {
           "color": "#000000"
          },
          "showarrow": false,
          "text": "1",
          "x": 3.55,
          "xanchor": "left",
          "xref": "x1",
          "y": 51,
          "yref": "y1"
         },
         {
          "align": "left",
          "font": {
           "color": "#000000"
          },
          "showarrow": false,
          "text": "Firefox Student Ambassadors",
          "x": -0.45,
          "xanchor": "left",
          "xref": "x1",
          "y": 52,
          "yref": "y1"
         },
         {
          "align": "left",
          "font": {
           "color": "#000000"
          },
          "showarrow": false,
          "text": "Non-Employees",
          "x": 0.55,
          "xanchor": "left",
          "xref": "x1",
          "y": 52,
          "yref": "y1"
         },
         {
          "align": "left",
          "font": {
           "color": "#000000"
          },
          "showarrow": false,
          "text": "1",
          "x": 1.55,
          "xanchor": "left",
          "xref": "x1",
          "y": 52,
          "yref": "y1"
         },
         {
          "align": "left",
          "font": {
           "color": "#000000"
          },
          "showarrow": false,
          "text": "1",
          "x": 2.55,
          "xanchor": "left",
          "xref": "x1",
          "y": 52,
          "yref": "y1"
         },
         {
          "align": "left",
          "font": {
           "color": "#000000"
          },
          "showarrow": false,
          "text": "1",
          "x": 3.55,
          "xanchor": "left",
          "xref": "x1",
          "y": 52,
          "yref": "y1"
         }
        ],
        "height": 1640,
        "margin": {
         "b": 0,
         "l": 0,
         "r": 0,
         "t": 0
        },
        "xaxis": {
         "dtick": 1,
         "gridwidth": 2,
         "showticklabels": false,
         "tick0": -0.5,
         "ticks": "",
         "zeroline": false
        },
        "yaxis": {
         "autorange": "reversed",
         "dtick": 1,
         "gridwidth": 2,
         "showticklabels": false,
         "tick0": 0.5,
         "ticks": "",
         "zeroline": false
        }
       }
      },
      "text/html": [
       "<div id=\"d62f3447-05ab-4000-b188-3a0f0b8f6b0b\" style=\"height: 1640px; width: 100%;\" class=\"plotly-graph-div\"></div><script type=\"text/javascript\">require([\"plotly\"], function(Plotly) { window.PLOTLYENV=window.PLOTLYENV || {};window.PLOTLYENV.BASE_URL=\"https://plot.ly\";Plotly.newPlot(\"d62f3447-05ab-4000-b188-3a0f0b8f6b0b\", [{\"hoverinfo\": \"none\", \"colorscale\": [[0, \"#00083e\"], [0.5, \"#ededee\"], [1, \"#ffffff\"]], \"z\": [[0, 0, 0, 0, 0], [0.5, 0.5, 0.5, 0.5, 0.5], [1, 1, 1, 1, 1], [0.5, 0.5, 0.5, 0.5, 0.5], [1, 1, 1, 1, 1], [0.5, 0.5, 0.5, 0.5, 0.5], [1, 1, 1, 1, 1], [0.5, 0.5, 0.5, 0.5, 0.5], [1, 1, 1, 1, 1], [0.5, 0.5, 0.5, 0.5, 0.5], [1, 1, 1, 1, 1], [0.5, 0.5, 0.5, 0.5, 0.5], [1, 1, 1, 1, 1], [0.5, 0.5, 0.5, 0.5, 0.5], [1, 1, 1, 1, 1], [0.5, 0.5, 0.5, 0.5, 0.5], [1, 1, 1, 1, 1], [0.5, 0.5, 0.5, 0.5, 0.5], [1, 1, 1, 1, 1], [0.5, 0.5, 0.5, 0.5, 0.5], [1, 1, 1, 1, 1], [0.5, 0.5, 0.5, 0.5, 0.5], [1, 1, 1, 1, 1], [0.5, 0.5, 0.5, 0.5, 0.5], [1, 1, 1, 1, 1], [0.5, 0.5, 0.5, 0.5, 0.5], [1, 1, 1, 1, 1], [0.5, 0.5, 0.5, 0.5, 0.5], [1, 1, 1, 1, 1], [0.5, 0.5, 0.5, 0.5, 0.5], [1, 1, 1, 1, 1], [0.5, 0.5, 0.5, 0.5, 0.5], [1, 1, 1, 1, 1], [0.5, 0.5, 0.5, 0.5, 0.5], [1, 1, 1, 1, 1], [0.5, 0.5, 0.5, 0.5, 0.5], [1, 1, 1, 1, 1], [0.5, 0.5, 0.5, 0.5, 0.5], [1, 1, 1, 1, 1], [0.5, 0.5, 0.5, 0.5, 0.5], [1, 1, 1, 1, 1], [0.5, 0.5, 0.5, 0.5, 0.5], [1, 1, 1, 1, 1], [0.5, 0.5, 0.5, 0.5, 0.5], [1, 1, 1, 1, 1], [0.5, 0.5, 0.5, 0.5, 0.5], [1, 1, 1, 1, 1], [0.5, 0.5, 0.5, 0.5, 0.5], [1, 1, 1, 1, 1], [0.5, 0.5, 0.5, 0.5, 0.5], [1, 1, 1, 1, 1], [0.5, 0.5, 0.5, 0.5, 0.5], [1, 1, 1, 1, 1]], \"showscale\": false, \"opacity\": 0.75, \"type\": \"heatmap\"}], {\"height\": 1640, \"yaxis\": {\"gridwidth\": 2, \"dtick\": 1, \"ticks\": \"\", \"tick0\": 0.5, \"showticklabels\": false, \"zeroline\": false, \"autorange\": \"reversed\"}, \"xaxis\": {\"gridwidth\": 2, \"dtick\": 1, \"ticks\": \"\", \"tick0\": -0.5, \"showticklabels\": false, \"zeroline\": false}, \"margin\": {\"r\": 0, \"b\": 0, \"l\": 0, \"t\": 0}, \"annotations\": [{\"font\": {\"color\": \"#ffffff\"}, \"y\": 0, \"text\": \"<b>Project</b>\", \"x\": -0.45, \"xref\": \"x1\", \"align\": \"left\", \"yref\": \"y1\", \"showarrow\": false, \"xanchor\": \"left\"}, {\"font\": {\"color\": \"#ffffff\"}, \"y\": 0, \"text\": \"<b>Org</b>\", \"x\": 0.55, \"xref\": \"x1\", \"align\": \"left\", \"yref\": \"y1\", \"showarrow\": false, \"xanchor\": \"left\"}, {\"font\": {\"color\": \"#ffffff\"}, \"y\": 0, \"text\": \"<b>uuid</b>\", \"x\": 1.55, \"xref\": \"x1\", \"align\": \"left\", \"yref\": \"y1\", \"showarrow\": false, \"xanchor\": \"left\"}, {\"font\": {\"color\": \"#ffffff\"}, \"y\": 0, \"text\": \"<b>Product</b>\", \"x\": 2.55, \"xref\": \"x1\", \"align\": \"left\", \"yref\": \"y1\", \"showarrow\": false, \"xanchor\": \"left\"}, {\"font\": {\"color\": \"#ffffff\"}, \"y\": 0, \"text\": \"<b>Component</b>\", \"x\": 3.55, \"xref\": \"x1\", \"align\": \"left\", \"yref\": \"y1\", \"showarrow\": false, \"xanchor\": \"left\"}, {\"font\": {\"color\": \"#000000\"}, \"y\": 1, \"text\": \"Firefox\", \"x\": -0.45, \"xref\": \"x1\", \"align\": \"left\", \"yref\": \"y1\", \"showarrow\": false, \"xanchor\": \"left\"}, {\"font\": {\"color\": \"#000000\"}, \"y\": 1, \"text\": \"Non-Employees\", \"x\": 0.55, \"xref\": \"x1\", \"align\": \"left\", \"yref\": \"y1\", \"showarrow\": false, \"xanchor\": \"left\"}, {\"font\": {\"color\": \"#000000\"}, \"y\": 1, \"text\": \"71348\", \"x\": 1.55, \"xref\": \"x1\", \"align\": \"left\", \"yref\": \"y1\", \"showarrow\": false, \"xanchor\": \"left\"}, {\"font\": {\"color\": \"#000000\"}, \"y\": 1, \"text\": \"3\", \"x\": 2.55, \"xref\": \"x1\", \"align\": \"left\", \"yref\": \"y1\", \"showarrow\": false, \"xanchor\": \"left\"}, {\"font\": {\"color\": \"#000000\"}, \"y\": 1, \"text\": \"56\", \"x\": 3.55, \"xref\": \"x1\", \"align\": \"left\", \"yref\": \"y1\", \"showarrow\": false, \"xanchor\": \"left\"}, {\"font\": {\"color\": \"#000000\"}, \"y\": 2, \"text\": \"Gecko\", \"x\": -0.45, \"xref\": \"x1\", \"align\": \"left\", \"yref\": \"y1\", \"showarrow\": false, \"xanchor\": \"left\"}, {\"font\": {\"color\": \"#000000\"}, \"y\": 2, \"text\": \"Non-Employees\", \"x\": 0.55, \"xref\": \"x1\", \"align\": \"left\", \"yref\": \"y1\", \"showarrow\": false, \"xanchor\": \"left\"}, {\"font\": {\"color\": \"#000000\"}, \"y\": 2, \"text\": \"61384\", \"x\": 1.55, \"xref\": \"x1\", \"align\": \"left\", \"yref\": \"y1\", \"showarrow\": false, \"xanchor\": \"left\"}, {\"font\": {\"color\": \"#000000\"}, \"y\": 2, \"text\": \"5\", \"x\": 2.55, \"xref\": \"x1\", \"align\": \"left\", \"yref\": \"y1\", \"showarrow\": false, \"xanchor\": \"left\"}, {\"font\": {\"color\": \"#000000\"}, \"y\": 2, \"text\": \"245\", \"x\": 3.55, \"xref\": \"x1\", \"align\": \"left\", \"yref\": \"y1\", \"showarrow\": false, \"xanchor\": \"left\"}, {\"font\": {\"color\": \"#000000\"}, \"y\": 3, \"text\": \"Thunderbird\", \"x\": -0.45, \"xref\": \"x1\", \"align\": \"left\", \"yref\": \"y1\", \"showarrow\": false, \"xanchor\": \"left\"}, {\"font\": {\"color\": \"#000000\"}, \"y\": 3, \"text\": \"Non-Employees\", \"x\": 0.55, \"xref\": \"x1\", \"align\": \"left\", \"yref\": \"y1\", \"showarrow\": false, \"xanchor\": \"left\"}, {\"font\": {\"color\": \"#000000\"}, \"y\": 3, \"text\": \"29644\", \"x\": 1.55, \"xref\": \"x1\", \"align\": \"left\", \"yref\": \"y1\", \"showarrow\": false, \"xanchor\": \"left\"}, {\"font\": {\"color\": \"#000000\"}, \"y\": 3, \"text\": \"3\", \"x\": 2.55, \"xref\": \"x1\", \"align\": \"left\", \"yref\": \"y1\", \"showarrow\": false, \"xanchor\": \"left\"}, {\"font\": {\"color\": \"#000000\"}, \"y\": 3, \"text\": \"47\", \"x\": 3.55, \"xref\": \"x1\", \"align\": \"left\", \"yref\": \"y1\", \"showarrow\": false, \"xanchor\": \"left\"}, {\"font\": {\"color\": \"#000000\"}, \"y\": 4, \"text\": \"Technical/Developer Evangelism\", \"x\": -0.45, \"xref\": \"x1\", \"align\": \"left\", \"yref\": \"y1\", \"showarrow\": false, \"xanchor\": \"left\"}, {\"font\": {\"color\": \"#000000\"}, \"y\": 4, \"text\": \"Non-Employees\", \"x\": 0.55, \"xref\": \"x1\", \"align\": \"left\", \"yref\": \"y1\", \"showarrow\": false, \"xanchor\": \"left\"}, {\"font\": {\"color\": \"#000000\"}, \"y\": 4, \"text\": \"5249\", \"x\": 1.55, \"xref\": \"x1\", \"align\": \"left\", \"yref\": \"y1\", \"showarrow\": false, \"xanchor\": \"left\"}, {\"font\": {\"color\": \"#000000\"}, \"y\": 4, \"text\": \"3\", \"x\": 2.55, \"xref\": \"x1\", \"align\": \"left\", \"yref\": \"y1\", \"showarrow\": false, \"xanchor\": \"left\"}, {\"font\": {\"color\": \"#000000\"}, \"y\": 4, \"text\": \"44\", \"x\": 3.55, \"xref\": \"x1\", \"align\": \"left\", \"yref\": \"y1\", \"showarrow\": false, \"xanchor\": \"left\"}, {\"font\": {\"color\": \"#000000\"}, \"y\": 5, \"text\": \"Web Properties\", \"x\": -0.45, \"xref\": \"x1\", \"align\": \"left\", \"yref\": \"y1\", \"showarrow\": false, \"xanchor\": \"left\"}, {\"font\": {\"color\": \"#000000\"}, \"y\": 5, \"text\": \"Non-Employees\", \"x\": 0.55, \"xref\": \"x1\", \"align\": \"left\", \"yref\": \"y1\", \"showarrow\": false, \"xanchor\": \"left\"}, {\"font\": {\"color\": \"#000000\"}, \"y\": 5, \"text\": \"4254\", \"x\": 1.55, \"xref\": \"x1\", \"align\": \"left\", \"yref\": \"y1\", \"showarrow\": false, \"xanchor\": \"left\"}, {\"font\": {\"color\": \"#000000\"}, \"y\": 5, \"text\": \"16\", \"x\": 2.55, \"xref\": \"x1\", \"align\": \"left\", \"yref\": \"y1\", \"showarrow\": false, \"xanchor\": \"left\"}, {\"font\": {\"color\": \"#000000\"}, \"y\": 5, \"text\": \"166\", \"x\": 3.55, \"xref\": \"x1\", \"align\": \"left\", \"yref\": \"y1\", \"showarrow\": false, \"xanchor\": \"left\"}, {\"font\": {\"color\": \"#000000\"}, \"y\": 6, \"text\": \"IT/Ops\", \"x\": -0.45, \"xref\": \"x1\", \"align\": \"left\", \"yref\": \"y1\", \"showarrow\": false, \"xanchor\": \"left\"}, {\"font\": {\"color\": \"#000000\"}, \"y\": 6, \"text\": \"Non-Employees\", \"x\": 0.55, \"xref\": \"x1\", \"align\": \"left\", \"yref\": \"y1\", \"showarrow\": false, \"xanchor\": \"left\"}, {\"font\": {\"color\": \"#000000\"}, \"y\": 6, \"text\": \"2730\", \"x\": 1.55, \"xref\": \"x1\", \"align\": \"left\", \"yref\": \"y1\", \"showarrow\": false, \"xanchor\": \"left\"}, {\"font\": {\"color\": \"#000000\"}, \"y\": 6, \"text\": \"11\", \"x\": 2.55, \"xref\": \"x1\", \"align\": \"left\", \"yref\": \"y1\", \"showarrow\": false, \"xanchor\": \"left\"}, {\"font\": {\"color\": \"#000000\"}, \"y\": 6, \"text\": \"172\", \"x\": 3.55, \"xref\": \"x1\", \"align\": \"left\", \"yref\": \"y1\", \"showarrow\": false, \"xanchor\": \"left\"}, {\"font\": {\"color\": \"#000000\"}, \"y\": 7, \"text\": \"Firefox Android\", \"x\": -0.45, \"xref\": \"x1\", \"align\": \"left\", \"yref\": \"y1\", \"showarrow\": false, \"xanchor\": \"left\"}, {\"font\": {\"color\": \"#000000\"}, \"y\": 7, \"text\": \"Non-Employees\", \"x\": 0.55, \"xref\": \"x1\", \"align\": \"left\", \"yref\": \"y1\", \"showarrow\": false, \"xanchor\": \"left\"}, {\"font\": {\"color\": \"#000000\"}, \"y\": 7, \"text\": \"2484\", \"x\": 1.55, \"xref\": \"x1\", \"align\": \"left\", \"yref\": \"y1\", \"showarrow\": false, \"xanchor\": \"left\"}, {\"font\": {\"color\": \"#000000\"}, \"y\": 7, \"text\": \"2\", \"x\": 2.55, \"xref\": \"x1\", \"align\": \"left\", \"yref\": \"y1\", \"showarrow\": false, \"xanchor\": \"left\"}, {\"font\": {\"color\": \"#000000\"}, \"y\": 7, \"text\": \"36\", \"x\": 3.55, \"xref\": \"x1\", \"align\": \"left\", \"yref\": \"y1\", \"showarrow\": false, \"xanchor\": \"left\"}, {\"font\": {\"color\": \"#000000\"}, \"y\": 8, \"text\": \"IT/Ops\", \"x\": -0.45, \"xref\": \"x1\", \"align\": \"left\", \"yref\": \"y1\", \"showarrow\": false, \"xanchor\": \"left\"}, {\"font\": {\"color\": \"#000000\"}, \"y\": 8, \"text\": \"Employees\", \"x\": 0.55, \"xref\": \"x1\", \"align\": \"left\", \"yref\": \"y1\", \"showarrow\": false, \"xanchor\": \"left\"}, {\"font\": {\"color\": \"#000000\"}, \"y\": 8, \"text\": \"2242\", \"x\": 1.55, \"xref\": \"x1\", \"align\": \"left\", \"yref\": \"y1\", \"showarrow\": false, \"xanchor\": \"left\"}, {\"font\": {\"color\": \"#000000\"}, \"y\": 8, \"text\": \"11\", \"x\": 2.55, \"xref\": \"x1\", \"align\": \"left\", \"yref\": \"y1\", \"showarrow\": false, \"xanchor\": \"left\"}, {\"font\": {\"color\": \"#000000\"}, \"y\": 8, \"text\": \"213\", \"x\": 3.55, \"xref\": \"x1\", \"align\": \"left\", \"yref\": \"y1\", \"showarrow\": false, \"xanchor\": \"left\"}, {\"font\": {\"color\": \"#000000\"}, \"y\": 9, \"text\": \"Addons/Web Extensions\", \"x\": -0.45, \"xref\": \"x1\", \"align\": \"left\", \"yref\": \"y1\", \"showarrow\": false, \"xanchor\": \"left\"}, {\"font\": {\"color\": \"#000000\"}, \"y\": 9, \"text\": \"Non-Employees\", \"x\": 0.55, \"xref\": \"x1\", \"align\": \"left\", \"yref\": \"y1\", \"showarrow\": false, \"xanchor\": \"left\"}, {\"font\": {\"color\": \"#000000\"}, \"y\": 9, \"text\": \"2176\", \"x\": 1.55, \"xref\": \"x1\", \"align\": \"left\", \"yref\": \"y1\", \"showarrow\": false, \"xanchor\": \"left\"}, {\"font\": {\"color\": \"#000000\"}, \"y\": 9, \"text\": \"3\", \"x\": 2.55, \"xref\": \"x1\", \"align\": \"left\", \"yref\": \"y1\", \"showarrow\": false, \"xanchor\": \"left\"}, {\"font\": {\"color\": \"#000000\"}, \"y\": 9, \"text\": \"25\", \"x\": 3.55, \"xref\": \"x1\", \"align\": \"left\", \"yref\": \"y1\", \"showarrow\": false, \"xanchor\": \"left\"}, {\"font\": {\"color\": \"#000000\"}, \"y\": 10, \"text\": \"Firefox OS (FxOS / B2G)\", \"x\": -0.45, \"xref\": \"x1\", \"align\": \"left\", \"yref\": \"y1\", \"showarrow\": false, \"xanchor\": \"left\"}, {\"font\": {\"color\": \"#000000\"}, \"y\": 10, \"text\": \"Non-Employees\", \"x\": 0.55, \"xref\": \"x1\", \"align\": \"left\", \"yref\": \"y1\", \"showarrow\": false, \"xanchor\": \"left\"}, {\"font\": {\"color\": \"#000000\"}, \"y\": 10, \"text\": \"2022\", \"x\": 1.55, \"xref\": \"x1\", \"align\": \"left\", \"yref\": \"y1\", \"showarrow\": false, \"xanchor\": \"left\"}, {\"font\": {\"color\": \"#000000\"}, \"y\": 10, \"text\": \"4\", \"x\": 2.55, \"xref\": \"x1\", \"align\": \"left\", \"yref\": \"y1\", \"showarrow\": false, \"xanchor\": \"left\"}, {\"font\": {\"color\": \"#000000\"}, \"y\": 10, \"text\": \"113\", \"x\": 3.55, \"xref\": \"x1\", \"align\": \"left\", \"yref\": \"y1\", \"showarrow\": false, \"xanchor\": \"left\"}, {\"font\": {\"color\": \"#000000\"}, \"y\": 11, \"text\": \"Localization\", \"x\": -0.45, \"xref\": \"x1\", \"align\": \"left\", \"yref\": \"y1\", \"showarrow\": false, \"xanchor\": \"left\"}, {\"font\": {\"color\": \"#000000\"}, \"y\": 11, \"text\": \"Non-Employees\", \"x\": 0.55, \"xref\": \"x1\", \"align\": \"left\", \"yref\": \"y1\", \"showarrow\": false, \"xanchor\": \"left\"}, {\"font\": {\"color\": \"#000000\"}, \"y\": 11, \"text\": \"1935\", \"x\": 1.55, \"xref\": \"x1\", \"align\": \"left\", \"yref\": \"y1\", \"showarrow\": false, \"xanchor\": \"left\"}, {\"font\": {\"color\": \"#000000\"}, \"y\": 11, \"text\": \"4\", \"x\": 2.55, \"xref\": \"x1\", \"align\": \"left\", \"yref\": \"y1\", \"showarrow\": false, \"xanchor\": \"left\"}, {\"font\": {\"color\": \"#000000\"}, \"y\": 11, \"text\": \"115\", \"x\": 3.55, \"xref\": \"x1\", \"align\": \"left\", \"yref\": \"y1\", \"showarrow\": false, \"xanchor\": \"left\"}, {\"font\": {\"color\": \"#000000\"}, \"y\": 12, \"text\": \"Mozilla Developer Network (MDN)\", \"x\": -0.45, \"xref\": \"x1\", \"align\": \"left\", \"yref\": \"y1\", \"showarrow\": false, \"xanchor\": \"left\"}, {\"font\": {\"color\": \"#000000\"}, \"y\": 12, \"text\": \"Non-Employees\", \"x\": 0.55, \"xref\": \"x1\", \"align\": \"left\", \"yref\": \"y1\", \"showarrow\": false, \"xanchor\": \"left\"}, {\"font\": {\"color\": \"#000000\"}, \"y\": 12, \"text\": \"1866\", \"x\": 1.55, \"xref\": \"x1\", \"align\": \"left\", \"yref\": \"y1\", \"showarrow\": false, \"xanchor\": \"left\"}, {\"font\": {\"color\": \"#000000\"}, \"y\": 12, \"text\": \"2\", \"x\": 2.55, \"xref\": \"x1\", \"align\": \"left\", \"yref\": \"y1\", \"showarrow\": false, \"xanchor\": \"left\"}, {\"font\": {\"color\": \"#000000\"}, \"y\": 12, \"text\": \"53\", \"x\": 3.55, \"xref\": \"x1\", \"align\": \"left\", \"yref\": \"y1\", \"showarrow\": false, \"xanchor\": \"left\"}, {\"font\": {\"color\": \"#000000\"}, \"y\": 13, \"text\": \"Gecko\", \"x\": -0.45, \"xref\": \"x1\", \"align\": \"left\", \"yref\": \"y1\", \"showarrow\": false, \"xanchor\": \"left\"}, {\"font\": {\"color\": \"#000000\"}, \"y\": 13, \"text\": \"Employees\", \"x\": 0.55, \"xref\": \"x1\", \"align\": \"left\", \"yref\": \"y1\", \"showarrow\": false, \"xanchor\": \"left\"}, {\"font\": {\"color\": \"#000000\"}, \"y\": 13, \"text\": \"1679\", \"x\": 1.55, \"xref\": \"x1\", \"align\": \"left\", \"yref\": \"y1\", \"showarrow\": false, \"xanchor\": \"left\"}, {\"font\": {\"color\": \"#000000\"}, \"y\": 13, \"text\": \"5\", \"x\": 2.55, \"xref\": \"x1\", \"align\": \"left\", \"yref\": \"y1\", \"showarrow\": false, \"xanchor\": \"left\"}, {\"font\": {\"color\": \"#000000\"}, \"y\": 13, \"text\": \"234\", \"x\": 3.55, \"xref\": \"x1\", \"align\": \"left\", \"yref\": \"y1\", \"showarrow\": false, \"xanchor\": \"left\"}, {\"font\": {\"color\": \"#000000\"}, \"y\": 14, \"text\": \"Web Properties\", \"x\": -0.45, \"xref\": \"x1\", \"align\": \"left\", \"yref\": \"y1\", \"showarrow\": false, \"xanchor\": \"left\"}, {\"font\": {\"color\": \"#000000\"}, \"y\": 14, \"text\": \"Employees\", \"x\": 0.55, \"xref\": \"x1\", \"align\": \"left\", \"yref\": \"y1\", \"showarrow\": false, \"xanchor\": \"left\"}, {\"font\": {\"color\": \"#000000\"}, \"y\": 14, \"text\": \"1547\", \"x\": 1.55, \"xref\": \"x1\", \"align\": \"left\", \"yref\": \"y1\", \"showarrow\": false, \"xanchor\": \"left\"}, {\"font\": {\"color\": \"#000000\"}, \"y\": 14, \"text\": \"16\", \"x\": 2.55, \"xref\": \"x1\", \"align\": \"left\", \"yref\": \"y1\", \"showarrow\": false, \"xanchor\": \"left\"}, {\"font\": {\"color\": \"#000000\"}, \"y\": 14, \"text\": \"176\", \"x\": 3.55, \"xref\": \"x1\", \"align\": \"left\", \"yref\": \"y1\", \"showarrow\": false, \"xanchor\": \"left\"}, {\"font\": {\"color\": \"#000000\"}, \"y\": 15, \"text\": \"Firefox\", \"x\": -0.45, \"xref\": \"x1\", \"align\": \"left\", \"yref\": \"y1\", \"showarrow\": false, \"xanchor\": \"left\"}, {\"font\": {\"color\": \"#000000\"}, \"y\": 15, \"text\": \"Employees\", \"x\": 0.55, \"xref\": \"x1\", \"align\": \"left\", \"yref\": \"y1\", \"showarrow\": false, \"xanchor\": \"left\"}, {\"font\": {\"color\": \"#000000\"}, \"y\": 15, \"text\": \"1340\", \"x\": 1.55, \"xref\": \"x1\", \"align\": \"left\", \"yref\": \"y1\", \"showarrow\": false, \"xanchor\": \"left\"}, {\"font\": {\"color\": \"#000000\"}, \"y\": 15, \"text\": \"3\", \"x\": 2.55, \"xref\": \"x1\", \"align\": \"left\", \"yref\": \"y1\", \"showarrow\": false, \"xanchor\": \"left\"}, {\"font\": {\"color\": \"#000000\"}, \"y\": 15, \"text\": \"58\", \"x\": 3.55, \"xref\": \"x1\", \"align\": \"left\", \"yref\": \"y1\", \"showarrow\": false, \"xanchor\": \"left\"}, {\"font\": {\"color\": \"#000000\"}, \"y\": 16, \"text\": \"Developer Tools\", \"x\": -0.45, \"xref\": \"x1\", \"align\": \"left\", \"yref\": \"y1\", \"showarrow\": false, \"xanchor\": \"left\"}, {\"font\": {\"color\": \"#000000\"}, \"y\": 16, \"text\": \"Non-Employees\", \"x\": 0.55, \"xref\": \"x1\", \"align\": \"left\", \"yref\": \"y1\", \"showarrow\": false, \"xanchor\": \"left\"}, {\"font\": {\"color\": \"#000000\"}, \"y\": 16, \"text\": \"1186\", \"x\": 1.55, \"xref\": \"x1\", \"align\": \"left\", \"yref\": \"y1\", \"showarrow\": false, \"xanchor\": \"left\"}, {\"font\": {\"color\": \"#000000\"}, \"y\": 16, \"text\": \"1\", \"x\": 2.55, \"xref\": \"x1\", \"align\": \"left\", \"yref\": \"y1\", \"showarrow\": false, \"xanchor\": \"left\"}, {\"font\": {\"color\": \"#000000\"}, \"y\": 16, \"text\": \"24\", \"x\": 3.55, \"xref\": \"x1\", \"align\": \"left\", \"yref\": \"y1\", \"showarrow\": false, \"xanchor\": \"left\"}, {\"font\": {\"color\": \"#000000\"}, \"y\": 17, \"text\": \"Firefox OS (FxOS / B2G)\", \"x\": -0.45, \"xref\": \"x1\", \"align\": \"left\", \"yref\": \"y1\", \"showarrow\": false, \"xanchor\": \"left\"}, {\"font\": {\"color\": \"#000000\"}, \"y\": 17, \"text\": \"Employees\", \"x\": 0.55, \"xref\": \"x1\", \"align\": \"left\", \"yref\": \"y1\", \"showarrow\": false, \"xanchor\": \"left\"}, {\"font\": {\"color\": \"#000000\"}, \"y\": 17, \"text\": \"946\", \"x\": 1.55, \"xref\": \"x1\", \"align\": \"left\", \"yref\": \"y1\", \"showarrow\": false, \"xanchor\": \"left\"}, {\"font\": {\"color\": \"#000000\"}, \"y\": 17, \"text\": \"4\", \"x\": 2.55, \"xref\": \"x1\", \"align\": \"left\", \"yref\": \"y1\", \"showarrow\": false, \"xanchor\": \"left\"}, {\"font\": {\"color\": \"#000000\"}, \"y\": 17, \"text\": \"115\", \"x\": 3.55, \"xref\": \"x1\", \"align\": \"left\", \"yref\": \"y1\", \"showarrow\": false, \"xanchor\": \"left\"}, {\"font\": {\"color\": \"#000000\"}, \"y\": 18, \"text\": \"Firefox Android\", \"x\": -0.45, \"xref\": \"x1\", \"align\": \"left\", \"yref\": \"y1\", \"showarrow\": false, \"xanchor\": \"left\"}, {\"font\": {\"color\": \"#000000\"}, \"y\": 18, \"text\": \"Employees\", \"x\": 0.55, \"xref\": \"x1\", \"align\": \"left\", \"yref\": \"y1\", \"showarrow\": false, \"xanchor\": \"left\"}, {\"font\": {\"color\": \"#000000\"}, \"y\": 18, \"text\": \"699\", \"x\": 1.55, \"xref\": \"x1\", \"align\": \"left\", \"yref\": \"y1\", \"showarrow\": false, \"xanchor\": \"left\"}, {\"font\": {\"color\": \"#000000\"}, \"y\": 18, \"text\": \"2\", \"x\": 2.55, \"xref\": \"x1\", \"align\": \"left\", \"yref\": \"y1\", \"showarrow\": false, \"xanchor\": \"left\"}, {\"font\": {\"color\": \"#000000\"}, \"y\": 18, \"text\": \"36\", \"x\": 3.55, \"xref\": \"x1\", \"align\": \"left\", \"yref\": \"y1\", \"showarrow\": false, \"xanchor\": \"left\"}, {\"font\": {\"color\": \"#000000\"}, \"y\": 19, \"text\": \"Release engineering\", \"x\": -0.45, \"xref\": \"x1\", \"align\": \"left\", \"yref\": \"y1\", \"showarrow\": false, \"xanchor\": \"left\"}, {\"font\": {\"color\": \"#000000\"}, \"y\": 19, \"text\": \"Employees\", \"x\": 0.55, \"xref\": \"x1\", \"align\": \"left\", \"yref\": \"y1\", \"showarrow\": false, \"xanchor\": \"left\"}, {\"font\": {\"color\": \"#000000\"}, \"y\": 19, \"text\": \"636\", \"x\": 1.55, \"xref\": \"x1\", \"align\": \"left\", \"yref\": \"y1\", \"showarrow\": false, \"xanchor\": \"left\"}, {\"font\": {\"color\": \"#000000\"}, \"y\": 19, \"text\": \"1\", \"x\": 2.55, \"xref\": \"x1\", \"align\": \"left\", \"yref\": \"y1\", \"showarrow\": false, \"xanchor\": \"left\"}, {\"font\": {\"color\": \"#000000\"}, \"y\": 19, \"text\": \"14\", \"x\": 3.55, \"xref\": \"x1\", \"align\": \"left\", \"yref\": \"y1\", \"showarrow\": false, \"xanchor\": \"left\"}, {\"font\": {\"color\": \"#000000\"}, \"y\": 20, \"text\": \"Quality Assurance\", \"x\": -0.45, \"xref\": \"x1\", \"align\": \"left\", \"yref\": \"y1\", \"showarrow\": false, \"xanchor\": \"left\"}, {\"font\": {\"color\": \"#000000\"}, \"y\": 20, \"text\": \"Employees\", \"x\": 0.55, \"xref\": \"x1\", \"align\": \"left\", \"yref\": \"y1\", \"showarrow\": false, \"xanchor\": \"left\"}, {\"font\": {\"color\": \"#000000\"}, \"y\": 20, \"text\": \"582\", \"x\": 1.55, \"xref\": \"x1\", \"align\": \"left\", \"yref\": \"y1\", \"showarrow\": false, \"xanchor\": \"left\"}, {\"font\": {\"color\": \"#000000\"}, \"y\": 20, \"text\": \"4\", \"x\": 2.55, \"xref\": \"x1\", \"align\": \"left\", \"yref\": \"y1\", \"showarrow\": false, \"xanchor\": \"left\"}, {\"font\": {\"color\": \"#000000\"}, \"y\": 20, \"text\": \"42\", \"x\": 3.55, \"xref\": \"x1\", \"align\": \"left\", \"yref\": \"y1\", \"showarrow\": false, \"xanchor\": \"left\"}, {\"font\": {\"color\": \"#000000\"}, \"y\": 21, \"text\": \"Thunderbird\", \"x\": -0.45, \"xref\": \"x1\", \"align\": \"left\", \"yref\": \"y1\", \"showarrow\": false, \"xanchor\": \"left\"}, {\"font\": {\"color\": \"#000000\"}, \"y\": 21, \"text\": \"Employees\", \"x\": 0.55, \"xref\": \"x1\", \"align\": \"left\", \"yref\": \"y1\", \"showarrow\": false, \"xanchor\": \"left\"}, {\"font\": {\"color\": \"#000000\"}, \"y\": 21, \"text\": \"565\", \"x\": 1.55, \"xref\": \"x1\", \"align\": \"left\", \"yref\": \"y1\", \"showarrow\": false, \"xanchor\": \"left\"}, {\"font\": {\"color\": \"#000000\"}, \"y\": 21, \"text\": \"3\", \"x\": 2.55, \"xref\": \"x1\", \"align\": \"left\", \"yref\": \"y1\", \"showarrow\": false, \"xanchor\": \"left\"}, {\"font\": {\"color\": \"#000000\"}, \"y\": 21, \"text\": \"48\", \"x\": 3.55, \"xref\": \"x1\", \"align\": \"left\", \"yref\": \"y1\", \"showarrow\": false, \"xanchor\": \"left\"}, {\"font\": {\"color\": \"#000000\"}, \"y\": 22, \"text\": \"Quality Assurance\", \"x\": -0.45, \"xref\": \"x1\", \"align\": \"left\", \"yref\": \"y1\", \"showarrow\": false, \"xanchor\": \"left\"}, {\"font\": {\"color\": \"#000000\"}, \"y\": 22, \"text\": \"Non-Employees\", \"x\": 0.55, \"xref\": \"x1\", \"align\": \"left\", \"yref\": \"y1\", \"showarrow\": false, \"xanchor\": \"left\"}, {\"font\": {\"color\": \"#000000\"}, \"y\": 22, \"text\": \"535\", \"x\": 1.55, \"xref\": \"x1\", \"align\": \"left\", \"yref\": \"y1\", \"showarrow\": false, \"xanchor\": \"left\"}, {\"font\": {\"color\": \"#000000\"}, \"y\": 22, \"text\": \"4\", \"x\": 2.55, \"xref\": \"x1\", \"align\": \"left\", \"yref\": \"y1\", \"showarrow\": false, \"xanchor\": \"left\"}, {\"font\": {\"color\": \"#000000\"}, \"y\": 22, \"text\": \"38\", \"x\": 3.55, \"xref\": \"x1\", \"align\": \"left\", \"yref\": \"y1\", \"showarrow\": false, \"xanchor\": \"left\"}, {\"font\": {\"color\": \"#000000\"}, \"y\": 23, \"text\": \"Addons/Web Extensions\", \"x\": -0.45, \"xref\": \"x1\", \"align\": \"left\", \"yref\": \"y1\", \"showarrow\": false, \"xanchor\": \"left\"}, {\"font\": {\"color\": \"#000000\"}, \"y\": 23, \"text\": \"Employees\", \"x\": 0.55, \"xref\": \"x1\", \"align\": \"left\", \"yref\": \"y1\", \"showarrow\": false, \"xanchor\": \"left\"}, {\"font\": {\"color\": \"#000000\"}, \"y\": 23, \"text\": \"498\", \"x\": 1.55, \"xref\": \"x1\", \"align\": \"left\", \"yref\": \"y1\", \"showarrow\": false, \"xanchor\": \"left\"}, {\"font\": {\"color\": \"#000000\"}, \"y\": 23, \"text\": \"3\", \"x\": 2.55, \"xref\": \"x1\", \"align\": \"left\", \"yref\": \"y1\", \"showarrow\": false, \"xanchor\": \"left\"}, {\"font\": {\"color\": \"#000000\"}, \"y\": 23, \"text\": \"25\", \"x\": 3.55, \"xref\": \"x1\", \"align\": \"left\", \"yref\": \"y1\", \"showarrow\": false, \"xanchor\": \"left\"}, {\"font\": {\"color\": \"#000000\"}, \"y\": 24, \"text\": \"Developer Tools\", \"x\": -0.45, \"xref\": \"x1\", \"align\": \"left\", \"yref\": \"y1\", \"showarrow\": false, \"xanchor\": \"left\"}, {\"font\": {\"color\": \"#000000\"}, \"y\": 24, \"text\": \"Employees\", \"x\": 0.55, \"xref\": \"x1\", \"align\": \"left\", \"yref\": \"y1\", \"showarrow\": false, \"xanchor\": \"left\"}, {\"font\": {\"color\": \"#000000\"}, \"y\": 24, \"text\": \"461\", \"x\": 1.55, \"xref\": \"x1\", \"align\": \"left\", \"yref\": \"y1\", \"showarrow\": false, \"xanchor\": \"left\"}, {\"font\": {\"color\": \"#000000\"}, \"y\": 24, \"text\": \"1\", \"x\": 2.55, \"xref\": \"x1\", \"align\": \"left\", \"yref\": \"y1\", \"showarrow\": false, \"xanchor\": \"left\"}, {\"font\": {\"color\": \"#000000\"}, \"y\": 24, \"text\": \"24\", \"x\": 3.55, \"xref\": \"x1\", \"align\": \"left\", \"yref\": \"y1\", \"showarrow\": false, \"xanchor\": \"left\"}, {\"font\": {\"color\": \"#000000\"}, \"y\": 25, \"text\": \"Mozilla Developer Network (MDN)\", \"x\": -0.45, \"xref\": \"x1\", \"align\": \"left\", \"yref\": \"y1\", \"showarrow\": false, \"xanchor\": \"left\"}, {\"font\": {\"color\": \"#000000\"}, \"y\": 25, \"text\": \"Employees\", \"x\": 0.55, \"xref\": \"x1\", \"align\": \"left\", \"yref\": \"y1\", \"showarrow\": false, \"xanchor\": \"left\"}, {\"font\": {\"color\": \"#000000\"}, \"y\": 25, \"text\": \"457\", \"x\": 1.55, \"xref\": \"x1\", \"align\": \"left\", \"yref\": \"y1\", \"showarrow\": false, \"xanchor\": \"left\"}, {\"font\": {\"color\": \"#000000\"}, \"y\": 25, \"text\": \"2\", \"x\": 2.55, \"xref\": \"x1\", \"align\": \"left\", \"yref\": \"y1\", \"showarrow\": false, \"xanchor\": \"left\"}, {\"font\": {\"color\": \"#000000\"}, \"y\": 25, \"text\": \"55\", \"x\": 3.55, \"xref\": \"x1\", \"align\": \"left\", \"yref\": \"y1\", \"showarrow\": false, \"xanchor\": \"left\"}, {\"font\": {\"color\": \"#000000\"}, \"y\": 26, \"text\": \"Technical/Developer Evangelism\", \"x\": -0.45, \"xref\": \"x1\", \"align\": \"left\", \"yref\": \"y1\", \"showarrow\": false, \"xanchor\": \"left\"}, {\"font\": {\"color\": \"#000000\"}, \"y\": 26, \"text\": \"Employees\", \"x\": 0.55, \"xref\": \"x1\", \"align\": \"left\", \"yref\": \"y1\", \"showarrow\": false, \"xanchor\": \"left\"}, {\"font\": {\"color\": \"#000000\"}, \"y\": 26, \"text\": \"436\", \"x\": 1.55, \"xref\": \"x1\", \"align\": \"left\", \"yref\": \"y1\", \"showarrow\": false, \"xanchor\": \"left\"}, {\"font\": {\"color\": \"#000000\"}, \"y\": 26, \"text\": \"3\", \"x\": 2.55, \"xref\": \"x1\", \"align\": \"left\", \"yref\": \"y1\", \"showarrow\": false, \"xanchor\": \"left\"}, {\"font\": {\"color\": \"#000000\"}, \"y\": 26, \"text\": \"37\", \"x\": 3.55, \"xref\": \"x1\", \"align\": \"left\", \"yref\": \"y1\", \"showarrow\": false, \"xanchor\": \"left\"}, {\"font\": {\"color\": \"#000000\"}, \"y\": 27, \"text\": \"Localization\", \"x\": -0.45, \"xref\": \"x1\", \"align\": \"left\", \"yref\": \"y1\", \"showarrow\": false, \"xanchor\": \"left\"}, {\"font\": {\"color\": \"#000000\"}, \"y\": 27, \"text\": \"Employees\", \"x\": 0.55, \"xref\": \"x1\", \"align\": \"left\", \"yref\": \"y1\", \"showarrow\": false, \"xanchor\": \"left\"}, {\"font\": {\"color\": \"#000000\"}, \"y\": 27, \"text\": \"424\", \"x\": 1.55, \"xref\": \"x1\", \"align\": \"left\", \"yref\": \"y1\", \"showarrow\": false, \"xanchor\": \"left\"}, {\"font\": {\"color\": \"#000000\"}, \"y\": 27, \"text\": \"4\", \"x\": 2.55, \"xref\": \"x1\", \"align\": \"left\", \"yref\": \"y1\", \"showarrow\": false, \"xanchor\": \"left\"}, {\"font\": {\"color\": \"#000000\"}, \"y\": 27, \"text\": \"149\", \"x\": 3.55, \"xref\": \"x1\", \"align\": \"left\", \"yref\": \"y1\", \"showarrow\": false, \"xanchor\": \"left\"}, {\"font\": {\"color\": \"#000000\"}, \"y\": 28, \"text\": \"Release engineering\", \"x\": -0.45, \"xref\": \"x1\", \"align\": \"left\", \"yref\": \"y1\", \"showarrow\": false, \"xanchor\": \"left\"}, {\"font\": {\"color\": \"#000000\"}, \"y\": 28, \"text\": \"Non-Employees\", \"x\": 0.55, \"xref\": \"x1\", \"align\": \"left\", \"yref\": \"y1\", \"showarrow\": false, \"xanchor\": \"left\"}, {\"font\": {\"color\": \"#000000\"}, \"y\": 28, \"text\": \"342\", \"x\": 1.55, \"xref\": \"x1\", \"align\": \"left\", \"yref\": \"y1\", \"showarrow\": false, \"xanchor\": \"left\"}, {\"font\": {\"color\": \"#000000\"}, \"y\": 28, \"text\": \"1\", \"x\": 2.55, \"xref\": \"x1\", \"align\": \"left\", \"yref\": \"y1\", \"showarrow\": false, \"xanchor\": \"left\"}, {\"font\": {\"color\": \"#000000\"}, \"y\": 28, \"text\": \"14\", \"x\": 3.55, \"xref\": \"x1\", \"align\": \"left\", \"yref\": \"y1\", \"showarrow\": false, \"xanchor\": \"left\"}, {\"font\": {\"color\": \"#000000\"}, \"y\": 29, \"text\": \"Web Literacy\", \"x\": -0.45, \"xref\": \"x1\", \"align\": \"left\", \"yref\": \"y1\", \"showarrow\": false, \"xanchor\": \"left\"}, {\"font\": {\"color\": \"#000000\"}, \"y\": 29, \"text\": \"Non-Employees\", \"x\": 0.55, \"xref\": \"x1\", \"align\": \"left\", \"yref\": \"y1\", \"showarrow\": false, \"xanchor\": \"left\"}, {\"font\": {\"color\": \"#000000\"}, \"y\": 29, \"text\": \"324\", \"x\": 1.55, \"xref\": \"x1\", \"align\": \"left\", \"yref\": \"y1\", \"showarrow\": false, \"xanchor\": \"left\"}, {\"font\": {\"color\": \"#000000\"}, \"y\": 29, \"text\": \"1\", \"x\": 2.55, \"xref\": \"x1\", \"align\": \"left\", \"yref\": \"y1\", \"showarrow\": false, \"xanchor\": \"left\"}, {\"font\": {\"color\": \"#000000\"}, \"y\": 29, \"text\": \"25\", \"x\": 3.55, \"xref\": \"x1\", \"align\": \"left\", \"yref\": \"y1\", \"showarrow\": false, \"xanchor\": \"left\"}, {\"font\": {\"color\": \"#000000\"}, \"y\": 30, \"text\": \"Marketing / Social Media\", \"x\": -0.45, \"xref\": \"x1\", \"align\": \"left\", \"yref\": \"y1\", \"showarrow\": false, \"xanchor\": \"left\"}, {\"font\": {\"color\": \"#000000\"}, \"y\": 30, \"text\": \"Employees\", \"x\": 0.55, \"xref\": \"x1\", \"align\": \"left\", \"yref\": \"y1\", \"showarrow\": false, \"xanchor\": \"left\"}, {\"font\": {\"color\": \"#000000\"}, \"y\": 30, \"text\": \"320\", \"x\": 1.55, \"xref\": \"x1\", \"align\": \"left\", \"yref\": \"y1\", \"showarrow\": false, \"xanchor\": \"left\"}, {\"font\": {\"color\": \"#000000\"}, \"y\": 30, \"text\": \"4\", \"x\": 2.55, \"xref\": \"x1\", \"align\": \"left\", \"yref\": \"y1\", \"showarrow\": false, \"xanchor\": \"left\"}, {\"font\": {\"color\": \"#000000\"}, \"y\": 30, \"text\": \"21\", \"x\": 3.55, \"xref\": \"x1\", \"align\": \"left\", \"yref\": \"y1\", \"showarrow\": false, \"xanchor\": \"left\"}, {\"font\": {\"color\": \"#000000\"}, \"y\": 31, \"text\": \"Mozilla Creative & Design\", \"x\": -0.45, \"xref\": \"x1\", \"align\": \"left\", \"yref\": \"y1\", \"showarrow\": false, \"xanchor\": \"left\"}, {\"font\": {\"color\": \"#000000\"}, \"y\": 31, \"text\": \"Employees\", \"x\": 0.55, \"xref\": \"x1\", \"align\": \"left\", \"yref\": \"y1\", \"showarrow\": false, \"xanchor\": \"left\"}, {\"font\": {\"color\": \"#000000\"}, \"y\": 31, \"text\": \"262\", \"x\": 1.55, \"xref\": \"x1\", \"align\": \"left\", \"yref\": \"y1\", \"showarrow\": false, \"xanchor\": \"left\"}, {\"font\": {\"color\": \"#000000\"}, \"y\": 31, \"text\": \"1\", \"x\": 2.55, \"xref\": \"x1\", \"align\": \"left\", \"yref\": \"y1\", \"showarrow\": false, \"xanchor\": \"left\"}, {\"font\": {\"color\": \"#000000\"}, \"y\": 31, \"text\": \"1\", \"x\": 3.55, \"xref\": \"x1\", \"align\": \"left\", \"yref\": \"y1\", \"showarrow\": false, \"xanchor\": \"left\"}, {\"font\": {\"color\": \"#000000\"}, \"y\": 32, \"text\": \"Marketing / Social Media\", \"x\": -0.45, \"xref\": \"x1\", \"align\": \"left\", \"yref\": \"y1\", \"showarrow\": false, \"xanchor\": \"left\"}, {\"font\": {\"color\": \"#000000\"}, \"y\": 32, \"text\": \"Non-Employees\", \"x\": 0.55, \"xref\": \"x1\", \"align\": \"left\", \"yref\": \"y1\", \"showarrow\": false, \"xanchor\": \"left\"}, {\"font\": {\"color\": \"#000000\"}, \"y\": 32, \"text\": \"250\", \"x\": 1.55, \"xref\": \"x1\", \"align\": \"left\", \"yref\": \"y1\", \"showarrow\": false, \"xanchor\": \"left\"}, {\"font\": {\"color\": \"#000000\"}, \"y\": 32, \"text\": \"4\", \"x\": 2.55, \"xref\": \"x1\", \"align\": \"left\", \"yref\": \"y1\", \"showarrow\": false, \"xanchor\": \"left\"}, {\"font\": {\"color\": \"#000000\"}, \"y\": 32, \"text\": \"18\", \"x\": 3.55, \"xref\": \"x1\", \"align\": \"left\", \"yref\": \"y1\", \"showarrow\": false, \"xanchor\": \"left\"}, {\"font\": {\"color\": \"#000000\"}, \"y\": 33, \"text\": \"Mozilla Local/Regional communities\", \"x\": -0.45, \"xref\": \"x1\", \"align\": \"left\", \"yref\": \"y1\", \"showarrow\": false, \"xanchor\": \"left\"}, {\"font\": {\"color\": \"#000000\"}, \"y\": 33, \"text\": \"Non-Employees\", \"x\": 0.55, \"xref\": \"x1\", \"align\": \"left\", \"yref\": \"y1\", \"showarrow\": false, \"xanchor\": \"left\"}, {\"font\": {\"color\": \"#000000\"}, \"y\": 33, \"text\": \"161\", \"x\": 1.55, \"xref\": \"x1\", \"align\": \"left\", \"yref\": \"y1\", \"showarrow\": false, \"xanchor\": \"left\"}, {\"font\": {\"color\": \"#000000\"}, \"y\": 33, \"text\": \"2\", \"x\": 2.55, \"xref\": \"x1\", \"align\": \"left\", \"yref\": \"y1\", \"showarrow\": false, \"xanchor\": \"left\"}, {\"font\": {\"color\": \"#000000\"}, \"y\": 33, \"text\": \"16\", \"x\": 3.55, \"xref\": \"x1\", \"align\": \"left\", \"yref\": \"y1\", \"showarrow\": false, \"xanchor\": \"left\"}, {\"font\": {\"color\": \"#000000\"}, \"y\": 34, \"text\": \"Firefox iOS\", \"x\": -0.45, \"xref\": \"x1\", \"align\": \"left\", \"yref\": \"y1\", \"showarrow\": false, \"xanchor\": \"left\"}, {\"font\": {\"color\": \"#000000\"}, \"y\": 34, \"text\": \"Non-Employees\", \"x\": 0.55, \"xref\": \"x1\", \"align\": \"left\", \"yref\": \"y1\", \"showarrow\": false, \"xanchor\": \"left\"}, {\"font\": {\"color\": \"#000000\"}, \"y\": 34, \"text\": \"151\", \"x\": 1.55, \"xref\": \"x1\", \"align\": \"left\", \"yref\": \"y1\", \"showarrow\": false, \"xanchor\": \"left\"}, {\"font\": {\"color\": \"#000000\"}, \"y\": 34, \"text\": \"1\", \"x\": 2.55, \"xref\": \"x1\", \"align\": \"left\", \"yref\": \"y1\", \"showarrow\": false, \"xanchor\": \"left\"}, {\"font\": {\"color\": \"#000000\"}, \"y\": 34, \"text\": \"14\", \"x\": 3.55, \"xref\": \"x1\", \"align\": \"left\", \"yref\": \"y1\", \"showarrow\": false, \"xanchor\": \"left\"}, {\"font\": {\"color\": \"#000000\"}, \"y\": 35, \"text\": \"Web Literacy\", \"x\": -0.45, \"xref\": \"x1\", \"align\": \"left\", \"yref\": \"y1\", \"showarrow\": false, \"xanchor\": \"left\"}, {\"font\": {\"color\": \"#000000\"}, \"y\": 35, \"text\": \"Employees\", \"x\": 0.55, \"xref\": \"x1\", \"align\": \"left\", \"yref\": \"y1\", \"showarrow\": false, \"xanchor\": \"left\"}, {\"font\": {\"color\": \"#000000\"}, \"y\": 35, \"text\": \"140\", \"x\": 1.55, \"xref\": \"x1\", \"align\": \"left\", \"yref\": \"y1\", \"showarrow\": false, \"xanchor\": \"left\"}, {\"font\": {\"color\": \"#000000\"}, \"y\": 35, \"text\": \"1\", \"x\": 2.55, \"xref\": \"x1\", \"align\": \"left\", \"yref\": \"y1\", \"showarrow\": false, \"xanchor\": \"left\"}, {\"font\": {\"color\": \"#000000\"}, \"y\": 35, \"text\": \"26\", \"x\": 3.55, \"xref\": \"x1\", \"align\": \"left\", \"yref\": \"y1\", \"showarrow\": false, \"xanchor\": \"left\"}, {\"font\": {\"color\": \"#000000\"}, \"y\": 36, \"text\": \"Firefox iOS\", \"x\": -0.45, \"xref\": \"x1\", \"align\": \"left\", \"yref\": \"y1\", \"showarrow\": false, \"xanchor\": \"left\"}, {\"font\": {\"color\": \"#000000\"}, \"y\": 36, \"text\": \"Employees\", \"x\": 0.55, \"xref\": \"x1\", \"align\": \"left\", \"yref\": \"y1\", \"showarrow\": false, \"xanchor\": \"left\"}, {\"font\": {\"color\": \"#000000\"}, \"y\": 36, \"text\": \"139\", \"x\": 1.55, \"xref\": \"x1\", \"align\": \"left\", \"yref\": \"y1\", \"showarrow\": false, \"xanchor\": \"left\"}, {\"font\": {\"color\": \"#000000\"}, \"y\": 36, \"text\": \"1\", \"x\": 2.55, \"xref\": \"x1\", \"align\": \"left\", \"yref\": \"y1\", \"showarrow\": false, \"xanchor\": \"left\"}, {\"font\": {\"color\": \"#000000\"}, \"y\": 36, \"text\": \"15\", \"x\": 3.55, \"xref\": \"x1\", \"align\": \"left\", \"yref\": \"y1\", \"showarrow\": false, \"xanchor\": \"left\"}, {\"font\": {\"color\": \"#000000\"}, \"y\": 37, \"text\": \"Mozilla Local/Regional communities\", \"x\": -0.45, \"xref\": \"x1\", \"align\": \"left\", \"yref\": \"y1\", \"showarrow\": false, \"xanchor\": \"left\"}, {\"font\": {\"color\": \"#000000\"}, \"y\": 37, \"text\": \"Employees\", \"x\": 0.55, \"xref\": \"x1\", \"align\": \"left\", \"yref\": \"y1\", \"showarrow\": false, \"xanchor\": \"left\"}, {\"font\": {\"color\": \"#000000\"}, \"y\": 37, \"text\": \"99\", \"x\": 1.55, \"xref\": \"x1\", \"align\": \"left\", \"yref\": \"y1\", \"showarrow\": false, \"xanchor\": \"left\"}, {\"font\": {\"color\": \"#000000\"}, \"y\": 37, \"text\": \"2\", \"x\": 2.55, \"xref\": \"x1\", \"align\": \"left\", \"yref\": \"y1\", \"showarrow\": false, \"xanchor\": \"left\"}, {\"font\": {\"color\": \"#000000\"}, \"y\": 37, \"text\": \"16\", \"x\": 3.55, \"xref\": \"x1\", \"align\": \"left\", \"yref\": \"y1\", \"showarrow\": false, \"xanchor\": \"left\"}, {\"font\": {\"color\": \"#000000\"}, \"y\": 38, \"text\": \"Mozilla support (SUMO)\", \"x\": -0.45, \"xref\": \"x1\", \"align\": \"left\", \"yref\": \"y1\", \"showarrow\": false, \"xanchor\": \"left\"}, {\"font\": {\"color\": \"#000000\"}, \"y\": 38, \"text\": \"Non-Employees\", \"x\": 0.55, \"xref\": \"x1\", \"align\": \"left\", \"yref\": \"y1\", \"showarrow\": false, \"xanchor\": \"left\"}, {\"font\": {\"color\": \"#000000\"}, \"y\": 38, \"text\": \"73\", \"x\": 1.55, \"xref\": \"x1\", \"align\": \"left\", \"yref\": \"y1\", \"showarrow\": false, \"xanchor\": \"left\"}, {\"font\": {\"color\": \"#000000\"}, \"y\": 38, \"text\": \"3\", \"x\": 2.55, \"xref\": \"x1\", \"align\": \"left\", \"yref\": \"y1\", \"showarrow\": false, \"xanchor\": \"left\"}, {\"font\": {\"color\": \"#000000\"}, \"y\": 38, \"text\": \"12\", \"x\": 3.55, \"xref\": \"x1\", \"align\": \"left\", \"yref\": \"y1\", \"showarrow\": false, \"xanchor\": \"left\"}, {\"font\": {\"color\": \"#000000\"}, \"y\": 39, \"text\": \"Mozilla support (SUMO)\", \"x\": -0.45, \"xref\": \"x1\", \"align\": \"left\", \"yref\": \"y1\", \"showarrow\": false, \"xanchor\": \"left\"}, {\"font\": {\"color\": \"#000000\"}, \"y\": 39, \"text\": \"Employees\", \"x\": 0.55, \"xref\": \"x1\", \"align\": \"left\", \"yref\": \"y1\", \"showarrow\": false, \"xanchor\": \"left\"}, {\"font\": {\"color\": \"#000000\"}, \"y\": 39, \"text\": \"61\", \"x\": 1.55, \"xref\": \"x1\", \"align\": \"left\", \"yref\": \"y1\", \"showarrow\": false, \"xanchor\": \"left\"}, {\"font\": {\"color\": \"#000000\"}, \"y\": 39, \"text\": \"3\", \"x\": 2.55, \"xref\": \"x1\", \"align\": \"left\", \"yref\": \"y1\", \"showarrow\": false, \"xanchor\": \"left\"}, {\"font\": {\"color\": \"#000000\"}, \"y\": 39, \"text\": \"12\", \"x\": 3.55, \"xref\": \"x1\", \"align\": \"left\", \"yref\": \"y1\", \"showarrow\": false, \"xanchor\": \"left\"}, {\"font\": {\"color\": \"#000000\"}, \"y\": 40, \"text\": \"Mozilla Foundation\", \"x\": -0.45, \"xref\": \"x1\", \"align\": \"left\", \"yref\": \"y1\", \"showarrow\": false, \"xanchor\": \"left\"}, {\"font\": {\"color\": \"#000000\"}, \"y\": 40, \"text\": \"Employees\", \"x\": 0.55, \"xref\": \"x1\", \"align\": \"left\", \"yref\": \"y1\", \"showarrow\": false, \"xanchor\": \"left\"}, {\"font\": {\"color\": \"#000000\"}, \"y\": 40, \"text\": \"49\", \"x\": 1.55, \"xref\": \"x1\", \"align\": \"left\", \"yref\": \"y1\", \"showarrow\": false, \"xanchor\": \"left\"}, {\"font\": {\"color\": \"#000000\"}, \"y\": 40, \"text\": \"2\", \"x\": 2.55, \"xref\": \"x1\", \"align\": \"left\", \"yref\": \"y1\", \"showarrow\": false, \"xanchor\": \"left\"}, {\"font\": {\"color\": \"#000000\"}, \"y\": 40, \"text\": \"15\", \"x\": 3.55, \"xref\": \"x1\", \"align\": \"left\", \"yref\": \"y1\", \"showarrow\": false, \"xanchor\": \"left\"}, {\"font\": {\"color\": \"#000000\"}, \"y\": 41, \"text\": \"Mozilla Foundation\", \"x\": -0.45, \"xref\": \"x1\", \"align\": \"left\", \"yref\": \"y1\", \"showarrow\": false, \"xanchor\": \"left\"}, {\"font\": {\"color\": \"#000000\"}, \"y\": 41, \"text\": \"Non-Employees\", \"x\": 0.55, \"xref\": \"x1\", \"align\": \"left\", \"yref\": \"y1\", \"showarrow\": false, \"xanchor\": \"left\"}, {\"font\": {\"color\": \"#000000\"}, \"y\": 41, \"text\": \"29\", \"x\": 1.55, \"xref\": \"x1\", \"align\": \"left\", \"yref\": \"y1\", \"showarrow\": false, \"xanchor\": \"left\"}, {\"font\": {\"color\": \"#000000\"}, \"y\": 41, \"text\": \"2\", \"x\": 2.55, \"xref\": \"x1\", \"align\": \"left\", \"yref\": \"y1\", \"showarrow\": false, \"xanchor\": \"left\"}, {\"font\": {\"color\": \"#000000\"}, \"y\": 41, \"text\": \"8\", \"x\": 3.55, \"xref\": \"x1\", \"align\": \"left\", \"yref\": \"y1\", \"showarrow\": false, \"xanchor\": \"left\"}, {\"font\": {\"color\": \"#000000\"}, \"y\": 42, \"text\": \"Mozilla Creative & Design\", \"x\": -0.45, \"xref\": \"x1\", \"align\": \"left\", \"yref\": \"y1\", \"showarrow\": false, \"xanchor\": \"left\"}, {\"font\": {\"color\": \"#000000\"}, \"y\": 42, \"text\": \"Non-Employees\", \"x\": 0.55, \"xref\": \"x1\", \"align\": \"left\", \"yref\": \"y1\", \"showarrow\": false, \"xanchor\": \"left\"}, {\"font\": {\"color\": \"#000000\"}, \"y\": 42, \"text\": \"22\", \"x\": 1.55, \"xref\": \"x1\", \"align\": \"left\", \"yref\": \"y1\", \"showarrow\": false, \"xanchor\": \"left\"}, {\"font\": {\"color\": \"#000000\"}, \"y\": 42, \"text\": \"1\", \"x\": 2.55, \"xref\": \"x1\", \"align\": \"left\", \"yref\": \"y1\", \"showarrow\": false, \"xanchor\": \"left\"}, {\"font\": {\"color\": \"#000000\"}, \"y\": 42, \"text\": \"1\", \"x\": 3.55, \"xref\": \"x1\", \"align\": \"left\", \"yref\": \"y1\", \"showarrow\": false, \"xanchor\": \"left\"}, {\"font\": {\"color\": \"#000000\"}, \"y\": 43, \"text\": \"Firefox Focus\", \"x\": -0.45, \"xref\": \"x1\", \"align\": \"left\", \"yref\": \"y1\", \"showarrow\": false, \"xanchor\": \"left\"}, {\"font\": {\"color\": \"#000000\"}, \"y\": 43, \"text\": \"Employees\", \"x\": 0.55, \"xref\": \"x1\", \"align\": \"left\", \"yref\": \"y1\", \"showarrow\": false, \"xanchor\": \"left\"}, {\"font\": {\"color\": \"#000000\"}, \"y\": 43, \"text\": \"18\", \"x\": 1.55, \"xref\": \"x1\", \"align\": \"left\", \"yref\": \"y1\", \"showarrow\": false, \"xanchor\": \"left\"}, {\"font\": {\"color\": \"#000000\"}, \"y\": 43, \"text\": \"1\", \"x\": 2.55, \"xref\": \"x1\", \"align\": \"left\", \"yref\": \"y1\", \"showarrow\": false, \"xanchor\": \"left\"}, {\"font\": {\"color\": \"#000000\"}, \"y\": 43, \"text\": \"1\", \"x\": 3.55, \"xref\": \"x1\", \"align\": \"left\", \"yref\": \"y1\", \"showarrow\": false, \"xanchor\": \"left\"}, {\"font\": {\"color\": \"#000000\"}, \"y\": 44, \"text\": \"Advocacy and policy\", \"x\": -0.45, \"xref\": \"x1\", \"align\": \"left\", \"yref\": \"y1\", \"showarrow\": false, \"xanchor\": \"left\"}, {\"font\": {\"color\": \"#000000\"}, \"y\": 44, \"text\": \"Non-Employees\", \"x\": 0.55, \"xref\": \"x1\", \"align\": \"left\", \"yref\": \"y1\", \"showarrow\": false, \"xanchor\": \"left\"}, {\"font\": {\"color\": \"#000000\"}, \"y\": 44, \"text\": \"11\", \"x\": 1.55, \"xref\": \"x1\", \"align\": \"left\", \"yref\": \"y1\", \"showarrow\": false, \"xanchor\": \"left\"}, {\"font\": {\"color\": \"#000000\"}, \"y\": 44, \"text\": \"1\", \"x\": 2.55, \"xref\": \"x1\", \"align\": \"left\", \"yref\": \"y1\", \"showarrow\": false, \"xanchor\": \"left\"}, {\"font\": {\"color\": \"#000000\"}, \"y\": 44, \"text\": \"4\", \"x\": 3.55, \"xref\": \"x1\", \"align\": \"left\", \"yref\": \"y1\", \"showarrow\": false, \"xanchor\": \"left\"}, {\"font\": {\"color\": \"#000000\"}, \"y\": 45, \"text\": \"Connected devices & IoT\", \"x\": -0.45, \"xref\": \"x1\", \"align\": \"left\", \"yref\": \"y1\", \"showarrow\": false, \"xanchor\": \"left\"}, {\"font\": {\"color\": \"#000000\"}, \"y\": 45, \"text\": \"Employees\", \"x\": 0.55, \"xref\": \"x1\", \"align\": \"left\", \"yref\": \"y1\", \"showarrow\": false, \"xanchor\": \"left\"}, {\"font\": {\"color\": \"#000000\"}, \"y\": 45, \"text\": \"9\", \"x\": 1.55, \"xref\": \"x1\", \"align\": \"left\", \"yref\": \"y1\", \"showarrow\": false, \"xanchor\": \"left\"}, {\"font\": {\"color\": \"#000000\"}, \"y\": 45, \"text\": \"1\", \"x\": 2.55, \"xref\": \"x1\", \"align\": \"left\", \"yref\": \"y1\", \"showarrow\": false, \"xanchor\": \"left\"}, {\"font\": {\"color\": \"#000000\"}, \"y\": 45, \"text\": \"3\", \"x\": 3.55, \"xref\": \"x1\", \"align\": \"left\", \"yref\": \"y1\", \"showarrow\": false, \"xanchor\": \"left\"}, {\"font\": {\"color\": \"#000000\"}, \"y\": 46, \"text\": \"Web Compatibility\", \"x\": -0.45, \"xref\": \"x1\", \"align\": \"left\", \"yref\": \"y1\", \"showarrow\": false, \"xanchor\": \"left\"}, {\"font\": {\"color\": \"#000000\"}, \"y\": 46, \"text\": \"Employees\", \"x\": 0.55, \"xref\": \"x1\", \"align\": \"left\", \"yref\": \"y1\", \"showarrow\": false, \"xanchor\": \"left\"}, {\"font\": {\"color\": \"#000000\"}, \"y\": 46, \"text\": \"7\", \"x\": 1.55, \"xref\": \"x1\", \"align\": \"left\", \"yref\": \"y1\", \"showarrow\": false, \"xanchor\": \"left\"}, {\"font\": {\"color\": \"#000000\"}, \"y\": 46, \"text\": \"1\", \"x\": 2.55, \"xref\": \"x1\", \"align\": \"left\", \"yref\": \"y1\", \"showarrow\": false, \"xanchor\": \"left\"}, {\"font\": {\"color\": \"#000000\"}, \"y\": 46, \"text\": \"2\", \"x\": 3.55, \"xref\": \"x1\", \"align\": \"left\", \"yref\": \"y1\", \"showarrow\": false, \"xanchor\": \"left\"}, {\"font\": {\"color\": \"#000000\"}, \"y\": 47, \"text\": \"Web Compatibility\", \"x\": -0.45, \"xref\": \"x1\", \"align\": \"left\", \"yref\": \"y1\", \"showarrow\": false, \"xanchor\": \"left\"}, {\"font\": {\"color\": \"#000000\"}, \"y\": 47, \"text\": \"Non-Employees\", \"x\": 0.55, \"xref\": \"x1\", \"align\": \"left\", \"yref\": \"y1\", \"showarrow\": false, \"xanchor\": \"left\"}, {\"font\": {\"color\": \"#000000\"}, \"y\": 47, \"text\": \"6\", \"x\": 1.55, \"xref\": \"x1\", \"align\": \"left\", \"yref\": \"y1\", \"showarrow\": false, \"xanchor\": \"left\"}, {\"font\": {\"color\": \"#000000\"}, \"y\": 47, \"text\": \"1\", \"x\": 2.55, \"xref\": \"x1\", \"align\": \"left\", \"yref\": \"y1\", \"showarrow\": false, \"xanchor\": \"left\"}, {\"font\": {\"color\": \"#000000\"}, \"y\": 47, \"text\": \"1\", \"x\": 3.55, \"xref\": \"x1\", \"align\": \"left\", \"yref\": \"y1\", \"showarrow\": false, \"xanchor\": \"left\"}, {\"font\": {\"color\": \"#000000\"}, \"y\": 48, \"text\": \"Firefox Focus\", \"x\": -0.45, \"xref\": \"x1\", \"align\": \"left\", \"yref\": \"y1\", \"showarrow\": false, \"xanchor\": \"left\"}, {\"font\": {\"color\": \"#000000\"}, \"y\": 48, \"text\": \"Non-Employees\", \"x\": 0.55, \"xref\": \"x1\", \"align\": \"left\", \"yref\": \"y1\", \"showarrow\": false, \"xanchor\": \"left\"}, {\"font\": {\"color\": \"#000000\"}, \"y\": 48, \"text\": \"6\", \"x\": 1.55, \"xref\": \"x1\", \"align\": \"left\", \"yref\": \"y1\", \"showarrow\": false, \"xanchor\": \"left\"}, {\"font\": {\"color\": \"#000000\"}, \"y\": 48, \"text\": \"1\", \"x\": 2.55, \"xref\": \"x1\", \"align\": \"left\", \"yref\": \"y1\", \"showarrow\": false, \"xanchor\": \"left\"}, {\"font\": {\"color\": \"#000000\"}, \"y\": 48, \"text\": \"1\", \"x\": 3.55, \"xref\": \"x1\", \"align\": \"left\", \"yref\": \"y1\", \"showarrow\": false, \"xanchor\": \"left\"}, {\"font\": {\"color\": \"#000000\"}, \"y\": 49, \"text\": \"Rust\", \"x\": -0.45, \"xref\": \"x1\", \"align\": \"left\", \"yref\": \"y1\", \"showarrow\": false, \"xanchor\": \"left\"}, {\"font\": {\"color\": \"#000000\"}, \"y\": 49, \"text\": \"Employees\", \"x\": 0.55, \"xref\": \"x1\", \"align\": \"left\", \"yref\": \"y1\", \"showarrow\": false, \"xanchor\": \"left\"}, {\"font\": {\"color\": \"#000000\"}, \"y\": 49, \"text\": \"5\", \"x\": 1.55, \"xref\": \"x1\", \"align\": \"left\", \"yref\": \"y1\", \"showarrow\": false, \"xanchor\": \"left\"}, {\"font\": {\"color\": \"#000000\"}, \"y\": 49, \"text\": \"1\", \"x\": 2.55, \"xref\": \"x1\", \"align\": \"left\", \"yref\": \"y1\", \"showarrow\": false, \"xanchor\": \"left\"}, {\"font\": {\"color\": \"#000000\"}, \"y\": 49, \"text\": \"1\", \"x\": 3.55, \"xref\": \"x1\", \"align\": \"left\", \"yref\": \"y1\", \"showarrow\": false, \"xanchor\": \"left\"}, {\"font\": {\"color\": \"#000000\"}, \"y\": 50, \"text\": \"Advocacy and policy\", \"x\": -0.45, \"xref\": \"x1\", \"align\": \"left\", \"yref\": \"y1\", \"showarrow\": false, \"xanchor\": \"left\"}, {\"font\": {\"color\": \"#000000\"}, \"y\": 50, \"text\": \"Employees\", \"x\": 0.55, \"xref\": \"x1\", \"align\": \"left\", \"yref\": \"y1\", \"showarrow\": false, \"xanchor\": \"left\"}, {\"font\": {\"color\": \"#000000\"}, \"y\": 50, \"text\": \"3\", \"x\": 1.55, \"xref\": \"x1\", \"align\": \"left\", \"yref\": \"y1\", \"showarrow\": false, \"xanchor\": \"left\"}, {\"font\": {\"color\": \"#000000\"}, \"y\": 50, \"text\": \"1\", \"x\": 2.55, \"xref\": \"x1\", \"align\": \"left\", \"yref\": \"y1\", \"showarrow\": false, \"xanchor\": \"left\"}, {\"font\": {\"color\": \"#000000\"}, \"y\": 50, \"text\": \"2\", \"x\": 3.55, \"xref\": \"x1\", \"align\": \"left\", \"yref\": \"y1\", \"showarrow\": false, \"xanchor\": \"left\"}, {\"font\": {\"color\": \"#000000\"}, \"y\": 51, \"text\": \"Connected devices & IoT\", \"x\": -0.45, \"xref\": \"x1\", \"align\": \"left\", \"yref\": \"y1\", \"showarrow\": false, \"xanchor\": \"left\"}, {\"font\": {\"color\": \"#000000\"}, \"y\": 51, \"text\": \"Non-Employees\", \"x\": 0.55, \"xref\": \"x1\", \"align\": \"left\", \"yref\": \"y1\", \"showarrow\": false, \"xanchor\": \"left\"}, {\"font\": {\"color\": \"#000000\"}, \"y\": 51, \"text\": \"1\", \"x\": 1.55, \"xref\": \"x1\", \"align\": \"left\", \"yref\": \"y1\", \"showarrow\": false, \"xanchor\": \"left\"}, {\"font\": {\"color\": \"#000000\"}, \"y\": 51, \"text\": \"1\", \"x\": 2.55, \"xref\": \"x1\", \"align\": \"left\", \"yref\": \"y1\", \"showarrow\": false, \"xanchor\": \"left\"}, {\"font\": {\"color\": \"#000000\"}, \"y\": 51, \"text\": \"1\", \"x\": 3.55, \"xref\": \"x1\", \"align\": \"left\", \"yref\": \"y1\", \"showarrow\": false, \"xanchor\": \"left\"}, {\"font\": {\"color\": \"#000000\"}, \"y\": 52, \"text\": \"Firefox Student Ambassadors\", \"x\": -0.45, \"xref\": \"x1\", \"align\": \"left\", \"yref\": \"y1\", \"showarrow\": false, \"xanchor\": \"left\"}, {\"font\": {\"color\": \"#000000\"}, \"y\": 52, \"text\": \"Non-Employees\", \"x\": 0.55, \"xref\": \"x1\", \"align\": \"left\", \"yref\": \"y1\", \"showarrow\": false, \"xanchor\": \"left\"}, {\"font\": {\"color\": \"#000000\"}, \"y\": 52, \"text\": \"1\", \"x\": 1.55, \"xref\": \"x1\", \"align\": \"left\", \"yref\": \"y1\", \"showarrow\": false, \"xanchor\": \"left\"}, {\"font\": {\"color\": \"#000000\"}, \"y\": 52, \"text\": \"1\", \"x\": 2.55, \"xref\": \"x1\", \"align\": \"left\", \"yref\": \"y1\", \"showarrow\": false, \"xanchor\": \"left\"}, {\"font\": {\"color\": \"#000000\"}, \"y\": 52, \"text\": \"1\", \"x\": 3.55, \"xref\": \"x1\", \"align\": \"left\", \"yref\": \"y1\", \"showarrow\": false, \"xanchor\": \"left\"}]}, {\"showLink\": true, \"linkText\": \"Export to plot.ly\"})});</script>"
      ],
      "text/vnd.plotly.v1+html": [
       "<div id=\"d62f3447-05ab-4000-b188-3a0f0b8f6b0b\" style=\"height: 1640px; width: 100%;\" class=\"plotly-graph-div\"></div><script type=\"text/javascript\">require([\"plotly\"], function(Plotly) { window.PLOTLYENV=window.PLOTLYENV || {};window.PLOTLYENV.BASE_URL=\"https://plot.ly\";Plotly.newPlot(\"d62f3447-05ab-4000-b188-3a0f0b8f6b0b\", [{\"hoverinfo\": \"none\", \"colorscale\": [[0, \"#00083e\"], [0.5, \"#ededee\"], [1, \"#ffffff\"]], \"z\": [[0, 0, 0, 0, 0], [0.5, 0.5, 0.5, 0.5, 0.5], [1, 1, 1, 1, 1], [0.5, 0.5, 0.5, 0.5, 0.5], [1, 1, 1, 1, 1], [0.5, 0.5, 0.5, 0.5, 0.5], [1, 1, 1, 1, 1], [0.5, 0.5, 0.5, 0.5, 0.5], [1, 1, 1, 1, 1], [0.5, 0.5, 0.5, 0.5, 0.5], [1, 1, 1, 1, 1], [0.5, 0.5, 0.5, 0.5, 0.5], [1, 1, 1, 1, 1], [0.5, 0.5, 0.5, 0.5, 0.5], [1, 1, 1, 1, 1], [0.5, 0.5, 0.5, 0.5, 0.5], [1, 1, 1, 1, 1], [0.5, 0.5, 0.5, 0.5, 0.5], [1, 1, 1, 1, 1], [0.5, 0.5, 0.5, 0.5, 0.5], [1, 1, 1, 1, 1], [0.5, 0.5, 0.5, 0.5, 0.5], [1, 1, 1, 1, 1], [0.5, 0.5, 0.5, 0.5, 0.5], [1, 1, 1, 1, 1], [0.5, 0.5, 0.5, 0.5, 0.5], [1, 1, 1, 1, 1], [0.5, 0.5, 0.5, 0.5, 0.5], [1, 1, 1, 1, 1], [0.5, 0.5, 0.5, 0.5, 0.5], [1, 1, 1, 1, 1], [0.5, 0.5, 0.5, 0.5, 0.5], [1, 1, 1, 1, 1], [0.5, 0.5, 0.5, 0.5, 0.5], [1, 1, 1, 1, 1], [0.5, 0.5, 0.5, 0.5, 0.5], [1, 1, 1, 1, 1], [0.5, 0.5, 0.5, 0.5, 0.5], [1, 1, 1, 1, 1], [0.5, 0.5, 0.5, 0.5, 0.5], [1, 1, 1, 1, 1], [0.5, 0.5, 0.5, 0.5, 0.5], [1, 1, 1, 1, 1], [0.5, 0.5, 0.5, 0.5, 0.5], [1, 1, 1, 1, 1], [0.5, 0.5, 0.5, 0.5, 0.5], [1, 1, 1, 1, 1], [0.5, 0.5, 0.5, 0.5, 0.5], [1, 1, 1, 1, 1], [0.5, 0.5, 0.5, 0.5, 0.5], [1, 1, 1, 1, 1], [0.5, 0.5, 0.5, 0.5, 0.5], [1, 1, 1, 1, 1]], \"showscale\": false, \"opacity\": 0.75, \"type\": \"heatmap\"}], {\"height\": 1640, \"yaxis\": {\"gridwidth\": 2, \"dtick\": 1, \"ticks\": \"\", \"tick0\": 0.5, \"showticklabels\": false, \"zeroline\": false, \"autorange\": \"reversed\"}, \"xaxis\": {\"gridwidth\": 2, \"dtick\": 1, \"ticks\": \"\", \"tick0\": -0.5, \"showticklabels\": false, \"zeroline\": false}, \"margin\": {\"r\": 0, \"b\": 0, \"l\": 0, \"t\": 0}, \"annotations\": [{\"font\": {\"color\": \"#ffffff\"}, \"y\": 0, \"text\": \"<b>Project</b>\", \"x\": -0.45, \"xref\": \"x1\", \"align\": \"left\", \"yref\": \"y1\", \"showarrow\": false, \"xanchor\": \"left\"}, {\"font\": {\"color\": \"#ffffff\"}, \"y\": 0, \"text\": \"<b>Org</b>\", \"x\": 0.55, \"xref\": \"x1\", \"align\": \"left\", \"yref\": \"y1\", \"showarrow\": false, \"xanchor\": \"left\"}, {\"font\": {\"color\": \"#ffffff\"}, \"y\": 0, \"text\": \"<b>uuid</b>\", \"x\": 1.55, \"xref\": \"x1\", \"align\": \"left\", \"yref\": \"y1\", \"showarrow\": false, \"xanchor\": \"left\"}, {\"font\": {\"color\": \"#ffffff\"}, \"y\": 0, \"text\": \"<b>Product</b>\", \"x\": 2.55, \"xref\": \"x1\", \"align\": \"left\", \"yref\": \"y1\", \"showarrow\": false, \"xanchor\": \"left\"}, {\"font\": {\"color\": \"#ffffff\"}, \"y\": 0, \"text\": \"<b>Component</b>\", \"x\": 3.55, \"xref\": \"x1\", \"align\": \"left\", \"yref\": \"y1\", \"showarrow\": false, \"xanchor\": \"left\"}, {\"font\": {\"color\": \"#000000\"}, \"y\": 1, \"text\": \"Firefox\", \"x\": -0.45, \"xref\": \"x1\", \"align\": \"left\", \"yref\": \"y1\", \"showarrow\": false, \"xanchor\": \"left\"}, {\"font\": {\"color\": \"#000000\"}, \"y\": 1, \"text\": \"Non-Employees\", \"x\": 0.55, \"xref\": \"x1\", \"align\": \"left\", \"yref\": \"y1\", \"showarrow\": false, \"xanchor\": \"left\"}, {\"font\": {\"color\": \"#000000\"}, \"y\": 1, \"text\": \"71348\", \"x\": 1.55, \"xref\": \"x1\", \"align\": \"left\", \"yref\": \"y1\", \"showarrow\": false, \"xanchor\": \"left\"}, {\"font\": {\"color\": \"#000000\"}, \"y\": 1, \"text\": \"3\", \"x\": 2.55, \"xref\": \"x1\", \"align\": \"left\", \"yref\": \"y1\", \"showarrow\": false, \"xanchor\": \"left\"}, {\"font\": {\"color\": \"#000000\"}, \"y\": 1, \"text\": \"56\", \"x\": 3.55, \"xref\": \"x1\", \"align\": \"left\", \"yref\": \"y1\", \"showarrow\": false, \"xanchor\": \"left\"}, {\"font\": {\"color\": \"#000000\"}, \"y\": 2, \"text\": \"Gecko\", \"x\": -0.45, \"xref\": \"x1\", \"align\": \"left\", \"yref\": \"y1\", \"showarrow\": false, \"xanchor\": \"left\"}, {\"font\": {\"color\": \"#000000\"}, \"y\": 2, \"text\": \"Non-Employees\", \"x\": 0.55, \"xref\": \"x1\", \"align\": \"left\", \"yref\": \"y1\", \"showarrow\": false, \"xanchor\": \"left\"}, {\"font\": {\"color\": \"#000000\"}, \"y\": 2, \"text\": \"61384\", \"x\": 1.55, \"xref\": \"x1\", \"align\": \"left\", \"yref\": \"y1\", \"showarrow\": false, \"xanchor\": \"left\"}, {\"font\": {\"color\": \"#000000\"}, \"y\": 2, \"text\": \"5\", \"x\": 2.55, \"xref\": \"x1\", \"align\": \"left\", \"yref\": \"y1\", \"showarrow\": false, \"xanchor\": \"left\"}, {\"font\": {\"color\": \"#000000\"}, \"y\": 2, \"text\": \"245\", \"x\": 3.55, \"xref\": \"x1\", \"align\": \"left\", \"yref\": \"y1\", \"showarrow\": false, \"xanchor\": \"left\"}, {\"font\": {\"color\": \"#000000\"}, \"y\": 3, \"text\": \"Thunderbird\", \"x\": -0.45, \"xref\": \"x1\", \"align\": \"left\", \"yref\": \"y1\", \"showarrow\": false, \"xanchor\": \"left\"}, {\"font\": {\"color\": \"#000000\"}, \"y\": 3, \"text\": \"Non-Employees\", \"x\": 0.55, \"xref\": \"x1\", \"align\": \"left\", \"yref\": \"y1\", \"showarrow\": false, \"xanchor\": \"left\"}, {\"font\": {\"color\": \"#000000\"}, \"y\": 3, \"text\": \"29644\", \"x\": 1.55, \"xref\": \"x1\", \"align\": \"left\", \"yref\": \"y1\", \"showarrow\": false, \"xanchor\": \"left\"}, {\"font\": {\"color\": \"#000000\"}, \"y\": 3, \"text\": \"3\", \"x\": 2.55, \"xref\": \"x1\", \"align\": \"left\", \"yref\": \"y1\", \"showarrow\": false, \"xanchor\": \"left\"}, {\"font\": {\"color\": \"#000000\"}, \"y\": 3, \"text\": \"47\", \"x\": 3.55, \"xref\": \"x1\", \"align\": \"left\", \"yref\": \"y1\", \"showarrow\": false, \"xanchor\": \"left\"}, {\"font\": {\"color\": \"#000000\"}, \"y\": 4, \"text\": \"Technical/Developer Evangelism\", \"x\": -0.45, \"xref\": \"x1\", \"align\": \"left\", \"yref\": \"y1\", \"showarrow\": false, \"xanchor\": \"left\"}, {\"font\": {\"color\": \"#000000\"}, \"y\": 4, \"text\": \"Non-Employees\", \"x\": 0.55, \"xref\": \"x1\", \"align\": \"left\", \"yref\": \"y1\", \"showarrow\": false, \"xanchor\": \"left\"}, {\"font\": {\"color\": \"#000000\"}, \"y\": 4, \"text\": \"5249\", \"x\": 1.55, \"xref\": \"x1\", \"align\": \"left\", \"yref\": \"y1\", \"showarrow\": false, \"xanchor\": \"left\"}, {\"font\": {\"color\": \"#000000\"}, \"y\": 4, \"text\": \"3\", \"x\": 2.55, \"xref\": \"x1\", \"align\": \"left\", \"yref\": \"y1\", \"showarrow\": false, \"xanchor\": \"left\"}, {\"font\": {\"color\": \"#000000\"}, \"y\": 4, \"text\": \"44\", \"x\": 3.55, \"xref\": \"x1\", \"align\": \"left\", \"yref\": \"y1\", \"showarrow\": false, \"xanchor\": \"left\"}, {\"font\": {\"color\": \"#000000\"}, \"y\": 5, \"text\": \"Web Properties\", \"x\": -0.45, \"xref\": \"x1\", \"align\": \"left\", \"yref\": \"y1\", \"showarrow\": false, \"xanchor\": \"left\"}, {\"font\": {\"color\": \"#000000\"}, \"y\": 5, \"text\": \"Non-Employees\", \"x\": 0.55, \"xref\": \"x1\", \"align\": \"left\", \"yref\": \"y1\", \"showarrow\": false, \"xanchor\": \"left\"}, {\"font\": {\"color\": \"#000000\"}, \"y\": 5, \"text\": \"4254\", \"x\": 1.55, \"xref\": \"x1\", \"align\": \"left\", \"yref\": \"y1\", \"showarrow\": false, \"xanchor\": \"left\"}, {\"font\": {\"color\": \"#000000\"}, \"y\": 5, \"text\": \"16\", \"x\": 2.55, \"xref\": \"x1\", \"align\": \"left\", \"yref\": \"y1\", \"showarrow\": false, \"xanchor\": \"left\"}, {\"font\": {\"color\": \"#000000\"}, \"y\": 5, \"text\": \"166\", \"x\": 3.55, \"xref\": \"x1\", \"align\": \"left\", \"yref\": \"y1\", \"showarrow\": false, \"xanchor\": \"left\"}, {\"font\": {\"color\": \"#000000\"}, \"y\": 6, \"text\": \"IT/Ops\", \"x\": -0.45, \"xref\": \"x1\", \"align\": \"left\", \"yref\": \"y1\", \"showarrow\": false, \"xanchor\": \"left\"}, {\"font\": {\"color\": \"#000000\"}, \"y\": 6, \"text\": \"Non-Employees\", \"x\": 0.55, \"xref\": \"x1\", \"align\": \"left\", \"yref\": \"y1\", \"showarrow\": false, \"xanchor\": \"left\"}, {\"font\": {\"color\": \"#000000\"}, \"y\": 6, \"text\": \"2730\", \"x\": 1.55, \"xref\": \"x1\", \"align\": \"left\", \"yref\": \"y1\", \"showarrow\": false, \"xanchor\": \"left\"}, {\"font\": {\"color\": \"#000000\"}, \"y\": 6, \"text\": \"11\", \"x\": 2.55, \"xref\": \"x1\", \"align\": \"left\", \"yref\": \"y1\", \"showarrow\": false, \"xanchor\": \"left\"}, {\"font\": {\"color\": \"#000000\"}, \"y\": 6, \"text\": \"172\", \"x\": 3.55, \"xref\": \"x1\", \"align\": \"left\", \"yref\": \"y1\", \"showarrow\": false, \"xanchor\": \"left\"}, {\"font\": {\"color\": \"#000000\"}, \"y\": 7, \"text\": \"Firefox Android\", \"x\": -0.45, \"xref\": \"x1\", \"align\": \"left\", \"yref\": \"y1\", \"showarrow\": false, \"xanchor\": \"left\"}, {\"font\": {\"color\": \"#000000\"}, \"y\": 7, \"text\": \"Non-Employees\", \"x\": 0.55, \"xref\": \"x1\", \"align\": \"left\", \"yref\": \"y1\", \"showarrow\": false, \"xanchor\": \"left\"}, {\"font\": {\"color\": \"#000000\"}, \"y\": 7, \"text\": \"2484\", \"x\": 1.55, \"xref\": \"x1\", \"align\": \"left\", \"yref\": \"y1\", \"showarrow\": false, \"xanchor\": \"left\"}, {\"font\": {\"color\": \"#000000\"}, \"y\": 7, \"text\": \"2\", \"x\": 2.55, \"xref\": \"x1\", \"align\": \"left\", \"yref\": \"y1\", \"showarrow\": false, \"xanchor\": \"left\"}, {\"font\": {\"color\": \"#000000\"}, \"y\": 7, \"text\": \"36\", \"x\": 3.55, \"xref\": \"x1\", \"align\": \"left\", \"yref\": \"y1\", \"showarrow\": false, \"xanchor\": \"left\"}, {\"font\": {\"color\": \"#000000\"}, \"y\": 8, \"text\": \"IT/Ops\", \"x\": -0.45, \"xref\": \"x1\", \"align\": \"left\", \"yref\": \"y1\", \"showarrow\": false, \"xanchor\": \"left\"}, {\"font\": {\"color\": \"#000000\"}, \"y\": 8, \"text\": \"Employees\", \"x\": 0.55, \"xref\": \"x1\", \"align\": \"left\", \"yref\": \"y1\", \"showarrow\": false, \"xanchor\": \"left\"}, {\"font\": {\"color\": \"#000000\"}, \"y\": 8, \"text\": \"2242\", \"x\": 1.55, \"xref\": \"x1\", \"align\": \"left\", \"yref\": \"y1\", \"showarrow\": false, \"xanchor\": \"left\"}, {\"font\": {\"color\": \"#000000\"}, \"y\": 8, \"text\": \"11\", \"x\": 2.55, \"xref\": \"x1\", \"align\": \"left\", \"yref\": \"y1\", \"showarrow\": false, \"xanchor\": \"left\"}, {\"font\": {\"color\": \"#000000\"}, \"y\": 8, \"text\": \"213\", \"x\": 3.55, \"xref\": \"x1\", \"align\": \"left\", \"yref\": \"y1\", \"showarrow\": false, \"xanchor\": \"left\"}, {\"font\": {\"color\": \"#000000\"}, \"y\": 9, \"text\": \"Addons/Web Extensions\", \"x\": -0.45, \"xref\": \"x1\", \"align\": \"left\", \"yref\": \"y1\", \"showarrow\": false, \"xanchor\": \"left\"}, {\"font\": {\"color\": \"#000000\"}, \"y\": 9, \"text\": \"Non-Employees\", \"x\": 0.55, \"xref\": \"x1\", \"align\": \"left\", \"yref\": \"y1\", \"showarrow\": false, \"xanchor\": \"left\"}, {\"font\": {\"color\": \"#000000\"}, \"y\": 9, \"text\": \"2176\", \"x\": 1.55, \"xref\": \"x1\", \"align\": \"left\", \"yref\": \"y1\", \"showarrow\": false, \"xanchor\": \"left\"}, {\"font\": {\"color\": \"#000000\"}, \"y\": 9, \"text\": \"3\", \"x\": 2.55, \"xref\": \"x1\", \"align\": \"left\", \"yref\": \"y1\", \"showarrow\": false, \"xanchor\": \"left\"}, {\"font\": {\"color\": \"#000000\"}, \"y\": 9, \"text\": \"25\", \"x\": 3.55, \"xref\": \"x1\", \"align\": \"left\", \"yref\": \"y1\", \"showarrow\": false, \"xanchor\": \"left\"}, {\"font\": {\"color\": \"#000000\"}, \"y\": 10, \"text\": \"Firefox OS (FxOS / B2G)\", \"x\": -0.45, \"xref\": \"x1\", \"align\": \"left\", \"yref\": \"y1\", \"showarrow\": false, \"xanchor\": \"left\"}, {\"font\": {\"color\": \"#000000\"}, \"y\": 10, \"text\": \"Non-Employees\", \"x\": 0.55, \"xref\": \"x1\", \"align\": \"left\", \"yref\": \"y1\", \"showarrow\": false, \"xanchor\": \"left\"}, {\"font\": {\"color\": \"#000000\"}, \"y\": 10, \"text\": \"2022\", \"x\": 1.55, \"xref\": \"x1\", \"align\": \"left\", \"yref\": \"y1\", \"showarrow\": false, \"xanchor\": \"left\"}, {\"font\": {\"color\": \"#000000\"}, \"y\": 10, \"text\": \"4\", \"x\": 2.55, \"xref\": \"x1\", \"align\": \"left\", \"yref\": \"y1\", \"showarrow\": false, \"xanchor\": \"left\"}, {\"font\": {\"color\": \"#000000\"}, \"y\": 10, \"text\": \"113\", \"x\": 3.55, \"xref\": \"x1\", \"align\": \"left\", \"yref\": \"y1\", \"showarrow\": false, \"xanchor\": \"left\"}, {\"font\": {\"color\": \"#000000\"}, \"y\": 11, \"text\": \"Localization\", \"x\": -0.45, \"xref\": \"x1\", \"align\": \"left\", \"yref\": \"y1\", \"showarrow\": false, \"xanchor\": \"left\"}, {\"font\": {\"color\": \"#000000\"}, \"y\": 11, \"text\": \"Non-Employees\", \"x\": 0.55, \"xref\": \"x1\", \"align\": \"left\", \"yref\": \"y1\", \"showarrow\": false, \"xanchor\": \"left\"}, {\"font\": {\"color\": \"#000000\"}, \"y\": 11, \"text\": \"1935\", \"x\": 1.55, \"xref\": \"x1\", \"align\": \"left\", \"yref\": \"y1\", \"showarrow\": false, \"xanchor\": \"left\"}, {\"font\": {\"color\": \"#000000\"}, \"y\": 11, \"text\": \"4\", \"x\": 2.55, \"xref\": \"x1\", \"align\": \"left\", \"yref\": \"y1\", \"showarrow\": false, \"xanchor\": \"left\"}, {\"font\": {\"color\": \"#000000\"}, \"y\": 11, \"text\": \"115\", \"x\": 3.55, \"xref\": \"x1\", \"align\": \"left\", \"yref\": \"y1\", \"showarrow\": false, \"xanchor\": \"left\"}, {\"font\": {\"color\": \"#000000\"}, \"y\": 12, \"text\": \"Mozilla Developer Network (MDN)\", \"x\": -0.45, \"xref\": \"x1\", \"align\": \"left\", \"yref\": \"y1\", \"showarrow\": false, \"xanchor\": \"left\"}, {\"font\": {\"color\": \"#000000\"}, \"y\": 12, \"text\": \"Non-Employees\", \"x\": 0.55, \"xref\": \"x1\", \"align\": \"left\", \"yref\": \"y1\", \"showarrow\": false, \"xanchor\": \"left\"}, {\"font\": {\"color\": \"#000000\"}, \"y\": 12, \"text\": \"1866\", \"x\": 1.55, \"xref\": \"x1\", \"align\": \"left\", \"yref\": \"y1\", \"showarrow\": false, \"xanchor\": \"left\"}, {\"font\": {\"color\": \"#000000\"}, \"y\": 12, \"text\": \"2\", \"x\": 2.55, \"xref\": \"x1\", \"align\": \"left\", \"yref\": \"y1\", \"showarrow\": false, \"xanchor\": \"left\"}, {\"font\": {\"color\": \"#000000\"}, \"y\": 12, \"text\": \"53\", \"x\": 3.55, \"xref\": \"x1\", \"align\": \"left\", \"yref\": \"y1\", \"showarrow\": false, \"xanchor\": \"left\"}, {\"font\": {\"color\": \"#000000\"}, \"y\": 13, \"text\": \"Gecko\", \"x\": -0.45, \"xref\": \"x1\", \"align\": \"left\", \"yref\": \"y1\", \"showarrow\": false, \"xanchor\": \"left\"}, {\"font\": {\"color\": \"#000000\"}, \"y\": 13, \"text\": \"Employees\", \"x\": 0.55, \"xref\": \"x1\", \"align\": \"left\", \"yref\": \"y1\", \"showarrow\": false, \"xanchor\": \"left\"}, {\"font\": {\"color\": \"#000000\"}, \"y\": 13, \"text\": \"1679\", \"x\": 1.55, \"xref\": \"x1\", \"align\": \"left\", \"yref\": \"y1\", \"showarrow\": false, \"xanchor\": \"left\"}, {\"font\": {\"color\": \"#000000\"}, \"y\": 13, \"text\": \"5\", \"x\": 2.55, \"xref\": \"x1\", \"align\": \"left\", \"yref\": \"y1\", \"showarrow\": false, \"xanchor\": \"left\"}, {\"font\": {\"color\": \"#000000\"}, \"y\": 13, \"text\": \"234\", \"x\": 3.55, \"xref\": \"x1\", \"align\": \"left\", \"yref\": \"y1\", \"showarrow\": false, \"xanchor\": \"left\"}, {\"font\": {\"color\": \"#000000\"}, \"y\": 14, \"text\": \"Web Properties\", \"x\": -0.45, \"xref\": \"x1\", \"align\": \"left\", \"yref\": \"y1\", \"showarrow\": false, \"xanchor\": \"left\"}, {\"font\": {\"color\": \"#000000\"}, \"y\": 14, \"text\": \"Employees\", \"x\": 0.55, \"xref\": \"x1\", \"align\": \"left\", \"yref\": \"y1\", \"showarrow\": false, \"xanchor\": \"left\"}, {\"font\": {\"color\": \"#000000\"}, \"y\": 14, \"text\": \"1547\", \"x\": 1.55, \"xref\": \"x1\", \"align\": \"left\", \"yref\": \"y1\", \"showarrow\": false, \"xanchor\": \"left\"}, {\"font\": {\"color\": \"#000000\"}, \"y\": 14, \"text\": \"16\", \"x\": 2.55, \"xref\": \"x1\", \"align\": \"left\", \"yref\": \"y1\", \"showarrow\": false, \"xanchor\": \"left\"}, {\"font\": {\"color\": \"#000000\"}, \"y\": 14, \"text\": \"176\", \"x\": 3.55, \"xref\": \"x1\", \"align\": \"left\", \"yref\": \"y1\", \"showarrow\": false, \"xanchor\": \"left\"}, {\"font\": {\"color\": \"#000000\"}, \"y\": 15, \"text\": \"Firefox\", \"x\": -0.45, \"xref\": \"x1\", \"align\": \"left\", \"yref\": \"y1\", \"showarrow\": false, \"xanchor\": \"left\"}, {\"font\": {\"color\": \"#000000\"}, \"y\": 15, \"text\": \"Employees\", \"x\": 0.55, \"xref\": \"x1\", \"align\": \"left\", \"yref\": \"y1\", \"showarrow\": false, \"xanchor\": \"left\"}, {\"font\": {\"color\": \"#000000\"}, \"y\": 15, \"text\": \"1340\", \"x\": 1.55, \"xref\": \"x1\", \"align\": \"left\", \"yref\": \"y1\", \"showarrow\": false, \"xanchor\": \"left\"}, {\"font\": {\"color\": \"#000000\"}, \"y\": 15, \"text\": \"3\", \"x\": 2.55, \"xref\": \"x1\", \"align\": \"left\", \"yref\": \"y1\", \"showarrow\": false, \"xanchor\": \"left\"}, {\"font\": {\"color\": \"#000000\"}, \"y\": 15, \"text\": \"58\", \"x\": 3.55, \"xref\": \"x1\", \"align\": \"left\", \"yref\": \"y1\", \"showarrow\": false, \"xanchor\": \"left\"}, {\"font\": {\"color\": \"#000000\"}, \"y\": 16, \"text\": \"Developer Tools\", \"x\": -0.45, \"xref\": \"x1\", \"align\": \"left\", \"yref\": \"y1\", \"showarrow\": false, \"xanchor\": \"left\"}, {\"font\": {\"color\": \"#000000\"}, \"y\": 16, \"text\": \"Non-Employees\", \"x\": 0.55, \"xref\": \"x1\", \"align\": \"left\", \"yref\": \"y1\", \"showarrow\": false, \"xanchor\": \"left\"}, {\"font\": {\"color\": \"#000000\"}, \"y\": 16, \"text\": \"1186\", \"x\": 1.55, \"xref\": \"x1\", \"align\": \"left\", \"yref\": \"y1\", \"showarrow\": false, \"xanchor\": \"left\"}, {\"font\": {\"color\": \"#000000\"}, \"y\": 16, \"text\": \"1\", \"x\": 2.55, \"xref\": \"x1\", \"align\": \"left\", \"yref\": \"y1\", \"showarrow\": false, \"xanchor\": \"left\"}, {\"font\": {\"color\": \"#000000\"}, \"y\": 16, \"text\": \"24\", \"x\": 3.55, \"xref\": \"x1\", \"align\": \"left\", \"yref\": \"y1\", \"showarrow\": false, \"xanchor\": \"left\"}, {\"font\": {\"color\": \"#000000\"}, \"y\": 17, \"text\": \"Firefox OS (FxOS / B2G)\", \"x\": -0.45, \"xref\": \"x1\", \"align\": \"left\", \"yref\": \"y1\", \"showarrow\": false, \"xanchor\": \"left\"}, {\"font\": {\"color\": \"#000000\"}, \"y\": 17, \"text\": \"Employees\", \"x\": 0.55, \"xref\": \"x1\", \"align\": \"left\", \"yref\": \"y1\", \"showarrow\": false, \"xanchor\": \"left\"}, {\"font\": {\"color\": \"#000000\"}, \"y\": 17, \"text\": \"946\", \"x\": 1.55, \"xref\": \"x1\", \"align\": \"left\", \"yref\": \"y1\", \"showarrow\": false, \"xanchor\": \"left\"}, {\"font\": {\"color\": \"#000000\"}, \"y\": 17, \"text\": \"4\", \"x\": 2.55, \"xref\": \"x1\", \"align\": \"left\", \"yref\": \"y1\", \"showarrow\": false, \"xanchor\": \"left\"}, {\"font\": {\"color\": \"#000000\"}, \"y\": 17, \"text\": \"115\", \"x\": 3.55, \"xref\": \"x1\", \"align\": \"left\", \"yref\": \"y1\", \"showarrow\": false, \"xanchor\": \"left\"}, {\"font\": {\"color\": \"#000000\"}, \"y\": 18, \"text\": \"Firefox Android\", \"x\": -0.45, \"xref\": \"x1\", \"align\": \"left\", \"yref\": \"y1\", \"showarrow\": false, \"xanchor\": \"left\"}, {\"font\": {\"color\": \"#000000\"}, \"y\": 18, \"text\": \"Employees\", \"x\": 0.55, \"xref\": \"x1\", \"align\": \"left\", \"yref\": \"y1\", \"showarrow\": false, \"xanchor\": \"left\"}, {\"font\": {\"color\": \"#000000\"}, \"y\": 18, \"text\": \"699\", \"x\": 1.55, \"xref\": \"x1\", \"align\": \"left\", \"yref\": \"y1\", \"showarrow\": false, \"xanchor\": \"left\"}, {\"font\": {\"color\": \"#000000\"}, \"y\": 18, \"text\": \"2\", \"x\": 2.55, \"xref\": \"x1\", \"align\": \"left\", \"yref\": \"y1\", \"showarrow\": false, \"xanchor\": \"left\"}, {\"font\": {\"color\": \"#000000\"}, \"y\": 18, \"text\": \"36\", \"x\": 3.55, \"xref\": \"x1\", \"align\": \"left\", \"yref\": \"y1\", \"showarrow\": false, \"xanchor\": \"left\"}, {\"font\": {\"color\": \"#000000\"}, \"y\": 19, \"text\": \"Release engineering\", \"x\": -0.45, \"xref\": \"x1\", \"align\": \"left\", \"yref\": \"y1\", \"showarrow\": false, \"xanchor\": \"left\"}, {\"font\": {\"color\": \"#000000\"}, \"y\": 19, \"text\": \"Employees\", \"x\": 0.55, \"xref\": \"x1\", \"align\": \"left\", \"yref\": \"y1\", \"showarrow\": false, \"xanchor\": \"left\"}, {\"font\": {\"color\": \"#000000\"}, \"y\": 19, \"text\": \"636\", \"x\": 1.55, \"xref\": \"x1\", \"align\": \"left\", \"yref\": \"y1\", \"showarrow\": false, \"xanchor\": \"left\"}, {\"font\": {\"color\": \"#000000\"}, \"y\": 19, \"text\": \"1\", \"x\": 2.55, \"xref\": \"x1\", \"align\": \"left\", \"yref\": \"y1\", \"showarrow\": false, \"xanchor\": \"left\"}, {\"font\": {\"color\": \"#000000\"}, \"y\": 19, \"text\": \"14\", \"x\": 3.55, \"xref\": \"x1\", \"align\": \"left\", \"yref\": \"y1\", \"showarrow\": false, \"xanchor\": \"left\"}, {\"font\": {\"color\": \"#000000\"}, \"y\": 20, \"text\": \"Quality Assurance\", \"x\": -0.45, \"xref\": \"x1\", \"align\": \"left\", \"yref\": \"y1\", \"showarrow\": false, \"xanchor\": \"left\"}, {\"font\": {\"color\": \"#000000\"}, \"y\": 20, \"text\": \"Employees\", \"x\": 0.55, \"xref\": \"x1\", \"align\": \"left\", \"yref\": \"y1\", \"showarrow\": false, \"xanchor\": \"left\"}, {\"font\": {\"color\": \"#000000\"}, \"y\": 20, \"text\": \"582\", \"x\": 1.55, \"xref\": \"x1\", \"align\": \"left\", \"yref\": \"y1\", \"showarrow\": false, \"xanchor\": \"left\"}, {\"font\": {\"color\": \"#000000\"}, \"y\": 20, \"text\": \"4\", \"x\": 2.55, \"xref\": \"x1\", \"align\": \"left\", \"yref\": \"y1\", \"showarrow\": false, \"xanchor\": \"left\"}, {\"font\": {\"color\": \"#000000\"}, \"y\": 20, \"text\": \"42\", \"x\": 3.55, \"xref\": \"x1\", \"align\": \"left\", \"yref\": \"y1\", \"showarrow\": false, \"xanchor\": \"left\"}, {\"font\": {\"color\": \"#000000\"}, \"y\": 21, \"text\": \"Thunderbird\", \"x\": -0.45, \"xref\": \"x1\", \"align\": \"left\", \"yref\": \"y1\", \"showarrow\": false, \"xanchor\": \"left\"}, {\"font\": {\"color\": \"#000000\"}, \"y\": 21, \"text\": \"Employees\", \"x\": 0.55, \"xref\": \"x1\", \"align\": \"left\", \"yref\": \"y1\", \"showarrow\": false, \"xanchor\": \"left\"}, {\"font\": {\"color\": \"#000000\"}, \"y\": 21, \"text\": \"565\", \"x\": 1.55, \"xref\": \"x1\", \"align\": \"left\", \"yref\": \"y1\", \"showarrow\": false, \"xanchor\": \"left\"}, {\"font\": {\"color\": \"#000000\"}, \"y\": 21, \"text\": \"3\", \"x\": 2.55, \"xref\": \"x1\", \"align\": \"left\", \"yref\": \"y1\", \"showarrow\": false, \"xanchor\": \"left\"}, {\"font\": {\"color\": \"#000000\"}, \"y\": 21, \"text\": \"48\", \"x\": 3.55, \"xref\": \"x1\", \"align\": \"left\", \"yref\": \"y1\", \"showarrow\": false, \"xanchor\": \"left\"}, {\"font\": {\"color\": \"#000000\"}, \"y\": 22, \"text\": \"Quality Assurance\", \"x\": -0.45, \"xref\": \"x1\", \"align\": \"left\", \"yref\": \"y1\", \"showarrow\": false, \"xanchor\": \"left\"}, {\"font\": {\"color\": \"#000000\"}, \"y\": 22, \"text\": \"Non-Employees\", \"x\": 0.55, \"xref\": \"x1\", \"align\": \"left\", \"yref\": \"y1\", \"showarrow\": false, \"xanchor\": \"left\"}, {\"font\": {\"color\": \"#000000\"}, \"y\": 22, \"text\": \"535\", \"x\": 1.55, \"xref\": \"x1\", \"align\": \"left\", \"yref\": \"y1\", \"showarrow\": false, \"xanchor\": \"left\"}, {\"font\": {\"color\": \"#000000\"}, \"y\": 22, \"text\": \"4\", \"x\": 2.55, \"xref\": \"x1\", \"align\": \"left\", \"yref\": \"y1\", \"showarrow\": false, \"xanchor\": \"left\"}, {\"font\": {\"color\": \"#000000\"}, \"y\": 22, \"text\": \"38\", \"x\": 3.55, \"xref\": \"x1\", \"align\": \"left\", \"yref\": \"y1\", \"showarrow\": false, \"xanchor\": \"left\"}, {\"font\": {\"color\": \"#000000\"}, \"y\": 23, \"text\": \"Addons/Web Extensions\", \"x\": -0.45, \"xref\": \"x1\", \"align\": \"left\", \"yref\": \"y1\", \"showarrow\": false, \"xanchor\": \"left\"}, {\"font\": {\"color\": \"#000000\"}, \"y\": 23, \"text\": \"Employees\", \"x\": 0.55, \"xref\": \"x1\", \"align\": \"left\", \"yref\": \"y1\", \"showarrow\": false, \"xanchor\": \"left\"}, {\"font\": {\"color\": \"#000000\"}, \"y\": 23, \"text\": \"498\", \"x\": 1.55, \"xref\": \"x1\", \"align\": \"left\", \"yref\": \"y1\", \"showarrow\": false, \"xanchor\": \"left\"}, {\"font\": {\"color\": \"#000000\"}, \"y\": 23, \"text\": \"3\", \"x\": 2.55, \"xref\": \"x1\", \"align\": \"left\", \"yref\": \"y1\", \"showarrow\": false, \"xanchor\": \"left\"}, {\"font\": {\"color\": \"#000000\"}, \"y\": 23, \"text\": \"25\", \"x\": 3.55, \"xref\": \"x1\", \"align\": \"left\", \"yref\": \"y1\", \"showarrow\": false, \"xanchor\": \"left\"}, {\"font\": {\"color\": \"#000000\"}, \"y\": 24, \"text\": \"Developer Tools\", \"x\": -0.45, \"xref\": \"x1\", \"align\": \"left\", \"yref\": \"y1\", \"showarrow\": false, \"xanchor\": \"left\"}, {\"font\": {\"color\": \"#000000\"}, \"y\": 24, \"text\": \"Employees\", \"x\": 0.55, \"xref\": \"x1\", \"align\": \"left\", \"yref\": \"y1\", \"showarrow\": false, \"xanchor\": \"left\"}, {\"font\": {\"color\": \"#000000\"}, \"y\": 24, \"text\": \"461\", \"x\": 1.55, \"xref\": \"x1\", \"align\": \"left\", \"yref\": \"y1\", \"showarrow\": false, \"xanchor\": \"left\"}, {\"font\": {\"color\": \"#000000\"}, \"y\": 24, \"text\": \"1\", \"x\": 2.55, \"xref\": \"x1\", \"align\": \"left\", \"yref\": \"y1\", \"showarrow\": false, \"xanchor\": \"left\"}, {\"font\": {\"color\": \"#000000\"}, \"y\": 24, \"text\": \"24\", \"x\": 3.55, \"xref\": \"x1\", \"align\": \"left\", \"yref\": \"y1\", \"showarrow\": false, \"xanchor\": \"left\"}, {\"font\": {\"color\": \"#000000\"}, \"y\": 25, \"text\": \"Mozilla Developer Network (MDN)\", \"x\": -0.45, \"xref\": \"x1\", \"align\": \"left\", \"yref\": \"y1\", \"showarrow\": false, \"xanchor\": \"left\"}, {\"font\": {\"color\": \"#000000\"}, \"y\": 25, \"text\": \"Employees\", \"x\": 0.55, \"xref\": \"x1\", \"align\": \"left\", \"yref\": \"y1\", \"showarrow\": false, \"xanchor\": \"left\"}, {\"font\": {\"color\": \"#000000\"}, \"y\": 25, \"text\": \"457\", \"x\": 1.55, \"xref\": \"x1\", \"align\": \"left\", \"yref\": \"y1\", \"showarrow\": false, \"xanchor\": \"left\"}, {\"font\": {\"color\": \"#000000\"}, \"y\": 25, \"text\": \"2\", \"x\": 2.55, \"xref\": \"x1\", \"align\": \"left\", \"yref\": \"y1\", \"showarrow\": false, \"xanchor\": \"left\"}, {\"font\": {\"color\": \"#000000\"}, \"y\": 25, \"text\": \"55\", \"x\": 3.55, \"xref\": \"x1\", \"align\": \"left\", \"yref\": \"y1\", \"showarrow\": false, \"xanchor\": \"left\"}, {\"font\": {\"color\": \"#000000\"}, \"y\": 26, \"text\": \"Technical/Developer Evangelism\", \"x\": -0.45, \"xref\": \"x1\", \"align\": \"left\", \"yref\": \"y1\", \"showarrow\": false, \"xanchor\": \"left\"}, {\"font\": {\"color\": \"#000000\"}, \"y\": 26, \"text\": \"Employees\", \"x\": 0.55, \"xref\": \"x1\", \"align\": \"left\", \"yref\": \"y1\", \"showarrow\": false, \"xanchor\": \"left\"}, {\"font\": {\"color\": \"#000000\"}, \"y\": 26, \"text\": \"436\", \"x\": 1.55, \"xref\": \"x1\", \"align\": \"left\", \"yref\": \"y1\", \"showarrow\": false, \"xanchor\": \"left\"}, {\"font\": {\"color\": \"#000000\"}, \"y\": 26, \"text\": \"3\", \"x\": 2.55, \"xref\": \"x1\", \"align\": \"left\", \"yref\": \"y1\", \"showarrow\": false, \"xanchor\": \"left\"}, {\"font\": {\"color\": \"#000000\"}, \"y\": 26, \"text\": \"37\", \"x\": 3.55, \"xref\": \"x1\", \"align\": \"left\", \"yref\": \"y1\", \"showarrow\": false, \"xanchor\": \"left\"}, {\"font\": {\"color\": \"#000000\"}, \"y\": 27, \"text\": \"Localization\", \"x\": -0.45, \"xref\": \"x1\", \"align\": \"left\", \"yref\": \"y1\", \"showarrow\": false, \"xanchor\": \"left\"}, {\"font\": {\"color\": \"#000000\"}, \"y\": 27, \"text\": \"Employees\", \"x\": 0.55, \"xref\": \"x1\", \"align\": \"left\", \"yref\": \"y1\", \"showarrow\": false, \"xanchor\": \"left\"}, {\"font\": {\"color\": \"#000000\"}, \"y\": 27, \"text\": \"424\", \"x\": 1.55, \"xref\": \"x1\", \"align\": \"left\", \"yref\": \"y1\", \"showarrow\": false, \"xanchor\": \"left\"}, {\"font\": {\"color\": \"#000000\"}, \"y\": 27, \"text\": \"4\", \"x\": 2.55, \"xref\": \"x1\", \"align\": \"left\", \"yref\": \"y1\", \"showarrow\": false, \"xanchor\": \"left\"}, {\"font\": {\"color\": \"#000000\"}, \"y\": 27, \"text\": \"149\", \"x\": 3.55, \"xref\": \"x1\", \"align\": \"left\", \"yref\": \"y1\", \"showarrow\": false, \"xanchor\": \"left\"}, {\"font\": {\"color\": \"#000000\"}, \"y\": 28, \"text\": \"Release engineering\", \"x\": -0.45, \"xref\": \"x1\", \"align\": \"left\", \"yref\": \"y1\", \"showarrow\": false, \"xanchor\": \"left\"}, {\"font\": {\"color\": \"#000000\"}, \"y\": 28, \"text\": \"Non-Employees\", \"x\": 0.55, \"xref\": \"x1\", \"align\": \"left\", \"yref\": \"y1\", \"showarrow\": false, \"xanchor\": \"left\"}, {\"font\": {\"color\": \"#000000\"}, \"y\": 28, \"text\": \"342\", \"x\": 1.55, \"xref\": \"x1\", \"align\": \"left\", \"yref\": \"y1\", \"showarrow\": false, \"xanchor\": \"left\"}, {\"font\": {\"color\": \"#000000\"}, \"y\": 28, \"text\": \"1\", \"x\": 2.55, \"xref\": \"x1\", \"align\": \"left\", \"yref\": \"y1\", \"showarrow\": false, \"xanchor\": \"left\"}, {\"font\": {\"color\": \"#000000\"}, \"y\": 28, \"text\": \"14\", \"x\": 3.55, \"xref\": \"x1\", \"align\": \"left\", \"yref\": \"y1\", \"showarrow\": false, \"xanchor\": \"left\"}, {\"font\": {\"color\": \"#000000\"}, \"y\": 29, \"text\": \"Web Literacy\", \"x\": -0.45, \"xref\": \"x1\", \"align\": \"left\", \"yref\": \"y1\", \"showarrow\": false, \"xanchor\": \"left\"}, {\"font\": {\"color\": \"#000000\"}, \"y\": 29, \"text\": \"Non-Employees\", \"x\": 0.55, \"xref\": \"x1\", \"align\": \"left\", \"yref\": \"y1\", \"showarrow\": false, \"xanchor\": \"left\"}, {\"font\": {\"color\": \"#000000\"}, \"y\": 29, \"text\": \"324\", \"x\": 1.55, \"xref\": \"x1\", \"align\": \"left\", \"yref\": \"y1\", \"showarrow\": false, \"xanchor\": \"left\"}, {\"font\": {\"color\": \"#000000\"}, \"y\": 29, \"text\": \"1\", \"x\": 2.55, \"xref\": \"x1\", \"align\": \"left\", \"yref\": \"y1\", \"showarrow\": false, \"xanchor\": \"left\"}, {\"font\": {\"color\": \"#000000\"}, \"y\": 29, \"text\": \"25\", \"x\": 3.55, \"xref\": \"x1\", \"align\": \"left\", \"yref\": \"y1\", \"showarrow\": false, \"xanchor\": \"left\"}, {\"font\": {\"color\": \"#000000\"}, \"y\": 30, \"text\": \"Marketing / Social Media\", \"x\": -0.45, \"xref\": \"x1\", \"align\": \"left\", \"yref\": \"y1\", \"showarrow\": false, \"xanchor\": \"left\"}, {\"font\": {\"color\": \"#000000\"}, \"y\": 30, \"text\": \"Employees\", \"x\": 0.55, \"xref\": \"x1\", \"align\": \"left\", \"yref\": \"y1\", \"showarrow\": false, \"xanchor\": \"left\"}, {\"font\": {\"color\": \"#000000\"}, \"y\": 30, \"text\": \"320\", \"x\": 1.55, \"xref\": \"x1\", \"align\": \"left\", \"yref\": \"y1\", \"showarrow\": false, \"xanchor\": \"left\"}, {\"font\": {\"color\": \"#000000\"}, \"y\": 30, \"text\": \"4\", \"x\": 2.55, \"xref\": \"x1\", \"align\": \"left\", \"yref\": \"y1\", \"showarrow\": false, \"xanchor\": \"left\"}, {\"font\": {\"color\": \"#000000\"}, \"y\": 30, \"text\": \"21\", \"x\": 3.55, \"xref\": \"x1\", \"align\": \"left\", \"yref\": \"y1\", \"showarrow\": false, \"xanchor\": \"left\"}, {\"font\": {\"color\": \"#000000\"}, \"y\": 31, \"text\": \"Mozilla Creative & Design\", \"x\": -0.45, \"xref\": \"x1\", \"align\": \"left\", \"yref\": \"y1\", \"showarrow\": false, \"xanchor\": \"left\"}, {\"font\": {\"color\": \"#000000\"}, \"y\": 31, \"text\": \"Employees\", \"x\": 0.55, \"xref\": \"x1\", \"align\": \"left\", \"yref\": \"y1\", \"showarrow\": false, \"xanchor\": \"left\"}, {\"font\": {\"color\": \"#000000\"}, \"y\": 31, \"text\": \"262\", \"x\": 1.55, \"xref\": \"x1\", \"align\": \"left\", \"yref\": \"y1\", \"showarrow\": false, \"xanchor\": \"left\"}, {\"font\": {\"color\": \"#000000\"}, \"y\": 31, \"text\": \"1\", \"x\": 2.55, \"xref\": \"x1\", \"align\": \"left\", \"yref\": \"y1\", \"showarrow\": false, \"xanchor\": \"left\"}, {\"font\": {\"color\": \"#000000\"}, \"y\": 31, \"text\": \"1\", \"x\": 3.55, \"xref\": \"x1\", \"align\": \"left\", \"yref\": \"y1\", \"showarrow\": false, \"xanchor\": \"left\"}, {\"font\": {\"color\": \"#000000\"}, \"y\": 32, \"text\": \"Marketing / Social Media\", \"x\": -0.45, \"xref\": \"x1\", \"align\": \"left\", \"yref\": \"y1\", \"showarrow\": false, \"xanchor\": \"left\"}, {\"font\": {\"color\": \"#000000\"}, \"y\": 32, \"text\": \"Non-Employees\", \"x\": 0.55, \"xref\": \"x1\", \"align\": \"left\", \"yref\": \"y1\", \"showarrow\": false, \"xanchor\": \"left\"}, {\"font\": {\"color\": \"#000000\"}, \"y\": 32, \"text\": \"250\", \"x\": 1.55, \"xref\": \"x1\", \"align\": \"left\", \"yref\": \"y1\", \"showarrow\": false, \"xanchor\": \"left\"}, {\"font\": {\"color\": \"#000000\"}, \"y\": 32, \"text\": \"4\", \"x\": 2.55, \"xref\": \"x1\", \"align\": \"left\", \"yref\": \"y1\", \"showarrow\": false, \"xanchor\": \"left\"}, {\"font\": {\"color\": \"#000000\"}, \"y\": 32, \"text\": \"18\", \"x\": 3.55, \"xref\": \"x1\", \"align\": \"left\", \"yref\": \"y1\", \"showarrow\": false, \"xanchor\": \"left\"}, {\"font\": {\"color\": \"#000000\"}, \"y\": 33, \"text\": \"Mozilla Local/Regional communities\", \"x\": -0.45, \"xref\": \"x1\", \"align\": \"left\", \"yref\": \"y1\", \"showarrow\": false, \"xanchor\": \"left\"}, {\"font\": {\"color\": \"#000000\"}, \"y\": 33, \"text\": \"Non-Employees\", \"x\": 0.55, \"xref\": \"x1\", \"align\": \"left\", \"yref\": \"y1\", \"showarrow\": false, \"xanchor\": \"left\"}, {\"font\": {\"color\": \"#000000\"}, \"y\": 33, \"text\": \"161\", \"x\": 1.55, \"xref\": \"x1\", \"align\": \"left\", \"yref\": \"y1\", \"showarrow\": false, \"xanchor\": \"left\"}, {\"font\": {\"color\": \"#000000\"}, \"y\": 33, \"text\": \"2\", \"x\": 2.55, \"xref\": \"x1\", \"align\": \"left\", \"yref\": \"y1\", \"showarrow\": false, \"xanchor\": \"left\"}, {\"font\": {\"color\": \"#000000\"}, \"y\": 33, \"text\": \"16\", \"x\": 3.55, \"xref\": \"x1\", \"align\": \"left\", \"yref\": \"y1\", \"showarrow\": false, \"xanchor\": \"left\"}, {\"font\": {\"color\": \"#000000\"}, \"y\": 34, \"text\": \"Firefox iOS\", \"x\": -0.45, \"xref\": \"x1\", \"align\": \"left\", \"yref\": \"y1\", \"showarrow\": false, \"xanchor\": \"left\"}, {\"font\": {\"color\": \"#000000\"}, \"y\": 34, \"text\": \"Non-Employees\", \"x\": 0.55, \"xref\": \"x1\", \"align\": \"left\", \"yref\": \"y1\", \"showarrow\": false, \"xanchor\": \"left\"}, {\"font\": {\"color\": \"#000000\"}, \"y\": 34, \"text\": \"151\", \"x\": 1.55, \"xref\": \"x1\", \"align\": \"left\", \"yref\": \"y1\", \"showarrow\": false, \"xanchor\": \"left\"}, {\"font\": {\"color\": \"#000000\"}, \"y\": 34, \"text\": \"1\", \"x\": 2.55, \"xref\": \"x1\", \"align\": \"left\", \"yref\": \"y1\", \"showarrow\": false, \"xanchor\": \"left\"}, {\"font\": {\"color\": \"#000000\"}, \"y\": 34, \"text\": \"14\", \"x\": 3.55, \"xref\": \"x1\", \"align\": \"left\", \"yref\": \"y1\", \"showarrow\": false, \"xanchor\": \"left\"}, {\"font\": {\"color\": \"#000000\"}, \"y\": 35, \"text\": \"Web Literacy\", \"x\": -0.45, \"xref\": \"x1\", \"align\": \"left\", \"yref\": \"y1\", \"showarrow\": false, \"xanchor\": \"left\"}, {\"font\": {\"color\": \"#000000\"}, \"y\": 35, \"text\": \"Employees\", \"x\": 0.55, \"xref\": \"x1\", \"align\": \"left\", \"yref\": \"y1\", \"showarrow\": false, \"xanchor\": \"left\"}, {\"font\": {\"color\": \"#000000\"}, \"y\": 35, \"text\": \"140\", \"x\": 1.55, \"xref\": \"x1\", \"align\": \"left\", \"yref\": \"y1\", \"showarrow\": false, \"xanchor\": \"left\"}, {\"font\": {\"color\": \"#000000\"}, \"y\": 35, \"text\": \"1\", \"x\": 2.55, \"xref\": \"x1\", \"align\": \"left\", \"yref\": \"y1\", \"showarrow\": false, \"xanchor\": \"left\"}, {\"font\": {\"color\": \"#000000\"}, \"y\": 35, \"text\": \"26\", \"x\": 3.55, \"xref\": \"x1\", \"align\": \"left\", \"yref\": \"y1\", \"showarrow\": false, \"xanchor\": \"left\"}, {\"font\": {\"color\": \"#000000\"}, \"y\": 36, \"text\": \"Firefox iOS\", \"x\": -0.45, \"xref\": \"x1\", \"align\": \"left\", \"yref\": \"y1\", \"showarrow\": false, \"xanchor\": \"left\"}, {\"font\": {\"color\": \"#000000\"}, \"y\": 36, \"text\": \"Employees\", \"x\": 0.55, \"xref\": \"x1\", \"align\": \"left\", \"yref\": \"y1\", \"showarrow\": false, \"xanchor\": \"left\"}, {\"font\": {\"color\": \"#000000\"}, \"y\": 36, \"text\": \"139\", \"x\": 1.55, \"xref\": \"x1\", \"align\": \"left\", \"yref\": \"y1\", \"showarrow\": false, \"xanchor\": \"left\"}, {\"font\": {\"color\": \"#000000\"}, \"y\": 36, \"text\": \"1\", \"x\": 2.55, \"xref\": \"x1\", \"align\": \"left\", \"yref\": \"y1\", \"showarrow\": false, \"xanchor\": \"left\"}, {\"font\": {\"color\": \"#000000\"}, \"y\": 36, \"text\": \"15\", \"x\": 3.55, \"xref\": \"x1\", \"align\": \"left\", \"yref\": \"y1\", \"showarrow\": false, \"xanchor\": \"left\"}, {\"font\": {\"color\": \"#000000\"}, \"y\": 37, \"text\": \"Mozilla Local/Regional communities\", \"x\": -0.45, \"xref\": \"x1\", \"align\": \"left\", \"yref\": \"y1\", \"showarrow\": false, \"xanchor\": \"left\"}, {\"font\": {\"color\": \"#000000\"}, \"y\": 37, \"text\": \"Employees\", \"x\": 0.55, \"xref\": \"x1\", \"align\": \"left\", \"yref\": \"y1\", \"showarrow\": false, \"xanchor\": \"left\"}, {\"font\": {\"color\": \"#000000\"}, \"y\": 37, \"text\": \"99\", \"x\": 1.55, \"xref\": \"x1\", \"align\": \"left\", \"yref\": \"y1\", \"showarrow\": false, \"xanchor\": \"left\"}, {\"font\": {\"color\": \"#000000\"}, \"y\": 37, \"text\": \"2\", \"x\": 2.55, \"xref\": \"x1\", \"align\": \"left\", \"yref\": \"y1\", \"showarrow\": false, \"xanchor\": \"left\"}, {\"font\": {\"color\": \"#000000\"}, \"y\": 37, \"text\": \"16\", \"x\": 3.55, \"xref\": \"x1\", \"align\": \"left\", \"yref\": \"y1\", \"showarrow\": false, \"xanchor\": \"left\"}, {\"font\": {\"color\": \"#000000\"}, \"y\": 38, \"text\": \"Mozilla support (SUMO)\", \"x\": -0.45, \"xref\": \"x1\", \"align\": \"left\", \"yref\": \"y1\", \"showarrow\": false, \"xanchor\": \"left\"}, {\"font\": {\"color\": \"#000000\"}, \"y\": 38, \"text\": \"Non-Employees\", \"x\": 0.55, \"xref\": \"x1\", \"align\": \"left\", \"yref\": \"y1\", \"showarrow\": false, \"xanchor\": \"left\"}, {\"font\": {\"color\": \"#000000\"}, \"y\": 38, \"text\": \"73\", \"x\": 1.55, \"xref\": \"x1\", \"align\": \"left\", \"yref\": \"y1\", \"showarrow\": false, \"xanchor\": \"left\"}, {\"font\": {\"color\": \"#000000\"}, \"y\": 38, \"text\": \"3\", \"x\": 2.55, \"xref\": \"x1\", \"align\": \"left\", \"yref\": \"y1\", \"showarrow\": false, \"xanchor\": \"left\"}, {\"font\": {\"color\": \"#000000\"}, \"y\": 38, \"text\": \"12\", \"x\": 3.55, \"xref\": \"x1\", \"align\": \"left\", \"yref\": \"y1\", \"showarrow\": false, \"xanchor\": \"left\"}, {\"font\": {\"color\": \"#000000\"}, \"y\": 39, \"text\": \"Mozilla support (SUMO)\", \"x\": -0.45, \"xref\": \"x1\", \"align\": \"left\", \"yref\": \"y1\", \"showarrow\": false, \"xanchor\": \"left\"}, {\"font\": {\"color\": \"#000000\"}, \"y\": 39, \"text\": \"Employees\", \"x\": 0.55, \"xref\": \"x1\", \"align\": \"left\", \"yref\": \"y1\", \"showarrow\": false, \"xanchor\": \"left\"}, {\"font\": {\"color\": \"#000000\"}, \"y\": 39, \"text\": \"61\", \"x\": 1.55, \"xref\": \"x1\", \"align\": \"left\", \"yref\": \"y1\", \"showarrow\": false, \"xanchor\": \"left\"}, {\"font\": {\"color\": \"#000000\"}, \"y\": 39, \"text\": \"3\", \"x\": 2.55, \"xref\": \"x1\", \"align\": \"left\", \"yref\": \"y1\", \"showarrow\": false, \"xanchor\": \"left\"}, {\"font\": {\"color\": \"#000000\"}, \"y\": 39, \"text\": \"12\", \"x\": 3.55, \"xref\": \"x1\", \"align\": \"left\", \"yref\": \"y1\", \"showarrow\": false, \"xanchor\": \"left\"}, {\"font\": {\"color\": \"#000000\"}, \"y\": 40, \"text\": \"Mozilla Foundation\", \"x\": -0.45, \"xref\": \"x1\", \"align\": \"left\", \"yref\": \"y1\", \"showarrow\": false, \"xanchor\": \"left\"}, {\"font\": {\"color\": \"#000000\"}, \"y\": 40, \"text\": \"Employees\", \"x\": 0.55, \"xref\": \"x1\", \"align\": \"left\", \"yref\": \"y1\", \"showarrow\": false, \"xanchor\": \"left\"}, {\"font\": {\"color\": \"#000000\"}, \"y\": 40, \"text\": \"49\", \"x\": 1.55, \"xref\": \"x1\", \"align\": \"left\", \"yref\": \"y1\", \"showarrow\": false, \"xanchor\": \"left\"}, {\"font\": {\"color\": \"#000000\"}, \"y\": 40, \"text\": \"2\", \"x\": 2.55, \"xref\": \"x1\", \"align\": \"left\", \"yref\": \"y1\", \"showarrow\": false, \"xanchor\": \"left\"}, {\"font\": {\"color\": \"#000000\"}, \"y\": 40, \"text\": \"15\", \"x\": 3.55, \"xref\": \"x1\", \"align\": \"left\", \"yref\": \"y1\", \"showarrow\": false, \"xanchor\": \"left\"}, {\"font\": {\"color\": \"#000000\"}, \"y\": 41, \"text\": \"Mozilla Foundation\", \"x\": -0.45, \"xref\": \"x1\", \"align\": \"left\", \"yref\": \"y1\", \"showarrow\": false, \"xanchor\": \"left\"}, {\"font\": {\"color\": \"#000000\"}, \"y\": 41, \"text\": \"Non-Employees\", \"x\": 0.55, \"xref\": \"x1\", \"align\": \"left\", \"yref\": \"y1\", \"showarrow\": false, \"xanchor\": \"left\"}, {\"font\": {\"color\": \"#000000\"}, \"y\": 41, \"text\": \"29\", \"x\": 1.55, \"xref\": \"x1\", \"align\": \"left\", \"yref\": \"y1\", \"showarrow\": false, \"xanchor\": \"left\"}, {\"font\": {\"color\": \"#000000\"}, \"y\": 41, \"text\": \"2\", \"x\": 2.55, \"xref\": \"x1\", \"align\": \"left\", \"yref\": \"y1\", \"showarrow\": false, \"xanchor\": \"left\"}, {\"font\": {\"color\": \"#000000\"}, \"y\": 41, \"text\": \"8\", \"x\": 3.55, \"xref\": \"x1\", \"align\": \"left\", \"yref\": \"y1\", \"showarrow\": false, \"xanchor\": \"left\"}, {\"font\": {\"color\": \"#000000\"}, \"y\": 42, \"text\": \"Mozilla Creative & Design\", \"x\": -0.45, \"xref\": \"x1\", \"align\": \"left\", \"yref\": \"y1\", \"showarrow\": false, \"xanchor\": \"left\"}, {\"font\": {\"color\": \"#000000\"}, \"y\": 42, \"text\": \"Non-Employees\", \"x\": 0.55, \"xref\": \"x1\", \"align\": \"left\", \"yref\": \"y1\", \"showarrow\": false, \"xanchor\": \"left\"}, {\"font\": {\"color\": \"#000000\"}, \"y\": 42, \"text\": \"22\", \"x\": 1.55, \"xref\": \"x1\", \"align\": \"left\", \"yref\": \"y1\", \"showarrow\": false, \"xanchor\": \"left\"}, {\"font\": {\"color\": \"#000000\"}, \"y\": 42, \"text\": \"1\", \"x\": 2.55, \"xref\": \"x1\", \"align\": \"left\", \"yref\": \"y1\", \"showarrow\": false, \"xanchor\": \"left\"}, {\"font\": {\"color\": \"#000000\"}, \"y\": 42, \"text\": \"1\", \"x\": 3.55, \"xref\": \"x1\", \"align\": \"left\", \"yref\": \"y1\", \"showarrow\": false, \"xanchor\": \"left\"}, {\"font\": {\"color\": \"#000000\"}, \"y\": 43, \"text\": \"Firefox Focus\", \"x\": -0.45, \"xref\": \"x1\", \"align\": \"left\", \"yref\": \"y1\", \"showarrow\": false, \"xanchor\": \"left\"}, {\"font\": {\"color\": \"#000000\"}, \"y\": 43, \"text\": \"Employees\", \"x\": 0.55, \"xref\": \"x1\", \"align\": \"left\", \"yref\": \"y1\", \"showarrow\": false, \"xanchor\": \"left\"}, {\"font\": {\"color\": \"#000000\"}, \"y\": 43, \"text\": \"18\", \"x\": 1.55, \"xref\": \"x1\", \"align\": \"left\", \"yref\": \"y1\", \"showarrow\": false, \"xanchor\": \"left\"}, {\"font\": {\"color\": \"#000000\"}, \"y\": 43, \"text\": \"1\", \"x\": 2.55, \"xref\": \"x1\", \"align\": \"left\", \"yref\": \"y1\", \"showarrow\": false, \"xanchor\": \"left\"}, {\"font\": {\"color\": \"#000000\"}, \"y\": 43, \"text\": \"1\", \"x\": 3.55, \"xref\": \"x1\", \"align\": \"left\", \"yref\": \"y1\", \"showarrow\": false, \"xanchor\": \"left\"}, {\"font\": {\"color\": \"#000000\"}, \"y\": 44, \"text\": \"Advocacy and policy\", \"x\": -0.45, \"xref\": \"x1\", \"align\": \"left\", \"yref\": \"y1\", \"showarrow\": false, \"xanchor\": \"left\"}, {\"font\": {\"color\": \"#000000\"}, \"y\": 44, \"text\": \"Non-Employees\", \"x\": 0.55, \"xref\": \"x1\", \"align\": \"left\", \"yref\": \"y1\", \"showarrow\": false, \"xanchor\": \"left\"}, {\"font\": {\"color\": \"#000000\"}, \"y\": 44, \"text\": \"11\", \"x\": 1.55, \"xref\": \"x1\", \"align\": \"left\", \"yref\": \"y1\", \"showarrow\": false, \"xanchor\": \"left\"}, {\"font\": {\"color\": \"#000000\"}, \"y\": 44, \"text\": \"1\", \"x\": 2.55, \"xref\": \"x1\", \"align\": \"left\", \"yref\": \"y1\", \"showarrow\": false, \"xanchor\": \"left\"}, {\"font\": {\"color\": \"#000000\"}, \"y\": 44, \"text\": \"4\", \"x\": 3.55, \"xref\": \"x1\", \"align\": \"left\", \"yref\": \"y1\", \"showarrow\": false, \"xanchor\": \"left\"}, {\"font\": {\"color\": \"#000000\"}, \"y\": 45, \"text\": \"Connected devices & IoT\", \"x\": -0.45, \"xref\": \"x1\", \"align\": \"left\", \"yref\": \"y1\", \"showarrow\": false, \"xanchor\": \"left\"}, {\"font\": {\"color\": \"#000000\"}, \"y\": 45, \"text\": \"Employees\", \"x\": 0.55, \"xref\": \"x1\", \"align\": \"left\", \"yref\": \"y1\", \"showarrow\": false, \"xanchor\": \"left\"}, {\"font\": {\"color\": \"#000000\"}, \"y\": 45, \"text\": \"9\", \"x\": 1.55, \"xref\": \"x1\", \"align\": \"left\", \"yref\": \"y1\", \"showarrow\": false, \"xanchor\": \"left\"}, {\"font\": {\"color\": \"#000000\"}, \"y\": 45, \"text\": \"1\", \"x\": 2.55, \"xref\": \"x1\", \"align\": \"left\", \"yref\": \"y1\", \"showarrow\": false, \"xanchor\": \"left\"}, {\"font\": {\"color\": \"#000000\"}, \"y\": 45, \"text\": \"3\", \"x\": 3.55, \"xref\": \"x1\", \"align\": \"left\", \"yref\": \"y1\", \"showarrow\": false, \"xanchor\": \"left\"}, {\"font\": {\"color\": \"#000000\"}, \"y\": 46, \"text\": \"Web Compatibility\", \"x\": -0.45, \"xref\": \"x1\", \"align\": \"left\", \"yref\": \"y1\", \"showarrow\": false, \"xanchor\": \"left\"}, {\"font\": {\"color\": \"#000000\"}, \"y\": 46, \"text\": \"Employees\", \"x\": 0.55, \"xref\": \"x1\", \"align\": \"left\", \"yref\": \"y1\", \"showarrow\": false, \"xanchor\": \"left\"}, {\"font\": {\"color\": \"#000000\"}, \"y\": 46, \"text\": \"7\", \"x\": 1.55, \"xref\": \"x1\", \"align\": \"left\", \"yref\": \"y1\", \"showarrow\": false, \"xanchor\": \"left\"}, {\"font\": {\"color\": \"#000000\"}, \"y\": 46, \"text\": \"1\", \"x\": 2.55, \"xref\": \"x1\", \"align\": \"left\", \"yref\": \"y1\", \"showarrow\": false, \"xanchor\": \"left\"}, {\"font\": {\"color\": \"#000000\"}, \"y\": 46, \"text\": \"2\", \"x\": 3.55, \"xref\": \"x1\", \"align\": \"left\", \"yref\": \"y1\", \"showarrow\": false, \"xanchor\": \"left\"}, {\"font\": {\"color\": \"#000000\"}, \"y\": 47, \"text\": \"Web Compatibility\", \"x\": -0.45, \"xref\": \"x1\", \"align\": \"left\", \"yref\": \"y1\", \"showarrow\": false, \"xanchor\": \"left\"}, {\"font\": {\"color\": \"#000000\"}, \"y\": 47, \"text\": \"Non-Employees\", \"x\": 0.55, \"xref\": \"x1\", \"align\": \"left\", \"yref\": \"y1\", \"showarrow\": false, \"xanchor\": \"left\"}, {\"font\": {\"color\": \"#000000\"}, \"y\": 47, \"text\": \"6\", \"x\": 1.55, \"xref\": \"x1\", \"align\": \"left\", \"yref\": \"y1\", \"showarrow\": false, \"xanchor\": \"left\"}, {\"font\": {\"color\": \"#000000\"}, \"y\": 47, \"text\": \"1\", \"x\": 2.55, \"xref\": \"x1\", \"align\": \"left\", \"yref\": \"y1\", \"showarrow\": false, \"xanchor\": \"left\"}, {\"font\": {\"color\": \"#000000\"}, \"y\": 47, \"text\": \"1\", \"x\": 3.55, \"xref\": \"x1\", \"align\": \"left\", \"yref\": \"y1\", \"showarrow\": false, \"xanchor\": \"left\"}, {\"font\": {\"color\": \"#000000\"}, \"y\": 48, \"text\": \"Firefox Focus\", \"x\": -0.45, \"xref\": \"x1\", \"align\": \"left\", \"yref\": \"y1\", \"showarrow\": false, \"xanchor\": \"left\"}, {\"font\": {\"color\": \"#000000\"}, \"y\": 48, \"text\": \"Non-Employees\", \"x\": 0.55, \"xref\": \"x1\", \"align\": \"left\", \"yref\": \"y1\", \"showarrow\": false, \"xanchor\": \"left\"}, {\"font\": {\"color\": \"#000000\"}, \"y\": 48, \"text\": \"6\", \"x\": 1.55, \"xref\": \"x1\", \"align\": \"left\", \"yref\": \"y1\", \"showarrow\": false, \"xanchor\": \"left\"}, {\"font\": {\"color\": \"#000000\"}, \"y\": 48, \"text\": \"1\", \"x\": 2.55, \"xref\": \"x1\", \"align\": \"left\", \"yref\": \"y1\", \"showarrow\": false, \"xanchor\": \"left\"}, {\"font\": {\"color\": \"#000000\"}, \"y\": 48, \"text\": \"1\", \"x\": 3.55, \"xref\": \"x1\", \"align\": \"left\", \"yref\": \"y1\", \"showarrow\": false, \"xanchor\": \"left\"}, {\"font\": {\"color\": \"#000000\"}, \"y\": 49, \"text\": \"Rust\", \"x\": -0.45, \"xref\": \"x1\", \"align\": \"left\", \"yref\": \"y1\", \"showarrow\": false, \"xanchor\": \"left\"}, {\"font\": {\"color\": \"#000000\"}, \"y\": 49, \"text\": \"Employees\", \"x\": 0.55, \"xref\": \"x1\", \"align\": \"left\", \"yref\": \"y1\", \"showarrow\": false, \"xanchor\": \"left\"}, {\"font\": {\"color\": \"#000000\"}, \"y\": 49, \"text\": \"5\", \"x\": 1.55, \"xref\": \"x1\", \"align\": \"left\", \"yref\": \"y1\", \"showarrow\": false, \"xanchor\": \"left\"}, {\"font\": {\"color\": \"#000000\"}, \"y\": 49, \"text\": \"1\", \"x\": 2.55, \"xref\": \"x1\", \"align\": \"left\", \"yref\": \"y1\", \"showarrow\": false, \"xanchor\": \"left\"}, {\"font\": {\"color\": \"#000000\"}, \"y\": 49, \"text\": \"1\", \"x\": 3.55, \"xref\": \"x1\", \"align\": \"left\", \"yref\": \"y1\", \"showarrow\": false, \"xanchor\": \"left\"}, {\"font\": {\"color\": \"#000000\"}, \"y\": 50, \"text\": \"Advocacy and policy\", \"x\": -0.45, \"xref\": \"x1\", \"align\": \"left\", \"yref\": \"y1\", \"showarrow\": false, \"xanchor\": \"left\"}, {\"font\": {\"color\": \"#000000\"}, \"y\": 50, \"text\": \"Employees\", \"x\": 0.55, \"xref\": \"x1\", \"align\": \"left\", \"yref\": \"y1\", \"showarrow\": false, \"xanchor\": \"left\"}, {\"font\": {\"color\": \"#000000\"}, \"y\": 50, \"text\": \"3\", \"x\": 1.55, \"xref\": \"x1\", \"align\": \"left\", \"yref\": \"y1\", \"showarrow\": false, \"xanchor\": \"left\"}, {\"font\": {\"color\": \"#000000\"}, \"y\": 50, \"text\": \"1\", \"x\": 2.55, \"xref\": \"x1\", \"align\": \"left\", \"yref\": \"y1\", \"showarrow\": false, \"xanchor\": \"left\"}, {\"font\": {\"color\": \"#000000\"}, \"y\": 50, \"text\": \"2\", \"x\": 3.55, \"xref\": \"x1\", \"align\": \"left\", \"yref\": \"y1\", \"showarrow\": false, \"xanchor\": \"left\"}, {\"font\": {\"color\": \"#000000\"}, \"y\": 51, \"text\": \"Connected devices & IoT\", \"x\": -0.45, \"xref\": \"x1\", \"align\": \"left\", \"yref\": \"y1\", \"showarrow\": false, \"xanchor\": \"left\"}, {\"font\": {\"color\": \"#000000\"}, \"y\": 51, \"text\": \"Non-Employees\", \"x\": 0.55, \"xref\": \"x1\", \"align\": \"left\", \"yref\": \"y1\", \"showarrow\": false, \"xanchor\": \"left\"}, {\"font\": {\"color\": \"#000000\"}, \"y\": 51, \"text\": \"1\", \"x\": 1.55, \"xref\": \"x1\", \"align\": \"left\", \"yref\": \"y1\", \"showarrow\": false, \"xanchor\": \"left\"}, {\"font\": {\"color\": \"#000000\"}, \"y\": 51, \"text\": \"1\", \"x\": 2.55, \"xref\": \"x1\", \"align\": \"left\", \"yref\": \"y1\", \"showarrow\": false, \"xanchor\": \"left\"}, {\"font\": {\"color\": \"#000000\"}, \"y\": 51, \"text\": \"1\", \"x\": 3.55, \"xref\": \"x1\", \"align\": \"left\", \"yref\": \"y1\", \"showarrow\": false, \"xanchor\": \"left\"}, {\"font\": {\"color\": \"#000000\"}, \"y\": 52, \"text\": \"Firefox Student Ambassadors\", \"x\": -0.45, \"xref\": \"x1\", \"align\": \"left\", \"yref\": \"y1\", \"showarrow\": false, \"xanchor\": \"left\"}, {\"font\": {\"color\": \"#000000\"}, \"y\": 52, \"text\": \"Non-Employees\", \"x\": 0.55, \"xref\": \"x1\", \"align\": \"left\", \"yref\": \"y1\", \"showarrow\": false, \"xanchor\": \"left\"}, {\"font\": {\"color\": \"#000000\"}, \"y\": 52, \"text\": \"1\", \"x\": 1.55, \"xref\": \"x1\", \"align\": \"left\", \"yref\": \"y1\", \"showarrow\": false, \"xanchor\": \"left\"}, {\"font\": {\"color\": \"#000000\"}, \"y\": 52, \"text\": \"1\", \"x\": 2.55, \"xref\": \"x1\", \"align\": \"left\", \"yref\": \"y1\", \"showarrow\": false, \"xanchor\": \"left\"}, {\"font\": {\"color\": \"#000000\"}, \"y\": 52, \"text\": \"1\", \"x\": 3.55, \"xref\": \"x1\", \"align\": \"left\", \"yref\": \"y1\", \"showarrow\": false, \"xanchor\": \"left\"}]}, {\"showLink\": true, \"linkText\": \"Export to plot.ly\"})});</script>"
      ]
     },
     "metadata": {},
     "output_type": "display_data"
    }
   ],
   "source": [
    "######\n",
    "# First retrieve Mozilla employees (triying to get everything together results in 502 error)\n",
    "# so let's take partial results and merge them\n",
    "######\n",
    "s = create_search(source='bugzilla')\n",
    "\n",
    "s = s.filter('terms', author_org_name=['Mozilla Staff'])\n",
    "\n",
    "# Unique count of Authors by Project\n",
    "s.aggs.bucket('product', 'terms', field='product', size=100000)\\\n",
    "    .bucket('component', 'terms', field='component', size=100000)\\\n",
    "    .bucket('contributors', 'terms', field='author_uuid', size=100000)\n",
    "result = s.execute()\n",
    "\n",
    "print('q1')\n",
    "\n",
    "# Process results to build a DataFrame\n",
    "i = 0\n",
    "moz_df = pandas.DataFrame(columns=['Product', 'Component', 'uuid'])\n",
    "for product in result.to_dict()['aggregations']['product']['buckets']:\n",
    "    for component in product['component']['buckets']:\n",
    "        for author in component['contributors']['buckets']:\n",
    "            moz_df.loc[len(moz_df)] = [product['key'], component['key'], author['key']]\n",
    "            i += 1\n",
    "            if i % 10000 == 0:\n",
    "                print(i, end=', ')\n",
    "\n",
    "print('Moz: ', len(moz_df))\n",
    "            \n",
    "# Merge projects by product & components DFs\n",
    "moz_merged_df = moz_df.merge(projects['Bugzilla'], on=['Product', 'Component'], how='left')\n",
    "moz_merged_df['Org'] = 'Employees'\n",
    "\n",
    "print('Moz merged: ', len(moz_merged_df))\n",
    "\n",
    "\n",
    "####\n",
    "# Second get results for non-employees\n",
    "###\n",
    "s = create_search(source='bugzilla')\n",
    "\n",
    "s = s.exclude('terms', author_org_name=['Mozilla Staff'])\n",
    "\n",
    "# Unique count of Authors by Project \n",
    "s.aggs.bucket('product', 'terms', field='product', size=100000)\\\n",
    "    .bucket('component', 'terms', field='component', size=100000)\\\n",
    "    .bucket('contributors', 'terms', field='author_uuid', size=100000)\n",
    "result = s.execute()\n",
    "\n",
    "print('q2')\n",
    "\n",
    "# Process results to build a DataFrame\n",
    "non_moz_df = pandas.DataFrame(columns=['Product', 'Component', 'uuid'])\n",
    "i = 0\n",
    "for product in result.to_dict()['aggregations']['product']['buckets']:\n",
    "    for component in product['component']['buckets']:\n",
    "        for author in component['contributors']['buckets']:\n",
    "            non_moz_df.loc[len(non_moz_df)] = [product['key'], component['key'], author['key']]\n",
    "            i += 1\n",
    "            if i % 10000 == 0:\n",
    "                print(i, end=', ')\n",
    "\n",
    "print('Non-moz: ', len(non_moz_df))\n",
    "            \n",
    "# Merge projects by product & components DFs\n",
    "non_moz_merged_df = non_moz_df.merge(projects['Bugzilla'], on=['Product', 'Component'], how='left')\n",
    "non_moz_merged_df['Org'] = 'Non-Employees'\n",
    "\n",
    "print('Non-moz merged: ', len(non_moz_merged_df))\n",
    "\n",
    "###\n",
    "# Concat both data frames into a single one\n",
    "###\n",
    "merged_df = pandas.concat([moz_merged_df, non_moz_merged_df])\n",
    "\n",
    "print('After concat')\n",
    "\n",
    "\n",
    "# Group By project\n",
    "projects_df = merged_df.groupby(['Project', 'Org']).agg({'uuid': pandas.Series.nunique,\n",
    "                                                         'Product': pandas.Series.nunique,\n",
    "                                                         'Component': pandas.Series.nunique})\n",
    "projects_df = projects_df.sort_values(by='uuid', ascending=0)\n",
    "\n",
    "# Print a table with this data\n",
    "plotly.offline.init_notebook_mode(connected=True)\n",
    "table = ff.create_table(projects_df.reset_index())\n",
    "plotly.offline.iplot(table, filename='bugzilla-projects-contributors-table.html')"
   ]
  },
  {
   "cell_type": "markdown",
   "metadata": {},
   "source": [
    "**Table above: Bugzilla Authors by Project using Spreadsheet Data**"
   ]
  },
  {
   "cell_type": "code",
   "execution_count": 48,
   "metadata": {
    "collapsed": false
   },
   "outputs": [
    {
     "name": "stdout",
     "output_type": "stream",
     "text": [
      "71348\n",
      "184333\n",
      "2784\n",
      "181551\n",
      "184335\n",
      "2784\n",
      "181551\n",
      "184335\n"
     ]
    }
   ],
   "source": [
    "merged_df.loc[(merged_df['Project'] == 'Firefox') & (merged_df['Org'] == 'Non-Employees')].groupby('Project')\\\n",
    "                .agg({'uuid': pandas.Series.nunique,\n",
    "                      'Product': pandas.Series.nunique,\n",
    "                      'Component': pandas.Series.nunique})\n",
    "    \n",
    "print(len(merged_df.loc[(merged_df['Project'] == 'Firefox') & (merged_df['Org'] == 'Non-Employees')]['uuid'].unique()))\n",
    "print(len(merged_df['uuid'].unique()))\n",
    "print(len(moz_df['uuid'].unique()))\n",
    "print(len(non_moz_df['uuid'].unique()))\n",
    "print(len(moz_df['uuid'].unique()) + len(non_moz_df['uuid'].unique()))\n",
    "\n",
    "print(len(moz_merged_df['uuid'].unique()))\n",
    "print(len(non_moz_merged_df['uuid'].unique()))\n",
    "print(len(moz_merged_df['uuid'].unique()) + len(non_moz_merged_df['uuid'].unique()))"
   ]
  },
  {
   "cell_type": "markdown",
   "metadata": {},
   "source": [
    "### Number of Authors by project over time\n",
    "#### Git\n",
    "\n",
    "First chart shows data directly from Dashboard. Second chart shows the same data grouped by projects provided by Mozilla, built specifically for this report."
   ]
  },
  {
   "cell_type": "code",
   "execution_count": 99,
   "metadata": {
    "collapsed": false,
    "scrolled": true
   },
   "outputs": [
    {
     "data": {
      "text/html": [
       "<script>requirejs.config({paths: { 'plotly': ['https://cdn.plot.ly/plotly-latest.min']},});if(!window.Plotly) {{require(['plotly'],function(plotly) {window.Plotly=plotly;});}}</script>"
      ],
      "text/vnd.plotly.v1+html": [
       "<script>requirejs.config({paths: { 'plotly': ['https://cdn.plot.ly/plotly-latest.min']},});if(!window.Plotly) {{require(['plotly'],function(plotly) {window.Plotly=plotly;});}}</script>"
      ]
     },
     "metadata": {},
     "output_type": "display_data"
    },
    {
     "data": {
      "application/vnd.plotly.v1+json": {
       "data": [
        {
         "name": "mozilla",
         "type": "bar",
         "x": [
          "2015-04-01T00:00:00.000Z",
          "2015-07-01T00:00:00.000Z",
          "2015-10-01T00:00:00.000Z",
          "2016-01-01T00:00:00.000Z",
          "2016-04-01T00:00:00.000Z",
          "2016-07-01T00:00:00.000Z",
          "2016-10-01T00:00:00.000Z",
          "2017-01-01T00:00:00.000Z",
          "2017-04-01T00:00:00.000Z"
         ],
         "y": [
          826,
          1321,
          1474,
          1520,
          1451,
          1472,
          1260,
          1249,
          558
         ]
        },
        {
         "name": "rust-lang",
         "type": "bar",
         "x": [
          "2015-04-01T00:00:00.000Z",
          "2015-07-01T00:00:00.000Z",
          "2015-10-01T00:00:00.000Z",
          "2016-01-01T00:00:00.000Z",
          "2016-04-01T00:00:00.000Z",
          "2016-07-01T00:00:00.000Z",
          "2016-10-01T00:00:00.000Z",
          "2017-01-01T00:00:00.000Z",
          "2017-04-01T00:00:00.000Z"
         ],
         "y": [
          148,
          273,
          304,
          336,
          298,
          348,
          188,
          196,
          108
         ]
        },
        {
         "name": "servo",
         "type": "bar",
         "x": [
          "2015-04-01T00:00:00.000Z",
          "2015-07-01T00:00:00.000Z",
          "2015-10-01T00:00:00.000Z",
          "2016-01-01T00:00:00.000Z",
          "2016-04-01T00:00:00.000Z",
          "2016-07-01T00:00:00.000Z",
          "2016-10-01T00:00:00.000Z",
          "2017-01-01T00:00:00.000Z",
          "2017-04-01T00:00:00.000Z"
         ],
         "y": [
          54,
          119,
          147,
          166,
          175,
          169,
          160,
          175,
          82
         ]
        },
        {
         "name": "mozilla-services",
         "type": "bar",
         "x": [
          "2015-04-01T00:00:00.000Z",
          "2015-07-01T00:00:00.000Z",
          "2015-10-01T00:00:00.000Z",
          "2016-01-01T00:00:00.000Z",
          "2016-04-01T00:00:00.000Z",
          "2016-07-01T00:00:00.000Z",
          "2016-10-01T00:00:00.000Z",
          "2017-01-01T00:00:00.000Z",
          "2017-04-01T00:00:00.000Z"
         ],
         "y": [
          42,
          84,
          93,
          103,
          82,
          71,
          77,
          116,
          132
         ]
        },
        {
         "name": "mozilla-mobile",
         "type": "bar",
         "x": [
          "2015-04-01T00:00:00.000Z",
          "2015-07-01T00:00:00.000Z",
          "2015-10-01T00:00:00.000Z",
          "2016-01-01T00:00:00.000Z",
          "2016-04-01T00:00:00.000Z",
          "2016-07-01T00:00:00.000Z",
          "2016-10-01T00:00:00.000Z",
          "2017-01-01T00:00:00.000Z",
          "2017-04-01T00:00:00.000Z"
         ],
         "y": [
          16,
          26,
          26,
          24,
          20,
          16,
          23,
          34,
          17
         ]
        },
        {
         "name": "aframevr",
         "type": "bar",
         "x": [
          "2015-07-01T00:00:00.000Z",
          "2015-10-01T00:00:00.000Z",
          "2016-01-01T00:00:00.000Z",
          "2016-04-01T00:00:00.000Z",
          "2016-07-01T00:00:00.000Z",
          "2016-10-01T00:00:00.000Z",
          "2017-01-01T00:00:00.000Z",
          "2017-04-01T00:00:00.000Z"
         ],
         "y": [
          7,
          20,
          44,
          38,
          43,
          53,
          71,
          36
         ]
        },
        {
         "name": "mozmar",
         "type": "bar",
         "x": [
          "2015-04-01T00:00:00.000Z",
          "2015-07-01T00:00:00.000Z",
          "2015-10-01T00:00:00.000Z",
          "2016-01-01T00:00:00.000Z",
          "2016-04-01T00:00:00.000Z",
          "2016-07-01T00:00:00.000Z",
          "2016-10-01T00:00:00.000Z",
          "2017-01-01T00:00:00.000Z",
          "2017-04-01T00:00:00.000Z"
         ],
         "y": [
          3,
          7,
          6,
          10,
          7,
          11,
          10,
          12,
          6
         ]
        },
        {
         "name": "mdn",
         "type": "bar",
         "x": [
          "2015-04-01T00:00:00.000Z",
          "2015-07-01T00:00:00.000Z",
          "2015-10-01T00:00:00.000Z",
          "2016-01-01T00:00:00.000Z",
          "2016-04-01T00:00:00.000Z",
          "2016-07-01T00:00:00.000Z",
          "2016-10-01T00:00:00.000Z",
          "2017-01-01T00:00:00.000Z",
          "2017-04-01T00:00:00.000Z"
         ],
         "y": [
          17,
          29,
          35,
          36,
          31,
          38,
          49,
          29,
          13
         ]
        },
        {
         "name": "mozillascience",
         "type": "bar",
         "x": [
          "2015-04-01T00:00:00.000Z",
          "2015-07-01T00:00:00.000Z",
          "2015-10-01T00:00:00.000Z",
          "2016-01-01T00:00:00.000Z",
          "2016-04-01T00:00:00.000Z",
          "2016-07-01T00:00:00.000Z",
          "2016-10-01T00:00:00.000Z",
          "2017-01-01T00:00:00.000Z",
          "2017-04-01T00:00:00.000Z"
         ],
         "y": [
          11,
          25,
          25,
          33,
          25,
          12,
          17,
          20,
          9
         ]
        },
        {
         "name": "Mozilla-TWQA",
         "type": "bar",
         "x": [
          "2015-04-01T00:00:00.000Z",
          "2015-07-01T00:00:00.000Z",
          "2015-10-01T00:00:00.000Z",
          "2016-01-01T00:00:00.000Z",
          "2016-04-01T00:00:00.000Z",
          "2016-07-01T00:00:00.000Z",
          "2016-10-01T00:00:00.000Z",
          "2017-01-01T00:00:00.000Z",
          "2017-04-01T00:00:00.000Z"
         ],
         "y": [
          4,
          6,
          4,
          6,
          9,
          6,
          6,
          7,
          5
         ]
        }
       ],
       "layout": {
        "barmode": "stack"
       }
      },
      "text/html": [
       "<div id=\"91f68743-8898-4ee1-9226-325cb34a63f5\" style=\"height: 525px; width: 100%;\" class=\"plotly-graph-div\"></div><script type=\"text/javascript\">require([\"plotly\"], function(Plotly) { window.PLOTLYENV=window.PLOTLYENV || {};window.PLOTLYENV.BASE_URL=\"https://plot.ly\";Plotly.newPlot(\"91f68743-8898-4ee1-9226-325cb34a63f5\", [{\"y\": [826.0, 1321.0, 1474.0, 1520.0, 1451.0, 1472.0, 1260.0, 1249.0, 558.0], \"name\": \"mozilla\", \"type\": \"bar\", \"x\": [\"2015-04-01T00:00:00.000Z\", \"2015-07-01T00:00:00.000Z\", \"2015-10-01T00:00:00.000Z\", \"2016-01-01T00:00:00.000Z\", \"2016-04-01T00:00:00.000Z\", \"2016-07-01T00:00:00.000Z\", \"2016-10-01T00:00:00.000Z\", \"2017-01-01T00:00:00.000Z\", \"2017-04-01T00:00:00.000Z\"]}, {\"y\": [148.0, 273.0, 304.0, 336.0, 298.0, 348.0, 188.0, 196.0, 108.0], \"name\": \"rust-lang\", \"type\": \"bar\", \"x\": [\"2015-04-01T00:00:00.000Z\", \"2015-07-01T00:00:00.000Z\", \"2015-10-01T00:00:00.000Z\", \"2016-01-01T00:00:00.000Z\", \"2016-04-01T00:00:00.000Z\", \"2016-07-01T00:00:00.000Z\", \"2016-10-01T00:00:00.000Z\", \"2017-01-01T00:00:00.000Z\", \"2017-04-01T00:00:00.000Z\"]}, {\"y\": [54.0, 119.0, 147.0, 166.0, 175.0, 169.0, 160.0, 175.0, 82.0], \"name\": \"servo\", \"type\": \"bar\", \"x\": [\"2015-04-01T00:00:00.000Z\", \"2015-07-01T00:00:00.000Z\", \"2015-10-01T00:00:00.000Z\", \"2016-01-01T00:00:00.000Z\", \"2016-04-01T00:00:00.000Z\", \"2016-07-01T00:00:00.000Z\", \"2016-10-01T00:00:00.000Z\", \"2017-01-01T00:00:00.000Z\", \"2017-04-01T00:00:00.000Z\"]}, {\"y\": [42.0, 84.0, 93.0, 103.0, 82.0, 71.0, 77.0, 116.0, 132.0], \"name\": \"mozilla-services\", \"type\": \"bar\", \"x\": [\"2015-04-01T00:00:00.000Z\", \"2015-07-01T00:00:00.000Z\", \"2015-10-01T00:00:00.000Z\", \"2016-01-01T00:00:00.000Z\", \"2016-04-01T00:00:00.000Z\", \"2016-07-01T00:00:00.000Z\", \"2016-10-01T00:00:00.000Z\", \"2017-01-01T00:00:00.000Z\", \"2017-04-01T00:00:00.000Z\"]}, {\"y\": [16.0, 26.0, 26.0, 24.0, 20.0, 16.0, 23.0, 34.0, 17.0], \"name\": \"mozilla-mobile\", \"type\": \"bar\", \"x\": [\"2015-04-01T00:00:00.000Z\", \"2015-07-01T00:00:00.000Z\", \"2015-10-01T00:00:00.000Z\", \"2016-01-01T00:00:00.000Z\", \"2016-04-01T00:00:00.000Z\", \"2016-07-01T00:00:00.000Z\", \"2016-10-01T00:00:00.000Z\", \"2017-01-01T00:00:00.000Z\", \"2017-04-01T00:00:00.000Z\"]}, {\"y\": [7.0, 20.0, 44.0, 38.0, 43.0, 53.0, 71.0, 36.0], \"name\": \"aframevr\", \"type\": \"bar\", \"x\": [\"2015-07-01T00:00:00.000Z\", \"2015-10-01T00:00:00.000Z\", \"2016-01-01T00:00:00.000Z\", \"2016-04-01T00:00:00.000Z\", \"2016-07-01T00:00:00.000Z\", \"2016-10-01T00:00:00.000Z\", \"2017-01-01T00:00:00.000Z\", \"2017-04-01T00:00:00.000Z\"]}, {\"y\": [3.0, 7.0, 6.0, 10.0, 7.0, 11.0, 10.0, 12.0, 6.0], \"name\": \"mozmar\", \"type\": \"bar\", \"x\": [\"2015-04-01T00:00:00.000Z\", \"2015-07-01T00:00:00.000Z\", \"2015-10-01T00:00:00.000Z\", \"2016-01-01T00:00:00.000Z\", \"2016-04-01T00:00:00.000Z\", \"2016-07-01T00:00:00.000Z\", \"2016-10-01T00:00:00.000Z\", \"2017-01-01T00:00:00.000Z\", \"2017-04-01T00:00:00.000Z\"]}, {\"y\": [17.0, 29.0, 35.0, 36.0, 31.0, 38.0, 49.0, 29.0, 13.0], \"name\": \"mdn\", \"type\": \"bar\", \"x\": [\"2015-04-01T00:00:00.000Z\", \"2015-07-01T00:00:00.000Z\", \"2015-10-01T00:00:00.000Z\", \"2016-01-01T00:00:00.000Z\", \"2016-04-01T00:00:00.000Z\", \"2016-07-01T00:00:00.000Z\", \"2016-10-01T00:00:00.000Z\", \"2017-01-01T00:00:00.000Z\", \"2017-04-01T00:00:00.000Z\"]}, {\"y\": [11.0, 25.0, 25.0, 33.0, 25.0, 12.0, 17.0, 20.0, 9.0], \"name\": \"mozillascience\", \"type\": \"bar\", \"x\": [\"2015-04-01T00:00:00.000Z\", \"2015-07-01T00:00:00.000Z\", \"2015-10-01T00:00:00.000Z\", \"2016-01-01T00:00:00.000Z\", \"2016-04-01T00:00:00.000Z\", \"2016-07-01T00:00:00.000Z\", \"2016-10-01T00:00:00.000Z\", \"2017-01-01T00:00:00.000Z\", \"2017-04-01T00:00:00.000Z\"]}, {\"y\": [4.0, 6.0, 4.0, 6.0, 9.0, 6.0, 6.0, 7.0, 5.0], \"name\": \"Mozilla-TWQA\", \"type\": \"bar\", \"x\": [\"2015-04-01T00:00:00.000Z\", \"2015-07-01T00:00:00.000Z\", \"2015-10-01T00:00:00.000Z\", \"2016-01-01T00:00:00.000Z\", \"2016-04-01T00:00:00.000Z\", \"2016-07-01T00:00:00.000Z\", \"2016-10-01T00:00:00.000Z\", \"2017-01-01T00:00:00.000Z\", \"2017-04-01T00:00:00.000Z\"]}], {\"barmode\": \"stack\"}, {\"linkText\": \"Export to plot.ly\", \"showLink\": true})});</script>"
      ],
      "text/vnd.plotly.v1+html": [
       "<div id=\"91f68743-8898-4ee1-9226-325cb34a63f5\" style=\"height: 525px; width: 100%;\" class=\"plotly-graph-div\"></div><script type=\"text/javascript\">require([\"plotly\"], function(Plotly) { window.PLOTLYENV=window.PLOTLYENV || {};window.PLOTLYENV.BASE_URL=\"https://plot.ly\";Plotly.newPlot(\"91f68743-8898-4ee1-9226-325cb34a63f5\", [{\"y\": [826.0, 1321.0, 1474.0, 1520.0, 1451.0, 1472.0, 1260.0, 1249.0, 558.0], \"name\": \"mozilla\", \"type\": \"bar\", \"x\": [\"2015-04-01T00:00:00.000Z\", \"2015-07-01T00:00:00.000Z\", \"2015-10-01T00:00:00.000Z\", \"2016-01-01T00:00:00.000Z\", \"2016-04-01T00:00:00.000Z\", \"2016-07-01T00:00:00.000Z\", \"2016-10-01T00:00:00.000Z\", \"2017-01-01T00:00:00.000Z\", \"2017-04-01T00:00:00.000Z\"]}, {\"y\": [148.0, 273.0, 304.0, 336.0, 298.0, 348.0, 188.0, 196.0, 108.0], \"name\": \"rust-lang\", \"type\": \"bar\", \"x\": [\"2015-04-01T00:00:00.000Z\", \"2015-07-01T00:00:00.000Z\", \"2015-10-01T00:00:00.000Z\", \"2016-01-01T00:00:00.000Z\", \"2016-04-01T00:00:00.000Z\", \"2016-07-01T00:00:00.000Z\", \"2016-10-01T00:00:00.000Z\", \"2017-01-01T00:00:00.000Z\", \"2017-04-01T00:00:00.000Z\"]}, {\"y\": [54.0, 119.0, 147.0, 166.0, 175.0, 169.0, 160.0, 175.0, 82.0], \"name\": \"servo\", \"type\": \"bar\", \"x\": [\"2015-04-01T00:00:00.000Z\", \"2015-07-01T00:00:00.000Z\", \"2015-10-01T00:00:00.000Z\", \"2016-01-01T00:00:00.000Z\", \"2016-04-01T00:00:00.000Z\", \"2016-07-01T00:00:00.000Z\", \"2016-10-01T00:00:00.000Z\", \"2017-01-01T00:00:00.000Z\", \"2017-04-01T00:00:00.000Z\"]}, {\"y\": [42.0, 84.0, 93.0, 103.0, 82.0, 71.0, 77.0, 116.0, 132.0], \"name\": \"mozilla-services\", \"type\": \"bar\", \"x\": [\"2015-04-01T00:00:00.000Z\", \"2015-07-01T00:00:00.000Z\", \"2015-10-01T00:00:00.000Z\", \"2016-01-01T00:00:00.000Z\", \"2016-04-01T00:00:00.000Z\", \"2016-07-01T00:00:00.000Z\", \"2016-10-01T00:00:00.000Z\", \"2017-01-01T00:00:00.000Z\", \"2017-04-01T00:00:00.000Z\"]}, {\"y\": [16.0, 26.0, 26.0, 24.0, 20.0, 16.0, 23.0, 34.0, 17.0], \"name\": \"mozilla-mobile\", \"type\": \"bar\", \"x\": [\"2015-04-01T00:00:00.000Z\", \"2015-07-01T00:00:00.000Z\", \"2015-10-01T00:00:00.000Z\", \"2016-01-01T00:00:00.000Z\", \"2016-04-01T00:00:00.000Z\", \"2016-07-01T00:00:00.000Z\", \"2016-10-01T00:00:00.000Z\", \"2017-01-01T00:00:00.000Z\", \"2017-04-01T00:00:00.000Z\"]}, {\"y\": [7.0, 20.0, 44.0, 38.0, 43.0, 53.0, 71.0, 36.0], \"name\": \"aframevr\", \"type\": \"bar\", \"x\": [\"2015-07-01T00:00:00.000Z\", \"2015-10-01T00:00:00.000Z\", \"2016-01-01T00:00:00.000Z\", \"2016-04-01T00:00:00.000Z\", \"2016-07-01T00:00:00.000Z\", \"2016-10-01T00:00:00.000Z\", \"2017-01-01T00:00:00.000Z\", \"2017-04-01T00:00:00.000Z\"]}, {\"y\": [3.0, 7.0, 6.0, 10.0, 7.0, 11.0, 10.0, 12.0, 6.0], \"name\": \"mozmar\", \"type\": \"bar\", \"x\": [\"2015-04-01T00:00:00.000Z\", \"2015-07-01T00:00:00.000Z\", \"2015-10-01T00:00:00.000Z\", \"2016-01-01T00:00:00.000Z\", \"2016-04-01T00:00:00.000Z\", \"2016-07-01T00:00:00.000Z\", \"2016-10-01T00:00:00.000Z\", \"2017-01-01T00:00:00.000Z\", \"2017-04-01T00:00:00.000Z\"]}, {\"y\": [17.0, 29.0, 35.0, 36.0, 31.0, 38.0, 49.0, 29.0, 13.0], \"name\": \"mdn\", \"type\": \"bar\", \"x\": [\"2015-04-01T00:00:00.000Z\", \"2015-07-01T00:00:00.000Z\", \"2015-10-01T00:00:00.000Z\", \"2016-01-01T00:00:00.000Z\", \"2016-04-01T00:00:00.000Z\", \"2016-07-01T00:00:00.000Z\", \"2016-10-01T00:00:00.000Z\", \"2017-01-01T00:00:00.000Z\", \"2017-04-01T00:00:00.000Z\"]}, {\"y\": [11.0, 25.0, 25.0, 33.0, 25.0, 12.0, 17.0, 20.0, 9.0], \"name\": \"mozillascience\", \"type\": \"bar\", \"x\": [\"2015-04-01T00:00:00.000Z\", \"2015-07-01T00:00:00.000Z\", \"2015-10-01T00:00:00.000Z\", \"2016-01-01T00:00:00.000Z\", \"2016-04-01T00:00:00.000Z\", \"2016-07-01T00:00:00.000Z\", \"2016-10-01T00:00:00.000Z\", \"2017-01-01T00:00:00.000Z\", \"2017-04-01T00:00:00.000Z\"]}, {\"y\": [4.0, 6.0, 4.0, 6.0, 9.0, 6.0, 6.0, 7.0, 5.0], \"name\": \"Mozilla-TWQA\", \"type\": \"bar\", \"x\": [\"2015-04-01T00:00:00.000Z\", \"2015-07-01T00:00:00.000Z\", \"2015-10-01T00:00:00.000Z\", \"2016-01-01T00:00:00.000Z\", \"2016-04-01T00:00:00.000Z\", \"2016-07-01T00:00:00.000Z\", \"2016-10-01T00:00:00.000Z\", \"2017-01-01T00:00:00.000Z\", \"2017-04-01T00:00:00.000Z\"]}], {\"barmode\": \"stack\"}, {\"linkText\": \"Export to plot.ly\", \"showLink\": true})});</script>"
      ]
     },
     "metadata": {},
     "output_type": "display_data"
    }
   ],
   "source": [
    "s = create_search(source='git')\n",
    "\n",
    "# General filters\n",
    "s = add_general_date_filters(s)\n",
    "s = add_bot_filter(s)\n",
    "s = add_merges_filter(s)\n",
    "\n",
    "# Unique count of Commits by Project (max 100 projects)\n",
    "s = s.filter('range', grimoire_creation_date={'gt': 'now/M-2y', 'lt': 'now/M'})\n",
    "s.aggs.bucket('projects', 'terms', field='project', size=10)\\\n",
    "    .bucket('time', 'date_histogram', field='grimoire_creation_date', interval='quarter')\\\n",
    "    .metric('contributors', 'cardinality', field='author_uuid', precision_threshold=100000)\n",
    "\n",
    "result = s.execute()\n",
    "            \n",
    "df = stack_by_time(result=result, group_column='Project', time_column='Time', value_column='# Authors',\\\n",
    "        group_field='projects', time_field='time', value_field='contributors')\n",
    "\n",
    "print_stacked_bar(df=df, time_column='Time', value_column='# Authors', group_column='Project')"
   ]
  },
  {
   "cell_type": "markdown",
   "metadata": {},
   "source": [
    "**Git authors over time using Dashboard Data**"
   ]
  },
  {
   "cell_type": "code",
   "execution_count": 22,
   "metadata": {
    "collapsed": false
   },
   "outputs": [
    {
     "name": "stdout",
     "output_type": "stream",
     "text": [
      "10000, 20000, 30000, 40000, 50000, 60000, 70000, 80000, 90000, 100000, 110000, 120000, 130000, 140000, 150000, "
     ]
    },
    {
     "data": {
      "text/html": [
       "<script>requirejs.config({paths: { 'plotly': ['https://cdn.plot.ly/plotly-latest.min']},});if(!window.Plotly) {{require(['plotly'],function(plotly) {window.Plotly=plotly;});}}</script>"
      ],
      "text/vnd.plotly.v1+html": [
       "<script>requirejs.config({paths: { 'plotly': ['https://cdn.plot.ly/plotly-latest.min']},});if(!window.Plotly) {{require(['plotly'],function(plotly) {window.Plotly=plotly;});}}</script>"
      ]
     },
     "metadata": {},
     "output_type": "display_data"
    },
    {
     "data": {
      "application/vnd.plotly.v1+json": {
       "data": [
        {
         "name": "Gecko",
         "type": "bar",
         "x": [
          "2014-04-01T00:00:00.000Z",
          "2014-07-01T00:00:00.000Z",
          "2014-01-01T00:00:00.000Z",
          "2015-01-01T00:00:00.000Z",
          "2014-10-01T00:00:00.000Z",
          "2016-01-01T00:00:00.000Z",
          "2015-04-01T00:00:00.000Z",
          "2013-10-01T00:00:00.000Z",
          "2016-04-01T00:00:00.000Z",
          "2015-07-01T00:00:00.000Z",
          "2015-10-01T00:00:00.000Z",
          "2016-07-01T00:00:00.000Z",
          "2013-04-01T00:00:00.000Z",
          "2013-07-01T00:00:00.000Z",
          "2013-01-01T00:00:00.000Z",
          "2012-10-01T00:00:00.000Z",
          "2012-07-01T00:00:00.000Z",
          "2016-10-01T00:00:00.000Z",
          "2012-04-01T00:00:00.000Z",
          "2012-01-01T00:00:00.000Z",
          "2011-10-01T00:00:00.000Z",
          "2011-07-01T00:00:00.000Z",
          "2011-04-01T00:00:00.000Z",
          "2010-07-01T00:00:00.000Z",
          "2011-01-01T00:00:00.000Z",
          "2010-04-01T00:00:00.000Z",
          "2010-10-01T00:00:00.000Z",
          "2010-01-01T00:00:00.000Z"
         ],
         "y": [
          663,
          660,
          654,
          646,
          631,
          622,
          611,
          598,
          595,
          594,
          594,
          591,
          587,
          570,
          522,
          495,
          494,
          473,
          452,
          439,
          392,
          380,
          357,
          348,
          330,
          325,
          311,
          304
         ]
        },
        {
         "name": "Rust",
         "type": "bar",
         "x": [
          "2015-01-01T00:00:00.000Z",
          "2015-04-01T00:00:00.000Z",
          "2016-07-01T00:00:00.000Z",
          "2016-01-01T00:00:00.000Z",
          "2014-10-01T00:00:00.000Z",
          "2015-10-01T00:00:00.000Z",
          "2016-04-01T00:00:00.000Z",
          "2014-07-01T00:00:00.000Z",
          "2015-07-01T00:00:00.000Z",
          "2014-04-01T00:00:00.000Z",
          "2014-01-01T00:00:00.000Z",
          "2016-10-01T00:00:00.000Z",
          "2013-07-01T00:00:00.000Z",
          "2013-10-01T00:00:00.000Z",
          "2013-04-01T00:00:00.000Z",
          "2013-01-01T00:00:00.000Z",
          "2012-10-01T00:00:00.000Z",
          "2012-01-01T00:00:00.000Z",
          "2012-07-01T00:00:00.000Z",
          "2012-04-01T00:00:00.000Z",
          "2011-10-01T00:00:00.000Z",
          "2011-07-01T00:00:00.000Z",
          "2010-07-01T00:00:00.000Z",
          "2011-04-01T00:00:00.000Z",
          "2011-01-01T00:00:00.000Z",
          "2010-10-01T00:00:00.000Z",
          "2010-04-01T00:00:00.000Z"
         ],
         "y": [
          419,
          409,
          348,
          336,
          331,
          304,
          298,
          275,
          273,
          243,
          201,
          188,
          154,
          154,
          125,
          87,
          69,
          52,
          47,
          38,
          22,
          19,
          17,
          17,
          10,
          7,
          3
         ]
        },
        {
         "name": "IT/Ops",
         "type": "bar",
         "x": [
          "2012-04-01T00:00:00.000Z",
          "2012-01-01T00:00:00.000Z",
          "2012-07-01T00:00:00.000Z",
          "2011-10-01T00:00:00.000Z",
          "2011-07-01T00:00:00.000Z",
          "2010-07-01T00:00:00.000Z",
          "2011-04-01T00:00:00.000Z",
          "2011-01-01T00:00:00.000Z",
          "2010-04-01T00:00:00.000Z",
          "2010-10-01T00:00:00.000Z",
          "2010-01-01T00:00:00.000Z",
          "2016-01-01T00:00:00.000Z",
          "2015-10-01T00:00:00.000Z",
          "2016-10-01T00:00:00.000Z",
          "2016-04-01T00:00:00.000Z",
          "2014-10-01T00:00:00.000Z",
          "2015-07-01T00:00:00.000Z",
          "2015-01-01T00:00:00.000Z",
          "2016-07-01T00:00:00.000Z",
          "2015-04-01T00:00:00.000Z",
          "2014-04-01T00:00:00.000Z",
          "2014-07-01T00:00:00.000Z",
          "2014-01-01T00:00:00.000Z",
          "2013-07-01T00:00:00.000Z",
          "2013-04-01T00:00:00.000Z",
          "2013-10-01T00:00:00.000Z",
          "2013-01-01T00:00:00.000Z",
          "2012-10-01T00:00:00.000Z"
         ],
         "y": [
          414,
          401,
          387,
          349,
          326,
          315,
          313,
          299,
          281,
          262,
          258,
          123,
          112,
          107,
          98,
          93,
          92,
          92,
          89,
          82,
          75,
          62,
          61,
          47,
          43,
          35,
          23,
          19
         ]
        },
        {
         "name": "Web Properties",
         "type": "bar",
         "x": [
          "2015-10-01T00:00:00.000Z",
          "2016-01-01T00:00:00.000Z",
          "2016-10-01T00:00:00.000Z",
          "2013-10-01T00:00:00.000Z",
          "2015-07-01T00:00:00.000Z",
          "2016-07-01T00:00:00.000Z",
          "2014-10-01T00:00:00.000Z",
          "2015-01-01T00:00:00.000Z",
          "2016-04-01T00:00:00.000Z",
          "2014-04-01T00:00:00.000Z",
          "2015-04-01T00:00:00.000Z",
          "2014-01-01T00:00:00.000Z",
          "2013-07-01T00:00:00.000Z",
          "2013-04-01T00:00:00.000Z",
          "2014-07-01T00:00:00.000Z",
          "2013-01-01T00:00:00.000Z",
          "2012-10-01T00:00:00.000Z",
          "2012-04-01T00:00:00.000Z",
          "2012-07-01T00:00:00.000Z",
          "2012-01-01T00:00:00.000Z",
          "2011-10-01T00:00:00.000Z",
          "2011-07-01T00:00:00.000Z",
          "2011-04-01T00:00:00.000Z",
          "2011-01-01T00:00:00.000Z",
          "2010-04-01T00:00:00.000Z",
          "2010-10-01T00:00:00.000Z",
          "2010-07-01T00:00:00.000Z",
          "2010-01-01T00:00:00.000Z"
         ],
         "y": [
          223,
          207,
          194,
          191,
          187,
          183,
          182,
          182,
          179,
          176,
          172,
          167,
          149,
          147,
          147,
          131,
          109,
          108,
          105,
          93,
          70,
          64,
          46,
          33,
          28,
          27,
          25,
          16
         ]
        },
        {
         "name": "Servo",
         "type": "bar",
         "x": [
          "2016-04-01T00:00:00.000Z",
          "2016-07-01T00:00:00.000Z",
          "2016-01-01T00:00:00.000Z",
          "2016-10-01T00:00:00.000Z",
          "2015-10-01T00:00:00.000Z",
          "2015-01-01T00:00:00.000Z",
          "2014-10-01T00:00:00.000Z",
          "2015-04-01T00:00:00.000Z",
          "2015-07-01T00:00:00.000Z",
          "2014-04-01T00:00:00.000Z",
          "2013-10-01T00:00:00.000Z",
          "2013-04-01T00:00:00.000Z",
          "2013-07-01T00:00:00.000Z",
          "2014-01-01T00:00:00.000Z",
          "2014-07-01T00:00:00.000Z",
          "2012-07-01T00:00:00.000Z",
          "2012-04-01T00:00:00.000Z",
          "2012-01-01T00:00:00.000Z",
          "2013-01-01T00:00:00.000Z",
          "2012-10-01T00:00:00.000Z",
          "2011-04-01T00:00:00.000Z",
          "2011-10-01T00:00:00.000Z",
          "2011-07-01T00:00:00.000Z",
          "2011-01-01T00:00:00.000Z",
          "2010-10-01T00:00:00.000Z",
          "2010-07-01T00:00:00.000Z",
          "2010-01-01T00:00:00.000Z",
          "2010-04-01T00:00:00.000Z"
         ],
         "y": [
          177,
          173,
          171,
          162,
          150,
          150,
          145,
          135,
          123,
          105,
          75,
          74,
          73,
          70,
          65,
          58,
          58,
          56,
          55,
          47,
          41,
          39,
          39,
          38,
          36,
          35,
          31,
          28
         ]
        },
        {
         "name": "Addons/Web Extensions",
         "type": "bar",
         "x": [
          "2016-10-01T00:00:00.000Z",
          "2016-07-01T00:00:00.000Z",
          "2016-01-01T00:00:00.000Z",
          "2015-10-01T00:00:00.000Z",
          "2016-04-01T00:00:00.000Z",
          "2013-10-01T00:00:00.000Z",
          "2015-07-01T00:00:00.000Z",
          "2014-07-01T00:00:00.000Z",
          "2013-07-01T00:00:00.000Z",
          "2014-04-01T00:00:00.000Z",
          "2014-01-01T00:00:00.000Z",
          "2015-01-01T00:00:00.000Z",
          "2013-04-01T00:00:00.000Z",
          "2014-10-01T00:00:00.000Z",
          "2013-01-01T00:00:00.000Z",
          "2015-04-01T00:00:00.000Z",
          "2012-01-01T00:00:00.000Z",
          "2012-04-01T00:00:00.000Z",
          "2012-10-01T00:00:00.000Z",
          "2011-07-01T00:00:00.000Z",
          "2012-07-01T00:00:00.000Z",
          "2011-04-01T00:00:00.000Z",
          "2011-10-01T00:00:00.000Z",
          "2011-01-01T00:00:00.000Z",
          "2010-04-01T00:00:00.000Z",
          "2010-07-01T00:00:00.000Z",
          "2010-10-01T00:00:00.000Z",
          "2010-01-01T00:00:00.000Z"
         ],
         "y": [
          119,
          117,
          116,
          93,
          92,
          90,
          85,
          81,
          80,
          75,
          75,
          65,
          64,
          60,
          59,
          58,
          57,
          56,
          52,
          51,
          50,
          50,
          47,
          38,
          35,
          32,
          30,
          15
         ]
        },
        {
         "name": "Mozilla Local/Regional communities",
         "type": "bar",
         "x": [
          "2015-01-01T00:00:00.000Z",
          "2014-10-01T00:00:00.000Z",
          "2014-07-01T00:00:00.000Z",
          "2014-01-01T00:00:00.000Z",
          "2016-10-01T00:00:00.000Z",
          "2016-01-01T00:00:00.000Z",
          "2013-04-01T00:00:00.000Z",
          "2016-04-01T00:00:00.000Z",
          "2014-04-01T00:00:00.000Z",
          "2015-04-01T00:00:00.000Z",
          "2015-10-01T00:00:00.000Z",
          "2016-07-01T00:00:00.000Z",
          "2013-07-01T00:00:00.000Z",
          "2015-07-01T00:00:00.000Z",
          "2012-10-01T00:00:00.000Z",
          "2013-01-01T00:00:00.000Z",
          "2013-10-01T00:00:00.000Z",
          "2012-04-01T00:00:00.000Z",
          "2012-07-01T00:00:00.000Z",
          "2011-10-01T00:00:00.000Z",
          "2012-01-01T00:00:00.000Z",
          "2011-04-01T00:00:00.000Z",
          "2011-01-01T00:00:00.000Z",
          "2010-07-01T00:00:00.000Z",
          "2010-10-01T00:00:00.000Z",
          "2010-04-01T00:00:00.000Z",
          "2010-01-01T00:00:00.000Z",
          "2011-07-01T00:00:00.000Z"
         ],
         "y": [
          89,
          75,
          69,
          61,
          57,
          55,
          55,
          53,
          52,
          50,
          49,
          48,
          45,
          43,
          42,
          41,
          38,
          37,
          24,
          13,
          12,
          11,
          8,
          8,
          5,
          5,
          5,
          5
         ]
        },
        {
         "name": "Firefox OS (FxOS / B2G)",
         "type": "bar",
         "x": [
          "2015-01-01T00:00:00.000Z",
          "2014-10-01T00:00:00.000Z",
          "2014-07-01T00:00:00.000Z",
          "2014-01-01T00:00:00.000Z",
          "2014-04-01T00:00:00.000Z",
          "2015-04-01T00:00:00.000Z",
          "2015-07-01T00:00:00.000Z",
          "2015-10-01T00:00:00.000Z",
          "2013-10-01T00:00:00.000Z",
          "2013-07-01T00:00:00.000Z",
          "2013-01-01T00:00:00.000Z",
          "2012-07-01T00:00:00.000Z",
          "2013-04-01T00:00:00.000Z",
          "2012-10-01T00:00:00.000Z",
          "2016-01-01T00:00:00.000Z",
          "2012-04-01T00:00:00.000Z",
          "2016-04-01T00:00:00.000Z",
          "2016-07-01T00:00:00.000Z",
          "2012-01-01T00:00:00.000Z",
          "2016-10-01T00:00:00.000Z"
         ],
         "y": [
          80,
          63,
          56,
          54,
          52,
          52,
          50,
          37,
          33,
          21,
          19,
          16,
          15,
          15,
          12,
          9,
          5,
          4,
          1,
          1
         ]
        },
        {
         "name": "Test Pilot",
         "type": "bar",
         "x": [
          "2016-10-01T00:00:00.000Z",
          "2016-04-01T00:00:00.000Z",
          "2016-07-01T00:00:00.000Z",
          "2016-01-01T00:00:00.000Z",
          "2015-10-01T00:00:00.000Z",
          "2015-07-01T00:00:00.000Z",
          "2012-07-01T00:00:00.000Z",
          "2012-01-01T00:00:00.000Z",
          "2012-04-01T00:00:00.000Z"
         ],
         "y": [
          75,
          14,
          13,
          7,
          4,
          4,
          2,
          1,
          1
         ]
        },
        {
         "name": "Release engineering",
         "type": "bar",
         "x": [
          "2015-01-01T00:00:00.000Z",
          "2014-10-01T00:00:00.000Z",
          "2014-07-01T00:00:00.000Z",
          "2015-04-01T00:00:00.000Z",
          "2015-07-01T00:00:00.000Z",
          "2014-01-01T00:00:00.000Z",
          "2014-04-01T00:00:00.000Z",
          "2013-07-01T00:00:00.000Z",
          "2013-10-01T00:00:00.000Z",
          "2016-01-01T00:00:00.000Z",
          "2010-07-01T00:00:00.000Z",
          "2013-04-01T00:00:00.000Z",
          "2012-01-01T00:00:00.000Z",
          "2012-07-01T00:00:00.000Z",
          "2013-01-01T00:00:00.000Z",
          "2012-04-01T00:00:00.000Z",
          "2010-10-01T00:00:00.000Z",
          "2011-10-01T00:00:00.000Z",
          "2010-04-01T00:00:00.000Z",
          "2012-10-01T00:00:00.000Z",
          "2010-01-01T00:00:00.000Z",
          "2016-07-01T00:00:00.000Z",
          "2011-04-01T00:00:00.000Z",
          "2015-10-01T00:00:00.000Z",
          "2016-04-01T00:00:00.000Z",
          "2016-10-01T00:00:00.000Z",
          "2011-01-01T00:00:00.000Z",
          "2011-07-01T00:00:00.000Z"
         ],
         "y": [
          62,
          58,
          56,
          56,
          48,
          47,
          46,
          41,
          41,
          37,
          36,
          35,
          34,
          34,
          34,
          33,
          32,
          30,
          30,
          29,
          29,
          26,
          26,
          24,
          24,
          21,
          21,
          19
         ]
        },
        {
         "name": "WebVR",
         "type": "bar",
         "x": [
          "2016-10-01T00:00:00.000Z",
          "2016-01-01T00:00:00.000Z",
          "2016-07-01T00:00:00.000Z",
          "2016-04-01T00:00:00.000Z",
          "2015-10-01T00:00:00.000Z",
          "2015-07-01T00:00:00.000Z",
          "2015-01-01T00:00:00.000Z",
          "2014-10-01T00:00:00.000Z",
          "2015-04-01T00:00:00.000Z",
          "2014-07-01T00:00:00.000Z"
         ],
         "y": [
          54,
          45,
          45,
          42,
          21,
          12,
          9,
          5,
          5,
          4
         ]
        },
        {
         "name": "Web Literacy",
         "type": "bar",
         "x": [
          "2014-10-01T00:00:00.000Z",
          "2014-07-01T00:00:00.000Z",
          "2014-04-01T00:00:00.000Z",
          "2015-01-01T00:00:00.000Z",
          "2015-04-01T00:00:00.000Z",
          "2014-01-01T00:00:00.000Z",
          "2013-10-01T00:00:00.000Z",
          "2015-07-01T00:00:00.000Z",
          "2013-04-01T00:00:00.000Z",
          "2013-07-01T00:00:00.000Z",
          "2011-04-01T00:00:00.000Z",
          "2012-04-01T00:00:00.000Z",
          "2013-01-01T00:00:00.000Z",
          "2011-01-01T00:00:00.000Z",
          "2012-10-01T00:00:00.000Z",
          "2011-10-01T00:00:00.000Z",
          "2015-10-01T00:00:00.000Z",
          "2012-01-01T00:00:00.000Z",
          "2016-01-01T00:00:00.000Z",
          "2016-04-01T00:00:00.000Z",
          "2012-07-01T00:00:00.000Z",
          "2010-07-01T00:00:00.000Z",
          "2016-07-01T00:00:00.000Z",
          "2011-07-01T00:00:00.000Z",
          "2010-10-01T00:00:00.000Z",
          "2010-04-01T00:00:00.000Z",
          "2016-10-01T00:00:00.000Z"
         ],
         "y": [
          54,
          43,
          35,
          34,
          32,
          32,
          28,
          24,
          22,
          21,
          19,
          17,
          17,
          17,
          15,
          13,
          12,
          11,
          11,
          10,
          10,
          10,
          8,
          8,
          6,
          5,
          4
         ]
        },
        {
         "name": "Mozilla Developer Network (MDN)",
         "type": "bar",
         "x": [
          "2016-10-01T00:00:00.000Z",
          "2016-07-01T00:00:00.000Z",
          "2016-01-01T00:00:00.000Z",
          "2015-10-01T00:00:00.000Z",
          "2016-04-01T00:00:00.000Z",
          "2015-07-01T00:00:00.000Z",
          "2015-01-01T00:00:00.000Z",
          "2014-07-01T00:00:00.000Z",
          "2015-04-01T00:00:00.000Z",
          "2014-01-01T00:00:00.000Z",
          "2014-10-01T00:00:00.000Z",
          "2014-04-01T00:00:00.000Z",
          "2013-07-01T00:00:00.000Z",
          "2013-04-01T00:00:00.000Z",
          "2012-07-01T00:00:00.000Z",
          "2013-10-01T00:00:00.000Z",
          "2012-01-01T00:00:00.000Z",
          "2013-01-01T00:00:00.000Z",
          "2012-10-01T00:00:00.000Z",
          "2011-07-01T00:00:00.000Z",
          "2012-04-01T00:00:00.000Z",
          "2011-04-01T00:00:00.000Z",
          "2011-10-01T00:00:00.000Z"
         ],
         "y": [
          42,
          26,
          25,
          24,
          21,
          20,
          17,
          15,
          14,
          8,
          8,
          8,
          8,
          7,
          6,
          6,
          5,
          4,
          3,
          3,
          2,
          1,
          1
         ]
        },
        {
         "name": "Mozilla Location Service (MLS) / Stumbler",
         "type": "bar",
         "x": [
          "2014-01-01T00:00:00.000Z",
          "2013-10-01T00:00:00.000Z",
          "2014-04-01T00:00:00.000Z",
          "2014-10-01T00:00:00.000Z",
          "2014-07-01T00:00:00.000Z",
          "2015-01-01T00:00:00.000Z",
          "2015-04-01T00:00:00.000Z",
          "2015-07-01T00:00:00.000Z",
          "2013-07-01T00:00:00.000Z",
          "2015-10-01T00:00:00.000Z",
          "2016-04-01T00:00:00.000Z",
          "2016-01-01T00:00:00.000Z",
          "2016-07-01T00:00:00.000Z",
          "2016-10-01T00:00:00.000Z"
         ],
         "y": [
          42,
          28,
          24,
          22,
          19,
          13,
          7,
          6,
          4,
          2,
          2,
          1,
          1,
          1
         ]
        },
        {
         "name": "Advocacy and policy",
         "type": "bar",
         "x": [
          "2016-07-01T00:00:00.000Z",
          "2016-10-01T00:00:00.000Z",
          "2016-04-01T00:00:00.000Z",
          "2015-07-01T00:00:00.000Z",
          "2015-01-01T00:00:00.000Z",
          "2015-04-01T00:00:00.000Z",
          "2016-01-01T00:00:00.000Z",
          "2014-01-01T00:00:00.000Z",
          "2015-10-01T00:00:00.000Z",
          "2014-04-01T00:00:00.000Z",
          "2014-07-01T00:00:00.000Z",
          "2014-10-01T00:00:00.000Z"
         ],
         "y": [
          33,
          20,
          20,
          7,
          7,
          6,
          5,
          4,
          3,
          2,
          2,
          1
         ]
        },
        {
         "name": "Mozilla Science",
         "type": "bar",
         "x": [
          "2016-01-01T00:00:00.000Z",
          "2015-10-01T00:00:00.000Z",
          "2016-04-01T00:00:00.000Z",
          "2015-07-01T00:00:00.000Z",
          "2016-10-01T00:00:00.000Z",
          "2015-04-01T00:00:00.000Z",
          "2016-07-01T00:00:00.000Z",
          "2014-10-01T00:00:00.000Z",
          "2014-07-01T00:00:00.000Z",
          "2015-01-01T00:00:00.000Z",
          "2014-01-01T00:00:00.000Z",
          "2014-04-01T00:00:00.000Z",
          "2013-10-01T00:00:00.000Z"
         ],
         "y": [
          33,
          25,
          25,
          24,
          17,
          15,
          12,
          12,
          4,
          3,
          3,
          2,
          2
         ]
        },
        {
         "name": "Firefox iOS",
         "type": "bar",
         "x": [
          "2015-10-01T00:00:00.000Z",
          "2015-07-01T00:00:00.000Z",
          "2015-01-01T00:00:00.000Z",
          "2015-04-01T00:00:00.000Z",
          "2016-01-01T00:00:00.000Z",
          "2016-04-01T00:00:00.000Z",
          "2016-07-01T00:00:00.000Z",
          "2016-10-01T00:00:00.000Z",
          "2014-10-01T00:00:00.000Z",
          "2012-04-01T00:00:00.000Z",
          "2012-07-01T00:00:00.000Z",
          "2013-01-01T00:00:00.000Z",
          "2013-04-01T00:00:00.000Z"
         ],
         "y": [
          26,
          26,
          23,
          23,
          22,
          20,
          16,
          15,
          10,
          1,
          1,
          1,
          1
         ]
        },
        {
         "name": "Mozilla Foundation",
         "type": "bar",
         "x": [
          "2013-10-01T00:00:00.000Z",
          "2016-01-01T00:00:00.000Z",
          "2016-07-01T00:00:00.000Z",
          "2016-04-01T00:00:00.000Z",
          "2012-10-01T00:00:00.000Z",
          "2015-10-01T00:00:00.000Z",
          "2014-10-01T00:00:00.000Z",
          "2015-01-01T00:00:00.000Z",
          "2013-01-01T00:00:00.000Z",
          "2014-04-01T00:00:00.000Z",
          "2014-01-01T00:00:00.000Z",
          "2016-10-01T00:00:00.000Z",
          "2015-07-01T00:00:00.000Z",
          "2015-04-01T00:00:00.000Z",
          "2013-07-01T00:00:00.000Z",
          "2013-04-01T00:00:00.000Z",
          "2014-07-01T00:00:00.000Z"
         ],
         "y": [
          20,
          17,
          16,
          15,
          14,
          11,
          10,
          10,
          10,
          9,
          9,
          8,
          7,
          6,
          4,
          4,
          2
         ]
        },
        {
         "name": "Quality Assurance",
         "type": "bar",
         "x": [
          "2013-07-01T00:00:00.000Z",
          "2013-04-01T00:00:00.000Z",
          "2014-07-01T00:00:00.000Z",
          "2013-01-01T00:00:00.000Z",
          "2012-10-01T00:00:00.000Z",
          "2012-04-01T00:00:00.000Z",
          "2014-04-01T00:00:00.000Z",
          "2014-10-01T00:00:00.000Z",
          "2010-07-01T00:00:00.000Z",
          "2013-10-01T00:00:00.000Z",
          "2010-04-01T00:00:00.000Z",
          "2012-07-01T00:00:00.000Z",
          "2012-01-01T00:00:00.000Z",
          "2010-10-01T00:00:00.000Z",
          "2011-01-01T00:00:00.000Z",
          "2011-07-01T00:00:00.000Z",
          "2011-10-01T00:00:00.000Z",
          "2014-01-01T00:00:00.000Z",
          "2010-01-01T00:00:00.000Z",
          "2011-04-01T00:00:00.000Z",
          "2015-01-01T00:00:00.000Z",
          "2015-04-01T00:00:00.000Z",
          "2015-07-01T00:00:00.000Z",
          "2015-10-01T00:00:00.000Z"
         ],
         "y": [
          18,
          15,
          14,
          14,
          14,
          13,
          13,
          12,
          11,
          11,
          11,
          10,
          9,
          9,
          9,
          9,
          8,
          8,
          7,
          6,
          6,
          2,
          2,
          1
         ]
        },
        {
         "name": "Firefox",
         "type": "bar",
         "x": [
          "2016-04-01T00:00:00.000Z",
          "2016-07-01T00:00:00.000Z",
          "2016-01-01T00:00:00.000Z",
          "2016-10-01T00:00:00.000Z"
         ],
         "y": [
          15,
          15,
          10,
          10
         ]
        },
        {
         "name": "Marketing / Social Media",
         "type": "bar",
         "x": [
          "2012-01-01T00:00:00.000Z",
          "2016-10-01T00:00:00.000Z",
          "2012-07-01T00:00:00.000Z",
          "2016-01-01T00:00:00.000Z",
          "2014-10-01T00:00:00.000Z",
          "2013-01-01T00:00:00.000Z",
          "2012-04-01T00:00:00.000Z",
          "2016-07-01T00:00:00.000Z",
          "2013-10-01T00:00:00.000Z",
          "2013-07-01T00:00:00.000Z",
          "2011-07-01T00:00:00.000Z",
          "2014-04-01T00:00:00.000Z",
          "2014-01-01T00:00:00.000Z",
          "2011-10-01T00:00:00.000Z",
          "2011-04-01T00:00:00.000Z",
          "2015-07-01T00:00:00.000Z",
          "2015-04-01T00:00:00.000Z",
          "2014-07-01T00:00:00.000Z",
          "2013-04-01T00:00:00.000Z",
          "2015-10-01T00:00:00.000Z",
          "2016-04-01T00:00:00.000Z",
          "2012-10-01T00:00:00.000Z",
          "2015-01-01T00:00:00.000Z",
          "2010-04-01T00:00:00.000Z",
          "2010-10-01T00:00:00.000Z",
          "2011-01-01T00:00:00.000Z",
          "2010-07-01T00:00:00.000Z"
         ],
         "y": [
          13,
          10,
          10,
          9,
          9,
          9,
          9,
          9,
          8,
          8,
          8,
          8,
          8,
          7,
          7,
          7,
          7,
          7,
          6,
          6,
          6,
          6,
          6,
          3,
          3,
          3,
          2
         ]
        },
        {
         "name": "Mozilla Creative & Design",
         "type": "bar",
         "x": [
          "2016-01-01T00:00:00.000Z",
          "2016-04-01T00:00:00.000Z",
          "2015-10-01T00:00:00.000Z",
          "2014-04-01T00:00:00.000Z",
          "2013-01-01T00:00:00.000Z",
          "2013-07-01T00:00:00.000Z",
          "2014-07-01T00:00:00.000Z",
          "2015-01-01T00:00:00.000Z",
          "2015-04-01T00:00:00.000Z",
          "2016-07-01T00:00:00.000Z",
          "2016-10-01T00:00:00.000Z",
          "2015-07-01T00:00:00.000Z",
          "2012-10-01T00:00:00.000Z"
         ],
         "y": [
          10,
          5,
          4,
          4,
          4,
          3,
          2,
          2,
          2,
          2,
          2,
          1,
          1
         ]
        },
        {
         "name": "Firefox Focus",
         "type": "bar",
         "x": [
          "2016-10-01T00:00:00.000Z",
          "2016-01-01T00:00:00.000Z",
          "2015-10-01T00:00:00.000Z",
          "2016-07-01T00:00:00.000Z"
         ],
         "y": [
          8,
          4,
          3,
          2
         ]
        },
        {
         "name": "Deep Speech",
         "type": "bar",
         "x": [
          "2016-10-01T00:00:00.000Z",
          "2016-07-01T00:00:00.000Z",
          "2016-01-01T00:00:00.000Z",
          "2016-04-01T00:00:00.000Z"
         ],
         "y": [
          7,
          3,
          1,
          1
         ]
        },
        {
         "name": "Localization",
         "type": "bar",
         "x": [
          "2014-07-01T00:00:00.000Z",
          "2012-07-01T00:00:00.000Z",
          "2013-01-01T00:00:00.000Z",
          "2016-01-01T00:00:00.000Z",
          "2015-07-01T00:00:00.000Z",
          "2015-04-01T00:00:00.000Z",
          "2014-01-01T00:00:00.000Z",
          "2013-10-01T00:00:00.000Z",
          "2013-07-01T00:00:00.000Z",
          "2015-01-01T00:00:00.000Z",
          "2014-10-01T00:00:00.000Z",
          "2016-10-01T00:00:00.000Z",
          "2016-04-01T00:00:00.000Z",
          "2012-10-01T00:00:00.000Z",
          "2011-07-01T00:00:00.000Z",
          "2011-10-01T00:00:00.000Z",
          "2012-04-01T00:00:00.000Z",
          "2012-01-01T00:00:00.000Z",
          "2011-01-01T00:00:00.000Z",
          "2013-04-01T00:00:00.000Z",
          "2014-04-01T00:00:00.000Z",
          "2011-04-01T00:00:00.000Z",
          "2015-10-01T00:00:00.000Z",
          "2016-07-01T00:00:00.000Z",
          "2010-10-01T00:00:00.000Z",
          "2010-07-01T00:00:00.000Z",
          "2010-04-01T00:00:00.000Z",
          "2010-01-01T00:00:00.000Z"
         ],
         "y": [
          7,
          6,
          5,
          5,
          5,
          5,
          5,
          5,
          5,
          5,
          5,
          5,
          5,
          5,
          5,
          5,
          5,
          5,
          4,
          4,
          4,
          4,
          3,
          3,
          2,
          2,
          2,
          1
         ]
        },
        {
         "name": "Technical/Developer Evangelism",
         "type": "bar",
         "x": [
          "2016-04-01T00:00:00.000Z",
          "2013-04-01T00:00:00.000Z",
          "2016-07-01T00:00:00.000Z",
          "2014-04-01T00:00:00.000Z",
          "2016-10-01T00:00:00.000Z",
          "2015-10-01T00:00:00.000Z",
          "2015-04-01T00:00:00.000Z",
          "2016-01-01T00:00:00.000Z",
          "2015-07-01T00:00:00.000Z",
          "2014-07-01T00:00:00.000Z",
          "2012-07-01T00:00:00.000Z",
          "2013-10-01T00:00:00.000Z",
          "2015-01-01T00:00:00.000Z",
          "2012-10-01T00:00:00.000Z",
          "2013-01-01T00:00:00.000Z",
          "2014-01-01T00:00:00.000Z",
          "2014-10-01T00:00:00.000Z"
         ],
         "y": [
          7,
          6,
          5,
          5,
          4,
          4,
          4,
          3,
          3,
          3,
          2,
          2,
          2,
          1,
          1,
          1,
          1
         ]
        },
        {
         "name": "Campus Clubs (previously Student Ambassadors)",
         "type": "bar",
         "x": [
          "2016-10-01T00:00:00.000Z",
          "2016-07-01T00:00:00.000Z",
          "2016-01-01T00:00:00.000Z"
         ],
         "y": [
          6,
          4,
          1
         ]
        },
        {
         "name": "Vaani",
         "type": "bar",
         "x": [
          "2015-07-01T00:00:00.000Z",
          "2016-07-01T00:00:00.000Z",
          "2016-04-01T00:00:00.000Z",
          "2015-10-01T00:00:00.000Z",
          "2016-01-01T00:00:00.000Z"
         ],
         "y": [
          6,
          6,
          5,
          3,
          2
         ]
        },
        {
         "name": "Mozilla Clubs",
         "type": "bar",
         "x": [
          "2015-10-01T00:00:00.000Z",
          "2016-04-01T00:00:00.000Z",
          "2016-01-01T00:00:00.000Z",
          "2014-10-01T00:00:00.000Z",
          "2015-07-01T00:00:00.000Z"
         ],
         "y": [
          5,
          4,
          3,
          1,
          1
         ]
        },
        {
         "name": "Connected devices & IoT",
         "type": "bar",
         "x": [
          "2016-01-01T00:00:00.000Z",
          "2011-04-01T00:00:00.000Z",
          "2011-10-01T00:00:00.000Z",
          "2012-01-01T00:00:00.000Z",
          "2010-07-01T00:00:00.000Z",
          "2015-10-01T00:00:00.000Z",
          "2014-10-01T00:00:00.000Z",
          "2011-07-01T00:00:00.000Z",
          "2014-04-01T00:00:00.000Z",
          "2012-04-01T00:00:00.000Z",
          "2012-07-01T00:00:00.000Z",
          "2012-10-01T00:00:00.000Z",
          "2014-01-01T00:00:00.000Z",
          "2013-01-01T00:00:00.000Z",
          "2013-10-01T00:00:00.000Z",
          "2016-04-01T00:00:00.000Z",
          "2016-10-01T00:00:00.000Z",
          "2013-07-01T00:00:00.000Z",
          "2013-04-01T00:00:00.000Z",
          "2011-01-01T00:00:00.000Z",
          "2010-10-01T00:00:00.000Z",
          "2015-04-01T00:00:00.000Z",
          "2016-07-01T00:00:00.000Z",
          "2015-07-01T00:00:00.000Z",
          "2015-01-01T00:00:00.000Z",
          "2014-07-01T00:00:00.000Z"
         ],
         "y": [
          3,
          3,
          3,
          3,
          2,
          2,
          2,
          2,
          2,
          2,
          2,
          2,
          2,
          2,
          2,
          2,
          2,
          2,
          2,
          1,
          1,
          1,
          1,
          1,
          1,
          1
         ]
        },
        {
         "name": "Developer Tools",
         "type": "bar",
         "x": [
          "2011-04-01T00:00:00.000Z",
          "2015-04-01T00:00:00.000Z",
          "2011-01-01T00:00:00.000Z",
          "2011-07-01T00:00:00.000Z",
          "2013-07-01T00:00:00.000Z",
          "2013-10-01T00:00:00.000Z",
          "2016-01-01T00:00:00.000Z",
          "2010-10-01T00:00:00.000Z"
         ],
         "y": [
          3,
          3,
          2,
          2,
          1,
          1,
          1,
          1
         ]
        },
        {
         "name": "Firefox Android",
         "type": "bar",
         "x": [
          "2014-07-01T00:00:00.000Z",
          "2014-10-01T00:00:00.000Z",
          "2015-04-01T00:00:00.000Z",
          "2015-10-01T00:00:00.000Z"
         ],
         "y": [
          2,
          1,
          1,
          1
         ]
        }
       ],
       "layout": {
        "barmode": "stack"
       }
      },
      "text/html": [
       "<div id=\"5873e2f5-4c82-4ed8-8215-10b09a1ca4fe\" style=\"height: 525px; width: 100%;\" class=\"plotly-graph-div\"></div><script type=\"text/javascript\">require([\"plotly\"], function(Plotly) { window.PLOTLYENV=window.PLOTLYENV || {};window.PLOTLYENV.BASE_URL=\"https://plot.ly\";Plotly.newPlot(\"5873e2f5-4c82-4ed8-8215-10b09a1ca4fe\", [{\"type\": \"bar\", \"name\": \"Gecko\", \"y\": [663, 660, 654, 646, 631, 622, 611, 598, 595, 594, 594, 591, 587, 570, 522, 495, 494, 473, 452, 439, 392, 380, 357, 348, 330, 325, 311, 304], \"x\": [\"2014-04-01T00:00:00.000Z\", \"2014-07-01T00:00:00.000Z\", \"2014-01-01T00:00:00.000Z\", \"2015-01-01T00:00:00.000Z\", \"2014-10-01T00:00:00.000Z\", \"2016-01-01T00:00:00.000Z\", \"2015-04-01T00:00:00.000Z\", \"2013-10-01T00:00:00.000Z\", \"2016-04-01T00:00:00.000Z\", \"2015-07-01T00:00:00.000Z\", \"2015-10-01T00:00:00.000Z\", \"2016-07-01T00:00:00.000Z\", \"2013-04-01T00:00:00.000Z\", \"2013-07-01T00:00:00.000Z\", \"2013-01-01T00:00:00.000Z\", \"2012-10-01T00:00:00.000Z\", \"2012-07-01T00:00:00.000Z\", \"2016-10-01T00:00:00.000Z\", \"2012-04-01T00:00:00.000Z\", \"2012-01-01T00:00:00.000Z\", \"2011-10-01T00:00:00.000Z\", \"2011-07-01T00:00:00.000Z\", \"2011-04-01T00:00:00.000Z\", \"2010-07-01T00:00:00.000Z\", \"2011-01-01T00:00:00.000Z\", \"2010-04-01T00:00:00.000Z\", \"2010-10-01T00:00:00.000Z\", \"2010-01-01T00:00:00.000Z\"]}, {\"type\": \"bar\", \"name\": \"Rust\", \"y\": [419, 409, 348, 336, 331, 304, 298, 275, 273, 243, 201, 188, 154, 154, 125, 87, 69, 52, 47, 38, 22, 19, 17, 17, 10, 7, 3], \"x\": [\"2015-01-01T00:00:00.000Z\", \"2015-04-01T00:00:00.000Z\", \"2016-07-01T00:00:00.000Z\", \"2016-01-01T00:00:00.000Z\", \"2014-10-01T00:00:00.000Z\", \"2015-10-01T00:00:00.000Z\", \"2016-04-01T00:00:00.000Z\", \"2014-07-01T00:00:00.000Z\", \"2015-07-01T00:00:00.000Z\", \"2014-04-01T00:00:00.000Z\", \"2014-01-01T00:00:00.000Z\", \"2016-10-01T00:00:00.000Z\", \"2013-07-01T00:00:00.000Z\", \"2013-10-01T00:00:00.000Z\", \"2013-04-01T00:00:00.000Z\", \"2013-01-01T00:00:00.000Z\", \"2012-10-01T00:00:00.000Z\", \"2012-01-01T00:00:00.000Z\", \"2012-07-01T00:00:00.000Z\", \"2012-04-01T00:00:00.000Z\", \"2011-10-01T00:00:00.000Z\", \"2011-07-01T00:00:00.000Z\", \"2010-07-01T00:00:00.000Z\", \"2011-04-01T00:00:00.000Z\", \"2011-01-01T00:00:00.000Z\", \"2010-10-01T00:00:00.000Z\", \"2010-04-01T00:00:00.000Z\"]}, {\"type\": \"bar\", \"name\": \"IT/Ops\", \"y\": [414, 401, 387, 349, 326, 315, 313, 299, 281, 262, 258, 123, 112, 107, 98, 93, 92, 92, 89, 82, 75, 62, 61, 47, 43, 35, 23, 19], \"x\": [\"2012-04-01T00:00:00.000Z\", \"2012-01-01T00:00:00.000Z\", \"2012-07-01T00:00:00.000Z\", \"2011-10-01T00:00:00.000Z\", \"2011-07-01T00:00:00.000Z\", \"2010-07-01T00:00:00.000Z\", \"2011-04-01T00:00:00.000Z\", \"2011-01-01T00:00:00.000Z\", \"2010-04-01T00:00:00.000Z\", \"2010-10-01T00:00:00.000Z\", \"2010-01-01T00:00:00.000Z\", \"2016-01-01T00:00:00.000Z\", \"2015-10-01T00:00:00.000Z\", \"2016-10-01T00:00:00.000Z\", \"2016-04-01T00:00:00.000Z\", \"2014-10-01T00:00:00.000Z\", \"2015-07-01T00:00:00.000Z\", \"2015-01-01T00:00:00.000Z\", \"2016-07-01T00:00:00.000Z\", \"2015-04-01T00:00:00.000Z\", \"2014-04-01T00:00:00.000Z\", \"2014-07-01T00:00:00.000Z\", \"2014-01-01T00:00:00.000Z\", \"2013-07-01T00:00:00.000Z\", \"2013-04-01T00:00:00.000Z\", \"2013-10-01T00:00:00.000Z\", \"2013-01-01T00:00:00.000Z\", \"2012-10-01T00:00:00.000Z\"]}, {\"type\": \"bar\", \"name\": \"Web Properties\", \"y\": [223, 207, 194, 191, 187, 183, 182, 182, 179, 176, 172, 167, 149, 147, 147, 131, 109, 108, 105, 93, 70, 64, 46, 33, 28, 27, 25, 16], \"x\": [\"2015-10-01T00:00:00.000Z\", \"2016-01-01T00:00:00.000Z\", \"2016-10-01T00:00:00.000Z\", \"2013-10-01T00:00:00.000Z\", \"2015-07-01T00:00:00.000Z\", \"2016-07-01T00:00:00.000Z\", \"2014-10-01T00:00:00.000Z\", \"2015-01-01T00:00:00.000Z\", \"2016-04-01T00:00:00.000Z\", \"2014-04-01T00:00:00.000Z\", \"2015-04-01T00:00:00.000Z\", \"2014-01-01T00:00:00.000Z\", \"2013-07-01T00:00:00.000Z\", \"2013-04-01T00:00:00.000Z\", \"2014-07-01T00:00:00.000Z\", \"2013-01-01T00:00:00.000Z\", \"2012-10-01T00:00:00.000Z\", \"2012-04-01T00:00:00.000Z\", \"2012-07-01T00:00:00.000Z\", \"2012-01-01T00:00:00.000Z\", \"2011-10-01T00:00:00.000Z\", \"2011-07-01T00:00:00.000Z\", \"2011-04-01T00:00:00.000Z\", \"2011-01-01T00:00:00.000Z\", \"2010-04-01T00:00:00.000Z\", \"2010-10-01T00:00:00.000Z\", \"2010-07-01T00:00:00.000Z\", \"2010-01-01T00:00:00.000Z\"]}, {\"type\": \"bar\", \"name\": \"Servo\", \"y\": [177, 173, 171, 162, 150, 150, 145, 135, 123, 105, 75, 74, 73, 70, 65, 58, 58, 56, 55, 47, 41, 39, 39, 38, 36, 35, 31, 28], \"x\": [\"2016-04-01T00:00:00.000Z\", \"2016-07-01T00:00:00.000Z\", \"2016-01-01T00:00:00.000Z\", \"2016-10-01T00:00:00.000Z\", \"2015-10-01T00:00:00.000Z\", \"2015-01-01T00:00:00.000Z\", \"2014-10-01T00:00:00.000Z\", \"2015-04-01T00:00:00.000Z\", \"2015-07-01T00:00:00.000Z\", \"2014-04-01T00:00:00.000Z\", \"2013-10-01T00:00:00.000Z\", \"2013-04-01T00:00:00.000Z\", \"2013-07-01T00:00:00.000Z\", \"2014-01-01T00:00:00.000Z\", \"2014-07-01T00:00:00.000Z\", \"2012-07-01T00:00:00.000Z\", \"2012-04-01T00:00:00.000Z\", \"2012-01-01T00:00:00.000Z\", \"2013-01-01T00:00:00.000Z\", \"2012-10-01T00:00:00.000Z\", \"2011-04-01T00:00:00.000Z\", \"2011-10-01T00:00:00.000Z\", \"2011-07-01T00:00:00.000Z\", \"2011-01-01T00:00:00.000Z\", \"2010-10-01T00:00:00.000Z\", \"2010-07-01T00:00:00.000Z\", \"2010-01-01T00:00:00.000Z\", \"2010-04-01T00:00:00.000Z\"]}, {\"type\": \"bar\", \"name\": \"Addons/Web Extensions\", \"y\": [119, 117, 116, 93, 92, 90, 85, 81, 80, 75, 75, 65, 64, 60, 59, 58, 57, 56, 52, 51, 50, 50, 47, 38, 35, 32, 30, 15], \"x\": [\"2016-10-01T00:00:00.000Z\", \"2016-07-01T00:00:00.000Z\", \"2016-01-01T00:00:00.000Z\", \"2015-10-01T00:00:00.000Z\", \"2016-04-01T00:00:00.000Z\", \"2013-10-01T00:00:00.000Z\", \"2015-07-01T00:00:00.000Z\", \"2014-07-01T00:00:00.000Z\", \"2013-07-01T00:00:00.000Z\", \"2014-04-01T00:00:00.000Z\", \"2014-01-01T00:00:00.000Z\", \"2015-01-01T00:00:00.000Z\", \"2013-04-01T00:00:00.000Z\", \"2014-10-01T00:00:00.000Z\", \"2013-01-01T00:00:00.000Z\", \"2015-04-01T00:00:00.000Z\", \"2012-01-01T00:00:00.000Z\", \"2012-04-01T00:00:00.000Z\", \"2012-10-01T00:00:00.000Z\", \"2011-07-01T00:00:00.000Z\", \"2012-07-01T00:00:00.000Z\", \"2011-04-01T00:00:00.000Z\", \"2011-10-01T00:00:00.000Z\", \"2011-01-01T00:00:00.000Z\", \"2010-04-01T00:00:00.000Z\", \"2010-07-01T00:00:00.000Z\", \"2010-10-01T00:00:00.000Z\", \"2010-01-01T00:00:00.000Z\"]}, {\"type\": \"bar\", \"name\": \"Mozilla Local/Regional communities\", \"y\": [89, 75, 69, 61, 57, 55, 55, 53, 52, 50, 49, 48, 45, 43, 42, 41, 38, 37, 24, 13, 12, 11, 8, 8, 5, 5, 5, 5], \"x\": [\"2015-01-01T00:00:00.000Z\", \"2014-10-01T00:00:00.000Z\", \"2014-07-01T00:00:00.000Z\", \"2014-01-01T00:00:00.000Z\", \"2016-10-01T00:00:00.000Z\", \"2016-01-01T00:00:00.000Z\", \"2013-04-01T00:00:00.000Z\", \"2016-04-01T00:00:00.000Z\", \"2014-04-01T00:00:00.000Z\", \"2015-04-01T00:00:00.000Z\", \"2015-10-01T00:00:00.000Z\", \"2016-07-01T00:00:00.000Z\", \"2013-07-01T00:00:00.000Z\", \"2015-07-01T00:00:00.000Z\", \"2012-10-01T00:00:00.000Z\", \"2013-01-01T00:00:00.000Z\", \"2013-10-01T00:00:00.000Z\", \"2012-04-01T00:00:00.000Z\", \"2012-07-01T00:00:00.000Z\", \"2011-10-01T00:00:00.000Z\", \"2012-01-01T00:00:00.000Z\", \"2011-04-01T00:00:00.000Z\", \"2011-01-01T00:00:00.000Z\", \"2010-07-01T00:00:00.000Z\", \"2010-10-01T00:00:00.000Z\", \"2010-04-01T00:00:00.000Z\", \"2010-01-01T00:00:00.000Z\", \"2011-07-01T00:00:00.000Z\"]}, {\"type\": \"bar\", \"name\": \"Firefox OS (FxOS / B2G)\", \"y\": [80, 63, 56, 54, 52, 52, 50, 37, 33, 21, 19, 16, 15, 15, 12, 9, 5, 4, 1, 1], \"x\": [\"2015-01-01T00:00:00.000Z\", \"2014-10-01T00:00:00.000Z\", \"2014-07-01T00:00:00.000Z\", \"2014-01-01T00:00:00.000Z\", \"2014-04-01T00:00:00.000Z\", \"2015-04-01T00:00:00.000Z\", \"2015-07-01T00:00:00.000Z\", \"2015-10-01T00:00:00.000Z\", \"2013-10-01T00:00:00.000Z\", \"2013-07-01T00:00:00.000Z\", \"2013-01-01T00:00:00.000Z\", \"2012-07-01T00:00:00.000Z\", \"2013-04-01T00:00:00.000Z\", \"2012-10-01T00:00:00.000Z\", \"2016-01-01T00:00:00.000Z\", \"2012-04-01T00:00:00.000Z\", \"2016-04-01T00:00:00.000Z\", \"2016-07-01T00:00:00.000Z\", \"2012-01-01T00:00:00.000Z\", \"2016-10-01T00:00:00.000Z\"]}, {\"type\": \"bar\", \"name\": \"Test Pilot\", \"y\": [75, 14, 13, 7, 4, 4, 2, 1, 1], \"x\": [\"2016-10-01T00:00:00.000Z\", \"2016-04-01T00:00:00.000Z\", \"2016-07-01T00:00:00.000Z\", \"2016-01-01T00:00:00.000Z\", \"2015-10-01T00:00:00.000Z\", \"2015-07-01T00:00:00.000Z\", \"2012-07-01T00:00:00.000Z\", \"2012-01-01T00:00:00.000Z\", \"2012-04-01T00:00:00.000Z\"]}, {\"type\": \"bar\", \"name\": \"Release engineering\", \"y\": [62, 58, 56, 56, 48, 47, 46, 41, 41, 37, 36, 35, 34, 34, 34, 33, 32, 30, 30, 29, 29, 26, 26, 24, 24, 21, 21, 19], \"x\": [\"2015-01-01T00:00:00.000Z\", \"2014-10-01T00:00:00.000Z\", \"2014-07-01T00:00:00.000Z\", \"2015-04-01T00:00:00.000Z\", \"2015-07-01T00:00:00.000Z\", \"2014-01-01T00:00:00.000Z\", \"2014-04-01T00:00:00.000Z\", \"2013-07-01T00:00:00.000Z\", \"2013-10-01T00:00:00.000Z\", \"2016-01-01T00:00:00.000Z\", \"2010-07-01T00:00:00.000Z\", \"2013-04-01T00:00:00.000Z\", \"2012-01-01T00:00:00.000Z\", \"2012-07-01T00:00:00.000Z\", \"2013-01-01T00:00:00.000Z\", \"2012-04-01T00:00:00.000Z\", \"2010-10-01T00:00:00.000Z\", \"2011-10-01T00:00:00.000Z\", \"2010-04-01T00:00:00.000Z\", \"2012-10-01T00:00:00.000Z\", \"2010-01-01T00:00:00.000Z\", \"2016-07-01T00:00:00.000Z\", \"2011-04-01T00:00:00.000Z\", \"2015-10-01T00:00:00.000Z\", \"2016-04-01T00:00:00.000Z\", \"2016-10-01T00:00:00.000Z\", \"2011-01-01T00:00:00.000Z\", \"2011-07-01T00:00:00.000Z\"]}, {\"type\": \"bar\", \"name\": \"WebVR\", \"y\": [54, 45, 45, 42, 21, 12, 9, 5, 5, 4], \"x\": [\"2016-10-01T00:00:00.000Z\", \"2016-01-01T00:00:00.000Z\", \"2016-07-01T00:00:00.000Z\", \"2016-04-01T00:00:00.000Z\", \"2015-10-01T00:00:00.000Z\", \"2015-07-01T00:00:00.000Z\", \"2015-01-01T00:00:00.000Z\", \"2014-10-01T00:00:00.000Z\", \"2015-04-01T00:00:00.000Z\", \"2014-07-01T00:00:00.000Z\"]}, {\"type\": \"bar\", \"name\": \"Web Literacy\", \"y\": [54, 43, 35, 34, 32, 32, 28, 24, 22, 21, 19, 17, 17, 17, 15, 13, 12, 11, 11, 10, 10, 10, 8, 8, 6, 5, 4], \"x\": [\"2014-10-01T00:00:00.000Z\", \"2014-07-01T00:00:00.000Z\", \"2014-04-01T00:00:00.000Z\", \"2015-01-01T00:00:00.000Z\", \"2015-04-01T00:00:00.000Z\", \"2014-01-01T00:00:00.000Z\", \"2013-10-01T00:00:00.000Z\", \"2015-07-01T00:00:00.000Z\", \"2013-04-01T00:00:00.000Z\", \"2013-07-01T00:00:00.000Z\", \"2011-04-01T00:00:00.000Z\", \"2012-04-01T00:00:00.000Z\", \"2013-01-01T00:00:00.000Z\", \"2011-01-01T00:00:00.000Z\", \"2012-10-01T00:00:00.000Z\", \"2011-10-01T00:00:00.000Z\", \"2015-10-01T00:00:00.000Z\", \"2012-01-01T00:00:00.000Z\", \"2016-01-01T00:00:00.000Z\", \"2016-04-01T00:00:00.000Z\", \"2012-07-01T00:00:00.000Z\", \"2010-07-01T00:00:00.000Z\", \"2016-07-01T00:00:00.000Z\", \"2011-07-01T00:00:00.000Z\", \"2010-10-01T00:00:00.000Z\", \"2010-04-01T00:00:00.000Z\", \"2016-10-01T00:00:00.000Z\"]}, {\"type\": \"bar\", \"name\": \"Mozilla Developer Network (MDN)\", \"y\": [42, 26, 25, 24, 21, 20, 17, 15, 14, 8, 8, 8, 8, 7, 6, 6, 5, 4, 3, 3, 2, 1, 1], \"x\": [\"2016-10-01T00:00:00.000Z\", \"2016-07-01T00:00:00.000Z\", \"2016-01-01T00:00:00.000Z\", \"2015-10-01T00:00:00.000Z\", \"2016-04-01T00:00:00.000Z\", \"2015-07-01T00:00:00.000Z\", \"2015-01-01T00:00:00.000Z\", \"2014-07-01T00:00:00.000Z\", \"2015-04-01T00:00:00.000Z\", \"2014-01-01T00:00:00.000Z\", \"2014-10-01T00:00:00.000Z\", \"2014-04-01T00:00:00.000Z\", \"2013-07-01T00:00:00.000Z\", \"2013-04-01T00:00:00.000Z\", \"2012-07-01T00:00:00.000Z\", \"2013-10-01T00:00:00.000Z\", \"2012-01-01T00:00:00.000Z\", \"2013-01-01T00:00:00.000Z\", \"2012-10-01T00:00:00.000Z\", \"2011-07-01T00:00:00.000Z\", \"2012-04-01T00:00:00.000Z\", \"2011-04-01T00:00:00.000Z\", \"2011-10-01T00:00:00.000Z\"]}, {\"type\": \"bar\", \"name\": \"Mozilla Location Service (MLS) / Stumbler\", \"y\": [42, 28, 24, 22, 19, 13, 7, 6, 4, 2, 2, 1, 1, 1], \"x\": [\"2014-01-01T00:00:00.000Z\", \"2013-10-01T00:00:00.000Z\", \"2014-04-01T00:00:00.000Z\", \"2014-10-01T00:00:00.000Z\", \"2014-07-01T00:00:00.000Z\", \"2015-01-01T00:00:00.000Z\", \"2015-04-01T00:00:00.000Z\", \"2015-07-01T00:00:00.000Z\", \"2013-07-01T00:00:00.000Z\", \"2015-10-01T00:00:00.000Z\", \"2016-04-01T00:00:00.000Z\", \"2016-01-01T00:00:00.000Z\", \"2016-07-01T00:00:00.000Z\", \"2016-10-01T00:00:00.000Z\"]}, {\"type\": \"bar\", \"name\": \"Advocacy and policy\", \"y\": [33, 20, 20, 7, 7, 6, 5, 4, 3, 2, 2, 1], \"x\": [\"2016-07-01T00:00:00.000Z\", \"2016-10-01T00:00:00.000Z\", \"2016-04-01T00:00:00.000Z\", \"2015-07-01T00:00:00.000Z\", \"2015-01-01T00:00:00.000Z\", \"2015-04-01T00:00:00.000Z\", \"2016-01-01T00:00:00.000Z\", \"2014-01-01T00:00:00.000Z\", \"2015-10-01T00:00:00.000Z\", \"2014-04-01T00:00:00.000Z\", \"2014-07-01T00:00:00.000Z\", \"2014-10-01T00:00:00.000Z\"]}, {\"type\": \"bar\", \"name\": \"Mozilla Science\", \"y\": [33, 25, 25, 24, 17, 15, 12, 12, 4, 3, 3, 2, 2], \"x\": [\"2016-01-01T00:00:00.000Z\", \"2015-10-01T00:00:00.000Z\", \"2016-04-01T00:00:00.000Z\", \"2015-07-01T00:00:00.000Z\", \"2016-10-01T00:00:00.000Z\", \"2015-04-01T00:00:00.000Z\", \"2016-07-01T00:00:00.000Z\", \"2014-10-01T00:00:00.000Z\", \"2014-07-01T00:00:00.000Z\", \"2015-01-01T00:00:00.000Z\", \"2014-01-01T00:00:00.000Z\", \"2014-04-01T00:00:00.000Z\", \"2013-10-01T00:00:00.000Z\"]}, {\"type\": \"bar\", \"name\": \"Firefox iOS\", \"y\": [26, 26, 23, 23, 22, 20, 16, 15, 10, 1, 1, 1, 1], \"x\": [\"2015-10-01T00:00:00.000Z\", \"2015-07-01T00:00:00.000Z\", \"2015-01-01T00:00:00.000Z\", \"2015-04-01T00:00:00.000Z\", \"2016-01-01T00:00:00.000Z\", \"2016-04-01T00:00:00.000Z\", \"2016-07-01T00:00:00.000Z\", \"2016-10-01T00:00:00.000Z\", \"2014-10-01T00:00:00.000Z\", \"2012-04-01T00:00:00.000Z\", \"2012-07-01T00:00:00.000Z\", \"2013-01-01T00:00:00.000Z\", \"2013-04-01T00:00:00.000Z\"]}, {\"type\": \"bar\", \"name\": \"Mozilla Foundation\", \"y\": [20, 17, 16, 15, 14, 11, 10, 10, 10, 9, 9, 8, 7, 6, 4, 4, 2], \"x\": [\"2013-10-01T00:00:00.000Z\", \"2016-01-01T00:00:00.000Z\", \"2016-07-01T00:00:00.000Z\", \"2016-04-01T00:00:00.000Z\", \"2012-10-01T00:00:00.000Z\", \"2015-10-01T00:00:00.000Z\", \"2014-10-01T00:00:00.000Z\", \"2015-01-01T00:00:00.000Z\", \"2013-01-01T00:00:00.000Z\", \"2014-04-01T00:00:00.000Z\", \"2014-01-01T00:00:00.000Z\", \"2016-10-01T00:00:00.000Z\", \"2015-07-01T00:00:00.000Z\", \"2015-04-01T00:00:00.000Z\", \"2013-07-01T00:00:00.000Z\", \"2013-04-01T00:00:00.000Z\", \"2014-07-01T00:00:00.000Z\"]}, {\"type\": \"bar\", \"name\": \"Quality Assurance\", \"y\": [18, 15, 14, 14, 14, 13, 13, 12, 11, 11, 11, 10, 9, 9, 9, 9, 8, 8, 7, 6, 6, 2, 2, 1], \"x\": [\"2013-07-01T00:00:00.000Z\", \"2013-04-01T00:00:00.000Z\", \"2014-07-01T00:00:00.000Z\", \"2013-01-01T00:00:00.000Z\", \"2012-10-01T00:00:00.000Z\", \"2012-04-01T00:00:00.000Z\", \"2014-04-01T00:00:00.000Z\", \"2014-10-01T00:00:00.000Z\", \"2010-07-01T00:00:00.000Z\", \"2013-10-01T00:00:00.000Z\", \"2010-04-01T00:00:00.000Z\", \"2012-07-01T00:00:00.000Z\", \"2012-01-01T00:00:00.000Z\", \"2010-10-01T00:00:00.000Z\", \"2011-01-01T00:00:00.000Z\", \"2011-07-01T00:00:00.000Z\", \"2011-10-01T00:00:00.000Z\", \"2014-01-01T00:00:00.000Z\", \"2010-01-01T00:00:00.000Z\", \"2011-04-01T00:00:00.000Z\", \"2015-01-01T00:00:00.000Z\", \"2015-04-01T00:00:00.000Z\", \"2015-07-01T00:00:00.000Z\", \"2015-10-01T00:00:00.000Z\"]}, {\"type\": \"bar\", \"name\": \"Firefox\", \"y\": [15, 15, 10, 10], \"x\": [\"2016-04-01T00:00:00.000Z\", \"2016-07-01T00:00:00.000Z\", \"2016-01-01T00:00:00.000Z\", \"2016-10-01T00:00:00.000Z\"]}, {\"type\": \"bar\", \"name\": \"Marketing / Social Media\", \"y\": [13, 10, 10, 9, 9, 9, 9, 9, 8, 8, 8, 8, 8, 7, 7, 7, 7, 7, 6, 6, 6, 6, 6, 3, 3, 3, 2], \"x\": [\"2012-01-01T00:00:00.000Z\", \"2016-10-01T00:00:00.000Z\", \"2012-07-01T00:00:00.000Z\", \"2016-01-01T00:00:00.000Z\", \"2014-10-01T00:00:00.000Z\", \"2013-01-01T00:00:00.000Z\", \"2012-04-01T00:00:00.000Z\", \"2016-07-01T00:00:00.000Z\", \"2013-10-01T00:00:00.000Z\", \"2013-07-01T00:00:00.000Z\", \"2011-07-01T00:00:00.000Z\", \"2014-04-01T00:00:00.000Z\", \"2014-01-01T00:00:00.000Z\", \"2011-10-01T00:00:00.000Z\", \"2011-04-01T00:00:00.000Z\", \"2015-07-01T00:00:00.000Z\", \"2015-04-01T00:00:00.000Z\", \"2014-07-01T00:00:00.000Z\", \"2013-04-01T00:00:00.000Z\", \"2015-10-01T00:00:00.000Z\", \"2016-04-01T00:00:00.000Z\", \"2012-10-01T00:00:00.000Z\", \"2015-01-01T00:00:00.000Z\", \"2010-04-01T00:00:00.000Z\", \"2010-10-01T00:00:00.000Z\", \"2011-01-01T00:00:00.000Z\", \"2010-07-01T00:00:00.000Z\"]}, {\"type\": \"bar\", \"name\": \"Mozilla Creative & Design\", \"y\": [10, 5, 4, 4, 4, 3, 2, 2, 2, 2, 2, 1, 1], \"x\": [\"2016-01-01T00:00:00.000Z\", \"2016-04-01T00:00:00.000Z\", \"2015-10-01T00:00:00.000Z\", \"2014-04-01T00:00:00.000Z\", \"2013-01-01T00:00:00.000Z\", \"2013-07-01T00:00:00.000Z\", \"2014-07-01T00:00:00.000Z\", \"2015-01-01T00:00:00.000Z\", \"2015-04-01T00:00:00.000Z\", \"2016-07-01T00:00:00.000Z\", \"2016-10-01T00:00:00.000Z\", \"2015-07-01T00:00:00.000Z\", \"2012-10-01T00:00:00.000Z\"]}, {\"type\": \"bar\", \"name\": \"Firefox Focus\", \"y\": [8, 4, 3, 2], \"x\": [\"2016-10-01T00:00:00.000Z\", \"2016-01-01T00:00:00.000Z\", \"2015-10-01T00:00:00.000Z\", \"2016-07-01T00:00:00.000Z\"]}, {\"type\": \"bar\", \"name\": \"Deep Speech\", \"y\": [7, 3, 1, 1], \"x\": [\"2016-10-01T00:00:00.000Z\", \"2016-07-01T00:00:00.000Z\", \"2016-01-01T00:00:00.000Z\", \"2016-04-01T00:00:00.000Z\"]}, {\"type\": \"bar\", \"name\": \"Localization\", \"y\": [7, 6, 5, 5, 5, 5, 5, 5, 5, 5, 5, 5, 5, 5, 5, 5, 5, 5, 4, 4, 4, 4, 3, 3, 2, 2, 2, 1], \"x\": [\"2014-07-01T00:00:00.000Z\", \"2012-07-01T00:00:00.000Z\", \"2013-01-01T00:00:00.000Z\", \"2016-01-01T00:00:00.000Z\", \"2015-07-01T00:00:00.000Z\", \"2015-04-01T00:00:00.000Z\", \"2014-01-01T00:00:00.000Z\", \"2013-10-01T00:00:00.000Z\", \"2013-07-01T00:00:00.000Z\", \"2015-01-01T00:00:00.000Z\", \"2014-10-01T00:00:00.000Z\", \"2016-10-01T00:00:00.000Z\", \"2016-04-01T00:00:00.000Z\", \"2012-10-01T00:00:00.000Z\", \"2011-07-01T00:00:00.000Z\", \"2011-10-01T00:00:00.000Z\", \"2012-04-01T00:00:00.000Z\", \"2012-01-01T00:00:00.000Z\", \"2011-01-01T00:00:00.000Z\", \"2013-04-01T00:00:00.000Z\", \"2014-04-01T00:00:00.000Z\", \"2011-04-01T00:00:00.000Z\", \"2015-10-01T00:00:00.000Z\", \"2016-07-01T00:00:00.000Z\", \"2010-10-01T00:00:00.000Z\", \"2010-07-01T00:00:00.000Z\", \"2010-04-01T00:00:00.000Z\", \"2010-01-01T00:00:00.000Z\"]}, {\"type\": \"bar\", \"name\": \"Technical/Developer Evangelism\", \"y\": [7, 6, 5, 5, 4, 4, 4, 3, 3, 3, 2, 2, 2, 1, 1, 1, 1], \"x\": [\"2016-04-01T00:00:00.000Z\", \"2013-04-01T00:00:00.000Z\", \"2016-07-01T00:00:00.000Z\", \"2014-04-01T00:00:00.000Z\", \"2016-10-01T00:00:00.000Z\", \"2015-10-01T00:00:00.000Z\", \"2015-04-01T00:00:00.000Z\", \"2016-01-01T00:00:00.000Z\", \"2015-07-01T00:00:00.000Z\", \"2014-07-01T00:00:00.000Z\", \"2012-07-01T00:00:00.000Z\", \"2013-10-01T00:00:00.000Z\", \"2015-01-01T00:00:00.000Z\", \"2012-10-01T00:00:00.000Z\", \"2013-01-01T00:00:00.000Z\", \"2014-01-01T00:00:00.000Z\", \"2014-10-01T00:00:00.000Z\"]}, {\"type\": \"bar\", \"name\": \"Campus Clubs (previously Student Ambassadors)\", \"y\": [6, 4, 1], \"x\": [\"2016-10-01T00:00:00.000Z\", \"2016-07-01T00:00:00.000Z\", \"2016-01-01T00:00:00.000Z\"]}, {\"type\": \"bar\", \"name\": \"Vaani\", \"y\": [6, 6, 5, 3, 2], \"x\": [\"2015-07-01T00:00:00.000Z\", \"2016-07-01T00:00:00.000Z\", \"2016-04-01T00:00:00.000Z\", \"2015-10-01T00:00:00.000Z\", \"2016-01-01T00:00:00.000Z\"]}, {\"type\": \"bar\", \"name\": \"Mozilla Clubs\", \"y\": [5, 4, 3, 1, 1], \"x\": [\"2015-10-01T00:00:00.000Z\", \"2016-04-01T00:00:00.000Z\", \"2016-01-01T00:00:00.000Z\", \"2014-10-01T00:00:00.000Z\", \"2015-07-01T00:00:00.000Z\"]}, {\"type\": \"bar\", \"name\": \"Connected devices & IoT\", \"y\": [3, 3, 3, 3, 2, 2, 2, 2, 2, 2, 2, 2, 2, 2, 2, 2, 2, 2, 2, 1, 1, 1, 1, 1, 1, 1], \"x\": [\"2016-01-01T00:00:00.000Z\", \"2011-04-01T00:00:00.000Z\", \"2011-10-01T00:00:00.000Z\", \"2012-01-01T00:00:00.000Z\", \"2010-07-01T00:00:00.000Z\", \"2015-10-01T00:00:00.000Z\", \"2014-10-01T00:00:00.000Z\", \"2011-07-01T00:00:00.000Z\", \"2014-04-01T00:00:00.000Z\", \"2012-04-01T00:00:00.000Z\", \"2012-07-01T00:00:00.000Z\", \"2012-10-01T00:00:00.000Z\", \"2014-01-01T00:00:00.000Z\", \"2013-01-01T00:00:00.000Z\", \"2013-10-01T00:00:00.000Z\", \"2016-04-01T00:00:00.000Z\", \"2016-10-01T00:00:00.000Z\", \"2013-07-01T00:00:00.000Z\", \"2013-04-01T00:00:00.000Z\", \"2011-01-01T00:00:00.000Z\", \"2010-10-01T00:00:00.000Z\", \"2015-04-01T00:00:00.000Z\", \"2016-07-01T00:00:00.000Z\", \"2015-07-01T00:00:00.000Z\", \"2015-01-01T00:00:00.000Z\", \"2014-07-01T00:00:00.000Z\"]}, {\"type\": \"bar\", \"name\": \"Developer Tools\", \"y\": [3, 3, 2, 2, 1, 1, 1, 1], \"x\": [\"2011-04-01T00:00:00.000Z\", \"2015-04-01T00:00:00.000Z\", \"2011-01-01T00:00:00.000Z\", \"2011-07-01T00:00:00.000Z\", \"2013-07-01T00:00:00.000Z\", \"2013-10-01T00:00:00.000Z\", \"2016-01-01T00:00:00.000Z\", \"2010-10-01T00:00:00.000Z\"]}, {\"type\": \"bar\", \"name\": \"Firefox Android\", \"y\": [2, 1, 1, 1], \"x\": [\"2014-07-01T00:00:00.000Z\", \"2014-10-01T00:00:00.000Z\", \"2015-04-01T00:00:00.000Z\", \"2015-10-01T00:00:00.000Z\"]}], {\"barmode\": \"stack\"}, {\"showLink\": true, \"linkText\": \"Export to plot.ly\"})});</script>"
      ],
      "text/vnd.plotly.v1+html": [
       "<div id=\"5873e2f5-4c82-4ed8-8215-10b09a1ca4fe\" style=\"height: 525px; width: 100%;\" class=\"plotly-graph-div\"></div><script type=\"text/javascript\">require([\"plotly\"], function(Plotly) { window.PLOTLYENV=window.PLOTLYENV || {};window.PLOTLYENV.BASE_URL=\"https://plot.ly\";Plotly.newPlot(\"5873e2f5-4c82-4ed8-8215-10b09a1ca4fe\", [{\"type\": \"bar\", \"name\": \"Gecko\", \"y\": [663, 660, 654, 646, 631, 622, 611, 598, 595, 594, 594, 591, 587, 570, 522, 495, 494, 473, 452, 439, 392, 380, 357, 348, 330, 325, 311, 304], \"x\": [\"2014-04-01T00:00:00.000Z\", \"2014-07-01T00:00:00.000Z\", \"2014-01-01T00:00:00.000Z\", \"2015-01-01T00:00:00.000Z\", \"2014-10-01T00:00:00.000Z\", \"2016-01-01T00:00:00.000Z\", \"2015-04-01T00:00:00.000Z\", \"2013-10-01T00:00:00.000Z\", \"2016-04-01T00:00:00.000Z\", \"2015-07-01T00:00:00.000Z\", \"2015-10-01T00:00:00.000Z\", \"2016-07-01T00:00:00.000Z\", \"2013-04-01T00:00:00.000Z\", \"2013-07-01T00:00:00.000Z\", \"2013-01-01T00:00:00.000Z\", \"2012-10-01T00:00:00.000Z\", \"2012-07-01T00:00:00.000Z\", \"2016-10-01T00:00:00.000Z\", \"2012-04-01T00:00:00.000Z\", \"2012-01-01T00:00:00.000Z\", \"2011-10-01T00:00:00.000Z\", \"2011-07-01T00:00:00.000Z\", \"2011-04-01T00:00:00.000Z\", \"2010-07-01T00:00:00.000Z\", \"2011-01-01T00:00:00.000Z\", \"2010-04-01T00:00:00.000Z\", \"2010-10-01T00:00:00.000Z\", \"2010-01-01T00:00:00.000Z\"]}, {\"type\": \"bar\", \"name\": \"Rust\", \"y\": [419, 409, 348, 336, 331, 304, 298, 275, 273, 243, 201, 188, 154, 154, 125, 87, 69, 52, 47, 38, 22, 19, 17, 17, 10, 7, 3], \"x\": [\"2015-01-01T00:00:00.000Z\", \"2015-04-01T00:00:00.000Z\", \"2016-07-01T00:00:00.000Z\", \"2016-01-01T00:00:00.000Z\", \"2014-10-01T00:00:00.000Z\", \"2015-10-01T00:00:00.000Z\", \"2016-04-01T00:00:00.000Z\", \"2014-07-01T00:00:00.000Z\", \"2015-07-01T00:00:00.000Z\", \"2014-04-01T00:00:00.000Z\", \"2014-01-01T00:00:00.000Z\", \"2016-10-01T00:00:00.000Z\", \"2013-07-01T00:00:00.000Z\", \"2013-10-01T00:00:00.000Z\", \"2013-04-01T00:00:00.000Z\", \"2013-01-01T00:00:00.000Z\", \"2012-10-01T00:00:00.000Z\", \"2012-01-01T00:00:00.000Z\", \"2012-07-01T00:00:00.000Z\", \"2012-04-01T00:00:00.000Z\", \"2011-10-01T00:00:00.000Z\", \"2011-07-01T00:00:00.000Z\", \"2010-07-01T00:00:00.000Z\", \"2011-04-01T00:00:00.000Z\", \"2011-01-01T00:00:00.000Z\", \"2010-10-01T00:00:00.000Z\", \"2010-04-01T00:00:00.000Z\"]}, {\"type\": \"bar\", \"name\": \"IT/Ops\", \"y\": [414, 401, 387, 349, 326, 315, 313, 299, 281, 262, 258, 123, 112, 107, 98, 93, 92, 92, 89, 82, 75, 62, 61, 47, 43, 35, 23, 19], \"x\": [\"2012-04-01T00:00:00.000Z\", \"2012-01-01T00:00:00.000Z\", \"2012-07-01T00:00:00.000Z\", \"2011-10-01T00:00:00.000Z\", \"2011-07-01T00:00:00.000Z\", \"2010-07-01T00:00:00.000Z\", \"2011-04-01T00:00:00.000Z\", \"2011-01-01T00:00:00.000Z\", \"2010-04-01T00:00:00.000Z\", \"2010-10-01T00:00:00.000Z\", \"2010-01-01T00:00:00.000Z\", \"2016-01-01T00:00:00.000Z\", \"2015-10-01T00:00:00.000Z\", \"2016-10-01T00:00:00.000Z\", \"2016-04-01T00:00:00.000Z\", \"2014-10-01T00:00:00.000Z\", \"2015-07-01T00:00:00.000Z\", \"2015-01-01T00:00:00.000Z\", \"2016-07-01T00:00:00.000Z\", \"2015-04-01T00:00:00.000Z\", \"2014-04-01T00:00:00.000Z\", \"2014-07-01T00:00:00.000Z\", \"2014-01-01T00:00:00.000Z\", \"2013-07-01T00:00:00.000Z\", \"2013-04-01T00:00:00.000Z\", \"2013-10-01T00:00:00.000Z\", \"2013-01-01T00:00:00.000Z\", \"2012-10-01T00:00:00.000Z\"]}, {\"type\": \"bar\", \"name\": \"Web Properties\", \"y\": [223, 207, 194, 191, 187, 183, 182, 182, 179, 176, 172, 167, 149, 147, 147, 131, 109, 108, 105, 93, 70, 64, 46, 33, 28, 27, 25, 16], \"x\": [\"2015-10-01T00:00:00.000Z\", \"2016-01-01T00:00:00.000Z\", \"2016-10-01T00:00:00.000Z\", \"2013-10-01T00:00:00.000Z\", \"2015-07-01T00:00:00.000Z\", \"2016-07-01T00:00:00.000Z\", \"2014-10-01T00:00:00.000Z\", \"2015-01-01T00:00:00.000Z\", \"2016-04-01T00:00:00.000Z\", \"2014-04-01T00:00:00.000Z\", \"2015-04-01T00:00:00.000Z\", \"2014-01-01T00:00:00.000Z\", \"2013-07-01T00:00:00.000Z\", \"2013-04-01T00:00:00.000Z\", \"2014-07-01T00:00:00.000Z\", \"2013-01-01T00:00:00.000Z\", \"2012-10-01T00:00:00.000Z\", \"2012-04-01T00:00:00.000Z\", \"2012-07-01T00:00:00.000Z\", \"2012-01-01T00:00:00.000Z\", \"2011-10-01T00:00:00.000Z\", \"2011-07-01T00:00:00.000Z\", \"2011-04-01T00:00:00.000Z\", \"2011-01-01T00:00:00.000Z\", \"2010-04-01T00:00:00.000Z\", \"2010-10-01T00:00:00.000Z\", \"2010-07-01T00:00:00.000Z\", \"2010-01-01T00:00:00.000Z\"]}, {\"type\": \"bar\", \"name\": \"Servo\", \"y\": [177, 173, 171, 162, 150, 150, 145, 135, 123, 105, 75, 74, 73, 70, 65, 58, 58, 56, 55, 47, 41, 39, 39, 38, 36, 35, 31, 28], \"x\": [\"2016-04-01T00:00:00.000Z\", \"2016-07-01T00:00:00.000Z\", \"2016-01-01T00:00:00.000Z\", \"2016-10-01T00:00:00.000Z\", \"2015-10-01T00:00:00.000Z\", \"2015-01-01T00:00:00.000Z\", \"2014-10-01T00:00:00.000Z\", \"2015-04-01T00:00:00.000Z\", \"2015-07-01T00:00:00.000Z\", \"2014-04-01T00:00:00.000Z\", \"2013-10-01T00:00:00.000Z\", \"2013-04-01T00:00:00.000Z\", \"2013-07-01T00:00:00.000Z\", \"2014-01-01T00:00:00.000Z\", \"2014-07-01T00:00:00.000Z\", \"2012-07-01T00:00:00.000Z\", \"2012-04-01T00:00:00.000Z\", \"2012-01-01T00:00:00.000Z\", \"2013-01-01T00:00:00.000Z\", \"2012-10-01T00:00:00.000Z\", \"2011-04-01T00:00:00.000Z\", \"2011-10-01T00:00:00.000Z\", \"2011-07-01T00:00:00.000Z\", \"2011-01-01T00:00:00.000Z\", \"2010-10-01T00:00:00.000Z\", \"2010-07-01T00:00:00.000Z\", \"2010-01-01T00:00:00.000Z\", \"2010-04-01T00:00:00.000Z\"]}, {\"type\": \"bar\", \"name\": \"Addons/Web Extensions\", \"y\": [119, 117, 116, 93, 92, 90, 85, 81, 80, 75, 75, 65, 64, 60, 59, 58, 57, 56, 52, 51, 50, 50, 47, 38, 35, 32, 30, 15], \"x\": [\"2016-10-01T00:00:00.000Z\", \"2016-07-01T00:00:00.000Z\", \"2016-01-01T00:00:00.000Z\", \"2015-10-01T00:00:00.000Z\", \"2016-04-01T00:00:00.000Z\", \"2013-10-01T00:00:00.000Z\", \"2015-07-01T00:00:00.000Z\", \"2014-07-01T00:00:00.000Z\", \"2013-07-01T00:00:00.000Z\", \"2014-04-01T00:00:00.000Z\", \"2014-01-01T00:00:00.000Z\", \"2015-01-01T00:00:00.000Z\", \"2013-04-01T00:00:00.000Z\", \"2014-10-01T00:00:00.000Z\", \"2013-01-01T00:00:00.000Z\", \"2015-04-01T00:00:00.000Z\", \"2012-01-01T00:00:00.000Z\", \"2012-04-01T00:00:00.000Z\", \"2012-10-01T00:00:00.000Z\", \"2011-07-01T00:00:00.000Z\", \"2012-07-01T00:00:00.000Z\", \"2011-04-01T00:00:00.000Z\", \"2011-10-01T00:00:00.000Z\", \"2011-01-01T00:00:00.000Z\", \"2010-04-01T00:00:00.000Z\", \"2010-07-01T00:00:00.000Z\", \"2010-10-01T00:00:00.000Z\", \"2010-01-01T00:00:00.000Z\"]}, {\"type\": \"bar\", \"name\": \"Mozilla Local/Regional communities\", \"y\": [89, 75, 69, 61, 57, 55, 55, 53, 52, 50, 49, 48, 45, 43, 42, 41, 38, 37, 24, 13, 12, 11, 8, 8, 5, 5, 5, 5], \"x\": [\"2015-01-01T00:00:00.000Z\", \"2014-10-01T00:00:00.000Z\", \"2014-07-01T00:00:00.000Z\", \"2014-01-01T00:00:00.000Z\", \"2016-10-01T00:00:00.000Z\", \"2016-01-01T00:00:00.000Z\", \"2013-04-01T00:00:00.000Z\", \"2016-04-01T00:00:00.000Z\", \"2014-04-01T00:00:00.000Z\", \"2015-04-01T00:00:00.000Z\", \"2015-10-01T00:00:00.000Z\", \"2016-07-01T00:00:00.000Z\", \"2013-07-01T00:00:00.000Z\", \"2015-07-01T00:00:00.000Z\", \"2012-10-01T00:00:00.000Z\", \"2013-01-01T00:00:00.000Z\", \"2013-10-01T00:00:00.000Z\", \"2012-04-01T00:00:00.000Z\", \"2012-07-01T00:00:00.000Z\", \"2011-10-01T00:00:00.000Z\", \"2012-01-01T00:00:00.000Z\", \"2011-04-01T00:00:00.000Z\", \"2011-01-01T00:00:00.000Z\", \"2010-07-01T00:00:00.000Z\", \"2010-10-01T00:00:00.000Z\", \"2010-04-01T00:00:00.000Z\", \"2010-01-01T00:00:00.000Z\", \"2011-07-01T00:00:00.000Z\"]}, {\"type\": \"bar\", \"name\": \"Firefox OS (FxOS / B2G)\", \"y\": [80, 63, 56, 54, 52, 52, 50, 37, 33, 21, 19, 16, 15, 15, 12, 9, 5, 4, 1, 1], \"x\": [\"2015-01-01T00:00:00.000Z\", \"2014-10-01T00:00:00.000Z\", \"2014-07-01T00:00:00.000Z\", \"2014-01-01T00:00:00.000Z\", \"2014-04-01T00:00:00.000Z\", \"2015-04-01T00:00:00.000Z\", \"2015-07-01T00:00:00.000Z\", \"2015-10-01T00:00:00.000Z\", \"2013-10-01T00:00:00.000Z\", \"2013-07-01T00:00:00.000Z\", \"2013-01-01T00:00:00.000Z\", \"2012-07-01T00:00:00.000Z\", \"2013-04-01T00:00:00.000Z\", \"2012-10-01T00:00:00.000Z\", \"2016-01-01T00:00:00.000Z\", \"2012-04-01T00:00:00.000Z\", \"2016-04-01T00:00:00.000Z\", \"2016-07-01T00:00:00.000Z\", \"2012-01-01T00:00:00.000Z\", \"2016-10-01T00:00:00.000Z\"]}, {\"type\": \"bar\", \"name\": \"Test Pilot\", \"y\": [75, 14, 13, 7, 4, 4, 2, 1, 1], \"x\": [\"2016-10-01T00:00:00.000Z\", \"2016-04-01T00:00:00.000Z\", \"2016-07-01T00:00:00.000Z\", \"2016-01-01T00:00:00.000Z\", \"2015-10-01T00:00:00.000Z\", \"2015-07-01T00:00:00.000Z\", \"2012-07-01T00:00:00.000Z\", \"2012-01-01T00:00:00.000Z\", \"2012-04-01T00:00:00.000Z\"]}, {\"type\": \"bar\", \"name\": \"Release engineering\", \"y\": [62, 58, 56, 56, 48, 47, 46, 41, 41, 37, 36, 35, 34, 34, 34, 33, 32, 30, 30, 29, 29, 26, 26, 24, 24, 21, 21, 19], \"x\": [\"2015-01-01T00:00:00.000Z\", \"2014-10-01T00:00:00.000Z\", \"2014-07-01T00:00:00.000Z\", \"2015-04-01T00:00:00.000Z\", \"2015-07-01T00:00:00.000Z\", \"2014-01-01T00:00:00.000Z\", \"2014-04-01T00:00:00.000Z\", \"2013-07-01T00:00:00.000Z\", \"2013-10-01T00:00:00.000Z\", \"2016-01-01T00:00:00.000Z\", \"2010-07-01T00:00:00.000Z\", \"2013-04-01T00:00:00.000Z\", \"2012-01-01T00:00:00.000Z\", \"2012-07-01T00:00:00.000Z\", \"2013-01-01T00:00:00.000Z\", \"2012-04-01T00:00:00.000Z\", \"2010-10-01T00:00:00.000Z\", \"2011-10-01T00:00:00.000Z\", \"2010-04-01T00:00:00.000Z\", \"2012-10-01T00:00:00.000Z\", \"2010-01-01T00:00:00.000Z\", \"2016-07-01T00:00:00.000Z\", \"2011-04-01T00:00:00.000Z\", \"2015-10-01T00:00:00.000Z\", \"2016-04-01T00:00:00.000Z\", \"2016-10-01T00:00:00.000Z\", \"2011-01-01T00:00:00.000Z\", \"2011-07-01T00:00:00.000Z\"]}, {\"type\": \"bar\", \"name\": \"WebVR\", \"y\": [54, 45, 45, 42, 21, 12, 9, 5, 5, 4], \"x\": [\"2016-10-01T00:00:00.000Z\", \"2016-01-01T00:00:00.000Z\", \"2016-07-01T00:00:00.000Z\", \"2016-04-01T00:00:00.000Z\", \"2015-10-01T00:00:00.000Z\", \"2015-07-01T00:00:00.000Z\", \"2015-01-01T00:00:00.000Z\", \"2014-10-01T00:00:00.000Z\", \"2015-04-01T00:00:00.000Z\", \"2014-07-01T00:00:00.000Z\"]}, {\"type\": \"bar\", \"name\": \"Web Literacy\", \"y\": [54, 43, 35, 34, 32, 32, 28, 24, 22, 21, 19, 17, 17, 17, 15, 13, 12, 11, 11, 10, 10, 10, 8, 8, 6, 5, 4], \"x\": [\"2014-10-01T00:00:00.000Z\", \"2014-07-01T00:00:00.000Z\", \"2014-04-01T00:00:00.000Z\", \"2015-01-01T00:00:00.000Z\", \"2015-04-01T00:00:00.000Z\", \"2014-01-01T00:00:00.000Z\", \"2013-10-01T00:00:00.000Z\", \"2015-07-01T00:00:00.000Z\", \"2013-04-01T00:00:00.000Z\", \"2013-07-01T00:00:00.000Z\", \"2011-04-01T00:00:00.000Z\", \"2012-04-01T00:00:00.000Z\", \"2013-01-01T00:00:00.000Z\", \"2011-01-01T00:00:00.000Z\", \"2012-10-01T00:00:00.000Z\", \"2011-10-01T00:00:00.000Z\", \"2015-10-01T00:00:00.000Z\", \"2012-01-01T00:00:00.000Z\", \"2016-01-01T00:00:00.000Z\", \"2016-04-01T00:00:00.000Z\", \"2012-07-01T00:00:00.000Z\", \"2010-07-01T00:00:00.000Z\", \"2016-07-01T00:00:00.000Z\", \"2011-07-01T00:00:00.000Z\", \"2010-10-01T00:00:00.000Z\", \"2010-04-01T00:00:00.000Z\", \"2016-10-01T00:00:00.000Z\"]}, {\"type\": \"bar\", \"name\": \"Mozilla Developer Network (MDN)\", \"y\": [42, 26, 25, 24, 21, 20, 17, 15, 14, 8, 8, 8, 8, 7, 6, 6, 5, 4, 3, 3, 2, 1, 1], \"x\": [\"2016-10-01T00:00:00.000Z\", \"2016-07-01T00:00:00.000Z\", \"2016-01-01T00:00:00.000Z\", \"2015-10-01T00:00:00.000Z\", \"2016-04-01T00:00:00.000Z\", \"2015-07-01T00:00:00.000Z\", \"2015-01-01T00:00:00.000Z\", \"2014-07-01T00:00:00.000Z\", \"2015-04-01T00:00:00.000Z\", \"2014-01-01T00:00:00.000Z\", \"2014-10-01T00:00:00.000Z\", \"2014-04-01T00:00:00.000Z\", \"2013-07-01T00:00:00.000Z\", \"2013-04-01T00:00:00.000Z\", \"2012-07-01T00:00:00.000Z\", \"2013-10-01T00:00:00.000Z\", \"2012-01-01T00:00:00.000Z\", \"2013-01-01T00:00:00.000Z\", \"2012-10-01T00:00:00.000Z\", \"2011-07-01T00:00:00.000Z\", \"2012-04-01T00:00:00.000Z\", \"2011-04-01T00:00:00.000Z\", \"2011-10-01T00:00:00.000Z\"]}, {\"type\": \"bar\", \"name\": \"Mozilla Location Service (MLS) / Stumbler\", \"y\": [42, 28, 24, 22, 19, 13, 7, 6, 4, 2, 2, 1, 1, 1], \"x\": [\"2014-01-01T00:00:00.000Z\", \"2013-10-01T00:00:00.000Z\", \"2014-04-01T00:00:00.000Z\", \"2014-10-01T00:00:00.000Z\", \"2014-07-01T00:00:00.000Z\", \"2015-01-01T00:00:00.000Z\", \"2015-04-01T00:00:00.000Z\", \"2015-07-01T00:00:00.000Z\", \"2013-07-01T00:00:00.000Z\", \"2015-10-01T00:00:00.000Z\", \"2016-04-01T00:00:00.000Z\", \"2016-01-01T00:00:00.000Z\", \"2016-07-01T00:00:00.000Z\", \"2016-10-01T00:00:00.000Z\"]}, {\"type\": \"bar\", \"name\": \"Advocacy and policy\", \"y\": [33, 20, 20, 7, 7, 6, 5, 4, 3, 2, 2, 1], \"x\": [\"2016-07-01T00:00:00.000Z\", \"2016-10-01T00:00:00.000Z\", \"2016-04-01T00:00:00.000Z\", \"2015-07-01T00:00:00.000Z\", \"2015-01-01T00:00:00.000Z\", \"2015-04-01T00:00:00.000Z\", \"2016-01-01T00:00:00.000Z\", \"2014-01-01T00:00:00.000Z\", \"2015-10-01T00:00:00.000Z\", \"2014-04-01T00:00:00.000Z\", \"2014-07-01T00:00:00.000Z\", \"2014-10-01T00:00:00.000Z\"]}, {\"type\": \"bar\", \"name\": \"Mozilla Science\", \"y\": [33, 25, 25, 24, 17, 15, 12, 12, 4, 3, 3, 2, 2], \"x\": [\"2016-01-01T00:00:00.000Z\", \"2015-10-01T00:00:00.000Z\", \"2016-04-01T00:00:00.000Z\", \"2015-07-01T00:00:00.000Z\", \"2016-10-01T00:00:00.000Z\", \"2015-04-01T00:00:00.000Z\", \"2016-07-01T00:00:00.000Z\", \"2014-10-01T00:00:00.000Z\", \"2014-07-01T00:00:00.000Z\", \"2015-01-01T00:00:00.000Z\", \"2014-01-01T00:00:00.000Z\", \"2014-04-01T00:00:00.000Z\", \"2013-10-01T00:00:00.000Z\"]}, {\"type\": \"bar\", \"name\": \"Firefox iOS\", \"y\": [26, 26, 23, 23, 22, 20, 16, 15, 10, 1, 1, 1, 1], \"x\": [\"2015-10-01T00:00:00.000Z\", \"2015-07-01T00:00:00.000Z\", \"2015-01-01T00:00:00.000Z\", \"2015-04-01T00:00:00.000Z\", \"2016-01-01T00:00:00.000Z\", \"2016-04-01T00:00:00.000Z\", \"2016-07-01T00:00:00.000Z\", \"2016-10-01T00:00:00.000Z\", \"2014-10-01T00:00:00.000Z\", \"2012-04-01T00:00:00.000Z\", \"2012-07-01T00:00:00.000Z\", \"2013-01-01T00:00:00.000Z\", \"2013-04-01T00:00:00.000Z\"]}, {\"type\": \"bar\", \"name\": \"Mozilla Foundation\", \"y\": [20, 17, 16, 15, 14, 11, 10, 10, 10, 9, 9, 8, 7, 6, 4, 4, 2], \"x\": [\"2013-10-01T00:00:00.000Z\", \"2016-01-01T00:00:00.000Z\", \"2016-07-01T00:00:00.000Z\", \"2016-04-01T00:00:00.000Z\", \"2012-10-01T00:00:00.000Z\", \"2015-10-01T00:00:00.000Z\", \"2014-10-01T00:00:00.000Z\", \"2015-01-01T00:00:00.000Z\", \"2013-01-01T00:00:00.000Z\", \"2014-04-01T00:00:00.000Z\", \"2014-01-01T00:00:00.000Z\", \"2016-10-01T00:00:00.000Z\", \"2015-07-01T00:00:00.000Z\", \"2015-04-01T00:00:00.000Z\", \"2013-07-01T00:00:00.000Z\", \"2013-04-01T00:00:00.000Z\", \"2014-07-01T00:00:00.000Z\"]}, {\"type\": \"bar\", \"name\": \"Quality Assurance\", \"y\": [18, 15, 14, 14, 14, 13, 13, 12, 11, 11, 11, 10, 9, 9, 9, 9, 8, 8, 7, 6, 6, 2, 2, 1], \"x\": [\"2013-07-01T00:00:00.000Z\", \"2013-04-01T00:00:00.000Z\", \"2014-07-01T00:00:00.000Z\", \"2013-01-01T00:00:00.000Z\", \"2012-10-01T00:00:00.000Z\", \"2012-04-01T00:00:00.000Z\", \"2014-04-01T00:00:00.000Z\", \"2014-10-01T00:00:00.000Z\", \"2010-07-01T00:00:00.000Z\", \"2013-10-01T00:00:00.000Z\", \"2010-04-01T00:00:00.000Z\", \"2012-07-01T00:00:00.000Z\", \"2012-01-01T00:00:00.000Z\", \"2010-10-01T00:00:00.000Z\", \"2011-01-01T00:00:00.000Z\", \"2011-07-01T00:00:00.000Z\", \"2011-10-01T00:00:00.000Z\", \"2014-01-01T00:00:00.000Z\", \"2010-01-01T00:00:00.000Z\", \"2011-04-01T00:00:00.000Z\", \"2015-01-01T00:00:00.000Z\", \"2015-04-01T00:00:00.000Z\", \"2015-07-01T00:00:00.000Z\", \"2015-10-01T00:00:00.000Z\"]}, {\"type\": \"bar\", \"name\": \"Firefox\", \"y\": [15, 15, 10, 10], \"x\": [\"2016-04-01T00:00:00.000Z\", \"2016-07-01T00:00:00.000Z\", \"2016-01-01T00:00:00.000Z\", \"2016-10-01T00:00:00.000Z\"]}, {\"type\": \"bar\", \"name\": \"Marketing / Social Media\", \"y\": [13, 10, 10, 9, 9, 9, 9, 9, 8, 8, 8, 8, 8, 7, 7, 7, 7, 7, 6, 6, 6, 6, 6, 3, 3, 3, 2], \"x\": [\"2012-01-01T00:00:00.000Z\", \"2016-10-01T00:00:00.000Z\", \"2012-07-01T00:00:00.000Z\", \"2016-01-01T00:00:00.000Z\", \"2014-10-01T00:00:00.000Z\", \"2013-01-01T00:00:00.000Z\", \"2012-04-01T00:00:00.000Z\", \"2016-07-01T00:00:00.000Z\", \"2013-10-01T00:00:00.000Z\", \"2013-07-01T00:00:00.000Z\", \"2011-07-01T00:00:00.000Z\", \"2014-04-01T00:00:00.000Z\", \"2014-01-01T00:00:00.000Z\", \"2011-10-01T00:00:00.000Z\", \"2011-04-01T00:00:00.000Z\", \"2015-07-01T00:00:00.000Z\", \"2015-04-01T00:00:00.000Z\", \"2014-07-01T00:00:00.000Z\", \"2013-04-01T00:00:00.000Z\", \"2015-10-01T00:00:00.000Z\", \"2016-04-01T00:00:00.000Z\", \"2012-10-01T00:00:00.000Z\", \"2015-01-01T00:00:00.000Z\", \"2010-04-01T00:00:00.000Z\", \"2010-10-01T00:00:00.000Z\", \"2011-01-01T00:00:00.000Z\", \"2010-07-01T00:00:00.000Z\"]}, {\"type\": \"bar\", \"name\": \"Mozilla Creative & Design\", \"y\": [10, 5, 4, 4, 4, 3, 2, 2, 2, 2, 2, 1, 1], \"x\": [\"2016-01-01T00:00:00.000Z\", \"2016-04-01T00:00:00.000Z\", \"2015-10-01T00:00:00.000Z\", \"2014-04-01T00:00:00.000Z\", \"2013-01-01T00:00:00.000Z\", \"2013-07-01T00:00:00.000Z\", \"2014-07-01T00:00:00.000Z\", \"2015-01-01T00:00:00.000Z\", \"2015-04-01T00:00:00.000Z\", \"2016-07-01T00:00:00.000Z\", \"2016-10-01T00:00:00.000Z\", \"2015-07-01T00:00:00.000Z\", \"2012-10-01T00:00:00.000Z\"]}, {\"type\": \"bar\", \"name\": \"Firefox Focus\", \"y\": [8, 4, 3, 2], \"x\": [\"2016-10-01T00:00:00.000Z\", \"2016-01-01T00:00:00.000Z\", \"2015-10-01T00:00:00.000Z\", \"2016-07-01T00:00:00.000Z\"]}, {\"type\": \"bar\", \"name\": \"Deep Speech\", \"y\": [7, 3, 1, 1], \"x\": [\"2016-10-01T00:00:00.000Z\", \"2016-07-01T00:00:00.000Z\", \"2016-01-01T00:00:00.000Z\", \"2016-04-01T00:00:00.000Z\"]}, {\"type\": \"bar\", \"name\": \"Localization\", \"y\": [7, 6, 5, 5, 5, 5, 5, 5, 5, 5, 5, 5, 5, 5, 5, 5, 5, 5, 4, 4, 4, 4, 3, 3, 2, 2, 2, 1], \"x\": [\"2014-07-01T00:00:00.000Z\", \"2012-07-01T00:00:00.000Z\", \"2013-01-01T00:00:00.000Z\", \"2016-01-01T00:00:00.000Z\", \"2015-07-01T00:00:00.000Z\", \"2015-04-01T00:00:00.000Z\", \"2014-01-01T00:00:00.000Z\", \"2013-10-01T00:00:00.000Z\", \"2013-07-01T00:00:00.000Z\", \"2015-01-01T00:00:00.000Z\", \"2014-10-01T00:00:00.000Z\", \"2016-10-01T00:00:00.000Z\", \"2016-04-01T00:00:00.000Z\", \"2012-10-01T00:00:00.000Z\", \"2011-07-01T00:00:00.000Z\", \"2011-10-01T00:00:00.000Z\", \"2012-04-01T00:00:00.000Z\", \"2012-01-01T00:00:00.000Z\", \"2011-01-01T00:00:00.000Z\", \"2013-04-01T00:00:00.000Z\", \"2014-04-01T00:00:00.000Z\", \"2011-04-01T00:00:00.000Z\", \"2015-10-01T00:00:00.000Z\", \"2016-07-01T00:00:00.000Z\", \"2010-10-01T00:00:00.000Z\", \"2010-07-01T00:00:00.000Z\", \"2010-04-01T00:00:00.000Z\", \"2010-01-01T00:00:00.000Z\"]}, {\"type\": \"bar\", \"name\": \"Technical/Developer Evangelism\", \"y\": [7, 6, 5, 5, 4, 4, 4, 3, 3, 3, 2, 2, 2, 1, 1, 1, 1], \"x\": [\"2016-04-01T00:00:00.000Z\", \"2013-04-01T00:00:00.000Z\", \"2016-07-01T00:00:00.000Z\", \"2014-04-01T00:00:00.000Z\", \"2016-10-01T00:00:00.000Z\", \"2015-10-01T00:00:00.000Z\", \"2015-04-01T00:00:00.000Z\", \"2016-01-01T00:00:00.000Z\", \"2015-07-01T00:00:00.000Z\", \"2014-07-01T00:00:00.000Z\", \"2012-07-01T00:00:00.000Z\", \"2013-10-01T00:00:00.000Z\", \"2015-01-01T00:00:00.000Z\", \"2012-10-01T00:00:00.000Z\", \"2013-01-01T00:00:00.000Z\", \"2014-01-01T00:00:00.000Z\", \"2014-10-01T00:00:00.000Z\"]}, {\"type\": \"bar\", \"name\": \"Campus Clubs (previously Student Ambassadors)\", \"y\": [6, 4, 1], \"x\": [\"2016-10-01T00:00:00.000Z\", \"2016-07-01T00:00:00.000Z\", \"2016-01-01T00:00:00.000Z\"]}, {\"type\": \"bar\", \"name\": \"Vaani\", \"y\": [6, 6, 5, 3, 2], \"x\": [\"2015-07-01T00:00:00.000Z\", \"2016-07-01T00:00:00.000Z\", \"2016-04-01T00:00:00.000Z\", \"2015-10-01T00:00:00.000Z\", \"2016-01-01T00:00:00.000Z\"]}, {\"type\": \"bar\", \"name\": \"Mozilla Clubs\", \"y\": [5, 4, 3, 1, 1], \"x\": [\"2015-10-01T00:00:00.000Z\", \"2016-04-01T00:00:00.000Z\", \"2016-01-01T00:00:00.000Z\", \"2014-10-01T00:00:00.000Z\", \"2015-07-01T00:00:00.000Z\"]}, {\"type\": \"bar\", \"name\": \"Connected devices & IoT\", \"y\": [3, 3, 3, 3, 2, 2, 2, 2, 2, 2, 2, 2, 2, 2, 2, 2, 2, 2, 2, 1, 1, 1, 1, 1, 1, 1], \"x\": [\"2016-01-01T00:00:00.000Z\", \"2011-04-01T00:00:00.000Z\", \"2011-10-01T00:00:00.000Z\", \"2012-01-01T00:00:00.000Z\", \"2010-07-01T00:00:00.000Z\", \"2015-10-01T00:00:00.000Z\", \"2014-10-01T00:00:00.000Z\", \"2011-07-01T00:00:00.000Z\", \"2014-04-01T00:00:00.000Z\", \"2012-04-01T00:00:00.000Z\", \"2012-07-01T00:00:00.000Z\", \"2012-10-01T00:00:00.000Z\", \"2014-01-01T00:00:00.000Z\", \"2013-01-01T00:00:00.000Z\", \"2013-10-01T00:00:00.000Z\", \"2016-04-01T00:00:00.000Z\", \"2016-10-01T00:00:00.000Z\", \"2013-07-01T00:00:00.000Z\", \"2013-04-01T00:00:00.000Z\", \"2011-01-01T00:00:00.000Z\", \"2010-10-01T00:00:00.000Z\", \"2015-04-01T00:00:00.000Z\", \"2016-07-01T00:00:00.000Z\", \"2015-07-01T00:00:00.000Z\", \"2015-01-01T00:00:00.000Z\", \"2014-07-01T00:00:00.000Z\"]}, {\"type\": \"bar\", \"name\": \"Developer Tools\", \"y\": [3, 3, 2, 2, 1, 1, 1, 1], \"x\": [\"2011-04-01T00:00:00.000Z\", \"2015-04-01T00:00:00.000Z\", \"2011-01-01T00:00:00.000Z\", \"2011-07-01T00:00:00.000Z\", \"2013-07-01T00:00:00.000Z\", \"2013-10-01T00:00:00.000Z\", \"2016-01-01T00:00:00.000Z\", \"2010-10-01T00:00:00.000Z\"]}, {\"type\": \"bar\", \"name\": \"Firefox Android\", \"y\": [2, 1, 1, 1], \"x\": [\"2014-07-01T00:00:00.000Z\", \"2014-10-01T00:00:00.000Z\", \"2015-04-01T00:00:00.000Z\", \"2015-10-01T00:00:00.000Z\"]}], {\"barmode\": \"stack\"}, {\"showLink\": true, \"linkText\": \"Export to plot.ly\"})});</script>"
      ]
     },
     "metadata": {},
     "output_type": "display_data"
    }
   ],
   "source": [
    "###\n",
    "## GET DATA BY REPO FROM ES AND MERGE AGAINST PROJECTS SPREADSHEET\n",
    "###\n",
    "\n",
    "s = create_search(source='git')\n",
    "\n",
    "# General filters\n",
    "s = add_general_date_filters(s)\n",
    "s = add_bot_filter(s)\n",
    "s = add_merges_filter(s)\n",
    "\n",
    "# Unique count of Commits by Project (max 100 projects)\n",
    "s = s.filter('range', grimoire_creation_date={'gte': initial_date, 'lt': 'now/y'})\n",
    "s.aggs.bucket('repos', 'terms', field='repo_name', size=100000)\\\n",
    "    .bucket('time', 'date_histogram', field='grimoire_creation_date', interval='quarter')\\\n",
    "    .bucket('contributors', 'terms', field='author_uuid', size=1000000)\n",
    "\n",
    "result = s.execute()\n",
    "\n",
    "# Process results to build a DataFrame\n",
    "i = 0\n",
    "repos_evo_df = pandas.DataFrame(columns=['Repo', 'Time', 'uuid'])\n",
    "for repo in result.to_dict()['aggregations']['repos']['buckets']:\n",
    "    for time in repo['time']['buckets']:\n",
    "        for author in time['contributors']['buckets']:\n",
    "            repos_evo_df.loc[len(repos_evo_df)] = [repo['key'], time['key_as_string'], author['key']]\n",
    "            i += 1\n",
    "            if i % 10000 == 0:\n",
    "                print(i, end=', ')\n",
    "\n",
    "merged_evo_df = repos_evo_df.merge(projects['Github'], on='Repo', how='left')\n",
    "\n",
    "# Group By project\n",
    "projects_evo_df = merged_evo_df.groupby(['Project', 'Time']).agg({'uuid': pandas.Series.nunique, \n",
    "                                                         'Repo': pandas.Series.nunique})\n",
    "projects_evo_df = projects_evo_df.sort_values(by='uuid', ascending=0)    \n",
    "\n",
    "# Plot it\n",
    "print_stacked_bar(df=projects_evo_df.reset_index(), time_column='Time', value_column='uuid',\n",
    "                  group_column='Project')"
   ]
  },
  {
   "cell_type": "markdown",
   "metadata": {},
   "source": [
    "**Git authors over time using Spreadsheet Data**"
   ]
  },
  {
   "cell_type": "markdown",
   "metadata": {},
   "source": [
    "#### Bugzilla"
   ]
  },
  {
   "cell_type": "code",
   "execution_count": 23,
   "metadata": {
    "collapsed": false
   },
   "outputs": [
    {
     "name": "stdout",
     "output_type": "stream",
     "text": [
      "q1\n",
      "10000, 20000, 30000, 40000, 50000, 60000, 70000, 80000, 90000, 100000, 110000, 120000, 130000, 140000, 150000, 160000, 170000, 180000, 190000, 200000, 210000, 220000, 230000, 240000, 250000, 260000, 270000, 280000, 290000, 300000, 310000, "
     ]
    },
    {
     "data": {
      "text/html": [
       "<script>requirejs.config({paths: { 'plotly': ['https://cdn.plot.ly/plotly-latest.min']},});if(!window.Plotly) {{require(['plotly'],function(plotly) {window.Plotly=plotly;});}}</script>"
      ],
      "text/vnd.plotly.v1+html": [
       "<script>requirejs.config({paths: { 'plotly': ['https://cdn.plot.ly/plotly-latest.min']},});if(!window.Plotly) {{require(['plotly'],function(plotly) {window.Plotly=plotly;});}}</script>"
      ]
     },
     "metadata": {},
     "output_type": "display_data"
    },
    {
     "data": {
      "application/vnd.plotly.v1+json": {
       "data": [
        {
         "name": "Firefox",
         "type": "bar",
         "x": [
          "2011-01-01T00:00:00.000Z",
          "2010-07-01T00:00:00.000Z",
          "2010-01-01T00:00:00.000Z",
          "2010-10-01T00:00:00.000Z",
          "2011-04-01T00:00:00.000Z",
          "2010-04-01T00:00:00.000Z",
          "2012-01-01T00:00:00.000Z",
          "2014-10-01T00:00:00.000Z",
          "2014-04-01T00:00:00.000Z",
          "2011-07-01T00:00:00.000Z",
          "2012-04-01T00:00:00.000Z",
          "2011-10-01T00:00:00.000Z",
          "2015-01-01T00:00:00.000Z",
          "2013-04-01T00:00:00.000Z",
          "2013-01-01T00:00:00.000Z",
          "2014-07-01T00:00:00.000Z",
          "2012-10-01T00:00:00.000Z",
          "2015-07-01T00:00:00.000Z",
          "2012-07-01T00:00:00.000Z",
          "2013-10-01T00:00:00.000Z",
          "2014-01-01T00:00:00.000Z",
          "2013-07-01T00:00:00.000Z",
          "2015-04-01T00:00:00.000Z",
          "2015-10-01T00:00:00.000Z",
          "2016-01-01T00:00:00.000Z",
          "2016-04-01T00:00:00.000Z",
          "2016-07-01T00:00:00.000Z",
          "2016-10-01T00:00:00.000Z"
         ],
         "y": [
          2878,
          2795,
          2683,
          2070,
          1995,
          1961,
          1583,
          1554,
          1553,
          1544,
          1512,
          1469,
          1443,
          1431,
          1421,
          1402,
          1334,
          1332,
          1308,
          1267,
          1259,
          1250,
          1244,
          1021,
          1010,
          928,
          895,
          854
         ]
        },
        {
         "name": "Gecko",
         "type": "bar",
         "x": [
          "2014-10-01T00:00:00.000Z",
          "2015-07-01T00:00:00.000Z",
          "2016-01-01T00:00:00.000Z",
          "2015-10-01T00:00:00.000Z",
          "2015-04-01T00:00:00.000Z",
          "2014-07-01T00:00:00.000Z",
          "2016-04-01T00:00:00.000Z",
          "2014-04-01T00:00:00.000Z",
          "2015-01-01T00:00:00.000Z",
          "2011-01-01T00:00:00.000Z",
          "2013-07-01T00:00:00.000Z",
          "2013-10-01T00:00:00.000Z",
          "2013-04-01T00:00:00.000Z",
          "2016-07-01T00:00:00.000Z",
          "2010-07-01T00:00:00.000Z",
          "2013-01-01T00:00:00.000Z",
          "2014-01-01T00:00:00.000Z",
          "2016-10-01T00:00:00.000Z",
          "2012-07-01T00:00:00.000Z",
          "2011-04-01T00:00:00.000Z",
          "2012-10-01T00:00:00.000Z",
          "2010-10-01T00:00:00.000Z",
          "2012-01-01T00:00:00.000Z",
          "2012-04-01T00:00:00.000Z",
          "2010-01-01T00:00:00.000Z",
          "2011-07-01T00:00:00.000Z",
          "2011-10-01T00:00:00.000Z",
          "2010-04-01T00:00:00.000Z"
         ],
         "y": [
          1832,
          1813,
          1794,
          1699,
          1683,
          1677,
          1671,
          1668,
          1621,
          1613,
          1580,
          1568,
          1555,
          1548,
          1546,
          1522,
          1516,
          1507,
          1443,
          1387,
          1384,
          1383,
          1377,
          1366,
          1300,
          1241,
          1185,
          1165
         ]
        },
        {
         "name": "Thunderbird",
         "type": "bar",
         "x": [
          "2010-01-01T00:00:00.000Z",
          "2010-07-01T00:00:00.000Z",
          "2010-04-01T00:00:00.000Z",
          "2010-10-01T00:00:00.000Z",
          "2011-07-01T00:00:00.000Z",
          "2012-04-01T00:00:00.000Z",
          "2012-01-01T00:00:00.000Z",
          "2012-10-01T00:00:00.000Z",
          "2011-10-01T00:00:00.000Z",
          "2012-07-01T00:00:00.000Z",
          "2011-01-01T00:00:00.000Z",
          "2015-07-01T00:00:00.000Z",
          "2011-04-01T00:00:00.000Z",
          "2014-07-01T00:00:00.000Z",
          "2016-04-01T00:00:00.000Z",
          "2013-10-01T00:00:00.000Z",
          "2013-01-01T00:00:00.000Z",
          "2015-04-01T00:00:00.000Z",
          "2014-10-01T00:00:00.000Z",
          "2013-07-01T00:00:00.000Z",
          "2015-01-01T00:00:00.000Z",
          "2013-04-01T00:00:00.000Z",
          "2014-01-01T00:00:00.000Z",
          "2015-10-01T00:00:00.000Z",
          "2014-04-01T00:00:00.000Z",
          "2016-01-01T00:00:00.000Z",
          "2016-07-01T00:00:00.000Z",
          "2016-10-01T00:00:00.000Z"
         ],
         "y": [
          1303,
          999,
          918,
          733,
          677,
          636,
          624,
          577,
          569,
          562,
          560,
          545,
          526,
          497,
          475,
          465,
          414,
          411,
          408,
          401,
          394,
          393,
          356,
          345,
          344,
          338,
          330,
          262
         ]
        },
        {
         "name": "Firefox OS (FxOS / B2G)",
         "type": "bar",
         "x": [
          "2014-07-01T00:00:00.000Z",
          "2014-04-01T00:00:00.000Z",
          "2014-10-01T00:00:00.000Z",
          "2014-01-01T00:00:00.000Z",
          "2013-10-01T00:00:00.000Z",
          "2013-07-01T00:00:00.000Z",
          "2015-01-01T00:00:00.000Z",
          "2013-04-01T00:00:00.000Z",
          "2015-04-01T00:00:00.000Z",
          "2015-07-01T00:00:00.000Z",
          "2015-10-01T00:00:00.000Z",
          "2013-01-01T00:00:00.000Z",
          "2012-10-01T00:00:00.000Z",
          "2016-01-01T00:00:00.000Z",
          "2012-07-01T00:00:00.000Z",
          "2012-04-01T00:00:00.000Z",
          "2016-04-01T00:00:00.000Z",
          "2012-01-01T00:00:00.000Z",
          "2016-07-01T00:00:00.000Z",
          "2011-10-01T00:00:00.000Z",
          "2016-10-01T00:00:00.000Z",
          "2011-07-01T00:00:00.000Z"
         ],
         "y": [
          834,
          789,
          728,
          668,
          667,
          626,
          578,
          558,
          524,
          494,
          484,
          452,
          415,
          234,
          191,
          129,
          67,
          42,
          39,
          11,
          11,
          2
         ]
        },
        {
         "name": "IT/Ops",
         "type": "bar",
         "x": [
          "2015-07-01T00:00:00.000Z",
          "2014-04-01T00:00:00.000Z",
          "2014-01-01T00:00:00.000Z",
          "2013-07-01T00:00:00.000Z",
          "2014-07-01T00:00:00.000Z",
          "2015-01-01T00:00:00.000Z",
          "2012-04-01T00:00:00.000Z",
          "2013-10-01T00:00:00.000Z",
          "2016-04-01T00:00:00.000Z",
          "2015-04-01T00:00:00.000Z",
          "2013-04-01T00:00:00.000Z",
          "2014-10-01T00:00:00.000Z",
          "2012-07-01T00:00:00.000Z",
          "2012-10-01T00:00:00.000Z",
          "2013-01-01T00:00:00.000Z",
          "2015-10-01T00:00:00.000Z",
          "2016-01-01T00:00:00.000Z",
          "2012-01-01T00:00:00.000Z",
          "2016-07-01T00:00:00.000Z",
          "2016-10-01T00:00:00.000Z",
          "2011-10-01T00:00:00.000Z",
          "2011-07-01T00:00:00.000Z",
          "2011-04-01T00:00:00.000Z",
          "2010-07-01T00:00:00.000Z",
          "2011-01-01T00:00:00.000Z",
          "2010-04-01T00:00:00.000Z",
          "2010-10-01T00:00:00.000Z",
          "2010-01-01T00:00:00.000Z"
         ],
         "y": [
          522,
          506,
          494,
          491,
          478,
          478,
          464,
          460,
          452,
          447,
          446,
          445,
          436,
          435,
          434,
          426,
          415,
          392,
          376,
          346,
          332,
          329,
          327,
          264,
          253,
          224,
          203,
          182
         ]
        },
        {
         "name": "Web Properties",
         "type": "bar",
         "x": [
          "2014-04-01T00:00:00.000Z",
          "2014-01-01T00:00:00.000Z",
          "2013-04-01T00:00:00.000Z",
          "2012-01-01T00:00:00.000Z",
          "2011-07-01T00:00:00.000Z",
          "2011-04-01T00:00:00.000Z",
          "2011-01-01T00:00:00.000Z",
          "2011-10-01T00:00:00.000Z",
          "2014-10-01T00:00:00.000Z",
          "2013-07-01T00:00:00.000Z",
          "2012-04-01T00:00:00.000Z",
          "2014-07-01T00:00:00.000Z",
          "2013-10-01T00:00:00.000Z",
          "2013-01-01T00:00:00.000Z",
          "2012-07-01T00:00:00.000Z",
          "2010-07-01T00:00:00.000Z",
          "2010-04-01T00:00:00.000Z",
          "2010-01-01T00:00:00.000Z",
          "2010-10-01T00:00:00.000Z",
          "2012-10-01T00:00:00.000Z",
          "2015-01-01T00:00:00.000Z",
          "2015-07-01T00:00:00.000Z",
          "2015-10-01T00:00:00.000Z",
          "2015-04-01T00:00:00.000Z",
          "2016-01-01T00:00:00.000Z",
          "2016-04-01T00:00:00.000Z",
          "2016-07-01T00:00:00.000Z",
          "2016-10-01T00:00:00.000Z"
         ],
         "y": [
          481,
          456,
          440,
          440,
          437,
          419,
          416,
          413,
          411,
          409,
          408,
          407,
          406,
          382,
          380,
          369,
          355,
          337,
          334,
          333,
          331,
          312,
          300,
          298,
          275,
          242,
          223,
          186
         ]
        },
        {
         "name": "Firefox Android",
         "type": "bar",
         "x": [
          "2012-04-01T00:00:00.000Z",
          "2012-07-01T00:00:00.000Z",
          "2013-01-01T00:00:00.000Z",
          "2012-10-01T00:00:00.000Z",
          "2013-07-01T00:00:00.000Z",
          "2013-10-01T00:00:00.000Z",
          "2013-04-01T00:00:00.000Z",
          "2014-10-01T00:00:00.000Z",
          "2014-07-01T00:00:00.000Z",
          "2014-04-01T00:00:00.000Z",
          "2014-01-01T00:00:00.000Z",
          "2015-01-01T00:00:00.000Z",
          "2011-10-01T00:00:00.000Z",
          "2012-01-01T00:00:00.000Z",
          "2015-10-01T00:00:00.000Z",
          "2015-07-01T00:00:00.000Z",
          "2016-01-01T00:00:00.000Z",
          "2016-07-01T00:00:00.000Z",
          "2016-10-01T00:00:00.000Z",
          "2016-04-01T00:00:00.000Z",
          "2011-07-01T00:00:00.000Z",
          "2015-04-01T00:00:00.000Z",
          "2010-10-01T00:00:00.000Z",
          "2011-01-01T00:00:00.000Z",
          "2010-07-01T00:00:00.000Z",
          "2011-04-01T00:00:00.000Z",
          "2010-04-01T00:00:00.000Z",
          "2010-01-01T00:00:00.000Z"
         ],
         "y": [
          338,
          292,
          271,
          264,
          255,
          254,
          251,
          248,
          243,
          232,
          224,
          220,
          218,
          217,
          210,
          209,
          202,
          200,
          196,
          193,
          186,
          177,
          143,
          131,
          101,
          97,
          86,
          74
         ]
        },
        {
         "name": "Mozilla Developer Network (MDN)",
         "type": "bar",
         "x": [
          "2013-10-01T00:00:00.000Z",
          "2016-01-01T00:00:00.000Z",
          "2016-07-01T00:00:00.000Z",
          "2012-07-01T00:00:00.000Z",
          "2016-04-01T00:00:00.000Z",
          "2015-10-01T00:00:00.000Z",
          "2016-10-01T00:00:00.000Z",
          "2013-04-01T00:00:00.000Z",
          "2014-01-01T00:00:00.000Z",
          "2015-07-01T00:00:00.000Z",
          "2012-10-01T00:00:00.000Z",
          "2014-04-01T00:00:00.000Z",
          "2013-01-01T00:00:00.000Z",
          "2014-07-01T00:00:00.000Z",
          "2015-01-01T00:00:00.000Z",
          "2013-07-01T00:00:00.000Z",
          "2015-04-01T00:00:00.000Z",
          "2014-10-01T00:00:00.000Z",
          "2012-01-01T00:00:00.000Z",
          "2012-04-01T00:00:00.000Z",
          "2011-10-01T00:00:00.000Z",
          "2011-04-01T00:00:00.000Z",
          "2011-07-01T00:00:00.000Z",
          "2010-10-01T00:00:00.000Z",
          "2011-01-01T00:00:00.000Z",
          "2010-07-01T00:00:00.000Z",
          "2010-04-01T00:00:00.000Z",
          "2010-01-01T00:00:00.000Z"
         ],
         "y": [
          208,
          194,
          173,
          169,
          168,
          138,
          134,
          126,
          126,
          121,
          115,
          113,
          109,
          107,
          107,
          105,
          99,
          79,
          72,
          61,
          60,
          57,
          45,
          43,
          41,
          32,
          18,
          18
         ]
        },
        {
         "name": "Developer Tools",
         "type": "bar",
         "x": [
          "2015-01-01T00:00:00.000Z",
          "2014-10-01T00:00:00.000Z",
          "2014-07-01T00:00:00.000Z",
          "2015-04-01T00:00:00.000Z",
          "2016-01-01T00:00:00.000Z",
          "2014-04-01T00:00:00.000Z",
          "2016-10-01T00:00:00.000Z",
          "2014-01-01T00:00:00.000Z",
          "2015-07-01T00:00:00.000Z",
          "2013-10-01T00:00:00.000Z",
          "2016-04-01T00:00:00.000Z",
          "2016-07-01T00:00:00.000Z",
          "2015-10-01T00:00:00.000Z",
          "2013-07-01T00:00:00.000Z",
          "2013-04-01T00:00:00.000Z",
          "2013-01-01T00:00:00.000Z",
          "2012-04-01T00:00:00.000Z",
          "2012-07-01T00:00:00.000Z",
          "2012-10-01T00:00:00.000Z",
          "2012-01-01T00:00:00.000Z",
          "2011-10-01T00:00:00.000Z",
          "2011-07-01T00:00:00.000Z",
          "2011-01-01T00:00:00.000Z",
          "2011-04-01T00:00:00.000Z",
          "2010-07-01T00:00:00.000Z",
          "2010-10-01T00:00:00.000Z",
          "2010-04-01T00:00:00.000Z",
          "2010-01-01T00:00:00.000Z"
         ],
         "y": [
          206,
          199,
          199,
          195,
          185,
          180,
          179,
          179,
          165,
          164,
          156,
          151,
          144,
          138,
          131,
          106,
          85,
          81,
          78,
          77,
          49,
          22,
          20,
          19,
          15,
          11,
          2,
          1
         ]
        },
        {
         "name": "Quality Assurance",
         "type": "bar",
         "x": [
          "2014-07-01T00:00:00.000Z",
          "2014-04-01T00:00:00.000Z",
          "2014-10-01T00:00:00.000Z",
          "2014-01-01T00:00:00.000Z",
          "2016-01-01T00:00:00.000Z",
          "2013-10-01T00:00:00.000Z",
          "2013-07-01T00:00:00.000Z",
          "2015-07-01T00:00:00.000Z",
          "2015-10-01T00:00:00.000Z",
          "2015-04-01T00:00:00.000Z",
          "2015-01-01T00:00:00.000Z",
          "2016-04-01T00:00:00.000Z",
          "2013-04-01T00:00:00.000Z",
          "2013-01-01T00:00:00.000Z",
          "2016-07-01T00:00:00.000Z",
          "2012-10-01T00:00:00.000Z",
          "2012-04-01T00:00:00.000Z",
          "2012-07-01T00:00:00.000Z",
          "2016-10-01T00:00:00.000Z",
          "2012-01-01T00:00:00.000Z",
          "2011-07-01T00:00:00.000Z",
          "2011-04-01T00:00:00.000Z",
          "2010-07-01T00:00:00.000Z",
          "2011-10-01T00:00:00.000Z",
          "2011-01-01T00:00:00.000Z",
          "2010-10-01T00:00:00.000Z",
          "2010-04-01T00:00:00.000Z",
          "2010-01-01T00:00:00.000Z"
         ],
         "y": [
          183,
          175,
          157,
          150,
          148,
          146,
          146,
          145,
          145,
          134,
          134,
          132,
          127,
          122,
          118,
          110,
          105,
          104,
          98,
          95,
          89,
          86,
          86,
          75,
          72,
          70,
          69,
          63
         ]
        },
        {
         "name": "Addons/Web Extensions",
         "type": "bar",
         "x": [
          "2011-07-01T00:00:00.000Z",
          "2011-01-01T00:00:00.000Z",
          "2012-01-01T00:00:00.000Z",
          "2015-07-01T00:00:00.000Z",
          "2011-10-01T00:00:00.000Z",
          "2014-04-01T00:00:00.000Z",
          "2011-04-01T00:00:00.000Z",
          "2013-04-01T00:00:00.000Z",
          "2010-01-01T00:00:00.000Z",
          "2013-07-01T00:00:00.000Z",
          "2010-04-01T00:00:00.000Z",
          "2012-07-01T00:00:00.000Z",
          "2012-10-01T00:00:00.000Z",
          "2013-10-01T00:00:00.000Z",
          "2015-04-01T00:00:00.000Z",
          "2014-01-01T00:00:00.000Z",
          "2012-04-01T00:00:00.000Z",
          "2014-07-01T00:00:00.000Z",
          "2013-01-01T00:00:00.000Z",
          "2010-10-01T00:00:00.000Z",
          "2015-10-01T00:00:00.000Z",
          "2010-07-01T00:00:00.000Z",
          "2014-10-01T00:00:00.000Z",
          "2015-01-01T00:00:00.000Z",
          "2016-01-01T00:00:00.000Z",
          "2016-04-01T00:00:00.000Z",
          "2016-07-01T00:00:00.000Z",
          "2016-10-01T00:00:00.000Z"
         ],
         "y": [
          178,
          165,
          159,
          157,
          141,
          139,
          138,
          136,
          133,
          131,
          131,
          128,
          127,
          123,
          122,
          119,
          117,
          117,
          115,
          114,
          113,
          113,
          103,
          100,
          62,
          36,
          33,
          21
         ]
        },
        {
         "name": "Release engineering",
         "type": "bar",
         "x": [
          "2014-10-01T00:00:00.000Z",
          "2014-07-01T00:00:00.000Z",
          "2013-07-01T00:00:00.000Z",
          "2014-01-01T00:00:00.000Z",
          "2014-04-01T00:00:00.000Z",
          "2015-01-01T00:00:00.000Z",
          "2015-07-01T00:00:00.000Z",
          "2016-01-01T00:00:00.000Z",
          "2016-04-01T00:00:00.000Z",
          "2013-01-01T00:00:00.000Z",
          "2015-10-01T00:00:00.000Z",
          "2016-07-01T00:00:00.000Z",
          "2013-10-01T00:00:00.000Z",
          "2015-04-01T00:00:00.000Z",
          "2013-04-01T00:00:00.000Z",
          "2012-04-01T00:00:00.000Z",
          "2012-10-01T00:00:00.000Z",
          "2010-07-01T00:00:00.000Z",
          "2012-01-01T00:00:00.000Z",
          "2011-07-01T00:00:00.000Z",
          "2016-10-01T00:00:00.000Z",
          "2011-10-01T00:00:00.000Z",
          "2011-04-01T00:00:00.000Z",
          "2011-01-01T00:00:00.000Z",
          "2012-07-01T00:00:00.000Z",
          "2010-10-01T00:00:00.000Z",
          "2010-04-01T00:00:00.000Z",
          "2010-01-01T00:00:00.000Z"
         ],
         "y": [
          152,
          137,
          136,
          136,
          131,
          128,
          128,
          127,
          127,
          123,
          120,
          118,
          118,
          116,
          111,
          110,
          108,
          105,
          104,
          101,
          100,
          99,
          98,
          95,
          91,
          91,
          77,
          65
         ]
        },
        {
         "name": "Technical/Developer Evangelism",
         "type": "bar",
         "x": [
          "2015-01-01T00:00:00.000Z",
          "2014-04-01T00:00:00.000Z",
          "2015-04-01T00:00:00.000Z",
          "2014-01-01T00:00:00.000Z",
          "2014-10-01T00:00:00.000Z",
          "2014-07-01T00:00:00.000Z",
          "2015-07-01T00:00:00.000Z",
          "2013-04-01T00:00:00.000Z",
          "2011-01-01T00:00:00.000Z",
          "2012-04-01T00:00:00.000Z",
          "2012-10-01T00:00:00.000Z",
          "2013-10-01T00:00:00.000Z",
          "2013-07-01T00:00:00.000Z",
          "2012-01-01T00:00:00.000Z",
          "2013-01-01T00:00:00.000Z",
          "2015-10-01T00:00:00.000Z",
          "2012-07-01T00:00:00.000Z",
          "2011-10-01T00:00:00.000Z",
          "2016-07-01T00:00:00.000Z",
          "2016-04-01T00:00:00.000Z",
          "2011-04-01T00:00:00.000Z",
          "2016-01-01T00:00:00.000Z",
          "2011-07-01T00:00:00.000Z",
          "2016-10-01T00:00:00.000Z",
          "2010-07-01T00:00:00.000Z",
          "2010-10-01T00:00:00.000Z",
          "2010-01-01T00:00:00.000Z",
          "2010-04-01T00:00:00.000Z"
         ],
         "y": [
          128,
          117,
          115,
          114,
          107,
          106,
          101,
          96,
          96,
          94,
          93,
          85,
          84,
          80,
          79,
          75,
          72,
          59,
          54,
          52,
          49,
          48,
          46,
          44,
          43,
          41,
          37,
          27
         ]
        },
        {
         "name": "Localization",
         "type": "bar",
         "x": [
          "2014-04-01T00:00:00.000Z",
          "2014-07-01T00:00:00.000Z",
          "2013-10-01T00:00:00.000Z",
          "2013-07-01T00:00:00.000Z",
          "2015-01-01T00:00:00.000Z",
          "2014-01-01T00:00:00.000Z",
          "2011-01-01T00:00:00.000Z",
          "2014-10-01T00:00:00.000Z",
          "2015-04-01T00:00:00.000Z",
          "2015-10-01T00:00:00.000Z",
          "2011-10-01T00:00:00.000Z",
          "2010-10-01T00:00:00.000Z",
          "2015-07-01T00:00:00.000Z",
          "2012-01-01T00:00:00.000Z",
          "2016-04-01T00:00:00.000Z",
          "2013-04-01T00:00:00.000Z",
          "2010-07-01T00:00:00.000Z",
          "2010-01-01T00:00:00.000Z",
          "2011-04-01T00:00:00.000Z",
          "2011-07-01T00:00:00.000Z",
          "2010-04-01T00:00:00.000Z",
          "2016-01-01T00:00:00.000Z",
          "2013-01-01T00:00:00.000Z",
          "2012-04-01T00:00:00.000Z",
          "2012-10-01T00:00:00.000Z",
          "2012-07-01T00:00:00.000Z",
          "2016-07-01T00:00:00.000Z",
          "2016-10-01T00:00:00.000Z"
         ],
         "y": [
          127,
          120,
          116,
          109,
          104,
          96,
          93,
          89,
          86,
          86,
          83,
          83,
          80,
          79,
          72,
          71,
          69,
          69,
          69,
          67,
          67,
          67,
          66,
          65,
          64,
          60,
          50,
          47
         ]
        },
        {
         "name": "Web Literacy",
         "type": "bar",
         "x": [
          "2014-07-01T00:00:00.000Z",
          "2014-04-01T00:00:00.000Z",
          "2013-10-01T00:00:00.000Z",
          "2013-07-01T00:00:00.000Z",
          "2014-01-01T00:00:00.000Z",
          "2014-10-01T00:00:00.000Z",
          "2013-04-01T00:00:00.000Z",
          "2015-01-01T00:00:00.000Z",
          "2015-04-01T00:00:00.000Z",
          "2015-07-01T00:00:00.000Z",
          "2012-04-01T00:00:00.000Z",
          "2013-01-01T00:00:00.000Z",
          "2016-04-01T00:00:00.000Z",
          "2016-10-01T00:00:00.000Z",
          "2012-07-01T00:00:00.000Z",
          "2016-07-01T00:00:00.000Z",
          "2015-10-01T00:00:00.000Z",
          "2012-10-01T00:00:00.000Z",
          "2016-01-01T00:00:00.000Z"
         ],
         "y": [
          111,
          98,
          85,
          75,
          74,
          73,
          68,
          29,
          24,
          21,
          19,
          18,
          8,
          8,
          6,
          6,
          6,
          5,
          5
         ]
        },
        {
         "name": "Firefox iOS",
         "type": "bar",
         "x": [
          "2016-01-01T00:00:00.000Z",
          "2015-10-01T00:00:00.000Z",
          "2015-07-01T00:00:00.000Z",
          "2016-07-01T00:00:00.000Z",
          "2016-04-01T00:00:00.000Z",
          "2015-04-01T00:00:00.000Z",
          "2016-10-01T00:00:00.000Z",
          "2015-01-01T00:00:00.000Z",
          "2014-10-01T00:00:00.000Z"
         ],
         "y": [
          72,
          72,
          60,
          51,
          48,
          48,
          42,
          36,
          11
         ]
        },
        {
         "name": "Marketing / Social Media",
         "type": "bar",
         "x": [
          "2012-01-01T00:00:00.000Z",
          "2011-10-01T00:00:00.000Z",
          "2014-04-01T00:00:00.000Z",
          "2012-07-01T00:00:00.000Z",
          "2014-07-01T00:00:00.000Z",
          "2012-04-01T00:00:00.000Z",
          "2011-07-01T00:00:00.000Z",
          "2012-10-01T00:00:00.000Z",
          "2015-01-01T00:00:00.000Z",
          "2011-04-01T00:00:00.000Z",
          "2014-10-01T00:00:00.000Z",
          "2013-10-01T00:00:00.000Z",
          "2014-01-01T00:00:00.000Z",
          "2013-07-01T00:00:00.000Z",
          "2015-07-01T00:00:00.000Z",
          "2015-10-01T00:00:00.000Z",
          "2013-04-01T00:00:00.000Z",
          "2016-10-01T00:00:00.000Z",
          "2013-01-01T00:00:00.000Z",
          "2011-01-01T00:00:00.000Z",
          "2015-04-01T00:00:00.000Z",
          "2016-01-01T00:00:00.000Z",
          "2016-04-01T00:00:00.000Z",
          "2016-07-01T00:00:00.000Z",
          "2010-10-01T00:00:00.000Z",
          "2010-01-01T00:00:00.000Z",
          "2010-07-01T00:00:00.000Z",
          "2010-04-01T00:00:00.000Z"
         ],
         "y": [
          55,
          50,
          42,
          41,
          40,
          37,
          36,
          36,
          34,
          33,
          32,
          32,
          30,
          29,
          29,
          27,
          27,
          24,
          23,
          23,
          23,
          20,
          9,
          9,
          8,
          5,
          4,
          3
         ]
        },
        {
         "name": "Mozilla Local/Regional communities",
         "type": "bar",
         "x": [
          "2014-10-01T00:00:00.000Z",
          "2014-07-01T00:00:00.000Z",
          "2015-01-01T00:00:00.000Z",
          "2014-01-01T00:00:00.000Z",
          "2014-04-01T00:00:00.000Z",
          "2012-07-01T00:00:00.000Z",
          "2013-10-01T00:00:00.000Z",
          "2013-07-01T00:00:00.000Z",
          "2013-04-01T00:00:00.000Z",
          "2013-01-01T00:00:00.000Z",
          "2012-04-01T00:00:00.000Z",
          "2012-01-01T00:00:00.000Z",
          "2015-04-01T00:00:00.000Z",
          "2012-10-01T00:00:00.000Z",
          "2015-07-01T00:00:00.000Z",
          "2016-07-01T00:00:00.000Z",
          "2015-10-01T00:00:00.000Z",
          "2016-04-01T00:00:00.000Z",
          "2016-01-01T00:00:00.000Z",
          "2016-10-01T00:00:00.000Z",
          "2010-01-01T00:00:00.000Z",
          "2011-04-01T00:00:00.000Z",
          "2011-07-01T00:00:00.000Z",
          "2011-10-01T00:00:00.000Z",
          "2011-01-01T00:00:00.000Z",
          "2010-07-01T00:00:00.000Z",
          "2010-10-01T00:00:00.000Z",
          "2010-04-01T00:00:00.000Z"
         ],
         "y": [
          51,
          44,
          43,
          42,
          40,
          35,
          31,
          31,
          28,
          25,
          25,
          24,
          21,
          21,
          15,
          11,
          9,
          9,
          8,
          8,
          5,
          4,
          3,
          2,
          2,
          2,
          1,
          1
         ]
        },
        {
         "name": "Mozilla Creative & Design",
         "type": "bar",
         "x": [
          "2014-04-01T00:00:00.000Z",
          "2014-07-01T00:00:00.000Z",
          "2014-01-01T00:00:00.000Z",
          "2012-01-01T00:00:00.000Z",
          "2013-10-01T00:00:00.000Z",
          "2013-07-01T00:00:00.000Z",
          "2011-10-01T00:00:00.000Z",
          "2012-04-01T00:00:00.000Z",
          "2015-01-01T00:00:00.000Z",
          "2015-04-01T00:00:00.000Z",
          "2014-10-01T00:00:00.000Z",
          "2012-10-01T00:00:00.000Z",
          "2011-07-01T00:00:00.000Z",
          "2015-07-01T00:00:00.000Z",
          "2012-07-01T00:00:00.000Z",
          "2013-01-01T00:00:00.000Z",
          "2011-01-01T00:00:00.000Z",
          "2015-10-01T00:00:00.000Z",
          "2011-04-01T00:00:00.000Z",
          "2013-04-01T00:00:00.000Z",
          "2010-10-01T00:00:00.000Z",
          "2010-07-01T00:00:00.000Z",
          "2016-01-01T00:00:00.000Z",
          "2016-04-01T00:00:00.000Z",
          "2016-07-01T00:00:00.000Z",
          "2010-04-01T00:00:00.000Z",
          "2016-10-01T00:00:00.000Z"
         ],
         "y": [
          50,
          45,
          43,
          41,
          39,
          39,
          37,
          35,
          33,
          33,
          32,
          32,
          30,
          30,
          29,
          29,
          29,
          26,
          26,
          23,
          15,
          14,
          8,
          6,
          5,
          3,
          3
         ]
        },
        {
         "name": "Mozilla Foundation",
         "type": "bar",
         "x": [
          "2014-10-01T00:00:00.000Z",
          "2014-04-01T00:00:00.000Z",
          "2014-07-01T00:00:00.000Z",
          "2015-01-01T00:00:00.000Z",
          "2016-07-01T00:00:00.000Z",
          "2014-01-01T00:00:00.000Z",
          "2013-04-01T00:00:00.000Z",
          "2013-10-01T00:00:00.000Z",
          "2013-07-01T00:00:00.000Z",
          "2016-01-01T00:00:00.000Z",
          "2015-10-01T00:00:00.000Z",
          "2016-10-01T00:00:00.000Z",
          "2015-04-01T00:00:00.000Z",
          "2015-07-01T00:00:00.000Z"
         ],
         "y": [
          27,
          15,
          14,
          11,
          6,
          6,
          5,
          4,
          4,
          3,
          3,
          2,
          2,
          1
         ]
        },
        {
         "name": "Firefox Focus",
         "type": "bar",
         "x": [
          "2016-10-01T00:00:00.000Z",
          "2016-01-01T00:00:00.000Z",
          "2016-07-01T00:00:00.000Z",
          "2015-10-01T00:00:00.000Z",
          "2016-04-01T00:00:00.000Z"
         ],
         "y": [
          14,
          3,
          3,
          1,
          1
         ]
        },
        {
         "name": "Mozilla support (SUMO)",
         "type": "bar",
         "x": [
          "2010-07-01T00:00:00.000Z",
          "2011-01-01T00:00:00.000Z",
          "2011-07-01T00:00:00.000Z",
          "2010-10-01T00:00:00.000Z",
          "2010-01-01T00:00:00.000Z",
          "2011-04-01T00:00:00.000Z",
          "2012-04-01T00:00:00.000Z",
          "2011-10-01T00:00:00.000Z",
          "2010-04-01T00:00:00.000Z",
          "2014-01-01T00:00:00.000Z",
          "2016-10-01T00:00:00.000Z",
          "2012-07-01T00:00:00.000Z",
          "2012-01-01T00:00:00.000Z",
          "2012-10-01T00:00:00.000Z",
          "2015-10-01T00:00:00.000Z",
          "2013-04-01T00:00:00.000Z",
          "2014-10-01T00:00:00.000Z",
          "2014-07-01T00:00:00.000Z",
          "2014-04-01T00:00:00.000Z",
          "2013-07-01T00:00:00.000Z",
          "2013-01-01T00:00:00.000Z",
          "2016-04-01T00:00:00.000Z"
         ],
         "y": [
          14,
          13,
          12,
          12,
          12,
          10,
          9,
          9,
          8,
          7,
          5,
          5,
          3,
          2,
          2,
          1,
          1,
          1,
          1,
          1,
          1,
          1
         ]
        },
        {
         "name": "Connected devices & IoT",
         "type": "bar",
         "x": [
          "2016-04-01T00:00:00.000Z",
          "2016-07-01T00:00:00.000Z",
          "2016-01-01T00:00:00.000Z",
          "2016-10-01T00:00:00.000Z"
         ],
         "y": [
          8,
          4,
          2,
          2
         ]
        },
        {
         "name": "Web Compatibility",
         "type": "bar",
         "x": [
          "2016-10-01T00:00:00.000Z",
          "2016-07-01T00:00:00.000Z",
          "2014-04-01T00:00:00.000Z"
         ],
         "y": [
          6,
          4,
          1
         ]
        },
        {
         "name": "Advocacy and policy",
         "type": "bar",
         "x": [
          "2013-10-01T00:00:00.000Z",
          "2014-10-01T00:00:00.000Z",
          "2013-04-01T00:00:00.000Z",
          "2014-04-01T00:00:00.000Z",
          "2016-04-01T00:00:00.000Z",
          "2015-04-01T00:00:00.000Z"
         ],
         "y": [
          4,
          2,
          2,
          2,
          2,
          1
         ]
        },
        {
         "name": "Rust",
         "type": "bar",
         "x": [
          "2010-01-01T00:00:00.000Z",
          "2010-04-01T00:00:00.000Z"
         ],
         "y": [
          4,
          2
         ]
        },
        {
         "name": "Firefox Student Ambassadors",
         "type": "bar",
         "x": [
          "2015-07-01T00:00:00.000Z"
         ],
         "y": [
          1
         ]
        }
       ],
       "layout": {
        "barmode": "stack"
       }
      },
      "text/html": [
       "<div id=\"e0dbc640-ce8b-4593-938a-4f8272b3025f\" style=\"height: 525px; width: 100%;\" class=\"plotly-graph-div\"></div><script type=\"text/javascript\">require([\"plotly\"], function(Plotly) { window.PLOTLYENV=window.PLOTLYENV || {};window.PLOTLYENV.BASE_URL=\"https://plot.ly\";Plotly.newPlot(\"e0dbc640-ce8b-4593-938a-4f8272b3025f\", [{\"type\": \"bar\", \"name\": \"Firefox\", \"y\": [2878, 2795, 2683, 2070, 1995, 1961, 1583, 1554, 1553, 1544, 1512, 1469, 1443, 1431, 1421, 1402, 1334, 1332, 1308, 1267, 1259, 1250, 1244, 1021, 1010, 928, 895, 854], \"x\": [\"2011-01-01T00:00:00.000Z\", \"2010-07-01T00:00:00.000Z\", \"2010-01-01T00:00:00.000Z\", \"2010-10-01T00:00:00.000Z\", \"2011-04-01T00:00:00.000Z\", \"2010-04-01T00:00:00.000Z\", \"2012-01-01T00:00:00.000Z\", \"2014-10-01T00:00:00.000Z\", \"2014-04-01T00:00:00.000Z\", \"2011-07-01T00:00:00.000Z\", \"2012-04-01T00:00:00.000Z\", \"2011-10-01T00:00:00.000Z\", \"2015-01-01T00:00:00.000Z\", \"2013-04-01T00:00:00.000Z\", \"2013-01-01T00:00:00.000Z\", \"2014-07-01T00:00:00.000Z\", \"2012-10-01T00:00:00.000Z\", \"2015-07-01T00:00:00.000Z\", \"2012-07-01T00:00:00.000Z\", \"2013-10-01T00:00:00.000Z\", \"2014-01-01T00:00:00.000Z\", \"2013-07-01T00:00:00.000Z\", \"2015-04-01T00:00:00.000Z\", \"2015-10-01T00:00:00.000Z\", \"2016-01-01T00:00:00.000Z\", \"2016-04-01T00:00:00.000Z\", \"2016-07-01T00:00:00.000Z\", \"2016-10-01T00:00:00.000Z\"]}, {\"type\": \"bar\", \"name\": \"Gecko\", \"y\": [1832, 1813, 1794, 1699, 1683, 1677, 1671, 1668, 1621, 1613, 1580, 1568, 1555, 1548, 1546, 1522, 1516, 1507, 1443, 1387, 1384, 1383, 1377, 1366, 1300, 1241, 1185, 1165], \"x\": [\"2014-10-01T00:00:00.000Z\", \"2015-07-01T00:00:00.000Z\", \"2016-01-01T00:00:00.000Z\", \"2015-10-01T00:00:00.000Z\", \"2015-04-01T00:00:00.000Z\", \"2014-07-01T00:00:00.000Z\", \"2016-04-01T00:00:00.000Z\", \"2014-04-01T00:00:00.000Z\", \"2015-01-01T00:00:00.000Z\", \"2011-01-01T00:00:00.000Z\", \"2013-07-01T00:00:00.000Z\", \"2013-10-01T00:00:00.000Z\", \"2013-04-01T00:00:00.000Z\", \"2016-07-01T00:00:00.000Z\", \"2010-07-01T00:00:00.000Z\", \"2013-01-01T00:00:00.000Z\", \"2014-01-01T00:00:00.000Z\", \"2016-10-01T00:00:00.000Z\", \"2012-07-01T00:00:00.000Z\", \"2011-04-01T00:00:00.000Z\", \"2012-10-01T00:00:00.000Z\", \"2010-10-01T00:00:00.000Z\", \"2012-01-01T00:00:00.000Z\", \"2012-04-01T00:00:00.000Z\", \"2010-01-01T00:00:00.000Z\", \"2011-07-01T00:00:00.000Z\", \"2011-10-01T00:00:00.000Z\", \"2010-04-01T00:00:00.000Z\"]}, {\"type\": \"bar\", \"name\": \"Thunderbird\", \"y\": [1303, 999, 918, 733, 677, 636, 624, 577, 569, 562, 560, 545, 526, 497, 475, 465, 414, 411, 408, 401, 394, 393, 356, 345, 344, 338, 330, 262], \"x\": [\"2010-01-01T00:00:00.000Z\", \"2010-07-01T00:00:00.000Z\", \"2010-04-01T00:00:00.000Z\", \"2010-10-01T00:00:00.000Z\", \"2011-07-01T00:00:00.000Z\", \"2012-04-01T00:00:00.000Z\", \"2012-01-01T00:00:00.000Z\", \"2012-10-01T00:00:00.000Z\", \"2011-10-01T00:00:00.000Z\", \"2012-07-01T00:00:00.000Z\", \"2011-01-01T00:00:00.000Z\", \"2015-07-01T00:00:00.000Z\", \"2011-04-01T00:00:00.000Z\", \"2014-07-01T00:00:00.000Z\", \"2016-04-01T00:00:00.000Z\", \"2013-10-01T00:00:00.000Z\", \"2013-01-01T00:00:00.000Z\", \"2015-04-01T00:00:00.000Z\", \"2014-10-01T00:00:00.000Z\", \"2013-07-01T00:00:00.000Z\", \"2015-01-01T00:00:00.000Z\", \"2013-04-01T00:00:00.000Z\", \"2014-01-01T00:00:00.000Z\", \"2015-10-01T00:00:00.000Z\", \"2014-04-01T00:00:00.000Z\", \"2016-01-01T00:00:00.000Z\", \"2016-07-01T00:00:00.000Z\", \"2016-10-01T00:00:00.000Z\"]}, {\"type\": \"bar\", \"name\": \"Firefox OS (FxOS / B2G)\", \"y\": [834, 789, 728, 668, 667, 626, 578, 558, 524, 494, 484, 452, 415, 234, 191, 129, 67, 42, 39, 11, 11, 2], \"x\": [\"2014-07-01T00:00:00.000Z\", \"2014-04-01T00:00:00.000Z\", \"2014-10-01T00:00:00.000Z\", \"2014-01-01T00:00:00.000Z\", \"2013-10-01T00:00:00.000Z\", \"2013-07-01T00:00:00.000Z\", \"2015-01-01T00:00:00.000Z\", \"2013-04-01T00:00:00.000Z\", \"2015-04-01T00:00:00.000Z\", \"2015-07-01T00:00:00.000Z\", \"2015-10-01T00:00:00.000Z\", \"2013-01-01T00:00:00.000Z\", \"2012-10-01T00:00:00.000Z\", \"2016-01-01T00:00:00.000Z\", \"2012-07-01T00:00:00.000Z\", \"2012-04-01T00:00:00.000Z\", \"2016-04-01T00:00:00.000Z\", \"2012-01-01T00:00:00.000Z\", \"2016-07-01T00:00:00.000Z\", \"2011-10-01T00:00:00.000Z\", \"2016-10-01T00:00:00.000Z\", \"2011-07-01T00:00:00.000Z\"]}, {\"type\": \"bar\", \"name\": \"IT/Ops\", \"y\": [522, 506, 494, 491, 478, 478, 464, 460, 452, 447, 446, 445, 436, 435, 434, 426, 415, 392, 376, 346, 332, 329, 327, 264, 253, 224, 203, 182], \"x\": [\"2015-07-01T00:00:00.000Z\", \"2014-04-01T00:00:00.000Z\", \"2014-01-01T00:00:00.000Z\", \"2013-07-01T00:00:00.000Z\", \"2014-07-01T00:00:00.000Z\", \"2015-01-01T00:00:00.000Z\", \"2012-04-01T00:00:00.000Z\", \"2013-10-01T00:00:00.000Z\", \"2016-04-01T00:00:00.000Z\", \"2015-04-01T00:00:00.000Z\", \"2013-04-01T00:00:00.000Z\", \"2014-10-01T00:00:00.000Z\", \"2012-07-01T00:00:00.000Z\", \"2012-10-01T00:00:00.000Z\", \"2013-01-01T00:00:00.000Z\", \"2015-10-01T00:00:00.000Z\", \"2016-01-01T00:00:00.000Z\", \"2012-01-01T00:00:00.000Z\", \"2016-07-01T00:00:00.000Z\", \"2016-10-01T00:00:00.000Z\", \"2011-10-01T00:00:00.000Z\", \"2011-07-01T00:00:00.000Z\", \"2011-04-01T00:00:00.000Z\", \"2010-07-01T00:00:00.000Z\", \"2011-01-01T00:00:00.000Z\", \"2010-04-01T00:00:00.000Z\", \"2010-10-01T00:00:00.000Z\", \"2010-01-01T00:00:00.000Z\"]}, {\"type\": \"bar\", \"name\": \"Web Properties\", \"y\": [481, 456, 440, 440, 437, 419, 416, 413, 411, 409, 408, 407, 406, 382, 380, 369, 355, 337, 334, 333, 331, 312, 300, 298, 275, 242, 223, 186], \"x\": [\"2014-04-01T00:00:00.000Z\", \"2014-01-01T00:00:00.000Z\", \"2013-04-01T00:00:00.000Z\", \"2012-01-01T00:00:00.000Z\", \"2011-07-01T00:00:00.000Z\", \"2011-04-01T00:00:00.000Z\", \"2011-01-01T00:00:00.000Z\", \"2011-10-01T00:00:00.000Z\", \"2014-10-01T00:00:00.000Z\", \"2013-07-01T00:00:00.000Z\", \"2012-04-01T00:00:00.000Z\", \"2014-07-01T00:00:00.000Z\", \"2013-10-01T00:00:00.000Z\", \"2013-01-01T00:00:00.000Z\", \"2012-07-01T00:00:00.000Z\", \"2010-07-01T00:00:00.000Z\", \"2010-04-01T00:00:00.000Z\", \"2010-01-01T00:00:00.000Z\", \"2010-10-01T00:00:00.000Z\", \"2012-10-01T00:00:00.000Z\", \"2015-01-01T00:00:00.000Z\", \"2015-07-01T00:00:00.000Z\", \"2015-10-01T00:00:00.000Z\", \"2015-04-01T00:00:00.000Z\", \"2016-01-01T00:00:00.000Z\", \"2016-04-01T00:00:00.000Z\", \"2016-07-01T00:00:00.000Z\", \"2016-10-01T00:00:00.000Z\"]}, {\"type\": \"bar\", \"name\": \"Firefox Android\", \"y\": [338, 292, 271, 264, 255, 254, 251, 248, 243, 232, 224, 220, 218, 217, 210, 209, 202, 200, 196, 193, 186, 177, 143, 131, 101, 97, 86, 74], \"x\": [\"2012-04-01T00:00:00.000Z\", \"2012-07-01T00:00:00.000Z\", \"2013-01-01T00:00:00.000Z\", \"2012-10-01T00:00:00.000Z\", \"2013-07-01T00:00:00.000Z\", \"2013-10-01T00:00:00.000Z\", \"2013-04-01T00:00:00.000Z\", \"2014-10-01T00:00:00.000Z\", \"2014-07-01T00:00:00.000Z\", \"2014-04-01T00:00:00.000Z\", \"2014-01-01T00:00:00.000Z\", \"2015-01-01T00:00:00.000Z\", \"2011-10-01T00:00:00.000Z\", \"2012-01-01T00:00:00.000Z\", \"2015-10-01T00:00:00.000Z\", \"2015-07-01T00:00:00.000Z\", \"2016-01-01T00:00:00.000Z\", \"2016-07-01T00:00:00.000Z\", \"2016-10-01T00:00:00.000Z\", \"2016-04-01T00:00:00.000Z\", \"2011-07-01T00:00:00.000Z\", \"2015-04-01T00:00:00.000Z\", \"2010-10-01T00:00:00.000Z\", \"2011-01-01T00:00:00.000Z\", \"2010-07-01T00:00:00.000Z\", \"2011-04-01T00:00:00.000Z\", \"2010-04-01T00:00:00.000Z\", \"2010-01-01T00:00:00.000Z\"]}, {\"type\": \"bar\", \"name\": \"Mozilla Developer Network (MDN)\", \"y\": [208, 194, 173, 169, 168, 138, 134, 126, 126, 121, 115, 113, 109, 107, 107, 105, 99, 79, 72, 61, 60, 57, 45, 43, 41, 32, 18, 18], \"x\": [\"2013-10-01T00:00:00.000Z\", \"2016-01-01T00:00:00.000Z\", \"2016-07-01T00:00:00.000Z\", \"2012-07-01T00:00:00.000Z\", \"2016-04-01T00:00:00.000Z\", \"2015-10-01T00:00:00.000Z\", \"2016-10-01T00:00:00.000Z\", \"2013-04-01T00:00:00.000Z\", \"2014-01-01T00:00:00.000Z\", \"2015-07-01T00:00:00.000Z\", \"2012-10-01T00:00:00.000Z\", \"2014-04-01T00:00:00.000Z\", \"2013-01-01T00:00:00.000Z\", \"2014-07-01T00:00:00.000Z\", \"2015-01-01T00:00:00.000Z\", \"2013-07-01T00:00:00.000Z\", \"2015-04-01T00:00:00.000Z\", \"2014-10-01T00:00:00.000Z\", \"2012-01-01T00:00:00.000Z\", \"2012-04-01T00:00:00.000Z\", \"2011-10-01T00:00:00.000Z\", \"2011-04-01T00:00:00.000Z\", \"2011-07-01T00:00:00.000Z\", \"2010-10-01T00:00:00.000Z\", \"2011-01-01T00:00:00.000Z\", \"2010-07-01T00:00:00.000Z\", \"2010-04-01T00:00:00.000Z\", \"2010-01-01T00:00:00.000Z\"]}, {\"type\": \"bar\", \"name\": \"Developer Tools\", \"y\": [206, 199, 199, 195, 185, 180, 179, 179, 165, 164, 156, 151, 144, 138, 131, 106, 85, 81, 78, 77, 49, 22, 20, 19, 15, 11, 2, 1], \"x\": [\"2015-01-01T00:00:00.000Z\", \"2014-10-01T00:00:00.000Z\", \"2014-07-01T00:00:00.000Z\", \"2015-04-01T00:00:00.000Z\", \"2016-01-01T00:00:00.000Z\", \"2014-04-01T00:00:00.000Z\", \"2016-10-01T00:00:00.000Z\", \"2014-01-01T00:00:00.000Z\", \"2015-07-01T00:00:00.000Z\", \"2013-10-01T00:00:00.000Z\", \"2016-04-01T00:00:00.000Z\", \"2016-07-01T00:00:00.000Z\", \"2015-10-01T00:00:00.000Z\", \"2013-07-01T00:00:00.000Z\", \"2013-04-01T00:00:00.000Z\", \"2013-01-01T00:00:00.000Z\", \"2012-04-01T00:00:00.000Z\", \"2012-07-01T00:00:00.000Z\", \"2012-10-01T00:00:00.000Z\", \"2012-01-01T00:00:00.000Z\", \"2011-10-01T00:00:00.000Z\", \"2011-07-01T00:00:00.000Z\", \"2011-01-01T00:00:00.000Z\", \"2011-04-01T00:00:00.000Z\", \"2010-07-01T00:00:00.000Z\", \"2010-10-01T00:00:00.000Z\", \"2010-04-01T00:00:00.000Z\", \"2010-01-01T00:00:00.000Z\"]}, {\"type\": \"bar\", \"name\": \"Quality Assurance\", \"y\": [183, 175, 157, 150, 148, 146, 146, 145, 145, 134, 134, 132, 127, 122, 118, 110, 105, 104, 98, 95, 89, 86, 86, 75, 72, 70, 69, 63], \"x\": [\"2014-07-01T00:00:00.000Z\", \"2014-04-01T00:00:00.000Z\", \"2014-10-01T00:00:00.000Z\", \"2014-01-01T00:00:00.000Z\", \"2016-01-01T00:00:00.000Z\", \"2013-10-01T00:00:00.000Z\", \"2013-07-01T00:00:00.000Z\", \"2015-07-01T00:00:00.000Z\", \"2015-10-01T00:00:00.000Z\", \"2015-04-01T00:00:00.000Z\", \"2015-01-01T00:00:00.000Z\", \"2016-04-01T00:00:00.000Z\", \"2013-04-01T00:00:00.000Z\", \"2013-01-01T00:00:00.000Z\", \"2016-07-01T00:00:00.000Z\", \"2012-10-01T00:00:00.000Z\", \"2012-04-01T00:00:00.000Z\", \"2012-07-01T00:00:00.000Z\", \"2016-10-01T00:00:00.000Z\", \"2012-01-01T00:00:00.000Z\", \"2011-07-01T00:00:00.000Z\", \"2011-04-01T00:00:00.000Z\", \"2010-07-01T00:00:00.000Z\", \"2011-10-01T00:00:00.000Z\", \"2011-01-01T00:00:00.000Z\", \"2010-10-01T00:00:00.000Z\", \"2010-04-01T00:00:00.000Z\", \"2010-01-01T00:00:00.000Z\"]}, {\"type\": \"bar\", \"name\": \"Addons/Web Extensions\", \"y\": [178, 165, 159, 157, 141, 139, 138, 136, 133, 131, 131, 128, 127, 123, 122, 119, 117, 117, 115, 114, 113, 113, 103, 100, 62, 36, 33, 21], \"x\": [\"2011-07-01T00:00:00.000Z\", \"2011-01-01T00:00:00.000Z\", \"2012-01-01T00:00:00.000Z\", \"2015-07-01T00:00:00.000Z\", \"2011-10-01T00:00:00.000Z\", \"2014-04-01T00:00:00.000Z\", \"2011-04-01T00:00:00.000Z\", \"2013-04-01T00:00:00.000Z\", \"2010-01-01T00:00:00.000Z\", \"2013-07-01T00:00:00.000Z\", \"2010-04-01T00:00:00.000Z\", \"2012-07-01T00:00:00.000Z\", \"2012-10-01T00:00:00.000Z\", \"2013-10-01T00:00:00.000Z\", \"2015-04-01T00:00:00.000Z\", \"2014-01-01T00:00:00.000Z\", \"2012-04-01T00:00:00.000Z\", \"2014-07-01T00:00:00.000Z\", \"2013-01-01T00:00:00.000Z\", \"2010-10-01T00:00:00.000Z\", \"2015-10-01T00:00:00.000Z\", \"2010-07-01T00:00:00.000Z\", \"2014-10-01T00:00:00.000Z\", \"2015-01-01T00:00:00.000Z\", \"2016-01-01T00:00:00.000Z\", \"2016-04-01T00:00:00.000Z\", \"2016-07-01T00:00:00.000Z\", \"2016-10-01T00:00:00.000Z\"]}, {\"type\": \"bar\", \"name\": \"Release engineering\", \"y\": [152, 137, 136, 136, 131, 128, 128, 127, 127, 123, 120, 118, 118, 116, 111, 110, 108, 105, 104, 101, 100, 99, 98, 95, 91, 91, 77, 65], \"x\": [\"2014-10-01T00:00:00.000Z\", \"2014-07-01T00:00:00.000Z\", \"2013-07-01T00:00:00.000Z\", \"2014-01-01T00:00:00.000Z\", \"2014-04-01T00:00:00.000Z\", \"2015-01-01T00:00:00.000Z\", \"2015-07-01T00:00:00.000Z\", \"2016-01-01T00:00:00.000Z\", \"2016-04-01T00:00:00.000Z\", \"2013-01-01T00:00:00.000Z\", \"2015-10-01T00:00:00.000Z\", \"2016-07-01T00:00:00.000Z\", \"2013-10-01T00:00:00.000Z\", \"2015-04-01T00:00:00.000Z\", \"2013-04-01T00:00:00.000Z\", \"2012-04-01T00:00:00.000Z\", \"2012-10-01T00:00:00.000Z\", \"2010-07-01T00:00:00.000Z\", \"2012-01-01T00:00:00.000Z\", \"2011-07-01T00:00:00.000Z\", \"2016-10-01T00:00:00.000Z\", \"2011-10-01T00:00:00.000Z\", \"2011-04-01T00:00:00.000Z\", \"2011-01-01T00:00:00.000Z\", \"2012-07-01T00:00:00.000Z\", \"2010-10-01T00:00:00.000Z\", \"2010-04-01T00:00:00.000Z\", \"2010-01-01T00:00:00.000Z\"]}, {\"type\": \"bar\", \"name\": \"Technical/Developer Evangelism\", \"y\": [128, 117, 115, 114, 107, 106, 101, 96, 96, 94, 93, 85, 84, 80, 79, 75, 72, 59, 54, 52, 49, 48, 46, 44, 43, 41, 37, 27], \"x\": [\"2015-01-01T00:00:00.000Z\", \"2014-04-01T00:00:00.000Z\", \"2015-04-01T00:00:00.000Z\", \"2014-01-01T00:00:00.000Z\", \"2014-10-01T00:00:00.000Z\", \"2014-07-01T00:00:00.000Z\", \"2015-07-01T00:00:00.000Z\", \"2013-04-01T00:00:00.000Z\", \"2011-01-01T00:00:00.000Z\", \"2012-04-01T00:00:00.000Z\", \"2012-10-01T00:00:00.000Z\", \"2013-10-01T00:00:00.000Z\", \"2013-07-01T00:00:00.000Z\", \"2012-01-01T00:00:00.000Z\", \"2013-01-01T00:00:00.000Z\", \"2015-10-01T00:00:00.000Z\", \"2012-07-01T00:00:00.000Z\", \"2011-10-01T00:00:00.000Z\", \"2016-07-01T00:00:00.000Z\", \"2016-04-01T00:00:00.000Z\", \"2011-04-01T00:00:00.000Z\", \"2016-01-01T00:00:00.000Z\", \"2011-07-01T00:00:00.000Z\", \"2016-10-01T00:00:00.000Z\", \"2010-07-01T00:00:00.000Z\", \"2010-10-01T00:00:00.000Z\", \"2010-01-01T00:00:00.000Z\", \"2010-04-01T00:00:00.000Z\"]}, {\"type\": \"bar\", \"name\": \"Localization\", \"y\": [127, 120, 116, 109, 104, 96, 93, 89, 86, 86, 83, 83, 80, 79, 72, 71, 69, 69, 69, 67, 67, 67, 66, 65, 64, 60, 50, 47], \"x\": [\"2014-04-01T00:00:00.000Z\", \"2014-07-01T00:00:00.000Z\", \"2013-10-01T00:00:00.000Z\", \"2013-07-01T00:00:00.000Z\", \"2015-01-01T00:00:00.000Z\", \"2014-01-01T00:00:00.000Z\", \"2011-01-01T00:00:00.000Z\", \"2014-10-01T00:00:00.000Z\", \"2015-04-01T00:00:00.000Z\", \"2015-10-01T00:00:00.000Z\", \"2011-10-01T00:00:00.000Z\", \"2010-10-01T00:00:00.000Z\", \"2015-07-01T00:00:00.000Z\", \"2012-01-01T00:00:00.000Z\", \"2016-04-01T00:00:00.000Z\", \"2013-04-01T00:00:00.000Z\", \"2010-07-01T00:00:00.000Z\", \"2010-01-01T00:00:00.000Z\", \"2011-04-01T00:00:00.000Z\", \"2011-07-01T00:00:00.000Z\", \"2010-04-01T00:00:00.000Z\", \"2016-01-01T00:00:00.000Z\", \"2013-01-01T00:00:00.000Z\", \"2012-04-01T00:00:00.000Z\", \"2012-10-01T00:00:00.000Z\", \"2012-07-01T00:00:00.000Z\", \"2016-07-01T00:00:00.000Z\", \"2016-10-01T00:00:00.000Z\"]}, {\"type\": \"bar\", \"name\": \"Web Literacy\", \"y\": [111, 98, 85, 75, 74, 73, 68, 29, 24, 21, 19, 18, 8, 8, 6, 6, 6, 5, 5], \"x\": [\"2014-07-01T00:00:00.000Z\", \"2014-04-01T00:00:00.000Z\", \"2013-10-01T00:00:00.000Z\", \"2013-07-01T00:00:00.000Z\", \"2014-01-01T00:00:00.000Z\", \"2014-10-01T00:00:00.000Z\", \"2013-04-01T00:00:00.000Z\", \"2015-01-01T00:00:00.000Z\", \"2015-04-01T00:00:00.000Z\", \"2015-07-01T00:00:00.000Z\", \"2012-04-01T00:00:00.000Z\", \"2013-01-01T00:00:00.000Z\", \"2016-04-01T00:00:00.000Z\", \"2016-10-01T00:00:00.000Z\", \"2012-07-01T00:00:00.000Z\", \"2016-07-01T00:00:00.000Z\", \"2015-10-01T00:00:00.000Z\", \"2012-10-01T00:00:00.000Z\", \"2016-01-01T00:00:00.000Z\"]}, {\"type\": \"bar\", \"name\": \"Firefox iOS\", \"y\": [72, 72, 60, 51, 48, 48, 42, 36, 11], \"x\": [\"2016-01-01T00:00:00.000Z\", \"2015-10-01T00:00:00.000Z\", \"2015-07-01T00:00:00.000Z\", \"2016-07-01T00:00:00.000Z\", \"2016-04-01T00:00:00.000Z\", \"2015-04-01T00:00:00.000Z\", \"2016-10-01T00:00:00.000Z\", \"2015-01-01T00:00:00.000Z\", \"2014-10-01T00:00:00.000Z\"]}, {\"type\": \"bar\", \"name\": \"Marketing / Social Media\", \"y\": [55, 50, 42, 41, 40, 37, 36, 36, 34, 33, 32, 32, 30, 29, 29, 27, 27, 24, 23, 23, 23, 20, 9, 9, 8, 5, 4, 3], \"x\": [\"2012-01-01T00:00:00.000Z\", \"2011-10-01T00:00:00.000Z\", \"2014-04-01T00:00:00.000Z\", \"2012-07-01T00:00:00.000Z\", \"2014-07-01T00:00:00.000Z\", \"2012-04-01T00:00:00.000Z\", \"2011-07-01T00:00:00.000Z\", \"2012-10-01T00:00:00.000Z\", \"2015-01-01T00:00:00.000Z\", \"2011-04-01T00:00:00.000Z\", \"2014-10-01T00:00:00.000Z\", \"2013-10-01T00:00:00.000Z\", \"2014-01-01T00:00:00.000Z\", \"2013-07-01T00:00:00.000Z\", \"2015-07-01T00:00:00.000Z\", \"2015-10-01T00:00:00.000Z\", \"2013-04-01T00:00:00.000Z\", \"2016-10-01T00:00:00.000Z\", \"2013-01-01T00:00:00.000Z\", \"2011-01-01T00:00:00.000Z\", \"2015-04-01T00:00:00.000Z\", \"2016-01-01T00:00:00.000Z\", \"2016-04-01T00:00:00.000Z\", \"2016-07-01T00:00:00.000Z\", \"2010-10-01T00:00:00.000Z\", \"2010-01-01T00:00:00.000Z\", \"2010-07-01T00:00:00.000Z\", \"2010-04-01T00:00:00.000Z\"]}, {\"type\": \"bar\", \"name\": \"Mozilla Local/Regional communities\", \"y\": [51, 44, 43, 42, 40, 35, 31, 31, 28, 25, 25, 24, 21, 21, 15, 11, 9, 9, 8, 8, 5, 4, 3, 2, 2, 2, 1, 1], \"x\": [\"2014-10-01T00:00:00.000Z\", \"2014-07-01T00:00:00.000Z\", \"2015-01-01T00:00:00.000Z\", \"2014-01-01T00:00:00.000Z\", \"2014-04-01T00:00:00.000Z\", \"2012-07-01T00:00:00.000Z\", \"2013-10-01T00:00:00.000Z\", \"2013-07-01T00:00:00.000Z\", \"2013-04-01T00:00:00.000Z\", \"2013-01-01T00:00:00.000Z\", \"2012-04-01T00:00:00.000Z\", \"2012-01-01T00:00:00.000Z\", \"2015-04-01T00:00:00.000Z\", \"2012-10-01T00:00:00.000Z\", \"2015-07-01T00:00:00.000Z\", \"2016-07-01T00:00:00.000Z\", \"2015-10-01T00:00:00.000Z\", \"2016-04-01T00:00:00.000Z\", \"2016-01-01T00:00:00.000Z\", \"2016-10-01T00:00:00.000Z\", \"2010-01-01T00:00:00.000Z\", \"2011-04-01T00:00:00.000Z\", \"2011-07-01T00:00:00.000Z\", \"2011-10-01T00:00:00.000Z\", \"2011-01-01T00:00:00.000Z\", \"2010-07-01T00:00:00.000Z\", \"2010-10-01T00:00:00.000Z\", \"2010-04-01T00:00:00.000Z\"]}, {\"type\": \"bar\", \"name\": \"Mozilla Creative & Design\", \"y\": [50, 45, 43, 41, 39, 39, 37, 35, 33, 33, 32, 32, 30, 30, 29, 29, 29, 26, 26, 23, 15, 14, 8, 6, 5, 3, 3], \"x\": [\"2014-04-01T00:00:00.000Z\", \"2014-07-01T00:00:00.000Z\", \"2014-01-01T00:00:00.000Z\", \"2012-01-01T00:00:00.000Z\", \"2013-10-01T00:00:00.000Z\", \"2013-07-01T00:00:00.000Z\", \"2011-10-01T00:00:00.000Z\", \"2012-04-01T00:00:00.000Z\", \"2015-01-01T00:00:00.000Z\", \"2015-04-01T00:00:00.000Z\", \"2014-10-01T00:00:00.000Z\", \"2012-10-01T00:00:00.000Z\", \"2011-07-01T00:00:00.000Z\", \"2015-07-01T00:00:00.000Z\", \"2012-07-01T00:00:00.000Z\", \"2013-01-01T00:00:00.000Z\", \"2011-01-01T00:00:00.000Z\", \"2015-10-01T00:00:00.000Z\", \"2011-04-01T00:00:00.000Z\", \"2013-04-01T00:00:00.000Z\", \"2010-10-01T00:00:00.000Z\", \"2010-07-01T00:00:00.000Z\", \"2016-01-01T00:00:00.000Z\", \"2016-04-01T00:00:00.000Z\", \"2016-07-01T00:00:00.000Z\", \"2010-04-01T00:00:00.000Z\", \"2016-10-01T00:00:00.000Z\"]}, {\"type\": \"bar\", \"name\": \"Mozilla Foundation\", \"y\": [27, 15, 14, 11, 6, 6, 5, 4, 4, 3, 3, 2, 2, 1], \"x\": [\"2014-10-01T00:00:00.000Z\", \"2014-04-01T00:00:00.000Z\", \"2014-07-01T00:00:00.000Z\", \"2015-01-01T00:00:00.000Z\", \"2016-07-01T00:00:00.000Z\", \"2014-01-01T00:00:00.000Z\", \"2013-04-01T00:00:00.000Z\", \"2013-10-01T00:00:00.000Z\", \"2013-07-01T00:00:00.000Z\", \"2016-01-01T00:00:00.000Z\", \"2015-10-01T00:00:00.000Z\", \"2016-10-01T00:00:00.000Z\", \"2015-04-01T00:00:00.000Z\", \"2015-07-01T00:00:00.000Z\"]}, {\"type\": \"bar\", \"name\": \"Firefox Focus\", \"y\": [14, 3, 3, 1, 1], \"x\": [\"2016-10-01T00:00:00.000Z\", \"2016-01-01T00:00:00.000Z\", \"2016-07-01T00:00:00.000Z\", \"2015-10-01T00:00:00.000Z\", \"2016-04-01T00:00:00.000Z\"]}, {\"type\": \"bar\", \"name\": \"Mozilla support (SUMO)\", \"y\": [14, 13, 12, 12, 12, 10, 9, 9, 8, 7, 5, 5, 3, 2, 2, 1, 1, 1, 1, 1, 1, 1], \"x\": [\"2010-07-01T00:00:00.000Z\", \"2011-01-01T00:00:00.000Z\", \"2011-07-01T00:00:00.000Z\", \"2010-10-01T00:00:00.000Z\", \"2010-01-01T00:00:00.000Z\", \"2011-04-01T00:00:00.000Z\", \"2012-04-01T00:00:00.000Z\", \"2011-10-01T00:00:00.000Z\", \"2010-04-01T00:00:00.000Z\", \"2014-01-01T00:00:00.000Z\", \"2016-10-01T00:00:00.000Z\", \"2012-07-01T00:00:00.000Z\", \"2012-01-01T00:00:00.000Z\", \"2012-10-01T00:00:00.000Z\", \"2015-10-01T00:00:00.000Z\", \"2013-04-01T00:00:00.000Z\", \"2014-10-01T00:00:00.000Z\", \"2014-07-01T00:00:00.000Z\", \"2014-04-01T00:00:00.000Z\", \"2013-07-01T00:00:00.000Z\", \"2013-01-01T00:00:00.000Z\", \"2016-04-01T00:00:00.000Z\"]}, {\"type\": \"bar\", \"name\": \"Connected devices & IoT\", \"y\": [8, 4, 2, 2], \"x\": [\"2016-04-01T00:00:00.000Z\", \"2016-07-01T00:00:00.000Z\", \"2016-01-01T00:00:00.000Z\", \"2016-10-01T00:00:00.000Z\"]}, {\"type\": \"bar\", \"name\": \"Web Compatibility\", \"y\": [6, 4, 1], \"x\": [\"2016-10-01T00:00:00.000Z\", \"2016-07-01T00:00:00.000Z\", \"2014-04-01T00:00:00.000Z\"]}, {\"type\": \"bar\", \"name\": \"Advocacy and policy\", \"y\": [4, 2, 2, 2, 2, 1], \"x\": [\"2013-10-01T00:00:00.000Z\", \"2014-10-01T00:00:00.000Z\", \"2013-04-01T00:00:00.000Z\", \"2014-04-01T00:00:00.000Z\", \"2016-04-01T00:00:00.000Z\", \"2015-04-01T00:00:00.000Z\"]}, {\"type\": \"bar\", \"name\": \"Rust\", \"y\": [4, 2], \"x\": [\"2010-01-01T00:00:00.000Z\", \"2010-04-01T00:00:00.000Z\"]}, {\"type\": \"bar\", \"name\": \"Firefox Student Ambassadors\", \"y\": [1], \"x\": [\"2015-07-01T00:00:00.000Z\"]}], {\"barmode\": \"stack\"}, {\"showLink\": true, \"linkText\": \"Export to plot.ly\"})});</script>"
      ],
      "text/vnd.plotly.v1+html": [
       "<div id=\"e0dbc640-ce8b-4593-938a-4f8272b3025f\" style=\"height: 525px; width: 100%;\" class=\"plotly-graph-div\"></div><script type=\"text/javascript\">require([\"plotly\"], function(Plotly) { window.PLOTLYENV=window.PLOTLYENV || {};window.PLOTLYENV.BASE_URL=\"https://plot.ly\";Plotly.newPlot(\"e0dbc640-ce8b-4593-938a-4f8272b3025f\", [{\"type\": \"bar\", \"name\": \"Firefox\", \"y\": [2878, 2795, 2683, 2070, 1995, 1961, 1583, 1554, 1553, 1544, 1512, 1469, 1443, 1431, 1421, 1402, 1334, 1332, 1308, 1267, 1259, 1250, 1244, 1021, 1010, 928, 895, 854], \"x\": [\"2011-01-01T00:00:00.000Z\", \"2010-07-01T00:00:00.000Z\", \"2010-01-01T00:00:00.000Z\", \"2010-10-01T00:00:00.000Z\", \"2011-04-01T00:00:00.000Z\", \"2010-04-01T00:00:00.000Z\", \"2012-01-01T00:00:00.000Z\", \"2014-10-01T00:00:00.000Z\", \"2014-04-01T00:00:00.000Z\", \"2011-07-01T00:00:00.000Z\", \"2012-04-01T00:00:00.000Z\", \"2011-10-01T00:00:00.000Z\", \"2015-01-01T00:00:00.000Z\", \"2013-04-01T00:00:00.000Z\", \"2013-01-01T00:00:00.000Z\", \"2014-07-01T00:00:00.000Z\", \"2012-10-01T00:00:00.000Z\", \"2015-07-01T00:00:00.000Z\", \"2012-07-01T00:00:00.000Z\", \"2013-10-01T00:00:00.000Z\", \"2014-01-01T00:00:00.000Z\", \"2013-07-01T00:00:00.000Z\", \"2015-04-01T00:00:00.000Z\", \"2015-10-01T00:00:00.000Z\", \"2016-01-01T00:00:00.000Z\", \"2016-04-01T00:00:00.000Z\", \"2016-07-01T00:00:00.000Z\", \"2016-10-01T00:00:00.000Z\"]}, {\"type\": \"bar\", \"name\": \"Gecko\", \"y\": [1832, 1813, 1794, 1699, 1683, 1677, 1671, 1668, 1621, 1613, 1580, 1568, 1555, 1548, 1546, 1522, 1516, 1507, 1443, 1387, 1384, 1383, 1377, 1366, 1300, 1241, 1185, 1165], \"x\": [\"2014-10-01T00:00:00.000Z\", \"2015-07-01T00:00:00.000Z\", \"2016-01-01T00:00:00.000Z\", \"2015-10-01T00:00:00.000Z\", \"2015-04-01T00:00:00.000Z\", \"2014-07-01T00:00:00.000Z\", \"2016-04-01T00:00:00.000Z\", \"2014-04-01T00:00:00.000Z\", \"2015-01-01T00:00:00.000Z\", \"2011-01-01T00:00:00.000Z\", \"2013-07-01T00:00:00.000Z\", \"2013-10-01T00:00:00.000Z\", \"2013-04-01T00:00:00.000Z\", \"2016-07-01T00:00:00.000Z\", \"2010-07-01T00:00:00.000Z\", \"2013-01-01T00:00:00.000Z\", \"2014-01-01T00:00:00.000Z\", \"2016-10-01T00:00:00.000Z\", \"2012-07-01T00:00:00.000Z\", \"2011-04-01T00:00:00.000Z\", \"2012-10-01T00:00:00.000Z\", \"2010-10-01T00:00:00.000Z\", \"2012-01-01T00:00:00.000Z\", \"2012-04-01T00:00:00.000Z\", \"2010-01-01T00:00:00.000Z\", \"2011-07-01T00:00:00.000Z\", \"2011-10-01T00:00:00.000Z\", \"2010-04-01T00:00:00.000Z\"]}, {\"type\": \"bar\", \"name\": \"Thunderbird\", \"y\": [1303, 999, 918, 733, 677, 636, 624, 577, 569, 562, 560, 545, 526, 497, 475, 465, 414, 411, 408, 401, 394, 393, 356, 345, 344, 338, 330, 262], \"x\": [\"2010-01-01T00:00:00.000Z\", \"2010-07-01T00:00:00.000Z\", \"2010-04-01T00:00:00.000Z\", \"2010-10-01T00:00:00.000Z\", \"2011-07-01T00:00:00.000Z\", \"2012-04-01T00:00:00.000Z\", \"2012-01-01T00:00:00.000Z\", \"2012-10-01T00:00:00.000Z\", \"2011-10-01T00:00:00.000Z\", \"2012-07-01T00:00:00.000Z\", \"2011-01-01T00:00:00.000Z\", \"2015-07-01T00:00:00.000Z\", \"2011-04-01T00:00:00.000Z\", \"2014-07-01T00:00:00.000Z\", \"2016-04-01T00:00:00.000Z\", \"2013-10-01T00:00:00.000Z\", \"2013-01-01T00:00:00.000Z\", \"2015-04-01T00:00:00.000Z\", \"2014-10-01T00:00:00.000Z\", \"2013-07-01T00:00:00.000Z\", \"2015-01-01T00:00:00.000Z\", \"2013-04-01T00:00:00.000Z\", \"2014-01-01T00:00:00.000Z\", \"2015-10-01T00:00:00.000Z\", \"2014-04-01T00:00:00.000Z\", \"2016-01-01T00:00:00.000Z\", \"2016-07-01T00:00:00.000Z\", \"2016-10-01T00:00:00.000Z\"]}, {\"type\": \"bar\", \"name\": \"Firefox OS (FxOS / B2G)\", \"y\": [834, 789, 728, 668, 667, 626, 578, 558, 524, 494, 484, 452, 415, 234, 191, 129, 67, 42, 39, 11, 11, 2], \"x\": [\"2014-07-01T00:00:00.000Z\", \"2014-04-01T00:00:00.000Z\", \"2014-10-01T00:00:00.000Z\", \"2014-01-01T00:00:00.000Z\", \"2013-10-01T00:00:00.000Z\", \"2013-07-01T00:00:00.000Z\", \"2015-01-01T00:00:00.000Z\", \"2013-04-01T00:00:00.000Z\", \"2015-04-01T00:00:00.000Z\", \"2015-07-01T00:00:00.000Z\", \"2015-10-01T00:00:00.000Z\", \"2013-01-01T00:00:00.000Z\", \"2012-10-01T00:00:00.000Z\", \"2016-01-01T00:00:00.000Z\", \"2012-07-01T00:00:00.000Z\", \"2012-04-01T00:00:00.000Z\", \"2016-04-01T00:00:00.000Z\", \"2012-01-01T00:00:00.000Z\", \"2016-07-01T00:00:00.000Z\", \"2011-10-01T00:00:00.000Z\", \"2016-10-01T00:00:00.000Z\", \"2011-07-01T00:00:00.000Z\"]}, {\"type\": \"bar\", \"name\": \"IT/Ops\", \"y\": [522, 506, 494, 491, 478, 478, 464, 460, 452, 447, 446, 445, 436, 435, 434, 426, 415, 392, 376, 346, 332, 329, 327, 264, 253, 224, 203, 182], \"x\": [\"2015-07-01T00:00:00.000Z\", \"2014-04-01T00:00:00.000Z\", \"2014-01-01T00:00:00.000Z\", \"2013-07-01T00:00:00.000Z\", \"2014-07-01T00:00:00.000Z\", \"2015-01-01T00:00:00.000Z\", \"2012-04-01T00:00:00.000Z\", \"2013-10-01T00:00:00.000Z\", \"2016-04-01T00:00:00.000Z\", \"2015-04-01T00:00:00.000Z\", \"2013-04-01T00:00:00.000Z\", \"2014-10-01T00:00:00.000Z\", \"2012-07-01T00:00:00.000Z\", \"2012-10-01T00:00:00.000Z\", \"2013-01-01T00:00:00.000Z\", \"2015-10-01T00:00:00.000Z\", \"2016-01-01T00:00:00.000Z\", \"2012-01-01T00:00:00.000Z\", \"2016-07-01T00:00:00.000Z\", \"2016-10-01T00:00:00.000Z\", \"2011-10-01T00:00:00.000Z\", \"2011-07-01T00:00:00.000Z\", \"2011-04-01T00:00:00.000Z\", \"2010-07-01T00:00:00.000Z\", \"2011-01-01T00:00:00.000Z\", \"2010-04-01T00:00:00.000Z\", \"2010-10-01T00:00:00.000Z\", \"2010-01-01T00:00:00.000Z\"]}, {\"type\": \"bar\", \"name\": \"Web Properties\", \"y\": [481, 456, 440, 440, 437, 419, 416, 413, 411, 409, 408, 407, 406, 382, 380, 369, 355, 337, 334, 333, 331, 312, 300, 298, 275, 242, 223, 186], \"x\": [\"2014-04-01T00:00:00.000Z\", \"2014-01-01T00:00:00.000Z\", \"2013-04-01T00:00:00.000Z\", \"2012-01-01T00:00:00.000Z\", \"2011-07-01T00:00:00.000Z\", \"2011-04-01T00:00:00.000Z\", \"2011-01-01T00:00:00.000Z\", \"2011-10-01T00:00:00.000Z\", \"2014-10-01T00:00:00.000Z\", \"2013-07-01T00:00:00.000Z\", \"2012-04-01T00:00:00.000Z\", \"2014-07-01T00:00:00.000Z\", \"2013-10-01T00:00:00.000Z\", \"2013-01-01T00:00:00.000Z\", \"2012-07-01T00:00:00.000Z\", \"2010-07-01T00:00:00.000Z\", \"2010-04-01T00:00:00.000Z\", \"2010-01-01T00:00:00.000Z\", \"2010-10-01T00:00:00.000Z\", \"2012-10-01T00:00:00.000Z\", \"2015-01-01T00:00:00.000Z\", \"2015-07-01T00:00:00.000Z\", \"2015-10-01T00:00:00.000Z\", \"2015-04-01T00:00:00.000Z\", \"2016-01-01T00:00:00.000Z\", \"2016-04-01T00:00:00.000Z\", \"2016-07-01T00:00:00.000Z\", \"2016-10-01T00:00:00.000Z\"]}, {\"type\": \"bar\", \"name\": \"Firefox Android\", \"y\": [338, 292, 271, 264, 255, 254, 251, 248, 243, 232, 224, 220, 218, 217, 210, 209, 202, 200, 196, 193, 186, 177, 143, 131, 101, 97, 86, 74], \"x\": [\"2012-04-01T00:00:00.000Z\", \"2012-07-01T00:00:00.000Z\", \"2013-01-01T00:00:00.000Z\", \"2012-10-01T00:00:00.000Z\", \"2013-07-01T00:00:00.000Z\", \"2013-10-01T00:00:00.000Z\", \"2013-04-01T00:00:00.000Z\", \"2014-10-01T00:00:00.000Z\", \"2014-07-01T00:00:00.000Z\", \"2014-04-01T00:00:00.000Z\", \"2014-01-01T00:00:00.000Z\", \"2015-01-01T00:00:00.000Z\", \"2011-10-01T00:00:00.000Z\", \"2012-01-01T00:00:00.000Z\", \"2015-10-01T00:00:00.000Z\", \"2015-07-01T00:00:00.000Z\", \"2016-01-01T00:00:00.000Z\", \"2016-07-01T00:00:00.000Z\", \"2016-10-01T00:00:00.000Z\", \"2016-04-01T00:00:00.000Z\", \"2011-07-01T00:00:00.000Z\", \"2015-04-01T00:00:00.000Z\", \"2010-10-01T00:00:00.000Z\", \"2011-01-01T00:00:00.000Z\", \"2010-07-01T00:00:00.000Z\", \"2011-04-01T00:00:00.000Z\", \"2010-04-01T00:00:00.000Z\", \"2010-01-01T00:00:00.000Z\"]}, {\"type\": \"bar\", \"name\": \"Mozilla Developer Network (MDN)\", \"y\": [208, 194, 173, 169, 168, 138, 134, 126, 126, 121, 115, 113, 109, 107, 107, 105, 99, 79, 72, 61, 60, 57, 45, 43, 41, 32, 18, 18], \"x\": [\"2013-10-01T00:00:00.000Z\", \"2016-01-01T00:00:00.000Z\", \"2016-07-01T00:00:00.000Z\", \"2012-07-01T00:00:00.000Z\", \"2016-04-01T00:00:00.000Z\", \"2015-10-01T00:00:00.000Z\", \"2016-10-01T00:00:00.000Z\", \"2013-04-01T00:00:00.000Z\", \"2014-01-01T00:00:00.000Z\", \"2015-07-01T00:00:00.000Z\", \"2012-10-01T00:00:00.000Z\", \"2014-04-01T00:00:00.000Z\", \"2013-01-01T00:00:00.000Z\", \"2014-07-01T00:00:00.000Z\", \"2015-01-01T00:00:00.000Z\", \"2013-07-01T00:00:00.000Z\", \"2015-04-01T00:00:00.000Z\", \"2014-10-01T00:00:00.000Z\", \"2012-01-01T00:00:00.000Z\", \"2012-04-01T00:00:00.000Z\", \"2011-10-01T00:00:00.000Z\", \"2011-04-01T00:00:00.000Z\", \"2011-07-01T00:00:00.000Z\", \"2010-10-01T00:00:00.000Z\", \"2011-01-01T00:00:00.000Z\", \"2010-07-01T00:00:00.000Z\", \"2010-04-01T00:00:00.000Z\", \"2010-01-01T00:00:00.000Z\"]}, {\"type\": \"bar\", \"name\": \"Developer Tools\", \"y\": [206, 199, 199, 195, 185, 180, 179, 179, 165, 164, 156, 151, 144, 138, 131, 106, 85, 81, 78, 77, 49, 22, 20, 19, 15, 11, 2, 1], \"x\": [\"2015-01-01T00:00:00.000Z\", \"2014-10-01T00:00:00.000Z\", \"2014-07-01T00:00:00.000Z\", \"2015-04-01T00:00:00.000Z\", \"2016-01-01T00:00:00.000Z\", \"2014-04-01T00:00:00.000Z\", \"2016-10-01T00:00:00.000Z\", \"2014-01-01T00:00:00.000Z\", \"2015-07-01T00:00:00.000Z\", \"2013-10-01T00:00:00.000Z\", \"2016-04-01T00:00:00.000Z\", \"2016-07-01T00:00:00.000Z\", \"2015-10-01T00:00:00.000Z\", \"2013-07-01T00:00:00.000Z\", \"2013-04-01T00:00:00.000Z\", \"2013-01-01T00:00:00.000Z\", \"2012-04-01T00:00:00.000Z\", \"2012-07-01T00:00:00.000Z\", \"2012-10-01T00:00:00.000Z\", \"2012-01-01T00:00:00.000Z\", \"2011-10-01T00:00:00.000Z\", \"2011-07-01T00:00:00.000Z\", \"2011-01-01T00:00:00.000Z\", \"2011-04-01T00:00:00.000Z\", \"2010-07-01T00:00:00.000Z\", \"2010-10-01T00:00:00.000Z\", \"2010-04-01T00:00:00.000Z\", \"2010-01-01T00:00:00.000Z\"]}, {\"type\": \"bar\", \"name\": \"Quality Assurance\", \"y\": [183, 175, 157, 150, 148, 146, 146, 145, 145, 134, 134, 132, 127, 122, 118, 110, 105, 104, 98, 95, 89, 86, 86, 75, 72, 70, 69, 63], \"x\": [\"2014-07-01T00:00:00.000Z\", \"2014-04-01T00:00:00.000Z\", \"2014-10-01T00:00:00.000Z\", \"2014-01-01T00:00:00.000Z\", \"2016-01-01T00:00:00.000Z\", \"2013-10-01T00:00:00.000Z\", \"2013-07-01T00:00:00.000Z\", \"2015-07-01T00:00:00.000Z\", \"2015-10-01T00:00:00.000Z\", \"2015-04-01T00:00:00.000Z\", \"2015-01-01T00:00:00.000Z\", \"2016-04-01T00:00:00.000Z\", \"2013-04-01T00:00:00.000Z\", \"2013-01-01T00:00:00.000Z\", \"2016-07-01T00:00:00.000Z\", \"2012-10-01T00:00:00.000Z\", \"2012-04-01T00:00:00.000Z\", \"2012-07-01T00:00:00.000Z\", \"2016-10-01T00:00:00.000Z\", \"2012-01-01T00:00:00.000Z\", \"2011-07-01T00:00:00.000Z\", \"2011-04-01T00:00:00.000Z\", \"2010-07-01T00:00:00.000Z\", \"2011-10-01T00:00:00.000Z\", \"2011-01-01T00:00:00.000Z\", \"2010-10-01T00:00:00.000Z\", \"2010-04-01T00:00:00.000Z\", \"2010-01-01T00:00:00.000Z\"]}, {\"type\": \"bar\", \"name\": \"Addons/Web Extensions\", \"y\": [178, 165, 159, 157, 141, 139, 138, 136, 133, 131, 131, 128, 127, 123, 122, 119, 117, 117, 115, 114, 113, 113, 103, 100, 62, 36, 33, 21], \"x\": [\"2011-07-01T00:00:00.000Z\", \"2011-01-01T00:00:00.000Z\", \"2012-01-01T00:00:00.000Z\", \"2015-07-01T00:00:00.000Z\", \"2011-10-01T00:00:00.000Z\", \"2014-04-01T00:00:00.000Z\", \"2011-04-01T00:00:00.000Z\", \"2013-04-01T00:00:00.000Z\", \"2010-01-01T00:00:00.000Z\", \"2013-07-01T00:00:00.000Z\", \"2010-04-01T00:00:00.000Z\", \"2012-07-01T00:00:00.000Z\", \"2012-10-01T00:00:00.000Z\", \"2013-10-01T00:00:00.000Z\", \"2015-04-01T00:00:00.000Z\", \"2014-01-01T00:00:00.000Z\", \"2012-04-01T00:00:00.000Z\", \"2014-07-01T00:00:00.000Z\", \"2013-01-01T00:00:00.000Z\", \"2010-10-01T00:00:00.000Z\", \"2015-10-01T00:00:00.000Z\", \"2010-07-01T00:00:00.000Z\", \"2014-10-01T00:00:00.000Z\", \"2015-01-01T00:00:00.000Z\", \"2016-01-01T00:00:00.000Z\", \"2016-04-01T00:00:00.000Z\", \"2016-07-01T00:00:00.000Z\", \"2016-10-01T00:00:00.000Z\"]}, {\"type\": \"bar\", \"name\": \"Release engineering\", \"y\": [152, 137, 136, 136, 131, 128, 128, 127, 127, 123, 120, 118, 118, 116, 111, 110, 108, 105, 104, 101, 100, 99, 98, 95, 91, 91, 77, 65], \"x\": [\"2014-10-01T00:00:00.000Z\", \"2014-07-01T00:00:00.000Z\", \"2013-07-01T00:00:00.000Z\", \"2014-01-01T00:00:00.000Z\", \"2014-04-01T00:00:00.000Z\", \"2015-01-01T00:00:00.000Z\", \"2015-07-01T00:00:00.000Z\", \"2016-01-01T00:00:00.000Z\", \"2016-04-01T00:00:00.000Z\", \"2013-01-01T00:00:00.000Z\", \"2015-10-01T00:00:00.000Z\", \"2016-07-01T00:00:00.000Z\", \"2013-10-01T00:00:00.000Z\", \"2015-04-01T00:00:00.000Z\", \"2013-04-01T00:00:00.000Z\", \"2012-04-01T00:00:00.000Z\", \"2012-10-01T00:00:00.000Z\", \"2010-07-01T00:00:00.000Z\", \"2012-01-01T00:00:00.000Z\", \"2011-07-01T00:00:00.000Z\", \"2016-10-01T00:00:00.000Z\", \"2011-10-01T00:00:00.000Z\", \"2011-04-01T00:00:00.000Z\", \"2011-01-01T00:00:00.000Z\", \"2012-07-01T00:00:00.000Z\", \"2010-10-01T00:00:00.000Z\", \"2010-04-01T00:00:00.000Z\", \"2010-01-01T00:00:00.000Z\"]}, {\"type\": \"bar\", \"name\": \"Technical/Developer Evangelism\", \"y\": [128, 117, 115, 114, 107, 106, 101, 96, 96, 94, 93, 85, 84, 80, 79, 75, 72, 59, 54, 52, 49, 48, 46, 44, 43, 41, 37, 27], \"x\": [\"2015-01-01T00:00:00.000Z\", \"2014-04-01T00:00:00.000Z\", \"2015-04-01T00:00:00.000Z\", \"2014-01-01T00:00:00.000Z\", \"2014-10-01T00:00:00.000Z\", \"2014-07-01T00:00:00.000Z\", \"2015-07-01T00:00:00.000Z\", \"2013-04-01T00:00:00.000Z\", \"2011-01-01T00:00:00.000Z\", \"2012-04-01T00:00:00.000Z\", \"2012-10-01T00:00:00.000Z\", \"2013-10-01T00:00:00.000Z\", \"2013-07-01T00:00:00.000Z\", \"2012-01-01T00:00:00.000Z\", \"2013-01-01T00:00:00.000Z\", \"2015-10-01T00:00:00.000Z\", \"2012-07-01T00:00:00.000Z\", \"2011-10-01T00:00:00.000Z\", \"2016-07-01T00:00:00.000Z\", \"2016-04-01T00:00:00.000Z\", \"2011-04-01T00:00:00.000Z\", \"2016-01-01T00:00:00.000Z\", \"2011-07-01T00:00:00.000Z\", \"2016-10-01T00:00:00.000Z\", \"2010-07-01T00:00:00.000Z\", \"2010-10-01T00:00:00.000Z\", \"2010-01-01T00:00:00.000Z\", \"2010-04-01T00:00:00.000Z\"]}, {\"type\": \"bar\", \"name\": \"Localization\", \"y\": [127, 120, 116, 109, 104, 96, 93, 89, 86, 86, 83, 83, 80, 79, 72, 71, 69, 69, 69, 67, 67, 67, 66, 65, 64, 60, 50, 47], \"x\": [\"2014-04-01T00:00:00.000Z\", \"2014-07-01T00:00:00.000Z\", \"2013-10-01T00:00:00.000Z\", \"2013-07-01T00:00:00.000Z\", \"2015-01-01T00:00:00.000Z\", \"2014-01-01T00:00:00.000Z\", \"2011-01-01T00:00:00.000Z\", \"2014-10-01T00:00:00.000Z\", \"2015-04-01T00:00:00.000Z\", \"2015-10-01T00:00:00.000Z\", \"2011-10-01T00:00:00.000Z\", \"2010-10-01T00:00:00.000Z\", \"2015-07-01T00:00:00.000Z\", \"2012-01-01T00:00:00.000Z\", \"2016-04-01T00:00:00.000Z\", \"2013-04-01T00:00:00.000Z\", \"2010-07-01T00:00:00.000Z\", \"2010-01-01T00:00:00.000Z\", \"2011-04-01T00:00:00.000Z\", \"2011-07-01T00:00:00.000Z\", \"2010-04-01T00:00:00.000Z\", \"2016-01-01T00:00:00.000Z\", \"2013-01-01T00:00:00.000Z\", \"2012-04-01T00:00:00.000Z\", \"2012-10-01T00:00:00.000Z\", \"2012-07-01T00:00:00.000Z\", \"2016-07-01T00:00:00.000Z\", \"2016-10-01T00:00:00.000Z\"]}, {\"type\": \"bar\", \"name\": \"Web Literacy\", \"y\": [111, 98, 85, 75, 74, 73, 68, 29, 24, 21, 19, 18, 8, 8, 6, 6, 6, 5, 5], \"x\": [\"2014-07-01T00:00:00.000Z\", \"2014-04-01T00:00:00.000Z\", \"2013-10-01T00:00:00.000Z\", \"2013-07-01T00:00:00.000Z\", \"2014-01-01T00:00:00.000Z\", \"2014-10-01T00:00:00.000Z\", \"2013-04-01T00:00:00.000Z\", \"2015-01-01T00:00:00.000Z\", \"2015-04-01T00:00:00.000Z\", \"2015-07-01T00:00:00.000Z\", \"2012-04-01T00:00:00.000Z\", \"2013-01-01T00:00:00.000Z\", \"2016-04-01T00:00:00.000Z\", \"2016-10-01T00:00:00.000Z\", \"2012-07-01T00:00:00.000Z\", \"2016-07-01T00:00:00.000Z\", \"2015-10-01T00:00:00.000Z\", \"2012-10-01T00:00:00.000Z\", \"2016-01-01T00:00:00.000Z\"]}, {\"type\": \"bar\", \"name\": \"Firefox iOS\", \"y\": [72, 72, 60, 51, 48, 48, 42, 36, 11], \"x\": [\"2016-01-01T00:00:00.000Z\", \"2015-10-01T00:00:00.000Z\", \"2015-07-01T00:00:00.000Z\", \"2016-07-01T00:00:00.000Z\", \"2016-04-01T00:00:00.000Z\", \"2015-04-01T00:00:00.000Z\", \"2016-10-01T00:00:00.000Z\", \"2015-01-01T00:00:00.000Z\", \"2014-10-01T00:00:00.000Z\"]}, {\"type\": \"bar\", \"name\": \"Marketing / Social Media\", \"y\": [55, 50, 42, 41, 40, 37, 36, 36, 34, 33, 32, 32, 30, 29, 29, 27, 27, 24, 23, 23, 23, 20, 9, 9, 8, 5, 4, 3], \"x\": [\"2012-01-01T00:00:00.000Z\", \"2011-10-01T00:00:00.000Z\", \"2014-04-01T00:00:00.000Z\", \"2012-07-01T00:00:00.000Z\", \"2014-07-01T00:00:00.000Z\", \"2012-04-01T00:00:00.000Z\", \"2011-07-01T00:00:00.000Z\", \"2012-10-01T00:00:00.000Z\", \"2015-01-01T00:00:00.000Z\", \"2011-04-01T00:00:00.000Z\", \"2014-10-01T00:00:00.000Z\", \"2013-10-01T00:00:00.000Z\", \"2014-01-01T00:00:00.000Z\", \"2013-07-01T00:00:00.000Z\", \"2015-07-01T00:00:00.000Z\", \"2015-10-01T00:00:00.000Z\", \"2013-04-01T00:00:00.000Z\", \"2016-10-01T00:00:00.000Z\", \"2013-01-01T00:00:00.000Z\", \"2011-01-01T00:00:00.000Z\", \"2015-04-01T00:00:00.000Z\", \"2016-01-01T00:00:00.000Z\", \"2016-04-01T00:00:00.000Z\", \"2016-07-01T00:00:00.000Z\", \"2010-10-01T00:00:00.000Z\", \"2010-01-01T00:00:00.000Z\", \"2010-07-01T00:00:00.000Z\", \"2010-04-01T00:00:00.000Z\"]}, {\"type\": \"bar\", \"name\": \"Mozilla Local/Regional communities\", \"y\": [51, 44, 43, 42, 40, 35, 31, 31, 28, 25, 25, 24, 21, 21, 15, 11, 9, 9, 8, 8, 5, 4, 3, 2, 2, 2, 1, 1], \"x\": [\"2014-10-01T00:00:00.000Z\", \"2014-07-01T00:00:00.000Z\", \"2015-01-01T00:00:00.000Z\", \"2014-01-01T00:00:00.000Z\", \"2014-04-01T00:00:00.000Z\", \"2012-07-01T00:00:00.000Z\", \"2013-10-01T00:00:00.000Z\", \"2013-07-01T00:00:00.000Z\", \"2013-04-01T00:00:00.000Z\", \"2013-01-01T00:00:00.000Z\", \"2012-04-01T00:00:00.000Z\", \"2012-01-01T00:00:00.000Z\", \"2015-04-01T00:00:00.000Z\", \"2012-10-01T00:00:00.000Z\", \"2015-07-01T00:00:00.000Z\", \"2016-07-01T00:00:00.000Z\", \"2015-10-01T00:00:00.000Z\", \"2016-04-01T00:00:00.000Z\", \"2016-01-01T00:00:00.000Z\", \"2016-10-01T00:00:00.000Z\", \"2010-01-01T00:00:00.000Z\", \"2011-04-01T00:00:00.000Z\", \"2011-07-01T00:00:00.000Z\", \"2011-10-01T00:00:00.000Z\", \"2011-01-01T00:00:00.000Z\", \"2010-07-01T00:00:00.000Z\", \"2010-10-01T00:00:00.000Z\", \"2010-04-01T00:00:00.000Z\"]}, {\"type\": \"bar\", \"name\": \"Mozilla Creative & Design\", \"y\": [50, 45, 43, 41, 39, 39, 37, 35, 33, 33, 32, 32, 30, 30, 29, 29, 29, 26, 26, 23, 15, 14, 8, 6, 5, 3, 3], \"x\": [\"2014-04-01T00:00:00.000Z\", \"2014-07-01T00:00:00.000Z\", \"2014-01-01T00:00:00.000Z\", \"2012-01-01T00:00:00.000Z\", \"2013-10-01T00:00:00.000Z\", \"2013-07-01T00:00:00.000Z\", \"2011-10-01T00:00:00.000Z\", \"2012-04-01T00:00:00.000Z\", \"2015-01-01T00:00:00.000Z\", \"2015-04-01T00:00:00.000Z\", \"2014-10-01T00:00:00.000Z\", \"2012-10-01T00:00:00.000Z\", \"2011-07-01T00:00:00.000Z\", \"2015-07-01T00:00:00.000Z\", \"2012-07-01T00:00:00.000Z\", \"2013-01-01T00:00:00.000Z\", \"2011-01-01T00:00:00.000Z\", \"2015-10-01T00:00:00.000Z\", \"2011-04-01T00:00:00.000Z\", \"2013-04-01T00:00:00.000Z\", \"2010-10-01T00:00:00.000Z\", \"2010-07-01T00:00:00.000Z\", \"2016-01-01T00:00:00.000Z\", \"2016-04-01T00:00:00.000Z\", \"2016-07-01T00:00:00.000Z\", \"2010-04-01T00:00:00.000Z\", \"2016-10-01T00:00:00.000Z\"]}, {\"type\": \"bar\", \"name\": \"Mozilla Foundation\", \"y\": [27, 15, 14, 11, 6, 6, 5, 4, 4, 3, 3, 2, 2, 1], \"x\": [\"2014-10-01T00:00:00.000Z\", \"2014-04-01T00:00:00.000Z\", \"2014-07-01T00:00:00.000Z\", \"2015-01-01T00:00:00.000Z\", \"2016-07-01T00:00:00.000Z\", \"2014-01-01T00:00:00.000Z\", \"2013-04-01T00:00:00.000Z\", \"2013-10-01T00:00:00.000Z\", \"2013-07-01T00:00:00.000Z\", \"2016-01-01T00:00:00.000Z\", \"2015-10-01T00:00:00.000Z\", \"2016-10-01T00:00:00.000Z\", \"2015-04-01T00:00:00.000Z\", \"2015-07-01T00:00:00.000Z\"]}, {\"type\": \"bar\", \"name\": \"Firefox Focus\", \"y\": [14, 3, 3, 1, 1], \"x\": [\"2016-10-01T00:00:00.000Z\", \"2016-01-01T00:00:00.000Z\", \"2016-07-01T00:00:00.000Z\", \"2015-10-01T00:00:00.000Z\", \"2016-04-01T00:00:00.000Z\"]}, {\"type\": \"bar\", \"name\": \"Mozilla support (SUMO)\", \"y\": [14, 13, 12, 12, 12, 10, 9, 9, 8, 7, 5, 5, 3, 2, 2, 1, 1, 1, 1, 1, 1, 1], \"x\": [\"2010-07-01T00:00:00.000Z\", \"2011-01-01T00:00:00.000Z\", \"2011-07-01T00:00:00.000Z\", \"2010-10-01T00:00:00.000Z\", \"2010-01-01T00:00:00.000Z\", \"2011-04-01T00:00:00.000Z\", \"2012-04-01T00:00:00.000Z\", \"2011-10-01T00:00:00.000Z\", \"2010-04-01T00:00:00.000Z\", \"2014-01-01T00:00:00.000Z\", \"2016-10-01T00:00:00.000Z\", \"2012-07-01T00:00:00.000Z\", \"2012-01-01T00:00:00.000Z\", \"2012-10-01T00:00:00.000Z\", \"2015-10-01T00:00:00.000Z\", \"2013-04-01T00:00:00.000Z\", \"2014-10-01T00:00:00.000Z\", \"2014-07-01T00:00:00.000Z\", \"2014-04-01T00:00:00.000Z\", \"2013-07-01T00:00:00.000Z\", \"2013-01-01T00:00:00.000Z\", \"2016-04-01T00:00:00.000Z\"]}, {\"type\": \"bar\", \"name\": \"Connected devices & IoT\", \"y\": [8, 4, 2, 2], \"x\": [\"2016-04-01T00:00:00.000Z\", \"2016-07-01T00:00:00.000Z\", \"2016-01-01T00:00:00.000Z\", \"2016-10-01T00:00:00.000Z\"]}, {\"type\": \"bar\", \"name\": \"Web Compatibility\", \"y\": [6, 4, 1], \"x\": [\"2016-10-01T00:00:00.000Z\", \"2016-07-01T00:00:00.000Z\", \"2014-04-01T00:00:00.000Z\"]}, {\"type\": \"bar\", \"name\": \"Advocacy and policy\", \"y\": [4, 2, 2, 2, 2, 1], \"x\": [\"2013-10-01T00:00:00.000Z\", \"2014-10-01T00:00:00.000Z\", \"2013-04-01T00:00:00.000Z\", \"2014-04-01T00:00:00.000Z\", \"2016-04-01T00:00:00.000Z\", \"2015-04-01T00:00:00.000Z\"]}, {\"type\": \"bar\", \"name\": \"Rust\", \"y\": [4, 2], \"x\": [\"2010-01-01T00:00:00.000Z\", \"2010-04-01T00:00:00.000Z\"]}, {\"type\": \"bar\", \"name\": \"Firefox Student Ambassadors\", \"y\": [1], \"x\": [\"2015-07-01T00:00:00.000Z\"]}], {\"barmode\": \"stack\"}, {\"showLink\": true, \"linkText\": \"Export to plot.ly\"})});</script>"
      ]
     },
     "metadata": {},
     "output_type": "display_data"
    }
   ],
   "source": [
    "s = create_search(source='bugzilla')\n",
    "\n",
    "s = s.filter('range', creation_ts={'gte': initial_date, 'lt': 'now/y'})\n",
    "\n",
    "# Unique count of Authors by Project\n",
    "s.aggs.bucket('product', 'terms', field='product', size=100000)\\\n",
    "    .bucket('component', 'terms', field='component', size=100000)\\\n",
    "    .bucket('time', 'date_histogram', field='creation_ts', interval='quarter')\\\n",
    "    .bucket('contributors', 'terms', field='author_uuid', size=100000)\n",
    "result = s.execute()\n",
    "\n",
    "print('q1')\n",
    "\n",
    "# Process results to build a DataFrame\n",
    "i = 0\n",
    "repos_evo_df = pandas.DataFrame(columns=['Product', 'Component', 'Time', 'uuid'])\n",
    "for product in result.to_dict()['aggregations']['product']['buckets']:\n",
    "    for component in product['component']['buckets']:\n",
    "        for time in component['time']['buckets']:\n",
    "            for author in time['contributors']['buckets']:\n",
    "                repos_evo_df.loc[len(repos_evo_df)] = [product['key'], component['key'], \n",
    "                                                       time['key_as_string'], author['key']]\n",
    "                i += 1\n",
    "                if i % 10000 == 0:\n",
    "                    print(i, end=', ')\n",
    "\n",
    "merged_evo_df = repos_evo_df.merge(projects['Bugzilla'], on=['Product', 'Component'], how='left')\n",
    "\n",
    "# Group By project\n",
    "projects_evo_df = merged_evo_df.groupby(['Project', 'Time']).agg({'uuid': pandas.Series.nunique,\n",
    "                                                                  'Product': pandas.Series.nunique,\n",
    "                                                                  'Component': pandas.Series.nunique})\n",
    "projects_evo_df = projects_evo_df.sort_values(by='uuid', ascending=0)    \n",
    "\n",
    "# Plot it\n",
    "print_stacked_bar(df=projects_evo_df.reset_index(), time_column='Time', value_column='uuid',\n",
    "                  group_column='Project')"
   ]
  },
  {
   "cell_type": "markdown",
   "metadata": {},
   "source": [
    "#### List of organizations\n"
   ]
  },
  {
   "cell_type": "code",
   "execution_count": 31,
   "metadata": {
    "collapsed": false,
    "scrolled": true
   },
   "outputs": [],
   "source": [
    "s = create_search(source='git')\n",
    "\n",
    "s = add_bot_filter(s)\n",
    "s = add_merges_filter(s)\n",
    "\n",
    "# Unique count of Commits by Project (max 100 projects)\n",
    "s.aggs.bucket('organizations', 'terms', field='author_org_name', size=100)\\\n",
    "    .metric('commits', 'cardinality', field='hash', precision_threshold=100000)\n",
    "result = s.execute()"
   ]
  },
  {
   "cell_type": "code",
   "execution_count": 32,
   "metadata": {
    "collapsed": false,
    "scrolled": true
   },
   "outputs": [
    {
     "data": {
      "text/html": [
       "<div>\n",
       "<table border=\"1\" class=\"dataframe\">\n",
       "  <thead>\n",
       "    <tr style=\"text-align: right;\">\n",
       "      <th></th>\n",
       "      <th>Organization</th>\n",
       "      <th># Commits</th>\n",
       "    </tr>\n",
       "  </thead>\n",
       "  <tbody>\n",
       "    <tr>\n",
       "      <th>0</th>\n",
       "      <td>Mozilla Staff</td>\n",
       "      <td>1364303</td>\n",
       "    </tr>\n",
       "    <tr>\n",
       "      <th>1</th>\n",
       "      <td>Community</td>\n",
       "      <td>679867</td>\n",
       "    </tr>\n",
       "    <tr>\n",
       "      <th>2</th>\n",
       "      <td>Mozilla Reps</td>\n",
       "      <td>481</td>\n",
       "    </tr>\n",
       "  </tbody>\n",
       "</table>\n",
       "</div>"
      ],
      "text/plain": [
       "    Organization  # Commits\n",
       "0  Mozilla Staff    1364303\n",
       "1      Community     679867\n",
       "2   Mozilla Reps        481"
      ]
     },
     "execution_count": 32,
     "metadata": {},
     "output_type": "execute_result"
    }
   ],
   "source": [
    "print_df(result=result, group_field='organizations', value_field='commits', \\\n",
    "         group_column='Organization', value_column='# Commits')"
   ]
  },
  {
   "cell_type": "markdown",
   "metadata": {},
   "source": [
    "### Contributors by organization\n",
    "#### Git"
   ]
  },
  {
   "cell_type": "code",
   "execution_count": 33,
   "metadata": {
    "collapsed": false,
    "scrolled": true
   },
   "outputs": [],
   "source": [
    "s = create_search(source='git')\n",
    "\n",
    "s = add_bot_filter(s)\n",
    "s = add_merges_filter(s)\n",
    "\n",
    "# Unique count of Commits by Project (max 100 projects)\n",
    "s.aggs.bucket('organizations', 'terms', field='author_org_name', size=100).\\\n",
    "    metric('contributors', 'cardinality', field='author_uuid', precision_threshold=100000)\n",
    "result = s.execute()"
   ]
  },
  {
   "cell_type": "code",
   "execution_count": 34,
   "metadata": {
    "collapsed": false,
    "scrolled": true
   },
   "outputs": [
    {
     "data": {
      "text/html": [
       "<div>\n",
       "<table border=\"1\" class=\"dataframe\">\n",
       "  <thead>\n",
       "    <tr style=\"text-align: right;\">\n",
       "      <th></th>\n",
       "      <th>Organization</th>\n",
       "      <th># Contributors</th>\n",
       "    </tr>\n",
       "  </thead>\n",
       "  <tbody>\n",
       "    <tr>\n",
       "      <th>0</th>\n",
       "      <td>Mozilla Staff</td>\n",
       "      <td>2182</td>\n",
       "    </tr>\n",
       "    <tr>\n",
       "      <th>1</th>\n",
       "      <td>Community</td>\n",
       "      <td>13043</td>\n",
       "    </tr>\n",
       "    <tr>\n",
       "      <th>2</th>\n",
       "      <td>Mozilla Reps</td>\n",
       "      <td>2</td>\n",
       "    </tr>\n",
       "  </tbody>\n",
       "</table>\n",
       "</div>"
      ],
      "text/plain": [
       "    Organization  # Contributors\n",
       "0  Mozilla Staff            2182\n",
       "1      Community           13043\n",
       "2   Mozilla Reps               2"
      ]
     },
     "execution_count": 34,
     "metadata": {},
     "output_type": "execute_result"
    }
   ],
   "source": [
    "print_df(result=result, group_field='organizations', value_field='contributors', \\\n",
    "         group_column='Organization', value_column='# Contributors')"
   ]
  },
  {
   "cell_type": "markdown",
   "metadata": {},
   "source": [
    "#### Bugzilla"
   ]
  },
  {
   "cell_type": "code",
   "execution_count": 10,
   "metadata": {
    "collapsed": false,
    "scrolled": true
   },
   "outputs": [],
   "source": [
    "s = create_search(source='bugzilla')\n",
    "\n",
    "s = add_bot_filter(s)\n",
    "\n",
    "# Unique count of Commits by Project (max 100 projects)\n",
    "s.aggs.bucket('organizations', 'terms', field='author_org_name', size=100).\\\n",
    "    metric('contributors', 'cardinality', field='author_uuid', precision_threshold=100000)\n",
    "result = s.execute()"
   ]
  },
  {
   "cell_type": "code",
   "execution_count": 11,
   "metadata": {
    "collapsed": false,
    "scrolled": true
   },
   "outputs": [
    {
     "data": {
      "text/html": [
       "<div>\n",
       "<table border=\"1\" class=\"dataframe\">\n",
       "  <thead>\n",
       "    <tr style=\"text-align: right;\">\n",
       "      <th></th>\n",
       "      <th>Organization</th>\n",
       "      <th># Contributors</th>\n",
       "    </tr>\n",
       "  </thead>\n",
       "  <tbody>\n",
       "    <tr>\n",
       "      <th>0</th>\n",
       "      <td>Community</td>\n",
       "      <td>181892</td>\n",
       "    </tr>\n",
       "    <tr>\n",
       "      <th>1</th>\n",
       "      <td>Mozilla Staff</td>\n",
       "      <td>2784</td>\n",
       "    </tr>\n",
       "    <tr>\n",
       "      <th>2</th>\n",
       "      <td>Mozilla Reps</td>\n",
       "      <td>3</td>\n",
       "    </tr>\n",
       "  </tbody>\n",
       "</table>\n",
       "</div>"
      ],
      "text/plain": [
       "    Organization  # Contributors\n",
       "0      Community          181892\n",
       "1  Mozilla Staff            2784\n",
       "2   Mozilla Reps               3"
      ]
     },
     "execution_count": 11,
     "metadata": {},
     "output_type": "execute_result"
    }
   ],
   "source": [
    "print_df(result=result, group_field='organizations', value_field='contributors', \\\n",
    "         group_column='Organization', value_column='# Contributors')"
   ]
  },
  {
   "cell_type": "markdown",
   "metadata": {},
   "source": [
    "### Number of contributors by organization over time\n",
    "#### Git"
   ]
  },
  {
   "cell_type": "code",
   "execution_count": 57,
   "metadata": {
    "collapsed": false,
    "scrolled": true
   },
   "outputs": [],
   "source": [
    "s = create_search(source='git')\n",
    "\n",
    "s = add_bot_filter(s)\n",
    "s = add_merges_filter(s)\n",
    "s = add_general_date_filters(s)\n",
    "\n",
    "# Unique count of Commits by Project (max 100 projects)\n",
    "s = s.filter('range', grimoire_creation_date={'gte': 'now/y-2y', 'lt': 'now/y'})\n",
    "s.aggs.bucket('org', 'terms', field='author_org_name', size=10)\\\n",
    "    .bucket('time', 'date_histogram', field='grimoire_creation_date', interval='quarter')\\\n",
    "    .metric('contributors', 'cardinality', field='author_uuid', precision_threshold=100000)\n",
    "\n",
    "result = s.execute()\n",
    "\n",
    "authors_org_df = stack_by_time(result=result, group_column='Organization', time_column='Time', value_column='# Contributors',\\\n",
    "        group_field='org', time_field='time', value_field='contributors')\n"
   ]
  },
  {
   "cell_type": "code",
   "execution_count": 58,
   "metadata": {
    "collapsed": false,
    "scrolled": false
   },
   "outputs": [
    {
     "data": {
      "text/html": [
       "<script>requirejs.config({paths: { 'plotly': ['https://cdn.plot.ly/plotly-latest.min']},});if(!window.Plotly) {{require(['plotly'],function(plotly) {window.Plotly=plotly;});}}</script>"
      ],
      "text/vnd.plotly.v1+html": [
       "<script>requirejs.config({paths: { 'plotly': ['https://cdn.plot.ly/plotly-latest.min']},});if(!window.Plotly) {{require(['plotly'],function(plotly) {window.Plotly=plotly;});}}</script>"
      ]
     },
     "metadata": {},
     "output_type": "display_data"
    },
    {
     "data": {
      "application/vnd.plotly.v1+json": {
       "data": [
        {
         "name": "Mozilla Staff",
         "type": "bar",
         "x": [
          "2015-01-01T00:00:00.000Z",
          "2015-04-01T00:00:00.000Z",
          "2015-07-01T00:00:00.000Z",
          "2015-10-01T00:00:00.000Z",
          "2016-01-01T00:00:00.000Z",
          "2016-04-01T00:00:00.000Z",
          "2016-07-01T00:00:00.000Z",
          "2016-10-01T00:00:00.000Z"
         ],
         "y": [
          762,
          743,
          756,
          737,
          749,
          755,
          742,
          662
         ]
        },
        {
         "name": "Community",
         "type": "bar",
         "x": [
          "2015-01-01T00:00:00.000Z",
          "2015-04-01T00:00:00.000Z",
          "2015-07-01T00:00:00.000Z",
          "2015-10-01T00:00:00.000Z",
          "2016-01-01T00:00:00.000Z",
          "2016-04-01T00:00:00.000Z",
          "2016-07-01T00:00:00.000Z",
          "2016-10-01T00:00:00.000Z"
         ],
         "y": [
          1239,
          1156,
          1002,
          1210,
          1323,
          1205,
          1240,
          1017
         ]
        },
        {
         "name": "Mozilla Reps",
         "type": "bar",
         "x": [
          "2015-01-01T00:00:00.000Z",
          "2015-04-01T00:00:00.000Z",
          "2015-07-01T00:00:00.000Z",
          "2015-10-01T00:00:00.000Z",
          "2016-01-01T00:00:00.000Z",
          "2016-04-01T00:00:00.000Z",
          "2016-07-01T00:00:00.000Z",
          "2016-10-01T00:00:00.000Z"
         ],
         "y": [
          1,
          2,
          2,
          2,
          2,
          2,
          2,
          2
         ]
        }
       ],
       "layout": {
        "barmode": "stack"
       }
      },
      "text/html": [
       "<div id=\"723088e1-b1b4-4407-ac82-101d5a660b86\" style=\"height: 525px; width: 100%;\" class=\"plotly-graph-div\"></div><script type=\"text/javascript\">require([\"plotly\"], function(Plotly) { window.PLOTLYENV=window.PLOTLYENV || {};window.PLOTLYENV.BASE_URL=\"https://plot.ly\";Plotly.newPlot(\"723088e1-b1b4-4407-ac82-101d5a660b86\", [{\"y\": [762.0, 743.0, 756.0, 737.0, 749.0, 755.0, 742.0, 662.0], \"name\": \"Mozilla Staff\", \"type\": \"bar\", \"x\": [\"2015-01-01T00:00:00.000Z\", \"2015-04-01T00:00:00.000Z\", \"2015-07-01T00:00:00.000Z\", \"2015-10-01T00:00:00.000Z\", \"2016-01-01T00:00:00.000Z\", \"2016-04-01T00:00:00.000Z\", \"2016-07-01T00:00:00.000Z\", \"2016-10-01T00:00:00.000Z\"]}, {\"y\": [1239.0, 1156.0, 1002.0, 1210.0, 1323.0, 1205.0, 1240.0, 1017.0], \"name\": \"Community\", \"type\": \"bar\", \"x\": [\"2015-01-01T00:00:00.000Z\", \"2015-04-01T00:00:00.000Z\", \"2015-07-01T00:00:00.000Z\", \"2015-10-01T00:00:00.000Z\", \"2016-01-01T00:00:00.000Z\", \"2016-04-01T00:00:00.000Z\", \"2016-07-01T00:00:00.000Z\", \"2016-10-01T00:00:00.000Z\"]}, {\"y\": [1.0, 2.0, 2.0, 2.0, 2.0, 2.0, 2.0, 2.0], \"name\": \"Mozilla Reps\", \"type\": \"bar\", \"x\": [\"2015-01-01T00:00:00.000Z\", \"2015-04-01T00:00:00.000Z\", \"2015-07-01T00:00:00.000Z\", \"2015-10-01T00:00:00.000Z\", \"2016-01-01T00:00:00.000Z\", \"2016-04-01T00:00:00.000Z\", \"2016-07-01T00:00:00.000Z\", \"2016-10-01T00:00:00.000Z\"]}], {\"barmode\": \"stack\"}, {\"showLink\": true, \"linkText\": \"Export to plot.ly\"})});</script>"
      ],
      "text/vnd.plotly.v1+html": [
       "<div id=\"723088e1-b1b4-4407-ac82-101d5a660b86\" style=\"height: 525px; width: 100%;\" class=\"plotly-graph-div\"></div><script type=\"text/javascript\">require([\"plotly\"], function(Plotly) { window.PLOTLYENV=window.PLOTLYENV || {};window.PLOTLYENV.BASE_URL=\"https://plot.ly\";Plotly.newPlot(\"723088e1-b1b4-4407-ac82-101d5a660b86\", [{\"y\": [762.0, 743.0, 756.0, 737.0, 749.0, 755.0, 742.0, 662.0], \"name\": \"Mozilla Staff\", \"type\": \"bar\", \"x\": [\"2015-01-01T00:00:00.000Z\", \"2015-04-01T00:00:00.000Z\", \"2015-07-01T00:00:00.000Z\", \"2015-10-01T00:00:00.000Z\", \"2016-01-01T00:00:00.000Z\", \"2016-04-01T00:00:00.000Z\", \"2016-07-01T00:00:00.000Z\", \"2016-10-01T00:00:00.000Z\"]}, {\"y\": [1239.0, 1156.0, 1002.0, 1210.0, 1323.0, 1205.0, 1240.0, 1017.0], \"name\": \"Community\", \"type\": \"bar\", \"x\": [\"2015-01-01T00:00:00.000Z\", \"2015-04-01T00:00:00.000Z\", \"2015-07-01T00:00:00.000Z\", \"2015-10-01T00:00:00.000Z\", \"2016-01-01T00:00:00.000Z\", \"2016-04-01T00:00:00.000Z\", \"2016-07-01T00:00:00.000Z\", \"2016-10-01T00:00:00.000Z\"]}, {\"y\": [1.0, 2.0, 2.0, 2.0, 2.0, 2.0, 2.0, 2.0], \"name\": \"Mozilla Reps\", \"type\": \"bar\", \"x\": [\"2015-01-01T00:00:00.000Z\", \"2015-04-01T00:00:00.000Z\", \"2015-07-01T00:00:00.000Z\", \"2015-10-01T00:00:00.000Z\", \"2016-01-01T00:00:00.000Z\", \"2016-04-01T00:00:00.000Z\", \"2016-07-01T00:00:00.000Z\", \"2016-10-01T00:00:00.000Z\"]}], {\"barmode\": \"stack\"}, {\"showLink\": true, \"linkText\": \"Export to plot.ly\"})});</script>"
      ]
     },
     "metadata": {},
     "output_type": "display_data"
    }
   ],
   "source": [
    "print_stacked_bar(df=authors_org_df, time_column='Time', value_column='# Contributors', group_column='Organization')"
   ]
  },
  {
   "cell_type": "markdown",
   "metadata": {},
   "source": [
    "### Contributors by groups: hired by Mozilla, the rest\n",
    "#### Git"
   ]
  },
  {
   "cell_type": "code",
   "execution_count": 24,
   "metadata": {
    "collapsed": false,
    "scrolled": true
   },
   "outputs": [
    {
     "name": "stdout",
     "output_type": "stream",
     "text": [
      "Mozilla Staff -> Employees\n",
      "Community -> Non-Employees\n",
      "Mozilla Reps -> Non-Employees\n"
     ]
    }
   ],
   "source": [
    "s = create_search(source='git')\n",
    "\n",
    "s = add_bot_filter(s)\n",
    "s = add_merges_filter(s)\n",
    "s = add_general_date_filters(s)\n",
    "\n",
    "# Unique count of Commits by Project (max 100 projects)\n",
    "s = s.filter('range', grimoire_creation_date={'gte': initial_date, 'lt': 'now/y'})\n",
    "s.aggs.bucket('org', 'terms', field='author_org_name', size=10)\\\n",
    "    .bucket('time', 'date_histogram', field='grimoire_creation_date', interval='quarter')\\\n",
    "    .metric('contributors', 'cardinality', field='author_uuid', precision_threshold=100000)\n",
    "\n",
    "result = s.execute()\n",
    "\n",
    "authors_org_df = stack_by_cusum(result=result, group_column='Organization', time_column='Time',\\\n",
    "                                value_column='# Contributors', group_field='org', time_field='time',\\\n",
    "                                value_field='contributors', staff_org_names=['Mozilla Staff'],\\\n",
    "                                staff_org='Employees')"
   ]
  },
  {
   "cell_type": "code",
   "execution_count": 25,
   "metadata": {
    "collapsed": false,
    "scrolled": false
   },
   "outputs": [
    {
     "data": {
      "text/html": [
       "<script>requirejs.config({paths: { 'plotly': ['https://cdn.plot.ly/plotly-latest.min']},});if(!window.Plotly) {{require(['plotly'],function(plotly) {window.Plotly=plotly;});}}</script>"
      ],
      "text/vnd.plotly.v1+html": [
       "<script>requirejs.config({paths: { 'plotly': ['https://cdn.plot.ly/plotly-latest.min']},});if(!window.Plotly) {{require(['plotly'],function(plotly) {window.Plotly=plotly;});}}</script>"
      ]
     },
     "metadata": {},
     "output_type": "display_data"
    },
    {
     "data": {
      "application/vnd.plotly.v1+json": {
       "data": [
        {
         "name": "Employees",
         "type": "bar",
         "x": [
          "2010-01-01T00:00:00.000Z",
          "2010-04-01T00:00:00.000Z",
          "2010-07-01T00:00:00.000Z",
          "2010-10-01T00:00:00.000Z",
          "2011-01-01T00:00:00.000Z",
          "2011-04-01T00:00:00.000Z",
          "2011-07-01T00:00:00.000Z",
          "2011-10-01T00:00:00.000Z",
          "2012-01-01T00:00:00.000Z",
          "2012-04-01T00:00:00.000Z",
          "2012-07-01T00:00:00.000Z",
          "2012-10-01T00:00:00.000Z",
          "2013-01-01T00:00:00.000Z",
          "2013-04-01T00:00:00.000Z",
          "2013-07-01T00:00:00.000Z",
          "2013-10-01T00:00:00.000Z",
          "2014-01-01T00:00:00.000Z",
          "2014-04-01T00:00:00.000Z",
          "2014-07-01T00:00:00.000Z",
          "2014-10-01T00:00:00.000Z",
          "2015-01-01T00:00:00.000Z",
          "2015-04-01T00:00:00.000Z",
          "2015-07-01T00:00:00.000Z",
          "2015-10-01T00:00:00.000Z",
          "2016-01-01T00:00:00.000Z",
          "2016-04-01T00:00:00.000Z",
          "2016-07-01T00:00:00.000Z",
          "2016-10-01T00:00:00.000Z"
         ],
         "y": [
          281,
          320,
          353,
          329,
          375,
          407,
          450,
          455,
          507,
          576,
          584,
          595,
          622,
          704,
          719,
          741,
          769,
          806,
          805,
          765,
          762,
          743,
          756,
          737,
          749,
          755,
          742,
          662
         ]
        },
        {
         "name": "Non-Employees",
         "type": "bar",
         "x": [
          "2010-01-01T00:00:00.000Z",
          "2010-04-01T00:00:00.000Z",
          "2010-07-01T00:00:00.000Z",
          "2010-10-01T00:00:00.000Z",
          "2011-01-01T00:00:00.000Z",
          "2011-04-01T00:00:00.000Z",
          "2011-07-01T00:00:00.000Z",
          "2011-10-01T00:00:00.000Z",
          "2012-01-01T00:00:00.000Z",
          "2012-04-01T00:00:00.000Z",
          "2012-07-01T00:00:00.000Z",
          "2012-10-01T00:00:00.000Z",
          "2013-01-01T00:00:00.000Z",
          "2013-04-01T00:00:00.000Z",
          "2013-07-01T00:00:00.000Z",
          "2013-10-01T00:00:00.000Z",
          "2014-01-01T00:00:00.000Z",
          "2014-04-01T00:00:00.000Z",
          "2014-07-01T00:00:00.000Z",
          "2014-10-01T00:00:00.000Z",
          "2015-01-01T00:00:00.000Z",
          "2015-04-01T00:00:00.000Z",
          "2015-07-01T00:00:00.000Z",
          "2015-10-01T00:00:00.000Z",
          "2016-01-01T00:00:00.000Z",
          "2016-04-01T00:00:00.000Z",
          "2016-07-01T00:00:00.000Z",
          "2016-10-01T00:00:00.000Z"
         ],
         "y": [
          241,
          283,
          314,
          275,
          321,
          355,
          360,
          385,
          445,
          447,
          414,
          467,
          544,
          620,
          600,
          698,
          817,
          908,
          948,
          1086,
          1240,
          1158,
          1004,
          1212,
          1325,
          1207,
          1242,
          1019
         ]
        }
       ],
       "layout": {
        "barmode": "stack"
       }
      },
      "text/html": [
       "<div id=\"a222f222-2014-46fa-a7ab-4031627787ad\" style=\"height: 525px; width: 100%;\" class=\"plotly-graph-div\"></div><script type=\"text/javascript\">require([\"plotly\"], function(Plotly) { window.PLOTLYENV=window.PLOTLYENV || {};window.PLOTLYENV.BASE_URL=\"https://plot.ly\";Plotly.newPlot(\"a222f222-2014-46fa-a7ab-4031627787ad\", [{\"type\": \"bar\", \"name\": \"Employees\", \"y\": [281.0, 320.0, 353.0, 329.0, 375.0, 407.0, 450.0, 455.0, 507.0, 576.0, 584.0, 595.0, 622.0, 704.0, 719.0, 741.0, 769.0, 806.0, 805.0, 765.0, 762.0, 743.0, 756.0, 737.0, 749.0, 755.0, 742.0, 662.0], \"x\": [\"2010-01-01T00:00:00.000Z\", \"2010-04-01T00:00:00.000Z\", \"2010-07-01T00:00:00.000Z\", \"2010-10-01T00:00:00.000Z\", \"2011-01-01T00:00:00.000Z\", \"2011-04-01T00:00:00.000Z\", \"2011-07-01T00:00:00.000Z\", \"2011-10-01T00:00:00.000Z\", \"2012-01-01T00:00:00.000Z\", \"2012-04-01T00:00:00.000Z\", \"2012-07-01T00:00:00.000Z\", \"2012-10-01T00:00:00.000Z\", \"2013-01-01T00:00:00.000Z\", \"2013-04-01T00:00:00.000Z\", \"2013-07-01T00:00:00.000Z\", \"2013-10-01T00:00:00.000Z\", \"2014-01-01T00:00:00.000Z\", \"2014-04-01T00:00:00.000Z\", \"2014-07-01T00:00:00.000Z\", \"2014-10-01T00:00:00.000Z\", \"2015-01-01T00:00:00.000Z\", \"2015-04-01T00:00:00.000Z\", \"2015-07-01T00:00:00.000Z\", \"2015-10-01T00:00:00.000Z\", \"2016-01-01T00:00:00.000Z\", \"2016-04-01T00:00:00.000Z\", \"2016-07-01T00:00:00.000Z\", \"2016-10-01T00:00:00.000Z\"]}, {\"type\": \"bar\", \"name\": \"Non-Employees\", \"y\": [241.0, 283.0, 314.0, 275.0, 321.0, 355.0, 360.0, 385.0, 445.0, 447.0, 414.0, 467.0, 544.0, 620.0, 600.0, 698.0, 817.0, 908.0, 948.0, 1086.0, 1240.0, 1158.0, 1004.0, 1212.0, 1325.0, 1207.0, 1242.0, 1019.0], \"x\": [\"2010-01-01T00:00:00.000Z\", \"2010-04-01T00:00:00.000Z\", \"2010-07-01T00:00:00.000Z\", \"2010-10-01T00:00:00.000Z\", \"2011-01-01T00:00:00.000Z\", \"2011-04-01T00:00:00.000Z\", \"2011-07-01T00:00:00.000Z\", \"2011-10-01T00:00:00.000Z\", \"2012-01-01T00:00:00.000Z\", \"2012-04-01T00:00:00.000Z\", \"2012-07-01T00:00:00.000Z\", \"2012-10-01T00:00:00.000Z\", \"2013-01-01T00:00:00.000Z\", \"2013-04-01T00:00:00.000Z\", \"2013-07-01T00:00:00.000Z\", \"2013-10-01T00:00:00.000Z\", \"2014-01-01T00:00:00.000Z\", \"2014-04-01T00:00:00.000Z\", \"2014-07-01T00:00:00.000Z\", \"2014-10-01T00:00:00.000Z\", \"2015-01-01T00:00:00.000Z\", \"2015-04-01T00:00:00.000Z\", \"2015-07-01T00:00:00.000Z\", \"2015-10-01T00:00:00.000Z\", \"2016-01-01T00:00:00.000Z\", \"2016-04-01T00:00:00.000Z\", \"2016-07-01T00:00:00.000Z\", \"2016-10-01T00:00:00.000Z\"]}], {\"barmode\": \"stack\"}, {\"showLink\": true, \"linkText\": \"Export to plot.ly\"})});</script>"
      ],
      "text/vnd.plotly.v1+html": [
       "<div id=\"a222f222-2014-46fa-a7ab-4031627787ad\" style=\"height: 525px; width: 100%;\" class=\"plotly-graph-div\"></div><script type=\"text/javascript\">require([\"plotly\"], function(Plotly) { window.PLOTLYENV=window.PLOTLYENV || {};window.PLOTLYENV.BASE_URL=\"https://plot.ly\";Plotly.newPlot(\"a222f222-2014-46fa-a7ab-4031627787ad\", [{\"type\": \"bar\", \"name\": \"Employees\", \"y\": [281.0, 320.0, 353.0, 329.0, 375.0, 407.0, 450.0, 455.0, 507.0, 576.0, 584.0, 595.0, 622.0, 704.0, 719.0, 741.0, 769.0, 806.0, 805.0, 765.0, 762.0, 743.0, 756.0, 737.0, 749.0, 755.0, 742.0, 662.0], \"x\": [\"2010-01-01T00:00:00.000Z\", \"2010-04-01T00:00:00.000Z\", \"2010-07-01T00:00:00.000Z\", \"2010-10-01T00:00:00.000Z\", \"2011-01-01T00:00:00.000Z\", \"2011-04-01T00:00:00.000Z\", \"2011-07-01T00:00:00.000Z\", \"2011-10-01T00:00:00.000Z\", \"2012-01-01T00:00:00.000Z\", \"2012-04-01T00:00:00.000Z\", \"2012-07-01T00:00:00.000Z\", \"2012-10-01T00:00:00.000Z\", \"2013-01-01T00:00:00.000Z\", \"2013-04-01T00:00:00.000Z\", \"2013-07-01T00:00:00.000Z\", \"2013-10-01T00:00:00.000Z\", \"2014-01-01T00:00:00.000Z\", \"2014-04-01T00:00:00.000Z\", \"2014-07-01T00:00:00.000Z\", \"2014-10-01T00:00:00.000Z\", \"2015-01-01T00:00:00.000Z\", \"2015-04-01T00:00:00.000Z\", \"2015-07-01T00:00:00.000Z\", \"2015-10-01T00:00:00.000Z\", \"2016-01-01T00:00:00.000Z\", \"2016-04-01T00:00:00.000Z\", \"2016-07-01T00:00:00.000Z\", \"2016-10-01T00:00:00.000Z\"]}, {\"type\": \"bar\", \"name\": \"Non-Employees\", \"y\": [241.0, 283.0, 314.0, 275.0, 321.0, 355.0, 360.0, 385.0, 445.0, 447.0, 414.0, 467.0, 544.0, 620.0, 600.0, 698.0, 817.0, 908.0, 948.0, 1086.0, 1240.0, 1158.0, 1004.0, 1212.0, 1325.0, 1207.0, 1242.0, 1019.0], \"x\": [\"2010-01-01T00:00:00.000Z\", \"2010-04-01T00:00:00.000Z\", \"2010-07-01T00:00:00.000Z\", \"2010-10-01T00:00:00.000Z\", \"2011-01-01T00:00:00.000Z\", \"2011-04-01T00:00:00.000Z\", \"2011-07-01T00:00:00.000Z\", \"2011-10-01T00:00:00.000Z\", \"2012-01-01T00:00:00.000Z\", \"2012-04-01T00:00:00.000Z\", \"2012-07-01T00:00:00.000Z\", \"2012-10-01T00:00:00.000Z\", \"2013-01-01T00:00:00.000Z\", \"2013-04-01T00:00:00.000Z\", \"2013-07-01T00:00:00.000Z\", \"2013-10-01T00:00:00.000Z\", \"2014-01-01T00:00:00.000Z\", \"2014-04-01T00:00:00.000Z\", \"2014-07-01T00:00:00.000Z\", \"2014-10-01T00:00:00.000Z\", \"2015-01-01T00:00:00.000Z\", \"2015-04-01T00:00:00.000Z\", \"2015-07-01T00:00:00.000Z\", \"2015-10-01T00:00:00.000Z\", \"2016-01-01T00:00:00.000Z\", \"2016-04-01T00:00:00.000Z\", \"2016-07-01T00:00:00.000Z\", \"2016-10-01T00:00:00.000Z\"]}], {\"barmode\": \"stack\"}, {\"showLink\": true, \"linkText\": \"Export to plot.ly\"})});</script>"
      ]
     },
     "metadata": {},
     "output_type": "display_data"
    }
   ],
   "source": [
    "print_stacked_bar(df=authors_org_df, time_column='Time', value_column='# Contributors', group_column='Organization')"
   ]
  },
  {
   "cell_type": "markdown",
   "metadata": {},
   "source": [
    "#### Bugzilla"
   ]
  },
  {
   "cell_type": "code",
   "execution_count": 26,
   "metadata": {
    "collapsed": false,
    "scrolled": true
   },
   "outputs": [
    {
     "name": "stdout",
     "output_type": "stream",
     "text": [
      "Mozilla Staff -> Employees\n",
      "Community -> Non-Employees\n",
      "Mozilla Reps -> Non-Employees\n"
     ]
    }
   ],
   "source": [
    "s = create_search(source='bugzilla')\n",
    "\n",
    "s = add_bot_filter(s)\n",
    "\n",
    "# Unique count of Commits by Project (max 100 projects)\n",
    "s = s.filter('range', creation_ts={'gte': initial_date, 'lt': 'now/y'})\n",
    "s.aggs.bucket('org', 'terms', field='author_org_name', size=10)\\\n",
    "    .bucket('time', 'date_histogram', field='creation_ts', interval='quarter')\\\n",
    "    .metric('contributors', 'cardinality', field='author_uuid', precision_threshold=100000)\n",
    "\n",
    "result = s.execute()\n",
    "\n",
    "authors_org_df = stack_by_cusum(result=result, group_column='Organization', time_column='Time',\\\n",
    "                                value_column='# Contributors', group_field='org', time_field='time',\\\n",
    "                                value_field='contributors', staff_org_names=['Mozilla Staff'],\\\n",
    "                                staff_org='Employees')"
   ]
  },
  {
   "cell_type": "code",
   "execution_count": 27,
   "metadata": {
    "collapsed": false,
    "scrolled": false
   },
   "outputs": [
    {
     "data": {
      "text/html": [
       "<script>requirejs.config({paths: { 'plotly': ['https://cdn.plot.ly/plotly-latest.min']},});if(!window.Plotly) {{require(['plotly'],function(plotly) {window.Plotly=plotly;});}}</script>"
      ],
      "text/vnd.plotly.v1+html": [
       "<script>requirejs.config({paths: { 'plotly': ['https://cdn.plot.ly/plotly-latest.min']},});if(!window.Plotly) {{require(['plotly'],function(plotly) {window.Plotly=plotly;});}}</script>"
      ]
     },
     "metadata": {},
     "output_type": "display_data"
    },
    {
     "data": {
      "application/vnd.plotly.v1+json": {
       "data": [
        {
         "name": "Employees",
         "type": "bar",
         "x": [
          "2010-01-01T00:00:00.000Z",
          "2010-04-01T00:00:00.000Z",
          "2010-07-01T00:00:00.000Z",
          "2010-10-01T00:00:00.000Z",
          "2011-01-01T00:00:00.000Z",
          "2011-04-01T00:00:00.000Z",
          "2011-07-01T00:00:00.000Z",
          "2011-10-01T00:00:00.000Z",
          "2012-01-01T00:00:00.000Z",
          "2012-04-01T00:00:00.000Z",
          "2012-07-01T00:00:00.000Z",
          "2012-10-01T00:00:00.000Z",
          "2013-01-01T00:00:00.000Z",
          "2013-04-01T00:00:00.000Z",
          "2013-07-01T00:00:00.000Z",
          "2013-10-01T00:00:00.000Z",
          "2014-01-01T00:00:00.000Z",
          "2014-04-01T00:00:00.000Z",
          "2014-07-01T00:00:00.000Z",
          "2014-10-01T00:00:00.000Z",
          "2015-01-01T00:00:00.000Z",
          "2015-04-01T00:00:00.000Z",
          "2015-07-01T00:00:00.000Z",
          "2015-10-01T00:00:00.000Z",
          "2016-01-01T00:00:00.000Z",
          "2016-04-01T00:00:00.000Z",
          "2016-07-01T00:00:00.000Z",
          "2016-10-01T00:00:00.000Z"
         ],
         "y": [
          499,
          525,
          593,
          579,
          636,
          637,
          700,
          725,
          767,
          848,
          833,
          863,
          900,
          1002,
          1019,
          1056,
          1084,
          1176,
          1146,
          1069,
          981,
          977,
          1000,
          924,
          872,
          848,
          810,
          753
         ]
        },
        {
         "name": "Non-Employees",
         "type": "bar",
         "x": [
          "2010-01-01T00:00:00.000Z",
          "2010-04-01T00:00:00.000Z",
          "2010-07-01T00:00:00.000Z",
          "2010-10-01T00:00:00.000Z",
          "2011-01-01T00:00:00.000Z",
          "2011-04-01T00:00:00.000Z",
          "2011-07-01T00:00:00.000Z",
          "2011-10-01T00:00:00.000Z",
          "2012-01-01T00:00:00.000Z",
          "2012-04-01T00:00:00.000Z",
          "2012-07-01T00:00:00.000Z",
          "2012-10-01T00:00:00.000Z",
          "2013-01-01T00:00:00.000Z",
          "2013-04-01T00:00:00.000Z",
          "2013-07-01T00:00:00.000Z",
          "2013-10-01T00:00:00.000Z",
          "2014-01-01T00:00:00.000Z",
          "2014-04-01T00:00:00.000Z",
          "2014-07-01T00:00:00.000Z",
          "2014-10-01T00:00:00.000Z",
          "2015-01-01T00:00:00.000Z",
          "2015-04-01T00:00:00.000Z",
          "2015-07-01T00:00:00.000Z",
          "2015-10-01T00:00:00.000Z",
          "2016-01-01T00:00:00.000Z",
          "2016-04-01T00:00:00.000Z",
          "2016-07-01T00:00:00.000Z",
          "2016-10-01T00:00:00.000Z"
         ],
         "y": [
          5434,
          4045,
          5104,
          4157,
          4995,
          3836,
          3485,
          3104,
          3374,
          3301,
          3378,
          3411,
          3338,
          3432,
          3337,
          3515,
          3251,
          3709,
          3802,
          3940,
          3551,
          3355,
          3727,
          3351,
          3196,
          3038,
          2744,
          2567
         ]
        }
       ],
       "layout": {
        "barmode": "stack"
       }
      },
      "text/html": [
       "<div id=\"11ff4e52-4e50-47c7-90b8-f704035292bc\" style=\"height: 525px; width: 100%;\" class=\"plotly-graph-div\"></div><script type=\"text/javascript\">require([\"plotly\"], function(Plotly) { window.PLOTLYENV=window.PLOTLYENV || {};window.PLOTLYENV.BASE_URL=\"https://plot.ly\";Plotly.newPlot(\"11ff4e52-4e50-47c7-90b8-f704035292bc\", [{\"type\": \"bar\", \"name\": \"Employees\", \"y\": [499.0, 525.0, 593.0, 579.0, 636.0, 637.0, 700.0, 725.0, 767.0, 848.0, 833.0, 863.0, 900.0, 1002.0, 1019.0, 1056.0, 1084.0, 1176.0, 1146.0, 1069.0, 981.0, 977.0, 1000.0, 924.0, 872.0, 848.0, 810.0, 753.0], \"x\": [\"2010-01-01T00:00:00.000Z\", \"2010-04-01T00:00:00.000Z\", \"2010-07-01T00:00:00.000Z\", \"2010-10-01T00:00:00.000Z\", \"2011-01-01T00:00:00.000Z\", \"2011-04-01T00:00:00.000Z\", \"2011-07-01T00:00:00.000Z\", \"2011-10-01T00:00:00.000Z\", \"2012-01-01T00:00:00.000Z\", \"2012-04-01T00:00:00.000Z\", \"2012-07-01T00:00:00.000Z\", \"2012-10-01T00:00:00.000Z\", \"2013-01-01T00:00:00.000Z\", \"2013-04-01T00:00:00.000Z\", \"2013-07-01T00:00:00.000Z\", \"2013-10-01T00:00:00.000Z\", \"2014-01-01T00:00:00.000Z\", \"2014-04-01T00:00:00.000Z\", \"2014-07-01T00:00:00.000Z\", \"2014-10-01T00:00:00.000Z\", \"2015-01-01T00:00:00.000Z\", \"2015-04-01T00:00:00.000Z\", \"2015-07-01T00:00:00.000Z\", \"2015-10-01T00:00:00.000Z\", \"2016-01-01T00:00:00.000Z\", \"2016-04-01T00:00:00.000Z\", \"2016-07-01T00:00:00.000Z\", \"2016-10-01T00:00:00.000Z\"]}, {\"type\": \"bar\", \"name\": \"Non-Employees\", \"y\": [5434.0, 4045.0, 5104.0, 4157.0, 4995.0, 3836.0, 3485.0, 3104.0, 3374.0, 3301.0, 3378.0, 3411.0, 3338.0, 3432.0, 3337.0, 3515.0, 3251.0, 3709.0, 3802.0, 3940.0, 3551.0, 3355.0, 3727.0, 3351.0, 3196.0, 3038.0, 2744.0, 2567.0], \"x\": [\"2010-01-01T00:00:00.000Z\", \"2010-04-01T00:00:00.000Z\", \"2010-07-01T00:00:00.000Z\", \"2010-10-01T00:00:00.000Z\", \"2011-01-01T00:00:00.000Z\", \"2011-04-01T00:00:00.000Z\", \"2011-07-01T00:00:00.000Z\", \"2011-10-01T00:00:00.000Z\", \"2012-01-01T00:00:00.000Z\", \"2012-04-01T00:00:00.000Z\", \"2012-07-01T00:00:00.000Z\", \"2012-10-01T00:00:00.000Z\", \"2013-01-01T00:00:00.000Z\", \"2013-04-01T00:00:00.000Z\", \"2013-07-01T00:00:00.000Z\", \"2013-10-01T00:00:00.000Z\", \"2014-01-01T00:00:00.000Z\", \"2014-04-01T00:00:00.000Z\", \"2014-07-01T00:00:00.000Z\", \"2014-10-01T00:00:00.000Z\", \"2015-01-01T00:00:00.000Z\", \"2015-04-01T00:00:00.000Z\", \"2015-07-01T00:00:00.000Z\", \"2015-10-01T00:00:00.000Z\", \"2016-01-01T00:00:00.000Z\", \"2016-04-01T00:00:00.000Z\", \"2016-07-01T00:00:00.000Z\", \"2016-10-01T00:00:00.000Z\"]}], {\"barmode\": \"stack\"}, {\"showLink\": true, \"linkText\": \"Export to plot.ly\"})});</script>"
      ],
      "text/vnd.plotly.v1+html": [
       "<div id=\"11ff4e52-4e50-47c7-90b8-f704035292bc\" style=\"height: 525px; width: 100%;\" class=\"plotly-graph-div\"></div><script type=\"text/javascript\">require([\"plotly\"], function(Plotly) { window.PLOTLYENV=window.PLOTLYENV || {};window.PLOTLYENV.BASE_URL=\"https://plot.ly\";Plotly.newPlot(\"11ff4e52-4e50-47c7-90b8-f704035292bc\", [{\"type\": \"bar\", \"name\": \"Employees\", \"y\": [499.0, 525.0, 593.0, 579.0, 636.0, 637.0, 700.0, 725.0, 767.0, 848.0, 833.0, 863.0, 900.0, 1002.0, 1019.0, 1056.0, 1084.0, 1176.0, 1146.0, 1069.0, 981.0, 977.0, 1000.0, 924.0, 872.0, 848.0, 810.0, 753.0], \"x\": [\"2010-01-01T00:00:00.000Z\", \"2010-04-01T00:00:00.000Z\", \"2010-07-01T00:00:00.000Z\", \"2010-10-01T00:00:00.000Z\", \"2011-01-01T00:00:00.000Z\", \"2011-04-01T00:00:00.000Z\", \"2011-07-01T00:00:00.000Z\", \"2011-10-01T00:00:00.000Z\", \"2012-01-01T00:00:00.000Z\", \"2012-04-01T00:00:00.000Z\", \"2012-07-01T00:00:00.000Z\", \"2012-10-01T00:00:00.000Z\", \"2013-01-01T00:00:00.000Z\", \"2013-04-01T00:00:00.000Z\", \"2013-07-01T00:00:00.000Z\", \"2013-10-01T00:00:00.000Z\", \"2014-01-01T00:00:00.000Z\", \"2014-04-01T00:00:00.000Z\", \"2014-07-01T00:00:00.000Z\", \"2014-10-01T00:00:00.000Z\", \"2015-01-01T00:00:00.000Z\", \"2015-04-01T00:00:00.000Z\", \"2015-07-01T00:00:00.000Z\", \"2015-10-01T00:00:00.000Z\", \"2016-01-01T00:00:00.000Z\", \"2016-04-01T00:00:00.000Z\", \"2016-07-01T00:00:00.000Z\", \"2016-10-01T00:00:00.000Z\"]}, {\"type\": \"bar\", \"name\": \"Non-Employees\", \"y\": [5434.0, 4045.0, 5104.0, 4157.0, 4995.0, 3836.0, 3485.0, 3104.0, 3374.0, 3301.0, 3378.0, 3411.0, 3338.0, 3432.0, 3337.0, 3515.0, 3251.0, 3709.0, 3802.0, 3940.0, 3551.0, 3355.0, 3727.0, 3351.0, 3196.0, 3038.0, 2744.0, 2567.0], \"x\": [\"2010-01-01T00:00:00.000Z\", \"2010-04-01T00:00:00.000Z\", \"2010-07-01T00:00:00.000Z\", \"2010-10-01T00:00:00.000Z\", \"2011-01-01T00:00:00.000Z\", \"2011-04-01T00:00:00.000Z\", \"2011-07-01T00:00:00.000Z\", \"2011-10-01T00:00:00.000Z\", \"2012-01-01T00:00:00.000Z\", \"2012-04-01T00:00:00.000Z\", \"2012-07-01T00:00:00.000Z\", \"2012-10-01T00:00:00.000Z\", \"2013-01-01T00:00:00.000Z\", \"2013-04-01T00:00:00.000Z\", \"2013-07-01T00:00:00.000Z\", \"2013-10-01T00:00:00.000Z\", \"2014-01-01T00:00:00.000Z\", \"2014-04-01T00:00:00.000Z\", \"2014-07-01T00:00:00.000Z\", \"2014-10-01T00:00:00.000Z\", \"2015-01-01T00:00:00.000Z\", \"2015-04-01T00:00:00.000Z\", \"2015-07-01T00:00:00.000Z\", \"2015-10-01T00:00:00.000Z\", \"2016-01-01T00:00:00.000Z\", \"2016-04-01T00:00:00.000Z\", \"2016-07-01T00:00:00.000Z\", \"2016-10-01T00:00:00.000Z\"]}], {\"barmode\": \"stack\"}, {\"showLink\": true, \"linkText\": \"Export to plot.ly\"})});</script>"
      ]
     },
     "metadata": {},
     "output_type": "display_data"
    }
   ],
   "source": [
    "print_stacked_bar(df=authors_org_df, time_column='Time', value_column='# Contributors', group_column='Organization')"
   ]
  },
  {
   "cell_type": "markdown",
   "metadata": {},
   "source": [
    "#### Contributors by gender\n",
    "**TODO**: Pending of running gender study over the data."
   ]
  },
  {
   "cell_type": "markdown",
   "metadata": {},
   "source": [
    "#### Number of contributors by gender over time\n",
    "**TODO**: Pending of running gender study over the data."
   ]
  },
  {
   "cell_type": "markdown",
   "metadata": {},
   "source": [
    "#### Time of first and last commit for each contributor\n",
    "**TODO** : provide plots similar to:\n",
    "Attracted developers: https://analytics.mozilla.community:443/goto/1be7d078d3dda22bf2ed097d8e465fb9\n",
    "Last commit developers: https://analytics.mozilla.community:443/goto/647ec69fc6b9d163827aa281ed3bee61"
   ]
  },
  {
   "cell_type": "markdown",
   "metadata": {},
   "source": [
    "#### Length of period of activity for each contributor\n"
   ]
  },
  {
   "cell_type": "markdown",
   "metadata": {},
   "source": [
    "#### Contributors by time zone (when possible)\n",
    "\n",
    "https://analytics.mozilla.community:443/goto/9e930eefe59a7c90331d922887b2aee6"
   ]
  },
  {
   "cell_type": "markdown",
   "metadata": {},
   "source": [
    "#### Contributors by city name (when possible)"
   ]
  }
 ],
 "metadata": {
  "kernelspec": {
   "display_name": "Python 3",
   "language": "python",
   "name": "python3"
  },
  "language_info": {
   "codemirror_mode": {
    "name": "ipython",
    "version": 3
   },
   "file_extension": ".py",
   "mimetype": "text/x-python",
   "name": "python",
   "nbconvert_exporter": "python",
   "pygments_lexer": "ipython3",
   "version": "3.5.2+"
  }
 },
 "nbformat": 4,
 "nbformat_minor": 1
}
