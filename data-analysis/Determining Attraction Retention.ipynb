{
 "cells": [
  {
   "cell_type": "markdown",
   "metadata": {},
   "source": [
    "## Goal: determining attraction / retention\n",
    "\n",
    "An important characteristic of a how a community evolves is how contributors are joining and leaving. Determining when contributors leave is not easy (as they could be on a temporary leave, but coming back later), but if after a certain period they are still inactive, it is very likely they can be considered 'gone'. With this definition, the evolution of attraction and retention, and its difference (net gain of developers, which can be negative) can be computed.\n",
    "\n",
    "These data could be determined for each of the specific contributors groups defined in the first goal. \n",
    "\n",
    "This goal can be refined in the following questions:\n",
    "\n",
    "**Questions**:\n",
    "\n",
    "* How many contributors are joining the community?\n",
    "* How many contributos are no longer active (leaving) in the community?\n",
    "* How is the attraction / retention ratio, and the net gain of contributors, over time?\n",
    "\n",
    "To answer these questions, the following metrics can be used:\n",
    "\n",
    "**Metrics**:\n",
    "\n",
    "* Number of contributors joining the community over time (attracted)\n",
    "* Number of contirbutors leaving (becoming inactive) over time\n",
    "* Number of contributors not leaving (retained) over time\n",
    "\n",
    "These metrics can be computed for each of the \"cohorts\", defined as the groups of contributors joining during a certain period of time (for example, during each year). Some of these metrics will be computed for the speficied contributor groups, over time."
   ]
  },
  {
   "cell_type": "markdown",
   "metadata": {},
   "source": [
    "**TODO** : provide plots similar to:\n",
    "\n",
    "https://analytics.mozilla.community/edit/app/kibana#/dashboard/Community-Analytics-Demographics"
   ]
  }
 ],
 "metadata": {
  "kernelspec": {
   "display_name": "Python 3",
   "language": "python",
   "name": "python3"
  },
  "language_info": {
   "codemirror_mode": {
    "name": "ipython",
    "version": 3
   },
   "file_extension": ".py",
   "mimetype": "text/x-python",
   "name": "python",
   "nbconvert_exporter": "python",
   "pygments_lexer": "ipython3",
   "version": "3.5.2+"
  }
 },
 "nbformat": 4,
 "nbformat_minor": 2
}
