{
 "cells": [
  {
   "cell_type": "markdown",
   "metadata": {},
   "source": [
    "# Report Definition\n",
    "\n"
   ]
  },
  {
   "cell_type": "markdown",
   "metadata": {},
   "source": [
    "### Requirements\n",
    "* Code review process\n",
    "    * Labels for GitHub and Bugzilla\n",
    "* `Good first bug` label in GitHub\n",
    "* Repository list per project across data sources.\n",
    "    * Bitergia will provide a repository list to fill in with needed information (persons, projects, repos, grupos de repos, etc.)"
   ]
  },
  {
   "cell_type": "markdown",
   "metadata": {},
   "source": [
    "### Understanding Mozilla Data\n",
    "* Understand how coder review process works in GitHub and Bugzilla.\n",
    "    * Find out flags marking items as part of code review process.\n",
    "* Need for creating new enrinched indexes.\n",
    "    * Information about contribution type and programming language in Git.\n",
    "    * Demographics analysis for other data sources.\n",
    "    * Characterize developers with some features.\n",
    "* New Data Sources:\n",
    "    * MDN\n",
    "    * Localizations (Git or Mozilla's own tool)\n",
    "    * Forums (Kitsune): test the hypothesis of having kitsune as a good entry point for new contributors."
   ]
  },
  {
   "cell_type": "markdown",
   "metadata": {},
   "source": [
    "### Understanding the people in Mozilla community\n",
    "* Who is the community?\n",
    "    * Company ties\n",
    "    * Time contributing\n",
    "    * Gender\n",
    "    * Geographical data in terms of time zones or city names in case users provide this information in their github profiles)\n",
    "    * Characterize people that contributes with a couple of answers in a ticket and then dissapears.\n",
    "\n",
    "* **Goal**: \n",
    "    * People contributing hired by Mozilla\n",
    "    * Gender\n",
    "    * Time zones\n",
    "    * Time from first to last commit\n",
    "    * Anti-community"
   ]
  },
  {
   "cell_type": "markdown",
   "metadata": {},
   "source": [
    "### Understanding what the community is doing\n",
    "* What are they doing? \n",
    "    * Projects, repos (**groups of repos**)\n",
    "* What are their contributions?\n",
    "    * Type: Coding, Support, Issues, etc.\n",
    "* Where are they contributing in the product development pipeline?\n",
    "    * Coding, Solving issues, sending patches, discussion, etc.\n",
    "* ~~What time they are giving?~~\n",
    "    * ~~Activity~~\n",
    "* What programming languages are they using?\n",
    "    * Are they contributing more to repos in particular languages?"
   ]
  },
  {
   "cell_type": "markdown",
   "metadata": {},
   "source": [
    "### Understanding how the community is connected\n",
    "* What groups exist within the community and how are they connected?\n",
    "    * Projects\n",
    "* How are they connected?\n",
    "    * Community network analysis (by repo)\n",
    "* Who are they working with? (in the community, etc.)\n",
    "* Who is contributing to Mozilla projetcs because they are employees of corporate collaborators?\n",
    "\n",
    "* **Metrics**:\n",
    "    * Hubs, betweeness, isolated developers, developer groups."
   ]
  },
  {
   "cell_type": "markdown",
   "metadata": {},
   "source": [
    "### Community Demography Analisis\n",
    "* How many people are joining the community?\n",
    "* How many people are no longer active (leaving) in the community?\n",
    "* How is the attraction / retention ratio per \"generation\" and over time?"
   ]
  },
  {
   "cell_type": "markdown",
   "metadata": {},
   "source": [
    "### Community Onion Model Analysis\n",
    "* How many people are the core, regular and occasional contributors?\n",
    "* How is the evolution of each type of contributor over time? What is the trend?"
   ]
  },
  {
   "cell_type": "markdown",
   "metadata": {},
   "source": [
    "### Community contributors Funnel\n",
    "* How is the people flow between contribution categories (core, regular and occasional)?\n",
    "* How is the people flow between engagement channels?"
   ]
  },
  {
   "cell_type": "markdown",
   "metadata": {},
   "source": [
    "### Community Gender Analysis\n",
    "* How gender-diverse is the community?"
   ]
  },
  {
   "cell_type": "markdown",
   "metadata": {},
   "source": [
    "### Organizations Diversity Analysis\n",
    "* Which organizations (beyond Mozilla) are contributing to the project?\n",
    "* What is Mozilla products Bitergia Elephant Factor?"
   ]
  },
  {
   "cell_type": "code",
   "execution_count": null,
   "metadata": {
    "collapsed": true
   },
   "outputs": [],
   "source": []
  }
 ],
 "metadata": {
  "kernelspec": {
   "display_name": "Python 3",
   "language": "python",
   "name": "python3"
  },
  "language_info": {
   "codemirror_mode": {
    "name": "ipython",
    "version": 3
   },
   "file_extension": ".py",
   "mimetype": "text/x-python",
   "name": "python",
   "nbconvert_exporter": "python",
   "pygments_lexer": "ipython3",
   "version": "3.5.2+"
  }
 },
 "nbformat": 4,
 "nbformat_minor": 1
}
