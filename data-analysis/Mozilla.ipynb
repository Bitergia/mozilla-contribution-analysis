{
 "cells": [
  {
   "cell_type": "markdown",
   "metadata": {},
   "source": [
    "# Report Definition\n",
    "\n"
   ]
  },
  {
   "cell_type": "markdown",
   "metadata": {},
   "source": [
    "## Requirements\n",
    "* Code review process\n",
    "    * Labels for GitHub and Bugzilla\n",
    "* `Good first bug` label in GitHub\n",
    "* Repository list per project across data sources.\n",
    "    * Bitergia will provide a repository list to fill in with needed information (persons, projects, repos, grupos de repos, etc.)"
   ]
  },
  {
   "cell_type": "markdown",
   "metadata": {},
   "source": [
    "## Understanding Mozilla Data\n",
    "* Understand how code review process works in GitHub and Bugzilla.\n",
    "    * Find out flags marking items as part of code review process.\n",
    "* Need for creating new enrinched indexes.\n",
    "    * Information about contribution type and programming language in Git.\n",
    "    * Demographics analysis for other data sources.\n",
    "    * Characterize developers with some features.\n",
    "* New Data Sources:\n",
    "    * MDN\n",
    "    * Localizations (Git or Mozilla's own tool)\n",
    "    * Forums (Kitsune): test the hypothesis of having kitsune as a good entry point for new contributors."
   ]
  },
  {
   "cell_type": "markdown",
   "metadata": {},
   "source": [
    "## Understanding the people in Mozilla community\n",
    "### Main Goal\n",
    "Characterize contributors.\n",
    "\n",
    "#### Sub-goal #1\n",
    "\n",
    "  * **Definition**: \n",
    "    * Classify contributors depending on the companies they belong to, gender and geographical data (time zones or city name).\n",
    "  * **Questions**:\n",
    "    * How are they distributed among companies?\n",
    "    * Are they hired by Mozilla?\n",
    "    * Gender\n",
    "    * Geographical data\n",
    "  * **Metrics**:\n",
    "    * Distribution of contributors among companies.\n",
    "    * Distribution of contributors in two groups: hired by Mozilla and the rest.\n",
    "    * Distribution of contributors by gender (it could also be applied to above metrics)\n",
    "    * Distribution of contributors by time zone (or city name if possible in terms of data availability)\n",
    "\n",
    "#### Sub-goal #2\n",
    "\n",
    "  * **Definition**: \n",
    "    * Find out if there are differences among groups mentioned in [Sub-goal #1](#Sub-goal-#1) in terms of time they are spending.\n",
    "  * **Questions**:\n",
    "    * How long have they been contributing?\n",
    "  * **Metrics**: \n",
    "    * Time from first to last commit. It could be applied over metrics proposed for [Sub-goal #1](#Sub-goal-#1).\n",
    "  \n",
    "#### Sub-goal #3\n",
    " * **Definition**: \n",
    "   * Characterize people that contributes with a couple of answers in a ticket and then dissapears.\n",
    " * **Questions**:\n",
    "   * How many people are contributing a couple of times and then leaving?\n",
    " * **Metrics**:\n",
    "   * Distribution of people having this behaviour over time.\n",
    " \n"
   ]
  },
  {
   "cell_type": "markdown",
   "metadata": {},
   "source": [
    "## Understanding what the community is doing\n",
    "\n",
    "#### Main Goal\n",
    "Understand how the community is working, identifying their activity in different areas. These areas might be divided in terms of what people is doing (code, support, etc.) and/or where they are contributing within product pipeline.\n",
    "\n",
    "#### Sub-goal #1\n",
    " * **Definition**: \n",
    "   * Characterize projects/repos where people is contributing, using features as programming languages and type of contributions.\n",
    " * **Questions**:\n",
    "   * On what Projects or repos (**groups of repos**) are people working?\n",
    "   * What is the type of their contributions? (Coding, Support, Issues, etc.)\n",
    "   * Where are they contributing in the product development pipeline? (Coding, Solving issues, sending patches, discussion, etc.)\n",
    "   * ~~What time they are giving?~~ (~~Activity~~)\n",
    "   * What programming languages are they using?\n",
    "   * Are they contributing more to repos in particular languages?\n",
    " * **Metrics**:\n",
    "   * Distribution of people among projects/repos depending on the base programming lanaguage of the repos.\n",
    "   * Distribution of contributions grouped by type and/or by project/repo.\n",
    "\n"
   ]
  },
  {
   "cell_type": "markdown",
   "metadata": {},
   "source": [
    "## Understanding how the community is connected\n",
    "\n",
    "#### Main Goal\n",
    "Analyze connections within the community in order to find relations between projects.\n",
    "\n",
    "#### Sub-goal #1\n",
    " * **Definition**: \n",
    "   * Finding groups and relationships among them.\n",
    " * **Questions**:\n",
    "   * What groups exist within the community and how are they connected? (Projects)\n",
    "   * How are they connected? (Community network analysis by repo)\n",
    "   * Who are they working with? (in the community, etc.)\n",
    "   * Who is contributing to Mozilla projects because they are employees of corporate collaborators?\n",
    " * **Metrics**:\n",
    "    * Hubs. \n",
    "    * Betweeness.\n",
    "    * Isolated developers.\n",
    "    * Developer groups."
   ]
  },
  {
   "cell_type": "markdown",
   "metadata": {},
   "source": [
    "## Community Demography Analisis\n",
    "* How many people are joining the community?\n",
    "* How many people are no longer active (leaving) in the community?\n",
    "* How is the attraction / retention ratio per \"generation\" and over time?"
   ]
  },
  {
   "cell_type": "markdown",
   "metadata": {},
   "source": [
    "## Community Onion Model Analysis\n",
    "* How many people are the core, regular and occasional contributors?\n",
    "* How is the evolution of each type of contributor over time? What is the trend?"
   ]
  },
  {
   "cell_type": "markdown",
   "metadata": {},
   "source": [
    "## Community contributors Funnel\n",
    "* How is the people flow between contribution categories (core, regular and occasional)?\n",
    "* How is the people flow between engagement channels?"
   ]
  },
  {
   "cell_type": "markdown",
   "metadata": {},
   "source": [
    "## Community Gender Analysis\n",
    "* How gender-diverse is the community?"
   ]
  },
  {
   "cell_type": "markdown",
   "metadata": {},
   "source": [
    "## Organizations Diversity Analysis\n",
    "* Which organizations (beyond Mozilla) are contributing to the project?\n",
    "* What is Mozilla products Bitergia Elephant Factor?"
   ]
  },
  {
   "cell_type": "code",
   "execution_count": null,
   "metadata": {
    "collapsed": true
   },
   "outputs": [],
   "source": []
  }
 ],
 "metadata": {
  "kernelspec": {
   "display_name": "Python 3",
   "language": "python",
   "name": "python3"
  },
  "language_info": {
   "codemirror_mode": {
    "name": "ipython",
    "version": 3
   },
   "file_extension": ".py",
   "mimetype": "text/x-python",
   "name": "python",
   "nbconvert_exporter": "python",
   "pygments_lexer": "ipython3",
   "version": "3.5.2+"
  }
 },
 "nbformat": 4,
 "nbformat_minor": 1
}
