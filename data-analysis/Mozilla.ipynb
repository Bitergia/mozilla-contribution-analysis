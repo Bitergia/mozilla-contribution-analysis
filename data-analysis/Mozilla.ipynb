{
 "cells": [
  {
   "cell_type": "markdown",
   "metadata": {},
   "source": [
    "# Report Definition\n",
    "\n"
   ]
  },
  {
   "cell_type": "markdown",
   "metadata": {},
   "source": [
    "## Summary\n",
    "Mozilla is interested in getting better understanding the current state of its volunteer\n",
    "contributors, contributions, communities, and their connection to one another. Mozilla has\n",
    "accumulated a substantial amount of data over the years (and will be generating some more\n",
    "through a Community Census it is been undertaken in parallel to this work), but it\n",
    "hasn’t been analyzed in any significant or rigorous way.\n",
    "\n",
    "## Scope\n",
    "The scope of this project is to analyze and explore data already available in the [Mozilla Analytics\n",
    "Dashobard](http://analytics.mozilla.community) (including the database that supports it), related to the following areas:\n",
    "* Understanding the people. Characterization of the community from several points of view, including “age” (time contributing) in the project, history (different kinds of contributions), migration between Mozilla projects, affiliation (Mozilla employees or independent volunteers), gender (based on a name analysis), geographical distribution (based on time zone data and GitHub data, when available), performance, etc.\n",
    "* Understanding activity. Characterization of activity in the different Mozilla projects, including evolution of activity over time, key performance factors, key good practices in specific projects, in the context of the groups characterized in the previous item. \n",
    "* Understanding interconnection. Learning how contributors work with each other in common projects, how they migrate together (or not), how they evolve, and learning about the key people acting as “connectors” between projects.\n",
    "\n",
    "The analysis proposed in this document is limited to data available for retrieval from the following data sources:\n",
    "* Git\n",
    "* GitHub\n",
    "* Bugzilla\n",
    "* Mailing Lists\n",
    "* Discourse\n",
    "\n",
    "Besides, all metrics based on affiliations will depend on the quality of affiliation data provided by the Mozilla.\n",
    "\n",
    "## Methodology\n",
    "To get focus in the questions that might be really interesting for Mozilla, Bitergia will use [Goals – Question – Metrics (GQM) methodology](https://en.wikipedia.org/wiki/GQM), based on:\n",
    "1. A set of interviews or meetings with Mozilla staff to understand the pursued goals and define them together.\n",
    "2. A set of questions that might help answering if the set of goals previously defined are reached or not, or how the organization is pursuing them.\n",
    "3. A set of metrics of metrics that provide facts based on data to answer the previous questions."
   ]
  },
  {
   "cell_type": "markdown",
   "metadata": {},
   "source": [
    "## Requirements\n",
    "* Code review process\n",
    "  * List of labels used for GitHub and Bugzilla\n",
    "* For tracking `Good first bug` tickets in GitHub, we would need to know which tag is used, if it is not exactly this label in GitHub.\n",
    "* Repository list per project across data sources.\n",
    "  * Bitergia will provide a repository list to fill in with information related to projects, repos or groups of repos unavailable from original data sources.\n",
    "\n",
    "### Understanding Mozilla Data\n",
    "* Understand how code review process works in GitHub and Bugzilla.\n",
    "    * Find out flags marking items as part of code review process.\n",
    "* Need for creating new enrinched indexes.\n",
    "    * Information about contribution type and programming language in Git.\n",
    "    * Demographics analysis for other data sources.\n",
    "* New Data Sources:\n",
    "    * MDN\n",
    "    * Localizations (Git or Mozilla's own tool)\n",
    "    * Forums (Kitsune): test the hypothesis of having kitsune as a good entry point for new contributors."
   ]
  },
  {
   "cell_type": "markdown",
   "metadata": {},
   "source": [
    "## Understanding the people in Mozilla community\n",
    "Characterize Mozilla community based on their contributors. A contributor will be understood as a person who performs an action that can be tracked by Bitergia within the set of data sources specified in the scope section at the beginning of this document. To give an example, some of these actions could be sending a commit, opening or closing a ticket. As they will be different depending on the data source, particular actions used in each analysis will be detailed within particular goals.\n",
    "\n",
    "There are two main areas to study:\n",
    "  * Community: related to people contributing and its characterization. \n",
    "  * Activity: related to actions performed by contributors.\n",
    "\n",
    "Both of them are detailed in next sub-sections."
   ]
  },
  {
   "cell_type": "markdown",
   "metadata": {},
   "source": [
    "### Community\n",
    "\n",
    "  * **Definition**: \n",
    "    * To better understand Mozilla community, first we will define a set of characteristics from the point of view of people contributing. These characteristics are:\n",
    "      * Projects.\n",
    "      * Organizations.\n",
    "      * Gender.\n",
    "      * Age (understood as time contributing)\n",
    "      * Geographical information. To infer this, we rely on time zones or city name (if available in GitHub).\n",
    "    \n",
    "  * **Limitations**:\n",
    "    * Projects and Organizations depends on customer provided information.\n",
    "    * Gender is guessed from contributors name using genderize.io API, so its accuracy is limited to this API.\n",
    "    * As we try to place people based on time zones (as it is the only information available to do it), we are limited by its scope. On the one hand, the same time zone includes several geographical places that are not close. On the other hand, time zones depends on user system configuration, so for some cases it may not be accurate.\n",
    "    * If we use city names from GitHub profiles, we will be limited by the availability and granularity of this information.\n",
    "  \n",
    "  * **Questions**:\n",
    "    * What organizations have more contributors?\n",
    "    * Are contributors hired by Mozilla?\n",
    "    * What is the gender of contributors?\n",
    "    * How long are people contributing?\n",
    "    * What are the most common time zones where contributions are coming from?\n",
    "  \n",
    "  * **Metrics**:\n",
    "    * Contributors by organization.\n",
    "    * Contributors in two groups: hired by Mozilla and the rest.\n",
    "    * Contributors by gender.\n",
    "    * Time from first to last commit of each contributor.\n",
    "    * Contributors by time zone (or city name if possible in terms of data availability)"
   ]
  },
  {
   "cell_type": "markdown",
   "metadata": {},
   "source": [
    "### Activity\n",
    "\n",
    "  * **Definition**: \n",
    "    * Based on [Community](#Community) characterization, we will look at activities within the community through time in order to show the evolution of community activity. Activity is understood here as the actions performed by contributors (commit, actions on tickets, sending e-mails and so on). As it was said before, these actions will depend on the data sources. So, at least, we define the following actions:\n",
    "      * Git: sending a commit.\n",
    "      * GitHub: open tickets, closed tickets, submitted reviews, closed reviews.\n",
    "      * Bugzilla: open tickets, closed tickets.\n",
    "      * Mailing Lists: sent e-mails.\n",
    "      * Discourse: questions, answers.\n",
    "          \n",
    "  * **Questions**:\n",
    "    * How activity evolves in the last period (e.g. month) compared to previous ones?\n",
    "    \n",
    "  * **Metrics**: \n",
    "    * Git:\n",
    "      * Number of commits.\n",
    "    * GitHub:\n",
    "      * Number of open tickets.\n",
    "      * Number of closed tickets.\n",
    "      * Number of submitted reviews.\n",
    "      * Number of closed reviews\n",
    "    * Bugzilla:\n",
    "      * Number of open tickets.\n",
    "      * Number of closed tickets.\n",
    "    * Mailing lists:\n",
    "      * Number of sent e-mails.\n",
    "    * Discourse:\n",
    "      * Number of questions.\n",
    "      * Number of answers."
   ]
  },
  {
   "cell_type": "markdown",
   "metadata": {},
   "source": [
    "## Contribution Patterns\n",
    "Analyze groups of contributors and their evolution through time. These groups will help to classify people from those contributing once in a while to more usual contributors. Looking at the evolution of these groups over time can help to understand how the community is evolving. Besides, these groups could be filtered using metrics described in [Community](#Community) to get a more specific insight.\n",
    "\n",
    " * **Definition**:\n",
    "   * Define groups of contributors based on number of contributions. These groups could be:\n",
    "     * People contributing twice or less.\n",
    "     * People contributing more than twice but less than 10 times.\n",
    "     * People contributing more than 10 but less than 20 times.\n",
    "     * People contributing more than 20 times.\n",
    "   * These groups could be modified depending on actual data on each data source.\n",
    " * **Questions**:\n",
    "   * How often are people contributing?\n",
    "   * Do we have a strong community in terms of contributions?\n",
    "   * Is the contribution pattern moving to a different pattern?\n",
    " * **Metrics**:\n",
    "   * Population of each group of contributors over time."
   ]
  },
  {
   "cell_type": "markdown",
   "metadata": {},
   "source": [
    "## Understanding what the community is doing\n",
    "Understand how the community is working, identifying their activity in different areas. These areas might be divided in terms of what people is doing (code, support, etc.) and/or where they are contributing within product pipeline.\n",
    "\n",
    " * **Definition**: \n",
    "   * Characterize projects/repos where people is contributing, using features as programming languages and type of contributions.\n",
    " * **Questions**:\n",
    "   * On what Projects or repos (**groups of repos**) are people working?\n",
    "   * What is the type of their contributions? (Coding, Support, Issues, etc.)\n",
    "   * Where are they contributing in the product development pipeline? (Coding, Solving issues, sending patches, discussion, etc.)\n",
    "   * ~~What time they are giving?~~ (~~Activity~~)\n",
    "   * What programming languages are they using?\n",
    "   * Are they contributing more to repos in particular languages?\n",
    " * **Metrics**:\n",
    "   * Number of people by project/repo depending on the base programming lanaguage of the repos.\n",
    "   * Number of contributions grouped by type and/or by project/repo.\n",
    "\n"
   ]
  },
  {
   "cell_type": "markdown",
   "metadata": {},
   "source": [
    "## Community Demography Analisis\n",
    "Analyze the evolution of attraction and retention of contributors. These data could be filtered using some of the metrics described in [Community](#Community) to get a more specific insight and filter data based on project or/and organization. \n",
    "\n",
    "* **Definition**: \n",
    "   * Calculating contributors that join or left the community in a given period.\n",
    "* **Questions**:\n",
    "   * How many people are joining the community?\n",
    "   * How many people are no longer active (leaving) in the community?\n",
    "   * How is the attraction / retention ratio over time?\n",
    "* **Metrics**:\n",
    "   * People joining the community.\n",
    "   * People leaving the community."
   ]
  },
  {
   "cell_type": "markdown",
   "metadata": {},
   "source": [
    "## Understanding how the community is connected\n",
    "Analyze connections within the community in order to find relations between projects.\n",
    "\n",
    " * **Definition**: \n",
    "   * Finding groups and relationships among them.\n",
    " * **Questions**:\n",
    "   * Do organizations contribute to particular projects?\n",
    "   * How many repos are being contributed by the same organization/developer?\n",
    " * **Metrics**:\n",
    "    * Number of contributions by organization and repository.\n",
    "    * Number of contributors by organization and repository."
   ]
  },
  {
   "cell_type": "markdown",
   "metadata": {},
   "source": [
    "## Organizations Diversity Analysis\n",
    "In this section we will focus on analyzing the diversity in terms of organizations contributing to Mozilla community. We use the Elephant Factor, defined as the minimum number of organizations whose employees perform 50% of the commits. This number provides an indication of how many people or organizations the community depends on.\n",
    "\n",
    " * **Definition**: \n",
    "   * Displaying contributions based on organizations involved. Finding if there exists some dependency on an organization or a small group of them.\n",
    " * **Questions**:\n",
    "   * Which organizations (beyond Mozilla) are contributing to the project?\n",
    "   * What is Mozilla products Bitergia Elephant Factor?\n",
    " * **Metrics**:\n",
    "   * Number of organizations contributing to projects.\n",
    "   * Bitergia's Elephant Factor."
   ]
  },
  {
   "cell_type": "markdown",
   "metadata": {},
   "source": [
    "## Community Onion Model Analysis\n",
    " * **Definition**:\n",
    "   * ...\n",
    " * **Questions**:\n",
    "   * How many people are the core, regular and occasional contributors?\n",
    "   * How is the evolution of each type of contributor over time? What is the trend?\n",
    " * **Metrics**:\n",
    "   * ...\n",
    "\n"
   ]
  },
  {
   "cell_type": "markdown",
   "metadata": {},
   "source": [
    "## Community contributors Funnel\n",
    " * **Definition**:\n",
    "   * ...\n",
    " * **Questions**:\n",
    "   * How is the people flow between contribution categories (core, regular and occasional)?\n",
    "   * How is the people flow between engagement channels?\n",
    " * **Metrics**:\n",
    "   * ...\n"
   ]
  },
  {
   "cell_type": "markdown",
   "metadata": {},
   "source": [
    "## Community Diversity Analysis\n",
    "\n",
    " * **Definition**:\n",
    "   * ...\n",
    " * **Questions**:\n",
    "   * How gender-diverse is the community?\n",
    " * **Metrics**:\n",
    "   * ..."
   ]
  },
  {
   "cell_type": "code",
   "execution_count": null,
   "metadata": {
    "collapsed": true
   },
   "outputs": [],
   "source": []
  }
 ],
 "metadata": {
  "kernelspec": {
   "display_name": "Python 3",
   "language": "python",
   "name": "python3"
  },
  "language_info": {
   "codemirror_mode": {
    "name": "ipython",
    "version": 3
   },
   "file_extension": ".py",
   "mimetype": "text/x-python",
   "name": "python",
   "nbconvert_exporter": "python",
   "pygments_lexer": "ipython3",
   "version": "3.5.2+"
  }
 },
 "nbformat": 4,
 "nbformat_minor": 1
}
