{
 "cells": [
  {
   "cell_type": "raw",
   "metadata": {},
   "source": [
    "<script>\n",
    "  function code_toggle() {\n",
    "    if (code_shown){\n",
    "      $('div.input').hide('500');\n",
    "      $('div.output_text').hide('500')\n",
    "      $('#toggleButton').val('Show Code')\n",
    "    } else {\n",
    "      $('div.input').show('500');\n",
    "      $('div.output_text').show('500')\n",
    "      $('#toggleButton').val('Hide Code')\n",
    "    }\n",
    "    code_shown = !code_shown\n",
    "  }\n",
    "\n",
    "  $( document ).ready(function(){\n",
    "    code_shown=false;\n",
    "    $('div.input').hide()\n",
    "    $('div.output_text').hide()\n",
    "  });\n",
    "</script>\n",
    "<form action=\"javascript:code_toggle()\"><input type=\"submit\" id=\"toggleButton\" value=\"Show Code\"></form>"
   ]
  },
  {
   "cell_type": "code",
   "execution_count": 74,
   "metadata": {
    "collapsed": false
   },
   "outputs": [],
   "source": [
    "from datetime import datetime\n",
    "import pandas\n",
    "\n",
    "import os\n",
    "\n",
    "import plotly as plotly\n",
    "import plotly.figure_factory as ff\n",
    "import plotly.graph_objs as go\n",
    "\n",
    "import util as ut\n",
    "\n",
    "from util import ESConnection\n",
    "from elasticsearch_dsl import Search\n",
    "\n",
    "es_conn = ESConnection()\n",
    "\n",
    "# Let's load projects from the REVIEWED SPREADSHEET\n",
    "projects = ut.read_projects(\"data/Contributors and Communities Analysis - Project grouping.xlsx\")\n",
    "\n",
    "project_name = os.environ.get('PROJECT', 'All')\n",
    "max_time = os.environ.get('MAX_TIME', '10')\n",
    "\n",
    "# Range of years from 2017 to the past to be used in all metrics\n",
    "# Use 0 as starting point together with lt in queries to exclude 2017\n",
    "analyzed_range = range(0,int(max_time))"
   ]
  },
  {
   "cell_type": "code",
   "execution_count": 4,
   "metadata": {
    "collapsed": true
   },
   "outputs": [],
   "source": [
    "def create_search(source):\n",
    "    s = Search(using=es_conn, index=source)\n",
    "    \n",
    "    if source == 'git' or source == 'github':\n",
    "        github = projects['Github']\n",
    "        repos = github['Repo'].tolist()\n",
    "        #print (repos)\n",
    "        s = s.filter('terms', repo_name=repos)\n",
    "    \n",
    "    # TODO: Add bot and merges filtering.\n",
    "    #s = s.filter('range', grimoire_creation_date={'gt': 'now/M-2y', 'lt': 'now/M'})\n",
    "    #s.params(timeout=100)\n",
    "    return s"
   ]
  },
  {
   "cell_type": "code",
   "execution_count": 5,
   "metadata": {
    "collapsed": true
   },
   "outputs": [],
   "source": [
    "def get_authors_df(result, author_bucket_field):        \n",
    "\n",
    "    # Get a dataframe with each author and their first commit\n",
    "    buckets_result = result['aggregations'][author_bucket_field]['buckets']\n",
    "\n",
    "    buckets = []\n",
    "    for bucket_author in buckets_result:\n",
    "        author = bucket_author['key']\n",
    "\n",
    "        first = bucket_author['first']['hits']['hits'][0]\n",
    "        first_commit = first['sort'][0]/1000\n",
    "        last_commit = bucket_author['last_commit']['value']/1000\n",
    "        org_name = first['_source']['author_org_name']\n",
    "        repo_name = first['_source']['repo_name']\n",
    "        #uuid = first['_source']['author_uuid']\n",
    "        buckets.append({\n",
    "                'first_commit': datetime.utcfromtimestamp(first_commit),\n",
    "                'last_commit': datetime.utcfromtimestamp(last_commit),\n",
    "                'author': author,\n",
    "                #'uuid': uuid,\n",
    "                'org': org_name,\n",
    "                'repo_name': repo_name\n",
    "        })\n",
    "    authors_df = pandas.DataFrame.from_records(buckets)\n",
    "    authors_df.sort_values(by='first_commit', ascending=False,\n",
    "                            inplace=True)\n",
    "    return authors_df\n",
    "\n",
    "def get_active_authors_df(result, author_bucket_field, year):\n",
    "    \"\"\"Returns a dataframe with first and last commit of those authors\n",
    "    whose last commit was made within a given year\"\"\"\n",
    "\n",
    "    # Get a dataframe with each author and their first commit\n",
    "    buckets_result = result['aggregations'][author_bucket_field]['buckets']\n",
    "\n",
    "    buckets = []\n",
    "    for bucket_author in buckets_result:\n",
    "        author = bucket_author['key']\n",
    "\n",
    "        first = bucket_author['first']['hits']['hits'][0]\n",
    "        first_commit = first['sort'][0]/1000\n",
    "        last_commit = bucket_author['last_commit']['value']/1000\n",
    "        org_name = first['_source']['author_org_name']\n",
    "        repo_name = first['_source']['repo_name']\n",
    "        #uuid = first['_source']['author_uuid']\n",
    "        if datetime.utcfromtimestamp(last_commit).year == year:\n",
    "            buckets.append({\n",
    "                    'first_commit': datetime.utcfromtimestamp(first_commit),\n",
    "                    'last_commit': datetime.utcfromtimestamp(last_commit),\n",
    "                    'author': author,\n",
    "                    #'uuid': uuid,\n",
    "                    'org': org_name,\n",
    "                    'repo_name': repo_name\n",
    "            })\n",
    "    authors_df = pandas.DataFrame.from_records(buckets)\n",
    "    authors_df.sort_values(by='first_commit', ascending=False,\n",
    "                            inplace=True)\n",
    "    return authors_df"
   ]
  },
  {
   "cell_type": "code",
   "execution_count": 6,
   "metadata": {
    "collapsed": true
   },
   "outputs": [],
   "source": [
    "def print_horizontal_bar_chart(df, experience_field, title, min_range = 0):\n",
    "    \n",
    "    plotly.offline.init_notebook_mode(connected=True)\n",
    "    \n",
    "    experience = list(range(min_range, int(df[experience_field].max()) + 1))\n",
    "    \n",
    "    people_count = []\n",
    "    for exp in experience:\n",
    "        people_count.append(len(df.loc[df[experience_field] == exp]))\n",
    "        \n",
    "    data = [go.Bar(\n",
    "            x=people_count,\n",
    "            y=experience,\n",
    "            orientation = 'h'\n",
    "    )]\n",
    "    \n",
    "    layout = go.Layout(\n",
    "        barmode='group',\n",
    "        title= title\n",
    "    )\n",
    "\n",
    "    fig = go.Figure(data=data, layout=layout)\n",
    "    plotly.offline.iplot(fig, filename='horizontal-bar')"
   ]
  },
  {
   "cell_type": "code",
   "execution_count": 7,
   "metadata": {
    "collapsed": false
   },
   "outputs": [],
   "source": [
    "def add_general_date_filters(s):\n",
    "    # 01/01/1998\n",
    "    initial_ts = '883609200000'\n",
    "    return s.filter('range', grimoire_creation_date={'gt': initial_ts})\n",
    "\n",
    "def add_bot_filter(s):\n",
    "    return s.filter('term', author_bot='false')\n",
    "\n",
    "def add_merges_filter(s):\n",
    "    return s.filter('range', files={'gt': 0})\n",
    "\n",
    "def add_project_filter(s):\n",
    "    if project_name.lower() != 'all':\n",
    "        github = projects['Github']\n",
    "        repos = github[github['Project'] == project_name]['Repo'].tolist()\n",
    "        #print(repos)\n",
    "        s = s.filter('terms', repo_name=repos)\n",
    "    return s"
   ]
  },
  {
   "cell_type": "markdown",
   "metadata": {},
   "source": [
    "## First project\n",
    "Get the project in which auhtors made their first contribution to Mozilla. Show a ranking of top 5 projects in number of newcomers to Mozilla per year."
   ]
  },
  {
   "cell_type": "code",
   "execution_count": 94,
   "metadata": {
    "collapsed": false,
    "scrolled": false
   },
   "outputs": [
    {
     "data": {
      "text/html": [
       "<script>requirejs.config({paths: { 'plotly': ['https://cdn.plot.ly/plotly-latest.min']},});if(!window.Plotly) {{require(['plotly'],function(plotly) {window.Plotly=plotly;});}}</script>"
      ],
      "text/vnd.plotly.v1+html": [
       "<script>requirejs.config({paths: { 'plotly': ['https://cdn.plot.ly/plotly-latest.min']},});if(!window.Plotly) {{require(['plotly'],function(plotly) {window.Plotly=plotly;});}}</script>"
      ]
     },
     "metadata": {},
     "output_type": "display_data"
    },
    {
     "data": {
      "application/vnd.plotly.v1+json": {
       "data": [
        {
         "colorscale": [
          [
           0,
           "#00083e"
          ],
          [
           0.5,
           "#ededee"
          ],
          [
           1,
           "#ffffff"
          ]
         ],
         "hoverinfo": "none",
         "opacity": 0.75,
         "showscale": false,
         "type": "heatmap",
         "z": [
          [
           0,
           0,
           0
          ],
          [
           0.5,
           0.5,
           0.5
          ],
          [
           1,
           1,
           1
          ],
          [
           0.5,
           0.5,
           0.5
          ],
          [
           1,
           1,
           1
          ],
          [
           0.5,
           0.5,
           0.5
          ],
          [
           1,
           1,
           1
          ],
          [
           0.5,
           0.5,
           0.5
          ],
          [
           1,
           1,
           1
          ],
          [
           0.5,
           0.5,
           0.5
          ],
          [
           1,
           1,
           1
          ],
          [
           0.5,
           0.5,
           0.5
          ],
          [
           1,
           1,
           1
          ],
          [
           0.5,
           0.5,
           0.5
          ],
          [
           1,
           1,
           1
          ],
          [
           0.5,
           0.5,
           0.5
          ],
          [
           1,
           1,
           1
          ],
          [
           0.5,
           0.5,
           0.5
          ],
          [
           1,
           1,
           1
          ],
          [
           0.5,
           0.5,
           0.5
          ],
          [
           1,
           1,
           1
          ],
          [
           0.5,
           0.5,
           0.5
          ],
          [
           1,
           1,
           1
          ],
          [
           0.5,
           0.5,
           0.5
          ],
          [
           1,
           1,
           1
          ],
          [
           0.5,
           0.5,
           0.5
          ],
          [
           1,
           1,
           1
          ],
          [
           0.5,
           0.5,
           0.5
          ],
          [
           1,
           1,
           1
          ],
          [
           0.5,
           0.5,
           0.5
          ],
          [
           1,
           1,
           1
          ],
          [
           0.5,
           0.5,
           0.5
          ],
          [
           1,
           1,
           1
          ],
          [
           0.5,
           0.5,
           0.5
          ],
          [
           1,
           1,
           1
          ],
          [
           0.5,
           0.5,
           0.5
          ],
          [
           1,
           1,
           1
          ],
          [
           0.5,
           0.5,
           0.5
          ],
          [
           1,
           1,
           1
          ],
          [
           0.5,
           0.5,
           0.5
          ],
          [
           1,
           1,
           1
          ],
          [
           0.5,
           0.5,
           0.5
          ],
          [
           1,
           1,
           1
          ],
          [
           0.5,
           0.5,
           0.5
          ],
          [
           1,
           1,
           1
          ],
          [
           0.5,
           0.5,
           0.5
          ],
          [
           1,
           1,
           1
          ],
          [
           0.5,
           0.5,
           0.5
          ],
          [
           1,
           1,
           1
          ],
          [
           0.5,
           0.5,
           0.5
          ],
          [
           1,
           1,
           1
          ],
          [
           0.5,
           0.5,
           0.5
          ],
          [
           1,
           1,
           1
          ],
          [
           0.5,
           0.5,
           0.5
          ],
          [
           1,
           1,
           1
          ],
          [
           0.5,
           0.5,
           0.5
          ],
          [
           1,
           1,
           1
          ],
          [
           0.5,
           0.5,
           0.5
          ],
          [
           1,
           1,
           1
          ],
          [
           0.5,
           0.5,
           0.5
          ],
          [
           1,
           1,
           1
          ],
          [
           0.5,
           0.5,
           0.5
          ],
          [
           1,
           1,
           1
          ],
          [
           0.5,
           0.5,
           0.5
          ],
          [
           1,
           1,
           1
          ],
          [
           0.5,
           0.5,
           0.5
          ],
          [
           1,
           1,
           1
          ],
          [
           0.5,
           0.5,
           0.5
          ],
          [
           1,
           1,
           1
          ],
          [
           0.5,
           0.5,
           0.5
          ],
          [
           1,
           1,
           1
          ],
          [
           0.5,
           0.5,
           0.5
          ],
          [
           1,
           1,
           1
          ],
          [
           0.5,
           0.5,
           0.5
          ],
          [
           1,
           1,
           1
          ],
          [
           0.5,
           0.5,
           0.5
          ],
          [
           1,
           1,
           1
          ],
          [
           0.5,
           0.5,
           0.5
          ],
          [
           1,
           1,
           1
          ],
          [
           0.5,
           0.5,
           0.5
          ],
          [
           1,
           1,
           1
          ],
          [
           0.5,
           0.5,
           0.5
          ],
          [
           1,
           1,
           1
          ],
          [
           0.5,
           0.5,
           0.5
          ],
          [
           1,
           1,
           1
          ],
          [
           0.5,
           0.5,
           0.5
          ],
          [
           1,
           1,
           1
          ],
          [
           0.5,
           0.5,
           0.5
          ],
          [
           1,
           1,
           1
          ],
          [
           0.5,
           0.5,
           0.5
          ],
          [
           1,
           1,
           1
          ],
          [
           0.5,
           0.5,
           0.5
          ],
          [
           1,
           1,
           1
          ],
          [
           0.5,
           0.5,
           0.5
          ],
          [
           1,
           1,
           1
          ]
         ]
        }
       ],
       "layout": {
        "annotations": [
         {
          "align": "left",
          "font": {
           "color": "#ffffff"
          },
          "showarrow": false,
          "text": "<b>first_commit</b>",
          "x": -0.45,
          "xanchor": "left",
          "xref": "x1",
          "y": 0,
          "yref": "y1"
         },
         {
          "align": "left",
          "font": {
           "color": "#ffffff"
          },
          "showarrow": false,
          "text": "<b>Project</b>",
          "x": 0.55,
          "xanchor": "left",
          "xref": "x1",
          "y": 0,
          "yref": "y1"
         },
         {
          "align": "left",
          "font": {
           "color": "#ffffff"
          },
          "showarrow": false,
          "text": "<b># authors</b>",
          "x": 1.55,
          "xanchor": "left",
          "xref": "x1",
          "y": 0,
          "yref": "y1"
         },
         {
          "align": "left",
          "font": {
           "color": "#000000"
          },
          "showarrow": false,
          "text": "2016",
          "x": -0.45,
          "xanchor": "left",
          "xref": "x1",
          "y": 1,
          "yref": "y1"
         },
         {
          "align": "left",
          "font": {
           "color": "#000000"
          },
          "showarrow": false,
          "text": "Rust",
          "x": 0.55,
          "xanchor": "left",
          "xref": "x1",
          "y": 1,
          "yref": "y1"
         },
         {
          "align": "left",
          "font": {
           "color": "#000000"
          },
          "showarrow": false,
          "text": "493",
          "x": 1.55,
          "xanchor": "left",
          "xref": "x1",
          "y": 1,
          "yref": "y1"
         },
         {
          "align": "left",
          "font": {
           "color": "#000000"
          },
          "showarrow": false,
          "text": "2016",
          "x": -0.45,
          "xanchor": "left",
          "xref": "x1",
          "y": 2,
          "yref": "y1"
         },
         {
          "align": "left",
          "font": {
           "color": "#000000"
          },
          "showarrow": false,
          "text": "Gecko",
          "x": 0.55,
          "xanchor": "left",
          "xref": "x1",
          "y": 2,
          "yref": "y1"
         },
         {
          "align": "left",
          "font": {
           "color": "#000000"
          },
          "showarrow": false,
          "text": "286",
          "x": 1.55,
          "xanchor": "left",
          "xref": "x1",
          "y": 2,
          "yref": "y1"
         },
         {
          "align": "left",
          "font": {
           "color": "#000000"
          },
          "showarrow": false,
          "text": "2016",
          "x": -0.45,
          "xanchor": "left",
          "xref": "x1",
          "y": 3,
          "yref": "y1"
         },
         {
          "align": "left",
          "font": {
           "color": "#000000"
          },
          "showarrow": false,
          "text": "Servo",
          "x": 0.55,
          "xanchor": "left",
          "xref": "x1",
          "y": 3,
          "yref": "y1"
         },
         {
          "align": "left",
          "font": {
           "color": "#000000"
          },
          "showarrow": false,
          "text": "194",
          "x": 1.55,
          "xanchor": "left",
          "xref": "x1",
          "y": 3,
          "yref": "y1"
         },
         {
          "align": "left",
          "font": {
           "color": "#000000"
          },
          "showarrow": false,
          "text": "2016",
          "x": -0.45,
          "xanchor": "left",
          "xref": "x1",
          "y": 4,
          "yref": "y1"
         },
         {
          "align": "left",
          "font": {
           "color": "#000000"
          },
          "showarrow": false,
          "text": "Web Properties",
          "x": 0.55,
          "xanchor": "left",
          "xref": "x1",
          "y": 4,
          "yref": "y1"
         },
         {
          "align": "left",
          "font": {
           "color": "#000000"
          },
          "showarrow": false,
          "text": "132",
          "x": 1.55,
          "xanchor": "left",
          "xref": "x1",
          "y": 4,
          "yref": "y1"
         },
         {
          "align": "left",
          "font": {
           "color": "#000000"
          },
          "showarrow": false,
          "text": "2016",
          "x": -0.45,
          "xanchor": "left",
          "xref": "x1",
          "y": 5,
          "yref": "y1"
         },
         {
          "align": "left",
          "font": {
           "color": "#000000"
          },
          "showarrow": false,
          "text": "WebVR",
          "x": 0.55,
          "xanchor": "left",
          "xref": "x1",
          "y": 5,
          "yref": "y1"
         },
         {
          "align": "left",
          "font": {
           "color": "#000000"
          },
          "showarrow": false,
          "text": "113",
          "x": 1.55,
          "xanchor": "left",
          "xref": "x1",
          "y": 5,
          "yref": "y1"
         },
         {
          "align": "left",
          "font": {
           "color": "#000000"
          },
          "showarrow": false,
          "text": "2016",
          "x": -0.45,
          "xanchor": "left",
          "xref": "x1",
          "y": 6,
          "yref": "y1"
         },
         {
          "align": "left",
          "font": {
           "color": "#000000"
          },
          "showarrow": false,
          "text": "IT/Ops",
          "x": 0.55,
          "xanchor": "left",
          "xref": "x1",
          "y": 6,
          "yref": "y1"
         },
         {
          "align": "left",
          "font": {
           "color": "#000000"
          },
          "showarrow": false,
          "text": "100",
          "x": 1.55,
          "xanchor": "left",
          "xref": "x1",
          "y": 6,
          "yref": "y1"
         },
         {
          "align": "left",
          "font": {
           "color": "#000000"
          },
          "showarrow": false,
          "text": "2016",
          "x": -0.45,
          "xanchor": "left",
          "xref": "x1",
          "y": 7,
          "yref": "y1"
         },
         {
          "align": "left",
          "font": {
           "color": "#000000"
          },
          "showarrow": false,
          "text": "Mozilla Local/Regional communities",
          "x": 0.55,
          "xanchor": "left",
          "xref": "x1",
          "y": 7,
          "yref": "y1"
         },
         {
          "align": "left",
          "font": {
           "color": "#000000"
          },
          "showarrow": false,
          "text": "57",
          "x": 1.55,
          "xanchor": "left",
          "xref": "x1",
          "y": 7,
          "yref": "y1"
         },
         {
          "align": "left",
          "font": {
           "color": "#000000"
          },
          "showarrow": false,
          "text": "2016",
          "x": -0.45,
          "xanchor": "left",
          "xref": "x1",
          "y": 8,
          "yref": "y1"
         },
         {
          "align": "left",
          "font": {
           "color": "#000000"
          },
          "showarrow": false,
          "text": "Addons/Web Extensions",
          "x": 0.55,
          "xanchor": "left",
          "xref": "x1",
          "y": 8,
          "yref": "y1"
         },
         {
          "align": "left",
          "font": {
           "color": "#000000"
          },
          "showarrow": false,
          "text": "40",
          "x": 1.55,
          "xanchor": "left",
          "xref": "x1",
          "y": 8,
          "yref": "y1"
         },
         {
          "align": "left",
          "font": {
           "color": "#000000"
          },
          "showarrow": false,
          "text": "2016",
          "x": -0.45,
          "xanchor": "left",
          "xref": "x1",
          "y": 9,
          "yref": "y1"
         },
         {
          "align": "left",
          "font": {
           "color": "#000000"
          },
          "showarrow": false,
          "text": "Mozilla Developer Network (MDN)",
          "x": 0.55,
          "xanchor": "left",
          "xref": "x1",
          "y": 9,
          "yref": "y1"
         },
         {
          "align": "left",
          "font": {
           "color": "#000000"
          },
          "showarrow": false,
          "text": "40",
          "x": 1.55,
          "xanchor": "left",
          "xref": "x1",
          "y": 9,
          "yref": "y1"
         },
         {
          "align": "left",
          "font": {
           "color": "#000000"
          },
          "showarrow": false,
          "text": "2016",
          "x": -0.45,
          "xanchor": "left",
          "xref": "x1",
          "y": 10,
          "yref": "y1"
         },
         {
          "align": "left",
          "font": {
           "color": "#000000"
          },
          "showarrow": false,
          "text": "Mozilla Science",
          "x": 0.55,
          "xanchor": "left",
          "xref": "x1",
          "y": 10,
          "yref": "y1"
         },
         {
          "align": "left",
          "font": {
           "color": "#000000"
          },
          "showarrow": false,
          "text": "32",
          "x": 1.55,
          "xanchor": "left",
          "xref": "x1",
          "y": 10,
          "yref": "y1"
         },
         {
          "align": "left",
          "font": {
           "color": "#000000"
          },
          "showarrow": false,
          "text": "2016",
          "x": -0.45,
          "xanchor": "left",
          "xref": "x1",
          "y": 11,
          "yref": "y1"
         },
         {
          "align": "left",
          "font": {
           "color": "#000000"
          },
          "showarrow": false,
          "text": "Firefox iOS",
          "x": 0.55,
          "xanchor": "left",
          "xref": "x1",
          "y": 11,
          "yref": "y1"
         },
         {
          "align": "left",
          "font": {
           "color": "#000000"
          },
          "showarrow": false,
          "text": "16",
          "x": 1.55,
          "xanchor": "left",
          "xref": "x1",
          "y": 11,
          "yref": "y1"
         },
         {
          "align": "left",
          "font": {
           "color": "#000000"
          },
          "showarrow": false,
          "text": "2016",
          "x": -0.45,
          "xanchor": "left",
          "xref": "x1",
          "y": 12,
          "yref": "y1"
         },
         {
          "align": "left",
          "font": {
           "color": "#000000"
          },
          "showarrow": false,
          "text": "Test Pilot",
          "x": 0.55,
          "xanchor": "left",
          "xref": "x1",
          "y": 12,
          "yref": "y1"
         },
         {
          "align": "left",
          "font": {
           "color": "#000000"
          },
          "showarrow": false,
          "text": "11",
          "x": 1.55,
          "xanchor": "left",
          "xref": "x1",
          "y": 12,
          "yref": "y1"
         },
         {
          "align": "left",
          "font": {
           "color": "#000000"
          },
          "showarrow": false,
          "text": "2016",
          "x": -0.45,
          "xanchor": "left",
          "xref": "x1",
          "y": 13,
          "yref": "y1"
         },
         {
          "align": "left",
          "font": {
           "color": "#000000"
          },
          "showarrow": false,
          "text": "Mozilla Foundation",
          "x": 0.55,
          "xanchor": "left",
          "xref": "x1",
          "y": 13,
          "yref": "y1"
         },
         {
          "align": "left",
          "font": {
           "color": "#000000"
          },
          "showarrow": false,
          "text": "8",
          "x": 1.55,
          "xanchor": "left",
          "xref": "x1",
          "y": 13,
          "yref": "y1"
         },
         {
          "align": "left",
          "font": {
           "color": "#000000"
          },
          "showarrow": false,
          "text": "2016",
          "x": -0.45,
          "xanchor": "left",
          "xref": "x1",
          "y": 14,
          "yref": "y1"
         },
         {
          "align": "left",
          "font": {
           "color": "#000000"
          },
          "showarrow": false,
          "text": "Mozilla Creative & Design",
          "x": 0.55,
          "xanchor": "left",
          "xref": "x1",
          "y": 14,
          "yref": "y1"
         },
         {
          "align": "left",
          "font": {
           "color": "#000000"
          },
          "showarrow": false,
          "text": "7",
          "x": 1.55,
          "xanchor": "left",
          "xref": "x1",
          "y": 14,
          "yref": "y1"
         },
         {
          "align": "left",
          "font": {
           "color": "#000000"
          },
          "showarrow": false,
          "text": "2016",
          "x": -0.45,
          "xanchor": "left",
          "xref": "x1",
          "y": 15,
          "yref": "y1"
         },
         {
          "align": "left",
          "font": {
           "color": "#000000"
          },
          "showarrow": false,
          "text": "Advocacy and policy",
          "x": 0.55,
          "xanchor": "left",
          "xref": "x1",
          "y": 15,
          "yref": "y1"
         },
         {
          "align": "left",
          "font": {
           "color": "#000000"
          },
          "showarrow": false,
          "text": "6",
          "x": 1.55,
          "xanchor": "left",
          "xref": "x1",
          "y": 15,
          "yref": "y1"
         },
         {
          "align": "left",
          "font": {
           "color": "#000000"
          },
          "showarrow": false,
          "text": "2016",
          "x": -0.45,
          "xanchor": "left",
          "xref": "x1",
          "y": 16,
          "yref": "y1"
         },
         {
          "align": "left",
          "font": {
           "color": "#000000"
          },
          "showarrow": false,
          "text": "Localization",
          "x": 0.55,
          "xanchor": "left",
          "xref": "x1",
          "y": 16,
          "yref": "y1"
         },
         {
          "align": "left",
          "font": {
           "color": "#000000"
          },
          "showarrow": false,
          "text": "4",
          "x": 1.55,
          "xanchor": "left",
          "xref": "x1",
          "y": 16,
          "yref": "y1"
         },
         {
          "align": "left",
          "font": {
           "color": "#000000"
          },
          "showarrow": false,
          "text": "2016",
          "x": -0.45,
          "xanchor": "left",
          "xref": "x1",
          "y": 17,
          "yref": "y1"
         },
         {
          "align": "left",
          "font": {
           "color": "#000000"
          },
          "showarrow": false,
          "text": "Release engineering",
          "x": 0.55,
          "xanchor": "left",
          "xref": "x1",
          "y": 17,
          "yref": "y1"
         },
         {
          "align": "left",
          "font": {
           "color": "#000000"
          },
          "showarrow": false,
          "text": "3",
          "x": 1.55,
          "xanchor": "left",
          "xref": "x1",
          "y": 17,
          "yref": "y1"
         },
         {
          "align": "left",
          "font": {
           "color": "#000000"
          },
          "showarrow": false,
          "text": "2016",
          "x": -0.45,
          "xanchor": "left",
          "xref": "x1",
          "y": 18,
          "yref": "y1"
         },
         {
          "align": "left",
          "font": {
           "color": "#000000"
          },
          "showarrow": false,
          "text": "Technical/Developer Evangelism",
          "x": 0.55,
          "xanchor": "left",
          "xref": "x1",
          "y": 18,
          "yref": "y1"
         },
         {
          "align": "left",
          "font": {
           "color": "#000000"
          },
          "showarrow": false,
          "text": "3",
          "x": 1.55,
          "xanchor": "left",
          "xref": "x1",
          "y": 18,
          "yref": "y1"
         },
         {
          "align": "left",
          "font": {
           "color": "#000000"
          },
          "showarrow": false,
          "text": "2016",
          "x": -0.45,
          "xanchor": "left",
          "xref": "x1",
          "y": 19,
          "yref": "y1"
         },
         {
          "align": "left",
          "font": {
           "color": "#000000"
          },
          "showarrow": false,
          "text": "Campus Clubs (previously Student Ambassadors)",
          "x": 0.55,
          "xanchor": "left",
          "xref": "x1",
          "y": 19,
          "yref": "y1"
         },
         {
          "align": "left",
          "font": {
           "color": "#000000"
          },
          "showarrow": false,
          "text": "2",
          "x": 1.55,
          "xanchor": "left",
          "xref": "x1",
          "y": 19,
          "yref": "y1"
         },
         {
          "align": "left",
          "font": {
           "color": "#000000"
          },
          "showarrow": false,
          "text": "2016",
          "x": -0.45,
          "xanchor": "left",
          "xref": "x1",
          "y": 20,
          "yref": "y1"
         },
         {
          "align": "left",
          "font": {
           "color": "#000000"
          },
          "showarrow": false,
          "text": "Firefox",
          "x": 0.55,
          "xanchor": "left",
          "xref": "x1",
          "y": 20,
          "yref": "y1"
         },
         {
          "align": "left",
          "font": {
           "color": "#000000"
          },
          "showarrow": false,
          "text": "2",
          "x": 1.55,
          "xanchor": "left",
          "xref": "x1",
          "y": 20,
          "yref": "y1"
         },
         {
          "align": "left",
          "font": {
           "color": "#000000"
          },
          "showarrow": false,
          "text": "2015",
          "x": -0.45,
          "xanchor": "left",
          "xref": "x1",
          "y": 21,
          "yref": "y1"
         },
         {
          "align": "left",
          "font": {
           "color": "#000000"
          },
          "showarrow": false,
          "text": "Rust",
          "x": 0.55,
          "xanchor": "left",
          "xref": "x1",
          "y": 21,
          "yref": "y1"
         },
         {
          "align": "left",
          "font": {
           "color": "#000000"
          },
          "showarrow": false,
          "text": "642",
          "x": 1.55,
          "xanchor": "left",
          "xref": "x1",
          "y": 21,
          "yref": "y1"
         },
         {
          "align": "left",
          "font": {
           "color": "#000000"
          },
          "showarrow": false,
          "text": "2015",
          "x": -0.45,
          "xanchor": "left",
          "xref": "x1",
          "y": 22,
          "yref": "y1"
         },
         {
          "align": "left",
          "font": {
           "color": "#000000"
          },
          "showarrow": false,
          "text": "Gecko",
          "x": 0.55,
          "xanchor": "left",
          "xref": "x1",
          "y": 22,
          "yref": "y1"
         },
         {
          "align": "left",
          "font": {
           "color": "#000000"
          },
          "showarrow": false,
          "text": "242",
          "x": 1.55,
          "xanchor": "left",
          "xref": "x1",
          "y": 22,
          "yref": "y1"
         },
         {
          "align": "left",
          "font": {
           "color": "#000000"
          },
          "showarrow": false,
          "text": "2015",
          "x": -0.45,
          "xanchor": "left",
          "xref": "x1",
          "y": 23,
          "yref": "y1"
         },
         {
          "align": "left",
          "font": {
           "color": "#000000"
          },
          "showarrow": false,
          "text": "Servo",
          "x": 0.55,
          "xanchor": "left",
          "xref": "x1",
          "y": 23,
          "yref": "y1"
         },
         {
          "align": "left",
          "font": {
           "color": "#000000"
          },
          "showarrow": false,
          "text": "168",
          "x": 1.55,
          "xanchor": "left",
          "xref": "x1",
          "y": 23,
          "yref": "y1"
         },
         {
          "align": "left",
          "font": {
           "color": "#000000"
          },
          "showarrow": false,
          "text": "2015",
          "x": -0.45,
          "xanchor": "left",
          "xref": "x1",
          "y": 24,
          "yref": "y1"
         },
         {
          "align": "left",
          "font": {
           "color": "#000000"
          },
          "showarrow": false,
          "text": "Web Properties",
          "x": 0.55,
          "xanchor": "left",
          "xref": "x1",
          "y": 24,
          "yref": "y1"
         },
         {
          "align": "left",
          "font": {
           "color": "#000000"
          },
          "showarrow": false,
          "text": "160",
          "x": 1.55,
          "xanchor": "left",
          "xref": "x1",
          "y": 24,
          "yref": "y1"
         },
         {
          "align": "left",
          "font": {
           "color": "#000000"
          },
          "showarrow": false,
          "text": "2015",
          "x": -0.45,
          "xanchor": "left",
          "xref": "x1",
          "y": 25,
          "yref": "y1"
         },
         {
          "align": "left",
          "font": {
           "color": "#000000"
          },
          "showarrow": false,
          "text": "IT/Ops",
          "x": 0.55,
          "xanchor": "left",
          "xref": "x1",
          "y": 25,
          "yref": "y1"
         },
         {
          "align": "left",
          "font": {
           "color": "#000000"
          },
          "showarrow": false,
          "text": "86",
          "x": 1.55,
          "xanchor": "left",
          "xref": "x1",
          "y": 25,
          "yref": "y1"
         },
         {
          "align": "left",
          "font": {
           "color": "#000000"
          },
          "showarrow": false,
          "text": "2015",
          "x": -0.45,
          "xanchor": "left",
          "xref": "x1",
          "y": 26,
          "yref": "y1"
         },
         {
          "align": "left",
          "font": {
           "color": "#000000"
          },
          "showarrow": false,
          "text": "Mozilla Local/Regional communities",
          "x": 0.55,
          "xanchor": "left",
          "xref": "x1",
          "y": 26,
          "yref": "y1"
         },
         {
          "align": "left",
          "font": {
           "color": "#000000"
          },
          "showarrow": false,
          "text": "60",
          "x": 1.55,
          "xanchor": "left",
          "xref": "x1",
          "y": 26,
          "yref": "y1"
         },
         {
          "align": "left",
          "font": {
           "color": "#000000"
          },
          "showarrow": false,
          "text": "2015",
          "x": -0.45,
          "xanchor": "left",
          "xref": "x1",
          "y": 27,
          "yref": "y1"
         },
         {
          "align": "left",
          "font": {
           "color": "#000000"
          },
          "showarrow": false,
          "text": "Mozilla Science",
          "x": 0.55,
          "xanchor": "left",
          "xref": "x1",
          "y": 27,
          "yref": "y1"
         },
         {
          "align": "left",
          "font": {
           "color": "#000000"
          },
          "showarrow": false,
          "text": "41",
          "x": 1.55,
          "xanchor": "left",
          "xref": "x1",
          "y": 27,
          "yref": "y1"
         },
         {
          "align": "left",
          "font": {
           "color": "#000000"
          },
          "showarrow": false,
          "text": "2015",
          "x": -0.45,
          "xanchor": "left",
          "xref": "x1",
          "y": 28,
          "yref": "y1"
         },
         {
          "align": "left",
          "font": {
           "color": "#000000"
          },
          "showarrow": false,
          "text": "Firefox iOS",
          "x": 0.55,
          "xanchor": "left",
          "xref": "x1",
          "y": 28,
          "yref": "y1"
         },
         {
          "align": "left",
          "font": {
           "color": "#000000"
          },
          "showarrow": false,
          "text": "30",
          "x": 1.55,
          "xanchor": "left",
          "xref": "x1",
          "y": 28,
          "yref": "y1"
         },
         {
          "align": "left",
          "font": {
           "color": "#000000"
          },
          "showarrow": false,
          "text": "2015",
          "x": -0.45,
          "xanchor": "left",
          "xref": "x1",
          "y": 29,
          "yref": "y1"
         },
         {
          "align": "left",
          "font": {
           "color": "#000000"
          },
          "showarrow": false,
          "text": "Mozilla Developer Network (MDN)",
          "x": 0.55,
          "xanchor": "left",
          "xref": "x1",
          "y": 29,
          "yref": "y1"
         },
         {
          "align": "left",
          "font": {
           "color": "#000000"
          },
          "showarrow": false,
          "text": "25",
          "x": 1.55,
          "xanchor": "left",
          "xref": "x1",
          "y": 29,
          "yref": "y1"
         },
         {
          "align": "left",
          "font": {
           "color": "#000000"
          },
          "showarrow": false,
          "text": "2015",
          "x": -0.45,
          "xanchor": "left",
          "xref": "x1",
          "y": 30,
          "yref": "y1"
         },
         {
          "align": "left",
          "font": {
           "color": "#000000"
          },
          "showarrow": false,
          "text": "Addons/Web Extensions",
          "x": 0.55,
          "xanchor": "left",
          "xref": "x1",
          "y": 30,
          "yref": "y1"
         },
         {
          "align": "left",
          "font": {
           "color": "#000000"
          },
          "showarrow": false,
          "text": "24",
          "x": 1.55,
          "xanchor": "left",
          "xref": "x1",
          "y": 30,
          "yref": "y1"
         },
         {
          "align": "left",
          "font": {
           "color": "#000000"
          },
          "showarrow": false,
          "text": "2015",
          "x": -0.45,
          "xanchor": "left",
          "xref": "x1",
          "y": 31,
          "yref": "y1"
         },
         {
          "align": "left",
          "font": {
           "color": "#000000"
          },
          "showarrow": false,
          "text": "Firefox OS (FxOS / B2G)",
          "x": 0.55,
          "xanchor": "left",
          "xref": "x1",
          "y": 31,
          "yref": "y1"
         },
         {
          "align": "left",
          "font": {
           "color": "#000000"
          },
          "showarrow": false,
          "text": "22",
          "x": 1.55,
          "xanchor": "left",
          "xref": "x1",
          "y": 31,
          "yref": "y1"
         },
         {
          "align": "left",
          "font": {
           "color": "#000000"
          },
          "showarrow": false,
          "text": "2015",
          "x": -0.45,
          "xanchor": "left",
          "xref": "x1",
          "y": 32,
          "yref": "y1"
         },
         {
          "align": "left",
          "font": {
           "color": "#000000"
          },
          "showarrow": false,
          "text": "WebVR",
          "x": 0.55,
          "xanchor": "left",
          "xref": "x1",
          "y": 32,
          "yref": "y1"
         },
         {
          "align": "left",
          "font": {
           "color": "#000000"
          },
          "showarrow": false,
          "text": "16",
          "x": 1.55,
          "xanchor": "left",
          "xref": "x1",
          "y": 32,
          "yref": "y1"
         },
         {
          "align": "left",
          "font": {
           "color": "#000000"
          },
          "showarrow": false,
          "text": "2015",
          "x": -0.45,
          "xanchor": "left",
          "xref": "x1",
          "y": 33,
          "yref": "y1"
         },
         {
          "align": "left",
          "font": {
           "color": "#000000"
          },
          "showarrow": false,
          "text": "Release engineering",
          "x": 0.55,
          "xanchor": "left",
          "xref": "x1",
          "y": 33,
          "yref": "y1"
         },
         {
          "align": "left",
          "font": {
           "color": "#000000"
          },
          "showarrow": false,
          "text": "11",
          "x": 1.55,
          "xanchor": "left",
          "xref": "x1",
          "y": 33,
          "yref": "y1"
         },
         {
          "align": "left",
          "font": {
           "color": "#000000"
          },
          "showarrow": false,
          "text": "2015",
          "x": -0.45,
          "xanchor": "left",
          "xref": "x1",
          "y": 34,
          "yref": "y1"
         },
         {
          "align": "left",
          "font": {
           "color": "#000000"
          },
          "showarrow": false,
          "text": "Web Literacy",
          "x": 0.55,
          "xanchor": "left",
          "xref": "x1",
          "y": 34,
          "yref": "y1"
         },
         {
          "align": "left",
          "font": {
           "color": "#000000"
          },
          "showarrow": false,
          "text": "11",
          "x": 1.55,
          "xanchor": "left",
          "xref": "x1",
          "y": 34,
          "yref": "y1"
         },
         {
          "align": "left",
          "font": {
           "color": "#000000"
          },
          "showarrow": false,
          "text": "2015",
          "x": -0.45,
          "xanchor": "left",
          "xref": "x1",
          "y": 35,
          "yref": "y1"
         },
         {
          "align": "left",
          "font": {
           "color": "#000000"
          },
          "showarrow": false,
          "text": "Mozilla Location Service (MLS) / Stumbler",
          "x": 0.55,
          "xanchor": "left",
          "xref": "x1",
          "y": 35,
          "yref": "y1"
         },
         {
          "align": "left",
          "font": {
           "color": "#000000"
          },
          "showarrow": false,
          "text": "4",
          "x": 1.55,
          "xanchor": "left",
          "xref": "x1",
          "y": 35,
          "yref": "y1"
         },
         {
          "align": "left",
          "font": {
           "color": "#000000"
          },
          "showarrow": false,
          "text": "2015",
          "x": -0.45,
          "xanchor": "left",
          "xref": "x1",
          "y": 36,
          "yref": "y1"
         },
         {
          "align": "left",
          "font": {
           "color": "#000000"
          },
          "showarrow": false,
          "text": "Advocacy and policy",
          "x": 0.55,
          "xanchor": "left",
          "xref": "x1",
          "y": 36,
          "yref": "y1"
         },
         {
          "align": "left",
          "font": {
           "color": "#000000"
          },
          "showarrow": false,
          "text": "3",
          "x": 1.55,
          "xanchor": "left",
          "xref": "x1",
          "y": 36,
          "yref": "y1"
         },
         {
          "align": "left",
          "font": {
           "color": "#000000"
          },
          "showarrow": false,
          "text": "2015",
          "x": -0.45,
          "xanchor": "left",
          "xref": "x1",
          "y": 37,
          "yref": "y1"
         },
         {
          "align": "left",
          "font": {
           "color": "#000000"
          },
          "showarrow": false,
          "text": "Mozilla Clubs",
          "x": 0.55,
          "xanchor": "left",
          "xref": "x1",
          "y": 37,
          "yref": "y1"
         },
         {
          "align": "left",
          "font": {
           "color": "#000000"
          },
          "showarrow": false,
          "text": "3",
          "x": 1.55,
          "xanchor": "left",
          "xref": "x1",
          "y": 37,
          "yref": "y1"
         },
         {
          "align": "left",
          "font": {
           "color": "#000000"
          },
          "showarrow": false,
          "text": "2015",
          "x": -0.45,
          "xanchor": "left",
          "xref": "x1",
          "y": 38,
          "yref": "y1"
         },
         {
          "align": "left",
          "font": {
           "color": "#000000"
          },
          "showarrow": false,
          "text": "Developer Tools",
          "x": 0.55,
          "xanchor": "left",
          "xref": "x1",
          "y": 38,
          "yref": "y1"
         },
         {
          "align": "left",
          "font": {
           "color": "#000000"
          },
          "showarrow": false,
          "text": "2",
          "x": 1.55,
          "xanchor": "left",
          "xref": "x1",
          "y": 38,
          "yref": "y1"
         },
         {
          "align": "left",
          "font": {
           "color": "#000000"
          },
          "showarrow": false,
          "text": "2015",
          "x": -0.45,
          "xanchor": "left",
          "xref": "x1",
          "y": 39,
          "yref": "y1"
         },
         {
          "align": "left",
          "font": {
           "color": "#000000"
          },
          "showarrow": false,
          "text": "Mozilla Creative & Design",
          "x": 0.55,
          "xanchor": "left",
          "xref": "x1",
          "y": 39,
          "yref": "y1"
         },
         {
          "align": "left",
          "font": {
           "color": "#000000"
          },
          "showarrow": false,
          "text": "2",
          "x": 1.55,
          "xanchor": "left",
          "xref": "x1",
          "y": 39,
          "yref": "y1"
         },
         {
          "align": "left",
          "font": {
           "color": "#000000"
          },
          "showarrow": false,
          "text": "2015",
          "x": -0.45,
          "xanchor": "left",
          "xref": "x1",
          "y": 40,
          "yref": "y1"
         },
         {
          "align": "left",
          "font": {
           "color": "#000000"
          },
          "showarrow": false,
          "text": "Mozilla Foundation",
          "x": 0.55,
          "xanchor": "left",
          "xref": "x1",
          "y": 40,
          "yref": "y1"
         },
         {
          "align": "left",
          "font": {
           "color": "#000000"
          },
          "showarrow": false,
          "text": "2",
          "x": 1.55,
          "xanchor": "left",
          "xref": "x1",
          "y": 40,
          "yref": "y1"
         },
         {
          "align": "left",
          "font": {
           "color": "#000000"
          },
          "showarrow": false,
          "text": "2014",
          "x": -0.45,
          "xanchor": "left",
          "xref": "x1",
          "y": 41,
          "yref": "y1"
         },
         {
          "align": "left",
          "font": {
           "color": "#000000"
          },
          "showarrow": false,
          "text": "Rust",
          "x": 0.55,
          "xanchor": "left",
          "xref": "x1",
          "y": 41,
          "yref": "y1"
         },
         {
          "align": "left",
          "font": {
           "color": "#000000"
          },
          "showarrow": false,
          "text": "523",
          "x": 1.55,
          "xanchor": "left",
          "xref": "x1",
          "y": 41,
          "yref": "y1"
         },
         {
          "align": "left",
          "font": {
           "color": "#000000"
          },
          "showarrow": false,
          "text": "2014",
          "x": -0.45,
          "xanchor": "left",
          "xref": "x1",
          "y": 42,
          "yref": "y1"
         },
         {
          "align": "left",
          "font": {
           "color": "#000000"
          },
          "showarrow": false,
          "text": "Gecko",
          "x": 0.55,
          "xanchor": "left",
          "xref": "x1",
          "y": 42,
          "yref": "y1"
         },
         {
          "align": "left",
          "font": {
           "color": "#000000"
          },
          "showarrow": false,
          "text": "299",
          "x": 1.55,
          "xanchor": "left",
          "xref": "x1",
          "y": 42,
          "yref": "y1"
         },
         {
          "align": "left",
          "font": {
           "color": "#000000"
          },
          "showarrow": false,
          "text": "2014",
          "x": -0.45,
          "xanchor": "left",
          "xref": "x1",
          "y": 43,
          "yref": "y1"
         },
         {
          "align": "left",
          "font": {
           "color": "#000000"
          },
          "showarrow": false,
          "text": "Web Properties",
          "x": 0.55,
          "xanchor": "left",
          "xref": "x1",
          "y": 43,
          "yref": "y1"
         },
         {
          "align": "left",
          "font": {
           "color": "#000000"
          },
          "showarrow": false,
          "text": "131",
          "x": 1.55,
          "xanchor": "left",
          "xref": "x1",
          "y": 43,
          "yref": "y1"
         },
         {
          "align": "left",
          "font": {
           "color": "#000000"
          },
          "showarrow": false,
          "text": "2014",
          "x": -0.45,
          "xanchor": "left",
          "xref": "x1",
          "y": 44,
          "yref": "y1"
         },
         {
          "align": "left",
          "font": {
           "color": "#000000"
          },
          "showarrow": false,
          "text": "Servo",
          "x": 0.55,
          "xanchor": "left",
          "xref": "x1",
          "y": 44,
          "yref": "y1"
         },
         {
          "align": "left",
          "font": {
           "color": "#000000"
          },
          "showarrow": false,
          "text": "124",
          "x": 1.55,
          "xanchor": "left",
          "xref": "x1",
          "y": 44,
          "yref": "y1"
         },
         {
          "align": "left",
          "font": {
           "color": "#000000"
          },
          "showarrow": false,
          "text": "2014",
          "x": -0.45,
          "xanchor": "left",
          "xref": "x1",
          "y": 45,
          "yref": "y1"
         },
         {
          "align": "left",
          "font": {
           "color": "#000000"
          },
          "showarrow": false,
          "text": "Mozilla Local/Regional communities",
          "x": 0.55,
          "xanchor": "left",
          "xref": "x1",
          "y": 45,
          "yref": "y1"
         },
         {
          "align": "left",
          "font": {
           "color": "#000000"
          },
          "showarrow": false,
          "text": "104",
          "x": 1.55,
          "xanchor": "left",
          "xref": "x1",
          "y": 45,
          "yref": "y1"
         },
         {
          "align": "left",
          "font": {
           "color": "#000000"
          },
          "showarrow": false,
          "text": "2014",
          "x": -0.45,
          "xanchor": "left",
          "xref": "x1",
          "y": 46,
          "yref": "y1"
         },
         {
          "align": "left",
          "font": {
           "color": "#000000"
          },
          "showarrow": false,
          "text": "IT/Ops",
          "x": 0.55,
          "xanchor": "left",
          "xref": "x1",
          "y": 46,
          "yref": "y1"
         },
         {
          "align": "left",
          "font": {
           "color": "#000000"
          },
          "showarrow": false,
          "text": "91",
          "x": 1.55,
          "xanchor": "left",
          "xref": "x1",
          "y": 46,
          "yref": "y1"
         },
         {
          "align": "left",
          "font": {
           "color": "#000000"
          },
          "showarrow": false,
          "text": "2014",
          "x": -0.45,
          "xanchor": "left",
          "xref": "x1",
          "y": 47,
          "yref": "y1"
         },
         {
          "align": "left",
          "font": {
           "color": "#000000"
          },
          "showarrow": false,
          "text": "Web Literacy",
          "x": 0.55,
          "xanchor": "left",
          "xref": "x1",
          "y": 47,
          "yref": "y1"
         },
         {
          "align": "left",
          "font": {
           "color": "#000000"
          },
          "showarrow": false,
          "text": "45",
          "x": 1.55,
          "xanchor": "left",
          "xref": "x1",
          "y": 47,
          "yref": "y1"
         },
         {
          "align": "left",
          "font": {
           "color": "#000000"
          },
          "showarrow": false,
          "text": "2014",
          "x": -0.45,
          "xanchor": "left",
          "xref": "x1",
          "y": 48,
          "yref": "y1"
         },
         {
          "align": "left",
          "font": {
           "color": "#000000"
          },
          "showarrow": false,
          "text": "Mozilla Location Service (MLS) / Stumbler",
          "x": 0.55,
          "xanchor": "left",
          "xref": "x1",
          "y": 48,
          "yref": "y1"
         },
         {
          "align": "left",
          "font": {
           "color": "#000000"
          },
          "showarrow": false,
          "text": "41",
          "x": 1.55,
          "xanchor": "left",
          "xref": "x1",
          "y": 48,
          "yref": "y1"
         },
         {
          "align": "left",
          "font": {
           "color": "#000000"
          },
          "showarrow": false,
          "text": "2014",
          "x": -0.45,
          "xanchor": "left",
          "xref": "x1",
          "y": 49,
          "yref": "y1"
         },
         {
          "align": "left",
          "font": {
           "color": "#000000"
          },
          "showarrow": false,
          "text": "Addons/Web Extensions",
          "x": 0.55,
          "xanchor": "left",
          "xref": "x1",
          "y": 49,
          "yref": "y1"
         },
         {
          "align": "left",
          "font": {
           "color": "#000000"
          },
          "showarrow": false,
          "text": "32",
          "x": 1.55,
          "xanchor": "left",
          "xref": "x1",
          "y": 49,
          "yref": "y1"
         },
         {
          "align": "left",
          "font": {
           "color": "#000000"
          },
          "showarrow": false,
          "text": "2014",
          "x": -0.45,
          "xanchor": "left",
          "xref": "x1",
          "y": 50,
          "yref": "y1"
         },
         {
          "align": "left",
          "font": {
           "color": "#000000"
          },
          "showarrow": false,
          "text": "Mozilla Foundation",
          "x": 0.55,
          "xanchor": "left",
          "xref": "x1",
          "y": 50,
          "yref": "y1"
         },
         {
          "align": "left",
          "font": {
           "color": "#000000"
          },
          "showarrow": false,
          "text": "14",
          "x": 1.55,
          "xanchor": "left",
          "xref": "x1",
          "y": 50,
          "yref": "y1"
         },
         {
          "align": "left",
          "font": {
           "color": "#000000"
          },
          "showarrow": false,
          "text": "2014",
          "x": -0.45,
          "xanchor": "left",
          "xref": "x1",
          "y": 51,
          "yref": "y1"
         },
         {
          "align": "left",
          "font": {
           "color": "#000000"
          },
          "showarrow": false,
          "text": "Firefox OS (FxOS / B2G)",
          "x": 0.55,
          "xanchor": "left",
          "xref": "x1",
          "y": 51,
          "yref": "y1"
         },
         {
          "align": "left",
          "font": {
           "color": "#000000"
          },
          "showarrow": false,
          "text": "12",
          "x": 1.55,
          "xanchor": "left",
          "xref": "x1",
          "y": 51,
          "yref": "y1"
         },
         {
          "align": "left",
          "font": {
           "color": "#000000"
          },
          "showarrow": false,
          "text": "2014",
          "x": -0.45,
          "xanchor": "left",
          "xref": "x1",
          "y": 52,
          "yref": "y1"
         },
         {
          "align": "left",
          "font": {
           "color": "#000000"
          },
          "showarrow": false,
          "text": "Mozilla Science",
          "x": 0.55,
          "xanchor": "left",
          "xref": "x1",
          "y": 52,
          "yref": "y1"
         },
         {
          "align": "left",
          "font": {
           "color": "#000000"
          },
          "showarrow": false,
          "text": "11",
          "x": 1.55,
          "xanchor": "left",
          "xref": "x1",
          "y": 52,
          "yref": "y1"
         },
         {
          "align": "left",
          "font": {
           "color": "#000000"
          },
          "showarrow": false,
          "text": "2014",
          "x": -0.45,
          "xanchor": "left",
          "xref": "x1",
          "y": 53,
          "yref": "y1"
         },
         {
          "align": "left",
          "font": {
           "color": "#000000"
          },
          "showarrow": false,
          "text": "Release engineering",
          "x": 0.55,
          "xanchor": "left",
          "xref": "x1",
          "y": 53,
          "yref": "y1"
         },
         {
          "align": "left",
          "font": {
           "color": "#000000"
          },
          "showarrow": false,
          "text": "11",
          "x": 1.55,
          "xanchor": "left",
          "xref": "x1",
          "y": 53,
          "yref": "y1"
         },
         {
          "align": "left",
          "font": {
           "color": "#000000"
          },
          "showarrow": false,
          "text": "2014",
          "x": -0.45,
          "xanchor": "left",
          "xref": "x1",
          "y": 54,
          "yref": "y1"
         },
         {
          "align": "left",
          "font": {
           "color": "#000000"
          },
          "showarrow": false,
          "text": "Quality Assurance",
          "x": 0.55,
          "xanchor": "left",
          "xref": "x1",
          "y": 54,
          "yref": "y1"
         },
         {
          "align": "left",
          "font": {
           "color": "#000000"
          },
          "showarrow": false,
          "text": "8",
          "x": 1.55,
          "xanchor": "left",
          "xref": "x1",
          "y": 54,
          "yref": "y1"
         },
         {
          "align": "left",
          "font": {
           "color": "#000000"
          },
          "showarrow": false,
          "text": "2014",
          "x": -0.45,
          "xanchor": "left",
          "xref": "x1",
          "y": 55,
          "yref": "y1"
         },
         {
          "align": "left",
          "font": {
           "color": "#000000"
          },
          "showarrow": false,
          "text": "Marketing / Social Media",
          "x": 0.55,
          "xanchor": "left",
          "xref": "x1",
          "y": 55,
          "yref": "y1"
         },
         {
          "align": "left",
          "font": {
           "color": "#000000"
          },
          "showarrow": false,
          "text": "6",
          "x": 1.55,
          "xanchor": "left",
          "xref": "x1",
          "y": 55,
          "yref": "y1"
         },
         {
          "align": "left",
          "font": {
           "color": "#000000"
          },
          "showarrow": false,
          "text": "2014",
          "x": -0.45,
          "xanchor": "left",
          "xref": "x1",
          "y": 56,
          "yref": "y1"
         },
         {
          "align": "left",
          "font": {
           "color": "#000000"
          },
          "showarrow": false,
          "text": "Firefox iOS",
          "x": 0.55,
          "xanchor": "left",
          "xref": "x1",
          "y": 56,
          "yref": "y1"
         },
         {
          "align": "left",
          "font": {
           "color": "#000000"
          },
          "showarrow": false,
          "text": "5",
          "x": 1.55,
          "xanchor": "left",
          "xref": "x1",
          "y": 56,
          "yref": "y1"
         },
         {
          "align": "left",
          "font": {
           "color": "#000000"
          },
          "showarrow": false,
          "text": "2014",
          "x": -0.45,
          "xanchor": "left",
          "xref": "x1",
          "y": 57,
          "yref": "y1"
         },
         {
          "align": "left",
          "font": {
           "color": "#000000"
          },
          "showarrow": false,
          "text": "Advocacy and policy",
          "x": 0.55,
          "xanchor": "left",
          "xref": "x1",
          "y": 57,
          "yref": "y1"
         },
         {
          "align": "left",
          "font": {
           "color": "#000000"
          },
          "showarrow": false,
          "text": "4",
          "x": 1.55,
          "xanchor": "left",
          "xref": "x1",
          "y": 57,
          "yref": "y1"
         },
         {
          "align": "left",
          "font": {
           "color": "#000000"
          },
          "showarrow": false,
          "text": "2014",
          "x": -0.45,
          "xanchor": "left",
          "xref": "x1",
          "y": 58,
          "yref": "y1"
         },
         {
          "align": "left",
          "font": {
           "color": "#000000"
          },
          "showarrow": false,
          "text": "WebVR",
          "x": 0.55,
          "xanchor": "left",
          "xref": "x1",
          "y": 58,
          "yref": "y1"
         },
         {
          "align": "left",
          "font": {
           "color": "#000000"
          },
          "showarrow": false,
          "text": "4",
          "x": 1.55,
          "xanchor": "left",
          "xref": "x1",
          "y": 58,
          "yref": "y1"
         },
         {
          "align": "left",
          "font": {
           "color": "#000000"
          },
          "showarrow": false,
          "text": "2014",
          "x": -0.45,
          "xanchor": "left",
          "xref": "x1",
          "y": 59,
          "yref": "y1"
         },
         {
          "align": "left",
          "font": {
           "color": "#000000"
          },
          "showarrow": false,
          "text": "Mozilla Developer Network (MDN)",
          "x": 0.55,
          "xanchor": "left",
          "xref": "x1",
          "y": 59,
          "yref": "y1"
         },
         {
          "align": "left",
          "font": {
           "color": "#000000"
          },
          "showarrow": false,
          "text": "3",
          "x": 1.55,
          "xanchor": "left",
          "xref": "x1",
          "y": 59,
          "yref": "y1"
         },
         {
          "align": "left",
          "font": {
           "color": "#000000"
          },
          "showarrow": false,
          "text": "2014",
          "x": -0.45,
          "xanchor": "left",
          "xref": "x1",
          "y": 60,
          "yref": "y1"
         },
         {
          "align": "left",
          "font": {
           "color": "#000000"
          },
          "showarrow": false,
          "text": "Technical/Developer Evangelism",
          "x": 0.55,
          "xanchor": "left",
          "xref": "x1",
          "y": 60,
          "yref": "y1"
         },
         {
          "align": "left",
          "font": {
           "color": "#000000"
          },
          "showarrow": false,
          "text": "3",
          "x": 1.55,
          "xanchor": "left",
          "xref": "x1",
          "y": 60,
          "yref": "y1"
         },
         {
          "align": "left",
          "font": {
           "color": "#000000"
          },
          "showarrow": false,
          "text": "2013",
          "x": -0.45,
          "xanchor": "left",
          "xref": "x1",
          "y": 61,
          "yref": "y1"
         },
         {
          "align": "left",
          "font": {
           "color": "#000000"
          },
          "showarrow": false,
          "text": "Gecko",
          "x": 0.55,
          "xanchor": "left",
          "xref": "x1",
          "y": 61,
          "yref": "y1"
         },
         {
          "align": "left",
          "font": {
           "color": "#000000"
          },
          "showarrow": false,
          "text": "260",
          "x": 1.55,
          "xanchor": "left",
          "xref": "x1",
          "y": 61,
          "yref": "y1"
         },
         {
          "align": "left",
          "font": {
           "color": "#000000"
          },
          "showarrow": false,
          "text": "2013",
          "x": -0.45,
          "xanchor": "left",
          "xref": "x1",
          "y": 62,
          "yref": "y1"
         },
         {
          "align": "left",
          "font": {
           "color": "#000000"
          },
          "showarrow": false,
          "text": "Rust",
          "x": 0.55,
          "xanchor": "left",
          "xref": "x1",
          "y": 62,
          "yref": "y1"
         },
         {
          "align": "left",
          "font": {
           "color": "#000000"
          },
          "showarrow": false,
          "text": "233",
          "x": 1.55,
          "xanchor": "left",
          "xref": "x1",
          "y": 62,
          "yref": "y1"
         },
         {
          "align": "left",
          "font": {
           "color": "#000000"
          },
          "showarrow": false,
          "text": "2013",
          "x": -0.45,
          "xanchor": "left",
          "xref": "x1",
          "y": 63,
          "yref": "y1"
         },
         {
          "align": "left",
          "font": {
           "color": "#000000"
          },
          "showarrow": false,
          "text": "Web Properties",
          "x": 0.55,
          "xanchor": "left",
          "xref": "x1",
          "y": 63,
          "yref": "y1"
         },
         {
          "align": "left",
          "font": {
           "color": "#000000"
          },
          "showarrow": false,
          "text": "121",
          "x": 1.55,
          "xanchor": "left",
          "xref": "x1",
          "y": 63,
          "yref": "y1"
         },
         {
          "align": "left",
          "font": {
           "color": "#000000"
          },
          "showarrow": false,
          "text": "2013",
          "x": -0.45,
          "xanchor": "left",
          "xref": "x1",
          "y": 64,
          "yref": "y1"
         },
         {
          "align": "left",
          "font": {
           "color": "#000000"
          },
          "showarrow": false,
          "text": "Mozilla Local/Regional communities",
          "x": 0.55,
          "xanchor": "left",
          "xref": "x1",
          "y": 64,
          "yref": "y1"
         },
         {
          "align": "left",
          "font": {
           "color": "#000000"
          },
          "showarrow": false,
          "text": "55",
          "x": 1.55,
          "xanchor": "left",
          "xref": "x1",
          "y": 64,
          "yref": "y1"
         },
         {
          "align": "left",
          "font": {
           "color": "#000000"
          },
          "showarrow": false,
          "text": "2013",
          "x": -0.45,
          "xanchor": "left",
          "xref": "x1",
          "y": 65,
          "yref": "y1"
         },
         {
          "align": "left",
          "font": {
           "color": "#000000"
          },
          "showarrow": false,
          "text": "Servo",
          "x": 0.55,
          "xanchor": "left",
          "xref": "x1",
          "y": 65,
          "yref": "y1"
         },
         {
          "align": "left",
          "font": {
           "color": "#000000"
          },
          "showarrow": false,
          "text": "51",
          "x": 1.55,
          "xanchor": "left",
          "xref": "x1",
          "y": 65,
          "yref": "y1"
         },
         {
          "align": "left",
          "font": {
           "color": "#000000"
          },
          "showarrow": false,
          "text": "2013",
          "x": -0.45,
          "xanchor": "left",
          "xref": "x1",
          "y": 66,
          "yref": "y1"
         },
         {
          "align": "left",
          "font": {
           "color": "#000000"
          },
          "showarrow": false,
          "text": "IT/Ops",
          "x": 0.55,
          "xanchor": "left",
          "xref": "x1",
          "y": 66,
          "yref": "y1"
         },
         {
          "align": "left",
          "font": {
           "color": "#000000"
          },
          "showarrow": false,
          "text": "48",
          "x": 1.55,
          "xanchor": "left",
          "xref": "x1",
          "y": 66,
          "yref": "y1"
         },
         {
          "align": "left",
          "font": {
           "color": "#000000"
          },
          "showarrow": false,
          "text": "2013",
          "x": -0.45,
          "xanchor": "left",
          "xref": "x1",
          "y": 67,
          "yref": "y1"
         },
         {
          "align": "left",
          "font": {
           "color": "#000000"
          },
          "showarrow": false,
          "text": "Addons/Web Extensions",
          "x": 0.55,
          "xanchor": "left",
          "xref": "x1",
          "y": 67,
          "yref": "y1"
         },
         {
          "align": "left",
          "font": {
           "color": "#000000"
          },
          "showarrow": false,
          "text": "35",
          "x": 1.55,
          "xanchor": "left",
          "xref": "x1",
          "y": 67,
          "yref": "y1"
         },
         {
          "align": "left",
          "font": {
           "color": "#000000"
          },
          "showarrow": false,
          "text": "2013",
          "x": -0.45,
          "xanchor": "left",
          "xref": "x1",
          "y": 68,
          "yref": "y1"
         },
         {
          "align": "left",
          "font": {
           "color": "#000000"
          },
          "showarrow": false,
          "text": "Mozilla Foundation",
          "x": 0.55,
          "xanchor": "left",
          "xref": "x1",
          "y": 68,
          "yref": "y1"
         },
         {
          "align": "left",
          "font": {
           "color": "#000000"
          },
          "showarrow": false,
          "text": "30",
          "x": 1.55,
          "xanchor": "left",
          "xref": "x1",
          "y": 68,
          "yref": "y1"
         },
         {
          "align": "left",
          "font": {
           "color": "#000000"
          },
          "showarrow": false,
          "text": "2013",
          "x": -0.45,
          "xanchor": "left",
          "xref": "x1",
          "y": 69,
          "yref": "y1"
         },
         {
          "align": "left",
          "font": {
           "color": "#000000"
          },
          "showarrow": false,
          "text": "Web Literacy",
          "x": 0.55,
          "xanchor": "left",
          "xref": "x1",
          "y": 69,
          "yref": "y1"
         },
         {
          "align": "left",
          "font": {
           "color": "#000000"
          },
          "showarrow": false,
          "text": "21",
          "x": 1.55,
          "xanchor": "left",
          "xref": "x1",
          "y": 69,
          "yref": "y1"
         },
         {
          "align": "left",
          "font": {
           "color": "#000000"
          },
          "showarrow": false,
          "text": "2013",
          "x": -0.45,
          "xanchor": "left",
          "xref": "x1",
          "y": 70,
          "yref": "y1"
         },
         {
          "align": "left",
          "font": {
           "color": "#000000"
          },
          "showarrow": false,
          "text": "Mozilla Location Service (MLS) / Stumbler",
          "x": 0.55,
          "xanchor": "left",
          "xref": "x1",
          "y": 70,
          "yref": "y1"
         },
         {
          "align": "left",
          "font": {
           "color": "#000000"
          },
          "showarrow": false,
          "text": "17",
          "x": 1.55,
          "xanchor": "left",
          "xref": "x1",
          "y": 70,
          "yref": "y1"
         },
         {
          "align": "left",
          "font": {
           "color": "#000000"
          },
          "showarrow": false,
          "text": "2013",
          "x": -0.45,
          "xanchor": "left",
          "xref": "x1",
          "y": 71,
          "yref": "y1"
         },
         {
          "align": "left",
          "font": {
           "color": "#000000"
          },
          "showarrow": false,
          "text": "Release engineering",
          "x": 0.55,
          "xanchor": "left",
          "xref": "x1",
          "y": 71,
          "yref": "y1"
         },
         {
          "align": "left",
          "font": {
           "color": "#000000"
          },
          "showarrow": false,
          "text": "13",
          "x": 1.55,
          "xanchor": "left",
          "xref": "x1",
          "y": 71,
          "yref": "y1"
         },
         {
          "align": "left",
          "font": {
           "color": "#000000"
          },
          "showarrow": false,
          "text": "2013",
          "x": -0.45,
          "xanchor": "left",
          "xref": "x1",
          "y": 72,
          "yref": "y1"
         },
         {
          "align": "left",
          "font": {
           "color": "#000000"
          },
          "showarrow": false,
          "text": "Firefox OS (FxOS / B2G)",
          "x": 0.55,
          "xanchor": "left",
          "xref": "x1",
          "y": 72,
          "yref": "y1"
         },
         {
          "align": "left",
          "font": {
           "color": "#000000"
          },
          "showarrow": false,
          "text": "8",
          "x": 1.55,
          "xanchor": "left",
          "xref": "x1",
          "y": 72,
          "yref": "y1"
         },
         {
          "align": "left",
          "font": {
           "color": "#000000"
          },
          "showarrow": false,
          "text": "2013",
          "x": -0.45,
          "xanchor": "left",
          "xref": "x1",
          "y": 73,
          "yref": "y1"
         },
         {
          "align": "left",
          "font": {
           "color": "#000000"
          },
          "showarrow": false,
          "text": "Quality Assurance",
          "x": 0.55,
          "xanchor": "left",
          "xref": "x1",
          "y": 73,
          "yref": "y1"
         },
         {
          "align": "left",
          "font": {
           "color": "#000000"
          },
          "showarrow": false,
          "text": "6",
          "x": 1.55,
          "xanchor": "left",
          "xref": "x1",
          "y": 73,
          "yref": "y1"
         },
         {
          "align": "left",
          "font": {
           "color": "#000000"
          },
          "showarrow": false,
          "text": "2013",
          "x": -0.45,
          "xanchor": "left",
          "xref": "x1",
          "y": 74,
          "yref": "y1"
         },
         {
          "align": "left",
          "font": {
           "color": "#000000"
          },
          "showarrow": false,
          "text": "Marketing / Social Media",
          "x": 0.55,
          "xanchor": "left",
          "xref": "x1",
          "y": 74,
          "yref": "y1"
         },
         {
          "align": "left",
          "font": {
           "color": "#000000"
          },
          "showarrow": false,
          "text": "2",
          "x": 1.55,
          "xanchor": "left",
          "xref": "x1",
          "y": 74,
          "yref": "y1"
         },
         {
          "align": "left",
          "font": {
           "color": "#000000"
          },
          "showarrow": false,
          "text": "2013",
          "x": -0.45,
          "xanchor": "left",
          "xref": "x1",
          "y": 75,
          "yref": "y1"
         },
         {
          "align": "left",
          "font": {
           "color": "#000000"
          },
          "showarrow": false,
          "text": "Mozilla Creative & Design",
          "x": 0.55,
          "xanchor": "left",
          "xref": "x1",
          "y": 75,
          "yref": "y1"
         },
         {
          "align": "left",
          "font": {
           "color": "#000000"
          },
          "showarrow": false,
          "text": "2",
          "x": 1.55,
          "xanchor": "left",
          "xref": "x1",
          "y": 75,
          "yref": "y1"
         },
         {
          "align": "left",
          "font": {
           "color": "#000000"
          },
          "showarrow": false,
          "text": "2013",
          "x": -0.45,
          "xanchor": "left",
          "xref": "x1",
          "y": 76,
          "yref": "y1"
         },
         {
          "align": "left",
          "font": {
           "color": "#000000"
          },
          "showarrow": false,
          "text": "Mozilla Developer Network (MDN)",
          "x": 0.55,
          "xanchor": "left",
          "xref": "x1",
          "y": 76,
          "yref": "y1"
         },
         {
          "align": "left",
          "font": {
           "color": "#000000"
          },
          "showarrow": false,
          "text": "2",
          "x": 1.55,
          "xanchor": "left",
          "xref": "x1",
          "y": 76,
          "yref": "y1"
         },
         {
          "align": "left",
          "font": {
           "color": "#000000"
          },
          "showarrow": false,
          "text": "2013",
          "x": -0.45,
          "xanchor": "left",
          "xref": "x1",
          "y": 77,
          "yref": "y1"
         },
         {
          "align": "left",
          "font": {
           "color": "#000000"
          },
          "showarrow": false,
          "text": "Mozilla Science",
          "x": 0.55,
          "xanchor": "left",
          "xref": "x1",
          "y": 77,
          "yref": "y1"
         },
         {
          "align": "left",
          "font": {
           "color": "#000000"
          },
          "showarrow": false,
          "text": "2",
          "x": 1.55,
          "xanchor": "left",
          "xref": "x1",
          "y": 77,
          "yref": "y1"
         },
         {
          "align": "left",
          "font": {
           "color": "#000000"
          },
          "showarrow": false,
          "text": "2013",
          "x": -0.45,
          "xanchor": "left",
          "xref": "x1",
          "y": 78,
          "yref": "y1"
         },
         {
          "align": "left",
          "font": {
           "color": "#000000"
          },
          "showarrow": false,
          "text": "Firefox iOS",
          "x": 0.55,
          "xanchor": "left",
          "xref": "x1",
          "y": 78,
          "yref": "y1"
         },
         {
          "align": "left",
          "font": {
           "color": "#000000"
          },
          "showarrow": false,
          "text": "1",
          "x": 1.55,
          "xanchor": "left",
          "xref": "x1",
          "y": 78,
          "yref": "y1"
         },
         {
          "align": "left",
          "font": {
           "color": "#000000"
          },
          "showarrow": false,
          "text": "2013",
          "x": -0.45,
          "xanchor": "left",
          "xref": "x1",
          "y": 79,
          "yref": "y1"
         },
         {
          "align": "left",
          "font": {
           "color": "#000000"
          },
          "showarrow": false,
          "text": "Technical/Developer Evangelism",
          "x": 0.55,
          "xanchor": "left",
          "xref": "x1",
          "y": 79,
          "yref": "y1"
         },
         {
          "align": "left",
          "font": {
           "color": "#000000"
          },
          "showarrow": false,
          "text": "1",
          "x": 1.55,
          "xanchor": "left",
          "xref": "x1",
          "y": 79,
          "yref": "y1"
         },
         {
          "align": "left",
          "font": {
           "color": "#000000"
          },
          "showarrow": false,
          "text": "2012",
          "x": -0.45,
          "xanchor": "left",
          "xref": "x1",
          "y": 80,
          "yref": "y1"
         },
         {
          "align": "left",
          "font": {
           "color": "#000000"
          },
          "showarrow": false,
          "text": "Gecko",
          "x": 0.55,
          "xanchor": "left",
          "xref": "x1",
          "y": 80,
          "yref": "y1"
         },
         {
          "align": "left",
          "font": {
           "color": "#000000"
          },
          "showarrow": false,
          "text": "226",
          "x": 1.55,
          "xanchor": "left",
          "xref": "x1",
          "y": 80,
          "yref": "y1"
         },
         {
          "align": "left",
          "font": {
           "color": "#000000"
          },
          "showarrow": false,
          "text": "2012",
          "x": -0.45,
          "xanchor": "left",
          "xref": "x1",
          "y": 81,
          "yref": "y1"
         },
         {
          "align": "left",
          "font": {
           "color": "#000000"
          },
          "showarrow": false,
          "text": "Rust",
          "x": 0.55,
          "xanchor": "left",
          "xref": "x1",
          "y": 81,
          "yref": "y1"
         },
         {
          "align": "left",
          "font": {
           "color": "#000000"
          },
          "showarrow": false,
          "text": "89",
          "x": 1.55,
          "xanchor": "left",
          "xref": "x1",
          "y": 81,
          "yref": "y1"
         },
         {
          "align": "left",
          "font": {
           "color": "#000000"
          },
          "showarrow": false,
          "text": "2012",
          "x": -0.45,
          "xanchor": "left",
          "xref": "x1",
          "y": 82,
          "yref": "y1"
         },
         {
          "align": "left",
          "font": {
           "color": "#000000"
          },
          "showarrow": false,
          "text": "Web Properties",
          "x": 0.55,
          "xanchor": "left",
          "xref": "x1",
          "y": 82,
          "yref": "y1"
         },
         {
          "align": "left",
          "font": {
           "color": "#000000"
          },
          "showarrow": false,
          "text": "67",
          "x": 1.55,
          "xanchor": "left",
          "xref": "x1",
          "y": 82,
          "yref": "y1"
         },
         {
          "align": "left",
          "font": {
           "color": "#000000"
          },
          "showarrow": false,
          "text": "2012",
          "x": -0.45,
          "xanchor": "left",
          "xref": "x1",
          "y": 83,
          "yref": "y1"
         },
         {
          "align": "left",
          "font": {
           "color": "#000000"
          },
          "showarrow": false,
          "text": "Servo",
          "x": 0.55,
          "xanchor": "left",
          "xref": "x1",
          "y": 83,
          "yref": "y1"
         },
         {
          "align": "left",
          "font": {
           "color": "#000000"
          },
          "showarrow": false,
          "text": "47",
          "x": 1.55,
          "xanchor": "left",
          "xref": "x1",
          "y": 83,
          "yref": "y1"
         },
         {
          "align": "left",
          "font": {
           "color": "#000000"
          },
          "showarrow": false,
          "text": "2012",
          "x": -0.45,
          "xanchor": "left",
          "xref": "x1",
          "y": 84,
          "yref": "y1"
         },
         {
          "align": "left",
          "font": {
           "color": "#000000"
          },
          "showarrow": false,
          "text": "IT/Ops",
          "x": 0.55,
          "xanchor": "left",
          "xref": "x1",
          "y": 84,
          "yref": "y1"
         },
         {
          "align": "left",
          "font": {
           "color": "#000000"
          },
          "showarrow": false,
          "text": "45",
          "x": 1.55,
          "xanchor": "left",
          "xref": "x1",
          "y": 84,
          "yref": "y1"
         },
         {
          "align": "left",
          "font": {
           "color": "#000000"
          },
          "showarrow": false,
          "text": "2012",
          "x": -0.45,
          "xanchor": "left",
          "xref": "x1",
          "y": 85,
          "yref": "y1"
         },
         {
          "align": "left",
          "font": {
           "color": "#000000"
          },
          "showarrow": false,
          "text": "Mozilla Local/Regional communities",
          "x": 0.55,
          "xanchor": "left",
          "xref": "x1",
          "y": 85,
          "yref": "y1"
         },
         {
          "align": "left",
          "font": {
           "color": "#000000"
          },
          "showarrow": false,
          "text": "38",
          "x": 1.55,
          "xanchor": "left",
          "xref": "x1",
          "y": 85,
          "yref": "y1"
         },
         {
          "align": "left",
          "font": {
           "color": "#000000"
          },
          "showarrow": false,
          "text": "2012",
          "x": -0.45,
          "xanchor": "left",
          "xref": "x1",
          "y": 86,
          "yref": "y1"
         },
         {
          "align": "left",
          "font": {
           "color": "#000000"
          },
          "showarrow": false,
          "text": "Addons/Web Extensions",
          "x": 0.55,
          "xanchor": "left",
          "xref": "x1",
          "y": 86,
          "yref": "y1"
         },
         {
          "align": "left",
          "font": {
           "color": "#000000"
          },
          "showarrow": false,
          "text": "23",
          "x": 1.55,
          "xanchor": "left",
          "xref": "x1",
          "y": 86,
          "yref": "y1"
         },
         {
          "align": "left",
          "font": {
           "color": "#000000"
          },
          "showarrow": false,
          "text": "2012",
          "x": -0.45,
          "xanchor": "left",
          "xref": "x1",
          "y": 87,
          "yref": "y1"
         },
         {
          "align": "left",
          "font": {
           "color": "#000000"
          },
          "showarrow": false,
          "text": "Mozilla Foundation",
          "x": 0.55,
          "xanchor": "left",
          "xref": "x1",
          "y": 87,
          "yref": "y1"
         },
         {
          "align": "left",
          "font": {
           "color": "#000000"
          },
          "showarrow": false,
          "text": "14",
          "x": 1.55,
          "xanchor": "left",
          "xref": "x1",
          "y": 87,
          "yref": "y1"
         },
         {
          "align": "left",
          "font": {
           "color": "#000000"
          },
          "showarrow": false,
          "text": "2012",
          "x": -0.45,
          "xanchor": "left",
          "xref": "x1",
          "y": 88,
          "yref": "y1"
         },
         {
          "align": "left",
          "font": {
           "color": "#000000"
          },
          "showarrow": false,
          "text": "Release engineering",
          "x": 0.55,
          "xanchor": "left",
          "xref": "x1",
          "y": 88,
          "yref": "y1"
         },
         {
          "align": "left",
          "font": {
           "color": "#000000"
          },
          "showarrow": false,
          "text": "13",
          "x": 1.55,
          "xanchor": "left",
          "xref": "x1",
          "y": 88,
          "yref": "y1"
         },
         {
          "align": "left",
          "font": {
           "color": "#000000"
          },
          "showarrow": false,
          "text": "2012",
          "x": -0.45,
          "xanchor": "left",
          "xref": "x1",
          "y": 89,
          "yref": "y1"
         },
         {
          "align": "left",
          "font": {
           "color": "#000000"
          },
          "showarrow": false,
          "text": "Web Literacy",
          "x": 0.55,
          "xanchor": "left",
          "xref": "x1",
          "y": 89,
          "yref": "y1"
         },
         {
          "align": "left",
          "font": {
           "color": "#000000"
          },
          "showarrow": false,
          "text": "9",
          "x": 1.55,
          "xanchor": "left",
          "xref": "x1",
          "y": 89,
          "yref": "y1"
         },
         {
          "align": "left",
          "font": {
           "color": "#000000"
          },
          "showarrow": false,
          "text": "2012",
          "x": -0.45,
          "xanchor": "left",
          "xref": "x1",
          "y": 90,
          "yref": "y1"
         },
         {
          "align": "left",
          "font": {
           "color": "#000000"
          },
          "showarrow": false,
          "text": "Firefox OS (FxOS / B2G)",
          "x": 0.55,
          "xanchor": "left",
          "xref": "x1",
          "y": 90,
          "yref": "y1"
         },
         {
          "align": "left",
          "font": {
           "color": "#000000"
          },
          "showarrow": false,
          "text": "5",
          "x": 1.55,
          "xanchor": "left",
          "xref": "x1",
          "y": 90,
          "yref": "y1"
         },
         {
          "align": "left",
          "font": {
           "color": "#000000"
          },
          "showarrow": false,
          "text": "2012",
          "x": -0.45,
          "xanchor": "left",
          "xref": "x1",
          "y": 91,
          "yref": "y1"
         },
         {
          "align": "left",
          "font": {
           "color": "#000000"
          },
          "showarrow": false,
          "text": "Localization",
          "x": 0.55,
          "xanchor": "left",
          "xref": "x1",
          "y": 91,
          "yref": "y1"
         },
         {
          "align": "left",
          "font": {
           "color": "#000000"
          },
          "showarrow": false,
          "text": "4",
          "x": 1.55,
          "xanchor": "left",
          "xref": "x1",
          "y": 91,
          "yref": "y1"
         },
         {
          "align": "left",
          "font": {
           "color": "#000000"
          },
          "showarrow": false,
          "text": "2012",
          "x": -0.45,
          "xanchor": "left",
          "xref": "x1",
          "y": 92,
          "yref": "y1"
         },
         {
          "align": "left",
          "font": {
           "color": "#000000"
          },
          "showarrow": false,
          "text": "Quality Assurance",
          "x": 0.55,
          "xanchor": "left",
          "xref": "x1",
          "y": 92,
          "yref": "y1"
         },
         {
          "align": "left",
          "font": {
           "color": "#000000"
          },
          "showarrow": false,
          "text": "4",
          "x": 1.55,
          "xanchor": "left",
          "xref": "x1",
          "y": 92,
          "yref": "y1"
         },
         {
          "align": "left",
          "font": {
           "color": "#000000"
          },
          "showarrow": false,
          "text": "2012",
          "x": -0.45,
          "xanchor": "left",
          "xref": "x1",
          "y": 93,
          "yref": "y1"
         },
         {
          "align": "left",
          "font": {
           "color": "#000000"
          },
          "showarrow": false,
          "text": "Firefox iOS",
          "x": 0.55,
          "xanchor": "left",
          "xref": "x1",
          "y": 93,
          "yref": "y1"
         },
         {
          "align": "left",
          "font": {
           "color": "#000000"
          },
          "showarrow": false,
          "text": "1",
          "x": 1.55,
          "xanchor": "left",
          "xref": "x1",
          "y": 93,
          "yref": "y1"
         },
         {
          "align": "left",
          "font": {
           "color": "#000000"
          },
          "showarrow": false,
          "text": "2012",
          "x": -0.45,
          "xanchor": "left",
          "xref": "x1",
          "y": 94,
          "yref": "y1"
         },
         {
          "align": "left",
          "font": {
           "color": "#000000"
          },
          "showarrow": false,
          "text": "Technical/Developer Evangelism",
          "x": 0.55,
          "xanchor": "left",
          "xref": "x1",
          "y": 94,
          "yref": "y1"
         },
         {
          "align": "left",
          "font": {
           "color": "#000000"
          },
          "showarrow": false,
          "text": "1",
          "x": 1.55,
          "xanchor": "left",
          "xref": "x1",
          "y": 94,
          "yref": "y1"
         }
        ],
        "height": 2900,
        "margin": {
         "b": 0,
         "l": 0,
         "r": 0,
         "t": 0
        },
        "xaxis": {
         "dtick": 1,
         "gridwidth": 2,
         "showticklabels": false,
         "tick0": -0.5,
         "ticks": "",
         "zeroline": false
        },
        "yaxis": {
         "autorange": "reversed",
         "dtick": 1,
         "gridwidth": 2,
         "showticklabels": false,
         "tick0": 0.5,
         "ticks": "",
         "zeroline": false
        }
       }
      },
      "text/html": [
       "<div id=\"2a7659d5-06a5-42bb-bb61-d5309f28aa43\" style=\"height: 2900px; width: 100%;\" class=\"plotly-graph-div\"></div><script type=\"text/javascript\">require([\"plotly\"], function(Plotly) { window.PLOTLYENV=window.PLOTLYENV || {};window.PLOTLYENV.BASE_URL=\"https://plot.ly\";Plotly.newPlot(\"2a7659d5-06a5-42bb-bb61-d5309f28aa43\", [{\"colorscale\": [[0, \"#00083e\"], [0.5, \"#ededee\"], [1, \"#ffffff\"]], \"hoverinfo\": \"none\", \"z\": [[0, 0, 0], [0.5, 0.5, 0.5], [1, 1, 1], [0.5, 0.5, 0.5], [1, 1, 1], [0.5, 0.5, 0.5], [1, 1, 1], [0.5, 0.5, 0.5], [1, 1, 1], [0.5, 0.5, 0.5], [1, 1, 1], [0.5, 0.5, 0.5], [1, 1, 1], [0.5, 0.5, 0.5], [1, 1, 1], [0.5, 0.5, 0.5], [1, 1, 1], [0.5, 0.5, 0.5], [1, 1, 1], [0.5, 0.5, 0.5], [1, 1, 1], [0.5, 0.5, 0.5], [1, 1, 1], [0.5, 0.5, 0.5], [1, 1, 1], [0.5, 0.5, 0.5], [1, 1, 1], [0.5, 0.5, 0.5], [1, 1, 1], [0.5, 0.5, 0.5], [1, 1, 1], [0.5, 0.5, 0.5], [1, 1, 1], [0.5, 0.5, 0.5], [1, 1, 1], [0.5, 0.5, 0.5], [1, 1, 1], [0.5, 0.5, 0.5], [1, 1, 1], [0.5, 0.5, 0.5], [1, 1, 1], [0.5, 0.5, 0.5], [1, 1, 1], [0.5, 0.5, 0.5], [1, 1, 1], [0.5, 0.5, 0.5], [1, 1, 1], [0.5, 0.5, 0.5], [1, 1, 1], [0.5, 0.5, 0.5], [1, 1, 1], [0.5, 0.5, 0.5], [1, 1, 1], [0.5, 0.5, 0.5], [1, 1, 1], [0.5, 0.5, 0.5], [1, 1, 1], [0.5, 0.5, 0.5], [1, 1, 1], [0.5, 0.5, 0.5], [1, 1, 1], [0.5, 0.5, 0.5], [1, 1, 1], [0.5, 0.5, 0.5], [1, 1, 1], [0.5, 0.5, 0.5], [1, 1, 1], [0.5, 0.5, 0.5], [1, 1, 1], [0.5, 0.5, 0.5], [1, 1, 1], [0.5, 0.5, 0.5], [1, 1, 1], [0.5, 0.5, 0.5], [1, 1, 1], [0.5, 0.5, 0.5], [1, 1, 1], [0.5, 0.5, 0.5], [1, 1, 1], [0.5, 0.5, 0.5], [1, 1, 1], [0.5, 0.5, 0.5], [1, 1, 1], [0.5, 0.5, 0.5], [1, 1, 1], [0.5, 0.5, 0.5], [1, 1, 1], [0.5, 0.5, 0.5], [1, 1, 1], [0.5, 0.5, 0.5], [1, 1, 1], [0.5, 0.5, 0.5], [1, 1, 1], [0.5, 0.5, 0.5], [1, 1, 1]], \"showscale\": false, \"type\": \"heatmap\", \"opacity\": 0.75}], {\"xaxis\": {\"showticklabels\": false, \"tick0\": -0.5, \"zeroline\": false, \"dtick\": 1, \"ticks\": \"\", \"gridwidth\": 2}, \"yaxis\": {\"showticklabels\": false, \"tick0\": 0.5, \"autorange\": \"reversed\", \"zeroline\": false, \"dtick\": 1, \"ticks\": \"\", \"gridwidth\": 2}, \"margin\": {\"b\": 0, \"l\": 0, \"t\": 0, \"r\": 0}, \"height\": 2900, \"annotations\": [{\"align\": \"left\", \"xanchor\": \"left\", \"x\": -0.45, \"xref\": \"x1\", \"text\": \"<b>first_commit</b>\", \"font\": {\"color\": \"#ffffff\"}, \"yref\": \"y1\", \"y\": 0, \"showarrow\": false}, {\"align\": \"left\", \"xanchor\": \"left\", \"x\": 0.55, \"xref\": \"x1\", \"text\": \"<b>Project</b>\", \"font\": {\"color\": \"#ffffff\"}, \"yref\": \"y1\", \"y\": 0, \"showarrow\": false}, {\"align\": \"left\", \"xanchor\": \"left\", \"x\": 1.55, \"xref\": \"x1\", \"text\": \"<b># authors</b>\", \"font\": {\"color\": \"#ffffff\"}, \"yref\": \"y1\", \"y\": 0, \"showarrow\": false}, {\"align\": \"left\", \"xanchor\": \"left\", \"x\": -0.45, \"xref\": \"x1\", \"text\": \"2016\", \"font\": {\"color\": \"#000000\"}, \"yref\": \"y1\", \"y\": 1, \"showarrow\": false}, {\"align\": \"left\", \"xanchor\": \"left\", \"x\": 0.55, \"xref\": \"x1\", \"text\": \"Rust\", \"font\": {\"color\": \"#000000\"}, \"yref\": \"y1\", \"y\": 1, \"showarrow\": false}, {\"align\": \"left\", \"xanchor\": \"left\", \"x\": 1.55, \"xref\": \"x1\", \"text\": \"493\", \"font\": {\"color\": \"#000000\"}, \"yref\": \"y1\", \"y\": 1, \"showarrow\": false}, {\"align\": \"left\", \"xanchor\": \"left\", \"x\": -0.45, \"xref\": \"x1\", \"text\": \"2016\", \"font\": {\"color\": \"#000000\"}, \"yref\": \"y1\", \"y\": 2, \"showarrow\": false}, {\"align\": \"left\", \"xanchor\": \"left\", \"x\": 0.55, \"xref\": \"x1\", \"text\": \"Gecko\", \"font\": {\"color\": \"#000000\"}, \"yref\": \"y1\", \"y\": 2, \"showarrow\": false}, {\"align\": \"left\", \"xanchor\": \"left\", \"x\": 1.55, \"xref\": \"x1\", \"text\": \"286\", \"font\": {\"color\": \"#000000\"}, \"yref\": \"y1\", \"y\": 2, \"showarrow\": false}, {\"align\": \"left\", \"xanchor\": \"left\", \"x\": -0.45, \"xref\": \"x1\", \"text\": \"2016\", \"font\": {\"color\": \"#000000\"}, \"yref\": \"y1\", \"y\": 3, \"showarrow\": false}, {\"align\": \"left\", \"xanchor\": \"left\", \"x\": 0.55, \"xref\": \"x1\", \"text\": \"Servo\", \"font\": {\"color\": \"#000000\"}, \"yref\": \"y1\", \"y\": 3, \"showarrow\": false}, {\"align\": \"left\", \"xanchor\": \"left\", \"x\": 1.55, \"xref\": \"x1\", \"text\": \"194\", \"font\": {\"color\": \"#000000\"}, \"yref\": \"y1\", \"y\": 3, \"showarrow\": false}, {\"align\": \"left\", \"xanchor\": \"left\", \"x\": -0.45, \"xref\": \"x1\", \"text\": \"2016\", \"font\": {\"color\": \"#000000\"}, \"yref\": \"y1\", \"y\": 4, \"showarrow\": false}, {\"align\": \"left\", \"xanchor\": \"left\", \"x\": 0.55, \"xref\": \"x1\", \"text\": \"Web Properties\", \"font\": {\"color\": \"#000000\"}, \"yref\": \"y1\", \"y\": 4, \"showarrow\": false}, {\"align\": \"left\", \"xanchor\": \"left\", \"x\": 1.55, \"xref\": \"x1\", \"text\": \"132\", \"font\": {\"color\": \"#000000\"}, \"yref\": \"y1\", \"y\": 4, \"showarrow\": false}, {\"align\": \"left\", \"xanchor\": \"left\", \"x\": -0.45, \"xref\": \"x1\", \"text\": \"2016\", \"font\": {\"color\": \"#000000\"}, \"yref\": \"y1\", \"y\": 5, \"showarrow\": false}, {\"align\": \"left\", \"xanchor\": \"left\", \"x\": 0.55, \"xref\": \"x1\", \"text\": \"WebVR\", \"font\": {\"color\": \"#000000\"}, \"yref\": \"y1\", \"y\": 5, \"showarrow\": false}, {\"align\": \"left\", \"xanchor\": \"left\", \"x\": 1.55, \"xref\": \"x1\", \"text\": \"113\", \"font\": {\"color\": \"#000000\"}, \"yref\": \"y1\", \"y\": 5, \"showarrow\": false}, {\"align\": \"left\", \"xanchor\": \"left\", \"x\": -0.45, \"xref\": \"x1\", \"text\": \"2016\", \"font\": {\"color\": \"#000000\"}, \"yref\": \"y1\", \"y\": 6, \"showarrow\": false}, {\"align\": \"left\", \"xanchor\": \"left\", \"x\": 0.55, \"xref\": \"x1\", \"text\": \"IT/Ops\", \"font\": {\"color\": \"#000000\"}, \"yref\": \"y1\", \"y\": 6, \"showarrow\": false}, {\"align\": \"left\", \"xanchor\": \"left\", \"x\": 1.55, \"xref\": \"x1\", \"text\": \"100\", \"font\": {\"color\": \"#000000\"}, \"yref\": \"y1\", \"y\": 6, \"showarrow\": false}, {\"align\": \"left\", \"xanchor\": \"left\", \"x\": -0.45, \"xref\": \"x1\", \"text\": \"2016\", \"font\": {\"color\": \"#000000\"}, \"yref\": \"y1\", \"y\": 7, \"showarrow\": false}, {\"align\": \"left\", \"xanchor\": \"left\", \"x\": 0.55, \"xref\": \"x1\", \"text\": \"Mozilla Local/Regional communities\", \"font\": {\"color\": \"#000000\"}, \"yref\": \"y1\", \"y\": 7, \"showarrow\": false}, {\"align\": \"left\", \"xanchor\": \"left\", \"x\": 1.55, \"xref\": \"x1\", \"text\": \"57\", \"font\": {\"color\": \"#000000\"}, \"yref\": \"y1\", \"y\": 7, \"showarrow\": false}, {\"align\": \"left\", \"xanchor\": \"left\", \"x\": -0.45, \"xref\": \"x1\", \"text\": \"2016\", \"font\": {\"color\": \"#000000\"}, \"yref\": \"y1\", \"y\": 8, \"showarrow\": false}, {\"align\": \"left\", \"xanchor\": \"left\", \"x\": 0.55, \"xref\": \"x1\", \"text\": \"Addons/Web Extensions\", \"font\": {\"color\": \"#000000\"}, \"yref\": \"y1\", \"y\": 8, \"showarrow\": false}, {\"align\": \"left\", \"xanchor\": \"left\", \"x\": 1.55, \"xref\": \"x1\", \"text\": \"40\", \"font\": {\"color\": \"#000000\"}, \"yref\": \"y1\", \"y\": 8, \"showarrow\": false}, {\"align\": \"left\", \"xanchor\": \"left\", \"x\": -0.45, \"xref\": \"x1\", \"text\": \"2016\", \"font\": {\"color\": \"#000000\"}, \"yref\": \"y1\", \"y\": 9, \"showarrow\": false}, {\"align\": \"left\", \"xanchor\": \"left\", \"x\": 0.55, \"xref\": \"x1\", \"text\": \"Mozilla Developer Network (MDN)\", \"font\": {\"color\": \"#000000\"}, \"yref\": \"y1\", \"y\": 9, \"showarrow\": false}, {\"align\": \"left\", \"xanchor\": \"left\", \"x\": 1.55, \"xref\": \"x1\", \"text\": \"40\", \"font\": {\"color\": \"#000000\"}, \"yref\": \"y1\", \"y\": 9, \"showarrow\": false}, {\"align\": \"left\", \"xanchor\": \"left\", \"x\": -0.45, \"xref\": \"x1\", \"text\": \"2016\", \"font\": {\"color\": \"#000000\"}, \"yref\": \"y1\", \"y\": 10, \"showarrow\": false}, {\"align\": \"left\", \"xanchor\": \"left\", \"x\": 0.55, \"xref\": \"x1\", \"text\": \"Mozilla Science\", \"font\": {\"color\": \"#000000\"}, \"yref\": \"y1\", \"y\": 10, \"showarrow\": false}, {\"align\": \"left\", \"xanchor\": \"left\", \"x\": 1.55, \"xref\": \"x1\", \"text\": \"32\", \"font\": {\"color\": \"#000000\"}, \"yref\": \"y1\", \"y\": 10, \"showarrow\": false}, {\"align\": \"left\", \"xanchor\": \"left\", \"x\": -0.45, \"xref\": \"x1\", \"text\": \"2016\", \"font\": {\"color\": \"#000000\"}, \"yref\": \"y1\", \"y\": 11, \"showarrow\": false}, {\"align\": \"left\", \"xanchor\": \"left\", \"x\": 0.55, \"xref\": \"x1\", \"text\": \"Firefox iOS\", \"font\": {\"color\": \"#000000\"}, \"yref\": \"y1\", \"y\": 11, \"showarrow\": false}, {\"align\": \"left\", \"xanchor\": \"left\", \"x\": 1.55, \"xref\": \"x1\", \"text\": \"16\", \"font\": {\"color\": \"#000000\"}, \"yref\": \"y1\", \"y\": 11, \"showarrow\": false}, {\"align\": \"left\", \"xanchor\": \"left\", \"x\": -0.45, \"xref\": \"x1\", \"text\": \"2016\", \"font\": {\"color\": \"#000000\"}, \"yref\": \"y1\", \"y\": 12, \"showarrow\": false}, {\"align\": \"left\", \"xanchor\": \"left\", \"x\": 0.55, \"xref\": \"x1\", \"text\": \"Test Pilot\", \"font\": {\"color\": \"#000000\"}, \"yref\": \"y1\", \"y\": 12, \"showarrow\": false}, {\"align\": \"left\", \"xanchor\": \"left\", \"x\": 1.55, \"xref\": \"x1\", \"text\": \"11\", \"font\": {\"color\": \"#000000\"}, \"yref\": \"y1\", \"y\": 12, \"showarrow\": false}, {\"align\": \"left\", \"xanchor\": \"left\", \"x\": -0.45, \"xref\": \"x1\", \"text\": \"2016\", \"font\": {\"color\": \"#000000\"}, \"yref\": \"y1\", \"y\": 13, \"showarrow\": false}, {\"align\": \"left\", \"xanchor\": \"left\", \"x\": 0.55, \"xref\": \"x1\", \"text\": \"Mozilla Foundation\", \"font\": {\"color\": \"#000000\"}, \"yref\": \"y1\", \"y\": 13, \"showarrow\": false}, {\"align\": \"left\", \"xanchor\": \"left\", \"x\": 1.55, \"xref\": \"x1\", \"text\": \"8\", \"font\": {\"color\": \"#000000\"}, \"yref\": \"y1\", \"y\": 13, \"showarrow\": false}, {\"align\": \"left\", \"xanchor\": \"left\", \"x\": -0.45, \"xref\": \"x1\", \"text\": \"2016\", \"font\": {\"color\": \"#000000\"}, \"yref\": \"y1\", \"y\": 14, \"showarrow\": false}, {\"align\": \"left\", \"xanchor\": \"left\", \"x\": 0.55, \"xref\": \"x1\", \"text\": \"Mozilla Creative & Design\", \"font\": {\"color\": \"#000000\"}, \"yref\": \"y1\", \"y\": 14, \"showarrow\": false}, {\"align\": \"left\", \"xanchor\": \"left\", \"x\": 1.55, \"xref\": \"x1\", \"text\": \"7\", \"font\": {\"color\": \"#000000\"}, \"yref\": \"y1\", \"y\": 14, \"showarrow\": false}, {\"align\": \"left\", \"xanchor\": \"left\", \"x\": -0.45, \"xref\": \"x1\", \"text\": \"2016\", \"font\": {\"color\": \"#000000\"}, \"yref\": \"y1\", \"y\": 15, \"showarrow\": false}, {\"align\": \"left\", \"xanchor\": \"left\", \"x\": 0.55, \"xref\": \"x1\", \"text\": \"Advocacy and policy\", \"font\": {\"color\": \"#000000\"}, \"yref\": \"y1\", \"y\": 15, \"showarrow\": false}, {\"align\": \"left\", \"xanchor\": \"left\", \"x\": 1.55, \"xref\": \"x1\", \"text\": \"6\", \"font\": {\"color\": \"#000000\"}, \"yref\": \"y1\", \"y\": 15, \"showarrow\": false}, {\"align\": \"left\", \"xanchor\": \"left\", \"x\": -0.45, \"xref\": \"x1\", \"text\": \"2016\", \"font\": {\"color\": \"#000000\"}, \"yref\": \"y1\", \"y\": 16, \"showarrow\": false}, {\"align\": \"left\", \"xanchor\": \"left\", \"x\": 0.55, \"xref\": \"x1\", \"text\": \"Localization\", \"font\": {\"color\": \"#000000\"}, \"yref\": \"y1\", \"y\": 16, \"showarrow\": false}, {\"align\": \"left\", \"xanchor\": \"left\", \"x\": 1.55, \"xref\": \"x1\", \"text\": \"4\", \"font\": {\"color\": \"#000000\"}, \"yref\": \"y1\", \"y\": 16, \"showarrow\": false}, {\"align\": \"left\", \"xanchor\": \"left\", \"x\": -0.45, \"xref\": \"x1\", \"text\": \"2016\", \"font\": {\"color\": \"#000000\"}, \"yref\": \"y1\", \"y\": 17, \"showarrow\": false}, {\"align\": \"left\", \"xanchor\": \"left\", \"x\": 0.55, \"xref\": \"x1\", \"text\": \"Release engineering\", \"font\": {\"color\": \"#000000\"}, \"yref\": \"y1\", \"y\": 17, \"showarrow\": false}, {\"align\": \"left\", \"xanchor\": \"left\", \"x\": 1.55, \"xref\": \"x1\", \"text\": \"3\", \"font\": {\"color\": \"#000000\"}, \"yref\": \"y1\", \"y\": 17, \"showarrow\": false}, {\"align\": \"left\", \"xanchor\": \"left\", \"x\": -0.45, \"xref\": \"x1\", \"text\": \"2016\", \"font\": {\"color\": \"#000000\"}, \"yref\": \"y1\", \"y\": 18, \"showarrow\": false}, {\"align\": \"left\", \"xanchor\": \"left\", \"x\": 0.55, \"xref\": \"x1\", \"text\": \"Technical/Developer Evangelism\", \"font\": {\"color\": \"#000000\"}, \"yref\": \"y1\", \"y\": 18, \"showarrow\": false}, {\"align\": \"left\", \"xanchor\": \"left\", \"x\": 1.55, \"xref\": \"x1\", \"text\": \"3\", \"font\": {\"color\": \"#000000\"}, \"yref\": \"y1\", \"y\": 18, \"showarrow\": false}, {\"align\": \"left\", \"xanchor\": \"left\", \"x\": -0.45, \"xref\": \"x1\", \"text\": \"2016\", \"font\": {\"color\": \"#000000\"}, \"yref\": \"y1\", \"y\": 19, \"showarrow\": false}, {\"align\": \"left\", \"xanchor\": \"left\", \"x\": 0.55, \"xref\": \"x1\", \"text\": \"Campus Clubs (previously Student Ambassadors)\", \"font\": {\"color\": \"#000000\"}, \"yref\": \"y1\", \"y\": 19, \"showarrow\": false}, {\"align\": \"left\", \"xanchor\": \"left\", \"x\": 1.55, \"xref\": \"x1\", \"text\": \"2\", \"font\": {\"color\": \"#000000\"}, \"yref\": \"y1\", \"y\": 19, \"showarrow\": false}, {\"align\": \"left\", \"xanchor\": \"left\", \"x\": -0.45, \"xref\": \"x1\", \"text\": \"2016\", \"font\": {\"color\": \"#000000\"}, \"yref\": \"y1\", \"y\": 20, \"showarrow\": false}, {\"align\": \"left\", \"xanchor\": \"left\", \"x\": 0.55, \"xref\": \"x1\", \"text\": \"Firefox\", \"font\": {\"color\": \"#000000\"}, \"yref\": \"y1\", \"y\": 20, \"showarrow\": false}, {\"align\": \"left\", \"xanchor\": \"left\", \"x\": 1.55, \"xref\": \"x1\", \"text\": \"2\", \"font\": {\"color\": \"#000000\"}, \"yref\": \"y1\", \"y\": 20, \"showarrow\": false}, {\"align\": \"left\", \"xanchor\": \"left\", \"x\": -0.45, \"xref\": \"x1\", \"text\": \"2015\", \"font\": {\"color\": \"#000000\"}, \"yref\": \"y1\", \"y\": 21, \"showarrow\": false}, {\"align\": \"left\", \"xanchor\": \"left\", \"x\": 0.55, \"xref\": \"x1\", \"text\": \"Rust\", \"font\": {\"color\": \"#000000\"}, \"yref\": \"y1\", \"y\": 21, \"showarrow\": false}, {\"align\": \"left\", \"xanchor\": \"left\", \"x\": 1.55, \"xref\": \"x1\", \"text\": \"642\", \"font\": {\"color\": \"#000000\"}, \"yref\": \"y1\", \"y\": 21, \"showarrow\": false}, {\"align\": \"left\", \"xanchor\": \"left\", \"x\": -0.45, \"xref\": \"x1\", \"text\": \"2015\", \"font\": {\"color\": \"#000000\"}, \"yref\": \"y1\", \"y\": 22, \"showarrow\": false}, {\"align\": \"left\", \"xanchor\": \"left\", \"x\": 0.55, \"xref\": \"x1\", \"text\": \"Gecko\", \"font\": {\"color\": \"#000000\"}, \"yref\": \"y1\", \"y\": 22, \"showarrow\": false}, {\"align\": \"left\", \"xanchor\": \"left\", \"x\": 1.55, \"xref\": \"x1\", \"text\": \"242\", \"font\": {\"color\": \"#000000\"}, \"yref\": \"y1\", \"y\": 22, \"showarrow\": false}, {\"align\": \"left\", \"xanchor\": \"left\", \"x\": -0.45, \"xref\": \"x1\", \"text\": \"2015\", \"font\": {\"color\": \"#000000\"}, \"yref\": \"y1\", \"y\": 23, \"showarrow\": false}, {\"align\": \"left\", \"xanchor\": \"left\", \"x\": 0.55, \"xref\": \"x1\", \"text\": \"Servo\", \"font\": {\"color\": \"#000000\"}, \"yref\": \"y1\", \"y\": 23, \"showarrow\": false}, {\"align\": \"left\", \"xanchor\": \"left\", \"x\": 1.55, \"xref\": \"x1\", \"text\": \"168\", \"font\": {\"color\": \"#000000\"}, \"yref\": \"y1\", \"y\": 23, \"showarrow\": false}, {\"align\": \"left\", \"xanchor\": \"left\", \"x\": -0.45, \"xref\": \"x1\", \"text\": \"2015\", \"font\": {\"color\": \"#000000\"}, \"yref\": \"y1\", \"y\": 24, \"showarrow\": false}, {\"align\": \"left\", \"xanchor\": \"left\", \"x\": 0.55, \"xref\": \"x1\", \"text\": \"Web Properties\", \"font\": {\"color\": \"#000000\"}, \"yref\": \"y1\", \"y\": 24, \"showarrow\": false}, {\"align\": \"left\", \"xanchor\": \"left\", \"x\": 1.55, \"xref\": \"x1\", \"text\": \"160\", \"font\": {\"color\": \"#000000\"}, \"yref\": \"y1\", \"y\": 24, \"showarrow\": false}, {\"align\": \"left\", \"xanchor\": \"left\", \"x\": -0.45, \"xref\": \"x1\", \"text\": \"2015\", \"font\": {\"color\": \"#000000\"}, \"yref\": \"y1\", \"y\": 25, \"showarrow\": false}, {\"align\": \"left\", \"xanchor\": \"left\", \"x\": 0.55, \"xref\": \"x1\", \"text\": \"IT/Ops\", \"font\": {\"color\": \"#000000\"}, \"yref\": \"y1\", \"y\": 25, \"showarrow\": false}, {\"align\": \"left\", \"xanchor\": \"left\", \"x\": 1.55, \"xref\": \"x1\", \"text\": \"86\", \"font\": {\"color\": \"#000000\"}, \"yref\": \"y1\", \"y\": 25, \"showarrow\": false}, {\"align\": \"left\", \"xanchor\": \"left\", \"x\": -0.45, \"xref\": \"x1\", \"text\": \"2015\", \"font\": {\"color\": \"#000000\"}, \"yref\": \"y1\", \"y\": 26, \"showarrow\": false}, {\"align\": \"left\", \"xanchor\": \"left\", \"x\": 0.55, \"xref\": \"x1\", \"text\": \"Mozilla Local/Regional communities\", \"font\": {\"color\": \"#000000\"}, \"yref\": \"y1\", \"y\": 26, \"showarrow\": false}, {\"align\": \"left\", \"xanchor\": \"left\", \"x\": 1.55, \"xref\": \"x1\", \"text\": \"60\", \"font\": {\"color\": \"#000000\"}, \"yref\": \"y1\", \"y\": 26, \"showarrow\": false}, {\"align\": \"left\", \"xanchor\": \"left\", \"x\": -0.45, \"xref\": \"x1\", \"text\": \"2015\", \"font\": {\"color\": \"#000000\"}, \"yref\": \"y1\", \"y\": 27, \"showarrow\": false}, {\"align\": \"left\", \"xanchor\": \"left\", \"x\": 0.55, \"xref\": \"x1\", \"text\": \"Mozilla Science\", \"font\": {\"color\": \"#000000\"}, \"yref\": \"y1\", \"y\": 27, \"showarrow\": false}, {\"align\": \"left\", \"xanchor\": \"left\", \"x\": 1.55, \"xref\": \"x1\", \"text\": \"41\", \"font\": {\"color\": \"#000000\"}, \"yref\": \"y1\", \"y\": 27, \"showarrow\": false}, {\"align\": \"left\", \"xanchor\": \"left\", \"x\": -0.45, \"xref\": \"x1\", \"text\": \"2015\", \"font\": {\"color\": \"#000000\"}, \"yref\": \"y1\", \"y\": 28, \"showarrow\": false}, {\"align\": \"left\", \"xanchor\": \"left\", \"x\": 0.55, \"xref\": \"x1\", \"text\": \"Firefox iOS\", \"font\": {\"color\": \"#000000\"}, \"yref\": \"y1\", \"y\": 28, \"showarrow\": false}, {\"align\": \"left\", \"xanchor\": \"left\", \"x\": 1.55, \"xref\": \"x1\", \"text\": \"30\", \"font\": {\"color\": \"#000000\"}, \"yref\": \"y1\", \"y\": 28, \"showarrow\": false}, {\"align\": \"left\", \"xanchor\": \"left\", \"x\": -0.45, \"xref\": \"x1\", \"text\": \"2015\", \"font\": {\"color\": \"#000000\"}, \"yref\": \"y1\", \"y\": 29, \"showarrow\": false}, {\"align\": \"left\", \"xanchor\": \"left\", \"x\": 0.55, \"xref\": \"x1\", \"text\": \"Mozilla Developer Network (MDN)\", \"font\": {\"color\": \"#000000\"}, \"yref\": \"y1\", \"y\": 29, \"showarrow\": false}, {\"align\": \"left\", \"xanchor\": \"left\", \"x\": 1.55, \"xref\": \"x1\", \"text\": \"25\", \"font\": {\"color\": \"#000000\"}, \"yref\": \"y1\", \"y\": 29, \"showarrow\": false}, {\"align\": \"left\", \"xanchor\": \"left\", \"x\": -0.45, \"xref\": \"x1\", \"text\": \"2015\", \"font\": {\"color\": \"#000000\"}, \"yref\": \"y1\", \"y\": 30, \"showarrow\": false}, {\"align\": \"left\", \"xanchor\": \"left\", \"x\": 0.55, \"xref\": \"x1\", \"text\": \"Addons/Web Extensions\", \"font\": {\"color\": \"#000000\"}, \"yref\": \"y1\", \"y\": 30, \"showarrow\": false}, {\"align\": \"left\", \"xanchor\": \"left\", \"x\": 1.55, \"xref\": \"x1\", \"text\": \"24\", \"font\": {\"color\": \"#000000\"}, \"yref\": \"y1\", \"y\": 30, \"showarrow\": false}, {\"align\": \"left\", \"xanchor\": \"left\", \"x\": -0.45, \"xref\": \"x1\", \"text\": \"2015\", \"font\": {\"color\": \"#000000\"}, \"yref\": \"y1\", \"y\": 31, \"showarrow\": false}, {\"align\": \"left\", \"xanchor\": \"left\", \"x\": 0.55, \"xref\": \"x1\", \"text\": \"Firefox OS (FxOS / B2G)\", \"font\": {\"color\": \"#000000\"}, \"yref\": \"y1\", \"y\": 31, \"showarrow\": false}, {\"align\": \"left\", \"xanchor\": \"left\", \"x\": 1.55, \"xref\": \"x1\", \"text\": \"22\", \"font\": {\"color\": \"#000000\"}, \"yref\": \"y1\", \"y\": 31, \"showarrow\": false}, {\"align\": \"left\", \"xanchor\": \"left\", \"x\": -0.45, \"xref\": \"x1\", \"text\": \"2015\", \"font\": {\"color\": \"#000000\"}, \"yref\": \"y1\", \"y\": 32, \"showarrow\": false}, {\"align\": \"left\", \"xanchor\": \"left\", \"x\": 0.55, \"xref\": \"x1\", \"text\": \"WebVR\", \"font\": {\"color\": \"#000000\"}, \"yref\": \"y1\", \"y\": 32, \"showarrow\": false}, {\"align\": \"left\", \"xanchor\": \"left\", \"x\": 1.55, \"xref\": \"x1\", \"text\": \"16\", \"font\": {\"color\": \"#000000\"}, \"yref\": \"y1\", \"y\": 32, \"showarrow\": false}, {\"align\": \"left\", \"xanchor\": \"left\", \"x\": -0.45, \"xref\": \"x1\", \"text\": \"2015\", \"font\": {\"color\": \"#000000\"}, \"yref\": \"y1\", \"y\": 33, \"showarrow\": false}, {\"align\": \"left\", \"xanchor\": \"left\", \"x\": 0.55, \"xref\": \"x1\", \"text\": \"Release engineering\", \"font\": {\"color\": \"#000000\"}, \"yref\": \"y1\", \"y\": 33, \"showarrow\": false}, {\"align\": \"left\", \"xanchor\": \"left\", \"x\": 1.55, \"xref\": \"x1\", \"text\": \"11\", \"font\": {\"color\": \"#000000\"}, \"yref\": \"y1\", \"y\": 33, \"showarrow\": false}, {\"align\": \"left\", \"xanchor\": \"left\", \"x\": -0.45, \"xref\": \"x1\", \"text\": \"2015\", \"font\": {\"color\": \"#000000\"}, \"yref\": \"y1\", \"y\": 34, \"showarrow\": false}, {\"align\": \"left\", \"xanchor\": \"left\", \"x\": 0.55, \"xref\": \"x1\", \"text\": \"Web Literacy\", \"font\": {\"color\": \"#000000\"}, \"yref\": \"y1\", \"y\": 34, \"showarrow\": false}, {\"align\": \"left\", \"xanchor\": \"left\", \"x\": 1.55, \"xref\": \"x1\", \"text\": \"11\", \"font\": {\"color\": \"#000000\"}, \"yref\": \"y1\", \"y\": 34, \"showarrow\": false}, {\"align\": \"left\", \"xanchor\": \"left\", \"x\": -0.45, \"xref\": \"x1\", \"text\": \"2015\", \"font\": {\"color\": \"#000000\"}, \"yref\": \"y1\", \"y\": 35, \"showarrow\": false}, {\"align\": \"left\", \"xanchor\": \"left\", \"x\": 0.55, \"xref\": \"x1\", \"text\": \"Mozilla Location Service (MLS) / Stumbler\", \"font\": {\"color\": \"#000000\"}, \"yref\": \"y1\", \"y\": 35, \"showarrow\": false}, {\"align\": \"left\", \"xanchor\": \"left\", \"x\": 1.55, \"xref\": \"x1\", \"text\": \"4\", \"font\": {\"color\": \"#000000\"}, \"yref\": \"y1\", \"y\": 35, \"showarrow\": false}, {\"align\": \"left\", \"xanchor\": \"left\", \"x\": -0.45, \"xref\": \"x1\", \"text\": \"2015\", \"font\": {\"color\": \"#000000\"}, \"yref\": \"y1\", \"y\": 36, \"showarrow\": false}, {\"align\": \"left\", \"xanchor\": \"left\", \"x\": 0.55, \"xref\": \"x1\", \"text\": \"Advocacy and policy\", \"font\": {\"color\": \"#000000\"}, \"yref\": \"y1\", \"y\": 36, \"showarrow\": false}, {\"align\": \"left\", \"xanchor\": \"left\", \"x\": 1.55, \"xref\": \"x1\", \"text\": \"3\", \"font\": {\"color\": \"#000000\"}, \"yref\": \"y1\", \"y\": 36, \"showarrow\": false}, {\"align\": \"left\", \"xanchor\": \"left\", \"x\": -0.45, \"xref\": \"x1\", \"text\": \"2015\", \"font\": {\"color\": \"#000000\"}, \"yref\": \"y1\", \"y\": 37, \"showarrow\": false}, {\"align\": \"left\", \"xanchor\": \"left\", \"x\": 0.55, \"xref\": \"x1\", \"text\": \"Mozilla Clubs\", \"font\": {\"color\": \"#000000\"}, \"yref\": \"y1\", \"y\": 37, \"showarrow\": false}, {\"align\": \"left\", \"xanchor\": \"left\", \"x\": 1.55, \"xref\": \"x1\", \"text\": \"3\", \"font\": {\"color\": \"#000000\"}, \"yref\": \"y1\", \"y\": 37, \"showarrow\": false}, {\"align\": \"left\", \"xanchor\": \"left\", \"x\": -0.45, \"xref\": \"x1\", \"text\": \"2015\", \"font\": {\"color\": \"#000000\"}, \"yref\": \"y1\", \"y\": 38, \"showarrow\": false}, {\"align\": \"left\", \"xanchor\": \"left\", \"x\": 0.55, \"xref\": \"x1\", \"text\": \"Developer Tools\", \"font\": {\"color\": \"#000000\"}, \"yref\": \"y1\", \"y\": 38, \"showarrow\": false}, {\"align\": \"left\", \"xanchor\": \"left\", \"x\": 1.55, \"xref\": \"x1\", \"text\": \"2\", \"font\": {\"color\": \"#000000\"}, \"yref\": \"y1\", \"y\": 38, \"showarrow\": false}, {\"align\": \"left\", \"xanchor\": \"left\", \"x\": -0.45, \"xref\": \"x1\", \"text\": \"2015\", \"font\": {\"color\": \"#000000\"}, \"yref\": \"y1\", \"y\": 39, \"showarrow\": false}, {\"align\": \"left\", \"xanchor\": \"left\", \"x\": 0.55, \"xref\": \"x1\", \"text\": \"Mozilla Creative & Design\", \"font\": {\"color\": \"#000000\"}, \"yref\": \"y1\", \"y\": 39, \"showarrow\": false}, {\"align\": \"left\", \"xanchor\": \"left\", \"x\": 1.55, \"xref\": \"x1\", \"text\": \"2\", \"font\": {\"color\": \"#000000\"}, \"yref\": \"y1\", \"y\": 39, \"showarrow\": false}, {\"align\": \"left\", \"xanchor\": \"left\", \"x\": -0.45, \"xref\": \"x1\", \"text\": \"2015\", \"font\": {\"color\": \"#000000\"}, \"yref\": \"y1\", \"y\": 40, \"showarrow\": false}, {\"align\": \"left\", \"xanchor\": \"left\", \"x\": 0.55, \"xref\": \"x1\", \"text\": \"Mozilla Foundation\", \"font\": {\"color\": \"#000000\"}, \"yref\": \"y1\", \"y\": 40, \"showarrow\": false}, {\"align\": \"left\", \"xanchor\": \"left\", \"x\": 1.55, \"xref\": \"x1\", \"text\": \"2\", \"font\": {\"color\": \"#000000\"}, \"yref\": \"y1\", \"y\": 40, \"showarrow\": false}, {\"align\": \"left\", \"xanchor\": \"left\", \"x\": -0.45, \"xref\": \"x1\", \"text\": \"2014\", \"font\": {\"color\": \"#000000\"}, \"yref\": \"y1\", \"y\": 41, \"showarrow\": false}, {\"align\": \"left\", \"xanchor\": \"left\", \"x\": 0.55, \"xref\": \"x1\", \"text\": \"Rust\", \"font\": {\"color\": \"#000000\"}, \"yref\": \"y1\", \"y\": 41, \"showarrow\": false}, {\"align\": \"left\", \"xanchor\": \"left\", \"x\": 1.55, \"xref\": \"x1\", \"text\": \"523\", \"font\": {\"color\": \"#000000\"}, \"yref\": \"y1\", \"y\": 41, \"showarrow\": false}, {\"align\": \"left\", \"xanchor\": \"left\", \"x\": -0.45, \"xref\": \"x1\", \"text\": \"2014\", \"font\": {\"color\": \"#000000\"}, \"yref\": \"y1\", \"y\": 42, \"showarrow\": false}, {\"align\": \"left\", \"xanchor\": \"left\", \"x\": 0.55, \"xref\": \"x1\", \"text\": \"Gecko\", \"font\": {\"color\": \"#000000\"}, \"yref\": \"y1\", \"y\": 42, \"showarrow\": false}, {\"align\": \"left\", \"xanchor\": \"left\", \"x\": 1.55, \"xref\": \"x1\", \"text\": \"299\", \"font\": {\"color\": \"#000000\"}, \"yref\": \"y1\", \"y\": 42, \"showarrow\": false}, {\"align\": \"left\", \"xanchor\": \"left\", \"x\": -0.45, \"xref\": \"x1\", \"text\": \"2014\", \"font\": {\"color\": \"#000000\"}, \"yref\": \"y1\", \"y\": 43, \"showarrow\": false}, {\"align\": \"left\", \"xanchor\": \"left\", \"x\": 0.55, \"xref\": \"x1\", \"text\": \"Web Properties\", \"font\": {\"color\": \"#000000\"}, \"yref\": \"y1\", \"y\": 43, \"showarrow\": false}, {\"align\": \"left\", \"xanchor\": \"left\", \"x\": 1.55, \"xref\": \"x1\", \"text\": \"131\", \"font\": {\"color\": \"#000000\"}, \"yref\": \"y1\", \"y\": 43, \"showarrow\": false}, {\"align\": \"left\", \"xanchor\": \"left\", \"x\": -0.45, \"xref\": \"x1\", \"text\": \"2014\", \"font\": {\"color\": \"#000000\"}, \"yref\": \"y1\", \"y\": 44, \"showarrow\": false}, {\"align\": \"left\", \"xanchor\": \"left\", \"x\": 0.55, \"xref\": \"x1\", \"text\": \"Servo\", \"font\": {\"color\": \"#000000\"}, \"yref\": \"y1\", \"y\": 44, \"showarrow\": false}, {\"align\": \"left\", \"xanchor\": \"left\", \"x\": 1.55, \"xref\": \"x1\", \"text\": \"124\", \"font\": {\"color\": \"#000000\"}, \"yref\": \"y1\", \"y\": 44, \"showarrow\": false}, {\"align\": \"left\", \"xanchor\": \"left\", \"x\": -0.45, \"xref\": \"x1\", \"text\": \"2014\", \"font\": {\"color\": \"#000000\"}, \"yref\": \"y1\", \"y\": 45, \"showarrow\": false}, {\"align\": \"left\", \"xanchor\": \"left\", \"x\": 0.55, \"xref\": \"x1\", \"text\": \"Mozilla Local/Regional communities\", \"font\": {\"color\": \"#000000\"}, \"yref\": \"y1\", \"y\": 45, \"showarrow\": false}, {\"align\": \"left\", \"xanchor\": \"left\", \"x\": 1.55, \"xref\": \"x1\", \"text\": \"104\", \"font\": {\"color\": \"#000000\"}, \"yref\": \"y1\", \"y\": 45, \"showarrow\": false}, {\"align\": \"left\", \"xanchor\": \"left\", \"x\": -0.45, \"xref\": \"x1\", \"text\": \"2014\", \"font\": {\"color\": \"#000000\"}, \"yref\": \"y1\", \"y\": 46, \"showarrow\": false}, {\"align\": \"left\", \"xanchor\": \"left\", \"x\": 0.55, \"xref\": \"x1\", \"text\": \"IT/Ops\", \"font\": {\"color\": \"#000000\"}, \"yref\": \"y1\", \"y\": 46, \"showarrow\": false}, {\"align\": \"left\", \"xanchor\": \"left\", \"x\": 1.55, \"xref\": \"x1\", \"text\": \"91\", \"font\": {\"color\": \"#000000\"}, \"yref\": \"y1\", \"y\": 46, \"showarrow\": false}, {\"align\": \"left\", \"xanchor\": \"left\", \"x\": -0.45, \"xref\": \"x1\", \"text\": \"2014\", \"font\": {\"color\": \"#000000\"}, \"yref\": \"y1\", \"y\": 47, \"showarrow\": false}, {\"align\": \"left\", \"xanchor\": \"left\", \"x\": 0.55, \"xref\": \"x1\", \"text\": \"Web Literacy\", \"font\": {\"color\": \"#000000\"}, \"yref\": \"y1\", \"y\": 47, \"showarrow\": false}, {\"align\": \"left\", \"xanchor\": \"left\", \"x\": 1.55, \"xref\": \"x1\", \"text\": \"45\", \"font\": {\"color\": \"#000000\"}, \"yref\": \"y1\", \"y\": 47, \"showarrow\": false}, {\"align\": \"left\", \"xanchor\": \"left\", \"x\": -0.45, \"xref\": \"x1\", \"text\": \"2014\", \"font\": {\"color\": \"#000000\"}, \"yref\": \"y1\", \"y\": 48, \"showarrow\": false}, {\"align\": \"left\", \"xanchor\": \"left\", \"x\": 0.55, \"xref\": \"x1\", \"text\": \"Mozilla Location Service (MLS) / Stumbler\", \"font\": {\"color\": \"#000000\"}, \"yref\": \"y1\", \"y\": 48, \"showarrow\": false}, {\"align\": \"left\", \"xanchor\": \"left\", \"x\": 1.55, \"xref\": \"x1\", \"text\": \"41\", \"font\": {\"color\": \"#000000\"}, \"yref\": \"y1\", \"y\": 48, \"showarrow\": false}, {\"align\": \"left\", \"xanchor\": \"left\", \"x\": -0.45, \"xref\": \"x1\", \"text\": \"2014\", \"font\": {\"color\": \"#000000\"}, \"yref\": \"y1\", \"y\": 49, \"showarrow\": false}, {\"align\": \"left\", \"xanchor\": \"left\", \"x\": 0.55, \"xref\": \"x1\", \"text\": \"Addons/Web Extensions\", \"font\": {\"color\": \"#000000\"}, \"yref\": \"y1\", \"y\": 49, \"showarrow\": false}, {\"align\": \"left\", \"xanchor\": \"left\", \"x\": 1.55, \"xref\": \"x1\", \"text\": \"32\", \"font\": {\"color\": \"#000000\"}, \"yref\": \"y1\", \"y\": 49, \"showarrow\": false}, {\"align\": \"left\", \"xanchor\": \"left\", \"x\": -0.45, \"xref\": \"x1\", \"text\": \"2014\", \"font\": {\"color\": \"#000000\"}, \"yref\": \"y1\", \"y\": 50, \"showarrow\": false}, {\"align\": \"left\", \"xanchor\": \"left\", \"x\": 0.55, \"xref\": \"x1\", \"text\": \"Mozilla Foundation\", \"font\": {\"color\": \"#000000\"}, \"yref\": \"y1\", \"y\": 50, \"showarrow\": false}, {\"align\": \"left\", \"xanchor\": \"left\", \"x\": 1.55, \"xref\": \"x1\", \"text\": \"14\", \"font\": {\"color\": \"#000000\"}, \"yref\": \"y1\", \"y\": 50, \"showarrow\": false}, {\"align\": \"left\", \"xanchor\": \"left\", \"x\": -0.45, \"xref\": \"x1\", \"text\": \"2014\", \"font\": {\"color\": \"#000000\"}, \"yref\": \"y1\", \"y\": 51, \"showarrow\": false}, {\"align\": \"left\", \"xanchor\": \"left\", \"x\": 0.55, \"xref\": \"x1\", \"text\": \"Firefox OS (FxOS / B2G)\", \"font\": {\"color\": \"#000000\"}, \"yref\": \"y1\", \"y\": 51, \"showarrow\": false}, {\"align\": \"left\", \"xanchor\": \"left\", \"x\": 1.55, \"xref\": \"x1\", \"text\": \"12\", \"font\": {\"color\": \"#000000\"}, \"yref\": \"y1\", \"y\": 51, \"showarrow\": false}, {\"align\": \"left\", \"xanchor\": \"left\", \"x\": -0.45, \"xref\": \"x1\", \"text\": \"2014\", \"font\": {\"color\": \"#000000\"}, \"yref\": \"y1\", \"y\": 52, \"showarrow\": false}, {\"align\": \"left\", \"xanchor\": \"left\", \"x\": 0.55, \"xref\": \"x1\", \"text\": \"Mozilla Science\", \"font\": {\"color\": \"#000000\"}, \"yref\": \"y1\", \"y\": 52, \"showarrow\": false}, {\"align\": \"left\", \"xanchor\": \"left\", \"x\": 1.55, \"xref\": \"x1\", \"text\": \"11\", \"font\": {\"color\": \"#000000\"}, \"yref\": \"y1\", \"y\": 52, \"showarrow\": false}, {\"align\": \"left\", \"xanchor\": \"left\", \"x\": -0.45, \"xref\": \"x1\", \"text\": \"2014\", \"font\": {\"color\": \"#000000\"}, \"yref\": \"y1\", \"y\": 53, \"showarrow\": false}, {\"align\": \"left\", \"xanchor\": \"left\", \"x\": 0.55, \"xref\": \"x1\", \"text\": \"Release engineering\", \"font\": {\"color\": \"#000000\"}, \"yref\": \"y1\", \"y\": 53, \"showarrow\": false}, {\"align\": \"left\", \"xanchor\": \"left\", \"x\": 1.55, \"xref\": \"x1\", \"text\": \"11\", \"font\": {\"color\": \"#000000\"}, \"yref\": \"y1\", \"y\": 53, \"showarrow\": false}, {\"align\": \"left\", \"xanchor\": \"left\", \"x\": -0.45, \"xref\": \"x1\", \"text\": \"2014\", \"font\": {\"color\": \"#000000\"}, \"yref\": \"y1\", \"y\": 54, \"showarrow\": false}, {\"align\": \"left\", \"xanchor\": \"left\", \"x\": 0.55, \"xref\": \"x1\", \"text\": \"Quality Assurance\", \"font\": {\"color\": \"#000000\"}, \"yref\": \"y1\", \"y\": 54, \"showarrow\": false}, {\"align\": \"left\", \"xanchor\": \"left\", \"x\": 1.55, \"xref\": \"x1\", \"text\": \"8\", \"font\": {\"color\": \"#000000\"}, \"yref\": \"y1\", \"y\": 54, \"showarrow\": false}, {\"align\": \"left\", \"xanchor\": \"left\", \"x\": -0.45, \"xref\": \"x1\", \"text\": \"2014\", \"font\": {\"color\": \"#000000\"}, \"yref\": \"y1\", \"y\": 55, \"showarrow\": false}, {\"align\": \"left\", \"xanchor\": \"left\", \"x\": 0.55, \"xref\": \"x1\", \"text\": \"Marketing / Social Media\", \"font\": {\"color\": \"#000000\"}, \"yref\": \"y1\", \"y\": 55, \"showarrow\": false}, {\"align\": \"left\", \"xanchor\": \"left\", \"x\": 1.55, \"xref\": \"x1\", \"text\": \"6\", \"font\": {\"color\": \"#000000\"}, \"yref\": \"y1\", \"y\": 55, \"showarrow\": false}, {\"align\": \"left\", \"xanchor\": \"left\", \"x\": -0.45, \"xref\": \"x1\", \"text\": \"2014\", \"font\": {\"color\": \"#000000\"}, \"yref\": \"y1\", \"y\": 56, \"showarrow\": false}, {\"align\": \"left\", \"xanchor\": \"left\", \"x\": 0.55, \"xref\": \"x1\", \"text\": \"Firefox iOS\", \"font\": {\"color\": \"#000000\"}, \"yref\": \"y1\", \"y\": 56, \"showarrow\": false}, {\"align\": \"left\", \"xanchor\": \"left\", \"x\": 1.55, \"xref\": \"x1\", \"text\": \"5\", \"font\": {\"color\": \"#000000\"}, \"yref\": \"y1\", \"y\": 56, \"showarrow\": false}, {\"align\": \"left\", \"xanchor\": \"left\", \"x\": -0.45, \"xref\": \"x1\", \"text\": \"2014\", \"font\": {\"color\": \"#000000\"}, \"yref\": \"y1\", \"y\": 57, \"showarrow\": false}, {\"align\": \"left\", \"xanchor\": \"left\", \"x\": 0.55, \"xref\": \"x1\", \"text\": \"Advocacy and policy\", \"font\": {\"color\": \"#000000\"}, \"yref\": \"y1\", \"y\": 57, \"showarrow\": false}, {\"align\": \"left\", \"xanchor\": \"left\", \"x\": 1.55, \"xref\": \"x1\", \"text\": \"4\", \"font\": {\"color\": \"#000000\"}, \"yref\": \"y1\", \"y\": 57, \"showarrow\": false}, {\"align\": \"left\", \"xanchor\": \"left\", \"x\": -0.45, \"xref\": \"x1\", \"text\": \"2014\", \"font\": {\"color\": \"#000000\"}, \"yref\": \"y1\", \"y\": 58, \"showarrow\": false}, {\"align\": \"left\", \"xanchor\": \"left\", \"x\": 0.55, \"xref\": \"x1\", \"text\": \"WebVR\", \"font\": {\"color\": \"#000000\"}, \"yref\": \"y1\", \"y\": 58, \"showarrow\": false}, {\"align\": \"left\", \"xanchor\": \"left\", \"x\": 1.55, \"xref\": \"x1\", \"text\": \"4\", \"font\": {\"color\": \"#000000\"}, \"yref\": \"y1\", \"y\": 58, \"showarrow\": false}, {\"align\": \"left\", \"xanchor\": \"left\", \"x\": -0.45, \"xref\": \"x1\", \"text\": \"2014\", \"font\": {\"color\": \"#000000\"}, \"yref\": \"y1\", \"y\": 59, \"showarrow\": false}, {\"align\": \"left\", \"xanchor\": \"left\", \"x\": 0.55, \"xref\": \"x1\", \"text\": \"Mozilla Developer Network (MDN)\", \"font\": {\"color\": \"#000000\"}, \"yref\": \"y1\", \"y\": 59, \"showarrow\": false}, {\"align\": \"left\", \"xanchor\": \"left\", \"x\": 1.55, \"xref\": \"x1\", \"text\": \"3\", \"font\": {\"color\": \"#000000\"}, \"yref\": \"y1\", \"y\": 59, \"showarrow\": false}, {\"align\": \"left\", \"xanchor\": \"left\", \"x\": -0.45, \"xref\": \"x1\", \"text\": \"2014\", \"font\": {\"color\": \"#000000\"}, \"yref\": \"y1\", \"y\": 60, \"showarrow\": false}, {\"align\": \"left\", \"xanchor\": \"left\", \"x\": 0.55, \"xref\": \"x1\", \"text\": \"Technical/Developer Evangelism\", \"font\": {\"color\": \"#000000\"}, \"yref\": \"y1\", \"y\": 60, \"showarrow\": false}, {\"align\": \"left\", \"xanchor\": \"left\", \"x\": 1.55, \"xref\": \"x1\", \"text\": \"3\", \"font\": {\"color\": \"#000000\"}, \"yref\": \"y1\", \"y\": 60, \"showarrow\": false}, {\"align\": \"left\", \"xanchor\": \"left\", \"x\": -0.45, \"xref\": \"x1\", \"text\": \"2013\", \"font\": {\"color\": \"#000000\"}, \"yref\": \"y1\", \"y\": 61, \"showarrow\": false}, {\"align\": \"left\", \"xanchor\": \"left\", \"x\": 0.55, \"xref\": \"x1\", \"text\": \"Gecko\", \"font\": {\"color\": \"#000000\"}, \"yref\": \"y1\", \"y\": 61, \"showarrow\": false}, {\"align\": \"left\", \"xanchor\": \"left\", \"x\": 1.55, \"xref\": \"x1\", \"text\": \"260\", \"font\": {\"color\": \"#000000\"}, \"yref\": \"y1\", \"y\": 61, \"showarrow\": false}, {\"align\": \"left\", \"xanchor\": \"left\", \"x\": -0.45, \"xref\": \"x1\", \"text\": \"2013\", \"font\": {\"color\": \"#000000\"}, \"yref\": \"y1\", \"y\": 62, \"showarrow\": false}, {\"align\": \"left\", \"xanchor\": \"left\", \"x\": 0.55, \"xref\": \"x1\", \"text\": \"Rust\", \"font\": {\"color\": \"#000000\"}, \"yref\": \"y1\", \"y\": 62, \"showarrow\": false}, {\"align\": \"left\", \"xanchor\": \"left\", \"x\": 1.55, \"xref\": \"x1\", \"text\": \"233\", \"font\": {\"color\": \"#000000\"}, \"yref\": \"y1\", \"y\": 62, \"showarrow\": false}, {\"align\": \"left\", \"xanchor\": \"left\", \"x\": -0.45, \"xref\": \"x1\", \"text\": \"2013\", \"font\": {\"color\": \"#000000\"}, \"yref\": \"y1\", \"y\": 63, \"showarrow\": false}, {\"align\": \"left\", \"xanchor\": \"left\", \"x\": 0.55, \"xref\": \"x1\", \"text\": \"Web Properties\", \"font\": {\"color\": \"#000000\"}, \"yref\": \"y1\", \"y\": 63, \"showarrow\": false}, {\"align\": \"left\", \"xanchor\": \"left\", \"x\": 1.55, \"xref\": \"x1\", \"text\": \"121\", \"font\": {\"color\": \"#000000\"}, \"yref\": \"y1\", \"y\": 63, \"showarrow\": false}, {\"align\": \"left\", \"xanchor\": \"left\", \"x\": -0.45, \"xref\": \"x1\", \"text\": \"2013\", \"font\": {\"color\": \"#000000\"}, \"yref\": \"y1\", \"y\": 64, \"showarrow\": false}, {\"align\": \"left\", \"xanchor\": \"left\", \"x\": 0.55, \"xref\": \"x1\", \"text\": \"Mozilla Local/Regional communities\", \"font\": {\"color\": \"#000000\"}, \"yref\": \"y1\", \"y\": 64, \"showarrow\": false}, {\"align\": \"left\", \"xanchor\": \"left\", \"x\": 1.55, \"xref\": \"x1\", \"text\": \"55\", \"font\": {\"color\": \"#000000\"}, \"yref\": \"y1\", \"y\": 64, \"showarrow\": false}, {\"align\": \"left\", \"xanchor\": \"left\", \"x\": -0.45, \"xref\": \"x1\", \"text\": \"2013\", \"font\": {\"color\": \"#000000\"}, \"yref\": \"y1\", \"y\": 65, \"showarrow\": false}, {\"align\": \"left\", \"xanchor\": \"left\", \"x\": 0.55, \"xref\": \"x1\", \"text\": \"Servo\", \"font\": {\"color\": \"#000000\"}, \"yref\": \"y1\", \"y\": 65, \"showarrow\": false}, {\"align\": \"left\", \"xanchor\": \"left\", \"x\": 1.55, \"xref\": \"x1\", \"text\": \"51\", \"font\": {\"color\": \"#000000\"}, \"yref\": \"y1\", \"y\": 65, \"showarrow\": false}, {\"align\": \"left\", \"xanchor\": \"left\", \"x\": -0.45, \"xref\": \"x1\", \"text\": \"2013\", \"font\": {\"color\": \"#000000\"}, \"yref\": \"y1\", \"y\": 66, \"showarrow\": false}, {\"align\": \"left\", \"xanchor\": \"left\", \"x\": 0.55, \"xref\": \"x1\", \"text\": \"IT/Ops\", \"font\": {\"color\": \"#000000\"}, \"yref\": \"y1\", \"y\": 66, \"showarrow\": false}, {\"align\": \"left\", \"xanchor\": \"left\", \"x\": 1.55, \"xref\": \"x1\", \"text\": \"48\", \"font\": {\"color\": \"#000000\"}, \"yref\": \"y1\", \"y\": 66, \"showarrow\": false}, {\"align\": \"left\", \"xanchor\": \"left\", \"x\": -0.45, \"xref\": \"x1\", \"text\": \"2013\", \"font\": {\"color\": \"#000000\"}, \"yref\": \"y1\", \"y\": 67, \"showarrow\": false}, {\"align\": \"left\", \"xanchor\": \"left\", \"x\": 0.55, \"xref\": \"x1\", \"text\": \"Addons/Web Extensions\", \"font\": {\"color\": \"#000000\"}, \"yref\": \"y1\", \"y\": 67, \"showarrow\": false}, {\"align\": \"left\", \"xanchor\": \"left\", \"x\": 1.55, \"xref\": \"x1\", \"text\": \"35\", \"font\": {\"color\": \"#000000\"}, \"yref\": \"y1\", \"y\": 67, \"showarrow\": false}, {\"align\": \"left\", \"xanchor\": \"left\", \"x\": -0.45, \"xref\": \"x1\", \"text\": \"2013\", \"font\": {\"color\": \"#000000\"}, \"yref\": \"y1\", \"y\": 68, \"showarrow\": false}, {\"align\": \"left\", \"xanchor\": \"left\", \"x\": 0.55, \"xref\": \"x1\", \"text\": \"Mozilla Foundation\", \"font\": {\"color\": \"#000000\"}, \"yref\": \"y1\", \"y\": 68, \"showarrow\": false}, {\"align\": \"left\", \"xanchor\": \"left\", \"x\": 1.55, \"xref\": \"x1\", \"text\": \"30\", \"font\": {\"color\": \"#000000\"}, \"yref\": \"y1\", \"y\": 68, \"showarrow\": false}, {\"align\": \"left\", \"xanchor\": \"left\", \"x\": -0.45, \"xref\": \"x1\", \"text\": \"2013\", \"font\": {\"color\": \"#000000\"}, \"yref\": \"y1\", \"y\": 69, \"showarrow\": false}, {\"align\": \"left\", \"xanchor\": \"left\", \"x\": 0.55, \"xref\": \"x1\", \"text\": \"Web Literacy\", \"font\": {\"color\": \"#000000\"}, \"yref\": \"y1\", \"y\": 69, \"showarrow\": false}, {\"align\": \"left\", \"xanchor\": \"left\", \"x\": 1.55, \"xref\": \"x1\", \"text\": \"21\", \"font\": {\"color\": \"#000000\"}, \"yref\": \"y1\", \"y\": 69, \"showarrow\": false}, {\"align\": \"left\", \"xanchor\": \"left\", \"x\": -0.45, \"xref\": \"x1\", \"text\": \"2013\", \"font\": {\"color\": \"#000000\"}, \"yref\": \"y1\", \"y\": 70, \"showarrow\": false}, {\"align\": \"left\", \"xanchor\": \"left\", \"x\": 0.55, \"xref\": \"x1\", \"text\": \"Mozilla Location Service (MLS) / Stumbler\", \"font\": {\"color\": \"#000000\"}, \"yref\": \"y1\", \"y\": 70, \"showarrow\": false}, {\"align\": \"left\", \"xanchor\": \"left\", \"x\": 1.55, \"xref\": \"x1\", \"text\": \"17\", \"font\": {\"color\": \"#000000\"}, \"yref\": \"y1\", \"y\": 70, \"showarrow\": false}, {\"align\": \"left\", \"xanchor\": \"left\", \"x\": -0.45, \"xref\": \"x1\", \"text\": \"2013\", \"font\": {\"color\": \"#000000\"}, \"yref\": \"y1\", \"y\": 71, \"showarrow\": false}, {\"align\": \"left\", \"xanchor\": \"left\", \"x\": 0.55, \"xref\": \"x1\", \"text\": \"Release engineering\", \"font\": {\"color\": \"#000000\"}, \"yref\": \"y1\", \"y\": 71, \"showarrow\": false}, {\"align\": \"left\", \"xanchor\": \"left\", \"x\": 1.55, \"xref\": \"x1\", \"text\": \"13\", \"font\": {\"color\": \"#000000\"}, \"yref\": \"y1\", \"y\": 71, \"showarrow\": false}, {\"align\": \"left\", \"xanchor\": \"left\", \"x\": -0.45, \"xref\": \"x1\", \"text\": \"2013\", \"font\": {\"color\": \"#000000\"}, \"yref\": \"y1\", \"y\": 72, \"showarrow\": false}, {\"align\": \"left\", \"xanchor\": \"left\", \"x\": 0.55, \"xref\": \"x1\", \"text\": \"Firefox OS (FxOS / B2G)\", \"font\": {\"color\": \"#000000\"}, \"yref\": \"y1\", \"y\": 72, \"showarrow\": false}, {\"align\": \"left\", \"xanchor\": \"left\", \"x\": 1.55, \"xref\": \"x1\", \"text\": \"8\", \"font\": {\"color\": \"#000000\"}, \"yref\": \"y1\", \"y\": 72, \"showarrow\": false}, {\"align\": \"left\", \"xanchor\": \"left\", \"x\": -0.45, \"xref\": \"x1\", \"text\": \"2013\", \"font\": {\"color\": \"#000000\"}, \"yref\": \"y1\", \"y\": 73, \"showarrow\": false}, {\"align\": \"left\", \"xanchor\": \"left\", \"x\": 0.55, \"xref\": \"x1\", \"text\": \"Quality Assurance\", \"font\": {\"color\": \"#000000\"}, \"yref\": \"y1\", \"y\": 73, \"showarrow\": false}, {\"align\": \"left\", \"xanchor\": \"left\", \"x\": 1.55, \"xref\": \"x1\", \"text\": \"6\", \"font\": {\"color\": \"#000000\"}, \"yref\": \"y1\", \"y\": 73, \"showarrow\": false}, {\"align\": \"left\", \"xanchor\": \"left\", \"x\": -0.45, \"xref\": \"x1\", \"text\": \"2013\", \"font\": {\"color\": \"#000000\"}, \"yref\": \"y1\", \"y\": 74, \"showarrow\": false}, {\"align\": \"left\", \"xanchor\": \"left\", \"x\": 0.55, \"xref\": \"x1\", \"text\": \"Marketing / Social Media\", \"font\": {\"color\": \"#000000\"}, \"yref\": \"y1\", \"y\": 74, \"showarrow\": false}, {\"align\": \"left\", \"xanchor\": \"left\", \"x\": 1.55, \"xref\": \"x1\", \"text\": \"2\", \"font\": {\"color\": \"#000000\"}, \"yref\": \"y1\", \"y\": 74, \"showarrow\": false}, {\"align\": \"left\", \"xanchor\": \"left\", \"x\": -0.45, \"xref\": \"x1\", \"text\": \"2013\", \"font\": {\"color\": \"#000000\"}, \"yref\": \"y1\", \"y\": 75, \"showarrow\": false}, {\"align\": \"left\", \"xanchor\": \"left\", \"x\": 0.55, \"xref\": \"x1\", \"text\": \"Mozilla Creative & Design\", \"font\": {\"color\": \"#000000\"}, \"yref\": \"y1\", \"y\": 75, \"showarrow\": false}, {\"align\": \"left\", \"xanchor\": \"left\", \"x\": 1.55, \"xref\": \"x1\", \"text\": \"2\", \"font\": {\"color\": \"#000000\"}, \"yref\": \"y1\", \"y\": 75, \"showarrow\": false}, {\"align\": \"left\", \"xanchor\": \"left\", \"x\": -0.45, \"xref\": \"x1\", \"text\": \"2013\", \"font\": {\"color\": \"#000000\"}, \"yref\": \"y1\", \"y\": 76, \"showarrow\": false}, {\"align\": \"left\", \"xanchor\": \"left\", \"x\": 0.55, \"xref\": \"x1\", \"text\": \"Mozilla Developer Network (MDN)\", \"font\": {\"color\": \"#000000\"}, \"yref\": \"y1\", \"y\": 76, \"showarrow\": false}, {\"align\": \"left\", \"xanchor\": \"left\", \"x\": 1.55, \"xref\": \"x1\", \"text\": \"2\", \"font\": {\"color\": \"#000000\"}, \"yref\": \"y1\", \"y\": 76, \"showarrow\": false}, {\"align\": \"left\", \"xanchor\": \"left\", \"x\": -0.45, \"xref\": \"x1\", \"text\": \"2013\", \"font\": {\"color\": \"#000000\"}, \"yref\": \"y1\", \"y\": 77, \"showarrow\": false}, {\"align\": \"left\", \"xanchor\": \"left\", \"x\": 0.55, \"xref\": \"x1\", \"text\": \"Mozilla Science\", \"font\": {\"color\": \"#000000\"}, \"yref\": \"y1\", \"y\": 77, \"showarrow\": false}, {\"align\": \"left\", \"xanchor\": \"left\", \"x\": 1.55, \"xref\": \"x1\", \"text\": \"2\", \"font\": {\"color\": \"#000000\"}, \"yref\": \"y1\", \"y\": 77, \"showarrow\": false}, {\"align\": \"left\", \"xanchor\": \"left\", \"x\": -0.45, \"xref\": \"x1\", \"text\": \"2013\", \"font\": {\"color\": \"#000000\"}, \"yref\": \"y1\", \"y\": 78, \"showarrow\": false}, {\"align\": \"left\", \"xanchor\": \"left\", \"x\": 0.55, \"xref\": \"x1\", \"text\": \"Firefox iOS\", \"font\": {\"color\": \"#000000\"}, \"yref\": \"y1\", \"y\": 78, \"showarrow\": false}, {\"align\": \"left\", \"xanchor\": \"left\", \"x\": 1.55, \"xref\": \"x1\", \"text\": \"1\", \"font\": {\"color\": \"#000000\"}, \"yref\": \"y1\", \"y\": 78, \"showarrow\": false}, {\"align\": \"left\", \"xanchor\": \"left\", \"x\": -0.45, \"xref\": \"x1\", \"text\": \"2013\", \"font\": {\"color\": \"#000000\"}, \"yref\": \"y1\", \"y\": 79, \"showarrow\": false}, {\"align\": \"left\", \"xanchor\": \"left\", \"x\": 0.55, \"xref\": \"x1\", \"text\": \"Technical/Developer Evangelism\", \"font\": {\"color\": \"#000000\"}, \"yref\": \"y1\", \"y\": 79, \"showarrow\": false}, {\"align\": \"left\", \"xanchor\": \"left\", \"x\": 1.55, \"xref\": \"x1\", \"text\": \"1\", \"font\": {\"color\": \"#000000\"}, \"yref\": \"y1\", \"y\": 79, \"showarrow\": false}, {\"align\": \"left\", \"xanchor\": \"left\", \"x\": -0.45, \"xref\": \"x1\", \"text\": \"2012\", \"font\": {\"color\": \"#000000\"}, \"yref\": \"y1\", \"y\": 80, \"showarrow\": false}, {\"align\": \"left\", \"xanchor\": \"left\", \"x\": 0.55, \"xref\": \"x1\", \"text\": \"Gecko\", \"font\": {\"color\": \"#000000\"}, \"yref\": \"y1\", \"y\": 80, \"showarrow\": false}, {\"align\": \"left\", \"xanchor\": \"left\", \"x\": 1.55, \"xref\": \"x1\", \"text\": \"226\", \"font\": {\"color\": \"#000000\"}, \"yref\": \"y1\", \"y\": 80, \"showarrow\": false}, {\"align\": \"left\", \"xanchor\": \"left\", \"x\": -0.45, \"xref\": \"x1\", \"text\": \"2012\", \"font\": {\"color\": \"#000000\"}, \"yref\": \"y1\", \"y\": 81, \"showarrow\": false}, {\"align\": \"left\", \"xanchor\": \"left\", \"x\": 0.55, \"xref\": \"x1\", \"text\": \"Rust\", \"font\": {\"color\": \"#000000\"}, \"yref\": \"y1\", \"y\": 81, \"showarrow\": false}, {\"align\": \"left\", \"xanchor\": \"left\", \"x\": 1.55, \"xref\": \"x1\", \"text\": \"89\", \"font\": {\"color\": \"#000000\"}, \"yref\": \"y1\", \"y\": 81, \"showarrow\": false}, {\"align\": \"left\", \"xanchor\": \"left\", \"x\": -0.45, \"xref\": \"x1\", \"text\": \"2012\", \"font\": {\"color\": \"#000000\"}, \"yref\": \"y1\", \"y\": 82, \"showarrow\": false}, {\"align\": \"left\", \"xanchor\": \"left\", \"x\": 0.55, \"xref\": \"x1\", \"text\": \"Web Properties\", \"font\": {\"color\": \"#000000\"}, \"yref\": \"y1\", \"y\": 82, \"showarrow\": false}, {\"align\": \"left\", \"xanchor\": \"left\", \"x\": 1.55, \"xref\": \"x1\", \"text\": \"67\", \"font\": {\"color\": \"#000000\"}, \"yref\": \"y1\", \"y\": 82, \"showarrow\": false}, {\"align\": \"left\", \"xanchor\": \"left\", \"x\": -0.45, \"xref\": \"x1\", \"text\": \"2012\", \"font\": {\"color\": \"#000000\"}, \"yref\": \"y1\", \"y\": 83, \"showarrow\": false}, {\"align\": \"left\", \"xanchor\": \"left\", \"x\": 0.55, \"xref\": \"x1\", \"text\": \"Servo\", \"font\": {\"color\": \"#000000\"}, \"yref\": \"y1\", \"y\": 83, \"showarrow\": false}, {\"align\": \"left\", \"xanchor\": \"left\", \"x\": 1.55, \"xref\": \"x1\", \"text\": \"47\", \"font\": {\"color\": \"#000000\"}, \"yref\": \"y1\", \"y\": 83, \"showarrow\": false}, {\"align\": \"left\", \"xanchor\": \"left\", \"x\": -0.45, \"xref\": \"x1\", \"text\": \"2012\", \"font\": {\"color\": \"#000000\"}, \"yref\": \"y1\", \"y\": 84, \"showarrow\": false}, {\"align\": \"left\", \"xanchor\": \"left\", \"x\": 0.55, \"xref\": \"x1\", \"text\": \"IT/Ops\", \"font\": {\"color\": \"#000000\"}, \"yref\": \"y1\", \"y\": 84, \"showarrow\": false}, {\"align\": \"left\", \"xanchor\": \"left\", \"x\": 1.55, \"xref\": \"x1\", \"text\": \"45\", \"font\": {\"color\": \"#000000\"}, \"yref\": \"y1\", \"y\": 84, \"showarrow\": false}, {\"align\": \"left\", \"xanchor\": \"left\", \"x\": -0.45, \"xref\": \"x1\", \"text\": \"2012\", \"font\": {\"color\": \"#000000\"}, \"yref\": \"y1\", \"y\": 85, \"showarrow\": false}, {\"align\": \"left\", \"xanchor\": \"left\", \"x\": 0.55, \"xref\": \"x1\", \"text\": \"Mozilla Local/Regional communities\", \"font\": {\"color\": \"#000000\"}, \"yref\": \"y1\", \"y\": 85, \"showarrow\": false}, {\"align\": \"left\", \"xanchor\": \"left\", \"x\": 1.55, \"xref\": \"x1\", \"text\": \"38\", \"font\": {\"color\": \"#000000\"}, \"yref\": \"y1\", \"y\": 85, \"showarrow\": false}, {\"align\": \"left\", \"xanchor\": \"left\", \"x\": -0.45, \"xref\": \"x1\", \"text\": \"2012\", \"font\": {\"color\": \"#000000\"}, \"yref\": \"y1\", \"y\": 86, \"showarrow\": false}, {\"align\": \"left\", \"xanchor\": \"left\", \"x\": 0.55, \"xref\": \"x1\", \"text\": \"Addons/Web Extensions\", \"font\": {\"color\": \"#000000\"}, \"yref\": \"y1\", \"y\": 86, \"showarrow\": false}, {\"align\": \"left\", \"xanchor\": \"left\", \"x\": 1.55, \"xref\": \"x1\", \"text\": \"23\", \"font\": {\"color\": \"#000000\"}, \"yref\": \"y1\", \"y\": 86, \"showarrow\": false}, {\"align\": \"left\", \"xanchor\": \"left\", \"x\": -0.45, \"xref\": \"x1\", \"text\": \"2012\", \"font\": {\"color\": \"#000000\"}, \"yref\": \"y1\", \"y\": 87, \"showarrow\": false}, {\"align\": \"left\", \"xanchor\": \"left\", \"x\": 0.55, \"xref\": \"x1\", \"text\": \"Mozilla Foundation\", \"font\": {\"color\": \"#000000\"}, \"yref\": \"y1\", \"y\": 87, \"showarrow\": false}, {\"align\": \"left\", \"xanchor\": \"left\", \"x\": 1.55, \"xref\": \"x1\", \"text\": \"14\", \"font\": {\"color\": \"#000000\"}, \"yref\": \"y1\", \"y\": 87, \"showarrow\": false}, {\"align\": \"left\", \"xanchor\": \"left\", \"x\": -0.45, \"xref\": \"x1\", \"text\": \"2012\", \"font\": {\"color\": \"#000000\"}, \"yref\": \"y1\", \"y\": 88, \"showarrow\": false}, {\"align\": \"left\", \"xanchor\": \"left\", \"x\": 0.55, \"xref\": \"x1\", \"text\": \"Release engineering\", \"font\": {\"color\": \"#000000\"}, \"yref\": \"y1\", \"y\": 88, \"showarrow\": false}, {\"align\": \"left\", \"xanchor\": \"left\", \"x\": 1.55, \"xref\": \"x1\", \"text\": \"13\", \"font\": {\"color\": \"#000000\"}, \"yref\": \"y1\", \"y\": 88, \"showarrow\": false}, {\"align\": \"left\", \"xanchor\": \"left\", \"x\": -0.45, \"xref\": \"x1\", \"text\": \"2012\", \"font\": {\"color\": \"#000000\"}, \"yref\": \"y1\", \"y\": 89, \"showarrow\": false}, {\"align\": \"left\", \"xanchor\": \"left\", \"x\": 0.55, \"xref\": \"x1\", \"text\": \"Web Literacy\", \"font\": {\"color\": \"#000000\"}, \"yref\": \"y1\", \"y\": 89, \"showarrow\": false}, {\"align\": \"left\", \"xanchor\": \"left\", \"x\": 1.55, \"xref\": \"x1\", \"text\": \"9\", \"font\": {\"color\": \"#000000\"}, \"yref\": \"y1\", \"y\": 89, \"showarrow\": false}, {\"align\": \"left\", \"xanchor\": \"left\", \"x\": -0.45, \"xref\": \"x1\", \"text\": \"2012\", \"font\": {\"color\": \"#000000\"}, \"yref\": \"y1\", \"y\": 90, \"showarrow\": false}, {\"align\": \"left\", \"xanchor\": \"left\", \"x\": 0.55, \"xref\": \"x1\", \"text\": \"Firefox OS (FxOS / B2G)\", \"font\": {\"color\": \"#000000\"}, \"yref\": \"y1\", \"y\": 90, \"showarrow\": false}, {\"align\": \"left\", \"xanchor\": \"left\", \"x\": 1.55, \"xref\": \"x1\", \"text\": \"5\", \"font\": {\"color\": \"#000000\"}, \"yref\": \"y1\", \"y\": 90, \"showarrow\": false}, {\"align\": \"left\", \"xanchor\": \"left\", \"x\": -0.45, \"xref\": \"x1\", \"text\": \"2012\", \"font\": {\"color\": \"#000000\"}, \"yref\": \"y1\", \"y\": 91, \"showarrow\": false}, {\"align\": \"left\", \"xanchor\": \"left\", \"x\": 0.55, \"xref\": \"x1\", \"text\": \"Localization\", \"font\": {\"color\": \"#000000\"}, \"yref\": \"y1\", \"y\": 91, \"showarrow\": false}, {\"align\": \"left\", \"xanchor\": \"left\", \"x\": 1.55, \"xref\": \"x1\", \"text\": \"4\", \"font\": {\"color\": \"#000000\"}, \"yref\": \"y1\", \"y\": 91, \"showarrow\": false}, {\"align\": \"left\", \"xanchor\": \"left\", \"x\": -0.45, \"xref\": \"x1\", \"text\": \"2012\", \"font\": {\"color\": \"#000000\"}, \"yref\": \"y1\", \"y\": 92, \"showarrow\": false}, {\"align\": \"left\", \"xanchor\": \"left\", \"x\": 0.55, \"xref\": \"x1\", \"text\": \"Quality Assurance\", \"font\": {\"color\": \"#000000\"}, \"yref\": \"y1\", \"y\": 92, \"showarrow\": false}, {\"align\": \"left\", \"xanchor\": \"left\", \"x\": 1.55, \"xref\": \"x1\", \"text\": \"4\", \"font\": {\"color\": \"#000000\"}, \"yref\": \"y1\", \"y\": 92, \"showarrow\": false}, {\"align\": \"left\", \"xanchor\": \"left\", \"x\": -0.45, \"xref\": \"x1\", \"text\": \"2012\", \"font\": {\"color\": \"#000000\"}, \"yref\": \"y1\", \"y\": 93, \"showarrow\": false}, {\"align\": \"left\", \"xanchor\": \"left\", \"x\": 0.55, \"xref\": \"x1\", \"text\": \"Firefox iOS\", \"font\": {\"color\": \"#000000\"}, \"yref\": \"y1\", \"y\": 93, \"showarrow\": false}, {\"align\": \"left\", \"xanchor\": \"left\", \"x\": 1.55, \"xref\": \"x1\", \"text\": \"1\", \"font\": {\"color\": \"#000000\"}, \"yref\": \"y1\", \"y\": 93, \"showarrow\": false}, {\"align\": \"left\", \"xanchor\": \"left\", \"x\": -0.45, \"xref\": \"x1\", \"text\": \"2012\", \"font\": {\"color\": \"#000000\"}, \"yref\": \"y1\", \"y\": 94, \"showarrow\": false}, {\"align\": \"left\", \"xanchor\": \"left\", \"x\": 0.55, \"xref\": \"x1\", \"text\": \"Technical/Developer Evangelism\", \"font\": {\"color\": \"#000000\"}, \"yref\": \"y1\", \"y\": 94, \"showarrow\": false}, {\"align\": \"left\", \"xanchor\": \"left\", \"x\": 1.55, \"xref\": \"x1\", \"text\": \"1\", \"font\": {\"color\": \"#000000\"}, \"yref\": \"y1\", \"y\": 94, \"showarrow\": false}]}, {\"showLink\": true, \"linkText\": \"Export to plot.ly\"})});</script>"
      ],
      "text/vnd.plotly.v1+html": [
       "<div id=\"2a7659d5-06a5-42bb-bb61-d5309f28aa43\" style=\"height: 2900px; width: 100%;\" class=\"plotly-graph-div\"></div><script type=\"text/javascript\">require([\"plotly\"], function(Plotly) { window.PLOTLYENV=window.PLOTLYENV || {};window.PLOTLYENV.BASE_URL=\"https://plot.ly\";Plotly.newPlot(\"2a7659d5-06a5-42bb-bb61-d5309f28aa43\", [{\"colorscale\": [[0, \"#00083e\"], [0.5, \"#ededee\"], [1, \"#ffffff\"]], \"hoverinfo\": \"none\", \"z\": [[0, 0, 0], [0.5, 0.5, 0.5], [1, 1, 1], [0.5, 0.5, 0.5], [1, 1, 1], [0.5, 0.5, 0.5], [1, 1, 1], [0.5, 0.5, 0.5], [1, 1, 1], [0.5, 0.5, 0.5], [1, 1, 1], [0.5, 0.5, 0.5], [1, 1, 1], [0.5, 0.5, 0.5], [1, 1, 1], [0.5, 0.5, 0.5], [1, 1, 1], [0.5, 0.5, 0.5], [1, 1, 1], [0.5, 0.5, 0.5], [1, 1, 1], [0.5, 0.5, 0.5], [1, 1, 1], [0.5, 0.5, 0.5], [1, 1, 1], [0.5, 0.5, 0.5], [1, 1, 1], [0.5, 0.5, 0.5], [1, 1, 1], [0.5, 0.5, 0.5], [1, 1, 1], [0.5, 0.5, 0.5], [1, 1, 1], [0.5, 0.5, 0.5], [1, 1, 1], [0.5, 0.5, 0.5], [1, 1, 1], [0.5, 0.5, 0.5], [1, 1, 1], [0.5, 0.5, 0.5], [1, 1, 1], [0.5, 0.5, 0.5], [1, 1, 1], [0.5, 0.5, 0.5], [1, 1, 1], [0.5, 0.5, 0.5], [1, 1, 1], [0.5, 0.5, 0.5], [1, 1, 1], [0.5, 0.5, 0.5], [1, 1, 1], [0.5, 0.5, 0.5], [1, 1, 1], [0.5, 0.5, 0.5], [1, 1, 1], [0.5, 0.5, 0.5], [1, 1, 1], [0.5, 0.5, 0.5], [1, 1, 1], [0.5, 0.5, 0.5], [1, 1, 1], [0.5, 0.5, 0.5], [1, 1, 1], [0.5, 0.5, 0.5], [1, 1, 1], [0.5, 0.5, 0.5], [1, 1, 1], [0.5, 0.5, 0.5], [1, 1, 1], [0.5, 0.5, 0.5], [1, 1, 1], [0.5, 0.5, 0.5], [1, 1, 1], [0.5, 0.5, 0.5], [1, 1, 1], [0.5, 0.5, 0.5], [1, 1, 1], [0.5, 0.5, 0.5], [1, 1, 1], [0.5, 0.5, 0.5], [1, 1, 1], [0.5, 0.5, 0.5], [1, 1, 1], [0.5, 0.5, 0.5], [1, 1, 1], [0.5, 0.5, 0.5], [1, 1, 1], [0.5, 0.5, 0.5], [1, 1, 1], [0.5, 0.5, 0.5], [1, 1, 1], [0.5, 0.5, 0.5], [1, 1, 1], [0.5, 0.5, 0.5], [1, 1, 1]], \"showscale\": false, \"type\": \"heatmap\", \"opacity\": 0.75}], {\"xaxis\": {\"showticklabels\": false, \"tick0\": -0.5, \"zeroline\": false, \"dtick\": 1, \"ticks\": \"\", \"gridwidth\": 2}, \"yaxis\": {\"showticklabels\": false, \"tick0\": 0.5, \"autorange\": \"reversed\", \"zeroline\": false, \"dtick\": 1, \"ticks\": \"\", \"gridwidth\": 2}, \"margin\": {\"b\": 0, \"l\": 0, \"t\": 0, \"r\": 0}, \"height\": 2900, \"annotations\": [{\"align\": \"left\", \"xanchor\": \"left\", \"x\": -0.45, \"xref\": \"x1\", \"text\": \"<b>first_commit</b>\", \"font\": {\"color\": \"#ffffff\"}, \"yref\": \"y1\", \"y\": 0, \"showarrow\": false}, {\"align\": \"left\", \"xanchor\": \"left\", \"x\": 0.55, \"xref\": \"x1\", \"text\": \"<b>Project</b>\", \"font\": {\"color\": \"#ffffff\"}, \"yref\": \"y1\", \"y\": 0, \"showarrow\": false}, {\"align\": \"left\", \"xanchor\": \"left\", \"x\": 1.55, \"xref\": \"x1\", \"text\": \"<b># authors</b>\", \"font\": {\"color\": \"#ffffff\"}, \"yref\": \"y1\", \"y\": 0, \"showarrow\": false}, {\"align\": \"left\", \"xanchor\": \"left\", \"x\": -0.45, \"xref\": \"x1\", \"text\": \"2016\", \"font\": {\"color\": \"#000000\"}, \"yref\": \"y1\", \"y\": 1, \"showarrow\": false}, {\"align\": \"left\", \"xanchor\": \"left\", \"x\": 0.55, \"xref\": \"x1\", \"text\": \"Rust\", \"font\": {\"color\": \"#000000\"}, \"yref\": \"y1\", \"y\": 1, \"showarrow\": false}, {\"align\": \"left\", \"xanchor\": \"left\", \"x\": 1.55, \"xref\": \"x1\", \"text\": \"493\", \"font\": {\"color\": \"#000000\"}, \"yref\": \"y1\", \"y\": 1, \"showarrow\": false}, {\"align\": \"left\", \"xanchor\": \"left\", \"x\": -0.45, \"xref\": \"x1\", \"text\": \"2016\", \"font\": {\"color\": \"#000000\"}, \"yref\": \"y1\", \"y\": 2, \"showarrow\": false}, {\"align\": \"left\", \"xanchor\": \"left\", \"x\": 0.55, \"xref\": \"x1\", \"text\": \"Gecko\", \"font\": {\"color\": \"#000000\"}, \"yref\": \"y1\", \"y\": 2, \"showarrow\": false}, {\"align\": \"left\", \"xanchor\": \"left\", \"x\": 1.55, \"xref\": \"x1\", \"text\": \"286\", \"font\": {\"color\": \"#000000\"}, \"yref\": \"y1\", \"y\": 2, \"showarrow\": false}, {\"align\": \"left\", \"xanchor\": \"left\", \"x\": -0.45, \"xref\": \"x1\", \"text\": \"2016\", \"font\": {\"color\": \"#000000\"}, \"yref\": \"y1\", \"y\": 3, \"showarrow\": false}, {\"align\": \"left\", \"xanchor\": \"left\", \"x\": 0.55, \"xref\": \"x1\", \"text\": \"Servo\", \"font\": {\"color\": \"#000000\"}, \"yref\": \"y1\", \"y\": 3, \"showarrow\": false}, {\"align\": \"left\", \"xanchor\": \"left\", \"x\": 1.55, \"xref\": \"x1\", \"text\": \"194\", \"font\": {\"color\": \"#000000\"}, \"yref\": \"y1\", \"y\": 3, \"showarrow\": false}, {\"align\": \"left\", \"xanchor\": \"left\", \"x\": -0.45, \"xref\": \"x1\", \"text\": \"2016\", \"font\": {\"color\": \"#000000\"}, \"yref\": \"y1\", \"y\": 4, \"showarrow\": false}, {\"align\": \"left\", \"xanchor\": \"left\", \"x\": 0.55, \"xref\": \"x1\", \"text\": \"Web Properties\", \"font\": {\"color\": \"#000000\"}, \"yref\": \"y1\", \"y\": 4, \"showarrow\": false}, {\"align\": \"left\", \"xanchor\": \"left\", \"x\": 1.55, \"xref\": \"x1\", \"text\": \"132\", \"font\": {\"color\": \"#000000\"}, \"yref\": \"y1\", \"y\": 4, \"showarrow\": false}, {\"align\": \"left\", \"xanchor\": \"left\", \"x\": -0.45, \"xref\": \"x1\", \"text\": \"2016\", \"font\": {\"color\": \"#000000\"}, \"yref\": \"y1\", \"y\": 5, \"showarrow\": false}, {\"align\": \"left\", \"xanchor\": \"left\", \"x\": 0.55, \"xref\": \"x1\", \"text\": \"WebVR\", \"font\": {\"color\": \"#000000\"}, \"yref\": \"y1\", \"y\": 5, \"showarrow\": false}, {\"align\": \"left\", \"xanchor\": \"left\", \"x\": 1.55, \"xref\": \"x1\", \"text\": \"113\", \"font\": {\"color\": \"#000000\"}, \"yref\": \"y1\", \"y\": 5, \"showarrow\": false}, {\"align\": \"left\", \"xanchor\": \"left\", \"x\": -0.45, \"xref\": \"x1\", \"text\": \"2016\", \"font\": {\"color\": \"#000000\"}, \"yref\": \"y1\", \"y\": 6, \"showarrow\": false}, {\"align\": \"left\", \"xanchor\": \"left\", \"x\": 0.55, \"xref\": \"x1\", \"text\": \"IT/Ops\", \"font\": {\"color\": \"#000000\"}, \"yref\": \"y1\", \"y\": 6, \"showarrow\": false}, {\"align\": \"left\", \"xanchor\": \"left\", \"x\": 1.55, \"xref\": \"x1\", \"text\": \"100\", \"font\": {\"color\": \"#000000\"}, \"yref\": \"y1\", \"y\": 6, \"showarrow\": false}, {\"align\": \"left\", \"xanchor\": \"left\", \"x\": -0.45, \"xref\": \"x1\", \"text\": \"2016\", \"font\": {\"color\": \"#000000\"}, \"yref\": \"y1\", \"y\": 7, \"showarrow\": false}, {\"align\": \"left\", \"xanchor\": \"left\", \"x\": 0.55, \"xref\": \"x1\", \"text\": \"Mozilla Local/Regional communities\", \"font\": {\"color\": \"#000000\"}, \"yref\": \"y1\", \"y\": 7, \"showarrow\": false}, {\"align\": \"left\", \"xanchor\": \"left\", \"x\": 1.55, \"xref\": \"x1\", \"text\": \"57\", \"font\": {\"color\": \"#000000\"}, \"yref\": \"y1\", \"y\": 7, \"showarrow\": false}, {\"align\": \"left\", \"xanchor\": \"left\", \"x\": -0.45, \"xref\": \"x1\", \"text\": \"2016\", \"font\": {\"color\": \"#000000\"}, \"yref\": \"y1\", \"y\": 8, \"showarrow\": false}, {\"align\": \"left\", \"xanchor\": \"left\", \"x\": 0.55, \"xref\": \"x1\", \"text\": \"Addons/Web Extensions\", \"font\": {\"color\": \"#000000\"}, \"yref\": \"y1\", \"y\": 8, \"showarrow\": false}, {\"align\": \"left\", \"xanchor\": \"left\", \"x\": 1.55, \"xref\": \"x1\", \"text\": \"40\", \"font\": {\"color\": \"#000000\"}, \"yref\": \"y1\", \"y\": 8, \"showarrow\": false}, {\"align\": \"left\", \"xanchor\": \"left\", \"x\": -0.45, \"xref\": \"x1\", \"text\": \"2016\", \"font\": {\"color\": \"#000000\"}, \"yref\": \"y1\", \"y\": 9, \"showarrow\": false}, {\"align\": \"left\", \"xanchor\": \"left\", \"x\": 0.55, \"xref\": \"x1\", \"text\": \"Mozilla Developer Network (MDN)\", \"font\": {\"color\": \"#000000\"}, \"yref\": \"y1\", \"y\": 9, \"showarrow\": false}, {\"align\": \"left\", \"xanchor\": \"left\", \"x\": 1.55, \"xref\": \"x1\", \"text\": \"40\", \"font\": {\"color\": \"#000000\"}, \"yref\": \"y1\", \"y\": 9, \"showarrow\": false}, {\"align\": \"left\", \"xanchor\": \"left\", \"x\": -0.45, \"xref\": \"x1\", \"text\": \"2016\", \"font\": {\"color\": \"#000000\"}, \"yref\": \"y1\", \"y\": 10, \"showarrow\": false}, {\"align\": \"left\", \"xanchor\": \"left\", \"x\": 0.55, \"xref\": \"x1\", \"text\": \"Mozilla Science\", \"font\": {\"color\": \"#000000\"}, \"yref\": \"y1\", \"y\": 10, \"showarrow\": false}, {\"align\": \"left\", \"xanchor\": \"left\", \"x\": 1.55, \"xref\": \"x1\", \"text\": \"32\", \"font\": {\"color\": \"#000000\"}, \"yref\": \"y1\", \"y\": 10, \"showarrow\": false}, {\"align\": \"left\", \"xanchor\": \"left\", \"x\": -0.45, \"xref\": \"x1\", \"text\": \"2016\", \"font\": {\"color\": \"#000000\"}, \"yref\": \"y1\", \"y\": 11, \"showarrow\": false}, {\"align\": \"left\", \"xanchor\": \"left\", \"x\": 0.55, \"xref\": \"x1\", \"text\": \"Firefox iOS\", \"font\": {\"color\": \"#000000\"}, \"yref\": \"y1\", \"y\": 11, \"showarrow\": false}, {\"align\": \"left\", \"xanchor\": \"left\", \"x\": 1.55, \"xref\": \"x1\", \"text\": \"16\", \"font\": {\"color\": \"#000000\"}, \"yref\": \"y1\", \"y\": 11, \"showarrow\": false}, {\"align\": \"left\", \"xanchor\": \"left\", \"x\": -0.45, \"xref\": \"x1\", \"text\": \"2016\", \"font\": {\"color\": \"#000000\"}, \"yref\": \"y1\", \"y\": 12, \"showarrow\": false}, {\"align\": \"left\", \"xanchor\": \"left\", \"x\": 0.55, \"xref\": \"x1\", \"text\": \"Test Pilot\", \"font\": {\"color\": \"#000000\"}, \"yref\": \"y1\", \"y\": 12, \"showarrow\": false}, {\"align\": \"left\", \"xanchor\": \"left\", \"x\": 1.55, \"xref\": \"x1\", \"text\": \"11\", \"font\": {\"color\": \"#000000\"}, \"yref\": \"y1\", \"y\": 12, \"showarrow\": false}, {\"align\": \"left\", \"xanchor\": \"left\", \"x\": -0.45, \"xref\": \"x1\", \"text\": \"2016\", \"font\": {\"color\": \"#000000\"}, \"yref\": \"y1\", \"y\": 13, \"showarrow\": false}, {\"align\": \"left\", \"xanchor\": \"left\", \"x\": 0.55, \"xref\": \"x1\", \"text\": \"Mozilla Foundation\", \"font\": {\"color\": \"#000000\"}, \"yref\": \"y1\", \"y\": 13, \"showarrow\": false}, {\"align\": \"left\", \"xanchor\": \"left\", \"x\": 1.55, \"xref\": \"x1\", \"text\": \"8\", \"font\": {\"color\": \"#000000\"}, \"yref\": \"y1\", \"y\": 13, \"showarrow\": false}, {\"align\": \"left\", \"xanchor\": \"left\", \"x\": -0.45, \"xref\": \"x1\", \"text\": \"2016\", \"font\": {\"color\": \"#000000\"}, \"yref\": \"y1\", \"y\": 14, \"showarrow\": false}, {\"align\": \"left\", \"xanchor\": \"left\", \"x\": 0.55, \"xref\": \"x1\", \"text\": \"Mozilla Creative & Design\", \"font\": {\"color\": \"#000000\"}, \"yref\": \"y1\", \"y\": 14, \"showarrow\": false}, {\"align\": \"left\", \"xanchor\": \"left\", \"x\": 1.55, \"xref\": \"x1\", \"text\": \"7\", \"font\": {\"color\": \"#000000\"}, \"yref\": \"y1\", \"y\": 14, \"showarrow\": false}, {\"align\": \"left\", \"xanchor\": \"left\", \"x\": -0.45, \"xref\": \"x1\", \"text\": \"2016\", \"font\": {\"color\": \"#000000\"}, \"yref\": \"y1\", \"y\": 15, \"showarrow\": false}, {\"align\": \"left\", \"xanchor\": \"left\", \"x\": 0.55, \"xref\": \"x1\", \"text\": \"Advocacy and policy\", \"font\": {\"color\": \"#000000\"}, \"yref\": \"y1\", \"y\": 15, \"showarrow\": false}, {\"align\": \"left\", \"xanchor\": \"left\", \"x\": 1.55, \"xref\": \"x1\", \"text\": \"6\", \"font\": {\"color\": \"#000000\"}, \"yref\": \"y1\", \"y\": 15, \"showarrow\": false}, {\"align\": \"left\", \"xanchor\": \"left\", \"x\": -0.45, \"xref\": \"x1\", \"text\": \"2016\", \"font\": {\"color\": \"#000000\"}, \"yref\": \"y1\", \"y\": 16, \"showarrow\": false}, {\"align\": \"left\", \"xanchor\": \"left\", \"x\": 0.55, \"xref\": \"x1\", \"text\": \"Localization\", \"font\": {\"color\": \"#000000\"}, \"yref\": \"y1\", \"y\": 16, \"showarrow\": false}, {\"align\": \"left\", \"xanchor\": \"left\", \"x\": 1.55, \"xref\": \"x1\", \"text\": \"4\", \"font\": {\"color\": \"#000000\"}, \"yref\": \"y1\", \"y\": 16, \"showarrow\": false}, {\"align\": \"left\", \"xanchor\": \"left\", \"x\": -0.45, \"xref\": \"x1\", \"text\": \"2016\", \"font\": {\"color\": \"#000000\"}, \"yref\": \"y1\", \"y\": 17, \"showarrow\": false}, {\"align\": \"left\", \"xanchor\": \"left\", \"x\": 0.55, \"xref\": \"x1\", \"text\": \"Release engineering\", \"font\": {\"color\": \"#000000\"}, \"yref\": \"y1\", \"y\": 17, \"showarrow\": false}, {\"align\": \"left\", \"xanchor\": \"left\", \"x\": 1.55, \"xref\": \"x1\", \"text\": \"3\", \"font\": {\"color\": \"#000000\"}, \"yref\": \"y1\", \"y\": 17, \"showarrow\": false}, {\"align\": \"left\", \"xanchor\": \"left\", \"x\": -0.45, \"xref\": \"x1\", \"text\": \"2016\", \"font\": {\"color\": \"#000000\"}, \"yref\": \"y1\", \"y\": 18, \"showarrow\": false}, {\"align\": \"left\", \"xanchor\": \"left\", \"x\": 0.55, \"xref\": \"x1\", \"text\": \"Technical/Developer Evangelism\", \"font\": {\"color\": \"#000000\"}, \"yref\": \"y1\", \"y\": 18, \"showarrow\": false}, {\"align\": \"left\", \"xanchor\": \"left\", \"x\": 1.55, \"xref\": \"x1\", \"text\": \"3\", \"font\": {\"color\": \"#000000\"}, \"yref\": \"y1\", \"y\": 18, \"showarrow\": false}, {\"align\": \"left\", \"xanchor\": \"left\", \"x\": -0.45, \"xref\": \"x1\", \"text\": \"2016\", \"font\": {\"color\": \"#000000\"}, \"yref\": \"y1\", \"y\": 19, \"showarrow\": false}, {\"align\": \"left\", \"xanchor\": \"left\", \"x\": 0.55, \"xref\": \"x1\", \"text\": \"Campus Clubs (previously Student Ambassadors)\", \"font\": {\"color\": \"#000000\"}, \"yref\": \"y1\", \"y\": 19, \"showarrow\": false}, {\"align\": \"left\", \"xanchor\": \"left\", \"x\": 1.55, \"xref\": \"x1\", \"text\": \"2\", \"font\": {\"color\": \"#000000\"}, \"yref\": \"y1\", \"y\": 19, \"showarrow\": false}, {\"align\": \"left\", \"xanchor\": \"left\", \"x\": -0.45, \"xref\": \"x1\", \"text\": \"2016\", \"font\": {\"color\": \"#000000\"}, \"yref\": \"y1\", \"y\": 20, \"showarrow\": false}, {\"align\": \"left\", \"xanchor\": \"left\", \"x\": 0.55, \"xref\": \"x1\", \"text\": \"Firefox\", \"font\": {\"color\": \"#000000\"}, \"yref\": \"y1\", \"y\": 20, \"showarrow\": false}, {\"align\": \"left\", \"xanchor\": \"left\", \"x\": 1.55, \"xref\": \"x1\", \"text\": \"2\", \"font\": {\"color\": \"#000000\"}, \"yref\": \"y1\", \"y\": 20, \"showarrow\": false}, {\"align\": \"left\", \"xanchor\": \"left\", \"x\": -0.45, \"xref\": \"x1\", \"text\": \"2015\", \"font\": {\"color\": \"#000000\"}, \"yref\": \"y1\", \"y\": 21, \"showarrow\": false}, {\"align\": \"left\", \"xanchor\": \"left\", \"x\": 0.55, \"xref\": \"x1\", \"text\": \"Rust\", \"font\": {\"color\": \"#000000\"}, \"yref\": \"y1\", \"y\": 21, \"showarrow\": false}, {\"align\": \"left\", \"xanchor\": \"left\", \"x\": 1.55, \"xref\": \"x1\", \"text\": \"642\", \"font\": {\"color\": \"#000000\"}, \"yref\": \"y1\", \"y\": 21, \"showarrow\": false}, {\"align\": \"left\", \"xanchor\": \"left\", \"x\": -0.45, \"xref\": \"x1\", \"text\": \"2015\", \"font\": {\"color\": \"#000000\"}, \"yref\": \"y1\", \"y\": 22, \"showarrow\": false}, {\"align\": \"left\", \"xanchor\": \"left\", \"x\": 0.55, \"xref\": \"x1\", \"text\": \"Gecko\", \"font\": {\"color\": \"#000000\"}, \"yref\": \"y1\", \"y\": 22, \"showarrow\": false}, {\"align\": \"left\", \"xanchor\": \"left\", \"x\": 1.55, \"xref\": \"x1\", \"text\": \"242\", \"font\": {\"color\": \"#000000\"}, \"yref\": \"y1\", \"y\": 22, \"showarrow\": false}, {\"align\": \"left\", \"xanchor\": \"left\", \"x\": -0.45, \"xref\": \"x1\", \"text\": \"2015\", \"font\": {\"color\": \"#000000\"}, \"yref\": \"y1\", \"y\": 23, \"showarrow\": false}, {\"align\": \"left\", \"xanchor\": \"left\", \"x\": 0.55, \"xref\": \"x1\", \"text\": \"Servo\", \"font\": {\"color\": \"#000000\"}, \"yref\": \"y1\", \"y\": 23, \"showarrow\": false}, {\"align\": \"left\", \"xanchor\": \"left\", \"x\": 1.55, \"xref\": \"x1\", \"text\": \"168\", \"font\": {\"color\": \"#000000\"}, \"yref\": \"y1\", \"y\": 23, \"showarrow\": false}, {\"align\": \"left\", \"xanchor\": \"left\", \"x\": -0.45, \"xref\": \"x1\", \"text\": \"2015\", \"font\": {\"color\": \"#000000\"}, \"yref\": \"y1\", \"y\": 24, \"showarrow\": false}, {\"align\": \"left\", \"xanchor\": \"left\", \"x\": 0.55, \"xref\": \"x1\", \"text\": \"Web Properties\", \"font\": {\"color\": \"#000000\"}, \"yref\": \"y1\", \"y\": 24, \"showarrow\": false}, {\"align\": \"left\", \"xanchor\": \"left\", \"x\": 1.55, \"xref\": \"x1\", \"text\": \"160\", \"font\": {\"color\": \"#000000\"}, \"yref\": \"y1\", \"y\": 24, \"showarrow\": false}, {\"align\": \"left\", \"xanchor\": \"left\", \"x\": -0.45, \"xref\": \"x1\", \"text\": \"2015\", \"font\": {\"color\": \"#000000\"}, \"yref\": \"y1\", \"y\": 25, \"showarrow\": false}, {\"align\": \"left\", \"xanchor\": \"left\", \"x\": 0.55, \"xref\": \"x1\", \"text\": \"IT/Ops\", \"font\": {\"color\": \"#000000\"}, \"yref\": \"y1\", \"y\": 25, \"showarrow\": false}, {\"align\": \"left\", \"xanchor\": \"left\", \"x\": 1.55, \"xref\": \"x1\", \"text\": \"86\", \"font\": {\"color\": \"#000000\"}, \"yref\": \"y1\", \"y\": 25, \"showarrow\": false}, {\"align\": \"left\", \"xanchor\": \"left\", \"x\": -0.45, \"xref\": \"x1\", \"text\": \"2015\", \"font\": {\"color\": \"#000000\"}, \"yref\": \"y1\", \"y\": 26, \"showarrow\": false}, {\"align\": \"left\", \"xanchor\": \"left\", \"x\": 0.55, \"xref\": \"x1\", \"text\": \"Mozilla Local/Regional communities\", \"font\": {\"color\": \"#000000\"}, \"yref\": \"y1\", \"y\": 26, \"showarrow\": false}, {\"align\": \"left\", \"xanchor\": \"left\", \"x\": 1.55, \"xref\": \"x1\", \"text\": \"60\", \"font\": {\"color\": \"#000000\"}, \"yref\": \"y1\", \"y\": 26, \"showarrow\": false}, {\"align\": \"left\", \"xanchor\": \"left\", \"x\": -0.45, \"xref\": \"x1\", \"text\": \"2015\", \"font\": {\"color\": \"#000000\"}, \"yref\": \"y1\", \"y\": 27, \"showarrow\": false}, {\"align\": \"left\", \"xanchor\": \"left\", \"x\": 0.55, \"xref\": \"x1\", \"text\": \"Mozilla Science\", \"font\": {\"color\": \"#000000\"}, \"yref\": \"y1\", \"y\": 27, \"showarrow\": false}, {\"align\": \"left\", \"xanchor\": \"left\", \"x\": 1.55, \"xref\": \"x1\", \"text\": \"41\", \"font\": {\"color\": \"#000000\"}, \"yref\": \"y1\", \"y\": 27, \"showarrow\": false}, {\"align\": \"left\", \"xanchor\": \"left\", \"x\": -0.45, \"xref\": \"x1\", \"text\": \"2015\", \"font\": {\"color\": \"#000000\"}, \"yref\": \"y1\", \"y\": 28, \"showarrow\": false}, {\"align\": \"left\", \"xanchor\": \"left\", \"x\": 0.55, \"xref\": \"x1\", \"text\": \"Firefox iOS\", \"font\": {\"color\": \"#000000\"}, \"yref\": \"y1\", \"y\": 28, \"showarrow\": false}, {\"align\": \"left\", \"xanchor\": \"left\", \"x\": 1.55, \"xref\": \"x1\", \"text\": \"30\", \"font\": {\"color\": \"#000000\"}, \"yref\": \"y1\", \"y\": 28, \"showarrow\": false}, {\"align\": \"left\", \"xanchor\": \"left\", \"x\": -0.45, \"xref\": \"x1\", \"text\": \"2015\", \"font\": {\"color\": \"#000000\"}, \"yref\": \"y1\", \"y\": 29, \"showarrow\": false}, {\"align\": \"left\", \"xanchor\": \"left\", \"x\": 0.55, \"xref\": \"x1\", \"text\": \"Mozilla Developer Network (MDN)\", \"font\": {\"color\": \"#000000\"}, \"yref\": \"y1\", \"y\": 29, \"showarrow\": false}, {\"align\": \"left\", \"xanchor\": \"left\", \"x\": 1.55, \"xref\": \"x1\", \"text\": \"25\", \"font\": {\"color\": \"#000000\"}, \"yref\": \"y1\", \"y\": 29, \"showarrow\": false}, {\"align\": \"left\", \"xanchor\": \"left\", \"x\": -0.45, \"xref\": \"x1\", \"text\": \"2015\", \"font\": {\"color\": \"#000000\"}, \"yref\": \"y1\", \"y\": 30, \"showarrow\": false}, {\"align\": \"left\", \"xanchor\": \"left\", \"x\": 0.55, \"xref\": \"x1\", \"text\": \"Addons/Web Extensions\", \"font\": {\"color\": \"#000000\"}, \"yref\": \"y1\", \"y\": 30, \"showarrow\": false}, {\"align\": \"left\", \"xanchor\": \"left\", \"x\": 1.55, \"xref\": \"x1\", \"text\": \"24\", \"font\": {\"color\": \"#000000\"}, \"yref\": \"y1\", \"y\": 30, \"showarrow\": false}, {\"align\": \"left\", \"xanchor\": \"left\", \"x\": -0.45, \"xref\": \"x1\", \"text\": \"2015\", \"font\": {\"color\": \"#000000\"}, \"yref\": \"y1\", \"y\": 31, \"showarrow\": false}, {\"align\": \"left\", \"xanchor\": \"left\", \"x\": 0.55, \"xref\": \"x1\", \"text\": \"Firefox OS (FxOS / B2G)\", \"font\": {\"color\": \"#000000\"}, \"yref\": \"y1\", \"y\": 31, \"showarrow\": false}, {\"align\": \"left\", \"xanchor\": \"left\", \"x\": 1.55, \"xref\": \"x1\", \"text\": \"22\", \"font\": {\"color\": \"#000000\"}, \"yref\": \"y1\", \"y\": 31, \"showarrow\": false}, {\"align\": \"left\", \"xanchor\": \"left\", \"x\": -0.45, \"xref\": \"x1\", \"text\": \"2015\", \"font\": {\"color\": \"#000000\"}, \"yref\": \"y1\", \"y\": 32, \"showarrow\": false}, {\"align\": \"left\", \"xanchor\": \"left\", \"x\": 0.55, \"xref\": \"x1\", \"text\": \"WebVR\", \"font\": {\"color\": \"#000000\"}, \"yref\": \"y1\", \"y\": 32, \"showarrow\": false}, {\"align\": \"left\", \"xanchor\": \"left\", \"x\": 1.55, \"xref\": \"x1\", \"text\": \"16\", \"font\": {\"color\": \"#000000\"}, \"yref\": \"y1\", \"y\": 32, \"showarrow\": false}, {\"align\": \"left\", \"xanchor\": \"left\", \"x\": -0.45, \"xref\": \"x1\", \"text\": \"2015\", \"font\": {\"color\": \"#000000\"}, \"yref\": \"y1\", \"y\": 33, \"showarrow\": false}, {\"align\": \"left\", \"xanchor\": \"left\", \"x\": 0.55, \"xref\": \"x1\", \"text\": \"Release engineering\", \"font\": {\"color\": \"#000000\"}, \"yref\": \"y1\", \"y\": 33, \"showarrow\": false}, {\"align\": \"left\", \"xanchor\": \"left\", \"x\": 1.55, \"xref\": \"x1\", \"text\": \"11\", \"font\": {\"color\": \"#000000\"}, \"yref\": \"y1\", \"y\": 33, \"showarrow\": false}, {\"align\": \"left\", \"xanchor\": \"left\", \"x\": -0.45, \"xref\": \"x1\", \"text\": \"2015\", \"font\": {\"color\": \"#000000\"}, \"yref\": \"y1\", \"y\": 34, \"showarrow\": false}, {\"align\": \"left\", \"xanchor\": \"left\", \"x\": 0.55, \"xref\": \"x1\", \"text\": \"Web Literacy\", \"font\": {\"color\": \"#000000\"}, \"yref\": \"y1\", \"y\": 34, \"showarrow\": false}, {\"align\": \"left\", \"xanchor\": \"left\", \"x\": 1.55, \"xref\": \"x1\", \"text\": \"11\", \"font\": {\"color\": \"#000000\"}, \"yref\": \"y1\", \"y\": 34, \"showarrow\": false}, {\"align\": \"left\", \"xanchor\": \"left\", \"x\": -0.45, \"xref\": \"x1\", \"text\": \"2015\", \"font\": {\"color\": \"#000000\"}, \"yref\": \"y1\", \"y\": 35, \"showarrow\": false}, {\"align\": \"left\", \"xanchor\": \"left\", \"x\": 0.55, \"xref\": \"x1\", \"text\": \"Mozilla Location Service (MLS) / Stumbler\", \"font\": {\"color\": \"#000000\"}, \"yref\": \"y1\", \"y\": 35, \"showarrow\": false}, {\"align\": \"left\", \"xanchor\": \"left\", \"x\": 1.55, \"xref\": \"x1\", \"text\": \"4\", \"font\": {\"color\": \"#000000\"}, \"yref\": \"y1\", \"y\": 35, \"showarrow\": false}, {\"align\": \"left\", \"xanchor\": \"left\", \"x\": -0.45, \"xref\": \"x1\", \"text\": \"2015\", \"font\": {\"color\": \"#000000\"}, \"yref\": \"y1\", \"y\": 36, \"showarrow\": false}, {\"align\": \"left\", \"xanchor\": \"left\", \"x\": 0.55, \"xref\": \"x1\", \"text\": \"Advocacy and policy\", \"font\": {\"color\": \"#000000\"}, \"yref\": \"y1\", \"y\": 36, \"showarrow\": false}, {\"align\": \"left\", \"xanchor\": \"left\", \"x\": 1.55, \"xref\": \"x1\", \"text\": \"3\", \"font\": {\"color\": \"#000000\"}, \"yref\": \"y1\", \"y\": 36, \"showarrow\": false}, {\"align\": \"left\", \"xanchor\": \"left\", \"x\": -0.45, \"xref\": \"x1\", \"text\": \"2015\", \"font\": {\"color\": \"#000000\"}, \"yref\": \"y1\", \"y\": 37, \"showarrow\": false}, {\"align\": \"left\", \"xanchor\": \"left\", \"x\": 0.55, \"xref\": \"x1\", \"text\": \"Mozilla Clubs\", \"font\": {\"color\": \"#000000\"}, \"yref\": \"y1\", \"y\": 37, \"showarrow\": false}, {\"align\": \"left\", \"xanchor\": \"left\", \"x\": 1.55, \"xref\": \"x1\", \"text\": \"3\", \"font\": {\"color\": \"#000000\"}, \"yref\": \"y1\", \"y\": 37, \"showarrow\": false}, {\"align\": \"left\", \"xanchor\": \"left\", \"x\": -0.45, \"xref\": \"x1\", \"text\": \"2015\", \"font\": {\"color\": \"#000000\"}, \"yref\": \"y1\", \"y\": 38, \"showarrow\": false}, {\"align\": \"left\", \"xanchor\": \"left\", \"x\": 0.55, \"xref\": \"x1\", \"text\": \"Developer Tools\", \"font\": {\"color\": \"#000000\"}, \"yref\": \"y1\", \"y\": 38, \"showarrow\": false}, {\"align\": \"left\", \"xanchor\": \"left\", \"x\": 1.55, \"xref\": \"x1\", \"text\": \"2\", \"font\": {\"color\": \"#000000\"}, \"yref\": \"y1\", \"y\": 38, \"showarrow\": false}, {\"align\": \"left\", \"xanchor\": \"left\", \"x\": -0.45, \"xref\": \"x1\", \"text\": \"2015\", \"font\": {\"color\": \"#000000\"}, \"yref\": \"y1\", \"y\": 39, \"showarrow\": false}, {\"align\": \"left\", \"xanchor\": \"left\", \"x\": 0.55, \"xref\": \"x1\", \"text\": \"Mozilla Creative & Design\", \"font\": {\"color\": \"#000000\"}, \"yref\": \"y1\", \"y\": 39, \"showarrow\": false}, {\"align\": \"left\", \"xanchor\": \"left\", \"x\": 1.55, \"xref\": \"x1\", \"text\": \"2\", \"font\": {\"color\": \"#000000\"}, \"yref\": \"y1\", \"y\": 39, \"showarrow\": false}, {\"align\": \"left\", \"xanchor\": \"left\", \"x\": -0.45, \"xref\": \"x1\", \"text\": \"2015\", \"font\": {\"color\": \"#000000\"}, \"yref\": \"y1\", \"y\": 40, \"showarrow\": false}, {\"align\": \"left\", \"xanchor\": \"left\", \"x\": 0.55, \"xref\": \"x1\", \"text\": \"Mozilla Foundation\", \"font\": {\"color\": \"#000000\"}, \"yref\": \"y1\", \"y\": 40, \"showarrow\": false}, {\"align\": \"left\", \"xanchor\": \"left\", \"x\": 1.55, \"xref\": \"x1\", \"text\": \"2\", \"font\": {\"color\": \"#000000\"}, \"yref\": \"y1\", \"y\": 40, \"showarrow\": false}, {\"align\": \"left\", \"xanchor\": \"left\", \"x\": -0.45, \"xref\": \"x1\", \"text\": \"2014\", \"font\": {\"color\": \"#000000\"}, \"yref\": \"y1\", \"y\": 41, \"showarrow\": false}, {\"align\": \"left\", \"xanchor\": \"left\", \"x\": 0.55, \"xref\": \"x1\", \"text\": \"Rust\", \"font\": {\"color\": \"#000000\"}, \"yref\": \"y1\", \"y\": 41, \"showarrow\": false}, {\"align\": \"left\", \"xanchor\": \"left\", \"x\": 1.55, \"xref\": \"x1\", \"text\": \"523\", \"font\": {\"color\": \"#000000\"}, \"yref\": \"y1\", \"y\": 41, \"showarrow\": false}, {\"align\": \"left\", \"xanchor\": \"left\", \"x\": -0.45, \"xref\": \"x1\", \"text\": \"2014\", \"font\": {\"color\": \"#000000\"}, \"yref\": \"y1\", \"y\": 42, \"showarrow\": false}, {\"align\": \"left\", \"xanchor\": \"left\", \"x\": 0.55, \"xref\": \"x1\", \"text\": \"Gecko\", \"font\": {\"color\": \"#000000\"}, \"yref\": \"y1\", \"y\": 42, \"showarrow\": false}, {\"align\": \"left\", \"xanchor\": \"left\", \"x\": 1.55, \"xref\": \"x1\", \"text\": \"299\", \"font\": {\"color\": \"#000000\"}, \"yref\": \"y1\", \"y\": 42, \"showarrow\": false}, {\"align\": \"left\", \"xanchor\": \"left\", \"x\": -0.45, \"xref\": \"x1\", \"text\": \"2014\", \"font\": {\"color\": \"#000000\"}, \"yref\": \"y1\", \"y\": 43, \"showarrow\": false}, {\"align\": \"left\", \"xanchor\": \"left\", \"x\": 0.55, \"xref\": \"x1\", \"text\": \"Web Properties\", \"font\": {\"color\": \"#000000\"}, \"yref\": \"y1\", \"y\": 43, \"showarrow\": false}, {\"align\": \"left\", \"xanchor\": \"left\", \"x\": 1.55, \"xref\": \"x1\", \"text\": \"131\", \"font\": {\"color\": \"#000000\"}, \"yref\": \"y1\", \"y\": 43, \"showarrow\": false}, {\"align\": \"left\", \"xanchor\": \"left\", \"x\": -0.45, \"xref\": \"x1\", \"text\": \"2014\", \"font\": {\"color\": \"#000000\"}, \"yref\": \"y1\", \"y\": 44, \"showarrow\": false}, {\"align\": \"left\", \"xanchor\": \"left\", \"x\": 0.55, \"xref\": \"x1\", \"text\": \"Servo\", \"font\": {\"color\": \"#000000\"}, \"yref\": \"y1\", \"y\": 44, \"showarrow\": false}, {\"align\": \"left\", \"xanchor\": \"left\", \"x\": 1.55, \"xref\": \"x1\", \"text\": \"124\", \"font\": {\"color\": \"#000000\"}, \"yref\": \"y1\", \"y\": 44, \"showarrow\": false}, {\"align\": \"left\", \"xanchor\": \"left\", \"x\": -0.45, \"xref\": \"x1\", \"text\": \"2014\", \"font\": {\"color\": \"#000000\"}, \"yref\": \"y1\", \"y\": 45, \"showarrow\": false}, {\"align\": \"left\", \"xanchor\": \"left\", \"x\": 0.55, \"xref\": \"x1\", \"text\": \"Mozilla Local/Regional communities\", \"font\": {\"color\": \"#000000\"}, \"yref\": \"y1\", \"y\": 45, \"showarrow\": false}, {\"align\": \"left\", \"xanchor\": \"left\", \"x\": 1.55, \"xref\": \"x1\", \"text\": \"104\", \"font\": {\"color\": \"#000000\"}, \"yref\": \"y1\", \"y\": 45, \"showarrow\": false}, {\"align\": \"left\", \"xanchor\": \"left\", \"x\": -0.45, \"xref\": \"x1\", \"text\": \"2014\", \"font\": {\"color\": \"#000000\"}, \"yref\": \"y1\", \"y\": 46, \"showarrow\": false}, {\"align\": \"left\", \"xanchor\": \"left\", \"x\": 0.55, \"xref\": \"x1\", \"text\": \"IT/Ops\", \"font\": {\"color\": \"#000000\"}, \"yref\": \"y1\", \"y\": 46, \"showarrow\": false}, {\"align\": \"left\", \"xanchor\": \"left\", \"x\": 1.55, \"xref\": \"x1\", \"text\": \"91\", \"font\": {\"color\": \"#000000\"}, \"yref\": \"y1\", \"y\": 46, \"showarrow\": false}, {\"align\": \"left\", \"xanchor\": \"left\", \"x\": -0.45, \"xref\": \"x1\", \"text\": \"2014\", \"font\": {\"color\": \"#000000\"}, \"yref\": \"y1\", \"y\": 47, \"showarrow\": false}, {\"align\": \"left\", \"xanchor\": \"left\", \"x\": 0.55, \"xref\": \"x1\", \"text\": \"Web Literacy\", \"font\": {\"color\": \"#000000\"}, \"yref\": \"y1\", \"y\": 47, \"showarrow\": false}, {\"align\": \"left\", \"xanchor\": \"left\", \"x\": 1.55, \"xref\": \"x1\", \"text\": \"45\", \"font\": {\"color\": \"#000000\"}, \"yref\": \"y1\", \"y\": 47, \"showarrow\": false}, {\"align\": \"left\", \"xanchor\": \"left\", \"x\": -0.45, \"xref\": \"x1\", \"text\": \"2014\", \"font\": {\"color\": \"#000000\"}, \"yref\": \"y1\", \"y\": 48, \"showarrow\": false}, {\"align\": \"left\", \"xanchor\": \"left\", \"x\": 0.55, \"xref\": \"x1\", \"text\": \"Mozilla Location Service (MLS) / Stumbler\", \"font\": {\"color\": \"#000000\"}, \"yref\": \"y1\", \"y\": 48, \"showarrow\": false}, {\"align\": \"left\", \"xanchor\": \"left\", \"x\": 1.55, \"xref\": \"x1\", \"text\": \"41\", \"font\": {\"color\": \"#000000\"}, \"yref\": \"y1\", \"y\": 48, \"showarrow\": false}, {\"align\": \"left\", \"xanchor\": \"left\", \"x\": -0.45, \"xref\": \"x1\", \"text\": \"2014\", \"font\": {\"color\": \"#000000\"}, \"yref\": \"y1\", \"y\": 49, \"showarrow\": false}, {\"align\": \"left\", \"xanchor\": \"left\", \"x\": 0.55, \"xref\": \"x1\", \"text\": \"Addons/Web Extensions\", \"font\": {\"color\": \"#000000\"}, \"yref\": \"y1\", \"y\": 49, \"showarrow\": false}, {\"align\": \"left\", \"xanchor\": \"left\", \"x\": 1.55, \"xref\": \"x1\", \"text\": \"32\", \"font\": {\"color\": \"#000000\"}, \"yref\": \"y1\", \"y\": 49, \"showarrow\": false}, {\"align\": \"left\", \"xanchor\": \"left\", \"x\": -0.45, \"xref\": \"x1\", \"text\": \"2014\", \"font\": {\"color\": \"#000000\"}, \"yref\": \"y1\", \"y\": 50, \"showarrow\": false}, {\"align\": \"left\", \"xanchor\": \"left\", \"x\": 0.55, \"xref\": \"x1\", \"text\": \"Mozilla Foundation\", \"font\": {\"color\": \"#000000\"}, \"yref\": \"y1\", \"y\": 50, \"showarrow\": false}, {\"align\": \"left\", \"xanchor\": \"left\", \"x\": 1.55, \"xref\": \"x1\", \"text\": \"14\", \"font\": {\"color\": \"#000000\"}, \"yref\": \"y1\", \"y\": 50, \"showarrow\": false}, {\"align\": \"left\", \"xanchor\": \"left\", \"x\": -0.45, \"xref\": \"x1\", \"text\": \"2014\", \"font\": {\"color\": \"#000000\"}, \"yref\": \"y1\", \"y\": 51, \"showarrow\": false}, {\"align\": \"left\", \"xanchor\": \"left\", \"x\": 0.55, \"xref\": \"x1\", \"text\": \"Firefox OS (FxOS / B2G)\", \"font\": {\"color\": \"#000000\"}, \"yref\": \"y1\", \"y\": 51, \"showarrow\": false}, {\"align\": \"left\", \"xanchor\": \"left\", \"x\": 1.55, \"xref\": \"x1\", \"text\": \"12\", \"font\": {\"color\": \"#000000\"}, \"yref\": \"y1\", \"y\": 51, \"showarrow\": false}, {\"align\": \"left\", \"xanchor\": \"left\", \"x\": -0.45, \"xref\": \"x1\", \"text\": \"2014\", \"font\": {\"color\": \"#000000\"}, \"yref\": \"y1\", \"y\": 52, \"showarrow\": false}, {\"align\": \"left\", \"xanchor\": \"left\", \"x\": 0.55, \"xref\": \"x1\", \"text\": \"Mozilla Science\", \"font\": {\"color\": \"#000000\"}, \"yref\": \"y1\", \"y\": 52, \"showarrow\": false}, {\"align\": \"left\", \"xanchor\": \"left\", \"x\": 1.55, \"xref\": \"x1\", \"text\": \"11\", \"font\": {\"color\": \"#000000\"}, \"yref\": \"y1\", \"y\": 52, \"showarrow\": false}, {\"align\": \"left\", \"xanchor\": \"left\", \"x\": -0.45, \"xref\": \"x1\", \"text\": \"2014\", \"font\": {\"color\": \"#000000\"}, \"yref\": \"y1\", \"y\": 53, \"showarrow\": false}, {\"align\": \"left\", \"xanchor\": \"left\", \"x\": 0.55, \"xref\": \"x1\", \"text\": \"Release engineering\", \"font\": {\"color\": \"#000000\"}, \"yref\": \"y1\", \"y\": 53, \"showarrow\": false}, {\"align\": \"left\", \"xanchor\": \"left\", \"x\": 1.55, \"xref\": \"x1\", \"text\": \"11\", \"font\": {\"color\": \"#000000\"}, \"yref\": \"y1\", \"y\": 53, \"showarrow\": false}, {\"align\": \"left\", \"xanchor\": \"left\", \"x\": -0.45, \"xref\": \"x1\", \"text\": \"2014\", \"font\": {\"color\": \"#000000\"}, \"yref\": \"y1\", \"y\": 54, \"showarrow\": false}, {\"align\": \"left\", \"xanchor\": \"left\", \"x\": 0.55, \"xref\": \"x1\", \"text\": \"Quality Assurance\", \"font\": {\"color\": \"#000000\"}, \"yref\": \"y1\", \"y\": 54, \"showarrow\": false}, {\"align\": \"left\", \"xanchor\": \"left\", \"x\": 1.55, \"xref\": \"x1\", \"text\": \"8\", \"font\": {\"color\": \"#000000\"}, \"yref\": \"y1\", \"y\": 54, \"showarrow\": false}, {\"align\": \"left\", \"xanchor\": \"left\", \"x\": -0.45, \"xref\": \"x1\", \"text\": \"2014\", \"font\": {\"color\": \"#000000\"}, \"yref\": \"y1\", \"y\": 55, \"showarrow\": false}, {\"align\": \"left\", \"xanchor\": \"left\", \"x\": 0.55, \"xref\": \"x1\", \"text\": \"Marketing / Social Media\", \"font\": {\"color\": \"#000000\"}, \"yref\": \"y1\", \"y\": 55, \"showarrow\": false}, {\"align\": \"left\", \"xanchor\": \"left\", \"x\": 1.55, \"xref\": \"x1\", \"text\": \"6\", \"font\": {\"color\": \"#000000\"}, \"yref\": \"y1\", \"y\": 55, \"showarrow\": false}, {\"align\": \"left\", \"xanchor\": \"left\", \"x\": -0.45, \"xref\": \"x1\", \"text\": \"2014\", \"font\": {\"color\": \"#000000\"}, \"yref\": \"y1\", \"y\": 56, \"showarrow\": false}, {\"align\": \"left\", \"xanchor\": \"left\", \"x\": 0.55, \"xref\": \"x1\", \"text\": \"Firefox iOS\", \"font\": {\"color\": \"#000000\"}, \"yref\": \"y1\", \"y\": 56, \"showarrow\": false}, {\"align\": \"left\", \"xanchor\": \"left\", \"x\": 1.55, \"xref\": \"x1\", \"text\": \"5\", \"font\": {\"color\": \"#000000\"}, \"yref\": \"y1\", \"y\": 56, \"showarrow\": false}, {\"align\": \"left\", \"xanchor\": \"left\", \"x\": -0.45, \"xref\": \"x1\", \"text\": \"2014\", \"font\": {\"color\": \"#000000\"}, \"yref\": \"y1\", \"y\": 57, \"showarrow\": false}, {\"align\": \"left\", \"xanchor\": \"left\", \"x\": 0.55, \"xref\": \"x1\", \"text\": \"Advocacy and policy\", \"font\": {\"color\": \"#000000\"}, \"yref\": \"y1\", \"y\": 57, \"showarrow\": false}, {\"align\": \"left\", \"xanchor\": \"left\", \"x\": 1.55, \"xref\": \"x1\", \"text\": \"4\", \"font\": {\"color\": \"#000000\"}, \"yref\": \"y1\", \"y\": 57, \"showarrow\": false}, {\"align\": \"left\", \"xanchor\": \"left\", \"x\": -0.45, \"xref\": \"x1\", \"text\": \"2014\", \"font\": {\"color\": \"#000000\"}, \"yref\": \"y1\", \"y\": 58, \"showarrow\": false}, {\"align\": \"left\", \"xanchor\": \"left\", \"x\": 0.55, \"xref\": \"x1\", \"text\": \"WebVR\", \"font\": {\"color\": \"#000000\"}, \"yref\": \"y1\", \"y\": 58, \"showarrow\": false}, {\"align\": \"left\", \"xanchor\": \"left\", \"x\": 1.55, \"xref\": \"x1\", \"text\": \"4\", \"font\": {\"color\": \"#000000\"}, \"yref\": \"y1\", \"y\": 58, \"showarrow\": false}, {\"align\": \"left\", \"xanchor\": \"left\", \"x\": -0.45, \"xref\": \"x1\", \"text\": \"2014\", \"font\": {\"color\": \"#000000\"}, \"yref\": \"y1\", \"y\": 59, \"showarrow\": false}, {\"align\": \"left\", \"xanchor\": \"left\", \"x\": 0.55, \"xref\": \"x1\", \"text\": \"Mozilla Developer Network (MDN)\", \"font\": {\"color\": \"#000000\"}, \"yref\": \"y1\", \"y\": 59, \"showarrow\": false}, {\"align\": \"left\", \"xanchor\": \"left\", \"x\": 1.55, \"xref\": \"x1\", \"text\": \"3\", \"font\": {\"color\": \"#000000\"}, \"yref\": \"y1\", \"y\": 59, \"showarrow\": false}, {\"align\": \"left\", \"xanchor\": \"left\", \"x\": -0.45, \"xref\": \"x1\", \"text\": \"2014\", \"font\": {\"color\": \"#000000\"}, \"yref\": \"y1\", \"y\": 60, \"showarrow\": false}, {\"align\": \"left\", \"xanchor\": \"left\", \"x\": 0.55, \"xref\": \"x1\", \"text\": \"Technical/Developer Evangelism\", \"font\": {\"color\": \"#000000\"}, \"yref\": \"y1\", \"y\": 60, \"showarrow\": false}, {\"align\": \"left\", \"xanchor\": \"left\", \"x\": 1.55, \"xref\": \"x1\", \"text\": \"3\", \"font\": {\"color\": \"#000000\"}, \"yref\": \"y1\", \"y\": 60, \"showarrow\": false}, {\"align\": \"left\", \"xanchor\": \"left\", \"x\": -0.45, \"xref\": \"x1\", \"text\": \"2013\", \"font\": {\"color\": \"#000000\"}, \"yref\": \"y1\", \"y\": 61, \"showarrow\": false}, {\"align\": \"left\", \"xanchor\": \"left\", \"x\": 0.55, \"xref\": \"x1\", \"text\": \"Gecko\", \"font\": {\"color\": \"#000000\"}, \"yref\": \"y1\", \"y\": 61, \"showarrow\": false}, {\"align\": \"left\", \"xanchor\": \"left\", \"x\": 1.55, \"xref\": \"x1\", \"text\": \"260\", \"font\": {\"color\": \"#000000\"}, \"yref\": \"y1\", \"y\": 61, \"showarrow\": false}, {\"align\": \"left\", \"xanchor\": \"left\", \"x\": -0.45, \"xref\": \"x1\", \"text\": \"2013\", \"font\": {\"color\": \"#000000\"}, \"yref\": \"y1\", \"y\": 62, \"showarrow\": false}, {\"align\": \"left\", \"xanchor\": \"left\", \"x\": 0.55, \"xref\": \"x1\", \"text\": \"Rust\", \"font\": {\"color\": \"#000000\"}, \"yref\": \"y1\", \"y\": 62, \"showarrow\": false}, {\"align\": \"left\", \"xanchor\": \"left\", \"x\": 1.55, \"xref\": \"x1\", \"text\": \"233\", \"font\": {\"color\": \"#000000\"}, \"yref\": \"y1\", \"y\": 62, \"showarrow\": false}, {\"align\": \"left\", \"xanchor\": \"left\", \"x\": -0.45, \"xref\": \"x1\", \"text\": \"2013\", \"font\": {\"color\": \"#000000\"}, \"yref\": \"y1\", \"y\": 63, \"showarrow\": false}, {\"align\": \"left\", \"xanchor\": \"left\", \"x\": 0.55, \"xref\": \"x1\", \"text\": \"Web Properties\", \"font\": {\"color\": \"#000000\"}, \"yref\": \"y1\", \"y\": 63, \"showarrow\": false}, {\"align\": \"left\", \"xanchor\": \"left\", \"x\": 1.55, \"xref\": \"x1\", \"text\": \"121\", \"font\": {\"color\": \"#000000\"}, \"yref\": \"y1\", \"y\": 63, \"showarrow\": false}, {\"align\": \"left\", \"xanchor\": \"left\", \"x\": -0.45, \"xref\": \"x1\", \"text\": \"2013\", \"font\": {\"color\": \"#000000\"}, \"yref\": \"y1\", \"y\": 64, \"showarrow\": false}, {\"align\": \"left\", \"xanchor\": \"left\", \"x\": 0.55, \"xref\": \"x1\", \"text\": \"Mozilla Local/Regional communities\", \"font\": {\"color\": \"#000000\"}, \"yref\": \"y1\", \"y\": 64, \"showarrow\": false}, {\"align\": \"left\", \"xanchor\": \"left\", \"x\": 1.55, \"xref\": \"x1\", \"text\": \"55\", \"font\": {\"color\": \"#000000\"}, \"yref\": \"y1\", \"y\": 64, \"showarrow\": false}, {\"align\": \"left\", \"xanchor\": \"left\", \"x\": -0.45, \"xref\": \"x1\", \"text\": \"2013\", \"font\": {\"color\": \"#000000\"}, \"yref\": \"y1\", \"y\": 65, \"showarrow\": false}, {\"align\": \"left\", \"xanchor\": \"left\", \"x\": 0.55, \"xref\": \"x1\", \"text\": \"Servo\", \"font\": {\"color\": \"#000000\"}, \"yref\": \"y1\", \"y\": 65, \"showarrow\": false}, {\"align\": \"left\", \"xanchor\": \"left\", \"x\": 1.55, \"xref\": \"x1\", \"text\": \"51\", \"font\": {\"color\": \"#000000\"}, \"yref\": \"y1\", \"y\": 65, \"showarrow\": false}, {\"align\": \"left\", \"xanchor\": \"left\", \"x\": -0.45, \"xref\": \"x1\", \"text\": \"2013\", \"font\": {\"color\": \"#000000\"}, \"yref\": \"y1\", \"y\": 66, \"showarrow\": false}, {\"align\": \"left\", \"xanchor\": \"left\", \"x\": 0.55, \"xref\": \"x1\", \"text\": \"IT/Ops\", \"font\": {\"color\": \"#000000\"}, \"yref\": \"y1\", \"y\": 66, \"showarrow\": false}, {\"align\": \"left\", \"xanchor\": \"left\", \"x\": 1.55, \"xref\": \"x1\", \"text\": \"48\", \"font\": {\"color\": \"#000000\"}, \"yref\": \"y1\", \"y\": 66, \"showarrow\": false}, {\"align\": \"left\", \"xanchor\": \"left\", \"x\": -0.45, \"xref\": \"x1\", \"text\": \"2013\", \"font\": {\"color\": \"#000000\"}, \"yref\": \"y1\", \"y\": 67, \"showarrow\": false}, {\"align\": \"left\", \"xanchor\": \"left\", \"x\": 0.55, \"xref\": \"x1\", \"text\": \"Addons/Web Extensions\", \"font\": {\"color\": \"#000000\"}, \"yref\": \"y1\", \"y\": 67, \"showarrow\": false}, {\"align\": \"left\", \"xanchor\": \"left\", \"x\": 1.55, \"xref\": \"x1\", \"text\": \"35\", \"font\": {\"color\": \"#000000\"}, \"yref\": \"y1\", \"y\": 67, \"showarrow\": false}, {\"align\": \"left\", \"xanchor\": \"left\", \"x\": -0.45, \"xref\": \"x1\", \"text\": \"2013\", \"font\": {\"color\": \"#000000\"}, \"yref\": \"y1\", \"y\": 68, \"showarrow\": false}, {\"align\": \"left\", \"xanchor\": \"left\", \"x\": 0.55, \"xref\": \"x1\", \"text\": \"Mozilla Foundation\", \"font\": {\"color\": \"#000000\"}, \"yref\": \"y1\", \"y\": 68, \"showarrow\": false}, {\"align\": \"left\", \"xanchor\": \"left\", \"x\": 1.55, \"xref\": \"x1\", \"text\": \"30\", \"font\": {\"color\": \"#000000\"}, \"yref\": \"y1\", \"y\": 68, \"showarrow\": false}, {\"align\": \"left\", \"xanchor\": \"left\", \"x\": -0.45, \"xref\": \"x1\", \"text\": \"2013\", \"font\": {\"color\": \"#000000\"}, \"yref\": \"y1\", \"y\": 69, \"showarrow\": false}, {\"align\": \"left\", \"xanchor\": \"left\", \"x\": 0.55, \"xref\": \"x1\", \"text\": \"Web Literacy\", \"font\": {\"color\": \"#000000\"}, \"yref\": \"y1\", \"y\": 69, \"showarrow\": false}, {\"align\": \"left\", \"xanchor\": \"left\", \"x\": 1.55, \"xref\": \"x1\", \"text\": \"21\", \"font\": {\"color\": \"#000000\"}, \"yref\": \"y1\", \"y\": 69, \"showarrow\": false}, {\"align\": \"left\", \"xanchor\": \"left\", \"x\": -0.45, \"xref\": \"x1\", \"text\": \"2013\", \"font\": {\"color\": \"#000000\"}, \"yref\": \"y1\", \"y\": 70, \"showarrow\": false}, {\"align\": \"left\", \"xanchor\": \"left\", \"x\": 0.55, \"xref\": \"x1\", \"text\": \"Mozilla Location Service (MLS) / Stumbler\", \"font\": {\"color\": \"#000000\"}, \"yref\": \"y1\", \"y\": 70, \"showarrow\": false}, {\"align\": \"left\", \"xanchor\": \"left\", \"x\": 1.55, \"xref\": \"x1\", \"text\": \"17\", \"font\": {\"color\": \"#000000\"}, \"yref\": \"y1\", \"y\": 70, \"showarrow\": false}, {\"align\": \"left\", \"xanchor\": \"left\", \"x\": -0.45, \"xref\": \"x1\", \"text\": \"2013\", \"font\": {\"color\": \"#000000\"}, \"yref\": \"y1\", \"y\": 71, \"showarrow\": false}, {\"align\": \"left\", \"xanchor\": \"left\", \"x\": 0.55, \"xref\": \"x1\", \"text\": \"Release engineering\", \"font\": {\"color\": \"#000000\"}, \"yref\": \"y1\", \"y\": 71, \"showarrow\": false}, {\"align\": \"left\", \"xanchor\": \"left\", \"x\": 1.55, \"xref\": \"x1\", \"text\": \"13\", \"font\": {\"color\": \"#000000\"}, \"yref\": \"y1\", \"y\": 71, \"showarrow\": false}, {\"align\": \"left\", \"xanchor\": \"left\", \"x\": -0.45, \"xref\": \"x1\", \"text\": \"2013\", \"font\": {\"color\": \"#000000\"}, \"yref\": \"y1\", \"y\": 72, \"showarrow\": false}, {\"align\": \"left\", \"xanchor\": \"left\", \"x\": 0.55, \"xref\": \"x1\", \"text\": \"Firefox OS (FxOS / B2G)\", \"font\": {\"color\": \"#000000\"}, \"yref\": \"y1\", \"y\": 72, \"showarrow\": false}, {\"align\": \"left\", \"xanchor\": \"left\", \"x\": 1.55, \"xref\": \"x1\", \"text\": \"8\", \"font\": {\"color\": \"#000000\"}, \"yref\": \"y1\", \"y\": 72, \"showarrow\": false}, {\"align\": \"left\", \"xanchor\": \"left\", \"x\": -0.45, \"xref\": \"x1\", \"text\": \"2013\", \"font\": {\"color\": \"#000000\"}, \"yref\": \"y1\", \"y\": 73, \"showarrow\": false}, {\"align\": \"left\", \"xanchor\": \"left\", \"x\": 0.55, \"xref\": \"x1\", \"text\": \"Quality Assurance\", \"font\": {\"color\": \"#000000\"}, \"yref\": \"y1\", \"y\": 73, \"showarrow\": false}, {\"align\": \"left\", \"xanchor\": \"left\", \"x\": 1.55, \"xref\": \"x1\", \"text\": \"6\", \"font\": {\"color\": \"#000000\"}, \"yref\": \"y1\", \"y\": 73, \"showarrow\": false}, {\"align\": \"left\", \"xanchor\": \"left\", \"x\": -0.45, \"xref\": \"x1\", \"text\": \"2013\", \"font\": {\"color\": \"#000000\"}, \"yref\": \"y1\", \"y\": 74, \"showarrow\": false}, {\"align\": \"left\", \"xanchor\": \"left\", \"x\": 0.55, \"xref\": \"x1\", \"text\": \"Marketing / Social Media\", \"font\": {\"color\": \"#000000\"}, \"yref\": \"y1\", \"y\": 74, \"showarrow\": false}, {\"align\": \"left\", \"xanchor\": \"left\", \"x\": 1.55, \"xref\": \"x1\", \"text\": \"2\", \"font\": {\"color\": \"#000000\"}, \"yref\": \"y1\", \"y\": 74, \"showarrow\": false}, {\"align\": \"left\", \"xanchor\": \"left\", \"x\": -0.45, \"xref\": \"x1\", \"text\": \"2013\", \"font\": {\"color\": \"#000000\"}, \"yref\": \"y1\", \"y\": 75, \"showarrow\": false}, {\"align\": \"left\", \"xanchor\": \"left\", \"x\": 0.55, \"xref\": \"x1\", \"text\": \"Mozilla Creative & Design\", \"font\": {\"color\": \"#000000\"}, \"yref\": \"y1\", \"y\": 75, \"showarrow\": false}, {\"align\": \"left\", \"xanchor\": \"left\", \"x\": 1.55, \"xref\": \"x1\", \"text\": \"2\", \"font\": {\"color\": \"#000000\"}, \"yref\": \"y1\", \"y\": 75, \"showarrow\": false}, {\"align\": \"left\", \"xanchor\": \"left\", \"x\": -0.45, \"xref\": \"x1\", \"text\": \"2013\", \"font\": {\"color\": \"#000000\"}, \"yref\": \"y1\", \"y\": 76, \"showarrow\": false}, {\"align\": \"left\", \"xanchor\": \"left\", \"x\": 0.55, \"xref\": \"x1\", \"text\": \"Mozilla Developer Network (MDN)\", \"font\": {\"color\": \"#000000\"}, \"yref\": \"y1\", \"y\": 76, \"showarrow\": false}, {\"align\": \"left\", \"xanchor\": \"left\", \"x\": 1.55, \"xref\": \"x1\", \"text\": \"2\", \"font\": {\"color\": \"#000000\"}, \"yref\": \"y1\", \"y\": 76, \"showarrow\": false}, {\"align\": \"left\", \"xanchor\": \"left\", \"x\": -0.45, \"xref\": \"x1\", \"text\": \"2013\", \"font\": {\"color\": \"#000000\"}, \"yref\": \"y1\", \"y\": 77, \"showarrow\": false}, {\"align\": \"left\", \"xanchor\": \"left\", \"x\": 0.55, \"xref\": \"x1\", \"text\": \"Mozilla Science\", \"font\": {\"color\": \"#000000\"}, \"yref\": \"y1\", \"y\": 77, \"showarrow\": false}, {\"align\": \"left\", \"xanchor\": \"left\", \"x\": 1.55, \"xref\": \"x1\", \"text\": \"2\", \"font\": {\"color\": \"#000000\"}, \"yref\": \"y1\", \"y\": 77, \"showarrow\": false}, {\"align\": \"left\", \"xanchor\": \"left\", \"x\": -0.45, \"xref\": \"x1\", \"text\": \"2013\", \"font\": {\"color\": \"#000000\"}, \"yref\": \"y1\", \"y\": 78, \"showarrow\": false}, {\"align\": \"left\", \"xanchor\": \"left\", \"x\": 0.55, \"xref\": \"x1\", \"text\": \"Firefox iOS\", \"font\": {\"color\": \"#000000\"}, \"yref\": \"y1\", \"y\": 78, \"showarrow\": false}, {\"align\": \"left\", \"xanchor\": \"left\", \"x\": 1.55, \"xref\": \"x1\", \"text\": \"1\", \"font\": {\"color\": \"#000000\"}, \"yref\": \"y1\", \"y\": 78, \"showarrow\": false}, {\"align\": \"left\", \"xanchor\": \"left\", \"x\": -0.45, \"xref\": \"x1\", \"text\": \"2013\", \"font\": {\"color\": \"#000000\"}, \"yref\": \"y1\", \"y\": 79, \"showarrow\": false}, {\"align\": \"left\", \"xanchor\": \"left\", \"x\": 0.55, \"xref\": \"x1\", \"text\": \"Technical/Developer Evangelism\", \"font\": {\"color\": \"#000000\"}, \"yref\": \"y1\", \"y\": 79, \"showarrow\": false}, {\"align\": \"left\", \"xanchor\": \"left\", \"x\": 1.55, \"xref\": \"x1\", \"text\": \"1\", \"font\": {\"color\": \"#000000\"}, \"yref\": \"y1\", \"y\": 79, \"showarrow\": false}, {\"align\": \"left\", \"xanchor\": \"left\", \"x\": -0.45, \"xref\": \"x1\", \"text\": \"2012\", \"font\": {\"color\": \"#000000\"}, \"yref\": \"y1\", \"y\": 80, \"showarrow\": false}, {\"align\": \"left\", \"xanchor\": \"left\", \"x\": 0.55, \"xref\": \"x1\", \"text\": \"Gecko\", \"font\": {\"color\": \"#000000\"}, \"yref\": \"y1\", \"y\": 80, \"showarrow\": false}, {\"align\": \"left\", \"xanchor\": \"left\", \"x\": 1.55, \"xref\": \"x1\", \"text\": \"226\", \"font\": {\"color\": \"#000000\"}, \"yref\": \"y1\", \"y\": 80, \"showarrow\": false}, {\"align\": \"left\", \"xanchor\": \"left\", \"x\": -0.45, \"xref\": \"x1\", \"text\": \"2012\", \"font\": {\"color\": \"#000000\"}, \"yref\": \"y1\", \"y\": 81, \"showarrow\": false}, {\"align\": \"left\", \"xanchor\": \"left\", \"x\": 0.55, \"xref\": \"x1\", \"text\": \"Rust\", \"font\": {\"color\": \"#000000\"}, \"yref\": \"y1\", \"y\": 81, \"showarrow\": false}, {\"align\": \"left\", \"xanchor\": \"left\", \"x\": 1.55, \"xref\": \"x1\", \"text\": \"89\", \"font\": {\"color\": \"#000000\"}, \"yref\": \"y1\", \"y\": 81, \"showarrow\": false}, {\"align\": \"left\", \"xanchor\": \"left\", \"x\": -0.45, \"xref\": \"x1\", \"text\": \"2012\", \"font\": {\"color\": \"#000000\"}, \"yref\": \"y1\", \"y\": 82, \"showarrow\": false}, {\"align\": \"left\", \"xanchor\": \"left\", \"x\": 0.55, \"xref\": \"x1\", \"text\": \"Web Properties\", \"font\": {\"color\": \"#000000\"}, \"yref\": \"y1\", \"y\": 82, \"showarrow\": false}, {\"align\": \"left\", \"xanchor\": \"left\", \"x\": 1.55, \"xref\": \"x1\", \"text\": \"67\", \"font\": {\"color\": \"#000000\"}, \"yref\": \"y1\", \"y\": 82, \"showarrow\": false}, {\"align\": \"left\", \"xanchor\": \"left\", \"x\": -0.45, \"xref\": \"x1\", \"text\": \"2012\", \"font\": {\"color\": \"#000000\"}, \"yref\": \"y1\", \"y\": 83, \"showarrow\": false}, {\"align\": \"left\", \"xanchor\": \"left\", \"x\": 0.55, \"xref\": \"x1\", \"text\": \"Servo\", \"font\": {\"color\": \"#000000\"}, \"yref\": \"y1\", \"y\": 83, \"showarrow\": false}, {\"align\": \"left\", \"xanchor\": \"left\", \"x\": 1.55, \"xref\": \"x1\", \"text\": \"47\", \"font\": {\"color\": \"#000000\"}, \"yref\": \"y1\", \"y\": 83, \"showarrow\": false}, {\"align\": \"left\", \"xanchor\": \"left\", \"x\": -0.45, \"xref\": \"x1\", \"text\": \"2012\", \"font\": {\"color\": \"#000000\"}, \"yref\": \"y1\", \"y\": 84, \"showarrow\": false}, {\"align\": \"left\", \"xanchor\": \"left\", \"x\": 0.55, \"xref\": \"x1\", \"text\": \"IT/Ops\", \"font\": {\"color\": \"#000000\"}, \"yref\": \"y1\", \"y\": 84, \"showarrow\": false}, {\"align\": \"left\", \"xanchor\": \"left\", \"x\": 1.55, \"xref\": \"x1\", \"text\": \"45\", \"font\": {\"color\": \"#000000\"}, \"yref\": \"y1\", \"y\": 84, \"showarrow\": false}, {\"align\": \"left\", \"xanchor\": \"left\", \"x\": -0.45, \"xref\": \"x1\", \"text\": \"2012\", \"font\": {\"color\": \"#000000\"}, \"yref\": \"y1\", \"y\": 85, \"showarrow\": false}, {\"align\": \"left\", \"xanchor\": \"left\", \"x\": 0.55, \"xref\": \"x1\", \"text\": \"Mozilla Local/Regional communities\", \"font\": {\"color\": \"#000000\"}, \"yref\": \"y1\", \"y\": 85, \"showarrow\": false}, {\"align\": \"left\", \"xanchor\": \"left\", \"x\": 1.55, \"xref\": \"x1\", \"text\": \"38\", \"font\": {\"color\": \"#000000\"}, \"yref\": \"y1\", \"y\": 85, \"showarrow\": false}, {\"align\": \"left\", \"xanchor\": \"left\", \"x\": -0.45, \"xref\": \"x1\", \"text\": \"2012\", \"font\": {\"color\": \"#000000\"}, \"yref\": \"y1\", \"y\": 86, \"showarrow\": false}, {\"align\": \"left\", \"xanchor\": \"left\", \"x\": 0.55, \"xref\": \"x1\", \"text\": \"Addons/Web Extensions\", \"font\": {\"color\": \"#000000\"}, \"yref\": \"y1\", \"y\": 86, \"showarrow\": false}, {\"align\": \"left\", \"xanchor\": \"left\", \"x\": 1.55, \"xref\": \"x1\", \"text\": \"23\", \"font\": {\"color\": \"#000000\"}, \"yref\": \"y1\", \"y\": 86, \"showarrow\": false}, {\"align\": \"left\", \"xanchor\": \"left\", \"x\": -0.45, \"xref\": \"x1\", \"text\": \"2012\", \"font\": {\"color\": \"#000000\"}, \"yref\": \"y1\", \"y\": 87, \"showarrow\": false}, {\"align\": \"left\", \"xanchor\": \"left\", \"x\": 0.55, \"xref\": \"x1\", \"text\": \"Mozilla Foundation\", \"font\": {\"color\": \"#000000\"}, \"yref\": \"y1\", \"y\": 87, \"showarrow\": false}, {\"align\": \"left\", \"xanchor\": \"left\", \"x\": 1.55, \"xref\": \"x1\", \"text\": \"14\", \"font\": {\"color\": \"#000000\"}, \"yref\": \"y1\", \"y\": 87, \"showarrow\": false}, {\"align\": \"left\", \"xanchor\": \"left\", \"x\": -0.45, \"xref\": \"x1\", \"text\": \"2012\", \"font\": {\"color\": \"#000000\"}, \"yref\": \"y1\", \"y\": 88, \"showarrow\": false}, {\"align\": \"left\", \"xanchor\": \"left\", \"x\": 0.55, \"xref\": \"x1\", \"text\": \"Release engineering\", \"font\": {\"color\": \"#000000\"}, \"yref\": \"y1\", \"y\": 88, \"showarrow\": false}, {\"align\": \"left\", \"xanchor\": \"left\", \"x\": 1.55, \"xref\": \"x1\", \"text\": \"13\", \"font\": {\"color\": \"#000000\"}, \"yref\": \"y1\", \"y\": 88, \"showarrow\": false}, {\"align\": \"left\", \"xanchor\": \"left\", \"x\": -0.45, \"xref\": \"x1\", \"text\": \"2012\", \"font\": {\"color\": \"#000000\"}, \"yref\": \"y1\", \"y\": 89, \"showarrow\": false}, {\"align\": \"left\", \"xanchor\": \"left\", \"x\": 0.55, \"xref\": \"x1\", \"text\": \"Web Literacy\", \"font\": {\"color\": \"#000000\"}, \"yref\": \"y1\", \"y\": 89, \"showarrow\": false}, {\"align\": \"left\", \"xanchor\": \"left\", \"x\": 1.55, \"xref\": \"x1\", \"text\": \"9\", \"font\": {\"color\": \"#000000\"}, \"yref\": \"y1\", \"y\": 89, \"showarrow\": false}, {\"align\": \"left\", \"xanchor\": \"left\", \"x\": -0.45, \"xref\": \"x1\", \"text\": \"2012\", \"font\": {\"color\": \"#000000\"}, \"yref\": \"y1\", \"y\": 90, \"showarrow\": false}, {\"align\": \"left\", \"xanchor\": \"left\", \"x\": 0.55, \"xref\": \"x1\", \"text\": \"Firefox OS (FxOS / B2G)\", \"font\": {\"color\": \"#000000\"}, \"yref\": \"y1\", \"y\": 90, \"showarrow\": false}, {\"align\": \"left\", \"xanchor\": \"left\", \"x\": 1.55, \"xref\": \"x1\", \"text\": \"5\", \"font\": {\"color\": \"#000000\"}, \"yref\": \"y1\", \"y\": 90, \"showarrow\": false}, {\"align\": \"left\", \"xanchor\": \"left\", \"x\": -0.45, \"xref\": \"x1\", \"text\": \"2012\", \"font\": {\"color\": \"#000000\"}, \"yref\": \"y1\", \"y\": 91, \"showarrow\": false}, {\"align\": \"left\", \"xanchor\": \"left\", \"x\": 0.55, \"xref\": \"x1\", \"text\": \"Localization\", \"font\": {\"color\": \"#000000\"}, \"yref\": \"y1\", \"y\": 91, \"showarrow\": false}, {\"align\": \"left\", \"xanchor\": \"left\", \"x\": 1.55, \"xref\": \"x1\", \"text\": \"4\", \"font\": {\"color\": \"#000000\"}, \"yref\": \"y1\", \"y\": 91, \"showarrow\": false}, {\"align\": \"left\", \"xanchor\": \"left\", \"x\": -0.45, \"xref\": \"x1\", \"text\": \"2012\", \"font\": {\"color\": \"#000000\"}, \"yref\": \"y1\", \"y\": 92, \"showarrow\": false}, {\"align\": \"left\", \"xanchor\": \"left\", \"x\": 0.55, \"xref\": \"x1\", \"text\": \"Quality Assurance\", \"font\": {\"color\": \"#000000\"}, \"yref\": \"y1\", \"y\": 92, \"showarrow\": false}, {\"align\": \"left\", \"xanchor\": \"left\", \"x\": 1.55, \"xref\": \"x1\", \"text\": \"4\", \"font\": {\"color\": \"#000000\"}, \"yref\": \"y1\", \"y\": 92, \"showarrow\": false}, {\"align\": \"left\", \"xanchor\": \"left\", \"x\": -0.45, \"xref\": \"x1\", \"text\": \"2012\", \"font\": {\"color\": \"#000000\"}, \"yref\": \"y1\", \"y\": 93, \"showarrow\": false}, {\"align\": \"left\", \"xanchor\": \"left\", \"x\": 0.55, \"xref\": \"x1\", \"text\": \"Firefox iOS\", \"font\": {\"color\": \"#000000\"}, \"yref\": \"y1\", \"y\": 93, \"showarrow\": false}, {\"align\": \"left\", \"xanchor\": \"left\", \"x\": 1.55, \"xref\": \"x1\", \"text\": \"1\", \"font\": {\"color\": \"#000000\"}, \"yref\": \"y1\", \"y\": 93, \"showarrow\": false}, {\"align\": \"left\", \"xanchor\": \"left\", \"x\": -0.45, \"xref\": \"x1\", \"text\": \"2012\", \"font\": {\"color\": \"#000000\"}, \"yref\": \"y1\", \"y\": 94, \"showarrow\": false}, {\"align\": \"left\", \"xanchor\": \"left\", \"x\": 0.55, \"xref\": \"x1\", \"text\": \"Technical/Developer Evangelism\", \"font\": {\"color\": \"#000000\"}, \"yref\": \"y1\", \"y\": 94, \"showarrow\": false}, {\"align\": \"left\", \"xanchor\": \"left\", \"x\": 1.55, \"xref\": \"x1\", \"text\": \"1\", \"font\": {\"color\": \"#000000\"}, \"yref\": \"y1\", \"y\": 94, \"showarrow\": false}]}, {\"showLink\": true, \"linkText\": \"Export to plot.ly\"})});</script>"
      ]
     },
     "metadata": {},
     "output_type": "display_data"
    }
   ],
   "source": [
    "#results = []\n",
    "#for i in analyzed_range:\n",
    "\n",
    "# Buckets by author name, finding first commit for each of them\n",
    "s = create_search(source='git')\n",
    "\n",
    "# General filters\n",
    "s = add_general_date_filters(s)\n",
    "s = add_bot_filter(s)\n",
    "s = add_merges_filter(s)\n",
    "\n",
    "# Filter commits to the Project Repos\n",
    "s = add_project_filter(s)\n",
    "\n",
    "\n",
    "# Retrieve commits before given year\n",
    "s = s.filter('range', grimoire_creation_date={'lt': 'now/y'})\n",
    "\n",
    "# Bucketize by uuid and get first and last commit\n",
    "s.aggs.bucket('authors', 'terms', field='author_uuid', size=100000) \\\n",
    "    .metric('first', 'top_hits', _source=['author_date', 'author_org_name', 'author_uuid', 'repo_name'],\n",
    "            size=1, sort=[{\"author_date\": {\"order\": \"asc\"}}]) \\\n",
    "    .metric('last_commit', 'max', field='author_date')\n",
    "s = s.sort(\"author_date\")\n",
    "#print(s.to_dict())\n",
    "result = s.execute()\n",
    "\n",
    "authors_df = get_authors_df(result, author_bucket_field='authors')\n",
    "#authors_df['active_years'] = (authors_df.last_commit-authors_df.first_commit).astype('timedelta64[Y]')\n",
    "authors_df.rename(columns={\"repo_name\": \"Repo\"}, inplace=True)\n",
    "\n",
    "# Merge Spreadsheet data to get project names\n",
    "authors_project_df = authors_df.merge(projects['Github'], on='Repo', how='left')\n",
    "authors_project_df['first_commit'] = authors_project_df['first_commit'].map(lambda t: t.to_pydatetime().year)\n",
    "\n",
    "\n",
    "projects_df = authors_project_df.groupby(['first_commit', 'Project']).agg({'author': pandas.Series.nunique})\n",
    "projects_df.rename(columns={\"author\": \"# authors\"}, inplace=True)\n",
    "projects_df = projects_df.reset_index().sort_values(by=['first_commit', '# authors'], ascending=[False, False])\n",
    "\n",
    "rankings_df = pandas.DataFrame()\n",
    "for year in projects_df['first_commit'].unique():\n",
    "    if year > 2011:\n",
    "        year_df = projects_df.loc[projects_df['first_commit'] == year].head(20)\n",
    "        rankings_df = pandas.concat([rankings_df, year_df]) \n",
    "\n",
    "# Print a table\n",
    "plotly.offline.init_notebook_mode(connected=True)\n",
    "table = ff.create_table(rankings_df)\n",
    "plotly.offline.iplot(table, filename='git-top-projects-newcomers-table')\n"
   ]
  },
  {
   "cell_type": "code",
   "execution_count": 95,
   "metadata": {
    "collapsed": false
   },
   "outputs": [
    {
     "data": {
      "text/html": [
       "<script>requirejs.config({paths: { 'plotly': ['https://cdn.plot.ly/plotly-latest.min']},});if(!window.Plotly) {{require(['plotly'],function(plotly) {window.Plotly=plotly;});}}</script>"
      ],
      "text/vnd.plotly.v1+html": [
       "<script>requirejs.config({paths: { 'plotly': ['https://cdn.plot.ly/plotly-latest.min']},});if(!window.Plotly) {{require(['plotly'],function(plotly) {window.Plotly=plotly;});}}</script>"
      ]
     },
     "metadata": {},
     "output_type": "display_data"
    },
    {
     "data": {
      "application/vnd.plotly.v1+json": {
       "data": [
        {
         "mode": "lines+markers",
         "name": "Rust",
         "type": "scatter",
         "x": [
          2016,
          2015,
          2014,
          2013,
          2012
         ],
         "y": [
          493,
          642,
          523,
          233,
          89
         ]
        },
        {
         "mode": "lines+markers",
         "name": "Gecko",
         "type": "scatter",
         "x": [
          2016,
          2015,
          2014,
          2013,
          2012
         ],
         "y": [
          286,
          242,
          299,
          260,
          226
         ]
        },
        {
         "mode": "lines+markers",
         "name": "Servo",
         "type": "scatter",
         "x": [
          2016,
          2015,
          2014,
          2013,
          2012
         ],
         "y": [
          194,
          168,
          124,
          51,
          47
         ]
        },
        {
         "mode": "lines+markers",
         "name": "Web Properties",
         "type": "scatter",
         "x": [
          2016,
          2015,
          2014,
          2013,
          2012
         ],
         "y": [
          132,
          160,
          131,
          121,
          67
         ]
        },
        {
         "mode": "lines+markers",
         "name": "WebVR",
         "type": "scatter",
         "x": [
          2016,
          2015,
          2014,
          2013,
          2012
         ],
         "y": [
          113,
          16,
          4
         ]
        },
        {
         "mode": "lines+markers",
         "name": "IT/Ops",
         "type": "scatter",
         "x": [
          2016,
          2015,
          2014,
          2013,
          2012
         ],
         "y": [
          100,
          86,
          91,
          48,
          45
         ]
        },
        {
         "mode": "lines+markers",
         "name": "Mozilla Local/Regional communities",
         "type": "scatter",
         "x": [
          2016,
          2015,
          2014,
          2013,
          2012
         ],
         "y": [
          57,
          60,
          104,
          55,
          38
         ]
        },
        {
         "mode": "lines+markers",
         "name": "Addons/Web Extensions",
         "type": "scatter",
         "x": [
          2016,
          2015,
          2014,
          2013,
          2012
         ],
         "y": [
          40,
          24,
          32,
          35,
          23
         ]
        },
        {
         "mode": "lines+markers",
         "name": "Mozilla Developer Network (MDN)",
         "type": "scatter",
         "x": [
          2016,
          2015,
          2014,
          2013,
          2012
         ],
         "y": [
          40,
          25,
          3,
          2
         ]
        },
        {
         "mode": "lines+markers",
         "name": "Mozilla Science",
         "type": "scatter",
         "x": [
          2016,
          2015,
          2014,
          2013,
          2012
         ],
         "y": [
          32,
          41,
          11,
          2
         ]
        },
        {
         "mode": "lines+markers",
         "name": "Firefox iOS",
         "type": "scatter",
         "x": [
          2016,
          2015,
          2014,
          2013,
          2012
         ],
         "y": [
          16,
          30,
          5,
          1,
          1
         ]
        },
        {
         "mode": "lines+markers",
         "name": "Test Pilot",
         "type": "scatter",
         "x": [
          2016,
          2015,
          2014,
          2013,
          2012
         ],
         "y": [
          11
         ]
        },
        {
         "mode": "lines+markers",
         "name": "Mozilla Foundation",
         "type": "scatter",
         "x": [
          2016,
          2015,
          2014,
          2013,
          2012
         ],
         "y": [
          8,
          2,
          14,
          30,
          14
         ]
        },
        {
         "mode": "lines+markers",
         "name": "Mozilla Creative & Design",
         "type": "scatter",
         "x": [
          2016,
          2015,
          2014,
          2013,
          2012
         ],
         "y": [
          7,
          2,
          2
         ]
        },
        {
         "mode": "lines+markers",
         "name": "Advocacy and policy",
         "type": "scatter",
         "x": [
          2016,
          2015,
          2014,
          2013,
          2012
         ],
         "y": [
          6,
          3,
          4
         ]
        },
        {
         "mode": "lines+markers",
         "name": "Localization",
         "type": "scatter",
         "x": [
          2016,
          2015,
          2014,
          2013,
          2012
         ],
         "y": [
          4,
          4
         ]
        },
        {
         "mode": "lines+markers",
         "name": "Release engineering",
         "type": "scatter",
         "x": [
          2016,
          2015,
          2014,
          2013,
          2012
         ],
         "y": [
          3,
          11,
          11,
          13,
          13
         ]
        },
        {
         "mode": "lines+markers",
         "name": "Technical/Developer Evangelism",
         "type": "scatter",
         "x": [
          2016,
          2015,
          2014,
          2013,
          2012
         ],
         "y": [
          3,
          3,
          1,
          1
         ]
        },
        {
         "mode": "lines+markers",
         "name": "Campus Clubs (previously Student Ambassadors)",
         "type": "scatter",
         "x": [
          2016,
          2015,
          2014,
          2013,
          2012
         ],
         "y": [
          2
         ]
        },
        {
         "mode": "lines+markers",
         "name": "Firefox",
         "type": "scatter",
         "x": [
          2016,
          2015,
          2014,
          2013,
          2012
         ],
         "y": [
          2
         ]
        },
        {
         "mode": "lines+markers",
         "name": "Firefox OS (FxOS / B2G)",
         "type": "scatter",
         "x": [
          2016,
          2015,
          2014,
          2013,
          2012
         ],
         "y": [
          22,
          12,
          8,
          5
         ]
        },
        {
         "mode": "lines+markers",
         "name": "Web Literacy",
         "type": "scatter",
         "x": [
          2016,
          2015,
          2014,
          2013,
          2012
         ],
         "y": [
          11,
          45,
          21,
          9
         ]
        },
        {
         "mode": "lines+markers",
         "name": "Mozilla Location Service (MLS) / Stumbler",
         "type": "scatter",
         "x": [
          2016,
          2015,
          2014,
          2013,
          2012
         ],
         "y": [
          4,
          41,
          17
         ]
        },
        {
         "mode": "lines+markers",
         "name": "Mozilla Clubs",
         "type": "scatter",
         "x": [
          2016,
          2015,
          2014,
          2013,
          2012
         ],
         "y": [
          3
         ]
        },
        {
         "mode": "lines+markers",
         "name": "Developer Tools",
         "type": "scatter",
         "x": [
          2016,
          2015,
          2014,
          2013,
          2012
         ],
         "y": [
          2
         ]
        },
        {
         "mode": "lines+markers",
         "name": "Quality Assurance",
         "type": "scatter",
         "x": [
          2016,
          2015,
          2014,
          2013,
          2012
         ],
         "y": [
          8,
          6,
          4
         ]
        },
        {
         "mode": "lines+markers",
         "name": "Marketing / Social Media",
         "type": "scatter",
         "x": [
          2016,
          2015,
          2014,
          2013,
          2012
         ],
         "y": [
          6,
          2
         ]
        }
       ],
       "layout": {}
      },
      "text/html": [
       "<div id=\"c884b959-356b-4bcc-a122-8ca7b718fe2c\" style=\"height: 525px; width: 100%;\" class=\"plotly-graph-div\"></div><script type=\"text/javascript\">require([\"plotly\"], function(Plotly) { window.PLOTLYENV=window.PLOTLYENV || {};window.PLOTLYENV.BASE_URL=\"https://plot.ly\";Plotly.newPlot(\"c884b959-356b-4bcc-a122-8ca7b718fe2c\", [{\"x\": [2016, 2015, 2014, 2013, 2012], \"mode\": \"lines+markers\", \"name\": \"Rust\", \"type\": \"scatter\", \"y\": [493, 642, 523, 233, 89]}, {\"x\": [2016, 2015, 2014, 2013, 2012], \"mode\": \"lines+markers\", \"name\": \"Gecko\", \"type\": \"scatter\", \"y\": [286, 242, 299, 260, 226]}, {\"x\": [2016, 2015, 2014, 2013, 2012], \"mode\": \"lines+markers\", \"name\": \"Servo\", \"type\": \"scatter\", \"y\": [194, 168, 124, 51, 47]}, {\"x\": [2016, 2015, 2014, 2013, 2012], \"mode\": \"lines+markers\", \"name\": \"Web Properties\", \"type\": \"scatter\", \"y\": [132, 160, 131, 121, 67]}, {\"x\": [2016, 2015, 2014, 2013, 2012], \"mode\": \"lines+markers\", \"name\": \"WebVR\", \"type\": \"scatter\", \"y\": [113, 16, 4]}, {\"x\": [2016, 2015, 2014, 2013, 2012], \"mode\": \"lines+markers\", \"name\": \"IT/Ops\", \"type\": \"scatter\", \"y\": [100, 86, 91, 48, 45]}, {\"x\": [2016, 2015, 2014, 2013, 2012], \"mode\": \"lines+markers\", \"name\": \"Mozilla Local/Regional communities\", \"type\": \"scatter\", \"y\": [57, 60, 104, 55, 38]}, {\"x\": [2016, 2015, 2014, 2013, 2012], \"mode\": \"lines+markers\", \"name\": \"Addons/Web Extensions\", \"type\": \"scatter\", \"y\": [40, 24, 32, 35, 23]}, {\"x\": [2016, 2015, 2014, 2013, 2012], \"mode\": \"lines+markers\", \"name\": \"Mozilla Developer Network (MDN)\", \"type\": \"scatter\", \"y\": [40, 25, 3, 2]}, {\"x\": [2016, 2015, 2014, 2013, 2012], \"mode\": \"lines+markers\", \"name\": \"Mozilla Science\", \"type\": \"scatter\", \"y\": [32, 41, 11, 2]}, {\"x\": [2016, 2015, 2014, 2013, 2012], \"mode\": \"lines+markers\", \"name\": \"Firefox iOS\", \"type\": \"scatter\", \"y\": [16, 30, 5, 1, 1]}, {\"x\": [2016, 2015, 2014, 2013, 2012], \"mode\": \"lines+markers\", \"name\": \"Test Pilot\", \"type\": \"scatter\", \"y\": [11]}, {\"x\": [2016, 2015, 2014, 2013, 2012], \"mode\": \"lines+markers\", \"name\": \"Mozilla Foundation\", \"type\": \"scatter\", \"y\": [8, 2, 14, 30, 14]}, {\"x\": [2016, 2015, 2014, 2013, 2012], \"mode\": \"lines+markers\", \"name\": \"Mozilla Creative & Design\", \"type\": \"scatter\", \"y\": [7, 2, 2]}, {\"x\": [2016, 2015, 2014, 2013, 2012], \"mode\": \"lines+markers\", \"name\": \"Advocacy and policy\", \"type\": \"scatter\", \"y\": [6, 3, 4]}, {\"x\": [2016, 2015, 2014, 2013, 2012], \"mode\": \"lines+markers\", \"name\": \"Localization\", \"type\": \"scatter\", \"y\": [4, 4]}, {\"x\": [2016, 2015, 2014, 2013, 2012], \"mode\": \"lines+markers\", \"name\": \"Release engineering\", \"type\": \"scatter\", \"y\": [3, 11, 11, 13, 13]}, {\"x\": [2016, 2015, 2014, 2013, 2012], \"mode\": \"lines+markers\", \"name\": \"Technical/Developer Evangelism\", \"type\": \"scatter\", \"y\": [3, 3, 1, 1]}, {\"x\": [2016, 2015, 2014, 2013, 2012], \"mode\": \"lines+markers\", \"name\": \"Campus Clubs (previously Student Ambassadors)\", \"type\": \"scatter\", \"y\": [2]}, {\"x\": [2016, 2015, 2014, 2013, 2012], \"mode\": \"lines+markers\", \"name\": \"Firefox\", \"type\": \"scatter\", \"y\": [2]}, {\"x\": [2016, 2015, 2014, 2013, 2012], \"mode\": \"lines+markers\", \"name\": \"Firefox OS (FxOS / B2G)\", \"type\": \"scatter\", \"y\": [22, 12, 8, 5]}, {\"x\": [2016, 2015, 2014, 2013, 2012], \"mode\": \"lines+markers\", \"name\": \"Web Literacy\", \"type\": \"scatter\", \"y\": [11, 45, 21, 9]}, {\"x\": [2016, 2015, 2014, 2013, 2012], \"mode\": \"lines+markers\", \"name\": \"Mozilla Location Service (MLS) / Stumbler\", \"type\": \"scatter\", \"y\": [4, 41, 17]}, {\"x\": [2016, 2015, 2014, 2013, 2012], \"mode\": \"lines+markers\", \"name\": \"Mozilla Clubs\", \"type\": \"scatter\", \"y\": [3]}, {\"x\": [2016, 2015, 2014, 2013, 2012], \"mode\": \"lines+markers\", \"name\": \"Developer Tools\", \"type\": \"scatter\", \"y\": [2]}, {\"x\": [2016, 2015, 2014, 2013, 2012], \"mode\": \"lines+markers\", \"name\": \"Quality Assurance\", \"type\": \"scatter\", \"y\": [8, 6, 4]}, {\"x\": [2016, 2015, 2014, 2013, 2012], \"mode\": \"lines+markers\", \"name\": \"Marketing / Social Media\", \"type\": \"scatter\", \"y\": [6, 2]}], {}, {\"showLink\": true, \"linkText\": \"Export to plot.ly\"})});</script>"
      ],
      "text/vnd.plotly.v1+html": [
       "<div id=\"c884b959-356b-4bcc-a122-8ca7b718fe2c\" style=\"height: 525px; width: 100%;\" class=\"plotly-graph-div\"></div><script type=\"text/javascript\">require([\"plotly\"], function(Plotly) { window.PLOTLYENV=window.PLOTLYENV || {};window.PLOTLYENV.BASE_URL=\"https://plot.ly\";Plotly.newPlot(\"c884b959-356b-4bcc-a122-8ca7b718fe2c\", [{\"x\": [2016, 2015, 2014, 2013, 2012], \"mode\": \"lines+markers\", \"name\": \"Rust\", \"type\": \"scatter\", \"y\": [493, 642, 523, 233, 89]}, {\"x\": [2016, 2015, 2014, 2013, 2012], \"mode\": \"lines+markers\", \"name\": \"Gecko\", \"type\": \"scatter\", \"y\": [286, 242, 299, 260, 226]}, {\"x\": [2016, 2015, 2014, 2013, 2012], \"mode\": \"lines+markers\", \"name\": \"Servo\", \"type\": \"scatter\", \"y\": [194, 168, 124, 51, 47]}, {\"x\": [2016, 2015, 2014, 2013, 2012], \"mode\": \"lines+markers\", \"name\": \"Web Properties\", \"type\": \"scatter\", \"y\": [132, 160, 131, 121, 67]}, {\"x\": [2016, 2015, 2014, 2013, 2012], \"mode\": \"lines+markers\", \"name\": \"WebVR\", \"type\": \"scatter\", \"y\": [113, 16, 4]}, {\"x\": [2016, 2015, 2014, 2013, 2012], \"mode\": \"lines+markers\", \"name\": \"IT/Ops\", \"type\": \"scatter\", \"y\": [100, 86, 91, 48, 45]}, {\"x\": [2016, 2015, 2014, 2013, 2012], \"mode\": \"lines+markers\", \"name\": \"Mozilla Local/Regional communities\", \"type\": \"scatter\", \"y\": [57, 60, 104, 55, 38]}, {\"x\": [2016, 2015, 2014, 2013, 2012], \"mode\": \"lines+markers\", \"name\": \"Addons/Web Extensions\", \"type\": \"scatter\", \"y\": [40, 24, 32, 35, 23]}, {\"x\": [2016, 2015, 2014, 2013, 2012], \"mode\": \"lines+markers\", \"name\": \"Mozilla Developer Network (MDN)\", \"type\": \"scatter\", \"y\": [40, 25, 3, 2]}, {\"x\": [2016, 2015, 2014, 2013, 2012], \"mode\": \"lines+markers\", \"name\": \"Mozilla Science\", \"type\": \"scatter\", \"y\": [32, 41, 11, 2]}, {\"x\": [2016, 2015, 2014, 2013, 2012], \"mode\": \"lines+markers\", \"name\": \"Firefox iOS\", \"type\": \"scatter\", \"y\": [16, 30, 5, 1, 1]}, {\"x\": [2016, 2015, 2014, 2013, 2012], \"mode\": \"lines+markers\", \"name\": \"Test Pilot\", \"type\": \"scatter\", \"y\": [11]}, {\"x\": [2016, 2015, 2014, 2013, 2012], \"mode\": \"lines+markers\", \"name\": \"Mozilla Foundation\", \"type\": \"scatter\", \"y\": [8, 2, 14, 30, 14]}, {\"x\": [2016, 2015, 2014, 2013, 2012], \"mode\": \"lines+markers\", \"name\": \"Mozilla Creative & Design\", \"type\": \"scatter\", \"y\": [7, 2, 2]}, {\"x\": [2016, 2015, 2014, 2013, 2012], \"mode\": \"lines+markers\", \"name\": \"Advocacy and policy\", \"type\": \"scatter\", \"y\": [6, 3, 4]}, {\"x\": [2016, 2015, 2014, 2013, 2012], \"mode\": \"lines+markers\", \"name\": \"Localization\", \"type\": \"scatter\", \"y\": [4, 4]}, {\"x\": [2016, 2015, 2014, 2013, 2012], \"mode\": \"lines+markers\", \"name\": \"Release engineering\", \"type\": \"scatter\", \"y\": [3, 11, 11, 13, 13]}, {\"x\": [2016, 2015, 2014, 2013, 2012], \"mode\": \"lines+markers\", \"name\": \"Technical/Developer Evangelism\", \"type\": \"scatter\", \"y\": [3, 3, 1, 1]}, {\"x\": [2016, 2015, 2014, 2013, 2012], \"mode\": \"lines+markers\", \"name\": \"Campus Clubs (previously Student Ambassadors)\", \"type\": \"scatter\", \"y\": [2]}, {\"x\": [2016, 2015, 2014, 2013, 2012], \"mode\": \"lines+markers\", \"name\": \"Firefox\", \"type\": \"scatter\", \"y\": [2]}, {\"x\": [2016, 2015, 2014, 2013, 2012], \"mode\": \"lines+markers\", \"name\": \"Firefox OS (FxOS / B2G)\", \"type\": \"scatter\", \"y\": [22, 12, 8, 5]}, {\"x\": [2016, 2015, 2014, 2013, 2012], \"mode\": \"lines+markers\", \"name\": \"Web Literacy\", \"type\": \"scatter\", \"y\": [11, 45, 21, 9]}, {\"x\": [2016, 2015, 2014, 2013, 2012], \"mode\": \"lines+markers\", \"name\": \"Mozilla Location Service (MLS) / Stumbler\", \"type\": \"scatter\", \"y\": [4, 41, 17]}, {\"x\": [2016, 2015, 2014, 2013, 2012], \"mode\": \"lines+markers\", \"name\": \"Mozilla Clubs\", \"type\": \"scatter\", \"y\": [3]}, {\"x\": [2016, 2015, 2014, 2013, 2012], \"mode\": \"lines+markers\", \"name\": \"Developer Tools\", \"type\": \"scatter\", \"y\": [2]}, {\"x\": [2016, 2015, 2014, 2013, 2012], \"mode\": \"lines+markers\", \"name\": \"Quality Assurance\", \"type\": \"scatter\", \"y\": [8, 6, 4]}, {\"x\": [2016, 2015, 2014, 2013, 2012], \"mode\": \"lines+markers\", \"name\": \"Marketing / Social Media\", \"type\": \"scatter\", \"y\": [6, 2]}], {}, {\"showLink\": true, \"linkText\": \"Export to plot.ly\"})});</script>"
      ]
     },
     "metadata": {},
     "output_type": "display_data"
    }
   ],
   "source": [
    "plotly.offline.init_notebook_mode(connected=True)\n",
    "\n",
    "data = []\n",
    "for project in rankings_df['Project'].unique():\n",
    "    #print(exp, '\\n', exp_groups_evo_df.loc[exp].tolist(), '\\n', exp_groups_evo_df.loc[exp].index.values)\n",
    "    data.append(\n",
    "        go.Scatter(\n",
    "            x = rankings_df['first_commit'].unique(),\n",
    "            y = rankings_df.loc[(rankings_df['Project'] == project), '# authors'],\n",
    "            mode = 'lines+markers',\n",
    "            name = project\n",
    "        )\n",
    "    )\n",
    "    \n",
    "\n",
    "\n",
    "plotly.offline.iplot(data, filename='line-mode')    "
   ]
  },
  {
   "cell_type": "code",
   "execution_count": 8,
   "metadata": {
    "collapsed": false
   },
   "outputs": [
    {
     "data": {
      "text/plain": [
       "[                                         author        first_commit  \\\n",
       " 11462  149ad981c7f8acd65b9cb9a3f306833fc4b6ec8e 2016-12-31 12:01:23   \n",
       " 10546  778f8adac79c8593c8413792e9d838e0620797c1 2016-12-31 08:34:00   \n",
       " 14269  f0a27b3276baf429f51f6afed8ece01f1a09e7d0 2016-12-31 05:11:58   \n",
       " 10380  5c6bef06c5d1fa2e83f13db2046ec3d9d27bd00d 2016-12-30 23:09:23   \n",
       " 13327  977b2b48ece5125093c2cfdedb56be00bdba4f13 2016-12-30 22:21:03   \n",
       " 12491  57a1cf0d7a35c3f77475953873212148d3c01e1b 2016-12-30 21:55:02   \n",
       " 10648  8c536fb5c49a281f793cb47e933fd71403891960 2016-12-30 17:26:13   \n",
       " 13456  a1e6b9aca42df46460c5fed6a73cde615b2b04a3 2016-12-30 16:45:19   \n",
       " 11765  26e5b20e7ccff92ec895b5f4af3f5f0b9a5b0f0a 2016-12-30 14:34:47   \n",
       " 9820   09a899922407e40e04fa6ab865da040f06c0d904 2016-12-30 12:22:11   \n",
       " 9519   c91f349eb811f5870fe7b4e987bd34decfbf72cb 2016-12-30 11:34:16   \n",
       " 13069  829a9b7eae96736b2408c62c4b2843721116fe41 2016-12-29 23:33:52   \n",
       " 13789  c19b5436d45eb06bb0d9a16accd4a16da1ad9765 2016-12-29 14:21:07   \n",
       " 11789  286f050fe75f8123df329c88b74f3dd61b73bda4 2016-12-28 18:43:08   \n",
       " 13738  bd1da52b37734708ba675cb93b8ab3ab5ac5446c 2016-12-28 18:09:59   \n",
       " 9959   1c9ccec2047e42eb37053a6e93cb10781c56ec82 2016-12-28 16:53:00   \n",
       " 13430  a067de6a2df3134c3a54484d2c6c591e33292310 2016-12-28 14:40:00   \n",
       " 8586   1acb847ed91053f596e5d2a0fc8fe76fb4fba4af 2016-12-28 13:49:02   \n",
       " 10291  4d0114c7876b3d23637a32f6e203ab41d3f44c29 2016-12-28 07:37:45   \n",
       " 13753  be7f54d1d9bdb9670d03199e686f1879c83c0676 2016-12-27 18:40:18   \n",
       " 11326  0c0e7a91ec6c5fccdc12908ec0bce098eba1e6d2 2016-12-27 18:33:38   \n",
       " 10322  52502839f4fbdf5ace2fbdb762d45dbcc823b872 2016-12-27 11:23:01   \n",
       " 14353  f9c29c898de1dd801116553fd199756e8578cb16 2016-12-27 02:26:30   \n",
       " 13040  8029b8cbba702813f9db5fee076cd51cba88ea6b 2016-12-26 11:57:01   \n",
       " 12626  60f4fe71470b196031f56fc50d9baa62660a2ca9 2016-12-25 23:43:29   \n",
       " 10791  a70d6a435ee2abdde02c69ee51bf7295c83d1aed 2016-12-25 20:26:47   \n",
       " 5377   af14482946c22b366fa5dce339353678b9878f20 2016-12-25 03:23:16   \n",
       " 14171  e6a4f7d00dfd76c6953ddc69f277d6525c974c10 2016-12-24 21:15:34   \n",
       " 12366  4ec03c3a988487c297943fbc52c059aecb51246c 2016-12-24 17:06:15   \n",
       " 11275  08c839ef9eb306147e00a308b4aa00388d8e5e50 2016-12-24 00:25:16   \n",
       " ...                                         ...                 ...   \n",
       " 913    5e8873da77bfc73b744c8ef257eede9cce53c04f 1998-04-14 19:26:42   \n",
       " 2675   069d7fbce4c27ff1d7866e0732fff1ccbd6a6476 1998-04-14 18:14:55   \n",
       " 2457   6565db00622ee1261c295d44f8b883a2f363df1c 1998-04-14 17:29:44   \n",
       " 1619   47ac23f0868d747b6d9d61c596c226fbee59919e 1998-04-14 16:53:16   \n",
       " 926    8426e77b1adabfc17cf61da651a0194683856612 1998-04-14 01:49:20   \n",
       " 1620   97546fd53af5fa01ce7090030f41a94f7157a22b 1998-04-14 01:24:06   \n",
       " 1041   a2522930974eb40699e11ecf43ff2d51799161d4 1998-04-14 00:31:59   \n",
       " 1661   fe5fd18b94c889e8934bfbabbd976f5ea6686443 1998-04-13 23:58:48   \n",
       " 1659   9861a7175cf51bf91a8c627eead1ccee3081dabd 1998-04-13 23:56:35   \n",
       " 2249   c939ef8317b162b4daaad54fdfd77ceaad6fd4ce 1998-04-13 21:07:10   \n",
       " 293    4782bfeacd4153cda87b5f1111afee53ac1187ee 1998-04-13 20:24:54   \n",
       " 2604   e7e12cca5bb66ad7d4a40d7f1f8f66f0082e7324 1998-04-09 03:54:33   \n",
       " 2686   38a3bfe8ad27c5843eb55868ae23422db0b971c8 1998-04-09 00:07:08   \n",
       " 1494   887002ff63d3f1b7a54ed99ca39aa8422e660f15 1998-04-08 21:23:19   \n",
       " 947    d2d0ee7863d5a2400c69c490942ce407385d185b 1998-04-08 04:20:39   \n",
       " 1705   3320ad91ab9ba8156863b4e8d3ca0b7ddcf11dde 1998-04-08 04:04:58   \n",
       " 3397   7e6e1bd0112ae67da0fb5256daec2ef7adad9778 1998-04-08 01:47:23   \n",
       " 1683   52d75e285d275e0b47723fedf669281f00ddde2e 1998-04-07 23:30:24   \n",
       " 761    431b3b9443363d840dc45885370dce1ebf0bb6df 1998-04-07 20:41:06   \n",
       " 1204   856e9a14c44a9e771c6f940145b26575c81e2228 1998-04-07 20:36:46   \n",
       " 1058   2ca3b7c9678c67a58174dbc2e5e91f2a04b019e6 1998-04-06 23:54:42   \n",
       " 2294   d95d6e15648451cfc45885ee0de13b85f412403a 1998-03-30 23:59:41   \n",
       " 1617   2a205325afe7a7ba7f2e44ab0b0f7a0dc5a9de00 1998-03-30 23:30:00   \n",
       " 1977   c612c17daa0436547fdf8dde7038b13ddc77f0d9 1998-03-30 23:15:36   \n",
       " 7825   fee82d83c32b57da8be70bb1a60fdd18945a4d89 1998-03-30 01:59:34   \n",
       " 1827   360bda5d687dec2cadfb804f08c53e32c9a00a27 1998-03-29 21:51:40   \n",
       " 3412   be4def1ae593ac3e9a3e6a7d3eb847e93bb21bb2 1998-03-28 02:44:41   \n",
       " 5406   ea866ddbc4b20d4f191bcdecd514b76e22341c39 1998-03-28 00:00:00   \n",
       " 10061  290509554a8d2cd7f0c6f5cfb1c1048e86615fb2 1998-03-27 00:00:00   \n",
       " 253    5ab67497e1980994af3ffe34e602401ea09237e2 1998-01-01 07:13:13   \n",
       " \n",
       "               last_commit            org  \\\n",
       " 11462 2016-12-31 12:01:23      Community   \n",
       " 10546 2016-12-31 08:34:00      Community   \n",
       " 14269 2016-12-31 05:11:58      Community   \n",
       " 10380 2016-12-30 23:09:23      Community   \n",
       " 13327 2016-12-30 22:21:03      Community   \n",
       " 12491 2016-12-30 21:55:02      Community   \n",
       " 10648 2016-12-30 17:26:13      Community   \n",
       " 13456 2016-12-30 16:45:19      Community   \n",
       " 11765 2016-12-30 14:34:47      Community   \n",
       " 9820  2016-12-30 13:21:21      Community   \n",
       " 9519  2016-12-30 11:40:34      Community   \n",
       " 13069 2016-12-29 23:33:52      Community   \n",
       " 13789 2016-12-29 14:21:07      Community   \n",
       " 11789 2016-12-28 18:43:08      Community   \n",
       " 13738 2016-12-28 18:09:59      Community   \n",
       " 9959  2016-12-28 16:53:00      Community   \n",
       " 13430 2016-12-28 14:40:00      Community   \n",
       " 8586  2016-12-28 22:43:51      Community   \n",
       " 10291 2016-12-28 07:37:45      Community   \n",
       " 13753 2016-12-27 18:40:18      Community   \n",
       " 11326 2016-12-27 18:33:38      Community   \n",
       " 10322 2016-12-27 11:23:01      Community   \n",
       " 14353 2016-12-27 02:26:30      Community   \n",
       " 13040 2016-12-26 11:57:01      Community   \n",
       " 12626 2016-12-25 23:43:29      Community   \n",
       " 10791 2016-12-25 20:26:47      Community   \n",
       " 5377  2016-12-27 06:56:15      Community   \n",
       " 14171 2016-12-24 21:15:34      Community   \n",
       " 12366 2016-12-24 17:06:15      Community   \n",
       " 11275 2016-12-24 00:25:16      Community   \n",
       " ...                   ...            ...   \n",
       " 913   1998-07-10 17:29:03      Community   \n",
       " 2675  1998-05-15 18:49:17      Community   \n",
       " 2457  1998-06-09 22:41:49      Community   \n",
       " 1619  1998-07-14 22:52:07      Community   \n",
       " 926   1998-07-14 18:43:47      Community   \n",
       " 1620  1998-07-09 23:00:29      Community   \n",
       " 1041  1998-07-15 17:04:56      Community   \n",
       " 1661  1998-07-15 16:33:40      Community   \n",
       " 1659  1998-07-15 00:37:11      Community   \n",
       " 2249  1998-05-27 07:33:12      Community   \n",
       " 293   1998-07-15 18:55:53      Community   \n",
       " 2604  1998-05-28 18:20:00      Community   \n",
       " 2686  1998-07-01 22:36:44      Community   \n",
       " 1494  1998-07-02 02:39:54      Community   \n",
       " 947   1998-07-15 10:34:34      Community   \n",
       " 1705  1998-07-09 02:19:37      Community   \n",
       " 3397  1998-06-23 02:32:45      Community   \n",
       " 1683  1998-07-09 16:42:08      Community   \n",
       " 761   1998-07-15 17:03:53      Community   \n",
       " 1204  1998-07-01 05:13:10      Community   \n",
       " 1058  1998-07-10 22:19:56      Community   \n",
       " 2294  1998-07-15 17:26:32      Community   \n",
       " 1617  1998-07-10 17:22:06      Community   \n",
       " 1977  1998-07-02 20:03:03      Community   \n",
       " 7825  1998-03-30 01:59:34      Community   \n",
       " 1827  1998-07-14 21:13:23      Community   \n",
       " 3412  1998-06-22 21:28:47      Community   \n",
       " 5406  2016-01-17 00:00:00      Community   \n",
       " 10061 1998-03-27 00:00:00      Community   \n",
       " 253   2016-12-31 07:05:00  Mozilla Staff   \n",
       " \n",
       "                                                repo_name  active_years project  \n",
       " 11462              https://github.com/rust-lang/rust.git           0.0     All  \n",
       " 10546           https://github.com/mozilla/gecko-dev.git           0.0     All  \n",
       " 14269  https://github.com/mozilla/donate.mozilla.org.git           0.0     All  \n",
       " 10380      https://github.com/mozilla/gecko-projects.git           0.0     All  \n",
       " 13327      https://github.com/servo/core-graphics-rs.git           0.0     All  \n",
       " 12491              https://github.com/rust-lang/rust.git           0.0     All  \n",
       " 10648             https://github.com/aframevr/aframe.git           0.0     All  \n",
       " 13456    https://github.com/aframevr/aframe-registry.git           0.0     All  \n",
       " 11765              https://github.com/rust-lang/rust.git           0.0     All  \n",
       " 9820               https://github.com/rust-lang/rust.git           0.0     All  \n",
       " 9519                 https://github.com/mozilla/sops.git           0.0     All  \n",
       " 13069  https://github.com/mozilla-services/lua_sandbo...           0.0     All  \n",
       " 13789              https://github.com/rust-lang/rust.git           0.0     All  \n",
       " 11789             https://github.com/servo/webrender.git           0.0     All  \n",
       " 13738          https://github.com/mozilla/kumascript.git           0.0     All  \n",
       " 9959            https://github.com/mozilla/gecko-dev.git           0.0     All  \n",
       " 13430              https://github.com/rust-lang/rust.git           0.0     All  \n",
       " 8586            https://github.com/mozilla/gecko-dev.git           0.0     All  \n",
       " 10291           https://github.com/mozilla/gecko-dev.git           0.0     All  \n",
       " 13753              https://github.com/rust-lang/libc.git           0.0     All  \n",
       " 11326             https://github.com/mozilla/bedrock.git           0.0     All  \n",
       " 10322           https://github.com/mozilla/gecko-dev.git           0.0     All  \n",
       " 14353              https://github.com/rust-lang/rust.git           0.0     All  \n",
       " 13040              https://github.com/rust-lang/rust.git           0.0     All  \n",
       " 12626      https://github.com/mozilla/wikimo_content.git           0.0     All  \n",
       " 10791             https://github.com/aframevr/aframe.git           0.0     All  \n",
       " 5377            https://github.com/mozilla/gecko-dev.git           0.0     All  \n",
       " 14171                  https://github.com/mozilla/rr.git           0.0     All  \n",
       " 12366          https://github.com/rust-lang/rust-www.git           0.0     All  \n",
       " 11275                 https://github.com/mozilla/mig.git           0.0     All  \n",
       " ...                                                  ...           ...     ...  \n",
       " 913        https://github.com/mozilla/gecko-projects.git           0.0     All  \n",
       " 2675            https://github.com/mozilla/gecko-dev.git           0.0     All  \n",
       " 2457       https://github.com/mozilla/gecko-projects.git           0.0     All  \n",
       " 1619       https://github.com/mozilla/gecko-projects.git           0.0     All  \n",
       " 926    https://github.com/mozilla/universal-search-ge...           0.0     All  \n",
       " 1620       https://github.com/mozilla/gecko-projects.git           0.0     All  \n",
       " 1041            https://github.com/mozilla/gecko-dev.git           0.0     All  \n",
       " 1661   https://github.com/mozilla/universal-search-ge...           0.0     All  \n",
       " 1659   https://github.com/mozilla/universal-search-ge...           0.0     All  \n",
       " 2249   https://github.com/mozilla/universal-search-ge...           0.0     All  \n",
       " 293        https://github.com/mozilla/gecko-projects.git           0.0     All  \n",
       " 2604           https://github.com/mozilla/newtab-dev.git           0.0     All  \n",
       " 2686           https://github.com/mozilla/newtab-dev.git           0.0     All  \n",
       " 1494            https://github.com/mozilla/gecko-dev.git           0.0     All  \n",
       " 947             https://github.com/mozilla/gecko-dev.git           0.0     All  \n",
       " 1705       https://github.com/mozilla/gecko-projects.git           0.0     All  \n",
       " 3397   https://github.com/mozilla/universal-search-ge...           0.0     All  \n",
       " 1683       https://github.com/mozilla/gecko-projects.git           0.0     All  \n",
       " 761             https://github.com/mozilla/gecko-dev.git           0.0     All  \n",
       " 1204            https://github.com/mozilla/gecko-dev.git           0.0     All  \n",
       " 1058       https://github.com/mozilla/gecko-projects.git           0.0     All  \n",
       " 2294            https://github.com/mozilla/gecko-dev.git           0.0     All  \n",
       " 1617             https://github.com/mozilla/positron.git           0.0     All  \n",
       " 1977           https://github.com/mozilla/newtab-dev.git           0.0     All  \n",
       " 7825   https://github.com/mozilla/universal-search-ge...           0.0     All  \n",
       " 1827             https://github.com/mozilla/positron.git           0.0     All  \n",
       " 3412            https://github.com/mozilla/gecko-dev.git           0.0     All  \n",
       " 5406              https://github.com/mozilla/mozjpeg.git          17.0     All  \n",
       " 10061             https://github.com/mozilla/mozjpeg.git           0.0     All  \n",
       " 253                  https://github.com/servo/libpng.git          18.0     All  \n",
       " \n",
       " [14410 rows x 7 columns],\n",
       "                                          author        first_commit  \\\n",
       " 10637  6810552de52be12521e220fbb5a86a69eb1d3122 2015-12-30 21:31:39   \n",
       " 8018   aaec64ab47fbfde7f0c6b700ca4b0650f6e6a741 2015-12-30 21:31:25   \n",
       " 8153   cfe3f91cd9bb3a540bf1fdff50d1b29d884de306 2015-12-30 16:27:56   \n",
       " 10110  3975871ceff73b48d4c04038e622dade54b0738a 2015-12-30 15:25:59   \n",
       " 10836  7af9f9d4c6ab916e93a243efa5e98637433bb8a7 2015-12-30 15:20:22   \n",
       " 9241   d41bc4392da7134abfe4a92d25dc5f6f64637820 2015-12-30 14:40:10   \n",
       " 6600   4e579d223d31f8a59efa4c547f27d5b140ac17ec 2015-12-30 12:59:00   \n",
       " 8753   541f076752af67ece7817f2e364f791a21b0d2f5 2015-12-30 12:33:57   \n",
       " 8263   ef42ed936fac6fd9a0fedc453fda43f3a0727b92 2015-12-30 11:41:59   \n",
       " 10754  726452e69a6dcc3da2c36ac10770893a6ca4c475 2015-12-30 01:57:45   \n",
       " 9486   07e12ae2822d12245e8af2951b144b54632c1f36 2015-12-29 15:42:48   \n",
       " 9264   dba4d7b301d655f6f33322f08a9894695d3a4430 2015-12-29 09:43:45   \n",
       " 6141   6f8b5b1dbc17b3ba3d021d7550f716f46ae42a29 2015-12-29 00:10:21   \n",
       " 11599  d2f08563c9977f012c7ab84b33d1568e22665d12 2015-12-28 23:53:38   \n",
       " 8177   d553d3d76b2cd08e328f22c8f6cb25c9af793dce 2015-12-28 21:19:59   \n",
       " 9000   8f602223673aa977acd96d971237474160ca5b8b 2015-12-28 21:09:06   \n",
       " 10013  30cf313e836b78365bd1fb4e2082eb2bec800a13 2015-12-28 13:39:18   \n",
       " 6309   b59fe152320598a7a97bd77dcc9dafd4ecc0130d 2015-12-28 13:06:31   \n",
       " 9900   27c447c04dd10cef822d76e4d0fbb7915fe5a14d 2015-12-28 09:23:09   \n",
       " 6452   08d97959a6b1dd1b680245d086a5d78175c2be17 2015-12-28 05:31:11   \n",
       " 9841   22eea86ee547929564f7b35c52ebd6aef14fdae4 2015-12-26 21:29:28   \n",
       " 6579   433dd4e34715fd55412646619616153dcbf9aa1f 2015-12-26 13:39:42   \n",
       " 9077   a20e8a1552cd761e40d9bd0bc97e4c623125fad8 2015-12-26 07:44:57   \n",
       " 10038  32ed1029b92527ae80f45e722ca9c4ca15b8d265 2015-12-26 06:24:11   \n",
       " 9590   0fdbe84f63e8e9559064752216155d4ec2c37767 2015-12-26 06:13:31   \n",
       " 7331   071d9dc6d6c0853ee28f73788e08880d5f24dd89 2015-12-26 01:10:12   \n",
       " 9610   119086ab427771fe20ac7f8d42c540d4d8071709 2015-12-25 13:36:15   \n",
       " 9762   1d8267f4e06b5fab1c6e04717cb7450222d383c0 2015-12-25 03:52:14   \n",
       " 11534  ca5fe236cee86c1e5f2af4e58488a1a1767f4f9c 2015-12-24 23:04:44   \n",
       " 11805  ec0483fce611e649ad644afa81a7b92bf560c02d 2015-12-24 20:22:22   \n",
       " ...                                         ...                 ...   \n",
       " 851    5e8873da77bfc73b744c8ef257eede9cce53c04f 1998-04-14 19:26:42   \n",
       " 2436   069d7fbce4c27ff1d7866e0732fff1ccbd6a6476 1998-04-14 18:14:55   \n",
       " 2246   6565db00622ee1261c295d44f8b883a2f363df1c 1998-04-14 17:29:44   \n",
       " 1496   47ac23f0868d747b6d9d61c596c226fbee59919e 1998-04-14 16:53:16   \n",
       " 866    8426e77b1adabfc17cf61da651a0194683856612 1998-04-14 01:49:20   \n",
       " 1498   97546fd53af5fa01ce7090030f41a94f7157a22b 1998-04-14 01:24:06   \n",
       " 967    a2522930974eb40699e11ecf43ff2d51799161d4 1998-04-14 00:31:59   \n",
       " 1532   fe5fd18b94c889e8934bfbabbd976f5ea6686443 1998-04-13 23:58:48   \n",
       " 1530   9861a7175cf51bf91a8c627eead1ccee3081dabd 1998-04-13 23:56:35   \n",
       " 2065   c939ef8317b162b4daaad54fdfd77ceaad6fd4ce 1998-04-13 21:07:10   \n",
       " 279    4782bfeacd4153cda87b5f1111afee53ac1187ee 1998-04-13 20:24:54   \n",
       " 2371   e7e12cca5bb66ad7d4a40d7f1f8f66f0082e7324 1998-04-09 03:54:33   \n",
       " 2446   38a3bfe8ad27c5843eb55868ae23422db0b971c8 1998-04-09 00:07:08   \n",
       " 1385   887002ff63d3f1b7a54ed99ca39aa8422e660f15 1998-04-08 21:23:19   \n",
       " 883    d2d0ee7863d5a2400c69c490942ce407385d185b 1998-04-08 04:20:39   \n",
       " 1573   3320ad91ab9ba8156863b4e8d3ca0b7ddcf11dde 1998-04-08 04:04:58   \n",
       " 3061   7e6e1bd0112ae67da0fb5256daec2ef7adad9778 1998-04-08 01:47:23   \n",
       " 1550   52d75e285d275e0b47723fedf669281f00ddde2e 1998-04-07 23:30:24   \n",
       " 713    431b3b9443363d840dc45885370dce1ebf0bb6df 1998-04-07 20:41:06   \n",
       " 1112   856e9a14c44a9e771c6f940145b26575c81e2228 1998-04-07 20:36:46   \n",
       " 990    2ca3b7c9678c67a58174dbc2e5e91f2a04b019e6 1998-04-06 23:54:42   \n",
       " 2111   d95d6e15648451cfc45885ee0de13b85f412403a 1998-03-30 23:59:41   \n",
       " 1493   2a205325afe7a7ba7f2e44ab0b0f7a0dc5a9de00 1998-03-30 23:30:00   \n",
       " 1805   c612c17daa0436547fdf8dde7038b13ddc77f0d9 1998-03-30 23:15:36   \n",
       " 6829   fee82d83c32b57da8be70bb1a60fdd18945a4d89 1998-03-30 01:59:34   \n",
       " 1689   360bda5d687dec2cadfb804f08c53e32c9a00a27 1998-03-29 21:51:40   \n",
       " 3079   be4def1ae593ac3e9a3e6a7d3eb847e93bb21bb2 1998-03-28 02:44:41   \n",
       " 4975   ea866ddbc4b20d4f191bcdecd514b76e22341c39 1998-03-28 00:00:00   \n",
       " 8541   290509554a8d2cd7f0c6f5cfb1c1048e86615fb2 1998-03-27 00:00:00   \n",
       " 236    5ab67497e1980994af3ffe34e602401ea09237e2 1998-01-01 07:13:13   \n",
       " \n",
       "               last_commit            org  \\\n",
       " 10637 2015-12-30 21:31:39      Community   \n",
       " 8018  2015-12-30 21:31:25      Community   \n",
       " 8153  2015-12-30 16:27:56      Community   \n",
       " 10110 2015-12-30 15:25:59      Community   \n",
       " 10836 2015-12-30 15:20:22      Community   \n",
       " 9241  2015-12-30 22:18:09      Community   \n",
       " 6600  2015-12-30 12:59:00      Community   \n",
       " 8753  2015-12-30 13:04:00      Community   \n",
       " 8263  2015-12-31 11:41:21      Community   \n",
       " 10754 2015-12-30 01:57:45      Community   \n",
       " 9486  2015-12-29 15:42:48      Community   \n",
       " 9264  2015-12-29 09:52:22      Community   \n",
       " 6141  2015-12-29 11:54:35      Community   \n",
       " 11599 2015-12-28 23:53:38      Community   \n",
       " 8177  2015-12-28 21:19:59      Community   \n",
       " 9000  2015-12-29 06:37:06      Community   \n",
       " 10013 2015-12-28 13:39:18      Community   \n",
       " 6309  2015-12-31 11:14:58      Community   \n",
       " 9900  2015-12-28 09:23:09      Community   \n",
       " 6452  2015-12-30 16:27:55      Community   \n",
       " 9841  2015-12-26 21:29:28      Community   \n",
       " 6579  2015-12-26 13:39:42  Mozilla Staff   \n",
       " 9077  2015-12-26 07:44:57      Community   \n",
       " 10038 2015-12-26 06:24:11      Community   \n",
       " 9590  2015-12-26 06:13:31      Community   \n",
       " 7331  2015-12-30 19:36:02      Community   \n",
       " 9610  2015-12-25 13:36:15      Community   \n",
       " 9762  2015-12-25 03:52:14      Community   \n",
       " 11534 2015-12-24 23:04:44      Community   \n",
       " 11805 2015-12-24 20:22:22      Community   \n",
       " ...                   ...            ...   \n",
       " 851   1998-07-10 17:29:03      Community   \n",
       " 2436  1998-05-15 18:49:17      Community   \n",
       " 2246  1998-06-09 22:41:49      Community   \n",
       " 1496  1998-07-14 22:52:07      Community   \n",
       " 866   1998-07-14 18:43:47      Community   \n",
       " 1498  1998-07-09 23:00:29      Community   \n",
       " 967   1998-07-15 17:04:56      Community   \n",
       " 1532  1998-07-15 16:33:40      Community   \n",
       " 1530  1998-07-15 00:37:11      Community   \n",
       " 2065  1998-05-27 07:33:12      Community   \n",
       " 279   1998-07-15 18:55:53      Community   \n",
       " 2371  1998-05-28 18:20:00      Community   \n",
       " 2446  1998-07-01 22:36:44      Community   \n",
       " 1385  1998-07-02 02:39:54      Community   \n",
       " 883   1998-07-15 10:34:34      Community   \n",
       " 1573  1998-07-09 02:19:37      Community   \n",
       " 3061  1998-06-23 02:32:45      Community   \n",
       " 1550  1998-07-09 16:42:08      Community   \n",
       " 713   1998-07-15 17:03:53      Community   \n",
       " 1112  1998-07-01 05:13:10      Community   \n",
       " 990   1998-07-10 22:19:56      Community   \n",
       " 2111  1998-07-15 17:26:32      Community   \n",
       " 1493  1998-07-10 17:22:06      Community   \n",
       " 1805  1998-07-02 20:03:03      Community   \n",
       " 6829  1998-03-30 01:59:34      Community   \n",
       " 1689  1998-07-14 21:13:23      Community   \n",
       " 3079  1998-06-22 21:28:47      Community   \n",
       " 4975  2014-01-19 00:00:00      Community   \n",
       " 8541  1998-03-27 00:00:00      Community   \n",
       " 236   2015-11-23 20:20:00  Mozilla Staff   \n",
       " \n",
       "                                                repo_name  active_years project  \n",
       " 10637             https://github.com/mozilla/bedrock.git           0.0     All  \n",
       " 8018   https://github.com/mozilla/spiderweb-spidernod...           0.0     All  \n",
       " 8153           https://github.com/mozilla/spidernode.git           0.0     All  \n",
       " 10110              https://github.com/rust-lang/libc.git           0.0     All  \n",
       " 10836                  https://github.com/mozilla/rr.git           0.0     All  \n",
       " 9241          https://github.com/mozilla/mig-sandbox.git           0.0     All  \n",
       " 6600       https://github.com/mozilla/gecko-projects.git           0.0     All  \n",
       " 8753          https://github.com/mozilla/mig-sandbox.git           0.0     All  \n",
       " 8263                    https://github.com/mozfr/www.git           0.0     All  \n",
       " 10754     https://github.com/aframevr/awesome-aframe.git           0.0     All  \n",
       " 9486        https://github.com/mozilla/mozregression.git           0.0     All  \n",
       " 9264               https://github.com/rust-lang/book.git           0.0     All  \n",
       " 6141           https://github.com/mozilla/spidernode.git           0.0     All  \n",
       " 11599   https://github.com/rust-lang/rust-by-example.git           0.0     All  \n",
       " 8177   https://github.com/mozilla/spiderweb-spidernod...           0.0     All  \n",
       " 9000               https://github.com/rust-lang/rust.git           0.0     All  \n",
       " 10013               https://github.com/mozfr/nightly.git           0.0     All  \n",
       " 6309   https://github.com/mozilla/spiderweb-spidernod...           0.0     All  \n",
       " 9900   https://github.com/mozilla-mobile/firefox-ios.git           0.0     All  \n",
       " 6452               https://github.com/rust-lang/rust.git           0.0     All  \n",
       " 9841               https://github.com/rust-lang/rust.git           0.0     All  \n",
       " 6579             https://github.com/mozilla/positron.git           0.0     All  \n",
       " 9077        https://github.com/aframevr/aframe-react.git           0.0     All  \n",
       " 10038              https://github.com/servo/rust-url.git           0.0     All  \n",
       " 9590               https://github.com/rust-lang/libc.git           0.0     All  \n",
       " 7331          https://github.com/mozilla/payments-ui.git           0.0     All  \n",
       " 9610          https://github.com/moztw/www.moztw.org.git           0.0     All  \n",
       " 9762                 https://github.com/mozilla/kuma.git           0.0     All  \n",
       " 11534     https://github.com/mozilla/tofino-electron.git           0.0     All  \n",
       " 11805     https://github.com/mozilla/tofino-electron.git           0.0     All  \n",
       " ...                                                  ...           ...     ...  \n",
       " 851        https://github.com/mozilla/gecko-projects.git           0.0     All  \n",
       " 2436            https://github.com/mozilla/gecko-dev.git           0.0     All  \n",
       " 2246       https://github.com/mozilla/gecko-projects.git           0.0     All  \n",
       " 1496       https://github.com/mozilla/gecko-projects.git           0.0     All  \n",
       " 866    https://github.com/mozilla/universal-search-ge...           0.0     All  \n",
       " 1498       https://github.com/mozilla/gecko-projects.git           0.0     All  \n",
       " 967             https://github.com/mozilla/gecko-dev.git           0.0     All  \n",
       " 1532   https://github.com/mozilla/universal-search-ge...           0.0     All  \n",
       " 1530   https://github.com/mozilla/universal-search-ge...           0.0     All  \n",
       " 2065   https://github.com/mozilla/universal-search-ge...           0.0     All  \n",
       " 279        https://github.com/mozilla/gecko-projects.git           0.0     All  \n",
       " 2371           https://github.com/mozilla/newtab-dev.git           0.0     All  \n",
       " 2446           https://github.com/mozilla/newtab-dev.git           0.0     All  \n",
       " 1385            https://github.com/mozilla/gecko-dev.git           0.0     All  \n",
       " 883             https://github.com/mozilla/gecko-dev.git           0.0     All  \n",
       " 1573       https://github.com/mozilla/gecko-projects.git           0.0     All  \n",
       " 3061   https://github.com/mozilla/universal-search-ge...           0.0     All  \n",
       " 1550       https://github.com/mozilla/gecko-projects.git           0.0     All  \n",
       " 713             https://github.com/mozilla/gecko-dev.git           0.0     All  \n",
       " 1112            https://github.com/mozilla/gecko-dev.git           0.0     All  \n",
       " 990        https://github.com/mozilla/gecko-projects.git           0.0     All  \n",
       " 2111            https://github.com/mozilla/gecko-dev.git           0.0     All  \n",
       " 1493             https://github.com/mozilla/positron.git           0.0     All  \n",
       " 1805           https://github.com/mozilla/newtab-dev.git           0.0     All  \n",
       " 6829   https://github.com/mozilla/universal-search-ge...           0.0     All  \n",
       " 1689             https://github.com/mozilla/positron.git           0.0     All  \n",
       " 3079            https://github.com/mozilla/gecko-dev.git           0.0     All  \n",
       " 4975              https://github.com/mozilla/mozjpeg.git          15.0     All  \n",
       " 8541              https://github.com/mozilla/mozjpeg.git           0.0     All  \n",
       " 236                  https://github.com/servo/libpng.git          17.0     All  \n",
       " \n",
       " [11951 rows x 7 columns],\n",
       "                                         author        first_commit  \\\n",
       " 9191  dceffa60fbb651451613323e2a8942541ac97d02 2014-12-31 18:52:27   \n",
       " 7705  10945e2e1f3fb1a970a6057b668705373c1a989d 2014-12-30 22:10:30   \n",
       " 8439  66c6ea4e1cc405cd50d805889fca98bd884a835d 2014-12-30 19:43:16   \n",
       " 7625  07e9a0923824f7ab7a297fcb038eb18cdefe4739 2014-12-30 19:23:16   \n",
       " 6874  1ef99d36c018734d3d4403a9f476dc1752448dd2 2014-12-30 17:16:56   \n",
       " 8659  84a16d2ce4135a7b9d4351ed59a190d38c232243 2014-12-30 16:54:39   \n",
       " 8303  54d322fc336de09a54a339e8da2b1caf4453c948 2014-12-30 14:13:41   \n",
       " 8175  45c5e6f5a788500c8255fe29941166d92385b7ad 2014-12-30 14:13:36   \n",
       " 5223  6eaa0089721c8cc519705f3ea8215d45d3a456c7 2014-12-30 14:07:57   \n",
       " 8366  5cc9abc7867e75e9b4d9c725a1ea31252d5032ca 2014-12-30 13:32:25   \n",
       " 6908  25f7b54a555c5030886849b2231441053962ef0e 2014-12-30 07:38:23   \n",
       " 8560  76c8c69b7c495eda7da05a9dd5ac1cb204d62a61 2014-12-30 04:20:24   \n",
       " 4283  4143e69cc78d974a66082d3fa781241d67c80a13 2014-12-30 00:54:46   \n",
       " 8324  57aba44900a7bdde45d2581fb39b45feeb5bdf23 2014-12-29 22:16:53   \n",
       " 8331  589eff5a6d27688c6aafb76071d2218bd225d31d 2014-12-29 16:20:17   \n",
       " 8160  438fc533df9d206246480d1e6ac985b2ba1d8e21 2014-12-29 12:36:46   \n",
       " 8294  53c58b0856c591dc68001ac568c4b7f4fe674dcb 2014-12-29 07:12:45   \n",
       " 8285  52c5a6b49c6408004f269085de8ec1556c103ba0 2014-12-29 04:44:18   \n",
       " 8900  abdda4bfefe7b22200248ea2428a33d979a2f5ae 2014-12-29 02:26:31   \n",
       " 9080  cc571f404440232eede9441acdfa091824b1ef70 2014-12-28 22:37:09   \n",
       " 4393  f8bdb372b32076065652bc8027e8a66cf4301878 2014-12-28 22:22:48   \n",
       " 5286  8dc36cda40161df51bc5a6c39862c991c53bf542 2014-12-28 19:33:37   \n",
       " 7156  670cdbfb2d8cb76a1937c7124a3c29ae5e3c4608 2014-12-28 16:51:00   \n",
       " 6877  1fc515e8a96011f3d999e6300a418939c94a8054 2014-12-28 15:44:03   \n",
       " 5329  a344b1a1c109c233087034445600984f85db855e 2014-12-28 00:38:00   \n",
       " 9035  c2a63314b7c89fc8ac2fbc92b8e9dc68e7ad001b 2014-12-27 23:47:16   \n",
       " 7336  a10268e2f071f802198dbdd37d2d91fec053937a 2014-12-27 22:45:13   \n",
       " 8293  539a4dc0ca84b0f6c2d49fbff7b104fa3fe543c7 2014-12-27 21:08:47   \n",
       " 7525  f366a5b9693b0592d36934a6d23b033ade3b0dd9 2014-12-27 19:48:16   \n",
       " 5227  70a29817be00a273ef2ae084ebc568c56a0620f4 2014-12-27 12:48:27   \n",
       " ...                                        ...                 ...   \n",
       " 770   5e8873da77bfc73b744c8ef257eede9cce53c04f 1998-04-14 19:26:42   \n",
       " 2187  069d7fbce4c27ff1d7866e0732fff1ccbd6a6476 1998-04-14 18:14:55   \n",
       " 2029  6565db00622ee1261c295d44f8b883a2f363df1c 1998-04-14 17:29:44   \n",
       " 1381  47ac23f0868d747b6d9d61c596c226fbee59919e 1998-04-14 16:53:16   \n",
       " 780   8426e77b1adabfc17cf61da651a0194683856612 1998-04-14 01:49:20   \n",
       " 1383  97546fd53af5fa01ce7090030f41a94f7157a22b 1998-04-14 01:24:06   \n",
       " 883   a2522930974eb40699e11ecf43ff2d51799161d4 1998-04-14 00:31:59   \n",
       " 1422  fe5fd18b94c889e8934bfbabbd976f5ea6686443 1998-04-13 23:58:48   \n",
       " 1419  9861a7175cf51bf91a8c627eead1ccee3081dabd 1998-04-13 23:56:35   \n",
       " 1874  c939ef8317b162b4daaad54fdfd77ceaad6fd4ce 1998-04-13 21:07:10   \n",
       " 246   4782bfeacd4153cda87b5f1111afee53ac1187ee 1998-04-13 20:24:54   \n",
       " 2134  e7e12cca5bb66ad7d4a40d7f1f8f66f0082e7324 1998-04-09 03:54:33   \n",
       " 2197  38a3bfe8ad27c5843eb55868ae23422db0b971c8 1998-04-09 00:07:08   \n",
       " 1279  887002ff63d3f1b7a54ed99ca39aa8422e660f15 1998-04-08 21:23:19   \n",
       " 798   d2d0ee7863d5a2400c69c490942ce407385d185b 1998-04-08 04:20:39   \n",
       " 1454  3320ad91ab9ba8156863b4e8d3ca0b7ddcf11dde 1998-04-08 04:04:58   \n",
       " 2709  7e6e1bd0112ae67da0fb5256daec2ef7adad9778 1998-04-08 01:47:23   \n",
       " 1438  52d75e285d275e0b47723fedf669281f00ddde2e 1998-04-07 23:30:24   \n",
       " 646   431b3b9443363d840dc45885370dce1ebf0bb6df 1998-04-07 20:41:06   \n",
       " 1021  856e9a14c44a9e771c6f940145b26575c81e2228 1998-04-07 20:36:46   \n",
       " 899   2ca3b7c9678c67a58174dbc2e5e91f2a04b019e6 1998-04-06 23:54:42   \n",
       " 1915  d95d6e15648451cfc45885ee0de13b85f412403a 1998-03-30 23:59:41   \n",
       " 1379  2a205325afe7a7ba7f2e44ab0b0f7a0dc5a9de00 1998-03-30 23:30:00   \n",
       " 1659  c612c17daa0436547fdf8dde7038b13ddc77f0d9 1998-03-30 23:15:36   \n",
       " 5687  fee82d83c32b57da8be70bb1a60fdd18945a4d89 1998-03-30 01:59:34   \n",
       " 1547  360bda5d687dec2cadfb804f08c53e32c9a00a27 1998-03-29 21:51:40   \n",
       " 2727  be4def1ae593ac3e9a3e6a7d3eb847e93bb21bb2 1998-03-28 02:44:41   \n",
       " 4195  ea866ddbc4b20d4f191bcdecd514b76e22341c39 1998-03-28 00:00:00   \n",
       " 6922  290509554a8d2cd7f0c6f5cfb1c1048e86615fb2 1998-03-27 00:00:00   \n",
       " 222   5ab67497e1980994af3ffe34e602401ea09237e2 1998-01-01 07:13:13   \n",
       " \n",
       "              last_commit            org  \\\n",
       " 9191 2014-12-31 18:52:27      Community   \n",
       " 7705 2014-12-30 22:10:30      Community   \n",
       " 8439 2014-12-30 19:43:16      Community   \n",
       " 7625 2014-12-30 19:23:16      Community   \n",
       " 6874 2014-12-30 17:36:23      Community   \n",
       " 8659 2014-12-30 16:54:39      Community   \n",
       " 8303 2014-12-30 14:13:41      Community   \n",
       " 8175 2014-12-30 14:13:36      Community   \n",
       " 5223 2014-12-30 14:07:57      Community   \n",
       " 8366 2014-12-30 13:32:25      Community   \n",
       " 6908 2014-12-30 08:22:31      Community   \n",
       " 8560 2014-12-30 04:20:24      Community   \n",
       " 4283 2014-12-31 15:02:54      Community   \n",
       " 8324 2014-12-29 22:16:53      Community   \n",
       " 8331 2014-12-29 16:20:17      Community   \n",
       " 8160 2014-12-29 12:36:46      Community   \n",
       " 8294 2014-12-29 07:12:45      Community   \n",
       " 8285 2014-12-29 04:44:18      Community   \n",
       " 8900 2014-12-29 02:26:31      Community   \n",
       " 9080 2014-12-28 22:37:09      Community   \n",
       " 4393 2014-12-30 22:49:58      Community   \n",
       " 5286 2014-12-28 19:33:37      Community   \n",
       " 7156 2014-12-28 17:44:33      Community   \n",
       " 6877 2014-12-30 19:49:02      Community   \n",
       " 5329 2014-12-30 08:34:23      Community   \n",
       " 9035 2014-12-27 23:47:16      Community   \n",
       " 7336 2014-12-28 12:24:27      Community   \n",
       " 8293 2014-12-27 21:08:47      Community   \n",
       " 7525 2014-12-27 22:03:03      Community   \n",
       " 5227 2014-12-27 12:48:27      Community   \n",
       " ...                  ...            ...   \n",
       " 770  1998-07-10 17:29:03      Community   \n",
       " 2187 1998-05-15 18:49:17      Community   \n",
       " 2029 1998-06-09 22:41:49      Community   \n",
       " 1381 1998-07-14 22:52:07      Community   \n",
       " 780  1998-07-14 18:43:47      Community   \n",
       " 1383 1998-07-09 23:00:29      Community   \n",
       " 883  1998-07-15 17:04:56      Community   \n",
       " 1422 1998-07-15 16:33:40      Community   \n",
       " 1419 1998-07-15 00:37:11      Community   \n",
       " 1874 1998-05-27 07:33:12      Community   \n",
       " 246  1998-07-15 18:55:53      Community   \n",
       " 2134 1998-05-28 18:20:00      Community   \n",
       " 2197 1998-07-01 22:36:44      Community   \n",
       " 1279 1998-07-02 02:39:54      Community   \n",
       " 798  1998-07-15 10:34:34      Community   \n",
       " 1454 1998-07-09 02:19:37      Community   \n",
       " 2709 1998-06-23 02:32:45      Community   \n",
       " 1438 1998-07-09 16:42:08      Community   \n",
       " 646  1998-07-15 17:03:53      Community   \n",
       " 1021 1998-07-01 05:13:10      Community   \n",
       " 899  1998-07-10 22:19:56      Community   \n",
       " 1915 1998-07-15 17:26:32      Community   \n",
       " 1379 1998-07-10 17:22:06      Community   \n",
       " 1659 1998-07-02 20:03:03      Community   \n",
       " 5687 1998-03-30 01:59:34      Community   \n",
       " 1547 1998-07-14 21:13:23      Community   \n",
       " 2727 1998-06-22 21:28:47      Community   \n",
       " 4195 2014-01-19 00:00:00      Community   \n",
       " 6922 1998-03-27 00:00:00      Community   \n",
       " 222  2014-12-23 06:44:00  Mozilla Staff   \n",
       " \n",
       "                                               repo_name  active_years project  \n",
       " 9191  https://github.com/mozilla/interest-dashboard.git           0.0     All  \n",
       " 7705           https://github.com/mozilla/addon-sdk.git           0.0     All  \n",
       " 8439          https://github.com/mozilla/mozillians.git           0.0     All  \n",
       " 7625              https://github.com/rust-lang/rust.git           0.0     All  \n",
       " 6874       https://github.com/mozillahispano/coseme.git           0.0     All  \n",
       " 8659             https://github.com/mozilla/socorro.git           0.0     All  \n",
       " 8303      https://github.com/mozillabrasil/kanboard.git           0.0     All  \n",
       " 8175             https://github.com/rust-lang/cargo.git           0.0     All  \n",
       " 5223           https://github.com/mozilla/spiderweb.git           0.0     All  \n",
       " 8366               https://github.com/mozilla/angle.git           0.0     All  \n",
       " 6908       https://github.com/mozillahispano/coseme.git           0.0     All  \n",
       " 8560              https://github.com/rust-lang/rust.git           0.0     All  \n",
       " 4283  https://github.com/MozillaItalia/firefoxos-qui...           0.0     All  \n",
       " 8324              https://github.com/rust-lang/rust.git           0.0     All  \n",
       " 8331        https://github.com/mozilla/node-convict.git           0.0     All  \n",
       " 8160              https://github.com/servo/cocoa-rs.git           0.0     All  \n",
       " 8294         https://github.com/mozilla/build-talos.git           0.0     All  \n",
       " 8285    https://github.com/mozilla/django-browserid.git           0.0     All  \n",
       " 8900             https://github.com/mdn/js-examples.git           0.0     All  \n",
       " 9080              https://github.com/rust-lang/rust.git           0.0     All  \n",
       " 4393              https://github.com/rust-lang/rfcs.git           0.0     All  \n",
       " 5286  https://github.com/mozilla/universal-search-ge...           0.0     All  \n",
       " 7156              https://github.com/rust-lang/rust.git           0.0     All  \n",
       " 6877                 https://github.com/servo/servo.git           0.0     All  \n",
       " 5329                 https://github.com/servo/servo.git           0.0     All  \n",
       " 9035          https://github.com/servo/rust-bindgen.git           0.0     All  \n",
       " 7336              https://github.com/rust-lang/rust.git           0.0     All  \n",
       " 8293              https://github.com/rust-lang/rust.git           0.0     All  \n",
       " 7525                https://github.com/mozilla/kuma.git           0.0     All  \n",
       " 5227           https://github.com/mozilla/spiderweb.git           0.0     All  \n",
       " ...                                                 ...           ...     ...  \n",
       " 770       https://github.com/mozilla/gecko-projects.git           0.0     All  \n",
       " 2187           https://github.com/mozilla/gecko-dev.git           0.0     All  \n",
       " 2029      https://github.com/mozilla/gecko-projects.git           0.0     All  \n",
       " 1381      https://github.com/mozilla/gecko-projects.git           0.0     All  \n",
       " 780   https://github.com/mozilla/universal-search-ge...           0.0     All  \n",
       " 1383      https://github.com/mozilla/gecko-projects.git           0.0     All  \n",
       " 883            https://github.com/mozilla/gecko-dev.git           0.0     All  \n",
       " 1422  https://github.com/mozilla/universal-search-ge...           0.0     All  \n",
       " 1419  https://github.com/mozilla/universal-search-ge...           0.0     All  \n",
       " 1874  https://github.com/mozilla/universal-search-ge...           0.0     All  \n",
       " 246       https://github.com/mozilla/gecko-projects.git           0.0     All  \n",
       " 2134          https://github.com/mozilla/newtab-dev.git           0.0     All  \n",
       " 2197          https://github.com/mozilla/newtab-dev.git           0.0     All  \n",
       " 1279           https://github.com/mozilla/gecko-dev.git           0.0     All  \n",
       " 798            https://github.com/mozilla/gecko-dev.git           0.0     All  \n",
       " 1454      https://github.com/mozilla/gecko-projects.git           0.0     All  \n",
       " 2709  https://github.com/mozilla/universal-search-ge...           0.0     All  \n",
       " 1438      https://github.com/mozilla/gecko-projects.git           0.0     All  \n",
       " 646            https://github.com/mozilla/gecko-dev.git           0.0     All  \n",
       " 1021           https://github.com/mozilla/gecko-dev.git           0.0     All  \n",
       " 899       https://github.com/mozilla/gecko-projects.git           0.0     All  \n",
       " 1915           https://github.com/mozilla/gecko-dev.git           0.0     All  \n",
       " 1379            https://github.com/mozilla/positron.git           0.0     All  \n",
       " 1659          https://github.com/mozilla/newtab-dev.git           0.0     All  \n",
       " 5687  https://github.com/mozilla/universal-search-ge...           0.0     All  \n",
       " 1547            https://github.com/mozilla/positron.git           0.0     All  \n",
       " 2727           https://github.com/mozilla/gecko-dev.git           0.0     All  \n",
       " 4195             https://github.com/mozilla/mozjpeg.git          15.0     All  \n",
       " 6922             https://github.com/mozilla/mozjpeg.git           0.0     All  \n",
       " 222                 https://github.com/servo/libpng.git          16.0     All  \n",
       " \n",
       " [9380 rows x 7 columns],\n",
       "                                         author        first_commit  \\\n",
       " 5902  0df32f19b2489045f5c72f8fb0f5ee3a400466e7 2014-01-01 02:41:20   \n",
       " 5806  f402fc16c829a0e6ebc2ff573ff502afa2319cae 2013-12-31 14:19:36   \n",
       " 6355  64823319f47f5cd56e745dcaf62c994cb359b624 2013-12-29 16:06:55   \n",
       " 6756  bda7f1150b666c54a24d07b0ecfed3ae603e7856 2013-12-29 12:21:26   \n",
       " 6670  a63a6380dd8b65e979bb20b491a9cb67dc9833ed 2013-12-28 18:01:53   \n",
       " 4277  a8de1e705c699e14daaba6d6363437dc9a979bca 2013-12-27 17:44:07   \n",
       " 5069  91f24077b2d91747d2d889effdc05560fcffdc91 2013-12-27 14:39:55   \n",
       " 3213  e790e644835b1ce52978b5992649e3609079d089 2013-12-26 23:11:57   \n",
       " 6188  43dae66d39a18d653ea6c51bef0d274cc811c560 2013-12-26 12:49:03   \n",
       " 3923  0176e58840fb0703b3bdcee384c48ce2d4e19868 2013-12-25 22:08:10   \n",
       " 5879  089b5d58eb831dcf20b006f34953312773a82615 2013-12-25 11:55:25   \n",
       " 4091  411db8535623ff1bd1d8d3e2043033a8b8a94af6 2013-12-24 17:31:00   \n",
       " 6830  d51e0b353d82deff44fc31cffe7d15423acc0253 2013-12-24 12:38:52   \n",
       " 4050  2cce78080e5a1c79a93e2f735bdc5caede3de067 2013-12-23 16:51:56   \n",
       " 4024  215b458de1a8b5e993c6155883a41bbdff36a278 2013-12-23 09:03:25   \n",
       " 5294  0798b6a186d5128d6342c651410d51a2c783f9a9 2013-12-22 21:37:33   \n",
       " 5860  05b20cfbedcc8419f1503d708324400bd38bacfa 2013-12-22 18:50:37   \n",
       " 5383  25229a2aa213a6c077b73e688a25fe4dc3bd0fee 2013-12-22 03:09:36   \n",
       " 5437  35bfd98065637afded284e543b8c5224cd823427 2013-12-22 00:58:55   \n",
       " 4380  118f5e2f45c160dd636efbf1b8ada9a26d134d03 2013-12-21 17:29:48   \n",
       " 3331  1e32cbaaba1960122dff0fb89ea07a128de7ef1d 2013-12-20 23:46:27   \n",
       " 5702  ac26cb54c0ccf27fadc63f15d07e3246fe4d2642 2013-12-20 17:02:29   \n",
       " 6017  231cd21a611a2f4ba4d2fd782e5b579e71a05df2 2013-12-20 13:06:42   \n",
       " 6881  e10760af5625b39a5bf77e1af9b02ad553e1acab 2013-12-19 16:18:44   \n",
       " 2743  b163343ce270d4ed1b079c7b71aca3c05a080406 2013-12-19 11:42:19   \n",
       " 6947  f342191712bc72d0f171dacaf97021eb40607701 2013-12-19 09:51:53   \n",
       " 5804  f0a4c38a01eaf846ace6ab48a426b4cd45b2756f 2013-12-19 08:18:47   \n",
       " 4118  4a3942f8e42f3644e17e8b459d11253ebf1a8029 2013-12-18 16:28:32   \n",
       " 3099  2a96fc44848fa13f545753b166e8a28879898943 2013-12-18 15:57:48   \n",
       " 6230  4b02cb285fa031a66ba3893802c2e5df6a41b54b 2013-12-17 22:07:28   \n",
       " ...                                        ...                 ...   \n",
       " 693   5e8873da77bfc73b744c8ef257eede9cce53c04f 1998-04-14 19:26:42   \n",
       " 1884  069d7fbce4c27ff1d7866e0732fff1ccbd6a6476 1998-04-14 18:14:55   \n",
       " 1762  6565db00622ee1261c295d44f8b883a2f363df1c 1998-04-14 17:29:44   \n",
       " 1210  47ac23f0868d747b6d9d61c596c226fbee59919e 1998-04-14 16:53:16   \n",
       " 705   8426e77b1adabfc17cf61da651a0194683856612 1998-04-14 01:49:20   \n",
       " 1211  97546fd53af5fa01ce7090030f41a94f7157a22b 1998-04-14 01:24:06   \n",
       " 784   a2522930974eb40699e11ecf43ff2d51799161d4 1998-04-14 00:31:59   \n",
       " 1243  fe5fd18b94c889e8934bfbabbd976f5ea6686443 1998-04-13 23:58:48   \n",
       " 1241  9861a7175cf51bf91a8c627eead1ccee3081dabd 1998-04-13 23:56:35   \n",
       " 1638  c939ef8317b162b4daaad54fdfd77ceaad6fd4ce 1998-04-13 21:07:10   \n",
       " 211   4782bfeacd4153cda87b5f1111afee53ac1187ee 1998-04-13 20:24:54   \n",
       " 1844  e7e12cca5bb66ad7d4a40d7f1f8f66f0082e7324 1998-04-09 03:54:33   \n",
       " 1892  38a3bfe8ad27c5843eb55868ae23422db0b971c8 1998-04-09 00:07:08   \n",
       " 1118  887002ff63d3f1b7a54ed99ca39aa8422e660f15 1998-04-08 21:23:19   \n",
       " 713   d2d0ee7863d5a2400c69c490942ce407385d185b 1998-04-08 04:20:39   \n",
       " 1273  3320ad91ab9ba8156863b4e8d3ca0b7ddcf11dde 1998-04-08 04:04:58   \n",
       " 2310  7e6e1bd0112ae67da0fb5256daec2ef7adad9778 1998-04-08 01:47:23   \n",
       " 1257  52d75e285d275e0b47723fedf669281f00ddde2e 1998-04-07 23:30:24   \n",
       " 566   431b3b9443363d840dc45885370dce1ebf0bb6df 1998-04-07 20:41:06   \n",
       " 908   856e9a14c44a9e771c6f940145b26575c81e2228 1998-04-07 20:36:46   \n",
       " 797   2ca3b7c9678c67a58174dbc2e5e91f2a04b019e6 1998-04-06 23:54:42   \n",
       " 1672  d95d6e15648451cfc45885ee0de13b85f412403a 1998-03-30 23:59:41   \n",
       " 1209  2a205325afe7a7ba7f2e44ab0b0f7a0dc5a9de00 1998-03-30 23:30:00   \n",
       " 1456  c612c17daa0436547fdf8dde7038b13ddc77f0d9 1998-03-30 23:15:36   \n",
       " 4537  fee82d83c32b57da8be70bb1a60fdd18945a4d89 1998-03-30 01:59:34   \n",
       " 1362  360bda5d687dec2cadfb804f08c53e32c9a00a27 1998-03-29 21:51:40   \n",
       " 2322  be4def1ae593ac3e9a3e6a7d3eb847e93bb21bb2 1998-03-28 02:44:41   \n",
       " 3548  ea866ddbc4b20d4f191bcdecd514b76e22341c39 1998-03-28 00:00:00   \n",
       " 5393  290509554a8d2cd7f0c6f5cfb1c1048e86615fb2 1998-03-27 00:00:00   \n",
       " 200   5ab67497e1980994af3ffe34e602401ea09237e2 1998-01-01 07:13:13   \n",
       " \n",
       "              last_commit            org  \\\n",
       " 5902 2014-01-01 02:41:20      Community   \n",
       " 5806 2013-12-31 14:19:36      Community   \n",
       " 6355 2013-12-29 16:06:55  Mozilla Staff   \n",
       " 6756 2013-12-29 12:21:26      Community   \n",
       " 6670 2013-12-28 18:01:53      Community   \n",
       " 4277 2013-12-27 17:44:07  Mozilla Staff   \n",
       " 5069 2013-12-27 14:39:55      Community   \n",
       " 3213 2013-12-30 22:14:54      Community   \n",
       " 6188 2013-12-26 12:49:03      Community   \n",
       " 3923 2013-12-30 19:51:51      Community   \n",
       " 5879 2013-12-25 11:55:25      Community   \n",
       " 4091 2013-12-24 17:31:00      Community   \n",
       " 6830 2013-12-24 12:38:52      Community   \n",
       " 4050 2013-12-23 16:51:56      Community   \n",
       " 4024 2013-12-23 09:03:25      Community   \n",
       " 5294 2013-12-22 21:38:55      Community   \n",
       " 5860 2013-12-22 18:50:37      Community   \n",
       " 5383 2013-12-26 17:23:17      Community   \n",
       " 5437 2013-12-29 00:14:43      Community   \n",
       " 4380 2013-12-31 00:51:11      Community   \n",
       " 3331 2013-12-22 05:16:38      Community   \n",
       " 5702 2013-12-31 08:22:53      Community   \n",
       " 6017 2013-12-20 13:06:42      Community   \n",
       " 6881 2013-12-19 16:18:44      Community   \n",
       " 2743 2013-12-20 14:00:00  Mozilla Staff   \n",
       " 6947 2013-12-19 09:51:53      Community   \n",
       " 5804 2013-12-28 22:33:29      Community   \n",
       " 4118 2013-12-18 16:28:32      Community   \n",
       " 3099 2013-12-23 11:27:16      Community   \n",
       " 6230 2013-12-17 22:07:28      Community   \n",
       " ...                  ...            ...   \n",
       " 693  1998-07-10 17:29:03      Community   \n",
       " 1884 1998-05-15 18:49:17      Community   \n",
       " 1762 1998-06-09 22:41:49      Community   \n",
       " 1210 1998-07-14 22:52:07      Community   \n",
       " 705  1998-07-14 18:43:47      Community   \n",
       " 1211 1998-07-09 23:00:29      Community   \n",
       " 784  1998-07-15 17:04:56      Community   \n",
       " 1243 1998-07-15 16:33:40      Community   \n",
       " 1241 1998-07-15 00:37:11      Community   \n",
       " 1638 1998-05-27 07:33:12      Community   \n",
       " 211  1998-07-15 18:55:53      Community   \n",
       " 1844 1998-05-28 18:20:00      Community   \n",
       " 1892 1998-07-01 22:36:44      Community   \n",
       " 1118 1998-07-02 02:39:54      Community   \n",
       " 713  1998-07-15 10:34:34      Community   \n",
       " 1273 1998-07-09 02:19:37      Community   \n",
       " 2310 1998-06-23 02:32:45      Community   \n",
       " 1257 1998-07-09 16:42:08      Community   \n",
       " 566  1998-07-15 17:03:53      Community   \n",
       " 908  1998-07-01 05:13:10      Community   \n",
       " 797  1998-07-10 22:19:56      Community   \n",
       " 1672 1998-07-15 17:26:32      Community   \n",
       " 1209 1998-07-10 17:22:06      Community   \n",
       " 1456 1998-07-02 20:03:03      Community   \n",
       " 4537 1998-03-30 01:59:34      Community   \n",
       " 1362 1998-07-14 21:13:23      Community   \n",
       " 2322 1998-06-22 21:28:47      Community   \n",
       " 3548 2013-01-13 00:00:00      Community   \n",
       " 5393 1998-03-27 00:00:00      Community   \n",
       " 200  2013-12-20 11:37:47  Mozilla Staff   \n",
       " \n",
       "                                               repo_name  active_years project  \n",
       " 5902  https://github.com/MozillaKerala/communitymeet...           0.0     All  \n",
       " 5806              https://github.com/rust-lang/rust.git           0.0     All  \n",
       " 6355              https://github.com/mozilla/pdf.js.git           0.0     All  \n",
       " 6756        https://github.com/mozilla/elasticutils.git           0.0     All  \n",
       " 6670              https://github.com/rust-lang/rust.git           0.0     All  \n",
       " 4277           https://github.com/mozilla/gecko-dev.git           0.0     All  \n",
       " 5069  https://github.com/mozilla/spiderweb-spidernod...           0.0     All  \n",
       " 3213  https://github.com/MozillaItalia/firefoxos-qui...           0.0     All  \n",
       " 6188       https://github.com/mozilla/ambient-boxen.git           0.0     All  \n",
       " 3923  https://github.com/mozilla/positron-spidernode...           0.0     All  \n",
       " 5879             https://github.com/mozilla/bedrock.git           0.0     All  \n",
       " 4091  https://github.com/mozilla/universal-search-ge...           0.0     All  \n",
       " 6830          https://github.com/mozilla/chatspaces.git           0.0     All  \n",
       " 4050           https://github.com/mozilla/gecko-dev.git           0.0     All  \n",
       " 4024  https://github.com/mozilla/universal-search-ge...           0.0     All  \n",
       " 5294              https://github.com/rust-lang/rust.git           0.0     All  \n",
       " 5860     https://github.com/mozillabrasil/participe.git           0.0     All  \n",
       " 5383        https://github.com/mozilla/webmaker.org.git           0.0     All  \n",
       " 5437       https://github.com/mozilla/ambient-boxen.git           0.0     All  \n",
       " 4380              https://github.com/rust-lang/rust.git           0.0     All  \n",
       " 3331             https://github.com/mozilla/zamboni.git           0.0     All  \n",
       " 5702          https://github.com/mozilla/i18n-abide.git           0.0     All  \n",
       " 6017           https://github.com/mozilla/spiderweb.git           0.0     All  \n",
       " 6881          https://github.com/mozilla/togetherjs.git           0.0     All  \n",
       " 2743  https://github.com/mozilla/universal-search-ge...           0.0     All  \n",
       " 6947          https://github.com/mozilla/mozillians.git           0.0     All  \n",
       " 5804              https://github.com/mozilla/pdf.js.git           0.0     All  \n",
       " 4118      https://github.com/mozilla/gecko-projects.git           0.0     All  \n",
       " 3099      https://github.com/mozilla/gecko-projects.git           0.0     All  \n",
       " 6230        https://github.com/mozilla/webmaker.org.git           0.0     All  \n",
       " ...                                                 ...           ...     ...  \n",
       " 693       https://github.com/mozilla/gecko-projects.git           0.0     All  \n",
       " 1884           https://github.com/mozilla/gecko-dev.git           0.0     All  \n",
       " 1762      https://github.com/mozilla/gecko-projects.git           0.0     All  \n",
       " 1210      https://github.com/mozilla/gecko-projects.git           0.0     All  \n",
       " 705   https://github.com/mozilla/universal-search-ge...           0.0     All  \n",
       " 1211      https://github.com/mozilla/gecko-projects.git           0.0     All  \n",
       " 784            https://github.com/mozilla/gecko-dev.git           0.0     All  \n",
       " 1243  https://github.com/mozilla/universal-search-ge...           0.0     All  \n",
       " 1241  https://github.com/mozilla/universal-search-ge...           0.0     All  \n",
       " 1638  https://github.com/mozilla/universal-search-ge...           0.0     All  \n",
       " 211       https://github.com/mozilla/gecko-projects.git           0.0     All  \n",
       " 1844          https://github.com/mozilla/newtab-dev.git           0.0     All  \n",
       " 1892          https://github.com/mozilla/newtab-dev.git           0.0     All  \n",
       " 1118           https://github.com/mozilla/gecko-dev.git           0.0     All  \n",
       " 713            https://github.com/mozilla/gecko-dev.git           0.0     All  \n",
       " 1273      https://github.com/mozilla/gecko-projects.git           0.0     All  \n",
       " 2310  https://github.com/mozilla/universal-search-ge...           0.0     All  \n",
       " 1257      https://github.com/mozilla/gecko-projects.git           0.0     All  \n",
       " 566            https://github.com/mozilla/gecko-dev.git           0.0     All  \n",
       " 908            https://github.com/mozilla/gecko-dev.git           0.0     All  \n",
       " 797       https://github.com/mozilla/gecko-projects.git           0.0     All  \n",
       " 1672           https://github.com/mozilla/gecko-dev.git           0.0     All  \n",
       " 1209            https://github.com/mozilla/positron.git           0.0     All  \n",
       " 1456          https://github.com/mozilla/newtab-dev.git           0.0     All  \n",
       " 4537  https://github.com/mozilla/universal-search-ge...           0.0     All  \n",
       " 1362            https://github.com/mozilla/positron.git           0.0     All  \n",
       " 2322           https://github.com/mozilla/gecko-dev.git           0.0     All  \n",
       " 3548             https://github.com/mozilla/mozjpeg.git          14.0     All  \n",
       " 5393             https://github.com/mozilla/mozjpeg.git           0.0     All  \n",
       " 200                 https://github.com/servo/libpng.git          15.0     All  \n",
       " \n",
       " [6990 rows x 7 columns],\n",
       "                                         author        first_commit  \\\n",
       " 4694  24e10253bff84bb4d642ea7026d30c953bc79088 2012-12-31 14:05:14   \n",
       " 4823  49c388a464c649a9b37512d9307b7b5b34119677 2012-12-31 09:59:45   \n",
       " 5010  81479cb76cef65e867fd7a6200a1c4a6a102c5c7 2012-12-30 11:49:08   \n",
       " 5285  e2d2202611433dc0f84eca191d01504d671a1848 2012-12-28 14:57:42   \n",
       " 3271  0c717f8c3633e3644afe133b78869d500687d011 2012-12-28 13:07:52   \n",
       " 4995  7dfcfddc8601e4632d5600cb6b7e177962f9562d 2012-12-28 09:24:47   \n",
       " 4971  75fdabe6c84a92b979d62026543c1c545941d5fa 2012-12-28 09:08:12   \n",
       " 5153  b19d3a8953ed73b84b918b1c8b40bd2e3282f3c2 2012-12-28 06:09:13   \n",
       " 4568  0183bd06d487bf71fd39a568ae892e3ec3079d82 2012-12-27 22:15:17   \n",
       " 4115  e80ab681dde25dcce80f487f1c0e1f65b7051a1f 2012-12-27 20:32:53   \n",
       " 3769  01a14606592290bfe66f59142ecba9c1aa592c11 2012-12-27 12:08:23   \n",
       " 2266  8335dcac02a61d62427b153b7904f0dea49f4413 2012-12-27 11:12:05   \n",
       " 5296  e885659e1ba02886b3188babaa0f478c85769f68 2012-12-27 06:16:16   \n",
       " 2249  217784d5087e55475cc9549412fdb7a7c7c52056 2012-12-26 20:38:11   \n",
       " 4223  23e3f2d89f795deea516f720f4e5205a737d5370 2012-12-24 19:05:39   \n",
       " 3600  e10953f7e8962a0eb0a62cddf8b0c066e684b82b 2012-12-24 18:52:53   \n",
       " 3446  b7d0be16dd93d359792a5281cb6712184fcfdb6f 2012-12-24 18:35:52   \n",
       " 4670  1fb5c5062864926e4ecd27d0257bfaea88d2fe21 2012-12-23 16:51:17   \n",
       " 5213  cb11e49e6ce330c5ab42627a82c3bdd698051138 2012-12-23 10:59:43   \n",
       " 2927  033011d52b8712ae6f0bc2b3ea12373066fac378 2012-12-23 10:59:43   \n",
       " 3218  c8cc26b44a5fd485dbd5b051cb7c676f7bb28948 2012-12-23 10:52:35   \n",
       " 4155  040d9150581ebbebea345e88387cc2158f994510 2012-12-23 03:01:00   \n",
       " 3695  69be7684d1380c8f7b89aba642c3e70fbf461ae4 2012-12-22 23:51:49   \n",
       " 4688  23972bef1602f2bf12135e9932b54cdef7963e6c 2012-12-22 16:46:51   \n",
       " 4894  61bdb2e0d0dfe71dc8a21b293ef115c5366228de 2012-12-22 12:40:27   \n",
       " 4859  548cc8159002e2c92c622c76c3b4de3798a43009 2012-12-21 23:43:12   \n",
       " 4875  5a4a4200a4b893b2b3b3ea1496314284b88f298b 2012-12-21 23:13:06   \n",
       " 4316  4c591730c63d12af7e7076297430ce9af8546206 2012-12-21 19:30:33   \n",
       " 3276  0dd673348d8356e128a25364e43d8cbe7e06d58d 2012-12-20 22:29:45   \n",
       " 4049  b7b465949002f62d2478f9f07ac0ccf59aa5c132 2012-12-20 18:27:57   \n",
       " ...                                        ...                 ...   \n",
       " 592   5e8873da77bfc73b744c8ef257eede9cce53c04f 1998-04-14 19:26:42   \n",
       " 1602  069d7fbce4c27ff1d7866e0732fff1ccbd6a6476 1998-04-14 18:14:55   \n",
       " 1513  6565db00622ee1261c295d44f8b883a2f363df1c 1998-04-14 17:29:44   \n",
       " 1048  47ac23f0868d747b6d9d61c596c226fbee59919e 1998-04-14 16:53:16   \n",
       " 603   8426e77b1adabfc17cf61da651a0194683856612 1998-04-14 01:49:20   \n",
       " 1049  97546fd53af5fa01ce7090030f41a94f7157a22b 1998-04-14 01:24:06   \n",
       " 683   a2522930974eb40699e11ecf43ff2d51799161d4 1998-04-14 00:31:59   \n",
       " 1075  fe5fd18b94c889e8934bfbabbd976f5ea6686443 1998-04-13 23:58:48   \n",
       " 1073  9861a7175cf51bf91a8c627eead1ccee3081dabd 1998-04-13 23:56:35   \n",
       " 1411  c939ef8317b162b4daaad54fdfd77ceaad6fd4ce 1998-04-13 21:07:10   \n",
       " 187   4782bfeacd4153cda87b5f1111afee53ac1187ee 1998-04-13 20:24:54   \n",
       " 1566  e7e12cca5bb66ad7d4a40d7f1f8f66f0082e7324 1998-04-09 03:54:33   \n",
       " 1606  38a3bfe8ad27c5843eb55868ae23422db0b971c8 1998-04-09 00:07:08   \n",
       " 972   887002ff63d3f1b7a54ed99ca39aa8422e660f15 1998-04-08 21:23:19   \n",
       " 615   d2d0ee7863d5a2400c69c490942ce407385d185b 1998-04-08 04:20:39   \n",
       " 1102  3320ad91ab9ba8156863b4e8d3ca0b7ddcf11dde 1998-04-08 04:04:58   \n",
       " 1943  7e6e1bd0112ae67da0fb5256daec2ef7adad9778 1998-04-08 01:47:23   \n",
       " 1088  52d75e285d275e0b47723fedf669281f00ddde2e 1998-04-07 23:30:24   \n",
       " 491   431b3b9443363d840dc45885370dce1ebf0bb6df 1998-04-07 20:41:06   \n",
       " 777   856e9a14c44a9e771c6f940145b26575c81e2228 1998-04-07 20:36:46   \n",
       " 694   2ca3b7c9678c67a58174dbc2e5e91f2a04b019e6 1998-04-06 23:54:42   \n",
       " 1441  d95d6e15648451cfc45885ee0de13b85f412403a 1998-03-30 23:59:41   \n",
       " 1047  2a205325afe7a7ba7f2e44ab0b0f7a0dc5a9de00 1998-03-30 23:30:00   \n",
       " 1251  c612c17daa0436547fdf8dde7038b13ddc77f0d9 1998-03-30 23:15:36   \n",
       " 3613  fee82d83c32b57da8be70bb1a60fdd18945a4d89 1998-03-30 01:59:34   \n",
       " 1171  360bda5d687dec2cadfb804f08c53e32c9a00a27 1998-03-29 21:51:40   \n",
       " 1953  be4def1ae593ac3e9a3e6a7d3eb847e93bb21bb2 1998-03-28 02:44:41   \n",
       " 3244  ea866ddbc4b20d4f191bcdecd514b76e22341c39 1998-03-28 00:00:00   \n",
       " 4236  290509554a8d2cd7f0c6f5cfb1c1048e86615fb2 1998-03-27 00:00:00   \n",
       " 208   5ab67497e1980994af3ffe34e602401ea09237e2 1998-01-01 07:13:13   \n",
       " \n",
       "              last_commit            org  \\\n",
       " 4694 2012-12-31 14:05:14      Community   \n",
       " 4823 2012-12-31 09:59:45      Community   \n",
       " 5010 2012-12-30 11:49:08      Community   \n",
       " 5285 2012-12-28 14:57:42      Community   \n",
       " 3271 2012-12-28 13:07:52      Community   \n",
       " 4995 2012-12-28 09:24:47      Community   \n",
       " 4971 2012-12-28 09:08:12      Community   \n",
       " 5153 2012-12-28 06:09:13      Community   \n",
       " 4568 2012-12-27 22:15:17  Mozilla Staff   \n",
       " 4115 2012-12-27 20:32:53      Community   \n",
       " 3769 2012-12-27 12:08:23      Community   \n",
       " 2266 2012-12-27 11:12:06      Community   \n",
       " 5296 2012-12-27 06:16:16      Community   \n",
       " 2249 2012-12-31 00:32:14  Mozilla Staff   \n",
       " 4223 2012-12-24 19:05:39      Community   \n",
       " 3600 2012-12-29 18:25:09      Community   \n",
       " 3446 2012-12-27 07:57:19      Community   \n",
       " 4670 2012-12-23 16:51:17  Mozilla Staff   \n",
       " 5213 2012-12-23 10:59:43      Community   \n",
       " 2927 2012-12-23 10:59:43      Community   \n",
       " 3218 2012-12-23 10:52:35      Community   \n",
       " 4155 2012-12-23 03:01:00      Community   \n",
       " 3695 2012-12-22 23:58:27      Community   \n",
       " 4688 2012-12-22 16:46:51  Mozilla Staff   \n",
       " 4894 2012-12-22 12:40:27      Community   \n",
       " 4859 2012-12-21 23:43:12      Community   \n",
       " 4875 2012-12-21 23:13:06      Community   \n",
       " 4316 2012-12-27 19:07:05      Community   \n",
       " 3276 2012-12-31 18:44:51      Community   \n",
       " 4049 2012-12-28 18:27:59      Community   \n",
       " ...                  ...            ...   \n",
       " 592  1998-07-10 17:29:03      Community   \n",
       " 1602 1998-05-15 18:49:17      Community   \n",
       " 1513 1998-06-09 22:41:49      Community   \n",
       " 1048 1998-07-14 22:52:07      Community   \n",
       " 603  1998-07-14 18:43:47      Community   \n",
       " 1049 1998-07-09 23:00:29      Community   \n",
       " 683  1998-07-15 17:04:56      Community   \n",
       " 1075 1998-07-15 16:33:40      Community   \n",
       " 1073 1998-07-15 00:37:11      Community   \n",
       " 1411 1998-05-27 07:33:12      Community   \n",
       " 187  1998-07-15 18:55:53      Community   \n",
       " 1566 1998-05-28 18:20:00      Community   \n",
       " 1606 1998-07-01 22:36:44      Community   \n",
       " 972  1998-07-02 02:39:54      Community   \n",
       " 615  1998-07-15 10:34:34      Community   \n",
       " 1102 1998-07-09 02:19:37      Community   \n",
       " 1943 1998-06-23 02:32:45      Community   \n",
       " 1088 1998-07-09 16:42:08      Community   \n",
       " 491  1998-07-15 17:03:53      Community   \n",
       " 777  1998-07-01 05:13:10      Community   \n",
       " 694  1998-07-10 22:19:56      Community   \n",
       " 1441 1998-07-15 17:26:32      Community   \n",
       " 1047 1998-07-10 17:22:06      Community   \n",
       " 1251 1998-07-02 20:03:03      Community   \n",
       " 3613 1998-03-30 01:59:34      Community   \n",
       " 1171 1998-07-14 21:13:23      Community   \n",
       " 1953 1998-06-22 21:28:47      Community   \n",
       " 3244 2012-01-15 00:00:00      Community   \n",
       " 4236 1998-03-27 00:00:00      Community   \n",
       " 208  2012-12-23 22:19:43  Mozilla Staff   \n",
       " \n",
       "                                               repo_name  active_years project  \n",
       " 4694          https://github.com/mozilla/popcorn-js.git           0.0     All  \n",
       " 4823             https://github.com/mozilla/kitsune.git           0.0     All  \n",
       " 5010              https://github.com/rust-lang/rust.git           0.0     All  \n",
       " 5285              https://github.com/rust-lang/rust.git           0.0     All  \n",
       " 3271  https://github.com/mozilla/universal-search-ge...           0.0     All  \n",
       " 4995           https://github.com/mozilla/addon-sdk.git           0.0     All  \n",
       " 4971         https://github.com/mozilla/build-tools.git           0.0     All  \n",
       " 5153              https://github.com/rust-lang/rust.git           0.0     All  \n",
       " 4568              https://github.com/rust-lang/rust.git           0.0     All  \n",
       " 4115  https://github.com/mozilla/positron-spidernode...           0.0     All  \n",
       " 3769          https://github.com/mozilla/spidernode.git           0.0     All  \n",
       " 2266          https://github.com/mozilla/newtab-dev.git           0.0     All  \n",
       " 5296              https://github.com/rust-lang/rust.git           0.0     All  \n",
       " 2249          https://github.com/mozilla/newtab-dev.git           0.0     All  \n",
       " 4223             https://github.com/mozilla/bedrock.git           0.0     All  \n",
       " 3600              https://github.com/rust-lang/rust.git           0.0     All  \n",
       " 3446          https://github.com/mozilla/spidernode.git           0.0     All  \n",
       " 4670           https://github.com/mozilla/gecko-dev.git           0.0     All  \n",
       " 5213           https://github.com/mozilla/spiderweb.git           0.0     All  \n",
       " 2927  https://github.com/mozilla/universal-search-ge...           0.0     All  \n",
       " 3218           https://github.com/mozilla/gecko-dev.git           0.0     All  \n",
       " 4155  https://github.com/mozilla/releases-comm-centr...           0.0     All  \n",
       " 3695              https://github.com/rust-lang/rust.git           0.0     All  \n",
       " 4688  https://github.com/mozilla/quality.mozilla.org...           0.0     All  \n",
       " 4894           https://github.com/mozilla/addon-sdk.git           0.0     All  \n",
       " 4859     https://github.com/mozilla/Marketplace.PHP.git           0.0     All  \n",
       " 4875              https://github.com/rust-lang/rust.git           0.0     All  \n",
       " 4316              https://github.com/rust-lang/rust.git           0.0     All  \n",
       " 3276  https://github.com/mozilla/positron-spidernode...           0.0     All  \n",
       " 4049                 https://github.com/mozilla/dxr.git           0.0     All  \n",
       " ...                                                 ...           ...     ...  \n",
       " 592       https://github.com/mozilla/gecko-projects.git           0.0     All  \n",
       " 1602           https://github.com/mozilla/gecko-dev.git           0.0     All  \n",
       " 1513      https://github.com/mozilla/gecko-projects.git           0.0     All  \n",
       " 1048      https://github.com/mozilla/gecko-projects.git           0.0     All  \n",
       " 603   https://github.com/mozilla/universal-search-ge...           0.0     All  \n",
       " 1049      https://github.com/mozilla/gecko-projects.git           0.0     All  \n",
       " 683            https://github.com/mozilla/gecko-dev.git           0.0     All  \n",
       " 1075  https://github.com/mozilla/universal-search-ge...           0.0     All  \n",
       " 1073  https://github.com/mozilla/universal-search-ge...           0.0     All  \n",
       " 1411  https://github.com/mozilla/universal-search-ge...           0.0     All  \n",
       " 187       https://github.com/mozilla/gecko-projects.git           0.0     All  \n",
       " 1566          https://github.com/mozilla/newtab-dev.git           0.0     All  \n",
       " 1606          https://github.com/mozilla/newtab-dev.git           0.0     All  \n",
       " 972            https://github.com/mozilla/gecko-dev.git           0.0     All  \n",
       " 615            https://github.com/mozilla/gecko-dev.git           0.0     All  \n",
       " 1102      https://github.com/mozilla/gecko-projects.git           0.0     All  \n",
       " 1943  https://github.com/mozilla/universal-search-ge...           0.0     All  \n",
       " 1088      https://github.com/mozilla/gecko-projects.git           0.0     All  \n",
       " 491            https://github.com/mozilla/gecko-dev.git           0.0     All  \n",
       " 777            https://github.com/mozilla/gecko-dev.git           0.0     All  \n",
       " 694       https://github.com/mozilla/gecko-projects.git           0.0     All  \n",
       " 1441           https://github.com/mozilla/gecko-dev.git           0.0     All  \n",
       " 1047            https://github.com/mozilla/positron.git           0.0     All  \n",
       " 1251          https://github.com/mozilla/newtab-dev.git           0.0     All  \n",
       " 3613  https://github.com/mozilla/universal-search-ge...           0.0     All  \n",
       " 1171            https://github.com/mozilla/positron.git           0.0     All  \n",
       " 1953           https://github.com/mozilla/gecko-dev.git           0.0     All  \n",
       " 3244             https://github.com/mozilla/mozjpeg.git          13.0     All  \n",
       " 4236             https://github.com/mozilla/mozjpeg.git           0.0     All  \n",
       " 208                 https://github.com/servo/libpng.git          14.0     All  \n",
       " \n",
       " [5352 rows x 7 columns],\n",
       "                                         author        first_commit  \\\n",
       " 3047  06ef90ab84fbec3bbd1582fab64095e17dc61287 2011-12-31 00:30:42   \n",
       " 2574  7b9cc206f9b4b15ad1ad04e2824b66fc5616c09a 2011-12-30 20:14:37   \n",
       " 4023  a79cbe9e952134580b1716fbaa734d278f8d5e6c 2011-12-30 16:50:15   \n",
       " 3612  0191967e28320c8827e762ac0ccaf1847abffcc8 2011-12-30 16:18:55   \n",
       " 3191  9d7508f3c12c437f6975e6c011ad526b77243867 2011-12-29 12:15:49   \n",
       " 2449  214fa17554176d270e0e58002384801014eec051 2011-12-28 16:25:54   \n",
       " 3696  2311941cbfb20e4589a88f8ff5122c026d1e9d1c 2011-12-28 13:01:53   \n",
       " 2005  1a7d90f20ee36b17ef6486fc9615a4431d18fd20 2011-12-28 09:13:37   \n",
       " 2992  8e750cd848ad5a102edcadd5b3e93c928db87b06 2011-12-28 01:25:46   \n",
       " 3698  232b64d4d1e97c4579deaa0cdedcaec16e7f0764 2011-12-27 22:12:19   \n",
       " 2720  4c72cb8f3face449ae18e672913d0f09c3091a82 2011-12-27 11:49:11   \n",
       " 2960  42be52d7cb476ada956744e63c87d40f12b00080 2011-12-27 10:39:21   \n",
       " 4124  d801317c150aac4e923139c49dd0a7e3b4141c7a 2011-12-25 23:16:03   \n",
       " 2759  886ff170a02f429e6fcb88bff08e82f62129daec 2011-12-23 16:02:47   \n",
       " 3144  6190ff9adbbd1332a838c2dbd784262ed482398b 2011-12-22 14:39:53   \n",
       " 3273  f3a4bcdcbf4739300077c5cbbf3f7adf38de0410 2011-12-22 11:32:27   \n",
       " 2083  9cc53a813d62cbe2ea124afd80b1f8294c9c3d87 2011-12-21 23:30:58   \n",
       " 3243  cdfcd0a9550e76172362db8985c9348b40be9cfe 2011-12-21 17:38:12   \n",
       " 3109  3778003a18e3b1a0c18b4baea3a648d2242a4f39 2011-12-21 13:25:56   \n",
       " 2938  1722607bca8033bfe5db1b4943c739f849d476e5 2011-12-21 12:57:15   \n",
       " 4111  d49c9db87b921e843f5d241b0cfec0c9007ddf76 2011-12-21 12:17:57   \n",
       " 2614  b75f3d6a9b1648d401be26ec9fd8e7fd8ccca19b 2011-12-21 01:42:00   \n",
       " 2455  258cd5e246d1804cddaa1c6e6dffa8602d1bac5d 2011-12-20 20:03:16   \n",
       " 3547  bd2d639611fd5a6c567e3be6ce9fca70bf7d132c 2011-12-20 16:45:24   \n",
       " 3244  d1e07ca837397419f979b2146eaec6e2b2693a3a 2011-12-20 15:57:45   \n",
       " 1930  fc0b2608dc70214afc0cd041404fa4850f562ba9 2011-12-20 15:14:18   \n",
       " 3056  0e3dc8aa67adb8e8a245510c4881653b4bda27af 2011-12-20 12:32:14   \n",
       " 2569  76e591ca9b40a176ab3f90007a1a32f7c9d024de 2011-12-20 09:25:13   \n",
       " 1836  9aeda4e1df73d5b838b1c14cd8a881624f34bb9a 2011-12-19 22:11:45   \n",
       " 2584  80c202e06e816fc4c2337af8e3fb2ea09e690b08 2011-12-19 16:43:12   \n",
       " ...                                        ...                 ...   \n",
       " 495   5e8873da77bfc73b744c8ef257eede9cce53c04f 1998-04-14 19:26:42   \n",
       " 1370  069d7fbce4c27ff1d7866e0732fff1ccbd6a6476 1998-04-14 18:14:55   \n",
       " 1301  6565db00622ee1261c295d44f8b883a2f363df1c 1998-04-14 17:29:44   \n",
       " 874   47ac23f0868d747b6d9d61c596c226fbee59919e 1998-04-14 16:53:16   \n",
       " 505   8426e77b1adabfc17cf61da651a0194683856612 1998-04-14 01:49:20   \n",
       " 875   97546fd53af5fa01ce7090030f41a94f7157a22b 1998-04-14 01:24:06   \n",
       " 569   a2522930974eb40699e11ecf43ff2d51799161d4 1998-04-14 00:31:59   \n",
       " 902   fe5fd18b94c889e8934bfbabbd976f5ea6686443 1998-04-13 23:58:48   \n",
       " 900   9861a7175cf51bf91a8c627eead1ccee3081dabd 1998-04-13 23:56:35   \n",
       " 1210  c939ef8317b162b4daaad54fdfd77ceaad6fd4ce 1998-04-13 21:07:10   \n",
       " 158   4782bfeacd4153cda87b5f1111afee53ac1187ee 1998-04-13 20:24:54   \n",
       " 1349  e7e12cca5bb66ad7d4a40d7f1f8f66f0082e7324 1998-04-09 03:54:33   \n",
       " 1375  38a3bfe8ad27c5843eb55868ae23422db0b971c8 1998-04-09 00:07:08   \n",
       " 807   887002ff63d3f1b7a54ed99ca39aa8422e660f15 1998-04-08 21:23:19   \n",
       " 514   d2d0ee7863d5a2400c69c490942ce407385d185b 1998-04-08 04:20:39   \n",
       " 926   3320ad91ab9ba8156863b4e8d3ca0b7ddcf11dde 1998-04-08 04:04:58   \n",
       " 1634  7e6e1bd0112ae67da0fb5256daec2ef7adad9778 1998-04-08 01:47:23   \n",
       " 913   52d75e285d275e0b47723fedf669281f00ddde2e 1998-04-07 23:30:24   \n",
       " 414   431b3b9443363d840dc45885370dce1ebf0bb6df 1998-04-07 20:41:06   \n",
       " 642   856e9a14c44a9e771c6f940145b26575c81e2228 1998-04-07 20:36:46   \n",
       " 572   2ca3b7c9678c67a58174dbc2e5e91f2a04b019e6 1998-04-06 23:54:42   \n",
       " 1236  d95d6e15648451cfc45885ee0de13b85f412403a 1998-03-30 23:59:41   \n",
       " 872   2a205325afe7a7ba7f2e44ab0b0f7a0dc5a9de00 1998-03-30 23:30:00   \n",
       " 1064  c612c17daa0436547fdf8dde7038b13ddc77f0d9 1998-03-30 23:15:36   \n",
       " 2917  fee82d83c32b57da8be70bb1a60fdd18945a4d89 1998-03-30 01:59:34   \n",
       " 986   360bda5d687dec2cadfb804f08c53e32c9a00a27 1998-03-29 21:51:40   \n",
       " 1643  be4def1ae593ac3e9a3e6a7d3eb847e93bb21bb2 1998-03-28 02:44:41   \n",
       " 2813  ea866ddbc4b20d4f191bcdecd514b76e22341c39 1998-03-28 00:00:00   \n",
       " 3353  290509554a8d2cd7f0c6f5cfb1c1048e86615fb2 1998-03-27 00:00:00   \n",
       " 204   5ab67497e1980994af3ffe34e602401ea09237e2 1998-01-01 07:13:13   \n",
       " \n",
       "              last_commit            org  \\\n",
       " 3047 2011-12-31 00:30:42      Community   \n",
       " 2574 2011-12-30 20:14:37      Community   \n",
       " 4023 2011-12-30 16:50:15      Community   \n",
       " 3612 2011-12-30 16:18:55      Community   \n",
       " 3191 2011-12-29 12:15:49      Community   \n",
       " 2449 2011-12-28 16:25:54      Community   \n",
       " 3696 2011-12-28 13:01:53      Community   \n",
       " 2005 2011-12-28 10:52:22      Community   \n",
       " 2992 2011-12-28 01:59:20      Community   \n",
       " 3698 2011-12-27 22:12:19  Mozilla Staff   \n",
       " 2720 2011-12-28 19:57:12      Community   \n",
       " 2960 2011-12-30 15:10:43  Mozilla Staff   \n",
       " 4124 2011-12-25 23:16:03      Community   \n",
       " 2759 2011-12-23 18:28:31      Community   \n",
       " 3144 2011-12-22 14:39:53      Community   \n",
       " 3273 2011-12-22 11:32:27      Community   \n",
       " 2083 2011-12-22 00:48:24      Community   \n",
       " 3243 2011-12-21 17:38:12      Community   \n",
       " 3109 2011-12-21 13:25:56      Community   \n",
       " 2938 2011-12-21 14:30:36      Community   \n",
       " 4111 2011-12-21 12:17:57      Community   \n",
       " 2614 2011-12-21 01:42:00  Mozilla Staff   \n",
       " 2455 2011-12-20 20:03:16      Community   \n",
       " 3547 2011-12-20 16:45:24      Community   \n",
       " 3244 2011-12-20 15:57:45      Community   \n",
       " 1930 2011-12-29 21:03:28      Community   \n",
       " 3056 2011-12-22 10:58:44      Community   \n",
       " 2569 2011-12-20 09:25:13      Community   \n",
       " 1836 2011-12-28 23:39:02  Mozilla Staff   \n",
       " 2584 2011-12-19 16:43:12  Mozilla Staff   \n",
       " ...                  ...            ...   \n",
       " 495  1998-07-10 17:29:03      Community   \n",
       " 1370 1998-05-15 18:49:17      Community   \n",
       " 1301 1998-06-09 22:41:49      Community   \n",
       " 874  1998-07-14 22:52:07      Community   \n",
       " 505  1998-07-14 18:43:47      Community   \n",
       " 875  1998-07-09 23:00:29      Community   \n",
       " 569  1998-07-15 17:04:56      Community   \n",
       " 902  1998-07-15 16:33:40      Community   \n",
       " 900  1998-07-15 00:37:11      Community   \n",
       " 1210 1998-05-27 07:33:12      Community   \n",
       " 158  1998-07-15 18:55:53      Community   \n",
       " 1349 1998-05-28 18:20:00      Community   \n",
       " 1375 1998-07-01 22:36:44      Community   \n",
       " 807  1998-07-02 02:39:54      Community   \n",
       " 514  1998-07-15 10:34:34      Community   \n",
       " 926  1998-07-09 02:19:37      Community   \n",
       " 1634 1998-06-23 02:32:45      Community   \n",
       " 913  1998-07-09 16:42:08      Community   \n",
       " 414  1998-07-15 17:03:53      Community   \n",
       " 642  1998-07-01 05:13:10      Community   \n",
       " 572  1998-07-10 22:19:56      Community   \n",
       " 1236 1998-07-15 17:26:32      Community   \n",
       " 872  1998-07-10 17:22:06      Community   \n",
       " 1064 1998-07-02 20:03:03      Community   \n",
       " 2917 1998-03-30 01:59:34      Community   \n",
       " 986  1998-07-14 21:13:23      Community   \n",
       " 1643 1998-06-22 21:28:47      Community   \n",
       " 2813 2011-01-16 00:00:00      Community   \n",
       " 3353 1998-03-27 00:00:00      Community   \n",
       " 204  2011-12-29 21:08:46  Mozilla Staff   \n",
       " \n",
       "                                               repo_name  active_years project  \n",
       " 3047  https://github.com/mozilla/positron-spidernode...           0.0     All  \n",
       " 2574           https://github.com/mozilla/gecko-dev.git           0.0     All  \n",
       " 4023              https://github.com/rust-lang/rust.git           0.0     All  \n",
       " 3612              https://github.com/rust-lang/rust.git           0.0     All  \n",
       " 3191  https://github.com/mozilla/positron-spidernode...           0.0     All  \n",
       " 2449           https://github.com/mozilla/spiderweb.git           0.0     All  \n",
       " 3696         https://github.com/mozilla/build-talos.git           0.0     All  \n",
       " 2005  https://github.com/mozilla/universal-search-ge...           0.0     All  \n",
       " 2992  https://github.com/mozillahispano/Mozilla-last...           0.0     All  \n",
       " 3698          https://github.com/mozilla/mozillians.git           0.0     All  \n",
       " 2720              https://github.com/mozilla/pdf.js.git           0.0     All  \n",
       " 2960         https://github.com/mozilla/build-tools.git           0.0     All  \n",
       " 4124             https://github.com/mozilla/persona.git           0.0     All  \n",
       " 2759        https://github.com/mozilla/popcorn-docs.git           0.0     All  \n",
       " 3144          https://github.com/mozilla/spidernode.git           0.0     All  \n",
       " 3273  https://github.com/mozilla/spiderweb-spidernod...           0.0     All  \n",
       " 2083               https://github.com/mozilla/rhino.git           0.0     All  \n",
       " 3243  https://github.com/mozilla/positron-spidernode...           0.0     All  \n",
       " 3109          https://github.com/mozilla/spidernode.git           0.0     All  \n",
       " 2938               https://github.com/mozilla/rhino.git           0.0     All  \n",
       " 4111         https://github.com/mozilla/build-talos.git           0.0     All  \n",
       " 2614          https://github.com/mozilla/newtab-dev.git           0.0     All  \n",
       " 2455  https://github.com/mozilla/universal-search-ge...           0.0     All  \n",
       " 3547      https://github.com/mozilla/gecko-projects.git           0.0     All  \n",
       " 3244  https://github.com/mozilla/positron-spidernode...           0.0     All  \n",
       " 1930                  https://github.com/servo/skia.git           0.0     All  \n",
       " 3056          https://github.com/mozilla/affiliates.git           0.0     All  \n",
       " 2569      https://github.com/mozilla/gecko-projects.git           0.0     All  \n",
       " 1836              https://github.com/mozilla/webpay.git           0.0     All  \n",
       " 2584          https://github.com/mozilla/newtab-dev.git           0.0     All  \n",
       " ...                                                 ...           ...     ...  \n",
       " 495       https://github.com/mozilla/gecko-projects.git           0.0     All  \n",
       " 1370           https://github.com/mozilla/gecko-dev.git           0.0     All  \n",
       " 1301      https://github.com/mozilla/gecko-projects.git           0.0     All  \n",
       " 874       https://github.com/mozilla/gecko-projects.git           0.0     All  \n",
       " 505   https://github.com/mozilla/universal-search-ge...           0.0     All  \n",
       " 875       https://github.com/mozilla/gecko-projects.git           0.0     All  \n",
       " 569            https://github.com/mozilla/gecko-dev.git           0.0     All  \n",
       " 902   https://github.com/mozilla/universal-search-ge...           0.0     All  \n",
       " 900   https://github.com/mozilla/universal-search-ge...           0.0     All  \n",
       " 1210  https://github.com/mozilla/universal-search-ge...           0.0     All  \n",
       " 158       https://github.com/mozilla/gecko-projects.git           0.0     All  \n",
       " 1349          https://github.com/mozilla/newtab-dev.git           0.0     All  \n",
       " 1375          https://github.com/mozilla/newtab-dev.git           0.0     All  \n",
       " 807            https://github.com/mozilla/gecko-dev.git           0.0     All  \n",
       " 514            https://github.com/mozilla/gecko-dev.git           0.0     All  \n",
       " 926       https://github.com/mozilla/gecko-projects.git           0.0     All  \n",
       " 1634  https://github.com/mozilla/universal-search-ge...           0.0     All  \n",
       " 913       https://github.com/mozilla/gecko-projects.git           0.0     All  \n",
       " 414            https://github.com/mozilla/gecko-dev.git           0.0     All  \n",
       " 642            https://github.com/mozilla/gecko-dev.git           0.0     All  \n",
       " 572       https://github.com/mozilla/gecko-projects.git           0.0     All  \n",
       " 1236           https://github.com/mozilla/gecko-dev.git           0.0     All  \n",
       " 872             https://github.com/mozilla/positron.git           0.0     All  \n",
       " 1064          https://github.com/mozilla/newtab-dev.git           0.0     All  \n",
       " 2917  https://github.com/mozilla/universal-search-ge...           0.0     All  \n",
       " 986             https://github.com/mozilla/positron.git           0.0     All  \n",
       " 1643           https://github.com/mozilla/gecko-dev.git           0.0     All  \n",
       " 2813             https://github.com/mozilla/mozjpeg.git          12.0     All  \n",
       " 3353             https://github.com/mozilla/mozjpeg.git           0.0     All  \n",
       " 204                 https://github.com/servo/libpng.git          13.0     All  \n",
       " \n",
       " [4194 rows x 7 columns],\n",
       "                                         author        first_commit  \\\n",
       " 2559  0754289bb29f666ea8069bbca0b33e6abb0c858a 2010-12-30 10:05:58   \n",
       " 3160  e96c06e845d30cd59b0292192c2842cef50f7661 2010-12-29 19:22:18   \n",
       " 2165  390b6d4e952298de7508833e379a875c9a806b1a 2010-12-29 19:22:18   \n",
       " 2541  eaa496a5813263a0d2ac862eeff4b4974f306f40 2010-12-26 17:32:04   \n",
       " 2415  13194e3518106adf2e9c8a763f30228be5a79f2d 2010-12-25 00:40:48   \n",
       " 2264  392ff5add13daee372f439faae454b04c831381a 2010-12-24 16:56:08   \n",
       " 2894  346a5c3e08d4542f3d94c63db153a690d6368bf5 2010-12-23 22:21:27   \n",
       " 1951  c990ba205bc76633db3cf19fa53ae175db1e13e8 2010-12-22 22:13:51   \n",
       " 2068  6f2862a44b9dd3fb46c418cd1d2f5699de7bb1da 2010-12-22 06:10:00   \n",
       " 3083  ad1e1bd9d9f9b6a1202f331a7ea983e363006a43 2010-12-21 18:27:33   \n",
       " 2960  5f1a3f90b9282bfb124b71ee3b5053f328fde3b8 2010-12-21 16:15:05   \n",
       " 2423  19803f14becb2b6b311ca00f67b1b38a6cb4932d 2010-12-21 12:35:40   \n",
       " 3091  b1cd9afb29fbfe13fcd76cca62fe499e9b64c1a6 2010-12-21 11:36:39   \n",
       " 1339  d61a0273230104344af3820498da86a536a91e2a 2010-12-20 18:48:46   \n",
       " 2963  62198af526ebdf34a0b4fcc63c3e123aed82c55c 2010-12-20 16:14:25   \n",
       " 2737  a27a2c06aceaf99a93e509c9078f201ec2539f11 2010-12-17 10:26:04   \n",
       " 1996  205a8664e499dd92153696c0316aafcb793144c7 2010-12-16 15:28:35   \n",
       " 3056  98bcbb46dbe314cf46eb31699910a7cc73adc393 2010-12-14 16:48:45   \n",
       " 2809  05fb5aa05f47f6bf010c30d653c5958ceb605a74 2010-12-13 14:14:34   \n",
       " 2767  d49be663ba3d92a065667e99d78831b8e90e249a 2010-12-13 00:14:39   \n",
       " 2011  2d62d91a2febd1cef19579bb498a1009c3b0a7d9 2010-12-12 08:09:00   \n",
       " 1728  b1de93ea380fdce4639c2e6d4fdbb88b6b5899fa 2010-12-10 18:41:28   \n",
       " 2366  71e7fa7214e34dbda79f4c73797375b3ef42ee16 2010-12-10 15:05:45   \n",
       " 1661  08aa81812b7c23b069ae60b527a273f3840abff0 2010-12-09 17:28:15   \n",
       " 1757  7228de2288571ea41d3ed69f0a29b6e986abfa6a 2010-12-09 12:39:15   \n",
       " 2120  e356029152a72b090c8411100b11c7307cd1541d 2010-12-09 11:52:03   \n",
       " 1667  14fce993c62c4e86cd8850c2493c7a9712c6c793 2010-12-08 17:02:58   \n",
       " 2079  7b9863d848c5afa0a188f55bdd44e9fe2ed7fec9 2010-12-08 16:26:21   \n",
       " 2543  f264f3d643675d86031cac719196c59cbe4f6ad0 2010-12-08 13:39:50   \n",
       " 1727  87c3783c0af5db5f11017a12693e3663f4084708 2010-12-08 11:20:40   \n",
       " ...                                        ...                 ...   \n",
       " 433   5e8873da77bfc73b744c8ef257eede9cce53c04f 1998-04-14 19:26:42   \n",
       " 1152  069d7fbce4c27ff1d7866e0732fff1ccbd6a6476 1998-04-14 18:14:55   \n",
       " 1094  6565db00622ee1261c295d44f8b883a2f363df1c 1998-04-14 17:29:44   \n",
       " 750   47ac23f0868d747b6d9d61c596c226fbee59919e 1998-04-14 16:53:16   \n",
       " 441   8426e77b1adabfc17cf61da651a0194683856612 1998-04-14 01:49:20   \n",
       " 751   97546fd53af5fa01ce7090030f41a94f7157a22b 1998-04-14 01:24:06   \n",
       " 497   a2522930974eb40699e11ecf43ff2d51799161d4 1998-04-14 00:31:59   \n",
       " 774   fe5fd18b94c889e8934bfbabbd976f5ea6686443 1998-04-13 23:58:48   \n",
       " 772   9861a7175cf51bf91a8c627eead1ccee3081dabd 1998-04-13 23:56:35   \n",
       " 1029  c939ef8317b162b4daaad54fdfd77ceaad6fd4ce 1998-04-13 21:07:10   \n",
       " 133   4782bfeacd4153cda87b5f1111afee53ac1187ee 1998-04-13 20:24:54   \n",
       " 1133  e7e12cca5bb66ad7d4a40d7f1f8f66f0082e7324 1998-04-09 03:54:33   \n",
       " 1157  38a3bfe8ad27c5843eb55868ae23422db0b971c8 1998-04-09 00:07:08   \n",
       " 697   887002ff63d3f1b7a54ed99ca39aa8422e660f15 1998-04-08 21:23:19   \n",
       " 448   d2d0ee7863d5a2400c69c490942ce407385d185b 1998-04-08 04:20:39   \n",
       " 789   3320ad91ab9ba8156863b4e8d3ca0b7ddcf11dde 1998-04-08 04:04:58   \n",
       " 1371  7e6e1bd0112ae67da0fb5256daec2ef7adad9778 1998-04-08 01:47:23   \n",
       " 779   52d75e285d275e0b47723fedf669281f00ddde2e 1998-04-07 23:30:24   \n",
       " 362   431b3b9443363d840dc45885370dce1ebf0bb6df 1998-04-07 20:41:06   \n",
       " 567   856e9a14c44a9e771c6f940145b26575c81e2228 1998-04-07 20:36:46   \n",
       " 505   2ca3b7c9678c67a58174dbc2e5e91f2a04b019e6 1998-04-06 23:54:42   \n",
       " 1049  d95d6e15648451cfc45885ee0de13b85f412403a 1998-03-30 23:59:41   \n",
       " 749   2a205325afe7a7ba7f2e44ab0b0f7a0dc5a9de00 1998-03-30 23:30:00   \n",
       " 904   c612c17daa0436547fdf8dde7038b13ddc77f0d9 1998-03-30 23:15:36   \n",
       " 2320  fee82d83c32b57da8be70bb1a60fdd18945a4d89 1998-03-30 01:59:34   \n",
       " 840   360bda5d687dec2cadfb804f08c53e32c9a00a27 1998-03-29 21:51:40   \n",
       " 1380  be4def1ae593ac3e9a3e6a7d3eb847e93bb21bb2 1998-03-28 02:44:41   \n",
       " 2316  ea866ddbc4b20d4f191bcdecd514b76e22341c39 1998-03-28 00:00:00   \n",
       " 2602  290509554a8d2cd7f0c6f5cfb1c1048e86615fb2 1998-03-27 00:00:00   \n",
       " 223   5ab67497e1980994af3ffe34e602401ea09237e2 1998-01-01 07:13:13   \n",
       " \n",
       "              last_commit            org  \\\n",
       " 2559 2010-12-30 10:05:58      Community   \n",
       " 3160 2010-12-29 19:22:18      Community   \n",
       " 2165 2010-12-29 19:22:18      Community   \n",
       " 2541 2010-12-26 17:32:04      Community   \n",
       " 2415 2010-12-25 00:40:48      Community   \n",
       " 2264 2010-12-30 11:21:37  Mozilla Staff   \n",
       " 2894 2010-12-23 22:21:27      Community   \n",
       " 1951 2010-12-23 20:59:40      Community   \n",
       " 2068 2010-12-22 06:10:00      Community   \n",
       " 3083 2010-12-21 18:27:33      Community   \n",
       " 2960 2010-12-21 16:15:05  Mozilla Staff   \n",
       " 2423 2010-12-21 12:35:40      Community   \n",
       " 3091 2010-12-21 11:36:39      Community   \n",
       " 1339 2010-12-31 18:11:59      Community   \n",
       " 2963 2010-12-20 16:14:25      Community   \n",
       " 2737 2010-12-17 10:26:04      Community   \n",
       " 1996 2010-12-16 15:28:35  Mozilla Staff   \n",
       " 3056 2010-12-14 16:48:45  Mozilla Staff   \n",
       " 2809 2010-12-13 14:14:34  Mozilla Staff   \n",
       " 2767 2010-12-13 00:14:39      Community   \n",
       " 2011 2010-12-12 08:09:00      Community   \n",
       " 1728 2010-12-17 15:38:15      Community   \n",
       " 2366 2010-12-15 12:28:38  Mozilla Staff   \n",
       " 1661 2010-12-09 18:27:48  Mozilla Staff   \n",
       " 1757 2010-12-16 18:31:55      Community   \n",
       " 2120 2010-12-09 11:52:03      Community   \n",
       " 1667 2010-12-12 15:20:34      Community   \n",
       " 2079 2010-12-27 22:10:19      Community   \n",
       " 2543 2010-12-08 13:39:50      Community   \n",
       " 1727 2010-12-09 18:51:03  Mozilla Staff   \n",
       " ...                  ...            ...   \n",
       " 433  1998-07-10 17:29:03      Community   \n",
       " 1152 1998-05-15 18:49:17      Community   \n",
       " 1094 1998-06-09 22:41:49      Community   \n",
       " 750  1998-07-14 22:52:07      Community   \n",
       " 441  1998-07-14 18:43:47      Community   \n",
       " 751  1998-07-09 23:00:29      Community   \n",
       " 497  1998-07-15 17:04:56      Community   \n",
       " 774  1998-07-15 16:33:40      Community   \n",
       " 772  1998-07-15 00:37:11      Community   \n",
       " 1029 1998-05-27 07:33:12      Community   \n",
       " 133  1998-07-15 18:55:53      Community   \n",
       " 1133 1998-05-28 18:20:00      Community   \n",
       " 1157 1998-07-01 22:36:44      Community   \n",
       " 697  1998-07-02 02:39:54      Community   \n",
       " 448  1998-07-15 10:34:34      Community   \n",
       " 789  1998-07-09 02:19:37      Community   \n",
       " 1371 1998-06-23 02:32:45      Community   \n",
       " 779  1998-07-09 16:42:08      Community   \n",
       " 362  1998-07-15 17:03:53      Community   \n",
       " 567  1998-07-01 05:13:10      Community   \n",
       " 505  1998-07-10 22:19:56      Community   \n",
       " 1049 1998-07-15 17:26:32      Community   \n",
       " 749  1998-07-10 17:22:06      Community   \n",
       " 904  1998-07-02 20:03:03      Community   \n",
       " 2320 1998-03-30 01:59:34      Community   \n",
       " 840  1998-07-14 21:13:23      Community   \n",
       " 1380 1998-06-22 21:28:47      Community   \n",
       " 2316 2010-05-16 00:00:00      Community   \n",
       " 2602 1998-03-27 00:00:00      Community   \n",
       " 223  2010-12-31 09:14:01  Mozilla Staff   \n",
       " \n",
       "                                               repo_name  active_years project  \n",
       " 2559             https://github.com/mozilla/kitsune.git           0.0     All  \n",
       " 3160           https://github.com/mozilla/spiderweb.git           0.0     All  \n",
       " 2165           https://github.com/mozilla/gecko-dev.git           0.0     All  \n",
       " 2541          https://github.com/mozilla/spidernode.git           0.0     All  \n",
       " 2415  https://github.com/mozilla/positron-spidernode...           0.0     All  \n",
       " 2264              https://github.com/rust-lang/rust.git           0.0     All  \n",
       " 2894              https://github.com/mozilla/yaocho.git           0.0     All  \n",
       " 1951                  https://github.com/servo/skia.git           0.0     All  \n",
       " 2068            https://github.com/mozilla/positron.git           0.0     All  \n",
       " 3083              https://github.com/mozilla/butter.git           0.0     All  \n",
       " 2960         https://github.com/mozilla/openwebapps.git           0.0     All  \n",
       " 2423          https://github.com/mozilla/spidernode.git           0.0     All  \n",
       " 3091           https://github.com/mozilla/addon-sdk.git           0.0     All  \n",
       " 1339                  https://github.com/servo/skia.git           0.0     All  \n",
       " 2963         https://github.com/mozilla/build-tools.git           0.0     All  \n",
       " 2737      https://github.com/mozilla/gecko-projects.git           0.0     All  \n",
       " 1996           https://github.com/mozilla/gecko-dev.git           0.0     All  \n",
       " 3056         https://github.com/mozilla/openwebapps.git           0.0     All  \n",
       " 2809         https://github.com/mozilla/openwebapps.git           0.0     All  \n",
       " 2767  https://github.com/mozilla/releases-comm-centr...           0.0     All  \n",
       " 2011           https://github.com/mozilla/gecko-dev.git           0.0     All  \n",
       " 1728              https://github.com/mozilla/butter.git           0.0     All  \n",
       " 2366         https://github.com/mozilla/openwebapps.git           0.0     All  \n",
       " 1661            https://github.com/mozilla/positron.git           0.0     All  \n",
       " 1757              https://github.com/mozilla/butter.git           0.0     All  \n",
       " 2120  https://github.com/mozilla-services/services-c...           0.0     All  \n",
       " 1667  https://github.com/mozilla/caseconductor-platf...           0.0     All  \n",
       " 2079                https://github.com/servo/libpng.git           0.0     All  \n",
       " 2543          https://github.com/mozilla/spidernode.git           0.0     All  \n",
       " 1727  https://github.com/mozilla/caseconductor-platf...           0.0     All  \n",
       " ...                                                 ...           ...     ...  \n",
       " 433       https://github.com/mozilla/gecko-projects.git           0.0     All  \n",
       " 1152           https://github.com/mozilla/gecko-dev.git           0.0     All  \n",
       " 1094      https://github.com/mozilla/gecko-projects.git           0.0     All  \n",
       " 750       https://github.com/mozilla/gecko-projects.git           0.0     All  \n",
       " 441   https://github.com/mozilla/universal-search-ge...           0.0     All  \n",
       " 751       https://github.com/mozilla/gecko-projects.git           0.0     All  \n",
       " 497            https://github.com/mozilla/gecko-dev.git           0.0     All  \n",
       " 774   https://github.com/mozilla/universal-search-ge...           0.0     All  \n",
       " 772   https://github.com/mozilla/universal-search-ge...           0.0     All  \n",
       " 1029  https://github.com/mozilla/universal-search-ge...           0.0     All  \n",
       " 133       https://github.com/mozilla/gecko-projects.git           0.0     All  \n",
       " 1133          https://github.com/mozilla/newtab-dev.git           0.0     All  \n",
       " 1157          https://github.com/mozilla/newtab-dev.git           0.0     All  \n",
       " 697            https://github.com/mozilla/gecko-dev.git           0.0     All  \n",
       " 448            https://github.com/mozilla/gecko-dev.git           0.0     All  \n",
       " 789       https://github.com/mozilla/gecko-projects.git           0.0     All  \n",
       " 1371  https://github.com/mozilla/universal-search-ge...           0.0     All  \n",
       " 779       https://github.com/mozilla/gecko-projects.git           0.0     All  \n",
       " 362            https://github.com/mozilla/gecko-dev.git           0.0     All  \n",
       " 567            https://github.com/mozilla/gecko-dev.git           0.0     All  \n",
       " 505       https://github.com/mozilla/gecko-projects.git           0.0     All  \n",
       " 1049           https://github.com/mozilla/gecko-dev.git           0.0     All  \n",
       " 749             https://github.com/mozilla/positron.git           0.0     All  \n",
       " 904           https://github.com/mozilla/newtab-dev.git           0.0     All  \n",
       " 2320  https://github.com/mozilla/universal-search-ge...           0.0     All  \n",
       " 840             https://github.com/mozilla/positron.git           0.0     All  \n",
       " 1380           https://github.com/mozilla/gecko-dev.git           0.0     All  \n",
       " 2316             https://github.com/mozilla/mozjpeg.git          12.0     All  \n",
       " 2602             https://github.com/mozilla/mozjpeg.git           0.0     All  \n",
       " 223                 https://github.com/servo/libpng.git          12.0     All  \n",
       " \n",
       " [3191 rows x 7 columns],\n",
       "                                         author        first_commit  \\\n",
       " 2214  283975961b195a8203bd20d62a137f05cafe2159 2009-12-30 20:56:55   \n",
       " 1761  08eb9b61296fefe0642d3245f6a83c5ff20e10d5 2009-12-30 20:56:55   \n",
       " 1973  b8783dbae657fdaa4473c7dfd59cc00ea6efbe2c 2009-12-30 10:06:40   \n",
       " 2330  8b32cf389c8ff07af44b288b59e7e4bbfc4e072c 2009-12-29 15:13:46   \n",
       " 2377  be0691bd69e2dfa886e570aa6cf6d0fa41724e24 2009-12-29 10:41:57   \n",
       " 1756  021a997f0f8e7df25fd4cc441c5a5f047bee90af 2009-12-29 10:41:57   \n",
       " 2327  875d7e421058eb01d63020cf0b25882284b82cee 2009-12-29 08:47:09   \n",
       " 2220  2b35eb58e1ab3de2c248fb55eef7af356ebfb5c6 2009-12-29 01:54:02   \n",
       " 2095  796175d21c3af4f088eecd27d0e9e7d1702ee711 2009-12-28 15:40:00   \n",
       " 2247  426de298a8ffe146412e8ab69e6c610a5fccc306 2009-12-28 13:34:43   \n",
       " 1732  b1b12d2a256b0af293af6f3f4a185b7abe5cfdf0 2009-12-23 18:48:53   \n",
       " 1704  4bf291f78e90db21d7573cb6904c5d63c9592bcf 2009-12-22 19:52:13   \n",
       " 1955  71e1e2511e8da7febefee5fd089b5d05c99a47f8 2009-12-22 14:52:40   \n",
       " 2338  93a024244e21492d7fdab124823cbfc005b88b89 2009-12-22 11:02:11   \n",
       " 1740  ca0ad47c719b5a63d1ebbc0da428a4c62c541aaf 2009-12-21 21:50:30   \n",
       " 2428  f6eb98ee9c12bb79466551e87ee725f2b2badd5d 2009-12-18 21:34:20   \n",
       " 1935  2d3383d171ceb6c9504bd7a0a9634f768cb675b2 2009-12-18 16:17:10   \n",
       " 2078  5e8dab4b2f582831ac60c47c746ed05ab156b97a 2009-12-18 07:55:31   \n",
       " 1987  cb971dcafc5babbeca5893cb84e000f4f2d5605e 2009-12-18 01:08:10   \n",
       " 823   03235853357afeecb6105855d2415d307bd945c4 2009-12-17 15:19:25   \n",
       " 1491  0d6eafbcdfb2edff23dfd5db2c58b410dde1acf3 2009-12-17 14:09:17   \n",
       " 1999  024a4278b098530475fbcca7dd01ac2f3cce814a 2009-12-17 08:41:12   \n",
       " 2113  91efd58f90080b32b3baac0bdcbb602e4ac2bd2a 2009-12-16 21:02:17   \n",
       " 1184  06f974f5a0690c837680dbd81d7d619ada51af10 2009-12-16 08:46:51   \n",
       " 1556  ad3a588802928ad496cf63d8f200779db1559586 2009-12-15 22:32:50   \n",
       " 1423  1b1cc00327b1b072091764b6cde284838e35812e 2009-12-15 18:16:12   \n",
       " 1574  0fe213c2249b3cbd6b98d695c36bfcee388b93de 2009-12-15 11:00:58   \n",
       " 2267  546868f6e2a1c0c4c56423b06e1111cda3f07f99 2009-12-14 17:53:06   \n",
       " 2203  2326a6cb66f303be2b6416eef4d6c4cb40bc92b3 2009-12-11 23:17:27   \n",
       " 1767  13a26044d251999a8964c859096203f4c7d09efc 2009-12-11 23:17:27   \n",
       " ...                                        ...                 ...   \n",
       " 382   5e8873da77bfc73b744c8ef257eede9cce53c04f 1998-04-14 19:26:42   \n",
       " 1006  069d7fbce4c27ff1d7866e0732fff1ccbd6a6476 1998-04-14 18:14:55   \n",
       " 956   6565db00622ee1261c295d44f8b883a2f363df1c 1998-04-14 17:29:44   \n",
       " 653   47ac23f0868d747b6d9d61c596c226fbee59919e 1998-04-14 16:53:16   \n",
       " 387   8426e77b1adabfc17cf61da651a0194683856612 1998-04-14 01:49:20   \n",
       " 654   97546fd53af5fa01ce7090030f41a94f7157a22b 1998-04-14 01:24:06   \n",
       " 433   a2522930974eb40699e11ecf43ff2d51799161d4 1998-04-14 00:31:59   \n",
       " 675   fe5fd18b94c889e8934bfbabbd976f5ea6686443 1998-04-13 23:58:48   \n",
       " 673   9861a7175cf51bf91a8c627eead1ccee3081dabd 1998-04-13 23:56:35   \n",
       " 892   c939ef8317b162b4daaad54fdfd77ceaad6fd4ce 1998-04-13 21:07:10   \n",
       " 106   4782bfeacd4153cda87b5f1111afee53ac1187ee 1998-04-13 20:24:54   \n",
       " 994   e7e12cca5bb66ad7d4a40d7f1f8f66f0082e7324 1998-04-09 03:54:33   \n",
       " 1011  38a3bfe8ad27c5843eb55868ae23422db0b971c8 1998-04-09 00:07:08   \n",
       " 606   887002ff63d3f1b7a54ed99ca39aa8422e660f15 1998-04-08 21:23:19   \n",
       " 393   d2d0ee7863d5a2400c69c490942ce407385d185b 1998-04-08 04:20:39   \n",
       " 689   3320ad91ab9ba8156863b4e8d3ca0b7ddcf11dde 1998-04-08 04:04:58   \n",
       " 1192  7e6e1bd0112ae67da0fb5256daec2ef7adad9778 1998-04-08 01:47:23   \n",
       " 679   52d75e285d275e0b47723fedf669281f00ddde2e 1998-04-07 23:30:24   \n",
       " 318   431b3b9443363d840dc45885370dce1ebf0bb6df 1998-04-07 20:41:06   \n",
       " 497   856e9a14c44a9e771c6f940145b26575c81e2228 1998-04-07 20:36:46   \n",
       " 438   2ca3b7c9678c67a58174dbc2e5e91f2a04b019e6 1998-04-06 23:54:42   \n",
       " 909   d95d6e15648451cfc45885ee0de13b85f412403a 1998-03-30 23:59:41   \n",
       " 652   2a205325afe7a7ba7f2e44ab0b0f7a0dc5a9de00 1998-03-30 23:30:00   \n",
       " 791   c612c17daa0436547fdf8dde7038b13ddc77f0d9 1998-03-30 23:15:36   \n",
       " 1882  fee82d83c32b57da8be70bb1a60fdd18945a4d89 1998-03-30 01:59:34   \n",
       " 736   360bda5d687dec2cadfb804f08c53e32c9a00a27 1998-03-29 21:51:40   \n",
       " 1201  be4def1ae593ac3e9a3e6a7d3eb847e93bb21bb2 1998-03-28 02:44:41   \n",
       " 2147  ea866ddbc4b20d4f191bcdecd514b76e22341c39 1998-03-28 00:00:00   \n",
       " 2033  290509554a8d2cd7f0c6f5cfb1c1048e86615fb2 1998-03-27 00:00:00   \n",
       " 278   5ab67497e1980994af3ffe34e602401ea09237e2 1998-01-01 07:13:13   \n",
       " \n",
       "              last_commit            org  \\\n",
       " 2214 2009-12-30 20:56:55      Community   \n",
       " 1761 2009-12-30 20:56:55      Community   \n",
       " 1973 2009-12-30 10:06:40      Community   \n",
       " 2330 2009-12-29 15:13:46      Community   \n",
       " 2377 2009-12-29 10:41:57      Community   \n",
       " 1756 2009-12-29 10:41:57      Community   \n",
       " 2327 2009-12-29 08:47:09      Community   \n",
       " 2220 2009-12-29 01:54:02      Community   \n",
       " 2095 2009-12-28 15:40:00      Community   \n",
       " 2247 2009-12-28 13:34:43      Community   \n",
       " 1732 2009-12-23 18:48:53      Community   \n",
       " 1704 2009-12-22 19:52:13  Mozilla Staff   \n",
       " 1955 2009-12-22 14:52:40      Community   \n",
       " 2338 2009-12-22 11:02:11  Mozilla Staff   \n",
       " 1740 2009-12-21 21:50:30      Community   \n",
       " 2428 2009-12-18 21:34:20      Community   \n",
       " 1935 2009-12-18 16:17:10      Community   \n",
       " 2078 2009-12-18 07:55:31      Community   \n",
       " 1987 2009-12-18 01:08:10      Community   \n",
       " 823  2009-12-31 10:22:23  Mozilla Staff   \n",
       " 1491 2009-12-22 19:51:52      Community   \n",
       " 1999 2009-12-17 08:41:12      Community   \n",
       " 2113 2009-12-16 21:02:17      Community   \n",
       " 1184 2009-12-31 08:39:41  Mozilla Staff   \n",
       " 1556 2009-12-15 23:37:49      Community   \n",
       " 1423 2009-12-15 18:16:12      Community   \n",
       " 1574 2009-12-30 19:22:18  Mozilla Staff   \n",
       " 2267 2009-12-14 17:53:06      Community   \n",
       " 2203 2009-12-11 23:17:27      Community   \n",
       " 1767 2009-12-11 23:17:27  Mozilla Staff   \n",
       " ...                  ...            ...   \n",
       " 382  1998-07-10 17:29:03      Community   \n",
       " 1006 1998-05-15 18:49:17      Community   \n",
       " 956  1998-06-09 22:41:49      Community   \n",
       " 653  1998-07-14 22:52:07      Community   \n",
       " 387  1998-07-14 18:43:47      Community   \n",
       " 654  1998-07-09 23:00:29      Community   \n",
       " 433  1998-07-15 17:04:56      Community   \n",
       " 675  1998-07-15 16:33:40      Community   \n",
       " 673  1998-07-15 00:37:11      Community   \n",
       " 892  1998-05-27 07:33:12      Community   \n",
       " 106  1998-07-15 18:55:53      Community   \n",
       " 994  1998-05-28 18:20:00      Community   \n",
       " 1011 1998-07-01 22:36:44      Community   \n",
       " 606  1998-07-02 02:39:54      Community   \n",
       " 393  1998-07-15 10:34:34      Community   \n",
       " 689  1998-07-09 02:19:37      Community   \n",
       " 1192 1998-06-23 02:32:45      Community   \n",
       " 679  1998-07-09 16:42:08      Community   \n",
       " 318  1998-07-15 17:03:53      Community   \n",
       " 497  1998-07-01 05:13:10      Community   \n",
       " 438  1998-07-10 22:19:56      Community   \n",
       " 909  1998-07-15 17:26:32      Community   \n",
       " 652  1998-07-10 17:22:06      Community   \n",
       " 791  1998-07-02 20:03:03      Community   \n",
       " 1882 1998-03-30 01:59:34      Community   \n",
       " 736  1998-07-14 21:13:23      Community   \n",
       " 1201 1998-06-22 21:28:47      Community   \n",
       " 2147 2009-06-27 00:00:00      Community   \n",
       " 2033 1998-03-27 00:00:00      Community   \n",
       " 278  2009-12-30 08:37:29  Mozilla Staff   \n",
       " \n",
       "                                               repo_name  active_years project  \n",
       " 2214  https://github.com/mozilla-services/services-c...           0.0     All  \n",
       " 1761      https://github.com/mozilla/gecko-projects.git           0.0     All  \n",
       " 1973  https://github.com/mozilla/positron-spidernode...           0.0     All  \n",
       " 2330        https://github.com/mozilla/testpilotweb.git           0.0     All  \n",
       " 2377  https://github.com/mozilla-services/services-c...           0.0     All  \n",
       " 1756  https://github.com/mozilla/universal-search-ge...           0.0     All  \n",
       " 2327                 https://github.com/servo/cairo.git           0.0     All  \n",
       " 2220       https://github.com/mozilla/django-piston.git           0.0     All  \n",
       " 2095  https://github.com/mozilla/releases-comm-centr...           0.0     All  \n",
       " 2247                 https://github.com/servo/cairo.git           0.0     All  \n",
       " 1732      https://github.com/mozilla/gecko-projects.git           0.0     All  \n",
       " 1704            https://github.com/mozilla/positron.git           0.0     All  \n",
       " 1955          https://github.com/mozilla/spidernode.git           0.0     All  \n",
       " 2338         https://github.com/mozilla/build-tools.git           0.0     All  \n",
       " 1740      https://github.com/mozilla/gecko-projects.git           0.0     All  \n",
       " 2428  https://github.com/mozilla-services/services-c...           0.0     All  \n",
       " 1935          https://github.com/mozilla/spidernode.git           0.0     All  \n",
       " 2078  https://github.com/mozilla/releases-comm-centr...           0.0     All  \n",
       " 1987  https://github.com/mozilla/positron-spidernode...           0.0     All  \n",
       " 823               https://github.com/mozilla/webpay.git           0.0     All  \n",
       " 1491      https://github.com/mozilla/gecko-projects.git           0.0     All  \n",
       " 1999  https://github.com/mozilla/releases-comm-centr...           0.0     All  \n",
       " 2113      https://github.com/mozilla/gecko-projects.git           0.0     All  \n",
       " 1184              https://github.com/mozilla/tuxedo.git           0.0     All  \n",
       " 1556  https://github.com/mozilla/positron-spidernode...           0.0     All  \n",
       " 1423           https://github.com/mozilla/gecko-dev.git           0.0     All  \n",
       " 1574        https://github.com/mozilla/testpilotweb.git           0.0     All  \n",
       " 2267        https://github.com/mozilla/testpilotweb.git           0.0     All  \n",
       " 2203  https://github.com/mozilla-services/services-c...           0.0     All  \n",
       " 1767           https://github.com/mozilla/spiderweb.git           0.0     All  \n",
       " ...                                                 ...           ...     ...  \n",
       " 382       https://github.com/mozilla/gecko-projects.git           0.0     All  \n",
       " 1006           https://github.com/mozilla/gecko-dev.git           0.0     All  \n",
       " 956       https://github.com/mozilla/gecko-projects.git           0.0     All  \n",
       " 653       https://github.com/mozilla/gecko-projects.git           0.0     All  \n",
       " 387   https://github.com/mozilla/universal-search-ge...           0.0     All  \n",
       " 654       https://github.com/mozilla/gecko-projects.git           0.0     All  \n",
       " 433            https://github.com/mozilla/gecko-dev.git           0.0     All  \n",
       " 675   https://github.com/mozilla/universal-search-ge...           0.0     All  \n",
       " 673   https://github.com/mozilla/universal-search-ge...           0.0     All  \n",
       " 892   https://github.com/mozilla/universal-search-ge...           0.0     All  \n",
       " 106       https://github.com/mozilla/gecko-projects.git           0.0     All  \n",
       " 994           https://github.com/mozilla/newtab-dev.git           0.0     All  \n",
       " 1011          https://github.com/mozilla/newtab-dev.git           0.0     All  \n",
       " 606            https://github.com/mozilla/gecko-dev.git           0.0     All  \n",
       " 393            https://github.com/mozilla/gecko-dev.git           0.0     All  \n",
       " 689       https://github.com/mozilla/gecko-projects.git           0.0     All  \n",
       " 1192  https://github.com/mozilla/universal-search-ge...           0.0     All  \n",
       " 679       https://github.com/mozilla/gecko-projects.git           0.0     All  \n",
       " 318            https://github.com/mozilla/gecko-dev.git           0.0     All  \n",
       " 497            https://github.com/mozilla/gecko-dev.git           0.0     All  \n",
       " 438       https://github.com/mozilla/gecko-projects.git           0.0     All  \n",
       " 909            https://github.com/mozilla/gecko-dev.git           0.0     All  \n",
       " 652             https://github.com/mozilla/positron.git           0.0     All  \n",
       " 791           https://github.com/mozilla/newtab-dev.git           0.0     All  \n",
       " 1882  https://github.com/mozilla/universal-search-ge...           0.0     All  \n",
       " 736             https://github.com/mozilla/positron.git           0.0     All  \n",
       " 1201           https://github.com/mozilla/gecko-dev.git           0.0     All  \n",
       " 2147             https://github.com/mozilla/mozjpeg.git          11.0     All  \n",
       " 2033             https://github.com/mozilla/mozjpeg.git           0.0     All  \n",
       " 278                 https://github.com/servo/libpng.git          11.0     All  \n",
       " \n",
       " [2439 rows x 7 columns],\n",
       "                                         author        first_commit  \\\n",
       " 1789  772125018edfc4f7ce5da5fdf6656a38dbb66fd7 2008-12-31 04:44:37   \n",
       " 1313  093a64b646c83221b173e8ef465251bb1d65cbef 2008-12-30 20:45:05   \n",
       " 1163  10f82a2f5ebf3da5bc68037e4bad3a669b528f2c 2008-12-27 23:52:30   \n",
       " 1167  20e7f23e9576c36f1a455fb48d13abd525cb334e 2008-12-25 00:07:41   \n",
       " 1649  6ae0b5a896488b86514fc8d6d4a765b8eda43874 2008-12-23 01:04:06   \n",
       " 1343  363753cef9bfa0b99417f3ccf0dc4b5f1e2d9e1f 2008-12-22 13:08:38   \n",
       " 1355  50abe4649b259555ade5172f7ef779e477afbb7f 2008-12-21 14:41:17   \n",
       " 1241  200969715491172c61642f71dda830cf35287303 2008-12-21 14:41:17   \n",
       " 1278  b0c1476192e3b7a48f5262866f6402703e6f8de2 2008-12-19 14:35:10   \n",
       " 1367  8a6ff6c68fcc470517ade35e1bc955847894ef7b 2008-12-19 11:04:50   \n",
       " 1749  515e476cbd7d875455dc0543aef02111a0f29593 2008-12-18 19:36:34   \n",
       " 1074  80a442754713059d35f4dd8922be5b7d5c8f6003 2008-12-17 14:42:41   \n",
       " 1170  3a78b16f04acf84b7ba14cb07e1040a23dd47bdb 2008-12-17 13:44:32   \n",
       " 1562  d2f1e835934fc26e01227c1ebf2314a8ba96d7d3 2008-12-16 12:31:51   \n",
       " 1411  5688482be0044b8e88e4bf423328adad3698f043 2008-12-15 11:35:40   \n",
       " 1864  ef87869f72cd5bc5fd858ba8c4ebecd47876ee3e 2008-12-15 10:53:21   \n",
       " 1370  8d830c20b159d0b9dcea66f0f3573b5d9924a32f 2008-12-14 22:32:48   \n",
       " 1306  035e2f63ad1b509135c24467230c73d1484bd87c 2008-12-14 21:58:24   \n",
       " 1776  6c43d4e7f75fd8282ff3e6df9f1b3e32aeb468ba 2008-12-14 05:57:51   \n",
       " 1373  91d3d63c928a5ba4fb31b2541ea391fc9620f558 2008-12-13 12:21:50   \n",
       " 1308  045251ae5d4f5c1dd672b65f3b6dd6d856ea8457 2008-12-12 15:10:39   \n",
       " 1735  35a4cd5990163491db35654411f9c552d827e0ee 2008-12-11 17:42:11   \n",
       " 1334  2ac3364387abda3d8f49531cde54eada2a79a689 2008-12-11 13:02:01   \n",
       " 1217  4450fa9299dd44edc6fd59ee4ce24f20e04f0cd2 2008-12-10 20:57:34   \n",
       " 1621  23110365c278b644d07e88d73e567363eac34adf 2008-12-10 12:12:00   \n",
       " 1683  dd8f6925c590e9878519b6710226c575d2a10491 2008-12-10 11:07:45   \n",
       " 1627  2c8c9658ab114031e4eeea6531250ebc764bab76 2008-12-10 08:51:06   \n",
       " 1606  03a7a01d6f752b3ab95354a54b1a121abec6552c 2008-12-08 09:49:01   \n",
       " 1710  177b60d1081f3bfe157c72870c91fe70cacf4bc0 2008-12-07 14:34:53   \n",
       " 1326  1a4ed8f8488a22bc072ad9c2659bf6f4ec55578e 2008-12-06 19:39:47   \n",
       " ...                                        ...                 ...   \n",
       " 349   5e8873da77bfc73b744c8ef257eede9cce53c04f 1998-04-14 19:26:42   \n",
       " 883   069d7fbce4c27ff1d7866e0732fff1ccbd6a6476 1998-04-14 18:14:55   \n",
       " 845   6565db00622ee1261c295d44f8b883a2f363df1c 1998-04-14 17:29:44   \n",
       " 590   47ac23f0868d747b6d9d61c596c226fbee59919e 1998-04-14 16:53:16   \n",
       " 355   8426e77b1adabfc17cf61da651a0194683856612 1998-04-14 01:49:20   \n",
       " 591   97546fd53af5fa01ce7090030f41a94f7157a22b 1998-04-14 01:24:06   \n",
       " 394   a2522930974eb40699e11ecf43ff2d51799161d4 1998-04-14 00:31:59   \n",
       " 608   fe5fd18b94c889e8934bfbabbd976f5ea6686443 1998-04-13 23:58:48   \n",
       " 606   9861a7175cf51bf91a8c627eead1ccee3081dabd 1998-04-13 23:56:35   \n",
       " 795   c939ef8317b162b4daaad54fdfd77ceaad6fd4ce 1998-04-13 21:07:10   \n",
       " 96    4782bfeacd4153cda87b5f1111afee53ac1187ee 1998-04-13 20:24:54   \n",
       " 874   e7e12cca5bb66ad7d4a40d7f1f8f66f0082e7324 1998-04-09 03:54:33   \n",
       " 887   38a3bfe8ad27c5843eb55868ae23422db0b971c8 1998-04-09 00:07:08   \n",
       " 549   887002ff63d3f1b7a54ed99ca39aa8422e660f15 1998-04-08 21:23:19   \n",
       " 359   d2d0ee7863d5a2400c69c490942ce407385d185b 1998-04-08 04:20:39   \n",
       " 621   3320ad91ab9ba8156863b4e8d3ca0b7ddcf11dde 1998-04-08 04:04:58   \n",
       " 1040  7e6e1bd0112ae67da0fb5256daec2ef7adad9778 1998-04-08 01:47:23   \n",
       " 613   52d75e285d275e0b47723fedf669281f00ddde2e 1998-04-07 23:30:24   \n",
       " 286   431b3b9443363d840dc45885370dce1ebf0bb6df 1998-04-07 20:41:06   \n",
       " 451   856e9a14c44a9e771c6f940145b26575c81e2228 1998-04-07 20:36:46   \n",
       " 398   2ca3b7c9678c67a58174dbc2e5e91f2a04b019e6 1998-04-06 23:54:42   \n",
       " 808   d95d6e15648451cfc45885ee0de13b85f412403a 1998-03-30 23:59:41   \n",
       " 589   2a205325afe7a7ba7f2e44ab0b0f7a0dc5a9de00 1998-03-30 23:30:00   \n",
       " 707   c612c17daa0436547fdf8dde7038b13ddc77f0d9 1998-03-30 23:15:36   \n",
       " 1537  fee82d83c32b57da8be70bb1a60fdd18945a4d89 1998-03-30 01:59:34   \n",
       " 662   360bda5d687dec2cadfb804f08c53e32c9a00a27 1998-03-29 21:51:40   \n",
       " 1047  be4def1ae593ac3e9a3e6a7d3eb847e93bb21bb2 1998-03-28 02:44:41   \n",
       " 1858  ea866ddbc4b20d4f191bcdecd514b76e22341c39 1998-03-28 00:00:00   \n",
       " 1624  290509554a8d2cd7f0c6f5cfb1c1048e86615fb2 1998-03-27 00:00:00   \n",
       " 374   5ab67497e1980994af3ffe34e602401ea09237e2 1998-01-01 07:13:13   \n",
       " \n",
       "              last_commit            org  \\\n",
       " 1789 2008-12-31 04:44:37      Community   \n",
       " 1313 2008-12-30 20:45:05      Community   \n",
       " 1163 2008-12-28 07:58:37      Community   \n",
       " 1167 2008-12-30 06:29:45  Mozilla Staff   \n",
       " 1649 2008-12-23 01:04:06      Community   \n",
       " 1343 2008-12-22 13:08:38      Community   \n",
       " 1355 2008-12-21 14:59:33      Community   \n",
       " 1241 2008-12-21 14:59:33      Community   \n",
       " 1278 2008-12-19 14:48:46  Mozilla Staff   \n",
       " 1367 2008-12-19 11:04:50      Community   \n",
       " 1749 2008-12-18 19:36:34      Community   \n",
       " 1074 2008-12-23 20:10:57      Community   \n",
       " 1170 2008-12-17 16:17:50  Mozilla Staff   \n",
       " 1562 2008-12-16 17:58:33      Community   \n",
       " 1411 2008-12-15 11:35:40      Community   \n",
       " 1864 2008-12-15 10:53:21      Community   \n",
       " 1370 2008-12-14 22:32:48      Community   \n",
       " 1306 2008-12-14 21:58:24      Community   \n",
       " 1776 2008-12-14 05:57:51      Community   \n",
       " 1373 2008-12-13 12:21:50      Community   \n",
       " 1308 2008-12-12 15:10:39  Mozilla Staff   \n",
       " 1735 2008-12-11 17:42:11  Mozilla Staff   \n",
       " 1334 2008-12-11 13:02:01  Mozilla Staff   \n",
       " 1217 2008-12-10 21:33:13  Mozilla Staff   \n",
       " 1621 2008-12-10 12:12:00  Mozilla Staff   \n",
       " 1683 2008-12-10 11:07:45      Community   \n",
       " 1627 2008-12-10 08:51:06      Community   \n",
       " 1606 2008-12-08 09:49:01  Mozilla Staff   \n",
       " 1710 2008-12-07 14:34:53      Community   \n",
       " 1326 2008-12-06 19:39:47      Community   \n",
       " ...                  ...            ...   \n",
       " 349  1998-07-10 17:29:03      Community   \n",
       " 883  1998-05-15 18:49:17      Community   \n",
       " 845  1998-06-09 22:41:49      Community   \n",
       " 590  1998-07-14 22:52:07      Community   \n",
       " 355  1998-07-14 18:43:47      Community   \n",
       " 591  1998-07-09 23:00:29      Community   \n",
       " 394  1998-07-15 17:04:56      Community   \n",
       " 608  1998-07-15 16:33:40      Community   \n",
       " 606  1998-07-15 00:37:11      Community   \n",
       " 795  1998-05-27 07:33:12      Community   \n",
       " 96   1998-07-15 18:55:53      Community   \n",
       " 874  1998-05-28 18:20:00      Community   \n",
       " 887  1998-07-01 22:36:44      Community   \n",
       " 549  1998-07-02 02:39:54      Community   \n",
       " 359  1998-07-15 10:34:34      Community   \n",
       " 621  1998-07-09 02:19:37      Community   \n",
       " 1040 1998-06-23 02:32:45      Community   \n",
       " 613  1998-07-09 16:42:08      Community   \n",
       " 286  1998-07-15 17:03:53      Community   \n",
       " 451  1998-07-01 05:13:10      Community   \n",
       " 398  1998-07-10 22:19:56      Community   \n",
       " 808  1998-07-15 17:26:32      Community   \n",
       " 589  1998-07-10 17:22:06      Community   \n",
       " 707  1998-07-02 20:03:03      Community   \n",
       " 1537 1998-03-30 01:59:34      Community   \n",
       " 662  1998-07-14 21:13:23      Community   \n",
       " 1047 1998-06-22 21:28:47      Community   \n",
       " 1858 1998-03-28 00:00:00      Community   \n",
       " 1624 1998-03-27 00:00:00      Community   \n",
       " 374  2008-12-22 18:40:01  Mozilla Staff   \n",
       " \n",
       "                                               repo_name  active_years project  \n",
       " 1789            https://github.com/mozilla/git-repo.git           0.0     All  \n",
       " 1313           https://github.com/mozilla/spiderweb.git           0.0     All  \n",
       " 1163          https://github.com/mozilla/newtab-dev.git           0.0     All  \n",
       " 1167      https://github.com/mozilla/gecko-projects.git           0.0     All  \n",
       " 1649  https://github.com/mozilla/releases-comm-centr...           0.0     All  \n",
       " 1343           https://github.com/mozilla/spiderweb.git           0.0     All  \n",
       " 1355  https://github.com/mozilla-services/services-c...           0.0     All  \n",
       " 1241      https://github.com/mozilla/gecko-projects.git           0.0     All  \n",
       " 1278     https://github.com/mdn/archived_kumascript.git           0.0     All  \n",
       " 1367  https://github.com/mozilla/integration-mozilla...           0.0     All  \n",
       " 1749                  https://github.com/servo/skia.git           0.0     All  \n",
       " 1074                  https://github.com/servo/skia.git           0.0     All  \n",
       " 1170      https://github.com/mozilla/gecko-projects.git           0.0     All  \n",
       " 1562           https://github.com/mozilla/spiderweb.git           0.0     All  \n",
       " 1411  https://github.com/mozilla/universal-search-ge...           0.0     All  \n",
       " 1864           https://github.com/mozilla/spiderweb.git           0.0     All  \n",
       " 1370      https://github.com/mozilla/gecko-projects.git           0.0     All  \n",
       " 1306           https://github.com/mozilla/gecko-dev.git           0.0     All  \n",
       " 1776    https://github.com/mozilla-japan/gecko-l10n.git           0.0     All  \n",
       " 1373           https://github.com/mozilla/gecko-dev.git           0.0     All  \n",
       " 1308           https://github.com/mozilla/gecko-dev.git           0.0     All  \n",
       " 1735         https://github.com/mozilla/build-tools.git           0.0     All  \n",
       " 1334          https://github.com/mozilla/newtab-dev.git           0.0     All  \n",
       " 1217      https://github.com/mozilla/gecko-projects.git           0.0     All  \n",
       " 1621  https://github.com/mozilla/releases-comm-centr...           0.0     All  \n",
       " 1683  https://github.com/mozilla/releases-comm-centr...           0.0     All  \n",
       " 1627  https://github.com/mozilla/releases-comm-centr...           0.0     All  \n",
       " 1606      https://github.com/mozilla/gecko-projects.git           0.0     All  \n",
       " 1710  https://github.com/mozilla-services/services-c...           0.0     All  \n",
       " 1326           https://github.com/mozilla/gecko-dev.git           0.0     All  \n",
       " ...                                                 ...           ...     ...  \n",
       " 349       https://github.com/mozilla/gecko-projects.git           0.0     All  \n",
       " 883            https://github.com/mozilla/gecko-dev.git           0.0     All  \n",
       " 845       https://github.com/mozilla/gecko-projects.git           0.0     All  \n",
       " 590       https://github.com/mozilla/gecko-projects.git           0.0     All  \n",
       " 355   https://github.com/mozilla/universal-search-ge...           0.0     All  \n",
       " 591       https://github.com/mozilla/gecko-projects.git           0.0     All  \n",
       " 394            https://github.com/mozilla/gecko-dev.git           0.0     All  \n",
       " 608   https://github.com/mozilla/universal-search-ge...           0.0     All  \n",
       " 606   https://github.com/mozilla/universal-search-ge...           0.0     All  \n",
       " 795   https://github.com/mozilla/universal-search-ge...           0.0     All  \n",
       " 96        https://github.com/mozilla/gecko-projects.git           0.0     All  \n",
       " 874           https://github.com/mozilla/newtab-dev.git           0.0     All  \n",
       " 887           https://github.com/mozilla/newtab-dev.git           0.0     All  \n",
       " 549            https://github.com/mozilla/gecko-dev.git           0.0     All  \n",
       " 359            https://github.com/mozilla/gecko-dev.git           0.0     All  \n",
       " 621       https://github.com/mozilla/gecko-projects.git           0.0     All  \n",
       " 1040  https://github.com/mozilla/universal-search-ge...           0.0     All  \n",
       " 613       https://github.com/mozilla/gecko-projects.git           0.0     All  \n",
       " 286            https://github.com/mozilla/gecko-dev.git           0.0     All  \n",
       " 451            https://github.com/mozilla/gecko-dev.git           0.0     All  \n",
       " 398       https://github.com/mozilla/gecko-projects.git           0.0     All  \n",
       " 808            https://github.com/mozilla/gecko-dev.git           0.0     All  \n",
       " 589             https://github.com/mozilla/positron.git           0.0     All  \n",
       " 707           https://github.com/mozilla/newtab-dev.git           0.0     All  \n",
       " 1537  https://github.com/mozilla/universal-search-ge...           0.0     All  \n",
       " 662             https://github.com/mozilla/positron.git           0.0     All  \n",
       " 1047           https://github.com/mozilla/gecko-dev.git           0.0     All  \n",
       " 1858             https://github.com/mozilla/mozjpeg.git           0.0     All  \n",
       " 1624             https://github.com/mozilla/mozjpeg.git           0.0     All  \n",
       " 374                 https://github.com/servo/libpng.git          10.0     All  \n",
       " \n",
       " [1875 rows x 7 columns],\n",
       "                                         author        first_commit  \\\n",
       " 1293  6495fa3d03677cf07f670bebad15c088455812e7 2007-12-29 07:13:55   \n",
       " 1337  e2c228c165fd3c959478010db2d4b56566088f81 2007-12-22 08:23:35   \n",
       " 1237  648738738f3fb8f37269936a5d7ede3ecf7adc34 2007-12-20 16:20:23   \n",
       " 929   8aba608506008f5a48a03a5b328e0e309edbade1 2007-12-20 15:43:18   \n",
       " 937   57426dae137438b1e7dbc55c72ce31fd9de828ef 2007-12-20 13:30:12   \n",
       " 1270  3447591ca286aae504e08bae7d9bfa79aa0b4008 2007-12-15 16:42:25   \n",
       " 1186  5439a17fb8d09cf7388235a47062e03089c13185 2007-12-13 04:20:11   \n",
       " 1320  afa2d6fe25319006e73e5d525421c87a07ded304 2007-12-12 21:05:57   \n",
       " 1138  2d58daeb9485bf5527e85809253c45e0d2b3889c 2007-12-12 13:57:57   \n",
       " 1253  e926e84cea95a53e114f438cc223e23e839a9d04 2007-12-10 18:54:01   \n",
       " 1322  b09fc3fd2af963999c92249ba469078a3867cca0 2007-12-07 15:13:58   \n",
       " 1277  4aad72f4a1c2790784b06ce5fae9d74e37bc374d 2007-12-05 07:04:09   \n",
       " 1305  7b68193f90f1159673ade94201abfc8cc93b6166 2007-12-02 05:41:24   \n",
       " 1031  49c938a20e7591e217b6fea288c8899fa4457b5c 2007-11-27 15:51:44   \n",
       " 725   1de5cffb2502bfeed240be042278503134762f4c 2007-11-27 15:51:44   \n",
       " 1032  4f54240833aa11d8de1dddfee3cbf517e532e241 2007-11-27 15:46:04   \n",
       " 746   1c1116a481122e01b9d69575242e2a4fc661f7ec 2007-11-27 09:58:52   \n",
       " 1051  709f077a5a7ca9b1a2cf6b72d97e16911b23270c 2007-11-27 09:58:52   \n",
       " 1304  78b27f65157c5484f2719d579bb2a680db6aad80 2007-11-26 17:47:04   \n",
       " 1108  9a6e40f62e1063a220f7c8783d1b368dd68bc5ce 2007-11-26 17:47:04   \n",
       " 1030  102d6eaecf589a1ee10516bd063dc42382ca680f 2007-11-19 06:02:17   \n",
       " 724   106191e67f703a24e3c34ac948460fa36c23a8ae 2007-11-19 06:02:17   \n",
       " 972   407f3a38f6b61b885e53915187b49ad1282696db 2007-11-14 16:20:16   \n",
       " 1023  e8a627c6f20825cc03b21d729dc371fff00d3b26 2007-11-14 16:20:16   \n",
       " 926   043192d627c4947ded041efd8401b1321856903f 2007-11-12 21:23:07   \n",
       " 980   726942bc7d977469ac4af0a19a1b12420b877b8b 2007-11-12 21:23:07   \n",
       " 1202  8710b9265e67ff8d7f8a21dd2b6f76789fffebed 2007-11-06 21:09:35   \n",
       " 940   0036ec0ef2dcc61a838336a7844df2341f52b934 2007-11-06 21:09:35   \n",
       " 1274  3bcb0e641e6c783bbd1be3f0662c04f8237e6fdc 2007-11-06 21:09:07   \n",
       " 1084  036af4099c6d358fb994d99422c40f98665758cf 2007-11-06 21:09:07   \n",
       " ...                                        ...                 ...   \n",
       " 310   5e8873da77bfc73b744c8ef257eede9cce53c04f 1998-04-14 19:26:42   \n",
       " 780   069d7fbce4c27ff1d7866e0732fff1ccbd6a6476 1998-04-14 18:14:55   \n",
       " 748   6565db00622ee1261c295d44f8b883a2f363df1c 1998-04-14 17:29:44   \n",
       " 522   47ac23f0868d747b6d9d61c596c226fbee59919e 1998-04-14 16:53:16   \n",
       " 316   8426e77b1adabfc17cf61da651a0194683856612 1998-04-14 01:49:20   \n",
       " 523   97546fd53af5fa01ce7090030f41a94f7157a22b 1998-04-14 01:24:06   \n",
       " 357   a2522930974eb40699e11ecf43ff2d51799161d4 1998-04-14 00:31:59   \n",
       " 540   fe5fd18b94c889e8934bfbabbd976f5ea6686443 1998-04-13 23:58:48   \n",
       " 538   9861a7175cf51bf91a8c627eead1ccee3081dabd 1998-04-13 23:56:35   \n",
       " 691   c939ef8317b162b4daaad54fdfd77ceaad6fd4ce 1998-04-13 21:07:10   \n",
       " 88    4782bfeacd4153cda87b5f1111afee53ac1187ee 1998-04-13 20:24:54   \n",
       " 773   e7e12cca5bb66ad7d4a40d7f1f8f66f0082e7324 1998-04-09 03:54:33   \n",
       " 783   38a3bfe8ad27c5843eb55868ae23422db0b971c8 1998-04-09 00:07:08   \n",
       " 489   887002ff63d3f1b7a54ed99ca39aa8422e660f15 1998-04-08 21:23:19   \n",
       " 321   d2d0ee7863d5a2400c69c490942ce407385d185b 1998-04-08 04:20:39   \n",
       " 550   3320ad91ab9ba8156863b4e8d3ca0b7ddcf11dde 1998-04-08 04:04:58   \n",
       " 890   7e6e1bd0112ae67da0fb5256daec2ef7adad9778 1998-04-08 01:47:23   \n",
       " 543   52d75e285d275e0b47723fedf669281f00ddde2e 1998-04-07 23:30:24   \n",
       " 250   431b3b9443363d840dc45885370dce1ebf0bb6df 1998-04-07 20:41:06   \n",
       " 406   856e9a14c44a9e771c6f940145b26575c81e2228 1998-04-07 20:36:46   \n",
       " 360   2ca3b7c9678c67a58174dbc2e5e91f2a04b019e6 1998-04-06 23:54:42   \n",
       " 708   d95d6e15648451cfc45885ee0de13b85f412403a 1998-03-30 23:59:41   \n",
       " 521   2a205325afe7a7ba7f2e44ab0b0f7a0dc5a9de00 1998-03-30 23:30:00   \n",
       " 626   c612c17daa0436547fdf8dde7038b13ddc77f0d9 1998-03-30 23:15:36   \n",
       " 1180  fee82d83c32b57da8be70bb1a60fdd18945a4d89 1998-03-30 01:59:34   \n",
       " 587   360bda5d687dec2cadfb804f08c53e32c9a00a27 1998-03-29 21:51:40   \n",
       " 897   be4def1ae593ac3e9a3e6a7d3eb847e93bb21bb2 1998-03-28 02:44:41   \n",
       " 1339  ea866ddbc4b20d4f191bcdecd514b76e22341c39 1998-03-28 00:00:00   \n",
       " 1222  290509554a8d2cd7f0c6f5cfb1c1048e86615fb2 1998-03-27 00:00:00   \n",
       " 413   5ab67497e1980994af3ffe34e602401ea09237e2 1998-01-01 07:13:13   \n",
       " \n",
       "              last_commit            org  \\\n",
       " 1293 2007-12-29 07:13:55  Mozilla Staff   \n",
       " 1337 2007-12-22 08:23:35  Mozilla Staff   \n",
       " 1237 2007-12-20 16:20:23      Community   \n",
       " 929  2007-12-21 15:08:47      Community   \n",
       " 937  2007-12-21 15:08:47      Community   \n",
       " 1270 2007-12-15 16:42:25      Community   \n",
       " 1186 2007-12-14 16:47:06  Mozilla Staff   \n",
       " 1320 2007-12-12 21:05:57  Mozilla Staff   \n",
       " 1138 2007-12-14 16:20:48      Community   \n",
       " 1253 2007-12-11 15:50:05      Community   \n",
       " 1322 2007-12-07 15:13:58  Mozilla Staff   \n",
       " 1277 2007-12-05 07:04:09      Community   \n",
       " 1305 2007-12-02 05:41:24  Mozilla Staff   \n",
       " 1031 2007-12-20 14:05:00      Community   \n",
       " 725  2007-12-20 14:05:00  Mozilla Staff   \n",
       " 1032 2007-12-24 15:42:16  Mozilla Staff   \n",
       " 746  2007-12-28 09:18:12      Community   \n",
       " 1051 2007-12-28 09:18:12      Community   \n",
       " 1304 2007-11-26 17:47:04      Community   \n",
       " 1108 2007-11-26 17:47:04  Mozilla Staff   \n",
       " 1030 2007-12-14 13:34:06      Community   \n",
       " 724  2007-12-14 13:34:06  Mozilla Staff   \n",
       " 972  2007-11-26 13:45:46  Mozilla Staff   \n",
       " 1023 2007-11-26 16:30:34      Community   \n",
       " 926  2007-12-24 14:47:37      Community   \n",
       " 980  2007-12-24 14:47:37      Community   \n",
       " 1202 2007-11-06 21:09:39      Community   \n",
       " 940  2007-11-06 21:09:39  Mozilla Staff   \n",
       " 1274 2007-11-06 21:09:07      Community   \n",
       " 1084 2007-11-06 21:09:07  Mozilla Staff   \n",
       " ...                  ...            ...   \n",
       " 310  1998-07-10 17:29:03      Community   \n",
       " 780  1998-05-15 18:49:17      Community   \n",
       " 748  1998-06-09 22:41:49      Community   \n",
       " 522  1998-07-14 22:52:07      Community   \n",
       " 316  1998-07-14 18:43:47      Community   \n",
       " 523  1998-07-09 23:00:29      Community   \n",
       " 357  1998-07-15 17:04:56      Community   \n",
       " 540  1998-07-15 16:33:40      Community   \n",
       " 538  1998-07-15 00:37:11      Community   \n",
       " 691  1998-05-27 07:33:12      Community   \n",
       " 88   1998-07-15 18:55:53      Community   \n",
       " 773  1998-05-28 18:20:00      Community   \n",
       " 783  1998-07-01 22:36:44      Community   \n",
       " 489  1998-07-02 02:39:54      Community   \n",
       " 321  1998-07-15 10:34:34      Community   \n",
       " 550  1998-07-09 02:19:37      Community   \n",
       " 890  1998-06-23 02:32:45      Community   \n",
       " 543  1998-07-09 16:42:08      Community   \n",
       " 250  1998-07-15 17:03:53      Community   \n",
       " 406  1998-07-01 05:13:10      Community   \n",
       " 360  1998-07-10 22:19:56      Community   \n",
       " 708  1998-07-15 17:26:32      Community   \n",
       " 521  1998-07-10 17:22:06      Community   \n",
       " 626  1998-07-02 20:03:03      Community   \n",
       " 1180 1998-03-30 01:59:34      Community   \n",
       " 587  1998-07-14 21:13:23      Community   \n",
       " 897  1998-06-22 21:28:47      Community   \n",
       " 1339 1998-03-28 00:00:00      Community   \n",
       " 1222 1998-03-27 00:00:00      Community   \n",
       " 413  2007-12-14 10:23:00  Mozilla Staff   \n",
       " \n",
       "                                               repo_name  active_years project  \n",
       " 1293     https://github.com/mdn/archived_kumascript.git           0.0     All  \n",
       " 1337     https://github.com/mdn/archived_kumascript.git           0.0     All  \n",
       " 1237      https://github.com/mozilla/weave-identity.git           0.0     All  \n",
       " 929            https://github.com/mozilla/gecko-dev.git           0.0     All  \n",
       " 937       https://github.com/mozilla/weave-identity.git           0.0     All  \n",
       " 1270                 https://github.com/servo/cairo.git           0.0     All  \n",
       " 1186            https://github.com/mozilla/personas.git           0.0     All  \n",
       " 1320                 https://github.com/servo/cairo.git           0.0     All  \n",
       " 1138  https://github.com/mozilla-services/services-c...           0.0     All  \n",
       " 1253                 https://github.com/servo/cairo.git           0.0     All  \n",
       " 1322     https://github.com/mdn/archived_kumascript.git           0.0     All  \n",
       " 1277                 https://github.com/servo/cairo.git           0.0     All  \n",
       " 1305     https://github.com/mdn/archived_kumascript.git           0.0     All  \n",
       " 1031  https://github.com/mozilla-services/services-c...           0.0     All  \n",
       " 725   https://github.com/mozilla/universal-search-ge...           0.0     All  \n",
       " 1032     https://github.com/mdn/archived_kumascript.git           0.0     All  \n",
       " 746       https://github.com/mozilla/gecko-projects.git           0.0     All  \n",
       " 1051  https://github.com/mozilla-services/services-c...           0.0     All  \n",
       " 1304  https://github.com/mozilla-services/services-c...           0.0     All  \n",
       " 1108           https://github.com/mozilla/gecko-dev.git           0.0     All  \n",
       " 1030  https://github.com/mozilla-services/services-c...           0.0     All  \n",
       " 724       https://github.com/mozilla/gecko-projects.git           0.0     All  \n",
       " 972   https://github.com/mozilla/universal-search-ge...           0.0     All  \n",
       " 1023      https://github.com/mozilla/weave-identity.git           0.0     All  \n",
       " 926       https://github.com/mozilla/gecko-projects.git           0.0     All  \n",
       " 980   https://github.com/mozilla-services/services-c...           0.0     All  \n",
       " 1202  https://github.com/mozilla-services/services-c...           0.0     All  \n",
       " 940             https://github.com/mozilla/positron.git           0.0     All  \n",
       " 1274  https://github.com/mozilla-services/services-c...           0.0     All  \n",
       " 1084  https://github.com/mozilla/integration-mozilla...           0.0     All  \n",
       " ...                                                 ...           ...     ...  \n",
       " 310       https://github.com/mozilla/gecko-projects.git           0.0     All  \n",
       " 780            https://github.com/mozilla/gecko-dev.git           0.0     All  \n",
       " 748       https://github.com/mozilla/gecko-projects.git           0.0     All  \n",
       " 522       https://github.com/mozilla/gecko-projects.git           0.0     All  \n",
       " 316   https://github.com/mozilla/universal-search-ge...           0.0     All  \n",
       " 523       https://github.com/mozilla/gecko-projects.git           0.0     All  \n",
       " 357            https://github.com/mozilla/gecko-dev.git           0.0     All  \n",
       " 540   https://github.com/mozilla/universal-search-ge...           0.0     All  \n",
       " 538   https://github.com/mozilla/universal-search-ge...           0.0     All  \n",
       " 691   https://github.com/mozilla/universal-search-ge...           0.0     All  \n",
       " 88        https://github.com/mozilla/gecko-projects.git           0.0     All  \n",
       " 773           https://github.com/mozilla/newtab-dev.git           0.0     All  \n",
       " 783           https://github.com/mozilla/newtab-dev.git           0.0     All  \n",
       " 489            https://github.com/mozilla/gecko-dev.git           0.0     All  \n",
       " 321            https://github.com/mozilla/gecko-dev.git           0.0     All  \n",
       " 550       https://github.com/mozilla/gecko-projects.git           0.0     All  \n",
       " 890   https://github.com/mozilla/universal-search-ge...           0.0     All  \n",
       " 543       https://github.com/mozilla/gecko-projects.git           0.0     All  \n",
       " 250            https://github.com/mozilla/gecko-dev.git           0.0     All  \n",
       " 406            https://github.com/mozilla/gecko-dev.git           0.0     All  \n",
       " 360       https://github.com/mozilla/gecko-projects.git           0.0     All  \n",
       " 708            https://github.com/mozilla/gecko-dev.git           0.0     All  \n",
       " 521             https://github.com/mozilla/positron.git           0.0     All  \n",
       " 626           https://github.com/mozilla/newtab-dev.git           0.0     All  \n",
       " 1180  https://github.com/mozilla/universal-search-ge...           0.0     All  \n",
       " 587             https://github.com/mozilla/positron.git           0.0     All  \n",
       " 897            https://github.com/mozilla/gecko-dev.git           0.0     All  \n",
       " 1339             https://github.com/mozilla/mozjpeg.git           0.0     All  \n",
       " 1222             https://github.com/mozilla/mozjpeg.git           0.0     All  \n",
       " 413                 https://github.com/servo/libpng.git           9.0     All  \n",
       " \n",
       " [1347 rows x 7 columns]]"
      ]
     },
     "execution_count": 8,
     "metadata": {},
     "output_type": "execute_result"
    }
   ],
   "source": [
    "### DIFFERENCE BETWEEN FIRST AND LAST CONTRIBUTION\n",
    "### GET SNAPSHOTS FOR DIFFERENT YEARS\n",
    "\n",
    "results = []\n",
    "for i in analyzed_range:\n",
    "\n",
    "    # Buckets by author name, finding first commit for each of them\n",
    "    s = create_search(source='git')\n",
    "    s.params(timeout=30)\n",
    "\n",
    "    # General filters\n",
    "    s = add_general_date_filters(s)\n",
    "    s = add_bot_filter(s)\n",
    "    s = add_merges_filter(s)\n",
    "    \n",
    "    # Filter commits to the Project Repos\n",
    "    s = add_project_filter(s)\n",
    "    \n",
    "    \n",
    "    # Retrieve commits before given year\n",
    "    s = s.filter('range', grimoire_creation_date={'lt': 'now-' + str(i) + 'y/y'})\n",
    "\n",
    "    # Bucketize by uuid and get first and last commit\n",
    "    s.aggs.bucket('authors', 'terms', field='author_uuid', size=100000) \\\n",
    "        .metric('first', 'top_hits', _source=['author_date', 'author_org_name', 'author_uuid', 'repo_name'],\n",
    "                size=1, sort=[{\"author_date\": {\"order\": \"asc\"}}]) \\\n",
    "        .metric('last_commit', 'max', field='author_date')\n",
    "    s = s.sort(\"author_date\")\n",
    "    #print(s.to_dict())\n",
    "    results.append(s.execute())\n",
    "\n",
    " \n",
    "authors_dfs = []\n",
    "for result in results:\n",
    "    authors_df = get_authors_df(result, author_bucket_field='authors')\n",
    "    authors_df['active_years'] = (authors_df.last_commit-authors_df.first_commit).astype('timedelta64[Y]')\n",
    "    authors_df['project'] = project_name\n",
    "    authors_dfs.append(authors_df)\n",
    "\n",
    "authors_dfs"
   ]
  },
  {
   "cell_type": "code",
   "execution_count": 48,
   "metadata": {
    "collapsed": false
   },
   "outputs": [
    {
     "data": {
      "text/plain": [
       "[    first_commit  author\n",
       " 0          -2016    2459\n",
       " 1          -2015    2571\n",
       " 2          -2014    2391\n",
       " 3          -2013    1636\n",
       " 4          -2012    1158\n",
       " 5          -2011    1004\n",
       " 6          -2010     752\n",
       " 7          -2009     564\n",
       " 8          -2008     528\n",
       " 9          -2007     416\n",
       " 10         -2006     138\n",
       " 11         -2005      95\n",
       " 12         -2004      53\n",
       " 13         -2003      58\n",
       " 14         -2002      53\n",
       " 15         -2001      93\n",
       " 16         -2000     115\n",
       " 17         -1999      91\n",
       " 18         -1998     235,     first_commit  author\n",
       " 0          -2015    2571\n",
       " 1          -2014    2391\n",
       " 2          -2013    1636\n",
       " 3          -2012    1158\n",
       " 4          -2011    1004\n",
       " 5          -2010     752\n",
       " 6          -2009     564\n",
       " 7          -2008     528\n",
       " 8          -2007     416\n",
       " 9          -2006     138\n",
       " 10         -2005      95\n",
       " 11         -2004      53\n",
       " 12         -2003      58\n",
       " 13         -2002      53\n",
       " 14         -2001      93\n",
       " 15         -2000     115\n",
       " 16         -1999      91\n",
       " 17         -1998     235,     first_commit  author\n",
       " 0          -2014    2391\n",
       " 1          -2013    1636\n",
       " 2          -2012    1158\n",
       " 3          -2011    1004\n",
       " 4          -2010     752\n",
       " 5          -2009     564\n",
       " 6          -2008     528\n",
       " 7          -2007     416\n",
       " 8          -2006     138\n",
       " 9          -2005      95\n",
       " 10         -2004      53\n",
       " 11         -2003      58\n",
       " 12         -2002      53\n",
       " 13         -2001      93\n",
       " 14         -2000     115\n",
       " 15         -1999      91\n",
       " 16         -1998     235,     first_commit  author\n",
       " 0          -2014       1\n",
       " 1          -2013    1636\n",
       " 2          -2012    1158\n",
       " 3          -2011    1004\n",
       " 4          -2010     752\n",
       " 5          -2009     564\n",
       " 6          -2008     528\n",
       " 7          -2007     416\n",
       " 8          -2006     138\n",
       " 9          -2005      95\n",
       " 10         -2004      53\n",
       " 11         -2003      58\n",
       " 12         -2002      53\n",
       " 13         -2001      93\n",
       " 14         -2000     115\n",
       " 15         -1999      91\n",
       " 16         -1998     235,     first_commit  author\n",
       " 0          -2012    1157\n",
       " 1          -2011    1004\n",
       " 2          -2010     752\n",
       " 3          -2009     564\n",
       " 4          -2008     528\n",
       " 5          -2007     416\n",
       " 6          -2006     138\n",
       " 7          -2005      95\n",
       " 8          -2004      53\n",
       " 9          -2003      58\n",
       " 10         -2002      53\n",
       " 11         -2001      93\n",
       " 12         -2000     115\n",
       " 13         -1999      91\n",
       " 14         -1998     235,     first_commit  author\n",
       " 0          -2011    1003\n",
       " 1          -2010     752\n",
       " 2          -2009     564\n",
       " 3          -2008     528\n",
       " 4          -2007     416\n",
       " 5          -2006     138\n",
       " 6          -2005      95\n",
       " 7          -2004      53\n",
       " 8          -2003      58\n",
       " 9          -2002      53\n",
       " 10         -2001      93\n",
       " 11         -2000     115\n",
       " 12         -1999      91\n",
       " 13         -1998     235,     first_commit  author\n",
       " 0          -2010     752\n",
       " 1          -2009     564\n",
       " 2          -2008     528\n",
       " 3          -2007     416\n",
       " 4          -2006     138\n",
       " 5          -2005      95\n",
       " 6          -2004      53\n",
       " 7          -2003      58\n",
       " 8          -2002      53\n",
       " 9          -2001      93\n",
       " 10         -2000     115\n",
       " 11         -1999      91\n",
       " 12         -1998     235,     first_commit  author\n",
       " 0          -2009     564\n",
       " 1          -2008     528\n",
       " 2          -2007     416\n",
       " 3          -2006     138\n",
       " 4          -2005      95\n",
       " 5          -2004      53\n",
       " 6          -2003      58\n",
       " 7          -2002      53\n",
       " 8          -2001      93\n",
       " 9          -2000     115\n",
       " 10         -1999      91\n",
       " 11         -1998     235,     first_commit  author\n",
       " 0          -2008     528\n",
       " 1          -2007     416\n",
       " 2          -2006     138\n",
       " 3          -2005      95\n",
       " 4          -2004      53\n",
       " 5          -2003      58\n",
       " 6          -2002      53\n",
       " 7          -2001      93\n",
       " 8          -2000     115\n",
       " 9          -1999      91\n",
       " 10         -1998     235,    first_commit  author\n",
       " 0         -2007     416\n",
       " 1         -2006     138\n",
       " 2         -2005      95\n",
       " 3         -2004      53\n",
       " 4         -2003      58\n",
       " 5         -2002      53\n",
       " 6         -2001      93\n",
       " 7         -2000     115\n",
       " 8         -1999      91\n",
       " 9         -1998     235]"
      ]
     },
     "execution_count": 48,
     "metadata": {},
     "output_type": "execute_result"
    }
   ],
   "source": [
    "# AUTHORS GROUPED BY FIRST COMMIT DATE\n",
    "\n",
    "attraction_dfs = []\n",
    "for authors_df in authors_dfs:\n",
    "    attraction_df = authors_df.copy()\n",
    "    attraction_df['first_commit'] = attraction_df['first_commit'].apply(lambda x: str(pandas.Period(x,'A')))\n",
    "    attraction_df['first_commit'] = attraction_df['first_commit'].apply(lambda x: int(x) * -1)\n",
    "    attraction_df = attraction_df.groupby(['first_commit']).agg({'author': pandas.Series.nunique})\n",
    "    attraction_df = attraction_df.reset_index()  \n",
    "    attraction_dfs.append(attraction_df)  \n",
    "\n",
    "attraction_dfs"
   ]
  },
  {
   "cell_type": "code",
   "execution_count": 32,
   "metadata": {
    "collapsed": false,
    "scrolled": false
   },
   "outputs": [
    {
     "data": {
      "text/html": [
       "<script>requirejs.config({paths: { 'plotly': ['https://cdn.plot.ly/plotly-latest.min']},});if(!window.Plotly) {{require(['plotly'],function(plotly) {window.Plotly=plotly;});}}</script>"
      ],
      "text/vnd.plotly.v1+html": [
       "<script>requirejs.config({paths: { 'plotly': ['https://cdn.plot.ly/plotly-latest.min']},});if(!window.Plotly) {{require(['plotly'],function(plotly) {window.Plotly=plotly;});}}</script>"
      ]
     },
     "metadata": {},
     "output_type": "display_data"
    },
    {
     "data": {
      "application/vnd.plotly.v1+json": {
       "data": [
        {
         "orientation": "h",
         "type": "bar",
         "x": [
          2459,
          2571,
          2391,
          1636,
          1158,
          1004,
          752,
          564,
          528,
          416,
          138,
          95,
          53,
          58,
          53,
          93,
          115,
          91,
          235
         ],
         "y": [
          -2016,
          -2015,
          -2014,
          -2013,
          -2012,
          -2011,
          -2010,
          -2009,
          -2008,
          -2007,
          -2006,
          -2005,
          -2004,
          -2003,
          -2002,
          -2001,
          -2000,
          -1999,
          -1998
         ]
        }
       ],
       "layout": {
        "barmode": "group",
        "title": "All 2016"
       }
      },
      "text/html": [
       "<div id=\"03721050-d225-4c02-ae8c-72eb2c037b34\" style=\"height: 525px; width: 100%;\" class=\"plotly-graph-div\"></div><script type=\"text/javascript\">require([\"plotly\"], function(Plotly) { window.PLOTLYENV=window.PLOTLYENV || {};window.PLOTLYENV.BASE_URL=\"https://plot.ly\";Plotly.newPlot(\"03721050-d225-4c02-ae8c-72eb2c037b34\", [{\"x\": [2459, 2571, 2391, 1636, 1158, 1004, 752, 564, 528, 416, 138, 95, 53, 58, 53, 93, 115, 91, 235], \"orientation\": \"h\", \"type\": \"bar\", \"y\": [-2016, -2015, -2014, -2013, -2012, -2011, -2010, -2009, -2008, -2007, -2006, -2005, -2004, -2003, -2002, -2001, -2000, -1999, -1998]}], {\"title\": \"All 2016\", \"barmode\": \"group\"}, {\"showLink\": true, \"linkText\": \"Export to plot.ly\"})});</script>"
      ],
      "text/vnd.plotly.v1+html": [
       "<div id=\"03721050-d225-4c02-ae8c-72eb2c037b34\" style=\"height: 525px; width: 100%;\" class=\"plotly-graph-div\"></div><script type=\"text/javascript\">require([\"plotly\"], function(Plotly) { window.PLOTLYENV=window.PLOTLYENV || {};window.PLOTLYENV.BASE_URL=\"https://plot.ly\";Plotly.newPlot(\"03721050-d225-4c02-ae8c-72eb2c037b34\", [{\"x\": [2459, 2571, 2391, 1636, 1158, 1004, 752, 564, 528, 416, 138, 95, 53, 58, 53, 93, 115, 91, 235], \"orientation\": \"h\", \"type\": \"bar\", \"y\": [-2016, -2015, -2014, -2013, -2012, -2011, -2010, -2009, -2008, -2007, -2006, -2005, -2004, -2003, -2002, -2001, -2000, -1999, -1998]}], {\"title\": \"All 2016\", \"barmode\": \"group\"}, {\"showLink\": true, \"linkText\": \"Export to plot.ly\"})});</script>"
      ]
     },
     "metadata": {},
     "output_type": "display_data"
    }
   ],
   "source": [
    "# Plot bar charts for each dataframe\n",
    "attraction_df = attraction_dfs[0]\n",
    "    \n",
    "plotly.offline.init_notebook_mode(connected=True)\n",
    "        \n",
    "data = [go.Bar(\n",
    "        x=attraction_df['author'],\n",
    "        y=attraction_df['first_commit'],\n",
    "        orientation = 'h'\n",
    ")]\n",
    "\n",
    "layout = go.Layout(\n",
    "    barmode='group',\n",
    "    title=project_name + ' ' + str(2016)\n",
    ")\n",
    "\n",
    "fig = go.Figure(data=data, layout=layout)\n",
    "plotly.offline.iplot(fig, filename='horizontal-bar')   "
   ]
  },
  {
   "cell_type": "markdown",
   "metadata": {},
   "source": [
    "## Time from first to last contrib for authors who made a commit before a given year \n",
    "\n",
    "Next plot shows the number of authors grouped by time from their first to last contribution. This give us an idea of how long contributors are around the community. In this chart we don't have any clue of their activity in that period, just a quick and approximate glance of the time they remain around the community.\n",
    "\n",
    "**Long bars in group of 0 years of experiece means that there are many people who made their first and last contributions whithin the same year along the whole period**. That is, the accumulated sum of people who made all their contributions within same year from 1998.\n",
    "\n",
    "* Y axis corresponds to the difference in years from first to last contributions.\n",
    "* X axis corresponds to the number of contributors in the given group.\n",
    "* Each plot shows a snapshot of this information from the specified year to the past (1998 was chosen as the oldest date to get results from). "
   ]
  },
  {
   "cell_type": "code",
   "execution_count": 26,
   "metadata": {
    "collapsed": false,
    "scrolled": false
   },
   "outputs": [
    {
     "data": {
      "text/html": [
       "<script>requirejs.config({paths: { 'plotly': ['https://cdn.plot.ly/plotly-latest.min']},});if(!window.Plotly) {{require(['plotly'],function(plotly) {window.Plotly=plotly;});}}</script>"
      ],
      "text/vnd.plotly.v1+html": [
       "<script>requirejs.config({paths: { 'plotly': ['https://cdn.plot.ly/plotly-latest.min']},});if(!window.Plotly) {{require(['plotly'],function(plotly) {window.Plotly=plotly;});}}</script>"
      ]
     },
     "metadata": {},
     "output_type": "display_data"
    },
    {
     "data": {
      "application/vnd.plotly.v1+json": {
       "data": [
        {
         "orientation": "h",
         "type": "bar",
         "x": [
          11082,
          1205,
          662,
          438,
          317,
          233,
          161,
          129,
          109,
          51,
          5,
          7,
          4,
          2,
          0,
          1,
          2,
          1,
          1
         ],
         "y": [
          0,
          1,
          2,
          3,
          4,
          5,
          6,
          7,
          8,
          9,
          10,
          11,
          12,
          13,
          14,
          15,
          16,
          17,
          18
         ]
        }
       ],
       "layout": {
        "barmode": "group",
        "title": "All 2016"
       }
      },
      "text/html": [
       "<div id=\"da87811c-7924-4324-b3cb-daf663c7d74e\" style=\"height: 525px; width: 100%;\" class=\"plotly-graph-div\"></div><script type=\"text/javascript\">require([\"plotly\"], function(Plotly) { window.PLOTLYENV=window.PLOTLYENV || {};window.PLOTLYENV.BASE_URL=\"https://plot.ly\";Plotly.newPlot(\"da87811c-7924-4324-b3cb-daf663c7d74e\", [{\"x\": [11082, 1205, 662, 438, 317, 233, 161, 129, 109, 51, 5, 7, 4, 2, 0, 1, 2, 1, 1], \"orientation\": \"h\", \"type\": \"bar\", \"y\": [0, 1, 2, 3, 4, 5, 6, 7, 8, 9, 10, 11, 12, 13, 14, 15, 16, 17, 18]}], {\"title\": \"All 2016\", \"barmode\": \"group\"}, {\"showLink\": true, \"linkText\": \"Export to plot.ly\"})});</script>"
      ],
      "text/vnd.plotly.v1+html": [
       "<div id=\"da87811c-7924-4324-b3cb-daf663c7d74e\" style=\"height: 525px; width: 100%;\" class=\"plotly-graph-div\"></div><script type=\"text/javascript\">require([\"plotly\"], function(Plotly) { window.PLOTLYENV=window.PLOTLYENV || {};window.PLOTLYENV.BASE_URL=\"https://plot.ly\";Plotly.newPlot(\"da87811c-7924-4324-b3cb-daf663c7d74e\", [{\"x\": [11082, 1205, 662, 438, 317, 233, 161, 129, 109, 51, 5, 7, 4, 2, 0, 1, 2, 1, 1], \"orientation\": \"h\", \"type\": \"bar\", \"y\": [0, 1, 2, 3, 4, 5, 6, 7, 8, 9, 10, 11, 12, 13, 14, 15, 16, 17, 18]}], {\"title\": \"All 2016\", \"barmode\": \"group\"}, {\"showLink\": true, \"linkText\": \"Export to plot.ly\"})});</script>"
      ]
     },
     "metadata": {},
     "output_type": "display_data"
    },
    {
     "data": {
      "text/html": [
       "<script>requirejs.config({paths: { 'plotly': ['https://cdn.plot.ly/plotly-latest.min']},});if(!window.Plotly) {{require(['plotly'],function(plotly) {window.Plotly=plotly;});}}</script>"
      ],
      "text/vnd.plotly.v1+html": [
       "<script>requirejs.config({paths: { 'plotly': ['https://cdn.plot.ly/plotly-latest.min']},});if(!window.Plotly) {{require(['plotly'],function(plotly) {window.Plotly=plotly;});}}</script>"
      ]
     },
     "metadata": {},
     "output_type": "display_data"
    },
    {
     "data": {
      "application/vnd.plotly.v1+json": {
       "data": [
        {
         "orientation": "h",
         "type": "bar",
         "x": [
          9180,
          969,
          596,
          372,
          266,
          180,
          145,
          122,
          98,
          4,
          7,
          3,
          2,
          2,
          1,
          3,
          0,
          1
         ],
         "y": [
          0,
          1,
          2,
          3,
          4,
          5,
          6,
          7,
          8,
          9,
          10,
          11,
          12,
          13,
          14,
          15,
          16,
          17
         ]
        }
       ],
       "layout": {
        "barmode": "group",
        "title": "All 2015"
       }
      },
      "text/html": [
       "<div id=\"ac0bcac0-d7d5-4c7b-9770-0918c4d0c959\" style=\"height: 525px; width: 100%;\" class=\"plotly-graph-div\"></div><script type=\"text/javascript\">require([\"plotly\"], function(Plotly) { window.PLOTLYENV=window.PLOTLYENV || {};window.PLOTLYENV.BASE_URL=\"https://plot.ly\";Plotly.newPlot(\"ac0bcac0-d7d5-4c7b-9770-0918c4d0c959\", [{\"x\": [9180, 969, 596, 372, 266, 180, 145, 122, 98, 4, 7, 3, 2, 2, 1, 3, 0, 1], \"orientation\": \"h\", \"type\": \"bar\", \"y\": [0, 1, 2, 3, 4, 5, 6, 7, 8, 9, 10, 11, 12, 13, 14, 15, 16, 17]}], {\"title\": \"All 2015\", \"barmode\": \"group\"}, {\"showLink\": true, \"linkText\": \"Export to plot.ly\"})});</script>"
      ],
      "text/vnd.plotly.v1+html": [
       "<div id=\"ac0bcac0-d7d5-4c7b-9770-0918c4d0c959\" style=\"height: 525px; width: 100%;\" class=\"plotly-graph-div\"></div><script type=\"text/javascript\">require([\"plotly\"], function(Plotly) { window.PLOTLYENV=window.PLOTLYENV || {};window.PLOTLYENV.BASE_URL=\"https://plot.ly\";Plotly.newPlot(\"ac0bcac0-d7d5-4c7b-9770-0918c4d0c959\", [{\"x\": [9180, 969, 596, 372, 266, 180, 145, 122, 98, 4, 7, 3, 2, 2, 1, 3, 0, 1], \"orientation\": \"h\", \"type\": \"bar\", \"y\": [0, 1, 2, 3, 4, 5, 6, 7, 8, 9, 10, 11, 12, 13, 14, 15, 16, 17]}], {\"title\": \"All 2015\", \"barmode\": \"group\"}, {\"showLink\": true, \"linkText\": \"Export to plot.ly\"})});</script>"
      ]
     },
     "metadata": {},
     "output_type": "display_data"
    },
    {
     "data": {
      "text/html": [
       "<script>requirejs.config({paths: { 'plotly': ['https://cdn.plot.ly/plotly-latest.min']},});if(!window.Plotly) {{require(['plotly'],function(plotly) {window.Plotly=plotly;});}}</script>"
      ],
      "text/vnd.plotly.v1+html": [
       "<script>requirejs.config({paths: { 'plotly': ['https://cdn.plot.ly/plotly-latest.min']},});if(!window.Plotly) {{require(['plotly'],function(plotly) {window.Plotly=plotly;});}}</script>"
      ]
     },
     "metadata": {},
     "output_type": "display_data"
    },
    {
     "data": {
      "application/vnd.plotly.v1+json": {
       "data": [
        {
         "orientation": "h",
         "type": "bar",
         "x": [
          7091,
          827,
          495,
          308,
          185,
          161,
          147,
          102,
          44,
          7,
          3,
          1,
          3,
          2,
          2,
          1,
          1
         ],
         "y": [
          0,
          1,
          2,
          3,
          4,
          5,
          6,
          7,
          8,
          9,
          10,
          11,
          12,
          13,
          14,
          15,
          16
         ]
        }
       ],
       "layout": {
        "barmode": "group",
        "title": "All 2014"
       }
      },
      "text/html": [
       "<div id=\"efc1514d-a3fb-4c79-aa9c-e2700afa83bb\" style=\"height: 525px; width: 100%;\" class=\"plotly-graph-div\"></div><script type=\"text/javascript\">require([\"plotly\"], function(Plotly) { window.PLOTLYENV=window.PLOTLYENV || {};window.PLOTLYENV.BASE_URL=\"https://plot.ly\";Plotly.newPlot(\"efc1514d-a3fb-4c79-aa9c-e2700afa83bb\", [{\"x\": [7091, 827, 495, 308, 185, 161, 147, 102, 44, 7, 3, 1, 3, 2, 2, 1, 1], \"orientation\": \"h\", \"type\": \"bar\", \"y\": [0, 1, 2, 3, 4, 5, 6, 7, 8, 9, 10, 11, 12, 13, 14, 15, 16]}], {\"title\": \"All 2014\", \"barmode\": \"group\"}, {\"showLink\": true, \"linkText\": \"Export to plot.ly\"})});</script>"
      ],
      "text/vnd.plotly.v1+html": [
       "<div id=\"efc1514d-a3fb-4c79-aa9c-e2700afa83bb\" style=\"height: 525px; width: 100%;\" class=\"plotly-graph-div\"></div><script type=\"text/javascript\">require([\"plotly\"], function(Plotly) { window.PLOTLYENV=window.PLOTLYENV || {};window.PLOTLYENV.BASE_URL=\"https://plot.ly\";Plotly.newPlot(\"efc1514d-a3fb-4c79-aa9c-e2700afa83bb\", [{\"x\": [7091, 827, 495, 308, 185, 161, 147, 102, 44, 7, 3, 1, 3, 2, 2, 1, 1], \"orientation\": \"h\", \"type\": \"bar\", \"y\": [0, 1, 2, 3, 4, 5, 6, 7, 8, 9, 10, 11, 12, 13, 14, 15, 16]}], {\"title\": \"All 2014\", \"barmode\": \"group\"}, {\"showLink\": true, \"linkText\": \"Export to plot.ly\"})});</script>"
      ]
     },
     "metadata": {},
     "output_type": "display_data"
    },
    {
     "data": {
      "text/html": [
       "<script>requirejs.config({paths: { 'plotly': ['https://cdn.plot.ly/plotly-latest.min']},});if(!window.Plotly) {{require(['plotly'],function(plotly) {window.Plotly=plotly;});}}</script>"
      ],
      "text/vnd.plotly.v1+html": [
       "<script>requirejs.config({paths: { 'plotly': ['https://cdn.plot.ly/plotly-latest.min']},});if(!window.Plotly) {{require(['plotly'],function(plotly) {window.Plotly=plotly;});}}</script>"
      ]
     },
     "metadata": {},
     "output_type": "display_data"
    },
    {
     "data": {
      "application/vnd.plotly.v1+json": {
       "data": [
        {
         "orientation": "h",
         "type": "bar",
         "x": [
          5153,
          696,
          384,
          210,
          162,
          154,
          127,
          44,
          46,
          2,
          2,
          2,
          3,
          3,
          1,
          1
         ],
         "y": [
          0,
          1,
          2,
          3,
          4,
          5,
          6,
          7,
          8,
          9,
          10,
          11,
          12,
          13,
          14,
          15
         ]
        }
       ],
       "layout": {
        "barmode": "group",
        "title": "All 2013"
       }
      },
      "text/html": [
       "<div id=\"4f1f06d9-219c-4872-be4d-e0148b9d8ef1\" style=\"height: 525px; width: 100%;\" class=\"plotly-graph-div\"></div><script type=\"text/javascript\">require([\"plotly\"], function(Plotly) { window.PLOTLYENV=window.PLOTLYENV || {};window.PLOTLYENV.BASE_URL=\"https://plot.ly\";Plotly.newPlot(\"4f1f06d9-219c-4872-be4d-e0148b9d8ef1\", [{\"x\": [5153, 696, 384, 210, 162, 154, 127, 44, 46, 2, 2, 2, 3, 3, 1, 1], \"orientation\": \"h\", \"type\": \"bar\", \"y\": [0, 1, 2, 3, 4, 5, 6, 7, 8, 9, 10, 11, 12, 13, 14, 15]}], {\"title\": \"All 2013\", \"barmode\": \"group\"}, {\"showLink\": true, \"linkText\": \"Export to plot.ly\"})});</script>"
      ],
      "text/vnd.plotly.v1+html": [
       "<div id=\"4f1f06d9-219c-4872-be4d-e0148b9d8ef1\" style=\"height: 525px; width: 100%;\" class=\"plotly-graph-div\"></div><script type=\"text/javascript\">require([\"plotly\"], function(Plotly) { window.PLOTLYENV=window.PLOTLYENV || {};window.PLOTLYENV.BASE_URL=\"https://plot.ly\";Plotly.newPlot(\"4f1f06d9-219c-4872-be4d-e0148b9d8ef1\", [{\"x\": [5153, 696, 384, 210, 162, 154, 127, 44, 46, 2, 2, 2, 3, 3, 1, 1], \"orientation\": \"h\", \"type\": \"bar\", \"y\": [0, 1, 2, 3, 4, 5, 6, 7, 8, 9, 10, 11, 12, 13, 14, 15]}], {\"title\": \"All 2013\", \"barmode\": \"group\"}, {\"showLink\": true, \"linkText\": \"Export to plot.ly\"})});</script>"
      ]
     },
     "metadata": {},
     "output_type": "display_data"
    },
    {
     "data": {
      "text/html": [
       "<script>requirejs.config({paths: { 'plotly': ['https://cdn.plot.ly/plotly-latest.min']},});if(!window.Plotly) {{require(['plotly'],function(plotly) {window.Plotly=plotly;});}}</script>"
      ],
      "text/vnd.plotly.v1+html": [
       "<script>requirejs.config({paths: { 'plotly': ['https://cdn.plot.ly/plotly-latest.min']},});if(!window.Plotly) {{require(['plotly'],function(plotly) {window.Plotly=plotly;});}}</script>"
      ]
     },
     "metadata": {},
     "output_type": "display_data"
    },
    {
     "data": {
      "application/vnd.plotly.v1+json": {
       "data": [
        {
         "orientation": "h",
         "type": "bar",
         "x": [
          3874,
          556,
          291,
          179,
          149,
          135,
          65,
          52,
          38,
          2,
          3,
          2,
          3,
          2,
          1
         ],
         "y": [
          0,
          1,
          2,
          3,
          4,
          5,
          6,
          7,
          8,
          9,
          10,
          11,
          12,
          13,
          14
         ]
        }
       ],
       "layout": {
        "barmode": "group",
        "title": "All 2012"
       }
      },
      "text/html": [
       "<div id=\"c68756b9-b0ff-4c71-81c1-a86dd93b37ee\" style=\"height: 525px; width: 100%;\" class=\"plotly-graph-div\"></div><script type=\"text/javascript\">require([\"plotly\"], function(Plotly) { window.PLOTLYENV=window.PLOTLYENV || {};window.PLOTLYENV.BASE_URL=\"https://plot.ly\";Plotly.newPlot(\"c68756b9-b0ff-4c71-81c1-a86dd93b37ee\", [{\"x\": [3874, 556, 291, 179, 149, 135, 65, 52, 38, 2, 3, 2, 3, 2, 1], \"orientation\": \"h\", \"type\": \"bar\", \"y\": [0, 1, 2, 3, 4, 5, 6, 7, 8, 9, 10, 11, 12, 13, 14]}], {\"title\": \"All 2012\", \"barmode\": \"group\"}, {\"showLink\": true, \"linkText\": \"Export to plot.ly\"})});</script>"
      ],
      "text/vnd.plotly.v1+html": [
       "<div id=\"c68756b9-b0ff-4c71-81c1-a86dd93b37ee\" style=\"height: 525px; width: 100%;\" class=\"plotly-graph-div\"></div><script type=\"text/javascript\">require([\"plotly\"], function(Plotly) { window.PLOTLYENV=window.PLOTLYENV || {};window.PLOTLYENV.BASE_URL=\"https://plot.ly\";Plotly.newPlot(\"c68756b9-b0ff-4c71-81c1-a86dd93b37ee\", [{\"x\": [3874, 556, 291, 179, 149, 135, 65, 52, 38, 2, 3, 2, 3, 2, 1], \"orientation\": \"h\", \"type\": \"bar\", \"y\": [0, 1, 2, 3, 4, 5, 6, 7, 8, 9, 10, 11, 12, 13, 14]}], {\"title\": \"All 2012\", \"barmode\": \"group\"}, {\"showLink\": true, \"linkText\": \"Export to plot.ly\"})});</script>"
      ]
     },
     "metadata": {},
     "output_type": "display_data"
    },
    {
     "data": {
      "text/html": [
       "<script>requirejs.config({paths: { 'plotly': ['https://cdn.plot.ly/plotly-latest.min']},});if(!window.Plotly) {{require(['plotly'],function(plotly) {window.Plotly=plotly;});}}</script>"
      ],
      "text/vnd.plotly.v1+html": [
       "<script>requirejs.config({paths: { 'plotly': ['https://cdn.plot.ly/plotly-latest.min']},});if(!window.Plotly) {{require(['plotly'],function(plotly) {window.Plotly=plotly;});}}</script>"
      ]
     },
     "metadata": {},
     "output_type": "display_data"
    },
    {
     "data": {
      "application/vnd.plotly.v1+json": {
       "data": [
        {
         "orientation": "h",
         "type": "bar",
         "x": [
          3024,
          409,
          241,
          166,
          128,
          67,
          66,
          43,
          38,
          3,
          3,
          2,
          3,
          1
         ],
         "y": [
          0,
          1,
          2,
          3,
          4,
          5,
          6,
          7,
          8,
          9,
          10,
          11,
          12,
          13
         ]
        }
       ],
       "layout": {
        "barmode": "group",
        "title": "All 2011"
       }
      },
      "text/html": [
       "<div id=\"a18b9638-4808-4991-a872-ee5c5e0eaf5c\" style=\"height: 525px; width: 100%;\" class=\"plotly-graph-div\"></div><script type=\"text/javascript\">require([\"plotly\"], function(Plotly) { window.PLOTLYENV=window.PLOTLYENV || {};window.PLOTLYENV.BASE_URL=\"https://plot.ly\";Plotly.newPlot(\"a18b9638-4808-4991-a872-ee5c5e0eaf5c\", [{\"x\": [3024, 409, 241, 166, 128, 67, 66, 43, 38, 3, 3, 2, 3, 1], \"orientation\": \"h\", \"type\": \"bar\", \"y\": [0, 1, 2, 3, 4, 5, 6, 7, 8, 9, 10, 11, 12, 13]}], {\"title\": \"All 2011\", \"barmode\": \"group\"}, {\"showLink\": true, \"linkText\": \"Export to plot.ly\"})});</script>"
      ],
      "text/vnd.plotly.v1+html": [
       "<div id=\"a18b9638-4808-4991-a872-ee5c5e0eaf5c\" style=\"height: 525px; width: 100%;\" class=\"plotly-graph-div\"></div><script type=\"text/javascript\">require([\"plotly\"], function(Plotly) { window.PLOTLYENV=window.PLOTLYENV || {};window.PLOTLYENV.BASE_URL=\"https://plot.ly\";Plotly.newPlot(\"a18b9638-4808-4991-a872-ee5c5e0eaf5c\", [{\"x\": [3024, 409, 241, 166, 128, 67, 66, 43, 38, 3, 3, 2, 3, 1], \"orientation\": \"h\", \"type\": \"bar\", \"y\": [0, 1, 2, 3, 4, 5, 6, 7, 8, 9, 10, 11, 12, 13]}], {\"title\": \"All 2011\", \"barmode\": \"group\"}, {\"showLink\": true, \"linkText\": \"Export to plot.ly\"})});</script>"
      ]
     },
     "metadata": {},
     "output_type": "display_data"
    },
    {
     "data": {
      "text/html": [
       "<script>requirejs.config({paths: { 'plotly': ['https://cdn.plot.ly/plotly-latest.min']},});if(!window.Plotly) {{require(['plotly'],function(plotly) {window.Plotly=plotly;});}}</script>"
      ],
      "text/vnd.plotly.v1+html": [
       "<script>requirejs.config({paths: { 'plotly': ['https://cdn.plot.ly/plotly-latest.min']},});if(!window.Plotly) {{require(['plotly'],function(plotly) {window.Plotly=plotly;});}}</script>"
      ]
     },
     "metadata": {},
     "output_type": "display_data"
    },
    {
     "data": {
      "application/vnd.plotly.v1+json": {
       "data": [
        {
         "orientation": "h",
         "type": "bar",
         "x": [
          2217,
          367,
          202,
          131,
          57,
          69,
          58,
          43,
          38,
          2,
          3,
          1,
          3
         ],
         "y": [
          0,
          1,
          2,
          3,
          4,
          5,
          6,
          7,
          8,
          9,
          10,
          11,
          12
         ]
        }
       ],
       "layout": {
        "barmode": "group",
        "title": "All 2010"
       }
      },
      "text/html": [
       "<div id=\"18fb3ead-083c-4580-8915-9dff1f38a61b\" style=\"height: 525px; width: 100%;\" class=\"plotly-graph-div\"></div><script type=\"text/javascript\">require([\"plotly\"], function(Plotly) { window.PLOTLYENV=window.PLOTLYENV || {};window.PLOTLYENV.BASE_URL=\"https://plot.ly\";Plotly.newPlot(\"18fb3ead-083c-4580-8915-9dff1f38a61b\", [{\"x\": [2217, 367, 202, 131, 57, 69, 58, 43, 38, 2, 3, 1, 3], \"orientation\": \"h\", \"type\": \"bar\", \"y\": [0, 1, 2, 3, 4, 5, 6, 7, 8, 9, 10, 11, 12]}], {\"title\": \"All 2010\", \"barmode\": \"group\"}, {\"showLink\": true, \"linkText\": \"Export to plot.ly\"})});</script>"
      ],
      "text/vnd.plotly.v1+html": [
       "<div id=\"18fb3ead-083c-4580-8915-9dff1f38a61b\" style=\"height: 525px; width: 100%;\" class=\"plotly-graph-div\"></div><script type=\"text/javascript\">require([\"plotly\"], function(Plotly) { window.PLOTLYENV=window.PLOTLYENV || {};window.PLOTLYENV.BASE_URL=\"https://plot.ly\";Plotly.newPlot(\"18fb3ead-083c-4580-8915-9dff1f38a61b\", [{\"x\": [2217, 367, 202, 131, 57, 69, 58, 43, 38, 2, 3, 1, 3], \"orientation\": \"h\", \"type\": \"bar\", \"y\": [0, 1, 2, 3, 4, 5, 6, 7, 8, 9, 10, 11, 12]}], {\"title\": \"All 2010\", \"barmode\": \"group\"}, {\"showLink\": true, \"linkText\": \"Export to plot.ly\"})});</script>"
      ]
     },
     "metadata": {},
     "output_type": "display_data"
    },
    {
     "data": {
      "text/html": [
       "<script>requirejs.config({paths: { 'plotly': ['https://cdn.plot.ly/plotly-latest.min']},});if(!window.Plotly) {{require(['plotly'],function(plotly) {window.Plotly=plotly;});}}</script>"
      ],
      "text/vnd.plotly.v1+html": [
       "<script>requirejs.config({paths: { 'plotly': ['https://cdn.plot.ly/plotly-latest.min']},});if(!window.Plotly) {{require(['plotly'],function(plotly) {window.Plotly=plotly;});}}</script>"
      ]
     },
     "metadata": {},
     "output_type": "display_data"
    },
    {
     "data": {
      "application/vnd.plotly.v1+json": {
       "data": [
        {
         "orientation": "h",
         "type": "bar",
         "x": [
          1644,
          307,
          170,
          57,
          58,
          56,
          58,
          44,
          38,
          3,
          2,
          2
         ],
         "y": [
          0,
          1,
          2,
          3,
          4,
          5,
          6,
          7,
          8,
          9,
          10,
          11
         ]
        }
       ],
       "layout": {
        "barmode": "group",
        "title": "All 2009"
       }
      },
      "text/html": [
       "<div id=\"ef5692b5-1a3b-4ab6-b0c5-8ee3ef6f6031\" style=\"height: 525px; width: 100%;\" class=\"plotly-graph-div\"></div><script type=\"text/javascript\">require([\"plotly\"], function(Plotly) { window.PLOTLYENV=window.PLOTLYENV || {};window.PLOTLYENV.BASE_URL=\"https://plot.ly\";Plotly.newPlot(\"ef5692b5-1a3b-4ab6-b0c5-8ee3ef6f6031\", [{\"x\": [1644, 307, 170, 57, 58, 56, 58, 44, 38, 3, 2, 2], \"orientation\": \"h\", \"type\": \"bar\", \"y\": [0, 1, 2, 3, 4, 5, 6, 7, 8, 9, 10, 11]}], {\"title\": \"All 2009\", \"barmode\": \"group\"}, {\"showLink\": true, \"linkText\": \"Export to plot.ly\"})});</script>"
      ],
      "text/vnd.plotly.v1+html": [
       "<div id=\"ef5692b5-1a3b-4ab6-b0c5-8ee3ef6f6031\" style=\"height: 525px; width: 100%;\" class=\"plotly-graph-div\"></div><script type=\"text/javascript\">require([\"plotly\"], function(Plotly) { window.PLOTLYENV=window.PLOTLYENV || {};window.PLOTLYENV.BASE_URL=\"https://plot.ly\";Plotly.newPlot(\"ef5692b5-1a3b-4ab6-b0c5-8ee3ef6f6031\", [{\"x\": [1644, 307, 170, 57, 58, 56, 58, 44, 38, 3, 2, 2], \"orientation\": \"h\", \"type\": \"bar\", \"y\": [0, 1, 2, 3, 4, 5, 6, 7, 8, 9, 10, 11]}], {\"title\": \"All 2009\", \"barmode\": \"group\"}, {\"showLink\": true, \"linkText\": \"Export to plot.ly\"})});</script>"
      ]
     },
     "metadata": {},
     "output_type": "display_data"
    },
    {
     "data": {
      "text/html": [
       "<script>requirejs.config({paths: { 'plotly': ['https://cdn.plot.ly/plotly-latest.min']},});if(!window.Plotly) {{require(['plotly'],function(plotly) {window.Plotly=plotly;});}}</script>"
      ],
      "text/vnd.plotly.v1+html": [
       "<script>requirejs.config({paths: { 'plotly': ['https://cdn.plot.ly/plotly-latest.min']},});if(!window.Plotly) {{require(['plotly'],function(plotly) {window.Plotly=plotly;});}}</script>"
      ]
     },
     "metadata": {},
     "output_type": "display_data"
    },
    {
     "data": {
      "application/vnd.plotly.v1+json": {
       "data": [
        {
         "orientation": "h",
         "type": "bar",
         "x": [
          1219,
          268,
          86,
          55,
          47,
          55,
          59,
          44,
          39,
          1,
          2
         ],
         "y": [
          0,
          1,
          2,
          3,
          4,
          5,
          6,
          7,
          8,
          9,
          10
         ]
        }
       ],
       "layout": {
        "barmode": "group",
        "title": "All 2008"
       }
      },
      "text/html": [
       "<div id=\"d6667e9b-c278-4914-963d-44b923db55fa\" style=\"height: 525px; width: 100%;\" class=\"plotly-graph-div\"></div><script type=\"text/javascript\">require([\"plotly\"], function(Plotly) { window.PLOTLYENV=window.PLOTLYENV || {};window.PLOTLYENV.BASE_URL=\"https://plot.ly\";Plotly.newPlot(\"d6667e9b-c278-4914-963d-44b923db55fa\", [{\"x\": [1219, 268, 86, 55, 47, 55, 59, 44, 39, 1, 2], \"orientation\": \"h\", \"type\": \"bar\", \"y\": [0, 1, 2, 3, 4, 5, 6, 7, 8, 9, 10]}], {\"title\": \"All 2008\", \"barmode\": \"group\"}, {\"showLink\": true, \"linkText\": \"Export to plot.ly\"})});</script>"
      ],
      "text/vnd.plotly.v1+html": [
       "<div id=\"d6667e9b-c278-4914-963d-44b923db55fa\" style=\"height: 525px; width: 100%;\" class=\"plotly-graph-div\"></div><script type=\"text/javascript\">require([\"plotly\"], function(Plotly) { window.PLOTLYENV=window.PLOTLYENV || {};window.PLOTLYENV.BASE_URL=\"https://plot.ly\";Plotly.newPlot(\"d6667e9b-c278-4914-963d-44b923db55fa\", [{\"x\": [1219, 268, 86, 55, 47, 55, 59, 44, 39, 1, 2], \"orientation\": \"h\", \"type\": \"bar\", \"y\": [0, 1, 2, 3, 4, 5, 6, 7, 8, 9, 10]}], {\"title\": \"All 2008\", \"barmode\": \"group\"}, {\"showLink\": true, \"linkText\": \"Export to plot.ly\"})});</script>"
      ]
     },
     "metadata": {},
     "output_type": "display_data"
    },
    {
     "data": {
      "text/html": [
       "<script>requirejs.config({paths: { 'plotly': ['https://cdn.plot.ly/plotly-latest.min']},});if(!window.Plotly) {{require(['plotly'],function(plotly) {window.Plotly=plotly;});}}</script>"
      ],
      "text/vnd.plotly.v1+html": [
       "<script>requirejs.config({paths: { 'plotly': ['https://cdn.plot.ly/plotly-latest.min']},});if(!window.Plotly) {{require(['plotly'],function(plotly) {window.Plotly=plotly;});}}</script>"
      ]
     },
     "metadata": {},
     "output_type": "display_data"
    },
    {
     "data": {
      "application/vnd.plotly.v1+json": {
       "data": [
        {
         "orientation": "h",
         "type": "bar",
         "x": [
          858,
          121,
          81,
          43,
          45,
          57,
          59,
          43,
          38,
          2
         ],
         "y": [
          0,
          1,
          2,
          3,
          4,
          5,
          6,
          7,
          8,
          9
         ]
        }
       ],
       "layout": {
        "barmode": "group",
        "title": "All 2007"
       }
      },
      "text/html": [
       "<div id=\"4152bdd3-f205-4d70-b935-b5a86a2ed3e2\" style=\"height: 525px; width: 100%;\" class=\"plotly-graph-div\"></div><script type=\"text/javascript\">require([\"plotly\"], function(Plotly) { window.PLOTLYENV=window.PLOTLYENV || {};window.PLOTLYENV.BASE_URL=\"https://plot.ly\";Plotly.newPlot(\"4152bdd3-f205-4d70-b935-b5a86a2ed3e2\", [{\"x\": [858, 121, 81, 43, 45, 57, 59, 43, 38, 2], \"orientation\": \"h\", \"type\": \"bar\", \"y\": [0, 1, 2, 3, 4, 5, 6, 7, 8, 9]}], {\"title\": \"All 2007\", \"barmode\": \"group\"}, {\"showLink\": true, \"linkText\": \"Export to plot.ly\"})});</script>"
      ],
      "text/vnd.plotly.v1+html": [
       "<div id=\"4152bdd3-f205-4d70-b935-b5a86a2ed3e2\" style=\"height: 525px; width: 100%;\" class=\"plotly-graph-div\"></div><script type=\"text/javascript\">require([\"plotly\"], function(Plotly) { window.PLOTLYENV=window.PLOTLYENV || {};window.PLOTLYENV.BASE_URL=\"https://plot.ly\";Plotly.newPlot(\"4152bdd3-f205-4d70-b935-b5a86a2ed3e2\", [{\"x\": [858, 121, 81, 43, 45, 57, 59, 43, 38, 2], \"orientation\": \"h\", \"type\": \"bar\", \"y\": [0, 1, 2, 3, 4, 5, 6, 7, 8, 9]}], {\"title\": \"All 2007\", \"barmode\": \"group\"}, {\"showLink\": true, \"linkText\": \"Export to plot.ly\"})});</script>"
      ]
     },
     "metadata": {},
     "output_type": "display_data"
    }
   ],
   "source": [
    "# Plot bar charts for each dataframe\n",
    "i = 0\n",
    "for authors_df in authors_dfs:\n",
    "#    print(author_df['experience_years'].max(), type(author_df['experience_years'].max()))\n",
    "    print_horizontal_bar_chart(authors_df, 'active_years', title=project_name + ' ' + str(2016 - i))\n",
    "    i += 1"
   ]
  },
  {
   "cell_type": "markdown",
   "metadata": {},
   "source": [
    "## Time from first to last commit for authors active in a given year\n",
    "\n",
    "We define an author as **active** iff she made at least one commit within a given year. E.g. an author would be considered active in 2017 if she made a commit after Jan. 1st, 2017 and before Dec. 31st 2017. \n",
    "\n",
    "In other words, the difference with previous plots lies in having into account only contributors who made their last contribution in the year we are visualizing data from.\n",
    "\n",
    "* Y axis corresponds to the difference in years from first to last contributions.\n",
    "* X axis corresponds to the number of contributors in the given group.\n",
    "* Each plot shows a snapshot of this information from the specified year to the past (1998 was chosen as the oldest date to get results from). "
   ]
  },
  {
   "cell_type": "code",
   "execution_count": 27,
   "metadata": {
    "collapsed": false
   },
   "outputs": [
    {
     "data": {
      "text/plain": [
       "[                                        author        first_commit  \\\n",
       " 3554  149ad981c7f8acd65b9cb9a3f306833fc4b6ec8e 2016-12-31 12:01:23   \n",
       " 3303  778f8adac79c8593c8413792e9d838e0620797c1 2016-12-31 08:34:00   \n",
       " 4276  f0a27b3276baf429f51f6afed8ece01f1a09e7d0 2016-12-31 05:11:58   \n",
       " 3260  5c6bef06c5d1fa2e83f13db2046ec3d9d27bd00d 2016-12-30 23:09:23   \n",
       " 4028  977b2b48ece5125093c2cfdedb56be00bdba4f13 2016-12-30 22:21:03   \n",
       " 3813  57a1cf0d7a35c3f77475953873212148d3c01e1b 2016-12-30 21:55:02   \n",
       " 3338  8c536fb5c49a281f793cb47e933fd71403891960 2016-12-30 17:26:13   \n",
       " 4058  a1e6b9aca42df46460c5fed6a73cde615b2b04a3 2016-12-30 16:45:19   \n",
       " 3625  26e5b20e7ccff92ec895b5f4af3f5f0b9a5b0f0a 2016-12-30 14:34:47   \n",
       " 3100  09a899922407e40e04fa6ab865da040f06c0d904 2016-12-30 12:22:11   \n",
       " 3019  c91f349eb811f5870fe7b4e987bd34decfbf72cb 2016-12-30 11:34:16   \n",
       " 3959  829a9b7eae96736b2408c62c4b2843721116fe41 2016-12-29 23:33:52   \n",
       " 4150  c19b5436d45eb06bb0d9a16accd4a16da1ad9765 2016-12-29 14:21:07   \n",
       " 3633  286f050fe75f8123df329c88b74f3dd61b73bda4 2016-12-28 18:43:08   \n",
       " 4136  bd1da52b37734708ba675cb93b8ab3ab5ac5446c 2016-12-28 18:09:59   \n",
       " 3138  1c9ccec2047e42eb37053a6e93cb10781c56ec82 2016-12-28 16:53:00   \n",
       " 4054  a067de6a2df3134c3a54484d2c6c591e33292310 2016-12-28 14:40:00   \n",
       " 2729  1acb847ed91053f596e5d2a0fc8fe76fb4fba4af 2016-12-28 13:49:02   \n",
       " 3230  4d0114c7876b3d23637a32f6e203ab41d3f44c29 2016-12-28 07:37:45   \n",
       " 4141  be7f54d1d9bdb9670d03199e686f1879c83c0676 2016-12-27 18:40:18   \n",
       " 3519  0c0e7a91ec6c5fccdc12908ec0bce098eba1e6d2 2016-12-27 18:33:38   \n",
       " 3243  52502839f4fbdf5ace2fbdb762d45dbcc823b872 2016-12-27 11:23:01   \n",
       " 4300  f9c29c898de1dd801116553fd199756e8578cb16 2016-12-27 02:26:30   \n",
       " 3956  8029b8cbba702813f9db5fee076cd51cba88ea6b 2016-12-26 11:57:01   \n",
       " 3849  60f4fe71470b196031f56fc50d9baa62660a2ca9 2016-12-25 23:43:29   \n",
       " 3379  a70d6a435ee2abdde02c69ee51bf7295c83d1aed 2016-12-25 20:26:47   \n",
       " 1913  af14482946c22b366fa5dce339353678b9878f20 2016-12-25 03:23:16   \n",
       " 4251  e6a4f7d00dfd76c6953ddc69f277d6525c974c10 2016-12-24 21:15:34   \n",
       " 3781  4ec03c3a988487c297943fbc52c059aecb51246c 2016-12-24 17:06:15   \n",
       " 3504  08c839ef9eb306147e00a308b4aa00388d8e5e50 2016-12-24 00:25:16   \n",
       " ...                                        ...                 ...   \n",
       " 75    73e066ce1b0fd8ee11d6aa4736c1f5c590285f96 2007-03-25 20:27:53   \n",
       " 369   5b80cd385a616f664f577981d319228e54140ab3 2007-03-25 18:12:49   \n",
       " 225   0ec40ce175ddfc8e08261aea116358e0c674365d 2007-03-25 15:10:07   \n",
       " 20    0de25951f29e27d3f88f9f147232df558317b422 2007-03-25 11:53:37   \n",
       " 28    21dbe404e099f5ff0b2b60d00d2e01e6b5939534 2007-03-24 02:21:35   \n",
       " 99    3ce5cf7e2c6c20b26b5ce90fc675259625aac8bc 2007-03-23 13:26:20   \n",
       " 31    1d4774c538ef25e885a3a42ba2d677c1887c2fc7 2007-03-23 11:05:24   \n",
       " 68    37386bd48e4d331ba53d165915b7628e373d1605 2007-03-23 06:21:22   \n",
       " 4     1df126b5ab1e7aa3028f90aecce00bcde9509846 2007-03-22 23:24:27   \n",
       " 189   a8339f09985c33b0ccc932c3da26121f9f17e8e3 2007-03-22 17:56:55   \n",
       " 29    03e29d4afdf730f640dd755f0920defc8cd84f40 2007-03-22 16:57:55   \n",
       " 71    51821fcc077809c85412566dd68c8c9aefb1cf24 2007-03-22 16:04:51   \n",
       " 1554  5de3cb669674cb316787d84c5ce0d1d49d309c87 2007-03-16 10:04:56   \n",
       " 258   b22ace597dbbd807bf3f40ef0ef876b2cd43fec3 2007-02-09 20:37:57   \n",
       " 50    026dadb4b4a80d0784bc5dd83ba8416c9df67bef 2006-12-15 04:52:28   \n",
       " 165   0f0ec08bf1f4eb5c40b870a7c9bcd1658bf1c709 2006-07-28 17:00:10   \n",
       " 152   18059ca2cff257fe43e9813c64bbcccf73c17000 2005-11-25 08:16:37   \n",
       " 63    13a60864030aca4c2f0900dae82dad3c51261a25 2005-07-15 13:45:19   \n",
       " 82    326c96550be0eeb4d9f86200b235cf3ad3ba1ea0 2005-06-23 19:30:12   \n",
       " 15    1879909a711cdb23c6791c48283af011a033bb67 2005-06-05 19:48:15   \n",
       " 220   066612ecd1623bac421614a1d08ee9933f453505 2005-06-04 06:22:23   \n",
       " 2     233a57accda5944cbe95ac8a99843709cfd00390 2005-01-21 03:56:31   \n",
       " 295   3495c67b2bbba027d542de15f4405aac214d9709 2004-09-13 09:59:49   \n",
       " 1577  84f0cd329982f1d2cea46630e7fe25f632b2d422 2003-09-30 18:56:22   \n",
       " 134   0d121ebd63579eedb0336574053f601f8a6e7e73 2002-07-16 09:38:42   \n",
       " 373   1aaf2b61ba239a735ec1c357d9f6c11bd2888698 2001-02-12 13:04:06   \n",
       " 80    1ed27760bba7202e2ae04760fe950a05e011c4de 2000-12-05 22:36:26   \n",
       " 132   0dbb694e712685775856656d3e458de1c0a348bb 2000-05-11 22:45:24   \n",
       " 1922  ea866ddbc4b20d4f191bcdecd514b76e22341c39 1998-03-28 00:00:00   \n",
       " 160   5ab67497e1980994af3ffe34e602401ea09237e2 1998-01-01 07:13:13   \n",
       " \n",
       "              last_commit            org  \\\n",
       " 3554 2016-12-31 12:01:23      Community   \n",
       " 3303 2016-12-31 08:34:00      Community   \n",
       " 4276 2016-12-31 05:11:58      Community   \n",
       " 3260 2016-12-30 23:09:23      Community   \n",
       " 4028 2016-12-30 22:21:03      Community   \n",
       " 3813 2016-12-30 21:55:02      Community   \n",
       " 3338 2016-12-30 17:26:13      Community   \n",
       " 4058 2016-12-30 16:45:19      Community   \n",
       " 3625 2016-12-30 14:34:47      Community   \n",
       " 3100 2016-12-30 13:21:21      Community   \n",
       " 3019 2016-12-30 11:40:34      Community   \n",
       " 3959 2016-12-29 23:33:52      Community   \n",
       " 4150 2016-12-29 14:21:07      Community   \n",
       " 3633 2016-12-28 18:43:08      Community   \n",
       " 4136 2016-12-28 18:09:59      Community   \n",
       " 3138 2016-12-28 16:53:00      Community   \n",
       " 4054 2016-12-28 14:40:00      Community   \n",
       " 2729 2016-12-28 22:43:51      Community   \n",
       " 3230 2016-12-28 07:37:45      Community   \n",
       " 4141 2016-12-27 18:40:18      Community   \n",
       " 3519 2016-12-27 18:33:38      Community   \n",
       " 3243 2016-12-27 11:23:01      Community   \n",
       " 4300 2016-12-27 02:26:30      Community   \n",
       " 3956 2016-12-26 11:57:01      Community   \n",
       " 3849 2016-12-25 23:43:29      Community   \n",
       " 3379 2016-12-25 20:26:47      Community   \n",
       " 1913 2016-12-27 06:56:15      Community   \n",
       " 4251 2016-12-24 21:15:34      Community   \n",
       " 3781 2016-12-24 17:06:15      Community   \n",
       " 3504 2016-12-24 00:25:16      Community   \n",
       " ...                  ...            ...   \n",
       " 75   2016-12-29 19:53:25  Mozilla Staff   \n",
       " 369  2016-02-26 00:40:32  Mozilla Staff   \n",
       " 225  2016-12-20 16:20:39  Mozilla Staff   \n",
       " 20   2016-12-31 11:32:38   Code Sheriff   \n",
       " 28   2016-12-31 18:16:32  Mozilla Staff   \n",
       " 99   2016-09-14 15:55:45      Community   \n",
       " 31   2016-12-15 10:42:10  Mozilla Staff   \n",
       " 68   2016-12-20 21:47:07  Mozilla Staff   \n",
       " 4    2016-11-28 15:31:29  Mozilla Staff   \n",
       " 189  2016-04-18 11:32:37  Mozilla Staff   \n",
       " 29   2016-12-31 14:41:24  Mozilla Staff   \n",
       " 71   2016-09-15 07:58:51      Community   \n",
       " 1554 2016-05-11 12:30:45      Community   \n",
       " 258  2016-11-29 11:39:56  Mozilla Staff   \n",
       " 50   2016-12-28 11:26:31  Mozilla Staff   \n",
       " 165  2016-12-29 17:15:29  Mozilla Staff   \n",
       " 152  2016-04-04 21:18:00  Mozilla Staff   \n",
       " 63   2016-12-26 23:09:02  Mozilla Staff   \n",
       " 82   2016-12-21 21:26:37  Mozilla Staff   \n",
       " 15   2016-12-29 18:30:59  Mozilla Staff   \n",
       " 220  2016-12-30 14:13:48  Mozilla Staff   \n",
       " 2    2016-12-28 22:03:14  Mozilla Staff   \n",
       " 295  2016-11-17 17:02:07  Mozilla Staff   \n",
       " 1577 2016-05-27 19:34:20      Community   \n",
       " 134  2016-05-11 21:36:25  Mozilla Staff   \n",
       " 373  2016-08-09 15:12:57  Mozilla Staff   \n",
       " 80   2016-12-16 15:09:57  Mozilla Staff   \n",
       " 132  2016-11-24 14:30:31  Mozilla Staff   \n",
       " 1922 2016-01-17 00:00:00      Community   \n",
       " 160  2016-12-31 07:05:00  Mozilla Staff   \n",
       " \n",
       "                                               repo_name  active_years project  \n",
       " 3554              https://github.com/rust-lang/rust.git           0.0     All  \n",
       " 3303           https://github.com/mozilla/gecko-dev.git           0.0     All  \n",
       " 4276  https://github.com/mozilla/donate.mozilla.org.git           0.0     All  \n",
       " 3260      https://github.com/mozilla/gecko-projects.git           0.0     All  \n",
       " 4028      https://github.com/servo/core-graphics-rs.git           0.0     All  \n",
       " 3813              https://github.com/rust-lang/rust.git           0.0     All  \n",
       " 3338             https://github.com/aframevr/aframe.git           0.0     All  \n",
       " 4058    https://github.com/aframevr/aframe-registry.git           0.0     All  \n",
       " 3625              https://github.com/rust-lang/rust.git           0.0     All  \n",
       " 3100              https://github.com/rust-lang/rust.git           0.0     All  \n",
       " 3019                https://github.com/mozilla/sops.git           0.0     All  \n",
       " 3959  https://github.com/mozilla-services/lua_sandbo...           0.0     All  \n",
       " 4150              https://github.com/rust-lang/rust.git           0.0     All  \n",
       " 3633             https://github.com/servo/webrender.git           0.0     All  \n",
       " 4136          https://github.com/mozilla/kumascript.git           0.0     All  \n",
       " 3138           https://github.com/mozilla/gecko-dev.git           0.0     All  \n",
       " 4054              https://github.com/rust-lang/rust.git           0.0     All  \n",
       " 2729           https://github.com/mozilla/gecko-dev.git           0.0     All  \n",
       " 3230           https://github.com/mozilla/gecko-dev.git           0.0     All  \n",
       " 4141              https://github.com/rust-lang/libc.git           0.0     All  \n",
       " 3519             https://github.com/mozilla/bedrock.git           0.0     All  \n",
       " 3243           https://github.com/mozilla/gecko-dev.git           0.0     All  \n",
       " 4300              https://github.com/rust-lang/rust.git           0.0     All  \n",
       " 3956              https://github.com/rust-lang/rust.git           0.0     All  \n",
       " 3849      https://github.com/mozilla/wikimo_content.git           0.0     All  \n",
       " 3379             https://github.com/aframevr/aframe.git           0.0     All  \n",
       " 1913           https://github.com/mozilla/gecko-dev.git           0.0     All  \n",
       " 4251                  https://github.com/mozilla/rr.git           0.0     All  \n",
       " 3781          https://github.com/rust-lang/rust-www.git           0.0     All  \n",
       " 3504                 https://github.com/mozilla/mig.git           0.0     All  \n",
       " ...                                                 ...           ...     ...  \n",
       " 75        https://github.com/mozilla/gecko-projects.git           9.0     All  \n",
       " 369       https://github.com/mozilla/gecko-projects.git           8.0     All  \n",
       " 225             https://github.com/mozilla/positron.git           9.0     All  \n",
       " 20             https://github.com/mozilla/gecko-dev.git           9.0     All  \n",
       " 28             https://github.com/mozilla/spiderweb.git           9.0     All  \n",
       " 99             https://github.com/mozilla/gecko-dev.git           9.0     All  \n",
       " 31    https://github.com/mozilla/integration-mozilla...           9.0     All  \n",
       " 68             https://github.com/mozilla/gecko-dev.git           9.0     All  \n",
       " 4         https://github.com/mozilla/gecko-projects.git           9.0     All  \n",
       " 189   https://github.com/mozilla/universal-search-ge...           9.0     All  \n",
       " 29        https://github.com/mozilla/gecko-projects.git           9.0     All  \n",
       " 71              https://github.com/mozilla/positron.git           9.0     All  \n",
       " 1554                 https://github.com/servo/cairo.git           9.0     All  \n",
       " 258      https://github.com/mdn/archived_kumascript.git           9.0     All  \n",
       " 50                   https://github.com/servo/cairo.git          10.0     All  \n",
       " 165          https://github.com/mozilla/build-tools.git          10.0     All  \n",
       " 152                https://github.com/mozilla/rhino.git          10.0     All  \n",
       " 63                   https://github.com/servo/cairo.git          11.0     All  \n",
       " 82                   https://github.com/servo/cairo.git          11.0     All  \n",
       " 15       https://github.com/mdn/archived_kumascript.git          11.0     All  \n",
       " 220      https://github.com/mdn/archived_kumascript.git          11.0     All  \n",
       " 2         https://github.com/mozilla/gecko-projects.git          11.0     All  \n",
       " 295                    https://github.com/moztw/www.git          12.0     All  \n",
       " 1577                 https://github.com/servo/cairo.git          12.0     All  \n",
       " 134           https://github.com/mozilla/newtab-dev.git          13.0     All  \n",
       " 373             https://github.com/mozilla/positron.git          15.0     All  \n",
       " 80    https://github.com/mozilla/universal-search-ge...          16.0     All  \n",
       " 132            https://github.com/mozilla/gecko-dev.git          16.0     All  \n",
       " 1922             https://github.com/mozilla/mozjpeg.git          17.0     All  \n",
       " 160                 https://github.com/servo/libpng.git          18.0     All  \n",
       " \n",
       " [4313 rows x 7 columns],\n",
       "                                         author        first_commit  \\\n",
       " 3830  6810552de52be12521e220fbb5a86a69eb1d3122 2015-12-30 21:31:39   \n",
       " 2961  aaec64ab47fbfde7f0c6b700ca4b0650f6e6a741 2015-12-30 21:31:25   \n",
       " 3005  cfe3f91cd9bb3a540bf1fdff50d1b29d884de306 2015-12-30 16:27:56   \n",
       " 3647  3975871ceff73b48d4c04038e622dade54b0738a 2015-12-30 15:25:59   \n",
       " 3902  7af9f9d4c6ab916e93a243efa5e98637433bb8a7 2015-12-30 15:20:22   \n",
       " 3347  d41bc4392da7134abfe4a92d25dc5f6f64637820 2015-12-30 14:40:10   \n",
       " 2397  4e579d223d31f8a59efa4c547f27d5b140ac17ec 2015-12-30 12:59:00   \n",
       " 3190  541f076752af67ece7817f2e364f791a21b0d2f5 2015-12-30 12:33:57   \n",
       " 3042  ef42ed936fac6fd9a0fedc453fda43f3a0727b92 2015-12-30 11:41:59   \n",
       " 3871  726452e69a6dcc3da2c36ac10770893a6ca4c475 2015-12-30 01:57:45   \n",
       " 3438  07e12ae2822d12245e8af2951b144b54632c1f36 2015-12-29 15:42:48   \n",
       " 3353  dba4d7b301d655f6f33322f08a9894695d3a4430 2015-12-29 09:43:45   \n",
       " 2241  6f8b5b1dbc17b3ba3d021d7550f716f46ae42a29 2015-12-29 00:10:21   \n",
       " 4163  d2f08563c9977f012c7ab84b33d1568e22665d12 2015-12-28 23:53:38   \n",
       " 3011  d553d3d76b2cd08e328f22c8f6cb25c9af793dce 2015-12-28 21:19:59   \n",
       " 3264  8f602223673aa977acd96d971237474160ca5b8b 2015-12-28 21:09:06   \n",
       " 3621  30cf313e836b78365bd1fb4e2082eb2bec800a13 2015-12-28 13:39:18   \n",
       " 2282  b59fe152320598a7a97bd77dcc9dafd4ecc0130d 2015-12-28 13:06:31   \n",
       " 3577  27c447c04dd10cef822d76e4d0fbb7915fe5a14d 2015-12-28 09:23:09   \n",
       " 2321  08d97959a6b1dd1b680245d086a5d78175c2be17 2015-12-28 05:31:11   \n",
       " 3565  22eea86ee547929564f7b35c52ebd6aef14fdae4 2015-12-26 21:29:28   \n",
       " 2385  433dd4e34715fd55412646619616153dcbf9aa1f 2015-12-26 13:39:42   \n",
       " 3290  a20e8a1552cd761e40d9bd0bc97e4c623125fad8 2015-12-26 07:44:57   \n",
       " 3630  32ed1029b92527ae80f45e722ca9c4ca15b8d265 2015-12-26 06:24:11   \n",
       " 3478  0fdbe84f63e8e9559064752216155d4ec2c37767 2015-12-26 06:13:31   \n",
       " 2701  071d9dc6d6c0853ee28f73788e08880d5f24dd89 2015-12-26 01:10:12   \n",
       " 3482  119086ab427771fe20ac7f8d42c540d4d8071709 2015-12-25 13:36:15   \n",
       " 3541  1d8267f4e06b5fab1c6e04717cb7450222d383c0 2015-12-25 03:52:14   \n",
       " 4144  ca5fe236cee86c1e5f2af4e58488a1a1767f4f9c 2015-12-24 23:04:44   \n",
       " 4221  ec0483fce611e649ad644afa81a7b92bf560c02d 2015-12-24 20:22:22   \n",
       " ...                                        ...                 ...   \n",
       " 22    0de25951f29e27d3f88f9f147232df558317b422 2007-03-25 11:53:37   \n",
       " 107   438f0a1bf9f04fc5bb010ca89176c5f2f9c83bfa 2007-03-25 00:38:18   \n",
       " 36    21dbe404e099f5ff0b2b60d00d2e01e6b5939534 2007-03-24 02:21:35   \n",
       " 87    3ce5cf7e2c6c20b26b5ce90fc675259625aac8bc 2007-03-23 13:26:20   \n",
       " 28    1d4774c538ef25e885a3a42ba2d677c1887c2fc7 2007-03-23 11:05:24   \n",
       " 67    37386bd48e4d331ba53d165915b7628e373d1605 2007-03-23 06:21:22   \n",
       " 4     1df126b5ab1e7aa3028f90aecce00bcde9509846 2007-03-22 23:24:27   \n",
       " 175   a8339f09985c33b0ccc932c3da26121f9f17e8e3 2007-03-22 17:56:55   \n",
       " 27    03e29d4afdf730f640dd755f0920defc8cd84f40 2007-03-22 16:57:55   \n",
       " 119   2dd4a9dec4d7716eeb303b7124b43062e95a9fc1 2007-03-22 16:13:57   \n",
       " 68    51821fcc077809c85412566dd68c8c9aefb1cf24 2007-03-22 16:04:51   \n",
       " 251   b22ace597dbbd807bf3f40ef0ef876b2cd43fec3 2007-02-09 20:37:57   \n",
       " 53    026dadb4b4a80d0784bc5dd83ba8416c9df67bef 2006-12-15 04:52:28   \n",
       " 1699  05ea01b1341f11108eaf439a60150431b2056a0b 2006-12-14 06:55:58   \n",
       " 165   0f0ec08bf1f4eb5c40b870a7c9bcd1658bf1c709 2006-07-28 17:00:10   \n",
       " 137   18059ca2cff257fe43e9813c64bbcccf73c17000 2005-11-25 08:16:37   \n",
       " 11    14e3bbbe3cca5f6861f737634f340aa034f1182a 2005-07-18 16:00:44   \n",
       " 63    13a60864030aca4c2f0900dae82dad3c51261a25 2005-07-15 13:45:19   \n",
       " 82    326c96550be0eeb4d9f86200b235cf3ad3ba1ea0 2005-06-23 19:30:12   \n",
       " 18    1879909a711cdb23c6791c48283af011a033bb67 2005-06-05 19:48:15   \n",
       " 232   066612ecd1623bac421614a1d08ee9933f453505 2005-06-04 06:22:23   \n",
       " 329   84dc4ff07ea75b561fe38af4498c17cde9f7db72 2005-05-18 16:04:08   \n",
       " 2     233a57accda5944cbe95ac8a99843709cfd00390 2005-01-21 03:56:31   \n",
       " 284   3495c67b2bbba027d542de15f4405aac214d9709 2004-09-13 09:59:49   \n",
       " 125   276007debe0f2fe81767eeb2f98ebd0a7e1fe28e 2003-10-23 15:22:28   \n",
       " 126   0d121ebd63579eedb0336574053f601f8a6e7e73 2002-07-16 09:38:42   \n",
       " 361   1aaf2b61ba239a735ec1c357d9f6c11bd2888698 2001-02-12 13:04:06   \n",
       " 75    1ed27760bba7202e2ae04760fe950a05e011c4de 2000-12-05 22:36:26   \n",
       " 127   0dbb694e712685775856656d3e458de1c0a348bb 2000-05-11 22:45:24   \n",
       " 153   5ab67497e1980994af3ffe34e602401ea09237e2 1998-01-01 07:13:13   \n",
       " \n",
       "              last_commit            org  \\\n",
       " 3830 2015-12-30 21:31:39      Community   \n",
       " 2961 2015-12-30 21:31:25      Community   \n",
       " 3005 2015-12-30 16:27:56      Community   \n",
       " 3647 2015-12-30 15:25:59      Community   \n",
       " 3902 2015-12-30 15:20:22      Community   \n",
       " 3347 2015-12-30 22:18:09      Community   \n",
       " 2397 2015-12-30 12:59:00      Community   \n",
       " 3190 2015-12-30 13:04:00      Community   \n",
       " 3042 2015-12-31 11:41:21      Community   \n",
       " 3871 2015-12-30 01:57:45      Community   \n",
       " 3438 2015-12-29 15:42:48      Community   \n",
       " 3353 2015-12-29 09:52:22      Community   \n",
       " 2241 2015-12-29 11:54:35      Community   \n",
       " 4163 2015-12-28 23:53:38      Community   \n",
       " 3011 2015-12-28 21:19:59      Community   \n",
       " 3264 2015-12-29 06:37:06      Community   \n",
       " 3621 2015-12-28 13:39:18      Community   \n",
       " 2282 2015-12-31 11:14:58      Community   \n",
       " 3577 2015-12-28 09:23:09      Community   \n",
       " 2321 2015-12-30 16:27:55      Community   \n",
       " 3565 2015-12-26 21:29:28      Community   \n",
       " 2385 2015-12-26 13:39:42  Mozilla Staff   \n",
       " 3290 2015-12-26 07:44:57      Community   \n",
       " 3630 2015-12-26 06:24:11      Community   \n",
       " 3478 2015-12-26 06:13:31      Community   \n",
       " 2701 2015-12-30 19:36:02      Community   \n",
       " 3482 2015-12-25 13:36:15      Community   \n",
       " 3541 2015-12-25 03:52:14      Community   \n",
       " 4144 2015-12-24 23:04:44      Community   \n",
       " 4221 2015-12-24 20:22:22      Community   \n",
       " ...                  ...            ...   \n",
       " 22   2015-12-30 20:37:08   Code Sheriff   \n",
       " 107  2015-12-07 21:18:35  Mozilla Staff   \n",
       " 36   2015-12-23 01:45:08  Mozilla Staff   \n",
       " 87   2015-12-28 22:24:57      Community   \n",
       " 28   2015-12-11 11:36:12  Mozilla Staff   \n",
       " 67   2015-11-25 16:31:42  Mozilla Staff   \n",
       " 4    2015-12-21 13:11:32  Mozilla Staff   \n",
       " 175  2015-08-11 15:05:07  Mozilla Staff   \n",
       " 27   2015-12-31 15:21:49  Mozilla Staff   \n",
       " 119  2015-05-29 12:36:52  Mozilla Staff   \n",
       " 68   2015-11-13 15:38:03      Community   \n",
       " 251  2015-12-20 20:32:14  Mozilla Staff   \n",
       " 53   2015-10-12 16:18:20  Mozilla Staff   \n",
       " 1699 2015-06-17 12:13:37      Community   \n",
       " 165  2015-12-14 13:52:38  Mozilla Staff   \n",
       " 137  2015-01-20 10:00:54  Mozilla Staff   \n",
       " 11   2015-12-16 15:03:59  Mozilla Staff   \n",
       " 63   2015-11-03 15:13:09  Mozilla Staff   \n",
       " 82   2015-12-25 18:19:56  Mozilla Staff   \n",
       " 18   2015-12-30 13:09:37  Mozilla Staff   \n",
       " 232  2015-12-28 11:38:24  Mozilla Staff   \n",
       " 329  2015-05-03 07:25:07  Mozilla Staff   \n",
       " 2    2015-12-31 09:55:26  Mozilla Staff   \n",
       " 284  2015-12-20 18:27:35  Mozilla Staff   \n",
       " 125  2015-04-17 20:02:55  Mozilla Staff   \n",
       " 126  2015-12-10 15:42:16  Mozilla Staff   \n",
       " 361  2015-10-07 16:07:12  Mozilla Staff   \n",
       " 75   2015-12-29 14:31:14  Mozilla Staff   \n",
       " 127  2015-12-14 11:47:48  Mozilla Staff   \n",
       " 153  2015-11-23 20:20:00  Mozilla Staff   \n",
       " \n",
       "                                               repo_name  active_years project  \n",
       " 3830             https://github.com/mozilla/bedrock.git           0.0     All  \n",
       " 2961  https://github.com/mozilla/spiderweb-spidernod...           0.0     All  \n",
       " 3005          https://github.com/mozilla/spidernode.git           0.0     All  \n",
       " 3647              https://github.com/rust-lang/libc.git           0.0     All  \n",
       " 3902                  https://github.com/mozilla/rr.git           0.0     All  \n",
       " 3347         https://github.com/mozilla/mig-sandbox.git           0.0     All  \n",
       " 2397      https://github.com/mozilla/gecko-projects.git           0.0     All  \n",
       " 3190         https://github.com/mozilla/mig-sandbox.git           0.0     All  \n",
       " 3042                   https://github.com/mozfr/www.git           0.0     All  \n",
       " 3871     https://github.com/aframevr/awesome-aframe.git           0.0     All  \n",
       " 3438       https://github.com/mozilla/mozregression.git           0.0     All  \n",
       " 3353              https://github.com/rust-lang/book.git           0.0     All  \n",
       " 2241          https://github.com/mozilla/spidernode.git           0.0     All  \n",
       " 4163   https://github.com/rust-lang/rust-by-example.git           0.0     All  \n",
       " 3011  https://github.com/mozilla/spiderweb-spidernod...           0.0     All  \n",
       " 3264              https://github.com/rust-lang/rust.git           0.0     All  \n",
       " 3621               https://github.com/mozfr/nightly.git           0.0     All  \n",
       " 2282  https://github.com/mozilla/spiderweb-spidernod...           0.0     All  \n",
       " 3577  https://github.com/mozilla-mobile/firefox-ios.git           0.0     All  \n",
       " 2321              https://github.com/rust-lang/rust.git           0.0     All  \n",
       " 3565              https://github.com/rust-lang/rust.git           0.0     All  \n",
       " 2385            https://github.com/mozilla/positron.git           0.0     All  \n",
       " 3290       https://github.com/aframevr/aframe-react.git           0.0     All  \n",
       " 3630              https://github.com/servo/rust-url.git           0.0     All  \n",
       " 3478              https://github.com/rust-lang/libc.git           0.0     All  \n",
       " 2701         https://github.com/mozilla/payments-ui.git           0.0     All  \n",
       " 3482         https://github.com/moztw/www.moztw.org.git           0.0     All  \n",
       " 3541                https://github.com/mozilla/kuma.git           0.0     All  \n",
       " 4144     https://github.com/mozilla/tofino-electron.git           0.0     All  \n",
       " 4221     https://github.com/mozilla/tofino-electron.git           0.0     All  \n",
       " ...                                                 ...           ...     ...  \n",
       " 22             https://github.com/mozilla/gecko-dev.git           8.0     All  \n",
       " 107            https://github.com/mozilla/spiderweb.git           8.0     All  \n",
       " 36             https://github.com/mozilla/spiderweb.git           8.0     All  \n",
       " 87             https://github.com/mozilla/gecko-dev.git           8.0     All  \n",
       " 28    https://github.com/mozilla/integration-mozilla...           8.0     All  \n",
       " 67             https://github.com/mozilla/gecko-dev.git           8.0     All  \n",
       " 4         https://github.com/mozilla/gecko-projects.git           8.0     All  \n",
       " 175   https://github.com/mozilla/universal-search-ge...           8.0     All  \n",
       " 27        https://github.com/mozilla/gecko-projects.git           8.0     All  \n",
       " 119       https://github.com/mozilla/gecko-projects.git           8.0     All  \n",
       " 68              https://github.com/mozilla/positron.git           8.0     All  \n",
       " 251      https://github.com/mdn/archived_kumascript.git           8.0     All  \n",
       " 53                   https://github.com/servo/cairo.git           8.0     All  \n",
       " 1699                 https://github.com/servo/cairo.git           8.0     All  \n",
       " 165          https://github.com/mozilla/build-tools.git           9.0     All  \n",
       " 137                https://github.com/mozilla/rhino.git           9.0     All  \n",
       " 11        https://github.com/mozilla/gecko-projects.git          10.0     All  \n",
       " 63                   https://github.com/servo/cairo.git          10.0     All  \n",
       " 82                   https://github.com/servo/cairo.git          10.0     All  \n",
       " 18       https://github.com/mdn/archived_kumascript.git          10.0     All  \n",
       " 232      https://github.com/mdn/archived_kumascript.git          10.0     All  \n",
       " 329      https://github.com/mdn/archived_kumascript.git           9.0     All  \n",
       " 2         https://github.com/mozilla/gecko-projects.git          10.0     All  \n",
       " 284                    https://github.com/moztw/www.git          11.0     All  \n",
       " 125                  https://github.com/servo/cairo.git          11.0     All  \n",
       " 126           https://github.com/mozilla/newtab-dev.git          13.0     All  \n",
       " 361             https://github.com/mozilla/positron.git          14.0     All  \n",
       " 75    https://github.com/mozilla/universal-search-ge...          15.0     All  \n",
       " 127            https://github.com/mozilla/gecko-dev.git          15.0     All  \n",
       " 153                 https://github.com/servo/libpng.git          17.0     All  \n",
       " \n",
       " [4265 rows x 7 columns],\n",
       "                                         author        first_commit  \\\n",
       " 3710  dceffa60fbb651451613323e2a8942541ac97d02 2014-12-31 18:52:27   \n",
       " 3114  10945e2e1f3fb1a970a6057b668705373c1a989d 2014-12-30 22:10:30   \n",
       " 3430  66c6ea4e1cc405cd50d805889fca98bd884a835d 2014-12-30 19:43:16   \n",
       " 3073  07e9a0923824f7ab7a297fcb038eb18cdefe4739 2014-12-30 19:23:16   \n",
       " 2798  1ef99d36c018734d3d4403a9f476dc1752448dd2 2014-12-30 17:16:56   \n",
       " 3506  84a16d2ce4135a7b9d4351ed59a190d38c232243 2014-12-30 16:54:39   \n",
       " 3376  54d322fc336de09a54a339e8da2b1caf4453c948 2014-12-30 14:13:41   \n",
       " 3329  45c5e6f5a788500c8255fe29941166d92385b7ad 2014-12-30 14:13:36   \n",
       " 2195  6eaa0089721c8cc519705f3ea8215d45d3a456c7 2014-12-30 14:07:57   \n",
       " 3401  5cc9abc7867e75e9b4d9c725a1ea31252d5032ca 2014-12-30 13:32:25   \n",
       " 2814  25f7b54a555c5030886849b2231441053962ef0e 2014-12-30 07:38:23   \n",
       " 3471  76c8c69b7c495eda7da05a9dd5ac1cb204d62a61 2014-12-30 04:20:24   \n",
       " 1892  4143e69cc78d974a66082d3fa781241d67c80a13 2014-12-30 00:54:46   \n",
       " 3385  57aba44900a7bdde45d2581fb39b45feeb5bdf23 2014-12-29 22:16:53   \n",
       " 3388  589eff5a6d27688c6aafb76071d2218bd225d31d 2014-12-29 16:20:17   \n",
       " 3323  438fc533df9d206246480d1e6ac985b2ba1d8e21 2014-12-29 12:36:46   \n",
       " 3372  53c58b0856c591dc68001ac568c4b7f4fe674dcb 2014-12-29 07:12:45   \n",
       " 3369  52c5a6b49c6408004f269085de8ec1556c103ba0 2014-12-29 04:44:18   \n",
       " 3592  abdda4bfefe7b22200248ea2428a33d979a2f5ae 2014-12-29 02:26:31   \n",
       " 3664  cc571f404440232eede9441acdfa091824b1ef70 2014-12-28 22:37:09   \n",
       " 1933  f8bdb372b32076065652bc8027e8a66cf4301878 2014-12-28 22:22:48   \n",
       " 2216  8dc36cda40161df51bc5a6c39862c991c53bf542 2014-12-28 19:33:37   \n",
       " 2897  670cdbfb2d8cb76a1937c7124a3c29ae5e3c4608 2014-12-28 16:51:00   \n",
       " 2801  1fc515e8a96011f3d999e6300a418939c94a8054 2014-12-28 15:44:03   \n",
       " 2233  a344b1a1c109c233087034445600984f85db855e 2014-12-28 00:38:00   \n",
       " 3648  c2a63314b7c89fc8ac2fbc92b8e9dc68e7ad001b 2014-12-27 23:47:16   \n",
       " 2963  a10268e2f071f802198dbdd37d2d91fec053937a 2014-12-27 22:45:13   \n",
       " 3371  539a4dc0ca84b0f6c2d49fbff7b104fa3fe543c7 2014-12-27 21:08:47   \n",
       " 3037  f366a5b9693b0592d36934a6d23b033ade3b0dd9 2014-12-27 19:48:16   \n",
       " 2196  70a29817be00a273ef2ae084ebc568c56a0620f4 2014-12-27 12:48:27   \n",
       " ...                                        ...                 ...   \n",
       " 38    21dbe404e099f5ff0b2b60d00d2e01e6b5939534 2007-03-24 02:21:35   \n",
       " 177   04631379bcf5f74681ac46ab9dfa868c59da1e4f 2007-03-23 13:35:04   \n",
       " 78    3ce5cf7e2c6c20b26b5ce90fc675259625aac8bc 2007-03-23 13:26:20   \n",
       " 20    1d4774c538ef25e885a3a42ba2d677c1887c2fc7 2007-03-23 11:05:24   \n",
       " 59    37386bd48e4d331ba53d165915b7628e373d1605 2007-03-23 06:21:22   \n",
       " 3     1df126b5ab1e7aa3028f90aecce00bcde9509846 2007-03-22 23:24:27   \n",
       " 23    03e29d4afdf730f640dd755f0920defc8cd84f40 2007-03-22 16:57:55   \n",
       " 96    2dd4a9dec4d7716eeb303b7124b43062e95a9fc1 2007-03-22 16:13:57   \n",
       " 60    51821fcc077809c85412566dd68c8c9aefb1cf24 2007-03-22 16:04:51   \n",
       " 1973  5de3cb669674cb316787d84c5ce0d1d49d309c87 2007-03-16 10:04:56   \n",
       " 232   b22ace597dbbd807bf3f40ef0ef876b2cd43fec3 2007-02-09 20:37:57   \n",
       " 1127  434b12ac41aec56621bda5c768b6a400a7413f17 2007-01-19 21:43:48   \n",
       " 51    026dadb4b4a80d0784bc5dd83ba8416c9df67bef 2006-12-15 04:52:28   \n",
       " 1658  00357667ef0923eb2cb190111d207f241b4e7311 2006-08-13 01:57:56   \n",
       " 144   0f0ec08bf1f4eb5c40b870a7c9bcd1658bf1c709 2006-07-28 17:00:10   \n",
       " 117   18059ca2cff257fe43e9813c64bbcccf73c17000 2005-11-25 08:16:37   \n",
       " 7     14e3bbbe3cca5f6861f737634f340aa034f1182a 2005-07-18 16:00:44   \n",
       " 50    13a60864030aca4c2f0900dae82dad3c51261a25 2005-07-15 13:45:19   \n",
       " 84    326c96550be0eeb4d9f86200b235cf3ad3ba1ea0 2005-06-23 19:30:12   \n",
       " 16    1879909a711cdb23c6791c48283af011a033bb67 2005-06-05 19:48:15   \n",
       " 223   066612ecd1623bac421614a1d08ee9933f453505 2005-06-04 06:22:23   \n",
       " 294   84dc4ff07ea75b561fe38af4498c17cde9f7db72 2005-05-18 16:04:08   \n",
       " 243   3495c67b2bbba027d542de15f4405aac214d9709 2004-09-13 09:59:49   \n",
       " 104   276007debe0f2fe81767eeb2f98ebd0a7e1fe28e 2003-10-23 15:22:28   \n",
       " 106   0d121ebd63579eedb0336574053f601f8a6e7e73 2002-07-16 09:38:42   \n",
       " 324   1aaf2b61ba239a735ec1c357d9f6c11bd2888698 2001-02-12 13:04:06   \n",
       " 70    1ed27760bba7202e2ae04760fe950a05e011c4de 2000-12-05 22:36:26   \n",
       " 111   0dbb694e712685775856656d3e458de1c0a348bb 2000-05-11 22:45:24   \n",
       " 1864  ea866ddbc4b20d4f191bcdecd514b76e22341c39 1998-03-28 00:00:00   \n",
       " 129   5ab67497e1980994af3ffe34e602401ea09237e2 1998-01-01 07:13:13   \n",
       " \n",
       "              last_commit            org  \\\n",
       " 3710 2014-12-31 18:52:27      Community   \n",
       " 3114 2014-12-30 22:10:30      Community   \n",
       " 3430 2014-12-30 19:43:16      Community   \n",
       " 3073 2014-12-30 19:23:16      Community   \n",
       " 2798 2014-12-30 17:36:23      Community   \n",
       " 3506 2014-12-30 16:54:39      Community   \n",
       " 3376 2014-12-30 14:13:41      Community   \n",
       " 3329 2014-12-30 14:13:36      Community   \n",
       " 2195 2014-12-30 14:07:57      Community   \n",
       " 3401 2014-12-30 13:32:25      Community   \n",
       " 2814 2014-12-30 08:22:31      Community   \n",
       " 3471 2014-12-30 04:20:24      Community   \n",
       " 1892 2014-12-31 15:02:54      Community   \n",
       " 3385 2014-12-29 22:16:53      Community   \n",
       " 3388 2014-12-29 16:20:17      Community   \n",
       " 3323 2014-12-29 12:36:46      Community   \n",
       " 3372 2014-12-29 07:12:45      Community   \n",
       " 3369 2014-12-29 04:44:18      Community   \n",
       " 3592 2014-12-29 02:26:31      Community   \n",
       " 3664 2014-12-28 22:37:09      Community   \n",
       " 1933 2014-12-30 22:49:58      Community   \n",
       " 2216 2014-12-28 19:33:37      Community   \n",
       " 2897 2014-12-28 17:44:33      Community   \n",
       " 2801 2014-12-30 19:49:02      Community   \n",
       " 2233 2014-12-30 08:34:23      Community   \n",
       " 3648 2014-12-27 23:47:16      Community   \n",
       " 2963 2014-12-28 12:24:27      Community   \n",
       " 3371 2014-12-27 21:08:47      Community   \n",
       " 3037 2014-12-27 22:03:03      Community   \n",
       " 2196 2014-12-27 12:48:27      Community   \n",
       " ...                  ...            ...   \n",
       " 38   2014-12-31 07:10:11  Mozilla Staff   \n",
       " 177  2014-11-04 23:21:05  Mozilla Staff   \n",
       " 78   2014-12-30 21:53:51      Community   \n",
       " 20   2014-12-23 12:21:14  Mozilla Staff   \n",
       " 59   2014-12-11 20:15:32  Mozilla Staff   \n",
       " 3    2014-12-28 19:42:54  Mozilla Staff   \n",
       " 23   2014-12-05 08:53:00  Mozilla Staff   \n",
       " 96   2014-12-12 13:02:05  Mozilla Staff   \n",
       " 60   2014-12-30 13:59:44      Community   \n",
       " 1973 2014-12-22 21:16:48      Community   \n",
       " 232  2014-12-09 13:08:48  Mozilla Staff   \n",
       " 1127 2014-05-23 12:07:24  Mozilla Staff   \n",
       " 51   2014-12-16 15:40:59  Mozilla Staff   \n",
       " 1658 2014-12-23 09:43:45      Community   \n",
       " 144  2014-12-30 07:28:30  Mozilla Staff   \n",
       " 117  2014-10-24 17:08:00  Mozilla Staff   \n",
       " 7    2014-12-30 08:54:23  Mozilla Staff   \n",
       " 50   2014-12-23 13:37:43  Mozilla Staff   \n",
       " 84   2014-12-28 00:01:02  Mozilla Staff   \n",
       " 16   2014-12-31 16:25:05  Mozilla Staff   \n",
       " 223  2014-12-30 12:57:31  Mozilla Staff   \n",
       " 294  2014-05-10 17:11:00  Mozilla Staff   \n",
       " 243  2014-10-02 14:02:30  Mozilla Staff   \n",
       " 104  2014-09-03 11:02:55  Mozilla Staff   \n",
       " 106  2014-12-26 19:49:15  Mozilla Staff   \n",
       " 324  2014-04-07 11:43:22  Mozilla Staff   \n",
       " 70   2014-12-29 12:50:22  Mozilla Staff   \n",
       " 111  2014-12-17 16:06:14  Mozilla Staff   \n",
       " 1864 2014-01-19 00:00:00      Community   \n",
       " 129  2014-12-23 06:44:00  Mozilla Staff   \n",
       " \n",
       "                                               repo_name  active_years project  \n",
       " 3710  https://github.com/mozilla/interest-dashboard.git           0.0     All  \n",
       " 3114           https://github.com/mozilla/addon-sdk.git           0.0     All  \n",
       " 3430          https://github.com/mozilla/mozillians.git           0.0     All  \n",
       " 3073              https://github.com/rust-lang/rust.git           0.0     All  \n",
       " 2798       https://github.com/mozillahispano/coseme.git           0.0     All  \n",
       " 3506             https://github.com/mozilla/socorro.git           0.0     All  \n",
       " 3376      https://github.com/mozillabrasil/kanboard.git           0.0     All  \n",
       " 3329             https://github.com/rust-lang/cargo.git           0.0     All  \n",
       " 2195           https://github.com/mozilla/spiderweb.git           0.0     All  \n",
       " 3401               https://github.com/mozilla/angle.git           0.0     All  \n",
       " 2814       https://github.com/mozillahispano/coseme.git           0.0     All  \n",
       " 3471              https://github.com/rust-lang/rust.git           0.0     All  \n",
       " 1892  https://github.com/MozillaItalia/firefoxos-qui...           0.0     All  \n",
       " 3385              https://github.com/rust-lang/rust.git           0.0     All  \n",
       " 3388        https://github.com/mozilla/node-convict.git           0.0     All  \n",
       " 3323              https://github.com/servo/cocoa-rs.git           0.0     All  \n",
       " 3372         https://github.com/mozilla/build-talos.git           0.0     All  \n",
       " 3369    https://github.com/mozilla/django-browserid.git           0.0     All  \n",
       " 3592             https://github.com/mdn/js-examples.git           0.0     All  \n",
       " 3664              https://github.com/rust-lang/rust.git           0.0     All  \n",
       " 1933              https://github.com/rust-lang/rfcs.git           0.0     All  \n",
       " 2216  https://github.com/mozilla/universal-search-ge...           0.0     All  \n",
       " 2897              https://github.com/rust-lang/rust.git           0.0     All  \n",
       " 2801                 https://github.com/servo/servo.git           0.0     All  \n",
       " 2233                 https://github.com/servo/servo.git           0.0     All  \n",
       " 3648          https://github.com/servo/rust-bindgen.git           0.0     All  \n",
       " 2963              https://github.com/rust-lang/rust.git           0.0     All  \n",
       " 3371              https://github.com/rust-lang/rust.git           0.0     All  \n",
       " 3037                https://github.com/mozilla/kuma.git           0.0     All  \n",
       " 2196           https://github.com/mozilla/spiderweb.git           0.0     All  \n",
       " ...                                                 ...           ...     ...  \n",
       " 38             https://github.com/mozilla/spiderweb.git           7.0     All  \n",
       " 177            https://github.com/mozilla/gecko-dev.git           7.0     All  \n",
       " 78             https://github.com/mozilla/gecko-dev.git           7.0     All  \n",
       " 20    https://github.com/mozilla/integration-mozilla...           7.0     All  \n",
       " 59             https://github.com/mozilla/gecko-dev.git           7.0     All  \n",
       " 3         https://github.com/mozilla/gecko-projects.git           7.0     All  \n",
       " 23        https://github.com/mozilla/gecko-projects.git           7.0     All  \n",
       " 96        https://github.com/mozilla/gecko-projects.git           7.0     All  \n",
       " 60              https://github.com/mozilla/positron.git           7.0     All  \n",
       " 1973                 https://github.com/servo/cairo.git           7.0     All  \n",
       " 232      https://github.com/mdn/archived_kumascript.git           7.0     All  \n",
       " 1127               https://github.com/mozilla/rhino.git           7.0     All  \n",
       " 51                   https://github.com/servo/cairo.git           8.0     All  \n",
       " 1658                 https://github.com/servo/cairo.git           8.0     All  \n",
       " 144          https://github.com/mozilla/build-tools.git           8.0     All  \n",
       " 117                https://github.com/mozilla/rhino.git           8.0     All  \n",
       " 7         https://github.com/mozilla/gecko-projects.git           9.0     All  \n",
       " 50                   https://github.com/servo/cairo.git           9.0     All  \n",
       " 84                   https://github.com/servo/cairo.git           9.0     All  \n",
       " 16       https://github.com/mdn/archived_kumascript.git           9.0     All  \n",
       " 223      https://github.com/mdn/archived_kumascript.git           9.0     All  \n",
       " 294      https://github.com/mdn/archived_kumascript.git           8.0     All  \n",
       " 243                    https://github.com/moztw/www.git          10.0     All  \n",
       " 104                  https://github.com/servo/cairo.git          10.0     All  \n",
       " 106           https://github.com/mozilla/newtab-dev.git          12.0     All  \n",
       " 324             https://github.com/mozilla/positron.git          13.0     All  \n",
       " 70    https://github.com/mozilla/universal-search-ge...          14.0     All  \n",
       " 111            https://github.com/mozilla/gecko-dev.git          14.0     All  \n",
       " 1864             https://github.com/mozilla/mozjpeg.git          15.0     All  \n",
       " 129                 https://github.com/servo/libpng.git          16.0     All  \n",
       " \n",
       " [3780 rows x 7 columns],\n",
       "                                         author        first_commit  \\\n",
       " 2256  f402fc16c829a0e6ebc2ff573ff502afa2319cae 2013-12-31 14:19:36   \n",
       " 2473  64823319f47f5cd56e745dcaf62c994cb359b624 2013-12-29 16:06:55   \n",
       " 2602  bda7f1150b666c54a24d07b0ecfed3ae603e7856 2013-12-29 12:21:26   \n",
       " 2573  a63a6380dd8b65e979bb20b491a9cb67dc9833ed 2013-12-28 18:01:53   \n",
       " 1755  a8de1e705c699e14daaba6d6363437dc9a979bca 2013-12-27 17:44:07   \n",
       " 2041  91f24077b2d91747d2d889effdc05560fcffdc91 2013-12-27 14:39:55   \n",
       " 1401  e790e644835b1ce52978b5992649e3609079d089 2013-12-26 23:11:57   \n",
       " 2403  43dae66d39a18d653ea6c51bef0d274cc811c560 2013-12-26 12:49:03   \n",
       " 1559  0176e58840fb0703b3bdcee384c48ce2d4e19868 2013-12-25 22:08:10   \n",
       " 2284  089b5d58eb831dcf20b006f34953312773a82615 2013-12-25 11:55:25   \n",
       " 1650  411db8535623ff1bd1d8d3e2043033a8b8a94af6 2013-12-24 17:31:00   \n",
       " 2624  d51e0b353d82deff44fc31cffe7d15423acc0253 2013-12-24 12:38:52   \n",
       " 1627  2cce78080e5a1c79a93e2f735bdc5caede3de067 2013-12-23 16:51:56   \n",
       " 1613  215b458de1a8b5e993c6155883a41bbdff36a278 2013-12-23 09:03:25   \n",
       " 2102  0798b6a186d5128d6342c651410d51a2c783f9a9 2013-12-22 21:37:33   \n",
       " 2277  05b20cfbedcc8419f1503d708324400bd38bacfa 2013-12-22 18:50:37   \n",
       " 2131  25229a2aa213a6c077b73e688a25fe4dc3bd0fee 2013-12-22 03:09:36   \n",
       " 2148  35bfd98065637afded284e543b8c5224cd823427 2013-12-22 00:58:55   \n",
       " 1803  118f5e2f45c160dd636efbf1b8ada9a26d134d03 2013-12-21 17:29:48   \n",
       " 1440  1e32cbaaba1960122dff0fb89ea07a128de7ef1d 2013-12-20 23:46:27   \n",
       " 2223  ac26cb54c0ccf27fadc63f15d07e3246fe4d2642 2013-12-20 17:02:29   \n",
       " 2343  231cd21a611a2f4ba4d2fd782e5b579e71a05df2 2013-12-20 13:06:42   \n",
       " 2634  e10760af5625b39a5bf77e1af9b02ad553e1acab 2013-12-19 16:18:44   \n",
       " 1229  b163343ce270d4ed1b079c7b71aca3c05a080406 2013-12-19 11:42:19   \n",
       " 2658  f342191712bc72d0f171dacaf97021eb40607701 2013-12-19 09:51:53   \n",
       " 2255  f0a4c38a01eaf846ace6ab48a426b4cd45b2756f 2013-12-19 08:18:47   \n",
       " 1669  4a3942f8e42f3644e17e8b459d11253ebf1a8029 2013-12-18 16:28:32   \n",
       " 1337  2a96fc44848fa13f545753b166e8a28879898943 2013-12-18 15:57:48   \n",
       " 2419  4b02cb285fa031a66ba3893802c2e5df6a41b54b 2013-12-17 22:07:28   \n",
       " 2178  5d5015a061183bad5ba4d9466bb0ebfa66ba7f2e 2013-12-17 21:27:10   \n",
       " ...                                        ...                 ...   \n",
       " 4     1df126b5ab1e7aa3028f90aecce00bcde9509846 2007-03-22 23:24:27   \n",
       " 22    03e29d4afdf730f640dd755f0920defc8cd84f40 2007-03-22 16:57:55   \n",
       " 97    2dd4a9dec4d7716eeb303b7124b43062e95a9fc1 2007-03-22 16:13:57   \n",
       " 48    51821fcc077809c85412566dd68c8c9aefb1cf24 2007-03-22 16:04:51   \n",
       " 199   b22ace597dbbd807bf3f40ef0ef876b2cd43fec3 2007-02-09 20:37:57   \n",
       " 232   334bc3bdb4c859fbf48a5881e50ca698e98a2f67 2007-01-09 15:05:29   \n",
       " 1630  2ed1ffa975ade912b3d4cd6959eb581e4ad506f0 2006-12-17 05:26:51   \n",
       " 86    026dadb4b4a80d0784bc5dd83ba8416c9df67bef 2006-12-15 04:52:28   \n",
       " 1502  05ea01b1341f11108eaf439a60150431b2056a0b 2006-12-14 06:55:58   \n",
       " 116   16eb6b91088456e455e53f409355d6697a1ba15e 2006-08-04 17:16:35   \n",
       " 130   0f0ec08bf1f4eb5c40b870a7c9bcd1658bf1c709 2006-07-28 17:00:10   \n",
       " 6     14e3bbbe3cca5f6861f737634f340aa034f1182a 2005-07-18 16:00:44   \n",
       " 43    13a60864030aca4c2f0900dae82dad3c51261a25 2005-07-15 13:45:19   \n",
       " 87    326c96550be0eeb4d9f86200b235cf3ad3ba1ea0 2005-06-23 19:30:12   \n",
       " 16    1879909a711cdb23c6791c48283af011a033bb67 2005-06-05 19:48:15   \n",
       " 219   066612ecd1623bac421614a1d08ee9933f453505 2005-06-04 06:22:23   \n",
       " 246   84dc4ff07ea75b561fe38af4498c17cde9f7db72 2005-05-18 16:04:08   \n",
       " 164   493b8c496e225e738768875bc170a670992891d8 2005-01-22 18:24:18   \n",
       " 2     233a57accda5944cbe95ac8a99843709cfd00390 2005-01-21 03:56:31   \n",
       " 204   3495c67b2bbba027d542de15f4405aac214d9709 2004-09-13 09:59:49   \n",
       " 94    276007debe0f2fe81767eeb2f98ebd0a7e1fe28e 2003-10-23 15:22:28   \n",
       " 104   0d121ebd63579eedb0336574053f601f8a6e7e73 2002-07-16 09:38:42   \n",
       " 46    27b393eff6d90b0167bb8c87a77cc80c1c8c7c26 2001-12-20 21:15:02   \n",
       " 268   1aaf2b61ba239a735ec1c357d9f6c11bd2888698 2001-02-12 13:04:06   \n",
       " 609   36da2547705787476b9eab6d2797b026a470b0e3 2000-12-31 19:12:15   \n",
       " 65    1ed27760bba7202e2ae04760fe950a05e011c4de 2000-12-05 22:36:26   \n",
       " 100   0dbb694e712685775856656d3e458de1c0a348bb 2000-05-11 22:45:24   \n",
       " 5     19ccd3737140d6a9ebd54dbfa7d4155077daf403 1999-07-01 02:24:32   \n",
       " 1494  ea866ddbc4b20d4f191bcdecd514b76e22341c39 1998-03-28 00:00:00   \n",
       " 113   5ab67497e1980994af3ffe34e602401ea09237e2 1998-01-01 07:13:13   \n",
       " \n",
       "              last_commit            org  \\\n",
       " 2256 2013-12-31 14:19:36      Community   \n",
       " 2473 2013-12-29 16:06:55  Mozilla Staff   \n",
       " 2602 2013-12-29 12:21:26      Community   \n",
       " 2573 2013-12-28 18:01:53      Community   \n",
       " 1755 2013-12-27 17:44:07  Mozilla Staff   \n",
       " 2041 2013-12-27 14:39:55      Community   \n",
       " 1401 2013-12-30 22:14:54      Community   \n",
       " 2403 2013-12-26 12:49:03      Community   \n",
       " 1559 2013-12-30 19:51:51      Community   \n",
       " 2284 2013-12-25 11:55:25      Community   \n",
       " 1650 2013-12-24 17:31:00      Community   \n",
       " 2624 2013-12-24 12:38:52      Community   \n",
       " 1627 2013-12-23 16:51:56      Community   \n",
       " 1613 2013-12-23 09:03:25      Community   \n",
       " 2102 2013-12-22 21:38:55      Community   \n",
       " 2277 2013-12-22 18:50:37      Community   \n",
       " 2131 2013-12-26 17:23:17      Community   \n",
       " 2148 2013-12-29 00:14:43      Community   \n",
       " 1803 2013-12-31 00:51:11      Community   \n",
       " 1440 2013-12-22 05:16:38      Community   \n",
       " 2223 2013-12-31 08:22:53      Community   \n",
       " 2343 2013-12-20 13:06:42      Community   \n",
       " 2634 2013-12-19 16:18:44      Community   \n",
       " 1229 2013-12-20 14:00:00  Mozilla Staff   \n",
       " 2658 2013-12-19 09:51:53      Community   \n",
       " 2255 2013-12-28 22:33:29      Community   \n",
       " 1669 2013-12-18 16:28:32      Community   \n",
       " 1337 2013-12-23 11:27:16      Community   \n",
       " 2419 2013-12-17 22:07:28      Community   \n",
       " 2178 2013-12-17 21:27:10      Community   \n",
       " ...                  ...            ...   \n",
       " 4    2013-12-18 17:05:54  Mozilla Staff   \n",
       " 22   2013-12-23 09:10:46  Mozilla Staff   \n",
       " 97   2013-11-20 12:00:02  Mozilla Staff   \n",
       " 48   2013-12-19 10:15:13      Community   \n",
       " 199  2013-12-18 09:34:50  Mozilla Staff   \n",
       " 232  2013-01-29 21:42:02  Mozilla Staff   \n",
       " 1630 2013-01-12 20:06:49  Mozilla Staff   \n",
       " 86   2013-12-14 11:09:36  Mozilla Staff   \n",
       " 1502 2013-09-05 21:18:55      Community   \n",
       " 116  2013-01-23 10:27:22  Mozilla Staff   \n",
       " 130  2013-12-19 12:58:29  Mozilla Staff   \n",
       " 6    2013-12-23 16:51:58  Mozilla Staff   \n",
       " 43   2013-12-18 13:09:11  Mozilla Staff   \n",
       " 87   2013-12-17 13:33:34  Mozilla Staff   \n",
       " 16   2013-12-30 13:34:54  Mozilla Staff   \n",
       " 219  2013-12-19 16:27:54  Mozilla Staff   \n",
       " 246  2013-05-22 15:26:38  Mozilla Staff   \n",
       " 164  2013-10-13 22:49:12  Mozilla Staff   \n",
       " 2    2013-12-30 00:37:21  Mozilla Staff   \n",
       " 204  2013-12-11 23:17:19  Mozilla Staff   \n",
       " 94   2013-12-12 16:19:29  Mozilla Staff   \n",
       " 104  2013-12-27 15:33:07  Mozilla Staff   \n",
       " 46   2013-10-24 10:23:12  Mozilla Staff   \n",
       " 268  2013-12-09 15:01:47  Mozilla Staff   \n",
       " 609  2013-09-09 15:18:06  Mozilla Staff   \n",
       " 65   2013-12-13 01:41:08  Mozilla Staff   \n",
       " 100  2013-11-28 13:44:02  Mozilla Staff   \n",
       " 5    2013-04-29 17:33:22  Mozilla Staff   \n",
       " 1494 2013-01-13 00:00:00      Community   \n",
       " 113  2013-12-20 11:37:47  Mozilla Staff   \n",
       " \n",
       "                                               repo_name  active_years project  \n",
       " 2256              https://github.com/rust-lang/rust.git           0.0     All  \n",
       " 2473              https://github.com/mozilla/pdf.js.git           0.0     All  \n",
       " 2602        https://github.com/mozilla/elasticutils.git           0.0     All  \n",
       " 2573              https://github.com/rust-lang/rust.git           0.0     All  \n",
       " 1755           https://github.com/mozilla/gecko-dev.git           0.0     All  \n",
       " 2041  https://github.com/mozilla/spiderweb-spidernod...           0.0     All  \n",
       " 1401  https://github.com/MozillaItalia/firefoxos-qui...           0.0     All  \n",
       " 2403       https://github.com/mozilla/ambient-boxen.git           0.0     All  \n",
       " 1559  https://github.com/mozilla/positron-spidernode...           0.0     All  \n",
       " 2284             https://github.com/mozilla/bedrock.git           0.0     All  \n",
       " 1650  https://github.com/mozilla/universal-search-ge...           0.0     All  \n",
       " 2624          https://github.com/mozilla/chatspaces.git           0.0     All  \n",
       " 1627           https://github.com/mozilla/gecko-dev.git           0.0     All  \n",
       " 1613  https://github.com/mozilla/universal-search-ge...           0.0     All  \n",
       " 2102              https://github.com/rust-lang/rust.git           0.0     All  \n",
       " 2277     https://github.com/mozillabrasil/participe.git           0.0     All  \n",
       " 2131        https://github.com/mozilla/webmaker.org.git           0.0     All  \n",
       " 2148       https://github.com/mozilla/ambient-boxen.git           0.0     All  \n",
       " 1803              https://github.com/rust-lang/rust.git           0.0     All  \n",
       " 1440             https://github.com/mozilla/zamboni.git           0.0     All  \n",
       " 2223          https://github.com/mozilla/i18n-abide.git           0.0     All  \n",
       " 2343           https://github.com/mozilla/spiderweb.git           0.0     All  \n",
       " 2634          https://github.com/mozilla/togetherjs.git           0.0     All  \n",
       " 1229  https://github.com/mozilla/universal-search-ge...           0.0     All  \n",
       " 2658          https://github.com/mozilla/mozillians.git           0.0     All  \n",
       " 2255              https://github.com/mozilla/pdf.js.git           0.0     All  \n",
       " 1669      https://github.com/mozilla/gecko-projects.git           0.0     All  \n",
       " 1337      https://github.com/mozilla/gecko-projects.git           0.0     All  \n",
       " 2419        https://github.com/mozilla/webmaker.org.git           0.0     All  \n",
       " 2178              https://github.com/mozillach/remo.git           0.0     All  \n",
       " ...                                                 ...           ...     ...  \n",
       " 4         https://github.com/mozilla/gecko-projects.git           6.0     All  \n",
       " 22        https://github.com/mozilla/gecko-projects.git           6.0     All  \n",
       " 97        https://github.com/mozilla/gecko-projects.git           6.0     All  \n",
       " 48              https://github.com/mozilla/positron.git           6.0     All  \n",
       " 199      https://github.com/mdn/archived_kumascript.git           6.0     All  \n",
       " 232                  https://github.com/servo/cairo.git           6.0     All  \n",
       " 1630     https://github.com/mdn/archived_kumascript.git           6.0     All  \n",
       " 86                   https://github.com/servo/cairo.git           6.0     All  \n",
       " 1502                 https://github.com/servo/cairo.git           6.0     All  \n",
       " 116                  https://github.com/servo/cairo.git           6.0     All  \n",
       " 130          https://github.com/mozilla/build-tools.git           7.0     All  \n",
       " 6         https://github.com/mozilla/gecko-projects.git           8.0     All  \n",
       " 43                   https://github.com/servo/cairo.git           8.0     All  \n",
       " 87                   https://github.com/servo/cairo.git           8.0     All  \n",
       " 16       https://github.com/mdn/archived_kumascript.git           8.0     All  \n",
       " 219      https://github.com/mdn/archived_kumascript.git           8.0     All  \n",
       " 246      https://github.com/mdn/archived_kumascript.git           8.0     All  \n",
       " 164            https://github.com/mozilla/gecko-dev.git           8.0     All  \n",
       " 2         https://github.com/mozilla/gecko-projects.git           8.0     All  \n",
       " 204                    https://github.com/moztw/www.git           9.0     All  \n",
       " 94                   https://github.com/servo/cairo.git          10.0     All  \n",
       " 104           https://github.com/mozilla/newtab-dev.git          11.0     All  \n",
       " 46                 https://github.com/mozilla/rhino.git          11.0     All  \n",
       " 268             https://github.com/mozilla/positron.git          12.0     All  \n",
       " 609   https://github.com/mozilla-services/services-c...          12.0     All  \n",
       " 65    https://github.com/mozilla/universal-search-ge...          13.0     All  \n",
       " 100            https://github.com/mozilla/gecko-dev.git          13.0     All  \n",
       " 5              https://github.com/mozilla/gecko-dev.git          13.0     All  \n",
       " 1494             https://github.com/mozilla/mozjpeg.git          14.0     All  \n",
       " 113                 https://github.com/servo/libpng.git          15.0     All  \n",
       " \n",
       " [2674 rows x 7 columns],\n",
       "                                         author        first_commit  \\\n",
       " 1820  24e10253bff84bb4d642ea7026d30c953bc79088 2012-12-31 14:05:14   \n",
       " 1854  49c388a464c649a9b37512d9307b7b5b34119677 2012-12-31 09:59:45   \n",
       " 1910  81479cb76cef65e867fd7a6200a1c4a6a102c5c7 2012-12-30 11:49:08   \n",
       " 1991  e2d2202611433dc0f84eca191d01504d671a1848 2012-12-28 14:57:42   \n",
       " 1337  0c717f8c3633e3644afe133b78869d500687d011 2012-12-28 13:07:52   \n",
       " 1903  7dfcfddc8601e4632d5600cb6b7e177962f9562d 2012-12-28 09:24:47   \n",
       " 1897  75fdabe6c84a92b979d62026543c1c545941d5fa 2012-12-28 09:08:12   \n",
       " 1951  b19d3a8953ed73b84b918b1c8b40bd2e3282f3c2 2012-12-28 06:09:13   \n",
       " 1777  0183bd06d487bf71fd39a568ae892e3ec3079d82 2012-12-27 22:15:17   \n",
       " 1652  e80ab681dde25dcce80f487f1c0e1f65b7051a1f 2012-12-27 20:32:53   \n",
       " 1503  01a14606592290bfe66f59142ecba9c1aa592c11 2012-12-27 12:08:23   \n",
       " 993   8335dcac02a61d62427b153b7904f0dea49f4413 2012-12-27 11:12:05   \n",
       " 1994  e885659e1ba02886b3188babaa0f478c85769f68 2012-12-27 06:16:16   \n",
       " 990   217784d5087e55475cc9549412fdb7a7c7c52056 2012-12-26 20:38:11   \n",
       " 1686  23e3f2d89f795deea516f720f4e5205a737d5370 2012-12-24 19:05:39   \n",
       " 1450  e10953f7e8962a0eb0a62cddf8b0c066e684b82b 2012-12-24 18:52:53   \n",
       " 1401  b7d0be16dd93d359792a5281cb6712184fcfdb6f 2012-12-24 18:35:52   \n",
       " 1810  1fb5c5062864926e4ecd27d0257bfaea88d2fe21 2012-12-23 16:51:17   \n",
       " 1967  cb11e49e6ce330c5ab42627a82c3bdd698051138 2012-12-23 10:59:43   \n",
       " 1226  033011d52b8712ae6f0bc2b3ea12373066fac378 2012-12-23 10:59:43   \n",
       " 1318  c8cc26b44a5fd485dbd5b051cb7c676f7bb28948 2012-12-23 10:52:35   \n",
       " 1665  040d9150581ebbebea345e88387cc2158f994510 2012-12-23 03:01:00   \n",
       " 1483  69be7684d1380c8f7b89aba642c3e70fbf461ae4 2012-12-22 23:51:49   \n",
       " 1817  23972bef1602f2bf12135e9932b54cdef7963e6c 2012-12-22 16:46:51   \n",
       " 1877  61bdb2e0d0dfe71dc8a21b293ef115c5366228de 2012-12-22 12:40:27   \n",
       " 1866  548cc8159002e2c92c622c76c3b4de3798a43009 2012-12-21 23:43:12   \n",
       " 1870  5a4a4200a4b893b2b3b3ea1496314284b88f298b 2012-12-21 23:13:06   \n",
       " 1712  4c591730c63d12af7e7076297430ce9af8546206 2012-12-21 19:30:33   \n",
       " 1339  0dd673348d8356e128a25364e43d8cbe7e06d58d 2012-12-20 22:29:45   \n",
       " 1627  b7b465949002f62d2478f9f07ac0ccf59aa5c132 2012-12-20 18:27:57   \n",
       " ...                                        ...                 ...   \n",
       " 1151  146a8460c73b4e65d62aaa04e46fe334d2b1b62a 2006-09-06 14:43:44   \n",
       " 585   ec1cab31dcd44bec325f9c40f58f6f1c0018df10 2006-09-01 21:02:05   \n",
       " 1456  0e89cf79281e4f79204c04410a14758fb36aa00f 2006-08-24 19:39:43   \n",
       " 1204  10bec3b6202c22549be0ca7405b73abb8a797811 2006-08-23 19:54:34   \n",
       " 99    16eb6b91088456e455e53f409355d6697a1ba15e 2006-08-04 17:16:35   \n",
       " 274   4b0787b313a8a9c69eba804159b61ff67f5b17db 2006-08-02 15:17:09   \n",
       " 118   0f0ec08bf1f4eb5c40b870a7c9bcd1658bf1c709 2006-07-28 17:00:10   \n",
       " 721   3709fdca4567d7a51719b09d887ebe804c2128b2 2006-03-24 14:39:05   \n",
       " 193   52210210e09ae609f6dc3b70ff45d72193058d5d 2005-08-12 21:35:31   \n",
       " 5     14e3bbbe3cca5f6861f737634f340aa034f1182a 2005-07-18 16:00:44   \n",
       " 32    13a60864030aca4c2f0900dae82dad3c51261a25 2005-07-15 13:45:19   \n",
       " 83    326c96550be0eeb4d9f86200b235cf3ad3ba1ea0 2005-06-23 19:30:12   \n",
       " 13    1879909a711cdb23c6791c48283af011a033bb67 2005-06-05 19:48:15   \n",
       " 190   066612ecd1623bac421614a1d08ee9933f453505 2005-06-04 06:22:23   \n",
       " 199   84dc4ff07ea75b561fe38af4498c17cde9f7db72 2005-05-18 16:04:08   \n",
       " 844   624fcb423245af4c297af6071139e3e61e50c91e 2005-03-29 11:24:10   \n",
       " 139   493b8c496e225e738768875bc170a670992891d8 2005-01-22 18:24:18   \n",
       " 554   2b7ae7c12ceaf8ca0ceb7a9aa1e53e2161bfd7a0 2005-01-21 14:33:47   \n",
       " 1     233a57accda5944cbe95ac8a99843709cfd00390 2005-01-21 03:56:31   \n",
       " 1140  1b089f563280c756e83cd8f5627e7e9c3ad90ba0 2003-11-18 07:28:16   \n",
       " 80    276007debe0f2fe81767eeb2f98ebd0a7e1fe28e 2003-10-23 15:22:28   \n",
       " 84    0d121ebd63579eedb0336574053f601f8a6e7e73 2002-07-16 09:38:42   \n",
       " 35    27b393eff6d90b0167bb8c87a77cc80c1c8c7c26 2001-12-20 21:15:02   \n",
       " 220   1aaf2b61ba239a735ec1c357d9f6c11bd2888698 2001-02-12 13:04:06   \n",
       " 506   36da2547705787476b9eab6d2797b026a470b0e3 2000-12-31 19:12:15   \n",
       " 55    1ed27760bba7202e2ae04760fe950a05e011c4de 2000-12-05 22:36:26   \n",
       " 78    0dbb694e712685775856656d3e458de1c0a348bb 2000-05-11 22:45:24   \n",
       " 2     19ccd3737140d6a9ebd54dbfa7d4155077daf403 1999-07-01 02:24:32   \n",
       " 1326  ea866ddbc4b20d4f191bcdecd514b76e22341c39 1998-03-28 00:00:00   \n",
       " 108   5ab67497e1980994af3ffe34e602401ea09237e2 1998-01-01 07:13:13   \n",
       " \n",
       "              last_commit            org  \\\n",
       " 1820 2012-12-31 14:05:14      Community   \n",
       " 1854 2012-12-31 09:59:45      Community   \n",
       " 1910 2012-12-30 11:49:08      Community   \n",
       " 1991 2012-12-28 14:57:42      Community   \n",
       " 1337 2012-12-28 13:07:52      Community   \n",
       " 1903 2012-12-28 09:24:47      Community   \n",
       " 1897 2012-12-28 09:08:12      Community   \n",
       " 1951 2012-12-28 06:09:13      Community   \n",
       " 1777 2012-12-27 22:15:17  Mozilla Staff   \n",
       " 1652 2012-12-27 20:32:53      Community   \n",
       " 1503 2012-12-27 12:08:23      Community   \n",
       " 993  2012-12-27 11:12:06      Community   \n",
       " 1994 2012-12-27 06:16:16      Community   \n",
       " 990  2012-12-31 00:32:14  Mozilla Staff   \n",
       " 1686 2012-12-24 19:05:39      Community   \n",
       " 1450 2012-12-29 18:25:09      Community   \n",
       " 1401 2012-12-27 07:57:19      Community   \n",
       " 1810 2012-12-23 16:51:17  Mozilla Staff   \n",
       " 1967 2012-12-23 10:59:43      Community   \n",
       " 1226 2012-12-23 10:59:43      Community   \n",
       " 1318 2012-12-23 10:52:35      Community   \n",
       " 1665 2012-12-23 03:01:00      Community   \n",
       " 1483 2012-12-22 23:58:27      Community   \n",
       " 1817 2012-12-22 16:46:51  Mozilla Staff   \n",
       " 1877 2012-12-22 12:40:27      Community   \n",
       " 1866 2012-12-21 23:43:12      Community   \n",
       " 1870 2012-12-21 23:13:06      Community   \n",
       " 1712 2012-12-27 19:07:05      Community   \n",
       " 1339 2012-12-31 18:44:51      Community   \n",
       " 1627 2012-12-28 18:27:59      Community   \n",
       " ...                  ...            ...   \n",
       " 1151 2012-01-07 18:45:48      Community   \n",
       " 585  2012-06-23 08:59:33  Mozilla Staff   \n",
       " 1456 2012-06-05 11:02:42  Mozilla Staff   \n",
       " 1204 2012-06-05 11:03:16  Mozilla Staff   \n",
       " 99   2012-06-08 17:22:41  Mozilla Staff   \n",
       " 274  2012-10-23 12:43:29  Mozilla Staff   \n",
       " 118  2012-12-28 11:43:57  Mozilla Staff   \n",
       " 721  2012-06-05 10:59:44  Mozilla Staff   \n",
       " 193  2012-03-25 15:11:57  Mozilla Staff   \n",
       " 5    2012-12-21 19:14:09  Mozilla Staff   \n",
       " 32   2012-12-23 19:29:23  Mozilla Staff   \n",
       " 83   2012-12-20 01:16:45  Mozilla Staff   \n",
       " 13   2012-12-27 11:20:22  Mozilla Staff   \n",
       " 190  2012-12-31 15:01:03  Mozilla Staff   \n",
       " 199  2012-10-20 22:58:56  Mozilla Staff   \n",
       " 844  2012-02-07 11:35:00      Community   \n",
       " 139  2012-11-20 03:39:55  Mozilla Staff   \n",
       " 554  2012-02-16 11:23:34      Community   \n",
       " 1    2012-12-31 11:45:57  Mozilla Staff   \n",
       " 1140 2012-06-28 22:04:45      Community   \n",
       " 80   2012-12-21 15:35:15  Mozilla Staff   \n",
       " 84   2012-12-22 17:38:33  Mozilla Staff   \n",
       " 35   2012-04-10 11:57:29  Mozilla Staff   \n",
       " 220  2012-11-14 11:23:35  Mozilla Staff   \n",
       " 506  2012-07-06 16:31:54  Mozilla Staff   \n",
       " 55   2012-12-20 14:29:08  Mozilla Staff   \n",
       " 78   2012-12-27 18:38:45  Mozilla Staff   \n",
       " 2    2012-12-28 16:09:25  Mozilla Staff   \n",
       " 1326 2012-01-15 00:00:00      Community   \n",
       " 108  2012-12-23 22:19:43  Mozilla Staff   \n",
       " \n",
       "                                               repo_name  active_years project  \n",
       " 1820          https://github.com/mozilla/popcorn-js.git           0.0     All  \n",
       " 1854             https://github.com/mozilla/kitsune.git           0.0     All  \n",
       " 1910              https://github.com/rust-lang/rust.git           0.0     All  \n",
       " 1991              https://github.com/rust-lang/rust.git           0.0     All  \n",
       " 1337  https://github.com/mozilla/universal-search-ge...           0.0     All  \n",
       " 1903           https://github.com/mozilla/addon-sdk.git           0.0     All  \n",
       " 1897         https://github.com/mozilla/build-tools.git           0.0     All  \n",
       " 1951              https://github.com/rust-lang/rust.git           0.0     All  \n",
       " 1777              https://github.com/rust-lang/rust.git           0.0     All  \n",
       " 1652  https://github.com/mozilla/positron-spidernode...           0.0     All  \n",
       " 1503          https://github.com/mozilla/spidernode.git           0.0     All  \n",
       " 993           https://github.com/mozilla/newtab-dev.git           0.0     All  \n",
       " 1994              https://github.com/rust-lang/rust.git           0.0     All  \n",
       " 990           https://github.com/mozilla/newtab-dev.git           0.0     All  \n",
       " 1686             https://github.com/mozilla/bedrock.git           0.0     All  \n",
       " 1450              https://github.com/rust-lang/rust.git           0.0     All  \n",
       " 1401          https://github.com/mozilla/spidernode.git           0.0     All  \n",
       " 1810           https://github.com/mozilla/gecko-dev.git           0.0     All  \n",
       " 1967           https://github.com/mozilla/spiderweb.git           0.0     All  \n",
       " 1226  https://github.com/mozilla/universal-search-ge...           0.0     All  \n",
       " 1318           https://github.com/mozilla/gecko-dev.git           0.0     All  \n",
       " 1665  https://github.com/mozilla/releases-comm-centr...           0.0     All  \n",
       " 1483              https://github.com/rust-lang/rust.git           0.0     All  \n",
       " 1817  https://github.com/mozilla/quality.mozilla.org...           0.0     All  \n",
       " 1877           https://github.com/mozilla/addon-sdk.git           0.0     All  \n",
       " 1866     https://github.com/mozilla/Marketplace.PHP.git           0.0     All  \n",
       " 1870              https://github.com/rust-lang/rust.git           0.0     All  \n",
       " 1712              https://github.com/rust-lang/rust.git           0.0     All  \n",
       " 1339  https://github.com/mozilla/positron-spidernode...           0.0     All  \n",
       " 1627                 https://github.com/mozilla/dxr.git           0.0     All  \n",
       " ...                                                 ...           ...     ...  \n",
       " 1151                 https://github.com/servo/cairo.git           5.0     All  \n",
       " 585      https://github.com/mdn/archived_kumascript.git           5.0     All  \n",
       " 1456     https://github.com/mdn/archived_kumascript.git           5.0     All  \n",
       " 1204     https://github.com/mdn/archived_kumascript.git           5.0     All  \n",
       " 99                   https://github.com/servo/cairo.git           5.0     All  \n",
       " 274                  https://github.com/servo/cairo.git           6.0     All  \n",
       " 118          https://github.com/mozilla/build-tools.git           6.0     All  \n",
       " 721      https://github.com/mdn/archived_kumascript.git           6.0     All  \n",
       " 193                  https://github.com/servo/cairo.git           6.0     All  \n",
       " 5         https://github.com/mozilla/gecko-projects.git           7.0     All  \n",
       " 32                   https://github.com/servo/cairo.git           7.0     All  \n",
       " 83                   https://github.com/servo/cairo.git           7.0     All  \n",
       " 13       https://github.com/mdn/archived_kumascript.git           7.0     All  \n",
       " 190      https://github.com/mdn/archived_kumascript.git           7.0     All  \n",
       " 199      https://github.com/mdn/archived_kumascript.git           7.0     All  \n",
       " 844                  https://github.com/servo/cairo.git           6.0     All  \n",
       " 139            https://github.com/mozilla/gecko-dev.git           7.0     All  \n",
       " 554                  https://github.com/servo/cairo.git           7.0     All  \n",
       " 1         https://github.com/mozilla/gecko-projects.git           7.0     All  \n",
       " 1140                 https://github.com/servo/cairo.git           8.0     All  \n",
       " 80                   https://github.com/servo/cairo.git           9.0     All  \n",
       " 84            https://github.com/mozilla/newtab-dev.git          10.0     All  \n",
       " 35                 https://github.com/mozilla/rhino.git          10.0     All  \n",
       " 220             https://github.com/mozilla/positron.git          11.0     All  \n",
       " 506   https://github.com/mozilla-services/services-c...          11.0     All  \n",
       " 55    https://github.com/mozilla/universal-search-ge...          12.0     All  \n",
       " 78             https://github.com/mozilla/gecko-dev.git          12.0     All  \n",
       " 2              https://github.com/mozilla/gecko-dev.git          13.0     All  \n",
       " 1326             https://github.com/mozilla/mozjpeg.git          13.0     All  \n",
       " 108                 https://github.com/servo/libpng.git          14.0     All  \n",
       " \n",
       " [2008 rows x 7 columns],\n",
       "                                         author        first_commit  \\\n",
       " 1199  06ef90ab84fbec3bbd1582fab64095e17dc61287 2011-12-31 00:30:42   \n",
       " 1024  7b9cc206f9b4b15ad1ad04e2824b66fc5616c09a 2011-12-30 20:14:37   \n",
       " 1556  a79cbe9e952134580b1716fbaa734d278f8d5e6c 2011-12-30 16:50:15   \n",
       " 1408  0191967e28320c8827e762ac0ccaf1847abffcc8 2011-12-30 16:18:55   \n",
       " 1260  9d7508f3c12c437f6975e6c011ad526b77243867 2011-12-29 12:15:49   \n",
       " 969   214fa17554176d270e0e58002384801014eec051 2011-12-28 16:25:54   \n",
       " 1437  2311941cbfb20e4589a88f8ff5122c026d1e9d1c 2011-12-28 13:01:53   \n",
       " 813   1a7d90f20ee36b17ef6486fc9615a4431d18fd20 2011-12-28 09:13:37   \n",
       " 1176  8e750cd848ad5a102edcadd5b3e93c928db87b06 2011-12-28 01:25:46   \n",
       " 1439  232b64d4d1e97c4579deaa0cdedcaec16e7f0764 2011-12-27 22:12:19   \n",
       " 1080  4c72cb8f3face449ae18e672913d0f09c3091a82 2011-12-27 11:49:11   \n",
       " 1161  42be52d7cb476ada956744e63c87d40f12b00080 2011-12-27 10:39:21   \n",
       " 1596  d801317c150aac4e923139c49dd0a7e3b4141c7a 2011-12-25 23:16:03   \n",
       " 1099  886ff170a02f429e6fcb88bff08e82f62129daec 2011-12-23 16:02:47   \n",
       " 1238  6190ff9adbbd1332a838c2dbd784262ed482398b 2011-12-22 14:39:53   \n",
       " 1302  f3a4bcdcbf4739300077c5cbbf3f7adf38de0410 2011-12-22 11:32:27   \n",
       " 848   9cc53a813d62cbe2ea124afd80b1f8294c9c3d87 2011-12-21 23:30:58   \n",
       " 1283  cdfcd0a9550e76172362db8985c9348b40be9cfe 2011-12-21 17:38:12   \n",
       " 1225  3778003a18e3b1a0c18b4baea3a648d2242a4f39 2011-12-21 13:25:56   \n",
       " 1152  1722607bca8033bfe5db1b4943c739f849d476e5 2011-12-21 12:57:15   \n",
       " 1594  d49c9db87b921e843f5d241b0cfec0c9007ddf76 2011-12-21 12:17:57   \n",
       " 1045  b75f3d6a9b1648d401be26ec9fd8e7fd8ccca19b 2011-12-21 01:42:00   \n",
       " 972   258cd5e246d1804cddaa1c6e6dffa8602d1bac5d 2011-12-20 20:03:16   \n",
       " 1390  bd2d639611fd5a6c567e3be6ce9fca70bf7d132c 2011-12-20 16:45:24   \n",
       " 1284  d1e07ca837397419f979b2146eaec6e2b2693a3a 2011-12-20 15:57:45   \n",
       " 793   fc0b2608dc70214afc0cd041404fa4850f562ba9 2011-12-20 15:14:18   \n",
       " 1203  0e3dc8aa67adb8e8a245510c4881653b4bda27af 2011-12-20 12:32:14   \n",
       " 1022  76e591ca9b40a176ab3f90007a1a32f7c9d024de 2011-12-20 09:25:13   \n",
       " 756   9aeda4e1df73d5b838b1c14cd8a881624f34bb9a 2011-12-19 22:11:45   \n",
       " 1029  80c202e06e816fc4c2337af8e3fb2ea09e690b08 2011-12-19 16:43:12   \n",
       " ...                                        ...                 ...   \n",
       " 407   27312ce0c9bf849151fb438d04d1a607431751f4 2006-11-15 19:57:04   \n",
       " 460   ec1cab31dcd44bec325f9c40f58f6f1c0018df10 2006-09-01 21:02:05   \n",
       " 254   9c7686c20cfacd88539e74bef277ea74d81dd085 2006-08-31 13:30:10   \n",
       " 83    16eb6b91088456e455e53f409355d6697a1ba15e 2006-08-04 17:16:35   \n",
       " 214   4b0787b313a8a9c69eba804159b61ff67f5b17db 2006-08-02 15:17:09   \n",
       " 117   0f0ec08bf1f4eb5c40b870a7c9bcd1658bf1c709 2006-07-28 17:00:10   \n",
       " 251   0956447625d85ab037661934cd70c4a7354cc587 2005-12-16 03:02:35   \n",
       " 55    18059ca2cff257fe43e9813c64bbcccf73c17000 2005-11-25 08:16:37   \n",
       " 144   52210210e09ae609f6dc3b70ff45d72193058d5d 2005-08-12 21:35:31   \n",
       " 393   294a6dc4137a8f6f3011b8a5f1caf2b66fa33c53 2005-08-05 14:59:39   \n",
       " 5     14e3bbbe3cca5f6861f737634f340aa034f1182a 2005-07-18 16:00:44   \n",
       " 24    13a60864030aca4c2f0900dae82dad3c51261a25 2005-07-15 13:45:19   \n",
       " 95    326c96550be0eeb4d9f86200b235cf3ad3ba1ea0 2005-06-23 19:30:12   \n",
       " 16    1879909a711cdb23c6791c48283af011a033bb67 2005-06-05 19:48:15   \n",
       " 163   066612ecd1623bac421614a1d08ee9933f453505 2005-06-04 06:22:23   \n",
       " 150   84dc4ff07ea75b561fe38af4498c17cde9f7db72 2005-05-18 16:04:08   \n",
       " 115   493b8c496e225e738768875bc170a670992891d8 2005-01-22 18:24:18   \n",
       " 2     233a57accda5944cbe95ac8a99843709cfd00390 2005-01-21 03:56:31   \n",
       " 128   3495c67b2bbba027d542de15f4405aac214d9709 2004-09-13 09:59:49   \n",
       " 78    276007debe0f2fe81767eeb2f98ebd0a7e1fe28e 2003-10-23 15:22:28   \n",
       " 545   3dfe607e9b8f010ccd18a58ae86bed4527c8298b 2002-08-14 18:32:42   \n",
       " 75    0d121ebd63579eedb0336574053f601f8a6e7e73 2002-07-16 09:38:42   \n",
       " 25    27b393eff6d90b0167bb8c87a77cc80c1c8c7c26 2001-12-20 21:15:02   \n",
       " 653   36da2547705787476b9eab6d2797b026a470b0e3 2000-12-31 19:12:15   \n",
       " 38    1ed27760bba7202e2ae04760fe950a05e011c4de 2000-12-05 22:36:26   \n",
       " 59    0dbb694e712685775856656d3e458de1c0a348bb 2000-05-11 22:45:24   \n",
       " 1     19ccd3737140d6a9ebd54dbfa7d4155077daf403 1999-07-01 02:24:32   \n",
       " 33    8c6ab5fc6cfed7f9d65727fe7a6a4be938498d67 1998-08-01 19:08:05   \n",
       " 1119  ea866ddbc4b20d4f191bcdecd514b76e22341c39 1998-03-28 00:00:00   \n",
       " 94    5ab67497e1980994af3ffe34e602401ea09237e2 1998-01-01 07:13:13   \n",
       " \n",
       "              last_commit            org  \\\n",
       " 1199 2011-12-31 00:30:42      Community   \n",
       " 1024 2011-12-30 20:14:37      Community   \n",
       " 1556 2011-12-30 16:50:15      Community   \n",
       " 1408 2011-12-30 16:18:55      Community   \n",
       " 1260 2011-12-29 12:15:49      Community   \n",
       " 969  2011-12-28 16:25:54      Community   \n",
       " 1437 2011-12-28 13:01:53      Community   \n",
       " 813  2011-12-28 10:52:22      Community   \n",
       " 1176 2011-12-28 01:59:20      Community   \n",
       " 1439 2011-12-27 22:12:19  Mozilla Staff   \n",
       " 1080 2011-12-28 19:57:12      Community   \n",
       " 1161 2011-12-30 15:10:43  Mozilla Staff   \n",
       " 1596 2011-12-25 23:16:03      Community   \n",
       " 1099 2011-12-23 18:28:31      Community   \n",
       " 1238 2011-12-22 14:39:53      Community   \n",
       " 1302 2011-12-22 11:32:27      Community   \n",
       " 848  2011-12-22 00:48:24      Community   \n",
       " 1283 2011-12-21 17:38:12      Community   \n",
       " 1225 2011-12-21 13:25:56      Community   \n",
       " 1152 2011-12-21 14:30:36      Community   \n",
       " 1594 2011-12-21 12:17:57      Community   \n",
       " 1045 2011-12-21 01:42:00  Mozilla Staff   \n",
       " 972  2011-12-20 20:03:16      Community   \n",
       " 1390 2011-12-20 16:45:24      Community   \n",
       " 1284 2011-12-20 15:57:45      Community   \n",
       " 793  2011-12-29 21:03:28      Community   \n",
       " 1203 2011-12-22 10:58:44      Community   \n",
       " 1022 2011-12-20 09:25:13      Community   \n",
       " 756  2011-12-28 23:39:02  Mozilla Staff   \n",
       " 1029 2011-12-19 16:43:12  Mozilla Staff   \n",
       " ...                  ...            ...   \n",
       " 407  2011-02-19 17:46:45  Mozilla Staff   \n",
       " 460  2011-10-15 19:39:54  Mozilla Staff   \n",
       " 254  2011-09-14 17:52:03      Community   \n",
       " 83   2011-12-15 19:12:00  Mozilla Staff   \n",
       " 214  2011-12-10 00:40:54  Mozilla Staff   \n",
       " 117  2011-12-28 14:45:56  Mozilla Staff   \n",
       " 251  2011-07-04 11:47:09  Mozilla Staff   \n",
       " 55   2011-12-03 22:50:17  Mozilla Staff   \n",
       " 144  2011-09-22 13:02:44  Mozilla Staff   \n",
       " 393  2011-09-26 16:33:04  Mozilla Staff   \n",
       " 5    2011-12-20 14:14:10  Mozilla Staff   \n",
       " 24   2011-05-26 08:48:36  Mozilla Staff   \n",
       " 95   2011-12-20 15:13:52  Mozilla Staff   \n",
       " 16   2011-12-31 01:15:59  Mozilla Staff   \n",
       " 163  2011-12-30 20:37:07  Mozilla Staff   \n",
       " 150  2011-04-10 02:18:38  Mozilla Staff   \n",
       " 115  2011-12-20 02:48:15  Mozilla Staff   \n",
       " 2    2011-12-30 11:14:04  Mozilla Staff   \n",
       " 128  2011-11-07 03:43:47  Mozilla Staff   \n",
       " 78   2011-12-30 15:26:49  Mozilla Staff   \n",
       " 545  2011-12-06 09:58:18      Community   \n",
       " 75   2011-12-30 12:57:37  Mozilla Staff   \n",
       " 25   2011-12-31 21:29:41  Mozilla Staff   \n",
       " 653  2011-12-20 19:49:39  Mozilla Staff   \n",
       " 38   2011-12-16 09:58:50  Mozilla Staff   \n",
       " 59   2011-12-27 23:20:44  Mozilla Staff   \n",
       " 1    2011-12-09 16:59:03  Mozilla Staff   \n",
       " 33   2011-02-19 20:46:44  Mozilla Staff   \n",
       " 1119 2011-01-16 00:00:00      Community   \n",
       " 94   2011-12-29 21:08:46  Mozilla Staff   \n",
       " \n",
       "                                               repo_name  active_years project  \n",
       " 1199  https://github.com/mozilla/positron-spidernode...           0.0     All  \n",
       " 1024           https://github.com/mozilla/gecko-dev.git           0.0     All  \n",
       " 1556              https://github.com/rust-lang/rust.git           0.0     All  \n",
       " 1408              https://github.com/rust-lang/rust.git           0.0     All  \n",
       " 1260  https://github.com/mozilla/positron-spidernode...           0.0     All  \n",
       " 969            https://github.com/mozilla/spiderweb.git           0.0     All  \n",
       " 1437         https://github.com/mozilla/build-talos.git           0.0     All  \n",
       " 813   https://github.com/mozilla/universal-search-ge...           0.0     All  \n",
       " 1176  https://github.com/mozillahispano/Mozilla-last...           0.0     All  \n",
       " 1439          https://github.com/mozilla/mozillians.git           0.0     All  \n",
       " 1080              https://github.com/mozilla/pdf.js.git           0.0     All  \n",
       " 1161         https://github.com/mozilla/build-tools.git           0.0     All  \n",
       " 1596             https://github.com/mozilla/persona.git           0.0     All  \n",
       " 1099        https://github.com/mozilla/popcorn-docs.git           0.0     All  \n",
       " 1238          https://github.com/mozilla/spidernode.git           0.0     All  \n",
       " 1302  https://github.com/mozilla/spiderweb-spidernod...           0.0     All  \n",
       " 848                https://github.com/mozilla/rhino.git           0.0     All  \n",
       " 1283  https://github.com/mozilla/positron-spidernode...           0.0     All  \n",
       " 1225          https://github.com/mozilla/spidernode.git           0.0     All  \n",
       " 1152               https://github.com/mozilla/rhino.git           0.0     All  \n",
       " 1594         https://github.com/mozilla/build-talos.git           0.0     All  \n",
       " 1045          https://github.com/mozilla/newtab-dev.git           0.0     All  \n",
       " 972   https://github.com/mozilla/universal-search-ge...           0.0     All  \n",
       " 1390      https://github.com/mozilla/gecko-projects.git           0.0     All  \n",
       " 1284  https://github.com/mozilla/positron-spidernode...           0.0     All  \n",
       " 793                   https://github.com/servo/skia.git           0.0     All  \n",
       " 1203          https://github.com/mozilla/affiliates.git           0.0     All  \n",
       " 1022      https://github.com/mozilla/gecko-projects.git           0.0     All  \n",
       " 756               https://github.com/mozilla/webpay.git           0.0     All  \n",
       " 1029          https://github.com/mozilla/newtab-dev.git           0.0     All  \n",
       " ...                                                 ...           ...     ...  \n",
       " 407                  https://github.com/servo/cairo.git           4.0     All  \n",
       " 460      https://github.com/mdn/archived_kumascript.git           5.0     All  \n",
       " 254                  https://github.com/servo/cairo.git           5.0     All  \n",
       " 83                   https://github.com/servo/cairo.git           5.0     All  \n",
       " 214                  https://github.com/servo/cairo.git           5.0     All  \n",
       " 117          https://github.com/mozilla/build-tools.git           5.0     All  \n",
       " 251                  https://github.com/servo/cairo.git           5.0     All  \n",
       " 55                 https://github.com/mozilla/rhino.git           6.0     All  \n",
       " 144                  https://github.com/servo/cairo.git           6.0     All  \n",
       " 393                https://github.com/mozilla/rhino.git           6.0     All  \n",
       " 5         https://github.com/mozilla/gecko-projects.git           6.0     All  \n",
       " 24                   https://github.com/servo/cairo.git           5.0     All  \n",
       " 95                   https://github.com/servo/cairo.git           6.0     All  \n",
       " 16       https://github.com/mdn/archived_kumascript.git           6.0     All  \n",
       " 163      https://github.com/mdn/archived_kumascript.git           6.0     All  \n",
       " 150      https://github.com/mdn/archived_kumascript.git           5.0     All  \n",
       " 115            https://github.com/mozilla/gecko-dev.git           6.0     All  \n",
       " 2         https://github.com/mozilla/gecko-projects.git           6.0     All  \n",
       " 128                    https://github.com/moztw/www.git           7.0     All  \n",
       " 78                   https://github.com/servo/cairo.git           8.0     All  \n",
       " 545                  https://github.com/servo/cairo.git           9.0     All  \n",
       " 75            https://github.com/mozilla/newtab-dev.git           9.0     All  \n",
       " 25                 https://github.com/mozilla/rhino.git          10.0     All  \n",
       " 653   https://github.com/mozilla-services/services-c...          10.0     All  \n",
       " 38    https://github.com/mozilla/universal-search-ge...          11.0     All  \n",
       " 59             https://github.com/mozilla/gecko-dev.git          11.0     All  \n",
       " 1              https://github.com/mozilla/gecko-dev.git          12.0     All  \n",
       " 33             https://github.com/mozilla/gecko-dev.git          12.0     All  \n",
       " 1119             https://github.com/mozilla/mozjpeg.git          12.0     All  \n",
       " 94                  https://github.com/servo/libpng.git          13.0     All  \n",
       " \n",
       " [1617 rows x 7 columns],\n",
       "                                         author        first_commit  \\\n",
       " 1002  0754289bb29f666ea8069bbca0b33e6abb0c858a 2010-12-30 10:05:58   \n",
       " 1222  e96c06e845d30cd59b0292192c2842cef50f7661 2010-12-29 19:22:18   \n",
       " 804   390b6d4e952298de7508833e379a875c9a806b1a 2010-12-29 19:22:18   \n",
       " 989   eaa496a5813263a0d2ac862eeff4b4974f306f40 2010-12-26 17:32:04   \n",
       " 917   13194e3518106adf2e9c8a763f30228be5a79f2d 2010-12-25 00:40:48   \n",
       " 850   392ff5add13daee372f439faae454b04c831381a 2010-12-24 16:56:08   \n",
       " 1132  346a5c3e08d4542f3d94c63db153a690d6368bf5 2010-12-23 22:21:27   \n",
       " 695   c990ba205bc76633db3cf19fa53ae175db1e13e8 2010-12-22 22:13:51   \n",
       " 754   6f2862a44b9dd3fb46c418cd1d2f5699de7bb1da 2010-12-22 06:10:00   \n",
       " 1196  ad1e1bd9d9f9b6a1202f331a7ea983e363006a43 2010-12-21 18:27:33   \n",
       " 1156  5f1a3f90b9282bfb124b71ee3b5053f328fde3b8 2010-12-21 16:15:05   \n",
       " 922   19803f14becb2b6b311ca00f67b1b38a6cb4932d 2010-12-21 12:35:40   \n",
       " 1198  b1cd9afb29fbfe13fcd76cca62fe499e9b64c1a6 2010-12-21 11:36:39   \n",
       " 469   d61a0273230104344af3820498da86a536a91e2a 2010-12-20 18:48:46   \n",
       " 1157  62198af526ebdf34a0b4fcc63c3e123aed82c55c 2010-12-20 16:14:25   \n",
       " 1080  a27a2c06aceaf99a93e509c9078f201ec2539f11 2010-12-17 10:26:04   \n",
       " 718   205a8664e499dd92153696c0316aafcb793144c7 2010-12-16 15:28:35   \n",
       " 1188  98bcbb46dbe314cf46eb31699910a7cc73adc393 2010-12-14 16:48:45   \n",
       " 1109  05fb5aa05f47f6bf010c30d653c5958ceb605a74 2010-12-13 14:14:34   \n",
       " 1095  d49be663ba3d92a065667e99d78831b8e90e249a 2010-12-13 00:14:39   \n",
       " 725   2d62d91a2febd1cef19579bb498a1009c3b0a7d9 2010-12-12 08:09:00   \n",
       " 630   b1de93ea380fdce4639c2e6d4fdbb88b6b5899fa 2010-12-10 18:41:28   \n",
       " 885   71e7fa7214e34dbda79f4c73797375b3ef42ee16 2010-12-10 15:05:45   \n",
       " 597   08aa81812b7c23b069ae60b527a273f3840abff0 2010-12-09 17:28:15   \n",
       " 642   7228de2288571ea41d3ed69f0a29b6e986abfa6a 2010-12-09 12:39:15   \n",
       " 782   e356029152a72b090c8411100b11c7307cd1541d 2010-12-09 11:52:03   \n",
       " 599   14fce993c62c4e86cd8850c2493c7a9712c6c793 2010-12-08 17:02:58   \n",
       " 762   7b9863d848c5afa0a188f55bdd44e9fe2ed7fec9 2010-12-08 16:26:21   \n",
       " 991   f264f3d643675d86031cac719196c59cbe4f6ad0 2010-12-08 13:39:50   \n",
       " 629   87c3783c0af5db5f11017a12693e3663f4084708 2010-12-08 11:20:40   \n",
       " ...                                        ...                 ...   \n",
       " 46    18059ca2cff257fe43e9813c64bbcccf73c17000 2005-11-25 08:16:37   \n",
       " 662   29bbbea00cc038c89c77544c2f5329c4928828db 2005-10-09 07:17:20   \n",
       " 105   52210210e09ae609f6dc3b70ff45d72193058d5d 2005-08-12 21:35:31   \n",
       " 284   294a6dc4137a8f6f3011b8a5f1caf2b66fa33c53 2005-08-05 14:59:39   \n",
       " 3     14e3bbbe3cca5f6861f737634f340aa034f1182a 2005-07-18 16:00:44   \n",
       " 15    13a60864030aca4c2f0900dae82dad3c51261a25 2005-07-15 13:45:19   \n",
       " 116   326c96550be0eeb4d9f86200b235cf3ad3ba1ea0 2005-06-23 19:30:12   \n",
       " 29    1879909a711cdb23c6791c48283af011a033bb67 2005-06-05 19:48:15   \n",
       " 147   066612ecd1623bac421614a1d08ee9933f453505 2005-06-04 06:22:23   \n",
       " 115   84dc4ff07ea75b561fe38af4498c17cde9f7db72 2005-05-18 16:04:08   \n",
       " 509   624fcb423245af4c297af6071139e3e61e50c91e 2005-03-29 11:24:10   \n",
       " 89    493b8c496e225e738768875bc170a670992891d8 2005-01-22 18:24:18   \n",
       " 296   2b7ae7c12ceaf8ca0ceb7a9aa1e53e2161bfd7a0 2005-01-21 14:33:47   \n",
       " 1     233a57accda5944cbe95ac8a99843709cfd00390 2005-01-21 03:56:31   \n",
       " 324   47c85c0a169b4dd9999f5d272f40046c8ce9618d 2005-01-05 14:29:31   \n",
       " 564   619d024fa14994b52584a872e5a4afcf60a87d8f 2004-12-20 06:15:21   \n",
       " 98    2ce8de0042c34d2afdf9277819bcca7355e0e370 2004-11-12 14:46:23   \n",
       " 92    3495c67b2bbba027d542de15f4405aac214d9709 2004-09-13 09:59:49   \n",
       " 69    276007debe0f2fe81767eeb2f98ebd0a7e1fe28e 2003-10-23 15:22:28   \n",
       " 54    0d121ebd63579eedb0336574053f601f8a6e7e73 2002-07-16 09:38:42   \n",
       " 73    93c0e41e3f14df7feb35f17aa0efcb7b3cd2599b 2002-06-11 04:02:23   \n",
       " 20    27b393eff6d90b0167bb8c87a77cc80c1c8c7c26 2001-12-20 21:15:02   \n",
       " 127   1aaf2b61ba239a735ec1c357d9f6c11bd2888698 2001-02-12 13:04:06   \n",
       " 31    1ed27760bba7202e2ae04760fe950a05e011c4de 2000-12-05 22:36:26   \n",
       " 117   2e1b9bb47d932cbb71fcc83d3349be9b2b4b20a2 2000-05-22 00:10:10   \n",
       " 43    0dbb694e712685775856656d3e458de1c0a348bb 2000-05-11 22:45:24   \n",
       " 0     19ccd3737140d6a9ebd54dbfa7d4155077daf403 1999-07-01 02:24:32   \n",
       " 25    8c6ab5fc6cfed7f9d65727fe7a6a4be938498d67 1998-08-01 19:08:05   \n",
       " 860   ea866ddbc4b20d4f191bcdecd514b76e22341c39 1998-03-28 00:00:00   \n",
       " 82    5ab67497e1980994af3ffe34e602401ea09237e2 1998-01-01 07:13:13   \n",
       " \n",
       "              last_commit            org  \\\n",
       " 1002 2010-12-30 10:05:58      Community   \n",
       " 1222 2010-12-29 19:22:18      Community   \n",
       " 804  2010-12-29 19:22:18      Community   \n",
       " 989  2010-12-26 17:32:04      Community   \n",
       " 917  2010-12-25 00:40:48      Community   \n",
       " 850  2010-12-30 11:21:37  Mozilla Staff   \n",
       " 1132 2010-12-23 22:21:27      Community   \n",
       " 695  2010-12-23 20:59:40      Community   \n",
       " 754  2010-12-22 06:10:00      Community   \n",
       " 1196 2010-12-21 18:27:33      Community   \n",
       " 1156 2010-12-21 16:15:05  Mozilla Staff   \n",
       " 922  2010-12-21 12:35:40      Community   \n",
       " 1198 2010-12-21 11:36:39      Community   \n",
       " 469  2010-12-31 18:11:59      Community   \n",
       " 1157 2010-12-20 16:14:25      Community   \n",
       " 1080 2010-12-17 10:26:04      Community   \n",
       " 718  2010-12-16 15:28:35  Mozilla Staff   \n",
       " 1188 2010-12-14 16:48:45  Mozilla Staff   \n",
       " 1109 2010-12-13 14:14:34  Mozilla Staff   \n",
       " 1095 2010-12-13 00:14:39      Community   \n",
       " 725  2010-12-12 08:09:00      Community   \n",
       " 630  2010-12-17 15:38:15      Community   \n",
       " 885  2010-12-15 12:28:38  Mozilla Staff   \n",
       " 597  2010-12-09 18:27:48  Mozilla Staff   \n",
       " 642  2010-12-16 18:31:55      Community   \n",
       " 782  2010-12-09 11:52:03      Community   \n",
       " 599  2010-12-12 15:20:34      Community   \n",
       " 762  2010-12-27 22:10:19      Community   \n",
       " 991  2010-12-08 13:39:50      Community   \n",
       " 629  2010-12-09 18:51:03  Mozilla Staff   \n",
       " ...                  ...            ...   \n",
       " 46   2010-12-22 19:26:15  Mozilla Staff   \n",
       " 662  2010-05-16 14:27:46  Mozilla Staff   \n",
       " 105  2010-12-09 19:46:01  Mozilla Staff   \n",
       " 284  2010-04-24 04:03:14  Mozilla Staff   \n",
       " 3    2010-12-25 14:55:35  Mozilla Staff   \n",
       " 15   2010-12-27 12:25:47  Mozilla Staff   \n",
       " 116  2010-12-15 23:42:18  Mozilla Staff   \n",
       " 29   2010-12-31 11:41:23  Mozilla Staff   \n",
       " 147  2010-12-12 01:57:01  Mozilla Staff   \n",
       " 115  2010-09-20 14:38:11  Mozilla Staff   \n",
       " 509  2010-09-15 11:53:47      Community   \n",
       " 89   2010-12-22 01:44:04  Mozilla Staff   \n",
       " 296  2010-02-25 15:18:22      Community   \n",
       " 1    2010-12-26 22:36:33  Mozilla Staff   \n",
       " 324  2010-06-17 18:29:48      Community   \n",
       " 564  2010-03-17 11:58:05      Community   \n",
       " 98   2010-11-20 01:02:55  Mozilla Staff   \n",
       " 92   2010-08-19 18:10:14  Mozilla Staff   \n",
       " 69   2010-12-31 15:25:24  Mozilla Staff   \n",
       " 54   2010-12-15 15:15:37  Mozilla Staff   \n",
       " 73   2010-02-19 17:39:50      Community   \n",
       " 20   2010-12-29 20:09:04  Mozilla Staff   \n",
       " 127  2010-12-11 09:38:31  Mozilla Staff   \n",
       " 31   2010-12-30 06:58:45  Mozilla Staff   \n",
       " 117  2010-08-16 13:44:12  Mozilla Staff   \n",
       " 43   2010-12-28 20:22:14  Mozilla Staff   \n",
       " 0    2010-12-29 23:46:50  Mozilla Staff   \n",
       " 25   2010-09-25 18:29:05  Mozilla Staff   \n",
       " 860  2010-05-16 00:00:00      Community   \n",
       " 82   2010-12-31 09:14:01  Mozilla Staff   \n",
       " \n",
       "                                               repo_name  active_years project  \n",
       " 1002             https://github.com/mozilla/kitsune.git           0.0     All  \n",
       " 1222           https://github.com/mozilla/spiderweb.git           0.0     All  \n",
       " 804            https://github.com/mozilla/gecko-dev.git           0.0     All  \n",
       " 989           https://github.com/mozilla/spidernode.git           0.0     All  \n",
       " 917   https://github.com/mozilla/positron-spidernode...           0.0     All  \n",
       " 850               https://github.com/rust-lang/rust.git           0.0     All  \n",
       " 1132              https://github.com/mozilla/yaocho.git           0.0     All  \n",
       " 695                   https://github.com/servo/skia.git           0.0     All  \n",
       " 754             https://github.com/mozilla/positron.git           0.0     All  \n",
       " 1196              https://github.com/mozilla/butter.git           0.0     All  \n",
       " 1156         https://github.com/mozilla/openwebapps.git           0.0     All  \n",
       " 922           https://github.com/mozilla/spidernode.git           0.0     All  \n",
       " 1198           https://github.com/mozilla/addon-sdk.git           0.0     All  \n",
       " 469                   https://github.com/servo/skia.git           0.0     All  \n",
       " 1157         https://github.com/mozilla/build-tools.git           0.0     All  \n",
       " 1080      https://github.com/mozilla/gecko-projects.git           0.0     All  \n",
       " 718            https://github.com/mozilla/gecko-dev.git           0.0     All  \n",
       " 1188         https://github.com/mozilla/openwebapps.git           0.0     All  \n",
       " 1109         https://github.com/mozilla/openwebapps.git           0.0     All  \n",
       " 1095  https://github.com/mozilla/releases-comm-centr...           0.0     All  \n",
       " 725            https://github.com/mozilla/gecko-dev.git           0.0     All  \n",
       " 630               https://github.com/mozilla/butter.git           0.0     All  \n",
       " 885          https://github.com/mozilla/openwebapps.git           0.0     All  \n",
       " 597             https://github.com/mozilla/positron.git           0.0     All  \n",
       " 642               https://github.com/mozilla/butter.git           0.0     All  \n",
       " 782   https://github.com/mozilla-services/services-c...           0.0     All  \n",
       " 599   https://github.com/mozilla/caseconductor-platf...           0.0     All  \n",
       " 762                 https://github.com/servo/libpng.git           0.0     All  \n",
       " 991           https://github.com/mozilla/spidernode.git           0.0     All  \n",
       " 629   https://github.com/mozilla/caseconductor-platf...           0.0     All  \n",
       " ...                                                 ...           ...     ...  \n",
       " 46                 https://github.com/mozilla/rhino.git           5.0     All  \n",
       " 662      https://github.com/mdn/archived_kumascript.git           4.0     All  \n",
       " 105                  https://github.com/servo/cairo.git           5.0     All  \n",
       " 284                https://github.com/mozilla/rhino.git           4.0     All  \n",
       " 3         https://github.com/mozilla/gecko-projects.git           5.0     All  \n",
       " 15                   https://github.com/servo/cairo.git           5.0     All  \n",
       " 116                  https://github.com/servo/cairo.git           5.0     All  \n",
       " 29       https://github.com/mdn/archived_kumascript.git           5.0     All  \n",
       " 147      https://github.com/mdn/archived_kumascript.git           5.0     All  \n",
       " 115      https://github.com/mdn/archived_kumascript.git           5.0     All  \n",
       " 509                  https://github.com/servo/cairo.git           5.0     All  \n",
       " 89             https://github.com/mozilla/gecko-dev.git           5.0     All  \n",
       " 296                  https://github.com/servo/cairo.git           5.0     All  \n",
       " 1         https://github.com/mozilla/gecko-projects.git           5.0     All  \n",
       " 324                  https://github.com/servo/cairo.git           5.0     All  \n",
       " 564                  https://github.com/servo/cairo.git           5.0     All  \n",
       " 98                   https://github.com/servo/cairo.git           6.0     All  \n",
       " 92                     https://github.com/moztw/www.git           5.0     All  \n",
       " 69                   https://github.com/servo/cairo.git           7.0     All  \n",
       " 54            https://github.com/mozilla/newtab-dev.git           8.0     All  \n",
       " 73                   https://github.com/servo/cairo.git           7.0     All  \n",
       " 20                 https://github.com/mozilla/rhino.git           9.0     All  \n",
       " 127             https://github.com/mozilla/positron.git           9.0     All  \n",
       " 31    https://github.com/mozilla/universal-search-ge...          10.0     All  \n",
       " 117                https://github.com/mozilla/rhino.git          10.0     All  \n",
       " 43             https://github.com/mozilla/gecko-dev.git          10.0     All  \n",
       " 0              https://github.com/mozilla/gecko-dev.git          11.0     All  \n",
       " 25             https://github.com/mozilla/gecko-dev.git          12.0     All  \n",
       " 860              https://github.com/mozilla/mozjpeg.git          12.0     All  \n",
       " 82                  https://github.com/servo/libpng.git          12.0     All  \n",
       " \n",
       " [1233 rows x 7 columns],\n",
       "                                        author        first_commit  \\\n",
       " 838  283975961b195a8203bd20d62a137f05cafe2159 2009-12-30 20:56:55   \n",
       " 634  08eb9b61296fefe0642d3245f6a83c5ff20e10d5 2009-12-30 20:56:55   \n",
       " 709  b8783dbae657fdaa4473c7dfd59cc00ea6efbe2c 2009-12-30 10:06:40   \n",
       " 886  8b32cf389c8ff07af44b288b59e7e4bbfc4e072c 2009-12-29 15:13:46   \n",
       " 902  be0691bd69e2dfa886e570aa6cf6d0fa41724e24 2009-12-29 10:41:57   \n",
       " 631  021a997f0f8e7df25fd4cc441c5a5f047bee90af 2009-12-29 10:41:57   \n",
       " 884  875d7e421058eb01d63020cf0b25882284b82cee 2009-12-29 08:47:09   \n",
       " 841  2b35eb58e1ab3de2c248fb55eef7af356ebfb5c6 2009-12-29 01:54:02   \n",
       " 777  796175d21c3af4f088eecd27d0e9e7d1702ee711 2009-12-28 15:40:00   \n",
       " 853  426de298a8ffe146412e8ab69e6c610a5fccc306 2009-12-28 13:34:43   \n",
       " 618  b1b12d2a256b0af293af6f3f4a185b7abe5cfdf0 2009-12-23 18:48:53   \n",
       " 602  4bf291f78e90db21d7573cb6904c5d63c9592bcf 2009-12-22 19:52:13   \n",
       " 700  71e1e2511e8da7febefee5fd089b5d05c99a47f8 2009-12-22 14:52:40   \n",
       " 891  93a024244e21492d7fdab124823cbfc005b88b89 2009-12-22 11:02:11   \n",
       " 625  ca0ad47c719b5a63d1ebbc0da428a4c62c541aaf 2009-12-21 21:50:30   \n",
       " 921  f6eb98ee9c12bb79466551e87ee725f2b2badd5d 2009-12-18 21:34:20   \n",
       " 690  2d3383d171ceb6c9504bd7a0a9634f768cb675b2 2009-12-18 16:17:10   \n",
       " 770  5e8dab4b2f582831ac60c47c746ed05ab156b97a 2009-12-18 07:55:31   \n",
       " 718  cb971dcafc5babbeca5893cb84e000f4f2d5605e 2009-12-18 01:08:10   \n",
       " 236  03235853357afeecb6105855d2415d307bd945c4 2009-12-17 15:19:25   \n",
       " 505  0d6eafbcdfb2edff23dfd5db2c58b410dde1acf3 2009-12-17 14:09:17   \n",
       " 724  024a4278b098530475fbcca7dd01ac2f3cce814a 2009-12-17 08:41:12   \n",
       " 787  91efd58f90080b32b3baac0bdcbb602e4ac2bd2a 2009-12-16 21:02:17   \n",
       " 370  06f974f5a0690c837680dbd81d7d619ada51af10 2009-12-16 08:46:51   \n",
       " 527  ad3a588802928ad496cf63d8f200779db1559586 2009-12-15 22:32:50   \n",
       " 473  1b1cc00327b1b072091764b6cde284838e35812e 2009-12-15 18:16:12   \n",
       " 535  0fe213c2249b3cbd6b98d695c36bfcee388b93de 2009-12-15 11:00:58   \n",
       " 864  546868f6e2a1c0c4c56423b06e1111cda3f07f99 2009-12-14 17:53:06   \n",
       " 833  2326a6cb66f303be2b6416eef4d6c4cb40bc92b3 2009-12-11 23:17:27   \n",
       " 637  13a26044d251999a8964c859096203f4c7d09efc 2009-12-11 23:17:27   \n",
       " ..                                        ...                 ...   \n",
       " 483  76b3f17062821adbcd10533e6faf815da2001550 2006-02-03 20:55:28   \n",
       " 151  0956447625d85ab037661934cd70c4a7354cc587 2005-12-16 03:02:35   \n",
       " 54   18059ca2cff257fe43e9813c64bbcccf73c17000 2005-11-25 08:16:37   \n",
       " 543  29bbbea00cc038c89c77544c2f5329c4928828db 2005-10-09 07:17:20   \n",
       " 357  14d3a220c0f965299b1c4751b216993fa9e735e9 2005-09-26 09:02:14   \n",
       " 406  af5c7b1cf928bf8355beac95c385b59f32ba085c 2005-08-22 16:29:56   \n",
       " 77   52210210e09ae609f6dc3b70ff45d72193058d5d 2005-08-12 21:35:31   \n",
       " 204  294a6dc4137a8f6f3011b8a5f1caf2b66fa33c53 2005-08-05 14:59:39   \n",
       " 1    14e3bbbe3cca5f6861f737634f340aa034f1182a 2005-07-18 16:00:44   \n",
       " 14   13a60864030aca4c2f0900dae82dad3c51261a25 2005-07-15 13:45:19   \n",
       " 111  326c96550be0eeb4d9f86200b235cf3ad3ba1ea0 2005-06-23 19:30:12   \n",
       " 30   1879909a711cdb23c6791c48283af011a033bb67 2005-06-05 19:48:15   \n",
       " 181  066612ecd1623bac421614a1d08ee9933f453505 2005-06-04 06:22:23   \n",
       " 81   84dc4ff07ea75b561fe38af4498c17cde9f7db72 2005-05-18 16:04:08   \n",
       " 75   493b8c496e225e738768875bc170a670992891d8 2005-01-22 18:24:18   \n",
       " 5    233a57accda5944cbe95ac8a99843709cfd00390 2005-01-21 03:56:31   \n",
       " 315  3e463a7573860387deadc2193255809f483201b9 2005-01-16 08:35:14   \n",
       " 72   2ce8de0042c34d2afdf9277819bcca7355e0e370 2004-11-12 14:46:23   \n",
       " 63   3495c67b2bbba027d542de15f4405aac214d9709 2004-09-13 09:59:49   \n",
       " 64   276007debe0f2fe81767eeb2f98ebd0a7e1fe28e 2003-10-23 15:22:28   \n",
       " 36   0d121ebd63579eedb0336574053f601f8a6e7e73 2002-07-16 09:38:42   \n",
       " 46   93c0e41e3f14df7feb35f17aa0efcb7b3cd2599b 2002-06-11 04:02:23   \n",
       " 13   27b393eff6d90b0167bb8c87a77cc80c1c8c7c26 2001-12-20 21:15:02   \n",
       " 18   1ed27760bba7202e2ae04760fe950a05e011c4de 2000-12-05 22:36:26   \n",
       " 82   2e1b9bb47d932cbb71fcc83d3349be9b2b4b20a2 2000-05-22 00:10:10   \n",
       " 21   0dbb694e712685775856656d3e458de1c0a348bb 2000-05-11 22:45:24   \n",
       " 0    19ccd3737140d6a9ebd54dbfa7d4155077daf403 1999-07-01 02:24:32   \n",
       " 11   8c6ab5fc6cfed7f9d65727fe7a6a4be938498d67 1998-08-01 19:08:05   \n",
       " 807  ea866ddbc4b20d4f191bcdecd514b76e22341c39 1998-03-28 00:00:00   \n",
       " 83   5ab67497e1980994af3ffe34e602401ea09237e2 1998-01-01 07:13:13   \n",
       " \n",
       "             last_commit            org  \\\n",
       " 838 2009-12-30 20:56:55      Community   \n",
       " 634 2009-12-30 20:56:55      Community   \n",
       " 709 2009-12-30 10:06:40      Community   \n",
       " 886 2009-12-29 15:13:46      Community   \n",
       " 902 2009-12-29 10:41:57      Community   \n",
       " 631 2009-12-29 10:41:57      Community   \n",
       " 884 2009-12-29 08:47:09      Community   \n",
       " 841 2009-12-29 01:54:02      Community   \n",
       " 777 2009-12-28 15:40:00      Community   \n",
       " 853 2009-12-28 13:34:43      Community   \n",
       " 618 2009-12-23 18:48:53      Community   \n",
       " 602 2009-12-22 19:52:13  Mozilla Staff   \n",
       " 700 2009-12-22 14:52:40      Community   \n",
       " 891 2009-12-22 11:02:11  Mozilla Staff   \n",
       " 625 2009-12-21 21:50:30      Community   \n",
       " 921 2009-12-18 21:34:20      Community   \n",
       " 690 2009-12-18 16:17:10      Community   \n",
       " 770 2009-12-18 07:55:31      Community   \n",
       " 718 2009-12-18 01:08:10      Community   \n",
       " 236 2009-12-31 10:22:23  Mozilla Staff   \n",
       " 505 2009-12-22 19:51:52      Community   \n",
       " 724 2009-12-17 08:41:12      Community   \n",
       " 787 2009-12-16 21:02:17      Community   \n",
       " 370 2009-12-31 08:39:41  Mozilla Staff   \n",
       " 527 2009-12-15 23:37:49      Community   \n",
       " 473 2009-12-15 18:16:12      Community   \n",
       " 535 2009-12-30 19:22:18  Mozilla Staff   \n",
       " 864 2009-12-14 17:53:06      Community   \n",
       " 833 2009-12-11 23:17:27      Community   \n",
       " 637 2009-12-11 23:17:27  Mozilla Staff   \n",
       " ..                  ...            ...   \n",
       " 483 2009-07-28 13:25:56      Community   \n",
       " 151 2009-11-25 13:50:01  Mozilla Staff   \n",
       " 54  2009-12-29 05:27:57  Mozilla Staff   \n",
       " 543 2009-11-20 14:26:39  Mozilla Staff   \n",
       " 357 2009-12-06 19:08:46      Community   \n",
       " 406 2009-03-27 07:10:21      Community   \n",
       " 77  2009-09-16 15:46:14  Mozilla Staff   \n",
       " 204 2009-10-23 15:28:14  Mozilla Staff   \n",
       " 1   2009-12-23 20:49:39  Mozilla Staff   \n",
       " 14  2009-12-06 19:29:17  Mozilla Staff   \n",
       " 111 2009-11-13 11:53:12  Mozilla Staff   \n",
       " 30  2009-12-31 14:05:54  Mozilla Staff   \n",
       " 181 2009-05-29 12:06:45  Mozilla Staff   \n",
       " 81  2009-08-30 16:03:59  Mozilla Staff   \n",
       " 75  2009-12-13 03:03:49  Mozilla Staff   \n",
       " 5   2009-12-24 11:52:00  Mozilla Staff   \n",
       " 315 2009-06-11 13:09:34  Mozilla Staff   \n",
       " 72  2009-12-30 15:36:36  Mozilla Staff   \n",
       " 63  2009-12-06 07:42:31  Mozilla Staff   \n",
       " 64  2009-11-12 15:07:31  Mozilla Staff   \n",
       " 36  2009-10-30 01:02:09  Mozilla Staff   \n",
       " 46  2009-10-15 16:24:44      Community   \n",
       " 13  2009-12-30 14:06:26  Mozilla Staff   \n",
       " 18  2009-12-21 21:43:42  Mozilla Staff   \n",
       " 82  2009-12-23 21:47:43  Mozilla Staff   \n",
       " 21  2009-12-21 20:27:08  Mozilla Staff   \n",
       " 0   2009-12-30 13:50:31  Mozilla Staff   \n",
       " 11  2009-01-28 22:26:46  Mozilla Staff   \n",
       " 807 2009-06-27 00:00:00      Community   \n",
       " 83  2009-12-30 08:37:29  Mozilla Staff   \n",
       " \n",
       "                                              repo_name  active_years project  \n",
       " 838  https://github.com/mozilla-services/services-c...           0.0     All  \n",
       " 634      https://github.com/mozilla/gecko-projects.git           0.0     All  \n",
       " 709  https://github.com/mozilla/positron-spidernode...           0.0     All  \n",
       " 886        https://github.com/mozilla/testpilotweb.git           0.0     All  \n",
       " 902  https://github.com/mozilla-services/services-c...           0.0     All  \n",
       " 631  https://github.com/mozilla/universal-search-ge...           0.0     All  \n",
       " 884                 https://github.com/servo/cairo.git           0.0     All  \n",
       " 841       https://github.com/mozilla/django-piston.git           0.0     All  \n",
       " 777  https://github.com/mozilla/releases-comm-centr...           0.0     All  \n",
       " 853                 https://github.com/servo/cairo.git           0.0     All  \n",
       " 618      https://github.com/mozilla/gecko-projects.git           0.0     All  \n",
       " 602            https://github.com/mozilla/positron.git           0.0     All  \n",
       " 700          https://github.com/mozilla/spidernode.git           0.0     All  \n",
       " 891         https://github.com/mozilla/build-tools.git           0.0     All  \n",
       " 625      https://github.com/mozilla/gecko-projects.git           0.0     All  \n",
       " 921  https://github.com/mozilla-services/services-c...           0.0     All  \n",
       " 690          https://github.com/mozilla/spidernode.git           0.0     All  \n",
       " 770  https://github.com/mozilla/releases-comm-centr...           0.0     All  \n",
       " 718  https://github.com/mozilla/positron-spidernode...           0.0     All  \n",
       " 236              https://github.com/mozilla/webpay.git           0.0     All  \n",
       " 505      https://github.com/mozilla/gecko-projects.git           0.0     All  \n",
       " 724  https://github.com/mozilla/releases-comm-centr...           0.0     All  \n",
       " 787      https://github.com/mozilla/gecko-projects.git           0.0     All  \n",
       " 370              https://github.com/mozilla/tuxedo.git           0.0     All  \n",
       " 527  https://github.com/mozilla/positron-spidernode...           0.0     All  \n",
       " 473           https://github.com/mozilla/gecko-dev.git           0.0     All  \n",
       " 535        https://github.com/mozilla/testpilotweb.git           0.0     All  \n",
       " 864        https://github.com/mozilla/testpilotweb.git           0.0     All  \n",
       " 833  https://github.com/mozilla-services/services-c...           0.0     All  \n",
       " 637           https://github.com/mozilla/spiderweb.git           0.0     All  \n",
       " ..                                                 ...           ...     ...  \n",
       " 483     https://github.com/mdn/archived_kumascript.git           3.0     All  \n",
       " 151                 https://github.com/servo/cairo.git           3.0     All  \n",
       " 54                https://github.com/mozilla/rhino.git           4.0     All  \n",
       " 543     https://github.com/mdn/archived_kumascript.git           4.0     All  \n",
       " 357     https://github.com/mdn/archived_kumascript.git           4.0     All  \n",
       " 406                 https://github.com/servo/cairo.git           3.0     All  \n",
       " 77                  https://github.com/servo/cairo.git           4.0     All  \n",
       " 204               https://github.com/mozilla/rhino.git           4.0     All  \n",
       " 1        https://github.com/mozilla/gecko-projects.git           4.0     All  \n",
       " 14                  https://github.com/servo/cairo.git           4.0     All  \n",
       " 111                 https://github.com/servo/cairo.git           4.0     All  \n",
       " 30      https://github.com/mdn/archived_kumascript.git           4.0     All  \n",
       " 181     https://github.com/mdn/archived_kumascript.git           3.0     All  \n",
       " 81      https://github.com/mdn/archived_kumascript.git           4.0     All  \n",
       " 75            https://github.com/mozilla/gecko-dev.git           4.0     All  \n",
       " 5        https://github.com/mozilla/gecko-projects.git           4.0     All  \n",
       " 315                 https://github.com/servo/cairo.git           4.0     All  \n",
       " 72                  https://github.com/servo/cairo.git           5.0     All  \n",
       " 63                    https://github.com/moztw/www.git           5.0     All  \n",
       " 64                  https://github.com/servo/cairo.git           6.0     All  \n",
       " 36           https://github.com/mozilla/newtab-dev.git           7.0     All  \n",
       " 46                  https://github.com/servo/cairo.git           7.0     All  \n",
       " 13                https://github.com/mozilla/rhino.git           8.0     All  \n",
       " 18   https://github.com/mozilla/universal-search-ge...           9.0     All  \n",
       " 82                https://github.com/mozilla/rhino.git           9.0     All  \n",
       " 21            https://github.com/mozilla/gecko-dev.git           9.0     All  \n",
       " 0             https://github.com/mozilla/gecko-dev.git          10.0     All  \n",
       " 11            https://github.com/mozilla/gecko-dev.git          10.0     All  \n",
       " 807             https://github.com/mozilla/mozjpeg.git          11.0     All  \n",
       " 83                 https://github.com/servo/libpng.git          11.0     All  \n",
       " \n",
       " [926 rows x 7 columns],\n",
       "                                        author        first_commit  \\\n",
       " 768  772125018edfc4f7ce5da5fdf6656a38dbb66fd7 2008-12-31 04:44:37   \n",
       " 470  093a64b646c83221b173e8ef465251bb1d65cbef 2008-12-30 20:45:05   \n",
       " 397  10f82a2f5ebf3da5bc68037e4bad3a669b528f2c 2008-12-27 23:52:30   \n",
       " 401  20e7f23e9576c36f1a455fb48d13abd525cb334e 2008-12-25 00:07:41   \n",
       " 685  6ae0b5a896488b86514fc8d6d4a765b8eda43874 2008-12-23 01:04:06   \n",
       " 498  363753cef9bfa0b99417f3ccf0dc4b5f1e2d9e1f 2008-12-22 13:08:38   \n",
       " 437  200969715491172c61642f71dda830cf35287303 2008-12-21 14:41:17   \n",
       " 510  50abe4649b259555ade5172f7ef779e477afbb7f 2008-12-21 14:41:17   \n",
       " 453  b0c1476192e3b7a48f5262866f6402703e6f8de2 2008-12-19 14:35:10   \n",
       " 522  8a6ff6c68fcc470517ade35e1bc955847894ef7b 2008-12-19 11:04:50   \n",
       " 750  515e476cbd7d875455dc0543aef02111a0f29593 2008-12-18 19:36:34   \n",
       " 347  80a442754713059d35f4dd8922be5b7d5c8f6003 2008-12-17 14:42:41   \n",
       " 404  3a78b16f04acf84b7ba14cb07e1040a23dd47bdb 2008-12-17 13:44:32   \n",
       " 632  d2f1e835934fc26e01227c1ebf2314a8ba96d7d3 2008-12-16 12:31:51   \n",
       " 553  5688482be0044b8e88e4bf423328adad3698f043 2008-12-15 11:35:40   \n",
       " 811  ef87869f72cd5bc5fd858ba8c4ebecd47876ee3e 2008-12-15 10:53:21   \n",
       " 525  8d830c20b159d0b9dcea66f0f3573b5d9924a32f 2008-12-14 22:32:48   \n",
       " 463  035e2f63ad1b509135c24467230c73d1484bd87c 2008-12-14 21:58:24   \n",
       " 759  6c43d4e7f75fd8282ff3e6df9f1b3e32aeb468ba 2008-12-14 05:57:51   \n",
       " 528  91d3d63c928a5ba4fb31b2541ea391fc9620f558 2008-12-13 12:21:50   \n",
       " 465  045251ae5d4f5c1dd672b65f3b6dd6d856ea8457 2008-12-12 15:10:39   \n",
       " 743  35a4cd5990163491db35654411f9c552d827e0ee 2008-12-11 17:42:11   \n",
       " 491  2ac3364387abda3d8f49531cde54eada2a79a689 2008-12-11 13:02:01   \n",
       " 424  4450fa9299dd44edc6fd59ee4ce24f20e04f0cd2 2008-12-10 20:57:34   \n",
       " 670  23110365c278b644d07e88d73e567363eac34adf 2008-12-10 12:12:00   \n",
       " 709  dd8f6925c590e9878519b6710226c575d2a10491 2008-12-10 11:07:45   \n",
       " 672  2c8c9658ab114031e4eeea6531250ebc764bab76 2008-12-10 08:51:06   \n",
       " 659  03a7a01d6f752b3ab95354a54b1a121abec6552c 2008-12-08 09:49:01   \n",
       " 728  177b60d1081f3bfe157c72870c91fe70cacf4bc0 2008-12-07 14:34:53   \n",
       " 483  1a4ed8f8488a22bc072ad9c2659bf6f4ec55578e 2008-12-06 19:39:47   \n",
       " ..                                        ...                 ...   \n",
       " 384  af5c7b1cf928bf8355beac95c385b59f32ba085c 2005-08-22 16:29:56   \n",
       " 51   52210210e09ae609f6dc3b70ff45d72193058d5d 2005-08-12 21:35:31   \n",
       " 178  294a6dc4137a8f6f3011b8a5f1caf2b66fa33c53 2005-08-05 14:59:39   \n",
       " 2    14e3bbbe3cca5f6861f737634f340aa034f1182a 2005-07-18 16:00:44   \n",
       " 13   13a60864030aca4c2f0900dae82dad3c51261a25 2005-07-15 13:45:19   \n",
       " 100  90d6b64f282fa3b8f0dd2434729a9d46fcbd86a1 2005-07-06 15:33:00   \n",
       " 176  326c96550be0eeb4d9f86200b235cf3ad3ba1ea0 2005-06-23 19:30:12   \n",
       " 35   1879909a711cdb23c6791c48283af011a033bb67 2005-06-05 19:48:15   \n",
       " 149  066612ecd1623bac421614a1d08ee9933f453505 2005-06-04 06:22:23   \n",
       " 57   84dc4ff07ea75b561fe38af4498c17cde9f7db72 2005-05-18 16:04:08   \n",
       " 99   3bc8e1051d4148847540ee0d1602286ffa4f6346 2005-05-11 16:01:56   \n",
       " 58   493b8c496e225e738768875bc170a670992891d8 2005-01-22 18:24:18   \n",
       " 177  2b7ae7c12ceaf8ca0ceb7a9aa1e53e2161bfd7a0 2005-01-21 14:33:47   \n",
       " 5    233a57accda5944cbe95ac8a99843709cfd00390 2005-01-21 03:56:31   \n",
       " 307  3e463a7573860387deadc2193255809f483201b9 2005-01-16 08:35:14   \n",
       " 202  47c85c0a169b4dd9999f5d272f40046c8ce9618d 2005-01-05 14:29:31   \n",
       " 61   2ce8de0042c34d2afdf9277819bcca7355e0e370 2004-11-12 14:46:23   \n",
       " 45   3495c67b2bbba027d542de15f4405aac214d9709 2004-09-13 09:59:49   \n",
       " 127  276007debe0f2fe81767eeb2f98ebd0a7e1fe28e 2003-10-23 15:22:28   \n",
       " 252  3dfe607e9b8f010ccd18a58ae86bed4527c8298b 2002-08-14 18:32:42   \n",
       " 20   0d121ebd63579eedb0336574053f601f8a6e7e73 2002-07-16 09:38:42   \n",
       " 23   93c0e41e3f14df7feb35f17aa0efcb7b3cd2599b 2002-06-11 04:02:23   \n",
       " 12   27b393eff6d90b0167bb8c87a77cc80c1c8c7c26 2001-12-20 21:15:02   \n",
       " 64   1aaf2b61ba239a735ec1c357d9f6c11bd2888698 2001-02-12 13:04:06   \n",
       " 10   1ed27760bba7202e2ae04760fe950a05e011c4de 2000-12-05 22:36:26   \n",
       " 63   2e1b9bb47d932cbb71fcc83d3349be9b2b4b20a2 2000-05-22 00:10:10   \n",
       " 15   0dbb694e712685775856656d3e458de1c0a348bb 2000-05-11 22:45:24   \n",
       " 0    19ccd3737140d6a9ebd54dbfa7d4155077daf403 1999-07-01 02:24:32   \n",
       " 7    8c6ab5fc6cfed7f9d65727fe7a6a4be938498d67 1998-08-01 19:08:05   \n",
       " 94   5ab67497e1980994af3ffe34e602401ea09237e2 1998-01-01 07:13:13   \n",
       " \n",
       "             last_commit            org  \\\n",
       " 768 2008-12-31 04:44:37      Community   \n",
       " 470 2008-12-30 20:45:05      Community   \n",
       " 397 2008-12-28 07:58:37      Community   \n",
       " 401 2008-12-30 06:29:45  Mozilla Staff   \n",
       " 685 2008-12-23 01:04:06      Community   \n",
       " 498 2008-12-22 13:08:38      Community   \n",
       " 437 2008-12-21 14:59:33      Community   \n",
       " 510 2008-12-21 14:59:33      Community   \n",
       " 453 2008-12-19 14:48:46  Mozilla Staff   \n",
       " 522 2008-12-19 11:04:50      Community   \n",
       " 750 2008-12-18 19:36:34      Community   \n",
       " 347 2008-12-23 20:10:57      Community   \n",
       " 404 2008-12-17 16:17:50  Mozilla Staff   \n",
       " 632 2008-12-16 17:58:33      Community   \n",
       " 553 2008-12-15 11:35:40      Community   \n",
       " 811 2008-12-15 10:53:21      Community   \n",
       " 525 2008-12-14 22:32:48      Community   \n",
       " 463 2008-12-14 21:58:24      Community   \n",
       " 759 2008-12-14 05:57:51      Community   \n",
       " 528 2008-12-13 12:21:50      Community   \n",
       " 465 2008-12-12 15:10:39  Mozilla Staff   \n",
       " 743 2008-12-11 17:42:11  Mozilla Staff   \n",
       " 491 2008-12-11 13:02:01  Mozilla Staff   \n",
       " 424 2008-12-10 21:33:13  Mozilla Staff   \n",
       " 670 2008-12-10 12:12:00  Mozilla Staff   \n",
       " 709 2008-12-10 11:07:45      Community   \n",
       " 672 2008-12-10 08:51:06      Community   \n",
       " 659 2008-12-08 09:49:01  Mozilla Staff   \n",
       " 728 2008-12-07 14:34:53      Community   \n",
       " 483 2008-12-06 19:39:47      Community   \n",
       " ..                  ...            ...   \n",
       " 384 2008-02-16 09:22:01      Community   \n",
       " 51  2008-12-30 13:48:47  Mozilla Staff   \n",
       " 178 2008-12-21 13:48:19  Mozilla Staff   \n",
       " 2   2008-12-25 23:55:35  Mozilla Staff   \n",
       " 13  2008-12-09 15:30:45  Mozilla Staff   \n",
       " 100 2008-04-09 12:18:12      Community   \n",
       " 176 2008-12-23 16:12:56  Mozilla Staff   \n",
       " 35  2008-12-29 07:59:06  Mozilla Staff   \n",
       " 149 2008-12-28 18:00:40  Mozilla Staff   \n",
       " 57  2008-09-02 08:47:46  Mozilla Staff   \n",
       " 99  2008-01-07 09:06:23  Mozilla Staff   \n",
       " 58  2008-12-26 18:46:11  Mozilla Staff   \n",
       " 177 2008-09-29 00:53:59      Community   \n",
       " 5   2008-12-29 22:31:48  Mozilla Staff   \n",
       " 307 2008-07-30 08:06:54  Mozilla Staff   \n",
       " 202 2008-02-11 13:44:48      Community   \n",
       " 61  2008-12-22 17:23:59  Mozilla Staff   \n",
       " 45  2008-09-30 17:26:08  Mozilla Staff   \n",
       " 127 2008-12-19 16:20:51  Mozilla Staff   \n",
       " 252 2008-11-25 22:03:55      Community   \n",
       " 20  2008-12-23 16:03:25  Mozilla Staff   \n",
       " 23  2008-11-14 15:27:34      Community   \n",
       " 12  2008-12-27 00:05:15  Mozilla Staff   \n",
       " 64  2008-06-02 20:17:35  Mozilla Staff   \n",
       " 10  2008-10-27 07:52:10  Mozilla Staff   \n",
       " 63  2008-12-31 21:00:46  Mozilla Staff   \n",
       " 15  2008-12-30 20:19:25  Mozilla Staff   \n",
       " 0   2008-12-31 12:32:35  Mozilla Staff   \n",
       " 7   2008-08-21 03:19:17  Mozilla Staff   \n",
       " 94  2008-12-22 18:40:01  Mozilla Staff   \n",
       " \n",
       "                                              repo_name  active_years project  \n",
       " 768            https://github.com/mozilla/git-repo.git           0.0     All  \n",
       " 470           https://github.com/mozilla/spiderweb.git           0.0     All  \n",
       " 397          https://github.com/mozilla/newtab-dev.git           0.0     All  \n",
       " 401      https://github.com/mozilla/gecko-projects.git           0.0     All  \n",
       " 685  https://github.com/mozilla/releases-comm-centr...           0.0     All  \n",
       " 498           https://github.com/mozilla/spiderweb.git           0.0     All  \n",
       " 437      https://github.com/mozilla/gecko-projects.git           0.0     All  \n",
       " 510  https://github.com/mozilla-services/services-c...           0.0     All  \n",
       " 453     https://github.com/mdn/archived_kumascript.git           0.0     All  \n",
       " 522  https://github.com/mozilla/integration-mozilla...           0.0     All  \n",
       " 750                  https://github.com/servo/skia.git           0.0     All  \n",
       " 347                  https://github.com/servo/skia.git           0.0     All  \n",
       " 404      https://github.com/mozilla/gecko-projects.git           0.0     All  \n",
       " 632           https://github.com/mozilla/spiderweb.git           0.0     All  \n",
       " 553  https://github.com/mozilla/universal-search-ge...           0.0     All  \n",
       " 811           https://github.com/mozilla/spiderweb.git           0.0     All  \n",
       " 525      https://github.com/mozilla/gecko-projects.git           0.0     All  \n",
       " 463           https://github.com/mozilla/gecko-dev.git           0.0     All  \n",
       " 759    https://github.com/mozilla-japan/gecko-l10n.git           0.0     All  \n",
       " 528           https://github.com/mozilla/gecko-dev.git           0.0     All  \n",
       " 465           https://github.com/mozilla/gecko-dev.git           0.0     All  \n",
       " 743         https://github.com/mozilla/build-tools.git           0.0     All  \n",
       " 491          https://github.com/mozilla/newtab-dev.git           0.0     All  \n",
       " 424      https://github.com/mozilla/gecko-projects.git           0.0     All  \n",
       " 670  https://github.com/mozilla/releases-comm-centr...           0.0     All  \n",
       " 709  https://github.com/mozilla/releases-comm-centr...           0.0     All  \n",
       " 672  https://github.com/mozilla/releases-comm-centr...           0.0     All  \n",
       " 659      https://github.com/mozilla/gecko-projects.git           0.0     All  \n",
       " 728  https://github.com/mozilla-services/services-c...           0.0     All  \n",
       " 483           https://github.com/mozilla/gecko-dev.git           0.0     All  \n",
       " ..                                                 ...           ...     ...  \n",
       " 384                 https://github.com/servo/cairo.git           2.0     All  \n",
       " 51                  https://github.com/servo/cairo.git           3.0     All  \n",
       " 178               https://github.com/mozilla/rhino.git           3.0     All  \n",
       " 2        https://github.com/mozilla/gecko-projects.git           3.0     All  \n",
       " 13                  https://github.com/servo/cairo.git           3.0     All  \n",
       " 100         https://github.com/moztw/www.moztw.org.git           2.0     All  \n",
       " 176                 https://github.com/servo/cairo.git           3.0     All  \n",
       " 35      https://github.com/mdn/archived_kumascript.git           3.0     All  \n",
       " 149     https://github.com/mdn/archived_kumascript.git           3.0     All  \n",
       " 57      https://github.com/mdn/archived_kumascript.git           3.0     All  \n",
       " 99                  https://github.com/servo/cairo.git           2.0     All  \n",
       " 58            https://github.com/mozilla/gecko-dev.git           3.0     All  \n",
       " 177                 https://github.com/servo/cairo.git           3.0     All  \n",
       " 5        https://github.com/mozilla/gecko-projects.git           3.0     All  \n",
       " 307                 https://github.com/servo/cairo.git           3.0     All  \n",
       " 202                 https://github.com/servo/cairo.git           3.0     All  \n",
       " 61                  https://github.com/servo/cairo.git           4.0     All  \n",
       " 45                    https://github.com/moztw/www.git           4.0     All  \n",
       " 127                 https://github.com/servo/cairo.git           5.0     All  \n",
       " 252                 https://github.com/servo/cairo.git           6.0     All  \n",
       " 20           https://github.com/mozilla/newtab-dev.git           6.0     All  \n",
       " 23                  https://github.com/servo/cairo.git           6.0     All  \n",
       " 12                https://github.com/mozilla/rhino.git           7.0     All  \n",
       " 64             https://github.com/mozilla/positron.git           7.0     All  \n",
       " 10   https://github.com/mozilla/universal-search-ge...           7.0     All  \n",
       " 63                https://github.com/mozilla/rhino.git           8.0     All  \n",
       " 15            https://github.com/mozilla/gecko-dev.git           8.0     All  \n",
       " 0             https://github.com/mozilla/gecko-dev.git           9.0     All  \n",
       " 7             https://github.com/mozilla/gecko-dev.git          10.0     All  \n",
       " 94                 https://github.com/servo/libpng.git          10.0     All  \n",
       " \n",
       " [819 rows x 7 columns],\n",
       "                                        author        first_commit  \\\n",
       " 581  6495fa3d03677cf07f670bebad15c088455812e7 2007-12-29 07:13:55   \n",
       " 607  e2c228c165fd3c959478010db2d4b56566088f81 2007-12-22 08:23:35   \n",
       " 550  648738738f3fb8f37269936a5d7ede3ecf7adc34 2007-12-20 16:20:23   \n",
       " 371  8aba608506008f5a48a03a5b328e0e309edbade1 2007-12-20 15:43:18   \n",
       " 378  57426dae137438b1e7dbc55c72ce31fd9de828ef 2007-12-20 13:30:12   \n",
       " 567  3447591ca286aae504e08bae7d9bfa79aa0b4008 2007-12-15 16:42:25   \n",
       " 513  5439a17fb8d09cf7388235a47062e03089c13185 2007-12-13 04:20:11   \n",
       " 596  afa2d6fe25319006e73e5d525421c87a07ded304 2007-12-12 21:05:57   \n",
       " 499  2d58daeb9485bf5527e85809253c45e0d2b3889c 2007-12-12 13:57:57   \n",
       " 560  e926e84cea95a53e114f438cc223e23e839a9d04 2007-12-10 18:54:01   \n",
       " 598  b09fc3fd2af963999c92249ba469078a3867cca0 2007-12-07 15:13:58   \n",
       " 574  4aad72f4a1c2790784b06ce5fae9d74e37bc374d 2007-12-05 07:04:09   \n",
       " 589  7b68193f90f1159673ade94201abfc8cc93b6166 2007-12-02 05:41:24   \n",
       " 438  49c938a20e7591e217b6fea288c8899fa4457b5c 2007-11-27 15:51:44   \n",
       " 289  1de5cffb2502bfeed240be042278503134762f4c 2007-11-27 15:51:44   \n",
       " 439  4f54240833aa11d8de1dddfee3cbf517e532e241 2007-11-27 15:46:04   \n",
       " 302  1c1116a481122e01b9d69575242e2a4fc661f7ec 2007-11-27 09:58:52   \n",
       " 444  709f077a5a7ca9b1a2cf6b72d97e16911b23270c 2007-11-27 09:58:52   \n",
       " 481  9a6e40f62e1063a220f7c8783d1b368dd68bc5ce 2007-11-26 17:47:04   \n",
       " 588  78b27f65157c5484f2719d579bb2a680db6aad80 2007-11-26 17:47:04   \n",
       " 437  102d6eaecf589a1ee10516bd063dc42382ca680f 2007-11-19 06:02:17   \n",
       " 288  106191e67f703a24e3c34ac948460fa36c23a8ae 2007-11-19 06:02:17   \n",
       " 430  e8a627c6f20825cc03b21d729dc371fff00d3b26 2007-11-14 16:20:16   \n",
       " 401  407f3a38f6b61b885e53915187b49ad1282696db 2007-11-14 16:20:16   \n",
       " 407  726942bc7d977469ac4af0a19a1b12420b877b8b 2007-11-12 21:23:07   \n",
       " 369  043192d627c4947ded041efd8401b1321856903f 2007-11-12 21:23:07   \n",
       " 525  8710b9265e67ff8d7f8a21dd2b6f76789fffebed 2007-11-06 21:09:35   \n",
       " 381  0036ec0ef2dcc61a838336a7844df2341f52b934 2007-11-06 21:09:35   \n",
       " 571  3bcb0e641e6c783bbd1be3f0662c04f8237e6fdc 2007-11-06 21:09:07   \n",
       " 458  036af4099c6d358fb994d99422c40f98665758cf 2007-11-06 21:09:07   \n",
       " ..                                        ...                 ...   \n",
       " 50   27b393eff6d90b0167bb8c87a77cc80c1c8c7c26 2001-12-20 21:15:02   \n",
       " 55   b291417f368359640455d4f8a01699232fc009ac 2001-10-13 07:22:27   \n",
       " 1    abebb3dc7136ef86dab249956515559d4fc16aec 2001-06-11 21:59:01   \n",
       " 38   ae3374d2aff0e54c4811cb198aa4823954075de2 2001-06-04 22:36:43   \n",
       " 53   a91a9bb7fc6812f69bdab6bfb56771301f6a7000 2001-04-14 01:47:40   \n",
       " 101  cbd7ad1f8c99ba41fa7e2314e1f2603689c96f19 2001-03-11 19:07:49   \n",
       " 88   1aaf2b61ba239a735ec1c357d9f6c11bd2888698 2001-02-12 13:04:06   \n",
       " 23   1ed27760bba7202e2ae04760fe950a05e011c4de 2000-12-05 22:36:26   \n",
       " 260  54e779037af3fd8c0e7ee788772a9ff66700e0ed 2000-09-16 16:13:34   \n",
       " 6    0cef71c4ddef0fc7812ea3ec765f74754c82e6ed 2000-09-11 22:21:55   \n",
       " 30   a0f44267b8d06167246e324b8b09c3de05840532 2000-09-01 22:06:45   \n",
       " 29   b04069bbfbd1fb819c8d55674307683f9ae363bd 2000-08-25 03:18:15   \n",
       " 19   9fd57943477da94ae2f14980f0c1915539c8c067 2000-07-26 22:30:32   \n",
       " 150  3bd9e6ea570589f64291df81ff4c125e7046faa8 2000-06-29 22:04:13   \n",
       " 105  2e1b9bb47d932cbb71fcc83d3349be9b2b4b20a2 2000-05-22 00:10:10   \n",
       " 48   0dbb694e712685775856656d3e458de1c0a348bb 2000-05-11 22:45:24   \n",
       " 13   8b4f8323f123f6e22a17b1f4a3c132cc17654831 2000-01-23 20:06:02   \n",
       " 3    83a3653d28c5cdcc6d92dc62c93b6bcd53600f38 2000-01-06 21:26:20   \n",
       " 25   ac70af8339f95a04ff484bc250d37423d485bda7 1999-11-27 05:05:14   \n",
       " 40   a65d64a27a1f659c7e6d1d8a896d7b2d84720bb1 1999-07-07 00:22:32   \n",
       " 9    19ccd3737140d6a9ebd54dbfa7d4155077daf403 1999-07-01 02:24:32   \n",
       " 51   06ba504eda60c956b305bc5009342de71d5464f6 1999-04-21 21:40:44   \n",
       " 7    036b76b88f4627dc1a727bcc356e5ea7f435f7fe 1998-12-03 00:26:44   \n",
       " 28   25cb998360c868cf4575cb4c0eb6df04b20cb45c 1998-10-31 15:42:09   \n",
       " 0    eb12754f5a59cf384287af89b678ce2f2c9afec4 1998-10-13 23:38:27   \n",
       " 8    da8eabd25f69fef2f2fad4b923a57c81b71c35d3 1998-08-07 06:01:37   \n",
       " 27   8c6ab5fc6cfed7f9d65727fe7a6a4be938498d67 1998-08-01 19:08:05   \n",
       " 4    5acab7533862edabdc448717ccc31d79d393a7a0 1998-07-20 15:55:36   \n",
       " 43   3085134e58c6a40e245c1e815b7719332094fa55 1998-07-07 19:35:52   \n",
       " 169  5ab67497e1980994af3ffe34e602401ea09237e2 1998-01-01 07:13:13   \n",
       " \n",
       "             last_commit            org  \\\n",
       " 581 2007-12-29 07:13:55  Mozilla Staff   \n",
       " 607 2007-12-22 08:23:35  Mozilla Staff   \n",
       " 550 2007-12-20 16:20:23      Community   \n",
       " 371 2007-12-21 15:08:47      Community   \n",
       " 378 2007-12-21 15:08:47      Community   \n",
       " 567 2007-12-15 16:42:25      Community   \n",
       " 513 2007-12-14 16:47:06  Mozilla Staff   \n",
       " 596 2007-12-12 21:05:57  Mozilla Staff   \n",
       " 499 2007-12-14 16:20:48      Community   \n",
       " 560 2007-12-11 15:50:05      Community   \n",
       " 598 2007-12-07 15:13:58  Mozilla Staff   \n",
       " 574 2007-12-05 07:04:09      Community   \n",
       " 589 2007-12-02 05:41:24  Mozilla Staff   \n",
       " 438 2007-12-20 14:05:00      Community   \n",
       " 289 2007-12-20 14:05:00  Mozilla Staff   \n",
       " 439 2007-12-24 15:42:16  Mozilla Staff   \n",
       " 302 2007-12-28 09:18:12      Community   \n",
       " 444 2007-12-28 09:18:12      Community   \n",
       " 481 2007-11-26 17:47:04  Mozilla Staff   \n",
       " 588 2007-11-26 17:47:04      Community   \n",
       " 437 2007-12-14 13:34:06      Community   \n",
       " 288 2007-12-14 13:34:06  Mozilla Staff   \n",
       " 430 2007-11-26 16:30:34      Community   \n",
       " 401 2007-11-26 13:45:46  Mozilla Staff   \n",
       " 407 2007-12-24 14:47:37      Community   \n",
       " 369 2007-12-24 14:47:37      Community   \n",
       " 525 2007-11-06 21:09:39      Community   \n",
       " 381 2007-11-06 21:09:39  Mozilla Staff   \n",
       " 571 2007-11-06 21:09:07      Community   \n",
       " 458 2007-11-06 21:09:07  Mozilla Staff   \n",
       " ..                  ...            ...   \n",
       " 50  2007-12-25 02:46:50  Mozilla Staff   \n",
       " 55  2007-02-08 18:47:12      Community   \n",
       " 1   2007-03-13 21:23:17      Community   \n",
       " 38  2007-01-14 05:31:36      Community   \n",
       " 53  2007-02-22 02:09:07      Community   \n",
       " 101 2007-01-14 05:31:37      Community   \n",
       " 88  2007-02-16 10:24:56  Mozilla Staff   \n",
       " 23  2007-11-30 15:16:55  Mozilla Staff   \n",
       " 260 2007-01-03 08:30:34      Community   \n",
       " 6   2007-01-14 05:31:38      Community   \n",
       " 30  2007-01-14 05:31:40      Community   \n",
       " 29  2007-01-14 05:31:32      Community   \n",
       " 19  2007-03-20 08:58:53      Community   \n",
       " 150 2007-02-17 20:44:08      Community   \n",
       " 105 2007-12-21 02:56:33  Mozilla Staff   \n",
       " 48  2007-12-29 17:33:52  Mozilla Staff   \n",
       " 13  2007-01-14 05:31:30      Community   \n",
       " 3   2007-03-14 17:22:01      Community   \n",
       " 25  2007-03-21 01:32:01      Community   \n",
       " 40  2007-03-20 04:59:34      Community   \n",
       " 9   2007-12-20 15:29:31  Mozilla Staff   \n",
       " 51  2007-02-23 00:53:22      Community   \n",
       " 7   2007-01-14 05:31:27      Community   \n",
       " 28  2007-03-21 19:12:00      Community   \n",
       " 0   2007-01-14 05:31:28      Community   \n",
       " 8   2007-03-12 22:44:03      Community   \n",
       " 27  2007-11-05 12:08:23  Mozilla Staff   \n",
       " 4   2007-01-14 05:31:35      Community   \n",
       " 43  2007-03-21 00:11:02      Community   \n",
       " 169 2007-12-14 10:23:00  Mozilla Staff   \n",
       " \n",
       "                                              repo_name  active_years project  \n",
       " 581     https://github.com/mdn/archived_kumascript.git           0.0     All  \n",
       " 607     https://github.com/mdn/archived_kumascript.git           0.0     All  \n",
       " 550      https://github.com/mozilla/weave-identity.git           0.0     All  \n",
       " 371           https://github.com/mozilla/gecko-dev.git           0.0     All  \n",
       " 378      https://github.com/mozilla/weave-identity.git           0.0     All  \n",
       " 567                 https://github.com/servo/cairo.git           0.0     All  \n",
       " 513            https://github.com/mozilla/personas.git           0.0     All  \n",
       " 596                 https://github.com/servo/cairo.git           0.0     All  \n",
       " 499  https://github.com/mozilla-services/services-c...           0.0     All  \n",
       " 560                 https://github.com/servo/cairo.git           0.0     All  \n",
       " 598     https://github.com/mdn/archived_kumascript.git           0.0     All  \n",
       " 574                 https://github.com/servo/cairo.git           0.0     All  \n",
       " 589     https://github.com/mdn/archived_kumascript.git           0.0     All  \n",
       " 438  https://github.com/mozilla-services/services-c...           0.0     All  \n",
       " 289  https://github.com/mozilla/universal-search-ge...           0.0     All  \n",
       " 439     https://github.com/mdn/archived_kumascript.git           0.0     All  \n",
       " 302      https://github.com/mozilla/gecko-projects.git           0.0     All  \n",
       " 444  https://github.com/mozilla-services/services-c...           0.0     All  \n",
       " 481           https://github.com/mozilla/gecko-dev.git           0.0     All  \n",
       " 588  https://github.com/mozilla-services/services-c...           0.0     All  \n",
       " 437  https://github.com/mozilla-services/services-c...           0.0     All  \n",
       " 288      https://github.com/mozilla/gecko-projects.git           0.0     All  \n",
       " 430      https://github.com/mozilla/weave-identity.git           0.0     All  \n",
       " 401  https://github.com/mozilla/universal-search-ge...           0.0     All  \n",
       " 407  https://github.com/mozilla-services/services-c...           0.0     All  \n",
       " 369      https://github.com/mozilla/gecko-projects.git           0.0     All  \n",
       " 525  https://github.com/mozilla-services/services-c...           0.0     All  \n",
       " 381            https://github.com/mozilla/positron.git           0.0     All  \n",
       " 571  https://github.com/mozilla-services/services-c...           0.0     All  \n",
       " 458  https://github.com/mozilla/integration-mozilla...           0.0     All  \n",
       " ..                                                 ...           ...     ...  \n",
       " 50                https://github.com/mozilla/rhino.git           6.0     All  \n",
       " 55   https://github.com/mozilla/universal-search-ge...           5.0     All  \n",
       " 1              https://github.com/mozilla/positron.git           5.0     All  \n",
       " 38           https://github.com/mozilla/newtab-dev.git           5.0     All  \n",
       " 53           https://github.com/mozilla/newtab-dev.git           5.0     All  \n",
       " 101      https://github.com/mozilla/gecko-projects.git           5.0     All  \n",
       " 88             https://github.com/mozilla/positron.git           6.0     All  \n",
       " 23   https://github.com/mozilla/universal-search-ge...           6.0     All  \n",
       " 260  https://github.com/mozilla/universal-search-ge...           6.0     All  \n",
       " 6            https://github.com/mozilla/newtab-dev.git           6.0     All  \n",
       " 30           https://github.com/mozilla/newtab-dev.git           6.0     All  \n",
       " 29            https://github.com/mozilla/gecko-dev.git           6.0     All  \n",
       " 19            https://github.com/mozilla/gecko-dev.git           6.0     All  \n",
       " 150          https://github.com/mozilla/newtab-dev.git           6.0     All  \n",
       " 105               https://github.com/mozilla/rhino.git           7.0     All  \n",
       " 48            https://github.com/mozilla/gecko-dev.git           7.0     All  \n",
       " 13   https://github.com/mozilla/universal-search-ge...           6.0     All  \n",
       " 3            https://github.com/mozilla/newtab-dev.git           7.0     All  \n",
       " 25   https://github.com/mozilla/universal-search-ge...           7.0     All  \n",
       " 40             https://github.com/mozilla/positron.git           7.0     All  \n",
       " 9             https://github.com/mozilla/gecko-dev.git           8.0     All  \n",
       " 51            https://github.com/mozilla/gecko-dev.git           7.0     All  \n",
       " 7             https://github.com/mozilla/gecko-dev.git           8.0     All  \n",
       " 28             https://github.com/mozilla/positron.git           8.0     All  \n",
       " 0             https://github.com/mozilla/gecko-dev.git           8.0     All  \n",
       " 8             https://github.com/mozilla/gecko-dev.git           8.0     All  \n",
       " 27            https://github.com/mozilla/gecko-dev.git           9.0     All  \n",
       " 4    https://github.com/mozilla/universal-search-ge...           8.0     All  \n",
       " 43       https://github.com/mozilla/gecko-projects.git           8.0     All  \n",
       " 169                https://github.com/servo/libpng.git           9.0     All  \n",
       " \n",
       " [616 rows x 7 columns]]"
      ]
     },
     "execution_count": 27,
     "metadata": {},
     "output_type": "execute_result"
    }
   ],
   "source": [
    "active_authors_dfs = []\n",
    "year = 2016\n",
    "for result in results:\n",
    "    authors_df = get_active_authors_df(result, author_bucket_field='authors', year=year)\n",
    "    authors_df['active_years'] = (authors_df.last_commit-authors_df.first_commit).astype('timedelta64[Y]')\n",
    "    authors_df['project'] = project_name\n",
    "    active_authors_dfs.append(authors_df)\n",
    "    year -= 1\n",
    "\n",
    "active_authors_dfs"
   ]
  },
  {
   "cell_type": "code",
   "execution_count": 28,
   "metadata": {
    "collapsed": false,
    "scrolled": false
   },
   "outputs": [
    {
     "data": {
      "text/html": [
       "<script>requirejs.config({paths: { 'plotly': ['https://cdn.plot.ly/plotly-latest.min']},});if(!window.Plotly) {{require(['plotly'],function(plotly) {window.Plotly=plotly;});}}</script>"
      ],
      "text/vnd.plotly.v1+html": [
       "<script>requirejs.config({paths: { 'plotly': ['https://cdn.plot.ly/plotly-latest.min']},});if(!window.Plotly) {{require(['plotly'],function(plotly) {window.Plotly=plotly;});}}</script>"
      ]
     },
     "metadata": {},
     "output_type": "display_data"
    },
    {
     "data": {
      "application/vnd.plotly.v1+json": {
       "data": [
        {
         "orientation": "h",
         "type": "bar",
         "x": [
          2759,
          489,
          272,
          217,
          180,
          126,
          74,
          71,
          60,
          49,
          3,
          5,
          2,
          1,
          0,
          1,
          2,
          1,
          1
         ],
         "y": [
          0,
          1,
          2,
          3,
          4,
          5,
          6,
          7,
          8,
          9,
          10,
          11,
          12,
          13,
          14,
          15,
          16,
          17,
          18
         ]
        }
       ],
       "layout": {
        "barmode": "group",
        "title": "All 2016"
       }
      },
      "text/html": [
       "<div id=\"c2f4a2c6-2b4c-4085-8237-cf028d4f0b56\" style=\"height: 525px; width: 100%;\" class=\"plotly-graph-div\"></div><script type=\"text/javascript\">require([\"plotly\"], function(Plotly) { window.PLOTLYENV=window.PLOTLYENV || {};window.PLOTLYENV.BASE_URL=\"https://plot.ly\";Plotly.newPlot(\"c2f4a2c6-2b4c-4085-8237-cf028d4f0b56\", [{\"x\": [2759, 489, 272, 217, 180, 126, 74, 71, 60, 49, 3, 5, 2, 1, 0, 1, 2, 1, 1], \"orientation\": \"h\", \"type\": \"bar\", \"y\": [0, 1, 2, 3, 4, 5, 6, 7, 8, 9, 10, 11, 12, 13, 14, 15, 16, 17, 18]}], {\"title\": \"All 2016\", \"barmode\": \"group\"}, {\"showLink\": true, \"linkText\": \"Export to plot.ly\"})});</script>"
      ],
      "text/vnd.plotly.v1+html": [
       "<div id=\"c2f4a2c6-2b4c-4085-8237-cf028d4f0b56\" style=\"height: 525px; width: 100%;\" class=\"plotly-graph-div\"></div><script type=\"text/javascript\">require([\"plotly\"], function(Plotly) { window.PLOTLYENV=window.PLOTLYENV || {};window.PLOTLYENV.BASE_URL=\"https://plot.ly\";Plotly.newPlot(\"c2f4a2c6-2b4c-4085-8237-cf028d4f0b56\", [{\"x\": [2759, 489, 272, 217, 180, 126, 74, 71, 60, 49, 3, 5, 2, 1, 0, 1, 2, 1, 1], \"orientation\": \"h\", \"type\": \"bar\", \"y\": [0, 1, 2, 3, 4, 5, 6, 7, 8, 9, 10, 11, 12, 13, 14, 15, 16, 17, 18]}], {\"title\": \"All 2016\", \"barmode\": \"group\"}, {\"showLink\": true, \"linkText\": \"Export to plot.ly\"})});</script>"
      ]
     },
     "metadata": {},
     "output_type": "display_data"
    },
    {
     "data": {
      "text/html": [
       "<script>requirejs.config({paths: { 'plotly': ['https://cdn.plot.ly/plotly-latest.min']},});if(!window.Plotly) {{require(['plotly'],function(plotly) {window.Plotly=plotly;});}}</script>"
      ],
      "text/vnd.plotly.v1+html": [
       "<script>requirejs.config({paths: { 'plotly': ['https://cdn.plot.ly/plotly-latest.min']},});if(!window.Plotly) {{require(['plotly'],function(plotly) {window.Plotly=plotly;});}}</script>"
      ]
     },
     "metadata": {},
     "output_type": "display_data"
    },
    {
     "data": {
      "application/vnd.plotly.v1+json": {
       "data": [
        {
         "orientation": "h",
         "type": "bar",
         "x": [
          2871,
          428,
          302,
          203,
          157,
          88,
          71,
          71,
          58,
          3,
          6,
          2,
          0,
          1,
          1,
          2,
          0,
          1
         ],
         "y": [
          0,
          1,
          2,
          3,
          4,
          5,
          6,
          7,
          8,
          9,
          10,
          11,
          12,
          13,
          14,
          15,
          16,
          17
         ]
        }
       ],
       "layout": {
        "barmode": "group",
        "title": "All 2015"
       }
      },
      "text/html": [
       "<div id=\"a256fffa-9d1c-4da5-bc32-ada0d9ff3bdf\" style=\"height: 525px; width: 100%;\" class=\"plotly-graph-div\"></div><script type=\"text/javascript\">require([\"plotly\"], function(Plotly) { window.PLOTLYENV=window.PLOTLYENV || {};window.PLOTLYENV.BASE_URL=\"https://plot.ly\";Plotly.newPlot(\"a256fffa-9d1c-4da5-bc32-ada0d9ff3bdf\", [{\"x\": [2871, 428, 302, 203, 157, 88, 71, 71, 58, 3, 6, 2, 0, 1, 1, 2, 0, 1], \"orientation\": \"h\", \"type\": \"bar\", \"y\": [0, 1, 2, 3, 4, 5, 6, 7, 8, 9, 10, 11, 12, 13, 14, 15, 16, 17]}], {\"title\": \"All 2015\", \"barmode\": \"group\"}, {\"showLink\": true, \"linkText\": \"Export to plot.ly\"})});</script>"
      ],
      "text/vnd.plotly.v1+html": [
       "<div id=\"a256fffa-9d1c-4da5-bc32-ada0d9ff3bdf\" style=\"height: 525px; width: 100%;\" class=\"plotly-graph-div\"></div><script type=\"text/javascript\">require([\"plotly\"], function(Plotly) { window.PLOTLYENV=window.PLOTLYENV || {};window.PLOTLYENV.BASE_URL=\"https://plot.ly\";Plotly.newPlot(\"a256fffa-9d1c-4da5-bc32-ada0d9ff3bdf\", [{\"x\": [2871, 428, 302, 203, 157, 88, 71, 71, 58, 3, 6, 2, 0, 1, 1, 2, 0, 1], \"orientation\": \"h\", \"type\": \"bar\", \"y\": [0, 1, 2, 3, 4, 5, 6, 7, 8, 9, 10, 11, 12, 13, 14, 15, 16, 17]}], {\"title\": \"All 2015\", \"barmode\": \"group\"}, {\"showLink\": true, \"linkText\": \"Export to plot.ly\"})});</script>"
      ]
     },
     "metadata": {},
     "output_type": "display_data"
    },
    {
     "data": {
      "text/html": [
       "<script>requirejs.config({paths: { 'plotly': ['https://cdn.plot.ly/plotly-latest.min']},});if(!window.Plotly) {{require(['plotly'],function(plotly) {window.Plotly=plotly;});}}</script>"
      ],
      "text/vnd.plotly.v1+html": [
       "<script>requirejs.config({paths: { 'plotly': ['https://cdn.plot.ly/plotly-latest.min']},});if(!window.Plotly) {{require(['plotly'],function(plotly) {window.Plotly=plotly;});}}</script>"
      ]
     },
     "metadata": {},
     "output_type": "display_data"
    },
    {
     "data": {
      "application/vnd.plotly.v1+json": {
       "data": [
        {
         "orientation": "h",
         "type": "bar",
         "x": [
          2593,
          407,
          270,
          188,
          88,
          79,
          78,
          59,
          5,
          5,
          2,
          0,
          1,
          1,
          2,
          1,
          1
         ],
         "y": [
          0,
          1,
          2,
          3,
          4,
          5,
          6,
          7,
          8,
          9,
          10,
          11,
          12,
          13,
          14,
          15,
          16
         ]
        }
       ],
       "layout": {
        "barmode": "group",
        "title": "All 2014"
       }
      },
      "text/html": [
       "<div id=\"4129ed8f-d7a0-4028-a88e-411a4839f59f\" style=\"height: 525px; width: 100%;\" class=\"plotly-graph-div\"></div><script type=\"text/javascript\">require([\"plotly\"], function(Plotly) { window.PLOTLYENV=window.PLOTLYENV || {};window.PLOTLYENV.BASE_URL=\"https://plot.ly\";Plotly.newPlot(\"4129ed8f-d7a0-4028-a88e-411a4839f59f\", [{\"x\": [2593, 407, 270, 188, 88, 79, 78, 59, 5, 5, 2, 0, 1, 1, 2, 1, 1], \"orientation\": \"h\", \"type\": \"bar\", \"y\": [0, 1, 2, 3, 4, 5, 6, 7, 8, 9, 10, 11, 12, 13, 14, 15, 16]}], {\"title\": \"All 2014\", \"barmode\": \"group\"}, {\"showLink\": true, \"linkText\": \"Export to plot.ly\"})});</script>"
      ],
      "text/vnd.plotly.v1+html": [
       "<div id=\"4129ed8f-d7a0-4028-a88e-411a4839f59f\" style=\"height: 525px; width: 100%;\" class=\"plotly-graph-div\"></div><script type=\"text/javascript\">require([\"plotly\"], function(Plotly) { window.PLOTLYENV=window.PLOTLYENV || {};window.PLOTLYENV.BASE_URL=\"https://plot.ly\";Plotly.newPlot(\"4129ed8f-d7a0-4028-a88e-411a4839f59f\", [{\"x\": [2593, 407, 270, 188, 88, 79, 78, 59, 5, 5, 2, 0, 1, 1, 2, 1, 1], \"orientation\": \"h\", \"type\": \"bar\", \"y\": [0, 1, 2, 3, 4, 5, 6, 7, 8, 9, 10, 11, 12, 13, 14, 15, 16]}], {\"title\": \"All 2014\", \"barmode\": \"group\"}, {\"showLink\": true, \"linkText\": \"Export to plot.ly\"})});</script>"
      ]
     },
     "metadata": {},
     "output_type": "display_data"
    },
    {
     "data": {
      "text/html": [
       "<script>requirejs.config({paths: { 'plotly': ['https://cdn.plot.ly/plotly-latest.min']},});if(!window.Plotly) {{require(['plotly'],function(plotly) {window.Plotly=plotly;});}}</script>"
      ],
      "text/vnd.plotly.v1+html": [
       "<script>requirejs.config({paths: { 'plotly': ['https://cdn.plot.ly/plotly-latest.min']},});if(!window.Plotly) {{require(['plotly'],function(plotly) {window.Plotly=plotly;});}}</script>"
      ]
     },
     "metadata": {},
     "output_type": "display_data"
    },
    {
     "data": {
      "application/vnd.plotly.v1+json": {
       "data": [
        {
         "orientation": "h",
         "type": "bar",
         "x": [
          1763,
          343,
          206,
          108,
          89,
          81,
          64,
          1,
          8,
          1,
          1,
          2,
          2,
          3,
          1,
          1
         ],
         "y": [
          0,
          1,
          2,
          3,
          4,
          5,
          6,
          7,
          8,
          9,
          10,
          11,
          12,
          13,
          14,
          15
         ]
        }
       ],
       "layout": {
        "barmode": "group",
        "title": "All 2013"
       }
      },
      "text/html": [
       "<div id=\"51b020fe-f0fb-4067-bd36-23bba1d9659d\" style=\"height: 525px; width: 100%;\" class=\"plotly-graph-div\"></div><script type=\"text/javascript\">require([\"plotly\"], function(Plotly) { window.PLOTLYENV=window.PLOTLYENV || {};window.PLOTLYENV.BASE_URL=\"https://plot.ly\";Plotly.newPlot(\"51b020fe-f0fb-4067-bd36-23bba1d9659d\", [{\"x\": [1763, 343, 206, 108, 89, 81, 64, 1, 8, 1, 1, 2, 2, 3, 1, 1], \"orientation\": \"h\", \"type\": \"bar\", \"y\": [0, 1, 2, 3, 4, 5, 6, 7, 8, 9, 10, 11, 12, 13, 14, 15]}], {\"title\": \"All 2013\", \"barmode\": \"group\"}, {\"showLink\": true, \"linkText\": \"Export to plot.ly\"})});</script>"
      ],
      "text/vnd.plotly.v1+html": [
       "<div id=\"51b020fe-f0fb-4067-bd36-23bba1d9659d\" style=\"height: 525px; width: 100%;\" class=\"plotly-graph-div\"></div><script type=\"text/javascript\">require([\"plotly\"], function(Plotly) { window.PLOTLYENV=window.PLOTLYENV || {};window.PLOTLYENV.BASE_URL=\"https://plot.ly\";Plotly.newPlot(\"51b020fe-f0fb-4067-bd36-23bba1d9659d\", [{\"x\": [1763, 343, 206, 108, 89, 81, 64, 1, 8, 1, 1, 2, 2, 3, 1, 1], \"orientation\": \"h\", \"type\": \"bar\", \"y\": [0, 1, 2, 3, 4, 5, 6, 7, 8, 9, 10, 11, 12, 13, 14, 15]}], {\"title\": \"All 2013\", \"barmode\": \"group\"}, {\"showLink\": true, \"linkText\": \"Export to plot.ly\"})});</script>"
      ]
     },
     "metadata": {},
     "output_type": "display_data"
    },
    {
     "data": {
      "text/html": [
       "<script>requirejs.config({paths: { 'plotly': ['https://cdn.plot.ly/plotly-latest.min']},});if(!window.Plotly) {{require(['plotly'],function(plotly) {window.Plotly=plotly;});}}</script>"
      ],
      "text/vnd.plotly.v1+html": [
       "<script>requirejs.config({paths: { 'plotly': ['https://cdn.plot.ly/plotly-latest.min']},});if(!window.Plotly) {{require(['plotly'],function(plotly) {window.Plotly=plotly;});}}</script>"
      ]
     },
     "metadata": {},
     "output_type": "display_data"
    },
    {
     "data": {
      "application/vnd.plotly.v1+json": {
       "data": [
        {
         "orientation": "h",
         "type": "bar",
         "x": [
          1280,
          284,
          144,
          106,
          91,
          77,
          6,
          9,
          1,
          1,
          2,
          2,
          2,
          2,
          1
         ],
         "y": [
          0,
          1,
          2,
          3,
          4,
          5,
          6,
          7,
          8,
          9,
          10,
          11,
          12,
          13,
          14
         ]
        }
       ],
       "layout": {
        "barmode": "group",
        "title": "All 2012"
       }
      },
      "text/html": [
       "<div id=\"608b5d96-afb7-49f4-83ff-85aeec9c07e3\" style=\"height: 525px; width: 100%;\" class=\"plotly-graph-div\"></div><script type=\"text/javascript\">require([\"plotly\"], function(Plotly) { window.PLOTLYENV=window.PLOTLYENV || {};window.PLOTLYENV.BASE_URL=\"https://plot.ly\";Plotly.newPlot(\"608b5d96-afb7-49f4-83ff-85aeec9c07e3\", [{\"x\": [1280, 284, 144, 106, 91, 77, 6, 9, 1, 1, 2, 2, 2, 2, 1], \"orientation\": \"h\", \"type\": \"bar\", \"y\": [0, 1, 2, 3, 4, 5, 6, 7, 8, 9, 10, 11, 12, 13, 14]}], {\"title\": \"All 2012\", \"barmode\": \"group\"}, {\"showLink\": true, \"linkText\": \"Export to plot.ly\"})});</script>"
      ],
      "text/vnd.plotly.v1+html": [
       "<div id=\"608b5d96-afb7-49f4-83ff-85aeec9c07e3\" style=\"height: 525px; width: 100%;\" class=\"plotly-graph-div\"></div><script type=\"text/javascript\">require([\"plotly\"], function(Plotly) { window.PLOTLYENV=window.PLOTLYENV || {};window.PLOTLYENV.BASE_URL=\"https://plot.ly\";Plotly.newPlot(\"608b5d96-afb7-49f4-83ff-85aeec9c07e3\", [{\"x\": [1280, 284, 144, 106, 91, 77, 6, 9, 1, 1, 2, 2, 2, 2, 1], \"orientation\": \"h\", \"type\": \"bar\", \"y\": [0, 1, 2, 3, 4, 5, 6, 7, 8, 9, 10, 11, 12, 13, 14]}], {\"title\": \"All 2012\", \"barmode\": \"group\"}, {\"showLink\": true, \"linkText\": \"Export to plot.ly\"})});</script>"
      ]
     },
     "metadata": {},
     "output_type": "display_data"
    },
    {
     "data": {
      "text/html": [
       "<script>requirejs.config({paths: { 'plotly': ['https://cdn.plot.ly/plotly-latest.min']},});if(!window.Plotly) {{require(['plotly'],function(plotly) {window.Plotly=plotly;});}}</script>"
      ],
      "text/vnd.plotly.v1+html": [
       "<script>requirejs.config({paths: { 'plotly': ['https://cdn.plot.ly/plotly-latest.min']},});if(!window.Plotly) {{require(['plotly'],function(plotly) {window.Plotly=plotly;});}}</script>"
      ]
     },
     "metadata": {},
     "output_type": "display_data"
    },
    {
     "data": {
      "application/vnd.plotly.v1+json": {
       "data": [
        {
         "orientation": "h",
         "type": "bar",
         "x": [
          1077,
          183,
          135,
          114,
          78,
          9,
          9,
          1,
          1,
          2,
          2,
          2,
          3,
          1
         ],
         "y": [
          0,
          1,
          2,
          3,
          4,
          5,
          6,
          7,
          8,
          9,
          10,
          11,
          12,
          13
         ]
        }
       ],
       "layout": {
        "barmode": "group",
        "title": "All 2011"
       }
      },
      "text/html": [
       "<div id=\"3b7aa595-c371-4e4a-bfa6-647acf8fa611\" style=\"height: 525px; width: 100%;\" class=\"plotly-graph-div\"></div><script type=\"text/javascript\">require([\"plotly\"], function(Plotly) { window.PLOTLYENV=window.PLOTLYENV || {};window.PLOTLYENV.BASE_URL=\"https://plot.ly\";Plotly.newPlot(\"3b7aa595-c371-4e4a-bfa6-647acf8fa611\", [{\"x\": [1077, 183, 135, 114, 78, 9, 9, 1, 1, 2, 2, 2, 3, 1], \"orientation\": \"h\", \"type\": \"bar\", \"y\": [0, 1, 2, 3, 4, 5, 6, 7, 8, 9, 10, 11, 12, 13]}], {\"title\": \"All 2011\", \"barmode\": \"group\"}, {\"showLink\": true, \"linkText\": \"Export to plot.ly\"})});</script>"
      ],
      "text/vnd.plotly.v1+html": [
       "<div id=\"3b7aa595-c371-4e4a-bfa6-647acf8fa611\" style=\"height: 525px; width: 100%;\" class=\"plotly-graph-div\"></div><script type=\"text/javascript\">require([\"plotly\"], function(Plotly) { window.PLOTLYENV=window.PLOTLYENV || {};window.PLOTLYENV.BASE_URL=\"https://plot.ly\";Plotly.newPlot(\"3b7aa595-c371-4e4a-bfa6-647acf8fa611\", [{\"x\": [1077, 183, 135, 114, 78, 9, 9, 1, 1, 2, 2, 2, 3, 1], \"orientation\": \"h\", \"type\": \"bar\", \"y\": [0, 1, 2, 3, 4, 5, 6, 7, 8, 9, 10, 11, 12, 13]}], {\"title\": \"All 2011\", \"barmode\": \"group\"}, {\"showLink\": true, \"linkText\": \"Export to plot.ly\"})});</script>"
      ]
     },
     "metadata": {},
     "output_type": "display_data"
    },
    {
     "data": {
      "text/html": [
       "<script>requirejs.config({paths: { 'plotly': ['https://cdn.plot.ly/plotly-latest.min']},});if(!window.Plotly) {{require(['plotly'],function(plotly) {window.Plotly=plotly;});}}</script>"
      ],
      "text/vnd.plotly.v1+html": [
       "<script>requirejs.config({paths: { 'plotly': ['https://cdn.plot.ly/plotly-latest.min']},});if(!window.Plotly) {{require(['plotly'],function(plotly) {window.Plotly=plotly;});}}</script>"
      ]
     },
     "metadata": {},
     "output_type": "display_data"
    },
    {
     "data": {
      "application/vnd.plotly.v1+json": {
       "data": [
        {
         "orientation": "h",
         "type": "bar",
         "x": [
          829,
          165,
          115,
          86,
          10,
          15,
          1,
          2,
          1,
          2,
          3,
          1,
          3
         ],
         "y": [
          0,
          1,
          2,
          3,
          4,
          5,
          6,
          7,
          8,
          9,
          10,
          11,
          12
         ]
        }
       ],
       "layout": {
        "barmode": "group",
        "title": "All 2010"
       }
      },
      "text/html": [
       "<div id=\"376b06ac-886c-4aaa-a071-6f2d7299333a\" style=\"height: 525px; width: 100%;\" class=\"plotly-graph-div\"></div><script type=\"text/javascript\">require([\"plotly\"], function(Plotly) { window.PLOTLYENV=window.PLOTLYENV || {};window.PLOTLYENV.BASE_URL=\"https://plot.ly\";Plotly.newPlot(\"376b06ac-886c-4aaa-a071-6f2d7299333a\", [{\"x\": [829, 165, 115, 86, 10, 15, 1, 2, 1, 2, 3, 1, 3], \"orientation\": \"h\", \"type\": \"bar\", \"y\": [0, 1, 2, 3, 4, 5, 6, 7, 8, 9, 10, 11, 12]}], {\"title\": \"All 2010\", \"barmode\": \"group\"}, {\"showLink\": true, \"linkText\": \"Export to plot.ly\"})});</script>"
      ],
      "text/vnd.plotly.v1+html": [
       "<div id=\"376b06ac-886c-4aaa-a071-6f2d7299333a\" style=\"height: 525px; width: 100%;\" class=\"plotly-graph-div\"></div><script type=\"text/javascript\">require([\"plotly\"], function(Plotly) { window.PLOTLYENV=window.PLOTLYENV || {};window.PLOTLYENV.BASE_URL=\"https://plot.ly\";Plotly.newPlot(\"376b06ac-886c-4aaa-a071-6f2d7299333a\", [{\"x\": [829, 165, 115, 86, 10, 15, 1, 2, 1, 2, 3, 1, 3], \"orientation\": \"h\", \"type\": \"bar\", \"y\": [0, 1, 2, 3, 4, 5, 6, 7, 8, 9, 10, 11, 12]}], {\"title\": \"All 2010\", \"barmode\": \"group\"}, {\"showLink\": true, \"linkText\": \"Export to plot.ly\"})});</script>"
      ]
     },
     "metadata": {},
     "output_type": "display_data"
    },
    {
     "data": {
      "text/html": [
       "<script>requirejs.config({paths: { 'plotly': ['https://cdn.plot.ly/plotly-latest.min']},});if(!window.Plotly) {{require(['plotly'],function(plotly) {window.Plotly=plotly;});}}</script>"
      ],
      "text/vnd.plotly.v1+html": [
       "<script>requirejs.config({paths: { 'plotly': ['https://cdn.plot.ly/plotly-latest.min']},});if(!window.Plotly) {{require(['plotly'],function(plotly) {window.Plotly=plotly;});}}</script>"
      ]
     },
     "metadata": {},
     "output_type": "display_data"
    },
    {
     "data": {
      "application/vnd.plotly.v1+json": {
       "data": [
        {
         "orientation": "h",
         "type": "bar",
         "x": [
          650,
          141,
          94,
          15,
          13,
          2,
          1,
          2,
          1,
          3,
          2,
          2
         ],
         "y": [
          0,
          1,
          2,
          3,
          4,
          5,
          6,
          7,
          8,
          9,
          10,
          11
         ]
        }
       ],
       "layout": {
        "barmode": "group",
        "title": "All 2009"
       }
      },
      "text/html": [
       "<div id=\"ba5f9aa2-2065-4330-8ad3-45ead1403be2\" style=\"height: 525px; width: 100%;\" class=\"plotly-graph-div\"></div><script type=\"text/javascript\">require([\"plotly\"], function(Plotly) { window.PLOTLYENV=window.PLOTLYENV || {};window.PLOTLYENV.BASE_URL=\"https://plot.ly\";Plotly.newPlot(\"ba5f9aa2-2065-4330-8ad3-45ead1403be2\", [{\"x\": [650, 141, 94, 15, 13, 2, 1, 2, 1, 3, 2, 2], \"orientation\": \"h\", \"type\": \"bar\", \"y\": [0, 1, 2, 3, 4, 5, 6, 7, 8, 9, 10, 11]}], {\"title\": \"All 2009\", \"barmode\": \"group\"}, {\"showLink\": true, \"linkText\": \"Export to plot.ly\"})});</script>"
      ],
      "text/vnd.plotly.v1+html": [
       "<div id=\"ba5f9aa2-2065-4330-8ad3-45ead1403be2\" style=\"height: 525px; width: 100%;\" class=\"plotly-graph-div\"></div><script type=\"text/javascript\">require([\"plotly\"], function(Plotly) { window.PLOTLYENV=window.PLOTLYENV || {};window.PLOTLYENV.BASE_URL=\"https://plot.ly\";Plotly.newPlot(\"ba5f9aa2-2065-4330-8ad3-45ead1403be2\", [{\"x\": [650, 141, 94, 15, 13, 2, 1, 2, 1, 3, 2, 2], \"orientation\": \"h\", \"type\": \"bar\", \"y\": [0, 1, 2, 3, 4, 5, 6, 7, 8, 9, 10, 11]}], {\"title\": \"All 2009\", \"barmode\": \"group\"}, {\"showLink\": true, \"linkText\": \"Export to plot.ly\"})});</script>"
      ]
     },
     "metadata": {},
     "output_type": "display_data"
    },
    {
     "data": {
      "text/html": [
       "<script>requirejs.config({paths: { 'plotly': ['https://cdn.plot.ly/plotly-latest.min']},});if(!window.Plotly) {{require(['plotly'],function(plotly) {window.Plotly=plotly;});}}</script>"
      ],
      "text/vnd.plotly.v1+html": [
       "<script>requirejs.config({paths: { 'plotly': ['https://cdn.plot.ly/plotly-latest.min']},});if(!window.Plotly) {{require(['plotly'],function(plotly) {window.Plotly=plotly;});}}</script>"
      ]
     },
     "metadata": {},
     "output_type": "display_data"
    },
    {
     "data": {
      "application/vnd.plotly.v1+json": {
       "data": [
        {
         "orientation": "h",
         "type": "bar",
         "x": [
          607,
          165,
          18,
          15,
          2,
          1,
          3,
          3,
          2,
          1,
          2
         ],
         "y": [
          0,
          1,
          2,
          3,
          4,
          5,
          6,
          7,
          8,
          9,
          10
         ]
        }
       ],
       "layout": {
        "barmode": "group",
        "title": "All 2008"
       }
      },
      "text/html": [
       "<div id=\"9d9634e0-2363-4cda-a4f3-2b425f7d0f13\" style=\"height: 525px; width: 100%;\" class=\"plotly-graph-div\"></div><script type=\"text/javascript\">require([\"plotly\"], function(Plotly) { window.PLOTLYENV=window.PLOTLYENV || {};window.PLOTLYENV.BASE_URL=\"https://plot.ly\";Plotly.newPlot(\"9d9634e0-2363-4cda-a4f3-2b425f7d0f13\", [{\"x\": [607, 165, 18, 15, 2, 1, 3, 3, 2, 1, 2], \"orientation\": \"h\", \"type\": \"bar\", \"y\": [0, 1, 2, 3, 4, 5, 6, 7, 8, 9, 10]}], {\"title\": \"All 2008\", \"barmode\": \"group\"}, {\"showLink\": true, \"linkText\": \"Export to plot.ly\"})});</script>"
      ],
      "text/vnd.plotly.v1+html": [
       "<div id=\"9d9634e0-2363-4cda-a4f3-2b425f7d0f13\" style=\"height: 525px; width: 100%;\" class=\"plotly-graph-div\"></div><script type=\"text/javascript\">require([\"plotly\"], function(Plotly) { window.PLOTLYENV=window.PLOTLYENV || {};window.PLOTLYENV.BASE_URL=\"https://plot.ly\";Plotly.newPlot(\"9d9634e0-2363-4cda-a4f3-2b425f7d0f13\", [{\"x\": [607, 165, 18, 15, 2, 1, 3, 3, 2, 1, 2], \"orientation\": \"h\", \"type\": \"bar\", \"y\": [0, 1, 2, 3, 4, 5, 6, 7, 8, 9, 10]}], {\"title\": \"All 2008\", \"barmode\": \"group\"}, {\"showLink\": true, \"linkText\": \"Export to plot.ly\"})});</script>"
      ]
     },
     "metadata": {},
     "output_type": "display_data"
    },
    {
     "data": {
      "text/html": [
       "<script>requirejs.config({paths: { 'plotly': ['https://cdn.plot.ly/plotly-latest.min']},});if(!window.Plotly) {{require(['plotly'],function(plotly) {window.Plotly=plotly;});}}</script>"
      ],
      "text/vnd.plotly.v1+html": [
       "<script>requirejs.config({paths: { 'plotly': ['https://cdn.plot.ly/plotly-latest.min']},});if(!window.Plotly) {{require(['plotly'],function(plotly) {window.Plotly=plotly;});}}</script>"
      ]
     },
     "metadata": {},
     "output_type": "display_data"
    },
    {
     "data": {
      "application/vnd.plotly.v1+json": {
       "data": [
        {
         "orientation": "h",
         "type": "bar",
         "x": [
          463,
          52,
          40,
          16,
          9,
          11,
          10,
          6,
          7,
          2
         ],
         "y": [
          0,
          1,
          2,
          3,
          4,
          5,
          6,
          7,
          8,
          9
         ]
        }
       ],
       "layout": {
        "barmode": "group",
        "title": "All 2007"
       }
      },
      "text/html": [
       "<div id=\"4fde5605-f591-4fe1-b95e-11963ec7be2a\" style=\"height: 525px; width: 100%;\" class=\"plotly-graph-div\"></div><script type=\"text/javascript\">require([\"plotly\"], function(Plotly) { window.PLOTLYENV=window.PLOTLYENV || {};window.PLOTLYENV.BASE_URL=\"https://plot.ly\";Plotly.newPlot(\"4fde5605-f591-4fe1-b95e-11963ec7be2a\", [{\"x\": [463, 52, 40, 16, 9, 11, 10, 6, 7, 2], \"orientation\": \"h\", \"type\": \"bar\", \"y\": [0, 1, 2, 3, 4, 5, 6, 7, 8, 9]}], {\"title\": \"All 2007\", \"barmode\": \"group\"}, {\"showLink\": true, \"linkText\": \"Export to plot.ly\"})});</script>"
      ],
      "text/vnd.plotly.v1+html": [
       "<div id=\"4fde5605-f591-4fe1-b95e-11963ec7be2a\" style=\"height: 525px; width: 100%;\" class=\"plotly-graph-div\"></div><script type=\"text/javascript\">require([\"plotly\"], function(Plotly) { window.PLOTLYENV=window.PLOTLYENV || {};window.PLOTLYENV.BASE_URL=\"https://plot.ly\";Plotly.newPlot(\"4fde5605-f591-4fe1-b95e-11963ec7be2a\", [{\"x\": [463, 52, 40, 16, 9, 11, 10, 6, 7, 2], \"orientation\": \"h\", \"type\": \"bar\", \"y\": [0, 1, 2, 3, 4, 5, 6, 7, 8, 9]}], {\"title\": \"All 2007\", \"barmode\": \"group\"}, {\"showLink\": true, \"linkText\": \"Export to plot.ly\"})});</script>"
      ]
     },
     "metadata": {},
     "output_type": "display_data"
    }
   ],
   "source": [
    "# Plot bar charts for each dataframe\n",
    "i = 0\n",
    "for authors_df in active_authors_dfs:\n",
    "#    print(author_df['experience_years'].max(), type(author_df['experience_years'].max()))\n",
    "    print_horizontal_bar_chart(authors_df, 'active_years', title=project_name + ' ' + str(2016 - i))\n",
    "    i += 1"
   ]
  },
  {
   "cell_type": "markdown",
   "metadata": {},
   "source": [
    "## Years of Experience\n",
    "We consider **12 commits** per year, i.e. one commit per month aprox., as a minimum to add one year of experience to a given author. From this assumption, we build groups of authors by years of experience. As a result, we present a plot with number of people in each group.\n",
    "\n",
    "To give a more complete idea of how community evolves, we plot snapshots corresponding to different years. Each of them will take all commits sent until the given year, and calculate years of experience for all authors in that slice.\n",
    "\n",
    "We are also counting authors whose last year of experience is the one we are analyzing data from. That is, if we are looking to year 2016, we only count those authors who made at least 12 commits in 2016. From there we add 1 year of experience for each year they fulfill this condition.\n",
    "\n",
    "* Y axis corresponds to years of experience as defined above.\n",
    "* X axis corresponds to the umber of contributors in the given group.\n",
    "* Each plot shows a snapshot of this information from the specified year to the past (1998 was chosen as the oldest date to get results from). "
   ]
  },
  {
   "cell_type": "code",
   "execution_count": 33,
   "metadata": {
    "collapsed": false
   },
   "outputs": [],
   "source": [
    "###\n",
    "## GET COMMITS BY YEAR AND AUTHOR\n",
    "###\n",
    "\n",
    "results = []\n",
    "min_commits = 1\n",
    "\n",
    "for i in analyzed_range:\n",
    "\n",
    "    # Buckets by author name, finding first commit for each of them\n",
    "    s = create_search(source='git')\n",
    "    \n",
    "    # General filters\n",
    "    s = add_general_date_filters(s)\n",
    "    s = add_bot_filter(s)\n",
    "    s = add_merges_filter(s)\n",
    "    \n",
    "    # Filter commits to the Project Repos\n",
    "    s = add_project_filter(s)\n",
    "    \n",
    "    # Retrieve commits before given year\n",
    "    s = s.filter('range', grimoire_creation_date={'lt': 'now-' + str(i) + 'y/y'})\n",
    "\n",
    "    # Bucketize by time, uuid and organization, then count commits per year\n",
    "    s.aggs.bucket('time', 'date_histogram', field='grimoire_creation_date', interval='year') \\\n",
    "        .bucket('authors', 'terms', field='author_uuid', size=100000, min_doc_count=min_commits) \\\n",
    "        .bucket('org', 'terms', field='author_org_name', size=1) \\\n",
    "        .metric('commits', 'cardinality', field='hash', precision_threshold=1000)\n",
    "\n",
    "    r = s.execute()\n",
    "    # In case you need to check response, uncomment line below\n",
    "    #print(r.to_dict()['aggregations']['time']['buckets'])\n",
    "        \n",
    "    results.append(r)\n",
    "    \n",
    "#results\n"
   ]
  },
  {
   "cell_type": "code",
   "execution_count": 41,
   "metadata": {
    "collapsed": false
   },
   "outputs": [
    {
     "data": {
      "text/plain": [
       "[                                                        exp last_active  \\\n",
       " Author                                   Org                              \n",
       " 000063c4e47e93ab3b30607680609e4d2500ce5d Mozilla Staff    3        2016   \n",
       " 0002c6a09a45af6481c35e29c0ed7f3bdbecb3b8 Community        1        2016   \n",
       " 000336e205e3f5e2daa6e7a0b03e612b3b2b02d3 Mozilla Staff    3        2016   \n",
       " 0014e7cebbe8ef11dab9eeb5f2111e01d9eea378 Mozilla Staff    6        2016   \n",
       " 002893ffe1425c220756f8ba4c78e1e3bb0be50f Mozilla Staff    6        2016   \n",
       " 0043f3e1632e14bb05873fc981efa44057a38652 Community        1        2016   \n",
       " 006fee3e0de309ff1e3e89c24f5e7032163c49c5 Mozilla Staff    5        2016   \n",
       " 0077ed8ce0df63bf273d022edae59fc2664972dc Mozilla Staff    1        2016   \n",
       " 00834d313bfc6fc60be1631bcc57b2c05ee2e0e3 Mozilla Staff    8        2016   \n",
       " 00846eff46b051d92317fc74e54041c6fdccd7cf Mozilla Staff    9        2016   \n",
       " 00a40f9e9e7f7633ddab8291a99e1e487f88481c Community        2        2016   \n",
       " 00b934012989b386ac9efc706dbc28cd6be173c6 Mozilla Staff    1        2016   \n",
       " 00da6ede3bff8db21a33473d7e552b76f50757eb Mozilla Staff    4        2016   \n",
       " 00ed7b25063cf90c8bdeb9d45d37b73ba2317f96 Mozilla Staff    5        2016   \n",
       " 01081562f7dd988d4759a2e1e9881d5f18c02d8c Mozilla Staff    6        2016   \n",
       " 010d5b9a1a420396883aeaec331740086df7b9e3 Mozilla Staff    1        2016   \n",
       " 0113220b14954de311e9d99f69338f0272c50dc7 Mozilla Staff    5        2016   \n",
       " 012f9fe0064209c2affd5810083edccc723b32a9 Mozilla Staff   10        2016   \n",
       " 013424615bc067df0dd822f46954afcb050cf006 Mozilla Staff    1        2016   \n",
       " 013bbdb9412b88db677df21347e032c57b099d97 Community        2        2016   \n",
       " 016a5f2ec7191e74e984c71787b2b292d89543a1 Community        3        2016   \n",
       " 0183bd06d487bf71fd39a568ae892e3ec3079d82 Mozilla Staff    4        2016   \n",
       " 019ee580517ec3e8eb2c90ad0e3b2d749e9f0359 Code Sheriff     8        2016   \n",
       " 01a0ffd68e3b0ac6359b920e733043b6be0dba12 Community        6        2016   \n",
       " 01b36f5096db2e9bd47f3c2817644dec9e7dff17 Mozilla Staff    7        2016   \n",
       " 01d087191bbd3247ba51858aa3369a617859433d Mozilla Staff    1        2016   \n",
       " 01d6f58dc8a5f572206162fda0d2ce132f47abcd Mozilla Staff    4        2016   \n",
       " 01ed0a06c501f2d2a742a3c1784e95a2f6b18f81 Mozilla Staff    3        2016   \n",
       " 01f1000b22e6eaffaa64485433f92536f1b18e61 Mozilla Staff    6        2016   \n",
       " 01f34ad3deb857432c09281f062c4d9d7d9b70d0 Mozilla Staff    5        2016   \n",
       " ...                                                     ...         ...   \n",
       " e663cd2c83c79695ef130cd3432897097b69f7b3 Mozilla Staff    6        2016   \n",
       " e790e644835b1ce52978b5992649e3609079d089 Community        3        2016   \n",
       " e83b57753bb28478d622b4b3747de08ff258bd14 Mozilla Staff    3        2016   \n",
       " e85d4796c2abbfb42a39be8e4ae3e847994719fd Mozilla Staff    7        2016   \n",
       " e88213cbf32a2a80a3e74609fd177ef70d5b6664 Community        1        2016   \n",
       " e885659e1ba02886b3188babaa0f478c85769f68 Community        2        2016   \n",
       " e92e52e075460e04eb4c0ca13a461d0641f214f2 Community        1        2016   \n",
       " e9498580e6c585a61241d0a362e409d24b8dec6a Community        1        2016   \n",
       " e97cbc623155363f66a63083aa143e94e8be8053 Community        1        2016   \n",
       " ea37355355042521daebc59c64204d9b2c26da55 Mozilla Staff    1        2016   \n",
       " ea79788927d8c92f9c215c3e36a440828bad89d6 Community        1        2016   \n",
       " eaa485813108596dea731a199586a1f0951d96fb Community        1        2016   \n",
       " eb6b80e564a38022f63806d896b97eced3befa48 Community        1        2016   \n",
       " ec53ad67f5b23f28cb0c2f2284041a826aba9c05 Community        6        2016   \n",
       " ef7476ee05d4459d07e00d41e0ec4f024bbe34ad Community        1        2016   \n",
       " f2504690438d722b236d1200ddf442deda4034f3 Community        2        2016   \n",
       " f5194760b3c69840a1a6f330f0f608943bf3ccbb Community        4        2016   \n",
       " f554bda8bf16d35daf7a6253a77fff4bb169dab8 Community        3        2016   \n",
       " f60fde2474946baf99221f9c008948eaf2399c71 Community        2        2016   \n",
       " f7ccf0fb10375392457da74830a7d06dfeedcae4 Community        1        2016   \n",
       " f802c1a228179da47a4066d08d428f47644e6c53 Community        8        2016   \n",
       " f8313c3cbb018a0d8b5312cabdb814815af36c6c Mozilla Staff    1        2016   \n",
       " f88a8fed519b5f1f1f181d01244628ada78452e6 Community        1        2016   \n",
       " f922e9a6575ce81d0fd700777717c2d97d0efc45 Community        1        2016   \n",
       " f9f5dcda9670edf0a434b5610fc0ff1fecb6b5ed Community        1        2016   \n",
       " fa92923efabac872fc2bfcdcc25c9330784dee90 Community        2        2016   \n",
       " faab0cc7448ca5de78076981eb5ecd37d7ec75fe Community        1        2016   \n",
       " fcedd6dd863c0c32365cc1c9fc834e92873260b9 Community        1        2016   \n",
       " fdf41c92890261fb8ffc05b41f5ddd0df07f11e0 Community        1        2016   \n",
       " fe31b9d47f52171b44106ebb18e176117bd2a188 Mozilla Staff    5        2016   \n",
       " \n",
       "                                                        project  \n",
       " Author                                   Org                    \n",
       " 000063c4e47e93ab3b30607680609e4d2500ce5d Mozilla Staff     All  \n",
       " 0002c6a09a45af6481c35e29c0ed7f3bdbecb3b8 Community         All  \n",
       " 000336e205e3f5e2daa6e7a0b03e612b3b2b02d3 Mozilla Staff     All  \n",
       " 0014e7cebbe8ef11dab9eeb5f2111e01d9eea378 Mozilla Staff     All  \n",
       " 002893ffe1425c220756f8ba4c78e1e3bb0be50f Mozilla Staff     All  \n",
       " 0043f3e1632e14bb05873fc981efa44057a38652 Community         All  \n",
       " 006fee3e0de309ff1e3e89c24f5e7032163c49c5 Mozilla Staff     All  \n",
       " 0077ed8ce0df63bf273d022edae59fc2664972dc Mozilla Staff     All  \n",
       " 00834d313bfc6fc60be1631bcc57b2c05ee2e0e3 Mozilla Staff     All  \n",
       " 00846eff46b051d92317fc74e54041c6fdccd7cf Mozilla Staff     All  \n",
       " 00a40f9e9e7f7633ddab8291a99e1e487f88481c Community         All  \n",
       " 00b934012989b386ac9efc706dbc28cd6be173c6 Mozilla Staff     All  \n",
       " 00da6ede3bff8db21a33473d7e552b76f50757eb Mozilla Staff     All  \n",
       " 00ed7b25063cf90c8bdeb9d45d37b73ba2317f96 Mozilla Staff     All  \n",
       " 01081562f7dd988d4759a2e1e9881d5f18c02d8c Mozilla Staff     All  \n",
       " 010d5b9a1a420396883aeaec331740086df7b9e3 Mozilla Staff     All  \n",
       " 0113220b14954de311e9d99f69338f0272c50dc7 Mozilla Staff     All  \n",
       " 012f9fe0064209c2affd5810083edccc723b32a9 Mozilla Staff     All  \n",
       " 013424615bc067df0dd822f46954afcb050cf006 Mozilla Staff     All  \n",
       " 013bbdb9412b88db677df21347e032c57b099d97 Community         All  \n",
       " 016a5f2ec7191e74e984c71787b2b292d89543a1 Community         All  \n",
       " 0183bd06d487bf71fd39a568ae892e3ec3079d82 Mozilla Staff     All  \n",
       " 019ee580517ec3e8eb2c90ad0e3b2d749e9f0359 Code Sheriff      All  \n",
       " 01a0ffd68e3b0ac6359b920e733043b6be0dba12 Community         All  \n",
       " 01b36f5096db2e9bd47f3c2817644dec9e7dff17 Mozilla Staff     All  \n",
       " 01d087191bbd3247ba51858aa3369a617859433d Mozilla Staff     All  \n",
       " 01d6f58dc8a5f572206162fda0d2ce132f47abcd Mozilla Staff     All  \n",
       " 01ed0a06c501f2d2a742a3c1784e95a2f6b18f81 Mozilla Staff     All  \n",
       " 01f1000b22e6eaffaa64485433f92536f1b18e61 Mozilla Staff     All  \n",
       " 01f34ad3deb857432c09281f062c4d9d7d9b70d0 Mozilla Staff     All  \n",
       " ...                                                        ...  \n",
       " e663cd2c83c79695ef130cd3432897097b69f7b3 Mozilla Staff     All  \n",
       " e790e644835b1ce52978b5992649e3609079d089 Community         All  \n",
       " e83b57753bb28478d622b4b3747de08ff258bd14 Mozilla Staff     All  \n",
       " e85d4796c2abbfb42a39be8e4ae3e847994719fd Mozilla Staff     All  \n",
       " e88213cbf32a2a80a3e74609fd177ef70d5b6664 Community         All  \n",
       " e885659e1ba02886b3188babaa0f478c85769f68 Community         All  \n",
       " e92e52e075460e04eb4c0ca13a461d0641f214f2 Community         All  \n",
       " e9498580e6c585a61241d0a362e409d24b8dec6a Community         All  \n",
       " e97cbc623155363f66a63083aa143e94e8be8053 Community         All  \n",
       " ea37355355042521daebc59c64204d9b2c26da55 Mozilla Staff     All  \n",
       " ea79788927d8c92f9c215c3e36a440828bad89d6 Community         All  \n",
       " eaa485813108596dea731a199586a1f0951d96fb Community         All  \n",
       " eb6b80e564a38022f63806d896b97eced3befa48 Community         All  \n",
       " ec53ad67f5b23f28cb0c2f2284041a826aba9c05 Community         All  \n",
       " ef7476ee05d4459d07e00d41e0ec4f024bbe34ad Community         All  \n",
       " f2504690438d722b236d1200ddf442deda4034f3 Community         All  \n",
       " f5194760b3c69840a1a6f330f0f608943bf3ccbb Community         All  \n",
       " f554bda8bf16d35daf7a6253a77fff4bb169dab8 Community         All  \n",
       " f60fde2474946baf99221f9c008948eaf2399c71 Community         All  \n",
       " f7ccf0fb10375392457da74830a7d06dfeedcae4 Community         All  \n",
       " f802c1a228179da47a4066d08d428f47644e6c53 Community         All  \n",
       " f8313c3cbb018a0d8b5312cabdb814815af36c6c Mozilla Staff     All  \n",
       " f88a8fed519b5f1f1f181d01244628ada78452e6 Community         All  \n",
       " f922e9a6575ce81d0fd700777717c2d97d0efc45 Community         All  \n",
       " f9f5dcda9670edf0a434b5610fc0ff1fecb6b5ed Community         All  \n",
       " fa92923efabac872fc2bfcdcc25c9330784dee90 Community         All  \n",
       " faab0cc7448ca5de78076981eb5ecd37d7ec75fe Community         All  \n",
       " fcedd6dd863c0c32365cc1c9fc834e92873260b9 Community         All  \n",
       " fdf41c92890261fb8ffc05b41f5ddd0df07f11e0 Community         All  \n",
       " fe31b9d47f52171b44106ebb18e176117bd2a188 Mozilla Staff     All  \n",
       " \n",
       " [1219 rows x 3 columns],\n",
       "                                                         exp last_active  \\\n",
       " Author                                   Org                              \n",
       " 000063c4e47e93ab3b30607680609e4d2500ce5d Mozilla Staff    2        2015   \n",
       " 000336e205e3f5e2daa6e7a0b03e612b3b2b02d3 Mozilla Staff    2        2015   \n",
       " 0014e7cebbe8ef11dab9eeb5f2111e01d9eea378 Mozilla Staff    5        2015   \n",
       " 002893ffe1425c220756f8ba4c78e1e3bb0be50f Mozilla Staff    5        2015   \n",
       " 006fee3e0de309ff1e3e89c24f5e7032163c49c5 Mozilla Staff    4        2015   \n",
       " 00834d313bfc6fc60be1631bcc57b2c05ee2e0e3 Mozilla Staff    7        2015   \n",
       " 00846eff46b051d92317fc74e54041c6fdccd7cf Mozilla Staff    8        2015   \n",
       " 00890cbe5133b67bfa1021485959d2b42c11f4f8 Mozilla Staff    6        2015   \n",
       " 00a40f9e9e7f7633ddab8291a99e1e487f88481c Community        1        2015   \n",
       " 00da6ede3bff8db21a33473d7e552b76f50757eb Mozilla Staff    3        2015   \n",
       " 00ed7b25063cf90c8bdeb9d45d37b73ba2317f96 Mozilla Staff    4        2015   \n",
       " 01081562f7dd988d4759a2e1e9881d5f18c02d8c Mozilla Staff    5        2015   \n",
       " 0113220b14954de311e9d99f69338f0272c50dc7 Mozilla Staff    4        2015   \n",
       " 012f9fe0064209c2affd5810083edccc723b32a9 Mozilla Staff    9        2015   \n",
       " 0134e2ebeec7f2f1acf7c635b5b22e2c441bd3ec Mozilla Staff    6        2015   \n",
       " 013bbdb9412b88db677df21347e032c57b099d97 Community        1        2015   \n",
       " 016a5f2ec7191e74e984c71787b2b292d89543a1 Community        2        2015   \n",
       " 0183bd06d487bf71fd39a568ae892e3ec3079d82 Mozilla Staff    3        2015   \n",
       " 019ee580517ec3e8eb2c90ad0e3b2d749e9f0359 Code Sheriff     7        2015   \n",
       " 01a0ffd68e3b0ac6359b920e733043b6be0dba12 Community        5        2015   \n",
       " 01b36f5096db2e9bd47f3c2817644dec9e7dff17 Mozilla Staff    6        2015   \n",
       " 01d6f58dc8a5f572206162fda0d2ce132f47abcd Mozilla Staff    3        2015   \n",
       " 01ed0a06c501f2d2a742a3c1784e95a2f6b18f81 Mozilla Staff    2        2015   \n",
       " 01f1000b22e6eaffaa64485433f92536f1b18e61 Mozilla Staff    5        2015   \n",
       " 01f34ad3deb857432c09281f062c4d9d7d9b70d0 Mozilla Staff    4        2015   \n",
       " 01f6b11405a898e4c79073f5a4505562bedc8e6b Mozilla Staff    4        2015   \n",
       " 0202b7aab723eeeee876182492a008ec217648cc Mozilla Staff    5        2015   \n",
       " 020e546c6211feb97546084461eeb7cdae47664a Mozilla Staff    6        2015   \n",
       " 022ca58ad3637ab6a3023260dbb86b083dd2b5e8 Mozilla Staff    4        2015   \n",
       " 0252283062db18639ab5829674ecf042b723f47d Mozilla Staff    4        2015   \n",
       " ...                                                     ...         ...   \n",
       " e83b57753bb28478d622b4b3747de08ff258bd14 Mozilla Staff    2        2015   \n",
       " e85d4796c2abbfb42a39be8e4ae3e847994719fd Mozilla Staff    6        2015   \n",
       " e885659e1ba02886b3188babaa0f478c85769f68 Community        1        2015   \n",
       " ea47b341f4f454fc6dc1f8bfc694cee0e48998bb Community        1        2015   \n",
       " eae9586a58a9c9793d3738d1d3e096db178e7b39 Community        1        2015   \n",
       " ebc3918c9aa58903580c6207125d88e0f5004a26 Community        2        2015   \n",
       " ec2871cf9a129d903903661e6341b2ea36fbafcd Community        1        2015   \n",
       " ec53ad67f5b23f28cb0c2f2284041a826aba9c05 Community        5        2015   \n",
       " ec6d0645af95e8e4eeb0b5fff0029884d08844b6 Community        1        2015   \n",
       " f05961e8a4a4837b003046c94b85e2f15e156bde Community        1        2015   \n",
       " f0a7924c002325614f510297b1d15159e84cb570 Community        1        2015   \n",
       " f0c47bd9b42c9ddf9d0bca4ef49ef41b5a8e5455 Community        1        2015   \n",
       " f2504690438d722b236d1200ddf442deda4034f3 Community        1        2015   \n",
       " f366a5b9693b0592d36934a6d23b033ade3b0dd9 Community        1        2015   \n",
       " f5194760b3c69840a1a6f330f0f608943bf3ccbb Community        3        2015   \n",
       " f554bda8bf16d35daf7a6253a77fff4bb169dab8 Community        2        2015   \n",
       " f60fde2474946baf99221f9c008948eaf2399c71 Community        1        2015   \n",
       " f6ebc9f8c697480e39a24c388239c8ec977bf94a Mozilla Staff    3        2015   \n",
       " f704093012a769d1e753444fadf7f18c6a982746 Community        1        2015   \n",
       " f79dae145bb7db844d06f56202630ee98e4e2c7c Community        2        2015   \n",
       " f802c1a228179da47a4066d08d428f47644e6c53 Community        7        2015   \n",
       " f8bdb372b32076065652bc8027e8a66cf4301878 Community        1        2015   \n",
       " f8d45463d0e551e28f5d939eb1ae38053963cf60 Community        1        2015   \n",
       " f95c51b725fb353a8b4afca2b3f006b5c3192828 Community        1        2015   \n",
       " fa92923efabac872fc2bfcdcc25c9330784dee90 Community        1        2015   \n",
       " fac79d13a2cc38e67b84e2da770fac80049b61bb Community        2        2015   \n",
       " fb9c0cb9dc4ac86cab31409bf052cc4b2a2d7d77 Community        1        2015   \n",
       " fdbf3cb3c924a576b931dd91a684729a165ece70 Community        2        2015   \n",
       " fe31b9d47f52171b44106ebb18e176117bd2a188 Mozilla Staff    4        2015   \n",
       " ffc37980365bfbbc76045725216a0a8e9812a869 Community        1        2015   \n",
       " \n",
       "                                                        project  \n",
       " Author                                   Org                    \n",
       " 000063c4e47e93ab3b30607680609e4d2500ce5d Mozilla Staff     All  \n",
       " 000336e205e3f5e2daa6e7a0b03e612b3b2b02d3 Mozilla Staff     All  \n",
       " 0014e7cebbe8ef11dab9eeb5f2111e01d9eea378 Mozilla Staff     All  \n",
       " 002893ffe1425c220756f8ba4c78e1e3bb0be50f Mozilla Staff     All  \n",
       " 006fee3e0de309ff1e3e89c24f5e7032163c49c5 Mozilla Staff     All  \n",
       " 00834d313bfc6fc60be1631bcc57b2c05ee2e0e3 Mozilla Staff     All  \n",
       " 00846eff46b051d92317fc74e54041c6fdccd7cf Mozilla Staff     All  \n",
       " 00890cbe5133b67bfa1021485959d2b42c11f4f8 Mozilla Staff     All  \n",
       " 00a40f9e9e7f7633ddab8291a99e1e487f88481c Community         All  \n",
       " 00da6ede3bff8db21a33473d7e552b76f50757eb Mozilla Staff     All  \n",
       " 00ed7b25063cf90c8bdeb9d45d37b73ba2317f96 Mozilla Staff     All  \n",
       " 01081562f7dd988d4759a2e1e9881d5f18c02d8c Mozilla Staff     All  \n",
       " 0113220b14954de311e9d99f69338f0272c50dc7 Mozilla Staff     All  \n",
       " 012f9fe0064209c2affd5810083edccc723b32a9 Mozilla Staff     All  \n",
       " 0134e2ebeec7f2f1acf7c635b5b22e2c441bd3ec Mozilla Staff     All  \n",
       " 013bbdb9412b88db677df21347e032c57b099d97 Community         All  \n",
       " 016a5f2ec7191e74e984c71787b2b292d89543a1 Community         All  \n",
       " 0183bd06d487bf71fd39a568ae892e3ec3079d82 Mozilla Staff     All  \n",
       " 019ee580517ec3e8eb2c90ad0e3b2d749e9f0359 Code Sheriff      All  \n",
       " 01a0ffd68e3b0ac6359b920e733043b6be0dba12 Community         All  \n",
       " 01b36f5096db2e9bd47f3c2817644dec9e7dff17 Mozilla Staff     All  \n",
       " 01d6f58dc8a5f572206162fda0d2ce132f47abcd Mozilla Staff     All  \n",
       " 01ed0a06c501f2d2a742a3c1784e95a2f6b18f81 Mozilla Staff     All  \n",
       " 01f1000b22e6eaffaa64485433f92536f1b18e61 Mozilla Staff     All  \n",
       " 01f34ad3deb857432c09281f062c4d9d7d9b70d0 Mozilla Staff     All  \n",
       " 01f6b11405a898e4c79073f5a4505562bedc8e6b Mozilla Staff     All  \n",
       " 0202b7aab723eeeee876182492a008ec217648cc Mozilla Staff     All  \n",
       " 020e546c6211feb97546084461eeb7cdae47664a Mozilla Staff     All  \n",
       " 022ca58ad3637ab6a3023260dbb86b083dd2b5e8 Mozilla Staff     All  \n",
       " 0252283062db18639ab5829674ecf042b723f47d Mozilla Staff     All  \n",
       " ...                                                        ...  \n",
       " e83b57753bb28478d622b4b3747de08ff258bd14 Mozilla Staff     All  \n",
       " e85d4796c2abbfb42a39be8e4ae3e847994719fd Mozilla Staff     All  \n",
       " e885659e1ba02886b3188babaa0f478c85769f68 Community         All  \n",
       " ea47b341f4f454fc6dc1f8bfc694cee0e48998bb Community         All  \n",
       " eae9586a58a9c9793d3738d1d3e096db178e7b39 Community         All  \n",
       " ebc3918c9aa58903580c6207125d88e0f5004a26 Community         All  \n",
       " ec2871cf9a129d903903661e6341b2ea36fbafcd Community         All  \n",
       " ec53ad67f5b23f28cb0c2f2284041a826aba9c05 Community         All  \n",
       " ec6d0645af95e8e4eeb0b5fff0029884d08844b6 Community         All  \n",
       " f05961e8a4a4837b003046c94b85e2f15e156bde Community         All  \n",
       " f0a7924c002325614f510297b1d15159e84cb570 Community         All  \n",
       " f0c47bd9b42c9ddf9d0bca4ef49ef41b5a8e5455 Community         All  \n",
       " f2504690438d722b236d1200ddf442deda4034f3 Community         All  \n",
       " f366a5b9693b0592d36934a6d23b033ade3b0dd9 Community         All  \n",
       " f5194760b3c69840a1a6f330f0f608943bf3ccbb Community         All  \n",
       " f554bda8bf16d35daf7a6253a77fff4bb169dab8 Community         All  \n",
       " f60fde2474946baf99221f9c008948eaf2399c71 Community         All  \n",
       " f6ebc9f8c697480e39a24c388239c8ec977bf94a Mozilla Staff     All  \n",
       " f704093012a769d1e753444fadf7f18c6a982746 Community         All  \n",
       " f79dae145bb7db844d06f56202630ee98e4e2c7c Community         All  \n",
       " f802c1a228179da47a4066d08d428f47644e6c53 Community         All  \n",
       " f8bdb372b32076065652bc8027e8a66cf4301878 Community         All  \n",
       " f8d45463d0e551e28f5d939eb1ae38053963cf60 Community         All  \n",
       " f95c51b725fb353a8b4afca2b3f006b5c3192828 Community         All  \n",
       " fa92923efabac872fc2bfcdcc25c9330784dee90 Community         All  \n",
       " fac79d13a2cc38e67b84e2da770fac80049b61bb Community         All  \n",
       " fb9c0cb9dc4ac86cab31409bf052cc4b2a2d7d77 Community         All  \n",
       " fdbf3cb3c924a576b931dd91a684729a165ece70 Community         All  \n",
       " fe31b9d47f52171b44106ebb18e176117bd2a188 Mozilla Staff     All  \n",
       " ffc37980365bfbbc76045725216a0a8e9812a869 Community         All  \n",
       " \n",
       " [1203 rows x 3 columns],\n",
       "                                                         exp last_active  \\\n",
       " Author                                   Org                              \n",
       " 000063c4e47e93ab3b30607680609e4d2500ce5d Mozilla Staff    1        2014   \n",
       " 000336e205e3f5e2daa6e7a0b03e612b3b2b02d3 Mozilla Staff    1        2014   \n",
       " 000b0486e1fac53a6c55b0484bf905dc3bef4fdd Community        1        2014   \n",
       " 0014e7cebbe8ef11dab9eeb5f2111e01d9eea378 Mozilla Staff    4        2014   \n",
       " 002893ffe1425c220756f8ba4c78e1e3bb0be50f Mozilla Staff    4        2014   \n",
       " 004e177eeed820a5e1e534401984ddf9beb87124 Mozilla Staff    2        2014   \n",
       " 006fee3e0de309ff1e3e89c24f5e7032163c49c5 Mozilla Staff    3        2014   \n",
       " 00834d313bfc6fc60be1631bcc57b2c05ee2e0e3 Mozilla Staff    6        2014   \n",
       " 00846eff46b051d92317fc74e54041c6fdccd7cf Mozilla Staff    7        2014   \n",
       " 00cc7763cfcebc7d4a96e734d86cbcf607b24f3c Community        1        2014   \n",
       " 00da6ede3bff8db21a33473d7e552b76f50757eb Mozilla Staff    2        2014   \n",
       " 00ed7b25063cf90c8bdeb9d45d37b73ba2317f96 Mozilla Staff    3        2014   \n",
       " 01081562f7dd988d4759a2e1e9881d5f18c02d8c Mozilla Staff    4        2014   \n",
       " 0113220b14954de311e9d99f69338f0272c50dc7 Mozilla Staff    3        2014   \n",
       " 012f9fe0064209c2affd5810083edccc723b32a9 Mozilla Staff    8        2014   \n",
       " 01307140d33369746c5013f45295092f8752d378 Community        1        2014   \n",
       " 0132a781401c6360ffcb94afaa95516617bd57cf Community        1        2014   \n",
       " 0134e2ebeec7f2f1acf7c635b5b22e2c441bd3ec Mozilla Staff    5        2014   \n",
       " 016a5f2ec7191e74e984c71787b2b292d89543a1 Community        1        2014   \n",
       " 0183bd06d487bf71fd39a568ae892e3ec3079d82 Mozilla Staff    2        2014   \n",
       " 019ee580517ec3e8eb2c90ad0e3b2d749e9f0359 Code Sheriff     6        2014   \n",
       " 01a0ffd68e3b0ac6359b920e733043b6be0dba12 Community        4        2014   \n",
       " 01b36f5096db2e9bd47f3c2817644dec9e7dff17 Mozilla Staff    5        2014   \n",
       " 01c371a26cf45dcfe508a10f25a365ac513d3b7f Mozilla Staff    1        2014   \n",
       " 01ca76f54387ba2d6cd783641ceef8b65e45909b Mozilla Staff    1        2014   \n",
       " 01d6f58dc8a5f572206162fda0d2ce132f47abcd Mozilla Staff    2        2014   \n",
       " 01ed0a06c501f2d2a742a3c1784e95a2f6b18f81 Mozilla Staff    1        2014   \n",
       " 01f1000b22e6eaffaa64485433f92536f1b18e61 Mozilla Staff    4        2014   \n",
       " 01f34ad3deb857432c09281f062c4d9d7d9b70d0 Mozilla Staff    3        2014   \n",
       " 01f6b11405a898e4c79073f5a4505562bedc8e6b Mozilla Staff    3        2014   \n",
       " ...                                                     ...         ...   \n",
       " e7aea4d8eb9777ea157de0ec6bc59895828a2bc6 Community        1        2014   \n",
       " e8265eb43352f76551b6a747791f39b9903ad929 Mozilla Staff    1        2014   \n",
       " e83b57753bb28478d622b4b3747de08ff258bd14 Mozilla Staff    1        2014   \n",
       " e85d4796c2abbfb42a39be8e4ae3e847994719fd Mozilla Staff    5        2014   \n",
       " e9c6365891d01b92181e93a1447ab205f2f0a8b0 Community        1        2014   \n",
       " e9dd4c1c16e3b1bdb1f7149e52f8a90994c275d9 Community        1        2014   \n",
       " eb2e6a19ad569807d6480936753281d14a48b7db Community        1        2014   \n",
       " eb875fd1476048e95e32813937ddcbbbf7e74b9e Community        1        2014   \n",
       " ebc3918c9aa58903580c6207125d88e0f5004a26 Community        1        2014   \n",
       " eec6719e3393582ba03444f083350ddb1ae4cafe Community        1        2014   \n",
       " f0fddbdff42b482b9e7af32cfb857cb77c6b266e Community        2        2014   \n",
       " f2cb49add0aa9b512033cbfb1ef6893280281832 Community        4        2014   \n",
       " f42ff4794cb3fc2072adbf6244975e3655477bd2 Community        1        2014   \n",
       " f446edf7f1d25dbbf3d484000f99a5c62dab8b93 Community        3        2014   \n",
       " f5194760b3c69840a1a6f330f0f608943bf3ccbb Community        2        2014   \n",
       " f554bda8bf16d35daf7a6253a77fff4bb169dab8 Community        1        2014   \n",
       " f6ebc9f8c697480e39a24c388239c8ec977bf94a Mozilla Staff    2        2014   \n",
       " f72e2f897d208cd0e7e508442f774dd3bf68d945 Community        1        2014   \n",
       " f748fcce1c0a409e73cea35446160c5553a30cd8 Community        3        2014   \n",
       " f79dae145bb7db844d06f56202630ee98e4e2c7c Community        1        2014   \n",
       " f802c1a228179da47a4066d08d428f47644e6c53 Community        6        2014   \n",
       " f9e53aab8811404b02ac49fb6a281919031998e1 Community        1        2014   \n",
       " fa96ab73e0410aa25434e502c2f5a56a921bc7ef Community        1        2014   \n",
       " fac79d13a2cc38e67b84e2da770fac80049b61bb Community        1        2014   \n",
       " fc1202801ecba53ad5d579d55a2bef76bd2e713c Community        2        2014   \n",
       " fc2a4fcaf521209fc4ca44b1b5547b5af86bab9d Community        1        2014   \n",
       " fdbf3cb3c924a576b931dd91a684729a165ece70 Community        1        2014   \n",
       " fe1f17354c916011eb93fcacb5bdf48a92d89d69 Mozilla Staff    5        2014   \n",
       " fe31b9d47f52171b44106ebb18e176117bd2a188 Mozilla Staff    3        2014   \n",
       " ffa9fc7b3289712802bcaa7ad30bfa215ae2e475 Community        1        2014   \n",
       " \n",
       "                                                        project  \n",
       " Author                                   Org                    \n",
       " 000063c4e47e93ab3b30607680609e4d2500ce5d Mozilla Staff     All  \n",
       " 000336e205e3f5e2daa6e7a0b03e612b3b2b02d3 Mozilla Staff     All  \n",
       " 000b0486e1fac53a6c55b0484bf905dc3bef4fdd Community         All  \n",
       " 0014e7cebbe8ef11dab9eeb5f2111e01d9eea378 Mozilla Staff     All  \n",
       " 002893ffe1425c220756f8ba4c78e1e3bb0be50f Mozilla Staff     All  \n",
       " 004e177eeed820a5e1e534401984ddf9beb87124 Mozilla Staff     All  \n",
       " 006fee3e0de309ff1e3e89c24f5e7032163c49c5 Mozilla Staff     All  \n",
       " 00834d313bfc6fc60be1631bcc57b2c05ee2e0e3 Mozilla Staff     All  \n",
       " 00846eff46b051d92317fc74e54041c6fdccd7cf Mozilla Staff     All  \n",
       " 00cc7763cfcebc7d4a96e734d86cbcf607b24f3c Community         All  \n",
       " 00da6ede3bff8db21a33473d7e552b76f50757eb Mozilla Staff     All  \n",
       " 00ed7b25063cf90c8bdeb9d45d37b73ba2317f96 Mozilla Staff     All  \n",
       " 01081562f7dd988d4759a2e1e9881d5f18c02d8c Mozilla Staff     All  \n",
       " 0113220b14954de311e9d99f69338f0272c50dc7 Mozilla Staff     All  \n",
       " 012f9fe0064209c2affd5810083edccc723b32a9 Mozilla Staff     All  \n",
       " 01307140d33369746c5013f45295092f8752d378 Community         All  \n",
       " 0132a781401c6360ffcb94afaa95516617bd57cf Community         All  \n",
       " 0134e2ebeec7f2f1acf7c635b5b22e2c441bd3ec Mozilla Staff     All  \n",
       " 016a5f2ec7191e74e984c71787b2b292d89543a1 Community         All  \n",
       " 0183bd06d487bf71fd39a568ae892e3ec3079d82 Mozilla Staff     All  \n",
       " 019ee580517ec3e8eb2c90ad0e3b2d749e9f0359 Code Sheriff      All  \n",
       " 01a0ffd68e3b0ac6359b920e733043b6be0dba12 Community         All  \n",
       " 01b36f5096db2e9bd47f3c2817644dec9e7dff17 Mozilla Staff     All  \n",
       " 01c371a26cf45dcfe508a10f25a365ac513d3b7f Mozilla Staff     All  \n",
       " 01ca76f54387ba2d6cd783641ceef8b65e45909b Mozilla Staff     All  \n",
       " 01d6f58dc8a5f572206162fda0d2ce132f47abcd Mozilla Staff     All  \n",
       " 01ed0a06c501f2d2a742a3c1784e95a2f6b18f81 Mozilla Staff     All  \n",
       " 01f1000b22e6eaffaa64485433f92536f1b18e61 Mozilla Staff     All  \n",
       " 01f34ad3deb857432c09281f062c4d9d7d9b70d0 Mozilla Staff     All  \n",
       " 01f6b11405a898e4c79073f5a4505562bedc8e6b Mozilla Staff     All  \n",
       " ...                                                        ...  \n",
       " e7aea4d8eb9777ea157de0ec6bc59895828a2bc6 Community         All  \n",
       " e8265eb43352f76551b6a747791f39b9903ad929 Mozilla Staff     All  \n",
       " e83b57753bb28478d622b4b3747de08ff258bd14 Mozilla Staff     All  \n",
       " e85d4796c2abbfb42a39be8e4ae3e847994719fd Mozilla Staff     All  \n",
       " e9c6365891d01b92181e93a1447ab205f2f0a8b0 Community         All  \n",
       " e9dd4c1c16e3b1bdb1f7149e52f8a90994c275d9 Community         All  \n",
       " eb2e6a19ad569807d6480936753281d14a48b7db Community         All  \n",
       " eb875fd1476048e95e32813937ddcbbbf7e74b9e Community         All  \n",
       " ebc3918c9aa58903580c6207125d88e0f5004a26 Community         All  \n",
       " eec6719e3393582ba03444f083350ddb1ae4cafe Community         All  \n",
       " f0fddbdff42b482b9e7af32cfb857cb77c6b266e Community         All  \n",
       " f2cb49add0aa9b512033cbfb1ef6893280281832 Community         All  \n",
       " f42ff4794cb3fc2072adbf6244975e3655477bd2 Community         All  \n",
       " f446edf7f1d25dbbf3d484000f99a5c62dab8b93 Community         All  \n",
       " f5194760b3c69840a1a6f330f0f608943bf3ccbb Community         All  \n",
       " f554bda8bf16d35daf7a6253a77fff4bb169dab8 Community         All  \n",
       " f6ebc9f8c697480e39a24c388239c8ec977bf94a Mozilla Staff     All  \n",
       " f72e2f897d208cd0e7e508442f774dd3bf68d945 Community         All  \n",
       " f748fcce1c0a409e73cea35446160c5553a30cd8 Community         All  \n",
       " f79dae145bb7db844d06f56202630ee98e4e2c7c Community         All  \n",
       " f802c1a228179da47a4066d08d428f47644e6c53 Community         All  \n",
       " f9e53aab8811404b02ac49fb6a281919031998e1 Community         All  \n",
       " fa96ab73e0410aa25434e502c2f5a56a921bc7ef Community         All  \n",
       " fac79d13a2cc38e67b84e2da770fac80049b61bb Community         All  \n",
       " fc1202801ecba53ad5d579d55a2bef76bd2e713c Community         All  \n",
       " fc2a4fcaf521209fc4ca44b1b5547b5af86bab9d Community         All  \n",
       " fdbf3cb3c924a576b931dd91a684729a165ece70 Community         All  \n",
       " fe1f17354c916011eb93fcacb5bdf48a92d89d69 Mozilla Staff     All  \n",
       " fe31b9d47f52171b44106ebb18e176117bd2a188 Mozilla Staff     All  \n",
       " ffa9fc7b3289712802bcaa7ad30bfa215ae2e475 Community         All  \n",
       " \n",
       " [1158 rows x 3 columns],\n",
       "                                                         exp last_active  \\\n",
       " Author                                   Org                              \n",
       " 0008be398d86323b7ead363c4bbc11ea13ec731f Community        2        2013   \n",
       " 0014e7cebbe8ef11dab9eeb5f2111e01d9eea378 Mozilla Staff    3        2013   \n",
       " 002893ffe1425c220756f8ba4c78e1e3bb0be50f Mozilla Staff    3        2013   \n",
       " 006fee3e0de309ff1e3e89c24f5e7032163c49c5 Mozilla Staff    2        2013   \n",
       " 00834d313bfc6fc60be1631bcc57b2c05ee2e0e3 Mozilla Staff    5        2013   \n",
       " 00846eff46b051d92317fc74e54041c6fdccd7cf Mozilla Staff    6        2013   \n",
       " 00890cbe5133b67bfa1021485959d2b42c11f4f8 Mozilla Staff    5        2013   \n",
       " 00c1e252b234a2133dab43e15b35a6b93e257171 Community        1        2013   \n",
       " 00da6ede3bff8db21a33473d7e552b76f50757eb Mozilla Staff    1        2013   \n",
       " 00e32ac2299ebf90ac6841cb01dad97768209dd9 Mozilla Staff    1        2013   \n",
       " 00ed7b25063cf90c8bdeb9d45d37b73ba2317f96 Mozilla Staff    2        2013   \n",
       " 01081562f7dd988d4759a2e1e9881d5f18c02d8c Mozilla Staff    3        2013   \n",
       " 0113220b14954de311e9d99f69338f0272c50dc7 Mozilla Staff    2        2013   \n",
       " 012f9fe0064209c2affd5810083edccc723b32a9 Mozilla Staff    7        2013   \n",
       " 0134e2ebeec7f2f1acf7c635b5b22e2c441bd3ec Mozilla Staff    4        2013   \n",
       " 016dd3752addfe79920fcaa2934d0961c510d116 Mozilla Staff    3        2013   \n",
       " 0170d5f0fceacd5683a9749a20e7234d0d58cb45 Mozilla Staff    1        2013   \n",
       " 0183bd06d487bf71fd39a568ae892e3ec3079d82 Mozilla Staff    1        2013   \n",
       " 019ee580517ec3e8eb2c90ad0e3b2d749e9f0359 Code Sheriff     5        2013   \n",
       " 01a0ffd68e3b0ac6359b920e733043b6be0dba12 Community        3        2013   \n",
       " 01b36f5096db2e9bd47f3c2817644dec9e7dff17 Mozilla Staff    4        2013   \n",
       " 01d6f58dc8a5f572206162fda0d2ce132f47abcd Mozilla Staff    1        2013   \n",
       " 01f1000b22e6eaffaa64485433f92536f1b18e61 Mozilla Staff    3        2013   \n",
       " 01f34ad3deb857432c09281f062c4d9d7d9b70d0 Mozilla Staff    2        2013   \n",
       " 01f6b11405a898e4c79073f5a4505562bedc8e6b Mozilla Staff    2        2013   \n",
       " 0202b7aab723eeeee876182492a008ec217648cc Mozilla Staff    3        2013   \n",
       " 020e546c6211feb97546084461eeb7cdae47664a Mozilla Staff    4        2013   \n",
       " 022ca58ad3637ab6a3023260dbb86b083dd2b5e8 Mozilla Staff    2        2013   \n",
       " 0252283062db18639ab5829674ecf042b723f47d Mozilla Staff    2        2013   \n",
       " 025a230fb21539cf723c7592bfe38b8627695784 Mozilla Staff    2        2013   \n",
       " ...                                                     ...         ...   \n",
       " e54cc15afd5245d872c78b4b23a15e66f68f312b Community        1        2013   \n",
       " e663cd2c83c79695ef130cd3432897097b69f7b3 Mozilla Staff    3        2013   \n",
       " e7a5a14f8de50a17a46a98b84e38eaa3b498f0ca Community        2        2013   \n",
       " e85d4796c2abbfb42a39be8e4ae3e847994719fd Mozilla Staff    4        2013   \n",
       " e966b00aa43653eaaf80b0310465f012e8b7bf4e Community        1        2013   \n",
       " eaeb146ef30844308ab428bc54091f1f5a1b2f8b Community        1        2013   \n",
       " ec0475152b9e9e63d3870b5b039f9521fbfb6d04 Community        1        2013   \n",
       " ec5966e64600a10abac30c7eceab7310ead65421 Community        1        2013   \n",
       " ed7c19b919ccb9c22105fba73c5fd68eb11acc28 Community        1        2013   \n",
       " ef24eb95864e006986e60d4539fc8c6af1a16585 Mozilla Staff    1        2013   \n",
       " f0fddbdff42b482b9e7af32cfb857cb77c6b266e Community        1        2013   \n",
       " f12765edc6d8ffa8abeda3aaa3d9978f4faf4f87 Community        2        2013   \n",
       " f2271370251341e4f599306d60f3939ff6c61dde Community        4        2013   \n",
       " f24699f4553847607b851747594fdbf92e1c7a00 Mozilla Staff    1        2013   \n",
       " f2cb49add0aa9b512033cbfb1ef6893280281832 Community        3        2013   \n",
       " f3b6dc42d581f624de6f2934115fd9cfc507b686 Community        1        2013   \n",
       " f42cb8f0ef7a2bfdf2d476c3967e314b749d06c3 Community        1        2013   \n",
       " f446edf7f1d25dbbf3d484000f99a5c62dab8b93 Community        2        2013   \n",
       " f5194760b3c69840a1a6f330f0f608943bf3ccbb Community        1        2013   \n",
       " f6ebc9f8c697480e39a24c388239c8ec977bf94a Mozilla Staff    1        2013   \n",
       " f748fcce1c0a409e73cea35446160c5553a30cd8 Community        2        2013   \n",
       " f802c1a228179da47a4066d08d428f47644e6c53 Community        5        2013   \n",
       " f9da691990f12855cd5c5fd919fdccc4b3880c50 Community        1        2013   \n",
       " fc1202801ecba53ad5d579d55a2bef76bd2e713c Community        1        2013   \n",
       " fc51fff5dc2d242a2783025c9b56e6acabe5b882 Mozilla Staff    1        2013   \n",
       " fd1b9ea92cb9187f4f9b07f92a3b33e095698dca Community        1        2013   \n",
       " fe1f17354c916011eb93fcacb5bdf48a92d89d69 Mozilla Staff    4        2013   \n",
       " fe31b9d47f52171b44106ebb18e176117bd2a188 Mozilla Staff    2        2013   \n",
       " fec9a42db9f14de47be9f31294f28b42a1b839fb Community        1        2013   \n",
       " ff0c6cd0df92b5090dfd08ba4b97746c23637214 Community        1        2013   \n",
       " \n",
       "                                                        project  \n",
       " Author                                   Org                    \n",
       " 0008be398d86323b7ead363c4bbc11ea13ec731f Community         All  \n",
       " 0014e7cebbe8ef11dab9eeb5f2111e01d9eea378 Mozilla Staff     All  \n",
       " 002893ffe1425c220756f8ba4c78e1e3bb0be50f Mozilla Staff     All  \n",
       " 006fee3e0de309ff1e3e89c24f5e7032163c49c5 Mozilla Staff     All  \n",
       " 00834d313bfc6fc60be1631bcc57b2c05ee2e0e3 Mozilla Staff     All  \n",
       " 00846eff46b051d92317fc74e54041c6fdccd7cf Mozilla Staff     All  \n",
       " 00890cbe5133b67bfa1021485959d2b42c11f4f8 Mozilla Staff     All  \n",
       " 00c1e252b234a2133dab43e15b35a6b93e257171 Community         All  \n",
       " 00da6ede3bff8db21a33473d7e552b76f50757eb Mozilla Staff     All  \n",
       " 00e32ac2299ebf90ac6841cb01dad97768209dd9 Mozilla Staff     All  \n",
       " 00ed7b25063cf90c8bdeb9d45d37b73ba2317f96 Mozilla Staff     All  \n",
       " 01081562f7dd988d4759a2e1e9881d5f18c02d8c Mozilla Staff     All  \n",
       " 0113220b14954de311e9d99f69338f0272c50dc7 Mozilla Staff     All  \n",
       " 012f9fe0064209c2affd5810083edccc723b32a9 Mozilla Staff     All  \n",
       " 0134e2ebeec7f2f1acf7c635b5b22e2c441bd3ec Mozilla Staff     All  \n",
       " 016dd3752addfe79920fcaa2934d0961c510d116 Mozilla Staff     All  \n",
       " 0170d5f0fceacd5683a9749a20e7234d0d58cb45 Mozilla Staff     All  \n",
       " 0183bd06d487bf71fd39a568ae892e3ec3079d82 Mozilla Staff     All  \n",
       " 019ee580517ec3e8eb2c90ad0e3b2d749e9f0359 Code Sheriff      All  \n",
       " 01a0ffd68e3b0ac6359b920e733043b6be0dba12 Community         All  \n",
       " 01b36f5096db2e9bd47f3c2817644dec9e7dff17 Mozilla Staff     All  \n",
       " 01d6f58dc8a5f572206162fda0d2ce132f47abcd Mozilla Staff     All  \n",
       " 01f1000b22e6eaffaa64485433f92536f1b18e61 Mozilla Staff     All  \n",
       " 01f34ad3deb857432c09281f062c4d9d7d9b70d0 Mozilla Staff     All  \n",
       " 01f6b11405a898e4c79073f5a4505562bedc8e6b Mozilla Staff     All  \n",
       " 0202b7aab723eeeee876182492a008ec217648cc Mozilla Staff     All  \n",
       " 020e546c6211feb97546084461eeb7cdae47664a Mozilla Staff     All  \n",
       " 022ca58ad3637ab6a3023260dbb86b083dd2b5e8 Mozilla Staff     All  \n",
       " 0252283062db18639ab5829674ecf042b723f47d Mozilla Staff     All  \n",
       " 025a230fb21539cf723c7592bfe38b8627695784 Mozilla Staff     All  \n",
       " ...                                                        ...  \n",
       " e54cc15afd5245d872c78b4b23a15e66f68f312b Community         All  \n",
       " e663cd2c83c79695ef130cd3432897097b69f7b3 Mozilla Staff     All  \n",
       " e7a5a14f8de50a17a46a98b84e38eaa3b498f0ca Community         All  \n",
       " e85d4796c2abbfb42a39be8e4ae3e847994719fd Mozilla Staff     All  \n",
       " e966b00aa43653eaaf80b0310465f012e8b7bf4e Community         All  \n",
       " eaeb146ef30844308ab428bc54091f1f5a1b2f8b Community         All  \n",
       " ec0475152b9e9e63d3870b5b039f9521fbfb6d04 Community         All  \n",
       " ec5966e64600a10abac30c7eceab7310ead65421 Community         All  \n",
       " ed7c19b919ccb9c22105fba73c5fd68eb11acc28 Community         All  \n",
       " ef24eb95864e006986e60d4539fc8c6af1a16585 Mozilla Staff     All  \n",
       " f0fddbdff42b482b9e7af32cfb857cb77c6b266e Community         All  \n",
       " f12765edc6d8ffa8abeda3aaa3d9978f4faf4f87 Community         All  \n",
       " f2271370251341e4f599306d60f3939ff6c61dde Community         All  \n",
       " f24699f4553847607b851747594fdbf92e1c7a00 Mozilla Staff     All  \n",
       " f2cb49add0aa9b512033cbfb1ef6893280281832 Community         All  \n",
       " f3b6dc42d581f624de6f2934115fd9cfc507b686 Community         All  \n",
       " f42cb8f0ef7a2bfdf2d476c3967e314b749d06c3 Community         All  \n",
       " f446edf7f1d25dbbf3d484000f99a5c62dab8b93 Community         All  \n",
       " f5194760b3c69840a1a6f330f0f608943bf3ccbb Community         All  \n",
       " f6ebc9f8c697480e39a24c388239c8ec977bf94a Mozilla Staff     All  \n",
       " f748fcce1c0a409e73cea35446160c5553a30cd8 Community         All  \n",
       " f802c1a228179da47a4066d08d428f47644e6c53 Community         All  \n",
       " f9da691990f12855cd5c5fd919fdccc4b3880c50 Community         All  \n",
       " fc1202801ecba53ad5d579d55a2bef76bd2e713c Community         All  \n",
       " fc51fff5dc2d242a2783025c9b56e6acabe5b882 Mozilla Staff     All  \n",
       " fd1b9ea92cb9187f4f9b07f92a3b33e095698dca Community         All  \n",
       " fe1f17354c916011eb93fcacb5bdf48a92d89d69 Mozilla Staff     All  \n",
       " fe31b9d47f52171b44106ebb18e176117bd2a188 Mozilla Staff     All  \n",
       " fec9a42db9f14de47be9f31294f28b42a1b839fb Community         All  \n",
       " ff0c6cd0df92b5090dfd08ba4b97746c23637214 Community         All  \n",
       " \n",
       " [970 rows x 3 columns],\n",
       "                                                         exp last_active  \\\n",
       " Author                                   Org                              \n",
       " 0008be398d86323b7ead363c4bbc11ea13ec731f Community        1        2012   \n",
       " 0014e7cebbe8ef11dab9eeb5f2111e01d9eea378 Mozilla Staff    2        2012   \n",
       " 002893ffe1425c220756f8ba4c78e1e3bb0be50f Mozilla Staff    2        2012   \n",
       " 004e177eeed820a5e1e534401984ddf9beb87124 Mozilla Staff    1        2012   \n",
       " 005adcf96e7f9f333e5ff413f7608784aefdacee Mozilla Staff    1        2012   \n",
       " 006fee3e0de309ff1e3e89c24f5e7032163c49c5 Mozilla Staff    1        2012   \n",
       " 00834d313bfc6fc60be1631bcc57b2c05ee2e0e3 Mozilla Staff    4        2012   \n",
       " 00846eff46b051d92317fc74e54041c6fdccd7cf Mozilla Staff    5        2012   \n",
       " 00890cbe5133b67bfa1021485959d2b42c11f4f8 Mozilla Staff    4        2012   \n",
       " 00a65e9f51147e4f416ded3f494dd4bfc0977979 Mozilla Staff    2        2012   \n",
       " 00b52ff65a87aab1c303af9b307281582ce91676 Community        2        2012   \n",
       " 00ed7b25063cf90c8bdeb9d45d37b73ba2317f96 Mozilla Staff    1        2012   \n",
       " 01081562f7dd988d4759a2e1e9881d5f18c02d8c Mozilla Staff    2        2012   \n",
       " 0113220b14954de311e9d99f69338f0272c50dc7 Mozilla Staff    1        2012   \n",
       " 012f9fe0064209c2affd5810083edccc723b32a9 Mozilla Staff    6        2012   \n",
       " 0134e2ebeec7f2f1acf7c635b5b22e2c441bd3ec Mozilla Staff    3        2012   \n",
       " 016dd3752addfe79920fcaa2934d0961c510d116 Mozilla Staff    2        2012   \n",
       " 017b7dd849bb5376199cc45e8058c4d31d12d916 Community        2        2012   \n",
       " 019ee580517ec3e8eb2c90ad0e3b2d749e9f0359 Code Sheriff     4        2012   \n",
       " 01b36f5096db2e9bd47f3c2817644dec9e7dff17 Mozilla Staff    3        2012   \n",
       " 01f1000b22e6eaffaa64485433f92536f1b18e61 Mozilla Staff    2        2012   \n",
       " 01f34ad3deb857432c09281f062c4d9d7d9b70d0 Mozilla Staff    1        2012   \n",
       " 01f6b11405a898e4c79073f5a4505562bedc8e6b Mozilla Staff    1        2012   \n",
       " 0202b7aab723eeeee876182492a008ec217648cc Mozilla Staff    2        2012   \n",
       " 020e546c6211feb97546084461eeb7cdae47664a Mozilla Staff    3        2012   \n",
       " 022ca58ad3637ab6a3023260dbb86b083dd2b5e8 Mozilla Staff    1        2012   \n",
       " 0252283062db18639ab5829674ecf042b723f47d Mozilla Staff    1        2012   \n",
       " 025a230fb21539cf723c7592bfe38b8627695784 Mozilla Staff    1        2012   \n",
       " 026522d234b638f8e9f95eb901eef6d268198e4b Community        1        2012   \n",
       " 026dadb4b4a80d0784bc5dd83ba8416c9df67bef Mozilla Staff    6        2012   \n",
       " ...                                                     ...         ...   \n",
       " dcd489f55fe07dd1ee5529e8b5e442d35560bee2 Mozilla Staff    2        2012   \n",
       " dcf0ad7c7242ee8dec15eaf5fd8070f864070f98 Community        1        2012   \n",
       " dcfa4e4ec7f5941493e5ef16df2bb067dd0ad9f4 Mozilla Staff    2        2012   \n",
       " dd70bc888feec947a995798b2ab13f1eaa24c8b4 Community        2        2012   \n",
       " de3fc7ffb0e2b8f3b71fe42dbb92f837a1ce8d26 Community        2        2012   \n",
       " e1486ff2023c2195fc83ae27be7c817a7b68d3d2 Mozilla Staff    5        2012   \n",
       " e205a50e339ef5c2ecbecccc4c9a9e7952c62766 Mozilla Staff    2        2012   \n",
       " e356029152a72b090c8411100b11c7307cd1541d Community        1        2012   \n",
       " e3dd80ab4851934bb436d665ed43718273bff73d Community        1        2012   \n",
       " e663cd2c83c79695ef130cd3432897097b69f7b3 Mozilla Staff    2        2012   \n",
       " e6a2f90a718952d605111ef07b92529f58b8d1f6 Community        1        2012   \n",
       " e7a5a14f8de50a17a46a98b84e38eaa3b498f0ca Community        1        2012   \n",
       " e85d4796c2abbfb42a39be8e4ae3e847994719fd Mozilla Staff    3        2012   \n",
       " ec53ad67f5b23f28cb0c2f2284041a826aba9c05 Community        4        2012   \n",
       " ecc0aedea8fc75d82d8f3dbd2c424215ef1d558c Community        1        2012   \n",
       " ed545a1c9d4ba5a81431daaf6ea715a1335320e9 Community        1        2012   \n",
       " eda4a57313700c62c84ade6b3e80765f6ca329ab Community        1        2012   \n",
       " ee3b8af5e0130ce4a56553dd1542fdae0e177695 Community        1        2012   \n",
       " f12765edc6d8ffa8abeda3aaa3d9978f4faf4f87 Community        1        2012   \n",
       " f2271370251341e4f599306d60f3939ff6c61dde Community        3        2012   \n",
       " f2cb49add0aa9b512033cbfb1ef6893280281832 Community        2        2012   \n",
       " f446edf7f1d25dbbf3d484000f99a5c62dab8b93 Community        1        2012   \n",
       " f537b7e9a9d081958222825becde1eb684b72198 Mozilla Staff    2        2012   \n",
       " f73deafdc34c24d2b070ccd360ae625fd7f8116d Community        1        2012   \n",
       " f748fcce1c0a409e73cea35446160c5553a30cd8 Community        1        2012   \n",
       " f802c1a228179da47a4066d08d428f47644e6c53 Community        4        2012   \n",
       " fac12cc625f7cf05596762597710825df70ff77a Community        2        2012   \n",
       " fc0b2608dc70214afc0cd041404fa4850f562ba9 Community        2        2012   \n",
       " fe1f17354c916011eb93fcacb5bdf48a92d89d69 Mozilla Staff    3        2012   \n",
       " fe31b9d47f52171b44106ebb18e176117bd2a188 Mozilla Staff    1        2012   \n",
       " \n",
       "                                                        project  \n",
       " Author                                   Org                    \n",
       " 0008be398d86323b7ead363c4bbc11ea13ec731f Community         All  \n",
       " 0014e7cebbe8ef11dab9eeb5f2111e01d9eea378 Mozilla Staff     All  \n",
       " 002893ffe1425c220756f8ba4c78e1e3bb0be50f Mozilla Staff     All  \n",
       " 004e177eeed820a5e1e534401984ddf9beb87124 Mozilla Staff     All  \n",
       " 005adcf96e7f9f333e5ff413f7608784aefdacee Mozilla Staff     All  \n",
       " 006fee3e0de309ff1e3e89c24f5e7032163c49c5 Mozilla Staff     All  \n",
       " 00834d313bfc6fc60be1631bcc57b2c05ee2e0e3 Mozilla Staff     All  \n",
       " 00846eff46b051d92317fc74e54041c6fdccd7cf Mozilla Staff     All  \n",
       " 00890cbe5133b67bfa1021485959d2b42c11f4f8 Mozilla Staff     All  \n",
       " 00a65e9f51147e4f416ded3f494dd4bfc0977979 Mozilla Staff     All  \n",
       " 00b52ff65a87aab1c303af9b307281582ce91676 Community         All  \n",
       " 00ed7b25063cf90c8bdeb9d45d37b73ba2317f96 Mozilla Staff     All  \n",
       " 01081562f7dd988d4759a2e1e9881d5f18c02d8c Mozilla Staff     All  \n",
       " 0113220b14954de311e9d99f69338f0272c50dc7 Mozilla Staff     All  \n",
       " 012f9fe0064209c2affd5810083edccc723b32a9 Mozilla Staff     All  \n",
       " 0134e2ebeec7f2f1acf7c635b5b22e2c441bd3ec Mozilla Staff     All  \n",
       " 016dd3752addfe79920fcaa2934d0961c510d116 Mozilla Staff     All  \n",
       " 017b7dd849bb5376199cc45e8058c4d31d12d916 Community         All  \n",
       " 019ee580517ec3e8eb2c90ad0e3b2d749e9f0359 Code Sheriff      All  \n",
       " 01b36f5096db2e9bd47f3c2817644dec9e7dff17 Mozilla Staff     All  \n",
       " 01f1000b22e6eaffaa64485433f92536f1b18e61 Mozilla Staff     All  \n",
       " 01f34ad3deb857432c09281f062c4d9d7d9b70d0 Mozilla Staff     All  \n",
       " 01f6b11405a898e4c79073f5a4505562bedc8e6b Mozilla Staff     All  \n",
       " 0202b7aab723eeeee876182492a008ec217648cc Mozilla Staff     All  \n",
       " 020e546c6211feb97546084461eeb7cdae47664a Mozilla Staff     All  \n",
       " 022ca58ad3637ab6a3023260dbb86b083dd2b5e8 Mozilla Staff     All  \n",
       " 0252283062db18639ab5829674ecf042b723f47d Mozilla Staff     All  \n",
       " 025a230fb21539cf723c7592bfe38b8627695784 Mozilla Staff     All  \n",
       " 026522d234b638f8e9f95eb901eef6d268198e4b Community         All  \n",
       " 026dadb4b4a80d0784bc5dd83ba8416c9df67bef Mozilla Staff     All  \n",
       " ...                                                        ...  \n",
       " dcd489f55fe07dd1ee5529e8b5e442d35560bee2 Mozilla Staff     All  \n",
       " dcf0ad7c7242ee8dec15eaf5fd8070f864070f98 Community         All  \n",
       " dcfa4e4ec7f5941493e5ef16df2bb067dd0ad9f4 Mozilla Staff     All  \n",
       " dd70bc888feec947a995798b2ab13f1eaa24c8b4 Community         All  \n",
       " de3fc7ffb0e2b8f3b71fe42dbb92f837a1ce8d26 Community         All  \n",
       " e1486ff2023c2195fc83ae27be7c817a7b68d3d2 Mozilla Staff     All  \n",
       " e205a50e339ef5c2ecbecccc4c9a9e7952c62766 Mozilla Staff     All  \n",
       " e356029152a72b090c8411100b11c7307cd1541d Community         All  \n",
       " e3dd80ab4851934bb436d665ed43718273bff73d Community         All  \n",
       " e663cd2c83c79695ef130cd3432897097b69f7b3 Mozilla Staff     All  \n",
       " e6a2f90a718952d605111ef07b92529f58b8d1f6 Community         All  \n",
       " e7a5a14f8de50a17a46a98b84e38eaa3b498f0ca Community         All  \n",
       " e85d4796c2abbfb42a39be8e4ae3e847994719fd Mozilla Staff     All  \n",
       " ec53ad67f5b23f28cb0c2f2284041a826aba9c05 Community         All  \n",
       " ecc0aedea8fc75d82d8f3dbd2c424215ef1d558c Community         All  \n",
       " ed545a1c9d4ba5a81431daaf6ea715a1335320e9 Community         All  \n",
       " eda4a57313700c62c84ade6b3e80765f6ca329ab Community         All  \n",
       " ee3b8af5e0130ce4a56553dd1542fdae0e177695 Community         All  \n",
       " f12765edc6d8ffa8abeda3aaa3d9978f4faf4f87 Community         All  \n",
       " f2271370251341e4f599306d60f3939ff6c61dde Community         All  \n",
       " f2cb49add0aa9b512033cbfb1ef6893280281832 Community         All  \n",
       " f446edf7f1d25dbbf3d484000f99a5c62dab8b93 Community         All  \n",
       " f537b7e9a9d081958222825becde1eb684b72198 Mozilla Staff     All  \n",
       " f73deafdc34c24d2b070ccd360ae625fd7f8116d Community         All  \n",
       " f748fcce1c0a409e73cea35446160c5553a30cd8 Community         All  \n",
       " f802c1a228179da47a4066d08d428f47644e6c53 Community         All  \n",
       " fac12cc625f7cf05596762597710825df70ff77a Community         All  \n",
       " fc0b2608dc70214afc0cd041404fa4850f562ba9 Community         All  \n",
       " fe1f17354c916011eb93fcacb5bdf48a92d89d69 Mozilla Staff     All  \n",
       " fe31b9d47f52171b44106ebb18e176117bd2a188 Mozilla Staff     All  \n",
       " \n",
       " [802 rows x 3 columns],\n",
       "                                                         exp last_active  \\\n",
       " Author                                   Org                              \n",
       " 0014e7cebbe8ef11dab9eeb5f2111e01d9eea378 Mozilla Staff    1        2011   \n",
       " 002893ffe1425c220756f8ba4c78e1e3bb0be50f Mozilla Staff    1        2011   \n",
       " 00640f5b3dc155e70ea0d9811009ebbc0e7d4cba Community        1        2011   \n",
       " 00834d313bfc6fc60be1631bcc57b2c05ee2e0e3 Mozilla Staff    3        2011   \n",
       " 00846eff46b051d92317fc74e54041c6fdccd7cf Mozilla Staff    4        2011   \n",
       " 00890cbe5133b67bfa1021485959d2b42c11f4f8 Mozilla Staff    3        2011   \n",
       " 00a65e9f51147e4f416ded3f494dd4bfc0977979 Mozilla Staff    1        2011   \n",
       " 00b52ff65a87aab1c303af9b307281582ce91676 Community        1        2011   \n",
       " 00c38f0a5e44692e3722cd5087b3cbc0f45f56fd Community        1        2011   \n",
       " 01081562f7dd988d4759a2e1e9881d5f18c02d8c Mozilla Staff    1        2011   \n",
       " 012f9fe0064209c2affd5810083edccc723b32a9 Mozilla Staff    5        2011   \n",
       " 0134e2ebeec7f2f1acf7c635b5b22e2c441bd3ec Mozilla Staff    2        2011   \n",
       " 015d87534f70c362eb2ce0430b2d6886e328223c Mozilla Staff    2        2011   \n",
       " 016dd3752addfe79920fcaa2934d0961c510d116 Mozilla Staff    1        2011   \n",
       " 017b7dd849bb5376199cc45e8058c4d31d12d916 Community        1        2011   \n",
       " 019ee580517ec3e8eb2c90ad0e3b2d749e9f0359 Code Sheriff     3        2011   \n",
       " 01a0ffd68e3b0ac6359b920e733043b6be0dba12 Community        2        2011   \n",
       " 01b36f5096db2e9bd47f3c2817644dec9e7dff17 Mozilla Staff    2        2011   \n",
       " 01f1000b22e6eaffaa64485433f92536f1b18e61 Mozilla Staff    1        2011   \n",
       " 0202b7aab723eeeee876182492a008ec217648cc Mozilla Staff    1        2011   \n",
       " 020e546c6211feb97546084461eeb7cdae47664a Mozilla Staff    2        2011   \n",
       " 021020a1b3c27b55aa68b96f49c58487736abf46 Mozilla Staff    3        2011   \n",
       " 02228264064bde39b7dfef6d3e3e7554ad920703 Mozilla Staff    1        2011   \n",
       " 023f15dd0cf615a4c08b7d531f0189fce5251297 Mozilla Staff    1        2011   \n",
       " 026dadb4b4a80d0784bc5dd83ba8416c9df67bef Mozilla Staff    5        2011   \n",
       " 02872b802fa8e325403cf28ff1e8948388fe21d8 Mozilla Staff    2        2011   \n",
       " 02883a798795129e8b7a314b8435ca30d690105c Mozilla Staff    3        2011   \n",
       " 02b8b17f5bd2baee37ed67709df58f899f2f57b7 Mozilla Staff    3        2011   \n",
       " 02c80b820108371e66ae5d904ce2371ef1190933 Mozilla Staff    5        2011   \n",
       " 02d8d3650614834265cf356f6cb2b2238fe06861 Mozilla Staff    1        2011   \n",
       " ...                                                     ...         ...   \n",
       " d5da984b577eef52786fe09ed94f75ae888cbbd9 Community        4        2011   \n",
       " d60f201ba0d733188f36b4c5e10c468858c0d9fe Community        1        2011   \n",
       " d61a0273230104344af3820498da86a536a91e2a Community        2        2011   \n",
       " d6bb8bfe87a249a68a0087dadc6c9a5ded7a7d62 Community        1        2011   \n",
       " d79a929308e748c9fdc73b70d08d536c44e7731d Community        1        2011   \n",
       " d82920e8bc28327ae0a44e63f333d34403e0d89e Mozilla Staff    1        2011   \n",
       " dbfacf4442af967cf4297634bc44065ac3ebf49b Mozilla Staff    1        2011   \n",
       " dc3be6b2492c012b7c20cbc790a1c00b546111b1 Community        1        2011   \n",
       " dcd489f55fe07dd1ee5529e8b5e442d35560bee2 Mozilla Staff    1        2011   \n",
       " dd02e9000d0f24865101e52846474bbca593a340 Mozilla Staff    2        2011   \n",
       " dd70bc888feec947a995798b2ab13f1eaa24c8b4 Community        1        2011   \n",
       " de3fc7ffb0e2b8f3b71fe42dbb92f837a1ce8d26 Community        1        2011   \n",
       " dee23623be64ed390a5b43ccc6e19e0a88bc2727 Community        1        2011   \n",
       " df3b547ef09345cdb14d54805f305481caefad95 Community        5        2011   \n",
       " e1486ff2023c2195fc83ae27be7c817a7b68d3d2 Mozilla Staff    4        2011   \n",
       " e205a50e339ef5c2ecbecccc4c9a9e7952c62766 Mozilla Staff    1        2011   \n",
       " e2bd6a350615ba3c7281ffae63394b9ddc974a55 Community        1        2011   \n",
       " e5766565e4b76e29a7cf70efbf238a90e616af63 Community        3        2011   \n",
       " e663cd2c83c79695ef130cd3432897097b69f7b3 Mozilla Staff    1        2011   \n",
       " e85d4796c2abbfb42a39be8e4ae3e847994719fd Mozilla Staff    2        2011   \n",
       " e89691727d69fddf10322467f583178e0d9e149d Community        1        2011   \n",
       " ec53ad67f5b23f28cb0c2f2284041a826aba9c05 Community        3        2011   \n",
       " f2271370251341e4f599306d60f3939ff6c61dde Community        2        2011   \n",
       " f2cb49add0aa9b512033cbfb1ef6893280281832 Community        1        2011   \n",
       " f537b7e9a9d081958222825becde1eb684b72198 Mozilla Staff    1        2011   \n",
       " f7661b46d9cf1766e3c17e582e06ccf0d462f931 Community        1        2011   \n",
       " f802c1a228179da47a4066d08d428f47644e6c53 Community        3        2011   \n",
       " fac12cc625f7cf05596762597710825df70ff77a Community        1        2011   \n",
       " fc0b2608dc70214afc0cd041404fa4850f562ba9 Community        1        2011   \n",
       " fe1f17354c916011eb93fcacb5bdf48a92d89d69 Mozilla Staff    2        2011   \n",
       " \n",
       "                                                        project  \n",
       " Author                                   Org                    \n",
       " 0014e7cebbe8ef11dab9eeb5f2111e01d9eea378 Mozilla Staff     All  \n",
       " 002893ffe1425c220756f8ba4c78e1e3bb0be50f Mozilla Staff     All  \n",
       " 00640f5b3dc155e70ea0d9811009ebbc0e7d4cba Community         All  \n",
       " 00834d313bfc6fc60be1631bcc57b2c05ee2e0e3 Mozilla Staff     All  \n",
       " 00846eff46b051d92317fc74e54041c6fdccd7cf Mozilla Staff     All  \n",
       " 00890cbe5133b67bfa1021485959d2b42c11f4f8 Mozilla Staff     All  \n",
       " 00a65e9f51147e4f416ded3f494dd4bfc0977979 Mozilla Staff     All  \n",
       " 00b52ff65a87aab1c303af9b307281582ce91676 Community         All  \n",
       " 00c38f0a5e44692e3722cd5087b3cbc0f45f56fd Community         All  \n",
       " 01081562f7dd988d4759a2e1e9881d5f18c02d8c Mozilla Staff     All  \n",
       " 012f9fe0064209c2affd5810083edccc723b32a9 Mozilla Staff     All  \n",
       " 0134e2ebeec7f2f1acf7c635b5b22e2c441bd3ec Mozilla Staff     All  \n",
       " 015d87534f70c362eb2ce0430b2d6886e328223c Mozilla Staff     All  \n",
       " 016dd3752addfe79920fcaa2934d0961c510d116 Mozilla Staff     All  \n",
       " 017b7dd849bb5376199cc45e8058c4d31d12d916 Community         All  \n",
       " 019ee580517ec3e8eb2c90ad0e3b2d749e9f0359 Code Sheriff      All  \n",
       " 01a0ffd68e3b0ac6359b920e733043b6be0dba12 Community         All  \n",
       " 01b36f5096db2e9bd47f3c2817644dec9e7dff17 Mozilla Staff     All  \n",
       " 01f1000b22e6eaffaa64485433f92536f1b18e61 Mozilla Staff     All  \n",
       " 0202b7aab723eeeee876182492a008ec217648cc Mozilla Staff     All  \n",
       " 020e546c6211feb97546084461eeb7cdae47664a Mozilla Staff     All  \n",
       " 021020a1b3c27b55aa68b96f49c58487736abf46 Mozilla Staff     All  \n",
       " 02228264064bde39b7dfef6d3e3e7554ad920703 Mozilla Staff     All  \n",
       " 023f15dd0cf615a4c08b7d531f0189fce5251297 Mozilla Staff     All  \n",
       " 026dadb4b4a80d0784bc5dd83ba8416c9df67bef Mozilla Staff     All  \n",
       " 02872b802fa8e325403cf28ff1e8948388fe21d8 Mozilla Staff     All  \n",
       " 02883a798795129e8b7a314b8435ca30d690105c Mozilla Staff     All  \n",
       " 02b8b17f5bd2baee37ed67709df58f899f2f57b7 Mozilla Staff     All  \n",
       " 02c80b820108371e66ae5d904ce2371ef1190933 Mozilla Staff     All  \n",
       " 02d8d3650614834265cf356f6cb2b2238fe06861 Mozilla Staff     All  \n",
       " ...                                                        ...  \n",
       " d5da984b577eef52786fe09ed94f75ae888cbbd9 Community         All  \n",
       " d60f201ba0d733188f36b4c5e10c468858c0d9fe Community         All  \n",
       " d61a0273230104344af3820498da86a536a91e2a Community         All  \n",
       " d6bb8bfe87a249a68a0087dadc6c9a5ded7a7d62 Community         All  \n",
       " d79a929308e748c9fdc73b70d08d536c44e7731d Community         All  \n",
       " d82920e8bc28327ae0a44e63f333d34403e0d89e Mozilla Staff     All  \n",
       " dbfacf4442af967cf4297634bc44065ac3ebf49b Mozilla Staff     All  \n",
       " dc3be6b2492c012b7c20cbc790a1c00b546111b1 Community         All  \n",
       " dcd489f55fe07dd1ee5529e8b5e442d35560bee2 Mozilla Staff     All  \n",
       " dd02e9000d0f24865101e52846474bbca593a340 Mozilla Staff     All  \n",
       " dd70bc888feec947a995798b2ab13f1eaa24c8b4 Community         All  \n",
       " de3fc7ffb0e2b8f3b71fe42dbb92f837a1ce8d26 Community         All  \n",
       " dee23623be64ed390a5b43ccc6e19e0a88bc2727 Community         All  \n",
       " df3b547ef09345cdb14d54805f305481caefad95 Community         All  \n",
       " e1486ff2023c2195fc83ae27be7c817a7b68d3d2 Mozilla Staff     All  \n",
       " e205a50e339ef5c2ecbecccc4c9a9e7952c62766 Mozilla Staff     All  \n",
       " e2bd6a350615ba3c7281ffae63394b9ddc974a55 Community         All  \n",
       " e5766565e4b76e29a7cf70efbf238a90e616af63 Community         All  \n",
       " e663cd2c83c79695ef130cd3432897097b69f7b3 Mozilla Staff     All  \n",
       " e85d4796c2abbfb42a39be8e4ae3e847994719fd Mozilla Staff     All  \n",
       " e89691727d69fddf10322467f583178e0d9e149d Community         All  \n",
       " ec53ad67f5b23f28cb0c2f2284041a826aba9c05 Community         All  \n",
       " f2271370251341e4f599306d60f3939ff6c61dde Community         All  \n",
       " f2cb49add0aa9b512033cbfb1ef6893280281832 Community         All  \n",
       " f537b7e9a9d081958222825becde1eb684b72198 Mozilla Staff     All  \n",
       " f7661b46d9cf1766e3c17e582e06ccf0d462f931 Community         All  \n",
       " f802c1a228179da47a4066d08d428f47644e6c53 Community         All  \n",
       " fac12cc625f7cf05596762597710825df70ff77a Community         All  \n",
       " fc0b2608dc70214afc0cd041404fa4850f562ba9 Community         All  \n",
       " fe1f17354c916011eb93fcacb5bdf48a92d89d69 Mozilla Staff     All  \n",
       " \n",
       " [620 rows x 3 columns],\n",
       "                                                         exp last_active  \\\n",
       " Author                                   Org                              \n",
       " 0050824236a67c3ef6c84db126cc81ae8a34b638 Community        3        2010   \n",
       " 00834d313bfc6fc60be1631bcc57b2c05ee2e0e3 Mozilla Staff    2        2010   \n",
       " 00846eff46b051d92317fc74e54041c6fdccd7cf Mozilla Staff    3        2010   \n",
       " 012f9fe0064209c2affd5810083edccc723b32a9 Mozilla Staff    4        2010   \n",
       " 0134e2ebeec7f2f1acf7c635b5b22e2c441bd3ec Mozilla Staff    1        2010   \n",
       " 015d87534f70c362eb2ce0430b2d6886e328223c Mozilla Staff    1        2010   \n",
       " 019ee580517ec3e8eb2c90ad0e3b2d749e9f0359 Code Sheriff     2        2010   \n",
       " 01b36f5096db2e9bd47f3c2817644dec9e7dff17 Mozilla Staff    1        2010   \n",
       " 020e546c6211feb97546084461eeb7cdae47664a Mozilla Staff    1        2010   \n",
       " 021020a1b3c27b55aa68b96f49c58487736abf46 Mozilla Staff    2        2010   \n",
       " 026dadb4b4a80d0784bc5dd83ba8416c9df67bef Mozilla Staff    4        2010   \n",
       " 02883a798795129e8b7a314b8435ca30d690105c Mozilla Staff    2        2010   \n",
       " 02b8b17f5bd2baee37ed67709df58f899f2f57b7 Mozilla Staff    2        2010   \n",
       " 02c80b820108371e66ae5d904ce2371ef1190933 Mozilla Staff    4        2010   \n",
       " 02f2b8d169c66c81e136247f012a43deecaab21c Mozilla Staff    3        2010   \n",
       " 03235853357afeecb6105855d2415d307bd945c4 Mozilla Staff    2        2010   \n",
       " 0333479955d7323543f69ba29165c8992c75845c Mozilla Staff    4        2010   \n",
       " 0390402c157799723da17fe90147833e9c953fef Mozilla Staff    1        2010   \n",
       " 03b102501b7e0032c7af62613ed707911dfa1a80 Mozilla Staff    2        2010   \n",
       " 03bbc81cd1db89677298cd092a1ef579220029b8 Mozilla Staff    4        2010   \n",
       " 03e29d4afdf730f640dd755f0920defc8cd84f40 Mozilla Staff    4        2010   \n",
       " 03e6f642bc6fc389b280735383f34bd777f9605c Mozilla Staff    1        2010   \n",
       " 0445fc29cda1773029265417533ba43ec9e47e3d Mozilla Staff    4        2010   \n",
       " 044e550e4cf59c852aa382813f5268e17bbffb29 Mozilla Staff    1        2010   \n",
       " 045251ae5d4f5c1dd672b65f3b6dd6d856ea8457 Mozilla Staff    2        2010   \n",
       " 04631379bcf5f74681ac46ab9dfa868c59da1e4f Mozilla Staff    4        2010   \n",
       " 04a31d7acae067d4f2b66c102337b44f4f3aad82 Mozilla Staff    4        2010   \n",
       " 0510befb97d662ac58d25a553a55d043d4add67a Mozilla Staff    1        2010   \n",
       " 05250b18e0c6a02531ec4027f86477a8cb563f3f Mozilla Staff    2        2010   \n",
       " 0547d380aa40a0422f9a02ff623b0b23ff987dcf Mozilla Staff    4        2010   \n",
       " ...                                                     ...         ...   \n",
       " c3f0d732cbe47da5716a4a96848b88254ed44827 Community        1        2010   \n",
       " c55a5c082a38ab70379a1e2262b204438c4b9ccc Community        1        2010   \n",
       " c57ee3483ed3e922d4c01ae3de1c90b3eb84730d Mozilla Staff    1        2010   \n",
       " c71f72642e9864e525582f46e11baa446dbaf69c Mozilla Staff    4        2010   \n",
       " c83017120ef6aaca4b6c11dcc90e8c53deaf5a53 Community        1        2010   \n",
       " cb56e6a3fe624de18c86ede631e91dff8675f1b0 Community        2        2010   \n",
       " cc419cde062cb5486860804ed7ff05ee03398eaa Community        1        2010   \n",
       " cc65f38e3a98a59212261ea8ec7670bbf657fdc4 Mozilla Staff    1        2010   \n",
       " cce7970bef489955ceddc63d9917940dafd6a492 Community        3        2010   \n",
       " cdb438b714cf3fd08f928b9ce8c2c69ef8d04557 Mozilla Staff    2        2010   \n",
       " ce139b9b618dd6dc7e32733e84ade97792b3cff6 Community        3        2010   \n",
       " cf56f666c1e8c2ac58ea0e678b37a4faf480f45b Community        1        2010   \n",
       " d374832554172de11e6da403a209b77a9916d44b Community        1        2010   \n",
       " d42367cb1a3b73d7feb577b66939e2a7c3a32eb3 Mozilla Staff    2        2010   \n",
       " d5da984b577eef52786fe09ed94f75ae888cbbd9 Community        3        2010   \n",
       " d61a0273230104344af3820498da86a536a91e2a Community        1        2010   \n",
       " dad5c3bd5dcf5d03f23ea811378bc84a626fb52c Community        1        2010   \n",
       " dcfa4e4ec7f5941493e5ef16df2bb067dd0ad9f4 Mozilla Staff    1        2010   \n",
       " dd02e9000d0f24865101e52846474bbca593a340 Mozilla Staff    1        2010   \n",
       " df3b547ef09345cdb14d54805f305481caefad95 Community        4        2010   \n",
       " e1486ff2023c2195fc83ae27be7c817a7b68d3d2 Mozilla Staff    3        2010   \n",
       " e53c77512c4778c08de03ca0bcf82d0b17554972 Community        1        2010   \n",
       " e5766565e4b76e29a7cf70efbf238a90e616af63 Community        2        2010   \n",
       " e85d4796c2abbfb42a39be8e4ae3e847994719fd Mozilla Staff    1        2010   \n",
       " ec53ad67f5b23f28cb0c2f2284041a826aba9c05 Community        2        2010   \n",
       " efc639b7957be9c0e2177f35e983a51e7b663627 Mozilla Staff    1        2010   \n",
       " f2271370251341e4f599306d60f3939ff6c61dde Community        1        2010   \n",
       " f802c1a228179da47a4066d08d428f47644e6c53 Community        2        2010   \n",
       " f95a1783ef46208eaea17ff682cbeb95967a757e Community        1        2010   \n",
       " fe1f17354c916011eb93fcacb5bdf48a92d89d69 Mozilla Staff    1        2010   \n",
       " \n",
       "                                                        project  \n",
       " Author                                   Org                    \n",
       " 0050824236a67c3ef6c84db126cc81ae8a34b638 Community         All  \n",
       " 00834d313bfc6fc60be1631bcc57b2c05ee2e0e3 Mozilla Staff     All  \n",
       " 00846eff46b051d92317fc74e54041c6fdccd7cf Mozilla Staff     All  \n",
       " 012f9fe0064209c2affd5810083edccc723b32a9 Mozilla Staff     All  \n",
       " 0134e2ebeec7f2f1acf7c635b5b22e2c441bd3ec Mozilla Staff     All  \n",
       " 015d87534f70c362eb2ce0430b2d6886e328223c Mozilla Staff     All  \n",
       " 019ee580517ec3e8eb2c90ad0e3b2d749e9f0359 Code Sheriff      All  \n",
       " 01b36f5096db2e9bd47f3c2817644dec9e7dff17 Mozilla Staff     All  \n",
       " 020e546c6211feb97546084461eeb7cdae47664a Mozilla Staff     All  \n",
       " 021020a1b3c27b55aa68b96f49c58487736abf46 Mozilla Staff     All  \n",
       " 026dadb4b4a80d0784bc5dd83ba8416c9df67bef Mozilla Staff     All  \n",
       " 02883a798795129e8b7a314b8435ca30d690105c Mozilla Staff     All  \n",
       " 02b8b17f5bd2baee37ed67709df58f899f2f57b7 Mozilla Staff     All  \n",
       " 02c80b820108371e66ae5d904ce2371ef1190933 Mozilla Staff     All  \n",
       " 02f2b8d169c66c81e136247f012a43deecaab21c Mozilla Staff     All  \n",
       " 03235853357afeecb6105855d2415d307bd945c4 Mozilla Staff     All  \n",
       " 0333479955d7323543f69ba29165c8992c75845c Mozilla Staff     All  \n",
       " 0390402c157799723da17fe90147833e9c953fef Mozilla Staff     All  \n",
       " 03b102501b7e0032c7af62613ed707911dfa1a80 Mozilla Staff     All  \n",
       " 03bbc81cd1db89677298cd092a1ef579220029b8 Mozilla Staff     All  \n",
       " 03e29d4afdf730f640dd755f0920defc8cd84f40 Mozilla Staff     All  \n",
       " 03e6f642bc6fc389b280735383f34bd777f9605c Mozilla Staff     All  \n",
       " 0445fc29cda1773029265417533ba43ec9e47e3d Mozilla Staff     All  \n",
       " 044e550e4cf59c852aa382813f5268e17bbffb29 Mozilla Staff     All  \n",
       " 045251ae5d4f5c1dd672b65f3b6dd6d856ea8457 Mozilla Staff     All  \n",
       " 04631379bcf5f74681ac46ab9dfa868c59da1e4f Mozilla Staff     All  \n",
       " 04a31d7acae067d4f2b66c102337b44f4f3aad82 Mozilla Staff     All  \n",
       " 0510befb97d662ac58d25a553a55d043d4add67a Mozilla Staff     All  \n",
       " 05250b18e0c6a02531ec4027f86477a8cb563f3f Mozilla Staff     All  \n",
       " 0547d380aa40a0422f9a02ff623b0b23ff987dcf Mozilla Staff     All  \n",
       " ...                                                        ...  \n",
       " c3f0d732cbe47da5716a4a96848b88254ed44827 Community         All  \n",
       " c55a5c082a38ab70379a1e2262b204438c4b9ccc Community         All  \n",
       " c57ee3483ed3e922d4c01ae3de1c90b3eb84730d Mozilla Staff     All  \n",
       " c71f72642e9864e525582f46e11baa446dbaf69c Mozilla Staff     All  \n",
       " c83017120ef6aaca4b6c11dcc90e8c53deaf5a53 Community         All  \n",
       " cb56e6a3fe624de18c86ede631e91dff8675f1b0 Community         All  \n",
       " cc419cde062cb5486860804ed7ff05ee03398eaa Community         All  \n",
       " cc65f38e3a98a59212261ea8ec7670bbf657fdc4 Mozilla Staff     All  \n",
       " cce7970bef489955ceddc63d9917940dafd6a492 Community         All  \n",
       " cdb438b714cf3fd08f928b9ce8c2c69ef8d04557 Mozilla Staff     All  \n",
       " ce139b9b618dd6dc7e32733e84ade97792b3cff6 Community         All  \n",
       " cf56f666c1e8c2ac58ea0e678b37a4faf480f45b Community         All  \n",
       " d374832554172de11e6da403a209b77a9916d44b Community         All  \n",
       " d42367cb1a3b73d7feb577b66939e2a7c3a32eb3 Mozilla Staff     All  \n",
       " d5da984b577eef52786fe09ed94f75ae888cbbd9 Community         All  \n",
       " d61a0273230104344af3820498da86a536a91e2a Community         All  \n",
       " dad5c3bd5dcf5d03f23ea811378bc84a626fb52c Community         All  \n",
       " dcfa4e4ec7f5941493e5ef16df2bb067dd0ad9f4 Mozilla Staff     All  \n",
       " dd02e9000d0f24865101e52846474bbca593a340 Mozilla Staff     All  \n",
       " df3b547ef09345cdb14d54805f305481caefad95 Community         All  \n",
       " e1486ff2023c2195fc83ae27be7c817a7b68d3d2 Mozilla Staff     All  \n",
       " e53c77512c4778c08de03ca0bcf82d0b17554972 Community         All  \n",
       " e5766565e4b76e29a7cf70efbf238a90e616af63 Community         All  \n",
       " e85d4796c2abbfb42a39be8e4ae3e847994719fd Mozilla Staff     All  \n",
       " ec53ad67f5b23f28cb0c2f2284041a826aba9c05 Community         All  \n",
       " efc639b7957be9c0e2177f35e983a51e7b663627 Mozilla Staff     All  \n",
       " f2271370251341e4f599306d60f3939ff6c61dde Community         All  \n",
       " f802c1a228179da47a4066d08d428f47644e6c53 Community         All  \n",
       " f95a1783ef46208eaea17ff682cbeb95967a757e Community         All  \n",
       " fe1f17354c916011eb93fcacb5bdf48a92d89d69 Mozilla Staff     All  \n",
       " \n",
       " [435 rows x 3 columns],\n",
       "                                                         exp last_active  \\\n",
       " Author                                   Org                              \n",
       " 0050824236a67c3ef6c84db126cc81ae8a34b638 Community        2        2009   \n",
       " 00633c4f1a29fc14c9f79d0aa0358fbfbe1b2a0c Mozilla Staff    3        2009   \n",
       " 00834d313bfc6fc60be1631bcc57b2c05ee2e0e3 Mozilla Staff    1        2009   \n",
       " 00846eff46b051d92317fc74e54041c6fdccd7cf Mozilla Staff    2        2009   \n",
       " 00890cbe5133b67bfa1021485959d2b42c11f4f8 Mozilla Staff    2        2009   \n",
       " 012f9fe0064209c2affd5810083edccc723b32a9 Mozilla Staff    3        2009   \n",
       " 019ee580517ec3e8eb2c90ad0e3b2d749e9f0359 Code Sheriff     1        2009   \n",
       " 01a0ffd68e3b0ac6359b920e733043b6be0dba12 Community        1        2009   \n",
       " 021020a1b3c27b55aa68b96f49c58487736abf46 Mozilla Staff    1        2009   \n",
       " 026dadb4b4a80d0784bc5dd83ba8416c9df67bef Mozilla Staff    3        2009   \n",
       " 02872b802fa8e325403cf28ff1e8948388fe21d8 Mozilla Staff    1        2009   \n",
       " 02883a798795129e8b7a314b8435ca30d690105c Mozilla Staff    1        2009   \n",
       " 02b8b17f5bd2baee37ed67709df58f899f2f57b7 Mozilla Staff    1        2009   \n",
       " 02c80b820108371e66ae5d904ce2371ef1190933 Mozilla Staff    3        2009   \n",
       " 02f2b8d169c66c81e136247f012a43deecaab21c Mozilla Staff    2        2009   \n",
       " 03235853357afeecb6105855d2415d307bd945c4 Mozilla Staff    1        2009   \n",
       " 0333479955d7323543f69ba29165c8992c75845c Mozilla Staff    3        2009   \n",
       " 03b102501b7e0032c7af62613ed707911dfa1a80 Mozilla Staff    1        2009   \n",
       " 03bbc81cd1db89677298cd092a1ef579220029b8 Mozilla Staff    3        2009   \n",
       " 03e29d4afdf730f640dd755f0920defc8cd84f40 Mozilla Staff    3        2009   \n",
       " 0445fc29cda1773029265417533ba43ec9e47e3d Mozilla Staff    3        2009   \n",
       " 045251ae5d4f5c1dd672b65f3b6dd6d856ea8457 Mozilla Staff    1        2009   \n",
       " 04631379bcf5f74681ac46ab9dfa868c59da1e4f Mozilla Staff    3        2009   \n",
       " 04a31d7acae067d4f2b66c102337b44f4f3aad82 Mozilla Staff    3        2009   \n",
       " 0547d380aa40a0422f9a02ff623b0b23ff987dcf Mozilla Staff    3        2009   \n",
       " 05734c41a088cf488daa63c98e396a4562126c62 Mozilla Staff    2        2009   \n",
       " 05e236dd5726cae9945b50e4396e1c2729728b1e Mozilla Staff    3        2009   \n",
       " 05e49fe9e726b8057cc8f4e34f5725151179d655 Mozilla Staff    1        2009   \n",
       " 063468063eb29c000a80376e19d7acbc65dfc61f Mozilla Staff    2        2009   \n",
       " 06f974f5a0690c837680dbd81d7d619ada51af10 Mozilla Staff    1        2009   \n",
       " ...                                                     ...         ...   \n",
       " a8a820f91c4a9c09eda74903e780099a948ee3f4 Community        1        2009   \n",
       " a9b2e01b528e6983d9d68700ac444f1087881a91 Mozilla Staff    1        2009   \n",
       " aa0949b169535a11b820a448afdc43216ce7f46d Mozilla Staff    1        2009   \n",
       " ac5321a6e22e8791d753bcb9fdc55bb9a86728cd Mozilla Staff    2        2009   \n",
       " ad3db333e48a767d904b4529dc2b6c3a5e910773 Community        1        2009   \n",
       " b18723b4c3e8b91fdbd4808c016df4e23b570d2b Community        1        2009   \n",
       " b1dcad52faba2d37743feee72ec19baa38f81d81 Community        1        2009   \n",
       " b7a5f4c095f2593c51ee945b7188cf00fc72e469 Community        2        2009   \n",
       " b7d04a70954059da7c5350ac750d5158d2896a80 Community        1        2009   \n",
       " bc4c082d21fee1a33c6f70db37abb371fecd0cef Mozilla Staff    2        2009   \n",
       " c00c6ee8419f1bd0a6dcae36bdf76cff848f25fc Mozilla Staff    1        2009   \n",
       " c71f72642e9864e525582f46e11baa446dbaf69c Mozilla Staff    3        2009   \n",
       " cb56e6a3fe624de18c86ede631e91dff8675f1b0 Community        1        2009   \n",
       " cce7970bef489955ceddc63d9917940dafd6a492 Community        2        2009   \n",
       " cdb438b714cf3fd08f928b9ce8c2c69ef8d04557 Mozilla Staff    1        2009   \n",
       " d3545ebcc912d4f062ac8003901007025b3ccb41 Mozilla Staff    1        2009   \n",
       " d42367cb1a3b73d7feb577b66939e2a7c3a32eb3 Mozilla Staff    1        2009   \n",
       " d5da984b577eef52786fe09ed94f75ae888cbbd9 Community        2        2009   \n",
       " d64bcb6c790c25ee5cb4fd4e59d4ca1b1ea62a01 Community        2        2009   \n",
       " d7024f6af11b55085e91c3f0eeb4ead3f4715128 Mozilla Staff    1        2009   \n",
       " d879e9e25dbb1faf6d3942ebfeb7333ae0717a3a Community        1        2009   \n",
       " dd6895920983d4c86ba106defa8f243f9972f653 Community        1        2009   \n",
       " dd9d279ddecd61db8c77ad53c4228ceb4e096b3d Community        1        2009   \n",
       " df3b547ef09345cdb14d54805f305481caefad95 Community        3        2009   \n",
       " e1486ff2023c2195fc83ae27be7c817a7b68d3d2 Mozilla Staff    2        2009   \n",
       " e5766565e4b76e29a7cf70efbf238a90e616af63 Community        1        2009   \n",
       " e61ba39e4ee805033d145ccb4e239e2250019984 Community        1        2009   \n",
       " ebd0984fd994eab8242b2a1de60e736f26c06fa6 Community        1        2009   \n",
       " ec53ad67f5b23f28cb0c2f2284041a826aba9c05 Community        1        2009   \n",
       " f802c1a228179da47a4066d08d428f47644e6c53 Community        1        2009   \n",
       " \n",
       "                                                        project  \n",
       " Author                                   Org                    \n",
       " 0050824236a67c3ef6c84db126cc81ae8a34b638 Community         All  \n",
       " 00633c4f1a29fc14c9f79d0aa0358fbfbe1b2a0c Mozilla Staff     All  \n",
       " 00834d313bfc6fc60be1631bcc57b2c05ee2e0e3 Mozilla Staff     All  \n",
       " 00846eff46b051d92317fc74e54041c6fdccd7cf Mozilla Staff     All  \n",
       " 00890cbe5133b67bfa1021485959d2b42c11f4f8 Mozilla Staff     All  \n",
       " 012f9fe0064209c2affd5810083edccc723b32a9 Mozilla Staff     All  \n",
       " 019ee580517ec3e8eb2c90ad0e3b2d749e9f0359 Code Sheriff      All  \n",
       " 01a0ffd68e3b0ac6359b920e733043b6be0dba12 Community         All  \n",
       " 021020a1b3c27b55aa68b96f49c58487736abf46 Mozilla Staff     All  \n",
       " 026dadb4b4a80d0784bc5dd83ba8416c9df67bef Mozilla Staff     All  \n",
       " 02872b802fa8e325403cf28ff1e8948388fe21d8 Mozilla Staff     All  \n",
       " 02883a798795129e8b7a314b8435ca30d690105c Mozilla Staff     All  \n",
       " 02b8b17f5bd2baee37ed67709df58f899f2f57b7 Mozilla Staff     All  \n",
       " 02c80b820108371e66ae5d904ce2371ef1190933 Mozilla Staff     All  \n",
       " 02f2b8d169c66c81e136247f012a43deecaab21c Mozilla Staff     All  \n",
       " 03235853357afeecb6105855d2415d307bd945c4 Mozilla Staff     All  \n",
       " 0333479955d7323543f69ba29165c8992c75845c Mozilla Staff     All  \n",
       " 03b102501b7e0032c7af62613ed707911dfa1a80 Mozilla Staff     All  \n",
       " 03bbc81cd1db89677298cd092a1ef579220029b8 Mozilla Staff     All  \n",
       " 03e29d4afdf730f640dd755f0920defc8cd84f40 Mozilla Staff     All  \n",
       " 0445fc29cda1773029265417533ba43ec9e47e3d Mozilla Staff     All  \n",
       " 045251ae5d4f5c1dd672b65f3b6dd6d856ea8457 Mozilla Staff     All  \n",
       " 04631379bcf5f74681ac46ab9dfa868c59da1e4f Mozilla Staff     All  \n",
       " 04a31d7acae067d4f2b66c102337b44f4f3aad82 Mozilla Staff     All  \n",
       " 0547d380aa40a0422f9a02ff623b0b23ff987dcf Mozilla Staff     All  \n",
       " 05734c41a088cf488daa63c98e396a4562126c62 Mozilla Staff     All  \n",
       " 05e236dd5726cae9945b50e4396e1c2729728b1e Mozilla Staff     All  \n",
       " 05e49fe9e726b8057cc8f4e34f5725151179d655 Mozilla Staff     All  \n",
       " 063468063eb29c000a80376e19d7acbc65dfc61f Mozilla Staff     All  \n",
       " 06f974f5a0690c837680dbd81d7d619ada51af10 Mozilla Staff     All  \n",
       " ...                                                        ...  \n",
       " a8a820f91c4a9c09eda74903e780099a948ee3f4 Community         All  \n",
       " a9b2e01b528e6983d9d68700ac444f1087881a91 Mozilla Staff     All  \n",
       " aa0949b169535a11b820a448afdc43216ce7f46d Mozilla Staff     All  \n",
       " ac5321a6e22e8791d753bcb9fdc55bb9a86728cd Mozilla Staff     All  \n",
       " ad3db333e48a767d904b4529dc2b6c3a5e910773 Community         All  \n",
       " b18723b4c3e8b91fdbd4808c016df4e23b570d2b Community         All  \n",
       " b1dcad52faba2d37743feee72ec19baa38f81d81 Community         All  \n",
       " b7a5f4c095f2593c51ee945b7188cf00fc72e469 Community         All  \n",
       " b7d04a70954059da7c5350ac750d5158d2896a80 Community         All  \n",
       " bc4c082d21fee1a33c6f70db37abb371fecd0cef Mozilla Staff     All  \n",
       " c00c6ee8419f1bd0a6dcae36bdf76cff848f25fc Mozilla Staff     All  \n",
       " c71f72642e9864e525582f46e11baa446dbaf69c Mozilla Staff     All  \n",
       " cb56e6a3fe624de18c86ede631e91dff8675f1b0 Community         All  \n",
       " cce7970bef489955ceddc63d9917940dafd6a492 Community         All  \n",
       " cdb438b714cf3fd08f928b9ce8c2c69ef8d04557 Mozilla Staff     All  \n",
       " d3545ebcc912d4f062ac8003901007025b3ccb41 Mozilla Staff     All  \n",
       " d42367cb1a3b73d7feb577b66939e2a7c3a32eb3 Mozilla Staff     All  \n",
       " d5da984b577eef52786fe09ed94f75ae888cbbd9 Community         All  \n",
       " d64bcb6c790c25ee5cb4fd4e59d4ca1b1ea62a01 Community         All  \n",
       " d7024f6af11b55085e91c3f0eeb4ead3f4715128 Mozilla Staff     All  \n",
       " d879e9e25dbb1faf6d3942ebfeb7333ae0717a3a Community         All  \n",
       " dd6895920983d4c86ba106defa8f243f9972f653 Community         All  \n",
       " dd9d279ddecd61db8c77ad53c4228ceb4e096b3d Community         All  \n",
       " df3b547ef09345cdb14d54805f305481caefad95 Community         All  \n",
       " e1486ff2023c2195fc83ae27be7c817a7b68d3d2 Mozilla Staff     All  \n",
       " e5766565e4b76e29a7cf70efbf238a90e616af63 Community         All  \n",
       " e61ba39e4ee805033d145ccb4e239e2250019984 Community         All  \n",
       " ebd0984fd994eab8242b2a1de60e736f26c06fa6 Community         All  \n",
       " ec53ad67f5b23f28cb0c2f2284041a826aba9c05 Community         All  \n",
       " f802c1a228179da47a4066d08d428f47644e6c53 Community         All  \n",
       " \n",
       " [333 rows x 3 columns],\n",
       "                                                         exp last_active  \\\n",
       " Author                                   Org                              \n",
       " 0040576ccb02d80fbcdca410c87481e617d30402 Community        1        2008   \n",
       " 00425929e872f86f1686ce88459d60a4d8634e36 Community        2        2008   \n",
       " 0050824236a67c3ef6c84db126cc81ae8a34b638 Community        1        2008   \n",
       " 00633c4f1a29fc14c9f79d0aa0358fbfbe1b2a0c Mozilla Staff    2        2008   \n",
       " 00846eff46b051d92317fc74e54041c6fdccd7cf Mozilla Staff    1        2008   \n",
       " 00890cbe5133b67bfa1021485959d2b42c11f4f8 Mozilla Staff    1        2008   \n",
       " 012f9fe0064209c2affd5810083edccc723b32a9 Mozilla Staff    2        2008   \n",
       " 026dadb4b4a80d0784bc5dd83ba8416c9df67bef Mozilla Staff    2        2008   \n",
       " 02c80b820108371e66ae5d904ce2371ef1190933 Mozilla Staff    2        2008   \n",
       " 02f2b8d169c66c81e136247f012a43deecaab21c Mozilla Staff    1        2008   \n",
       " 0333479955d7323543f69ba29165c8992c75845c Mozilla Staff    2        2008   \n",
       " 03904533eccb74d30f19412b29507798acfc9ac4 Community        2        2008   \n",
       " 03bbc81cd1db89677298cd092a1ef579220029b8 Mozilla Staff    2        2008   \n",
       " 03e29d4afdf730f640dd755f0920defc8cd84f40 Mozilla Staff    2        2008   \n",
       " 0445fc29cda1773029265417533ba43ec9e47e3d Mozilla Staff    2        2008   \n",
       " 04631379bcf5f74681ac46ab9dfa868c59da1e4f Mozilla Staff    2        2008   \n",
       " 04a31d7acae067d4f2b66c102337b44f4f3aad82 Mozilla Staff    2        2008   \n",
       " 05250b18e0c6a02531ec4027f86477a8cb563f3f Mozilla Staff    1        2008   \n",
       " 0547d380aa40a0422f9a02ff623b0b23ff987dcf Mozilla Staff    2        2008   \n",
       " 05734c41a088cf488daa63c98e396a4562126c62 Mozilla Staff    1        2008   \n",
       " 057882a7b5594647ebc370db92604aab4395677d Community        2        2008   \n",
       " 05e236dd5726cae9945b50e4396e1c2729728b1e Mozilla Staff    2        2008   \n",
       " 063468063eb29c000a80376e19d7acbc65dfc61f Mozilla Staff    1        2008   \n",
       " 066612ecd1623bac421614a1d08ee9933f453505 Mozilla Staff    1        2008   \n",
       " 072a983e28abee658beeff38b027f7bade5bfc59 Mozilla Staff    2        2008   \n",
       " 07738ac68a411fcbc402b88b3a545874e1d79fa8 Mozilla Staff    1        2008   \n",
       " 0788d0afc88aee52077e339f313ee309749287a4 Mozilla Staff    2        2008   \n",
       " 085ffe54c60dcf72ae9733cceb6e68bc9513f8ee Mozilla Staff    2        2008   \n",
       " 08b921dfd287255cbf54aa665646d2d4818b2053 Mozilla Staff    1        2008   \n",
       " 0956447625d85ab037661934cd70c4a7354cc587 Mozilla Staff    3        2008   \n",
       " ...                                                     ...         ...   \n",
       " bc86d20cd57fcf1347f8218e4e1402116c9218c9 Community        2        2008   \n",
       " bdfc5ee73972295814e2fad08dc754dde7af33ea Community        2        2008   \n",
       " c30f1435202791c5ef602e1059ef610509737bae Community        2        2008   \n",
       " c31318815d9b61a21004f55ebf350dbe51aeb2cf Community        2        2008   \n",
       " c348577b059b7519f1fb265e78db6eba0291c2a5 Community        2        2008   \n",
       " c3e93f39f572c19bfa3d3c1fce4023b951b518d0 Community        2        2008   \n",
       " c4fd316fe92acc1aba8ee6269ba0b50d710452cd Community        2        2008   \n",
       " c6c87ebbc969dc5e8443833720b348832ce1b0c7 Community        2        2008   \n",
       " c71f72642e9864e525582f46e11baa446dbaf69c Mozilla Staff    2        2008   \n",
       " c7a1b83bbfa7d1233c1fc762d45cec2f1c66ea73 Community        1        2008   \n",
       " c9ded02613b377b991f7fdf298f97c324b707d8e Community        1        2008   \n",
       " cbb74aa557f8d52131e24f53bef58521444e02ef Community        2        2008   \n",
       " cc2f50c1d2be1ad9fa4e5faebd34e7388b2f30de Community        1        2008   \n",
       " cce7970bef489955ceddc63d9917940dafd6a492 Community        1        2008   \n",
       " cd6f3850a496e0f39422147c083362bbe84726e0 Community        2        2008   \n",
       " ce139b9b618dd6dc7e32733e84ade97792b3cff6 Community        2        2008   \n",
       " d5579f84647c5ec3b556639b1edf4b3e5bf8bfb5 Community        2        2008   \n",
       " d5602c1008e8c35acc19edd8251ea2d21bd2994e Community        2        2008   \n",
       " d5da984b577eef52786fe09ed94f75ae888cbbd9 Community        1        2008   \n",
       " d60c751f4d1148cebfe5e446c83b43132eac555d Community        2        2008   \n",
       " d64bcb6c790c25ee5cb4fd4e59d4ca1b1ea62a01 Community        1        2008   \n",
       " d837482dda56826ac9c2d2f6896bfc61c0b1a5cd Community        2        2008   \n",
       " dd6ebf7cd63e3813ebd6f65e87f783638fa3f7e5 Community        2        2008   \n",
       " df3b547ef09345cdb14d54805f305481caefad95 Community        2        2008   \n",
       " df4efe31e7e6e20f743ed51aa1a613c6e211268c Community        1        2008   \n",
       " e1486ff2023c2195fc83ae27be7c817a7b68d3d2 Mozilla Staff    1        2008   \n",
       " e8b7eb6fa2613e54ffe66c52b61c4797a562475d Community        1        2008   \n",
       " f5525062fc1b00c2c3e1c0b5ba127bed88e3162b Community        2        2008   \n",
       " f5eb2857a2529a2b060a5b0bf47e6340379d7952 Community        2        2008   \n",
       " fbc8e2a21fd933c87895ad5da97978394c19859d Community        1        2008   \n",
       " \n",
       "                                                        project  \n",
       " Author                                   Org                    \n",
       " 0040576ccb02d80fbcdca410c87481e617d30402 Community         All  \n",
       " 00425929e872f86f1686ce88459d60a4d8634e36 Community         All  \n",
       " 0050824236a67c3ef6c84db126cc81ae8a34b638 Community         All  \n",
       " 00633c4f1a29fc14c9f79d0aa0358fbfbe1b2a0c Mozilla Staff     All  \n",
       " 00846eff46b051d92317fc74e54041c6fdccd7cf Mozilla Staff     All  \n",
       " 00890cbe5133b67bfa1021485959d2b42c11f4f8 Mozilla Staff     All  \n",
       " 012f9fe0064209c2affd5810083edccc723b32a9 Mozilla Staff     All  \n",
       " 026dadb4b4a80d0784bc5dd83ba8416c9df67bef Mozilla Staff     All  \n",
       " 02c80b820108371e66ae5d904ce2371ef1190933 Mozilla Staff     All  \n",
       " 02f2b8d169c66c81e136247f012a43deecaab21c Mozilla Staff     All  \n",
       " 0333479955d7323543f69ba29165c8992c75845c Mozilla Staff     All  \n",
       " 03904533eccb74d30f19412b29507798acfc9ac4 Community         All  \n",
       " 03bbc81cd1db89677298cd092a1ef579220029b8 Mozilla Staff     All  \n",
       " 03e29d4afdf730f640dd755f0920defc8cd84f40 Mozilla Staff     All  \n",
       " 0445fc29cda1773029265417533ba43ec9e47e3d Mozilla Staff     All  \n",
       " 04631379bcf5f74681ac46ab9dfa868c59da1e4f Mozilla Staff     All  \n",
       " 04a31d7acae067d4f2b66c102337b44f4f3aad82 Mozilla Staff     All  \n",
       " 05250b18e0c6a02531ec4027f86477a8cb563f3f Mozilla Staff     All  \n",
       " 0547d380aa40a0422f9a02ff623b0b23ff987dcf Mozilla Staff     All  \n",
       " 05734c41a088cf488daa63c98e396a4562126c62 Mozilla Staff     All  \n",
       " 057882a7b5594647ebc370db92604aab4395677d Community         All  \n",
       " 05e236dd5726cae9945b50e4396e1c2729728b1e Mozilla Staff     All  \n",
       " 063468063eb29c000a80376e19d7acbc65dfc61f Mozilla Staff     All  \n",
       " 066612ecd1623bac421614a1d08ee9933f453505 Mozilla Staff     All  \n",
       " 072a983e28abee658beeff38b027f7bade5bfc59 Mozilla Staff     All  \n",
       " 07738ac68a411fcbc402b88b3a545874e1d79fa8 Mozilla Staff     All  \n",
       " 0788d0afc88aee52077e339f313ee309749287a4 Mozilla Staff     All  \n",
       " 085ffe54c60dcf72ae9733cceb6e68bc9513f8ee Mozilla Staff     All  \n",
       " 08b921dfd287255cbf54aa665646d2d4818b2053 Mozilla Staff     All  \n",
       " 0956447625d85ab037661934cd70c4a7354cc587 Mozilla Staff     All  \n",
       " ...                                                        ...  \n",
       " bc86d20cd57fcf1347f8218e4e1402116c9218c9 Community         All  \n",
       " bdfc5ee73972295814e2fad08dc754dde7af33ea Community         All  \n",
       " c30f1435202791c5ef602e1059ef610509737bae Community         All  \n",
       " c31318815d9b61a21004f55ebf350dbe51aeb2cf Community         All  \n",
       " c348577b059b7519f1fb265e78db6eba0291c2a5 Community         All  \n",
       " c3e93f39f572c19bfa3d3c1fce4023b951b518d0 Community         All  \n",
       " c4fd316fe92acc1aba8ee6269ba0b50d710452cd Community         All  \n",
       " c6c87ebbc969dc5e8443833720b348832ce1b0c7 Community         All  \n",
       " c71f72642e9864e525582f46e11baa446dbaf69c Mozilla Staff     All  \n",
       " c7a1b83bbfa7d1233c1fc762d45cec2f1c66ea73 Community         All  \n",
       " c9ded02613b377b991f7fdf298f97c324b707d8e Community         All  \n",
       " cbb74aa557f8d52131e24f53bef58521444e02ef Community         All  \n",
       " cc2f50c1d2be1ad9fa4e5faebd34e7388b2f30de Community         All  \n",
       " cce7970bef489955ceddc63d9917940dafd6a492 Community         All  \n",
       " cd6f3850a496e0f39422147c083362bbe84726e0 Community         All  \n",
       " ce139b9b618dd6dc7e32733e84ade97792b3cff6 Community         All  \n",
       " d5579f84647c5ec3b556639b1edf4b3e5bf8bfb5 Community         All  \n",
       " d5602c1008e8c35acc19edd8251ea2d21bd2994e Community         All  \n",
       " d5da984b577eef52786fe09ed94f75ae888cbbd9 Community         All  \n",
       " d60c751f4d1148cebfe5e446c83b43132eac555d Community         All  \n",
       " d64bcb6c790c25ee5cb4fd4e59d4ca1b1ea62a01 Community         All  \n",
       " d837482dda56826ac9c2d2f6896bfc61c0b1a5cd Community         All  \n",
       " dd6ebf7cd63e3813ebd6f65e87f783638fa3f7e5 Community         All  \n",
       " df3b547ef09345cdb14d54805f305481caefad95 Community         All  \n",
       " df4efe31e7e6e20f743ed51aa1a613c6e211268c Community         All  \n",
       " e1486ff2023c2195fc83ae27be7c817a7b68d3d2 Mozilla Staff     All  \n",
       " e8b7eb6fa2613e54ffe66c52b61c4797a562475d Community         All  \n",
       " f5525062fc1b00c2c3e1c0b5ba127bed88e3162b Community         All  \n",
       " f5eb2857a2529a2b060a5b0bf47e6340379d7952 Community         All  \n",
       " fbc8e2a21fd933c87895ad5da97978394c19859d Community         All  \n",
       " \n",
       " [317 rows x 3 columns],\n",
       "                                                         exp last_active  \\\n",
       " Author                                   Org                              \n",
       " 00425929e872f86f1686ce88459d60a4d8634e36 Community        1        2007   \n",
       " 00633c4f1a29fc14c9f79d0aa0358fbfbe1b2a0c Mozilla Staff    1        2007   \n",
       " 00686716dabebbaba2a1667335b2c4ec076a3cb5 Community        4        2007   \n",
       " 0103a68f7d0d4d0715293f5518d830e828ab917b Community        1        2007   \n",
       " 012f9fe0064209c2affd5810083edccc723b32a9 Mozilla Staff    1        2007   \n",
       " 013da72bf2f27760368a6d49ea737267a6275182 Mozilla Staff    1        2007   \n",
       " 01c61b3da6cb7dfb4a6c56867fee5c32b02173b5 Community        1        2007   \n",
       " 026dadb4b4a80d0784bc5dd83ba8416c9df67bef Mozilla Staff    1        2007   \n",
       " 02c80b820108371e66ae5d904ce2371ef1190933 Mozilla Staff    1        2007   \n",
       " 0333479955d7323543f69ba29165c8992c75845c Mozilla Staff    1        2007   \n",
       " 03904533eccb74d30f19412b29507798acfc9ac4 Community        1        2007   \n",
       " 03bbc81cd1db89677298cd092a1ef579220029b8 Mozilla Staff    1        2007   \n",
       " 03e29d4afdf730f640dd755f0920defc8cd84f40 Mozilla Staff    1        2007   \n",
       " 0445fc29cda1773029265417533ba43ec9e47e3d Mozilla Staff    1        2007   \n",
       " 04631379bcf5f74681ac46ab9dfa868c59da1e4f Mozilla Staff    1        2007   \n",
       " 04a31d7acae067d4f2b66c102337b44f4f3aad82 Mozilla Staff    1        2007   \n",
       " 04d8b275f76064fecaffa46e53ea7480aaf97c22 Mozilla Staff    1        2007   \n",
       " 0547d380aa40a0422f9a02ff623b0b23ff987dcf Mozilla Staff    1        2007   \n",
       " 055057e66ec58a3f975cd711cfa934b7ae2302de Mozilla Staff    1        2007   \n",
       " 057882a7b5594647ebc370db92604aab4395677d Community        1        2007   \n",
       " 05e236dd5726cae9945b50e4396e1c2729728b1e Mozilla Staff    1        2007   \n",
       " 06ae6ee5154b904506a2cb89a190690e5ddad3b8 Community        1        2007   \n",
       " 072a983e28abee658beeff38b027f7bade5bfc59 Mozilla Staff    1        2007   \n",
       " 0788d0afc88aee52077e339f313ee309749287a4 Mozilla Staff    1        2007   \n",
       " 085ffe54c60dcf72ae9733cceb6e68bc9513f8ee Mozilla Staff    1        2007   \n",
       " 0956447625d85ab037661934cd70c4a7354cc587 Mozilla Staff    2        2007   \n",
       " 09829fbb1af1263358087f24769e99fe39350336 Mozilla Staff    1        2007   \n",
       " 0ac3c5a59cbf3452a1d0d454db465ae7c56754a1 Community        1        2007   \n",
       " 0acdaa85ca4a3574f134d43f98b8f5866fa544fa Community        2        2007   \n",
       " 0b3dad253535c9e2d46e3793bafc37608b0e459f Community        4        2007   \n",
       " ...                                                     ...         ...   \n",
       " cbec76d912694b6391e37f387b9b1a64120ff795 Community        1        2007   \n",
       " cbfc2c1b9aca01097aebb07fbfb28820ff1ac9e3 Community        2        2007   \n",
       " cd6f3850a496e0f39422147c083362bbe84726e0 Community        1        2007   \n",
       " ce139b9b618dd6dc7e32733e84ade97792b3cff6 Community        1        2007   \n",
       " ceeaa18f531ef5a2b1e9767fec3c12995a863823 Community        2        2007   \n",
       " d002ed8634e7f1a6a52c0a51cf28895005734549 Community        1        2007   \n",
       " d1375d911fe35e7b582de52630a5e5c63e6b3e0a Community        2        2007   \n",
       " d4497c4d4f701d021f238d6332d3090cb26c538a Community        1        2007   \n",
       " d5579f84647c5ec3b556639b1edf4b3e5bf8bfb5 Community        1        2007   \n",
       " d5602c1008e8c35acc19edd8251ea2d21bd2994e Community        1        2007   \n",
       " d60c751f4d1148cebfe5e446c83b43132eac555d Community        1        2007   \n",
       " d70bf08885e0b99ef95a6618f84812c4d0453a72 Community        2        2007   \n",
       " d837482dda56826ac9c2d2f6896bfc61c0b1a5cd Community        1        2007   \n",
       " da8eabd25f69fef2f2fad4b923a57c81b71c35d3 Community        9        2007   \n",
       " dd6ebf7cd63e3813ebd6f65e87f783638fa3f7e5 Community        1        2007   \n",
       " df3b547ef09345cdb14d54805f305481caefad95 Community        1        2007   \n",
       " df5622646ba56fffe472706b70381ec08d80e439 Community        5        2007   \n",
       " dff4834a0e43f0b2e8faab8664289d8f571c81ee Community        2        2007   \n",
       " e2cc09745e57e49c34aecfe7bfef078e6a9e479c Community        1        2007   \n",
       " e2eb0fb7ae06242d7012ddb7e9539de4bc207e89 Community        2        2007   \n",
       " e982fa475d6db37da3ada79a8329421d6cd384cd Community        3        2007   \n",
       " eb956a9faa2e0fd1f62c37cac1c40cc8ca196020 Community        1        2007   \n",
       " ee964889da78011366a4bbeeaaaa7271d82e54d5 Community        1        2007   \n",
       " f26636f25ce3772f1ff8938aec9f8cd2e7f58f11 Community        4        2007   \n",
       " f33be02c9ec99677fdf5cb7a8ff7cad3a39246ee Community        4        2007   \n",
       " f37c901df202efedf6d6b03315da1a0dfdc492d0 Community        1        2007   \n",
       " f5525062fc1b00c2c3e1c0b5ba127bed88e3162b Community        1        2007   \n",
       " f5eb2857a2529a2b060a5b0bf47e6340379d7952 Community        1        2007   \n",
       " fc392d7c5f4bb0d275013e4746b8a30791c17f71 Community        3        2007   \n",
       " ffc80cdd2aefd7ec0b8fddf6fea18489c40e8c04 Community        1        2007   \n",
       " \n",
       "                                                        project  \n",
       " Author                                   Org                    \n",
       " 00425929e872f86f1686ce88459d60a4d8634e36 Community         All  \n",
       " 00633c4f1a29fc14c9f79d0aa0358fbfbe1b2a0c Mozilla Staff     All  \n",
       " 00686716dabebbaba2a1667335b2c4ec076a3cb5 Community         All  \n",
       " 0103a68f7d0d4d0715293f5518d830e828ab917b Community         All  \n",
       " 012f9fe0064209c2affd5810083edccc723b32a9 Mozilla Staff     All  \n",
       " 013da72bf2f27760368a6d49ea737267a6275182 Mozilla Staff     All  \n",
       " 01c61b3da6cb7dfb4a6c56867fee5c32b02173b5 Community         All  \n",
       " 026dadb4b4a80d0784bc5dd83ba8416c9df67bef Mozilla Staff     All  \n",
       " 02c80b820108371e66ae5d904ce2371ef1190933 Mozilla Staff     All  \n",
       " 0333479955d7323543f69ba29165c8992c75845c Mozilla Staff     All  \n",
       " 03904533eccb74d30f19412b29507798acfc9ac4 Community         All  \n",
       " 03bbc81cd1db89677298cd092a1ef579220029b8 Mozilla Staff     All  \n",
       " 03e29d4afdf730f640dd755f0920defc8cd84f40 Mozilla Staff     All  \n",
       " 0445fc29cda1773029265417533ba43ec9e47e3d Mozilla Staff     All  \n",
       " 04631379bcf5f74681ac46ab9dfa868c59da1e4f Mozilla Staff     All  \n",
       " 04a31d7acae067d4f2b66c102337b44f4f3aad82 Mozilla Staff     All  \n",
       " 04d8b275f76064fecaffa46e53ea7480aaf97c22 Mozilla Staff     All  \n",
       " 0547d380aa40a0422f9a02ff623b0b23ff987dcf Mozilla Staff     All  \n",
       " 055057e66ec58a3f975cd711cfa934b7ae2302de Mozilla Staff     All  \n",
       " 057882a7b5594647ebc370db92604aab4395677d Community         All  \n",
       " 05e236dd5726cae9945b50e4396e1c2729728b1e Mozilla Staff     All  \n",
       " 06ae6ee5154b904506a2cb89a190690e5ddad3b8 Community         All  \n",
       " 072a983e28abee658beeff38b027f7bade5bfc59 Mozilla Staff     All  \n",
       " 0788d0afc88aee52077e339f313ee309749287a4 Mozilla Staff     All  \n",
       " 085ffe54c60dcf72ae9733cceb6e68bc9513f8ee Mozilla Staff     All  \n",
       " 0956447625d85ab037661934cd70c4a7354cc587 Mozilla Staff     All  \n",
       " 09829fbb1af1263358087f24769e99fe39350336 Mozilla Staff     All  \n",
       " 0ac3c5a59cbf3452a1d0d454db465ae7c56754a1 Community         All  \n",
       " 0acdaa85ca4a3574f134d43f98b8f5866fa544fa Community         All  \n",
       " 0b3dad253535c9e2d46e3793bafc37608b0e459f Community         All  \n",
       " ...                                                        ...  \n",
       " cbec76d912694b6391e37f387b9b1a64120ff795 Community         All  \n",
       " cbfc2c1b9aca01097aebb07fbfb28820ff1ac9e3 Community         All  \n",
       " cd6f3850a496e0f39422147c083362bbe84726e0 Community         All  \n",
       " ce139b9b618dd6dc7e32733e84ade97792b3cff6 Community         All  \n",
       " ceeaa18f531ef5a2b1e9767fec3c12995a863823 Community         All  \n",
       " d002ed8634e7f1a6a52c0a51cf28895005734549 Community         All  \n",
       " d1375d911fe35e7b582de52630a5e5c63e6b3e0a Community         All  \n",
       " d4497c4d4f701d021f238d6332d3090cb26c538a Community         All  \n",
       " d5579f84647c5ec3b556639b1edf4b3e5bf8bfb5 Community         All  \n",
       " d5602c1008e8c35acc19edd8251ea2d21bd2994e Community         All  \n",
       " d60c751f4d1148cebfe5e446c83b43132eac555d Community         All  \n",
       " d70bf08885e0b99ef95a6618f84812c4d0453a72 Community         All  \n",
       " d837482dda56826ac9c2d2f6896bfc61c0b1a5cd Community         All  \n",
       " da8eabd25f69fef2f2fad4b923a57c81b71c35d3 Community         All  \n",
       " dd6ebf7cd63e3813ebd6f65e87f783638fa3f7e5 Community         All  \n",
       " df3b547ef09345cdb14d54805f305481caefad95 Community         All  \n",
       " df5622646ba56fffe472706b70381ec08d80e439 Community         All  \n",
       " dff4834a0e43f0b2e8faab8664289d8f571c81ee Community         All  \n",
       " e2cc09745e57e49c34aecfe7bfef078e6a9e479c Community         All  \n",
       " e2eb0fb7ae06242d7012ddb7e9539de4bc207e89 Community         All  \n",
       " e982fa475d6db37da3ada79a8329421d6cd384cd Community         All  \n",
       " eb956a9faa2e0fd1f62c37cac1c40cc8ca196020 Community         All  \n",
       " ee964889da78011366a4bbeeaaaa7271d82e54d5 Community         All  \n",
       " f26636f25ce3772f1ff8938aec9f8cd2e7f58f11 Community         All  \n",
       " f33be02c9ec99677fdf5cb7a8ff7cad3a39246ee Community         All  \n",
       " f37c901df202efedf6d6b03315da1a0dfdc492d0 Community         All  \n",
       " f5525062fc1b00c2c3e1c0b5ba127bed88e3162b Community         All  \n",
       " f5eb2857a2529a2b060a5b0bf47e6340379d7952 Community         All  \n",
       " fc392d7c5f4bb0d275013e4746b8a30791c17f71 Community         All  \n",
       " ffc80cdd2aefd7ec0b8fddf6fea18489c40e8c04 Community         All  \n",
       " \n",
       " [305 rows x 3 columns]]"
      ]
     },
     "execution_count": 41,
     "metadata": {},
     "output_type": "execute_result"
    }
   ],
   "source": [
    "###\n",
    "## CREATE A DF CONTAINING, FOR EACH AUTHOR UUID, COUNT OF YEARS OF EXPERIENCE (YEARS\n",
    "## WITH MORE THAN 12 COMMITS MADE) AND LAST YEAR ACTIVE\n",
    "###\n",
    "exp_df_list = []\n",
    "year = 2016\n",
    "\n",
    "for result in results:\n",
    "    exp_df = ut.to_df_by_time(result, 'Author', 'Time', 'Commits', 'Org', 'authors', 'time', 'commits', 'org')\n",
    "    exp_df['Time'] = exp_df['Time'].apply(lambda x: str(pandas.Period(x,'A')))\n",
    "    \n",
    "    ## ACTIVE CONDITION\n",
    "    ## Filter those having less than 12 commits per year\n",
    "    exp_df = exp_df[exp_df['Commits'] >= 12]\n",
    "    \n",
    "    ## Group by author, get MAX YEAR and NUMBER OF ROWS FOR THE GIVEN AUTHOR\n",
    "    exp_df = exp_df.groupby(['Author', 'Org']).agg({'Time': 'max', 'Commits': 'count'})\n",
    "    ## Filter those whose last active year is not the one we want\n",
    "    exp_df = exp_df[exp_df['Time'] == str(year)]\n",
    "    \n",
    "    exp_df['exp'] = exp_df['Commits']\n",
    "    exp_df['last_active'] = exp_df['Time']\n",
    "    exp_df= exp_df.drop('Commits', axis=1)\n",
    "    exp_df = exp_df.drop('Time', axis=1)\n",
    "    \n",
    "    exp_df['project'] = project_name\n",
    "    \n",
    "    exp_df_list.append(exp_df)\n",
    "    \n",
    "    year -= 1\n",
    "\n",
    "exp_df_list"
   ]
  },
  {
   "cell_type": "code",
   "execution_count": 42,
   "metadata": {
    "collapsed": false,
    "scrolled": false
   },
   "outputs": [
    {
     "data": {
      "text/html": [
       "<script>requirejs.config({paths: { 'plotly': ['https://cdn.plot.ly/plotly-latest.min']},});if(!window.Plotly) {{require(['plotly'],function(plotly) {window.Plotly=plotly;});}}</script>"
      ],
      "text/vnd.plotly.v1+html": [
       "<script>requirejs.config({paths: { 'plotly': ['https://cdn.plot.ly/plotly-latest.min']},});if(!window.Plotly) {{require(['plotly'],function(plotly) {window.Plotly=plotly;});}}</script>"
      ]
     },
     "metadata": {},
     "output_type": "display_data"
    },
    {
     "data": {
      "application/vnd.plotly.v1+json": {
       "data": [
        {
         "orientation": "h",
         "type": "bar",
         "x": [
          435,
          213,
          130,
          116,
          88,
          84,
          48,
          38,
          29,
          32,
          2,
          0,
          1,
          0,
          0,
          2,
          1
         ],
         "y": [
          1,
          2,
          3,
          4,
          5,
          6,
          7,
          8,
          9,
          10,
          11,
          12,
          13,
          14,
          15,
          16,
          17
         ]
        }
       ],
       "layout": {
        "barmode": "group",
        "title": "All 2016"
       }
      },
      "text/html": [
       "<div id=\"bf8e43f7-de8a-4d66-bb4e-47b1b7449bad\" style=\"height: 525px; width: 100%;\" class=\"plotly-graph-div\"></div><script type=\"text/javascript\">require([\"plotly\"], function(Plotly) { window.PLOTLYENV=window.PLOTLYENV || {};window.PLOTLYENV.BASE_URL=\"https://plot.ly\";Plotly.newPlot(\"bf8e43f7-de8a-4d66-bb4e-47b1b7449bad\", [{\"x\": [435, 213, 130, 116, 88, 84, 48, 38, 29, 32, 2, 0, 1, 0, 0, 2, 1], \"orientation\": \"h\", \"type\": \"bar\", \"y\": [1, 2, 3, 4, 5, 6, 7, 8, 9, 10, 11, 12, 13, 14, 15, 16, 17]}], {\"title\": \"All 2016\", \"barmode\": \"group\"}, {\"showLink\": true, \"linkText\": \"Export to plot.ly\"})});</script>"
      ],
      "text/vnd.plotly.v1+html": [
       "<div id=\"bf8e43f7-de8a-4d66-bb4e-47b1b7449bad\" style=\"height: 525px; width: 100%;\" class=\"plotly-graph-div\"></div><script type=\"text/javascript\">require([\"plotly\"], function(Plotly) { window.PLOTLYENV=window.PLOTLYENV || {};window.PLOTLYENV.BASE_URL=\"https://plot.ly\";Plotly.newPlot(\"bf8e43f7-de8a-4d66-bb4e-47b1b7449bad\", [{\"x\": [435, 213, 130, 116, 88, 84, 48, 38, 29, 32, 2, 0, 1, 0, 0, 2, 1], \"orientation\": \"h\", \"type\": \"bar\", \"y\": [1, 2, 3, 4, 5, 6, 7, 8, 9, 10, 11, 12, 13, 14, 15, 16, 17]}], {\"title\": \"All 2016\", \"barmode\": \"group\"}, {\"showLink\": true, \"linkText\": \"Export to plot.ly\"})});</script>"
      ]
     },
     "metadata": {},
     "output_type": "display_data"
    },
    {
     "data": {
      "text/html": [
       "<script>requirejs.config({paths: { 'plotly': ['https://cdn.plot.ly/plotly-latest.min']},});if(!window.Plotly) {{require(['plotly'],function(plotly) {window.Plotly=plotly;});}}</script>"
      ],
      "text/vnd.plotly.v1+html": [
       "<script>requirejs.config({paths: { 'plotly': ['https://cdn.plot.ly/plotly-latest.min']},});if(!window.Plotly) {{require(['plotly'],function(plotly) {window.Plotly=plotly;});}}</script>"
      ]
     },
     "metadata": {},
     "output_type": "display_data"
    },
    {
     "data": {
      "application/vnd.plotly.v1+json": {
       "data": [
        {
         "orientation": "h",
         "type": "bar",
         "x": [
          115,
          97,
          91,
          94,
          82,
          76,
          44,
          29,
          25,
          31,
          2,
          0,
          1,
          0,
          0,
          2,
          1
         ],
         "y": [
          1,
          2,
          3,
          4,
          5,
          6,
          7,
          8,
          9,
          10,
          11,
          12,
          13,
          14,
          15,
          16,
          17
         ]
        }
       ],
       "layout": {
        "barmode": "group",
        "title": "All employees 2016"
       }
      },
      "text/html": [
       "<div id=\"fa855a05-4e13-4440-bed7-7aadcce2ea3f\" style=\"height: 525px; width: 100%;\" class=\"plotly-graph-div\"></div><script type=\"text/javascript\">require([\"plotly\"], function(Plotly) { window.PLOTLYENV=window.PLOTLYENV || {};window.PLOTLYENV.BASE_URL=\"https://plot.ly\";Plotly.newPlot(\"fa855a05-4e13-4440-bed7-7aadcce2ea3f\", [{\"x\": [115, 97, 91, 94, 82, 76, 44, 29, 25, 31, 2, 0, 1, 0, 0, 2, 1], \"orientation\": \"h\", \"type\": \"bar\", \"y\": [1, 2, 3, 4, 5, 6, 7, 8, 9, 10, 11, 12, 13, 14, 15, 16, 17]}], {\"title\": \"All employees 2016\", \"barmode\": \"group\"}, {\"showLink\": true, \"linkText\": \"Export to plot.ly\"})});</script>"
      ],
      "text/vnd.plotly.v1+html": [
       "<div id=\"fa855a05-4e13-4440-bed7-7aadcce2ea3f\" style=\"height: 525px; width: 100%;\" class=\"plotly-graph-div\"></div><script type=\"text/javascript\">require([\"plotly\"], function(Plotly) { window.PLOTLYENV=window.PLOTLYENV || {};window.PLOTLYENV.BASE_URL=\"https://plot.ly\";Plotly.newPlot(\"fa855a05-4e13-4440-bed7-7aadcce2ea3f\", [{\"x\": [115, 97, 91, 94, 82, 76, 44, 29, 25, 31, 2, 0, 1, 0, 0, 2, 1], \"orientation\": \"h\", \"type\": \"bar\", \"y\": [1, 2, 3, 4, 5, 6, 7, 8, 9, 10, 11, 12, 13, 14, 15, 16, 17]}], {\"title\": \"All employees 2016\", \"barmode\": \"group\"}, {\"showLink\": true, \"linkText\": \"Export to plot.ly\"})});</script>"
      ]
     },
     "metadata": {},
     "output_type": "display_data"
    },
    {
     "data": {
      "text/html": [
       "<script>requirejs.config({paths: { 'plotly': ['https://cdn.plot.ly/plotly-latest.min']},});if(!window.Plotly) {{require(['plotly'],function(plotly) {window.Plotly=plotly;});}}</script>"
      ],
      "text/vnd.plotly.v1+html": [
       "<script>requirejs.config({paths: { 'plotly': ['https://cdn.plot.ly/plotly-latest.min']},});if(!window.Plotly) {{require(['plotly'],function(plotly) {window.Plotly=plotly;});}}</script>"
      ]
     },
     "metadata": {},
     "output_type": "display_data"
    },
    {
     "data": {
      "application/vnd.plotly.v1+json": {
       "data": [
        {
         "orientation": "h",
         "type": "bar",
         "x": [
          320,
          116,
          39,
          22,
          6,
          8,
          4,
          9,
          4,
          1
         ],
         "y": [
          1,
          2,
          3,
          4,
          5,
          6,
          7,
          8,
          9,
          10
         ]
        }
       ],
       "layout": {
        "barmode": "group",
        "title": "All non-employees 2016"
       }
      },
      "text/html": [
       "<div id=\"8790ddb3-cd06-4169-801a-99348b4d3941\" style=\"height: 525px; width: 100%;\" class=\"plotly-graph-div\"></div><script type=\"text/javascript\">require([\"plotly\"], function(Plotly) { window.PLOTLYENV=window.PLOTLYENV || {};window.PLOTLYENV.BASE_URL=\"https://plot.ly\";Plotly.newPlot(\"8790ddb3-cd06-4169-801a-99348b4d3941\", [{\"x\": [320, 116, 39, 22, 6, 8, 4, 9, 4, 1], \"orientation\": \"h\", \"type\": \"bar\", \"y\": [1, 2, 3, 4, 5, 6, 7, 8, 9, 10]}], {\"title\": \"All non-employees 2016\", \"barmode\": \"group\"}, {\"showLink\": true, \"linkText\": \"Export to plot.ly\"})});</script>"
      ],
      "text/vnd.plotly.v1+html": [
       "<div id=\"8790ddb3-cd06-4169-801a-99348b4d3941\" style=\"height: 525px; width: 100%;\" class=\"plotly-graph-div\"></div><script type=\"text/javascript\">require([\"plotly\"], function(Plotly) { window.PLOTLYENV=window.PLOTLYENV || {};window.PLOTLYENV.BASE_URL=\"https://plot.ly\";Plotly.newPlot(\"8790ddb3-cd06-4169-801a-99348b4d3941\", [{\"x\": [320, 116, 39, 22, 6, 8, 4, 9, 4, 1], \"orientation\": \"h\", \"type\": \"bar\", \"y\": [1, 2, 3, 4, 5, 6, 7, 8, 9, 10]}], {\"title\": \"All non-employees 2016\", \"barmode\": \"group\"}, {\"showLink\": true, \"linkText\": \"Export to plot.ly\"})});</script>"
      ]
     },
     "metadata": {},
     "output_type": "display_data"
    },
    {
     "data": {
      "text/html": [
       "<script>requirejs.config({paths: { 'plotly': ['https://cdn.plot.ly/plotly-latest.min']},});if(!window.Plotly) {{require(['plotly'],function(plotly) {window.Plotly=plotly;});}}</script>"
      ],
      "text/vnd.plotly.v1+html": [
       "<script>requirejs.config({paths: { 'plotly': ['https://cdn.plot.ly/plotly-latest.min']},});if(!window.Plotly) {{require(['plotly'],function(plotly) {window.Plotly=plotly;});}}</script>"
      ]
     },
     "metadata": {},
     "output_type": "display_data"
    },
    {
     "data": {
      "application/vnd.plotly.v1+json": {
       "data": [
        {
         "orientation": "h",
         "type": "bar",
         "x": [
          453,
          218,
          157,
          109,
          95,
          54,
          41,
          31,
          38,
          2,
          1,
          1,
          0,
          0,
          2,
          1
         ],
         "y": [
          1,
          2,
          3,
          4,
          5,
          6,
          7,
          8,
          9,
          10,
          11,
          12,
          13,
          14,
          15,
          16
         ]
        }
       ],
       "layout": {
        "barmode": "group",
        "title": "All 2015"
       }
      },
      "text/html": [
       "<div id=\"0322fcc0-32fe-46e8-bc7a-8dc078448d8b\" style=\"height: 525px; width: 100%;\" class=\"plotly-graph-div\"></div><script type=\"text/javascript\">require([\"plotly\"], function(Plotly) { window.PLOTLYENV=window.PLOTLYENV || {};window.PLOTLYENV.BASE_URL=\"https://plot.ly\";Plotly.newPlot(\"0322fcc0-32fe-46e8-bc7a-8dc078448d8b\", [{\"x\": [453, 218, 157, 109, 95, 54, 41, 31, 38, 2, 1, 1, 0, 0, 2, 1], \"orientation\": \"h\", \"type\": \"bar\", \"y\": [1, 2, 3, 4, 5, 6, 7, 8, 9, 10, 11, 12, 13, 14, 15, 16]}], {\"title\": \"All 2015\", \"barmode\": \"group\"}, {\"showLink\": true, \"linkText\": \"Export to plot.ly\"})});</script>"
      ],
      "text/vnd.plotly.v1+html": [
       "<div id=\"0322fcc0-32fe-46e8-bc7a-8dc078448d8b\" style=\"height: 525px; width: 100%;\" class=\"plotly-graph-div\"></div><script type=\"text/javascript\">require([\"plotly\"], function(Plotly) { window.PLOTLYENV=window.PLOTLYENV || {};window.PLOTLYENV.BASE_URL=\"https://plot.ly\";Plotly.newPlot(\"0322fcc0-32fe-46e8-bc7a-8dc078448d8b\", [{\"x\": [453, 218, 157, 109, 95, 54, 41, 31, 38, 2, 1, 1, 0, 0, 2, 1], \"orientation\": \"h\", \"type\": \"bar\", \"y\": [1, 2, 3, 4, 5, 6, 7, 8, 9, 10, 11, 12, 13, 14, 15, 16]}], {\"title\": \"All 2015\", \"barmode\": \"group\"}, {\"showLink\": true, \"linkText\": \"Export to plot.ly\"})});</script>"
      ]
     },
     "metadata": {},
     "output_type": "display_data"
    },
    {
     "data": {
      "text/html": [
       "<script>requirejs.config({paths: { 'plotly': ['https://cdn.plot.ly/plotly-latest.min']},});if(!window.Plotly) {{require(['plotly'],function(plotly) {window.Plotly=plotly;});}}</script>"
      ],
      "text/vnd.plotly.v1+html": [
       "<script>requirejs.config({paths: { 'plotly': ['https://cdn.plot.ly/plotly-latest.min']},});if(!window.Plotly) {{require(['plotly'],function(plotly) {window.Plotly=plotly;});}}</script>"
      ]
     },
     "metadata": {},
     "output_type": "display_data"
    },
    {
     "data": {
      "application/vnd.plotly.v1+json": {
       "data": [
        {
         "orientation": "h",
         "type": "bar",
         "x": [
          123,
          124,
          120,
          100,
          86,
          50,
          32,
          27,
          35,
          2,
          1,
          1,
          0,
          0,
          2,
          1
         ],
         "y": [
          1,
          2,
          3,
          4,
          5,
          6,
          7,
          8,
          9,
          10,
          11,
          12,
          13,
          14,
          15,
          16
         ]
        }
       ],
       "layout": {
        "barmode": "group",
        "title": "All employees 2015"
       }
      },
      "text/html": [
       "<div id=\"524058c2-a420-4578-89bf-0250abb71bdc\" style=\"height: 525px; width: 100%;\" class=\"plotly-graph-div\"></div><script type=\"text/javascript\">require([\"plotly\"], function(Plotly) { window.PLOTLYENV=window.PLOTLYENV || {};window.PLOTLYENV.BASE_URL=\"https://plot.ly\";Plotly.newPlot(\"524058c2-a420-4578-89bf-0250abb71bdc\", [{\"x\": [123, 124, 120, 100, 86, 50, 32, 27, 35, 2, 1, 1, 0, 0, 2, 1], \"orientation\": \"h\", \"type\": \"bar\", \"y\": [1, 2, 3, 4, 5, 6, 7, 8, 9, 10, 11, 12, 13, 14, 15, 16]}], {\"title\": \"All employees 2015\", \"barmode\": \"group\"}, {\"showLink\": true, \"linkText\": \"Export to plot.ly\"})});</script>"
      ],
      "text/vnd.plotly.v1+html": [
       "<div id=\"524058c2-a420-4578-89bf-0250abb71bdc\" style=\"height: 525px; width: 100%;\" class=\"plotly-graph-div\"></div><script type=\"text/javascript\">require([\"plotly\"], function(Plotly) { window.PLOTLYENV=window.PLOTLYENV || {};window.PLOTLYENV.BASE_URL=\"https://plot.ly\";Plotly.newPlot(\"524058c2-a420-4578-89bf-0250abb71bdc\", [{\"x\": [123, 124, 120, 100, 86, 50, 32, 27, 35, 2, 1, 1, 0, 0, 2, 1], \"orientation\": \"h\", \"type\": \"bar\", \"y\": [1, 2, 3, 4, 5, 6, 7, 8, 9, 10, 11, 12, 13, 14, 15, 16]}], {\"title\": \"All employees 2015\", \"barmode\": \"group\"}, {\"showLink\": true, \"linkText\": \"Export to plot.ly\"})});</script>"
      ]
     },
     "metadata": {},
     "output_type": "display_data"
    },
    {
     "data": {
      "text/html": [
       "<script>requirejs.config({paths: { 'plotly': ['https://cdn.plot.ly/plotly-latest.min']},});if(!window.Plotly) {{require(['plotly'],function(plotly) {window.Plotly=plotly;});}}</script>"
      ],
      "text/vnd.plotly.v1+html": [
       "<script>requirejs.config({paths: { 'plotly': ['https://cdn.plot.ly/plotly-latest.min']},});if(!window.Plotly) {{require(['plotly'],function(plotly) {window.Plotly=plotly;});}}</script>"
      ]
     },
     "metadata": {},
     "output_type": "display_data"
    },
    {
     "data": {
      "application/vnd.plotly.v1+json": {
       "data": [
        {
         "orientation": "h",
         "type": "bar",
         "x": [
          330,
          94,
          37,
          9,
          9,
          4,
          9,
          4,
          3
         ],
         "y": [
          1,
          2,
          3,
          4,
          5,
          6,
          7,
          8,
          9
         ]
        }
       ],
       "layout": {
        "barmode": "group",
        "title": "All non-employees 2015"
       }
      },
      "text/html": [
       "<div id=\"301fa508-30cf-4dff-b6bd-03924463eab2\" style=\"height: 525px; width: 100%;\" class=\"plotly-graph-div\"></div><script type=\"text/javascript\">require([\"plotly\"], function(Plotly) { window.PLOTLYENV=window.PLOTLYENV || {};window.PLOTLYENV.BASE_URL=\"https://plot.ly\";Plotly.newPlot(\"301fa508-30cf-4dff-b6bd-03924463eab2\", [{\"x\": [330, 94, 37, 9, 9, 4, 9, 4, 3], \"orientation\": \"h\", \"type\": \"bar\", \"y\": [1, 2, 3, 4, 5, 6, 7, 8, 9]}], {\"title\": \"All non-employees 2015\", \"barmode\": \"group\"}, {\"showLink\": true, \"linkText\": \"Export to plot.ly\"})});</script>"
      ],
      "text/vnd.plotly.v1+html": [
       "<div id=\"301fa508-30cf-4dff-b6bd-03924463eab2\" style=\"height: 525px; width: 100%;\" class=\"plotly-graph-div\"></div><script type=\"text/javascript\">require([\"plotly\"], function(Plotly) { window.PLOTLYENV=window.PLOTLYENV || {};window.PLOTLYENV.BASE_URL=\"https://plot.ly\";Plotly.newPlot(\"301fa508-30cf-4dff-b6bd-03924463eab2\", [{\"x\": [330, 94, 37, 9, 9, 4, 9, 4, 3], \"orientation\": \"h\", \"type\": \"bar\", \"y\": [1, 2, 3, 4, 5, 6, 7, 8, 9]}], {\"title\": \"All non-employees 2015\", \"barmode\": \"group\"}, {\"showLink\": true, \"linkText\": \"Export to plot.ly\"})});</script>"
      ]
     },
     "metadata": {},
     "output_type": "display_data"
    },
    {
     "data": {
      "text/html": [
       "<script>requirejs.config({paths: { 'plotly': ['https://cdn.plot.ly/plotly-latest.min']},});if(!window.Plotly) {{require(['plotly'],function(plotly) {window.Plotly=plotly;});}}</script>"
      ],
      "text/vnd.plotly.v1+html": [
       "<script>requirejs.config({paths: { 'plotly': ['https://cdn.plot.ly/plotly-latest.min']},});if(!window.Plotly) {{require(['plotly'],function(plotly) {window.Plotly=plotly;});}}</script>"
      ]
     },
     "metadata": {},
     "output_type": "display_data"
    },
    {
     "data": {
      "application/vnd.plotly.v1+json": {
       "data": [
        {
         "orientation": "h",
         "type": "bar",
         "x": [
          482,
          215,
          151,
          116,
          63,
          46,
          35,
          42,
          2,
          2,
          1,
          0,
          0,
          2,
          1
         ],
         "y": [
          1,
          2,
          3,
          4,
          5,
          6,
          7,
          8,
          9,
          10,
          11,
          12,
          13,
          14,
          15
         ]
        }
       ],
       "layout": {
        "barmode": "group",
        "title": "All 2014"
       }
      },
      "text/html": [
       "<div id=\"539a5829-7187-40d2-8763-0a1b27316ad0\" style=\"height: 525px; width: 100%;\" class=\"plotly-graph-div\"></div><script type=\"text/javascript\">require([\"plotly\"], function(Plotly) { window.PLOTLYENV=window.PLOTLYENV || {};window.PLOTLYENV.BASE_URL=\"https://plot.ly\";Plotly.newPlot(\"539a5829-7187-40d2-8763-0a1b27316ad0\", [{\"x\": [482, 215, 151, 116, 63, 46, 35, 42, 2, 2, 1, 0, 0, 2, 1], \"orientation\": \"h\", \"type\": \"bar\", \"y\": [1, 2, 3, 4, 5, 6, 7, 8, 9, 10, 11, 12, 13, 14, 15]}], {\"title\": \"All 2014\", \"barmode\": \"group\"}, {\"showLink\": true, \"linkText\": \"Export to plot.ly\"})});</script>"
      ],
      "text/vnd.plotly.v1+html": [
       "<div id=\"539a5829-7187-40d2-8763-0a1b27316ad0\" style=\"height: 525px; width: 100%;\" class=\"plotly-graph-div\"></div><script type=\"text/javascript\">require([\"plotly\"], function(Plotly) { window.PLOTLYENV=window.PLOTLYENV || {};window.PLOTLYENV.BASE_URL=\"https://plot.ly\";Plotly.newPlot(\"539a5829-7187-40d2-8763-0a1b27316ad0\", [{\"x\": [482, 215, 151, 116, 63, 46, 35, 42, 2, 2, 1, 0, 0, 2, 1], \"orientation\": \"h\", \"type\": \"bar\", \"y\": [1, 2, 3, 4, 5, 6, 7, 8, 9, 10, 11, 12, 13, 14, 15]}], {\"title\": \"All 2014\", \"barmode\": \"group\"}, {\"showLink\": true, \"linkText\": \"Export to plot.ly\"})});</script>"
      ]
     },
     "metadata": {},
     "output_type": "display_data"
    },
    {
     "data": {
      "text/html": [
       "<script>requirejs.config({paths: { 'plotly': ['https://cdn.plot.ly/plotly-latest.min']},});if(!window.Plotly) {{require(['plotly'],function(plotly) {window.Plotly=plotly;});}}</script>"
      ],
      "text/vnd.plotly.v1+html": [
       "<script>requirejs.config({paths: { 'plotly': ['https://cdn.plot.ly/plotly-latest.min']},});if(!window.Plotly) {{require(['plotly'],function(plotly) {window.Plotly=plotly;});}}</script>"
      ]
     },
     "metadata": {},
     "output_type": "display_data"
    },
    {
     "data": {
      "application/vnd.plotly.v1+json": {
       "data": [
        {
         "orientation": "h",
         "type": "bar",
         "x": [
          196,
          152,
          128,
          100,
          56,
          37,
          31,
          39,
          2,
          2,
          1,
          0,
          0,
          2,
          1
         ],
         "y": [
          1,
          2,
          3,
          4,
          5,
          6,
          7,
          8,
          9,
          10,
          11,
          12,
          13,
          14,
          15
         ]
        }
       ],
       "layout": {
        "barmode": "group",
        "title": "All employees 2014"
       }
      },
      "text/html": [
       "<div id=\"23ec9194-c802-4141-a063-d720e0a7efb2\" style=\"height: 525px; width: 100%;\" class=\"plotly-graph-div\"></div><script type=\"text/javascript\">require([\"plotly\"], function(Plotly) { window.PLOTLYENV=window.PLOTLYENV || {};window.PLOTLYENV.BASE_URL=\"https://plot.ly\";Plotly.newPlot(\"23ec9194-c802-4141-a063-d720e0a7efb2\", [{\"x\": [196, 152, 128, 100, 56, 37, 31, 39, 2, 2, 1, 0, 0, 2, 1], \"orientation\": \"h\", \"type\": \"bar\", \"y\": [1, 2, 3, 4, 5, 6, 7, 8, 9, 10, 11, 12, 13, 14, 15]}], {\"title\": \"All employees 2014\", \"barmode\": \"group\"}, {\"showLink\": true, \"linkText\": \"Export to plot.ly\"})});</script>"
      ],
      "text/vnd.plotly.v1+html": [
       "<div id=\"23ec9194-c802-4141-a063-d720e0a7efb2\" style=\"height: 525px; width: 100%;\" class=\"plotly-graph-div\"></div><script type=\"text/javascript\">require([\"plotly\"], function(Plotly) { window.PLOTLYENV=window.PLOTLYENV || {};window.PLOTLYENV.BASE_URL=\"https://plot.ly\";Plotly.newPlot(\"23ec9194-c802-4141-a063-d720e0a7efb2\", [{\"x\": [196, 152, 128, 100, 56, 37, 31, 39, 2, 2, 1, 0, 0, 2, 1], \"orientation\": \"h\", \"type\": \"bar\", \"y\": [1, 2, 3, 4, 5, 6, 7, 8, 9, 10, 11, 12, 13, 14, 15]}], {\"title\": \"All employees 2014\", \"barmode\": \"group\"}, {\"showLink\": true, \"linkText\": \"Export to plot.ly\"})});</script>"
      ]
     },
     "metadata": {},
     "output_type": "display_data"
    },
    {
     "data": {
      "text/html": [
       "<script>requirejs.config({paths: { 'plotly': ['https://cdn.plot.ly/plotly-latest.min']},});if(!window.Plotly) {{require(['plotly'],function(plotly) {window.Plotly=plotly;});}}</script>"
      ],
      "text/vnd.plotly.v1+html": [
       "<script>requirejs.config({paths: { 'plotly': ['https://cdn.plot.ly/plotly-latest.min']},});if(!window.Plotly) {{require(['plotly'],function(plotly) {window.Plotly=plotly;});}}</script>"
      ]
     },
     "metadata": {},
     "output_type": "display_data"
    },
    {
     "data": {
      "application/vnd.plotly.v1+json": {
       "data": [
        {
         "orientation": "h",
         "type": "bar",
         "x": [
          286,
          63,
          23,
          16,
          7,
          9,
          4,
          3
         ],
         "y": [
          1,
          2,
          3,
          4,
          5,
          6,
          7,
          8
         ]
        }
       ],
       "layout": {
        "barmode": "group",
        "title": "All non-employees 2014"
       }
      },
      "text/html": [
       "<div id=\"a616eff3-9ea2-432c-872b-a1fdebe65e04\" style=\"height: 525px; width: 100%;\" class=\"plotly-graph-div\"></div><script type=\"text/javascript\">require([\"plotly\"], function(Plotly) { window.PLOTLYENV=window.PLOTLYENV || {};window.PLOTLYENV.BASE_URL=\"https://plot.ly\";Plotly.newPlot(\"a616eff3-9ea2-432c-872b-a1fdebe65e04\", [{\"x\": [286, 63, 23, 16, 7, 9, 4, 3], \"orientation\": \"h\", \"type\": \"bar\", \"y\": [1, 2, 3, 4, 5, 6, 7, 8]}], {\"title\": \"All non-employees 2014\", \"barmode\": \"group\"}, {\"showLink\": true, \"linkText\": \"Export to plot.ly\"})});</script>"
      ],
      "text/vnd.plotly.v1+html": [
       "<div id=\"a616eff3-9ea2-432c-872b-a1fdebe65e04\" style=\"height: 525px; width: 100%;\" class=\"plotly-graph-div\"></div><script type=\"text/javascript\">require([\"plotly\"], function(Plotly) { window.PLOTLYENV=window.PLOTLYENV || {};window.PLOTLYENV.BASE_URL=\"https://plot.ly\";Plotly.newPlot(\"a616eff3-9ea2-432c-872b-a1fdebe65e04\", [{\"x\": [286, 63, 23, 16, 7, 9, 4, 3], \"orientation\": \"h\", \"type\": \"bar\", \"y\": [1, 2, 3, 4, 5, 6, 7, 8]}], {\"title\": \"All non-employees 2014\", \"barmode\": \"group\"}, {\"showLink\": true, \"linkText\": \"Export to plot.ly\"})});</script>"
      ]
     },
     "metadata": {},
     "output_type": "display_data"
    },
    {
     "data": {
      "text/html": [
       "<script>requirejs.config({paths: { 'plotly': ['https://cdn.plot.ly/plotly-latest.min']},});if(!window.Plotly) {{require(['plotly'],function(plotly) {window.Plotly=plotly;});}}</script>"
      ],
      "text/vnd.plotly.v1+html": [
       "<script>requirejs.config({paths: { 'plotly': ['https://cdn.plot.ly/plotly-latest.min']},});if(!window.Plotly) {{require(['plotly'],function(plotly) {window.Plotly=plotly;});}}</script>"
      ]
     },
     "metadata": {},
     "output_type": "display_data"
    },
    {
     "data": {
      "application/vnd.plotly.v1+json": {
       "data": [
        {
         "orientation": "h",
         "type": "bar",
         "x": [
          412,
          195,
          145,
          75,
          49,
          40,
          45,
          2,
          3,
          1,
          0,
          0,
          2,
          1
         ],
         "y": [
          1,
          2,
          3,
          4,
          5,
          6,
          7,
          8,
          9,
          10,
          11,
          12,
          13,
          14
         ]
        }
       ],
       "layout": {
        "barmode": "group",
        "title": "All 2013"
       }
      },
      "text/html": [
       "<div id=\"e1e152af-3c19-4b59-bfc5-7634a567cf98\" style=\"height: 525px; width: 100%;\" class=\"plotly-graph-div\"></div><script type=\"text/javascript\">require([\"plotly\"], function(Plotly) { window.PLOTLYENV=window.PLOTLYENV || {};window.PLOTLYENV.BASE_URL=\"https://plot.ly\";Plotly.newPlot(\"e1e152af-3c19-4b59-bfc5-7634a567cf98\", [{\"x\": [412, 195, 145, 75, 49, 40, 45, 2, 3, 1, 0, 0, 2, 1], \"orientation\": \"h\", \"type\": \"bar\", \"y\": [1, 2, 3, 4, 5, 6, 7, 8, 9, 10, 11, 12, 13, 14]}], {\"title\": \"All 2013\", \"barmode\": \"group\"}, {\"showLink\": true, \"linkText\": \"Export to plot.ly\"})});</script>"
      ],
      "text/vnd.plotly.v1+html": [
       "<div id=\"e1e152af-3c19-4b59-bfc5-7634a567cf98\" style=\"height: 525px; width: 100%;\" class=\"plotly-graph-div\"></div><script type=\"text/javascript\">require([\"plotly\"], function(Plotly) { window.PLOTLYENV=window.PLOTLYENV || {};window.PLOTLYENV.BASE_URL=\"https://plot.ly\";Plotly.newPlot(\"e1e152af-3c19-4b59-bfc5-7634a567cf98\", [{\"x\": [412, 195, 145, 75, 49, 40, 45, 2, 3, 1, 0, 0, 2, 1], \"orientation\": \"h\", \"type\": \"bar\", \"y\": [1, 2, 3, 4, 5, 6, 7, 8, 9, 10, 11, 12, 13, 14]}], {\"title\": \"All 2013\", \"barmode\": \"group\"}, {\"showLink\": true, \"linkText\": \"Export to plot.ly\"})});</script>"
      ]
     },
     "metadata": {},
     "output_type": "display_data"
    },
    {
     "data": {
      "text/html": [
       "<script>requirejs.config({paths: { 'plotly': ['https://cdn.plot.ly/plotly-latest.min']},});if(!window.Plotly) {{require(['plotly'],function(plotly) {window.Plotly=plotly;});}}</script>"
      ],
      "text/vnd.plotly.v1+html": [
       "<script>requirejs.config({paths: { 'plotly': ['https://cdn.plot.ly/plotly-latest.min']},});if(!window.Plotly) {{require(['plotly'],function(plotly) {window.Plotly=plotly;});}}</script>"
      ]
     },
     "metadata": {},
     "output_type": "display_data"
    },
    {
     "data": {
      "application/vnd.plotly.v1+json": {
       "data": [
        {
         "orientation": "h",
         "type": "bar",
         "x": [
          219,
          147,
          122,
          64,
          41,
          36,
          41,
          2,
          3,
          1,
          0,
          0,
          2,
          1
         ],
         "y": [
          1,
          2,
          3,
          4,
          5,
          6,
          7,
          8,
          9,
          10,
          11,
          12,
          13,
          14
         ]
        }
       ],
       "layout": {
        "barmode": "group",
        "title": "All employees 2013"
       }
      },
      "text/html": [
       "<div id=\"84169356-b488-4394-812d-44b83064c407\" style=\"height: 525px; width: 100%;\" class=\"plotly-graph-div\"></div><script type=\"text/javascript\">require([\"plotly\"], function(Plotly) { window.PLOTLYENV=window.PLOTLYENV || {};window.PLOTLYENV.BASE_URL=\"https://plot.ly\";Plotly.newPlot(\"84169356-b488-4394-812d-44b83064c407\", [{\"x\": [219, 147, 122, 64, 41, 36, 41, 2, 3, 1, 0, 0, 2, 1], \"orientation\": \"h\", \"type\": \"bar\", \"y\": [1, 2, 3, 4, 5, 6, 7, 8, 9, 10, 11, 12, 13, 14]}], {\"title\": \"All employees 2013\", \"barmode\": \"group\"}, {\"showLink\": true, \"linkText\": \"Export to plot.ly\"})});</script>"
      ],
      "text/vnd.plotly.v1+html": [
       "<div id=\"84169356-b488-4394-812d-44b83064c407\" style=\"height: 525px; width: 100%;\" class=\"plotly-graph-div\"></div><script type=\"text/javascript\">require([\"plotly\"], function(Plotly) { window.PLOTLYENV=window.PLOTLYENV || {};window.PLOTLYENV.BASE_URL=\"https://plot.ly\";Plotly.newPlot(\"84169356-b488-4394-812d-44b83064c407\", [{\"x\": [219, 147, 122, 64, 41, 36, 41, 2, 3, 1, 0, 0, 2, 1], \"orientation\": \"h\", \"type\": \"bar\", \"y\": [1, 2, 3, 4, 5, 6, 7, 8, 9, 10, 11, 12, 13, 14]}], {\"title\": \"All employees 2013\", \"barmode\": \"group\"}, {\"showLink\": true, \"linkText\": \"Export to plot.ly\"})});</script>"
      ]
     },
     "metadata": {},
     "output_type": "display_data"
    },
    {
     "data": {
      "text/html": [
       "<script>requirejs.config({paths: { 'plotly': ['https://cdn.plot.ly/plotly-latest.min']},});if(!window.Plotly) {{require(['plotly'],function(plotly) {window.Plotly=plotly;});}}</script>"
      ],
      "text/vnd.plotly.v1+html": [
       "<script>requirejs.config({paths: { 'plotly': ['https://cdn.plot.ly/plotly-latest.min']},});if(!window.Plotly) {{require(['plotly'],function(plotly) {window.Plotly=plotly;});}}</script>"
      ]
     },
     "metadata": {},
     "output_type": "display_data"
    },
    {
     "data": {
      "application/vnd.plotly.v1+json": {
       "data": [
        {
         "orientation": "h",
         "type": "bar",
         "x": [
          193,
          48,
          23,
          11,
          8,
          4,
          4
         ],
         "y": [
          1,
          2,
          3,
          4,
          5,
          6,
          7
         ]
        }
       ],
       "layout": {
        "barmode": "group",
        "title": "All non-employees 2013"
       }
      },
      "text/html": [
       "<div id=\"bf1c2e90-3061-4c40-a33f-ce5e96544f3c\" style=\"height: 525px; width: 100%;\" class=\"plotly-graph-div\"></div><script type=\"text/javascript\">require([\"plotly\"], function(Plotly) { window.PLOTLYENV=window.PLOTLYENV || {};window.PLOTLYENV.BASE_URL=\"https://plot.ly\";Plotly.newPlot(\"bf1c2e90-3061-4c40-a33f-ce5e96544f3c\", [{\"x\": [193, 48, 23, 11, 8, 4, 4], \"orientation\": \"h\", \"type\": \"bar\", \"y\": [1, 2, 3, 4, 5, 6, 7]}], {\"title\": \"All non-employees 2013\", \"barmode\": \"group\"}, {\"showLink\": true, \"linkText\": \"Export to plot.ly\"})});</script>"
      ],
      "text/vnd.plotly.v1+html": [
       "<div id=\"bf1c2e90-3061-4c40-a33f-ce5e96544f3c\" style=\"height: 525px; width: 100%;\" class=\"plotly-graph-div\"></div><script type=\"text/javascript\">require([\"plotly\"], function(Plotly) { window.PLOTLYENV=window.PLOTLYENV || {};window.PLOTLYENV.BASE_URL=\"https://plot.ly\";Plotly.newPlot(\"bf1c2e90-3061-4c40-a33f-ce5e96544f3c\", [{\"x\": [193, 48, 23, 11, 8, 4, 4], \"orientation\": \"h\", \"type\": \"bar\", \"y\": [1, 2, 3, 4, 5, 6, 7]}], {\"title\": \"All non-employees 2013\", \"barmode\": \"group\"}, {\"showLink\": true, \"linkText\": \"Export to plot.ly\"})});</script>"
      ]
     },
     "metadata": {},
     "output_type": "display_data"
    },
    {
     "data": {
      "text/html": [
       "<script>requirejs.config({paths: { 'plotly': ['https://cdn.plot.ly/plotly-latest.min']},});if(!window.Plotly) {{require(['plotly'],function(plotly) {window.Plotly=plotly;});}}</script>"
      ],
      "text/vnd.plotly.v1+html": [
       "<script>requirejs.config({paths: { 'plotly': ['https://cdn.plot.ly/plotly-latest.min']},});if(!window.Plotly) {{require(['plotly'],function(plotly) {window.Plotly=plotly;});}}</script>"
      ]
     },
     "metadata": {},
     "output_type": "display_data"
    },
    {
     "data": {
      "application/vnd.plotly.v1+json": {
       "data": [
        {
         "orientation": "h",
         "type": "bar",
         "x": [
          334,
          206,
          91,
          58,
          53,
          50,
          3,
          2,
          1,
          1,
          0,
          2,
          1
         ],
         "y": [
          1,
          2,
          3,
          4,
          5,
          6,
          7,
          8,
          9,
          10,
          11,
          12,
          13
         ]
        }
       ],
       "layout": {
        "barmode": "group",
        "title": "All 2012"
       }
      },
      "text/html": [
       "<div id=\"8e784d3e-4859-4514-8c90-2644bed6cf15\" style=\"height: 525px; width: 100%;\" class=\"plotly-graph-div\"></div><script type=\"text/javascript\">require([\"plotly\"], function(Plotly) { window.PLOTLYENV=window.PLOTLYENV || {};window.PLOTLYENV.BASE_URL=\"https://plot.ly\";Plotly.newPlot(\"8e784d3e-4859-4514-8c90-2644bed6cf15\", [{\"x\": [334, 206, 91, 58, 53, 50, 3, 2, 1, 1, 0, 2, 1], \"orientation\": \"h\", \"type\": \"bar\", \"y\": [1, 2, 3, 4, 5, 6, 7, 8, 9, 10, 11, 12, 13]}], {\"title\": \"All 2012\", \"barmode\": \"group\"}, {\"showLink\": true, \"linkText\": \"Export to plot.ly\"})});</script>"
      ],
      "text/vnd.plotly.v1+html": [
       "<div id=\"8e784d3e-4859-4514-8c90-2644bed6cf15\" style=\"height: 525px; width: 100%;\" class=\"plotly-graph-div\"></div><script type=\"text/javascript\">require([\"plotly\"], function(Plotly) { window.PLOTLYENV=window.PLOTLYENV || {};window.PLOTLYENV.BASE_URL=\"https://plot.ly\";Plotly.newPlot(\"8e784d3e-4859-4514-8c90-2644bed6cf15\", [{\"x\": [334, 206, 91, 58, 53, 50, 3, 2, 1, 1, 0, 2, 1], \"orientation\": \"h\", \"type\": \"bar\", \"y\": [1, 2, 3, 4, 5, 6, 7, 8, 9, 10, 11, 12, 13]}], {\"title\": \"All 2012\", \"barmode\": \"group\"}, {\"showLink\": true, \"linkText\": \"Export to plot.ly\"})});</script>"
      ]
     },
     "metadata": {},
     "output_type": "display_data"
    },
    {
     "data": {
      "text/html": [
       "<script>requirejs.config({paths: { 'plotly': ['https://cdn.plot.ly/plotly-latest.min']},});if(!window.Plotly) {{require(['plotly'],function(plotly) {window.Plotly=plotly;});}}</script>"
      ],
      "text/vnd.plotly.v1+html": [
       "<script>requirejs.config({paths: { 'plotly': ['https://cdn.plot.ly/plotly-latest.min']},});if(!window.Plotly) {{require(['plotly'],function(plotly) {window.Plotly=plotly;});}}</script>"
      ]
     },
     "metadata": {},
     "output_type": "display_data"
    },
    {
     "data": {
      "application/vnd.plotly.v1+json": {
       "data": [
        {
         "orientation": "h",
         "type": "bar",
         "x": [
          194,
          151,
          68,
          46,
          46,
          45,
          3,
          2,
          1,
          1,
          0,
          2,
          1
         ],
         "y": [
          1,
          2,
          3,
          4,
          5,
          6,
          7,
          8,
          9,
          10,
          11,
          12,
          13
         ]
        }
       ],
       "layout": {
        "barmode": "group",
        "title": "All employees 2012"
       }
      },
      "text/html": [
       "<div id=\"1bdf1cd9-aff7-45d6-8a28-c7b3d283b90a\" style=\"height: 525px; width: 100%;\" class=\"plotly-graph-div\"></div><script type=\"text/javascript\">require([\"plotly\"], function(Plotly) { window.PLOTLYENV=window.PLOTLYENV || {};window.PLOTLYENV.BASE_URL=\"https://plot.ly\";Plotly.newPlot(\"1bdf1cd9-aff7-45d6-8a28-c7b3d283b90a\", [{\"x\": [194, 151, 68, 46, 46, 45, 3, 2, 1, 1, 0, 2, 1], \"orientation\": \"h\", \"type\": \"bar\", \"y\": [1, 2, 3, 4, 5, 6, 7, 8, 9, 10, 11, 12, 13]}], {\"title\": \"All employees 2012\", \"barmode\": \"group\"}, {\"showLink\": true, \"linkText\": \"Export to plot.ly\"})});</script>"
      ],
      "text/vnd.plotly.v1+html": [
       "<div id=\"1bdf1cd9-aff7-45d6-8a28-c7b3d283b90a\" style=\"height: 525px; width: 100%;\" class=\"plotly-graph-div\"></div><script type=\"text/javascript\">require([\"plotly\"], function(Plotly) { window.PLOTLYENV=window.PLOTLYENV || {};window.PLOTLYENV.BASE_URL=\"https://plot.ly\";Plotly.newPlot(\"1bdf1cd9-aff7-45d6-8a28-c7b3d283b90a\", [{\"x\": [194, 151, 68, 46, 46, 45, 3, 2, 1, 1, 0, 2, 1], \"orientation\": \"h\", \"type\": \"bar\", \"y\": [1, 2, 3, 4, 5, 6, 7, 8, 9, 10, 11, 12, 13]}], {\"title\": \"All employees 2012\", \"barmode\": \"group\"}, {\"showLink\": true, \"linkText\": \"Export to plot.ly\"})});</script>"
      ]
     },
     "metadata": {},
     "output_type": "display_data"
    },
    {
     "data": {
      "text/html": [
       "<script>requirejs.config({paths: { 'plotly': ['https://cdn.plot.ly/plotly-latest.min']},});if(!window.Plotly) {{require(['plotly'],function(plotly) {window.Plotly=plotly;});}}</script>"
      ],
      "text/vnd.plotly.v1+html": [
       "<script>requirejs.config({paths: { 'plotly': ['https://cdn.plot.ly/plotly-latest.min']},});if(!window.Plotly) {{require(['plotly'],function(plotly) {window.Plotly=plotly;});}}</script>"
      ]
     },
     "metadata": {},
     "output_type": "display_data"
    },
    {
     "data": {
      "application/vnd.plotly.v1+json": {
       "data": [
        {
         "orientation": "h",
         "type": "bar",
         "x": [
          140,
          55,
          23,
          12,
          7,
          5
         ],
         "y": [
          1,
          2,
          3,
          4,
          5,
          6
         ]
        }
       ],
       "layout": {
        "barmode": "group",
        "title": "All non-employees 2012"
       }
      },
      "text/html": [
       "<div id=\"199156a7-dd04-4b13-8ff5-25eb7567105b\" style=\"height: 525px; width: 100%;\" class=\"plotly-graph-div\"></div><script type=\"text/javascript\">require([\"plotly\"], function(Plotly) { window.PLOTLYENV=window.PLOTLYENV || {};window.PLOTLYENV.BASE_URL=\"https://plot.ly\";Plotly.newPlot(\"199156a7-dd04-4b13-8ff5-25eb7567105b\", [{\"x\": [140, 55, 23, 12, 7, 5], \"orientation\": \"h\", \"type\": \"bar\", \"y\": [1, 2, 3, 4, 5, 6]}], {\"title\": \"All non-employees 2012\", \"barmode\": \"group\"}, {\"showLink\": true, \"linkText\": \"Export to plot.ly\"})});</script>"
      ],
      "text/vnd.plotly.v1+html": [
       "<div id=\"199156a7-dd04-4b13-8ff5-25eb7567105b\" style=\"height: 525px; width: 100%;\" class=\"plotly-graph-div\"></div><script type=\"text/javascript\">require([\"plotly\"], function(Plotly) { window.PLOTLYENV=window.PLOTLYENV || {};window.PLOTLYENV.BASE_URL=\"https://plot.ly\";Plotly.newPlot(\"199156a7-dd04-4b13-8ff5-25eb7567105b\", [{\"x\": [140, 55, 23, 12, 7, 5], \"orientation\": \"h\", \"type\": \"bar\", \"y\": [1, 2, 3, 4, 5, 6]}], {\"title\": \"All non-employees 2012\", \"barmode\": \"group\"}, {\"showLink\": true, \"linkText\": \"Export to plot.ly\"})});</script>"
      ]
     },
     "metadata": {},
     "output_type": "display_data"
    },
    {
     "data": {
      "text/html": [
       "<script>requirejs.config({paths: { 'plotly': ['https://cdn.plot.ly/plotly-latest.min']},});if(!window.Plotly) {{require(['plotly'],function(plotly) {window.Plotly=plotly;});}}</script>"
      ],
      "text/vnd.plotly.v1+html": [
       "<script>requirejs.config({paths: { 'plotly': ['https://cdn.plot.ly/plotly-latest.min']},});if(!window.Plotly) {{require(['plotly'],function(plotly) {window.Plotly=plotly;});}}</script>"
      ]
     },
     "metadata": {},
     "output_type": "display_data"
    },
    {
     "data": {
      "application/vnd.plotly.v1+json": {
       "data": [
        {
         "orientation": "h",
         "type": "bar",
         "x": [
          291,
          120,
          75,
          58,
          62,
          4,
          2,
          2,
          1,
          1,
          2,
          1,
          1
         ],
         "y": [
          1,
          2,
          3,
          4,
          5,
          6,
          7,
          8,
          9,
          10,
          11,
          12,
          13
         ]
        }
       ],
       "layout": {
        "barmode": "group",
        "title": "All 2011"
       }
      },
      "text/html": [
       "<div id=\"60496486-3091-473a-9220-4b400a16550b\" style=\"height: 525px; width: 100%;\" class=\"plotly-graph-div\"></div><script type=\"text/javascript\">require([\"plotly\"], function(Plotly) { window.PLOTLYENV=window.PLOTLYENV || {};window.PLOTLYENV.BASE_URL=\"https://plot.ly\";Plotly.newPlot(\"60496486-3091-473a-9220-4b400a16550b\", [{\"x\": [291, 120, 75, 58, 62, 4, 2, 2, 1, 1, 2, 1, 1], \"orientation\": \"h\", \"type\": \"bar\", \"y\": [1, 2, 3, 4, 5, 6, 7, 8, 9, 10, 11, 12, 13]}], {\"title\": \"All 2011\", \"barmode\": \"group\"}, {\"showLink\": true, \"linkText\": \"Export to plot.ly\"})});</script>"
      ],
      "text/vnd.plotly.v1+html": [
       "<div id=\"60496486-3091-473a-9220-4b400a16550b\" style=\"height: 525px; width: 100%;\" class=\"plotly-graph-div\"></div><script type=\"text/javascript\">require([\"plotly\"], function(Plotly) { window.PLOTLYENV=window.PLOTLYENV || {};window.PLOTLYENV.BASE_URL=\"https://plot.ly\";Plotly.newPlot(\"60496486-3091-473a-9220-4b400a16550b\", [{\"x\": [291, 120, 75, 58, 62, 4, 2, 2, 1, 1, 2, 1, 1], \"orientation\": \"h\", \"type\": \"bar\", \"y\": [1, 2, 3, 4, 5, 6, 7, 8, 9, 10, 11, 12, 13]}], {\"title\": \"All 2011\", \"barmode\": \"group\"}, {\"showLink\": true, \"linkText\": \"Export to plot.ly\"})});</script>"
      ]
     },
     "metadata": {},
     "output_type": "display_data"
    },
    {
     "data": {
      "text/html": [
       "<script>requirejs.config({paths: { 'plotly': ['https://cdn.plot.ly/plotly-latest.min']},});if(!window.Plotly) {{require(['plotly'],function(plotly) {window.Plotly=plotly;});}}</script>"
      ],
      "text/vnd.plotly.v1+html": [
       "<script>requirejs.config({paths: { 'plotly': ['https://cdn.plot.ly/plotly-latest.min']},});if(!window.Plotly) {{require(['plotly'],function(plotly) {window.Plotly=plotly;});}}</script>"
      ]
     },
     "metadata": {},
     "output_type": "display_data"
    },
    {
     "data": {
      "application/vnd.plotly.v1+json": {
       "data": [
        {
         "orientation": "h",
         "type": "bar",
         "x": [
          176,
          83,
          58,
          48,
          55,
          4,
          2,
          2,
          1,
          1,
          2,
          1,
          1
         ],
         "y": [
          1,
          2,
          3,
          4,
          5,
          6,
          7,
          8,
          9,
          10,
          11,
          12,
          13
         ]
        }
       ],
       "layout": {
        "barmode": "group",
        "title": "All employees 2011"
       }
      },
      "text/html": [
       "<div id=\"995a7390-1045-4918-80b2-ef2f6cdc26e9\" style=\"height: 525px; width: 100%;\" class=\"plotly-graph-div\"></div><script type=\"text/javascript\">require([\"plotly\"], function(Plotly) { window.PLOTLYENV=window.PLOTLYENV || {};window.PLOTLYENV.BASE_URL=\"https://plot.ly\";Plotly.newPlot(\"995a7390-1045-4918-80b2-ef2f6cdc26e9\", [{\"x\": [176, 83, 58, 48, 55, 4, 2, 2, 1, 1, 2, 1, 1], \"orientation\": \"h\", \"type\": \"bar\", \"y\": [1, 2, 3, 4, 5, 6, 7, 8, 9, 10, 11, 12, 13]}], {\"title\": \"All employees 2011\", \"barmode\": \"group\"}, {\"showLink\": true, \"linkText\": \"Export to plot.ly\"})});</script>"
      ],
      "text/vnd.plotly.v1+html": [
       "<div id=\"995a7390-1045-4918-80b2-ef2f6cdc26e9\" style=\"height: 525px; width: 100%;\" class=\"plotly-graph-div\"></div><script type=\"text/javascript\">require([\"plotly\"], function(Plotly) { window.PLOTLYENV=window.PLOTLYENV || {};window.PLOTLYENV.BASE_URL=\"https://plot.ly\";Plotly.newPlot(\"995a7390-1045-4918-80b2-ef2f6cdc26e9\", [{\"x\": [176, 83, 58, 48, 55, 4, 2, 2, 1, 1, 2, 1, 1], \"orientation\": \"h\", \"type\": \"bar\", \"y\": [1, 2, 3, 4, 5, 6, 7, 8, 9, 10, 11, 12, 13]}], {\"title\": \"All employees 2011\", \"barmode\": \"group\"}, {\"showLink\": true, \"linkText\": \"Export to plot.ly\"})});</script>"
      ]
     },
     "metadata": {},
     "output_type": "display_data"
    },
    {
     "data": {
      "text/html": [
       "<script>requirejs.config({paths: { 'plotly': ['https://cdn.plot.ly/plotly-latest.min']},});if(!window.Plotly) {{require(['plotly'],function(plotly) {window.Plotly=plotly;});}}</script>"
      ],
      "text/vnd.plotly.v1+html": [
       "<script>requirejs.config({paths: { 'plotly': ['https://cdn.plot.ly/plotly-latest.min']},});if(!window.Plotly) {{require(['plotly'],function(plotly) {window.Plotly=plotly;});}}</script>"
      ]
     },
     "metadata": {},
     "output_type": "display_data"
    },
    {
     "data": {
      "application/vnd.plotly.v1+json": {
       "data": [
        {
         "orientation": "h",
         "type": "bar",
         "x": [
          115,
          37,
          17,
          10,
          7
         ],
         "y": [
          1,
          2,
          3,
          4,
          5
         ]
        }
       ],
       "layout": {
        "barmode": "group",
        "title": "All non-employees 2011"
       }
      },
      "text/html": [
       "<div id=\"e0e2bc46-58d1-4b6f-bf20-fc01e0a06845\" style=\"height: 525px; width: 100%;\" class=\"plotly-graph-div\"></div><script type=\"text/javascript\">require([\"plotly\"], function(Plotly) { window.PLOTLYENV=window.PLOTLYENV || {};window.PLOTLYENV.BASE_URL=\"https://plot.ly\";Plotly.newPlot(\"e0e2bc46-58d1-4b6f-bf20-fc01e0a06845\", [{\"x\": [115, 37, 17, 10, 7], \"orientation\": \"h\", \"type\": \"bar\", \"y\": [1, 2, 3, 4, 5]}], {\"title\": \"All non-employees 2011\", \"barmode\": \"group\"}, {\"showLink\": true, \"linkText\": \"Export to plot.ly\"})});</script>"
      ],
      "text/vnd.plotly.v1+html": [
       "<div id=\"e0e2bc46-58d1-4b6f-bf20-fc01e0a06845\" style=\"height: 525px; width: 100%;\" class=\"plotly-graph-div\"></div><script type=\"text/javascript\">require([\"plotly\"], function(Plotly) { window.PLOTLYENV=window.PLOTLYENV || {};window.PLOTLYENV.BASE_URL=\"https://plot.ly\";Plotly.newPlot(\"e0e2bc46-58d1-4b6f-bf20-fc01e0a06845\", [{\"x\": [115, 37, 17, 10, 7], \"orientation\": \"h\", \"type\": \"bar\", \"y\": [1, 2, 3, 4, 5]}], {\"title\": \"All non-employees 2011\", \"barmode\": \"group\"}, {\"showLink\": true, \"linkText\": \"Export to plot.ly\"})});</script>"
      ]
     },
     "metadata": {},
     "output_type": "display_data"
    },
    {
     "data": {
      "text/html": [
       "<script>requirejs.config({paths: { 'plotly': ['https://cdn.plot.ly/plotly-latest.min']},});if(!window.Plotly) {{require(['plotly'],function(plotly) {window.Plotly=plotly;});}}</script>"
      ],
      "text/vnd.plotly.v1+html": [
       "<script>requirejs.config({paths: { 'plotly': ['https://cdn.plot.ly/plotly-latest.min']},});if(!window.Plotly) {{require(['plotly'],function(plotly) {window.Plotly=plotly;});}}</script>"
      ]
     },
     "metadata": {},
     "output_type": "display_data"
    },
    {
     "data": {
      "application/vnd.plotly.v1+json": {
       "data": [
        {
         "orientation": "h",
         "type": "bar",
         "x": [
          185,
          98,
          68,
          70,
          4,
          3,
          2,
          1,
          0,
          2,
          1,
          1
         ],
         "y": [
          1,
          2,
          3,
          4,
          5,
          6,
          7,
          8,
          9,
          10,
          11,
          12
         ]
        }
       ],
       "layout": {
        "barmode": "group",
        "title": "All 2010"
       }
      },
      "text/html": [
       "<div id=\"6e9914ac-cda5-4938-a2c0-665929ca76c7\" style=\"height: 525px; width: 100%;\" class=\"plotly-graph-div\"></div><script type=\"text/javascript\">require([\"plotly\"], function(Plotly) { window.PLOTLYENV=window.PLOTLYENV || {};window.PLOTLYENV.BASE_URL=\"https://plot.ly\";Plotly.newPlot(\"6e9914ac-cda5-4938-a2c0-665929ca76c7\", [{\"x\": [185, 98, 68, 70, 4, 3, 2, 1, 0, 2, 1, 1], \"orientation\": \"h\", \"type\": \"bar\", \"y\": [1, 2, 3, 4, 5, 6, 7, 8, 9, 10, 11, 12]}], {\"title\": \"All 2010\", \"barmode\": \"group\"}, {\"showLink\": true, \"linkText\": \"Export to plot.ly\"})});</script>"
      ],
      "text/vnd.plotly.v1+html": [
       "<div id=\"6e9914ac-cda5-4938-a2c0-665929ca76c7\" style=\"height: 525px; width: 100%;\" class=\"plotly-graph-div\"></div><script type=\"text/javascript\">require([\"plotly\"], function(Plotly) { window.PLOTLYENV=window.PLOTLYENV || {};window.PLOTLYENV.BASE_URL=\"https://plot.ly\";Plotly.newPlot(\"6e9914ac-cda5-4938-a2c0-665929ca76c7\", [{\"x\": [185, 98, 68, 70, 4, 3, 2, 1, 0, 2, 1, 1], \"orientation\": \"h\", \"type\": \"bar\", \"y\": [1, 2, 3, 4, 5, 6, 7, 8, 9, 10, 11, 12]}], {\"title\": \"All 2010\", \"barmode\": \"group\"}, {\"showLink\": true, \"linkText\": \"Export to plot.ly\"})});</script>"
      ]
     },
     "metadata": {},
     "output_type": "display_data"
    },
    {
     "data": {
      "text/html": [
       "<script>requirejs.config({paths: { 'plotly': ['https://cdn.plot.ly/plotly-latest.min']},});if(!window.Plotly) {{require(['plotly'],function(plotly) {window.Plotly=plotly;});}}</script>"
      ],
      "text/vnd.plotly.v1+html": [
       "<script>requirejs.config({paths: { 'plotly': ['https://cdn.plot.ly/plotly-latest.min']},});if(!window.Plotly) {{require(['plotly'],function(plotly) {window.Plotly=plotly;});}}</script>"
      ]
     },
     "metadata": {},
     "output_type": "display_data"
    },
    {
     "data": {
      "application/vnd.plotly.v1+json": {
       "data": [
        {
         "orientation": "h",
         "type": "bar",
         "x": [
          106,
          68,
          52,
          63,
          4,
          3,
          2,
          1,
          0,
          2,
          1,
          1
         ],
         "y": [
          1,
          2,
          3,
          4,
          5,
          6,
          7,
          8,
          9,
          10,
          11,
          12
         ]
        }
       ],
       "layout": {
        "barmode": "group",
        "title": "All employees 2010"
       }
      },
      "text/html": [
       "<div id=\"dcbb6be1-c9e5-4e1f-ac72-7e2605b3cac5\" style=\"height: 525px; width: 100%;\" class=\"plotly-graph-div\"></div><script type=\"text/javascript\">require([\"plotly\"], function(Plotly) { window.PLOTLYENV=window.PLOTLYENV || {};window.PLOTLYENV.BASE_URL=\"https://plot.ly\";Plotly.newPlot(\"dcbb6be1-c9e5-4e1f-ac72-7e2605b3cac5\", [{\"x\": [106, 68, 52, 63, 4, 3, 2, 1, 0, 2, 1, 1], \"orientation\": \"h\", \"type\": \"bar\", \"y\": [1, 2, 3, 4, 5, 6, 7, 8, 9, 10, 11, 12]}], {\"title\": \"All employees 2010\", \"barmode\": \"group\"}, {\"showLink\": true, \"linkText\": \"Export to plot.ly\"})});</script>"
      ],
      "text/vnd.plotly.v1+html": [
       "<div id=\"dcbb6be1-c9e5-4e1f-ac72-7e2605b3cac5\" style=\"height: 525px; width: 100%;\" class=\"plotly-graph-div\"></div><script type=\"text/javascript\">require([\"plotly\"], function(Plotly) { window.PLOTLYENV=window.PLOTLYENV || {};window.PLOTLYENV.BASE_URL=\"https://plot.ly\";Plotly.newPlot(\"dcbb6be1-c9e5-4e1f-ac72-7e2605b3cac5\", [{\"x\": [106, 68, 52, 63, 4, 3, 2, 1, 0, 2, 1, 1], \"orientation\": \"h\", \"type\": \"bar\", \"y\": [1, 2, 3, 4, 5, 6, 7, 8, 9, 10, 11, 12]}], {\"title\": \"All employees 2010\", \"barmode\": \"group\"}, {\"showLink\": true, \"linkText\": \"Export to plot.ly\"})});</script>"
      ]
     },
     "metadata": {},
     "output_type": "display_data"
    },
    {
     "data": {
      "text/html": [
       "<script>requirejs.config({paths: { 'plotly': ['https://cdn.plot.ly/plotly-latest.min']},});if(!window.Plotly) {{require(['plotly'],function(plotly) {window.Plotly=plotly;});}}</script>"
      ],
      "text/vnd.plotly.v1+html": [
       "<script>requirejs.config({paths: { 'plotly': ['https://cdn.plot.ly/plotly-latest.min']},});if(!window.Plotly) {{require(['plotly'],function(plotly) {window.Plotly=plotly;});}}</script>"
      ]
     },
     "metadata": {},
     "output_type": "display_data"
    },
    {
     "data": {
      "application/vnd.plotly.v1+json": {
       "data": [
        {
         "orientation": "h",
         "type": "bar",
         "x": [
          79,
          30,
          16,
          7
         ],
         "y": [
          1,
          2,
          3,
          4
         ]
        }
       ],
       "layout": {
        "barmode": "group",
        "title": "All non-employees 2010"
       }
      },
      "text/html": [
       "<div id=\"892d32ed-1d70-45f9-8633-18b1b8f2f42a\" style=\"height: 525px; width: 100%;\" class=\"plotly-graph-div\"></div><script type=\"text/javascript\">require([\"plotly\"], function(Plotly) { window.PLOTLYENV=window.PLOTLYENV || {};window.PLOTLYENV.BASE_URL=\"https://plot.ly\";Plotly.newPlot(\"892d32ed-1d70-45f9-8633-18b1b8f2f42a\", [{\"x\": [79, 30, 16, 7], \"orientation\": \"h\", \"type\": \"bar\", \"y\": [1, 2, 3, 4]}], {\"title\": \"All non-employees 2010\", \"barmode\": \"group\"}, {\"showLink\": true, \"linkText\": \"Export to plot.ly\"})});</script>"
      ],
      "text/vnd.plotly.v1+html": [
       "<div id=\"892d32ed-1d70-45f9-8633-18b1b8f2f42a\" style=\"height: 525px; width: 100%;\" class=\"plotly-graph-div\"></div><script type=\"text/javascript\">require([\"plotly\"], function(Plotly) { window.PLOTLYENV=window.PLOTLYENV || {};window.PLOTLYENV.BASE_URL=\"https://plot.ly\";Plotly.newPlot(\"892d32ed-1d70-45f9-8633-18b1b8f2f42a\", [{\"x\": [79, 30, 16, 7], \"orientation\": \"h\", \"type\": \"bar\", \"y\": [1, 2, 3, 4]}], {\"title\": \"All non-employees 2010\", \"barmode\": \"group\"}, {\"showLink\": true, \"linkText\": \"Export to plot.ly\"})});</script>"
      ]
     },
     "metadata": {},
     "output_type": "display_data"
    },
    {
     "data": {
      "text/html": [
       "<script>requirejs.config({paths: { 'plotly': ['https://cdn.plot.ly/plotly-latest.min']},});if(!window.Plotly) {{require(['plotly'],function(plotly) {window.Plotly=plotly;});}}</script>"
      ],
      "text/vnd.plotly.v1+html": [
       "<script>requirejs.config({paths: { 'plotly': ['https://cdn.plot.ly/plotly-latest.min']},});if(!window.Plotly) {{require(['plotly'],function(plotly) {window.Plotly=plotly;});}}</script>"
      ]
     },
     "metadata": {},
     "output_type": "display_data"
    },
    {
     "data": {
      "application/vnd.plotly.v1+json": {
       "data": [
        {
         "orientation": "h",
         "type": "bar",
         "x": [
          148,
          92,
          77,
          5,
          2,
          2,
          1,
          1,
          3,
          1,
          1
         ],
         "y": [
          1,
          2,
          3,
          4,
          5,
          6,
          7,
          8,
          9,
          10,
          11
         ]
        }
       ],
       "layout": {
        "barmode": "group",
        "title": "All 2009"
       }
      },
      "text/html": [
       "<div id=\"914f090e-3b11-455c-b5de-6260fa45abb3\" style=\"height: 525px; width: 100%;\" class=\"plotly-graph-div\"></div><script type=\"text/javascript\">require([\"plotly\"], function(Plotly) { window.PLOTLYENV=window.PLOTLYENV || {};window.PLOTLYENV.BASE_URL=\"https://plot.ly\";Plotly.newPlot(\"914f090e-3b11-455c-b5de-6260fa45abb3\", [{\"x\": [148, 92, 77, 5, 2, 2, 1, 1, 3, 1, 1], \"orientation\": \"h\", \"type\": \"bar\", \"y\": [1, 2, 3, 4, 5, 6, 7, 8, 9, 10, 11]}], {\"title\": \"All 2009\", \"barmode\": \"group\"}, {\"showLink\": true, \"linkText\": \"Export to plot.ly\"})});</script>"
      ],
      "text/vnd.plotly.v1+html": [
       "<div id=\"914f090e-3b11-455c-b5de-6260fa45abb3\" style=\"height: 525px; width: 100%;\" class=\"plotly-graph-div\"></div><script type=\"text/javascript\">require([\"plotly\"], function(Plotly) { window.PLOTLYENV=window.PLOTLYENV || {};window.PLOTLYENV.BASE_URL=\"https://plot.ly\";Plotly.newPlot(\"914f090e-3b11-455c-b5de-6260fa45abb3\", [{\"x\": [148, 92, 77, 5, 2, 2, 1, 1, 3, 1, 1], \"orientation\": \"h\", \"type\": \"bar\", \"y\": [1, 2, 3, 4, 5, 6, 7, 8, 9, 10, 11]}], {\"title\": \"All 2009\", \"barmode\": \"group\"}, {\"showLink\": true, \"linkText\": \"Export to plot.ly\"})});</script>"
      ]
     },
     "metadata": {},
     "output_type": "display_data"
    },
    {
     "data": {
      "text/html": [
       "<script>requirejs.config({paths: { 'plotly': ['https://cdn.plot.ly/plotly-latest.min']},});if(!window.Plotly) {{require(['plotly'],function(plotly) {window.Plotly=plotly;});}}</script>"
      ],
      "text/vnd.plotly.v1+html": [
       "<script>requirejs.config({paths: { 'plotly': ['https://cdn.plot.ly/plotly-latest.min']},});if(!window.Plotly) {{require(['plotly'],function(plotly) {window.Plotly=plotly;});}}</script>"
      ]
     },
     "metadata": {},
     "output_type": "display_data"
    },
    {
     "data": {
      "application/vnd.plotly.v1+json": {
       "data": [
        {
         "orientation": "h",
         "type": "bar",
         "x": [
          76,
          66,
          70,
          5,
          2,
          2,
          1,
          0,
          3,
          1,
          1
         ],
         "y": [
          1,
          2,
          3,
          4,
          5,
          6,
          7,
          8,
          9,
          10,
          11
         ]
        }
       ],
       "layout": {
        "barmode": "group",
        "title": "All employees 2009"
       }
      },
      "text/html": [
       "<div id=\"ac1054c7-2f0d-4a3c-afe0-7c6d0f08a067\" style=\"height: 525px; width: 100%;\" class=\"plotly-graph-div\"></div><script type=\"text/javascript\">require([\"plotly\"], function(Plotly) { window.PLOTLYENV=window.PLOTLYENV || {};window.PLOTLYENV.BASE_URL=\"https://plot.ly\";Plotly.newPlot(\"ac1054c7-2f0d-4a3c-afe0-7c6d0f08a067\", [{\"x\": [76, 66, 70, 5, 2, 2, 1, 0, 3, 1, 1], \"orientation\": \"h\", \"type\": \"bar\", \"y\": [1, 2, 3, 4, 5, 6, 7, 8, 9, 10, 11]}], {\"title\": \"All employees 2009\", \"barmode\": \"group\"}, {\"showLink\": true, \"linkText\": \"Export to plot.ly\"})});</script>"
      ],
      "text/vnd.plotly.v1+html": [
       "<div id=\"ac1054c7-2f0d-4a3c-afe0-7c6d0f08a067\" style=\"height: 525px; width: 100%;\" class=\"plotly-graph-div\"></div><script type=\"text/javascript\">require([\"plotly\"], function(Plotly) { window.PLOTLYENV=window.PLOTLYENV || {};window.PLOTLYENV.BASE_URL=\"https://plot.ly\";Plotly.newPlot(\"ac1054c7-2f0d-4a3c-afe0-7c6d0f08a067\", [{\"x\": [76, 66, 70, 5, 2, 2, 1, 0, 3, 1, 1], \"orientation\": \"h\", \"type\": \"bar\", \"y\": [1, 2, 3, 4, 5, 6, 7, 8, 9, 10, 11]}], {\"title\": \"All employees 2009\", \"barmode\": \"group\"}, {\"showLink\": true, \"linkText\": \"Export to plot.ly\"})});</script>"
      ]
     },
     "metadata": {},
     "output_type": "display_data"
    },
    {
     "data": {
      "text/html": [
       "<script>requirejs.config({paths: { 'plotly': ['https://cdn.plot.ly/plotly-latest.min']},});if(!window.Plotly) {{require(['plotly'],function(plotly) {window.Plotly=plotly;});}}</script>"
      ],
      "text/vnd.plotly.v1+html": [
       "<script>requirejs.config({paths: { 'plotly': ['https://cdn.plot.ly/plotly-latest.min']},});if(!window.Plotly) {{require(['plotly'],function(plotly) {window.Plotly=plotly;});}}</script>"
      ]
     },
     "metadata": {},
     "output_type": "display_data"
    },
    {
     "data": {
      "application/vnd.plotly.v1+json": {
       "data": [
        {
         "orientation": "h",
         "type": "bar",
         "x": [
          72,
          26,
          7,
          0,
          0,
          0,
          0,
          1
         ],
         "y": [
          1,
          2,
          3,
          4,
          5,
          6,
          7,
          8
         ]
        }
       ],
       "layout": {
        "barmode": "group",
        "title": "All non-employees 2009"
       }
      },
      "text/html": [
       "<div id=\"f2de9013-ad52-4b11-b262-f9bc6df2b80d\" style=\"height: 525px; width: 100%;\" class=\"plotly-graph-div\"></div><script type=\"text/javascript\">require([\"plotly\"], function(Plotly) { window.PLOTLYENV=window.PLOTLYENV || {};window.PLOTLYENV.BASE_URL=\"https://plot.ly\";Plotly.newPlot(\"f2de9013-ad52-4b11-b262-f9bc6df2b80d\", [{\"x\": [72, 26, 7, 0, 0, 0, 0, 1], \"orientation\": \"h\", \"type\": \"bar\", \"y\": [1, 2, 3, 4, 5, 6, 7, 8]}], {\"title\": \"All non-employees 2009\", \"barmode\": \"group\"}, {\"showLink\": true, \"linkText\": \"Export to plot.ly\"})});</script>"
      ],
      "text/vnd.plotly.v1+html": [
       "<div id=\"f2de9013-ad52-4b11-b262-f9bc6df2b80d\" style=\"height: 525px; width: 100%;\" class=\"plotly-graph-div\"></div><script type=\"text/javascript\">require([\"plotly\"], function(Plotly) { window.PLOTLYENV=window.PLOTLYENV || {};window.PLOTLYENV.BASE_URL=\"https://plot.ly\";Plotly.newPlot(\"f2de9013-ad52-4b11-b262-f9bc6df2b80d\", [{\"x\": [72, 26, 7, 0, 0, 0, 0, 1], \"orientation\": \"h\", \"type\": \"bar\", \"y\": [1, 2, 3, 4, 5, 6, 7, 8]}], {\"title\": \"All non-employees 2009\", \"barmode\": \"group\"}, {\"showLink\": true, \"linkText\": \"Export to plot.ly\"})});</script>"
      ]
     },
     "metadata": {},
     "output_type": "display_data"
    },
    {
     "data": {
      "text/html": [
       "<script>requirejs.config({paths: { 'plotly': ['https://cdn.plot.ly/plotly-latest.min']},});if(!window.Plotly) {{require(['plotly'],function(plotly) {window.Plotly=plotly;});}}</script>"
      ],
      "text/vnd.plotly.v1+html": [
       "<script>requirejs.config({paths: { 'plotly': ['https://cdn.plot.ly/plotly-latest.min']},});if(!window.Plotly) {{require(['plotly'],function(plotly) {window.Plotly=plotly;});}}</script>"
      ]
     },
     "metadata": {},
     "output_type": "display_data"
    },
    {
     "data": {
      "application/vnd.plotly.v1+json": {
       "data": [
        {
         "orientation": "h",
         "type": "bar",
         "x": [
          147,
          151,
          7,
          2,
          2,
          1,
          1,
          3,
          2,
          1
         ],
         "y": [
          1,
          2,
          3,
          4,
          5,
          6,
          7,
          8,
          9,
          10
         ]
        }
       ],
       "layout": {
        "barmode": "group",
        "title": "All 2008"
       }
      },
      "text/html": [
       "<div id=\"facb2ac5-4620-4228-82f4-1c278244210b\" style=\"height: 525px; width: 100%;\" class=\"plotly-graph-div\"></div><script type=\"text/javascript\">require([\"plotly\"], function(Plotly) { window.PLOTLYENV=window.PLOTLYENV || {};window.PLOTLYENV.BASE_URL=\"https://plot.ly\";Plotly.newPlot(\"facb2ac5-4620-4228-82f4-1c278244210b\", [{\"x\": [147, 151, 7, 2, 2, 1, 1, 3, 2, 1], \"orientation\": \"h\", \"type\": \"bar\", \"y\": [1, 2, 3, 4, 5, 6, 7, 8, 9, 10]}], {\"title\": \"All 2008\", \"barmode\": \"group\"}, {\"showLink\": true, \"linkText\": \"Export to plot.ly\"})});</script>"
      ],
      "text/vnd.plotly.v1+html": [
       "<div id=\"facb2ac5-4620-4228-82f4-1c278244210b\" style=\"height: 525px; width: 100%;\" class=\"plotly-graph-div\"></div><script type=\"text/javascript\">require([\"plotly\"], function(Plotly) { window.PLOTLYENV=window.PLOTLYENV || {};window.PLOTLYENV.BASE_URL=\"https://plot.ly\";Plotly.newPlot(\"facb2ac5-4620-4228-82f4-1c278244210b\", [{\"x\": [147, 151, 7, 2, 2, 1, 1, 3, 2, 1], \"orientation\": \"h\", \"type\": \"bar\", \"y\": [1, 2, 3, 4, 5, 6, 7, 8, 9, 10]}], {\"title\": \"All 2008\", \"barmode\": \"group\"}, {\"showLink\": true, \"linkText\": \"Export to plot.ly\"})});</script>"
      ]
     },
     "metadata": {},
     "output_type": "display_data"
    },
    {
     "data": {
      "text/html": [
       "<script>requirejs.config({paths: { 'plotly': ['https://cdn.plot.ly/plotly-latest.min']},});if(!window.Plotly) {{require(['plotly'],function(plotly) {window.Plotly=plotly;});}}</script>"
      ],
      "text/vnd.plotly.v1+html": [
       "<script>requirejs.config({paths: { 'plotly': ['https://cdn.plot.ly/plotly-latest.min']},});if(!window.Plotly) {{require(['plotly'],function(plotly) {window.Plotly=plotly;});}}</script>"
      ]
     },
     "metadata": {},
     "output_type": "display_data"
    },
    {
     "data": {
      "application/vnd.plotly.v1+json": {
       "data": [
        {
         "orientation": "h",
         "type": "bar",
         "x": [
          84,
          78,
          7,
          2,
          2,
          1,
          0,
          3,
          2,
          1
         ],
         "y": [
          1,
          2,
          3,
          4,
          5,
          6,
          7,
          8,
          9,
          10
         ]
        }
       ],
       "layout": {
        "barmode": "group",
        "title": "All employees 2008"
       }
      },
      "text/html": [
       "<div id=\"e6656d4e-4959-43b8-b954-2d6e9d09b645\" style=\"height: 525px; width: 100%;\" class=\"plotly-graph-div\"></div><script type=\"text/javascript\">require([\"plotly\"], function(Plotly) { window.PLOTLYENV=window.PLOTLYENV || {};window.PLOTLYENV.BASE_URL=\"https://plot.ly\";Plotly.newPlot(\"e6656d4e-4959-43b8-b954-2d6e9d09b645\", [{\"x\": [84, 78, 7, 2, 2, 1, 0, 3, 2, 1], \"orientation\": \"h\", \"type\": \"bar\", \"y\": [1, 2, 3, 4, 5, 6, 7, 8, 9, 10]}], {\"title\": \"All employees 2008\", \"barmode\": \"group\"}, {\"showLink\": true, \"linkText\": \"Export to plot.ly\"})});</script>"
      ],
      "text/vnd.plotly.v1+html": [
       "<div id=\"e6656d4e-4959-43b8-b954-2d6e9d09b645\" style=\"height: 525px; width: 100%;\" class=\"plotly-graph-div\"></div><script type=\"text/javascript\">require([\"plotly\"], function(Plotly) { window.PLOTLYENV=window.PLOTLYENV || {};window.PLOTLYENV.BASE_URL=\"https://plot.ly\";Plotly.newPlot(\"e6656d4e-4959-43b8-b954-2d6e9d09b645\", [{\"x\": [84, 78, 7, 2, 2, 1, 0, 3, 2, 1], \"orientation\": \"h\", \"type\": \"bar\", \"y\": [1, 2, 3, 4, 5, 6, 7, 8, 9, 10]}], {\"title\": \"All employees 2008\", \"barmode\": \"group\"}, {\"showLink\": true, \"linkText\": \"Export to plot.ly\"})});</script>"
      ]
     },
     "metadata": {},
     "output_type": "display_data"
    },
    {
     "data": {
      "text/html": [
       "<script>requirejs.config({paths: { 'plotly': ['https://cdn.plot.ly/plotly-latest.min']},});if(!window.Plotly) {{require(['plotly'],function(plotly) {window.Plotly=plotly;});}}</script>"
      ],
      "text/vnd.plotly.v1+html": [
       "<script>requirejs.config({paths: { 'plotly': ['https://cdn.plot.ly/plotly-latest.min']},});if(!window.Plotly) {{require(['plotly'],function(plotly) {window.Plotly=plotly;});}}</script>"
      ]
     },
     "metadata": {},
     "output_type": "display_data"
    },
    {
     "data": {
      "application/vnd.plotly.v1+json": {
       "data": [
        {
         "orientation": "h",
         "type": "bar",
         "x": [
          63,
          73,
          0,
          0,
          0,
          0,
          1
         ],
         "y": [
          1,
          2,
          3,
          4,
          5,
          6,
          7
         ]
        }
       ],
       "layout": {
        "barmode": "group",
        "title": "All non-employees 2008"
       }
      },
      "text/html": [
       "<div id=\"4d762081-845b-484e-9542-0c2d6862ab0b\" style=\"height: 525px; width: 100%;\" class=\"plotly-graph-div\"></div><script type=\"text/javascript\">require([\"plotly\"], function(Plotly) { window.PLOTLYENV=window.PLOTLYENV || {};window.PLOTLYENV.BASE_URL=\"https://plot.ly\";Plotly.newPlot(\"4d762081-845b-484e-9542-0c2d6862ab0b\", [{\"x\": [63, 73, 0, 0, 0, 0, 1], \"orientation\": \"h\", \"type\": \"bar\", \"y\": [1, 2, 3, 4, 5, 6, 7]}], {\"title\": \"All non-employees 2008\", \"barmode\": \"group\"}, {\"showLink\": true, \"linkText\": \"Export to plot.ly\"})});</script>"
      ],
      "text/vnd.plotly.v1+html": [
       "<div id=\"4d762081-845b-484e-9542-0c2d6862ab0b\" style=\"height: 525px; width: 100%;\" class=\"plotly-graph-div\"></div><script type=\"text/javascript\">require([\"plotly\"], function(Plotly) { window.PLOTLYENV=window.PLOTLYENV || {};window.PLOTLYENV.BASE_URL=\"https://plot.ly\";Plotly.newPlot(\"4d762081-845b-484e-9542-0c2d6862ab0b\", [{\"x\": [63, 73, 0, 0, 0, 0, 1], \"orientation\": \"h\", \"type\": \"bar\", \"y\": [1, 2, 3, 4, 5, 6, 7]}], {\"title\": \"All non-employees 2008\", \"barmode\": \"group\"}, {\"showLink\": true, \"linkText\": \"Export to plot.ly\"})});</script>"
      ]
     },
     "metadata": {},
     "output_type": "display_data"
    },
    {
     "data": {
      "text/html": [
       "<script>requirejs.config({paths: { 'plotly': ['https://cdn.plot.ly/plotly-latest.min']},});if(!window.Plotly) {{require(['plotly'],function(plotly) {window.Plotly=plotly;});}}</script>"
      ],
      "text/vnd.plotly.v1+html": [
       "<script>requirejs.config({paths: { 'plotly': ['https://cdn.plot.ly/plotly-latest.min']},});if(!window.Plotly) {{require(['plotly'],function(plotly) {window.Plotly=plotly;});}}</script>"
      ]
     },
     "metadata": {},
     "output_type": "display_data"
    },
    {
     "data": {
      "application/vnd.plotly.v1+json": {
       "data": [
        {
         "orientation": "h",
         "type": "bar",
         "x": [
          221,
          34,
          16,
          15,
          5,
          3,
          6,
          2,
          3
         ],
         "y": [
          1,
          2,
          3,
          4,
          5,
          6,
          7,
          8,
          9
         ]
        }
       ],
       "layout": {
        "barmode": "group",
        "title": "All 2007"
       }
      },
      "text/html": [
       "<div id=\"a44e2cae-d76b-4612-9c33-fd8b4fb127cf\" style=\"height: 525px; width: 100%;\" class=\"plotly-graph-div\"></div><script type=\"text/javascript\">require([\"plotly\"], function(Plotly) { window.PLOTLYENV=window.PLOTLYENV || {};window.PLOTLYENV.BASE_URL=\"https://plot.ly\";Plotly.newPlot(\"a44e2cae-d76b-4612-9c33-fd8b4fb127cf\", [{\"x\": [221, 34, 16, 15, 5, 3, 6, 2, 3], \"orientation\": \"h\", \"type\": \"bar\", \"y\": [1, 2, 3, 4, 5, 6, 7, 8, 9]}], {\"title\": \"All 2007\", \"barmode\": \"group\"}, {\"showLink\": true, \"linkText\": \"Export to plot.ly\"})});</script>"
      ],
      "text/vnd.plotly.v1+html": [
       "<div id=\"a44e2cae-d76b-4612-9c33-fd8b4fb127cf\" style=\"height: 525px; width: 100%;\" class=\"plotly-graph-div\"></div><script type=\"text/javascript\">require([\"plotly\"], function(Plotly) { window.PLOTLYENV=window.PLOTLYENV || {};window.PLOTLYENV.BASE_URL=\"https://plot.ly\";Plotly.newPlot(\"a44e2cae-d76b-4612-9c33-fd8b4fb127cf\", [{\"x\": [221, 34, 16, 15, 5, 3, 6, 2, 3], \"orientation\": \"h\", \"type\": \"bar\", \"y\": [1, 2, 3, 4, 5, 6, 7, 8, 9]}], {\"title\": \"All 2007\", \"barmode\": \"group\"}, {\"showLink\": true, \"linkText\": \"Export to plot.ly\"})});</script>"
      ]
     },
     "metadata": {},
     "output_type": "display_data"
    },
    {
     "data": {
      "text/html": [
       "<script>requirejs.config({paths: { 'plotly': ['https://cdn.plot.ly/plotly-latest.min']},});if(!window.Plotly) {{require(['plotly'],function(plotly) {window.Plotly=plotly;});}}</script>"
      ],
      "text/vnd.plotly.v1+html": [
       "<script>requirejs.config({paths: { 'plotly': ['https://cdn.plot.ly/plotly-latest.min']},});if(!window.Plotly) {{require(['plotly'],function(plotly) {window.Plotly=plotly;});}}</script>"
      ]
     },
     "metadata": {},
     "output_type": "display_data"
    },
    {
     "data": {
      "application/vnd.plotly.v1+json": {
       "data": [
        {
         "orientation": "h",
         "type": "bar",
         "x": [
          96,
          6,
          2,
          2,
          1,
          0,
          3,
          1,
          1
         ],
         "y": [
          1,
          2,
          3,
          4,
          5,
          6,
          7,
          8,
          9
         ]
        }
       ],
       "layout": {
        "barmode": "group",
        "title": "All employees 2007"
       }
      },
      "text/html": [
       "<div id=\"05b4e3b0-2f74-4704-9b42-600e5055b86f\" style=\"height: 525px; width: 100%;\" class=\"plotly-graph-div\"></div><script type=\"text/javascript\">require([\"plotly\"], function(Plotly) { window.PLOTLYENV=window.PLOTLYENV || {};window.PLOTLYENV.BASE_URL=\"https://plot.ly\";Plotly.newPlot(\"05b4e3b0-2f74-4704-9b42-600e5055b86f\", [{\"x\": [96, 6, 2, 2, 1, 0, 3, 1, 1], \"orientation\": \"h\", \"type\": \"bar\", \"y\": [1, 2, 3, 4, 5, 6, 7, 8, 9]}], {\"title\": \"All employees 2007\", \"barmode\": \"group\"}, {\"showLink\": true, \"linkText\": \"Export to plot.ly\"})});</script>"
      ],
      "text/vnd.plotly.v1+html": [
       "<div id=\"05b4e3b0-2f74-4704-9b42-600e5055b86f\" style=\"height: 525px; width: 100%;\" class=\"plotly-graph-div\"></div><script type=\"text/javascript\">require([\"plotly\"], function(Plotly) { window.PLOTLYENV=window.PLOTLYENV || {};window.PLOTLYENV.BASE_URL=\"https://plot.ly\";Plotly.newPlot(\"05b4e3b0-2f74-4704-9b42-600e5055b86f\", [{\"x\": [96, 6, 2, 2, 1, 0, 3, 1, 1], \"orientation\": \"h\", \"type\": \"bar\", \"y\": [1, 2, 3, 4, 5, 6, 7, 8, 9]}], {\"title\": \"All employees 2007\", \"barmode\": \"group\"}, {\"showLink\": true, \"linkText\": \"Export to plot.ly\"})});</script>"
      ]
     },
     "metadata": {},
     "output_type": "display_data"
    },
    {
     "data": {
      "text/html": [
       "<script>requirejs.config({paths: { 'plotly': ['https://cdn.plot.ly/plotly-latest.min']},});if(!window.Plotly) {{require(['plotly'],function(plotly) {window.Plotly=plotly;});}}</script>"
      ],
      "text/vnd.plotly.v1+html": [
       "<script>requirejs.config({paths: { 'plotly': ['https://cdn.plot.ly/plotly-latest.min']},});if(!window.Plotly) {{require(['plotly'],function(plotly) {window.Plotly=plotly;});}}</script>"
      ]
     },
     "metadata": {},
     "output_type": "display_data"
    },
    {
     "data": {
      "application/vnd.plotly.v1+json": {
       "data": [
        {
         "orientation": "h",
         "type": "bar",
         "x": [
          125,
          28,
          14,
          13,
          4,
          3,
          3,
          1,
          2
         ],
         "y": [
          1,
          2,
          3,
          4,
          5,
          6,
          7,
          8,
          9
         ]
        }
       ],
       "layout": {
        "barmode": "group",
        "title": "All non-employees 2007"
       }
      },
      "text/html": [
       "<div id=\"0231a547-4c8d-4975-9992-ef83fb63bab7\" style=\"height: 525px; width: 100%;\" class=\"plotly-graph-div\"></div><script type=\"text/javascript\">require([\"plotly\"], function(Plotly) { window.PLOTLYENV=window.PLOTLYENV || {};window.PLOTLYENV.BASE_URL=\"https://plot.ly\";Plotly.newPlot(\"0231a547-4c8d-4975-9992-ef83fb63bab7\", [{\"x\": [125, 28, 14, 13, 4, 3, 3, 1, 2], \"orientation\": \"h\", \"type\": \"bar\", \"y\": [1, 2, 3, 4, 5, 6, 7, 8, 9]}], {\"title\": \"All non-employees 2007\", \"barmode\": \"group\"}, {\"showLink\": true, \"linkText\": \"Export to plot.ly\"})});</script>"
      ],
      "text/vnd.plotly.v1+html": [
       "<div id=\"0231a547-4c8d-4975-9992-ef83fb63bab7\" style=\"height: 525px; width: 100%;\" class=\"plotly-graph-div\"></div><script type=\"text/javascript\">require([\"plotly\"], function(Plotly) { window.PLOTLYENV=window.PLOTLYENV || {};window.PLOTLYENV.BASE_URL=\"https://plot.ly\";Plotly.newPlot(\"0231a547-4c8d-4975-9992-ef83fb63bab7\", [{\"x\": [125, 28, 14, 13, 4, 3, 3, 1, 2], \"orientation\": \"h\", \"type\": \"bar\", \"y\": [1, 2, 3, 4, 5, 6, 7, 8, 9]}], {\"title\": \"All non-employees 2007\", \"barmode\": \"group\"}, {\"showLink\": true, \"linkText\": \"Export to plot.ly\"})});</script>"
      ]
     },
     "metadata": {},
     "output_type": "display_data"
    }
   ],
   "source": [
    "# Plot bar charts for each dataframe\n",
    "i = 0\n",
    "for exp_df in exp_df_list:\n",
    "    if not exp_df.empty:\n",
    "        print_horizontal_bar_chart(exp_df, 'exp', title=project_name + ' ' + str(2016 - i), min_range=1)\n",
    "        \n",
    "        employees_df = exp_df[[group2 in ['Mozilla Staff'] for group1, group2 in exp_df.index]]\n",
    "        if len(employees_df) > 0:\n",
    "            print_horizontal_bar_chart(employees_df, 'exp', title=project_name + ' employees ' + str(2016 - i), \n",
    "                                       min_range=1)\n",
    "        \n",
    "        non_employees_df = exp_df[[group2 not in ['Mozilla Staff'] for group1, group2 in exp_df.index]]\n",
    "        if len(non_employees_df):\n",
    "            print_horizontal_bar_chart(non_employees_df, 'exp', \n",
    "                                       title=project_name + ' non-employees ' + str(2016 - i), min_range=1)\n",
    "    i += 1"
   ]
  },
  {
   "cell_type": "markdown",
   "metadata": {},
   "source": [
    "### Evolution of Experience\n",
    "\n",
    "Next table and plot show how each group changes over time. This way we can visualize how new people come and remain in the community. It is worth to note that we are not following a given group of people through time (it could be done following diagonals in the table, we look at this in the next section), but looking at how a given group changes from one year to another. \n",
    "\n",
    "For instance, if we look at the group of 2 years of experience in 2008 we see we had 204 people. If we look at the same group in 2009 we see that our **new group** of people accumulating 2 years of experience has 105 people. So, it seems we have fewer people with 2 years of experience in 2009. If we look at 2016 we find 226 people with two years of experience, so we have more people with 2 years of experience nowadays than we had 8 years ago.\n",
    "\n",
    "Table can be read as follows:\n",
    "\n",
    "* Cell values corresponds to the number of contributors in the given group.\n",
    "* Rows corresponds to groups based on years of experience.\n",
    "* Columns corresponds to years we are analyzing. "
   ]
  },
  {
   "cell_type": "code",
   "execution_count": 43,
   "metadata": {
    "collapsed": false
   },
   "outputs": [
    {
     "data": {
      "text/html": [
       "<div>\n",
       "<table border=\"1\" class=\"dataframe\">\n",
       "  <thead>\n",
       "    <tr style=\"text-align: right;\">\n",
       "      <th></th>\n",
       "      <th>2007</th>\n",
       "      <th>2008</th>\n",
       "      <th>2009</th>\n",
       "      <th>2010</th>\n",
       "      <th>2011</th>\n",
       "      <th>2012</th>\n",
       "      <th>2013</th>\n",
       "      <th>2014</th>\n",
       "      <th>2015</th>\n",
       "      <th>2016</th>\n",
       "    </tr>\n",
       "    <tr>\n",
       "      <th>exp</th>\n",
       "      <th></th>\n",
       "      <th></th>\n",
       "      <th></th>\n",
       "      <th></th>\n",
       "      <th></th>\n",
       "      <th></th>\n",
       "      <th></th>\n",
       "      <th></th>\n",
       "      <th></th>\n",
       "      <th></th>\n",
       "    </tr>\n",
       "  </thead>\n",
       "  <tbody>\n",
       "    <tr>\n",
       "      <th>1.0</th>\n",
       "      <td>221.0</td>\n",
       "      <td>147.0</td>\n",
       "      <td>148.0</td>\n",
       "      <td>185.0</td>\n",
       "      <td>291.0</td>\n",
       "      <td>334.0</td>\n",
       "      <td>412.0</td>\n",
       "      <td>482.0</td>\n",
       "      <td>453.0</td>\n",
       "      <td>435.0</td>\n",
       "    </tr>\n",
       "    <tr>\n",
       "      <th>2.0</th>\n",
       "      <td>34.0</td>\n",
       "      <td>151.0</td>\n",
       "      <td>92.0</td>\n",
       "      <td>98.0</td>\n",
       "      <td>120.0</td>\n",
       "      <td>206.0</td>\n",
       "      <td>195.0</td>\n",
       "      <td>215.0</td>\n",
       "      <td>218.0</td>\n",
       "      <td>213.0</td>\n",
       "    </tr>\n",
       "    <tr>\n",
       "      <th>3.0</th>\n",
       "      <td>16.0</td>\n",
       "      <td>7.0</td>\n",
       "      <td>77.0</td>\n",
       "      <td>68.0</td>\n",
       "      <td>75.0</td>\n",
       "      <td>91.0</td>\n",
       "      <td>145.0</td>\n",
       "      <td>151.0</td>\n",
       "      <td>157.0</td>\n",
       "      <td>130.0</td>\n",
       "    </tr>\n",
       "    <tr>\n",
       "      <th>4.0</th>\n",
       "      <td>15.0</td>\n",
       "      <td>2.0</td>\n",
       "      <td>5.0</td>\n",
       "      <td>70.0</td>\n",
       "      <td>58.0</td>\n",
       "      <td>58.0</td>\n",
       "      <td>75.0</td>\n",
       "      <td>116.0</td>\n",
       "      <td>109.0</td>\n",
       "      <td>116.0</td>\n",
       "    </tr>\n",
       "    <tr>\n",
       "      <th>5.0</th>\n",
       "      <td>5.0</td>\n",
       "      <td>2.0</td>\n",
       "      <td>2.0</td>\n",
       "      <td>4.0</td>\n",
       "      <td>62.0</td>\n",
       "      <td>53.0</td>\n",
       "      <td>49.0</td>\n",
       "      <td>63.0</td>\n",
       "      <td>95.0</td>\n",
       "      <td>88.0</td>\n",
       "    </tr>\n",
       "    <tr>\n",
       "      <th>6.0</th>\n",
       "      <td>3.0</td>\n",
       "      <td>1.0</td>\n",
       "      <td>2.0</td>\n",
       "      <td>3.0</td>\n",
       "      <td>4.0</td>\n",
       "      <td>50.0</td>\n",
       "      <td>40.0</td>\n",
       "      <td>46.0</td>\n",
       "      <td>54.0</td>\n",
       "      <td>84.0</td>\n",
       "    </tr>\n",
       "    <tr>\n",
       "      <th>7.0</th>\n",
       "      <td>6.0</td>\n",
       "      <td>1.0</td>\n",
       "      <td>1.0</td>\n",
       "      <td>2.0</td>\n",
       "      <td>2.0</td>\n",
       "      <td>3.0</td>\n",
       "      <td>45.0</td>\n",
       "      <td>35.0</td>\n",
       "      <td>41.0</td>\n",
       "      <td>48.0</td>\n",
       "    </tr>\n",
       "    <tr>\n",
       "      <th>8.0</th>\n",
       "      <td>2.0</td>\n",
       "      <td>3.0</td>\n",
       "      <td>1.0</td>\n",
       "      <td>1.0</td>\n",
       "      <td>2.0</td>\n",
       "      <td>2.0</td>\n",
       "      <td>2.0</td>\n",
       "      <td>42.0</td>\n",
       "      <td>31.0</td>\n",
       "      <td>38.0</td>\n",
       "    </tr>\n",
       "    <tr>\n",
       "      <th>9.0</th>\n",
       "      <td>3.0</td>\n",
       "      <td>2.0</td>\n",
       "      <td>3.0</td>\n",
       "      <td>0.0</td>\n",
       "      <td>1.0</td>\n",
       "      <td>1.0</td>\n",
       "      <td>3.0</td>\n",
       "      <td>2.0</td>\n",
       "      <td>38.0</td>\n",
       "      <td>29.0</td>\n",
       "    </tr>\n",
       "    <tr>\n",
       "      <th>10.0</th>\n",
       "      <td>0.0</td>\n",
       "      <td>1.0</td>\n",
       "      <td>1.0</td>\n",
       "      <td>2.0</td>\n",
       "      <td>1.0</td>\n",
       "      <td>1.0</td>\n",
       "      <td>1.0</td>\n",
       "      <td>2.0</td>\n",
       "      <td>2.0</td>\n",
       "      <td>32.0</td>\n",
       "    </tr>\n",
       "    <tr>\n",
       "      <th>11.0</th>\n",
       "      <td>0.0</td>\n",
       "      <td>0.0</td>\n",
       "      <td>1.0</td>\n",
       "      <td>1.0</td>\n",
       "      <td>2.0</td>\n",
       "      <td>0.0</td>\n",
       "      <td>0.0</td>\n",
       "      <td>1.0</td>\n",
       "      <td>1.0</td>\n",
       "      <td>2.0</td>\n",
       "    </tr>\n",
       "    <tr>\n",
       "      <th>12.0</th>\n",
       "      <td>0.0</td>\n",
       "      <td>0.0</td>\n",
       "      <td>0.0</td>\n",
       "      <td>1.0</td>\n",
       "      <td>1.0</td>\n",
       "      <td>2.0</td>\n",
       "      <td>0.0</td>\n",
       "      <td>0.0</td>\n",
       "      <td>1.0</td>\n",
       "      <td>0.0</td>\n",
       "    </tr>\n",
       "    <tr>\n",
       "      <th>13.0</th>\n",
       "      <td>0.0</td>\n",
       "      <td>0.0</td>\n",
       "      <td>0.0</td>\n",
       "      <td>0.0</td>\n",
       "      <td>1.0</td>\n",
       "      <td>1.0</td>\n",
       "      <td>2.0</td>\n",
       "      <td>0.0</td>\n",
       "      <td>0.0</td>\n",
       "      <td>1.0</td>\n",
       "    </tr>\n",
       "    <tr>\n",
       "      <th>14.0</th>\n",
       "      <td>0.0</td>\n",
       "      <td>0.0</td>\n",
       "      <td>0.0</td>\n",
       "      <td>0.0</td>\n",
       "      <td>0.0</td>\n",
       "      <td>0.0</td>\n",
       "      <td>1.0</td>\n",
       "      <td>2.0</td>\n",
       "      <td>0.0</td>\n",
       "      <td>0.0</td>\n",
       "    </tr>\n",
       "    <tr>\n",
       "      <th>15.0</th>\n",
       "      <td>0.0</td>\n",
       "      <td>0.0</td>\n",
       "      <td>0.0</td>\n",
       "      <td>0.0</td>\n",
       "      <td>0.0</td>\n",
       "      <td>0.0</td>\n",
       "      <td>0.0</td>\n",
       "      <td>1.0</td>\n",
       "      <td>2.0</td>\n",
       "      <td>0.0</td>\n",
       "    </tr>\n",
       "    <tr>\n",
       "      <th>16.0</th>\n",
       "      <td>0.0</td>\n",
       "      <td>0.0</td>\n",
       "      <td>0.0</td>\n",
       "      <td>0.0</td>\n",
       "      <td>0.0</td>\n",
       "      <td>0.0</td>\n",
       "      <td>0.0</td>\n",
       "      <td>0.0</td>\n",
       "      <td>1.0</td>\n",
       "      <td>2.0</td>\n",
       "    </tr>\n",
       "    <tr>\n",
       "      <th>17.0</th>\n",
       "      <td>0.0</td>\n",
       "      <td>0.0</td>\n",
       "      <td>0.0</td>\n",
       "      <td>0.0</td>\n",
       "      <td>0.0</td>\n",
       "      <td>0.0</td>\n",
       "      <td>0.0</td>\n",
       "      <td>0.0</td>\n",
       "      <td>0.0</td>\n",
       "      <td>1.0</td>\n",
       "    </tr>\n",
       "  </tbody>\n",
       "</table>\n",
       "</div>"
      ],
      "text/plain": [
       "       2007   2008   2009   2010   2011   2012   2013   2014   2015   2016\n",
       "exp                                                                       \n",
       "1.0   221.0  147.0  148.0  185.0  291.0  334.0  412.0  482.0  453.0  435.0\n",
       "2.0    34.0  151.0   92.0   98.0  120.0  206.0  195.0  215.0  218.0  213.0\n",
       "3.0    16.0    7.0   77.0   68.0   75.0   91.0  145.0  151.0  157.0  130.0\n",
       "4.0    15.0    2.0    5.0   70.0   58.0   58.0   75.0  116.0  109.0  116.0\n",
       "5.0     5.0    2.0    2.0    4.0   62.0   53.0   49.0   63.0   95.0   88.0\n",
       "6.0     3.0    1.0    2.0    3.0    4.0   50.0   40.0   46.0   54.0   84.0\n",
       "7.0     6.0    1.0    1.0    2.0    2.0    3.0   45.0   35.0   41.0   48.0\n",
       "8.0     2.0    3.0    1.0    1.0    2.0    2.0    2.0   42.0   31.0   38.0\n",
       "9.0     3.0    2.0    3.0    0.0    1.0    1.0    3.0    2.0   38.0   29.0\n",
       "10.0    0.0    1.0    1.0    2.0    1.0    1.0    1.0    2.0    2.0   32.0\n",
       "11.0    0.0    0.0    1.0    1.0    2.0    0.0    0.0    1.0    1.0    2.0\n",
       "12.0    0.0    0.0    0.0    1.0    1.0    2.0    0.0    0.0    1.0    0.0\n",
       "13.0    0.0    0.0    0.0    0.0    1.0    1.0    2.0    0.0    0.0    1.0\n",
       "14.0    0.0    0.0    0.0    0.0    0.0    0.0    1.0    2.0    0.0    0.0\n",
       "15.0    0.0    0.0    0.0    0.0    0.0    0.0    0.0    1.0    2.0    0.0\n",
       "16.0    0.0    0.0    0.0    0.0    0.0    0.0    0.0    0.0    1.0    2.0\n",
       "17.0    0.0    0.0    0.0    0.0    0.0    0.0    0.0    0.0    0.0    1.0"
      ]
     },
     "execution_count": 43,
     "metadata": {},
     "output_type": "execute_result"
    }
   ],
   "source": [
    "exp_groups_evo_df = pandas.DataFrame(columns=['exp'])\n",
    "\n",
    "for exp_df in exp_df_list:\n",
    "    \n",
    "    if exp_df.empty:\n",
    "        continue\n",
    "    \n",
    "    year = exp_df['last_active'].unique()[0]\n",
    "    exp_groups_df = pandas.DataFrame(columns=['exp', year])\n",
    "    \n",
    "    experience = list(range(1, int(exp_df['exp'].max()) + 1))\n",
    "    \n",
    "    for exp in experience:\n",
    "        count = len(exp_df.loc[exp_df['exp'] == exp])\n",
    "        exp_groups_df.loc[len(exp_groups_df)] = [exp, count]\n",
    "\n",
    "    exp_groups_evo_df = exp_groups_evo_df.merge(exp_groups_df, on='exp', how='outer')\n",
    "\n",
    "\n",
    "# Fill Nan with 0's\n",
    "exp_groups_evo_df = exp_groups_evo_df.fillna(0)\n",
    "\n",
    "# Reorder columns\n",
    "exp_groups_evo_df = exp_groups_evo_df.set_index('exp')\n",
    "exp_groups_evo_df = exp_groups_evo_df.sort_index(axis=1)\n",
    "\n",
    "\n",
    "#print('Max. Exp: ', exp_groups_evo_df['exp'].max(), 'Max. Count: ')\n",
    "exp_groups_evo_df"
   ]
  },
  {
   "cell_type": "markdown",
   "metadata": {},
   "source": [
    "### Employees"
   ]
  },
  {
   "cell_type": "code",
   "execution_count": 44,
   "metadata": {
    "collapsed": false
   },
   "outputs": [
    {
     "data": {
      "text/html": [
       "<div>\n",
       "<table border=\"1\" class=\"dataframe\">\n",
       "  <thead>\n",
       "    <tr style=\"text-align: right;\">\n",
       "      <th></th>\n",
       "      <th>2007</th>\n",
       "      <th>2008</th>\n",
       "      <th>2009</th>\n",
       "      <th>2010</th>\n",
       "      <th>2011</th>\n",
       "      <th>2012</th>\n",
       "      <th>2013</th>\n",
       "      <th>2014</th>\n",
       "      <th>2015</th>\n",
       "      <th>2016</th>\n",
       "    </tr>\n",
       "    <tr>\n",
       "      <th>exp</th>\n",
       "      <th></th>\n",
       "      <th></th>\n",
       "      <th></th>\n",
       "      <th></th>\n",
       "      <th></th>\n",
       "      <th></th>\n",
       "      <th></th>\n",
       "      <th></th>\n",
       "      <th></th>\n",
       "      <th></th>\n",
       "    </tr>\n",
       "  </thead>\n",
       "  <tbody>\n",
       "    <tr>\n",
       "      <th>1.0</th>\n",
       "      <td>96.0</td>\n",
       "      <td>84.0</td>\n",
       "      <td>76.0</td>\n",
       "      <td>106.0</td>\n",
       "      <td>176.0</td>\n",
       "      <td>194.0</td>\n",
       "      <td>219.0</td>\n",
       "      <td>196.0</td>\n",
       "      <td>123.0</td>\n",
       "      <td>115.0</td>\n",
       "    </tr>\n",
       "    <tr>\n",
       "      <th>2.0</th>\n",
       "      <td>6.0</td>\n",
       "      <td>78.0</td>\n",
       "      <td>66.0</td>\n",
       "      <td>68.0</td>\n",
       "      <td>83.0</td>\n",
       "      <td>151.0</td>\n",
       "      <td>147.0</td>\n",
       "      <td>152.0</td>\n",
       "      <td>124.0</td>\n",
       "      <td>97.0</td>\n",
       "    </tr>\n",
       "    <tr>\n",
       "      <th>3.0</th>\n",
       "      <td>2.0</td>\n",
       "      <td>7.0</td>\n",
       "      <td>70.0</td>\n",
       "      <td>52.0</td>\n",
       "      <td>58.0</td>\n",
       "      <td>68.0</td>\n",
       "      <td>122.0</td>\n",
       "      <td>128.0</td>\n",
       "      <td>120.0</td>\n",
       "      <td>91.0</td>\n",
       "    </tr>\n",
       "    <tr>\n",
       "      <th>4.0</th>\n",
       "      <td>2.0</td>\n",
       "      <td>2.0</td>\n",
       "      <td>5.0</td>\n",
       "      <td>63.0</td>\n",
       "      <td>48.0</td>\n",
       "      <td>46.0</td>\n",
       "      <td>64.0</td>\n",
       "      <td>100.0</td>\n",
       "      <td>100.0</td>\n",
       "      <td>94.0</td>\n",
       "    </tr>\n",
       "    <tr>\n",
       "      <th>5.0</th>\n",
       "      <td>1.0</td>\n",
       "      <td>2.0</td>\n",
       "      <td>2.0</td>\n",
       "      <td>4.0</td>\n",
       "      <td>55.0</td>\n",
       "      <td>46.0</td>\n",
       "      <td>41.0</td>\n",
       "      <td>56.0</td>\n",
       "      <td>86.0</td>\n",
       "      <td>82.0</td>\n",
       "    </tr>\n",
       "    <tr>\n",
       "      <th>6.0</th>\n",
       "      <td>0.0</td>\n",
       "      <td>1.0</td>\n",
       "      <td>2.0</td>\n",
       "      <td>3.0</td>\n",
       "      <td>4.0</td>\n",
       "      <td>45.0</td>\n",
       "      <td>36.0</td>\n",
       "      <td>37.0</td>\n",
       "      <td>50.0</td>\n",
       "      <td>76.0</td>\n",
       "    </tr>\n",
       "    <tr>\n",
       "      <th>7.0</th>\n",
       "      <td>3.0</td>\n",
       "      <td>0.0</td>\n",
       "      <td>1.0</td>\n",
       "      <td>2.0</td>\n",
       "      <td>2.0</td>\n",
       "      <td>3.0</td>\n",
       "      <td>41.0</td>\n",
       "      <td>31.0</td>\n",
       "      <td>32.0</td>\n",
       "      <td>44.0</td>\n",
       "    </tr>\n",
       "    <tr>\n",
       "      <th>8.0</th>\n",
       "      <td>1.0</td>\n",
       "      <td>3.0</td>\n",
       "      <td>0.0</td>\n",
       "      <td>1.0</td>\n",
       "      <td>2.0</td>\n",
       "      <td>2.0</td>\n",
       "      <td>2.0</td>\n",
       "      <td>39.0</td>\n",
       "      <td>27.0</td>\n",
       "      <td>29.0</td>\n",
       "    </tr>\n",
       "    <tr>\n",
       "      <th>9.0</th>\n",
       "      <td>1.0</td>\n",
       "      <td>2.0</td>\n",
       "      <td>3.0</td>\n",
       "      <td>0.0</td>\n",
       "      <td>1.0</td>\n",
       "      <td>1.0</td>\n",
       "      <td>3.0</td>\n",
       "      <td>2.0</td>\n",
       "      <td>35.0</td>\n",
       "      <td>25.0</td>\n",
       "    </tr>\n",
       "    <tr>\n",
       "      <th>10.0</th>\n",
       "      <td>0.0</td>\n",
       "      <td>1.0</td>\n",
       "      <td>1.0</td>\n",
       "      <td>2.0</td>\n",
       "      <td>1.0</td>\n",
       "      <td>1.0</td>\n",
       "      <td>1.0</td>\n",
       "      <td>2.0</td>\n",
       "      <td>2.0</td>\n",
       "      <td>31.0</td>\n",
       "    </tr>\n",
       "    <tr>\n",
       "      <th>11.0</th>\n",
       "      <td>0.0</td>\n",
       "      <td>0.0</td>\n",
       "      <td>1.0</td>\n",
       "      <td>1.0</td>\n",
       "      <td>2.0</td>\n",
       "      <td>0.0</td>\n",
       "      <td>0.0</td>\n",
       "      <td>1.0</td>\n",
       "      <td>1.0</td>\n",
       "      <td>2.0</td>\n",
       "    </tr>\n",
       "    <tr>\n",
       "      <th>12.0</th>\n",
       "      <td>0.0</td>\n",
       "      <td>0.0</td>\n",
       "      <td>0.0</td>\n",
       "      <td>1.0</td>\n",
       "      <td>1.0</td>\n",
       "      <td>2.0</td>\n",
       "      <td>0.0</td>\n",
       "      <td>0.0</td>\n",
       "      <td>1.0</td>\n",
       "      <td>0.0</td>\n",
       "    </tr>\n",
       "    <tr>\n",
       "      <th>13.0</th>\n",
       "      <td>0.0</td>\n",
       "      <td>0.0</td>\n",
       "      <td>0.0</td>\n",
       "      <td>0.0</td>\n",
       "      <td>1.0</td>\n",
       "      <td>1.0</td>\n",
       "      <td>2.0</td>\n",
       "      <td>0.0</td>\n",
       "      <td>0.0</td>\n",
       "      <td>1.0</td>\n",
       "    </tr>\n",
       "    <tr>\n",
       "      <th>14.0</th>\n",
       "      <td>0.0</td>\n",
       "      <td>0.0</td>\n",
       "      <td>0.0</td>\n",
       "      <td>0.0</td>\n",
       "      <td>0.0</td>\n",
       "      <td>0.0</td>\n",
       "      <td>1.0</td>\n",
       "      <td>2.0</td>\n",
       "      <td>0.0</td>\n",
       "      <td>0.0</td>\n",
       "    </tr>\n",
       "    <tr>\n",
       "      <th>15.0</th>\n",
       "      <td>0.0</td>\n",
       "      <td>0.0</td>\n",
       "      <td>0.0</td>\n",
       "      <td>0.0</td>\n",
       "      <td>0.0</td>\n",
       "      <td>0.0</td>\n",
       "      <td>0.0</td>\n",
       "      <td>1.0</td>\n",
       "      <td>2.0</td>\n",
       "      <td>0.0</td>\n",
       "    </tr>\n",
       "    <tr>\n",
       "      <th>16.0</th>\n",
       "      <td>0.0</td>\n",
       "      <td>0.0</td>\n",
       "      <td>0.0</td>\n",
       "      <td>0.0</td>\n",
       "      <td>0.0</td>\n",
       "      <td>0.0</td>\n",
       "      <td>0.0</td>\n",
       "      <td>0.0</td>\n",
       "      <td>1.0</td>\n",
       "      <td>2.0</td>\n",
       "    </tr>\n",
       "    <tr>\n",
       "      <th>17.0</th>\n",
       "      <td>0.0</td>\n",
       "      <td>0.0</td>\n",
       "      <td>0.0</td>\n",
       "      <td>0.0</td>\n",
       "      <td>0.0</td>\n",
       "      <td>0.0</td>\n",
       "      <td>0.0</td>\n",
       "      <td>0.0</td>\n",
       "      <td>0.0</td>\n",
       "      <td>1.0</td>\n",
       "    </tr>\n",
       "  </tbody>\n",
       "</table>\n",
       "</div>"
      ],
      "text/plain": [
       "      2007  2008  2009   2010   2011   2012   2013   2014   2015   2016\n",
       "exp                                                                    \n",
       "1.0   96.0  84.0  76.0  106.0  176.0  194.0  219.0  196.0  123.0  115.0\n",
       "2.0    6.0  78.0  66.0   68.0   83.0  151.0  147.0  152.0  124.0   97.0\n",
       "3.0    2.0   7.0  70.0   52.0   58.0   68.0  122.0  128.0  120.0   91.0\n",
       "4.0    2.0   2.0   5.0   63.0   48.0   46.0   64.0  100.0  100.0   94.0\n",
       "5.0    1.0   2.0   2.0    4.0   55.0   46.0   41.0   56.0   86.0   82.0\n",
       "6.0    0.0   1.0   2.0    3.0    4.0   45.0   36.0   37.0   50.0   76.0\n",
       "7.0    3.0   0.0   1.0    2.0    2.0    3.0   41.0   31.0   32.0   44.0\n",
       "8.0    1.0   3.0   0.0    1.0    2.0    2.0    2.0   39.0   27.0   29.0\n",
       "9.0    1.0   2.0   3.0    0.0    1.0    1.0    3.0    2.0   35.0   25.0\n",
       "10.0   0.0   1.0   1.0    2.0    1.0    1.0    1.0    2.0    2.0   31.0\n",
       "11.0   0.0   0.0   1.0    1.0    2.0    0.0    0.0    1.0    1.0    2.0\n",
       "12.0   0.0   0.0   0.0    1.0    1.0    2.0    0.0    0.0    1.0    0.0\n",
       "13.0   0.0   0.0   0.0    0.0    1.0    1.0    2.0    0.0    0.0    1.0\n",
       "14.0   0.0   0.0   0.0    0.0    0.0    0.0    1.0    2.0    0.0    0.0\n",
       "15.0   0.0   0.0   0.0    0.0    0.0    0.0    0.0    1.0    2.0    0.0\n",
       "16.0   0.0   0.0   0.0    0.0    0.0    0.0    0.0    0.0    1.0    2.0\n",
       "17.0   0.0   0.0   0.0    0.0    0.0    0.0    0.0    0.0    0.0    1.0"
      ]
     },
     "execution_count": 44,
     "metadata": {},
     "output_type": "execute_result"
    }
   ],
   "source": [
    "exp_groups_evo_moz_df = pandas.DataFrame(columns=['exp'])\n",
    "\n",
    "for exp_df in exp_df_list:\n",
    "    \n",
    "    if exp_df.empty:\n",
    "        continue\n",
    "        \n",
    "    exp_df = exp_df[[group2 in ['Mozilla Staff'] for group1, group2 in exp_df.index]]\n",
    "    \n",
    "    year = exp_df['last_active'].unique()[0]\n",
    "    exp_groups_df = pandas.DataFrame(columns=['exp', year])\n",
    "    \n",
    "    experience = list(range(1, int(exp_df['exp'].max()) + 1))\n",
    "    \n",
    "    for exp in experience:\n",
    "        count = len(exp_df.loc[exp_df['exp'] == exp])\n",
    "        exp_groups_df.loc[len(exp_groups_df)] = [exp, count]\n",
    "\n",
    "    exp_groups_evo_moz_df = exp_groups_evo_moz_df.merge(exp_groups_df, on='exp', how='outer')\n",
    "\n",
    "\n",
    "# Fill Nan with 0's\n",
    "exp_groups_evo_moz_df = exp_groups_evo_moz_df.fillna(0)\n",
    "\n",
    "# Reorder columns\n",
    "exp_groups_evo_moz_df = exp_groups_evo_moz_df.set_index('exp')\n",
    "exp_groups_evo_moz_df = exp_groups_evo_moz_df.sort_index(axis=1)\n",
    "\n",
    "\n",
    "#print('Max. Exp: ', exp_groups_evo_moz_df['exp'].max(), 'Max. Count: ')\n",
    "exp_groups_evo_moz_df"
   ]
  },
  {
   "cell_type": "markdown",
   "metadata": {},
   "source": [
    "### Non-employees"
   ]
  },
  {
   "cell_type": "code",
   "execution_count": 45,
   "metadata": {
    "collapsed": false,
    "scrolled": true
   },
   "outputs": [
    {
     "data": {
      "text/html": [
       "<div>\n",
       "<table border=\"1\" class=\"dataframe\">\n",
       "  <thead>\n",
       "    <tr style=\"text-align: right;\">\n",
       "      <th></th>\n",
       "      <th>2007</th>\n",
       "      <th>2008</th>\n",
       "      <th>2009</th>\n",
       "      <th>2010</th>\n",
       "      <th>2011</th>\n",
       "      <th>2012</th>\n",
       "      <th>2013</th>\n",
       "      <th>2014</th>\n",
       "      <th>2015</th>\n",
       "      <th>2016</th>\n",
       "    </tr>\n",
       "    <tr>\n",
       "      <th>exp</th>\n",
       "      <th></th>\n",
       "      <th></th>\n",
       "      <th></th>\n",
       "      <th></th>\n",
       "      <th></th>\n",
       "      <th></th>\n",
       "      <th></th>\n",
       "      <th></th>\n",
       "      <th></th>\n",
       "      <th></th>\n",
       "    </tr>\n",
       "  </thead>\n",
       "  <tbody>\n",
       "    <tr>\n",
       "      <th>1.0</th>\n",
       "      <td>125.0</td>\n",
       "      <td>63.0</td>\n",
       "      <td>72.0</td>\n",
       "      <td>79.0</td>\n",
       "      <td>115.0</td>\n",
       "      <td>140.0</td>\n",
       "      <td>193.0</td>\n",
       "      <td>286.0</td>\n",
       "      <td>330.0</td>\n",
       "      <td>320.0</td>\n",
       "    </tr>\n",
       "    <tr>\n",
       "      <th>2.0</th>\n",
       "      <td>28.0</td>\n",
       "      <td>73.0</td>\n",
       "      <td>26.0</td>\n",
       "      <td>30.0</td>\n",
       "      <td>37.0</td>\n",
       "      <td>55.0</td>\n",
       "      <td>48.0</td>\n",
       "      <td>63.0</td>\n",
       "      <td>94.0</td>\n",
       "      <td>116.0</td>\n",
       "    </tr>\n",
       "    <tr>\n",
       "      <th>3.0</th>\n",
       "      <td>14.0</td>\n",
       "      <td>0.0</td>\n",
       "      <td>7.0</td>\n",
       "      <td>16.0</td>\n",
       "      <td>17.0</td>\n",
       "      <td>23.0</td>\n",
       "      <td>23.0</td>\n",
       "      <td>23.0</td>\n",
       "      <td>37.0</td>\n",
       "      <td>39.0</td>\n",
       "    </tr>\n",
       "    <tr>\n",
       "      <th>4.0</th>\n",
       "      <td>13.0</td>\n",
       "      <td>0.0</td>\n",
       "      <td>0.0</td>\n",
       "      <td>7.0</td>\n",
       "      <td>10.0</td>\n",
       "      <td>12.0</td>\n",
       "      <td>11.0</td>\n",
       "      <td>16.0</td>\n",
       "      <td>9.0</td>\n",
       "      <td>22.0</td>\n",
       "    </tr>\n",
       "    <tr>\n",
       "      <th>5.0</th>\n",
       "      <td>4.0</td>\n",
       "      <td>0.0</td>\n",
       "      <td>0.0</td>\n",
       "      <td>0.0</td>\n",
       "      <td>7.0</td>\n",
       "      <td>7.0</td>\n",
       "      <td>8.0</td>\n",
       "      <td>7.0</td>\n",
       "      <td>9.0</td>\n",
       "      <td>6.0</td>\n",
       "    </tr>\n",
       "    <tr>\n",
       "      <th>6.0</th>\n",
       "      <td>3.0</td>\n",
       "      <td>0.0</td>\n",
       "      <td>0.0</td>\n",
       "      <td>0.0</td>\n",
       "      <td>0.0</td>\n",
       "      <td>5.0</td>\n",
       "      <td>4.0</td>\n",
       "      <td>9.0</td>\n",
       "      <td>4.0</td>\n",
       "      <td>8.0</td>\n",
       "    </tr>\n",
       "    <tr>\n",
       "      <th>7.0</th>\n",
       "      <td>3.0</td>\n",
       "      <td>1.0</td>\n",
       "      <td>0.0</td>\n",
       "      <td>0.0</td>\n",
       "      <td>0.0</td>\n",
       "      <td>0.0</td>\n",
       "      <td>4.0</td>\n",
       "      <td>4.0</td>\n",
       "      <td>9.0</td>\n",
       "      <td>4.0</td>\n",
       "    </tr>\n",
       "    <tr>\n",
       "      <th>8.0</th>\n",
       "      <td>1.0</td>\n",
       "      <td>0.0</td>\n",
       "      <td>1.0</td>\n",
       "      <td>0.0</td>\n",
       "      <td>0.0</td>\n",
       "      <td>0.0</td>\n",
       "      <td>0.0</td>\n",
       "      <td>3.0</td>\n",
       "      <td>4.0</td>\n",
       "      <td>9.0</td>\n",
       "    </tr>\n",
       "    <tr>\n",
       "      <th>9.0</th>\n",
       "      <td>2.0</td>\n",
       "      <td>0.0</td>\n",
       "      <td>0.0</td>\n",
       "      <td>0.0</td>\n",
       "      <td>0.0</td>\n",
       "      <td>0.0</td>\n",
       "      <td>0.0</td>\n",
       "      <td>0.0</td>\n",
       "      <td>3.0</td>\n",
       "      <td>4.0</td>\n",
       "    </tr>\n",
       "    <tr>\n",
       "      <th>10.0</th>\n",
       "      <td>0.0</td>\n",
       "      <td>0.0</td>\n",
       "      <td>0.0</td>\n",
       "      <td>0.0</td>\n",
       "      <td>0.0</td>\n",
       "      <td>0.0</td>\n",
       "      <td>0.0</td>\n",
       "      <td>0.0</td>\n",
       "      <td>0.0</td>\n",
       "      <td>1.0</td>\n",
       "    </tr>\n",
       "  </tbody>\n",
       "</table>\n",
       "</div>"
      ],
      "text/plain": [
       "       2007  2008  2009  2010   2011   2012   2013   2014   2015   2016\n",
       "exp                                                                    \n",
       "1.0   125.0  63.0  72.0  79.0  115.0  140.0  193.0  286.0  330.0  320.0\n",
       "2.0    28.0  73.0  26.0  30.0   37.0   55.0   48.0   63.0   94.0  116.0\n",
       "3.0    14.0   0.0   7.0  16.0   17.0   23.0   23.0   23.0   37.0   39.0\n",
       "4.0    13.0   0.0   0.0   7.0   10.0   12.0   11.0   16.0    9.0   22.0\n",
       "5.0     4.0   0.0   0.0   0.0    7.0    7.0    8.0    7.0    9.0    6.0\n",
       "6.0     3.0   0.0   0.0   0.0    0.0    5.0    4.0    9.0    4.0    8.0\n",
       "7.0     3.0   1.0   0.0   0.0    0.0    0.0    4.0    4.0    9.0    4.0\n",
       "8.0     1.0   0.0   1.0   0.0    0.0    0.0    0.0    3.0    4.0    9.0\n",
       "9.0     2.0   0.0   0.0   0.0    0.0    0.0    0.0    0.0    3.0    4.0\n",
       "10.0    0.0   0.0   0.0   0.0    0.0    0.0    0.0    0.0    0.0    1.0"
      ]
     },
     "execution_count": 45,
     "metadata": {},
     "output_type": "execute_result"
    }
   ],
   "source": [
    "exp_groups_evo_others_df = pandas.DataFrame(columns=['exp'])\n",
    "\n",
    "for exp_df in exp_df_list:\n",
    "    \n",
    "    if exp_df.empty:\n",
    "        continue\n",
    "        \n",
    "    exp_df = exp_df[[group2 not in ['Mozilla Staff'] for group1, group2 in exp_df.index]]\n",
    "    \n",
    "    if (len(exp_df) == 0):\n",
    "        continue\n",
    "    \n",
    "    year = exp_df['last_active'].unique()[0]\n",
    "    exp_groups_df = pandas.DataFrame(columns=['exp', year])\n",
    "    \n",
    "    experience = list(range(1, int(exp_df['exp'].max()) + 1))\n",
    "    \n",
    "    for exp in experience:\n",
    "        count = len(exp_df.loc[exp_df['exp'] == exp])\n",
    "        exp_groups_df.loc[len(exp_groups_df)] = [exp, count]\n",
    "\n",
    "    exp_groups_evo_others_df = exp_groups_evo_others_df.merge(exp_groups_df, on='exp', how='outer')\n",
    "\n",
    "\n",
    "# Fill Nan with 0's\n",
    "exp_groups_evo_others_df = exp_groups_evo_others_df.fillna(0)\n",
    "\n",
    "# Reorder columns\n",
    "exp_groups_evo_others_df = exp_groups_evo_others_df.set_index('exp')\n",
    "exp_groups_evo_others_df = exp_groups_evo_others_df.sort_index(axis=1)\n",
    "\n",
    "\n",
    "#print('Max. Exp: ', exp_groups_evo_others_df['exp'].max(), 'Max. Count: ')\n",
    "exp_groups_evo_others_df"
   ]
  },
  {
   "cell_type": "markdown",
   "metadata": {},
   "source": [
    "Next plot can be read as follows:\n",
    "* Y axis corresponds to the number of contributors in the given group.\n",
    "* X axis corresponds to years we are looking through.\n",
    "* Each line corresponds to a given group based on their years of experience. "
   ]
  },
  {
   "cell_type": "code",
   "execution_count": 46,
   "metadata": {
    "collapsed": false
   },
   "outputs": [
    {
     "data": {
      "text/html": [
       "<script>requirejs.config({paths: { 'plotly': ['https://cdn.plot.ly/plotly-latest.min']},});if(!window.Plotly) {{require(['plotly'],function(plotly) {window.Plotly=plotly;});}}</script>"
      ],
      "text/vnd.plotly.v1+html": [
       "<script>requirejs.config({paths: { 'plotly': ['https://cdn.plot.ly/plotly-latest.min']},});if(!window.Plotly) {{require(['plotly'],function(plotly) {window.Plotly=plotly;});}}</script>"
      ]
     },
     "metadata": {},
     "output_type": "display_data"
    },
    {
     "data": {
      "application/vnd.plotly.v1+json": {
       "data": [
        {
         "mode": "lines+markers",
         "name": "1 years",
         "type": "scatter",
         "x": [
          "2007",
          "2008",
          "2009",
          "2010",
          "2011",
          "2012",
          "2013",
          "2014",
          "2015",
          "2016"
         ],
         "y": [
          221,
          147,
          148,
          185,
          291,
          334,
          412,
          482,
          453,
          435
         ]
        },
        {
         "mode": "lines+markers",
         "name": "2 years",
         "type": "scatter",
         "x": [
          "2007",
          "2008",
          "2009",
          "2010",
          "2011",
          "2012",
          "2013",
          "2014",
          "2015",
          "2016"
         ],
         "y": [
          34,
          151,
          92,
          98,
          120,
          206,
          195,
          215,
          218,
          213
         ]
        },
        {
         "mode": "lines+markers",
         "name": "3 years",
         "type": "scatter",
         "x": [
          "2007",
          "2008",
          "2009",
          "2010",
          "2011",
          "2012",
          "2013",
          "2014",
          "2015",
          "2016"
         ],
         "y": [
          16,
          7,
          77,
          68,
          75,
          91,
          145,
          151,
          157,
          130
         ]
        },
        {
         "mode": "lines+markers",
         "name": "4 years",
         "type": "scatter",
         "x": [
          "2007",
          "2008",
          "2009",
          "2010",
          "2011",
          "2012",
          "2013",
          "2014",
          "2015",
          "2016"
         ],
         "y": [
          15,
          2,
          5,
          70,
          58,
          58,
          75,
          116,
          109,
          116
         ]
        },
        {
         "mode": "lines+markers",
         "name": "5 years",
         "type": "scatter",
         "x": [
          "2007",
          "2008",
          "2009",
          "2010",
          "2011",
          "2012",
          "2013",
          "2014",
          "2015",
          "2016"
         ],
         "y": [
          5,
          2,
          2,
          4,
          62,
          53,
          49,
          63,
          95,
          88
         ]
        },
        {
         "mode": "lines+markers",
         "name": "6 years",
         "type": "scatter",
         "x": [
          "2007",
          "2008",
          "2009",
          "2010",
          "2011",
          "2012",
          "2013",
          "2014",
          "2015",
          "2016"
         ],
         "y": [
          3,
          1,
          2,
          3,
          4,
          50,
          40,
          46,
          54,
          84
         ]
        },
        {
         "mode": "lines+markers",
         "name": "7 years",
         "type": "scatter",
         "x": [
          "2007",
          "2008",
          "2009",
          "2010",
          "2011",
          "2012",
          "2013",
          "2014",
          "2015",
          "2016"
         ],
         "y": [
          6,
          1,
          1,
          2,
          2,
          3,
          45,
          35,
          41,
          48
         ]
        },
        {
         "mode": "lines+markers",
         "name": "8 years",
         "type": "scatter",
         "x": [
          "2007",
          "2008",
          "2009",
          "2010",
          "2011",
          "2012",
          "2013",
          "2014",
          "2015",
          "2016"
         ],
         "y": [
          2,
          3,
          1,
          1,
          2,
          2,
          2,
          42,
          31,
          38
         ]
        },
        {
         "mode": "lines+markers",
         "name": "9 years",
         "type": "scatter",
         "x": [
          "2007",
          "2008",
          "2009",
          "2010",
          "2011",
          "2012",
          "2013",
          "2014",
          "2015",
          "2016"
         ],
         "y": [
          3,
          2,
          3,
          0,
          1,
          1,
          3,
          2,
          38,
          29
         ]
        },
        {
         "mode": "lines+markers",
         "name": "10 years",
         "type": "scatter",
         "x": [
          "2007",
          "2008",
          "2009",
          "2010",
          "2011",
          "2012",
          "2013",
          "2014",
          "2015",
          "2016"
         ],
         "y": [
          0,
          1,
          1,
          2,
          1,
          1,
          1,
          2,
          2,
          32
         ]
        },
        {
         "mode": "lines+markers",
         "name": "11 years",
         "type": "scatter",
         "x": [
          "2007",
          "2008",
          "2009",
          "2010",
          "2011",
          "2012",
          "2013",
          "2014",
          "2015",
          "2016"
         ],
         "y": [
          0,
          0,
          1,
          1,
          2,
          0,
          0,
          1,
          1,
          2
         ]
        },
        {
         "mode": "lines+markers",
         "name": "12 years",
         "type": "scatter",
         "x": [
          "2007",
          "2008",
          "2009",
          "2010",
          "2011",
          "2012",
          "2013",
          "2014",
          "2015",
          "2016"
         ],
         "y": [
          0,
          0,
          0,
          1,
          1,
          2,
          0,
          0,
          1,
          0
         ]
        },
        {
         "mode": "lines+markers",
         "name": "13 years",
         "type": "scatter",
         "x": [
          "2007",
          "2008",
          "2009",
          "2010",
          "2011",
          "2012",
          "2013",
          "2014",
          "2015",
          "2016"
         ],
         "y": [
          0,
          0,
          0,
          0,
          1,
          1,
          2,
          0,
          0,
          1
         ]
        },
        {
         "mode": "lines+markers",
         "name": "14 years",
         "type": "scatter",
         "x": [
          "2007",
          "2008",
          "2009",
          "2010",
          "2011",
          "2012",
          "2013",
          "2014",
          "2015",
          "2016"
         ],
         "y": [
          0,
          0,
          0,
          0,
          0,
          0,
          1,
          2,
          0,
          0
         ]
        },
        {
         "mode": "lines+markers",
         "name": "15 years",
         "type": "scatter",
         "x": [
          "2007",
          "2008",
          "2009",
          "2010",
          "2011",
          "2012",
          "2013",
          "2014",
          "2015",
          "2016"
         ],
         "y": [
          0,
          0,
          0,
          0,
          0,
          0,
          0,
          1,
          2,
          0
         ]
        },
        {
         "mode": "lines+markers",
         "name": "16 years",
         "type": "scatter",
         "x": [
          "2007",
          "2008",
          "2009",
          "2010",
          "2011",
          "2012",
          "2013",
          "2014",
          "2015",
          "2016"
         ],
         "y": [
          0,
          0,
          0,
          0,
          0,
          0,
          0,
          0,
          1,
          2
         ]
        },
        {
         "mode": "lines+markers",
         "name": "17 years",
         "type": "scatter",
         "x": [
          "2007",
          "2008",
          "2009",
          "2010",
          "2011",
          "2012",
          "2013",
          "2014",
          "2015",
          "2016"
         ],
         "y": [
          0,
          0,
          0,
          0,
          0,
          0,
          0,
          0,
          0,
          1
         ]
        }
       ],
       "layout": {}
      },
      "text/html": [
       "<div id=\"6b452fb9-fdb4-4ebb-998b-66f0707f903e\" style=\"height: 525px; width: 100%;\" class=\"plotly-graph-div\"></div><script type=\"text/javascript\">require([\"plotly\"], function(Plotly) { window.PLOTLYENV=window.PLOTLYENV || {};window.PLOTLYENV.BASE_URL=\"https://plot.ly\";Plotly.newPlot(\"6b452fb9-fdb4-4ebb-998b-66f0707f903e\", [{\"x\": [\"2007\", \"2008\", \"2009\", \"2010\", \"2011\", \"2012\", \"2013\", \"2014\", \"2015\", \"2016\"], \"mode\": \"lines+markers\", \"name\": \"1 years\", \"type\": \"scatter\", \"y\": [221.0, 147.0, 148.0, 185.0, 291.0, 334.0, 412.0, 482.0, 453.0, 435.0]}, {\"x\": [\"2007\", \"2008\", \"2009\", \"2010\", \"2011\", \"2012\", \"2013\", \"2014\", \"2015\", \"2016\"], \"mode\": \"lines+markers\", \"name\": \"2 years\", \"type\": \"scatter\", \"y\": [34.0, 151.0, 92.0, 98.0, 120.0, 206.0, 195.0, 215.0, 218.0, 213.0]}, {\"x\": [\"2007\", \"2008\", \"2009\", \"2010\", \"2011\", \"2012\", \"2013\", \"2014\", \"2015\", \"2016\"], \"mode\": \"lines+markers\", \"name\": \"3 years\", \"type\": \"scatter\", \"y\": [16.0, 7.0, 77.0, 68.0, 75.0, 91.0, 145.0, 151.0, 157.0, 130.0]}, {\"x\": [\"2007\", \"2008\", \"2009\", \"2010\", \"2011\", \"2012\", \"2013\", \"2014\", \"2015\", \"2016\"], \"mode\": \"lines+markers\", \"name\": \"4 years\", \"type\": \"scatter\", \"y\": [15.0, 2.0, 5.0, 70.0, 58.0, 58.0, 75.0, 116.0, 109.0, 116.0]}, {\"x\": [\"2007\", \"2008\", \"2009\", \"2010\", \"2011\", \"2012\", \"2013\", \"2014\", \"2015\", \"2016\"], \"mode\": \"lines+markers\", \"name\": \"5 years\", \"type\": \"scatter\", \"y\": [5.0, 2.0, 2.0, 4.0, 62.0, 53.0, 49.0, 63.0, 95.0, 88.0]}, {\"x\": [\"2007\", \"2008\", \"2009\", \"2010\", \"2011\", \"2012\", \"2013\", \"2014\", \"2015\", \"2016\"], \"mode\": \"lines+markers\", \"name\": \"6 years\", \"type\": \"scatter\", \"y\": [3.0, 1.0, 2.0, 3.0, 4.0, 50.0, 40.0, 46.0, 54.0, 84.0]}, {\"x\": [\"2007\", \"2008\", \"2009\", \"2010\", \"2011\", \"2012\", \"2013\", \"2014\", \"2015\", \"2016\"], \"mode\": \"lines+markers\", \"name\": \"7 years\", \"type\": \"scatter\", \"y\": [6.0, 1.0, 1.0, 2.0, 2.0, 3.0, 45.0, 35.0, 41.0, 48.0]}, {\"x\": [\"2007\", \"2008\", \"2009\", \"2010\", \"2011\", \"2012\", \"2013\", \"2014\", \"2015\", \"2016\"], \"mode\": \"lines+markers\", \"name\": \"8 years\", \"type\": \"scatter\", \"y\": [2.0, 3.0, 1.0, 1.0, 2.0, 2.0, 2.0, 42.0, 31.0, 38.0]}, {\"x\": [\"2007\", \"2008\", \"2009\", \"2010\", \"2011\", \"2012\", \"2013\", \"2014\", \"2015\", \"2016\"], \"mode\": \"lines+markers\", \"name\": \"9 years\", \"type\": \"scatter\", \"y\": [3.0, 2.0, 3.0, 0.0, 1.0, 1.0, 3.0, 2.0, 38.0, 29.0]}, {\"x\": [\"2007\", \"2008\", \"2009\", \"2010\", \"2011\", \"2012\", \"2013\", \"2014\", \"2015\", \"2016\"], \"mode\": \"lines+markers\", \"name\": \"10 years\", \"type\": \"scatter\", \"y\": [0.0, 1.0, 1.0, 2.0, 1.0, 1.0, 1.0, 2.0, 2.0, 32.0]}, {\"x\": [\"2007\", \"2008\", \"2009\", \"2010\", \"2011\", \"2012\", \"2013\", \"2014\", \"2015\", \"2016\"], \"mode\": \"lines+markers\", \"name\": \"11 years\", \"type\": \"scatter\", \"y\": [0.0, 0.0, 1.0, 1.0, 2.0, 0.0, 0.0, 1.0, 1.0, 2.0]}, {\"x\": [\"2007\", \"2008\", \"2009\", \"2010\", \"2011\", \"2012\", \"2013\", \"2014\", \"2015\", \"2016\"], \"mode\": \"lines+markers\", \"name\": \"12 years\", \"type\": \"scatter\", \"y\": [0.0, 0.0, 0.0, 1.0, 1.0, 2.0, 0.0, 0.0, 1.0, 0.0]}, {\"x\": [\"2007\", \"2008\", \"2009\", \"2010\", \"2011\", \"2012\", \"2013\", \"2014\", \"2015\", \"2016\"], \"mode\": \"lines+markers\", \"name\": \"13 years\", \"type\": \"scatter\", \"y\": [0.0, 0.0, 0.0, 0.0, 1.0, 1.0, 2.0, 0.0, 0.0, 1.0]}, {\"x\": [\"2007\", \"2008\", \"2009\", \"2010\", \"2011\", \"2012\", \"2013\", \"2014\", \"2015\", \"2016\"], \"mode\": \"lines+markers\", \"name\": \"14 years\", \"type\": \"scatter\", \"y\": [0.0, 0.0, 0.0, 0.0, 0.0, 0.0, 1.0, 2.0, 0.0, 0.0]}, {\"x\": [\"2007\", \"2008\", \"2009\", \"2010\", \"2011\", \"2012\", \"2013\", \"2014\", \"2015\", \"2016\"], \"mode\": \"lines+markers\", \"name\": \"15 years\", \"type\": \"scatter\", \"y\": [0.0, 0.0, 0.0, 0.0, 0.0, 0.0, 0.0, 1.0, 2.0, 0.0]}, {\"x\": [\"2007\", \"2008\", \"2009\", \"2010\", \"2011\", \"2012\", \"2013\", \"2014\", \"2015\", \"2016\"], \"mode\": \"lines+markers\", \"name\": \"16 years\", \"type\": \"scatter\", \"y\": [0.0, 0.0, 0.0, 0.0, 0.0, 0.0, 0.0, 0.0, 1.0, 2.0]}, {\"x\": [\"2007\", \"2008\", \"2009\", \"2010\", \"2011\", \"2012\", \"2013\", \"2014\", \"2015\", \"2016\"], \"mode\": \"lines+markers\", \"name\": \"17 years\", \"type\": \"scatter\", \"y\": [0.0, 0.0, 0.0, 0.0, 0.0, 0.0, 0.0, 0.0, 0.0, 1.0]}], {}, {\"showLink\": true, \"linkText\": \"Export to plot.ly\"})});</script>"
      ],
      "text/vnd.plotly.v1+html": [
       "<div id=\"6b452fb9-fdb4-4ebb-998b-66f0707f903e\" style=\"height: 525px; width: 100%;\" class=\"plotly-graph-div\"></div><script type=\"text/javascript\">require([\"plotly\"], function(Plotly) { window.PLOTLYENV=window.PLOTLYENV || {};window.PLOTLYENV.BASE_URL=\"https://plot.ly\";Plotly.newPlot(\"6b452fb9-fdb4-4ebb-998b-66f0707f903e\", [{\"x\": [\"2007\", \"2008\", \"2009\", \"2010\", \"2011\", \"2012\", \"2013\", \"2014\", \"2015\", \"2016\"], \"mode\": \"lines+markers\", \"name\": \"1 years\", \"type\": \"scatter\", \"y\": [221.0, 147.0, 148.0, 185.0, 291.0, 334.0, 412.0, 482.0, 453.0, 435.0]}, {\"x\": [\"2007\", \"2008\", \"2009\", \"2010\", \"2011\", \"2012\", \"2013\", \"2014\", \"2015\", \"2016\"], \"mode\": \"lines+markers\", \"name\": \"2 years\", \"type\": \"scatter\", \"y\": [34.0, 151.0, 92.0, 98.0, 120.0, 206.0, 195.0, 215.0, 218.0, 213.0]}, {\"x\": [\"2007\", \"2008\", \"2009\", \"2010\", \"2011\", \"2012\", \"2013\", \"2014\", \"2015\", \"2016\"], \"mode\": \"lines+markers\", \"name\": \"3 years\", \"type\": \"scatter\", \"y\": [16.0, 7.0, 77.0, 68.0, 75.0, 91.0, 145.0, 151.0, 157.0, 130.0]}, {\"x\": [\"2007\", \"2008\", \"2009\", \"2010\", \"2011\", \"2012\", \"2013\", \"2014\", \"2015\", \"2016\"], \"mode\": \"lines+markers\", \"name\": \"4 years\", \"type\": \"scatter\", \"y\": [15.0, 2.0, 5.0, 70.0, 58.0, 58.0, 75.0, 116.0, 109.0, 116.0]}, {\"x\": [\"2007\", \"2008\", \"2009\", \"2010\", \"2011\", \"2012\", \"2013\", \"2014\", \"2015\", \"2016\"], \"mode\": \"lines+markers\", \"name\": \"5 years\", \"type\": \"scatter\", \"y\": [5.0, 2.0, 2.0, 4.0, 62.0, 53.0, 49.0, 63.0, 95.0, 88.0]}, {\"x\": [\"2007\", \"2008\", \"2009\", \"2010\", \"2011\", \"2012\", \"2013\", \"2014\", \"2015\", \"2016\"], \"mode\": \"lines+markers\", \"name\": \"6 years\", \"type\": \"scatter\", \"y\": [3.0, 1.0, 2.0, 3.0, 4.0, 50.0, 40.0, 46.0, 54.0, 84.0]}, {\"x\": [\"2007\", \"2008\", \"2009\", \"2010\", \"2011\", \"2012\", \"2013\", \"2014\", \"2015\", \"2016\"], \"mode\": \"lines+markers\", \"name\": \"7 years\", \"type\": \"scatter\", \"y\": [6.0, 1.0, 1.0, 2.0, 2.0, 3.0, 45.0, 35.0, 41.0, 48.0]}, {\"x\": [\"2007\", \"2008\", \"2009\", \"2010\", \"2011\", \"2012\", \"2013\", \"2014\", \"2015\", \"2016\"], \"mode\": \"lines+markers\", \"name\": \"8 years\", \"type\": \"scatter\", \"y\": [2.0, 3.0, 1.0, 1.0, 2.0, 2.0, 2.0, 42.0, 31.0, 38.0]}, {\"x\": [\"2007\", \"2008\", \"2009\", \"2010\", \"2011\", \"2012\", \"2013\", \"2014\", \"2015\", \"2016\"], \"mode\": \"lines+markers\", \"name\": \"9 years\", \"type\": \"scatter\", \"y\": [3.0, 2.0, 3.0, 0.0, 1.0, 1.0, 3.0, 2.0, 38.0, 29.0]}, {\"x\": [\"2007\", \"2008\", \"2009\", \"2010\", \"2011\", \"2012\", \"2013\", \"2014\", \"2015\", \"2016\"], \"mode\": \"lines+markers\", \"name\": \"10 years\", \"type\": \"scatter\", \"y\": [0.0, 1.0, 1.0, 2.0, 1.0, 1.0, 1.0, 2.0, 2.0, 32.0]}, {\"x\": [\"2007\", \"2008\", \"2009\", \"2010\", \"2011\", \"2012\", \"2013\", \"2014\", \"2015\", \"2016\"], \"mode\": \"lines+markers\", \"name\": \"11 years\", \"type\": \"scatter\", \"y\": [0.0, 0.0, 1.0, 1.0, 2.0, 0.0, 0.0, 1.0, 1.0, 2.0]}, {\"x\": [\"2007\", \"2008\", \"2009\", \"2010\", \"2011\", \"2012\", \"2013\", \"2014\", \"2015\", \"2016\"], \"mode\": \"lines+markers\", \"name\": \"12 years\", \"type\": \"scatter\", \"y\": [0.0, 0.0, 0.0, 1.0, 1.0, 2.0, 0.0, 0.0, 1.0, 0.0]}, {\"x\": [\"2007\", \"2008\", \"2009\", \"2010\", \"2011\", \"2012\", \"2013\", \"2014\", \"2015\", \"2016\"], \"mode\": \"lines+markers\", \"name\": \"13 years\", \"type\": \"scatter\", \"y\": [0.0, 0.0, 0.0, 0.0, 1.0, 1.0, 2.0, 0.0, 0.0, 1.0]}, {\"x\": [\"2007\", \"2008\", \"2009\", \"2010\", \"2011\", \"2012\", \"2013\", \"2014\", \"2015\", \"2016\"], \"mode\": \"lines+markers\", \"name\": \"14 years\", \"type\": \"scatter\", \"y\": [0.0, 0.0, 0.0, 0.0, 0.0, 0.0, 1.0, 2.0, 0.0, 0.0]}, {\"x\": [\"2007\", \"2008\", \"2009\", \"2010\", \"2011\", \"2012\", \"2013\", \"2014\", \"2015\", \"2016\"], \"mode\": \"lines+markers\", \"name\": \"15 years\", \"type\": \"scatter\", \"y\": [0.0, 0.0, 0.0, 0.0, 0.0, 0.0, 0.0, 1.0, 2.0, 0.0]}, {\"x\": [\"2007\", \"2008\", \"2009\", \"2010\", \"2011\", \"2012\", \"2013\", \"2014\", \"2015\", \"2016\"], \"mode\": \"lines+markers\", \"name\": \"16 years\", \"type\": \"scatter\", \"y\": [0.0, 0.0, 0.0, 0.0, 0.0, 0.0, 0.0, 0.0, 1.0, 2.0]}, {\"x\": [\"2007\", \"2008\", \"2009\", \"2010\", \"2011\", \"2012\", \"2013\", \"2014\", \"2015\", \"2016\"], \"mode\": \"lines+markers\", \"name\": \"17 years\", \"type\": \"scatter\", \"y\": [0.0, 0.0, 0.0, 0.0, 0.0, 0.0, 0.0, 0.0, 0.0, 1.0]}], {}, {\"showLink\": true, \"linkText\": \"Export to plot.ly\"})});</script>"
      ]
     },
     "metadata": {},
     "output_type": "display_data"
    }
   ],
   "source": [
    "plotly.offline.init_notebook_mode(connected=True)\n",
    "\n",
    "data = []\n",
    "for exp in exp_groups_evo_df.index.values:\n",
    "    #print(exp, '\\n', exp_groups_evo_df.loc[exp].tolist(), '\\n', exp_groups_evo_df.loc[exp].index.values)\n",
    "    data.append(\n",
    "        go.Scatter(\n",
    "            x = exp_groups_evo_df.loc[exp].index.values,\n",
    "            y = exp_groups_evo_df.loc[exp].tolist(),\n",
    "            mode = 'lines+markers',\n",
    "            name = str(int(exp)) + ' years'\n",
    "        )\n",
    "    )\n",
    "    \n",
    "\n",
    "\n",
    "plotly.offline.iplot(data, filename='line-mode')    "
   ]
  }
 ],
 "metadata": {
  "kernelspec": {
   "display_name": "Python 3",
   "language": "python",
   "name": "python3"
  },
  "language_info": {
   "codemirror_mode": {
    "name": "ipython",
    "version": 3
   },
   "file_extension": ".py",
   "mimetype": "text/x-python",
   "name": "python",
   "nbconvert_exporter": "python",
   "pygments_lexer": "ipython3",
   "version": "3.5.2+"
  }
 },
 "nbformat": 4,
 "nbformat_minor": 2
}
