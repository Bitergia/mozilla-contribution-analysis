{
 "cells": [
  {
   "cell_type": "markdown",
   "metadata": {},
   "source": [
    "## Goal: understanding contribution patterns\n",
    "\n",
    "Analyzing groups of contributors, according to their activity patterns, and their evolution over time, helps to understand the structure of the community. These groups will be defined according to how much active they are (from casual to core contributors), and which kinds of activity they have (for example, producing code, reviewing code, submitting issues, contributing in discussions, etc.). Whenever convenient, the characterization will be combined with the contributor groups identified in the first goal.\n",
    "\n",
    "This goal is refined in the following questions:\n",
    "\n",
    "**Questions**:\n",
    "\n",
    " * How often do contributors contribute?\n",
    " * How is the structure of contribution, according to level of activity?\n",
    " * How is the structure of contribution, according to the different data sources?\n",
    " * How are the structures of contribution evolving over time?\n",
    " * How is people flowing in the structure of contribution?\n",
    "\n",
    "These questions can be answered with the following metrics:\n",
    "\n",
    "**Metrics**:\n",
    "\n",
    "(Still to be refined)\n",
    "\n",
    " * Groups of contributors, by level of activity (core, regular, casual)\n",
    " * Groups of contributors, by kind of activity (committing, opening issues, merging pull requests, etc.)\n",
    " * Groups of contributors, by kind of activity (specialists, spread, etc.)\n",
    " * Activity metrics for each group\n",
    " * Absolute number of contributors moving from one group to another\n",
    " * Fraction of contributors moving from a group to another\n",
    " \n",
    "Some of these metrics will be computed for the speficied contributor groups, over time."
   ]
  },
  {
   "cell_type": "markdown",
   "metadata": {},
   "source": [
    "# Metric Calculations\n",
    "First we need to load a connection against the proper ES instance. We use an external module to load credentials from a file that will not be shared. If you want to run this, please use your own credentials, just put them in a file named '.settings' (in the same directory as this notebook) following the example file 'settings.sample'.\n",
    "\n",
    "This section includes common code to manage and plot data. Queries will be available at the corresponding section.\n",
    "\n",
    "**TODO**: Add bot and merges filtering."
   ]
  },
  {
   "cell_type": "code",
   "execution_count": 1,
   "metadata": {
    "collapsed": true
   },
   "outputs": [],
   "source": [
    "import pandas\n",
    "\n",
    "import plotly as plotly\n",
    "import plotly.graph_objs as go\n",
    "\n",
    "from util import ESConnection\n",
    "from elasticsearch_dsl import Search\n",
    "\n",
    "es_conn = ESConnection()"
   ]
  },
  {
   "cell_type": "code",
   "execution_count": 2,
   "metadata": {
    "collapsed": true
   },
   "outputs": [],
   "source": [
    "def create_search(source):\n",
    "    s = Search(using=es_conn, index=source)\n",
    "    # TODO: Add bot and merges filtering.\n",
    "    #s = s.filter('range', grimoire_creation_date={'gt': 'now/M-2y', 'lt': 'now/M'})\n",
    "    s.params(timeout=30)\n",
    "    return s"
   ]
  },
  {
   "cell_type": "code",
   "execution_count": 3,
   "metadata": {
    "collapsed": true
   },
   "outputs": [],
   "source": [
    "def stack_by(result, group_column, time_column, value_column, group_field, time_field, value_field):\n",
    "    \"\"\"Creates a dataframe based on group and time values\n",
    "    \"\"\"\n",
    "    df = pandas.DataFrame(columns=[group_column, time_column, value_column])\n",
    "\n",
    "    for b in result.to_dict()['aggregations'][group_field]['buckets']:\n",
    "        for i in b[time_field]['buckets']:\n",
    "            df.loc[len(df)] = [b['key'], i['key_as_string'], i[value_field]['value']]\n",
    "    \n",
    "    return df"
   ]
  },
  {
   "cell_type": "code",
   "execution_count": 4,
   "metadata": {
    "collapsed": true
   },
   "outputs": [],
   "source": [
    "def onion(df, bucket_column, time_column, value_column):\n",
    "    \n",
    "    total = df[value_column].sum()\n",
    "    \n",
    "    percent_80 = total * 0.8\n",
    "    percent_95 = total * 0.95\n",
    "    core = 0\n",
    "    core_sum = 0\n",
    "    regular = 0\n",
    "    regular_sum = 0\n",
    "    casual = 0\n",
    "\n",
    "    for row in df.iterrows():\n",
    "        value = row[1][value_column]\n",
    "        \n",
    "        if (percent_80 > core_sum):\n",
    "            core = core + 1\n",
    "            core_sum = core_sum + value\n",
    "            regular_sum = regular_sum + value\n",
    "        elif percent_95 > regular_sum:\n",
    "            regular = regular + 1\n",
    "            regular_sum = regular_sum + value\n",
    "        else:\n",
    "            casual = casual + 1\n",
    "\n",
    "    return {\"core\":core,\n",
    "            \"regular\":regular,\n",
    "            \"casual\":casual} \n",
    "\n",
    "def onion_evolution(result, bucket_column, time_column, value_column, bucket_field, time_field, metric_field):\n",
    "    \n",
    "    df = stack_by(result, bucket_column, time_column, value_column, bucket_field, time_field, metric_field)\n",
    "    \n",
    "    onion_df = pandas.DataFrame(columns=['Time', 'Core', 'Regular', 'Casual'])\n",
    "    \n",
    "    for time in df[time_column].unique():\n",
    "        slice_df = df.loc[df['Time'] == time]\n",
    "        slice_df = slice_df.sort_values(by=value_column, ascending=False)\n",
    "        onion_result = onion(slice_df, bucket_column=bucket_column, time_column=time_column,\\\n",
    "                             value_column=value_column)\n",
    "        #print(time, '->', len(slice_df), slice_df.columns.values.tolist(), '->', onion_result)\n",
    "        onion_df.loc[len(onion_df)] = [time, onion_result['core'], onion_result['regular'], onion_result['casual']]\n",
    "        \n",
    "    \n",
    "    #print(len(df))\n",
    "    return onion_df"
   ]
  },
  {
   "cell_type": "code",
   "execution_count": 5,
   "metadata": {
    "collapsed": false
   },
   "outputs": [],
   "source": [
    "def print_grouped_bar(df, x_column, value_columns, title):\n",
    "    \"\"\"\n",
    "    \"\"\"\n",
    "    plotly.offline.init_notebook_mode(connected=True)\n",
    "\n",
    "    bars = []\n",
    "    x_values = df[x_column].tolist()\n",
    "    for value_column in value_columns:\n",
    "        bars.append(go.Bar(\n",
    "            x=x_values,\n",
    "            y=df[value_column].tolist(),\n",
    "            name=value_column))\n",
    "\n",
    "    layout = go.Layout(\n",
    "        barmode='group',\n",
    "        title= title\n",
    "    )\n",
    "\n",
    "    fig = go.Figure(data=bars, layout=layout)\n",
    "    plotly.offline.iplot(fig, filename='grouped-bar')"
   ]
  },
  {
   "cell_type": "code",
   "execution_count": 6,
   "metadata": {
    "collapsed": true
   },
   "outputs": [],
   "source": [
    "def add_bot_filter(s):\n",
    "    return s.filter('term', author_bot='false')\n",
    "\n",
    "def add_merges_filter(s):\n",
    "    return s.filter('range', files={'gt': 0})"
   ]
  },
  {
   "cell_type": "markdown",
   "metadata": {},
   "source": [
    "# Metrics\n",
    "\n",
    "## Groups of contributors, by level of activity: core, regular, casual\n",
    "\n",
    "Following table and chart shows number of contributors in three groups:\n",
    "* Core: minimum number of authors who made 80% of contributions.\n",
    "* Regular: minimum number of authors who made between 80% and 95% of contributions.\n",
    "* Casual: the rest of contributors, who made the last 5% of contributions.\n",
    "\n",
    "Looking at their evolution through time we can see the structure of a community at some point and its evolution."
   ]
  },
  {
   "cell_type": "code",
   "execution_count": 7,
   "metadata": {
    "collapsed": false
   },
   "outputs": [
    {
     "data": {
      "text/html": [
       "<div>\n",
       "<table border=\"1\" class=\"dataframe\">\n",
       "  <thead>\n",
       "    <tr style=\"text-align: right;\">\n",
       "      <th></th>\n",
       "      <th>Time</th>\n",
       "      <th>Core</th>\n",
       "      <th>Regular</th>\n",
       "      <th>Casual</th>\n",
       "      <th>Quarter</th>\n",
       "    </tr>\n",
       "  </thead>\n",
       "  <tbody>\n",
       "    <tr>\n",
       "      <th>0</th>\n",
       "      <td>2015-04-01T00:00:00.000Z</td>\n",
       "      <td>280.0</td>\n",
       "      <td>307.0</td>\n",
       "      <td>485.0</td>\n",
       "      <td>2015Q2</td>\n",
       "    </tr>\n",
       "    <tr>\n",
       "      <th>1</th>\n",
       "      <td>2015-07-01T00:00:00.000Z</td>\n",
       "      <td>340.0</td>\n",
       "      <td>388.0</td>\n",
       "      <td>1121.0</td>\n",
       "      <td>2015Q3</td>\n",
       "    </tr>\n",
       "    <tr>\n",
       "      <th>2</th>\n",
       "      <td>2015-10-01T00:00:00.000Z</td>\n",
       "      <td>341.0</td>\n",
       "      <td>460.0</td>\n",
       "      <td>1403.0</td>\n",
       "      <td>2015Q4</td>\n",
       "    </tr>\n",
       "    <tr>\n",
       "      <th>3</th>\n",
       "      <td>2016-01-01T00:00:00.000Z</td>\n",
       "      <td>364.0</td>\n",
       "      <td>496.0</td>\n",
       "      <td>1525.0</td>\n",
       "      <td>2016Q1</td>\n",
       "    </tr>\n",
       "    <tr>\n",
       "      <th>4</th>\n",
       "      <td>2016-04-01T00:00:00.000Z</td>\n",
       "      <td>364.0</td>\n",
       "      <td>445.0</td>\n",
       "      <td>1476.0</td>\n",
       "      <td>2016Q2</td>\n",
       "    </tr>\n",
       "    <tr>\n",
       "      <th>5</th>\n",
       "      <td>2016-07-01T00:00:00.000Z</td>\n",
       "      <td>379.0</td>\n",
       "      <td>446.0</td>\n",
       "      <td>1425.0</td>\n",
       "      <td>2016Q3</td>\n",
       "    </tr>\n",
       "    <tr>\n",
       "      <th>6</th>\n",
       "      <td>2016-10-01T00:00:00.000Z</td>\n",
       "      <td>316.0</td>\n",
       "      <td>379.0</td>\n",
       "      <td>1220.0</td>\n",
       "      <td>2016Q4</td>\n",
       "    </tr>\n",
       "    <tr>\n",
       "      <th>7</th>\n",
       "      <td>2017-01-01T00:00:00.000Z</td>\n",
       "      <td>311.0</td>\n",
       "      <td>414.0</td>\n",
       "      <td>1079.0</td>\n",
       "      <td>2017Q1</td>\n",
       "    </tr>\n",
       "    <tr>\n",
       "      <th>8</th>\n",
       "      <td>2017-04-01T00:00:00.000Z</td>\n",
       "      <td>194.0</td>\n",
       "      <td>269.0</td>\n",
       "      <td>394.0</td>\n",
       "      <td>2017Q2</td>\n",
       "    </tr>\n",
       "  </tbody>\n",
       "</table>\n",
       "</div>"
      ],
      "text/plain": [
       "                       Time   Core  Regular  Casual Quarter\n",
       "0  2015-04-01T00:00:00.000Z  280.0    307.0   485.0  2015Q2\n",
       "1  2015-07-01T00:00:00.000Z  340.0    388.0  1121.0  2015Q3\n",
       "2  2015-10-01T00:00:00.000Z  341.0    460.0  1403.0  2015Q4\n",
       "3  2016-01-01T00:00:00.000Z  364.0    496.0  1525.0  2016Q1\n",
       "4  2016-04-01T00:00:00.000Z  364.0    445.0  1476.0  2016Q2\n",
       "5  2016-07-01T00:00:00.000Z  379.0    446.0  1425.0  2016Q3\n",
       "6  2016-10-01T00:00:00.000Z  316.0    379.0  1220.0  2016Q4\n",
       "7  2017-01-01T00:00:00.000Z  311.0    414.0  1079.0  2017Q1\n",
       "8  2017-04-01T00:00:00.000Z  194.0    269.0   394.0  2017Q2"
      ]
     },
     "execution_count": 7,
     "metadata": {},
     "output_type": "execute_result"
    }
   ],
   "source": [
    "s = Search(using=es_conn, index='git')\n",
    "\n",
    "s = add_bot_filter(s)\n",
    "s = add_merges_filter(s)\n",
    "\n",
    "s = s.filter('range', grimoire_creation_date={'gt': 'now/M-2y', 'lt': 'now/M'})\n",
    "# Unique count of Commits by Authors\n",
    "s.aggs.bucket('authors', 'terms', field='author_uuid', size=100000)\\\n",
    "    .bucket('time', 'date_histogram', field='grimoire_creation_date', interval='quarter')\\\n",
    "    .metric('commits', 'cardinality', field='hash', precision_threshold=1000)\n",
    "result = s.execute()\n",
    "\n",
    "onion_df=onion_evolution(result, bucket_column='Author', time_column='Time', value_column='Commits',\\\n",
    "      bucket_field='authors', time_field='time', metric_field='commits')\n",
    "\n",
    "# Calculate quarters\n",
    "#onion_df['Quarter'] = pandas.PeriodIndex(pandas.to_datetime(onion_df.Time), freq='Q')\n",
    "onion_df['Quarter'] = onion_df['Time'].map(lambda x: str(pandas.Period(x,'Q')))\n",
    "\n",
    "onion_df"
   ]
  },
  {
   "cell_type": "code",
   "execution_count": 8,
   "metadata": {
    "collapsed": false
   },
   "outputs": [
    {
     "data": {
      "text/html": [
       "<script>requirejs.config({paths: { 'plotly': ['https://cdn.plot.ly/plotly-latest.min']},});if(!window.Plotly) {{require(['plotly'],function(plotly) {window.Plotly=plotly;});}}</script>"
      ],
      "text/vnd.plotly.v1+html": [
       "<script>requirejs.config({paths: { 'plotly': ['https://cdn.plot.ly/plotly-latest.min']},});if(!window.Plotly) {{require(['plotly'],function(plotly) {window.Plotly=plotly;});}}</script>"
      ]
     },
     "metadata": {},
     "output_type": "display_data"
    },
    {
     "data": {
      "application/vnd.plotly.v1+json": {
       "data": [
        {
         "name": "Core",
         "type": "bar",
         "x": [
          "2015Q2",
          "2015Q3",
          "2015Q4",
          "2016Q1",
          "2016Q2",
          "2016Q3",
          "2016Q4",
          "2017Q1",
          "2017Q2"
         ],
         "y": [
          280,
          340,
          341,
          364,
          364,
          379,
          316,
          311,
          194
         ]
        },
        {
         "name": "Regular",
         "type": "bar",
         "x": [
          "2015Q2",
          "2015Q3",
          "2015Q4",
          "2016Q1",
          "2016Q2",
          "2016Q3",
          "2016Q4",
          "2017Q1",
          "2017Q2"
         ],
         "y": [
          307,
          388,
          460,
          496,
          445,
          446,
          379,
          414,
          269
         ]
        },
        {
         "name": "Casual",
         "type": "bar",
         "x": [
          "2015Q2",
          "2015Q3",
          "2015Q4",
          "2016Q1",
          "2016Q2",
          "2016Q3",
          "2016Q4",
          "2017Q1",
          "2017Q2"
         ],
         "y": [
          485,
          1121,
          1403,
          1525,
          1476,
          1425,
          1220,
          1079,
          394
         ]
        }
       ],
       "layout": {
        "barmode": "group",
        "title": "Global Contribution Groups"
       }
      },
      "text/html": [
       "<div id=\"e010bd03-ee73-43a6-b643-ae91418945a7\" style=\"height: 525px; width: 100%;\" class=\"plotly-graph-div\"></div><script type=\"text/javascript\">require([\"plotly\"], function(Plotly) { window.PLOTLYENV=window.PLOTLYENV || {};window.PLOTLYENV.BASE_URL=\"https://plot.ly\";Plotly.newPlot(\"e010bd03-ee73-43a6-b643-ae91418945a7\", [{\"type\": \"bar\", \"x\": [\"2015Q2\", \"2015Q3\", \"2015Q4\", \"2016Q1\", \"2016Q2\", \"2016Q3\", \"2016Q4\", \"2017Q1\", \"2017Q2\"], \"name\": \"Core\", \"y\": [280.0, 340.0, 341.0, 364.0, 364.0, 379.0, 316.0, 311.0, 194.0]}, {\"type\": \"bar\", \"x\": [\"2015Q2\", \"2015Q3\", \"2015Q4\", \"2016Q1\", \"2016Q2\", \"2016Q3\", \"2016Q4\", \"2017Q1\", \"2017Q2\"], \"name\": \"Regular\", \"y\": [307.0, 388.0, 460.0, 496.0, 445.0, 446.0, 379.0, 414.0, 269.0]}, {\"type\": \"bar\", \"x\": [\"2015Q2\", \"2015Q3\", \"2015Q4\", \"2016Q1\", \"2016Q2\", \"2016Q3\", \"2016Q4\", \"2017Q1\", \"2017Q2\"], \"name\": \"Casual\", \"y\": [485.0, 1121.0, 1403.0, 1525.0, 1476.0, 1425.0, 1220.0, 1079.0, 394.0]}], {\"title\": \"Global Contribution Groups\", \"barmode\": \"group\"}, {\"showLink\": true, \"linkText\": \"Export to plot.ly\"})});</script>"
      ],
      "text/vnd.plotly.v1+html": [
       "<div id=\"e010bd03-ee73-43a6-b643-ae91418945a7\" style=\"height: 525px; width: 100%;\" class=\"plotly-graph-div\"></div><script type=\"text/javascript\">require([\"plotly\"], function(Plotly) { window.PLOTLYENV=window.PLOTLYENV || {};window.PLOTLYENV.BASE_URL=\"https://plot.ly\";Plotly.newPlot(\"e010bd03-ee73-43a6-b643-ae91418945a7\", [{\"type\": \"bar\", \"x\": [\"2015Q2\", \"2015Q3\", \"2015Q4\", \"2016Q1\", \"2016Q2\", \"2016Q3\", \"2016Q4\", \"2017Q1\", \"2017Q2\"], \"name\": \"Core\", \"y\": [280.0, 340.0, 341.0, 364.0, 364.0, 379.0, 316.0, 311.0, 194.0]}, {\"type\": \"bar\", \"x\": [\"2015Q2\", \"2015Q3\", \"2015Q4\", \"2016Q1\", \"2016Q2\", \"2016Q3\", \"2016Q4\", \"2017Q1\", \"2017Q2\"], \"name\": \"Regular\", \"y\": [307.0, 388.0, 460.0, 496.0, 445.0, 446.0, 379.0, 414.0, 269.0]}, {\"type\": \"bar\", \"x\": [\"2015Q2\", \"2015Q3\", \"2015Q4\", \"2016Q1\", \"2016Q2\", \"2016Q3\", \"2016Q4\", \"2017Q1\", \"2017Q2\"], \"name\": \"Casual\", \"y\": [485.0, 1121.0, 1403.0, 1525.0, 1476.0, 1425.0, 1220.0, 1079.0, 394.0]}], {\"title\": \"Global Contribution Groups\", \"barmode\": \"group\"}, {\"showLink\": true, \"linkText\": \"Export to plot.ly\"})});</script>"
      ]
     },
     "metadata": {},
     "output_type": "display_data"
    }
   ],
   "source": [
    "print_grouped_bar(onion_df, 'Quarter', ['Core', 'Regular', 'Casual'], 'Global Contribution Groups')"
   ]
  },
  {
   "cell_type": "markdown",
   "metadata": {
    "collapsed": true
   },
   "source": [
    "### Compare Staff vs Community"
   ]
  },
  {
   "cell_type": "code",
   "execution_count": 9,
   "metadata": {
    "collapsed": false
   },
   "outputs": [
    {
     "data": {
      "text/html": [
       "<div>\n",
       "<table border=\"1\" class=\"dataframe\">\n",
       "  <thead>\n",
       "    <tr style=\"text-align: right;\">\n",
       "      <th></th>\n",
       "      <th>Time</th>\n",
       "      <th>Core</th>\n",
       "      <th>Regular</th>\n",
       "      <th>Casual</th>\n",
       "      <th>Quarter</th>\n",
       "      <th>Organization</th>\n",
       "    </tr>\n",
       "  </thead>\n",
       "  <tbody>\n",
       "    <tr>\n",
       "      <th>0</th>\n",
       "      <td>2015-04-01T00:00:00.000Z</td>\n",
       "      <td>193.0</td>\n",
       "      <td>162.0</td>\n",
       "      <td>214.0</td>\n",
       "      <td>2015Q2</td>\n",
       "      <td>Mozilla Staff</td>\n",
       "    </tr>\n",
       "    <tr>\n",
       "      <th>1</th>\n",
       "      <td>2015-07-01T00:00:00.000Z</td>\n",
       "      <td>233.0</td>\n",
       "      <td>191.0</td>\n",
       "      <td>353.0</td>\n",
       "      <td>2015Q3</td>\n",
       "      <td>Mozilla Staff</td>\n",
       "    </tr>\n",
       "    <tr>\n",
       "      <th>2</th>\n",
       "      <td>2015-10-01T00:00:00.000Z</td>\n",
       "      <td>220.0</td>\n",
       "      <td>182.0</td>\n",
       "      <td>416.0</td>\n",
       "      <td>2015Q4</td>\n",
       "      <td>Mozilla Staff</td>\n",
       "    </tr>\n",
       "    <tr>\n",
       "      <th>3</th>\n",
       "      <td>2016-01-01T00:00:00.000Z</td>\n",
       "      <td>231.0</td>\n",
       "      <td>179.0</td>\n",
       "      <td>428.0</td>\n",
       "      <td>2016Q1</td>\n",
       "      <td>Mozilla Staff</td>\n",
       "    </tr>\n",
       "    <tr>\n",
       "      <th>4</th>\n",
       "      <td>2016-04-01T00:00:00.000Z</td>\n",
       "      <td>236.0</td>\n",
       "      <td>187.0</td>\n",
       "      <td>420.0</td>\n",
       "      <td>2016Q2</td>\n",
       "      <td>Mozilla Staff</td>\n",
       "    </tr>\n",
       "    <tr>\n",
       "      <th>5</th>\n",
       "      <td>2016-07-01T00:00:00.000Z</td>\n",
       "      <td>243.0</td>\n",
       "      <td>179.0</td>\n",
       "      <td>392.0</td>\n",
       "      <td>2016Q3</td>\n",
       "      <td>Mozilla Staff</td>\n",
       "    </tr>\n",
       "    <tr>\n",
       "      <th>6</th>\n",
       "      <td>2016-10-01T00:00:00.000Z</td>\n",
       "      <td>219.0</td>\n",
       "      <td>171.0</td>\n",
       "      <td>338.0</td>\n",
       "      <td>2016Q4</td>\n",
       "      <td>Mozilla Staff</td>\n",
       "    </tr>\n",
       "    <tr>\n",
       "      <th>7</th>\n",
       "      <td>2017-01-01T00:00:00.000Z</td>\n",
       "      <td>198.0</td>\n",
       "      <td>173.0</td>\n",
       "      <td>304.0</td>\n",
       "      <td>2017Q1</td>\n",
       "      <td>Mozilla Staff</td>\n",
       "    </tr>\n",
       "    <tr>\n",
       "      <th>8</th>\n",
       "      <td>2017-04-01T00:00:00.000Z</td>\n",
       "      <td>110.0</td>\n",
       "      <td>118.0</td>\n",
       "      <td>185.0</td>\n",
       "      <td>2017Q2</td>\n",
       "      <td>Mozilla Staff</td>\n",
       "    </tr>\n",
       "  </tbody>\n",
       "</table>\n",
       "</div>"
      ],
      "text/plain": [
       "                       Time   Core  Regular  Casual Quarter   Organization\n",
       "0  2015-04-01T00:00:00.000Z  193.0    162.0   214.0  2015Q2  Mozilla Staff\n",
       "1  2015-07-01T00:00:00.000Z  233.0    191.0   353.0  2015Q3  Mozilla Staff\n",
       "2  2015-10-01T00:00:00.000Z  220.0    182.0   416.0  2015Q4  Mozilla Staff\n",
       "3  2016-01-01T00:00:00.000Z  231.0    179.0   428.0  2016Q1  Mozilla Staff\n",
       "4  2016-04-01T00:00:00.000Z  236.0    187.0   420.0  2016Q2  Mozilla Staff\n",
       "5  2016-07-01T00:00:00.000Z  243.0    179.0   392.0  2016Q3  Mozilla Staff\n",
       "6  2016-10-01T00:00:00.000Z  219.0    171.0   338.0  2016Q4  Mozilla Staff\n",
       "7  2017-01-01T00:00:00.000Z  198.0    173.0   304.0  2017Q1  Mozilla Staff\n",
       "8  2017-04-01T00:00:00.000Z  110.0    118.0   185.0  2017Q2  Mozilla Staff"
      ]
     },
     "execution_count": 9,
     "metadata": {},
     "output_type": "execute_result"
    }
   ],
   "source": [
    "s = Search(using=es_conn, index='git')\n",
    "\n",
    "s = s.filter('range', grimoire_creation_date={'gt': 'now/M-2y', 'lt': 'now/M'})\n",
    "\n",
    "\n",
    "s = add_bot_filter(s)\n",
    "s = add_merges_filter(s)\n",
    "\n",
    "### CHANGE THIS TO MOZILLA STAFF ONCE AWS ES IS READY AGAIN ######\n",
    "s = s.filter('terms', author_org_name=['Mozilla Staff'])\n",
    "##################################################################\n",
    "\n",
    "\n",
    "# Unique count of Commits by Project (max 100 projects)\n",
    "s.aggs.bucket('authors', 'terms', field='author_uuid', size=100000)\\\n",
    "    .bucket('time', 'date_histogram', field='grimoire_creation_date', interval='quarter')\\\n",
    "    .metric('commits', 'cardinality', field='hash', precision_threshold=1000)\n",
    "result = s.execute()\n",
    "\n",
    "moz_onion_df = onion_evolution(result, bucket_column='Author', time_column='Time', value_column='Commits',\\\n",
    "      bucket_field='authors', time_field='time', metric_field='commits')\n",
    "\n",
    "# Calculate quarters\n",
    "#onion_df['Quarter'] = pandas.PeriodIndex(pandas.to_datetime(onion_df.Time), freq='Q')\n",
    "moz_onion_df['Quarter'] = moz_onion_df['Time'].map(lambda x: str(pandas.Period(x,'Q')))\n",
    "moz_onion_df['Organization'] = 'Mozilla Staff'\n",
    "\n",
    "moz_onion_df"
   ]
  },
  {
   "cell_type": "code",
   "execution_count": 10,
   "metadata": {
    "collapsed": false
   },
   "outputs": [
    {
     "data": {
      "text/html": [
       "<div>\n",
       "<table border=\"1\" class=\"dataframe\">\n",
       "  <thead>\n",
       "    <tr style=\"text-align: right;\">\n",
       "      <th></th>\n",
       "      <th>Time</th>\n",
       "      <th>Core</th>\n",
       "      <th>Regular</th>\n",
       "      <th>Casual</th>\n",
       "      <th>Quarter</th>\n",
       "      <th>Organization</th>\n",
       "    </tr>\n",
       "  </thead>\n",
       "  <tbody>\n",
       "    <tr>\n",
       "      <th>0</th>\n",
       "      <td>2015-04-01T00:00:00.000Z</td>\n",
       "      <td>142.0</td>\n",
       "      <td>198.0</td>\n",
       "      <td>163.0</td>\n",
       "      <td>2015Q2</td>\n",
       "      <td>Other</td>\n",
       "    </tr>\n",
       "    <tr>\n",
       "      <th>1</th>\n",
       "      <td>2015-07-01T00:00:00.000Z</td>\n",
       "      <td>201.0</td>\n",
       "      <td>376.0</td>\n",
       "      <td>495.0</td>\n",
       "      <td>2015Q3</td>\n",
       "      <td>Other</td>\n",
       "    </tr>\n",
       "    <tr>\n",
       "      <th>2</th>\n",
       "      <td>2015-10-01T00:00:00.000Z</td>\n",
       "      <td>250.0</td>\n",
       "      <td>466.0</td>\n",
       "      <td>670.0</td>\n",
       "      <td>2015Q4</td>\n",
       "      <td>Other</td>\n",
       "    </tr>\n",
       "    <tr>\n",
       "      <th>3</th>\n",
       "      <td>2016-01-01T00:00:00.000Z</td>\n",
       "      <td>280.0</td>\n",
       "      <td>506.0</td>\n",
       "      <td>761.0</td>\n",
       "      <td>2016Q1</td>\n",
       "      <td>Other</td>\n",
       "    </tr>\n",
       "    <tr>\n",
       "      <th>4</th>\n",
       "      <td>2016-04-01T00:00:00.000Z</td>\n",
       "      <td>222.0</td>\n",
       "      <td>456.0</td>\n",
       "      <td>764.0</td>\n",
       "      <td>2016Q2</td>\n",
       "      <td>Other</td>\n",
       "    </tr>\n",
       "    <tr>\n",
       "      <th>5</th>\n",
       "      <td>2016-07-01T00:00:00.000Z</td>\n",
       "      <td>231.0</td>\n",
       "      <td>463.0</td>\n",
       "      <td>742.0</td>\n",
       "      <td>2016Q3</td>\n",
       "      <td>Other</td>\n",
       "    </tr>\n",
       "    <tr>\n",
       "      <th>6</th>\n",
       "      <td>2016-10-01T00:00:00.000Z</td>\n",
       "      <td>141.0</td>\n",
       "      <td>386.0</td>\n",
       "      <td>660.0</td>\n",
       "      <td>2016Q4</td>\n",
       "      <td>Other</td>\n",
       "    </tr>\n",
       "    <tr>\n",
       "      <th>7</th>\n",
       "      <td>2017-01-01T00:00:00.000Z</td>\n",
       "      <td>171.0</td>\n",
       "      <td>400.0</td>\n",
       "      <td>558.0</td>\n",
       "      <td>2017Q1</td>\n",
       "      <td>Other</td>\n",
       "    </tr>\n",
       "    <tr>\n",
       "      <th>8</th>\n",
       "      <td>2017-04-01T00:00:00.000Z</td>\n",
       "      <td>103.0</td>\n",
       "      <td>174.0</td>\n",
       "      <td>167.0</td>\n",
       "      <td>2017Q2</td>\n",
       "      <td>Other</td>\n",
       "    </tr>\n",
       "  </tbody>\n",
       "</table>\n",
       "</div>"
      ],
      "text/plain": [
       "                       Time   Core  Regular  Casual Quarter Organization\n",
       "0  2015-04-01T00:00:00.000Z  142.0    198.0   163.0  2015Q2        Other\n",
       "1  2015-07-01T00:00:00.000Z  201.0    376.0   495.0  2015Q3        Other\n",
       "2  2015-10-01T00:00:00.000Z  250.0    466.0   670.0  2015Q4        Other\n",
       "3  2016-01-01T00:00:00.000Z  280.0    506.0   761.0  2016Q1        Other\n",
       "4  2016-04-01T00:00:00.000Z  222.0    456.0   764.0  2016Q2        Other\n",
       "5  2016-07-01T00:00:00.000Z  231.0    463.0   742.0  2016Q3        Other\n",
       "6  2016-10-01T00:00:00.000Z  141.0    386.0   660.0  2016Q4        Other\n",
       "7  2017-01-01T00:00:00.000Z  171.0    400.0   558.0  2017Q1        Other\n",
       "8  2017-04-01T00:00:00.000Z  103.0    174.0   167.0  2017Q2        Other"
      ]
     },
     "execution_count": 10,
     "metadata": {},
     "output_type": "execute_result"
    }
   ],
   "source": [
    "s = Search(using=es_conn, index='git')\n",
    "\n",
    "s = s.filter('range', grimoire_creation_date={'gt': 'now/M-2y', 'lt': 'now/M'})\n",
    "\n",
    "s = add_bot_filter(s)\n",
    "s = add_merges_filter(s)\n",
    "\n",
    "### CHANGE THIS TO MOZILLA STAFF ONCE AWS ES IS READY AGAIN ######\n",
    "s = s.exclude('terms', author_org_name=['Mozilla Staff'])\n",
    "##################################################################\n",
    "\n",
    "\n",
    "# Unique count of Commits by Project (max 100 projects)\n",
    "s.aggs.bucket('authors', 'terms', field='author_uuid', size=100000)\\\n",
    "    .bucket('time', 'date_histogram', field='grimoire_creation_date', interval='quarter')\\\n",
    "    .metric('commits', 'cardinality', field='hash', precision_threshold=1000)\n",
    "result = s.execute()\n",
    "\n",
    "com_onion_df = onion_evolution(result, bucket_column='Author', time_column='Time', value_column='Commits',\\\n",
    "      bucket_field='authors', time_field='time', metric_field='commits')\n",
    "\n",
    "# Calculate quarters\n",
    "#onion_df['Quarter'] = pandas.PeriodIndex(pandas.to_datetime(onion_df.Time), freq='Q')\n",
    "com_onion_df['Quarter'] = com_onion_df['Time'].map(lambda x: str(pandas.Period(x,'Q')))\n",
    "com_onion_df['Organization'] = 'Other'\n",
    "\n",
    "com_onion_df"
   ]
  },
  {
   "cell_type": "code",
   "execution_count": 11,
   "metadata": {
    "collapsed": false
   },
   "outputs": [
    {
     "data": {
      "text/html": [
       "<script>requirejs.config({paths: { 'plotly': ['https://cdn.plot.ly/plotly-latest.min']},});if(!window.Plotly) {{require(['plotly'],function(plotly) {window.Plotly=plotly;});}}</script>"
      ],
      "text/vnd.plotly.v1+html": [
       "<script>requirejs.config({paths: { 'plotly': ['https://cdn.plot.ly/plotly-latest.min']},});if(!window.Plotly) {{require(['plotly'],function(plotly) {window.Plotly=plotly;});}}</script>"
      ]
     },
     "metadata": {},
     "output_type": "display_data"
    },
    {
     "data": {
      "application/vnd.plotly.v1+json": {
       "data": [
        {
         "name": "Core",
         "type": "bar",
         "x": [
          "2015Q2",
          "2015Q3",
          "2015Q4",
          "2016Q1",
          "2016Q2",
          "2016Q3",
          "2016Q4",
          "2017Q1",
          "2017Q2"
         ],
         "y": [
          193,
          233,
          220,
          231,
          236,
          243,
          219,
          198,
          110
         ]
        },
        {
         "name": "Regular",
         "type": "bar",
         "x": [
          "2015Q2",
          "2015Q3",
          "2015Q4",
          "2016Q1",
          "2016Q2",
          "2016Q3",
          "2016Q4",
          "2017Q1",
          "2017Q2"
         ],
         "y": [
          162,
          191,
          182,
          179,
          187,
          179,
          171,
          173,
          118
         ]
        },
        {
         "name": "Casual",
         "type": "bar",
         "x": [
          "2015Q2",
          "2015Q3",
          "2015Q4",
          "2016Q1",
          "2016Q2",
          "2016Q3",
          "2016Q4",
          "2017Q1",
          "2017Q2"
         ],
         "y": [
          214,
          353,
          416,
          428,
          420,
          392,
          338,
          304,
          185
         ]
        }
       ],
       "layout": {
        "barmode": "group",
        "title": "Staff Contributors"
       }
      },
      "text/html": [
       "<div id=\"875fa41c-342a-47c9-89dc-52135b3113c0\" style=\"height: 525px; width: 100%;\" class=\"plotly-graph-div\"></div><script type=\"text/javascript\">require([\"plotly\"], function(Plotly) { window.PLOTLYENV=window.PLOTLYENV || {};window.PLOTLYENV.BASE_URL=\"https://plot.ly\";Plotly.newPlot(\"875fa41c-342a-47c9-89dc-52135b3113c0\", [{\"type\": \"bar\", \"x\": [\"2015Q2\", \"2015Q3\", \"2015Q4\", \"2016Q1\", \"2016Q2\", \"2016Q3\", \"2016Q4\", \"2017Q1\", \"2017Q2\"], \"name\": \"Core\", \"y\": [193.0, 233.0, 220.0, 231.0, 236.0, 243.0, 219.0, 198.0, 110.0]}, {\"type\": \"bar\", \"x\": [\"2015Q2\", \"2015Q3\", \"2015Q4\", \"2016Q1\", \"2016Q2\", \"2016Q3\", \"2016Q4\", \"2017Q1\", \"2017Q2\"], \"name\": \"Regular\", \"y\": [162.0, 191.0, 182.0, 179.0, 187.0, 179.0, 171.0, 173.0, 118.0]}, {\"type\": \"bar\", \"x\": [\"2015Q2\", \"2015Q3\", \"2015Q4\", \"2016Q1\", \"2016Q2\", \"2016Q3\", \"2016Q4\", \"2017Q1\", \"2017Q2\"], \"name\": \"Casual\", \"y\": [214.0, 353.0, 416.0, 428.0, 420.0, 392.0, 338.0, 304.0, 185.0]}], {\"title\": \"Staff Contributors\", \"barmode\": \"group\"}, {\"showLink\": true, \"linkText\": \"Export to plot.ly\"})});</script>"
      ],
      "text/vnd.plotly.v1+html": [
       "<div id=\"875fa41c-342a-47c9-89dc-52135b3113c0\" style=\"height: 525px; width: 100%;\" class=\"plotly-graph-div\"></div><script type=\"text/javascript\">require([\"plotly\"], function(Plotly) { window.PLOTLYENV=window.PLOTLYENV || {};window.PLOTLYENV.BASE_URL=\"https://plot.ly\";Plotly.newPlot(\"875fa41c-342a-47c9-89dc-52135b3113c0\", [{\"type\": \"bar\", \"x\": [\"2015Q2\", \"2015Q3\", \"2015Q4\", \"2016Q1\", \"2016Q2\", \"2016Q3\", \"2016Q4\", \"2017Q1\", \"2017Q2\"], \"name\": \"Core\", \"y\": [193.0, 233.0, 220.0, 231.0, 236.0, 243.0, 219.0, 198.0, 110.0]}, {\"type\": \"bar\", \"x\": [\"2015Q2\", \"2015Q3\", \"2015Q4\", \"2016Q1\", \"2016Q2\", \"2016Q3\", \"2016Q4\", \"2017Q1\", \"2017Q2\"], \"name\": \"Regular\", \"y\": [162.0, 191.0, 182.0, 179.0, 187.0, 179.0, 171.0, 173.0, 118.0]}, {\"type\": \"bar\", \"x\": [\"2015Q2\", \"2015Q3\", \"2015Q4\", \"2016Q1\", \"2016Q2\", \"2016Q3\", \"2016Q4\", \"2017Q1\", \"2017Q2\"], \"name\": \"Casual\", \"y\": [214.0, 353.0, 416.0, 428.0, 420.0, 392.0, 338.0, 304.0, 185.0]}], {\"title\": \"Staff Contributors\", \"barmode\": \"group\"}, {\"showLink\": true, \"linkText\": \"Export to plot.ly\"})});</script>"
      ]
     },
     "metadata": {},
     "output_type": "display_data"
    },
    {
     "data": {
      "text/html": [
       "<script>requirejs.config({paths: { 'plotly': ['https://cdn.plot.ly/plotly-latest.min']},});if(!window.Plotly) {{require(['plotly'],function(plotly) {window.Plotly=plotly;});}}</script>"
      ],
      "text/vnd.plotly.v1+html": [
       "<script>requirejs.config({paths: { 'plotly': ['https://cdn.plot.ly/plotly-latest.min']},});if(!window.Plotly) {{require(['plotly'],function(plotly) {window.Plotly=plotly;});}}</script>"
      ]
     },
     "metadata": {},
     "output_type": "display_data"
    },
    {
     "data": {
      "application/vnd.plotly.v1+json": {
       "data": [
        {
         "name": "Core",
         "type": "bar",
         "x": [
          "2015Q2",
          "2015Q3",
          "2015Q4",
          "2016Q1",
          "2016Q2",
          "2016Q3",
          "2016Q4",
          "2017Q1",
          "2017Q2"
         ],
         "y": [
          142,
          201,
          250,
          280,
          222,
          231,
          141,
          171,
          103
         ]
        },
        {
         "name": "Regular",
         "type": "bar",
         "x": [
          "2015Q2",
          "2015Q3",
          "2015Q4",
          "2016Q1",
          "2016Q2",
          "2016Q3",
          "2016Q4",
          "2017Q1",
          "2017Q2"
         ],
         "y": [
          198,
          376,
          466,
          506,
          456,
          463,
          386,
          400,
          174
         ]
        },
        {
         "name": "Casual",
         "type": "bar",
         "x": [
          "2015Q2",
          "2015Q3",
          "2015Q4",
          "2016Q1",
          "2016Q2",
          "2016Q3",
          "2016Q4",
          "2017Q1",
          "2017Q2"
         ],
         "y": [
          163,
          495,
          670,
          761,
          764,
          742,
          660,
          558,
          167
         ]
        }
       ],
       "layout": {
        "barmode": "group",
        "title": "Other Contributors"
       }
      },
      "text/html": [
       "<div id=\"f7ef0217-9f63-4787-a0a9-78465d6fc658\" style=\"height: 525px; width: 100%;\" class=\"plotly-graph-div\"></div><script type=\"text/javascript\">require([\"plotly\"], function(Plotly) { window.PLOTLYENV=window.PLOTLYENV || {};window.PLOTLYENV.BASE_URL=\"https://plot.ly\";Plotly.newPlot(\"f7ef0217-9f63-4787-a0a9-78465d6fc658\", [{\"type\": \"bar\", \"x\": [\"2015Q2\", \"2015Q3\", \"2015Q4\", \"2016Q1\", \"2016Q2\", \"2016Q3\", \"2016Q4\", \"2017Q1\", \"2017Q2\"], \"name\": \"Core\", \"y\": [142.0, 201.0, 250.0, 280.0, 222.0, 231.0, 141.0, 171.0, 103.0]}, {\"type\": \"bar\", \"x\": [\"2015Q2\", \"2015Q3\", \"2015Q4\", \"2016Q1\", \"2016Q2\", \"2016Q3\", \"2016Q4\", \"2017Q1\", \"2017Q2\"], \"name\": \"Regular\", \"y\": [198.0, 376.0, 466.0, 506.0, 456.0, 463.0, 386.0, 400.0, 174.0]}, {\"type\": \"bar\", \"x\": [\"2015Q2\", \"2015Q3\", \"2015Q4\", \"2016Q1\", \"2016Q2\", \"2016Q3\", \"2016Q4\", \"2017Q1\", \"2017Q2\"], \"name\": \"Casual\", \"y\": [163.0, 495.0, 670.0, 761.0, 764.0, 742.0, 660.0, 558.0, 167.0]}], {\"title\": \"Other Contributors\", \"barmode\": \"group\"}, {\"showLink\": true, \"linkText\": \"Export to plot.ly\"})});</script>"
      ],
      "text/vnd.plotly.v1+html": [
       "<div id=\"f7ef0217-9f63-4787-a0a9-78465d6fc658\" style=\"height: 525px; width: 100%;\" class=\"plotly-graph-div\"></div><script type=\"text/javascript\">require([\"plotly\"], function(Plotly) { window.PLOTLYENV=window.PLOTLYENV || {};window.PLOTLYENV.BASE_URL=\"https://plot.ly\";Plotly.newPlot(\"f7ef0217-9f63-4787-a0a9-78465d6fc658\", [{\"type\": \"bar\", \"x\": [\"2015Q2\", \"2015Q3\", \"2015Q4\", \"2016Q1\", \"2016Q2\", \"2016Q3\", \"2016Q4\", \"2017Q1\", \"2017Q2\"], \"name\": \"Core\", \"y\": [142.0, 201.0, 250.0, 280.0, 222.0, 231.0, 141.0, 171.0, 103.0]}, {\"type\": \"bar\", \"x\": [\"2015Q2\", \"2015Q3\", \"2015Q4\", \"2016Q1\", \"2016Q2\", \"2016Q3\", \"2016Q4\", \"2017Q1\", \"2017Q2\"], \"name\": \"Regular\", \"y\": [198.0, 376.0, 466.0, 506.0, 456.0, 463.0, 386.0, 400.0, 174.0]}, {\"type\": \"bar\", \"x\": [\"2015Q2\", \"2015Q3\", \"2015Q4\", \"2016Q1\", \"2016Q2\", \"2016Q3\", \"2016Q4\", \"2017Q1\", \"2017Q2\"], \"name\": \"Casual\", \"y\": [163.0, 495.0, 670.0, 761.0, 764.0, 742.0, 660.0, 558.0, 167.0]}], {\"title\": \"Other Contributors\", \"barmode\": \"group\"}, {\"showLink\": true, \"linkText\": \"Export to plot.ly\"})});</script>"
      ]
     },
     "metadata": {},
     "output_type": "display_data"
    }
   ],
   "source": [
    "print_grouped_bar(moz_onion_df, 'Quarter', ['Core', 'Regular', 'Casual'], 'Staff Contributors')\n",
    "print_grouped_bar(com_onion_df, 'Quarter', ['Core', 'Regular', 'Casual'], 'Other Contributors')"
   ]
  },
  {
   "cell_type": "markdown",
   "metadata": {},
   "source": [
    "# Answers:\n",
    "\n",
    "* How often do contributors contribute?\n",
    "* How is the structure of contribution, according to level of activity?\n",
    "* How is the structure of contribution, according to the different data sources?\n",
    "* How are the structures of contribution evolving over time?\n",
    "* How is people flowing in the structure of contribution?\n",
    " \n",
    "\n",
    "## Level of Activity\n",
    "\n",
    "* How often do contributors contribute?\n",
    "* How is the structure of contribution, according to level of activity?\n",
    "* How are the structures of contribution evolving over time?\n",
    "\n",
    "### Initial considerations\n",
    "\n",
    "In order to understand what follows, there are some definitions it is worth to mention. Data provided is based on  number of contributors in three groups:\n",
    "* **Core**: minimum number of authors who made 80% of contributions.\n",
    "* **Regular**: minimum number of authors who made between 80% and 95% of contributions.\n",
    "* **Casual**: the rest of contributors, who made the last 5% of contributions.\n",
    "\n",
    "**Bars** in plots correspond to number of people in a given group.\n",
    "**Colors** correspond to groups.\n",
    "**Time** is noted as YYYYQQ. Quarters are defined as Q1 (from Jan. to Mar.), Q2 (from Apr. to Jun.), Q3 (from Jul. to Sep.) and Q4 (from Oct. to Dec.).\n",
    "\n",
    "**NOTE: as we are using quarters, we should ignore first and last ones as they show incomplete results due to relative dates are being used.**\n",
    "\n",
    "#### Contribution Pattern Structure Analysis\n",
    "(How often do contributors contribute)\n",
    "\n",
    "(How is the structure of contribution, according to level of activity)\n",
    "\n",
    "First question has to do with the definition of patterns we estated above. Looking at [Table 1][1] we find that casual contributors are between two and four times more than core contributors. Regular contributors are quite close to core ones. Number of people being core is reasonable from the point of view they are those who push the community.\n",
    "\n",
    "#### Evolution of Contribution Patterns through Time\n",
    "(How are the structures of contribution evolving over time?)\n",
    "(How is people flowing in the structure of contribution?)\n",
    "\n",
    "The most interesting and clear issue we find when looking at [Figure 1][2] is related with casual developers. Numbers show an increasing number of casual contributors until first quarter 2015, but then numbers decrease consistently quarter by quarter to the present. In fact if we focus on numbers instead of bars (see [Table 1][1]) we found a slightly similar pattern for core developers if we take into account we are looking at numbers two or four times smaller.\n",
    "\n",
    "**This could be due to a decrease in general number of contributors as it seems to be the case if we look at [the evolution of contributors in Git plot][3]**\n",
    "\n",
    "[1]: #Table-1.-Contribution-patterns-evolution.-General-view\n",
    "[2]: #Figure-1.-Contribution-patterns-evolution.-General-view\n",
    "[3]: Understanding%20Contributors.ipynb#Number-of-contributors-by-organization-over-time"
   ]
  },
  {
   "cell_type": "code",
   "execution_count": 13,
   "metadata": {
    "collapsed": false
   },
   "outputs": [
    {
     "data": {
      "text/html": [
       "<div>\n",
       "<table border=\"1\" class=\"dataframe\">\n",
       "  <thead>\n",
       "    <tr style=\"text-align: right;\">\n",
       "      <th></th>\n",
       "      <th>Time</th>\n",
       "      <th>Core</th>\n",
       "      <th>Regular</th>\n",
       "      <th>Casual</th>\n",
       "      <th>Quarter</th>\n",
       "    </tr>\n",
       "  </thead>\n",
       "  <tbody>\n",
       "    <tr>\n",
       "      <th>0</th>\n",
       "      <td>2015-04-01T00:00:00.000Z</td>\n",
       "      <td>280.0</td>\n",
       "      <td>307.0</td>\n",
       "      <td>485.0</td>\n",
       "      <td>2015Q2</td>\n",
       "    </tr>\n",
       "    <tr>\n",
       "      <th>1</th>\n",
       "      <td>2015-07-01T00:00:00.000Z</td>\n",
       "      <td>340.0</td>\n",
       "      <td>388.0</td>\n",
       "      <td>1121.0</td>\n",
       "      <td>2015Q3</td>\n",
       "    </tr>\n",
       "    <tr>\n",
       "      <th>2</th>\n",
       "      <td>2015-10-01T00:00:00.000Z</td>\n",
       "      <td>341.0</td>\n",
       "      <td>460.0</td>\n",
       "      <td>1403.0</td>\n",
       "      <td>2015Q4</td>\n",
       "    </tr>\n",
       "    <tr>\n",
       "      <th>3</th>\n",
       "      <td>2016-01-01T00:00:00.000Z</td>\n",
       "      <td>364.0</td>\n",
       "      <td>496.0</td>\n",
       "      <td>1525.0</td>\n",
       "      <td>2016Q1</td>\n",
       "    </tr>\n",
       "    <tr>\n",
       "      <th>4</th>\n",
       "      <td>2016-04-01T00:00:00.000Z</td>\n",
       "      <td>364.0</td>\n",
       "      <td>445.0</td>\n",
       "      <td>1476.0</td>\n",
       "      <td>2016Q2</td>\n",
       "    </tr>\n",
       "    <tr>\n",
       "      <th>5</th>\n",
       "      <td>2016-07-01T00:00:00.000Z</td>\n",
       "      <td>379.0</td>\n",
       "      <td>446.0</td>\n",
       "      <td>1425.0</td>\n",
       "      <td>2016Q3</td>\n",
       "    </tr>\n",
       "    <tr>\n",
       "      <th>6</th>\n",
       "      <td>2016-10-01T00:00:00.000Z</td>\n",
       "      <td>316.0</td>\n",
       "      <td>379.0</td>\n",
       "      <td>1220.0</td>\n",
       "      <td>2016Q4</td>\n",
       "    </tr>\n",
       "    <tr>\n",
       "      <th>7</th>\n",
       "      <td>2017-01-01T00:00:00.000Z</td>\n",
       "      <td>311.0</td>\n",
       "      <td>414.0</td>\n",
       "      <td>1079.0</td>\n",
       "      <td>2017Q1</td>\n",
       "    </tr>\n",
       "    <tr>\n",
       "      <th>8</th>\n",
       "      <td>2017-04-01T00:00:00.000Z</td>\n",
       "      <td>194.0</td>\n",
       "      <td>269.0</td>\n",
       "      <td>394.0</td>\n",
       "      <td>2017Q2</td>\n",
       "    </tr>\n",
       "  </tbody>\n",
       "</table>\n",
       "</div>"
      ],
      "text/plain": [
       "                       Time   Core  Regular  Casual Quarter\n",
       "0  2015-04-01T00:00:00.000Z  280.0    307.0   485.0  2015Q2\n",
       "1  2015-07-01T00:00:00.000Z  340.0    388.0  1121.0  2015Q3\n",
       "2  2015-10-01T00:00:00.000Z  341.0    460.0  1403.0  2015Q4\n",
       "3  2016-01-01T00:00:00.000Z  364.0    496.0  1525.0  2016Q1\n",
       "4  2016-04-01T00:00:00.000Z  364.0    445.0  1476.0  2016Q2\n",
       "5  2016-07-01T00:00:00.000Z  379.0    446.0  1425.0  2016Q3\n",
       "6  2016-10-01T00:00:00.000Z  316.0    379.0  1220.0  2016Q4\n",
       "7  2017-01-01T00:00:00.000Z  311.0    414.0  1079.0  2017Q1\n",
       "8  2017-04-01T00:00:00.000Z  194.0    269.0   394.0  2017Q2"
      ]
     },
     "execution_count": 13,
     "metadata": {},
     "output_type": "execute_result"
    }
   ],
   "source": [
    "onion_df"
   ]
  },
  {
   "cell_type": "markdown",
   "metadata": {},
   "source": [
    "##### Table 1. Contribution patterns evolution. General view"
   ]
  },
  {
   "cell_type": "code",
   "execution_count": 12,
   "metadata": {
    "collapsed": false
   },
   "outputs": [
    {
     "data": {
      "text/html": [
       "<script>requirejs.config({paths: { 'plotly': ['https://cdn.plot.ly/plotly-latest.min']},});if(!window.Plotly) {{require(['plotly'],function(plotly) {window.Plotly=plotly;});}}</script>"
      ],
      "text/vnd.plotly.v1+html": [
       "<script>requirejs.config({paths: { 'plotly': ['https://cdn.plot.ly/plotly-latest.min']},});if(!window.Plotly) {{require(['plotly'],function(plotly) {window.Plotly=plotly;});}}</script>"
      ]
     },
     "metadata": {},
     "output_type": "display_data"
    },
    {
     "data": {
      "application/vnd.plotly.v1+json": {
       "data": [
        {
         "name": "Core",
         "type": "bar",
         "x": [
          "2015Q2",
          "2015Q3",
          "2015Q4",
          "2016Q1",
          "2016Q2",
          "2016Q3",
          "2016Q4",
          "2017Q1",
          "2017Q2"
         ],
         "y": [
          280,
          340,
          341,
          364,
          364,
          379,
          316,
          311,
          194
         ]
        },
        {
         "name": "Regular",
         "type": "bar",
         "x": [
          "2015Q2",
          "2015Q3",
          "2015Q4",
          "2016Q1",
          "2016Q2",
          "2016Q3",
          "2016Q4",
          "2017Q1",
          "2017Q2"
         ],
         "y": [
          307,
          388,
          460,
          496,
          445,
          446,
          379,
          414,
          269
         ]
        },
        {
         "name": "Casual",
         "type": "bar",
         "x": [
          "2015Q2",
          "2015Q3",
          "2015Q4",
          "2016Q1",
          "2016Q2",
          "2016Q3",
          "2016Q4",
          "2017Q1",
          "2017Q2"
         ],
         "y": [
          485,
          1121,
          1403,
          1525,
          1476,
          1425,
          1220,
          1079,
          394
         ]
        }
       ],
       "layout": {
        "barmode": "group",
        "title": "Global Contribution Groups"
       }
      },
      "text/html": [
       "<div id=\"78f4e264-5721-4fa6-bfae-81476decb520\" style=\"height: 525px; width: 100%;\" class=\"plotly-graph-div\"></div><script type=\"text/javascript\">require([\"plotly\"], function(Plotly) { window.PLOTLYENV=window.PLOTLYENV || {};window.PLOTLYENV.BASE_URL=\"https://plot.ly\";Plotly.newPlot(\"78f4e264-5721-4fa6-bfae-81476decb520\", [{\"type\": \"bar\", \"x\": [\"2015Q2\", \"2015Q3\", \"2015Q4\", \"2016Q1\", \"2016Q2\", \"2016Q3\", \"2016Q4\", \"2017Q1\", \"2017Q2\"], \"name\": \"Core\", \"y\": [280.0, 340.0, 341.0, 364.0, 364.0, 379.0, 316.0, 311.0, 194.0]}, {\"type\": \"bar\", \"x\": [\"2015Q2\", \"2015Q3\", \"2015Q4\", \"2016Q1\", \"2016Q2\", \"2016Q3\", \"2016Q4\", \"2017Q1\", \"2017Q2\"], \"name\": \"Regular\", \"y\": [307.0, 388.0, 460.0, 496.0, 445.0, 446.0, 379.0, 414.0, 269.0]}, {\"type\": \"bar\", \"x\": [\"2015Q2\", \"2015Q3\", \"2015Q4\", \"2016Q1\", \"2016Q2\", \"2016Q3\", \"2016Q4\", \"2017Q1\", \"2017Q2\"], \"name\": \"Casual\", \"y\": [485.0, 1121.0, 1403.0, 1525.0, 1476.0, 1425.0, 1220.0, 1079.0, 394.0]}], {\"title\": \"Global Contribution Groups\", \"barmode\": \"group\"}, {\"showLink\": true, \"linkText\": \"Export to plot.ly\"})});</script>"
      ],
      "text/vnd.plotly.v1+html": [
       "<div id=\"78f4e264-5721-4fa6-bfae-81476decb520\" style=\"height: 525px; width: 100%;\" class=\"plotly-graph-div\"></div><script type=\"text/javascript\">require([\"plotly\"], function(Plotly) { window.PLOTLYENV=window.PLOTLYENV || {};window.PLOTLYENV.BASE_URL=\"https://plot.ly\";Plotly.newPlot(\"78f4e264-5721-4fa6-bfae-81476decb520\", [{\"type\": \"bar\", \"x\": [\"2015Q2\", \"2015Q3\", \"2015Q4\", \"2016Q1\", \"2016Q2\", \"2016Q3\", \"2016Q4\", \"2017Q1\", \"2017Q2\"], \"name\": \"Core\", \"y\": [280.0, 340.0, 341.0, 364.0, 364.0, 379.0, 316.0, 311.0, 194.0]}, {\"type\": \"bar\", \"x\": [\"2015Q2\", \"2015Q3\", \"2015Q4\", \"2016Q1\", \"2016Q2\", \"2016Q3\", \"2016Q4\", \"2017Q1\", \"2017Q2\"], \"name\": \"Regular\", \"y\": [307.0, 388.0, 460.0, 496.0, 445.0, 446.0, 379.0, 414.0, 269.0]}, {\"type\": \"bar\", \"x\": [\"2015Q2\", \"2015Q3\", \"2015Q4\", \"2016Q1\", \"2016Q2\", \"2016Q3\", \"2016Q4\", \"2017Q1\", \"2017Q2\"], \"name\": \"Casual\", \"y\": [485.0, 1121.0, 1403.0, 1525.0, 1476.0, 1425.0, 1220.0, 1079.0, 394.0]}], {\"title\": \"Global Contribution Groups\", \"barmode\": \"group\"}, {\"showLink\": true, \"linkText\": \"Export to plot.ly\"})});</script>"
      ]
     },
     "metadata": {},
     "output_type": "display_data"
    }
   ],
   "source": [
    "print_grouped_bar(onion_df, 'Quarter', ['Core', 'Regular', 'Casual'], 'Global Contribution Groups')"
   ]
  },
  {
   "cell_type": "markdown",
   "metadata": {},
   "source": [
    "##### Figure 1. Contribution patterns evolution. General view"
   ]
  },
  {
   "cell_type": "markdown",
   "metadata": {},
   "source": [
    "### Mozilla Staff and Community as Different Organizations\n",
    "\n",
    "If we divide contributions and analyze contribution patterns we can talk about how each of them are structured regardless global patterns (**TODO: analyze previous plots dividing groups by organization to get an insight of global patterns composition**).\n",
    "\n",
    "Both of them (see [Figure 2][1] and [3][2]) follow the same trend we mention for the general view above. As one could expect, Mozilla Staff shows smaller differences among groups. The group of people sending most of contributions is small compared to the other two groups when looking at community only.\n",
    "\n",
    "Comparing both, number of core developers is similar in both populations, so we can say that community has much more people doing small contributions than Mozilla Staff.\n",
    "\n",
    "Besides, when people belong to Mozilla Staff, that is, they are hired, there are more people involved in most of contributions. This sounds reasonable because they are paid to use their time contributing. When they are not, the proportion compared to other groups is smaller, moving towards bigger groups as engagement decreases.\n",
    "\n",
    "[1]: #Figure-2.-Contribution-patterns-evolution.-Mozilla-Staff-isolated-view\n",
    "[2]: #Figure-3.-Contribution-patterns-evolution.-Community-isolated-view"
   ]
  },
  {
   "cell_type": "code",
   "execution_count": 14,
   "metadata": {
    "collapsed": false
   },
   "outputs": [
    {
     "data": {
      "text/html": [
       "<script>requirejs.config({paths: { 'plotly': ['https://cdn.plot.ly/plotly-latest.min']},});if(!window.Plotly) {{require(['plotly'],function(plotly) {window.Plotly=plotly;});}}</script>"
      ],
      "text/vnd.plotly.v1+html": [
       "<script>requirejs.config({paths: { 'plotly': ['https://cdn.plot.ly/plotly-latest.min']},});if(!window.Plotly) {{require(['plotly'],function(plotly) {window.Plotly=plotly;});}}</script>"
      ]
     },
     "metadata": {},
     "output_type": "display_data"
    },
    {
     "data": {
      "application/vnd.plotly.v1+json": {
       "data": [
        {
         "name": "Core",
         "type": "bar",
         "x": [
          "2015Q2",
          "2015Q3",
          "2015Q4",
          "2016Q1",
          "2016Q2",
          "2016Q3",
          "2016Q4",
          "2017Q1",
          "2017Q2"
         ],
         "y": [
          193,
          233,
          220,
          231,
          236,
          243,
          219,
          198,
          110
         ]
        },
        {
         "name": "Regular",
         "type": "bar",
         "x": [
          "2015Q2",
          "2015Q3",
          "2015Q4",
          "2016Q1",
          "2016Q2",
          "2016Q3",
          "2016Q4",
          "2017Q1",
          "2017Q2"
         ],
         "y": [
          162,
          191,
          182,
          179,
          187,
          179,
          171,
          173,
          118
         ]
        },
        {
         "name": "Casual",
         "type": "bar",
         "x": [
          "2015Q2",
          "2015Q3",
          "2015Q4",
          "2016Q1",
          "2016Q2",
          "2016Q3",
          "2016Q4",
          "2017Q1",
          "2017Q2"
         ],
         "y": [
          214,
          353,
          416,
          428,
          420,
          392,
          338,
          304,
          185
         ]
        }
       ],
       "layout": {
        "barmode": "group",
        "title": "Staff Contributors"
       }
      },
      "text/html": [
       "<div id=\"ebb38fa9-01d8-45a2-88d8-3892558f5435\" style=\"height: 525px; width: 100%;\" class=\"plotly-graph-div\"></div><script type=\"text/javascript\">require([\"plotly\"], function(Plotly) { window.PLOTLYENV=window.PLOTLYENV || {};window.PLOTLYENV.BASE_URL=\"https://plot.ly\";Plotly.newPlot(\"ebb38fa9-01d8-45a2-88d8-3892558f5435\", [{\"type\": \"bar\", \"x\": [\"2015Q2\", \"2015Q3\", \"2015Q4\", \"2016Q1\", \"2016Q2\", \"2016Q3\", \"2016Q4\", \"2017Q1\", \"2017Q2\"], \"name\": \"Core\", \"y\": [193.0, 233.0, 220.0, 231.0, 236.0, 243.0, 219.0, 198.0, 110.0]}, {\"type\": \"bar\", \"x\": [\"2015Q2\", \"2015Q3\", \"2015Q4\", \"2016Q1\", \"2016Q2\", \"2016Q3\", \"2016Q4\", \"2017Q1\", \"2017Q2\"], \"name\": \"Regular\", \"y\": [162.0, 191.0, 182.0, 179.0, 187.0, 179.0, 171.0, 173.0, 118.0]}, {\"type\": \"bar\", \"x\": [\"2015Q2\", \"2015Q3\", \"2015Q4\", \"2016Q1\", \"2016Q2\", \"2016Q3\", \"2016Q4\", \"2017Q1\", \"2017Q2\"], \"name\": \"Casual\", \"y\": [214.0, 353.0, 416.0, 428.0, 420.0, 392.0, 338.0, 304.0, 185.0]}], {\"title\": \"Staff Contributors\", \"barmode\": \"group\"}, {\"showLink\": true, \"linkText\": \"Export to plot.ly\"})});</script>"
      ],
      "text/vnd.plotly.v1+html": [
       "<div id=\"ebb38fa9-01d8-45a2-88d8-3892558f5435\" style=\"height: 525px; width: 100%;\" class=\"plotly-graph-div\"></div><script type=\"text/javascript\">require([\"plotly\"], function(Plotly) { window.PLOTLYENV=window.PLOTLYENV || {};window.PLOTLYENV.BASE_URL=\"https://plot.ly\";Plotly.newPlot(\"ebb38fa9-01d8-45a2-88d8-3892558f5435\", [{\"type\": \"bar\", \"x\": [\"2015Q2\", \"2015Q3\", \"2015Q4\", \"2016Q1\", \"2016Q2\", \"2016Q3\", \"2016Q4\", \"2017Q1\", \"2017Q2\"], \"name\": \"Core\", \"y\": [193.0, 233.0, 220.0, 231.0, 236.0, 243.0, 219.0, 198.0, 110.0]}, {\"type\": \"bar\", \"x\": [\"2015Q2\", \"2015Q3\", \"2015Q4\", \"2016Q1\", \"2016Q2\", \"2016Q3\", \"2016Q4\", \"2017Q1\", \"2017Q2\"], \"name\": \"Regular\", \"y\": [162.0, 191.0, 182.0, 179.0, 187.0, 179.0, 171.0, 173.0, 118.0]}, {\"type\": \"bar\", \"x\": [\"2015Q2\", \"2015Q3\", \"2015Q4\", \"2016Q1\", \"2016Q2\", \"2016Q3\", \"2016Q4\", \"2017Q1\", \"2017Q2\"], \"name\": \"Casual\", \"y\": [214.0, 353.0, 416.0, 428.0, 420.0, 392.0, 338.0, 304.0, 185.0]}], {\"title\": \"Staff Contributors\", \"barmode\": \"group\"}, {\"showLink\": true, \"linkText\": \"Export to plot.ly\"})});</script>"
      ]
     },
     "metadata": {},
     "output_type": "display_data"
    }
   ],
   "source": [
    "print_grouped_bar(moz_onion_df, 'Quarter', ['Core', 'Regular', 'Casual'], 'Staff Contributors')"
   ]
  },
  {
   "cell_type": "markdown",
   "metadata": {},
   "source": [
    "##### Figure 2. Contribution patterns evolution. Mozilla Staff isolated view"
   ]
  },
  {
   "cell_type": "code",
   "execution_count": 15,
   "metadata": {
    "collapsed": false
   },
   "outputs": [
    {
     "data": {
      "text/html": [
       "<script>requirejs.config({paths: { 'plotly': ['https://cdn.plot.ly/plotly-latest.min']},});if(!window.Plotly) {{require(['plotly'],function(plotly) {window.Plotly=plotly;});}}</script>"
      ],
      "text/vnd.plotly.v1+html": [
       "<script>requirejs.config({paths: { 'plotly': ['https://cdn.plot.ly/plotly-latest.min']},});if(!window.Plotly) {{require(['plotly'],function(plotly) {window.Plotly=plotly;});}}</script>"
      ]
     },
     "metadata": {},
     "output_type": "display_data"
    },
    {
     "data": {
      "application/vnd.plotly.v1+json": {
       "data": [
        {
         "name": "Core",
         "type": "bar",
         "x": [
          "2015Q2",
          "2015Q3",
          "2015Q4",
          "2016Q1",
          "2016Q2",
          "2016Q3",
          "2016Q4",
          "2017Q1",
          "2017Q2"
         ],
         "y": [
          142,
          201,
          250,
          280,
          222,
          231,
          141,
          171,
          103
         ]
        },
        {
         "name": "Regular",
         "type": "bar",
         "x": [
          "2015Q2",
          "2015Q3",
          "2015Q4",
          "2016Q1",
          "2016Q2",
          "2016Q3",
          "2016Q4",
          "2017Q1",
          "2017Q2"
         ],
         "y": [
          198,
          376,
          466,
          506,
          456,
          463,
          386,
          400,
          174
         ]
        },
        {
         "name": "Casual",
         "type": "bar",
         "x": [
          "2015Q2",
          "2015Q3",
          "2015Q4",
          "2016Q1",
          "2016Q2",
          "2016Q3",
          "2016Q4",
          "2017Q1",
          "2017Q2"
         ],
         "y": [
          163,
          495,
          670,
          761,
          764,
          742,
          660,
          558,
          167
         ]
        }
       ],
       "layout": {
        "barmode": "group",
        "title": "Other Contributors"
       }
      },
      "text/html": [
       "<div id=\"72ca9bb3-d9a7-4f77-9b2d-51aef0666465\" style=\"height: 525px; width: 100%;\" class=\"plotly-graph-div\"></div><script type=\"text/javascript\">require([\"plotly\"], function(Plotly) { window.PLOTLYENV=window.PLOTLYENV || {};window.PLOTLYENV.BASE_URL=\"https://plot.ly\";Plotly.newPlot(\"72ca9bb3-d9a7-4f77-9b2d-51aef0666465\", [{\"type\": \"bar\", \"x\": [\"2015Q2\", \"2015Q3\", \"2015Q4\", \"2016Q1\", \"2016Q2\", \"2016Q3\", \"2016Q4\", \"2017Q1\", \"2017Q2\"], \"name\": \"Core\", \"y\": [142.0, 201.0, 250.0, 280.0, 222.0, 231.0, 141.0, 171.0, 103.0]}, {\"type\": \"bar\", \"x\": [\"2015Q2\", \"2015Q3\", \"2015Q4\", \"2016Q1\", \"2016Q2\", \"2016Q3\", \"2016Q4\", \"2017Q1\", \"2017Q2\"], \"name\": \"Regular\", \"y\": [198.0, 376.0, 466.0, 506.0, 456.0, 463.0, 386.0, 400.0, 174.0]}, {\"type\": \"bar\", \"x\": [\"2015Q2\", \"2015Q3\", \"2015Q4\", \"2016Q1\", \"2016Q2\", \"2016Q3\", \"2016Q4\", \"2017Q1\", \"2017Q2\"], \"name\": \"Casual\", \"y\": [163.0, 495.0, 670.0, 761.0, 764.0, 742.0, 660.0, 558.0, 167.0]}], {\"title\": \"Other Contributors\", \"barmode\": \"group\"}, {\"showLink\": true, \"linkText\": \"Export to plot.ly\"})});</script>"
      ],
      "text/vnd.plotly.v1+html": [
       "<div id=\"72ca9bb3-d9a7-4f77-9b2d-51aef0666465\" style=\"height: 525px; width: 100%;\" class=\"plotly-graph-div\"></div><script type=\"text/javascript\">require([\"plotly\"], function(Plotly) { window.PLOTLYENV=window.PLOTLYENV || {};window.PLOTLYENV.BASE_URL=\"https://plot.ly\";Plotly.newPlot(\"72ca9bb3-d9a7-4f77-9b2d-51aef0666465\", [{\"type\": \"bar\", \"x\": [\"2015Q2\", \"2015Q3\", \"2015Q4\", \"2016Q1\", \"2016Q2\", \"2016Q3\", \"2016Q4\", \"2017Q1\", \"2017Q2\"], \"name\": \"Core\", \"y\": [142.0, 201.0, 250.0, 280.0, 222.0, 231.0, 141.0, 171.0, 103.0]}, {\"type\": \"bar\", \"x\": [\"2015Q2\", \"2015Q3\", \"2015Q4\", \"2016Q1\", \"2016Q2\", \"2016Q3\", \"2016Q4\", \"2017Q1\", \"2017Q2\"], \"name\": \"Regular\", \"y\": [198.0, 376.0, 466.0, 506.0, 456.0, 463.0, 386.0, 400.0, 174.0]}, {\"type\": \"bar\", \"x\": [\"2015Q2\", \"2015Q3\", \"2015Q4\", \"2016Q1\", \"2016Q2\", \"2016Q3\", \"2016Q4\", \"2017Q1\", \"2017Q2\"], \"name\": \"Casual\", \"y\": [163.0, 495.0, 670.0, 761.0, 764.0, 742.0, 660.0, 558.0, 167.0]}], {\"title\": \"Other Contributors\", \"barmode\": \"group\"}, {\"showLink\": true, \"linkText\": \"Export to plot.ly\"})});</script>"
      ]
     },
     "metadata": {},
     "output_type": "display_data"
    }
   ],
   "source": [
    "print_grouped_bar(com_onion_df, 'Quarter', ['Core', 'Regular', 'Casual'], 'Other Contributors')"
   ]
  },
  {
   "cell_type": "markdown",
   "metadata": {},
   "source": [
    "##### Figure 3. Contribution patterns evolution. Community isolated view"
   ]
  }
 ],
 "metadata": {
  "kernelspec": {
   "display_name": "Python 3",
   "language": "python",
   "name": "python3"
  },
  "language_info": {
   "codemirror_mode": {
    "name": "ipython",
    "version": 3
   },
   "file_extension": ".py",
   "mimetype": "text/x-python",
   "name": "python",
   "nbconvert_exporter": "python",
   "pygments_lexer": "ipython3",
   "version": "3.5.2+"
  }
 },
 "nbformat": 4,
 "nbformat_minor": 2
}
