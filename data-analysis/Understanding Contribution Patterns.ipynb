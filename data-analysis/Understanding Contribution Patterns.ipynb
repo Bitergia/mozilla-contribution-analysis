{
 "cells": [
  {
   "cell_type": "markdown",
   "metadata": {},
   "source": [
    "## Goal: understanding contribution patterns\n",
    "\n",
    "Analyzing groups of contributors, according to their activity patterns, and their evolution over time, helps to understand the structure of the community. These groups will be defined according to how much active they are (from casual to core contributors), and which kinds of activity they have (for example, producing code, reviewing code, submitting issues, contributing in discussions, etc.). Whenever convenient, the characterization will be combined with the contributor groups identified in the first goal.\n",
    "\n",
    "This goal is refined in the following questions:\n",
    "\n",
    "**Questions**:\n",
    "\n",
    " * How often do contributors contribute?\n",
    " * How is the structure of contribution, according to level of activity?\n",
    " * How is the structure of contribution, according to the different data sources?\n",
    " * How are the structures of contribution evolving over time?\n",
    " * How is people flowing in the structure of contribution?\n",
    "\n",
    "These questions can be answered with the following metrics:\n",
    "\n",
    "**Metrics**:\n",
    "\n",
    "(Still to be refined)\n",
    "\n",
    " * Groups of contributors, by level of activity (core, regular, casual)\n",
    " * Groups of contributors, by kind of activity (committing, opening issues, merging pull requests, etc.)\n",
    " * Groups of contributors, by kind of activity (specialists, spread, etc.)\n",
    " * Activity metrics for each group\n",
    " * Absolute number of contributors moving from one group to another\n",
    " * Fraction of contributors moving from a group to another\n",
    " \n",
    "Some of these metrics will be computed for the speficied contributor groups, over time."
   ]
  },
  {
   "cell_type": "markdown",
   "metadata": {},
   "source": [
    "# Metric Calculations\n",
    "First we need to load a connection against the proper ES instance. We use an external module to load credentials from a file that will not be shared. If you want to run this, please use your own credentials, just put them in a file named '.settings' (in the same directory as this notebook) following the example file 'settings.sample'.\n",
    "\n",
    "This section includes common code to manage and plot data. Queries will be available at the corresponding section.\n",
    "\n",
    "**TODO**: Add bot and merges filtering."
   ]
  },
  {
   "cell_type": "code",
   "execution_count": 1,
   "metadata": {
    "collapsed": true
   },
   "outputs": [],
   "source": [
    "import pandas\n",
    "\n",
    "import plotly as plotly\n",
    "import plotly.graph_objs as go\n",
    "\n",
    "from util import ESConnection\n",
    "from elasticsearch_dsl import Search\n",
    "\n",
    "es_conn = ESConnection()"
   ]
  },
  {
   "cell_type": "code",
   "execution_count": 2,
   "metadata": {
    "collapsed": true
   },
   "outputs": [],
   "source": [
    "def create_search(source):\n",
    "    s = Search(using=es_conn, index=source)\n",
    "    # TODO: Add bot and merges filtering.\n",
    "    #s = s.filter('range', grimoire_creation_date={'gt': 'now/M-2y', 'lt': 'now/M'})\n",
    "    s.params(timeout=30)\n",
    "    return s"
   ]
  },
  {
   "cell_type": "code",
   "execution_count": 3,
   "metadata": {
    "collapsed": true
   },
   "outputs": [],
   "source": [
    "def stack_by(result, group_column, time_column, value_column, group_field, time_field, value_field):\n",
    "    \"\"\"Creates a dataframe based on group and time values\n",
    "    \"\"\"\n",
    "    df = pandas.DataFrame(columns=[group_column, time_column, value_column])\n",
    "\n",
    "    for b in result.to_dict()['aggregations'][group_field]['buckets']:\n",
    "        for i in b[time_field]['buckets']:\n",
    "            df.loc[len(df)] = [b['key'], i['key_as_string'], i[value_field]['value']]\n",
    "    \n",
    "    return df"
   ]
  },
  {
   "cell_type": "code",
   "execution_count": 4,
   "metadata": {
    "collapsed": true
   },
   "outputs": [],
   "source": [
    "def onion(df, bucket_column, time_column, value_column):\n",
    "    \n",
    "    total = df[value_column].sum()\n",
    "    \n",
    "    percent_80 = total * 0.8\n",
    "    percent_95 = total * 0.95\n",
    "    core = 0\n",
    "    core_sum = 0\n",
    "    regular = 0\n",
    "    regular_sum = 0\n",
    "    casual = 0\n",
    "\n",
    "    for row in df.iterrows():\n",
    "        value = row[1][value_column]\n",
    "        \n",
    "        if (percent_80 > core_sum):\n",
    "            core = core + 1\n",
    "            core_sum = core_sum + value\n",
    "            regular_sum = regular_sum + value\n",
    "        elif percent_95 > regular_sum:\n",
    "            regular = regular + 1\n",
    "            regular_sum = regular_sum + value\n",
    "        else:\n",
    "            casual = casual + 1\n",
    "\n",
    "    return {\"core\":core,\n",
    "            \"regular\":regular,\n",
    "            \"casual\":casual} \n",
    "\n",
    "def onion_evolution(result, bucket_column, time_column, value_column, bucket_field, time_field, metric_field):\n",
    "    \n",
    "    df = stack_by(result, bucket_column, time_column, value_column, bucket_field, time_field, metric_field)\n",
    "    \n",
    "    onion_df = pandas.DataFrame(columns=['Time', 'Core', 'Regular', 'Casual'])\n",
    "    \n",
    "    for time in df[time_column].unique():\n",
    "        slice_df = df.loc[df['Time'] == time]\n",
    "        slice_df = slice_df.sort_values(by=value_column, ascending=False)\n",
    "        onion_result = onion(slice_df, bucket_column=bucket_column, time_column=time_column,\\\n",
    "                             value_column=value_column)\n",
    "        #print(time, '->', len(slice_df), slice_df.columns.values.tolist(), '->', onion_result)\n",
    "        onion_df.loc[len(onion_df)] = [time, onion_result['core'], onion_result['regular'], onion_result['casual']]\n",
    "        \n",
    "    \n",
    "    #print(len(df))\n",
    "    return onion_df"
   ]
  },
  {
   "cell_type": "code",
   "execution_count": 5,
   "metadata": {
    "collapsed": false
   },
   "outputs": [],
   "source": [
    "def print_grouped_bar(df, x_column, value_columns, title):\n",
    "    \"\"\"\n",
    "    \"\"\"\n",
    "    plotly.offline.init_notebook_mode(connected=True)\n",
    "\n",
    "    bars = []\n",
    "    x_values = df[x_column].tolist()\n",
    "    for value_column in value_columns:\n",
    "        bars.append(go.Bar(\n",
    "            x=x_values,\n",
    "            y=df[value_column].tolist(),\n",
    "            name=value_column))\n",
    "\n",
    "    layout = go.Layout(\n",
    "        barmode='group',\n",
    "        title= title\n",
    "    )\n",
    "\n",
    "    fig = go.Figure(data=bars, layout=layout)\n",
    "    plotly.offline.iplot(fig, filename='grouped-bar')"
   ]
  },
  {
   "cell_type": "markdown",
   "metadata": {},
   "source": [
    "# Metrics\n",
    "\n",
    "## Groups of contributors, by level of activity: core, regular, casual\n",
    "\n",
    "Following table and chart shows number of contributors in three groups:\n",
    "* Core: minimum number of authors who made 80% of contributions.\n",
    "* Regular: minimum number of authors who made between 80% and 95% of contributions.\n",
    "* Casual: the rest of contributors, who made the last 5% of contributions.\n",
    "\n",
    "Looking at their evolution through time we can see the structure of a community at some point and its evolution."
   ]
  },
  {
   "cell_type": "code",
   "execution_count": 6,
   "metadata": {
    "collapsed": false
   },
   "outputs": [
    {
     "data": {
      "text/html": [
       "<div>\n",
       "<table border=\"1\" class=\"dataframe\">\n",
       "  <thead>\n",
       "    <tr style=\"text-align: right;\">\n",
       "      <th></th>\n",
       "      <th>Time</th>\n",
       "      <th>Core</th>\n",
       "      <th>Regular</th>\n",
       "      <th>Casual</th>\n",
       "      <th>Quarter</th>\n",
       "    </tr>\n",
       "  </thead>\n",
       "  <tbody>\n",
       "    <tr>\n",
       "      <th>0</th>\n",
       "      <td>2015-04-01T00:00:00.000Z</td>\n",
       "      <td>246.0</td>\n",
       "      <td>300.0</td>\n",
       "      <td>548.0</td>\n",
       "      <td>2015Q2</td>\n",
       "    </tr>\n",
       "    <tr>\n",
       "      <th>1</th>\n",
       "      <td>2015-07-01T00:00:00.000Z</td>\n",
       "      <td>300.0</td>\n",
       "      <td>369.0</td>\n",
       "      <td>1206.0</td>\n",
       "      <td>2015Q3</td>\n",
       "    </tr>\n",
       "    <tr>\n",
       "      <th>2</th>\n",
       "      <td>2015-10-01T00:00:00.000Z</td>\n",
       "      <td>282.0</td>\n",
       "      <td>428.0</td>\n",
       "      <td>1525.0</td>\n",
       "      <td>2015Q4</td>\n",
       "    </tr>\n",
       "    <tr>\n",
       "      <th>3</th>\n",
       "      <td>2016-01-01T00:00:00.000Z</td>\n",
       "      <td>321.0</td>\n",
       "      <td>459.0</td>\n",
       "      <td>1626.0</td>\n",
       "      <td>2016Q1</td>\n",
       "    </tr>\n",
       "    <tr>\n",
       "      <th>4</th>\n",
       "      <td>2016-04-01T00:00:00.000Z</td>\n",
       "      <td>330.0</td>\n",
       "      <td>422.0</td>\n",
       "      <td>1548.0</td>\n",
       "      <td>2016Q2</td>\n",
       "    </tr>\n",
       "    <tr>\n",
       "      <th>5</th>\n",
       "      <td>2016-07-01T00:00:00.000Z</td>\n",
       "      <td>337.0</td>\n",
       "      <td>428.0</td>\n",
       "      <td>1500.0</td>\n",
       "      <td>2016Q3</td>\n",
       "    </tr>\n",
       "    <tr>\n",
       "      <th>6</th>\n",
       "      <td>2016-10-01T00:00:00.000Z</td>\n",
       "      <td>282.0</td>\n",
       "      <td>359.0</td>\n",
       "      <td>1296.0</td>\n",
       "      <td>2016Q4</td>\n",
       "    </tr>\n",
       "    <tr>\n",
       "      <th>7</th>\n",
       "      <td>2017-01-01T00:00:00.000Z</td>\n",
       "      <td>257.0</td>\n",
       "      <td>375.0</td>\n",
       "      <td>1190.0</td>\n",
       "      <td>2017Q1</td>\n",
       "    </tr>\n",
       "    <tr>\n",
       "      <th>8</th>\n",
       "      <td>2017-04-01T00:00:00.000Z</td>\n",
       "      <td>151.0</td>\n",
       "      <td>256.0</td>\n",
       "      <td>469.0</td>\n",
       "      <td>2017Q2</td>\n",
       "    </tr>\n",
       "  </tbody>\n",
       "</table>\n",
       "</div>"
      ],
      "text/plain": [
       "                       Time   Core  Regular  Casual Quarter\n",
       "0  2015-04-01T00:00:00.000Z  246.0    300.0   548.0  2015Q2\n",
       "1  2015-07-01T00:00:00.000Z  300.0    369.0  1206.0  2015Q3\n",
       "2  2015-10-01T00:00:00.000Z  282.0    428.0  1525.0  2015Q4\n",
       "3  2016-01-01T00:00:00.000Z  321.0    459.0  1626.0  2016Q1\n",
       "4  2016-04-01T00:00:00.000Z  330.0    422.0  1548.0  2016Q2\n",
       "5  2016-07-01T00:00:00.000Z  337.0    428.0  1500.0  2016Q3\n",
       "6  2016-10-01T00:00:00.000Z  282.0    359.0  1296.0  2016Q4\n",
       "7  2017-01-01T00:00:00.000Z  257.0    375.0  1190.0  2017Q1\n",
       "8  2017-04-01T00:00:00.000Z  151.0    256.0   469.0  2017Q2"
      ]
     },
     "execution_count": 6,
     "metadata": {},
     "output_type": "execute_result"
    }
   ],
   "source": [
    "s = Search(using=es_conn, index='git')\n",
    "\n",
    "s = s.filter('range', grimoire_creation_date={'gt': 'now/M-2y', 'lt': 'now/M'})\n",
    "# Unique count of Commits by Authors\n",
    "s.aggs.bucket('authors', 'terms', field='author_uuid', size=100000)\\\n",
    "    .bucket('time', 'date_histogram', field='grimoire_creation_date', interval='quarter')\\\n",
    "    .metric('commits', 'cardinality', field='hash', precision_threshold=1000)\n",
    "result = s.execute()\n",
    "\n",
    "onion_df=onion_evolution(result, bucket_column='Author', time_column='Time', value_column='Commits',\\\n",
    "      bucket_field='authors', time_field='time', metric_field='commits')\n",
    "\n",
    "# Calculate quarters\n",
    "#onion_df['Quarter'] = pandas.PeriodIndex(pandas.to_datetime(onion_df.Time), freq='Q')\n",
    "onion_df['Quarter'] = onion_df['Time'].map(lambda x: str(pandas.Period(x,'Q')))\n",
    "\n",
    "onion_df"
   ]
  },
  {
   "cell_type": "code",
   "execution_count": 7,
   "metadata": {
    "collapsed": false
   },
   "outputs": [
    {
     "data": {
      "text/html": [
       "<script>requirejs.config({paths: { 'plotly': ['https://cdn.plot.ly/plotly-latest.min']},});if(!window.Plotly) {{require(['plotly'],function(plotly) {window.Plotly=plotly;});}}</script>"
      ],
      "text/vnd.plotly.v1+html": [
       "<script>requirejs.config({paths: { 'plotly': ['https://cdn.plot.ly/plotly-latest.min']},});if(!window.Plotly) {{require(['plotly'],function(plotly) {window.Plotly=plotly;});}}</script>"
      ]
     },
     "metadata": {},
     "output_type": "display_data"
    },
    {
     "data": {
      "application/vnd.plotly.v1+json": {
       "data": [
        {
         "name": "Core",
         "type": "bar",
         "x": [
          "2015Q2",
          "2015Q3",
          "2015Q4",
          "2016Q1",
          "2016Q2",
          "2016Q3",
          "2016Q4",
          "2017Q1",
          "2017Q2"
         ],
         "y": [
          246,
          300,
          282,
          321,
          330,
          337,
          282,
          257,
          151
         ]
        },
        {
         "name": "Regular",
         "type": "bar",
         "x": [
          "2015Q2",
          "2015Q3",
          "2015Q4",
          "2016Q1",
          "2016Q2",
          "2016Q3",
          "2016Q4",
          "2017Q1",
          "2017Q2"
         ],
         "y": [
          300,
          369,
          428,
          459,
          422,
          428,
          359,
          375,
          256
         ]
        },
        {
         "name": "Casual",
         "type": "bar",
         "x": [
          "2015Q2",
          "2015Q3",
          "2015Q4",
          "2016Q1",
          "2016Q2",
          "2016Q3",
          "2016Q4",
          "2017Q1",
          "2017Q2"
         ],
         "y": [
          548,
          1206,
          1525,
          1626,
          1548,
          1500,
          1296,
          1190,
          469
         ]
        }
       ],
       "layout": {
        "barmode": "group",
        "title": "Global Contribution Groups"
       }
      },
      "text/html": [
       "<div id=\"c9a5919c-f97f-4e7c-81ba-b974a27fa69f\" style=\"height: 525px; width: 100%;\" class=\"plotly-graph-div\"></div><script type=\"text/javascript\">require([\"plotly\"], function(Plotly) { window.PLOTLYENV=window.PLOTLYENV || {};window.PLOTLYENV.BASE_URL=\"https://plot.ly\";Plotly.newPlot(\"c9a5919c-f97f-4e7c-81ba-b974a27fa69f\", [{\"y\": [246.0, 300.0, 282.0, 321.0, 330.0, 337.0, 282.0, 257.0, 151.0], \"type\": \"bar\", \"name\": \"Core\", \"x\": [\"2015Q2\", \"2015Q3\", \"2015Q4\", \"2016Q1\", \"2016Q2\", \"2016Q3\", \"2016Q4\", \"2017Q1\", \"2017Q2\"]}, {\"y\": [300.0, 369.0, 428.0, 459.0, 422.0, 428.0, 359.0, 375.0, 256.0], \"type\": \"bar\", \"name\": \"Regular\", \"x\": [\"2015Q2\", \"2015Q3\", \"2015Q4\", \"2016Q1\", \"2016Q2\", \"2016Q3\", \"2016Q4\", \"2017Q1\", \"2017Q2\"]}, {\"y\": [548.0, 1206.0, 1525.0, 1626.0, 1548.0, 1500.0, 1296.0, 1190.0, 469.0], \"type\": \"bar\", \"name\": \"Casual\", \"x\": [\"2015Q2\", \"2015Q3\", \"2015Q4\", \"2016Q1\", \"2016Q2\", \"2016Q3\", \"2016Q4\", \"2017Q1\", \"2017Q2\"]}], {\"barmode\": \"group\", \"title\": \"Global Contribution Groups\"}, {\"showLink\": true, \"linkText\": \"Export to plot.ly\"})});</script>"
      ],
      "text/vnd.plotly.v1+html": [
       "<div id=\"c9a5919c-f97f-4e7c-81ba-b974a27fa69f\" style=\"height: 525px; width: 100%;\" class=\"plotly-graph-div\"></div><script type=\"text/javascript\">require([\"plotly\"], function(Plotly) { window.PLOTLYENV=window.PLOTLYENV || {};window.PLOTLYENV.BASE_URL=\"https://plot.ly\";Plotly.newPlot(\"c9a5919c-f97f-4e7c-81ba-b974a27fa69f\", [{\"y\": [246.0, 300.0, 282.0, 321.0, 330.0, 337.0, 282.0, 257.0, 151.0], \"type\": \"bar\", \"name\": \"Core\", \"x\": [\"2015Q2\", \"2015Q3\", \"2015Q4\", \"2016Q1\", \"2016Q2\", \"2016Q3\", \"2016Q4\", \"2017Q1\", \"2017Q2\"]}, {\"y\": [300.0, 369.0, 428.0, 459.0, 422.0, 428.0, 359.0, 375.0, 256.0], \"type\": \"bar\", \"name\": \"Regular\", \"x\": [\"2015Q2\", \"2015Q3\", \"2015Q4\", \"2016Q1\", \"2016Q2\", \"2016Q3\", \"2016Q4\", \"2017Q1\", \"2017Q2\"]}, {\"y\": [548.0, 1206.0, 1525.0, 1626.0, 1548.0, 1500.0, 1296.0, 1190.0, 469.0], \"type\": \"bar\", \"name\": \"Casual\", \"x\": [\"2015Q2\", \"2015Q3\", \"2015Q4\", \"2016Q1\", \"2016Q2\", \"2016Q3\", \"2016Q4\", \"2017Q1\", \"2017Q2\"]}], {\"barmode\": \"group\", \"title\": \"Global Contribution Groups\"}, {\"showLink\": true, \"linkText\": \"Export to plot.ly\"})});</script>"
      ]
     },
     "metadata": {},
     "output_type": "display_data"
    }
   ],
   "source": [
    "print_grouped_bar(onion_df, 'Quarter', ['Core', 'Regular', 'Casual'], 'Global Contribution Groups')"
   ]
  },
  {
   "cell_type": "markdown",
   "metadata": {
    "collapsed": true
   },
   "source": [
    "### Compare Staff vs Community"
   ]
  },
  {
   "cell_type": "code",
   "execution_count": 8,
   "metadata": {
    "collapsed": false
   },
   "outputs": [
    {
     "data": {
      "text/html": [
       "<div>\n",
       "<table border=\"1\" class=\"dataframe\">\n",
       "  <thead>\n",
       "    <tr style=\"text-align: right;\">\n",
       "      <th></th>\n",
       "      <th>Time</th>\n",
       "      <th>Core</th>\n",
       "      <th>Regular</th>\n",
       "      <th>Casual</th>\n",
       "      <th>Quarter</th>\n",
       "      <th>Organization</th>\n",
       "    </tr>\n",
       "  </thead>\n",
       "  <tbody>\n",
       "    <tr>\n",
       "      <th>0</th>\n",
       "      <td>2015-04-01T00:00:00.000Z</td>\n",
       "      <td>185.0</td>\n",
       "      <td>164.0</td>\n",
       "      <td>234.0</td>\n",
       "      <td>2015Q2</td>\n",
       "      <td>Mozilla Staff</td>\n",
       "    </tr>\n",
       "    <tr>\n",
       "      <th>1</th>\n",
       "      <td>2015-07-01T00:00:00.000Z</td>\n",
       "      <td>222.0</td>\n",
       "      <td>195.0</td>\n",
       "      <td>369.0</td>\n",
       "      <td>2015Q3</td>\n",
       "      <td>Mozilla Staff</td>\n",
       "    </tr>\n",
       "    <tr>\n",
       "      <th>2</th>\n",
       "      <td>2015-10-01T00:00:00.000Z</td>\n",
       "      <td>205.0</td>\n",
       "      <td>186.0</td>\n",
       "      <td>442.0</td>\n",
       "      <td>2015Q4</td>\n",
       "      <td>Mozilla Staff</td>\n",
       "    </tr>\n",
       "    <tr>\n",
       "      <th>3</th>\n",
       "      <td>2016-01-01T00:00:00.000Z</td>\n",
       "      <td>225.0</td>\n",
       "      <td>176.0</td>\n",
       "      <td>448.0</td>\n",
       "      <td>2016Q1</td>\n",
       "      <td>Mozilla Staff</td>\n",
       "    </tr>\n",
       "    <tr>\n",
       "      <th>4</th>\n",
       "      <td>2016-04-01T00:00:00.000Z</td>\n",
       "      <td>232.0</td>\n",
       "      <td>191.0</td>\n",
       "      <td>427.0</td>\n",
       "      <td>2016Q2</td>\n",
       "      <td>Mozilla Staff</td>\n",
       "    </tr>\n",
       "    <tr>\n",
       "      <th>5</th>\n",
       "      <td>2016-07-01T00:00:00.000Z</td>\n",
       "      <td>235.0</td>\n",
       "      <td>184.0</td>\n",
       "      <td>402.0</td>\n",
       "      <td>2016Q3</td>\n",
       "      <td>Mozilla Staff</td>\n",
       "    </tr>\n",
       "    <tr>\n",
       "      <th>6</th>\n",
       "      <td>2016-10-01T00:00:00.000Z</td>\n",
       "      <td>216.0</td>\n",
       "      <td>175.0</td>\n",
       "      <td>348.0</td>\n",
       "      <td>2016Q4</td>\n",
       "      <td>Mozilla Staff</td>\n",
       "    </tr>\n",
       "    <tr>\n",
       "      <th>7</th>\n",
       "      <td>2017-01-01T00:00:00.000Z</td>\n",
       "      <td>190.0</td>\n",
       "      <td>174.0</td>\n",
       "      <td>318.0</td>\n",
       "      <td>2017Q1</td>\n",
       "      <td>Mozilla Staff</td>\n",
       "    </tr>\n",
       "    <tr>\n",
       "      <th>8</th>\n",
       "      <td>2017-04-01T00:00:00.000Z</td>\n",
       "      <td>108.0</td>\n",
       "      <td>119.0</td>\n",
       "      <td>196.0</td>\n",
       "      <td>2017Q2</td>\n",
       "      <td>Mozilla Staff</td>\n",
       "    </tr>\n",
       "  </tbody>\n",
       "</table>\n",
       "</div>"
      ],
      "text/plain": [
       "                       Time   Core  Regular  Casual Quarter   Organization\n",
       "0  2015-04-01T00:00:00.000Z  185.0    164.0   234.0  2015Q2  Mozilla Staff\n",
       "1  2015-07-01T00:00:00.000Z  222.0    195.0   369.0  2015Q3  Mozilla Staff\n",
       "2  2015-10-01T00:00:00.000Z  205.0    186.0   442.0  2015Q4  Mozilla Staff\n",
       "3  2016-01-01T00:00:00.000Z  225.0    176.0   448.0  2016Q1  Mozilla Staff\n",
       "4  2016-04-01T00:00:00.000Z  232.0    191.0   427.0  2016Q2  Mozilla Staff\n",
       "5  2016-07-01T00:00:00.000Z  235.0    184.0   402.0  2016Q3  Mozilla Staff\n",
       "6  2016-10-01T00:00:00.000Z  216.0    175.0   348.0  2016Q4  Mozilla Staff\n",
       "7  2017-01-01T00:00:00.000Z  190.0    174.0   318.0  2017Q1  Mozilla Staff\n",
       "8  2017-04-01T00:00:00.000Z  108.0    119.0   196.0  2017Q2  Mozilla Staff"
      ]
     },
     "execution_count": 8,
     "metadata": {},
     "output_type": "execute_result"
    }
   ],
   "source": [
    "s = Search(using=es_conn, index='git')\n",
    "\n",
    "s = s.filter('range', grimoire_creation_date={'gt': 'now/M-2y', 'lt': 'now/M'})\n",
    "\n",
    "\n",
    "### CHANGE THIS TO MOZILLA STAFF ONCE AWS ES IS READY AGAIN ######\n",
    "s = s.filter('terms', author_org_name=['Mozilla Staff'])\n",
    "##################################################################\n",
    "\n",
    "\n",
    "# Unique count of Commits by Project (max 100 projects)\n",
    "s.aggs.bucket('authors', 'terms', field='author_uuid', size=100000)\\\n",
    "    .bucket('time', 'date_histogram', field='grimoire_creation_date', interval='quarter')\\\n",
    "    .metric('commits', 'cardinality', field='hash', precision_threshold=1000)\n",
    "result = s.execute()\n",
    "\n",
    "moz_onion_df = onion_evolution(result, bucket_column='Author', time_column='Time', value_column='Commits',\\\n",
    "      bucket_field='authors', time_field='time', metric_field='commits')\n",
    "\n",
    "# Calculate quarters\n",
    "#onion_df['Quarter'] = pandas.PeriodIndex(pandas.to_datetime(onion_df.Time), freq='Q')\n",
    "moz_onion_df['Quarter'] = moz_onion_df['Time'].map(lambda x: str(pandas.Period(x,'Q')))\n",
    "moz_onion_df['Organization'] = 'Mozilla Staff'\n",
    "\n",
    "moz_onion_df"
   ]
  },
  {
   "cell_type": "code",
   "execution_count": 9,
   "metadata": {
    "collapsed": false
   },
   "outputs": [
    {
     "data": {
      "text/html": [
       "<div>\n",
       "<table border=\"1\" class=\"dataframe\">\n",
       "  <thead>\n",
       "    <tr style=\"text-align: right;\">\n",
       "      <th></th>\n",
       "      <th>Time</th>\n",
       "      <th>Core</th>\n",
       "      <th>Regular</th>\n",
       "      <th>Casual</th>\n",
       "      <th>Quarter</th>\n",
       "      <th>Organization</th>\n",
       "    </tr>\n",
       "  </thead>\n",
       "  <tbody>\n",
       "    <tr>\n",
       "      <th>0</th>\n",
       "      <td>2015-04-01T00:00:00.000Z</td>\n",
       "      <td>75.0</td>\n",
       "      <td>204.0</td>\n",
       "      <td>232.0</td>\n",
       "      <td>2015Q2</td>\n",
       "      <td>Other</td>\n",
       "    </tr>\n",
       "    <tr>\n",
       "      <th>1</th>\n",
       "      <td>2015-07-01T00:00:00.000Z</td>\n",
       "      <td>107.0</td>\n",
       "      <td>329.0</td>\n",
       "      <td>653.0</td>\n",
       "      <td>2015Q3</td>\n",
       "      <td>Other</td>\n",
       "    </tr>\n",
       "    <tr>\n",
       "      <th>2</th>\n",
       "      <td>2015-10-01T00:00:00.000Z</td>\n",
       "      <td>120.0</td>\n",
       "      <td>410.0</td>\n",
       "      <td>872.0</td>\n",
       "      <td>2015Q4</td>\n",
       "      <td>Other</td>\n",
       "    </tr>\n",
       "    <tr>\n",
       "      <th>3</th>\n",
       "      <td>2016-01-01T00:00:00.000Z</td>\n",
       "      <td>166.0</td>\n",
       "      <td>461.0</td>\n",
       "      <td>930.0</td>\n",
       "      <td>2016Q1</td>\n",
       "      <td>Other</td>\n",
       "    </tr>\n",
       "    <tr>\n",
       "      <th>4</th>\n",
       "      <td>2016-04-01T00:00:00.000Z</td>\n",
       "      <td>140.0</td>\n",
       "      <td>399.0</td>\n",
       "      <td>911.0</td>\n",
       "      <td>2016Q2</td>\n",
       "      <td>Other</td>\n",
       "    </tr>\n",
       "    <tr>\n",
       "      <th>5</th>\n",
       "      <td>2016-07-01T00:00:00.000Z</td>\n",
       "      <td>140.0</td>\n",
       "      <td>409.0</td>\n",
       "      <td>895.0</td>\n",
       "      <td>2016Q3</td>\n",
       "      <td>Other</td>\n",
       "    </tr>\n",
       "    <tr>\n",
       "      <th>6</th>\n",
       "      <td>2016-10-01T00:00:00.000Z</td>\n",
       "      <td>71.0</td>\n",
       "      <td>302.0</td>\n",
       "      <td>825.0</td>\n",
       "      <td>2016Q4</td>\n",
       "      <td>Other</td>\n",
       "    </tr>\n",
       "    <tr>\n",
       "      <th>7</th>\n",
       "      <td>2017-01-01T00:00:00.000Z</td>\n",
       "      <td>69.0</td>\n",
       "      <td>293.0</td>\n",
       "      <td>778.0</td>\n",
       "      <td>2017Q1</td>\n",
       "      <td>Other</td>\n",
       "    </tr>\n",
       "    <tr>\n",
       "      <th>8</th>\n",
       "      <td>2017-04-01T00:00:00.000Z</td>\n",
       "      <td>43.0</td>\n",
       "      <td>145.0</td>\n",
       "      <td>265.0</td>\n",
       "      <td>2017Q2</td>\n",
       "      <td>Other</td>\n",
       "    </tr>\n",
       "  </tbody>\n",
       "</table>\n",
       "</div>"
      ],
      "text/plain": [
       "                       Time   Core  Regular  Casual Quarter Organization\n",
       "0  2015-04-01T00:00:00.000Z   75.0    204.0   232.0  2015Q2        Other\n",
       "1  2015-07-01T00:00:00.000Z  107.0    329.0   653.0  2015Q3        Other\n",
       "2  2015-10-01T00:00:00.000Z  120.0    410.0   872.0  2015Q4        Other\n",
       "3  2016-01-01T00:00:00.000Z  166.0    461.0   930.0  2016Q1        Other\n",
       "4  2016-04-01T00:00:00.000Z  140.0    399.0   911.0  2016Q2        Other\n",
       "5  2016-07-01T00:00:00.000Z  140.0    409.0   895.0  2016Q3        Other\n",
       "6  2016-10-01T00:00:00.000Z   71.0    302.0   825.0  2016Q4        Other\n",
       "7  2017-01-01T00:00:00.000Z   69.0    293.0   778.0  2017Q1        Other\n",
       "8  2017-04-01T00:00:00.000Z   43.0    145.0   265.0  2017Q2        Other"
      ]
     },
     "execution_count": 9,
     "metadata": {},
     "output_type": "execute_result"
    }
   ],
   "source": [
    "s = Search(using=es_conn, index='git')\n",
    "\n",
    "s = s.filter('range', grimoire_creation_date={'gt': 'now/M-2y', 'lt': 'now/M'})\n",
    "\n",
    "\n",
    "### CHANGE THIS TO MOZILLA STAFF ONCE AWS ES IS READY AGAIN ######\n",
    "s = s.exclude('terms', author_org_name=['Mozilla Staff'])\n",
    "##################################################################\n",
    "\n",
    "\n",
    "# Unique count of Commits by Project (max 100 projects)\n",
    "s.aggs.bucket('authors', 'terms', field='author_uuid', size=100000)\\\n",
    "    .bucket('time', 'date_histogram', field='grimoire_creation_date', interval='quarter')\\\n",
    "    .metric('commits', 'cardinality', field='hash', precision_threshold=1000)\n",
    "result = s.execute()\n",
    "\n",
    "com_onion_df = onion_evolution(result, bucket_column='Author', time_column='Time', value_column='Commits',\\\n",
    "      bucket_field='authors', time_field='time', metric_field='commits')\n",
    "\n",
    "# Calculate quarters\n",
    "#onion_df['Quarter'] = pandas.PeriodIndex(pandas.to_datetime(onion_df.Time), freq='Q')\n",
    "com_onion_df['Quarter'] = com_onion_df['Time'].map(lambda x: str(pandas.Period(x,'Q')))\n",
    "com_onion_df['Organization'] = 'Other'\n",
    "\n",
    "com_onion_df"
   ]
  },
  {
   "cell_type": "code",
   "execution_count": 10,
   "metadata": {
    "collapsed": false
   },
   "outputs": [
    {
     "data": {
      "text/html": [
       "<script>requirejs.config({paths: { 'plotly': ['https://cdn.plot.ly/plotly-latest.min']},});if(!window.Plotly) {{require(['plotly'],function(plotly) {window.Plotly=plotly;});}}</script>"
      ],
      "text/vnd.plotly.v1+html": [
       "<script>requirejs.config({paths: { 'plotly': ['https://cdn.plot.ly/plotly-latest.min']},});if(!window.Plotly) {{require(['plotly'],function(plotly) {window.Plotly=plotly;});}}</script>"
      ]
     },
     "metadata": {},
     "output_type": "display_data"
    },
    {
     "data": {
      "application/vnd.plotly.v1+json": {
       "data": [
        {
         "name": "Core",
         "type": "bar",
         "x": [
          "2015Q2",
          "2015Q3",
          "2015Q4",
          "2016Q1",
          "2016Q2",
          "2016Q3",
          "2016Q4",
          "2017Q1",
          "2017Q2"
         ],
         "y": [
          185,
          222,
          205,
          225,
          232,
          235,
          216,
          190,
          108
         ]
        },
        {
         "name": "Regular",
         "type": "bar",
         "x": [
          "2015Q2",
          "2015Q3",
          "2015Q4",
          "2016Q1",
          "2016Q2",
          "2016Q3",
          "2016Q4",
          "2017Q1",
          "2017Q2"
         ],
         "y": [
          164,
          195,
          186,
          176,
          191,
          184,
          175,
          174,
          119
         ]
        },
        {
         "name": "Casual",
         "type": "bar",
         "x": [
          "2015Q2",
          "2015Q3",
          "2015Q4",
          "2016Q1",
          "2016Q2",
          "2016Q3",
          "2016Q4",
          "2017Q1",
          "2017Q2"
         ],
         "y": [
          234,
          369,
          442,
          448,
          427,
          402,
          348,
          318,
          196
         ]
        }
       ],
       "layout": {
        "barmode": "group",
        "title": "Staff Contributors"
       }
      },
      "text/html": [
       "<div id=\"2f707614-87ea-4314-b919-a57e48fefe67\" style=\"height: 525px; width: 100%;\" class=\"plotly-graph-div\"></div><script type=\"text/javascript\">require([\"plotly\"], function(Plotly) { window.PLOTLYENV=window.PLOTLYENV || {};window.PLOTLYENV.BASE_URL=\"https://plot.ly\";Plotly.newPlot(\"2f707614-87ea-4314-b919-a57e48fefe67\", [{\"y\": [185.0, 222.0, 205.0, 225.0, 232.0, 235.0, 216.0, 190.0, 108.0], \"type\": \"bar\", \"name\": \"Core\", \"x\": [\"2015Q2\", \"2015Q3\", \"2015Q4\", \"2016Q1\", \"2016Q2\", \"2016Q3\", \"2016Q4\", \"2017Q1\", \"2017Q2\"]}, {\"y\": [164.0, 195.0, 186.0, 176.0, 191.0, 184.0, 175.0, 174.0, 119.0], \"type\": \"bar\", \"name\": \"Regular\", \"x\": [\"2015Q2\", \"2015Q3\", \"2015Q4\", \"2016Q1\", \"2016Q2\", \"2016Q3\", \"2016Q4\", \"2017Q1\", \"2017Q2\"]}, {\"y\": [234.0, 369.0, 442.0, 448.0, 427.0, 402.0, 348.0, 318.0, 196.0], \"type\": \"bar\", \"name\": \"Casual\", \"x\": [\"2015Q2\", \"2015Q3\", \"2015Q4\", \"2016Q1\", \"2016Q2\", \"2016Q3\", \"2016Q4\", \"2017Q1\", \"2017Q2\"]}], {\"barmode\": \"group\", \"title\": \"Staff Contributors\"}, {\"showLink\": true, \"linkText\": \"Export to plot.ly\"})});</script>"
      ],
      "text/vnd.plotly.v1+html": [
       "<div id=\"2f707614-87ea-4314-b919-a57e48fefe67\" style=\"height: 525px; width: 100%;\" class=\"plotly-graph-div\"></div><script type=\"text/javascript\">require([\"plotly\"], function(Plotly) { window.PLOTLYENV=window.PLOTLYENV || {};window.PLOTLYENV.BASE_URL=\"https://plot.ly\";Plotly.newPlot(\"2f707614-87ea-4314-b919-a57e48fefe67\", [{\"y\": [185.0, 222.0, 205.0, 225.0, 232.0, 235.0, 216.0, 190.0, 108.0], \"type\": \"bar\", \"name\": \"Core\", \"x\": [\"2015Q2\", \"2015Q3\", \"2015Q4\", \"2016Q1\", \"2016Q2\", \"2016Q3\", \"2016Q4\", \"2017Q1\", \"2017Q2\"]}, {\"y\": [164.0, 195.0, 186.0, 176.0, 191.0, 184.0, 175.0, 174.0, 119.0], \"type\": \"bar\", \"name\": \"Regular\", \"x\": [\"2015Q2\", \"2015Q3\", \"2015Q4\", \"2016Q1\", \"2016Q2\", \"2016Q3\", \"2016Q4\", \"2017Q1\", \"2017Q2\"]}, {\"y\": [234.0, 369.0, 442.0, 448.0, 427.0, 402.0, 348.0, 318.0, 196.0], \"type\": \"bar\", \"name\": \"Casual\", \"x\": [\"2015Q2\", \"2015Q3\", \"2015Q4\", \"2016Q1\", \"2016Q2\", \"2016Q3\", \"2016Q4\", \"2017Q1\", \"2017Q2\"]}], {\"barmode\": \"group\", \"title\": \"Staff Contributors\"}, {\"showLink\": true, \"linkText\": \"Export to plot.ly\"})});</script>"
      ]
     },
     "metadata": {},
     "output_type": "display_data"
    },
    {
     "data": {
      "text/html": [
       "<script>requirejs.config({paths: { 'plotly': ['https://cdn.plot.ly/plotly-latest.min']},});if(!window.Plotly) {{require(['plotly'],function(plotly) {window.Plotly=plotly;});}}</script>"
      ],
      "text/vnd.plotly.v1+html": [
       "<script>requirejs.config({paths: { 'plotly': ['https://cdn.plot.ly/plotly-latest.min']},});if(!window.Plotly) {{require(['plotly'],function(plotly) {window.Plotly=plotly;});}}</script>"
      ]
     },
     "metadata": {},
     "output_type": "display_data"
    },
    {
     "data": {
      "application/vnd.plotly.v1+json": {
       "data": [
        {
         "name": "Core",
         "type": "bar",
         "x": [
          "2015Q2",
          "2015Q3",
          "2015Q4",
          "2016Q1",
          "2016Q2",
          "2016Q3",
          "2016Q4",
          "2017Q1",
          "2017Q2"
         ],
         "y": [
          75,
          107,
          120,
          166,
          140,
          140,
          71,
          69,
          43
         ]
        },
        {
         "name": "Regular",
         "type": "bar",
         "x": [
          "2015Q2",
          "2015Q3",
          "2015Q4",
          "2016Q1",
          "2016Q2",
          "2016Q3",
          "2016Q4",
          "2017Q1",
          "2017Q2"
         ],
         "y": [
          204,
          329,
          410,
          461,
          399,
          409,
          302,
          293,
          145
         ]
        },
        {
         "name": "Casual",
         "type": "bar",
         "x": [
          "2015Q2",
          "2015Q3",
          "2015Q4",
          "2016Q1",
          "2016Q2",
          "2016Q3",
          "2016Q4",
          "2017Q1",
          "2017Q2"
         ],
         "y": [
          232,
          653,
          872,
          930,
          911,
          895,
          825,
          778,
          265
         ]
        }
       ],
       "layout": {
        "barmode": "group",
        "title": "Other Contributors"
       }
      },
      "text/html": [
       "<div id=\"0e8fd61c-c19c-495d-9f94-1d8350ac1d59\" style=\"height: 525px; width: 100%;\" class=\"plotly-graph-div\"></div><script type=\"text/javascript\">require([\"plotly\"], function(Plotly) { window.PLOTLYENV=window.PLOTLYENV || {};window.PLOTLYENV.BASE_URL=\"https://plot.ly\";Plotly.newPlot(\"0e8fd61c-c19c-495d-9f94-1d8350ac1d59\", [{\"y\": [75.0, 107.0, 120.0, 166.0, 140.0, 140.0, 71.0, 69.0, 43.0], \"type\": \"bar\", \"name\": \"Core\", \"x\": [\"2015Q2\", \"2015Q3\", \"2015Q4\", \"2016Q1\", \"2016Q2\", \"2016Q3\", \"2016Q4\", \"2017Q1\", \"2017Q2\"]}, {\"y\": [204.0, 329.0, 410.0, 461.0, 399.0, 409.0, 302.0, 293.0, 145.0], \"type\": \"bar\", \"name\": \"Regular\", \"x\": [\"2015Q2\", \"2015Q3\", \"2015Q4\", \"2016Q1\", \"2016Q2\", \"2016Q3\", \"2016Q4\", \"2017Q1\", \"2017Q2\"]}, {\"y\": [232.0, 653.0, 872.0, 930.0, 911.0, 895.0, 825.0, 778.0, 265.0], \"type\": \"bar\", \"name\": \"Casual\", \"x\": [\"2015Q2\", \"2015Q3\", \"2015Q4\", \"2016Q1\", \"2016Q2\", \"2016Q3\", \"2016Q4\", \"2017Q1\", \"2017Q2\"]}], {\"barmode\": \"group\", \"title\": \"Other Contributors\"}, {\"showLink\": true, \"linkText\": \"Export to plot.ly\"})});</script>"
      ],
      "text/vnd.plotly.v1+html": [
       "<div id=\"0e8fd61c-c19c-495d-9f94-1d8350ac1d59\" style=\"height: 525px; width: 100%;\" class=\"plotly-graph-div\"></div><script type=\"text/javascript\">require([\"plotly\"], function(Plotly) { window.PLOTLYENV=window.PLOTLYENV || {};window.PLOTLYENV.BASE_URL=\"https://plot.ly\";Plotly.newPlot(\"0e8fd61c-c19c-495d-9f94-1d8350ac1d59\", [{\"y\": [75.0, 107.0, 120.0, 166.0, 140.0, 140.0, 71.0, 69.0, 43.0], \"type\": \"bar\", \"name\": \"Core\", \"x\": [\"2015Q2\", \"2015Q3\", \"2015Q4\", \"2016Q1\", \"2016Q2\", \"2016Q3\", \"2016Q4\", \"2017Q1\", \"2017Q2\"]}, {\"y\": [204.0, 329.0, 410.0, 461.0, 399.0, 409.0, 302.0, 293.0, 145.0], \"type\": \"bar\", \"name\": \"Regular\", \"x\": [\"2015Q2\", \"2015Q3\", \"2015Q4\", \"2016Q1\", \"2016Q2\", \"2016Q3\", \"2016Q4\", \"2017Q1\", \"2017Q2\"]}, {\"y\": [232.0, 653.0, 872.0, 930.0, 911.0, 895.0, 825.0, 778.0, 265.0], \"type\": \"bar\", \"name\": \"Casual\", \"x\": [\"2015Q2\", \"2015Q3\", \"2015Q4\", \"2016Q1\", \"2016Q2\", \"2016Q3\", \"2016Q4\", \"2017Q1\", \"2017Q2\"]}], {\"barmode\": \"group\", \"title\": \"Other Contributors\"}, {\"showLink\": true, \"linkText\": \"Export to plot.ly\"})});</script>"
      ]
     },
     "metadata": {},
     "output_type": "display_data"
    }
   ],
   "source": [
    "print_grouped_bar(moz_onion_df, 'Quarter', ['Core', 'Regular', 'Casual'], 'Staff Contributors')\n",
    "print_grouped_bar(com_onion_df, 'Quarter', ['Core', 'Regular', 'Casual'], 'Other Contributors')"
   ]
  }
 ],
 "metadata": {
  "kernelspec": {
   "display_name": "Python 3",
   "language": "python",
   "name": "python3"
  },
  "language_info": {
   "codemirror_mode": {
    "name": "ipython",
    "version": 3
   },
   "file_extension": ".py",
   "mimetype": "text/x-python",
   "name": "python",
   "nbconvert_exporter": "python",
   "pygments_lexer": "ipython3",
   "version": "3.5.2+"
  }
 },
 "nbformat": 4,
 "nbformat_minor": 2
}
