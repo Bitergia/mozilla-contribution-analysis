{
 "cells": [
  {
   "cell_type": "markdown",
   "metadata": {},
   "source": [
    "## Goal: understanding contribution patterns\n",
    "\n",
    "Analyzing groups of contributors, according to their activity patterns, and their evolution over time, helps to understand the structure of the community. These groups will be defined according to how much active they are (from casual to core contributors), and which kinds of activity they have (for example, producing code, reviewing code, submitting issues, contributing in discussions, etc.). Whenever convenient, the characterization will be combined with the contributor groups identified in the first goal.\n",
    "\n",
    "This goal is refined in the following questions:\n",
    "\n",
    "**Questions**:\n",
    "\n",
    " * How often do contributors contribute?\n",
    " * How is the structure of contribution, according to level of activity?\n",
    " * How is the structure of contribution, according to the different data sources?\n",
    " * How are the structures of contribution evolving over time?\n",
    " * How is people flowing in the structure of contribution?\n",
    "\n",
    "These questions can be answered with the following metrics:\n",
    "\n",
    "**Metrics**:\n",
    "\n",
    "(Still to be refined)\n",
    "\n",
    " * Groups of contributors, by level of activity (core, regular, casual)\n",
    " * Groups of contributors, by kind of activity (committing, opening issues, merging pull requests, etc.)\n",
    " * Groups of contributors, by kind of activity (specialists, spread, etc.)\n",
    " * Activity metrics for each group\n",
    " * Absolute number of contributors moving from one group to another\n",
    " * Fraction of contributors moving from a group to another\n",
    " \n",
    "Some of these metrics will be computed for the speficied contributor groups, over time."
   ]
  },
  {
   "cell_type": "markdown",
   "metadata": {},
   "source": [
    "# Metric Calculations\n",
    "First we need to load a connection against the proper ES instance. We use an external module to load credentials from a file that will not be shared. If you want to run this, please use your own credentials, just put them in a file named '.settings' (in the same directory as this notebook) following the example file 'settings.sample'.\n",
    "\n",
    "This section includes common code to manage and plot data. Queries will be available at the corresponding section.\n",
    "\n",
    "**TODO**: Add bot and merges filtering."
   ]
  },
  {
   "cell_type": "code",
   "execution_count": 9,
   "metadata": {
    "collapsed": true
   },
   "outputs": [],
   "source": [
    "import pandas\n",
    "\n",
    "import plotly as plotly\n",
    "import plotly.graph_objs as go\n",
    "\n",
    "from util import ESConnection\n",
    "from elasticsearch_dsl import Search\n",
    "\n",
    "es_conn = ESConnection()"
   ]
  },
  {
   "cell_type": "code",
   "execution_count": 10,
   "metadata": {
    "collapsed": true
   },
   "outputs": [],
   "source": [
    "def create_search(source):\n",
    "    s = Search(using=es_conn, index=source)\n",
    "    # TODO: Add bot and merges filtering.\n",
    "    #s = s.filter('range', grimoire_creation_date={'gt': 'now/M-2y', 'lt': 'now/M'})\n",
    "    s.params(timeout=30)\n",
    "    return s"
   ]
  },
  {
   "cell_type": "code",
   "execution_count": 11,
   "metadata": {
    "collapsed": true
   },
   "outputs": [],
   "source": [
    "def stack_by(result, group_column, time_column, value_column, group_field, time_field, value_field):\n",
    "    \"\"\"Creates a dataframe based on group and time values\n",
    "    \"\"\"\n",
    "    df = pandas.DataFrame(columns=[group_column, time_column, value_column])\n",
    "\n",
    "    for b in result.to_dict()['aggregations'][group_field]['buckets']:\n",
    "        for i in b[time_field]['buckets']:\n",
    "            df.loc[len(df)] = [b['key'], i['key_as_string'], i[value_field]['value']]\n",
    "    \n",
    "    return df"
   ]
  },
  {
   "cell_type": "code",
   "execution_count": 17,
   "metadata": {
    "collapsed": true
   },
   "outputs": [],
   "source": [
    "def onion(df, bucket_column, time_column, value_column):\n",
    "    \n",
    "    total = df[value_column].sum()\n",
    "    \n",
    "    percent_80 = total * 0.8\n",
    "    percent_95 = total * 0.95\n",
    "    core = 0\n",
    "    core_sum = 0\n",
    "    regular = 0\n",
    "    regular_sum = 0\n",
    "    casual = 0\n",
    "\n",
    "    for row in df.iterrows():\n",
    "        value = row[1][value_column]\n",
    "        \n",
    "        if (percent_80 > core_sum):\n",
    "            core = core + 1\n",
    "            core_sum = core_sum + value\n",
    "            regular_sum = regular_sum + value\n",
    "        elif percent_95 > regular_sum:\n",
    "            regular = regular + 1\n",
    "            regular_sum = regular_sum + value\n",
    "        else:\n",
    "            casual = casual + 1\n",
    "\n",
    "    return {\"core\":core,\n",
    "            \"regular\":regular,\n",
    "            \"casual\":casual} \n",
    "\n",
    "def onion_evolution(result, bucket_column, time_column, value_column, bucket_field, time_field, metric_field):\n",
    "    \n",
    "    df = stack_by(result, bucket_column, time_column, value_column, bucket_field, time_field, metric_field)\n",
    "    \n",
    "    onion_df = pandas.DataFrame(columns=['Time', 'Core', 'Regular', 'Casual'])\n",
    "    \n",
    "    for time in df[time_column].unique():\n",
    "        slice_df = df.loc[df['Time'] == time]\n",
    "        slice_df = slice_df.sort_values(by=value_column, ascending=False)\n",
    "        onion_result = onion(slice_df, bucket_column=bucket_column, time_column=time_column,\\\n",
    "                             value_column=value_column)\n",
    "        #print(time, '->', len(slice_df), slice_df.columns.values.tolist(), '->', onion_result)\n",
    "        onion_df.loc[len(onion_df)] = [time, onion_result['core'], onion_result['regular'], onion_result['casual']]\n",
    "        \n",
    "    \n",
    "    #print(len(df))\n",
    "    return onion_df"
   ]
  },
  {
   "cell_type": "code",
   "execution_count": 32,
   "metadata": {
    "collapsed": false
   },
   "outputs": [],
   "source": [
    "def print_grouped_bar(df, x_column, value_columns, title):\n",
    "    \"\"\"\n",
    "    \"\"\"\n",
    "    plotly.offline.init_notebook_mode(connected=True)\n",
    "\n",
    "    bars = []\n",
    "    x_values = df[x_column].tolist()\n",
    "    for value_column in value_columns:\n",
    "        bars.append(go.Bar(\n",
    "            x=x_values,\n",
    "            y=df[value_column].tolist(),\n",
    "            name=value_column))\n",
    "\n",
    "    layout = go.Layout(\n",
    "        barmode='group',\n",
    "        title= title\n",
    "    )\n",
    "\n",
    "    fig = go.Figure(data=bars, layout=layout)\n",
    "    plotly.offline.iplot(fig, filename='grouped-bar')"
   ]
  },
  {
   "cell_type": "markdown",
   "metadata": {},
   "source": [
    "# Metrics\n",
    "\n",
    "## Groups of contributors, by level of activity (core, regular, casual)"
   ]
  },
  {
   "cell_type": "code",
   "execution_count": 18,
   "metadata": {
    "collapsed": false
   },
   "outputs": [
    {
     "data": {
      "text/html": [
       "<div>\n",
       "<table border=\"1\" class=\"dataframe\">\n",
       "  <thead>\n",
       "    <tr style=\"text-align: right;\">\n",
       "      <th></th>\n",
       "      <th>Time</th>\n",
       "      <th>Core</th>\n",
       "      <th>Regular</th>\n",
       "      <th>Casual</th>\n",
       "      <th>Quarter</th>\n",
       "    </tr>\n",
       "  </thead>\n",
       "  <tbody>\n",
       "    <tr>\n",
       "      <th>0</th>\n",
       "      <td>2015-04-01T00:00:00.000Z</td>\n",
       "      <td>164.0</td>\n",
       "      <td>154.0</td>\n",
       "      <td>270.0</td>\n",
       "      <td>2015Q2</td>\n",
       "    </tr>\n",
       "    <tr>\n",
       "      <th>1</th>\n",
       "      <td>2015-07-01T00:00:00.000Z</td>\n",
       "      <td>154.0</td>\n",
       "      <td>160.0</td>\n",
       "      <td>405.0</td>\n",
       "      <td>2015Q3</td>\n",
       "    </tr>\n",
       "    <tr>\n",
       "      <th>2</th>\n",
       "      <td>2015-10-01T00:00:00.000Z</td>\n",
       "      <td>157.0</td>\n",
       "      <td>165.0</td>\n",
       "      <td>436.0</td>\n",
       "      <td>2015Q4</td>\n",
       "    </tr>\n",
       "    <tr>\n",
       "      <th>3</th>\n",
       "      <td>2016-01-01T00:00:00.000Z</td>\n",
       "      <td>186.0</td>\n",
       "      <td>187.0</td>\n",
       "      <td>461.0</td>\n",
       "      <td>2016Q1</td>\n",
       "    </tr>\n",
       "    <tr>\n",
       "      <th>4</th>\n",
       "      <td>2016-04-01T00:00:00.000Z</td>\n",
       "      <td>198.0</td>\n",
       "      <td>190.0</td>\n",
       "      <td>395.0</td>\n",
       "      <td>2016Q2</td>\n",
       "    </tr>\n",
       "    <tr>\n",
       "      <th>5</th>\n",
       "      <td>2016-07-01T00:00:00.000Z</td>\n",
       "      <td>172.0</td>\n",
       "      <td>158.0</td>\n",
       "      <td>255.0</td>\n",
       "      <td>2016Q3</td>\n",
       "    </tr>\n",
       "  </tbody>\n",
       "</table>\n",
       "</div>"
      ],
      "text/plain": [
       "                       Time   Core  Regular  Casual Quarter\n",
       "0  2015-04-01T00:00:00.000Z  164.0    154.0   270.0  2015Q2\n",
       "1  2015-07-01T00:00:00.000Z  154.0    160.0   405.0  2015Q3\n",
       "2  2015-10-01T00:00:00.000Z  157.0    165.0   436.0  2015Q4\n",
       "3  2016-01-01T00:00:00.000Z  186.0    187.0   461.0  2016Q1\n",
       "4  2016-04-01T00:00:00.000Z  198.0    190.0   395.0  2016Q2\n",
       "5  2016-07-01T00:00:00.000Z  172.0    158.0   255.0  2016Q3"
      ]
     },
     "execution_count": 18,
     "metadata": {},
     "output_type": "execute_result"
    }
   ],
   "source": [
    "s = Search(using=es_conn, index='git')\n",
    "\n",
    "s = s.filter('range', grimoire_creation_date={'gt': 'now/M-2y', 'lt': 'now/M'})\n",
    "# Unique count of Commits by Project (max 100 projects)\n",
    "s.aggs.bucket('authors', 'terms', field='author_uuid', size=10000)\\\n",
    "    .bucket('time', 'date_histogram', field='grimoire_creation_date', interval='quarter')\\\n",
    "    .metric('commits', 'cardinality', field='hash', precision_threshold=1000)\n",
    "result = s.execute()\n",
    "\n",
    "onion_df=onion_evolution(result, bucket_column='Author', time_column='Time', value_column='Commits',\\\n",
    "      bucket_field='authors', time_field='time', metric_field='commits')\n",
    "\n",
    "# Calculate quarters\n",
    "#onion_df['Quarter'] = pandas.PeriodIndex(pandas.to_datetime(onion_df.Time), freq='Q')\n",
    "onion_df['Quarter'] = onion_df['Time'].map(lambda x: str(pandas.Period(x,'Q')))\n",
    "\n",
    "onion_df"
   ]
  },
  {
   "cell_type": "code",
   "execution_count": 33,
   "metadata": {
    "collapsed": false
   },
   "outputs": [
    {
     "data": {
      "text/html": [
       "<script>requirejs.config({paths: { 'plotly': ['https://cdn.plot.ly/plotly-latest.min']},});if(!window.Plotly) {{require(['plotly'],function(plotly) {window.Plotly=plotly;});}}</script>"
      ],
      "text/vnd.plotly.v1+html": [
       "<script>requirejs.config({paths: { 'plotly': ['https://cdn.plot.ly/plotly-latest.min']},});if(!window.Plotly) {{require(['plotly'],function(plotly) {window.Plotly=plotly;});}}</script>"
      ]
     },
     "metadata": {},
     "output_type": "display_data"
    },
    {
     "data": {
      "application/vnd.plotly.v1+json": {
       "data": [
        {
         "name": "Core",
         "type": "bar",
         "x": [
          "2015Q2",
          "2015Q3",
          "2015Q4",
          "2016Q1",
          "2016Q2",
          "2016Q3"
         ],
         "y": [
          96,
          90,
          90,
          106,
          111,
          101
         ]
        },
        {
         "name": "Regular",
         "type": "bar",
         "x": [
          "2015Q2",
          "2015Q3",
          "2015Q4",
          "2016Q1",
          "2016Q2",
          "2016Q3"
         ],
         "y": [
          107,
          107,
          124,
          130,
          140,
          109
         ]
        },
        {
         "name": "Casual",
         "type": "bar",
         "x": [
          "2015Q2",
          "2015Q3",
          "2015Q4",
          "2016Q1",
          "2016Q2",
          "2016Q3"
         ],
         "y": [
          184,
          294,
          313,
          341,
          289,
          179
         ]
        }
       ],
       "layout": {
        "barmode": "group",
        "title": "Global Contribution Groups"
       }
      },
      "text/html": [
       "<div id=\"7a0c658d-f6c6-4c64-b663-00e2b0c74f65\" style=\"height: 525px; width: 100%;\" class=\"plotly-graph-div\"></div><script type=\"text/javascript\">require([\"plotly\"], function(Plotly) { window.PLOTLYENV=window.PLOTLYENV || {};window.PLOTLYENV.BASE_URL=\"https://plot.ly\";Plotly.newPlot(\"7a0c658d-f6c6-4c64-b663-00e2b0c74f65\", [{\"type\": \"bar\", \"y\": [96.0, 90.0, 90.0, 106.0, 111.0, 101.0], \"x\": [\"2015Q2\", \"2015Q3\", \"2015Q4\", \"2016Q1\", \"2016Q2\", \"2016Q3\"], \"name\": \"Core\"}, {\"type\": \"bar\", \"y\": [107.0, 107.0, 124.0, 130.0, 140.0, 109.0], \"x\": [\"2015Q2\", \"2015Q3\", \"2015Q4\", \"2016Q1\", \"2016Q2\", \"2016Q3\"], \"name\": \"Regular\"}, {\"type\": \"bar\", \"y\": [184.0, 294.0, 313.0, 341.0, 289.0, 179.0], \"x\": [\"2015Q2\", \"2015Q3\", \"2015Q4\", \"2016Q1\", \"2016Q2\", \"2016Q3\"], \"name\": \"Casual\"}], {\"barmode\": \"group\", \"title\": \"Global Contribution Groups\"}, {\"showLink\": true, \"linkText\": \"Export to plot.ly\"})});</script>"
      ],
      "text/vnd.plotly.v1+html": [
       "<div id=\"7a0c658d-f6c6-4c64-b663-00e2b0c74f65\" style=\"height: 525px; width: 100%;\" class=\"plotly-graph-div\"></div><script type=\"text/javascript\">require([\"plotly\"], function(Plotly) { window.PLOTLYENV=window.PLOTLYENV || {};window.PLOTLYENV.BASE_URL=\"https://plot.ly\";Plotly.newPlot(\"7a0c658d-f6c6-4c64-b663-00e2b0c74f65\", [{\"type\": \"bar\", \"y\": [96.0, 90.0, 90.0, 106.0, 111.0, 101.0], \"x\": [\"2015Q2\", \"2015Q3\", \"2015Q4\", \"2016Q1\", \"2016Q2\", \"2016Q3\"], \"name\": \"Core\"}, {\"type\": \"bar\", \"y\": [107.0, 107.0, 124.0, 130.0, 140.0, 109.0], \"x\": [\"2015Q2\", \"2015Q3\", \"2015Q4\", \"2016Q1\", \"2016Q2\", \"2016Q3\"], \"name\": \"Regular\"}, {\"type\": \"bar\", \"y\": [184.0, 294.0, 313.0, 341.0, 289.0, 179.0], \"x\": [\"2015Q2\", \"2015Q3\", \"2015Q4\", \"2016Q1\", \"2016Q2\", \"2016Q3\"], \"name\": \"Casual\"}], {\"barmode\": \"group\", \"title\": \"Global Contribution Groups\"}, {\"showLink\": true, \"linkText\": \"Export to plot.ly\"})});</script>"
      ]
     },
     "metadata": {},
     "output_type": "display_data"
    }
   ],
   "source": [
    "print_grouped_bar(onion_df, 'Quarter', ['Core', 'Regular', 'Casual'], 'Global Contribution Groups')"
   ]
  },
  {
   "cell_type": "markdown",
   "metadata": {
    "collapsed": true
   },
   "source": [
    "### Compare Staff vs Community"
   ]
  },
  {
   "cell_type": "code",
   "execution_count": 26,
   "metadata": {
    "collapsed": false
   },
   "outputs": [
    {
     "data": {
      "text/html": [
       "<div>\n",
       "<table border=\"1\" class=\"dataframe\">\n",
       "  <thead>\n",
       "    <tr style=\"text-align: right;\">\n",
       "      <th></th>\n",
       "      <th>Time</th>\n",
       "      <th>Core</th>\n",
       "      <th>Regular</th>\n",
       "      <th>Casual</th>\n",
       "      <th>Quarter</th>\n",
       "      <th>Organization</th>\n",
       "    </tr>\n",
       "  </thead>\n",
       "  <tbody>\n",
       "    <tr>\n",
       "      <th>0</th>\n",
       "      <td>2015-04-01T00:00:00.000Z</td>\n",
       "      <td>96.0</td>\n",
       "      <td>107.0</td>\n",
       "      <td>184.0</td>\n",
       "      <td>2015Q2</td>\n",
       "      <td>Mozilla Staff</td>\n",
       "    </tr>\n",
       "    <tr>\n",
       "      <th>1</th>\n",
       "      <td>2015-07-01T00:00:00.000Z</td>\n",
       "      <td>90.0</td>\n",
       "      <td>107.0</td>\n",
       "      <td>294.0</td>\n",
       "      <td>2015Q3</td>\n",
       "      <td>Mozilla Staff</td>\n",
       "    </tr>\n",
       "    <tr>\n",
       "      <th>2</th>\n",
       "      <td>2015-10-01T00:00:00.000Z</td>\n",
       "      <td>90.0</td>\n",
       "      <td>124.0</td>\n",
       "      <td>313.0</td>\n",
       "      <td>2015Q4</td>\n",
       "      <td>Mozilla Staff</td>\n",
       "    </tr>\n",
       "    <tr>\n",
       "      <th>3</th>\n",
       "      <td>2016-01-01T00:00:00.000Z</td>\n",
       "      <td>106.0</td>\n",
       "      <td>130.0</td>\n",
       "      <td>341.0</td>\n",
       "      <td>2016Q1</td>\n",
       "      <td>Mozilla Staff</td>\n",
       "    </tr>\n",
       "    <tr>\n",
       "      <th>4</th>\n",
       "      <td>2016-04-01T00:00:00.000Z</td>\n",
       "      <td>111.0</td>\n",
       "      <td>140.0</td>\n",
       "      <td>289.0</td>\n",
       "      <td>2016Q2</td>\n",
       "      <td>Mozilla Staff</td>\n",
       "    </tr>\n",
       "    <tr>\n",
       "      <th>5</th>\n",
       "      <td>2016-07-01T00:00:00.000Z</td>\n",
       "      <td>101.0</td>\n",
       "      <td>109.0</td>\n",
       "      <td>179.0</td>\n",
       "      <td>2016Q3</td>\n",
       "      <td>Mozilla Staff</td>\n",
       "    </tr>\n",
       "  </tbody>\n",
       "</table>\n",
       "</div>"
      ],
      "text/plain": [
       "                       Time   Core  Regular  Casual Quarter   Organization\n",
       "0  2015-04-01T00:00:00.000Z   96.0    107.0   184.0  2015Q2  Mozilla Staff\n",
       "1  2015-07-01T00:00:00.000Z   90.0    107.0   294.0  2015Q3  Mozilla Staff\n",
       "2  2015-10-01T00:00:00.000Z   90.0    124.0   313.0  2015Q4  Mozilla Staff\n",
       "3  2016-01-01T00:00:00.000Z  106.0    130.0   341.0  2016Q1  Mozilla Staff\n",
       "4  2016-04-01T00:00:00.000Z  111.0    140.0   289.0  2016Q2  Mozilla Staff\n",
       "5  2016-07-01T00:00:00.000Z  101.0    109.0   179.0  2016Q3  Mozilla Staff"
      ]
     },
     "execution_count": 26,
     "metadata": {},
     "output_type": "execute_result"
    }
   ],
   "source": [
    "s = Search(using=es_conn, index='git')\n",
    "\n",
    "s = s.filter('range', grimoire_creation_date={'gt': 'now/M-2y', 'lt': 'now/M'})\n",
    "\n",
    "\n",
    "### CHANGE THIS TO MOZILLA STAFF ONCE AWS ES IS READY AGAIN ######\n",
    "s = s.filter('terms', author_org_name=['Independent'])\n",
    "##################################################################\n",
    "\n",
    "\n",
    "# Unique count of Commits by Project (max 100 projects)\n",
    "s.aggs.bucket('authors', 'terms', field='author_uuid', size=10000)\\\n",
    "    .bucket('time', 'date_histogram', field='grimoire_creation_date', interval='quarter')\\\n",
    "    .metric('commits', 'cardinality', field='hash', precision_threshold=1000)\n",
    "result = s.execute()\n",
    "\n",
    "moz_onion_df = onion_evolution(result, bucket_column='Author', time_column='Time', value_column='Commits',\\\n",
    "      bucket_field='authors', time_field='time', metric_field='commits')\n",
    "\n",
    "# Calculate quarters\n",
    "#onion_df['Quarter'] = pandas.PeriodIndex(pandas.to_datetime(onion_df.Time), freq='Q')\n",
    "moz_onion_df['Quarter'] = moz_onion_df['Time'].map(lambda x: str(pandas.Period(x,'Q')))\n",
    "moz_onion_df['Organization'] = 'Mozilla Staff'\n",
    "\n",
    "moz_onion_df"
   ]
  },
  {
   "cell_type": "code",
   "execution_count": 28,
   "metadata": {
    "collapsed": false
   },
   "outputs": [
    {
     "data": {
      "text/html": [
       "<div>\n",
       "<table border=\"1\" class=\"dataframe\">\n",
       "  <thead>\n",
       "    <tr style=\"text-align: right;\">\n",
       "      <th></th>\n",
       "      <th>Time</th>\n",
       "      <th>Core</th>\n",
       "      <th>Regular</th>\n",
       "      <th>Casual</th>\n",
       "      <th>Quarter</th>\n",
       "      <th>Organization</th>\n",
       "    </tr>\n",
       "  </thead>\n",
       "  <tbody>\n",
       "    <tr>\n",
       "      <th>0</th>\n",
       "      <td>2015-04-01T00:00:00.000Z</td>\n",
       "      <td>73.0</td>\n",
       "      <td>52.0</td>\n",
       "      <td>76.0</td>\n",
       "      <td>2015Q2</td>\n",
       "      <td>Other</td>\n",
       "    </tr>\n",
       "    <tr>\n",
       "      <th>1</th>\n",
       "      <td>2015-07-01T00:00:00.000Z</td>\n",
       "      <td>66.0</td>\n",
       "      <td>58.0</td>\n",
       "      <td>104.0</td>\n",
       "      <td>2015Q3</td>\n",
       "      <td>Other</td>\n",
       "    </tr>\n",
       "    <tr>\n",
       "      <th>2</th>\n",
       "      <td>2015-10-01T00:00:00.000Z</td>\n",
       "      <td>69.0</td>\n",
       "      <td>52.0</td>\n",
       "      <td>110.0</td>\n",
       "      <td>2015Q4</td>\n",
       "      <td>Other</td>\n",
       "    </tr>\n",
       "    <tr>\n",
       "      <th>3</th>\n",
       "      <td>2016-01-01T00:00:00.000Z</td>\n",
       "      <td>81.0</td>\n",
       "      <td>67.0</td>\n",
       "      <td>109.0</td>\n",
       "      <td>2016Q1</td>\n",
       "      <td>Other</td>\n",
       "    </tr>\n",
       "    <tr>\n",
       "      <th>4</th>\n",
       "      <td>2016-04-01T00:00:00.000Z</td>\n",
       "      <td>90.0</td>\n",
       "      <td>59.0</td>\n",
       "      <td>94.0</td>\n",
       "      <td>2016Q2</td>\n",
       "      <td>Other</td>\n",
       "    </tr>\n",
       "    <tr>\n",
       "      <th>5</th>\n",
       "      <td>2016-07-01T00:00:00.000Z</td>\n",
       "      <td>72.0</td>\n",
       "      <td>51.0</td>\n",
       "      <td>73.0</td>\n",
       "      <td>2016Q3</td>\n",
       "      <td>Other</td>\n",
       "    </tr>\n",
       "  </tbody>\n",
       "</table>\n",
       "</div>"
      ],
      "text/plain": [
       "                       Time  Core  Regular  Casual Quarter Organization\n",
       "0  2015-04-01T00:00:00.000Z  73.0     52.0    76.0  2015Q2        Other\n",
       "1  2015-07-01T00:00:00.000Z  66.0     58.0   104.0  2015Q3        Other\n",
       "2  2015-10-01T00:00:00.000Z  69.0     52.0   110.0  2015Q4        Other\n",
       "3  2016-01-01T00:00:00.000Z  81.0     67.0   109.0  2016Q1        Other\n",
       "4  2016-04-01T00:00:00.000Z  90.0     59.0    94.0  2016Q2        Other\n",
       "5  2016-07-01T00:00:00.000Z  72.0     51.0    73.0  2016Q3        Other"
      ]
     },
     "execution_count": 28,
     "metadata": {},
     "output_type": "execute_result"
    }
   ],
   "source": [
    "s = Search(using=es_conn, index='git')\n",
    "\n",
    "s = s.filter('range', grimoire_creation_date={'gt': 'now/M-2y', 'lt': 'now/M'})\n",
    "\n",
    "\n",
    "### CHANGE THIS TO MOZILLA STAFF ONCE AWS ES IS READY AGAIN ######\n",
    "s = s.exclude('terms', author_org_name=['Independent'])\n",
    "##################################################################\n",
    "\n",
    "\n",
    "# Unique count of Commits by Project (max 100 projects)\n",
    "s.aggs.bucket('authors', 'terms', field='author_uuid', size=10000)\\\n",
    "    .bucket('time', 'date_histogram', field='grimoire_creation_date', interval='quarter')\\\n",
    "    .metric('commits', 'cardinality', field='hash', precision_threshold=1000)\n",
    "result = s.execute()\n",
    "\n",
    "com_onion_df = onion_evolution(result, bucket_column='Author', time_column='Time', value_column='Commits',\\\n",
    "      bucket_field='authors', time_field='time', metric_field='commits')\n",
    "\n",
    "# Calculate quarters\n",
    "#onion_df['Quarter'] = pandas.PeriodIndex(pandas.to_datetime(onion_df.Time), freq='Q')\n",
    "com_onion_df['Quarter'] = com_onion_df['Time'].map(lambda x: str(pandas.Period(x,'Q')))\n",
    "com_onion_df['Organization'] = 'Other'\n",
    "\n",
    "com_onion_df"
   ]
  },
  {
   "cell_type": "code",
   "execution_count": 34,
   "metadata": {
    "collapsed": false
   },
   "outputs": [
    {
     "data": {
      "text/html": [
       "<script>requirejs.config({paths: { 'plotly': ['https://cdn.plot.ly/plotly-latest.min']},});if(!window.Plotly) {{require(['plotly'],function(plotly) {window.Plotly=plotly;});}}</script>"
      ],
      "text/vnd.plotly.v1+html": [
       "<script>requirejs.config({paths: { 'plotly': ['https://cdn.plot.ly/plotly-latest.min']},});if(!window.Plotly) {{require(['plotly'],function(plotly) {window.Plotly=plotly;});}}</script>"
      ]
     },
     "metadata": {},
     "output_type": "display_data"
    },
    {
     "data": {
      "application/vnd.plotly.v1+json": {
       "data": [
        {
         "name": "Core",
         "type": "bar",
         "x": [
          "2015Q2",
          "2015Q3",
          "2015Q4",
          "2016Q1",
          "2016Q2",
          "2016Q3"
         ],
         "y": [
          96,
          90,
          90,
          106,
          111,
          101
         ]
        },
        {
         "name": "Regular",
         "type": "bar",
         "x": [
          "2015Q2",
          "2015Q3",
          "2015Q4",
          "2016Q1",
          "2016Q2",
          "2016Q3"
         ],
         "y": [
          107,
          107,
          124,
          130,
          140,
          109
         ]
        },
        {
         "name": "Casual",
         "type": "bar",
         "x": [
          "2015Q2",
          "2015Q3",
          "2015Q4",
          "2016Q1",
          "2016Q2",
          "2016Q3"
         ],
         "y": [
          184,
          294,
          313,
          341,
          289,
          179
         ]
        }
       ],
       "layout": {
        "barmode": "group",
        "title": "Staff Contributors"
       }
      },
      "text/html": [
       "<div id=\"7185874c-b6ba-41db-a920-6f29986054eb\" style=\"height: 525px; width: 100%;\" class=\"plotly-graph-div\"></div><script type=\"text/javascript\">require([\"plotly\"], function(Plotly) { window.PLOTLYENV=window.PLOTLYENV || {};window.PLOTLYENV.BASE_URL=\"https://plot.ly\";Plotly.newPlot(\"7185874c-b6ba-41db-a920-6f29986054eb\", [{\"type\": \"bar\", \"y\": [96.0, 90.0, 90.0, 106.0, 111.0, 101.0], \"x\": [\"2015Q2\", \"2015Q3\", \"2015Q4\", \"2016Q1\", \"2016Q2\", \"2016Q3\"], \"name\": \"Core\"}, {\"type\": \"bar\", \"y\": [107.0, 107.0, 124.0, 130.0, 140.0, 109.0], \"x\": [\"2015Q2\", \"2015Q3\", \"2015Q4\", \"2016Q1\", \"2016Q2\", \"2016Q3\"], \"name\": \"Regular\"}, {\"type\": \"bar\", \"y\": [184.0, 294.0, 313.0, 341.0, 289.0, 179.0], \"x\": [\"2015Q2\", \"2015Q3\", \"2015Q4\", \"2016Q1\", \"2016Q2\", \"2016Q3\"], \"name\": \"Casual\"}], {\"barmode\": \"group\", \"title\": \"Staff Contributors\"}, {\"showLink\": true, \"linkText\": \"Export to plot.ly\"})});</script>"
      ],
      "text/vnd.plotly.v1+html": [
       "<div id=\"7185874c-b6ba-41db-a920-6f29986054eb\" style=\"height: 525px; width: 100%;\" class=\"plotly-graph-div\"></div><script type=\"text/javascript\">require([\"plotly\"], function(Plotly) { window.PLOTLYENV=window.PLOTLYENV || {};window.PLOTLYENV.BASE_URL=\"https://plot.ly\";Plotly.newPlot(\"7185874c-b6ba-41db-a920-6f29986054eb\", [{\"type\": \"bar\", \"y\": [96.0, 90.0, 90.0, 106.0, 111.0, 101.0], \"x\": [\"2015Q2\", \"2015Q3\", \"2015Q4\", \"2016Q1\", \"2016Q2\", \"2016Q3\"], \"name\": \"Core\"}, {\"type\": \"bar\", \"y\": [107.0, 107.0, 124.0, 130.0, 140.0, 109.0], \"x\": [\"2015Q2\", \"2015Q3\", \"2015Q4\", \"2016Q1\", \"2016Q2\", \"2016Q3\"], \"name\": \"Regular\"}, {\"type\": \"bar\", \"y\": [184.0, 294.0, 313.0, 341.0, 289.0, 179.0], \"x\": [\"2015Q2\", \"2015Q3\", \"2015Q4\", \"2016Q1\", \"2016Q2\", \"2016Q3\"], \"name\": \"Casual\"}], {\"barmode\": \"group\", \"title\": \"Staff Contributors\"}, {\"showLink\": true, \"linkText\": \"Export to plot.ly\"})});</script>"
      ]
     },
     "metadata": {},
     "output_type": "display_data"
    },
    {
     "data": {
      "text/html": [
       "<script>requirejs.config({paths: { 'plotly': ['https://cdn.plot.ly/plotly-latest.min']},});if(!window.Plotly) {{require(['plotly'],function(plotly) {window.Plotly=plotly;});}}</script>"
      ],
      "text/vnd.plotly.v1+html": [
       "<script>requirejs.config({paths: { 'plotly': ['https://cdn.plot.ly/plotly-latest.min']},});if(!window.Plotly) {{require(['plotly'],function(plotly) {window.Plotly=plotly;});}}</script>"
      ]
     },
     "metadata": {},
     "output_type": "display_data"
    },
    {
     "data": {
      "application/vnd.plotly.v1+json": {
       "data": [
        {
         "name": "Core",
         "type": "bar",
         "x": [
          "2015Q2",
          "2015Q3",
          "2015Q4",
          "2016Q1",
          "2016Q2",
          "2016Q3"
         ],
         "y": [
          73,
          66,
          69,
          81,
          90,
          72
         ]
        },
        {
         "name": "Regular",
         "type": "bar",
         "x": [
          "2015Q2",
          "2015Q3",
          "2015Q4",
          "2016Q1",
          "2016Q2",
          "2016Q3"
         ],
         "y": [
          52,
          58,
          52,
          67,
          59,
          51
         ]
        },
        {
         "name": "Casual",
         "type": "bar",
         "x": [
          "2015Q2",
          "2015Q3",
          "2015Q4",
          "2016Q1",
          "2016Q2",
          "2016Q3"
         ],
         "y": [
          76,
          104,
          110,
          109,
          94,
          73
         ]
        }
       ],
       "layout": {
        "barmode": "group",
        "title": "Other Contributors"
       }
      },
      "text/html": [
       "<div id=\"b4af2e0a-d4f3-431a-96e1-a324de57b217\" style=\"height: 525px; width: 100%;\" class=\"plotly-graph-div\"></div><script type=\"text/javascript\">require([\"plotly\"], function(Plotly) { window.PLOTLYENV=window.PLOTLYENV || {};window.PLOTLYENV.BASE_URL=\"https://plot.ly\";Plotly.newPlot(\"b4af2e0a-d4f3-431a-96e1-a324de57b217\", [{\"type\": \"bar\", \"y\": [73.0, 66.0, 69.0, 81.0, 90.0, 72.0], \"x\": [\"2015Q2\", \"2015Q3\", \"2015Q4\", \"2016Q1\", \"2016Q2\", \"2016Q3\"], \"name\": \"Core\"}, {\"type\": \"bar\", \"y\": [52.0, 58.0, 52.0, 67.0, 59.0, 51.0], \"x\": [\"2015Q2\", \"2015Q3\", \"2015Q4\", \"2016Q1\", \"2016Q2\", \"2016Q3\"], \"name\": \"Regular\"}, {\"type\": \"bar\", \"y\": [76.0, 104.0, 110.0, 109.0, 94.0, 73.0], \"x\": [\"2015Q2\", \"2015Q3\", \"2015Q4\", \"2016Q1\", \"2016Q2\", \"2016Q3\"], \"name\": \"Casual\"}], {\"barmode\": \"group\", \"title\": \"Other Contributors\"}, {\"showLink\": true, \"linkText\": \"Export to plot.ly\"})});</script>"
      ],
      "text/vnd.plotly.v1+html": [
       "<div id=\"b4af2e0a-d4f3-431a-96e1-a324de57b217\" style=\"height: 525px; width: 100%;\" class=\"plotly-graph-div\"></div><script type=\"text/javascript\">require([\"plotly\"], function(Plotly) { window.PLOTLYENV=window.PLOTLYENV || {};window.PLOTLYENV.BASE_URL=\"https://plot.ly\";Plotly.newPlot(\"b4af2e0a-d4f3-431a-96e1-a324de57b217\", [{\"type\": \"bar\", \"y\": [73.0, 66.0, 69.0, 81.0, 90.0, 72.0], \"x\": [\"2015Q2\", \"2015Q3\", \"2015Q4\", \"2016Q1\", \"2016Q2\", \"2016Q3\"], \"name\": \"Core\"}, {\"type\": \"bar\", \"y\": [52.0, 58.0, 52.0, 67.0, 59.0, 51.0], \"x\": [\"2015Q2\", \"2015Q3\", \"2015Q4\", \"2016Q1\", \"2016Q2\", \"2016Q3\"], \"name\": \"Regular\"}, {\"type\": \"bar\", \"y\": [76.0, 104.0, 110.0, 109.0, 94.0, 73.0], \"x\": [\"2015Q2\", \"2015Q3\", \"2015Q4\", \"2016Q1\", \"2016Q2\", \"2016Q3\"], \"name\": \"Casual\"}], {\"barmode\": \"group\", \"title\": \"Other Contributors\"}, {\"showLink\": true, \"linkText\": \"Export to plot.ly\"})});</script>"
      ]
     },
     "metadata": {},
     "output_type": "display_data"
    }
   ],
   "source": [
    "print_grouped_bar(moz_onion_df, 'Quarter', ['Core', 'Regular', 'Casual'], 'Staff Contributors')\n",
    "print_grouped_bar(com_onion_df, 'Quarter', ['Core', 'Regular', 'Casual'], 'Other Contributors')"
   ]
  }
 ],
 "metadata": {
  "kernelspec": {
   "display_name": "Python 3",
   "language": "python",
   "name": "python3"
  },
  "language_info": {
   "codemirror_mode": {
    "name": "ipython",
    "version": 3
   },
   "file_extension": ".py",
   "mimetype": "text/x-python",
   "name": "python",
   "nbconvert_exporter": "python",
   "pygments_lexer": "ipython3",
   "version": "3.5.2+"
  }
 },
 "nbformat": 4,
 "nbformat_minor": 2
}
